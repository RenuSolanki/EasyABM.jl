{
 "cells": [
  {
   "cell_type": "markdown",
   "metadata": {},
   "source": [
    "# Ising model on a nearest neighbor random graph\n",
    "This is another example including Ising model where the underlying graph is a random nearest neighbor graph on plane. "
   ]
  },
  {
   "cell_type": "code",
   "execution_count": 1,
   "metadata": {
    "scrolled": true
   },
   "outputs": [
    {
     "name": "stderr",
     "output_type": "stream",
     "text": [
      "\u001b[32m\u001b[1m  Activating\u001b[22m\u001b[39m project at `~/.julia/dev/EasyABM`\n"
     ]
    },
    {
     "data": {
      "application/vnd.webio.node+json": {
       "children": [],
       "instanceArgs": {
        "namespace": "html",
        "tag": "div"
       },
       "nodeType": "DOM",
       "props": {},
       "type": "node"
      },
      "text/html": [
       "<div style=\"padding: 1em; background-color: #f8d6da; border: 1px solid #f5c6cb; font-weight: bold;\">\n",
       "<p>The WebIO Jupyter extension was not detected. See the\n",
       "<a href=\"https://juliagizmos.github.io/WebIO.jl/latest/providers/ijulia/\" target=\"_blank\">\n",
       "    WebIO Jupyter integration documentation\n",
       "</a>\n",
       "for more information.\n",
       "</div>\n"
      ],
      "text/plain": [
       "WebIO._IJuliaInit()"
      ]
     },
     "metadata": {
      "application/vnd.webio.node+json": {
       "kernelId": "74d4c2da-467d-44b8-b36b-75e2d5177c39"
      }
     },
     "output_type": "display_data"
    }
   ],
   "source": [
    "using Pkg, Revise\n",
    "Pkg.activate(joinpath(@__DIR__, \"../..\"))\n",
    "using EasyABM"
   ]
  },
  {
   "cell_type": "markdown",
   "metadata": {},
   "source": [
    "## Step 1: Create Model\n",
    "\n",
    "In this model we will work solely with the graph and won't need agents. We initially create an empty graph and then create our model as follows. "
   ]
  },
  {
   "cell_type": "code",
   "execution_count": 16,
   "metadata": {},
   "outputs": [
    {
     "data": {
      "text/plain": [
       "SimplePropGraph\n",
       "vertices: Int64[]\n",
       "edges: \n"
      ]
     },
     "execution_count": 16,
     "metadata": {},
     "output_type": "execute_result"
    }
   ],
   "source": [
    "graph = dynamic_simple_graph(0)"
   ]
  },
  {
   "cell_type": "code",
   "execution_count": 17,
   "metadata": {
    "scrolled": true
   },
   "outputs": [
    {
     "data": {
      "text/plain": [
       "EasyABM GraphModel{Mortal,Static, EasyABM.SimG}: In a {Mortal,Static} model graph topology can change and agents number is fixed.\n"
      ]
     },
     "execution_count": 17,
     "metadata": {},
     "output_type": "execute_result"
    }
   ],
   "source": [
    "model = create_graph_model(graph, temp = 2.0, coupl = 2.5, nns = 5)"
   ]
  },
  {
   "cell_type": "markdown",
   "metadata": {},
   "source": [
    "## Step 2: Initialise the model\n",
    "\n",
    " In the `initialiser!` function we create a list of n = 500 random points in the plane and fill our graph with n nodes and set the position of ith node to the ith random point. We then link each node to its `nns` number of nearest neighbors and randomly set each node's color to either `:black` or `:white` and set spin value to +1 for `:black` nodes and -1 for `:white` nodes. In the `init_model!` function the argument `props_to_record` specifies the nodes properties which we want to record during model run. "
   ]
  },
  {
   "cell_type": "code",
   "execution_count": 18,
   "metadata": {},
   "outputs": [],
   "source": [
    "using NearestNeighbors"
   ]
  },
  {
   "cell_type": "code",
   "execution_count": 19,
   "metadata": {},
   "outputs": [],
   "source": [
    "const n=500;"
   ]
  },
  {
   "cell_type": "code",
   "execution_count": 20,
   "metadata": {},
   "outputs": [
    {
     "data": {
      "text/plain": [
       "initialise! (generic function with 1 method)"
      ]
     },
     "execution_count": 20,
     "metadata": {},
     "output_type": "execute_result"
    }
   ],
   "source": [
    "function initialiser!(model)\n",
    "    vecs = rand(2, n)\n",
    "    kdtree = KDTree(vecs,leafsize=4)\n",
    "    flush_graph!(model)\n",
    "    add_nodes!(n, model, color = :black, spin =1)\n",
    "    for i in 1:n \n",
    "        model.graph.nodesprops[i].pos = (vecs[1,i], vecs[2,i]) # set position of nodes\n",
    "        indices, _ = knn(kdtree, vecs[:,i], model.parameters.nns, true)\n",
    "        for j in indices\n",
    "            if j!=i\n",
    "                create_edge!(i,j, model)\n",
    "            end\n",
    "        end\n",
    "        if rand()<0.5\n",
    "            model.graph.nodesprops[i].spin = 1\n",
    "            model.graph.nodesprops[i].color = :black\n",
    "        else\n",
    "            model.graph.nodesprops[i].spin = -1\n",
    "            model.graph.nodesprops[i].color = :white\n",
    "        end\n",
    "    end\n",
    "end"
   ]
  },
  {
   "cell_type": "code",
   "execution_count": 21,
   "metadata": {},
   "outputs": [],
   "source": [
    "init_model!(model, initialiser= initialiser!, props_to_record = Dict(\"nodes\"=>[:color, :spin]))"
   ]
  },
  {
   "cell_type": "code",
   "execution_count": null,
   "metadata": {},
   "outputs": [],
   "source": [
    "draw_graph(model.graph)"
   ]
  },
  {
   "cell_type": "markdown",
   "metadata": {},
   "source": [
    "## Step 3: Run the model\n",
    "\n",
    "In this step we implement the step logic of the Ising model in the `step_rule!` function and run the model for 100 steps. At each step of the simulation we take \n",
    "100 Monte Carlo steps, where in each Monte Carlo step a node is selected at random and its spin and color values are flipped if the Ising energy condition is satisfied. "
   ]
  },
  {
   "cell_type": "code",
   "execution_count": 22,
   "metadata": {},
   "outputs": [
    {
     "data": {
      "text/plain": [
       "step_rule! (generic function with 1 method)"
      ]
     },
     "execution_count": 22,
     "metadata": {},
     "output_type": "execute_result"
    }
   ],
   "source": [
    "function step_rule!(model)\n",
    "    for i in 1:100\n",
    "        random_node = rand(1:n)\n",
    "        spin = model.graph.nodesprops[random_node].spin\n",
    "        nbr_nodes = neighbor_nodes(random_node, model)\n",
    "        de = 0.0\n",
    "        for node in nbr_nodes\n",
    "            nbr_spin = model.graph.nodesprops[node].spin\n",
    "            de += spin*nbr_spin\n",
    "        end\n",
    "        de = 2*model.parameters.coupl * de\n",
    "        if (de < 0) || (rand() < exp(-de/model.parameters.temp))\n",
    "            model.graph.nodesprops[random_node].spin = - spin\n",
    "            model.graph.nodesprops[random_node].color = spin == -1 ? :black : :white\n",
    "        end\n",
    "    end\n",
    "end"
   ]
  },
  {
   "cell_type": "code",
   "execution_count": 23,
   "metadata": {},
   "outputs": [],
   "source": [
    "run_model!(model, steps = 100, step_rule = step_rule!)"
   ]
  },
  {
   "cell_type": "code",
   "execution_count": null,
   "metadata": {},
   "outputs": [],
   "source": [
    "animate_sim(model)"
   ]
  },
  {
   "cell_type": "markdown",
   "metadata": {},
   "source": [
    "![png](assets/NNSIsing/NNSIsingAnim1.png)"
   ]
  },
  {
   "cell_type": "markdown",
   "metadata": {},
   "source": [
    "After defining the `step_rule!` function we can also choose to create an interactive application (which currently works in Jupyter with WebIO installation) as "
   ]
  },
  {
   "cell_type": "code",
   "execution_count": null,
   "metadata": {},
   "outputs": [],
   "source": [
    "create_interactive_app(model, initialiser= initialiser!,\n",
    "    props_to_record = Dict(\"nodes\"=>[:color, :spin]),\n",
    "    step_rule= step_rule!,\n",
    "    model_controls=[(:temp, :s, 0.05:0.05:5.0), \n",
    "        (:coupl, :s, 0.01:0.1:5.0),\n",
    "        (:nns, :s, 2:10)],\n",
    "    node_plots = Dict(\"magnetisation\"=> x -> x.spin),\n",
    "    frames=100) "
   ]
  },
  {
   "cell_type": "markdown",
   "metadata": {},
   "source": [
    "![png](assets/NNSIsing/NNSIsingIntApp.png)"
   ]
  },
  {
   "cell_type": "markdown",
   "metadata": {},
   "source": [
    "## Step 4: Fetch Data \n",
    "\n",
    "In this step we fetch the data of average spin of nodes (also called magnetisation) and plot the result as follows."
   ]
  },
  {
   "cell_type": "code",
   "execution_count": 24,
   "metadata": {},
   "outputs": [
    {
     "data": {
      "image/svg+xml": "<?xml version=\"1.0\" encoding=\"utf-8\"?>\n<svg xmlns=\"http://www.w3.org/2000/svg\" xmlns:xlink=\"http://www.w3.org/1999/xlink\" width=\"600\" height=\"400\" viewBox=\"0 0 2400 1600\">\n<defs>\n  <clipPath id=\"clip920\">\n    <rect x=\"0\" y=\"0\" width=\"2400\" height=\"1600\"/>\n  </clipPath>\n</defs>\n<path clip-path=\"url(#clip920)\" d=\"\nM0 1600 L2400 1600 L2400 0 L0 0  Z\n  \" fill=\"#ffffff\" fill-rule=\"evenodd\" fill-opacity=\"1\"/>\n<defs>\n  <clipPath id=\"clip921\">\n    <rect x=\"480\" y=\"0\" width=\"1681\" height=\"1600\"/>\n  </clipPath>\n</defs>\n<path clip-path=\"url(#clip920)\" d=\"\nM186.274 1423.18 L2352.76 1423.18 L2352.76 47.2441 L186.274 47.2441  Z\n  \" fill=\"#ffffff\" fill-rule=\"evenodd\" fill-opacity=\"1\"/>\n<defs>\n  <clipPath id=\"clip922\">\n    <rect x=\"186\" y=\"47\" width=\"2167\" height=\"1377\"/>\n  </clipPath>\n</defs>\n<polyline clip-path=\"url(#clip922)\" style=\"stroke:#000000; stroke-linecap:butt; stroke-linejoin:round; stroke-width:2; stroke-opacity:0.1; fill:none\" points=\"\n  227.151,1423.18 227.151,47.2441 \n  \"/>\n<polyline clip-path=\"url(#clip922)\" style=\"stroke:#000000; stroke-linecap:butt; stroke-linejoin:round; stroke-width:2; stroke-opacity:0.1; fill:none\" points=\"\n  738.114,1423.18 738.114,47.2441 \n  \"/>\n<polyline clip-path=\"url(#clip922)\" style=\"stroke:#000000; stroke-linecap:butt; stroke-linejoin:round; stroke-width:2; stroke-opacity:0.1; fill:none\" points=\"\n  1249.08,1423.18 1249.08,47.2441 \n  \"/>\n<polyline clip-path=\"url(#clip922)\" style=\"stroke:#000000; stroke-linecap:butt; stroke-linejoin:round; stroke-width:2; stroke-opacity:0.1; fill:none\" points=\"\n  1760.04,1423.18 1760.04,47.2441 \n  \"/>\n<polyline clip-path=\"url(#clip922)\" style=\"stroke:#000000; stroke-linecap:butt; stroke-linejoin:round; stroke-width:2; stroke-opacity:0.1; fill:none\" points=\"\n  2271,1423.18 2271,47.2441 \n  \"/>\n<polyline clip-path=\"url(#clip920)\" style=\"stroke:#000000; stroke-linecap:butt; stroke-linejoin:round; stroke-width:4; stroke-opacity:1; fill:none\" points=\"\n  186.274,1423.18 2352.76,1423.18 \n  \"/>\n<polyline clip-path=\"url(#clip920)\" style=\"stroke:#000000; stroke-linecap:butt; stroke-linejoin:round; stroke-width:4; stroke-opacity:1; fill:none\" points=\"\n  227.151,1423.18 227.151,1404.28 \n  \"/>\n<polyline clip-path=\"url(#clip920)\" style=\"stroke:#000000; stroke-linecap:butt; stroke-linejoin:round; stroke-width:4; stroke-opacity:1; fill:none\" points=\"\n  738.114,1423.18 738.114,1404.28 \n  \"/>\n<polyline clip-path=\"url(#clip920)\" style=\"stroke:#000000; stroke-linecap:butt; stroke-linejoin:round; stroke-width:4; stroke-opacity:1; fill:none\" points=\"\n  1249.08,1423.18 1249.08,1404.28 \n  \"/>\n<polyline clip-path=\"url(#clip920)\" style=\"stroke:#000000; stroke-linecap:butt; stroke-linejoin:round; stroke-width:4; stroke-opacity:1; fill:none\" points=\"\n  1760.04,1423.18 1760.04,1404.28 \n  \"/>\n<polyline clip-path=\"url(#clip920)\" style=\"stroke:#000000; stroke-linecap:butt; stroke-linejoin:round; stroke-width:4; stroke-opacity:1; fill:none\" points=\"\n  2271,1423.18 2271,1404.28 \n  \"/>\n<path clip-path=\"url(#clip920)\" d=\"M227.151 1454.1 Q223.54 1454.1 221.711 1457.66 Q219.906 1461.2 219.906 1468.33 Q219.906 1475.44 221.711 1479.01 Q223.54 1482.55 227.151 1482.55 Q230.785 1482.55 232.591 1479.01 Q234.419 1475.44 234.419 1468.33 Q234.419 1461.2 232.591 1457.66 Q230.785 1454.1 227.151 1454.1 M227.151 1450.39 Q232.961 1450.39 236.017 1455 Q239.095 1459.58 239.095 1468.33 Q239.095 1477.06 236.017 1481.67 Q232.961 1486.25 227.151 1486.25 Q221.341 1486.25 218.262 1481.67 Q215.207 1477.06 215.207 1468.33 Q215.207 1459.58 218.262 1455 Q221.341 1450.39 227.151 1450.39 Z\" fill=\"#000000\" fill-rule=\"evenodd\" fill-opacity=\"1\" /><path clip-path=\"url(#clip920)\" d=\"M717.385 1481.64 L733.704 1481.64 L733.704 1485.58 L711.76 1485.58 L711.76 1481.64 Q714.422 1478.89 719.005 1474.26 Q723.611 1469.61 724.792 1468.27 Q727.037 1465.74 727.917 1464.01 Q728.82 1462.25 728.82 1460.56 Q728.82 1457.8 726.875 1456.07 Q724.954 1454.33 721.852 1454.33 Q719.653 1454.33 717.199 1455.09 Q714.769 1455.86 711.991 1457.41 L711.991 1452.69 Q714.815 1451.55 717.269 1450.97 Q719.723 1450.39 721.76 1450.39 Q727.13 1450.39 730.324 1453.08 Q733.519 1455.77 733.519 1460.26 Q733.519 1462.39 732.709 1464.31 Q731.922 1466.2 729.815 1468.8 Q729.236 1469.47 726.135 1472.69 Q723.033 1475.88 717.385 1481.64 Z\" fill=\"#000000\" fill-rule=\"evenodd\" fill-opacity=\"1\" /><path clip-path=\"url(#clip920)\" d=\"M743.565 1451.02 L761.921 1451.02 L761.921 1454.96 L747.847 1454.96 L747.847 1463.43 Q748.866 1463.08 749.885 1462.92 Q750.903 1462.73 751.922 1462.73 Q757.709 1462.73 761.088 1465.9 Q764.468 1469.08 764.468 1474.49 Q764.468 1480.07 760.996 1483.17 Q757.523 1486.25 751.204 1486.25 Q749.028 1486.25 746.76 1485.88 Q744.514 1485.51 742.107 1484.77 L742.107 1480.07 Q744.19 1481.2 746.412 1481.76 Q748.635 1482.32 751.111 1482.32 Q755.116 1482.32 757.454 1480.21 Q759.792 1478.1 759.792 1474.49 Q759.792 1470.88 757.454 1468.77 Q755.116 1466.67 751.111 1466.67 Q749.236 1466.67 747.361 1467.08 Q745.51 1467.5 743.565 1468.38 L743.565 1451.02 Z\" fill=\"#000000\" fill-rule=\"evenodd\" fill-opacity=\"1\" /><path clip-path=\"url(#clip920)\" d=\"M1223.78 1451.02 L1242.13 1451.02 L1242.13 1454.96 L1228.06 1454.96 L1228.06 1463.43 Q1229.08 1463.08 1230.1 1462.92 Q1231.11 1462.73 1232.13 1462.73 Q1237.92 1462.73 1241.3 1465.9 Q1244.68 1469.08 1244.68 1474.49 Q1244.68 1480.07 1241.21 1483.17 Q1237.73 1486.25 1231.41 1486.25 Q1229.24 1486.25 1226.97 1485.88 Q1224.72 1485.51 1222.32 1484.77 L1222.32 1480.07 Q1224.4 1481.2 1226.62 1481.76 Q1228.85 1482.32 1231.32 1482.32 Q1235.33 1482.32 1237.66 1480.21 Q1240 1478.1 1240 1474.49 Q1240 1470.88 1237.66 1468.77 Q1235.33 1466.67 1231.32 1466.67 Q1229.45 1466.67 1227.57 1467.08 Q1225.72 1467.5 1223.78 1468.38 L1223.78 1451.02 Z\" fill=\"#000000\" fill-rule=\"evenodd\" fill-opacity=\"1\" /><path clip-path=\"url(#clip920)\" d=\"M1263.89 1454.1 Q1260.28 1454.1 1258.45 1457.66 Q1256.65 1461.2 1256.65 1468.33 Q1256.65 1475.44 1258.45 1479.01 Q1260.28 1482.55 1263.89 1482.55 Q1267.53 1482.55 1269.33 1479.01 Q1271.16 1475.44 1271.16 1468.33 Q1271.16 1461.2 1269.33 1457.66 Q1267.53 1454.1 1263.89 1454.1 M1263.89 1450.39 Q1269.7 1450.39 1272.76 1455 Q1275.84 1459.58 1275.84 1468.33 Q1275.84 1477.06 1272.76 1481.67 Q1269.7 1486.25 1263.89 1486.25 Q1258.08 1486.25 1255 1481.67 Q1251.95 1477.06 1251.95 1468.33 Q1251.95 1459.58 1255 1455 Q1258.08 1450.39 1263.89 1450.39 Z\" fill=\"#000000\" fill-rule=\"evenodd\" fill-opacity=\"1\" /><path clip-path=\"url(#clip920)\" d=\"M1733.89 1451.02 L1756.12 1451.02 L1756.12 1453.01 L1743.57 1485.58 L1738.69 1485.58 L1750.49 1454.96 L1733.89 1454.96 L1733.89 1451.02 Z\" fill=\"#000000\" fill-rule=\"evenodd\" fill-opacity=\"1\" /><path clip-path=\"url(#clip920)\" d=\"M1765.28 1451.02 L1783.64 1451.02 L1783.64 1454.96 L1769.56 1454.96 L1769.56 1463.43 Q1770.58 1463.08 1771.6 1462.92 Q1772.62 1462.73 1773.64 1462.73 Q1779.43 1462.73 1782.81 1465.9 Q1786.18 1469.08 1786.18 1474.49 Q1786.18 1480.07 1782.71 1483.17 Q1779.24 1486.25 1772.92 1486.25 Q1770.75 1486.25 1768.48 1485.88 Q1766.23 1485.51 1763.82 1484.77 L1763.82 1480.07 Q1765.91 1481.2 1768.13 1481.76 Q1770.35 1482.32 1772.83 1482.32 Q1776.83 1482.32 1779.17 1480.21 Q1781.51 1478.1 1781.51 1474.49 Q1781.51 1470.88 1779.17 1468.77 Q1776.83 1466.67 1772.83 1466.67 Q1770.95 1466.67 1769.08 1467.08 Q1767.23 1467.5 1765.28 1468.38 L1765.28 1451.02 Z\" fill=\"#000000\" fill-rule=\"evenodd\" fill-opacity=\"1\" /><path clip-path=\"url(#clip920)\" d=\"M2230.61 1481.64 L2238.25 1481.64 L2238.25 1455.28 L2229.94 1456.95 L2229.94 1452.69 L2238.2 1451.02 L2242.88 1451.02 L2242.88 1481.64 L2250.52 1481.64 L2250.52 1485.58 L2230.61 1485.58 L2230.61 1481.64 Z\" fill=\"#000000\" fill-rule=\"evenodd\" fill-opacity=\"1\" /><path clip-path=\"url(#clip920)\" d=\"M2269.96 1454.1 Q2266.35 1454.1 2264.52 1457.66 Q2262.71 1461.2 2262.71 1468.33 Q2262.71 1475.44 2264.52 1479.01 Q2266.35 1482.55 2269.96 1482.55 Q2273.59 1482.55 2275.4 1479.01 Q2277.23 1475.44 2277.23 1468.33 Q2277.23 1461.2 2275.4 1457.66 Q2273.59 1454.1 2269.96 1454.1 M2269.96 1450.39 Q2275.77 1450.39 2278.83 1455 Q2281.9 1459.58 2281.9 1468.33 Q2281.9 1477.06 2278.83 1481.67 Q2275.77 1486.25 2269.96 1486.25 Q2264.15 1486.25 2261.07 1481.67 Q2258.02 1477.06 2258.02 1468.33 Q2258.02 1459.58 2261.07 1455 Q2264.15 1450.39 2269.96 1450.39 Z\" fill=\"#000000\" fill-rule=\"evenodd\" fill-opacity=\"1\" /><path clip-path=\"url(#clip920)\" d=\"M2300.12 1454.1 Q2296.51 1454.1 2294.68 1457.66 Q2292.88 1461.2 2292.88 1468.33 Q2292.88 1475.44 2294.68 1479.01 Q2296.51 1482.55 2300.12 1482.55 Q2303.76 1482.55 2305.56 1479.01 Q2307.39 1475.44 2307.39 1468.33 Q2307.39 1461.2 2305.56 1457.66 Q2303.76 1454.1 2300.12 1454.1 M2300.12 1450.39 Q2305.93 1450.39 2308.99 1455 Q2312.07 1459.58 2312.07 1468.33 Q2312.07 1477.06 2308.99 1481.67 Q2305.93 1486.25 2300.12 1486.25 Q2294.31 1486.25 2291.23 1481.67 Q2288.18 1477.06 2288.18 1468.33 Q2288.18 1459.58 2291.23 1455 Q2294.31 1450.39 2300.12 1450.39 Z\" fill=\"#000000\" fill-rule=\"evenodd\" fill-opacity=\"1\" /><path clip-path=\"url(#clip920)\" d=\"M1206.56 1522.27 L1206.56 1532.4 L1218.62 1532.4 L1218.62 1536.95 L1206.56 1536.95 L1206.56 1556.3 Q1206.56 1560.66 1207.74 1561.9 Q1208.95 1563.14 1212.61 1563.14 L1218.62 1563.14 L1218.62 1568.04 L1212.61 1568.04 Q1205.83 1568.04 1203.25 1565.53 Q1200.67 1562.98 1200.67 1556.3 L1200.67 1536.95 L1196.37 1536.95 L1196.37 1532.4 L1200.67 1532.4 L1200.67 1522.27 L1206.56 1522.27 Z\" fill=\"#000000\" fill-rule=\"evenodd\" fill-opacity=\"1\" /><path clip-path=\"url(#clip920)\" d=\"M1226.32 1532.4 L1232.18 1532.4 L1232.18 1568.04 L1226.32 1568.04 L1226.32 1532.4 M1226.32 1518.52 L1232.18 1518.52 L1232.18 1525.93 L1226.32 1525.93 L1226.32 1518.52 Z\" fill=\"#000000\" fill-rule=\"evenodd\" fill-opacity=\"1\" /><path clip-path=\"url(#clip920)\" d=\"M1270.09 1533.76 L1270.09 1539.24 Q1267.61 1537.87 1265.09 1537.2 Q1262.61 1536.5 1260.06 1536.5 Q1254.36 1536.5 1251.21 1540.13 Q1248.06 1543.73 1248.06 1550.25 Q1248.06 1556.78 1251.21 1560.4 Q1254.36 1564 1260.06 1564 Q1262.61 1564 1265.09 1563.33 Q1267.61 1562.63 1270.09 1561.26 L1270.09 1566.68 Q1267.64 1567.82 1265 1568.39 Q1262.39 1568.97 1259.43 1568.97 Q1251.37 1568.97 1246.63 1563.91 Q1241.89 1558.85 1241.89 1550.25 Q1241.89 1541.53 1246.66 1536.53 Q1251.47 1531.54 1259.81 1531.54 Q1262.51 1531.54 1265.09 1532.11 Q1267.67 1532.65 1270.09 1533.76 Z\" fill=\"#000000\" fill-rule=\"evenodd\" fill-opacity=\"1\" /><path clip-path=\"url(#clip920)\" d=\"M1280.05 1518.52 L1285.94 1518.52 L1285.94 1547.77 L1303.41 1532.4 L1310.89 1532.4 L1291.99 1549.07 L1311.69 1568.04 L1304.05 1568.04 L1285.94 1550.63 L1285.94 1568.04 L1280.05 1568.04 L1280.05 1518.52 Z\" fill=\"#000000\" fill-rule=\"evenodd\" fill-opacity=\"1\" /><path clip-path=\"url(#clip920)\" d=\"M1340.75 1533.45 L1340.75 1538.98 Q1338.26 1537.71 1335.59 1537.07 Q1332.92 1536.44 1330.05 1536.44 Q1325.69 1536.44 1323.5 1537.77 Q1321.33 1539.11 1321.33 1541.79 Q1321.33 1543.82 1322.89 1545 Q1324.45 1546.15 1329.16 1547.2 L1331.17 1547.64 Q1337.41 1548.98 1340.02 1551.43 Q1342.66 1553.85 1342.66 1558.21 Q1342.66 1563.17 1338.71 1566.07 Q1334.8 1568.97 1327.92 1568.97 Q1325.06 1568.97 1321.94 1568.39 Q1318.85 1567.85 1315.41 1566.74 L1315.41 1560.69 Q1318.66 1562.38 1321.81 1563.24 Q1324.96 1564.07 1328.05 1564.07 Q1332.19 1564.07 1334.41 1562.66 Q1336.64 1561.23 1336.64 1558.65 Q1336.64 1556.27 1335.02 1554.99 Q1333.43 1553.72 1327.98 1552.54 L1325.95 1552.07 Q1320.5 1550.92 1318.09 1548.56 Q1315.67 1546.18 1315.67 1542.04 Q1315.67 1537.01 1319.23 1534.27 Q1322.8 1531.54 1329.35 1531.54 Q1332.6 1531.54 1335.46 1532.01 Q1338.33 1532.49 1340.75 1533.45 Z\" fill=\"#000000\" fill-rule=\"evenodd\" fill-opacity=\"1\" /><polyline clip-path=\"url(#clip922)\" style=\"stroke:#000000; stroke-linecap:butt; stroke-linejoin:round; stroke-width:2; stroke-opacity:0.1; fill:none\" points=\"\n  186.274,1215.96 2352.76,1215.96 \n  \"/>\n<polyline clip-path=\"url(#clip922)\" style=\"stroke:#000000; stroke-linecap:butt; stroke-linejoin:round; stroke-width:2; stroke-opacity:0.1; fill:none\" points=\"\n  186.274,981.238 2352.76,981.238 \n  \"/>\n<polyline clip-path=\"url(#clip922)\" style=\"stroke:#000000; stroke-linecap:butt; stroke-linejoin:round; stroke-width:2; stroke-opacity:0.1; fill:none\" points=\"\n  186.274,746.52 2352.76,746.52 \n  \"/>\n<polyline clip-path=\"url(#clip922)\" style=\"stroke:#000000; stroke-linecap:butt; stroke-linejoin:round; stroke-width:2; stroke-opacity:0.1; fill:none\" points=\"\n  186.274,511.802 2352.76,511.802 \n  \"/>\n<polyline clip-path=\"url(#clip922)\" style=\"stroke:#000000; stroke-linecap:butt; stroke-linejoin:round; stroke-width:2; stroke-opacity:0.1; fill:none\" points=\"\n  186.274,277.083 2352.76,277.083 \n  \"/>\n<polyline clip-path=\"url(#clip920)\" style=\"stroke:#000000; stroke-linecap:butt; stroke-linejoin:round; stroke-width:4; stroke-opacity:1; fill:none\" points=\"\n  186.274,1423.18 186.274,47.2441 \n  \"/>\n<polyline clip-path=\"url(#clip920)\" style=\"stroke:#000000; stroke-linecap:butt; stroke-linejoin:round; stroke-width:4; stroke-opacity:1; fill:none\" points=\"\n  186.274,1215.96 205.172,1215.96 \n  \"/>\n<polyline clip-path=\"url(#clip920)\" style=\"stroke:#000000; stroke-linecap:butt; stroke-linejoin:round; stroke-width:4; stroke-opacity:1; fill:none\" points=\"\n  186.274,981.238 205.172,981.238 \n  \"/>\n<polyline clip-path=\"url(#clip920)\" style=\"stroke:#000000; stroke-linecap:butt; stroke-linejoin:round; stroke-width:4; stroke-opacity:1; fill:none\" points=\"\n  186.274,746.52 205.172,746.52 \n  \"/>\n<polyline clip-path=\"url(#clip920)\" style=\"stroke:#000000; stroke-linecap:butt; stroke-linejoin:round; stroke-width:4; stroke-opacity:1; fill:none\" points=\"\n  186.274,511.802 205.172,511.802 \n  \"/>\n<polyline clip-path=\"url(#clip920)\" style=\"stroke:#000000; stroke-linecap:butt; stroke-linejoin:round; stroke-width:4; stroke-opacity:1; fill:none\" points=\"\n  186.274,277.083 205.172,277.083 \n  \"/>\n<path clip-path=\"url(#clip920)\" d=\"M62.9365 1201.76 Q59.3254 1201.76 57.4967 1205.32 Q55.6912 1208.86 55.6912 1215.99 Q55.6912 1223.1 57.4967 1226.66 Q59.3254 1230.2 62.9365 1230.2 Q66.5707 1230.2 68.3763 1226.66 Q70.205 1223.1 70.205 1215.99 Q70.205 1208.86 68.3763 1205.32 Q66.5707 1201.76 62.9365 1201.76 M62.9365 1198.05 Q68.7467 1198.05 71.8022 1202.66 Q74.8809 1207.24 74.8809 1215.99 Q74.8809 1224.72 71.8022 1229.32 Q68.7467 1233.91 62.9365 1233.91 Q57.1264 1233.91 54.0477 1229.32 Q50.9921 1224.72 50.9921 1215.99 Q50.9921 1207.24 54.0477 1202.66 Q57.1264 1198.05 62.9365 1198.05 Z\" fill=\"#000000\" fill-rule=\"evenodd\" fill-opacity=\"1\" /><path clip-path=\"url(#clip920)\" d=\"M83.0984 1227.36 L87.9827 1227.36 L87.9827 1233.24 L83.0984 1233.24 L83.0984 1227.36 Z\" fill=\"#000000\" fill-rule=\"evenodd\" fill-opacity=\"1\" /><path clip-path=\"url(#clip920)\" d=\"M98.978 1229.3 L106.617 1229.3 L106.617 1202.94 L98.3067 1204.6 L98.3067 1200.34 L106.571 1198.68 L111.246 1198.68 L111.246 1229.3 L118.885 1229.3 L118.885 1233.24 L98.978 1233.24 L98.978 1229.3 Z\" fill=\"#000000\" fill-rule=\"evenodd\" fill-opacity=\"1\" /><path clip-path=\"url(#clip920)\" d=\"M138.33 1201.76 Q134.719 1201.76 132.89 1205.32 Q131.084 1208.86 131.084 1215.99 Q131.084 1223.1 132.89 1226.66 Q134.719 1230.2 138.33 1230.2 Q141.964 1230.2 143.769 1226.66 Q145.598 1223.1 145.598 1215.99 Q145.598 1208.86 143.769 1205.32 Q141.964 1201.76 138.33 1201.76 M138.33 1198.05 Q144.14 1198.05 147.195 1202.66 Q150.274 1207.24 150.274 1215.99 Q150.274 1224.72 147.195 1229.32 Q144.14 1233.91 138.33 1233.91 Q132.519 1233.91 129.441 1229.32 Q126.385 1224.72 126.385 1215.99 Q126.385 1207.24 129.441 1202.66 Q132.519 1198.05 138.33 1198.05 Z\" fill=\"#000000\" fill-rule=\"evenodd\" fill-opacity=\"1\" /><path clip-path=\"url(#clip920)\" d=\"M63.9319 967.037 Q60.3208 967.037 58.4921 970.602 Q56.6865 974.143 56.6865 981.273 Q56.6865 988.379 58.4921 991.944 Q60.3208 995.486 63.9319 995.486 Q67.5661 995.486 69.3717 991.944 Q71.2004 988.379 71.2004 981.273 Q71.2004 974.143 69.3717 970.602 Q67.5661 967.037 63.9319 967.037 M63.9319 963.333 Q69.742 963.333 72.7976 967.94 Q75.8763 972.523 75.8763 981.273 Q75.8763 990 72.7976 994.606 Q69.742 999.189 63.9319 999.189 Q58.1217 999.189 55.043 994.606 Q51.9875 990 51.9875 981.273 Q51.9875 972.523 55.043 967.94 Q58.1217 963.333 63.9319 963.333 Z\" fill=\"#000000\" fill-rule=\"evenodd\" fill-opacity=\"1\" /><path clip-path=\"url(#clip920)\" d=\"M84.0938 992.639 L88.978 992.639 L88.978 998.518 L84.0938 998.518 L84.0938 992.639 Z\" fill=\"#000000\" fill-rule=\"evenodd\" fill-opacity=\"1\" /><path clip-path=\"url(#clip920)\" d=\"M99.9733 994.583 L107.612 994.583 L107.612 968.217 L99.3021 969.884 L99.3021 965.625 L107.566 963.958 L112.242 963.958 L112.242 994.583 L119.881 994.583 L119.881 998.518 L99.9733 998.518 L99.9733 994.583 Z\" fill=\"#000000\" fill-rule=\"evenodd\" fill-opacity=\"1\" /><path clip-path=\"url(#clip920)\" d=\"M129.371 963.958 L147.728 963.958 L147.728 967.893 L133.654 967.893 L133.654 976.366 Q134.672 976.018 135.691 975.856 Q136.709 975.671 137.728 975.671 Q143.515 975.671 146.894 978.842 Q150.274 982.014 150.274 987.43 Q150.274 993.009 146.802 996.111 Q143.33 999.189 137.01 999.189 Q134.834 999.189 132.566 998.819 Q130.32 998.449 127.913 997.708 L127.913 993.009 Q129.996 994.143 132.219 994.699 Q134.441 995.254 136.918 995.254 Q140.922 995.254 143.26 993.148 Q145.598 991.041 145.598 987.43 Q145.598 983.819 143.26 981.713 Q140.922 979.606 136.918 979.606 Q135.043 979.606 133.168 980.023 Q131.316 980.44 129.371 981.319 L129.371 963.958 Z\" fill=\"#000000\" fill-rule=\"evenodd\" fill-opacity=\"1\" /><path clip-path=\"url(#clip920)\" d=\"M62.9365 732.319 Q59.3254 732.319 57.4967 735.883 Q55.6912 739.425 55.6912 746.555 Q55.6912 753.661 57.4967 757.226 Q59.3254 760.768 62.9365 760.768 Q66.5707 760.768 68.3763 757.226 Q70.205 753.661 70.205 746.555 Q70.205 739.425 68.3763 735.883 Q66.5707 732.319 62.9365 732.319 M62.9365 728.615 Q68.7467 728.615 71.8022 733.221 Q74.8809 737.805 74.8809 746.555 Q74.8809 755.281 71.8022 759.888 Q68.7467 764.471 62.9365 764.471 Q57.1264 764.471 54.0477 759.888 Q50.9921 755.281 50.9921 746.555 Q50.9921 737.805 54.0477 733.221 Q57.1264 728.615 62.9365 728.615 Z\" fill=\"#000000\" fill-rule=\"evenodd\" fill-opacity=\"1\" /><path clip-path=\"url(#clip920)\" d=\"M83.0984 757.92 L87.9827 757.92 L87.9827 763.8 L83.0984 763.8 L83.0984 757.92 Z\" fill=\"#000000\" fill-rule=\"evenodd\" fill-opacity=\"1\" /><path clip-path=\"url(#clip920)\" d=\"M102.196 759.865 L118.515 759.865 L118.515 763.8 L96.5706 763.8 L96.5706 759.865 Q99.2326 757.11 103.816 752.481 Q108.422 747.828 109.603 746.485 Q111.848 743.962 112.728 742.226 Q113.631 740.467 113.631 738.777 Q113.631 736.022 111.686 734.286 Q109.765 732.55 106.663 732.55 Q104.464 732.55 102.01 733.314 Q99.5798 734.078 96.8021 735.629 L96.8021 730.907 Q99.6261 729.772 102.08 729.194 Q104.534 728.615 106.571 728.615 Q111.941 728.615 115.135 731.3 Q118.33 733.985 118.33 738.476 Q118.33 740.606 117.52 742.527 Q116.733 744.425 114.626 747.018 Q114.047 747.689 110.946 750.906 Q107.844 754.101 102.196 759.865 Z\" fill=\"#000000\" fill-rule=\"evenodd\" fill-opacity=\"1\" /><path clip-path=\"url(#clip920)\" d=\"M138.33 732.319 Q134.719 732.319 132.89 735.883 Q131.084 739.425 131.084 746.555 Q131.084 753.661 132.89 757.226 Q134.719 760.768 138.33 760.768 Q141.964 760.768 143.769 757.226 Q145.598 753.661 145.598 746.555 Q145.598 739.425 143.769 735.883 Q141.964 732.319 138.33 732.319 M138.33 728.615 Q144.14 728.615 147.195 733.221 Q150.274 737.805 150.274 746.555 Q150.274 755.281 147.195 759.888 Q144.14 764.471 138.33 764.471 Q132.519 764.471 129.441 759.888 Q126.385 755.281 126.385 746.555 Q126.385 737.805 129.441 733.221 Q132.519 728.615 138.33 728.615 Z\" fill=\"#000000\" fill-rule=\"evenodd\" fill-opacity=\"1\" /><path clip-path=\"url(#clip920)\" d=\"M63.9319 497.6 Q60.3208 497.6 58.4921 501.165 Q56.6865 504.707 56.6865 511.836 Q56.6865 518.943 58.4921 522.508 Q60.3208 526.049 63.9319 526.049 Q67.5661 526.049 69.3717 522.508 Q71.2004 518.943 71.2004 511.836 Q71.2004 504.707 69.3717 501.165 Q67.5661 497.6 63.9319 497.6 M63.9319 493.897 Q69.742 493.897 72.7976 498.503 Q75.8763 503.086 75.8763 511.836 Q75.8763 520.563 72.7976 525.17 Q69.742 529.753 63.9319 529.753 Q58.1217 529.753 55.043 525.17 Q51.9875 520.563 51.9875 511.836 Q51.9875 503.086 55.043 498.503 Q58.1217 493.897 63.9319 493.897 Z\" fill=\"#000000\" fill-rule=\"evenodd\" fill-opacity=\"1\" /><path clip-path=\"url(#clip920)\" d=\"M84.0938 523.202 L88.978 523.202 L88.978 529.082 L84.0938 529.082 L84.0938 523.202 Z\" fill=\"#000000\" fill-rule=\"evenodd\" fill-opacity=\"1\" /><path clip-path=\"url(#clip920)\" d=\"M103.191 525.146 L119.51 525.146 L119.51 529.082 L97.566 529.082 L97.566 525.146 Q100.228 522.392 104.811 517.762 Q109.418 513.11 110.598 511.767 Q112.844 509.244 113.723 507.508 Q114.626 505.748 114.626 504.059 Q114.626 501.304 112.682 499.568 Q110.76 497.832 107.658 497.832 Q105.459 497.832 103.006 498.596 Q100.575 499.36 97.7974 500.91 L97.7974 496.188 Q100.621 495.054 103.075 494.475 Q105.529 493.897 107.566 493.897 Q112.936 493.897 116.131 496.582 Q119.325 499.267 119.325 503.758 Q119.325 505.887 118.515 507.809 Q117.728 509.707 115.621 512.299 Q115.043 512.971 111.941 516.188 Q108.839 519.383 103.191 525.146 Z\" fill=\"#000000\" fill-rule=\"evenodd\" fill-opacity=\"1\" /><path clip-path=\"url(#clip920)\" d=\"M129.371 494.522 L147.728 494.522 L147.728 498.457 L133.654 498.457 L133.654 506.929 Q134.672 506.582 135.691 506.42 Q136.709 506.235 137.728 506.235 Q143.515 506.235 146.894 509.406 Q150.274 512.577 150.274 517.994 Q150.274 523.572 146.802 526.674 Q143.33 529.753 137.01 529.753 Q134.834 529.753 132.566 529.383 Q130.32 529.012 127.913 528.271 L127.913 523.572 Q129.996 524.707 132.219 525.262 Q134.441 525.818 136.918 525.818 Q140.922 525.818 143.26 523.711 Q145.598 521.605 145.598 517.994 Q145.598 514.383 143.26 512.276 Q140.922 510.17 136.918 510.17 Q135.043 510.17 133.168 510.586 Q131.316 511.003 129.371 511.883 L129.371 494.522 Z\" fill=\"#000000\" fill-rule=\"evenodd\" fill-opacity=\"1\" /><path clip-path=\"url(#clip920)\" d=\"M62.9365 262.882 Q59.3254 262.882 57.4967 266.447 Q55.6912 269.988 55.6912 277.118 Q55.6912 284.225 57.4967 287.789 Q59.3254 291.331 62.9365 291.331 Q66.5707 291.331 68.3763 287.789 Q70.205 284.225 70.205 277.118 Q70.205 269.988 68.3763 266.447 Q66.5707 262.882 62.9365 262.882 M62.9365 259.178 Q68.7467 259.178 71.8022 263.785 Q74.8809 268.368 74.8809 277.118 Q74.8809 285.845 71.8022 290.451 Q68.7467 295.035 62.9365 295.035 Q57.1264 295.035 54.0477 290.451 Q50.9921 285.845 50.9921 277.118 Q50.9921 268.368 54.0477 263.785 Q57.1264 259.178 62.9365 259.178 Z\" fill=\"#000000\" fill-rule=\"evenodd\" fill-opacity=\"1\" /><path clip-path=\"url(#clip920)\" d=\"M83.0984 288.484 L87.9827 288.484 L87.9827 294.363 L83.0984 294.363 L83.0984 288.484 Z\" fill=\"#000000\" fill-rule=\"evenodd\" fill-opacity=\"1\" /><path clip-path=\"url(#clip920)\" d=\"M112.334 275.729 Q115.691 276.447 117.566 278.715 Q119.464 280.984 119.464 284.317 Q119.464 289.433 115.945 292.234 Q112.427 295.035 105.946 295.035 Q103.77 295.035 101.455 294.595 Q99.1632 294.178 96.7095 293.322 L96.7095 288.808 Q98.6539 289.942 100.969 290.521 Q103.284 291.099 105.807 291.099 Q110.205 291.099 112.496 289.363 Q114.811 287.627 114.811 284.317 Q114.811 281.262 112.658 279.549 Q110.529 277.813 106.709 277.813 L102.682 277.813 L102.682 273.97 L106.895 273.97 Q110.344 273.97 112.172 272.604 Q114.001 271.215 114.001 268.623 Q114.001 265.961 112.103 264.549 Q110.228 263.114 106.709 263.114 Q104.788 263.114 102.589 263.53 Q100.39 263.947 97.7511 264.826 L97.7511 260.66 Q100.413 259.919 102.728 259.549 Q105.066 259.178 107.126 259.178 Q112.45 259.178 115.552 261.609 Q118.654 264.016 118.654 268.137 Q118.654 271.007 117.01 272.998 Q115.367 274.965 112.334 275.729 Z\" fill=\"#000000\" fill-rule=\"evenodd\" fill-opacity=\"1\" /><path clip-path=\"url(#clip920)\" d=\"M138.33 262.882 Q134.719 262.882 132.89 266.447 Q131.084 269.988 131.084 277.118 Q131.084 284.225 132.89 287.789 Q134.719 291.331 138.33 291.331 Q141.964 291.331 143.769 287.789 Q145.598 284.225 145.598 277.118 Q145.598 269.988 143.769 266.447 Q141.964 262.882 138.33 262.882 M138.33 259.178 Q144.14 259.178 147.195 263.785 Q150.274 268.368 150.274 277.118 Q150.274 285.845 147.195 290.451 Q144.14 295.035 138.33 295.035 Q132.519 295.035 129.441 290.451 Q126.385 285.845 126.385 277.118 Q126.385 268.368 129.441 263.785 Q132.519 259.178 138.33 259.178 Z\" fill=\"#000000\" fill-rule=\"evenodd\" fill-opacity=\"1\" /><polyline clip-path=\"url(#clip922)\" style=\"stroke:#009af9; stroke-linecap:butt; stroke-linejoin:round; stroke-width:4; stroke-opacity:1; fill:none\" points=\"\n  247.59,1366.18 268.028,1252.87 288.467,1346.53 308.905,1234.06 329.344,1290.16 349.782,1158.83 370.221,1233.68 390.659,1327.72 411.098,1384.24 431.536,1271.69 \n  451.975,1290.24 472.413,1196.39 492.852,1102.31 513.29,1083.35 533.729,1139.64 554.167,1045.87 574.606,933.015 595.044,838.902 615.483,857.492 635.921,819.974 \n  656.36,801.121 676.798,725.974 697.237,688.269 717.675,650.638 738.114,669.341 758.552,594.268 778.991,556.563 799.429,500.155 819.868,500.042 840.306,406.155 \n  860.745,481.077 881.183,424.894 901.622,462.337 922.06,443.634 942.499,312.155 962.937,330.669 983.376,368.261 1003.81,368.336 1024.25,330.782 1044.69,311.929 \n  1065.13,236.782 1085.57,199.076 1106.01,236.556 1126.45,199.076 1146.88,217.778 1167.32,199.038 1187.76,236.556 1208.2,274.186 1228.64,274.261 1249.08,274.261 \n  1269.51,236.706 1289.95,217.854 1310.39,217.816 1330.83,217.816 1351.27,236.593 1371.71,236.631 1392.15,199.076 1412.58,255.333 1433.02,255.446 1453.46,236.669 \n  1473.9,311.741 1494.34,274.336 1514.78,255.484 1535.22,180.336 1555.65,123.854 1576.09,86.1857 1596.53,123.665 1616.97,123.74 1637.41,104.963 1657.85,161.258 \n  1678.29,180.148 1698.72,161.408 1719.16,180.148 1739.6,198.963 1760.04,199.001 1780.48,236.556 1800.92,292.963 1821.35,293.076 1841.79,255.521 1862.23,255.446 \n  1882.67,274.223 1903.11,255.484 1923.55,293.001 1943.99,311.854 1964.42,330.669 1984.86,293.151 2005.3,311.854 2025.74,293.114 2046.18,274.299 2066.62,274.261 \n  2087.06,293.039 2107.49,330.631 2127.93,330.706 2148.37,311.929 2168.81,218.004 2189.25,236.594 2209.69,255.408 2230.12,274.223 2250.56,274.261 2271,293.039 \n  2291.44,255.521 \n  \"/>\n<path clip-path=\"url(#clip920)\" d=\"\nM1707.3 196.789 L2280.54 196.789 L2280.54 93.1086 L1707.3 93.1086  Z\n  \" fill=\"#ffffff\" fill-rule=\"evenodd\" fill-opacity=\"1\"/>\n<polyline clip-path=\"url(#clip920)\" style=\"stroke:#000000; stroke-linecap:butt; stroke-linejoin:round; stroke-width:4; stroke-opacity:1; fill:none\" points=\"\n  1707.3,196.789 2280.54,196.789 2280.54,93.1086 1707.3,93.1086 1707.3,196.789 \n  \"/>\n<polyline clip-path=\"url(#clip920)\" style=\"stroke:#009af9; stroke-linecap:butt; stroke-linejoin:round; stroke-width:4; stroke-opacity:1; fill:none\" points=\"\n  1731.37,144.949 1875.8,144.949 \n  \"/>\n<path clip-path=\"url(#clip920)\" d=\"M1920.22 141.28 Q1921.82 138.409 1924.04 137.044 Q1926.26 135.678 1929.27 135.678 Q1933.32 135.678 1935.52 138.525 Q1937.72 141.349 1937.72 146.581 L1937.72 162.229 L1933.44 162.229 L1933.44 146.719 Q1933.44 142.993 1932.12 141.187 Q1930.8 139.382 1928.09 139.382 Q1924.78 139.382 1922.86 141.581 Q1920.94 143.78 1920.94 147.576 L1920.94 162.229 L1916.66 162.229 L1916.66 146.719 Q1916.66 142.969 1915.34 141.187 Q1914.02 139.382 1911.26 139.382 Q1908 139.382 1906.08 141.604 Q1904.16 143.803 1904.16 147.576 L1904.16 162.229 L1899.87 162.229 L1899.87 136.303 L1904.16 136.303 L1904.16 140.331 Q1905.62 137.946 1907.65 136.812 Q1909.69 135.678 1912.49 135.678 Q1915.31 135.678 1917.28 137.113 Q1919.27 138.548 1920.22 141.28 Z\" fill=\"#000000\" fill-rule=\"evenodd\" fill-opacity=\"1\" /><path clip-path=\"url(#clip920)\" d=\"M1958 149.196 Q1952.84 149.196 1950.85 150.377 Q1948.86 151.557 1948.86 154.405 Q1948.86 156.673 1950.34 158.016 Q1951.84 159.335 1954.41 159.335 Q1957.95 159.335 1960.08 156.835 Q1962.24 154.312 1962.24 150.145 L1962.24 149.196 L1958 149.196 M1966.49 147.437 L1966.49 162.229 L1962.24 162.229 L1962.24 158.293 Q1960.78 160.655 1958.6 161.789 Q1956.43 162.9 1953.28 162.9 Q1949.3 162.9 1946.93 160.678 Q1944.6 158.432 1944.6 154.682 Q1944.6 150.307 1947.51 148.085 Q1950.45 145.863 1956.26 145.863 L1962.24 145.863 L1962.24 145.446 Q1962.24 142.507 1960.29 140.909 Q1958.37 139.289 1954.87 139.289 Q1952.65 139.289 1950.55 139.821 Q1948.44 140.354 1946.49 141.419 L1946.49 137.483 Q1948.83 136.581 1951.03 136.141 Q1953.23 135.678 1955.31 135.678 Q1960.94 135.678 1963.72 138.594 Q1966.49 141.511 1966.49 147.437 Z\" fill=\"#000000\" fill-rule=\"evenodd\" fill-opacity=\"1\" /><path clip-path=\"url(#clip920)\" d=\"M1992.33 148.965 Q1992.33 144.335 1990.41 141.789 Q1988.51 139.243 1985.06 139.243 Q1981.63 139.243 1979.71 141.789 Q1977.81 144.335 1977.81 148.965 Q1977.81 153.571 1979.71 156.118 Q1981.63 158.664 1985.06 158.664 Q1988.51 158.664 1990.41 156.118 Q1992.33 153.571 1992.33 148.965 M1996.59 159.011 Q1996.59 165.631 1993.65 168.849 Q1990.71 172.09 1984.64 172.09 Q1982.4 172.09 1980.41 171.742 Q1978.42 171.418 1976.54 170.724 L1976.54 166.58 Q1978.42 167.599 1980.24 168.085 Q1982.07 168.571 1983.97 168.571 Q1988.16 168.571 1990.24 166.372 Q1992.33 164.196 1992.33 159.775 L1992.33 157.668 Q1991.01 159.96 1988.95 161.094 Q1986.89 162.229 1984.02 162.229 Q1979.25 162.229 1976.33 158.594 Q1973.42 154.96 1973.42 148.965 Q1973.42 142.946 1976.33 139.312 Q1979.25 135.678 1984.02 135.678 Q1986.89 135.678 1988.95 136.812 Q1991.01 137.946 1992.33 140.238 L1992.33 136.303 L1996.59 136.303 L1996.59 159.011 Z\" fill=\"#000000\" fill-rule=\"evenodd\" fill-opacity=\"1\" /><path clip-path=\"url(#clip920)\" d=\"M2026.91 146.581 L2026.91 162.229 L2022.65 162.229 L2022.65 146.719 Q2022.65 143.039 2021.22 141.21 Q2019.78 139.382 2016.91 139.382 Q2013.46 139.382 2011.47 141.581 Q2009.48 143.78 2009.48 147.576 L2009.48 162.229 L2005.2 162.229 L2005.2 136.303 L2009.48 136.303 L2009.48 140.331 Q2011.01 137.993 2013.07 136.835 Q2015.15 135.678 2017.86 135.678 Q2022.33 135.678 2024.62 138.456 Q2026.91 141.21 2026.91 146.581 Z\" fill=\"#000000\" fill-rule=\"evenodd\" fill-opacity=\"1\" /><path clip-path=\"url(#clip920)\" d=\"M2057.58 148.201 L2057.58 150.284 L2038 150.284 Q2038.28 154.682 2040.64 156.997 Q2043.02 159.289 2047.26 159.289 Q2049.71 159.289 2052 158.687 Q2054.32 158.085 2056.59 156.881 L2056.59 160.909 Q2054.29 161.881 2051.89 162.391 Q2049.48 162.9 2047 162.9 Q2040.8 162.9 2037.17 159.289 Q2033.55 155.678 2033.55 149.52 Q2033.55 143.155 2036.98 139.428 Q2040.43 135.678 2046.26 135.678 Q2051.49 135.678 2054.53 139.057 Q2057.58 142.414 2057.58 148.201 M2053.32 146.951 Q2053.28 143.456 2051.36 141.372 Q2049.46 139.289 2046.31 139.289 Q2042.74 139.289 2040.59 141.303 Q2038.46 143.317 2038.14 146.974 L2053.32 146.951 Z\" fill=\"#000000\" fill-rule=\"evenodd\" fill-opacity=\"1\" /><path clip-path=\"url(#clip920)\" d=\"M2068.79 128.942 L2068.79 136.303 L2077.56 136.303 L2077.56 139.613 L2068.79 139.613 L2068.79 153.687 Q2068.79 156.858 2069.64 157.761 Q2070.52 158.664 2073.18 158.664 L2077.56 158.664 L2077.56 162.229 L2073.18 162.229 Q2068.25 162.229 2066.38 160.4 Q2064.5 158.548 2064.5 153.687 L2064.5 139.613 L2061.38 139.613 L2061.38 136.303 L2064.5 136.303 L2064.5 128.942 L2068.79 128.942 Z\" fill=\"#000000\" fill-rule=\"evenodd\" fill-opacity=\"1\" /><path clip-path=\"url(#clip920)\" d=\"M2083.16 136.303 L2087.42 136.303 L2087.42 162.229 L2083.16 162.229 L2083.16 136.303 M2083.16 126.21 L2087.42 126.21 L2087.42 131.604 L2083.16 131.604 L2083.16 126.21 Z\" fill=\"#000000\" fill-rule=\"evenodd\" fill-opacity=\"1\" /><path clip-path=\"url(#clip920)\" d=\"M2112.86 137.067 L2112.86 141.094 Q2111.05 140.169 2109.11 139.706 Q2107.16 139.243 2105.08 139.243 Q2101.91 139.243 2100.31 140.215 Q2098.74 141.187 2098.74 143.131 Q2098.74 144.613 2099.87 145.469 Q2101.01 146.303 2104.43 147.067 L2105.89 147.391 Q2110.43 148.363 2112.33 150.145 Q2114.25 151.905 2114.25 155.076 Q2114.25 158.687 2111.38 160.793 Q2108.53 162.9 2103.53 162.9 Q2101.45 162.9 2099.18 162.483 Q2096.93 162.09 2094.43 161.28 L2094.43 156.881 Q2096.79 158.108 2099.09 158.733 Q2101.38 159.335 2103.62 159.335 Q2106.63 159.335 2108.25 158.317 Q2109.87 157.275 2109.87 155.4 Q2109.87 153.664 2108.69 152.738 Q2107.54 151.812 2103.58 150.956 L2102.1 150.608 Q2098.14 149.775 2096.38 148.062 Q2094.62 146.326 2094.62 143.317 Q2094.62 139.659 2097.21 137.669 Q2099.8 135.678 2104.57 135.678 Q2106.93 135.678 2109.02 136.025 Q2111.1 136.372 2112.86 137.067 Z\" fill=\"#000000\" fill-rule=\"evenodd\" fill-opacity=\"1\" /><path clip-path=\"url(#clip920)\" d=\"M2132.81 149.196 Q2127.65 149.196 2125.66 150.377 Q2123.67 151.557 2123.67 154.405 Q2123.67 156.673 2125.15 158.016 Q2126.66 159.335 2129.23 159.335 Q2132.77 159.335 2134.9 156.835 Q2137.05 154.312 2137.05 150.145 L2137.05 149.196 L2132.81 149.196 M2141.31 147.437 L2141.31 162.229 L2137.05 162.229 L2137.05 158.293 Q2135.59 160.655 2133.41 161.789 Q2131.24 162.9 2128.09 162.9 Q2124.11 162.9 2121.75 160.678 Q2119.41 158.432 2119.41 154.682 Q2119.41 150.307 2122.33 148.085 Q2125.27 145.863 2131.08 145.863 L2137.05 145.863 L2137.05 145.446 Q2137.05 142.507 2135.1 140.909 Q2133.18 139.289 2129.69 139.289 Q2127.47 139.289 2125.36 139.821 Q2123.25 140.354 2121.31 141.419 L2121.31 137.483 Q2123.65 136.581 2125.85 136.141 Q2128.04 135.678 2130.13 135.678 Q2135.75 135.678 2138.53 138.594 Q2141.31 141.511 2141.31 147.437 Z\" fill=\"#000000\" fill-rule=\"evenodd\" fill-opacity=\"1\" /><path clip-path=\"url(#clip920)\" d=\"M2154.29 128.942 L2154.29 136.303 L2163.07 136.303 L2163.07 139.613 L2154.29 139.613 L2154.29 153.687 Q2154.29 156.858 2155.15 157.761 Q2156.03 158.664 2158.69 158.664 L2163.07 158.664 L2163.07 162.229 L2158.69 162.229 Q2153.76 162.229 2151.89 160.4 Q2150.01 158.548 2150.01 153.687 L2150.01 139.613 L2146.89 139.613 L2146.89 136.303 L2150.01 136.303 L2150.01 128.942 L2154.29 128.942 Z\" fill=\"#000000\" fill-rule=\"evenodd\" fill-opacity=\"1\" /><path clip-path=\"url(#clip920)\" d=\"M2168.67 136.303 L2172.93 136.303 L2172.93 162.229 L2168.67 162.229 L2168.67 136.303 M2168.67 126.21 L2172.93 126.21 L2172.93 131.604 L2168.67 131.604 L2168.67 126.21 Z\" fill=\"#000000\" fill-rule=\"evenodd\" fill-opacity=\"1\" /><path clip-path=\"url(#clip920)\" d=\"M2191.89 139.289 Q2188.46 139.289 2186.47 141.974 Q2184.48 144.636 2184.48 149.289 Q2184.48 153.942 2186.45 156.627 Q2188.44 159.289 2191.89 159.289 Q2195.29 159.289 2197.28 156.604 Q2199.27 153.918 2199.27 149.289 Q2199.27 144.682 2197.28 141.997 Q2195.29 139.289 2191.89 139.289 M2191.89 135.678 Q2197.44 135.678 2200.61 139.289 Q2203.78 142.9 2203.78 149.289 Q2203.78 155.655 2200.61 159.289 Q2197.44 162.9 2191.89 162.9 Q2186.31 162.9 2183.14 159.289 Q2179.99 155.655 2179.99 149.289 Q2179.99 142.9 2183.14 139.289 Q2186.31 135.678 2191.89 135.678 Z\" fill=\"#000000\" fill-rule=\"evenodd\" fill-opacity=\"1\" /><path clip-path=\"url(#clip920)\" d=\"M2232.4 146.581 L2232.4 162.229 L2228.14 162.229 L2228.14 146.719 Q2228.14 143.039 2226.7 141.21 Q2225.27 139.382 2222.4 139.382 Q2218.95 139.382 2216.96 141.581 Q2214.97 143.78 2214.97 147.576 L2214.97 162.229 L2210.68 162.229 L2210.68 136.303 L2214.97 136.303 L2214.97 140.331 Q2216.49 137.993 2218.55 136.835 Q2220.64 135.678 2223.34 135.678 Q2227.81 135.678 2230.1 138.456 Q2232.4 141.21 2232.4 146.581 Z\" fill=\"#000000\" fill-rule=\"evenodd\" fill-opacity=\"1\" /></svg>\n"
     },
     "metadata": {},
     "output_type": "display_data"
    },
    {
     "data": {
      "text/html": [
       "<div class=\"data-frame\"><p>101 rows × 1 columns</p><table class=\"data-frame\"><thead><tr><th></th><th>magnetisation</th></tr><tr><th></th><th title=\"Float64\">Float64</th></tr></thead><tbody><tr><th>1</th><td>0.068</td></tr><tr><th>2</th><td>0.092136</td></tr><tr><th>3</th><td>0.0721843</td></tr><tr><th>4</th><td>0.0961444</td></tr><tr><th>5</th><td>0.0841923</td></tr><tr><th>6</th><td>0.112168</td></tr><tr><th>7</th><td>0.0962243</td></tr><tr><th>8</th><td>0.0761924</td></tr><tr><th>9</th><td>0.0641524</td></tr><tr><th>10</th><td>0.0881283</td></tr><tr><th>11</th><td>0.0841763</td></tr><tr><th>12</th><td>0.104168</td></tr><tr><th>13</th><td>0.124208</td></tr><tr><th>14</th><td>0.128248</td></tr><tr><th>15</th><td>0.116256</td></tr><tr><th>16</th><td>0.136233</td></tr><tr><th>17</th><td>0.160272</td></tr><tr><th>18</th><td>0.180321</td></tr><tr><th>19</th><td>0.176361</td></tr><tr><th>20</th><td>0.184353</td></tr><tr><th>21</th><td>0.188369</td></tr><tr><th>22</th><td>0.204377</td></tr><tr><th>23</th><td>0.212409</td></tr><tr><th>24</th><td>0.220425</td></tr><tr><th>25</th><td>0.216441</td></tr><tr><th>26</th><td>0.232433</td></tr><tr><th>27</th><td>0.240465</td></tr><tr><th>28</th><td>0.252481</td></tr><tr><th>29</th><td>0.252505</td></tr><tr><th>30</th><td>0.272505</td></tr><tr><th>&vellip;</th><td>&vellip;</td></tr></tbody></table></div>"
      ],
      "text/latex": [
       "\\begin{tabular}{r|c}\n",
       "\t& magnetisation\\\\\n",
       "\t\\hline\n",
       "\t& Float64\\\\\n",
       "\t\\hline\n",
       "\t1 & 0.068 \\\\\n",
       "\t2 & 0.092136 \\\\\n",
       "\t3 & 0.0721843 \\\\\n",
       "\t4 & 0.0961444 \\\\\n",
       "\t5 & 0.0841923 \\\\\n",
       "\t6 & 0.112168 \\\\\n",
       "\t7 & 0.0962243 \\\\\n",
       "\t8 & 0.0761924 \\\\\n",
       "\t9 & 0.0641524 \\\\\n",
       "\t10 & 0.0881283 \\\\\n",
       "\t11 & 0.0841763 \\\\\n",
       "\t12 & 0.104168 \\\\\n",
       "\t13 & 0.124208 \\\\\n",
       "\t14 & 0.128248 \\\\\n",
       "\t15 & 0.116256 \\\\\n",
       "\t16 & 0.136233 \\\\\n",
       "\t17 & 0.160272 \\\\\n",
       "\t18 & 0.180321 \\\\\n",
       "\t19 & 0.176361 \\\\\n",
       "\t20 & 0.184353 \\\\\n",
       "\t21 & 0.188369 \\\\\n",
       "\t22 & 0.204377 \\\\\n",
       "\t23 & 0.212409 \\\\\n",
       "\t24 & 0.220425 \\\\\n",
       "\t25 & 0.216441 \\\\\n",
       "\t26 & 0.232433 \\\\\n",
       "\t27 & 0.240465 \\\\\n",
       "\t28 & 0.252481 \\\\\n",
       "\t29 & 0.252505 \\\\\n",
       "\t30 & 0.272505 \\\\\n",
       "\t$\\dots$ & $\\dots$ \\\\\n",
       "\\end{tabular}\n"
      ],
      "text/plain": [
       "\u001b[1m101×1 DataFrame\u001b[0m\n",
       "\u001b[1m Row \u001b[0m│\u001b[1m magnetisation \u001b[0m\n",
       "\u001b[1m     \u001b[0m│\u001b[90m Float64       \u001b[0m\n",
       "─────┼───────────────\n",
       "   1 │     0.068\n",
       "   2 │     0.092136\n",
       "   3 │     0.0721843\n",
       "   4 │     0.0961444\n",
       "   5 │     0.0841923\n",
       "   6 │     0.112168\n",
       "   7 │     0.0962243\n",
       "   8 │     0.0761924\n",
       "   9 │     0.0641524\n",
       "  10 │     0.0881283\n",
       "  11 │     0.0841763\n",
       "  ⋮  │       ⋮\n",
       "  92 │     0.288593\n",
       "  93 │     0.288577\n",
       "  94 │     0.292577\n",
       "  95 │     0.312585\n",
       "  96 │     0.308625\n",
       "  97 │     0.304617\n",
       "  98 │     0.300609\n",
       "  99 │     0.300601\n",
       " 100 │     0.296601\n",
       " 101 │     0.304593\n",
       "\u001b[36m      80 rows omitted\u001b[0m"
      ]
     },
     "execution_count": 24,
     "metadata": {},
     "output_type": "execute_result"
    }
   ],
   "source": [
    "df = get_nodes_avg_props(model, node -> node.spin, labels=[\"magnetisation\"], plot_result = true)"
   ]
  },
  {
   "cell_type": "markdown",
   "metadata": {},
   "source": [
    "![png](assets/NNSIsing/NNSIsingPlot1.png)"
   ]
  },
  {
   "cell_type": "code",
   "execution_count": null,
   "metadata": {},
   "outputs": [],
   "source": []
  }
 ],
 "metadata": {
  "@webio": {
   "lastCommId": "10e84a3e5e9347fb8980efa76a892b0a",
   "lastKernelId": "9aca50c3-7247-4117-92bc-9c9f0a7d9371"
  },
  "kernelspec": {
   "display_name": "Julia 1.7.2",
   "language": "julia",
   "name": "julia-1.7"
  },
  "language_info": {
   "file_extension": ".jl",
   "mimetype": "application/julia",
   "name": "julia",
   "version": "1.7.2"
  }
 },
 "nbformat": 4,
 "nbformat_minor": 4
}
