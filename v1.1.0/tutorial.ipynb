{
 "cells": [
  {
   "cell_type": "markdown",
   "metadata": {},
   "source": [
    "# Tutorial\n",
    "\n",
    "Studying an agents based model in EasyABM is basically a 4-step process. \n",
    "\n",
    "1. Create agents and model. (After creating the model one may also choose to explore the model through an interactive app.) \n",
    "2. Initialise the model, through an `initialiser` function.\n",
    "3. Run the model with a `step_rule` function.\n",
    "4. Fetch and analyse data collected during model run. (Interactive visualisation based on the data collected during model run can also be easily created).\n",
    "\n",
    "We explain these steps below through a very simple model of a star-planet system. Though it can be debated if a star-planet system can really qualify as an agent based model, it nevertheless serves as a good example for demonstrating the workings of EasyABM. "
   ]
  },
  {
   "cell_type": "code",
   "execution_count": null,
   "metadata": {},
   "outputs": [],
   "source": [
    "using Pkg, Revise\n",
    "Pkg.activate(joinpath(@__DIR__, \"..\"))\n",
    "using EasyABM"
   ]
  },
  {
   "cell_type": "markdown",
   "metadata": {},
   "source": [
    "## Step 1: Create the agents and the model.\n",
    "\n",
    "In the first step we create the agents and the model. For the star-planet system, we need one agent for the star and one for the planet. We will assume that the star is stationary and the planet revolves around it. We set the position of the star to be Vect(5.0,6.0) which is the center point of the 2d space, as the default dimensions of 2d space in EasyABM is 10x10. The position `pos` is only accepted as a Vect which is an inbuilt vector type in EasyABM. It is also recommended for both convenience as well as performance to use Vect type for any vectorial properties in the model such as velocity and forces. We set the position of the planet to be Vect(7.0,5.0) and its velocity to be Vect(0.0,1.0). Since, the planet will change its position we require it to record its position and velocity during the model run. We specify this via `keeps_record_of` property of the planet. The `gravity` property of the model is a constant of proportionality for the force between the star and the planet. "
   ]
  },
  {
   "cell_type": "code",
   "execution_count": null,
   "metadata": {},
   "outputs": [],
   "source": [
    "star = con_2d_agent( pos = Vect(5.0,6.0), size = 1, color = :yellow) # by default 2d space is 10x10, so that (5,5) is center.\n",
    "planet = con_2d_agent(pos = Vect(7.0,5.0), vel = Vect(0.0,1.0),size=0.5, color = :blue, keeps_record_of = [:pos, :vel]) # planet will record its position during the run. \n",
    "model = create_2d_model([star, planet], space_type=NPeriodic, gravity = 3.0, dt=0.05)"
   ]
  },
  {
   "cell_type": "markdown",
   "metadata": {},
   "source": [
    "## Step 2: Initialise the model.\n",
    "\n",
    "In this step we define an initialiser function to set the initial properties of the agents. Suppose we want our planet to be at position Vect(5.0,8.0) and velocity Vect(-2.0, 0.0) initially. We can do so by defining an initialiser function and then sending it as an argument to `init_model!` function as follows."
   ]
  },
  {
   "cell_type": "code",
   "execution_count": null,
   "metadata": {},
   "outputs": [],
   "source": [
    "function initialiser!(model)\n",
    "    planet = model.agents[2]\n",
    "    planet.pos = Vect(5.0, 8.0)\n",
    "    planet.vel = Vect(-2.0,0.0)\n",
    "end\n",
    "\n",
    "init_model!(model, initialiser = initialiser!)"
   ]
  },
  {
   "cell_type": "markdown",
   "metadata": {},
   "source": [
    "## Step 3: Define a `step_rule` and run the model\n",
    "\n",
    "In this step, we define rule for the time evolution and then run the model. We define our `step_rule` to be simply discretisation of Newton's equations for a 2 body system."
   ]
  },
  {
   "cell_type": "code",
   "execution_count": null,
   "metadata": {
    "scrolled": true
   },
   "outputs": [],
   "source": [
    "function step_rule!(model)\n",
    "    gravity = model.parameters.gravity\n",
    "    star = model.agents[1]\n",
    "    planet = model.agents[2]\n",
    "    distance_vector = (star.pos - planet.pos)\n",
    "    distance = veclength(distance_vector)\n",
    "    force = (gravity * distance_vector) /distance^3\n",
    "    planet.vel += force\n",
    "    planet.pos += (planet.vel * model.parameters.dt) \n",
    "end"
   ]
  },
  {
   "cell_type": "code",
   "execution_count": null,
   "metadata": {},
   "outputs": [],
   "source": [
    "run_model!(model,steps = 100, step_rule=step_rule!)"
   ]
  },
  {
   "cell_type": "markdown",
   "metadata": {},
   "source": [
    "Once the model has run, we can look at the animation of the time evolutio with following line of code\n"
   ]
  },
  {
   "cell_type": "code",
   "execution_count": null,
   "metadata": {
    "scrolled": true
   },
   "outputs": [],
   "source": [
    "animate_sim(model)"
   ]
  },
  {
   "cell_type": "markdown",
   "metadata": {},
   "source": [
    "![png](assets/StarPlanetSystem/StarPlanetAnim1.png)\n",
    "\n",
    "Once the model has been run it can be saved to the disk as a jld2 file using following function."
   ]
  },
  {
   "cell_type": "code",
   "execution_count": null,
   "metadata": {},
   "outputs": [],
   "source": [
    "save_model(model, model_name = \"sun_planet_model\", save_as = \"sun_planet.jld2\", folder = \"/path/to/folder/\")"
   ]
  },
  {
   "cell_type": "markdown",
   "metadata": {},
   "source": [
    "A model saved previously as jld2 file, can be fetched as follows "
   ]
  },
  {
   "cell_type": "code",
   "execution_count": null,
   "metadata": {},
   "outputs": [],
   "source": [
    "model = open_saved_model(model_name = \"sun_planet_model\", path = \"/path/to/folder/sun_planet.jld2\")"
   ]
  },
  {
   "cell_type": "markdown",
   "metadata": {},
   "source": [
    "Instead of first running the model, we can create an interactive app in Jupyter to explore the model by setting different valies of parameters, as shown below. Here, the `model_control` argument is for creating a slider with values from 1 to 5 in steps of 0.2 for the model parameter `gravity`. The agent_controls argument creates a slider for the x component of planet's initial velocity. The tail argument attaches a tail of length 30 with the planet by selecting it with its color property which we previously set to :blue. "
   ]
  },
  {
   "cell_type": "code",
   "execution_count": null,
   "metadata": {
    "scrolled": false
   },
   "outputs": [],
   "source": [
    "create_interactive_app(model, initialiser= initialiser!,\n",
    "    step_rule= step_rule!,\n",
    "    model_controls=[(:gravity, :s, 1:0.2:5.0)], \n",
    "    agent_controls=[(:vel, :s, [Vect(x, 0.0) for x in -10.0:0.1:5.0])],\n",
    "    frames=200, tail = (30, agent -> agent.color == :blue))  "
   ]
  },
  {
   "cell_type": "markdown",
   "metadata": {},
   "source": [
    "![png](assets/StarPlanetSystem/StarPlanetIntApp.png)"
   ]
  },
  {
   "cell_type": "markdown",
   "metadata": {},
   "source": [
    "## Step 4: Fetch data\n",
    "\n",
    "In this simple model, the only data we have collected is the position and velocity of the planet. We can get this data as follows. "
   ]
  },
  {
   "cell_type": "code",
   "execution_count": null,
   "metadata": {
    "scrolled": true
   },
   "outputs": [],
   "source": [
    "df = get_agent_data(model.agents[2], model).record"
   ]
  },
  {
   "cell_type": "markdown",
   "metadata": {},
   "source": [
    "The following line of code returns the data of (half of the) speed of the planet during time evolution."
   ]
  },
  {
   "cell_type": "code",
   "execution_count": null,
   "metadata": {},
   "outputs": [],
   "source": [
    "df = get_agents_avg_props(model, agent -> agent.color == :blue ? veclength(agent.vel) : 0.0, labels = [\"Planet Speed/2\"], plot_result = true)   "
   ]
  },
  {
   "cell_type": "markdown",
   "metadata": {},
   "source": [
    "![png](assets/StarPlanetSystem/SPSPlot1.png)"
   ]
  }
 ],
 "metadata": {
  "@webio": {
   "lastCommId": "dcb0e7de724a4e6e820ff542b9ac1aba",
   "lastKernelId": "6bd70d41-6089-475c-979c-1ee1ee984a86"
  },
  "kernelspec": {
   "display_name": "Julia 1.7.2",
   "language": "julia",
   "name": "julia-1.7"
  },
  "language_info": {
   "file_extension": ".jl",
   "mimetype": "application/julia",
   "name": "julia",
   "version": "1.7.2"
  }
 },
 "nbformat": 4,
 "nbformat_minor": 4
}
