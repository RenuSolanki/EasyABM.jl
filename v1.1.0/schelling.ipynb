{
 "cells": [
  {
   "cell_type": "markdown",
   "metadata": {},
   "source": [
    "# Schelling segregation model"
   ]
  },
  {
   "cell_type": "code",
   "execution_count": null,
   "metadata": {},
   "outputs": [],
   "source": [
    "using Pkg, Revise\n",
    "Pkg.activate(joinpath(@__DIR__, \"..\"))\n",
    "using EasyABM"
   ]
  },
  {
   "cell_type": "markdown",
   "metadata": {},
   "source": [
    "\n",
    "## Step 1: Create Agents and Model\n",
    "\n",
    "Lets create 200 agents with properties `pos`, `mood` and `color`. The `keeps_record_of` argument is list of properties that the agent will record during time evolution. The `min_alike` property of the model which specifies the minimum number of alike neighbors for an agent to be happy, is set to be 4. "
   ]
  },
  {
   "cell_type": "code",
   "execution_count": null,
   "metadata": {},
   "outputs": [],
   "source": [
    "@enum agentsfeeling happy sad"
   ]
  },
  {
   "cell_type": "code",
   "execution_count": null,
   "metadata": {},
   "outputs": [],
   "source": [
    "agents = grid_2d_agents(200, pos = Vect(1,1), color = :red, shape=:circle, mood = happy,\n",
    "    keeps_record_of = [:pos, :mood])\n",
    "model = create_2d_model(agents, agents_type = Static, space_type = NPeriodic, \n",
    "    size = (20,20), min_alike = 3)"
   ]
  },
  {
   "cell_type": "markdown",
   "metadata": {},
   "source": [
    "## Step 2: Initialise the model\n",
    "In the second step we initialise the agents by defining `initialiser!` function and sending it as an argument to `init_model!`. In the `initialiser!` function we randomly set agents color to be either `:red` or `:green` and set their positions randomly such that there is not more than one agent on each patch. Then we set the `mood` property of each agent to be `happy` or `sad` depending upon the number of alike agents in neighborhood. "
   ]
  },
  {
   "cell_type": "code",
   "execution_count": null,
   "metadata": {},
   "outputs": [],
   "source": [
    "function initialiser!(model)\n",
    "    min_alike = model.parameters.min_alike\n",
    "    for agent in model.agents\n",
    "        agent.color = [:red, :green][rand(1:2)]\n",
    "        x,y = random_empty_patch(model)   \n",
    "        agent.pos = Vect(x,y)\n",
    "    end    \n",
    "    for agent in model.agents\n",
    "        nbrs = grid_neighbors(agent, model, 1)\n",
    "        num_alike = 0\n",
    "        for nbr in nbrs\n",
    "            if nbr.color == agent.color\n",
    "                num_alike += 1\n",
    "            end\n",
    "        end\n",
    "        if num_alike < min_alike\n",
    "            agent.mood = sad\n",
    "        end\n",
    "    end\n",
    "end\n",
    "init_model!(model, initialiser = initialiser!)"
   ]
  },
  {
   "cell_type": "markdown",
   "metadata": {},
   "source": [
    "## Step 3: Run the model\n",
    "\n",
    "In this step we implement the step logic of the Schellings model in the `step_rule!` function and run the model for 200 steps. "
   ]
  },
  {
   "cell_type": "code",
   "execution_count": null,
   "metadata": {},
   "outputs": [],
   "source": [
    "function step_rule!(model)\n",
    "    min_alike = model.parameters.min_alike::Int\n",
    "    for agent in model.agents\n",
    "        num_alike = 0\n",
    "        for nbr in grid_neighbors(agent, model,1)\n",
    "            if agent.color::Symbol == nbr.color::Symbol\n",
    "                num_alike += 1\n",
    "            end\n",
    "        end\n",
    "        if num_alike ≥ min_alike\n",
    "            agent.mood = happy\n",
    "        else\n",
    "            agent.mood = sad\n",
    "            x,y = random_empty_patch(model) \n",
    "            agent.pos = Vect(x,y)\n",
    "        end\n",
    "    end\n",
    "    return\n",
    "end"
   ]
  },
  {
   "cell_type": "code",
   "execution_count": null,
   "metadata": {},
   "outputs": [],
   "source": [
    "run_model!(model, steps=200, step_rule = step_rule!)"
   ]
  },
  {
   "cell_type": "markdown",
   "metadata": {},
   "source": [
    "If one wants to see the animation of the model run, it can be done as "
   ]
  },
  {
   "cell_type": "code",
   "execution_count": null,
   "metadata": {
    "scrolled": true
   },
   "outputs": [],
   "source": [
    "animate_sim(model, 100,agent_plots=Dict(\"happy\"=> agent-> agent.mood == happy, \"sad\"=> agent-> agent.mood == sad), show_grid=true)"
   ]
  },
  {
   "cell_type": "markdown",
   "metadata": {},
   "source": [
    "![png](assets/Schelling/SchellingAnim1.png)\n"
   ]
  },
  {
   "cell_type": "markdown",
   "metadata": {},
   "source": [
    "After defining the `step_rule!` function we can also choose to create an interactive application (which currently works in Jupyter with WebIO installation) as "
   ]
  },
  {
   "cell_type": "code",
   "execution_count": null,
   "metadata": {},
   "outputs": [],
   "source": [
    "create_interactive_app(model, initialiser= initialiser!,\n",
    "    step_rule= step_rule!,\n",
    "    model_controls=[(:min_alike, :s, 1:8)], \n",
    "    agent_plots=Dict(\"happy\"=> agent-> agent.mood == happy, \"sad\"=> agent-> agent.mood == sad),\n",
    "    frames=200, show_grid=true)  "
   ]
  },
  {
   "cell_type": "markdown",
   "metadata": {},
   "source": [
    "![png](assets/Schelling/SchellingIntApp.png)"
   ]
  },
  {
   "cell_type": "markdown",
   "metadata": {},
   "source": [
    "## Step 4: Fetch Data \n",
    "\n",
    "In this step we fetch data of number of happy and sad agents at each time step as a dataframe using following line of code. "
   ]
  },
  {
   "cell_type": "code",
   "execution_count": null,
   "metadata": {
    "scrolled": false
   },
   "outputs": [],
   "source": [
    "df = get_nums_agents(model, agent-> agent.mood == happy, agent-> agent.mood == sad,labels=[\"happy\",\"sad\"], plot_result=true)"
   ]
  },
  {
   "cell_type": "markdown",
   "metadata": {},
   "source": [
    "![png](assets/Schelling/SchellingPlot1.png)\n",
    "\n",
    "Individual agent data recorded during model run can be obtained as "
   ]
  },
  {
   "cell_type": "code",
   "execution_count": null,
   "metadata": {},
   "outputs": [],
   "source": [
    "get_agent_data(model.agents[2], model).record"
   ]
  }
 ],
 "metadata": {
  "@webio": {
   "lastCommId": "88ed7ca152d24eb2850843bb82c91692",
   "lastKernelId": "09c0daaf-e35d-499d-9265-30714aea1cab"
  },
  "kernelspec": {
   "display_name": "Julia 1.7.2",
   "language": "julia",
   "name": "julia-1.7"
  },
  "language_info": {
   "file_extension": ".jl",
   "mimetype": "application/julia",
   "name": "julia",
   "version": "1.7.2"
  }
 },
 "nbformat": 4,
 "nbformat_minor": 4
}
