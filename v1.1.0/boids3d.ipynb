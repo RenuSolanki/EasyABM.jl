{
 "cells": [
  {
   "cell_type": "markdown",
   "metadata": {},
   "source": [
    "# Flocking 3D"
   ]
  },
  {
   "cell_type": "code",
   "execution_count": null,
   "metadata": {
    "scrolled": false
   },
   "outputs": [],
   "source": [
    "using Pkg, Revise\n",
    "Pkg.activate(joinpath(@__DIR__, \"..\"))\n",
    "using EasyABM"
   ]
  },
  {
   "cell_type": "markdown",
   "metadata": {},
   "source": [
    "\n",
    "## Step 1: Create Agents and Model\n",
    "\n",
    "Lets create 100 agents with properties `shape`, `pos`, `vel` and `orientation` (The `orientation` property is used internally by EasyABM to draw the direction agent is facing). The position `pos` is only accepted as a Vect which is an inbuilt vector type in EasyABM. It is also recommended for both convenience as well as performance to use Vect type for any vectorial properties in the model such as velocity and forces. The `keeps_record_of` argument is list of properties that the agent will record during time evolution. The model is defined with parameters:\n",
    "\n",
    "* min_dis : The distance between boids below which they start repelling each other.\n",
    "* coh_fac : The proportionality constant for the cohere force. \n",
    "* sep_fac : The proportionality constant for the separation force.\n",
    "* aln_fac : The proportionality constant for the alignment force.\n",
    "* vis_range : The visual range of boids.\n",
    "* dt : The proportionality constant between change in position and velocity.\n",
    "\n",
    "The argument `agents_type` is Static which means that the boids number will remain fixed during simulation. "
   ]
  },
  {
   "cell_type": "code",
   "execution_count": null,
   "metadata": {},
   "outputs": [],
   "source": [
    "boids = con_3d_agents(100, shape = :cone, pos = Vect(0.0,0.0,0.0), \n",
    "    vel=Vect(0.0,0.0,0.0), orientation = 0.0, keeps_record_of = [:pos, :orientation])\n",
    "model = create_3d_model(boids, agents_type=Static, \n",
    "    space_type = Periodic,\n",
    "    min_dis = 0.3, coh_fac = 0.05, \n",
    "    sep_fac = 0.5, dt= 0.1, vis_range = 2.0, aln_fac = 0.35)"
   ]
  },
  {
   "cell_type": "markdown",
   "metadata": {},
   "source": [
    "\n",
    "## Step 2: Initialise the model\n",
    "\n",
    "In this step we set the positions, velocities and orientations of boids and initialise the model."
   ]
  },
  {
   "cell_type": "code",
   "execution_count": null,
   "metadata": {},
   "outputs": [],
   "source": [
    "function initialiser!(model)\n",
    "    xdim, ydim, zdim = model.size\n",
    "    for boid in model.agents\n",
    "        boid.pos = Vect(rand()*xdim, rand()*ydim, rand()*zdim)\n",
    "        boid.vel = Vect(1-2*rand(), 1-2*rand(), 1-2*rand())\n",
    "        boid.vel = boid.vel ./ veclength(boid.vel)\n",
    "        boid.orientation = boid.vel\n",
    "    end\n",
    "end\n",
    "init_model!(model, initialiser = initialiser!)"
   ]
  },
  {
   "cell_type": "markdown",
   "metadata": {},
   "source": [
    "## Step 3: Run the model\n",
    "\n",
    "In this step we implement the step logic of the flocking model in the `step_rule!` function and run the model for 100 steps. "
   ]
  },
  {
   "cell_type": "code",
   "execution_count": null,
   "metadata": {},
   "outputs": [],
   "source": [
    "const ep = 0.00001"
   ]
  },
  {
   "cell_type": "code",
   "execution_count": null,
   "metadata": {
    "scrolled": true
   },
   "outputs": [],
   "source": [
    "function step_rule!(model)\n",
    "    dt = model.parameters.dt\n",
    "    for boid in model.agents\n",
    "        nbrs = euclidean_neighbors(boid, model, model.parameters.vis_range)\n",
    "        coh_force = Vect(0.0,0.0,0.0) \n",
    "        sep_force = Vect(0.0,0.0,0.0) \n",
    "        aln_force = Vect(0.0,0.0,0.0)\n",
    "        num = 0\n",
    "        for nbr in nbrs\n",
    "            num+=1\n",
    "            vec = nbr.pos - boid.pos\n",
    "            coh_force += vec\n",
    "            if veclength(vec)< model.parameters.min_dis\n",
    "                sep_force -= vec\n",
    "            end\n",
    "            aln_force += nbr.vel\n",
    "        end\n",
    "        aln_force = num>0 ? (aln_force / num - boid.vel) * model.parameters.aln_fac : aln_force\n",
    "        num = max(1, num)\n",
    "        coh_force *= (model.parameters.coh_fac/num)\n",
    "        sep_force *=  model.parameters.sep_fac\n",
    "        boid.vel += (coh_force + sep_force) + aln_force\n",
    "        boid.vel  /= (veclength(boid.vel)+ep)\n",
    "        boid.orientation = boid.vel\n",
    "        boid.pos += boid.vel * dt\n",
    "    end\n",
    "end"
   ]
  },
  {
   "cell_type": "code",
   "execution_count": null,
   "metadata": {},
   "outputs": [],
   "source": [
    "run_model!(model, steps=100, step_rule = step_rule!)"
   ]
  },
  {
   "cell_type": "markdown",
   "metadata": {},
   "source": [
    "If one wants to see the animation of the model run, it can be done as "
   ]
  },
  {
   "cell_type": "code",
   "execution_count": null,
   "metadata": {},
   "outputs": [],
   "source": [
    "animate_sim(model)\n",
    "# if one wants a tail can be attached with all boids using argument tail = (10, agent->true)\n",
    "# where 10 is the taillength"
   ]
  },
  {
   "cell_type": "markdown",
   "metadata": {},
   "source": [
    "![png](assets/Boids/Boids3DAnim1.png)\n",
    "\n",
    "After defining the `step_rule!` function we can also choose to create an interactive application (which currently works in Jupyter with WebIO installation) as "
   ]
  },
  {
   "cell_type": "code",
   "execution_count": null,
   "metadata": {
    "scrolled": true
   },
   "outputs": [],
   "source": [
    "create_interactive_app(model, initialiser= initialiser!,\n",
    "    step_rule= step_rule!,\n",
    "    model_controls=[(:min_dis, :s, 0.01:0.1:1.0),\n",
    "        (:coh_fac, :s, 0.01:0.01:1.0),\n",
    "        (:sep_fac, :s, 0.01:0.01:1.0),\n",
    "        (:aln_fac, :s, 0.01:0.01:1.0),\n",
    "        (:vis_range, :s, 0.5:0.5:4.0)],frames=100)   "
   ]
  },
  {
   "cell_type": "markdown",
   "metadata": {},
   "source": [
    "![png](assets/Boids/Boids3DIntApp.png)"
   ]
  },
  {
   "cell_type": "markdown",
   "metadata": {},
   "source": [
    "## Step 4: Fetch Data \n",
    "\n",
    "It is easy to fetch any data recorded during simulation. For example, the data of average velocity of agents at each time step can be obtained as - "
   ]
  },
  {
   "cell_type": "code",
   "execution_count": null,
   "metadata": {},
   "outputs": [],
   "source": [
    "df = get_agents_avg_props(model, agent -> agent.vel, labels = [\"average velocity\"])"
   ]
  },
  {
   "cell_type": "markdown",
   "metadata": {},
   "source": [
    "Individual agent data recorded during model run can be obtained as "
   ]
  },
  {
   "cell_type": "code",
   "execution_count": null,
   "metadata": {},
   "outputs": [],
   "source": [
    "df = get_agent_data(model.agents[1], model).record"
   ]
  }
 ],
 "metadata": {
  "@webio": {
   "lastCommId": "affdcb3558c643e18cc8e7ef0d0fb1b3",
   "lastKernelId": "3bef31ee-0bbe-4f21-a5a9-fad4191972a1"
  },
  "kernelspec": {
   "display_name": "Julia 1.7.2",
   "language": "julia",
   "name": "julia-1.7"
  },
  "language_info": {
   "file_extension": ".jl",
   "mimetype": "application/julia",
   "name": "julia",
   "version": "1.7.2"
  }
 },
 "nbformat": 4,
 "nbformat_minor": 4
}
