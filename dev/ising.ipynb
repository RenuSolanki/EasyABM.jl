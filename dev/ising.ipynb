{
 "cells": [
  {
   "cell_type": "markdown",
   "metadata": {},
   "source": [
    "# Ising model\n",
    "\n",
    "We use Ising model as an example of using Graph Models in EasyABM. We will set up and run Ising model on a grid graph, however one can choose graph of any other \n",
    "topology as well."
   ]
  },
  {
   "cell_type": "code",
   "execution_count": 1,
   "metadata": {},
   "outputs": [
    {
     "name": "stderr",
     "output_type": "stream",
     "text": [
      "\u001b[32m\u001b[1m  Activating\u001b[22m\u001b[39m project at `~/Documents/EasyABM`\n"
     ]
    },
    {
     "data": {
      "application/vnd.webio.node+json": {
       "children": [],
       "instanceArgs": {
        "namespace": "html",
        "tag": "div"
       },
       "nodeType": "DOM",
       "props": {},
       "type": "node"
      },
      "text/html": [
       "<div style=\"padding: 1em; background-color: #f8d6da; border: 1px solid #f5c6cb; font-weight: bold;\">\n",
       "<p>The WebIO Jupyter extension was not detected. See the\n",
       "<a href=\"https://juliagizmos.github.io/WebIO.jl/latest/providers/ijulia/\" target=\"_blank\">\n",
       "    WebIO Jupyter integration documentation\n",
       "</a>\n",
       "for more information.\n",
       "</div>\n"
      ],
      "text/plain": [
       "WebIO._IJuliaInit()"
      ]
     },
     "metadata": {
      "application/vnd.webio.node+json": {
       "kernelId": "8f9bcdf1-72eb-4706-8a27-2314577e92d5"
      }
     },
     "output_type": "display_data"
    }
   ],
   "source": [
    "using Pkg, Revise\n",
    "Pkg.activate(joinpath(@__DIR__, \"../..\"))\n",
    "using EasyABM"
   ]
  },
  {
   "cell_type": "markdown",
   "metadata": {},
   "source": [
    "## Step 1: Create Model\n",
    "\n",
    "In this model we will work solely with the graph and won't require agents. We create a grid graph of size 20x20, and then create our graph model as follows. "
   ]
  },
  {
   "cell_type": "code",
   "execution_count": 2,
   "metadata": {},
   "outputs": [],
   "source": [
    "graph = square_grid_graph(20,20);"
   ]
  },
  {
   "cell_type": "code",
   "execution_count": 3,
   "metadata": {},
   "outputs": [
    {
     "data": {
      "text/plain": [
       "EasyABM GraphModel{EasyABM.StaticType, EasyABM.StaticType, EasyABM.SimGType}: In a {EasyABM.StaticType, EasyABM.StaticType} model both graph topology and agents number is fixed.\n"
      ]
     },
     "execution_count": 3,
     "metadata": {},
     "output_type": "execute_result"
    }
   ],
   "source": [
    "model = create_graph_model(graph, temp = 0.1, coupl = 1.0)"
   ]
  },
  {
   "cell_type": "markdown",
   "metadata": {},
   "source": [
    "The model has two parameters temperature `temp` and coupling `coupl`. "
   ]
  },
  {
   "cell_type": "markdown",
   "metadata": {},
   "source": [
    "## Step 2: Initialise the model\n",
    "\n",
    "In the second step we initialise the nodes of the graph through `initialiser!` function and then sending it as an argument to `init_model!`. In the `initialiser!` function we randomly set each node's color to either `cl\"black\"` or `cl\"white\"` and set their spin values to +1 for `cl\"black\"` nodes and -1 for `cl\"white\"` nodes. In the `init_model!` function the argument `props_to_record` specifies the nodes properties which we want to record during model run. "
   ]
  },
  {
   "cell_type": "code",
   "execution_count": 4,
   "metadata": {},
   "outputs": [
    {
     "data": {
      "text/plain": [
       "initialiser! (generic function with 1 method)"
      ]
     },
     "execution_count": 4,
     "metadata": {},
     "output_type": "execute_result"
    }
   ],
   "source": [
    "function initialiser!(model)\n",
    "    for node in vertices(model.graph)\n",
    "        if rand()<0.5\n",
    "            model.graph.nodesprops[node].spin = 1\n",
    "            model.graph.nodesprops[node].color = cl\"black\"\n",
    "        else\n",
    "            model.graph.nodesprops[node].spin = -1\n",
    "            model.graph.nodesprops[node].color = cl\"white\"\n",
    "        end\n",
    "    end\n",
    "end\n",
    "  "
   ]
  },
  {
   "cell_type": "code",
   "execution_count": 5,
   "metadata": {},
   "outputs": [],
   "source": [
    "init_model!(model, initialiser=initialiser!, props_to_record = Dict(\"nodes\"=>Set([:color, :spin]))) "
   ]
  },
  {
   "cell_type": "markdown",
   "metadata": {},
   "source": [
    "## Step 3: Defining the step_rule! and running the model\n",
    "\n",
    "In this step we implement the step logic of the Ising model in the `step_rule!` function and run the model for 100 steps. At each step of the simulation we take \n",
    "100 Monte Carlo steps, where in each Monte Carlo step a node is selected at random and its spin and color values are flipped if the Ising energy condition is satisfied. "
   ]
  },
  {
   "cell_type": "code",
   "execution_count": 6,
   "metadata": {},
   "outputs": [
    {
     "data": {
      "text/plain": [
       "400"
      ]
     },
     "execution_count": 6,
     "metadata": {},
     "output_type": "execute_result"
    }
   ],
   "source": [
    "const nn = num_nodes(model)"
   ]
  },
  {
   "cell_type": "code",
   "execution_count": 7,
   "metadata": {},
   "outputs": [
    {
     "data": {
      "text/plain": [
       "step_rule! (generic function with 1 method)"
      ]
     },
     "execution_count": 7,
     "metadata": {},
     "output_type": "execute_result"
    }
   ],
   "source": [
    "function step_rule!(model)\n",
    "    for i in 1:100\n",
    "        random_node = rand(1:nn)\n",
    "        spin = model.graph.nodesprops[random_node].spin\n",
    "        nbr_nodes = neighbor_nodes(random_node, model)\n",
    "        de = 0.0\n",
    "        for node in nbr_nodes\n",
    "            nbr_spin = model.graph.nodesprops[node].spin\n",
    "            de += spin*nbr_spin\n",
    "        end\n",
    "        de = 2*model.parameters.coupl * de\n",
    "        if (de < 0) || (rand() < exp(-de/model.parameters.temp))\n",
    "            model.graph.nodesprops[random_node].spin = - spin\n",
    "            model.graph.nodesprops[random_node].color = spin == -1 ? cl\"black\" : cl\"white\"\n",
    "        end\n",
    "    end\n",
    "end"
   ]
  },
  {
   "cell_type": "code",
   "execution_count": 8,
   "metadata": {},
   "outputs": [],
   "source": [
    "run_model!(model, steps = 100, step_rule = step_rule!)"
   ]
  },
  {
   "cell_type": "markdown",
   "metadata": {},
   "source": [
    "## Step 4: Visualisation"
   ]
  },
  {
   "cell_type": "markdown",
   "metadata": {},
   "source": [
    "In order to draw the model at a specific frame, say 4th, one can do"
   ]
  },
  {
   "cell_type": "code",
   "execution_count": 9,
   "metadata": {
    "scrolled": true
   },
   "outputs": [
    {
     "data": {
      "image/png": "[encoded data removed]",
      "text/plain": []
     },
     "execution_count": 9,
     "metadata": {},
     "output_type": "execute_result"
    }
   ],
   "source": [
    "draw_frame(model, frame = 4)"
   ]
  },
  {
   "cell_type": "markdown",
   "metadata": {},
   "source": [
    " If one wants to see the animation of the model run, it can be done as "
   ]
  },
  {
   "cell_type": "code",
   "execution_count": 10,
   "metadata": {},
   "outputs": [
    {
     "data": {
      "application/vnd.webio.node+json": {
       "children": [
        {
         "children": [
          {
           "children": [
            {
             "children": [
              {
               "children": [
                {
                 "children": [
                  {
                   "children": [
                    {
                     "children": [
                      "time"
                     ],
                     "instanceArgs": {
                      "namespace": "html",
                      "tag": "label"
                     },
                     "nodeType": "DOM",
                     "props": {
                      "className": "interact ",
                      "style": {
                       "padding": "5px 10px 0px 10px"
                      }
                     },
                     "type": "node"
                    }
                   ],
                   "instanceArgs": {
                    "namespace": "html",
                    "tag": "div"
                   },
                   "nodeType": "DOM",
                   "props": {
                    "className": "interact-flex-row-left"
                   },
                   "type": "node"
                  },
                  {
                   "children": [
                    {
                     "children": [],
                     "instanceArgs": {
                      "namespace": "html",
                      "tag": "input"
                     },
                     "nodeType": "DOM",
                     "props": {
                      "attributes": {
                       "data-bind": "numericValue: index, valueUpdate: 'input', event: {change: function (){this.changes(this.changes()+1)}}",
                       "orient": "horizontal",
                       "type": "range"
                      },
                      "className": "slider slider is-fullwidth",
                      "max": 101,
                      "min": 1,
                      "step": 1,
                      "style": {}
                     },
                     "type": "node"
                    }
                   ],
                   "instanceArgs": {
                    "namespace": "html",
                    "tag": "div"
                   },
                   "nodeType": "DOM",
                   "props": {
                    "className": "interact-flex-row-center"
                   },
                   "type": "node"
                  },
                  {
                   "children": [
                    {
                     "children": [],
                     "instanceArgs": {
                      "namespace": "html",
                      "tag": "p"
                     },
                     "nodeType": "DOM",
                     "props": {
                      "attributes": {
                       "data-bind": "text: formatted_val"
                      }
                     },
                     "type": "node"
                    }
                   ],
                   "instanceArgs": {
                    "namespace": "html",
                    "tag": "div"
                   },
                   "nodeType": "DOM",
                   "props": {
                    "className": "interact-flex-row-right"
                   },
                   "type": "node"
                  }
                 ],
                 "instanceArgs": {
                  "namespace": "html",
                  "tag": "div"
                 },
                 "nodeType": "DOM",
                 "props": {
                  "className": "interact-flex-row interact-widget"
                 },
                 "type": "node"
                }
               ],
               "instanceArgs": {
                "handlers": {
                 "changes": [
                  "(function (val){return (val!=this.model[\"changes\"]()) ? (this.valueFromJulia[\"changes\"]=true, this.model[\"changes\"](val)) : undefined})"
                 ],
                 "index": [
                  "(function (val){return (val!=this.model[\"index\"]()) ? (this.valueFromJulia[\"index\"]=true, this.model[\"index\"](val)) : undefined})"
                 ]
                },
                "id": "11373317075651309831",
                "imports": {
                 "data": [
                  {
                   "name": "knockout",
                   "type": "js",
                   "url": "/assetserver/727383f2a47bd31570b7da84eee7b022dd6d7c78-knockout.js"
                  },
                  {
                   "name": "knockout_punches",
                   "type": "js",
                   "url": "/assetserver/382b41b3b1bd9f26f75861d360bad7f8beea211f-knockout_punches.js"
                  },
                  {
                   "name": null,
                   "type": "js",
                   "url": "/assetserver/5ab20f1060420992a9b82a65b735dee4d81ef413-all.js"
                  },
                  {
                   "name": null,
                   "type": "css",
                   "url": "/assetserver/1cc0ed62837210b80a182cc3676512f895dab686-style.css"
                  },
                  {
                   "name": null,
                   "type": "css",
                   "url": "/assetserver/2eee816f616df3549d7044d45e744fbf8d42bfa1-bulma_confined.min.css"
                  }
                 ],
                 "type": "async_block"
                },
                "mount_callbacks": [
                 "function () {\n    var handler = (function (ko, koPunches) {\n    ko.punches.enableAll();\n    ko.bindingHandlers.numericValue = {\n        init: function(element, valueAccessor, allBindings, data, context) {\n            var stringified = ko.observable(ko.unwrap(valueAccessor()));\n            stringified.subscribe(function(value) {\n                var val = parseFloat(value);\n                if (!isNaN(val)) {\n                    valueAccessor()(val);\n                }\n            });\n            valueAccessor().subscribe(function(value) {\n                var str = JSON.stringify(value);\n                if ((str == \"0\") && ([\"-0\", \"-0.\"].indexOf(stringified()) >= 0))\n                     return;\n                 if ([\"null\", \"\"].indexOf(str) >= 0)\n                     return;\n                stringified(str);\n            });\n            ko.applyBindingsToNode(\n                element,\n                {\n                    value: stringified,\n                    valueUpdate: allBindings.get('valueUpdate'),\n                },\n                context,\n            );\n        }\n    };\n    var json_data = {\"formatted_vals\":[\"1\",\"2\",\"3\",\"4\",\"5\",\"6\",\"7\",\"8\",\"9\",\"10\",\"11\",\"12\",\"13\",\"14\",\"15\",\"16\",\"17\",\"18\",\"19\",\"20\",\"21\",\"22\",\"23\",\"24\",\"25\",\"26\",\"27\",\"28\",\"29\",\"30\",\"31\",\"32\",\"33\",\"34\",\"35\",\"36\",\"37\",\"38\",\"39\",\"40\",\"41\",\"42\",\"43\",\"44\",\"45\",\"46\",\"47\",\"48\",\"49\",\"50\",\"51\",\"52\",\"53\",\"54\",\"55\",\"56\",\"57\",\"58\",\"59\",\"60\",\"61\",\"62\",\"63\",\"64\",\"65\",\"66\",\"67\",\"68\",\"69\",\"70\",\"71\",\"72\",\"73\",\"74\",\"75\",\"76\",\"77\",\"78\",\"79\",\"80\",\"81\",\"82\",\"83\",\"84\",\"85\",\"86\",\"87\",\"88\",\"89\",\"90\",\"91\",\"92\",\"93\",\"94\",\"95\",\"96\",\"97\",\"98\",\"99\",\"100\",\"101\"],\"changes\":WebIO.getval({\"name\":\"changes\",\"scope\":\"11373317075651309831\",\"id\":\"16904332047883766770\",\"type\":\"observable\"}),\"index\":WebIO.getval({\"name\":\"index\",\"scope\":\"11373317075651309831\",\"id\":\"9816914574084306819\",\"type\":\"observable\"})};\n    var self = this;\n    function AppViewModel() {\n        for (var key in json_data) {\n            var el = json_data[key];\n            this[key] = Array.isArray(el) ? ko.observableArray(el) : ko.observable(el);\n        }\n        \n        [this[\"formatted_val\"]=ko.computed(    function(){\n        return this.formatted_vals()[parseInt(this.index())-(1)];\n    }\n,this)]\n        [this[\"changes\"].subscribe((function (val){!(this.valueFromJulia[\"changes\"]) ? (WebIO.setval({\"name\":\"changes\",\"scope\":\"11373317075651309831\",\"id\":\"16904332047883766770\",\"type\":\"observable\"},val)) : undefined; return this.valueFromJulia[\"changes\"]=false}),self),this[\"index\"].subscribe((function (val){!(this.valueFromJulia[\"index\"]) ? (WebIO.setval({\"name\":\"index\",\"scope\":\"11373317075651309831\",\"id\":\"9816914574084306819\",\"type\":\"observable\"},val)) : undefined; return this.valueFromJulia[\"index\"]=false}),self)]\n        \n    }\n    self.model = new AppViewModel();\n    self.valueFromJulia = {};\n    for (var key in json_data) {\n        self.valueFromJulia[key] = false;\n    }\n    ko.applyBindings(self.model, self.dom);\n}\n);\n    (WebIO.importBlock({\"data\":[{\"name\":\"knockout\",\"type\":\"js\",\"url\":\"/assetserver/727383f2a47bd31570b7da84eee7b022dd6d7c78-knockout.js\"},{\"name\":\"knockout_punches\",\"type\":\"js\",\"url\":\"/assetserver/382b41b3b1bd9f26f75861d360bad7f8beea211f-knockout_punches.js\"}],\"type\":\"async_block\"})).then((imports) => handler.apply(this, imports));\n}\n"
                ],
                "observables": {
                 "changes": {
                  "id": "16904332047883766770",
                  "sync": false,
                  "value": 0
                 },
                 "index": {
                  "id": "9816914574084306819",
                  "sync": true,
                  "value": 51
                 }
                },
                "systemjs_options": null
               },
               "nodeType": "Scope",
               "props": {},
               "type": "node"
              }
             ],
             "instanceArgs": {
              "namespace": "html",
              "tag": "div"
             },
             "nodeType": "DOM",
             "props": {
              "className": "field interact-widget"
             },
             "type": "node"
            },
            {
             "children": [
              {
               "children": [
                {
                 "children": [
                  {
                   "children": [
                    {
                     "children": [
                      "scale"
                     ],
                     "instanceArgs": {
                      "namespace": "html",
                      "tag": "label"
                     },
                     "nodeType": "DOM",
                     "props": {
                      "className": "interact ",
                      "style": {
                       "padding": "5px 10px 0px 10px"
                      }
                     },
                     "type": "node"
                    }
                   ],
                   "instanceArgs": {
                    "namespace": "html",
                    "tag": "div"
                   },
                   "nodeType": "DOM",
                   "props": {
                    "className": "interact-flex-row-left"
                   },
                   "type": "node"
                  },
                  {
                   "children": [
                    {
                     "children": [],
                     "instanceArgs": {
                      "namespace": "html",
                      "tag": "input"
                     },
                     "nodeType": "DOM",
                     "props": {
                      "attributes": {
                       "data-bind": "numericValue: index, valueUpdate: 'input', event: {change: function (){this.changes(this.changes()+1)}}",
                       "orient": "horizontal",
                       "type": "range"
                      },
                      "className": "slider slider is-fullwidth",
                      "max": 20,
                      "min": 1,
                      "step": 1,
                      "style": {}
                     },
                     "type": "node"
                    }
                   ],
                   "instanceArgs": {
                    "namespace": "html",
                    "tag": "div"
                   },
                   "nodeType": "DOM",
                   "props": {
                    "className": "interact-flex-row-center"
                   },
                   "type": "node"
                  },
                  {
                   "children": [
                    {
                     "children": [],
                     "instanceArgs": {
                      "namespace": "html",
                      "tag": "p"
                     },
                     "nodeType": "DOM",
                     "props": {
                      "attributes": {
                       "data-bind": "text: formatted_val"
                      }
                     },
                     "type": "node"
                    }
                   ],
                   "instanceArgs": {
                    "namespace": "html",
                    "tag": "div"
                   },
                   "nodeType": "DOM",
                   "props": {
                    "className": "interact-flex-row-right"
                   },
                   "type": "node"
                  }
                 ],
                 "instanceArgs": {
                  "namespace": "html",
                  "tag": "div"
                 },
                 "nodeType": "DOM",
                 "props": {
                  "className": "interact-flex-row interact-widget"
                 },
                 "type": "node"
                }
               ],
               "instanceArgs": {
                "handlers": {
                 "changes": [
                  "(function (val){return (val!=this.model[\"changes\"]()) ? (this.valueFromJulia[\"changes\"]=true, this.model[\"changes\"](val)) : undefined})"
                 ],
                 "index": [
                  "(function (val){return (val!=this.model[\"index\"]()) ? (this.valueFromJulia[\"index\"]=true, this.model[\"index\"](val)) : undefined})"
                 ]
                },
                "id": "14159898180705293123",
                "imports": {
                 "data": [
                  {
                   "name": "knockout",
                   "type": "js",
                   "url": "/assetserver/727383f2a47bd31570b7da84eee7b022dd6d7c78-knockout.js"
                  },
                  {
                   "name": "knockout_punches",
                   "type": "js",
                   "url": "/assetserver/382b41b3b1bd9f26f75861d360bad7f8beea211f-knockout_punches.js"
                  },
                  {
                   "name": null,
                   "type": "js",
                   "url": "/assetserver/5ab20f1060420992a9b82a65b735dee4d81ef413-all.js"
                  },
                  {
                   "name": null,
                   "type": "css",
                   "url": "/assetserver/1cc0ed62837210b80a182cc3676512f895dab686-style.css"
                  },
                  {
                   "name": null,
                   "type": "css",
                   "url": "/assetserver/2eee816f616df3549d7044d45e744fbf8d42bfa1-bulma_confined.min.css"
                  }
                 ],
                 "type": "async_block"
                },
                "mount_callbacks": [
                 "function () {\n    var handler = (function (ko, koPunches) {\n    ko.punches.enableAll();\n    ko.bindingHandlers.numericValue = {\n        init: function(element, valueAccessor, allBindings, data, context) {\n            var stringified = ko.observable(ko.unwrap(valueAccessor()));\n            stringified.subscribe(function(value) {\n                var val = parseFloat(value);\n                if (!isNaN(val)) {\n                    valueAccessor()(val);\n                }\n            });\n            valueAccessor().subscribe(function(value) {\n                var str = JSON.stringify(value);\n                if ((str == \"0\") && ([\"-0\", \"-0.\"].indexOf(stringified()) >= 0))\n                     return;\n                 if ([\"null\", \"\"].indexOf(str) >= 0)\n                     return;\n                stringified(str);\n            });\n            ko.applyBindingsToNode(\n                element,\n                {\n                    value: stringified,\n                    valueUpdate: allBindings.get('valueUpdate'),\n                },\n                context,\n            );\n        }\n    };\n    var json_data = {\"formatted_vals\":[\"0.1\",\"0.2\",\"0.3\",\"0.4\",\"0.5\",\"0.6\",\"0.7\",\"0.8\",\"0.9\",\"1.0\",\"1.1\",\"1.2\",\"1.3\",\"1.4\",\"1.5\",\"1.6\",\"1.7\",\"1.8\",\"1.9\",\"2.0\"],\"changes\":WebIO.getval({\"name\":\"changes\",\"scope\":\"14159898180705293123\",\"id\":\"10965762075187713181\",\"type\":\"observable\"}),\"index\":WebIO.getval({\"name\":\"index\",\"scope\":\"14159898180705293123\",\"id\":\"17191485018480695874\",\"type\":\"observable\"})};\n    var self = this;\n    function AppViewModel() {\n        for (var key in json_data) {\n            var el = json_data[key];\n            this[key] = Array.isArray(el) ? ko.observableArray(el) : ko.observable(el);\n        }\n        \n        [this[\"formatted_val\"]=ko.computed(    function(){\n        return this.formatted_vals()[parseInt(this.index())-(1)];\n    }\n,this)]\n        [this[\"changes\"].subscribe((function (val){!(this.valueFromJulia[\"changes\"]) ? (WebIO.setval({\"name\":\"changes\",\"scope\":\"14159898180705293123\",\"id\":\"10965762075187713181\",\"type\":\"observable\"},val)) : undefined; return this.valueFromJulia[\"changes\"]=false}),self),this[\"index\"].subscribe((function (val){!(this.valueFromJulia[\"index\"]) ? (WebIO.setval({\"name\":\"index\",\"scope\":\"14159898180705293123\",\"id\":\"17191485018480695874\",\"type\":\"observable\"},val)) : undefined; return this.valueFromJulia[\"index\"]=false}),self)]\n        \n    }\n    self.model = new AppViewModel();\n    self.valueFromJulia = {};\n    for (var key in json_data) {\n        self.valueFromJulia[key] = false;\n    }\n    ko.applyBindings(self.model, self.dom);\n}\n);\n    (WebIO.importBlock({\"data\":[{\"name\":\"knockout\",\"type\":\"js\",\"url\":\"/assetserver/727383f2a47bd31570b7da84eee7b022dd6d7c78-knockout.js\"},{\"name\":\"knockout_punches\",\"type\":\"js\",\"url\":\"/assetserver/382b41b3b1bd9f26f75861d360bad7f8beea211f-knockout_punches.js\"}],\"type\":\"async_block\"})).then((imports) => handler.apply(this, imports));\n}\n"
                ],
                "observables": {
                 "changes": {
                  "id": "10965762075187713181",
                  "sync": false,
                  "value": 0
                 },
                 "index": {
                  "id": "17191485018480695874",
                  "sync": true,
                  "value": 10
                 }
                },
                "systemjs_options": null
               },
               "nodeType": "Scope",
               "props": {},
               "type": "node"
              }
             ],
             "instanceArgs": {
              "namespace": "html",
              "tag": "div"
             },
             "nodeType": "DOM",
             "props": {
              "className": "field interact-widget"
             },
             "type": "node"
            },
            {
             "children": [
              {
               "children": [
                {
                 "children": [
                  {
                   "children": [],
                   "instanceArgs": {
                    "namespace": "html",
                    "tag": "div"
                   },
                   "nodeType": "DOM",
                   "props": {
                    "id": "container"
                   },
                   "type": "node"
                  }
                 ],
                 "instanceArgs": {
                  "handlers": {
                   "value": [
                    "(function (txt){return this.k.render(txt,this.container)})"
                   ]
                  },
                  "id": "1888243910810052245",
                  "imports": {
                   "data": [
                    {
                     "name": null,
                     "type": "js",
                     "url": "/assetserver/dd22ed1bf1896c2748f3fe616ce0b838adc895c1-katex.min.js"
                    },
                    {
                     "name": null,
                     "type": "css",
                     "url": "/assetserver/46517a424aa5e6cffc1360d7e0848b601c584ee3-katex.min.css"
                    }
                   ],
                   "type": "async_block"
                  },
                  "mount_callbacks": [
                   "function () {\n    var handler = ((function (k){this.k=k; this.container=this.dom.querySelector(\"#container\"); return k.render(\"\\\\;\\\\;\",this.container)}));\n    (WebIO.importBlock({\"data\":[{\"name\":null,\"type\":\"js\",\"url\":\"/assetserver/dd22ed1bf1896c2748f3fe616ce0b838adc895c1-katex.min.js\"},{\"name\":null,\"type\":\"css\",\"url\":\"/assetserver/46517a424aa5e6cffc1360d7e0848b601c584ee3-katex.min.css\"}],\"type\":\"async_block\"})).then((imports) => handler.apply(this, imports));\n}\n"
                  ],
                  "observables": {
                   "value": {
                    "id": "1317733371513546229",
                    "sync": false,
                    "value": "\\;\\;"
                   }
                  },
                  "systemjs_options": null
                 },
                 "nodeType": "Scope",
                 "props": {},
                 "type": "node"
                }
               ],
               "instanceArgs": {
                "namespace": "html",
                "tag": "div"
               },
               "nodeType": "DOM",
               "props": {
                "className": "interact-widget"
               },
               "type": "node"
              },
              {
               "children": [
                {
                 "children": [
                  {
                   "children": [
                    "run"
                   ],
                   "instanceArgs": {
                    "namespace": "html",
                    "tag": "button"
                   },
                   "nodeType": "DOM",
                   "props": {
                    "attributes": {
                     "data-bind": "click: function (){this.clicks(this.clicks()+1)}, css: {'is-loading' : loading}"
                    },
                    "className": "is-medium button is-primary",
                    "style": {}
                   },
                   "type": "node"
                  }
                 ],
                 "instanceArgs": {
                  "handlers": {
                   "clicks": [
                    "(function (val){return (val!=this.model[\"clicks\"]()) ? (this.valueFromJulia[\"clicks\"]=true, this.model[\"clicks\"](val)) : undefined})"
                   ],
                   "loading": [
                    "(function (val){return (val!=this.model[\"loading\"]()) ? (this.valueFromJulia[\"loading\"]=true, this.model[\"loading\"](val)) : undefined})"
                   ]
                  },
                  "id": "17726626130608654657",
                  "imports": {
                   "data": [
                    {
                     "name": "knockout",
                     "type": "js",
                     "url": "/assetserver/727383f2a47bd31570b7da84eee7b022dd6d7c78-knockout.js"
                    },
                    {
                     "name": "knockout_punches",
                     "type": "js",
                     "url": "/assetserver/382b41b3b1bd9f26f75861d360bad7f8beea211f-knockout_punches.js"
                    },
                    {
                     "name": null,
                     "type": "js",
                     "url": "/assetserver/5ab20f1060420992a9b82a65b735dee4d81ef413-all.js"
                    },
                    {
                     "name": null,
                     "type": "css",
                     "url": "/assetserver/1cc0ed62837210b80a182cc3676512f895dab686-style.css"
                    },
                    {
                     "name": null,
                     "type": "css",
                     "url": "/assetserver/2eee816f616df3549d7044d45e744fbf8d42bfa1-bulma_confined.min.css"
                    }
                   ],
                   "type": "async_block"
                  },
                  "mount_callbacks": [
                   "function () {\n    var handler = (function (ko, koPunches) {\n    ko.punches.enableAll();\n    ko.bindingHandlers.numericValue = {\n        init: function(element, valueAccessor, allBindings, data, context) {\n            var stringified = ko.observable(ko.unwrap(valueAccessor()));\n            stringified.subscribe(function(value) {\n                var val = parseFloat(value);\n                if (!isNaN(val)) {\n                    valueAccessor()(val);\n                }\n            });\n            valueAccessor().subscribe(function(value) {\n                var str = JSON.stringify(value);\n                if ((str == \"0\") && ([\"-0\", \"-0.\"].indexOf(stringified()) >= 0))\n                     return;\n                 if ([\"null\", \"\"].indexOf(str) >= 0)\n                     return;\n                stringified(str);\n            });\n            ko.applyBindingsToNode(\n                element,\n                {\n                    value: stringified,\n                    valueUpdate: allBindings.get('valueUpdate'),\n                },\n                context,\n            );\n        }\n    };\n    var json_data = {\"loading\":WebIO.getval({\"name\":\"loading\",\"scope\":\"17726626130608654657\",\"id\":\"12308017079574468674\",\"type\":\"observable\"}),\"clicks\":WebIO.getval({\"name\":\"clicks\",\"scope\":\"17726626130608654657\",\"id\":\"15391512501674419803\",\"type\":\"observable\"})};\n    var self = this;\n    function AppViewModel() {\n        for (var key in json_data) {\n            var el = json_data[key];\n            this[key] = Array.isArray(el) ? ko.observableArray(el) : ko.observable(el);\n        }\n        \n        \n        [this[\"loading\"].subscribe((function (val){!(this.valueFromJulia[\"loading\"]) ? (WebIO.setval({\"name\":\"loading\",\"scope\":\"17726626130608654657\",\"id\":\"12308017079574468674\",\"type\":\"observable\"},val)) : undefined; return this.valueFromJulia[\"loading\"]=false}),self),this[\"clicks\"].subscribe((function (val){!(this.valueFromJulia[\"clicks\"]) ? (WebIO.setval({\"name\":\"clicks\",\"scope\":\"17726626130608654657\",\"id\":\"15391512501674419803\",\"type\":\"observable\"},val)) : undefined; return this.valueFromJulia[\"clicks\"]=false}),self)]\n        \n    }\n    self.model = new AppViewModel();\n    self.valueFromJulia = {};\n    for (var key in json_data) {\n        self.valueFromJulia[key] = false;\n    }\n    ko.applyBindings(self.model, self.dom);\n}\n);\n    (WebIO.importBlock({\"data\":[{\"name\":\"knockout\",\"type\":\"js\",\"url\":\"/assetserver/727383f2a47bd31570b7da84eee7b022dd6d7c78-knockout.js\"},{\"name\":\"knockout_punches\",\"type\":\"js\",\"url\":\"/assetserver/382b41b3b1bd9f26f75861d360bad7f8beea211f-knockout_punches.js\"}],\"type\":\"async_block\"})).then((imports) => handler.apply(this, imports));\n}\n"
                  ],
                  "observables": {
                   "clicks": {
                    "id": "15391512501674419803",
                    "sync": true,
                    "value": 0
                   },
                   "loading": {
                    "id": "12308017079574468674",
                    "sync": false,
                    "value": false
                   }
                  },
                  "systemjs_options": null
                 },
                 "nodeType": "Scope",
                 "props": {},
                 "type": "node"
                }
               ],
               "instanceArgs": {
                "namespace": "html",
                "tag": "div"
               },
               "nodeType": "DOM",
               "props": {
                "className": "field interact-widget"
               },
               "type": "node"
              },
              {
               "children": [
                {
                 "children": [
                  {
                   "children": [],
                   "instanceArgs": {
                    "namespace": "html",
                    "tag": "div"
                   },
                   "nodeType": "DOM",
                   "props": {
                    "id": "container"
                   },
                   "type": "node"
                  }
                 ],
                 "instanceArgs": {
                  "handlers": {
                   "value": [
                    "(function (txt){return this.k.render(txt,this.container)})"
                   ]
                  },
                  "id": "1888243910810052245",
                  "imports": {
                   "data": [
                    {
                     "name": null,
                     "type": "js",
                     "url": "/assetserver/dd22ed1bf1896c2748f3fe616ce0b838adc895c1-katex.min.js"
                    },
                    {
                     "name": null,
                     "type": "css",
                     "url": "/assetserver/46517a424aa5e6cffc1360d7e0848b601c584ee3-katex.min.css"
                    }
                   ],
                   "type": "async_block"
                  },
                  "mount_callbacks": [
                   "function () {\n    var handler = ((function (k){this.k=k; this.container=this.dom.querySelector(\"#container\"); return k.render(\"\\\\;\\\\;\",this.container)}));\n    (WebIO.importBlock({\"data\":[{\"name\":null,\"type\":\"js\",\"url\":\"/assetserver/dd22ed1bf1896c2748f3fe616ce0b838adc895c1-katex.min.js\"},{\"name\":null,\"type\":\"css\",\"url\":\"/assetserver/46517a424aa5e6cffc1360d7e0848b601c584ee3-katex.min.css\"}],\"type\":\"async_block\"})).then((imports) => handler.apply(this, imports));\n}\n"
                  ],
                  "observables": {
                   "value": {
                    "id": "1317733371513546229",
                    "sync": false,
                    "value": "\\;\\;"
                   }
                  },
                  "systemjs_options": null
                 },
                 "nodeType": "Scope",
                 "props": {},
                 "type": "node"
                }
               ],
               "instanceArgs": {
                "namespace": "html",
                "tag": "div"
               },
               "nodeType": "DOM",
               "props": {
                "className": "interact-widget"
               },
               "type": "node"
              },
              {
               "children": [
                {
                 "children": [
                  {
                   "children": [
                    "stop"
                   ],
                   "instanceArgs": {
                    "namespace": "html",
                    "tag": "button"
                   },
                   "nodeType": "DOM",
                   "props": {
                    "attributes": {
                     "data-bind": "click: function (){this.clicks(this.clicks()+1)}, css: {'is-loading' : loading}"
                    },
                    "className": "is-medium button is-primary",
                    "style": {}
                   },
                   "type": "node"
                  }
                 ],
                 "instanceArgs": {
                  "handlers": {
                   "clicks": [
                    "(function (val){return (val!=this.model[\"clicks\"]()) ? (this.valueFromJulia[\"clicks\"]=true, this.model[\"clicks\"](val)) : undefined})"
                   ],
                   "loading": [
                    "(function (val){return (val!=this.model[\"loading\"]()) ? (this.valueFromJulia[\"loading\"]=true, this.model[\"loading\"](val)) : undefined})"
                   ]
                  },
                  "id": "6894229743444174763",
                  "imports": {
                   "data": [
                    {
                     "name": "knockout",
                     "type": "js",
                     "url": "/assetserver/727383f2a47bd31570b7da84eee7b022dd6d7c78-knockout.js"
                    },
                    {
                     "name": "knockout_punches",
                     "type": "js",
                     "url": "/assetserver/382b41b3b1bd9f26f75861d360bad7f8beea211f-knockout_punches.js"
                    },
                    {
                     "name": null,
                     "type": "js",
                     "url": "/assetserver/5ab20f1060420992a9b82a65b735dee4d81ef413-all.js"
                    },
                    {
                     "name": null,
                     "type": "css",
                     "url": "/assetserver/1cc0ed62837210b80a182cc3676512f895dab686-style.css"
                    },
                    {
                     "name": null,
                     "type": "css",
                     "url": "/assetserver/2eee816f616df3549d7044d45e744fbf8d42bfa1-bulma_confined.min.css"
                    }
                   ],
                   "type": "async_block"
                  },
                  "mount_callbacks": [
                   "function () {\n    var handler = (function (ko, koPunches) {\n    ko.punches.enableAll();\n    ko.bindingHandlers.numericValue = {\n        init: function(element, valueAccessor, allBindings, data, context) {\n            var stringified = ko.observable(ko.unwrap(valueAccessor()));\n            stringified.subscribe(function(value) {\n                var val = parseFloat(value);\n                if (!isNaN(val)) {\n                    valueAccessor()(val);\n                }\n            });\n            valueAccessor().subscribe(function(value) {\n                var str = JSON.stringify(value);\n                if ((str == \"0\") && ([\"-0\", \"-0.\"].indexOf(stringified()) >= 0))\n                     return;\n                 if ([\"null\", \"\"].indexOf(str) >= 0)\n                     return;\n                stringified(str);\n            });\n            ko.applyBindingsToNode(\n                element,\n                {\n                    value: stringified,\n                    valueUpdate: allBindings.get('valueUpdate'),\n                },\n                context,\n            );\n        }\n    };\n    var json_data = {\"loading\":WebIO.getval({\"name\":\"loading\",\"scope\":\"6894229743444174763\",\"id\":\"16717503154451463173\",\"type\":\"observable\"}),\"clicks\":WebIO.getval({\"name\":\"clicks\",\"scope\":\"6894229743444174763\",\"id\":\"5877386606117429389\",\"type\":\"observable\"})};\n    var self = this;\n    function AppViewModel() {\n        for (var key in json_data) {\n            var el = json_data[key];\n            this[key] = Array.isArray(el) ? ko.observableArray(el) : ko.observable(el);\n        }\n        \n        \n        [this[\"loading\"].subscribe((function (val){!(this.valueFromJulia[\"loading\"]) ? (WebIO.setval({\"name\":\"loading\",\"scope\":\"6894229743444174763\",\"id\":\"16717503154451463173\",\"type\":\"observable\"},val)) : undefined; return this.valueFromJulia[\"loading\"]=false}),self),this[\"clicks\"].subscribe((function (val){!(this.valueFromJulia[\"clicks\"]) ? (WebIO.setval({\"name\":\"clicks\",\"scope\":\"6894229743444174763\",\"id\":\"5877386606117429389\",\"type\":\"observable\"},val)) : undefined; return this.valueFromJulia[\"clicks\"]=false}),self)]\n        \n    }\n    self.model = new AppViewModel();\n    self.valueFromJulia = {};\n    for (var key in json_data) {\n        self.valueFromJulia[key] = false;\n    }\n    ko.applyBindings(self.model, self.dom);\n}\n);\n    (WebIO.importBlock({\"data\":[{\"name\":\"knockout\",\"type\":\"js\",\"url\":\"/assetserver/727383f2a47bd31570b7da84eee7b022dd6d7c78-knockout.js\"},{\"name\":\"knockout_punches\",\"type\":\"js\",\"url\":\"/assetserver/382b41b3b1bd9f26f75861d360bad7f8beea211f-knockout_punches.js\"}],\"type\":\"async_block\"})).then((imports) => handler.apply(this, imports));\n}\n"
                  ],
                  "observables": {
                   "clicks": {
                    "id": "5877386606117429389",
                    "sync": true,
                    "value": 0
                   },
                   "loading": {
                    "id": "16717503154451463173",
                    "sync": false,
                    "value": false
                   }
                  },
                  "systemjs_options": null
                 },
                 "nodeType": "Scope",
                 "props": {},
                 "type": "node"
                }
               ],
               "instanceArgs": {
                "namespace": "html",
                "tag": "div"
               },
               "nodeType": "DOM",
               "props": {
                "className": "field interact-widget"
               },
               "type": "node"
              },
              {
               "children": [
                {
                 "children": [
                  {
                   "children": [],
                   "instanceArgs": {
                    "namespace": "html",
                    "tag": "div"
                   },
                   "nodeType": "DOM",
                   "props": {
                    "id": "container"
                   },
                   "type": "node"
                  }
                 ],
                 "instanceArgs": {
                  "handlers": {
                   "value": [
                    "(function (txt){return this.k.render(txt,this.container)})"
                   ]
                  },
                  "id": "1888243910810052245",
                  "imports": {
                   "data": [
                    {
                     "name": null,
                     "type": "js",
                     "url": "/assetserver/dd22ed1bf1896c2748f3fe616ce0b838adc895c1-katex.min.js"
                    },
                    {
                     "name": null,
                     "type": "css",
                     "url": "/assetserver/46517a424aa5e6cffc1360d7e0848b601c584ee3-katex.min.css"
                    }
                   ],
                   "type": "async_block"
                  },
                  "mount_callbacks": [
                   "function () {\n    var handler = ((function (k){this.k=k; this.container=this.dom.querySelector(\"#container\"); return k.render(\"\\\\;\\\\;\",this.container)}));\n    (WebIO.importBlock({\"data\":[{\"name\":null,\"type\":\"js\",\"url\":\"/assetserver/dd22ed1bf1896c2748f3fe616ce0b838adc895c1-katex.min.js\"},{\"name\":null,\"type\":\"css\",\"url\":\"/assetserver/46517a424aa5e6cffc1360d7e0848b601c584ee3-katex.min.css\"}],\"type\":\"async_block\"})).then((imports) => handler.apply(this, imports));\n}\n"
                  ],
                  "observables": {
                   "value": {
                    "id": "1317733371513546229",
                    "sync": false,
                    "value": "\\;\\;"
                   }
                  },
                  "systemjs_options": null
                 },
                 "nodeType": "Scope",
                 "props": {},
                 "type": "node"
                }
               ],
               "instanceArgs": {
                "namespace": "html",
                "tag": "div"
               },
               "nodeType": "DOM",
               "props": {
                "className": "interact-widget"
               },
               "type": "node"
              },
              {
               "children": [
                {
                 "children": [
                  {
                   "children": [
                    "save"
                   ],
                   "instanceArgs": {
                    "namespace": "html",
                    "tag": "button"
                   },
                   "nodeType": "DOM",
                   "props": {
                    "attributes": {
                     "data-bind": "click: function (){this.clicks(this.clicks()+1)}, css: {'is-loading' : loading}"
                    },
                    "className": "is-medium button is-primary",
                    "style": {}
                   },
                   "type": "node"
                  }
                 ],
                 "instanceArgs": {
                  "handlers": {
                   "clicks": [
                    "(function (val){return (val!=this.model[\"clicks\"]()) ? (this.valueFromJulia[\"clicks\"]=true, this.model[\"clicks\"](val)) : undefined})"
                   ],
                   "loading": [
                    "(function (val){return (val!=this.model[\"loading\"]()) ? (this.valueFromJulia[\"loading\"]=true, this.model[\"loading\"](val)) : undefined})"
                   ]
                  },
                  "id": "14825923580555043404",
                  "imports": {
                   "data": [
                    {
                     "name": "knockout",
                     "type": "js",
                     "url": "/assetserver/727383f2a47bd31570b7da84eee7b022dd6d7c78-knockout.js"
                    },
                    {
                     "name": "knockout_punches",
                     "type": "js",
                     "url": "/assetserver/382b41b3b1bd9f26f75861d360bad7f8beea211f-knockout_punches.js"
                    },
                    {
                     "name": null,
                     "type": "js",
                     "url": "/assetserver/5ab20f1060420992a9b82a65b735dee4d81ef413-all.js"
                    },
                    {
                     "name": null,
                     "type": "css",
                     "url": "/assetserver/1cc0ed62837210b80a182cc3676512f895dab686-style.css"
                    },
                    {
                     "name": null,
                     "type": "css",
                     "url": "/assetserver/2eee816f616df3549d7044d45e744fbf8d42bfa1-bulma_confined.min.css"
                    }
                   ],
                   "type": "async_block"
                  },
                  "mount_callbacks": [
                   "function () {\n    var handler = (function (ko, koPunches) {\n    ko.punches.enableAll();\n    ko.bindingHandlers.numericValue = {\n        init: function(element, valueAccessor, allBindings, data, context) {\n            var stringified = ko.observable(ko.unwrap(valueAccessor()));\n            stringified.subscribe(function(value) {\n                var val = parseFloat(value);\n                if (!isNaN(val)) {\n                    valueAccessor()(val);\n                }\n            });\n            valueAccessor().subscribe(function(value) {\n                var str = JSON.stringify(value);\n                if ((str == \"0\") && ([\"-0\", \"-0.\"].indexOf(stringified()) >= 0))\n                     return;\n                 if ([\"null\", \"\"].indexOf(str) >= 0)\n                     return;\n                stringified(str);\n            });\n            ko.applyBindingsToNode(\n                element,\n                {\n                    value: stringified,\n                    valueUpdate: allBindings.get('valueUpdate'),\n                },\n                context,\n            );\n        }\n    };\n    var json_data = {\"loading\":WebIO.getval({\"name\":\"loading\",\"scope\":\"14825923580555043404\",\"id\":\"12000571848604606222\",\"type\":\"observable\"}),\"clicks\":WebIO.getval({\"name\":\"clicks\",\"scope\":\"14825923580555043404\",\"id\":\"15936478729198757682\",\"type\":\"observable\"})};\n    var self = this;\n    function AppViewModel() {\n        for (var key in json_data) {\n            var el = json_data[key];\n            this[key] = Array.isArray(el) ? ko.observableArray(el) : ko.observable(el);\n        }\n        \n        \n        [this[\"loading\"].subscribe((function (val){!(this.valueFromJulia[\"loading\"]) ? (WebIO.setval({\"name\":\"loading\",\"scope\":\"14825923580555043404\",\"id\":\"12000571848604606222\",\"type\":\"observable\"},val)) : undefined; return this.valueFromJulia[\"loading\"]=false}),self),this[\"clicks\"].subscribe((function (val){!(this.valueFromJulia[\"clicks\"]) ? (WebIO.setval({\"name\":\"clicks\",\"scope\":\"14825923580555043404\",\"id\":\"15936478729198757682\",\"type\":\"observable\"},val)) : undefined; return this.valueFromJulia[\"clicks\"]=false}),self)]\n        \n    }\n    self.model = new AppViewModel();\n    self.valueFromJulia = {};\n    for (var key in json_data) {\n        self.valueFromJulia[key] = false;\n    }\n    ko.applyBindings(self.model, self.dom);\n}\n);\n    (WebIO.importBlock({\"data\":[{\"name\":\"knockout\",\"type\":\"js\",\"url\":\"/assetserver/727383f2a47bd31570b7da84eee7b022dd6d7c78-knockout.js\"},{\"name\":\"knockout_punches\",\"type\":\"js\",\"url\":\"/assetserver/382b41b3b1bd9f26f75861d360bad7f8beea211f-knockout_punches.js\"}],\"type\":\"async_block\"})).then((imports) => handler.apply(this, imports));\n}\n"
                  ],
                  "observables": {
                   "clicks": {
                    "id": "15936478729198757682",
                    "sync": true,
                    "value": 0
                   },
                   "loading": {
                    "id": "12000571848604606222",
                    "sync": false,
                    "value": false
                   }
                  },
                  "systemjs_options": null
                 },
                 "nodeType": "Scope",
                 "props": {},
                 "type": "node"
                }
               ],
               "instanceArgs": {
                "namespace": "html",
                "tag": "div"
               },
               "nodeType": "DOM",
               "props": {
                "className": "field interact-widget"
               },
               "type": "node"
              }
             ],
             "instanceArgs": {
              "namespace": "html",
              "tag": "div"
             },
             "nodeType": "DOM",
             "props": {
              "style": {
               "display": "flex",
               "flex-direction": "row"
              }
             },
             "type": "node"
            }
           ],
           "instanceArgs": {
            "namespace": "html",
            "tag": "div"
           },
           "nodeType": "DOM",
           "props": {
            "style": {
             "display": "flex",
             "flex-direction": "column"
            }
           },
           "type": "node"
          },
          {
           "children": [
            {
             "children": [
              {
               "children": [],
               "instanceArgs": {
                "namespace": "html",
                "tag": "div"
               },
               "nodeType": "DOM",
               "props": {
                "id": "container"
               },
               "type": "node"
              }
             ],
             "instanceArgs": {
              "handlers": {
               "value": [
                "(function (txt){return this.k.render(txt,this.container)})"
               ]
              },
              "id": "1888243910810052245",
              "imports": {
               "data": [
                {
                 "name": null,
                 "type": "js",
                 "url": "/assetserver/dd22ed1bf1896c2748f3fe616ce0b838adc895c1-katex.min.js"
                },
                {
                 "name": null,
                 "type": "css",
                 "url": "/assetserver/46517a424aa5e6cffc1360d7e0848b601c584ee3-katex.min.css"
                }
               ],
               "type": "async_block"
              },
              "mount_callbacks": [
               "function () {\n    var handler = ((function (k){this.k=k; this.container=this.dom.querySelector(\"#container\"); return k.render(\"\\\\;\\\\;\",this.container)}));\n    (WebIO.importBlock({\"data\":[{\"name\":null,\"type\":\"js\",\"url\":\"/assetserver/dd22ed1bf1896c2748f3fe616ce0b838adc895c1-katex.min.js\"},{\"name\":null,\"type\":\"css\",\"url\":\"/assetserver/46517a424aa5e6cffc1360d7e0848b601c584ee3-katex.min.css\"}],\"type\":\"async_block\"})).then((imports) => handler.apply(this, imports));\n}\n"
              ],
              "observables": {
               "value": {
                "id": "1317733371513546229",
                "sync": false,
                "value": "\\;\\;"
               }
              },
              "systemjs_options": null
             },
             "nodeType": "Scope",
             "props": {},
             "type": "node"
            }
           ],
           "instanceArgs": {
            "namespace": "html",
            "tag": "div"
           },
           "nodeType": "DOM",
           "props": {
            "className": "interact-widget"
           },
           "type": "node"
          },
          {
           "children": [
            {
             "children": [],
             "instanceArgs": {
              "namespace": "html",
              "tag": "div"
             },
             "nodeType": "DOM",
             "props": {
              "className": "webio-observable",
              "setInnerHtml": "<img src='data:image/png;base64,iVBORw0KGgoAAAANSUhEUgAAAa4AAAGuCAIAAABHl3XNAAAABmJLR0QA/wD/AP+gvaeTAAARz0lEQVR4nO3dTW5UZ9rH4ZtWy4yjRCpAGUACI6CCkj0ksVkDYySzgLAFFpBBkGesxxa2yYdwpJpEIjaRwgpSPSBqIXE+qKeqDuc+z3UN4/69auFHt7reYP8vLZfLAKjbfz72fwGAj88pBHAKAZxCgHAKAcIpBAinECCcQoBwCgHCKQQIpxAgnEKAcAoBwikECKcQIJxCgHAKAcIpBIiI/27k/8rZ2dkvv/wSEbdv375586ZWq9WOtm10ac1tk9PT08ePH1+/fv3rr7+OiKOjo8Vi8eTJk7t3706yPTk5efDgwfn5+d9//x0Rn3zyyWw2e/bs2Xw+146kzfiuvOdh2i7LNTx//nx3d/f8/Pzdf3h+fv79998/f/58eu3R0dHVq1ff/zO8evXq0dGRdgxtxnflPQ/TdlvrFO7u7v7111/v//PXr1/v7u5Or71z587734O37ty5ox1Dm/Fdec/DtN3K/7XJy5cvv/zyy08//fT9L3322WdffPHF2dnZxNrXr1+3ffX169faMbQZ35X3PEDbq/xfm/z6669fffVV21fn8/lPP/309v958b7Dw8OM7Zs3b9raN2/eaMfQZnxX3vOm2t9+++3WrVtt/4Fu5f+r8NKlS//880/bV5fL5aVLlybWtn3p7Ve1Y2gzvivveYC2X/FH65cvXz569Kjtq48ePTo7O5tYO5vN2v4YZ7OZdgxtxnflPQ/Q9ir/X4W3bt1aLBaNH90vLi4Wi0XHX/ZJ2nZ/G7RjaDO+K+95gLZf8RFdLpcnJyfffffdq1ev3v2Hr169+vbbb09OTqbXPn/+/Nq1a+//GV67du1D/tKDdoA247vynodpu637V6x//vnnH3744fPPP//mm28i4vDw8I8//njy5Mnt27cn2b548eLBgwd//vnn//9655UrV549e9bx7/i1A7cZ35X3PEzbYd1T+NZisfjxxx8j4tGjRzdu3NBqtdrRto028zPIN27cePvvvwv+O2m1Wu2QbSO/mQbAKQRwCgHCKQQIpxAgnEKAcAoBYlOn8Ozs7PDw8PDw8Pfff9dqtdoxt41sm9iCmFqb8V15k7ZNMrUZ9xxqazO+K29ymLabbZMV2ox7DrW1Gd+VNzlM2822yQptuj2HCtuM78qbHKDtZdtkhXacew7ad9uM78qb3FRr22Sgtu1LMdY9hwrbjO/Kmxyg7Vf80TrpnoMtiGm3Gd+VNzlA28u2yQptuj2HCtuM78qbHKDtV3xElzn3HGxBTLvN+K68yWHabrZNbEFMrc34rrxJ2yZarVZr20Sr1WptmwCMgVMI4BQCOIUA4RQChFMIEE4hQNg20Wq1tbWNbJvYkZham/FdeZO2TTK1Gfccamszvitvcpi2m22TFdqMew61tRnflTc5TNvNtskKbbo9hwrbjO/Kmxyg7WXbZIV2nHsO2nfbjO/Km9xUa9tkoLbtSzHWPYcK24zvypscoO1X/NE66RaEHYlptxnflTc5QNvLtskKbbo9hwrbjO/Kmxyg7Vd8RJc5tyDsSEy7zfiuvMlh2m62TexITK3N+K68SdsmWq1Wa9tEq9VqbZsAjIFTCOAUAjiFAOEUAoRTCBBOIUDYNtFqtbW1zdb5qb3lcnlycrK3t7e/v39wcHBwcLC/v7+7u9v7g5N52+Pj4/l8PpvNdnZ2dnZ2ZrPZfD4/Pj7Wjqf1rrQFbJus0Gbcc6it9a60ZWybrNBm3HOorfWutGVsm6zQpttzqLD1rrRlbJus0I5zz0H7butd1dzaNhmobftSjHXPocLWu9IWKv5onXQLwo7EtFvvSltmrX9tsre3d3Fx8f4/Pz8/39vbm147n8/bvg3z+Vw7hta70paxbbJCm3HPobbWu9KWsW1iR2JqrXelLWDbRKvV1tU2sm2i1Wrrahv5zTQATiGAUwgQTiFAOIUA4RQChFMIELZNtFptbW2jdX/a5PT09PHjx9evX3/71x2Pjo4Wi8WTJ0/u3r2rrbw9OTl58ODB+fn5/39AajabPXv2rOMn6rXarbZd1vkB5ow7Etph2ozbF9ppt91sm2i30mbcvtBOu+1m20S7lTbd9oV22m0v2yZaex3aibS2TbSja9u+FGPdvtBOu+1X/NE66Y6Edpg23faFdtptr/L/VXjr1q3FYtH40f3i4mKxWNy8eVNbbdv9ZLXagdt+xUd0mXNHQjtMm3H7QjvttpttE+222ozbF9pptx1sm2i12rraRrZNtFptXW0jv5kGwCkEcAoBwikECKcQIJxCgHAKAcK2iVarra1tZNtEO7U24+aG1raJVrvJNuPmhnaYtpttE+2k2oybG9ph2m62TbSTatNtbmiHaXvZNtFOqh3n5oZ2mNa2iVb7b9v2pRjr5oZ2mLZf8UfrpJsb2mm36TY3tMO0vWybaCfVptvc0A7T9is+osucmxvaabcZNze0w7TdbJtop9Zm3NzQ2jbRarVa2yZarVZr2wRgDJxCAKcQwCkECKcQIJxCgHAKAcK2iVarra1tZNtEO7U24+aG1raJVrvJNuPmhnaYtpttE+2k2oybG9ph2m62TbSTatNtbmiHaXvZNtFOqh3n5oZ2mNa2iVb7b9v2pRjr5oZ2mLZf8UfrpNsX2mm36TY3tMO0vWybaCfVptvc0A7T9is+osuc2xfaabcZNze0w7TdbJtop9Zm3NzQ2jbRarVa2yZarVZr2wRgDJxCAKcQwCkECKcQIJxCgHAKAcK2iVarra1tZNtEq91Mm3Hro7a2yzo/wJxx+0Kr3UabceujtrabbROtdgNtxq2P2tputk202g206bY+amt72TbRajfQjnPro7bWtolW+5Hbti/FWLc+amv7FX+0Trp9odVuo0239VFb28u2iVa7gTbd1kdtbb/iI7rMuX2h1W6jzbj1UVvbzbaJVruZNuPWR21tB9smWq22rraRbROtVltX28hvpgFwCgGcQoBwCgHCKQQIpxAgnEKAsG2i1WpraxvZNtFqN9Nm3Pqore2yzg8wZ9yg0Gq30Wbc+qit7WbbRKvdQJtx66O2tpttE612A226rY/a2l62TbTaDbTj3PqorbVtotV+5LbtSzHWrY/a2n7FH62TblBotdto02191Nb2sm2i1W6gTbf1UVvbr/iILnNuUGi122gzbn3U1nazbaLVbqbNuPVRW9vBtolWq62rbWTbRKvV1tU28ptpAJxCAKcQIJxCgHAKAcIpBAinECBsm2i12traZuv81N5yuTw+Pp7P57PZbGdnZ2dnZzabzefz4+Nj7TTak5OTvb29/f39g4ODg4OD/f393d3d3h/IrbPN+P2tre2w1inMuG+g/fA248aIbRNtmbVOYcZ9A+2Htxk3RmybaMustW2Sbt9Au1KbcWPEtom2zFrbJuPcN9Buqs24MWLbpOb2o22bdH91hPsG2pXajBsjtk20hYo/WmfcN9Cu1GbcGLFtoi2z1r82mc/nbf+15vO5Nnu7t7d3cXHx/j8/Pz/f29vTvivj97e2tttapzDjvoH2w9uMGyO2TbRl1v0r1qenp/fu3bty5crly5cvX7585cqVe/funZ6eaqfRvnjx4v79+w8fPnz69OnTp08fPnx4//79Fy9eaN+X8ftbW9vBtolWq62rbWTbRKvV1tU28ptpAJxCAKcQIJxCgHAKAcIpBAinECBsm2i12traZmv+tErGfQOtbZNttBm/v7W1HWybaFtl3BixbaItY9tE2yrjxohtE20Z2yba1jbjxohtE20Z2yba0e2EZGwzfn+n19o20W6lzbgxYttEW6j4o3XGfQPtSm3GjRHbJtoytk20rTJujNg20ZaxbaJtlXFjxLaJtoxtE22XjBsjtk20BWybaLXautpGtk20Wm1dbSO/mQbAKQRwCgHCKQQIpxAgnEKAcAoBwraJVqutrW225k+rZNw30No22Uab8ftbW9vBtom2VcaNEdsm2jK2TbStMm6M2DbRlrFtom1tM26M2DbRlrFtoh3dTkjGNuP3d3qtbRPtVtqMGyO2TbSFij9aZ9w30K7UZtwYsW2iLWPbRNsq48aIbRNtGdsm2lYZN0Zsm2jL2DbRdsm4MWLbRFvAtolWq62rbWTbRKvV1tU28ptpAJxCAKcQIJxCgHAKAcIpBAinECBsm2i12traZmv+tErGfQOtbZNttBm/v7W1HWybaFtl3BixbaItY9tE2yrjxohtE20Z2yba1jbjxohtE20Z2yba0e2EZGwzfn+n19o20W6lzbgxYttEW6j4o3XGfQPtSm3GjRHbJtoytk20rTJujNg20ZaxbaJtlXFjxLaJtoxtE22XjBsjtk20BWybaLXautpGtk20Wm1dbSO/mQbAKQRwCgHCKQQIpxAgnEKAcAoBwraJVqutrW225k+rZNw30NpF2Uab8XtUW9vBtol2K23GfRLbJtNuu9k20W6lzbhPYttk2m032ybarbQZ90lsm0y47WXbRGsXZQNtxu/R9FrbJtrRtRn3SWybTLjtV/zROuO+gXawNuM+iW2TCbe9bJtot9Jm3CexbTLttpttE+1W2oz7JLZNpt12s22i3VabcZ/Etsm02w62TbRabV1tI9smWq22rraR30wD4BQCOIUA4RQChFMIEE4hQDiFAGHbRKvV1tY2W/OnVTLuG2htm7TJ+OestW2iHW9rn0Q7trabbRPtVlr7JNqxtd1sm2i30ton0Y6q7WXbRGvb5N8245+z9t3Wtol2dK19Eu2o2n7FH60z7htoB2vtk2hH1faybaLdSmufRDu2tpttE+1WWvsk2rG13WybaLfV2ifRjq3tYNtEq9XW1TaybaLVautqG/nNNABOIYBTCBBOIUA4hQDhFAKEUwgQtk20Wm1tbbM1f1ol476B1rZJm4x/zlrbJtrxtrZNtGNru9k20W6ltW2iHVvbzbaJdiutbRPtqNpetk20tk3+bTP+OWvfbW2baEfX2jbRjqrtV/zROuO+gXaw1raJdlRtL9sm2q20tk20Y2u72TbRbqW1baIdW9vNtol2W61tE+3Y2g62TbRabV1tI9smWq22rraR30wD4BQCOIUA4RQChFMIEE4hQDiFAGHbRKvV1tY2W/OnVTLuG2invU9i20RbwLaJtlXGfRLbJtoytk20rTLuk9g20ZaxbaJtbTPuk9g20ZaxbaId3caIbRNtWWvbRLuVNuM+iW0TbaHij9YZ9w20K7UZ90lsm2jL2DbRtsq4T2LbRFvGtom2VcZ9Etsm2jK2TbRdMu6T2DbRFrBtotVq62ob2TbRarV1tY38ZhoApxDAKQQIpxAgnEKAcAoBwikECNsmWq22trbZmj+tknHfQGvbpE3G75HWtonWtskm24zfI+2Ht91sm2hbZdwnsW2iLWPbRNvaZtwnsW2iLWPbRDu6jRHbJtqy1raJdittxn0S2ybaQsUfrTPuG2hXajPuk9g20ZaxbaJtlXGfxLaJtoxtE22rjPsktk20ZWybaLtk3CexbaItYNtEq9XW1TaybaLVautqG/nNNABOIYBTCBBOIUA4hQDhFAKEUwgQtk20Wm1tbbM1f1ol476B1rZJm4zfI61tE61tk022Gb9H2g9vu9k20bbKuE9i20RbxraJtrXNuE9i20RbxraJdnQbI7ZNtGWtbRPtVtqM+yS2TbSFij9aZ9w30K7UZtwnsW2iLWPbRNsq4z6JbRNtGdsm2lYZ90lsm2jL2DbRdsm4T2LbRFvAtolWq62rbWTbRKvV1tU28ptpAJxCAKcQIJxCgHAKAcIpBAinECBsm2i12traZmv+tIodiWm3GfdJvEltgXV/HYMdiQm3GfdJvEltmbVOoR2JabcZ90m8SW2ZtbZN7EhMu824T+JNasustW1iR2LabcZ9Em+y5vajbZvYkZh2m3GfxJvUFir+aG1HYvJtxn0Sb1JbZq1/bWJHYtptxn0Sb1JbZq1TaEdi2m3GfRJvUltm3b9ibUdi2m3GfRJvUltgY9smp6enEXH37t2CjQKtVqsdrG20mVMIkJrfTAPgFAI4hQDhFAKEUwgQTiFAOIUA4RQChFMIEE4hQDiFAOEUAoRTCBBOIUA4hQDhFAKEUwgQTiFARPwP95It2H+/U7wAAAAASUVORK5CYII='></img>"
             },
             "type": "node"
            }
           ],
           "instanceArgs": {
            "handlers": {
             "obs-output": [
              "function (value, scope) {\n    scope.setInnerHTML(value);\n}\n"
             ]
            },
            "id": "10057800185728348889",
            "imports": {
             "data": [],
             "type": "async_block"
            },
            "mount_callbacks": [],
            "observables": {
             "obs-output": {
              "id": "1450832739443940610",
              "sync": false,
              "value": "<img src='data:image/png;base64,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'></img>"
             }
            },
            "systemjs_options": null
           },
           "nodeType": "Scope",
           "props": {},
           "type": "node"
          },
          {
           "children": [
            {
             "children": [
              {
               "children": [],
               "instanceArgs": {
                "namespace": "html",
                "tag": "div"
               },
               "nodeType": "DOM",
               "props": {
                "id": "container"
               },
               "type": "node"
              }
             ],
             "instanceArgs": {
              "handlers": {
               "value": [
                "(function (txt){return this.k.render(txt,this.container)})"
               ]
              },
              "id": "1888243910810052245",
              "imports": {
               "data": [
                {
                 "name": null,
                 "type": "js",
                 "url": "/assetserver/dd22ed1bf1896c2748f3fe616ce0b838adc895c1-katex.min.js"
                },
                {
                 "name": null,
                 "type": "css",
                 "url": "/assetserver/46517a424aa5e6cffc1360d7e0848b601c584ee3-katex.min.css"
                }
               ],
               "type": "async_block"
              },
              "mount_callbacks": [
               "function () {\n    var handler = ((function (k){this.k=k; this.container=this.dom.querySelector(\"#container\"); return k.render(\"\\\\;\\\\;\",this.container)}));\n    (WebIO.importBlock({\"data\":[{\"name\":null,\"type\":\"js\",\"url\":\"/assetserver/dd22ed1bf1896c2748f3fe616ce0b838adc895c1-katex.min.js\"},{\"name\":null,\"type\":\"css\",\"url\":\"/assetserver/46517a424aa5e6cffc1360d7e0848b601c584ee3-katex.min.css\"}],\"type\":\"async_block\"})).then((imports) => handler.apply(this, imports));\n}\n"
              ],
              "observables": {
               "value": {
                "id": "1317733371513546229",
                "sync": false,
                "value": "\\;\\;"
               }
              },
              "systemjs_options": null
             },
             "nodeType": "Scope",
             "props": {},
             "type": "node"
            }
           ],
           "instanceArgs": {
            "namespace": "html",
            "tag": "div"
           },
           "nodeType": "DOM",
           "props": {
            "className": "interact-widget"
           },
           "type": "node"
          },
          {
           "children": [],
           "instanceArgs": {
            "namespace": "html",
            "tag": "div"
           },
           "nodeType": "DOM",
           "props": {
            "style": {
             "display": "flex",
             "flex-direction": "column"
            }
           },
           "type": "node"
          }
         ],
         "instanceArgs": {
          "namespace": "html",
          "tag": "div"
         },
         "nodeType": "DOM",
         "props": {
          "style": {
           "display": "flex",
           "flex-direction": "row"
          }
         },
         "type": "node"
        }
       ],
       "instanceArgs": {
        "namespace": "html",
        "tag": "div"
       },
       "nodeType": "DOM",
       "props": {
        "style": {
         "display": "flex",
         "flex-direction": "column"
        }
       },
       "type": "node"
      },
      "text/html": [
       "<div\n",
       "    class=\"webio-mountpoint\"\n",
       "    data-webio-mountpoint=\"11159607511442145158\"\n",
       ">\n",
       "    <script>\n",
       "    (function(){\n",
       "    // Some integrations (namely, IJulia/Jupyter) use an alternate render pathway than\n",
       "    // just putting the html on the page. If WebIO isn't defined, then it's pretty likely\n",
       "    // that we're in one of those situations and the integration just isn't installed\n",
       "    // correctly.\n",
       "    if (typeof window.WebIO === \"undefined\") {\n",
       "        document\n",
       "            .querySelector('[data-webio-mountpoint=\"11159607511442145158\"]')\n",
       "            .innerHTML = (\n",
       "                '<div style=\"padding: 1em; background-color: #f8d6da; border: 1px solid #f5c6cb; font-weight: bold;\">' +\n",
       "                '<p><strong>WebIO not detected.</strong></p>' +\n",
       "                '<p>Please read ' +\n",
       "                '<a href=\"https://juliagizmos.github.io/WebIO.jl/latest/troubleshooting/not-detected/\" target=\"_blank\">the troubleshooting guide</a> ' +\n",
       "                'for more information on how to resolve this issue.</p>' +\n",
       "                '<p><a href=\"https://juliagizmos.github.io/WebIO.jl/latest/troubleshooting/not-detected/\" target=\"_blank\">https://juliagizmos.github.io/WebIO.jl/latest/troubleshooting/not-detected/</a></p>' +\n",
       "                '</div>'\n",
       "            );\n",
       "        return;\n",
       "    }\n",
       "    WebIO.mount(\n",
       "        document.querySelector('[data-webio-mountpoint=\"11159607511442145158\"]'),\n",
       "        {\"props\":{\"style\":{\"display\":\"flex\",\"flex-direction\":\"column\"}},\"nodeType\":\"DOM\",\"type\":\"node\",\"instanceArgs\":{\"namespace\":\"html\",\"tag\":\"div\"},\"children\":[{\"props\":{\"style\":{\"display\":\"flex\",\"flex-direction\":\"row\"}},\"nodeType\":\"DOM\",\"type\":\"node\",\"instanceArgs\":{\"namespace\":\"html\",\"tag\":\"div\"},\"children\":[{\"props\":{\"style\":{\"display\":\"flex\",\"flex-direction\":\"column\"}},\"nodeType\":\"DOM\",\"type\":\"node\",\"instanceArgs\":{\"namespace\":\"html\",\"tag\":\"div\"},\"children\":[{\"props\":{\"className\":\"field interact-widget\"},\"nodeType\":\"DOM\",\"type\":\"node\",\"instanceArgs\":{\"namespace\":\"html\",\"tag\":\"div\"},\"children\":[{\"props\":{},\"nodeType\":\"Scope\",\"type\":\"node\",\"instanceArgs\":{\"imports\":{\"data\":[{\"name\":\"knockout\",\"type\":\"js\",\"url\":\"\\/assetserver\\/727383f2a47bd31570b7da84eee7b022dd6d7c78-knockout.js\"},{\"name\":\"knockout_punches\",\"type\":\"js\",\"url\":\"\\/assetserver\\/382b41b3b1bd9f26f75861d360bad7f8beea211f-knockout_punches.js\"},{\"name\":null,\"type\":\"js\",\"url\":\"\\/assetserver\\/5ab20f1060420992a9b82a65b735dee4d81ef413-all.js\"},{\"name\":null,\"type\":\"css\",\"url\":\"\\/assetserver\\/1cc0ed62837210b80a182cc3676512f895dab686-style.css\"},{\"name\":null,\"type\":\"css\",\"url\":\"\\/assetserver\\/2eee816f616df3549d7044d45e744fbf8d42bfa1-bulma_confined.min.css\"}],\"type\":\"async_block\"},\"id\":\"11373317075651309831\",\"handlers\":{\"changes\":[\"(function (val){return (val!=this.model[\\\"changes\\\"]()) ? (this.valueFromJulia[\\\"changes\\\"]=true, this.model[\\\"changes\\\"](val)) : undefined})\"],\"index\":[\"(function (val){return (val!=this.model[\\\"index\\\"]()) ? (this.valueFromJulia[\\\"index\\\"]=true, this.model[\\\"index\\\"](val)) : undefined})\"]},\"systemjs_options\":null,\"mount_callbacks\":[\"function () {\\n    var handler = (function (ko, koPunches) {\\n    ko.punches.enableAll();\\n    ko.bindingHandlers.numericValue = {\\n        init: function(element, valueAccessor, allBindings, data, context) {\\n            var stringified = ko.observable(ko.unwrap(valueAccessor()));\\n            stringified.subscribe(function(value) {\\n                var val = parseFloat(value);\\n                if (!isNaN(val)) {\\n                    valueAccessor()(val);\\n                }\\n            });\\n            valueAccessor().subscribe(function(value) {\\n                var str = JSON.stringify(value);\\n                if ((str == \\\"0\\\") && ([\\\"-0\\\", \\\"-0.\\\"].indexOf(stringified()) >= 0))\\n                     return;\\n                 if ([\\\"null\\\", \\\"\\\"].indexOf(str) >= 0)\\n                     return;\\n                stringified(str);\\n            });\\n            ko.applyBindingsToNode(\\n                element,\\n                {\\n                    value: stringified,\\n                    valueUpdate: allBindings.get('valueUpdate'),\\n                },\\n                context,\\n            );\\n        }\\n    };\\n    var json_data = {\\\"formatted_vals\\\":[\\\"1\\\",\\\"2\\\",\\\"3\\\",\\\"4\\\",\\\"5\\\",\\\"6\\\",\\\"7\\\",\\\"8\\\",\\\"9\\\",\\\"10\\\",\\\"11\\\",\\\"12\\\",\\\"13\\\",\\\"14\\\",\\\"15\\\",\\\"16\\\",\\\"17\\\",\\\"18\\\",\\\"19\\\",\\\"20\\\",\\\"21\\\",\\\"22\\\",\\\"23\\\",\\\"24\\\",\\\"25\\\",\\\"26\\\",\\\"27\\\",\\\"28\\\",\\\"29\\\",\\\"30\\\",\\\"31\\\",\\\"32\\\",\\\"33\\\",\\\"34\\\",\\\"35\\\",\\\"36\\\",\\\"37\\\",\\\"38\\\",\\\"39\\\",\\\"40\\\",\\\"41\\\",\\\"42\\\",\\\"43\\\",\\\"44\\\",\\\"45\\\",\\\"46\\\",\\\"47\\\",\\\"48\\\",\\\"49\\\",\\\"50\\\",\\\"51\\\",\\\"52\\\",\\\"53\\\",\\\"54\\\",\\\"55\\\",\\\"56\\\",\\\"57\\\",\\\"58\\\",\\\"59\\\",\\\"60\\\",\\\"61\\\",\\\"62\\\",\\\"63\\\",\\\"64\\\",\\\"65\\\",\\\"66\\\",\\\"67\\\",\\\"68\\\",\\\"69\\\",\\\"70\\\",\\\"71\\\",\\\"72\\\",\\\"73\\\",\\\"74\\\",\\\"75\\\",\\\"76\\\",\\\"77\\\",\\\"78\\\",\\\"79\\\",\\\"80\\\",\\\"81\\\",\\\"82\\\",\\\"83\\\",\\\"84\\\",\\\"85\\\",\\\"86\\\",\\\"87\\\",\\\"88\\\",\\\"89\\\",\\\"90\\\",\\\"91\\\",\\\"92\\\",\\\"93\\\",\\\"94\\\",\\\"95\\\",\\\"96\\\",\\\"97\\\",\\\"98\\\",\\\"99\\\",\\\"100\\\",\\\"101\\\"],\\\"changes\\\":WebIO.getval({\\\"name\\\":\\\"changes\\\",\\\"scope\\\":\\\"11373317075651309831\\\",\\\"id\\\":\\\"16904332047883766770\\\",\\\"type\\\":\\\"observable\\\"}),\\\"index\\\":WebIO.getval({\\\"name\\\":\\\"index\\\",\\\"scope\\\":\\\"11373317075651309831\\\",\\\"id\\\":\\\"9816914574084306819\\\",\\\"type\\\":\\\"observable\\\"})};\\n    var self = this;\\n    function AppViewModel() {\\n        for (var key in json_data) {\\n            var el = json_data[key];\\n            this[key] = Array.isArray(el) ? ko.observableArray(el) : ko.observable(el);\\n        }\\n        \\n        [this[\\\"formatted_val\\\"]=ko.computed(    function(){\\n        return this.formatted_vals()[parseInt(this.index())-(1)];\\n    }\\n,this)]\\n        [this[\\\"changes\\\"].subscribe((function (val){!(this.valueFromJulia[\\\"changes\\\"]) ? (WebIO.setval({\\\"name\\\":\\\"changes\\\",\\\"scope\\\":\\\"11373317075651309831\\\",\\\"id\\\":\\\"16904332047883766770\\\",\\\"type\\\":\\\"observable\\\"},val)) : undefined; return this.valueFromJulia[\\\"changes\\\"]=false}),self),this[\\\"index\\\"].subscribe((function (val){!(this.valueFromJulia[\\\"index\\\"]) ? (WebIO.setval({\\\"name\\\":\\\"index\\\",\\\"scope\\\":\\\"11373317075651309831\\\",\\\"id\\\":\\\"9816914574084306819\\\",\\\"type\\\":\\\"observable\\\"},val)) : undefined; return this.valueFromJulia[\\\"index\\\"]=false}),self)]\\n        \\n    }\\n    self.model = new AppViewModel();\\n    self.valueFromJulia = {};\\n    for (var key in json_data) {\\n        self.valueFromJulia[key] = false;\\n    }\\n    ko.applyBindings(self.model, self.dom);\\n}\\n);\\n    (WebIO.importBlock({\\\"data\\\":[{\\\"name\\\":\\\"knockout\\\",\\\"type\\\":\\\"js\\\",\\\"url\\\":\\\"\\/assetserver\\/727383f2a47bd31570b7da84eee7b022dd6d7c78-knockout.js\\\"},{\\\"name\\\":\\\"knockout_punches\\\",\\\"type\\\":\\\"js\\\",\\\"url\\\":\\\"\\/assetserver\\/382b41b3b1bd9f26f75861d360bad7f8beea211f-knockout_punches.js\\\"}],\\\"type\\\":\\\"async_block\\\"})).then((imports) => handler.apply(this, imports));\\n}\\n\"],\"observables\":{\"changes\":{\"sync\":false,\"id\":\"16904332047883766770\",\"value\":0},\"index\":{\"sync\":true,\"id\":\"9816914574084306819\",\"value\":51}}},\"children\":[{\"props\":{\"className\":\"interact-flex-row interact-widget\"},\"nodeType\":\"DOM\",\"type\":\"node\",\"instanceArgs\":{\"namespace\":\"html\",\"tag\":\"div\"},\"children\":[{\"props\":{\"className\":\"interact-flex-row-left\"},\"nodeType\":\"DOM\",\"type\":\"node\",\"instanceArgs\":{\"namespace\":\"html\",\"tag\":\"div\"},\"children\":[{\"props\":{\"className\":\"interact \",\"style\":{\"padding\":\"5px 10px 0px 10px\"}},\"nodeType\":\"DOM\",\"type\":\"node\",\"instanceArgs\":{\"namespace\":\"html\",\"tag\":\"label\"},\"children\":[\"time\"]}]},{\"props\":{\"className\":\"interact-flex-row-center\"},\"nodeType\":\"DOM\",\"type\":\"node\",\"instanceArgs\":{\"namespace\":\"html\",\"tag\":\"div\"},\"children\":[{\"props\":{\"max\":101,\"min\":1,\"attributes\":{\"type\":\"range\",\"data-bind\":\"numericValue: index, valueUpdate: 'input', event: {change: function (){this.changes(this.changes()+1)}}\",\"orient\":\"horizontal\"},\"step\":1,\"className\":\"slider slider is-fullwidth\",\"style\":{}},\"nodeType\":\"DOM\",\"type\":\"node\",\"instanceArgs\":{\"namespace\":\"html\",\"tag\":\"input\"},\"children\":[]}]},{\"props\":{\"className\":\"interact-flex-row-right\"},\"nodeType\":\"DOM\",\"type\":\"node\",\"instanceArgs\":{\"namespace\":\"html\",\"tag\":\"div\"},\"children\":[{\"props\":{\"attributes\":{\"data-bind\":\"text: formatted_val\"}},\"nodeType\":\"DOM\",\"type\":\"node\",\"instanceArgs\":{\"namespace\":\"html\",\"tag\":\"p\"},\"children\":[]}]}]}]}]},{\"props\":{\"className\":\"field interact-widget\"},\"nodeType\":\"DOM\",\"type\":\"node\",\"instanceArgs\":{\"namespace\":\"html\",\"tag\":\"div\"},\"children\":[{\"props\":{},\"nodeType\":\"Scope\",\"type\":\"node\",\"instanceArgs\":{\"imports\":{\"data\":[{\"name\":\"knockout\",\"type\":\"js\",\"url\":\"\\/assetserver\\/727383f2a47bd31570b7da84eee7b022dd6d7c78-knockout.js\"},{\"name\":\"knockout_punches\",\"type\":\"js\",\"url\":\"\\/assetserver\\/382b41b3b1bd9f26f75861d360bad7f8beea211f-knockout_punches.js\"},{\"name\":null,\"type\":\"js\",\"url\":\"\\/assetserver\\/5ab20f1060420992a9b82a65b735dee4d81ef413-all.js\"},{\"name\":null,\"type\":\"css\",\"url\":\"\\/assetserver\\/1cc0ed62837210b80a182cc3676512f895dab686-style.css\"},{\"name\":null,\"type\":\"css\",\"url\":\"\\/assetserver\\/2eee816f616df3549d7044d45e744fbf8d42bfa1-bulma_confined.min.css\"}],\"type\":\"async_block\"},\"id\":\"14159898180705293123\",\"handlers\":{\"changes\":[\"(function (val){return (val!=this.model[\\\"changes\\\"]()) ? (this.valueFromJulia[\\\"changes\\\"]=true, this.model[\\\"changes\\\"](val)) : undefined})\"],\"index\":[\"(function (val){return (val!=this.model[\\\"index\\\"]()) ? (this.valueFromJulia[\\\"index\\\"]=true, this.model[\\\"index\\\"](val)) : undefined})\"]},\"systemjs_options\":null,\"mount_callbacks\":[\"function () {\\n    var handler = (function (ko, koPunches) {\\n    ko.punches.enableAll();\\n    ko.bindingHandlers.numericValue = {\\n        init: function(element, valueAccessor, allBindings, data, context) {\\n            var stringified = ko.observable(ko.unwrap(valueAccessor()));\\n            stringified.subscribe(function(value) {\\n                var val = parseFloat(value);\\n                if (!isNaN(val)) {\\n                    valueAccessor()(val);\\n                }\\n            });\\n            valueAccessor().subscribe(function(value) {\\n                var str = JSON.stringify(value);\\n                if ((str == \\\"0\\\") && ([\\\"-0\\\", \\\"-0.\\\"].indexOf(stringified()) >= 0))\\n                     return;\\n                 if ([\\\"null\\\", \\\"\\\"].indexOf(str) >= 0)\\n                     return;\\n                stringified(str);\\n            });\\n            ko.applyBindingsToNode(\\n                element,\\n                {\\n                    value: stringified,\\n                    valueUpdate: allBindings.get('valueUpdate'),\\n                },\\n                context,\\n            );\\n        }\\n    };\\n    var json_data = {\\\"formatted_vals\\\":[\\\"0.1\\\",\\\"0.2\\\",\\\"0.3\\\",\\\"0.4\\\",\\\"0.5\\\",\\\"0.6\\\",\\\"0.7\\\",\\\"0.8\\\",\\\"0.9\\\",\\\"1.0\\\",\\\"1.1\\\",\\\"1.2\\\",\\\"1.3\\\",\\\"1.4\\\",\\\"1.5\\\",\\\"1.6\\\",\\\"1.7\\\",\\\"1.8\\\",\\\"1.9\\\",\\\"2.0\\\"],\\\"changes\\\":WebIO.getval({\\\"name\\\":\\\"changes\\\",\\\"scope\\\":\\\"14159898180705293123\\\",\\\"id\\\":\\\"10965762075187713181\\\",\\\"type\\\":\\\"observable\\\"}),\\\"index\\\":WebIO.getval({\\\"name\\\":\\\"index\\\",\\\"scope\\\":\\\"14159898180705293123\\\",\\\"id\\\":\\\"17191485018480695874\\\",\\\"type\\\":\\\"observable\\\"})};\\n    var self = this;\\n    function AppViewModel() {\\n        for (var key in json_data) {\\n            var el = json_data[key];\\n            this[key] = Array.isArray(el) ? ko.observableArray(el) : ko.observable(el);\\n        }\\n        \\n        [this[\\\"formatted_val\\\"]=ko.computed(    function(){\\n        return this.formatted_vals()[parseInt(this.index())-(1)];\\n    }\\n,this)]\\n        [this[\\\"changes\\\"].subscribe((function (val){!(this.valueFromJulia[\\\"changes\\\"]) ? (WebIO.setval({\\\"name\\\":\\\"changes\\\",\\\"scope\\\":\\\"14159898180705293123\\\",\\\"id\\\":\\\"10965762075187713181\\\",\\\"type\\\":\\\"observable\\\"},val)) : undefined; return this.valueFromJulia[\\\"changes\\\"]=false}),self),this[\\\"index\\\"].subscribe((function (val){!(this.valueFromJulia[\\\"index\\\"]) ? (WebIO.setval({\\\"name\\\":\\\"index\\\",\\\"scope\\\":\\\"14159898180705293123\\\",\\\"id\\\":\\\"17191485018480695874\\\",\\\"type\\\":\\\"observable\\\"},val)) : undefined; return this.valueFromJulia[\\\"index\\\"]=false}),self)]\\n        \\n    }\\n    self.model = new AppViewModel();\\n    self.valueFromJulia = {};\\n    for (var key in json_data) {\\n        self.valueFromJulia[key] = false;\\n    }\\n    ko.applyBindings(self.model, self.dom);\\n}\\n);\\n    (WebIO.importBlock({\\\"data\\\":[{\\\"name\\\":\\\"knockout\\\",\\\"type\\\":\\\"js\\\",\\\"url\\\":\\\"\\/assetserver\\/727383f2a47bd31570b7da84eee7b022dd6d7c78-knockout.js\\\"},{\\\"name\\\":\\\"knockout_punches\\\",\\\"type\\\":\\\"js\\\",\\\"url\\\":\\\"\\/assetserver\\/382b41b3b1bd9f26f75861d360bad7f8beea211f-knockout_punches.js\\\"}],\\\"type\\\":\\\"async_block\\\"})).then((imports) => handler.apply(this, imports));\\n}\\n\"],\"observables\":{\"changes\":{\"sync\":false,\"id\":\"10965762075187713181\",\"value\":0},\"index\":{\"sync\":true,\"id\":\"17191485018480695874\",\"value\":10}}},\"children\":[{\"props\":{\"className\":\"interact-flex-row interact-widget\"},\"nodeType\":\"DOM\",\"type\":\"node\",\"instanceArgs\":{\"namespace\":\"html\",\"tag\":\"div\"},\"children\":[{\"props\":{\"className\":\"interact-flex-row-left\"},\"nodeType\":\"DOM\",\"type\":\"node\",\"instanceArgs\":{\"namespace\":\"html\",\"tag\":\"div\"},\"children\":[{\"props\":{\"className\":\"interact \",\"style\":{\"padding\":\"5px 10px 0px 10px\"}},\"nodeType\":\"DOM\",\"type\":\"node\",\"instanceArgs\":{\"namespace\":\"html\",\"tag\":\"label\"},\"children\":[\"scale\"]}]},{\"props\":{\"className\":\"interact-flex-row-center\"},\"nodeType\":\"DOM\",\"type\":\"node\",\"instanceArgs\":{\"namespace\":\"html\",\"tag\":\"div\"},\"children\":[{\"props\":{\"max\":20,\"min\":1,\"attributes\":{\"type\":\"range\",\"data-bind\":\"numericValue: index, valueUpdate: 'input', event: {change: function (){this.changes(this.changes()+1)}}\",\"orient\":\"horizontal\"},\"step\":1,\"className\":\"slider slider is-fullwidth\",\"style\":{}},\"nodeType\":\"DOM\",\"type\":\"node\",\"instanceArgs\":{\"namespace\":\"html\",\"tag\":\"input\"},\"children\":[]}]},{\"props\":{\"className\":\"interact-flex-row-right\"},\"nodeType\":\"DOM\",\"type\":\"node\",\"instanceArgs\":{\"namespace\":\"html\",\"tag\":\"div\"},\"children\":[{\"props\":{\"attributes\":{\"data-bind\":\"text: formatted_val\"}},\"nodeType\":\"DOM\",\"type\":\"node\",\"instanceArgs\":{\"namespace\":\"html\",\"tag\":\"p\"},\"children\":[]}]}]}]}]},{\"props\":{\"style\":{\"display\":\"flex\",\"flex-direction\":\"row\"}},\"nodeType\":\"DOM\",\"type\":\"node\",\"instanceArgs\":{\"namespace\":\"html\",\"tag\":\"div\"},\"children\":[{\"props\":{\"className\":\"interact-widget\"},\"nodeType\":\"DOM\",\"type\":\"node\",\"instanceArgs\":{\"namespace\":\"html\",\"tag\":\"div\"},\"children\":[{\"props\":{},\"nodeType\":\"Scope\",\"type\":\"node\",\"instanceArgs\":{\"imports\":{\"data\":[{\"name\":null,\"type\":\"js\",\"url\":\"\\/assetserver\\/dd22ed1bf1896c2748f3fe616ce0b838adc895c1-katex.min.js\"},{\"name\":null,\"type\":\"css\",\"url\":\"\\/assetserver\\/46517a424aa5e6cffc1360d7e0848b601c584ee3-katex.min.css\"}],\"type\":\"async_block\"},\"id\":\"1888243910810052245\",\"handlers\":{\"value\":[\"(function (txt){return this.k.render(txt,this.container)})\"]},\"systemjs_options\":null,\"mount_callbacks\":[\"function () {\\n    var handler = ((function (k){this.k=k; this.container=this.dom.querySelector(\\\"#container\\\"); return k.render(\\\"\\\\\\\\;\\\\\\\\;\\\",this.container)}));\\n    (WebIO.importBlock({\\\"data\\\":[{\\\"name\\\":null,\\\"type\\\":\\\"js\\\",\\\"url\\\":\\\"\\/assetserver\\/dd22ed1bf1896c2748f3fe616ce0b838adc895c1-katex.min.js\\\"},{\\\"name\\\":null,\\\"type\\\":\\\"css\\\",\\\"url\\\":\\\"\\/assetserver\\/46517a424aa5e6cffc1360d7e0848b601c584ee3-katex.min.css\\\"}],\\\"type\\\":\\\"async_block\\\"})).then((imports) => handler.apply(this, imports));\\n}\\n\"],\"observables\":{\"value\":{\"sync\":false,\"id\":\"1317733371513546229\",\"value\":\"\\\\;\\\\;\"}}},\"children\":[{\"props\":{\"id\":\"container\"},\"nodeType\":\"DOM\",\"type\":\"node\",\"instanceArgs\":{\"namespace\":\"html\",\"tag\":\"div\"},\"children\":[]}]}]},{\"props\":{\"className\":\"field interact-widget\"},\"nodeType\":\"DOM\",\"type\":\"node\",\"instanceArgs\":{\"namespace\":\"html\",\"tag\":\"div\"},\"children\":[{\"props\":{},\"nodeType\":\"Scope\",\"type\":\"node\",\"instanceArgs\":{\"imports\":{\"data\":[{\"name\":\"knockout\",\"type\":\"js\",\"url\":\"\\/assetserver\\/727383f2a47bd31570b7da84eee7b022dd6d7c78-knockout.js\"},{\"name\":\"knockout_punches\",\"type\":\"js\",\"url\":\"\\/assetserver\\/382b41b3b1bd9f26f75861d360bad7f8beea211f-knockout_punches.js\"},{\"name\":null,\"type\":\"js\",\"url\":\"\\/assetserver\\/5ab20f1060420992a9b82a65b735dee4d81ef413-all.js\"},{\"name\":null,\"type\":\"css\",\"url\":\"\\/assetserver\\/1cc0ed62837210b80a182cc3676512f895dab686-style.css\"},{\"name\":null,\"type\":\"css\",\"url\":\"\\/assetserver\\/2eee816f616df3549d7044d45e744fbf8d42bfa1-bulma_confined.min.css\"}],\"type\":\"async_block\"},\"id\":\"17726626130608654657\",\"handlers\":{\"loading\":[\"(function (val){return (val!=this.model[\\\"loading\\\"]()) ? (this.valueFromJulia[\\\"loading\\\"]=true, this.model[\\\"loading\\\"](val)) : undefined})\"],\"clicks\":[\"(function (val){return (val!=this.model[\\\"clicks\\\"]()) ? (this.valueFromJulia[\\\"clicks\\\"]=true, this.model[\\\"clicks\\\"](val)) : undefined})\"]},\"systemjs_options\":null,\"mount_callbacks\":[\"function () {\\n    var handler = (function (ko, koPunches) {\\n    ko.punches.enableAll();\\n    ko.bindingHandlers.numericValue = {\\n        init: function(element, valueAccessor, allBindings, data, context) {\\n            var stringified = ko.observable(ko.unwrap(valueAccessor()));\\n            stringified.subscribe(function(value) {\\n                var val = parseFloat(value);\\n                if (!isNaN(val)) {\\n                    valueAccessor()(val);\\n                }\\n            });\\n            valueAccessor().subscribe(function(value) {\\n                var str = JSON.stringify(value);\\n                if ((str == \\\"0\\\") && ([\\\"-0\\\", \\\"-0.\\\"].indexOf(stringified()) >= 0))\\n                     return;\\n                 if ([\\\"null\\\", \\\"\\\"].indexOf(str) >= 0)\\n                     return;\\n                stringified(str);\\n            });\\n            ko.applyBindingsToNode(\\n                element,\\n                {\\n                    value: stringified,\\n                    valueUpdate: allBindings.get('valueUpdate'),\\n                },\\n                context,\\n            );\\n        }\\n    };\\n    var json_data = {\\\"loading\\\":WebIO.getval({\\\"name\\\":\\\"loading\\\",\\\"scope\\\":\\\"17726626130608654657\\\",\\\"id\\\":\\\"12308017079574468674\\\",\\\"type\\\":\\\"observable\\\"}),\\\"clicks\\\":WebIO.getval({\\\"name\\\":\\\"clicks\\\",\\\"scope\\\":\\\"17726626130608654657\\\",\\\"id\\\":\\\"15391512501674419803\\\",\\\"type\\\":\\\"observable\\\"})};\\n    var self = this;\\n    function AppViewModel() {\\n        for (var key in json_data) {\\n            var el = json_data[key];\\n            this[key] = Array.isArray(el) ? ko.observableArray(el) : ko.observable(el);\\n        }\\n        \\n        \\n        [this[\\\"loading\\\"].subscribe((function (val){!(this.valueFromJulia[\\\"loading\\\"]) ? (WebIO.setval({\\\"name\\\":\\\"loading\\\",\\\"scope\\\":\\\"17726626130608654657\\\",\\\"id\\\":\\\"12308017079574468674\\\",\\\"type\\\":\\\"observable\\\"},val)) : undefined; return this.valueFromJulia[\\\"loading\\\"]=false}),self),this[\\\"clicks\\\"].subscribe((function (val){!(this.valueFromJulia[\\\"clicks\\\"]) ? (WebIO.setval({\\\"name\\\":\\\"clicks\\\",\\\"scope\\\":\\\"17726626130608654657\\\",\\\"id\\\":\\\"15391512501674419803\\\",\\\"type\\\":\\\"observable\\\"},val)) : undefined; return this.valueFromJulia[\\\"clicks\\\"]=false}),self)]\\n        \\n    }\\n    self.model = new AppViewModel();\\n    self.valueFromJulia = {};\\n    for (var key in json_data) {\\n        self.valueFromJulia[key] = false;\\n    }\\n    ko.applyBindings(self.model, self.dom);\\n}\\n);\\n    (WebIO.importBlock({\\\"data\\\":[{\\\"name\\\":\\\"knockout\\\",\\\"type\\\":\\\"js\\\",\\\"url\\\":\\\"\\/assetserver\\/727383f2a47bd31570b7da84eee7b022dd6d7c78-knockout.js\\\"},{\\\"name\\\":\\\"knockout_punches\\\",\\\"type\\\":\\\"js\\\",\\\"url\\\":\\\"\\/assetserver\\/382b41b3b1bd9f26f75861d360bad7f8beea211f-knockout_punches.js\\\"}],\\\"type\\\":\\\"async_block\\\"})).then((imports) => handler.apply(this, imports));\\n}\\n\"],\"observables\":{\"loading\":{\"sync\":false,\"id\":\"12308017079574468674\",\"value\":false},\"clicks\":{\"sync\":true,\"id\":\"15391512501674419803\",\"value\":0}}},\"children\":[{\"props\":{\"attributes\":{\"data-bind\":\"click: function (){this.clicks(this.clicks()+1)}, css: {'is-loading' : loading}\"},\"className\":\"is-medium button is-primary\",\"style\":{}},\"nodeType\":\"DOM\",\"type\":\"node\",\"instanceArgs\":{\"namespace\":\"html\",\"tag\":\"button\"},\"children\":[\"run\"]}]}]},{\"props\":{\"className\":\"interact-widget\"},\"nodeType\":\"DOM\",\"type\":\"node\",\"instanceArgs\":{\"namespace\":\"html\",\"tag\":\"div\"},\"children\":[{\"props\":{},\"nodeType\":\"Scope\",\"type\":\"node\",\"instanceArgs\":{\"imports\":{\"data\":[{\"name\":null,\"type\":\"js\",\"url\":\"\\/assetserver\\/dd22ed1bf1896c2748f3fe616ce0b838adc895c1-katex.min.js\"},{\"name\":null,\"type\":\"css\",\"url\":\"\\/assetserver\\/46517a424aa5e6cffc1360d7e0848b601c584ee3-katex.min.css\"}],\"type\":\"async_block\"},\"id\":\"1888243910810052245\",\"handlers\":{\"value\":[\"(function (txt){return this.k.render(txt,this.container)})\"]},\"systemjs_options\":null,\"mount_callbacks\":[\"function () {\\n    var handler = ((function (k){this.k=k; this.container=this.dom.querySelector(\\\"#container\\\"); return k.render(\\\"\\\\\\\\;\\\\\\\\;\\\",this.container)}));\\n    (WebIO.importBlock({\\\"data\\\":[{\\\"name\\\":null,\\\"type\\\":\\\"js\\\",\\\"url\\\":\\\"\\/assetserver\\/dd22ed1bf1896c2748f3fe616ce0b838adc895c1-katex.min.js\\\"},{\\\"name\\\":null,\\\"type\\\":\\\"css\\\",\\\"url\\\":\\\"\\/assetserver\\/46517a424aa5e6cffc1360d7e0848b601c584ee3-katex.min.css\\\"}],\\\"type\\\":\\\"async_block\\\"})).then((imports) => handler.apply(this, imports));\\n}\\n\"],\"observables\":{\"value\":{\"sync\":false,\"id\":\"1317733371513546229\",\"value\":\"\\\\;\\\\;\"}}},\"children\":[{\"props\":{\"id\":\"container\"},\"nodeType\":\"DOM\",\"type\":\"node\",\"instanceArgs\":{\"namespace\":\"html\",\"tag\":\"div\"},\"children\":[]}]}]},{\"props\":{\"className\":\"field interact-widget\"},\"nodeType\":\"DOM\",\"type\":\"node\",\"instanceArgs\":{\"namespace\":\"html\",\"tag\":\"div\"},\"children\":[{\"props\":{},\"nodeType\":\"Scope\",\"type\":\"node\",\"instanceArgs\":{\"imports\":{\"data\":[{\"name\":\"knockout\",\"type\":\"js\",\"url\":\"\\/assetserver\\/727383f2a47bd31570b7da84eee7b022dd6d7c78-knockout.js\"},{\"name\":\"knockout_punches\",\"type\":\"js\",\"url\":\"\\/assetserver\\/382b41b3b1bd9f26f75861d360bad7f8beea211f-knockout_punches.js\"},{\"name\":null,\"type\":\"js\",\"url\":\"\\/assetserver\\/5ab20f1060420992a9b82a65b735dee4d81ef413-all.js\"},{\"name\":null,\"type\":\"css\",\"url\":\"\\/assetserver\\/1cc0ed62837210b80a182cc3676512f895dab686-style.css\"},{\"name\":null,\"type\":\"css\",\"url\":\"\\/assetserver\\/2eee816f616df3549d7044d45e744fbf8d42bfa1-bulma_confined.min.css\"}],\"type\":\"async_block\"},\"id\":\"6894229743444174763\",\"handlers\":{\"loading\":[\"(function (val){return (val!=this.model[\\\"loading\\\"]()) ? (this.valueFromJulia[\\\"loading\\\"]=true, this.model[\\\"loading\\\"](val)) : undefined})\"],\"clicks\":[\"(function (val){return (val!=this.model[\\\"clicks\\\"]()) ? (this.valueFromJulia[\\\"clicks\\\"]=true, this.model[\\\"clicks\\\"](val)) : undefined})\"]},\"systemjs_options\":null,\"mount_callbacks\":[\"function () {\\n    var handler = (function (ko, koPunches) {\\n    ko.punches.enableAll();\\n    ko.bindingHandlers.numericValue = {\\n        init: function(element, valueAccessor, allBindings, data, context) {\\n            var stringified = ko.observable(ko.unwrap(valueAccessor()));\\n            stringified.subscribe(function(value) {\\n                var val = parseFloat(value);\\n                if (!isNaN(val)) {\\n                    valueAccessor()(val);\\n                }\\n            });\\n            valueAccessor().subscribe(function(value) {\\n                var str = JSON.stringify(value);\\n                if ((str == \\\"0\\\") && ([\\\"-0\\\", \\\"-0.\\\"].indexOf(stringified()) >= 0))\\n                     return;\\n                 if ([\\\"null\\\", \\\"\\\"].indexOf(str) >= 0)\\n                     return;\\n                stringified(str);\\n            });\\n            ko.applyBindingsToNode(\\n                element,\\n                {\\n                    value: stringified,\\n                    valueUpdate: allBindings.get('valueUpdate'),\\n                },\\n                context,\\n            );\\n        }\\n    };\\n    var json_data = {\\\"loading\\\":WebIO.getval({\\\"name\\\":\\\"loading\\\",\\\"scope\\\":\\\"6894229743444174763\\\",\\\"id\\\":\\\"16717503154451463173\\\",\\\"type\\\":\\\"observable\\\"}),\\\"clicks\\\":WebIO.getval({\\\"name\\\":\\\"clicks\\\",\\\"scope\\\":\\\"6894229743444174763\\\",\\\"id\\\":\\\"5877386606117429389\\\",\\\"type\\\":\\\"observable\\\"})};\\n    var self = this;\\n    function AppViewModel() {\\n        for (var key in json_data) {\\n            var el = json_data[key];\\n            this[key] = Array.isArray(el) ? ko.observableArray(el) : ko.observable(el);\\n        }\\n        \\n        \\n        [this[\\\"loading\\\"].subscribe((function (val){!(this.valueFromJulia[\\\"loading\\\"]) ? (WebIO.setval({\\\"name\\\":\\\"loading\\\",\\\"scope\\\":\\\"6894229743444174763\\\",\\\"id\\\":\\\"16717503154451463173\\\",\\\"type\\\":\\\"observable\\\"},val)) : undefined; return this.valueFromJulia[\\\"loading\\\"]=false}),self),this[\\\"clicks\\\"].subscribe((function (val){!(this.valueFromJulia[\\\"clicks\\\"]) ? (WebIO.setval({\\\"name\\\":\\\"clicks\\\",\\\"scope\\\":\\\"6894229743444174763\\\",\\\"id\\\":\\\"5877386606117429389\\\",\\\"type\\\":\\\"observable\\\"},val)) : undefined; return this.valueFromJulia[\\\"clicks\\\"]=false}),self)]\\n        \\n    }\\n    self.model = new AppViewModel();\\n    self.valueFromJulia = {};\\n    for (var key in json_data) {\\n        self.valueFromJulia[key] = false;\\n    }\\n    ko.applyBindings(self.model, self.dom);\\n}\\n);\\n    (WebIO.importBlock({\\\"data\\\":[{\\\"name\\\":\\\"knockout\\\",\\\"type\\\":\\\"js\\\",\\\"url\\\":\\\"\\/assetserver\\/727383f2a47bd31570b7da84eee7b022dd6d7c78-knockout.js\\\"},{\\\"name\\\":\\\"knockout_punches\\\",\\\"type\\\":\\\"js\\\",\\\"url\\\":\\\"\\/assetserver\\/382b41b3b1bd9f26f75861d360bad7f8beea211f-knockout_punches.js\\\"}],\\\"type\\\":\\\"async_block\\\"})).then((imports) => handler.apply(this, imports));\\n}\\n\"],\"observables\":{\"loading\":{\"sync\":false,\"id\":\"16717503154451463173\",\"value\":false},\"clicks\":{\"sync\":true,\"id\":\"5877386606117429389\",\"value\":0}}},\"children\":[{\"props\":{\"attributes\":{\"data-bind\":\"click: function (){this.clicks(this.clicks()+1)}, css: {'is-loading' : loading}\"},\"className\":\"is-medium button is-primary\",\"style\":{}},\"nodeType\":\"DOM\",\"type\":\"node\",\"instanceArgs\":{\"namespace\":\"html\",\"tag\":\"button\"},\"children\":[\"stop\"]}]}]},{\"props\":{\"className\":\"interact-widget\"},\"nodeType\":\"DOM\",\"type\":\"node\",\"instanceArgs\":{\"namespace\":\"html\",\"tag\":\"div\"},\"children\":[{\"props\":{},\"nodeType\":\"Scope\",\"type\":\"node\",\"instanceArgs\":{\"imports\":{\"data\":[{\"name\":null,\"type\":\"js\",\"url\":\"\\/assetserver\\/dd22ed1bf1896c2748f3fe616ce0b838adc895c1-katex.min.js\"},{\"name\":null,\"type\":\"css\",\"url\":\"\\/assetserver\\/46517a424aa5e6cffc1360d7e0848b601c584ee3-katex.min.css\"}],\"type\":\"async_block\"},\"id\":\"1888243910810052245\",\"handlers\":{\"value\":[\"(function (txt){return this.k.render(txt,this.container)})\"]},\"systemjs_options\":null,\"mount_callbacks\":[\"function () {\\n    var handler = ((function (k){this.k=k; this.container=this.dom.querySelector(\\\"#container\\\"); return k.render(\\\"\\\\\\\\;\\\\\\\\;\\\",this.container)}));\\n    (WebIO.importBlock({\\\"data\\\":[{\\\"name\\\":null,\\\"type\\\":\\\"js\\\",\\\"url\\\":\\\"\\/assetserver\\/dd22ed1bf1896c2748f3fe616ce0b838adc895c1-katex.min.js\\\"},{\\\"name\\\":null,\\\"type\\\":\\\"css\\\",\\\"url\\\":\\\"\\/assetserver\\/46517a424aa5e6cffc1360d7e0848b601c584ee3-katex.min.css\\\"}],\\\"type\\\":\\\"async_block\\\"})).then((imports) => handler.apply(this, imports));\\n}\\n\"],\"observables\":{\"value\":{\"sync\":false,\"id\":\"1317733371513546229\",\"value\":\"\\\\;\\\\;\"}}},\"children\":[{\"props\":{\"id\":\"container\"},\"nodeType\":\"DOM\",\"type\":\"node\",\"instanceArgs\":{\"namespace\":\"html\",\"tag\":\"div\"},\"children\":[]}]}]},{\"props\":{\"className\":\"field interact-widget\"},\"nodeType\":\"DOM\",\"type\":\"node\",\"instanceArgs\":{\"namespace\":\"html\",\"tag\":\"div\"},\"children\":[{\"props\":{},\"nodeType\":\"Scope\",\"type\":\"node\",\"instanceArgs\":{\"imports\":{\"data\":[{\"name\":\"knockout\",\"type\":\"js\",\"url\":\"\\/assetserver\\/727383f2a47bd31570b7da84eee7b022dd6d7c78-knockout.js\"},{\"name\":\"knockout_punches\",\"type\":\"js\",\"url\":\"\\/assetserver\\/382b41b3b1bd9f26f75861d360bad7f8beea211f-knockout_punches.js\"},{\"name\":null,\"type\":\"js\",\"url\":\"\\/assetserver\\/5ab20f1060420992a9b82a65b735dee4d81ef413-all.js\"},{\"name\":null,\"type\":\"css\",\"url\":\"\\/assetserver\\/1cc0ed62837210b80a182cc3676512f895dab686-style.css\"},{\"name\":null,\"type\":\"css\",\"url\":\"\\/assetserver\\/2eee816f616df3549d7044d45e744fbf8d42bfa1-bulma_confined.min.css\"}],\"type\":\"async_block\"},\"id\":\"14825923580555043404\",\"handlers\":{\"loading\":[\"(function (val){return (val!=this.model[\\\"loading\\\"]()) ? (this.valueFromJulia[\\\"loading\\\"]=true, this.model[\\\"loading\\\"](val)) : undefined})\"],\"clicks\":[\"(function (val){return (val!=this.model[\\\"clicks\\\"]()) ? (this.valueFromJulia[\\\"clicks\\\"]=true, this.model[\\\"clicks\\\"](val)) : undefined})\"]},\"systemjs_options\":null,\"mount_callbacks\":[\"function () {\\n    var handler = (function (ko, koPunches) {\\n    ko.punches.enableAll();\\n    ko.bindingHandlers.numericValue = {\\n        init: function(element, valueAccessor, allBindings, data, context) {\\n            var stringified = ko.observable(ko.unwrap(valueAccessor()));\\n            stringified.subscribe(function(value) {\\n                var val = parseFloat(value);\\n                if (!isNaN(val)) {\\n                    valueAccessor()(val);\\n                }\\n            });\\n            valueAccessor().subscribe(function(value) {\\n                var str = JSON.stringify(value);\\n                if ((str == \\\"0\\\") && ([\\\"-0\\\", \\\"-0.\\\"].indexOf(stringified()) >= 0))\\n                     return;\\n                 if ([\\\"null\\\", \\\"\\\"].indexOf(str) >= 0)\\n                     return;\\n                stringified(str);\\n            });\\n            ko.applyBindingsToNode(\\n                element,\\n                {\\n                    value: stringified,\\n                    valueUpdate: allBindings.get('valueUpdate'),\\n                },\\n                context,\\n            );\\n        }\\n    };\\n    var json_data = {\\\"loading\\\":WebIO.getval({\\\"name\\\":\\\"loading\\\",\\\"scope\\\":\\\"14825923580555043404\\\",\\\"id\\\":\\\"12000571848604606222\\\",\\\"type\\\":\\\"observable\\\"}),\\\"clicks\\\":WebIO.getval({\\\"name\\\":\\\"clicks\\\",\\\"scope\\\":\\\"14825923580555043404\\\",\\\"id\\\":\\\"15936478729198757682\\\",\\\"type\\\":\\\"observable\\\"})};\\n    var self = this;\\n    function AppViewModel() {\\n        for (var key in json_data) {\\n            var el = json_data[key];\\n            this[key] = Array.isArray(el) ? ko.observableArray(el) : ko.observable(el);\\n        }\\n        \\n        \\n        [this[\\\"loading\\\"].subscribe((function (val){!(this.valueFromJulia[\\\"loading\\\"]) ? (WebIO.setval({\\\"name\\\":\\\"loading\\\",\\\"scope\\\":\\\"14825923580555043404\\\",\\\"id\\\":\\\"12000571848604606222\\\",\\\"type\\\":\\\"observable\\\"},val)) : undefined; return this.valueFromJulia[\\\"loading\\\"]=false}),self),this[\\\"clicks\\\"].subscribe((function (val){!(this.valueFromJulia[\\\"clicks\\\"]) ? (WebIO.setval({\\\"name\\\":\\\"clicks\\\",\\\"scope\\\":\\\"14825923580555043404\\\",\\\"id\\\":\\\"15936478729198757682\\\",\\\"type\\\":\\\"observable\\\"},val)) : undefined; return this.valueFromJulia[\\\"clicks\\\"]=false}),self)]\\n        \\n    }\\n    self.model = new AppViewModel();\\n    self.valueFromJulia = {};\\n    for (var key in json_data) {\\n        self.valueFromJulia[key] = false;\\n    }\\n    ko.applyBindings(self.model, self.dom);\\n}\\n);\\n    (WebIO.importBlock({\\\"data\\\":[{\\\"name\\\":\\\"knockout\\\",\\\"type\\\":\\\"js\\\",\\\"url\\\":\\\"\\/assetserver\\/727383f2a47bd31570b7da84eee7b022dd6d7c78-knockout.js\\\"},{\\\"name\\\":\\\"knockout_punches\\\",\\\"type\\\":\\\"js\\\",\\\"url\\\":\\\"\\/assetserver\\/382b41b3b1bd9f26f75861d360bad7f8beea211f-knockout_punches.js\\\"}],\\\"type\\\":\\\"async_block\\\"})).then((imports) => handler.apply(this, imports));\\n}\\n\"],\"observables\":{\"loading\":{\"sync\":false,\"id\":\"12000571848604606222\",\"value\":false},\"clicks\":{\"sync\":true,\"id\":\"15936478729198757682\",\"value\":0}}},\"children\":[{\"props\":{\"attributes\":{\"data-bind\":\"click: function (){this.clicks(this.clicks()+1)}, css: {'is-loading' : loading}\"},\"className\":\"is-medium button is-primary\",\"style\":{}},\"nodeType\":\"DOM\",\"type\":\"node\",\"instanceArgs\":{\"namespace\":\"html\",\"tag\":\"button\"},\"children\":[\"save\"]}]}]}]}]},{\"props\":{\"className\":\"interact-widget\"},\"nodeType\":\"DOM\",\"type\":\"node\",\"instanceArgs\":{\"namespace\":\"html\",\"tag\":\"div\"},\"children\":[{\"props\":{},\"nodeType\":\"Scope\",\"type\":\"node\",\"instanceArgs\":{\"imports\":{\"data\":[{\"name\":null,\"type\":\"js\",\"url\":\"\\/assetserver\\/dd22ed1bf1896c2748f3fe616ce0b838adc895c1-katex.min.js\"},{\"name\":null,\"type\":\"css\",\"url\":\"\\/assetserver\\/46517a424aa5e6cffc1360d7e0848b601c584ee3-katex.min.css\"}],\"type\":\"async_block\"},\"id\":\"1888243910810052245\",\"handlers\":{\"value\":[\"(function (txt){return this.k.render(txt,this.container)})\"]},\"systemjs_options\":null,\"mount_callbacks\":[\"function () {\\n    var handler = ((function (k){this.k=k; this.container=this.dom.querySelector(\\\"#container\\\"); return k.render(\\\"\\\\\\\\;\\\\\\\\;\\\",this.container)}));\\n    (WebIO.importBlock({\\\"data\\\":[{\\\"name\\\":null,\\\"type\\\":\\\"js\\\",\\\"url\\\":\\\"\\/assetserver\\/dd22ed1bf1896c2748f3fe616ce0b838adc895c1-katex.min.js\\\"},{\\\"name\\\":null,\\\"type\\\":\\\"css\\\",\\\"url\\\":\\\"\\/assetserver\\/46517a424aa5e6cffc1360d7e0848b601c584ee3-katex.min.css\\\"}],\\\"type\\\":\\\"async_block\\\"})).then((imports) => handler.apply(this, imports));\\n}\\n\"],\"observables\":{\"value\":{\"sync\":false,\"id\":\"1317733371513546229\",\"value\":\"\\\\;\\\\;\"}}},\"children\":[{\"props\":{\"id\":\"container\"},\"nodeType\":\"DOM\",\"type\":\"node\",\"instanceArgs\":{\"namespace\":\"html\",\"tag\":\"div\"},\"children\":[]}]}]},{\"props\":{},\"nodeType\":\"Scope\",\"type\":\"node\",\"instanceArgs\":{\"imports\":{\"data\":[],\"type\":\"async_block\"},\"id\":\"13635743148179846912\",\"handlers\":{\"obs-output\":[\"function (value, scope) {\\n    scope.setInnerHTML(value);\\n}\\n\"]},\"systemjs_options\":null,\"mount_callbacks\":[],\"observables\":{\"obs-output\":{\"sync\":false,\"id\":\"12570936071173265532\",\"value\":\"<img src='data:image\\/png;base64,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'><\\/img>\"}}},\"children\":[{\"props\":{\"className\":\"webio-observable\",\"setInnerHtml\":\"<img src='data:image\\/png;base64,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'><\\/img>\"},\"nodeType\":\"DOM\",\"type\":\"node\",\"instanceArgs\":{\"namespace\":\"html\",\"tag\":\"div\"},\"children\":[]}]},{\"props\":{\"className\":\"interact-widget\"},\"nodeType\":\"DOM\",\"type\":\"node\",\"instanceArgs\":{\"namespace\":\"html\",\"tag\":\"div\"},\"children\":[{\"props\":{},\"nodeType\":\"Scope\",\"type\":\"node\",\"instanceArgs\":{\"imports\":{\"data\":[{\"name\":null,\"type\":\"js\",\"url\":\"\\/assetserver\\/dd22ed1bf1896c2748f3fe616ce0b838adc895c1-katex.min.js\"},{\"name\":null,\"type\":\"css\",\"url\":\"\\/assetserver\\/46517a424aa5e6cffc1360d7e0848b601c584ee3-katex.min.css\"}],\"type\":\"async_block\"},\"id\":\"1888243910810052245\",\"handlers\":{\"value\":[\"(function (txt){return this.k.render(txt,this.container)})\"]},\"systemjs_options\":null,\"mount_callbacks\":[\"function () {\\n    var handler = ((function (k){this.k=k; this.container=this.dom.querySelector(\\\"#container\\\"); return k.render(\\\"\\\\\\\\;\\\\\\\\;\\\",this.container)}));\\n    (WebIO.importBlock({\\\"data\\\":[{\\\"name\\\":null,\\\"type\\\":\\\"js\\\",\\\"url\\\":\\\"\\/assetserver\\/dd22ed1bf1896c2748f3fe616ce0b838adc895c1-katex.min.js\\\"},{\\\"name\\\":null,\\\"type\\\":\\\"css\\\",\\\"url\\\":\\\"\\/assetserver\\/46517a424aa5e6cffc1360d7e0848b601c584ee3-katex.min.css\\\"}],\\\"type\\\":\\\"async_block\\\"})).then((imports) => handler.apply(this, imports));\\n}\\n\"],\"observables\":{\"value\":{\"sync\":false,\"id\":\"1317733371513546229\",\"value\":\"\\\\;\\\\;\"}}},\"children\":[{\"props\":{\"id\":\"container\"},\"nodeType\":\"DOM\",\"type\":\"node\",\"instanceArgs\":{\"namespace\":\"html\",\"tag\":\"div\"},\"children\":[]}]}]},{\"props\":{\"style\":{\"display\":\"flex\",\"flex-direction\":\"column\"}},\"nodeType\":\"DOM\",\"type\":\"node\",\"instanceArgs\":{\"namespace\":\"html\",\"tag\":\"div\"},\"children\":[]}]}]},\n",
       "        window,\n",
       "    );\n",
       "    })()\n",
       "    </script>\n",
       "</div>\n"
      ],
      "text/plain": [
       "WebIO.Node{WebIO.DOM}(WebIO.DOM(:html, :div), Any[WebIO.Node{WebIO.DOM}(WebIO.DOM(:html, :div), Any[WebIO.Node{WebIO.DOM}(WebIO.DOM(:html, :div), Any[WebIO.Node{WebIO.DOM}(WebIO.DOM(:html, :div), Any[WebIO.Scope(WebIO.Node{WebIO.DOM}(WebIO.DOM(:html, :div), Any[WebIO.Node{WebIO.DOM}(WebIO.DOM(:html, :div), Any[WebIO.Node{WebIO.DOM}(WebIO.DOM(:html, :label), Any[\"time\"], Dict{Symbol, Any}(:className => \"interact \", :style => Dict{Any, Any}(:padding => \"5px 10px 0px 10px\")))], Dict{Symbol, Any}(:className => \"interact-flex-row-left\")), WebIO.Node{WebIO.DOM}(WebIO.DOM(:html, :div), Any[WebIO.Node{WebIO.DOM}(WebIO.DOM(:html, :input), Any[], Dict{Symbol, Any}(:max => 101, :min => 1, :attributes => Dict{Any, Any}(:type => \"range\", Symbol(\"data-bind\") => \"numericValue: index, valueUpdate: 'input', event: {change: function (){this.changes(this.changes()+1)}}\", \"orient\" => \"horizontal\"), :step => 1, :className => \"slider slider is-fullwidth\", :style => Dict{Any, Any}()))], Dict{Symbol, Any}(:className => \"interact-flex-row-center\")), WebIO.Node{WebIO.DOM}(WebIO.DOM(:html, :div), Any[WebIO.Node{WebIO.DOM}(WebIO.DOM(:html, :p), Any[], Dict{Symbol, Any}(:attributes => Dict(\"data-bind\" => \"text: formatted_val\")))], Dict{Symbol, Any}(:className => \"interact-flex-row-right\"))], Dict{Symbol, Any}(:className => \"interact-flex-row interact-widget\")), Dict{String, Tuple{Observables.AbstractObservable, Union{Nothing, Bool}}}(\"changes\" => (Observable(0), nothing), \"index\" => (Observable(51), nothing)), Set{String}(), nothing, WebIO.Asset[WebIO.Asset(\"js\", \"knockout\", \"/home/dushya/.julia/packages/Knockout/HReiN/src/../assets/knockout.js\"), WebIO.Asset(\"js\", \"knockout_punches\", \"/home/dushya/.julia/packages/Knockout/HReiN/src/../assets/knockout_punches.js\"), WebIO.Asset(\"js\", nothing, \"/home/dushya/.julia/packages/InteractBase/LJXv3/src/../assets/all.js\"), WebIO.Asset(\"css\", nothing, \"/home/dushya/.julia/packages/InteractBase/LJXv3/src/../assets/style.css\"), WebIO.Asset(\"css\", nothing, \"/home/dushya/.julia/packages/Interact/PENUy/src/../assets/bulma_confined.min.css\")], Dict{Any, Any}(\"changes\" => Any[WebIO.JSString(\"(function (val){return (val!=this.model[\\\"changes\\\"]()) ? (this.valueFromJulia[\\\"changes\\\"]=true, this.model[\\\"changes\\\"](val)) : undefined})\")], \"index\" => Any[WebIO.JSString(\"(function (val){return (val!=this.model[\\\"index\\\"]()) ? (this.valueFromJulia[\\\"index\\\"]=true, this.model[\\\"index\\\"](val)) : undefined})\")]), WebIO.ConnectionPool(Channel{Any}(32), Set{WebIO.AbstractConnection}(), Base.GenericCondition{ReentrantLock}(Base.IntrusiveLinkedList{Task}(Task (runnable) @0x00007f61ae6612d0, Task (runnable) @0x00007f61ae6612d0), ReentrantLock(nothing, 0x00000000, 0x00, Base.GenericCondition{Base.Threads.SpinLock}(Base.IntrusiveLinkedList{Task}(nothing, nothing), Base.Threads.SpinLock(0)), (2, 140058411689456, 140058411689520)))), WebIO.JSString[WebIO.JSString(\"function () {\\n    var handler = (function (ko, koPunches) {\\n    ko.punches.enableAll();\\n    ko.bindingHandlers.numericValue = {\\n        init: function(element, valueAccessor, allBindings, data, context) {\\n            var stringified = ko.observable(ko.unwrap(valueAccessor()));\\n            stringified.subscribe(function(value) {\\n                var val = parseFloat(value);\\n                if (!isNaN(val)) {\\n                    valueAccessor()(val);\\n                }\\n            });\\n            valueAccessor().subscribe(function(value) {\\n                var str = JSON.stringify(value);\\n                if ((str == \\\"0\\\") && ([\\\"-0\\\", \\\"-0.\\\"].indexOf(stringified()) >= 0))\\n                     return;\\n                 if ([\\\"null\\\", \\\"\\\"].indexOf(str) >= 0)\\n                     return;\\n                stringified(str);\\n            });\\n            ko.applyBindingsToNode(\\n                element,\\n                {\\n                    value: stringified,\\n                    valueUpdate: allBindings.get('valueUpdate'),\\n                },\\n                context,\\n            );\\n        }\\n    };\\n    var json_data = {\\\"formatted_vals\\\":[\\\"1\\\",\\\"2\\\",\\\"3\\\",\\\"4\\\",\\\"5\\\",\\\"6\\\",\\\"7\\\",\\\"8\\\",\\\"9\\\",\\\"10\\\",\\\"11\\\",\\\"12\\\",\\\"13\\\",\\\"14\\\",\\\"15\\\",\\\"16\\\",\\\"17\\\",\\\"18\\\",\\\"19\\\",\\\"20\\\",\\\"21\\\",\\\"22\\\",\\\"23\\\",\\\"24\\\",\\\"25\\\",\\\"26\\\",\\\"27\\\",\\\"28\\\",\\\"29\\\",\\\"30\\\",\\\"31\\\",\\\"32\\\",\\\"33\\\",\\\"34\\\",\\\"35\\\",\\\"36\\\",\\\"37\\\",\\\"38\\\",\\\"39\\\",\\\"40\\\",\\\"41\\\",\\\"42\\\",\\\"43\\\",\\\"44\\\",\\\"45\\\",\\\"46\\\",\\\"47\\\",\\\"48\\\",\\\"49\\\",\\\"50\\\",\\\"51\\\",\\\"52\\\",\\\"53\\\",\\\"54\\\",\\\"55\\\",\\\"56\\\",\\\"57\\\",\\\"58\\\",\\\"59\\\",\\\"60\\\",\\\"61\\\",\\\"62\\\",\\\"63\\\",\\\"64\\\",\\\"65\\\",\\\"66\\\",\\\"67\\\",\\\"68\\\",\\\"69\\\",\\\"70\\\",\\\"71\\\",\\\"72\\\",\\\"73\\\",\\\"74\\\",\\\"75\\\",\\\"76\\\",\\\"77\\\",\\\"78\\\",\\\"79\\\",\\\"80\\\",\\\"81\\\",\\\"82\\\",\\\"83\\\",\\\"84\\\",\\\"85\\\",\\\"86\\\",\\\"87\\\",\\\"88\\\",\\\"89\\\",\\\"90\\\",\\\"91\\\",\\\"92\\\",\\\"93\\\",\\\"94\\\",\\\"95\\\",\\\"96\\\",\\\"97\\\",\\\"98\\\",\\\"99\\\",\\\"100\\\",\\\"101\\\"],\\\"changes\\\":WebIO.getval({\\\"name\\\":\\\"changes\\\",\\\"scope\\\":\\\"11373317075651309831\\\",\\\"id\\\":\\\"16904332047883766770\\\",\\\"type\\\":\\\"observable\\\"}),\\\"index\\\":WebIO.getval({\\\"name\\\":\\\"index\\\",\\\"scope\\\":\\\"11373317075651309831\\\",\\\"id\\\":\\\"9816914574084306819\\\",\\\"type\\\":\\\"observable\\\"})};\\n    var self = this;\\n    function AppViewModel() {\\n        for (var key in json_data) {\\n            var el = json_data[key];\\n            this[key] = Array.isArray(el) ? ko.observableArray(el) : ko.observable(el);\\n        }\\n        \\n        [this[\\\"formatted_val\\\"]=ko.computed(    function(){\\n        return this.formatted_vals()[parseInt(this.index())-(1)];\\n    }\\n,this)]\\n        [this[\\\"changes\\\"].subscribe((function (val){!(this.valueFromJulia[\\\"changes\\\"]) ? (WebIO.setval({\\\"name\\\":\\\"changes\\\",\\\"scope\\\":\\\"11373317075651309831\\\",\\\"id\\\":\\\"16904332047883766770\\\",\\\"type\\\":\\\"observable\\\"},val)) : undefined; return this.valueFromJulia[\\\"changes\\\"]=false}),self),this[\\\"index\\\"].subscribe((function (val){!(this.valueFromJulia[\\\"index\\\"]) ? (WebIO.setval({\\\"name\\\":\\\"index\\\",\\\"scope\\\":\\\"11373317075651309831\\\",\\\"id\\\":\\\"9816914574084306819\\\",\\\"type\\\":\\\"observable\\\"},val)) : undefined; return this.valueFromJulia[\\\"index\\\"]=false}),self)]\\n        \\n    }\\n    self.model = new AppViewModel();\\n    self.valueFromJulia = {};\\n    for (var key in json_data) {\\n        self.valueFromJulia[key] = false;\\n    }\\n    ko.applyBindings(self.model, self.dom);\\n}\\n);\\n    (WebIO.importBlock({\\\"data\\\":[{\\\"name\\\":\\\"knockout\\\",\\\"type\\\":\\\"js\\\",\\\"url\\\":\\\"/assetserver/727383f2a47bd31570b7da84eee7b022dd6d7c78-knockout.js\\\"},{\\\"name\\\":\\\"knockout_punches\\\",\\\"type\\\":\\\"js\\\",\\\"url\\\":\\\"/assetserver/382b41b3b1bd9f26f75861d360bad7f8beea211f-knockout_punches.js\\\"}],\\\"type\\\":\\\"async_block\\\"})).then((imports) => handler.apply(this, imports));\\n}\\n\")])], Dict{Symbol, Any}(:className => \"field interact-widget\")), WebIO.Node{WebIO.DOM}(WebIO.DOM(:html, :div), Any[WebIO.Scope(WebIO.Node{WebIO.DOM}(WebIO.DOM(:html, :div), Any[WebIO.Node{WebIO.DOM}(WebIO.DOM(:html, :div), Any[WebIO.Node{WebIO.DOM}(WebIO.DOM(:html, :label), Any[\"scale\"], Dict{Symbol, Any}(:className => \"interact \", :style => Dict{Any, Any}(:padding => \"5px 10px 0px 10px\")))], Dict{Symbol, Any}(:className => \"interact-flex-row-left\")), WebIO.Node{WebIO.DOM}(WebIO.DOM(:html, :div), Any[WebIO.Node{WebIO.DOM}(WebIO.DOM(:html, :input), Any[], Dict{Symbol, Any}(:max => 20, :min => 1, :attributes => Dict{Any, Any}(:type => \"range\", Symbol(\"data-bind\") => \"numericValue: index, valueUpdate: 'input', event: {change: function (){this.changes(this.changes()+1)}}\", \"orient\" => \"horizontal\"), :step => 1, :className => \"slider slider is-fullwidth\", :style => Dict{Any, Any}()))], Dict{Symbol, Any}(:className => \"interact-flex-row-center\")), WebIO.Node{WebIO.DOM}(WebIO.DOM(:html, :div), Any[WebIO.Node{WebIO.DOM}(WebIO.DOM(:html, :p), Any[], Dict{Symbol, Any}(:attributes => Dict(\"data-bind\" => \"text: formatted_val\")))], Dict{Symbol, Any}(:className => \"interact-flex-row-right\"))], Dict{Symbol, Any}(:className => \"interact-flex-row interact-widget\")), Dict{String, Tuple{Observables.AbstractObservable, Union{Nothing, Bool}}}(\"changes\" => (Observable(0), nothing), \"index\" => (Observable{Any}(10), nothing)), Set{String}(), nothing, WebIO.Asset[WebIO.Asset(\"js\", \"knockout\", \"/home/dushya/.julia/packages/Knockout/HReiN/src/../assets/knockout.js\"), WebIO.Asset(\"js\", \"knockout_punches\", \"/home/dushya/.julia/packages/Knockout/HReiN/src/../assets/knockout_punches.js\"), WebIO.Asset(\"js\", nothing, \"/home/dushya/.julia/packages/InteractBase/LJXv3/src/../assets/all.js\"), WebIO.Asset(\"css\", nothing, \"/home/dushya/.julia/packages/InteractBase/LJXv3/src/../assets/style.css\"), WebIO.Asset(\"css\", nothing, \"/home/dushya/.julia/packages/Interact/PENUy/src/../assets/bulma_confined.min.css\")], Dict{Any, Any}(\"changes\" => Any[WebIO.JSString(\"(function (val){return (val!=this.model[\\\"changes\\\"]()) ? (this.valueFromJulia[\\\"changes\\\"]=true, this.model[\\\"changes\\\"](val)) : undefined})\")], \"index\" => Any[WebIO.JSString(\"(function (val){return (val!=this.model[\\\"index\\\"]()) ? (this.valueFromJulia[\\\"index\\\"]=true, this.model[\\\"index\\\"](val)) : undefined})\")]), WebIO.ConnectionPool(Channel{Any}(32), Set{WebIO.AbstractConnection}(), Base.GenericCondition{ReentrantLock}(Base.IntrusiveLinkedList{Task}(Task (runnable) @0x00007f61aecd8650, Task (runnable) @0x00007f61aecd8650), ReentrantLock(nothing, 0x00000000, 0x00, Base.GenericCondition{Base.Threads.SpinLock}(Base.IntrusiveLinkedList{Task}(nothing, nothing), Base.Threads.SpinLock(0)), (0, 0, 2)))), WebIO.JSString[WebIO.JSString(\"function () {\\n    var handler = (function (ko, koPunches) {\\n    ko.punches.enableAll();\\n    ko.bindingHandlers.numericValue = {\\n        init: function(element, valueAccessor, allBindings, data, context) {\\n            var stringified = ko.observable(ko.unwrap(valueAccessor()));\\n            stringified.subscribe(function(value) {\\n                var val = parseFloat(value);\\n                if (!isNaN(val)) {\\n                    valueAccessor()(val);\\n                }\\n            });\\n            valueAccessor().subscribe(function(value) {\\n                var str = JSON.stringify(value);\\n                if ((str == \\\"0\\\") && ([\\\"-0\\\", \\\"-0.\\\"].indexOf(stringified()) >= 0))\\n                     return;\\n                 if ([\\\"null\\\", \\\"\\\"].indexOf(str) >= 0)\\n                     return;\\n                stringified(str);\\n            });\\n            ko.applyBindingsToNode(\\n                element,\\n                {\\n                    value: stringified,\\n                    valueUpdate: allBindings.get('valueUpdate'),\\n                },\\n                context,\\n            );\\n        }\\n    };\\n    var json_data = {\\\"formatted_vals\\\":[\\\"0.1\\\",\\\"0.2\\\",\\\"0.3\\\",\\\"0.4\\\",\\\"0.5\\\",\\\"0.6\\\",\\\"0.7\\\",\\\"0.8\\\",\\\"0.9\\\",\\\"1.0\\\",\\\"1.1\\\",\\\"1.2\\\",\\\"1.3\\\",\\\"1.4\\\",\\\"1.5\\\",\\\"1.6\\\",\\\"1.7\\\",\\\"1.8\\\",\\\"1.9\\\",\\\"2.0\\\"],\\\"changes\\\":WebIO.getval({\\\"name\\\":\\\"changes\\\",\\\"scope\\\":\\\"14159898180705293123\\\",\\\"id\\\":\\\"10965762075187713181\\\",\\\"type\\\":\\\"observable\\\"}),\\\"index\\\":WebIO.getval({\\\"name\\\":\\\"index\\\",\\\"scope\\\":\\\"14159898180705293123\\\",\\\"id\\\":\\\"17191485018480695874\\\",\\\"type\\\":\\\"observable\\\"})};\\n    var self = this;\\n    function AppViewModel() {\\n        for (var key in json_data) {\\n            var el = json_data[key];\\n            this[key] = Array.isArray(el) ? ko.observableArray(el) : ko.observable(el);\\n        }\\n        \\n        [this[\\\"formatted_val\\\"]=ko.computed(    function(){\\n        return this.formatted_vals()[parseInt(this.index())-(1)];\\n    }\\n,this)]\\n        [this[\\\"changes\\\"].subscribe((function (val){!(this.valueFromJulia[\\\"changes\\\"]) ? (WebIO.setval({\\\"name\\\":\\\"changes\\\",\\\"scope\\\":\\\"14159898180705293123\\\",\\\"id\\\":\\\"10965762075187713181\\\",\\\"type\\\":\\\"observable\\\"},val)) : undefined; return this.valueFromJulia[\\\"changes\\\"]=false}),self),this[\\\"index\\\"].subscribe((function (val){!(this.valueFromJulia[\\\"index\\\"]) ? (WebIO.setval({\\\"name\\\":\\\"index\\\",\\\"scope\\\":\\\"14159898180705293123\\\",\\\"id\\\":\\\"17191485018480695874\\\",\\\"type\\\":\\\"observable\\\"},val)) : undefined; return this.valueFromJulia[\\\"index\\\"]=false}),self)]\\n        \\n    }\\n    self.model = new AppViewModel();\\n    self.valueFromJulia = {};\\n    for (var key in json_data) {\\n        self.valueFromJulia[key] = false;\\n    }\\n    ko.applyBindings(self.model, self.dom);\\n}\\n);\\n    (WebIO.importBlock({\\\"data\\\":[{\\\"name\\\":\\\"knockout\\\",\\\"type\\\":\\\"js\\\",\\\"url\\\":\\\"/assetserver/727383f2a47bd31570b7da84eee7b022dd6d7c78-knockout.js\\\"},{\\\"name\\\":\\\"knockout_punches\\\",\\\"type\\\":\\\"js\\\",\\\"url\\\":\\\"/assetserver/382b41b3b1bd9f26f75861d360bad7f8beea211f-knockout_punches.js\\\"}],\\\"type\\\":\\\"async_block\\\"})).then((imports) => handler.apply(this, imports));\\n}\\n\")])], Dict{Symbol, Any}(:className => \"field interact-widget\")), WebIO.Node{WebIO.DOM}(WebIO.DOM(:html, :div), Any[WebIO.Node{WebIO.DOM}(WebIO.DOM(:html, :div), Any[WebIO.Scope(WebIO.Node{WebIO.DOM}(WebIO.DOM(:html, :div), Any[], Dict{Symbol, Any}(:id => \"container\")), Dict{String, Tuple{Observables.AbstractObservable, Union{Nothing, Bool}}}(\"value\" => (Observable(\"\\\\;\\\\;\"), nothing)), Set{String}(), nothing, WebIO.Asset[WebIO.Asset(\"js\", nothing, \"/home/dushya/.julia/packages/InteractBase/LJXv3/src/../assets/katex.min.js\"), WebIO.Asset(\"css\", nothing, \"/home/dushya/.julia/packages/InteractBase/LJXv3/src/../assets/katex.min.css\")], Dict{Any, Any}(\"value\" => Any[WebIO.JSString(\"(function (txt){return this.k.render(txt,this.container)})\")]), WebIO.ConnectionPool(Channel{Any}(32), Set{WebIO.AbstractConnection}(), Base.GenericCondition{ReentrantLock}(Base.IntrusiveLinkedList{Task}(Task (runnable) @0x00007f61af492400, Task (runnable) @0x00007f61af492400), ReentrantLock(nothing, 0x00000000, 0x00, Base.GenericCondition{Base.Threads.SpinLock}(Base.IntrusiveLinkedList{Task}(nothing, nothing), Base.Threads.SpinLock(0)), (140058268070992, 140058236174208, 0)))), WebIO.JSString[WebIO.JSString(\"function () {\\n    var handler = ((function (k){this.k=k; this.container=this.dom.querySelector(\\\"#container\\\"); return k.render(\\\"\\\\\\\\;\\\\\\\\;\\\",this.container)}));\\n    (WebIO.importBlock({\\\"data\\\":[{\\\"name\\\":null,\\\"type\\\":\\\"js\\\",\\\"url\\\":\\\"/assetserver/dd22ed1bf1896c2748f3fe616ce0b838adc895c1-katex.min.js\\\"},{\\\"name\\\":null,\\\"type\\\":\\\"css\\\",\\\"url\\\":\\\"/assetserver/46517a424aa5e6cffc1360d7e0848b601c584ee3-katex.min.css\\\"}],\\\"type\\\":\\\"async_block\\\"})).then((imports) => handler.apply(this, imports));\\n}\\n\")])], Dict{Symbol, Any}(:className => \"interact-widget\")), WebIO.Node{WebIO.DOM}(WebIO.DOM(:html, :div), Any[WebIO.Scope(WebIO.Node{WebIO.DOM}(WebIO.DOM(:html, :button), Any[\"run\"], Dict{Symbol, Any}(:attributes => Dict{Any, Any}(\"data-bind\" => \"click: function (){this.clicks(this.clicks()+1)}, css: {'is-loading' : loading}\"), :className => \"is-medium button is-primary\", :style => Dict{String, Any}())), Dict{String, Tuple{Observables.AbstractObservable, Union{Nothing, Bool}}}(\"loading\" => (Observable(false), nothing), \"clicks\" => (Observable(0), nothing)), Set{String}(), nothing, WebIO.Asset[WebIO.Asset(\"js\", \"knockout\", \"/home/dushya/.julia/packages/Knockout/HReiN/src/../assets/knockout.js\"), WebIO.Asset(\"js\", \"knockout_punches\", \"/home/dushya/.julia/packages/Knockout/HReiN/src/../assets/knockout_punches.js\"), WebIO.Asset(\"js\", nothing, \"/home/dushya/.julia/packages/InteractBase/LJXv3/src/../assets/all.js\"), WebIO.Asset(\"css\", nothing, \"/home/dushya/.julia/packages/InteractBase/LJXv3/src/../assets/style.css\"), WebIO.Asset(\"css\", nothing, \"/home/dushya/.julia/packages/Interact/PENUy/src/../assets/bulma_confined.min.css\")], Dict{Any, Any}(\"loading\" => Any[WebIO.JSString(\"(function (val){return (val!=this.model[\\\"loading\\\"]()) ? (this.valueFromJulia[\\\"loading\\\"]=true, this.model[\\\"loading\\\"](val)) : undefined})\")], \"clicks\" => Any[WebIO.JSString(\"(function (val){return (val!=this.model[\\\"clicks\\\"]()) ? (this.valueFromJulia[\\\"clicks\\\"]=true, this.model[\\\"clicks\\\"](val)) : undefined})\")]), WebIO.ConnectionPool(Channel{Any}(32), Set{WebIO.AbstractConnection}(), Base.GenericCondition{ReentrantLock}(Base.IntrusiveLinkedList{Task}(Task (runnable) @0x00007f61e28b0330, Task (runnable) @0x00007f61e28b0330), ReentrantLock(nothing, 0x00000000, 0x00, Base.GenericCondition{Base.Threads.SpinLock}(Base.IntrusiveLinkedList{Task}(nothing, nothing), Base.Threads.SpinLock(0)), (8, 140058347158704, 0)))), WebIO.JSString[WebIO.JSString(\"function () {\\n    var handler = (function (ko, koPunches) {\\n    ko.punches.enableAll();\\n    ko.bindingHandlers.numericValue = {\\n        init: function(element, valueAccessor, allBindings, data, context) {\\n            var stringified = ko.observable(ko.unwrap(valueAccessor()));\\n            stringified.subscribe(function(value) {\\n                var val = parseFloat(value);\\n                if (!isNaN(val)) {\\n                    valueAccessor()(val);\\n                }\\n            });\\n            valueAccessor().subscribe(function(value) {\\n                var str = JSON.stringify(value);\\n                if ((str == \\\"0\\\") && ([\\\"-0\\\", \\\"-0.\\\"].indexOf(stringified()) >= 0))\\n                     return;\\n                 if ([\\\"null\\\", \\\"\\\"].indexOf(str) >= 0)\\n                     return;\\n                stringified(str);\\n            });\\n            ko.applyBindingsToNode(\\n                element,\\n                {\\n                    value: stringified,\\n                    valueUpdate: allBindings.get('valueUpdate'),\\n                },\\n                context,\\n            );\\n        }\\n    };\\n    var json_data = {\\\"loading\\\":WebIO.getval({\\\"name\\\":\\\"loading\\\",\\\"scope\\\":\\\"17726626130608654657\\\",\\\"id\\\":\\\"12308017079574468674\\\",\\\"type\\\":\\\"observable\\\"}),\\\"clicks\\\":WebIO.getval({\\\"name\\\":\\\"clicks\\\",\\\"scope\\\":\\\"17726626130608654657\\\",\\\"id\\\":\\\"15391512501674419803\\\",\\\"type\\\":\\\"observable\\\"})};\\n    var self = this;\\n    function AppViewModel() {\\n        for (var key in json_data) {\\n            var el = json_data[key];\\n            this[key] = Array.isArray(el) ? ko.observableArray(el) : ko.observable(el);\\n        }\\n        \\n        \\n        [this[\\\"loading\\\"].subscribe((function (val){!(this.valueFromJulia[\\\"loading\\\"]) ? (WebIO.setval({\\\"name\\\":\\\"loading\\\",\\\"scope\\\":\\\"17726626130608654657\\\",\\\"id\\\":\\\"12308017079574468674\\\",\\\"type\\\":\\\"observable\\\"},val)) : undefined; return this.valueFromJulia[\\\"loading\\\"]=false}),self),this[\\\"clicks\\\"].subscribe((function (val){!(this.valueFromJulia[\\\"clicks\\\"]) ? (WebIO.setval({\\\"name\\\":\\\"clicks\\\",\\\"scope\\\":\\\"17726626130608654657\\\",\\\"id\\\":\\\"15391512501674419803\\\",\\\"type\\\":\\\"observable\\\"},val)) : undefined; return this.valueFromJulia[\\\"clicks\\\"]=false}),self)]\\n        \\n    }\\n    self.model = new AppViewModel();\\n    self.valueFromJulia = {};\\n    for (var key in json_data) {\\n        self.valueFromJulia[key] = false;\\n    }\\n    ko.applyBindings(self.model, self.dom);\\n}\\n);\\n    (WebIO.importBlock({\\\"data\\\":[{\\\"name\\\":\\\"knockout\\\",\\\"type\\\":\\\"js\\\",\\\"url\\\":\\\"/assetserver/727383f2a47bd31570b7da84eee7b022dd6d7c78-knockout.js\\\"},{\\\"name\\\":\\\"knockout_punches\\\",\\\"type\\\":\\\"js\\\",\\\"url\\\":\\\"/assetserver/382b41b3b1bd9f26f75861d360bad7f8beea211f-knockout_punches.js\\\"}],\\\"type\\\":\\\"async_block\\\"})).then((imports) => handler.apply(this, imports));\\n}\\n\")])], Dict{Symbol, Any}(:className => \"field interact-widget\")), WebIO.Node{WebIO.DOM}(WebIO.DOM(:html, :div), Any[WebIO.Scope(WebIO.Node{WebIO.DOM}(WebIO.DOM(:html, :div), Any[], Dict{Symbol, Any}(:id => \"container\")), Dict{String, Tuple{Observables.AbstractObservable, Union{Nothing, Bool}}}(\"value\" => (Observable(\"\\\\;\\\\;\"), nothing)), Set{String}(), nothing, WebIO.Asset[WebIO.Asset(\"js\", nothing, \"/home/dushya/.julia/packages/InteractBase/LJXv3/src/../assets/katex.min.js\"), WebIO.Asset(\"css\", nothing, \"/home/dushya/.julia/packages/InteractBase/LJXv3/src/../assets/katex.min.css\")], Dict{Any, Any}(\"value\" => Any[WebIO.JSString(\"(function (txt){return this.k.render(txt,this.container)})\")]), WebIO.ConnectionPool(Channel{Any}(32), Set{WebIO.AbstractConnection}(), Base.GenericCondition{ReentrantLock}(Base.IntrusiveLinkedList{Task}(Task (runnable) @0x00007f61af492400, Task (runnable) @0x00007f61af492400), ReentrantLock(nothing, 0x00000000, 0x00, Base.GenericCondition{Base.Threads.SpinLock}(Base.IntrusiveLinkedList{Task}(nothing, nothing), Base.Threads.SpinLock(0)), (140058268070992, 140058236174208, 0)))), WebIO.JSString[WebIO.JSString(\"function () {\\n    var handler = ((function (k){this.k=k; this.container=this.dom.querySelector(\\\"#container\\\"); return k.render(\\\"\\\\\\\\;\\\\\\\\;\\\",this.container)}));\\n    (WebIO.importBlock({\\\"data\\\":[{\\\"name\\\":null,\\\"type\\\":\\\"js\\\",\\\"url\\\":\\\"/assetserver/dd22ed1bf1896c2748f3fe616ce0b838adc895c1-katex.min.js\\\"},{\\\"name\\\":null,\\\"type\\\":\\\"css\\\",\\\"url\\\":\\\"/assetserver/46517a424aa5e6cffc1360d7e0848b601c584ee3-katex.min.css\\\"}],\\\"type\\\":\\\"async_block\\\"})).then((imports) => handler.apply(this, imports));\\n}\\n\")])], Dict{Symbol, Any}(:className => \"interact-widget\")), WebIO.Node{WebIO.DOM}(WebIO.DOM(:html, :div), Any[WebIO.Scope(WebIO.Node{WebIO.DOM}(WebIO.DOM(:html, :button), Any[\"stop\"], Dict{Symbol, Any}(:attributes => Dict{Any, Any}(\"data-bind\" => \"click: function (){this.clicks(this.clicks()+1)}, css: {'is-loading' : loading}\"), :className => \"is-medium button is-primary\", :style => Dict{String, Any}())), Dict{String, Tuple{Observables.AbstractObservable, Union{Nothing, Bool}}}(\"loading\" => (Observable(false), nothing), \"clicks\" => (Observable(0), nothing)), Set{String}(), nothing, WebIO.Asset[WebIO.Asset(\"js\", \"knockout\", \"/home/dushya/.julia/packages/Knockout/HReiN/src/../assets/knockout.js\"), WebIO.Asset(\"js\", \"knockout_punches\", \"/home/dushya/.julia/packages/Knockout/HReiN/src/../assets/knockout_punches.js\"), WebIO.Asset(\"js\", nothing, \"/home/dushya/.julia/packages/InteractBase/LJXv3/src/../assets/all.js\"), WebIO.Asset(\"css\", nothing, \"/home/dushya/.julia/packages/InteractBase/LJXv3/src/../assets/style.css\"), WebIO.Asset(\"css\", nothing, \"/home/dushya/.julia/packages/Interact/PENUy/src/../assets/bulma_confined.min.css\")], Dict{Any, Any}(\"loading\" => Any[WebIO.JSString(\"(function (val){return (val!=this.model[\\\"loading\\\"]()) ? (this.valueFromJulia[\\\"loading\\\"]=true, this.model[\\\"loading\\\"](val)) : undefined})\")], \"clicks\" => Any[WebIO.JSString(\"(function (val){return (val!=this.model[\\\"clicks\\\"]()) ? (this.valueFromJulia[\\\"clicks\\\"]=true, this.model[\\\"clicks\\\"](val)) : undefined})\")]), WebIO.ConnectionPool(Channel{Any}(32), Set{WebIO.AbstractConnection}(), Base.GenericCondition{ReentrantLock}(Base.IntrusiveLinkedList{Task}(Task (runnable) @0x00007f61af80f9e0, Task (runnable) @0x00007f61af80f9e0), ReentrantLock(nothing, 0x00000000, 0x00, Base.GenericCondition{Base.Threads.SpinLock}(Base.IntrusiveLinkedList{Task}(nothing, nothing), Base.Threads.SpinLock(0)), (0, 2120, 34359738375)))), WebIO.JSString[WebIO.JSString(\"function () {\\n    var handler = (function (ko, koPunches) {\\n    ko.punches.enableAll();\\n    ko.bindingHandlers.numericValue = {\\n        init: function(element, valueAccessor, allBindings, data, context) {\\n            var stringified = ko.observable(ko.unwrap(valueAccessor()));\\n            stringified.subscribe(function(value) {\\n                var val = parseFloat(value);\\n                if (!isNaN(val)) {\\n                    valueAccessor()(val);\\n                }\\n            });\\n            valueAccessor().subscribe(function(value) {\\n                var str = JSON.stringify(value);\\n                if ((str == \\\"0\\\") && ([\\\"-0\\\", \\\"-0.\\\"].indexOf(stringified()) >= 0))\\n                     return;\\n                 if ([\\\"null\\\", \\\"\\\"].indexOf(str) >= 0)\\n                     return;\\n                stringified(str);\\n            });\\n            ko.applyBindingsToNode(\\n                element,\\n                {\\n                    value: stringified,\\n                    valueUpdate: allBindings.get('valueUpdate'),\\n                },\\n                context,\\n            );\\n        }\\n    };\\n    var json_data = {\\\"loading\\\":WebIO.getval({\\\"name\\\":\\\"loading\\\",\\\"scope\\\":\\\"6894229743444174763\\\",\\\"id\\\":\\\"16717503154451463173\\\",\\\"type\\\":\\\"observable\\\"}),\\\"clicks\\\":WebIO.getval({\\\"name\\\":\\\"clicks\\\",\\\"scope\\\":\\\"6894229743444174763\\\",\\\"id\\\":\\\"5877386606117429389\\\",\\\"type\\\":\\\"observable\\\"})};\\n    var self = this;\\n    function AppViewModel() {\\n        for (var key in json_data) {\\n            var el = json_data[key];\\n            this[key] = Array.isArray(el) ? ko.observableArray(el) : ko.observable(el);\\n        }\\n        \\n        \\n        [this[\\\"loading\\\"].subscribe((function (val){!(this.valueFromJulia[\\\"loading\\\"]) ? (WebIO.setval({\\\"name\\\":\\\"loading\\\",\\\"scope\\\":\\\"6894229743444174763\\\",\\\"id\\\":\\\"16717503154451463173\\\",\\\"type\\\":\\\"observable\\\"},val)) : undefined; return this.valueFromJulia[\\\"loading\\\"]=false}),self),this[\\\"clicks\\\"].subscribe((function (val){!(this.valueFromJulia[\\\"clicks\\\"]) ? (WebIO.setval({\\\"name\\\":\\\"clicks\\\",\\\"scope\\\":\\\"6894229743444174763\\\",\\\"id\\\":\\\"5877386606117429389\\\",\\\"type\\\":\\\"observable\\\"},val)) : undefined; return this.valueFromJulia[\\\"clicks\\\"]=false}),self)]\\n        \\n    }\\n    self.model = new AppViewModel();\\n    self.valueFromJulia = {};\\n    for (var key in json_data) {\\n        self.valueFromJulia[key] = false;\\n    }\\n    ko.applyBindings(self.model, self.dom);\\n}\\n);\\n    (WebIO.importBlock({\\\"data\\\":[{\\\"name\\\":\\\"knockout\\\",\\\"type\\\":\\\"js\\\",\\\"url\\\":\\\"/assetserver/727383f2a47bd31570b7da84eee7b022dd6d7c78-knockout.js\\\"},{\\\"name\\\":\\\"knockout_punches\\\",\\\"type\\\":\\\"js\\\",\\\"url\\\":\\\"/assetserver/382b41b3b1bd9f26f75861d360bad7f8beea211f-knockout_punches.js\\\"}],\\\"type\\\":\\\"async_block\\\"})).then((imports) => handler.apply(this, imports));\\n}\\n\")])], Dict{Symbol, Any}(:className => \"field interact-widget\")), WebIO.Node{WebIO.DOM}(WebIO.DOM(:html, :div), Any[WebIO.Scope(WebIO.Node{WebIO.DOM}(WebIO.DOM(:html, :div), Any[], Dict{Symbol, Any}(:id => \"container\")), Dict{String, Tuple{Observables.AbstractObservable, Union{Nothing, Bool}}}(\"value\" => (Observable(\"\\\\;\\\\;\"), nothing)), Set{String}(), nothing, WebIO.Asset[WebIO.Asset(\"js\", nothing, \"/home/dushya/.julia/packages/InteractBase/LJXv3/src/../assets/katex.min.js\"), WebIO.Asset(\"css\", nothing, \"/home/dushya/.julia/packages/InteractBase/LJXv3/src/../assets/katex.min.css\")], Dict{Any, Any}(\"value\" => Any[WebIO.JSString(\"(function (txt){return this.k.render(txt,this.container)})\")]), WebIO.ConnectionPool(Channel{Any}(32), Set{WebIO.AbstractConnection}(), Base.GenericCondition{ReentrantLock}(Base.IntrusiveLinkedList{Task}(Task (runnable) @0x00007f61af492400, Task (runnable) @0x00007f61af492400), ReentrantLock(nothing, 0x00000000, 0x00, Base.GenericCondition{Base.Threads.SpinLock}(Base.IntrusiveLinkedList{Task}(nothing, nothing), Base.Threads.SpinLock(0)), (140058268070992, 140058236174208, 0)))), WebIO.JSString[WebIO.JSString(\"function () {\\n    var handler = ((function (k){this.k=k; this.container=this.dom.querySelector(\\\"#container\\\"); return k.render(\\\"\\\\\\\\;\\\\\\\\;\\\",this.container)}));\\n    (WebIO.importBlock({\\\"data\\\":[{\\\"name\\\":null,\\\"type\\\":\\\"js\\\",\\\"url\\\":\\\"/assetserver/dd22ed1bf1896c2748f3fe616ce0b838adc895c1-katex.min.js\\\"},{\\\"name\\\":null,\\\"type\\\":\\\"css\\\",\\\"url\\\":\\\"/assetserver/46517a424aa5e6cffc1360d7e0848b601c584ee3-katex.min.css\\\"}],\\\"type\\\":\\\"async_block\\\"})).then((imports) => handler.apply(this, imports));\\n}\\n\")])], Dict{Symbol, Any}(:className => \"interact-widget\")), WebIO.Node{WebIO.DOM}(WebIO.DOM(:html, :div), Any[WebIO.Scope(WebIO.Node{WebIO.DOM}(WebIO.DOM(:html, :button), Any[\"save\"], Dict{Symbol, Any}(:attributes => Dict{Any, Any}(\"data-bind\" => \"click: function (){this.clicks(this.clicks()+1)}, css: {'is-loading' : loading}\"), :className => \"is-medium button is-primary\", :style => Dict{String, Any}())), Dict{String, Tuple{Observables.AbstractObservable, Union{Nothing, Bool}}}(\"loading\" => (Observable(false), nothing), \"clicks\" => (Observable(0), nothing)), Set{String}(), nothing, WebIO.Asset[WebIO.Asset(\"js\", \"knockout\", \"/home/dushya/.julia/packages/Knockout/HReiN/src/../assets/knockout.js\"), WebIO.Asset(\"js\", \"knockout_punches\", \"/home/dushya/.julia/packages/Knockout/HReiN/src/../assets/knockout_punches.js\"), WebIO.Asset(\"js\", nothing, \"/home/dushya/.julia/packages/InteractBase/LJXv3/src/../assets/all.js\"), WebIO.Asset(\"css\", nothing, \"/home/dushya/.julia/packages/InteractBase/LJXv3/src/../assets/style.css\"), WebIO.Asset(\"css\", nothing, \"/home/dushya/.julia/packages/Interact/PENUy/src/../assets/bulma_confined.min.css\")], Dict{Any, Any}(\"loading\" => Any[WebIO.JSString(\"(function (val){return (val!=this.model[\\\"loading\\\"]()) ? (this.valueFromJulia[\\\"loading\\\"]=true, this.model[\\\"loading\\\"](val)) : undefined})\")], \"clicks\" => Any[WebIO.JSString(\"(function (val){return (val!=this.model[\\\"clicks\\\"]()) ? (this.valueFromJulia[\\\"clicks\\\"]=true, this.model[\\\"clicks\\\"](val)) : undefined})\")]), WebIO.ConnectionPool(Channel{Any}(32), Set{WebIO.AbstractConnection}(), Base.GenericCondition{ReentrantLock}(Base.IntrusiveLinkedList{Task}(Task (runnable) @0x00007f61af7da270, Task (runnable) @0x00007f61af7da270), ReentrantLock(nothing, 0x00000000, 0x00, Base.GenericCondition{Base.Threads.SpinLock}(Base.IntrusiveLinkedList{Task}(nothing, nothing), Base.Threads.SpinLock(0)), (8, 0, 4294967297)))), WebIO.JSString[WebIO.JSString(\"function () {\\n    var handler = (function (ko, koPunches) {\\n    ko.punches.enableAll();\\n    ko.bindingHandlers.numericValue = {\\n        init: function(element, valueAccessor, allBindings, data, context) {\\n            var stringified = ko.observable(ko.unwrap(valueAccessor()));\\n            stringified.subscribe(function(value) {\\n                var val = parseFloat(value);\\n                if (!isNaN(val)) {\\n                    valueAccessor()(val);\\n                }\\n            });\\n            valueAccessor().subscribe(function(value) {\\n                var str = JSON.stringify(value);\\n                if ((str == \\\"0\\\") && ([\\\"-0\\\", \\\"-0.\\\"].indexOf(stringified()) >= 0))\\n                     return;\\n                 if ([\\\"null\\\", \\\"\\\"].indexOf(str) >= 0)\\n                     return;\\n                stringified(str);\\n            });\\n            ko.applyBindingsToNode(\\n                element,\\n                {\\n                    value: stringified,\\n                    valueUpdate: allBindings.get('valueUpdate'),\\n                },\\n                context,\\n            );\\n        }\\n    };\\n    var json_data = {\\\"loading\\\":WebIO.getval({\\\"name\\\":\\\"loading\\\",\\\"scope\\\":\\\"14825923580555043404\\\",\\\"id\\\":\\\"12000571848604606222\\\",\\\"type\\\":\\\"observable\\\"}),\\\"clicks\\\":WebIO.getval({\\\"name\\\":\\\"clicks\\\",\\\"scope\\\":\\\"14825923580555043404\\\",\\\"id\\\":\\\"15936478729198757682\\\",\\\"type\\\":\\\"observable\\\"})};\\n    var self = this;\\n    function AppViewModel() {\\n        for (var key in json_data) {\\n            var el = json_data[key];\\n            this[key] = Array.isArray(el) ? ko.observableArray(el) : ko.observable(el);\\n        }\\n        \\n        \\n        [this[\\\"loading\\\"].subscribe((function (val){!(this.valueFromJulia[\\\"loading\\\"]) ? (WebIO.setval({\\\"name\\\":\\\"loading\\\",\\\"scope\\\":\\\"14825923580555043404\\\",\\\"id\\\":\\\"12000571848604606222\\\",\\\"type\\\":\\\"observable\\\"},val)) : undefined; return this.valueFromJulia[\\\"loading\\\"]=false}),self),this[\\\"clicks\\\"].subscribe((function (val){!(this.valueFromJulia[\\\"clicks\\\"]) ? (WebIO.setval({\\\"name\\\":\\\"clicks\\\",\\\"scope\\\":\\\"14825923580555043404\\\",\\\"id\\\":\\\"15936478729198757682\\\",\\\"type\\\":\\\"observable\\\"},val)) : undefined; return this.valueFromJulia[\\\"clicks\\\"]=false}),self)]\\n        \\n    }\\n    self.model = new AppViewModel();\\n    self.valueFromJulia = {};\\n    for (var key in json_data) {\\n        self.valueFromJulia[key] = false;\\n    }\\n    ko.applyBindings(self.model, self.dom);\\n}\\n);\\n    (WebIO.importBlock({\\\"data\\\":[{\\\"name\\\":\\\"knockout\\\",\\\"type\\\":\\\"js\\\",\\\"url\\\":\\\"/assetserver/727383f2a47bd31570b7da84eee7b022dd6d7c78-knockout.js\\\"},{\\\"name\\\":\\\"knockout_punches\\\",\\\"type\\\":\\\"js\\\",\\\"url\\\":\\\"/assetserver/382b41b3b1bd9f26f75861d360bad7f8beea211f-knockout_punches.js\\\"}],\\\"type\\\":\\\"async_block\\\"})).then((imports) => handler.apply(this, imports));\\n}\\n\")])], Dict{Symbol, Any}(:className => \"field interact-widget\"))], Dict{Symbol, Any}(:style => Dict(\"display\" => \"flex\", \"flex-direction\" => \"row\")))], Dict{Symbol, Any}(:style => Dict(\"display\" => \"flex\", \"flex-direction\" => \"column\"))), WebIO.Node{WebIO.DOM}(WebIO.DOM(:html, :div), Any[WebIO.Scope(WebIO.Node{WebIO.DOM}(WebIO.DOM(:html, :div), Any[], Dict{Symbol, Any}(:id => \"container\")), Dict{String, Tuple{Observables.AbstractObservable, Union{Nothing, Bool}}}(\"value\" => (Observable(\"\\\\;\\\\;\"), nothing)), Set{String}(), nothing, WebIO.Asset[WebIO.Asset(\"js\", nothing, \"/home/dushya/.julia/packages/InteractBase/LJXv3/src/../assets/katex.min.js\"), WebIO.Asset(\"css\", nothing, \"/home/dushya/.julia/packages/InteractBase/LJXv3/src/../assets/katex.min.css\")], Dict{Any, Any}(\"value\" => Any[WebIO.JSString(\"(function (txt){return this.k.render(txt,this.container)})\")]), WebIO.ConnectionPool(Channel{Any}(32), Set{WebIO.AbstractConnection}(), Base.GenericCondition{ReentrantLock}(Base.IntrusiveLinkedList{Task}(Task (runnable) @0x00007f61af492400, Task (runnable) @0x00007f61af492400), ReentrantLock(nothing, 0x00000000, 0x00, Base.GenericCondition{Base.Threads.SpinLock}(Base.IntrusiveLinkedList{Task}(nothing, nothing), Base.Threads.SpinLock(0)), (140058268070992, 140058236174208, 0)))), WebIO.JSString[WebIO.JSString(\"function () {\\n    var handler = ((function (k){this.k=k; this.container=this.dom.querySelector(\\\"#container\\\"); return k.render(\\\"\\\\\\\\;\\\\\\\\;\\\",this.container)}));\\n    (WebIO.importBlock({\\\"data\\\":[{\\\"name\\\":null,\\\"type\\\":\\\"js\\\",\\\"url\\\":\\\"/assetserver/dd22ed1bf1896c2748f3fe616ce0b838adc895c1-katex.min.js\\\"},{\\\"name\\\":null,\\\"type\\\":\\\"css\\\",\\\"url\\\":\\\"/assetserver/46517a424aa5e6cffc1360d7e0848b601c584ee3-katex.min.css\\\"}],\\\"type\\\":\\\"async_block\\\"})).then((imports) => handler.apply(this, imports));\\n}\\n\")])], Dict{Symbol, Any}(:className => \"interact-widget\")), Observable(Luxor.Drawing(430.0, 430.0, \"\", Cairo.CairoSurfaceBase{UInt32}(Ptr{Nothing} @0x0000000000000000, 430.0, 430.0), Cairo.CairoContext(Ptr{Nothing} @0x000000000433b190, Cairo.CairoSurfaceBase{UInt32}(Ptr{Nothing} @0x0000000000000000, 430.0, 430.0), Ptr{Nothing} @0x0000000003f2e8d0), :png, 0.0, 0.0, 0.0, 1.0, IOBuffer(data=UInt8[...], readable=true, writable=true, seekable=true, append=false, size=4634, maxsize=Inf, ptr=4635, mark=-1), UInt8[0x89, 0x50, 0x4e, 0x47, 0x0d, 0x0a, 0x1a, 0x0a, 0x00, 0x00  …  0x00, 0x00, 0x49, 0x45, 0x4e, 0x44, 0xae, 0x42, 0x60, 0x82], false)), WebIO.Node{WebIO.DOM}(WebIO.DOM(:html, :div), Any[WebIO.Scope(WebIO.Node{WebIO.DOM}(WebIO.DOM(:html, :div), Any[], Dict{Symbol, Any}(:id => \"container\")), Dict{String, Tuple{Observables.AbstractObservable, Union{Nothing, Bool}}}(\"value\" => (Observable(\"\\\\;\\\\;\"), nothing)), Set{String}(), nothing, WebIO.Asset[WebIO.Asset(\"js\", nothing, \"/home/dushya/.julia/packages/InteractBase/LJXv3/src/../assets/katex.min.js\"), WebIO.Asset(\"css\", nothing, \"/home/dushya/.julia/packages/InteractBase/LJXv3/src/../assets/katex.min.css\")], Dict{Any, Any}(\"value\" => Any[WebIO.JSString(\"(function (txt){return this.k.render(txt,this.container)})\")]), WebIO.ConnectionPool(Channel{Any}(32), Set{WebIO.AbstractConnection}(), Base.GenericCondition{ReentrantLock}(Base.IntrusiveLinkedList{Task}(Task (runnable) @0x00007f61af492400, Task (runnable) @0x00007f61af492400), ReentrantLock(nothing, 0x00000000, 0x00, Base.GenericCondition{Base.Threads.SpinLock}(Base.IntrusiveLinkedList{Task}(nothing, nothing), Base.Threads.SpinLock(0)), (140058268070992, 140058236174208, 0)))), WebIO.JSString[WebIO.JSString(\"function () {\\n    var handler = ((function (k){this.k=k; this.container=this.dom.querySelector(\\\"#container\\\"); return k.render(\\\"\\\\\\\\;\\\\\\\\;\\\",this.container)}));\\n    (WebIO.importBlock({\\\"data\\\":[{\\\"name\\\":null,\\\"type\\\":\\\"js\\\",\\\"url\\\":\\\"/assetserver/dd22ed1bf1896c2748f3fe616ce0b838adc895c1-katex.min.js\\\"},{\\\"name\\\":null,\\\"type\\\":\\\"css\\\",\\\"url\\\":\\\"/assetserver/46517a424aa5e6cffc1360d7e0848b601c584ee3-katex.min.css\\\"}],\\\"type\\\":\\\"async_block\\\"})).then((imports) => handler.apply(this, imports));\\n}\\n\")])], Dict{Symbol, Any}(:className => \"interact-widget\")), WebIO.Node{WebIO.DOM}(WebIO.DOM(:html, :div), Any[], Dict{Symbol, Any}(:style => Dict(\"display\" => \"flex\", \"flex-direction\" => \"column\")))], Dict{Symbol, Any}(:style => Dict(\"display\" => \"flex\", \"flex-direction\" => \"row\")))], Dict{Symbol, Any}(:style => Dict(\"display\" => \"flex\", \"flex-direction\" => \"column\")))"
      ]
     },
     "execution_count": 10,
     "metadata": {
      "application/vnd.webio.node+json": {
       "kernelId": "8f9bcdf1-72eb-4706-8a27-2314577e92d5"
      }
     },
     "output_type": "execute_result"
    }
   ],
   "source": [
    "animate_sim(model)"
   ]
  },
  {
   "cell_type": "markdown",
   "metadata": {},
   "source": [
    "After defining the `step_rule!` function we can also choose to create an interactive application (which currently works in Jupyter with WebIO installation) as "
   ]
  },
  {
   "cell_type": "code",
   "execution_count": 11,
   "metadata": {
    "scrolled": true
   },
   "outputs": [
    {
     "data": {
      "application/vnd.webio.node+json": {
       "children": [
        {
         "children": [
          {
           "children": [
            {
             "children": [
              {
               "children": [
                {
                 "children": [
                  {
                   "children": [
                    {
                     "children": [
                      "time"
                     ],
                     "instanceArgs": {
                      "namespace": "html",
                      "tag": "label"
                     },
                     "nodeType": "DOM",
                     "props": {
                      "className": "interact ",
                      "style": {
                       "padding": "5px 10px 0px 10px"
                      }
                     },
                     "type": "node"
                    }
                   ],
                   "instanceArgs": {
                    "namespace": "html",
                    "tag": "div"
                   },
                   "nodeType": "DOM",
                   "props": {
                    "className": "interact-flex-row-left"
                   },
                   "type": "node"
                  },
                  {
                   "children": [
                    {
                     "children": [],
                     "instanceArgs": {
                      "namespace": "html",
                      "tag": "input"
                     },
                     "nodeType": "DOM",
                     "props": {
                      "attributes": {
                       "data-bind": "numericValue: index, valueUpdate: 'input', event: {change: function (){this.changes(this.changes()+1)}}",
                       "orient": "horizontal",
                       "type": "range"
                      },
                      "className": "slider slider is-fullwidth",
                      "max": 200,
                      "min": 1,
                      "step": 1,
                      "style": {}
                     },
                     "type": "node"
                    }
                   ],
                   "instanceArgs": {
                    "namespace": "html",
                    "tag": "div"
                   },
                   "nodeType": "DOM",
                   "props": {
                    "className": "interact-flex-row-center"
                   },
                   "type": "node"
                  },
                  {
                   "children": [
                    {
                     "children": [],
                     "instanceArgs": {
                      "namespace": "html",
                      "tag": "p"
                     },
                     "nodeType": "DOM",
                     "props": {
                      "attributes": {
                       "data-bind": "text: formatted_val"
                      }
                     },
                     "type": "node"
                    }
                   ],
                   "instanceArgs": {
                    "namespace": "html",
                    "tag": "div"
                   },
                   "nodeType": "DOM",
                   "props": {
                    "className": "interact-flex-row-right"
                   },
                   "type": "node"
                  }
                 ],
                 "instanceArgs": {
                  "namespace": "html",
                  "tag": "div"
                 },
                 "nodeType": "DOM",
                 "props": {
                  "className": "interact-flex-row interact-widget"
                 },
                 "type": "node"
                }
               ],
               "instanceArgs": {
                "handlers": {
                 "changes": [
                  "(function (val){return (val!=this.model[\"changes\"]()) ? (this.valueFromJulia[\"changes\"]=true, this.model[\"changes\"](val)) : undefined})"
                 ],
                 "index": [
                  "(function (val){return (val!=this.model[\"index\"]()) ? (this.valueFromJulia[\"index\"]=true, this.model[\"index\"](val)) : undefined})"
                 ]
                },
                "id": "8567185985702109492",
                "imports": {
                 "data": [
                  {
                   "name": "knockout",
                   "type": "js",
                   "url": "/assetserver/727383f2a47bd31570b7da84eee7b022dd6d7c78-knockout.js"
                  },
                  {
                   "name": "knockout_punches",
                   "type": "js",
                   "url": "/assetserver/382b41b3b1bd9f26f75861d360bad7f8beea211f-knockout_punches.js"
                  },
                  {
                   "name": null,
                   "type": "js",
                   "url": "/assetserver/5ab20f1060420992a9b82a65b735dee4d81ef413-all.js"
                  },
                  {
                   "name": null,
                   "type": "css",
                   "url": "/assetserver/1cc0ed62837210b80a182cc3676512f895dab686-style.css"
                  },
                  {
                   "name": null,
                   "type": "css",
                   "url": "/assetserver/2eee816f616df3549d7044d45e744fbf8d42bfa1-bulma_confined.min.css"
                  }
                 ],
                 "type": "async_block"
                },
                "mount_callbacks": [
                 "function () {\n    var handler = (function (ko, koPunches) {\n    ko.punches.enableAll();\n    ko.bindingHandlers.numericValue = {\n        init: function(element, valueAccessor, allBindings, data, context) {\n            var stringified = ko.observable(ko.unwrap(valueAccessor()));\n            stringified.subscribe(function(value) {\n                var val = parseFloat(value);\n                if (!isNaN(val)) {\n                    valueAccessor()(val);\n                }\n            });\n            valueAccessor().subscribe(function(value) {\n                var str = JSON.stringify(value);\n                if ((str == \"0\") && ([\"-0\", \"-0.\"].indexOf(stringified()) >= 0))\n                     return;\n                 if ([\"null\", \"\"].indexOf(str) >= 0)\n                     return;\n                stringified(str);\n            });\n            ko.applyBindingsToNode(\n                element,\n                {\n                    value: stringified,\n                    valueUpdate: allBindings.get('valueUpdate'),\n                },\n                context,\n            );\n        }\n    };\n    var json_data = {\"formatted_vals\":[\"1\",\"2\",\"3\",\"4\",\"5\",\"6\",\"7\",\"8\",\"9\",\"10\",\"11\",\"12\",\"13\",\"14\",\"15\",\"16\",\"17\",\"18\",\"19\",\"20\",\"21\",\"22\",\"23\",\"24\",\"25\",\"26\",\"27\",\"28\",\"29\",\"30\",\"31\",\"32\",\"33\",\"34\",\"35\",\"36\",\"37\",\"38\",\"39\",\"40\",\"41\",\"42\",\"43\",\"44\",\"45\",\"46\",\"47\",\"48\",\"49\",\"50\",\"51\",\"52\",\"53\",\"54\",\"55\",\"56\",\"57\",\"58\",\"59\",\"60\",\"61\",\"62\",\"63\",\"64\",\"65\",\"66\",\"67\",\"68\",\"69\",\"70\",\"71\",\"72\",\"73\",\"74\",\"75\",\"76\",\"77\",\"78\",\"79\",\"80\",\"81\",\"82\",\"83\",\"84\",\"85\",\"86\",\"87\",\"88\",\"89\",\"90\",\"91\",\"92\",\"93\",\"94\",\"95\",\"96\",\"97\",\"98\",\"99\",\"100\",\"101\",\"102\",\"103\",\"104\",\"105\",\"106\",\"107\",\"108\",\"109\",\"110\",\"111\",\"112\",\"113\",\"114\",\"115\",\"116\",\"117\",\"118\",\"119\",\"120\",\"121\",\"122\",\"123\",\"124\",\"125\",\"126\",\"127\",\"128\",\"129\",\"130\",\"131\",\"132\",\"133\",\"134\",\"135\",\"136\",\"137\",\"138\",\"139\",\"140\",\"141\",\"142\",\"143\",\"144\",\"145\",\"146\",\"147\",\"148\",\"149\",\"150\",\"151\",\"152\",\"153\",\"154\",\"155\",\"156\",\"157\",\"158\",\"159\",\"160\",\"161\",\"162\",\"163\",\"164\",\"165\",\"166\",\"167\",\"168\",\"169\",\"170\",\"171\",\"172\",\"173\",\"174\",\"175\",\"176\",\"177\",\"178\",\"179\",\"180\",\"181\",\"182\",\"183\",\"184\",\"185\",\"186\",\"187\",\"188\",\"189\",\"190\",\"191\",\"192\",\"193\",\"194\",\"195\",\"196\",\"197\",\"198\",\"199\",\"200\"],\"changes\":WebIO.getval({\"name\":\"changes\",\"scope\":\"8567185985702109492\",\"id\":\"5942960545745639652\",\"type\":\"observable\"}),\"index\":WebIO.getval({\"name\":\"index\",\"scope\":\"8567185985702109492\",\"id\":\"15579424100690151790\",\"type\":\"observable\"})};\n    var self = this;\n    function AppViewModel() {\n        for (var key in json_data) {\n            var el = json_data[key];\n            this[key] = Array.isArray(el) ? ko.observableArray(el) : ko.observable(el);\n        }\n        \n        [this[\"formatted_val\"]=ko.computed(    function(){\n        return this.formatted_vals()[parseInt(this.index())-(1)];\n    }\n,this)]\n        [this[\"changes\"].subscribe((function (val){!(this.valueFromJulia[\"changes\"]) ? (WebIO.setval({\"name\":\"changes\",\"scope\":\"8567185985702109492\",\"id\":\"5942960545745639652\",\"type\":\"observable\"},val)) : undefined; return this.valueFromJulia[\"changes\"]=false}),self),this[\"index\"].subscribe((function (val){!(this.valueFromJulia[\"index\"]) ? (WebIO.setval({\"name\":\"index\",\"scope\":\"8567185985702109492\",\"id\":\"15579424100690151790\",\"type\":\"observable\"},val)) : undefined; return this.valueFromJulia[\"index\"]=false}),self)]\n        \n    }\n    self.model = new AppViewModel();\n    self.valueFromJulia = {};\n    for (var key in json_data) {\n        self.valueFromJulia[key] = false;\n    }\n    ko.applyBindings(self.model, self.dom);\n}\n);\n    (WebIO.importBlock({\"data\":[{\"name\":\"knockout\",\"type\":\"js\",\"url\":\"/assetserver/727383f2a47bd31570b7da84eee7b022dd6d7c78-knockout.js\"},{\"name\":\"knockout_punches\",\"type\":\"js\",\"url\":\"/assetserver/382b41b3b1bd9f26f75861d360bad7f8beea211f-knockout_punches.js\"}],\"type\":\"async_block\"})).then((imports) => handler.apply(this, imports));\n}\n"
                ],
                "observables": {
                 "changes": {
                  "id": "5942960545745639652",
                  "sync": false,
                  "value": 0
                 },
                 "index": {
                  "id": "15579424100690151790",
                  "sync": true,
                  "value": 1
                 }
                },
                "systemjs_options": null
               },
               "nodeType": "Scope",
               "props": {},
               "type": "node"
              }
             ],
             "instanceArgs": {
              "namespace": "html",
              "tag": "div"
             },
             "nodeType": "DOM",
             "props": {
              "className": "field interact-widget"
             },
             "type": "node"
            },
            {
             "children": [
              {
               "children": [
                {
                 "children": [
                  {
                   "children": [
                    {
                     "children": [
                      "scale"
                     ],
                     "instanceArgs": {
                      "namespace": "html",
                      "tag": "label"
                     },
                     "nodeType": "DOM",
                     "props": {
                      "className": "interact ",
                      "style": {
                       "padding": "5px 10px 0px 10px"
                      }
                     },
                     "type": "node"
                    }
                   ],
                   "instanceArgs": {
                    "namespace": "html",
                    "tag": "div"
                   },
                   "nodeType": "DOM",
                   "props": {
                    "className": "interact-flex-row-left"
                   },
                   "type": "node"
                  },
                  {
                   "children": [
                    {
                     "children": [],
                     "instanceArgs": {
                      "namespace": "html",
                      "tag": "input"
                     },
                     "nodeType": "DOM",
                     "props": {
                      "attributes": {
                       "data-bind": "numericValue: index, valueUpdate: 'input', event: {change: function (){this.changes(this.changes()+1)}}",
                       "orient": "horizontal",
                       "type": "range"
                      },
                      "className": "slider slider is-fullwidth",
                      "max": 20,
                      "min": 1,
                      "step": 1,
                      "style": {}
                     },
                     "type": "node"
                    }
                   ],
                   "instanceArgs": {
                    "namespace": "html",
                    "tag": "div"
                   },
                   "nodeType": "DOM",
                   "props": {
                    "className": "interact-flex-row-center"
                   },
                   "type": "node"
                  },
                  {
                   "children": [
                    {
                     "children": [],
                     "instanceArgs": {
                      "namespace": "html",
                      "tag": "p"
                     },
                     "nodeType": "DOM",
                     "props": {
                      "attributes": {
                       "data-bind": "text: formatted_val"
                      }
                     },
                     "type": "node"
                    }
                   ],
                   "instanceArgs": {
                    "namespace": "html",
                    "tag": "div"
                   },
                   "nodeType": "DOM",
                   "props": {
                    "className": "interact-flex-row-right"
                   },
                   "type": "node"
                  }
                 ],
                 "instanceArgs": {
                  "namespace": "html",
                  "tag": "div"
                 },
                 "nodeType": "DOM",
                 "props": {
                  "className": "interact-flex-row interact-widget"
                 },
                 "type": "node"
                }
               ],
               "instanceArgs": {
                "handlers": {
                 "changes": [
                  "(function (val){return (val!=this.model[\"changes\"]()) ? (this.valueFromJulia[\"changes\"]=true, this.model[\"changes\"](val)) : undefined})"
                 ],
                 "index": [
                  "(function (val){return (val!=this.model[\"index\"]()) ? (this.valueFromJulia[\"index\"]=true, this.model[\"index\"](val)) : undefined})"
                 ]
                },
                "id": "17883214586868324441",
                "imports": {
                 "data": [
                  {
                   "name": "knockout",
                   "type": "js",
                   "url": "/assetserver/727383f2a47bd31570b7da84eee7b022dd6d7c78-knockout.js"
                  },
                  {
                   "name": "knockout_punches",
                   "type": "js",
                   "url": "/assetserver/382b41b3b1bd9f26f75861d360bad7f8beea211f-knockout_punches.js"
                  },
                  {
                   "name": null,
                   "type": "js",
                   "url": "/assetserver/5ab20f1060420992a9b82a65b735dee4d81ef413-all.js"
                  },
                  {
                   "name": null,
                   "type": "css",
                   "url": "/assetserver/1cc0ed62837210b80a182cc3676512f895dab686-style.css"
                  },
                  {
                   "name": null,
                   "type": "css",
                   "url": "/assetserver/2eee816f616df3549d7044d45e744fbf8d42bfa1-bulma_confined.min.css"
                  }
                 ],
                 "type": "async_block"
                },
                "mount_callbacks": [
                 "function () {\n    var handler = (function (ko, koPunches) {\n    ko.punches.enableAll();\n    ko.bindingHandlers.numericValue = {\n        init: function(element, valueAccessor, allBindings, data, context) {\n            var stringified = ko.observable(ko.unwrap(valueAccessor()));\n            stringified.subscribe(function(value) {\n                var val = parseFloat(value);\n                if (!isNaN(val)) {\n                    valueAccessor()(val);\n                }\n            });\n            valueAccessor().subscribe(function(value) {\n                var str = JSON.stringify(value);\n                if ((str == \"0\") && ([\"-0\", \"-0.\"].indexOf(stringified()) >= 0))\n                     return;\n                 if ([\"null\", \"\"].indexOf(str) >= 0)\n                     return;\n                stringified(str);\n            });\n            ko.applyBindingsToNode(\n                element,\n                {\n                    value: stringified,\n                    valueUpdate: allBindings.get('valueUpdate'),\n                },\n                context,\n            );\n        }\n    };\n    var json_data = {\"formatted_vals\":[\"0.1\",\"0.2\",\"0.3\",\"0.4\",\"0.5\",\"0.6\",\"0.7\",\"0.8\",\"0.9\",\"1.0\",\"1.1\",\"1.2\",\"1.3\",\"1.4\",\"1.5\",\"1.6\",\"1.7\",\"1.8\",\"1.9\",\"2.0\"],\"changes\":WebIO.getval({\"name\":\"changes\",\"scope\":\"17883214586868324441\",\"id\":\"2970476361700022429\",\"type\":\"observable\"}),\"index\":WebIO.getval({\"name\":\"index\",\"scope\":\"17883214586868324441\",\"id\":\"7174826315785490728\",\"type\":\"observable\"})};\n    var self = this;\n    function AppViewModel() {\n        for (var key in json_data) {\n            var el = json_data[key];\n            this[key] = Array.isArray(el) ? ko.observableArray(el) : ko.observable(el);\n        }\n        \n        [this[\"formatted_val\"]=ko.computed(    function(){\n        return this.formatted_vals()[parseInt(this.index())-(1)];\n    }\n,this)]\n        [this[\"changes\"].subscribe((function (val){!(this.valueFromJulia[\"changes\"]) ? (WebIO.setval({\"name\":\"changes\",\"scope\":\"17883214586868324441\",\"id\":\"2970476361700022429\",\"type\":\"observable\"},val)) : undefined; return this.valueFromJulia[\"changes\"]=false}),self),this[\"index\"].subscribe((function (val){!(this.valueFromJulia[\"index\"]) ? (WebIO.setval({\"name\":\"index\",\"scope\":\"17883214586868324441\",\"id\":\"7174826315785490728\",\"type\":\"observable\"},val)) : undefined; return this.valueFromJulia[\"index\"]=false}),self)]\n        \n    }\n    self.model = new AppViewModel();\n    self.valueFromJulia = {};\n    for (var key in json_data) {\n        self.valueFromJulia[key] = false;\n    }\n    ko.applyBindings(self.model, self.dom);\n}\n);\n    (WebIO.importBlock({\"data\":[{\"name\":\"knockout\",\"type\":\"js\",\"url\":\"/assetserver/727383f2a47bd31570b7da84eee7b022dd6d7c78-knockout.js\"},{\"name\":\"knockout_punches\",\"type\":\"js\",\"url\":\"/assetserver/382b41b3b1bd9f26f75861d360bad7f8beea211f-knockout_punches.js\"}],\"type\":\"async_block\"})).then((imports) => handler.apply(this, imports));\n}\n"
                ],
                "observables": {
                 "changes": {
                  "id": "2970476361700022429",
                  "sync": false,
                  "value": 0
                 },
                 "index": {
                  "id": "7174826315785490728",
                  "sync": true,
                  "value": 10
                 }
                },
                "systemjs_options": null
               },
               "nodeType": "Scope",
               "props": {},
               "type": "node"
              }
             ],
             "instanceArgs": {
              "namespace": "html",
              "tag": "div"
             },
             "nodeType": "DOM",
             "props": {
              "className": "field interact-widget"
             },
             "type": "node"
            },
            {
             "children": [],
             "instanceArgs": {
              "namespace": "html",
              "tag": "div"
             },
             "nodeType": "DOM",
             "props": {
              "style": {
               "display": "flex",
               "flex-direction": "column"
              }
             },
             "type": "node"
            },
            {
             "children": [
              {
               "children": [
                {
                 "children": [
                  {
                   "children": [
                    {
                     "children": [
                      {
                       "children": [
                        "temp"
                       ],
                       "instanceArgs": {
                        "namespace": "html",
                        "tag": "label"
                       },
                       "nodeType": "DOM",
                       "props": {
                        "className": "interact ",
                        "style": {
                         "padding": "5px 10px 0px 10px"
                        }
                       },
                       "type": "node"
                      }
                     ],
                     "instanceArgs": {
                      "namespace": "html",
                      "tag": "div"
                     },
                     "nodeType": "DOM",
                     "props": {
                      "className": "interact-flex-row-left"
                     },
                     "type": "node"
                    },
                    {
                     "children": [
                      {
                       "children": [],
                       "instanceArgs": {
                        "namespace": "html",
                        "tag": "input"
                       },
                       "nodeType": "DOM",
                       "props": {
                        "attributes": {
                         "data-bind": "numericValue: index, valueUpdate: 'input', event: {change: function (){this.changes(this.changes()+1)}}",
                         "orient": "horizontal",
                         "type": "range"
                        },
                        "className": "slider slider is-fullwidth",
                        "max": 100,
                        "min": 1,
                        "step": 1,
                        "style": {}
                       },
                       "type": "node"
                      }
                     ],
                     "instanceArgs": {
                      "namespace": "html",
                      "tag": "div"
                     },
                     "nodeType": "DOM",
                     "props": {
                      "className": "interact-flex-row-center"
                     },
                     "type": "node"
                    },
                    {
                     "children": [
                      {
                       "children": [],
                       "instanceArgs": {
                        "namespace": "html",
                        "tag": "p"
                       },
                       "nodeType": "DOM",
                       "props": {
                        "attributes": {
                         "data-bind": "text: formatted_val"
                        }
                       },
                       "type": "node"
                      }
                     ],
                     "instanceArgs": {
                      "namespace": "html",
                      "tag": "div"
                     },
                     "nodeType": "DOM",
                     "props": {
                      "className": "interact-flex-row-right"
                     },
                     "type": "node"
                    }
                   ],
                   "instanceArgs": {
                    "namespace": "html",
                    "tag": "div"
                   },
                   "nodeType": "DOM",
                   "props": {
                    "className": "interact-flex-row interact-widget"
                   },
                   "type": "node"
                  }
                 ],
                 "instanceArgs": {
                  "handlers": {
                   "changes": [
                    "(function (val){return (val!=this.model[\"changes\"]()) ? (this.valueFromJulia[\"changes\"]=true, this.model[\"changes\"](val)) : undefined})"
                   ],
                   "index": [
                    "(function (val){return (val!=this.model[\"index\"]()) ? (this.valueFromJulia[\"index\"]=true, this.model[\"index\"](val)) : undefined})"
                   ]
                  },
                  "id": "8873285691531566127",
                  "imports": {
                   "data": [
                    {
                     "name": "knockout",
                     "type": "js",
                     "url": "/assetserver/727383f2a47bd31570b7da84eee7b022dd6d7c78-knockout.js"
                    },
                    {
                     "name": "knockout_punches",
                     "type": "js",
                     "url": "/assetserver/382b41b3b1bd9f26f75861d360bad7f8beea211f-knockout_punches.js"
                    },
                    {
                     "name": null,
                     "type": "js",
                     "url": "/assetserver/5ab20f1060420992a9b82a65b735dee4d81ef413-all.js"
                    },
                    {
                     "name": null,
                     "type": "css",
                     "url": "/assetserver/1cc0ed62837210b80a182cc3676512f895dab686-style.css"
                    },
                    {
                     "name": null,
                     "type": "css",
                     "url": "/assetserver/2eee816f616df3549d7044d45e744fbf8d42bfa1-bulma_confined.min.css"
                    }
                   ],
                   "type": "async_block"
                  },
                  "mount_callbacks": [
                   "function () {\n    var handler = (function (ko, koPunches) {\n    ko.punches.enableAll();\n    ko.bindingHandlers.numericValue = {\n        init: function(element, valueAccessor, allBindings, data, context) {\n            var stringified = ko.observable(ko.unwrap(valueAccessor()));\n            stringified.subscribe(function(value) {\n                var val = parseFloat(value);\n                if (!isNaN(val)) {\n                    valueAccessor()(val);\n                }\n            });\n            valueAccessor().subscribe(function(value) {\n                var str = JSON.stringify(value);\n                if ((str == \"0\") && ([\"-0\", \"-0.\"].indexOf(stringified()) >= 0))\n                     return;\n                 if ([\"null\", \"\"].indexOf(str) >= 0)\n                     return;\n                stringified(str);\n            });\n            ko.applyBindingsToNode(\n                element,\n                {\n                    value: stringified,\n                    valueUpdate: allBindings.get('valueUpdate'),\n                },\n                context,\n            );\n        }\n    };\n    var json_data = {\"formatted_vals\":[\"0.05\",\"0.1\",\"0.15\",\"0.2\",\"0.25\",\"0.3\",\"0.35\",\"0.4\",\"0.45\",\"0.5\",\"0.55\",\"0.6\",\"0.65\",\"0.7\",\"0.75\",\"0.8\",\"0.85\",\"0.9\",\"0.95\",\"1.0\",\"1.05\",\"1.1\",\"1.15\",\"1.2\",\"1.25\",\"1.3\",\"1.35\",\"1.4\",\"1.45\",\"1.5\",\"1.55\",\"1.6\",\"1.65\",\"1.7\",\"1.75\",\"1.8\",\"1.85\",\"1.9\",\"1.95\",\"2.0\",\"2.05\",\"2.1\",\"2.15\",\"2.2\",\"2.25\",\"2.3\",\"2.35\",\"2.4\",\"2.45\",\"2.5\",\"2.55\",\"2.6\",\"2.65\",\"2.7\",\"2.75\",\"2.8\",\"2.85\",\"2.9\",\"2.95\",\"3.0\",\"3.05\",\"3.1\",\"3.15\",\"3.2\",\"3.25\",\"3.3\",\"3.35\",\"3.4\",\"3.45\",\"3.5\",\"3.55\",\"3.6\",\"3.65\",\"3.7\",\"3.75\",\"3.8\",\"3.85\",\"3.9\",\"3.95\",\"4.0\",\"4.05\",\"4.1\",\"4.15\",\"4.2\",\"4.25\",\"4.3\",\"4.35\",\"4.4\",\"4.45\",\"4.5\",\"4.55\",\"4.6\",\"4.65\",\"4.7\",\"4.75\",\"4.8\",\"4.85\",\"4.9\",\"4.95\",\"5.0\"],\"changes\":WebIO.getval({\"name\":\"changes\",\"scope\":\"8873285691531566127\",\"id\":\"6412786812315248832\",\"type\":\"observable\"}),\"index\":WebIO.getval({\"name\":\"index\",\"scope\":\"8873285691531566127\",\"id\":\"13624321683463944570\",\"type\":\"observable\"})};\n    var self = this;\n    function AppViewModel() {\n        for (var key in json_data) {\n            var el = json_data[key];\n            this[key] = Array.isArray(el) ? ko.observableArray(el) : ko.observable(el);\n        }\n        \n        [this[\"formatted_val\"]=ko.computed(    function(){\n        return this.formatted_vals()[parseInt(this.index())-(1)];\n    }\n,this)]\n        [this[\"changes\"].subscribe((function (val){!(this.valueFromJulia[\"changes\"]) ? (WebIO.setval({\"name\":\"changes\",\"scope\":\"8873285691531566127\",\"id\":\"6412786812315248832\",\"type\":\"observable\"},val)) : undefined; return this.valueFromJulia[\"changes\"]=false}),self),this[\"index\"].subscribe((function (val){!(this.valueFromJulia[\"index\"]) ? (WebIO.setval({\"name\":\"index\",\"scope\":\"8873285691531566127\",\"id\":\"13624321683463944570\",\"type\":\"observable\"},val)) : undefined; return this.valueFromJulia[\"index\"]=false}),self)]\n        \n    }\n    self.model = new AppViewModel();\n    self.valueFromJulia = {};\n    for (var key in json_data) {\n        self.valueFromJulia[key] = false;\n    }\n    ko.applyBindings(self.model, self.dom);\n}\n);\n    (WebIO.importBlock({\"data\":[{\"name\":\"knockout\",\"type\":\"js\",\"url\":\"/assetserver/727383f2a47bd31570b7da84eee7b022dd6d7c78-knockout.js\"},{\"name\":\"knockout_punches\",\"type\":\"js\",\"url\":\"/assetserver/382b41b3b1bd9f26f75861d360bad7f8beea211f-knockout_punches.js\"}],\"type\":\"async_block\"})).then((imports) => handler.apply(this, imports));\n}\n"
                  ],
                  "observables": {
                   "changes": {
                    "id": "6412786812315248832",
                    "sync": false,
                    "value": 0
                   },
                   "index": {
                    "id": "13624321683463944570",
                    "sync": true,
                    "value": 50
                   }
                  },
                  "systemjs_options": null
                 },
                 "nodeType": "Scope",
                 "props": {},
                 "type": "node"
                }
               ],
               "instanceArgs": {
                "namespace": "html",
                "tag": "div"
               },
               "nodeType": "DOM",
               "props": {
                "className": "field interact-widget"
               },
               "type": "node"
              },
              {
               "children": [
                {
                 "children": [
                  {
                   "children": [
                    {
                     "children": [
                      {
                       "children": [
                        "coupl"
                       ],
                       "instanceArgs": {
                        "namespace": "html",
                        "tag": "label"
                       },
                       "nodeType": "DOM",
                       "props": {
                        "className": "interact ",
                        "style": {
                         "padding": "5px 10px 0px 10px"
                        }
                       },
                       "type": "node"
                      }
                     ],
                     "instanceArgs": {
                      "namespace": "html",
                      "tag": "div"
                     },
                     "nodeType": "DOM",
                     "props": {
                      "className": "interact-flex-row-left"
                     },
                     "type": "node"
                    },
                    {
                     "children": [
                      {
                       "children": [],
                       "instanceArgs": {
                        "namespace": "html",
                        "tag": "input"
                       },
                       "nodeType": "DOM",
                       "props": {
                        "attributes": {
                         "data-bind": "numericValue: index, valueUpdate: 'input', event: {change: function (){this.changes(this.changes()+1)}}",
                         "orient": "horizontal",
                         "type": "range"
                        },
                        "className": "slider slider is-fullwidth",
                        "max": 50,
                        "min": 1,
                        "step": 1,
                        "style": {}
                       },
                       "type": "node"
                      }
                     ],
                     "instanceArgs": {
                      "namespace": "html",
                      "tag": "div"
                     },
                     "nodeType": "DOM",
                     "props": {
                      "className": "interact-flex-row-center"
                     },
                     "type": "node"
                    },
                    {
                     "children": [
                      {
                       "children": [],
                       "instanceArgs": {
                        "namespace": "html",
                        "tag": "p"
                       },
                       "nodeType": "DOM",
                       "props": {
                        "attributes": {
                         "data-bind": "text: formatted_val"
                        }
                       },
                       "type": "node"
                      }
                     ],
                     "instanceArgs": {
                      "namespace": "html",
                      "tag": "div"
                     },
                     "nodeType": "DOM",
                     "props": {
                      "className": "interact-flex-row-right"
                     },
                     "type": "node"
                    }
                   ],
                   "instanceArgs": {
                    "namespace": "html",
                    "tag": "div"
                   },
                   "nodeType": "DOM",
                   "props": {
                    "className": "interact-flex-row interact-widget"
                   },
                   "type": "node"
                  }
                 ],
                 "instanceArgs": {
                  "handlers": {
                   "changes": [
                    "(function (val){return (val!=this.model[\"changes\"]()) ? (this.valueFromJulia[\"changes\"]=true, this.model[\"changes\"](val)) : undefined})"
                   ],
                   "index": [
                    "(function (val){return (val!=this.model[\"index\"]()) ? (this.valueFromJulia[\"index\"]=true, this.model[\"index\"](val)) : undefined})"
                   ]
                  },
                  "id": "4918596182114590024",
                  "imports": {
                   "data": [
                    {
                     "name": "knockout",
                     "type": "js",
                     "url": "/assetserver/727383f2a47bd31570b7da84eee7b022dd6d7c78-knockout.js"
                    },
                    {
                     "name": "knockout_punches",
                     "type": "js",
                     "url": "/assetserver/382b41b3b1bd9f26f75861d360bad7f8beea211f-knockout_punches.js"
                    },
                    {
                     "name": null,
                     "type": "js",
                     "url": "/assetserver/5ab20f1060420992a9b82a65b735dee4d81ef413-all.js"
                    },
                    {
                     "name": null,
                     "type": "css",
                     "url": "/assetserver/1cc0ed62837210b80a182cc3676512f895dab686-style.css"
                    },
                    {
                     "name": null,
                     "type": "css",
                     "url": "/assetserver/2eee816f616df3549d7044d45e744fbf8d42bfa1-bulma_confined.min.css"
                    }
                   ],
                   "type": "async_block"
                  },
                  "mount_callbacks": [
                   "function () {\n    var handler = (function (ko, koPunches) {\n    ko.punches.enableAll();\n    ko.bindingHandlers.numericValue = {\n        init: function(element, valueAccessor, allBindings, data, context) {\n            var stringified = ko.observable(ko.unwrap(valueAccessor()));\n            stringified.subscribe(function(value) {\n                var val = parseFloat(value);\n                if (!isNaN(val)) {\n                    valueAccessor()(val);\n                }\n            });\n            valueAccessor().subscribe(function(value) {\n                var str = JSON.stringify(value);\n                if ((str == \"0\") && ([\"-0\", \"-0.\"].indexOf(stringified()) >= 0))\n                     return;\n                 if ([\"null\", \"\"].indexOf(str) >= 0)\n                     return;\n                stringified(str);\n            });\n            ko.applyBindingsToNode(\n                element,\n                {\n                    value: stringified,\n                    valueUpdate: allBindings.get('valueUpdate'),\n                },\n                context,\n            );\n        }\n    };\n    var json_data = {\"formatted_vals\":[\"0.01\",\"0.11\",\"0.21\",\"0.31\",\"0.41\",\"0.51\",\"0.61\",\"0.71\",\"0.81\",\"0.91\",\"1.01\",\"1.11\",\"1.21\",\"1.31\",\"1.41\",\"1.51\",\"1.61\",\"1.71\",\"1.81\",\"1.91\",\"2.01\",\"2.11\",\"2.21\",\"2.31\",\"2.41\",\"2.51\",\"2.61\",\"2.71\",\"2.81\",\"2.91\",\"3.01\",\"3.11\",\"3.21\",\"3.31\",\"3.41\",\"3.51\",\"3.61\",\"3.71\",\"3.81\",\"3.91\",\"4.01\",\"4.11\",\"4.21\",\"4.31\",\"4.41\",\"4.51\",\"4.61\",\"4.71\",\"4.81\",\"4.91\"],\"changes\":WebIO.getval({\"name\":\"changes\",\"scope\":\"4918596182114590024\",\"id\":\"7712723074532254681\",\"type\":\"observable\"}),\"index\":WebIO.getval({\"name\":\"index\",\"scope\":\"4918596182114590024\",\"id\":\"18202252027035696758\",\"type\":\"observable\"})};\n    var self = this;\n    function AppViewModel() {\n        for (var key in json_data) {\n            var el = json_data[key];\n            this[key] = Array.isArray(el) ? ko.observableArray(el) : ko.observable(el);\n        }\n        \n        [this[\"formatted_val\"]=ko.computed(    function(){\n        return this.formatted_vals()[parseInt(this.index())-(1)];\n    }\n,this)]\n        [this[\"changes\"].subscribe((function (val){!(this.valueFromJulia[\"changes\"]) ? (WebIO.setval({\"name\":\"changes\",\"scope\":\"4918596182114590024\",\"id\":\"7712723074532254681\",\"type\":\"observable\"},val)) : undefined; return this.valueFromJulia[\"changes\"]=false}),self),this[\"index\"].subscribe((function (val){!(this.valueFromJulia[\"index\"]) ? (WebIO.setval({\"name\":\"index\",\"scope\":\"4918596182114590024\",\"id\":\"18202252027035696758\",\"type\":\"observable\"},val)) : undefined; return this.valueFromJulia[\"index\"]=false}),self)]\n        \n    }\n    self.model = new AppViewModel();\n    self.valueFromJulia = {};\n    for (var key in json_data) {\n        self.valueFromJulia[key] = false;\n    }\n    ko.applyBindings(self.model, self.dom);\n}\n);\n    (WebIO.importBlock({\"data\":[{\"name\":\"knockout\",\"type\":\"js\",\"url\":\"/assetserver/727383f2a47bd31570b7da84eee7b022dd6d7c78-knockout.js\"},{\"name\":\"knockout_punches\",\"type\":\"js\",\"url\":\"/assetserver/382b41b3b1bd9f26f75861d360bad7f8beea211f-knockout_punches.js\"}],\"type\":\"async_block\"})).then((imports) => handler.apply(this, imports));\n}\n"
                  ],
                  "observables": {
                   "changes": {
                    "id": "7712723074532254681",
                    "sync": false,
                    "value": 0
                   },
                   "index": {
                    "id": "18202252027035696758",
                    "sync": true,
                    "value": 25
                   }
                  },
                  "systemjs_options": null
                 },
                 "nodeType": "Scope",
                 "props": {},
                 "type": "node"
                }
               ],
               "instanceArgs": {
                "namespace": "html",
                "tag": "div"
               },
               "nodeType": "DOM",
               "props": {
                "className": "field interact-widget"
               },
               "type": "node"
              }
             ],
             "instanceArgs": {
              "namespace": "html",
              "tag": "div"
             },
             "nodeType": "DOM",
             "props": {
              "style": {
               "display": "flex",
               "flex-direction": "column"
              }
             },
             "type": "node"
            },
            {
             "children": [
              {
               "children": [
                {
                 "children": [
                  {
                   "children": [],
                   "instanceArgs": {
                    "namespace": "html",
                    "tag": "div"
                   },
                   "nodeType": "DOM",
                   "props": {
                    "id": "container"
                   },
                   "type": "node"
                  }
                 ],
                 "instanceArgs": {
                  "handlers": {
                   "value": [
                    "(function (txt){return this.k.render(txt,this.container)})"
                   ]
                  },
                  "id": "8288430584105948763",
                  "imports": {
                   "data": [
                    {
                     "name": null,
                     "type": "js",
                     "url": "/assetserver/dd22ed1bf1896c2748f3fe616ce0b838adc895c1-katex.min.js"
                    },
                    {
                     "name": null,
                     "type": "css",
                     "url": "/assetserver/46517a424aa5e6cffc1360d7e0848b601c584ee3-katex.min.css"
                    }
                   ],
                   "type": "async_block"
                  },
                  "mount_callbacks": [
                   "function () {\n    var handler = ((function (k){this.k=k; this.container=this.dom.querySelector(\"#container\"); return k.render(\"\\\\;\\\\;\",this.container)}));\n    (WebIO.importBlock({\"data\":[{\"name\":null,\"type\":\"js\",\"url\":\"/assetserver/dd22ed1bf1896c2748f3fe616ce0b838adc895c1-katex.min.js\"},{\"name\":null,\"type\":\"css\",\"url\":\"/assetserver/46517a424aa5e6cffc1360d7e0848b601c584ee3-katex.min.css\"}],\"type\":\"async_block\"})).then((imports) => handler.apply(this, imports));\n}\n"
                  ],
                  "observables": {
                   "value": {
                    "id": "13679390611816783310",
                    "sync": false,
                    "value": "\\;\\;"
                   }
                  },
                  "systemjs_options": null
                 },
                 "nodeType": "Scope",
                 "props": {},
                 "type": "node"
                }
               ],
               "instanceArgs": {
                "namespace": "html",
                "tag": "div"
               },
               "nodeType": "DOM",
               "props": {
                "className": "interact-widget"
               },
               "type": "node"
              },
              {
               "children": [
                {
                 "children": [
                  {
                   "children": [
                    "run"
                   ],
                   "instanceArgs": {
                    "namespace": "html",
                    "tag": "button"
                   },
                   "nodeType": "DOM",
                   "props": {
                    "attributes": {
                     "data-bind": "click: function (){this.clicks(this.clicks()+1)}, css: {'is-loading' : loading}"
                    },
                    "className": "is-medium button is-primary",
                    "style": {}
                   },
                   "type": "node"
                  }
                 ],
                 "instanceArgs": {
                  "handlers": {
                   "clicks": [
                    "(function (val){return (val!=this.model[\"clicks\"]()) ? (this.valueFromJulia[\"clicks\"]=true, this.model[\"clicks\"](val)) : undefined})"
                   ],
                   "loading": [
                    "(function (val){return (val!=this.model[\"loading\"]()) ? (this.valueFromJulia[\"loading\"]=true, this.model[\"loading\"](val)) : undefined})"
                   ]
                  },
                  "id": "5482497086654881697",
                  "imports": {
                   "data": [
                    {
                     "name": "knockout",
                     "type": "js",
                     "url": "/assetserver/727383f2a47bd31570b7da84eee7b022dd6d7c78-knockout.js"
                    },
                    {
                     "name": "knockout_punches",
                     "type": "js",
                     "url": "/assetserver/382b41b3b1bd9f26f75861d360bad7f8beea211f-knockout_punches.js"
                    },
                    {
                     "name": null,
                     "type": "js",
                     "url": "/assetserver/5ab20f1060420992a9b82a65b735dee4d81ef413-all.js"
                    },
                    {
                     "name": null,
                     "type": "css",
                     "url": "/assetserver/1cc0ed62837210b80a182cc3676512f895dab686-style.css"
                    },
                    {
                     "name": null,
                     "type": "css",
                     "url": "/assetserver/2eee816f616df3549d7044d45e744fbf8d42bfa1-bulma_confined.min.css"
                    }
                   ],
                   "type": "async_block"
                  },
                  "mount_callbacks": [
                   "function () {\n    var handler = (function (ko, koPunches) {\n    ko.punches.enableAll();\n    ko.bindingHandlers.numericValue = {\n        init: function(element, valueAccessor, allBindings, data, context) {\n            var stringified = ko.observable(ko.unwrap(valueAccessor()));\n            stringified.subscribe(function(value) {\n                var val = parseFloat(value);\n                if (!isNaN(val)) {\n                    valueAccessor()(val);\n                }\n            });\n            valueAccessor().subscribe(function(value) {\n                var str = JSON.stringify(value);\n                if ((str == \"0\") && ([\"-0\", \"-0.\"].indexOf(stringified()) >= 0))\n                     return;\n                 if ([\"null\", \"\"].indexOf(str) >= 0)\n                     return;\n                stringified(str);\n            });\n            ko.applyBindingsToNode(\n                element,\n                {\n                    value: stringified,\n                    valueUpdate: allBindings.get('valueUpdate'),\n                },\n                context,\n            );\n        }\n    };\n    var json_data = {\"loading\":WebIO.getval({\"name\":\"loading\",\"scope\":\"5482497086654881697\",\"id\":\"9069552012627715328\",\"type\":\"observable\"}),\"clicks\":WebIO.getval({\"name\":\"clicks\",\"scope\":\"5482497086654881697\",\"id\":\"15799650595447424239\",\"type\":\"observable\"})};\n    var self = this;\n    function AppViewModel() {\n        for (var key in json_data) {\n            var el = json_data[key];\n            this[key] = Array.isArray(el) ? ko.observableArray(el) : ko.observable(el);\n        }\n        \n        \n        [this[\"loading\"].subscribe((function (val){!(this.valueFromJulia[\"loading\"]) ? (WebIO.setval({\"name\":\"loading\",\"scope\":\"5482497086654881697\",\"id\":\"9069552012627715328\",\"type\":\"observable\"},val)) : undefined; return this.valueFromJulia[\"loading\"]=false}),self),this[\"clicks\"].subscribe((function (val){!(this.valueFromJulia[\"clicks\"]) ? (WebIO.setval({\"name\":\"clicks\",\"scope\":\"5482497086654881697\",\"id\":\"15799650595447424239\",\"type\":\"observable\"},val)) : undefined; return this.valueFromJulia[\"clicks\"]=false}),self)]\n        \n    }\n    self.model = new AppViewModel();\n    self.valueFromJulia = {};\n    for (var key in json_data) {\n        self.valueFromJulia[key] = false;\n    }\n    ko.applyBindings(self.model, self.dom);\n}\n);\n    (WebIO.importBlock({\"data\":[{\"name\":\"knockout\",\"type\":\"js\",\"url\":\"/assetserver/727383f2a47bd31570b7da84eee7b022dd6d7c78-knockout.js\"},{\"name\":\"knockout_punches\",\"type\":\"js\",\"url\":\"/assetserver/382b41b3b1bd9f26f75861d360bad7f8beea211f-knockout_punches.js\"}],\"type\":\"async_block\"})).then((imports) => handler.apply(this, imports));\n}\n"
                  ],
                  "observables": {
                   "clicks": {
                    "id": "15799650595447424239",
                    "sync": true,
                    "value": 0
                   },
                   "loading": {
                    "id": "9069552012627715328",
                    "sync": false,
                    "value": false
                   }
                  },
                  "systemjs_options": null
                 },
                 "nodeType": "Scope",
                 "props": {},
                 "type": "node"
                }
               ],
               "instanceArgs": {
                "namespace": "html",
                "tag": "div"
               },
               "nodeType": "DOM",
               "props": {
                "className": "field interact-widget"
               },
               "type": "node"
              },
              {
               "children": [
                {
                 "children": [
                  {
                   "children": [],
                   "instanceArgs": {
                    "namespace": "html",
                    "tag": "div"
                   },
                   "nodeType": "DOM",
                   "props": {
                    "id": "container"
                   },
                   "type": "node"
                  }
                 ],
                 "instanceArgs": {
                  "handlers": {
                   "value": [
                    "(function (txt){return this.k.render(txt,this.container)})"
                   ]
                  },
                  "id": "8288430584105948763",
                  "imports": {
                   "data": [
                    {
                     "name": null,
                     "type": "js",
                     "url": "/assetserver/dd22ed1bf1896c2748f3fe616ce0b838adc895c1-katex.min.js"
                    },
                    {
                     "name": null,
                     "type": "css",
                     "url": "/assetserver/46517a424aa5e6cffc1360d7e0848b601c584ee3-katex.min.css"
                    }
                   ],
                   "type": "async_block"
                  },
                  "mount_callbacks": [
                   "function () {\n    var handler = ((function (k){this.k=k; this.container=this.dom.querySelector(\"#container\"); return k.render(\"\\\\;\\\\;\",this.container)}));\n    (WebIO.importBlock({\"data\":[{\"name\":null,\"type\":\"js\",\"url\":\"/assetserver/dd22ed1bf1896c2748f3fe616ce0b838adc895c1-katex.min.js\"},{\"name\":null,\"type\":\"css\",\"url\":\"/assetserver/46517a424aa5e6cffc1360d7e0848b601c584ee3-katex.min.css\"}],\"type\":\"async_block\"})).then((imports) => handler.apply(this, imports));\n}\n"
                  ],
                  "observables": {
                   "value": {
                    "id": "13679390611816783310",
                    "sync": false,
                    "value": "\\;\\;"
                   }
                  },
                  "systemjs_options": null
                 },
                 "nodeType": "Scope",
                 "props": {},
                 "type": "node"
                }
               ],
               "instanceArgs": {
                "namespace": "html",
                "tag": "div"
               },
               "nodeType": "DOM",
               "props": {
                "className": "interact-widget"
               },
               "type": "node"
              },
              {
               "children": [
                {
                 "children": [
                  {
                   "children": [
                    "stop"
                   ],
                   "instanceArgs": {
                    "namespace": "html",
                    "tag": "button"
                   },
                   "nodeType": "DOM",
                   "props": {
                    "attributes": {
                     "data-bind": "click: function (){this.clicks(this.clicks()+1)}, css: {'is-loading' : loading}"
                    },
                    "className": "is-medium button is-primary",
                    "style": {}
                   },
                   "type": "node"
                  }
                 ],
                 "instanceArgs": {
                  "handlers": {
                   "clicks": [
                    "(function (val){return (val!=this.model[\"clicks\"]()) ? (this.valueFromJulia[\"clicks\"]=true, this.model[\"clicks\"](val)) : undefined})"
                   ],
                   "loading": [
                    "(function (val){return (val!=this.model[\"loading\"]()) ? (this.valueFromJulia[\"loading\"]=true, this.model[\"loading\"](val)) : undefined})"
                   ]
                  },
                  "id": "3233851987678498642",
                  "imports": {
                   "data": [
                    {
                     "name": "knockout",
                     "type": "js",
                     "url": "/assetserver/727383f2a47bd31570b7da84eee7b022dd6d7c78-knockout.js"
                    },
                    {
                     "name": "knockout_punches",
                     "type": "js",
                     "url": "/assetserver/382b41b3b1bd9f26f75861d360bad7f8beea211f-knockout_punches.js"
                    },
                    {
                     "name": null,
                     "type": "js",
                     "url": "/assetserver/5ab20f1060420992a9b82a65b735dee4d81ef413-all.js"
                    },
                    {
                     "name": null,
                     "type": "css",
                     "url": "/assetserver/1cc0ed62837210b80a182cc3676512f895dab686-style.css"
                    },
                    {
                     "name": null,
                     "type": "css",
                     "url": "/assetserver/2eee816f616df3549d7044d45e744fbf8d42bfa1-bulma_confined.min.css"
                    }
                   ],
                   "type": "async_block"
                  },
                  "mount_callbacks": [
                   "function () {\n    var handler = (function (ko, koPunches) {\n    ko.punches.enableAll();\n    ko.bindingHandlers.numericValue = {\n        init: function(element, valueAccessor, allBindings, data, context) {\n            var stringified = ko.observable(ko.unwrap(valueAccessor()));\n            stringified.subscribe(function(value) {\n                var val = parseFloat(value);\n                if (!isNaN(val)) {\n                    valueAccessor()(val);\n                }\n            });\n            valueAccessor().subscribe(function(value) {\n                var str = JSON.stringify(value);\n                if ((str == \"0\") && ([\"-0\", \"-0.\"].indexOf(stringified()) >= 0))\n                     return;\n                 if ([\"null\", \"\"].indexOf(str) >= 0)\n                     return;\n                stringified(str);\n            });\n            ko.applyBindingsToNode(\n                element,\n                {\n                    value: stringified,\n                    valueUpdate: allBindings.get('valueUpdate'),\n                },\n                context,\n            );\n        }\n    };\n    var json_data = {\"loading\":WebIO.getval({\"name\":\"loading\",\"scope\":\"3233851987678498642\",\"id\":\"13613344929617067878\",\"type\":\"observable\"}),\"clicks\":WebIO.getval({\"name\":\"clicks\",\"scope\":\"3233851987678498642\",\"id\":\"1715375733406185207\",\"type\":\"observable\"})};\n    var self = this;\n    function AppViewModel() {\n        for (var key in json_data) {\n            var el = json_data[key];\n            this[key] = Array.isArray(el) ? ko.observableArray(el) : ko.observable(el);\n        }\n        \n        \n        [this[\"loading\"].subscribe((function (val){!(this.valueFromJulia[\"loading\"]) ? (WebIO.setval({\"name\":\"loading\",\"scope\":\"3233851987678498642\",\"id\":\"13613344929617067878\",\"type\":\"observable\"},val)) : undefined; return this.valueFromJulia[\"loading\"]=false}),self),this[\"clicks\"].subscribe((function (val){!(this.valueFromJulia[\"clicks\"]) ? (WebIO.setval({\"name\":\"clicks\",\"scope\":\"3233851987678498642\",\"id\":\"1715375733406185207\",\"type\":\"observable\"},val)) : undefined; return this.valueFromJulia[\"clicks\"]=false}),self)]\n        \n    }\n    self.model = new AppViewModel();\n    self.valueFromJulia = {};\n    for (var key in json_data) {\n        self.valueFromJulia[key] = false;\n    }\n    ko.applyBindings(self.model, self.dom);\n}\n);\n    (WebIO.importBlock({\"data\":[{\"name\":\"knockout\",\"type\":\"js\",\"url\":\"/assetserver/727383f2a47bd31570b7da84eee7b022dd6d7c78-knockout.js\"},{\"name\":\"knockout_punches\",\"type\":\"js\",\"url\":\"/assetserver/382b41b3b1bd9f26f75861d360bad7f8beea211f-knockout_punches.js\"}],\"type\":\"async_block\"})).then((imports) => handler.apply(this, imports));\n}\n"
                  ],
                  "observables": {
                   "clicks": {
                    "id": "1715375733406185207",
                    "sync": true,
                    "value": 0
                   },
                   "loading": {
                    "id": "13613344929617067878",
                    "sync": false,
                    "value": false
                   }
                  },
                  "systemjs_options": null
                 },
                 "nodeType": "Scope",
                 "props": {},
                 "type": "node"
                }
               ],
               "instanceArgs": {
                "namespace": "html",
                "tag": "div"
               },
               "nodeType": "DOM",
               "props": {
                "className": "field interact-widget"
               },
               "type": "node"
              },
              {
               "children": [
                {
                 "children": [
                  {
                   "children": [],
                   "instanceArgs": {
                    "namespace": "html",
                    "tag": "div"
                   },
                   "nodeType": "DOM",
                   "props": {
                    "id": "container"
                   },
                   "type": "node"
                  }
                 ],
                 "instanceArgs": {
                  "handlers": {
                   "value": [
                    "(function (txt){return this.k.render(txt,this.container)})"
                   ]
                  },
                  "id": "8288430584105948763",
                  "imports": {
                   "data": [
                    {
                     "name": null,
                     "type": "js",
                     "url": "/assetserver/dd22ed1bf1896c2748f3fe616ce0b838adc895c1-katex.min.js"
                    },
                    {
                     "name": null,
                     "type": "css",
                     "url": "/assetserver/46517a424aa5e6cffc1360d7e0848b601c584ee3-katex.min.css"
                    }
                   ],
                   "type": "async_block"
                  },
                  "mount_callbacks": [
                   "function () {\n    var handler = ((function (k){this.k=k; this.container=this.dom.querySelector(\"#container\"); return k.render(\"\\\\;\\\\;\",this.container)}));\n    (WebIO.importBlock({\"data\":[{\"name\":null,\"type\":\"js\",\"url\":\"/assetserver/dd22ed1bf1896c2748f3fe616ce0b838adc895c1-katex.min.js\"},{\"name\":null,\"type\":\"css\",\"url\":\"/assetserver/46517a424aa5e6cffc1360d7e0848b601c584ee3-katex.min.css\"}],\"type\":\"async_block\"})).then((imports) => handler.apply(this, imports));\n}\n"
                  ],
                  "observables": {
                   "value": {
                    "id": "13679390611816783310",
                    "sync": false,
                    "value": "\\;\\;"
                   }
                  },
                  "systemjs_options": null
                 },
                 "nodeType": "Scope",
                 "props": {},
                 "type": "node"
                }
               ],
               "instanceArgs": {
                "namespace": "html",
                "tag": "div"
               },
               "nodeType": "DOM",
               "props": {
                "className": "interact-widget"
               },
               "type": "node"
              },
              {
               "children": [
                {
                 "children": [
                  {
                   "children": [
                    "reset"
                   ],
                   "instanceArgs": {
                    "namespace": "html",
                    "tag": "button"
                   },
                   "nodeType": "DOM",
                   "props": {
                    "attributes": {
                     "data-bind": "click: function (){this.clicks(this.clicks()+1)}, css: {'is-loading' : loading}"
                    },
                    "className": "is-medium button is-primary",
                    "style": {}
                   },
                   "type": "node"
                  }
                 ],
                 "instanceArgs": {
                  "handlers": {
                   "clicks": [
                    "(function (val){return (val!=this.model[\"clicks\"]()) ? (this.valueFromJulia[\"clicks\"]=true, this.model[\"clicks\"](val)) : undefined})"
                   ],
                   "loading": [
                    "(function (val){return (val!=this.model[\"loading\"]()) ? (this.valueFromJulia[\"loading\"]=true, this.model[\"loading\"](val)) : undefined})"
                   ]
                  },
                  "id": "18369322647127059050",
                  "imports": {
                   "data": [
                    {
                     "name": "knockout",
                     "type": "js",
                     "url": "/assetserver/727383f2a47bd31570b7da84eee7b022dd6d7c78-knockout.js"
                    },
                    {
                     "name": "knockout_punches",
                     "type": "js",
                     "url": "/assetserver/382b41b3b1bd9f26f75861d360bad7f8beea211f-knockout_punches.js"
                    },
                    {
                     "name": null,
                     "type": "js",
                     "url": "/assetserver/5ab20f1060420992a9b82a65b735dee4d81ef413-all.js"
                    },
                    {
                     "name": null,
                     "type": "css",
                     "url": "/assetserver/1cc0ed62837210b80a182cc3676512f895dab686-style.css"
                    },
                    {
                     "name": null,
                     "type": "css",
                     "url": "/assetserver/2eee816f616df3549d7044d45e744fbf8d42bfa1-bulma_confined.min.css"
                    }
                   ],
                   "type": "async_block"
                  },
                  "mount_callbacks": [
                   "function () {\n    var handler = (function (ko, koPunches) {\n    ko.punches.enableAll();\n    ko.bindingHandlers.numericValue = {\n        init: function(element, valueAccessor, allBindings, data, context) {\n            var stringified = ko.observable(ko.unwrap(valueAccessor()));\n            stringified.subscribe(function(value) {\n                var val = parseFloat(value);\n                if (!isNaN(val)) {\n                    valueAccessor()(val);\n                }\n            });\n            valueAccessor().subscribe(function(value) {\n                var str = JSON.stringify(value);\n                if ((str == \"0\") && ([\"-0\", \"-0.\"].indexOf(stringified()) >= 0))\n                     return;\n                 if ([\"null\", \"\"].indexOf(str) >= 0)\n                     return;\n                stringified(str);\n            });\n            ko.applyBindingsToNode(\n                element,\n                {\n                    value: stringified,\n                    valueUpdate: allBindings.get('valueUpdate'),\n                },\n                context,\n            );\n        }\n    };\n    var json_data = {\"loading\":WebIO.getval({\"name\":\"loading\",\"scope\":\"18369322647127059050\",\"id\":\"6352984047737957437\",\"type\":\"observable\"}),\"clicks\":WebIO.getval({\"name\":\"clicks\",\"scope\":\"18369322647127059050\",\"id\":\"5783986007702415992\",\"type\":\"observable\"})};\n    var self = this;\n    function AppViewModel() {\n        for (var key in json_data) {\n            var el = json_data[key];\n            this[key] = Array.isArray(el) ? ko.observableArray(el) : ko.observable(el);\n        }\n        \n        \n        [this[\"loading\"].subscribe((function (val){!(this.valueFromJulia[\"loading\"]) ? (WebIO.setval({\"name\":\"loading\",\"scope\":\"18369322647127059050\",\"id\":\"6352984047737957437\",\"type\":\"observable\"},val)) : undefined; return this.valueFromJulia[\"loading\"]=false}),self),this[\"clicks\"].subscribe((function (val){!(this.valueFromJulia[\"clicks\"]) ? (WebIO.setval({\"name\":\"clicks\",\"scope\":\"18369322647127059050\",\"id\":\"5783986007702415992\",\"type\":\"observable\"},val)) : undefined; return this.valueFromJulia[\"clicks\"]=false}),self)]\n        \n    }\n    self.model = new AppViewModel();\n    self.valueFromJulia = {};\n    for (var key in json_data) {\n        self.valueFromJulia[key] = false;\n    }\n    ko.applyBindings(self.model, self.dom);\n}\n);\n    (WebIO.importBlock({\"data\":[{\"name\":\"knockout\",\"type\":\"js\",\"url\":\"/assetserver/727383f2a47bd31570b7da84eee7b022dd6d7c78-knockout.js\"},{\"name\":\"knockout_punches\",\"type\":\"js\",\"url\":\"/assetserver/382b41b3b1bd9f26f75861d360bad7f8beea211f-knockout_punches.js\"}],\"type\":\"async_block\"})).then((imports) => handler.apply(this, imports));\n}\n"
                  ],
                  "observables": {
                   "clicks": {
                    "id": "5783986007702415992",
                    "sync": true,
                    "value": 0
                   },
                   "loading": {
                    "id": "6352984047737957437",
                    "sync": false,
                    "value": false
                   }
                  },
                  "systemjs_options": null
                 },
                 "nodeType": "Scope",
                 "props": {},
                 "type": "node"
                }
               ],
               "instanceArgs": {
                "namespace": "html",
                "tag": "div"
               },
               "nodeType": "DOM",
               "props": {
                "className": "field interact-widget"
               },
               "type": "node"
              },
              {
               "children": [
                {
                 "children": [
                  {
                   "children": [],
                   "instanceArgs": {
                    "namespace": "html",
                    "tag": "div"
                   },
                   "nodeType": "DOM",
                   "props": {
                    "id": "container"
                   },
                   "type": "node"
                  }
                 ],
                 "instanceArgs": {
                  "handlers": {
                   "value": [
                    "(function (txt){return this.k.render(txt,this.container)})"
                   ]
                  },
                  "id": "8288430584105948763",
                  "imports": {
                   "data": [
                    {
                     "name": null,
                     "type": "js",
                     "url": "/assetserver/dd22ed1bf1896c2748f3fe616ce0b838adc895c1-katex.min.js"
                    },
                    {
                     "name": null,
                     "type": "css",
                     "url": "/assetserver/46517a424aa5e6cffc1360d7e0848b601c584ee3-katex.min.css"
                    }
                   ],
                   "type": "async_block"
                  },
                  "mount_callbacks": [
                   "function () {\n    var handler = ((function (k){this.k=k; this.container=this.dom.querySelector(\"#container\"); return k.render(\"\\\\;\\\\;\",this.container)}));\n    (WebIO.importBlock({\"data\":[{\"name\":null,\"type\":\"js\",\"url\":\"/assetserver/dd22ed1bf1896c2748f3fe616ce0b838adc895c1-katex.min.js\"},{\"name\":null,\"type\":\"css\",\"url\":\"/assetserver/46517a424aa5e6cffc1360d7e0848b601c584ee3-katex.min.css\"}],\"type\":\"async_block\"})).then((imports) => handler.apply(this, imports));\n}\n"
                  ],
                  "observables": {
                   "value": {
                    "id": "13679390611816783310",
                    "sync": false,
                    "value": "\\;\\;"
                   }
                  },
                  "systemjs_options": null
                 },
                 "nodeType": "Scope",
                 "props": {},
                 "type": "node"
                }
               ],
               "instanceArgs": {
                "namespace": "html",
                "tag": "div"
               },
               "nodeType": "DOM",
               "props": {
                "className": "interact-widget"
               },
               "type": "node"
              },
              {
               "children": [
                {
                 "children": [
                  {
                   "children": [
                    "save"
                   ],
                   "instanceArgs": {
                    "namespace": "html",
                    "tag": "button"
                   },
                   "nodeType": "DOM",
                   "props": {
                    "attributes": {
                     "data-bind": "click: function (){this.clicks(this.clicks()+1)}, css: {'is-loading' : loading}"
                    },
                    "className": "is-medium button is-primary",
                    "style": {}
                   },
                   "type": "node"
                  }
                 ],
                 "instanceArgs": {
                  "handlers": {
                   "clicks": [
                    "(function (val){return (val!=this.model[\"clicks\"]()) ? (this.valueFromJulia[\"clicks\"]=true, this.model[\"clicks\"](val)) : undefined})"
                   ],
                   "loading": [
                    "(function (val){return (val!=this.model[\"loading\"]()) ? (this.valueFromJulia[\"loading\"]=true, this.model[\"loading\"](val)) : undefined})"
                   ]
                  },
                  "id": "3958704727991174570",
                  "imports": {
                   "data": [
                    {
                     "name": "knockout",
                     "type": "js",
                     "url": "/assetserver/727383f2a47bd31570b7da84eee7b022dd6d7c78-knockout.js"
                    },
                    {
                     "name": "knockout_punches",
                     "type": "js",
                     "url": "/assetserver/382b41b3b1bd9f26f75861d360bad7f8beea211f-knockout_punches.js"
                    },
                    {
                     "name": null,
                     "type": "js",
                     "url": "/assetserver/5ab20f1060420992a9b82a65b735dee4d81ef413-all.js"
                    },
                    {
                     "name": null,
                     "type": "css",
                     "url": "/assetserver/1cc0ed62837210b80a182cc3676512f895dab686-style.css"
                    },
                    {
                     "name": null,
                     "type": "css",
                     "url": "/assetserver/2eee816f616df3549d7044d45e744fbf8d42bfa1-bulma_confined.min.css"
                    }
                   ],
                   "type": "async_block"
                  },
                  "mount_callbacks": [
                   "function () {\n    var handler = (function (ko, koPunches) {\n    ko.punches.enableAll();\n    ko.bindingHandlers.numericValue = {\n        init: function(element, valueAccessor, allBindings, data, context) {\n            var stringified = ko.observable(ko.unwrap(valueAccessor()));\n            stringified.subscribe(function(value) {\n                var val = parseFloat(value);\n                if (!isNaN(val)) {\n                    valueAccessor()(val);\n                }\n            });\n            valueAccessor().subscribe(function(value) {\n                var str = JSON.stringify(value);\n                if ((str == \"0\") && ([\"-0\", \"-0.\"].indexOf(stringified()) >= 0))\n                     return;\n                 if ([\"null\", \"\"].indexOf(str) >= 0)\n                     return;\n                stringified(str);\n            });\n            ko.applyBindingsToNode(\n                element,\n                {\n                    value: stringified,\n                    valueUpdate: allBindings.get('valueUpdate'),\n                },\n                context,\n            );\n        }\n    };\n    var json_data = {\"loading\":WebIO.getval({\"name\":\"loading\",\"scope\":\"3958704727991174570\",\"id\":\"10870143112304208397\",\"type\":\"observable\"}),\"clicks\":WebIO.getval({\"name\":\"clicks\",\"scope\":\"3958704727991174570\",\"id\":\"2301168657495648770\",\"type\":\"observable\"})};\n    var self = this;\n    function AppViewModel() {\n        for (var key in json_data) {\n            var el = json_data[key];\n            this[key] = Array.isArray(el) ? ko.observableArray(el) : ko.observable(el);\n        }\n        \n        \n        [this[\"loading\"].subscribe((function (val){!(this.valueFromJulia[\"loading\"]) ? (WebIO.setval({\"name\":\"loading\",\"scope\":\"3958704727991174570\",\"id\":\"10870143112304208397\",\"type\":\"observable\"},val)) : undefined; return this.valueFromJulia[\"loading\"]=false}),self),this[\"clicks\"].subscribe((function (val){!(this.valueFromJulia[\"clicks\"]) ? (WebIO.setval({\"name\":\"clicks\",\"scope\":\"3958704727991174570\",\"id\":\"2301168657495648770\",\"type\":\"observable\"},val)) : undefined; return this.valueFromJulia[\"clicks\"]=false}),self)]\n        \n    }\n    self.model = new AppViewModel();\n    self.valueFromJulia = {};\n    for (var key in json_data) {\n        self.valueFromJulia[key] = false;\n    }\n    ko.applyBindings(self.model, self.dom);\n}\n);\n    (WebIO.importBlock({\"data\":[{\"name\":\"knockout\",\"type\":\"js\",\"url\":\"/assetserver/727383f2a47bd31570b7da84eee7b022dd6d7c78-knockout.js\"},{\"name\":\"knockout_punches\",\"type\":\"js\",\"url\":\"/assetserver/382b41b3b1bd9f26f75861d360bad7f8beea211f-knockout_punches.js\"}],\"type\":\"async_block\"})).then((imports) => handler.apply(this, imports));\n}\n"
                  ],
                  "observables": {
                   "clicks": {
                    "id": "2301168657495648770",
                    "sync": true,
                    "value": 0
                   },
                   "loading": {
                    "id": "10870143112304208397",
                    "sync": false,
                    "value": false
                   }
                  },
                  "systemjs_options": null
                 },
                 "nodeType": "Scope",
                 "props": {},
                 "type": "node"
                }
               ],
               "instanceArgs": {
                "namespace": "html",
                "tag": "div"
               },
               "nodeType": "DOM",
               "props": {
                "className": "field interact-widget"
               },
               "type": "node"
              }
             ],
             "instanceArgs": {
              "namespace": "html",
              "tag": "div"
             },
             "nodeType": "DOM",
             "props": {
              "style": {
               "display": "flex",
               "flex-direction": "row"
              }
             },
             "type": "node"
            }
           ],
           "instanceArgs": {
            "namespace": "html",
            "tag": "div"
           },
           "nodeType": "DOM",
           "props": {
            "style": {
             "display": "flex",
             "flex-direction": "column"
            }
           },
           "type": "node"
          },
          {
           "children": [
            {
             "children": [
              {
               "children": [],
               "instanceArgs": {
                "namespace": "html",
                "tag": "div"
               },
               "nodeType": "DOM",
               "props": {
                "id": "container"
               },
               "type": "node"
              }
             ],
             "instanceArgs": {
              "handlers": {
               "value": [
                "(function (txt){return this.k.render(txt,this.container)})"
               ]
              },
              "id": "8288430584105948763",
              "imports": {
               "data": [
                {
                 "name": null,
                 "type": "js",
                 "url": "/assetserver/dd22ed1bf1896c2748f3fe616ce0b838adc895c1-katex.min.js"
                },
                {
                 "name": null,
                 "type": "css",
                 "url": "/assetserver/46517a424aa5e6cffc1360d7e0848b601c584ee3-katex.min.css"
                }
               ],
               "type": "async_block"
              },
              "mount_callbacks": [
               "function () {\n    var handler = ((function (k){this.k=k; this.container=this.dom.querySelector(\"#container\"); return k.render(\"\\\\;\\\\;\",this.container)}));\n    (WebIO.importBlock({\"data\":[{\"name\":null,\"type\":\"js\",\"url\":\"/assetserver/dd22ed1bf1896c2748f3fe616ce0b838adc895c1-katex.min.js\"},{\"name\":null,\"type\":\"css\",\"url\":\"/assetserver/46517a424aa5e6cffc1360d7e0848b601c584ee3-katex.min.css\"}],\"type\":\"async_block\"})).then((imports) => handler.apply(this, imports));\n}\n"
              ],
              "observables": {
               "value": {
                "id": "13679390611816783310",
                "sync": false,
                "value": "\\;\\;"
               }
              },
              "systemjs_options": null
             },
             "nodeType": "Scope",
             "props": {},
             "type": "node"
            }
           ],
           "instanceArgs": {
            "namespace": "html",
            "tag": "div"
           },
           "nodeType": "DOM",
           "props": {
            "className": "interact-widget"
           },
           "type": "node"
          },
          {
           "children": [
            {
             "children": [],
             "instanceArgs": {
              "namespace": "html",
              "tag": "div"
             },
             "nodeType": "DOM",
             "props": {
              "className": "webio-observable",
              "setInnerHtml": "<img src='data:image/png;base64,iVBORw0KGgoAAAANSUhEUgAAAa4AAAGuCAIAAABHl3XNAAAABmJLR0QA/wD/AP+gvaeTAAAYTUlEQVR4nO2dwU5b1/aHV66uYIxayU7EIGnDiOCi8g5tMc/AGIk8QHgFHqCDImY8Dwhsp61CJU+QEpNKyRPUdxApylWO93bPxmed31nfN4z/v/9ee+3tpfri4+/RfD43AIDY/Me7AAAAfxiFAACMQgAARiEAgDEKAQCMUQgAYIxCAABjFAIAGKMQAMAYhQAAxigEADBGIQCAMQoBAIxRCABgjEIAAGMUAgAYoxAAwBiFAABm9t8H+f9ye3v7+++/m9n29vbz58/JkiVLtrXZSh4Vuk3G4/HJycnTp09//PFHM7u6uppOp6enpzs7OyvNjkajw8PD2Wz24cMHM9vY2Oj1ehcXF4PBoJNZxT571ax4rxRrVtxvinkB19fX+/v7s9nsy3+czWa//PLL9fX16rJXV1ePHz/+ei+PHz++urrqXlaxz141K94rxZoV95umaBTu7+///fffX//7+/fv9/f3V5d98eLF1734xIsXL7qXVeyzV82K90qxZsX9pqn/Z5M3b958//3333zzzdcvffvtt999993t7e2Ksu/fv1/06vv377uXVeyzV82K90qxZrn9Zqn/Z5M//vjjhx9+WPTqYDD47bffPv0PAV9zeXlZkv348eOi7MePH7uXVeyzV82K90qx5nbu988//9za2lr0f5Cm/n8VPnr06J9//ln06nw+f/To0Yqy6aq6l1Xss1fNivdKseaSrMt+89T+aP3mzZuXL18uevXly5e3t7cryvZ6vUXb6fV63csq9tmrZsV7pViz3H6z1P+vwq2trel0WvnR/f7+fjqdJr7sU5hNt6N7WcU+e9WseK8Ua5bbb57aQ3Q+n49Go59//vnt27df/uPbt29/+umn0Wi0uuz19fWTJ0++3suTJ0+W+bKFXFaxz141K94rxZoV95um9CvWr1+/fvXq1ebm5t7enpldXl7e3d2dnp5ub2+vNDuZTA4PD9+9e/f5a5b9fv/i4iLxt3bprGKfvWpWvFeKNSvuN0HpKPzEdDr99ddfzezly5fPnj0jS5Ys2dZmK3mYZ5CfPXv26e/fNWoiS5Ys2SazlfDLNAAAjEIAAEYhAIAxCgEAjFEIAGCMQgAAYxQCANhDjcLb29vLy8vLy8u//vqLLFmyZNucraT0aRNFv0E0X4diljPqdp+91k1R8gCzot8gmq9DMcsZNZNVfP+WrJumaBQq+g2i+ToUs5xRM1nF92/JummK3CZyfoOAvg7FLGfUTFbx/Vt73SxFbpN2+g3a6WQgu3yWM2omq/j+Ta/r5jZJv9pCv0FAX4didtFLxhk9aHbRS9bi92/tdfPU/mit6DcI6OtQzHJGzWQV37+1181S5DaR8xsE9HUoZjmjZrKK79/a6+apPUTnmn6DaL4OxSxn1ExW8f1bsm6a0q9YK/oNovk6FLOcUbf77LVuAtwmZMmSjZWtBLcJWbJkY2Ur4ZdpAAAYhQAAjEIAAGMUAgAYoxAAwBiFAADGKAQAMNwmZMmSjZatxNNtouhVUMwqOjeiZblXzfQqRckDzIqOEa+aFXtFtpks92r5bEnNadzcJopeBcWsonMjWpZ7tXy2pOY0bm4TRa+CYlbRuREty71aPlu75ixubhNFr4JiVtG5ES3LvVo+m65Z0m1SklX0onhlFZ0b0bKLXjLu1VfZRS9ZruY8tT9aizpGvGpW7BXZZrLcq+WztWvO4uY2UfQqKGYVnRvRstyr5bO1a85Te4jONR0jXjUr9opsM1nu1fLZkprTeLpNFL0KillF50a0LPeqmV4lwG1ClizZWNlKcJuQJUs2VrYSfpkGAIBRCADAKAQAMEYhAIAxCgEAjFEIAGCMQgAAw21ClizZaNlKPN0mii4IRZ+D4n69ehVtXcV71TW3iaILQtHnoLhfr15FW1fxXnXQbaLoglD0OSju16tX0dZVvFcddJsouiDkfA6i+/XqVbR1Fe9VB90mii6Idvocurdfr15FW1fxXnXQbaLogpDzOYju16tX0db1yuI2+b+sogtCzucgul+vXkVbV/FeddBtouiCkPM5iO7Xq1fR1lW8Vx10myi6IBR9Dor79epVtHUV71U33SaKLghFn4Pifr16FW1dxXuF24QsWbJkHyBbCW4TsmTJxspWwi/TAAAwCgEAGIUAAMYoBAAwRiEAgDEKAQCMUQgAYLhNyJIlGy1biafbRNGroOigwNfR/qyiQ0Yxm6LkAeZoXgVFBwW+jvZnFR0yitk0bm4TRa+CooMCX0f7s4oOGcVsGje3iaJXQdFBga+j/VlFh4xcNoub20TRq6DooMDX0f6sokOmnVlJt4lXVtG5UZLF19H+rKJDRi6bp/ZH64BeBUUHBb6O9mcVHTJy2SxubhNFr4KigwJfR/uzig4ZuWye2kN0Hs+roOigwNfR/qyiQ0Yxm8bTbaLoVVB0UODraH9W0SGjmE2A24QsWbKxspXgNiFLlmysbCX8Mg0AAKMQAIBRCABgjEIAAGMUAgAYoxAAwBiFAACG24QsWbLRspWUPm2CN6PbNUfzdSj2WfFOeq2bouQBZrwZ3a45mq9Dsc+Kd9Jr3TRFoxBvRrdrjubrUOyz4p30WjdNkdsEb0a3a47m61Dss+KddFk3S5HbBG9Gt2uO5utQ7LPinVzdum5uE7wZy2cVay7JyrkvRPtckg31/s1T+6M13ozO1xzN16HYZ8U76bJuliK3Cd6Mbtcczdeh2GfFO+mybp7aQ3SON6PrNUfzdSj2WfFOeq2bpvQr1ngzul1zNF+HYp8V76TXuglwm5AlSzZWthLcJmTJko2VrYRfpgEAYBQCADAKAQCMUQgAYIxCAABjFAIAGKMQAMBwm5AlSzZatpLSp01wMrBu22pWzCr2WbHmFCUPMONkYN221ayYVeyzYs1pikYhTgbWbVvNilnFPivWnKbIbYKTgXXbVrNiVrHPcjVnKXKb4GRg3bbVrJhV7HM7a3Zzm6Rf7ZgbgXX/1bo4RpbPKvZZruY8tT9a42Rg3RbWrJhV7LNczVmK3CY4GVi3bTUrZhX7LFdzntpDdI6TgXXbV7NiVrHPijWnKf2KNU4G1m1bzYpZxT4r1pwAtwlZsmRjZSvBbUKWLNlY2Ur4ZRoAAEYhAACjEADAGIUAAMYoBAAwRiEAgDEKAQAMtwlZsmSjZSspfdpE0V+h6GRQ7HO081XMRjvfFCUPMCv6KxSdDIp9jna+itlo55umaBQq+isUnQyKfY52vorZaOebpshtouivkHMyiPY52vkqZkOdb5Yit4miv6KdToZ2rquY9TpfxWz3ztfNbaLor5BzMoj22Svrdb6K2UUvWRfPN0/tj9ai/go5J4Non6Odr2I21PlmKXKbKPor5JwMon2Odr6K2VDnm6f2EJ1r+isUnQyKfY52vorZaOebpvQr1or+CkUng2Kfo52vYjba+SbAbUKWLNlY2Upwm5AlSzZWthJ+mQYAgFEIAMAoBAAwRiEAgDEKAQCMUQgAYIxCAADDbUKWLNlo2UpKnzaJ5utQdFAo1sy9an/NincyRckDzNF8HYoOCsWauVftr1nxTqYpGoXRfB2KDgrFmrlX7a9Z8U6mKXKbRPN1KDooFGvmXrW/Zrk7maXIbRLN16HooFCsmXvV/prbeSfd3CbpV7vnZFB0UCjWXJKl5uXX9cq63Mk8tT9aB/R1KDooFGvmXrW/Zrk7maXIbRLN16HooFCsmXvV/prl7mSe2kN0Hs/XoeigUKyZe9X+mhXvZJrSr1hH83UoOigUa+Zetb9mxTuZALcJWbJkY2UrwW1ClizZWNlK+GUaAABGIQAAoxAAwBiFAADGKAQAMEYhAIAxCgEADLcJWbJko2Ur8XSbKLoRFP0kimfE3eCMVpFNUfIAczQ3gqKfRPGMuBuc0SqyadzcJopuBEU/ieIZcTc4o1Vk07i5TeTcCKJ+EsUz4m58hjN6qGwWN7dJO90I7XRQKLovFHuleDc4oy+zkm6TkqyXr0PRT1KybklWsVeKd6MkG+qM8tT+aB3NjSDqJ1E8I+4GZ/Tg2SxubhM5N4Kon0TxjLgbn+GMHiqbp/YQncdzIyj6SRTPiLvBGa0im8bTbaLoRlD0kyieEXeDM1pFNgFuE7JkycbKVoLbhCxZsrGylfDLNAAAjEIAAEYhAIAxCgEAjFEIAGCMQgAAYxQCABhuE7JkyUbLVlPy1N58Pr+5uRkMBr1eb21tbW1trdfrDQaDm5ubZbKj0Wg4HB4fH5+fn5+fnx8fH+/v7y/5IGHJumS7fUZeNZesq9hnxWwCN7eJogsiWlbxjKL5OhTvlVc2jZvbRNEFES2reEbRfB2K98orm8bNbaLogoiWVTyjUL4O0Xvlks3i5jZRdEFEyyqeUfd8He3sczuzkm4TRRdEtKziGYXydYjeK5dsntofrUW9CmSXzyqeUShfh+i9cslmKfqzyWAwWFTWYDBIZ4fD4f39/df/PpvNhsPh6tYlu3xW8Yy8ai5ZV7HPitk0bm4TRRdEtKziGUXzdSjeK69smtKvWI/H493d3X6/v76+vr6+3u/3d3d3x+PxMtnJZHJwcHB0dHR2dnZ2dnZ0dHRwcDCZTFa9Ltlun5FXzSXrKvZZMZsAtwlZsmRjZSvBbUKWLNlY2Ur4ZRoAAEYhAACjEADAGIUAAMYoBAAwRiEAgDEKAQAMtwlZsmSjZSspfdpkPB6fnJw8ffr009cdr66uptPp6enpzs7OSrOj0ejw8HA2m3348MHMNjY2er3excVF4mntB8l67derV4pnxH7b3yuvPqcoeWovms/Ba7+Kvg5F90W0/Sq+F1rqNonmc/Dar6KvQ9F9EW2/iu+FlrpNovkcvPar6OuQc18E3K/ie6GlbpNoPgev/Sr6OtrpvmC/D5Vt5312c5tE8zl47VfR11Gyrlc22n5LsnL3OU/tj9YBfQ5e+1X0dci5LwLuV/G9sDq3Sf3/Ktza2ppOp5Uf3e/v76fT6fPnz1eUTbdjdVmv/Xr1SvGM2G8zWbn7nKf2EJ3H8zl47VfR16Hovoi2X8X3wurcJqVfsX79+vWrV682Nzf39vbM7PLy8u7u7vT0dHt7e6XZyWRyeHj47t27z1+z7Pf7FxcXib+1P0jWa79evVI8I/bb/l559TkBbhOyZMnGylaC24QsWbKxspXwyzQAAIxCAABGIQCAMQoBAIxRCABgjEIAAGMUAgAYbhOyZMlGy1YS0W2iWHO0/dLn9p+RYq9SlDzArOg3UKw52n7pczPZaL1KE85tolhztP3S52ay0XqVJpzbRLHmaPulz81kQ/UqSzi3iWLN0fZLn5vJdq9XuE3+79WOORkC7pc+N5Nd9JJ1sVd5an+0VvQbiNYcbb/0uZlsqF5lCec2Uaw52n7pczPZUL3KU3uIzjX9Boo1R9svfW4mG61XaSK6TRRrjrZf+tz+M1LsVQLcJmTJko2VrQS3CVmyZGNlK+GXaQAAGIUAAIxCAABjFAIAGKMQAMAYhQAAxigEADDcJmTJko2Wrabkqb35fH5zczMYDHq93tra2traWq/XGwwGNzc3ZMl6ZUej0XA4PD4+Pj8/Pz8/Pz4+3t/fX/IB1ZKsYq8Uz6hk3QRFo9DLjUCW7CKieUIUs159TlM0Cr3cCGTJLiKaJ0Qx69XnNEVuEy83Almyi7LRPCGKWZc+Zylym3i5EciSXZSN5glRzK6uz25uk/Sr7fQqkO12NponRDHr0uc8tT9aO7oRyJJdlI3mCVHMuvQ5S9GfTQaDwaKyBoMBWbLNZ4fD4f39/df/PpvNhsPh6rKKvVI8o5J10xSNQi83Almyi4jmCVHMevU5TelXrMfj8e7ubr/fX19fX19f7/f7u7u74/GYLFmv7GQyOTg4ODo6Ojs7Ozs7Ozo6Ojg4mEwmq84q9krxjErWTYDbhCxZsrGyleA2IUuWbKxsJfwyDQAAoxAAgFEIAGCMQgAAYxQCABijEADAGIUAAIbbhCxZstGylZQ+bTIej09OTp4+ffrp645XV1fT6fT09HRnZyebHY1Gh4eHs9nsw4cPZraxsdHr9S4uLhJPXD9ItqRmr/1G63O0mrmTzaybouSpPUUXhKL7Ilqfo9XMnWxm3TRFo1DRBaHovojW52g1cyebWTdNkdtE0QWh6L6I1udoNXMnG1g3S5HbRNEFoei+iNbnaDVzJx9qXTe3iaILQtF9Ea3PJeuWZBXPV7Fml3Xz1P5oLeqCUHRfROtztJq5kw2sm6X+fxVubW1Np9PKj/339/fT6fT58+eJbLodq8uW1Oy132h9jlYzd7KBdfPUHqJzTReEovsiWp+j1cydbGbdNKVfsX79+vWrV682Nzf39vbM7PLy8u7u7vT0dHt7O5udTCaHh4fv3r37/DXLfr9/cXGR+Fv7g2RLavbab7Q+R6uZO9nMuglwm5AlSzZWthLcJmTJko2VrYRfpgEAYBQCADAKAQCMUQgAYIxCAABjFAIAGKMQAMBwm5AlSzZathJPt0k090W0Xil6MxRrVrxXXuumKHmAWdHJoOigUOyVojdDsWbFe+W1bho3t0k090W0Xil6MxRrVrxXXuumcXObRHNfROuVojdDsWbFe+WybhY3t0k090W0Xil6MxRrVrxXq1tX0m0SzX0RrVclWcX9yrk+RGuuvW6e2h+tRZ0Mig4KxV4pejMUa1a8Vy7rZnFzm0RzX0TrlaI3Q7FmxXvlsm6e2kN0rulkUHRQKPZK0ZuhWLPivfJaN42n2ySa+yJarxS9GYo1K94rr3UT4DYhS5ZsrGwluE3IkiUbK1sJv0wDAMAoBABgFAIAGKMQAMAYhQAAxigEADBGIQCA4TYhS5ZstGwlpU+bKHoz8EjgCVnFutTc/vNNUfIAs6I3A49EM+sq1hztfBVrbqnbRNGbgUeimXUVa452voo1t9RtoujNwCPRzLqKNUc7X8WaW+o2UfRm4JFoZl3FmqOdr2LNLXWbpF9tp4OiJItHYvl1S7KKvaLmL19t4bp5an+0FvVm4JFoZl3FmqOdr2LNLXWbKHoz8Eg0s65izdHOV7HmlrpNFL0ZeCSaWVex5mjnq1hze90mit4MPBJ4QlaxLjW3/3wT4DYhS5ZsrGwluE3IkiUbK1sJv0wDAMAoBABgFAIAGKMQAMAYhQAAxigEADBGIQCA4TYhS5ZstGwlqm4TL5+DoidEMat4vor3KlrNKUoeYFZ0Xyi6IKJlFc9X8V5FqzmNpNvEy+eg6AlRzCqer+K9ilZzGkm3iZfPQdETophVPF/FexWq5iySbhMvn4OiJ0Qxq3i+iveqezWHc5t4+RwUPSGKWcXzVbxXoWrOU/ujtaj7QtEFES2reL6K9ypUzVkk3SZePgdFT4hiVvF8Fe9VqJrz1B6ic033haILIlpW8XwV71W0mtOouk28fA6KnhDFrOL5Kt6raDUnwG1ClizZWNlKcJuQJUs2VrYSfpkGAIBRCADAKAQAMEYhAIAxCgEAjFEIAGCMQgAAw21ClizZaNlKSp82UXQjeHkVFNdV7LNirxT3q+iBSVHyALOiG8HLq6C4rmKfFXuluF9FD0yaolGo6Ebw8ioorqvYZ8VeKe5X0QOTpshtouhG8HJBKK6r2GfFXinuV84Dk6XIbaLoRvByQSiuq9hnxV4p7redHhg3t4miG6EkK+dzwG3yr7KLXjL2+6DrumTz1P5oLepG8HJBKK6r2GfFXinuV84Dk6XIbaLoRvByQSiuq9hnxV4p7lfOA5On9hCda7oRvLwKiusq9lmxV4r7VfTApCn9irWiG8HLq6C4rmKfFXuluF9FD0wC3CZkyZKNla0EtwlZsmRjZSvhl2kAABiFAACMQgAAYxQCABijEADAGIUAAMYoBAAw3CZkyZKNlq2k9GkTvBl4JFaxX8Usd6P99ypFyQPMeDOWzyrWrOgJUbxX0e6GV6/SFI1CvBnLZxVrVvSEKN6raHfDq1dpitwmeDOWzyrWrOgJUbxX0e6GS6+yFLlN8GYsn1WsWdETonivot2N1fXKzW2SfhWPxJfZRS9Zi2tW9IR4ZbkbzWQXvWS5XuWp/dEab8a/yirWrOgJUbxX0e6GS6+yFLlN8GYsn1WsWdETonivot0Nl17lqT1E53gz/k1WsWZFT4jivYp2N7x6lab0K9Z4M/BIrGK/ilnuRvvvVYIHc5uMx2Mz29nZqeEoIEuWLNnGspU8zCgEAJCGX6YBAGAUAgAwCgEAjFEIAGCMQgAAYxQCABijEADAGIUAAMYoBAAwRiEAgDEKAQCMUQgAYIxCAABjFAIAGKMQAMAYhQAAxigEADBGIQCAmf0PpjHHP97+a1kAAAAASUVORK5CYII='></img>"
             },
             "type": "node"
            }
           ],
           "instanceArgs": {
            "handlers": {
             "obs-output": [
              "function (value, scope) {\n    scope.setInnerHTML(value);\n}\n"
             ]
            },
            "id": "14969328247984892130",
            "imports": {
             "data": [],
             "type": "async_block"
            },
            "mount_callbacks": [],
            "observables": {
             "obs-output": {
              "id": "13925777674965588743",
              "sync": false,
              "value": "<img src='data:image/png;base64,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'></img>"
             }
            },
            "systemjs_options": null
           },
           "nodeType": "Scope",
           "props": {},
           "type": "node"
          },
          {
           "children": [
            {
             "children": [
              {
               "children": [],
               "instanceArgs": {
                "namespace": "html",
                "tag": "div"
               },
               "nodeType": "DOM",
               "props": {
                "id": "container"
               },
               "type": "node"
              }
             ],
             "instanceArgs": {
              "handlers": {
               "value": [
                "(function (txt){return this.k.render(txt,this.container)})"
               ]
              },
              "id": "8288430584105948763",
              "imports": {
               "data": [
                {
                 "name": null,
                 "type": "js",
                 "url": "/assetserver/dd22ed1bf1896c2748f3fe616ce0b838adc895c1-katex.min.js"
                },
                {
                 "name": null,
                 "type": "css",
                 "url": "/assetserver/46517a424aa5e6cffc1360d7e0848b601c584ee3-katex.min.css"
                }
               ],
               "type": "async_block"
              },
              "mount_callbacks": [
               "function () {\n    var handler = ((function (k){this.k=k; this.container=this.dom.querySelector(\"#container\"); return k.render(\"\\\\;\\\\;\",this.container)}));\n    (WebIO.importBlock({\"data\":[{\"name\":null,\"type\":\"js\",\"url\":\"/assetserver/dd22ed1bf1896c2748f3fe616ce0b838adc895c1-katex.min.js\"},{\"name\":null,\"type\":\"css\",\"url\":\"/assetserver/46517a424aa5e6cffc1360d7e0848b601c584ee3-katex.min.css\"}],\"type\":\"async_block\"})).then((imports) => handler.apply(this, imports));\n}\n"
              ],
              "observables": {
               "value": {
                "id": "13679390611816783310",
                "sync": false,
                "value": "\\;\\;"
               }
              },
              "systemjs_options": null
             },
             "nodeType": "Scope",
             "props": {},
             "type": "node"
            }
           ],
           "instanceArgs": {
            "namespace": "html",
            "tag": "div"
           },
           "nodeType": "DOM",
           "props": {
            "className": "interact-widget"
           },
           "type": "node"
          },
          {
           "children": [
            {
             "children": [
              {
               "children": [],
               "instanceArgs": {
                "namespace": "html",
                "tag": "div"
               },
               "nodeType": "DOM",
               "props": {
                "className": "webio-observable",
                "setInnerHtml": "<img src=\"data:image/png;base64,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\" />"
               },
               "type": "node"
              }
             ],
             "instanceArgs": {
              "handlers": {
               "obs-output": [
                "function (value, scope) {\n    scope.setInnerHTML(value);\n}\n"
               ]
              },
              "id": "8338346359214354985",
              "imports": {
               "data": [],
               "type": "async_block"
              },
              "mount_callbacks": [],
              "observables": {
               "obs-output": {
                "id": "13143268275732683461",
                "sync": false,
                "value": "<img src=\"data:image/png;base64,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\" />"
               }
              },
              "systemjs_options": null
             },
             "nodeType": "Scope",
             "props": {},
             "type": "node"
            }
           ],
           "instanceArgs": {
            "namespace": "html",
            "tag": "div"
           },
           "nodeType": "DOM",
           "props": {
            "style": {
             "display": "flex",
             "flex-direction": "column"
            }
           },
           "type": "node"
          }
         ],
         "instanceArgs": {
          "namespace": "html",
          "tag": "div"
         },
         "nodeType": "DOM",
         "props": {
          "style": {
           "display": "flex",
           "flex-direction": "row"
          }
         },
         "type": "node"
        }
       ],
       "instanceArgs": {
        "namespace": "html",
        "tag": "div"
       },
       "nodeType": "DOM",
       "props": {
        "style": {
         "display": "flex",
         "flex-direction": "column"
        }
       },
       "type": "node"
      },
      "text/html": [
       "<div\n",
       "    class=\"webio-mountpoint\"\n",
       "    data-webio-mountpoint=\"14022023170847917008\"\n",
       ">\n",
       "    <script>\n",
       "    (function(){\n",
       "    // Some integrations (namely, IJulia/Jupyter) use an alternate render pathway than\n",
       "    // just putting the html on the page. If WebIO isn't defined, then it's pretty likely\n",
       "    // that we're in one of those situations and the integration just isn't installed\n",
       "    // correctly.\n",
       "    if (typeof window.WebIO === \"undefined\") {\n",
       "        document\n",
       "            .querySelector('[data-webio-mountpoint=\"14022023170847917008\"]')\n",
       "            .innerHTML = (\n",
       "                '<div style=\"padding: 1em; background-color: #f8d6da; border: 1px solid #f5c6cb; font-weight: bold;\">' +\n",
       "                '<p><strong>WebIO not detected.</strong></p>' +\n",
       "                '<p>Please read ' +\n",
       "                '<a href=\"https://juliagizmos.github.io/WebIO.jl/latest/troubleshooting/not-detected/\" target=\"_blank\">the troubleshooting guide</a> ' +\n",
       "                'for more information on how to resolve this issue.</p>' +\n",
       "                '<p><a href=\"https://juliagizmos.github.io/WebIO.jl/latest/troubleshooting/not-detected/\" target=\"_blank\">https://juliagizmos.github.io/WebIO.jl/latest/troubleshooting/not-detected/</a></p>' +\n",
       "                '</div>'\n",
       "            );\n",
       "        return;\n",
       "    }\n",
       "    WebIO.mount(\n",
       "        document.querySelector('[data-webio-mountpoint=\"14022023170847917008\"]'),\n",
       "        {\"props\":{\"style\":{\"display\":\"flex\",\"flex-direction\":\"column\"}},\"nodeType\":\"DOM\",\"type\":\"node\",\"instanceArgs\":{\"namespace\":\"html\",\"tag\":\"div\"},\"children\":[{\"props\":{\"style\":{\"display\":\"flex\",\"flex-direction\":\"row\"}},\"nodeType\":\"DOM\",\"type\":\"node\",\"instanceArgs\":{\"namespace\":\"html\",\"tag\":\"div\"},\"children\":[{\"props\":{\"style\":{\"display\":\"flex\",\"flex-direction\":\"column\"}},\"nodeType\":\"DOM\",\"type\":\"node\",\"instanceArgs\":{\"namespace\":\"html\",\"tag\":\"div\"},\"children\":[{\"props\":{\"className\":\"field interact-widget\"},\"nodeType\":\"DOM\",\"type\":\"node\",\"instanceArgs\":{\"namespace\":\"html\",\"tag\":\"div\"},\"children\":[{\"props\":{},\"nodeType\":\"Scope\",\"type\":\"node\",\"instanceArgs\":{\"imports\":{\"data\":[{\"name\":\"knockout\",\"type\":\"js\",\"url\":\"\\/assetserver\\/727383f2a47bd31570b7da84eee7b022dd6d7c78-knockout.js\"},{\"name\":\"knockout_punches\",\"type\":\"js\",\"url\":\"\\/assetserver\\/382b41b3b1bd9f26f75861d360bad7f8beea211f-knockout_punches.js\"},{\"name\":null,\"type\":\"js\",\"url\":\"\\/assetserver\\/5ab20f1060420992a9b82a65b735dee4d81ef413-all.js\"},{\"name\":null,\"type\":\"css\",\"url\":\"\\/assetserver\\/1cc0ed62837210b80a182cc3676512f895dab686-style.css\"},{\"name\":null,\"type\":\"css\",\"url\":\"\\/assetserver\\/2eee816f616df3549d7044d45e744fbf8d42bfa1-bulma_confined.min.css\"}],\"type\":\"async_block\"},\"id\":\"8567185985702109492\",\"handlers\":{\"changes\":[\"(function (val){return (val!=this.model[\\\"changes\\\"]()) ? (this.valueFromJulia[\\\"changes\\\"]=true, this.model[\\\"changes\\\"](val)) : undefined})\"],\"index\":[\"(function (val){return (val!=this.model[\\\"index\\\"]()) ? (this.valueFromJulia[\\\"index\\\"]=true, this.model[\\\"index\\\"](val)) : undefined})\"]},\"systemjs_options\":null,\"mount_callbacks\":[\"function () {\\n    var handler = (function (ko, koPunches) {\\n    ko.punches.enableAll();\\n    ko.bindingHandlers.numericValue = {\\n        init: function(element, valueAccessor, allBindings, data, context) {\\n            var stringified = ko.observable(ko.unwrap(valueAccessor()));\\n            stringified.subscribe(function(value) {\\n                var val = parseFloat(value);\\n                if (!isNaN(val)) {\\n                    valueAccessor()(val);\\n                }\\n            });\\n            valueAccessor().subscribe(function(value) {\\n                var str = JSON.stringify(value);\\n                if ((str == \\\"0\\\") && ([\\\"-0\\\", \\\"-0.\\\"].indexOf(stringified()) >= 0))\\n                     return;\\n                 if ([\\\"null\\\", \\\"\\\"].indexOf(str) >= 0)\\n                     return;\\n                stringified(str);\\n            });\\n            ko.applyBindingsToNode(\\n                element,\\n                {\\n                    value: stringified,\\n                    valueUpdate: allBindings.get('valueUpdate'),\\n                },\\n                context,\\n            );\\n        }\\n    };\\n    var json_data = {\\\"formatted_vals\\\":[\\\"1\\\",\\\"2\\\",\\\"3\\\",\\\"4\\\",\\\"5\\\",\\\"6\\\",\\\"7\\\",\\\"8\\\",\\\"9\\\",\\\"10\\\",\\\"11\\\",\\\"12\\\",\\\"13\\\",\\\"14\\\",\\\"15\\\",\\\"16\\\",\\\"17\\\",\\\"18\\\",\\\"19\\\",\\\"20\\\",\\\"21\\\",\\\"22\\\",\\\"23\\\",\\\"24\\\",\\\"25\\\",\\\"26\\\",\\\"27\\\",\\\"28\\\",\\\"29\\\",\\\"30\\\",\\\"31\\\",\\\"32\\\",\\\"33\\\",\\\"34\\\",\\\"35\\\",\\\"36\\\",\\\"37\\\",\\\"38\\\",\\\"39\\\",\\\"40\\\",\\\"41\\\",\\\"42\\\",\\\"43\\\",\\\"44\\\",\\\"45\\\",\\\"46\\\",\\\"47\\\",\\\"48\\\",\\\"49\\\",\\\"50\\\",\\\"51\\\",\\\"52\\\",\\\"53\\\",\\\"54\\\",\\\"55\\\",\\\"56\\\",\\\"57\\\",\\\"58\\\",\\\"59\\\",\\\"60\\\",\\\"61\\\",\\\"62\\\",\\\"63\\\",\\\"64\\\",\\\"65\\\",\\\"66\\\",\\\"67\\\",\\\"68\\\",\\\"69\\\",\\\"70\\\",\\\"71\\\",\\\"72\\\",\\\"73\\\",\\\"74\\\",\\\"75\\\",\\\"76\\\",\\\"77\\\",\\\"78\\\",\\\"79\\\",\\\"80\\\",\\\"81\\\",\\\"82\\\",\\\"83\\\",\\\"84\\\",\\\"85\\\",\\\"86\\\",\\\"87\\\",\\\"88\\\",\\\"89\\\",\\\"90\\\",\\\"91\\\",\\\"92\\\",\\\"93\\\",\\\"94\\\",\\\"95\\\",\\\"96\\\",\\\"97\\\",\\\"98\\\",\\\"99\\\",\\\"100\\\",\\\"101\\\",\\\"102\\\",\\\"103\\\",\\\"104\\\",\\\"105\\\",\\\"106\\\",\\\"107\\\",\\\"108\\\",\\\"109\\\",\\\"110\\\",\\\"111\\\",\\\"112\\\",\\\"113\\\",\\\"114\\\",\\\"115\\\",\\\"116\\\",\\\"117\\\",\\\"118\\\",\\\"119\\\",\\\"120\\\",\\\"121\\\",\\\"122\\\",\\\"123\\\",\\\"124\\\",\\\"125\\\",\\\"126\\\",\\\"127\\\",\\\"128\\\",\\\"129\\\",\\\"130\\\",\\\"131\\\",\\\"132\\\",\\\"133\\\",\\\"134\\\",\\\"135\\\",\\\"136\\\",\\\"137\\\",\\\"138\\\",\\\"139\\\",\\\"140\\\",\\\"141\\\",\\\"142\\\",\\\"143\\\",\\\"144\\\",\\\"145\\\",\\\"146\\\",\\\"147\\\",\\\"148\\\",\\\"149\\\",\\\"150\\\",\\\"151\\\",\\\"152\\\",\\\"153\\\",\\\"154\\\",\\\"155\\\",\\\"156\\\",\\\"157\\\",\\\"158\\\",\\\"159\\\",\\\"160\\\",\\\"161\\\",\\\"162\\\",\\\"163\\\",\\\"164\\\",\\\"165\\\",\\\"166\\\",\\\"167\\\",\\\"168\\\",\\\"169\\\",\\\"170\\\",\\\"171\\\",\\\"172\\\",\\\"173\\\",\\\"174\\\",\\\"175\\\",\\\"176\\\",\\\"177\\\",\\\"178\\\",\\\"179\\\",\\\"180\\\",\\\"181\\\",\\\"182\\\",\\\"183\\\",\\\"184\\\",\\\"185\\\",\\\"186\\\",\\\"187\\\",\\\"188\\\",\\\"189\\\",\\\"190\\\",\\\"191\\\",\\\"192\\\",\\\"193\\\",\\\"194\\\",\\\"195\\\",\\\"196\\\",\\\"197\\\",\\\"198\\\",\\\"199\\\",\\\"200\\\"],\\\"changes\\\":WebIO.getval({\\\"name\\\":\\\"changes\\\",\\\"scope\\\":\\\"8567185985702109492\\\",\\\"id\\\":\\\"5942960545745639652\\\",\\\"type\\\":\\\"observable\\\"}),\\\"index\\\":WebIO.getval({\\\"name\\\":\\\"index\\\",\\\"scope\\\":\\\"8567185985702109492\\\",\\\"id\\\":\\\"15579424100690151790\\\",\\\"type\\\":\\\"observable\\\"})};\\n    var self = this;\\n    function AppViewModel() {\\n        for (var key in json_data) {\\n            var el = json_data[key];\\n            this[key] = Array.isArray(el) ? ko.observableArray(el) : ko.observable(el);\\n        }\\n        \\n        [this[\\\"formatted_val\\\"]=ko.computed(    function(){\\n        return this.formatted_vals()[parseInt(this.index())-(1)];\\n    }\\n,this)]\\n        [this[\\\"changes\\\"].subscribe((function (val){!(this.valueFromJulia[\\\"changes\\\"]) ? (WebIO.setval({\\\"name\\\":\\\"changes\\\",\\\"scope\\\":\\\"8567185985702109492\\\",\\\"id\\\":\\\"5942960545745639652\\\",\\\"type\\\":\\\"observable\\\"},val)) : undefined; return this.valueFromJulia[\\\"changes\\\"]=false}),self),this[\\\"index\\\"].subscribe((function (val){!(this.valueFromJulia[\\\"index\\\"]) ? (WebIO.setval({\\\"name\\\":\\\"index\\\",\\\"scope\\\":\\\"8567185985702109492\\\",\\\"id\\\":\\\"15579424100690151790\\\",\\\"type\\\":\\\"observable\\\"},val)) : undefined; return this.valueFromJulia[\\\"index\\\"]=false}),self)]\\n        \\n    }\\n    self.model = new AppViewModel();\\n    self.valueFromJulia = {};\\n    for (var key in json_data) {\\n        self.valueFromJulia[key] = false;\\n    }\\n    ko.applyBindings(self.model, self.dom);\\n}\\n);\\n    (WebIO.importBlock({\\\"data\\\":[{\\\"name\\\":\\\"knockout\\\",\\\"type\\\":\\\"js\\\",\\\"url\\\":\\\"\\/assetserver\\/727383f2a47bd31570b7da84eee7b022dd6d7c78-knockout.js\\\"},{\\\"name\\\":\\\"knockout_punches\\\",\\\"type\\\":\\\"js\\\",\\\"url\\\":\\\"\\/assetserver\\/382b41b3b1bd9f26f75861d360bad7f8beea211f-knockout_punches.js\\\"}],\\\"type\\\":\\\"async_block\\\"})).then((imports) => handler.apply(this, imports));\\n}\\n\"],\"observables\":{\"changes\":{\"sync\":false,\"id\":\"5942960545745639652\",\"value\":0},\"index\":{\"sync\":true,\"id\":\"15579424100690151790\",\"value\":1}}},\"children\":[{\"props\":{\"className\":\"interact-flex-row interact-widget\"},\"nodeType\":\"DOM\",\"type\":\"node\",\"instanceArgs\":{\"namespace\":\"html\",\"tag\":\"div\"},\"children\":[{\"props\":{\"className\":\"interact-flex-row-left\"},\"nodeType\":\"DOM\",\"type\":\"node\",\"instanceArgs\":{\"namespace\":\"html\",\"tag\":\"div\"},\"children\":[{\"props\":{\"className\":\"interact \",\"style\":{\"padding\":\"5px 10px 0px 10px\"}},\"nodeType\":\"DOM\",\"type\":\"node\",\"instanceArgs\":{\"namespace\":\"html\",\"tag\":\"label\"},\"children\":[\"time\"]}]},{\"props\":{\"className\":\"interact-flex-row-center\"},\"nodeType\":\"DOM\",\"type\":\"node\",\"instanceArgs\":{\"namespace\":\"html\",\"tag\":\"div\"},\"children\":[{\"props\":{\"max\":200,\"min\":1,\"attributes\":{\"type\":\"range\",\"data-bind\":\"numericValue: index, valueUpdate: 'input', event: {change: function (){this.changes(this.changes()+1)}}\",\"orient\":\"horizontal\"},\"step\":1,\"className\":\"slider slider is-fullwidth\",\"style\":{}},\"nodeType\":\"DOM\",\"type\":\"node\",\"instanceArgs\":{\"namespace\":\"html\",\"tag\":\"input\"},\"children\":[]}]},{\"props\":{\"className\":\"interact-flex-row-right\"},\"nodeType\":\"DOM\",\"type\":\"node\",\"instanceArgs\":{\"namespace\":\"html\",\"tag\":\"div\"},\"children\":[{\"props\":{\"attributes\":{\"data-bind\":\"text: formatted_val\"}},\"nodeType\":\"DOM\",\"type\":\"node\",\"instanceArgs\":{\"namespace\":\"html\",\"tag\":\"p\"},\"children\":[]}]}]}]}]},{\"props\":{\"className\":\"field interact-widget\"},\"nodeType\":\"DOM\",\"type\":\"node\",\"instanceArgs\":{\"namespace\":\"html\",\"tag\":\"div\"},\"children\":[{\"props\":{},\"nodeType\":\"Scope\",\"type\":\"node\",\"instanceArgs\":{\"imports\":{\"data\":[{\"name\":\"knockout\",\"type\":\"js\",\"url\":\"\\/assetserver\\/727383f2a47bd31570b7da84eee7b022dd6d7c78-knockout.js\"},{\"name\":\"knockout_punches\",\"type\":\"js\",\"url\":\"\\/assetserver\\/382b41b3b1bd9f26f75861d360bad7f8beea211f-knockout_punches.js\"},{\"name\":null,\"type\":\"js\",\"url\":\"\\/assetserver\\/5ab20f1060420992a9b82a65b735dee4d81ef413-all.js\"},{\"name\":null,\"type\":\"css\",\"url\":\"\\/assetserver\\/1cc0ed62837210b80a182cc3676512f895dab686-style.css\"},{\"name\":null,\"type\":\"css\",\"url\":\"\\/assetserver\\/2eee816f616df3549d7044d45e744fbf8d42bfa1-bulma_confined.min.css\"}],\"type\":\"async_block\"},\"id\":\"17883214586868324441\",\"handlers\":{\"changes\":[\"(function (val){return (val!=this.model[\\\"changes\\\"]()) ? (this.valueFromJulia[\\\"changes\\\"]=true, this.model[\\\"changes\\\"](val)) : undefined})\"],\"index\":[\"(function (val){return (val!=this.model[\\\"index\\\"]()) ? (this.valueFromJulia[\\\"index\\\"]=true, this.model[\\\"index\\\"](val)) : undefined})\"]},\"systemjs_options\":null,\"mount_callbacks\":[\"function () {\\n    var handler = (function (ko, koPunches) {\\n    ko.punches.enableAll();\\n    ko.bindingHandlers.numericValue = {\\n        init: function(element, valueAccessor, allBindings, data, context) {\\n            var stringified = ko.observable(ko.unwrap(valueAccessor()));\\n            stringified.subscribe(function(value) {\\n                var val = parseFloat(value);\\n                if (!isNaN(val)) {\\n                    valueAccessor()(val);\\n                }\\n            });\\n            valueAccessor().subscribe(function(value) {\\n                var str = JSON.stringify(value);\\n                if ((str == \\\"0\\\") && ([\\\"-0\\\", \\\"-0.\\\"].indexOf(stringified()) >= 0))\\n                     return;\\n                 if ([\\\"null\\\", \\\"\\\"].indexOf(str) >= 0)\\n                     return;\\n                stringified(str);\\n            });\\n            ko.applyBindingsToNode(\\n                element,\\n                {\\n                    value: stringified,\\n                    valueUpdate: allBindings.get('valueUpdate'),\\n                },\\n                context,\\n            );\\n        }\\n    };\\n    var json_data = {\\\"formatted_vals\\\":[\\\"0.1\\\",\\\"0.2\\\",\\\"0.3\\\",\\\"0.4\\\",\\\"0.5\\\",\\\"0.6\\\",\\\"0.7\\\",\\\"0.8\\\",\\\"0.9\\\",\\\"1.0\\\",\\\"1.1\\\",\\\"1.2\\\",\\\"1.3\\\",\\\"1.4\\\",\\\"1.5\\\",\\\"1.6\\\",\\\"1.7\\\",\\\"1.8\\\",\\\"1.9\\\",\\\"2.0\\\"],\\\"changes\\\":WebIO.getval({\\\"name\\\":\\\"changes\\\",\\\"scope\\\":\\\"17883214586868324441\\\",\\\"id\\\":\\\"2970476361700022429\\\",\\\"type\\\":\\\"observable\\\"}),\\\"index\\\":WebIO.getval({\\\"name\\\":\\\"index\\\",\\\"scope\\\":\\\"17883214586868324441\\\",\\\"id\\\":\\\"7174826315785490728\\\",\\\"type\\\":\\\"observable\\\"})};\\n    var self = this;\\n    function AppViewModel() {\\n        for (var key in json_data) {\\n            var el = json_data[key];\\n            this[key] = Array.isArray(el) ? ko.observableArray(el) : ko.observable(el);\\n        }\\n        \\n        [this[\\\"formatted_val\\\"]=ko.computed(    function(){\\n        return this.formatted_vals()[parseInt(this.index())-(1)];\\n    }\\n,this)]\\n        [this[\\\"changes\\\"].subscribe((function (val){!(this.valueFromJulia[\\\"changes\\\"]) ? (WebIO.setval({\\\"name\\\":\\\"changes\\\",\\\"scope\\\":\\\"17883214586868324441\\\",\\\"id\\\":\\\"2970476361700022429\\\",\\\"type\\\":\\\"observable\\\"},val)) : undefined; return this.valueFromJulia[\\\"changes\\\"]=false}),self),this[\\\"index\\\"].subscribe((function (val){!(this.valueFromJulia[\\\"index\\\"]) ? (WebIO.setval({\\\"name\\\":\\\"index\\\",\\\"scope\\\":\\\"17883214586868324441\\\",\\\"id\\\":\\\"7174826315785490728\\\",\\\"type\\\":\\\"observable\\\"},val)) : undefined; return this.valueFromJulia[\\\"index\\\"]=false}),self)]\\n        \\n    }\\n    self.model = new AppViewModel();\\n    self.valueFromJulia = {};\\n    for (var key in json_data) {\\n        self.valueFromJulia[key] = false;\\n    }\\n    ko.applyBindings(self.model, self.dom);\\n}\\n);\\n    (WebIO.importBlock({\\\"data\\\":[{\\\"name\\\":\\\"knockout\\\",\\\"type\\\":\\\"js\\\",\\\"url\\\":\\\"\\/assetserver\\/727383f2a47bd31570b7da84eee7b022dd6d7c78-knockout.js\\\"},{\\\"name\\\":\\\"knockout_punches\\\",\\\"type\\\":\\\"js\\\",\\\"url\\\":\\\"\\/assetserver\\/382b41b3b1bd9f26f75861d360bad7f8beea211f-knockout_punches.js\\\"}],\\\"type\\\":\\\"async_block\\\"})).then((imports) => handler.apply(this, imports));\\n}\\n\"],\"observables\":{\"changes\":{\"sync\":false,\"id\":\"2970476361700022429\",\"value\":0},\"index\":{\"sync\":true,\"id\":\"7174826315785490728\",\"value\":10}}},\"children\":[{\"props\":{\"className\":\"interact-flex-row interact-widget\"},\"nodeType\":\"DOM\",\"type\":\"node\",\"instanceArgs\":{\"namespace\":\"html\",\"tag\":\"div\"},\"children\":[{\"props\":{\"className\":\"interact-flex-row-left\"},\"nodeType\":\"DOM\",\"type\":\"node\",\"instanceArgs\":{\"namespace\":\"html\",\"tag\":\"div\"},\"children\":[{\"props\":{\"className\":\"interact \",\"style\":{\"padding\":\"5px 10px 0px 10px\"}},\"nodeType\":\"DOM\",\"type\":\"node\",\"instanceArgs\":{\"namespace\":\"html\",\"tag\":\"label\"},\"children\":[\"scale\"]}]},{\"props\":{\"className\":\"interact-flex-row-center\"},\"nodeType\":\"DOM\",\"type\":\"node\",\"instanceArgs\":{\"namespace\":\"html\",\"tag\":\"div\"},\"children\":[{\"props\":{\"max\":20,\"min\":1,\"attributes\":{\"type\":\"range\",\"data-bind\":\"numericValue: index, valueUpdate: 'input', event: {change: function (){this.changes(this.changes()+1)}}\",\"orient\":\"horizontal\"},\"step\":1,\"className\":\"slider slider is-fullwidth\",\"style\":{}},\"nodeType\":\"DOM\",\"type\":\"node\",\"instanceArgs\":{\"namespace\":\"html\",\"tag\":\"input\"},\"children\":[]}]},{\"props\":{\"className\":\"interact-flex-row-right\"},\"nodeType\":\"DOM\",\"type\":\"node\",\"instanceArgs\":{\"namespace\":\"html\",\"tag\":\"div\"},\"children\":[{\"props\":{\"attributes\":{\"data-bind\":\"text: formatted_val\"}},\"nodeType\":\"DOM\",\"type\":\"node\",\"instanceArgs\":{\"namespace\":\"html\",\"tag\":\"p\"},\"children\":[]}]}]}]}]},{\"props\":{\"style\":{\"display\":\"flex\",\"flex-direction\":\"column\"}},\"nodeType\":\"DOM\",\"type\":\"node\",\"instanceArgs\":{\"namespace\":\"html\",\"tag\":\"div\"},\"children\":[]},{\"props\":{\"style\":{\"display\":\"flex\",\"flex-direction\":\"column\"}},\"nodeType\":\"DOM\",\"type\":\"node\",\"instanceArgs\":{\"namespace\":\"html\",\"tag\":\"div\"},\"children\":[{\"props\":{\"className\":\"field interact-widget\"},\"nodeType\":\"DOM\",\"type\":\"node\",\"instanceArgs\":{\"namespace\":\"html\",\"tag\":\"div\"},\"children\":[{\"props\":{},\"nodeType\":\"Scope\",\"type\":\"node\",\"instanceArgs\":{\"imports\":{\"data\":[{\"name\":\"knockout\",\"type\":\"js\",\"url\":\"\\/assetserver\\/727383f2a47bd31570b7da84eee7b022dd6d7c78-knockout.js\"},{\"name\":\"knockout_punches\",\"type\":\"js\",\"url\":\"\\/assetserver\\/382b41b3b1bd9f26f75861d360bad7f8beea211f-knockout_punches.js\"},{\"name\":null,\"type\":\"js\",\"url\":\"\\/assetserver\\/5ab20f1060420992a9b82a65b735dee4d81ef413-all.js\"},{\"name\":null,\"type\":\"css\",\"url\":\"\\/assetserver\\/1cc0ed62837210b80a182cc3676512f895dab686-style.css\"},{\"name\":null,\"type\":\"css\",\"url\":\"\\/assetserver\\/2eee816f616df3549d7044d45e744fbf8d42bfa1-bulma_confined.min.css\"}],\"type\":\"async_block\"},\"id\":\"8873285691531566127\",\"handlers\":{\"changes\":[\"(function (val){return (val!=this.model[\\\"changes\\\"]()) ? (this.valueFromJulia[\\\"changes\\\"]=true, this.model[\\\"changes\\\"](val)) : undefined})\"],\"index\":[\"(function (val){return (val!=this.model[\\\"index\\\"]()) ? (this.valueFromJulia[\\\"index\\\"]=true, this.model[\\\"index\\\"](val)) : undefined})\"]},\"systemjs_options\":null,\"mount_callbacks\":[\"function () {\\n    var handler = (function (ko, koPunches) {\\n    ko.punches.enableAll();\\n    ko.bindingHandlers.numericValue = {\\n        init: function(element, valueAccessor, allBindings, data, context) {\\n            var stringified = ko.observable(ko.unwrap(valueAccessor()));\\n            stringified.subscribe(function(value) {\\n                var val = parseFloat(value);\\n                if (!isNaN(val)) {\\n                    valueAccessor()(val);\\n                }\\n            });\\n            valueAccessor().subscribe(function(value) {\\n                var str = JSON.stringify(value);\\n                if ((str == \\\"0\\\") && ([\\\"-0\\\", \\\"-0.\\\"].indexOf(stringified()) >= 0))\\n                     return;\\n                 if ([\\\"null\\\", \\\"\\\"].indexOf(str) >= 0)\\n                     return;\\n                stringified(str);\\n            });\\n            ko.applyBindingsToNode(\\n                element,\\n                {\\n                    value: stringified,\\n                    valueUpdate: allBindings.get('valueUpdate'),\\n                },\\n                context,\\n            );\\n        }\\n    };\\n    var json_data = {\\\"formatted_vals\\\":[\\\"0.05\\\",\\\"0.1\\\",\\\"0.15\\\",\\\"0.2\\\",\\\"0.25\\\",\\\"0.3\\\",\\\"0.35\\\",\\\"0.4\\\",\\\"0.45\\\",\\\"0.5\\\",\\\"0.55\\\",\\\"0.6\\\",\\\"0.65\\\",\\\"0.7\\\",\\\"0.75\\\",\\\"0.8\\\",\\\"0.85\\\",\\\"0.9\\\",\\\"0.95\\\",\\\"1.0\\\",\\\"1.05\\\",\\\"1.1\\\",\\\"1.15\\\",\\\"1.2\\\",\\\"1.25\\\",\\\"1.3\\\",\\\"1.35\\\",\\\"1.4\\\",\\\"1.45\\\",\\\"1.5\\\",\\\"1.55\\\",\\\"1.6\\\",\\\"1.65\\\",\\\"1.7\\\",\\\"1.75\\\",\\\"1.8\\\",\\\"1.85\\\",\\\"1.9\\\",\\\"1.95\\\",\\\"2.0\\\",\\\"2.05\\\",\\\"2.1\\\",\\\"2.15\\\",\\\"2.2\\\",\\\"2.25\\\",\\\"2.3\\\",\\\"2.35\\\",\\\"2.4\\\",\\\"2.45\\\",\\\"2.5\\\",\\\"2.55\\\",\\\"2.6\\\",\\\"2.65\\\",\\\"2.7\\\",\\\"2.75\\\",\\\"2.8\\\",\\\"2.85\\\",\\\"2.9\\\",\\\"2.95\\\",\\\"3.0\\\",\\\"3.05\\\",\\\"3.1\\\",\\\"3.15\\\",\\\"3.2\\\",\\\"3.25\\\",\\\"3.3\\\",\\\"3.35\\\",\\\"3.4\\\",\\\"3.45\\\",\\\"3.5\\\",\\\"3.55\\\",\\\"3.6\\\",\\\"3.65\\\",\\\"3.7\\\",\\\"3.75\\\",\\\"3.8\\\",\\\"3.85\\\",\\\"3.9\\\",\\\"3.95\\\",\\\"4.0\\\",\\\"4.05\\\",\\\"4.1\\\",\\\"4.15\\\",\\\"4.2\\\",\\\"4.25\\\",\\\"4.3\\\",\\\"4.35\\\",\\\"4.4\\\",\\\"4.45\\\",\\\"4.5\\\",\\\"4.55\\\",\\\"4.6\\\",\\\"4.65\\\",\\\"4.7\\\",\\\"4.75\\\",\\\"4.8\\\",\\\"4.85\\\",\\\"4.9\\\",\\\"4.95\\\",\\\"5.0\\\"],\\\"changes\\\":WebIO.getval({\\\"name\\\":\\\"changes\\\",\\\"scope\\\":\\\"8873285691531566127\\\",\\\"id\\\":\\\"6412786812315248832\\\",\\\"type\\\":\\\"observable\\\"}),\\\"index\\\":WebIO.getval({\\\"name\\\":\\\"index\\\",\\\"scope\\\":\\\"8873285691531566127\\\",\\\"id\\\":\\\"13624321683463944570\\\",\\\"type\\\":\\\"observable\\\"})};\\n    var self = this;\\n    function AppViewModel() {\\n        for (var key in json_data) {\\n            var el = json_data[key];\\n            this[key] = Array.isArray(el) ? ko.observableArray(el) : ko.observable(el);\\n        }\\n        \\n        [this[\\\"formatted_val\\\"]=ko.computed(    function(){\\n        return this.formatted_vals()[parseInt(this.index())-(1)];\\n    }\\n,this)]\\n        [this[\\\"changes\\\"].subscribe((function (val){!(this.valueFromJulia[\\\"changes\\\"]) ? (WebIO.setval({\\\"name\\\":\\\"changes\\\",\\\"scope\\\":\\\"8873285691531566127\\\",\\\"id\\\":\\\"6412786812315248832\\\",\\\"type\\\":\\\"observable\\\"},val)) : undefined; return this.valueFromJulia[\\\"changes\\\"]=false}),self),this[\\\"index\\\"].subscribe((function (val){!(this.valueFromJulia[\\\"index\\\"]) ? (WebIO.setval({\\\"name\\\":\\\"index\\\",\\\"scope\\\":\\\"8873285691531566127\\\",\\\"id\\\":\\\"13624321683463944570\\\",\\\"type\\\":\\\"observable\\\"},val)) : undefined; return this.valueFromJulia[\\\"index\\\"]=false}),self)]\\n        \\n    }\\n    self.model = new AppViewModel();\\n    self.valueFromJulia = {};\\n    for (var key in json_data) {\\n        self.valueFromJulia[key] = false;\\n    }\\n    ko.applyBindings(self.model, self.dom);\\n}\\n);\\n    (WebIO.importBlock({\\\"data\\\":[{\\\"name\\\":\\\"knockout\\\",\\\"type\\\":\\\"js\\\",\\\"url\\\":\\\"\\/assetserver\\/727383f2a47bd31570b7da84eee7b022dd6d7c78-knockout.js\\\"},{\\\"name\\\":\\\"knockout_punches\\\",\\\"type\\\":\\\"js\\\",\\\"url\\\":\\\"\\/assetserver\\/382b41b3b1bd9f26f75861d360bad7f8beea211f-knockout_punches.js\\\"}],\\\"type\\\":\\\"async_block\\\"})).then((imports) => handler.apply(this, imports));\\n}\\n\"],\"observables\":{\"changes\":{\"sync\":false,\"id\":\"6412786812315248832\",\"value\":0},\"index\":{\"sync\":true,\"id\":\"13624321683463944570\",\"value\":50}}},\"children\":[{\"props\":{\"className\":\"interact-flex-row interact-widget\"},\"nodeType\":\"DOM\",\"type\":\"node\",\"instanceArgs\":{\"namespace\":\"html\",\"tag\":\"div\"},\"children\":[{\"props\":{\"className\":\"interact-flex-row-left\"},\"nodeType\":\"DOM\",\"type\":\"node\",\"instanceArgs\":{\"namespace\":\"html\",\"tag\":\"div\"},\"children\":[{\"props\":{\"className\":\"interact \",\"style\":{\"padding\":\"5px 10px 0px 10px\"}},\"nodeType\":\"DOM\",\"type\":\"node\",\"instanceArgs\":{\"namespace\":\"html\",\"tag\":\"label\"},\"children\":[\"temp\"]}]},{\"props\":{\"className\":\"interact-flex-row-center\"},\"nodeType\":\"DOM\",\"type\":\"node\",\"instanceArgs\":{\"namespace\":\"html\",\"tag\":\"div\"},\"children\":[{\"props\":{\"max\":100,\"min\":1,\"attributes\":{\"type\":\"range\",\"data-bind\":\"numericValue: index, valueUpdate: 'input', event: {change: function (){this.changes(this.changes()+1)}}\",\"orient\":\"horizontal\"},\"step\":1,\"className\":\"slider slider is-fullwidth\",\"style\":{}},\"nodeType\":\"DOM\",\"type\":\"node\",\"instanceArgs\":{\"namespace\":\"html\",\"tag\":\"input\"},\"children\":[]}]},{\"props\":{\"className\":\"interact-flex-row-right\"},\"nodeType\":\"DOM\",\"type\":\"node\",\"instanceArgs\":{\"namespace\":\"html\",\"tag\":\"div\"},\"children\":[{\"props\":{\"attributes\":{\"data-bind\":\"text: formatted_val\"}},\"nodeType\":\"DOM\",\"type\":\"node\",\"instanceArgs\":{\"namespace\":\"html\",\"tag\":\"p\"},\"children\":[]}]}]}]}]},{\"props\":{\"className\":\"field interact-widget\"},\"nodeType\":\"DOM\",\"type\":\"node\",\"instanceArgs\":{\"namespace\":\"html\",\"tag\":\"div\"},\"children\":[{\"props\":{},\"nodeType\":\"Scope\",\"type\":\"node\",\"instanceArgs\":{\"imports\":{\"data\":[{\"name\":\"knockout\",\"type\":\"js\",\"url\":\"\\/assetserver\\/727383f2a47bd31570b7da84eee7b022dd6d7c78-knockout.js\"},{\"name\":\"knockout_punches\",\"type\":\"js\",\"url\":\"\\/assetserver\\/382b41b3b1bd9f26f75861d360bad7f8beea211f-knockout_punches.js\"},{\"name\":null,\"type\":\"js\",\"url\":\"\\/assetserver\\/5ab20f1060420992a9b82a65b735dee4d81ef413-all.js\"},{\"name\":null,\"type\":\"css\",\"url\":\"\\/assetserver\\/1cc0ed62837210b80a182cc3676512f895dab686-style.css\"},{\"name\":null,\"type\":\"css\",\"url\":\"\\/assetserver\\/2eee816f616df3549d7044d45e744fbf8d42bfa1-bulma_confined.min.css\"}],\"type\":\"async_block\"},\"id\":\"4918596182114590024\",\"handlers\":{\"changes\":[\"(function (val){return (val!=this.model[\\\"changes\\\"]()) ? (this.valueFromJulia[\\\"changes\\\"]=true, this.model[\\\"changes\\\"](val)) : undefined})\"],\"index\":[\"(function (val){return (val!=this.model[\\\"index\\\"]()) ? (this.valueFromJulia[\\\"index\\\"]=true, this.model[\\\"index\\\"](val)) : undefined})\"]},\"systemjs_options\":null,\"mount_callbacks\":[\"function () {\\n    var handler = (function (ko, koPunches) {\\n    ko.punches.enableAll();\\n    ko.bindingHandlers.numericValue = {\\n        init: function(element, valueAccessor, allBindings, data, context) {\\n            var stringified = ko.observable(ko.unwrap(valueAccessor()));\\n            stringified.subscribe(function(value) {\\n                var val = parseFloat(value);\\n                if (!isNaN(val)) {\\n                    valueAccessor()(val);\\n                }\\n            });\\n            valueAccessor().subscribe(function(value) {\\n                var str = JSON.stringify(value);\\n                if ((str == \\\"0\\\") && ([\\\"-0\\\", \\\"-0.\\\"].indexOf(stringified()) >= 0))\\n                     return;\\n                 if ([\\\"null\\\", \\\"\\\"].indexOf(str) >= 0)\\n                     return;\\n                stringified(str);\\n            });\\n            ko.applyBindingsToNode(\\n                element,\\n                {\\n                    value: stringified,\\n                    valueUpdate: allBindings.get('valueUpdate'),\\n                },\\n                context,\\n            );\\n        }\\n    };\\n    var json_data = {\\\"formatted_vals\\\":[\\\"0.01\\\",\\\"0.11\\\",\\\"0.21\\\",\\\"0.31\\\",\\\"0.41\\\",\\\"0.51\\\",\\\"0.61\\\",\\\"0.71\\\",\\\"0.81\\\",\\\"0.91\\\",\\\"1.01\\\",\\\"1.11\\\",\\\"1.21\\\",\\\"1.31\\\",\\\"1.41\\\",\\\"1.51\\\",\\\"1.61\\\",\\\"1.71\\\",\\\"1.81\\\",\\\"1.91\\\",\\\"2.01\\\",\\\"2.11\\\",\\\"2.21\\\",\\\"2.31\\\",\\\"2.41\\\",\\\"2.51\\\",\\\"2.61\\\",\\\"2.71\\\",\\\"2.81\\\",\\\"2.91\\\",\\\"3.01\\\",\\\"3.11\\\",\\\"3.21\\\",\\\"3.31\\\",\\\"3.41\\\",\\\"3.51\\\",\\\"3.61\\\",\\\"3.71\\\",\\\"3.81\\\",\\\"3.91\\\",\\\"4.01\\\",\\\"4.11\\\",\\\"4.21\\\",\\\"4.31\\\",\\\"4.41\\\",\\\"4.51\\\",\\\"4.61\\\",\\\"4.71\\\",\\\"4.81\\\",\\\"4.91\\\"],\\\"changes\\\":WebIO.getval({\\\"name\\\":\\\"changes\\\",\\\"scope\\\":\\\"4918596182114590024\\\",\\\"id\\\":\\\"7712723074532254681\\\",\\\"type\\\":\\\"observable\\\"}),\\\"index\\\":WebIO.getval({\\\"name\\\":\\\"index\\\",\\\"scope\\\":\\\"4918596182114590024\\\",\\\"id\\\":\\\"18202252027035696758\\\",\\\"type\\\":\\\"observable\\\"})};\\n    var self = this;\\n    function AppViewModel() {\\n        for (var key in json_data) {\\n            var el = json_data[key];\\n            this[key] = Array.isArray(el) ? ko.observableArray(el) : ko.observable(el);\\n        }\\n        \\n        [this[\\\"formatted_val\\\"]=ko.computed(    function(){\\n        return this.formatted_vals()[parseInt(this.index())-(1)];\\n    }\\n,this)]\\n        [this[\\\"changes\\\"].subscribe((function (val){!(this.valueFromJulia[\\\"changes\\\"]) ? (WebIO.setval({\\\"name\\\":\\\"changes\\\",\\\"scope\\\":\\\"4918596182114590024\\\",\\\"id\\\":\\\"7712723074532254681\\\",\\\"type\\\":\\\"observable\\\"},val)) : undefined; return this.valueFromJulia[\\\"changes\\\"]=false}),self),this[\\\"index\\\"].subscribe((function (val){!(this.valueFromJulia[\\\"index\\\"]) ? (WebIO.setval({\\\"name\\\":\\\"index\\\",\\\"scope\\\":\\\"4918596182114590024\\\",\\\"id\\\":\\\"18202252027035696758\\\",\\\"type\\\":\\\"observable\\\"},val)) : undefined; return this.valueFromJulia[\\\"index\\\"]=false}),self)]\\n        \\n    }\\n    self.model = new AppViewModel();\\n    self.valueFromJulia = {};\\n    for (var key in json_data) {\\n        self.valueFromJulia[key] = false;\\n    }\\n    ko.applyBindings(self.model, self.dom);\\n}\\n);\\n    (WebIO.importBlock({\\\"data\\\":[{\\\"name\\\":\\\"knockout\\\",\\\"type\\\":\\\"js\\\",\\\"url\\\":\\\"\\/assetserver\\/727383f2a47bd31570b7da84eee7b022dd6d7c78-knockout.js\\\"},{\\\"name\\\":\\\"knockout_punches\\\",\\\"type\\\":\\\"js\\\",\\\"url\\\":\\\"\\/assetserver\\/382b41b3b1bd9f26f75861d360bad7f8beea211f-knockout_punches.js\\\"}],\\\"type\\\":\\\"async_block\\\"})).then((imports) => handler.apply(this, imports));\\n}\\n\"],\"observables\":{\"changes\":{\"sync\":false,\"id\":\"7712723074532254681\",\"value\":0},\"index\":{\"sync\":true,\"id\":\"18202252027035696758\",\"value\":25}}},\"children\":[{\"props\":{\"className\":\"interact-flex-row interact-widget\"},\"nodeType\":\"DOM\",\"type\":\"node\",\"instanceArgs\":{\"namespace\":\"html\",\"tag\":\"div\"},\"children\":[{\"props\":{\"className\":\"interact-flex-row-left\"},\"nodeType\":\"DOM\",\"type\":\"node\",\"instanceArgs\":{\"namespace\":\"html\",\"tag\":\"div\"},\"children\":[{\"props\":{\"className\":\"interact \",\"style\":{\"padding\":\"5px 10px 0px 10px\"}},\"nodeType\":\"DOM\",\"type\":\"node\",\"instanceArgs\":{\"namespace\":\"html\",\"tag\":\"label\"},\"children\":[\"coupl\"]}]},{\"props\":{\"className\":\"interact-flex-row-center\"},\"nodeType\":\"DOM\",\"type\":\"node\",\"instanceArgs\":{\"namespace\":\"html\",\"tag\":\"div\"},\"children\":[{\"props\":{\"max\":50,\"min\":1,\"attributes\":{\"type\":\"range\",\"data-bind\":\"numericValue: index, valueUpdate: 'input', event: {change: function (){this.changes(this.changes()+1)}}\",\"orient\":\"horizontal\"},\"step\":1,\"className\":\"slider slider is-fullwidth\",\"style\":{}},\"nodeType\":\"DOM\",\"type\":\"node\",\"instanceArgs\":{\"namespace\":\"html\",\"tag\":\"input\"},\"children\":[]}]},{\"props\":{\"className\":\"interact-flex-row-right\"},\"nodeType\":\"DOM\",\"type\":\"node\",\"instanceArgs\":{\"namespace\":\"html\",\"tag\":\"div\"},\"children\":[{\"props\":{\"attributes\":{\"data-bind\":\"text: formatted_val\"}},\"nodeType\":\"DOM\",\"type\":\"node\",\"instanceArgs\":{\"namespace\":\"html\",\"tag\":\"p\"},\"children\":[]}]}]}]}]}]},{\"props\":{\"style\":{\"display\":\"flex\",\"flex-direction\":\"row\"}},\"nodeType\":\"DOM\",\"type\":\"node\",\"instanceArgs\":{\"namespace\":\"html\",\"tag\":\"div\"},\"children\":[{\"props\":{\"className\":\"interact-widget\"},\"nodeType\":\"DOM\",\"type\":\"node\",\"instanceArgs\":{\"namespace\":\"html\",\"tag\":\"div\"},\"children\":[{\"props\":{},\"nodeType\":\"Scope\",\"type\":\"node\",\"instanceArgs\":{\"imports\":{\"data\":[{\"name\":null,\"type\":\"js\",\"url\":\"\\/assetserver\\/dd22ed1bf1896c2748f3fe616ce0b838adc895c1-katex.min.js\"},{\"name\":null,\"type\":\"css\",\"url\":\"\\/assetserver\\/46517a424aa5e6cffc1360d7e0848b601c584ee3-katex.min.css\"}],\"type\":\"async_block\"},\"id\":\"8288430584105948763\",\"handlers\":{\"value\":[\"(function (txt){return this.k.render(txt,this.container)})\"]},\"systemjs_options\":null,\"mount_callbacks\":[\"function () {\\n    var handler = ((function (k){this.k=k; this.container=this.dom.querySelector(\\\"#container\\\"); return k.render(\\\"\\\\\\\\;\\\\\\\\;\\\",this.container)}));\\n    (WebIO.importBlock({\\\"data\\\":[{\\\"name\\\":null,\\\"type\\\":\\\"js\\\",\\\"url\\\":\\\"\\/assetserver\\/dd22ed1bf1896c2748f3fe616ce0b838adc895c1-katex.min.js\\\"},{\\\"name\\\":null,\\\"type\\\":\\\"css\\\",\\\"url\\\":\\\"\\/assetserver\\/46517a424aa5e6cffc1360d7e0848b601c584ee3-katex.min.css\\\"}],\\\"type\\\":\\\"async_block\\\"})).then((imports) => handler.apply(this, imports));\\n}\\n\"],\"observables\":{\"value\":{\"sync\":false,\"id\":\"13679390611816783310\",\"value\":\"\\\\;\\\\;\"}}},\"children\":[{\"props\":{\"id\":\"container\"},\"nodeType\":\"DOM\",\"type\":\"node\",\"instanceArgs\":{\"namespace\":\"html\",\"tag\":\"div\"},\"children\":[]}]}]},{\"props\":{\"className\":\"field interact-widget\"},\"nodeType\":\"DOM\",\"type\":\"node\",\"instanceArgs\":{\"namespace\":\"html\",\"tag\":\"div\"},\"children\":[{\"props\":{},\"nodeType\":\"Scope\",\"type\":\"node\",\"instanceArgs\":{\"imports\":{\"data\":[{\"name\":\"knockout\",\"type\":\"js\",\"url\":\"\\/assetserver\\/727383f2a47bd31570b7da84eee7b022dd6d7c78-knockout.js\"},{\"name\":\"knockout_punches\",\"type\":\"js\",\"url\":\"\\/assetserver\\/382b41b3b1bd9f26f75861d360bad7f8beea211f-knockout_punches.js\"},{\"name\":null,\"type\":\"js\",\"url\":\"\\/assetserver\\/5ab20f1060420992a9b82a65b735dee4d81ef413-all.js\"},{\"name\":null,\"type\":\"css\",\"url\":\"\\/assetserver\\/1cc0ed62837210b80a182cc3676512f895dab686-style.css\"},{\"name\":null,\"type\":\"css\",\"url\":\"\\/assetserver\\/2eee816f616df3549d7044d45e744fbf8d42bfa1-bulma_confined.min.css\"}],\"type\":\"async_block\"},\"id\":\"5482497086654881697\",\"handlers\":{\"loading\":[\"(function (val){return (val!=this.model[\\\"loading\\\"]()) ? (this.valueFromJulia[\\\"loading\\\"]=true, this.model[\\\"loading\\\"](val)) : undefined})\"],\"clicks\":[\"(function (val){return (val!=this.model[\\\"clicks\\\"]()) ? (this.valueFromJulia[\\\"clicks\\\"]=true, this.model[\\\"clicks\\\"](val)) : undefined})\"]},\"systemjs_options\":null,\"mount_callbacks\":[\"function () {\\n    var handler = (function (ko, koPunches) {\\n    ko.punches.enableAll();\\n    ko.bindingHandlers.numericValue = {\\n        init: function(element, valueAccessor, allBindings, data, context) {\\n            var stringified = ko.observable(ko.unwrap(valueAccessor()));\\n            stringified.subscribe(function(value) {\\n                var val = parseFloat(value);\\n                if (!isNaN(val)) {\\n                    valueAccessor()(val);\\n                }\\n            });\\n            valueAccessor().subscribe(function(value) {\\n                var str = JSON.stringify(value);\\n                if ((str == \\\"0\\\") && ([\\\"-0\\\", \\\"-0.\\\"].indexOf(stringified()) >= 0))\\n                     return;\\n                 if ([\\\"null\\\", \\\"\\\"].indexOf(str) >= 0)\\n                     return;\\n                stringified(str);\\n            });\\n            ko.applyBindingsToNode(\\n                element,\\n                {\\n                    value: stringified,\\n                    valueUpdate: allBindings.get('valueUpdate'),\\n                },\\n                context,\\n            );\\n        }\\n    };\\n    var json_data = {\\\"loading\\\":WebIO.getval({\\\"name\\\":\\\"loading\\\",\\\"scope\\\":\\\"5482497086654881697\\\",\\\"id\\\":\\\"9069552012627715328\\\",\\\"type\\\":\\\"observable\\\"}),\\\"clicks\\\":WebIO.getval({\\\"name\\\":\\\"clicks\\\",\\\"scope\\\":\\\"5482497086654881697\\\",\\\"id\\\":\\\"15799650595447424239\\\",\\\"type\\\":\\\"observable\\\"})};\\n    var self = this;\\n    function AppViewModel() {\\n        for (var key in json_data) {\\n            var el = json_data[key];\\n            this[key] = Array.isArray(el) ? ko.observableArray(el) : ko.observable(el);\\n        }\\n        \\n        \\n        [this[\\\"loading\\\"].subscribe((function (val){!(this.valueFromJulia[\\\"loading\\\"]) ? (WebIO.setval({\\\"name\\\":\\\"loading\\\",\\\"scope\\\":\\\"5482497086654881697\\\",\\\"id\\\":\\\"9069552012627715328\\\",\\\"type\\\":\\\"observable\\\"},val)) : undefined; return this.valueFromJulia[\\\"loading\\\"]=false}),self),this[\\\"clicks\\\"].subscribe((function (val){!(this.valueFromJulia[\\\"clicks\\\"]) ? (WebIO.setval({\\\"name\\\":\\\"clicks\\\",\\\"scope\\\":\\\"5482497086654881697\\\",\\\"id\\\":\\\"15799650595447424239\\\",\\\"type\\\":\\\"observable\\\"},val)) : undefined; return this.valueFromJulia[\\\"clicks\\\"]=false}),self)]\\n        \\n    }\\n    self.model = new AppViewModel();\\n    self.valueFromJulia = {};\\n    for (var key in json_data) {\\n        self.valueFromJulia[key] = false;\\n    }\\n    ko.applyBindings(self.model, self.dom);\\n}\\n);\\n    (WebIO.importBlock({\\\"data\\\":[{\\\"name\\\":\\\"knockout\\\",\\\"type\\\":\\\"js\\\",\\\"url\\\":\\\"\\/assetserver\\/727383f2a47bd31570b7da84eee7b022dd6d7c78-knockout.js\\\"},{\\\"name\\\":\\\"knockout_punches\\\",\\\"type\\\":\\\"js\\\",\\\"url\\\":\\\"\\/assetserver\\/382b41b3b1bd9f26f75861d360bad7f8beea211f-knockout_punches.js\\\"}],\\\"type\\\":\\\"async_block\\\"})).then((imports) => handler.apply(this, imports));\\n}\\n\"],\"observables\":{\"loading\":{\"sync\":false,\"id\":\"9069552012627715328\",\"value\":false},\"clicks\":{\"sync\":true,\"id\":\"15799650595447424239\",\"value\":0}}},\"children\":[{\"props\":{\"attributes\":{\"data-bind\":\"click: function (){this.clicks(this.clicks()+1)}, css: {'is-loading' : loading}\"},\"className\":\"is-medium button is-primary\",\"style\":{}},\"nodeType\":\"DOM\",\"type\":\"node\",\"instanceArgs\":{\"namespace\":\"html\",\"tag\":\"button\"},\"children\":[\"run\"]}]}]},{\"props\":{\"className\":\"interact-widget\"},\"nodeType\":\"DOM\",\"type\":\"node\",\"instanceArgs\":{\"namespace\":\"html\",\"tag\":\"div\"},\"children\":[{\"props\":{},\"nodeType\":\"Scope\",\"type\":\"node\",\"instanceArgs\":{\"imports\":{\"data\":[{\"name\":null,\"type\":\"js\",\"url\":\"\\/assetserver\\/dd22ed1bf1896c2748f3fe616ce0b838adc895c1-katex.min.js\"},{\"name\":null,\"type\":\"css\",\"url\":\"\\/assetserver\\/46517a424aa5e6cffc1360d7e0848b601c584ee3-katex.min.css\"}],\"type\":\"async_block\"},\"id\":\"8288430584105948763\",\"handlers\":{\"value\":[\"(function (txt){return this.k.render(txt,this.container)})\"]},\"systemjs_options\":null,\"mount_callbacks\":[\"function () {\\n    var handler = ((function (k){this.k=k; this.container=this.dom.querySelector(\\\"#container\\\"); return k.render(\\\"\\\\\\\\;\\\\\\\\;\\\",this.container)}));\\n    (WebIO.importBlock({\\\"data\\\":[{\\\"name\\\":null,\\\"type\\\":\\\"js\\\",\\\"url\\\":\\\"\\/assetserver\\/dd22ed1bf1896c2748f3fe616ce0b838adc895c1-katex.min.js\\\"},{\\\"name\\\":null,\\\"type\\\":\\\"css\\\",\\\"url\\\":\\\"\\/assetserver\\/46517a424aa5e6cffc1360d7e0848b601c584ee3-katex.min.css\\\"}],\\\"type\\\":\\\"async_block\\\"})).then((imports) => handler.apply(this, imports));\\n}\\n\"],\"observables\":{\"value\":{\"sync\":false,\"id\":\"13679390611816783310\",\"value\":\"\\\\;\\\\;\"}}},\"children\":[{\"props\":{\"id\":\"container\"},\"nodeType\":\"DOM\",\"type\":\"node\",\"instanceArgs\":{\"namespace\":\"html\",\"tag\":\"div\"},\"children\":[]}]}]},{\"props\":{\"className\":\"field interact-widget\"},\"nodeType\":\"DOM\",\"type\":\"node\",\"instanceArgs\":{\"namespace\":\"html\",\"tag\":\"div\"},\"children\":[{\"props\":{},\"nodeType\":\"Scope\",\"type\":\"node\",\"instanceArgs\":{\"imports\":{\"data\":[{\"name\":\"knockout\",\"type\":\"js\",\"url\":\"\\/assetserver\\/727383f2a47bd31570b7da84eee7b022dd6d7c78-knockout.js\"},{\"name\":\"knockout_punches\",\"type\":\"js\",\"url\":\"\\/assetserver\\/382b41b3b1bd9f26f75861d360bad7f8beea211f-knockout_punches.js\"},{\"name\":null,\"type\":\"js\",\"url\":\"\\/assetserver\\/5ab20f1060420992a9b82a65b735dee4d81ef413-all.js\"},{\"name\":null,\"type\":\"css\",\"url\":\"\\/assetserver\\/1cc0ed62837210b80a182cc3676512f895dab686-style.css\"},{\"name\":null,\"type\":\"css\",\"url\":\"\\/assetserver\\/2eee816f616df3549d7044d45e744fbf8d42bfa1-bulma_confined.min.css\"}],\"type\":\"async_block\"},\"id\":\"3233851987678498642\",\"handlers\":{\"loading\":[\"(function (val){return (val!=this.model[\\\"loading\\\"]()) ? (this.valueFromJulia[\\\"loading\\\"]=true, this.model[\\\"loading\\\"](val)) : undefined})\"],\"clicks\":[\"(function (val){return (val!=this.model[\\\"clicks\\\"]()) ? (this.valueFromJulia[\\\"clicks\\\"]=true, this.model[\\\"clicks\\\"](val)) : undefined})\"]},\"systemjs_options\":null,\"mount_callbacks\":[\"function () {\\n    var handler = (function (ko, koPunches) {\\n    ko.punches.enableAll();\\n    ko.bindingHandlers.numericValue = {\\n        init: function(element, valueAccessor, allBindings, data, context) {\\n            var stringified = ko.observable(ko.unwrap(valueAccessor()));\\n            stringified.subscribe(function(value) {\\n                var val = parseFloat(value);\\n                if (!isNaN(val)) {\\n                    valueAccessor()(val);\\n                }\\n            });\\n            valueAccessor().subscribe(function(value) {\\n                var str = JSON.stringify(value);\\n                if ((str == \\\"0\\\") && ([\\\"-0\\\", \\\"-0.\\\"].indexOf(stringified()) >= 0))\\n                     return;\\n                 if ([\\\"null\\\", \\\"\\\"].indexOf(str) >= 0)\\n                     return;\\n                stringified(str);\\n            });\\n            ko.applyBindingsToNode(\\n                element,\\n                {\\n                    value: stringified,\\n                    valueUpdate: allBindings.get('valueUpdate'),\\n                },\\n                context,\\n            );\\n        }\\n    };\\n    var json_data = {\\\"loading\\\":WebIO.getval({\\\"name\\\":\\\"loading\\\",\\\"scope\\\":\\\"3233851987678498642\\\",\\\"id\\\":\\\"13613344929617067878\\\",\\\"type\\\":\\\"observable\\\"}),\\\"clicks\\\":WebIO.getval({\\\"name\\\":\\\"clicks\\\",\\\"scope\\\":\\\"3233851987678498642\\\",\\\"id\\\":\\\"1715375733406185207\\\",\\\"type\\\":\\\"observable\\\"})};\\n    var self = this;\\n    function AppViewModel() {\\n        for (var key in json_data) {\\n            var el = json_data[key];\\n            this[key] = Array.isArray(el) ? ko.observableArray(el) : ko.observable(el);\\n        }\\n        \\n        \\n        [this[\\\"loading\\\"].subscribe((function (val){!(this.valueFromJulia[\\\"loading\\\"]) ? (WebIO.setval({\\\"name\\\":\\\"loading\\\",\\\"scope\\\":\\\"3233851987678498642\\\",\\\"id\\\":\\\"13613344929617067878\\\",\\\"type\\\":\\\"observable\\\"},val)) : undefined; return this.valueFromJulia[\\\"loading\\\"]=false}),self),this[\\\"clicks\\\"].subscribe((function (val){!(this.valueFromJulia[\\\"clicks\\\"]) ? (WebIO.setval({\\\"name\\\":\\\"clicks\\\",\\\"scope\\\":\\\"3233851987678498642\\\",\\\"id\\\":\\\"1715375733406185207\\\",\\\"type\\\":\\\"observable\\\"},val)) : undefined; return this.valueFromJulia[\\\"clicks\\\"]=false}),self)]\\n        \\n    }\\n    self.model = new AppViewModel();\\n    self.valueFromJulia = {};\\n    for (var key in json_data) {\\n        self.valueFromJulia[key] = false;\\n    }\\n    ko.applyBindings(self.model, self.dom);\\n}\\n);\\n    (WebIO.importBlock({\\\"data\\\":[{\\\"name\\\":\\\"knockout\\\",\\\"type\\\":\\\"js\\\",\\\"url\\\":\\\"\\/assetserver\\/727383f2a47bd31570b7da84eee7b022dd6d7c78-knockout.js\\\"},{\\\"name\\\":\\\"knockout_punches\\\",\\\"type\\\":\\\"js\\\",\\\"url\\\":\\\"\\/assetserver\\/382b41b3b1bd9f26f75861d360bad7f8beea211f-knockout_punches.js\\\"}],\\\"type\\\":\\\"async_block\\\"})).then((imports) => handler.apply(this, imports));\\n}\\n\"],\"observables\":{\"loading\":{\"sync\":false,\"id\":\"13613344929617067878\",\"value\":false},\"clicks\":{\"sync\":true,\"id\":\"1715375733406185207\",\"value\":0}}},\"children\":[{\"props\":{\"attributes\":{\"data-bind\":\"click: function (){this.clicks(this.clicks()+1)}, css: {'is-loading' : loading}\"},\"className\":\"is-medium button is-primary\",\"style\":{}},\"nodeType\":\"DOM\",\"type\":\"node\",\"instanceArgs\":{\"namespace\":\"html\",\"tag\":\"button\"},\"children\":[\"stop\"]}]}]},{\"props\":{\"className\":\"interact-widget\"},\"nodeType\":\"DOM\",\"type\":\"node\",\"instanceArgs\":{\"namespace\":\"html\",\"tag\":\"div\"},\"children\":[{\"props\":{},\"nodeType\":\"Scope\",\"type\":\"node\",\"instanceArgs\":{\"imports\":{\"data\":[{\"name\":null,\"type\":\"js\",\"url\":\"\\/assetserver\\/dd22ed1bf1896c2748f3fe616ce0b838adc895c1-katex.min.js\"},{\"name\":null,\"type\":\"css\",\"url\":\"\\/assetserver\\/46517a424aa5e6cffc1360d7e0848b601c584ee3-katex.min.css\"}],\"type\":\"async_block\"},\"id\":\"8288430584105948763\",\"handlers\":{\"value\":[\"(function (txt){return this.k.render(txt,this.container)})\"]},\"systemjs_options\":null,\"mount_callbacks\":[\"function () {\\n    var handler = ((function (k){this.k=k; this.container=this.dom.querySelector(\\\"#container\\\"); return k.render(\\\"\\\\\\\\;\\\\\\\\;\\\",this.container)}));\\n    (WebIO.importBlock({\\\"data\\\":[{\\\"name\\\":null,\\\"type\\\":\\\"js\\\",\\\"url\\\":\\\"\\/assetserver\\/dd22ed1bf1896c2748f3fe616ce0b838adc895c1-katex.min.js\\\"},{\\\"name\\\":null,\\\"type\\\":\\\"css\\\",\\\"url\\\":\\\"\\/assetserver\\/46517a424aa5e6cffc1360d7e0848b601c584ee3-katex.min.css\\\"}],\\\"type\\\":\\\"async_block\\\"})).then((imports) => handler.apply(this, imports));\\n}\\n\"],\"observables\":{\"value\":{\"sync\":false,\"id\":\"13679390611816783310\",\"value\":\"\\\\;\\\\;\"}}},\"children\":[{\"props\":{\"id\":\"container\"},\"nodeType\":\"DOM\",\"type\":\"node\",\"instanceArgs\":{\"namespace\":\"html\",\"tag\":\"div\"},\"children\":[]}]}]},{\"props\":{\"className\":\"field interact-widget\"},\"nodeType\":\"DOM\",\"type\":\"node\",\"instanceArgs\":{\"namespace\":\"html\",\"tag\":\"div\"},\"children\":[{\"props\":{},\"nodeType\":\"Scope\",\"type\":\"node\",\"instanceArgs\":{\"imports\":{\"data\":[{\"name\":\"knockout\",\"type\":\"js\",\"url\":\"\\/assetserver\\/727383f2a47bd31570b7da84eee7b022dd6d7c78-knockout.js\"},{\"name\":\"knockout_punches\",\"type\":\"js\",\"url\":\"\\/assetserver\\/382b41b3b1bd9f26f75861d360bad7f8beea211f-knockout_punches.js\"},{\"name\":null,\"type\":\"js\",\"url\":\"\\/assetserver\\/5ab20f1060420992a9b82a65b735dee4d81ef413-all.js\"},{\"name\":null,\"type\":\"css\",\"url\":\"\\/assetserver\\/1cc0ed62837210b80a182cc3676512f895dab686-style.css\"},{\"name\":null,\"type\":\"css\",\"url\":\"\\/assetserver\\/2eee816f616df3549d7044d45e744fbf8d42bfa1-bulma_confined.min.css\"}],\"type\":\"async_block\"},\"id\":\"18369322647127059050\",\"handlers\":{\"loading\":[\"(function (val){return (val!=this.model[\\\"loading\\\"]()) ? (this.valueFromJulia[\\\"loading\\\"]=true, this.model[\\\"loading\\\"](val)) : undefined})\"],\"clicks\":[\"(function (val){return (val!=this.model[\\\"clicks\\\"]()) ? (this.valueFromJulia[\\\"clicks\\\"]=true, this.model[\\\"clicks\\\"](val)) : undefined})\"]},\"systemjs_options\":null,\"mount_callbacks\":[\"function () {\\n    var handler = (function (ko, koPunches) {\\n    ko.punches.enableAll();\\n    ko.bindingHandlers.numericValue = {\\n        init: function(element, valueAccessor, allBindings, data, context) {\\n            var stringified = ko.observable(ko.unwrap(valueAccessor()));\\n            stringified.subscribe(function(value) {\\n                var val = parseFloat(value);\\n                if (!isNaN(val)) {\\n                    valueAccessor()(val);\\n                }\\n            });\\n            valueAccessor().subscribe(function(value) {\\n                var str = JSON.stringify(value);\\n                if ((str == \\\"0\\\") && ([\\\"-0\\\", \\\"-0.\\\"].indexOf(stringified()) >= 0))\\n                     return;\\n                 if ([\\\"null\\\", \\\"\\\"].indexOf(str) >= 0)\\n                     return;\\n                stringified(str);\\n            });\\n            ko.applyBindingsToNode(\\n                element,\\n                {\\n                    value: stringified,\\n                    valueUpdate: allBindings.get('valueUpdate'),\\n                },\\n                context,\\n            );\\n        }\\n    };\\n    var json_data = {\\\"loading\\\":WebIO.getval({\\\"name\\\":\\\"loading\\\",\\\"scope\\\":\\\"18369322647127059050\\\",\\\"id\\\":\\\"6352984047737957437\\\",\\\"type\\\":\\\"observable\\\"}),\\\"clicks\\\":WebIO.getval({\\\"name\\\":\\\"clicks\\\",\\\"scope\\\":\\\"18369322647127059050\\\",\\\"id\\\":\\\"5783986007702415992\\\",\\\"type\\\":\\\"observable\\\"})};\\n    var self = this;\\n    function AppViewModel() {\\n        for (var key in json_data) {\\n            var el = json_data[key];\\n            this[key] = Array.isArray(el) ? ko.observableArray(el) : ko.observable(el);\\n        }\\n        \\n        \\n        [this[\\\"loading\\\"].subscribe((function (val){!(this.valueFromJulia[\\\"loading\\\"]) ? (WebIO.setval({\\\"name\\\":\\\"loading\\\",\\\"scope\\\":\\\"18369322647127059050\\\",\\\"id\\\":\\\"6352984047737957437\\\",\\\"type\\\":\\\"observable\\\"},val)) : undefined; return this.valueFromJulia[\\\"loading\\\"]=false}),self),this[\\\"clicks\\\"].subscribe((function (val){!(this.valueFromJulia[\\\"clicks\\\"]) ? (WebIO.setval({\\\"name\\\":\\\"clicks\\\",\\\"scope\\\":\\\"18369322647127059050\\\",\\\"id\\\":\\\"5783986007702415992\\\",\\\"type\\\":\\\"observable\\\"},val)) : undefined; return this.valueFromJulia[\\\"clicks\\\"]=false}),self)]\\n        \\n    }\\n    self.model = new AppViewModel();\\n    self.valueFromJulia = {};\\n    for (var key in json_data) {\\n        self.valueFromJulia[key] = false;\\n    }\\n    ko.applyBindings(self.model, self.dom);\\n}\\n);\\n    (WebIO.importBlock({\\\"data\\\":[{\\\"name\\\":\\\"knockout\\\",\\\"type\\\":\\\"js\\\",\\\"url\\\":\\\"\\/assetserver\\/727383f2a47bd31570b7da84eee7b022dd6d7c78-knockout.js\\\"},{\\\"name\\\":\\\"knockout_punches\\\",\\\"type\\\":\\\"js\\\",\\\"url\\\":\\\"\\/assetserver\\/382b41b3b1bd9f26f75861d360bad7f8beea211f-knockout_punches.js\\\"}],\\\"type\\\":\\\"async_block\\\"})).then((imports) => handler.apply(this, imports));\\n}\\n\"],\"observables\":{\"loading\":{\"sync\":false,\"id\":\"6352984047737957437\",\"value\":false},\"clicks\":{\"sync\":true,\"id\":\"5783986007702415992\",\"value\":0}}},\"children\":[{\"props\":{\"attributes\":{\"data-bind\":\"click: function (){this.clicks(this.clicks()+1)}, css: {'is-loading' : loading}\"},\"className\":\"is-medium button is-primary\",\"style\":{}},\"nodeType\":\"DOM\",\"type\":\"node\",\"instanceArgs\":{\"namespace\":\"html\",\"tag\":\"button\"},\"children\":[\"reset\"]}]}]},{\"props\":{\"className\":\"interact-widget\"},\"nodeType\":\"DOM\",\"type\":\"node\",\"instanceArgs\":{\"namespace\":\"html\",\"tag\":\"div\"},\"children\":[{\"props\":{},\"nodeType\":\"Scope\",\"type\":\"node\",\"instanceArgs\":{\"imports\":{\"data\":[{\"name\":null,\"type\":\"js\",\"url\":\"\\/assetserver\\/dd22ed1bf1896c2748f3fe616ce0b838adc895c1-katex.min.js\"},{\"name\":null,\"type\":\"css\",\"url\":\"\\/assetserver\\/46517a424aa5e6cffc1360d7e0848b601c584ee3-katex.min.css\"}],\"type\":\"async_block\"},\"id\":\"8288430584105948763\",\"handlers\":{\"value\":[\"(function (txt){return this.k.render(txt,this.container)})\"]},\"systemjs_options\":null,\"mount_callbacks\":[\"function () {\\n    var handler = ((function (k){this.k=k; this.container=this.dom.querySelector(\\\"#container\\\"); return k.render(\\\"\\\\\\\\;\\\\\\\\;\\\",this.container)}));\\n    (WebIO.importBlock({\\\"data\\\":[{\\\"name\\\":null,\\\"type\\\":\\\"js\\\",\\\"url\\\":\\\"\\/assetserver\\/dd22ed1bf1896c2748f3fe616ce0b838adc895c1-katex.min.js\\\"},{\\\"name\\\":null,\\\"type\\\":\\\"css\\\",\\\"url\\\":\\\"\\/assetserver\\/46517a424aa5e6cffc1360d7e0848b601c584ee3-katex.min.css\\\"}],\\\"type\\\":\\\"async_block\\\"})).then((imports) => handler.apply(this, imports));\\n}\\n\"],\"observables\":{\"value\":{\"sync\":false,\"id\":\"13679390611816783310\",\"value\":\"\\\\;\\\\;\"}}},\"children\":[{\"props\":{\"id\":\"container\"},\"nodeType\":\"DOM\",\"type\":\"node\",\"instanceArgs\":{\"namespace\":\"html\",\"tag\":\"div\"},\"children\":[]}]}]},{\"props\":{\"className\":\"field interact-widget\"},\"nodeType\":\"DOM\",\"type\":\"node\",\"instanceArgs\":{\"namespace\":\"html\",\"tag\":\"div\"},\"children\":[{\"props\":{},\"nodeType\":\"Scope\",\"type\":\"node\",\"instanceArgs\":{\"imports\":{\"data\":[{\"name\":\"knockout\",\"type\":\"js\",\"url\":\"\\/assetserver\\/727383f2a47bd31570b7da84eee7b022dd6d7c78-knockout.js\"},{\"name\":\"knockout_punches\",\"type\":\"js\",\"url\":\"\\/assetserver\\/382b41b3b1bd9f26f75861d360bad7f8beea211f-knockout_punches.js\"},{\"name\":null,\"type\":\"js\",\"url\":\"\\/assetserver\\/5ab20f1060420992a9b82a65b735dee4d81ef413-all.js\"},{\"name\":null,\"type\":\"css\",\"url\":\"\\/assetserver\\/1cc0ed62837210b80a182cc3676512f895dab686-style.css\"},{\"name\":null,\"type\":\"css\",\"url\":\"\\/assetserver\\/2eee816f616df3549d7044d45e744fbf8d42bfa1-bulma_confined.min.css\"}],\"type\":\"async_block\"},\"id\":\"3958704727991174570\",\"handlers\":{\"loading\":[\"(function (val){return (val!=this.model[\\\"loading\\\"]()) ? (this.valueFromJulia[\\\"loading\\\"]=true, this.model[\\\"loading\\\"](val)) : undefined})\"],\"clicks\":[\"(function (val){return (val!=this.model[\\\"clicks\\\"]()) ? (this.valueFromJulia[\\\"clicks\\\"]=true, this.model[\\\"clicks\\\"](val)) : undefined})\"]},\"systemjs_options\":null,\"mount_callbacks\":[\"function () {\\n    var handler = (function (ko, koPunches) {\\n    ko.punches.enableAll();\\n    ko.bindingHandlers.numericValue = {\\n        init: function(element, valueAccessor, allBindings, data, context) {\\n            var stringified = ko.observable(ko.unwrap(valueAccessor()));\\n            stringified.subscribe(function(value) {\\n                var val = parseFloat(value);\\n                if (!isNaN(val)) {\\n                    valueAccessor()(val);\\n                }\\n            });\\n            valueAccessor().subscribe(function(value) {\\n                var str = JSON.stringify(value);\\n                if ((str == \\\"0\\\") && ([\\\"-0\\\", \\\"-0.\\\"].indexOf(stringified()) >= 0))\\n                     return;\\n                 if ([\\\"null\\\", \\\"\\\"].indexOf(str) >= 0)\\n                     return;\\n                stringified(str);\\n            });\\n            ko.applyBindingsToNode(\\n                element,\\n                {\\n                    value: stringified,\\n                    valueUpdate: allBindings.get('valueUpdate'),\\n                },\\n                context,\\n            );\\n        }\\n    };\\n    var json_data = {\\\"loading\\\":WebIO.getval({\\\"name\\\":\\\"loading\\\",\\\"scope\\\":\\\"3958704727991174570\\\",\\\"id\\\":\\\"10870143112304208397\\\",\\\"type\\\":\\\"observable\\\"}),\\\"clicks\\\":WebIO.getval({\\\"name\\\":\\\"clicks\\\",\\\"scope\\\":\\\"3958704727991174570\\\",\\\"id\\\":\\\"2301168657495648770\\\",\\\"type\\\":\\\"observable\\\"})};\\n    var self = this;\\n    function AppViewModel() {\\n        for (var key in json_data) {\\n            var el = json_data[key];\\n            this[key] = Array.isArray(el) ? ko.observableArray(el) : ko.observable(el);\\n        }\\n        \\n        \\n        [this[\\\"loading\\\"].subscribe((function (val){!(this.valueFromJulia[\\\"loading\\\"]) ? (WebIO.setval({\\\"name\\\":\\\"loading\\\",\\\"scope\\\":\\\"3958704727991174570\\\",\\\"id\\\":\\\"10870143112304208397\\\",\\\"type\\\":\\\"observable\\\"},val)) : undefined; return this.valueFromJulia[\\\"loading\\\"]=false}),self),this[\\\"clicks\\\"].subscribe((function (val){!(this.valueFromJulia[\\\"clicks\\\"]) ? (WebIO.setval({\\\"name\\\":\\\"clicks\\\",\\\"scope\\\":\\\"3958704727991174570\\\",\\\"id\\\":\\\"2301168657495648770\\\",\\\"type\\\":\\\"observable\\\"},val)) : undefined; return this.valueFromJulia[\\\"clicks\\\"]=false}),self)]\\n        \\n    }\\n    self.model = new AppViewModel();\\n    self.valueFromJulia = {};\\n    for (var key in json_data) {\\n        self.valueFromJulia[key] = false;\\n    }\\n    ko.applyBindings(self.model, self.dom);\\n}\\n);\\n    (WebIO.importBlock({\\\"data\\\":[{\\\"name\\\":\\\"knockout\\\",\\\"type\\\":\\\"js\\\",\\\"url\\\":\\\"\\/assetserver\\/727383f2a47bd31570b7da84eee7b022dd6d7c78-knockout.js\\\"},{\\\"name\\\":\\\"knockout_punches\\\",\\\"type\\\":\\\"js\\\",\\\"url\\\":\\\"\\/assetserver\\/382b41b3b1bd9f26f75861d360bad7f8beea211f-knockout_punches.js\\\"}],\\\"type\\\":\\\"async_block\\\"})).then((imports) => handler.apply(this, imports));\\n}\\n\"],\"observables\":{\"loading\":{\"sync\":false,\"id\":\"10870143112304208397\",\"value\":false},\"clicks\":{\"sync\":true,\"id\":\"2301168657495648770\",\"value\":0}}},\"children\":[{\"props\":{\"attributes\":{\"data-bind\":\"click: function (){this.clicks(this.clicks()+1)}, css: {'is-loading' : loading}\"},\"className\":\"is-medium button is-primary\",\"style\":{}},\"nodeType\":\"DOM\",\"type\":\"node\",\"instanceArgs\":{\"namespace\":\"html\",\"tag\":\"button\"},\"children\":[\"save\"]}]}]}]}]},{\"props\":{\"className\":\"interact-widget\"},\"nodeType\":\"DOM\",\"type\":\"node\",\"instanceArgs\":{\"namespace\":\"html\",\"tag\":\"div\"},\"children\":[{\"props\":{},\"nodeType\":\"Scope\",\"type\":\"node\",\"instanceArgs\":{\"imports\":{\"data\":[{\"name\":null,\"type\":\"js\",\"url\":\"\\/assetserver\\/dd22ed1bf1896c2748f3fe616ce0b838adc895c1-katex.min.js\"},{\"name\":null,\"type\":\"css\",\"url\":\"\\/assetserver\\/46517a424aa5e6cffc1360d7e0848b601c584ee3-katex.min.css\"}],\"type\":\"async_block\"},\"id\":\"8288430584105948763\",\"handlers\":{\"value\":[\"(function (txt){return this.k.render(txt,this.container)})\"]},\"systemjs_options\":null,\"mount_callbacks\":[\"function () {\\n    var handler = ((function (k){this.k=k; this.container=this.dom.querySelector(\\\"#container\\\"); return k.render(\\\"\\\\\\\\;\\\\\\\\;\\\",this.container)}));\\n    (WebIO.importBlock({\\\"data\\\":[{\\\"name\\\":null,\\\"type\\\":\\\"js\\\",\\\"url\\\":\\\"\\/assetserver\\/dd22ed1bf1896c2748f3fe616ce0b838adc895c1-katex.min.js\\\"},{\\\"name\\\":null,\\\"type\\\":\\\"css\\\",\\\"url\\\":\\\"\\/assetserver\\/46517a424aa5e6cffc1360d7e0848b601c584ee3-katex.min.css\\\"}],\\\"type\\\":\\\"async_block\\\"})).then((imports) => handler.apply(this, imports));\\n}\\n\"],\"observables\":{\"value\":{\"sync\":false,\"id\":\"13679390611816783310\",\"value\":\"\\\\;\\\\;\"}}},\"children\":[{\"props\":{\"id\":\"container\"},\"nodeType\":\"DOM\",\"type\":\"node\",\"instanceArgs\":{\"namespace\":\"html\",\"tag\":\"div\"},\"children\":[]}]}]},{\"props\":{},\"nodeType\":\"Scope\",\"type\":\"node\",\"instanceArgs\":{\"imports\":{\"data\":[],\"type\":\"async_block\"},\"id\":\"6370727161685736857\",\"handlers\":{\"obs-output\":[\"function (value, scope) {\\n    scope.setInnerHTML(value);\\n}\\n\"]},\"systemjs_options\":null,\"mount_callbacks\":[],\"observables\":{\"obs-output\":{\"sync\":false,\"id\":\"8957061800797143452\",\"value\":\"<img src='data:image\\/png;base64,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'><\\/img>\"}}},\"children\":[{\"props\":{\"className\":\"webio-observable\",\"setInnerHtml\":\"<img src='data:image\\/png;base64,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'><\\/img>\"},\"nodeType\":\"DOM\",\"type\":\"node\",\"instanceArgs\":{\"namespace\":\"html\",\"tag\":\"div\"},\"children\":[]}]},{\"props\":{\"className\":\"interact-widget\"},\"nodeType\":\"DOM\",\"type\":\"node\",\"instanceArgs\":{\"namespace\":\"html\",\"tag\":\"div\"},\"children\":[{\"props\":{},\"nodeType\":\"Scope\",\"type\":\"node\",\"instanceArgs\":{\"imports\":{\"data\":[{\"name\":null,\"type\":\"js\",\"url\":\"\\/assetserver\\/dd22ed1bf1896c2748f3fe616ce0b838adc895c1-katex.min.js\"},{\"name\":null,\"type\":\"css\",\"url\":\"\\/assetserver\\/46517a424aa5e6cffc1360d7e0848b601c584ee3-katex.min.css\"}],\"type\":\"async_block\"},\"id\":\"8288430584105948763\",\"handlers\":{\"value\":[\"(function (txt){return this.k.render(txt,this.container)})\"]},\"systemjs_options\":null,\"mount_callbacks\":[\"function () {\\n    var handler = ((function (k){this.k=k; this.container=this.dom.querySelector(\\\"#container\\\"); return k.render(\\\"\\\\\\\\;\\\\\\\\;\\\",this.container)}));\\n    (WebIO.importBlock({\\\"data\\\":[{\\\"name\\\":null,\\\"type\\\":\\\"js\\\",\\\"url\\\":\\\"\\/assetserver\\/dd22ed1bf1896c2748f3fe616ce0b838adc895c1-katex.min.js\\\"},{\\\"name\\\":null,\\\"type\\\":\\\"css\\\",\\\"url\\\":\\\"\\/assetserver\\/46517a424aa5e6cffc1360d7e0848b601c584ee3-katex.min.css\\\"}],\\\"type\\\":\\\"async_block\\\"})).then((imports) => handler.apply(this, imports));\\n}\\n\"],\"observables\":{\"value\":{\"sync\":false,\"id\":\"13679390611816783310\",\"value\":\"\\\\;\\\\;\"}}},\"children\":[{\"props\":{\"id\":\"container\"},\"nodeType\":\"DOM\",\"type\":\"node\",\"instanceArgs\":{\"namespace\":\"html\",\"tag\":\"div\"},\"children\":[]}]}]},{\"props\":{\"style\":{\"display\":\"flex\",\"flex-direction\":\"column\"}},\"nodeType\":\"DOM\",\"type\":\"node\",\"instanceArgs\":{\"namespace\":\"html\",\"tag\":\"div\"},\"children\":[{\"props\":{},\"nodeType\":\"Scope\",\"type\":\"node\",\"instanceArgs\":{\"imports\":{\"data\":[],\"type\":\"async_block\"},\"id\":\"4966858776817027332\",\"handlers\":{\"obs-output\":[\"function (value, scope) {\\n    scope.setInnerHTML(value);\\n}\\n\"]},\"systemjs_options\":null,\"mount_callbacks\":[],\"observables\":{\"obs-output\":{\"sync\":false,\"id\":\"4617324854930468118\",\"value\":\"<img src=\\\"data:image\\/png;base64,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\\\" \\/>\"}}},\"children\":[{\"props\":{\"className\":\"webio-observable\",\"setInnerHtml\":\"<img src=\\\"data:image\\/png;base64,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\\\" \\/>\"},\"nodeType\":\"DOM\",\"type\":\"node\",\"instanceArgs\":{\"namespace\":\"html\",\"tag\":\"div\"},\"children\":[]}]}]}]}]},\n",
       "        window,\n",
       "    );\n",
       "    })()\n",
       "    </script>\n",
       "</div>\n"
      ],
      "text/plain": [
       "WebIO.Node{WebIO.DOM}(WebIO.DOM(:html, :div), Any[WebIO.Node{WebIO.DOM}(WebIO.DOM(:html, :div), Any[WebIO.Node{WebIO.DOM}(WebIO.DOM(:html, :div), Any[WebIO.Node{WebIO.DOM}(WebIO.DOM(:html, :div), Any[WebIO.Scope(WebIO.Node{WebIO.DOM}(WebIO.DOM(:html, :div), Any[WebIO.Node{WebIO.DOM}(WebIO.DOM(:html, :div), Any[WebIO.Node{WebIO.DOM}(WebIO.DOM(:html, :label), Any[\"time\"], Dict{Symbol, Any}(:className => \"interact \", :style => Dict{Any, Any}(:padding => \"5px 10px 0px 10px\")))], Dict{Symbol, Any}(:className => \"interact-flex-row-left\")), WebIO.Node{WebIO.DOM}(WebIO.DOM(:html, :div), Any[WebIO.Node{WebIO.DOM}(WebIO.DOM(:html, :input), Any[], Dict{Symbol, Any}(:max => 200, :min => 1, :attributes => Dict{Any, Any}(:type => \"range\", Symbol(\"data-bind\") => \"numericValue: index, valueUpdate: 'input', event: {change: function (){this.changes(this.changes()+1)}}\", \"orient\" => \"horizontal\"), :step => 1, :className => \"slider slider is-fullwidth\", :style => Dict{Any, Any}()))], Dict{Symbol, Any}(:className => \"interact-flex-row-center\")), WebIO.Node{WebIO.DOM}(WebIO.DOM(:html, :div), Any[WebIO.Node{WebIO.DOM}(WebIO.DOM(:html, :p), Any[], Dict{Symbol, Any}(:attributes => Dict(\"data-bind\" => \"text: formatted_val\")))], Dict{Symbol, Any}(:className => \"interact-flex-row-right\"))], Dict{Symbol, Any}(:className => \"interact-flex-row interact-widget\")), Dict{String, Tuple{Observables.AbstractObservable, Union{Nothing, Bool}}}(\"changes\" => (Observable(0), nothing), \"index\" => (Observable(1), nothing)), Set{String}(), nothing, WebIO.Asset[WebIO.Asset(\"js\", \"knockout\", \"/home/dushya/.julia/packages/Knockout/HReiN/src/../assets/knockout.js\"), WebIO.Asset(\"js\", \"knockout_punches\", \"/home/dushya/.julia/packages/Knockout/HReiN/src/../assets/knockout_punches.js\"), WebIO.Asset(\"js\", nothing, \"/home/dushya/.julia/packages/InteractBase/LJXv3/src/../assets/all.js\"), WebIO.Asset(\"css\", nothing, \"/home/dushya/.julia/packages/InteractBase/LJXv3/src/../assets/style.css\"), WebIO.Asset(\"css\", nothing, \"/home/dushya/.julia/packages/Interact/PENUy/src/../assets/bulma_confined.min.css\")], Dict{Any, Any}(\"changes\" => Any[WebIO.JSString(\"(function (val){return (val!=this.model[\\\"changes\\\"]()) ? (this.valueFromJulia[\\\"changes\\\"]=true, this.model[\\\"changes\\\"](val)) : undefined})\")], \"index\" => Any[WebIO.JSString(\"(function (val){return (val!=this.model[\\\"index\\\"]()) ? (this.valueFromJulia[\\\"index\\\"]=true, this.model[\\\"index\\\"](val)) : undefined})\")]), WebIO.ConnectionPool(Channel{Any}(32), Set{WebIO.AbstractConnection}(), Base.GenericCondition{ReentrantLock}(Base.IntrusiveLinkedList{Task}(Task (runnable) @0x00007f61af1b2d60, Task (runnable) @0x00007f61af1b2d60), ReentrantLock(nothing, 0x00000000, 0x00, Base.GenericCondition{Base.Threads.SpinLock}(Base.IntrusiveLinkedList{Task}(nothing, nothing), Base.Threads.SpinLock(0)), (8, 140056478348304, 140058182857088)))), WebIO.JSString[WebIO.JSString(\"function () {\\n    var handler = (function (ko, koPunches) {\\n    ko.punches.enableAll();\\n    ko.bindingHandlers.numericValue = {\\n        init: function(element, valueAccessor, allBindings, data, context) {\\n            var stringified = ko.observable(ko.unwrap(valueAccessor()));\\n            stringified.subscribe(function(value) {\\n                var val = parseFloat(value);\\n                if (!isNaN(val)) {\\n                    valueAccessor()(val);\\n                }\\n            });\\n            valueAccessor().subscribe(function(value) {\\n                var str = JSON.stringify(value);\\n                if ((str == \\\"0\\\") && ([\\\"-0\\\", \\\"-0.\\\"].indexOf(stringified()) >= 0))\\n                     return;\\n                 if ([\\\"null\\\", \\\"\\\"].indexOf(str) >= 0)\\n                     return;\\n                stringified(str);\\n            });\\n            ko.applyBindingsToNode(\\n                element,\\n                {\\n                    value: stringified,\\n                    valueUpdate: allBindings.get('valueUpdate'),\\n                },\\n                context,\\n            );\\n        }\\n    };\\n    var json_data = {\\\"formatted_vals\\\":[\\\"1\\\",\\\"2\\\",\\\"3\\\",\\\"4\\\",\\\"5\\\",\\\"6\\\",\\\"7\\\",\\\"8\\\",\\\"9\\\",\\\"10\\\",\\\"11\\\",\\\"12\\\",\\\"13\\\",\\\"14\\\",\\\"15\\\",\\\"16\\\",\\\"17\\\",\\\"18\\\",\\\"19\\\",\\\"20\\\",\\\"21\\\",\\\"22\\\",\\\"23\\\",\\\"24\\\",\\\"25\\\",\\\"26\\\",\\\"27\\\",\\\"28\\\",\\\"29\\\",\\\"30\\\",\\\"31\\\",\\\"32\\\",\\\"33\\\",\\\"34\\\",\\\"35\\\",\\\"36\\\",\\\"37\\\",\\\"38\\\",\\\"39\\\",\\\"40\\\",\\\"41\\\",\\\"42\\\",\\\"43\\\",\\\"44\\\",\\\"45\\\",\\\"46\\\",\\\"47\\\",\\\"48\\\",\\\"49\\\",\\\"50\\\",\\\"51\\\",\\\"52\\\",\\\"53\\\",\\\"54\\\",\\\"55\\\",\\\"56\\\",\\\"57\\\",\\\"58\\\",\\\"59\\\",\\\"60\\\",\\\"61\\\",\\\"62\\\",\\\"63\\\",\\\"64\\\",\\\"65\\\",\\\"66\\\",\\\"67\\\",\\\"68\\\",\\\"69\\\",\\\"70\\\",\\\"71\\\",\\\"72\\\",\\\"73\\\",\\\"74\\\",\\\"75\\\",\\\"76\\\",\\\"77\\\",\\\"78\\\",\\\"79\\\",\\\"80\\\",\\\"81\\\",\\\"82\\\",\\\"83\\\",\\\"84\\\",\\\"85\\\",\\\"86\\\",\\\"87\\\",\\\"88\\\",\\\"89\\\",\\\"90\\\",\\\"91\\\",\\\"92\\\",\\\"93\\\",\\\"94\\\",\\\"95\\\",\\\"96\\\",\\\"97\\\",\\\"98\\\",\\\"99\\\",\\\"100\\\",\\\"101\\\",\\\"102\\\",\\\"103\\\",\\\"104\\\",\\\"105\\\",\\\"106\\\",\\\"107\\\",\\\"108\\\",\\\"109\\\",\\\"110\\\",\\\"111\\\",\\\"112\\\",\\\"113\\\",\\\"114\\\",\\\"115\\\",\\\"116\\\",\\\"117\\\",\\\"118\\\",\\\"119\\\",\\\"120\\\",\\\"121\\\",\\\"122\\\",\\\"123\\\",\\\"124\\\",\\\"125\\\",\\\"126\\\",\\\"127\\\",\\\"128\\\",\\\"129\\\",\\\"130\\\",\\\"131\\\",\\\"132\\\",\\\"133\\\",\\\"134\\\",\\\"135\\\",\\\"136\\\",\\\"137\\\",\\\"138\\\",\\\"139\\\",\\\"140\\\",\\\"141\\\",\\\"142\\\",\\\"143\\\",\\\"144\\\",\\\"145\\\",\\\"146\\\",\\\"147\\\",\\\"148\\\",\\\"149\\\",\\\"150\\\",\\\"151\\\",\\\"152\\\",\\\"153\\\",\\\"154\\\",\\\"155\\\",\\\"156\\\",\\\"157\\\",\\\"158\\\",\\\"159\\\",\\\"160\\\",\\\"161\\\",\\\"162\\\",\\\"163\\\",\\\"164\\\",\\\"165\\\",\\\"166\\\",\\\"167\\\",\\\"168\\\",\\\"169\\\",\\\"170\\\",\\\"171\\\",\\\"172\\\",\\\"173\\\",\\\"174\\\",\\\"175\\\",\\\"176\\\",\\\"177\\\",\\\"178\\\",\\\"179\\\",\\\"180\\\",\\\"181\\\",\\\"182\\\",\\\"183\\\",\\\"184\\\",\\\"185\\\",\\\"186\\\",\\\"187\\\",\\\"188\\\",\\\"189\\\",\\\"190\\\",\\\"191\\\",\\\"192\\\",\\\"193\\\",\\\"194\\\",\\\"195\\\",\\\"196\\\",\\\"197\\\",\\\"198\\\",\\\"199\\\",\\\"200\\\"],\\\"changes\\\":WebIO.getval({\\\"name\\\":\\\"changes\\\",\\\"scope\\\":\\\"8567185985702109492\\\",\\\"id\\\":\\\"5942960545745639652\\\",\\\"type\\\":\\\"observable\\\"}),\\\"index\\\":WebIO.getval({\\\"name\\\":\\\"index\\\",\\\"scope\\\":\\\"8567185985702109492\\\",\\\"id\\\":\\\"15579424100690151790\\\",\\\"type\\\":\\\"observable\\\"})};\\n    var self = this;\\n    function AppViewModel() {\\n        for (var key in json_data) {\\n            var el = json_data[key];\\n            this[key] = Array.isArray(el) ? ko.observableArray(el) : ko.observable(el);\\n        }\\n        \\n        [this[\\\"formatted_val\\\"]=ko.computed(    function(){\\n        return this.formatted_vals()[parseInt(this.index())-(1)];\\n    }\\n,this)]\\n        [this[\\\"changes\\\"].subscribe((function (val){!(this.valueFromJulia[\\\"changes\\\"]) ? (WebIO.setval({\\\"name\\\":\\\"changes\\\",\\\"scope\\\":\\\"8567185985702109492\\\",\\\"id\\\":\\\"5942960545745639652\\\",\\\"type\\\":\\\"observable\\\"},val)) : undefined; return this.valueFromJulia[\\\"changes\\\"]=false}),self),this[\\\"index\\\"].subscribe((function (val){!(this.valueFromJulia[\\\"index\\\"]) ? (WebIO.setval({\\\"name\\\":\\\"index\\\",\\\"scope\\\":\\\"8567185985702109492\\\",\\\"id\\\":\\\"15579424100690151790\\\",\\\"type\\\":\\\"observable\\\"},val)) : undefined; return this.valueFromJulia[\\\"index\\\"]=false}),self)]\\n        \\n    }\\n    self.model = new AppViewModel();\\n    self.valueFromJulia = {};\\n    for (var key in json_data) {\\n        self.valueFromJulia[key] = false;\\n    }\\n    ko.applyBindings(self.model, self.dom);\\n}\\n);\\n    (WebIO.importBlock({\\\"data\\\":[{\\\"name\\\":\\\"knockout\\\",\\\"type\\\":\\\"js\\\",\\\"url\\\":\\\"/assetserver/727383f2a47bd31570b7da84eee7b022dd6d7c78-knockout.js\\\"},{\\\"name\\\":\\\"knockout_punches\\\",\\\"type\\\":\\\"js\\\",\\\"url\\\":\\\"/assetserver/382b41b3b1bd9f26f75861d360bad7f8beea211f-knockout_punches.js\\\"}],\\\"type\\\":\\\"async_block\\\"})).then((imports) => handler.apply(this, imports));\\n}\\n\")])], Dict{Symbol, Any}(:className => \"field interact-widget\")), WebIO.Node{WebIO.DOM}(WebIO.DOM(:html, :div), Any[WebIO.Scope(WebIO.Node{WebIO.DOM}(WebIO.DOM(:html, :div), Any[WebIO.Node{WebIO.DOM}(WebIO.DOM(:html, :div), Any[WebIO.Node{WebIO.DOM}(WebIO.DOM(:html, :label), Any[\"scale\"], Dict{Symbol, Any}(:className => \"interact \", :style => Dict{Any, Any}(:padding => \"5px 10px 0px 10px\")))], Dict{Symbol, Any}(:className => \"interact-flex-row-left\")), WebIO.Node{WebIO.DOM}(WebIO.DOM(:html, :div), Any[WebIO.Node{WebIO.DOM}(WebIO.DOM(:html, :input), Any[], Dict{Symbol, Any}(:max => 20, :min => 1, :attributes => Dict{Any, Any}(:type => \"range\", Symbol(\"data-bind\") => \"numericValue: index, valueUpdate: 'input', event: {change: function (){this.changes(this.changes()+1)}}\", \"orient\" => \"horizontal\"), :step => 1, :className => \"slider slider is-fullwidth\", :style => Dict{Any, Any}()))], Dict{Symbol, Any}(:className => \"interact-flex-row-center\")), WebIO.Node{WebIO.DOM}(WebIO.DOM(:html, :div), Any[WebIO.Node{WebIO.DOM}(WebIO.DOM(:html, :p), Any[], Dict{Symbol, Any}(:attributes => Dict(\"data-bind\" => \"text: formatted_val\")))], Dict{Symbol, Any}(:className => \"interact-flex-row-right\"))], Dict{Symbol, Any}(:className => \"interact-flex-row interact-widget\")), Dict{String, Tuple{Observables.AbstractObservable, Union{Nothing, Bool}}}(\"changes\" => (Observable(0), nothing), \"index\" => (Observable{Any}(10), nothing)), Set{String}(), nothing, WebIO.Asset[WebIO.Asset(\"js\", \"knockout\", \"/home/dushya/.julia/packages/Knockout/HReiN/src/../assets/knockout.js\"), WebIO.Asset(\"js\", \"knockout_punches\", \"/home/dushya/.julia/packages/Knockout/HReiN/src/../assets/knockout_punches.js\"), WebIO.Asset(\"js\", nothing, \"/home/dushya/.julia/packages/InteractBase/LJXv3/src/../assets/all.js\"), WebIO.Asset(\"css\", nothing, \"/home/dushya/.julia/packages/InteractBase/LJXv3/src/../assets/style.css\"), WebIO.Asset(\"css\", nothing, \"/home/dushya/.julia/packages/Interact/PENUy/src/../assets/bulma_confined.min.css\")], Dict{Any, Any}(\"changes\" => Any[WebIO.JSString(\"(function (val){return (val!=this.model[\\\"changes\\\"]()) ? (this.valueFromJulia[\\\"changes\\\"]=true, this.model[\\\"changes\\\"](val)) : undefined})\")], \"index\" => Any[WebIO.JSString(\"(function (val){return (val!=this.model[\\\"index\\\"]()) ? (this.valueFromJulia[\\\"index\\\"]=true, this.model[\\\"index\\\"](val)) : undefined})\")]), WebIO.ConnectionPool(Channel{Any}(32), Set{WebIO.AbstractConnection}(), Base.GenericCondition{ReentrantLock}(Base.IntrusiveLinkedList{Task}(Task (runnable) @0x00007f61af23b080, Task (runnable) @0x00007f61af23b080), ReentrantLock(nothing, 0x00000000, 0x00, Base.GenericCondition{Base.Threads.SpinLock}(Base.IntrusiveLinkedList{Task}(nothing, nothing), Base.Threads.SpinLock(0)), (8, 0, 0)))), WebIO.JSString[WebIO.JSString(\"function () {\\n    var handler = (function (ko, koPunches) {\\n    ko.punches.enableAll();\\n    ko.bindingHandlers.numericValue = {\\n        init: function(element, valueAccessor, allBindings, data, context) {\\n            var stringified = ko.observable(ko.unwrap(valueAccessor()));\\n            stringified.subscribe(function(value) {\\n                var val = parseFloat(value);\\n                if (!isNaN(val)) {\\n                    valueAccessor()(val);\\n                }\\n            });\\n            valueAccessor().subscribe(function(value) {\\n                var str = JSON.stringify(value);\\n                if ((str == \\\"0\\\") && ([\\\"-0\\\", \\\"-0.\\\"].indexOf(stringified()) >= 0))\\n                     return;\\n                 if ([\\\"null\\\", \\\"\\\"].indexOf(str) >= 0)\\n                     return;\\n                stringified(str);\\n            });\\n            ko.applyBindingsToNode(\\n                element,\\n                {\\n                    value: stringified,\\n                    valueUpdate: allBindings.get('valueUpdate'),\\n                },\\n                context,\\n            );\\n        }\\n    };\\n    var json_data = {\\\"formatted_vals\\\":[\\\"0.1\\\",\\\"0.2\\\",\\\"0.3\\\",\\\"0.4\\\",\\\"0.5\\\",\\\"0.6\\\",\\\"0.7\\\",\\\"0.8\\\",\\\"0.9\\\",\\\"1.0\\\",\\\"1.1\\\",\\\"1.2\\\",\\\"1.3\\\",\\\"1.4\\\",\\\"1.5\\\",\\\"1.6\\\",\\\"1.7\\\",\\\"1.8\\\",\\\"1.9\\\",\\\"2.0\\\"],\\\"changes\\\":WebIO.getval({\\\"name\\\":\\\"changes\\\",\\\"scope\\\":\\\"17883214586868324441\\\",\\\"id\\\":\\\"2970476361700022429\\\",\\\"type\\\":\\\"observable\\\"}),\\\"index\\\":WebIO.getval({\\\"name\\\":\\\"index\\\",\\\"scope\\\":\\\"17883214586868324441\\\",\\\"id\\\":\\\"7174826315785490728\\\",\\\"type\\\":\\\"observable\\\"})};\\n    var self = this;\\n    function AppViewModel() {\\n        for (var key in json_data) {\\n            var el = json_data[key];\\n            this[key] = Array.isArray(el) ? ko.observableArray(el) : ko.observable(el);\\n        }\\n        \\n        [this[\\\"formatted_val\\\"]=ko.computed(    function(){\\n        return this.formatted_vals()[parseInt(this.index())-(1)];\\n    }\\n,this)]\\n        [this[\\\"changes\\\"].subscribe((function (val){!(this.valueFromJulia[\\\"changes\\\"]) ? (WebIO.setval({\\\"name\\\":\\\"changes\\\",\\\"scope\\\":\\\"17883214586868324441\\\",\\\"id\\\":\\\"2970476361700022429\\\",\\\"type\\\":\\\"observable\\\"},val)) : undefined; return this.valueFromJulia[\\\"changes\\\"]=false}),self),this[\\\"index\\\"].subscribe((function (val){!(this.valueFromJulia[\\\"index\\\"]) ? (WebIO.setval({\\\"name\\\":\\\"index\\\",\\\"scope\\\":\\\"17883214586868324441\\\",\\\"id\\\":\\\"7174826315785490728\\\",\\\"type\\\":\\\"observable\\\"},val)) : undefined; return this.valueFromJulia[\\\"index\\\"]=false}),self)]\\n        \\n    }\\n    self.model = new AppViewModel();\\n    self.valueFromJulia = {};\\n    for (var key in json_data) {\\n        self.valueFromJulia[key] = false;\\n    }\\n    ko.applyBindings(self.model, self.dom);\\n}\\n);\\n    (WebIO.importBlock({\\\"data\\\":[{\\\"name\\\":\\\"knockout\\\",\\\"type\\\":\\\"js\\\",\\\"url\\\":\\\"/assetserver/727383f2a47bd31570b7da84eee7b022dd6d7c78-knockout.js\\\"},{\\\"name\\\":\\\"knockout_punches\\\",\\\"type\\\":\\\"js\\\",\\\"url\\\":\\\"/assetserver/382b41b3b1bd9f26f75861d360bad7f8beea211f-knockout_punches.js\\\"}],\\\"type\\\":\\\"async_block\\\"})).then((imports) => handler.apply(this, imports));\\n}\\n\")])], Dict{Symbol, Any}(:className => \"field interact-widget\")), WebIO.Node{WebIO.DOM}(WebIO.DOM(:html, :div), Any[], Dict{Symbol, Any}(:style => Dict(\"display\" => \"flex\", \"flex-direction\" => \"column\"))), WebIO.Node{WebIO.DOM}(WebIO.DOM(:html, :div), Any[WebIO.Node{WebIO.DOM}(WebIO.DOM(:html, :div), Any[WebIO.Scope(WebIO.Node{WebIO.DOM}(WebIO.DOM(:html, :div), Any[WebIO.Node{WebIO.DOM}(WebIO.DOM(:html, :div), Any[WebIO.Node{WebIO.DOM}(WebIO.DOM(:html, :label), Any[\"temp\"], Dict{Symbol, Any}(:className => \"interact \", :style => Dict{Any, Any}(:padding => \"5px 10px 0px 10px\")))], Dict{Symbol, Any}(:className => \"interact-flex-row-left\")), WebIO.Node{WebIO.DOM}(WebIO.DOM(:html, :div), Any[WebIO.Node{WebIO.DOM}(WebIO.DOM(:html, :input), Any[], Dict{Symbol, Any}(:max => 100, :min => 1, :attributes => Dict{Any, Any}(:type => \"range\", Symbol(\"data-bind\") => \"numericValue: index, valueUpdate: 'input', event: {change: function (){this.changes(this.changes()+1)}}\", \"orient\" => \"horizontal\"), :step => 1, :className => \"slider slider is-fullwidth\", :style => Dict{Any, Any}()))], Dict{Symbol, Any}(:className => \"interact-flex-row-center\")), WebIO.Node{WebIO.DOM}(WebIO.DOM(:html, :div), Any[WebIO.Node{WebIO.DOM}(WebIO.DOM(:html, :p), Any[], Dict{Symbol, Any}(:attributes => Dict(\"data-bind\" => \"text: formatted_val\")))], Dict{Symbol, Any}(:className => \"interact-flex-row-right\"))], Dict{Symbol, Any}(:className => \"interact-flex-row interact-widget\")), Dict{String, Tuple{Observables.AbstractObservable, Union{Nothing, Bool}}}(\"changes\" => (Observable(0), nothing), \"index\" => (Observable{Any}(50), nothing)), Set{String}(), nothing, WebIO.Asset[WebIO.Asset(\"js\", \"knockout\", \"/home/dushya/.julia/packages/Knockout/HReiN/src/../assets/knockout.js\"), WebIO.Asset(\"js\", \"knockout_punches\", \"/home/dushya/.julia/packages/Knockout/HReiN/src/../assets/knockout_punches.js\"), WebIO.Asset(\"js\", nothing, \"/home/dushya/.julia/packages/InteractBase/LJXv3/src/../assets/all.js\"), WebIO.Asset(\"css\", nothing, \"/home/dushya/.julia/packages/InteractBase/LJXv3/src/../assets/style.css\"), WebIO.Asset(\"css\", nothing, \"/home/dushya/.julia/packages/Interact/PENUy/src/../assets/bulma_confined.min.css\")], Dict{Any, Any}(\"changes\" => Any[WebIO.JSString(\"(function (val){return (val!=this.model[\\\"changes\\\"]()) ? (this.valueFromJulia[\\\"changes\\\"]=true, this.model[\\\"changes\\\"](val)) : undefined})\")], \"index\" => Any[WebIO.JSString(\"(function (val){return (val!=this.model[\\\"index\\\"]()) ? (this.valueFromJulia[\\\"index\\\"]=true, this.model[\\\"index\\\"](val)) : undefined})\")]), WebIO.ConnectionPool(Channel{Any}(32), Set{WebIO.AbstractConnection}(), Base.GenericCondition{ReentrantLock}(Base.IntrusiveLinkedList{Task}(Task (runnable) @0x00007f61af382ef0, Task (runnable) @0x00007f61af382ef0), ReentrantLock(nothing, 0x00000000, 0x00, Base.GenericCondition{Base.Threads.SpinLock}(Base.IntrusiveLinkedList{Task}(nothing, nothing), Base.Threads.SpinLock(0)), (8, 0, 0)))), WebIO.JSString[WebIO.JSString(\"function () {\\n    var handler = (function (ko, koPunches) {\\n    ko.punches.enableAll();\\n    ko.bindingHandlers.numericValue = {\\n        init: function(element, valueAccessor, allBindings, data, context) {\\n            var stringified = ko.observable(ko.unwrap(valueAccessor()));\\n            stringified.subscribe(function(value) {\\n                var val = parseFloat(value);\\n                if (!isNaN(val)) {\\n                    valueAccessor()(val);\\n                }\\n            });\\n            valueAccessor().subscribe(function(value) {\\n                var str = JSON.stringify(value);\\n                if ((str == \\\"0\\\") && ([\\\"-0\\\", \\\"-0.\\\"].indexOf(stringified()) >= 0))\\n                     return;\\n                 if ([\\\"null\\\", \\\"\\\"].indexOf(str) >= 0)\\n                     return;\\n                stringified(str);\\n            });\\n            ko.applyBindingsToNode(\\n                element,\\n                {\\n                    value: stringified,\\n                    valueUpdate: allBindings.get('valueUpdate'),\\n                },\\n                context,\\n            );\\n        }\\n    };\\n    var json_data = {\\\"formatted_vals\\\":[\\\"0.05\\\",\\\"0.1\\\",\\\"0.15\\\",\\\"0.2\\\",\\\"0.25\\\",\\\"0.3\\\",\\\"0.35\\\",\\\"0.4\\\",\\\"0.45\\\",\\\"0.5\\\",\\\"0.55\\\",\\\"0.6\\\",\\\"0.65\\\",\\\"0.7\\\",\\\"0.75\\\",\\\"0.8\\\",\\\"0.85\\\",\\\"0.9\\\",\\\"0.95\\\",\\\"1.0\\\",\\\"1.05\\\",\\\"1.1\\\",\\\"1.15\\\",\\\"1.2\\\",\\\"1.25\\\",\\\"1.3\\\",\\\"1.35\\\",\\\"1.4\\\",\\\"1.45\\\",\\\"1.5\\\",\\\"1.55\\\",\\\"1.6\\\",\\\"1.65\\\",\\\"1.7\\\",\\\"1.75\\\",\\\"1.8\\\",\\\"1.85\\\",\\\"1.9\\\",\\\"1.95\\\",\\\"2.0\\\",\\\"2.05\\\",\\\"2.1\\\",\\\"2.15\\\",\\\"2.2\\\",\\\"2.25\\\",\\\"2.3\\\",\\\"2.35\\\",\\\"2.4\\\",\\\"2.45\\\",\\\"2.5\\\",\\\"2.55\\\",\\\"2.6\\\",\\\"2.65\\\",\\\"2.7\\\",\\\"2.75\\\",\\\"2.8\\\",\\\"2.85\\\",\\\"2.9\\\",\\\"2.95\\\",\\\"3.0\\\",\\\"3.05\\\",\\\"3.1\\\",\\\"3.15\\\",\\\"3.2\\\",\\\"3.25\\\",\\\"3.3\\\",\\\"3.35\\\",\\\"3.4\\\",\\\"3.45\\\",\\\"3.5\\\",\\\"3.55\\\",\\\"3.6\\\",\\\"3.65\\\",\\\"3.7\\\",\\\"3.75\\\",\\\"3.8\\\",\\\"3.85\\\",\\\"3.9\\\",\\\"3.95\\\",\\\"4.0\\\",\\\"4.05\\\",\\\"4.1\\\",\\\"4.15\\\",\\\"4.2\\\",\\\"4.25\\\",\\\"4.3\\\",\\\"4.35\\\",\\\"4.4\\\",\\\"4.45\\\",\\\"4.5\\\",\\\"4.55\\\",\\\"4.6\\\",\\\"4.65\\\",\\\"4.7\\\",\\\"4.75\\\",\\\"4.8\\\",\\\"4.85\\\",\\\"4.9\\\",\\\"4.95\\\",\\\"5.0\\\"],\\\"changes\\\":WebIO.getval({\\\"name\\\":\\\"changes\\\",\\\"scope\\\":\\\"8873285691531566127\\\",\\\"id\\\":\\\"6412786812315248832\\\",\\\"type\\\":\\\"observable\\\"}),\\\"index\\\":WebIO.getval({\\\"name\\\":\\\"index\\\",\\\"scope\\\":\\\"8873285691531566127\\\",\\\"id\\\":\\\"13624321683463944570\\\",\\\"type\\\":\\\"observable\\\"})};\\n    var self = this;\\n    function AppViewModel() {\\n        for (var key in json_data) {\\n            var el = json_data[key];\\n            this[key] = Array.isArray(el) ? ko.observableArray(el) : ko.observable(el);\\n        }\\n        \\n        [this[\\\"formatted_val\\\"]=ko.computed(    function(){\\n        return this.formatted_vals()[parseInt(this.index())-(1)];\\n    }\\n,this)]\\n        [this[\\\"changes\\\"].subscribe((function (val){!(this.valueFromJulia[\\\"changes\\\"]) ? (WebIO.setval({\\\"name\\\":\\\"changes\\\",\\\"scope\\\":\\\"8873285691531566127\\\",\\\"id\\\":\\\"6412786812315248832\\\",\\\"type\\\":\\\"observable\\\"},val)) : undefined; return this.valueFromJulia[\\\"changes\\\"]=false}),self),this[\\\"index\\\"].subscribe((function (val){!(this.valueFromJulia[\\\"index\\\"]) ? (WebIO.setval({\\\"name\\\":\\\"index\\\",\\\"scope\\\":\\\"8873285691531566127\\\",\\\"id\\\":\\\"13624321683463944570\\\",\\\"type\\\":\\\"observable\\\"},val)) : undefined; return this.valueFromJulia[\\\"index\\\"]=false}),self)]\\n        \\n    }\\n    self.model = new AppViewModel();\\n    self.valueFromJulia = {};\\n    for (var key in json_data) {\\n        self.valueFromJulia[key] = false;\\n    }\\n    ko.applyBindings(self.model, self.dom);\\n}\\n);\\n    (WebIO.importBlock({\\\"data\\\":[{\\\"name\\\":\\\"knockout\\\",\\\"type\\\":\\\"js\\\",\\\"url\\\":\\\"/assetserver/727383f2a47bd31570b7da84eee7b022dd6d7c78-knockout.js\\\"},{\\\"name\\\":\\\"knockout_punches\\\",\\\"type\\\":\\\"js\\\",\\\"url\\\":\\\"/assetserver/382b41b3b1bd9f26f75861d360bad7f8beea211f-knockout_punches.js\\\"}],\\\"type\\\":\\\"async_block\\\"})).then((imports) => handler.apply(this, imports));\\n}\\n\")])], Dict{Symbol, Any}(:className => \"field interact-widget\")), WebIO.Node{WebIO.DOM}(WebIO.DOM(:html, :div), Any[WebIO.Scope(WebIO.Node{WebIO.DOM}(WebIO.DOM(:html, :div), Any[WebIO.Node{WebIO.DOM}(WebIO.DOM(:html, :div), Any[WebIO.Node{WebIO.DOM}(WebIO.DOM(:html, :label), Any[\"coupl\"], Dict{Symbol, Any}(:className => \"interact \", :style => Dict{Any, Any}(:padding => \"5px 10px 0px 10px\")))], Dict{Symbol, Any}(:className => \"interact-flex-row-left\")), WebIO.Node{WebIO.DOM}(WebIO.DOM(:html, :div), Any[WebIO.Node{WebIO.DOM}(WebIO.DOM(:html, :input), Any[], Dict{Symbol, Any}(:max => 50, :min => 1, :attributes => Dict{Any, Any}(:type => \"range\", Symbol(\"data-bind\") => \"numericValue: index, valueUpdate: 'input', event: {change: function (){this.changes(this.changes()+1)}}\", \"orient\" => \"horizontal\"), :step => 1, :className => \"slider slider is-fullwidth\", :style => Dict{Any, Any}()))], Dict{Symbol, Any}(:className => \"interact-flex-row-center\")), WebIO.Node{WebIO.DOM}(WebIO.DOM(:html, :div), Any[WebIO.Node{WebIO.DOM}(WebIO.DOM(:html, :p), Any[], Dict{Symbol, Any}(:attributes => Dict(\"data-bind\" => \"text: formatted_val\")))], Dict{Symbol, Any}(:className => \"interact-flex-row-right\"))], Dict{Symbol, Any}(:className => \"interact-flex-row interact-widget\")), Dict{String, Tuple{Observables.AbstractObservable, Union{Nothing, Bool}}}(\"changes\" => (Observable(0), nothing), \"index\" => (Observable{Any}(25), nothing)), Set{String}(), nothing, WebIO.Asset[WebIO.Asset(\"js\", \"knockout\", \"/home/dushya/.julia/packages/Knockout/HReiN/src/../assets/knockout.js\"), WebIO.Asset(\"js\", \"knockout_punches\", \"/home/dushya/.julia/packages/Knockout/HReiN/src/../assets/knockout_punches.js\"), WebIO.Asset(\"js\", nothing, \"/home/dushya/.julia/packages/InteractBase/LJXv3/src/../assets/all.js\"), WebIO.Asset(\"css\", nothing, \"/home/dushya/.julia/packages/InteractBase/LJXv3/src/../assets/style.css\"), WebIO.Asset(\"css\", nothing, \"/home/dushya/.julia/packages/Interact/PENUy/src/../assets/bulma_confined.min.css\")], Dict{Any, Any}(\"changes\" => Any[WebIO.JSString(\"(function (val){return (val!=this.model[\\\"changes\\\"]()) ? (this.valueFromJulia[\\\"changes\\\"]=true, this.model[\\\"changes\\\"](val)) : undefined})\")], \"index\" => Any[WebIO.JSString(\"(function (val){return (val!=this.model[\\\"index\\\"]()) ? (this.valueFromJulia[\\\"index\\\"]=true, this.model[\\\"index\\\"](val)) : undefined})\")]), WebIO.ConnectionPool(Channel{Any}(32), Set{WebIO.AbstractConnection}(), Base.GenericCondition{ReentrantLock}(Base.IntrusiveLinkedList{Task}(Task (runnable) @0x00007f61af3bd780, Task (runnable) @0x00007f61af3bd780), ReentrantLock(nothing, 0x00000000, 0x00, Base.GenericCondition{Base.Threads.SpinLock}(Base.IntrusiveLinkedList{Task}(nothing, nothing), Base.Threads.SpinLock(0)), (8, 0, 0)))), WebIO.JSString[WebIO.JSString(\"function () {\\n    var handler = (function (ko, koPunches) {\\n    ko.punches.enableAll();\\n    ko.bindingHandlers.numericValue = {\\n        init: function(element, valueAccessor, allBindings, data, context) {\\n            var stringified = ko.observable(ko.unwrap(valueAccessor()));\\n            stringified.subscribe(function(value) {\\n                var val = parseFloat(value);\\n                if (!isNaN(val)) {\\n                    valueAccessor()(val);\\n                }\\n            });\\n            valueAccessor().subscribe(function(value) {\\n                var str = JSON.stringify(value);\\n                if ((str == \\\"0\\\") && ([\\\"-0\\\", \\\"-0.\\\"].indexOf(stringified()) >= 0))\\n                     return;\\n                 if ([\\\"null\\\", \\\"\\\"].indexOf(str) >= 0)\\n                     return;\\n                stringified(str);\\n            });\\n            ko.applyBindingsToNode(\\n                element,\\n                {\\n                    value: stringified,\\n                    valueUpdate: allBindings.get('valueUpdate'),\\n                },\\n                context,\\n            );\\n        }\\n    };\\n    var json_data = {\\\"formatted_vals\\\":[\\\"0.01\\\",\\\"0.11\\\",\\\"0.21\\\",\\\"0.31\\\",\\\"0.41\\\",\\\"0.51\\\",\\\"0.61\\\",\\\"0.71\\\",\\\"0.81\\\",\\\"0.91\\\",\\\"1.01\\\",\\\"1.11\\\",\\\"1.21\\\",\\\"1.31\\\",\\\"1.41\\\",\\\"1.51\\\",\\\"1.61\\\",\\\"1.71\\\",\\\"1.81\\\",\\\"1.91\\\",\\\"2.01\\\",\\\"2.11\\\",\\\"2.21\\\",\\\"2.31\\\",\\\"2.41\\\",\\\"2.51\\\",\\\"2.61\\\",\\\"2.71\\\",\\\"2.81\\\",\\\"2.91\\\",\\\"3.01\\\",\\\"3.11\\\",\\\"3.21\\\",\\\"3.31\\\",\\\"3.41\\\",\\\"3.51\\\",\\\"3.61\\\",\\\"3.71\\\",\\\"3.81\\\",\\\"3.91\\\",\\\"4.01\\\",\\\"4.11\\\",\\\"4.21\\\",\\\"4.31\\\",\\\"4.41\\\",\\\"4.51\\\",\\\"4.61\\\",\\\"4.71\\\",\\\"4.81\\\",\\\"4.91\\\"],\\\"changes\\\":WebIO.getval({\\\"name\\\":\\\"changes\\\",\\\"scope\\\":\\\"4918596182114590024\\\",\\\"id\\\":\\\"7712723074532254681\\\",\\\"type\\\":\\\"observable\\\"}),\\\"index\\\":WebIO.getval({\\\"name\\\":\\\"index\\\",\\\"scope\\\":\\\"4918596182114590024\\\",\\\"id\\\":\\\"18202252027035696758\\\",\\\"type\\\":\\\"observable\\\"})};\\n    var self = this;\\n    function AppViewModel() {\\n        for (var key in json_data) {\\n            var el = json_data[key];\\n            this[key] = Array.isArray(el) ? ko.observableArray(el) : ko.observable(el);\\n        }\\n        \\n        [this[\\\"formatted_val\\\"]=ko.computed(    function(){\\n        return this.formatted_vals()[parseInt(this.index())-(1)];\\n    }\\n,this)]\\n        [this[\\\"changes\\\"].subscribe((function (val){!(this.valueFromJulia[\\\"changes\\\"]) ? (WebIO.setval({\\\"name\\\":\\\"changes\\\",\\\"scope\\\":\\\"4918596182114590024\\\",\\\"id\\\":\\\"7712723074532254681\\\",\\\"type\\\":\\\"observable\\\"},val)) : undefined; return this.valueFromJulia[\\\"changes\\\"]=false}),self),this[\\\"index\\\"].subscribe((function (val){!(this.valueFromJulia[\\\"index\\\"]) ? (WebIO.setval({\\\"name\\\":\\\"index\\\",\\\"scope\\\":\\\"4918596182114590024\\\",\\\"id\\\":\\\"18202252027035696758\\\",\\\"type\\\":\\\"observable\\\"},val)) : undefined; return this.valueFromJulia[\\\"index\\\"]=false}),self)]\\n        \\n    }\\n    self.model = new AppViewModel();\\n    self.valueFromJulia = {};\\n    for (var key in json_data) {\\n        self.valueFromJulia[key] = false;\\n    }\\n    ko.applyBindings(self.model, self.dom);\\n}\\n);\\n    (WebIO.importBlock({\\\"data\\\":[{\\\"name\\\":\\\"knockout\\\",\\\"type\\\":\\\"js\\\",\\\"url\\\":\\\"/assetserver/727383f2a47bd31570b7da84eee7b022dd6d7c78-knockout.js\\\"},{\\\"name\\\":\\\"knockout_punches\\\",\\\"type\\\":\\\"js\\\",\\\"url\\\":\\\"/assetserver/382b41b3b1bd9f26f75861d360bad7f8beea211f-knockout_punches.js\\\"}],\\\"type\\\":\\\"async_block\\\"})).then((imports) => handler.apply(this, imports));\\n}\\n\")])], Dict{Symbol, Any}(:className => \"field interact-widget\"))], Dict{Symbol, Any}(:style => Dict(\"display\" => \"flex\", \"flex-direction\" => \"column\"))), WebIO.Node{WebIO.DOM}(WebIO.DOM(:html, :div), Any[WebIO.Node{WebIO.DOM}(WebIO.DOM(:html, :div), Any[WebIO.Scope(WebIO.Node{WebIO.DOM}(WebIO.DOM(:html, :div), Any[], Dict{Symbol, Any}(:id => \"container\")), Dict{String, Tuple{Observables.AbstractObservable, Union{Nothing, Bool}}}(\"value\" => (Observable(\"\\\\;\\\\;\"), nothing)), Set{String}(), nothing, WebIO.Asset[WebIO.Asset(\"js\", nothing, \"/home/dushya/.julia/packages/InteractBase/LJXv3/src/../assets/katex.min.js\"), WebIO.Asset(\"css\", nothing, \"/home/dushya/.julia/packages/InteractBase/LJXv3/src/../assets/katex.min.css\")], Dict{Any, Any}(\"value\" => Any[WebIO.JSString(\"(function (txt){return this.k.render(txt,this.container)})\")]), WebIO.ConnectionPool(Channel{Any}(32), Set{WebIO.AbstractConnection}(), Base.GenericCondition{ReentrantLock}(Base.IntrusiveLinkedList{Task}(Task (runnable) @0x00007f61af82d780, Task (runnable) @0x00007f61af82d780), ReentrantLock(nothing, 0x00000000, 0x00, Base.GenericCondition{Base.Threads.SpinLock}(Base.IntrusiveLinkedList{Task}(nothing, nothing), Base.Threads.SpinLock(0)), (0, 0, 139779710648320)))), WebIO.JSString[WebIO.JSString(\"function () {\\n    var handler = ((function (k){this.k=k; this.container=this.dom.querySelector(\\\"#container\\\"); return k.render(\\\"\\\\\\\\;\\\\\\\\;\\\",this.container)}));\\n    (WebIO.importBlock({\\\"data\\\":[{\\\"name\\\":null,\\\"type\\\":\\\"js\\\",\\\"url\\\":\\\"/assetserver/dd22ed1bf1896c2748f3fe616ce0b838adc895c1-katex.min.js\\\"},{\\\"name\\\":null,\\\"type\\\":\\\"css\\\",\\\"url\\\":\\\"/assetserver/46517a424aa5e6cffc1360d7e0848b601c584ee3-katex.min.css\\\"}],\\\"type\\\":\\\"async_block\\\"})).then((imports) => handler.apply(this, imports));\\n}\\n\")])], Dict{Symbol, Any}(:className => \"interact-widget\")), WebIO.Node{WebIO.DOM}(WebIO.DOM(:html, :div), Any[WebIO.Scope(WebIO.Node{WebIO.DOM}(WebIO.DOM(:html, :button), Any[\"run\"], Dict{Symbol, Any}(:attributes => Dict{Any, Any}(\"data-bind\" => \"click: function (){this.clicks(this.clicks()+1)}, css: {'is-loading' : loading}\"), :className => \"is-medium button is-primary\", :style => Dict{String, Any}())), Dict{String, Tuple{Observables.AbstractObservable, Union{Nothing, Bool}}}(\"loading\" => (Observable(false), nothing), \"clicks\" => (Observable(0), nothing)), Set{String}(), nothing, WebIO.Asset[WebIO.Asset(\"js\", \"knockout\", \"/home/dushya/.julia/packages/Knockout/HReiN/src/../assets/knockout.js\"), WebIO.Asset(\"js\", \"knockout_punches\", \"/home/dushya/.julia/packages/Knockout/HReiN/src/../assets/knockout_punches.js\"), WebIO.Asset(\"js\", nothing, \"/home/dushya/.julia/packages/InteractBase/LJXv3/src/../assets/all.js\"), WebIO.Asset(\"css\", nothing, \"/home/dushya/.julia/packages/InteractBase/LJXv3/src/../assets/style.css\"), WebIO.Asset(\"css\", nothing, \"/home/dushya/.julia/packages/Interact/PENUy/src/../assets/bulma_confined.min.css\")], Dict{Any, Any}(\"loading\" => Any[WebIO.JSString(\"(function (val){return (val!=this.model[\\\"loading\\\"]()) ? (this.valueFromJulia[\\\"loading\\\"]=true, this.model[\\\"loading\\\"](val)) : undefined})\")], \"clicks\" => Any[WebIO.JSString(\"(function (val){return (val!=this.model[\\\"clicks\\\"]()) ? (this.valueFromJulia[\\\"clicks\\\"]=true, this.model[\\\"clicks\\\"](val)) : undefined})\")]), WebIO.ConnectionPool(Channel{Any}(32), Set{WebIO.AbstractConnection}(), Base.GenericCondition{ReentrantLock}(Base.IntrusiveLinkedList{Task}(Task (runnable) @0x00007f61af4347e0, Task (runnable) @0x00007f61af4347e0), ReentrantLock(nothing, 0x00000000, 0x00, Base.GenericCondition{Base.Threads.SpinLock}(Base.IntrusiveLinkedList{Task}(nothing, nothing), Base.Threads.SpinLock(0)), (1, 140056494952208, 140056479422144)))), WebIO.JSString[WebIO.JSString(\"function () {\\n    var handler = (function (ko, koPunches) {\\n    ko.punches.enableAll();\\n    ko.bindingHandlers.numericValue = {\\n        init: function(element, valueAccessor, allBindings, data, context) {\\n            var stringified = ko.observable(ko.unwrap(valueAccessor()));\\n            stringified.subscribe(function(value) {\\n                var val = parseFloat(value);\\n                if (!isNaN(val)) {\\n                    valueAccessor()(val);\\n                }\\n            });\\n            valueAccessor().subscribe(function(value) {\\n                var str = JSON.stringify(value);\\n                if ((str == \\\"0\\\") && ([\\\"-0\\\", \\\"-0.\\\"].indexOf(stringified()) >= 0))\\n                     return;\\n                 if ([\\\"null\\\", \\\"\\\"].indexOf(str) >= 0)\\n                     return;\\n                stringified(str);\\n            });\\n            ko.applyBindingsToNode(\\n                element,\\n                {\\n                    value: stringified,\\n                    valueUpdate: allBindings.get('valueUpdate'),\\n                },\\n                context,\\n            );\\n        }\\n    };\\n    var json_data = {\\\"loading\\\":WebIO.getval({\\\"name\\\":\\\"loading\\\",\\\"scope\\\":\\\"5482497086654881697\\\",\\\"id\\\":\\\"9069552012627715328\\\",\\\"type\\\":\\\"observable\\\"}),\\\"clicks\\\":WebIO.getval({\\\"name\\\":\\\"clicks\\\",\\\"scope\\\":\\\"5482497086654881697\\\",\\\"id\\\":\\\"15799650595447424239\\\",\\\"type\\\":\\\"observable\\\"})};\\n    var self = this;\\n    function AppViewModel() {\\n        for (var key in json_data) {\\n            var el = json_data[key];\\n            this[key] = Array.isArray(el) ? ko.observableArray(el) : ko.observable(el);\\n        }\\n        \\n        \\n        [this[\\\"loading\\\"].subscribe((function (val){!(this.valueFromJulia[\\\"loading\\\"]) ? (WebIO.setval({\\\"name\\\":\\\"loading\\\",\\\"scope\\\":\\\"5482497086654881697\\\",\\\"id\\\":\\\"9069552012627715328\\\",\\\"type\\\":\\\"observable\\\"},val)) : undefined; return this.valueFromJulia[\\\"loading\\\"]=false}),self),this[\\\"clicks\\\"].subscribe((function (val){!(this.valueFromJulia[\\\"clicks\\\"]) ? (WebIO.setval({\\\"name\\\":\\\"clicks\\\",\\\"scope\\\":\\\"5482497086654881697\\\",\\\"id\\\":\\\"15799650595447424239\\\",\\\"type\\\":\\\"observable\\\"},val)) : undefined; return this.valueFromJulia[\\\"clicks\\\"]=false}),self)]\\n        \\n    }\\n    self.model = new AppViewModel();\\n    self.valueFromJulia = {};\\n    for (var key in json_data) {\\n        self.valueFromJulia[key] = false;\\n    }\\n    ko.applyBindings(self.model, self.dom);\\n}\\n);\\n    (WebIO.importBlock({\\\"data\\\":[{\\\"name\\\":\\\"knockout\\\",\\\"type\\\":\\\"js\\\",\\\"url\\\":\\\"/assetserver/727383f2a47bd31570b7da84eee7b022dd6d7c78-knockout.js\\\"},{\\\"name\\\":\\\"knockout_punches\\\",\\\"type\\\":\\\"js\\\",\\\"url\\\":\\\"/assetserver/382b41b3b1bd9f26f75861d360bad7f8beea211f-knockout_punches.js\\\"}],\\\"type\\\":\\\"async_block\\\"})).then((imports) => handler.apply(this, imports));\\n}\\n\")])], Dict{Symbol, Any}(:className => \"field interact-widget\")), WebIO.Node{WebIO.DOM}(WebIO.DOM(:html, :div), Any[WebIO.Scope(WebIO.Node{WebIO.DOM}(WebIO.DOM(:html, :div), Any[], Dict{Symbol, Any}(:id => \"container\")), Dict{String, Tuple{Observables.AbstractObservable, Union{Nothing, Bool}}}(\"value\" => (Observable(\"\\\\;\\\\;\"), nothing)), Set{String}(), nothing, WebIO.Asset[WebIO.Asset(\"js\", nothing, \"/home/dushya/.julia/packages/InteractBase/LJXv3/src/../assets/katex.min.js\"), WebIO.Asset(\"css\", nothing, \"/home/dushya/.julia/packages/InteractBase/LJXv3/src/../assets/katex.min.css\")], Dict{Any, Any}(\"value\" => Any[WebIO.JSString(\"(function (txt){return this.k.render(txt,this.container)})\")]), WebIO.ConnectionPool(Channel{Any}(32), Set{WebIO.AbstractConnection}(), Base.GenericCondition{ReentrantLock}(Base.IntrusiveLinkedList{Task}(Task (runnable) @0x00007f61af82d780, Task (runnable) @0x00007f61af82d780), ReentrantLock(nothing, 0x00000000, 0x00, Base.GenericCondition{Base.Threads.SpinLock}(Base.IntrusiveLinkedList{Task}(nothing, nothing), Base.Threads.SpinLock(0)), (0, 0, 139779710648320)))), WebIO.JSString[WebIO.JSString(\"function () {\\n    var handler = ((function (k){this.k=k; this.container=this.dom.querySelector(\\\"#container\\\"); return k.render(\\\"\\\\\\\\;\\\\\\\\;\\\",this.container)}));\\n    (WebIO.importBlock({\\\"data\\\":[{\\\"name\\\":null,\\\"type\\\":\\\"js\\\",\\\"url\\\":\\\"/assetserver/dd22ed1bf1896c2748f3fe616ce0b838adc895c1-katex.min.js\\\"},{\\\"name\\\":null,\\\"type\\\":\\\"css\\\",\\\"url\\\":\\\"/assetserver/46517a424aa5e6cffc1360d7e0848b601c584ee3-katex.min.css\\\"}],\\\"type\\\":\\\"async_block\\\"})).then((imports) => handler.apply(this, imports));\\n}\\n\")])], Dict{Symbol, Any}(:className => \"interact-widget\")), WebIO.Node{WebIO.DOM}(WebIO.DOM(:html, :div), Any[WebIO.Scope(WebIO.Node{WebIO.DOM}(WebIO.DOM(:html, :button), Any[\"stop\"], Dict{Symbol, Any}(:attributes => Dict{Any, Any}(\"data-bind\" => \"click: function (){this.clicks(this.clicks()+1)}, css: {'is-loading' : loading}\"), :className => \"is-medium button is-primary\", :style => Dict{String, Any}())), Dict{String, Tuple{Observables.AbstractObservable, Union{Nothing, Bool}}}(\"loading\" => (Observable(false), nothing), \"clicks\" => (Observable(0), nothing)), Set{String}(), nothing, WebIO.Asset[WebIO.Asset(\"js\", \"knockout\", \"/home/dushya/.julia/packages/Knockout/HReiN/src/../assets/knockout.js\"), WebIO.Asset(\"js\", \"knockout_punches\", \"/home/dushya/.julia/packages/Knockout/HReiN/src/../assets/knockout_punches.js\"), WebIO.Asset(\"js\", nothing, \"/home/dushya/.julia/packages/InteractBase/LJXv3/src/../assets/all.js\"), WebIO.Asset(\"css\", nothing, \"/home/dushya/.julia/packages/InteractBase/LJXv3/src/../assets/style.css\"), WebIO.Asset(\"css\", nothing, \"/home/dushya/.julia/packages/Interact/PENUy/src/../assets/bulma_confined.min.css\")], Dict{Any, Any}(\"loading\" => Any[WebIO.JSString(\"(function (val){return (val!=this.model[\\\"loading\\\"]()) ? (this.valueFromJulia[\\\"loading\\\"]=true, this.model[\\\"loading\\\"](val)) : undefined})\")], \"clicks\" => Any[WebIO.JSString(\"(function (val){return (val!=this.model[\\\"clicks\\\"]()) ? (this.valueFromJulia[\\\"clicks\\\"]=true, this.model[\\\"clicks\\\"](val)) : undefined})\")]), WebIO.ConnectionPool(Channel{Any}(32), Set{WebIO.AbstractConnection}(), Base.GenericCondition{ReentrantLock}(Base.IntrusiveLinkedList{Task}(Task (runnable) @0x00007f61af437210, Task (runnable) @0x00007f61af437210), ReentrantLock(nothing, 0x00000000, 0x00, Base.GenericCondition{Base.Threads.SpinLock}(Base.IntrusiveLinkedList{Task}(nothing, nothing), Base.Threads.SpinLock(0)), (1, 0, 0)))), WebIO.JSString[WebIO.JSString(\"function () {\\n    var handler = (function (ko, koPunches) {\\n    ko.punches.enableAll();\\n    ko.bindingHandlers.numericValue = {\\n        init: function(element, valueAccessor, allBindings, data, context) {\\n            var stringified = ko.observable(ko.unwrap(valueAccessor()));\\n            stringified.subscribe(function(value) {\\n                var val = parseFloat(value);\\n                if (!isNaN(val)) {\\n                    valueAccessor()(val);\\n                }\\n            });\\n            valueAccessor().subscribe(function(value) {\\n                var str = JSON.stringify(value);\\n                if ((str == \\\"0\\\") && ([\\\"-0\\\", \\\"-0.\\\"].indexOf(stringified()) >= 0))\\n                     return;\\n                 if ([\\\"null\\\", \\\"\\\"].indexOf(str) >= 0)\\n                     return;\\n                stringified(str);\\n            });\\n            ko.applyBindingsToNode(\\n                element,\\n                {\\n                    value: stringified,\\n                    valueUpdate: allBindings.get('valueUpdate'),\\n                },\\n                context,\\n            );\\n        }\\n    };\\n    var json_data = {\\\"loading\\\":WebIO.getval({\\\"name\\\":\\\"loading\\\",\\\"scope\\\":\\\"3233851987678498642\\\",\\\"id\\\":\\\"13613344929617067878\\\",\\\"type\\\":\\\"observable\\\"}),\\\"clicks\\\":WebIO.getval({\\\"name\\\":\\\"clicks\\\",\\\"scope\\\":\\\"3233851987678498642\\\",\\\"id\\\":\\\"1715375733406185207\\\",\\\"type\\\":\\\"observable\\\"})};\\n    var self = this;\\n    function AppViewModel() {\\n        for (var key in json_data) {\\n            var el = json_data[key];\\n            this[key] = Array.isArray(el) ? ko.observableArray(el) : ko.observable(el);\\n        }\\n        \\n        \\n        [this[\\\"loading\\\"].subscribe((function (val){!(this.valueFromJulia[\\\"loading\\\"]) ? (WebIO.setval({\\\"name\\\":\\\"loading\\\",\\\"scope\\\":\\\"3233851987678498642\\\",\\\"id\\\":\\\"13613344929617067878\\\",\\\"type\\\":\\\"observable\\\"},val)) : undefined; return this.valueFromJulia[\\\"loading\\\"]=false}),self),this[\\\"clicks\\\"].subscribe((function (val){!(this.valueFromJulia[\\\"clicks\\\"]) ? (WebIO.setval({\\\"name\\\":\\\"clicks\\\",\\\"scope\\\":\\\"3233851987678498642\\\",\\\"id\\\":\\\"1715375733406185207\\\",\\\"type\\\":\\\"observable\\\"},val)) : undefined; return this.valueFromJulia[\\\"clicks\\\"]=false}),self)]\\n        \\n    }\\n    self.model = new AppViewModel();\\n    self.valueFromJulia = {};\\n    for (var key in json_data) {\\n        self.valueFromJulia[key] = false;\\n    }\\n    ko.applyBindings(self.model, self.dom);\\n}\\n);\\n    (WebIO.importBlock({\\\"data\\\":[{\\\"name\\\":\\\"knockout\\\",\\\"type\\\":\\\"js\\\",\\\"url\\\":\\\"/assetserver/727383f2a47bd31570b7da84eee7b022dd6d7c78-knockout.js\\\"},{\\\"name\\\":\\\"knockout_punches\\\",\\\"type\\\":\\\"js\\\",\\\"url\\\":\\\"/assetserver/382b41b3b1bd9f26f75861d360bad7f8beea211f-knockout_punches.js\\\"}],\\\"type\\\":\\\"async_block\\\"})).then((imports) => handler.apply(this, imports));\\n}\\n\")])], Dict{Symbol, Any}(:className => \"field interact-widget\")), WebIO.Node{WebIO.DOM}(WebIO.DOM(:html, :div), Any[WebIO.Scope(WebIO.Node{WebIO.DOM}(WebIO.DOM(:html, :div), Any[], Dict{Symbol, Any}(:id => \"container\")), Dict{String, Tuple{Observables.AbstractObservable, Union{Nothing, Bool}}}(\"value\" => (Observable(\"\\\\;\\\\;\"), nothing)), Set{String}(), nothing, WebIO.Asset[WebIO.Asset(\"js\", nothing, \"/home/dushya/.julia/packages/InteractBase/LJXv3/src/../assets/katex.min.js\"), WebIO.Asset(\"css\", nothing, \"/home/dushya/.julia/packages/InteractBase/LJXv3/src/../assets/katex.min.css\")], Dict{Any, Any}(\"value\" => Any[WebIO.JSString(\"(function (txt){return this.k.render(txt,this.container)})\")]), WebIO.ConnectionPool(Channel{Any}(32), Set{WebIO.AbstractConnection}(), Base.GenericCondition{ReentrantLock}(Base.IntrusiveLinkedList{Task}(Task (runnable) @0x00007f61af82d780, Task (runnable) @0x00007f61af82d780), ReentrantLock(nothing, 0x00000000, 0x00, Base.GenericCondition{Base.Threads.SpinLock}(Base.IntrusiveLinkedList{Task}(nothing, nothing), Base.Threads.SpinLock(0)), (0, 0, 139779710648320)))), WebIO.JSString[WebIO.JSString(\"function () {\\n    var handler = ((function (k){this.k=k; this.container=this.dom.querySelector(\\\"#container\\\"); return k.render(\\\"\\\\\\\\;\\\\\\\\;\\\",this.container)}));\\n    (WebIO.importBlock({\\\"data\\\":[{\\\"name\\\":null,\\\"type\\\":\\\"js\\\",\\\"url\\\":\\\"/assetserver/dd22ed1bf1896c2748f3fe616ce0b838adc895c1-katex.min.js\\\"},{\\\"name\\\":null,\\\"type\\\":\\\"css\\\",\\\"url\\\":\\\"/assetserver/46517a424aa5e6cffc1360d7e0848b601c584ee3-katex.min.css\\\"}],\\\"type\\\":\\\"async_block\\\"})).then((imports) => handler.apply(this, imports));\\n}\\n\")])], Dict{Symbol, Any}(:className => \"interact-widget\")), WebIO.Node{WebIO.DOM}(WebIO.DOM(:html, :div), Any[WebIO.Scope(WebIO.Node{WebIO.DOM}(WebIO.DOM(:html, :button), Any[\"reset\"], Dict{Symbol, Any}(:attributes => Dict{Any, Any}(\"data-bind\" => \"click: function (){this.clicks(this.clicks()+1)}, css: {'is-loading' : loading}\"), :className => \"is-medium button is-primary\", :style => Dict{String, Any}())), Dict{String, Tuple{Observables.AbstractObservable, Union{Nothing, Bool}}}(\"loading\" => (Observable(false), nothing), \"clicks\" => (Observable(0), nothing)), Set{String}(), nothing, WebIO.Asset[WebIO.Asset(\"js\", \"knockout\", \"/home/dushya/.julia/packages/Knockout/HReiN/src/../assets/knockout.js\"), WebIO.Asset(\"js\", \"knockout_punches\", \"/home/dushya/.julia/packages/Knockout/HReiN/src/../assets/knockout_punches.js\"), WebIO.Asset(\"js\", nothing, \"/home/dushya/.julia/packages/InteractBase/LJXv3/src/../assets/all.js\"), WebIO.Asset(\"css\", nothing, \"/home/dushya/.julia/packages/InteractBase/LJXv3/src/../assets/style.css\"), WebIO.Asset(\"css\", nothing, \"/home/dushya/.julia/packages/Interact/PENUy/src/../assets/bulma_confined.min.css\")], Dict{Any, Any}(\"loading\" => Any[WebIO.JSString(\"(function (val){return (val!=this.model[\\\"loading\\\"]()) ? (this.valueFromJulia[\\\"loading\\\"]=true, this.model[\\\"loading\\\"](val)) : undefined})\")], \"clicks\" => Any[WebIO.JSString(\"(function (val){return (val!=this.model[\\\"clicks\\\"]()) ? (this.valueFromJulia[\\\"clicks\\\"]=true, this.model[\\\"clicks\\\"](val)) : undefined})\")]), WebIO.ConnectionPool(Channel{Any}(32), Set{WebIO.AbstractConnection}(), Base.GenericCondition{ReentrantLock}(Base.IntrusiveLinkedList{Task}(Task (runnable) @0x00007f61af491c30, Task (runnable) @0x00007f61af491c30), ReentrantLock(nothing, 0x00000000, 0x00, Base.GenericCondition{Base.Threads.SpinLock}(Base.IntrusiveLinkedList{Task}(nothing, nothing), Base.Threads.SpinLock(0)), (0, 0, 0)))), WebIO.JSString[WebIO.JSString(\"function () {\\n    var handler = (function (ko, koPunches) {\\n    ko.punches.enableAll();\\n    ko.bindingHandlers.numericValue = {\\n        init: function(element, valueAccessor, allBindings, data, context) {\\n            var stringified = ko.observable(ko.unwrap(valueAccessor()));\\n            stringified.subscribe(function(value) {\\n                var val = parseFloat(value);\\n                if (!isNaN(val)) {\\n                    valueAccessor()(val);\\n                }\\n            });\\n            valueAccessor().subscribe(function(value) {\\n                var str = JSON.stringify(value);\\n                if ((str == \\\"0\\\") && ([\\\"-0\\\", \\\"-0.\\\"].indexOf(stringified()) >= 0))\\n                     return;\\n                 if ([\\\"null\\\", \\\"\\\"].indexOf(str) >= 0)\\n                     return;\\n                stringified(str);\\n            });\\n            ko.applyBindingsToNode(\\n                element,\\n                {\\n                    value: stringified,\\n                    valueUpdate: allBindings.get('valueUpdate'),\\n                },\\n                context,\\n            );\\n        }\\n    };\\n    var json_data = {\\\"loading\\\":WebIO.getval({\\\"name\\\":\\\"loading\\\",\\\"scope\\\":\\\"18369322647127059050\\\",\\\"id\\\":\\\"6352984047737957437\\\",\\\"type\\\":\\\"observable\\\"}),\\\"clicks\\\":WebIO.getval({\\\"name\\\":\\\"clicks\\\",\\\"scope\\\":\\\"18369322647127059050\\\",\\\"id\\\":\\\"5783986007702415992\\\",\\\"type\\\":\\\"observable\\\"})};\\n    var self = this;\\n    function AppViewModel() {\\n        for (var key in json_data) {\\n            var el = json_data[key];\\n            this[key] = Array.isArray(el) ? ko.observableArray(el) : ko.observable(el);\\n        }\\n        \\n        \\n        [this[\\\"loading\\\"].subscribe((function (val){!(this.valueFromJulia[\\\"loading\\\"]) ? (WebIO.setval({\\\"name\\\":\\\"loading\\\",\\\"scope\\\":\\\"18369322647127059050\\\",\\\"id\\\":\\\"6352984047737957437\\\",\\\"type\\\":\\\"observable\\\"},val)) : undefined; return this.valueFromJulia[\\\"loading\\\"]=false}),self),this[\\\"clicks\\\"].subscribe((function (val){!(this.valueFromJulia[\\\"clicks\\\"]) ? (WebIO.setval({\\\"name\\\":\\\"clicks\\\",\\\"scope\\\":\\\"18369322647127059050\\\",\\\"id\\\":\\\"5783986007702415992\\\",\\\"type\\\":\\\"observable\\\"},val)) : undefined; return this.valueFromJulia[\\\"clicks\\\"]=false}),self)]\\n        \\n    }\\n    self.model = new AppViewModel();\\n    self.valueFromJulia = {};\\n    for (var key in json_data) {\\n        self.valueFromJulia[key] = false;\\n    }\\n    ko.applyBindings(self.model, self.dom);\\n}\\n);\\n    (WebIO.importBlock({\\\"data\\\":[{\\\"name\\\":\\\"knockout\\\",\\\"type\\\":\\\"js\\\",\\\"url\\\":\\\"/assetserver/727383f2a47bd31570b7da84eee7b022dd6d7c78-knockout.js\\\"},{\\\"name\\\":\\\"knockout_punches\\\",\\\"type\\\":\\\"js\\\",\\\"url\\\":\\\"/assetserver/382b41b3b1bd9f26f75861d360bad7f8beea211f-knockout_punches.js\\\"}],\\\"type\\\":\\\"async_block\\\"})).then((imports) => handler.apply(this, imports));\\n}\\n\")])], Dict{Symbol, Any}(:className => \"field interact-widget\")), WebIO.Node{WebIO.DOM}(WebIO.DOM(:html, :div), Any[WebIO.Scope(WebIO.Node{WebIO.DOM}(WebIO.DOM(:html, :div), Any[], Dict{Symbol, Any}(:id => \"container\")), Dict{String, Tuple{Observables.AbstractObservable, Union{Nothing, Bool}}}(\"value\" => (Observable(\"\\\\;\\\\;\"), nothing)), Set{String}(), nothing, WebIO.Asset[WebIO.Asset(\"js\", nothing, \"/home/dushya/.julia/packages/InteractBase/LJXv3/src/../assets/katex.min.js\"), WebIO.Asset(\"css\", nothing, \"/home/dushya/.julia/packages/InteractBase/LJXv3/src/../assets/katex.min.css\")], Dict{Any, Any}(\"value\" => Any[WebIO.JSString(\"(function (txt){return this.k.render(txt,this.container)})\")]), WebIO.ConnectionPool(Channel{Any}(32), Set{WebIO.AbstractConnection}(), Base.GenericCondition{ReentrantLock}(Base.IntrusiveLinkedList{Task}(Task (runnable) @0x00007f61af82d780, Task (runnable) @0x00007f61af82d780), ReentrantLock(nothing, 0x00000000, 0x00, Base.GenericCondition{Base.Threads.SpinLock}(Base.IntrusiveLinkedList{Task}(nothing, nothing), Base.Threads.SpinLock(0)), (0, 0, 139779710648320)))), WebIO.JSString[WebIO.JSString(\"function () {\\n    var handler = ((function (k){this.k=k; this.container=this.dom.querySelector(\\\"#container\\\"); return k.render(\\\"\\\\\\\\;\\\\\\\\;\\\",this.container)}));\\n    (WebIO.importBlock({\\\"data\\\":[{\\\"name\\\":null,\\\"type\\\":\\\"js\\\",\\\"url\\\":\\\"/assetserver/dd22ed1bf1896c2748f3fe616ce0b838adc895c1-katex.min.js\\\"},{\\\"name\\\":null,\\\"type\\\":\\\"css\\\",\\\"url\\\":\\\"/assetserver/46517a424aa5e6cffc1360d7e0848b601c584ee3-katex.min.css\\\"}],\\\"type\\\":\\\"async_block\\\"})).then((imports) => handler.apply(this, imports));\\n}\\n\")])], Dict{Symbol, Any}(:className => \"interact-widget\")), WebIO.Node{WebIO.DOM}(WebIO.DOM(:html, :div), Any[WebIO.Scope(WebIO.Node{WebIO.DOM}(WebIO.DOM(:html, :button), Any[\"save\"], Dict{Symbol, Any}(:attributes => Dict{Any, Any}(\"data-bind\" => \"click: function (){this.clicks(this.clicks()+1)}, css: {'is-loading' : loading}\"), :className => \"is-medium button is-primary\", :style => Dict{String, Any}())), Dict{String, Tuple{Observables.AbstractObservable, Union{Nothing, Bool}}}(\"loading\" => (Observable(false), nothing), \"clicks\" => (Observable(0), nothing)), Set{String}(), nothing, WebIO.Asset[WebIO.Asset(\"js\", \"knockout\", \"/home/dushya/.julia/packages/Knockout/HReiN/src/../assets/knockout.js\"), WebIO.Asset(\"js\", \"knockout_punches\", \"/home/dushya/.julia/packages/Knockout/HReiN/src/../assets/knockout_punches.js\"), WebIO.Asset(\"js\", nothing, \"/home/dushya/.julia/packages/InteractBase/LJXv3/src/../assets/all.js\"), WebIO.Asset(\"css\", nothing, \"/home/dushya/.julia/packages/InteractBase/LJXv3/src/../assets/style.css\"), WebIO.Asset(\"css\", nothing, \"/home/dushya/.julia/packages/Interact/PENUy/src/../assets/bulma_confined.min.css\")], Dict{Any, Any}(\"loading\" => Any[WebIO.JSString(\"(function (val){return (val!=this.model[\\\"loading\\\"]()) ? (this.valueFromJulia[\\\"loading\\\"]=true, this.model[\\\"loading\\\"](val)) : undefined})\")], \"clicks\" => Any[WebIO.JSString(\"(function (val){return (val!=this.model[\\\"clicks\\\"]()) ? (this.valueFromJulia[\\\"clicks\\\"]=true, this.model[\\\"clicks\\\"](val)) : undefined})\")]), WebIO.ConnectionPool(Channel{Any}(32), Set{WebIO.AbstractConnection}(), Base.GenericCondition{ReentrantLock}(Base.IntrusiveLinkedList{Task}(Task (runnable) @0x00007f61af61c970, Task (runnable) @0x00007f61af61c970), ReentrantLock(nothing, 0x00000000, 0x00, Base.GenericCondition{Base.Threads.SpinLock}(Base.IntrusiveLinkedList{Task}(nothing, nothing), Base.Threads.SpinLock(0)), (2, 140056495293840, 140056495293904)))), WebIO.JSString[WebIO.JSString(\"function () {\\n    var handler = (function (ko, koPunches) {\\n    ko.punches.enableAll();\\n    ko.bindingHandlers.numericValue = {\\n        init: function(element, valueAccessor, allBindings, data, context) {\\n            var stringified = ko.observable(ko.unwrap(valueAccessor()));\\n            stringified.subscribe(function(value) {\\n                var val = parseFloat(value);\\n                if (!isNaN(val)) {\\n                    valueAccessor()(val);\\n                }\\n            });\\n            valueAccessor().subscribe(function(value) {\\n                var str = JSON.stringify(value);\\n                if ((str == \\\"0\\\") && ([\\\"-0\\\", \\\"-0.\\\"].indexOf(stringified()) >= 0))\\n                     return;\\n                 if ([\\\"null\\\", \\\"\\\"].indexOf(str) >= 0)\\n                     return;\\n                stringified(str);\\n            });\\n            ko.applyBindingsToNode(\\n                element,\\n                {\\n                    value: stringified,\\n                    valueUpdate: allBindings.get('valueUpdate'),\\n                },\\n                context,\\n            );\\n        }\\n    };\\n    var json_data = {\\\"loading\\\":WebIO.getval({\\\"name\\\":\\\"loading\\\",\\\"scope\\\":\\\"3958704727991174570\\\",\\\"id\\\":\\\"10870143112304208397\\\",\\\"type\\\":\\\"observable\\\"}),\\\"clicks\\\":WebIO.getval({\\\"name\\\":\\\"clicks\\\",\\\"scope\\\":\\\"3958704727991174570\\\",\\\"id\\\":\\\"2301168657495648770\\\",\\\"type\\\":\\\"observable\\\"})};\\n    var self = this;\\n    function AppViewModel() {\\n        for (var key in json_data) {\\n            var el = json_data[key];\\n            this[key] = Array.isArray(el) ? ko.observableArray(el) : ko.observable(el);\\n        }\\n        \\n        \\n        [this[\\\"loading\\\"].subscribe((function (val){!(this.valueFromJulia[\\\"loading\\\"]) ? (WebIO.setval({\\\"name\\\":\\\"loading\\\",\\\"scope\\\":\\\"3958704727991174570\\\",\\\"id\\\":\\\"10870143112304208397\\\",\\\"type\\\":\\\"observable\\\"},val)) : undefined; return this.valueFromJulia[\\\"loading\\\"]=false}),self),this[\\\"clicks\\\"].subscribe((function (val){!(this.valueFromJulia[\\\"clicks\\\"]) ? (WebIO.setval({\\\"name\\\":\\\"clicks\\\",\\\"scope\\\":\\\"3958704727991174570\\\",\\\"id\\\":\\\"2301168657495648770\\\",\\\"type\\\":\\\"observable\\\"},val)) : undefined; return this.valueFromJulia[\\\"clicks\\\"]=false}),self)]\\n        \\n    }\\n    self.model = new AppViewModel();\\n    self.valueFromJulia = {};\\n    for (var key in json_data) {\\n        self.valueFromJulia[key] = false;\\n    }\\n    ko.applyBindings(self.model, self.dom);\\n}\\n);\\n    (WebIO.importBlock({\\\"data\\\":[{\\\"name\\\":\\\"knockout\\\",\\\"type\\\":\\\"js\\\",\\\"url\\\":\\\"/assetserver/727383f2a47bd31570b7da84eee7b022dd6d7c78-knockout.js\\\"},{\\\"name\\\":\\\"knockout_punches\\\",\\\"type\\\":\\\"js\\\",\\\"url\\\":\\\"/assetserver/382b41b3b1bd9f26f75861d360bad7f8beea211f-knockout_punches.js\\\"}],\\\"type\\\":\\\"async_block\\\"})).then((imports) => handler.apply(this, imports));\\n}\\n\")])], Dict{Symbol, Any}(:className => \"field interact-widget\"))], Dict{Symbol, Any}(:style => Dict(\"display\" => \"flex\", \"flex-direction\" => \"row\")))], Dict{Symbol, Any}(:style => Dict(\"display\" => \"flex\", \"flex-direction\" => \"column\"))), WebIO.Node{WebIO.DOM}(WebIO.DOM(:html, :div), Any[WebIO.Scope(WebIO.Node{WebIO.DOM}(WebIO.DOM(:html, :div), Any[], Dict{Symbol, Any}(:id => \"container\")), Dict{String, Tuple{Observables.AbstractObservable, Union{Nothing, Bool}}}(\"value\" => (Observable(\"\\\\;\\\\;\"), nothing)), Set{String}(), nothing, WebIO.Asset[WebIO.Asset(\"js\", nothing, \"/home/dushya/.julia/packages/InteractBase/LJXv3/src/../assets/katex.min.js\"), WebIO.Asset(\"css\", nothing, \"/home/dushya/.julia/packages/InteractBase/LJXv3/src/../assets/katex.min.css\")], Dict{Any, Any}(\"value\" => Any[WebIO.JSString(\"(function (txt){return this.k.render(txt,this.container)})\")]), WebIO.ConnectionPool(Channel{Any}(32), Set{WebIO.AbstractConnection}(), Base.GenericCondition{ReentrantLock}(Base.IntrusiveLinkedList{Task}(Task (runnable) @0x00007f61af82d780, Task (runnable) @0x00007f61af82d780), ReentrantLock(nothing, 0x00000000, 0x00, Base.GenericCondition{Base.Threads.SpinLock}(Base.IntrusiveLinkedList{Task}(nothing, nothing), Base.Threads.SpinLock(0)), (0, 0, 139779710648320)))), WebIO.JSString[WebIO.JSString(\"function () {\\n    var handler = ((function (k){this.k=k; this.container=this.dom.querySelector(\\\"#container\\\"); return k.render(\\\"\\\\\\\\;\\\\\\\\;\\\",this.container)}));\\n    (WebIO.importBlock({\\\"data\\\":[{\\\"name\\\":null,\\\"type\\\":\\\"js\\\",\\\"url\\\":\\\"/assetserver/dd22ed1bf1896c2748f3fe616ce0b838adc895c1-katex.min.js\\\"},{\\\"name\\\":null,\\\"type\\\":\\\"css\\\",\\\"url\\\":\\\"/assetserver/46517a424aa5e6cffc1360d7e0848b601c584ee3-katex.min.css\\\"}],\\\"type\\\":\\\"async_block\\\"})).then((imports) => handler.apply(this, imports));\\n}\\n\")])], Dict{Symbol, Any}(:className => \"interact-widget\")), Observable(Luxor.Drawing(430.0, 430.0, \"\", Cairo.CairoSurfaceBase{UInt32}(Ptr{Nothing} @0x0000000000000000, 430.0, 430.0), Cairo.CairoContext(Ptr{Nothing} @0x0000000005246850, Cairo.CairoSurfaceBase{UInt32}(Ptr{Nothing} @0x0000000000000000, 430.0, 430.0), Ptr{Nothing} @0x0000000003f2e990), :png, 0.0, 0.0, 0.0, 1.0, IOBuffer(data=UInt8[...], readable=true, writable=true, seekable=true, append=false, size=6296, maxsize=Inf, ptr=6297, mark=-1), UInt8[0x89, 0x50, 0x4e, 0x47, 0x0d, 0x0a, 0x1a, 0x0a, 0x00, 0x00  …  0x00, 0x00, 0x49, 0x45, 0x4e, 0x44, 0xae, 0x42, 0x60, 0x82], false)), WebIO.Node{WebIO.DOM}(WebIO.DOM(:html, :div), Any[WebIO.Scope(WebIO.Node{WebIO.DOM}(WebIO.DOM(:html, :div), Any[], Dict{Symbol, Any}(:id => \"container\")), Dict{String, Tuple{Observables.AbstractObservable, Union{Nothing, Bool}}}(\"value\" => (Observable(\"\\\\;\\\\;\"), nothing)), Set{String}(), nothing, WebIO.Asset[WebIO.Asset(\"js\", nothing, \"/home/dushya/.julia/packages/InteractBase/LJXv3/src/../assets/katex.min.js\"), WebIO.Asset(\"css\", nothing, \"/home/dushya/.julia/packages/InteractBase/LJXv3/src/../assets/katex.min.css\")], Dict{Any, Any}(\"value\" => Any[WebIO.JSString(\"(function (txt){return this.k.render(txt,this.container)})\")]), WebIO.ConnectionPool(Channel{Any}(32), Set{WebIO.AbstractConnection}(), Base.GenericCondition{ReentrantLock}(Base.IntrusiveLinkedList{Task}(Task (runnable) @0x00007f61af82d780, Task (runnable) @0x00007f61af82d780), ReentrantLock(nothing, 0x00000000, 0x00, Base.GenericCondition{Base.Threads.SpinLock}(Base.IntrusiveLinkedList{Task}(nothing, nothing), Base.Threads.SpinLock(0)), (0, 0, 139779710648320)))), WebIO.JSString[WebIO.JSString(\"function () {\\n    var handler = ((function (k){this.k=k; this.container=this.dom.querySelector(\\\"#container\\\"); return k.render(\\\"\\\\\\\\;\\\\\\\\;\\\",this.container)}));\\n    (WebIO.importBlock({\\\"data\\\":[{\\\"name\\\":null,\\\"type\\\":\\\"js\\\",\\\"url\\\":\\\"/assetserver/dd22ed1bf1896c2748f3fe616ce0b838adc895c1-katex.min.js\\\"},{\\\"name\\\":null,\\\"type\\\":\\\"css\\\",\\\"url\\\":\\\"/assetserver/46517a424aa5e6cffc1360d7e0848b601c584ee3-katex.min.css\\\"}],\\\"type\\\":\\\"async_block\\\"})).then((imports) => handler.apply(this, imports));\\n}\\n\")])], Dict{Symbol, Any}(:className => \"interact-widget\")), WebIO.Node{WebIO.DOM}(WebIO.DOM(:html, :div), Any[Observable(Plot{Plots.GRBackend() n=1})], Dict{Symbol, Any}(:style => Dict(\"display\" => \"flex\", \"flex-direction\" => \"column\")))], Dict{Symbol, Any}(:style => Dict(\"display\" => \"flex\", \"flex-direction\" => \"row\")))], Dict{Symbol, Any}(:style => Dict(\"display\" => \"flex\", \"flex-direction\" => \"column\")))"
      ]
     },
     "execution_count": 11,
     "metadata": {
      "application/vnd.webio.node+json": {
       "kernelId": "8f9bcdf1-72eb-4706-8a27-2314577e92d5"
      }
     },
     "output_type": "execute_result"
    }
   ],
   "source": [
    "create_interactive_app(model, initialiser= initialiser!,\n",
    "    props_to_record = Dict(\"nodes\"=>Set([:color, :spin])),\n",
    "    step_rule= step_rule!,\n",
    "    model_controls=[(:temp, \"slider\", 0.05:0.05:5), (:coupl, \"slider\", 0.01:0.1:5)],\n",
    "    node_plots = Dict(\"magnetisation\"=> x -> x.spin),\n",
    "    frames=200) "
   ]
  },
  {
   "cell_type": "markdown",
   "metadata": {},
   "source": [
    "## Step 5: Fetch Data \n",
    "\n",
    "In this step we fetch the data of average spin of nodes (also called magnetisation) and plot the result as follows."
   ]
  },
  {
   "cell_type": "code",
   "execution_count": 12,
   "metadata": {
    "scrolled": true
   },
   "outputs": [
    {
     "data": {
      "image/png": "[encoded data removed]",
      "image/svg+xml": [
       "<?xml version=\"1.0\" encoding=\"utf-8\"?>\n",
       "<svg xmlns=\"http://www.w3.org/2000/svg\" xmlns:xlink=\"http://www.w3.org/1999/xlink\" width=\"600\" height=\"400\" viewBox=\"0 0 2400 1600\">\n",
       "<defs>\n",
       "  <clipPath id=\"clip960\">\n",
       "    <rect x=\"0\" y=\"0\" width=\"2400\" height=\"1600\"/>\n",
       "  </clipPath>\n",
       "</defs>\n",
       "<path clip-path=\"url(#clip960)\" d=\"M0 1600 L2400 1600 L2400 0 L0 0  Z\" fill=\"#ffffff\" fill-rule=\"evenodd\" fill-opacity=\"1\"/>\n",
       "<defs>\n",
       "  <clipPath id=\"clip961\">\n",
       "    <rect x=\"480\" y=\"0\" width=\"1681\" height=\"1600\"/>\n",
       "  </clipPath>\n",
       "</defs>\n",
       "<path clip-path=\"url(#clip960)\" d=\"M156.598 1423.18 L2352.76 1423.18 L2352.76 47.2441 L156.598 47.2441  Z\" fill=\"#ffffff\" fill-rule=\"evenodd\" fill-opacity=\"1\"/>\n",
       "<defs>\n",
       "  <clipPath id=\"clip962\">\n",
       "    <rect x=\"156\" y=\"47\" width=\"2197\" height=\"1377\"/>\n",
       "  </clipPath>\n",
       "</defs>\n",
       "<polyline clip-path=\"url(#clip962)\" style=\"stroke:#000000; stroke-linecap:round; stroke-linejoin:round; stroke-width:2; stroke-opacity:0.1; fill:none\" points=\"208.394,1423.18 208.394,47.2441 \"/>\n",
       "<polyline clip-path=\"url(#clip962)\" style=\"stroke:#000000; stroke-linecap:round; stroke-linejoin:round; stroke-width:2; stroke-opacity:0.1; fill:none\" points=\"726.356,1423.18 726.356,47.2441 \"/>\n",
       "<polyline clip-path=\"url(#clip962)\" style=\"stroke:#000000; stroke-linecap:round; stroke-linejoin:round; stroke-width:2; stroke-opacity:0.1; fill:none\" points=\"1244.32,1423.18 1244.32,47.2441 \"/>\n",
       "<polyline clip-path=\"url(#clip962)\" style=\"stroke:#000000; stroke-linecap:round; stroke-linejoin:round; stroke-width:2; stroke-opacity:0.1; fill:none\" points=\"1762.28,1423.18 1762.28,47.2441 \"/>\n",
       "<polyline clip-path=\"url(#clip962)\" style=\"stroke:#000000; stroke-linecap:round; stroke-linejoin:round; stroke-width:2; stroke-opacity:0.1; fill:none\" points=\"2280.24,1423.18 2280.24,47.2441 \"/>\n",
       "<polyline clip-path=\"url(#clip960)\" style=\"stroke:#000000; stroke-linecap:round; stroke-linejoin:round; stroke-width:4; stroke-opacity:1; fill:none\" points=\"156.598,1423.18 2352.76,1423.18 \"/>\n",
       "<polyline clip-path=\"url(#clip960)\" style=\"stroke:#000000; stroke-linecap:round; stroke-linejoin:round; stroke-width:4; stroke-opacity:1; fill:none\" points=\"208.394,1423.18 208.394,1404.28 \"/>\n",
       "<polyline clip-path=\"url(#clip960)\" style=\"stroke:#000000; stroke-linecap:round; stroke-linejoin:round; stroke-width:4; stroke-opacity:1; fill:none\" points=\"726.356,1423.18 726.356,1404.28 \"/>\n",
       "<polyline clip-path=\"url(#clip960)\" style=\"stroke:#000000; stroke-linecap:round; stroke-linejoin:round; stroke-width:4; stroke-opacity:1; fill:none\" points=\"1244.32,1423.18 1244.32,1404.28 \"/>\n",
       "<polyline clip-path=\"url(#clip960)\" style=\"stroke:#000000; stroke-linecap:round; stroke-linejoin:round; stroke-width:4; stroke-opacity:1; fill:none\" points=\"1762.28,1423.18 1762.28,1404.28 \"/>\n",
       "<polyline clip-path=\"url(#clip960)\" style=\"stroke:#000000; stroke-linecap:round; stroke-linejoin:round; stroke-width:4; stroke-opacity:1; fill:none\" points=\"2280.24,1423.18 2280.24,1404.28 \"/>\n",
       "<path clip-path=\"url(#clip960)\" d=\"M208.394 1454.1 Q204.783 1454.1 202.955 1457.66 Q201.149 1461.2 201.149 1468.33 Q201.149 1475.44 202.955 1479.01 Q204.783 1482.55 208.394 1482.55 Q212.029 1482.55 213.834 1479.01 Q215.663 1475.44 215.663 1468.33 Q215.663 1461.2 213.834 1457.66 Q212.029 1454.1 208.394 1454.1 M208.394 1450.39 Q214.205 1450.39 217.26 1455 Q220.339 1459.58 220.339 1468.33 Q220.339 1477.06 217.26 1481.67 Q214.205 1486.25 208.394 1486.25 Q202.584 1486.25 199.506 1481.67 Q196.45 1477.06 196.45 1468.33 Q196.45 1459.58 199.506 1455 Q202.584 1450.39 208.394 1450.39 Z\" fill=\"#000000\" fill-rule=\"nonzero\" fill-opacity=\"1\" /><path clip-path=\"url(#clip960)\" d=\"M701.055 1451.02 L719.412 1451.02 L719.412 1454.96 L705.338 1454.96 L705.338 1463.43 Q706.356 1463.08 707.375 1462.92 Q708.393 1462.73 709.412 1462.73 Q715.199 1462.73 718.578 1465.9 Q721.958 1469.08 721.958 1474.49 Q721.958 1480.07 718.486 1483.17 Q715.014 1486.25 708.694 1486.25 Q706.518 1486.25 704.25 1485.88 Q702.004 1485.51 699.597 1484.77 L699.597 1480.07 Q701.68 1481.2 703.903 1481.76 Q706.125 1482.32 708.602 1482.32 Q712.606 1482.32 714.944 1480.21 Q717.282 1478.1 717.282 1474.49 Q717.282 1470.88 714.944 1468.77 Q712.606 1466.67 708.602 1466.67 Q706.727 1466.67 704.852 1467.08 Q703 1467.5 701.055 1468.38 L701.055 1451.02 Z\" fill=\"#000000\" fill-rule=\"nonzero\" fill-opacity=\"1\" /><path clip-path=\"url(#clip960)\" d=\"M741.171 1454.1 Q737.56 1454.1 735.731 1457.66 Q733.926 1461.2 733.926 1468.33 Q733.926 1475.44 735.731 1479.01 Q737.56 1482.55 741.171 1482.55 Q744.805 1482.55 746.611 1479.01 Q748.439 1475.44 748.439 1468.33 Q748.439 1461.2 746.611 1457.66 Q744.805 1454.1 741.171 1454.1 M741.171 1450.39 Q746.981 1450.39 750.037 1455 Q753.115 1459.58 753.115 1468.33 Q753.115 1477.06 750.037 1481.67 Q746.981 1486.25 741.171 1486.25 Q735.361 1486.25 732.282 1481.67 Q729.226 1477.06 729.226 1468.33 Q729.226 1459.58 732.282 1455 Q735.361 1450.39 741.171 1450.39 Z\" fill=\"#000000\" fill-rule=\"nonzero\" fill-opacity=\"1\" /><path clip-path=\"url(#clip960)\" d=\"M1203.92 1481.64 L1211.56 1481.64 L1211.56 1455.28 L1203.25 1456.95 L1203.25 1452.69 L1211.52 1451.02 L1216.19 1451.02 L1216.19 1481.64 L1223.83 1481.64 L1223.83 1485.58 L1203.92 1485.58 L1203.92 1481.64 Z\" fill=\"#000000\" fill-rule=\"nonzero\" fill-opacity=\"1\" /><path clip-path=\"url(#clip960)\" d=\"M1243.28 1454.1 Q1239.67 1454.1 1237.84 1457.66 Q1236.03 1461.2 1236.03 1468.33 Q1236.03 1475.44 1237.84 1479.01 Q1239.67 1482.55 1243.28 1482.55 Q1246.91 1482.55 1248.72 1479.01 Q1250.54 1475.44 1250.54 1468.33 Q1250.54 1461.2 1248.72 1457.66 Q1246.91 1454.1 1243.28 1454.1 M1243.28 1450.39 Q1249.09 1450.39 1252.14 1455 Q1255.22 1459.58 1255.22 1468.33 Q1255.22 1477.06 1252.14 1481.67 Q1249.09 1486.25 1243.28 1486.25 Q1237.47 1486.25 1234.39 1481.67 Q1231.33 1477.06 1231.33 1468.33 Q1231.33 1459.58 1234.39 1455 Q1237.47 1450.39 1243.28 1450.39 Z\" fill=\"#000000\" fill-rule=\"nonzero\" fill-opacity=\"1\" /><path clip-path=\"url(#clip960)\" d=\"M1273.44 1454.1 Q1269.83 1454.1 1268 1457.66 Q1266.19 1461.2 1266.19 1468.33 Q1266.19 1475.44 1268 1479.01 Q1269.83 1482.55 1273.44 1482.55 Q1277.07 1482.55 1278.88 1479.01 Q1280.71 1475.44 1280.71 1468.33 Q1280.71 1461.2 1278.88 1457.66 Q1277.07 1454.1 1273.44 1454.1 M1273.44 1450.39 Q1279.25 1450.39 1282.3 1455 Q1285.38 1459.58 1285.38 1468.33 Q1285.38 1477.06 1282.3 1481.67 Q1279.25 1486.25 1273.44 1486.25 Q1267.63 1486.25 1264.55 1481.67 Q1261.49 1477.06 1261.49 1468.33 Q1261.49 1459.58 1264.55 1455 Q1267.63 1450.39 1273.44 1450.39 Z\" fill=\"#000000\" fill-rule=\"nonzero\" fill-opacity=\"1\" /><path clip-path=\"url(#clip960)\" d=\"M1721.89 1481.64 L1729.53 1481.64 L1729.53 1455.28 L1721.21 1456.95 L1721.21 1452.69 L1729.48 1451.02 L1734.15 1451.02 L1734.15 1481.64 L1741.79 1481.64 L1741.79 1485.58 L1721.89 1485.58 L1721.89 1481.64 Z\" fill=\"#000000\" fill-rule=\"nonzero\" fill-opacity=\"1\" /><path clip-path=\"url(#clip960)\" d=\"M1751.28 1451.02 L1769.64 1451.02 L1769.64 1454.96 L1755.57 1454.96 L1755.57 1463.43 Q1756.59 1463.08 1757.6 1462.92 Q1758.62 1462.73 1759.64 1462.73 Q1765.43 1462.73 1768.81 1465.9 Q1772.19 1469.08 1772.19 1474.49 Q1772.19 1480.07 1768.71 1483.17 Q1765.24 1486.25 1758.92 1486.25 Q1756.75 1486.25 1754.48 1485.88 Q1752.23 1485.51 1749.83 1484.77 L1749.83 1480.07 Q1751.91 1481.2 1754.13 1481.76 Q1756.35 1482.32 1758.83 1482.32 Q1762.84 1482.32 1765.17 1480.21 Q1767.51 1478.1 1767.51 1474.49 Q1767.51 1470.88 1765.17 1468.77 Q1762.84 1466.67 1758.83 1466.67 Q1756.96 1466.67 1755.08 1467.08 Q1753.23 1467.5 1751.28 1468.38 L1751.28 1451.02 Z\" fill=\"#000000\" fill-rule=\"nonzero\" fill-opacity=\"1\" /><path clip-path=\"url(#clip960)\" d=\"M1791.4 1454.1 Q1787.79 1454.1 1785.96 1457.66 Q1784.15 1461.2 1784.15 1468.33 Q1784.15 1475.44 1785.96 1479.01 Q1787.79 1482.55 1791.4 1482.55 Q1795.03 1482.55 1796.84 1479.01 Q1798.67 1475.44 1798.67 1468.33 Q1798.67 1461.2 1796.84 1457.66 Q1795.03 1454.1 1791.4 1454.1 M1791.4 1450.39 Q1797.21 1450.39 1800.27 1455 Q1803.34 1459.58 1803.34 1468.33 Q1803.34 1477.06 1800.27 1481.67 Q1797.21 1486.25 1791.4 1486.25 Q1785.59 1486.25 1782.51 1481.67 Q1779.46 1477.06 1779.46 1468.33 Q1779.46 1459.58 1782.51 1455 Q1785.59 1450.39 1791.4 1450.39 Z\" fill=\"#000000\" fill-rule=\"nonzero\" fill-opacity=\"1\" /><path clip-path=\"url(#clip960)\" d=\"M2243.93 1481.64 L2260.25 1481.64 L2260.25 1485.58 L2238.31 1485.58 L2238.31 1481.64 Q2240.97 1478.89 2245.55 1474.26 Q2250.16 1469.61 2251.34 1468.27 Q2253.59 1465.74 2254.47 1464.01 Q2255.37 1462.25 2255.37 1460.56 Q2255.37 1457.8 2253.42 1456.07 Q2251.5 1454.33 2248.4 1454.33 Q2246.2 1454.33 2243.75 1455.09 Q2241.32 1455.86 2238.54 1457.41 L2238.54 1452.69 Q2241.36 1451.55 2243.82 1450.97 Q2246.27 1450.39 2248.31 1450.39 Q2253.68 1450.39 2256.87 1453.08 Q2260.07 1455.77 2260.07 1460.26 Q2260.07 1462.39 2259.26 1464.31 Q2258.47 1466.2 2256.36 1468.8 Q2255.79 1469.47 2252.68 1472.69 Q2249.58 1475.88 2243.93 1481.64 Z\" fill=\"#000000\" fill-rule=\"nonzero\" fill-opacity=\"1\" /><path clip-path=\"url(#clip960)\" d=\"M2280.07 1454.1 Q2276.46 1454.1 2274.63 1457.66 Q2272.82 1461.2 2272.82 1468.33 Q2272.82 1475.44 2274.63 1479.01 Q2276.46 1482.55 2280.07 1482.55 Q2283.7 1482.55 2285.51 1479.01 Q2287.34 1475.44 2287.34 1468.33 Q2287.34 1461.2 2285.51 1457.66 Q2283.7 1454.1 2280.07 1454.1 M2280.07 1450.39 Q2285.88 1450.39 2288.93 1455 Q2292.01 1459.58 2292.01 1468.33 Q2292.01 1477.06 2288.93 1481.67 Q2285.88 1486.25 2280.07 1486.25 Q2274.26 1486.25 2271.18 1481.67 Q2268.12 1477.06 2268.12 1468.33 Q2268.12 1459.58 2271.18 1455 Q2274.26 1450.39 2280.07 1450.39 Z\" fill=\"#000000\" fill-rule=\"nonzero\" fill-opacity=\"1\" /><path clip-path=\"url(#clip960)\" d=\"M2310.23 1454.1 Q2306.62 1454.1 2304.79 1457.66 Q2302.98 1461.2 2302.98 1468.33 Q2302.98 1475.44 2304.79 1479.01 Q2306.62 1482.55 2310.23 1482.55 Q2313.86 1482.55 2315.67 1479.01 Q2317.5 1475.44 2317.5 1468.33 Q2317.5 1461.2 2315.67 1457.66 Q2313.86 1454.1 2310.23 1454.1 M2310.23 1450.39 Q2316.04 1450.39 2319.1 1455 Q2322.17 1459.58 2322.17 1468.33 Q2322.17 1477.06 2319.1 1481.67 Q2316.04 1486.25 2310.23 1486.25 Q2304.42 1486.25 2301.34 1481.67 Q2298.29 1477.06 2298.29 1468.33 Q2298.29 1459.58 2301.34 1455 Q2304.42 1450.39 2310.23 1450.39 Z\" fill=\"#000000\" fill-rule=\"nonzero\" fill-opacity=\"1\" /><path clip-path=\"url(#clip960)\" d=\"M1191.72 1522.27 L1191.72 1532.4 L1203.78 1532.4 L1203.78 1536.95 L1191.72 1536.95 L1191.72 1556.3 Q1191.72 1560.66 1192.9 1561.9 Q1194.11 1563.14 1197.77 1563.14 L1203.78 1563.14 L1203.78 1568.04 L1197.77 1568.04 Q1190.99 1568.04 1188.41 1565.53 Q1185.83 1562.98 1185.83 1556.3 L1185.83 1536.95 L1181.54 1536.95 L1181.54 1532.4 L1185.83 1532.4 L1185.83 1522.27 L1191.72 1522.27 Z\" fill=\"#000000\" fill-rule=\"nonzero\" fill-opacity=\"1\" /><path clip-path=\"url(#clip960)\" d=\"M1211.49 1532.4 L1217.34 1532.4 L1217.34 1568.04 L1211.49 1568.04 L1211.49 1532.4 M1211.49 1518.52 L1217.34 1518.52 L1217.34 1525.93 L1211.49 1525.93 L1211.49 1518.52 Z\" fill=\"#000000\" fill-rule=\"nonzero\" fill-opacity=\"1\" /><path clip-path=\"url(#clip960)\" d=\"M1255.25 1533.76 L1255.25 1539.24 Q1252.77 1537.87 1250.25 1537.2 Q1247.77 1536.5 1245.22 1536.5 Q1239.53 1536.5 1236.38 1540.13 Q1233.22 1543.73 1233.22 1550.25 Q1233.22 1556.78 1236.38 1560.4 Q1239.53 1564 1245.22 1564 Q1247.77 1564 1250.25 1563.33 Q1252.77 1562.63 1255.25 1561.26 L1255.25 1566.68 Q1252.8 1567.82 1250.16 1568.39 Q1247.55 1568.97 1244.59 1568.97 Q1236.53 1568.97 1231.79 1563.91 Q1227.05 1558.85 1227.05 1550.25 Q1227.05 1541.53 1231.82 1536.53 Q1236.63 1531.54 1244.97 1531.54 Q1247.67 1531.54 1250.25 1532.11 Q1252.83 1532.65 1255.25 1533.76 Z\" fill=\"#000000\" fill-rule=\"nonzero\" fill-opacity=\"1\" /><path clip-path=\"url(#clip960)\" d=\"M1265.21 1518.52 L1271.1 1518.52 L1271.1 1547.77 L1288.57 1532.4 L1296.05 1532.4 L1277.15 1549.07 L1296.85 1568.04 L1289.21 1568.04 L1271.1 1550.63 L1271.1 1568.04 L1265.21 1568.04 L1265.21 1518.52 Z\" fill=\"#000000\" fill-rule=\"nonzero\" fill-opacity=\"1\" /><path clip-path=\"url(#clip960)\" d=\"M1325.91 1533.45 L1325.91 1538.98 Q1323.43 1537.71 1320.75 1537.07 Q1318.08 1536.44 1315.21 1536.44 Q1310.85 1536.44 1308.66 1537.77 Q1306.49 1539.11 1306.49 1541.79 Q1306.49 1543.82 1308.05 1545 Q1309.61 1546.15 1314.32 1547.2 L1316.33 1547.64 Q1322.57 1548.98 1325.18 1551.43 Q1327.82 1553.85 1327.82 1558.21 Q1327.82 1563.17 1323.87 1566.07 Q1319.96 1568.97 1313.08 1568.97 Q1310.22 1568.97 1307.1 1568.39 Q1304.01 1567.85 1300.57 1566.74 L1300.57 1560.69 Q1303.82 1562.38 1306.97 1563.24 Q1310.12 1564.07 1313.21 1564.07 Q1317.35 1564.07 1319.58 1562.66 Q1321.8 1561.23 1321.8 1558.65 Q1321.8 1556.27 1320.18 1554.99 Q1318.59 1553.72 1313.15 1552.54 L1311.11 1552.07 Q1305.67 1550.92 1303.25 1548.56 Q1300.83 1546.18 1300.83 1542.04 Q1300.83 1537.01 1304.39 1534.27 Q1307.96 1531.54 1314.51 1531.54 Q1317.76 1531.54 1320.63 1532.01 Q1323.49 1532.49 1325.91 1533.45 Z\" fill=\"#000000\" fill-rule=\"nonzero\" fill-opacity=\"1\" /><polyline clip-path=\"url(#clip962)\" style=\"stroke:#000000; stroke-linecap:round; stroke-linejoin:round; stroke-width:2; stroke-opacity:0.1; fill:none\" points=\"156.598,1279.28 2352.76,1279.28 \"/>\n",
       "<polyline clip-path=\"url(#clip962)\" style=\"stroke:#000000; stroke-linecap:round; stroke-linejoin:round; stroke-width:2; stroke-opacity:0.1; fill:none\" points=\"156.598,1046.04 2352.76,1046.04 \"/>\n",
       "<polyline clip-path=\"url(#clip962)\" style=\"stroke:#000000; stroke-linecap:round; stroke-linejoin:round; stroke-width:2; stroke-opacity:0.1; fill:none\" points=\"156.598,812.798 2352.76,812.798 \"/>\n",
       "<polyline clip-path=\"url(#clip962)\" style=\"stroke:#000000; stroke-linecap:round; stroke-linejoin:round; stroke-width:2; stroke-opacity:0.1; fill:none\" points=\"156.598,579.557 2352.76,579.557 \"/>\n",
       "<polyline clip-path=\"url(#clip962)\" style=\"stroke:#000000; stroke-linecap:round; stroke-linejoin:round; stroke-width:2; stroke-opacity:0.1; fill:none\" points=\"156.598,346.316 2352.76,346.316 \"/>\n",
       "<polyline clip-path=\"url(#clip962)\" style=\"stroke:#000000; stroke-linecap:round; stroke-linejoin:round; stroke-width:2; stroke-opacity:0.1; fill:none\" points=\"156.598,113.076 2352.76,113.076 \"/>\n",
       "<polyline clip-path=\"url(#clip960)\" style=\"stroke:#000000; stroke-linecap:round; stroke-linejoin:round; stroke-width:4; stroke-opacity:1; fill:none\" points=\"156.598,1423.18 156.598,47.2441 \"/>\n",
       "<polyline clip-path=\"url(#clip960)\" style=\"stroke:#000000; stroke-linecap:round; stroke-linejoin:round; stroke-width:4; stroke-opacity:1; fill:none\" points=\"156.598,1279.28 175.496,1279.28 \"/>\n",
       "<polyline clip-path=\"url(#clip960)\" style=\"stroke:#000000; stroke-linecap:round; stroke-linejoin:round; stroke-width:4; stroke-opacity:1; fill:none\" points=\"156.598,1046.04 175.496,1046.04 \"/>\n",
       "<polyline clip-path=\"url(#clip960)\" style=\"stroke:#000000; stroke-linecap:round; stroke-linejoin:round; stroke-width:4; stroke-opacity:1; fill:none\" points=\"156.598,812.798 175.496,812.798 \"/>\n",
       "<polyline clip-path=\"url(#clip960)\" style=\"stroke:#000000; stroke-linecap:round; stroke-linejoin:round; stroke-width:4; stroke-opacity:1; fill:none\" points=\"156.598,579.557 175.496,579.557 \"/>\n",
       "<polyline clip-path=\"url(#clip960)\" style=\"stroke:#000000; stroke-linecap:round; stroke-linejoin:round; stroke-width:4; stroke-opacity:1; fill:none\" points=\"156.598,346.316 175.496,346.316 \"/>\n",
       "<polyline clip-path=\"url(#clip960)\" style=\"stroke:#000000; stroke-linecap:round; stroke-linejoin:round; stroke-width:4; stroke-opacity:1; fill:none\" points=\"156.598,113.076 175.496,113.076 \"/>\n",
       "<path clip-path=\"url(#clip960)\" d=\"M64.6495 1265.08 Q61.0384 1265.08 59.2097 1268.64 Q57.4041 1272.19 57.4041 1279.31 Q57.4041 1286.42 59.2097 1289.99 Q61.0384 1293.53 64.6495 1293.53 Q68.2837 1293.53 70.0892 1289.99 Q71.9179 1286.42 71.9179 1279.31 Q71.9179 1272.19 70.0892 1268.64 Q68.2837 1265.08 64.6495 1265.08 M64.6495 1261.37 Q70.4596 1261.37 73.5152 1265.98 Q76.5938 1270.56 76.5938 1279.31 Q76.5938 1288.04 73.5152 1292.65 Q70.4596 1297.23 64.6495 1297.23 Q58.8393 1297.23 55.7606 1292.65 Q52.7051 1288.04 52.7051 1279.31 Q52.7051 1270.56 55.7606 1265.98 Q58.8393 1261.37 64.6495 1261.37 Z\" fill=\"#000000\" fill-rule=\"nonzero\" fill-opacity=\"1\" /><path clip-path=\"url(#clip960)\" d=\"M84.8114 1290.68 L89.6956 1290.68 L89.6956 1296.56 L84.8114 1296.56 L84.8114 1290.68 Z\" fill=\"#000000\" fill-rule=\"nonzero\" fill-opacity=\"1\" /><path clip-path=\"url(#clip960)\" d=\"M100.691 1292.62 L108.33 1292.62 L108.33 1266.26 L100.02 1267.93 L100.02 1263.67 L108.283 1262 L112.959 1262 L112.959 1292.62 L120.598 1292.62 L120.598 1296.56 L100.691 1296.56 L100.691 1292.62 Z\" fill=\"#000000\" fill-rule=\"nonzero\" fill-opacity=\"1\" /><path clip-path=\"url(#clip960)\" d=\"M65.0198 1031.84 Q61.4087 1031.84 59.58 1035.4 Q57.7745 1038.94 57.7745 1046.07 Q57.7745 1053.18 59.58 1056.74 Q61.4087 1060.29 65.0198 1060.29 Q68.6541 1060.29 70.4596 1056.74 Q72.2883 1053.18 72.2883 1046.07 Q72.2883 1038.94 70.4596 1035.4 Q68.6541 1031.84 65.0198 1031.84 M65.0198 1028.13 Q70.83 1028.13 73.8855 1032.74 Q76.9642 1037.32 76.9642 1046.07 Q76.9642 1054.8 73.8855 1059.41 Q70.83 1063.99 65.0198 1063.99 Q59.2097 1063.99 56.131 1059.41 Q53.0754 1054.8 53.0754 1046.07 Q53.0754 1037.32 56.131 1032.74 Q59.2097 1028.13 65.0198 1028.13 Z\" fill=\"#000000\" fill-rule=\"nonzero\" fill-opacity=\"1\" /><path clip-path=\"url(#clip960)\" d=\"M85.1818 1057.44 L90.066 1057.44 L90.066 1063.32 L85.1818 1063.32 L85.1818 1057.44 Z\" fill=\"#000000\" fill-rule=\"nonzero\" fill-opacity=\"1\" /><path clip-path=\"url(#clip960)\" d=\"M104.279 1059.38 L120.598 1059.38 L120.598 1063.32 L98.6539 1063.32 L98.6539 1059.38 Q101.316 1056.63 105.899 1052 Q110.506 1047.35 111.686 1046 Q113.932 1043.48 114.811 1041.75 Q115.714 1039.99 115.714 1038.3 Q115.714 1035.54 113.77 1033.81 Q111.848 1032.07 108.746 1032.07 Q106.547 1032.07 104.094 1032.83 Q101.663 1033.6 98.8854 1035.15 L98.8854 1030.43 Q101.709 1029.29 104.163 1028.71 Q106.617 1028.13 108.654 1028.13 Q114.024 1028.13 117.219 1030.82 Q120.413 1033.5 120.413 1038 Q120.413 1040.12 119.603 1042.05 Q118.816 1043.94 116.709 1046.54 Q116.131 1047.21 113.029 1050.43 Q109.927 1053.62 104.279 1059.38 Z\" fill=\"#000000\" fill-rule=\"nonzero\" fill-opacity=\"1\" /><path clip-path=\"url(#clip960)\" d=\"M64.0708 798.597 Q60.4597 798.597 58.631 802.162 Q56.8254 805.703 56.8254 812.833 Q56.8254 819.939 58.631 823.504 Q60.4597 827.046 64.0708 827.046 Q67.705 827.046 69.5105 823.504 Q71.3392 819.939 71.3392 812.833 Q71.3392 805.703 69.5105 802.162 Q67.705 798.597 64.0708 798.597 M64.0708 794.893 Q69.8809 794.893 72.9365 799.5 Q76.0151 804.083 76.0151 812.833 Q76.0151 821.56 72.9365 826.166 Q69.8809 830.749 64.0708 830.749 Q58.2606 830.749 55.1819 826.166 Q52.1264 821.56 52.1264 812.833 Q52.1264 804.083 55.1819 799.5 Q58.2606 794.893 64.0708 794.893 Z\" fill=\"#000000\" fill-rule=\"nonzero\" fill-opacity=\"1\" /><path clip-path=\"url(#clip960)\" d=\"M84.2327 824.199 L89.1169 824.199 L89.1169 830.078 L84.2327 830.078 L84.2327 824.199 Z\" fill=\"#000000\" fill-rule=\"nonzero\" fill-opacity=\"1\" /><path clip-path=\"url(#clip960)\" d=\"M113.469 811.444 Q116.825 812.162 118.7 814.43 Q120.598 816.699 120.598 820.032 Q120.598 825.148 117.08 827.949 Q113.561 830.749 107.08 830.749 Q104.904 830.749 102.589 830.31 Q100.297 829.893 97.8437 829.036 L97.8437 824.523 Q99.7882 825.657 102.103 826.236 Q104.418 826.814 106.941 826.814 Q111.339 826.814 113.631 825.078 Q115.945 823.342 115.945 820.032 Q115.945 816.976 113.793 815.263 Q111.663 813.527 107.844 813.527 L103.816 813.527 L103.816 809.685 L108.029 809.685 Q111.478 809.685 113.307 808.319 Q115.135 806.93 115.135 804.338 Q115.135 801.676 113.237 800.263 Q111.362 798.828 107.844 798.828 Q105.922 798.828 103.723 799.245 Q101.524 799.662 98.8854 800.541 L98.8854 796.375 Q101.547 795.634 103.862 795.264 Q106.2 794.893 108.26 794.893 Q113.584 794.893 116.686 797.324 Q119.788 799.731 119.788 803.851 Q119.788 806.722 118.145 808.713 Q116.501 810.68 113.469 811.444 Z\" fill=\"#000000\" fill-rule=\"nonzero\" fill-opacity=\"1\" /><path clip-path=\"url(#clip960)\" d=\"M62.9365 565.356 Q59.3254 565.356 57.4967 568.921 Q55.6912 572.462 55.6912 579.592 Q55.6912 586.698 57.4967 590.263 Q59.3254 593.805 62.9365 593.805 Q66.5707 593.805 68.3763 590.263 Q70.205 586.698 70.205 579.592 Q70.205 572.462 68.3763 568.921 Q66.5707 565.356 62.9365 565.356 M62.9365 561.652 Q68.7467 561.652 71.8022 566.259 Q74.8809 570.842 74.8809 579.592 Q74.8809 588.319 71.8022 592.925 Q68.7467 597.509 62.9365 597.509 Q57.1264 597.509 54.0477 592.925 Q50.9921 588.319 50.9921 579.592 Q50.9921 570.842 54.0477 566.259 Q57.1264 561.652 62.9365 561.652 Z\" fill=\"#000000\" fill-rule=\"nonzero\" fill-opacity=\"1\" /><path clip-path=\"url(#clip960)\" d=\"M83.0984 590.958 L87.9827 590.958 L87.9827 596.837 L83.0984 596.837 L83.0984 590.958 Z\" fill=\"#000000\" fill-rule=\"nonzero\" fill-opacity=\"1\" /><path clip-path=\"url(#clip960)\" d=\"M111.015 566.351 L99.2095 584.8 L111.015 584.8 L111.015 566.351 M109.788 562.277 L115.668 562.277 L115.668 584.8 L120.598 584.8 L120.598 588.689 L115.668 588.689 L115.668 596.837 L111.015 596.837 L111.015 588.689 L95.4132 588.689 L95.4132 584.175 L109.788 562.277 Z\" fill=\"#000000\" fill-rule=\"nonzero\" fill-opacity=\"1\" /><path clip-path=\"url(#clip960)\" d=\"M64.418 332.115 Q60.8069 332.115 58.9782 335.68 Q57.1726 339.222 57.1726 346.351 Q57.1726 353.458 58.9782 357.022 Q60.8069 360.564 64.418 360.564 Q68.0522 360.564 69.8578 357.022 Q71.6865 353.458 71.6865 346.351 Q71.6865 339.222 69.8578 335.68 Q68.0522 332.115 64.418 332.115 M64.418 328.411 Q70.2281 328.411 73.2837 333.018 Q76.3624 337.601 76.3624 346.351 Q76.3624 355.078 73.2837 359.684 Q70.2281 364.268 64.418 364.268 Q58.6078 364.268 55.5291 359.684 Q52.4736 355.078 52.4736 346.351 Q52.4736 337.601 55.5291 333.018 Q58.6078 328.411 64.418 328.411 Z\" fill=\"#000000\" fill-rule=\"nonzero\" fill-opacity=\"1\" /><path clip-path=\"url(#clip960)\" d=\"M84.5799 357.717 L89.4641 357.717 L89.4641 363.596 L84.5799 363.596 L84.5799 357.717 Z\" fill=\"#000000\" fill-rule=\"nonzero\" fill-opacity=\"1\" /><path clip-path=\"url(#clip960)\" d=\"M99.6956 329.036 L118.052 329.036 L118.052 332.972 L103.978 332.972 L103.978 341.444 Q104.996 341.097 106.015 340.934 Q107.033 340.749 108.052 340.749 Q113.839 340.749 117.219 343.921 Q120.598 347.092 120.598 352.508 Q120.598 358.087 117.126 361.189 Q113.654 364.268 107.334 364.268 Q105.159 364.268 102.89 363.897 Q100.645 363.527 98.2372 362.786 L98.2372 358.087 Q100.321 359.221 102.543 359.777 Q104.765 360.333 107.242 360.333 Q111.246 360.333 113.584 358.226 Q115.922 356.12 115.922 352.508 Q115.922 348.897 113.584 346.791 Q111.246 344.684 107.242 344.684 Q105.367 344.684 103.492 345.101 Q101.64 345.518 99.6956 346.397 L99.6956 329.036 Z\" fill=\"#000000\" fill-rule=\"nonzero\" fill-opacity=\"1\" /><path clip-path=\"url(#clip960)\" d=\"M63.2606 98.8742 Q59.6495 98.8742 57.8208 102.439 Q56.0152 105.981 56.0152 113.11 Q56.0152 120.217 57.8208 123.781 Q59.6495 127.323 63.2606 127.323 Q66.8948 127.323 68.7004 123.781 Q70.5291 120.217 70.5291 113.11 Q70.5291 105.981 68.7004 102.439 Q66.8948 98.8742 63.2606 98.8742 M63.2606 95.1705 Q69.0707 95.1705 72.1263 99.777 Q75.205 104.36 75.205 113.11 Q75.205 121.837 72.1263 126.444 Q69.0707 131.027 63.2606 131.027 Q57.4504 131.027 54.3717 126.444 Q51.3162 121.837 51.3162 113.11 Q51.3162 104.36 54.3717 99.777 Q57.4504 95.1705 63.2606 95.1705 Z\" fill=\"#000000\" fill-rule=\"nonzero\" fill-opacity=\"1\" /><path clip-path=\"url(#clip960)\" d=\"M83.4225 124.476 L88.3067 124.476 L88.3067 130.356 L83.4225 130.356 L83.4225 124.476 Z\" fill=\"#000000\" fill-rule=\"nonzero\" fill-opacity=\"1\" /><path clip-path=\"url(#clip960)\" d=\"M109.071 111.212 Q105.922 111.212 104.071 113.365 Q102.242 115.518 102.242 119.268 Q102.242 122.994 104.071 125.17 Q105.922 127.323 109.071 127.323 Q112.219 127.323 114.047 125.17 Q115.899 122.994 115.899 119.268 Q115.899 115.518 114.047 113.365 Q112.219 111.212 109.071 111.212 M118.353 96.5594 L118.353 100.819 Q116.594 99.9853 114.788 99.5455 Q113.006 99.1057 111.246 99.1057 Q106.617 99.1057 104.163 102.231 Q101.733 105.356 101.385 111.675 Q102.751 109.661 104.811 108.596 Q106.871 107.508 109.348 107.508 Q114.557 107.508 117.566 110.68 Q120.598 113.828 120.598 119.268 Q120.598 124.592 117.45 127.809 Q114.302 131.027 109.071 131.027 Q103.075 131.027 99.9039 126.444 Q96.7326 121.837 96.7326 113.11 Q96.7326 104.916 100.621 100.055 Q104.51 95.1705 111.061 95.1705 Q112.82 95.1705 114.603 95.5177 Q116.408 95.865 118.353 96.5594 Z\" fill=\"#000000\" fill-rule=\"nonzero\" fill-opacity=\"1\" /><polyline clip-path=\"url(#clip962)\" style=\"stroke:#009af9; stroke-linecap:round; stroke-linejoin:round; stroke-width:4; stroke-opacity:1; fill:none\" points=\"218.754,1384.24 229.113,1232.31 239.472,1336.89 249.831,1243.85 260.191,1255.28 270.55,1197 280.909,1091.9 291.268,1010 301.628,1044.78 311.987,986.559 322.346,963.09 332.705,951.369 343.064,951.34 353.424,904.692 363.783,822.941 374.142,857.722 384.501,811.161 394.861,811.045 405.22,846.031 415.579,787.808 425.938,764.338 436.298,764.28 446.657,764.279 457.016,764.279 467.375,729.293 477.734,624.247 488.094,600.661 498.453,635.588 508.812,624.013 519.171,600.66 529.531,635.588 539.89,635.675 550.249,612.351 560.608,612.293 570.968,565.645 581.327,600.514 591.686,623.925 602.045,612.322 612.405,623.955 622.764,623.984 633.123,612.322 643.482,623.955 653.841,623.984 664.201,612.322 674.56,623.955 684.919,600.66 695.278,588.94 705.638,530.6 715.997,518.792 726.356,530.425 736.715,577.102 747.075,472.26 757.434,448.674 767.793,506.925 778.152,495.409 788.512,530.366 798.871,530.454 809.23,553.778 819.589,600.484 829.948,600.601 840.308,600.602 850.667,600.602 861.026,647.25 871.385,635.704 881.745,647.337 892.104,659.029 902.463,647.396 912.822,647.367 923.182,600.718 933.541,565.616 943.9,565.528 954.259,530.542 964.619,507.13 974.978,507.072 985.337,518.733 995.696,495.438 1006.06,495.38 1016.41,518.704 1026.77,507.1 1037.13,495.409 1047.49,483.718 1057.85,483.689 1068.21,460.365 1078.57,448.644 1088.93,436.953 1099.29,390.276 1109.65,355.173 1120.01,378.409 1130.37,390.129 1140.73,390.159 1151.08,390.159 1161.44,378.497 1171.8,378.467 1182.16,390.129 1192.52,355.172 1202.88,366.747 1213.24,331.79 1223.6,331.703 1233.96,343.364 1244.32,366.718 1254.68,343.452 1265.04,320.07 1275.4,296.687 1285.75,296.629 1296.11,261.642 1306.47,238.231 1316.83,249.834 1327.19,249.863 1337.55,214.877 1347.91,191.466 1358.27,179.745 1368.63,191.378 1378.99,156.421 1389.35,156.333 1399.71,144.671 1410.07,132.98 1420.42,121.289 1430.78,109.597 1441.14,109.568 1451.5,97.9061 1461.86,86.2149 1472.22,109.51 1482.58,109.568 1492.94,121.23 1503.3,109.597 1513.66,121.23 1524.02,121.259 1534.38,109.597 1544.74,121.23 1555.09,132.921 1565.45,156.275 1575.81,167.995 1586.17,156.362 1596.53,156.333 1606.89,167.995 1617.25,168.024 1627.61,179.687 1637.97,168.054 1648.33,144.7 1658.69,191.29 1669.05,179.745 1679.41,179.716 1689.76,144.73 1700.12,144.642 1710.48,144.642 1720.84,167.966 1731.2,179.686 1741.56,156.392 1751.92,133.009 1762.28,109.627 1772.64,121.23 1783,144.583 1793.36,132.98 1803.72,121.289 1814.08,132.922 1824.43,144.613 1834.79,156.304 1845.15,156.333 1855.51,156.333 1865.87,191.319 1876.23,168.083 1886.59,156.363 1896.95,167.995 1907.31,168.024 1917.67,144.7 1928.03,132.98 1938.39,132.951 1948.75,121.289 1959.11,132.922 1969.46,156.275 1979.82,156.333 1990.18,156.333 2000.54,156.333 2010.9,156.333 2021.26,144.671 2031.62,144.642 2041.98,156.304 2052.34,144.671 2062.7,132.98 2073.06,132.951 2083.42,144.613 2093.78,132.98 2104.13,167.937 2114.49,179.686 2124.85,179.716 2135.21,168.054 2145.57,168.025 2155.93,156.362 2166.29,144.671 2176.65,167.966 2187.01,144.7 2197.37,156.304 2207.73,133.009 2218.09,109.627 2228.45,97.9062 2238.8,86.2149 2249.16,109.51 2259.52,97.906 2269.88,97.8769 2280.24,86.2148 2290.6,86.1857 \"/>\n",
       "<path clip-path=\"url(#clip960)\" d=\"M1727.41 196.789 L2279.55 196.789 L2279.55 93.1086 L1727.41 93.1086  Z\" fill=\"#ffffff\" fill-rule=\"evenodd\" fill-opacity=\"1\"/>\n",
       "<polyline clip-path=\"url(#clip960)\" style=\"stroke:#000000; stroke-linecap:round; stroke-linejoin:round; stroke-width:4; stroke-opacity:1; fill:none\" points=\"1727.41,196.789 2279.55,196.789 2279.55,93.1086 1727.41,93.1086 1727.41,196.789 \"/>\n",
       "<polyline clip-path=\"url(#clip960)\" style=\"stroke:#009af9; stroke-linecap:round; stroke-linejoin:round; stroke-width:4; stroke-opacity:1; fill:none\" points=\"1751.82,144.949 1898.23,144.949 \"/>\n",
       "<path clip-path=\"url(#clip960)\" d=\"M1942.97 141.28 Q1944.57 138.409 1946.79 137.044 Q1949.02 135.678 1952.03 135.678 Q1956.08 135.678 1958.28 138.525 Q1960.47 141.349 1960.47 146.581 L1960.47 162.229 L1956.19 162.229 L1956.19 146.719 Q1956.19 142.993 1954.87 141.187 Q1953.55 139.382 1950.84 139.382 Q1947.53 139.382 1945.61 141.581 Q1943.69 143.78 1943.69 147.576 L1943.69 162.229 L1939.41 162.229 L1939.41 146.719 Q1939.41 142.969 1938.09 141.187 Q1936.77 139.382 1934.02 139.382 Q1930.75 139.382 1928.83 141.604 Q1926.91 143.803 1926.91 147.576 L1926.91 162.229 L1922.63 162.229 L1922.63 136.303 L1926.91 136.303 L1926.91 140.331 Q1928.37 137.946 1930.41 136.812 Q1932.44 135.678 1935.24 135.678 Q1938.07 135.678 1940.03 137.113 Q1942.03 138.548 1942.97 141.28 Z\" fill=\"#000000\" fill-rule=\"nonzero\" fill-opacity=\"1\" /><path clip-path=\"url(#clip960)\" d=\"M1980.75 149.196 Q1975.59 149.196 1973.6 150.377 Q1971.61 151.557 1971.61 154.405 Q1971.61 156.673 1973.09 158.016 Q1974.59 159.335 1977.16 159.335 Q1980.71 159.335 1982.84 156.835 Q1984.99 154.312 1984.99 150.145 L1984.99 149.196 L1980.75 149.196 M1989.25 147.437 L1989.25 162.229 L1984.99 162.229 L1984.99 158.293 Q1983.53 160.655 1981.35 161.789 Q1979.18 162.9 1976.03 162.9 Q1972.05 162.9 1969.69 160.678 Q1967.35 158.432 1967.35 154.682 Q1967.35 150.307 1970.27 148.085 Q1973.21 145.863 1979.02 145.863 L1984.99 145.863 L1984.99 145.446 Q1984.99 142.507 1983.04 140.909 Q1981.12 139.289 1977.63 139.289 Q1975.41 139.289 1973.3 139.821 Q1971.19 140.354 1969.25 141.419 L1969.25 137.483 Q1971.59 136.581 1973.78 136.141 Q1975.98 135.678 1978.07 135.678 Q1983.69 135.678 1986.47 138.594 Q1989.25 141.511 1989.25 147.437 Z\" fill=\"#000000\" fill-rule=\"nonzero\" fill-opacity=\"1\" /><path clip-path=\"url(#clip960)\" d=\"M2015.08 148.965 Q2015.08 144.335 2013.16 141.789 Q2011.26 139.243 2007.81 139.243 Q2004.39 139.243 2002.47 141.789 Q2000.57 144.335 2000.57 148.965 Q2000.57 153.571 2002.47 156.118 Q2004.39 158.664 2007.81 158.664 Q2011.26 158.664 2013.16 156.118 Q2015.08 153.571 2015.08 148.965 M2019.34 159.011 Q2019.34 165.631 2016.4 168.849 Q2013.46 172.09 2007.4 172.09 Q2005.15 172.09 2003.16 171.742 Q2001.17 171.418 1999.29 170.724 L1999.29 166.58 Q2001.17 167.599 2003 168.085 Q2004.83 168.571 2006.72 168.571 Q2010.91 168.571 2013 166.372 Q2015.08 164.196 2015.08 159.775 L2015.08 157.668 Q2013.76 159.96 2011.7 161.094 Q2009.64 162.229 2006.77 162.229 Q2002 162.229 1999.09 158.594 Q1996.17 154.96 1996.17 148.965 Q1996.17 142.946 1999.09 139.312 Q2002 135.678 2006.77 135.678 Q2009.64 135.678 2011.7 136.812 Q2013.76 137.946 2015.08 140.238 L2015.08 136.303 L2019.34 136.303 L2019.34 159.011 Z\" fill=\"#000000\" fill-rule=\"nonzero\" fill-opacity=\"1\" /><path clip-path=\"url(#clip960)\" d=\"M2049.66 146.581 L2049.66 162.229 L2045.4 162.229 L2045.4 146.719 Q2045.4 143.039 2043.97 141.21 Q2042.53 139.382 2039.66 139.382 Q2036.21 139.382 2034.22 141.581 Q2032.23 143.78 2032.23 147.576 L2032.23 162.229 L2027.95 162.229 L2027.95 136.303 L2032.23 136.303 L2032.23 140.331 Q2033.76 137.993 2035.82 136.835 Q2037.9 135.678 2040.61 135.678 Q2045.08 135.678 2047.37 138.456 Q2049.66 141.21 2049.66 146.581 Z\" fill=\"#000000\" fill-rule=\"nonzero\" fill-opacity=\"1\" /><path clip-path=\"url(#clip960)\" d=\"M2080.34 148.201 L2080.34 150.284 L2060.75 150.284 Q2061.03 154.682 2063.39 156.997 Q2065.77 159.289 2070.01 159.289 Q2072.46 159.289 2074.76 158.687 Q2077.07 158.085 2079.34 156.881 L2079.34 160.909 Q2077.05 161.881 2074.64 162.391 Q2072.23 162.9 2069.76 162.9 Q2063.55 162.9 2059.92 159.289 Q2056.31 155.678 2056.31 149.52 Q2056.31 143.155 2059.73 139.428 Q2063.18 135.678 2069.02 135.678 Q2074.25 135.678 2077.28 139.057 Q2080.34 142.414 2080.34 148.201 M2076.08 146.951 Q2076.03 143.456 2074.11 141.372 Q2072.21 139.289 2069.06 139.289 Q2065.5 139.289 2063.34 141.303 Q2061.21 143.317 2060.89 146.974 L2076.08 146.951 Z\" fill=\"#000000\" fill-rule=\"nonzero\" fill-opacity=\"1\" /><path clip-path=\"url(#clip960)\" d=\"M2091.54 128.942 L2091.54 136.303 L2100.31 136.303 L2100.31 139.613 L2091.54 139.613 L2091.54 153.687 Q2091.54 156.858 2092.4 157.761 Q2093.27 158.664 2095.94 158.664 L2100.31 158.664 L2100.31 162.229 L2095.94 162.229 Q2091.01 162.229 2089.13 160.4 Q2087.26 158.548 2087.26 153.687 L2087.26 139.613 L2084.13 139.613 L2084.13 136.303 L2087.26 136.303 L2087.26 128.942 L2091.54 128.942 Z\" fill=\"#000000\" fill-rule=\"nonzero\" fill-opacity=\"1\" /><path clip-path=\"url(#clip960)\" d=\"M2105.91 136.303 L2110.17 136.303 L2110.17 162.229 L2105.91 162.229 L2105.91 136.303 M2105.91 126.21 L2110.17 126.21 L2110.17 131.604 L2105.91 131.604 L2105.91 126.21 Z\" fill=\"#000000\" fill-rule=\"nonzero\" fill-opacity=\"1\" /><path clip-path=\"url(#clip960)\" d=\"M2135.61 137.067 L2135.61 141.094 Q2133.81 140.169 2131.86 139.706 Q2129.92 139.243 2127.83 139.243 Q2124.66 139.243 2123.07 140.215 Q2121.49 141.187 2121.49 143.131 Q2121.49 144.613 2122.63 145.469 Q2123.76 146.303 2127.19 147.067 L2128.64 147.391 Q2133.18 148.363 2135.08 150.145 Q2137 151.905 2137 155.076 Q2137 158.687 2134.13 160.793 Q2131.28 162.9 2126.28 162.9 Q2124.2 162.9 2121.93 162.483 Q2119.69 162.09 2117.19 161.28 L2117.19 156.881 Q2119.55 158.108 2121.84 158.733 Q2124.13 159.335 2126.38 159.335 Q2129.39 159.335 2131.01 158.317 Q2132.63 157.275 2132.63 155.4 Q2132.63 153.664 2131.45 152.738 Q2130.29 151.812 2126.33 150.956 L2124.85 150.608 Q2120.89 149.775 2119.13 148.062 Q2117.37 146.326 2117.37 143.317 Q2117.37 139.659 2119.96 137.669 Q2122.56 135.678 2127.33 135.678 Q2129.69 135.678 2131.77 136.025 Q2133.85 136.372 2135.61 137.067 Z\" fill=\"#000000\" fill-rule=\"nonzero\" fill-opacity=\"1\" /><path clip-path=\"url(#clip960)\" d=\"M2155.57 149.196 Q2150.4 149.196 2148.41 150.377 Q2146.42 151.557 2146.42 154.405 Q2146.42 156.673 2147.9 158.016 Q2149.41 159.335 2151.98 159.335 Q2155.52 159.335 2157.65 156.835 Q2159.8 154.312 2159.8 150.145 L2159.8 149.196 L2155.57 149.196 M2164.06 147.437 L2164.06 162.229 L2159.8 162.229 L2159.8 158.293 Q2158.34 160.655 2156.17 161.789 Q2153.99 162.9 2150.84 162.9 Q2146.86 162.9 2144.5 160.678 Q2142.16 158.432 2142.16 154.682 Q2142.16 150.307 2145.08 148.085 Q2148.02 145.863 2153.83 145.863 L2159.8 145.863 L2159.8 145.446 Q2159.8 142.507 2157.86 140.909 Q2155.94 139.289 2152.44 139.289 Q2150.22 139.289 2148.11 139.821 Q2146.01 140.354 2144.06 141.419 L2144.06 137.483 Q2146.4 136.581 2148.6 136.141 Q2150.8 135.678 2152.88 135.678 Q2158.51 135.678 2161.28 138.594 Q2164.06 141.511 2164.06 147.437 Z\" fill=\"#000000\" fill-rule=\"nonzero\" fill-opacity=\"1\" /><path clip-path=\"url(#clip960)\" d=\"M2177.05 128.942 L2177.05 136.303 L2185.82 136.303 L2185.82 139.613 L2177.05 139.613 L2177.05 153.687 Q2177.05 156.858 2177.9 157.761 Q2178.78 158.664 2181.45 158.664 L2185.82 158.664 L2185.82 162.229 L2181.45 162.229 Q2176.52 162.229 2174.64 160.4 Q2172.77 158.548 2172.77 153.687 L2172.77 139.613 L2169.64 139.613 L2169.64 136.303 L2172.77 136.303 L2172.77 128.942 L2177.05 128.942 Z\" fill=\"#000000\" fill-rule=\"nonzero\" fill-opacity=\"1\" /><path clip-path=\"url(#clip960)\" d=\"M2191.42 136.303 L2195.68 136.303 L2195.68 162.229 L2191.42 162.229 L2191.42 136.303 M2191.42 126.21 L2195.68 126.21 L2195.68 131.604 L2191.42 131.604 L2191.42 126.21 Z\" fill=\"#000000\" fill-rule=\"nonzero\" fill-opacity=\"1\" /><path clip-path=\"url(#clip960)\" d=\"M2214.64 139.289 Q2211.21 139.289 2209.22 141.974 Q2207.23 144.636 2207.23 149.289 Q2207.23 153.942 2209.2 156.627 Q2211.19 159.289 2214.64 159.289 Q2218.04 159.289 2220.03 156.604 Q2222.02 153.918 2222.02 149.289 Q2222.02 144.682 2220.03 141.997 Q2218.04 139.289 2214.64 139.289 M2214.64 135.678 Q2220.2 135.678 2223.37 139.289 Q2226.54 142.9 2226.54 149.289 Q2226.54 155.655 2223.37 159.289 Q2220.2 162.9 2214.64 162.9 Q2209.06 162.9 2205.89 159.289 Q2202.74 155.655 2202.74 149.289 Q2202.74 142.9 2205.89 139.289 Q2209.06 135.678 2214.64 135.678 Z\" fill=\"#000000\" fill-rule=\"nonzero\" fill-opacity=\"1\" /><path clip-path=\"url(#clip960)\" d=\"M2255.15 146.581 L2255.15 162.229 L2250.89 162.229 L2250.89 146.719 Q2250.89 143.039 2249.45 141.21 Q2248.02 139.382 2245.15 139.382 Q2241.7 139.382 2239.71 141.581 Q2237.72 143.78 2237.72 147.576 L2237.72 162.229 L2233.44 162.229 L2233.44 136.303 L2237.72 136.303 L2237.72 140.331 Q2239.25 137.993 2241.31 136.835 Q2243.39 135.678 2246.1 135.678 Q2250.57 135.678 2252.86 138.456 Q2255.15 141.21 2255.15 146.581 Z\" fill=\"#000000\" fill-rule=\"nonzero\" fill-opacity=\"1\" /></svg>\n"
      ],
      "text/html": [
       "<img src=\"data:image/png;base64,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\" />"
      ]
     },
     "metadata": {},
     "output_type": "display_data"
    },
    {
     "data": {
      "text/html": [
       "<div><div style = \"float: left;\"><span>201×1 DataFrame</span></div><div style = \"float: right;\"><span style = \"font-style: italic;\">176 rows omitted</span></div><div style = \"clear: both;\"></div></div><div class = \"data-frame\" style = \"overflow-x: scroll;\"><table class = \"data-frame\" style = \"margin-bottom: 6px;\"><thead><tr class = \"header\"><th class = \"rowNumber\" style = \"font-weight: bold; text-align: right;\">Row</th><th style = \"text-align: left;\">magnetisation</th></tr><tr class = \"subheader headerLastRow\"><th class = \"rowNumber\" style = \"font-weight: bold; text-align: right;\"></th><th title = \"Float64\" style = \"text-align: left;\">Float64</th></tr></thead><tbody><tr><td class = \"rowNumber\" style = \"font-weight: bold; text-align: right;\">1</td><td style = \"text-align: right;\">0.055</td></tr><tr><td class = \"rowNumber\" style = \"font-weight: bold; text-align: right;\">2</td><td style = \"text-align: right;\">0.120137</td></tr><tr><td class = \"rowNumber\" style = \"font-weight: bold; text-align: right;\">3</td><td style = \"text-align: right;\">0.0753003</td></tr><tr><td class = \"rowNumber\" style = \"font-weight: bold; text-align: right;\">4</td><td style = \"text-align: right;\">0.115188</td></tr><tr><td class = \"rowNumber\" style = \"font-weight: bold; text-align: right;\">5</td><td style = \"text-align: right;\">0.110288</td></tr><tr><td class = \"rowNumber\" style = \"font-weight: bold; text-align: right;\">6</td><td style = \"text-align: right;\">0.135276</td></tr><tr><td class = \"rowNumber\" style = \"font-weight: bold; text-align: right;\">7</td><td style = \"text-align: right;\">0.180338</td></tr><tr><td class = \"rowNumber\" style = \"font-weight: bold; text-align: right;\">8</td><td style = \"text-align: right;\">0.215451</td></tr><tr><td class = \"rowNumber\" style = \"font-weight: bold; text-align: right;\">9</td><td style = \"text-align: right;\">0.200539</td></tr><tr><td class = \"rowNumber\" style = \"font-weight: bold; text-align: right;\">10</td><td style = \"text-align: right;\">0.225501</td></tr><tr><td class = \"rowNumber\" style = \"font-weight: bold; text-align: right;\">11</td><td style = \"text-align: right;\">0.235564</td></tr><tr><td class = \"rowNumber\" style = \"font-weight: bold; text-align: right;\">12</td><td style = \"text-align: right;\">0.240589</td></tr><tr><td class = \"rowNumber\" style = \"font-weight: bold; text-align: right;\">13</td><td style = \"text-align: right;\">0.240601</td></tr><tr><td style = \"text-align: right;\">&vellip;</td><td style = \"text-align: right;\">&vellip;</td></tr><tr><td class = \"rowNumber\" style = \"font-weight: bold; text-align: right;\">190</td><td style = \"text-align: right;\">0.576466</td></tr><tr><td class = \"rowNumber\" style = \"font-weight: bold; text-align: right;\">191</td><td style = \"text-align: right;\">0.586441</td></tr><tr><td class = \"rowNumber\" style = \"font-weight: bold; text-align: right;\">192</td><td style = \"text-align: right;\">0.581466</td></tr><tr><td class = \"rowNumber\" style = \"font-weight: bold; text-align: right;\">193</td><td style = \"text-align: right;\">0.591454</td></tr><tr><td class = \"rowNumber\" style = \"font-weight: bold; text-align: right;\">194</td><td style = \"text-align: right;\">0.601479</td></tr><tr><td class = \"rowNumber\" style = \"font-weight: bold; text-align: right;\">195</td><td style = \"text-align: right;\">0.606504</td></tr><tr><td class = \"rowNumber\" style = \"font-weight: bold; text-align: right;\">196</td><td style = \"text-align: right;\">0.611516</td></tr><tr><td class = \"rowNumber\" style = \"font-weight: bold; text-align: right;\">197</td><td style = \"text-align: right;\">0.601529</td></tr><tr><td class = \"rowNumber\" style = \"font-weight: bold; text-align: right;\">198</td><td style = \"text-align: right;\">0.606504</td></tr><tr><td class = \"rowNumber\" style = \"font-weight: bold; text-align: right;\">199</td><td style = \"text-align: right;\">0.606516</td></tr><tr><td class = \"rowNumber\" style = \"font-weight: bold; text-align: right;\">200</td><td style = \"text-align: right;\">0.611516</td></tr><tr><td class = \"rowNumber\" style = \"font-weight: bold; text-align: right;\">201</td><td style = \"text-align: right;\">0.611529</td></tr></tbody></table></div>"
      ],
      "text/latex": [
       "\\begin{tabular}{r|c}\n",
       "\t& magnetisation\\\\\n",
       "\t\\hline\n",
       "\t& Float64\\\\\n",
       "\t\\hline\n",
       "\t1 & 0.055 \\\\\n",
       "\t2 & 0.120137 \\\\\n",
       "\t3 & 0.0753003 \\\\\n",
       "\t4 & 0.115188 \\\\\n",
       "\t5 & 0.110288 \\\\\n",
       "\t6 & 0.135276 \\\\\n",
       "\t7 & 0.180338 \\\\\n",
       "\t8 & 0.215451 \\\\\n",
       "\t9 & 0.200539 \\\\\n",
       "\t10 & 0.225501 \\\\\n",
       "\t11 & 0.235564 \\\\\n",
       "\t12 & 0.240589 \\\\\n",
       "\t13 & 0.240601 \\\\\n",
       "\t14 & 0.260602 \\\\\n",
       "\t15 & 0.295652 \\\\\n",
       "\t16 & 0.280739 \\\\\n",
       "\t17 & 0.300702 \\\\\n",
       "\t18 & 0.300752 \\\\\n",
       "\t19 & 0.285752 \\\\\n",
       "\t20 & 0.310714 \\\\\n",
       "\t21 & 0.320777 \\\\\n",
       "\t22 & 0.320802 \\\\\n",
       "\t23 & 0.320802 \\\\\n",
       "\t24 & 0.320802 \\\\\n",
       "\t25 & 0.335802 \\\\\n",
       "\t26 & 0.38084 \\\\\n",
       "\t27 & 0.390952 \\\\\n",
       "\t28 & 0.375977 \\\\\n",
       "\t29 & 0.38094 \\\\\n",
       "\t30 & 0.390952 \\\\\n",
       "\t$\\dots$ & $\\dots$ \\\\\n",
       "\\end{tabular}\n"
      ],
      "text/plain": [
       "\u001b[1m201×1 DataFrame\u001b[0m\n",
       "\u001b[1m Row \u001b[0m│\u001b[1m magnetisation \u001b[0m\n",
       "     │\u001b[90m Float64       \u001b[0m\n",
       "─────┼───────────────\n",
       "   1 │     0.055\n",
       "   2 │     0.120137\n",
       "   3 │     0.0753003\n",
       "   4 │     0.115188\n",
       "   5 │     0.110288\n",
       "   6 │     0.135276\n",
       "   7 │     0.180338\n",
       "   8 │     0.215451\n",
       "   9 │     0.200539\n",
       "  10 │     0.225501\n",
       "  11 │     0.235564\n",
       "  ⋮  │       ⋮\n",
       " 192 │     0.581466\n",
       " 193 │     0.591454\n",
       " 194 │     0.601479\n",
       " 195 │     0.606504\n",
       " 196 │     0.611516\n",
       " 197 │     0.601529\n",
       " 198 │     0.606504\n",
       " 199 │     0.606516\n",
       " 200 │     0.611516\n",
       " 201 │     0.611529\n",
       "\u001b[36m     180 rows omitted\u001b[0m"
      ]
     },
     "execution_count": 12,
     "metadata": {},
     "output_type": "execute_result"
    }
   ],
   "source": [
    "df = get_nodes_avg_props(model, node -> node.spin, labels=[\"magnetisation\"], plot_result = true)"
   ]
  }
 ],
 "metadata": {
  "@webio": {
   "lastCommId": "0b755a828d9b40308b80e4dbf11c479c",
   "lastKernelId": "8f9bcdf1-72eb-4706-8a27-2314577e92d5"
  },
  "kernelspec": {
   "display_name": "Julia 1.9.2",
   "language": "julia",
   "name": "julia-1.9"
  },
  "language_info": {
   "file_extension": ".jl",
   "mimetype": "application/julia",
   "name": "julia",
   "version": "1.9.2"
  }
 },
 "nbformat": 4,
 "nbformat_minor": 4
}
