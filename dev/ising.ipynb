{
 "cells": [
  {
   "cell_type": "markdown",
   "metadata": {},
   "source": [
    "# Ising model\n",
    "\n",
    "We use Ising model as an example of using Graph Models in EasyABM. We will set up and run Ising model on a grid graph, however one can choose graph of any other \n",
    "topology as well."
   ]
  },
  {
   "cell_type": "code",
   "execution_count": 1,
   "metadata": {},
   "outputs": [
    {
     "name": "stderr",
     "output_type": "stream",
     "text": [
      "\u001b[32m\u001b[1m  Activating\u001b[22m\u001b[39m project at `~/Documents/EasyABM`\n"
     ]
    },
    {
     "data": {
      "application/vnd.webio.node+json": {
       "children": [],
       "instanceArgs": {
        "namespace": "html",
        "tag": "div"
       },
       "nodeType": "DOM",
       "props": {},
       "type": "node"
      },
      "text/html": [
       "<div style=\"padding: 1em; background-color: #f8d6da; border: 1px solid #f5c6cb; font-weight: bold;\">\n",
       "<p>The WebIO Jupyter extension was not detected. See the\n",
       "<a href=\"https://juliagizmos.github.io/WebIO.jl/latest/providers/ijulia/\" target=\"_blank\">\n",
       "    WebIO Jupyter integration documentation\n",
       "</a>\n",
       "for more information.\n",
       "</div>\n"
      ],
      "text/plain": [
       "WebIO._IJuliaInit()"
      ]
     },
     "metadata": {
      "application/vnd.webio.node+json": {
       "kernelId": "4371e4c5-2ab1-4480-8eb7-9ded96901257"
      }
     },
     "output_type": "display_data"
    }
   ],
   "source": [
    "using Pkg, Revise\n",
    "Pkg.activate(joinpath(@__DIR__, \"../..\"))\n",
    "using EasyABM"
   ]
  },
  {
   "cell_type": "markdown",
   "metadata": {},
   "source": [
    "## Step 1: Create Model\n",
    "\n",
    "In this model we will work solely with the graph and won't require agents. We create a grid graph of size 20x20, and then create our graph model as follows. "
   ]
  },
  {
   "cell_type": "code",
   "execution_count": 2,
   "metadata": {},
   "outputs": [],
   "source": [
    "graph = square_grid_graph(20,20);"
   ]
  },
  {
   "cell_type": "code",
   "execution_count": 3,
   "metadata": {},
   "outputs": [
    {
     "data": {
      "text/plain": [
       "EasyABM GraphModel{EasyABM.StaticType, EasyABM.StaticType, EasyABM.SimGType}: In a {EasyABM.StaticType, EasyABM.StaticType} model both graph topology and agents number is fixed.\n"
      ]
     },
     "execution_count": 3,
     "metadata": {},
     "output_type": "execute_result"
    }
   ],
   "source": [
    "model = create_graph_model(graph, temp = 0.1, coupl = 1.0)"
   ]
  },
  {
   "cell_type": "markdown",
   "metadata": {},
   "source": [
    "The model has two properties temperature `temp` and coupling `coupl`. "
   ]
  },
  {
   "cell_type": "markdown",
   "metadata": {},
   "source": [
    "## Step 2: Initialise the model\n",
    "\n",
    "In the second step we initialise the nodes of the graph through `initialiser!` function and then sending it as an argument to `init_model!`. In the `initialiser!` function we randomly set each node's color to either `cl\"black\"` or `cl\"white\"` and set their spin values to +1 for `cl\"black\"` nodes and -1 for `cl\"white\"` nodes. In the `init_model!` function the argument `props_to_record` specifies the nodes properties which we want to record during model run. "
   ]
  },
  {
   "cell_type": "code",
   "execution_count": 4,
   "metadata": {},
   "outputs": [
    {
     "data": {
      "text/plain": [
       "initialiser! (generic function with 1 method)"
      ]
     },
     "execution_count": 4,
     "metadata": {},
     "output_type": "execute_result"
    }
   ],
   "source": [
    "function initialiser!(model)\n",
    "    for node in vertices(model.graph)\n",
    "        if rand()<0.5\n",
    "            model.graph.nodesprops[node].spin = 1\n",
    "            model.graph.nodesprops[node].color = cl\"black\"\n",
    "        else\n",
    "            model.graph.nodesprops[node].spin = -1\n",
    "            model.graph.nodesprops[node].color = cl\"white\"\n",
    "        end\n",
    "    end\n",
    "end\n",
    "  "
   ]
  },
  {
   "cell_type": "code",
   "execution_count": 5,
   "metadata": {},
   "outputs": [],
   "source": [
    "init_model!(model, initialiser=initialiser!, props_to_record = Dict(\"nodes\"=>Set([:color, :spin]))) "
   ]
  },
  {
   "cell_type": "markdown",
   "metadata": {},
   "source": [
    "## Step 3: Defining the step_rule! and running the model\n",
    "\n",
    "In this step we implement the step logic of the Ising model in the `step_rule!` function and run the model for 100 steps. At each step of the simulation we take \n",
    "100 Monte Carlo steps, where in each Monte Carlo step a node is selected at random and its spin and color values are flipped if the Ising energy condition is satisfied. "
   ]
  },
  {
   "cell_type": "code",
   "execution_count": 6,
   "metadata": {},
   "outputs": [
    {
     "data": {
      "text/plain": [
       "400"
      ]
     },
     "execution_count": 6,
     "metadata": {},
     "output_type": "execute_result"
    }
   ],
   "source": [
    "const nn = num_nodes(model)"
   ]
  },
  {
   "cell_type": "code",
   "execution_count": 7,
   "metadata": {},
   "outputs": [
    {
     "data": {
      "text/plain": [
       "step_rule! (generic function with 1 method)"
      ]
     },
     "execution_count": 7,
     "metadata": {},
     "output_type": "execute_result"
    }
   ],
   "source": [
    "function step_rule!(model)\n",
    "    for i in 1:100\n",
    "        random_node = rand(1:nn)\n",
    "        spin = model.graph.nodesprops[random_node].spin\n",
    "        nbr_nodes = neighbor_nodes(random_node, model)\n",
    "        de = 0.0\n",
    "        for node in nbr_nodes\n",
    "            nbr_spin = model.graph.nodesprops[node].spin\n",
    "            de += spin*nbr_spin\n",
    "        end\n",
    "        de = 2*model.properties.coupl * de\n",
    "        if (de < 0) || (rand() < exp(-de/model.properties.temp))\n",
    "            model.graph.nodesprops[random_node].spin = - spin\n",
    "            model.graph.nodesprops[random_node].color = spin == -1 ? cl\"black\" : cl\"white\"\n",
    "        end\n",
    "    end\n",
    "end"
   ]
  },
  {
   "cell_type": "code",
   "execution_count": 8,
   "metadata": {},
   "outputs": [],
   "source": [
    "run_model!(model, steps = 100, step_rule = step_rule!)"
   ]
  },
  {
   "cell_type": "markdown",
   "metadata": {},
   "source": [
    "## Step 4: Visualisation"
   ]
  },
  {
   "cell_type": "markdown",
   "metadata": {},
   "source": [
    "In order to draw the model at a specific frame, say 4th, one can do"
   ]
  },
  {
   "cell_type": "code",
   "execution_count": 9,
   "metadata": {
    "scrolled": true
   },
   "outputs": [
    {
     "data": {
      "image/png": "[encoded data removed]",
      "text/plain": []
     },
     "execution_count": 9,
     "metadata": {},
     "output_type": "execute_result"
    }
   ],
   "source": [
    "draw_frame(model, frame = 4)"
   ]
  },
  {
   "cell_type": "markdown",
   "metadata": {},
   "source": [
    " If one wants to see the animation of the model run, it can be done as "
   ]
  },
  {
   "cell_type": "code",
   "execution_count": 10,
   "metadata": {},
   "outputs": [
    {
     "data": {
      "application/vnd.webio.node+json": {
       "children": [
        {
         "children": [
          {
           "children": [
            {
             "children": [
              {
               "children": [
                {
                 "children": [
                  {
                   "children": [
                    {
                     "children": [
                      "time"
                     ],
                     "instanceArgs": {
                      "namespace": "html",
                      "tag": "label"
                     },
                     "nodeType": "DOM",
                     "props": {
                      "className": "interact ",
                      "style": {
                       "padding": "5px 10px 0px 10px"
                      }
                     },
                     "type": "node"
                    }
                   ],
                   "instanceArgs": {
                    "namespace": "html",
                    "tag": "div"
                   },
                   "nodeType": "DOM",
                   "props": {
                    "className": "interact-flex-row-left"
                   },
                   "type": "node"
                  },
                  {
                   "children": [
                    {
                     "children": [],
                     "instanceArgs": {
                      "namespace": "html",
                      "tag": "input"
                     },
                     "nodeType": "DOM",
                     "props": {
                      "attributes": {
                       "data-bind": "numericValue: index, valueUpdate: 'input', event: {change: function (){this.changes(this.changes()+1)}}",
                       "orient": "horizontal",
                       "type": "range"
                      },
                      "className": "slider slider is-fullwidth",
                      "max": 101,
                      "min": 1,
                      "step": 1,
                      "style": {}
                     },
                     "type": "node"
                    }
                   ],
                   "instanceArgs": {
                    "namespace": "html",
                    "tag": "div"
                   },
                   "nodeType": "DOM",
                   "props": {
                    "className": "interact-flex-row-center"
                   },
                   "type": "node"
                  },
                  {
                   "children": [
                    {
                     "children": [],
                     "instanceArgs": {
                      "namespace": "html",
                      "tag": "p"
                     },
                     "nodeType": "DOM",
                     "props": {
                      "attributes": {
                       "data-bind": "text: formatted_val"
                      }
                     },
                     "type": "node"
                    }
                   ],
                   "instanceArgs": {
                    "namespace": "html",
                    "tag": "div"
                   },
                   "nodeType": "DOM",
                   "props": {
                    "className": "interact-flex-row-right"
                   },
                   "type": "node"
                  }
                 ],
                 "instanceArgs": {
                  "namespace": "html",
                  "tag": "div"
                 },
                 "nodeType": "DOM",
                 "props": {
                  "className": "interact-flex-row interact-widget"
                 },
                 "type": "node"
                }
               ],
               "instanceArgs": {
                "handlers": {
                 "changes": [
                  "(function (val){return (val!=this.model[\"changes\"]()) ? (this.valueFromJulia[\"changes\"]=true, this.model[\"changes\"](val)) : undefined})"
                 ],
                 "index": [
                  "(function (val){return (val!=this.model[\"index\"]()) ? (this.valueFromJulia[\"index\"]=true, this.model[\"index\"](val)) : undefined})"
                 ]
                },
                "id": "13036419484812628007",
                "imports": {
                 "data": [
                  {
                   "name": "knockout",
                   "type": "js",
                   "url": "/assetserver/727383f2a47bd31570b7da84eee7b022dd6d7c78-knockout.js"
                  },
                  {
                   "name": "knockout_punches",
                   "type": "js",
                   "url": "/assetserver/382b41b3b1bd9f26f75861d360bad7f8beea211f-knockout_punches.js"
                  },
                  {
                   "name": null,
                   "type": "js",
                   "url": "/assetserver/5ab20f1060420992a9b82a65b735dee4d81ef413-all.js"
                  },
                  {
                   "name": null,
                   "type": "css",
                   "url": "/assetserver/1cc0ed62837210b80a182cc3676512f895dab686-style.css"
                  },
                  {
                   "name": null,
                   "type": "css",
                   "url": "/assetserver/2eee816f616df3549d7044d45e744fbf8d42bfa1-bulma_confined.min.css"
                  }
                 ],
                 "type": "async_block"
                },
                "mount_callbacks": [
                 "function () {\n    var handler = (function (ko, koPunches) {\n    ko.punches.enableAll();\n    ko.bindingHandlers.numericValue = {\n        init: function(element, valueAccessor, allBindings, data, context) {\n            var stringified = ko.observable(ko.unwrap(valueAccessor()));\n            stringified.subscribe(function(value) {\n                var val = parseFloat(value);\n                if (!isNaN(val)) {\n                    valueAccessor()(val);\n                }\n            });\n            valueAccessor().subscribe(function(value) {\n                var str = JSON.stringify(value);\n                if ((str == \"0\") && ([\"-0\", \"-0.\"].indexOf(stringified()) >= 0))\n                     return;\n                 if ([\"null\", \"\"].indexOf(str) >= 0)\n                     return;\n                stringified(str);\n            });\n            ko.applyBindingsToNode(\n                element,\n                {\n                    value: stringified,\n                    valueUpdate: allBindings.get('valueUpdate'),\n                },\n                context,\n            );\n        }\n    };\n    var json_data = {\"formatted_vals\":[\"1\",\"2\",\"3\",\"4\",\"5\",\"6\",\"7\",\"8\",\"9\",\"10\",\"11\",\"12\",\"13\",\"14\",\"15\",\"16\",\"17\",\"18\",\"19\",\"20\",\"21\",\"22\",\"23\",\"24\",\"25\",\"26\",\"27\",\"28\",\"29\",\"30\",\"31\",\"32\",\"33\",\"34\",\"35\",\"36\",\"37\",\"38\",\"39\",\"40\",\"41\",\"42\",\"43\",\"44\",\"45\",\"46\",\"47\",\"48\",\"49\",\"50\",\"51\",\"52\",\"53\",\"54\",\"55\",\"56\",\"57\",\"58\",\"59\",\"60\",\"61\",\"62\",\"63\",\"64\",\"65\",\"66\",\"67\",\"68\",\"69\",\"70\",\"71\",\"72\",\"73\",\"74\",\"75\",\"76\",\"77\",\"78\",\"79\",\"80\",\"81\",\"82\",\"83\",\"84\",\"85\",\"86\",\"87\",\"88\",\"89\",\"90\",\"91\",\"92\",\"93\",\"94\",\"95\",\"96\",\"97\",\"98\",\"99\",\"100\",\"101\"],\"changes\":WebIO.getval({\"name\":\"changes\",\"scope\":\"13036419484812628007\",\"id\":\"7221732253507847742\",\"type\":\"observable\"}),\"index\":WebIO.getval({\"name\":\"index\",\"scope\":\"13036419484812628007\",\"id\":\"4137823713522911054\",\"type\":\"observable\"})};\n    var self = this;\n    function AppViewModel() {\n        for (var key in json_data) {\n            var el = json_data[key];\n            this[key] = Array.isArray(el) ? ko.observableArray(el) : ko.observable(el);\n        }\n        \n        [this[\"formatted_val\"]=ko.computed(    function(){\n        return this.formatted_vals()[parseInt(this.index())-(1)];\n    }\n,this)]\n        [this[\"changes\"].subscribe((function (val){!(this.valueFromJulia[\"changes\"]) ? (WebIO.setval({\"name\":\"changes\",\"scope\":\"13036419484812628007\",\"id\":\"7221732253507847742\",\"type\":\"observable\"},val)) : undefined; return this.valueFromJulia[\"changes\"]=false}),self),this[\"index\"].subscribe((function (val){!(this.valueFromJulia[\"index\"]) ? (WebIO.setval({\"name\":\"index\",\"scope\":\"13036419484812628007\",\"id\":\"4137823713522911054\",\"type\":\"observable\"},val)) : undefined; return this.valueFromJulia[\"index\"]=false}),self)]\n        \n    }\n    self.model = new AppViewModel();\n    self.valueFromJulia = {};\n    for (var key in json_data) {\n        self.valueFromJulia[key] = false;\n    }\n    ko.applyBindings(self.model, self.dom);\n}\n);\n    (WebIO.importBlock({\"data\":[{\"name\":\"knockout\",\"type\":\"js\",\"url\":\"/assetserver/727383f2a47bd31570b7da84eee7b022dd6d7c78-knockout.js\"},{\"name\":\"knockout_punches\",\"type\":\"js\",\"url\":\"/assetserver/382b41b3b1bd9f26f75861d360bad7f8beea211f-knockout_punches.js\"}],\"type\":\"async_block\"})).then((imports) => handler.apply(this, imports));\n}\n"
                ],
                "observables": {
                 "changes": {
                  "id": "7221732253507847742",
                  "sync": false,
                  "value": 0
                 },
                 "index": {
                  "id": "4137823713522911054",
                  "sync": true,
                  "value": 51
                 }
                },
                "systemjs_options": null
               },
               "nodeType": "Scope",
               "props": {},
               "type": "node"
              }
             ],
             "instanceArgs": {
              "namespace": "html",
              "tag": "div"
             },
             "nodeType": "DOM",
             "props": {
              "className": "field interact-widget"
             },
             "type": "node"
            },
            {
             "children": [
              {
               "children": [
                {
                 "children": [
                  {
                   "children": [
                    {
                     "children": [
                      "scale"
                     ],
                     "instanceArgs": {
                      "namespace": "html",
                      "tag": "label"
                     },
                     "nodeType": "DOM",
                     "props": {
                      "className": "interact ",
                      "style": {
                       "padding": "5px 10px 0px 10px"
                      }
                     },
                     "type": "node"
                    }
                   ],
                   "instanceArgs": {
                    "namespace": "html",
                    "tag": "div"
                   },
                   "nodeType": "DOM",
                   "props": {
                    "className": "interact-flex-row-left"
                   },
                   "type": "node"
                  },
                  {
                   "children": [
                    {
                     "children": [],
                     "instanceArgs": {
                      "namespace": "html",
                      "tag": "input"
                     },
                     "nodeType": "DOM",
                     "props": {
                      "attributes": {
                       "data-bind": "numericValue: index, valueUpdate: 'input', event: {change: function (){this.changes(this.changes()+1)}}",
                       "orient": "horizontal",
                       "type": "range"
                      },
                      "className": "slider slider is-fullwidth",
                      "max": 20,
                      "min": 1,
                      "step": 1,
                      "style": {}
                     },
                     "type": "node"
                    }
                   ],
                   "instanceArgs": {
                    "namespace": "html",
                    "tag": "div"
                   },
                   "nodeType": "DOM",
                   "props": {
                    "className": "interact-flex-row-center"
                   },
                   "type": "node"
                  },
                  {
                   "children": [
                    {
                     "children": [],
                     "instanceArgs": {
                      "namespace": "html",
                      "tag": "p"
                     },
                     "nodeType": "DOM",
                     "props": {
                      "attributes": {
                       "data-bind": "text: formatted_val"
                      }
                     },
                     "type": "node"
                    }
                   ],
                   "instanceArgs": {
                    "namespace": "html",
                    "tag": "div"
                   },
                   "nodeType": "DOM",
                   "props": {
                    "className": "interact-flex-row-right"
                   },
                   "type": "node"
                  }
                 ],
                 "instanceArgs": {
                  "namespace": "html",
                  "tag": "div"
                 },
                 "nodeType": "DOM",
                 "props": {
                  "className": "interact-flex-row interact-widget"
                 },
                 "type": "node"
                }
               ],
               "instanceArgs": {
                "handlers": {
                 "changes": [
                  "(function (val){return (val!=this.model[\"changes\"]()) ? (this.valueFromJulia[\"changes\"]=true, this.model[\"changes\"](val)) : undefined})"
                 ],
                 "index": [
                  "(function (val){return (val!=this.model[\"index\"]()) ? (this.valueFromJulia[\"index\"]=true, this.model[\"index\"](val)) : undefined})"
                 ]
                },
                "id": "6677990497474261109",
                "imports": {
                 "data": [
                  {
                   "name": "knockout",
                   "type": "js",
                   "url": "/assetserver/727383f2a47bd31570b7da84eee7b022dd6d7c78-knockout.js"
                  },
                  {
                   "name": "knockout_punches",
                   "type": "js",
                   "url": "/assetserver/382b41b3b1bd9f26f75861d360bad7f8beea211f-knockout_punches.js"
                  },
                  {
                   "name": null,
                   "type": "js",
                   "url": "/assetserver/5ab20f1060420992a9b82a65b735dee4d81ef413-all.js"
                  },
                  {
                   "name": null,
                   "type": "css",
                   "url": "/assetserver/1cc0ed62837210b80a182cc3676512f895dab686-style.css"
                  },
                  {
                   "name": null,
                   "type": "css",
                   "url": "/assetserver/2eee816f616df3549d7044d45e744fbf8d42bfa1-bulma_confined.min.css"
                  }
                 ],
                 "type": "async_block"
                },
                "mount_callbacks": [
                 "function () {\n    var handler = (function (ko, koPunches) {\n    ko.punches.enableAll();\n    ko.bindingHandlers.numericValue = {\n        init: function(element, valueAccessor, allBindings, data, context) {\n            var stringified = ko.observable(ko.unwrap(valueAccessor()));\n            stringified.subscribe(function(value) {\n                var val = parseFloat(value);\n                if (!isNaN(val)) {\n                    valueAccessor()(val);\n                }\n            });\n            valueAccessor().subscribe(function(value) {\n                var str = JSON.stringify(value);\n                if ((str == \"0\") && ([\"-0\", \"-0.\"].indexOf(stringified()) >= 0))\n                     return;\n                 if ([\"null\", \"\"].indexOf(str) >= 0)\n                     return;\n                stringified(str);\n            });\n            ko.applyBindingsToNode(\n                element,\n                {\n                    value: stringified,\n                    valueUpdate: allBindings.get('valueUpdate'),\n                },\n                context,\n            );\n        }\n    };\n    var json_data = {\"formatted_vals\":[\"0.1\",\"0.2\",\"0.3\",\"0.4\",\"0.5\",\"0.6\",\"0.7\",\"0.8\",\"0.9\",\"1.0\",\"1.1\",\"1.2\",\"1.3\",\"1.4\",\"1.5\",\"1.6\",\"1.7\",\"1.8\",\"1.9\",\"2.0\"],\"changes\":WebIO.getval({\"name\":\"changes\",\"scope\":\"6677990497474261109\",\"id\":\"688452231432558898\",\"type\":\"observable\"}),\"index\":WebIO.getval({\"name\":\"index\",\"scope\":\"6677990497474261109\",\"id\":\"3939581049686688716\",\"type\":\"observable\"})};\n    var self = this;\n    function AppViewModel() {\n        for (var key in json_data) {\n            var el = json_data[key];\n            this[key] = Array.isArray(el) ? ko.observableArray(el) : ko.observable(el);\n        }\n        \n        [this[\"formatted_val\"]=ko.computed(    function(){\n        return this.formatted_vals()[parseInt(this.index())-(1)];\n    }\n,this)]\n        [this[\"changes\"].subscribe((function (val){!(this.valueFromJulia[\"changes\"]) ? (WebIO.setval({\"name\":\"changes\",\"scope\":\"6677990497474261109\",\"id\":\"688452231432558898\",\"type\":\"observable\"},val)) : undefined; return this.valueFromJulia[\"changes\"]=false}),self),this[\"index\"].subscribe((function (val){!(this.valueFromJulia[\"index\"]) ? (WebIO.setval({\"name\":\"index\",\"scope\":\"6677990497474261109\",\"id\":\"3939581049686688716\",\"type\":\"observable\"},val)) : undefined; return this.valueFromJulia[\"index\"]=false}),self)]\n        \n    }\n    self.model = new AppViewModel();\n    self.valueFromJulia = {};\n    for (var key in json_data) {\n        self.valueFromJulia[key] = false;\n    }\n    ko.applyBindings(self.model, self.dom);\n}\n);\n    (WebIO.importBlock({\"data\":[{\"name\":\"knockout\",\"type\":\"js\",\"url\":\"/assetserver/727383f2a47bd31570b7da84eee7b022dd6d7c78-knockout.js\"},{\"name\":\"knockout_punches\",\"type\":\"js\",\"url\":\"/assetserver/382b41b3b1bd9f26f75861d360bad7f8beea211f-knockout_punches.js\"}],\"type\":\"async_block\"})).then((imports) => handler.apply(this, imports));\n}\n"
                ],
                "observables": {
                 "changes": {
                  "id": "688452231432558898",
                  "sync": false,
                  "value": 0
                 },
                 "index": {
                  "id": "3939581049686688716",
                  "sync": true,
                  "value": 10
                 }
                },
                "systemjs_options": null
               },
               "nodeType": "Scope",
               "props": {},
               "type": "node"
              }
             ],
             "instanceArgs": {
              "namespace": "html",
              "tag": "div"
             },
             "nodeType": "DOM",
             "props": {
              "className": "field interact-widget"
             },
             "type": "node"
            },
            {
             "children": [
              {
               "children": [
                {
                 "children": [
                  {
                   "children": [],
                   "instanceArgs": {
                    "namespace": "html",
                    "tag": "div"
                   },
                   "nodeType": "DOM",
                   "props": {
                    "id": "container"
                   },
                   "type": "node"
                  }
                 ],
                 "instanceArgs": {
                  "handlers": {
                   "value": [
                    "(function (txt){return this.k.render(txt,this.container)})"
                   ]
                  },
                  "id": "9717947486028621089",
                  "imports": {
                   "data": [
                    {
                     "name": null,
                     "type": "js",
                     "url": "/assetserver/dd22ed1bf1896c2748f3fe616ce0b838adc895c1-katex.min.js"
                    },
                    {
                     "name": null,
                     "type": "css",
                     "url": "/assetserver/46517a424aa5e6cffc1360d7e0848b601c584ee3-katex.min.css"
                    }
                   ],
                   "type": "async_block"
                  },
                  "mount_callbacks": [
                   "function () {\n    var handler = ((function (k){this.k=k; this.container=this.dom.querySelector(\"#container\"); return k.render(\"\\\\;\\\\;\",this.container)}));\n    (WebIO.importBlock({\"data\":[{\"name\":null,\"type\":\"js\",\"url\":\"/assetserver/dd22ed1bf1896c2748f3fe616ce0b838adc895c1-katex.min.js\"},{\"name\":null,\"type\":\"css\",\"url\":\"/assetserver/46517a424aa5e6cffc1360d7e0848b601c584ee3-katex.min.css\"}],\"type\":\"async_block\"})).then((imports) => handler.apply(this, imports));\n}\n"
                  ],
                  "observables": {
                   "value": {
                    "id": "1991183918305683293",
                    "sync": false,
                    "value": "\\;\\;"
                   }
                  },
                  "systemjs_options": null
                 },
                 "nodeType": "Scope",
                 "props": {},
                 "type": "node"
                }
               ],
               "instanceArgs": {
                "namespace": "html",
                "tag": "div"
               },
               "nodeType": "DOM",
               "props": {
                "className": "interact-widget"
               },
               "type": "node"
              },
              {
               "children": [
                {
                 "children": [
                  {
                   "children": [
                    "run"
                   ],
                   "instanceArgs": {
                    "namespace": "html",
                    "tag": "button"
                   },
                   "nodeType": "DOM",
                   "props": {
                    "attributes": {
                     "data-bind": "click: function (){this.clicks(this.clicks()+1)}, css: {'is-loading' : loading}"
                    },
                    "className": "is-medium button is-primary",
                    "style": {}
                   },
                   "type": "node"
                  }
                 ],
                 "instanceArgs": {
                  "handlers": {
                   "clicks": [
                    "(function (val){return (val!=this.model[\"clicks\"]()) ? (this.valueFromJulia[\"clicks\"]=true, this.model[\"clicks\"](val)) : undefined})"
                   ],
                   "loading": [
                    "(function (val){return (val!=this.model[\"loading\"]()) ? (this.valueFromJulia[\"loading\"]=true, this.model[\"loading\"](val)) : undefined})"
                   ]
                  },
                  "id": "2246477498556967992",
                  "imports": {
                   "data": [
                    {
                     "name": "knockout",
                     "type": "js",
                     "url": "/assetserver/727383f2a47bd31570b7da84eee7b022dd6d7c78-knockout.js"
                    },
                    {
                     "name": "knockout_punches",
                     "type": "js",
                     "url": "/assetserver/382b41b3b1bd9f26f75861d360bad7f8beea211f-knockout_punches.js"
                    },
                    {
                     "name": null,
                     "type": "js",
                     "url": "/assetserver/5ab20f1060420992a9b82a65b735dee4d81ef413-all.js"
                    },
                    {
                     "name": null,
                     "type": "css",
                     "url": "/assetserver/1cc0ed62837210b80a182cc3676512f895dab686-style.css"
                    },
                    {
                     "name": null,
                     "type": "css",
                     "url": "/assetserver/2eee816f616df3549d7044d45e744fbf8d42bfa1-bulma_confined.min.css"
                    }
                   ],
                   "type": "async_block"
                  },
                  "mount_callbacks": [
                   "function () {\n    var handler = (function (ko, koPunches) {\n    ko.punches.enableAll();\n    ko.bindingHandlers.numericValue = {\n        init: function(element, valueAccessor, allBindings, data, context) {\n            var stringified = ko.observable(ko.unwrap(valueAccessor()));\n            stringified.subscribe(function(value) {\n                var val = parseFloat(value);\n                if (!isNaN(val)) {\n                    valueAccessor()(val);\n                }\n            });\n            valueAccessor().subscribe(function(value) {\n                var str = JSON.stringify(value);\n                if ((str == \"0\") && ([\"-0\", \"-0.\"].indexOf(stringified()) >= 0))\n                     return;\n                 if ([\"null\", \"\"].indexOf(str) >= 0)\n                     return;\n                stringified(str);\n            });\n            ko.applyBindingsToNode(\n                element,\n                {\n                    value: stringified,\n                    valueUpdate: allBindings.get('valueUpdate'),\n                },\n                context,\n            );\n        }\n    };\n    var json_data = {\"loading\":WebIO.getval({\"name\":\"loading\",\"scope\":\"2246477498556967992\",\"id\":\"8278001779974995964\",\"type\":\"observable\"}),\"clicks\":WebIO.getval({\"name\":\"clicks\",\"scope\":\"2246477498556967992\",\"id\":\"6860684220015071194\",\"type\":\"observable\"})};\n    var self = this;\n    function AppViewModel() {\n        for (var key in json_data) {\n            var el = json_data[key];\n            this[key] = Array.isArray(el) ? ko.observableArray(el) : ko.observable(el);\n        }\n        \n        \n        [this[\"loading\"].subscribe((function (val){!(this.valueFromJulia[\"loading\"]) ? (WebIO.setval({\"name\":\"loading\",\"scope\":\"2246477498556967992\",\"id\":\"8278001779974995964\",\"type\":\"observable\"},val)) : undefined; return this.valueFromJulia[\"loading\"]=false}),self),this[\"clicks\"].subscribe((function (val){!(this.valueFromJulia[\"clicks\"]) ? (WebIO.setval({\"name\":\"clicks\",\"scope\":\"2246477498556967992\",\"id\":\"6860684220015071194\",\"type\":\"observable\"},val)) : undefined; return this.valueFromJulia[\"clicks\"]=false}),self)]\n        \n    }\n    self.model = new AppViewModel();\n    self.valueFromJulia = {};\n    for (var key in json_data) {\n        self.valueFromJulia[key] = false;\n    }\n    ko.applyBindings(self.model, self.dom);\n}\n);\n    (WebIO.importBlock({\"data\":[{\"name\":\"knockout\",\"type\":\"js\",\"url\":\"/assetserver/727383f2a47bd31570b7da84eee7b022dd6d7c78-knockout.js\"},{\"name\":\"knockout_punches\",\"type\":\"js\",\"url\":\"/assetserver/382b41b3b1bd9f26f75861d360bad7f8beea211f-knockout_punches.js\"}],\"type\":\"async_block\"})).then((imports) => handler.apply(this, imports));\n}\n"
                  ],
                  "observables": {
                   "clicks": {
                    "id": "6860684220015071194",
                    "sync": true,
                    "value": 0
                   },
                   "loading": {
                    "id": "8278001779974995964",
                    "sync": false,
                    "value": false
                   }
                  },
                  "systemjs_options": null
                 },
                 "nodeType": "Scope",
                 "props": {},
                 "type": "node"
                }
               ],
               "instanceArgs": {
                "namespace": "html",
                "tag": "div"
               },
               "nodeType": "DOM",
               "props": {
                "className": "field interact-widget"
               },
               "type": "node"
              },
              {
               "children": [
                {
                 "children": [
                  {
                   "children": [],
                   "instanceArgs": {
                    "namespace": "html",
                    "tag": "div"
                   },
                   "nodeType": "DOM",
                   "props": {
                    "id": "container"
                   },
                   "type": "node"
                  }
                 ],
                 "instanceArgs": {
                  "handlers": {
                   "value": [
                    "(function (txt){return this.k.render(txt,this.container)})"
                   ]
                  },
                  "id": "9717947486028621089",
                  "imports": {
                   "data": [
                    {
                     "name": null,
                     "type": "js",
                     "url": "/assetserver/dd22ed1bf1896c2748f3fe616ce0b838adc895c1-katex.min.js"
                    },
                    {
                     "name": null,
                     "type": "css",
                     "url": "/assetserver/46517a424aa5e6cffc1360d7e0848b601c584ee3-katex.min.css"
                    }
                   ],
                   "type": "async_block"
                  },
                  "mount_callbacks": [
                   "function () {\n    var handler = ((function (k){this.k=k; this.container=this.dom.querySelector(\"#container\"); return k.render(\"\\\\;\\\\;\",this.container)}));\n    (WebIO.importBlock({\"data\":[{\"name\":null,\"type\":\"js\",\"url\":\"/assetserver/dd22ed1bf1896c2748f3fe616ce0b838adc895c1-katex.min.js\"},{\"name\":null,\"type\":\"css\",\"url\":\"/assetserver/46517a424aa5e6cffc1360d7e0848b601c584ee3-katex.min.css\"}],\"type\":\"async_block\"})).then((imports) => handler.apply(this, imports));\n}\n"
                  ],
                  "observables": {
                   "value": {
                    "id": "1991183918305683293",
                    "sync": false,
                    "value": "\\;\\;"
                   }
                  },
                  "systemjs_options": null
                 },
                 "nodeType": "Scope",
                 "props": {},
                 "type": "node"
                }
               ],
               "instanceArgs": {
                "namespace": "html",
                "tag": "div"
               },
               "nodeType": "DOM",
               "props": {
                "className": "interact-widget"
               },
               "type": "node"
              },
              {
               "children": [
                {
                 "children": [
                  {
                   "children": [
                    "stop"
                   ],
                   "instanceArgs": {
                    "namespace": "html",
                    "tag": "button"
                   },
                   "nodeType": "DOM",
                   "props": {
                    "attributes": {
                     "data-bind": "click: function (){this.clicks(this.clicks()+1)}, css: {'is-loading' : loading}"
                    },
                    "className": "is-medium button is-primary",
                    "style": {}
                   },
                   "type": "node"
                  }
                 ],
                 "instanceArgs": {
                  "handlers": {
                   "clicks": [
                    "(function (val){return (val!=this.model[\"clicks\"]()) ? (this.valueFromJulia[\"clicks\"]=true, this.model[\"clicks\"](val)) : undefined})"
                   ],
                   "loading": [
                    "(function (val){return (val!=this.model[\"loading\"]()) ? (this.valueFromJulia[\"loading\"]=true, this.model[\"loading\"](val)) : undefined})"
                   ]
                  },
                  "id": "17195069024075864206",
                  "imports": {
                   "data": [
                    {
                     "name": "knockout",
                     "type": "js",
                     "url": "/assetserver/727383f2a47bd31570b7da84eee7b022dd6d7c78-knockout.js"
                    },
                    {
                     "name": "knockout_punches",
                     "type": "js",
                     "url": "/assetserver/382b41b3b1bd9f26f75861d360bad7f8beea211f-knockout_punches.js"
                    },
                    {
                     "name": null,
                     "type": "js",
                     "url": "/assetserver/5ab20f1060420992a9b82a65b735dee4d81ef413-all.js"
                    },
                    {
                     "name": null,
                     "type": "css",
                     "url": "/assetserver/1cc0ed62837210b80a182cc3676512f895dab686-style.css"
                    },
                    {
                     "name": null,
                     "type": "css",
                     "url": "/assetserver/2eee816f616df3549d7044d45e744fbf8d42bfa1-bulma_confined.min.css"
                    }
                   ],
                   "type": "async_block"
                  },
                  "mount_callbacks": [
                   "function () {\n    var handler = (function (ko, koPunches) {\n    ko.punches.enableAll();\n    ko.bindingHandlers.numericValue = {\n        init: function(element, valueAccessor, allBindings, data, context) {\n            var stringified = ko.observable(ko.unwrap(valueAccessor()));\n            stringified.subscribe(function(value) {\n                var val = parseFloat(value);\n                if (!isNaN(val)) {\n                    valueAccessor()(val);\n                }\n            });\n            valueAccessor().subscribe(function(value) {\n                var str = JSON.stringify(value);\n                if ((str == \"0\") && ([\"-0\", \"-0.\"].indexOf(stringified()) >= 0))\n                     return;\n                 if ([\"null\", \"\"].indexOf(str) >= 0)\n                     return;\n                stringified(str);\n            });\n            ko.applyBindingsToNode(\n                element,\n                {\n                    value: stringified,\n                    valueUpdate: allBindings.get('valueUpdate'),\n                },\n                context,\n            );\n        }\n    };\n    var json_data = {\"loading\":WebIO.getval({\"name\":\"loading\",\"scope\":\"17195069024075864206\",\"id\":\"13396714292817356809\",\"type\":\"observable\"}),\"clicks\":WebIO.getval({\"name\":\"clicks\",\"scope\":\"17195069024075864206\",\"id\":\"16434030861818958753\",\"type\":\"observable\"})};\n    var self = this;\n    function AppViewModel() {\n        for (var key in json_data) {\n            var el = json_data[key];\n            this[key] = Array.isArray(el) ? ko.observableArray(el) : ko.observable(el);\n        }\n        \n        \n        [this[\"loading\"].subscribe((function (val){!(this.valueFromJulia[\"loading\"]) ? (WebIO.setval({\"name\":\"loading\",\"scope\":\"17195069024075864206\",\"id\":\"13396714292817356809\",\"type\":\"observable\"},val)) : undefined; return this.valueFromJulia[\"loading\"]=false}),self),this[\"clicks\"].subscribe((function (val){!(this.valueFromJulia[\"clicks\"]) ? (WebIO.setval({\"name\":\"clicks\",\"scope\":\"17195069024075864206\",\"id\":\"16434030861818958753\",\"type\":\"observable\"},val)) : undefined; return this.valueFromJulia[\"clicks\"]=false}),self)]\n        \n    }\n    self.model = new AppViewModel();\n    self.valueFromJulia = {};\n    for (var key in json_data) {\n        self.valueFromJulia[key] = false;\n    }\n    ko.applyBindings(self.model, self.dom);\n}\n);\n    (WebIO.importBlock({\"data\":[{\"name\":\"knockout\",\"type\":\"js\",\"url\":\"/assetserver/727383f2a47bd31570b7da84eee7b022dd6d7c78-knockout.js\"},{\"name\":\"knockout_punches\",\"type\":\"js\",\"url\":\"/assetserver/382b41b3b1bd9f26f75861d360bad7f8beea211f-knockout_punches.js\"}],\"type\":\"async_block\"})).then((imports) => handler.apply(this, imports));\n}\n"
                  ],
                  "observables": {
                   "clicks": {
                    "id": "16434030861818958753",
                    "sync": true,
                    "value": 0
                   },
                   "loading": {
                    "id": "13396714292817356809",
                    "sync": false,
                    "value": false
                   }
                  },
                  "systemjs_options": null
                 },
                 "nodeType": "Scope",
                 "props": {},
                 "type": "node"
                }
               ],
               "instanceArgs": {
                "namespace": "html",
                "tag": "div"
               },
               "nodeType": "DOM",
               "props": {
                "className": "field interact-widget"
               },
               "type": "node"
              },
              {
               "children": [
                {
                 "children": [
                  {
                   "children": [],
                   "instanceArgs": {
                    "namespace": "html",
                    "tag": "div"
                   },
                   "nodeType": "DOM",
                   "props": {
                    "id": "container"
                   },
                   "type": "node"
                  }
                 ],
                 "instanceArgs": {
                  "handlers": {
                   "value": [
                    "(function (txt){return this.k.render(txt,this.container)})"
                   ]
                  },
                  "id": "9717947486028621089",
                  "imports": {
                   "data": [
                    {
                     "name": null,
                     "type": "js",
                     "url": "/assetserver/dd22ed1bf1896c2748f3fe616ce0b838adc895c1-katex.min.js"
                    },
                    {
                     "name": null,
                     "type": "css",
                     "url": "/assetserver/46517a424aa5e6cffc1360d7e0848b601c584ee3-katex.min.css"
                    }
                   ],
                   "type": "async_block"
                  },
                  "mount_callbacks": [
                   "function () {\n    var handler = ((function (k){this.k=k; this.container=this.dom.querySelector(\"#container\"); return k.render(\"\\\\;\\\\;\",this.container)}));\n    (WebIO.importBlock({\"data\":[{\"name\":null,\"type\":\"js\",\"url\":\"/assetserver/dd22ed1bf1896c2748f3fe616ce0b838adc895c1-katex.min.js\"},{\"name\":null,\"type\":\"css\",\"url\":\"/assetserver/46517a424aa5e6cffc1360d7e0848b601c584ee3-katex.min.css\"}],\"type\":\"async_block\"})).then((imports) => handler.apply(this, imports));\n}\n"
                  ],
                  "observables": {
                   "value": {
                    "id": "1991183918305683293",
                    "sync": false,
                    "value": "\\;\\;"
                   }
                  },
                  "systemjs_options": null
                 },
                 "nodeType": "Scope",
                 "props": {},
                 "type": "node"
                }
               ],
               "instanceArgs": {
                "namespace": "html",
                "tag": "div"
               },
               "nodeType": "DOM",
               "props": {
                "className": "interact-widget"
               },
               "type": "node"
              },
              {
               "children": [
                {
                 "children": [
                  {
                   "children": [
                    "save"
                   ],
                   "instanceArgs": {
                    "namespace": "html",
                    "tag": "button"
                   },
                   "nodeType": "DOM",
                   "props": {
                    "attributes": {
                     "data-bind": "click: function (){this.clicks(this.clicks()+1)}, css: {'is-loading' : loading}"
                    },
                    "className": "is-medium button is-primary",
                    "style": {}
                   },
                   "type": "node"
                  }
                 ],
                 "instanceArgs": {
                  "handlers": {
                   "clicks": [
                    "(function (val){return (val!=this.model[\"clicks\"]()) ? (this.valueFromJulia[\"clicks\"]=true, this.model[\"clicks\"](val)) : undefined})"
                   ],
                   "loading": [
                    "(function (val){return (val!=this.model[\"loading\"]()) ? (this.valueFromJulia[\"loading\"]=true, this.model[\"loading\"](val)) : undefined})"
                   ]
                  },
                  "id": "1299120491950751513",
                  "imports": {
                   "data": [
                    {
                     "name": "knockout",
                     "type": "js",
                     "url": "/assetserver/727383f2a47bd31570b7da84eee7b022dd6d7c78-knockout.js"
                    },
                    {
                     "name": "knockout_punches",
                     "type": "js",
                     "url": "/assetserver/382b41b3b1bd9f26f75861d360bad7f8beea211f-knockout_punches.js"
                    },
                    {
                     "name": null,
                     "type": "js",
                     "url": "/assetserver/5ab20f1060420992a9b82a65b735dee4d81ef413-all.js"
                    },
                    {
                     "name": null,
                     "type": "css",
                     "url": "/assetserver/1cc0ed62837210b80a182cc3676512f895dab686-style.css"
                    },
                    {
                     "name": null,
                     "type": "css",
                     "url": "/assetserver/2eee816f616df3549d7044d45e744fbf8d42bfa1-bulma_confined.min.css"
                    }
                   ],
                   "type": "async_block"
                  },
                  "mount_callbacks": [
                   "function () {\n    var handler = (function (ko, koPunches) {\n    ko.punches.enableAll();\n    ko.bindingHandlers.numericValue = {\n        init: function(element, valueAccessor, allBindings, data, context) {\n            var stringified = ko.observable(ko.unwrap(valueAccessor()));\n            stringified.subscribe(function(value) {\n                var val = parseFloat(value);\n                if (!isNaN(val)) {\n                    valueAccessor()(val);\n                }\n            });\n            valueAccessor().subscribe(function(value) {\n                var str = JSON.stringify(value);\n                if ((str == \"0\") && ([\"-0\", \"-0.\"].indexOf(stringified()) >= 0))\n                     return;\n                 if ([\"null\", \"\"].indexOf(str) >= 0)\n                     return;\n                stringified(str);\n            });\n            ko.applyBindingsToNode(\n                element,\n                {\n                    value: stringified,\n                    valueUpdate: allBindings.get('valueUpdate'),\n                },\n                context,\n            );\n        }\n    };\n    var json_data = {\"loading\":WebIO.getval({\"name\":\"loading\",\"scope\":\"1299120491950751513\",\"id\":\"14877777729092402491\",\"type\":\"observable\"}),\"clicks\":WebIO.getval({\"name\":\"clicks\",\"scope\":\"1299120491950751513\",\"id\":\"9141208209088996422\",\"type\":\"observable\"})};\n    var self = this;\n    function AppViewModel() {\n        for (var key in json_data) {\n            var el = json_data[key];\n            this[key] = Array.isArray(el) ? ko.observableArray(el) : ko.observable(el);\n        }\n        \n        \n        [this[\"loading\"].subscribe((function (val){!(this.valueFromJulia[\"loading\"]) ? (WebIO.setval({\"name\":\"loading\",\"scope\":\"1299120491950751513\",\"id\":\"14877777729092402491\",\"type\":\"observable\"},val)) : undefined; return this.valueFromJulia[\"loading\"]=false}),self),this[\"clicks\"].subscribe((function (val){!(this.valueFromJulia[\"clicks\"]) ? (WebIO.setval({\"name\":\"clicks\",\"scope\":\"1299120491950751513\",\"id\":\"9141208209088996422\",\"type\":\"observable\"},val)) : undefined; return this.valueFromJulia[\"clicks\"]=false}),self)]\n        \n    }\n    self.model = new AppViewModel();\n    self.valueFromJulia = {};\n    for (var key in json_data) {\n        self.valueFromJulia[key] = false;\n    }\n    ko.applyBindings(self.model, self.dom);\n}\n);\n    (WebIO.importBlock({\"data\":[{\"name\":\"knockout\",\"type\":\"js\",\"url\":\"/assetserver/727383f2a47bd31570b7da84eee7b022dd6d7c78-knockout.js\"},{\"name\":\"knockout_punches\",\"type\":\"js\",\"url\":\"/assetserver/382b41b3b1bd9f26f75861d360bad7f8beea211f-knockout_punches.js\"}],\"type\":\"async_block\"})).then((imports) => handler.apply(this, imports));\n}\n"
                  ],
                  "observables": {
                   "clicks": {
                    "id": "9141208209088996422",
                    "sync": true,
                    "value": 0
                   },
                   "loading": {
                    "id": "14877777729092402491",
                    "sync": false,
                    "value": false
                   }
                  },
                  "systemjs_options": null
                 },
                 "nodeType": "Scope",
                 "props": {},
                 "type": "node"
                }
               ],
               "instanceArgs": {
                "namespace": "html",
                "tag": "div"
               },
               "nodeType": "DOM",
               "props": {
                "className": "field interact-widget"
               },
               "type": "node"
              }
             ],
             "instanceArgs": {
              "namespace": "html",
              "tag": "div"
             },
             "nodeType": "DOM",
             "props": {
              "style": {
               "display": "flex",
               "flex-direction": "row"
              }
             },
             "type": "node"
            }
           ],
           "instanceArgs": {
            "namespace": "html",
            "tag": "div"
           },
           "nodeType": "DOM",
           "props": {
            "style": {
             "display": "flex",
             "flex-direction": "column"
            }
           },
           "type": "node"
          },
          {
           "children": [
            {
             "children": [
              {
               "children": [],
               "instanceArgs": {
                "namespace": "html",
                "tag": "div"
               },
               "nodeType": "DOM",
               "props": {
                "id": "container"
               },
               "type": "node"
              }
             ],
             "instanceArgs": {
              "handlers": {
               "value": [
                "(function (txt){return this.k.render(txt,this.container)})"
               ]
              },
              "id": "9717947486028621089",
              "imports": {
               "data": [
                {
                 "name": null,
                 "type": "js",
                 "url": "/assetserver/dd22ed1bf1896c2748f3fe616ce0b838adc895c1-katex.min.js"
                },
                {
                 "name": null,
                 "type": "css",
                 "url": "/assetserver/46517a424aa5e6cffc1360d7e0848b601c584ee3-katex.min.css"
                }
               ],
               "type": "async_block"
              },
              "mount_callbacks": [
               "function () {\n    var handler = ((function (k){this.k=k; this.container=this.dom.querySelector(\"#container\"); return k.render(\"\\\\;\\\\;\",this.container)}));\n    (WebIO.importBlock({\"data\":[{\"name\":null,\"type\":\"js\",\"url\":\"/assetserver/dd22ed1bf1896c2748f3fe616ce0b838adc895c1-katex.min.js\"},{\"name\":null,\"type\":\"css\",\"url\":\"/assetserver/46517a424aa5e6cffc1360d7e0848b601c584ee3-katex.min.css\"}],\"type\":\"async_block\"})).then((imports) => handler.apply(this, imports));\n}\n"
              ],
              "observables": {
               "value": {
                "id": "1991183918305683293",
                "sync": false,
                "value": "\\;\\;"
               }
              },
              "systemjs_options": null
             },
             "nodeType": "Scope",
             "props": {},
             "type": "node"
            }
           ],
           "instanceArgs": {
            "namespace": "html",
            "tag": "div"
           },
           "nodeType": "DOM",
           "props": {
            "className": "interact-widget"
           },
           "type": "node"
          },
          {
           "children": [
            {
             "children": [],
             "instanceArgs": {
              "namespace": "html",
              "tag": "div"
             },
             "nodeType": "DOM",
             "props": {
              "className": "webio-observable",
              "setInnerHtml": "<img src='data:image/png;base64,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'></img>"
             },
             "type": "node"
            }
           ],
           "instanceArgs": {
            "handlers": {
             "obs-output": [
              "function (value, scope) {\n    scope.setInnerHTML(value);\n}\n"
             ]
            },
            "id": "18335017866111520871",
            "imports": {
             "data": [],
             "type": "async_block"
            },
            "mount_callbacks": [],
            "observables": {
             "obs-output": {
              "id": "10831638620252085983",
              "sync": false,
              "value": "<img src='data:image/png;base64,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'></img>"
             }
            },
            "systemjs_options": null
           },
           "nodeType": "Scope",
           "props": {},
           "type": "node"
          },
          {
           "children": [
            {
             "children": [
              {
               "children": [],
               "instanceArgs": {
                "namespace": "html",
                "tag": "div"
               },
               "nodeType": "DOM",
               "props": {
                "id": "container"
               },
               "type": "node"
              }
             ],
             "instanceArgs": {
              "handlers": {
               "value": [
                "(function (txt){return this.k.render(txt,this.container)})"
               ]
              },
              "id": "9717947486028621089",
              "imports": {
               "data": [
                {
                 "name": null,
                 "type": "js",
                 "url": "/assetserver/dd22ed1bf1896c2748f3fe616ce0b838adc895c1-katex.min.js"
                },
                {
                 "name": null,
                 "type": "css",
                 "url": "/assetserver/46517a424aa5e6cffc1360d7e0848b601c584ee3-katex.min.css"
                }
               ],
               "type": "async_block"
              },
              "mount_callbacks": [
               "function () {\n    var handler = ((function (k){this.k=k; this.container=this.dom.querySelector(\"#container\"); return k.render(\"\\\\;\\\\;\",this.container)}));\n    (WebIO.importBlock({\"data\":[{\"name\":null,\"type\":\"js\",\"url\":\"/assetserver/dd22ed1bf1896c2748f3fe616ce0b838adc895c1-katex.min.js\"},{\"name\":null,\"type\":\"css\",\"url\":\"/assetserver/46517a424aa5e6cffc1360d7e0848b601c584ee3-katex.min.css\"}],\"type\":\"async_block\"})).then((imports) => handler.apply(this, imports));\n}\n"
              ],
              "observables": {
               "value": {
                "id": "1991183918305683293",
                "sync": false,
                "value": "\\;\\;"
               }
              },
              "systemjs_options": null
             },
             "nodeType": "Scope",
             "props": {},
             "type": "node"
            }
           ],
           "instanceArgs": {
            "namespace": "html",
            "tag": "div"
           },
           "nodeType": "DOM",
           "props": {
            "className": "interact-widget"
           },
           "type": "node"
          },
          {
           "children": [],
           "instanceArgs": {
            "namespace": "html",
            "tag": "div"
           },
           "nodeType": "DOM",
           "props": {
            "style": {
             "display": "flex",
             "flex-direction": "column"
            }
           },
           "type": "node"
          }
         ],
         "instanceArgs": {
          "namespace": "html",
          "tag": "div"
         },
         "nodeType": "DOM",
         "props": {
          "style": {
           "display": "flex",
           "flex-direction": "row"
          }
         },
         "type": "node"
        }
       ],
       "instanceArgs": {
        "namespace": "html",
        "tag": "div"
       },
       "nodeType": "DOM",
       "props": {
        "style": {
         "display": "flex",
         "flex-direction": "column"
        }
       },
       "type": "node"
      },
      "text/html": [
       "<div\n",
       "    class=\"webio-mountpoint\"\n",
       "    data-webio-mountpoint=\"2799054539160564912\"\n",
       ">\n",
       "    <script>\n",
       "    (function(){\n",
       "    // Some integrations (namely, IJulia/Jupyter) use an alternate render pathway than\n",
       "    // just putting the html on the page. If WebIO isn't defined, then it's pretty likely\n",
       "    // that we're in one of those situations and the integration just isn't installed\n",
       "    // correctly.\n",
       "    if (typeof window.WebIO === \"undefined\") {\n",
       "        document\n",
       "            .querySelector('[data-webio-mountpoint=\"2799054539160564912\"]')\n",
       "            .innerHTML = (\n",
       "                '<div style=\"padding: 1em; background-color: #f8d6da; border: 1px solid #f5c6cb; font-weight: bold;\">' +\n",
       "                '<p><strong>WebIO not detected.</strong></p>' +\n",
       "                '<p>Please read ' +\n",
       "                '<a href=\"https://juliagizmos.github.io/WebIO.jl/latest/troubleshooting/not-detected/\" target=\"_blank\">the troubleshooting guide</a> ' +\n",
       "                'for more information on how to resolve this issue.</p>' +\n",
       "                '<p><a href=\"https://juliagizmos.github.io/WebIO.jl/latest/troubleshooting/not-detected/\" target=\"_blank\">https://juliagizmos.github.io/WebIO.jl/latest/troubleshooting/not-detected/</a></p>' +\n",
       "                '</div>'\n",
       "            );\n",
       "        return;\n",
       "    }\n",
       "    WebIO.mount(\n",
       "        document.querySelector('[data-webio-mountpoint=\"2799054539160564912\"]'),\n",
       "        {\"props\":{\"style\":{\"display\":\"flex\",\"flex-direction\":\"column\"}},\"nodeType\":\"DOM\",\"type\":\"node\",\"instanceArgs\":{\"namespace\":\"html\",\"tag\":\"div\"},\"children\":[{\"props\":{\"style\":{\"display\":\"flex\",\"flex-direction\":\"row\"}},\"nodeType\":\"DOM\",\"type\":\"node\",\"instanceArgs\":{\"namespace\":\"html\",\"tag\":\"div\"},\"children\":[{\"props\":{\"style\":{\"display\":\"flex\",\"flex-direction\":\"column\"}},\"nodeType\":\"DOM\",\"type\":\"node\",\"instanceArgs\":{\"namespace\":\"html\",\"tag\":\"div\"},\"children\":[{\"props\":{\"className\":\"field interact-widget\"},\"nodeType\":\"DOM\",\"type\":\"node\",\"instanceArgs\":{\"namespace\":\"html\",\"tag\":\"div\"},\"children\":[{\"props\":{},\"nodeType\":\"Scope\",\"type\":\"node\",\"instanceArgs\":{\"imports\":{\"data\":[{\"name\":\"knockout\",\"type\":\"js\",\"url\":\"\\/assetserver\\/727383f2a47bd31570b7da84eee7b022dd6d7c78-knockout.js\"},{\"name\":\"knockout_punches\",\"type\":\"js\",\"url\":\"\\/assetserver\\/382b41b3b1bd9f26f75861d360bad7f8beea211f-knockout_punches.js\"},{\"name\":null,\"type\":\"js\",\"url\":\"\\/assetserver\\/5ab20f1060420992a9b82a65b735dee4d81ef413-all.js\"},{\"name\":null,\"type\":\"css\",\"url\":\"\\/assetserver\\/1cc0ed62837210b80a182cc3676512f895dab686-style.css\"},{\"name\":null,\"type\":\"css\",\"url\":\"\\/assetserver\\/2eee816f616df3549d7044d45e744fbf8d42bfa1-bulma_confined.min.css\"}],\"type\":\"async_block\"},\"id\":\"13036419484812628007\",\"handlers\":{\"changes\":[\"(function (val){return (val!=this.model[\\\"changes\\\"]()) ? (this.valueFromJulia[\\\"changes\\\"]=true, this.model[\\\"changes\\\"](val)) : undefined})\"],\"index\":[\"(function (val){return (val!=this.model[\\\"index\\\"]()) ? (this.valueFromJulia[\\\"index\\\"]=true, this.model[\\\"index\\\"](val)) : undefined})\"]},\"systemjs_options\":null,\"mount_callbacks\":[\"function () {\\n    var handler = (function (ko, koPunches) {\\n    ko.punches.enableAll();\\n    ko.bindingHandlers.numericValue = {\\n        init: function(element, valueAccessor, allBindings, data, context) {\\n            var stringified = ko.observable(ko.unwrap(valueAccessor()));\\n            stringified.subscribe(function(value) {\\n                var val = parseFloat(value);\\n                if (!isNaN(val)) {\\n                    valueAccessor()(val);\\n                }\\n            });\\n            valueAccessor().subscribe(function(value) {\\n                var str = JSON.stringify(value);\\n                if ((str == \\\"0\\\") && ([\\\"-0\\\", \\\"-0.\\\"].indexOf(stringified()) >= 0))\\n                     return;\\n                 if ([\\\"null\\\", \\\"\\\"].indexOf(str) >= 0)\\n                     return;\\n                stringified(str);\\n            });\\n            ko.applyBindingsToNode(\\n                element,\\n                {\\n                    value: stringified,\\n                    valueUpdate: allBindings.get('valueUpdate'),\\n                },\\n                context,\\n            );\\n        }\\n    };\\n    var json_data = {\\\"formatted_vals\\\":[\\\"1\\\",\\\"2\\\",\\\"3\\\",\\\"4\\\",\\\"5\\\",\\\"6\\\",\\\"7\\\",\\\"8\\\",\\\"9\\\",\\\"10\\\",\\\"11\\\",\\\"12\\\",\\\"13\\\",\\\"14\\\",\\\"15\\\",\\\"16\\\",\\\"17\\\",\\\"18\\\",\\\"19\\\",\\\"20\\\",\\\"21\\\",\\\"22\\\",\\\"23\\\",\\\"24\\\",\\\"25\\\",\\\"26\\\",\\\"27\\\",\\\"28\\\",\\\"29\\\",\\\"30\\\",\\\"31\\\",\\\"32\\\",\\\"33\\\",\\\"34\\\",\\\"35\\\",\\\"36\\\",\\\"37\\\",\\\"38\\\",\\\"39\\\",\\\"40\\\",\\\"41\\\",\\\"42\\\",\\\"43\\\",\\\"44\\\",\\\"45\\\",\\\"46\\\",\\\"47\\\",\\\"48\\\",\\\"49\\\",\\\"50\\\",\\\"51\\\",\\\"52\\\",\\\"53\\\",\\\"54\\\",\\\"55\\\",\\\"56\\\",\\\"57\\\",\\\"58\\\",\\\"59\\\",\\\"60\\\",\\\"61\\\",\\\"62\\\",\\\"63\\\",\\\"64\\\",\\\"65\\\",\\\"66\\\",\\\"67\\\",\\\"68\\\",\\\"69\\\",\\\"70\\\",\\\"71\\\",\\\"72\\\",\\\"73\\\",\\\"74\\\",\\\"75\\\",\\\"76\\\",\\\"77\\\",\\\"78\\\",\\\"79\\\",\\\"80\\\",\\\"81\\\",\\\"82\\\",\\\"83\\\",\\\"84\\\",\\\"85\\\",\\\"86\\\",\\\"87\\\",\\\"88\\\",\\\"89\\\",\\\"90\\\",\\\"91\\\",\\\"92\\\",\\\"93\\\",\\\"94\\\",\\\"95\\\",\\\"96\\\",\\\"97\\\",\\\"98\\\",\\\"99\\\",\\\"100\\\",\\\"101\\\"],\\\"changes\\\":WebIO.getval({\\\"name\\\":\\\"changes\\\",\\\"scope\\\":\\\"13036419484812628007\\\",\\\"id\\\":\\\"7221732253507847742\\\",\\\"type\\\":\\\"observable\\\"}),\\\"index\\\":WebIO.getval({\\\"name\\\":\\\"index\\\",\\\"scope\\\":\\\"13036419484812628007\\\",\\\"id\\\":\\\"4137823713522911054\\\",\\\"type\\\":\\\"observable\\\"})};\\n    var self = this;\\n    function AppViewModel() {\\n        for (var key in json_data) {\\n            var el = json_data[key];\\n            this[key] = Array.isArray(el) ? ko.observableArray(el) : ko.observable(el);\\n        }\\n        \\n        [this[\\\"formatted_val\\\"]=ko.computed(    function(){\\n        return this.formatted_vals()[parseInt(this.index())-(1)];\\n    }\\n,this)]\\n        [this[\\\"changes\\\"].subscribe((function (val){!(this.valueFromJulia[\\\"changes\\\"]) ? (WebIO.setval({\\\"name\\\":\\\"changes\\\",\\\"scope\\\":\\\"13036419484812628007\\\",\\\"id\\\":\\\"7221732253507847742\\\",\\\"type\\\":\\\"observable\\\"},val)) : undefined; return this.valueFromJulia[\\\"changes\\\"]=false}),self),this[\\\"index\\\"].subscribe((function (val){!(this.valueFromJulia[\\\"index\\\"]) ? (WebIO.setval({\\\"name\\\":\\\"index\\\",\\\"scope\\\":\\\"13036419484812628007\\\",\\\"id\\\":\\\"4137823713522911054\\\",\\\"type\\\":\\\"observable\\\"},val)) : undefined; return this.valueFromJulia[\\\"index\\\"]=false}),self)]\\n        \\n    }\\n    self.model = new AppViewModel();\\n    self.valueFromJulia = {};\\n    for (var key in json_data) {\\n        self.valueFromJulia[key] = false;\\n    }\\n    ko.applyBindings(self.model, self.dom);\\n}\\n);\\n    (WebIO.importBlock({\\\"data\\\":[{\\\"name\\\":\\\"knockout\\\",\\\"type\\\":\\\"js\\\",\\\"url\\\":\\\"\\/assetserver\\/727383f2a47bd31570b7da84eee7b022dd6d7c78-knockout.js\\\"},{\\\"name\\\":\\\"knockout_punches\\\",\\\"type\\\":\\\"js\\\",\\\"url\\\":\\\"\\/assetserver\\/382b41b3b1bd9f26f75861d360bad7f8beea211f-knockout_punches.js\\\"}],\\\"type\\\":\\\"async_block\\\"})).then((imports) => handler.apply(this, imports));\\n}\\n\"],\"observables\":{\"changes\":{\"sync\":false,\"id\":\"7221732253507847742\",\"value\":0},\"index\":{\"sync\":true,\"id\":\"4137823713522911054\",\"value\":51}}},\"children\":[{\"props\":{\"className\":\"interact-flex-row interact-widget\"},\"nodeType\":\"DOM\",\"type\":\"node\",\"instanceArgs\":{\"namespace\":\"html\",\"tag\":\"div\"},\"children\":[{\"props\":{\"className\":\"interact-flex-row-left\"},\"nodeType\":\"DOM\",\"type\":\"node\",\"instanceArgs\":{\"namespace\":\"html\",\"tag\":\"div\"},\"children\":[{\"props\":{\"className\":\"interact \",\"style\":{\"padding\":\"5px 10px 0px 10px\"}},\"nodeType\":\"DOM\",\"type\":\"node\",\"instanceArgs\":{\"namespace\":\"html\",\"tag\":\"label\"},\"children\":[\"time\"]}]},{\"props\":{\"className\":\"interact-flex-row-center\"},\"nodeType\":\"DOM\",\"type\":\"node\",\"instanceArgs\":{\"namespace\":\"html\",\"tag\":\"div\"},\"children\":[{\"props\":{\"max\":101,\"min\":1,\"attributes\":{\"type\":\"range\",\"data-bind\":\"numericValue: index, valueUpdate: 'input', event: {change: function (){this.changes(this.changes()+1)}}\",\"orient\":\"horizontal\"},\"step\":1,\"className\":\"slider slider is-fullwidth\",\"style\":{}},\"nodeType\":\"DOM\",\"type\":\"node\",\"instanceArgs\":{\"namespace\":\"html\",\"tag\":\"input\"},\"children\":[]}]},{\"props\":{\"className\":\"interact-flex-row-right\"},\"nodeType\":\"DOM\",\"type\":\"node\",\"instanceArgs\":{\"namespace\":\"html\",\"tag\":\"div\"},\"children\":[{\"props\":{\"attributes\":{\"data-bind\":\"text: formatted_val\"}},\"nodeType\":\"DOM\",\"type\":\"node\",\"instanceArgs\":{\"namespace\":\"html\",\"tag\":\"p\"},\"children\":[]}]}]}]}]},{\"props\":{\"className\":\"field interact-widget\"},\"nodeType\":\"DOM\",\"type\":\"node\",\"instanceArgs\":{\"namespace\":\"html\",\"tag\":\"div\"},\"children\":[{\"props\":{},\"nodeType\":\"Scope\",\"type\":\"node\",\"instanceArgs\":{\"imports\":{\"data\":[{\"name\":\"knockout\",\"type\":\"js\",\"url\":\"\\/assetserver\\/727383f2a47bd31570b7da84eee7b022dd6d7c78-knockout.js\"},{\"name\":\"knockout_punches\",\"type\":\"js\",\"url\":\"\\/assetserver\\/382b41b3b1bd9f26f75861d360bad7f8beea211f-knockout_punches.js\"},{\"name\":null,\"type\":\"js\",\"url\":\"\\/assetserver\\/5ab20f1060420992a9b82a65b735dee4d81ef413-all.js\"},{\"name\":null,\"type\":\"css\",\"url\":\"\\/assetserver\\/1cc0ed62837210b80a182cc3676512f895dab686-style.css\"},{\"name\":null,\"type\":\"css\",\"url\":\"\\/assetserver\\/2eee816f616df3549d7044d45e744fbf8d42bfa1-bulma_confined.min.css\"}],\"type\":\"async_block\"},\"id\":\"6677990497474261109\",\"handlers\":{\"changes\":[\"(function (val){return (val!=this.model[\\\"changes\\\"]()) ? (this.valueFromJulia[\\\"changes\\\"]=true, this.model[\\\"changes\\\"](val)) : undefined})\"],\"index\":[\"(function (val){return (val!=this.model[\\\"index\\\"]()) ? (this.valueFromJulia[\\\"index\\\"]=true, this.model[\\\"index\\\"](val)) : undefined})\"]},\"systemjs_options\":null,\"mount_callbacks\":[\"function () {\\n    var handler = (function (ko, koPunches) {\\n    ko.punches.enableAll();\\n    ko.bindingHandlers.numericValue = {\\n        init: function(element, valueAccessor, allBindings, data, context) {\\n            var stringified = ko.observable(ko.unwrap(valueAccessor()));\\n            stringified.subscribe(function(value) {\\n                var val = parseFloat(value);\\n                if (!isNaN(val)) {\\n                    valueAccessor()(val);\\n                }\\n            });\\n            valueAccessor().subscribe(function(value) {\\n                var str = JSON.stringify(value);\\n                if ((str == \\\"0\\\") && ([\\\"-0\\\", \\\"-0.\\\"].indexOf(stringified()) >= 0))\\n                     return;\\n                 if ([\\\"null\\\", \\\"\\\"].indexOf(str) >= 0)\\n                     return;\\n                stringified(str);\\n            });\\n            ko.applyBindingsToNode(\\n                element,\\n                {\\n                    value: stringified,\\n                    valueUpdate: allBindings.get('valueUpdate'),\\n                },\\n                context,\\n            );\\n        }\\n    };\\n    var json_data = {\\\"formatted_vals\\\":[\\\"0.1\\\",\\\"0.2\\\",\\\"0.3\\\",\\\"0.4\\\",\\\"0.5\\\",\\\"0.6\\\",\\\"0.7\\\",\\\"0.8\\\",\\\"0.9\\\",\\\"1.0\\\",\\\"1.1\\\",\\\"1.2\\\",\\\"1.3\\\",\\\"1.4\\\",\\\"1.5\\\",\\\"1.6\\\",\\\"1.7\\\",\\\"1.8\\\",\\\"1.9\\\",\\\"2.0\\\"],\\\"changes\\\":WebIO.getval({\\\"name\\\":\\\"changes\\\",\\\"scope\\\":\\\"6677990497474261109\\\",\\\"id\\\":\\\"688452231432558898\\\",\\\"type\\\":\\\"observable\\\"}),\\\"index\\\":WebIO.getval({\\\"name\\\":\\\"index\\\",\\\"scope\\\":\\\"6677990497474261109\\\",\\\"id\\\":\\\"3939581049686688716\\\",\\\"type\\\":\\\"observable\\\"})};\\n    var self = this;\\n    function AppViewModel() {\\n        for (var key in json_data) {\\n            var el = json_data[key];\\n            this[key] = Array.isArray(el) ? ko.observableArray(el) : ko.observable(el);\\n        }\\n        \\n        [this[\\\"formatted_val\\\"]=ko.computed(    function(){\\n        return this.formatted_vals()[parseInt(this.index())-(1)];\\n    }\\n,this)]\\n        [this[\\\"changes\\\"].subscribe((function (val){!(this.valueFromJulia[\\\"changes\\\"]) ? (WebIO.setval({\\\"name\\\":\\\"changes\\\",\\\"scope\\\":\\\"6677990497474261109\\\",\\\"id\\\":\\\"688452231432558898\\\",\\\"type\\\":\\\"observable\\\"},val)) : undefined; return this.valueFromJulia[\\\"changes\\\"]=false}),self),this[\\\"index\\\"].subscribe((function (val){!(this.valueFromJulia[\\\"index\\\"]) ? (WebIO.setval({\\\"name\\\":\\\"index\\\",\\\"scope\\\":\\\"6677990497474261109\\\",\\\"id\\\":\\\"3939581049686688716\\\",\\\"type\\\":\\\"observable\\\"},val)) : undefined; return this.valueFromJulia[\\\"index\\\"]=false}),self)]\\n        \\n    }\\n    self.model = new AppViewModel();\\n    self.valueFromJulia = {};\\n    for (var key in json_data) {\\n        self.valueFromJulia[key] = false;\\n    }\\n    ko.applyBindings(self.model, self.dom);\\n}\\n);\\n    (WebIO.importBlock({\\\"data\\\":[{\\\"name\\\":\\\"knockout\\\",\\\"type\\\":\\\"js\\\",\\\"url\\\":\\\"\\/assetserver\\/727383f2a47bd31570b7da84eee7b022dd6d7c78-knockout.js\\\"},{\\\"name\\\":\\\"knockout_punches\\\",\\\"type\\\":\\\"js\\\",\\\"url\\\":\\\"\\/assetserver\\/382b41b3b1bd9f26f75861d360bad7f8beea211f-knockout_punches.js\\\"}],\\\"type\\\":\\\"async_block\\\"})).then((imports) => handler.apply(this, imports));\\n}\\n\"],\"observables\":{\"changes\":{\"sync\":false,\"id\":\"688452231432558898\",\"value\":0},\"index\":{\"sync\":true,\"id\":\"3939581049686688716\",\"value\":10}}},\"children\":[{\"props\":{\"className\":\"interact-flex-row interact-widget\"},\"nodeType\":\"DOM\",\"type\":\"node\",\"instanceArgs\":{\"namespace\":\"html\",\"tag\":\"div\"},\"children\":[{\"props\":{\"className\":\"interact-flex-row-left\"},\"nodeType\":\"DOM\",\"type\":\"node\",\"instanceArgs\":{\"namespace\":\"html\",\"tag\":\"div\"},\"children\":[{\"props\":{\"className\":\"interact \",\"style\":{\"padding\":\"5px 10px 0px 10px\"}},\"nodeType\":\"DOM\",\"type\":\"node\",\"instanceArgs\":{\"namespace\":\"html\",\"tag\":\"label\"},\"children\":[\"scale\"]}]},{\"props\":{\"className\":\"interact-flex-row-center\"},\"nodeType\":\"DOM\",\"type\":\"node\",\"instanceArgs\":{\"namespace\":\"html\",\"tag\":\"div\"},\"children\":[{\"props\":{\"max\":20,\"min\":1,\"attributes\":{\"type\":\"range\",\"data-bind\":\"numericValue: index, valueUpdate: 'input', event: {change: function (){this.changes(this.changes()+1)}}\",\"orient\":\"horizontal\"},\"step\":1,\"className\":\"slider slider is-fullwidth\",\"style\":{}},\"nodeType\":\"DOM\",\"type\":\"node\",\"instanceArgs\":{\"namespace\":\"html\",\"tag\":\"input\"},\"children\":[]}]},{\"props\":{\"className\":\"interact-flex-row-right\"},\"nodeType\":\"DOM\",\"type\":\"node\",\"instanceArgs\":{\"namespace\":\"html\",\"tag\":\"div\"},\"children\":[{\"props\":{\"attributes\":{\"data-bind\":\"text: formatted_val\"}},\"nodeType\":\"DOM\",\"type\":\"node\",\"instanceArgs\":{\"namespace\":\"html\",\"tag\":\"p\"},\"children\":[]}]}]}]}]},{\"props\":{\"style\":{\"display\":\"flex\",\"flex-direction\":\"row\"}},\"nodeType\":\"DOM\",\"type\":\"node\",\"instanceArgs\":{\"namespace\":\"html\",\"tag\":\"div\"},\"children\":[{\"props\":{\"className\":\"interact-widget\"},\"nodeType\":\"DOM\",\"type\":\"node\",\"instanceArgs\":{\"namespace\":\"html\",\"tag\":\"div\"},\"children\":[{\"props\":{},\"nodeType\":\"Scope\",\"type\":\"node\",\"instanceArgs\":{\"imports\":{\"data\":[{\"name\":null,\"type\":\"js\",\"url\":\"\\/assetserver\\/dd22ed1bf1896c2748f3fe616ce0b838adc895c1-katex.min.js\"},{\"name\":null,\"type\":\"css\",\"url\":\"\\/assetserver\\/46517a424aa5e6cffc1360d7e0848b601c584ee3-katex.min.css\"}],\"type\":\"async_block\"},\"id\":\"9717947486028621089\",\"handlers\":{\"value\":[\"(function (txt){return this.k.render(txt,this.container)})\"]},\"systemjs_options\":null,\"mount_callbacks\":[\"function () {\\n    var handler = ((function (k){this.k=k; this.container=this.dom.querySelector(\\\"#container\\\"); return k.render(\\\"\\\\\\\\;\\\\\\\\;\\\",this.container)}));\\n    (WebIO.importBlock({\\\"data\\\":[{\\\"name\\\":null,\\\"type\\\":\\\"js\\\",\\\"url\\\":\\\"\\/assetserver\\/dd22ed1bf1896c2748f3fe616ce0b838adc895c1-katex.min.js\\\"},{\\\"name\\\":null,\\\"type\\\":\\\"css\\\",\\\"url\\\":\\\"\\/assetserver\\/46517a424aa5e6cffc1360d7e0848b601c584ee3-katex.min.css\\\"}],\\\"type\\\":\\\"async_block\\\"})).then((imports) => handler.apply(this, imports));\\n}\\n\"],\"observables\":{\"value\":{\"sync\":false,\"id\":\"1991183918305683293\",\"value\":\"\\\\;\\\\;\"}}},\"children\":[{\"props\":{\"id\":\"container\"},\"nodeType\":\"DOM\",\"type\":\"node\",\"instanceArgs\":{\"namespace\":\"html\",\"tag\":\"div\"},\"children\":[]}]}]},{\"props\":{\"className\":\"field interact-widget\"},\"nodeType\":\"DOM\",\"type\":\"node\",\"instanceArgs\":{\"namespace\":\"html\",\"tag\":\"div\"},\"children\":[{\"props\":{},\"nodeType\":\"Scope\",\"type\":\"node\",\"instanceArgs\":{\"imports\":{\"data\":[{\"name\":\"knockout\",\"type\":\"js\",\"url\":\"\\/assetserver\\/727383f2a47bd31570b7da84eee7b022dd6d7c78-knockout.js\"},{\"name\":\"knockout_punches\",\"type\":\"js\",\"url\":\"\\/assetserver\\/382b41b3b1bd9f26f75861d360bad7f8beea211f-knockout_punches.js\"},{\"name\":null,\"type\":\"js\",\"url\":\"\\/assetserver\\/5ab20f1060420992a9b82a65b735dee4d81ef413-all.js\"},{\"name\":null,\"type\":\"css\",\"url\":\"\\/assetserver\\/1cc0ed62837210b80a182cc3676512f895dab686-style.css\"},{\"name\":null,\"type\":\"css\",\"url\":\"\\/assetserver\\/2eee816f616df3549d7044d45e744fbf8d42bfa1-bulma_confined.min.css\"}],\"type\":\"async_block\"},\"id\":\"2246477498556967992\",\"handlers\":{\"loading\":[\"(function (val){return (val!=this.model[\\\"loading\\\"]()) ? (this.valueFromJulia[\\\"loading\\\"]=true, this.model[\\\"loading\\\"](val)) : undefined})\"],\"clicks\":[\"(function (val){return (val!=this.model[\\\"clicks\\\"]()) ? (this.valueFromJulia[\\\"clicks\\\"]=true, this.model[\\\"clicks\\\"](val)) : undefined})\"]},\"systemjs_options\":null,\"mount_callbacks\":[\"function () {\\n    var handler = (function (ko, koPunches) {\\n    ko.punches.enableAll();\\n    ko.bindingHandlers.numericValue = {\\n        init: function(element, valueAccessor, allBindings, data, context) {\\n            var stringified = ko.observable(ko.unwrap(valueAccessor()));\\n            stringified.subscribe(function(value) {\\n                var val = parseFloat(value);\\n                if (!isNaN(val)) {\\n                    valueAccessor()(val);\\n                }\\n            });\\n            valueAccessor().subscribe(function(value) {\\n                var str = JSON.stringify(value);\\n                if ((str == \\\"0\\\") && ([\\\"-0\\\", \\\"-0.\\\"].indexOf(stringified()) >= 0))\\n                     return;\\n                 if ([\\\"null\\\", \\\"\\\"].indexOf(str) >= 0)\\n                     return;\\n                stringified(str);\\n            });\\n            ko.applyBindingsToNode(\\n                element,\\n                {\\n                    value: stringified,\\n                    valueUpdate: allBindings.get('valueUpdate'),\\n                },\\n                context,\\n            );\\n        }\\n    };\\n    var json_data = {\\\"loading\\\":WebIO.getval({\\\"name\\\":\\\"loading\\\",\\\"scope\\\":\\\"2246477498556967992\\\",\\\"id\\\":\\\"8278001779974995964\\\",\\\"type\\\":\\\"observable\\\"}),\\\"clicks\\\":WebIO.getval({\\\"name\\\":\\\"clicks\\\",\\\"scope\\\":\\\"2246477498556967992\\\",\\\"id\\\":\\\"6860684220015071194\\\",\\\"type\\\":\\\"observable\\\"})};\\n    var self = this;\\n    function AppViewModel() {\\n        for (var key in json_data) {\\n            var el = json_data[key];\\n            this[key] = Array.isArray(el) ? ko.observableArray(el) : ko.observable(el);\\n        }\\n        \\n        \\n        [this[\\\"loading\\\"].subscribe((function (val){!(this.valueFromJulia[\\\"loading\\\"]) ? (WebIO.setval({\\\"name\\\":\\\"loading\\\",\\\"scope\\\":\\\"2246477498556967992\\\",\\\"id\\\":\\\"8278001779974995964\\\",\\\"type\\\":\\\"observable\\\"},val)) : undefined; return this.valueFromJulia[\\\"loading\\\"]=false}),self),this[\\\"clicks\\\"].subscribe((function (val){!(this.valueFromJulia[\\\"clicks\\\"]) ? (WebIO.setval({\\\"name\\\":\\\"clicks\\\",\\\"scope\\\":\\\"2246477498556967992\\\",\\\"id\\\":\\\"6860684220015071194\\\",\\\"type\\\":\\\"observable\\\"},val)) : undefined; return this.valueFromJulia[\\\"clicks\\\"]=false}),self)]\\n        \\n    }\\n    self.model = new AppViewModel();\\n    self.valueFromJulia = {};\\n    for (var key in json_data) {\\n        self.valueFromJulia[key] = false;\\n    }\\n    ko.applyBindings(self.model, self.dom);\\n}\\n);\\n    (WebIO.importBlock({\\\"data\\\":[{\\\"name\\\":\\\"knockout\\\",\\\"type\\\":\\\"js\\\",\\\"url\\\":\\\"\\/assetserver\\/727383f2a47bd31570b7da84eee7b022dd6d7c78-knockout.js\\\"},{\\\"name\\\":\\\"knockout_punches\\\",\\\"type\\\":\\\"js\\\",\\\"url\\\":\\\"\\/assetserver\\/382b41b3b1bd9f26f75861d360bad7f8beea211f-knockout_punches.js\\\"}],\\\"type\\\":\\\"async_block\\\"})).then((imports) => handler.apply(this, imports));\\n}\\n\"],\"observables\":{\"loading\":{\"sync\":false,\"id\":\"8278001779974995964\",\"value\":false},\"clicks\":{\"sync\":true,\"id\":\"6860684220015071194\",\"value\":0}}},\"children\":[{\"props\":{\"attributes\":{\"data-bind\":\"click: function (){this.clicks(this.clicks()+1)}, css: {'is-loading' : loading}\"},\"className\":\"is-medium button is-primary\",\"style\":{}},\"nodeType\":\"DOM\",\"type\":\"node\",\"instanceArgs\":{\"namespace\":\"html\",\"tag\":\"button\"},\"children\":[\"run\"]}]}]},{\"props\":{\"className\":\"interact-widget\"},\"nodeType\":\"DOM\",\"type\":\"node\",\"instanceArgs\":{\"namespace\":\"html\",\"tag\":\"div\"},\"children\":[{\"props\":{},\"nodeType\":\"Scope\",\"type\":\"node\",\"instanceArgs\":{\"imports\":{\"data\":[{\"name\":null,\"type\":\"js\",\"url\":\"\\/assetserver\\/dd22ed1bf1896c2748f3fe616ce0b838adc895c1-katex.min.js\"},{\"name\":null,\"type\":\"css\",\"url\":\"\\/assetserver\\/46517a424aa5e6cffc1360d7e0848b601c584ee3-katex.min.css\"}],\"type\":\"async_block\"},\"id\":\"9717947486028621089\",\"handlers\":{\"value\":[\"(function (txt){return this.k.render(txt,this.container)})\"]},\"systemjs_options\":null,\"mount_callbacks\":[\"function () {\\n    var handler = ((function (k){this.k=k; this.container=this.dom.querySelector(\\\"#container\\\"); return k.render(\\\"\\\\\\\\;\\\\\\\\;\\\",this.container)}));\\n    (WebIO.importBlock({\\\"data\\\":[{\\\"name\\\":null,\\\"type\\\":\\\"js\\\",\\\"url\\\":\\\"\\/assetserver\\/dd22ed1bf1896c2748f3fe616ce0b838adc895c1-katex.min.js\\\"},{\\\"name\\\":null,\\\"type\\\":\\\"css\\\",\\\"url\\\":\\\"\\/assetserver\\/46517a424aa5e6cffc1360d7e0848b601c584ee3-katex.min.css\\\"}],\\\"type\\\":\\\"async_block\\\"})).then((imports) => handler.apply(this, imports));\\n}\\n\"],\"observables\":{\"value\":{\"sync\":false,\"id\":\"1991183918305683293\",\"value\":\"\\\\;\\\\;\"}}},\"children\":[{\"props\":{\"id\":\"container\"},\"nodeType\":\"DOM\",\"type\":\"node\",\"instanceArgs\":{\"namespace\":\"html\",\"tag\":\"div\"},\"children\":[]}]}]},{\"props\":{\"className\":\"field interact-widget\"},\"nodeType\":\"DOM\",\"type\":\"node\",\"instanceArgs\":{\"namespace\":\"html\",\"tag\":\"div\"},\"children\":[{\"props\":{},\"nodeType\":\"Scope\",\"type\":\"node\",\"instanceArgs\":{\"imports\":{\"data\":[{\"name\":\"knockout\",\"type\":\"js\",\"url\":\"\\/assetserver\\/727383f2a47bd31570b7da84eee7b022dd6d7c78-knockout.js\"},{\"name\":\"knockout_punches\",\"type\":\"js\",\"url\":\"\\/assetserver\\/382b41b3b1bd9f26f75861d360bad7f8beea211f-knockout_punches.js\"},{\"name\":null,\"type\":\"js\",\"url\":\"\\/assetserver\\/5ab20f1060420992a9b82a65b735dee4d81ef413-all.js\"},{\"name\":null,\"type\":\"css\",\"url\":\"\\/assetserver\\/1cc0ed62837210b80a182cc3676512f895dab686-style.css\"},{\"name\":null,\"type\":\"css\",\"url\":\"\\/assetserver\\/2eee816f616df3549d7044d45e744fbf8d42bfa1-bulma_confined.min.css\"}],\"type\":\"async_block\"},\"id\":\"17195069024075864206\",\"handlers\":{\"loading\":[\"(function (val){return (val!=this.model[\\\"loading\\\"]()) ? (this.valueFromJulia[\\\"loading\\\"]=true, this.model[\\\"loading\\\"](val)) : undefined})\"],\"clicks\":[\"(function (val){return (val!=this.model[\\\"clicks\\\"]()) ? (this.valueFromJulia[\\\"clicks\\\"]=true, this.model[\\\"clicks\\\"](val)) : undefined})\"]},\"systemjs_options\":null,\"mount_callbacks\":[\"function () {\\n    var handler = (function (ko, koPunches) {\\n    ko.punches.enableAll();\\n    ko.bindingHandlers.numericValue = {\\n        init: function(element, valueAccessor, allBindings, data, context) {\\n            var stringified = ko.observable(ko.unwrap(valueAccessor()));\\n            stringified.subscribe(function(value) {\\n                var val = parseFloat(value);\\n                if (!isNaN(val)) {\\n                    valueAccessor()(val);\\n                }\\n            });\\n            valueAccessor().subscribe(function(value) {\\n                var str = JSON.stringify(value);\\n                if ((str == \\\"0\\\") && ([\\\"-0\\\", \\\"-0.\\\"].indexOf(stringified()) >= 0))\\n                     return;\\n                 if ([\\\"null\\\", \\\"\\\"].indexOf(str) >= 0)\\n                     return;\\n                stringified(str);\\n            });\\n            ko.applyBindingsToNode(\\n                element,\\n                {\\n                    value: stringified,\\n                    valueUpdate: allBindings.get('valueUpdate'),\\n                },\\n                context,\\n            );\\n        }\\n    };\\n    var json_data = {\\\"loading\\\":WebIO.getval({\\\"name\\\":\\\"loading\\\",\\\"scope\\\":\\\"17195069024075864206\\\",\\\"id\\\":\\\"13396714292817356809\\\",\\\"type\\\":\\\"observable\\\"}),\\\"clicks\\\":WebIO.getval({\\\"name\\\":\\\"clicks\\\",\\\"scope\\\":\\\"17195069024075864206\\\",\\\"id\\\":\\\"16434030861818958753\\\",\\\"type\\\":\\\"observable\\\"})};\\n    var self = this;\\n    function AppViewModel() {\\n        for (var key in json_data) {\\n            var el = json_data[key];\\n            this[key] = Array.isArray(el) ? ko.observableArray(el) : ko.observable(el);\\n        }\\n        \\n        \\n        [this[\\\"loading\\\"].subscribe((function (val){!(this.valueFromJulia[\\\"loading\\\"]) ? (WebIO.setval({\\\"name\\\":\\\"loading\\\",\\\"scope\\\":\\\"17195069024075864206\\\",\\\"id\\\":\\\"13396714292817356809\\\",\\\"type\\\":\\\"observable\\\"},val)) : undefined; return this.valueFromJulia[\\\"loading\\\"]=false}),self),this[\\\"clicks\\\"].subscribe((function (val){!(this.valueFromJulia[\\\"clicks\\\"]) ? (WebIO.setval({\\\"name\\\":\\\"clicks\\\",\\\"scope\\\":\\\"17195069024075864206\\\",\\\"id\\\":\\\"16434030861818958753\\\",\\\"type\\\":\\\"observable\\\"},val)) : undefined; return this.valueFromJulia[\\\"clicks\\\"]=false}),self)]\\n        \\n    }\\n    self.model = new AppViewModel();\\n    self.valueFromJulia = {};\\n    for (var key in json_data) {\\n        self.valueFromJulia[key] = false;\\n    }\\n    ko.applyBindings(self.model, self.dom);\\n}\\n);\\n    (WebIO.importBlock({\\\"data\\\":[{\\\"name\\\":\\\"knockout\\\",\\\"type\\\":\\\"js\\\",\\\"url\\\":\\\"\\/assetserver\\/727383f2a47bd31570b7da84eee7b022dd6d7c78-knockout.js\\\"},{\\\"name\\\":\\\"knockout_punches\\\",\\\"type\\\":\\\"js\\\",\\\"url\\\":\\\"\\/assetserver\\/382b41b3b1bd9f26f75861d360bad7f8beea211f-knockout_punches.js\\\"}],\\\"type\\\":\\\"async_block\\\"})).then((imports) => handler.apply(this, imports));\\n}\\n\"],\"observables\":{\"loading\":{\"sync\":false,\"id\":\"13396714292817356809\",\"value\":false},\"clicks\":{\"sync\":true,\"id\":\"16434030861818958753\",\"value\":0}}},\"children\":[{\"props\":{\"attributes\":{\"data-bind\":\"click: function (){this.clicks(this.clicks()+1)}, css: {'is-loading' : loading}\"},\"className\":\"is-medium button is-primary\",\"style\":{}},\"nodeType\":\"DOM\",\"type\":\"node\",\"instanceArgs\":{\"namespace\":\"html\",\"tag\":\"button\"},\"children\":[\"stop\"]}]}]},{\"props\":{\"className\":\"interact-widget\"},\"nodeType\":\"DOM\",\"type\":\"node\",\"instanceArgs\":{\"namespace\":\"html\",\"tag\":\"div\"},\"children\":[{\"props\":{},\"nodeType\":\"Scope\",\"type\":\"node\",\"instanceArgs\":{\"imports\":{\"data\":[{\"name\":null,\"type\":\"js\",\"url\":\"\\/assetserver\\/dd22ed1bf1896c2748f3fe616ce0b838adc895c1-katex.min.js\"},{\"name\":null,\"type\":\"css\",\"url\":\"\\/assetserver\\/46517a424aa5e6cffc1360d7e0848b601c584ee3-katex.min.css\"}],\"type\":\"async_block\"},\"id\":\"9717947486028621089\",\"handlers\":{\"value\":[\"(function (txt){return this.k.render(txt,this.container)})\"]},\"systemjs_options\":null,\"mount_callbacks\":[\"function () {\\n    var handler = ((function (k){this.k=k; this.container=this.dom.querySelector(\\\"#container\\\"); return k.render(\\\"\\\\\\\\;\\\\\\\\;\\\",this.container)}));\\n    (WebIO.importBlock({\\\"data\\\":[{\\\"name\\\":null,\\\"type\\\":\\\"js\\\",\\\"url\\\":\\\"\\/assetserver\\/dd22ed1bf1896c2748f3fe616ce0b838adc895c1-katex.min.js\\\"},{\\\"name\\\":null,\\\"type\\\":\\\"css\\\",\\\"url\\\":\\\"\\/assetserver\\/46517a424aa5e6cffc1360d7e0848b601c584ee3-katex.min.css\\\"}],\\\"type\\\":\\\"async_block\\\"})).then((imports) => handler.apply(this, imports));\\n}\\n\"],\"observables\":{\"value\":{\"sync\":false,\"id\":\"1991183918305683293\",\"value\":\"\\\\;\\\\;\"}}},\"children\":[{\"props\":{\"id\":\"container\"},\"nodeType\":\"DOM\",\"type\":\"node\",\"instanceArgs\":{\"namespace\":\"html\",\"tag\":\"div\"},\"children\":[]}]}]},{\"props\":{\"className\":\"field interact-widget\"},\"nodeType\":\"DOM\",\"type\":\"node\",\"instanceArgs\":{\"namespace\":\"html\",\"tag\":\"div\"},\"children\":[{\"props\":{},\"nodeType\":\"Scope\",\"type\":\"node\",\"instanceArgs\":{\"imports\":{\"data\":[{\"name\":\"knockout\",\"type\":\"js\",\"url\":\"\\/assetserver\\/727383f2a47bd31570b7da84eee7b022dd6d7c78-knockout.js\"},{\"name\":\"knockout_punches\",\"type\":\"js\",\"url\":\"\\/assetserver\\/382b41b3b1bd9f26f75861d360bad7f8beea211f-knockout_punches.js\"},{\"name\":null,\"type\":\"js\",\"url\":\"\\/assetserver\\/5ab20f1060420992a9b82a65b735dee4d81ef413-all.js\"},{\"name\":null,\"type\":\"css\",\"url\":\"\\/assetserver\\/1cc0ed62837210b80a182cc3676512f895dab686-style.css\"},{\"name\":null,\"type\":\"css\",\"url\":\"\\/assetserver\\/2eee816f616df3549d7044d45e744fbf8d42bfa1-bulma_confined.min.css\"}],\"type\":\"async_block\"},\"id\":\"1299120491950751513\",\"handlers\":{\"loading\":[\"(function (val){return (val!=this.model[\\\"loading\\\"]()) ? (this.valueFromJulia[\\\"loading\\\"]=true, this.model[\\\"loading\\\"](val)) : undefined})\"],\"clicks\":[\"(function (val){return (val!=this.model[\\\"clicks\\\"]()) ? (this.valueFromJulia[\\\"clicks\\\"]=true, this.model[\\\"clicks\\\"](val)) : undefined})\"]},\"systemjs_options\":null,\"mount_callbacks\":[\"function () {\\n    var handler = (function (ko, koPunches) {\\n    ko.punches.enableAll();\\n    ko.bindingHandlers.numericValue = {\\n        init: function(element, valueAccessor, allBindings, data, context) {\\n            var stringified = ko.observable(ko.unwrap(valueAccessor()));\\n            stringified.subscribe(function(value) {\\n                var val = parseFloat(value);\\n                if (!isNaN(val)) {\\n                    valueAccessor()(val);\\n                }\\n            });\\n            valueAccessor().subscribe(function(value) {\\n                var str = JSON.stringify(value);\\n                if ((str == \\\"0\\\") && ([\\\"-0\\\", \\\"-0.\\\"].indexOf(stringified()) >= 0))\\n                     return;\\n                 if ([\\\"null\\\", \\\"\\\"].indexOf(str) >= 0)\\n                     return;\\n                stringified(str);\\n            });\\n            ko.applyBindingsToNode(\\n                element,\\n                {\\n                    value: stringified,\\n                    valueUpdate: allBindings.get('valueUpdate'),\\n                },\\n                context,\\n            );\\n        }\\n    };\\n    var json_data = {\\\"loading\\\":WebIO.getval({\\\"name\\\":\\\"loading\\\",\\\"scope\\\":\\\"1299120491950751513\\\",\\\"id\\\":\\\"14877777729092402491\\\",\\\"type\\\":\\\"observable\\\"}),\\\"clicks\\\":WebIO.getval({\\\"name\\\":\\\"clicks\\\",\\\"scope\\\":\\\"1299120491950751513\\\",\\\"id\\\":\\\"9141208209088996422\\\",\\\"type\\\":\\\"observable\\\"})};\\n    var self = this;\\n    function AppViewModel() {\\n        for (var key in json_data) {\\n            var el = json_data[key];\\n            this[key] = Array.isArray(el) ? ko.observableArray(el) : ko.observable(el);\\n        }\\n        \\n        \\n        [this[\\\"loading\\\"].subscribe((function (val){!(this.valueFromJulia[\\\"loading\\\"]) ? (WebIO.setval({\\\"name\\\":\\\"loading\\\",\\\"scope\\\":\\\"1299120491950751513\\\",\\\"id\\\":\\\"14877777729092402491\\\",\\\"type\\\":\\\"observable\\\"},val)) : undefined; return this.valueFromJulia[\\\"loading\\\"]=false}),self),this[\\\"clicks\\\"].subscribe((function (val){!(this.valueFromJulia[\\\"clicks\\\"]) ? (WebIO.setval({\\\"name\\\":\\\"clicks\\\",\\\"scope\\\":\\\"1299120491950751513\\\",\\\"id\\\":\\\"9141208209088996422\\\",\\\"type\\\":\\\"observable\\\"},val)) : undefined; return this.valueFromJulia[\\\"clicks\\\"]=false}),self)]\\n        \\n    }\\n    self.model = new AppViewModel();\\n    self.valueFromJulia = {};\\n    for (var key in json_data) {\\n        self.valueFromJulia[key] = false;\\n    }\\n    ko.applyBindings(self.model, self.dom);\\n}\\n);\\n    (WebIO.importBlock({\\\"data\\\":[{\\\"name\\\":\\\"knockout\\\",\\\"type\\\":\\\"js\\\",\\\"url\\\":\\\"\\/assetserver\\/727383f2a47bd31570b7da84eee7b022dd6d7c78-knockout.js\\\"},{\\\"name\\\":\\\"knockout_punches\\\",\\\"type\\\":\\\"js\\\",\\\"url\\\":\\\"\\/assetserver\\/382b41b3b1bd9f26f75861d360bad7f8beea211f-knockout_punches.js\\\"}],\\\"type\\\":\\\"async_block\\\"})).then((imports) => handler.apply(this, imports));\\n}\\n\"],\"observables\":{\"loading\":{\"sync\":false,\"id\":\"14877777729092402491\",\"value\":false},\"clicks\":{\"sync\":true,\"id\":\"9141208209088996422\",\"value\":0}}},\"children\":[{\"props\":{\"attributes\":{\"data-bind\":\"click: function (){this.clicks(this.clicks()+1)}, css: {'is-loading' : loading}\"},\"className\":\"is-medium button is-primary\",\"style\":{}},\"nodeType\":\"DOM\",\"type\":\"node\",\"instanceArgs\":{\"namespace\":\"html\",\"tag\":\"button\"},\"children\":[\"save\"]}]}]}]}]},{\"props\":{\"className\":\"interact-widget\"},\"nodeType\":\"DOM\",\"type\":\"node\",\"instanceArgs\":{\"namespace\":\"html\",\"tag\":\"div\"},\"children\":[{\"props\":{},\"nodeType\":\"Scope\",\"type\":\"node\",\"instanceArgs\":{\"imports\":{\"data\":[{\"name\":null,\"type\":\"js\",\"url\":\"\\/assetserver\\/dd22ed1bf1896c2748f3fe616ce0b838adc895c1-katex.min.js\"},{\"name\":null,\"type\":\"css\",\"url\":\"\\/assetserver\\/46517a424aa5e6cffc1360d7e0848b601c584ee3-katex.min.css\"}],\"type\":\"async_block\"},\"id\":\"9717947486028621089\",\"handlers\":{\"value\":[\"(function (txt){return this.k.render(txt,this.container)})\"]},\"systemjs_options\":null,\"mount_callbacks\":[\"function () {\\n    var handler = ((function (k){this.k=k; this.container=this.dom.querySelector(\\\"#container\\\"); return k.render(\\\"\\\\\\\\;\\\\\\\\;\\\",this.container)}));\\n    (WebIO.importBlock({\\\"data\\\":[{\\\"name\\\":null,\\\"type\\\":\\\"js\\\",\\\"url\\\":\\\"\\/assetserver\\/dd22ed1bf1896c2748f3fe616ce0b838adc895c1-katex.min.js\\\"},{\\\"name\\\":null,\\\"type\\\":\\\"css\\\",\\\"url\\\":\\\"\\/assetserver\\/46517a424aa5e6cffc1360d7e0848b601c584ee3-katex.min.css\\\"}],\\\"type\\\":\\\"async_block\\\"})).then((imports) => handler.apply(this, imports));\\n}\\n\"],\"observables\":{\"value\":{\"sync\":false,\"id\":\"1991183918305683293\",\"value\":\"\\\\;\\\\;\"}}},\"children\":[{\"props\":{\"id\":\"container\"},\"nodeType\":\"DOM\",\"type\":\"node\",\"instanceArgs\":{\"namespace\":\"html\",\"tag\":\"div\"},\"children\":[]}]}]},{\"props\":{},\"nodeType\":\"Scope\",\"type\":\"node\",\"instanceArgs\":{\"imports\":{\"data\":[],\"type\":\"async_block\"},\"id\":\"6999865876433113570\",\"handlers\":{\"obs-output\":[\"function (value, scope) {\\n    scope.setInnerHTML(value);\\n}\\n\"]},\"systemjs_options\":null,\"mount_callbacks\":[],\"observables\":{\"obs-output\":{\"sync\":false,\"id\":\"6614427992183248594\",\"value\":\"<img src='data:image\\/png;base64,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'><\\/img>\"}}},\"children\":[{\"props\":{\"className\":\"webio-observable\",\"setInnerHtml\":\"<img src='data:image\\/png;base64,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'><\\/img>\"},\"nodeType\":\"DOM\",\"type\":\"node\",\"instanceArgs\":{\"namespace\":\"html\",\"tag\":\"div\"},\"children\":[]}]},{\"props\":{\"className\":\"interact-widget\"},\"nodeType\":\"DOM\",\"type\":\"node\",\"instanceArgs\":{\"namespace\":\"html\",\"tag\":\"div\"},\"children\":[{\"props\":{},\"nodeType\":\"Scope\",\"type\":\"node\",\"instanceArgs\":{\"imports\":{\"data\":[{\"name\":null,\"type\":\"js\",\"url\":\"\\/assetserver\\/dd22ed1bf1896c2748f3fe616ce0b838adc895c1-katex.min.js\"},{\"name\":null,\"type\":\"css\",\"url\":\"\\/assetserver\\/46517a424aa5e6cffc1360d7e0848b601c584ee3-katex.min.css\"}],\"type\":\"async_block\"},\"id\":\"9717947486028621089\",\"handlers\":{\"value\":[\"(function (txt){return this.k.render(txt,this.container)})\"]},\"systemjs_options\":null,\"mount_callbacks\":[\"function () {\\n    var handler = ((function (k){this.k=k; this.container=this.dom.querySelector(\\\"#container\\\"); return k.render(\\\"\\\\\\\\;\\\\\\\\;\\\",this.container)}));\\n    (WebIO.importBlock({\\\"data\\\":[{\\\"name\\\":null,\\\"type\\\":\\\"js\\\",\\\"url\\\":\\\"\\/assetserver\\/dd22ed1bf1896c2748f3fe616ce0b838adc895c1-katex.min.js\\\"},{\\\"name\\\":null,\\\"type\\\":\\\"css\\\",\\\"url\\\":\\\"\\/assetserver\\/46517a424aa5e6cffc1360d7e0848b601c584ee3-katex.min.css\\\"}],\\\"type\\\":\\\"async_block\\\"})).then((imports) => handler.apply(this, imports));\\n}\\n\"],\"observables\":{\"value\":{\"sync\":false,\"id\":\"1991183918305683293\",\"value\":\"\\\\;\\\\;\"}}},\"children\":[{\"props\":{\"id\":\"container\"},\"nodeType\":\"DOM\",\"type\":\"node\",\"instanceArgs\":{\"namespace\":\"html\",\"tag\":\"div\"},\"children\":[]}]}]},{\"props\":{\"style\":{\"display\":\"flex\",\"flex-direction\":\"column\"}},\"nodeType\":\"DOM\",\"type\":\"node\",\"instanceArgs\":{\"namespace\":\"html\",\"tag\":\"div\"},\"children\":[]}]}]},\n",
       "        window,\n",
       "    );\n",
       "    })()\n",
       "    </script>\n",
       "</div>\n"
      ],
      "text/plain": [
       "WebIO.Node{WebIO.DOM}(WebIO.DOM(:html, :div), Any[WebIO.Node{WebIO.DOM}(WebIO.DOM(:html, :div), Any[WebIO.Node{WebIO.DOM}(WebIO.DOM(:html, :div), Any[WebIO.Node{WebIO.DOM}(WebIO.DOM(:html, :div), Any[WebIO.Scope(WebIO.Node{WebIO.DOM}(WebIO.DOM(:html, :div), Any[WebIO.Node{WebIO.DOM}(WebIO.DOM(:html, :div), Any[WebIO.Node{WebIO.DOM}(WebIO.DOM(:html, :label), Any[\"time\"], Dict{Symbol, Any}(:className => \"interact \", :style => Dict{Any, Any}(:padding => \"5px 10px 0px 10px\")))], Dict{Symbol, Any}(:className => \"interact-flex-row-left\")), WebIO.Node{WebIO.DOM}(WebIO.DOM(:html, :div), Any[WebIO.Node{WebIO.DOM}(WebIO.DOM(:html, :input), Any[], Dict{Symbol, Any}(:max => 101, :min => 1, :attributes => Dict{Any, Any}(:type => \"range\", Symbol(\"data-bind\") => \"numericValue: index, valueUpdate: 'input', event: {change: function (){this.changes(this.changes()+1)}}\", \"orient\" => \"horizontal\"), :step => 1, :className => \"slider slider is-fullwidth\", :style => Dict{Any, Any}()))], Dict{Symbol, Any}(:className => \"interact-flex-row-center\")), WebIO.Node{WebIO.DOM}(WebIO.DOM(:html, :div), Any[WebIO.Node{WebIO.DOM}(WebIO.DOM(:html, :p), Any[], Dict{Symbol, Any}(:attributes => Dict(\"data-bind\" => \"text: formatted_val\")))], Dict{Symbol, Any}(:className => \"interact-flex-row-right\"))], Dict{Symbol, Any}(:className => \"interact-flex-row interact-widget\")), Dict{String, Tuple{Observables.AbstractObservable, Union{Nothing, Bool}}}(\"changes\" => (Observable(0), nothing), \"index\" => (Observable(51), nothing)), Set{String}(), nothing, WebIO.Asset[WebIO.Asset(\"js\", \"knockout\", \"/home/dushya/.julia/packages/Knockout/HReiN/src/../assets/knockout.js\"), WebIO.Asset(\"js\", \"knockout_punches\", \"/home/dushya/.julia/packages/Knockout/HReiN/src/../assets/knockout_punches.js\"), WebIO.Asset(\"js\", nothing, \"/home/dushya/.julia/packages/InteractBase/LJXv3/src/../assets/all.js\"), WebIO.Asset(\"css\", nothing, \"/home/dushya/.julia/packages/InteractBase/LJXv3/src/../assets/style.css\"), WebIO.Asset(\"css\", nothing, \"/home/dushya/.julia/packages/Interact/PENUy/src/../assets/bulma_confined.min.css\")], Dict{Any, Any}(\"changes\" => Any[WebIO.JSString(\"(function (val){return (val!=this.model[\\\"changes\\\"]()) ? (this.valueFromJulia[\\\"changes\\\"]=true, this.model[\\\"changes\\\"](val)) : undefined})\")], \"index\" => Any[WebIO.JSString(\"(function (val){return (val!=this.model[\\\"index\\\"]()) ? (this.valueFromJulia[\\\"index\\\"]=true, this.model[\\\"index\\\"](val)) : undefined})\")]), WebIO.ConnectionPool(Channel{Any}(32), Set{WebIO.AbstractConnection}(), Base.GenericCondition{ReentrantLock}(Base.IntrusiveLinkedList{Task}(Task (runnable) @0x00007fc5c0dfa590, Task (runnable) @0x00007fc5c0dfa590), ReentrantLock(nothing, 0x00000000, 0x00, Base.GenericCondition{Base.Threads.SpinLock}(Base.IntrusiveLinkedList{Task}(nothing, nothing), Base.Threads.SpinLock(0)), (8, 140485498976224, 140487308639600)))), WebIO.JSString[WebIO.JSString(\"function () {\\n    var handler = (function (ko, koPunches) {\\n    ko.punches.enableAll();\\n    ko.bindingHandlers.numericValue = {\\n        init: function(element, valueAccessor, allBindings, data, context) {\\n            var stringified = ko.observable(ko.unwrap(valueAccessor()));\\n            stringified.subscribe(function(value) {\\n                var val = parseFloat(value);\\n                if (!isNaN(val)) {\\n                    valueAccessor()(val);\\n                }\\n            });\\n            valueAccessor().subscribe(function(value) {\\n                var str = JSON.stringify(value);\\n                if ((str == \\\"0\\\") && ([\\\"-0\\\", \\\"-0.\\\"].indexOf(stringified()) >= 0))\\n                     return;\\n                 if ([\\\"null\\\", \\\"\\\"].indexOf(str) >= 0)\\n                     return;\\n                stringified(str);\\n            });\\n            ko.applyBindingsToNode(\\n                element,\\n                {\\n                    value: stringified,\\n                    valueUpdate: allBindings.get('valueUpdate'),\\n                },\\n                context,\\n            );\\n        }\\n    };\\n    var json_data = {\\\"formatted_vals\\\":[\\\"1\\\",\\\"2\\\",\\\"3\\\",\\\"4\\\",\\\"5\\\",\\\"6\\\",\\\"7\\\",\\\"8\\\",\\\"9\\\",\\\"10\\\",\\\"11\\\",\\\"12\\\",\\\"13\\\",\\\"14\\\",\\\"15\\\",\\\"16\\\",\\\"17\\\",\\\"18\\\",\\\"19\\\",\\\"20\\\",\\\"21\\\",\\\"22\\\",\\\"23\\\",\\\"24\\\",\\\"25\\\",\\\"26\\\",\\\"27\\\",\\\"28\\\",\\\"29\\\",\\\"30\\\",\\\"31\\\",\\\"32\\\",\\\"33\\\",\\\"34\\\",\\\"35\\\",\\\"36\\\",\\\"37\\\",\\\"38\\\",\\\"39\\\",\\\"40\\\",\\\"41\\\",\\\"42\\\",\\\"43\\\",\\\"44\\\",\\\"45\\\",\\\"46\\\",\\\"47\\\",\\\"48\\\",\\\"49\\\",\\\"50\\\",\\\"51\\\",\\\"52\\\",\\\"53\\\",\\\"54\\\",\\\"55\\\",\\\"56\\\",\\\"57\\\",\\\"58\\\",\\\"59\\\",\\\"60\\\",\\\"61\\\",\\\"62\\\",\\\"63\\\",\\\"64\\\",\\\"65\\\",\\\"66\\\",\\\"67\\\",\\\"68\\\",\\\"69\\\",\\\"70\\\",\\\"71\\\",\\\"72\\\",\\\"73\\\",\\\"74\\\",\\\"75\\\",\\\"76\\\",\\\"77\\\",\\\"78\\\",\\\"79\\\",\\\"80\\\",\\\"81\\\",\\\"82\\\",\\\"83\\\",\\\"84\\\",\\\"85\\\",\\\"86\\\",\\\"87\\\",\\\"88\\\",\\\"89\\\",\\\"90\\\",\\\"91\\\",\\\"92\\\",\\\"93\\\",\\\"94\\\",\\\"95\\\",\\\"96\\\",\\\"97\\\",\\\"98\\\",\\\"99\\\",\\\"100\\\",\\\"101\\\"],\\\"changes\\\":WebIO.getval({\\\"name\\\":\\\"changes\\\",\\\"scope\\\":\\\"13036419484812628007\\\",\\\"id\\\":\\\"7221732253507847742\\\",\\\"type\\\":\\\"observable\\\"}),\\\"index\\\":WebIO.getval({\\\"name\\\":\\\"index\\\",\\\"scope\\\":\\\"13036419484812628007\\\",\\\"id\\\":\\\"4137823713522911054\\\",\\\"type\\\":\\\"observable\\\"})};\\n    var self = this;\\n    function AppViewModel() {\\n        for (var key in json_data) {\\n            var el = json_data[key];\\n            this[key] = Array.isArray(el) ? ko.observableArray(el) : ko.observable(el);\\n        }\\n        \\n        [this[\\\"formatted_val\\\"]=ko.computed(    function(){\\n        return this.formatted_vals()[parseInt(this.index())-(1)];\\n    }\\n,this)]\\n        [this[\\\"changes\\\"].subscribe((function (val){!(this.valueFromJulia[\\\"changes\\\"]) ? (WebIO.setval({\\\"name\\\":\\\"changes\\\",\\\"scope\\\":\\\"13036419484812628007\\\",\\\"id\\\":\\\"7221732253507847742\\\",\\\"type\\\":\\\"observable\\\"},val)) : undefined; return this.valueFromJulia[\\\"changes\\\"]=false}),self),this[\\\"index\\\"].subscribe((function (val){!(this.valueFromJulia[\\\"index\\\"]) ? (WebIO.setval({\\\"name\\\":\\\"index\\\",\\\"scope\\\":\\\"13036419484812628007\\\",\\\"id\\\":\\\"4137823713522911054\\\",\\\"type\\\":\\\"observable\\\"},val)) : undefined; return this.valueFromJulia[\\\"index\\\"]=false}),self)]\\n        \\n    }\\n    self.model = new AppViewModel();\\n    self.valueFromJulia = {};\\n    for (var key in json_data) {\\n        self.valueFromJulia[key] = false;\\n    }\\n    ko.applyBindings(self.model, self.dom);\\n}\\n);\\n    (WebIO.importBlock({\\\"data\\\":[{\\\"name\\\":\\\"knockout\\\",\\\"type\\\":\\\"js\\\",\\\"url\\\":\\\"/assetserver/727383f2a47bd31570b7da84eee7b022dd6d7c78-knockout.js\\\"},{\\\"name\\\":\\\"knockout_punches\\\",\\\"type\\\":\\\"js\\\",\\\"url\\\":\\\"/assetserver/382b41b3b1bd9f26f75861d360bad7f8beea211f-knockout_punches.js\\\"}],\\\"type\\\":\\\"async_block\\\"})).then((imports) => handler.apply(this, imports));\\n}\\n\")])], Dict{Symbol, Any}(:className => \"field interact-widget\")), WebIO.Node{WebIO.DOM}(WebIO.DOM(:html, :div), Any[WebIO.Scope(WebIO.Node{WebIO.DOM}(WebIO.DOM(:html, :div), Any[WebIO.Node{WebIO.DOM}(WebIO.DOM(:html, :div), Any[WebIO.Node{WebIO.DOM}(WebIO.DOM(:html, :label), Any[\"scale\"], Dict{Symbol, Any}(:className => \"interact \", :style => Dict{Any, Any}(:padding => \"5px 10px 0px 10px\")))], Dict{Symbol, Any}(:className => \"interact-flex-row-left\")), WebIO.Node{WebIO.DOM}(WebIO.DOM(:html, :div), Any[WebIO.Node{WebIO.DOM}(WebIO.DOM(:html, :input), Any[], Dict{Symbol, Any}(:max => 20, :min => 1, :attributes => Dict{Any, Any}(:type => \"range\", Symbol(\"data-bind\") => \"numericValue: index, valueUpdate: 'input', event: {change: function (){this.changes(this.changes()+1)}}\", \"orient\" => \"horizontal\"), :step => 1, :className => \"slider slider is-fullwidth\", :style => Dict{Any, Any}()))], Dict{Symbol, Any}(:className => \"interact-flex-row-center\")), WebIO.Node{WebIO.DOM}(WebIO.DOM(:html, :div), Any[WebIO.Node{WebIO.DOM}(WebIO.DOM(:html, :p), Any[], Dict{Symbol, Any}(:attributes => Dict(\"data-bind\" => \"text: formatted_val\")))], Dict{Symbol, Any}(:className => \"interact-flex-row-right\"))], Dict{Symbol, Any}(:className => \"interact-flex-row interact-widget\")), Dict{String, Tuple{Observables.AbstractObservable, Union{Nothing, Bool}}}(\"changes\" => (Observable(0), nothing), \"index\" => (Observable{Any}(10), nothing)), Set{String}(), nothing, WebIO.Asset[WebIO.Asset(\"js\", \"knockout\", \"/home/dushya/.julia/packages/Knockout/HReiN/src/../assets/knockout.js\"), WebIO.Asset(\"js\", \"knockout_punches\", \"/home/dushya/.julia/packages/Knockout/HReiN/src/../assets/knockout_punches.js\"), WebIO.Asset(\"js\", nothing, \"/home/dushya/.julia/packages/InteractBase/LJXv3/src/../assets/all.js\"), WebIO.Asset(\"css\", nothing, \"/home/dushya/.julia/packages/InteractBase/LJXv3/src/../assets/style.css\"), WebIO.Asset(\"css\", nothing, \"/home/dushya/.julia/packages/Interact/PENUy/src/../assets/bulma_confined.min.css\")], Dict{Any, Any}(\"changes\" => Any[WebIO.JSString(\"(function (val){return (val!=this.model[\\\"changes\\\"]()) ? (this.valueFromJulia[\\\"changes\\\"]=true, this.model[\\\"changes\\\"](val)) : undefined})\")], \"index\" => Any[WebIO.JSString(\"(function (val){return (val!=this.model[\\\"index\\\"]()) ? (this.valueFromJulia[\\\"index\\\"]=true, this.model[\\\"index\\\"](val)) : undefined})\")]), WebIO.ConnectionPool(Channel{Any}(32), Set{WebIO.AbstractConnection}(), Base.GenericCondition{ReentrantLock}(Base.IntrusiveLinkedList{Task}(Task (runnable) @0x00007fc54a88c010, Task (runnable) @0x00007fc54a88c010), ReentrantLock(nothing, 0x00000000, 0x00, Base.GenericCondition{Base.Threads.SpinLock}(Base.IntrusiveLinkedList{Task}(nothing, nothing), Base.Threads.SpinLock(0)), (8, 140487319514784, 140487319514800)))), WebIO.JSString[WebIO.JSString(\"function () {\\n    var handler = (function (ko, koPunches) {\\n    ko.punches.enableAll();\\n    ko.bindingHandlers.numericValue = {\\n        init: function(element, valueAccessor, allBindings, data, context) {\\n            var stringified = ko.observable(ko.unwrap(valueAccessor()));\\n            stringified.subscribe(function(value) {\\n                var val = parseFloat(value);\\n                if (!isNaN(val)) {\\n                    valueAccessor()(val);\\n                }\\n            });\\n            valueAccessor().subscribe(function(value) {\\n                var str = JSON.stringify(value);\\n                if ((str == \\\"0\\\") && ([\\\"-0\\\", \\\"-0.\\\"].indexOf(stringified()) >= 0))\\n                     return;\\n                 if ([\\\"null\\\", \\\"\\\"].indexOf(str) >= 0)\\n                     return;\\n                stringified(str);\\n            });\\n            ko.applyBindingsToNode(\\n                element,\\n                {\\n                    value: stringified,\\n                    valueUpdate: allBindings.get('valueUpdate'),\\n                },\\n                context,\\n            );\\n        }\\n    };\\n    var json_data = {\\\"formatted_vals\\\":[\\\"0.1\\\",\\\"0.2\\\",\\\"0.3\\\",\\\"0.4\\\",\\\"0.5\\\",\\\"0.6\\\",\\\"0.7\\\",\\\"0.8\\\",\\\"0.9\\\",\\\"1.0\\\",\\\"1.1\\\",\\\"1.2\\\",\\\"1.3\\\",\\\"1.4\\\",\\\"1.5\\\",\\\"1.6\\\",\\\"1.7\\\",\\\"1.8\\\",\\\"1.9\\\",\\\"2.0\\\"],\\\"changes\\\":WebIO.getval({\\\"name\\\":\\\"changes\\\",\\\"scope\\\":\\\"6677990497474261109\\\",\\\"id\\\":\\\"688452231432558898\\\",\\\"type\\\":\\\"observable\\\"}),\\\"index\\\":WebIO.getval({\\\"name\\\":\\\"index\\\",\\\"scope\\\":\\\"6677990497474261109\\\",\\\"id\\\":\\\"3939581049686688716\\\",\\\"type\\\":\\\"observable\\\"})};\\n    var self = this;\\n    function AppViewModel() {\\n        for (var key in json_data) {\\n            var el = json_data[key];\\n            this[key] = Array.isArray(el) ? ko.observableArray(el) : ko.observable(el);\\n        }\\n        \\n        [this[\\\"formatted_val\\\"]=ko.computed(    function(){\\n        return this.formatted_vals()[parseInt(this.index())-(1)];\\n    }\\n,this)]\\n        [this[\\\"changes\\\"].subscribe((function (val){!(this.valueFromJulia[\\\"changes\\\"]) ? (WebIO.setval({\\\"name\\\":\\\"changes\\\",\\\"scope\\\":\\\"6677990497474261109\\\",\\\"id\\\":\\\"688452231432558898\\\",\\\"type\\\":\\\"observable\\\"},val)) : undefined; return this.valueFromJulia[\\\"changes\\\"]=false}),self),this[\\\"index\\\"].subscribe((function (val){!(this.valueFromJulia[\\\"index\\\"]) ? (WebIO.setval({\\\"name\\\":\\\"index\\\",\\\"scope\\\":\\\"6677990497474261109\\\",\\\"id\\\":\\\"3939581049686688716\\\",\\\"type\\\":\\\"observable\\\"},val)) : undefined; return this.valueFromJulia[\\\"index\\\"]=false}),self)]\\n        \\n    }\\n    self.model = new AppViewModel();\\n    self.valueFromJulia = {};\\n    for (var key in json_data) {\\n        self.valueFromJulia[key] = false;\\n    }\\n    ko.applyBindings(self.model, self.dom);\\n}\\n);\\n    (WebIO.importBlock({\\\"data\\\":[{\\\"name\\\":\\\"knockout\\\",\\\"type\\\":\\\"js\\\",\\\"url\\\":\\\"/assetserver/727383f2a47bd31570b7da84eee7b022dd6d7c78-knockout.js\\\"},{\\\"name\\\":\\\"knockout_punches\\\",\\\"type\\\":\\\"js\\\",\\\"url\\\":\\\"/assetserver/382b41b3b1bd9f26f75861d360bad7f8beea211f-knockout_punches.js\\\"}],\\\"type\\\":\\\"async_block\\\"})).then((imports) => handler.apply(this, imports));\\n}\\n\")])], Dict{Symbol, Any}(:className => \"field interact-widget\")), WebIO.Node{WebIO.DOM}(WebIO.DOM(:html, :div), Any[WebIO.Node{WebIO.DOM}(WebIO.DOM(:html, :div), Any[WebIO.Scope(WebIO.Node{WebIO.DOM}(WebIO.DOM(:html, :div), Any[], Dict{Symbol, Any}(:id => \"container\")), Dict{String, Tuple{Observables.AbstractObservable, Union{Nothing, Bool}}}(\"value\" => (Observable(\"\\\\;\\\\;\"), nothing)), Set{String}(), nothing, WebIO.Asset[WebIO.Asset(\"js\", nothing, \"/home/dushya/.julia/packages/InteractBase/LJXv3/src/../assets/katex.min.js\"), WebIO.Asset(\"css\", nothing, \"/home/dushya/.julia/packages/InteractBase/LJXv3/src/../assets/katex.min.css\")], Dict{Any, Any}(\"value\" => Any[WebIO.JSString(\"(function (txt){return this.k.render(txt,this.container)})\")]), WebIO.ConnectionPool(Channel{Any}(32), Set{WebIO.AbstractConnection}(), Base.GenericCondition{ReentrantLock}(Base.IntrusiveLinkedList{Task}(Task (runnable) @0x00007fc58ca607e0, Task (runnable) @0x00007fc58ca607e0), ReentrantLock(nothing, 0x00000000, 0x00, Base.GenericCondition{Base.Threads.SpinLock}(Base.IntrusiveLinkedList{Task}(nothing, nothing), Base.Threads.SpinLock(0)), (0, 140485374010624, 3)))), WebIO.JSString[WebIO.JSString(\"function () {\\n    var handler = ((function (k){this.k=k; this.container=this.dom.querySelector(\\\"#container\\\"); return k.render(\\\"\\\\\\\\;\\\\\\\\;\\\",this.container)}));\\n    (WebIO.importBlock({\\\"data\\\":[{\\\"name\\\":null,\\\"type\\\":\\\"js\\\",\\\"url\\\":\\\"/assetserver/dd22ed1bf1896c2748f3fe616ce0b838adc895c1-katex.min.js\\\"},{\\\"name\\\":null,\\\"type\\\":\\\"css\\\",\\\"url\\\":\\\"/assetserver/46517a424aa5e6cffc1360d7e0848b601c584ee3-katex.min.css\\\"}],\\\"type\\\":\\\"async_block\\\"})).then((imports) => handler.apply(this, imports));\\n}\\n\")])], Dict{Symbol, Any}(:className => \"interact-widget\")), WebIO.Node{WebIO.DOM}(WebIO.DOM(:html, :div), Any[WebIO.Scope(WebIO.Node{WebIO.DOM}(WebIO.DOM(:html, :button), Any[\"run\"], Dict{Symbol, Any}(:attributes => Dict{Any, Any}(\"data-bind\" => \"click: function (){this.clicks(this.clicks()+1)}, css: {'is-loading' : loading}\"), :className => \"is-medium button is-primary\", :style => Dict{String, Any}())), Dict{String, Tuple{Observables.AbstractObservable, Union{Nothing, Bool}}}(\"loading\" => (Observable(false), nothing), \"clicks\" => (Observable(0), nothing)), Set{String}(), nothing, WebIO.Asset[WebIO.Asset(\"js\", \"knockout\", \"/home/dushya/.julia/packages/Knockout/HReiN/src/../assets/knockout.js\"), WebIO.Asset(\"js\", \"knockout_punches\", \"/home/dushya/.julia/packages/Knockout/HReiN/src/../assets/knockout_punches.js\"), WebIO.Asset(\"js\", nothing, \"/home/dushya/.julia/packages/InteractBase/LJXv3/src/../assets/all.js\"), WebIO.Asset(\"css\", nothing, \"/home/dushya/.julia/packages/InteractBase/LJXv3/src/../assets/style.css\"), WebIO.Asset(\"css\", nothing, \"/home/dushya/.julia/packages/Interact/PENUy/src/../assets/bulma_confined.min.css\")], Dict{Any, Any}(\"loading\" => Any[WebIO.JSString(\"(function (val){return (val!=this.model[\\\"loading\\\"]()) ? (this.valueFromJulia[\\\"loading\\\"]=true, this.model[\\\"loading\\\"](val)) : undefined})\")], \"clicks\" => Any[WebIO.JSString(\"(function (val){return (val!=this.model[\\\"clicks\\\"]()) ? (this.valueFromJulia[\\\"clicks\\\"]=true, this.model[\\\"clicks\\\"](val)) : undefined})\")]), WebIO.ConnectionPool(Channel{Any}(32), Set{WebIO.AbstractConnection}(), Base.GenericCondition{ReentrantLock}(Base.IntrusiveLinkedList{Task}(Task (runnable) @0x00007fc58d670970, Task (runnable) @0x00007fc58d670970), ReentrantLock(nothing, 0x00000000, 0x00, Base.GenericCondition{Base.Threads.SpinLock}(Base.IntrusiveLinkedList{Task}(nothing, nothing), Base.Threads.SpinLock(0)), (0, 0, 139779710648320)))), WebIO.JSString[WebIO.JSString(\"function () {\\n    var handler = (function (ko, koPunches) {\\n    ko.punches.enableAll();\\n    ko.bindingHandlers.numericValue = {\\n        init: function(element, valueAccessor, allBindings, data, context) {\\n            var stringified = ko.observable(ko.unwrap(valueAccessor()));\\n            stringified.subscribe(function(value) {\\n                var val = parseFloat(value);\\n                if (!isNaN(val)) {\\n                    valueAccessor()(val);\\n                }\\n            });\\n            valueAccessor().subscribe(function(value) {\\n                var str = JSON.stringify(value);\\n                if ((str == \\\"0\\\") && ([\\\"-0\\\", \\\"-0.\\\"].indexOf(stringified()) >= 0))\\n                     return;\\n                 if ([\\\"null\\\", \\\"\\\"].indexOf(str) >= 0)\\n                     return;\\n                stringified(str);\\n            });\\n            ko.applyBindingsToNode(\\n                element,\\n                {\\n                    value: stringified,\\n                    valueUpdate: allBindings.get('valueUpdate'),\\n                },\\n                context,\\n            );\\n        }\\n    };\\n    var json_data = {\\\"loading\\\":WebIO.getval({\\\"name\\\":\\\"loading\\\",\\\"scope\\\":\\\"2246477498556967992\\\",\\\"id\\\":\\\"8278001779974995964\\\",\\\"type\\\":\\\"observable\\\"}),\\\"clicks\\\":WebIO.getval({\\\"name\\\":\\\"clicks\\\",\\\"scope\\\":\\\"2246477498556967992\\\",\\\"id\\\":\\\"6860684220015071194\\\",\\\"type\\\":\\\"observable\\\"})};\\n    var self = this;\\n    function AppViewModel() {\\n        for (var key in json_data) {\\n            var el = json_data[key];\\n            this[key] = Array.isArray(el) ? ko.observableArray(el) : ko.observable(el);\\n        }\\n        \\n        \\n        [this[\\\"loading\\\"].subscribe((function (val){!(this.valueFromJulia[\\\"loading\\\"]) ? (WebIO.setval({\\\"name\\\":\\\"loading\\\",\\\"scope\\\":\\\"2246477498556967992\\\",\\\"id\\\":\\\"8278001779974995964\\\",\\\"type\\\":\\\"observable\\\"},val)) : undefined; return this.valueFromJulia[\\\"loading\\\"]=false}),self),this[\\\"clicks\\\"].subscribe((function (val){!(this.valueFromJulia[\\\"clicks\\\"]) ? (WebIO.setval({\\\"name\\\":\\\"clicks\\\",\\\"scope\\\":\\\"2246477498556967992\\\",\\\"id\\\":\\\"6860684220015071194\\\",\\\"type\\\":\\\"observable\\\"},val)) : undefined; return this.valueFromJulia[\\\"clicks\\\"]=false}),self)]\\n        \\n    }\\n    self.model = new AppViewModel();\\n    self.valueFromJulia = {};\\n    for (var key in json_data) {\\n        self.valueFromJulia[key] = false;\\n    }\\n    ko.applyBindings(self.model, self.dom);\\n}\\n);\\n    (WebIO.importBlock({\\\"data\\\":[{\\\"name\\\":\\\"knockout\\\",\\\"type\\\":\\\"js\\\",\\\"url\\\":\\\"/assetserver/727383f2a47bd31570b7da84eee7b022dd6d7c78-knockout.js\\\"},{\\\"name\\\":\\\"knockout_punches\\\",\\\"type\\\":\\\"js\\\",\\\"url\\\":\\\"/assetserver/382b41b3b1bd9f26f75861d360bad7f8beea211f-knockout_punches.js\\\"}],\\\"type\\\":\\\"async_block\\\"})).then((imports) => handler.apply(this, imports));\\n}\\n\")])], Dict{Symbol, Any}(:className => \"field interact-widget\")), WebIO.Node{WebIO.DOM}(WebIO.DOM(:html, :div), Any[WebIO.Scope(WebIO.Node{WebIO.DOM}(WebIO.DOM(:html, :div), Any[], Dict{Symbol, Any}(:id => \"container\")), Dict{String, Tuple{Observables.AbstractObservable, Union{Nothing, Bool}}}(\"value\" => (Observable(\"\\\\;\\\\;\"), nothing)), Set{String}(), nothing, WebIO.Asset[WebIO.Asset(\"js\", nothing, \"/home/dushya/.julia/packages/InteractBase/LJXv3/src/../assets/katex.min.js\"), WebIO.Asset(\"css\", nothing, \"/home/dushya/.julia/packages/InteractBase/LJXv3/src/../assets/katex.min.css\")], Dict{Any, Any}(\"value\" => Any[WebIO.JSString(\"(function (txt){return this.k.render(txt,this.container)})\")]), WebIO.ConnectionPool(Channel{Any}(32), Set{WebIO.AbstractConnection}(), Base.GenericCondition{ReentrantLock}(Base.IntrusiveLinkedList{Task}(Task (runnable) @0x00007fc58ca607e0, Task (runnable) @0x00007fc58ca607e0), ReentrantLock(nothing, 0x00000000, 0x00, Base.GenericCondition{Base.Threads.SpinLock}(Base.IntrusiveLinkedList{Task}(nothing, nothing), Base.Threads.SpinLock(0)), (0, 140485374010624, 3)))), WebIO.JSString[WebIO.JSString(\"function () {\\n    var handler = ((function (k){this.k=k; this.container=this.dom.querySelector(\\\"#container\\\"); return k.render(\\\"\\\\\\\\;\\\\\\\\;\\\",this.container)}));\\n    (WebIO.importBlock({\\\"data\\\":[{\\\"name\\\":null,\\\"type\\\":\\\"js\\\",\\\"url\\\":\\\"/assetserver/dd22ed1bf1896c2748f3fe616ce0b838adc895c1-katex.min.js\\\"},{\\\"name\\\":null,\\\"type\\\":\\\"css\\\",\\\"url\\\":\\\"/assetserver/46517a424aa5e6cffc1360d7e0848b601c584ee3-katex.min.css\\\"}],\\\"type\\\":\\\"async_block\\\"})).then((imports) => handler.apply(this, imports));\\n}\\n\")])], Dict{Symbol, Any}(:className => \"interact-widget\")), WebIO.Node{WebIO.DOM}(WebIO.DOM(:html, :div), Any[WebIO.Scope(WebIO.Node{WebIO.DOM}(WebIO.DOM(:html, :button), Any[\"stop\"], Dict{Symbol, Any}(:attributes => Dict{Any, Any}(\"data-bind\" => \"click: function (){this.clicks(this.clicks()+1)}, css: {'is-loading' : loading}\"), :className => \"is-medium button is-primary\", :style => Dict{String, Any}())), Dict{String, Tuple{Observables.AbstractObservable, Union{Nothing, Bool}}}(\"loading\" => (Observable(false), nothing), \"clicks\" => (Observable(0), nothing)), Set{String}(), nothing, WebIO.Asset[WebIO.Asset(\"js\", \"knockout\", \"/home/dushya/.julia/packages/Knockout/HReiN/src/../assets/knockout.js\"), WebIO.Asset(\"js\", \"knockout_punches\", \"/home/dushya/.julia/packages/Knockout/HReiN/src/../assets/knockout_punches.js\"), WebIO.Asset(\"js\", nothing, \"/home/dushya/.julia/packages/InteractBase/LJXv3/src/../assets/all.js\"), WebIO.Asset(\"css\", nothing, \"/home/dushya/.julia/packages/InteractBase/LJXv3/src/../assets/style.css\"), WebIO.Asset(\"css\", nothing, \"/home/dushya/.julia/packages/Interact/PENUy/src/../assets/bulma_confined.min.css\")], Dict{Any, Any}(\"loading\" => Any[WebIO.JSString(\"(function (val){return (val!=this.model[\\\"loading\\\"]()) ? (this.valueFromJulia[\\\"loading\\\"]=true, this.model[\\\"loading\\\"](val)) : undefined})\")], \"clicks\" => Any[WebIO.JSString(\"(function (val){return (val!=this.model[\\\"clicks\\\"]()) ? (this.valueFromJulia[\\\"clicks\\\"]=true, this.model[\\\"clicks\\\"](val)) : undefined})\")]), WebIO.ConnectionPool(Channel{Any}(32), Set{WebIO.AbstractConnection}(), Base.GenericCondition{ReentrantLock}(Base.IntrusiveLinkedList{Task}(Task (runnable) @0x00007fc58da8c7e0, Task (runnable) @0x00007fc58da8c7e0), ReentrantLock(nothing, 0x00000000, 0x00, Base.GenericCondition{Base.Threads.SpinLock}(Base.IntrusiveLinkedList{Task}(nothing, nothing), Base.Threads.SpinLock(0)), (0, 0, 139779710648320)))), WebIO.JSString[WebIO.JSString(\"function () {\\n    var handler = (function (ko, koPunches) {\\n    ko.punches.enableAll();\\n    ko.bindingHandlers.numericValue = {\\n        init: function(element, valueAccessor, allBindings, data, context) {\\n            var stringified = ko.observable(ko.unwrap(valueAccessor()));\\n            stringified.subscribe(function(value) {\\n                var val = parseFloat(value);\\n                if (!isNaN(val)) {\\n                    valueAccessor()(val);\\n                }\\n            });\\n            valueAccessor().subscribe(function(value) {\\n                var str = JSON.stringify(value);\\n                if ((str == \\\"0\\\") && ([\\\"-0\\\", \\\"-0.\\\"].indexOf(stringified()) >= 0))\\n                     return;\\n                 if ([\\\"null\\\", \\\"\\\"].indexOf(str) >= 0)\\n                     return;\\n                stringified(str);\\n            });\\n            ko.applyBindingsToNode(\\n                element,\\n                {\\n                    value: stringified,\\n                    valueUpdate: allBindings.get('valueUpdate'),\\n                },\\n                context,\\n            );\\n        }\\n    };\\n    var json_data = {\\\"loading\\\":WebIO.getval({\\\"name\\\":\\\"loading\\\",\\\"scope\\\":\\\"17195069024075864206\\\",\\\"id\\\":\\\"13396714292817356809\\\",\\\"type\\\":\\\"observable\\\"}),\\\"clicks\\\":WebIO.getval({\\\"name\\\":\\\"clicks\\\",\\\"scope\\\":\\\"17195069024075864206\\\",\\\"id\\\":\\\"16434030861818958753\\\",\\\"type\\\":\\\"observable\\\"})};\\n    var self = this;\\n    function AppViewModel() {\\n        for (var key in json_data) {\\n            var el = json_data[key];\\n            this[key] = Array.isArray(el) ? ko.observableArray(el) : ko.observable(el);\\n        }\\n        \\n        \\n        [this[\\\"loading\\\"].subscribe((function (val){!(this.valueFromJulia[\\\"loading\\\"]) ? (WebIO.setval({\\\"name\\\":\\\"loading\\\",\\\"scope\\\":\\\"17195069024075864206\\\",\\\"id\\\":\\\"13396714292817356809\\\",\\\"type\\\":\\\"observable\\\"},val)) : undefined; return this.valueFromJulia[\\\"loading\\\"]=false}),self),this[\\\"clicks\\\"].subscribe((function (val){!(this.valueFromJulia[\\\"clicks\\\"]) ? (WebIO.setval({\\\"name\\\":\\\"clicks\\\",\\\"scope\\\":\\\"17195069024075864206\\\",\\\"id\\\":\\\"16434030861818958753\\\",\\\"type\\\":\\\"observable\\\"},val)) : undefined; return this.valueFromJulia[\\\"clicks\\\"]=false}),self)]\\n        \\n    }\\n    self.model = new AppViewModel();\\n    self.valueFromJulia = {};\\n    for (var key in json_data) {\\n        self.valueFromJulia[key] = false;\\n    }\\n    ko.applyBindings(self.model, self.dom);\\n}\\n);\\n    (WebIO.importBlock({\\\"data\\\":[{\\\"name\\\":\\\"knockout\\\",\\\"type\\\":\\\"js\\\",\\\"url\\\":\\\"/assetserver/727383f2a47bd31570b7da84eee7b022dd6d7c78-knockout.js\\\"},{\\\"name\\\":\\\"knockout_punches\\\",\\\"type\\\":\\\"js\\\",\\\"url\\\":\\\"/assetserver/382b41b3b1bd9f26f75861d360bad7f8beea211f-knockout_punches.js\\\"}],\\\"type\\\":\\\"async_block\\\"})).then((imports) => handler.apply(this, imports));\\n}\\n\")])], Dict{Symbol, Any}(:className => \"field interact-widget\")), WebIO.Node{WebIO.DOM}(WebIO.DOM(:html, :div), Any[WebIO.Scope(WebIO.Node{WebIO.DOM}(WebIO.DOM(:html, :div), Any[], Dict{Symbol, Any}(:id => \"container\")), Dict{String, Tuple{Observables.AbstractObservable, Union{Nothing, Bool}}}(\"value\" => (Observable(\"\\\\;\\\\;\"), nothing)), Set{String}(), nothing, WebIO.Asset[WebIO.Asset(\"js\", nothing, \"/home/dushya/.julia/packages/InteractBase/LJXv3/src/../assets/katex.min.js\"), WebIO.Asset(\"css\", nothing, \"/home/dushya/.julia/packages/InteractBase/LJXv3/src/../assets/katex.min.css\")], Dict{Any, Any}(\"value\" => Any[WebIO.JSString(\"(function (txt){return this.k.render(txt,this.container)})\")]), WebIO.ConnectionPool(Channel{Any}(32), Set{WebIO.AbstractConnection}(), Base.GenericCondition{ReentrantLock}(Base.IntrusiveLinkedList{Task}(Task (runnable) @0x00007fc58ca607e0, Task (runnable) @0x00007fc58ca607e0), ReentrantLock(nothing, 0x00000000, 0x00, Base.GenericCondition{Base.Threads.SpinLock}(Base.IntrusiveLinkedList{Task}(nothing, nothing), Base.Threads.SpinLock(0)), (0, 140485374010624, 3)))), WebIO.JSString[WebIO.JSString(\"function () {\\n    var handler = ((function (k){this.k=k; this.container=this.dom.querySelector(\\\"#container\\\"); return k.render(\\\"\\\\\\\\;\\\\\\\\;\\\",this.container)}));\\n    (WebIO.importBlock({\\\"data\\\":[{\\\"name\\\":null,\\\"type\\\":\\\"js\\\",\\\"url\\\":\\\"/assetserver/dd22ed1bf1896c2748f3fe616ce0b838adc895c1-katex.min.js\\\"},{\\\"name\\\":null,\\\"type\\\":\\\"css\\\",\\\"url\\\":\\\"/assetserver/46517a424aa5e6cffc1360d7e0848b601c584ee3-katex.min.css\\\"}],\\\"type\\\":\\\"async_block\\\"})).then((imports) => handler.apply(this, imports));\\n}\\n\")])], Dict{Symbol, Any}(:className => \"interact-widget\")), WebIO.Node{WebIO.DOM}(WebIO.DOM(:html, :div), Any[WebIO.Scope(WebIO.Node{WebIO.DOM}(WebIO.DOM(:html, :button), Any[\"save\"], Dict{Symbol, Any}(:attributes => Dict{Any, Any}(\"data-bind\" => \"click: function (){this.clicks(this.clicks()+1)}, css: {'is-loading' : loading}\"), :className => \"is-medium button is-primary\", :style => Dict{String, Any}())), Dict{String, Tuple{Observables.AbstractObservable, Union{Nothing, Bool}}}(\"loading\" => (Observable(false), nothing), \"clicks\" => (Observable(0), nothing)), Set{String}(), nothing, WebIO.Asset[WebIO.Asset(\"js\", \"knockout\", \"/home/dushya/.julia/packages/Knockout/HReiN/src/../assets/knockout.js\"), WebIO.Asset(\"js\", \"knockout_punches\", \"/home/dushya/.julia/packages/Knockout/HReiN/src/../assets/knockout_punches.js\"), WebIO.Asset(\"js\", nothing, \"/home/dushya/.julia/packages/InteractBase/LJXv3/src/../assets/all.js\"), WebIO.Asset(\"css\", nothing, \"/home/dushya/.julia/packages/InteractBase/LJXv3/src/../assets/style.css\"), WebIO.Asset(\"css\", nothing, \"/home/dushya/.julia/packages/Interact/PENUy/src/../assets/bulma_confined.min.css\")], Dict{Any, Any}(\"loading\" => Any[WebIO.JSString(\"(function (val){return (val!=this.model[\\\"loading\\\"]()) ? (this.valueFromJulia[\\\"loading\\\"]=true, this.model[\\\"loading\\\"](val)) : undefined})\")], \"clicks\" => Any[WebIO.JSString(\"(function (val){return (val!=this.model[\\\"clicks\\\"]()) ? (this.valueFromJulia[\\\"clicks\\\"]=true, this.model[\\\"clicks\\\"](val)) : undefined})\")]), WebIO.ConnectionPool(Channel{Any}(32), Set{WebIO.AbstractConnection}(), Base.GenericCondition{ReentrantLock}(Base.IntrusiveLinkedList{Task}(Task (runnable) @0x00007fc58da8eef0, Task (runnable) @0x00007fc58da8eef0), ReentrantLock(nothing, 0x00000000, 0x00, Base.GenericCondition{Base.Threads.SpinLock}(Base.IntrusiveLinkedList{Task}(nothing, nothing), Base.Threads.SpinLock(0)), (0, 0, 141733920768)))), WebIO.JSString[WebIO.JSString(\"function () {\\n    var handler = (function (ko, koPunches) {\\n    ko.punches.enableAll();\\n    ko.bindingHandlers.numericValue = {\\n        init: function(element, valueAccessor, allBindings, data, context) {\\n            var stringified = ko.observable(ko.unwrap(valueAccessor()));\\n            stringified.subscribe(function(value) {\\n                var val = parseFloat(value);\\n                if (!isNaN(val)) {\\n                    valueAccessor()(val);\\n                }\\n            });\\n            valueAccessor().subscribe(function(value) {\\n                var str = JSON.stringify(value);\\n                if ((str == \\\"0\\\") && ([\\\"-0\\\", \\\"-0.\\\"].indexOf(stringified()) >= 0))\\n                     return;\\n                 if ([\\\"null\\\", \\\"\\\"].indexOf(str) >= 0)\\n                     return;\\n                stringified(str);\\n            });\\n            ko.applyBindingsToNode(\\n                element,\\n                {\\n                    value: stringified,\\n                    valueUpdate: allBindings.get('valueUpdate'),\\n                },\\n                context,\\n            );\\n        }\\n    };\\n    var json_data = {\\\"loading\\\":WebIO.getval({\\\"name\\\":\\\"loading\\\",\\\"scope\\\":\\\"1299120491950751513\\\",\\\"id\\\":\\\"14877777729092402491\\\",\\\"type\\\":\\\"observable\\\"}),\\\"clicks\\\":WebIO.getval({\\\"name\\\":\\\"clicks\\\",\\\"scope\\\":\\\"1299120491950751513\\\",\\\"id\\\":\\\"9141208209088996422\\\",\\\"type\\\":\\\"observable\\\"})};\\n    var self = this;\\n    function AppViewModel() {\\n        for (var key in json_data) {\\n            var el = json_data[key];\\n            this[key] = Array.isArray(el) ? ko.observableArray(el) : ko.observable(el);\\n        }\\n        \\n        \\n        [this[\\\"loading\\\"].subscribe((function (val){!(this.valueFromJulia[\\\"loading\\\"]) ? (WebIO.setval({\\\"name\\\":\\\"loading\\\",\\\"scope\\\":\\\"1299120491950751513\\\",\\\"id\\\":\\\"14877777729092402491\\\",\\\"type\\\":\\\"observable\\\"},val)) : undefined; return this.valueFromJulia[\\\"loading\\\"]=false}),self),this[\\\"clicks\\\"].subscribe((function (val){!(this.valueFromJulia[\\\"clicks\\\"]) ? (WebIO.setval({\\\"name\\\":\\\"clicks\\\",\\\"scope\\\":\\\"1299120491950751513\\\",\\\"id\\\":\\\"9141208209088996422\\\",\\\"type\\\":\\\"observable\\\"},val)) : undefined; return this.valueFromJulia[\\\"clicks\\\"]=false}),self)]\\n        \\n    }\\n    self.model = new AppViewModel();\\n    self.valueFromJulia = {};\\n    for (var key in json_data) {\\n        self.valueFromJulia[key] = false;\\n    }\\n    ko.applyBindings(self.model, self.dom);\\n}\\n);\\n    (WebIO.importBlock({\\\"data\\\":[{\\\"name\\\":\\\"knockout\\\",\\\"type\\\":\\\"js\\\",\\\"url\\\":\\\"/assetserver/727383f2a47bd31570b7da84eee7b022dd6d7c78-knockout.js\\\"},{\\\"name\\\":\\\"knockout_punches\\\",\\\"type\\\":\\\"js\\\",\\\"url\\\":\\\"/assetserver/382b41b3b1bd9f26f75861d360bad7f8beea211f-knockout_punches.js\\\"}],\\\"type\\\":\\\"async_block\\\"})).then((imports) => handler.apply(this, imports));\\n}\\n\")])], Dict{Symbol, Any}(:className => \"field interact-widget\"))], Dict{Symbol, Any}(:style => Dict(\"display\" => \"flex\", \"flex-direction\" => \"row\")))], Dict{Symbol, Any}(:style => Dict(\"display\" => \"flex\", \"flex-direction\" => \"column\"))), WebIO.Node{WebIO.DOM}(WebIO.DOM(:html, :div), Any[WebIO.Scope(WebIO.Node{WebIO.DOM}(WebIO.DOM(:html, :div), Any[], Dict{Symbol, Any}(:id => \"container\")), Dict{String, Tuple{Observables.AbstractObservable, Union{Nothing, Bool}}}(\"value\" => (Observable(\"\\\\;\\\\;\"), nothing)), Set{String}(), nothing, WebIO.Asset[WebIO.Asset(\"js\", nothing, \"/home/dushya/.julia/packages/InteractBase/LJXv3/src/../assets/katex.min.js\"), WebIO.Asset(\"css\", nothing, \"/home/dushya/.julia/packages/InteractBase/LJXv3/src/../assets/katex.min.css\")], Dict{Any, Any}(\"value\" => Any[WebIO.JSString(\"(function (txt){return this.k.render(txt,this.container)})\")]), WebIO.ConnectionPool(Channel{Any}(32), Set{WebIO.AbstractConnection}(), Base.GenericCondition{ReentrantLock}(Base.IntrusiveLinkedList{Task}(Task (runnable) @0x00007fc58ca607e0, Task (runnable) @0x00007fc58ca607e0), ReentrantLock(nothing, 0x00000000, 0x00, Base.GenericCondition{Base.Threads.SpinLock}(Base.IntrusiveLinkedList{Task}(nothing, nothing), Base.Threads.SpinLock(0)), (0, 140485374010624, 3)))), WebIO.JSString[WebIO.JSString(\"function () {\\n    var handler = ((function (k){this.k=k; this.container=this.dom.querySelector(\\\"#container\\\"); return k.render(\\\"\\\\\\\\;\\\\\\\\;\\\",this.container)}));\\n    (WebIO.importBlock({\\\"data\\\":[{\\\"name\\\":null,\\\"type\\\":\\\"js\\\",\\\"url\\\":\\\"/assetserver/dd22ed1bf1896c2748f3fe616ce0b838adc895c1-katex.min.js\\\"},{\\\"name\\\":null,\\\"type\\\":\\\"css\\\",\\\"url\\\":\\\"/assetserver/46517a424aa5e6cffc1360d7e0848b601c584ee3-katex.min.css\\\"}],\\\"type\\\":\\\"async_block\\\"})).then((imports) => handler.apply(this, imports));\\n}\\n\")])], Dict{Symbol, Any}(:className => \"interact-widget\")), Observable(Luxor.Drawing(430.0, 430.0, \"\", Cairo.CairoSurfaceBase{UInt32}(Ptr{Nothing} @0x0000000000000000, 430.0, 430.0), Cairo.CairoContext(Ptr{Nothing} @0x00000000045780c0, Cairo.CairoSurfaceBase{UInt32}(Ptr{Nothing} @0x0000000000000000, 430.0, 430.0), Ptr{Nothing} @0x00000000050850d0), :png, 0.0, 0.0, 0.0, 1.0, IOBuffer(data=UInt8[...], readable=true, writable=true, seekable=true, append=false, size=4609, maxsize=Inf, ptr=4610, mark=-1), UInt8[0x89, 0x50, 0x4e, 0x47, 0x0d, 0x0a, 0x1a, 0x0a, 0x00, 0x00  …  0x00, 0x00, 0x49, 0x45, 0x4e, 0x44, 0xae, 0x42, 0x60, 0x82], false)), WebIO.Node{WebIO.DOM}(WebIO.DOM(:html, :div), Any[WebIO.Scope(WebIO.Node{WebIO.DOM}(WebIO.DOM(:html, :div), Any[], Dict{Symbol, Any}(:id => \"container\")), Dict{String, Tuple{Observables.AbstractObservable, Union{Nothing, Bool}}}(\"value\" => (Observable(\"\\\\;\\\\;\"), nothing)), Set{String}(), nothing, WebIO.Asset[WebIO.Asset(\"js\", nothing, \"/home/dushya/.julia/packages/InteractBase/LJXv3/src/../assets/katex.min.js\"), WebIO.Asset(\"css\", nothing, \"/home/dushya/.julia/packages/InteractBase/LJXv3/src/../assets/katex.min.css\")], Dict{Any, Any}(\"value\" => Any[WebIO.JSString(\"(function (txt){return this.k.render(txt,this.container)})\")]), WebIO.ConnectionPool(Channel{Any}(32), Set{WebIO.AbstractConnection}(), Base.GenericCondition{ReentrantLock}(Base.IntrusiveLinkedList{Task}(Task (runnable) @0x00007fc58ca607e0, Task (runnable) @0x00007fc58ca607e0), ReentrantLock(nothing, 0x00000000, 0x00, Base.GenericCondition{Base.Threads.SpinLock}(Base.IntrusiveLinkedList{Task}(nothing, nothing), Base.Threads.SpinLock(0)), (0, 140485374010624, 3)))), WebIO.JSString[WebIO.JSString(\"function () {\\n    var handler = ((function (k){this.k=k; this.container=this.dom.querySelector(\\\"#container\\\"); return k.render(\\\"\\\\\\\\;\\\\\\\\;\\\",this.container)}));\\n    (WebIO.importBlock({\\\"data\\\":[{\\\"name\\\":null,\\\"type\\\":\\\"js\\\",\\\"url\\\":\\\"/assetserver/dd22ed1bf1896c2748f3fe616ce0b838adc895c1-katex.min.js\\\"},{\\\"name\\\":null,\\\"type\\\":\\\"css\\\",\\\"url\\\":\\\"/assetserver/46517a424aa5e6cffc1360d7e0848b601c584ee3-katex.min.css\\\"}],\\\"type\\\":\\\"async_block\\\"})).then((imports) => handler.apply(this, imports));\\n}\\n\")])], Dict{Symbol, Any}(:className => \"interact-widget\")), WebIO.Node{WebIO.DOM}(WebIO.DOM(:html, :div), Any[], Dict{Symbol, Any}(:style => Dict(\"display\" => \"flex\", \"flex-direction\" => \"column\")))], Dict{Symbol, Any}(:style => Dict(\"display\" => \"flex\", \"flex-direction\" => \"row\")))], Dict{Symbol, Any}(:style => Dict(\"display\" => \"flex\", \"flex-direction\" => \"column\")))"
      ]
     },
     "execution_count": 10,
     "metadata": {
      "application/vnd.webio.node+json": {
       "kernelId": "4371e4c5-2ab1-4480-8eb7-9ded96901257"
      }
     },
     "output_type": "execute_result"
    }
   ],
   "source": [
    "animate_sim(model)"
   ]
  },
  {
   "cell_type": "markdown",
   "metadata": {},
   "source": [
    "After defining the `step_rule!` function we can also choose to create an interactive application (which currently works in Jupyter with WebIO installation) as "
   ]
  },
  {
   "cell_type": "code",
   "execution_count": 11,
   "metadata": {
    "scrolled": true
   },
   "outputs": [
    {
     "data": {
      "application/vnd.webio.node+json": {
       "children": [
        {
         "children": [
          {
           "children": [
            {
             "children": [
              {
               "children": [
                {
                 "children": [
                  {
                   "children": [
                    {
                     "children": [
                      "time"
                     ],
                     "instanceArgs": {
                      "namespace": "html",
                      "tag": "label"
                     },
                     "nodeType": "DOM",
                     "props": {
                      "className": "interact ",
                      "style": {
                       "padding": "5px 10px 0px 10px"
                      }
                     },
                     "type": "node"
                    }
                   ],
                   "instanceArgs": {
                    "namespace": "html",
                    "tag": "div"
                   },
                   "nodeType": "DOM",
                   "props": {
                    "className": "interact-flex-row-left"
                   },
                   "type": "node"
                  },
                  {
                   "children": [
                    {
                     "children": [],
                     "instanceArgs": {
                      "namespace": "html",
                      "tag": "input"
                     },
                     "nodeType": "DOM",
                     "props": {
                      "attributes": {
                       "data-bind": "numericValue: index, valueUpdate: 'input', event: {change: function (){this.changes(this.changes()+1)}}",
                       "orient": "horizontal",
                       "type": "range"
                      },
                      "className": "slider slider is-fullwidth",
                      "max": 200,
                      "min": 1,
                      "step": 1,
                      "style": {}
                     },
                     "type": "node"
                    }
                   ],
                   "instanceArgs": {
                    "namespace": "html",
                    "tag": "div"
                   },
                   "nodeType": "DOM",
                   "props": {
                    "className": "interact-flex-row-center"
                   },
                   "type": "node"
                  },
                  {
                   "children": [
                    {
                     "children": [],
                     "instanceArgs": {
                      "namespace": "html",
                      "tag": "p"
                     },
                     "nodeType": "DOM",
                     "props": {
                      "attributes": {
                       "data-bind": "text: formatted_val"
                      }
                     },
                     "type": "node"
                    }
                   ],
                   "instanceArgs": {
                    "namespace": "html",
                    "tag": "div"
                   },
                   "nodeType": "DOM",
                   "props": {
                    "className": "interact-flex-row-right"
                   },
                   "type": "node"
                  }
                 ],
                 "instanceArgs": {
                  "namespace": "html",
                  "tag": "div"
                 },
                 "nodeType": "DOM",
                 "props": {
                  "className": "interact-flex-row interact-widget"
                 },
                 "type": "node"
                }
               ],
               "instanceArgs": {
                "handlers": {
                 "changes": [
                  "(function (val){return (val!=this.model[\"changes\"]()) ? (this.valueFromJulia[\"changes\"]=true, this.model[\"changes\"](val)) : undefined})"
                 ],
                 "index": [
                  "(function (val){return (val!=this.model[\"index\"]()) ? (this.valueFromJulia[\"index\"]=true, this.model[\"index\"](val)) : undefined})"
                 ]
                },
                "id": "17410503226374589756",
                "imports": {
                 "data": [
                  {
                   "name": "knockout",
                   "type": "js",
                   "url": "/assetserver/727383f2a47bd31570b7da84eee7b022dd6d7c78-knockout.js"
                  },
                  {
                   "name": "knockout_punches",
                   "type": "js",
                   "url": "/assetserver/382b41b3b1bd9f26f75861d360bad7f8beea211f-knockout_punches.js"
                  },
                  {
                   "name": null,
                   "type": "js",
                   "url": "/assetserver/5ab20f1060420992a9b82a65b735dee4d81ef413-all.js"
                  },
                  {
                   "name": null,
                   "type": "css",
                   "url": "/assetserver/1cc0ed62837210b80a182cc3676512f895dab686-style.css"
                  },
                  {
                   "name": null,
                   "type": "css",
                   "url": "/assetserver/2eee816f616df3549d7044d45e744fbf8d42bfa1-bulma_confined.min.css"
                  }
                 ],
                 "type": "async_block"
                },
                "mount_callbacks": [
                 "function () {\n    var handler = (function (ko, koPunches) {\n    ko.punches.enableAll();\n    ko.bindingHandlers.numericValue = {\n        init: function(element, valueAccessor, allBindings, data, context) {\n            var stringified = ko.observable(ko.unwrap(valueAccessor()));\n            stringified.subscribe(function(value) {\n                var val = parseFloat(value);\n                if (!isNaN(val)) {\n                    valueAccessor()(val);\n                }\n            });\n            valueAccessor().subscribe(function(value) {\n                var str = JSON.stringify(value);\n                if ((str == \"0\") && ([\"-0\", \"-0.\"].indexOf(stringified()) >= 0))\n                     return;\n                 if ([\"null\", \"\"].indexOf(str) >= 0)\n                     return;\n                stringified(str);\n            });\n            ko.applyBindingsToNode(\n                element,\n                {\n                    value: stringified,\n                    valueUpdate: allBindings.get('valueUpdate'),\n                },\n                context,\n            );\n        }\n    };\n    var json_data = {\"formatted_vals\":[\"1\",\"2\",\"3\",\"4\",\"5\",\"6\",\"7\",\"8\",\"9\",\"10\",\"11\",\"12\",\"13\",\"14\",\"15\",\"16\",\"17\",\"18\",\"19\",\"20\",\"21\",\"22\",\"23\",\"24\",\"25\",\"26\",\"27\",\"28\",\"29\",\"30\",\"31\",\"32\",\"33\",\"34\",\"35\",\"36\",\"37\",\"38\",\"39\",\"40\",\"41\",\"42\",\"43\",\"44\",\"45\",\"46\",\"47\",\"48\",\"49\",\"50\",\"51\",\"52\",\"53\",\"54\",\"55\",\"56\",\"57\",\"58\",\"59\",\"60\",\"61\",\"62\",\"63\",\"64\",\"65\",\"66\",\"67\",\"68\",\"69\",\"70\",\"71\",\"72\",\"73\",\"74\",\"75\",\"76\",\"77\",\"78\",\"79\",\"80\",\"81\",\"82\",\"83\",\"84\",\"85\",\"86\",\"87\",\"88\",\"89\",\"90\",\"91\",\"92\",\"93\",\"94\",\"95\",\"96\",\"97\",\"98\",\"99\",\"100\",\"101\",\"102\",\"103\",\"104\",\"105\",\"106\",\"107\",\"108\",\"109\",\"110\",\"111\",\"112\",\"113\",\"114\",\"115\",\"116\",\"117\",\"118\",\"119\",\"120\",\"121\",\"122\",\"123\",\"124\",\"125\",\"126\",\"127\",\"128\",\"129\",\"130\",\"131\",\"132\",\"133\",\"134\",\"135\",\"136\",\"137\",\"138\",\"139\",\"140\",\"141\",\"142\",\"143\",\"144\",\"145\",\"146\",\"147\",\"148\",\"149\",\"150\",\"151\",\"152\",\"153\",\"154\",\"155\",\"156\",\"157\",\"158\",\"159\",\"160\",\"161\",\"162\",\"163\",\"164\",\"165\",\"166\",\"167\",\"168\",\"169\",\"170\",\"171\",\"172\",\"173\",\"174\",\"175\",\"176\",\"177\",\"178\",\"179\",\"180\",\"181\",\"182\",\"183\",\"184\",\"185\",\"186\",\"187\",\"188\",\"189\",\"190\",\"191\",\"192\",\"193\",\"194\",\"195\",\"196\",\"197\",\"198\",\"199\",\"200\"],\"changes\":WebIO.getval({\"name\":\"changes\",\"scope\":\"17410503226374589756\",\"id\":\"12835962668677937418\",\"type\":\"observable\"}),\"index\":WebIO.getval({\"name\":\"index\",\"scope\":\"17410503226374589756\",\"id\":\"10092228320517272634\",\"type\":\"observable\"})};\n    var self = this;\n    function AppViewModel() {\n        for (var key in json_data) {\n            var el = json_data[key];\n            this[key] = Array.isArray(el) ? ko.observableArray(el) : ko.observable(el);\n        }\n        \n        [this[\"formatted_val\"]=ko.computed(    function(){\n        return this.formatted_vals()[parseInt(this.index())-(1)];\n    }\n,this)]\n        [this[\"changes\"].subscribe((function (val){!(this.valueFromJulia[\"changes\"]) ? (WebIO.setval({\"name\":\"changes\",\"scope\":\"17410503226374589756\",\"id\":\"12835962668677937418\",\"type\":\"observable\"},val)) : undefined; return this.valueFromJulia[\"changes\"]=false}),self),this[\"index\"].subscribe((function (val){!(this.valueFromJulia[\"index\"]) ? (WebIO.setval({\"name\":\"index\",\"scope\":\"17410503226374589756\",\"id\":\"10092228320517272634\",\"type\":\"observable\"},val)) : undefined; return this.valueFromJulia[\"index\"]=false}),self)]\n        \n    }\n    self.model = new AppViewModel();\n    self.valueFromJulia = {};\n    for (var key in json_data) {\n        self.valueFromJulia[key] = false;\n    }\n    ko.applyBindings(self.model, self.dom);\n}\n);\n    (WebIO.importBlock({\"data\":[{\"name\":\"knockout\",\"type\":\"js\",\"url\":\"/assetserver/727383f2a47bd31570b7da84eee7b022dd6d7c78-knockout.js\"},{\"name\":\"knockout_punches\",\"type\":\"js\",\"url\":\"/assetserver/382b41b3b1bd9f26f75861d360bad7f8beea211f-knockout_punches.js\"}],\"type\":\"async_block\"})).then((imports) => handler.apply(this, imports));\n}\n"
                ],
                "observables": {
                 "changes": {
                  "id": "12835962668677937418",
                  "sync": false,
                  "value": 0
                 },
                 "index": {
                  "id": "10092228320517272634",
                  "sync": true,
                  "value": 1
                 }
                },
                "systemjs_options": null
               },
               "nodeType": "Scope",
               "props": {},
               "type": "node"
              }
             ],
             "instanceArgs": {
              "namespace": "html",
              "tag": "div"
             },
             "nodeType": "DOM",
             "props": {
              "className": "field interact-widget"
             },
             "type": "node"
            },
            {
             "children": [
              {
               "children": [
                {
                 "children": [
                  {
                   "children": [
                    {
                     "children": [
                      "scale"
                     ],
                     "instanceArgs": {
                      "namespace": "html",
                      "tag": "label"
                     },
                     "nodeType": "DOM",
                     "props": {
                      "className": "interact ",
                      "style": {
                       "padding": "5px 10px 0px 10px"
                      }
                     },
                     "type": "node"
                    }
                   ],
                   "instanceArgs": {
                    "namespace": "html",
                    "tag": "div"
                   },
                   "nodeType": "DOM",
                   "props": {
                    "className": "interact-flex-row-left"
                   },
                   "type": "node"
                  },
                  {
                   "children": [
                    {
                     "children": [],
                     "instanceArgs": {
                      "namespace": "html",
                      "tag": "input"
                     },
                     "nodeType": "DOM",
                     "props": {
                      "attributes": {
                       "data-bind": "numericValue: index, valueUpdate: 'input', event: {change: function (){this.changes(this.changes()+1)}}",
                       "orient": "horizontal",
                       "type": "range"
                      },
                      "className": "slider slider is-fullwidth",
                      "max": 20,
                      "min": 1,
                      "step": 1,
                      "style": {}
                     },
                     "type": "node"
                    }
                   ],
                   "instanceArgs": {
                    "namespace": "html",
                    "tag": "div"
                   },
                   "nodeType": "DOM",
                   "props": {
                    "className": "interact-flex-row-center"
                   },
                   "type": "node"
                  },
                  {
                   "children": [
                    {
                     "children": [],
                     "instanceArgs": {
                      "namespace": "html",
                      "tag": "p"
                     },
                     "nodeType": "DOM",
                     "props": {
                      "attributes": {
                       "data-bind": "text: formatted_val"
                      }
                     },
                     "type": "node"
                    }
                   ],
                   "instanceArgs": {
                    "namespace": "html",
                    "tag": "div"
                   },
                   "nodeType": "DOM",
                   "props": {
                    "className": "interact-flex-row-right"
                   },
                   "type": "node"
                  }
                 ],
                 "instanceArgs": {
                  "namespace": "html",
                  "tag": "div"
                 },
                 "nodeType": "DOM",
                 "props": {
                  "className": "interact-flex-row interact-widget"
                 },
                 "type": "node"
                }
               ],
               "instanceArgs": {
                "handlers": {
                 "changes": [
                  "(function (val){return (val!=this.model[\"changes\"]()) ? (this.valueFromJulia[\"changes\"]=true, this.model[\"changes\"](val)) : undefined})"
                 ],
                 "index": [
                  "(function (val){return (val!=this.model[\"index\"]()) ? (this.valueFromJulia[\"index\"]=true, this.model[\"index\"](val)) : undefined})"
                 ]
                },
                "id": "22875550510952153",
                "imports": {
                 "data": [
                  {
                   "name": "knockout",
                   "type": "js",
                   "url": "/assetserver/727383f2a47bd31570b7da84eee7b022dd6d7c78-knockout.js"
                  },
                  {
                   "name": "knockout_punches",
                   "type": "js",
                   "url": "/assetserver/382b41b3b1bd9f26f75861d360bad7f8beea211f-knockout_punches.js"
                  },
                  {
                   "name": null,
                   "type": "js",
                   "url": "/assetserver/5ab20f1060420992a9b82a65b735dee4d81ef413-all.js"
                  },
                  {
                   "name": null,
                   "type": "css",
                   "url": "/assetserver/1cc0ed62837210b80a182cc3676512f895dab686-style.css"
                  },
                  {
                   "name": null,
                   "type": "css",
                   "url": "/assetserver/2eee816f616df3549d7044d45e744fbf8d42bfa1-bulma_confined.min.css"
                  }
                 ],
                 "type": "async_block"
                },
                "mount_callbacks": [
                 "function () {\n    var handler = (function (ko, koPunches) {\n    ko.punches.enableAll();\n    ko.bindingHandlers.numericValue = {\n        init: function(element, valueAccessor, allBindings, data, context) {\n            var stringified = ko.observable(ko.unwrap(valueAccessor()));\n            stringified.subscribe(function(value) {\n                var val = parseFloat(value);\n                if (!isNaN(val)) {\n                    valueAccessor()(val);\n                }\n            });\n            valueAccessor().subscribe(function(value) {\n                var str = JSON.stringify(value);\n                if ((str == \"0\") && ([\"-0\", \"-0.\"].indexOf(stringified()) >= 0))\n                     return;\n                 if ([\"null\", \"\"].indexOf(str) >= 0)\n                     return;\n                stringified(str);\n            });\n            ko.applyBindingsToNode(\n                element,\n                {\n                    value: stringified,\n                    valueUpdate: allBindings.get('valueUpdate'),\n                },\n                context,\n            );\n        }\n    };\n    var json_data = {\"formatted_vals\":[\"0.1\",\"0.2\",\"0.3\",\"0.4\",\"0.5\",\"0.6\",\"0.7\",\"0.8\",\"0.9\",\"1.0\",\"1.1\",\"1.2\",\"1.3\",\"1.4\",\"1.5\",\"1.6\",\"1.7\",\"1.8\",\"1.9\",\"2.0\"],\"changes\":WebIO.getval({\"name\":\"changes\",\"scope\":\"22875550510952153\",\"id\":\"1025709799350365962\",\"type\":\"observable\"}),\"index\":WebIO.getval({\"name\":\"index\",\"scope\":\"22875550510952153\",\"id\":\"17361340786675942337\",\"type\":\"observable\"})};\n    var self = this;\n    function AppViewModel() {\n        for (var key in json_data) {\n            var el = json_data[key];\n            this[key] = Array.isArray(el) ? ko.observableArray(el) : ko.observable(el);\n        }\n        \n        [this[\"formatted_val\"]=ko.computed(    function(){\n        return this.formatted_vals()[parseInt(this.index())-(1)];\n    }\n,this)]\n        [this[\"changes\"].subscribe((function (val){!(this.valueFromJulia[\"changes\"]) ? (WebIO.setval({\"name\":\"changes\",\"scope\":\"22875550510952153\",\"id\":\"1025709799350365962\",\"type\":\"observable\"},val)) : undefined; return this.valueFromJulia[\"changes\"]=false}),self),this[\"index\"].subscribe((function (val){!(this.valueFromJulia[\"index\"]) ? (WebIO.setval({\"name\":\"index\",\"scope\":\"22875550510952153\",\"id\":\"17361340786675942337\",\"type\":\"observable\"},val)) : undefined; return this.valueFromJulia[\"index\"]=false}),self)]\n        \n    }\n    self.model = new AppViewModel();\n    self.valueFromJulia = {};\n    for (var key in json_data) {\n        self.valueFromJulia[key] = false;\n    }\n    ko.applyBindings(self.model, self.dom);\n}\n);\n    (WebIO.importBlock({\"data\":[{\"name\":\"knockout\",\"type\":\"js\",\"url\":\"/assetserver/727383f2a47bd31570b7da84eee7b022dd6d7c78-knockout.js\"},{\"name\":\"knockout_punches\",\"type\":\"js\",\"url\":\"/assetserver/382b41b3b1bd9f26f75861d360bad7f8beea211f-knockout_punches.js\"}],\"type\":\"async_block\"})).then((imports) => handler.apply(this, imports));\n}\n"
                ],
                "observables": {
                 "changes": {
                  "id": "1025709799350365962",
                  "sync": false,
                  "value": 0
                 },
                 "index": {
                  "id": "17361340786675942337",
                  "sync": true,
                  "value": 10
                 }
                },
                "systemjs_options": null
               },
               "nodeType": "Scope",
               "props": {},
               "type": "node"
              }
             ],
             "instanceArgs": {
              "namespace": "html",
              "tag": "div"
             },
             "nodeType": "DOM",
             "props": {
              "className": "field interact-widget"
             },
             "type": "node"
            },
            {
             "children": [],
             "instanceArgs": {
              "namespace": "html",
              "tag": "div"
             },
             "nodeType": "DOM",
             "props": {
              "style": {
               "display": "flex",
               "flex-direction": "column"
              }
             },
             "type": "node"
            },
            {
             "children": [
              {
               "children": [
                {
                 "children": [
                  {
                   "children": [
                    {
                     "children": [
                      {
                       "children": [
                        "temp"
                       ],
                       "instanceArgs": {
                        "namespace": "html",
                        "tag": "label"
                       },
                       "nodeType": "DOM",
                       "props": {
                        "className": "interact ",
                        "style": {
                         "padding": "5px 10px 0px 10px"
                        }
                       },
                       "type": "node"
                      }
                     ],
                     "instanceArgs": {
                      "namespace": "html",
                      "tag": "div"
                     },
                     "nodeType": "DOM",
                     "props": {
                      "className": "interact-flex-row-left"
                     },
                     "type": "node"
                    },
                    {
                     "children": [
                      {
                       "children": [],
                       "instanceArgs": {
                        "namespace": "html",
                        "tag": "input"
                       },
                       "nodeType": "DOM",
                       "props": {
                        "attributes": {
                         "data-bind": "numericValue: index, valueUpdate: 'input', event: {change: function (){this.changes(this.changes()+1)}}",
                         "orient": "horizontal",
                         "type": "range"
                        },
                        "className": "slider slider is-fullwidth",
                        "max": 100,
                        "min": 1,
                        "step": 1,
                        "style": {}
                       },
                       "type": "node"
                      }
                     ],
                     "instanceArgs": {
                      "namespace": "html",
                      "tag": "div"
                     },
                     "nodeType": "DOM",
                     "props": {
                      "className": "interact-flex-row-center"
                     },
                     "type": "node"
                    },
                    {
                     "children": [
                      {
                       "children": [],
                       "instanceArgs": {
                        "namespace": "html",
                        "tag": "p"
                       },
                       "nodeType": "DOM",
                       "props": {
                        "attributes": {
                         "data-bind": "text: formatted_val"
                        }
                       },
                       "type": "node"
                      }
                     ],
                     "instanceArgs": {
                      "namespace": "html",
                      "tag": "div"
                     },
                     "nodeType": "DOM",
                     "props": {
                      "className": "interact-flex-row-right"
                     },
                     "type": "node"
                    }
                   ],
                   "instanceArgs": {
                    "namespace": "html",
                    "tag": "div"
                   },
                   "nodeType": "DOM",
                   "props": {
                    "className": "interact-flex-row interact-widget"
                   },
                   "type": "node"
                  }
                 ],
                 "instanceArgs": {
                  "handlers": {
                   "changes": [
                    "(function (val){return (val!=this.model[\"changes\"]()) ? (this.valueFromJulia[\"changes\"]=true, this.model[\"changes\"](val)) : undefined})"
                   ],
                   "index": [
                    "(function (val){return (val!=this.model[\"index\"]()) ? (this.valueFromJulia[\"index\"]=true, this.model[\"index\"](val)) : undefined})"
                   ]
                  },
                  "id": "1229555602250643823",
                  "imports": {
                   "data": [
                    {
                     "name": "knockout",
                     "type": "js",
                     "url": "/assetserver/727383f2a47bd31570b7da84eee7b022dd6d7c78-knockout.js"
                    },
                    {
                     "name": "knockout_punches",
                     "type": "js",
                     "url": "/assetserver/382b41b3b1bd9f26f75861d360bad7f8beea211f-knockout_punches.js"
                    },
                    {
                     "name": null,
                     "type": "js",
                     "url": "/assetserver/5ab20f1060420992a9b82a65b735dee4d81ef413-all.js"
                    },
                    {
                     "name": null,
                     "type": "css",
                     "url": "/assetserver/1cc0ed62837210b80a182cc3676512f895dab686-style.css"
                    },
                    {
                     "name": null,
                     "type": "css",
                     "url": "/assetserver/2eee816f616df3549d7044d45e744fbf8d42bfa1-bulma_confined.min.css"
                    }
                   ],
                   "type": "async_block"
                  },
                  "mount_callbacks": [
                   "function () {\n    var handler = (function (ko, koPunches) {\n    ko.punches.enableAll();\n    ko.bindingHandlers.numericValue = {\n        init: function(element, valueAccessor, allBindings, data, context) {\n            var stringified = ko.observable(ko.unwrap(valueAccessor()));\n            stringified.subscribe(function(value) {\n                var val = parseFloat(value);\n                if (!isNaN(val)) {\n                    valueAccessor()(val);\n                }\n            });\n            valueAccessor().subscribe(function(value) {\n                var str = JSON.stringify(value);\n                if ((str == \"0\") && ([\"-0\", \"-0.\"].indexOf(stringified()) >= 0))\n                     return;\n                 if ([\"null\", \"\"].indexOf(str) >= 0)\n                     return;\n                stringified(str);\n            });\n            ko.applyBindingsToNode(\n                element,\n                {\n                    value: stringified,\n                    valueUpdate: allBindings.get('valueUpdate'),\n                },\n                context,\n            );\n        }\n    };\n    var json_data = {\"formatted_vals\":[\"0.05\",\"0.1\",\"0.15\",\"0.2\",\"0.25\",\"0.3\",\"0.35\",\"0.4\",\"0.45\",\"0.5\",\"0.55\",\"0.6\",\"0.65\",\"0.7\",\"0.75\",\"0.8\",\"0.85\",\"0.9\",\"0.95\",\"1.0\",\"1.05\",\"1.1\",\"1.15\",\"1.2\",\"1.25\",\"1.3\",\"1.35\",\"1.4\",\"1.45\",\"1.5\",\"1.55\",\"1.6\",\"1.65\",\"1.7\",\"1.75\",\"1.8\",\"1.85\",\"1.9\",\"1.95\",\"2.0\",\"2.05\",\"2.1\",\"2.15\",\"2.2\",\"2.25\",\"2.3\",\"2.35\",\"2.4\",\"2.45\",\"2.5\",\"2.55\",\"2.6\",\"2.65\",\"2.7\",\"2.75\",\"2.8\",\"2.85\",\"2.9\",\"2.95\",\"3.0\",\"3.05\",\"3.1\",\"3.15\",\"3.2\",\"3.25\",\"3.3\",\"3.35\",\"3.4\",\"3.45\",\"3.5\",\"3.55\",\"3.6\",\"3.65\",\"3.7\",\"3.75\",\"3.8\",\"3.85\",\"3.9\",\"3.95\",\"4.0\",\"4.05\",\"4.1\",\"4.15\",\"4.2\",\"4.25\",\"4.3\",\"4.35\",\"4.4\",\"4.45\",\"4.5\",\"4.55\",\"4.6\",\"4.65\",\"4.7\",\"4.75\",\"4.8\",\"4.85\",\"4.9\",\"4.95\",\"5.0\"],\"changes\":WebIO.getval({\"name\":\"changes\",\"scope\":\"1229555602250643823\",\"id\":\"16112401974018026546\",\"type\":\"observable\"}),\"index\":WebIO.getval({\"name\":\"index\",\"scope\":\"1229555602250643823\",\"id\":\"16392248473206532655\",\"type\":\"observable\"})};\n    var self = this;\n    function AppViewModel() {\n        for (var key in json_data) {\n            var el = json_data[key];\n            this[key] = Array.isArray(el) ? ko.observableArray(el) : ko.observable(el);\n        }\n        \n        [this[\"formatted_val\"]=ko.computed(    function(){\n        return this.formatted_vals()[parseInt(this.index())-(1)];\n    }\n,this)]\n        [this[\"changes\"].subscribe((function (val){!(this.valueFromJulia[\"changes\"]) ? (WebIO.setval({\"name\":\"changes\",\"scope\":\"1229555602250643823\",\"id\":\"16112401974018026546\",\"type\":\"observable\"},val)) : undefined; return this.valueFromJulia[\"changes\"]=false}),self),this[\"index\"].subscribe((function (val){!(this.valueFromJulia[\"index\"]) ? (WebIO.setval({\"name\":\"index\",\"scope\":\"1229555602250643823\",\"id\":\"16392248473206532655\",\"type\":\"observable\"},val)) : undefined; return this.valueFromJulia[\"index\"]=false}),self)]\n        \n    }\n    self.model = new AppViewModel();\n    self.valueFromJulia = {};\n    for (var key in json_data) {\n        self.valueFromJulia[key] = false;\n    }\n    ko.applyBindings(self.model, self.dom);\n}\n);\n    (WebIO.importBlock({\"data\":[{\"name\":\"knockout\",\"type\":\"js\",\"url\":\"/assetserver/727383f2a47bd31570b7da84eee7b022dd6d7c78-knockout.js\"},{\"name\":\"knockout_punches\",\"type\":\"js\",\"url\":\"/assetserver/382b41b3b1bd9f26f75861d360bad7f8beea211f-knockout_punches.js\"}],\"type\":\"async_block\"})).then((imports) => handler.apply(this, imports));\n}\n"
                  ],
                  "observables": {
                   "changes": {
                    "id": "16112401974018026546",
                    "sync": false,
                    "value": 0
                   },
                   "index": {
                    "id": "16392248473206532655",
                    "sync": true,
                    "value": 50
                   }
                  },
                  "systemjs_options": null
                 },
                 "nodeType": "Scope",
                 "props": {},
                 "type": "node"
                }
               ],
               "instanceArgs": {
                "namespace": "html",
                "tag": "div"
               },
               "nodeType": "DOM",
               "props": {
                "className": "field interact-widget"
               },
               "type": "node"
              },
              {
               "children": [
                {
                 "children": [
                  {
                   "children": [
                    {
                     "children": [
                      {
                       "children": [
                        "coupl"
                       ],
                       "instanceArgs": {
                        "namespace": "html",
                        "tag": "label"
                       },
                       "nodeType": "DOM",
                       "props": {
                        "className": "interact ",
                        "style": {
                         "padding": "5px 10px 0px 10px"
                        }
                       },
                       "type": "node"
                      }
                     ],
                     "instanceArgs": {
                      "namespace": "html",
                      "tag": "div"
                     },
                     "nodeType": "DOM",
                     "props": {
                      "className": "interact-flex-row-left"
                     },
                     "type": "node"
                    },
                    {
                     "children": [
                      {
                       "children": [],
                       "instanceArgs": {
                        "namespace": "html",
                        "tag": "input"
                       },
                       "nodeType": "DOM",
                       "props": {
                        "attributes": {
                         "data-bind": "numericValue: index, valueUpdate: 'input', event: {change: function (){this.changes(this.changes()+1)}}",
                         "orient": "horizontal",
                         "type": "range"
                        },
                        "className": "slider slider is-fullwidth",
                        "max": 50,
                        "min": 1,
                        "step": 1,
                        "style": {}
                       },
                       "type": "node"
                      }
                     ],
                     "instanceArgs": {
                      "namespace": "html",
                      "tag": "div"
                     },
                     "nodeType": "DOM",
                     "props": {
                      "className": "interact-flex-row-center"
                     },
                     "type": "node"
                    },
                    {
                     "children": [
                      {
                       "children": [],
                       "instanceArgs": {
                        "namespace": "html",
                        "tag": "p"
                       },
                       "nodeType": "DOM",
                       "props": {
                        "attributes": {
                         "data-bind": "text: formatted_val"
                        }
                       },
                       "type": "node"
                      }
                     ],
                     "instanceArgs": {
                      "namespace": "html",
                      "tag": "div"
                     },
                     "nodeType": "DOM",
                     "props": {
                      "className": "interact-flex-row-right"
                     },
                     "type": "node"
                    }
                   ],
                   "instanceArgs": {
                    "namespace": "html",
                    "tag": "div"
                   },
                   "nodeType": "DOM",
                   "props": {
                    "className": "interact-flex-row interact-widget"
                   },
                   "type": "node"
                  }
                 ],
                 "instanceArgs": {
                  "handlers": {
                   "changes": [
                    "(function (val){return (val!=this.model[\"changes\"]()) ? (this.valueFromJulia[\"changes\"]=true, this.model[\"changes\"](val)) : undefined})"
                   ],
                   "index": [
                    "(function (val){return (val!=this.model[\"index\"]()) ? (this.valueFromJulia[\"index\"]=true, this.model[\"index\"](val)) : undefined})"
                   ]
                  },
                  "id": "7372785594314621952",
                  "imports": {
                   "data": [
                    {
                     "name": "knockout",
                     "type": "js",
                     "url": "/assetserver/727383f2a47bd31570b7da84eee7b022dd6d7c78-knockout.js"
                    },
                    {
                     "name": "knockout_punches",
                     "type": "js",
                     "url": "/assetserver/382b41b3b1bd9f26f75861d360bad7f8beea211f-knockout_punches.js"
                    },
                    {
                     "name": null,
                     "type": "js",
                     "url": "/assetserver/5ab20f1060420992a9b82a65b735dee4d81ef413-all.js"
                    },
                    {
                     "name": null,
                     "type": "css",
                     "url": "/assetserver/1cc0ed62837210b80a182cc3676512f895dab686-style.css"
                    },
                    {
                     "name": null,
                     "type": "css",
                     "url": "/assetserver/2eee816f616df3549d7044d45e744fbf8d42bfa1-bulma_confined.min.css"
                    }
                   ],
                   "type": "async_block"
                  },
                  "mount_callbacks": [
                   "function () {\n    var handler = (function (ko, koPunches) {\n    ko.punches.enableAll();\n    ko.bindingHandlers.numericValue = {\n        init: function(element, valueAccessor, allBindings, data, context) {\n            var stringified = ko.observable(ko.unwrap(valueAccessor()));\n            stringified.subscribe(function(value) {\n                var val = parseFloat(value);\n                if (!isNaN(val)) {\n                    valueAccessor()(val);\n                }\n            });\n            valueAccessor().subscribe(function(value) {\n                var str = JSON.stringify(value);\n                if ((str == \"0\") && ([\"-0\", \"-0.\"].indexOf(stringified()) >= 0))\n                     return;\n                 if ([\"null\", \"\"].indexOf(str) >= 0)\n                     return;\n                stringified(str);\n            });\n            ko.applyBindingsToNode(\n                element,\n                {\n                    value: stringified,\n                    valueUpdate: allBindings.get('valueUpdate'),\n                },\n                context,\n            );\n        }\n    };\n    var json_data = {\"formatted_vals\":[\"0.01\",\"0.11\",\"0.21\",\"0.31\",\"0.41\",\"0.51\",\"0.61\",\"0.71\",\"0.81\",\"0.91\",\"1.01\",\"1.11\",\"1.21\",\"1.31\",\"1.41\",\"1.51\",\"1.61\",\"1.71\",\"1.81\",\"1.91\",\"2.01\",\"2.11\",\"2.21\",\"2.31\",\"2.41\",\"2.51\",\"2.61\",\"2.71\",\"2.81\",\"2.91\",\"3.01\",\"3.11\",\"3.21\",\"3.31\",\"3.41\",\"3.51\",\"3.61\",\"3.71\",\"3.81\",\"3.91\",\"4.01\",\"4.11\",\"4.21\",\"4.31\",\"4.41\",\"4.51\",\"4.61\",\"4.71\",\"4.81\",\"4.91\"],\"changes\":WebIO.getval({\"name\":\"changes\",\"scope\":\"7372785594314621952\",\"id\":\"13148911625440517964\",\"type\":\"observable\"}),\"index\":WebIO.getval({\"name\":\"index\",\"scope\":\"7372785594314621952\",\"id\":\"14330586059743620206\",\"type\":\"observable\"})};\n    var self = this;\n    function AppViewModel() {\n        for (var key in json_data) {\n            var el = json_data[key];\n            this[key] = Array.isArray(el) ? ko.observableArray(el) : ko.observable(el);\n        }\n        \n        [this[\"formatted_val\"]=ko.computed(    function(){\n        return this.formatted_vals()[parseInt(this.index())-(1)];\n    }\n,this)]\n        [this[\"changes\"].subscribe((function (val){!(this.valueFromJulia[\"changes\"]) ? (WebIO.setval({\"name\":\"changes\",\"scope\":\"7372785594314621952\",\"id\":\"13148911625440517964\",\"type\":\"observable\"},val)) : undefined; return this.valueFromJulia[\"changes\"]=false}),self),this[\"index\"].subscribe((function (val){!(this.valueFromJulia[\"index\"]) ? (WebIO.setval({\"name\":\"index\",\"scope\":\"7372785594314621952\",\"id\":\"14330586059743620206\",\"type\":\"observable\"},val)) : undefined; return this.valueFromJulia[\"index\"]=false}),self)]\n        \n    }\n    self.model = new AppViewModel();\n    self.valueFromJulia = {};\n    for (var key in json_data) {\n        self.valueFromJulia[key] = false;\n    }\n    ko.applyBindings(self.model, self.dom);\n}\n);\n    (WebIO.importBlock({\"data\":[{\"name\":\"knockout\",\"type\":\"js\",\"url\":\"/assetserver/727383f2a47bd31570b7da84eee7b022dd6d7c78-knockout.js\"},{\"name\":\"knockout_punches\",\"type\":\"js\",\"url\":\"/assetserver/382b41b3b1bd9f26f75861d360bad7f8beea211f-knockout_punches.js\"}],\"type\":\"async_block\"})).then((imports) => handler.apply(this, imports));\n}\n"
                  ],
                  "observables": {
                   "changes": {
                    "id": "13148911625440517964",
                    "sync": false,
                    "value": 0
                   },
                   "index": {
                    "id": "14330586059743620206",
                    "sync": true,
                    "value": 25
                   }
                  },
                  "systemjs_options": null
                 },
                 "nodeType": "Scope",
                 "props": {},
                 "type": "node"
                }
               ],
               "instanceArgs": {
                "namespace": "html",
                "tag": "div"
               },
               "nodeType": "DOM",
               "props": {
                "className": "field interact-widget"
               },
               "type": "node"
              }
             ],
             "instanceArgs": {
              "namespace": "html",
              "tag": "div"
             },
             "nodeType": "DOM",
             "props": {
              "style": {
               "display": "flex",
               "flex-direction": "column"
              }
             },
             "type": "node"
            },
            {
             "children": [
              {
               "children": [
                {
                 "children": [
                  {
                   "children": [],
                   "instanceArgs": {
                    "namespace": "html",
                    "tag": "div"
                   },
                   "nodeType": "DOM",
                   "props": {
                    "id": "container"
                   },
                   "type": "node"
                  }
                 ],
                 "instanceArgs": {
                  "handlers": {
                   "value": [
                    "(function (txt){return this.k.render(txt,this.container)})"
                   ]
                  },
                  "id": "8108391764650114362",
                  "imports": {
                   "data": [
                    {
                     "name": null,
                     "type": "js",
                     "url": "/assetserver/dd22ed1bf1896c2748f3fe616ce0b838adc895c1-katex.min.js"
                    },
                    {
                     "name": null,
                     "type": "css",
                     "url": "/assetserver/46517a424aa5e6cffc1360d7e0848b601c584ee3-katex.min.css"
                    }
                   ],
                   "type": "async_block"
                  },
                  "mount_callbacks": [
                   "function () {\n    var handler = ((function (k){this.k=k; this.container=this.dom.querySelector(\"#container\"); return k.render(\"\\\\;\\\\;\",this.container)}));\n    (WebIO.importBlock({\"data\":[{\"name\":null,\"type\":\"js\",\"url\":\"/assetserver/dd22ed1bf1896c2748f3fe616ce0b838adc895c1-katex.min.js\"},{\"name\":null,\"type\":\"css\",\"url\":\"/assetserver/46517a424aa5e6cffc1360d7e0848b601c584ee3-katex.min.css\"}],\"type\":\"async_block\"})).then((imports) => handler.apply(this, imports));\n}\n"
                  ],
                  "observables": {
                   "value": {
                    "id": "11195546998865065991",
                    "sync": false,
                    "value": "\\;\\;"
                   }
                  },
                  "systemjs_options": null
                 },
                 "nodeType": "Scope",
                 "props": {},
                 "type": "node"
                }
               ],
               "instanceArgs": {
                "namespace": "html",
                "tag": "div"
               },
               "nodeType": "DOM",
               "props": {
                "className": "interact-widget"
               },
               "type": "node"
              },
              {
               "children": [
                {
                 "children": [
                  {
                   "children": [
                    "run"
                   ],
                   "instanceArgs": {
                    "namespace": "html",
                    "tag": "button"
                   },
                   "nodeType": "DOM",
                   "props": {
                    "attributes": {
                     "data-bind": "click: function (){this.clicks(this.clicks()+1)}, css: {'is-loading' : loading}"
                    },
                    "className": "is-medium button is-primary",
                    "style": {}
                   },
                   "type": "node"
                  }
                 ],
                 "instanceArgs": {
                  "handlers": {
                   "clicks": [
                    "(function (val){return (val!=this.model[\"clicks\"]()) ? (this.valueFromJulia[\"clicks\"]=true, this.model[\"clicks\"](val)) : undefined})"
                   ],
                   "loading": [
                    "(function (val){return (val!=this.model[\"loading\"]()) ? (this.valueFromJulia[\"loading\"]=true, this.model[\"loading\"](val)) : undefined})"
                   ]
                  },
                  "id": "5915862496329956055",
                  "imports": {
                   "data": [
                    {
                     "name": "knockout",
                     "type": "js",
                     "url": "/assetserver/727383f2a47bd31570b7da84eee7b022dd6d7c78-knockout.js"
                    },
                    {
                     "name": "knockout_punches",
                     "type": "js",
                     "url": "/assetserver/382b41b3b1bd9f26f75861d360bad7f8beea211f-knockout_punches.js"
                    },
                    {
                     "name": null,
                     "type": "js",
                     "url": "/assetserver/5ab20f1060420992a9b82a65b735dee4d81ef413-all.js"
                    },
                    {
                     "name": null,
                     "type": "css",
                     "url": "/assetserver/1cc0ed62837210b80a182cc3676512f895dab686-style.css"
                    },
                    {
                     "name": null,
                     "type": "css",
                     "url": "/assetserver/2eee816f616df3549d7044d45e744fbf8d42bfa1-bulma_confined.min.css"
                    }
                   ],
                   "type": "async_block"
                  },
                  "mount_callbacks": [
                   "function () {\n    var handler = (function (ko, koPunches) {\n    ko.punches.enableAll();\n    ko.bindingHandlers.numericValue = {\n        init: function(element, valueAccessor, allBindings, data, context) {\n            var stringified = ko.observable(ko.unwrap(valueAccessor()));\n            stringified.subscribe(function(value) {\n                var val = parseFloat(value);\n                if (!isNaN(val)) {\n                    valueAccessor()(val);\n                }\n            });\n            valueAccessor().subscribe(function(value) {\n                var str = JSON.stringify(value);\n                if ((str == \"0\") && ([\"-0\", \"-0.\"].indexOf(stringified()) >= 0))\n                     return;\n                 if ([\"null\", \"\"].indexOf(str) >= 0)\n                     return;\n                stringified(str);\n            });\n            ko.applyBindingsToNode(\n                element,\n                {\n                    value: stringified,\n                    valueUpdate: allBindings.get('valueUpdate'),\n                },\n                context,\n            );\n        }\n    };\n    var json_data = {\"loading\":WebIO.getval({\"name\":\"loading\",\"scope\":\"5915862496329956055\",\"id\":\"12000050131230836868\",\"type\":\"observable\"}),\"clicks\":WebIO.getval({\"name\":\"clicks\",\"scope\":\"5915862496329956055\",\"id\":\"4574351964393637256\",\"type\":\"observable\"})};\n    var self = this;\n    function AppViewModel() {\n        for (var key in json_data) {\n            var el = json_data[key];\n            this[key] = Array.isArray(el) ? ko.observableArray(el) : ko.observable(el);\n        }\n        \n        \n        [this[\"loading\"].subscribe((function (val){!(this.valueFromJulia[\"loading\"]) ? (WebIO.setval({\"name\":\"loading\",\"scope\":\"5915862496329956055\",\"id\":\"12000050131230836868\",\"type\":\"observable\"},val)) : undefined; return this.valueFromJulia[\"loading\"]=false}),self),this[\"clicks\"].subscribe((function (val){!(this.valueFromJulia[\"clicks\"]) ? (WebIO.setval({\"name\":\"clicks\",\"scope\":\"5915862496329956055\",\"id\":\"4574351964393637256\",\"type\":\"observable\"},val)) : undefined; return this.valueFromJulia[\"clicks\"]=false}),self)]\n        \n    }\n    self.model = new AppViewModel();\n    self.valueFromJulia = {};\n    for (var key in json_data) {\n        self.valueFromJulia[key] = false;\n    }\n    ko.applyBindings(self.model, self.dom);\n}\n);\n    (WebIO.importBlock({\"data\":[{\"name\":\"knockout\",\"type\":\"js\",\"url\":\"/assetserver/727383f2a47bd31570b7da84eee7b022dd6d7c78-knockout.js\"},{\"name\":\"knockout_punches\",\"type\":\"js\",\"url\":\"/assetserver/382b41b3b1bd9f26f75861d360bad7f8beea211f-knockout_punches.js\"}],\"type\":\"async_block\"})).then((imports) => handler.apply(this, imports));\n}\n"
                  ],
                  "observables": {
                   "clicks": {
                    "id": "4574351964393637256",
                    "sync": true,
                    "value": 0
                   },
                   "loading": {
                    "id": "12000050131230836868",
                    "sync": false,
                    "value": false
                   }
                  },
                  "systemjs_options": null
                 },
                 "nodeType": "Scope",
                 "props": {},
                 "type": "node"
                }
               ],
               "instanceArgs": {
                "namespace": "html",
                "tag": "div"
               },
               "nodeType": "DOM",
               "props": {
                "className": "field interact-widget"
               },
               "type": "node"
              },
              {
               "children": [
                {
                 "children": [
                  {
                   "children": [],
                   "instanceArgs": {
                    "namespace": "html",
                    "tag": "div"
                   },
                   "nodeType": "DOM",
                   "props": {
                    "id": "container"
                   },
                   "type": "node"
                  }
                 ],
                 "instanceArgs": {
                  "handlers": {
                   "value": [
                    "(function (txt){return this.k.render(txt,this.container)})"
                   ]
                  },
                  "id": "8108391764650114362",
                  "imports": {
                   "data": [
                    {
                     "name": null,
                     "type": "js",
                     "url": "/assetserver/dd22ed1bf1896c2748f3fe616ce0b838adc895c1-katex.min.js"
                    },
                    {
                     "name": null,
                     "type": "css",
                     "url": "/assetserver/46517a424aa5e6cffc1360d7e0848b601c584ee3-katex.min.css"
                    }
                   ],
                   "type": "async_block"
                  },
                  "mount_callbacks": [
                   "function () {\n    var handler = ((function (k){this.k=k; this.container=this.dom.querySelector(\"#container\"); return k.render(\"\\\\;\\\\;\",this.container)}));\n    (WebIO.importBlock({\"data\":[{\"name\":null,\"type\":\"js\",\"url\":\"/assetserver/dd22ed1bf1896c2748f3fe616ce0b838adc895c1-katex.min.js\"},{\"name\":null,\"type\":\"css\",\"url\":\"/assetserver/46517a424aa5e6cffc1360d7e0848b601c584ee3-katex.min.css\"}],\"type\":\"async_block\"})).then((imports) => handler.apply(this, imports));\n}\n"
                  ],
                  "observables": {
                   "value": {
                    "id": "11195546998865065991",
                    "sync": false,
                    "value": "\\;\\;"
                   }
                  },
                  "systemjs_options": null
                 },
                 "nodeType": "Scope",
                 "props": {},
                 "type": "node"
                }
               ],
               "instanceArgs": {
                "namespace": "html",
                "tag": "div"
               },
               "nodeType": "DOM",
               "props": {
                "className": "interact-widget"
               },
               "type": "node"
              },
              {
               "children": [
                {
                 "children": [
                  {
                   "children": [
                    "stop"
                   ],
                   "instanceArgs": {
                    "namespace": "html",
                    "tag": "button"
                   },
                   "nodeType": "DOM",
                   "props": {
                    "attributes": {
                     "data-bind": "click: function (){this.clicks(this.clicks()+1)}, css: {'is-loading' : loading}"
                    },
                    "className": "is-medium button is-primary",
                    "style": {}
                   },
                   "type": "node"
                  }
                 ],
                 "instanceArgs": {
                  "handlers": {
                   "clicks": [
                    "(function (val){return (val!=this.model[\"clicks\"]()) ? (this.valueFromJulia[\"clicks\"]=true, this.model[\"clicks\"](val)) : undefined})"
                   ],
                   "loading": [
                    "(function (val){return (val!=this.model[\"loading\"]()) ? (this.valueFromJulia[\"loading\"]=true, this.model[\"loading\"](val)) : undefined})"
                   ]
                  },
                  "id": "12815284471179682428",
                  "imports": {
                   "data": [
                    {
                     "name": "knockout",
                     "type": "js",
                     "url": "/assetserver/727383f2a47bd31570b7da84eee7b022dd6d7c78-knockout.js"
                    },
                    {
                     "name": "knockout_punches",
                     "type": "js",
                     "url": "/assetserver/382b41b3b1bd9f26f75861d360bad7f8beea211f-knockout_punches.js"
                    },
                    {
                     "name": null,
                     "type": "js",
                     "url": "/assetserver/5ab20f1060420992a9b82a65b735dee4d81ef413-all.js"
                    },
                    {
                     "name": null,
                     "type": "css",
                     "url": "/assetserver/1cc0ed62837210b80a182cc3676512f895dab686-style.css"
                    },
                    {
                     "name": null,
                     "type": "css",
                     "url": "/assetserver/2eee816f616df3549d7044d45e744fbf8d42bfa1-bulma_confined.min.css"
                    }
                   ],
                   "type": "async_block"
                  },
                  "mount_callbacks": [
                   "function () {\n    var handler = (function (ko, koPunches) {\n    ko.punches.enableAll();\n    ko.bindingHandlers.numericValue = {\n        init: function(element, valueAccessor, allBindings, data, context) {\n            var stringified = ko.observable(ko.unwrap(valueAccessor()));\n            stringified.subscribe(function(value) {\n                var val = parseFloat(value);\n                if (!isNaN(val)) {\n                    valueAccessor()(val);\n                }\n            });\n            valueAccessor().subscribe(function(value) {\n                var str = JSON.stringify(value);\n                if ((str == \"0\") && ([\"-0\", \"-0.\"].indexOf(stringified()) >= 0))\n                     return;\n                 if ([\"null\", \"\"].indexOf(str) >= 0)\n                     return;\n                stringified(str);\n            });\n            ko.applyBindingsToNode(\n                element,\n                {\n                    value: stringified,\n                    valueUpdate: allBindings.get('valueUpdate'),\n                },\n                context,\n            );\n        }\n    };\n    var json_data = {\"loading\":WebIO.getval({\"name\":\"loading\",\"scope\":\"12815284471179682428\",\"id\":\"15101093252118307875\",\"type\":\"observable\"}),\"clicks\":WebIO.getval({\"name\":\"clicks\",\"scope\":\"12815284471179682428\",\"id\":\"1750690156012732256\",\"type\":\"observable\"})};\n    var self = this;\n    function AppViewModel() {\n        for (var key in json_data) {\n            var el = json_data[key];\n            this[key] = Array.isArray(el) ? ko.observableArray(el) : ko.observable(el);\n        }\n        \n        \n        [this[\"loading\"].subscribe((function (val){!(this.valueFromJulia[\"loading\"]) ? (WebIO.setval({\"name\":\"loading\",\"scope\":\"12815284471179682428\",\"id\":\"15101093252118307875\",\"type\":\"observable\"},val)) : undefined; return this.valueFromJulia[\"loading\"]=false}),self),this[\"clicks\"].subscribe((function (val){!(this.valueFromJulia[\"clicks\"]) ? (WebIO.setval({\"name\":\"clicks\",\"scope\":\"12815284471179682428\",\"id\":\"1750690156012732256\",\"type\":\"observable\"},val)) : undefined; return this.valueFromJulia[\"clicks\"]=false}),self)]\n        \n    }\n    self.model = new AppViewModel();\n    self.valueFromJulia = {};\n    for (var key in json_data) {\n        self.valueFromJulia[key] = false;\n    }\n    ko.applyBindings(self.model, self.dom);\n}\n);\n    (WebIO.importBlock({\"data\":[{\"name\":\"knockout\",\"type\":\"js\",\"url\":\"/assetserver/727383f2a47bd31570b7da84eee7b022dd6d7c78-knockout.js\"},{\"name\":\"knockout_punches\",\"type\":\"js\",\"url\":\"/assetserver/382b41b3b1bd9f26f75861d360bad7f8beea211f-knockout_punches.js\"}],\"type\":\"async_block\"})).then((imports) => handler.apply(this, imports));\n}\n"
                  ],
                  "observables": {
                   "clicks": {
                    "id": "1750690156012732256",
                    "sync": true,
                    "value": 0
                   },
                   "loading": {
                    "id": "15101093252118307875",
                    "sync": false,
                    "value": false
                   }
                  },
                  "systemjs_options": null
                 },
                 "nodeType": "Scope",
                 "props": {},
                 "type": "node"
                }
               ],
               "instanceArgs": {
                "namespace": "html",
                "tag": "div"
               },
               "nodeType": "DOM",
               "props": {
                "className": "field interact-widget"
               },
               "type": "node"
              },
              {
               "children": [
                {
                 "children": [
                  {
                   "children": [],
                   "instanceArgs": {
                    "namespace": "html",
                    "tag": "div"
                   },
                   "nodeType": "DOM",
                   "props": {
                    "id": "container"
                   },
                   "type": "node"
                  }
                 ],
                 "instanceArgs": {
                  "handlers": {
                   "value": [
                    "(function (txt){return this.k.render(txt,this.container)})"
                   ]
                  },
                  "id": "8108391764650114362",
                  "imports": {
                   "data": [
                    {
                     "name": null,
                     "type": "js",
                     "url": "/assetserver/dd22ed1bf1896c2748f3fe616ce0b838adc895c1-katex.min.js"
                    },
                    {
                     "name": null,
                     "type": "css",
                     "url": "/assetserver/46517a424aa5e6cffc1360d7e0848b601c584ee3-katex.min.css"
                    }
                   ],
                   "type": "async_block"
                  },
                  "mount_callbacks": [
                   "function () {\n    var handler = ((function (k){this.k=k; this.container=this.dom.querySelector(\"#container\"); return k.render(\"\\\\;\\\\;\",this.container)}));\n    (WebIO.importBlock({\"data\":[{\"name\":null,\"type\":\"js\",\"url\":\"/assetserver/dd22ed1bf1896c2748f3fe616ce0b838adc895c1-katex.min.js\"},{\"name\":null,\"type\":\"css\",\"url\":\"/assetserver/46517a424aa5e6cffc1360d7e0848b601c584ee3-katex.min.css\"}],\"type\":\"async_block\"})).then((imports) => handler.apply(this, imports));\n}\n"
                  ],
                  "observables": {
                   "value": {
                    "id": "11195546998865065991",
                    "sync": false,
                    "value": "\\;\\;"
                   }
                  },
                  "systemjs_options": null
                 },
                 "nodeType": "Scope",
                 "props": {},
                 "type": "node"
                }
               ],
               "instanceArgs": {
                "namespace": "html",
                "tag": "div"
               },
               "nodeType": "DOM",
               "props": {
                "className": "interact-widget"
               },
               "type": "node"
              },
              {
               "children": [
                {
                 "children": [
                  {
                   "children": [
                    "reset"
                   ],
                   "instanceArgs": {
                    "namespace": "html",
                    "tag": "button"
                   },
                   "nodeType": "DOM",
                   "props": {
                    "attributes": {
                     "data-bind": "click: function (){this.clicks(this.clicks()+1)}, css: {'is-loading' : loading}"
                    },
                    "className": "is-medium button is-primary",
                    "style": {}
                   },
                   "type": "node"
                  }
                 ],
                 "instanceArgs": {
                  "handlers": {
                   "clicks": [
                    "(function (val){return (val!=this.model[\"clicks\"]()) ? (this.valueFromJulia[\"clicks\"]=true, this.model[\"clicks\"](val)) : undefined})"
                   ],
                   "loading": [
                    "(function (val){return (val!=this.model[\"loading\"]()) ? (this.valueFromJulia[\"loading\"]=true, this.model[\"loading\"](val)) : undefined})"
                   ]
                  },
                  "id": "11169250694593977229",
                  "imports": {
                   "data": [
                    {
                     "name": "knockout",
                     "type": "js",
                     "url": "/assetserver/727383f2a47bd31570b7da84eee7b022dd6d7c78-knockout.js"
                    },
                    {
                     "name": "knockout_punches",
                     "type": "js",
                     "url": "/assetserver/382b41b3b1bd9f26f75861d360bad7f8beea211f-knockout_punches.js"
                    },
                    {
                     "name": null,
                     "type": "js",
                     "url": "/assetserver/5ab20f1060420992a9b82a65b735dee4d81ef413-all.js"
                    },
                    {
                     "name": null,
                     "type": "css",
                     "url": "/assetserver/1cc0ed62837210b80a182cc3676512f895dab686-style.css"
                    },
                    {
                     "name": null,
                     "type": "css",
                     "url": "/assetserver/2eee816f616df3549d7044d45e744fbf8d42bfa1-bulma_confined.min.css"
                    }
                   ],
                   "type": "async_block"
                  },
                  "mount_callbacks": [
                   "function () {\n    var handler = (function (ko, koPunches) {\n    ko.punches.enableAll();\n    ko.bindingHandlers.numericValue = {\n        init: function(element, valueAccessor, allBindings, data, context) {\n            var stringified = ko.observable(ko.unwrap(valueAccessor()));\n            stringified.subscribe(function(value) {\n                var val = parseFloat(value);\n                if (!isNaN(val)) {\n                    valueAccessor()(val);\n                }\n            });\n            valueAccessor().subscribe(function(value) {\n                var str = JSON.stringify(value);\n                if ((str == \"0\") && ([\"-0\", \"-0.\"].indexOf(stringified()) >= 0))\n                     return;\n                 if ([\"null\", \"\"].indexOf(str) >= 0)\n                     return;\n                stringified(str);\n            });\n            ko.applyBindingsToNode(\n                element,\n                {\n                    value: stringified,\n                    valueUpdate: allBindings.get('valueUpdate'),\n                },\n                context,\n            );\n        }\n    };\n    var json_data = {\"loading\":WebIO.getval({\"name\":\"loading\",\"scope\":\"11169250694593977229\",\"id\":\"14817254389699593733\",\"type\":\"observable\"}),\"clicks\":WebIO.getval({\"name\":\"clicks\",\"scope\":\"11169250694593977229\",\"id\":\"1558280549538366095\",\"type\":\"observable\"})};\n    var self = this;\n    function AppViewModel() {\n        for (var key in json_data) {\n            var el = json_data[key];\n            this[key] = Array.isArray(el) ? ko.observableArray(el) : ko.observable(el);\n        }\n        \n        \n        [this[\"loading\"].subscribe((function (val){!(this.valueFromJulia[\"loading\"]) ? (WebIO.setval({\"name\":\"loading\",\"scope\":\"11169250694593977229\",\"id\":\"14817254389699593733\",\"type\":\"observable\"},val)) : undefined; return this.valueFromJulia[\"loading\"]=false}),self),this[\"clicks\"].subscribe((function (val){!(this.valueFromJulia[\"clicks\"]) ? (WebIO.setval({\"name\":\"clicks\",\"scope\":\"11169250694593977229\",\"id\":\"1558280549538366095\",\"type\":\"observable\"},val)) : undefined; return this.valueFromJulia[\"clicks\"]=false}),self)]\n        \n    }\n    self.model = new AppViewModel();\n    self.valueFromJulia = {};\n    for (var key in json_data) {\n        self.valueFromJulia[key] = false;\n    }\n    ko.applyBindings(self.model, self.dom);\n}\n);\n    (WebIO.importBlock({\"data\":[{\"name\":\"knockout\",\"type\":\"js\",\"url\":\"/assetserver/727383f2a47bd31570b7da84eee7b022dd6d7c78-knockout.js\"},{\"name\":\"knockout_punches\",\"type\":\"js\",\"url\":\"/assetserver/382b41b3b1bd9f26f75861d360bad7f8beea211f-knockout_punches.js\"}],\"type\":\"async_block\"})).then((imports) => handler.apply(this, imports));\n}\n"
                  ],
                  "observables": {
                   "clicks": {
                    "id": "1558280549538366095",
                    "sync": true,
                    "value": 0
                   },
                   "loading": {
                    "id": "14817254389699593733",
                    "sync": false,
                    "value": false
                   }
                  },
                  "systemjs_options": null
                 },
                 "nodeType": "Scope",
                 "props": {},
                 "type": "node"
                }
               ],
               "instanceArgs": {
                "namespace": "html",
                "tag": "div"
               },
               "nodeType": "DOM",
               "props": {
                "className": "field interact-widget"
               },
               "type": "node"
              },
              {
               "children": [
                {
                 "children": [
                  {
                   "children": [],
                   "instanceArgs": {
                    "namespace": "html",
                    "tag": "div"
                   },
                   "nodeType": "DOM",
                   "props": {
                    "id": "container"
                   },
                   "type": "node"
                  }
                 ],
                 "instanceArgs": {
                  "handlers": {
                   "value": [
                    "(function (txt){return this.k.render(txt,this.container)})"
                   ]
                  },
                  "id": "8108391764650114362",
                  "imports": {
                   "data": [
                    {
                     "name": null,
                     "type": "js",
                     "url": "/assetserver/dd22ed1bf1896c2748f3fe616ce0b838adc895c1-katex.min.js"
                    },
                    {
                     "name": null,
                     "type": "css",
                     "url": "/assetserver/46517a424aa5e6cffc1360d7e0848b601c584ee3-katex.min.css"
                    }
                   ],
                   "type": "async_block"
                  },
                  "mount_callbacks": [
                   "function () {\n    var handler = ((function (k){this.k=k; this.container=this.dom.querySelector(\"#container\"); return k.render(\"\\\\;\\\\;\",this.container)}));\n    (WebIO.importBlock({\"data\":[{\"name\":null,\"type\":\"js\",\"url\":\"/assetserver/dd22ed1bf1896c2748f3fe616ce0b838adc895c1-katex.min.js\"},{\"name\":null,\"type\":\"css\",\"url\":\"/assetserver/46517a424aa5e6cffc1360d7e0848b601c584ee3-katex.min.css\"}],\"type\":\"async_block\"})).then((imports) => handler.apply(this, imports));\n}\n"
                  ],
                  "observables": {
                   "value": {
                    "id": "11195546998865065991",
                    "sync": false,
                    "value": "\\;\\;"
                   }
                  },
                  "systemjs_options": null
                 },
                 "nodeType": "Scope",
                 "props": {},
                 "type": "node"
                }
               ],
               "instanceArgs": {
                "namespace": "html",
                "tag": "div"
               },
               "nodeType": "DOM",
               "props": {
                "className": "interact-widget"
               },
               "type": "node"
              },
              {
               "children": [
                {
                 "children": [
                  {
                   "children": [
                    "save"
                   ],
                   "instanceArgs": {
                    "namespace": "html",
                    "tag": "button"
                   },
                   "nodeType": "DOM",
                   "props": {
                    "attributes": {
                     "data-bind": "click: function (){this.clicks(this.clicks()+1)}, css: {'is-loading' : loading}"
                    },
                    "className": "is-medium button is-primary",
                    "style": {}
                   },
                   "type": "node"
                  }
                 ],
                 "instanceArgs": {
                  "handlers": {
                   "clicks": [
                    "(function (val){return (val!=this.model[\"clicks\"]()) ? (this.valueFromJulia[\"clicks\"]=true, this.model[\"clicks\"](val)) : undefined})"
                   ],
                   "loading": [
                    "(function (val){return (val!=this.model[\"loading\"]()) ? (this.valueFromJulia[\"loading\"]=true, this.model[\"loading\"](val)) : undefined})"
                   ]
                  },
                  "id": "14956355394701390650",
                  "imports": {
                   "data": [
                    {
                     "name": "knockout",
                     "type": "js",
                     "url": "/assetserver/727383f2a47bd31570b7da84eee7b022dd6d7c78-knockout.js"
                    },
                    {
                     "name": "knockout_punches",
                     "type": "js",
                     "url": "/assetserver/382b41b3b1bd9f26f75861d360bad7f8beea211f-knockout_punches.js"
                    },
                    {
                     "name": null,
                     "type": "js",
                     "url": "/assetserver/5ab20f1060420992a9b82a65b735dee4d81ef413-all.js"
                    },
                    {
                     "name": null,
                     "type": "css",
                     "url": "/assetserver/1cc0ed62837210b80a182cc3676512f895dab686-style.css"
                    },
                    {
                     "name": null,
                     "type": "css",
                     "url": "/assetserver/2eee816f616df3549d7044d45e744fbf8d42bfa1-bulma_confined.min.css"
                    }
                   ],
                   "type": "async_block"
                  },
                  "mount_callbacks": [
                   "function () {\n    var handler = (function (ko, koPunches) {\n    ko.punches.enableAll();\n    ko.bindingHandlers.numericValue = {\n        init: function(element, valueAccessor, allBindings, data, context) {\n            var stringified = ko.observable(ko.unwrap(valueAccessor()));\n            stringified.subscribe(function(value) {\n                var val = parseFloat(value);\n                if (!isNaN(val)) {\n                    valueAccessor()(val);\n                }\n            });\n            valueAccessor().subscribe(function(value) {\n                var str = JSON.stringify(value);\n                if ((str == \"0\") && ([\"-0\", \"-0.\"].indexOf(stringified()) >= 0))\n                     return;\n                 if ([\"null\", \"\"].indexOf(str) >= 0)\n                     return;\n                stringified(str);\n            });\n            ko.applyBindingsToNode(\n                element,\n                {\n                    value: stringified,\n                    valueUpdate: allBindings.get('valueUpdate'),\n                },\n                context,\n            );\n        }\n    };\n    var json_data = {\"loading\":WebIO.getval({\"name\":\"loading\",\"scope\":\"14956355394701390650\",\"id\":\"12573315406661468018\",\"type\":\"observable\"}),\"clicks\":WebIO.getval({\"name\":\"clicks\",\"scope\":\"14956355394701390650\",\"id\":\"366269896328017512\",\"type\":\"observable\"})};\n    var self = this;\n    function AppViewModel() {\n        for (var key in json_data) {\n            var el = json_data[key];\n            this[key] = Array.isArray(el) ? ko.observableArray(el) : ko.observable(el);\n        }\n        \n        \n        [this[\"loading\"].subscribe((function (val){!(this.valueFromJulia[\"loading\"]) ? (WebIO.setval({\"name\":\"loading\",\"scope\":\"14956355394701390650\",\"id\":\"12573315406661468018\",\"type\":\"observable\"},val)) : undefined; return this.valueFromJulia[\"loading\"]=false}),self),this[\"clicks\"].subscribe((function (val){!(this.valueFromJulia[\"clicks\"]) ? (WebIO.setval({\"name\":\"clicks\",\"scope\":\"14956355394701390650\",\"id\":\"366269896328017512\",\"type\":\"observable\"},val)) : undefined; return this.valueFromJulia[\"clicks\"]=false}),self)]\n        \n    }\n    self.model = new AppViewModel();\n    self.valueFromJulia = {};\n    for (var key in json_data) {\n        self.valueFromJulia[key] = false;\n    }\n    ko.applyBindings(self.model, self.dom);\n}\n);\n    (WebIO.importBlock({\"data\":[{\"name\":\"knockout\",\"type\":\"js\",\"url\":\"/assetserver/727383f2a47bd31570b7da84eee7b022dd6d7c78-knockout.js\"},{\"name\":\"knockout_punches\",\"type\":\"js\",\"url\":\"/assetserver/382b41b3b1bd9f26f75861d360bad7f8beea211f-knockout_punches.js\"}],\"type\":\"async_block\"})).then((imports) => handler.apply(this, imports));\n}\n"
                  ],
                  "observables": {
                   "clicks": {
                    "id": "366269896328017512",
                    "sync": true,
                    "value": 0
                   },
                   "loading": {
                    "id": "12573315406661468018",
                    "sync": false,
                    "value": false
                   }
                  },
                  "systemjs_options": null
                 },
                 "nodeType": "Scope",
                 "props": {},
                 "type": "node"
                }
               ],
               "instanceArgs": {
                "namespace": "html",
                "tag": "div"
               },
               "nodeType": "DOM",
               "props": {
                "className": "field interact-widget"
               },
               "type": "node"
              }
             ],
             "instanceArgs": {
              "namespace": "html",
              "tag": "div"
             },
             "nodeType": "DOM",
             "props": {
              "style": {
               "display": "flex",
               "flex-direction": "row"
              }
             },
             "type": "node"
            }
           ],
           "instanceArgs": {
            "namespace": "html",
            "tag": "div"
           },
           "nodeType": "DOM",
           "props": {
            "style": {
             "display": "flex",
             "flex-direction": "column"
            }
           },
           "type": "node"
          },
          {
           "children": [
            {
             "children": [
              {
               "children": [],
               "instanceArgs": {
                "namespace": "html",
                "tag": "div"
               },
               "nodeType": "DOM",
               "props": {
                "id": "container"
               },
               "type": "node"
              }
             ],
             "instanceArgs": {
              "handlers": {
               "value": [
                "(function (txt){return this.k.render(txt,this.container)})"
               ]
              },
              "id": "8108391764650114362",
              "imports": {
               "data": [
                {
                 "name": null,
                 "type": "js",
                 "url": "/assetserver/dd22ed1bf1896c2748f3fe616ce0b838adc895c1-katex.min.js"
                },
                {
                 "name": null,
                 "type": "css",
                 "url": "/assetserver/46517a424aa5e6cffc1360d7e0848b601c584ee3-katex.min.css"
                }
               ],
               "type": "async_block"
              },
              "mount_callbacks": [
               "function () {\n    var handler = ((function (k){this.k=k; this.container=this.dom.querySelector(\"#container\"); return k.render(\"\\\\;\\\\;\",this.container)}));\n    (WebIO.importBlock({\"data\":[{\"name\":null,\"type\":\"js\",\"url\":\"/assetserver/dd22ed1bf1896c2748f3fe616ce0b838adc895c1-katex.min.js\"},{\"name\":null,\"type\":\"css\",\"url\":\"/assetserver/46517a424aa5e6cffc1360d7e0848b601c584ee3-katex.min.css\"}],\"type\":\"async_block\"})).then((imports) => handler.apply(this, imports));\n}\n"
              ],
              "observables": {
               "value": {
                "id": "11195546998865065991",
                "sync": false,
                "value": "\\;\\;"
               }
              },
              "systemjs_options": null
             },
             "nodeType": "Scope",
             "props": {},
             "type": "node"
            }
           ],
           "instanceArgs": {
            "namespace": "html",
            "tag": "div"
           },
           "nodeType": "DOM",
           "props": {
            "className": "interact-widget"
           },
           "type": "node"
          },
          {
           "children": [
            {
             "children": [],
             "instanceArgs": {
              "namespace": "html",
              "tag": "div"
             },
             "nodeType": "DOM",
             "props": {
              "className": "webio-observable",
              "setInnerHtml": "<img src='data:image/png;base64,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'></img>"
             },
             "type": "node"
            }
           ],
           "instanceArgs": {
            "handlers": {
             "obs-output": [
              "function (value, scope) {\n    scope.setInnerHTML(value);\n}\n"
             ]
            },
            "id": "7057498598935678048",
            "imports": {
             "data": [],
             "type": "async_block"
            },
            "mount_callbacks": [],
            "observables": {
             "obs-output": {
              "id": "17083350060891775907",
              "sync": false,
              "value": "<img src='data:image/png;base64,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'></img>"
             }
            },
            "systemjs_options": null
           },
           "nodeType": "Scope",
           "props": {},
           "type": "node"
          },
          {
           "children": [
            {
             "children": [
              {
               "children": [],
               "instanceArgs": {
                "namespace": "html",
                "tag": "div"
               },
               "nodeType": "DOM",
               "props": {
                "id": "container"
               },
               "type": "node"
              }
             ],
             "instanceArgs": {
              "handlers": {
               "value": [
                "(function (txt){return this.k.render(txt,this.container)})"
               ]
              },
              "id": "8108391764650114362",
              "imports": {
               "data": [
                {
                 "name": null,
                 "type": "js",
                 "url": "/assetserver/dd22ed1bf1896c2748f3fe616ce0b838adc895c1-katex.min.js"
                },
                {
                 "name": null,
                 "type": "css",
                 "url": "/assetserver/46517a424aa5e6cffc1360d7e0848b601c584ee3-katex.min.css"
                }
               ],
               "type": "async_block"
              },
              "mount_callbacks": [
               "function () {\n    var handler = ((function (k){this.k=k; this.container=this.dom.querySelector(\"#container\"); return k.render(\"\\\\;\\\\;\",this.container)}));\n    (WebIO.importBlock({\"data\":[{\"name\":null,\"type\":\"js\",\"url\":\"/assetserver/dd22ed1bf1896c2748f3fe616ce0b838adc895c1-katex.min.js\"},{\"name\":null,\"type\":\"css\",\"url\":\"/assetserver/46517a424aa5e6cffc1360d7e0848b601c584ee3-katex.min.css\"}],\"type\":\"async_block\"})).then((imports) => handler.apply(this, imports));\n}\n"
              ],
              "observables": {
               "value": {
                "id": "11195546998865065991",
                "sync": false,
                "value": "\\;\\;"
               }
              },
              "systemjs_options": null
             },
             "nodeType": "Scope",
             "props": {},
             "type": "node"
            }
           ],
           "instanceArgs": {
            "namespace": "html",
            "tag": "div"
           },
           "nodeType": "DOM",
           "props": {
            "className": "interact-widget"
           },
           "type": "node"
          },
          {
           "children": [
            {
             "children": [
              {
               "children": [],
               "instanceArgs": {
                "namespace": "html",
                "tag": "div"
               },
               "nodeType": "DOM",
               "props": {
                "className": "webio-observable",
                "setInnerHtml": "<img src=\"data:image/png;base64,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\" />"
               },
               "type": "node"
              }
             ],
             "instanceArgs": {
              "handlers": {
               "obs-output": [
                "function (value, scope) {\n    scope.setInnerHTML(value);\n}\n"
               ]
              },
              "id": "14913763008394986819",
              "imports": {
               "data": [],
               "type": "async_block"
              },
              "mount_callbacks": [],
              "observables": {
               "obs-output": {
                "id": "13995250497595746813",
                "sync": false,
                "value": "<img src=\"data:image/png;base64,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\" />"
               }
              },
              "systemjs_options": null
             },
             "nodeType": "Scope",
             "props": {},
             "type": "node"
            }
           ],
           "instanceArgs": {
            "namespace": "html",
            "tag": "div"
           },
           "nodeType": "DOM",
           "props": {
            "style": {
             "display": "flex",
             "flex-direction": "column"
            }
           },
           "type": "node"
          }
         ],
         "instanceArgs": {
          "namespace": "html",
          "tag": "div"
         },
         "nodeType": "DOM",
         "props": {
          "style": {
           "display": "flex",
           "flex-direction": "row"
          }
         },
         "type": "node"
        }
       ],
       "instanceArgs": {
        "namespace": "html",
        "tag": "div"
       },
       "nodeType": "DOM",
       "props": {
        "style": {
         "display": "flex",
         "flex-direction": "column"
        }
       },
       "type": "node"
      },
      "text/html": [
       "<div\n",
       "    class=\"webio-mountpoint\"\n",
       "    data-webio-mountpoint=\"2240255244914664799\"\n",
       ">\n",
       "    <script>\n",
       "    (function(){\n",
       "    // Some integrations (namely, IJulia/Jupyter) use an alternate render pathway than\n",
       "    // just putting the html on the page. If WebIO isn't defined, then it's pretty likely\n",
       "    // that we're in one of those situations and the integration just isn't installed\n",
       "    // correctly.\n",
       "    if (typeof window.WebIO === \"undefined\") {\n",
       "        document\n",
       "            .querySelector('[data-webio-mountpoint=\"2240255244914664799\"]')\n",
       "            .innerHTML = (\n",
       "                '<div style=\"padding: 1em; background-color: #f8d6da; border: 1px solid #f5c6cb; font-weight: bold;\">' +\n",
       "                '<p><strong>WebIO not detected.</strong></p>' +\n",
       "                '<p>Please read ' +\n",
       "                '<a href=\"https://juliagizmos.github.io/WebIO.jl/latest/troubleshooting/not-detected/\" target=\"_blank\">the troubleshooting guide</a> ' +\n",
       "                'for more information on how to resolve this issue.</p>' +\n",
       "                '<p><a href=\"https://juliagizmos.github.io/WebIO.jl/latest/troubleshooting/not-detected/\" target=\"_blank\">https://juliagizmos.github.io/WebIO.jl/latest/troubleshooting/not-detected/</a></p>' +\n",
       "                '</div>'\n",
       "            );\n",
       "        return;\n",
       "    }\n",
       "    WebIO.mount(\n",
       "        document.querySelector('[data-webio-mountpoint=\"2240255244914664799\"]'),\n",
       "        {\"props\":{\"style\":{\"display\":\"flex\",\"flex-direction\":\"column\"}},\"nodeType\":\"DOM\",\"type\":\"node\",\"instanceArgs\":{\"namespace\":\"html\",\"tag\":\"div\"},\"children\":[{\"props\":{\"style\":{\"display\":\"flex\",\"flex-direction\":\"row\"}},\"nodeType\":\"DOM\",\"type\":\"node\",\"instanceArgs\":{\"namespace\":\"html\",\"tag\":\"div\"},\"children\":[{\"props\":{\"style\":{\"display\":\"flex\",\"flex-direction\":\"column\"}},\"nodeType\":\"DOM\",\"type\":\"node\",\"instanceArgs\":{\"namespace\":\"html\",\"tag\":\"div\"},\"children\":[{\"props\":{\"className\":\"field interact-widget\"},\"nodeType\":\"DOM\",\"type\":\"node\",\"instanceArgs\":{\"namespace\":\"html\",\"tag\":\"div\"},\"children\":[{\"props\":{},\"nodeType\":\"Scope\",\"type\":\"node\",\"instanceArgs\":{\"imports\":{\"data\":[{\"name\":\"knockout\",\"type\":\"js\",\"url\":\"\\/assetserver\\/727383f2a47bd31570b7da84eee7b022dd6d7c78-knockout.js\"},{\"name\":\"knockout_punches\",\"type\":\"js\",\"url\":\"\\/assetserver\\/382b41b3b1bd9f26f75861d360bad7f8beea211f-knockout_punches.js\"},{\"name\":null,\"type\":\"js\",\"url\":\"\\/assetserver\\/5ab20f1060420992a9b82a65b735dee4d81ef413-all.js\"},{\"name\":null,\"type\":\"css\",\"url\":\"\\/assetserver\\/1cc0ed62837210b80a182cc3676512f895dab686-style.css\"},{\"name\":null,\"type\":\"css\",\"url\":\"\\/assetserver\\/2eee816f616df3549d7044d45e744fbf8d42bfa1-bulma_confined.min.css\"}],\"type\":\"async_block\"},\"id\":\"17410503226374589756\",\"handlers\":{\"changes\":[\"(function (val){return (val!=this.model[\\\"changes\\\"]()) ? (this.valueFromJulia[\\\"changes\\\"]=true, this.model[\\\"changes\\\"](val)) : undefined})\"],\"index\":[\"(function (val){return (val!=this.model[\\\"index\\\"]()) ? (this.valueFromJulia[\\\"index\\\"]=true, this.model[\\\"index\\\"](val)) : undefined})\"]},\"systemjs_options\":null,\"mount_callbacks\":[\"function () {\\n    var handler = (function (ko, koPunches) {\\n    ko.punches.enableAll();\\n    ko.bindingHandlers.numericValue = {\\n        init: function(element, valueAccessor, allBindings, data, context) {\\n            var stringified = ko.observable(ko.unwrap(valueAccessor()));\\n            stringified.subscribe(function(value) {\\n                var val = parseFloat(value);\\n                if (!isNaN(val)) {\\n                    valueAccessor()(val);\\n                }\\n            });\\n            valueAccessor().subscribe(function(value) {\\n                var str = JSON.stringify(value);\\n                if ((str == \\\"0\\\") && ([\\\"-0\\\", \\\"-0.\\\"].indexOf(stringified()) >= 0))\\n                     return;\\n                 if ([\\\"null\\\", \\\"\\\"].indexOf(str) >= 0)\\n                     return;\\n                stringified(str);\\n            });\\n            ko.applyBindingsToNode(\\n                element,\\n                {\\n                    value: stringified,\\n                    valueUpdate: allBindings.get('valueUpdate'),\\n                },\\n                context,\\n            );\\n        }\\n    };\\n    var json_data = {\\\"formatted_vals\\\":[\\\"1\\\",\\\"2\\\",\\\"3\\\",\\\"4\\\",\\\"5\\\",\\\"6\\\",\\\"7\\\",\\\"8\\\",\\\"9\\\",\\\"10\\\",\\\"11\\\",\\\"12\\\",\\\"13\\\",\\\"14\\\",\\\"15\\\",\\\"16\\\",\\\"17\\\",\\\"18\\\",\\\"19\\\",\\\"20\\\",\\\"21\\\",\\\"22\\\",\\\"23\\\",\\\"24\\\",\\\"25\\\",\\\"26\\\",\\\"27\\\",\\\"28\\\",\\\"29\\\",\\\"30\\\",\\\"31\\\",\\\"32\\\",\\\"33\\\",\\\"34\\\",\\\"35\\\",\\\"36\\\",\\\"37\\\",\\\"38\\\",\\\"39\\\",\\\"40\\\",\\\"41\\\",\\\"42\\\",\\\"43\\\",\\\"44\\\",\\\"45\\\",\\\"46\\\",\\\"47\\\",\\\"48\\\",\\\"49\\\",\\\"50\\\",\\\"51\\\",\\\"52\\\",\\\"53\\\",\\\"54\\\",\\\"55\\\",\\\"56\\\",\\\"57\\\",\\\"58\\\",\\\"59\\\",\\\"60\\\",\\\"61\\\",\\\"62\\\",\\\"63\\\",\\\"64\\\",\\\"65\\\",\\\"66\\\",\\\"67\\\",\\\"68\\\",\\\"69\\\",\\\"70\\\",\\\"71\\\",\\\"72\\\",\\\"73\\\",\\\"74\\\",\\\"75\\\",\\\"76\\\",\\\"77\\\",\\\"78\\\",\\\"79\\\",\\\"80\\\",\\\"81\\\",\\\"82\\\",\\\"83\\\",\\\"84\\\",\\\"85\\\",\\\"86\\\",\\\"87\\\",\\\"88\\\",\\\"89\\\",\\\"90\\\",\\\"91\\\",\\\"92\\\",\\\"93\\\",\\\"94\\\",\\\"95\\\",\\\"96\\\",\\\"97\\\",\\\"98\\\",\\\"99\\\",\\\"100\\\",\\\"101\\\",\\\"102\\\",\\\"103\\\",\\\"104\\\",\\\"105\\\",\\\"106\\\",\\\"107\\\",\\\"108\\\",\\\"109\\\",\\\"110\\\",\\\"111\\\",\\\"112\\\",\\\"113\\\",\\\"114\\\",\\\"115\\\",\\\"116\\\",\\\"117\\\",\\\"118\\\",\\\"119\\\",\\\"120\\\",\\\"121\\\",\\\"122\\\",\\\"123\\\",\\\"124\\\",\\\"125\\\",\\\"126\\\",\\\"127\\\",\\\"128\\\",\\\"129\\\",\\\"130\\\",\\\"131\\\",\\\"132\\\",\\\"133\\\",\\\"134\\\",\\\"135\\\",\\\"136\\\",\\\"137\\\",\\\"138\\\",\\\"139\\\",\\\"140\\\",\\\"141\\\",\\\"142\\\",\\\"143\\\",\\\"144\\\",\\\"145\\\",\\\"146\\\",\\\"147\\\",\\\"148\\\",\\\"149\\\",\\\"150\\\",\\\"151\\\",\\\"152\\\",\\\"153\\\",\\\"154\\\",\\\"155\\\",\\\"156\\\",\\\"157\\\",\\\"158\\\",\\\"159\\\",\\\"160\\\",\\\"161\\\",\\\"162\\\",\\\"163\\\",\\\"164\\\",\\\"165\\\",\\\"166\\\",\\\"167\\\",\\\"168\\\",\\\"169\\\",\\\"170\\\",\\\"171\\\",\\\"172\\\",\\\"173\\\",\\\"174\\\",\\\"175\\\",\\\"176\\\",\\\"177\\\",\\\"178\\\",\\\"179\\\",\\\"180\\\",\\\"181\\\",\\\"182\\\",\\\"183\\\",\\\"184\\\",\\\"185\\\",\\\"186\\\",\\\"187\\\",\\\"188\\\",\\\"189\\\",\\\"190\\\",\\\"191\\\",\\\"192\\\",\\\"193\\\",\\\"194\\\",\\\"195\\\",\\\"196\\\",\\\"197\\\",\\\"198\\\",\\\"199\\\",\\\"200\\\"],\\\"changes\\\":WebIO.getval({\\\"name\\\":\\\"changes\\\",\\\"scope\\\":\\\"17410503226374589756\\\",\\\"id\\\":\\\"12835962668677937418\\\",\\\"type\\\":\\\"observable\\\"}),\\\"index\\\":WebIO.getval({\\\"name\\\":\\\"index\\\",\\\"scope\\\":\\\"17410503226374589756\\\",\\\"id\\\":\\\"10092228320517272634\\\",\\\"type\\\":\\\"observable\\\"})};\\n    var self = this;\\n    function AppViewModel() {\\n        for (var key in json_data) {\\n            var el = json_data[key];\\n            this[key] = Array.isArray(el) ? ko.observableArray(el) : ko.observable(el);\\n        }\\n        \\n        [this[\\\"formatted_val\\\"]=ko.computed(    function(){\\n        return this.formatted_vals()[parseInt(this.index())-(1)];\\n    }\\n,this)]\\n        [this[\\\"changes\\\"].subscribe((function (val){!(this.valueFromJulia[\\\"changes\\\"]) ? (WebIO.setval({\\\"name\\\":\\\"changes\\\",\\\"scope\\\":\\\"17410503226374589756\\\",\\\"id\\\":\\\"12835962668677937418\\\",\\\"type\\\":\\\"observable\\\"},val)) : undefined; return this.valueFromJulia[\\\"changes\\\"]=false}),self),this[\\\"index\\\"].subscribe((function (val){!(this.valueFromJulia[\\\"index\\\"]) ? (WebIO.setval({\\\"name\\\":\\\"index\\\",\\\"scope\\\":\\\"17410503226374589756\\\",\\\"id\\\":\\\"10092228320517272634\\\",\\\"type\\\":\\\"observable\\\"},val)) : undefined; return this.valueFromJulia[\\\"index\\\"]=false}),self)]\\n        \\n    }\\n    self.model = new AppViewModel();\\n    self.valueFromJulia = {};\\n    for (var key in json_data) {\\n        self.valueFromJulia[key] = false;\\n    }\\n    ko.applyBindings(self.model, self.dom);\\n}\\n);\\n    (WebIO.importBlock({\\\"data\\\":[{\\\"name\\\":\\\"knockout\\\",\\\"type\\\":\\\"js\\\",\\\"url\\\":\\\"\\/assetserver\\/727383f2a47bd31570b7da84eee7b022dd6d7c78-knockout.js\\\"},{\\\"name\\\":\\\"knockout_punches\\\",\\\"type\\\":\\\"js\\\",\\\"url\\\":\\\"\\/assetserver\\/382b41b3b1bd9f26f75861d360bad7f8beea211f-knockout_punches.js\\\"}],\\\"type\\\":\\\"async_block\\\"})).then((imports) => handler.apply(this, imports));\\n}\\n\"],\"observables\":{\"changes\":{\"sync\":false,\"id\":\"12835962668677937418\",\"value\":0},\"index\":{\"sync\":true,\"id\":\"10092228320517272634\",\"value\":1}}},\"children\":[{\"props\":{\"className\":\"interact-flex-row interact-widget\"},\"nodeType\":\"DOM\",\"type\":\"node\",\"instanceArgs\":{\"namespace\":\"html\",\"tag\":\"div\"},\"children\":[{\"props\":{\"className\":\"interact-flex-row-left\"},\"nodeType\":\"DOM\",\"type\":\"node\",\"instanceArgs\":{\"namespace\":\"html\",\"tag\":\"div\"},\"children\":[{\"props\":{\"className\":\"interact \",\"style\":{\"padding\":\"5px 10px 0px 10px\"}},\"nodeType\":\"DOM\",\"type\":\"node\",\"instanceArgs\":{\"namespace\":\"html\",\"tag\":\"label\"},\"children\":[\"time\"]}]},{\"props\":{\"className\":\"interact-flex-row-center\"},\"nodeType\":\"DOM\",\"type\":\"node\",\"instanceArgs\":{\"namespace\":\"html\",\"tag\":\"div\"},\"children\":[{\"props\":{\"max\":200,\"min\":1,\"attributes\":{\"type\":\"range\",\"data-bind\":\"numericValue: index, valueUpdate: 'input', event: {change: function (){this.changes(this.changes()+1)}}\",\"orient\":\"horizontal\"},\"step\":1,\"className\":\"slider slider is-fullwidth\",\"style\":{}},\"nodeType\":\"DOM\",\"type\":\"node\",\"instanceArgs\":{\"namespace\":\"html\",\"tag\":\"input\"},\"children\":[]}]},{\"props\":{\"className\":\"interact-flex-row-right\"},\"nodeType\":\"DOM\",\"type\":\"node\",\"instanceArgs\":{\"namespace\":\"html\",\"tag\":\"div\"},\"children\":[{\"props\":{\"attributes\":{\"data-bind\":\"text: formatted_val\"}},\"nodeType\":\"DOM\",\"type\":\"node\",\"instanceArgs\":{\"namespace\":\"html\",\"tag\":\"p\"},\"children\":[]}]}]}]}]},{\"props\":{\"className\":\"field interact-widget\"},\"nodeType\":\"DOM\",\"type\":\"node\",\"instanceArgs\":{\"namespace\":\"html\",\"tag\":\"div\"},\"children\":[{\"props\":{},\"nodeType\":\"Scope\",\"type\":\"node\",\"instanceArgs\":{\"imports\":{\"data\":[{\"name\":\"knockout\",\"type\":\"js\",\"url\":\"\\/assetserver\\/727383f2a47bd31570b7da84eee7b022dd6d7c78-knockout.js\"},{\"name\":\"knockout_punches\",\"type\":\"js\",\"url\":\"\\/assetserver\\/382b41b3b1bd9f26f75861d360bad7f8beea211f-knockout_punches.js\"},{\"name\":null,\"type\":\"js\",\"url\":\"\\/assetserver\\/5ab20f1060420992a9b82a65b735dee4d81ef413-all.js\"},{\"name\":null,\"type\":\"css\",\"url\":\"\\/assetserver\\/1cc0ed62837210b80a182cc3676512f895dab686-style.css\"},{\"name\":null,\"type\":\"css\",\"url\":\"\\/assetserver\\/2eee816f616df3549d7044d45e744fbf8d42bfa1-bulma_confined.min.css\"}],\"type\":\"async_block\"},\"id\":\"22875550510952153\",\"handlers\":{\"changes\":[\"(function (val){return (val!=this.model[\\\"changes\\\"]()) ? (this.valueFromJulia[\\\"changes\\\"]=true, this.model[\\\"changes\\\"](val)) : undefined})\"],\"index\":[\"(function (val){return (val!=this.model[\\\"index\\\"]()) ? (this.valueFromJulia[\\\"index\\\"]=true, this.model[\\\"index\\\"](val)) : undefined})\"]},\"systemjs_options\":null,\"mount_callbacks\":[\"function () {\\n    var handler = (function (ko, koPunches) {\\n    ko.punches.enableAll();\\n    ko.bindingHandlers.numericValue = {\\n        init: function(element, valueAccessor, allBindings, data, context) {\\n            var stringified = ko.observable(ko.unwrap(valueAccessor()));\\n            stringified.subscribe(function(value) {\\n                var val = parseFloat(value);\\n                if (!isNaN(val)) {\\n                    valueAccessor()(val);\\n                }\\n            });\\n            valueAccessor().subscribe(function(value) {\\n                var str = JSON.stringify(value);\\n                if ((str == \\\"0\\\") && ([\\\"-0\\\", \\\"-0.\\\"].indexOf(stringified()) >= 0))\\n                     return;\\n                 if ([\\\"null\\\", \\\"\\\"].indexOf(str) >= 0)\\n                     return;\\n                stringified(str);\\n            });\\n            ko.applyBindingsToNode(\\n                element,\\n                {\\n                    value: stringified,\\n                    valueUpdate: allBindings.get('valueUpdate'),\\n                },\\n                context,\\n            );\\n        }\\n    };\\n    var json_data = {\\\"formatted_vals\\\":[\\\"0.1\\\",\\\"0.2\\\",\\\"0.3\\\",\\\"0.4\\\",\\\"0.5\\\",\\\"0.6\\\",\\\"0.7\\\",\\\"0.8\\\",\\\"0.9\\\",\\\"1.0\\\",\\\"1.1\\\",\\\"1.2\\\",\\\"1.3\\\",\\\"1.4\\\",\\\"1.5\\\",\\\"1.6\\\",\\\"1.7\\\",\\\"1.8\\\",\\\"1.9\\\",\\\"2.0\\\"],\\\"changes\\\":WebIO.getval({\\\"name\\\":\\\"changes\\\",\\\"scope\\\":\\\"22875550510952153\\\",\\\"id\\\":\\\"1025709799350365962\\\",\\\"type\\\":\\\"observable\\\"}),\\\"index\\\":WebIO.getval({\\\"name\\\":\\\"index\\\",\\\"scope\\\":\\\"22875550510952153\\\",\\\"id\\\":\\\"17361340786675942337\\\",\\\"type\\\":\\\"observable\\\"})};\\n    var self = this;\\n    function AppViewModel() {\\n        for (var key in json_data) {\\n            var el = json_data[key];\\n            this[key] = Array.isArray(el) ? ko.observableArray(el) : ko.observable(el);\\n        }\\n        \\n        [this[\\\"formatted_val\\\"]=ko.computed(    function(){\\n        return this.formatted_vals()[parseInt(this.index())-(1)];\\n    }\\n,this)]\\n        [this[\\\"changes\\\"].subscribe((function (val){!(this.valueFromJulia[\\\"changes\\\"]) ? (WebIO.setval({\\\"name\\\":\\\"changes\\\",\\\"scope\\\":\\\"22875550510952153\\\",\\\"id\\\":\\\"1025709799350365962\\\",\\\"type\\\":\\\"observable\\\"},val)) : undefined; return this.valueFromJulia[\\\"changes\\\"]=false}),self),this[\\\"index\\\"].subscribe((function (val){!(this.valueFromJulia[\\\"index\\\"]) ? (WebIO.setval({\\\"name\\\":\\\"index\\\",\\\"scope\\\":\\\"22875550510952153\\\",\\\"id\\\":\\\"17361340786675942337\\\",\\\"type\\\":\\\"observable\\\"},val)) : undefined; return this.valueFromJulia[\\\"index\\\"]=false}),self)]\\n        \\n    }\\n    self.model = new AppViewModel();\\n    self.valueFromJulia = {};\\n    for (var key in json_data) {\\n        self.valueFromJulia[key] = false;\\n    }\\n    ko.applyBindings(self.model, self.dom);\\n}\\n);\\n    (WebIO.importBlock({\\\"data\\\":[{\\\"name\\\":\\\"knockout\\\",\\\"type\\\":\\\"js\\\",\\\"url\\\":\\\"\\/assetserver\\/727383f2a47bd31570b7da84eee7b022dd6d7c78-knockout.js\\\"},{\\\"name\\\":\\\"knockout_punches\\\",\\\"type\\\":\\\"js\\\",\\\"url\\\":\\\"\\/assetserver\\/382b41b3b1bd9f26f75861d360bad7f8beea211f-knockout_punches.js\\\"}],\\\"type\\\":\\\"async_block\\\"})).then((imports) => handler.apply(this, imports));\\n}\\n\"],\"observables\":{\"changes\":{\"sync\":false,\"id\":\"1025709799350365962\",\"value\":0},\"index\":{\"sync\":true,\"id\":\"17361340786675942337\",\"value\":10}}},\"children\":[{\"props\":{\"className\":\"interact-flex-row interact-widget\"},\"nodeType\":\"DOM\",\"type\":\"node\",\"instanceArgs\":{\"namespace\":\"html\",\"tag\":\"div\"},\"children\":[{\"props\":{\"className\":\"interact-flex-row-left\"},\"nodeType\":\"DOM\",\"type\":\"node\",\"instanceArgs\":{\"namespace\":\"html\",\"tag\":\"div\"},\"children\":[{\"props\":{\"className\":\"interact \",\"style\":{\"padding\":\"5px 10px 0px 10px\"}},\"nodeType\":\"DOM\",\"type\":\"node\",\"instanceArgs\":{\"namespace\":\"html\",\"tag\":\"label\"},\"children\":[\"scale\"]}]},{\"props\":{\"className\":\"interact-flex-row-center\"},\"nodeType\":\"DOM\",\"type\":\"node\",\"instanceArgs\":{\"namespace\":\"html\",\"tag\":\"div\"},\"children\":[{\"props\":{\"max\":20,\"min\":1,\"attributes\":{\"type\":\"range\",\"data-bind\":\"numericValue: index, valueUpdate: 'input', event: {change: function (){this.changes(this.changes()+1)}}\",\"orient\":\"horizontal\"},\"step\":1,\"className\":\"slider slider is-fullwidth\",\"style\":{}},\"nodeType\":\"DOM\",\"type\":\"node\",\"instanceArgs\":{\"namespace\":\"html\",\"tag\":\"input\"},\"children\":[]}]},{\"props\":{\"className\":\"interact-flex-row-right\"},\"nodeType\":\"DOM\",\"type\":\"node\",\"instanceArgs\":{\"namespace\":\"html\",\"tag\":\"div\"},\"children\":[{\"props\":{\"attributes\":{\"data-bind\":\"text: formatted_val\"}},\"nodeType\":\"DOM\",\"type\":\"node\",\"instanceArgs\":{\"namespace\":\"html\",\"tag\":\"p\"},\"children\":[]}]}]}]}]},{\"props\":{\"style\":{\"display\":\"flex\",\"flex-direction\":\"column\"}},\"nodeType\":\"DOM\",\"type\":\"node\",\"instanceArgs\":{\"namespace\":\"html\",\"tag\":\"div\"},\"children\":[]},{\"props\":{\"style\":{\"display\":\"flex\",\"flex-direction\":\"column\"}},\"nodeType\":\"DOM\",\"type\":\"node\",\"instanceArgs\":{\"namespace\":\"html\",\"tag\":\"div\"},\"children\":[{\"props\":{\"className\":\"field interact-widget\"},\"nodeType\":\"DOM\",\"type\":\"node\",\"instanceArgs\":{\"namespace\":\"html\",\"tag\":\"div\"},\"children\":[{\"props\":{},\"nodeType\":\"Scope\",\"type\":\"node\",\"instanceArgs\":{\"imports\":{\"data\":[{\"name\":\"knockout\",\"type\":\"js\",\"url\":\"\\/assetserver\\/727383f2a47bd31570b7da84eee7b022dd6d7c78-knockout.js\"},{\"name\":\"knockout_punches\",\"type\":\"js\",\"url\":\"\\/assetserver\\/382b41b3b1bd9f26f75861d360bad7f8beea211f-knockout_punches.js\"},{\"name\":null,\"type\":\"js\",\"url\":\"\\/assetserver\\/5ab20f1060420992a9b82a65b735dee4d81ef413-all.js\"},{\"name\":null,\"type\":\"css\",\"url\":\"\\/assetserver\\/1cc0ed62837210b80a182cc3676512f895dab686-style.css\"},{\"name\":null,\"type\":\"css\",\"url\":\"\\/assetserver\\/2eee816f616df3549d7044d45e744fbf8d42bfa1-bulma_confined.min.css\"}],\"type\":\"async_block\"},\"id\":\"1229555602250643823\",\"handlers\":{\"changes\":[\"(function (val){return (val!=this.model[\\\"changes\\\"]()) ? (this.valueFromJulia[\\\"changes\\\"]=true, this.model[\\\"changes\\\"](val)) : undefined})\"],\"index\":[\"(function (val){return (val!=this.model[\\\"index\\\"]()) ? (this.valueFromJulia[\\\"index\\\"]=true, this.model[\\\"index\\\"](val)) : undefined})\"]},\"systemjs_options\":null,\"mount_callbacks\":[\"function () {\\n    var handler = (function (ko, koPunches) {\\n    ko.punches.enableAll();\\n    ko.bindingHandlers.numericValue = {\\n        init: function(element, valueAccessor, allBindings, data, context) {\\n            var stringified = ko.observable(ko.unwrap(valueAccessor()));\\n            stringified.subscribe(function(value) {\\n                var val = parseFloat(value);\\n                if (!isNaN(val)) {\\n                    valueAccessor()(val);\\n                }\\n            });\\n            valueAccessor().subscribe(function(value) {\\n                var str = JSON.stringify(value);\\n                if ((str == \\\"0\\\") && ([\\\"-0\\\", \\\"-0.\\\"].indexOf(stringified()) >= 0))\\n                     return;\\n                 if ([\\\"null\\\", \\\"\\\"].indexOf(str) >= 0)\\n                     return;\\n                stringified(str);\\n            });\\n            ko.applyBindingsToNode(\\n                element,\\n                {\\n                    value: stringified,\\n                    valueUpdate: allBindings.get('valueUpdate'),\\n                },\\n                context,\\n            );\\n        }\\n    };\\n    var json_data = {\\\"formatted_vals\\\":[\\\"0.05\\\",\\\"0.1\\\",\\\"0.15\\\",\\\"0.2\\\",\\\"0.25\\\",\\\"0.3\\\",\\\"0.35\\\",\\\"0.4\\\",\\\"0.45\\\",\\\"0.5\\\",\\\"0.55\\\",\\\"0.6\\\",\\\"0.65\\\",\\\"0.7\\\",\\\"0.75\\\",\\\"0.8\\\",\\\"0.85\\\",\\\"0.9\\\",\\\"0.95\\\",\\\"1.0\\\",\\\"1.05\\\",\\\"1.1\\\",\\\"1.15\\\",\\\"1.2\\\",\\\"1.25\\\",\\\"1.3\\\",\\\"1.35\\\",\\\"1.4\\\",\\\"1.45\\\",\\\"1.5\\\",\\\"1.55\\\",\\\"1.6\\\",\\\"1.65\\\",\\\"1.7\\\",\\\"1.75\\\",\\\"1.8\\\",\\\"1.85\\\",\\\"1.9\\\",\\\"1.95\\\",\\\"2.0\\\",\\\"2.05\\\",\\\"2.1\\\",\\\"2.15\\\",\\\"2.2\\\",\\\"2.25\\\",\\\"2.3\\\",\\\"2.35\\\",\\\"2.4\\\",\\\"2.45\\\",\\\"2.5\\\",\\\"2.55\\\",\\\"2.6\\\",\\\"2.65\\\",\\\"2.7\\\",\\\"2.75\\\",\\\"2.8\\\",\\\"2.85\\\",\\\"2.9\\\",\\\"2.95\\\",\\\"3.0\\\",\\\"3.05\\\",\\\"3.1\\\",\\\"3.15\\\",\\\"3.2\\\",\\\"3.25\\\",\\\"3.3\\\",\\\"3.35\\\",\\\"3.4\\\",\\\"3.45\\\",\\\"3.5\\\",\\\"3.55\\\",\\\"3.6\\\",\\\"3.65\\\",\\\"3.7\\\",\\\"3.75\\\",\\\"3.8\\\",\\\"3.85\\\",\\\"3.9\\\",\\\"3.95\\\",\\\"4.0\\\",\\\"4.05\\\",\\\"4.1\\\",\\\"4.15\\\",\\\"4.2\\\",\\\"4.25\\\",\\\"4.3\\\",\\\"4.35\\\",\\\"4.4\\\",\\\"4.45\\\",\\\"4.5\\\",\\\"4.55\\\",\\\"4.6\\\",\\\"4.65\\\",\\\"4.7\\\",\\\"4.75\\\",\\\"4.8\\\",\\\"4.85\\\",\\\"4.9\\\",\\\"4.95\\\",\\\"5.0\\\"],\\\"changes\\\":WebIO.getval({\\\"name\\\":\\\"changes\\\",\\\"scope\\\":\\\"1229555602250643823\\\",\\\"id\\\":\\\"16112401974018026546\\\",\\\"type\\\":\\\"observable\\\"}),\\\"index\\\":WebIO.getval({\\\"name\\\":\\\"index\\\",\\\"scope\\\":\\\"1229555602250643823\\\",\\\"id\\\":\\\"16392248473206532655\\\",\\\"type\\\":\\\"observable\\\"})};\\n    var self = this;\\n    function AppViewModel() {\\n        for (var key in json_data) {\\n            var el = json_data[key];\\n            this[key] = Array.isArray(el) ? ko.observableArray(el) : ko.observable(el);\\n        }\\n        \\n        [this[\\\"formatted_val\\\"]=ko.computed(    function(){\\n        return this.formatted_vals()[parseInt(this.index())-(1)];\\n    }\\n,this)]\\n        [this[\\\"changes\\\"].subscribe((function (val){!(this.valueFromJulia[\\\"changes\\\"]) ? (WebIO.setval({\\\"name\\\":\\\"changes\\\",\\\"scope\\\":\\\"1229555602250643823\\\",\\\"id\\\":\\\"16112401974018026546\\\",\\\"type\\\":\\\"observable\\\"},val)) : undefined; return this.valueFromJulia[\\\"changes\\\"]=false}),self),this[\\\"index\\\"].subscribe((function (val){!(this.valueFromJulia[\\\"index\\\"]) ? (WebIO.setval({\\\"name\\\":\\\"index\\\",\\\"scope\\\":\\\"1229555602250643823\\\",\\\"id\\\":\\\"16392248473206532655\\\",\\\"type\\\":\\\"observable\\\"},val)) : undefined; return this.valueFromJulia[\\\"index\\\"]=false}),self)]\\n        \\n    }\\n    self.model = new AppViewModel();\\n    self.valueFromJulia = {};\\n    for (var key in json_data) {\\n        self.valueFromJulia[key] = false;\\n    }\\n    ko.applyBindings(self.model, self.dom);\\n}\\n);\\n    (WebIO.importBlock({\\\"data\\\":[{\\\"name\\\":\\\"knockout\\\",\\\"type\\\":\\\"js\\\",\\\"url\\\":\\\"\\/assetserver\\/727383f2a47bd31570b7da84eee7b022dd6d7c78-knockout.js\\\"},{\\\"name\\\":\\\"knockout_punches\\\",\\\"type\\\":\\\"js\\\",\\\"url\\\":\\\"\\/assetserver\\/382b41b3b1bd9f26f75861d360bad7f8beea211f-knockout_punches.js\\\"}],\\\"type\\\":\\\"async_block\\\"})).then((imports) => handler.apply(this, imports));\\n}\\n\"],\"observables\":{\"changes\":{\"sync\":false,\"id\":\"16112401974018026546\",\"value\":0},\"index\":{\"sync\":true,\"id\":\"16392248473206532655\",\"value\":50}}},\"children\":[{\"props\":{\"className\":\"interact-flex-row interact-widget\"},\"nodeType\":\"DOM\",\"type\":\"node\",\"instanceArgs\":{\"namespace\":\"html\",\"tag\":\"div\"},\"children\":[{\"props\":{\"className\":\"interact-flex-row-left\"},\"nodeType\":\"DOM\",\"type\":\"node\",\"instanceArgs\":{\"namespace\":\"html\",\"tag\":\"div\"},\"children\":[{\"props\":{\"className\":\"interact \",\"style\":{\"padding\":\"5px 10px 0px 10px\"}},\"nodeType\":\"DOM\",\"type\":\"node\",\"instanceArgs\":{\"namespace\":\"html\",\"tag\":\"label\"},\"children\":[\"temp\"]}]},{\"props\":{\"className\":\"interact-flex-row-center\"},\"nodeType\":\"DOM\",\"type\":\"node\",\"instanceArgs\":{\"namespace\":\"html\",\"tag\":\"div\"},\"children\":[{\"props\":{\"max\":100,\"min\":1,\"attributes\":{\"type\":\"range\",\"data-bind\":\"numericValue: index, valueUpdate: 'input', event: {change: function (){this.changes(this.changes()+1)}}\",\"orient\":\"horizontal\"},\"step\":1,\"className\":\"slider slider is-fullwidth\",\"style\":{}},\"nodeType\":\"DOM\",\"type\":\"node\",\"instanceArgs\":{\"namespace\":\"html\",\"tag\":\"input\"},\"children\":[]}]},{\"props\":{\"className\":\"interact-flex-row-right\"},\"nodeType\":\"DOM\",\"type\":\"node\",\"instanceArgs\":{\"namespace\":\"html\",\"tag\":\"div\"},\"children\":[{\"props\":{\"attributes\":{\"data-bind\":\"text: formatted_val\"}},\"nodeType\":\"DOM\",\"type\":\"node\",\"instanceArgs\":{\"namespace\":\"html\",\"tag\":\"p\"},\"children\":[]}]}]}]}]},{\"props\":{\"className\":\"field interact-widget\"},\"nodeType\":\"DOM\",\"type\":\"node\",\"instanceArgs\":{\"namespace\":\"html\",\"tag\":\"div\"},\"children\":[{\"props\":{},\"nodeType\":\"Scope\",\"type\":\"node\",\"instanceArgs\":{\"imports\":{\"data\":[{\"name\":\"knockout\",\"type\":\"js\",\"url\":\"\\/assetserver\\/727383f2a47bd31570b7da84eee7b022dd6d7c78-knockout.js\"},{\"name\":\"knockout_punches\",\"type\":\"js\",\"url\":\"\\/assetserver\\/382b41b3b1bd9f26f75861d360bad7f8beea211f-knockout_punches.js\"},{\"name\":null,\"type\":\"js\",\"url\":\"\\/assetserver\\/5ab20f1060420992a9b82a65b735dee4d81ef413-all.js\"},{\"name\":null,\"type\":\"css\",\"url\":\"\\/assetserver\\/1cc0ed62837210b80a182cc3676512f895dab686-style.css\"},{\"name\":null,\"type\":\"css\",\"url\":\"\\/assetserver\\/2eee816f616df3549d7044d45e744fbf8d42bfa1-bulma_confined.min.css\"}],\"type\":\"async_block\"},\"id\":\"7372785594314621952\",\"handlers\":{\"changes\":[\"(function (val){return (val!=this.model[\\\"changes\\\"]()) ? (this.valueFromJulia[\\\"changes\\\"]=true, this.model[\\\"changes\\\"](val)) : undefined})\"],\"index\":[\"(function (val){return (val!=this.model[\\\"index\\\"]()) ? (this.valueFromJulia[\\\"index\\\"]=true, this.model[\\\"index\\\"](val)) : undefined})\"]},\"systemjs_options\":null,\"mount_callbacks\":[\"function () {\\n    var handler = (function (ko, koPunches) {\\n    ko.punches.enableAll();\\n    ko.bindingHandlers.numericValue = {\\n        init: function(element, valueAccessor, allBindings, data, context) {\\n            var stringified = ko.observable(ko.unwrap(valueAccessor()));\\n            stringified.subscribe(function(value) {\\n                var val = parseFloat(value);\\n                if (!isNaN(val)) {\\n                    valueAccessor()(val);\\n                }\\n            });\\n            valueAccessor().subscribe(function(value) {\\n                var str = JSON.stringify(value);\\n                if ((str == \\\"0\\\") && ([\\\"-0\\\", \\\"-0.\\\"].indexOf(stringified()) >= 0))\\n                     return;\\n                 if ([\\\"null\\\", \\\"\\\"].indexOf(str) >= 0)\\n                     return;\\n                stringified(str);\\n            });\\n            ko.applyBindingsToNode(\\n                element,\\n                {\\n                    value: stringified,\\n                    valueUpdate: allBindings.get('valueUpdate'),\\n                },\\n                context,\\n            );\\n        }\\n    };\\n    var json_data = {\\\"formatted_vals\\\":[\\\"0.01\\\",\\\"0.11\\\",\\\"0.21\\\",\\\"0.31\\\",\\\"0.41\\\",\\\"0.51\\\",\\\"0.61\\\",\\\"0.71\\\",\\\"0.81\\\",\\\"0.91\\\",\\\"1.01\\\",\\\"1.11\\\",\\\"1.21\\\",\\\"1.31\\\",\\\"1.41\\\",\\\"1.51\\\",\\\"1.61\\\",\\\"1.71\\\",\\\"1.81\\\",\\\"1.91\\\",\\\"2.01\\\",\\\"2.11\\\",\\\"2.21\\\",\\\"2.31\\\",\\\"2.41\\\",\\\"2.51\\\",\\\"2.61\\\",\\\"2.71\\\",\\\"2.81\\\",\\\"2.91\\\",\\\"3.01\\\",\\\"3.11\\\",\\\"3.21\\\",\\\"3.31\\\",\\\"3.41\\\",\\\"3.51\\\",\\\"3.61\\\",\\\"3.71\\\",\\\"3.81\\\",\\\"3.91\\\",\\\"4.01\\\",\\\"4.11\\\",\\\"4.21\\\",\\\"4.31\\\",\\\"4.41\\\",\\\"4.51\\\",\\\"4.61\\\",\\\"4.71\\\",\\\"4.81\\\",\\\"4.91\\\"],\\\"changes\\\":WebIO.getval({\\\"name\\\":\\\"changes\\\",\\\"scope\\\":\\\"7372785594314621952\\\",\\\"id\\\":\\\"13148911625440517964\\\",\\\"type\\\":\\\"observable\\\"}),\\\"index\\\":WebIO.getval({\\\"name\\\":\\\"index\\\",\\\"scope\\\":\\\"7372785594314621952\\\",\\\"id\\\":\\\"14330586059743620206\\\",\\\"type\\\":\\\"observable\\\"})};\\n    var self = this;\\n    function AppViewModel() {\\n        for (var key in json_data) {\\n            var el = json_data[key];\\n            this[key] = Array.isArray(el) ? ko.observableArray(el) : ko.observable(el);\\n        }\\n        \\n        [this[\\\"formatted_val\\\"]=ko.computed(    function(){\\n        return this.formatted_vals()[parseInt(this.index())-(1)];\\n    }\\n,this)]\\n        [this[\\\"changes\\\"].subscribe((function (val){!(this.valueFromJulia[\\\"changes\\\"]) ? (WebIO.setval({\\\"name\\\":\\\"changes\\\",\\\"scope\\\":\\\"7372785594314621952\\\",\\\"id\\\":\\\"13148911625440517964\\\",\\\"type\\\":\\\"observable\\\"},val)) : undefined; return this.valueFromJulia[\\\"changes\\\"]=false}),self),this[\\\"index\\\"].subscribe((function (val){!(this.valueFromJulia[\\\"index\\\"]) ? (WebIO.setval({\\\"name\\\":\\\"index\\\",\\\"scope\\\":\\\"7372785594314621952\\\",\\\"id\\\":\\\"14330586059743620206\\\",\\\"type\\\":\\\"observable\\\"},val)) : undefined; return this.valueFromJulia[\\\"index\\\"]=false}),self)]\\n        \\n    }\\n    self.model = new AppViewModel();\\n    self.valueFromJulia = {};\\n    for (var key in json_data) {\\n        self.valueFromJulia[key] = false;\\n    }\\n    ko.applyBindings(self.model, self.dom);\\n}\\n);\\n    (WebIO.importBlock({\\\"data\\\":[{\\\"name\\\":\\\"knockout\\\",\\\"type\\\":\\\"js\\\",\\\"url\\\":\\\"\\/assetserver\\/727383f2a47bd31570b7da84eee7b022dd6d7c78-knockout.js\\\"},{\\\"name\\\":\\\"knockout_punches\\\",\\\"type\\\":\\\"js\\\",\\\"url\\\":\\\"\\/assetserver\\/382b41b3b1bd9f26f75861d360bad7f8beea211f-knockout_punches.js\\\"}],\\\"type\\\":\\\"async_block\\\"})).then((imports) => handler.apply(this, imports));\\n}\\n\"],\"observables\":{\"changes\":{\"sync\":false,\"id\":\"13148911625440517964\",\"value\":0},\"index\":{\"sync\":true,\"id\":\"14330586059743620206\",\"value\":25}}},\"children\":[{\"props\":{\"className\":\"interact-flex-row interact-widget\"},\"nodeType\":\"DOM\",\"type\":\"node\",\"instanceArgs\":{\"namespace\":\"html\",\"tag\":\"div\"},\"children\":[{\"props\":{\"className\":\"interact-flex-row-left\"},\"nodeType\":\"DOM\",\"type\":\"node\",\"instanceArgs\":{\"namespace\":\"html\",\"tag\":\"div\"},\"children\":[{\"props\":{\"className\":\"interact \",\"style\":{\"padding\":\"5px 10px 0px 10px\"}},\"nodeType\":\"DOM\",\"type\":\"node\",\"instanceArgs\":{\"namespace\":\"html\",\"tag\":\"label\"},\"children\":[\"coupl\"]}]},{\"props\":{\"className\":\"interact-flex-row-center\"},\"nodeType\":\"DOM\",\"type\":\"node\",\"instanceArgs\":{\"namespace\":\"html\",\"tag\":\"div\"},\"children\":[{\"props\":{\"max\":50,\"min\":1,\"attributes\":{\"type\":\"range\",\"data-bind\":\"numericValue: index, valueUpdate: 'input', event: {change: function (){this.changes(this.changes()+1)}}\",\"orient\":\"horizontal\"},\"step\":1,\"className\":\"slider slider is-fullwidth\",\"style\":{}},\"nodeType\":\"DOM\",\"type\":\"node\",\"instanceArgs\":{\"namespace\":\"html\",\"tag\":\"input\"},\"children\":[]}]},{\"props\":{\"className\":\"interact-flex-row-right\"},\"nodeType\":\"DOM\",\"type\":\"node\",\"instanceArgs\":{\"namespace\":\"html\",\"tag\":\"div\"},\"children\":[{\"props\":{\"attributes\":{\"data-bind\":\"text: formatted_val\"}},\"nodeType\":\"DOM\",\"type\":\"node\",\"instanceArgs\":{\"namespace\":\"html\",\"tag\":\"p\"},\"children\":[]}]}]}]}]}]},{\"props\":{\"style\":{\"display\":\"flex\",\"flex-direction\":\"row\"}},\"nodeType\":\"DOM\",\"type\":\"node\",\"instanceArgs\":{\"namespace\":\"html\",\"tag\":\"div\"},\"children\":[{\"props\":{\"className\":\"interact-widget\"},\"nodeType\":\"DOM\",\"type\":\"node\",\"instanceArgs\":{\"namespace\":\"html\",\"tag\":\"div\"},\"children\":[{\"props\":{},\"nodeType\":\"Scope\",\"type\":\"node\",\"instanceArgs\":{\"imports\":{\"data\":[{\"name\":null,\"type\":\"js\",\"url\":\"\\/assetserver\\/dd22ed1bf1896c2748f3fe616ce0b838adc895c1-katex.min.js\"},{\"name\":null,\"type\":\"css\",\"url\":\"\\/assetserver\\/46517a424aa5e6cffc1360d7e0848b601c584ee3-katex.min.css\"}],\"type\":\"async_block\"},\"id\":\"8108391764650114362\",\"handlers\":{\"value\":[\"(function (txt){return this.k.render(txt,this.container)})\"]},\"systemjs_options\":null,\"mount_callbacks\":[\"function () {\\n    var handler = ((function (k){this.k=k; this.container=this.dom.querySelector(\\\"#container\\\"); return k.render(\\\"\\\\\\\\;\\\\\\\\;\\\",this.container)}));\\n    (WebIO.importBlock({\\\"data\\\":[{\\\"name\\\":null,\\\"type\\\":\\\"js\\\",\\\"url\\\":\\\"\\/assetserver\\/dd22ed1bf1896c2748f3fe616ce0b838adc895c1-katex.min.js\\\"},{\\\"name\\\":null,\\\"type\\\":\\\"css\\\",\\\"url\\\":\\\"\\/assetserver\\/46517a424aa5e6cffc1360d7e0848b601c584ee3-katex.min.css\\\"}],\\\"type\\\":\\\"async_block\\\"})).then((imports) => handler.apply(this, imports));\\n}\\n\"],\"observables\":{\"value\":{\"sync\":false,\"id\":\"11195546998865065991\",\"value\":\"\\\\;\\\\;\"}}},\"children\":[{\"props\":{\"id\":\"container\"},\"nodeType\":\"DOM\",\"type\":\"node\",\"instanceArgs\":{\"namespace\":\"html\",\"tag\":\"div\"},\"children\":[]}]}]},{\"props\":{\"className\":\"field interact-widget\"},\"nodeType\":\"DOM\",\"type\":\"node\",\"instanceArgs\":{\"namespace\":\"html\",\"tag\":\"div\"},\"children\":[{\"props\":{},\"nodeType\":\"Scope\",\"type\":\"node\",\"instanceArgs\":{\"imports\":{\"data\":[{\"name\":\"knockout\",\"type\":\"js\",\"url\":\"\\/assetserver\\/727383f2a47bd31570b7da84eee7b022dd6d7c78-knockout.js\"},{\"name\":\"knockout_punches\",\"type\":\"js\",\"url\":\"\\/assetserver\\/382b41b3b1bd9f26f75861d360bad7f8beea211f-knockout_punches.js\"},{\"name\":null,\"type\":\"js\",\"url\":\"\\/assetserver\\/5ab20f1060420992a9b82a65b735dee4d81ef413-all.js\"},{\"name\":null,\"type\":\"css\",\"url\":\"\\/assetserver\\/1cc0ed62837210b80a182cc3676512f895dab686-style.css\"},{\"name\":null,\"type\":\"css\",\"url\":\"\\/assetserver\\/2eee816f616df3549d7044d45e744fbf8d42bfa1-bulma_confined.min.css\"}],\"type\":\"async_block\"},\"id\":\"5915862496329956055\",\"handlers\":{\"loading\":[\"(function (val){return (val!=this.model[\\\"loading\\\"]()) ? (this.valueFromJulia[\\\"loading\\\"]=true, this.model[\\\"loading\\\"](val)) : undefined})\"],\"clicks\":[\"(function (val){return (val!=this.model[\\\"clicks\\\"]()) ? (this.valueFromJulia[\\\"clicks\\\"]=true, this.model[\\\"clicks\\\"](val)) : undefined})\"]},\"systemjs_options\":null,\"mount_callbacks\":[\"function () {\\n    var handler = (function (ko, koPunches) {\\n    ko.punches.enableAll();\\n    ko.bindingHandlers.numericValue = {\\n        init: function(element, valueAccessor, allBindings, data, context) {\\n            var stringified = ko.observable(ko.unwrap(valueAccessor()));\\n            stringified.subscribe(function(value) {\\n                var val = parseFloat(value);\\n                if (!isNaN(val)) {\\n                    valueAccessor()(val);\\n                }\\n            });\\n            valueAccessor().subscribe(function(value) {\\n                var str = JSON.stringify(value);\\n                if ((str == \\\"0\\\") && ([\\\"-0\\\", \\\"-0.\\\"].indexOf(stringified()) >= 0))\\n                     return;\\n                 if ([\\\"null\\\", \\\"\\\"].indexOf(str) >= 0)\\n                     return;\\n                stringified(str);\\n            });\\n            ko.applyBindingsToNode(\\n                element,\\n                {\\n                    value: stringified,\\n                    valueUpdate: allBindings.get('valueUpdate'),\\n                },\\n                context,\\n            );\\n        }\\n    };\\n    var json_data = {\\\"loading\\\":WebIO.getval({\\\"name\\\":\\\"loading\\\",\\\"scope\\\":\\\"5915862496329956055\\\",\\\"id\\\":\\\"12000050131230836868\\\",\\\"type\\\":\\\"observable\\\"}),\\\"clicks\\\":WebIO.getval({\\\"name\\\":\\\"clicks\\\",\\\"scope\\\":\\\"5915862496329956055\\\",\\\"id\\\":\\\"4574351964393637256\\\",\\\"type\\\":\\\"observable\\\"})};\\n    var self = this;\\n    function AppViewModel() {\\n        for (var key in json_data) {\\n            var el = json_data[key];\\n            this[key] = Array.isArray(el) ? ko.observableArray(el) : ko.observable(el);\\n        }\\n        \\n        \\n        [this[\\\"loading\\\"].subscribe((function (val){!(this.valueFromJulia[\\\"loading\\\"]) ? (WebIO.setval({\\\"name\\\":\\\"loading\\\",\\\"scope\\\":\\\"5915862496329956055\\\",\\\"id\\\":\\\"12000050131230836868\\\",\\\"type\\\":\\\"observable\\\"},val)) : undefined; return this.valueFromJulia[\\\"loading\\\"]=false}),self),this[\\\"clicks\\\"].subscribe((function (val){!(this.valueFromJulia[\\\"clicks\\\"]) ? (WebIO.setval({\\\"name\\\":\\\"clicks\\\",\\\"scope\\\":\\\"5915862496329956055\\\",\\\"id\\\":\\\"4574351964393637256\\\",\\\"type\\\":\\\"observable\\\"},val)) : undefined; return this.valueFromJulia[\\\"clicks\\\"]=false}),self)]\\n        \\n    }\\n    self.model = new AppViewModel();\\n    self.valueFromJulia = {};\\n    for (var key in json_data) {\\n        self.valueFromJulia[key] = false;\\n    }\\n    ko.applyBindings(self.model, self.dom);\\n}\\n);\\n    (WebIO.importBlock({\\\"data\\\":[{\\\"name\\\":\\\"knockout\\\",\\\"type\\\":\\\"js\\\",\\\"url\\\":\\\"\\/assetserver\\/727383f2a47bd31570b7da84eee7b022dd6d7c78-knockout.js\\\"},{\\\"name\\\":\\\"knockout_punches\\\",\\\"type\\\":\\\"js\\\",\\\"url\\\":\\\"\\/assetserver\\/382b41b3b1bd9f26f75861d360bad7f8beea211f-knockout_punches.js\\\"}],\\\"type\\\":\\\"async_block\\\"})).then((imports) => handler.apply(this, imports));\\n}\\n\"],\"observables\":{\"loading\":{\"sync\":false,\"id\":\"12000050131230836868\",\"value\":false},\"clicks\":{\"sync\":true,\"id\":\"4574351964393637256\",\"value\":0}}},\"children\":[{\"props\":{\"attributes\":{\"data-bind\":\"click: function (){this.clicks(this.clicks()+1)}, css: {'is-loading' : loading}\"},\"className\":\"is-medium button is-primary\",\"style\":{}},\"nodeType\":\"DOM\",\"type\":\"node\",\"instanceArgs\":{\"namespace\":\"html\",\"tag\":\"button\"},\"children\":[\"run\"]}]}]},{\"props\":{\"className\":\"interact-widget\"},\"nodeType\":\"DOM\",\"type\":\"node\",\"instanceArgs\":{\"namespace\":\"html\",\"tag\":\"div\"},\"children\":[{\"props\":{},\"nodeType\":\"Scope\",\"type\":\"node\",\"instanceArgs\":{\"imports\":{\"data\":[{\"name\":null,\"type\":\"js\",\"url\":\"\\/assetserver\\/dd22ed1bf1896c2748f3fe616ce0b838adc895c1-katex.min.js\"},{\"name\":null,\"type\":\"css\",\"url\":\"\\/assetserver\\/46517a424aa5e6cffc1360d7e0848b601c584ee3-katex.min.css\"}],\"type\":\"async_block\"},\"id\":\"8108391764650114362\",\"handlers\":{\"value\":[\"(function (txt){return this.k.render(txt,this.container)})\"]},\"systemjs_options\":null,\"mount_callbacks\":[\"function () {\\n    var handler = ((function (k){this.k=k; this.container=this.dom.querySelector(\\\"#container\\\"); return k.render(\\\"\\\\\\\\;\\\\\\\\;\\\",this.container)}));\\n    (WebIO.importBlock({\\\"data\\\":[{\\\"name\\\":null,\\\"type\\\":\\\"js\\\",\\\"url\\\":\\\"\\/assetserver\\/dd22ed1bf1896c2748f3fe616ce0b838adc895c1-katex.min.js\\\"},{\\\"name\\\":null,\\\"type\\\":\\\"css\\\",\\\"url\\\":\\\"\\/assetserver\\/46517a424aa5e6cffc1360d7e0848b601c584ee3-katex.min.css\\\"}],\\\"type\\\":\\\"async_block\\\"})).then((imports) => handler.apply(this, imports));\\n}\\n\"],\"observables\":{\"value\":{\"sync\":false,\"id\":\"11195546998865065991\",\"value\":\"\\\\;\\\\;\"}}},\"children\":[{\"props\":{\"id\":\"container\"},\"nodeType\":\"DOM\",\"type\":\"node\",\"instanceArgs\":{\"namespace\":\"html\",\"tag\":\"div\"},\"children\":[]}]}]},{\"props\":{\"className\":\"field interact-widget\"},\"nodeType\":\"DOM\",\"type\":\"node\",\"instanceArgs\":{\"namespace\":\"html\",\"tag\":\"div\"},\"children\":[{\"props\":{},\"nodeType\":\"Scope\",\"type\":\"node\",\"instanceArgs\":{\"imports\":{\"data\":[{\"name\":\"knockout\",\"type\":\"js\",\"url\":\"\\/assetserver\\/727383f2a47bd31570b7da84eee7b022dd6d7c78-knockout.js\"},{\"name\":\"knockout_punches\",\"type\":\"js\",\"url\":\"\\/assetserver\\/382b41b3b1bd9f26f75861d360bad7f8beea211f-knockout_punches.js\"},{\"name\":null,\"type\":\"js\",\"url\":\"\\/assetserver\\/5ab20f1060420992a9b82a65b735dee4d81ef413-all.js\"},{\"name\":null,\"type\":\"css\",\"url\":\"\\/assetserver\\/1cc0ed62837210b80a182cc3676512f895dab686-style.css\"},{\"name\":null,\"type\":\"css\",\"url\":\"\\/assetserver\\/2eee816f616df3549d7044d45e744fbf8d42bfa1-bulma_confined.min.css\"}],\"type\":\"async_block\"},\"id\":\"12815284471179682428\",\"handlers\":{\"loading\":[\"(function (val){return (val!=this.model[\\\"loading\\\"]()) ? (this.valueFromJulia[\\\"loading\\\"]=true, this.model[\\\"loading\\\"](val)) : undefined})\"],\"clicks\":[\"(function (val){return (val!=this.model[\\\"clicks\\\"]()) ? (this.valueFromJulia[\\\"clicks\\\"]=true, this.model[\\\"clicks\\\"](val)) : undefined})\"]},\"systemjs_options\":null,\"mount_callbacks\":[\"function () {\\n    var handler = (function (ko, koPunches) {\\n    ko.punches.enableAll();\\n    ko.bindingHandlers.numericValue = {\\n        init: function(element, valueAccessor, allBindings, data, context) {\\n            var stringified = ko.observable(ko.unwrap(valueAccessor()));\\n            stringified.subscribe(function(value) {\\n                var val = parseFloat(value);\\n                if (!isNaN(val)) {\\n                    valueAccessor()(val);\\n                }\\n            });\\n            valueAccessor().subscribe(function(value) {\\n                var str = JSON.stringify(value);\\n                if ((str == \\\"0\\\") && ([\\\"-0\\\", \\\"-0.\\\"].indexOf(stringified()) >= 0))\\n                     return;\\n                 if ([\\\"null\\\", \\\"\\\"].indexOf(str) >= 0)\\n                     return;\\n                stringified(str);\\n            });\\n            ko.applyBindingsToNode(\\n                element,\\n                {\\n                    value: stringified,\\n                    valueUpdate: allBindings.get('valueUpdate'),\\n                },\\n                context,\\n            );\\n        }\\n    };\\n    var json_data = {\\\"loading\\\":WebIO.getval({\\\"name\\\":\\\"loading\\\",\\\"scope\\\":\\\"12815284471179682428\\\",\\\"id\\\":\\\"15101093252118307875\\\",\\\"type\\\":\\\"observable\\\"}),\\\"clicks\\\":WebIO.getval({\\\"name\\\":\\\"clicks\\\",\\\"scope\\\":\\\"12815284471179682428\\\",\\\"id\\\":\\\"1750690156012732256\\\",\\\"type\\\":\\\"observable\\\"})};\\n    var self = this;\\n    function AppViewModel() {\\n        for (var key in json_data) {\\n            var el = json_data[key];\\n            this[key] = Array.isArray(el) ? ko.observableArray(el) : ko.observable(el);\\n        }\\n        \\n        \\n        [this[\\\"loading\\\"].subscribe((function (val){!(this.valueFromJulia[\\\"loading\\\"]) ? (WebIO.setval({\\\"name\\\":\\\"loading\\\",\\\"scope\\\":\\\"12815284471179682428\\\",\\\"id\\\":\\\"15101093252118307875\\\",\\\"type\\\":\\\"observable\\\"},val)) : undefined; return this.valueFromJulia[\\\"loading\\\"]=false}),self),this[\\\"clicks\\\"].subscribe((function (val){!(this.valueFromJulia[\\\"clicks\\\"]) ? (WebIO.setval({\\\"name\\\":\\\"clicks\\\",\\\"scope\\\":\\\"12815284471179682428\\\",\\\"id\\\":\\\"1750690156012732256\\\",\\\"type\\\":\\\"observable\\\"},val)) : undefined; return this.valueFromJulia[\\\"clicks\\\"]=false}),self)]\\n        \\n    }\\n    self.model = new AppViewModel();\\n    self.valueFromJulia = {};\\n    for (var key in json_data) {\\n        self.valueFromJulia[key] = false;\\n    }\\n    ko.applyBindings(self.model, self.dom);\\n}\\n);\\n    (WebIO.importBlock({\\\"data\\\":[{\\\"name\\\":\\\"knockout\\\",\\\"type\\\":\\\"js\\\",\\\"url\\\":\\\"\\/assetserver\\/727383f2a47bd31570b7da84eee7b022dd6d7c78-knockout.js\\\"},{\\\"name\\\":\\\"knockout_punches\\\",\\\"type\\\":\\\"js\\\",\\\"url\\\":\\\"\\/assetserver\\/382b41b3b1bd9f26f75861d360bad7f8beea211f-knockout_punches.js\\\"}],\\\"type\\\":\\\"async_block\\\"})).then((imports) => handler.apply(this, imports));\\n}\\n\"],\"observables\":{\"loading\":{\"sync\":false,\"id\":\"15101093252118307875\",\"value\":false},\"clicks\":{\"sync\":true,\"id\":\"1750690156012732256\",\"value\":0}}},\"children\":[{\"props\":{\"attributes\":{\"data-bind\":\"click: function (){this.clicks(this.clicks()+1)}, css: {'is-loading' : loading}\"},\"className\":\"is-medium button is-primary\",\"style\":{}},\"nodeType\":\"DOM\",\"type\":\"node\",\"instanceArgs\":{\"namespace\":\"html\",\"tag\":\"button\"},\"children\":[\"stop\"]}]}]},{\"props\":{\"className\":\"interact-widget\"},\"nodeType\":\"DOM\",\"type\":\"node\",\"instanceArgs\":{\"namespace\":\"html\",\"tag\":\"div\"},\"children\":[{\"props\":{},\"nodeType\":\"Scope\",\"type\":\"node\",\"instanceArgs\":{\"imports\":{\"data\":[{\"name\":null,\"type\":\"js\",\"url\":\"\\/assetserver\\/dd22ed1bf1896c2748f3fe616ce0b838adc895c1-katex.min.js\"},{\"name\":null,\"type\":\"css\",\"url\":\"\\/assetserver\\/46517a424aa5e6cffc1360d7e0848b601c584ee3-katex.min.css\"}],\"type\":\"async_block\"},\"id\":\"8108391764650114362\",\"handlers\":{\"value\":[\"(function (txt){return this.k.render(txt,this.container)})\"]},\"systemjs_options\":null,\"mount_callbacks\":[\"function () {\\n    var handler = ((function (k){this.k=k; this.container=this.dom.querySelector(\\\"#container\\\"); return k.render(\\\"\\\\\\\\;\\\\\\\\;\\\",this.container)}));\\n    (WebIO.importBlock({\\\"data\\\":[{\\\"name\\\":null,\\\"type\\\":\\\"js\\\",\\\"url\\\":\\\"\\/assetserver\\/dd22ed1bf1896c2748f3fe616ce0b838adc895c1-katex.min.js\\\"},{\\\"name\\\":null,\\\"type\\\":\\\"css\\\",\\\"url\\\":\\\"\\/assetserver\\/46517a424aa5e6cffc1360d7e0848b601c584ee3-katex.min.css\\\"}],\\\"type\\\":\\\"async_block\\\"})).then((imports) => handler.apply(this, imports));\\n}\\n\"],\"observables\":{\"value\":{\"sync\":false,\"id\":\"11195546998865065991\",\"value\":\"\\\\;\\\\;\"}}},\"children\":[{\"props\":{\"id\":\"container\"},\"nodeType\":\"DOM\",\"type\":\"node\",\"instanceArgs\":{\"namespace\":\"html\",\"tag\":\"div\"},\"children\":[]}]}]},{\"props\":{\"className\":\"field interact-widget\"},\"nodeType\":\"DOM\",\"type\":\"node\",\"instanceArgs\":{\"namespace\":\"html\",\"tag\":\"div\"},\"children\":[{\"props\":{},\"nodeType\":\"Scope\",\"type\":\"node\",\"instanceArgs\":{\"imports\":{\"data\":[{\"name\":\"knockout\",\"type\":\"js\",\"url\":\"\\/assetserver\\/727383f2a47bd31570b7da84eee7b022dd6d7c78-knockout.js\"},{\"name\":\"knockout_punches\",\"type\":\"js\",\"url\":\"\\/assetserver\\/382b41b3b1bd9f26f75861d360bad7f8beea211f-knockout_punches.js\"},{\"name\":null,\"type\":\"js\",\"url\":\"\\/assetserver\\/5ab20f1060420992a9b82a65b735dee4d81ef413-all.js\"},{\"name\":null,\"type\":\"css\",\"url\":\"\\/assetserver\\/1cc0ed62837210b80a182cc3676512f895dab686-style.css\"},{\"name\":null,\"type\":\"css\",\"url\":\"\\/assetserver\\/2eee816f616df3549d7044d45e744fbf8d42bfa1-bulma_confined.min.css\"}],\"type\":\"async_block\"},\"id\":\"11169250694593977229\",\"handlers\":{\"loading\":[\"(function (val){return (val!=this.model[\\\"loading\\\"]()) ? (this.valueFromJulia[\\\"loading\\\"]=true, this.model[\\\"loading\\\"](val)) : undefined})\"],\"clicks\":[\"(function (val){return (val!=this.model[\\\"clicks\\\"]()) ? (this.valueFromJulia[\\\"clicks\\\"]=true, this.model[\\\"clicks\\\"](val)) : undefined})\"]},\"systemjs_options\":null,\"mount_callbacks\":[\"function () {\\n    var handler = (function (ko, koPunches) {\\n    ko.punches.enableAll();\\n    ko.bindingHandlers.numericValue = {\\n        init: function(element, valueAccessor, allBindings, data, context) {\\n            var stringified = ko.observable(ko.unwrap(valueAccessor()));\\n            stringified.subscribe(function(value) {\\n                var val = parseFloat(value);\\n                if (!isNaN(val)) {\\n                    valueAccessor()(val);\\n                }\\n            });\\n            valueAccessor().subscribe(function(value) {\\n                var str = JSON.stringify(value);\\n                if ((str == \\\"0\\\") && ([\\\"-0\\\", \\\"-0.\\\"].indexOf(stringified()) >= 0))\\n                     return;\\n                 if ([\\\"null\\\", \\\"\\\"].indexOf(str) >= 0)\\n                     return;\\n                stringified(str);\\n            });\\n            ko.applyBindingsToNode(\\n                element,\\n                {\\n                    value: stringified,\\n                    valueUpdate: allBindings.get('valueUpdate'),\\n                },\\n                context,\\n            );\\n        }\\n    };\\n    var json_data = {\\\"loading\\\":WebIO.getval({\\\"name\\\":\\\"loading\\\",\\\"scope\\\":\\\"11169250694593977229\\\",\\\"id\\\":\\\"14817254389699593733\\\",\\\"type\\\":\\\"observable\\\"}),\\\"clicks\\\":WebIO.getval({\\\"name\\\":\\\"clicks\\\",\\\"scope\\\":\\\"11169250694593977229\\\",\\\"id\\\":\\\"1558280549538366095\\\",\\\"type\\\":\\\"observable\\\"})};\\n    var self = this;\\n    function AppViewModel() {\\n        for (var key in json_data) {\\n            var el = json_data[key];\\n            this[key] = Array.isArray(el) ? ko.observableArray(el) : ko.observable(el);\\n        }\\n        \\n        \\n        [this[\\\"loading\\\"].subscribe((function (val){!(this.valueFromJulia[\\\"loading\\\"]) ? (WebIO.setval({\\\"name\\\":\\\"loading\\\",\\\"scope\\\":\\\"11169250694593977229\\\",\\\"id\\\":\\\"14817254389699593733\\\",\\\"type\\\":\\\"observable\\\"},val)) : undefined; return this.valueFromJulia[\\\"loading\\\"]=false}),self),this[\\\"clicks\\\"].subscribe((function (val){!(this.valueFromJulia[\\\"clicks\\\"]) ? (WebIO.setval({\\\"name\\\":\\\"clicks\\\",\\\"scope\\\":\\\"11169250694593977229\\\",\\\"id\\\":\\\"1558280549538366095\\\",\\\"type\\\":\\\"observable\\\"},val)) : undefined; return this.valueFromJulia[\\\"clicks\\\"]=false}),self)]\\n        \\n    }\\n    self.model = new AppViewModel();\\n    self.valueFromJulia = {};\\n    for (var key in json_data) {\\n        self.valueFromJulia[key] = false;\\n    }\\n    ko.applyBindings(self.model, self.dom);\\n}\\n);\\n    (WebIO.importBlock({\\\"data\\\":[{\\\"name\\\":\\\"knockout\\\",\\\"type\\\":\\\"js\\\",\\\"url\\\":\\\"\\/assetserver\\/727383f2a47bd31570b7da84eee7b022dd6d7c78-knockout.js\\\"},{\\\"name\\\":\\\"knockout_punches\\\",\\\"type\\\":\\\"js\\\",\\\"url\\\":\\\"\\/assetserver\\/382b41b3b1bd9f26f75861d360bad7f8beea211f-knockout_punches.js\\\"}],\\\"type\\\":\\\"async_block\\\"})).then((imports) => handler.apply(this, imports));\\n}\\n\"],\"observables\":{\"loading\":{\"sync\":false,\"id\":\"14817254389699593733\",\"value\":false},\"clicks\":{\"sync\":true,\"id\":\"1558280549538366095\",\"value\":0}}},\"children\":[{\"props\":{\"attributes\":{\"data-bind\":\"click: function (){this.clicks(this.clicks()+1)}, css: {'is-loading' : loading}\"},\"className\":\"is-medium button is-primary\",\"style\":{}},\"nodeType\":\"DOM\",\"type\":\"node\",\"instanceArgs\":{\"namespace\":\"html\",\"tag\":\"button\"},\"children\":[\"reset\"]}]}]},{\"props\":{\"className\":\"interact-widget\"},\"nodeType\":\"DOM\",\"type\":\"node\",\"instanceArgs\":{\"namespace\":\"html\",\"tag\":\"div\"},\"children\":[{\"props\":{},\"nodeType\":\"Scope\",\"type\":\"node\",\"instanceArgs\":{\"imports\":{\"data\":[{\"name\":null,\"type\":\"js\",\"url\":\"\\/assetserver\\/dd22ed1bf1896c2748f3fe616ce0b838adc895c1-katex.min.js\"},{\"name\":null,\"type\":\"css\",\"url\":\"\\/assetserver\\/46517a424aa5e6cffc1360d7e0848b601c584ee3-katex.min.css\"}],\"type\":\"async_block\"},\"id\":\"8108391764650114362\",\"handlers\":{\"value\":[\"(function (txt){return this.k.render(txt,this.container)})\"]},\"systemjs_options\":null,\"mount_callbacks\":[\"function () {\\n    var handler = ((function (k){this.k=k; this.container=this.dom.querySelector(\\\"#container\\\"); return k.render(\\\"\\\\\\\\;\\\\\\\\;\\\",this.container)}));\\n    (WebIO.importBlock({\\\"data\\\":[{\\\"name\\\":null,\\\"type\\\":\\\"js\\\",\\\"url\\\":\\\"\\/assetserver\\/dd22ed1bf1896c2748f3fe616ce0b838adc895c1-katex.min.js\\\"},{\\\"name\\\":null,\\\"type\\\":\\\"css\\\",\\\"url\\\":\\\"\\/assetserver\\/46517a424aa5e6cffc1360d7e0848b601c584ee3-katex.min.css\\\"}],\\\"type\\\":\\\"async_block\\\"})).then((imports) => handler.apply(this, imports));\\n}\\n\"],\"observables\":{\"value\":{\"sync\":false,\"id\":\"11195546998865065991\",\"value\":\"\\\\;\\\\;\"}}},\"children\":[{\"props\":{\"id\":\"container\"},\"nodeType\":\"DOM\",\"type\":\"node\",\"instanceArgs\":{\"namespace\":\"html\",\"tag\":\"div\"},\"children\":[]}]}]},{\"props\":{\"className\":\"field interact-widget\"},\"nodeType\":\"DOM\",\"type\":\"node\",\"instanceArgs\":{\"namespace\":\"html\",\"tag\":\"div\"},\"children\":[{\"props\":{},\"nodeType\":\"Scope\",\"type\":\"node\",\"instanceArgs\":{\"imports\":{\"data\":[{\"name\":\"knockout\",\"type\":\"js\",\"url\":\"\\/assetserver\\/727383f2a47bd31570b7da84eee7b022dd6d7c78-knockout.js\"},{\"name\":\"knockout_punches\",\"type\":\"js\",\"url\":\"\\/assetserver\\/382b41b3b1bd9f26f75861d360bad7f8beea211f-knockout_punches.js\"},{\"name\":null,\"type\":\"js\",\"url\":\"\\/assetserver\\/5ab20f1060420992a9b82a65b735dee4d81ef413-all.js\"},{\"name\":null,\"type\":\"css\",\"url\":\"\\/assetserver\\/1cc0ed62837210b80a182cc3676512f895dab686-style.css\"},{\"name\":null,\"type\":\"css\",\"url\":\"\\/assetserver\\/2eee816f616df3549d7044d45e744fbf8d42bfa1-bulma_confined.min.css\"}],\"type\":\"async_block\"},\"id\":\"14956355394701390650\",\"handlers\":{\"loading\":[\"(function (val){return (val!=this.model[\\\"loading\\\"]()) ? (this.valueFromJulia[\\\"loading\\\"]=true, this.model[\\\"loading\\\"](val)) : undefined})\"],\"clicks\":[\"(function (val){return (val!=this.model[\\\"clicks\\\"]()) ? (this.valueFromJulia[\\\"clicks\\\"]=true, this.model[\\\"clicks\\\"](val)) : undefined})\"]},\"systemjs_options\":null,\"mount_callbacks\":[\"function () {\\n    var handler = (function (ko, koPunches) {\\n    ko.punches.enableAll();\\n    ko.bindingHandlers.numericValue = {\\n        init: function(element, valueAccessor, allBindings, data, context) {\\n            var stringified = ko.observable(ko.unwrap(valueAccessor()));\\n            stringified.subscribe(function(value) {\\n                var val = parseFloat(value);\\n                if (!isNaN(val)) {\\n                    valueAccessor()(val);\\n                }\\n            });\\n            valueAccessor().subscribe(function(value) {\\n                var str = JSON.stringify(value);\\n                if ((str == \\\"0\\\") && ([\\\"-0\\\", \\\"-0.\\\"].indexOf(stringified()) >= 0))\\n                     return;\\n                 if ([\\\"null\\\", \\\"\\\"].indexOf(str) >= 0)\\n                     return;\\n                stringified(str);\\n            });\\n            ko.applyBindingsToNode(\\n                element,\\n                {\\n                    value: stringified,\\n                    valueUpdate: allBindings.get('valueUpdate'),\\n                },\\n                context,\\n            );\\n        }\\n    };\\n    var json_data = {\\\"loading\\\":WebIO.getval({\\\"name\\\":\\\"loading\\\",\\\"scope\\\":\\\"14956355394701390650\\\",\\\"id\\\":\\\"12573315406661468018\\\",\\\"type\\\":\\\"observable\\\"}),\\\"clicks\\\":WebIO.getval({\\\"name\\\":\\\"clicks\\\",\\\"scope\\\":\\\"14956355394701390650\\\",\\\"id\\\":\\\"366269896328017512\\\",\\\"type\\\":\\\"observable\\\"})};\\n    var self = this;\\n    function AppViewModel() {\\n        for (var key in json_data) {\\n            var el = json_data[key];\\n            this[key] = Array.isArray(el) ? ko.observableArray(el) : ko.observable(el);\\n        }\\n        \\n        \\n        [this[\\\"loading\\\"].subscribe((function (val){!(this.valueFromJulia[\\\"loading\\\"]) ? (WebIO.setval({\\\"name\\\":\\\"loading\\\",\\\"scope\\\":\\\"14956355394701390650\\\",\\\"id\\\":\\\"12573315406661468018\\\",\\\"type\\\":\\\"observable\\\"},val)) : undefined; return this.valueFromJulia[\\\"loading\\\"]=false}),self),this[\\\"clicks\\\"].subscribe((function (val){!(this.valueFromJulia[\\\"clicks\\\"]) ? (WebIO.setval({\\\"name\\\":\\\"clicks\\\",\\\"scope\\\":\\\"14956355394701390650\\\",\\\"id\\\":\\\"366269896328017512\\\",\\\"type\\\":\\\"observable\\\"},val)) : undefined; return this.valueFromJulia[\\\"clicks\\\"]=false}),self)]\\n        \\n    }\\n    self.model = new AppViewModel();\\n    self.valueFromJulia = {};\\n    for (var key in json_data) {\\n        self.valueFromJulia[key] = false;\\n    }\\n    ko.applyBindings(self.model, self.dom);\\n}\\n);\\n    (WebIO.importBlock({\\\"data\\\":[{\\\"name\\\":\\\"knockout\\\",\\\"type\\\":\\\"js\\\",\\\"url\\\":\\\"\\/assetserver\\/727383f2a47bd31570b7da84eee7b022dd6d7c78-knockout.js\\\"},{\\\"name\\\":\\\"knockout_punches\\\",\\\"type\\\":\\\"js\\\",\\\"url\\\":\\\"\\/assetserver\\/382b41b3b1bd9f26f75861d360bad7f8beea211f-knockout_punches.js\\\"}],\\\"type\\\":\\\"async_block\\\"})).then((imports) => handler.apply(this, imports));\\n}\\n\"],\"observables\":{\"loading\":{\"sync\":false,\"id\":\"12573315406661468018\",\"value\":false},\"clicks\":{\"sync\":true,\"id\":\"366269896328017512\",\"value\":0}}},\"children\":[{\"props\":{\"attributes\":{\"data-bind\":\"click: function (){this.clicks(this.clicks()+1)}, css: {'is-loading' : loading}\"},\"className\":\"is-medium button is-primary\",\"style\":{}},\"nodeType\":\"DOM\",\"type\":\"node\",\"instanceArgs\":{\"namespace\":\"html\",\"tag\":\"button\"},\"children\":[\"save\"]}]}]}]}]},{\"props\":{\"className\":\"interact-widget\"},\"nodeType\":\"DOM\",\"type\":\"node\",\"instanceArgs\":{\"namespace\":\"html\",\"tag\":\"div\"},\"children\":[{\"props\":{},\"nodeType\":\"Scope\",\"type\":\"node\",\"instanceArgs\":{\"imports\":{\"data\":[{\"name\":null,\"type\":\"js\",\"url\":\"\\/assetserver\\/dd22ed1bf1896c2748f3fe616ce0b838adc895c1-katex.min.js\"},{\"name\":null,\"type\":\"css\",\"url\":\"\\/assetserver\\/46517a424aa5e6cffc1360d7e0848b601c584ee3-katex.min.css\"}],\"type\":\"async_block\"},\"id\":\"8108391764650114362\",\"handlers\":{\"value\":[\"(function (txt){return this.k.render(txt,this.container)})\"]},\"systemjs_options\":null,\"mount_callbacks\":[\"function () {\\n    var handler = ((function (k){this.k=k; this.container=this.dom.querySelector(\\\"#container\\\"); return k.render(\\\"\\\\\\\\;\\\\\\\\;\\\",this.container)}));\\n    (WebIO.importBlock({\\\"data\\\":[{\\\"name\\\":null,\\\"type\\\":\\\"js\\\",\\\"url\\\":\\\"\\/assetserver\\/dd22ed1bf1896c2748f3fe616ce0b838adc895c1-katex.min.js\\\"},{\\\"name\\\":null,\\\"type\\\":\\\"css\\\",\\\"url\\\":\\\"\\/assetserver\\/46517a424aa5e6cffc1360d7e0848b601c584ee3-katex.min.css\\\"}],\\\"type\\\":\\\"async_block\\\"})).then((imports) => handler.apply(this, imports));\\n}\\n\"],\"observables\":{\"value\":{\"sync\":false,\"id\":\"11195546998865065991\",\"value\":\"\\\\;\\\\;\"}}},\"children\":[{\"props\":{\"id\":\"container\"},\"nodeType\":\"DOM\",\"type\":\"node\",\"instanceArgs\":{\"namespace\":\"html\",\"tag\":\"div\"},\"children\":[]}]}]},{\"props\":{},\"nodeType\":\"Scope\",\"type\":\"node\",\"instanceArgs\":{\"imports\":{\"data\":[],\"type\":\"async_block\"},\"id\":\"18009010954792472617\",\"handlers\":{\"obs-output\":[\"function (value, scope) {\\n    scope.setInnerHTML(value);\\n}\\n\"]},\"systemjs_options\":null,\"mount_callbacks\":[],\"observables\":{\"obs-output\":{\"sync\":false,\"id\":\"16127797640423485009\",\"value\":\"<img src='data:image\\/png;base64,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'><\\/img>\"}}},\"children\":[{\"props\":{\"className\":\"webio-observable\",\"setInnerHtml\":\"<img src='data:image\\/png;base64,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'><\\/img>\"},\"nodeType\":\"DOM\",\"type\":\"node\",\"instanceArgs\":{\"namespace\":\"html\",\"tag\":\"div\"},\"children\":[]}]},{\"props\":{\"className\":\"interact-widget\"},\"nodeType\":\"DOM\",\"type\":\"node\",\"instanceArgs\":{\"namespace\":\"html\",\"tag\":\"div\"},\"children\":[{\"props\":{},\"nodeType\":\"Scope\",\"type\":\"node\",\"instanceArgs\":{\"imports\":{\"data\":[{\"name\":null,\"type\":\"js\",\"url\":\"\\/assetserver\\/dd22ed1bf1896c2748f3fe616ce0b838adc895c1-katex.min.js\"},{\"name\":null,\"type\":\"css\",\"url\":\"\\/assetserver\\/46517a424aa5e6cffc1360d7e0848b601c584ee3-katex.min.css\"}],\"type\":\"async_block\"},\"id\":\"8108391764650114362\",\"handlers\":{\"value\":[\"(function (txt){return this.k.render(txt,this.container)})\"]},\"systemjs_options\":null,\"mount_callbacks\":[\"function () {\\n    var handler = ((function (k){this.k=k; this.container=this.dom.querySelector(\\\"#container\\\"); return k.render(\\\"\\\\\\\\;\\\\\\\\;\\\",this.container)}));\\n    (WebIO.importBlock({\\\"data\\\":[{\\\"name\\\":null,\\\"type\\\":\\\"js\\\",\\\"url\\\":\\\"\\/assetserver\\/dd22ed1bf1896c2748f3fe616ce0b838adc895c1-katex.min.js\\\"},{\\\"name\\\":null,\\\"type\\\":\\\"css\\\",\\\"url\\\":\\\"\\/assetserver\\/46517a424aa5e6cffc1360d7e0848b601c584ee3-katex.min.css\\\"}],\\\"type\\\":\\\"async_block\\\"})).then((imports) => handler.apply(this, imports));\\n}\\n\"],\"observables\":{\"value\":{\"sync\":false,\"id\":\"11195546998865065991\",\"value\":\"\\\\;\\\\;\"}}},\"children\":[{\"props\":{\"id\":\"container\"},\"nodeType\":\"DOM\",\"type\":\"node\",\"instanceArgs\":{\"namespace\":\"html\",\"tag\":\"div\"},\"children\":[]}]}]},{\"props\":{\"style\":{\"display\":\"flex\",\"flex-direction\":\"column\"}},\"nodeType\":\"DOM\",\"type\":\"node\",\"instanceArgs\":{\"namespace\":\"html\",\"tag\":\"div\"},\"children\":[{\"props\":{},\"nodeType\":\"Scope\",\"type\":\"node\",\"instanceArgs\":{\"imports\":{\"data\":[],\"type\":\"async_block\"},\"id\":\"4114394413955421267\",\"handlers\":{\"obs-output\":[\"function (value, scope) {\\n    scope.setInnerHTML(value);\\n}\\n\"]},\"systemjs_options\":null,\"mount_callbacks\":[],\"observables\":{\"obs-output\":{\"sync\":false,\"id\":\"3355516439726945374\",\"value\":\"<img src=\\\"data:image\\/png;base64,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\\\" \\/>\"}}},\"children\":[{\"props\":{\"className\":\"webio-observable\",\"setInnerHtml\":\"<img src=\\\"data:image\\/png;base64,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\\\" \\/>\"},\"nodeType\":\"DOM\",\"type\":\"node\",\"instanceArgs\":{\"namespace\":\"html\",\"tag\":\"div\"},\"children\":[]}]}]}]}]},\n",
       "        window,\n",
       "    );\n",
       "    })()\n",
       "    </script>\n",
       "</div>\n"
      ],
      "text/plain": [
       "WebIO.Node{WebIO.DOM}(WebIO.DOM(:html, :div), Any[WebIO.Node{WebIO.DOM}(WebIO.DOM(:html, :div), Any[WebIO.Node{WebIO.DOM}(WebIO.DOM(:html, :div), Any[WebIO.Node{WebIO.DOM}(WebIO.DOM(:html, :div), Any[WebIO.Scope(WebIO.Node{WebIO.DOM}(WebIO.DOM(:html, :div), Any[WebIO.Node{WebIO.DOM}(WebIO.DOM(:html, :div), Any[WebIO.Node{WebIO.DOM}(WebIO.DOM(:html, :label), Any[\"time\"], Dict{Symbol, Any}(:className => \"interact \", :style => Dict{Any, Any}(:padding => \"5px 10px 0px 10px\")))], Dict{Symbol, Any}(:className => \"interact-flex-row-left\")), WebIO.Node{WebIO.DOM}(WebIO.DOM(:html, :div), Any[WebIO.Node{WebIO.DOM}(WebIO.DOM(:html, :input), Any[], Dict{Symbol, Any}(:max => 200, :min => 1, :attributes => Dict{Any, Any}(:type => \"range\", Symbol(\"data-bind\") => \"numericValue: index, valueUpdate: 'input', event: {change: function (){this.changes(this.changes()+1)}}\", \"orient\" => \"horizontal\"), :step => 1, :className => \"slider slider is-fullwidth\", :style => Dict{Any, Any}()))], Dict{Symbol, Any}(:className => \"interact-flex-row-center\")), WebIO.Node{WebIO.DOM}(WebIO.DOM(:html, :div), Any[WebIO.Node{WebIO.DOM}(WebIO.DOM(:html, :p), Any[], Dict{Symbol, Any}(:attributes => Dict(\"data-bind\" => \"text: formatted_val\")))], Dict{Symbol, Any}(:className => \"interact-flex-row-right\"))], Dict{Symbol, Any}(:className => \"interact-flex-row interact-widget\")), Dict{String, Tuple{Observables.AbstractObservable, Union{Nothing, Bool}}}(\"changes\" => (Observable(0), nothing), \"index\" => (Observable(1), nothing)), Set{String}(), nothing, WebIO.Asset[WebIO.Asset(\"js\", \"knockout\", \"/home/dushya/.julia/packages/Knockout/HReiN/src/../assets/knockout.js\"), WebIO.Asset(\"js\", \"knockout_punches\", \"/home/dushya/.julia/packages/Knockout/HReiN/src/../assets/knockout_punches.js\"), WebIO.Asset(\"js\", nothing, \"/home/dushya/.julia/packages/InteractBase/LJXv3/src/../assets/all.js\"), WebIO.Asset(\"css\", nothing, \"/home/dushya/.julia/packages/InteractBase/LJXv3/src/../assets/style.css\"), WebIO.Asset(\"css\", nothing, \"/home/dushya/.julia/packages/Interact/PENUy/src/../assets/bulma_confined.min.css\")], Dict{Any, Any}(\"changes\" => Any[WebIO.JSString(\"(function (val){return (val!=this.model[\\\"changes\\\"]()) ? (this.valueFromJulia[\\\"changes\\\"]=true, this.model[\\\"changes\\\"](val)) : undefined})\")], \"index\" => Any[WebIO.JSString(\"(function (val){return (val!=this.model[\\\"index\\\"]()) ? (this.valueFromJulia[\\\"index\\\"]=true, this.model[\\\"index\\\"](val)) : undefined})\")]), WebIO.ConnectionPool(Channel{Any}(32), Set{WebIO.AbstractConnection}(), Base.GenericCondition{ReentrantLock}(Base.IntrusiveLinkedList{Task}(Task (runnable) @0x00007fc58dcf0330, Task (runnable) @0x00007fc58dcf0330), ReentrantLock(nothing, 0x00000000, 0x00, Base.GenericCondition{Base.Threads.SpinLock}(Base.IntrusiveLinkedList{Task}(nothing, nothing), Base.Threads.SpinLock(0)), (140487194375248, 140487109012896, 0)))), WebIO.JSString[WebIO.JSString(\"function () {\\n    var handler = (function (ko, koPunches) {\\n    ko.punches.enableAll();\\n    ko.bindingHandlers.numericValue = {\\n        init: function(element, valueAccessor, allBindings, data, context) {\\n            var stringified = ko.observable(ko.unwrap(valueAccessor()));\\n            stringified.subscribe(function(value) {\\n                var val = parseFloat(value);\\n                if (!isNaN(val)) {\\n                    valueAccessor()(val);\\n                }\\n            });\\n            valueAccessor().subscribe(function(value) {\\n                var str = JSON.stringify(value);\\n                if ((str == \\\"0\\\") && ([\\\"-0\\\", \\\"-0.\\\"].indexOf(stringified()) >= 0))\\n                     return;\\n                 if ([\\\"null\\\", \\\"\\\"].indexOf(str) >= 0)\\n                     return;\\n                stringified(str);\\n            });\\n            ko.applyBindingsToNode(\\n                element,\\n                {\\n                    value: stringified,\\n                    valueUpdate: allBindings.get('valueUpdate'),\\n                },\\n                context,\\n            );\\n        }\\n    };\\n    var json_data = {\\\"formatted_vals\\\":[\\\"1\\\",\\\"2\\\",\\\"3\\\",\\\"4\\\",\\\"5\\\",\\\"6\\\",\\\"7\\\",\\\"8\\\",\\\"9\\\",\\\"10\\\",\\\"11\\\",\\\"12\\\",\\\"13\\\",\\\"14\\\",\\\"15\\\",\\\"16\\\",\\\"17\\\",\\\"18\\\",\\\"19\\\",\\\"20\\\",\\\"21\\\",\\\"22\\\",\\\"23\\\",\\\"24\\\",\\\"25\\\",\\\"26\\\",\\\"27\\\",\\\"28\\\",\\\"29\\\",\\\"30\\\",\\\"31\\\",\\\"32\\\",\\\"33\\\",\\\"34\\\",\\\"35\\\",\\\"36\\\",\\\"37\\\",\\\"38\\\",\\\"39\\\",\\\"40\\\",\\\"41\\\",\\\"42\\\",\\\"43\\\",\\\"44\\\",\\\"45\\\",\\\"46\\\",\\\"47\\\",\\\"48\\\",\\\"49\\\",\\\"50\\\",\\\"51\\\",\\\"52\\\",\\\"53\\\",\\\"54\\\",\\\"55\\\",\\\"56\\\",\\\"57\\\",\\\"58\\\",\\\"59\\\",\\\"60\\\",\\\"61\\\",\\\"62\\\",\\\"63\\\",\\\"64\\\",\\\"65\\\",\\\"66\\\",\\\"67\\\",\\\"68\\\",\\\"69\\\",\\\"70\\\",\\\"71\\\",\\\"72\\\",\\\"73\\\",\\\"74\\\",\\\"75\\\",\\\"76\\\",\\\"77\\\",\\\"78\\\",\\\"79\\\",\\\"80\\\",\\\"81\\\",\\\"82\\\",\\\"83\\\",\\\"84\\\",\\\"85\\\",\\\"86\\\",\\\"87\\\",\\\"88\\\",\\\"89\\\",\\\"90\\\",\\\"91\\\",\\\"92\\\",\\\"93\\\",\\\"94\\\",\\\"95\\\",\\\"96\\\",\\\"97\\\",\\\"98\\\",\\\"99\\\",\\\"100\\\",\\\"101\\\",\\\"102\\\",\\\"103\\\",\\\"104\\\",\\\"105\\\",\\\"106\\\",\\\"107\\\",\\\"108\\\",\\\"109\\\",\\\"110\\\",\\\"111\\\",\\\"112\\\",\\\"113\\\",\\\"114\\\",\\\"115\\\",\\\"116\\\",\\\"117\\\",\\\"118\\\",\\\"119\\\",\\\"120\\\",\\\"121\\\",\\\"122\\\",\\\"123\\\",\\\"124\\\",\\\"125\\\",\\\"126\\\",\\\"127\\\",\\\"128\\\",\\\"129\\\",\\\"130\\\",\\\"131\\\",\\\"132\\\",\\\"133\\\",\\\"134\\\",\\\"135\\\",\\\"136\\\",\\\"137\\\",\\\"138\\\",\\\"139\\\",\\\"140\\\",\\\"141\\\",\\\"142\\\",\\\"143\\\",\\\"144\\\",\\\"145\\\",\\\"146\\\",\\\"147\\\",\\\"148\\\",\\\"149\\\",\\\"150\\\",\\\"151\\\",\\\"152\\\",\\\"153\\\",\\\"154\\\",\\\"155\\\",\\\"156\\\",\\\"157\\\",\\\"158\\\",\\\"159\\\",\\\"160\\\",\\\"161\\\",\\\"162\\\",\\\"163\\\",\\\"164\\\",\\\"165\\\",\\\"166\\\",\\\"167\\\",\\\"168\\\",\\\"169\\\",\\\"170\\\",\\\"171\\\",\\\"172\\\",\\\"173\\\",\\\"174\\\",\\\"175\\\",\\\"176\\\",\\\"177\\\",\\\"178\\\",\\\"179\\\",\\\"180\\\",\\\"181\\\",\\\"182\\\",\\\"183\\\",\\\"184\\\",\\\"185\\\",\\\"186\\\",\\\"187\\\",\\\"188\\\",\\\"189\\\",\\\"190\\\",\\\"191\\\",\\\"192\\\",\\\"193\\\",\\\"194\\\",\\\"195\\\",\\\"196\\\",\\\"197\\\",\\\"198\\\",\\\"199\\\",\\\"200\\\"],\\\"changes\\\":WebIO.getval({\\\"name\\\":\\\"changes\\\",\\\"scope\\\":\\\"17410503226374589756\\\",\\\"id\\\":\\\"12835962668677937418\\\",\\\"type\\\":\\\"observable\\\"}),\\\"index\\\":WebIO.getval({\\\"name\\\":\\\"index\\\",\\\"scope\\\":\\\"17410503226374589756\\\",\\\"id\\\":\\\"10092228320517272634\\\",\\\"type\\\":\\\"observable\\\"})};\\n    var self = this;\\n    function AppViewModel() {\\n        for (var key in json_data) {\\n            var el = json_data[key];\\n            this[key] = Array.isArray(el) ? ko.observableArray(el) : ko.observable(el);\\n        }\\n        \\n        [this[\\\"formatted_val\\\"]=ko.computed(    function(){\\n        return this.formatted_vals()[parseInt(this.index())-(1)];\\n    }\\n,this)]\\n        [this[\\\"changes\\\"].subscribe((function (val){!(this.valueFromJulia[\\\"changes\\\"]) ? (WebIO.setval({\\\"name\\\":\\\"changes\\\",\\\"scope\\\":\\\"17410503226374589756\\\",\\\"id\\\":\\\"12835962668677937418\\\",\\\"type\\\":\\\"observable\\\"},val)) : undefined; return this.valueFromJulia[\\\"changes\\\"]=false}),self),this[\\\"index\\\"].subscribe((function (val){!(this.valueFromJulia[\\\"index\\\"]) ? (WebIO.setval({\\\"name\\\":\\\"index\\\",\\\"scope\\\":\\\"17410503226374589756\\\",\\\"id\\\":\\\"10092228320517272634\\\",\\\"type\\\":\\\"observable\\\"},val)) : undefined; return this.valueFromJulia[\\\"index\\\"]=false}),self)]\\n        \\n    }\\n    self.model = new AppViewModel();\\n    self.valueFromJulia = {};\\n    for (var key in json_data) {\\n        self.valueFromJulia[key] = false;\\n    }\\n    ko.applyBindings(self.model, self.dom);\\n}\\n);\\n    (WebIO.importBlock({\\\"data\\\":[{\\\"name\\\":\\\"knockout\\\",\\\"type\\\":\\\"js\\\",\\\"url\\\":\\\"/assetserver/727383f2a47bd31570b7da84eee7b022dd6d7c78-knockout.js\\\"},{\\\"name\\\":\\\"knockout_punches\\\",\\\"type\\\":\\\"js\\\",\\\"url\\\":\\\"/assetserver/382b41b3b1bd9f26f75861d360bad7f8beea211f-knockout_punches.js\\\"}],\\\"type\\\":\\\"async_block\\\"})).then((imports) => handler.apply(this, imports));\\n}\\n\")])], Dict{Symbol, Any}(:className => \"field interact-widget\")), WebIO.Node{WebIO.DOM}(WebIO.DOM(:html, :div), Any[WebIO.Scope(WebIO.Node{WebIO.DOM}(WebIO.DOM(:html, :div), Any[WebIO.Node{WebIO.DOM}(WebIO.DOM(:html, :div), Any[WebIO.Node{WebIO.DOM}(WebIO.DOM(:html, :label), Any[\"scale\"], Dict{Symbol, Any}(:className => \"interact \", :style => Dict{Any, Any}(:padding => \"5px 10px 0px 10px\")))], Dict{Symbol, Any}(:className => \"interact-flex-row-left\")), WebIO.Node{WebIO.DOM}(WebIO.DOM(:html, :div), Any[WebIO.Node{WebIO.DOM}(WebIO.DOM(:html, :input), Any[], Dict{Symbol, Any}(:max => 20, :min => 1, :attributes => Dict{Any, Any}(:type => \"range\", Symbol(\"data-bind\") => \"numericValue: index, valueUpdate: 'input', event: {change: function (){this.changes(this.changes()+1)}}\", \"orient\" => \"horizontal\"), :step => 1, :className => \"slider slider is-fullwidth\", :style => Dict{Any, Any}()))], Dict{Symbol, Any}(:className => \"interact-flex-row-center\")), WebIO.Node{WebIO.DOM}(WebIO.DOM(:html, :div), Any[WebIO.Node{WebIO.DOM}(WebIO.DOM(:html, :p), Any[], Dict{Symbol, Any}(:attributes => Dict(\"data-bind\" => \"text: formatted_val\")))], Dict{Symbol, Any}(:className => \"interact-flex-row-right\"))], Dict{Symbol, Any}(:className => \"interact-flex-row interact-widget\")), Dict{String, Tuple{Observables.AbstractObservable, Union{Nothing, Bool}}}(\"changes\" => (Observable(0), nothing), \"index\" => (Observable{Any}(10), nothing)), Set{String}(), nothing, WebIO.Asset[WebIO.Asset(\"js\", \"knockout\", \"/home/dushya/.julia/packages/Knockout/HReiN/src/../assets/knockout.js\"), WebIO.Asset(\"js\", \"knockout_punches\", \"/home/dushya/.julia/packages/Knockout/HReiN/src/../assets/knockout_punches.js\"), WebIO.Asset(\"js\", nothing, \"/home/dushya/.julia/packages/InteractBase/LJXv3/src/../assets/all.js\"), WebIO.Asset(\"css\", nothing, \"/home/dushya/.julia/packages/InteractBase/LJXv3/src/../assets/style.css\"), WebIO.Asset(\"css\", nothing, \"/home/dushya/.julia/packages/Interact/PENUy/src/../assets/bulma_confined.min.css\")], Dict{Any, Any}(\"changes\" => Any[WebIO.JSString(\"(function (val){return (val!=this.model[\\\"changes\\\"]()) ? (this.valueFromJulia[\\\"changes\\\"]=true, this.model[\\\"changes\\\"](val)) : undefined})\")], \"index\" => Any[WebIO.JSString(\"(function (val){return (val!=this.model[\\\"index\\\"]()) ? (this.valueFromJulia[\\\"index\\\"]=true, this.model[\\\"index\\\"](val)) : undefined})\")]), WebIO.ConnectionPool(Channel{Any}(32), Set{WebIO.AbstractConnection}(), Base.GenericCondition{ReentrantLock}(Base.IntrusiveLinkedList{Task}(Task (runnable) @0x00007fc58dcf2a40, Task (runnable) @0x00007fc58dcf2a40), ReentrantLock(nothing, 0x00000000, 0x00, Base.GenericCondition{Base.Threads.SpinLock}(Base.IntrusiveLinkedList{Task}(nothing, nothing), Base.Threads.SpinLock(0)), (8, 0, 141733920768)))), WebIO.JSString[WebIO.JSString(\"function () {\\n    var handler = (function (ko, koPunches) {\\n    ko.punches.enableAll();\\n    ko.bindingHandlers.numericValue = {\\n        init: function(element, valueAccessor, allBindings, data, context) {\\n            var stringified = ko.observable(ko.unwrap(valueAccessor()));\\n            stringified.subscribe(function(value) {\\n                var val = parseFloat(value);\\n                if (!isNaN(val)) {\\n                    valueAccessor()(val);\\n                }\\n            });\\n            valueAccessor().subscribe(function(value) {\\n                var str = JSON.stringify(value);\\n                if ((str == \\\"0\\\") && ([\\\"-0\\\", \\\"-0.\\\"].indexOf(stringified()) >= 0))\\n                     return;\\n                 if ([\\\"null\\\", \\\"\\\"].indexOf(str) >= 0)\\n                     return;\\n                stringified(str);\\n            });\\n            ko.applyBindingsToNode(\\n                element,\\n                {\\n                    value: stringified,\\n                    valueUpdate: allBindings.get('valueUpdate'),\\n                },\\n                context,\\n            );\\n        }\\n    };\\n    var json_data = {\\\"formatted_vals\\\":[\\\"0.1\\\",\\\"0.2\\\",\\\"0.3\\\",\\\"0.4\\\",\\\"0.5\\\",\\\"0.6\\\",\\\"0.7\\\",\\\"0.8\\\",\\\"0.9\\\",\\\"1.0\\\",\\\"1.1\\\",\\\"1.2\\\",\\\"1.3\\\",\\\"1.4\\\",\\\"1.5\\\",\\\"1.6\\\",\\\"1.7\\\",\\\"1.8\\\",\\\"1.9\\\",\\\"2.0\\\"],\\\"changes\\\":WebIO.getval({\\\"name\\\":\\\"changes\\\",\\\"scope\\\":\\\"22875550510952153\\\",\\\"id\\\":\\\"1025709799350365962\\\",\\\"type\\\":\\\"observable\\\"}),\\\"index\\\":WebIO.getval({\\\"name\\\":\\\"index\\\",\\\"scope\\\":\\\"22875550510952153\\\",\\\"id\\\":\\\"17361340786675942337\\\",\\\"type\\\":\\\"observable\\\"})};\\n    var self = this;\\n    function AppViewModel() {\\n        for (var key in json_data) {\\n            var el = json_data[key];\\n            this[key] = Array.isArray(el) ? ko.observableArray(el) : ko.observable(el);\\n        }\\n        \\n        [this[\\\"formatted_val\\\"]=ko.computed(    function(){\\n        return this.formatted_vals()[parseInt(this.index())-(1)];\\n    }\\n,this)]\\n        [this[\\\"changes\\\"].subscribe((function (val){!(this.valueFromJulia[\\\"changes\\\"]) ? (WebIO.setval({\\\"name\\\":\\\"changes\\\",\\\"scope\\\":\\\"22875550510952153\\\",\\\"id\\\":\\\"1025709799350365962\\\",\\\"type\\\":\\\"observable\\\"},val)) : undefined; return this.valueFromJulia[\\\"changes\\\"]=false}),self),this[\\\"index\\\"].subscribe((function (val){!(this.valueFromJulia[\\\"index\\\"]) ? (WebIO.setval({\\\"name\\\":\\\"index\\\",\\\"scope\\\":\\\"22875550510952153\\\",\\\"id\\\":\\\"17361340786675942337\\\",\\\"type\\\":\\\"observable\\\"},val)) : undefined; return this.valueFromJulia[\\\"index\\\"]=false}),self)]\\n        \\n    }\\n    self.model = new AppViewModel();\\n    self.valueFromJulia = {};\\n    for (var key in json_data) {\\n        self.valueFromJulia[key] = false;\\n    }\\n    ko.applyBindings(self.model, self.dom);\\n}\\n);\\n    (WebIO.importBlock({\\\"data\\\":[{\\\"name\\\":\\\"knockout\\\",\\\"type\\\":\\\"js\\\",\\\"url\\\":\\\"/assetserver/727383f2a47bd31570b7da84eee7b022dd6d7c78-knockout.js\\\"},{\\\"name\\\":\\\"knockout_punches\\\",\\\"type\\\":\\\"js\\\",\\\"url\\\":\\\"/assetserver/382b41b3b1bd9f26f75861d360bad7f8beea211f-knockout_punches.js\\\"}],\\\"type\\\":\\\"async_block\\\"})).then((imports) => handler.apply(this, imports));\\n}\\n\")])], Dict{Symbol, Any}(:className => \"field interact-widget\")), WebIO.Node{WebIO.DOM}(WebIO.DOM(:html, :div), Any[], Dict{Symbol, Any}(:style => Dict(\"display\" => \"flex\", \"flex-direction\" => \"column\"))), WebIO.Node{WebIO.DOM}(WebIO.DOM(:html, :div), Any[WebIO.Node{WebIO.DOM}(WebIO.DOM(:html, :div), Any[WebIO.Scope(WebIO.Node{WebIO.DOM}(WebIO.DOM(:html, :div), Any[WebIO.Node{WebIO.DOM}(WebIO.DOM(:html, :div), Any[WebIO.Node{WebIO.DOM}(WebIO.DOM(:html, :label), Any[\"temp\"], Dict{Symbol, Any}(:className => \"interact \", :style => Dict{Any, Any}(:padding => \"5px 10px 0px 10px\")))], Dict{Symbol, Any}(:className => \"interact-flex-row-left\")), WebIO.Node{WebIO.DOM}(WebIO.DOM(:html, :div), Any[WebIO.Node{WebIO.DOM}(WebIO.DOM(:html, :input), Any[], Dict{Symbol, Any}(:max => 100, :min => 1, :attributes => Dict{Any, Any}(:type => \"range\", Symbol(\"data-bind\") => \"numericValue: index, valueUpdate: 'input', event: {change: function (){this.changes(this.changes()+1)}}\", \"orient\" => \"horizontal\"), :step => 1, :className => \"slider slider is-fullwidth\", :style => Dict{Any, Any}()))], Dict{Symbol, Any}(:className => \"interact-flex-row-center\")), WebIO.Node{WebIO.DOM}(WebIO.DOM(:html, :div), Any[WebIO.Node{WebIO.DOM}(WebIO.DOM(:html, :p), Any[], Dict{Symbol, Any}(:attributes => Dict(\"data-bind\" => \"text: formatted_val\")))], Dict{Symbol, Any}(:className => \"interact-flex-row-right\"))], Dict{Symbol, Any}(:className => \"interact-flex-row interact-widget\")), Dict{String, Tuple{Observables.AbstractObservable, Union{Nothing, Bool}}}(\"changes\" => (Observable(0), nothing), \"index\" => (Observable{Any}(50), nothing)), Set{String}(), nothing, WebIO.Asset[WebIO.Asset(\"js\", \"knockout\", \"/home/dushya/.julia/packages/Knockout/HReiN/src/../assets/knockout.js\"), WebIO.Asset(\"js\", \"knockout_punches\", \"/home/dushya/.julia/packages/Knockout/HReiN/src/../assets/knockout_punches.js\"), WebIO.Asset(\"js\", nothing, \"/home/dushya/.julia/packages/InteractBase/LJXv3/src/../assets/all.js\"), WebIO.Asset(\"css\", nothing, \"/home/dushya/.julia/packages/InteractBase/LJXv3/src/../assets/style.css\"), WebIO.Asset(\"css\", nothing, \"/home/dushya/.julia/packages/Interact/PENUy/src/../assets/bulma_confined.min.css\")], Dict{Any, Any}(\"changes\" => Any[WebIO.JSString(\"(function (val){return (val!=this.model[\\\"changes\\\"]()) ? (this.valueFromJulia[\\\"changes\\\"]=true, this.model[\\\"changes\\\"](val)) : undefined})\")], \"index\" => Any[WebIO.JSString(\"(function (val){return (val!=this.model[\\\"index\\\"]()) ? (this.valueFromJulia[\\\"index\\\"]=true, this.model[\\\"index\\\"](val)) : undefined})\")]), WebIO.ConnectionPool(Channel{Any}(32), Set{WebIO.AbstractConnection}(), Base.GenericCondition{ReentrantLock}(Base.IntrusiveLinkedList{Task}(Task (runnable) @0x00007fc58db179e0, Task (runnable) @0x00007fc58db179e0), ReentrantLock(nothing, 0x00000000, 0x00, Base.GenericCondition{Base.Threads.SpinLock}(Base.IntrusiveLinkedList{Task}(nothing, nothing), Base.Threads.SpinLock(0)), (8, 0, 141733920768)))), WebIO.JSString[WebIO.JSString(\"function () {\\n    var handler = (function (ko, koPunches) {\\n    ko.punches.enableAll();\\n    ko.bindingHandlers.numericValue = {\\n        init: function(element, valueAccessor, allBindings, data, context) {\\n            var stringified = ko.observable(ko.unwrap(valueAccessor()));\\n            stringified.subscribe(function(value) {\\n                var val = parseFloat(value);\\n                if (!isNaN(val)) {\\n                    valueAccessor()(val);\\n                }\\n            });\\n            valueAccessor().subscribe(function(value) {\\n                var str = JSON.stringify(value);\\n                if ((str == \\\"0\\\") && ([\\\"-0\\\", \\\"-0.\\\"].indexOf(stringified()) >= 0))\\n                     return;\\n                 if ([\\\"null\\\", \\\"\\\"].indexOf(str) >= 0)\\n                     return;\\n                stringified(str);\\n            });\\n            ko.applyBindingsToNode(\\n                element,\\n                {\\n                    value: stringified,\\n                    valueUpdate: allBindings.get('valueUpdate'),\\n                },\\n                context,\\n            );\\n        }\\n    };\\n    var json_data = {\\\"formatted_vals\\\":[\\\"0.05\\\",\\\"0.1\\\",\\\"0.15\\\",\\\"0.2\\\",\\\"0.25\\\",\\\"0.3\\\",\\\"0.35\\\",\\\"0.4\\\",\\\"0.45\\\",\\\"0.5\\\",\\\"0.55\\\",\\\"0.6\\\",\\\"0.65\\\",\\\"0.7\\\",\\\"0.75\\\",\\\"0.8\\\",\\\"0.85\\\",\\\"0.9\\\",\\\"0.95\\\",\\\"1.0\\\",\\\"1.05\\\",\\\"1.1\\\",\\\"1.15\\\",\\\"1.2\\\",\\\"1.25\\\",\\\"1.3\\\",\\\"1.35\\\",\\\"1.4\\\",\\\"1.45\\\",\\\"1.5\\\",\\\"1.55\\\",\\\"1.6\\\",\\\"1.65\\\",\\\"1.7\\\",\\\"1.75\\\",\\\"1.8\\\",\\\"1.85\\\",\\\"1.9\\\",\\\"1.95\\\",\\\"2.0\\\",\\\"2.05\\\",\\\"2.1\\\",\\\"2.15\\\",\\\"2.2\\\",\\\"2.25\\\",\\\"2.3\\\",\\\"2.35\\\",\\\"2.4\\\",\\\"2.45\\\",\\\"2.5\\\",\\\"2.55\\\",\\\"2.6\\\",\\\"2.65\\\",\\\"2.7\\\",\\\"2.75\\\",\\\"2.8\\\",\\\"2.85\\\",\\\"2.9\\\",\\\"2.95\\\",\\\"3.0\\\",\\\"3.05\\\",\\\"3.1\\\",\\\"3.15\\\",\\\"3.2\\\",\\\"3.25\\\",\\\"3.3\\\",\\\"3.35\\\",\\\"3.4\\\",\\\"3.45\\\",\\\"3.5\\\",\\\"3.55\\\",\\\"3.6\\\",\\\"3.65\\\",\\\"3.7\\\",\\\"3.75\\\",\\\"3.8\\\",\\\"3.85\\\",\\\"3.9\\\",\\\"3.95\\\",\\\"4.0\\\",\\\"4.05\\\",\\\"4.1\\\",\\\"4.15\\\",\\\"4.2\\\",\\\"4.25\\\",\\\"4.3\\\",\\\"4.35\\\",\\\"4.4\\\",\\\"4.45\\\",\\\"4.5\\\",\\\"4.55\\\",\\\"4.6\\\",\\\"4.65\\\",\\\"4.7\\\",\\\"4.75\\\",\\\"4.8\\\",\\\"4.85\\\",\\\"4.9\\\",\\\"4.95\\\",\\\"5.0\\\"],\\\"changes\\\":WebIO.getval({\\\"name\\\":\\\"changes\\\",\\\"scope\\\":\\\"1229555602250643823\\\",\\\"id\\\":\\\"16112401974018026546\\\",\\\"type\\\":\\\"observable\\\"}),\\\"index\\\":WebIO.getval({\\\"name\\\":\\\"index\\\",\\\"scope\\\":\\\"1229555602250643823\\\",\\\"id\\\":\\\"16392248473206532655\\\",\\\"type\\\":\\\"observable\\\"})};\\n    var self = this;\\n    function AppViewModel() {\\n        for (var key in json_data) {\\n            var el = json_data[key];\\n            this[key] = Array.isArray(el) ? ko.observableArray(el) : ko.observable(el);\\n        }\\n        \\n        [this[\\\"formatted_val\\\"]=ko.computed(    function(){\\n        return this.formatted_vals()[parseInt(this.index())-(1)];\\n    }\\n,this)]\\n        [this[\\\"changes\\\"].subscribe((function (val){!(this.valueFromJulia[\\\"changes\\\"]) ? (WebIO.setval({\\\"name\\\":\\\"changes\\\",\\\"scope\\\":\\\"1229555602250643823\\\",\\\"id\\\":\\\"16112401974018026546\\\",\\\"type\\\":\\\"observable\\\"},val)) : undefined; return this.valueFromJulia[\\\"changes\\\"]=false}),self),this[\\\"index\\\"].subscribe((function (val){!(this.valueFromJulia[\\\"index\\\"]) ? (WebIO.setval({\\\"name\\\":\\\"index\\\",\\\"scope\\\":\\\"1229555602250643823\\\",\\\"id\\\":\\\"16392248473206532655\\\",\\\"type\\\":\\\"observable\\\"},val)) : undefined; return this.valueFromJulia[\\\"index\\\"]=false}),self)]\\n        \\n    }\\n    self.model = new AppViewModel();\\n    self.valueFromJulia = {};\\n    for (var key in json_data) {\\n        self.valueFromJulia[key] = false;\\n    }\\n    ko.applyBindings(self.model, self.dom);\\n}\\n);\\n    (WebIO.importBlock({\\\"data\\\":[{\\\"name\\\":\\\"knockout\\\",\\\"type\\\":\\\"js\\\",\\\"url\\\":\\\"/assetserver/727383f2a47bd31570b7da84eee7b022dd6d7c78-knockout.js\\\"},{\\\"name\\\":\\\"knockout_punches\\\",\\\"type\\\":\\\"js\\\",\\\"url\\\":\\\"/assetserver/382b41b3b1bd9f26f75861d360bad7f8beea211f-knockout_punches.js\\\"}],\\\"type\\\":\\\"async_block\\\"})).then((imports) => handler.apply(this, imports));\\n}\\n\")])], Dict{Symbol, Any}(:className => \"field interact-widget\")), WebIO.Node{WebIO.DOM}(WebIO.DOM(:html, :div), Any[WebIO.Scope(WebIO.Node{WebIO.DOM}(WebIO.DOM(:html, :div), Any[WebIO.Node{WebIO.DOM}(WebIO.DOM(:html, :div), Any[WebIO.Node{WebIO.DOM}(WebIO.DOM(:html, :label), Any[\"coupl\"], Dict{Symbol, Any}(:className => \"interact \", :style => Dict{Any, Any}(:padding => \"5px 10px 0px 10px\")))], Dict{Symbol, Any}(:className => \"interact-flex-row-left\")), WebIO.Node{WebIO.DOM}(WebIO.DOM(:html, :div), Any[WebIO.Node{WebIO.DOM}(WebIO.DOM(:html, :input), Any[], Dict{Symbol, Any}(:max => 50, :min => 1, :attributes => Dict{Any, Any}(:type => \"range\", Symbol(\"data-bind\") => \"numericValue: index, valueUpdate: 'input', event: {change: function (){this.changes(this.changes()+1)}}\", \"orient\" => \"horizontal\"), :step => 1, :className => \"slider slider is-fullwidth\", :style => Dict{Any, Any}()))], Dict{Symbol, Any}(:className => \"interact-flex-row-center\")), WebIO.Node{WebIO.DOM}(WebIO.DOM(:html, :div), Any[WebIO.Node{WebIO.DOM}(WebIO.DOM(:html, :p), Any[], Dict{Symbol, Any}(:attributes => Dict(\"data-bind\" => \"text: formatted_val\")))], Dict{Symbol, Any}(:className => \"interact-flex-row-right\"))], Dict{Symbol, Any}(:className => \"interact-flex-row interact-widget\")), Dict{String, Tuple{Observables.AbstractObservable, Union{Nothing, Bool}}}(\"changes\" => (Observable(0), nothing), \"index\" => (Observable{Any}(25), nothing)), Set{String}(), nothing, WebIO.Asset[WebIO.Asset(\"js\", \"knockout\", \"/home/dushya/.julia/packages/Knockout/HReiN/src/../assets/knockout.js\"), WebIO.Asset(\"js\", \"knockout_punches\", \"/home/dushya/.julia/packages/Knockout/HReiN/src/../assets/knockout_punches.js\"), WebIO.Asset(\"js\", nothing, \"/home/dushya/.julia/packages/InteractBase/LJXv3/src/../assets/all.js\"), WebIO.Asset(\"css\", nothing, \"/home/dushya/.julia/packages/InteractBase/LJXv3/src/../assets/style.css\"), WebIO.Asset(\"css\", nothing, \"/home/dushya/.julia/packages/Interact/PENUy/src/../assets/bulma_confined.min.css\")], Dict{Any, Any}(\"changes\" => Any[WebIO.JSString(\"(function (val){return (val!=this.model[\\\"changes\\\"]()) ? (this.valueFromJulia[\\\"changes\\\"]=true, this.model[\\\"changes\\\"](val)) : undefined})\")], \"index\" => Any[WebIO.JSString(\"(function (val){return (val!=this.model[\\\"index\\\"]()) ? (this.valueFromJulia[\\\"index\\\"]=true, this.model[\\\"index\\\"](val)) : undefined})\")]), WebIO.ConnectionPool(Channel{Any}(32), Set{WebIO.AbstractConnection}(), Base.GenericCondition{ReentrantLock}(Base.IntrusiveLinkedList{Task}(Task (runnable) @0x00007fc58da56270, Task (runnable) @0x00007fc58da56270), ReentrantLock(nothing, 0x00000000, 0x00, Base.GenericCondition{Base.Threads.SpinLock}(Base.IntrusiveLinkedList{Task}(nothing, nothing), Base.Threads.SpinLock(0)), (0, 0, 141733920768)))), WebIO.JSString[WebIO.JSString(\"function () {\\n    var handler = (function (ko, koPunches) {\\n    ko.punches.enableAll();\\n    ko.bindingHandlers.numericValue = {\\n        init: function(element, valueAccessor, allBindings, data, context) {\\n            var stringified = ko.observable(ko.unwrap(valueAccessor()));\\n            stringified.subscribe(function(value) {\\n                var val = parseFloat(value);\\n                if (!isNaN(val)) {\\n                    valueAccessor()(val);\\n                }\\n            });\\n            valueAccessor().subscribe(function(value) {\\n                var str = JSON.stringify(value);\\n                if ((str == \\\"0\\\") && ([\\\"-0\\\", \\\"-0.\\\"].indexOf(stringified()) >= 0))\\n                     return;\\n                 if ([\\\"null\\\", \\\"\\\"].indexOf(str) >= 0)\\n                     return;\\n                stringified(str);\\n            });\\n            ko.applyBindingsToNode(\\n                element,\\n                {\\n                    value: stringified,\\n                    valueUpdate: allBindings.get('valueUpdate'),\\n                },\\n                context,\\n            );\\n        }\\n    };\\n    var json_data = {\\\"formatted_vals\\\":[\\\"0.01\\\",\\\"0.11\\\",\\\"0.21\\\",\\\"0.31\\\",\\\"0.41\\\",\\\"0.51\\\",\\\"0.61\\\",\\\"0.71\\\",\\\"0.81\\\",\\\"0.91\\\",\\\"1.01\\\",\\\"1.11\\\",\\\"1.21\\\",\\\"1.31\\\",\\\"1.41\\\",\\\"1.51\\\",\\\"1.61\\\",\\\"1.71\\\",\\\"1.81\\\",\\\"1.91\\\",\\\"2.01\\\",\\\"2.11\\\",\\\"2.21\\\",\\\"2.31\\\",\\\"2.41\\\",\\\"2.51\\\",\\\"2.61\\\",\\\"2.71\\\",\\\"2.81\\\",\\\"2.91\\\",\\\"3.01\\\",\\\"3.11\\\",\\\"3.21\\\",\\\"3.31\\\",\\\"3.41\\\",\\\"3.51\\\",\\\"3.61\\\",\\\"3.71\\\",\\\"3.81\\\",\\\"3.91\\\",\\\"4.01\\\",\\\"4.11\\\",\\\"4.21\\\",\\\"4.31\\\",\\\"4.41\\\",\\\"4.51\\\",\\\"4.61\\\",\\\"4.71\\\",\\\"4.81\\\",\\\"4.91\\\"],\\\"changes\\\":WebIO.getval({\\\"name\\\":\\\"changes\\\",\\\"scope\\\":\\\"7372785594314621952\\\",\\\"id\\\":\\\"13148911625440517964\\\",\\\"type\\\":\\\"observable\\\"}),\\\"index\\\":WebIO.getval({\\\"name\\\":\\\"index\\\",\\\"scope\\\":\\\"7372785594314621952\\\",\\\"id\\\":\\\"14330586059743620206\\\",\\\"type\\\":\\\"observable\\\"})};\\n    var self = this;\\n    function AppViewModel() {\\n        for (var key in json_data) {\\n            var el = json_data[key];\\n            this[key] = Array.isArray(el) ? ko.observableArray(el) : ko.observable(el);\\n        }\\n        \\n        [this[\\\"formatted_val\\\"]=ko.computed(    function(){\\n        return this.formatted_vals()[parseInt(this.index())-(1)];\\n    }\\n,this)]\\n        [this[\\\"changes\\\"].subscribe((function (val){!(this.valueFromJulia[\\\"changes\\\"]) ? (WebIO.setval({\\\"name\\\":\\\"changes\\\",\\\"scope\\\":\\\"7372785594314621952\\\",\\\"id\\\":\\\"13148911625440517964\\\",\\\"type\\\":\\\"observable\\\"},val)) : undefined; return this.valueFromJulia[\\\"changes\\\"]=false}),self),this[\\\"index\\\"].subscribe((function (val){!(this.valueFromJulia[\\\"index\\\"]) ? (WebIO.setval({\\\"name\\\":\\\"index\\\",\\\"scope\\\":\\\"7372785594314621952\\\",\\\"id\\\":\\\"14330586059743620206\\\",\\\"type\\\":\\\"observable\\\"},val)) : undefined; return this.valueFromJulia[\\\"index\\\"]=false}),self)]\\n        \\n    }\\n    self.model = new AppViewModel();\\n    self.valueFromJulia = {};\\n    for (var key in json_data) {\\n        self.valueFromJulia[key] = false;\\n    }\\n    ko.applyBindings(self.model, self.dom);\\n}\\n);\\n    (WebIO.importBlock({\\\"data\\\":[{\\\"name\\\":\\\"knockout\\\",\\\"type\\\":\\\"js\\\",\\\"url\\\":\\\"/assetserver/727383f2a47bd31570b7da84eee7b022dd6d7c78-knockout.js\\\"},{\\\"name\\\":\\\"knockout_punches\\\",\\\"type\\\":\\\"js\\\",\\\"url\\\":\\\"/assetserver/382b41b3b1bd9f26f75861d360bad7f8beea211f-knockout_punches.js\\\"}],\\\"type\\\":\\\"async_block\\\"})).then((imports) => handler.apply(this, imports));\\n}\\n\")])], Dict{Symbol, Any}(:className => \"field interact-widget\"))], Dict{Symbol, Any}(:style => Dict(\"display\" => \"flex\", \"flex-direction\" => \"column\"))), WebIO.Node{WebIO.DOM}(WebIO.DOM(:html, :div), Any[WebIO.Node{WebIO.DOM}(WebIO.DOM(:html, :div), Any[WebIO.Scope(WebIO.Node{WebIO.DOM}(WebIO.DOM(:html, :div), Any[], Dict{Symbol, Any}(:id => \"container\")), Dict{String, Tuple{Observables.AbstractObservable, Union{Nothing, Bool}}}(\"value\" => (Observable(\"\\\\;\\\\;\"), nothing)), Set{String}(), nothing, WebIO.Asset[WebIO.Asset(\"js\", nothing, \"/home/dushya/.julia/packages/InteractBase/LJXv3/src/../assets/katex.min.js\"), WebIO.Asset(\"css\", nothing, \"/home/dushya/.julia/packages/InteractBase/LJXv3/src/../assets/katex.min.css\")], Dict{Any, Any}(\"value\" => Any[WebIO.JSString(\"(function (txt){return this.k.render(txt,this.container)})\")]), WebIO.ConnectionPool(Channel{Any}(32), Set{WebIO.AbstractConnection}(), Base.GenericCondition{ReentrantLock}(Base.IntrusiveLinkedList{Task}(Task (runnable) @0x00007fc5bf3a0330, Task (runnable) @0x00007fc5bf3a0330), ReentrantLock(nothing, 0x00000000, 0x00, Base.GenericCondition{Base.Threads.SpinLock}(Base.IntrusiveLinkedList{Task}(nothing, nothing), Base.Threads.SpinLock(0)), (1, 140487337964592, 139779710648320)))), WebIO.JSString[WebIO.JSString(\"function () {\\n    var handler = ((function (k){this.k=k; this.container=this.dom.querySelector(\\\"#container\\\"); return k.render(\\\"\\\\\\\\;\\\\\\\\;\\\",this.container)}));\\n    (WebIO.importBlock({\\\"data\\\":[{\\\"name\\\":null,\\\"type\\\":\\\"js\\\",\\\"url\\\":\\\"/assetserver/dd22ed1bf1896c2748f3fe616ce0b838adc895c1-katex.min.js\\\"},{\\\"name\\\":null,\\\"type\\\":\\\"css\\\",\\\"url\\\":\\\"/assetserver/46517a424aa5e6cffc1360d7e0848b601c584ee3-katex.min.css\\\"}],\\\"type\\\":\\\"async_block\\\"})).then((imports) => handler.apply(this, imports));\\n}\\n\")])], Dict{Symbol, Any}(:className => \"interact-widget\")), WebIO.Node{WebIO.DOM}(WebIO.DOM(:html, :div), Any[WebIO.Scope(WebIO.Node{WebIO.DOM}(WebIO.DOM(:html, :button), Any[\"run\"], Dict{Symbol, Any}(:attributes => Dict{Any, Any}(\"data-bind\" => \"click: function (){this.clicks(this.clicks()+1)}, css: {'is-loading' : loading}\"), :className => \"is-medium button is-primary\", :style => Dict{String, Any}())), Dict{String, Tuple{Observables.AbstractObservable, Union{Nothing, Bool}}}(\"loading\" => (Observable(false), nothing), \"clicks\" => (Observable(0), nothing)), Set{String}(), nothing, WebIO.Asset[WebIO.Asset(\"js\", \"knockout\", \"/home/dushya/.julia/packages/Knockout/HReiN/src/../assets/knockout.js\"), WebIO.Asset(\"js\", \"knockout_punches\", \"/home/dushya/.julia/packages/Knockout/HReiN/src/../assets/knockout_punches.js\"), WebIO.Asset(\"js\", nothing, \"/home/dushya/.julia/packages/InteractBase/LJXv3/src/../assets/all.js\"), WebIO.Asset(\"css\", nothing, \"/home/dushya/.julia/packages/InteractBase/LJXv3/src/../assets/style.css\"), WebIO.Asset(\"css\", nothing, \"/home/dushya/.julia/packages/Interact/PENUy/src/../assets/bulma_confined.min.css\")], Dict{Any, Any}(\"loading\" => Any[WebIO.JSString(\"(function (val){return (val!=this.model[\\\"loading\\\"]()) ? (this.valueFromJulia[\\\"loading\\\"]=true, this.model[\\\"loading\\\"](val)) : undefined})\")], \"clicks\" => Any[WebIO.JSString(\"(function (val){return (val!=this.model[\\\"clicks\\\"]()) ? (this.valueFromJulia[\\\"clicks\\\"]=true, this.model[\\\"clicks\\\"](val)) : undefined})\")]), WebIO.ConnectionPool(Channel{Any}(32), Set{WebIO.AbstractConnection}(), Base.GenericCondition{ReentrantLock}(Base.IntrusiveLinkedList{Task}(Task (runnable) @0x00007fc58da08b00, Task (runnable) @0x00007fc58da08b00), ReentrantLock(nothing, 0x00000000, 0x00, Base.GenericCondition{Base.Threads.SpinLock}(Base.IntrusiveLinkedList{Task}(nothing, nothing), Base.Threads.SpinLock(0)), (0, 0, 139779710648320)))), WebIO.JSString[WebIO.JSString(\"function () {\\n    var handler = (function (ko, koPunches) {\\n    ko.punches.enableAll();\\n    ko.bindingHandlers.numericValue = {\\n        init: function(element, valueAccessor, allBindings, data, context) {\\n            var stringified = ko.observable(ko.unwrap(valueAccessor()));\\n            stringified.subscribe(function(value) {\\n                var val = parseFloat(value);\\n                if (!isNaN(val)) {\\n                    valueAccessor()(val);\\n                }\\n            });\\n            valueAccessor().subscribe(function(value) {\\n                var str = JSON.stringify(value);\\n                if ((str == \\\"0\\\") && ([\\\"-0\\\", \\\"-0.\\\"].indexOf(stringified()) >= 0))\\n                     return;\\n                 if ([\\\"null\\\", \\\"\\\"].indexOf(str) >= 0)\\n                     return;\\n                stringified(str);\\n            });\\n            ko.applyBindingsToNode(\\n                element,\\n                {\\n                    value: stringified,\\n                    valueUpdate: allBindings.get('valueUpdate'),\\n                },\\n                context,\\n            );\\n        }\\n    };\\n    var json_data = {\\\"loading\\\":WebIO.getval({\\\"name\\\":\\\"loading\\\",\\\"scope\\\":\\\"5915862496329956055\\\",\\\"id\\\":\\\"12000050131230836868\\\",\\\"type\\\":\\\"observable\\\"}),\\\"clicks\\\":WebIO.getval({\\\"name\\\":\\\"clicks\\\",\\\"scope\\\":\\\"5915862496329956055\\\",\\\"id\\\":\\\"4574351964393637256\\\",\\\"type\\\":\\\"observable\\\"})};\\n    var self = this;\\n    function AppViewModel() {\\n        for (var key in json_data) {\\n            var el = json_data[key];\\n            this[key] = Array.isArray(el) ? ko.observableArray(el) : ko.observable(el);\\n        }\\n        \\n        \\n        [this[\\\"loading\\\"].subscribe((function (val){!(this.valueFromJulia[\\\"loading\\\"]) ? (WebIO.setval({\\\"name\\\":\\\"loading\\\",\\\"scope\\\":\\\"5915862496329956055\\\",\\\"id\\\":\\\"12000050131230836868\\\",\\\"type\\\":\\\"observable\\\"},val)) : undefined; return this.valueFromJulia[\\\"loading\\\"]=false}),self),this[\\\"clicks\\\"].subscribe((function (val){!(this.valueFromJulia[\\\"clicks\\\"]) ? (WebIO.setval({\\\"name\\\":\\\"clicks\\\",\\\"scope\\\":\\\"5915862496329956055\\\",\\\"id\\\":\\\"4574351964393637256\\\",\\\"type\\\":\\\"observable\\\"},val)) : undefined; return this.valueFromJulia[\\\"clicks\\\"]=false}),self)]\\n        \\n    }\\n    self.model = new AppViewModel();\\n    self.valueFromJulia = {};\\n    for (var key in json_data) {\\n        self.valueFromJulia[key] = false;\\n    }\\n    ko.applyBindings(self.model, self.dom);\\n}\\n);\\n    (WebIO.importBlock({\\\"data\\\":[{\\\"name\\\":\\\"knockout\\\",\\\"type\\\":\\\"js\\\",\\\"url\\\":\\\"/assetserver/727383f2a47bd31570b7da84eee7b022dd6d7c78-knockout.js\\\"},{\\\"name\\\":\\\"knockout_punches\\\",\\\"type\\\":\\\"js\\\",\\\"url\\\":\\\"/assetserver/382b41b3b1bd9f26f75861d360bad7f8beea211f-knockout_punches.js\\\"}],\\\"type\\\":\\\"async_block\\\"})).then((imports) => handler.apply(this, imports));\\n}\\n\")])], Dict{Symbol, Any}(:className => \"field interact-widget\")), WebIO.Node{WebIO.DOM}(WebIO.DOM(:html, :div), Any[WebIO.Scope(WebIO.Node{WebIO.DOM}(WebIO.DOM(:html, :div), Any[], Dict{Symbol, Any}(:id => \"container\")), Dict{String, Tuple{Observables.AbstractObservable, Union{Nothing, Bool}}}(\"value\" => (Observable(\"\\\\;\\\\;\"), nothing)), Set{String}(), nothing, WebIO.Asset[WebIO.Asset(\"js\", nothing, \"/home/dushya/.julia/packages/InteractBase/LJXv3/src/../assets/katex.min.js\"), WebIO.Asset(\"css\", nothing, \"/home/dushya/.julia/packages/InteractBase/LJXv3/src/../assets/katex.min.css\")], Dict{Any, Any}(\"value\" => Any[WebIO.JSString(\"(function (txt){return this.k.render(txt,this.container)})\")]), WebIO.ConnectionPool(Channel{Any}(32), Set{WebIO.AbstractConnection}(), Base.GenericCondition{ReentrantLock}(Base.IntrusiveLinkedList{Task}(Task (runnable) @0x00007fc5bf3a0330, Task (runnable) @0x00007fc5bf3a0330), ReentrantLock(nothing, 0x00000000, 0x00, Base.GenericCondition{Base.Threads.SpinLock}(Base.IntrusiveLinkedList{Task}(nothing, nothing), Base.Threads.SpinLock(0)), (1, 140487337964592, 139779710648320)))), WebIO.JSString[WebIO.JSString(\"function () {\\n    var handler = ((function (k){this.k=k; this.container=this.dom.querySelector(\\\"#container\\\"); return k.render(\\\"\\\\\\\\;\\\\\\\\;\\\",this.container)}));\\n    (WebIO.importBlock({\\\"data\\\":[{\\\"name\\\":null,\\\"type\\\":\\\"js\\\",\\\"url\\\":\\\"/assetserver/dd22ed1bf1896c2748f3fe616ce0b838adc895c1-katex.min.js\\\"},{\\\"name\\\":null,\\\"type\\\":\\\"css\\\",\\\"url\\\":\\\"/assetserver/46517a424aa5e6cffc1360d7e0848b601c584ee3-katex.min.css\\\"}],\\\"type\\\":\\\"async_block\\\"})).then((imports) => handler.apply(this, imports));\\n}\\n\")])], Dict{Symbol, Any}(:className => \"interact-widget\")), WebIO.Node{WebIO.DOM}(WebIO.DOM(:html, :div), Any[WebIO.Scope(WebIO.Node{WebIO.DOM}(WebIO.DOM(:html, :button), Any[\"stop\"], Dict{Symbol, Any}(:attributes => Dict{Any, Any}(\"data-bind\" => \"click: function (){this.clicks(this.clicks()+1)}, css: {'is-loading' : loading}\"), :className => \"is-medium button is-primary\", :style => Dict{String, Any}())), Dict{String, Tuple{Observables.AbstractObservable, Union{Nothing, Bool}}}(\"loading\" => (Observable(false), nothing), \"clicks\" => (Observable(0), nothing)), Set{String}(), nothing, WebIO.Asset[WebIO.Asset(\"js\", \"knockout\", \"/home/dushya/.julia/packages/Knockout/HReiN/src/../assets/knockout.js\"), WebIO.Asset(\"js\", \"knockout_punches\", \"/home/dushya/.julia/packages/Knockout/HReiN/src/../assets/knockout_punches.js\"), WebIO.Asset(\"js\", nothing, \"/home/dushya/.julia/packages/InteractBase/LJXv3/src/../assets/all.js\"), WebIO.Asset(\"css\", nothing, \"/home/dushya/.julia/packages/InteractBase/LJXv3/src/../assets/style.css\"), WebIO.Asset(\"css\", nothing, \"/home/dushya/.julia/packages/Interact/PENUy/src/../assets/bulma_confined.min.css\")], Dict{Any, Any}(\"loading\" => Any[WebIO.JSString(\"(function (val){return (val!=this.model[\\\"loading\\\"]()) ? (this.valueFromJulia[\\\"loading\\\"]=true, this.model[\\\"loading\\\"](val)) : undefined})\")], \"clicks\" => Any[WebIO.JSString(\"(function (val){return (val!=this.model[\\\"clicks\\\"]()) ? (this.valueFromJulia[\\\"clicks\\\"]=true, this.model[\\\"clicks\\\"](val)) : undefined})\")]), WebIO.ConnectionPool(Channel{Any}(32), Set{WebIO.AbstractConnection}(), Base.GenericCondition{ReentrantLock}(Base.IntrusiveLinkedList{Task}(Task (runnable) @0x00007fc58da0b210, Task (runnable) @0x00007fc58da0b210), ReentrantLock(nothing, 0x00000000, 0x00, Base.GenericCondition{Base.Threads.SpinLock}(Base.IntrusiveLinkedList{Task}(nothing, nothing), Base.Threads.SpinLock(0)), (2, 140486483685360, 140487117487040)))), WebIO.JSString[WebIO.JSString(\"function () {\\n    var handler = (function (ko, koPunches) {\\n    ko.punches.enableAll();\\n    ko.bindingHandlers.numericValue = {\\n        init: function(element, valueAccessor, allBindings, data, context) {\\n            var stringified = ko.observable(ko.unwrap(valueAccessor()));\\n            stringified.subscribe(function(value) {\\n                var val = parseFloat(value);\\n                if (!isNaN(val)) {\\n                    valueAccessor()(val);\\n                }\\n            });\\n            valueAccessor().subscribe(function(value) {\\n                var str = JSON.stringify(value);\\n                if ((str == \\\"0\\\") && ([\\\"-0\\\", \\\"-0.\\\"].indexOf(stringified()) >= 0))\\n                     return;\\n                 if ([\\\"null\\\", \\\"\\\"].indexOf(str) >= 0)\\n                     return;\\n                stringified(str);\\n            });\\n            ko.applyBindingsToNode(\\n                element,\\n                {\\n                    value: stringified,\\n                    valueUpdate: allBindings.get('valueUpdate'),\\n                },\\n                context,\\n            );\\n        }\\n    };\\n    var json_data = {\\\"loading\\\":WebIO.getval({\\\"name\\\":\\\"loading\\\",\\\"scope\\\":\\\"12815284471179682428\\\",\\\"id\\\":\\\"15101093252118307875\\\",\\\"type\\\":\\\"observable\\\"}),\\\"clicks\\\":WebIO.getval({\\\"name\\\":\\\"clicks\\\",\\\"scope\\\":\\\"12815284471179682428\\\",\\\"id\\\":\\\"1750690156012732256\\\",\\\"type\\\":\\\"observable\\\"})};\\n    var self = this;\\n    function AppViewModel() {\\n        for (var key in json_data) {\\n            var el = json_data[key];\\n            this[key] = Array.isArray(el) ? ko.observableArray(el) : ko.observable(el);\\n        }\\n        \\n        \\n        [this[\\\"loading\\\"].subscribe((function (val){!(this.valueFromJulia[\\\"loading\\\"]) ? (WebIO.setval({\\\"name\\\":\\\"loading\\\",\\\"scope\\\":\\\"12815284471179682428\\\",\\\"id\\\":\\\"15101093252118307875\\\",\\\"type\\\":\\\"observable\\\"},val)) : undefined; return this.valueFromJulia[\\\"loading\\\"]=false}),self),this[\\\"clicks\\\"].subscribe((function (val){!(this.valueFromJulia[\\\"clicks\\\"]) ? (WebIO.setval({\\\"name\\\":\\\"clicks\\\",\\\"scope\\\":\\\"12815284471179682428\\\",\\\"id\\\":\\\"1750690156012732256\\\",\\\"type\\\":\\\"observable\\\"},val)) : undefined; return this.valueFromJulia[\\\"clicks\\\"]=false}),self)]\\n        \\n    }\\n    self.model = new AppViewModel();\\n    self.valueFromJulia = {};\\n    for (var key in json_data) {\\n        self.valueFromJulia[key] = false;\\n    }\\n    ko.applyBindings(self.model, self.dom);\\n}\\n);\\n    (WebIO.importBlock({\\\"data\\\":[{\\\"name\\\":\\\"knockout\\\",\\\"type\\\":\\\"js\\\",\\\"url\\\":\\\"/assetserver/727383f2a47bd31570b7da84eee7b022dd6d7c78-knockout.js\\\"},{\\\"name\\\":\\\"knockout_punches\\\",\\\"type\\\":\\\"js\\\",\\\"url\\\":\\\"/assetserver/382b41b3b1bd9f26f75861d360bad7f8beea211f-knockout_punches.js\\\"}],\\\"type\\\":\\\"async_block\\\"})).then((imports) => handler.apply(this, imports));\\n}\\n\")])], Dict{Symbol, Any}(:className => \"field interact-widget\")), WebIO.Node{WebIO.DOM}(WebIO.DOM(:html, :div), Any[WebIO.Scope(WebIO.Node{WebIO.DOM}(WebIO.DOM(:html, :div), Any[], Dict{Symbol, Any}(:id => \"container\")), Dict{String, Tuple{Observables.AbstractObservable, Union{Nothing, Bool}}}(\"value\" => (Observable(\"\\\\;\\\\;\"), nothing)), Set{String}(), nothing, WebIO.Asset[WebIO.Asset(\"js\", nothing, \"/home/dushya/.julia/packages/InteractBase/LJXv3/src/../assets/katex.min.js\"), WebIO.Asset(\"css\", nothing, \"/home/dushya/.julia/packages/InteractBase/LJXv3/src/../assets/katex.min.css\")], Dict{Any, Any}(\"value\" => Any[WebIO.JSString(\"(function (txt){return this.k.render(txt,this.container)})\")]), WebIO.ConnectionPool(Channel{Any}(32), Set{WebIO.AbstractConnection}(), Base.GenericCondition{ReentrantLock}(Base.IntrusiveLinkedList{Task}(Task (runnable) @0x00007fc5bf3a0330, Task (runnable) @0x00007fc5bf3a0330), ReentrantLock(nothing, 0x00000000, 0x00, Base.GenericCondition{Base.Threads.SpinLock}(Base.IntrusiveLinkedList{Task}(nothing, nothing), Base.Threads.SpinLock(0)), (1, 140487337964592, 139779710648320)))), WebIO.JSString[WebIO.JSString(\"function () {\\n    var handler = ((function (k){this.k=k; this.container=this.dom.querySelector(\\\"#container\\\"); return k.render(\\\"\\\\\\\\;\\\\\\\\;\\\",this.container)}));\\n    (WebIO.importBlock({\\\"data\\\":[{\\\"name\\\":null,\\\"type\\\":\\\"js\\\",\\\"url\\\":\\\"/assetserver/dd22ed1bf1896c2748f3fe616ce0b838adc895c1-katex.min.js\\\"},{\\\"name\\\":null,\\\"type\\\":\\\"css\\\",\\\"url\\\":\\\"/assetserver/46517a424aa5e6cffc1360d7e0848b601c584ee3-katex.min.css\\\"}],\\\"type\\\":\\\"async_block\\\"})).then((imports) => handler.apply(this, imports));\\n}\\n\")])], Dict{Symbol, Any}(:className => \"interact-widget\")), WebIO.Node{WebIO.DOM}(WebIO.DOM(:html, :div), Any[WebIO.Scope(WebIO.Node{WebIO.DOM}(WebIO.DOM(:html, :button), Any[\"reset\"], Dict{Symbol, Any}(:attributes => Dict{Any, Any}(\"data-bind\" => \"click: function (){this.clicks(this.clicks()+1)}, css: {'is-loading' : loading}\"), :className => \"is-medium button is-primary\", :style => Dict{String, Any}())), Dict{String, Tuple{Observables.AbstractObservable, Union{Nothing, Bool}}}(\"loading\" => (Observable(false), nothing), \"clicks\" => (Observable(0), nothing)), Set{String}(), nothing, WebIO.Asset[WebIO.Asset(\"js\", \"knockout\", \"/home/dushya/.julia/packages/Knockout/HReiN/src/../assets/knockout.js\"), WebIO.Asset(\"js\", \"knockout_punches\", \"/home/dushya/.julia/packages/Knockout/HReiN/src/../assets/knockout_punches.js\"), WebIO.Asset(\"js\", nothing, \"/home/dushya/.julia/packages/InteractBase/LJXv3/src/../assets/all.js\"), WebIO.Asset(\"css\", nothing, \"/home/dushya/.julia/packages/InteractBase/LJXv3/src/../assets/style.css\"), WebIO.Asset(\"css\", nothing, \"/home/dushya/.julia/packages/Interact/PENUy/src/../assets/bulma_confined.min.css\")], Dict{Any, Any}(\"loading\" => Any[WebIO.JSString(\"(function (val){return (val!=this.model[\\\"loading\\\"]()) ? (this.valueFromJulia[\\\"loading\\\"]=true, this.model[\\\"loading\\\"](val)) : undefined})\")], \"clicks\" => Any[WebIO.JSString(\"(function (val){return (val!=this.model[\\\"clicks\\\"]()) ? (this.valueFromJulia[\\\"clicks\\\"]=true, this.model[\\\"clicks\\\"](val)) : undefined})\")]), WebIO.ConnectionPool(Channel{Any}(32), Set{WebIO.AbstractConnection}(), Base.GenericCondition{ReentrantLock}(Base.IntrusiveLinkedList{Task}(Task (runnable) @0x00007fc58d919aa0, Task (runnable) @0x00007fc58d919aa0), ReentrantLock(nothing, 0x00000000, 0x00, Base.GenericCondition{Base.Threads.SpinLock}(Base.IntrusiveLinkedList{Task}(nothing, nothing), Base.Threads.SpinLock(0)), (0, 0, 139779710648320)))), WebIO.JSString[WebIO.JSString(\"function () {\\n    var handler = (function (ko, koPunches) {\\n    ko.punches.enableAll();\\n    ko.bindingHandlers.numericValue = {\\n        init: function(element, valueAccessor, allBindings, data, context) {\\n            var stringified = ko.observable(ko.unwrap(valueAccessor()));\\n            stringified.subscribe(function(value) {\\n                var val = parseFloat(value);\\n                if (!isNaN(val)) {\\n                    valueAccessor()(val);\\n                }\\n            });\\n            valueAccessor().subscribe(function(value) {\\n                var str = JSON.stringify(value);\\n                if ((str == \\\"0\\\") && ([\\\"-0\\\", \\\"-0.\\\"].indexOf(stringified()) >= 0))\\n                     return;\\n                 if ([\\\"null\\\", \\\"\\\"].indexOf(str) >= 0)\\n                     return;\\n                stringified(str);\\n            });\\n            ko.applyBindingsToNode(\\n                element,\\n                {\\n                    value: stringified,\\n                    valueUpdate: allBindings.get('valueUpdate'),\\n                },\\n                context,\\n            );\\n        }\\n    };\\n    var json_data = {\\\"loading\\\":WebIO.getval({\\\"name\\\":\\\"loading\\\",\\\"scope\\\":\\\"11169250694593977229\\\",\\\"id\\\":\\\"14817254389699593733\\\",\\\"type\\\":\\\"observable\\\"}),\\\"clicks\\\":WebIO.getval({\\\"name\\\":\\\"clicks\\\",\\\"scope\\\":\\\"11169250694593977229\\\",\\\"id\\\":\\\"1558280549538366095\\\",\\\"type\\\":\\\"observable\\\"})};\\n    var self = this;\\n    function AppViewModel() {\\n        for (var key in json_data) {\\n            var el = json_data[key];\\n            this[key] = Array.isArray(el) ? ko.observableArray(el) : ko.observable(el);\\n        }\\n        \\n        \\n        [this[\\\"loading\\\"].subscribe((function (val){!(this.valueFromJulia[\\\"loading\\\"]) ? (WebIO.setval({\\\"name\\\":\\\"loading\\\",\\\"scope\\\":\\\"11169250694593977229\\\",\\\"id\\\":\\\"14817254389699593733\\\",\\\"type\\\":\\\"observable\\\"},val)) : undefined; return this.valueFromJulia[\\\"loading\\\"]=false}),self),this[\\\"clicks\\\"].subscribe((function (val){!(this.valueFromJulia[\\\"clicks\\\"]) ? (WebIO.setval({\\\"name\\\":\\\"clicks\\\",\\\"scope\\\":\\\"11169250694593977229\\\",\\\"id\\\":\\\"1558280549538366095\\\",\\\"type\\\":\\\"observable\\\"},val)) : undefined; return this.valueFromJulia[\\\"clicks\\\"]=false}),self)]\\n        \\n    }\\n    self.model = new AppViewModel();\\n    self.valueFromJulia = {};\\n    for (var key in json_data) {\\n        self.valueFromJulia[key] = false;\\n    }\\n    ko.applyBindings(self.model, self.dom);\\n}\\n);\\n    (WebIO.importBlock({\\\"data\\\":[{\\\"name\\\":\\\"knockout\\\",\\\"type\\\":\\\"js\\\",\\\"url\\\":\\\"/assetserver/727383f2a47bd31570b7da84eee7b022dd6d7c78-knockout.js\\\"},{\\\"name\\\":\\\"knockout_punches\\\",\\\"type\\\":\\\"js\\\",\\\"url\\\":\\\"/assetserver/382b41b3b1bd9f26f75861d360bad7f8beea211f-knockout_punches.js\\\"}],\\\"type\\\":\\\"async_block\\\"})).then((imports) => handler.apply(this, imports));\\n}\\n\")])], Dict{Symbol, Any}(:className => \"field interact-widget\")), WebIO.Node{WebIO.DOM}(WebIO.DOM(:html, :div), Any[WebIO.Scope(WebIO.Node{WebIO.DOM}(WebIO.DOM(:html, :div), Any[], Dict{Symbol, Any}(:id => \"container\")), Dict{String, Tuple{Observables.AbstractObservable, Union{Nothing, Bool}}}(\"value\" => (Observable(\"\\\\;\\\\;\"), nothing)), Set{String}(), nothing, WebIO.Asset[WebIO.Asset(\"js\", nothing, \"/home/dushya/.julia/packages/InteractBase/LJXv3/src/../assets/katex.min.js\"), WebIO.Asset(\"css\", nothing, \"/home/dushya/.julia/packages/InteractBase/LJXv3/src/../assets/katex.min.css\")], Dict{Any, Any}(\"value\" => Any[WebIO.JSString(\"(function (txt){return this.k.render(txt,this.container)})\")]), WebIO.ConnectionPool(Channel{Any}(32), Set{WebIO.AbstractConnection}(), Base.GenericCondition{ReentrantLock}(Base.IntrusiveLinkedList{Task}(Task (runnable) @0x00007fc5bf3a0330, Task (runnable) @0x00007fc5bf3a0330), ReentrantLock(nothing, 0x00000000, 0x00, Base.GenericCondition{Base.Threads.SpinLock}(Base.IntrusiveLinkedList{Task}(nothing, nothing), Base.Threads.SpinLock(0)), (1, 140487337964592, 139779710648320)))), WebIO.JSString[WebIO.JSString(\"function () {\\n    var handler = ((function (k){this.k=k; this.container=this.dom.querySelector(\\\"#container\\\"); return k.render(\\\"\\\\\\\\;\\\\\\\\;\\\",this.container)}));\\n    (WebIO.importBlock({\\\"data\\\":[{\\\"name\\\":null,\\\"type\\\":\\\"js\\\",\\\"url\\\":\\\"/assetserver/dd22ed1bf1896c2748f3fe616ce0b838adc895c1-katex.min.js\\\"},{\\\"name\\\":null,\\\"type\\\":\\\"css\\\",\\\"url\\\":\\\"/assetserver/46517a424aa5e6cffc1360d7e0848b601c584ee3-katex.min.css\\\"}],\\\"type\\\":\\\"async_block\\\"})).then((imports) => handler.apply(this, imports));\\n}\\n\")])], Dict{Symbol, Any}(:className => \"interact-widget\")), WebIO.Node{WebIO.DOM}(WebIO.DOM(:html, :div), Any[WebIO.Scope(WebIO.Node{WebIO.DOM}(WebIO.DOM(:html, :button), Any[\"save\"], Dict{Symbol, Any}(:attributes => Dict{Any, Any}(\"data-bind\" => \"click: function (){this.clicks(this.clicks()+1)}, css: {'is-loading' : loading}\"), :className => \"is-medium button is-primary\", :style => Dict{String, Any}())), Dict{String, Tuple{Observables.AbstractObservable, Union{Nothing, Bool}}}(\"loading\" => (Observable(false), nothing), \"clicks\" => (Observable(0), nothing)), Set{String}(), nothing, WebIO.Asset[WebIO.Asset(\"js\", \"knockout\", \"/home/dushya/.julia/packages/Knockout/HReiN/src/../assets/knockout.js\"), WebIO.Asset(\"js\", \"knockout_punches\", \"/home/dushya/.julia/packages/Knockout/HReiN/src/../assets/knockout_punches.js\"), WebIO.Asset(\"js\", nothing, \"/home/dushya/.julia/packages/InteractBase/LJXv3/src/../assets/all.js\"), WebIO.Asset(\"css\", nothing, \"/home/dushya/.julia/packages/InteractBase/LJXv3/src/../assets/style.css\"), WebIO.Asset(\"css\", nothing, \"/home/dushya/.julia/packages/Interact/PENUy/src/../assets/bulma_confined.min.css\")], Dict{Any, Any}(\"loading\" => Any[WebIO.JSString(\"(function (val){return (val!=this.model[\\\"loading\\\"]()) ? (this.valueFromJulia[\\\"loading\\\"]=true, this.model[\\\"loading\\\"](val)) : undefined})\")], \"clicks\" => Any[WebIO.JSString(\"(function (val){return (val!=this.model[\\\"clicks\\\"]()) ? (this.valueFromJulia[\\\"clicks\\\"]=true, this.model[\\\"clicks\\\"](val)) : undefined})\")]), WebIO.ConnectionPool(Channel{Any}(32), Set{WebIO.AbstractConnection}(), Base.GenericCondition{ReentrantLock}(Base.IntrusiveLinkedList{Task}(Task (runnable) @0x00007fc58d848330, Task (runnable) @0x00007fc58d848330), ReentrantLock(nothing, 0x00000000, 0x00, Base.GenericCondition{Base.Threads.SpinLock}(Base.IntrusiveLinkedList{Task}(nothing, nothing), Base.Threads.SpinLock(0)), (2, 140487160138192, 140487293584464)))), WebIO.JSString[WebIO.JSString(\"function () {\\n    var handler = (function (ko, koPunches) {\\n    ko.punches.enableAll();\\n    ko.bindingHandlers.numericValue = {\\n        init: function(element, valueAccessor, allBindings, data, context) {\\n            var stringified = ko.observable(ko.unwrap(valueAccessor()));\\n            stringified.subscribe(function(value) {\\n                var val = parseFloat(value);\\n                if (!isNaN(val)) {\\n                    valueAccessor()(val);\\n                }\\n            });\\n            valueAccessor().subscribe(function(value) {\\n                var str = JSON.stringify(value);\\n                if ((str == \\\"0\\\") && ([\\\"-0\\\", \\\"-0.\\\"].indexOf(stringified()) >= 0))\\n                     return;\\n                 if ([\\\"null\\\", \\\"\\\"].indexOf(str) >= 0)\\n                     return;\\n                stringified(str);\\n            });\\n            ko.applyBindingsToNode(\\n                element,\\n                {\\n                    value: stringified,\\n                    valueUpdate: allBindings.get('valueUpdate'),\\n                },\\n                context,\\n            );\\n        }\\n    };\\n    var json_data = {\\\"loading\\\":WebIO.getval({\\\"name\\\":\\\"loading\\\",\\\"scope\\\":\\\"14956355394701390650\\\",\\\"id\\\":\\\"12573315406661468018\\\",\\\"type\\\":\\\"observable\\\"}),\\\"clicks\\\":WebIO.getval({\\\"name\\\":\\\"clicks\\\",\\\"scope\\\":\\\"14956355394701390650\\\",\\\"id\\\":\\\"366269896328017512\\\",\\\"type\\\":\\\"observable\\\"})};\\n    var self = this;\\n    function AppViewModel() {\\n        for (var key in json_data) {\\n            var el = json_data[key];\\n            this[key] = Array.isArray(el) ? ko.observableArray(el) : ko.observable(el);\\n        }\\n        \\n        \\n        [this[\\\"loading\\\"].subscribe((function (val){!(this.valueFromJulia[\\\"loading\\\"]) ? (WebIO.setval({\\\"name\\\":\\\"loading\\\",\\\"scope\\\":\\\"14956355394701390650\\\",\\\"id\\\":\\\"12573315406661468018\\\",\\\"type\\\":\\\"observable\\\"},val)) : undefined; return this.valueFromJulia[\\\"loading\\\"]=false}),self),this[\\\"clicks\\\"].subscribe((function (val){!(this.valueFromJulia[\\\"clicks\\\"]) ? (WebIO.setval({\\\"name\\\":\\\"clicks\\\",\\\"scope\\\":\\\"14956355394701390650\\\",\\\"id\\\":\\\"366269896328017512\\\",\\\"type\\\":\\\"observable\\\"},val)) : undefined; return this.valueFromJulia[\\\"clicks\\\"]=false}),self)]\\n        \\n    }\\n    self.model = new AppViewModel();\\n    self.valueFromJulia = {};\\n    for (var key in json_data) {\\n        self.valueFromJulia[key] = false;\\n    }\\n    ko.applyBindings(self.model, self.dom);\\n}\\n);\\n    (WebIO.importBlock({\\\"data\\\":[{\\\"name\\\":\\\"knockout\\\",\\\"type\\\":\\\"js\\\",\\\"url\\\":\\\"/assetserver/727383f2a47bd31570b7da84eee7b022dd6d7c78-knockout.js\\\"},{\\\"name\\\":\\\"knockout_punches\\\",\\\"type\\\":\\\"js\\\",\\\"url\\\":\\\"/assetserver/382b41b3b1bd9f26f75861d360bad7f8beea211f-knockout_punches.js\\\"}],\\\"type\\\":\\\"async_block\\\"})).then((imports) => handler.apply(this, imports));\\n}\\n\")])], Dict{Symbol, Any}(:className => \"field interact-widget\"))], Dict{Symbol, Any}(:style => Dict(\"display\" => \"flex\", \"flex-direction\" => \"row\")))], Dict{Symbol, Any}(:style => Dict(\"display\" => \"flex\", \"flex-direction\" => \"column\"))), WebIO.Node{WebIO.DOM}(WebIO.DOM(:html, :div), Any[WebIO.Scope(WebIO.Node{WebIO.DOM}(WebIO.DOM(:html, :div), Any[], Dict{Symbol, Any}(:id => \"container\")), Dict{String, Tuple{Observables.AbstractObservable, Union{Nothing, Bool}}}(\"value\" => (Observable(\"\\\\;\\\\;\"), nothing)), Set{String}(), nothing, WebIO.Asset[WebIO.Asset(\"js\", nothing, \"/home/dushya/.julia/packages/InteractBase/LJXv3/src/../assets/katex.min.js\"), WebIO.Asset(\"css\", nothing, \"/home/dushya/.julia/packages/InteractBase/LJXv3/src/../assets/katex.min.css\")], Dict{Any, Any}(\"value\" => Any[WebIO.JSString(\"(function (txt){return this.k.render(txt,this.container)})\")]), WebIO.ConnectionPool(Channel{Any}(32), Set{WebIO.AbstractConnection}(), Base.GenericCondition{ReentrantLock}(Base.IntrusiveLinkedList{Task}(Task (runnable) @0x00007fc5bf3a0330, Task (runnable) @0x00007fc5bf3a0330), ReentrantLock(nothing, 0x00000000, 0x00, Base.GenericCondition{Base.Threads.SpinLock}(Base.IntrusiveLinkedList{Task}(nothing, nothing), Base.Threads.SpinLock(0)), (1, 140487337964592, 139779710648320)))), WebIO.JSString[WebIO.JSString(\"function () {\\n    var handler = ((function (k){this.k=k; this.container=this.dom.querySelector(\\\"#container\\\"); return k.render(\\\"\\\\\\\\;\\\\\\\\;\\\",this.container)}));\\n    (WebIO.importBlock({\\\"data\\\":[{\\\"name\\\":null,\\\"type\\\":\\\"js\\\",\\\"url\\\":\\\"/assetserver/dd22ed1bf1896c2748f3fe616ce0b838adc895c1-katex.min.js\\\"},{\\\"name\\\":null,\\\"type\\\":\\\"css\\\",\\\"url\\\":\\\"/assetserver/46517a424aa5e6cffc1360d7e0848b601c584ee3-katex.min.css\\\"}],\\\"type\\\":\\\"async_block\\\"})).then((imports) => handler.apply(this, imports));\\n}\\n\")])], Dict{Symbol, Any}(:className => \"interact-widget\")), Observable(Luxor.Drawing(430.0, 430.0, \"\", Cairo.CairoSurfaceBase{UInt32}(Ptr{Nothing} @0x0000000000000000, 430.0, 430.0), Cairo.CairoContext(Ptr{Nothing} @0x00000000065ab750, Cairo.CairoSurfaceBase{UInt32}(Ptr{Nothing} @0x0000000000000000, 430.0, 430.0), Ptr{Nothing} @0x0000000005085190), :png, 0.0, 0.0, 0.0, 1.0, IOBuffer(data=UInt8[...], readable=true, writable=true, seekable=true, append=false, size=6415, maxsize=Inf, ptr=6416, mark=-1), UInt8[0x89, 0x50, 0x4e, 0x47, 0x0d, 0x0a, 0x1a, 0x0a, 0x00, 0x00  …  0x00, 0x00, 0x49, 0x45, 0x4e, 0x44, 0xae, 0x42, 0x60, 0x82], false)), WebIO.Node{WebIO.DOM}(WebIO.DOM(:html, :div), Any[WebIO.Scope(WebIO.Node{WebIO.DOM}(WebIO.DOM(:html, :div), Any[], Dict{Symbol, Any}(:id => \"container\")), Dict{String, Tuple{Observables.AbstractObservable, Union{Nothing, Bool}}}(\"value\" => (Observable(\"\\\\;\\\\;\"), nothing)), Set{String}(), nothing, WebIO.Asset[WebIO.Asset(\"js\", nothing, \"/home/dushya/.julia/packages/InteractBase/LJXv3/src/../assets/katex.min.js\"), WebIO.Asset(\"css\", nothing, \"/home/dushya/.julia/packages/InteractBase/LJXv3/src/../assets/katex.min.css\")], Dict{Any, Any}(\"value\" => Any[WebIO.JSString(\"(function (txt){return this.k.render(txt,this.container)})\")]), WebIO.ConnectionPool(Channel{Any}(32), Set{WebIO.AbstractConnection}(), Base.GenericCondition{ReentrantLock}(Base.IntrusiveLinkedList{Task}(Task (runnable) @0x00007fc5bf3a0330, Task (runnable) @0x00007fc5bf3a0330), ReentrantLock(nothing, 0x00000000, 0x00, Base.GenericCondition{Base.Threads.SpinLock}(Base.IntrusiveLinkedList{Task}(nothing, nothing), Base.Threads.SpinLock(0)), (1, 140487337964592, 139779710648320)))), WebIO.JSString[WebIO.JSString(\"function () {\\n    var handler = ((function (k){this.k=k; this.container=this.dom.querySelector(\\\"#container\\\"); return k.render(\\\"\\\\\\\\;\\\\\\\\;\\\",this.container)}));\\n    (WebIO.importBlock({\\\"data\\\":[{\\\"name\\\":null,\\\"type\\\":\\\"js\\\",\\\"url\\\":\\\"/assetserver/dd22ed1bf1896c2748f3fe616ce0b838adc895c1-katex.min.js\\\"},{\\\"name\\\":null,\\\"type\\\":\\\"css\\\",\\\"url\\\":\\\"/assetserver/46517a424aa5e6cffc1360d7e0848b601c584ee3-katex.min.css\\\"}],\\\"type\\\":\\\"async_block\\\"})).then((imports) => handler.apply(this, imports));\\n}\\n\")])], Dict{Symbol, Any}(:className => \"interact-widget\")), WebIO.Node{WebIO.DOM}(WebIO.DOM(:html, :div), Any[Observable(Plot{Plots.GRBackend() n=1})], Dict{Symbol, Any}(:style => Dict(\"display\" => \"flex\", \"flex-direction\" => \"column\")))], Dict{Symbol, Any}(:style => Dict(\"display\" => \"flex\", \"flex-direction\" => \"row\")))], Dict{Symbol, Any}(:style => Dict(\"display\" => \"flex\", \"flex-direction\" => \"column\")))"
      ]
     },
     "execution_count": 11,
     "metadata": {
      "application/vnd.webio.node+json": {
       "kernelId": "4371e4c5-2ab1-4480-8eb7-9ded96901257"
      }
     },
     "output_type": "execute_result"
    }
   ],
   "source": [
    "create_interactive_app(model, initialiser= initialiser!,\n",
    "    props_to_record = Dict(\"nodes\"=>Set([:color, :spin])),\n",
    "    step_rule= step_rule!,\n",
    "    model_controls=[(:temp, \"slider\", 0.05:0.05:5), (:coupl, \"slider\", 0.01:0.1:5)],\n",
    "    node_plots = Dict(\"magnetisation\"=> x -> x.spin),\n",
    "    frames=200) "
   ]
  },
  {
   "cell_type": "markdown",
   "metadata": {},
   "source": [
    "## Step 5: Fetch Data \n",
    "\n",
    "In this step we fetch the data of average spin of nodes (also called magnetisation) and plot the result as follows."
   ]
  },
  {
   "cell_type": "code",
   "execution_count": 12,
   "metadata": {
    "scrolled": true
   },
   "outputs": [
    {
     "data": {
      "image/png": "[encoded data removed]",
      "image/svg+xml": [
       "<?xml version=\"1.0\" encoding=\"utf-8\"?>\n",
       "<svg xmlns=\"http://www.w3.org/2000/svg\" xmlns:xlink=\"http://www.w3.org/1999/xlink\" width=\"600\" height=\"400\" viewBox=\"0 0 2400 1600\">\n",
       "<defs>\n",
       "  <clipPath id=\"clip350\">\n",
       "    <rect x=\"0\" y=\"0\" width=\"2400\" height=\"1600\"/>\n",
       "  </clipPath>\n",
       "</defs>\n",
       "<path clip-path=\"url(#clip350)\" d=\"M0 1600 L2400 1600 L2400 0 L0 0  Z\" fill=\"#ffffff\" fill-rule=\"evenodd\" fill-opacity=\"1\"/>\n",
       "<defs>\n",
       "  <clipPath id=\"clip351\">\n",
       "    <rect x=\"480\" y=\"0\" width=\"1681\" height=\"1600\"/>\n",
       "  </clipPath>\n",
       "</defs>\n",
       "<path clip-path=\"url(#clip350)\" d=\"M156.598 1423.18 L2352.76 1423.18 L2352.76 47.2441 L156.598 47.2441  Z\" fill=\"#ffffff\" fill-rule=\"evenodd\" fill-opacity=\"1\"/>\n",
       "<defs>\n",
       "  <clipPath id=\"clip352\">\n",
       "    <rect x=\"156\" y=\"47\" width=\"2197\" height=\"1377\"/>\n",
       "  </clipPath>\n",
       "</defs>\n",
       "<polyline clip-path=\"url(#clip352)\" style=\"stroke:#000000; stroke-linecap:round; stroke-linejoin:round; stroke-width:2; stroke-opacity:0.1; fill:none\" points=\"208.394,1423.18 208.394,47.2441 \"/>\n",
       "<polyline clip-path=\"url(#clip352)\" style=\"stroke:#000000; stroke-linecap:round; stroke-linejoin:round; stroke-width:2; stroke-opacity:0.1; fill:none\" points=\"726.356,1423.18 726.356,47.2441 \"/>\n",
       "<polyline clip-path=\"url(#clip352)\" style=\"stroke:#000000; stroke-linecap:round; stroke-linejoin:round; stroke-width:2; stroke-opacity:0.1; fill:none\" points=\"1244.32,1423.18 1244.32,47.2441 \"/>\n",
       "<polyline clip-path=\"url(#clip352)\" style=\"stroke:#000000; stroke-linecap:round; stroke-linejoin:round; stroke-width:2; stroke-opacity:0.1; fill:none\" points=\"1762.28,1423.18 1762.28,47.2441 \"/>\n",
       "<polyline clip-path=\"url(#clip352)\" style=\"stroke:#000000; stroke-linecap:round; stroke-linejoin:round; stroke-width:2; stroke-opacity:0.1; fill:none\" points=\"2280.24,1423.18 2280.24,47.2441 \"/>\n",
       "<polyline clip-path=\"url(#clip350)\" style=\"stroke:#000000; stroke-linecap:round; stroke-linejoin:round; stroke-width:4; stroke-opacity:1; fill:none\" points=\"156.598,1423.18 2352.76,1423.18 \"/>\n",
       "<polyline clip-path=\"url(#clip350)\" style=\"stroke:#000000; stroke-linecap:round; stroke-linejoin:round; stroke-width:4; stroke-opacity:1; fill:none\" points=\"208.394,1423.18 208.394,1404.28 \"/>\n",
       "<polyline clip-path=\"url(#clip350)\" style=\"stroke:#000000; stroke-linecap:round; stroke-linejoin:round; stroke-width:4; stroke-opacity:1; fill:none\" points=\"726.356,1423.18 726.356,1404.28 \"/>\n",
       "<polyline clip-path=\"url(#clip350)\" style=\"stroke:#000000; stroke-linecap:round; stroke-linejoin:round; stroke-width:4; stroke-opacity:1; fill:none\" points=\"1244.32,1423.18 1244.32,1404.28 \"/>\n",
       "<polyline clip-path=\"url(#clip350)\" style=\"stroke:#000000; stroke-linecap:round; stroke-linejoin:round; stroke-width:4; stroke-opacity:1; fill:none\" points=\"1762.28,1423.18 1762.28,1404.28 \"/>\n",
       "<polyline clip-path=\"url(#clip350)\" style=\"stroke:#000000; stroke-linecap:round; stroke-linejoin:round; stroke-width:4; stroke-opacity:1; fill:none\" points=\"2280.24,1423.18 2280.24,1404.28 \"/>\n",
       "<path clip-path=\"url(#clip350)\" d=\"M208.394 1454.1 Q204.783 1454.1 202.955 1457.66 Q201.149 1461.2 201.149 1468.33 Q201.149 1475.44 202.955 1479.01 Q204.783 1482.55 208.394 1482.55 Q212.029 1482.55 213.834 1479.01 Q215.663 1475.44 215.663 1468.33 Q215.663 1461.2 213.834 1457.66 Q212.029 1454.1 208.394 1454.1 M208.394 1450.39 Q214.205 1450.39 217.26 1455 Q220.339 1459.58 220.339 1468.33 Q220.339 1477.06 217.26 1481.67 Q214.205 1486.25 208.394 1486.25 Q202.584 1486.25 199.506 1481.67 Q196.45 1477.06 196.45 1468.33 Q196.45 1459.58 199.506 1455 Q202.584 1450.39 208.394 1450.39 Z\" fill=\"#000000\" fill-rule=\"nonzero\" fill-opacity=\"1\" /><path clip-path=\"url(#clip350)\" d=\"M701.055 1451.02 L719.412 1451.02 L719.412 1454.96 L705.338 1454.96 L705.338 1463.43 Q706.356 1463.08 707.375 1462.92 Q708.393 1462.73 709.412 1462.73 Q715.199 1462.73 718.578 1465.9 Q721.958 1469.08 721.958 1474.49 Q721.958 1480.07 718.486 1483.17 Q715.014 1486.25 708.694 1486.25 Q706.518 1486.25 704.25 1485.88 Q702.004 1485.51 699.597 1484.77 L699.597 1480.07 Q701.68 1481.2 703.903 1481.76 Q706.125 1482.32 708.602 1482.32 Q712.606 1482.32 714.944 1480.21 Q717.282 1478.1 717.282 1474.49 Q717.282 1470.88 714.944 1468.77 Q712.606 1466.67 708.602 1466.67 Q706.727 1466.67 704.852 1467.08 Q703 1467.5 701.055 1468.38 L701.055 1451.02 Z\" fill=\"#000000\" fill-rule=\"nonzero\" fill-opacity=\"1\" /><path clip-path=\"url(#clip350)\" d=\"M741.171 1454.1 Q737.56 1454.1 735.731 1457.66 Q733.926 1461.2 733.926 1468.33 Q733.926 1475.44 735.731 1479.01 Q737.56 1482.55 741.171 1482.55 Q744.805 1482.55 746.611 1479.01 Q748.439 1475.44 748.439 1468.33 Q748.439 1461.2 746.611 1457.66 Q744.805 1454.1 741.171 1454.1 M741.171 1450.39 Q746.981 1450.39 750.037 1455 Q753.115 1459.58 753.115 1468.33 Q753.115 1477.06 750.037 1481.67 Q746.981 1486.25 741.171 1486.25 Q735.361 1486.25 732.282 1481.67 Q729.226 1477.06 729.226 1468.33 Q729.226 1459.58 732.282 1455 Q735.361 1450.39 741.171 1450.39 Z\" fill=\"#000000\" fill-rule=\"nonzero\" fill-opacity=\"1\" /><path clip-path=\"url(#clip350)\" d=\"M1203.92 1481.64 L1211.56 1481.64 L1211.56 1455.28 L1203.25 1456.95 L1203.25 1452.69 L1211.52 1451.02 L1216.19 1451.02 L1216.19 1481.64 L1223.83 1481.64 L1223.83 1485.58 L1203.92 1485.58 L1203.92 1481.64 Z\" fill=\"#000000\" fill-rule=\"nonzero\" fill-opacity=\"1\" /><path clip-path=\"url(#clip350)\" d=\"M1243.28 1454.1 Q1239.67 1454.1 1237.84 1457.66 Q1236.03 1461.2 1236.03 1468.33 Q1236.03 1475.44 1237.84 1479.01 Q1239.67 1482.55 1243.28 1482.55 Q1246.91 1482.55 1248.72 1479.01 Q1250.54 1475.44 1250.54 1468.33 Q1250.54 1461.2 1248.72 1457.66 Q1246.91 1454.1 1243.28 1454.1 M1243.28 1450.39 Q1249.09 1450.39 1252.14 1455 Q1255.22 1459.58 1255.22 1468.33 Q1255.22 1477.06 1252.14 1481.67 Q1249.09 1486.25 1243.28 1486.25 Q1237.47 1486.25 1234.39 1481.67 Q1231.33 1477.06 1231.33 1468.33 Q1231.33 1459.58 1234.39 1455 Q1237.47 1450.39 1243.28 1450.39 Z\" fill=\"#000000\" fill-rule=\"nonzero\" fill-opacity=\"1\" /><path clip-path=\"url(#clip350)\" d=\"M1273.44 1454.1 Q1269.83 1454.1 1268 1457.66 Q1266.19 1461.2 1266.19 1468.33 Q1266.19 1475.44 1268 1479.01 Q1269.83 1482.55 1273.44 1482.55 Q1277.07 1482.55 1278.88 1479.01 Q1280.71 1475.44 1280.71 1468.33 Q1280.71 1461.2 1278.88 1457.66 Q1277.07 1454.1 1273.44 1454.1 M1273.44 1450.39 Q1279.25 1450.39 1282.3 1455 Q1285.38 1459.58 1285.38 1468.33 Q1285.38 1477.06 1282.3 1481.67 Q1279.25 1486.25 1273.44 1486.25 Q1267.63 1486.25 1264.55 1481.67 Q1261.49 1477.06 1261.49 1468.33 Q1261.49 1459.58 1264.55 1455 Q1267.63 1450.39 1273.44 1450.39 Z\" fill=\"#000000\" fill-rule=\"nonzero\" fill-opacity=\"1\" /><path clip-path=\"url(#clip350)\" d=\"M1721.89 1481.64 L1729.53 1481.64 L1729.53 1455.28 L1721.21 1456.95 L1721.21 1452.69 L1729.48 1451.02 L1734.15 1451.02 L1734.15 1481.64 L1741.79 1481.64 L1741.79 1485.58 L1721.89 1485.58 L1721.89 1481.64 Z\" fill=\"#000000\" fill-rule=\"nonzero\" fill-opacity=\"1\" /><path clip-path=\"url(#clip350)\" d=\"M1751.28 1451.02 L1769.64 1451.02 L1769.64 1454.96 L1755.57 1454.96 L1755.57 1463.43 Q1756.59 1463.08 1757.6 1462.92 Q1758.62 1462.73 1759.64 1462.73 Q1765.43 1462.73 1768.81 1465.9 Q1772.19 1469.08 1772.19 1474.49 Q1772.19 1480.07 1768.71 1483.17 Q1765.24 1486.25 1758.92 1486.25 Q1756.75 1486.25 1754.48 1485.88 Q1752.23 1485.51 1749.83 1484.77 L1749.83 1480.07 Q1751.91 1481.2 1754.13 1481.76 Q1756.35 1482.32 1758.83 1482.32 Q1762.84 1482.32 1765.17 1480.21 Q1767.51 1478.1 1767.51 1474.49 Q1767.51 1470.88 1765.17 1468.77 Q1762.84 1466.67 1758.83 1466.67 Q1756.96 1466.67 1755.08 1467.08 Q1753.23 1467.5 1751.28 1468.38 L1751.28 1451.02 Z\" fill=\"#000000\" fill-rule=\"nonzero\" fill-opacity=\"1\" /><path clip-path=\"url(#clip350)\" d=\"M1791.4 1454.1 Q1787.79 1454.1 1785.96 1457.66 Q1784.15 1461.2 1784.15 1468.33 Q1784.15 1475.44 1785.96 1479.01 Q1787.79 1482.55 1791.4 1482.55 Q1795.03 1482.55 1796.84 1479.01 Q1798.67 1475.44 1798.67 1468.33 Q1798.67 1461.2 1796.84 1457.66 Q1795.03 1454.1 1791.4 1454.1 M1791.4 1450.39 Q1797.21 1450.39 1800.27 1455 Q1803.34 1459.58 1803.34 1468.33 Q1803.34 1477.06 1800.27 1481.67 Q1797.21 1486.25 1791.4 1486.25 Q1785.59 1486.25 1782.51 1481.67 Q1779.46 1477.06 1779.46 1468.33 Q1779.46 1459.58 1782.51 1455 Q1785.59 1450.39 1791.4 1450.39 Z\" fill=\"#000000\" fill-rule=\"nonzero\" fill-opacity=\"1\" /><path clip-path=\"url(#clip350)\" d=\"M2243.93 1481.64 L2260.25 1481.64 L2260.25 1485.58 L2238.31 1485.58 L2238.31 1481.64 Q2240.97 1478.89 2245.55 1474.26 Q2250.16 1469.61 2251.34 1468.27 Q2253.59 1465.74 2254.47 1464.01 Q2255.37 1462.25 2255.37 1460.56 Q2255.37 1457.8 2253.42 1456.07 Q2251.5 1454.33 2248.4 1454.33 Q2246.2 1454.33 2243.75 1455.09 Q2241.32 1455.86 2238.54 1457.41 L2238.54 1452.69 Q2241.36 1451.55 2243.82 1450.97 Q2246.27 1450.39 2248.31 1450.39 Q2253.68 1450.39 2256.87 1453.08 Q2260.07 1455.77 2260.07 1460.26 Q2260.07 1462.39 2259.26 1464.31 Q2258.47 1466.2 2256.36 1468.8 Q2255.79 1469.47 2252.68 1472.69 Q2249.58 1475.88 2243.93 1481.64 Z\" fill=\"#000000\" fill-rule=\"nonzero\" fill-opacity=\"1\" /><path clip-path=\"url(#clip350)\" d=\"M2280.07 1454.1 Q2276.46 1454.1 2274.63 1457.66 Q2272.82 1461.2 2272.82 1468.33 Q2272.82 1475.44 2274.63 1479.01 Q2276.46 1482.55 2280.07 1482.55 Q2283.7 1482.55 2285.51 1479.01 Q2287.34 1475.44 2287.34 1468.33 Q2287.34 1461.2 2285.51 1457.66 Q2283.7 1454.1 2280.07 1454.1 M2280.07 1450.39 Q2285.88 1450.39 2288.93 1455 Q2292.01 1459.58 2292.01 1468.33 Q2292.01 1477.06 2288.93 1481.67 Q2285.88 1486.25 2280.07 1486.25 Q2274.26 1486.25 2271.18 1481.67 Q2268.12 1477.06 2268.12 1468.33 Q2268.12 1459.58 2271.18 1455 Q2274.26 1450.39 2280.07 1450.39 Z\" fill=\"#000000\" fill-rule=\"nonzero\" fill-opacity=\"1\" /><path clip-path=\"url(#clip350)\" d=\"M2310.23 1454.1 Q2306.62 1454.1 2304.79 1457.66 Q2302.98 1461.2 2302.98 1468.33 Q2302.98 1475.44 2304.79 1479.01 Q2306.62 1482.55 2310.23 1482.55 Q2313.86 1482.55 2315.67 1479.01 Q2317.5 1475.44 2317.5 1468.33 Q2317.5 1461.2 2315.67 1457.66 Q2313.86 1454.1 2310.23 1454.1 M2310.23 1450.39 Q2316.04 1450.39 2319.1 1455 Q2322.17 1459.58 2322.17 1468.33 Q2322.17 1477.06 2319.1 1481.67 Q2316.04 1486.25 2310.23 1486.25 Q2304.42 1486.25 2301.34 1481.67 Q2298.29 1477.06 2298.29 1468.33 Q2298.29 1459.58 2301.34 1455 Q2304.42 1450.39 2310.23 1450.39 Z\" fill=\"#000000\" fill-rule=\"nonzero\" fill-opacity=\"1\" /><path clip-path=\"url(#clip350)\" d=\"M1191.72 1522.27 L1191.72 1532.4 L1203.78 1532.4 L1203.78 1536.95 L1191.72 1536.95 L1191.72 1556.3 Q1191.72 1560.66 1192.9 1561.9 Q1194.11 1563.14 1197.77 1563.14 L1203.78 1563.14 L1203.78 1568.04 L1197.77 1568.04 Q1190.99 1568.04 1188.41 1565.53 Q1185.83 1562.98 1185.83 1556.3 L1185.83 1536.95 L1181.54 1536.95 L1181.54 1532.4 L1185.83 1532.4 L1185.83 1522.27 L1191.72 1522.27 Z\" fill=\"#000000\" fill-rule=\"nonzero\" fill-opacity=\"1\" /><path clip-path=\"url(#clip350)\" d=\"M1211.49 1532.4 L1217.34 1532.4 L1217.34 1568.04 L1211.49 1568.04 L1211.49 1532.4 M1211.49 1518.52 L1217.34 1518.52 L1217.34 1525.93 L1211.49 1525.93 L1211.49 1518.52 Z\" fill=\"#000000\" fill-rule=\"nonzero\" fill-opacity=\"1\" /><path clip-path=\"url(#clip350)\" d=\"M1255.25 1533.76 L1255.25 1539.24 Q1252.77 1537.87 1250.25 1537.2 Q1247.77 1536.5 1245.22 1536.5 Q1239.53 1536.5 1236.38 1540.13 Q1233.22 1543.73 1233.22 1550.25 Q1233.22 1556.78 1236.38 1560.4 Q1239.53 1564 1245.22 1564 Q1247.77 1564 1250.25 1563.33 Q1252.77 1562.63 1255.25 1561.26 L1255.25 1566.68 Q1252.8 1567.82 1250.16 1568.39 Q1247.55 1568.97 1244.59 1568.97 Q1236.53 1568.97 1231.79 1563.91 Q1227.05 1558.85 1227.05 1550.25 Q1227.05 1541.53 1231.82 1536.53 Q1236.63 1531.54 1244.97 1531.54 Q1247.67 1531.54 1250.25 1532.11 Q1252.83 1532.65 1255.25 1533.76 Z\" fill=\"#000000\" fill-rule=\"nonzero\" fill-opacity=\"1\" /><path clip-path=\"url(#clip350)\" d=\"M1265.21 1518.52 L1271.1 1518.52 L1271.1 1547.77 L1288.57 1532.4 L1296.05 1532.4 L1277.15 1549.07 L1296.85 1568.04 L1289.21 1568.04 L1271.1 1550.63 L1271.1 1568.04 L1265.21 1568.04 L1265.21 1518.52 Z\" fill=\"#000000\" fill-rule=\"nonzero\" fill-opacity=\"1\" /><path clip-path=\"url(#clip350)\" d=\"M1325.91 1533.45 L1325.91 1538.98 Q1323.43 1537.71 1320.75 1537.07 Q1318.08 1536.44 1315.21 1536.44 Q1310.85 1536.44 1308.66 1537.77 Q1306.49 1539.11 1306.49 1541.79 Q1306.49 1543.82 1308.05 1545 Q1309.61 1546.15 1314.32 1547.2 L1316.33 1547.64 Q1322.57 1548.98 1325.18 1551.43 Q1327.82 1553.85 1327.82 1558.21 Q1327.82 1563.17 1323.87 1566.07 Q1319.96 1568.97 1313.08 1568.97 Q1310.22 1568.97 1307.1 1568.39 Q1304.01 1567.85 1300.57 1566.74 L1300.57 1560.69 Q1303.82 1562.38 1306.97 1563.24 Q1310.12 1564.07 1313.21 1564.07 Q1317.35 1564.07 1319.58 1562.66 Q1321.8 1561.23 1321.8 1558.65 Q1321.8 1556.27 1320.18 1554.99 Q1318.59 1553.72 1313.15 1552.54 L1311.11 1552.07 Q1305.67 1550.92 1303.25 1548.56 Q1300.83 1546.18 1300.83 1542.04 Q1300.83 1537.01 1304.39 1534.27 Q1307.96 1531.54 1314.51 1531.54 Q1317.76 1531.54 1320.63 1532.01 Q1323.49 1532.49 1325.91 1533.45 Z\" fill=\"#000000\" fill-rule=\"nonzero\" fill-opacity=\"1\" /><polyline clip-path=\"url(#clip352)\" style=\"stroke:#000000; stroke-linecap:round; stroke-linejoin:round; stroke-width:2; stroke-opacity:0.1; fill:none\" points=\"156.598,1202.21 2352.76,1202.21 \"/>\n",
       "<polyline clip-path=\"url(#clip352)\" style=\"stroke:#000000; stroke-linecap:round; stroke-linejoin:round; stroke-width:2; stroke-opacity:0.1; fill:none\" points=\"156.598,870.128 2352.76,870.128 \"/>\n",
       "<polyline clip-path=\"url(#clip352)\" style=\"stroke:#000000; stroke-linecap:round; stroke-linejoin:round; stroke-width:2; stroke-opacity:0.1; fill:none\" points=\"156.598,538.04 2352.76,538.04 \"/>\n",
       "<polyline clip-path=\"url(#clip352)\" style=\"stroke:#000000; stroke-linecap:round; stroke-linejoin:round; stroke-width:2; stroke-opacity:0.1; fill:none\" points=\"156.598,205.953 2352.76,205.953 \"/>\n",
       "<polyline clip-path=\"url(#clip350)\" style=\"stroke:#000000; stroke-linecap:round; stroke-linejoin:round; stroke-width:4; stroke-opacity:1; fill:none\" points=\"156.598,1423.18 156.598,47.2441 \"/>\n",
       "<polyline clip-path=\"url(#clip350)\" style=\"stroke:#000000; stroke-linecap:round; stroke-linejoin:round; stroke-width:4; stroke-opacity:1; fill:none\" points=\"156.598,1202.21 175.496,1202.21 \"/>\n",
       "<polyline clip-path=\"url(#clip350)\" style=\"stroke:#000000; stroke-linecap:round; stroke-linejoin:round; stroke-width:4; stroke-opacity:1; fill:none\" points=\"156.598,870.128 175.496,870.128 \"/>\n",
       "<polyline clip-path=\"url(#clip350)\" style=\"stroke:#000000; stroke-linecap:round; stroke-linejoin:round; stroke-width:4; stroke-opacity:1; fill:none\" points=\"156.598,538.04 175.496,538.04 \"/>\n",
       "<polyline clip-path=\"url(#clip350)\" style=\"stroke:#000000; stroke-linecap:round; stroke-linejoin:round; stroke-width:4; stroke-opacity:1; fill:none\" points=\"156.598,205.953 175.496,205.953 \"/>\n",
       "<path clip-path=\"url(#clip350)\" d=\"M64.6495 1188.01 Q61.0384 1188.01 59.2097 1191.58 Q57.4041 1195.12 57.4041 1202.25 Q57.4041 1209.36 59.2097 1212.92 Q61.0384 1216.46 64.6495 1216.46 Q68.2837 1216.46 70.0892 1212.92 Q71.9179 1209.36 71.9179 1202.25 Q71.9179 1195.12 70.0892 1191.58 Q68.2837 1188.01 64.6495 1188.01 M64.6495 1184.31 Q70.4596 1184.31 73.5152 1188.92 Q76.5938 1193.5 76.5938 1202.25 Q76.5938 1210.98 73.5152 1215.58 Q70.4596 1220.17 64.6495 1220.17 Q58.8393 1220.17 55.7606 1215.58 Q52.7051 1210.98 52.7051 1202.25 Q52.7051 1193.5 55.7606 1188.92 Q58.8393 1184.31 64.6495 1184.31 Z\" fill=\"#000000\" fill-rule=\"nonzero\" fill-opacity=\"1\" /><path clip-path=\"url(#clip350)\" d=\"M84.8114 1213.62 L89.6956 1213.62 L89.6956 1219.49 L84.8114 1219.49 L84.8114 1213.62 Z\" fill=\"#000000\" fill-rule=\"nonzero\" fill-opacity=\"1\" /><path clip-path=\"url(#clip350)\" d=\"M100.691 1215.56 L108.33 1215.56 L108.33 1189.19 L100.02 1190.86 L100.02 1186.6 L108.283 1184.93 L112.959 1184.93 L112.959 1215.56 L120.598 1215.56 L120.598 1219.49 L100.691 1219.49 L100.691 1215.56 Z\" fill=\"#000000\" fill-rule=\"nonzero\" fill-opacity=\"1\" /><path clip-path=\"url(#clip350)\" d=\"M65.0198 855.926 Q61.4087 855.926 59.58 859.491 Q57.7745 863.033 57.7745 870.162 Q57.7745 877.269 59.58 880.834 Q61.4087 884.375 65.0198 884.375 Q68.6541 884.375 70.4596 880.834 Q72.2883 877.269 72.2883 870.162 Q72.2883 863.033 70.4596 859.491 Q68.6541 855.926 65.0198 855.926 M65.0198 852.223 Q70.83 852.223 73.8855 856.829 Q76.9642 861.412 76.9642 870.162 Q76.9642 878.889 73.8855 883.496 Q70.83 888.079 65.0198 888.079 Q59.2097 888.079 56.131 883.496 Q53.0754 878.889 53.0754 870.162 Q53.0754 861.412 56.131 856.829 Q59.2097 852.223 65.0198 852.223 Z\" fill=\"#000000\" fill-rule=\"nonzero\" fill-opacity=\"1\" /><path clip-path=\"url(#clip350)\" d=\"M85.1818 881.528 L90.066 881.528 L90.066 887.408 L85.1818 887.408 L85.1818 881.528 Z\" fill=\"#000000\" fill-rule=\"nonzero\" fill-opacity=\"1\" /><path clip-path=\"url(#clip350)\" d=\"M104.279 883.473 L120.598 883.473 L120.598 887.408 L98.6539 887.408 L98.6539 883.473 Q101.316 880.718 105.899 876.088 Q110.506 871.436 111.686 870.093 Q113.932 867.57 114.811 865.834 Q115.714 864.074 115.714 862.385 Q115.714 859.63 113.77 857.894 Q111.848 856.158 108.746 856.158 Q106.547 856.158 104.094 856.922 Q101.663 857.686 98.8854 859.237 L98.8854 854.514 Q101.709 853.38 104.163 852.801 Q106.617 852.223 108.654 852.223 Q114.024 852.223 117.219 854.908 Q120.413 857.593 120.413 862.084 Q120.413 864.213 119.603 866.135 Q118.816 868.033 116.709 870.625 Q116.131 871.297 113.029 874.514 Q109.927 877.709 104.279 883.473 Z\" fill=\"#000000\" fill-rule=\"nonzero\" fill-opacity=\"1\" /><path clip-path=\"url(#clip350)\" d=\"M64.0708 523.839 Q60.4597 523.839 58.631 527.404 Q56.8254 530.946 56.8254 538.075 Q56.8254 545.182 58.631 548.746 Q60.4597 552.288 64.0708 552.288 Q67.705 552.288 69.5105 548.746 Q71.3392 545.182 71.3392 538.075 Q71.3392 530.946 69.5105 527.404 Q67.705 523.839 64.0708 523.839 M64.0708 520.135 Q69.8809 520.135 72.9365 524.742 Q76.0151 529.325 76.0151 538.075 Q76.0151 546.802 72.9365 551.408 Q69.8809 555.992 64.0708 555.992 Q58.2606 555.992 55.1819 551.408 Q52.1264 546.802 52.1264 538.075 Q52.1264 529.325 55.1819 524.742 Q58.2606 520.135 64.0708 520.135 Z\" fill=\"#000000\" fill-rule=\"nonzero\" fill-opacity=\"1\" /><path clip-path=\"url(#clip350)\" d=\"M84.2327 549.441 L89.1169 549.441 L89.1169 555.32 L84.2327 555.32 L84.2327 549.441 Z\" fill=\"#000000\" fill-rule=\"nonzero\" fill-opacity=\"1\" /><path clip-path=\"url(#clip350)\" d=\"M113.469 536.686 Q116.825 537.404 118.7 539.672 Q120.598 541.941 120.598 545.274 Q120.598 550.39 117.08 553.191 Q113.561 555.992 107.08 555.992 Q104.904 555.992 102.589 555.552 Q100.297 555.135 97.8437 554.279 L97.8437 549.765 Q99.7882 550.899 102.103 551.478 Q104.418 552.057 106.941 552.057 Q111.339 552.057 113.631 550.32 Q115.945 548.584 115.945 545.274 Q115.945 542.219 113.793 540.506 Q111.663 538.77 107.844 538.77 L103.816 538.77 L103.816 534.927 L108.029 534.927 Q111.478 534.927 113.307 533.561 Q115.135 532.172 115.135 529.58 Q115.135 526.918 113.237 525.506 Q111.362 524.071 107.844 524.071 Q105.922 524.071 103.723 524.487 Q101.524 524.904 98.8854 525.784 L98.8854 521.617 Q101.547 520.876 103.862 520.506 Q106.2 520.135 108.26 520.135 Q113.584 520.135 116.686 522.566 Q119.788 524.973 119.788 529.094 Q119.788 531.964 118.145 533.955 Q116.501 535.922 113.469 536.686 Z\" fill=\"#000000\" fill-rule=\"nonzero\" fill-opacity=\"1\" /><path clip-path=\"url(#clip350)\" d=\"M62.9365 191.752 Q59.3254 191.752 57.4967 195.317 Q55.6912 198.858 55.6912 205.988 Q55.6912 213.094 57.4967 216.659 Q59.3254 220.201 62.9365 220.201 Q66.5707 220.201 68.3763 216.659 Q70.205 213.094 70.205 205.988 Q70.205 198.858 68.3763 195.317 Q66.5707 191.752 62.9365 191.752 M62.9365 188.048 Q68.7467 188.048 71.8022 192.655 Q74.8809 197.238 74.8809 205.988 Q74.8809 214.715 71.8022 219.321 Q68.7467 223.904 62.9365 223.904 Q57.1264 223.904 54.0477 219.321 Q50.9921 214.715 50.9921 205.988 Q50.9921 197.238 54.0477 192.655 Q57.1264 188.048 62.9365 188.048 Z\" fill=\"#000000\" fill-rule=\"nonzero\" fill-opacity=\"1\" /><path clip-path=\"url(#clip350)\" d=\"M83.0984 217.354 L87.9827 217.354 L87.9827 223.233 L83.0984 223.233 L83.0984 217.354 Z\" fill=\"#000000\" fill-rule=\"nonzero\" fill-opacity=\"1\" /><path clip-path=\"url(#clip350)\" d=\"M111.015 192.747 L99.2095 211.196 L111.015 211.196 L111.015 192.747 M109.788 188.673 L115.668 188.673 L115.668 211.196 L120.598 211.196 L120.598 215.085 L115.668 215.085 L115.668 223.233 L111.015 223.233 L111.015 215.085 L95.4132 215.085 L95.4132 210.571 L109.788 188.673 Z\" fill=\"#000000\" fill-rule=\"nonzero\" fill-opacity=\"1\" /><polyline clip-path=\"url(#clip352)\" style=\"stroke:#009af9; stroke-linecap:round; stroke-linejoin:round; stroke-width:4; stroke-opacity:1; fill:none\" points=\"218.754,1169.01 229.113,1217.91 239.472,1367.47 249.831,1218.4 260.191,1284.45 270.55,1384.24 280.909,1318.07 291.268,1251.49 301.628,1168.3 311.987,1201.3 322.346,1151.57 332.705,1118.24 343.064,1018.53 353.424,835.63 363.783,752.15 374.142,718.733 384.501,668.836 394.861,652.107 405.22,618.857 415.579,602.169 425.938,635.336 436.298,618.815 446.657,519.147 457.016,485.689 467.375,452.397 477.734,352.688 488.094,302.625 498.453,319.105 508.812,269.333 519.171,368.834 529.531,252.853 539.89,202.75 550.249,285.646 560.608,285.853 570.968,368.876 581.327,335.875 591.686,352.396 602.045,369.042 612.405,452.105 622.764,419.104 633.123,402.418 643.482,518.606 653.841,568.71 664.201,568.835 674.56,568.835 684.919,552.231 695.278,435.959 705.638,352.647 715.997,369.043 726.356,302.666 736.715,285.896 747.075,219.437 757.434,169.457 767.793,169.332 778.152,152.728 788.512,169.291 798.871,202.541 809.23,169.415 819.589,185.937 829.948,136.165 840.308,185.853 850.667,169.373 861.026,119.519 871.385,86.1857 881.745,185.729 892.104,169.373 902.463,169.332 912.822,152.728 923.182,152.686 933.541,119.477 943.9,169.207 954.259,152.727 964.619,119.477 974.978,119.394 985.337,119.394 995.696,135.998 1006.06,169.249 1016.41,136.123 1026.77,219.062 1037.13,186.061 1047.49,269 1057.85,302.416 1068.21,302.5 1078.57,269.291 1088.93,285.812 1099.29,352.271 1109.65,418.855 1120.01,435.626 1130.37,419.063 1140.73,468.835 1151.08,452.355 1161.44,468.918 1171.8,435.751 1182.16,485.481 1192.52,518.814 1202.88,535.502 1213.24,469.126 1223.6,485.564 1233.96,518.814 1244.32,601.919 1254.68,635.336 1265.04,635.419 1275.4,585.606 1285.75,502.46 1296.11,535.461 1306.47,518.939 1316.83,518.898 1327.19,469.084 1337.55,468.96 1347.91,485.564 1358.27,435.792 1368.63,435.668 1378.99,419.063 1389.35,485.439 1399.71,485.605 1410.07,419.188 1420.42,419.022 1430.78,419.022 1441.14,419.022 1451.5,402.417 1461.86,385.771 1472.22,369.125 1482.58,402.293 1492.94,435.584 1503.3,435.667 1513.66,452.272 1524.02,485.522 1534.38,435.792 1544.74,435.668 1555.09,435.668 1565.45,502.085 1575.81,552.064 1586.17,585.398 1596.53,568.877 1606.89,602.044 1617.25,635.336 1627.61,602.21 1637.97,535.71 1648.33,518.94 1658.69,535.502 1669.05,485.73 1679.41,518.815 1689.76,502.293 1700.12,585.273 1710.48,585.481 1720.84,552.273 1731.2,568.794 1741.56,568.835 1751.92,618.649 1762.28,635.377 1772.64,668.628 1783,685.315 1793.36,685.357 1803.72,818.192 1814.08,818.524 1824.43,835.129 1834.79,884.984 1845.15,851.9 1855.51,818.609 1865.87,801.921 1876.23,851.692 1886.59,835.212 1896.95,884.984 1907.31,901.713 1917.67,918.359 1928.03,901.797 1938.39,868.546 1948.75,868.463 1959.11,934.881 1969.46,951.651 1979.82,984.902 1990.18,968.38 2000.54,951.735 2010.9,984.902 2021.26,1018.19 2031.62,1051.49 2041.98,1001.76 2052.34,1001.63 2062.7,968.422 2073.06,951.735 2083.42,1018.11 2093.78,985.068 2104.13,968.381 2114.49,885.317 2124.85,851.901 2135.21,885.026 2145.57,818.691 2155.93,801.921 2166.29,801.879 2176.65,768.67 2187.01,801.796 2197.37,818.483 2207.73,868.338 2218.09,835.254 2228.45,818.567 2238.8,851.734 2249.16,851.817 2259.52,901.63 2269.88,918.359 2280.24,918.401 2290.6,951.61 \"/>\n",
       "<path clip-path=\"url(#clip350)\" d=\"M1727.41 196.789 L2279.55 196.789 L2279.55 93.1086 L1727.41 93.1086  Z\" fill=\"#ffffff\" fill-rule=\"evenodd\" fill-opacity=\"1\"/>\n",
       "<polyline clip-path=\"url(#clip350)\" style=\"stroke:#000000; stroke-linecap:round; stroke-linejoin:round; stroke-width:4; stroke-opacity:1; fill:none\" points=\"1727.41,196.789 2279.55,196.789 2279.55,93.1086 1727.41,93.1086 1727.41,196.789 \"/>\n",
       "<polyline clip-path=\"url(#clip350)\" style=\"stroke:#009af9; stroke-linecap:round; stroke-linejoin:round; stroke-width:4; stroke-opacity:1; fill:none\" points=\"1751.82,144.949 1898.23,144.949 \"/>\n",
       "<path clip-path=\"url(#clip350)\" d=\"M1942.97 141.28 Q1944.57 138.409 1946.79 137.044 Q1949.02 135.678 1952.03 135.678 Q1956.08 135.678 1958.28 138.525 Q1960.47 141.349 1960.47 146.581 L1960.47 162.229 L1956.19 162.229 L1956.19 146.719 Q1956.19 142.993 1954.87 141.187 Q1953.55 139.382 1950.84 139.382 Q1947.53 139.382 1945.61 141.581 Q1943.69 143.78 1943.69 147.576 L1943.69 162.229 L1939.41 162.229 L1939.41 146.719 Q1939.41 142.969 1938.09 141.187 Q1936.77 139.382 1934.02 139.382 Q1930.75 139.382 1928.83 141.604 Q1926.91 143.803 1926.91 147.576 L1926.91 162.229 L1922.63 162.229 L1922.63 136.303 L1926.91 136.303 L1926.91 140.331 Q1928.37 137.946 1930.41 136.812 Q1932.44 135.678 1935.24 135.678 Q1938.07 135.678 1940.03 137.113 Q1942.03 138.548 1942.97 141.28 Z\" fill=\"#000000\" fill-rule=\"nonzero\" fill-opacity=\"1\" /><path clip-path=\"url(#clip350)\" d=\"M1980.75 149.196 Q1975.59 149.196 1973.6 150.377 Q1971.61 151.557 1971.61 154.405 Q1971.61 156.673 1973.09 158.016 Q1974.59 159.335 1977.16 159.335 Q1980.71 159.335 1982.84 156.835 Q1984.99 154.312 1984.99 150.145 L1984.99 149.196 L1980.75 149.196 M1989.25 147.437 L1989.25 162.229 L1984.99 162.229 L1984.99 158.293 Q1983.53 160.655 1981.35 161.789 Q1979.18 162.9 1976.03 162.9 Q1972.05 162.9 1969.69 160.678 Q1967.35 158.432 1967.35 154.682 Q1967.35 150.307 1970.27 148.085 Q1973.21 145.863 1979.02 145.863 L1984.99 145.863 L1984.99 145.446 Q1984.99 142.507 1983.04 140.909 Q1981.12 139.289 1977.63 139.289 Q1975.41 139.289 1973.3 139.821 Q1971.19 140.354 1969.25 141.419 L1969.25 137.483 Q1971.59 136.581 1973.78 136.141 Q1975.98 135.678 1978.07 135.678 Q1983.69 135.678 1986.47 138.594 Q1989.25 141.511 1989.25 147.437 Z\" fill=\"#000000\" fill-rule=\"nonzero\" fill-opacity=\"1\" /><path clip-path=\"url(#clip350)\" d=\"M2015.08 148.965 Q2015.08 144.335 2013.16 141.789 Q2011.26 139.243 2007.81 139.243 Q2004.39 139.243 2002.47 141.789 Q2000.57 144.335 2000.57 148.965 Q2000.57 153.571 2002.47 156.118 Q2004.39 158.664 2007.81 158.664 Q2011.26 158.664 2013.16 156.118 Q2015.08 153.571 2015.08 148.965 M2019.34 159.011 Q2019.34 165.631 2016.4 168.849 Q2013.46 172.09 2007.4 172.09 Q2005.15 172.09 2003.16 171.742 Q2001.17 171.418 1999.29 170.724 L1999.29 166.58 Q2001.17 167.599 2003 168.085 Q2004.83 168.571 2006.72 168.571 Q2010.91 168.571 2013 166.372 Q2015.08 164.196 2015.08 159.775 L2015.08 157.668 Q2013.76 159.96 2011.7 161.094 Q2009.64 162.229 2006.77 162.229 Q2002 162.229 1999.09 158.594 Q1996.17 154.96 1996.17 148.965 Q1996.17 142.946 1999.09 139.312 Q2002 135.678 2006.77 135.678 Q2009.64 135.678 2011.7 136.812 Q2013.76 137.946 2015.08 140.238 L2015.08 136.303 L2019.34 136.303 L2019.34 159.011 Z\" fill=\"#000000\" fill-rule=\"nonzero\" fill-opacity=\"1\" /><path clip-path=\"url(#clip350)\" d=\"M2049.66 146.581 L2049.66 162.229 L2045.4 162.229 L2045.4 146.719 Q2045.4 143.039 2043.97 141.21 Q2042.53 139.382 2039.66 139.382 Q2036.21 139.382 2034.22 141.581 Q2032.23 143.78 2032.23 147.576 L2032.23 162.229 L2027.95 162.229 L2027.95 136.303 L2032.23 136.303 L2032.23 140.331 Q2033.76 137.993 2035.82 136.835 Q2037.9 135.678 2040.61 135.678 Q2045.08 135.678 2047.37 138.456 Q2049.66 141.21 2049.66 146.581 Z\" fill=\"#000000\" fill-rule=\"nonzero\" fill-opacity=\"1\" /><path clip-path=\"url(#clip350)\" d=\"M2080.34 148.201 L2080.34 150.284 L2060.75 150.284 Q2061.03 154.682 2063.39 156.997 Q2065.77 159.289 2070.01 159.289 Q2072.46 159.289 2074.76 158.687 Q2077.07 158.085 2079.34 156.881 L2079.34 160.909 Q2077.05 161.881 2074.64 162.391 Q2072.23 162.9 2069.76 162.9 Q2063.55 162.9 2059.92 159.289 Q2056.31 155.678 2056.31 149.52 Q2056.31 143.155 2059.73 139.428 Q2063.18 135.678 2069.02 135.678 Q2074.25 135.678 2077.28 139.057 Q2080.34 142.414 2080.34 148.201 M2076.08 146.951 Q2076.03 143.456 2074.11 141.372 Q2072.21 139.289 2069.06 139.289 Q2065.5 139.289 2063.34 141.303 Q2061.21 143.317 2060.89 146.974 L2076.08 146.951 Z\" fill=\"#000000\" fill-rule=\"nonzero\" fill-opacity=\"1\" /><path clip-path=\"url(#clip350)\" d=\"M2091.54 128.942 L2091.54 136.303 L2100.31 136.303 L2100.31 139.613 L2091.54 139.613 L2091.54 153.687 Q2091.54 156.858 2092.4 157.761 Q2093.27 158.664 2095.94 158.664 L2100.31 158.664 L2100.31 162.229 L2095.94 162.229 Q2091.01 162.229 2089.13 160.4 Q2087.26 158.548 2087.26 153.687 L2087.26 139.613 L2084.13 139.613 L2084.13 136.303 L2087.26 136.303 L2087.26 128.942 L2091.54 128.942 Z\" fill=\"#000000\" fill-rule=\"nonzero\" fill-opacity=\"1\" /><path clip-path=\"url(#clip350)\" d=\"M2105.91 136.303 L2110.17 136.303 L2110.17 162.229 L2105.91 162.229 L2105.91 136.303 M2105.91 126.21 L2110.17 126.21 L2110.17 131.604 L2105.91 131.604 L2105.91 126.21 Z\" fill=\"#000000\" fill-rule=\"nonzero\" fill-opacity=\"1\" /><path clip-path=\"url(#clip350)\" d=\"M2135.61 137.067 L2135.61 141.094 Q2133.81 140.169 2131.86 139.706 Q2129.92 139.243 2127.83 139.243 Q2124.66 139.243 2123.07 140.215 Q2121.49 141.187 2121.49 143.131 Q2121.49 144.613 2122.63 145.469 Q2123.76 146.303 2127.19 147.067 L2128.64 147.391 Q2133.18 148.363 2135.08 150.145 Q2137 151.905 2137 155.076 Q2137 158.687 2134.13 160.793 Q2131.28 162.9 2126.28 162.9 Q2124.2 162.9 2121.93 162.483 Q2119.69 162.09 2117.19 161.28 L2117.19 156.881 Q2119.55 158.108 2121.84 158.733 Q2124.13 159.335 2126.38 159.335 Q2129.39 159.335 2131.01 158.317 Q2132.63 157.275 2132.63 155.4 Q2132.63 153.664 2131.45 152.738 Q2130.29 151.812 2126.33 150.956 L2124.85 150.608 Q2120.89 149.775 2119.13 148.062 Q2117.37 146.326 2117.37 143.317 Q2117.37 139.659 2119.96 137.669 Q2122.56 135.678 2127.33 135.678 Q2129.69 135.678 2131.77 136.025 Q2133.85 136.372 2135.61 137.067 Z\" fill=\"#000000\" fill-rule=\"nonzero\" fill-opacity=\"1\" /><path clip-path=\"url(#clip350)\" d=\"M2155.57 149.196 Q2150.4 149.196 2148.41 150.377 Q2146.42 151.557 2146.42 154.405 Q2146.42 156.673 2147.9 158.016 Q2149.41 159.335 2151.98 159.335 Q2155.52 159.335 2157.65 156.835 Q2159.8 154.312 2159.8 150.145 L2159.8 149.196 L2155.57 149.196 M2164.06 147.437 L2164.06 162.229 L2159.8 162.229 L2159.8 158.293 Q2158.34 160.655 2156.17 161.789 Q2153.99 162.9 2150.84 162.9 Q2146.86 162.9 2144.5 160.678 Q2142.16 158.432 2142.16 154.682 Q2142.16 150.307 2145.08 148.085 Q2148.02 145.863 2153.83 145.863 L2159.8 145.863 L2159.8 145.446 Q2159.8 142.507 2157.86 140.909 Q2155.94 139.289 2152.44 139.289 Q2150.22 139.289 2148.11 139.821 Q2146.01 140.354 2144.06 141.419 L2144.06 137.483 Q2146.4 136.581 2148.6 136.141 Q2150.8 135.678 2152.88 135.678 Q2158.51 135.678 2161.28 138.594 Q2164.06 141.511 2164.06 147.437 Z\" fill=\"#000000\" fill-rule=\"nonzero\" fill-opacity=\"1\" /><path clip-path=\"url(#clip350)\" d=\"M2177.05 128.942 L2177.05 136.303 L2185.82 136.303 L2185.82 139.613 L2177.05 139.613 L2177.05 153.687 Q2177.05 156.858 2177.9 157.761 Q2178.78 158.664 2181.45 158.664 L2185.82 158.664 L2185.82 162.229 L2181.45 162.229 Q2176.52 162.229 2174.64 160.4 Q2172.77 158.548 2172.77 153.687 L2172.77 139.613 L2169.64 139.613 L2169.64 136.303 L2172.77 136.303 L2172.77 128.942 L2177.05 128.942 Z\" fill=\"#000000\" fill-rule=\"nonzero\" fill-opacity=\"1\" /><path clip-path=\"url(#clip350)\" d=\"M2191.42 136.303 L2195.68 136.303 L2195.68 162.229 L2191.42 162.229 L2191.42 136.303 M2191.42 126.21 L2195.68 126.21 L2195.68 131.604 L2191.42 131.604 L2191.42 126.21 Z\" fill=\"#000000\" fill-rule=\"nonzero\" fill-opacity=\"1\" /><path clip-path=\"url(#clip350)\" d=\"M2214.64 139.289 Q2211.21 139.289 2209.22 141.974 Q2207.23 144.636 2207.23 149.289 Q2207.23 153.942 2209.2 156.627 Q2211.19 159.289 2214.64 159.289 Q2218.04 159.289 2220.03 156.604 Q2222.02 153.918 2222.02 149.289 Q2222.02 144.682 2220.03 141.997 Q2218.04 139.289 2214.64 139.289 M2214.64 135.678 Q2220.2 135.678 2223.37 139.289 Q2226.54 142.9 2226.54 149.289 Q2226.54 155.655 2223.37 159.289 Q2220.2 162.9 2214.64 162.9 Q2209.06 162.9 2205.89 159.289 Q2202.74 155.655 2202.74 149.289 Q2202.74 142.9 2205.89 139.289 Q2209.06 135.678 2214.64 135.678 Z\" fill=\"#000000\" fill-rule=\"nonzero\" fill-opacity=\"1\" /><path clip-path=\"url(#clip350)\" d=\"M2255.15 146.581 L2255.15 162.229 L2250.89 162.229 L2250.89 146.719 Q2250.89 143.039 2249.45 141.21 Q2248.02 139.382 2245.15 139.382 Q2241.7 139.382 2239.71 141.581 Q2237.72 143.78 2237.72 147.576 L2237.72 162.229 L2233.44 162.229 L2233.44 136.303 L2237.72 136.303 L2237.72 140.331 Q2239.25 137.993 2241.31 136.835 Q2243.39 135.678 2246.1 135.678 Q2250.57 135.678 2252.86 138.456 Q2255.15 141.21 2255.15 146.581 Z\" fill=\"#000000\" fill-rule=\"nonzero\" fill-opacity=\"1\" /></svg>\n"
      ],
      "text/html": [
       "<img src=\"data:image/png;base64,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\" />"
      ]
     },
     "metadata": {},
     "output_type": "display_data"
    },
    {
     "data": {
      "text/html": [
       "<div><div style = \"float: left;\"><span>201×1 DataFrame</span></div><div style = \"float: right;\"><span style = \"font-style: italic;\">176 rows omitted</span></div><div style = \"clear: both;\"></div></div><div class = \"data-frame\" style = \"overflow-x: scroll;\"><table class = \"data-frame\" style = \"margin-bottom: 6px;\"><thead><tr class = \"header\"><th class = \"rowNumber\" style = \"font-weight: bold; text-align: right;\">Row</th><th style = \"text-align: left;\">magnetisation</th></tr><tr class = \"subheader headerLastRow\"><th class = \"rowNumber\" style = \"font-weight: bold; text-align: right;\"></th><th title = \"Float64\" style = \"text-align: left;\">Float64</th></tr></thead><tbody><tr><td class = \"rowNumber\" style = \"font-weight: bold; text-align: right;\">1</td><td style = \"text-align: right;\">0.11</td></tr><tr><td class = \"rowNumber\" style = \"font-weight: bold; text-align: right;\">2</td><td style = \"text-align: right;\">0.095275</td></tr><tr><td class = \"rowNumber\" style = \"font-weight: bold; text-align: right;\">3</td><td style = \"text-align: right;\">0.0502382</td></tr><tr><td class = \"rowNumber\" style = \"font-weight: bold; text-align: right;\">4</td><td style = \"text-align: right;\">0.0951256</td></tr><tr><td class = \"rowNumber\" style = \"font-weight: bold; text-align: right;\">5</td><td style = \"text-align: right;\">0.0752378</td></tr><tr><td class = \"rowNumber\" style = \"font-weight: bold; text-align: right;\">6</td><td style = \"text-align: right;\">0.0451881</td></tr><tr><td class = \"rowNumber\" style = \"font-weight: bold; text-align: right;\">7</td><td style = \"text-align: right;\">0.065113</td></tr><tr><td class = \"rowNumber\" style = \"font-weight: bold; text-align: right;\">8</td><td style = \"text-align: right;\">0.0851628</td></tr><tr><td class = \"rowNumber\" style = \"font-weight: bold; text-align: right;\">9</td><td style = \"text-align: right;\">0.110213</td></tr><tr><td class = \"rowNumber\" style = \"font-weight: bold; text-align: right;\">10</td><td style = \"text-align: right;\">0.100276</td></tr><tr><td class = \"rowNumber\" style = \"font-weight: bold; text-align: right;\">11</td><td style = \"text-align: right;\">0.115251</td></tr><tr><td class = \"rowNumber\" style = \"font-weight: bold; text-align: right;\">12</td><td style = \"text-align: right;\">0.125288</td></tr><tr><td class = \"rowNumber\" style = \"font-weight: bold; text-align: right;\">13</td><td style = \"text-align: right;\">0.155313</td></tr><tr><td style = \"text-align: right;\">&vellip;</td><td style = \"text-align: right;\">&vellip;</td></tr><tr><td class = \"rowNumber\" style = \"font-weight: bold; text-align: right;\">190</td><td style = \"text-align: right;\">0.230551</td></tr><tr><td class = \"rowNumber\" style = \"font-weight: bold; text-align: right;\">191</td><td style = \"text-align: right;\">0.220576</td></tr><tr><td class = \"rowNumber\" style = \"font-weight: bold; text-align: right;\">192</td><td style = \"text-align: right;\">0.215551</td></tr><tr><td class = \"rowNumber\" style = \"font-weight: bold; text-align: right;\">193</td><td style = \"text-align: right;\">0.200539</td></tr><tr><td class = \"rowNumber\" style = \"font-weight: bold; text-align: right;\">194</td><td style = \"text-align: right;\">0.210501</td></tr><tr><td class = \"rowNumber\" style = \"font-weight: bold; text-align: right;\">195</td><td style = \"text-align: right;\">0.215526</td></tr><tr><td class = \"rowNumber\" style = \"font-weight: bold; text-align: right;\">196</td><td style = \"text-align: right;\">0.205539</td></tr><tr><td class = \"rowNumber\" style = \"font-weight: bold; text-align: right;\">197</td><td style = \"text-align: right;\">0.205514</td></tr><tr><td class = \"rowNumber\" style = \"font-weight: bold; text-align: right;\">198</td><td style = \"text-align: right;\">0.190514</td></tr><tr><td class = \"rowNumber\" style = \"font-weight: bold; text-align: right;\">199</td><td style = \"text-align: right;\">0.185476</td></tr><tr><td class = \"rowNumber\" style = \"font-weight: bold; text-align: right;\">200</td><td style = \"text-align: right;\">0.185464</td></tr><tr><td class = \"rowNumber\" style = \"font-weight: bold; text-align: right;\">201</td><td style = \"text-align: right;\">0.175464</td></tr></tbody></table></div>"
      ],
      "text/latex": [
       "\\begin{tabular}{r|c}\n",
       "\t& magnetisation\\\\\n",
       "\t\\hline\n",
       "\t& Float64\\\\\n",
       "\t\\hline\n",
       "\t1 & 0.11 \\\\\n",
       "\t2 & 0.095275 \\\\\n",
       "\t3 & 0.0502382 \\\\\n",
       "\t4 & 0.0951256 \\\\\n",
       "\t5 & 0.0752378 \\\\\n",
       "\t6 & 0.0451881 \\\\\n",
       "\t7 & 0.065113 \\\\\n",
       "\t8 & 0.0851628 \\\\\n",
       "\t9 & 0.110213 \\\\\n",
       "\t10 & 0.100276 \\\\\n",
       "\t11 & 0.115251 \\\\\n",
       "\t12 & 0.125288 \\\\\n",
       "\t13 & 0.155313 \\\\\n",
       "\t14 & 0.210388 \\\\\n",
       "\t15 & 0.235526 \\\\\n",
       "\t16 & 0.245589 \\\\\n",
       "\t17 & 0.260614 \\\\\n",
       "\t18 & 0.265652 \\\\\n",
       "\t19 & 0.275664 \\\\\n",
       "\t20 & 0.280689 \\\\\n",
       "\t21 & 0.270702 \\\\\n",
       "\t22 & 0.275677 \\\\\n",
       "\t23 & 0.305689 \\\\\n",
       "\t24 & 0.315764 \\\\\n",
       "\t25 & 0.325789 \\\\\n",
       "\t26 & 0.355814 \\\\\n",
       "\t27 & 0.37089 \\\\\n",
       "\t28 & 0.365927 \\\\\n",
       "\t29 & 0.380915 \\\\\n",
       "\t30 & 0.350952 \\\\\n",
       "\t$\\dots$ & $\\dots$ \\\\\n",
       "\\end{tabular}\n"
      ],
      "text/plain": [
       "\u001b[1m201×1 DataFrame\u001b[0m\n",
       "\u001b[1m Row \u001b[0m│\u001b[1m magnetisation \u001b[0m\n",
       "     │\u001b[90m Float64       \u001b[0m\n",
       "─────┼───────────────\n",
       "   1 │     0.11\n",
       "   2 │     0.095275\n",
       "   3 │     0.0502382\n",
       "   4 │     0.0951256\n",
       "   5 │     0.0752378\n",
       "   6 │     0.0451881\n",
       "   7 │     0.065113\n",
       "   8 │     0.0851628\n",
       "   9 │     0.110213\n",
       "  10 │     0.100276\n",
       "  11 │     0.115251\n",
       "  ⋮  │       ⋮\n",
       " 192 │     0.215551\n",
       " 193 │     0.200539\n",
       " 194 │     0.210501\n",
       " 195 │     0.215526\n",
       " 196 │     0.205539\n",
       " 197 │     0.205514\n",
       " 198 │     0.190514\n",
       " 199 │     0.185476\n",
       " 200 │     0.185464\n",
       " 201 │     0.175464\n",
       "\u001b[36m     180 rows omitted\u001b[0m"
      ]
     },
     "execution_count": 12,
     "metadata": {},
     "output_type": "execute_result"
    }
   ],
   "source": [
    "df = get_nodes_avg_props(model, node -> node.spin, labels=[\"magnetisation\"], plot_result = true)"
   ]
  }
 ],
 "metadata": {
  "@webio": {
   "lastCommId": "11558322d0e642618f32063b92c35404",
   "lastKernelId": "782e7939-1246-4372-9788-6042fd9c1557"
  },
  "kernelspec": {
   "display_name": "Julia 1.9.2",
   "language": "julia",
   "name": "julia-1.9"
  },
  "language_info": {
   "file_extension": ".jl",
   "mimetype": "application/julia",
   "name": "julia",
   "version": "1.9.2"
  }
 },
 "nbformat": 4,
 "nbformat_minor": 4
}
