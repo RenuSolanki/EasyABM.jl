{
 "cells": [
  {
   "cell_type": "markdown",
   "metadata": {},
   "source": [
    "# Ising model\n",
    "\n",
    "We use Ising model as an example of using Graph Models in EasyABM. We will set up and run Ising model on a grid graph, however one can choose graph of any other \n",
    "topology as well."
   ]
  },
  {
   "cell_type": "code",
   "execution_count": 1,
   "metadata": {},
   "outputs": [
    {
     "name": "stderr",
     "output_type": "stream",
     "text": [
      "\u001b[32m\u001b[1m  Activating\u001b[22m\u001b[39m project at `~/Documents/EasyABM`\n"
     ]
    },
    {
     "data": {
      "application/vnd.webio.node+json": {
       "children": [],
       "instanceArgs": {
        "namespace": "html",
        "tag": "div"
       },
       "nodeType": "DOM",
       "props": {},
       "type": "node"
      },
      "text/html": [
       "<div style=\"padding: 1em; background-color: #f8d6da; border: 1px solid #f5c6cb; font-weight: bold;\">\n",
       "<p>The WebIO Jupyter extension was not detected. See the\n",
       "<a href=\"https://juliagizmos.github.io/WebIO.jl/latest/providers/ijulia/\" target=\"_blank\">\n",
       "    WebIO Jupyter integration documentation\n",
       "</a>\n",
       "for more information.\n",
       "</div>\n"
      ],
      "text/plain": [
       "WebIO._IJuliaInit()"
      ]
     },
     "metadata": {
      "application/vnd.webio.node+json": {
       "kernelId": "59ae0399-17e5-4a1e-bd11-e510a7b45386"
      }
     },
     "output_type": "display_data"
    }
   ],
   "source": [
    "using Pkg, Revise\n",
    "Pkg.activate(joinpath(@__DIR__, \"../..\"))\n",
    "using EasyABM"
   ]
  },
  {
   "cell_type": "markdown",
   "metadata": {},
   "source": [
    "## Step 1: Create Model\n",
    "\n",
    "In this model we will work solely with the graph and won't require agents. We create a grid graph of size 20x20, and then create our graph model as follows. "
   ]
  },
  {
   "cell_type": "code",
   "execution_count": 2,
   "metadata": {},
   "outputs": [],
   "source": [
    "graph = square_grid_graph(20,20);"
   ]
  },
  {
   "cell_type": "code",
   "execution_count": 3,
   "metadata": {},
   "outputs": [
    {
     "data": {
      "text/plain": [
       "EasyABM GraphModel{Static, Static, EasyABM.SimG}: In a {Static, Static} model both graph topology and agents number is fixed.\n"
      ]
     },
     "execution_count": 3,
     "metadata": {},
     "output_type": "execute_result"
    }
   ],
   "source": [
    "model = create_graph_model(graph, temp = 0.1, coupl = 1.0)"
   ]
  },
  {
   "cell_type": "markdown",
   "metadata": {},
   "source": [
    "The model has two parameters temperature `temp` and coupling `coupl`. "
   ]
  },
  {
   "cell_type": "markdown",
   "metadata": {},
   "source": [
    "## Step 2: Initialise the model\n",
    "\n",
    "In the second step we initialise the nodes of the graph through `initialiser!` function and then sending it as an argument to `init_model!`. In the `initialiser!` function we randomly set each node's color to either `cl\"black\"` or `cl\"white\"` and set their spin values to +1 for `cl\"black\"` nodes and -1 for `cl\"white\"` nodes. In the `init_model!` function the argument `props_to_record` specifies the nodes properties which we want to record during model run. "
   ]
  },
  {
   "cell_type": "code",
   "execution_count": 4,
   "metadata": {},
   "outputs": [
    {
     "data": {
      "text/plain": [
       "initialiser! (generic function with 1 method)"
      ]
     },
     "execution_count": 4,
     "metadata": {},
     "output_type": "execute_result"
    }
   ],
   "source": [
    "function initialiser!(model)\n",
    "    for node in vertices(model.graph)\n",
    "        if rand()<0.5\n",
    "            model.graph.nodesprops[node].spin = 1\n",
    "            model.graph.nodesprops[node].color = cl\"black\"\n",
    "        else\n",
    "            model.graph.nodesprops[node].spin = -1\n",
    "            model.graph.nodesprops[node].color = cl\"white\"\n",
    "        end\n",
    "    end\n",
    "end\n",
    "  "
   ]
  },
  {
   "cell_type": "code",
   "execution_count": 8,
   "metadata": {},
   "outputs": [],
   "source": [
    "init_model!(model, initialiser=initialiser!, props_to_record = Dict(\"nodes\"=>Set([:color, :spin]))) "
   ]
  },
  {
   "cell_type": "markdown",
   "metadata": {},
   "source": [
    "## Step 3: Run the model\n",
    "\n",
    "In this step we implement the step logic of the Ising model in the `step_rule!` function and run the model for 100 steps. At each step of the simulation we take \n",
    "100 Monte Carlo steps, where in each Monte Carlo step a node is selected at random and its spin and color values are flipped if the Ising energy condition is satisfied. "
   ]
  },
  {
   "cell_type": "code",
   "execution_count": 9,
   "metadata": {},
   "outputs": [
    {
     "data": {
      "text/plain": [
       "400"
      ]
     },
     "execution_count": 9,
     "metadata": {},
     "output_type": "execute_result"
    }
   ],
   "source": [
    "const nn = num_nodes(model)"
   ]
  },
  {
   "cell_type": "code",
   "execution_count": 10,
   "metadata": {},
   "outputs": [
    {
     "data": {
      "text/plain": [
       "step_rule! (generic function with 1 method)"
      ]
     },
     "execution_count": 10,
     "metadata": {},
     "output_type": "execute_result"
    }
   ],
   "source": [
    "function step_rule!(model)\n",
    "    for i in 1:100\n",
    "        random_node = rand(1:nn)\n",
    "        spin = model.graph.nodesprops[random_node].spin\n",
    "        nbr_nodes = neighbor_nodes(random_node, model)\n",
    "        de = 0.0\n",
    "        for node in nbr_nodes\n",
    "            nbr_spin = model.graph.nodesprops[node].spin\n",
    "            de += spin*nbr_spin\n",
    "        end\n",
    "        de = 2*model.parameters.coupl * de\n",
    "        if (de < 0) || (rand() < exp(-de/model.parameters.temp))\n",
    "            model.graph.nodesprops[random_node].spin = - spin\n",
    "            model.graph.nodesprops[random_node].color = spin == -1 ? cl\"black\" : cl\"white\"\n",
    "        end\n",
    "    end\n",
    "end"
   ]
  },
  {
   "cell_type": "code",
   "execution_count": 11,
   "metadata": {},
   "outputs": [],
   "source": [
    "run_model!(model, steps = 100, step_rule = step_rule!)"
   ]
  },
  {
   "cell_type": "markdown",
   "metadata": {},
   "source": [
    "## Step 4: Visualisation"
   ]
  },
  {
   "cell_type": "markdown",
   "metadata": {},
   "source": [
    "In order to draw the model at a specific frame, say 4th, one can do"
   ]
  },
  {
   "cell_type": "code",
   "execution_count": 12,
   "metadata": {
    "scrolled": true
   },
   "outputs": [
    {
     "data": {
      "image/png": "[encoded data removed]",
      "text/plain": []
     },
     "execution_count": 12,
     "metadata": {},
     "output_type": "execute_result"
    }
   ],
   "source": [
    "draw_frame(model, frame = 4)"
   ]
  },
  {
   "cell_type": "markdown",
   "metadata": {},
   "source": [
    " If one wants to see the animation of the model run, it can be done as "
   ]
  },
  {
   "cell_type": "code",
   "execution_count": 13,
   "metadata": {},
   "outputs": [
    {
     "data": {
      "application/vnd.webio.node+json": {
       "children": [
        {
         "children": [
          {
           "children": [
            {
             "children": [
              {
               "children": [
                {
                 "children": [
                  {
                   "children": [
                    {
                     "children": [
                      "time"
                     ],
                     "instanceArgs": {
                      "namespace": "html",
                      "tag": "label"
                     },
                     "nodeType": "DOM",
                     "props": {
                      "className": "interact ",
                      "style": {
                       "padding": "5px 10px 0px 10px"
                      }
                     },
                     "type": "node"
                    }
                   ],
                   "instanceArgs": {
                    "namespace": "html",
                    "tag": "div"
                   },
                   "nodeType": "DOM",
                   "props": {
                    "className": "interact-flex-row-left"
                   },
                   "type": "node"
                  },
                  {
                   "children": [
                    {
                     "children": [],
                     "instanceArgs": {
                      "namespace": "html",
                      "tag": "input"
                     },
                     "nodeType": "DOM",
                     "props": {
                      "attributes": {
                       "data-bind": "numericValue: index, valueUpdate: 'input', event: {change: function (){this.changes(this.changes()+1)}}",
                       "orient": "horizontal",
                       "type": "range"
                      },
                      "className": "slider slider is-fullwidth",
                      "max": 101,
                      "min": 1,
                      "step": 1,
                      "style": {}
                     },
                     "type": "node"
                    }
                   ],
                   "instanceArgs": {
                    "namespace": "html",
                    "tag": "div"
                   },
                   "nodeType": "DOM",
                   "props": {
                    "className": "interact-flex-row-center"
                   },
                   "type": "node"
                  },
                  {
                   "children": [
                    {
                     "children": [],
                     "instanceArgs": {
                      "namespace": "html",
                      "tag": "p"
                     },
                     "nodeType": "DOM",
                     "props": {
                      "attributes": {
                       "data-bind": "text: formatted_val"
                      }
                     },
                     "type": "node"
                    }
                   ],
                   "instanceArgs": {
                    "namespace": "html",
                    "tag": "div"
                   },
                   "nodeType": "DOM",
                   "props": {
                    "className": "interact-flex-row-right"
                   },
                   "type": "node"
                  }
                 ],
                 "instanceArgs": {
                  "namespace": "html",
                  "tag": "div"
                 },
                 "nodeType": "DOM",
                 "props": {
                  "className": "interact-flex-row interact-widget"
                 },
                 "type": "node"
                }
               ],
               "instanceArgs": {
                "handlers": {
                 "changes": [
                  "(function (val){return (val!=this.model[\"changes\"]()) ? (this.valueFromJulia[\"changes\"]=true, this.model[\"changes\"](val)) : undefined})"
                 ],
                 "index": [
                  "(function (val){return (val!=this.model[\"index\"]()) ? (this.valueFromJulia[\"index\"]=true, this.model[\"index\"](val)) : undefined})"
                 ]
                },
                "id": "9390702003244315440",
                "imports": {
                 "data": [
                  {
                   "name": "knockout",
                   "type": "js",
                   "url": "/assetserver/727383f2a47bd31570b7da84eee7b022dd6d7c78-knockout.js"
                  },
                  {
                   "name": "knockout_punches",
                   "type": "js",
                   "url": "/assetserver/382b41b3b1bd9f26f75861d360bad7f8beea211f-knockout_punches.js"
                  },
                  {
                   "name": null,
                   "type": "js",
                   "url": "/assetserver/5ab20f1060420992a9b82a65b735dee4d81ef413-all.js"
                  },
                  {
                   "name": null,
                   "type": "css",
                   "url": "/assetserver/1cc0ed62837210b80a182cc3676512f895dab686-style.css"
                  },
                  {
                   "name": null,
                   "type": "css",
                   "url": "/assetserver/2eee816f616df3549d7044d45e744fbf8d42bfa1-bulma_confined.min.css"
                  }
                 ],
                 "type": "async_block"
                },
                "mount_callbacks": [
                 "function () {\n    var handler = (function (ko, koPunches) {\n    ko.punches.enableAll();\n    ko.bindingHandlers.numericValue = {\n        init: function(element, valueAccessor, allBindings, data, context) {\n            var stringified = ko.observable(ko.unwrap(valueAccessor()));\n            stringified.subscribe(function(value) {\n                var val = parseFloat(value);\n                if (!isNaN(val)) {\n                    valueAccessor()(val);\n                }\n            });\n            valueAccessor().subscribe(function(value) {\n                var str = JSON.stringify(value);\n                if ((str == \"0\") && ([\"-0\", \"-0.\"].indexOf(stringified()) >= 0))\n                     return;\n                 if ([\"null\", \"\"].indexOf(str) >= 0)\n                     return;\n                stringified(str);\n            });\n            ko.applyBindingsToNode(\n                element,\n                {\n                    value: stringified,\n                    valueUpdate: allBindings.get('valueUpdate'),\n                },\n                context,\n            );\n        }\n    };\n    var json_data = {\"formatted_vals\":[\"1\",\"2\",\"3\",\"4\",\"5\",\"6\",\"7\",\"8\",\"9\",\"10\",\"11\",\"12\",\"13\",\"14\",\"15\",\"16\",\"17\",\"18\",\"19\",\"20\",\"21\",\"22\",\"23\",\"24\",\"25\",\"26\",\"27\",\"28\",\"29\",\"30\",\"31\",\"32\",\"33\",\"34\",\"35\",\"36\",\"37\",\"38\",\"39\",\"40\",\"41\",\"42\",\"43\",\"44\",\"45\",\"46\",\"47\",\"48\",\"49\",\"50\",\"51\",\"52\",\"53\",\"54\",\"55\",\"56\",\"57\",\"58\",\"59\",\"60\",\"61\",\"62\",\"63\",\"64\",\"65\",\"66\",\"67\",\"68\",\"69\",\"70\",\"71\",\"72\",\"73\",\"74\",\"75\",\"76\",\"77\",\"78\",\"79\",\"80\",\"81\",\"82\",\"83\",\"84\",\"85\",\"86\",\"87\",\"88\",\"89\",\"90\",\"91\",\"92\",\"93\",\"94\",\"95\",\"96\",\"97\",\"98\",\"99\",\"100\",\"101\"],\"changes\":WebIO.getval({\"name\":\"changes\",\"scope\":\"9390702003244315440\",\"id\":\"5509751857301605366\",\"type\":\"observable\"}),\"index\":WebIO.getval({\"name\":\"index\",\"scope\":\"9390702003244315440\",\"id\":\"13023880446043348852\",\"type\":\"observable\"})};\n    var self = this;\n    function AppViewModel() {\n        for (var key in json_data) {\n            var el = json_data[key];\n            this[key] = Array.isArray(el) ? ko.observableArray(el) : ko.observable(el);\n        }\n        \n        [this[\"formatted_val\"]=ko.computed(    function(){\n        return this.formatted_vals()[parseInt(this.index())-(1)];\n    }\n,this)]\n        [this[\"changes\"].subscribe((function (val){!(this.valueFromJulia[\"changes\"]) ? (WebIO.setval({\"name\":\"changes\",\"scope\":\"9390702003244315440\",\"id\":\"5509751857301605366\",\"type\":\"observable\"},val)) : undefined; return this.valueFromJulia[\"changes\"]=false}),self),this[\"index\"].subscribe((function (val){!(this.valueFromJulia[\"index\"]) ? (WebIO.setval({\"name\":\"index\",\"scope\":\"9390702003244315440\",\"id\":\"13023880446043348852\",\"type\":\"observable\"},val)) : undefined; return this.valueFromJulia[\"index\"]=false}),self)]\n        \n    }\n    self.model = new AppViewModel();\n    self.valueFromJulia = {};\n    for (var key in json_data) {\n        self.valueFromJulia[key] = false;\n    }\n    ko.applyBindings(self.model, self.dom);\n}\n);\n    (WebIO.importBlock({\"data\":[{\"name\":\"knockout\",\"type\":\"js\",\"url\":\"/assetserver/727383f2a47bd31570b7da84eee7b022dd6d7c78-knockout.js\"},{\"name\":\"knockout_punches\",\"type\":\"js\",\"url\":\"/assetserver/382b41b3b1bd9f26f75861d360bad7f8beea211f-knockout_punches.js\"}],\"type\":\"async_block\"})).then((imports) => handler.apply(this, imports));\n}\n"
                ],
                "observables": {
                 "changes": {
                  "id": "5509751857301605366",
                  "sync": false,
                  "value": 0
                 },
                 "index": {
                  "id": "13023880446043348852",
                  "sync": true,
                  "value": 51
                 }
                },
                "systemjs_options": null
               },
               "nodeType": "Scope",
               "props": {},
               "type": "node"
              }
             ],
             "instanceArgs": {
              "namespace": "html",
              "tag": "div"
             },
             "nodeType": "DOM",
             "props": {
              "className": "field interact-widget"
             },
             "type": "node"
            },
            {
             "children": [
              {
               "children": [
                {
                 "children": [
                  {
                   "children": [
                    {
                     "children": [
                      "scale"
                     ],
                     "instanceArgs": {
                      "namespace": "html",
                      "tag": "label"
                     },
                     "nodeType": "DOM",
                     "props": {
                      "className": "interact ",
                      "style": {
                       "padding": "5px 10px 0px 10px"
                      }
                     },
                     "type": "node"
                    }
                   ],
                   "instanceArgs": {
                    "namespace": "html",
                    "tag": "div"
                   },
                   "nodeType": "DOM",
                   "props": {
                    "className": "interact-flex-row-left"
                   },
                   "type": "node"
                  },
                  {
                   "children": [
                    {
                     "children": [],
                     "instanceArgs": {
                      "namespace": "html",
                      "tag": "input"
                     },
                     "nodeType": "DOM",
                     "props": {
                      "attributes": {
                       "data-bind": "numericValue: index, valueUpdate: 'input', event: {change: function (){this.changes(this.changes()+1)}}",
                       "orient": "horizontal",
                       "type": "range"
                      },
                      "className": "slider slider is-fullwidth",
                      "max": 20,
                      "min": 1,
                      "step": 1,
                      "style": {}
                     },
                     "type": "node"
                    }
                   ],
                   "instanceArgs": {
                    "namespace": "html",
                    "tag": "div"
                   },
                   "nodeType": "DOM",
                   "props": {
                    "className": "interact-flex-row-center"
                   },
                   "type": "node"
                  },
                  {
                   "children": [
                    {
                     "children": [],
                     "instanceArgs": {
                      "namespace": "html",
                      "tag": "p"
                     },
                     "nodeType": "DOM",
                     "props": {
                      "attributes": {
                       "data-bind": "text: formatted_val"
                      }
                     },
                     "type": "node"
                    }
                   ],
                   "instanceArgs": {
                    "namespace": "html",
                    "tag": "div"
                   },
                   "nodeType": "DOM",
                   "props": {
                    "className": "interact-flex-row-right"
                   },
                   "type": "node"
                  }
                 ],
                 "instanceArgs": {
                  "namespace": "html",
                  "tag": "div"
                 },
                 "nodeType": "DOM",
                 "props": {
                  "className": "interact-flex-row interact-widget"
                 },
                 "type": "node"
                }
               ],
               "instanceArgs": {
                "handlers": {
                 "changes": [
                  "(function (val){return (val!=this.model[\"changes\"]()) ? (this.valueFromJulia[\"changes\"]=true, this.model[\"changes\"](val)) : undefined})"
                 ],
                 "index": [
                  "(function (val){return (val!=this.model[\"index\"]()) ? (this.valueFromJulia[\"index\"]=true, this.model[\"index\"](val)) : undefined})"
                 ]
                },
                "id": "11628703271295953027",
                "imports": {
                 "data": [
                  {
                   "name": "knockout",
                   "type": "js",
                   "url": "/assetserver/727383f2a47bd31570b7da84eee7b022dd6d7c78-knockout.js"
                  },
                  {
                   "name": "knockout_punches",
                   "type": "js",
                   "url": "/assetserver/382b41b3b1bd9f26f75861d360bad7f8beea211f-knockout_punches.js"
                  },
                  {
                   "name": null,
                   "type": "js",
                   "url": "/assetserver/5ab20f1060420992a9b82a65b735dee4d81ef413-all.js"
                  },
                  {
                   "name": null,
                   "type": "css",
                   "url": "/assetserver/1cc0ed62837210b80a182cc3676512f895dab686-style.css"
                  },
                  {
                   "name": null,
                   "type": "css",
                   "url": "/assetserver/2eee816f616df3549d7044d45e744fbf8d42bfa1-bulma_confined.min.css"
                  }
                 ],
                 "type": "async_block"
                },
                "mount_callbacks": [
                 "function () {\n    var handler = (function (ko, koPunches) {\n    ko.punches.enableAll();\n    ko.bindingHandlers.numericValue = {\n        init: function(element, valueAccessor, allBindings, data, context) {\n            var stringified = ko.observable(ko.unwrap(valueAccessor()));\n            stringified.subscribe(function(value) {\n                var val = parseFloat(value);\n                if (!isNaN(val)) {\n                    valueAccessor()(val);\n                }\n            });\n            valueAccessor().subscribe(function(value) {\n                var str = JSON.stringify(value);\n                if ((str == \"0\") && ([\"-0\", \"-0.\"].indexOf(stringified()) >= 0))\n                     return;\n                 if ([\"null\", \"\"].indexOf(str) >= 0)\n                     return;\n                stringified(str);\n            });\n            ko.applyBindingsToNode(\n                element,\n                {\n                    value: stringified,\n                    valueUpdate: allBindings.get('valueUpdate'),\n                },\n                context,\n            );\n        }\n    };\n    var json_data = {\"formatted_vals\":[\"0.1\",\"0.2\",\"0.3\",\"0.4\",\"0.5\",\"0.6\",\"0.7\",\"0.8\",\"0.9\",\"1.0\",\"1.1\",\"1.2\",\"1.3\",\"1.4\",\"1.5\",\"1.6\",\"1.7\",\"1.8\",\"1.9\",\"2.0\"],\"changes\":WebIO.getval({\"name\":\"changes\",\"scope\":\"11628703271295953027\",\"id\":\"14544836565126363160\",\"type\":\"observable\"}),\"index\":WebIO.getval({\"name\":\"index\",\"scope\":\"11628703271295953027\",\"id\":\"9543718811994825399\",\"type\":\"observable\"})};\n    var self = this;\n    function AppViewModel() {\n        for (var key in json_data) {\n            var el = json_data[key];\n            this[key] = Array.isArray(el) ? ko.observableArray(el) : ko.observable(el);\n        }\n        \n        [this[\"formatted_val\"]=ko.computed(    function(){\n        return this.formatted_vals()[parseInt(this.index())-(1)];\n    }\n,this)]\n        [this[\"changes\"].subscribe((function (val){!(this.valueFromJulia[\"changes\"]) ? (WebIO.setval({\"name\":\"changes\",\"scope\":\"11628703271295953027\",\"id\":\"14544836565126363160\",\"type\":\"observable\"},val)) : undefined; return this.valueFromJulia[\"changes\"]=false}),self),this[\"index\"].subscribe((function (val){!(this.valueFromJulia[\"index\"]) ? (WebIO.setval({\"name\":\"index\",\"scope\":\"11628703271295953027\",\"id\":\"9543718811994825399\",\"type\":\"observable\"},val)) : undefined; return this.valueFromJulia[\"index\"]=false}),self)]\n        \n    }\n    self.model = new AppViewModel();\n    self.valueFromJulia = {};\n    for (var key in json_data) {\n        self.valueFromJulia[key] = false;\n    }\n    ko.applyBindings(self.model, self.dom);\n}\n);\n    (WebIO.importBlock({\"data\":[{\"name\":\"knockout\",\"type\":\"js\",\"url\":\"/assetserver/727383f2a47bd31570b7da84eee7b022dd6d7c78-knockout.js\"},{\"name\":\"knockout_punches\",\"type\":\"js\",\"url\":\"/assetserver/382b41b3b1bd9f26f75861d360bad7f8beea211f-knockout_punches.js\"}],\"type\":\"async_block\"})).then((imports) => handler.apply(this, imports));\n}\n"
                ],
                "observables": {
                 "changes": {
                  "id": "14544836565126363160",
                  "sync": false,
                  "value": 0
                 },
                 "index": {
                  "id": "9543718811994825399",
                  "sync": true,
                  "value": 10
                 }
                },
                "systemjs_options": null
               },
               "nodeType": "Scope",
               "props": {},
               "type": "node"
              }
             ],
             "instanceArgs": {
              "namespace": "html",
              "tag": "div"
             },
             "nodeType": "DOM",
             "props": {
              "className": "field interact-widget"
             },
             "type": "node"
            },
            {
             "children": [
              {
               "children": [
                {
                 "children": [
                  {
                   "children": [],
                   "instanceArgs": {
                    "namespace": "html",
                    "tag": "div"
                   },
                   "nodeType": "DOM",
                   "props": {
                    "id": "container"
                   },
                   "type": "node"
                  }
                 ],
                 "instanceArgs": {
                  "handlers": {
                   "value": [
                    "(function (txt){return this.k.render(txt,this.container)})"
                   ]
                  },
                  "id": "8210353255918121578",
                  "imports": {
                   "data": [
                    {
                     "name": null,
                     "type": "js",
                     "url": "/assetserver/dd22ed1bf1896c2748f3fe616ce0b838adc895c1-katex.min.js"
                    },
                    {
                     "name": null,
                     "type": "css",
                     "url": "/assetserver/46517a424aa5e6cffc1360d7e0848b601c584ee3-katex.min.css"
                    }
                   ],
                   "type": "async_block"
                  },
                  "mount_callbacks": [
                   "function () {\n    var handler = ((function (k){this.k=k; this.container=this.dom.querySelector(\"#container\"); return k.render(\"\\\\;\\\\;\",this.container)}));\n    (WebIO.importBlock({\"data\":[{\"name\":null,\"type\":\"js\",\"url\":\"/assetserver/dd22ed1bf1896c2748f3fe616ce0b838adc895c1-katex.min.js\"},{\"name\":null,\"type\":\"css\",\"url\":\"/assetserver/46517a424aa5e6cffc1360d7e0848b601c584ee3-katex.min.css\"}],\"type\":\"async_block\"})).then((imports) => handler.apply(this, imports));\n}\n"
                  ],
                  "observables": {
                   "value": {
                    "id": "9525473659904385250",
                    "sync": false,
                    "value": "\\;\\;"
                   }
                  },
                  "systemjs_options": null
                 },
                 "nodeType": "Scope",
                 "props": {},
                 "type": "node"
                }
               ],
               "instanceArgs": {
                "namespace": "html",
                "tag": "div"
               },
               "nodeType": "DOM",
               "props": {
                "className": "interact-widget"
               },
               "type": "node"
              },
              {
               "children": [
                {
                 "children": [
                  {
                   "children": [
                    "run"
                   ],
                   "instanceArgs": {
                    "namespace": "html",
                    "tag": "button"
                   },
                   "nodeType": "DOM",
                   "props": {
                    "attributes": {
                     "data-bind": "click: function (){this.clicks(this.clicks()+1)}, css: {'is-loading' : loading}"
                    },
                    "className": "is-medium button is-primary",
                    "style": {}
                   },
                   "type": "node"
                  }
                 ],
                 "instanceArgs": {
                  "handlers": {
                   "clicks": [
                    "(function (val){return (val!=this.model[\"clicks\"]()) ? (this.valueFromJulia[\"clicks\"]=true, this.model[\"clicks\"](val)) : undefined})"
                   ],
                   "loading": [
                    "(function (val){return (val!=this.model[\"loading\"]()) ? (this.valueFromJulia[\"loading\"]=true, this.model[\"loading\"](val)) : undefined})"
                   ]
                  },
                  "id": "1086349807809010779",
                  "imports": {
                   "data": [
                    {
                     "name": "knockout",
                     "type": "js",
                     "url": "/assetserver/727383f2a47bd31570b7da84eee7b022dd6d7c78-knockout.js"
                    },
                    {
                     "name": "knockout_punches",
                     "type": "js",
                     "url": "/assetserver/382b41b3b1bd9f26f75861d360bad7f8beea211f-knockout_punches.js"
                    },
                    {
                     "name": null,
                     "type": "js",
                     "url": "/assetserver/5ab20f1060420992a9b82a65b735dee4d81ef413-all.js"
                    },
                    {
                     "name": null,
                     "type": "css",
                     "url": "/assetserver/1cc0ed62837210b80a182cc3676512f895dab686-style.css"
                    },
                    {
                     "name": null,
                     "type": "css",
                     "url": "/assetserver/2eee816f616df3549d7044d45e744fbf8d42bfa1-bulma_confined.min.css"
                    }
                   ],
                   "type": "async_block"
                  },
                  "mount_callbacks": [
                   "function () {\n    var handler = (function (ko, koPunches) {\n    ko.punches.enableAll();\n    ko.bindingHandlers.numericValue = {\n        init: function(element, valueAccessor, allBindings, data, context) {\n            var stringified = ko.observable(ko.unwrap(valueAccessor()));\n            stringified.subscribe(function(value) {\n                var val = parseFloat(value);\n                if (!isNaN(val)) {\n                    valueAccessor()(val);\n                }\n            });\n            valueAccessor().subscribe(function(value) {\n                var str = JSON.stringify(value);\n                if ((str == \"0\") && ([\"-0\", \"-0.\"].indexOf(stringified()) >= 0))\n                     return;\n                 if ([\"null\", \"\"].indexOf(str) >= 0)\n                     return;\n                stringified(str);\n            });\n            ko.applyBindingsToNode(\n                element,\n                {\n                    value: stringified,\n                    valueUpdate: allBindings.get('valueUpdate'),\n                },\n                context,\n            );\n        }\n    };\n    var json_data = {\"loading\":WebIO.getval({\"name\":\"loading\",\"scope\":\"1086349807809010779\",\"id\":\"15943878162624663857\",\"type\":\"observable\"}),\"clicks\":WebIO.getval({\"name\":\"clicks\",\"scope\":\"1086349807809010779\",\"id\":\"15342807870046011735\",\"type\":\"observable\"})};\n    var self = this;\n    function AppViewModel() {\n        for (var key in json_data) {\n            var el = json_data[key];\n            this[key] = Array.isArray(el) ? ko.observableArray(el) : ko.observable(el);\n        }\n        \n        \n        [this[\"loading\"].subscribe((function (val){!(this.valueFromJulia[\"loading\"]) ? (WebIO.setval({\"name\":\"loading\",\"scope\":\"1086349807809010779\",\"id\":\"15943878162624663857\",\"type\":\"observable\"},val)) : undefined; return this.valueFromJulia[\"loading\"]=false}),self),this[\"clicks\"].subscribe((function (val){!(this.valueFromJulia[\"clicks\"]) ? (WebIO.setval({\"name\":\"clicks\",\"scope\":\"1086349807809010779\",\"id\":\"15342807870046011735\",\"type\":\"observable\"},val)) : undefined; return this.valueFromJulia[\"clicks\"]=false}),self)]\n        \n    }\n    self.model = new AppViewModel();\n    self.valueFromJulia = {};\n    for (var key in json_data) {\n        self.valueFromJulia[key] = false;\n    }\n    ko.applyBindings(self.model, self.dom);\n}\n);\n    (WebIO.importBlock({\"data\":[{\"name\":\"knockout\",\"type\":\"js\",\"url\":\"/assetserver/727383f2a47bd31570b7da84eee7b022dd6d7c78-knockout.js\"},{\"name\":\"knockout_punches\",\"type\":\"js\",\"url\":\"/assetserver/382b41b3b1bd9f26f75861d360bad7f8beea211f-knockout_punches.js\"}],\"type\":\"async_block\"})).then((imports) => handler.apply(this, imports));\n}\n"
                  ],
                  "observables": {
                   "clicks": {
                    "id": "15342807870046011735",
                    "sync": true,
                    "value": 0
                   },
                   "loading": {
                    "id": "15943878162624663857",
                    "sync": false,
                    "value": false
                   }
                  },
                  "systemjs_options": null
                 },
                 "nodeType": "Scope",
                 "props": {},
                 "type": "node"
                }
               ],
               "instanceArgs": {
                "namespace": "html",
                "tag": "div"
               },
               "nodeType": "DOM",
               "props": {
                "className": "field interact-widget"
               },
               "type": "node"
              },
              {
               "children": [
                {
                 "children": [
                  {
                   "children": [],
                   "instanceArgs": {
                    "namespace": "html",
                    "tag": "div"
                   },
                   "nodeType": "DOM",
                   "props": {
                    "id": "container"
                   },
                   "type": "node"
                  }
                 ],
                 "instanceArgs": {
                  "handlers": {
                   "value": [
                    "(function (txt){return this.k.render(txt,this.container)})"
                   ]
                  },
                  "id": "8210353255918121578",
                  "imports": {
                   "data": [
                    {
                     "name": null,
                     "type": "js",
                     "url": "/assetserver/dd22ed1bf1896c2748f3fe616ce0b838adc895c1-katex.min.js"
                    },
                    {
                     "name": null,
                     "type": "css",
                     "url": "/assetserver/46517a424aa5e6cffc1360d7e0848b601c584ee3-katex.min.css"
                    }
                   ],
                   "type": "async_block"
                  },
                  "mount_callbacks": [
                   "function () {\n    var handler = ((function (k){this.k=k; this.container=this.dom.querySelector(\"#container\"); return k.render(\"\\\\;\\\\;\",this.container)}));\n    (WebIO.importBlock({\"data\":[{\"name\":null,\"type\":\"js\",\"url\":\"/assetserver/dd22ed1bf1896c2748f3fe616ce0b838adc895c1-katex.min.js\"},{\"name\":null,\"type\":\"css\",\"url\":\"/assetserver/46517a424aa5e6cffc1360d7e0848b601c584ee3-katex.min.css\"}],\"type\":\"async_block\"})).then((imports) => handler.apply(this, imports));\n}\n"
                  ],
                  "observables": {
                   "value": {
                    "id": "9525473659904385250",
                    "sync": false,
                    "value": "\\;\\;"
                   }
                  },
                  "systemjs_options": null
                 },
                 "nodeType": "Scope",
                 "props": {},
                 "type": "node"
                }
               ],
               "instanceArgs": {
                "namespace": "html",
                "tag": "div"
               },
               "nodeType": "DOM",
               "props": {
                "className": "interact-widget"
               },
               "type": "node"
              },
              {
               "children": [
                {
                 "children": [
                  {
                   "children": [
                    "stop"
                   ],
                   "instanceArgs": {
                    "namespace": "html",
                    "tag": "button"
                   },
                   "nodeType": "DOM",
                   "props": {
                    "attributes": {
                     "data-bind": "click: function (){this.clicks(this.clicks()+1)}, css: {'is-loading' : loading}"
                    },
                    "className": "is-medium button is-primary",
                    "style": {}
                   },
                   "type": "node"
                  }
                 ],
                 "instanceArgs": {
                  "handlers": {
                   "clicks": [
                    "(function (val){return (val!=this.model[\"clicks\"]()) ? (this.valueFromJulia[\"clicks\"]=true, this.model[\"clicks\"](val)) : undefined})"
                   ],
                   "loading": [
                    "(function (val){return (val!=this.model[\"loading\"]()) ? (this.valueFromJulia[\"loading\"]=true, this.model[\"loading\"](val)) : undefined})"
                   ]
                  },
                  "id": "15703743281658870422",
                  "imports": {
                   "data": [
                    {
                     "name": "knockout",
                     "type": "js",
                     "url": "/assetserver/727383f2a47bd31570b7da84eee7b022dd6d7c78-knockout.js"
                    },
                    {
                     "name": "knockout_punches",
                     "type": "js",
                     "url": "/assetserver/382b41b3b1bd9f26f75861d360bad7f8beea211f-knockout_punches.js"
                    },
                    {
                     "name": null,
                     "type": "js",
                     "url": "/assetserver/5ab20f1060420992a9b82a65b735dee4d81ef413-all.js"
                    },
                    {
                     "name": null,
                     "type": "css",
                     "url": "/assetserver/1cc0ed62837210b80a182cc3676512f895dab686-style.css"
                    },
                    {
                     "name": null,
                     "type": "css",
                     "url": "/assetserver/2eee816f616df3549d7044d45e744fbf8d42bfa1-bulma_confined.min.css"
                    }
                   ],
                   "type": "async_block"
                  },
                  "mount_callbacks": [
                   "function () {\n    var handler = (function (ko, koPunches) {\n    ko.punches.enableAll();\n    ko.bindingHandlers.numericValue = {\n        init: function(element, valueAccessor, allBindings, data, context) {\n            var stringified = ko.observable(ko.unwrap(valueAccessor()));\n            stringified.subscribe(function(value) {\n                var val = parseFloat(value);\n                if (!isNaN(val)) {\n                    valueAccessor()(val);\n                }\n            });\n            valueAccessor().subscribe(function(value) {\n                var str = JSON.stringify(value);\n                if ((str == \"0\") && ([\"-0\", \"-0.\"].indexOf(stringified()) >= 0))\n                     return;\n                 if ([\"null\", \"\"].indexOf(str) >= 0)\n                     return;\n                stringified(str);\n            });\n            ko.applyBindingsToNode(\n                element,\n                {\n                    value: stringified,\n                    valueUpdate: allBindings.get('valueUpdate'),\n                },\n                context,\n            );\n        }\n    };\n    var json_data = {\"loading\":WebIO.getval({\"name\":\"loading\",\"scope\":\"15703743281658870422\",\"id\":\"13815928399214152474\",\"type\":\"observable\"}),\"clicks\":WebIO.getval({\"name\":\"clicks\",\"scope\":\"15703743281658870422\",\"id\":\"17897555848833005479\",\"type\":\"observable\"})};\n    var self = this;\n    function AppViewModel() {\n        for (var key in json_data) {\n            var el = json_data[key];\n            this[key] = Array.isArray(el) ? ko.observableArray(el) : ko.observable(el);\n        }\n        \n        \n        [this[\"loading\"].subscribe((function (val){!(this.valueFromJulia[\"loading\"]) ? (WebIO.setval({\"name\":\"loading\",\"scope\":\"15703743281658870422\",\"id\":\"13815928399214152474\",\"type\":\"observable\"},val)) : undefined; return this.valueFromJulia[\"loading\"]=false}),self),this[\"clicks\"].subscribe((function (val){!(this.valueFromJulia[\"clicks\"]) ? (WebIO.setval({\"name\":\"clicks\",\"scope\":\"15703743281658870422\",\"id\":\"17897555848833005479\",\"type\":\"observable\"},val)) : undefined; return this.valueFromJulia[\"clicks\"]=false}),self)]\n        \n    }\n    self.model = new AppViewModel();\n    self.valueFromJulia = {};\n    for (var key in json_data) {\n        self.valueFromJulia[key] = false;\n    }\n    ko.applyBindings(self.model, self.dom);\n}\n);\n    (WebIO.importBlock({\"data\":[{\"name\":\"knockout\",\"type\":\"js\",\"url\":\"/assetserver/727383f2a47bd31570b7da84eee7b022dd6d7c78-knockout.js\"},{\"name\":\"knockout_punches\",\"type\":\"js\",\"url\":\"/assetserver/382b41b3b1bd9f26f75861d360bad7f8beea211f-knockout_punches.js\"}],\"type\":\"async_block\"})).then((imports) => handler.apply(this, imports));\n}\n"
                  ],
                  "observables": {
                   "clicks": {
                    "id": "17897555848833005479",
                    "sync": true,
                    "value": 0
                   },
                   "loading": {
                    "id": "13815928399214152474",
                    "sync": false,
                    "value": false
                   }
                  },
                  "systemjs_options": null
                 },
                 "nodeType": "Scope",
                 "props": {},
                 "type": "node"
                }
               ],
               "instanceArgs": {
                "namespace": "html",
                "tag": "div"
               },
               "nodeType": "DOM",
               "props": {
                "className": "field interact-widget"
               },
               "type": "node"
              },
              {
               "children": [
                {
                 "children": [
                  {
                   "children": [],
                   "instanceArgs": {
                    "namespace": "html",
                    "tag": "div"
                   },
                   "nodeType": "DOM",
                   "props": {
                    "id": "container"
                   },
                   "type": "node"
                  }
                 ],
                 "instanceArgs": {
                  "handlers": {
                   "value": [
                    "(function (txt){return this.k.render(txt,this.container)})"
                   ]
                  },
                  "id": "8210353255918121578",
                  "imports": {
                   "data": [
                    {
                     "name": null,
                     "type": "js",
                     "url": "/assetserver/dd22ed1bf1896c2748f3fe616ce0b838adc895c1-katex.min.js"
                    },
                    {
                     "name": null,
                     "type": "css",
                     "url": "/assetserver/46517a424aa5e6cffc1360d7e0848b601c584ee3-katex.min.css"
                    }
                   ],
                   "type": "async_block"
                  },
                  "mount_callbacks": [
                   "function () {\n    var handler = ((function (k){this.k=k; this.container=this.dom.querySelector(\"#container\"); return k.render(\"\\\\;\\\\;\",this.container)}));\n    (WebIO.importBlock({\"data\":[{\"name\":null,\"type\":\"js\",\"url\":\"/assetserver/dd22ed1bf1896c2748f3fe616ce0b838adc895c1-katex.min.js\"},{\"name\":null,\"type\":\"css\",\"url\":\"/assetserver/46517a424aa5e6cffc1360d7e0848b601c584ee3-katex.min.css\"}],\"type\":\"async_block\"})).then((imports) => handler.apply(this, imports));\n}\n"
                  ],
                  "observables": {
                   "value": {
                    "id": "9525473659904385250",
                    "sync": false,
                    "value": "\\;\\;"
                   }
                  },
                  "systemjs_options": null
                 },
                 "nodeType": "Scope",
                 "props": {},
                 "type": "node"
                }
               ],
               "instanceArgs": {
                "namespace": "html",
                "tag": "div"
               },
               "nodeType": "DOM",
               "props": {
                "className": "interact-widget"
               },
               "type": "node"
              },
              {
               "children": [
                {
                 "children": [
                  {
                   "children": [
                    "save"
                   ],
                   "instanceArgs": {
                    "namespace": "html",
                    "tag": "button"
                   },
                   "nodeType": "DOM",
                   "props": {
                    "attributes": {
                     "data-bind": "click: function (){this.clicks(this.clicks()+1)}, css: {'is-loading' : loading}"
                    },
                    "className": "is-medium button is-primary",
                    "style": {}
                   },
                   "type": "node"
                  }
                 ],
                 "instanceArgs": {
                  "handlers": {
                   "clicks": [
                    "(function (val){return (val!=this.model[\"clicks\"]()) ? (this.valueFromJulia[\"clicks\"]=true, this.model[\"clicks\"](val)) : undefined})"
                   ],
                   "loading": [
                    "(function (val){return (val!=this.model[\"loading\"]()) ? (this.valueFromJulia[\"loading\"]=true, this.model[\"loading\"](val)) : undefined})"
                   ]
                  },
                  "id": "5899973686552307234",
                  "imports": {
                   "data": [
                    {
                     "name": "knockout",
                     "type": "js",
                     "url": "/assetserver/727383f2a47bd31570b7da84eee7b022dd6d7c78-knockout.js"
                    },
                    {
                     "name": "knockout_punches",
                     "type": "js",
                     "url": "/assetserver/382b41b3b1bd9f26f75861d360bad7f8beea211f-knockout_punches.js"
                    },
                    {
                     "name": null,
                     "type": "js",
                     "url": "/assetserver/5ab20f1060420992a9b82a65b735dee4d81ef413-all.js"
                    },
                    {
                     "name": null,
                     "type": "css",
                     "url": "/assetserver/1cc0ed62837210b80a182cc3676512f895dab686-style.css"
                    },
                    {
                     "name": null,
                     "type": "css",
                     "url": "/assetserver/2eee816f616df3549d7044d45e744fbf8d42bfa1-bulma_confined.min.css"
                    }
                   ],
                   "type": "async_block"
                  },
                  "mount_callbacks": [
                   "function () {\n    var handler = (function (ko, koPunches) {\n    ko.punches.enableAll();\n    ko.bindingHandlers.numericValue = {\n        init: function(element, valueAccessor, allBindings, data, context) {\n            var stringified = ko.observable(ko.unwrap(valueAccessor()));\n            stringified.subscribe(function(value) {\n                var val = parseFloat(value);\n                if (!isNaN(val)) {\n                    valueAccessor()(val);\n                }\n            });\n            valueAccessor().subscribe(function(value) {\n                var str = JSON.stringify(value);\n                if ((str == \"0\") && ([\"-0\", \"-0.\"].indexOf(stringified()) >= 0))\n                     return;\n                 if ([\"null\", \"\"].indexOf(str) >= 0)\n                     return;\n                stringified(str);\n            });\n            ko.applyBindingsToNode(\n                element,\n                {\n                    value: stringified,\n                    valueUpdate: allBindings.get('valueUpdate'),\n                },\n                context,\n            );\n        }\n    };\n    var json_data = {\"loading\":WebIO.getval({\"name\":\"loading\",\"scope\":\"5899973686552307234\",\"id\":\"8504591548680071564\",\"type\":\"observable\"}),\"clicks\":WebIO.getval({\"name\":\"clicks\",\"scope\":\"5899973686552307234\",\"id\":\"7135735100736794978\",\"type\":\"observable\"})};\n    var self = this;\n    function AppViewModel() {\n        for (var key in json_data) {\n            var el = json_data[key];\n            this[key] = Array.isArray(el) ? ko.observableArray(el) : ko.observable(el);\n        }\n        \n        \n        [this[\"loading\"].subscribe((function (val){!(this.valueFromJulia[\"loading\"]) ? (WebIO.setval({\"name\":\"loading\",\"scope\":\"5899973686552307234\",\"id\":\"8504591548680071564\",\"type\":\"observable\"},val)) : undefined; return this.valueFromJulia[\"loading\"]=false}),self),this[\"clicks\"].subscribe((function (val){!(this.valueFromJulia[\"clicks\"]) ? (WebIO.setval({\"name\":\"clicks\",\"scope\":\"5899973686552307234\",\"id\":\"7135735100736794978\",\"type\":\"observable\"},val)) : undefined; return this.valueFromJulia[\"clicks\"]=false}),self)]\n        \n    }\n    self.model = new AppViewModel();\n    self.valueFromJulia = {};\n    for (var key in json_data) {\n        self.valueFromJulia[key] = false;\n    }\n    ko.applyBindings(self.model, self.dom);\n}\n);\n    (WebIO.importBlock({\"data\":[{\"name\":\"knockout\",\"type\":\"js\",\"url\":\"/assetserver/727383f2a47bd31570b7da84eee7b022dd6d7c78-knockout.js\"},{\"name\":\"knockout_punches\",\"type\":\"js\",\"url\":\"/assetserver/382b41b3b1bd9f26f75861d360bad7f8beea211f-knockout_punches.js\"}],\"type\":\"async_block\"})).then((imports) => handler.apply(this, imports));\n}\n"
                  ],
                  "observables": {
                   "clicks": {
                    "id": "7135735100736794978",
                    "sync": true,
                    "value": 0
                   },
                   "loading": {
                    "id": "8504591548680071564",
                    "sync": false,
                    "value": false
                   }
                  },
                  "systemjs_options": null
                 },
                 "nodeType": "Scope",
                 "props": {},
                 "type": "node"
                }
               ],
               "instanceArgs": {
                "namespace": "html",
                "tag": "div"
               },
               "nodeType": "DOM",
               "props": {
                "className": "field interact-widget"
               },
               "type": "node"
              }
             ],
             "instanceArgs": {
              "namespace": "html",
              "tag": "div"
             },
             "nodeType": "DOM",
             "props": {
              "style": {
               "display": "flex",
               "flex-direction": "row"
              }
             },
             "type": "node"
            }
           ],
           "instanceArgs": {
            "namespace": "html",
            "tag": "div"
           },
           "nodeType": "DOM",
           "props": {
            "style": {
             "display": "flex",
             "flex-direction": "column"
            }
           },
           "type": "node"
          },
          {
           "children": [
            {
             "children": [
              {
               "children": [],
               "instanceArgs": {
                "namespace": "html",
                "tag": "div"
               },
               "nodeType": "DOM",
               "props": {
                "id": "container"
               },
               "type": "node"
              }
             ],
             "instanceArgs": {
              "handlers": {
               "value": [
                "(function (txt){return this.k.render(txt,this.container)})"
               ]
              },
              "id": "8210353255918121578",
              "imports": {
               "data": [
                {
                 "name": null,
                 "type": "js",
                 "url": "/assetserver/dd22ed1bf1896c2748f3fe616ce0b838adc895c1-katex.min.js"
                },
                {
                 "name": null,
                 "type": "css",
                 "url": "/assetserver/46517a424aa5e6cffc1360d7e0848b601c584ee3-katex.min.css"
                }
               ],
               "type": "async_block"
              },
              "mount_callbacks": [
               "function () {\n    var handler = ((function (k){this.k=k; this.container=this.dom.querySelector(\"#container\"); return k.render(\"\\\\;\\\\;\",this.container)}));\n    (WebIO.importBlock({\"data\":[{\"name\":null,\"type\":\"js\",\"url\":\"/assetserver/dd22ed1bf1896c2748f3fe616ce0b838adc895c1-katex.min.js\"},{\"name\":null,\"type\":\"css\",\"url\":\"/assetserver/46517a424aa5e6cffc1360d7e0848b601c584ee3-katex.min.css\"}],\"type\":\"async_block\"})).then((imports) => handler.apply(this, imports));\n}\n"
              ],
              "observables": {
               "value": {
                "id": "9525473659904385250",
                "sync": false,
                "value": "\\;\\;"
               }
              },
              "systemjs_options": null
             },
             "nodeType": "Scope",
             "props": {},
             "type": "node"
            }
           ],
           "instanceArgs": {
            "namespace": "html",
            "tag": "div"
           },
           "nodeType": "DOM",
           "props": {
            "className": "interact-widget"
           },
           "type": "node"
          },
          {
           "children": [
            {
             "children": [],
             "instanceArgs": {
              "namespace": "html",
              "tag": "div"
             },
             "nodeType": "DOM",
             "props": {
              "className": "webio-observable",
              "setInnerHtml": "<img src='data:image/png;base64,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'></img>"
             },
             "type": "node"
            }
           ],
           "instanceArgs": {
            "handlers": {
             "obs-output": [
              "function (value, scope) {\n    scope.setInnerHTML(value);\n}\n"
             ]
            },
            "id": "17466807190002063184",
            "imports": {
             "data": [],
             "type": "async_block"
            },
            "mount_callbacks": [],
            "observables": {
             "obs-output": {
              "id": "15551305734814770521",
              "sync": false,
              "value": "<img src='data:image/png;base64,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'></img>"
             }
            },
            "systemjs_options": null
           },
           "nodeType": "Scope",
           "props": {},
           "type": "node"
          },
          {
           "children": [
            {
             "children": [
              {
               "children": [],
               "instanceArgs": {
                "namespace": "html",
                "tag": "div"
               },
               "nodeType": "DOM",
               "props": {
                "id": "container"
               },
               "type": "node"
              }
             ],
             "instanceArgs": {
              "handlers": {
               "value": [
                "(function (txt){return this.k.render(txt,this.container)})"
               ]
              },
              "id": "8210353255918121578",
              "imports": {
               "data": [
                {
                 "name": null,
                 "type": "js",
                 "url": "/assetserver/dd22ed1bf1896c2748f3fe616ce0b838adc895c1-katex.min.js"
                },
                {
                 "name": null,
                 "type": "css",
                 "url": "/assetserver/46517a424aa5e6cffc1360d7e0848b601c584ee3-katex.min.css"
                }
               ],
               "type": "async_block"
              },
              "mount_callbacks": [
               "function () {\n    var handler = ((function (k){this.k=k; this.container=this.dom.querySelector(\"#container\"); return k.render(\"\\\\;\\\\;\",this.container)}));\n    (WebIO.importBlock({\"data\":[{\"name\":null,\"type\":\"js\",\"url\":\"/assetserver/dd22ed1bf1896c2748f3fe616ce0b838adc895c1-katex.min.js\"},{\"name\":null,\"type\":\"css\",\"url\":\"/assetserver/46517a424aa5e6cffc1360d7e0848b601c584ee3-katex.min.css\"}],\"type\":\"async_block\"})).then((imports) => handler.apply(this, imports));\n}\n"
              ],
              "observables": {
               "value": {
                "id": "9525473659904385250",
                "sync": false,
                "value": "\\;\\;"
               }
              },
              "systemjs_options": null
             },
             "nodeType": "Scope",
             "props": {},
             "type": "node"
            }
           ],
           "instanceArgs": {
            "namespace": "html",
            "tag": "div"
           },
           "nodeType": "DOM",
           "props": {
            "className": "interact-widget"
           },
           "type": "node"
          },
          {
           "children": [],
           "instanceArgs": {
            "namespace": "html",
            "tag": "div"
           },
           "nodeType": "DOM",
           "props": {
            "style": {
             "display": "flex",
             "flex-direction": "column"
            }
           },
           "type": "node"
          }
         ],
         "instanceArgs": {
          "namespace": "html",
          "tag": "div"
         },
         "nodeType": "DOM",
         "props": {
          "style": {
           "display": "flex",
           "flex-direction": "row"
          }
         },
         "type": "node"
        }
       ],
       "instanceArgs": {
        "namespace": "html",
        "tag": "div"
       },
       "nodeType": "DOM",
       "props": {
        "style": {
         "display": "flex",
         "flex-direction": "column"
        }
       },
       "type": "node"
      },
      "text/html": [
       "<div\n",
       "    class=\"webio-mountpoint\"\n",
       "    data-webio-mountpoint=\"9427424939949095466\"\n",
       ">\n",
       "    <script>\n",
       "    (function(){\n",
       "    // Some integrations (namely, IJulia/Jupyter) use an alternate render pathway than\n",
       "    // just putting the html on the page. If WebIO isn't defined, then it's pretty likely\n",
       "    // that we're in one of those situations and the integration just isn't installed\n",
       "    // correctly.\n",
       "    if (typeof window.WebIO === \"undefined\") {\n",
       "        document\n",
       "            .querySelector('[data-webio-mountpoint=\"9427424939949095466\"]')\n",
       "            .innerHTML = (\n",
       "                '<div style=\"padding: 1em; background-color: #f8d6da; border: 1px solid #f5c6cb; font-weight: bold;\">' +\n",
       "                '<p><strong>WebIO not detected.</strong></p>' +\n",
       "                '<p>Please read ' +\n",
       "                '<a href=\"https://juliagizmos.github.io/WebIO.jl/latest/troubleshooting/not-detected/\" target=\"_blank\">the troubleshooting guide</a> ' +\n",
       "                'for more information on how to resolve this issue.</p>' +\n",
       "                '<p><a href=\"https://juliagizmos.github.io/WebIO.jl/latest/troubleshooting/not-detected/\" target=\"_blank\">https://juliagizmos.github.io/WebIO.jl/latest/troubleshooting/not-detected/</a></p>' +\n",
       "                '</div>'\n",
       "            );\n",
       "        return;\n",
       "    }\n",
       "    WebIO.mount(\n",
       "        document.querySelector('[data-webio-mountpoint=\"9427424939949095466\"]'),\n",
       "        {\"props\":{\"style\":{\"display\":\"flex\",\"flex-direction\":\"column\"}},\"nodeType\":\"DOM\",\"type\":\"node\",\"instanceArgs\":{\"namespace\":\"html\",\"tag\":\"div\"},\"children\":[{\"props\":{\"style\":{\"display\":\"flex\",\"flex-direction\":\"row\"}},\"nodeType\":\"DOM\",\"type\":\"node\",\"instanceArgs\":{\"namespace\":\"html\",\"tag\":\"div\"},\"children\":[{\"props\":{\"style\":{\"display\":\"flex\",\"flex-direction\":\"column\"}},\"nodeType\":\"DOM\",\"type\":\"node\",\"instanceArgs\":{\"namespace\":\"html\",\"tag\":\"div\"},\"children\":[{\"props\":{\"className\":\"field interact-widget\"},\"nodeType\":\"DOM\",\"type\":\"node\",\"instanceArgs\":{\"namespace\":\"html\",\"tag\":\"div\"},\"children\":[{\"props\":{},\"nodeType\":\"Scope\",\"type\":\"node\",\"instanceArgs\":{\"imports\":{\"data\":[{\"name\":\"knockout\",\"type\":\"js\",\"url\":\"\\/assetserver\\/727383f2a47bd31570b7da84eee7b022dd6d7c78-knockout.js\"},{\"name\":\"knockout_punches\",\"type\":\"js\",\"url\":\"\\/assetserver\\/382b41b3b1bd9f26f75861d360bad7f8beea211f-knockout_punches.js\"},{\"name\":null,\"type\":\"js\",\"url\":\"\\/assetserver\\/5ab20f1060420992a9b82a65b735dee4d81ef413-all.js\"},{\"name\":null,\"type\":\"css\",\"url\":\"\\/assetserver\\/1cc0ed62837210b80a182cc3676512f895dab686-style.css\"},{\"name\":null,\"type\":\"css\",\"url\":\"\\/assetserver\\/2eee816f616df3549d7044d45e744fbf8d42bfa1-bulma_confined.min.css\"}],\"type\":\"async_block\"},\"id\":\"9390702003244315440\",\"handlers\":{\"changes\":[\"(function (val){return (val!=this.model[\\\"changes\\\"]()) ? (this.valueFromJulia[\\\"changes\\\"]=true, this.model[\\\"changes\\\"](val)) : undefined})\"],\"index\":[\"(function (val){return (val!=this.model[\\\"index\\\"]()) ? (this.valueFromJulia[\\\"index\\\"]=true, this.model[\\\"index\\\"](val)) : undefined})\"]},\"systemjs_options\":null,\"mount_callbacks\":[\"function () {\\n    var handler = (function (ko, koPunches) {\\n    ko.punches.enableAll();\\n    ko.bindingHandlers.numericValue = {\\n        init: function(element, valueAccessor, allBindings, data, context) {\\n            var stringified = ko.observable(ko.unwrap(valueAccessor()));\\n            stringified.subscribe(function(value) {\\n                var val = parseFloat(value);\\n                if (!isNaN(val)) {\\n                    valueAccessor()(val);\\n                }\\n            });\\n            valueAccessor().subscribe(function(value) {\\n                var str = JSON.stringify(value);\\n                if ((str == \\\"0\\\") && ([\\\"-0\\\", \\\"-0.\\\"].indexOf(stringified()) >= 0))\\n                     return;\\n                 if ([\\\"null\\\", \\\"\\\"].indexOf(str) >= 0)\\n                     return;\\n                stringified(str);\\n            });\\n            ko.applyBindingsToNode(\\n                element,\\n                {\\n                    value: stringified,\\n                    valueUpdate: allBindings.get('valueUpdate'),\\n                },\\n                context,\\n            );\\n        }\\n    };\\n    var json_data = {\\\"formatted_vals\\\":[\\\"1\\\",\\\"2\\\",\\\"3\\\",\\\"4\\\",\\\"5\\\",\\\"6\\\",\\\"7\\\",\\\"8\\\",\\\"9\\\",\\\"10\\\",\\\"11\\\",\\\"12\\\",\\\"13\\\",\\\"14\\\",\\\"15\\\",\\\"16\\\",\\\"17\\\",\\\"18\\\",\\\"19\\\",\\\"20\\\",\\\"21\\\",\\\"22\\\",\\\"23\\\",\\\"24\\\",\\\"25\\\",\\\"26\\\",\\\"27\\\",\\\"28\\\",\\\"29\\\",\\\"30\\\",\\\"31\\\",\\\"32\\\",\\\"33\\\",\\\"34\\\",\\\"35\\\",\\\"36\\\",\\\"37\\\",\\\"38\\\",\\\"39\\\",\\\"40\\\",\\\"41\\\",\\\"42\\\",\\\"43\\\",\\\"44\\\",\\\"45\\\",\\\"46\\\",\\\"47\\\",\\\"48\\\",\\\"49\\\",\\\"50\\\",\\\"51\\\",\\\"52\\\",\\\"53\\\",\\\"54\\\",\\\"55\\\",\\\"56\\\",\\\"57\\\",\\\"58\\\",\\\"59\\\",\\\"60\\\",\\\"61\\\",\\\"62\\\",\\\"63\\\",\\\"64\\\",\\\"65\\\",\\\"66\\\",\\\"67\\\",\\\"68\\\",\\\"69\\\",\\\"70\\\",\\\"71\\\",\\\"72\\\",\\\"73\\\",\\\"74\\\",\\\"75\\\",\\\"76\\\",\\\"77\\\",\\\"78\\\",\\\"79\\\",\\\"80\\\",\\\"81\\\",\\\"82\\\",\\\"83\\\",\\\"84\\\",\\\"85\\\",\\\"86\\\",\\\"87\\\",\\\"88\\\",\\\"89\\\",\\\"90\\\",\\\"91\\\",\\\"92\\\",\\\"93\\\",\\\"94\\\",\\\"95\\\",\\\"96\\\",\\\"97\\\",\\\"98\\\",\\\"99\\\",\\\"100\\\",\\\"101\\\"],\\\"changes\\\":WebIO.getval({\\\"name\\\":\\\"changes\\\",\\\"scope\\\":\\\"9390702003244315440\\\",\\\"id\\\":\\\"5509751857301605366\\\",\\\"type\\\":\\\"observable\\\"}),\\\"index\\\":WebIO.getval({\\\"name\\\":\\\"index\\\",\\\"scope\\\":\\\"9390702003244315440\\\",\\\"id\\\":\\\"13023880446043348852\\\",\\\"type\\\":\\\"observable\\\"})};\\n    var self = this;\\n    function AppViewModel() {\\n        for (var key in json_data) {\\n            var el = json_data[key];\\n            this[key] = Array.isArray(el) ? ko.observableArray(el) : ko.observable(el);\\n        }\\n        \\n        [this[\\\"formatted_val\\\"]=ko.computed(    function(){\\n        return this.formatted_vals()[parseInt(this.index())-(1)];\\n    }\\n,this)]\\n        [this[\\\"changes\\\"].subscribe((function (val){!(this.valueFromJulia[\\\"changes\\\"]) ? (WebIO.setval({\\\"name\\\":\\\"changes\\\",\\\"scope\\\":\\\"9390702003244315440\\\",\\\"id\\\":\\\"5509751857301605366\\\",\\\"type\\\":\\\"observable\\\"},val)) : undefined; return this.valueFromJulia[\\\"changes\\\"]=false}),self),this[\\\"index\\\"].subscribe((function (val){!(this.valueFromJulia[\\\"index\\\"]) ? (WebIO.setval({\\\"name\\\":\\\"index\\\",\\\"scope\\\":\\\"9390702003244315440\\\",\\\"id\\\":\\\"13023880446043348852\\\",\\\"type\\\":\\\"observable\\\"},val)) : undefined; return this.valueFromJulia[\\\"index\\\"]=false}),self)]\\n        \\n    }\\n    self.model = new AppViewModel();\\n    self.valueFromJulia = {};\\n    for (var key in json_data) {\\n        self.valueFromJulia[key] = false;\\n    }\\n    ko.applyBindings(self.model, self.dom);\\n}\\n);\\n    (WebIO.importBlock({\\\"data\\\":[{\\\"name\\\":\\\"knockout\\\",\\\"type\\\":\\\"js\\\",\\\"url\\\":\\\"\\/assetserver\\/727383f2a47bd31570b7da84eee7b022dd6d7c78-knockout.js\\\"},{\\\"name\\\":\\\"knockout_punches\\\",\\\"type\\\":\\\"js\\\",\\\"url\\\":\\\"\\/assetserver\\/382b41b3b1bd9f26f75861d360bad7f8beea211f-knockout_punches.js\\\"}],\\\"type\\\":\\\"async_block\\\"})).then((imports) => handler.apply(this, imports));\\n}\\n\"],\"observables\":{\"changes\":{\"sync\":false,\"id\":\"5509751857301605366\",\"value\":0},\"index\":{\"sync\":true,\"id\":\"13023880446043348852\",\"value\":51}}},\"children\":[{\"props\":{\"className\":\"interact-flex-row interact-widget\"},\"nodeType\":\"DOM\",\"type\":\"node\",\"instanceArgs\":{\"namespace\":\"html\",\"tag\":\"div\"},\"children\":[{\"props\":{\"className\":\"interact-flex-row-left\"},\"nodeType\":\"DOM\",\"type\":\"node\",\"instanceArgs\":{\"namespace\":\"html\",\"tag\":\"div\"},\"children\":[{\"props\":{\"className\":\"interact \",\"style\":{\"padding\":\"5px 10px 0px 10px\"}},\"nodeType\":\"DOM\",\"type\":\"node\",\"instanceArgs\":{\"namespace\":\"html\",\"tag\":\"label\"},\"children\":[\"time\"]}]},{\"props\":{\"className\":\"interact-flex-row-center\"},\"nodeType\":\"DOM\",\"type\":\"node\",\"instanceArgs\":{\"namespace\":\"html\",\"tag\":\"div\"},\"children\":[{\"props\":{\"max\":101,\"min\":1,\"attributes\":{\"type\":\"range\",\"data-bind\":\"numericValue: index, valueUpdate: 'input', event: {change: function (){this.changes(this.changes()+1)}}\",\"orient\":\"horizontal\"},\"step\":1,\"className\":\"slider slider is-fullwidth\",\"style\":{}},\"nodeType\":\"DOM\",\"type\":\"node\",\"instanceArgs\":{\"namespace\":\"html\",\"tag\":\"input\"},\"children\":[]}]},{\"props\":{\"className\":\"interact-flex-row-right\"},\"nodeType\":\"DOM\",\"type\":\"node\",\"instanceArgs\":{\"namespace\":\"html\",\"tag\":\"div\"},\"children\":[{\"props\":{\"attributes\":{\"data-bind\":\"text: formatted_val\"}},\"nodeType\":\"DOM\",\"type\":\"node\",\"instanceArgs\":{\"namespace\":\"html\",\"tag\":\"p\"},\"children\":[]}]}]}]}]},{\"props\":{\"className\":\"field interact-widget\"},\"nodeType\":\"DOM\",\"type\":\"node\",\"instanceArgs\":{\"namespace\":\"html\",\"tag\":\"div\"},\"children\":[{\"props\":{},\"nodeType\":\"Scope\",\"type\":\"node\",\"instanceArgs\":{\"imports\":{\"data\":[{\"name\":\"knockout\",\"type\":\"js\",\"url\":\"\\/assetserver\\/727383f2a47bd31570b7da84eee7b022dd6d7c78-knockout.js\"},{\"name\":\"knockout_punches\",\"type\":\"js\",\"url\":\"\\/assetserver\\/382b41b3b1bd9f26f75861d360bad7f8beea211f-knockout_punches.js\"},{\"name\":null,\"type\":\"js\",\"url\":\"\\/assetserver\\/5ab20f1060420992a9b82a65b735dee4d81ef413-all.js\"},{\"name\":null,\"type\":\"css\",\"url\":\"\\/assetserver\\/1cc0ed62837210b80a182cc3676512f895dab686-style.css\"},{\"name\":null,\"type\":\"css\",\"url\":\"\\/assetserver\\/2eee816f616df3549d7044d45e744fbf8d42bfa1-bulma_confined.min.css\"}],\"type\":\"async_block\"},\"id\":\"11628703271295953027\",\"handlers\":{\"changes\":[\"(function (val){return (val!=this.model[\\\"changes\\\"]()) ? (this.valueFromJulia[\\\"changes\\\"]=true, this.model[\\\"changes\\\"](val)) : undefined})\"],\"index\":[\"(function (val){return (val!=this.model[\\\"index\\\"]()) ? (this.valueFromJulia[\\\"index\\\"]=true, this.model[\\\"index\\\"](val)) : undefined})\"]},\"systemjs_options\":null,\"mount_callbacks\":[\"function () {\\n    var handler = (function (ko, koPunches) {\\n    ko.punches.enableAll();\\n    ko.bindingHandlers.numericValue = {\\n        init: function(element, valueAccessor, allBindings, data, context) {\\n            var stringified = ko.observable(ko.unwrap(valueAccessor()));\\n            stringified.subscribe(function(value) {\\n                var val = parseFloat(value);\\n                if (!isNaN(val)) {\\n                    valueAccessor()(val);\\n                }\\n            });\\n            valueAccessor().subscribe(function(value) {\\n                var str = JSON.stringify(value);\\n                if ((str == \\\"0\\\") && ([\\\"-0\\\", \\\"-0.\\\"].indexOf(stringified()) >= 0))\\n                     return;\\n                 if ([\\\"null\\\", \\\"\\\"].indexOf(str) >= 0)\\n                     return;\\n                stringified(str);\\n            });\\n            ko.applyBindingsToNode(\\n                element,\\n                {\\n                    value: stringified,\\n                    valueUpdate: allBindings.get('valueUpdate'),\\n                },\\n                context,\\n            );\\n        }\\n    };\\n    var json_data = {\\\"formatted_vals\\\":[\\\"0.1\\\",\\\"0.2\\\",\\\"0.3\\\",\\\"0.4\\\",\\\"0.5\\\",\\\"0.6\\\",\\\"0.7\\\",\\\"0.8\\\",\\\"0.9\\\",\\\"1.0\\\",\\\"1.1\\\",\\\"1.2\\\",\\\"1.3\\\",\\\"1.4\\\",\\\"1.5\\\",\\\"1.6\\\",\\\"1.7\\\",\\\"1.8\\\",\\\"1.9\\\",\\\"2.0\\\"],\\\"changes\\\":WebIO.getval({\\\"name\\\":\\\"changes\\\",\\\"scope\\\":\\\"11628703271295953027\\\",\\\"id\\\":\\\"14544836565126363160\\\",\\\"type\\\":\\\"observable\\\"}),\\\"index\\\":WebIO.getval({\\\"name\\\":\\\"index\\\",\\\"scope\\\":\\\"11628703271295953027\\\",\\\"id\\\":\\\"9543718811994825399\\\",\\\"type\\\":\\\"observable\\\"})};\\n    var self = this;\\n    function AppViewModel() {\\n        for (var key in json_data) {\\n            var el = json_data[key];\\n            this[key] = Array.isArray(el) ? ko.observableArray(el) : ko.observable(el);\\n        }\\n        \\n        [this[\\\"formatted_val\\\"]=ko.computed(    function(){\\n        return this.formatted_vals()[parseInt(this.index())-(1)];\\n    }\\n,this)]\\n        [this[\\\"changes\\\"].subscribe((function (val){!(this.valueFromJulia[\\\"changes\\\"]) ? (WebIO.setval({\\\"name\\\":\\\"changes\\\",\\\"scope\\\":\\\"11628703271295953027\\\",\\\"id\\\":\\\"14544836565126363160\\\",\\\"type\\\":\\\"observable\\\"},val)) : undefined; return this.valueFromJulia[\\\"changes\\\"]=false}),self),this[\\\"index\\\"].subscribe((function (val){!(this.valueFromJulia[\\\"index\\\"]) ? (WebIO.setval({\\\"name\\\":\\\"index\\\",\\\"scope\\\":\\\"11628703271295953027\\\",\\\"id\\\":\\\"9543718811994825399\\\",\\\"type\\\":\\\"observable\\\"},val)) : undefined; return this.valueFromJulia[\\\"index\\\"]=false}),self)]\\n        \\n    }\\n    self.model = new AppViewModel();\\n    self.valueFromJulia = {};\\n    for (var key in json_data) {\\n        self.valueFromJulia[key] = false;\\n    }\\n    ko.applyBindings(self.model, self.dom);\\n}\\n);\\n    (WebIO.importBlock({\\\"data\\\":[{\\\"name\\\":\\\"knockout\\\",\\\"type\\\":\\\"js\\\",\\\"url\\\":\\\"\\/assetserver\\/727383f2a47bd31570b7da84eee7b022dd6d7c78-knockout.js\\\"},{\\\"name\\\":\\\"knockout_punches\\\",\\\"type\\\":\\\"js\\\",\\\"url\\\":\\\"\\/assetserver\\/382b41b3b1bd9f26f75861d360bad7f8beea211f-knockout_punches.js\\\"}],\\\"type\\\":\\\"async_block\\\"})).then((imports) => handler.apply(this, imports));\\n}\\n\"],\"observables\":{\"changes\":{\"sync\":false,\"id\":\"14544836565126363160\",\"value\":0},\"index\":{\"sync\":true,\"id\":\"9543718811994825399\",\"value\":10}}},\"children\":[{\"props\":{\"className\":\"interact-flex-row interact-widget\"},\"nodeType\":\"DOM\",\"type\":\"node\",\"instanceArgs\":{\"namespace\":\"html\",\"tag\":\"div\"},\"children\":[{\"props\":{\"className\":\"interact-flex-row-left\"},\"nodeType\":\"DOM\",\"type\":\"node\",\"instanceArgs\":{\"namespace\":\"html\",\"tag\":\"div\"},\"children\":[{\"props\":{\"className\":\"interact \",\"style\":{\"padding\":\"5px 10px 0px 10px\"}},\"nodeType\":\"DOM\",\"type\":\"node\",\"instanceArgs\":{\"namespace\":\"html\",\"tag\":\"label\"},\"children\":[\"scale\"]}]},{\"props\":{\"className\":\"interact-flex-row-center\"},\"nodeType\":\"DOM\",\"type\":\"node\",\"instanceArgs\":{\"namespace\":\"html\",\"tag\":\"div\"},\"children\":[{\"props\":{\"max\":20,\"min\":1,\"attributes\":{\"type\":\"range\",\"data-bind\":\"numericValue: index, valueUpdate: 'input', event: {change: function (){this.changes(this.changes()+1)}}\",\"orient\":\"horizontal\"},\"step\":1,\"className\":\"slider slider is-fullwidth\",\"style\":{}},\"nodeType\":\"DOM\",\"type\":\"node\",\"instanceArgs\":{\"namespace\":\"html\",\"tag\":\"input\"},\"children\":[]}]},{\"props\":{\"className\":\"interact-flex-row-right\"},\"nodeType\":\"DOM\",\"type\":\"node\",\"instanceArgs\":{\"namespace\":\"html\",\"tag\":\"div\"},\"children\":[{\"props\":{\"attributes\":{\"data-bind\":\"text: formatted_val\"}},\"nodeType\":\"DOM\",\"type\":\"node\",\"instanceArgs\":{\"namespace\":\"html\",\"tag\":\"p\"},\"children\":[]}]}]}]}]},{\"props\":{\"style\":{\"display\":\"flex\",\"flex-direction\":\"row\"}},\"nodeType\":\"DOM\",\"type\":\"node\",\"instanceArgs\":{\"namespace\":\"html\",\"tag\":\"div\"},\"children\":[{\"props\":{\"className\":\"interact-widget\"},\"nodeType\":\"DOM\",\"type\":\"node\",\"instanceArgs\":{\"namespace\":\"html\",\"tag\":\"div\"},\"children\":[{\"props\":{},\"nodeType\":\"Scope\",\"type\":\"node\",\"instanceArgs\":{\"imports\":{\"data\":[{\"name\":null,\"type\":\"js\",\"url\":\"\\/assetserver\\/dd22ed1bf1896c2748f3fe616ce0b838adc895c1-katex.min.js\"},{\"name\":null,\"type\":\"css\",\"url\":\"\\/assetserver\\/46517a424aa5e6cffc1360d7e0848b601c584ee3-katex.min.css\"}],\"type\":\"async_block\"},\"id\":\"8210353255918121578\",\"handlers\":{\"value\":[\"(function (txt){return this.k.render(txt,this.container)})\"]},\"systemjs_options\":null,\"mount_callbacks\":[\"function () {\\n    var handler = ((function (k){this.k=k; this.container=this.dom.querySelector(\\\"#container\\\"); return k.render(\\\"\\\\\\\\;\\\\\\\\;\\\",this.container)}));\\n    (WebIO.importBlock({\\\"data\\\":[{\\\"name\\\":null,\\\"type\\\":\\\"js\\\",\\\"url\\\":\\\"\\/assetserver\\/dd22ed1bf1896c2748f3fe616ce0b838adc895c1-katex.min.js\\\"},{\\\"name\\\":null,\\\"type\\\":\\\"css\\\",\\\"url\\\":\\\"\\/assetserver\\/46517a424aa5e6cffc1360d7e0848b601c584ee3-katex.min.css\\\"}],\\\"type\\\":\\\"async_block\\\"})).then((imports) => handler.apply(this, imports));\\n}\\n\"],\"observables\":{\"value\":{\"sync\":false,\"id\":\"9525473659904385250\",\"value\":\"\\\\;\\\\;\"}}},\"children\":[{\"props\":{\"id\":\"container\"},\"nodeType\":\"DOM\",\"type\":\"node\",\"instanceArgs\":{\"namespace\":\"html\",\"tag\":\"div\"},\"children\":[]}]}]},{\"props\":{\"className\":\"field interact-widget\"},\"nodeType\":\"DOM\",\"type\":\"node\",\"instanceArgs\":{\"namespace\":\"html\",\"tag\":\"div\"},\"children\":[{\"props\":{},\"nodeType\":\"Scope\",\"type\":\"node\",\"instanceArgs\":{\"imports\":{\"data\":[{\"name\":\"knockout\",\"type\":\"js\",\"url\":\"\\/assetserver\\/727383f2a47bd31570b7da84eee7b022dd6d7c78-knockout.js\"},{\"name\":\"knockout_punches\",\"type\":\"js\",\"url\":\"\\/assetserver\\/382b41b3b1bd9f26f75861d360bad7f8beea211f-knockout_punches.js\"},{\"name\":null,\"type\":\"js\",\"url\":\"\\/assetserver\\/5ab20f1060420992a9b82a65b735dee4d81ef413-all.js\"},{\"name\":null,\"type\":\"css\",\"url\":\"\\/assetserver\\/1cc0ed62837210b80a182cc3676512f895dab686-style.css\"},{\"name\":null,\"type\":\"css\",\"url\":\"\\/assetserver\\/2eee816f616df3549d7044d45e744fbf8d42bfa1-bulma_confined.min.css\"}],\"type\":\"async_block\"},\"id\":\"1086349807809010779\",\"handlers\":{\"loading\":[\"(function (val){return (val!=this.model[\\\"loading\\\"]()) ? (this.valueFromJulia[\\\"loading\\\"]=true, this.model[\\\"loading\\\"](val)) : undefined})\"],\"clicks\":[\"(function (val){return (val!=this.model[\\\"clicks\\\"]()) ? (this.valueFromJulia[\\\"clicks\\\"]=true, this.model[\\\"clicks\\\"](val)) : undefined})\"]},\"systemjs_options\":null,\"mount_callbacks\":[\"function () {\\n    var handler = (function (ko, koPunches) {\\n    ko.punches.enableAll();\\n    ko.bindingHandlers.numericValue = {\\n        init: function(element, valueAccessor, allBindings, data, context) {\\n            var stringified = ko.observable(ko.unwrap(valueAccessor()));\\n            stringified.subscribe(function(value) {\\n                var val = parseFloat(value);\\n                if (!isNaN(val)) {\\n                    valueAccessor()(val);\\n                }\\n            });\\n            valueAccessor().subscribe(function(value) {\\n                var str = JSON.stringify(value);\\n                if ((str == \\\"0\\\") && ([\\\"-0\\\", \\\"-0.\\\"].indexOf(stringified()) >= 0))\\n                     return;\\n                 if ([\\\"null\\\", \\\"\\\"].indexOf(str) >= 0)\\n                     return;\\n                stringified(str);\\n            });\\n            ko.applyBindingsToNode(\\n                element,\\n                {\\n                    value: stringified,\\n                    valueUpdate: allBindings.get('valueUpdate'),\\n                },\\n                context,\\n            );\\n        }\\n    };\\n    var json_data = {\\\"loading\\\":WebIO.getval({\\\"name\\\":\\\"loading\\\",\\\"scope\\\":\\\"1086349807809010779\\\",\\\"id\\\":\\\"15943878162624663857\\\",\\\"type\\\":\\\"observable\\\"}),\\\"clicks\\\":WebIO.getval({\\\"name\\\":\\\"clicks\\\",\\\"scope\\\":\\\"1086349807809010779\\\",\\\"id\\\":\\\"15342807870046011735\\\",\\\"type\\\":\\\"observable\\\"})};\\n    var self = this;\\n    function AppViewModel() {\\n        for (var key in json_data) {\\n            var el = json_data[key];\\n            this[key] = Array.isArray(el) ? ko.observableArray(el) : ko.observable(el);\\n        }\\n        \\n        \\n        [this[\\\"loading\\\"].subscribe((function (val){!(this.valueFromJulia[\\\"loading\\\"]) ? (WebIO.setval({\\\"name\\\":\\\"loading\\\",\\\"scope\\\":\\\"1086349807809010779\\\",\\\"id\\\":\\\"15943878162624663857\\\",\\\"type\\\":\\\"observable\\\"},val)) : undefined; return this.valueFromJulia[\\\"loading\\\"]=false}),self),this[\\\"clicks\\\"].subscribe((function (val){!(this.valueFromJulia[\\\"clicks\\\"]) ? (WebIO.setval({\\\"name\\\":\\\"clicks\\\",\\\"scope\\\":\\\"1086349807809010779\\\",\\\"id\\\":\\\"15342807870046011735\\\",\\\"type\\\":\\\"observable\\\"},val)) : undefined; return this.valueFromJulia[\\\"clicks\\\"]=false}),self)]\\n        \\n    }\\n    self.model = new AppViewModel();\\n    self.valueFromJulia = {};\\n    for (var key in json_data) {\\n        self.valueFromJulia[key] = false;\\n    }\\n    ko.applyBindings(self.model, self.dom);\\n}\\n);\\n    (WebIO.importBlock({\\\"data\\\":[{\\\"name\\\":\\\"knockout\\\",\\\"type\\\":\\\"js\\\",\\\"url\\\":\\\"\\/assetserver\\/727383f2a47bd31570b7da84eee7b022dd6d7c78-knockout.js\\\"},{\\\"name\\\":\\\"knockout_punches\\\",\\\"type\\\":\\\"js\\\",\\\"url\\\":\\\"\\/assetserver\\/382b41b3b1bd9f26f75861d360bad7f8beea211f-knockout_punches.js\\\"}],\\\"type\\\":\\\"async_block\\\"})).then((imports) => handler.apply(this, imports));\\n}\\n\"],\"observables\":{\"loading\":{\"sync\":false,\"id\":\"15943878162624663857\",\"value\":false},\"clicks\":{\"sync\":true,\"id\":\"15342807870046011735\",\"value\":0}}},\"children\":[{\"props\":{\"attributes\":{\"data-bind\":\"click: function (){this.clicks(this.clicks()+1)}, css: {'is-loading' : loading}\"},\"className\":\"is-medium button is-primary\",\"style\":{}},\"nodeType\":\"DOM\",\"type\":\"node\",\"instanceArgs\":{\"namespace\":\"html\",\"tag\":\"button\"},\"children\":[\"run\"]}]}]},{\"props\":{\"className\":\"interact-widget\"},\"nodeType\":\"DOM\",\"type\":\"node\",\"instanceArgs\":{\"namespace\":\"html\",\"tag\":\"div\"},\"children\":[{\"props\":{},\"nodeType\":\"Scope\",\"type\":\"node\",\"instanceArgs\":{\"imports\":{\"data\":[{\"name\":null,\"type\":\"js\",\"url\":\"\\/assetserver\\/dd22ed1bf1896c2748f3fe616ce0b838adc895c1-katex.min.js\"},{\"name\":null,\"type\":\"css\",\"url\":\"\\/assetserver\\/46517a424aa5e6cffc1360d7e0848b601c584ee3-katex.min.css\"}],\"type\":\"async_block\"},\"id\":\"8210353255918121578\",\"handlers\":{\"value\":[\"(function (txt){return this.k.render(txt,this.container)})\"]},\"systemjs_options\":null,\"mount_callbacks\":[\"function () {\\n    var handler = ((function (k){this.k=k; this.container=this.dom.querySelector(\\\"#container\\\"); return k.render(\\\"\\\\\\\\;\\\\\\\\;\\\",this.container)}));\\n    (WebIO.importBlock({\\\"data\\\":[{\\\"name\\\":null,\\\"type\\\":\\\"js\\\",\\\"url\\\":\\\"\\/assetserver\\/dd22ed1bf1896c2748f3fe616ce0b838adc895c1-katex.min.js\\\"},{\\\"name\\\":null,\\\"type\\\":\\\"css\\\",\\\"url\\\":\\\"\\/assetserver\\/46517a424aa5e6cffc1360d7e0848b601c584ee3-katex.min.css\\\"}],\\\"type\\\":\\\"async_block\\\"})).then((imports) => handler.apply(this, imports));\\n}\\n\"],\"observables\":{\"value\":{\"sync\":false,\"id\":\"9525473659904385250\",\"value\":\"\\\\;\\\\;\"}}},\"children\":[{\"props\":{\"id\":\"container\"},\"nodeType\":\"DOM\",\"type\":\"node\",\"instanceArgs\":{\"namespace\":\"html\",\"tag\":\"div\"},\"children\":[]}]}]},{\"props\":{\"className\":\"field interact-widget\"},\"nodeType\":\"DOM\",\"type\":\"node\",\"instanceArgs\":{\"namespace\":\"html\",\"tag\":\"div\"},\"children\":[{\"props\":{},\"nodeType\":\"Scope\",\"type\":\"node\",\"instanceArgs\":{\"imports\":{\"data\":[{\"name\":\"knockout\",\"type\":\"js\",\"url\":\"\\/assetserver\\/727383f2a47bd31570b7da84eee7b022dd6d7c78-knockout.js\"},{\"name\":\"knockout_punches\",\"type\":\"js\",\"url\":\"\\/assetserver\\/382b41b3b1bd9f26f75861d360bad7f8beea211f-knockout_punches.js\"},{\"name\":null,\"type\":\"js\",\"url\":\"\\/assetserver\\/5ab20f1060420992a9b82a65b735dee4d81ef413-all.js\"},{\"name\":null,\"type\":\"css\",\"url\":\"\\/assetserver\\/1cc0ed62837210b80a182cc3676512f895dab686-style.css\"},{\"name\":null,\"type\":\"css\",\"url\":\"\\/assetserver\\/2eee816f616df3549d7044d45e744fbf8d42bfa1-bulma_confined.min.css\"}],\"type\":\"async_block\"},\"id\":\"15703743281658870422\",\"handlers\":{\"loading\":[\"(function (val){return (val!=this.model[\\\"loading\\\"]()) ? (this.valueFromJulia[\\\"loading\\\"]=true, this.model[\\\"loading\\\"](val)) : undefined})\"],\"clicks\":[\"(function (val){return (val!=this.model[\\\"clicks\\\"]()) ? (this.valueFromJulia[\\\"clicks\\\"]=true, this.model[\\\"clicks\\\"](val)) : undefined})\"]},\"systemjs_options\":null,\"mount_callbacks\":[\"function () {\\n    var handler = (function (ko, koPunches) {\\n    ko.punches.enableAll();\\n    ko.bindingHandlers.numericValue = {\\n        init: function(element, valueAccessor, allBindings, data, context) {\\n            var stringified = ko.observable(ko.unwrap(valueAccessor()));\\n            stringified.subscribe(function(value) {\\n                var val = parseFloat(value);\\n                if (!isNaN(val)) {\\n                    valueAccessor()(val);\\n                }\\n            });\\n            valueAccessor().subscribe(function(value) {\\n                var str = JSON.stringify(value);\\n                if ((str == \\\"0\\\") && ([\\\"-0\\\", \\\"-0.\\\"].indexOf(stringified()) >= 0))\\n                     return;\\n                 if ([\\\"null\\\", \\\"\\\"].indexOf(str) >= 0)\\n                     return;\\n                stringified(str);\\n            });\\n            ko.applyBindingsToNode(\\n                element,\\n                {\\n                    value: stringified,\\n                    valueUpdate: allBindings.get('valueUpdate'),\\n                },\\n                context,\\n            );\\n        }\\n    };\\n    var json_data = {\\\"loading\\\":WebIO.getval({\\\"name\\\":\\\"loading\\\",\\\"scope\\\":\\\"15703743281658870422\\\",\\\"id\\\":\\\"13815928399214152474\\\",\\\"type\\\":\\\"observable\\\"}),\\\"clicks\\\":WebIO.getval({\\\"name\\\":\\\"clicks\\\",\\\"scope\\\":\\\"15703743281658870422\\\",\\\"id\\\":\\\"17897555848833005479\\\",\\\"type\\\":\\\"observable\\\"})};\\n    var self = this;\\n    function AppViewModel() {\\n        for (var key in json_data) {\\n            var el = json_data[key];\\n            this[key] = Array.isArray(el) ? ko.observableArray(el) : ko.observable(el);\\n        }\\n        \\n        \\n        [this[\\\"loading\\\"].subscribe((function (val){!(this.valueFromJulia[\\\"loading\\\"]) ? (WebIO.setval({\\\"name\\\":\\\"loading\\\",\\\"scope\\\":\\\"15703743281658870422\\\",\\\"id\\\":\\\"13815928399214152474\\\",\\\"type\\\":\\\"observable\\\"},val)) : undefined; return this.valueFromJulia[\\\"loading\\\"]=false}),self),this[\\\"clicks\\\"].subscribe((function (val){!(this.valueFromJulia[\\\"clicks\\\"]) ? (WebIO.setval({\\\"name\\\":\\\"clicks\\\",\\\"scope\\\":\\\"15703743281658870422\\\",\\\"id\\\":\\\"17897555848833005479\\\",\\\"type\\\":\\\"observable\\\"},val)) : undefined; return this.valueFromJulia[\\\"clicks\\\"]=false}),self)]\\n        \\n    }\\n    self.model = new AppViewModel();\\n    self.valueFromJulia = {};\\n    for (var key in json_data) {\\n        self.valueFromJulia[key] = false;\\n    }\\n    ko.applyBindings(self.model, self.dom);\\n}\\n);\\n    (WebIO.importBlock({\\\"data\\\":[{\\\"name\\\":\\\"knockout\\\",\\\"type\\\":\\\"js\\\",\\\"url\\\":\\\"\\/assetserver\\/727383f2a47bd31570b7da84eee7b022dd6d7c78-knockout.js\\\"},{\\\"name\\\":\\\"knockout_punches\\\",\\\"type\\\":\\\"js\\\",\\\"url\\\":\\\"\\/assetserver\\/382b41b3b1bd9f26f75861d360bad7f8beea211f-knockout_punches.js\\\"}],\\\"type\\\":\\\"async_block\\\"})).then((imports) => handler.apply(this, imports));\\n}\\n\"],\"observables\":{\"loading\":{\"sync\":false,\"id\":\"13815928399214152474\",\"value\":false},\"clicks\":{\"sync\":true,\"id\":\"17897555848833005479\",\"value\":0}}},\"children\":[{\"props\":{\"attributes\":{\"data-bind\":\"click: function (){this.clicks(this.clicks()+1)}, css: {'is-loading' : loading}\"},\"className\":\"is-medium button is-primary\",\"style\":{}},\"nodeType\":\"DOM\",\"type\":\"node\",\"instanceArgs\":{\"namespace\":\"html\",\"tag\":\"button\"},\"children\":[\"stop\"]}]}]},{\"props\":{\"className\":\"interact-widget\"},\"nodeType\":\"DOM\",\"type\":\"node\",\"instanceArgs\":{\"namespace\":\"html\",\"tag\":\"div\"},\"children\":[{\"props\":{},\"nodeType\":\"Scope\",\"type\":\"node\",\"instanceArgs\":{\"imports\":{\"data\":[{\"name\":null,\"type\":\"js\",\"url\":\"\\/assetserver\\/dd22ed1bf1896c2748f3fe616ce0b838adc895c1-katex.min.js\"},{\"name\":null,\"type\":\"css\",\"url\":\"\\/assetserver\\/46517a424aa5e6cffc1360d7e0848b601c584ee3-katex.min.css\"}],\"type\":\"async_block\"},\"id\":\"8210353255918121578\",\"handlers\":{\"value\":[\"(function (txt){return this.k.render(txt,this.container)})\"]},\"systemjs_options\":null,\"mount_callbacks\":[\"function () {\\n    var handler = ((function (k){this.k=k; this.container=this.dom.querySelector(\\\"#container\\\"); return k.render(\\\"\\\\\\\\;\\\\\\\\;\\\",this.container)}));\\n    (WebIO.importBlock({\\\"data\\\":[{\\\"name\\\":null,\\\"type\\\":\\\"js\\\",\\\"url\\\":\\\"\\/assetserver\\/dd22ed1bf1896c2748f3fe616ce0b838adc895c1-katex.min.js\\\"},{\\\"name\\\":null,\\\"type\\\":\\\"css\\\",\\\"url\\\":\\\"\\/assetserver\\/46517a424aa5e6cffc1360d7e0848b601c584ee3-katex.min.css\\\"}],\\\"type\\\":\\\"async_block\\\"})).then((imports) => handler.apply(this, imports));\\n}\\n\"],\"observables\":{\"value\":{\"sync\":false,\"id\":\"9525473659904385250\",\"value\":\"\\\\;\\\\;\"}}},\"children\":[{\"props\":{\"id\":\"container\"},\"nodeType\":\"DOM\",\"type\":\"node\",\"instanceArgs\":{\"namespace\":\"html\",\"tag\":\"div\"},\"children\":[]}]}]},{\"props\":{\"className\":\"field interact-widget\"},\"nodeType\":\"DOM\",\"type\":\"node\",\"instanceArgs\":{\"namespace\":\"html\",\"tag\":\"div\"},\"children\":[{\"props\":{},\"nodeType\":\"Scope\",\"type\":\"node\",\"instanceArgs\":{\"imports\":{\"data\":[{\"name\":\"knockout\",\"type\":\"js\",\"url\":\"\\/assetserver\\/727383f2a47bd31570b7da84eee7b022dd6d7c78-knockout.js\"},{\"name\":\"knockout_punches\",\"type\":\"js\",\"url\":\"\\/assetserver\\/382b41b3b1bd9f26f75861d360bad7f8beea211f-knockout_punches.js\"},{\"name\":null,\"type\":\"js\",\"url\":\"\\/assetserver\\/5ab20f1060420992a9b82a65b735dee4d81ef413-all.js\"},{\"name\":null,\"type\":\"css\",\"url\":\"\\/assetserver\\/1cc0ed62837210b80a182cc3676512f895dab686-style.css\"},{\"name\":null,\"type\":\"css\",\"url\":\"\\/assetserver\\/2eee816f616df3549d7044d45e744fbf8d42bfa1-bulma_confined.min.css\"}],\"type\":\"async_block\"},\"id\":\"5899973686552307234\",\"handlers\":{\"loading\":[\"(function (val){return (val!=this.model[\\\"loading\\\"]()) ? (this.valueFromJulia[\\\"loading\\\"]=true, this.model[\\\"loading\\\"](val)) : undefined})\"],\"clicks\":[\"(function (val){return (val!=this.model[\\\"clicks\\\"]()) ? (this.valueFromJulia[\\\"clicks\\\"]=true, this.model[\\\"clicks\\\"](val)) : undefined})\"]},\"systemjs_options\":null,\"mount_callbacks\":[\"function () {\\n    var handler = (function (ko, koPunches) {\\n    ko.punches.enableAll();\\n    ko.bindingHandlers.numericValue = {\\n        init: function(element, valueAccessor, allBindings, data, context) {\\n            var stringified = ko.observable(ko.unwrap(valueAccessor()));\\n            stringified.subscribe(function(value) {\\n                var val = parseFloat(value);\\n                if (!isNaN(val)) {\\n                    valueAccessor()(val);\\n                }\\n            });\\n            valueAccessor().subscribe(function(value) {\\n                var str = JSON.stringify(value);\\n                if ((str == \\\"0\\\") && ([\\\"-0\\\", \\\"-0.\\\"].indexOf(stringified()) >= 0))\\n                     return;\\n                 if ([\\\"null\\\", \\\"\\\"].indexOf(str) >= 0)\\n                     return;\\n                stringified(str);\\n            });\\n            ko.applyBindingsToNode(\\n                element,\\n                {\\n                    value: stringified,\\n                    valueUpdate: allBindings.get('valueUpdate'),\\n                },\\n                context,\\n            );\\n        }\\n    };\\n    var json_data = {\\\"loading\\\":WebIO.getval({\\\"name\\\":\\\"loading\\\",\\\"scope\\\":\\\"5899973686552307234\\\",\\\"id\\\":\\\"8504591548680071564\\\",\\\"type\\\":\\\"observable\\\"}),\\\"clicks\\\":WebIO.getval({\\\"name\\\":\\\"clicks\\\",\\\"scope\\\":\\\"5899973686552307234\\\",\\\"id\\\":\\\"7135735100736794978\\\",\\\"type\\\":\\\"observable\\\"})};\\n    var self = this;\\n    function AppViewModel() {\\n        for (var key in json_data) {\\n            var el = json_data[key];\\n            this[key] = Array.isArray(el) ? ko.observableArray(el) : ko.observable(el);\\n        }\\n        \\n        \\n        [this[\\\"loading\\\"].subscribe((function (val){!(this.valueFromJulia[\\\"loading\\\"]) ? (WebIO.setval({\\\"name\\\":\\\"loading\\\",\\\"scope\\\":\\\"5899973686552307234\\\",\\\"id\\\":\\\"8504591548680071564\\\",\\\"type\\\":\\\"observable\\\"},val)) : undefined; return this.valueFromJulia[\\\"loading\\\"]=false}),self),this[\\\"clicks\\\"].subscribe((function (val){!(this.valueFromJulia[\\\"clicks\\\"]) ? (WebIO.setval({\\\"name\\\":\\\"clicks\\\",\\\"scope\\\":\\\"5899973686552307234\\\",\\\"id\\\":\\\"7135735100736794978\\\",\\\"type\\\":\\\"observable\\\"},val)) : undefined; return this.valueFromJulia[\\\"clicks\\\"]=false}),self)]\\n        \\n    }\\n    self.model = new AppViewModel();\\n    self.valueFromJulia = {};\\n    for (var key in json_data) {\\n        self.valueFromJulia[key] = false;\\n    }\\n    ko.applyBindings(self.model, self.dom);\\n}\\n);\\n    (WebIO.importBlock({\\\"data\\\":[{\\\"name\\\":\\\"knockout\\\",\\\"type\\\":\\\"js\\\",\\\"url\\\":\\\"\\/assetserver\\/727383f2a47bd31570b7da84eee7b022dd6d7c78-knockout.js\\\"},{\\\"name\\\":\\\"knockout_punches\\\",\\\"type\\\":\\\"js\\\",\\\"url\\\":\\\"\\/assetserver\\/382b41b3b1bd9f26f75861d360bad7f8beea211f-knockout_punches.js\\\"}],\\\"type\\\":\\\"async_block\\\"})).then((imports) => handler.apply(this, imports));\\n}\\n\"],\"observables\":{\"loading\":{\"sync\":false,\"id\":\"8504591548680071564\",\"value\":false},\"clicks\":{\"sync\":true,\"id\":\"7135735100736794978\",\"value\":0}}},\"children\":[{\"props\":{\"attributes\":{\"data-bind\":\"click: function (){this.clicks(this.clicks()+1)}, css: {'is-loading' : loading}\"},\"className\":\"is-medium button is-primary\",\"style\":{}},\"nodeType\":\"DOM\",\"type\":\"node\",\"instanceArgs\":{\"namespace\":\"html\",\"tag\":\"button\"},\"children\":[\"save\"]}]}]}]}]},{\"props\":{\"className\":\"interact-widget\"},\"nodeType\":\"DOM\",\"type\":\"node\",\"instanceArgs\":{\"namespace\":\"html\",\"tag\":\"div\"},\"children\":[{\"props\":{},\"nodeType\":\"Scope\",\"type\":\"node\",\"instanceArgs\":{\"imports\":{\"data\":[{\"name\":null,\"type\":\"js\",\"url\":\"\\/assetserver\\/dd22ed1bf1896c2748f3fe616ce0b838adc895c1-katex.min.js\"},{\"name\":null,\"type\":\"css\",\"url\":\"\\/assetserver\\/46517a424aa5e6cffc1360d7e0848b601c584ee3-katex.min.css\"}],\"type\":\"async_block\"},\"id\":\"8210353255918121578\",\"handlers\":{\"value\":[\"(function (txt){return this.k.render(txt,this.container)})\"]},\"systemjs_options\":null,\"mount_callbacks\":[\"function () {\\n    var handler = ((function (k){this.k=k; this.container=this.dom.querySelector(\\\"#container\\\"); return k.render(\\\"\\\\\\\\;\\\\\\\\;\\\",this.container)}));\\n    (WebIO.importBlock({\\\"data\\\":[{\\\"name\\\":null,\\\"type\\\":\\\"js\\\",\\\"url\\\":\\\"\\/assetserver\\/dd22ed1bf1896c2748f3fe616ce0b838adc895c1-katex.min.js\\\"},{\\\"name\\\":null,\\\"type\\\":\\\"css\\\",\\\"url\\\":\\\"\\/assetserver\\/46517a424aa5e6cffc1360d7e0848b601c584ee3-katex.min.css\\\"}],\\\"type\\\":\\\"async_block\\\"})).then((imports) => handler.apply(this, imports));\\n}\\n\"],\"observables\":{\"value\":{\"sync\":false,\"id\":\"9525473659904385250\",\"value\":\"\\\\;\\\\;\"}}},\"children\":[{\"props\":{\"id\":\"container\"},\"nodeType\":\"DOM\",\"type\":\"node\",\"instanceArgs\":{\"namespace\":\"html\",\"tag\":\"div\"},\"children\":[]}]}]},{\"props\":{},\"nodeType\":\"Scope\",\"type\":\"node\",\"instanceArgs\":{\"imports\":{\"data\":[],\"type\":\"async_block\"},\"id\":\"6396434951874005223\",\"handlers\":{\"obs-output\":[\"function (value, scope) {\\n    scope.setInnerHTML(value);\\n}\\n\"]},\"systemjs_options\":null,\"mount_callbacks\":[],\"observables\":{\"obs-output\":{\"sync\":false,\"id\":\"10825017183423302807\",\"value\":\"<img src='data:image\\/png;base64,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'><\\/img>\"}}},\"children\":[{\"props\":{\"className\":\"webio-observable\",\"setInnerHtml\":\"<img src='data:image\\/png;base64,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'><\\/img>\"},\"nodeType\":\"DOM\",\"type\":\"node\",\"instanceArgs\":{\"namespace\":\"html\",\"tag\":\"div\"},\"children\":[]}]},{\"props\":{\"className\":\"interact-widget\"},\"nodeType\":\"DOM\",\"type\":\"node\",\"instanceArgs\":{\"namespace\":\"html\",\"tag\":\"div\"},\"children\":[{\"props\":{},\"nodeType\":\"Scope\",\"type\":\"node\",\"instanceArgs\":{\"imports\":{\"data\":[{\"name\":null,\"type\":\"js\",\"url\":\"\\/assetserver\\/dd22ed1bf1896c2748f3fe616ce0b838adc895c1-katex.min.js\"},{\"name\":null,\"type\":\"css\",\"url\":\"\\/assetserver\\/46517a424aa5e6cffc1360d7e0848b601c584ee3-katex.min.css\"}],\"type\":\"async_block\"},\"id\":\"8210353255918121578\",\"handlers\":{\"value\":[\"(function (txt){return this.k.render(txt,this.container)})\"]},\"systemjs_options\":null,\"mount_callbacks\":[\"function () {\\n    var handler = ((function (k){this.k=k; this.container=this.dom.querySelector(\\\"#container\\\"); return k.render(\\\"\\\\\\\\;\\\\\\\\;\\\",this.container)}));\\n    (WebIO.importBlock({\\\"data\\\":[{\\\"name\\\":null,\\\"type\\\":\\\"js\\\",\\\"url\\\":\\\"\\/assetserver\\/dd22ed1bf1896c2748f3fe616ce0b838adc895c1-katex.min.js\\\"},{\\\"name\\\":null,\\\"type\\\":\\\"css\\\",\\\"url\\\":\\\"\\/assetserver\\/46517a424aa5e6cffc1360d7e0848b601c584ee3-katex.min.css\\\"}],\\\"type\\\":\\\"async_block\\\"})).then((imports) => handler.apply(this, imports));\\n}\\n\"],\"observables\":{\"value\":{\"sync\":false,\"id\":\"9525473659904385250\",\"value\":\"\\\\;\\\\;\"}}},\"children\":[{\"props\":{\"id\":\"container\"},\"nodeType\":\"DOM\",\"type\":\"node\",\"instanceArgs\":{\"namespace\":\"html\",\"tag\":\"div\"},\"children\":[]}]}]},{\"props\":{\"style\":{\"display\":\"flex\",\"flex-direction\":\"column\"}},\"nodeType\":\"DOM\",\"type\":\"node\",\"instanceArgs\":{\"namespace\":\"html\",\"tag\":\"div\"},\"children\":[]}]}]},\n",
       "        window,\n",
       "    );\n",
       "    })()\n",
       "    </script>\n",
       "</div>\n"
      ],
      "text/plain": [
       "WebIO.Node{WebIO.DOM}(WebIO.DOM(:html, :div), Any[WebIO.Node{WebIO.DOM}(WebIO.DOM(:html, :div), Any[WebIO.Node{WebIO.DOM}(WebIO.DOM(:html, :div), Any[WebIO.Node{WebIO.DOM}(WebIO.DOM(:html, :div), Any[WebIO.Scope(WebIO.Node{WebIO.DOM}(WebIO.DOM(:html, :div), Any[WebIO.Node{WebIO.DOM}(WebIO.DOM(:html, :div), Any[WebIO.Node{WebIO.DOM}(WebIO.DOM(:html, :label), Any[\"time\"], Dict{Symbol, Any}(:className => \"interact \", :style => Dict{Any, Any}(:padding => \"5px 10px 0px 10px\")))], Dict{Symbol, Any}(:className => \"interact-flex-row-left\")), WebIO.Node{WebIO.DOM}(WebIO.DOM(:html, :div), Any[WebIO.Node{WebIO.DOM}(WebIO.DOM(:html, :input), Any[], Dict{Symbol, Any}(:max => 101, :min => 1, :attributes => Dict{Any, Any}(:type => \"range\", Symbol(\"data-bind\") => \"numericValue: index, valueUpdate: 'input', event: {change: function (){this.changes(this.changes()+1)}}\", \"orient\" => \"horizontal\"), :step => 1, :className => \"slider slider is-fullwidth\", :style => Dict{Any, Any}()))], Dict{Symbol, Any}(:className => \"interact-flex-row-center\")), WebIO.Node{WebIO.DOM}(WebIO.DOM(:html, :div), Any[WebIO.Node{WebIO.DOM}(WebIO.DOM(:html, :p), Any[], Dict{Symbol, Any}(:attributes => Dict(\"data-bind\" => \"text: formatted_val\")))], Dict{Symbol, Any}(:className => \"interact-flex-row-right\"))], Dict{Symbol, Any}(:className => \"interact-flex-row interact-widget\")), Dict{String, Tuple{Observables.AbstractObservable, Union{Nothing, Bool}}}(\"changes\" => (Observable(0), nothing), \"index\" => (Observable(51), nothing)), Set{String}(), nothing, WebIO.Asset[WebIO.Asset(\"js\", \"knockout\", \"/home/dushya/.julia/packages/Knockout/HReiN/src/../assets/knockout.js\"), WebIO.Asset(\"js\", \"knockout_punches\", \"/home/dushya/.julia/packages/Knockout/HReiN/src/../assets/knockout_punches.js\"), WebIO.Asset(\"js\", nothing, \"/home/dushya/.julia/packages/InteractBase/LJXv3/src/../assets/all.js\"), WebIO.Asset(\"css\", nothing, \"/home/dushya/.julia/packages/InteractBase/LJXv3/src/../assets/style.css\"), WebIO.Asset(\"css\", nothing, \"/home/dushya/.julia/packages/Interact/PENUy/src/../assets/bulma_confined.min.css\")], Dict{Any, Any}(\"changes\" => Any[WebIO.JSString(\"(function (val){return (val!=this.model[\\\"changes\\\"]()) ? (this.valueFromJulia[\\\"changes\\\"]=true, this.model[\\\"changes\\\"](val)) : undefined})\")], \"index\" => Any[WebIO.JSString(\"(function (val){return (val!=this.model[\\\"index\\\"]()) ? (this.valueFromJulia[\\\"index\\\"]=true, this.model[\\\"index\\\"](val)) : undefined})\")]), WebIO.ConnectionPool(Channel{Any}(32), Set{WebIO.AbstractConnection}(), Base.GenericCondition{ReentrantLock}(Base.IntrusiveLinkedList{Task}(Task (runnable) @0x00007f89306a4b00, Task (runnable) @0x00007f89306a4b00), ReentrantLock(nothing, 0x00000000, 0x00, Base.GenericCondition{Base.Threads.SpinLock}(Base.IntrusiveLinkedList{Task}(nothing, nothing), Base.Threads.SpinLock(0)), (2, 140229155502512, 140229155503792)))), WebIO.JSString[WebIO.JSString(\"function () {\\n    var handler = (function (ko, koPunches) {\\n    ko.punches.enableAll();\\n    ko.bindingHandlers.numericValue = {\\n        init: function(element, valueAccessor, allBindings, data, context) {\\n            var stringified = ko.observable(ko.unwrap(valueAccessor()));\\n            stringified.subscribe(function(value) {\\n                var val = parseFloat(value);\\n                if (!isNaN(val)) {\\n                    valueAccessor()(val);\\n                }\\n            });\\n            valueAccessor().subscribe(function(value) {\\n                var str = JSON.stringify(value);\\n                if ((str == \\\"0\\\") && ([\\\"-0\\\", \\\"-0.\\\"].indexOf(stringified()) >= 0))\\n                     return;\\n                 if ([\\\"null\\\", \\\"\\\"].indexOf(str) >= 0)\\n                     return;\\n                stringified(str);\\n            });\\n            ko.applyBindingsToNode(\\n                element,\\n                {\\n                    value: stringified,\\n                    valueUpdate: allBindings.get('valueUpdate'),\\n                },\\n                context,\\n            );\\n        }\\n    };\\n    var json_data = {\\\"formatted_vals\\\":[\\\"1\\\",\\\"2\\\",\\\"3\\\",\\\"4\\\",\\\"5\\\",\\\"6\\\",\\\"7\\\",\\\"8\\\",\\\"9\\\",\\\"10\\\",\\\"11\\\",\\\"12\\\",\\\"13\\\",\\\"14\\\",\\\"15\\\",\\\"16\\\",\\\"17\\\",\\\"18\\\",\\\"19\\\",\\\"20\\\",\\\"21\\\",\\\"22\\\",\\\"23\\\",\\\"24\\\",\\\"25\\\",\\\"26\\\",\\\"27\\\",\\\"28\\\",\\\"29\\\",\\\"30\\\",\\\"31\\\",\\\"32\\\",\\\"33\\\",\\\"34\\\",\\\"35\\\",\\\"36\\\",\\\"37\\\",\\\"38\\\",\\\"39\\\",\\\"40\\\",\\\"41\\\",\\\"42\\\",\\\"43\\\",\\\"44\\\",\\\"45\\\",\\\"46\\\",\\\"47\\\",\\\"48\\\",\\\"49\\\",\\\"50\\\",\\\"51\\\",\\\"52\\\",\\\"53\\\",\\\"54\\\",\\\"55\\\",\\\"56\\\",\\\"57\\\",\\\"58\\\",\\\"59\\\",\\\"60\\\",\\\"61\\\",\\\"62\\\",\\\"63\\\",\\\"64\\\",\\\"65\\\",\\\"66\\\",\\\"67\\\",\\\"68\\\",\\\"69\\\",\\\"70\\\",\\\"71\\\",\\\"72\\\",\\\"73\\\",\\\"74\\\",\\\"75\\\",\\\"76\\\",\\\"77\\\",\\\"78\\\",\\\"79\\\",\\\"80\\\",\\\"81\\\",\\\"82\\\",\\\"83\\\",\\\"84\\\",\\\"85\\\",\\\"86\\\",\\\"87\\\",\\\"88\\\",\\\"89\\\",\\\"90\\\",\\\"91\\\",\\\"92\\\",\\\"93\\\",\\\"94\\\",\\\"95\\\",\\\"96\\\",\\\"97\\\",\\\"98\\\",\\\"99\\\",\\\"100\\\",\\\"101\\\"],\\\"changes\\\":WebIO.getval({\\\"name\\\":\\\"changes\\\",\\\"scope\\\":\\\"9390702003244315440\\\",\\\"id\\\":\\\"5509751857301605366\\\",\\\"type\\\":\\\"observable\\\"}),\\\"index\\\":WebIO.getval({\\\"name\\\":\\\"index\\\",\\\"scope\\\":\\\"9390702003244315440\\\",\\\"id\\\":\\\"13023880446043348852\\\",\\\"type\\\":\\\"observable\\\"})};\\n    var self = this;\\n    function AppViewModel() {\\n        for (var key in json_data) {\\n            var el = json_data[key];\\n            this[key] = Array.isArray(el) ? ko.observableArray(el) : ko.observable(el);\\n        }\\n        \\n        [this[\\\"formatted_val\\\"]=ko.computed(    function(){\\n        return this.formatted_vals()[parseInt(this.index())-(1)];\\n    }\\n,this)]\\n        [this[\\\"changes\\\"].subscribe((function (val){!(this.valueFromJulia[\\\"changes\\\"]) ? (WebIO.setval({\\\"name\\\":\\\"changes\\\",\\\"scope\\\":\\\"9390702003244315440\\\",\\\"id\\\":\\\"5509751857301605366\\\",\\\"type\\\":\\\"observable\\\"},val)) : undefined; return this.valueFromJulia[\\\"changes\\\"]=false}),self),this[\\\"index\\\"].subscribe((function (val){!(this.valueFromJulia[\\\"index\\\"]) ? (WebIO.setval({\\\"name\\\":\\\"index\\\",\\\"scope\\\":\\\"9390702003244315440\\\",\\\"id\\\":\\\"13023880446043348852\\\",\\\"type\\\":\\\"observable\\\"},val)) : undefined; return this.valueFromJulia[\\\"index\\\"]=false}),self)]\\n        \\n    }\\n    self.model = new AppViewModel();\\n    self.valueFromJulia = {};\\n    for (var key in json_data) {\\n        self.valueFromJulia[key] = false;\\n    }\\n    ko.applyBindings(self.model, self.dom);\\n}\\n);\\n    (WebIO.importBlock({\\\"data\\\":[{\\\"name\\\":\\\"knockout\\\",\\\"type\\\":\\\"js\\\",\\\"url\\\":\\\"/assetserver/727383f2a47bd31570b7da84eee7b022dd6d7c78-knockout.js\\\"},{\\\"name\\\":\\\"knockout_punches\\\",\\\"type\\\":\\\"js\\\",\\\"url\\\":\\\"/assetserver/382b41b3b1bd9f26f75861d360bad7f8beea211f-knockout_punches.js\\\"}],\\\"type\\\":\\\"async_block\\\"})).then((imports) => handler.apply(this, imports));\\n}\\n\")])], Dict{Symbol, Any}(:className => \"field interact-widget\")), WebIO.Node{WebIO.DOM}(WebIO.DOM(:html, :div), Any[WebIO.Scope(WebIO.Node{WebIO.DOM}(WebIO.DOM(:html, :div), Any[WebIO.Node{WebIO.DOM}(WebIO.DOM(:html, :div), Any[WebIO.Node{WebIO.DOM}(WebIO.DOM(:html, :label), Any[\"scale\"], Dict{Symbol, Any}(:className => \"interact \", :style => Dict{Any, Any}(:padding => \"5px 10px 0px 10px\")))], Dict{Symbol, Any}(:className => \"interact-flex-row-left\")), WebIO.Node{WebIO.DOM}(WebIO.DOM(:html, :div), Any[WebIO.Node{WebIO.DOM}(WebIO.DOM(:html, :input), Any[], Dict{Symbol, Any}(:max => 20, :min => 1, :attributes => Dict{Any, Any}(:type => \"range\", Symbol(\"data-bind\") => \"numericValue: index, valueUpdate: 'input', event: {change: function (){this.changes(this.changes()+1)}}\", \"orient\" => \"horizontal\"), :step => 1, :className => \"slider slider is-fullwidth\", :style => Dict{Any, Any}()))], Dict{Symbol, Any}(:className => \"interact-flex-row-center\")), WebIO.Node{WebIO.DOM}(WebIO.DOM(:html, :div), Any[WebIO.Node{WebIO.DOM}(WebIO.DOM(:html, :p), Any[], Dict{Symbol, Any}(:attributes => Dict(\"data-bind\" => \"text: formatted_val\")))], Dict{Symbol, Any}(:className => \"interact-flex-row-right\"))], Dict{Symbol, Any}(:className => \"interact-flex-row interact-widget\")), Dict{String, Tuple{Observables.AbstractObservable, Union{Nothing, Bool}}}(\"changes\" => (Observable(0), nothing), \"index\" => (Observable{Any}(10), nothing)), Set{String}(), nothing, WebIO.Asset[WebIO.Asset(\"js\", \"knockout\", \"/home/dushya/.julia/packages/Knockout/HReiN/src/../assets/knockout.js\"), WebIO.Asset(\"js\", \"knockout_punches\", \"/home/dushya/.julia/packages/Knockout/HReiN/src/../assets/knockout_punches.js\"), WebIO.Asset(\"js\", nothing, \"/home/dushya/.julia/packages/InteractBase/LJXv3/src/../assets/all.js\"), WebIO.Asset(\"css\", nothing, \"/home/dushya/.julia/packages/InteractBase/LJXv3/src/../assets/style.css\"), WebIO.Asset(\"css\", nothing, \"/home/dushya/.julia/packages/Interact/PENUy/src/../assets/bulma_confined.min.css\")], Dict{Any, Any}(\"changes\" => Any[WebIO.JSString(\"(function (val){return (val!=this.model[\\\"changes\\\"]()) ? (this.valueFromJulia[\\\"changes\\\"]=true, this.model[\\\"changes\\\"](val)) : undefined})\")], \"index\" => Any[WebIO.JSString(\"(function (val){return (val!=this.model[\\\"index\\\"]()) ? (this.valueFromJulia[\\\"index\\\"]=true, this.model[\\\"index\\\"](val)) : undefined})\")]), WebIO.ConnectionPool(Channel{Any}(32), Set{WebIO.AbstractConnection}(), Base.GenericCondition{ReentrantLock}(Base.IntrusiveLinkedList{Task}(Task (runnable) @0x00007f89317fc650, Task (runnable) @0x00007f89317fc650), ReentrantLock(nothing, 0x00000000, 0x00, Base.GenericCondition{Base.Threads.SpinLock}(Base.IntrusiveLinkedList{Task}(nothing, nothing), Base.Threads.SpinLock(0)), (2, 140229155484400, 140229155484528)))), WebIO.JSString[WebIO.JSString(\"function () {\\n    var handler = (function (ko, koPunches) {\\n    ko.punches.enableAll();\\n    ko.bindingHandlers.numericValue = {\\n        init: function(element, valueAccessor, allBindings, data, context) {\\n            var stringified = ko.observable(ko.unwrap(valueAccessor()));\\n            stringified.subscribe(function(value) {\\n                var val = parseFloat(value);\\n                if (!isNaN(val)) {\\n                    valueAccessor()(val);\\n                }\\n            });\\n            valueAccessor().subscribe(function(value) {\\n                var str = JSON.stringify(value);\\n                if ((str == \\\"0\\\") && ([\\\"-0\\\", \\\"-0.\\\"].indexOf(stringified()) >= 0))\\n                     return;\\n                 if ([\\\"null\\\", \\\"\\\"].indexOf(str) >= 0)\\n                     return;\\n                stringified(str);\\n            });\\n            ko.applyBindingsToNode(\\n                element,\\n                {\\n                    value: stringified,\\n                    valueUpdate: allBindings.get('valueUpdate'),\\n                },\\n                context,\\n            );\\n        }\\n    };\\n    var json_data = {\\\"formatted_vals\\\":[\\\"0.1\\\",\\\"0.2\\\",\\\"0.3\\\",\\\"0.4\\\",\\\"0.5\\\",\\\"0.6\\\",\\\"0.7\\\",\\\"0.8\\\",\\\"0.9\\\",\\\"1.0\\\",\\\"1.1\\\",\\\"1.2\\\",\\\"1.3\\\",\\\"1.4\\\",\\\"1.5\\\",\\\"1.6\\\",\\\"1.7\\\",\\\"1.8\\\",\\\"1.9\\\",\\\"2.0\\\"],\\\"changes\\\":WebIO.getval({\\\"name\\\":\\\"changes\\\",\\\"scope\\\":\\\"11628703271295953027\\\",\\\"id\\\":\\\"14544836565126363160\\\",\\\"type\\\":\\\"observable\\\"}),\\\"index\\\":WebIO.getval({\\\"name\\\":\\\"index\\\",\\\"scope\\\":\\\"11628703271295953027\\\",\\\"id\\\":\\\"9543718811994825399\\\",\\\"type\\\":\\\"observable\\\"})};\\n    var self = this;\\n    function AppViewModel() {\\n        for (var key in json_data) {\\n            var el = json_data[key];\\n            this[key] = Array.isArray(el) ? ko.observableArray(el) : ko.observable(el);\\n        }\\n        \\n        [this[\\\"formatted_val\\\"]=ko.computed(    function(){\\n        return this.formatted_vals()[parseInt(this.index())-(1)];\\n    }\\n,this)]\\n        [this[\\\"changes\\\"].subscribe((function (val){!(this.valueFromJulia[\\\"changes\\\"]) ? (WebIO.setval({\\\"name\\\":\\\"changes\\\",\\\"scope\\\":\\\"11628703271295953027\\\",\\\"id\\\":\\\"14544836565126363160\\\",\\\"type\\\":\\\"observable\\\"},val)) : undefined; return this.valueFromJulia[\\\"changes\\\"]=false}),self),this[\\\"index\\\"].subscribe((function (val){!(this.valueFromJulia[\\\"index\\\"]) ? (WebIO.setval({\\\"name\\\":\\\"index\\\",\\\"scope\\\":\\\"11628703271295953027\\\",\\\"id\\\":\\\"9543718811994825399\\\",\\\"type\\\":\\\"observable\\\"},val)) : undefined; return this.valueFromJulia[\\\"index\\\"]=false}),self)]\\n        \\n    }\\n    self.model = new AppViewModel();\\n    self.valueFromJulia = {};\\n    for (var key in json_data) {\\n        self.valueFromJulia[key] = false;\\n    }\\n    ko.applyBindings(self.model, self.dom);\\n}\\n);\\n    (WebIO.importBlock({\\\"data\\\":[{\\\"name\\\":\\\"knockout\\\",\\\"type\\\":\\\"js\\\",\\\"url\\\":\\\"/assetserver/727383f2a47bd31570b7da84eee7b022dd6d7c78-knockout.js\\\"},{\\\"name\\\":\\\"knockout_punches\\\",\\\"type\\\":\\\"js\\\",\\\"url\\\":\\\"/assetserver/382b41b3b1bd9f26f75861d360bad7f8beea211f-knockout_punches.js\\\"}],\\\"type\\\":\\\"async_block\\\"})).then((imports) => handler.apply(this, imports));\\n}\\n\")])], Dict{Symbol, Any}(:className => \"field interact-widget\")), WebIO.Node{WebIO.DOM}(WebIO.DOM(:html, :div), Any[WebIO.Node{WebIO.DOM}(WebIO.DOM(:html, :div), Any[WebIO.Scope(WebIO.Node{WebIO.DOM}(WebIO.DOM(:html, :div), Any[], Dict{Symbol, Any}(:id => \"container\")), Dict{String, Tuple{Observables.AbstractObservable, Union{Nothing, Bool}}}(\"value\" => (Observable(\"\\\\;\\\\;\"), nothing)), Set{String}(), nothing, WebIO.Asset[WebIO.Asset(\"js\", nothing, \"/home/dushya/.julia/packages/InteractBase/LJXv3/src/../assets/katex.min.js\"), WebIO.Asset(\"css\", nothing, \"/home/dushya/.julia/packages/InteractBase/LJXv3/src/../assets/katex.min.css\")], Dict{Any, Any}(\"value\" => Any[WebIO.JSString(\"(function (txt){return this.k.render(txt,this.container)})\")]), WebIO.ConnectionPool(Channel{Any}(32), Set{WebIO.AbstractConnection}(), Base.GenericCondition{ReentrantLock}(Base.IntrusiveLinkedList{Task}(Task (runnable) @0x00007f8932101780, Task (runnable) @0x00007f8932101780), ReentrantLock(nothing, 0x00000000, 0x00, Base.GenericCondition{Base.Threads.SpinLock}(Base.IntrusiveLinkedList{Task}(nothing, nothing), Base.Threads.SpinLock(0)), (8, 140229011903488, 141733920768)))), WebIO.JSString[WebIO.JSString(\"function () {\\n    var handler = ((function (k){this.k=k; this.container=this.dom.querySelector(\\\"#container\\\"); return k.render(\\\"\\\\\\\\;\\\\\\\\;\\\",this.container)}));\\n    (WebIO.importBlock({\\\"data\\\":[{\\\"name\\\":null,\\\"type\\\":\\\"js\\\",\\\"url\\\":\\\"/assetserver/dd22ed1bf1896c2748f3fe616ce0b838adc895c1-katex.min.js\\\"},{\\\"name\\\":null,\\\"type\\\":\\\"css\\\",\\\"url\\\":\\\"/assetserver/46517a424aa5e6cffc1360d7e0848b601c584ee3-katex.min.css\\\"}],\\\"type\\\":\\\"async_block\\\"})).then((imports) => handler.apply(this, imports));\\n}\\n\")])], Dict{Symbol, Any}(:className => \"interact-widget\")), WebIO.Node{WebIO.DOM}(WebIO.DOM(:html, :div), Any[WebIO.Scope(WebIO.Node{WebIO.DOM}(WebIO.DOM(:html, :button), Any[\"run\"], Dict{Symbol, Any}(:attributes => Dict{Any, Any}(\"data-bind\" => \"click: function (){this.clicks(this.clicks()+1)}, css: {'is-loading' : loading}\"), :className => \"is-medium button is-primary\", :style => Dict{String, Any}())), Dict{String, Tuple{Observables.AbstractObservable, Union{Nothing, Bool}}}(\"loading\" => (Observable(false), nothing), \"clicks\" => (Observable(0), nothing)), Set{String}(), nothing, WebIO.Asset[WebIO.Asset(\"js\", \"knockout\", \"/home/dushya/.julia/packages/Knockout/HReiN/src/../assets/knockout.js\"), WebIO.Asset(\"js\", \"knockout_punches\", \"/home/dushya/.julia/packages/Knockout/HReiN/src/../assets/knockout_punches.js\"), WebIO.Asset(\"js\", nothing, \"/home/dushya/.julia/packages/InteractBase/LJXv3/src/../assets/all.js\"), WebIO.Asset(\"css\", nothing, \"/home/dushya/.julia/packages/InteractBase/LJXv3/src/../assets/style.css\"), WebIO.Asset(\"css\", nothing, \"/home/dushya/.julia/packages/Interact/PENUy/src/../assets/bulma_confined.min.css\")], Dict{Any, Any}(\"loading\" => Any[WebIO.JSString(\"(function (val){return (val!=this.model[\\\"loading\\\"]()) ? (this.valueFromJulia[\\\"loading\\\"]=true, this.model[\\\"loading\\\"](val)) : undefined})\")], \"clicks\" => Any[WebIO.JSString(\"(function (val){return (val!=this.model[\\\"clicks\\\"]()) ? (this.valueFromJulia[\\\"clicks\\\"]=true, this.model[\\\"clicks\\\"](val)) : undefined})\")]), WebIO.ConnectionPool(Channel{Any}(32), Set{WebIO.AbstractConnection}(), Base.GenericCondition{ReentrantLock}(Base.IntrusiveLinkedList{Task}(Task (runnable) @0x00007f89a3b40b00, Task (runnable) @0x00007f89a3b40b00), ReentrantLock(nothing, 0x00000000, 0x00, Base.GenericCondition{Base.Threads.SpinLock}(Base.IntrusiveLinkedList{Task}(nothing, nothing), Base.Threads.SpinLock(0)), (0, 526336, 0)))), WebIO.JSString[WebIO.JSString(\"function () {\\n    var handler = (function (ko, koPunches) {\\n    ko.punches.enableAll();\\n    ko.bindingHandlers.numericValue = {\\n        init: function(element, valueAccessor, allBindings, data, context) {\\n            var stringified = ko.observable(ko.unwrap(valueAccessor()));\\n            stringified.subscribe(function(value) {\\n                var val = parseFloat(value);\\n                if (!isNaN(val)) {\\n                    valueAccessor()(val);\\n                }\\n            });\\n            valueAccessor().subscribe(function(value) {\\n                var str = JSON.stringify(value);\\n                if ((str == \\\"0\\\") && ([\\\"-0\\\", \\\"-0.\\\"].indexOf(stringified()) >= 0))\\n                     return;\\n                 if ([\\\"null\\\", \\\"\\\"].indexOf(str) >= 0)\\n                     return;\\n                stringified(str);\\n            });\\n            ko.applyBindingsToNode(\\n                element,\\n                {\\n                    value: stringified,\\n                    valueUpdate: allBindings.get('valueUpdate'),\\n                },\\n                context,\\n            );\\n        }\\n    };\\n    var json_data = {\\\"loading\\\":WebIO.getval({\\\"name\\\":\\\"loading\\\",\\\"scope\\\":\\\"1086349807809010779\\\",\\\"id\\\":\\\"15943878162624663857\\\",\\\"type\\\":\\\"observable\\\"}),\\\"clicks\\\":WebIO.getval({\\\"name\\\":\\\"clicks\\\",\\\"scope\\\":\\\"1086349807809010779\\\",\\\"id\\\":\\\"15342807870046011735\\\",\\\"type\\\":\\\"observable\\\"})};\\n    var self = this;\\n    function AppViewModel() {\\n        for (var key in json_data) {\\n            var el = json_data[key];\\n            this[key] = Array.isArray(el) ? ko.observableArray(el) : ko.observable(el);\\n        }\\n        \\n        \\n        [this[\\\"loading\\\"].subscribe((function (val){!(this.valueFromJulia[\\\"loading\\\"]) ? (WebIO.setval({\\\"name\\\":\\\"loading\\\",\\\"scope\\\":\\\"1086349807809010779\\\",\\\"id\\\":\\\"15943878162624663857\\\",\\\"type\\\":\\\"observable\\\"},val)) : undefined; return this.valueFromJulia[\\\"loading\\\"]=false}),self),this[\\\"clicks\\\"].subscribe((function (val){!(this.valueFromJulia[\\\"clicks\\\"]) ? (WebIO.setval({\\\"name\\\":\\\"clicks\\\",\\\"scope\\\":\\\"1086349807809010779\\\",\\\"id\\\":\\\"15342807870046011735\\\",\\\"type\\\":\\\"observable\\\"},val)) : undefined; return this.valueFromJulia[\\\"clicks\\\"]=false}),self)]\\n        \\n    }\\n    self.model = new AppViewModel();\\n    self.valueFromJulia = {};\\n    for (var key in json_data) {\\n        self.valueFromJulia[key] = false;\\n    }\\n    ko.applyBindings(self.model, self.dom);\\n}\\n);\\n    (WebIO.importBlock({\\\"data\\\":[{\\\"name\\\":\\\"knockout\\\",\\\"type\\\":\\\"js\\\",\\\"url\\\":\\\"/assetserver/727383f2a47bd31570b7da84eee7b022dd6d7c78-knockout.js\\\"},{\\\"name\\\":\\\"knockout_punches\\\",\\\"type\\\":\\\"js\\\",\\\"url\\\":\\\"/assetserver/382b41b3b1bd9f26f75861d360bad7f8beea211f-knockout_punches.js\\\"}],\\\"type\\\":\\\"async_block\\\"})).then((imports) => handler.apply(this, imports));\\n}\\n\")])], Dict{Symbol, Any}(:className => \"field interact-widget\")), WebIO.Node{WebIO.DOM}(WebIO.DOM(:html, :div), Any[WebIO.Scope(WebIO.Node{WebIO.DOM}(WebIO.DOM(:html, :div), Any[], Dict{Symbol, Any}(:id => \"container\")), Dict{String, Tuple{Observables.AbstractObservable, Union{Nothing, Bool}}}(\"value\" => (Observable(\"\\\\;\\\\;\"), nothing)), Set{String}(), nothing, WebIO.Asset[WebIO.Asset(\"js\", nothing, \"/home/dushya/.julia/packages/InteractBase/LJXv3/src/../assets/katex.min.js\"), WebIO.Asset(\"css\", nothing, \"/home/dushya/.julia/packages/InteractBase/LJXv3/src/../assets/katex.min.css\")], Dict{Any, Any}(\"value\" => Any[WebIO.JSString(\"(function (txt){return this.k.render(txt,this.container)})\")]), WebIO.ConnectionPool(Channel{Any}(32), Set{WebIO.AbstractConnection}(), Base.GenericCondition{ReentrantLock}(Base.IntrusiveLinkedList{Task}(Task (runnable) @0x00007f8932101780, Task (runnable) @0x00007f8932101780), ReentrantLock(nothing, 0x00000000, 0x00, Base.GenericCondition{Base.Threads.SpinLock}(Base.IntrusiveLinkedList{Task}(nothing, nothing), Base.Threads.SpinLock(0)), (8, 140229011903488, 141733920768)))), WebIO.JSString[WebIO.JSString(\"function () {\\n    var handler = ((function (k){this.k=k; this.container=this.dom.querySelector(\\\"#container\\\"); return k.render(\\\"\\\\\\\\;\\\\\\\\;\\\",this.container)}));\\n    (WebIO.importBlock({\\\"data\\\":[{\\\"name\\\":null,\\\"type\\\":\\\"js\\\",\\\"url\\\":\\\"/assetserver/dd22ed1bf1896c2748f3fe616ce0b838adc895c1-katex.min.js\\\"},{\\\"name\\\":null,\\\"type\\\":\\\"css\\\",\\\"url\\\":\\\"/assetserver/46517a424aa5e6cffc1360d7e0848b601c584ee3-katex.min.css\\\"}],\\\"type\\\":\\\"async_block\\\"})).then((imports) => handler.apply(this, imports));\\n}\\n\")])], Dict{Symbol, Any}(:className => \"interact-widget\")), WebIO.Node{WebIO.DOM}(WebIO.DOM(:html, :div), Any[WebIO.Scope(WebIO.Node{WebIO.DOM}(WebIO.DOM(:html, :button), Any[\"stop\"], Dict{Symbol, Any}(:attributes => Dict{Any, Any}(\"data-bind\" => \"click: function (){this.clicks(this.clicks()+1)}, css: {'is-loading' : loading}\"), :className => \"is-medium button is-primary\", :style => Dict{String, Any}())), Dict{String, Tuple{Observables.AbstractObservable, Union{Nothing, Bool}}}(\"loading\" => (Observable(false), nothing), \"clicks\" => (Observable(0), nothing)), Set{String}(), nothing, WebIO.Asset[WebIO.Asset(\"js\", \"knockout\", \"/home/dushya/.julia/packages/Knockout/HReiN/src/../assets/knockout.js\"), WebIO.Asset(\"js\", \"knockout_punches\", \"/home/dushya/.julia/packages/Knockout/HReiN/src/../assets/knockout_punches.js\"), WebIO.Asset(\"js\", nothing, \"/home/dushya/.julia/packages/InteractBase/LJXv3/src/../assets/all.js\"), WebIO.Asset(\"css\", nothing, \"/home/dushya/.julia/packages/InteractBase/LJXv3/src/../assets/style.css\"), WebIO.Asset(\"css\", nothing, \"/home/dushya/.julia/packages/Interact/PENUy/src/../assets/bulma_confined.min.css\")], Dict{Any, Any}(\"loading\" => Any[WebIO.JSString(\"(function (val){return (val!=this.model[\\\"loading\\\"]()) ? (this.valueFromJulia[\\\"loading\\\"]=true, this.model[\\\"loading\\\"](val)) : undefined})\")], \"clicks\" => Any[WebIO.JSString(\"(function (val){return (val!=this.model[\\\"clicks\\\"]()) ? (this.valueFromJulia[\\\"clicks\\\"]=true, this.model[\\\"clicks\\\"](val)) : undefined})\")]), WebIO.ConnectionPool(Channel{Any}(32), Set{WebIO.AbstractConnection}(), Base.GenericCondition{ReentrantLock}(Base.IntrusiveLinkedList{Task}(Task (runnable) @0x00007f893054c650, Task (runnable) @0x00007f893054c650), ReentrantLock(nothing, 0x00000000, 0x00, Base.GenericCondition{Base.Threads.SpinLock}(Base.IntrusiveLinkedList{Task}(nothing, nothing), Base.Threads.SpinLock(0)), (2, 140227232688512, 140227232688528)))), WebIO.JSString[WebIO.JSString(\"function () {\\n    var handler = (function (ko, koPunches) {\\n    ko.punches.enableAll();\\n    ko.bindingHandlers.numericValue = {\\n        init: function(element, valueAccessor, allBindings, data, context) {\\n            var stringified = ko.observable(ko.unwrap(valueAccessor()));\\n            stringified.subscribe(function(value) {\\n                var val = parseFloat(value);\\n                if (!isNaN(val)) {\\n                    valueAccessor()(val);\\n                }\\n            });\\n            valueAccessor().subscribe(function(value) {\\n                var str = JSON.stringify(value);\\n                if ((str == \\\"0\\\") && ([\\\"-0\\\", \\\"-0.\\\"].indexOf(stringified()) >= 0))\\n                     return;\\n                 if ([\\\"null\\\", \\\"\\\"].indexOf(str) >= 0)\\n                     return;\\n                stringified(str);\\n            });\\n            ko.applyBindingsToNode(\\n                element,\\n                {\\n                    value: stringified,\\n                    valueUpdate: allBindings.get('valueUpdate'),\\n                },\\n                context,\\n            );\\n        }\\n    };\\n    var json_data = {\\\"loading\\\":WebIO.getval({\\\"name\\\":\\\"loading\\\",\\\"scope\\\":\\\"15703743281658870422\\\",\\\"id\\\":\\\"13815928399214152474\\\",\\\"type\\\":\\\"observable\\\"}),\\\"clicks\\\":WebIO.getval({\\\"name\\\":\\\"clicks\\\",\\\"scope\\\":\\\"15703743281658870422\\\",\\\"id\\\":\\\"17897555848833005479\\\",\\\"type\\\":\\\"observable\\\"})};\\n    var self = this;\\n    function AppViewModel() {\\n        for (var key in json_data) {\\n            var el = json_data[key];\\n            this[key] = Array.isArray(el) ? ko.observableArray(el) : ko.observable(el);\\n        }\\n        \\n        \\n        [this[\\\"loading\\\"].subscribe((function (val){!(this.valueFromJulia[\\\"loading\\\"]) ? (WebIO.setval({\\\"name\\\":\\\"loading\\\",\\\"scope\\\":\\\"15703743281658870422\\\",\\\"id\\\":\\\"13815928399214152474\\\",\\\"type\\\":\\\"observable\\\"},val)) : undefined; return this.valueFromJulia[\\\"loading\\\"]=false}),self),this[\\\"clicks\\\"].subscribe((function (val){!(this.valueFromJulia[\\\"clicks\\\"]) ? (WebIO.setval({\\\"name\\\":\\\"clicks\\\",\\\"scope\\\":\\\"15703743281658870422\\\",\\\"id\\\":\\\"17897555848833005479\\\",\\\"type\\\":\\\"observable\\\"},val)) : undefined; return this.valueFromJulia[\\\"clicks\\\"]=false}),self)]\\n        \\n    }\\n    self.model = new AppViewModel();\\n    self.valueFromJulia = {};\\n    for (var key in json_data) {\\n        self.valueFromJulia[key] = false;\\n    }\\n    ko.applyBindings(self.model, self.dom);\\n}\\n);\\n    (WebIO.importBlock({\\\"data\\\":[{\\\"name\\\":\\\"knockout\\\",\\\"type\\\":\\\"js\\\",\\\"url\\\":\\\"/assetserver/727383f2a47bd31570b7da84eee7b022dd6d7c78-knockout.js\\\"},{\\\"name\\\":\\\"knockout_punches\\\",\\\"type\\\":\\\"js\\\",\\\"url\\\":\\\"/assetserver/382b41b3b1bd9f26f75861d360bad7f8beea211f-knockout_punches.js\\\"}],\\\"type\\\":\\\"async_block\\\"})).then((imports) => handler.apply(this, imports));\\n}\\n\")])], Dict{Symbol, Any}(:className => \"field interact-widget\")), WebIO.Node{WebIO.DOM}(WebIO.DOM(:html, :div), Any[WebIO.Scope(WebIO.Node{WebIO.DOM}(WebIO.DOM(:html, :div), Any[], Dict{Symbol, Any}(:id => \"container\")), Dict{String, Tuple{Observables.AbstractObservable, Union{Nothing, Bool}}}(\"value\" => (Observable(\"\\\\;\\\\;\"), nothing)), Set{String}(), nothing, WebIO.Asset[WebIO.Asset(\"js\", nothing, \"/home/dushya/.julia/packages/InteractBase/LJXv3/src/../assets/katex.min.js\"), WebIO.Asset(\"css\", nothing, \"/home/dushya/.julia/packages/InteractBase/LJXv3/src/../assets/katex.min.css\")], Dict{Any, Any}(\"value\" => Any[WebIO.JSString(\"(function (txt){return this.k.render(txt,this.container)})\")]), WebIO.ConnectionPool(Channel{Any}(32), Set{WebIO.AbstractConnection}(), Base.GenericCondition{ReentrantLock}(Base.IntrusiveLinkedList{Task}(Task (runnable) @0x00007f8932101780, Task (runnable) @0x00007f8932101780), ReentrantLock(nothing, 0x00000000, 0x00, Base.GenericCondition{Base.Threads.SpinLock}(Base.IntrusiveLinkedList{Task}(nothing, nothing), Base.Threads.SpinLock(0)), (8, 140229011903488, 141733920768)))), WebIO.JSString[WebIO.JSString(\"function () {\\n    var handler = ((function (k){this.k=k; this.container=this.dom.querySelector(\\\"#container\\\"); return k.render(\\\"\\\\\\\\;\\\\\\\\;\\\",this.container)}));\\n    (WebIO.importBlock({\\\"data\\\":[{\\\"name\\\":null,\\\"type\\\":\\\"js\\\",\\\"url\\\":\\\"/assetserver/dd22ed1bf1896c2748f3fe616ce0b838adc895c1-katex.min.js\\\"},{\\\"name\\\":null,\\\"type\\\":\\\"css\\\",\\\"url\\\":\\\"/assetserver/46517a424aa5e6cffc1360d7e0848b601c584ee3-katex.min.css\\\"}],\\\"type\\\":\\\"async_block\\\"})).then((imports) => handler.apply(this, imports));\\n}\\n\")])], Dict{Symbol, Any}(:className => \"interact-widget\")), WebIO.Node{WebIO.DOM}(WebIO.DOM(:html, :div), Any[WebIO.Scope(WebIO.Node{WebIO.DOM}(WebIO.DOM(:html, :button), Any[\"save\"], Dict{Symbol, Any}(:attributes => Dict{Any, Any}(\"data-bind\" => \"click: function (){this.clicks(this.clicks()+1)}, css: {'is-loading' : loading}\"), :className => \"is-medium button is-primary\", :style => Dict{String, Any}())), Dict{String, Tuple{Observables.AbstractObservable, Union{Nothing, Bool}}}(\"loading\" => (Observable(false), nothing), \"clicks\" => (Observable(0), nothing)), Set{String}(), nothing, WebIO.Asset[WebIO.Asset(\"js\", \"knockout\", \"/home/dushya/.julia/packages/Knockout/HReiN/src/../assets/knockout.js\"), WebIO.Asset(\"js\", \"knockout_punches\", \"/home/dushya/.julia/packages/Knockout/HReiN/src/../assets/knockout_punches.js\"), WebIO.Asset(\"js\", nothing, \"/home/dushya/.julia/packages/InteractBase/LJXv3/src/../assets/all.js\"), WebIO.Asset(\"css\", nothing, \"/home/dushya/.julia/packages/InteractBase/LJXv3/src/../assets/style.css\"), WebIO.Asset(\"css\", nothing, \"/home/dushya/.julia/packages/Interact/PENUy/src/../assets/bulma_confined.min.css\")], Dict{Any, Any}(\"loading\" => Any[WebIO.JSString(\"(function (val){return (val!=this.model[\\\"loading\\\"]()) ? (this.valueFromJulia[\\\"loading\\\"]=true, this.model[\\\"loading\\\"](val)) : undefined})\")], \"clicks\" => Any[WebIO.JSString(\"(function (val){return (val!=this.model[\\\"clicks\\\"]()) ? (this.valueFromJulia[\\\"clicks\\\"]=true, this.model[\\\"clicks\\\"](val)) : undefined})\")]), WebIO.ConnectionPool(Channel{Any}(32), Set{WebIO.AbstractConnection}(), Base.GenericCondition{ReentrantLock}(Base.IntrusiveLinkedList{Task}(Task (runnable) @0x00007f893054ed60, Task (runnable) @0x00007f893054ed60), ReentrantLock(nothing, 0x00000000, 0x00, Base.GenericCondition{Base.Threads.SpinLock}(Base.IntrusiveLinkedList{Task}(nothing, nothing), Base.Threads.SpinLock(0)), (8, 140229155483656, 140229155485744)))), WebIO.JSString[WebIO.JSString(\"function () {\\n    var handler = (function (ko, koPunches) {\\n    ko.punches.enableAll();\\n    ko.bindingHandlers.numericValue = {\\n        init: function(element, valueAccessor, allBindings, data, context) {\\n            var stringified = ko.observable(ko.unwrap(valueAccessor()));\\n            stringified.subscribe(function(value) {\\n                var val = parseFloat(value);\\n                if (!isNaN(val)) {\\n                    valueAccessor()(val);\\n                }\\n            });\\n            valueAccessor().subscribe(function(value) {\\n                var str = JSON.stringify(value);\\n                if ((str == \\\"0\\\") && ([\\\"-0\\\", \\\"-0.\\\"].indexOf(stringified()) >= 0))\\n                     return;\\n                 if ([\\\"null\\\", \\\"\\\"].indexOf(str) >= 0)\\n                     return;\\n                stringified(str);\\n            });\\n            ko.applyBindingsToNode(\\n                element,\\n                {\\n                    value: stringified,\\n                    valueUpdate: allBindings.get('valueUpdate'),\\n                },\\n                context,\\n            );\\n        }\\n    };\\n    var json_data = {\\\"loading\\\":WebIO.getval({\\\"name\\\":\\\"loading\\\",\\\"scope\\\":\\\"5899973686552307234\\\",\\\"id\\\":\\\"8504591548680071564\\\",\\\"type\\\":\\\"observable\\\"}),\\\"clicks\\\":WebIO.getval({\\\"name\\\":\\\"clicks\\\",\\\"scope\\\":\\\"5899973686552307234\\\",\\\"id\\\":\\\"7135735100736794978\\\",\\\"type\\\":\\\"observable\\\"})};\\n    var self = this;\\n    function AppViewModel() {\\n        for (var key in json_data) {\\n            var el = json_data[key];\\n            this[key] = Array.isArray(el) ? ko.observableArray(el) : ko.observable(el);\\n        }\\n        \\n        \\n        [this[\\\"loading\\\"].subscribe((function (val){!(this.valueFromJulia[\\\"loading\\\"]) ? (WebIO.setval({\\\"name\\\":\\\"loading\\\",\\\"scope\\\":\\\"5899973686552307234\\\",\\\"id\\\":\\\"8504591548680071564\\\",\\\"type\\\":\\\"observable\\\"},val)) : undefined; return this.valueFromJulia[\\\"loading\\\"]=false}),self),this[\\\"clicks\\\"].subscribe((function (val){!(this.valueFromJulia[\\\"clicks\\\"]) ? (WebIO.setval({\\\"name\\\":\\\"clicks\\\",\\\"scope\\\":\\\"5899973686552307234\\\",\\\"id\\\":\\\"7135735100736794978\\\",\\\"type\\\":\\\"observable\\\"},val)) : undefined; return this.valueFromJulia[\\\"clicks\\\"]=false}),self)]\\n        \\n    }\\n    self.model = new AppViewModel();\\n    self.valueFromJulia = {};\\n    for (var key in json_data) {\\n        self.valueFromJulia[key] = false;\\n    }\\n    ko.applyBindings(self.model, self.dom);\\n}\\n);\\n    (WebIO.importBlock({\\\"data\\\":[{\\\"name\\\":\\\"knockout\\\",\\\"type\\\":\\\"js\\\",\\\"url\\\":\\\"/assetserver/727383f2a47bd31570b7da84eee7b022dd6d7c78-knockout.js\\\"},{\\\"name\\\":\\\"knockout_punches\\\",\\\"type\\\":\\\"js\\\",\\\"url\\\":\\\"/assetserver/382b41b3b1bd9f26f75861d360bad7f8beea211f-knockout_punches.js\\\"}],\\\"type\\\":\\\"async_block\\\"})).then((imports) => handler.apply(this, imports));\\n}\\n\")])], Dict{Symbol, Any}(:className => \"field interact-widget\"))], Dict{Symbol, Any}(:style => Dict(\"display\" => \"flex\", \"flex-direction\" => \"row\")))], Dict{Symbol, Any}(:style => Dict(\"display\" => \"flex\", \"flex-direction\" => \"column\"))), WebIO.Node{WebIO.DOM}(WebIO.DOM(:html, :div), Any[WebIO.Scope(WebIO.Node{WebIO.DOM}(WebIO.DOM(:html, :div), Any[], Dict{Symbol, Any}(:id => \"container\")), Dict{String, Tuple{Observables.AbstractObservable, Union{Nothing, Bool}}}(\"value\" => (Observable(\"\\\\;\\\\;\"), nothing)), Set{String}(), nothing, WebIO.Asset[WebIO.Asset(\"js\", nothing, \"/home/dushya/.julia/packages/InteractBase/LJXv3/src/../assets/katex.min.js\"), WebIO.Asset(\"css\", nothing, \"/home/dushya/.julia/packages/InteractBase/LJXv3/src/../assets/katex.min.css\")], Dict{Any, Any}(\"value\" => Any[WebIO.JSString(\"(function (txt){return this.k.render(txt,this.container)})\")]), WebIO.ConnectionPool(Channel{Any}(32), Set{WebIO.AbstractConnection}(), Base.GenericCondition{ReentrantLock}(Base.IntrusiveLinkedList{Task}(Task (runnable) @0x00007f8932101780, Task (runnable) @0x00007f8932101780), ReentrantLock(nothing, 0x00000000, 0x00, Base.GenericCondition{Base.Threads.SpinLock}(Base.IntrusiveLinkedList{Task}(nothing, nothing), Base.Threads.SpinLock(0)), (8, 140229011903488, 141733920768)))), WebIO.JSString[WebIO.JSString(\"function () {\\n    var handler = ((function (k){this.k=k; this.container=this.dom.querySelector(\\\"#container\\\"); return k.render(\\\"\\\\\\\\;\\\\\\\\;\\\",this.container)}));\\n    (WebIO.importBlock({\\\"data\\\":[{\\\"name\\\":null,\\\"type\\\":\\\"js\\\",\\\"url\\\":\\\"/assetserver/dd22ed1bf1896c2748f3fe616ce0b838adc895c1-katex.min.js\\\"},{\\\"name\\\":null,\\\"type\\\":\\\"css\\\",\\\"url\\\":\\\"/assetserver/46517a424aa5e6cffc1360d7e0848b601c584ee3-katex.min.css\\\"}],\\\"type\\\":\\\"async_block\\\"})).then((imports) => handler.apply(this, imports));\\n}\\n\")])], Dict{Symbol, Any}(:className => \"interact-widget\")), Observable(Luxor.Drawing(430.0, 430.0, \"\", Cairo.CairoSurfaceBase{UInt32}(Ptr{Nothing} @0x0000000000000000, 430.0, 430.0), Cairo.CairoContext(Ptr{Nothing} @0x0000000004ed8290, Cairo.CairoSurfaceBase{UInt32}(Ptr{Nothing} @0x0000000000000000, 430.0, 430.0), Ptr{Nothing} @0x000000000412e0d0), :png, 0.0, 0.0, 0.0, 1.0, IOBuffer(data=UInt8[...], readable=true, writable=true, seekable=true, append=false, size=3851, maxsize=Inf, ptr=3852, mark=-1), UInt8[0x89, 0x50, 0x4e, 0x47, 0x0d, 0x0a, 0x1a, 0x0a, 0x00, 0x00  …  0x00, 0x00, 0x49, 0x45, 0x4e, 0x44, 0xae, 0x42, 0x60, 0x82], false)), WebIO.Node{WebIO.DOM}(WebIO.DOM(:html, :div), Any[WebIO.Scope(WebIO.Node{WebIO.DOM}(WebIO.DOM(:html, :div), Any[], Dict{Symbol, Any}(:id => \"container\")), Dict{String, Tuple{Observables.AbstractObservable, Union{Nothing, Bool}}}(\"value\" => (Observable(\"\\\\;\\\\;\"), nothing)), Set{String}(), nothing, WebIO.Asset[WebIO.Asset(\"js\", nothing, \"/home/dushya/.julia/packages/InteractBase/LJXv3/src/../assets/katex.min.js\"), WebIO.Asset(\"css\", nothing, \"/home/dushya/.julia/packages/InteractBase/LJXv3/src/../assets/katex.min.css\")], Dict{Any, Any}(\"value\" => Any[WebIO.JSString(\"(function (txt){return this.k.render(txt,this.container)})\")]), WebIO.ConnectionPool(Channel{Any}(32), Set{WebIO.AbstractConnection}(), Base.GenericCondition{ReentrantLock}(Base.IntrusiveLinkedList{Task}(Task (runnable) @0x00007f8932101780, Task (runnable) @0x00007f8932101780), ReentrantLock(nothing, 0x00000000, 0x00, Base.GenericCondition{Base.Threads.SpinLock}(Base.IntrusiveLinkedList{Task}(nothing, nothing), Base.Threads.SpinLock(0)), (8, 140229011903488, 141733920768)))), WebIO.JSString[WebIO.JSString(\"function () {\\n    var handler = ((function (k){this.k=k; this.container=this.dom.querySelector(\\\"#container\\\"); return k.render(\\\"\\\\\\\\;\\\\\\\\;\\\",this.container)}));\\n    (WebIO.importBlock({\\\"data\\\":[{\\\"name\\\":null,\\\"type\\\":\\\"js\\\",\\\"url\\\":\\\"/assetserver/dd22ed1bf1896c2748f3fe616ce0b838adc895c1-katex.min.js\\\"},{\\\"name\\\":null,\\\"type\\\":\\\"css\\\",\\\"url\\\":\\\"/assetserver/46517a424aa5e6cffc1360d7e0848b601c584ee3-katex.min.css\\\"}],\\\"type\\\":\\\"async_block\\\"})).then((imports) => handler.apply(this, imports));\\n}\\n\")])], Dict{Symbol, Any}(:className => \"interact-widget\")), WebIO.Node{WebIO.DOM}(WebIO.DOM(:html, :div), Any[], Dict{Symbol, Any}(:style => Dict(\"display\" => \"flex\", \"flex-direction\" => \"column\")))], Dict{Symbol, Any}(:style => Dict(\"display\" => \"flex\", \"flex-direction\" => \"row\")))], Dict{Symbol, Any}(:style => Dict(\"display\" => \"flex\", \"flex-direction\" => \"column\")))"
      ]
     },
     "execution_count": 13,
     "metadata": {
      "application/vnd.webio.node+json": {
       "kernelId": "59ae0399-17e5-4a1e-bd11-e510a7b45386"
      }
     },
     "output_type": "execute_result"
    }
   ],
   "source": [
    "animate_sim(model)"
   ]
  },
  {
   "cell_type": "markdown",
   "metadata": {},
   "source": [
    "After defining the `step_rule!` function we can also choose to create an interactive application (which currently works in Jupyter with WebIO installation) as "
   ]
  },
  {
   "cell_type": "code",
   "execution_count": 14,
   "metadata": {
    "scrolled": true
   },
   "outputs": [
    {
     "data": {
      "application/vnd.webio.node+json": {
       "children": [
        {
         "children": [
          {
           "children": [
            {
             "children": [
              {
               "children": [
                {
                 "children": [
                  {
                   "children": [
                    {
                     "children": [
                      "time"
                     ],
                     "instanceArgs": {
                      "namespace": "html",
                      "tag": "label"
                     },
                     "nodeType": "DOM",
                     "props": {
                      "className": "interact ",
                      "style": {
                       "padding": "5px 10px 0px 10px"
                      }
                     },
                     "type": "node"
                    }
                   ],
                   "instanceArgs": {
                    "namespace": "html",
                    "tag": "div"
                   },
                   "nodeType": "DOM",
                   "props": {
                    "className": "interact-flex-row-left"
                   },
                   "type": "node"
                  },
                  {
                   "children": [
                    {
                     "children": [],
                     "instanceArgs": {
                      "namespace": "html",
                      "tag": "input"
                     },
                     "nodeType": "DOM",
                     "props": {
                      "attributes": {
                       "data-bind": "numericValue: index, valueUpdate: 'input', event: {change: function (){this.changes(this.changes()+1)}}",
                       "orient": "horizontal",
                       "type": "range"
                      },
                      "className": "slider slider is-fullwidth",
                      "max": 200,
                      "min": 1,
                      "step": 1,
                      "style": {}
                     },
                     "type": "node"
                    }
                   ],
                   "instanceArgs": {
                    "namespace": "html",
                    "tag": "div"
                   },
                   "nodeType": "DOM",
                   "props": {
                    "className": "interact-flex-row-center"
                   },
                   "type": "node"
                  },
                  {
                   "children": [
                    {
                     "children": [],
                     "instanceArgs": {
                      "namespace": "html",
                      "tag": "p"
                     },
                     "nodeType": "DOM",
                     "props": {
                      "attributes": {
                       "data-bind": "text: formatted_val"
                      }
                     },
                     "type": "node"
                    }
                   ],
                   "instanceArgs": {
                    "namespace": "html",
                    "tag": "div"
                   },
                   "nodeType": "DOM",
                   "props": {
                    "className": "interact-flex-row-right"
                   },
                   "type": "node"
                  }
                 ],
                 "instanceArgs": {
                  "namespace": "html",
                  "tag": "div"
                 },
                 "nodeType": "DOM",
                 "props": {
                  "className": "interact-flex-row interact-widget"
                 },
                 "type": "node"
                }
               ],
               "instanceArgs": {
                "handlers": {
                 "changes": [
                  "(function (val){return (val!=this.model[\"changes\"]()) ? (this.valueFromJulia[\"changes\"]=true, this.model[\"changes\"](val)) : undefined})"
                 ],
                 "index": [
                  "(function (val){return (val!=this.model[\"index\"]()) ? (this.valueFromJulia[\"index\"]=true, this.model[\"index\"](val)) : undefined})"
                 ]
                },
                "id": "13307734633236114650",
                "imports": {
                 "data": [
                  {
                   "name": "knockout",
                   "type": "js",
                   "url": "/assetserver/727383f2a47bd31570b7da84eee7b022dd6d7c78-knockout.js"
                  },
                  {
                   "name": "knockout_punches",
                   "type": "js",
                   "url": "/assetserver/382b41b3b1bd9f26f75861d360bad7f8beea211f-knockout_punches.js"
                  },
                  {
                   "name": null,
                   "type": "js",
                   "url": "/assetserver/5ab20f1060420992a9b82a65b735dee4d81ef413-all.js"
                  },
                  {
                   "name": null,
                   "type": "css",
                   "url": "/assetserver/1cc0ed62837210b80a182cc3676512f895dab686-style.css"
                  },
                  {
                   "name": null,
                   "type": "css",
                   "url": "/assetserver/2eee816f616df3549d7044d45e744fbf8d42bfa1-bulma_confined.min.css"
                  }
                 ],
                 "type": "async_block"
                },
                "mount_callbacks": [
                 "function () {\n    var handler = (function (ko, koPunches) {\n    ko.punches.enableAll();\n    ko.bindingHandlers.numericValue = {\n        init: function(element, valueAccessor, allBindings, data, context) {\n            var stringified = ko.observable(ko.unwrap(valueAccessor()));\n            stringified.subscribe(function(value) {\n                var val = parseFloat(value);\n                if (!isNaN(val)) {\n                    valueAccessor()(val);\n                }\n            });\n            valueAccessor().subscribe(function(value) {\n                var str = JSON.stringify(value);\n                if ((str == \"0\") && ([\"-0\", \"-0.\"].indexOf(stringified()) >= 0))\n                     return;\n                 if ([\"null\", \"\"].indexOf(str) >= 0)\n                     return;\n                stringified(str);\n            });\n            ko.applyBindingsToNode(\n                element,\n                {\n                    value: stringified,\n                    valueUpdate: allBindings.get('valueUpdate'),\n                },\n                context,\n            );\n        }\n    };\n    var json_data = {\"formatted_vals\":[\"1\",\"2\",\"3\",\"4\",\"5\",\"6\",\"7\",\"8\",\"9\",\"10\",\"11\",\"12\",\"13\",\"14\",\"15\",\"16\",\"17\",\"18\",\"19\",\"20\",\"21\",\"22\",\"23\",\"24\",\"25\",\"26\",\"27\",\"28\",\"29\",\"30\",\"31\",\"32\",\"33\",\"34\",\"35\",\"36\",\"37\",\"38\",\"39\",\"40\",\"41\",\"42\",\"43\",\"44\",\"45\",\"46\",\"47\",\"48\",\"49\",\"50\",\"51\",\"52\",\"53\",\"54\",\"55\",\"56\",\"57\",\"58\",\"59\",\"60\",\"61\",\"62\",\"63\",\"64\",\"65\",\"66\",\"67\",\"68\",\"69\",\"70\",\"71\",\"72\",\"73\",\"74\",\"75\",\"76\",\"77\",\"78\",\"79\",\"80\",\"81\",\"82\",\"83\",\"84\",\"85\",\"86\",\"87\",\"88\",\"89\",\"90\",\"91\",\"92\",\"93\",\"94\",\"95\",\"96\",\"97\",\"98\",\"99\",\"100\",\"101\",\"102\",\"103\",\"104\",\"105\",\"106\",\"107\",\"108\",\"109\",\"110\",\"111\",\"112\",\"113\",\"114\",\"115\",\"116\",\"117\",\"118\",\"119\",\"120\",\"121\",\"122\",\"123\",\"124\",\"125\",\"126\",\"127\",\"128\",\"129\",\"130\",\"131\",\"132\",\"133\",\"134\",\"135\",\"136\",\"137\",\"138\",\"139\",\"140\",\"141\",\"142\",\"143\",\"144\",\"145\",\"146\",\"147\",\"148\",\"149\",\"150\",\"151\",\"152\",\"153\",\"154\",\"155\",\"156\",\"157\",\"158\",\"159\",\"160\",\"161\",\"162\",\"163\",\"164\",\"165\",\"166\",\"167\",\"168\",\"169\",\"170\",\"171\",\"172\",\"173\",\"174\",\"175\",\"176\",\"177\",\"178\",\"179\",\"180\",\"181\",\"182\",\"183\",\"184\",\"185\",\"186\",\"187\",\"188\",\"189\",\"190\",\"191\",\"192\",\"193\",\"194\",\"195\",\"196\",\"197\",\"198\",\"199\",\"200\"],\"changes\":WebIO.getval({\"name\":\"changes\",\"scope\":\"13307734633236114650\",\"id\":\"10355578634633865508\",\"type\":\"observable\"}),\"index\":WebIO.getval({\"name\":\"index\",\"scope\":\"13307734633236114650\",\"id\":\"13148657183476414184\",\"type\":\"observable\"})};\n    var self = this;\n    function AppViewModel() {\n        for (var key in json_data) {\n            var el = json_data[key];\n            this[key] = Array.isArray(el) ? ko.observableArray(el) : ko.observable(el);\n        }\n        \n        [this[\"formatted_val\"]=ko.computed(    function(){\n        return this.formatted_vals()[parseInt(this.index())-(1)];\n    }\n,this)]\n        [this[\"changes\"].subscribe((function (val){!(this.valueFromJulia[\"changes\"]) ? (WebIO.setval({\"name\":\"changes\",\"scope\":\"13307734633236114650\",\"id\":\"10355578634633865508\",\"type\":\"observable\"},val)) : undefined; return this.valueFromJulia[\"changes\"]=false}),self),this[\"index\"].subscribe((function (val){!(this.valueFromJulia[\"index\"]) ? (WebIO.setval({\"name\":\"index\",\"scope\":\"13307734633236114650\",\"id\":\"13148657183476414184\",\"type\":\"observable\"},val)) : undefined; return this.valueFromJulia[\"index\"]=false}),self)]\n        \n    }\n    self.model = new AppViewModel();\n    self.valueFromJulia = {};\n    for (var key in json_data) {\n        self.valueFromJulia[key] = false;\n    }\n    ko.applyBindings(self.model, self.dom);\n}\n);\n    (WebIO.importBlock({\"data\":[{\"name\":\"knockout\",\"type\":\"js\",\"url\":\"/assetserver/727383f2a47bd31570b7da84eee7b022dd6d7c78-knockout.js\"},{\"name\":\"knockout_punches\",\"type\":\"js\",\"url\":\"/assetserver/382b41b3b1bd9f26f75861d360bad7f8beea211f-knockout_punches.js\"}],\"type\":\"async_block\"})).then((imports) => handler.apply(this, imports));\n}\n"
                ],
                "observables": {
                 "changes": {
                  "id": "10355578634633865508",
                  "sync": false,
                  "value": 0
                 },
                 "index": {
                  "id": "13148657183476414184",
                  "sync": true,
                  "value": 1
                 }
                },
                "systemjs_options": null
               },
               "nodeType": "Scope",
               "props": {},
               "type": "node"
              }
             ],
             "instanceArgs": {
              "namespace": "html",
              "tag": "div"
             },
             "nodeType": "DOM",
             "props": {
              "className": "field interact-widget"
             },
             "type": "node"
            },
            {
             "children": [
              {
               "children": [
                {
                 "children": [
                  {
                   "children": [
                    {
                     "children": [
                      "scale"
                     ],
                     "instanceArgs": {
                      "namespace": "html",
                      "tag": "label"
                     },
                     "nodeType": "DOM",
                     "props": {
                      "className": "interact ",
                      "style": {
                       "padding": "5px 10px 0px 10px"
                      }
                     },
                     "type": "node"
                    }
                   ],
                   "instanceArgs": {
                    "namespace": "html",
                    "tag": "div"
                   },
                   "nodeType": "DOM",
                   "props": {
                    "className": "interact-flex-row-left"
                   },
                   "type": "node"
                  },
                  {
                   "children": [
                    {
                     "children": [],
                     "instanceArgs": {
                      "namespace": "html",
                      "tag": "input"
                     },
                     "nodeType": "DOM",
                     "props": {
                      "attributes": {
                       "data-bind": "numericValue: index, valueUpdate: 'input', event: {change: function (){this.changes(this.changes()+1)}}",
                       "orient": "horizontal",
                       "type": "range"
                      },
                      "className": "slider slider is-fullwidth",
                      "max": 20,
                      "min": 1,
                      "step": 1,
                      "style": {}
                     },
                     "type": "node"
                    }
                   ],
                   "instanceArgs": {
                    "namespace": "html",
                    "tag": "div"
                   },
                   "nodeType": "DOM",
                   "props": {
                    "className": "interact-flex-row-center"
                   },
                   "type": "node"
                  },
                  {
                   "children": [
                    {
                     "children": [],
                     "instanceArgs": {
                      "namespace": "html",
                      "tag": "p"
                     },
                     "nodeType": "DOM",
                     "props": {
                      "attributes": {
                       "data-bind": "text: formatted_val"
                      }
                     },
                     "type": "node"
                    }
                   ],
                   "instanceArgs": {
                    "namespace": "html",
                    "tag": "div"
                   },
                   "nodeType": "DOM",
                   "props": {
                    "className": "interact-flex-row-right"
                   },
                   "type": "node"
                  }
                 ],
                 "instanceArgs": {
                  "namespace": "html",
                  "tag": "div"
                 },
                 "nodeType": "DOM",
                 "props": {
                  "className": "interact-flex-row interact-widget"
                 },
                 "type": "node"
                }
               ],
               "instanceArgs": {
                "handlers": {
                 "changes": [
                  "(function (val){return (val!=this.model[\"changes\"]()) ? (this.valueFromJulia[\"changes\"]=true, this.model[\"changes\"](val)) : undefined})"
                 ],
                 "index": [
                  "(function (val){return (val!=this.model[\"index\"]()) ? (this.valueFromJulia[\"index\"]=true, this.model[\"index\"](val)) : undefined})"
                 ]
                },
                "id": "17505250450389404060",
                "imports": {
                 "data": [
                  {
                   "name": "knockout",
                   "type": "js",
                   "url": "/assetserver/727383f2a47bd31570b7da84eee7b022dd6d7c78-knockout.js"
                  },
                  {
                   "name": "knockout_punches",
                   "type": "js",
                   "url": "/assetserver/382b41b3b1bd9f26f75861d360bad7f8beea211f-knockout_punches.js"
                  },
                  {
                   "name": null,
                   "type": "js",
                   "url": "/assetserver/5ab20f1060420992a9b82a65b735dee4d81ef413-all.js"
                  },
                  {
                   "name": null,
                   "type": "css",
                   "url": "/assetserver/1cc0ed62837210b80a182cc3676512f895dab686-style.css"
                  },
                  {
                   "name": null,
                   "type": "css",
                   "url": "/assetserver/2eee816f616df3549d7044d45e744fbf8d42bfa1-bulma_confined.min.css"
                  }
                 ],
                 "type": "async_block"
                },
                "mount_callbacks": [
                 "function () {\n    var handler = (function (ko, koPunches) {\n    ko.punches.enableAll();\n    ko.bindingHandlers.numericValue = {\n        init: function(element, valueAccessor, allBindings, data, context) {\n            var stringified = ko.observable(ko.unwrap(valueAccessor()));\n            stringified.subscribe(function(value) {\n                var val = parseFloat(value);\n                if (!isNaN(val)) {\n                    valueAccessor()(val);\n                }\n            });\n            valueAccessor().subscribe(function(value) {\n                var str = JSON.stringify(value);\n                if ((str == \"0\") && ([\"-0\", \"-0.\"].indexOf(stringified()) >= 0))\n                     return;\n                 if ([\"null\", \"\"].indexOf(str) >= 0)\n                     return;\n                stringified(str);\n            });\n            ko.applyBindingsToNode(\n                element,\n                {\n                    value: stringified,\n                    valueUpdate: allBindings.get('valueUpdate'),\n                },\n                context,\n            );\n        }\n    };\n    var json_data = {\"formatted_vals\":[\"0.1\",\"0.2\",\"0.3\",\"0.4\",\"0.5\",\"0.6\",\"0.7\",\"0.8\",\"0.9\",\"1.0\",\"1.1\",\"1.2\",\"1.3\",\"1.4\",\"1.5\",\"1.6\",\"1.7\",\"1.8\",\"1.9\",\"2.0\"],\"changes\":WebIO.getval({\"name\":\"changes\",\"scope\":\"17505250450389404060\",\"id\":\"5605635104180370102\",\"type\":\"observable\"}),\"index\":WebIO.getval({\"name\":\"index\",\"scope\":\"17505250450389404060\",\"id\":\"10763939566219764529\",\"type\":\"observable\"})};\n    var self = this;\n    function AppViewModel() {\n        for (var key in json_data) {\n            var el = json_data[key];\n            this[key] = Array.isArray(el) ? ko.observableArray(el) : ko.observable(el);\n        }\n        \n        [this[\"formatted_val\"]=ko.computed(    function(){\n        return this.formatted_vals()[parseInt(this.index())-(1)];\n    }\n,this)]\n        [this[\"changes\"].subscribe((function (val){!(this.valueFromJulia[\"changes\"]) ? (WebIO.setval({\"name\":\"changes\",\"scope\":\"17505250450389404060\",\"id\":\"5605635104180370102\",\"type\":\"observable\"},val)) : undefined; return this.valueFromJulia[\"changes\"]=false}),self),this[\"index\"].subscribe((function (val){!(this.valueFromJulia[\"index\"]) ? (WebIO.setval({\"name\":\"index\",\"scope\":\"17505250450389404060\",\"id\":\"10763939566219764529\",\"type\":\"observable\"},val)) : undefined; return this.valueFromJulia[\"index\"]=false}),self)]\n        \n    }\n    self.model = new AppViewModel();\n    self.valueFromJulia = {};\n    for (var key in json_data) {\n        self.valueFromJulia[key] = false;\n    }\n    ko.applyBindings(self.model, self.dom);\n}\n);\n    (WebIO.importBlock({\"data\":[{\"name\":\"knockout\",\"type\":\"js\",\"url\":\"/assetserver/727383f2a47bd31570b7da84eee7b022dd6d7c78-knockout.js\"},{\"name\":\"knockout_punches\",\"type\":\"js\",\"url\":\"/assetserver/382b41b3b1bd9f26f75861d360bad7f8beea211f-knockout_punches.js\"}],\"type\":\"async_block\"})).then((imports) => handler.apply(this, imports));\n}\n"
                ],
                "observables": {
                 "changes": {
                  "id": "5605635104180370102",
                  "sync": false,
                  "value": 0
                 },
                 "index": {
                  "id": "10763939566219764529",
                  "sync": true,
                  "value": 10
                 }
                },
                "systemjs_options": null
               },
               "nodeType": "Scope",
               "props": {},
               "type": "node"
              }
             ],
             "instanceArgs": {
              "namespace": "html",
              "tag": "div"
             },
             "nodeType": "DOM",
             "props": {
              "className": "field interact-widget"
             },
             "type": "node"
            },
            {
             "children": [],
             "instanceArgs": {
              "namespace": "html",
              "tag": "div"
             },
             "nodeType": "DOM",
             "props": {
              "style": {
               "display": "flex",
               "flex-direction": "column"
              }
             },
             "type": "node"
            },
            {
             "children": [
              {
               "children": [
                {
                 "children": [
                  {
                   "children": [
                    {
                     "children": [
                      {
                       "children": [
                        "temp"
                       ],
                       "instanceArgs": {
                        "namespace": "html",
                        "tag": "label"
                       },
                       "nodeType": "DOM",
                       "props": {
                        "className": "interact ",
                        "style": {
                         "padding": "5px 10px 0px 10px"
                        }
                       },
                       "type": "node"
                      }
                     ],
                     "instanceArgs": {
                      "namespace": "html",
                      "tag": "div"
                     },
                     "nodeType": "DOM",
                     "props": {
                      "className": "interact-flex-row-left"
                     },
                     "type": "node"
                    },
                    {
                     "children": [
                      {
                       "children": [],
                       "instanceArgs": {
                        "namespace": "html",
                        "tag": "input"
                       },
                       "nodeType": "DOM",
                       "props": {
                        "attributes": {
                         "data-bind": "numericValue: index, valueUpdate: 'input', event: {change: function (){this.changes(this.changes()+1)}}",
                         "orient": "horizontal",
                         "type": "range"
                        },
                        "className": "slider slider is-fullwidth",
                        "max": 100,
                        "min": 1,
                        "step": 1,
                        "style": {}
                       },
                       "type": "node"
                      }
                     ],
                     "instanceArgs": {
                      "namespace": "html",
                      "tag": "div"
                     },
                     "nodeType": "DOM",
                     "props": {
                      "className": "interact-flex-row-center"
                     },
                     "type": "node"
                    },
                    {
                     "children": [
                      {
                       "children": [],
                       "instanceArgs": {
                        "namespace": "html",
                        "tag": "p"
                       },
                       "nodeType": "DOM",
                       "props": {
                        "attributes": {
                         "data-bind": "text: formatted_val"
                        }
                       },
                       "type": "node"
                      }
                     ],
                     "instanceArgs": {
                      "namespace": "html",
                      "tag": "div"
                     },
                     "nodeType": "DOM",
                     "props": {
                      "className": "interact-flex-row-right"
                     },
                     "type": "node"
                    }
                   ],
                   "instanceArgs": {
                    "namespace": "html",
                    "tag": "div"
                   },
                   "nodeType": "DOM",
                   "props": {
                    "className": "interact-flex-row interact-widget"
                   },
                   "type": "node"
                  }
                 ],
                 "instanceArgs": {
                  "handlers": {
                   "changes": [
                    "(function (val){return (val!=this.model[\"changes\"]()) ? (this.valueFromJulia[\"changes\"]=true, this.model[\"changes\"](val)) : undefined})"
                   ],
                   "index": [
                    "(function (val){return (val!=this.model[\"index\"]()) ? (this.valueFromJulia[\"index\"]=true, this.model[\"index\"](val)) : undefined})"
                   ]
                  },
                  "id": "18112036964177623337",
                  "imports": {
                   "data": [
                    {
                     "name": "knockout",
                     "type": "js",
                     "url": "/assetserver/727383f2a47bd31570b7da84eee7b022dd6d7c78-knockout.js"
                    },
                    {
                     "name": "knockout_punches",
                     "type": "js",
                     "url": "/assetserver/382b41b3b1bd9f26f75861d360bad7f8beea211f-knockout_punches.js"
                    },
                    {
                     "name": null,
                     "type": "js",
                     "url": "/assetserver/5ab20f1060420992a9b82a65b735dee4d81ef413-all.js"
                    },
                    {
                     "name": null,
                     "type": "css",
                     "url": "/assetserver/1cc0ed62837210b80a182cc3676512f895dab686-style.css"
                    },
                    {
                     "name": null,
                     "type": "css",
                     "url": "/assetserver/2eee816f616df3549d7044d45e744fbf8d42bfa1-bulma_confined.min.css"
                    }
                   ],
                   "type": "async_block"
                  },
                  "mount_callbacks": [
                   "function () {\n    var handler = (function (ko, koPunches) {\n    ko.punches.enableAll();\n    ko.bindingHandlers.numericValue = {\n        init: function(element, valueAccessor, allBindings, data, context) {\n            var stringified = ko.observable(ko.unwrap(valueAccessor()));\n            stringified.subscribe(function(value) {\n                var val = parseFloat(value);\n                if (!isNaN(val)) {\n                    valueAccessor()(val);\n                }\n            });\n            valueAccessor().subscribe(function(value) {\n                var str = JSON.stringify(value);\n                if ((str == \"0\") && ([\"-0\", \"-0.\"].indexOf(stringified()) >= 0))\n                     return;\n                 if ([\"null\", \"\"].indexOf(str) >= 0)\n                     return;\n                stringified(str);\n            });\n            ko.applyBindingsToNode(\n                element,\n                {\n                    value: stringified,\n                    valueUpdate: allBindings.get('valueUpdate'),\n                },\n                context,\n            );\n        }\n    };\n    var json_data = {\"formatted_vals\":[\"0.05\",\"0.1\",\"0.15\",\"0.2\",\"0.25\",\"0.3\",\"0.35\",\"0.4\",\"0.45\",\"0.5\",\"0.55\",\"0.6\",\"0.65\",\"0.7\",\"0.75\",\"0.8\",\"0.85\",\"0.9\",\"0.95\",\"1.0\",\"1.05\",\"1.1\",\"1.15\",\"1.2\",\"1.25\",\"1.3\",\"1.35\",\"1.4\",\"1.45\",\"1.5\",\"1.55\",\"1.6\",\"1.65\",\"1.7\",\"1.75\",\"1.8\",\"1.85\",\"1.9\",\"1.95\",\"2.0\",\"2.05\",\"2.1\",\"2.15\",\"2.2\",\"2.25\",\"2.3\",\"2.35\",\"2.4\",\"2.45\",\"2.5\",\"2.55\",\"2.6\",\"2.65\",\"2.7\",\"2.75\",\"2.8\",\"2.85\",\"2.9\",\"2.95\",\"3.0\",\"3.05\",\"3.1\",\"3.15\",\"3.2\",\"3.25\",\"3.3\",\"3.35\",\"3.4\",\"3.45\",\"3.5\",\"3.55\",\"3.6\",\"3.65\",\"3.7\",\"3.75\",\"3.8\",\"3.85\",\"3.9\",\"3.95\",\"4.0\",\"4.05\",\"4.1\",\"4.15\",\"4.2\",\"4.25\",\"4.3\",\"4.35\",\"4.4\",\"4.45\",\"4.5\",\"4.55\",\"4.6\",\"4.65\",\"4.7\",\"4.75\",\"4.8\",\"4.85\",\"4.9\",\"4.95\",\"5.0\"],\"changes\":WebIO.getval({\"name\":\"changes\",\"scope\":\"18112036964177623337\",\"id\":\"17428216749860293952\",\"type\":\"observable\"}),\"index\":WebIO.getval({\"name\":\"index\",\"scope\":\"18112036964177623337\",\"id\":\"4137255854947276647\",\"type\":\"observable\"})};\n    var self = this;\n    function AppViewModel() {\n        for (var key in json_data) {\n            var el = json_data[key];\n            this[key] = Array.isArray(el) ? ko.observableArray(el) : ko.observable(el);\n        }\n        \n        [this[\"formatted_val\"]=ko.computed(    function(){\n        return this.formatted_vals()[parseInt(this.index())-(1)];\n    }\n,this)]\n        [this[\"changes\"].subscribe((function (val){!(this.valueFromJulia[\"changes\"]) ? (WebIO.setval({\"name\":\"changes\",\"scope\":\"18112036964177623337\",\"id\":\"17428216749860293952\",\"type\":\"observable\"},val)) : undefined; return this.valueFromJulia[\"changes\"]=false}),self),this[\"index\"].subscribe((function (val){!(this.valueFromJulia[\"index\"]) ? (WebIO.setval({\"name\":\"index\",\"scope\":\"18112036964177623337\",\"id\":\"4137255854947276647\",\"type\":\"observable\"},val)) : undefined; return this.valueFromJulia[\"index\"]=false}),self)]\n        \n    }\n    self.model = new AppViewModel();\n    self.valueFromJulia = {};\n    for (var key in json_data) {\n        self.valueFromJulia[key] = false;\n    }\n    ko.applyBindings(self.model, self.dom);\n}\n);\n    (WebIO.importBlock({\"data\":[{\"name\":\"knockout\",\"type\":\"js\",\"url\":\"/assetserver/727383f2a47bd31570b7da84eee7b022dd6d7c78-knockout.js\"},{\"name\":\"knockout_punches\",\"type\":\"js\",\"url\":\"/assetserver/382b41b3b1bd9f26f75861d360bad7f8beea211f-knockout_punches.js\"}],\"type\":\"async_block\"})).then((imports) => handler.apply(this, imports));\n}\n"
                  ],
                  "observables": {
                   "changes": {
                    "id": "17428216749860293952",
                    "sync": false,
                    "value": 0
                   },
                   "index": {
                    "id": "4137255854947276647",
                    "sync": true,
                    "value": 50
                   }
                  },
                  "systemjs_options": null
                 },
                 "nodeType": "Scope",
                 "props": {},
                 "type": "node"
                }
               ],
               "instanceArgs": {
                "namespace": "html",
                "tag": "div"
               },
               "nodeType": "DOM",
               "props": {
                "className": "field interact-widget"
               },
               "type": "node"
              },
              {
               "children": [
                {
                 "children": [
                  {
                   "children": [
                    {
                     "children": [
                      {
                       "children": [
                        "coupl"
                       ],
                       "instanceArgs": {
                        "namespace": "html",
                        "tag": "label"
                       },
                       "nodeType": "DOM",
                       "props": {
                        "className": "interact ",
                        "style": {
                         "padding": "5px 10px 0px 10px"
                        }
                       },
                       "type": "node"
                      }
                     ],
                     "instanceArgs": {
                      "namespace": "html",
                      "tag": "div"
                     },
                     "nodeType": "DOM",
                     "props": {
                      "className": "interact-flex-row-left"
                     },
                     "type": "node"
                    },
                    {
                     "children": [
                      {
                       "children": [],
                       "instanceArgs": {
                        "namespace": "html",
                        "tag": "input"
                       },
                       "nodeType": "DOM",
                       "props": {
                        "attributes": {
                         "data-bind": "numericValue: index, valueUpdate: 'input', event: {change: function (){this.changes(this.changes()+1)}}",
                         "orient": "horizontal",
                         "type": "range"
                        },
                        "className": "slider slider is-fullwidth",
                        "max": 50,
                        "min": 1,
                        "step": 1,
                        "style": {}
                       },
                       "type": "node"
                      }
                     ],
                     "instanceArgs": {
                      "namespace": "html",
                      "tag": "div"
                     },
                     "nodeType": "DOM",
                     "props": {
                      "className": "interact-flex-row-center"
                     },
                     "type": "node"
                    },
                    {
                     "children": [
                      {
                       "children": [],
                       "instanceArgs": {
                        "namespace": "html",
                        "tag": "p"
                       },
                       "nodeType": "DOM",
                       "props": {
                        "attributes": {
                         "data-bind": "text: formatted_val"
                        }
                       },
                       "type": "node"
                      }
                     ],
                     "instanceArgs": {
                      "namespace": "html",
                      "tag": "div"
                     },
                     "nodeType": "DOM",
                     "props": {
                      "className": "interact-flex-row-right"
                     },
                     "type": "node"
                    }
                   ],
                   "instanceArgs": {
                    "namespace": "html",
                    "tag": "div"
                   },
                   "nodeType": "DOM",
                   "props": {
                    "className": "interact-flex-row interact-widget"
                   },
                   "type": "node"
                  }
                 ],
                 "instanceArgs": {
                  "handlers": {
                   "changes": [
                    "(function (val){return (val!=this.model[\"changes\"]()) ? (this.valueFromJulia[\"changes\"]=true, this.model[\"changes\"](val)) : undefined})"
                   ],
                   "index": [
                    "(function (val){return (val!=this.model[\"index\"]()) ? (this.valueFromJulia[\"index\"]=true, this.model[\"index\"](val)) : undefined})"
                   ]
                  },
                  "id": "3124713593037666460",
                  "imports": {
                   "data": [
                    {
                     "name": "knockout",
                     "type": "js",
                     "url": "/assetserver/727383f2a47bd31570b7da84eee7b022dd6d7c78-knockout.js"
                    },
                    {
                     "name": "knockout_punches",
                     "type": "js",
                     "url": "/assetserver/382b41b3b1bd9f26f75861d360bad7f8beea211f-knockout_punches.js"
                    },
                    {
                     "name": null,
                     "type": "js",
                     "url": "/assetserver/5ab20f1060420992a9b82a65b735dee4d81ef413-all.js"
                    },
                    {
                     "name": null,
                     "type": "css",
                     "url": "/assetserver/1cc0ed62837210b80a182cc3676512f895dab686-style.css"
                    },
                    {
                     "name": null,
                     "type": "css",
                     "url": "/assetserver/2eee816f616df3549d7044d45e744fbf8d42bfa1-bulma_confined.min.css"
                    }
                   ],
                   "type": "async_block"
                  },
                  "mount_callbacks": [
                   "function () {\n    var handler = (function (ko, koPunches) {\n    ko.punches.enableAll();\n    ko.bindingHandlers.numericValue = {\n        init: function(element, valueAccessor, allBindings, data, context) {\n            var stringified = ko.observable(ko.unwrap(valueAccessor()));\n            stringified.subscribe(function(value) {\n                var val = parseFloat(value);\n                if (!isNaN(val)) {\n                    valueAccessor()(val);\n                }\n            });\n            valueAccessor().subscribe(function(value) {\n                var str = JSON.stringify(value);\n                if ((str == \"0\") && ([\"-0\", \"-0.\"].indexOf(stringified()) >= 0))\n                     return;\n                 if ([\"null\", \"\"].indexOf(str) >= 0)\n                     return;\n                stringified(str);\n            });\n            ko.applyBindingsToNode(\n                element,\n                {\n                    value: stringified,\n                    valueUpdate: allBindings.get('valueUpdate'),\n                },\n                context,\n            );\n        }\n    };\n    var json_data = {\"formatted_vals\":[\"0.01\",\"0.11\",\"0.21\",\"0.31\",\"0.41\",\"0.51\",\"0.61\",\"0.71\",\"0.81\",\"0.91\",\"1.01\",\"1.11\",\"1.21\",\"1.31\",\"1.41\",\"1.51\",\"1.61\",\"1.71\",\"1.81\",\"1.91\",\"2.01\",\"2.11\",\"2.21\",\"2.31\",\"2.41\",\"2.51\",\"2.61\",\"2.71\",\"2.81\",\"2.91\",\"3.01\",\"3.11\",\"3.21\",\"3.31\",\"3.41\",\"3.51\",\"3.61\",\"3.71\",\"3.81\",\"3.91\",\"4.01\",\"4.11\",\"4.21\",\"4.31\",\"4.41\",\"4.51\",\"4.61\",\"4.71\",\"4.81\",\"4.91\"],\"changes\":WebIO.getval({\"name\":\"changes\",\"scope\":\"3124713593037666460\",\"id\":\"13038248926317711409\",\"type\":\"observable\"}),\"index\":WebIO.getval({\"name\":\"index\",\"scope\":\"3124713593037666460\",\"id\":\"11664400769438141152\",\"type\":\"observable\"})};\n    var self = this;\n    function AppViewModel() {\n        for (var key in json_data) {\n            var el = json_data[key];\n            this[key] = Array.isArray(el) ? ko.observableArray(el) : ko.observable(el);\n        }\n        \n        [this[\"formatted_val\"]=ko.computed(    function(){\n        return this.formatted_vals()[parseInt(this.index())-(1)];\n    }\n,this)]\n        [this[\"changes\"].subscribe((function (val){!(this.valueFromJulia[\"changes\"]) ? (WebIO.setval({\"name\":\"changes\",\"scope\":\"3124713593037666460\",\"id\":\"13038248926317711409\",\"type\":\"observable\"},val)) : undefined; return this.valueFromJulia[\"changes\"]=false}),self),this[\"index\"].subscribe((function (val){!(this.valueFromJulia[\"index\"]) ? (WebIO.setval({\"name\":\"index\",\"scope\":\"3124713593037666460\",\"id\":\"11664400769438141152\",\"type\":\"observable\"},val)) : undefined; return this.valueFromJulia[\"index\"]=false}),self)]\n        \n    }\n    self.model = new AppViewModel();\n    self.valueFromJulia = {};\n    for (var key in json_data) {\n        self.valueFromJulia[key] = false;\n    }\n    ko.applyBindings(self.model, self.dom);\n}\n);\n    (WebIO.importBlock({\"data\":[{\"name\":\"knockout\",\"type\":\"js\",\"url\":\"/assetserver/727383f2a47bd31570b7da84eee7b022dd6d7c78-knockout.js\"},{\"name\":\"knockout_punches\",\"type\":\"js\",\"url\":\"/assetserver/382b41b3b1bd9f26f75861d360bad7f8beea211f-knockout_punches.js\"}],\"type\":\"async_block\"})).then((imports) => handler.apply(this, imports));\n}\n"
                  ],
                  "observables": {
                   "changes": {
                    "id": "13038248926317711409",
                    "sync": false,
                    "value": 0
                   },
                   "index": {
                    "id": "11664400769438141152",
                    "sync": true,
                    "value": 25
                   }
                  },
                  "systemjs_options": null
                 },
                 "nodeType": "Scope",
                 "props": {},
                 "type": "node"
                }
               ],
               "instanceArgs": {
                "namespace": "html",
                "tag": "div"
               },
               "nodeType": "DOM",
               "props": {
                "className": "field interact-widget"
               },
               "type": "node"
              }
             ],
             "instanceArgs": {
              "namespace": "html",
              "tag": "div"
             },
             "nodeType": "DOM",
             "props": {
              "style": {
               "display": "flex",
               "flex-direction": "column"
              }
             },
             "type": "node"
            },
            {
             "children": [
              {
               "children": [
                {
                 "children": [
                  {
                   "children": [],
                   "instanceArgs": {
                    "namespace": "html",
                    "tag": "div"
                   },
                   "nodeType": "DOM",
                   "props": {
                    "id": "container"
                   },
                   "type": "node"
                  }
                 ],
                 "instanceArgs": {
                  "handlers": {
                   "value": [
                    "(function (txt){return this.k.render(txt,this.container)})"
                   ]
                  },
                  "id": "13952764259330237642",
                  "imports": {
                   "data": [
                    {
                     "name": null,
                     "type": "js",
                     "url": "/assetserver/dd22ed1bf1896c2748f3fe616ce0b838adc895c1-katex.min.js"
                    },
                    {
                     "name": null,
                     "type": "css",
                     "url": "/assetserver/46517a424aa5e6cffc1360d7e0848b601c584ee3-katex.min.css"
                    }
                   ],
                   "type": "async_block"
                  },
                  "mount_callbacks": [
                   "function () {\n    var handler = ((function (k){this.k=k; this.container=this.dom.querySelector(\"#container\"); return k.render(\"\\\\;\\\\;\",this.container)}));\n    (WebIO.importBlock({\"data\":[{\"name\":null,\"type\":\"js\",\"url\":\"/assetserver/dd22ed1bf1896c2748f3fe616ce0b838adc895c1-katex.min.js\"},{\"name\":null,\"type\":\"css\",\"url\":\"/assetserver/46517a424aa5e6cffc1360d7e0848b601c584ee3-katex.min.css\"}],\"type\":\"async_block\"})).then((imports) => handler.apply(this, imports));\n}\n"
                  ],
                  "observables": {
                   "value": {
                    "id": "12406549233469348929",
                    "sync": false,
                    "value": "\\;\\;"
                   }
                  },
                  "systemjs_options": null
                 },
                 "nodeType": "Scope",
                 "props": {},
                 "type": "node"
                }
               ],
               "instanceArgs": {
                "namespace": "html",
                "tag": "div"
               },
               "nodeType": "DOM",
               "props": {
                "className": "interact-widget"
               },
               "type": "node"
              },
              {
               "children": [
                {
                 "children": [
                  {
                   "children": [
                    "run"
                   ],
                   "instanceArgs": {
                    "namespace": "html",
                    "tag": "button"
                   },
                   "nodeType": "DOM",
                   "props": {
                    "attributes": {
                     "data-bind": "click: function (){this.clicks(this.clicks()+1)}, css: {'is-loading' : loading}"
                    },
                    "className": "is-medium button is-primary",
                    "style": {}
                   },
                   "type": "node"
                  }
                 ],
                 "instanceArgs": {
                  "handlers": {
                   "clicks": [
                    "(function (val){return (val!=this.model[\"clicks\"]()) ? (this.valueFromJulia[\"clicks\"]=true, this.model[\"clicks\"](val)) : undefined})"
                   ],
                   "loading": [
                    "(function (val){return (val!=this.model[\"loading\"]()) ? (this.valueFromJulia[\"loading\"]=true, this.model[\"loading\"](val)) : undefined})"
                   ]
                  },
                  "id": "9074824984737844201",
                  "imports": {
                   "data": [
                    {
                     "name": "knockout",
                     "type": "js",
                     "url": "/assetserver/727383f2a47bd31570b7da84eee7b022dd6d7c78-knockout.js"
                    },
                    {
                     "name": "knockout_punches",
                     "type": "js",
                     "url": "/assetserver/382b41b3b1bd9f26f75861d360bad7f8beea211f-knockout_punches.js"
                    },
                    {
                     "name": null,
                     "type": "js",
                     "url": "/assetserver/5ab20f1060420992a9b82a65b735dee4d81ef413-all.js"
                    },
                    {
                     "name": null,
                     "type": "css",
                     "url": "/assetserver/1cc0ed62837210b80a182cc3676512f895dab686-style.css"
                    },
                    {
                     "name": null,
                     "type": "css",
                     "url": "/assetserver/2eee816f616df3549d7044d45e744fbf8d42bfa1-bulma_confined.min.css"
                    }
                   ],
                   "type": "async_block"
                  },
                  "mount_callbacks": [
                   "function () {\n    var handler = (function (ko, koPunches) {\n    ko.punches.enableAll();\n    ko.bindingHandlers.numericValue = {\n        init: function(element, valueAccessor, allBindings, data, context) {\n            var stringified = ko.observable(ko.unwrap(valueAccessor()));\n            stringified.subscribe(function(value) {\n                var val = parseFloat(value);\n                if (!isNaN(val)) {\n                    valueAccessor()(val);\n                }\n            });\n            valueAccessor().subscribe(function(value) {\n                var str = JSON.stringify(value);\n                if ((str == \"0\") && ([\"-0\", \"-0.\"].indexOf(stringified()) >= 0))\n                     return;\n                 if ([\"null\", \"\"].indexOf(str) >= 0)\n                     return;\n                stringified(str);\n            });\n            ko.applyBindingsToNode(\n                element,\n                {\n                    value: stringified,\n                    valueUpdate: allBindings.get('valueUpdate'),\n                },\n                context,\n            );\n        }\n    };\n    var json_data = {\"loading\":WebIO.getval({\"name\":\"loading\",\"scope\":\"9074824984737844201\",\"id\":\"9606634648758145019\",\"type\":\"observable\"}),\"clicks\":WebIO.getval({\"name\":\"clicks\",\"scope\":\"9074824984737844201\",\"id\":\"10839453678824350616\",\"type\":\"observable\"})};\n    var self = this;\n    function AppViewModel() {\n        for (var key in json_data) {\n            var el = json_data[key];\n            this[key] = Array.isArray(el) ? ko.observableArray(el) : ko.observable(el);\n        }\n        \n        \n        [this[\"loading\"].subscribe((function (val){!(this.valueFromJulia[\"loading\"]) ? (WebIO.setval({\"name\":\"loading\",\"scope\":\"9074824984737844201\",\"id\":\"9606634648758145019\",\"type\":\"observable\"},val)) : undefined; return this.valueFromJulia[\"loading\"]=false}),self),this[\"clicks\"].subscribe((function (val){!(this.valueFromJulia[\"clicks\"]) ? (WebIO.setval({\"name\":\"clicks\",\"scope\":\"9074824984737844201\",\"id\":\"10839453678824350616\",\"type\":\"observable\"},val)) : undefined; return this.valueFromJulia[\"clicks\"]=false}),self)]\n        \n    }\n    self.model = new AppViewModel();\n    self.valueFromJulia = {};\n    for (var key in json_data) {\n        self.valueFromJulia[key] = false;\n    }\n    ko.applyBindings(self.model, self.dom);\n}\n);\n    (WebIO.importBlock({\"data\":[{\"name\":\"knockout\",\"type\":\"js\",\"url\":\"/assetserver/727383f2a47bd31570b7da84eee7b022dd6d7c78-knockout.js\"},{\"name\":\"knockout_punches\",\"type\":\"js\",\"url\":\"/assetserver/382b41b3b1bd9f26f75861d360bad7f8beea211f-knockout_punches.js\"}],\"type\":\"async_block\"})).then((imports) => handler.apply(this, imports));\n}\n"
                  ],
                  "observables": {
                   "clicks": {
                    "id": "10839453678824350616",
                    "sync": true,
                    "value": 0
                   },
                   "loading": {
                    "id": "9606634648758145019",
                    "sync": false,
                    "value": false
                   }
                  },
                  "systemjs_options": null
                 },
                 "nodeType": "Scope",
                 "props": {},
                 "type": "node"
                }
               ],
               "instanceArgs": {
                "namespace": "html",
                "tag": "div"
               },
               "nodeType": "DOM",
               "props": {
                "className": "field interact-widget"
               },
               "type": "node"
              },
              {
               "children": [
                {
                 "children": [
                  {
                   "children": [],
                   "instanceArgs": {
                    "namespace": "html",
                    "tag": "div"
                   },
                   "nodeType": "DOM",
                   "props": {
                    "id": "container"
                   },
                   "type": "node"
                  }
                 ],
                 "instanceArgs": {
                  "handlers": {
                   "value": [
                    "(function (txt){return this.k.render(txt,this.container)})"
                   ]
                  },
                  "id": "13952764259330237642",
                  "imports": {
                   "data": [
                    {
                     "name": null,
                     "type": "js",
                     "url": "/assetserver/dd22ed1bf1896c2748f3fe616ce0b838adc895c1-katex.min.js"
                    },
                    {
                     "name": null,
                     "type": "css",
                     "url": "/assetserver/46517a424aa5e6cffc1360d7e0848b601c584ee3-katex.min.css"
                    }
                   ],
                   "type": "async_block"
                  },
                  "mount_callbacks": [
                   "function () {\n    var handler = ((function (k){this.k=k; this.container=this.dom.querySelector(\"#container\"); return k.render(\"\\\\;\\\\;\",this.container)}));\n    (WebIO.importBlock({\"data\":[{\"name\":null,\"type\":\"js\",\"url\":\"/assetserver/dd22ed1bf1896c2748f3fe616ce0b838adc895c1-katex.min.js\"},{\"name\":null,\"type\":\"css\",\"url\":\"/assetserver/46517a424aa5e6cffc1360d7e0848b601c584ee3-katex.min.css\"}],\"type\":\"async_block\"})).then((imports) => handler.apply(this, imports));\n}\n"
                  ],
                  "observables": {
                   "value": {
                    "id": "12406549233469348929",
                    "sync": false,
                    "value": "\\;\\;"
                   }
                  },
                  "systemjs_options": null
                 },
                 "nodeType": "Scope",
                 "props": {},
                 "type": "node"
                }
               ],
               "instanceArgs": {
                "namespace": "html",
                "tag": "div"
               },
               "nodeType": "DOM",
               "props": {
                "className": "interact-widget"
               },
               "type": "node"
              },
              {
               "children": [
                {
                 "children": [
                  {
                   "children": [
                    "stop"
                   ],
                   "instanceArgs": {
                    "namespace": "html",
                    "tag": "button"
                   },
                   "nodeType": "DOM",
                   "props": {
                    "attributes": {
                     "data-bind": "click: function (){this.clicks(this.clicks()+1)}, css: {'is-loading' : loading}"
                    },
                    "className": "is-medium button is-primary",
                    "style": {}
                   },
                   "type": "node"
                  }
                 ],
                 "instanceArgs": {
                  "handlers": {
                   "clicks": [
                    "(function (val){return (val!=this.model[\"clicks\"]()) ? (this.valueFromJulia[\"clicks\"]=true, this.model[\"clicks\"](val)) : undefined})"
                   ],
                   "loading": [
                    "(function (val){return (val!=this.model[\"loading\"]()) ? (this.valueFromJulia[\"loading\"]=true, this.model[\"loading\"](val)) : undefined})"
                   ]
                  },
                  "id": "3695857661411532394",
                  "imports": {
                   "data": [
                    {
                     "name": "knockout",
                     "type": "js",
                     "url": "/assetserver/727383f2a47bd31570b7da84eee7b022dd6d7c78-knockout.js"
                    },
                    {
                     "name": "knockout_punches",
                     "type": "js",
                     "url": "/assetserver/382b41b3b1bd9f26f75861d360bad7f8beea211f-knockout_punches.js"
                    },
                    {
                     "name": null,
                     "type": "js",
                     "url": "/assetserver/5ab20f1060420992a9b82a65b735dee4d81ef413-all.js"
                    },
                    {
                     "name": null,
                     "type": "css",
                     "url": "/assetserver/1cc0ed62837210b80a182cc3676512f895dab686-style.css"
                    },
                    {
                     "name": null,
                     "type": "css",
                     "url": "/assetserver/2eee816f616df3549d7044d45e744fbf8d42bfa1-bulma_confined.min.css"
                    }
                   ],
                   "type": "async_block"
                  },
                  "mount_callbacks": [
                   "function () {\n    var handler = (function (ko, koPunches) {\n    ko.punches.enableAll();\n    ko.bindingHandlers.numericValue = {\n        init: function(element, valueAccessor, allBindings, data, context) {\n            var stringified = ko.observable(ko.unwrap(valueAccessor()));\n            stringified.subscribe(function(value) {\n                var val = parseFloat(value);\n                if (!isNaN(val)) {\n                    valueAccessor()(val);\n                }\n            });\n            valueAccessor().subscribe(function(value) {\n                var str = JSON.stringify(value);\n                if ((str == \"0\") && ([\"-0\", \"-0.\"].indexOf(stringified()) >= 0))\n                     return;\n                 if ([\"null\", \"\"].indexOf(str) >= 0)\n                     return;\n                stringified(str);\n            });\n            ko.applyBindingsToNode(\n                element,\n                {\n                    value: stringified,\n                    valueUpdate: allBindings.get('valueUpdate'),\n                },\n                context,\n            );\n        }\n    };\n    var json_data = {\"loading\":WebIO.getval({\"name\":\"loading\",\"scope\":\"3695857661411532394\",\"id\":\"6513945076055131880\",\"type\":\"observable\"}),\"clicks\":WebIO.getval({\"name\":\"clicks\",\"scope\":\"3695857661411532394\",\"id\":\"18308020176429693320\",\"type\":\"observable\"})};\n    var self = this;\n    function AppViewModel() {\n        for (var key in json_data) {\n            var el = json_data[key];\n            this[key] = Array.isArray(el) ? ko.observableArray(el) : ko.observable(el);\n        }\n        \n        \n        [this[\"loading\"].subscribe((function (val){!(this.valueFromJulia[\"loading\"]) ? (WebIO.setval({\"name\":\"loading\",\"scope\":\"3695857661411532394\",\"id\":\"6513945076055131880\",\"type\":\"observable\"},val)) : undefined; return this.valueFromJulia[\"loading\"]=false}),self),this[\"clicks\"].subscribe((function (val){!(this.valueFromJulia[\"clicks\"]) ? (WebIO.setval({\"name\":\"clicks\",\"scope\":\"3695857661411532394\",\"id\":\"18308020176429693320\",\"type\":\"observable\"},val)) : undefined; return this.valueFromJulia[\"clicks\"]=false}),self)]\n        \n    }\n    self.model = new AppViewModel();\n    self.valueFromJulia = {};\n    for (var key in json_data) {\n        self.valueFromJulia[key] = false;\n    }\n    ko.applyBindings(self.model, self.dom);\n}\n);\n    (WebIO.importBlock({\"data\":[{\"name\":\"knockout\",\"type\":\"js\",\"url\":\"/assetserver/727383f2a47bd31570b7da84eee7b022dd6d7c78-knockout.js\"},{\"name\":\"knockout_punches\",\"type\":\"js\",\"url\":\"/assetserver/382b41b3b1bd9f26f75861d360bad7f8beea211f-knockout_punches.js\"}],\"type\":\"async_block\"})).then((imports) => handler.apply(this, imports));\n}\n"
                  ],
                  "observables": {
                   "clicks": {
                    "id": "18308020176429693320",
                    "sync": true,
                    "value": 0
                   },
                   "loading": {
                    "id": "6513945076055131880",
                    "sync": false,
                    "value": false
                   }
                  },
                  "systemjs_options": null
                 },
                 "nodeType": "Scope",
                 "props": {},
                 "type": "node"
                }
               ],
               "instanceArgs": {
                "namespace": "html",
                "tag": "div"
               },
               "nodeType": "DOM",
               "props": {
                "className": "field interact-widget"
               },
               "type": "node"
              },
              {
               "children": [
                {
                 "children": [
                  {
                   "children": [],
                   "instanceArgs": {
                    "namespace": "html",
                    "tag": "div"
                   },
                   "nodeType": "DOM",
                   "props": {
                    "id": "container"
                   },
                   "type": "node"
                  }
                 ],
                 "instanceArgs": {
                  "handlers": {
                   "value": [
                    "(function (txt){return this.k.render(txt,this.container)})"
                   ]
                  },
                  "id": "13952764259330237642",
                  "imports": {
                   "data": [
                    {
                     "name": null,
                     "type": "js",
                     "url": "/assetserver/dd22ed1bf1896c2748f3fe616ce0b838adc895c1-katex.min.js"
                    },
                    {
                     "name": null,
                     "type": "css",
                     "url": "/assetserver/46517a424aa5e6cffc1360d7e0848b601c584ee3-katex.min.css"
                    }
                   ],
                   "type": "async_block"
                  },
                  "mount_callbacks": [
                   "function () {\n    var handler = ((function (k){this.k=k; this.container=this.dom.querySelector(\"#container\"); return k.render(\"\\\\;\\\\;\",this.container)}));\n    (WebIO.importBlock({\"data\":[{\"name\":null,\"type\":\"js\",\"url\":\"/assetserver/dd22ed1bf1896c2748f3fe616ce0b838adc895c1-katex.min.js\"},{\"name\":null,\"type\":\"css\",\"url\":\"/assetserver/46517a424aa5e6cffc1360d7e0848b601c584ee3-katex.min.css\"}],\"type\":\"async_block\"})).then((imports) => handler.apply(this, imports));\n}\n"
                  ],
                  "observables": {
                   "value": {
                    "id": "12406549233469348929",
                    "sync": false,
                    "value": "\\;\\;"
                   }
                  },
                  "systemjs_options": null
                 },
                 "nodeType": "Scope",
                 "props": {},
                 "type": "node"
                }
               ],
               "instanceArgs": {
                "namespace": "html",
                "tag": "div"
               },
               "nodeType": "DOM",
               "props": {
                "className": "interact-widget"
               },
               "type": "node"
              },
              {
               "children": [
                {
                 "children": [
                  {
                   "children": [
                    "reset"
                   ],
                   "instanceArgs": {
                    "namespace": "html",
                    "tag": "button"
                   },
                   "nodeType": "DOM",
                   "props": {
                    "attributes": {
                     "data-bind": "click: function (){this.clicks(this.clicks()+1)}, css: {'is-loading' : loading}"
                    },
                    "className": "is-medium button is-primary",
                    "style": {}
                   },
                   "type": "node"
                  }
                 ],
                 "instanceArgs": {
                  "handlers": {
                   "clicks": [
                    "(function (val){return (val!=this.model[\"clicks\"]()) ? (this.valueFromJulia[\"clicks\"]=true, this.model[\"clicks\"](val)) : undefined})"
                   ],
                   "loading": [
                    "(function (val){return (val!=this.model[\"loading\"]()) ? (this.valueFromJulia[\"loading\"]=true, this.model[\"loading\"](val)) : undefined})"
                   ]
                  },
                  "id": "12107080336736550027",
                  "imports": {
                   "data": [
                    {
                     "name": "knockout",
                     "type": "js",
                     "url": "/assetserver/727383f2a47bd31570b7da84eee7b022dd6d7c78-knockout.js"
                    },
                    {
                     "name": "knockout_punches",
                     "type": "js",
                     "url": "/assetserver/382b41b3b1bd9f26f75861d360bad7f8beea211f-knockout_punches.js"
                    },
                    {
                     "name": null,
                     "type": "js",
                     "url": "/assetserver/5ab20f1060420992a9b82a65b735dee4d81ef413-all.js"
                    },
                    {
                     "name": null,
                     "type": "css",
                     "url": "/assetserver/1cc0ed62837210b80a182cc3676512f895dab686-style.css"
                    },
                    {
                     "name": null,
                     "type": "css",
                     "url": "/assetserver/2eee816f616df3549d7044d45e744fbf8d42bfa1-bulma_confined.min.css"
                    }
                   ],
                   "type": "async_block"
                  },
                  "mount_callbacks": [
                   "function () {\n    var handler = (function (ko, koPunches) {\n    ko.punches.enableAll();\n    ko.bindingHandlers.numericValue = {\n        init: function(element, valueAccessor, allBindings, data, context) {\n            var stringified = ko.observable(ko.unwrap(valueAccessor()));\n            stringified.subscribe(function(value) {\n                var val = parseFloat(value);\n                if (!isNaN(val)) {\n                    valueAccessor()(val);\n                }\n            });\n            valueAccessor().subscribe(function(value) {\n                var str = JSON.stringify(value);\n                if ((str == \"0\") && ([\"-0\", \"-0.\"].indexOf(stringified()) >= 0))\n                     return;\n                 if ([\"null\", \"\"].indexOf(str) >= 0)\n                     return;\n                stringified(str);\n            });\n            ko.applyBindingsToNode(\n                element,\n                {\n                    value: stringified,\n                    valueUpdate: allBindings.get('valueUpdate'),\n                },\n                context,\n            );\n        }\n    };\n    var json_data = {\"loading\":WebIO.getval({\"name\":\"loading\",\"scope\":\"12107080336736550027\",\"id\":\"18340448997831719234\",\"type\":\"observable\"}),\"clicks\":WebIO.getval({\"name\":\"clicks\",\"scope\":\"12107080336736550027\",\"id\":\"443506785227844637\",\"type\":\"observable\"})};\n    var self = this;\n    function AppViewModel() {\n        for (var key in json_data) {\n            var el = json_data[key];\n            this[key] = Array.isArray(el) ? ko.observableArray(el) : ko.observable(el);\n        }\n        \n        \n        [this[\"loading\"].subscribe((function (val){!(this.valueFromJulia[\"loading\"]) ? (WebIO.setval({\"name\":\"loading\",\"scope\":\"12107080336736550027\",\"id\":\"18340448997831719234\",\"type\":\"observable\"},val)) : undefined; return this.valueFromJulia[\"loading\"]=false}),self),this[\"clicks\"].subscribe((function (val){!(this.valueFromJulia[\"clicks\"]) ? (WebIO.setval({\"name\":\"clicks\",\"scope\":\"12107080336736550027\",\"id\":\"443506785227844637\",\"type\":\"observable\"},val)) : undefined; return this.valueFromJulia[\"clicks\"]=false}),self)]\n        \n    }\n    self.model = new AppViewModel();\n    self.valueFromJulia = {};\n    for (var key in json_data) {\n        self.valueFromJulia[key] = false;\n    }\n    ko.applyBindings(self.model, self.dom);\n}\n);\n    (WebIO.importBlock({\"data\":[{\"name\":\"knockout\",\"type\":\"js\",\"url\":\"/assetserver/727383f2a47bd31570b7da84eee7b022dd6d7c78-knockout.js\"},{\"name\":\"knockout_punches\",\"type\":\"js\",\"url\":\"/assetserver/382b41b3b1bd9f26f75861d360bad7f8beea211f-knockout_punches.js\"}],\"type\":\"async_block\"})).then((imports) => handler.apply(this, imports));\n}\n"
                  ],
                  "observables": {
                   "clicks": {
                    "id": "443506785227844637",
                    "sync": true,
                    "value": 0
                   },
                   "loading": {
                    "id": "18340448997831719234",
                    "sync": false,
                    "value": false
                   }
                  },
                  "systemjs_options": null
                 },
                 "nodeType": "Scope",
                 "props": {},
                 "type": "node"
                }
               ],
               "instanceArgs": {
                "namespace": "html",
                "tag": "div"
               },
               "nodeType": "DOM",
               "props": {
                "className": "field interact-widget"
               },
               "type": "node"
              },
              {
               "children": [
                {
                 "children": [
                  {
                   "children": [],
                   "instanceArgs": {
                    "namespace": "html",
                    "tag": "div"
                   },
                   "nodeType": "DOM",
                   "props": {
                    "id": "container"
                   },
                   "type": "node"
                  }
                 ],
                 "instanceArgs": {
                  "handlers": {
                   "value": [
                    "(function (txt){return this.k.render(txt,this.container)})"
                   ]
                  },
                  "id": "13952764259330237642",
                  "imports": {
                   "data": [
                    {
                     "name": null,
                     "type": "js",
                     "url": "/assetserver/dd22ed1bf1896c2748f3fe616ce0b838adc895c1-katex.min.js"
                    },
                    {
                     "name": null,
                     "type": "css",
                     "url": "/assetserver/46517a424aa5e6cffc1360d7e0848b601c584ee3-katex.min.css"
                    }
                   ],
                   "type": "async_block"
                  },
                  "mount_callbacks": [
                   "function () {\n    var handler = ((function (k){this.k=k; this.container=this.dom.querySelector(\"#container\"); return k.render(\"\\\\;\\\\;\",this.container)}));\n    (WebIO.importBlock({\"data\":[{\"name\":null,\"type\":\"js\",\"url\":\"/assetserver/dd22ed1bf1896c2748f3fe616ce0b838adc895c1-katex.min.js\"},{\"name\":null,\"type\":\"css\",\"url\":\"/assetserver/46517a424aa5e6cffc1360d7e0848b601c584ee3-katex.min.css\"}],\"type\":\"async_block\"})).then((imports) => handler.apply(this, imports));\n}\n"
                  ],
                  "observables": {
                   "value": {
                    "id": "12406549233469348929",
                    "sync": false,
                    "value": "\\;\\;"
                   }
                  },
                  "systemjs_options": null
                 },
                 "nodeType": "Scope",
                 "props": {},
                 "type": "node"
                }
               ],
               "instanceArgs": {
                "namespace": "html",
                "tag": "div"
               },
               "nodeType": "DOM",
               "props": {
                "className": "interact-widget"
               },
               "type": "node"
              },
              {
               "children": [
                {
                 "children": [
                  {
                   "children": [
                    "save"
                   ],
                   "instanceArgs": {
                    "namespace": "html",
                    "tag": "button"
                   },
                   "nodeType": "DOM",
                   "props": {
                    "attributes": {
                     "data-bind": "click: function (){this.clicks(this.clicks()+1)}, css: {'is-loading' : loading}"
                    },
                    "className": "is-medium button is-primary",
                    "style": {}
                   },
                   "type": "node"
                  }
                 ],
                 "instanceArgs": {
                  "handlers": {
                   "clicks": [
                    "(function (val){return (val!=this.model[\"clicks\"]()) ? (this.valueFromJulia[\"clicks\"]=true, this.model[\"clicks\"](val)) : undefined})"
                   ],
                   "loading": [
                    "(function (val){return (val!=this.model[\"loading\"]()) ? (this.valueFromJulia[\"loading\"]=true, this.model[\"loading\"](val)) : undefined})"
                   ]
                  },
                  "id": "13174014131277298923",
                  "imports": {
                   "data": [
                    {
                     "name": "knockout",
                     "type": "js",
                     "url": "/assetserver/727383f2a47bd31570b7da84eee7b022dd6d7c78-knockout.js"
                    },
                    {
                     "name": "knockout_punches",
                     "type": "js",
                     "url": "/assetserver/382b41b3b1bd9f26f75861d360bad7f8beea211f-knockout_punches.js"
                    },
                    {
                     "name": null,
                     "type": "js",
                     "url": "/assetserver/5ab20f1060420992a9b82a65b735dee4d81ef413-all.js"
                    },
                    {
                     "name": null,
                     "type": "css",
                     "url": "/assetserver/1cc0ed62837210b80a182cc3676512f895dab686-style.css"
                    },
                    {
                     "name": null,
                     "type": "css",
                     "url": "/assetserver/2eee816f616df3549d7044d45e744fbf8d42bfa1-bulma_confined.min.css"
                    }
                   ],
                   "type": "async_block"
                  },
                  "mount_callbacks": [
                   "function () {\n    var handler = (function (ko, koPunches) {\n    ko.punches.enableAll();\n    ko.bindingHandlers.numericValue = {\n        init: function(element, valueAccessor, allBindings, data, context) {\n            var stringified = ko.observable(ko.unwrap(valueAccessor()));\n            stringified.subscribe(function(value) {\n                var val = parseFloat(value);\n                if (!isNaN(val)) {\n                    valueAccessor()(val);\n                }\n            });\n            valueAccessor().subscribe(function(value) {\n                var str = JSON.stringify(value);\n                if ((str == \"0\") && ([\"-0\", \"-0.\"].indexOf(stringified()) >= 0))\n                     return;\n                 if ([\"null\", \"\"].indexOf(str) >= 0)\n                     return;\n                stringified(str);\n            });\n            ko.applyBindingsToNode(\n                element,\n                {\n                    value: stringified,\n                    valueUpdate: allBindings.get('valueUpdate'),\n                },\n                context,\n            );\n        }\n    };\n    var json_data = {\"loading\":WebIO.getval({\"name\":\"loading\",\"scope\":\"13174014131277298923\",\"id\":\"11988767653484166432\",\"type\":\"observable\"}),\"clicks\":WebIO.getval({\"name\":\"clicks\",\"scope\":\"13174014131277298923\",\"id\":\"5155658597778759627\",\"type\":\"observable\"})};\n    var self = this;\n    function AppViewModel() {\n        for (var key in json_data) {\n            var el = json_data[key];\n            this[key] = Array.isArray(el) ? ko.observableArray(el) : ko.observable(el);\n        }\n        \n        \n        [this[\"loading\"].subscribe((function (val){!(this.valueFromJulia[\"loading\"]) ? (WebIO.setval({\"name\":\"loading\",\"scope\":\"13174014131277298923\",\"id\":\"11988767653484166432\",\"type\":\"observable\"},val)) : undefined; return this.valueFromJulia[\"loading\"]=false}),self),this[\"clicks\"].subscribe((function (val){!(this.valueFromJulia[\"clicks\"]) ? (WebIO.setval({\"name\":\"clicks\",\"scope\":\"13174014131277298923\",\"id\":\"5155658597778759627\",\"type\":\"observable\"},val)) : undefined; return this.valueFromJulia[\"clicks\"]=false}),self)]\n        \n    }\n    self.model = new AppViewModel();\n    self.valueFromJulia = {};\n    for (var key in json_data) {\n        self.valueFromJulia[key] = false;\n    }\n    ko.applyBindings(self.model, self.dom);\n}\n);\n    (WebIO.importBlock({\"data\":[{\"name\":\"knockout\",\"type\":\"js\",\"url\":\"/assetserver/727383f2a47bd31570b7da84eee7b022dd6d7c78-knockout.js\"},{\"name\":\"knockout_punches\",\"type\":\"js\",\"url\":\"/assetserver/382b41b3b1bd9f26f75861d360bad7f8beea211f-knockout_punches.js\"}],\"type\":\"async_block\"})).then((imports) => handler.apply(this, imports));\n}\n"
                  ],
                  "observables": {
                   "clicks": {
                    "id": "5155658597778759627",
                    "sync": true,
                    "value": 0
                   },
                   "loading": {
                    "id": "11988767653484166432",
                    "sync": false,
                    "value": false
                   }
                  },
                  "systemjs_options": null
                 },
                 "nodeType": "Scope",
                 "props": {},
                 "type": "node"
                }
               ],
               "instanceArgs": {
                "namespace": "html",
                "tag": "div"
               },
               "nodeType": "DOM",
               "props": {
                "className": "field interact-widget"
               },
               "type": "node"
              }
             ],
             "instanceArgs": {
              "namespace": "html",
              "tag": "div"
             },
             "nodeType": "DOM",
             "props": {
              "style": {
               "display": "flex",
               "flex-direction": "row"
              }
             },
             "type": "node"
            }
           ],
           "instanceArgs": {
            "namespace": "html",
            "tag": "div"
           },
           "nodeType": "DOM",
           "props": {
            "style": {
             "display": "flex",
             "flex-direction": "column"
            }
           },
           "type": "node"
          },
          {
           "children": [
            {
             "children": [
              {
               "children": [],
               "instanceArgs": {
                "namespace": "html",
                "tag": "div"
               },
               "nodeType": "DOM",
               "props": {
                "id": "container"
               },
               "type": "node"
              }
             ],
             "instanceArgs": {
              "handlers": {
               "value": [
                "(function (txt){return this.k.render(txt,this.container)})"
               ]
              },
              "id": "13952764259330237642",
              "imports": {
               "data": [
                {
                 "name": null,
                 "type": "js",
                 "url": "/assetserver/dd22ed1bf1896c2748f3fe616ce0b838adc895c1-katex.min.js"
                },
                {
                 "name": null,
                 "type": "css",
                 "url": "/assetserver/46517a424aa5e6cffc1360d7e0848b601c584ee3-katex.min.css"
                }
               ],
               "type": "async_block"
              },
              "mount_callbacks": [
               "function () {\n    var handler = ((function (k){this.k=k; this.container=this.dom.querySelector(\"#container\"); return k.render(\"\\\\;\\\\;\",this.container)}));\n    (WebIO.importBlock({\"data\":[{\"name\":null,\"type\":\"js\",\"url\":\"/assetserver/dd22ed1bf1896c2748f3fe616ce0b838adc895c1-katex.min.js\"},{\"name\":null,\"type\":\"css\",\"url\":\"/assetserver/46517a424aa5e6cffc1360d7e0848b601c584ee3-katex.min.css\"}],\"type\":\"async_block\"})).then((imports) => handler.apply(this, imports));\n}\n"
              ],
              "observables": {
               "value": {
                "id": "12406549233469348929",
                "sync": false,
                "value": "\\;\\;"
               }
              },
              "systemjs_options": null
             },
             "nodeType": "Scope",
             "props": {},
             "type": "node"
            }
           ],
           "instanceArgs": {
            "namespace": "html",
            "tag": "div"
           },
           "nodeType": "DOM",
           "props": {
            "className": "interact-widget"
           },
           "type": "node"
          },
          {
           "children": [
            {
             "children": [],
             "instanceArgs": {
              "namespace": "html",
              "tag": "div"
             },
             "nodeType": "DOM",
             "props": {
              "className": "webio-observable",
              "setInnerHtml": "<img src='data:image/png;base64,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'></img>"
             },
             "type": "node"
            }
           ],
           "instanceArgs": {
            "handlers": {
             "obs-output": [
              "function (value, scope) {\n    scope.setInnerHTML(value);\n}\n"
             ]
            },
            "id": "5950302545021004271",
            "imports": {
             "data": [],
             "type": "async_block"
            },
            "mount_callbacks": [],
            "observables": {
             "obs-output": {
              "id": "2663693012050606947",
              "sync": false,
              "value": "<img src='data:image/png;base64,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'></img>"
             }
            },
            "systemjs_options": null
           },
           "nodeType": "Scope",
           "props": {},
           "type": "node"
          },
          {
           "children": [
            {
             "children": [
              {
               "children": [],
               "instanceArgs": {
                "namespace": "html",
                "tag": "div"
               },
               "nodeType": "DOM",
               "props": {
                "id": "container"
               },
               "type": "node"
              }
             ],
             "instanceArgs": {
              "handlers": {
               "value": [
                "(function (txt){return this.k.render(txt,this.container)})"
               ]
              },
              "id": "13952764259330237642",
              "imports": {
               "data": [
                {
                 "name": null,
                 "type": "js",
                 "url": "/assetserver/dd22ed1bf1896c2748f3fe616ce0b838adc895c1-katex.min.js"
                },
                {
                 "name": null,
                 "type": "css",
                 "url": "/assetserver/46517a424aa5e6cffc1360d7e0848b601c584ee3-katex.min.css"
                }
               ],
               "type": "async_block"
              },
              "mount_callbacks": [
               "function () {\n    var handler = ((function (k){this.k=k; this.container=this.dom.querySelector(\"#container\"); return k.render(\"\\\\;\\\\;\",this.container)}));\n    (WebIO.importBlock({\"data\":[{\"name\":null,\"type\":\"js\",\"url\":\"/assetserver/dd22ed1bf1896c2748f3fe616ce0b838adc895c1-katex.min.js\"},{\"name\":null,\"type\":\"css\",\"url\":\"/assetserver/46517a424aa5e6cffc1360d7e0848b601c584ee3-katex.min.css\"}],\"type\":\"async_block\"})).then((imports) => handler.apply(this, imports));\n}\n"
              ],
              "observables": {
               "value": {
                "id": "12406549233469348929",
                "sync": false,
                "value": "\\;\\;"
               }
              },
              "systemjs_options": null
             },
             "nodeType": "Scope",
             "props": {},
             "type": "node"
            }
           ],
           "instanceArgs": {
            "namespace": "html",
            "tag": "div"
           },
           "nodeType": "DOM",
           "props": {
            "className": "interact-widget"
           },
           "type": "node"
          },
          {
           "children": [
            {
             "children": [
              {
               "children": [],
               "instanceArgs": {
                "namespace": "html",
                "tag": "div"
               },
               "nodeType": "DOM",
               "props": {
                "className": "webio-observable",
                "setInnerHtml": "<img src=\"data:image/png;base64,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\" />"
               },
               "type": "node"
              }
             ],
             "instanceArgs": {
              "handlers": {
               "obs-output": [
                "function (value, scope) {\n    scope.setInnerHTML(value);\n}\n"
               ]
              },
              "id": "3724822161002077211",
              "imports": {
               "data": [],
               "type": "async_block"
              },
              "mount_callbacks": [],
              "observables": {
               "obs-output": {
                "id": "16854720493134816617",
                "sync": false,
                "value": "<img src=\"data:image/png;base64,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\" />"
               }
              },
              "systemjs_options": null
             },
             "nodeType": "Scope",
             "props": {},
             "type": "node"
            }
           ],
           "instanceArgs": {
            "namespace": "html",
            "tag": "div"
           },
           "nodeType": "DOM",
           "props": {
            "style": {
             "display": "flex",
             "flex-direction": "column"
            }
           },
           "type": "node"
          }
         ],
         "instanceArgs": {
          "namespace": "html",
          "tag": "div"
         },
         "nodeType": "DOM",
         "props": {
          "style": {
           "display": "flex",
           "flex-direction": "row"
          }
         },
         "type": "node"
        }
       ],
       "instanceArgs": {
        "namespace": "html",
        "tag": "div"
       },
       "nodeType": "DOM",
       "props": {
        "style": {
         "display": "flex",
         "flex-direction": "column"
        }
       },
       "type": "node"
      },
      "text/html": [
       "<div\n",
       "    class=\"webio-mountpoint\"\n",
       "    data-webio-mountpoint=\"5719576179854212012\"\n",
       ">\n",
       "    <script>\n",
       "    (function(){\n",
       "    // Some integrations (namely, IJulia/Jupyter) use an alternate render pathway than\n",
       "    // just putting the html on the page. If WebIO isn't defined, then it's pretty likely\n",
       "    // that we're in one of those situations and the integration just isn't installed\n",
       "    // correctly.\n",
       "    if (typeof window.WebIO === \"undefined\") {\n",
       "        document\n",
       "            .querySelector('[data-webio-mountpoint=\"5719576179854212012\"]')\n",
       "            .innerHTML = (\n",
       "                '<div style=\"padding: 1em; background-color: #f8d6da; border: 1px solid #f5c6cb; font-weight: bold;\">' +\n",
       "                '<p><strong>WebIO not detected.</strong></p>' +\n",
       "                '<p>Please read ' +\n",
       "                '<a href=\"https://juliagizmos.github.io/WebIO.jl/latest/troubleshooting/not-detected/\" target=\"_blank\">the troubleshooting guide</a> ' +\n",
       "                'for more information on how to resolve this issue.</p>' +\n",
       "                '<p><a href=\"https://juliagizmos.github.io/WebIO.jl/latest/troubleshooting/not-detected/\" target=\"_blank\">https://juliagizmos.github.io/WebIO.jl/latest/troubleshooting/not-detected/</a></p>' +\n",
       "                '</div>'\n",
       "            );\n",
       "        return;\n",
       "    }\n",
       "    WebIO.mount(\n",
       "        document.querySelector('[data-webio-mountpoint=\"5719576179854212012\"]'),\n",
       "        {\"props\":{\"style\":{\"display\":\"flex\",\"flex-direction\":\"column\"}},\"nodeType\":\"DOM\",\"type\":\"node\",\"instanceArgs\":{\"namespace\":\"html\",\"tag\":\"div\"},\"children\":[{\"props\":{\"style\":{\"display\":\"flex\",\"flex-direction\":\"row\"}},\"nodeType\":\"DOM\",\"type\":\"node\",\"instanceArgs\":{\"namespace\":\"html\",\"tag\":\"div\"},\"children\":[{\"props\":{\"style\":{\"display\":\"flex\",\"flex-direction\":\"column\"}},\"nodeType\":\"DOM\",\"type\":\"node\",\"instanceArgs\":{\"namespace\":\"html\",\"tag\":\"div\"},\"children\":[{\"props\":{\"className\":\"field interact-widget\"},\"nodeType\":\"DOM\",\"type\":\"node\",\"instanceArgs\":{\"namespace\":\"html\",\"tag\":\"div\"},\"children\":[{\"props\":{},\"nodeType\":\"Scope\",\"type\":\"node\",\"instanceArgs\":{\"imports\":{\"data\":[{\"name\":\"knockout\",\"type\":\"js\",\"url\":\"\\/assetserver\\/727383f2a47bd31570b7da84eee7b022dd6d7c78-knockout.js\"},{\"name\":\"knockout_punches\",\"type\":\"js\",\"url\":\"\\/assetserver\\/382b41b3b1bd9f26f75861d360bad7f8beea211f-knockout_punches.js\"},{\"name\":null,\"type\":\"js\",\"url\":\"\\/assetserver\\/5ab20f1060420992a9b82a65b735dee4d81ef413-all.js\"},{\"name\":null,\"type\":\"css\",\"url\":\"\\/assetserver\\/1cc0ed62837210b80a182cc3676512f895dab686-style.css\"},{\"name\":null,\"type\":\"css\",\"url\":\"\\/assetserver\\/2eee816f616df3549d7044d45e744fbf8d42bfa1-bulma_confined.min.css\"}],\"type\":\"async_block\"},\"id\":\"13307734633236114650\",\"handlers\":{\"changes\":[\"(function (val){return (val!=this.model[\\\"changes\\\"]()) ? (this.valueFromJulia[\\\"changes\\\"]=true, this.model[\\\"changes\\\"](val)) : undefined})\"],\"index\":[\"(function (val){return (val!=this.model[\\\"index\\\"]()) ? (this.valueFromJulia[\\\"index\\\"]=true, this.model[\\\"index\\\"](val)) : undefined})\"]},\"systemjs_options\":null,\"mount_callbacks\":[\"function () {\\n    var handler = (function (ko, koPunches) {\\n    ko.punches.enableAll();\\n    ko.bindingHandlers.numericValue = {\\n        init: function(element, valueAccessor, allBindings, data, context) {\\n            var stringified = ko.observable(ko.unwrap(valueAccessor()));\\n            stringified.subscribe(function(value) {\\n                var val = parseFloat(value);\\n                if (!isNaN(val)) {\\n                    valueAccessor()(val);\\n                }\\n            });\\n            valueAccessor().subscribe(function(value) {\\n                var str = JSON.stringify(value);\\n                if ((str == \\\"0\\\") && ([\\\"-0\\\", \\\"-0.\\\"].indexOf(stringified()) >= 0))\\n                     return;\\n                 if ([\\\"null\\\", \\\"\\\"].indexOf(str) >= 0)\\n                     return;\\n                stringified(str);\\n            });\\n            ko.applyBindingsToNode(\\n                element,\\n                {\\n                    value: stringified,\\n                    valueUpdate: allBindings.get('valueUpdate'),\\n                },\\n                context,\\n            );\\n        }\\n    };\\n    var json_data = {\\\"formatted_vals\\\":[\\\"1\\\",\\\"2\\\",\\\"3\\\",\\\"4\\\",\\\"5\\\",\\\"6\\\",\\\"7\\\",\\\"8\\\",\\\"9\\\",\\\"10\\\",\\\"11\\\",\\\"12\\\",\\\"13\\\",\\\"14\\\",\\\"15\\\",\\\"16\\\",\\\"17\\\",\\\"18\\\",\\\"19\\\",\\\"20\\\",\\\"21\\\",\\\"22\\\",\\\"23\\\",\\\"24\\\",\\\"25\\\",\\\"26\\\",\\\"27\\\",\\\"28\\\",\\\"29\\\",\\\"30\\\",\\\"31\\\",\\\"32\\\",\\\"33\\\",\\\"34\\\",\\\"35\\\",\\\"36\\\",\\\"37\\\",\\\"38\\\",\\\"39\\\",\\\"40\\\",\\\"41\\\",\\\"42\\\",\\\"43\\\",\\\"44\\\",\\\"45\\\",\\\"46\\\",\\\"47\\\",\\\"48\\\",\\\"49\\\",\\\"50\\\",\\\"51\\\",\\\"52\\\",\\\"53\\\",\\\"54\\\",\\\"55\\\",\\\"56\\\",\\\"57\\\",\\\"58\\\",\\\"59\\\",\\\"60\\\",\\\"61\\\",\\\"62\\\",\\\"63\\\",\\\"64\\\",\\\"65\\\",\\\"66\\\",\\\"67\\\",\\\"68\\\",\\\"69\\\",\\\"70\\\",\\\"71\\\",\\\"72\\\",\\\"73\\\",\\\"74\\\",\\\"75\\\",\\\"76\\\",\\\"77\\\",\\\"78\\\",\\\"79\\\",\\\"80\\\",\\\"81\\\",\\\"82\\\",\\\"83\\\",\\\"84\\\",\\\"85\\\",\\\"86\\\",\\\"87\\\",\\\"88\\\",\\\"89\\\",\\\"90\\\",\\\"91\\\",\\\"92\\\",\\\"93\\\",\\\"94\\\",\\\"95\\\",\\\"96\\\",\\\"97\\\",\\\"98\\\",\\\"99\\\",\\\"100\\\",\\\"101\\\",\\\"102\\\",\\\"103\\\",\\\"104\\\",\\\"105\\\",\\\"106\\\",\\\"107\\\",\\\"108\\\",\\\"109\\\",\\\"110\\\",\\\"111\\\",\\\"112\\\",\\\"113\\\",\\\"114\\\",\\\"115\\\",\\\"116\\\",\\\"117\\\",\\\"118\\\",\\\"119\\\",\\\"120\\\",\\\"121\\\",\\\"122\\\",\\\"123\\\",\\\"124\\\",\\\"125\\\",\\\"126\\\",\\\"127\\\",\\\"128\\\",\\\"129\\\",\\\"130\\\",\\\"131\\\",\\\"132\\\",\\\"133\\\",\\\"134\\\",\\\"135\\\",\\\"136\\\",\\\"137\\\",\\\"138\\\",\\\"139\\\",\\\"140\\\",\\\"141\\\",\\\"142\\\",\\\"143\\\",\\\"144\\\",\\\"145\\\",\\\"146\\\",\\\"147\\\",\\\"148\\\",\\\"149\\\",\\\"150\\\",\\\"151\\\",\\\"152\\\",\\\"153\\\",\\\"154\\\",\\\"155\\\",\\\"156\\\",\\\"157\\\",\\\"158\\\",\\\"159\\\",\\\"160\\\",\\\"161\\\",\\\"162\\\",\\\"163\\\",\\\"164\\\",\\\"165\\\",\\\"166\\\",\\\"167\\\",\\\"168\\\",\\\"169\\\",\\\"170\\\",\\\"171\\\",\\\"172\\\",\\\"173\\\",\\\"174\\\",\\\"175\\\",\\\"176\\\",\\\"177\\\",\\\"178\\\",\\\"179\\\",\\\"180\\\",\\\"181\\\",\\\"182\\\",\\\"183\\\",\\\"184\\\",\\\"185\\\",\\\"186\\\",\\\"187\\\",\\\"188\\\",\\\"189\\\",\\\"190\\\",\\\"191\\\",\\\"192\\\",\\\"193\\\",\\\"194\\\",\\\"195\\\",\\\"196\\\",\\\"197\\\",\\\"198\\\",\\\"199\\\",\\\"200\\\"],\\\"changes\\\":WebIO.getval({\\\"name\\\":\\\"changes\\\",\\\"scope\\\":\\\"13307734633236114650\\\",\\\"id\\\":\\\"10355578634633865508\\\",\\\"type\\\":\\\"observable\\\"}),\\\"index\\\":WebIO.getval({\\\"name\\\":\\\"index\\\",\\\"scope\\\":\\\"13307734633236114650\\\",\\\"id\\\":\\\"13148657183476414184\\\",\\\"type\\\":\\\"observable\\\"})};\\n    var self = this;\\n    function AppViewModel() {\\n        for (var key in json_data) {\\n            var el = json_data[key];\\n            this[key] = Array.isArray(el) ? ko.observableArray(el) : ko.observable(el);\\n        }\\n        \\n        [this[\\\"formatted_val\\\"]=ko.computed(    function(){\\n        return this.formatted_vals()[parseInt(this.index())-(1)];\\n    }\\n,this)]\\n        [this[\\\"changes\\\"].subscribe((function (val){!(this.valueFromJulia[\\\"changes\\\"]) ? (WebIO.setval({\\\"name\\\":\\\"changes\\\",\\\"scope\\\":\\\"13307734633236114650\\\",\\\"id\\\":\\\"10355578634633865508\\\",\\\"type\\\":\\\"observable\\\"},val)) : undefined; return this.valueFromJulia[\\\"changes\\\"]=false}),self),this[\\\"index\\\"].subscribe((function (val){!(this.valueFromJulia[\\\"index\\\"]) ? (WebIO.setval({\\\"name\\\":\\\"index\\\",\\\"scope\\\":\\\"13307734633236114650\\\",\\\"id\\\":\\\"13148657183476414184\\\",\\\"type\\\":\\\"observable\\\"},val)) : undefined; return this.valueFromJulia[\\\"index\\\"]=false}),self)]\\n        \\n    }\\n    self.model = new AppViewModel();\\n    self.valueFromJulia = {};\\n    for (var key in json_data) {\\n        self.valueFromJulia[key] = false;\\n    }\\n    ko.applyBindings(self.model, self.dom);\\n}\\n);\\n    (WebIO.importBlock({\\\"data\\\":[{\\\"name\\\":\\\"knockout\\\",\\\"type\\\":\\\"js\\\",\\\"url\\\":\\\"\\/assetserver\\/727383f2a47bd31570b7da84eee7b022dd6d7c78-knockout.js\\\"},{\\\"name\\\":\\\"knockout_punches\\\",\\\"type\\\":\\\"js\\\",\\\"url\\\":\\\"\\/assetserver\\/382b41b3b1bd9f26f75861d360bad7f8beea211f-knockout_punches.js\\\"}],\\\"type\\\":\\\"async_block\\\"})).then((imports) => handler.apply(this, imports));\\n}\\n\"],\"observables\":{\"changes\":{\"sync\":false,\"id\":\"10355578634633865508\",\"value\":0},\"index\":{\"sync\":true,\"id\":\"13148657183476414184\",\"value\":1}}},\"children\":[{\"props\":{\"className\":\"interact-flex-row interact-widget\"},\"nodeType\":\"DOM\",\"type\":\"node\",\"instanceArgs\":{\"namespace\":\"html\",\"tag\":\"div\"},\"children\":[{\"props\":{\"className\":\"interact-flex-row-left\"},\"nodeType\":\"DOM\",\"type\":\"node\",\"instanceArgs\":{\"namespace\":\"html\",\"tag\":\"div\"},\"children\":[{\"props\":{\"className\":\"interact \",\"style\":{\"padding\":\"5px 10px 0px 10px\"}},\"nodeType\":\"DOM\",\"type\":\"node\",\"instanceArgs\":{\"namespace\":\"html\",\"tag\":\"label\"},\"children\":[\"time\"]}]},{\"props\":{\"className\":\"interact-flex-row-center\"},\"nodeType\":\"DOM\",\"type\":\"node\",\"instanceArgs\":{\"namespace\":\"html\",\"tag\":\"div\"},\"children\":[{\"props\":{\"max\":200,\"min\":1,\"attributes\":{\"type\":\"range\",\"data-bind\":\"numericValue: index, valueUpdate: 'input', event: {change: function (){this.changes(this.changes()+1)}}\",\"orient\":\"horizontal\"},\"step\":1,\"className\":\"slider slider is-fullwidth\",\"style\":{}},\"nodeType\":\"DOM\",\"type\":\"node\",\"instanceArgs\":{\"namespace\":\"html\",\"tag\":\"input\"},\"children\":[]}]},{\"props\":{\"className\":\"interact-flex-row-right\"},\"nodeType\":\"DOM\",\"type\":\"node\",\"instanceArgs\":{\"namespace\":\"html\",\"tag\":\"div\"},\"children\":[{\"props\":{\"attributes\":{\"data-bind\":\"text: formatted_val\"}},\"nodeType\":\"DOM\",\"type\":\"node\",\"instanceArgs\":{\"namespace\":\"html\",\"tag\":\"p\"},\"children\":[]}]}]}]}]},{\"props\":{\"className\":\"field interact-widget\"},\"nodeType\":\"DOM\",\"type\":\"node\",\"instanceArgs\":{\"namespace\":\"html\",\"tag\":\"div\"},\"children\":[{\"props\":{},\"nodeType\":\"Scope\",\"type\":\"node\",\"instanceArgs\":{\"imports\":{\"data\":[{\"name\":\"knockout\",\"type\":\"js\",\"url\":\"\\/assetserver\\/727383f2a47bd31570b7da84eee7b022dd6d7c78-knockout.js\"},{\"name\":\"knockout_punches\",\"type\":\"js\",\"url\":\"\\/assetserver\\/382b41b3b1bd9f26f75861d360bad7f8beea211f-knockout_punches.js\"},{\"name\":null,\"type\":\"js\",\"url\":\"\\/assetserver\\/5ab20f1060420992a9b82a65b735dee4d81ef413-all.js\"},{\"name\":null,\"type\":\"css\",\"url\":\"\\/assetserver\\/1cc0ed62837210b80a182cc3676512f895dab686-style.css\"},{\"name\":null,\"type\":\"css\",\"url\":\"\\/assetserver\\/2eee816f616df3549d7044d45e744fbf8d42bfa1-bulma_confined.min.css\"}],\"type\":\"async_block\"},\"id\":\"17505250450389404060\",\"handlers\":{\"changes\":[\"(function (val){return (val!=this.model[\\\"changes\\\"]()) ? (this.valueFromJulia[\\\"changes\\\"]=true, this.model[\\\"changes\\\"](val)) : undefined})\"],\"index\":[\"(function (val){return (val!=this.model[\\\"index\\\"]()) ? (this.valueFromJulia[\\\"index\\\"]=true, this.model[\\\"index\\\"](val)) : undefined})\"]},\"systemjs_options\":null,\"mount_callbacks\":[\"function () {\\n    var handler = (function (ko, koPunches) {\\n    ko.punches.enableAll();\\n    ko.bindingHandlers.numericValue = {\\n        init: function(element, valueAccessor, allBindings, data, context) {\\n            var stringified = ko.observable(ko.unwrap(valueAccessor()));\\n            stringified.subscribe(function(value) {\\n                var val = parseFloat(value);\\n                if (!isNaN(val)) {\\n                    valueAccessor()(val);\\n                }\\n            });\\n            valueAccessor().subscribe(function(value) {\\n                var str = JSON.stringify(value);\\n                if ((str == \\\"0\\\") && ([\\\"-0\\\", \\\"-0.\\\"].indexOf(stringified()) >= 0))\\n                     return;\\n                 if ([\\\"null\\\", \\\"\\\"].indexOf(str) >= 0)\\n                     return;\\n                stringified(str);\\n            });\\n            ko.applyBindingsToNode(\\n                element,\\n                {\\n                    value: stringified,\\n                    valueUpdate: allBindings.get('valueUpdate'),\\n                },\\n                context,\\n            );\\n        }\\n    };\\n    var json_data = {\\\"formatted_vals\\\":[\\\"0.1\\\",\\\"0.2\\\",\\\"0.3\\\",\\\"0.4\\\",\\\"0.5\\\",\\\"0.6\\\",\\\"0.7\\\",\\\"0.8\\\",\\\"0.9\\\",\\\"1.0\\\",\\\"1.1\\\",\\\"1.2\\\",\\\"1.3\\\",\\\"1.4\\\",\\\"1.5\\\",\\\"1.6\\\",\\\"1.7\\\",\\\"1.8\\\",\\\"1.9\\\",\\\"2.0\\\"],\\\"changes\\\":WebIO.getval({\\\"name\\\":\\\"changes\\\",\\\"scope\\\":\\\"17505250450389404060\\\",\\\"id\\\":\\\"5605635104180370102\\\",\\\"type\\\":\\\"observable\\\"}),\\\"index\\\":WebIO.getval({\\\"name\\\":\\\"index\\\",\\\"scope\\\":\\\"17505250450389404060\\\",\\\"id\\\":\\\"10763939566219764529\\\",\\\"type\\\":\\\"observable\\\"})};\\n    var self = this;\\n    function AppViewModel() {\\n        for (var key in json_data) {\\n            var el = json_data[key];\\n            this[key] = Array.isArray(el) ? ko.observableArray(el) : ko.observable(el);\\n        }\\n        \\n        [this[\\\"formatted_val\\\"]=ko.computed(    function(){\\n        return this.formatted_vals()[parseInt(this.index())-(1)];\\n    }\\n,this)]\\n        [this[\\\"changes\\\"].subscribe((function (val){!(this.valueFromJulia[\\\"changes\\\"]) ? (WebIO.setval({\\\"name\\\":\\\"changes\\\",\\\"scope\\\":\\\"17505250450389404060\\\",\\\"id\\\":\\\"5605635104180370102\\\",\\\"type\\\":\\\"observable\\\"},val)) : undefined; return this.valueFromJulia[\\\"changes\\\"]=false}),self),this[\\\"index\\\"].subscribe((function (val){!(this.valueFromJulia[\\\"index\\\"]) ? (WebIO.setval({\\\"name\\\":\\\"index\\\",\\\"scope\\\":\\\"17505250450389404060\\\",\\\"id\\\":\\\"10763939566219764529\\\",\\\"type\\\":\\\"observable\\\"},val)) : undefined; return this.valueFromJulia[\\\"index\\\"]=false}),self)]\\n        \\n    }\\n    self.model = new AppViewModel();\\n    self.valueFromJulia = {};\\n    for (var key in json_data) {\\n        self.valueFromJulia[key] = false;\\n    }\\n    ko.applyBindings(self.model, self.dom);\\n}\\n);\\n    (WebIO.importBlock({\\\"data\\\":[{\\\"name\\\":\\\"knockout\\\",\\\"type\\\":\\\"js\\\",\\\"url\\\":\\\"\\/assetserver\\/727383f2a47bd31570b7da84eee7b022dd6d7c78-knockout.js\\\"},{\\\"name\\\":\\\"knockout_punches\\\",\\\"type\\\":\\\"js\\\",\\\"url\\\":\\\"\\/assetserver\\/382b41b3b1bd9f26f75861d360bad7f8beea211f-knockout_punches.js\\\"}],\\\"type\\\":\\\"async_block\\\"})).then((imports) => handler.apply(this, imports));\\n}\\n\"],\"observables\":{\"changes\":{\"sync\":false,\"id\":\"5605635104180370102\",\"value\":0},\"index\":{\"sync\":true,\"id\":\"10763939566219764529\",\"value\":10}}},\"children\":[{\"props\":{\"className\":\"interact-flex-row interact-widget\"},\"nodeType\":\"DOM\",\"type\":\"node\",\"instanceArgs\":{\"namespace\":\"html\",\"tag\":\"div\"},\"children\":[{\"props\":{\"className\":\"interact-flex-row-left\"},\"nodeType\":\"DOM\",\"type\":\"node\",\"instanceArgs\":{\"namespace\":\"html\",\"tag\":\"div\"},\"children\":[{\"props\":{\"className\":\"interact \",\"style\":{\"padding\":\"5px 10px 0px 10px\"}},\"nodeType\":\"DOM\",\"type\":\"node\",\"instanceArgs\":{\"namespace\":\"html\",\"tag\":\"label\"},\"children\":[\"scale\"]}]},{\"props\":{\"className\":\"interact-flex-row-center\"},\"nodeType\":\"DOM\",\"type\":\"node\",\"instanceArgs\":{\"namespace\":\"html\",\"tag\":\"div\"},\"children\":[{\"props\":{\"max\":20,\"min\":1,\"attributes\":{\"type\":\"range\",\"data-bind\":\"numericValue: index, valueUpdate: 'input', event: {change: function (){this.changes(this.changes()+1)}}\",\"orient\":\"horizontal\"},\"step\":1,\"className\":\"slider slider is-fullwidth\",\"style\":{}},\"nodeType\":\"DOM\",\"type\":\"node\",\"instanceArgs\":{\"namespace\":\"html\",\"tag\":\"input\"},\"children\":[]}]},{\"props\":{\"className\":\"interact-flex-row-right\"},\"nodeType\":\"DOM\",\"type\":\"node\",\"instanceArgs\":{\"namespace\":\"html\",\"tag\":\"div\"},\"children\":[{\"props\":{\"attributes\":{\"data-bind\":\"text: formatted_val\"}},\"nodeType\":\"DOM\",\"type\":\"node\",\"instanceArgs\":{\"namespace\":\"html\",\"tag\":\"p\"},\"children\":[]}]}]}]}]},{\"props\":{\"style\":{\"display\":\"flex\",\"flex-direction\":\"column\"}},\"nodeType\":\"DOM\",\"type\":\"node\",\"instanceArgs\":{\"namespace\":\"html\",\"tag\":\"div\"},\"children\":[]},{\"props\":{\"style\":{\"display\":\"flex\",\"flex-direction\":\"column\"}},\"nodeType\":\"DOM\",\"type\":\"node\",\"instanceArgs\":{\"namespace\":\"html\",\"tag\":\"div\"},\"children\":[{\"props\":{\"className\":\"field interact-widget\"},\"nodeType\":\"DOM\",\"type\":\"node\",\"instanceArgs\":{\"namespace\":\"html\",\"tag\":\"div\"},\"children\":[{\"props\":{},\"nodeType\":\"Scope\",\"type\":\"node\",\"instanceArgs\":{\"imports\":{\"data\":[{\"name\":\"knockout\",\"type\":\"js\",\"url\":\"\\/assetserver\\/727383f2a47bd31570b7da84eee7b022dd6d7c78-knockout.js\"},{\"name\":\"knockout_punches\",\"type\":\"js\",\"url\":\"\\/assetserver\\/382b41b3b1bd9f26f75861d360bad7f8beea211f-knockout_punches.js\"},{\"name\":null,\"type\":\"js\",\"url\":\"\\/assetserver\\/5ab20f1060420992a9b82a65b735dee4d81ef413-all.js\"},{\"name\":null,\"type\":\"css\",\"url\":\"\\/assetserver\\/1cc0ed62837210b80a182cc3676512f895dab686-style.css\"},{\"name\":null,\"type\":\"css\",\"url\":\"\\/assetserver\\/2eee816f616df3549d7044d45e744fbf8d42bfa1-bulma_confined.min.css\"}],\"type\":\"async_block\"},\"id\":\"18112036964177623337\",\"handlers\":{\"changes\":[\"(function (val){return (val!=this.model[\\\"changes\\\"]()) ? (this.valueFromJulia[\\\"changes\\\"]=true, this.model[\\\"changes\\\"](val)) : undefined})\"],\"index\":[\"(function (val){return (val!=this.model[\\\"index\\\"]()) ? (this.valueFromJulia[\\\"index\\\"]=true, this.model[\\\"index\\\"](val)) : undefined})\"]},\"systemjs_options\":null,\"mount_callbacks\":[\"function () {\\n    var handler = (function (ko, koPunches) {\\n    ko.punches.enableAll();\\n    ko.bindingHandlers.numericValue = {\\n        init: function(element, valueAccessor, allBindings, data, context) {\\n            var stringified = ko.observable(ko.unwrap(valueAccessor()));\\n            stringified.subscribe(function(value) {\\n                var val = parseFloat(value);\\n                if (!isNaN(val)) {\\n                    valueAccessor()(val);\\n                }\\n            });\\n            valueAccessor().subscribe(function(value) {\\n                var str = JSON.stringify(value);\\n                if ((str == \\\"0\\\") && ([\\\"-0\\\", \\\"-0.\\\"].indexOf(stringified()) >= 0))\\n                     return;\\n                 if ([\\\"null\\\", \\\"\\\"].indexOf(str) >= 0)\\n                     return;\\n                stringified(str);\\n            });\\n            ko.applyBindingsToNode(\\n                element,\\n                {\\n                    value: stringified,\\n                    valueUpdate: allBindings.get('valueUpdate'),\\n                },\\n                context,\\n            );\\n        }\\n    };\\n    var json_data = {\\\"formatted_vals\\\":[\\\"0.05\\\",\\\"0.1\\\",\\\"0.15\\\",\\\"0.2\\\",\\\"0.25\\\",\\\"0.3\\\",\\\"0.35\\\",\\\"0.4\\\",\\\"0.45\\\",\\\"0.5\\\",\\\"0.55\\\",\\\"0.6\\\",\\\"0.65\\\",\\\"0.7\\\",\\\"0.75\\\",\\\"0.8\\\",\\\"0.85\\\",\\\"0.9\\\",\\\"0.95\\\",\\\"1.0\\\",\\\"1.05\\\",\\\"1.1\\\",\\\"1.15\\\",\\\"1.2\\\",\\\"1.25\\\",\\\"1.3\\\",\\\"1.35\\\",\\\"1.4\\\",\\\"1.45\\\",\\\"1.5\\\",\\\"1.55\\\",\\\"1.6\\\",\\\"1.65\\\",\\\"1.7\\\",\\\"1.75\\\",\\\"1.8\\\",\\\"1.85\\\",\\\"1.9\\\",\\\"1.95\\\",\\\"2.0\\\",\\\"2.05\\\",\\\"2.1\\\",\\\"2.15\\\",\\\"2.2\\\",\\\"2.25\\\",\\\"2.3\\\",\\\"2.35\\\",\\\"2.4\\\",\\\"2.45\\\",\\\"2.5\\\",\\\"2.55\\\",\\\"2.6\\\",\\\"2.65\\\",\\\"2.7\\\",\\\"2.75\\\",\\\"2.8\\\",\\\"2.85\\\",\\\"2.9\\\",\\\"2.95\\\",\\\"3.0\\\",\\\"3.05\\\",\\\"3.1\\\",\\\"3.15\\\",\\\"3.2\\\",\\\"3.25\\\",\\\"3.3\\\",\\\"3.35\\\",\\\"3.4\\\",\\\"3.45\\\",\\\"3.5\\\",\\\"3.55\\\",\\\"3.6\\\",\\\"3.65\\\",\\\"3.7\\\",\\\"3.75\\\",\\\"3.8\\\",\\\"3.85\\\",\\\"3.9\\\",\\\"3.95\\\",\\\"4.0\\\",\\\"4.05\\\",\\\"4.1\\\",\\\"4.15\\\",\\\"4.2\\\",\\\"4.25\\\",\\\"4.3\\\",\\\"4.35\\\",\\\"4.4\\\",\\\"4.45\\\",\\\"4.5\\\",\\\"4.55\\\",\\\"4.6\\\",\\\"4.65\\\",\\\"4.7\\\",\\\"4.75\\\",\\\"4.8\\\",\\\"4.85\\\",\\\"4.9\\\",\\\"4.95\\\",\\\"5.0\\\"],\\\"changes\\\":WebIO.getval({\\\"name\\\":\\\"changes\\\",\\\"scope\\\":\\\"18112036964177623337\\\",\\\"id\\\":\\\"17428216749860293952\\\",\\\"type\\\":\\\"observable\\\"}),\\\"index\\\":WebIO.getval({\\\"name\\\":\\\"index\\\",\\\"scope\\\":\\\"18112036964177623337\\\",\\\"id\\\":\\\"4137255854947276647\\\",\\\"type\\\":\\\"observable\\\"})};\\n    var self = this;\\n    function AppViewModel() {\\n        for (var key in json_data) {\\n            var el = json_data[key];\\n            this[key] = Array.isArray(el) ? ko.observableArray(el) : ko.observable(el);\\n        }\\n        \\n        [this[\\\"formatted_val\\\"]=ko.computed(    function(){\\n        return this.formatted_vals()[parseInt(this.index())-(1)];\\n    }\\n,this)]\\n        [this[\\\"changes\\\"].subscribe((function (val){!(this.valueFromJulia[\\\"changes\\\"]) ? (WebIO.setval({\\\"name\\\":\\\"changes\\\",\\\"scope\\\":\\\"18112036964177623337\\\",\\\"id\\\":\\\"17428216749860293952\\\",\\\"type\\\":\\\"observable\\\"},val)) : undefined; return this.valueFromJulia[\\\"changes\\\"]=false}),self),this[\\\"index\\\"].subscribe((function (val){!(this.valueFromJulia[\\\"index\\\"]) ? (WebIO.setval({\\\"name\\\":\\\"index\\\",\\\"scope\\\":\\\"18112036964177623337\\\",\\\"id\\\":\\\"4137255854947276647\\\",\\\"type\\\":\\\"observable\\\"},val)) : undefined; return this.valueFromJulia[\\\"index\\\"]=false}),self)]\\n        \\n    }\\n    self.model = new AppViewModel();\\n    self.valueFromJulia = {};\\n    for (var key in json_data) {\\n        self.valueFromJulia[key] = false;\\n    }\\n    ko.applyBindings(self.model, self.dom);\\n}\\n);\\n    (WebIO.importBlock({\\\"data\\\":[{\\\"name\\\":\\\"knockout\\\",\\\"type\\\":\\\"js\\\",\\\"url\\\":\\\"\\/assetserver\\/727383f2a47bd31570b7da84eee7b022dd6d7c78-knockout.js\\\"},{\\\"name\\\":\\\"knockout_punches\\\",\\\"type\\\":\\\"js\\\",\\\"url\\\":\\\"\\/assetserver\\/382b41b3b1bd9f26f75861d360bad7f8beea211f-knockout_punches.js\\\"}],\\\"type\\\":\\\"async_block\\\"})).then((imports) => handler.apply(this, imports));\\n}\\n\"],\"observables\":{\"changes\":{\"sync\":false,\"id\":\"17428216749860293952\",\"value\":0},\"index\":{\"sync\":true,\"id\":\"4137255854947276647\",\"value\":50}}},\"children\":[{\"props\":{\"className\":\"interact-flex-row interact-widget\"},\"nodeType\":\"DOM\",\"type\":\"node\",\"instanceArgs\":{\"namespace\":\"html\",\"tag\":\"div\"},\"children\":[{\"props\":{\"className\":\"interact-flex-row-left\"},\"nodeType\":\"DOM\",\"type\":\"node\",\"instanceArgs\":{\"namespace\":\"html\",\"tag\":\"div\"},\"children\":[{\"props\":{\"className\":\"interact \",\"style\":{\"padding\":\"5px 10px 0px 10px\"}},\"nodeType\":\"DOM\",\"type\":\"node\",\"instanceArgs\":{\"namespace\":\"html\",\"tag\":\"label\"},\"children\":[\"temp\"]}]},{\"props\":{\"className\":\"interact-flex-row-center\"},\"nodeType\":\"DOM\",\"type\":\"node\",\"instanceArgs\":{\"namespace\":\"html\",\"tag\":\"div\"},\"children\":[{\"props\":{\"max\":100,\"min\":1,\"attributes\":{\"type\":\"range\",\"data-bind\":\"numericValue: index, valueUpdate: 'input', event: {change: function (){this.changes(this.changes()+1)}}\",\"orient\":\"horizontal\"},\"step\":1,\"className\":\"slider slider is-fullwidth\",\"style\":{}},\"nodeType\":\"DOM\",\"type\":\"node\",\"instanceArgs\":{\"namespace\":\"html\",\"tag\":\"input\"},\"children\":[]}]},{\"props\":{\"className\":\"interact-flex-row-right\"},\"nodeType\":\"DOM\",\"type\":\"node\",\"instanceArgs\":{\"namespace\":\"html\",\"tag\":\"div\"},\"children\":[{\"props\":{\"attributes\":{\"data-bind\":\"text: formatted_val\"}},\"nodeType\":\"DOM\",\"type\":\"node\",\"instanceArgs\":{\"namespace\":\"html\",\"tag\":\"p\"},\"children\":[]}]}]}]}]},{\"props\":{\"className\":\"field interact-widget\"},\"nodeType\":\"DOM\",\"type\":\"node\",\"instanceArgs\":{\"namespace\":\"html\",\"tag\":\"div\"},\"children\":[{\"props\":{},\"nodeType\":\"Scope\",\"type\":\"node\",\"instanceArgs\":{\"imports\":{\"data\":[{\"name\":\"knockout\",\"type\":\"js\",\"url\":\"\\/assetserver\\/727383f2a47bd31570b7da84eee7b022dd6d7c78-knockout.js\"},{\"name\":\"knockout_punches\",\"type\":\"js\",\"url\":\"\\/assetserver\\/382b41b3b1bd9f26f75861d360bad7f8beea211f-knockout_punches.js\"},{\"name\":null,\"type\":\"js\",\"url\":\"\\/assetserver\\/5ab20f1060420992a9b82a65b735dee4d81ef413-all.js\"},{\"name\":null,\"type\":\"css\",\"url\":\"\\/assetserver\\/1cc0ed62837210b80a182cc3676512f895dab686-style.css\"},{\"name\":null,\"type\":\"css\",\"url\":\"\\/assetserver\\/2eee816f616df3549d7044d45e744fbf8d42bfa1-bulma_confined.min.css\"}],\"type\":\"async_block\"},\"id\":\"3124713593037666460\",\"handlers\":{\"changes\":[\"(function (val){return (val!=this.model[\\\"changes\\\"]()) ? (this.valueFromJulia[\\\"changes\\\"]=true, this.model[\\\"changes\\\"](val)) : undefined})\"],\"index\":[\"(function (val){return (val!=this.model[\\\"index\\\"]()) ? (this.valueFromJulia[\\\"index\\\"]=true, this.model[\\\"index\\\"](val)) : undefined})\"]},\"systemjs_options\":null,\"mount_callbacks\":[\"function () {\\n    var handler = (function (ko, koPunches) {\\n    ko.punches.enableAll();\\n    ko.bindingHandlers.numericValue = {\\n        init: function(element, valueAccessor, allBindings, data, context) {\\n            var stringified = ko.observable(ko.unwrap(valueAccessor()));\\n            stringified.subscribe(function(value) {\\n                var val = parseFloat(value);\\n                if (!isNaN(val)) {\\n                    valueAccessor()(val);\\n                }\\n            });\\n            valueAccessor().subscribe(function(value) {\\n                var str = JSON.stringify(value);\\n                if ((str == \\\"0\\\") && ([\\\"-0\\\", \\\"-0.\\\"].indexOf(stringified()) >= 0))\\n                     return;\\n                 if ([\\\"null\\\", \\\"\\\"].indexOf(str) >= 0)\\n                     return;\\n                stringified(str);\\n            });\\n            ko.applyBindingsToNode(\\n                element,\\n                {\\n                    value: stringified,\\n                    valueUpdate: allBindings.get('valueUpdate'),\\n                },\\n                context,\\n            );\\n        }\\n    };\\n    var json_data = {\\\"formatted_vals\\\":[\\\"0.01\\\",\\\"0.11\\\",\\\"0.21\\\",\\\"0.31\\\",\\\"0.41\\\",\\\"0.51\\\",\\\"0.61\\\",\\\"0.71\\\",\\\"0.81\\\",\\\"0.91\\\",\\\"1.01\\\",\\\"1.11\\\",\\\"1.21\\\",\\\"1.31\\\",\\\"1.41\\\",\\\"1.51\\\",\\\"1.61\\\",\\\"1.71\\\",\\\"1.81\\\",\\\"1.91\\\",\\\"2.01\\\",\\\"2.11\\\",\\\"2.21\\\",\\\"2.31\\\",\\\"2.41\\\",\\\"2.51\\\",\\\"2.61\\\",\\\"2.71\\\",\\\"2.81\\\",\\\"2.91\\\",\\\"3.01\\\",\\\"3.11\\\",\\\"3.21\\\",\\\"3.31\\\",\\\"3.41\\\",\\\"3.51\\\",\\\"3.61\\\",\\\"3.71\\\",\\\"3.81\\\",\\\"3.91\\\",\\\"4.01\\\",\\\"4.11\\\",\\\"4.21\\\",\\\"4.31\\\",\\\"4.41\\\",\\\"4.51\\\",\\\"4.61\\\",\\\"4.71\\\",\\\"4.81\\\",\\\"4.91\\\"],\\\"changes\\\":WebIO.getval({\\\"name\\\":\\\"changes\\\",\\\"scope\\\":\\\"3124713593037666460\\\",\\\"id\\\":\\\"13038248926317711409\\\",\\\"type\\\":\\\"observable\\\"}),\\\"index\\\":WebIO.getval({\\\"name\\\":\\\"index\\\",\\\"scope\\\":\\\"3124713593037666460\\\",\\\"id\\\":\\\"11664400769438141152\\\",\\\"type\\\":\\\"observable\\\"})};\\n    var self = this;\\n    function AppViewModel() {\\n        for (var key in json_data) {\\n            var el = json_data[key];\\n            this[key] = Array.isArray(el) ? ko.observableArray(el) : ko.observable(el);\\n        }\\n        \\n        [this[\\\"formatted_val\\\"]=ko.computed(    function(){\\n        return this.formatted_vals()[parseInt(this.index())-(1)];\\n    }\\n,this)]\\n        [this[\\\"changes\\\"].subscribe((function (val){!(this.valueFromJulia[\\\"changes\\\"]) ? (WebIO.setval({\\\"name\\\":\\\"changes\\\",\\\"scope\\\":\\\"3124713593037666460\\\",\\\"id\\\":\\\"13038248926317711409\\\",\\\"type\\\":\\\"observable\\\"},val)) : undefined; return this.valueFromJulia[\\\"changes\\\"]=false}),self),this[\\\"index\\\"].subscribe((function (val){!(this.valueFromJulia[\\\"index\\\"]) ? (WebIO.setval({\\\"name\\\":\\\"index\\\",\\\"scope\\\":\\\"3124713593037666460\\\",\\\"id\\\":\\\"11664400769438141152\\\",\\\"type\\\":\\\"observable\\\"},val)) : undefined; return this.valueFromJulia[\\\"index\\\"]=false}),self)]\\n        \\n    }\\n    self.model = new AppViewModel();\\n    self.valueFromJulia = {};\\n    for (var key in json_data) {\\n        self.valueFromJulia[key] = false;\\n    }\\n    ko.applyBindings(self.model, self.dom);\\n}\\n);\\n    (WebIO.importBlock({\\\"data\\\":[{\\\"name\\\":\\\"knockout\\\",\\\"type\\\":\\\"js\\\",\\\"url\\\":\\\"\\/assetserver\\/727383f2a47bd31570b7da84eee7b022dd6d7c78-knockout.js\\\"},{\\\"name\\\":\\\"knockout_punches\\\",\\\"type\\\":\\\"js\\\",\\\"url\\\":\\\"\\/assetserver\\/382b41b3b1bd9f26f75861d360bad7f8beea211f-knockout_punches.js\\\"}],\\\"type\\\":\\\"async_block\\\"})).then((imports) => handler.apply(this, imports));\\n}\\n\"],\"observables\":{\"changes\":{\"sync\":false,\"id\":\"13038248926317711409\",\"value\":0},\"index\":{\"sync\":true,\"id\":\"11664400769438141152\",\"value\":25}}},\"children\":[{\"props\":{\"className\":\"interact-flex-row interact-widget\"},\"nodeType\":\"DOM\",\"type\":\"node\",\"instanceArgs\":{\"namespace\":\"html\",\"tag\":\"div\"},\"children\":[{\"props\":{\"className\":\"interact-flex-row-left\"},\"nodeType\":\"DOM\",\"type\":\"node\",\"instanceArgs\":{\"namespace\":\"html\",\"tag\":\"div\"},\"children\":[{\"props\":{\"className\":\"interact \",\"style\":{\"padding\":\"5px 10px 0px 10px\"}},\"nodeType\":\"DOM\",\"type\":\"node\",\"instanceArgs\":{\"namespace\":\"html\",\"tag\":\"label\"},\"children\":[\"coupl\"]}]},{\"props\":{\"className\":\"interact-flex-row-center\"},\"nodeType\":\"DOM\",\"type\":\"node\",\"instanceArgs\":{\"namespace\":\"html\",\"tag\":\"div\"},\"children\":[{\"props\":{\"max\":50,\"min\":1,\"attributes\":{\"type\":\"range\",\"data-bind\":\"numericValue: index, valueUpdate: 'input', event: {change: function (){this.changes(this.changes()+1)}}\",\"orient\":\"horizontal\"},\"step\":1,\"className\":\"slider slider is-fullwidth\",\"style\":{}},\"nodeType\":\"DOM\",\"type\":\"node\",\"instanceArgs\":{\"namespace\":\"html\",\"tag\":\"input\"},\"children\":[]}]},{\"props\":{\"className\":\"interact-flex-row-right\"},\"nodeType\":\"DOM\",\"type\":\"node\",\"instanceArgs\":{\"namespace\":\"html\",\"tag\":\"div\"},\"children\":[{\"props\":{\"attributes\":{\"data-bind\":\"text: formatted_val\"}},\"nodeType\":\"DOM\",\"type\":\"node\",\"instanceArgs\":{\"namespace\":\"html\",\"tag\":\"p\"},\"children\":[]}]}]}]}]}]},{\"props\":{\"style\":{\"display\":\"flex\",\"flex-direction\":\"row\"}},\"nodeType\":\"DOM\",\"type\":\"node\",\"instanceArgs\":{\"namespace\":\"html\",\"tag\":\"div\"},\"children\":[{\"props\":{\"className\":\"interact-widget\"},\"nodeType\":\"DOM\",\"type\":\"node\",\"instanceArgs\":{\"namespace\":\"html\",\"tag\":\"div\"},\"children\":[{\"props\":{},\"nodeType\":\"Scope\",\"type\":\"node\",\"instanceArgs\":{\"imports\":{\"data\":[{\"name\":null,\"type\":\"js\",\"url\":\"\\/assetserver\\/dd22ed1bf1896c2748f3fe616ce0b838adc895c1-katex.min.js\"},{\"name\":null,\"type\":\"css\",\"url\":\"\\/assetserver\\/46517a424aa5e6cffc1360d7e0848b601c584ee3-katex.min.css\"}],\"type\":\"async_block\"},\"id\":\"13952764259330237642\",\"handlers\":{\"value\":[\"(function (txt){return this.k.render(txt,this.container)})\"]},\"systemjs_options\":null,\"mount_callbacks\":[\"function () {\\n    var handler = ((function (k){this.k=k; this.container=this.dom.querySelector(\\\"#container\\\"); return k.render(\\\"\\\\\\\\;\\\\\\\\;\\\",this.container)}));\\n    (WebIO.importBlock({\\\"data\\\":[{\\\"name\\\":null,\\\"type\\\":\\\"js\\\",\\\"url\\\":\\\"\\/assetserver\\/dd22ed1bf1896c2748f3fe616ce0b838adc895c1-katex.min.js\\\"},{\\\"name\\\":null,\\\"type\\\":\\\"css\\\",\\\"url\\\":\\\"\\/assetserver\\/46517a424aa5e6cffc1360d7e0848b601c584ee3-katex.min.css\\\"}],\\\"type\\\":\\\"async_block\\\"})).then((imports) => handler.apply(this, imports));\\n}\\n\"],\"observables\":{\"value\":{\"sync\":false,\"id\":\"12406549233469348929\",\"value\":\"\\\\;\\\\;\"}}},\"children\":[{\"props\":{\"id\":\"container\"},\"nodeType\":\"DOM\",\"type\":\"node\",\"instanceArgs\":{\"namespace\":\"html\",\"tag\":\"div\"},\"children\":[]}]}]},{\"props\":{\"className\":\"field interact-widget\"},\"nodeType\":\"DOM\",\"type\":\"node\",\"instanceArgs\":{\"namespace\":\"html\",\"tag\":\"div\"},\"children\":[{\"props\":{},\"nodeType\":\"Scope\",\"type\":\"node\",\"instanceArgs\":{\"imports\":{\"data\":[{\"name\":\"knockout\",\"type\":\"js\",\"url\":\"\\/assetserver\\/727383f2a47bd31570b7da84eee7b022dd6d7c78-knockout.js\"},{\"name\":\"knockout_punches\",\"type\":\"js\",\"url\":\"\\/assetserver\\/382b41b3b1bd9f26f75861d360bad7f8beea211f-knockout_punches.js\"},{\"name\":null,\"type\":\"js\",\"url\":\"\\/assetserver\\/5ab20f1060420992a9b82a65b735dee4d81ef413-all.js\"},{\"name\":null,\"type\":\"css\",\"url\":\"\\/assetserver\\/1cc0ed62837210b80a182cc3676512f895dab686-style.css\"},{\"name\":null,\"type\":\"css\",\"url\":\"\\/assetserver\\/2eee816f616df3549d7044d45e744fbf8d42bfa1-bulma_confined.min.css\"}],\"type\":\"async_block\"},\"id\":\"9074824984737844201\",\"handlers\":{\"loading\":[\"(function (val){return (val!=this.model[\\\"loading\\\"]()) ? (this.valueFromJulia[\\\"loading\\\"]=true, this.model[\\\"loading\\\"](val)) : undefined})\"],\"clicks\":[\"(function (val){return (val!=this.model[\\\"clicks\\\"]()) ? (this.valueFromJulia[\\\"clicks\\\"]=true, this.model[\\\"clicks\\\"](val)) : undefined})\"]},\"systemjs_options\":null,\"mount_callbacks\":[\"function () {\\n    var handler = (function (ko, koPunches) {\\n    ko.punches.enableAll();\\n    ko.bindingHandlers.numericValue = {\\n        init: function(element, valueAccessor, allBindings, data, context) {\\n            var stringified = ko.observable(ko.unwrap(valueAccessor()));\\n            stringified.subscribe(function(value) {\\n                var val = parseFloat(value);\\n                if (!isNaN(val)) {\\n                    valueAccessor()(val);\\n                }\\n            });\\n            valueAccessor().subscribe(function(value) {\\n                var str = JSON.stringify(value);\\n                if ((str == \\\"0\\\") && ([\\\"-0\\\", \\\"-0.\\\"].indexOf(stringified()) >= 0))\\n                     return;\\n                 if ([\\\"null\\\", \\\"\\\"].indexOf(str) >= 0)\\n                     return;\\n                stringified(str);\\n            });\\n            ko.applyBindingsToNode(\\n                element,\\n                {\\n                    value: stringified,\\n                    valueUpdate: allBindings.get('valueUpdate'),\\n                },\\n                context,\\n            );\\n        }\\n    };\\n    var json_data = {\\\"loading\\\":WebIO.getval({\\\"name\\\":\\\"loading\\\",\\\"scope\\\":\\\"9074824984737844201\\\",\\\"id\\\":\\\"9606634648758145019\\\",\\\"type\\\":\\\"observable\\\"}),\\\"clicks\\\":WebIO.getval({\\\"name\\\":\\\"clicks\\\",\\\"scope\\\":\\\"9074824984737844201\\\",\\\"id\\\":\\\"10839453678824350616\\\",\\\"type\\\":\\\"observable\\\"})};\\n    var self = this;\\n    function AppViewModel() {\\n        for (var key in json_data) {\\n            var el = json_data[key];\\n            this[key] = Array.isArray(el) ? ko.observableArray(el) : ko.observable(el);\\n        }\\n        \\n        \\n        [this[\\\"loading\\\"].subscribe((function (val){!(this.valueFromJulia[\\\"loading\\\"]) ? (WebIO.setval({\\\"name\\\":\\\"loading\\\",\\\"scope\\\":\\\"9074824984737844201\\\",\\\"id\\\":\\\"9606634648758145019\\\",\\\"type\\\":\\\"observable\\\"},val)) : undefined; return this.valueFromJulia[\\\"loading\\\"]=false}),self),this[\\\"clicks\\\"].subscribe((function (val){!(this.valueFromJulia[\\\"clicks\\\"]) ? (WebIO.setval({\\\"name\\\":\\\"clicks\\\",\\\"scope\\\":\\\"9074824984737844201\\\",\\\"id\\\":\\\"10839453678824350616\\\",\\\"type\\\":\\\"observable\\\"},val)) : undefined; return this.valueFromJulia[\\\"clicks\\\"]=false}),self)]\\n        \\n    }\\n    self.model = new AppViewModel();\\n    self.valueFromJulia = {};\\n    for (var key in json_data) {\\n        self.valueFromJulia[key] = false;\\n    }\\n    ko.applyBindings(self.model, self.dom);\\n}\\n);\\n    (WebIO.importBlock({\\\"data\\\":[{\\\"name\\\":\\\"knockout\\\",\\\"type\\\":\\\"js\\\",\\\"url\\\":\\\"\\/assetserver\\/727383f2a47bd31570b7da84eee7b022dd6d7c78-knockout.js\\\"},{\\\"name\\\":\\\"knockout_punches\\\",\\\"type\\\":\\\"js\\\",\\\"url\\\":\\\"\\/assetserver\\/382b41b3b1bd9f26f75861d360bad7f8beea211f-knockout_punches.js\\\"}],\\\"type\\\":\\\"async_block\\\"})).then((imports) => handler.apply(this, imports));\\n}\\n\"],\"observables\":{\"loading\":{\"sync\":false,\"id\":\"9606634648758145019\",\"value\":false},\"clicks\":{\"sync\":true,\"id\":\"10839453678824350616\",\"value\":0}}},\"children\":[{\"props\":{\"attributes\":{\"data-bind\":\"click: function (){this.clicks(this.clicks()+1)}, css: {'is-loading' : loading}\"},\"className\":\"is-medium button is-primary\",\"style\":{}},\"nodeType\":\"DOM\",\"type\":\"node\",\"instanceArgs\":{\"namespace\":\"html\",\"tag\":\"button\"},\"children\":[\"run\"]}]}]},{\"props\":{\"className\":\"interact-widget\"},\"nodeType\":\"DOM\",\"type\":\"node\",\"instanceArgs\":{\"namespace\":\"html\",\"tag\":\"div\"},\"children\":[{\"props\":{},\"nodeType\":\"Scope\",\"type\":\"node\",\"instanceArgs\":{\"imports\":{\"data\":[{\"name\":null,\"type\":\"js\",\"url\":\"\\/assetserver\\/dd22ed1bf1896c2748f3fe616ce0b838adc895c1-katex.min.js\"},{\"name\":null,\"type\":\"css\",\"url\":\"\\/assetserver\\/46517a424aa5e6cffc1360d7e0848b601c584ee3-katex.min.css\"}],\"type\":\"async_block\"},\"id\":\"13952764259330237642\",\"handlers\":{\"value\":[\"(function (txt){return this.k.render(txt,this.container)})\"]},\"systemjs_options\":null,\"mount_callbacks\":[\"function () {\\n    var handler = ((function (k){this.k=k; this.container=this.dom.querySelector(\\\"#container\\\"); return k.render(\\\"\\\\\\\\;\\\\\\\\;\\\",this.container)}));\\n    (WebIO.importBlock({\\\"data\\\":[{\\\"name\\\":null,\\\"type\\\":\\\"js\\\",\\\"url\\\":\\\"\\/assetserver\\/dd22ed1bf1896c2748f3fe616ce0b838adc895c1-katex.min.js\\\"},{\\\"name\\\":null,\\\"type\\\":\\\"css\\\",\\\"url\\\":\\\"\\/assetserver\\/46517a424aa5e6cffc1360d7e0848b601c584ee3-katex.min.css\\\"}],\\\"type\\\":\\\"async_block\\\"})).then((imports) => handler.apply(this, imports));\\n}\\n\"],\"observables\":{\"value\":{\"sync\":false,\"id\":\"12406549233469348929\",\"value\":\"\\\\;\\\\;\"}}},\"children\":[{\"props\":{\"id\":\"container\"},\"nodeType\":\"DOM\",\"type\":\"node\",\"instanceArgs\":{\"namespace\":\"html\",\"tag\":\"div\"},\"children\":[]}]}]},{\"props\":{\"className\":\"field interact-widget\"},\"nodeType\":\"DOM\",\"type\":\"node\",\"instanceArgs\":{\"namespace\":\"html\",\"tag\":\"div\"},\"children\":[{\"props\":{},\"nodeType\":\"Scope\",\"type\":\"node\",\"instanceArgs\":{\"imports\":{\"data\":[{\"name\":\"knockout\",\"type\":\"js\",\"url\":\"\\/assetserver\\/727383f2a47bd31570b7da84eee7b022dd6d7c78-knockout.js\"},{\"name\":\"knockout_punches\",\"type\":\"js\",\"url\":\"\\/assetserver\\/382b41b3b1bd9f26f75861d360bad7f8beea211f-knockout_punches.js\"},{\"name\":null,\"type\":\"js\",\"url\":\"\\/assetserver\\/5ab20f1060420992a9b82a65b735dee4d81ef413-all.js\"},{\"name\":null,\"type\":\"css\",\"url\":\"\\/assetserver\\/1cc0ed62837210b80a182cc3676512f895dab686-style.css\"},{\"name\":null,\"type\":\"css\",\"url\":\"\\/assetserver\\/2eee816f616df3549d7044d45e744fbf8d42bfa1-bulma_confined.min.css\"}],\"type\":\"async_block\"},\"id\":\"3695857661411532394\",\"handlers\":{\"loading\":[\"(function (val){return (val!=this.model[\\\"loading\\\"]()) ? (this.valueFromJulia[\\\"loading\\\"]=true, this.model[\\\"loading\\\"](val)) : undefined})\"],\"clicks\":[\"(function (val){return (val!=this.model[\\\"clicks\\\"]()) ? (this.valueFromJulia[\\\"clicks\\\"]=true, this.model[\\\"clicks\\\"](val)) : undefined})\"]},\"systemjs_options\":null,\"mount_callbacks\":[\"function () {\\n    var handler = (function (ko, koPunches) {\\n    ko.punches.enableAll();\\n    ko.bindingHandlers.numericValue = {\\n        init: function(element, valueAccessor, allBindings, data, context) {\\n            var stringified = ko.observable(ko.unwrap(valueAccessor()));\\n            stringified.subscribe(function(value) {\\n                var val = parseFloat(value);\\n                if (!isNaN(val)) {\\n                    valueAccessor()(val);\\n                }\\n            });\\n            valueAccessor().subscribe(function(value) {\\n                var str = JSON.stringify(value);\\n                if ((str == \\\"0\\\") && ([\\\"-0\\\", \\\"-0.\\\"].indexOf(stringified()) >= 0))\\n                     return;\\n                 if ([\\\"null\\\", \\\"\\\"].indexOf(str) >= 0)\\n                     return;\\n                stringified(str);\\n            });\\n            ko.applyBindingsToNode(\\n                element,\\n                {\\n                    value: stringified,\\n                    valueUpdate: allBindings.get('valueUpdate'),\\n                },\\n                context,\\n            );\\n        }\\n    };\\n    var json_data = {\\\"loading\\\":WebIO.getval({\\\"name\\\":\\\"loading\\\",\\\"scope\\\":\\\"3695857661411532394\\\",\\\"id\\\":\\\"6513945076055131880\\\",\\\"type\\\":\\\"observable\\\"}),\\\"clicks\\\":WebIO.getval({\\\"name\\\":\\\"clicks\\\",\\\"scope\\\":\\\"3695857661411532394\\\",\\\"id\\\":\\\"18308020176429693320\\\",\\\"type\\\":\\\"observable\\\"})};\\n    var self = this;\\n    function AppViewModel() {\\n        for (var key in json_data) {\\n            var el = json_data[key];\\n            this[key] = Array.isArray(el) ? ko.observableArray(el) : ko.observable(el);\\n        }\\n        \\n        \\n        [this[\\\"loading\\\"].subscribe((function (val){!(this.valueFromJulia[\\\"loading\\\"]) ? (WebIO.setval({\\\"name\\\":\\\"loading\\\",\\\"scope\\\":\\\"3695857661411532394\\\",\\\"id\\\":\\\"6513945076055131880\\\",\\\"type\\\":\\\"observable\\\"},val)) : undefined; return this.valueFromJulia[\\\"loading\\\"]=false}),self),this[\\\"clicks\\\"].subscribe((function (val){!(this.valueFromJulia[\\\"clicks\\\"]) ? (WebIO.setval({\\\"name\\\":\\\"clicks\\\",\\\"scope\\\":\\\"3695857661411532394\\\",\\\"id\\\":\\\"18308020176429693320\\\",\\\"type\\\":\\\"observable\\\"},val)) : undefined; return this.valueFromJulia[\\\"clicks\\\"]=false}),self)]\\n        \\n    }\\n    self.model = new AppViewModel();\\n    self.valueFromJulia = {};\\n    for (var key in json_data) {\\n        self.valueFromJulia[key] = false;\\n    }\\n    ko.applyBindings(self.model, self.dom);\\n}\\n);\\n    (WebIO.importBlock({\\\"data\\\":[{\\\"name\\\":\\\"knockout\\\",\\\"type\\\":\\\"js\\\",\\\"url\\\":\\\"\\/assetserver\\/727383f2a47bd31570b7da84eee7b022dd6d7c78-knockout.js\\\"},{\\\"name\\\":\\\"knockout_punches\\\",\\\"type\\\":\\\"js\\\",\\\"url\\\":\\\"\\/assetserver\\/382b41b3b1bd9f26f75861d360bad7f8beea211f-knockout_punches.js\\\"}],\\\"type\\\":\\\"async_block\\\"})).then((imports) => handler.apply(this, imports));\\n}\\n\"],\"observables\":{\"loading\":{\"sync\":false,\"id\":\"6513945076055131880\",\"value\":false},\"clicks\":{\"sync\":true,\"id\":\"18308020176429693320\",\"value\":0}}},\"children\":[{\"props\":{\"attributes\":{\"data-bind\":\"click: function (){this.clicks(this.clicks()+1)}, css: {'is-loading' : loading}\"},\"className\":\"is-medium button is-primary\",\"style\":{}},\"nodeType\":\"DOM\",\"type\":\"node\",\"instanceArgs\":{\"namespace\":\"html\",\"tag\":\"button\"},\"children\":[\"stop\"]}]}]},{\"props\":{\"className\":\"interact-widget\"},\"nodeType\":\"DOM\",\"type\":\"node\",\"instanceArgs\":{\"namespace\":\"html\",\"tag\":\"div\"},\"children\":[{\"props\":{},\"nodeType\":\"Scope\",\"type\":\"node\",\"instanceArgs\":{\"imports\":{\"data\":[{\"name\":null,\"type\":\"js\",\"url\":\"\\/assetserver\\/dd22ed1bf1896c2748f3fe616ce0b838adc895c1-katex.min.js\"},{\"name\":null,\"type\":\"css\",\"url\":\"\\/assetserver\\/46517a424aa5e6cffc1360d7e0848b601c584ee3-katex.min.css\"}],\"type\":\"async_block\"},\"id\":\"13952764259330237642\",\"handlers\":{\"value\":[\"(function (txt){return this.k.render(txt,this.container)})\"]},\"systemjs_options\":null,\"mount_callbacks\":[\"function () {\\n    var handler = ((function (k){this.k=k; this.container=this.dom.querySelector(\\\"#container\\\"); return k.render(\\\"\\\\\\\\;\\\\\\\\;\\\",this.container)}));\\n    (WebIO.importBlock({\\\"data\\\":[{\\\"name\\\":null,\\\"type\\\":\\\"js\\\",\\\"url\\\":\\\"\\/assetserver\\/dd22ed1bf1896c2748f3fe616ce0b838adc895c1-katex.min.js\\\"},{\\\"name\\\":null,\\\"type\\\":\\\"css\\\",\\\"url\\\":\\\"\\/assetserver\\/46517a424aa5e6cffc1360d7e0848b601c584ee3-katex.min.css\\\"}],\\\"type\\\":\\\"async_block\\\"})).then((imports) => handler.apply(this, imports));\\n}\\n\"],\"observables\":{\"value\":{\"sync\":false,\"id\":\"12406549233469348929\",\"value\":\"\\\\;\\\\;\"}}},\"children\":[{\"props\":{\"id\":\"container\"},\"nodeType\":\"DOM\",\"type\":\"node\",\"instanceArgs\":{\"namespace\":\"html\",\"tag\":\"div\"},\"children\":[]}]}]},{\"props\":{\"className\":\"field interact-widget\"},\"nodeType\":\"DOM\",\"type\":\"node\",\"instanceArgs\":{\"namespace\":\"html\",\"tag\":\"div\"},\"children\":[{\"props\":{},\"nodeType\":\"Scope\",\"type\":\"node\",\"instanceArgs\":{\"imports\":{\"data\":[{\"name\":\"knockout\",\"type\":\"js\",\"url\":\"\\/assetserver\\/727383f2a47bd31570b7da84eee7b022dd6d7c78-knockout.js\"},{\"name\":\"knockout_punches\",\"type\":\"js\",\"url\":\"\\/assetserver\\/382b41b3b1bd9f26f75861d360bad7f8beea211f-knockout_punches.js\"},{\"name\":null,\"type\":\"js\",\"url\":\"\\/assetserver\\/5ab20f1060420992a9b82a65b735dee4d81ef413-all.js\"},{\"name\":null,\"type\":\"css\",\"url\":\"\\/assetserver\\/1cc0ed62837210b80a182cc3676512f895dab686-style.css\"},{\"name\":null,\"type\":\"css\",\"url\":\"\\/assetserver\\/2eee816f616df3549d7044d45e744fbf8d42bfa1-bulma_confined.min.css\"}],\"type\":\"async_block\"},\"id\":\"12107080336736550027\",\"handlers\":{\"loading\":[\"(function (val){return (val!=this.model[\\\"loading\\\"]()) ? (this.valueFromJulia[\\\"loading\\\"]=true, this.model[\\\"loading\\\"](val)) : undefined})\"],\"clicks\":[\"(function (val){return (val!=this.model[\\\"clicks\\\"]()) ? (this.valueFromJulia[\\\"clicks\\\"]=true, this.model[\\\"clicks\\\"](val)) : undefined})\"]},\"systemjs_options\":null,\"mount_callbacks\":[\"function () {\\n    var handler = (function (ko, koPunches) {\\n    ko.punches.enableAll();\\n    ko.bindingHandlers.numericValue = {\\n        init: function(element, valueAccessor, allBindings, data, context) {\\n            var stringified = ko.observable(ko.unwrap(valueAccessor()));\\n            stringified.subscribe(function(value) {\\n                var val = parseFloat(value);\\n                if (!isNaN(val)) {\\n                    valueAccessor()(val);\\n                }\\n            });\\n            valueAccessor().subscribe(function(value) {\\n                var str = JSON.stringify(value);\\n                if ((str == \\\"0\\\") && ([\\\"-0\\\", \\\"-0.\\\"].indexOf(stringified()) >= 0))\\n                     return;\\n                 if ([\\\"null\\\", \\\"\\\"].indexOf(str) >= 0)\\n                     return;\\n                stringified(str);\\n            });\\n            ko.applyBindingsToNode(\\n                element,\\n                {\\n                    value: stringified,\\n                    valueUpdate: allBindings.get('valueUpdate'),\\n                },\\n                context,\\n            );\\n        }\\n    };\\n    var json_data = {\\\"loading\\\":WebIO.getval({\\\"name\\\":\\\"loading\\\",\\\"scope\\\":\\\"12107080336736550027\\\",\\\"id\\\":\\\"18340448997831719234\\\",\\\"type\\\":\\\"observable\\\"}),\\\"clicks\\\":WebIO.getval({\\\"name\\\":\\\"clicks\\\",\\\"scope\\\":\\\"12107080336736550027\\\",\\\"id\\\":\\\"443506785227844637\\\",\\\"type\\\":\\\"observable\\\"})};\\n    var self = this;\\n    function AppViewModel() {\\n        for (var key in json_data) {\\n            var el = json_data[key];\\n            this[key] = Array.isArray(el) ? ko.observableArray(el) : ko.observable(el);\\n        }\\n        \\n        \\n        [this[\\\"loading\\\"].subscribe((function (val){!(this.valueFromJulia[\\\"loading\\\"]) ? (WebIO.setval({\\\"name\\\":\\\"loading\\\",\\\"scope\\\":\\\"12107080336736550027\\\",\\\"id\\\":\\\"18340448997831719234\\\",\\\"type\\\":\\\"observable\\\"},val)) : undefined; return this.valueFromJulia[\\\"loading\\\"]=false}),self),this[\\\"clicks\\\"].subscribe((function (val){!(this.valueFromJulia[\\\"clicks\\\"]) ? (WebIO.setval({\\\"name\\\":\\\"clicks\\\",\\\"scope\\\":\\\"12107080336736550027\\\",\\\"id\\\":\\\"443506785227844637\\\",\\\"type\\\":\\\"observable\\\"},val)) : undefined; return this.valueFromJulia[\\\"clicks\\\"]=false}),self)]\\n        \\n    }\\n    self.model = new AppViewModel();\\n    self.valueFromJulia = {};\\n    for (var key in json_data) {\\n        self.valueFromJulia[key] = false;\\n    }\\n    ko.applyBindings(self.model, self.dom);\\n}\\n);\\n    (WebIO.importBlock({\\\"data\\\":[{\\\"name\\\":\\\"knockout\\\",\\\"type\\\":\\\"js\\\",\\\"url\\\":\\\"\\/assetserver\\/727383f2a47bd31570b7da84eee7b022dd6d7c78-knockout.js\\\"},{\\\"name\\\":\\\"knockout_punches\\\",\\\"type\\\":\\\"js\\\",\\\"url\\\":\\\"\\/assetserver\\/382b41b3b1bd9f26f75861d360bad7f8beea211f-knockout_punches.js\\\"}],\\\"type\\\":\\\"async_block\\\"})).then((imports) => handler.apply(this, imports));\\n}\\n\"],\"observables\":{\"loading\":{\"sync\":false,\"id\":\"18340448997831719234\",\"value\":false},\"clicks\":{\"sync\":true,\"id\":\"443506785227844637\",\"value\":0}}},\"children\":[{\"props\":{\"attributes\":{\"data-bind\":\"click: function (){this.clicks(this.clicks()+1)}, css: {'is-loading' : loading}\"},\"className\":\"is-medium button is-primary\",\"style\":{}},\"nodeType\":\"DOM\",\"type\":\"node\",\"instanceArgs\":{\"namespace\":\"html\",\"tag\":\"button\"},\"children\":[\"reset\"]}]}]},{\"props\":{\"className\":\"interact-widget\"},\"nodeType\":\"DOM\",\"type\":\"node\",\"instanceArgs\":{\"namespace\":\"html\",\"tag\":\"div\"},\"children\":[{\"props\":{},\"nodeType\":\"Scope\",\"type\":\"node\",\"instanceArgs\":{\"imports\":{\"data\":[{\"name\":null,\"type\":\"js\",\"url\":\"\\/assetserver\\/dd22ed1bf1896c2748f3fe616ce0b838adc895c1-katex.min.js\"},{\"name\":null,\"type\":\"css\",\"url\":\"\\/assetserver\\/46517a424aa5e6cffc1360d7e0848b601c584ee3-katex.min.css\"}],\"type\":\"async_block\"},\"id\":\"13952764259330237642\",\"handlers\":{\"value\":[\"(function (txt){return this.k.render(txt,this.container)})\"]},\"systemjs_options\":null,\"mount_callbacks\":[\"function () {\\n    var handler = ((function (k){this.k=k; this.container=this.dom.querySelector(\\\"#container\\\"); return k.render(\\\"\\\\\\\\;\\\\\\\\;\\\",this.container)}));\\n    (WebIO.importBlock({\\\"data\\\":[{\\\"name\\\":null,\\\"type\\\":\\\"js\\\",\\\"url\\\":\\\"\\/assetserver\\/dd22ed1bf1896c2748f3fe616ce0b838adc895c1-katex.min.js\\\"},{\\\"name\\\":null,\\\"type\\\":\\\"css\\\",\\\"url\\\":\\\"\\/assetserver\\/46517a424aa5e6cffc1360d7e0848b601c584ee3-katex.min.css\\\"}],\\\"type\\\":\\\"async_block\\\"})).then((imports) => handler.apply(this, imports));\\n}\\n\"],\"observables\":{\"value\":{\"sync\":false,\"id\":\"12406549233469348929\",\"value\":\"\\\\;\\\\;\"}}},\"children\":[{\"props\":{\"id\":\"container\"},\"nodeType\":\"DOM\",\"type\":\"node\",\"instanceArgs\":{\"namespace\":\"html\",\"tag\":\"div\"},\"children\":[]}]}]},{\"props\":{\"className\":\"field interact-widget\"},\"nodeType\":\"DOM\",\"type\":\"node\",\"instanceArgs\":{\"namespace\":\"html\",\"tag\":\"div\"},\"children\":[{\"props\":{},\"nodeType\":\"Scope\",\"type\":\"node\",\"instanceArgs\":{\"imports\":{\"data\":[{\"name\":\"knockout\",\"type\":\"js\",\"url\":\"\\/assetserver\\/727383f2a47bd31570b7da84eee7b022dd6d7c78-knockout.js\"},{\"name\":\"knockout_punches\",\"type\":\"js\",\"url\":\"\\/assetserver\\/382b41b3b1bd9f26f75861d360bad7f8beea211f-knockout_punches.js\"},{\"name\":null,\"type\":\"js\",\"url\":\"\\/assetserver\\/5ab20f1060420992a9b82a65b735dee4d81ef413-all.js\"},{\"name\":null,\"type\":\"css\",\"url\":\"\\/assetserver\\/1cc0ed62837210b80a182cc3676512f895dab686-style.css\"},{\"name\":null,\"type\":\"css\",\"url\":\"\\/assetserver\\/2eee816f616df3549d7044d45e744fbf8d42bfa1-bulma_confined.min.css\"}],\"type\":\"async_block\"},\"id\":\"13174014131277298923\",\"handlers\":{\"loading\":[\"(function (val){return (val!=this.model[\\\"loading\\\"]()) ? (this.valueFromJulia[\\\"loading\\\"]=true, this.model[\\\"loading\\\"](val)) : undefined})\"],\"clicks\":[\"(function (val){return (val!=this.model[\\\"clicks\\\"]()) ? (this.valueFromJulia[\\\"clicks\\\"]=true, this.model[\\\"clicks\\\"](val)) : undefined})\"]},\"systemjs_options\":null,\"mount_callbacks\":[\"function () {\\n    var handler = (function (ko, koPunches) {\\n    ko.punches.enableAll();\\n    ko.bindingHandlers.numericValue = {\\n        init: function(element, valueAccessor, allBindings, data, context) {\\n            var stringified = ko.observable(ko.unwrap(valueAccessor()));\\n            stringified.subscribe(function(value) {\\n                var val = parseFloat(value);\\n                if (!isNaN(val)) {\\n                    valueAccessor()(val);\\n                }\\n            });\\n            valueAccessor().subscribe(function(value) {\\n                var str = JSON.stringify(value);\\n                if ((str == \\\"0\\\") && ([\\\"-0\\\", \\\"-0.\\\"].indexOf(stringified()) >= 0))\\n                     return;\\n                 if ([\\\"null\\\", \\\"\\\"].indexOf(str) >= 0)\\n                     return;\\n                stringified(str);\\n            });\\n            ko.applyBindingsToNode(\\n                element,\\n                {\\n                    value: stringified,\\n                    valueUpdate: allBindings.get('valueUpdate'),\\n                },\\n                context,\\n            );\\n        }\\n    };\\n    var json_data = {\\\"loading\\\":WebIO.getval({\\\"name\\\":\\\"loading\\\",\\\"scope\\\":\\\"13174014131277298923\\\",\\\"id\\\":\\\"11988767653484166432\\\",\\\"type\\\":\\\"observable\\\"}),\\\"clicks\\\":WebIO.getval({\\\"name\\\":\\\"clicks\\\",\\\"scope\\\":\\\"13174014131277298923\\\",\\\"id\\\":\\\"5155658597778759627\\\",\\\"type\\\":\\\"observable\\\"})};\\n    var self = this;\\n    function AppViewModel() {\\n        for (var key in json_data) {\\n            var el = json_data[key];\\n            this[key] = Array.isArray(el) ? ko.observableArray(el) : ko.observable(el);\\n        }\\n        \\n        \\n        [this[\\\"loading\\\"].subscribe((function (val){!(this.valueFromJulia[\\\"loading\\\"]) ? (WebIO.setval({\\\"name\\\":\\\"loading\\\",\\\"scope\\\":\\\"13174014131277298923\\\",\\\"id\\\":\\\"11988767653484166432\\\",\\\"type\\\":\\\"observable\\\"},val)) : undefined; return this.valueFromJulia[\\\"loading\\\"]=false}),self),this[\\\"clicks\\\"].subscribe((function (val){!(this.valueFromJulia[\\\"clicks\\\"]) ? (WebIO.setval({\\\"name\\\":\\\"clicks\\\",\\\"scope\\\":\\\"13174014131277298923\\\",\\\"id\\\":\\\"5155658597778759627\\\",\\\"type\\\":\\\"observable\\\"},val)) : undefined; return this.valueFromJulia[\\\"clicks\\\"]=false}),self)]\\n        \\n    }\\n    self.model = new AppViewModel();\\n    self.valueFromJulia = {};\\n    for (var key in json_data) {\\n        self.valueFromJulia[key] = false;\\n    }\\n    ko.applyBindings(self.model, self.dom);\\n}\\n);\\n    (WebIO.importBlock({\\\"data\\\":[{\\\"name\\\":\\\"knockout\\\",\\\"type\\\":\\\"js\\\",\\\"url\\\":\\\"\\/assetserver\\/727383f2a47bd31570b7da84eee7b022dd6d7c78-knockout.js\\\"},{\\\"name\\\":\\\"knockout_punches\\\",\\\"type\\\":\\\"js\\\",\\\"url\\\":\\\"\\/assetserver\\/382b41b3b1bd9f26f75861d360bad7f8beea211f-knockout_punches.js\\\"}],\\\"type\\\":\\\"async_block\\\"})).then((imports) => handler.apply(this, imports));\\n}\\n\"],\"observables\":{\"loading\":{\"sync\":false,\"id\":\"11988767653484166432\",\"value\":false},\"clicks\":{\"sync\":true,\"id\":\"5155658597778759627\",\"value\":0}}},\"children\":[{\"props\":{\"attributes\":{\"data-bind\":\"click: function (){this.clicks(this.clicks()+1)}, css: {'is-loading' : loading}\"},\"className\":\"is-medium button is-primary\",\"style\":{}},\"nodeType\":\"DOM\",\"type\":\"node\",\"instanceArgs\":{\"namespace\":\"html\",\"tag\":\"button\"},\"children\":[\"save\"]}]}]}]}]},{\"props\":{\"className\":\"interact-widget\"},\"nodeType\":\"DOM\",\"type\":\"node\",\"instanceArgs\":{\"namespace\":\"html\",\"tag\":\"div\"},\"children\":[{\"props\":{},\"nodeType\":\"Scope\",\"type\":\"node\",\"instanceArgs\":{\"imports\":{\"data\":[{\"name\":null,\"type\":\"js\",\"url\":\"\\/assetserver\\/dd22ed1bf1896c2748f3fe616ce0b838adc895c1-katex.min.js\"},{\"name\":null,\"type\":\"css\",\"url\":\"\\/assetserver\\/46517a424aa5e6cffc1360d7e0848b601c584ee3-katex.min.css\"}],\"type\":\"async_block\"},\"id\":\"13952764259330237642\",\"handlers\":{\"value\":[\"(function (txt){return this.k.render(txt,this.container)})\"]},\"systemjs_options\":null,\"mount_callbacks\":[\"function () {\\n    var handler = ((function (k){this.k=k; this.container=this.dom.querySelector(\\\"#container\\\"); return k.render(\\\"\\\\\\\\;\\\\\\\\;\\\",this.container)}));\\n    (WebIO.importBlock({\\\"data\\\":[{\\\"name\\\":null,\\\"type\\\":\\\"js\\\",\\\"url\\\":\\\"\\/assetserver\\/dd22ed1bf1896c2748f3fe616ce0b838adc895c1-katex.min.js\\\"},{\\\"name\\\":null,\\\"type\\\":\\\"css\\\",\\\"url\\\":\\\"\\/assetserver\\/46517a424aa5e6cffc1360d7e0848b601c584ee3-katex.min.css\\\"}],\\\"type\\\":\\\"async_block\\\"})).then((imports) => handler.apply(this, imports));\\n}\\n\"],\"observables\":{\"value\":{\"sync\":false,\"id\":\"12406549233469348929\",\"value\":\"\\\\;\\\\;\"}}},\"children\":[{\"props\":{\"id\":\"container\"},\"nodeType\":\"DOM\",\"type\":\"node\",\"instanceArgs\":{\"namespace\":\"html\",\"tag\":\"div\"},\"children\":[]}]}]},{\"props\":{},\"nodeType\":\"Scope\",\"type\":\"node\",\"instanceArgs\":{\"imports\":{\"data\":[],\"type\":\"async_block\"},\"id\":\"14937142580538265918\",\"handlers\":{\"obs-output\":[\"function (value, scope) {\\n    scope.setInnerHTML(value);\\n}\\n\"]},\"systemjs_options\":null,\"mount_callbacks\":[],\"observables\":{\"obs-output\":{\"sync\":false,\"id\":\"5494607572850830935\",\"value\":\"<img src='data:image\\/png;base64,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'><\\/img>\"}}},\"children\":[{\"props\":{\"className\":\"webio-observable\",\"setInnerHtml\":\"<img src='data:image\\/png;base64,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'><\\/img>\"},\"nodeType\":\"DOM\",\"type\":\"node\",\"instanceArgs\":{\"namespace\":\"html\",\"tag\":\"div\"},\"children\":[]}]},{\"props\":{\"className\":\"interact-widget\"},\"nodeType\":\"DOM\",\"type\":\"node\",\"instanceArgs\":{\"namespace\":\"html\",\"tag\":\"div\"},\"children\":[{\"props\":{},\"nodeType\":\"Scope\",\"type\":\"node\",\"instanceArgs\":{\"imports\":{\"data\":[{\"name\":null,\"type\":\"js\",\"url\":\"\\/assetserver\\/dd22ed1bf1896c2748f3fe616ce0b838adc895c1-katex.min.js\"},{\"name\":null,\"type\":\"css\",\"url\":\"\\/assetserver\\/46517a424aa5e6cffc1360d7e0848b601c584ee3-katex.min.css\"}],\"type\":\"async_block\"},\"id\":\"13952764259330237642\",\"handlers\":{\"value\":[\"(function (txt){return this.k.render(txt,this.container)})\"]},\"systemjs_options\":null,\"mount_callbacks\":[\"function () {\\n    var handler = ((function (k){this.k=k; this.container=this.dom.querySelector(\\\"#container\\\"); return k.render(\\\"\\\\\\\\;\\\\\\\\;\\\",this.container)}));\\n    (WebIO.importBlock({\\\"data\\\":[{\\\"name\\\":null,\\\"type\\\":\\\"js\\\",\\\"url\\\":\\\"\\/assetserver\\/dd22ed1bf1896c2748f3fe616ce0b838adc895c1-katex.min.js\\\"},{\\\"name\\\":null,\\\"type\\\":\\\"css\\\",\\\"url\\\":\\\"\\/assetserver\\/46517a424aa5e6cffc1360d7e0848b601c584ee3-katex.min.css\\\"}],\\\"type\\\":\\\"async_block\\\"})).then((imports) => handler.apply(this, imports));\\n}\\n\"],\"observables\":{\"value\":{\"sync\":false,\"id\":\"12406549233469348929\",\"value\":\"\\\\;\\\\;\"}}},\"children\":[{\"props\":{\"id\":\"container\"},\"nodeType\":\"DOM\",\"type\":\"node\",\"instanceArgs\":{\"namespace\":\"html\",\"tag\":\"div\"},\"children\":[]}]}]},{\"props\":{\"style\":{\"display\":\"flex\",\"flex-direction\":\"column\"}},\"nodeType\":\"DOM\",\"type\":\"node\",\"instanceArgs\":{\"namespace\":\"html\",\"tag\":\"div\"},\"children\":[{\"props\":{},\"nodeType\":\"Scope\",\"type\":\"node\",\"instanceArgs\":{\"imports\":{\"data\":[],\"type\":\"async_block\"},\"id\":\"8430165030472676697\",\"handlers\":{\"obs-output\":[\"function (value, scope) {\\n    scope.setInnerHTML(value);\\n}\\n\"]},\"systemjs_options\":null,\"mount_callbacks\":[],\"observables\":{\"obs-output\":{\"sync\":false,\"id\":\"3339864555166042502\",\"value\":\"<img src=\\\"data:image\\/png;base64,iVBORw0KGgoAAAANSUhEUgAAASwAAACWCAIAAADrOSKFAAAABmJLR0QA\\/wD\\/AP+gvaeTAAAff0lEQVR4nO3daVxT19Yw8B2SAAYoAhIgYtCAoAUlUCYHUKsigjgCBaVQi8O1qG2xKA69Umt\\/0JFquaKiV9uKA4gVC20ZFBVlqIIUtYKCghRBhiRCEoaQnPfDvs2bJwQkSjwV1\\/\\/TyWaflZ2QlZMz7HUoBEEgAAB5tMgeAACvOkhCAEgGSQgAySAJASAZJCEAJIMkBIBkkIQAkAySEACSQRICQDJIQgBI9uKSsKKi4ujRo3hZJpPJZDLNPZdUKtXo5Xi9vb2aC44QkkgkL3V8oJYXl4S3bt3Kzc3FyxKJRKOf456eHqlUqrn43d3dGk3yrq4uzQV\\/AfGBWuDnKAAko5E9APAPVVNTU1ZWRvYoXnqTJ0+2s7MbuA8kIVAtNjb23r17bDab7IG8xBoaGszMzM6cOTNwN0hCoBpBEBs2bFixYgXZA3mJnT179vvvv39qN9gnBIBkkIQAkAySEACSQRICQDJIQgBIBkkIAMnUS8I\\/\\/\\/xz4cKFjo6Oa9euFQgEfTvU1NSEhoY6OTnNnj379OnTQzRIAJ7X7t2729rannn1X3\\/9NScnZwjHo0iNJJRIJPPnz\\/fw8EhNTeXz+e+9917fPv7+\\/qamphkZGR999NHKlSt\\/\\/\\/33oRsqAGrYuXPnf\\/7zH\\/nD3NxckUg0+NUrKipmzZolf3jnzp2qqqqhHJ8CNU7WZ2Zm6ujobNu2DSH07bffjhs3rrm5mclkyjt0dXXduXMnMzOTzWaz2WxnZ+fy8nI3N7ehHzV4qXR2dj5+\\/JjNZmtpaUml0r\\/++mv06NE02v\\/\\/7DU1NclkMhaLpbiWRCJ59OjRmDFjtLT+z6aCIIj6+vpRo0YxGAzF9sePHzMYDAMDA\\/ywtbWVTqfL\\/3rp0iX5slAobG5uNjExMTQ0lD9XU1OTgYHByJEjcUt3d3d9fb18laioKKVXxOPxRo8erfRKeTyeRCIxMzMb1PvyNzW2hDdv3nR1dcXLLBaLyWTeuXNHsYOurq6\\/v39iYuJff\\/2VnZ1dU1Mzd+5ctUYDhpnZs2evXbvW1dV1zpw5rq6u169fd3d3X7BgwdixY2tqahBCAoHAzs7Oz8\\/Pz8\\/Pzs5O\\/olKS0tjsVjBwcFTp0719vb+9ttvEUJJSUne3t5vvvnmokWLWCxWWloa7nzjxg17e\\/sFCxY4ODisWrVKJpNlZWWlpaUlJSW5uLhER0cjhEaNGnXv3j2E0O7duydMmBAREeHi4pKQkIAQysrKsrW1DQ4OdnR0XLRoUU9PD0Jo5cqVf\\/31l4uLi4uLi0gkio6OxpsfgiA++OCDcePG+fv729jYlJaWIoTEYjGFQomJiZkxY4aTk1NAQIBak2zU2BI2NzfLvycQQkZGRo8fP1bqExsbu2jRotOnT\\/N4vB07dowbN07+p+rq6oyMjHHjxlGp1MzMTCaTqa2tPfhnV0tnZyedTlf8rh1aYrFYJpNRKBQNxReJRJoLrhRfR0dHcYvRV+FjokGs3rwtYx3KbNb\\/4tfW1t64cYNKpXp6eoaHhxcUFBgbG0dGRiYmJiYkJDAYjMLCQhMTE4RQYmLi1q1bz549y+fz16xZk52d7ebmdv\\/+fQcHB19fXxytuLi4rKzMxsbm3LlzmzZtCgwM7OnpCQwM3LNnj5+fn0Qi8fHxOXbsWFhYWGBgoIWFxY4dOxQH1tvb++mnnzY2NhobGyOEOjo6EELu7u53796l0+lSqXThwoU\\/\\/PDDqlWrjhw5EhIScv36daWXlpaWlpWVVVlZOXLkyH379oWGht66det\\/r9rY+ObNm2Kx2NbWtqioaOrUqYN8u9T4mBoaGjY0NMgfdnR0KOYkQojP58+ZM+fEiRPz5s3j8XjTp0+3sLAIDw\\/Hf7W2tp49e3ZCQgKNRjMzM6NQKJpLQiqVqtEkpFAoDAZDc3lCEIS+vr6GgqsbP+8RcYunXhKy9YnZLCpeXr58OU5yV1dXgiDwp9\\/d3R0ft9PW1q6pqfnmm29aW1v5fP4ff\\/yBECotLWWz2XhHhsPhzJw5Ux7Zy8vLxsYGIeTp6fngwQOZTFZRUcHj8cRiMd4wWllZXb58OSwsTOXAaDTa2LFjIyMjV6xY8eabb+LfrkZGRunp6UVFRWKxuLW1FY+hPzk5OStWrMCf\\/DVr1nz44YcPHz7Evz\\/fffddhBCDwXB2dq6urtZIEo4bNy4\\/Px8vC4XCxsZGxQ0dQuj27dsymWzevHkIIWNjY29v7ytXrsiTkEKh6OvrczgchFB3d\\/fgnxeQ699Oz3UeS09PDy\\/Q6XT51y6NRsOz+y9duhQWFvbZZ59ZWVk1NDTgPTexWDxixAh5BMV9P\\/l3B95wyWQyHo9Hp9Pv37+P2+3s7GxtbQcYT0FBweHDh+Pi4kJCQpKTk4ODg7dv315aWrpx40ZTU9Njx46JxeIBVn\\/y5Mnrr78ufxV6enoCgQAnoXxs2traatUuUOP9Xbp0aUVFRXFxMUJo\\/\\/79XC53\\/PjxCKGff\\/4ZfwnZ2Nh0dnZevHgRIdTe3n7+\\/Hl7e\\/vBxwevoLy8vICAgNDQUE9PT\\/l8f3t7+zt37uBzYBKJZOBj7K+\\/\\/npHR8c777yz5W9LlixBCGlra6us3sBkMrdu3Xr16tV9+\\/Z99dVXCKHs7Oxt27b5+\\/t7eHg0NTXhbjo6OipXt7Ozw\\/uBCKGamhqRSGRtbf3srx8hpNaW0NjYODk52c\\/PT19fX1tbOz09HbdfvHixvb09MDDQ3Nwcf7UYGhq2tLT4+vquW7fuOccHhjcul7tp06apU6fyeLzExETcaG1tHRISMnfu3ICAgPPnzzMYDKUDpIosLS3Xr1\\/v6+sbFRVlYGBQVlb2+uuvBwUFOTk5xcfHm5iYTJgwQX6AsLm5OSYmxsfHx8DA4PTp0\\/gXL5fL\\/frrrzs7OwsKCkpKSry9vRFCHA6nvb09NjaWxWK988478qd77733uFzuJ5984uDgEBcXt3Hjxtdee23gjedTqbfXFBISsmzZMoFAYGpqKt8j+vrrr+UdwsLCwsLCWltbDQ0NB97dB6+C1atXT5o0CS\\/7+vpSqf\\/bUeRyuXiPfdmyZZ2dndnZ2RYWFunp6b\\/++ivukJSU9Msvv9y7d++rr77avHkzPnvh4eEhP42hra0dHx+Pk\\/OLL77Iysq6cOGCSCSaMGGCl5cXQig0NNTY2LiyslIoFCKEduzYgc9qTJkypaCgoKenx8\\/PD+8r7d27d+\\/evWfOnPHw8MDHFBFC+vr6RUVFOTk5fD6fIIj58+fjwbNYrNLS0kOHDp0\\/f\\/6jjz566623EEJ0Oj0+Pl5+DCI0NBTvdg0W8aKkpKQsX74cL3d1deFaSRoiFoslEonm4guFQplMprn47e3tmgs+yPgrVqw4duyYRocxgD\\/++EMgEEil0qysLHwcnqyRPI+ffvpp8eLFT+0GM+vBP9G1a9eCgoJEIpGVldXp06cVrwkZfiAJwT9RREREREQE2aN4QWAWBQAkgyQEgGSQhACQDJIQAJLBgRnQr\\/z8fLXm4AEl5eXlg+kGSQhUW7x4cW5urvwSLfBsAgICntpHvSRsbGxMSEhoaGiYOXNmRESEyouJysrKjhw5wuPxJkyYEB0draurq9ZTgH+IgICAwXyAwPNTr7zFzJkznzx5smTJku++++6zzz7r2+fXX3+dM2eOmZnZggULxGJxZ2fn0A0VgOFJjS3huXPnKBTK\\/v37KRSKpaWlv7\\/\\/5s2bdXR05B2kUum6deuSkpLwBXUhISFDP14Ahh01toTFxcVeXl74um03NzeRSFRdXa3YoaamprGxceLEiTt37oyLi3v48OEQDxaA4UiNLWFTU5OlpSVe1tLSMjY2bmxsVJwxWFdXR6fTIyIi1qxZU1lZyeVyy8vL5ffWqq+vLygoWLp0qZaWVlxcnImJCZS36M8\\/qrwF0DQ1PqYjRoxQnC\\/c1dWlVO5KW1tbJBLt3bt3ypQpCKHq6upDhw7t2rUL\\/9XU1HTs2LHBwcE6OjoWFhY0Gk1zSUihUDSahARBaLS8hVQqVXpvNRdfo9kOBkONj6mlpeXNmzfxckdHh0AgkG8YsTFjxiCE5DUvOByOfJ4yQkhXV3fMmDFBQUEIoe7ubgqFMsBMzeek9TeNxtfcx1ejg38B8YFa1CtvkZubi\\/MqJSXF2dkZ\\/9QsKirCZ5M4HI6Li0teXh5CSCKR5OfnOzs7a2bYAAwfamwJHRwcVq5c6eLiMmnSpNLSUnmV+8TERCMjozfeeAMhlJCQEBAQcOrUqfv3748dOxbXnwIADEC9vaaEhIR169Y1NDQ4OTnJ6x3u3btX\\/ttm+vTp9+7dKy0tNTMzmzhx4hAPFoDhSO1DF7a2tkol5XDlVjkDAwPFQpEAgIHB3jkAJIMkBIBkkIQAkAySEACSQRICQDJIQgBIBkkIAMkgCQEgmXon60Ui0fHjx3k8nre3t5OTU3\\/dnjx5kpOT4+TkhO\\/nCAAYgHrlLaZPn56RkSESiebOnfvzzz\\/313PTpk3h4eHZ2dlDMUIAhjk1toQ\\/\\/fSTRCLJyMigUqkcDmfXrl3+\\/v59u124cKG2ttbd3X3oBgnAcKbGljA3N9fHxwffpc3Pz+\\/69et8Pl+pj0gkev\\/99w8ePAhTRQEYJDW2hI8ePbKzs8PLo0aNotPpDQ0NRkZGin22bNny7rvvqrxDYmtr640bN6Kjo2k02oYNGwwMDAiCeJ6hD6C7u1smk0mlUs3Fp1Kpmvui6e7u1lzZAaX4NBpNfu9OQAo1klBLS0sxbQiCUPrnFRYWXr9+fc+ePSpXp1Kp2traRkZGVCqVRqO9gJnvMLN+MPHhNwvp1EhCFoslL1fR3Nzc29trYWGh2GHfvn3t7e0+Pj4IofLy8sbGxvb29q1bt+K\\/GhkZ2dvbb9u2Df1d3kJz9YV6e3s1WmOGTqfT6XTNfXxxfA0FfwHxgVrU+JjOmzdv+\\/bt8fHxdDr93LlzHh4eeF5vbW0tg8FgMpkxMTHyLP3oo4+8vLxUHrkBAChSIwkXLlz45Zdf+vj4cLnco0ePHj9+HLevWbNm2rRpO3fudHBwcHBwwI3GxsZ2dnbyhwCA\\/qiRhDQaLT8\\/\\/9y5c48fP7569eqECRNw++7du5UOzyCEvvzySzMzsyEbJgDDl3p7Tbq6urhmoSI3N7e+PXHdJwDAU8G1owCQDJIQAJJBEgJAMkhCAEgGSQgAySAJASAZJCEAJIMkBIBkal\\/i3NbWVlhYaGZm5urqqvIK5qqqqnv37pmamrq6usJN8AB4KvWSsLi42N\\/f39PT886dO5MnTz558qRSHi5evPjGjRtcLreqqkpfXz8vL09+8yYAgErqbam2bdu2ZcuWM2fO\\/P7771evXr106ZJSh507dz548CAjI+P27dtaWlpJSUlDN1QAhic1klAgEFy8eHH58uUIIQMDgwULFvz0009KfZycnPBPUFyHpqOjYwjHCsCwpMbP0YaGBiqVKp\\/Iy2azy8rK+utcWVn522+\\/Xbx4Ud4iEonq6upOnTqlpaXl7e2tra2tufITUqlUozPfpVKpVCrVdHwNBVeKr9E3CgyGGkmoVFiFTqd3dXWp7Nnc3LxkyZJ\\/\\/\\/vfXC5X3igQCB4+fJiamqqjo+Pi4mJkZAQ1ZvrT09PT3d2toeBK8WGWPenUSEILC4vu7u6Ojg4DAwOEUEtLC4vF6tutra1t7ty5QUFBUVFRiu2jR4\\/29PRMSUlBf5e30FwtI1w7Q3PlLQiCYDAYGt0SMhgMDQV\\/AfGBWtTYJzQ3N7e2ts7Pz8cP8\\/Pzp02bhpfl2zSBQODj4zNnzpxPPvlkaAcKwHClxraCQqFER0dv2LChra2tpKSkra0NT\\/C9fv26q6urRCKh0WjBwcH19fV0Oj0mJgYhxOVyg4ODNTV2AIYF9X6wrV27lslk5ubmMpnMwsLCESNGIIQsLS3j4+Nx+cPAwMBZs2bJ++vp6Q3tcAEYfiiaOzqi5Pjx41lZWS9mn7Czs1Oj+4QikUij+4TyHe+XND5QC1xWBgDJIAkBIBkkIQAkgyQEgGSQhACQDJIQAJJBEgJAMkhCAEimdhKKRKLa2toBJihIpdLa2lqhUPh8AwPgVaFeEh44cMDS0tLHx8fa2vrGjRt9O5SXl9vY2MybN2\\/MmDH79u0bokECMJypkYRNTU1RUVGXLl2qrKzcsGFDZGRk3z4bNmxYu3ZtVVXVlStXNm\\/e\\/OjRo6EbKgDDkxpJmJaW5uHhMXnyZITQ6tWrr1+\\/\\/uDBA8UOdXV1xcXF\\/\\/rXvxBC9vb206ZNS01NHdrhAjD8qJGEtbW148ePx8uvvfaamZlZbW2tUodRo0bJy6uNHz9esYNUKuXxeKWlpbdv337OQQMwnKgxz0AoFOK5SxiDwWhvb1fs0NHRodShtbVV\\/rCurq6kpGT16tVaWlopKSmmpqYv7ywKsVgsk8k0N4tCJBJptO6LYnwdHR0ob0EuNT6mTCazvr5e\\/pDP5yvdENvMzIzP5\\/fXgcPhzJ8\\/\\/8VMZaJSqRpNQgqFotGpTARB6Ovrayj4C4gP1KLGz1FHR8eSkhK8fP\\/+\\/Y6ODjs7O8UOtra23d3dVVVV+GFJSYlioScAgEpqJOHChQvFYnFsbGxZWVlkZGRoaKiRkRFCKDY29uOPP0YIGRoavv322xs2bCgrK9u9ezefz1+8eLGmBg7AcKFGEmpra+fm5t69e3f9+vWTJk3as2cPbmez2VZWVng5ISHB2dl5\\/fr1f\\/75Z15eno6OjspQJ0+ePHv27HMOfQBJSUl9q4MPobi4uIqKCs3Fj4mJefjwoebiR0ZGCgQCzcUHalFvr8nW1vb48eNKje+++658mcFgxMfHPzVOZWWl4iGcIXfz5k19ff3Zs2drKP6NGzfc3NwcHR01FL+kpKSpqYnNZmso\\/qVLlwQCAdwm5B8Crh0FgGSQhACQTFMH8fsiCKKnpwefw+js7EQIKZ7PGFo9PT0ikUhz8SUSiVAo1Fx8qVTa0dGhufgymezJkyc4vra2NlSmJNeLK3n43Xffbd68Ge8K4hsh9HfY5vl1dnbSaDTNnYMWi8Xa2tqaOw8pFAoZDIbmbrHa0dGhr6+Pz3OOHz9efuYJkOLFJSEAQCXYJwSAZJCEAJCMtCTs6emprq7ueyvf5uZmpRlSz6a1tbWurq63t\\/f5Q6mlvr6e9FmUEomktraWx+MN0EckElVXV\\/e9w2RDQ0NDQ4MmRwf6IIZaQ0PDnDlz8BVtfD5fZZ8rV65YWFg4ODgYGRkdOXIEN8pkstWrV5uamlpbW7\\/xxhvNzc0q121ubvb29jY2NkYINTQ09O1w\\/\\/59BweHkSNH2tjYmJqapqen43ala3R+++03lfGLioqmTZump6c3ZswYlR2UDlpu3boVtwuFwtmzZ7PZbAsLiyVLlnR3d6tcvbS01NPTU19ff9SoUSo7nDp1Sul\\/dPPmTYIgdu3apdio8rUTBLF7925DQ0MOhzNy5Mj58+e3t7f37ZOammpsbDxp0iQmk5mTk4MbOzs7fX19R48ebWlp6evrKxaLVcYHQ27ok7ClpSUtLa2oqGiAJLS3tz9w4ABBENeuXdPT0+PxeARBZGZmjh07Fq8SEhKyceNGlevy+fxTp07hO3Wr\\/CDW19fn5OTIZDKCIE6cOMFgMPDn6ezZs56enk8df1VVVWZm5o8\\/\\/jhwEkqlUqX2uLi4mTNn9vb2dnV1OTs7Hzx4UOXq1dXV586dS01N7S8JFSUnJ9vb2+PlXbt2RUZGPnWVzMzMx48fEwQhFArd3d23b9+u1EEsFhsZGeXl5REEkZqaamVl1dvbSxDEnj17PDw8enp6enp6pk6d+u233z71ucCQGPokxBobG\\/tLwvLycj09va6uLvzQ3d398OHDBEGsWLFCvlW5fPnywJ9RfOljf1sDOZwwtbW1xN9J2N7e3jd\\/+srJyRk4CYVCodK2bvLkycePH8fLiYmJs2bNGiB+QUHBYJJwypQp33zzDV7GSSgQCJ66llx0dHRoaKhSY3p6up2dHV6WSqVMJvPSpUsEQXh4eBw6dAi3\\/\\/e\\/\\/3V3dx\\/8E4HnQcI+YV1d3ZgxY+QnCW1sbOrq6nCqWFtbyxtbW1ufv2TbDz\\/84ODgIL8Is7i42MrKSk9PLzw8vO\\/uqFrYbLahoaGXl5d86lZtba2NjQ1etrGxUSo78AyqqqpKS0tDQ0PlLYcPH7aysnrttde2b98uk8kGXl0oFKanp\\/v6+iq1K45TS0uLw+HgoSq9\\/88\\/fjBIJCRh3wn4eIa+4sx9fEd1pZn76iooKNi1a9fRo0fxWempU6c2NTXxeLwHDx7cvXt327ZtzxZWT0+vpqamra2Nz+dPnDgxMDAQIUQQhEgkUhz\\/cw4eIZScnOzv729qaoofhoeH83g8gUBQUlLyww8\\/JCcnD7CuVCoNDw93cnIKCQlR+lPfCgn4+0jp\\/X\\/+8YNBIiEJlSbg83g8PAGfyWTK23k8npaWFpPJfOZnKSkpCQgIOHny5BtvvIFbTE1N8eEcc3Pz6OjonJycZ4tMp9M5HA5CSFdX97PPPrt582ZTUxOFQlEav7m5+TMPHiHU29ubkpISEREhb2Gz2ThJJk6cuGrVqtzc3P7WlclkK1euFAqFuI6Bkv7ef8X25x8\\/GDwSktDBweHRo0d4p5EgiJKSEicnJ4SQk5OT\\/Pqp4uLiSZMmPfN1YeXl5YsXLz58+PCcOXNUdmhpaRmSW9W2trZSKBR87aWjo2NxcTFuLy4uxi\\/qmf38889UKtXb21vlXwcYP0EQ77333oMHD86cOaPywkAul1taWiqRSBBC7e3td+7cwQUQFCsnFBcXQ1WEF0cTO5qpqakHDx5ECB05cuT06dO48YMPPoiPj8fLwcHBCxcuvHbt2qZNmyZMmICPlNy7d8\\/AwOD777+\\/fPmytbV1cnJyf\\/HT09OPHj2KEDpw4EBqaio+EBoTExMbG0sQxP37942MjMLCwlL\\/1traShBEYmLiqVOnCgsLDx06ZGpqmpSUpDK4QCBITU3dsWOHiYlJampqbm4ubp8\\/f\\/6ZM2cIgvjll1\\/2799\\/5cqVs2fPcrnc4OBg3CErK4vJZGZnZ589e3bkyJFFRUUq43d0dKSmpu7atcvAwCA1NVV+pmTJkiXy4zoEQfj5+Skd2IyNjc3IyCgsLPz88891dXXx0ZS+oqOj8Ykf\\/NovXryI25cuXZqSkoKX3dzc1q5de+3ateXLl\\/v6+uLGCxcuGBsbZ2ZmZmVlmZiYnD9\\/vr\\/3Hwytob8EmSCIvLw8hNCaNWuKiopoNNqyZcsQQuPHj8e\\/BhFCBw8ejI2N\\/fDDD62trbOzs\\/GVyjY2NufOnUtISGhvb4+Kilq1alV\\/T3HhwgWJRLJmzZrS0lKEUEBAAELI2toaV47q7u7G+2l4GAghZ2dnExOTUaNGnThxoqWlhcVi7d+\\/f+nSpSqDC4VCvOKyZcvy8vKsrKzw5tTR0RHvnpmamqakpBw7dmzkyJFhYWHr1q3DK\\/r6+iYkJHz55Zc0Gu3777\\/38PBQGV8sFuP4ISEheXl5LBZr3rx5CKFJkybJ62JJJBIrKyuld8DAwODAgQNPnjzhcDjnz5+fOnWqyvjm5uaBgYH4FBFCyM7ObsaMGTi+\\/BdmRkbGxx9\\/\\/OGHH3K53MTERNw4a9asAwcO7N27FyG0f\\/\\/+N998s7\\/3HwwtuIAbAJLBtaMAkAySEACSQRICQDJIQgBIBkmoWkFBgWLN\\/\\/5UVVVdvnz5BYwHDGOQhKimpiYtLQ2fvJbz8vJSebmJkqSkpLfeektjQwOvBEhClJOTExQUJBKJFBsjIiI0V9sXAEUvruThy+XQoUNkDwG8Kl71LeHhw4dx3f5Zs2a5uLi4uLjgmYrTp08\\/duyYvFt1dXVoaCiLxdLT07O1tY2KilIZrbKycsaMGR988AEuq5GUlOTo6Ign0bu4uCgGBEDuVd8SOjs7T58+\\/fjx4+Hh4Xj+lK6uLkLo6tWrCxYswH3u3r07ZcoUBoOxdetWDofz8OHDrKysvqGKi4v9\\/f09PT3j4uJoNNqJEyfWr1+\\/ZcsWLy8viURSUVEBtVuAamRfvEq+ffv2oT5FABBCcXFxeHnRokUGBgYqZ\\/G\\/\\/\\/775ubmBEGkp6ePGDFi48aN8mn7q1at4nK5Gh47GA5e9Z+jTyWRSLKzs9966y0Wi9Vfnz179gQFBW3evHnPnj3ystkcDufWrVs7d+68e\\/fuixoseClBEj4Fn8\\/v6urCs3hVamtri4qK8vPzi42NVWx\\/\\/\\/33w8LCvvjiCzs7u3Hjxm3evBluCQhUgiR8Cj09PQqFMkANTxMTk2PHjv3yyy+4FJq8ncFgHD58uKWlJSsra8GCBYmJiXDfYqDSq35gBiGEa0b09PSo\\/Kuenp6Dg0NOTs7nn3\\/e3x1aQkJC9PT0goKCJBLJ\\/v37Fbvp6+v7+vr6+voaGxt\\/+umnYrEYH\\/4BQA62hAiXHjt58mRTUxM+PKPUISYmpqKiIjIyEhdE6urq6lufd+HChWfOnPnxxx\\/ffvttfH4iOTm5pKQE10Tr6OgoKSkZPXo0ZCBQgewjQ\\/8IERER8s1XS0sL8X+PjhIE8dVXX40YMUJLS8vc3JxKpbLZbNwuPzqK5efn6+vrBwUF9fT0BAcHI4R0dHTYbLaOjg6LxZJXmgBAEcys\\/5\\/u7u7Hjx\\/39vZaWVlRqdSamhoTExPFu7rzeLyioiKRSDR69Gg3Nzd888O2tjahUGhlZSXv1tzcLBQKLSwsRowYUVdXd\\/v2baFQyGKxXF1dNXc\\/RvBSgyQEgGSwTwgAySAJASAZJCEAJPt\\/oR3uko6z7OwAAAAASUVORK5CYII=\\\" \\/>\"}}},\"children\":[{\"props\":{\"className\":\"webio-observable\",\"setInnerHtml\":\"<img src=\\\"data:image\\/png;base64,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\\\" \\/>\"},\"nodeType\":\"DOM\",\"type\":\"node\",\"instanceArgs\":{\"namespace\":\"html\",\"tag\":\"div\"},\"children\":[]}]}]}]}]},\n",
       "        window,\n",
       "    );\n",
       "    })()\n",
       "    </script>\n",
       "</div>\n"
      ],
      "text/plain": [
       "WebIO.Node{WebIO.DOM}(WebIO.DOM(:html, :div), Any[WebIO.Node{WebIO.DOM}(WebIO.DOM(:html, :div), Any[WebIO.Node{WebIO.DOM}(WebIO.DOM(:html, :div), Any[WebIO.Node{WebIO.DOM}(WebIO.DOM(:html, :div), Any[WebIO.Scope(WebIO.Node{WebIO.DOM}(WebIO.DOM(:html, :div), Any[WebIO.Node{WebIO.DOM}(WebIO.DOM(:html, :div), Any[WebIO.Node{WebIO.DOM}(WebIO.DOM(:html, :label), Any[\"time\"], Dict{Symbol, Any}(:className => \"interact \", :style => Dict{Any, Any}(:padding => \"5px 10px 0px 10px\")))], Dict{Symbol, Any}(:className => \"interact-flex-row-left\")), WebIO.Node{WebIO.DOM}(WebIO.DOM(:html, :div), Any[WebIO.Node{WebIO.DOM}(WebIO.DOM(:html, :input), Any[], Dict{Symbol, Any}(:max => 200, :min => 1, :attributes => Dict{Any, Any}(:type => \"range\", Symbol(\"data-bind\") => \"numericValue: index, valueUpdate: 'input', event: {change: function (){this.changes(this.changes()+1)}}\", \"orient\" => \"horizontal\"), :step => 1, :className => \"slider slider is-fullwidth\", :style => Dict{Any, Any}()))], Dict{Symbol, Any}(:className => \"interact-flex-row-center\")), WebIO.Node{WebIO.DOM}(WebIO.DOM(:html, :div), Any[WebIO.Node{WebIO.DOM}(WebIO.DOM(:html, :p), Any[], Dict{Symbol, Any}(:attributes => Dict(\"data-bind\" => \"text: formatted_val\")))], Dict{Symbol, Any}(:className => \"interact-flex-row-right\"))], Dict{Symbol, Any}(:className => \"interact-flex-row interact-widget\")), Dict{String, Tuple{Observables.AbstractObservable, Union{Nothing, Bool}}}(\"changes\" => (Observable(0), nothing), \"index\" => (Observable(1), nothing)), Set{String}(), nothing, WebIO.Asset[WebIO.Asset(\"js\", \"knockout\", \"/home/dushya/.julia/packages/Knockout/HReiN/src/../assets/knockout.js\"), WebIO.Asset(\"js\", \"knockout_punches\", \"/home/dushya/.julia/packages/Knockout/HReiN/src/../assets/knockout_punches.js\"), WebIO.Asset(\"js\", nothing, \"/home/dushya/.julia/packages/InteractBase/LJXv3/src/../assets/all.js\"), WebIO.Asset(\"css\", nothing, \"/home/dushya/.julia/packages/InteractBase/LJXv3/src/../assets/style.css\"), WebIO.Asset(\"css\", nothing, \"/home/dushya/.julia/packages/Interact/PENUy/src/../assets/bulma_confined.min.css\")], Dict{Any, Any}(\"changes\" => Any[WebIO.JSString(\"(function (val){return (val!=this.model[\\\"changes\\\"]()) ? (this.valueFromJulia[\\\"changes\\\"]=true, this.model[\\\"changes\\\"](val)) : undefined})\")], \"index\" => Any[WebIO.JSString(\"(function (val){return (val!=this.model[\\\"index\\\"]()) ? (this.valueFromJulia[\\\"index\\\"]=true, this.model[\\\"index\\\"](val)) : undefined})\")]), WebIO.ConnectionPool(Channel{Any}(32), Set{WebIO.AbstractConnection}(), Base.GenericCondition{ReentrantLock}(Base.IntrusiveLinkedList{Task}(Task (runnable) @0x00007f893056cb00, Task (runnable) @0x00007f893056cb00), ReentrantLock(nothing, 0x00000000, 0x00, Base.GenericCondition{Base.Threads.SpinLock}(Base.IntrusiveLinkedList{Task}(nothing, nothing), Base.Threads.SpinLock(0)), (0, 140226925064592, 140226925064400)))), WebIO.JSString[WebIO.JSString(\"function () {\\n    var handler = (function (ko, koPunches) {\\n    ko.punches.enableAll();\\n    ko.bindingHandlers.numericValue = {\\n        init: function(element, valueAccessor, allBindings, data, context) {\\n            var stringified = ko.observable(ko.unwrap(valueAccessor()));\\n            stringified.subscribe(function(value) {\\n                var val = parseFloat(value);\\n                if (!isNaN(val)) {\\n                    valueAccessor()(val);\\n                }\\n            });\\n            valueAccessor().subscribe(function(value) {\\n                var str = JSON.stringify(value);\\n                if ((str == \\\"0\\\") && ([\\\"-0\\\", \\\"-0.\\\"].indexOf(stringified()) >= 0))\\n                     return;\\n                 if ([\\\"null\\\", \\\"\\\"].indexOf(str) >= 0)\\n                     return;\\n                stringified(str);\\n            });\\n            ko.applyBindingsToNode(\\n                element,\\n                {\\n                    value: stringified,\\n                    valueUpdate: allBindings.get('valueUpdate'),\\n                },\\n                context,\\n            );\\n        }\\n    };\\n    var json_data = {\\\"formatted_vals\\\":[\\\"1\\\",\\\"2\\\",\\\"3\\\",\\\"4\\\",\\\"5\\\",\\\"6\\\",\\\"7\\\",\\\"8\\\",\\\"9\\\",\\\"10\\\",\\\"11\\\",\\\"12\\\",\\\"13\\\",\\\"14\\\",\\\"15\\\",\\\"16\\\",\\\"17\\\",\\\"18\\\",\\\"19\\\",\\\"20\\\",\\\"21\\\",\\\"22\\\",\\\"23\\\",\\\"24\\\",\\\"25\\\",\\\"26\\\",\\\"27\\\",\\\"28\\\",\\\"29\\\",\\\"30\\\",\\\"31\\\",\\\"32\\\",\\\"33\\\",\\\"34\\\",\\\"35\\\",\\\"36\\\",\\\"37\\\",\\\"38\\\",\\\"39\\\",\\\"40\\\",\\\"41\\\",\\\"42\\\",\\\"43\\\",\\\"44\\\",\\\"45\\\",\\\"46\\\",\\\"47\\\",\\\"48\\\",\\\"49\\\",\\\"50\\\",\\\"51\\\",\\\"52\\\",\\\"53\\\",\\\"54\\\",\\\"55\\\",\\\"56\\\",\\\"57\\\",\\\"58\\\",\\\"59\\\",\\\"60\\\",\\\"61\\\",\\\"62\\\",\\\"63\\\",\\\"64\\\",\\\"65\\\",\\\"66\\\",\\\"67\\\",\\\"68\\\",\\\"69\\\",\\\"70\\\",\\\"71\\\",\\\"72\\\",\\\"73\\\",\\\"74\\\",\\\"75\\\",\\\"76\\\",\\\"77\\\",\\\"78\\\",\\\"79\\\",\\\"80\\\",\\\"81\\\",\\\"82\\\",\\\"83\\\",\\\"84\\\",\\\"85\\\",\\\"86\\\",\\\"87\\\",\\\"88\\\",\\\"89\\\",\\\"90\\\",\\\"91\\\",\\\"92\\\",\\\"93\\\",\\\"94\\\",\\\"95\\\",\\\"96\\\",\\\"97\\\",\\\"98\\\",\\\"99\\\",\\\"100\\\",\\\"101\\\",\\\"102\\\",\\\"103\\\",\\\"104\\\",\\\"105\\\",\\\"106\\\",\\\"107\\\",\\\"108\\\",\\\"109\\\",\\\"110\\\",\\\"111\\\",\\\"112\\\",\\\"113\\\",\\\"114\\\",\\\"115\\\",\\\"116\\\",\\\"117\\\",\\\"118\\\",\\\"119\\\",\\\"120\\\",\\\"121\\\",\\\"122\\\",\\\"123\\\",\\\"124\\\",\\\"125\\\",\\\"126\\\",\\\"127\\\",\\\"128\\\",\\\"129\\\",\\\"130\\\",\\\"131\\\",\\\"132\\\",\\\"133\\\",\\\"134\\\",\\\"135\\\",\\\"136\\\",\\\"137\\\",\\\"138\\\",\\\"139\\\",\\\"140\\\",\\\"141\\\",\\\"142\\\",\\\"143\\\",\\\"144\\\",\\\"145\\\",\\\"146\\\",\\\"147\\\",\\\"148\\\",\\\"149\\\",\\\"150\\\",\\\"151\\\",\\\"152\\\",\\\"153\\\",\\\"154\\\",\\\"155\\\",\\\"156\\\",\\\"157\\\",\\\"158\\\",\\\"159\\\",\\\"160\\\",\\\"161\\\",\\\"162\\\",\\\"163\\\",\\\"164\\\",\\\"165\\\",\\\"166\\\",\\\"167\\\",\\\"168\\\",\\\"169\\\",\\\"170\\\",\\\"171\\\",\\\"172\\\",\\\"173\\\",\\\"174\\\",\\\"175\\\",\\\"176\\\",\\\"177\\\",\\\"178\\\",\\\"179\\\",\\\"180\\\",\\\"181\\\",\\\"182\\\",\\\"183\\\",\\\"184\\\",\\\"185\\\",\\\"186\\\",\\\"187\\\",\\\"188\\\",\\\"189\\\",\\\"190\\\",\\\"191\\\",\\\"192\\\",\\\"193\\\",\\\"194\\\",\\\"195\\\",\\\"196\\\",\\\"197\\\",\\\"198\\\",\\\"199\\\",\\\"200\\\"],\\\"changes\\\":WebIO.getval({\\\"name\\\":\\\"changes\\\",\\\"scope\\\":\\\"13307734633236114650\\\",\\\"id\\\":\\\"10355578634633865508\\\",\\\"type\\\":\\\"observable\\\"}),\\\"index\\\":WebIO.getval({\\\"name\\\":\\\"index\\\",\\\"scope\\\":\\\"13307734633236114650\\\",\\\"id\\\":\\\"13148657183476414184\\\",\\\"type\\\":\\\"observable\\\"})};\\n    var self = this;\\n    function AppViewModel() {\\n        for (var key in json_data) {\\n            var el = json_data[key];\\n            this[key] = Array.isArray(el) ? ko.observableArray(el) : ko.observable(el);\\n        }\\n        \\n        [this[\\\"formatted_val\\\"]=ko.computed(    function(){\\n        return this.formatted_vals()[parseInt(this.index())-(1)];\\n    }\\n,this)]\\n        [this[\\\"changes\\\"].subscribe((function (val){!(this.valueFromJulia[\\\"changes\\\"]) ? (WebIO.setval({\\\"name\\\":\\\"changes\\\",\\\"scope\\\":\\\"13307734633236114650\\\",\\\"id\\\":\\\"10355578634633865508\\\",\\\"type\\\":\\\"observable\\\"},val)) : undefined; return this.valueFromJulia[\\\"changes\\\"]=false}),self),this[\\\"index\\\"].subscribe((function (val){!(this.valueFromJulia[\\\"index\\\"]) ? (WebIO.setval({\\\"name\\\":\\\"index\\\",\\\"scope\\\":\\\"13307734633236114650\\\",\\\"id\\\":\\\"13148657183476414184\\\",\\\"type\\\":\\\"observable\\\"},val)) : undefined; return this.valueFromJulia[\\\"index\\\"]=false}),self)]\\n        \\n    }\\n    self.model = new AppViewModel();\\n    self.valueFromJulia = {};\\n    for (var key in json_data) {\\n        self.valueFromJulia[key] = false;\\n    }\\n    ko.applyBindings(self.model, self.dom);\\n}\\n);\\n    (WebIO.importBlock({\\\"data\\\":[{\\\"name\\\":\\\"knockout\\\",\\\"type\\\":\\\"js\\\",\\\"url\\\":\\\"/assetserver/727383f2a47bd31570b7da84eee7b022dd6d7c78-knockout.js\\\"},{\\\"name\\\":\\\"knockout_punches\\\",\\\"type\\\":\\\"js\\\",\\\"url\\\":\\\"/assetserver/382b41b3b1bd9f26f75861d360bad7f8beea211f-knockout_punches.js\\\"}],\\\"type\\\":\\\"async_block\\\"})).then((imports) => handler.apply(this, imports));\\n}\\n\")])], Dict{Symbol, Any}(:className => \"field interact-widget\")), WebIO.Node{WebIO.DOM}(WebIO.DOM(:html, :div), Any[WebIO.Scope(WebIO.Node{WebIO.DOM}(WebIO.DOM(:html, :div), Any[WebIO.Node{WebIO.DOM}(WebIO.DOM(:html, :div), Any[WebIO.Node{WebIO.DOM}(WebIO.DOM(:html, :label), Any[\"scale\"], Dict{Symbol, Any}(:className => \"interact \", :style => Dict{Any, Any}(:padding => \"5px 10px 0px 10px\")))], Dict{Symbol, Any}(:className => \"interact-flex-row-left\")), WebIO.Node{WebIO.DOM}(WebIO.DOM(:html, :div), Any[WebIO.Node{WebIO.DOM}(WebIO.DOM(:html, :input), Any[], Dict{Symbol, Any}(:max => 20, :min => 1, :attributes => Dict{Any, Any}(:type => \"range\", Symbol(\"data-bind\") => \"numericValue: index, valueUpdate: 'input', event: {change: function (){this.changes(this.changes()+1)}}\", \"orient\" => \"horizontal\"), :step => 1, :className => \"slider slider is-fullwidth\", :style => Dict{Any, Any}()))], Dict{Symbol, Any}(:className => \"interact-flex-row-center\")), WebIO.Node{WebIO.DOM}(WebIO.DOM(:html, :div), Any[WebIO.Node{WebIO.DOM}(WebIO.DOM(:html, :p), Any[], Dict{Symbol, Any}(:attributes => Dict(\"data-bind\" => \"text: formatted_val\")))], Dict{Symbol, Any}(:className => \"interact-flex-row-right\"))], Dict{Symbol, Any}(:className => \"interact-flex-row interact-widget\")), Dict{String, Tuple{Observables.AbstractObservable, Union{Nothing, Bool}}}(\"changes\" => (Observable(0), nothing), \"index\" => (Observable{Any}(10), nothing)), Set{String}(), nothing, WebIO.Asset[WebIO.Asset(\"js\", \"knockout\", \"/home/dushya/.julia/packages/Knockout/HReiN/src/../assets/knockout.js\"), WebIO.Asset(\"js\", \"knockout_punches\", \"/home/dushya/.julia/packages/Knockout/HReiN/src/../assets/knockout_punches.js\"), WebIO.Asset(\"js\", nothing, \"/home/dushya/.julia/packages/InteractBase/LJXv3/src/../assets/all.js\"), WebIO.Asset(\"css\", nothing, \"/home/dushya/.julia/packages/InteractBase/LJXv3/src/../assets/style.css\"), WebIO.Asset(\"css\", nothing, \"/home/dushya/.julia/packages/Interact/PENUy/src/../assets/bulma_confined.min.css\")], Dict{Any, Any}(\"changes\" => Any[WebIO.JSString(\"(function (val){return (val!=this.model[\\\"changes\\\"]()) ? (this.valueFromJulia[\\\"changes\\\"]=true, this.model[\\\"changes\\\"](val)) : undefined})\")], \"index\" => Any[WebIO.JSString(\"(function (val){return (val!=this.model[\\\"index\\\"]()) ? (this.valueFromJulia[\\\"index\\\"]=true, this.model[\\\"index\\\"](val)) : undefined})\")]), WebIO.ConnectionPool(Channel{Any}(32), Set{WebIO.AbstractConnection}(), Base.GenericCondition{ReentrantLock}(Base.IntrusiveLinkedList{Task}(Task (runnable) @0x00007f893056f3a0, Task (runnable) @0x00007f893056f3a0), ReentrantLock(nothing, 0x00000000, 0x00, Base.GenericCondition{Base.Threads.SpinLock}(Base.IntrusiveLinkedList{Task}(nothing, nothing), Base.Threads.SpinLock(0)), (0, 140227186581920, 140226937068432)))), WebIO.JSString[WebIO.JSString(\"function () {\\n    var handler = (function (ko, koPunches) {\\n    ko.punches.enableAll();\\n    ko.bindingHandlers.numericValue = {\\n        init: function(element, valueAccessor, allBindings, data, context) {\\n            var stringified = ko.observable(ko.unwrap(valueAccessor()));\\n            stringified.subscribe(function(value) {\\n                var val = parseFloat(value);\\n                if (!isNaN(val)) {\\n                    valueAccessor()(val);\\n                }\\n            });\\n            valueAccessor().subscribe(function(value) {\\n                var str = JSON.stringify(value);\\n                if ((str == \\\"0\\\") && ([\\\"-0\\\", \\\"-0.\\\"].indexOf(stringified()) >= 0))\\n                     return;\\n                 if ([\\\"null\\\", \\\"\\\"].indexOf(str) >= 0)\\n                     return;\\n                stringified(str);\\n            });\\n            ko.applyBindingsToNode(\\n                element,\\n                {\\n                    value: stringified,\\n                    valueUpdate: allBindings.get('valueUpdate'),\\n                },\\n                context,\\n            );\\n        }\\n    };\\n    var json_data = {\\\"formatted_vals\\\":[\\\"0.1\\\",\\\"0.2\\\",\\\"0.3\\\",\\\"0.4\\\",\\\"0.5\\\",\\\"0.6\\\",\\\"0.7\\\",\\\"0.8\\\",\\\"0.9\\\",\\\"1.0\\\",\\\"1.1\\\",\\\"1.2\\\",\\\"1.3\\\",\\\"1.4\\\",\\\"1.5\\\",\\\"1.6\\\",\\\"1.7\\\",\\\"1.8\\\",\\\"1.9\\\",\\\"2.0\\\"],\\\"changes\\\":WebIO.getval({\\\"name\\\":\\\"changes\\\",\\\"scope\\\":\\\"17505250450389404060\\\",\\\"id\\\":\\\"5605635104180370102\\\",\\\"type\\\":\\\"observable\\\"}),\\\"index\\\":WebIO.getval({\\\"name\\\":\\\"index\\\",\\\"scope\\\":\\\"17505250450389404060\\\",\\\"id\\\":\\\"10763939566219764529\\\",\\\"type\\\":\\\"observable\\\"})};\\n    var self = this;\\n    function AppViewModel() {\\n        for (var key in json_data) {\\n            var el = json_data[key];\\n            this[key] = Array.isArray(el) ? ko.observableArray(el) : ko.observable(el);\\n        }\\n        \\n        [this[\\\"formatted_val\\\"]=ko.computed(    function(){\\n        return this.formatted_vals()[parseInt(this.index())-(1)];\\n    }\\n,this)]\\n        [this[\\\"changes\\\"].subscribe((function (val){!(this.valueFromJulia[\\\"changes\\\"]) ? (WebIO.setval({\\\"name\\\":\\\"changes\\\",\\\"scope\\\":\\\"17505250450389404060\\\",\\\"id\\\":\\\"5605635104180370102\\\",\\\"type\\\":\\\"observable\\\"},val)) : undefined; return this.valueFromJulia[\\\"changes\\\"]=false}),self),this[\\\"index\\\"].subscribe((function (val){!(this.valueFromJulia[\\\"index\\\"]) ? (WebIO.setval({\\\"name\\\":\\\"index\\\",\\\"scope\\\":\\\"17505250450389404060\\\",\\\"id\\\":\\\"10763939566219764529\\\",\\\"type\\\":\\\"observable\\\"},val)) : undefined; return this.valueFromJulia[\\\"index\\\"]=false}),self)]\\n        \\n    }\\n    self.model = new AppViewModel();\\n    self.valueFromJulia = {};\\n    for (var key in json_data) {\\n        self.valueFromJulia[key] = false;\\n    }\\n    ko.applyBindings(self.model, self.dom);\\n}\\n);\\n    (WebIO.importBlock({\\\"data\\\":[{\\\"name\\\":\\\"knockout\\\",\\\"type\\\":\\\"js\\\",\\\"url\\\":\\\"/assetserver/727383f2a47bd31570b7da84eee7b022dd6d7c78-knockout.js\\\"},{\\\"name\\\":\\\"knockout_punches\\\",\\\"type\\\":\\\"js\\\",\\\"url\\\":\\\"/assetserver/382b41b3b1bd9f26f75861d360bad7f8beea211f-knockout_punches.js\\\"}],\\\"type\\\":\\\"async_block\\\"})).then((imports) => handler.apply(this, imports));\\n}\\n\")])], Dict{Symbol, Any}(:className => \"field interact-widget\")), WebIO.Node{WebIO.DOM}(WebIO.DOM(:html, :div), Any[], Dict{Symbol, Any}(:style => Dict(\"display\" => \"flex\", \"flex-direction\" => \"column\"))), WebIO.Node{WebIO.DOM}(WebIO.DOM(:html, :div), Any[WebIO.Node{WebIO.DOM}(WebIO.DOM(:html, :div), Any[WebIO.Scope(WebIO.Node{WebIO.DOM}(WebIO.DOM(:html, :div), Any[WebIO.Node{WebIO.DOM}(WebIO.DOM(:html, :div), Any[WebIO.Node{WebIO.DOM}(WebIO.DOM(:html, :label), Any[\"temp\"], Dict{Symbol, Any}(:className => \"interact \", :style => Dict{Any, Any}(:padding => \"5px 10px 0px 10px\")))], Dict{Symbol, Any}(:className => \"interact-flex-row-left\")), WebIO.Node{WebIO.DOM}(WebIO.DOM(:html, :div), Any[WebIO.Node{WebIO.DOM}(WebIO.DOM(:html, :input), Any[], Dict{Symbol, Any}(:max => 100, :min => 1, :attributes => Dict{Any, Any}(:type => \"range\", Symbol(\"data-bind\") => \"numericValue: index, valueUpdate: 'input', event: {change: function (){this.changes(this.changes()+1)}}\", \"orient\" => \"horizontal\"), :step => 1, :className => \"slider slider is-fullwidth\", :style => Dict{Any, Any}()))], Dict{Symbol, Any}(:className => \"interact-flex-row-center\")), WebIO.Node{WebIO.DOM}(WebIO.DOM(:html, :div), Any[WebIO.Node{WebIO.DOM}(WebIO.DOM(:html, :p), Any[], Dict{Symbol, Any}(:attributes => Dict(\"data-bind\" => \"text: formatted_val\")))], Dict{Symbol, Any}(:className => \"interact-flex-row-right\"))], Dict{Symbol, Any}(:className => \"interact-flex-row interact-widget\")), Dict{String, Tuple{Observables.AbstractObservable, Union{Nothing, Bool}}}(\"changes\" => (Observable(0), nothing), \"index\" => (Observable{Any}(50), nothing)), Set{String}(), nothing, WebIO.Asset[WebIO.Asset(\"js\", \"knockout\", \"/home/dushya/.julia/packages/Knockout/HReiN/src/../assets/knockout.js\"), WebIO.Asset(\"js\", \"knockout_punches\", \"/home/dushya/.julia/packages/Knockout/HReiN/src/../assets/knockout_punches.js\"), WebIO.Asset(\"js\", nothing, \"/home/dushya/.julia/packages/InteractBase/LJXv3/src/../assets/all.js\"), WebIO.Asset(\"css\", nothing, \"/home/dushya/.julia/packages/InteractBase/LJXv3/src/../assets/style.css\"), WebIO.Asset(\"css\", nothing, \"/home/dushya/.julia/packages/Interact/PENUy/src/../assets/bulma_confined.min.css\")], Dict{Any, Any}(\"changes\" => Any[WebIO.JSString(\"(function (val){return (val!=this.model[\\\"changes\\\"]()) ? (this.valueFromJulia[\\\"changes\\\"]=true, this.model[\\\"changes\\\"](val)) : undefined})\")], \"index\" => Any[WebIO.JSString(\"(function (val){return (val!=this.model[\\\"index\\\"]()) ? (this.valueFromJulia[\\\"index\\\"]=true, this.model[\\\"index\\\"](val)) : undefined})\")]), WebIO.ConnectionPool(Channel{Any}(32), Set{WebIO.AbstractConnection}(), Base.GenericCondition{ReentrantLock}(Base.IntrusiveLinkedList{Task}(Task (runnable) @0x00007f89306a1140, Task (runnable) @0x00007f89306a1140), ReentrantLock(nothing, 0x00000000, 0x00, Base.GenericCondition{Base.Threads.SpinLock}(Base.IntrusiveLinkedList{Task}(nothing, nothing), Base.Threads.SpinLock(0)), (0, 140228935007168, 140228935007168)))), WebIO.JSString[WebIO.JSString(\"function () {\\n    var handler = (function (ko, koPunches) {\\n    ko.punches.enableAll();\\n    ko.bindingHandlers.numericValue = {\\n        init: function(element, valueAccessor, allBindings, data, context) {\\n            var stringified = ko.observable(ko.unwrap(valueAccessor()));\\n            stringified.subscribe(function(value) {\\n                var val = parseFloat(value);\\n                if (!isNaN(val)) {\\n                    valueAccessor()(val);\\n                }\\n            });\\n            valueAccessor().subscribe(function(value) {\\n                var str = JSON.stringify(value);\\n                if ((str == \\\"0\\\") && ([\\\"-0\\\", \\\"-0.\\\"].indexOf(stringified()) >= 0))\\n                     return;\\n                 if ([\\\"null\\\", \\\"\\\"].indexOf(str) >= 0)\\n                     return;\\n                stringified(str);\\n            });\\n            ko.applyBindingsToNode(\\n                element,\\n                {\\n                    value: stringified,\\n                    valueUpdate: allBindings.get('valueUpdate'),\\n                },\\n                context,\\n            );\\n        }\\n    };\\n    var json_data = {\\\"formatted_vals\\\":[\\\"0.05\\\",\\\"0.1\\\",\\\"0.15\\\",\\\"0.2\\\",\\\"0.25\\\",\\\"0.3\\\",\\\"0.35\\\",\\\"0.4\\\",\\\"0.45\\\",\\\"0.5\\\",\\\"0.55\\\",\\\"0.6\\\",\\\"0.65\\\",\\\"0.7\\\",\\\"0.75\\\",\\\"0.8\\\",\\\"0.85\\\",\\\"0.9\\\",\\\"0.95\\\",\\\"1.0\\\",\\\"1.05\\\",\\\"1.1\\\",\\\"1.15\\\",\\\"1.2\\\",\\\"1.25\\\",\\\"1.3\\\",\\\"1.35\\\",\\\"1.4\\\",\\\"1.45\\\",\\\"1.5\\\",\\\"1.55\\\",\\\"1.6\\\",\\\"1.65\\\",\\\"1.7\\\",\\\"1.75\\\",\\\"1.8\\\",\\\"1.85\\\",\\\"1.9\\\",\\\"1.95\\\",\\\"2.0\\\",\\\"2.05\\\",\\\"2.1\\\",\\\"2.15\\\",\\\"2.2\\\",\\\"2.25\\\",\\\"2.3\\\",\\\"2.35\\\",\\\"2.4\\\",\\\"2.45\\\",\\\"2.5\\\",\\\"2.55\\\",\\\"2.6\\\",\\\"2.65\\\",\\\"2.7\\\",\\\"2.75\\\",\\\"2.8\\\",\\\"2.85\\\",\\\"2.9\\\",\\\"2.95\\\",\\\"3.0\\\",\\\"3.05\\\",\\\"3.1\\\",\\\"3.15\\\",\\\"3.2\\\",\\\"3.25\\\",\\\"3.3\\\",\\\"3.35\\\",\\\"3.4\\\",\\\"3.45\\\",\\\"3.5\\\",\\\"3.55\\\",\\\"3.6\\\",\\\"3.65\\\",\\\"3.7\\\",\\\"3.75\\\",\\\"3.8\\\",\\\"3.85\\\",\\\"3.9\\\",\\\"3.95\\\",\\\"4.0\\\",\\\"4.05\\\",\\\"4.1\\\",\\\"4.15\\\",\\\"4.2\\\",\\\"4.25\\\",\\\"4.3\\\",\\\"4.35\\\",\\\"4.4\\\",\\\"4.45\\\",\\\"4.5\\\",\\\"4.55\\\",\\\"4.6\\\",\\\"4.65\\\",\\\"4.7\\\",\\\"4.75\\\",\\\"4.8\\\",\\\"4.85\\\",\\\"4.9\\\",\\\"4.95\\\",\\\"5.0\\\"],\\\"changes\\\":WebIO.getval({\\\"name\\\":\\\"changes\\\",\\\"scope\\\":\\\"18112036964177623337\\\",\\\"id\\\":\\\"17428216749860293952\\\",\\\"type\\\":\\\"observable\\\"}),\\\"index\\\":WebIO.getval({\\\"name\\\":\\\"index\\\",\\\"scope\\\":\\\"18112036964177623337\\\",\\\"id\\\":\\\"4137255854947276647\\\",\\\"type\\\":\\\"observable\\\"})};\\n    var self = this;\\n    function AppViewModel() {\\n        for (var key in json_data) {\\n            var el = json_data[key];\\n            this[key] = Array.isArray(el) ? ko.observableArray(el) : ko.observable(el);\\n        }\\n        \\n        [this[\\\"formatted_val\\\"]=ko.computed(    function(){\\n        return this.formatted_vals()[parseInt(this.index())-(1)];\\n    }\\n,this)]\\n        [this[\\\"changes\\\"].subscribe((function (val){!(this.valueFromJulia[\\\"changes\\\"]) ? (WebIO.setval({\\\"name\\\":\\\"changes\\\",\\\"scope\\\":\\\"18112036964177623337\\\",\\\"id\\\":\\\"17428216749860293952\\\",\\\"type\\\":\\\"observable\\\"},val)) : undefined; return this.valueFromJulia[\\\"changes\\\"]=false}),self),this[\\\"index\\\"].subscribe((function (val){!(this.valueFromJulia[\\\"index\\\"]) ? (WebIO.setval({\\\"name\\\":\\\"index\\\",\\\"scope\\\":\\\"18112036964177623337\\\",\\\"id\\\":\\\"4137255854947276647\\\",\\\"type\\\":\\\"observable\\\"},val)) : undefined; return this.valueFromJulia[\\\"index\\\"]=false}),self)]\\n        \\n    }\\n    self.model = new AppViewModel();\\n    self.valueFromJulia = {};\\n    for (var key in json_data) {\\n        self.valueFromJulia[key] = false;\\n    }\\n    ko.applyBindings(self.model, self.dom);\\n}\\n);\\n    (WebIO.importBlock({\\\"data\\\":[{\\\"name\\\":\\\"knockout\\\",\\\"type\\\":\\\"js\\\",\\\"url\\\":\\\"/assetserver/727383f2a47bd31570b7da84eee7b022dd6d7c78-knockout.js\\\"},{\\\"name\\\":\\\"knockout_punches\\\",\\\"type\\\":\\\"js\\\",\\\"url\\\":\\\"/assetserver/382b41b3b1bd9f26f75861d360bad7f8beea211f-knockout_punches.js\\\"}],\\\"type\\\":\\\"async_block\\\"})).then((imports) => handler.apply(this, imports));\\n}\\n\")])], Dict{Symbol, Any}(:className => \"field interact-widget\")), WebIO.Node{WebIO.DOM}(WebIO.DOM(:html, :div), Any[WebIO.Scope(WebIO.Node{WebIO.DOM}(WebIO.DOM(:html, :div), Any[WebIO.Node{WebIO.DOM}(WebIO.DOM(:html, :div), Any[WebIO.Node{WebIO.DOM}(WebIO.DOM(:html, :label), Any[\"coupl\"], Dict{Symbol, Any}(:className => \"interact \", :style => Dict{Any, Any}(:padding => \"5px 10px 0px 10px\")))], Dict{Symbol, Any}(:className => \"interact-flex-row-left\")), WebIO.Node{WebIO.DOM}(WebIO.DOM(:html, :div), Any[WebIO.Node{WebIO.DOM}(WebIO.DOM(:html, :input), Any[], Dict{Symbol, Any}(:max => 50, :min => 1, :attributes => Dict{Any, Any}(:type => \"range\", Symbol(\"data-bind\") => \"numericValue: index, valueUpdate: 'input', event: {change: function (){this.changes(this.changes()+1)}}\", \"orient\" => \"horizontal\"), :step => 1, :className => \"slider slider is-fullwidth\", :style => Dict{Any, Any}()))], Dict{Symbol, Any}(:className => \"interact-flex-row-center\")), WebIO.Node{WebIO.DOM}(WebIO.DOM(:html, :div), Any[WebIO.Node{WebIO.DOM}(WebIO.DOM(:html, :p), Any[], Dict{Symbol, Any}(:attributes => Dict(\"data-bind\" => \"text: formatted_val\")))], Dict{Symbol, Any}(:className => \"interact-flex-row-right\"))], Dict{Symbol, Any}(:className => \"interact-flex-row interact-widget\")), Dict{String, Tuple{Observables.AbstractObservable, Union{Nothing, Bool}}}(\"changes\" => (Observable(0), nothing), \"index\" => (Observable{Any}(25), nothing)), Set{String}(), nothing, WebIO.Asset[WebIO.Asset(\"js\", \"knockout\", \"/home/dushya/.julia/packages/Knockout/HReiN/src/../assets/knockout.js\"), WebIO.Asset(\"js\", \"knockout_punches\", \"/home/dushya/.julia/packages/Knockout/HReiN/src/../assets/knockout_punches.js\"), WebIO.Asset(\"js\", nothing, \"/home/dushya/.julia/packages/InteractBase/LJXv3/src/../assets/all.js\"), WebIO.Asset(\"css\", nothing, \"/home/dushya/.julia/packages/InteractBase/LJXv3/src/../assets/style.css\"), WebIO.Asset(\"css\", nothing, \"/home/dushya/.julia/packages/Interact/PENUy/src/../assets/bulma_confined.min.css\")], Dict{Any, Any}(\"changes\" => Any[WebIO.JSString(\"(function (val){return (val!=this.model[\\\"changes\\\"]()) ? (this.valueFromJulia[\\\"changes\\\"]=true, this.model[\\\"changes\\\"](val)) : undefined})\")], \"index\" => Any[WebIO.JSString(\"(function (val){return (val!=this.model[\\\"index\\\"]()) ? (this.valueFromJulia[\\\"index\\\"]=true, this.model[\\\"index\\\"](val)) : undefined})\")]), WebIO.ConnectionPool(Channel{Any}(32), Set{WebIO.AbstractConnection}(), Base.GenericCondition{ReentrantLock}(Base.IntrusiveLinkedList{Task}(Task (runnable) @0x00007f89306a39e0, Task (runnable) @0x00007f89306a39e0), ReentrantLock(nothing, 0x00000000, 0x00, Base.GenericCondition{Base.Threads.SpinLock}(Base.IntrusiveLinkedList{Task}(nothing, nothing), Base.Threads.SpinLock(0)), (0, 0, 139779710648320)))), WebIO.JSString[WebIO.JSString(\"function () {\\n    var handler = (function (ko, koPunches) {\\n    ko.punches.enableAll();\\n    ko.bindingHandlers.numericValue = {\\n        init: function(element, valueAccessor, allBindings, data, context) {\\n            var stringified = ko.observable(ko.unwrap(valueAccessor()));\\n            stringified.subscribe(function(value) {\\n                var val = parseFloat(value);\\n                if (!isNaN(val)) {\\n                    valueAccessor()(val);\\n                }\\n            });\\n            valueAccessor().subscribe(function(value) {\\n                var str = JSON.stringify(value);\\n                if ((str == \\\"0\\\") && ([\\\"-0\\\", \\\"-0.\\\"].indexOf(stringified()) >= 0))\\n                     return;\\n                 if ([\\\"null\\\", \\\"\\\"].indexOf(str) >= 0)\\n                     return;\\n                stringified(str);\\n            });\\n            ko.applyBindingsToNode(\\n                element,\\n                {\\n                    value: stringified,\\n                    valueUpdate: allBindings.get('valueUpdate'),\\n                },\\n                context,\\n            );\\n        }\\n    };\\n    var json_data = {\\\"formatted_vals\\\":[\\\"0.01\\\",\\\"0.11\\\",\\\"0.21\\\",\\\"0.31\\\",\\\"0.41\\\",\\\"0.51\\\",\\\"0.61\\\",\\\"0.71\\\",\\\"0.81\\\",\\\"0.91\\\",\\\"1.01\\\",\\\"1.11\\\",\\\"1.21\\\",\\\"1.31\\\",\\\"1.41\\\",\\\"1.51\\\",\\\"1.61\\\",\\\"1.71\\\",\\\"1.81\\\",\\\"1.91\\\",\\\"2.01\\\",\\\"2.11\\\",\\\"2.21\\\",\\\"2.31\\\",\\\"2.41\\\",\\\"2.51\\\",\\\"2.61\\\",\\\"2.71\\\",\\\"2.81\\\",\\\"2.91\\\",\\\"3.01\\\",\\\"3.11\\\",\\\"3.21\\\",\\\"3.31\\\",\\\"3.41\\\",\\\"3.51\\\",\\\"3.61\\\",\\\"3.71\\\",\\\"3.81\\\",\\\"3.91\\\",\\\"4.01\\\",\\\"4.11\\\",\\\"4.21\\\",\\\"4.31\\\",\\\"4.41\\\",\\\"4.51\\\",\\\"4.61\\\",\\\"4.71\\\",\\\"4.81\\\",\\\"4.91\\\"],\\\"changes\\\":WebIO.getval({\\\"name\\\":\\\"changes\\\",\\\"scope\\\":\\\"3124713593037666460\\\",\\\"id\\\":\\\"13038248926317711409\\\",\\\"type\\\":\\\"observable\\\"}),\\\"index\\\":WebIO.getval({\\\"name\\\":\\\"index\\\",\\\"scope\\\":\\\"3124713593037666460\\\",\\\"id\\\":\\\"11664400769438141152\\\",\\\"type\\\":\\\"observable\\\"})};\\n    var self = this;\\n    function AppViewModel() {\\n        for (var key in json_data) {\\n            var el = json_data[key];\\n            this[key] = Array.isArray(el) ? ko.observableArray(el) : ko.observable(el);\\n        }\\n        \\n        [this[\\\"formatted_val\\\"]=ko.computed(    function(){\\n        return this.formatted_vals()[parseInt(this.index())-(1)];\\n    }\\n,this)]\\n        [this[\\\"changes\\\"].subscribe((function (val){!(this.valueFromJulia[\\\"changes\\\"]) ? (WebIO.setval({\\\"name\\\":\\\"changes\\\",\\\"scope\\\":\\\"3124713593037666460\\\",\\\"id\\\":\\\"13038248926317711409\\\",\\\"type\\\":\\\"observable\\\"},val)) : undefined; return this.valueFromJulia[\\\"changes\\\"]=false}),self),this[\\\"index\\\"].subscribe((function (val){!(this.valueFromJulia[\\\"index\\\"]) ? (WebIO.setval({\\\"name\\\":\\\"index\\\",\\\"scope\\\":\\\"3124713593037666460\\\",\\\"id\\\":\\\"11664400769438141152\\\",\\\"type\\\":\\\"observable\\\"},val)) : undefined; return this.valueFromJulia[\\\"index\\\"]=false}),self)]\\n        \\n    }\\n    self.model = new AppViewModel();\\n    self.valueFromJulia = {};\\n    for (var key in json_data) {\\n        self.valueFromJulia[key] = false;\\n    }\\n    ko.applyBindings(self.model, self.dom);\\n}\\n);\\n    (WebIO.importBlock({\\\"data\\\":[{\\\"name\\\":\\\"knockout\\\",\\\"type\\\":\\\"js\\\",\\\"url\\\":\\\"/assetserver/727383f2a47bd31570b7da84eee7b022dd6d7c78-knockout.js\\\"},{\\\"name\\\":\\\"knockout_punches\\\",\\\"type\\\":\\\"js\\\",\\\"url\\\":\\\"/assetserver/382b41b3b1bd9f26f75861d360bad7f8beea211f-knockout_punches.js\\\"}],\\\"type\\\":\\\"async_block\\\"})).then((imports) => handler.apply(this, imports));\\n}\\n\")])], Dict{Symbol, Any}(:className => \"field interact-widget\"))], Dict{Symbol, Any}(:style => Dict(\"display\" => \"flex\", \"flex-direction\" => \"column\"))), WebIO.Node{WebIO.DOM}(WebIO.DOM(:html, :div), Any[WebIO.Node{WebIO.DOM}(WebIO.DOM(:html, :div), Any[WebIO.Scope(WebIO.Node{WebIO.DOM}(WebIO.DOM(:html, :div), Any[], Dict{Symbol, Any}(:id => \"container\")), Dict{String, Tuple{Observables.AbstractObservable, Union{Nothing, Bool}}}(\"value\" => (Observable(\"\\\\;\\\\;\"), nothing)), Set{String}(), nothing, WebIO.Asset[WebIO.Asset(\"js\", nothing, \"/home/dushya/.julia/packages/InteractBase/LJXv3/src/../assets/katex.min.js\"), WebIO.Asset(\"css\", nothing, \"/home/dushya/.julia/packages/InteractBase/LJXv3/src/../assets/katex.min.css\")], Dict{Any, Any}(\"value\" => Any[WebIO.JSString(\"(function (txt){return this.k.render(txt,this.container)})\")]), WebIO.ConnectionPool(Channel{Any}(32), Set{WebIO.AbstractConnection}(), Base.GenericCondition{ReentrantLock}(Base.IntrusiveLinkedList{Task}(Task (runnable) @0x00007f8931bf8330, Task (runnable) @0x00007f8931bf8330), ReentrantLock(nothing, 0x00000000, 0x00, Base.GenericCondition{Base.Threads.SpinLock}(Base.IntrusiveLinkedList{Task}(nothing, nothing), Base.Threads.SpinLock(0)), (0, 0, 139779710648320)))), WebIO.JSString[WebIO.JSString(\"function () {\\n    var handler = ((function (k){this.k=k; this.container=this.dom.querySelector(\\\"#container\\\"); return k.render(\\\"\\\\\\\\;\\\\\\\\;\\\",this.container)}));\\n    (WebIO.importBlock({\\\"data\\\":[{\\\"name\\\":null,\\\"type\\\":\\\"js\\\",\\\"url\\\":\\\"/assetserver/dd22ed1bf1896c2748f3fe616ce0b838adc895c1-katex.min.js\\\"},{\\\"name\\\":null,\\\"type\\\":\\\"css\\\",\\\"url\\\":\\\"/assetserver/46517a424aa5e6cffc1360d7e0848b601c584ee3-katex.min.css\\\"}],\\\"type\\\":\\\"async_block\\\"})).then((imports) => handler.apply(this, imports));\\n}\\n\")])], Dict{Symbol, Any}(:className => \"interact-widget\")), WebIO.Node{WebIO.DOM}(WebIO.DOM(:html, :div), Any[WebIO.Scope(WebIO.Node{WebIO.DOM}(WebIO.DOM(:html, :button), Any[\"run\"], Dict{Symbol, Any}(:attributes => Dict{Any, Any}(\"data-bind\" => \"click: function (){this.clicks(this.clicks()+1)}, css: {'is-loading' : loading}\"), :className => \"is-medium button is-primary\", :style => Dict{String, Any}())), Dict{String, Tuple{Observables.AbstractObservable, Union{Nothing, Bool}}}(\"loading\" => (Observable(false), nothing), \"clicks\" => (Observable(0), nothing)), Set{String}(), nothing, WebIO.Asset[WebIO.Asset(\"js\", \"knockout\", \"/home/dushya/.julia/packages/Knockout/HReiN/src/../assets/knockout.js\"), WebIO.Asset(\"js\", \"knockout_punches\", \"/home/dushya/.julia/packages/Knockout/HReiN/src/../assets/knockout_punches.js\"), WebIO.Asset(\"js\", nothing, \"/home/dushya/.julia/packages/InteractBase/LJXv3/src/../assets/all.js\"), WebIO.Asset(\"css\", nothing, \"/home/dushya/.julia/packages/InteractBase/LJXv3/src/../assets/style.css\"), WebIO.Asset(\"css\", nothing, \"/home/dushya/.julia/packages/Interact/PENUy/src/../assets/bulma_confined.min.css\")], Dict{Any, Any}(\"loading\" => Any[WebIO.JSString(\"(function (val){return (val!=this.model[\\\"loading\\\"]()) ? (this.valueFromJulia[\\\"loading\\\"]=true, this.model[\\\"loading\\\"](val)) : undefined})\")], \"clicks\" => Any[WebIO.JSString(\"(function (val){return (val!=this.model[\\\"clicks\\\"]()) ? (this.valueFromJulia[\\\"clicks\\\"]=true, this.model[\\\"clicks\\\"](val)) : undefined})\")]), WebIO.ConnectionPool(Channel{Any}(32), Set{WebIO.AbstractConnection}(), Base.GenericCondition{ReentrantLock}(Base.IntrusiveLinkedList{Task}(Task (runnable) @0x00007f89306a6a40, Task (runnable) @0x00007f89306a6a40), ReentrantLock(nothing, 0x00000000, 0x00, Base.GenericCondition{Base.Threads.SpinLock}(Base.IntrusiveLinkedList{Task}(nothing, nothing), Base.Threads.SpinLock(0)), (2, 140226937175424, 140226937340496)))), WebIO.JSString[WebIO.JSString(\"function () {\\n    var handler = (function (ko, koPunches) {\\n    ko.punches.enableAll();\\n    ko.bindingHandlers.numericValue = {\\n        init: function(element, valueAccessor, allBindings, data, context) {\\n            var stringified = ko.observable(ko.unwrap(valueAccessor()));\\n            stringified.subscribe(function(value) {\\n                var val = parseFloat(value);\\n                if (!isNaN(val)) {\\n                    valueAccessor()(val);\\n                }\\n            });\\n            valueAccessor().subscribe(function(value) {\\n                var str = JSON.stringify(value);\\n                if ((str == \\\"0\\\") && ([\\\"-0\\\", \\\"-0.\\\"].indexOf(stringified()) >= 0))\\n                     return;\\n                 if ([\\\"null\\\", \\\"\\\"].indexOf(str) >= 0)\\n                     return;\\n                stringified(str);\\n            });\\n            ko.applyBindingsToNode(\\n                element,\\n                {\\n                    value: stringified,\\n                    valueUpdate: allBindings.get('valueUpdate'),\\n                },\\n                context,\\n            );\\n        }\\n    };\\n    var json_data = {\\\"loading\\\":WebIO.getval({\\\"name\\\":\\\"loading\\\",\\\"scope\\\":\\\"9074824984737844201\\\",\\\"id\\\":\\\"9606634648758145019\\\",\\\"type\\\":\\\"observable\\\"}),\\\"clicks\\\":WebIO.getval({\\\"name\\\":\\\"clicks\\\",\\\"scope\\\":\\\"9074824984737844201\\\",\\\"id\\\":\\\"10839453678824350616\\\",\\\"type\\\":\\\"observable\\\"})};\\n    var self = this;\\n    function AppViewModel() {\\n        for (var key in json_data) {\\n            var el = json_data[key];\\n            this[key] = Array.isArray(el) ? ko.observableArray(el) : ko.observable(el);\\n        }\\n        \\n        \\n        [this[\\\"loading\\\"].subscribe((function (val){!(this.valueFromJulia[\\\"loading\\\"]) ? (WebIO.setval({\\\"name\\\":\\\"loading\\\",\\\"scope\\\":\\\"9074824984737844201\\\",\\\"id\\\":\\\"9606634648758145019\\\",\\\"type\\\":\\\"observable\\\"},val)) : undefined; return this.valueFromJulia[\\\"loading\\\"]=false}),self),this[\\\"clicks\\\"].subscribe((function (val){!(this.valueFromJulia[\\\"clicks\\\"]) ? (WebIO.setval({\\\"name\\\":\\\"clicks\\\",\\\"scope\\\":\\\"9074824984737844201\\\",\\\"id\\\":\\\"10839453678824350616\\\",\\\"type\\\":\\\"observable\\\"},val)) : undefined; return this.valueFromJulia[\\\"clicks\\\"]=false}),self)]\\n        \\n    }\\n    self.model = new AppViewModel();\\n    self.valueFromJulia = {};\\n    for (var key in json_data) {\\n        self.valueFromJulia[key] = false;\\n    }\\n    ko.applyBindings(self.model, self.dom);\\n}\\n);\\n    (WebIO.importBlock({\\\"data\\\":[{\\\"name\\\":\\\"knockout\\\",\\\"type\\\":\\\"js\\\",\\\"url\\\":\\\"/assetserver/727383f2a47bd31570b7da84eee7b022dd6d7c78-knockout.js\\\"},{\\\"name\\\":\\\"knockout_punches\\\",\\\"type\\\":\\\"js\\\",\\\"url\\\":\\\"/assetserver/382b41b3b1bd9f26f75861d360bad7f8beea211f-knockout_punches.js\\\"}],\\\"type\\\":\\\"async_block\\\"})).then((imports) => handler.apply(this, imports));\\n}\\n\")])], Dict{Symbol, Any}(:className => \"field interact-widget\")), WebIO.Node{WebIO.DOM}(WebIO.DOM(:html, :div), Any[WebIO.Scope(WebIO.Node{WebIO.DOM}(WebIO.DOM(:html, :div), Any[], Dict{Symbol, Any}(:id => \"container\")), Dict{String, Tuple{Observables.AbstractObservable, Union{Nothing, Bool}}}(\"value\" => (Observable(\"\\\\;\\\\;\"), nothing)), Set{String}(), nothing, WebIO.Asset[WebIO.Asset(\"js\", nothing, \"/home/dushya/.julia/packages/InteractBase/LJXv3/src/../assets/katex.min.js\"), WebIO.Asset(\"css\", nothing, \"/home/dushya/.julia/packages/InteractBase/LJXv3/src/../assets/katex.min.css\")], Dict{Any, Any}(\"value\" => Any[WebIO.JSString(\"(function (txt){return this.k.render(txt,this.container)})\")]), WebIO.ConnectionPool(Channel{Any}(32), Set{WebIO.AbstractConnection}(), Base.GenericCondition{ReentrantLock}(Base.IntrusiveLinkedList{Task}(Task (runnable) @0x00007f8931bf8330, Task (runnable) @0x00007f8931bf8330), ReentrantLock(nothing, 0x00000000, 0x00, Base.GenericCondition{Base.Threads.SpinLock}(Base.IntrusiveLinkedList{Task}(nothing, nothing), Base.Threads.SpinLock(0)), (0, 0, 139779710648320)))), WebIO.JSString[WebIO.JSString(\"function () {\\n    var handler = ((function (k){this.k=k; this.container=this.dom.querySelector(\\\"#container\\\"); return k.render(\\\"\\\\\\\\;\\\\\\\\;\\\",this.container)}));\\n    (WebIO.importBlock({\\\"data\\\":[{\\\"name\\\":null,\\\"type\\\":\\\"js\\\",\\\"url\\\":\\\"/assetserver/dd22ed1bf1896c2748f3fe616ce0b838adc895c1-katex.min.js\\\"},{\\\"name\\\":null,\\\"type\\\":\\\"css\\\",\\\"url\\\":\\\"/assetserver/46517a424aa5e6cffc1360d7e0848b601c584ee3-katex.min.css\\\"}],\\\"type\\\":\\\"async_block\\\"})).then((imports) => handler.apply(this, imports));\\n}\\n\")])], Dict{Symbol, Any}(:className => \"interact-widget\")), WebIO.Node{WebIO.DOM}(WebIO.DOM(:html, :div), Any[WebIO.Scope(WebIO.Node{WebIO.DOM}(WebIO.DOM(:html, :button), Any[\"stop\"], Dict{Symbol, Any}(:attributes => Dict{Any, Any}(\"data-bind\" => \"click: function (){this.clicks(this.clicks()+1)}, css: {'is-loading' : loading}\"), :className => \"is-medium button is-primary\", :style => Dict{String, Any}())), Dict{String, Tuple{Observables.AbstractObservable, Union{Nothing, Bool}}}(\"loading\" => (Observable(false), nothing), \"clicks\" => (Observable(0), nothing)), Set{String}(), nothing, WebIO.Asset[WebIO.Asset(\"js\", \"knockout\", \"/home/dushya/.julia/packages/Knockout/HReiN/src/../assets/knockout.js\"), WebIO.Asset(\"js\", \"knockout_punches\", \"/home/dushya/.julia/packages/Knockout/HReiN/src/../assets/knockout_punches.js\"), WebIO.Asset(\"js\", nothing, \"/home/dushya/.julia/packages/InteractBase/LJXv3/src/../assets/all.js\"), WebIO.Asset(\"css\", nothing, \"/home/dushya/.julia/packages/InteractBase/LJXv3/src/../assets/style.css\"), WebIO.Asset(\"css\", nothing, \"/home/dushya/.julia/packages/Interact/PENUy/src/../assets/bulma_confined.min.css\")], Dict{Any, Any}(\"loading\" => Any[WebIO.JSString(\"(function (val){return (val!=this.model[\\\"loading\\\"]()) ? (this.valueFromJulia[\\\"loading\\\"]=true, this.model[\\\"loading\\\"](val)) : undefined})\")], \"clicks\" => Any[WebIO.JSString(\"(function (val){return (val!=this.model[\\\"clicks\\\"]()) ? (this.valueFromJulia[\\\"clicks\\\"]=true, this.model[\\\"clicks\\\"](val)) : undefined})\")]), WebIO.ConnectionPool(Channel{Any}(32), Set{WebIO.AbstractConnection}(), Base.GenericCondition{ReentrantLock}(Base.IntrusiveLinkedList{Task}(Task (runnable) @0x00007f89306c1460, Task (runnable) @0x00007f89306c1460), ReentrantLock(nothing, 0x00000000, 0x00, Base.GenericCondition{Base.Threads.SpinLock}(Base.IntrusiveLinkedList{Task}(nothing, nothing), Base.Threads.SpinLock(0)), (8, 140226957565136, 140226937096720)))), WebIO.JSString[WebIO.JSString(\"function () {\\n    var handler = (function (ko, koPunches) {\\n    ko.punches.enableAll();\\n    ko.bindingHandlers.numericValue = {\\n        init: function(element, valueAccessor, allBindings, data, context) {\\n            var stringified = ko.observable(ko.unwrap(valueAccessor()));\\n            stringified.subscribe(function(value) {\\n                var val = parseFloat(value);\\n                if (!isNaN(val)) {\\n                    valueAccessor()(val);\\n                }\\n            });\\n            valueAccessor().subscribe(function(value) {\\n                var str = JSON.stringify(value);\\n                if ((str == \\\"0\\\") && ([\\\"-0\\\", \\\"-0.\\\"].indexOf(stringified()) >= 0))\\n                     return;\\n                 if ([\\\"null\\\", \\\"\\\"].indexOf(str) >= 0)\\n                     return;\\n                stringified(str);\\n            });\\n            ko.applyBindingsToNode(\\n                element,\\n                {\\n                    value: stringified,\\n                    valueUpdate: allBindings.get('valueUpdate'),\\n                },\\n                context,\\n            );\\n        }\\n    };\\n    var json_data = {\\\"loading\\\":WebIO.getval({\\\"name\\\":\\\"loading\\\",\\\"scope\\\":\\\"3695857661411532394\\\",\\\"id\\\":\\\"6513945076055131880\\\",\\\"type\\\":\\\"observable\\\"}),\\\"clicks\\\":WebIO.getval({\\\"name\\\":\\\"clicks\\\",\\\"scope\\\":\\\"3695857661411532394\\\",\\\"id\\\":\\\"18308020176429693320\\\",\\\"type\\\":\\\"observable\\\"})};\\n    var self = this;\\n    function AppViewModel() {\\n        for (var key in json_data) {\\n            var el = json_data[key];\\n            this[key] = Array.isArray(el) ? ko.observableArray(el) : ko.observable(el);\\n        }\\n        \\n        \\n        [this[\\\"loading\\\"].subscribe((function (val){!(this.valueFromJulia[\\\"loading\\\"]) ? (WebIO.setval({\\\"name\\\":\\\"loading\\\",\\\"scope\\\":\\\"3695857661411532394\\\",\\\"id\\\":\\\"6513945076055131880\\\",\\\"type\\\":\\\"observable\\\"},val)) : undefined; return this.valueFromJulia[\\\"loading\\\"]=false}),self),this[\\\"clicks\\\"].subscribe((function (val){!(this.valueFromJulia[\\\"clicks\\\"]) ? (WebIO.setval({\\\"name\\\":\\\"clicks\\\",\\\"scope\\\":\\\"3695857661411532394\\\",\\\"id\\\":\\\"18308020176429693320\\\",\\\"type\\\":\\\"observable\\\"},val)) : undefined; return this.valueFromJulia[\\\"clicks\\\"]=false}),self)]\\n        \\n    }\\n    self.model = new AppViewModel();\\n    self.valueFromJulia = {};\\n    for (var key in json_data) {\\n        self.valueFromJulia[key] = false;\\n    }\\n    ko.applyBindings(self.model, self.dom);\\n}\\n);\\n    (WebIO.importBlock({\\\"data\\\":[{\\\"name\\\":\\\"knockout\\\",\\\"type\\\":\\\"js\\\",\\\"url\\\":\\\"/assetserver/727383f2a47bd31570b7da84eee7b022dd6d7c78-knockout.js\\\"},{\\\"name\\\":\\\"knockout_punches\\\",\\\"type\\\":\\\"js\\\",\\\"url\\\":\\\"/assetserver/382b41b3b1bd9f26f75861d360bad7f8beea211f-knockout_punches.js\\\"}],\\\"type\\\":\\\"async_block\\\"})).then((imports) => handler.apply(this, imports));\\n}\\n\")])], Dict{Symbol, Any}(:className => \"field interact-widget\")), WebIO.Node{WebIO.DOM}(WebIO.DOM(:html, :div), Any[WebIO.Scope(WebIO.Node{WebIO.DOM}(WebIO.DOM(:html, :div), Any[], Dict{Symbol, Any}(:id => \"container\")), Dict{String, Tuple{Observables.AbstractObservable, Union{Nothing, Bool}}}(\"value\" => (Observable(\"\\\\;\\\\;\"), nothing)), Set{String}(), nothing, WebIO.Asset[WebIO.Asset(\"js\", nothing, \"/home/dushya/.julia/packages/InteractBase/LJXv3/src/../assets/katex.min.js\"), WebIO.Asset(\"css\", nothing, \"/home/dushya/.julia/packages/InteractBase/LJXv3/src/../assets/katex.min.css\")], Dict{Any, Any}(\"value\" => Any[WebIO.JSString(\"(function (txt){return this.k.render(txt,this.container)})\")]), WebIO.ConnectionPool(Channel{Any}(32), Set{WebIO.AbstractConnection}(), Base.GenericCondition{ReentrantLock}(Base.IntrusiveLinkedList{Task}(Task (runnable) @0x00007f8931bf8330, Task (runnable) @0x00007f8931bf8330), ReentrantLock(nothing, 0x00000000, 0x00, Base.GenericCondition{Base.Threads.SpinLock}(Base.IntrusiveLinkedList{Task}(nothing, nothing), Base.Threads.SpinLock(0)), (0, 0, 139779710648320)))), WebIO.JSString[WebIO.JSString(\"function () {\\n    var handler = ((function (k){this.k=k; this.container=this.dom.querySelector(\\\"#container\\\"); return k.render(\\\"\\\\\\\\;\\\\\\\\;\\\",this.container)}));\\n    (WebIO.importBlock({\\\"data\\\":[{\\\"name\\\":null,\\\"type\\\":\\\"js\\\",\\\"url\\\":\\\"/assetserver/dd22ed1bf1896c2748f3fe616ce0b838adc895c1-katex.min.js\\\"},{\\\"name\\\":null,\\\"type\\\":\\\"css\\\",\\\"url\\\":\\\"/assetserver/46517a424aa5e6cffc1360d7e0848b601c584ee3-katex.min.css\\\"}],\\\"type\\\":\\\"async_block\\\"})).then((imports) => handler.apply(this, imports));\\n}\\n\")])], Dict{Symbol, Any}(:className => \"interact-widget\")), WebIO.Node{WebIO.DOM}(WebIO.DOM(:html, :div), Any[WebIO.Scope(WebIO.Node{WebIO.DOM}(WebIO.DOM(:html, :button), Any[\"reset\"], Dict{Symbol, Any}(:attributes => Dict{Any, Any}(\"data-bind\" => \"click: function (){this.clicks(this.clicks()+1)}, css: {'is-loading' : loading}\"), :className => \"is-medium button is-primary\", :style => Dict{String, Any}())), Dict{String, Tuple{Observables.AbstractObservable, Union{Nothing, Bool}}}(\"loading\" => (Observable(false), nothing), \"clicks\" => (Observable(0), nothing)), Set{String}(), nothing, WebIO.Asset[WebIO.Asset(\"js\", \"knockout\", \"/home/dushya/.julia/packages/Knockout/HReiN/src/../assets/knockout.js\"), WebIO.Asset(\"js\", \"knockout_punches\", \"/home/dushya/.julia/packages/Knockout/HReiN/src/../assets/knockout_punches.js\"), WebIO.Asset(\"js\", nothing, \"/home/dushya/.julia/packages/InteractBase/LJXv3/src/../assets/all.js\"), WebIO.Asset(\"css\", nothing, \"/home/dushya/.julia/packages/InteractBase/LJXv3/src/../assets/style.css\"), WebIO.Asset(\"css\", nothing, \"/home/dushya/.julia/packages/Interact/PENUy/src/../assets/bulma_confined.min.css\")], Dict{Any, Any}(\"loading\" => Any[WebIO.JSString(\"(function (val){return (val!=this.model[\\\"loading\\\"]()) ? (this.valueFromJulia[\\\"loading\\\"]=true, this.model[\\\"loading\\\"](val)) : undefined})\")], \"clicks\" => Any[WebIO.JSString(\"(function (val){return (val!=this.model[\\\"clicks\\\"]()) ? (this.valueFromJulia[\\\"clicks\\\"]=true, this.model[\\\"clicks\\\"](val)) : undefined})\")]), WebIO.ConnectionPool(Channel{Any}(32), Set{WebIO.AbstractConnection}(), Base.GenericCondition{ReentrantLock}(Base.IntrusiveLinkedList{Task}(Task (runnable) @0x00007f89306c3d00, Task (runnable) @0x00007f89306c3d00), ReentrantLock(nothing, 0x00000000, 0x00, Base.GenericCondition{Base.Threads.SpinLock}(Base.IntrusiveLinkedList{Task}(nothing, nothing), Base.Threads.SpinLock(0)), (0, 140229011903552, 140229011903552)))), WebIO.JSString[WebIO.JSString(\"function () {\\n    var handler = (function (ko, koPunches) {\\n    ko.punches.enableAll();\\n    ko.bindingHandlers.numericValue = {\\n        init: function(element, valueAccessor, allBindings, data, context) {\\n            var stringified = ko.observable(ko.unwrap(valueAccessor()));\\n            stringified.subscribe(function(value) {\\n                var val = parseFloat(value);\\n                if (!isNaN(val)) {\\n                    valueAccessor()(val);\\n                }\\n            });\\n            valueAccessor().subscribe(function(value) {\\n                var str = JSON.stringify(value);\\n                if ((str == \\\"0\\\") && ([\\\"-0\\\", \\\"-0.\\\"].indexOf(stringified()) >= 0))\\n                     return;\\n                 if ([\\\"null\\\", \\\"\\\"].indexOf(str) >= 0)\\n                     return;\\n                stringified(str);\\n            });\\n            ko.applyBindingsToNode(\\n                element,\\n                {\\n                    value: stringified,\\n                    valueUpdate: allBindings.get('valueUpdate'),\\n                },\\n                context,\\n            );\\n        }\\n    };\\n    var json_data = {\\\"loading\\\":WebIO.getval({\\\"name\\\":\\\"loading\\\",\\\"scope\\\":\\\"12107080336736550027\\\",\\\"id\\\":\\\"18340448997831719234\\\",\\\"type\\\":\\\"observable\\\"}),\\\"clicks\\\":WebIO.getval({\\\"name\\\":\\\"clicks\\\",\\\"scope\\\":\\\"12107080336736550027\\\",\\\"id\\\":\\\"443506785227844637\\\",\\\"type\\\":\\\"observable\\\"})};\\n    var self = this;\\n    function AppViewModel() {\\n        for (var key in json_data) {\\n            var el = json_data[key];\\n            this[key] = Array.isArray(el) ? ko.observableArray(el) : ko.observable(el);\\n        }\\n        \\n        \\n        [this[\\\"loading\\\"].subscribe((function (val){!(this.valueFromJulia[\\\"loading\\\"]) ? (WebIO.setval({\\\"name\\\":\\\"loading\\\",\\\"scope\\\":\\\"12107080336736550027\\\",\\\"id\\\":\\\"18340448997831719234\\\",\\\"type\\\":\\\"observable\\\"},val)) : undefined; return this.valueFromJulia[\\\"loading\\\"]=false}),self),this[\\\"clicks\\\"].subscribe((function (val){!(this.valueFromJulia[\\\"clicks\\\"]) ? (WebIO.setval({\\\"name\\\":\\\"clicks\\\",\\\"scope\\\":\\\"12107080336736550027\\\",\\\"id\\\":\\\"443506785227844637\\\",\\\"type\\\":\\\"observable\\\"},val)) : undefined; return this.valueFromJulia[\\\"clicks\\\"]=false}),self)]\\n        \\n    }\\n    self.model = new AppViewModel();\\n    self.valueFromJulia = {};\\n    for (var key in json_data) {\\n        self.valueFromJulia[key] = false;\\n    }\\n    ko.applyBindings(self.model, self.dom);\\n}\\n);\\n    (WebIO.importBlock({\\\"data\\\":[{\\\"name\\\":\\\"knockout\\\",\\\"type\\\":\\\"js\\\",\\\"url\\\":\\\"/assetserver/727383f2a47bd31570b7da84eee7b022dd6d7c78-knockout.js\\\"},{\\\"name\\\":\\\"knockout_punches\\\",\\\"type\\\":\\\"js\\\",\\\"url\\\":\\\"/assetserver/382b41b3b1bd9f26f75861d360bad7f8beea211f-knockout_punches.js\\\"}],\\\"type\\\":\\\"async_block\\\"})).then((imports) => handler.apply(this, imports));\\n}\\n\")])], Dict{Symbol, Any}(:className => \"field interact-widget\")), WebIO.Node{WebIO.DOM}(WebIO.DOM(:html, :div), Any[WebIO.Scope(WebIO.Node{WebIO.DOM}(WebIO.DOM(:html, :div), Any[], Dict{Symbol, Any}(:id => \"container\")), Dict{String, Tuple{Observables.AbstractObservable, Union{Nothing, Bool}}}(\"value\" => (Observable(\"\\\\;\\\\;\"), nothing)), Set{String}(), nothing, WebIO.Asset[WebIO.Asset(\"js\", nothing, \"/home/dushya/.julia/packages/InteractBase/LJXv3/src/../assets/katex.min.js\"), WebIO.Asset(\"css\", nothing, \"/home/dushya/.julia/packages/InteractBase/LJXv3/src/../assets/katex.min.css\")], Dict{Any, Any}(\"value\" => Any[WebIO.JSString(\"(function (txt){return this.k.render(txt,this.container)})\")]), WebIO.ConnectionPool(Channel{Any}(32), Set{WebIO.AbstractConnection}(), Base.GenericCondition{ReentrantLock}(Base.IntrusiveLinkedList{Task}(Task (runnable) @0x00007f8931bf8330, Task (runnable) @0x00007f8931bf8330), ReentrantLock(nothing, 0x00000000, 0x00, Base.GenericCondition{Base.Threads.SpinLock}(Base.IntrusiveLinkedList{Task}(nothing, nothing), Base.Threads.SpinLock(0)), (0, 0, 139779710648320)))), WebIO.JSString[WebIO.JSString(\"function () {\\n    var handler = ((function (k){this.k=k; this.container=this.dom.querySelector(\\\"#container\\\"); return k.render(\\\"\\\\\\\\;\\\\\\\\;\\\",this.container)}));\\n    (WebIO.importBlock({\\\"data\\\":[{\\\"name\\\":null,\\\"type\\\":\\\"js\\\",\\\"url\\\":\\\"/assetserver/dd22ed1bf1896c2748f3fe616ce0b838adc895c1-katex.min.js\\\"},{\\\"name\\\":null,\\\"type\\\":\\\"css\\\",\\\"url\\\":\\\"/assetserver/46517a424aa5e6cffc1360d7e0848b601c584ee3-katex.min.css\\\"}],\\\"type\\\":\\\"async_block\\\"})).then((imports) => handler.apply(this, imports));\\n}\\n\")])], Dict{Symbol, Any}(:className => \"interact-widget\")), WebIO.Node{WebIO.DOM}(WebIO.DOM(:html, :div), Any[WebIO.Scope(WebIO.Node{WebIO.DOM}(WebIO.DOM(:html, :button), Any[\"save\"], Dict{Symbol, Any}(:attributes => Dict{Any, Any}(\"data-bind\" => \"click: function (){this.clicks(this.clicks()+1)}, css: {'is-loading' : loading}\"), :className => \"is-medium button is-primary\", :style => Dict{String, Any}())), Dict{String, Tuple{Observables.AbstractObservable, Union{Nothing, Bool}}}(\"loading\" => (Observable(false), nothing), \"clicks\" => (Observable(0), nothing)), Set{String}(), nothing, WebIO.Asset[WebIO.Asset(\"js\", \"knockout\", \"/home/dushya/.julia/packages/Knockout/HReiN/src/../assets/knockout.js\"), WebIO.Asset(\"js\", \"knockout_punches\", \"/home/dushya/.julia/packages/Knockout/HReiN/src/../assets/knockout_punches.js\"), WebIO.Asset(\"js\", nothing, \"/home/dushya/.julia/packages/InteractBase/LJXv3/src/../assets/all.js\"), WebIO.Asset(\"css\", nothing, \"/home/dushya/.julia/packages/InteractBase/LJXv3/src/../assets/style.css\"), WebIO.Asset(\"css\", nothing, \"/home/dushya/.julia/packages/Interact/PENUy/src/../assets/bulma_confined.min.css\")], Dict{Any, Any}(\"loading\" => Any[WebIO.JSString(\"(function (val){return (val!=this.model[\\\"loading\\\"]()) ? (this.valueFromJulia[\\\"loading\\\"]=true, this.model[\\\"loading\\\"](val)) : undefined})\")], \"clicks\" => Any[WebIO.JSString(\"(function (val){return (val!=this.model[\\\"clicks\\\"]()) ? (this.valueFromJulia[\\\"clicks\\\"]=true, this.model[\\\"clicks\\\"](val)) : undefined})\")]), WebIO.ConnectionPool(Channel{Any}(32), Set{WebIO.AbstractConnection}(), Base.GenericCondition{ReentrantLock}(Base.IntrusiveLinkedList{Task}(Task (runnable) @0x00007f893098abd0, Task (runnable) @0x00007f893098abd0), ReentrantLock(nothing, 0x00000000, 0x00, Base.GenericCondition{Base.Threads.SpinLock}(Base.IntrusiveLinkedList{Task}(nothing, nothing), Base.Threads.SpinLock(0)), (0, 140228933341200, 0)))), WebIO.JSString[WebIO.JSString(\"function () {\\n    var handler = (function (ko, koPunches) {\\n    ko.punches.enableAll();\\n    ko.bindingHandlers.numericValue = {\\n        init: function(element, valueAccessor, allBindings, data, context) {\\n            var stringified = ko.observable(ko.unwrap(valueAccessor()));\\n            stringified.subscribe(function(value) {\\n                var val = parseFloat(value);\\n                if (!isNaN(val)) {\\n                    valueAccessor()(val);\\n                }\\n            });\\n            valueAccessor().subscribe(function(value) {\\n                var str = JSON.stringify(value);\\n                if ((str == \\\"0\\\") && ([\\\"-0\\\", \\\"-0.\\\"].indexOf(stringified()) >= 0))\\n                     return;\\n                 if ([\\\"null\\\", \\\"\\\"].indexOf(str) >= 0)\\n                     return;\\n                stringified(str);\\n            });\\n            ko.applyBindingsToNode(\\n                element,\\n                {\\n                    value: stringified,\\n                    valueUpdate: allBindings.get('valueUpdate'),\\n                },\\n                context,\\n            );\\n        }\\n    };\\n    var json_data = {\\\"loading\\\":WebIO.getval({\\\"name\\\":\\\"loading\\\",\\\"scope\\\":\\\"13174014131277298923\\\",\\\"id\\\":\\\"11988767653484166432\\\",\\\"type\\\":\\\"observable\\\"}),\\\"clicks\\\":WebIO.getval({\\\"name\\\":\\\"clicks\\\",\\\"scope\\\":\\\"13174014131277298923\\\",\\\"id\\\":\\\"5155658597778759627\\\",\\\"type\\\":\\\"observable\\\"})};\\n    var self = this;\\n    function AppViewModel() {\\n        for (var key in json_data) {\\n            var el = json_data[key];\\n            this[key] = Array.isArray(el) ? ko.observableArray(el) : ko.observable(el);\\n        }\\n        \\n        \\n        [this[\\\"loading\\\"].subscribe((function (val){!(this.valueFromJulia[\\\"loading\\\"]) ? (WebIO.setval({\\\"name\\\":\\\"loading\\\",\\\"scope\\\":\\\"13174014131277298923\\\",\\\"id\\\":\\\"11988767653484166432\\\",\\\"type\\\":\\\"observable\\\"},val)) : undefined; return this.valueFromJulia[\\\"loading\\\"]=false}),self),this[\\\"clicks\\\"].subscribe((function (val){!(this.valueFromJulia[\\\"clicks\\\"]) ? (WebIO.setval({\\\"name\\\":\\\"clicks\\\",\\\"scope\\\":\\\"13174014131277298923\\\",\\\"id\\\":\\\"5155658597778759627\\\",\\\"type\\\":\\\"observable\\\"},val)) : undefined; return this.valueFromJulia[\\\"clicks\\\"]=false}),self)]\\n        \\n    }\\n    self.model = new AppViewModel();\\n    self.valueFromJulia = {};\\n    for (var key in json_data) {\\n        self.valueFromJulia[key] = false;\\n    }\\n    ko.applyBindings(self.model, self.dom);\\n}\\n);\\n    (WebIO.importBlock({\\\"data\\\":[{\\\"name\\\":\\\"knockout\\\",\\\"type\\\":\\\"js\\\",\\\"url\\\":\\\"/assetserver/727383f2a47bd31570b7da84eee7b022dd6d7c78-knockout.js\\\"},{\\\"name\\\":\\\"knockout_punches\\\",\\\"type\\\":\\\"js\\\",\\\"url\\\":\\\"/assetserver/382b41b3b1bd9f26f75861d360bad7f8beea211f-knockout_punches.js\\\"}],\\\"type\\\":\\\"async_block\\\"})).then((imports) => handler.apply(this, imports));\\n}\\n\")])], Dict{Symbol, Any}(:className => \"field interact-widget\"))], Dict{Symbol, Any}(:style => Dict(\"display\" => \"flex\", \"flex-direction\" => \"row\")))], Dict{Symbol, Any}(:style => Dict(\"display\" => \"flex\", \"flex-direction\" => \"column\"))), WebIO.Node{WebIO.DOM}(WebIO.DOM(:html, :div), Any[WebIO.Scope(WebIO.Node{WebIO.DOM}(WebIO.DOM(:html, :div), Any[], Dict{Symbol, Any}(:id => \"container\")), Dict{String, Tuple{Observables.AbstractObservable, Union{Nothing, Bool}}}(\"value\" => (Observable(\"\\\\;\\\\;\"), nothing)), Set{String}(), nothing, WebIO.Asset[WebIO.Asset(\"js\", nothing, \"/home/dushya/.julia/packages/InteractBase/LJXv3/src/../assets/katex.min.js\"), WebIO.Asset(\"css\", nothing, \"/home/dushya/.julia/packages/InteractBase/LJXv3/src/../assets/katex.min.css\")], Dict{Any, Any}(\"value\" => Any[WebIO.JSString(\"(function (txt){return this.k.render(txt,this.container)})\")]), WebIO.ConnectionPool(Channel{Any}(32), Set{WebIO.AbstractConnection}(), Base.GenericCondition{ReentrantLock}(Base.IntrusiveLinkedList{Task}(Task (runnable) @0x00007f8931bf8330, Task (runnable) @0x00007f8931bf8330), ReentrantLock(nothing, 0x00000000, 0x00, Base.GenericCondition{Base.Threads.SpinLock}(Base.IntrusiveLinkedList{Task}(nothing, nothing), Base.Threads.SpinLock(0)), (0, 0, 139779710648320)))), WebIO.JSString[WebIO.JSString(\"function () {\\n    var handler = ((function (k){this.k=k; this.container=this.dom.querySelector(\\\"#container\\\"); return k.render(\\\"\\\\\\\\;\\\\\\\\;\\\",this.container)}));\\n    (WebIO.importBlock({\\\"data\\\":[{\\\"name\\\":null,\\\"type\\\":\\\"js\\\",\\\"url\\\":\\\"/assetserver/dd22ed1bf1896c2748f3fe616ce0b838adc895c1-katex.min.js\\\"},{\\\"name\\\":null,\\\"type\\\":\\\"css\\\",\\\"url\\\":\\\"/assetserver/46517a424aa5e6cffc1360d7e0848b601c584ee3-katex.min.css\\\"}],\\\"type\\\":\\\"async_block\\\"})).then((imports) => handler.apply(this, imports));\\n}\\n\")])], Dict{Symbol, Any}(:className => \"interact-widget\")), Observable(Luxor.Drawing(430.0, 430.0, \"\", Cairo.CairoSurfaceBase{UInt32}(Ptr{Nothing} @0x0000000000000000, 430.0, 430.0), Cairo.CairoContext(Ptr{Nothing} @0x00000000057b8c40, Cairo.CairoSurfaceBase{UInt32}(Ptr{Nothing} @0x0000000000000000, 430.0, 430.0), Ptr{Nothing} @0x00000000050683e0), :png, 0.0, 0.0, 0.0, 1.0, IOBuffer(data=UInt8[...], readable=true, writable=true, seekable=true, append=false, size=5383, maxsize=Inf, ptr=5384, mark=-1), UInt8[0x89, 0x50, 0x4e, 0x47, 0x0d, 0x0a, 0x1a, 0x0a, 0x00, 0x00  …  0x00, 0x00, 0x49, 0x45, 0x4e, 0x44, 0xae, 0x42, 0x60, 0x82], false)), WebIO.Node{WebIO.DOM}(WebIO.DOM(:html, :div), Any[WebIO.Scope(WebIO.Node{WebIO.DOM}(WebIO.DOM(:html, :div), Any[], Dict{Symbol, Any}(:id => \"container\")), Dict{String, Tuple{Observables.AbstractObservable, Union{Nothing, Bool}}}(\"value\" => (Observable(\"\\\\;\\\\;\"), nothing)), Set{String}(), nothing, WebIO.Asset[WebIO.Asset(\"js\", nothing, \"/home/dushya/.julia/packages/InteractBase/LJXv3/src/../assets/katex.min.js\"), WebIO.Asset(\"css\", nothing, \"/home/dushya/.julia/packages/InteractBase/LJXv3/src/../assets/katex.min.css\")], Dict{Any, Any}(\"value\" => Any[WebIO.JSString(\"(function (txt){return this.k.render(txt,this.container)})\")]), WebIO.ConnectionPool(Channel{Any}(32), Set{WebIO.AbstractConnection}(), Base.GenericCondition{ReentrantLock}(Base.IntrusiveLinkedList{Task}(Task (runnable) @0x00007f8931bf8330, Task (runnable) @0x00007f8931bf8330), ReentrantLock(nothing, 0x00000000, 0x00, Base.GenericCondition{Base.Threads.SpinLock}(Base.IntrusiveLinkedList{Task}(nothing, nothing), Base.Threads.SpinLock(0)), (0, 0, 139779710648320)))), WebIO.JSString[WebIO.JSString(\"function () {\\n    var handler = ((function (k){this.k=k; this.container=this.dom.querySelector(\\\"#container\\\"); return k.render(\\\"\\\\\\\\;\\\\\\\\;\\\",this.container)}));\\n    (WebIO.importBlock({\\\"data\\\":[{\\\"name\\\":null,\\\"type\\\":\\\"js\\\",\\\"url\\\":\\\"/assetserver/dd22ed1bf1896c2748f3fe616ce0b838adc895c1-katex.min.js\\\"},{\\\"name\\\":null,\\\"type\\\":\\\"css\\\",\\\"url\\\":\\\"/assetserver/46517a424aa5e6cffc1360d7e0848b601c584ee3-katex.min.css\\\"}],\\\"type\\\":\\\"async_block\\\"})).then((imports) => handler.apply(this, imports));\\n}\\n\")])], Dict{Symbol, Any}(:className => \"interact-widget\")), WebIO.Node{WebIO.DOM}(WebIO.DOM(:html, :div), Any[Observable(Plot{Plots.GRBackend() n=1})], Dict{Symbol, Any}(:style => Dict(\"display\" => \"flex\", \"flex-direction\" => \"column\")))], Dict{Symbol, Any}(:style => Dict(\"display\" => \"flex\", \"flex-direction\" => \"row\")))], Dict{Symbol, Any}(:style => Dict(\"display\" => \"flex\", \"flex-direction\" => \"column\")))"
      ]
     },
     "execution_count": 14,
     "metadata": {
      "application/vnd.webio.node+json": {
       "kernelId": "59ae0399-17e5-4a1e-bd11-e510a7b45386"
      }
     },
     "output_type": "execute_result"
    }
   ],
   "source": [
    "create_interactive_app(model, initialiser= initialiser!,\n",
    "    props_to_record = Dict(\"nodes\"=>Set([:color, :spin])),\n",
    "    step_rule= step_rule!,\n",
    "    model_controls=[(:temp, \"slider\", 0.05:0.05:5), (:coupl, \"slider\", 0.01:0.1:5)],\n",
    "    node_plots = Dict(\"magnetisation\"=> x -> x.spin),\n",
    "    frames=200) "
   ]
  },
  {
   "cell_type": "markdown",
   "metadata": {},
   "source": [
    "## Step 5: Fetch Data \n",
    "\n",
    "In this step we fetch the data of average spin of nodes (also called magnetisation) and plot the result as follows."
   ]
  },
  {
   "cell_type": "code",
   "execution_count": 15,
   "metadata": {
    "scrolled": true
   },
   "outputs": [
    {
     "data": {
      "image/png": "[encoded data removed]",
      "image/svg+xml": [
       "<?xml version=\"1.0\" encoding=\"utf-8\"?>\n",
       "<svg xmlns=\"http://www.w3.org/2000/svg\" xmlns:xlink=\"http://www.w3.org/1999/xlink\" width=\"600\" height=\"400\" viewBox=\"0 0 2400 1600\">\n",
       "<defs>\n",
       "  <clipPath id=\"clip700\">\n",
       "    <rect x=\"0\" y=\"0\" width=\"2400\" height=\"1600\"/>\n",
       "  </clipPath>\n",
       "</defs>\n",
       "<path clip-path=\"url(#clip700)\" d=\"M0 1600 L2400 1600 L2400 0 L0 0  Z\" fill=\"#ffffff\" fill-rule=\"evenodd\" fill-opacity=\"1\"/>\n",
       "<defs>\n",
       "  <clipPath id=\"clip701\">\n",
       "    <rect x=\"480\" y=\"0\" width=\"1681\" height=\"1600\"/>\n",
       "  </clipPath>\n",
       "</defs>\n",
       "<path clip-path=\"url(#clip700)\" d=\"M223.103 1423.18 L2352.76 1423.18 L2352.76 47.2441 L223.103 47.2441  Z\" fill=\"#ffffff\" fill-rule=\"evenodd\" fill-opacity=\"1\"/>\n",
       "<defs>\n",
       "  <clipPath id=\"clip702\">\n",
       "    <rect x=\"223\" y=\"47\" width=\"2131\" height=\"1377\"/>\n",
       "  </clipPath>\n",
       "</defs>\n",
       "<polyline clip-path=\"url(#clip702)\" style=\"stroke:#000000; stroke-linecap:round; stroke-linejoin:round; stroke-width:2; stroke-opacity:0.1; fill:none\" points=\"263.285,1423.18 263.285,47.2441 \"/>\n",
       "<polyline clip-path=\"url(#clip702)\" style=\"stroke:#000000; stroke-linecap:round; stroke-linejoin:round; stroke-width:2; stroke-opacity:0.1; fill:none\" points=\"765.561,1423.18 765.561,47.2441 \"/>\n",
       "<polyline clip-path=\"url(#clip702)\" style=\"stroke:#000000; stroke-linecap:round; stroke-linejoin:round; stroke-width:2; stroke-opacity:0.1; fill:none\" points=\"1267.84,1423.18 1267.84,47.2441 \"/>\n",
       "<polyline clip-path=\"url(#clip702)\" style=\"stroke:#000000; stroke-linecap:round; stroke-linejoin:round; stroke-width:2; stroke-opacity:0.1; fill:none\" points=\"1770.11,1423.18 1770.11,47.2441 \"/>\n",
       "<polyline clip-path=\"url(#clip702)\" style=\"stroke:#000000; stroke-linecap:round; stroke-linejoin:round; stroke-width:2; stroke-opacity:0.1; fill:none\" points=\"2272.39,1423.18 2272.39,47.2441 \"/>\n",
       "<polyline clip-path=\"url(#clip700)\" style=\"stroke:#000000; stroke-linecap:round; stroke-linejoin:round; stroke-width:4; stroke-opacity:1; fill:none\" points=\"223.103,1423.18 2352.76,1423.18 \"/>\n",
       "<polyline clip-path=\"url(#clip700)\" style=\"stroke:#000000; stroke-linecap:round; stroke-linejoin:round; stroke-width:4; stroke-opacity:1; fill:none\" points=\"263.285,1423.18 263.285,1404.28 \"/>\n",
       "<polyline clip-path=\"url(#clip700)\" style=\"stroke:#000000; stroke-linecap:round; stroke-linejoin:round; stroke-width:4; stroke-opacity:1; fill:none\" points=\"765.561,1423.18 765.561,1404.28 \"/>\n",
       "<polyline clip-path=\"url(#clip700)\" style=\"stroke:#000000; stroke-linecap:round; stroke-linejoin:round; stroke-width:4; stroke-opacity:1; fill:none\" points=\"1267.84,1423.18 1267.84,1404.28 \"/>\n",
       "<polyline clip-path=\"url(#clip700)\" style=\"stroke:#000000; stroke-linecap:round; stroke-linejoin:round; stroke-width:4; stroke-opacity:1; fill:none\" points=\"1770.11,1423.18 1770.11,1404.28 \"/>\n",
       "<polyline clip-path=\"url(#clip700)\" style=\"stroke:#000000; stroke-linecap:round; stroke-linejoin:round; stroke-width:4; stroke-opacity:1; fill:none\" points=\"2272.39,1423.18 2272.39,1404.28 \"/>\n",
       "<path clip-path=\"url(#clip700)\" d=\"M263.285 1454.1 Q259.674 1454.1 257.845 1457.66 Q256.039 1461.2 256.039 1468.33 Q256.039 1475.44 257.845 1479.01 Q259.674 1482.55 263.285 1482.55 Q266.919 1482.55 268.724 1479.01 Q270.553 1475.44 270.553 1468.33 Q270.553 1461.2 268.724 1457.66 Q266.919 1454.1 263.285 1454.1 M263.285 1450.39 Q269.095 1450.39 272.15 1455 Q275.229 1459.58 275.229 1468.33 Q275.229 1477.06 272.15 1481.67 Q269.095 1486.25 263.285 1486.25 Q257.474 1486.25 254.396 1481.67 Q251.34 1477.06 251.34 1468.33 Q251.34 1459.58 254.396 1455 Q257.474 1450.39 263.285 1450.39 Z\" fill=\"#000000\" fill-rule=\"nonzero\" fill-opacity=\"1\" /><path clip-path=\"url(#clip700)\" d=\"M744.832 1481.64 L761.152 1481.64 L761.152 1485.58 L739.207 1485.58 L739.207 1481.64 Q741.869 1478.89 746.453 1474.26 Q751.059 1469.61 752.24 1468.27 Q754.485 1465.74 755.365 1464.01 Q756.267 1462.25 756.267 1460.56 Q756.267 1457.8 754.323 1456.07 Q752.402 1454.33 749.3 1454.33 Q747.101 1454.33 744.647 1455.09 Q742.217 1455.86 739.439 1457.41 L739.439 1452.69 Q742.263 1451.55 744.717 1450.97 Q747.17 1450.39 749.207 1450.39 Q754.578 1450.39 757.772 1453.08 Q760.967 1455.77 760.967 1460.26 Q760.967 1462.39 760.156 1464.31 Q759.369 1466.2 757.263 1468.8 Q756.684 1469.47 753.582 1472.69 Q750.48 1475.88 744.832 1481.64 Z\" fill=\"#000000\" fill-rule=\"nonzero\" fill-opacity=\"1\" /><path clip-path=\"url(#clip700)\" d=\"M771.013 1451.02 L789.369 1451.02 L789.369 1454.96 L775.295 1454.96 L775.295 1463.43 Q776.314 1463.08 777.332 1462.92 Q778.351 1462.73 779.369 1462.73 Q785.156 1462.73 788.536 1465.9 Q791.915 1469.08 791.915 1474.49 Q791.915 1480.07 788.443 1483.17 Q784.971 1486.25 778.652 1486.25 Q776.476 1486.25 774.207 1485.88 Q771.962 1485.51 769.554 1484.77 L769.554 1480.07 Q771.638 1481.2 773.86 1481.76 Q776.082 1482.32 778.559 1482.32 Q782.564 1482.32 784.902 1480.21 Q787.24 1478.1 787.24 1474.49 Q787.24 1470.88 784.902 1468.77 Q782.564 1466.67 778.559 1466.67 Q776.684 1466.67 774.809 1467.08 Q772.957 1467.5 771.013 1468.38 L771.013 1451.02 Z\" fill=\"#000000\" fill-rule=\"nonzero\" fill-opacity=\"1\" /><path clip-path=\"url(#clip700)\" d=\"M1242.54 1451.02 L1260.89 1451.02 L1260.89 1454.96 L1246.82 1454.96 L1246.82 1463.43 Q1247.84 1463.08 1248.86 1462.92 Q1249.88 1462.73 1250.89 1462.73 Q1256.68 1462.73 1260.06 1465.9 Q1263.44 1469.08 1263.44 1474.49 Q1263.44 1480.07 1259.97 1483.17 Q1256.5 1486.25 1250.18 1486.25 Q1248 1486.25 1245.73 1485.88 Q1243.49 1485.51 1241.08 1484.77 L1241.08 1480.07 Q1243.16 1481.2 1245.38 1481.76 Q1247.61 1482.32 1250.08 1482.32 Q1254.09 1482.32 1256.43 1480.21 Q1258.76 1478.1 1258.76 1474.49 Q1258.76 1470.88 1256.43 1468.77 Q1254.09 1466.67 1250.08 1466.67 Q1248.21 1466.67 1246.33 1467.08 Q1244.48 1467.5 1242.54 1468.38 L1242.54 1451.02 Z\" fill=\"#000000\" fill-rule=\"nonzero\" fill-opacity=\"1\" /><path clip-path=\"url(#clip700)\" d=\"M1282.65 1454.1 Q1279.04 1454.1 1277.21 1457.66 Q1275.41 1461.2 1275.41 1468.33 Q1275.41 1475.44 1277.21 1479.01 Q1279.04 1482.55 1282.65 1482.55 Q1286.29 1482.55 1288.09 1479.01 Q1289.92 1475.44 1289.92 1468.33 Q1289.92 1461.2 1288.09 1457.66 Q1286.29 1454.1 1282.65 1454.1 M1282.65 1450.39 Q1288.46 1450.39 1291.52 1455 Q1294.6 1459.58 1294.6 1468.33 Q1294.6 1477.06 1291.52 1481.67 Q1288.46 1486.25 1282.65 1486.25 Q1276.84 1486.25 1273.76 1481.67 Q1270.71 1477.06 1270.71 1468.33 Q1270.71 1459.58 1273.76 1455 Q1276.84 1450.39 1282.65 1450.39 Z\" fill=\"#000000\" fill-rule=\"nonzero\" fill-opacity=\"1\" /><path clip-path=\"url(#clip700)\" d=\"M1743.97 1451.02 L1766.19 1451.02 L1766.19 1453.01 L1753.65 1485.58 L1748.76 1485.58 L1760.57 1454.96 L1743.97 1454.96 L1743.97 1451.02 Z\" fill=\"#000000\" fill-rule=\"nonzero\" fill-opacity=\"1\" /><path clip-path=\"url(#clip700)\" d=\"M1775.36 1451.02 L1793.71 1451.02 L1793.71 1454.96 L1779.64 1454.96 L1779.64 1463.43 Q1780.66 1463.08 1781.68 1462.92 Q1782.7 1462.73 1783.71 1462.73 Q1789.5 1462.73 1792.88 1465.9 Q1796.26 1469.08 1796.26 1474.49 Q1796.26 1480.07 1792.79 1483.17 Q1789.32 1486.25 1783 1486.25 Q1780.82 1486.25 1778.55 1485.88 Q1776.31 1485.51 1773.9 1484.77 L1773.9 1480.07 Q1775.98 1481.2 1778.21 1481.76 Q1780.43 1482.32 1782.9 1482.32 Q1786.91 1482.32 1789.25 1480.21 Q1791.58 1478.1 1791.58 1474.49 Q1791.58 1470.88 1789.25 1468.77 Q1786.91 1466.67 1782.9 1466.67 Q1781.03 1466.67 1779.15 1467.08 Q1777.3 1467.5 1775.36 1468.38 L1775.36 1451.02 Z\" fill=\"#000000\" fill-rule=\"nonzero\" fill-opacity=\"1\" /><path clip-path=\"url(#clip700)\" d=\"M2232 1481.64 L2239.64 1481.64 L2239.64 1455.28 L2231.33 1456.95 L2231.33 1452.69 L2239.59 1451.02 L2244.27 1451.02 L2244.27 1481.64 L2251.91 1481.64 L2251.91 1485.58 L2232 1485.58 L2232 1481.64 Z\" fill=\"#000000\" fill-rule=\"nonzero\" fill-opacity=\"1\" /><path clip-path=\"url(#clip700)\" d=\"M2271.35 1454.1 Q2267.74 1454.1 2265.91 1457.66 Q2264.1 1461.2 2264.1 1468.33 Q2264.1 1475.44 2265.91 1479.01 Q2267.74 1482.55 2271.35 1482.55 Q2274.98 1482.55 2276.79 1479.01 Q2278.62 1475.44 2278.62 1468.33 Q2278.62 1461.2 2276.79 1457.66 Q2274.98 1454.1 2271.35 1454.1 M2271.35 1450.39 Q2277.16 1450.39 2280.22 1455 Q2283.29 1459.58 2283.29 1468.33 Q2283.29 1477.06 2280.22 1481.67 Q2277.16 1486.25 2271.35 1486.25 Q2265.54 1486.25 2262.46 1481.67 Q2259.41 1477.06 2259.41 1468.33 Q2259.41 1459.58 2262.46 1455 Q2265.54 1450.39 2271.35 1450.39 Z\" fill=\"#000000\" fill-rule=\"nonzero\" fill-opacity=\"1\" /><path clip-path=\"url(#clip700)\" d=\"M2301.51 1454.1 Q2297.9 1454.1 2296.07 1457.66 Q2294.27 1461.2 2294.27 1468.33 Q2294.27 1475.44 2296.07 1479.01 Q2297.9 1482.55 2301.51 1482.55 Q2305.15 1482.55 2306.95 1479.01 Q2308.78 1475.44 2308.78 1468.33 Q2308.78 1461.2 2306.95 1457.66 Q2305.15 1454.1 2301.51 1454.1 M2301.51 1450.39 Q2307.32 1450.39 2310.38 1455 Q2313.46 1459.58 2313.46 1468.33 Q2313.46 1477.06 2310.38 1481.67 Q2307.32 1486.25 2301.51 1486.25 Q2295.7 1486.25 2292.62 1481.67 Q2289.57 1477.06 2289.57 1468.33 Q2289.57 1459.58 2292.62 1455 Q2295.7 1450.39 2301.51 1450.39 Z\" fill=\"#000000\" fill-rule=\"nonzero\" fill-opacity=\"1\" /><path clip-path=\"url(#clip700)\" d=\"M1224.97 1522.27 L1224.97 1532.4 L1237.04 1532.4 L1237.04 1536.95 L1224.97 1536.95 L1224.97 1556.3 Q1224.97 1560.66 1226.15 1561.9 Q1227.36 1563.14 1231.02 1563.14 L1237.04 1563.14 L1237.04 1568.04 L1231.02 1568.04 Q1224.24 1568.04 1221.66 1565.53 Q1219.08 1562.98 1219.08 1556.3 L1219.08 1536.95 L1214.79 1536.95 L1214.79 1532.4 L1219.08 1532.4 L1219.08 1522.27 L1224.97 1522.27 Z\" fill=\"#000000\" fill-rule=\"nonzero\" fill-opacity=\"1\" /><path clip-path=\"url(#clip700)\" d=\"M1244.74 1532.4 L1250.59 1532.4 L1250.59 1568.04 L1244.74 1568.04 L1244.74 1532.4 M1244.74 1518.52 L1250.59 1518.52 L1250.59 1525.93 L1244.74 1525.93 L1244.74 1518.52 Z\" fill=\"#000000\" fill-rule=\"nonzero\" fill-opacity=\"1\" /><path clip-path=\"url(#clip700)\" d=\"M1288.5 1533.76 L1288.5 1539.24 Q1286.02 1537.87 1283.51 1537.2 Q1281.02 1536.5 1278.48 1536.5 Q1272.78 1536.5 1269.63 1540.13 Q1266.48 1543.73 1266.48 1550.25 Q1266.48 1556.78 1269.63 1560.4 Q1272.78 1564 1278.48 1564 Q1281.02 1564 1283.51 1563.33 Q1286.02 1562.63 1288.5 1561.26 L1288.5 1566.68 Q1286.05 1567.82 1283.41 1568.39 Q1280.8 1568.97 1277.84 1568.97 Q1269.79 1568.97 1265.04 1563.91 Q1260.3 1558.85 1260.3 1550.25 Q1260.3 1541.53 1265.08 1536.53 Q1269.88 1531.54 1278.22 1531.54 Q1280.93 1531.54 1283.51 1532.11 Q1286.08 1532.65 1288.5 1533.76 Z\" fill=\"#000000\" fill-rule=\"nonzero\" fill-opacity=\"1\" /><path clip-path=\"url(#clip700)\" d=\"M1298.46 1518.52 L1304.35 1518.52 L1304.35 1547.77 L1321.83 1532.4 L1329.31 1532.4 L1310.4 1549.07 L1330.1 1568.04 L1322.46 1568.04 L1304.35 1550.63 L1304.35 1568.04 L1298.46 1568.04 L1298.46 1518.52 Z\" fill=\"#000000\" fill-rule=\"nonzero\" fill-opacity=\"1\" /><path clip-path=\"url(#clip700)\" d=\"M1359.16 1533.45 L1359.16 1538.98 Q1356.68 1537.71 1354.01 1537.07 Q1351.33 1536.44 1348.47 1536.44 Q1344.11 1536.44 1341.91 1537.77 Q1339.75 1539.11 1339.75 1541.79 Q1339.75 1543.82 1341.31 1545 Q1342.87 1546.15 1347.58 1547.2 L1349.58 1547.64 Q1355.82 1548.98 1358.43 1551.43 Q1361.07 1553.85 1361.07 1558.21 Q1361.07 1563.17 1357.12 1566.07 Q1353.21 1568.97 1346.33 1568.97 Q1343.47 1568.97 1340.35 1568.39 Q1337.26 1567.85 1333.83 1566.74 L1333.83 1560.69 Q1337.07 1562.38 1340.22 1563.24 Q1343.37 1564.07 1346.46 1564.07 Q1350.6 1564.07 1352.83 1562.66 Q1355.06 1561.23 1355.06 1558.65 Q1355.06 1556.27 1353.43 1554.99 Q1351.84 1553.72 1346.4 1552.54 L1344.36 1552.07 Q1338.92 1550.92 1336.5 1548.56 Q1334.08 1546.18 1334.08 1542.04 Q1334.08 1537.01 1337.65 1534.27 Q1341.21 1531.54 1347.77 1531.54 Q1351.01 1531.54 1353.88 1532.01 Q1356.74 1532.49 1359.16 1533.45 Z\" fill=\"#000000\" fill-rule=\"nonzero\" fill-opacity=\"1\" /><polyline clip-path=\"url(#clip702)\" style=\"stroke:#000000; stroke-linecap:round; stroke-linejoin:round; stroke-width:2; stroke-opacity:0.1; fill:none\" points=\"223.103,1258.23 2352.76,1258.23 \"/>\n",
       "<polyline clip-path=\"url(#clip702)\" style=\"stroke:#000000; stroke-linecap:round; stroke-linejoin:round; stroke-width:2; stroke-opacity:0.1; fill:none\" points=\"223.103,1049.36 2352.76,1049.36 \"/>\n",
       "<polyline clip-path=\"url(#clip702)\" style=\"stroke:#000000; stroke-linecap:round; stroke-linejoin:round; stroke-width:2; stroke-opacity:0.1; fill:none\" points=\"223.103,840.486 2352.76,840.486 \"/>\n",
       "<polyline clip-path=\"url(#clip702)\" style=\"stroke:#000000; stroke-linecap:round; stroke-linejoin:round; stroke-width:2; stroke-opacity:0.1; fill:none\" points=\"223.103,631.613 2352.76,631.613 \"/>\n",
       "<polyline clip-path=\"url(#clip702)\" style=\"stroke:#000000; stroke-linecap:round; stroke-linejoin:round; stroke-width:2; stroke-opacity:0.1; fill:none\" points=\"223.103,422.739 2352.76,422.739 \"/>\n",
       "<polyline clip-path=\"url(#clip702)\" style=\"stroke:#000000; stroke-linecap:round; stroke-linejoin:round; stroke-width:2; stroke-opacity:0.1; fill:none\" points=\"223.103,213.865 2352.76,213.865 \"/>\n",
       "<polyline clip-path=\"url(#clip700)\" style=\"stroke:#000000; stroke-linecap:round; stroke-linejoin:round; stroke-width:4; stroke-opacity:1; fill:none\" points=\"223.103,1423.18 223.103,47.2441 \"/>\n",
       "<polyline clip-path=\"url(#clip700)\" style=\"stroke:#000000; stroke-linecap:round; stroke-linejoin:round; stroke-width:4; stroke-opacity:1; fill:none\" points=\"223.103,1258.23 242,1258.23 \"/>\n",
       "<polyline clip-path=\"url(#clip700)\" style=\"stroke:#000000; stroke-linecap:round; stroke-linejoin:round; stroke-width:4; stroke-opacity:1; fill:none\" points=\"223.103,1049.36 242,1049.36 \"/>\n",
       "<polyline clip-path=\"url(#clip700)\" style=\"stroke:#000000; stroke-linecap:round; stroke-linejoin:round; stroke-width:4; stroke-opacity:1; fill:none\" points=\"223.103,840.486 242,840.486 \"/>\n",
       "<polyline clip-path=\"url(#clip700)\" style=\"stroke:#000000; stroke-linecap:round; stroke-linejoin:round; stroke-width:4; stroke-opacity:1; fill:none\" points=\"223.103,631.613 242,631.613 \"/>\n",
       "<polyline clip-path=\"url(#clip700)\" style=\"stroke:#000000; stroke-linecap:round; stroke-linejoin:round; stroke-width:4; stroke-opacity:1; fill:none\" points=\"223.103,422.739 242,422.739 \"/>\n",
       "<polyline clip-path=\"url(#clip700)\" style=\"stroke:#000000; stroke-linecap:round; stroke-linejoin:round; stroke-width:4; stroke-opacity:1; fill:none\" points=\"223.103,213.865 242,213.865 \"/>\n",
       "<path clip-path=\"url(#clip700)\" d=\"M50.9921 1258.69 L80.6679 1258.69 L80.6679 1262.62 L50.9921 1262.62 L50.9921 1258.69 Z\" fill=\"#000000\" fill-rule=\"nonzero\" fill-opacity=\"1\" /><path clip-path=\"url(#clip700)\" d=\"M100.76 1244.03 Q97.1493 1244.03 95.3206 1247.6 Q93.515 1251.14 93.515 1258.27 Q93.515 1265.37 95.3206 1268.94 Q97.1493 1272.48 100.76 1272.48 Q104.395 1272.48 106.2 1268.94 Q108.029 1265.37 108.029 1258.27 Q108.029 1251.14 106.2 1247.6 Q104.395 1244.03 100.76 1244.03 M100.76 1240.33 Q106.571 1240.33 109.626 1244.94 Q112.705 1249.52 112.705 1258.27 Q112.705 1267 109.626 1271.6 Q106.571 1276.18 100.76 1276.18 Q94.9502 1276.18 91.8715 1271.6 Q88.816 1267 88.816 1258.27 Q88.816 1249.52 91.8715 1244.94 Q94.9502 1240.33 100.76 1240.33 Z\" fill=\"#000000\" fill-rule=\"nonzero\" fill-opacity=\"1\" /><path clip-path=\"url(#clip700)\" d=\"M120.922 1269.63 L125.807 1269.63 L125.807 1275.51 L120.922 1275.51 L120.922 1269.63 Z\" fill=\"#000000\" fill-rule=\"nonzero\" fill-opacity=\"1\" /><path clip-path=\"url(#clip700)\" d=\"M145.992 1244.03 Q142.381 1244.03 140.552 1247.6 Q138.746 1251.14 138.746 1258.27 Q138.746 1265.37 140.552 1268.94 Q142.381 1272.48 145.992 1272.48 Q149.626 1272.48 151.431 1268.94 Q153.26 1265.37 153.26 1258.27 Q153.26 1251.14 151.431 1247.6 Q149.626 1244.03 145.992 1244.03 M145.992 1240.33 Q151.802 1240.33 154.857 1244.94 Q157.936 1249.52 157.936 1258.27 Q157.936 1267 154.857 1271.6 Q151.802 1276.18 145.992 1276.18 Q140.181 1276.18 137.103 1271.6 Q134.047 1267 134.047 1258.27 Q134.047 1249.52 137.103 1244.94 Q140.181 1240.33 145.992 1240.33 Z\" fill=\"#000000\" fill-rule=\"nonzero\" fill-opacity=\"1\" /><path clip-path=\"url(#clip700)\" d=\"M166.2 1240.95 L184.556 1240.95 L184.556 1244.89 L170.482 1244.89 L170.482 1253.36 Q171.501 1253.01 172.519 1252.85 Q173.538 1252.67 174.556 1252.67 Q180.343 1252.67 183.723 1255.84 Q187.103 1259.01 187.103 1264.43 Q187.103 1270 183.63 1273.11 Q180.158 1276.18 173.839 1276.18 Q171.663 1276.18 169.394 1275.81 Q167.149 1275.44 164.742 1274.7 L164.742 1270 Q166.825 1271.14 169.047 1271.69 Q171.269 1272.25 173.746 1272.25 Q177.751 1272.25 180.089 1270.14 Q182.427 1268.04 182.427 1264.43 Q182.427 1260.81 180.089 1258.71 Q177.751 1256.6 173.746 1256.6 Q171.871 1256.6 169.996 1257.02 Q168.144 1257.44 166.2 1258.31 L166.2 1240.95 Z\" fill=\"#000000\" fill-rule=\"nonzero\" fill-opacity=\"1\" /><path clip-path=\"url(#clip700)\" d=\"M99.765 1035.16 Q96.1539 1035.16 94.3252 1038.72 Q92.5197 1042.27 92.5197 1049.39 Q92.5197 1056.5 94.3252 1060.07 Q96.1539 1063.61 99.765 1063.61 Q103.399 1063.61 105.205 1060.07 Q107.033 1056.5 107.033 1049.39 Q107.033 1042.27 105.205 1038.72 Q103.399 1035.16 99.765 1035.16 M99.765 1031.46 Q105.575 1031.46 108.631 1036.06 Q111.709 1040.64 111.709 1049.39 Q111.709 1058.12 108.631 1062.73 Q105.575 1067.31 99.765 1067.31 Q93.9549 1067.31 90.8762 1062.73 Q87.8206 1058.12 87.8206 1049.39 Q87.8206 1040.64 90.8762 1036.06 Q93.9549 1031.46 99.765 1031.46 Z\" fill=\"#000000\" fill-rule=\"nonzero\" fill-opacity=\"1\" /><path clip-path=\"url(#clip700)\" d=\"M119.927 1060.76 L124.811 1060.76 L124.811 1066.64 L119.927 1066.64 L119.927 1060.76 Z\" fill=\"#000000\" fill-rule=\"nonzero\" fill-opacity=\"1\" /><path clip-path=\"url(#clip700)\" d=\"M144.996 1035.16 Q141.385 1035.16 139.556 1038.72 Q137.751 1042.27 137.751 1049.39 Q137.751 1056.5 139.556 1060.07 Q141.385 1063.61 144.996 1063.61 Q148.63 1063.61 150.436 1060.07 Q152.265 1056.5 152.265 1049.39 Q152.265 1042.27 150.436 1038.72 Q148.63 1035.16 144.996 1035.16 M144.996 1031.46 Q150.806 1031.46 153.862 1036.06 Q156.941 1040.64 156.941 1049.39 Q156.941 1058.12 153.862 1062.73 Q150.806 1067.31 144.996 1067.31 Q139.186 1067.31 136.107 1062.73 Q133.052 1058.12 133.052 1049.39 Q133.052 1040.64 136.107 1036.06 Q139.186 1031.46 144.996 1031.46 Z\" fill=\"#000000\" fill-rule=\"nonzero\" fill-opacity=\"1\" /><path clip-path=\"url(#clip700)\" d=\"M175.158 1035.16 Q171.547 1035.16 169.718 1038.72 Q167.913 1042.27 167.913 1049.39 Q167.913 1056.5 169.718 1060.07 Q171.547 1063.61 175.158 1063.61 Q178.792 1063.61 180.598 1060.07 Q182.427 1056.5 182.427 1049.39 Q182.427 1042.27 180.598 1038.72 Q178.792 1035.16 175.158 1035.16 M175.158 1031.46 Q180.968 1031.46 184.024 1036.06 Q187.103 1040.64 187.103 1049.39 Q187.103 1058.12 184.024 1062.73 Q180.968 1067.31 175.158 1067.31 Q169.348 1067.31 166.269 1062.73 Q163.214 1058.12 163.214 1049.39 Q163.214 1040.64 166.269 1036.06 Q169.348 1031.46 175.158 1031.46 Z\" fill=\"#000000\" fill-rule=\"nonzero\" fill-opacity=\"1\" /><path clip-path=\"url(#clip700)\" d=\"M100.76 826.285 Q97.1493 826.285 95.3206 829.85 Q93.515 833.392 93.515 840.521 Q93.515 847.628 95.3206 851.192 Q97.1493 854.734 100.76 854.734 Q104.395 854.734 106.2 851.192 Q108.029 847.628 108.029 840.521 Q108.029 833.392 106.2 829.85 Q104.395 826.285 100.76 826.285 M100.76 822.581 Q106.571 822.581 109.626 827.188 Q112.705 831.771 112.705 840.521 Q112.705 849.248 109.626 853.854 Q106.571 858.438 100.76 858.438 Q94.9502 858.438 91.8715 853.854 Q88.816 849.248 88.816 840.521 Q88.816 831.771 91.8715 827.188 Q94.9502 822.581 100.76 822.581 Z\" fill=\"#000000\" fill-rule=\"nonzero\" fill-opacity=\"1\" /><path clip-path=\"url(#clip700)\" d=\"M120.922 851.887 L125.807 851.887 L125.807 857.766 L120.922 857.766 L120.922 851.887 Z\" fill=\"#000000\" fill-rule=\"nonzero\" fill-opacity=\"1\" /><path clip-path=\"url(#clip700)\" d=\"M145.992 826.285 Q142.381 826.285 140.552 829.85 Q138.746 833.392 138.746 840.521 Q138.746 847.628 140.552 851.192 Q142.381 854.734 145.992 854.734 Q149.626 854.734 151.431 851.192 Q153.26 847.628 153.26 840.521 Q153.26 833.392 151.431 829.85 Q149.626 826.285 145.992 826.285 M145.992 822.581 Q151.802 822.581 154.857 827.188 Q157.936 831.771 157.936 840.521 Q157.936 849.248 154.857 853.854 Q151.802 858.438 145.992 858.438 Q140.181 858.438 137.103 853.854 Q134.047 849.248 134.047 840.521 Q134.047 831.771 137.103 827.188 Q140.181 822.581 145.992 822.581 Z\" fill=\"#000000\" fill-rule=\"nonzero\" fill-opacity=\"1\" /><path clip-path=\"url(#clip700)\" d=\"M166.2 823.206 L184.556 823.206 L184.556 827.142 L170.482 827.142 L170.482 835.614 Q171.501 835.267 172.519 835.104 Q173.538 834.919 174.556 834.919 Q180.343 834.919 183.723 838.091 Q187.103 841.262 187.103 846.678 Q187.103 852.257 183.63 855.359 Q180.158 858.438 173.839 858.438 Q171.663 858.438 169.394 858.067 Q167.149 857.697 164.742 856.956 L164.742 852.257 Q166.825 853.391 169.047 853.947 Q171.269 854.503 173.746 854.503 Q177.751 854.503 180.089 852.396 Q182.427 850.29 182.427 846.678 Q182.427 843.067 180.089 840.961 Q177.751 838.854 173.746 838.854 Q171.871 838.854 169.996 839.271 Q168.144 839.688 166.2 840.567 L166.2 823.206 Z\" fill=\"#000000\" fill-rule=\"nonzero\" fill-opacity=\"1\" /><path clip-path=\"url(#clip700)\" d=\"M99.765 617.411 Q96.1539 617.411 94.3252 620.976 Q92.5197 624.518 92.5197 631.647 Q92.5197 638.754 94.3252 642.319 Q96.1539 645.86 99.765 645.86 Q103.399 645.86 105.205 642.319 Q107.033 638.754 107.033 631.647 Q107.033 624.518 105.205 620.976 Q103.399 617.411 99.765 617.411 M99.765 613.708 Q105.575 613.708 108.631 618.314 Q111.709 622.898 111.709 631.647 Q111.709 640.374 108.631 644.981 Q105.575 649.564 99.765 649.564 Q93.9549 649.564 90.8762 644.981 Q87.8206 640.374 87.8206 631.647 Q87.8206 622.898 90.8762 618.314 Q93.9549 613.708 99.765 613.708 Z\" fill=\"#000000\" fill-rule=\"nonzero\" fill-opacity=\"1\" /><path clip-path=\"url(#clip700)\" d=\"M119.927 643.013 L124.811 643.013 L124.811 648.893 L119.927 648.893 L119.927 643.013 Z\" fill=\"#000000\" fill-rule=\"nonzero\" fill-opacity=\"1\" /><path clip-path=\"url(#clip700)\" d=\"M135.806 644.958 L143.445 644.958 L143.445 618.592 L135.135 620.259 L135.135 615.999 L143.399 614.333 L148.075 614.333 L148.075 644.958 L155.714 644.958 L155.714 648.893 L135.806 648.893 L135.806 644.958 Z\" fill=\"#000000\" fill-rule=\"nonzero\" fill-opacity=\"1\" /><path clip-path=\"url(#clip700)\" d=\"M175.158 617.411 Q171.547 617.411 169.718 620.976 Q167.913 624.518 167.913 631.647 Q167.913 638.754 169.718 642.319 Q171.547 645.86 175.158 645.86 Q178.792 645.86 180.598 642.319 Q182.427 638.754 182.427 631.647 Q182.427 624.518 180.598 620.976 Q178.792 617.411 175.158 617.411 M175.158 613.708 Q180.968 613.708 184.024 618.314 Q187.103 622.898 187.103 631.647 Q187.103 640.374 184.024 644.981 Q180.968 649.564 175.158 649.564 Q169.348 649.564 166.269 644.981 Q163.214 640.374 163.214 631.647 Q163.214 622.898 166.269 618.314 Q169.348 613.708 175.158 613.708 Z\" fill=\"#000000\" fill-rule=\"nonzero\" fill-opacity=\"1\" /><path clip-path=\"url(#clip700)\" d=\"M100.76 408.538 Q97.1493 408.538 95.3206 412.103 Q93.515 415.644 93.515 422.774 Q93.515 429.88 95.3206 433.445 Q97.1493 436.987 100.76 436.987 Q104.395 436.987 106.2 433.445 Q108.029 429.88 108.029 422.774 Q108.029 415.644 106.2 412.103 Q104.395 408.538 100.76 408.538 M100.76 404.834 Q106.571 404.834 109.626 409.441 Q112.705 414.024 112.705 422.774 Q112.705 431.501 109.626 436.107 Q106.571 440.69 100.76 440.69 Q94.9502 440.69 91.8715 436.107 Q88.816 431.501 88.816 422.774 Q88.816 414.024 91.8715 409.441 Q94.9502 404.834 100.76 404.834 Z\" fill=\"#000000\" fill-rule=\"nonzero\" fill-opacity=\"1\" /><path clip-path=\"url(#clip700)\" d=\"M120.922 434.139 L125.807 434.139 L125.807 440.019 L120.922 440.019 L120.922 434.139 Z\" fill=\"#000000\" fill-rule=\"nonzero\" fill-opacity=\"1\" /><path clip-path=\"url(#clip700)\" d=\"M136.802 436.084 L144.441 436.084 L144.441 409.718 L136.131 411.385 L136.131 407.126 L144.394 405.459 L149.07 405.459 L149.07 436.084 L156.709 436.084 L156.709 440.019 L136.802 440.019 L136.802 436.084 Z\" fill=\"#000000\" fill-rule=\"nonzero\" fill-opacity=\"1\" /><path clip-path=\"url(#clip700)\" d=\"M166.2 405.459 L184.556 405.459 L184.556 409.394 L170.482 409.394 L170.482 417.866 Q171.501 417.519 172.519 417.357 Q173.538 417.172 174.556 417.172 Q180.343 417.172 183.723 420.343 Q187.103 423.515 187.103 428.931 Q187.103 434.51 183.63 437.612 Q180.158 440.69 173.839 440.69 Q171.663 440.69 169.394 440.32 Q167.149 439.95 164.742 439.209 L164.742 434.51 Q166.825 435.644 169.047 436.2 Q171.269 436.755 173.746 436.755 Q177.751 436.755 180.089 434.649 Q182.427 432.542 182.427 428.931 Q182.427 425.32 180.089 423.214 Q177.751 421.107 173.746 421.107 Q171.871 421.107 169.996 421.524 Q168.144 421.94 166.2 422.82 L166.2 405.459 Z\" fill=\"#000000\" fill-rule=\"nonzero\" fill-opacity=\"1\" /><path clip-path=\"url(#clip700)\" d=\"M99.765 199.664 Q96.1539 199.664 94.3252 203.229 Q92.5197 206.771 92.5197 213.9 Q92.5197 221.007 94.3252 224.571 Q96.1539 228.113 99.765 228.113 Q103.399 228.113 105.205 224.571 Q107.033 221.007 107.033 213.9 Q107.033 206.771 105.205 203.229 Q103.399 199.664 99.765 199.664 M99.765 195.96 Q105.575 195.96 108.631 200.567 Q111.709 205.15 111.709 213.9 Q111.709 222.627 108.631 227.233 Q105.575 231.817 99.765 231.817 Q93.9549 231.817 90.8762 227.233 Q87.8206 222.627 87.8206 213.9 Q87.8206 205.15 90.8762 200.567 Q93.9549 195.96 99.765 195.96 Z\" fill=\"#000000\" fill-rule=\"nonzero\" fill-opacity=\"1\" /><path clip-path=\"url(#clip700)\" d=\"M119.927 225.266 L124.811 225.266 L124.811 231.145 L119.927 231.145 L119.927 225.266 Z\" fill=\"#000000\" fill-rule=\"nonzero\" fill-opacity=\"1\" /><path clip-path=\"url(#clip700)\" d=\"M139.024 227.21 L155.343 227.21 L155.343 231.145 L133.399 231.145 L133.399 227.21 Q136.061 224.456 140.644 219.826 Q145.251 215.173 146.431 213.831 Q148.677 211.308 149.556 209.571 Q150.459 207.812 150.459 206.122 Q150.459 203.368 148.515 201.632 Q146.593 199.896 143.492 199.896 Q141.293 199.896 138.839 200.659 Q136.408 201.423 133.631 202.974 L133.631 198.252 Q136.455 197.118 138.908 196.539 Q141.362 195.96 143.399 195.96 Q148.769 195.96 151.964 198.646 Q155.158 201.331 155.158 205.822 Q155.158 207.951 154.348 209.872 Q153.561 211.771 151.455 214.363 Q150.876 215.034 147.774 218.252 Q144.672 221.446 139.024 227.21 Z\" fill=\"#000000\" fill-rule=\"nonzero\" fill-opacity=\"1\" /><path clip-path=\"url(#clip700)\" d=\"M175.158 199.664 Q171.547 199.664 169.718 203.229 Q167.913 206.771 167.913 213.9 Q167.913 221.007 169.718 224.571 Q171.547 228.113 175.158 228.113 Q178.792 228.113 180.598 224.571 Q182.427 221.007 182.427 213.9 Q182.427 206.771 180.598 203.229 Q178.792 199.664 175.158 199.664 M175.158 195.96 Q180.968 195.96 184.024 200.567 Q187.103 205.15 187.103 213.9 Q187.103 222.627 184.024 227.233 Q180.968 231.817 175.158 231.817 Q169.348 231.817 166.269 227.233 Q163.214 222.627 163.214 213.9 Q163.214 205.15 166.269 200.567 Q169.348 195.96 175.158 195.96 Z\" fill=\"#000000\" fill-rule=\"nonzero\" fill-opacity=\"1\" /><polyline clip-path=\"url(#clip702)\" style=\"stroke:#009af9; stroke-linecap:round; stroke-linejoin:round; stroke-width:4; stroke-opacity:1; fill:none\" points=\"283.376,1028.47 303.467,1111.97 323.558,1300.16 343.649,1384.18 363.74,1238.18 383.831,1237.82 403.922,1237.82 424.013,1112.49 444.104,1112.18 464.195,1300.17 484.286,1321.52 504.377,1384.24 524.469,1300.85 544.56,1321.52 564.651,1321.58 584.742,1279.8 604.833,1196.15 624.924,1279.49 645.015,1217.03 665.106,1154.22 685.197,1154.06 705.288,1091.4 725.379,986.803 745.47,1007.43 765.561,944.818 785.652,1007.32 805.744,1007.48 825.835,1007.48 845.926,944.819 866.017,944.662 886.108,944.661 906.199,1007.32 926.29,944.818 946.381,1049.1 966.472,1091.13 986.563,1007.69 1006.65,1028.37 1026.75,923.983 1046.84,923.722 1066.93,881.947 1087.02,840.068 1107.11,965.287 1127.2,923.826 1147.29,944.609 1167.38,923.774 1187.47,881.947 1207.56,840.068 1227.66,714.639 1247.75,735.213 1267.84,777.039 1287.93,714.481 1308.02,818.762 1328.11,798.135 1348.2,756.309 1368.29,735.317 1388.38,693.49 1408.48,672.498 1428.57,693.333 1448.66,776.934 1468.75,818.918 1488.84,798.136 1508.93,798.084 1529.02,777.196 1549.11,735.369 1569.2,693.49 1589.3,672.498 1609.39,672.445 1629.48,651.558 1649.57,672.393 1669.66,672.445 1689.75,630.67 1709.84,630.566 1729.93,651.453 1750.02,567.956 1770.11,546.86 1790.21,546.807 1810.3,484.145 1830.39,421.326 1850.48,358.507 1870.57,295.688 1890.66,274.643 1910.75,316.365 1930.84,337.357 1950.93,253.86 1971.03,211.877 1991.12,190.884 2011.21,232.607 2031.3,190.936 2051.39,211.719 2071.48,169.997 2091.57,128.118 2111.66,107.126 2131.75,86.1857 2151.85,107.021 2171.94,169.735 2192.03,149.004 2212.12,148.952 2232.21,107.178 2252.3,127.961 2272.39,128.012 2292.48,169.787 \"/>\n",
       "<path clip-path=\"url(#clip700)\" d=\"M1736.28 196.789 L2281.77 196.789 L2281.77 93.1086 L1736.28 93.1086  Z\" fill=\"#ffffff\" fill-rule=\"evenodd\" fill-opacity=\"1\"/>\n",
       "<polyline clip-path=\"url(#clip700)\" style=\"stroke:#000000; stroke-linecap:round; stroke-linejoin:round; stroke-width:4; stroke-opacity:1; fill:none\" points=\"1736.28,196.789 2281.77,196.789 2281.77,93.1086 1736.28,93.1086 1736.28,196.789 \"/>\n",
       "<polyline clip-path=\"url(#clip700)\" style=\"stroke:#009af9; stroke-linecap:round; stroke-linejoin:round; stroke-width:4; stroke-opacity:1; fill:none\" points=\"1759.94,144.949 1901.92,144.949 \"/>\n",
       "<path clip-path=\"url(#clip700)\" d=\"M1945.93 141.28 Q1947.53 138.409 1949.75 137.044 Q1951.97 135.678 1954.98 135.678 Q1959.03 135.678 1961.23 138.525 Q1963.43 141.349 1963.43 146.581 L1963.43 162.229 L1959.15 162.229 L1959.15 146.719 Q1959.15 142.993 1957.83 141.187 Q1956.51 139.382 1953.8 139.382 Q1950.49 139.382 1948.57 141.581 Q1946.65 143.78 1946.65 147.576 L1946.65 162.229 L1942.37 162.229 L1942.37 146.719 Q1942.37 142.969 1941.05 141.187 Q1939.73 139.382 1936.97 139.382 Q1933.71 139.382 1931.79 141.604 Q1929.87 143.803 1929.87 147.576 L1929.87 162.229 L1925.58 162.229 L1925.58 136.303 L1929.87 136.303 L1929.87 140.331 Q1931.32 137.946 1933.36 136.812 Q1935.4 135.678 1938.2 135.678 Q1941.02 135.678 1942.99 137.113 Q1944.98 138.548 1945.93 141.28 Z\" fill=\"#000000\" fill-rule=\"nonzero\" fill-opacity=\"1\" /><path clip-path=\"url(#clip700)\" d=\"M1983.71 149.196 Q1978.55 149.196 1976.56 150.377 Q1974.56 151.557 1974.56 154.405 Q1974.56 156.673 1976.05 158.016 Q1977.55 159.335 1980.12 159.335 Q1983.66 159.335 1985.79 156.835 Q1987.94 154.312 1987.94 150.145 L1987.94 149.196 L1983.71 149.196 M1992.2 147.437 L1992.2 162.229 L1987.94 162.229 L1987.94 158.293 Q1986.49 160.655 1984.31 161.789 Q1982.13 162.9 1978.99 162.9 Q1975 162.9 1972.64 160.678 Q1970.31 158.432 1970.31 154.682 Q1970.31 150.307 1973.22 148.085 Q1976.16 145.863 1981.97 145.863 L1987.94 145.863 L1987.94 145.446 Q1987.94 142.507 1986 140.909 Q1984.08 139.289 1980.58 139.289 Q1978.36 139.289 1976.25 139.821 Q1974.15 140.354 1972.2 141.419 L1972.2 137.483 Q1974.54 136.581 1976.74 136.141 Q1978.94 135.678 1981.02 135.678 Q1986.65 135.678 1989.43 138.594 Q1992.2 141.511 1992.2 147.437 Z\" fill=\"#000000\" fill-rule=\"nonzero\" fill-opacity=\"1\" /><path clip-path=\"url(#clip700)\" d=\"M2018.04 148.965 Q2018.04 144.335 2016.12 141.789 Q2014.22 139.243 2010.77 139.243 Q2007.34 139.243 2005.42 141.789 Q2003.52 144.335 2003.52 148.965 Q2003.52 153.571 2005.42 156.118 Q2007.34 158.664 2010.77 158.664 Q2014.22 158.664 2016.12 156.118 Q2018.04 153.571 2018.04 148.965 M2022.3 159.011 Q2022.3 165.631 2019.36 168.849 Q2016.42 172.09 2010.35 172.09 Q2008.11 172.09 2006.12 171.742 Q2004.12 171.418 2002.25 170.724 L2002.25 166.58 Q2004.12 167.599 2005.95 168.085 Q2007.78 168.571 2009.68 168.571 Q2013.87 168.571 2015.95 166.372 Q2018.04 164.196 2018.04 159.775 L2018.04 157.668 Q2016.72 159.96 2014.66 161.094 Q2012.6 162.229 2009.73 162.229 Q2004.96 162.229 2002.04 158.594 Q1999.12 154.96 1999.12 148.965 Q1999.12 142.946 2002.04 139.312 Q2004.96 135.678 2009.73 135.678 Q2012.6 135.678 2014.66 136.812 Q2016.72 137.946 2018.04 140.238 L2018.04 136.303 L2022.3 136.303 L2022.3 159.011 Z\" fill=\"#000000\" fill-rule=\"nonzero\" fill-opacity=\"1\" /><path clip-path=\"url(#clip700)\" d=\"M2052.62 146.581 L2052.62 162.229 L2048.36 162.229 L2048.36 146.719 Q2048.36 143.039 2046.93 141.21 Q2045.49 139.382 2042.62 139.382 Q2039.17 139.382 2037.18 141.581 Q2035.19 143.78 2035.19 147.576 L2035.19 162.229 L2030.91 162.229 L2030.91 136.303 L2035.19 136.303 L2035.19 140.331 Q2036.72 137.993 2038.78 136.835 Q2040.86 135.678 2043.57 135.678 Q2048.04 135.678 2050.33 138.456 Q2052.62 141.21 2052.62 146.581 Z\" fill=\"#000000\" fill-rule=\"nonzero\" fill-opacity=\"1\" /><path clip-path=\"url(#clip700)\" d=\"M2083.29 148.201 L2083.29 150.284 L2063.71 150.284 Q2063.99 154.682 2066.35 156.997 Q2068.73 159.289 2072.97 159.289 Q2075.42 159.289 2077.71 158.687 Q2080.03 158.085 2082.3 156.881 L2082.3 160.909 Q2080 161.881 2077.6 162.391 Q2075.19 162.9 2072.71 162.9 Q2066.51 162.9 2062.87 159.289 Q2059.26 155.678 2059.26 149.52 Q2059.26 143.155 2062.69 139.428 Q2066.14 135.678 2071.97 135.678 Q2077.2 135.678 2080.24 139.057 Q2083.29 142.414 2083.29 148.201 M2079.03 146.951 Q2078.99 143.456 2077.06 141.372 Q2075.17 139.289 2072.02 139.289 Q2068.45 139.289 2066.3 141.303 Q2064.17 143.317 2063.85 146.974 L2079.03 146.951 Z\" fill=\"#000000\" fill-rule=\"nonzero\" fill-opacity=\"1\" /><path clip-path=\"url(#clip700)\" d=\"M2094.49 128.942 L2094.49 136.303 L2103.27 136.303 L2103.27 139.613 L2094.49 139.613 L2094.49 153.687 Q2094.49 156.858 2095.35 157.761 Q2096.23 158.664 2098.89 158.664 L2103.27 158.664 L2103.27 162.229 L2098.89 162.229 Q2093.96 162.229 2092.09 160.4 Q2090.21 158.548 2090.21 153.687 L2090.21 139.613 L2087.09 139.613 L2087.09 136.303 L2090.21 136.303 L2090.21 128.942 L2094.49 128.942 Z\" fill=\"#000000\" fill-rule=\"nonzero\" fill-opacity=\"1\" /><path clip-path=\"url(#clip700)\" d=\"M2108.87 136.303 L2113.13 136.303 L2113.13 162.229 L2108.87 162.229 L2108.87 136.303 M2108.87 126.21 L2113.13 126.21 L2113.13 131.604 L2108.87 131.604 L2108.87 126.21 Z\" fill=\"#000000\" fill-rule=\"nonzero\" fill-opacity=\"1\" /><path clip-path=\"url(#clip700)\" d=\"M2138.57 137.067 L2138.57 141.094 Q2136.76 140.169 2134.82 139.706 Q2132.87 139.243 2130.79 139.243 Q2127.62 139.243 2126.02 140.215 Q2124.45 141.187 2124.45 143.131 Q2124.45 144.613 2125.58 145.469 Q2126.72 146.303 2130.14 147.067 L2131.6 147.391 Q2136.14 148.363 2138.04 150.145 Q2139.96 151.905 2139.96 155.076 Q2139.96 158.687 2137.09 160.793 Q2134.24 162.9 2129.24 162.9 Q2127.16 162.9 2124.89 162.483 Q2122.64 162.09 2120.14 161.28 L2120.14 156.881 Q2122.5 158.108 2124.8 158.733 Q2127.09 159.335 2129.33 159.335 Q2132.34 159.335 2133.96 158.317 Q2135.58 157.275 2135.58 155.4 Q2135.58 153.664 2134.4 152.738 Q2133.24 151.812 2129.29 150.956 L2127.8 150.608 Q2123.85 149.775 2122.09 148.062 Q2120.33 146.326 2120.33 143.317 Q2120.33 139.659 2122.92 137.669 Q2125.51 135.678 2130.28 135.678 Q2132.64 135.678 2134.73 136.025 Q2136.81 136.372 2138.57 137.067 Z\" fill=\"#000000\" fill-rule=\"nonzero\" fill-opacity=\"1\" /><path clip-path=\"url(#clip700)\" d=\"M2158.52 149.196 Q2153.36 149.196 2151.37 150.377 Q2149.38 151.557 2149.38 154.405 Q2149.38 156.673 2150.86 158.016 Q2152.36 159.335 2154.93 159.335 Q2158.48 159.335 2160.61 156.835 Q2162.76 154.312 2162.76 150.145 L2162.76 149.196 L2158.52 149.196 M2167.02 147.437 L2167.02 162.229 L2162.76 162.229 L2162.76 158.293 Q2161.3 160.655 2159.12 161.789 Q2156.95 162.9 2153.8 162.9 Q2149.82 162.9 2147.46 160.678 Q2145.12 158.432 2145.12 154.682 Q2145.12 150.307 2148.04 148.085 Q2150.98 145.863 2156.79 145.863 L2162.76 145.863 L2162.76 145.446 Q2162.76 142.507 2160.81 140.909 Q2158.89 139.289 2155.4 139.289 Q2153.17 139.289 2151.07 139.821 Q2148.96 140.354 2147.02 141.419 L2147.02 137.483 Q2149.36 136.581 2151.55 136.141 Q2153.75 135.678 2155.84 135.678 Q2161.46 135.678 2164.24 138.594 Q2167.02 141.511 2167.02 147.437 Z\" fill=\"#000000\" fill-rule=\"nonzero\" fill-opacity=\"1\" /><path clip-path=\"url(#clip700)\" d=\"M2180 128.942 L2180 136.303 L2188.78 136.303 L2188.78 139.613 L2180 139.613 L2180 153.687 Q2180 156.858 2180.86 157.761 Q2181.74 158.664 2184.4 158.664 L2188.78 158.664 L2188.78 162.229 L2184.4 162.229 Q2179.47 162.229 2177.6 160.4 Q2175.72 158.548 2175.72 153.687 L2175.72 139.613 L2172.6 139.613 L2172.6 136.303 L2175.72 136.303 L2175.72 128.942 L2180 128.942 Z\" fill=\"#000000\" fill-rule=\"nonzero\" fill-opacity=\"1\" /><path clip-path=\"url(#clip700)\" d=\"M2194.38 136.303 L2198.64 136.303 L2198.64 162.229 L2194.38 162.229 L2194.38 136.303 M2194.38 126.21 L2198.64 126.21 L2198.64 131.604 L2194.38 131.604 L2194.38 126.21 Z\" fill=\"#000000\" fill-rule=\"nonzero\" fill-opacity=\"1\" /><path clip-path=\"url(#clip700)\" d=\"M2217.6 139.289 Q2214.17 139.289 2212.18 141.974 Q2210.19 144.636 2210.19 149.289 Q2210.19 153.942 2212.16 156.627 Q2214.15 159.289 2217.6 159.289 Q2221 159.289 2222.99 156.604 Q2224.98 153.918 2224.98 149.289 Q2224.98 144.682 2222.99 141.997 Q2221 139.289 2217.6 139.289 M2217.6 135.678 Q2223.15 135.678 2226.32 139.289 Q2229.49 142.9 2229.49 149.289 Q2229.49 155.655 2226.32 159.289 Q2223.15 162.9 2217.6 162.9 Q2212.02 162.9 2208.85 159.289 Q2205.7 155.655 2205.7 149.289 Q2205.7 142.9 2208.85 139.289 Q2212.02 135.678 2217.6 135.678 Z\" fill=\"#000000\" fill-rule=\"nonzero\" fill-opacity=\"1\" /><path clip-path=\"url(#clip700)\" d=\"M2258.1 146.581 L2258.1 162.229 L2253.85 162.229 L2253.85 146.719 Q2253.85 143.039 2252.41 141.21 Q2250.98 139.382 2248.1 139.382 Q2244.66 139.382 2242.66 141.581 Q2240.67 143.78 2240.67 147.576 L2240.67 162.229 L2236.39 162.229 L2236.39 136.303 L2240.67 136.303 L2240.67 140.331 Q2242.2 137.993 2244.26 136.835 Q2246.35 135.678 2249.05 135.678 Q2253.52 135.678 2255.81 138.456 Q2258.1 141.21 2258.1 146.581 Z\" fill=\"#000000\" fill-rule=\"nonzero\" fill-opacity=\"1\" /></svg>\n"
      ],
      "text/html": [
       "<img src=\"data:image/png;base64,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\" />"
      ]
     },
     "metadata": {},
     "output_type": "display_data"
    },
    {
     "data": {
      "text/html": [
       "<div><div style = \"float: left;\"><span>101×1 DataFrame</span></div><div style = \"float: right;\"><span style = \"font-style: italic;\">76 rows omitted</span></div><div style = \"clear: both;\"></div></div><div class = \"data-frame\" style = \"overflow-x: scroll;\"><table class = \"data-frame\" style = \"margin-bottom: 6px;\"><thead><tr class = \"header\"><th class = \"rowNumber\" style = \"font-weight: bold; text-align: right;\">Row</th><th style = \"text-align: left;\">magnetisation</th></tr><tr class = \"subheader headerLastRow\"><th class = \"rowNumber\" style = \"font-weight: bold; text-align: right;\"></th><th title = \"Float64\" style = \"text-align: left;\">Float64</th></tr></thead><tbody><tr><td class = \"rowNumber\" style = \"font-weight: bold; text-align: right;\">1</td><td style = \"text-align: right;\">0.005</td></tr><tr><td class = \"rowNumber\" style = \"font-weight: bold; text-align: right;\">2</td><td style = \"text-align: right;\">-0.0149875</td></tr><tr><td class = \"rowNumber\" style = \"font-weight: bold; text-align: right;\">3</td><td style = \"text-align: right;\">-0.0600375</td></tr><tr><td class = \"rowNumber\" style = \"font-weight: bold; text-align: right;\">4</td><td style = \"text-align: right;\">-0.0801501</td></tr><tr><td class = \"rowNumber\" style = \"font-weight: bold; text-align: right;\">5</td><td style = \"text-align: right;\">-0.0452004</td></tr><tr><td class = \"rowNumber\" style = \"font-weight: bold; text-align: right;\">6</td><td style = \"text-align: right;\">-0.045113</td></tr><tr><td class = \"rowNumber\" style = \"font-weight: bold; text-align: right;\">7</td><td style = \"text-align: right;\">-0.0451128</td></tr><tr><td class = \"rowNumber\" style = \"font-weight: bold; text-align: right;\">8</td><td style = \"text-align: right;\">-0.0151128</td></tr><tr><td class = \"rowNumber\" style = \"font-weight: bold; text-align: right;\">9</td><td style = \"text-align: right;\">-0.0150378</td></tr><tr><td class = \"rowNumber\" style = \"font-weight: bold; text-align: right;\">10</td><td style = \"text-align: right;\">-0.0600376</td></tr><tr><td class = \"rowNumber\" style = \"font-weight: bold; text-align: right;\">11</td><td style = \"text-align: right;\">-0.0651501</td></tr><tr><td class = \"rowNumber\" style = \"font-weight: bold; text-align: right;\">12</td><td style = \"text-align: right;\">-0.0801629</td></tr><tr><td class = \"rowNumber\" style = \"font-weight: bold; text-align: right;\">13</td><td style = \"text-align: right;\">-0.0602004</td></tr><tr><td style = \"text-align: right;\">&vellip;</td><td style = \"text-align: right;\">&vellip;</td></tr><tr><td class = \"rowNumber\" style = \"font-weight: bold; text-align: right;\">90</td><td style = \"text-align: right;\">0.210501</td></tr><tr><td class = \"rowNumber\" style = \"font-weight: bold; text-align: right;\">91</td><td style = \"text-align: right;\">0.220526</td></tr><tr><td class = \"rowNumber\" style = \"font-weight: bold; text-align: right;\">92</td><td style = \"text-align: right;\">0.225551</td></tr><tr><td class = \"rowNumber\" style = \"font-weight: bold; text-align: right;\">93</td><td style = \"text-align: right;\">0.230564</td></tr><tr><td class = \"rowNumber\" style = \"font-weight: bold; text-align: right;\">94</td><td style = \"text-align: right;\">0.225576</td></tr><tr><td class = \"rowNumber\" style = \"font-weight: bold; text-align: right;\">95</td><td style = \"text-align: right;\">0.210564</td></tr><tr><td class = \"rowNumber\" style = \"font-weight: bold; text-align: right;\">96</td><td style = \"text-align: right;\">0.215526</td></tr><tr><td class = \"rowNumber\" style = \"font-weight: bold; text-align: right;\">97</td><td style = \"text-align: right;\">0.215539</td></tr><tr><td class = \"rowNumber\" style = \"font-weight: bold; text-align: right;\">98</td><td style = \"text-align: right;\">0.225539</td></tr><tr><td class = \"rowNumber\" style = \"font-weight: bold; text-align: right;\">99</td><td style = \"text-align: right;\">0.220564</td></tr><tr><td class = \"rowNumber\" style = \"font-weight: bold; text-align: right;\">100</td><td style = \"text-align: right;\">0.220551</td></tr><tr><td class = \"rowNumber\" style = \"font-weight: bold; text-align: right;\">101</td><td style = \"text-align: right;\">0.210551</td></tr></tbody></table></div>"
      ],
      "text/latex": [
       "\\begin{tabular}{r|c}\n",
       "\t& magnetisation\\\\\n",
       "\t\\hline\n",
       "\t& Float64\\\\\n",
       "\t\\hline\n",
       "\t1 & 0.005 \\\\\n",
       "\t2 & -0.0149875 \\\\\n",
       "\t3 & -0.0600375 \\\\\n",
       "\t4 & -0.0801501 \\\\\n",
       "\t5 & -0.0452004 \\\\\n",
       "\t6 & -0.045113 \\\\\n",
       "\t7 & -0.0451128 \\\\\n",
       "\t8 & -0.0151128 \\\\\n",
       "\t9 & -0.0150378 \\\\\n",
       "\t10 & -0.0600376 \\\\\n",
       "\t11 & -0.0651501 \\\\\n",
       "\t12 & -0.0801629 \\\\\n",
       "\t13 & -0.0602004 \\\\\n",
       "\t14 & -0.0651505 \\\\\n",
       "\t15 & -0.0651629 \\\\\n",
       "\t16 & -0.0551629 \\\\\n",
       "\t17 & -0.0351379 \\\\\n",
       "\t18 & -0.0550878 \\\\\n",
       "\t19 & -0.0401377 \\\\\n",
       "\t20 & -0.0251003 \\\\\n",
       "\t21 & -0.0250628 \\\\\n",
       "\t22 & -0.0100627 \\\\\n",
       "\t23 & 0.0149748 \\\\\n",
       "\t24 & 0.0100374 \\\\\n",
       "\t25 & 0.0250251 \\\\\n",
       "\t26 & 0.0100626 \\\\\n",
       "\t27 & 0.0100252 \\\\\n",
       "\t28 & 0.0100251 \\\\\n",
       "\t29 & 0.0250251 \\\\\n",
       "\t30 & 0.0250626 \\\\\n",
       "\t$\\dots$ & $\\dots$ \\\\\n",
       "\\end{tabular}\n"
      ],
      "text/plain": [
       "\u001b[1m101×1 DataFrame\u001b[0m\n",
       "\u001b[1m Row \u001b[0m│\u001b[1m magnetisation \u001b[0m\n",
       "     │\u001b[90m Float64       \u001b[0m\n",
       "─────┼───────────────\n",
       "   1 │     0.005\n",
       "   2 │    -0.0149875\n",
       "   3 │    -0.0600375\n",
       "   4 │    -0.0801501\n",
       "   5 │    -0.0452004\n",
       "   6 │    -0.045113\n",
       "   7 │    -0.0451128\n",
       "   8 │    -0.0151128\n",
       "   9 │    -0.0150378\n",
       "  10 │    -0.0600376\n",
       "  11 │    -0.0651501\n",
       "  ⋮  │       ⋮\n",
       "  92 │     0.225551\n",
       "  93 │     0.230564\n",
       "  94 │     0.225576\n",
       "  95 │     0.210564\n",
       "  96 │     0.215526\n",
       "  97 │     0.215539\n",
       "  98 │     0.225539\n",
       "  99 │     0.220564\n",
       " 100 │     0.220551\n",
       " 101 │     0.210551\n",
       "\u001b[36m      80 rows omitted\u001b[0m"
      ]
     },
     "execution_count": 15,
     "metadata": {},
     "output_type": "execute_result"
    }
   ],
   "source": [
    "df = get_nodes_avg_props(model, node -> node.spin, labels=[\"magnetisation\"], plot_result = true)"
   ]
  }
 ],
 "metadata": {
  "@webio": {
   "lastCommId": "bbb3be2a2d4d447dba3821ae4c052cfe",
   "lastKernelId": "59ae0399-17e5-4a1e-bd11-e510a7b45386"
  },
  "kernelspec": {
   "display_name": "Julia 1.9.2",
   "language": "julia",
   "name": "julia-1.9"
  },
  "language_info": {
   "file_extension": ".jl",
   "mimetype": "application/julia",
   "name": "julia",
   "version": "1.9.2"
  }
 },
 "nbformat": 4,
 "nbformat_minor": 4
}
