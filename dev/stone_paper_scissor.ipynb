{
 "cells": [
  {
   "cell_type": "markdown",
   "metadata": {},
   "source": [
    "# Rock Paper Scissor"
   ]
  },
  {
   "cell_type": "code",
   "execution_count": 1,
   "metadata": {},
   "outputs": [
    {
     "name": "stderr",
     "output_type": "stream",
     "text": [
      "\u001b[32m\u001b[1m  Activating\u001b[22m\u001b[39m project at `~/Documents/EasyABM`\n"
     ]
    },
    {
     "data": {
      "application/vnd.webio.node+json": {
       "children": [],
       "instanceArgs": {
        "namespace": "html",
        "tag": "div"
       },
       "nodeType": "DOM",
       "props": {},
       "type": "node"
      },
      "text/html": [
       "<div style=\"padding: 1em; background-color: #f8d6da; border: 1px solid #f5c6cb; font-weight: bold;\">\n",
       "<p>The WebIO Jupyter extension was not detected. See the\n",
       "<a href=\"https://juliagizmos.github.io/WebIO.jl/latest/providers/ijulia/\" target=\"_blank\">\n",
       "    WebIO Jupyter integration documentation\n",
       "</a>\n",
       "for more information.\n",
       "</div>\n"
      ],
      "text/plain": [
       "WebIO._IJuliaInit()"
      ]
     },
     "metadata": {
      "application/vnd.webio.node+json": {
       "kernelId": "61314e4e-c228-45f8-a896-b92403759935"
      }
     },
     "output_type": "display_data"
    }
   ],
   "source": [
    "using Pkg, Revise\n",
    "Pkg.activate(joinpath(@__DIR__, \"../..\"))\n",
    "using EasyABM"
   ]
  },
  {
   "cell_type": "markdown",
   "metadata": {},
   "source": [
    "## Step 1: Create Model\n",
    "\n",
    "In this model, we work with patches only. We set `grid_size` to (50,50), set `space_type` to Periodic and define an additional model parameter `threshold` whose value is set to 3. "
   ]
  },
  {
   "cell_type": "code",
   "execution_count": 2,
   "metadata": {},
   "outputs": [
    {
     "data": {
      "text/plain": [
       "EasyABM SpaceModel2D{EasyABM.StaticType, Int64, EasyABM.PeriodicType}: In a EasyABM.StaticType model number of agents is fixed.\n"
      ]
     },
     "execution_count": 2,
     "metadata": {},
     "output_type": "execute_result"
    }
   ],
   "source": [
    "model = create_2d_model(size = (50,50), space_type=Periodic, threshold = 3)"
   ]
  },
  {
   "cell_type": "markdown",
   "metadata": {},
   "source": [
    "## Step 2: Initialise the model\n",
    "\n",
    "In the second step we initialise the patches by defining `initialiser!` function and sending it as an argument to `init_model!`. In the `initialiser!` function we randomly assign `cl\"red\"` (for stone), `cl\"green\"` (for paper) and `cl\"blue\"` (for scissor) color to patches. Then we initialise the model using `init_model!` function, in which through the argument `props_to_record`, we tell EasyABM to record the `:color` property of patches during time evolution. Note that, in EasyABM animations are created with the recorded data, therefore if in the present model, the color of patches is not recorded there will be no animation to see. "
   ]
  },
  {
   "cell_type": "code",
   "execution_count": 3,
   "metadata": {},
   "outputs": [],
   "source": [
    "function initialiser!(model)\n",
    "    for j in 1:model.size[2]\n",
    "        for i in 1:model.size[1]\n",
    "            num = rand()\n",
    "            if num<0.33\n",
    "                model.patches[i,j].color = cl\"red\" # stone => red, paper => green, scissor => blue\n",
    "            elseif num>0.66\n",
    "                model.patches[i,j].color = cl\"green\"\n",
    "            else\n",
    "                model.patches[i,j].color = cl\"blue\"\n",
    "            end\n",
    "        end\n",
    "    end\n",
    "end\n",
    "\n",
    "init_model!(model, initialiser = initialiser!, props_to_record = Dict(\"patches\" => Set([:color])))"
   ]
  },
  {
   "cell_type": "markdown",
   "metadata": {},
   "source": [
    "## Step 3: Defining the step_rule! and running the model\n",
    "\n",
    "In this step we define the `step_rule!` function and run the model for 400 steps. The rule of the game is very simple. The `cl\"red\"` color of a patch will change to `cl\"green\"` if number of neighboring patches with color `cl\"green\"` exceeds the threshold( which we set to be 3 in the beginning). Similarly, if a `cl\"green\"` patch finds larger than the threshold number of `cl\"blue\"` patches in its neighborhood, it will change to `cl\"blue\"`, and if a `cl\"blue\"` patch finds larger than threshold number of `cl\"red\"` patches in its neighborhood it will change to `cl\"red\"`. Each step of the model consists of 500 Monte-Carlo steps in which a patch is selected at random and the above mentioned rule applied to it. "
   ]
  },
  {
   "cell_type": "code",
   "execution_count": 4,
   "metadata": {
    "scrolled": true
   },
   "outputs": [
    {
     "data": {
      "text/plain": [
       "Dict{Col, Col} with 3 entries:\n",
       "  RGBA{N0f8}(0.0,0.0,1.0,1.0… => RGBA{N0f8}(1.0,0.0,0.0,1.0)…\n",
       "  RGBA{N0f8}(0.0,1.0,0.0,1.0… => RGBA{N0f8}(0.0,0.0,1.0,1.0)…\n",
       "  RGBA{N0f8}(1.0,0.0,0.0,1.0… => RGBA{N0f8}(0.0,1.0,0.0,1.0)…"
      ]
     },
     "execution_count": 4,
     "metadata": {},
     "output_type": "execute_result"
    }
   ],
   "source": [
    "const who_wins_against = Dict(cl\"red\" => cl\"green\", cl\"green\" => cl\"blue\", cl\"blue\" => cl\"red\")"
   ]
  },
  {
   "cell_type": "code",
   "execution_count": 5,
   "metadata": {},
   "outputs": [
    {
     "data": {
      "text/plain": [
       "step_rule! (generic function with 1 method)"
      ]
     },
     "execution_count": 5,
     "metadata": {},
     "output_type": "execute_result"
    }
   ],
   "source": [
    "function step_rule!(model)\n",
    "    for _ in 1:500\n",
    "        i = rand(1:model.size[1])\n",
    "        j = rand(1:model.size[2])\n",
    "        nbr_patches = neighbor_patches_moore((i,j), model, 1)\n",
    "        col = model.patches[i,j].color\n",
    "        winner_col = who_wins_against[col]\n",
    "        count = 0 \n",
    "        for patch in nbr_patches\n",
    "            if model.patches[patch...].color == winner_col\n",
    "                count+=1\n",
    "            end\n",
    "        end\n",
    "        if count > model.properties.threshold\n",
    "            model.patches[i,j].color = winner_col\n",
    "        end\n",
    "    end\n",
    "end"
   ]
  },
  {
   "cell_type": "code",
   "execution_count": 6,
   "metadata": {},
   "outputs": [],
   "source": [
    "run_model!(model, steps = 400, step_rule = step_rule!)"
   ]
  },
  {
   "cell_type": "markdown",
   "metadata": {},
   "source": [
    "## Step 4: Visualisation"
   ]
  },
  {
   "cell_type": "markdown",
   "metadata": {},
   "source": [
    "In order to draw the model at a specific frame, say 4th, one can use"
   ]
  },
  {
   "cell_type": "code",
   "execution_count": 7,
   "metadata": {
    "scrolled": true
   },
   "outputs": [
    {
     "data": {
      "image/png": "[encoded data removed]",
      "text/plain": []
     },
     "execution_count": 7,
     "metadata": {},
     "output_type": "execute_result"
    }
   ],
   "source": [
    "draw_frame(model, frame = 4, show_patches=true)"
   ]
  },
  {
   "cell_type": "markdown",
   "metadata": {},
   "source": [
    "If one wants to see the animation of the model run, it can be done as "
   ]
  },
  {
   "cell_type": "code",
   "execution_count": 8,
   "metadata": {},
   "outputs": [
    {
     "data": {
      "application/vnd.webio.node+json": {
       "children": [
        {
         "children": [
          {
           "children": [
            {
             "children": [
              {
               "children": [
                {
                 "children": [
                  {
                   "children": [
                    {
                     "children": [
                      "time"
                     ],
                     "instanceArgs": {
                      "namespace": "html",
                      "tag": "label"
                     },
                     "nodeType": "DOM",
                     "props": {
                      "className": "interact ",
                      "style": {
                       "padding": "5px 10px 0px 10px"
                      }
                     },
                     "type": "node"
                    }
                   ],
                   "instanceArgs": {
                    "namespace": "html",
                    "tag": "div"
                   },
                   "nodeType": "DOM",
                   "props": {
                    "className": "interact-flex-row-left"
                   },
                   "type": "node"
                  },
                  {
                   "children": [
                    {
                     "children": [],
                     "instanceArgs": {
                      "namespace": "html",
                      "tag": "input"
                     },
                     "nodeType": "DOM",
                     "props": {
                      "attributes": {
                       "data-bind": "numericValue: index, valueUpdate: 'input', event: {change: function (){this.changes(this.changes()+1)}}",
                       "orient": "horizontal",
                       "type": "range"
                      },
                      "className": "slider slider is-fullwidth",
                      "max": 401,
                      "min": 1,
                      "step": 1,
                      "style": {}
                     },
                     "type": "node"
                    }
                   ],
                   "instanceArgs": {
                    "namespace": "html",
                    "tag": "div"
                   },
                   "nodeType": "DOM",
                   "props": {
                    "className": "interact-flex-row-center"
                   },
                   "type": "node"
                  },
                  {
                   "children": [
                    {
                     "children": [],
                     "instanceArgs": {
                      "namespace": "html",
                      "tag": "p"
                     },
                     "nodeType": "DOM",
                     "props": {
                      "attributes": {
                       "data-bind": "text: formatted_val"
                      }
                     },
                     "type": "node"
                    }
                   ],
                   "instanceArgs": {
                    "namespace": "html",
                    "tag": "div"
                   },
                   "nodeType": "DOM",
                   "props": {
                    "className": "interact-flex-row-right"
                   },
                   "type": "node"
                  }
                 ],
                 "instanceArgs": {
                  "namespace": "html",
                  "tag": "div"
                 },
                 "nodeType": "DOM",
                 "props": {
                  "className": "interact-flex-row interact-widget"
                 },
                 "type": "node"
                }
               ],
               "instanceArgs": {
                "handlers": {
                 "changes": [
                  "(function (val){return (val!=this.model[\"changes\"]()) ? (this.valueFromJulia[\"changes\"]=true, this.model[\"changes\"](val)) : undefined})"
                 ],
                 "index": [
                  "(function (val){return (val!=this.model[\"index\"]()) ? (this.valueFromJulia[\"index\"]=true, this.model[\"index\"](val)) : undefined})"
                 ]
                },
                "id": "48795722500903146",
                "imports": {
                 "data": [
                  {
                   "name": "knockout",
                   "type": "js",
                   "url": "/assetserver/727383f2a47bd31570b7da84eee7b022dd6d7c78-knockout.js"
                  },
                  {
                   "name": "knockout_punches",
                   "type": "js",
                   "url": "/assetserver/382b41b3b1bd9f26f75861d360bad7f8beea211f-knockout_punches.js"
                  },
                  {
                   "name": null,
                   "type": "js",
                   "url": "/assetserver/5ab20f1060420992a9b82a65b735dee4d81ef413-all.js"
                  },
                  {
                   "name": null,
                   "type": "css",
                   "url": "/assetserver/1cc0ed62837210b80a182cc3676512f895dab686-style.css"
                  },
                  {
                   "name": null,
                   "type": "css",
                   "url": "/assetserver/2eee816f616df3549d7044d45e744fbf8d42bfa1-bulma_confined.min.css"
                  }
                 ],
                 "type": "async_block"
                },
                "mount_callbacks": [
                 "function () {\n    var handler = (function (ko, koPunches) {\n    ko.punches.enableAll();\n    ko.bindingHandlers.numericValue = {\n        init: function(element, valueAccessor, allBindings, data, context) {\n            var stringified = ko.observable(ko.unwrap(valueAccessor()));\n            stringified.subscribe(function(value) {\n                var val = parseFloat(value);\n                if (!isNaN(val)) {\n                    valueAccessor()(val);\n                }\n            });\n            valueAccessor().subscribe(function(value) {\n                var str = JSON.stringify(value);\n                if ((str == \"0\") && ([\"-0\", \"-0.\"].indexOf(stringified()) >= 0))\n                     return;\n                 if ([\"null\", \"\"].indexOf(str) >= 0)\n                     return;\n                stringified(str);\n            });\n            ko.applyBindingsToNode(\n                element,\n                {\n                    value: stringified,\n                    valueUpdate: allBindings.get('valueUpdate'),\n                },\n                context,\n            );\n        }\n    };\n    var json_data = {\"formatted_vals\":[\"1\",\"2\",\"3\",\"4\",\"5\",\"6\",\"7\",\"8\",\"9\",\"10\",\"11\",\"12\",\"13\",\"14\",\"15\",\"16\",\"17\",\"18\",\"19\",\"20\",\"21\",\"22\",\"23\",\"24\",\"25\",\"26\",\"27\",\"28\",\"29\",\"30\",\"31\",\"32\",\"33\",\"34\",\"35\",\"36\",\"37\",\"38\",\"39\",\"40\",\"41\",\"42\",\"43\",\"44\",\"45\",\"46\",\"47\",\"48\",\"49\",\"50\",\"51\",\"52\",\"53\",\"54\",\"55\",\"56\",\"57\",\"58\",\"59\",\"60\",\"61\",\"62\",\"63\",\"64\",\"65\",\"66\",\"67\",\"68\",\"69\",\"70\",\"71\",\"72\",\"73\",\"74\",\"75\",\"76\",\"77\",\"78\",\"79\",\"80\",\"81\",\"82\",\"83\",\"84\",\"85\",\"86\",\"87\",\"88\",\"89\",\"90\",\"91\",\"92\",\"93\",\"94\",\"95\",\"96\",\"97\",\"98\",\"99\",\"100\",\"101\",\"102\",\"103\",\"104\",\"105\",\"106\",\"107\",\"108\",\"109\",\"110\",\"111\",\"112\",\"113\",\"114\",\"115\",\"116\",\"117\",\"118\",\"119\",\"120\",\"121\",\"122\",\"123\",\"124\",\"125\",\"126\",\"127\",\"128\",\"129\",\"130\",\"131\",\"132\",\"133\",\"134\",\"135\",\"136\",\"137\",\"138\",\"139\",\"140\",\"141\",\"142\",\"143\",\"144\",\"145\",\"146\",\"147\",\"148\",\"149\",\"150\",\"151\",\"152\",\"153\",\"154\",\"155\",\"156\",\"157\",\"158\",\"159\",\"160\",\"161\",\"162\",\"163\",\"164\",\"165\",\"166\",\"167\",\"168\",\"169\",\"170\",\"171\",\"172\",\"173\",\"174\",\"175\",\"176\",\"177\",\"178\",\"179\",\"180\",\"181\",\"182\",\"183\",\"184\",\"185\",\"186\",\"187\",\"188\",\"189\",\"190\",\"191\",\"192\",\"193\",\"194\",\"195\",\"196\",\"197\",\"198\",\"199\",\"200\",\"201\",\"202\",\"203\",\"204\",\"205\",\"206\",\"207\",\"208\",\"209\",\"210\",\"211\",\"212\",\"213\",\"214\",\"215\",\"216\",\"217\",\"218\",\"219\",\"220\",\"221\",\"222\",\"223\",\"224\",\"225\",\"226\",\"227\",\"228\",\"229\",\"230\",\"231\",\"232\",\"233\",\"234\",\"235\",\"236\",\"237\",\"238\",\"239\",\"240\",\"241\",\"242\",\"243\",\"244\",\"245\",\"246\",\"247\",\"248\",\"249\",\"250\",\"251\",\"252\",\"253\",\"254\",\"255\",\"256\",\"257\",\"258\",\"259\",\"260\",\"261\",\"262\",\"263\",\"264\",\"265\",\"266\",\"267\",\"268\",\"269\",\"270\",\"271\",\"272\",\"273\",\"274\",\"275\",\"276\",\"277\",\"278\",\"279\",\"280\",\"281\",\"282\",\"283\",\"284\",\"285\",\"286\",\"287\",\"288\",\"289\",\"290\",\"291\",\"292\",\"293\",\"294\",\"295\",\"296\",\"297\",\"298\",\"299\",\"300\",\"301\",\"302\",\"303\",\"304\",\"305\",\"306\",\"307\",\"308\",\"309\",\"310\",\"311\",\"312\",\"313\",\"314\",\"315\",\"316\",\"317\",\"318\",\"319\",\"320\",\"321\",\"322\",\"323\",\"324\",\"325\",\"326\",\"327\",\"328\",\"329\",\"330\",\"331\",\"332\",\"333\",\"334\",\"335\",\"336\",\"337\",\"338\",\"339\",\"340\",\"341\",\"342\",\"343\",\"344\",\"345\",\"346\",\"347\",\"348\",\"349\",\"350\",\"351\",\"352\",\"353\",\"354\",\"355\",\"356\",\"357\",\"358\",\"359\",\"360\",\"361\",\"362\",\"363\",\"364\",\"365\",\"366\",\"367\",\"368\",\"369\",\"370\",\"371\",\"372\",\"373\",\"374\",\"375\",\"376\",\"377\",\"378\",\"379\",\"380\",\"381\",\"382\",\"383\",\"384\",\"385\",\"386\",\"387\",\"388\",\"389\",\"390\",\"391\",\"392\",\"393\",\"394\",\"395\",\"396\",\"397\",\"398\",\"399\",\"400\",\"401\"],\"changes\":WebIO.getval({\"name\":\"changes\",\"scope\":\"48795722500903146\",\"id\":\"4605069494309459102\",\"type\":\"observable\"}),\"index\":WebIO.getval({\"name\":\"index\",\"scope\":\"48795722500903146\",\"id\":\"4891897415596218169\",\"type\":\"observable\"})};\n    var self = this;\n    function AppViewModel() {\n        for (var key in json_data) {\n            var el = json_data[key];\n            this[key] = Array.isArray(el) ? ko.observableArray(el) : ko.observable(el);\n        }\n        \n        [this[\"formatted_val\"]=ko.computed(    function(){\n        return this.formatted_vals()[parseInt(this.index())-(1)];\n    }\n,this)]\n        [this[\"changes\"].subscribe((function (val){!(this.valueFromJulia[\"changes\"]) ? (WebIO.setval({\"name\":\"changes\",\"scope\":\"48795722500903146\",\"id\":\"4605069494309459102\",\"type\":\"observable\"},val)) : undefined; return this.valueFromJulia[\"changes\"]=false}),self),this[\"index\"].subscribe((function (val){!(this.valueFromJulia[\"index\"]) ? (WebIO.setval({\"name\":\"index\",\"scope\":\"48795722500903146\",\"id\":\"4891897415596218169\",\"type\":\"observable\"},val)) : undefined; return this.valueFromJulia[\"index\"]=false}),self)]\n        \n    }\n    self.model = new AppViewModel();\n    self.valueFromJulia = {};\n    for (var key in json_data) {\n        self.valueFromJulia[key] = false;\n    }\n    ko.applyBindings(self.model, self.dom);\n}\n);\n    (WebIO.importBlock({\"data\":[{\"name\":\"knockout\",\"type\":\"js\",\"url\":\"/assetserver/727383f2a47bd31570b7da84eee7b022dd6d7c78-knockout.js\"},{\"name\":\"knockout_punches\",\"type\":\"js\",\"url\":\"/assetserver/382b41b3b1bd9f26f75861d360bad7f8beea211f-knockout_punches.js\"}],\"type\":\"async_block\"})).then((imports) => handler.apply(this, imports));\n}\n"
                ],
                "observables": {
                 "changes": {
                  "id": "4605069494309459102",
                  "sync": false,
                  "value": 0
                 },
                 "index": {
                  "id": "4891897415596218169",
                  "sync": true,
                  "value": 201
                 }
                },
                "systemjs_options": null
               },
               "nodeType": "Scope",
               "props": {},
               "type": "node"
              }
             ],
             "instanceArgs": {
              "namespace": "html",
              "tag": "div"
             },
             "nodeType": "DOM",
             "props": {
              "className": "field interact-widget"
             },
             "type": "node"
            },
            {
             "children": [
              {
               "children": [
                {
                 "children": [
                  {
                   "children": [
                    {
                     "children": [
                      "scale"
                     ],
                     "instanceArgs": {
                      "namespace": "html",
                      "tag": "label"
                     },
                     "nodeType": "DOM",
                     "props": {
                      "className": "interact ",
                      "style": {
                       "padding": "5px 10px 0px 10px"
                      }
                     },
                     "type": "node"
                    }
                   ],
                   "instanceArgs": {
                    "namespace": "html",
                    "tag": "div"
                   },
                   "nodeType": "DOM",
                   "props": {
                    "className": "interact-flex-row-left"
                   },
                   "type": "node"
                  },
                  {
                   "children": [
                    {
                     "children": [],
                     "instanceArgs": {
                      "namespace": "html",
                      "tag": "input"
                     },
                     "nodeType": "DOM",
                     "props": {
                      "attributes": {
                       "data-bind": "numericValue: index, valueUpdate: 'input', event: {change: function (){this.changes(this.changes()+1)}}",
                       "orient": "horizontal",
                       "type": "range"
                      },
                      "className": "slider slider is-fullwidth",
                      "max": 20,
                      "min": 1,
                      "step": 1,
                      "style": {}
                     },
                     "type": "node"
                    }
                   ],
                   "instanceArgs": {
                    "namespace": "html",
                    "tag": "div"
                   },
                   "nodeType": "DOM",
                   "props": {
                    "className": "interact-flex-row-center"
                   },
                   "type": "node"
                  },
                  {
                   "children": [
                    {
                     "children": [],
                     "instanceArgs": {
                      "namespace": "html",
                      "tag": "p"
                     },
                     "nodeType": "DOM",
                     "props": {
                      "attributes": {
                       "data-bind": "text: formatted_val"
                      }
                     },
                     "type": "node"
                    }
                   ],
                   "instanceArgs": {
                    "namespace": "html",
                    "tag": "div"
                   },
                   "nodeType": "DOM",
                   "props": {
                    "className": "interact-flex-row-right"
                   },
                   "type": "node"
                  }
                 ],
                 "instanceArgs": {
                  "namespace": "html",
                  "tag": "div"
                 },
                 "nodeType": "DOM",
                 "props": {
                  "className": "interact-flex-row interact-widget"
                 },
                 "type": "node"
                }
               ],
               "instanceArgs": {
                "handlers": {
                 "changes": [
                  "(function (val){return (val!=this.model[\"changes\"]()) ? (this.valueFromJulia[\"changes\"]=true, this.model[\"changes\"](val)) : undefined})"
                 ],
                 "index": [
                  "(function (val){return (val!=this.model[\"index\"]()) ? (this.valueFromJulia[\"index\"]=true, this.model[\"index\"](val)) : undefined})"
                 ]
                },
                "id": "17152931916970969356",
                "imports": {
                 "data": [
                  {
                   "name": "knockout",
                   "type": "js",
                   "url": "/assetserver/727383f2a47bd31570b7da84eee7b022dd6d7c78-knockout.js"
                  },
                  {
                   "name": "knockout_punches",
                   "type": "js",
                   "url": "/assetserver/382b41b3b1bd9f26f75861d360bad7f8beea211f-knockout_punches.js"
                  },
                  {
                   "name": null,
                   "type": "js",
                   "url": "/assetserver/5ab20f1060420992a9b82a65b735dee4d81ef413-all.js"
                  },
                  {
                   "name": null,
                   "type": "css",
                   "url": "/assetserver/1cc0ed62837210b80a182cc3676512f895dab686-style.css"
                  },
                  {
                   "name": null,
                   "type": "css",
                   "url": "/assetserver/2eee816f616df3549d7044d45e744fbf8d42bfa1-bulma_confined.min.css"
                  }
                 ],
                 "type": "async_block"
                },
                "mount_callbacks": [
                 "function () {\n    var handler = (function (ko, koPunches) {\n    ko.punches.enableAll();\n    ko.bindingHandlers.numericValue = {\n        init: function(element, valueAccessor, allBindings, data, context) {\n            var stringified = ko.observable(ko.unwrap(valueAccessor()));\n            stringified.subscribe(function(value) {\n                var val = parseFloat(value);\n                if (!isNaN(val)) {\n                    valueAccessor()(val);\n                }\n            });\n            valueAccessor().subscribe(function(value) {\n                var str = JSON.stringify(value);\n                if ((str == \"0\") && ([\"-0\", \"-0.\"].indexOf(stringified()) >= 0))\n                     return;\n                 if ([\"null\", \"\"].indexOf(str) >= 0)\n                     return;\n                stringified(str);\n            });\n            ko.applyBindingsToNode(\n                element,\n                {\n                    value: stringified,\n                    valueUpdate: allBindings.get('valueUpdate'),\n                },\n                context,\n            );\n        }\n    };\n    var json_data = {\"formatted_vals\":[\"0.1\",\"0.2\",\"0.3\",\"0.4\",\"0.5\",\"0.6\",\"0.7\",\"0.8\",\"0.9\",\"1.0\",\"1.1\",\"1.2\",\"1.3\",\"1.4\",\"1.5\",\"1.6\",\"1.7\",\"1.8\",\"1.9\",\"2.0\"],\"changes\":WebIO.getval({\"name\":\"changes\",\"scope\":\"17152931916970969356\",\"id\":\"13532266726258399007\",\"type\":\"observable\"}),\"index\":WebIO.getval({\"name\":\"index\",\"scope\":\"17152931916970969356\",\"id\":\"16703443407692721077\",\"type\":\"observable\"})};\n    var self = this;\n    function AppViewModel() {\n        for (var key in json_data) {\n            var el = json_data[key];\n            this[key] = Array.isArray(el) ? ko.observableArray(el) : ko.observable(el);\n        }\n        \n        [this[\"formatted_val\"]=ko.computed(    function(){\n        return this.formatted_vals()[parseInt(this.index())-(1)];\n    }\n,this)]\n        [this[\"changes\"].subscribe((function (val){!(this.valueFromJulia[\"changes\"]) ? (WebIO.setval({\"name\":\"changes\",\"scope\":\"17152931916970969356\",\"id\":\"13532266726258399007\",\"type\":\"observable\"},val)) : undefined; return this.valueFromJulia[\"changes\"]=false}),self),this[\"index\"].subscribe((function (val){!(this.valueFromJulia[\"index\"]) ? (WebIO.setval({\"name\":\"index\",\"scope\":\"17152931916970969356\",\"id\":\"16703443407692721077\",\"type\":\"observable\"},val)) : undefined; return this.valueFromJulia[\"index\"]=false}),self)]\n        \n    }\n    self.model = new AppViewModel();\n    self.valueFromJulia = {};\n    for (var key in json_data) {\n        self.valueFromJulia[key] = false;\n    }\n    ko.applyBindings(self.model, self.dom);\n}\n);\n    (WebIO.importBlock({\"data\":[{\"name\":\"knockout\",\"type\":\"js\",\"url\":\"/assetserver/727383f2a47bd31570b7da84eee7b022dd6d7c78-knockout.js\"},{\"name\":\"knockout_punches\",\"type\":\"js\",\"url\":\"/assetserver/382b41b3b1bd9f26f75861d360bad7f8beea211f-knockout_punches.js\"}],\"type\":\"async_block\"})).then((imports) => handler.apply(this, imports));\n}\n"
                ],
                "observables": {
                 "changes": {
                  "id": "13532266726258399007",
                  "sync": false,
                  "value": 0
                 },
                 "index": {
                  "id": "16703443407692721077",
                  "sync": true,
                  "value": 10
                 }
                },
                "systemjs_options": null
               },
               "nodeType": "Scope",
               "props": {},
               "type": "node"
              }
             ],
             "instanceArgs": {
              "namespace": "html",
              "tag": "div"
             },
             "nodeType": "DOM",
             "props": {
              "className": "field interact-widget"
             },
             "type": "node"
            },
            {
             "children": [
              {
               "children": [
                {
                 "children": [
                  {
                   "children": [],
                   "instanceArgs": {
                    "namespace": "html",
                    "tag": "div"
                   },
                   "nodeType": "DOM",
                   "props": {
                    "id": "container"
                   },
                   "type": "node"
                  }
                 ],
                 "instanceArgs": {
                  "handlers": {
                   "value": [
                    "(function (txt){return this.k.render(txt,this.container)})"
                   ]
                  },
                  "id": "1822094710645137769",
                  "imports": {
                   "data": [
                    {
                     "name": null,
                     "type": "js",
                     "url": "/assetserver/dd22ed1bf1896c2748f3fe616ce0b838adc895c1-katex.min.js"
                    },
                    {
                     "name": null,
                     "type": "css",
                     "url": "/assetserver/46517a424aa5e6cffc1360d7e0848b601c584ee3-katex.min.css"
                    }
                   ],
                   "type": "async_block"
                  },
                  "mount_callbacks": [
                   "function () {\n    var handler = ((function (k){this.k=k; this.container=this.dom.querySelector(\"#container\"); return k.render(\"\\\\;\\\\;\",this.container)}));\n    (WebIO.importBlock({\"data\":[{\"name\":null,\"type\":\"js\",\"url\":\"/assetserver/dd22ed1bf1896c2748f3fe616ce0b838adc895c1-katex.min.js\"},{\"name\":null,\"type\":\"css\",\"url\":\"/assetserver/46517a424aa5e6cffc1360d7e0848b601c584ee3-katex.min.css\"}],\"type\":\"async_block\"})).then((imports) => handler.apply(this, imports));\n}\n"
                  ],
                  "observables": {
                   "value": {
                    "id": "2194936036810265758",
                    "sync": false,
                    "value": "\\;\\;"
                   }
                  },
                  "systemjs_options": null
                 },
                 "nodeType": "Scope",
                 "props": {},
                 "type": "node"
                }
               ],
               "instanceArgs": {
                "namespace": "html",
                "tag": "div"
               },
               "nodeType": "DOM",
               "props": {
                "className": "interact-widget"
               },
               "type": "node"
              },
              {
               "children": [
                {
                 "children": [
                  {
                   "children": [
                    "run"
                   ],
                   "instanceArgs": {
                    "namespace": "html",
                    "tag": "button"
                   },
                   "nodeType": "DOM",
                   "props": {
                    "attributes": {
                     "data-bind": "click: function (){this.clicks(this.clicks()+1)}, css: {'is-loading' : loading}"
                    },
                    "className": "is-medium button is-primary",
                    "style": {}
                   },
                   "type": "node"
                  }
                 ],
                 "instanceArgs": {
                  "handlers": {
                   "clicks": [
                    "(function (val){return (val!=this.model[\"clicks\"]()) ? (this.valueFromJulia[\"clicks\"]=true, this.model[\"clicks\"](val)) : undefined})"
                   ],
                   "loading": [
                    "(function (val){return (val!=this.model[\"loading\"]()) ? (this.valueFromJulia[\"loading\"]=true, this.model[\"loading\"](val)) : undefined})"
                   ]
                  },
                  "id": "10117081034332158435",
                  "imports": {
                   "data": [
                    {
                     "name": "knockout",
                     "type": "js",
                     "url": "/assetserver/727383f2a47bd31570b7da84eee7b022dd6d7c78-knockout.js"
                    },
                    {
                     "name": "knockout_punches",
                     "type": "js",
                     "url": "/assetserver/382b41b3b1bd9f26f75861d360bad7f8beea211f-knockout_punches.js"
                    },
                    {
                     "name": null,
                     "type": "js",
                     "url": "/assetserver/5ab20f1060420992a9b82a65b735dee4d81ef413-all.js"
                    },
                    {
                     "name": null,
                     "type": "css",
                     "url": "/assetserver/1cc0ed62837210b80a182cc3676512f895dab686-style.css"
                    },
                    {
                     "name": null,
                     "type": "css",
                     "url": "/assetserver/2eee816f616df3549d7044d45e744fbf8d42bfa1-bulma_confined.min.css"
                    }
                   ],
                   "type": "async_block"
                  },
                  "mount_callbacks": [
                   "function () {\n    var handler = (function (ko, koPunches) {\n    ko.punches.enableAll();\n    ko.bindingHandlers.numericValue = {\n        init: function(element, valueAccessor, allBindings, data, context) {\n            var stringified = ko.observable(ko.unwrap(valueAccessor()));\n            stringified.subscribe(function(value) {\n                var val = parseFloat(value);\n                if (!isNaN(val)) {\n                    valueAccessor()(val);\n                }\n            });\n            valueAccessor().subscribe(function(value) {\n                var str = JSON.stringify(value);\n                if ((str == \"0\") && ([\"-0\", \"-0.\"].indexOf(stringified()) >= 0))\n                     return;\n                 if ([\"null\", \"\"].indexOf(str) >= 0)\n                     return;\n                stringified(str);\n            });\n            ko.applyBindingsToNode(\n                element,\n                {\n                    value: stringified,\n                    valueUpdate: allBindings.get('valueUpdate'),\n                },\n                context,\n            );\n        }\n    };\n    var json_data = {\"loading\":WebIO.getval({\"name\":\"loading\",\"scope\":\"10117081034332158435\",\"id\":\"18234306212445934865\",\"type\":\"observable\"}),\"clicks\":WebIO.getval({\"name\":\"clicks\",\"scope\":\"10117081034332158435\",\"id\":\"18184822852142252901\",\"type\":\"observable\"})};\n    var self = this;\n    function AppViewModel() {\n        for (var key in json_data) {\n            var el = json_data[key];\n            this[key] = Array.isArray(el) ? ko.observableArray(el) : ko.observable(el);\n        }\n        \n        \n        [this[\"loading\"].subscribe((function (val){!(this.valueFromJulia[\"loading\"]) ? (WebIO.setval({\"name\":\"loading\",\"scope\":\"10117081034332158435\",\"id\":\"18234306212445934865\",\"type\":\"observable\"},val)) : undefined; return this.valueFromJulia[\"loading\"]=false}),self),this[\"clicks\"].subscribe((function (val){!(this.valueFromJulia[\"clicks\"]) ? (WebIO.setval({\"name\":\"clicks\",\"scope\":\"10117081034332158435\",\"id\":\"18184822852142252901\",\"type\":\"observable\"},val)) : undefined; return this.valueFromJulia[\"clicks\"]=false}),self)]\n        \n    }\n    self.model = new AppViewModel();\n    self.valueFromJulia = {};\n    for (var key in json_data) {\n        self.valueFromJulia[key] = false;\n    }\n    ko.applyBindings(self.model, self.dom);\n}\n);\n    (WebIO.importBlock({\"data\":[{\"name\":\"knockout\",\"type\":\"js\",\"url\":\"/assetserver/727383f2a47bd31570b7da84eee7b022dd6d7c78-knockout.js\"},{\"name\":\"knockout_punches\",\"type\":\"js\",\"url\":\"/assetserver/382b41b3b1bd9f26f75861d360bad7f8beea211f-knockout_punches.js\"}],\"type\":\"async_block\"})).then((imports) => handler.apply(this, imports));\n}\n"
                  ],
                  "observables": {
                   "clicks": {
                    "id": "18184822852142252901",
                    "sync": true,
                    "value": 0
                   },
                   "loading": {
                    "id": "18234306212445934865",
                    "sync": false,
                    "value": false
                   }
                  },
                  "systemjs_options": null
                 },
                 "nodeType": "Scope",
                 "props": {},
                 "type": "node"
                }
               ],
               "instanceArgs": {
                "namespace": "html",
                "tag": "div"
               },
               "nodeType": "DOM",
               "props": {
                "className": "field interact-widget"
               },
               "type": "node"
              },
              {
               "children": [
                {
                 "children": [
                  {
                   "children": [],
                   "instanceArgs": {
                    "namespace": "html",
                    "tag": "div"
                   },
                   "nodeType": "DOM",
                   "props": {
                    "id": "container"
                   },
                   "type": "node"
                  }
                 ],
                 "instanceArgs": {
                  "handlers": {
                   "value": [
                    "(function (txt){return this.k.render(txt,this.container)})"
                   ]
                  },
                  "id": "1822094710645137769",
                  "imports": {
                   "data": [
                    {
                     "name": null,
                     "type": "js",
                     "url": "/assetserver/dd22ed1bf1896c2748f3fe616ce0b838adc895c1-katex.min.js"
                    },
                    {
                     "name": null,
                     "type": "css",
                     "url": "/assetserver/46517a424aa5e6cffc1360d7e0848b601c584ee3-katex.min.css"
                    }
                   ],
                   "type": "async_block"
                  },
                  "mount_callbacks": [
                   "function () {\n    var handler = ((function (k){this.k=k; this.container=this.dom.querySelector(\"#container\"); return k.render(\"\\\\;\\\\;\",this.container)}));\n    (WebIO.importBlock({\"data\":[{\"name\":null,\"type\":\"js\",\"url\":\"/assetserver/dd22ed1bf1896c2748f3fe616ce0b838adc895c1-katex.min.js\"},{\"name\":null,\"type\":\"css\",\"url\":\"/assetserver/46517a424aa5e6cffc1360d7e0848b601c584ee3-katex.min.css\"}],\"type\":\"async_block\"})).then((imports) => handler.apply(this, imports));\n}\n"
                  ],
                  "observables": {
                   "value": {
                    "id": "2194936036810265758",
                    "sync": false,
                    "value": "\\;\\;"
                   }
                  },
                  "systemjs_options": null
                 },
                 "nodeType": "Scope",
                 "props": {},
                 "type": "node"
                }
               ],
               "instanceArgs": {
                "namespace": "html",
                "tag": "div"
               },
               "nodeType": "DOM",
               "props": {
                "className": "interact-widget"
               },
               "type": "node"
              },
              {
               "children": [
                {
                 "children": [
                  {
                   "children": [
                    "stop"
                   ],
                   "instanceArgs": {
                    "namespace": "html",
                    "tag": "button"
                   },
                   "nodeType": "DOM",
                   "props": {
                    "attributes": {
                     "data-bind": "click: function (){this.clicks(this.clicks()+1)}, css: {'is-loading' : loading}"
                    },
                    "className": "is-medium button is-primary",
                    "style": {}
                   },
                   "type": "node"
                  }
                 ],
                 "instanceArgs": {
                  "handlers": {
                   "clicks": [
                    "(function (val){return (val!=this.model[\"clicks\"]()) ? (this.valueFromJulia[\"clicks\"]=true, this.model[\"clicks\"](val)) : undefined})"
                   ],
                   "loading": [
                    "(function (val){return (val!=this.model[\"loading\"]()) ? (this.valueFromJulia[\"loading\"]=true, this.model[\"loading\"](val)) : undefined})"
                   ]
                  },
                  "id": "17550553641824877801",
                  "imports": {
                   "data": [
                    {
                     "name": "knockout",
                     "type": "js",
                     "url": "/assetserver/727383f2a47bd31570b7da84eee7b022dd6d7c78-knockout.js"
                    },
                    {
                     "name": "knockout_punches",
                     "type": "js",
                     "url": "/assetserver/382b41b3b1bd9f26f75861d360bad7f8beea211f-knockout_punches.js"
                    },
                    {
                     "name": null,
                     "type": "js",
                     "url": "/assetserver/5ab20f1060420992a9b82a65b735dee4d81ef413-all.js"
                    },
                    {
                     "name": null,
                     "type": "css",
                     "url": "/assetserver/1cc0ed62837210b80a182cc3676512f895dab686-style.css"
                    },
                    {
                     "name": null,
                     "type": "css",
                     "url": "/assetserver/2eee816f616df3549d7044d45e744fbf8d42bfa1-bulma_confined.min.css"
                    }
                   ],
                   "type": "async_block"
                  },
                  "mount_callbacks": [
                   "function () {\n    var handler = (function (ko, koPunches) {\n    ko.punches.enableAll();\n    ko.bindingHandlers.numericValue = {\n        init: function(element, valueAccessor, allBindings, data, context) {\n            var stringified = ko.observable(ko.unwrap(valueAccessor()));\n            stringified.subscribe(function(value) {\n                var val = parseFloat(value);\n                if (!isNaN(val)) {\n                    valueAccessor()(val);\n                }\n            });\n            valueAccessor().subscribe(function(value) {\n                var str = JSON.stringify(value);\n                if ((str == \"0\") && ([\"-0\", \"-0.\"].indexOf(stringified()) >= 0))\n                     return;\n                 if ([\"null\", \"\"].indexOf(str) >= 0)\n                     return;\n                stringified(str);\n            });\n            ko.applyBindingsToNode(\n                element,\n                {\n                    value: stringified,\n                    valueUpdate: allBindings.get('valueUpdate'),\n                },\n                context,\n            );\n        }\n    };\n    var json_data = {\"loading\":WebIO.getval({\"name\":\"loading\",\"scope\":\"17550553641824877801\",\"id\":\"4612025943813090814\",\"type\":\"observable\"}),\"clicks\":WebIO.getval({\"name\":\"clicks\",\"scope\":\"17550553641824877801\",\"id\":\"5925532524036126340\",\"type\":\"observable\"})};\n    var self = this;\n    function AppViewModel() {\n        for (var key in json_data) {\n            var el = json_data[key];\n            this[key] = Array.isArray(el) ? ko.observableArray(el) : ko.observable(el);\n        }\n        \n        \n        [this[\"loading\"].subscribe((function (val){!(this.valueFromJulia[\"loading\"]) ? (WebIO.setval({\"name\":\"loading\",\"scope\":\"17550553641824877801\",\"id\":\"4612025943813090814\",\"type\":\"observable\"},val)) : undefined; return this.valueFromJulia[\"loading\"]=false}),self),this[\"clicks\"].subscribe((function (val){!(this.valueFromJulia[\"clicks\"]) ? (WebIO.setval({\"name\":\"clicks\",\"scope\":\"17550553641824877801\",\"id\":\"5925532524036126340\",\"type\":\"observable\"},val)) : undefined; return this.valueFromJulia[\"clicks\"]=false}),self)]\n        \n    }\n    self.model = new AppViewModel();\n    self.valueFromJulia = {};\n    for (var key in json_data) {\n        self.valueFromJulia[key] = false;\n    }\n    ko.applyBindings(self.model, self.dom);\n}\n);\n    (WebIO.importBlock({\"data\":[{\"name\":\"knockout\",\"type\":\"js\",\"url\":\"/assetserver/727383f2a47bd31570b7da84eee7b022dd6d7c78-knockout.js\"},{\"name\":\"knockout_punches\",\"type\":\"js\",\"url\":\"/assetserver/382b41b3b1bd9f26f75861d360bad7f8beea211f-knockout_punches.js\"}],\"type\":\"async_block\"})).then((imports) => handler.apply(this, imports));\n}\n"
                  ],
                  "observables": {
                   "clicks": {
                    "id": "5925532524036126340",
                    "sync": true,
                    "value": 0
                   },
                   "loading": {
                    "id": "4612025943813090814",
                    "sync": false,
                    "value": false
                   }
                  },
                  "systemjs_options": null
                 },
                 "nodeType": "Scope",
                 "props": {},
                 "type": "node"
                }
               ],
               "instanceArgs": {
                "namespace": "html",
                "tag": "div"
               },
               "nodeType": "DOM",
               "props": {
                "className": "field interact-widget"
               },
               "type": "node"
              },
              {
               "children": [
                {
                 "children": [
                  {
                   "children": [],
                   "instanceArgs": {
                    "namespace": "html",
                    "tag": "div"
                   },
                   "nodeType": "DOM",
                   "props": {
                    "id": "container"
                   },
                   "type": "node"
                  }
                 ],
                 "instanceArgs": {
                  "handlers": {
                   "value": [
                    "(function (txt){return this.k.render(txt,this.container)})"
                   ]
                  },
                  "id": "1822094710645137769",
                  "imports": {
                   "data": [
                    {
                     "name": null,
                     "type": "js",
                     "url": "/assetserver/dd22ed1bf1896c2748f3fe616ce0b838adc895c1-katex.min.js"
                    },
                    {
                     "name": null,
                     "type": "css",
                     "url": "/assetserver/46517a424aa5e6cffc1360d7e0848b601c584ee3-katex.min.css"
                    }
                   ],
                   "type": "async_block"
                  },
                  "mount_callbacks": [
                   "function () {\n    var handler = ((function (k){this.k=k; this.container=this.dom.querySelector(\"#container\"); return k.render(\"\\\\;\\\\;\",this.container)}));\n    (WebIO.importBlock({\"data\":[{\"name\":null,\"type\":\"js\",\"url\":\"/assetserver/dd22ed1bf1896c2748f3fe616ce0b838adc895c1-katex.min.js\"},{\"name\":null,\"type\":\"css\",\"url\":\"/assetserver/46517a424aa5e6cffc1360d7e0848b601c584ee3-katex.min.css\"}],\"type\":\"async_block\"})).then((imports) => handler.apply(this, imports));\n}\n"
                  ],
                  "observables": {
                   "value": {
                    "id": "2194936036810265758",
                    "sync": false,
                    "value": "\\;\\;"
                   }
                  },
                  "systemjs_options": null
                 },
                 "nodeType": "Scope",
                 "props": {},
                 "type": "node"
                }
               ],
               "instanceArgs": {
                "namespace": "html",
                "tag": "div"
               },
               "nodeType": "DOM",
               "props": {
                "className": "interact-widget"
               },
               "type": "node"
              },
              {
               "children": [
                {
                 "children": [
                  {
                   "children": [
                    "save"
                   ],
                   "instanceArgs": {
                    "namespace": "html",
                    "tag": "button"
                   },
                   "nodeType": "DOM",
                   "props": {
                    "attributes": {
                     "data-bind": "click: function (){this.clicks(this.clicks()+1)}, css: {'is-loading' : loading}"
                    },
                    "className": "is-medium button is-primary",
                    "style": {}
                   },
                   "type": "node"
                  }
                 ],
                 "instanceArgs": {
                  "handlers": {
                   "clicks": [
                    "(function (val){return (val!=this.model[\"clicks\"]()) ? (this.valueFromJulia[\"clicks\"]=true, this.model[\"clicks\"](val)) : undefined})"
                   ],
                   "loading": [
                    "(function (val){return (val!=this.model[\"loading\"]()) ? (this.valueFromJulia[\"loading\"]=true, this.model[\"loading\"](val)) : undefined})"
                   ]
                  },
                  "id": "292415132597134478",
                  "imports": {
                   "data": [
                    {
                     "name": "knockout",
                     "type": "js",
                     "url": "/assetserver/727383f2a47bd31570b7da84eee7b022dd6d7c78-knockout.js"
                    },
                    {
                     "name": "knockout_punches",
                     "type": "js",
                     "url": "/assetserver/382b41b3b1bd9f26f75861d360bad7f8beea211f-knockout_punches.js"
                    },
                    {
                     "name": null,
                     "type": "js",
                     "url": "/assetserver/5ab20f1060420992a9b82a65b735dee4d81ef413-all.js"
                    },
                    {
                     "name": null,
                     "type": "css",
                     "url": "/assetserver/1cc0ed62837210b80a182cc3676512f895dab686-style.css"
                    },
                    {
                     "name": null,
                     "type": "css",
                     "url": "/assetserver/2eee816f616df3549d7044d45e744fbf8d42bfa1-bulma_confined.min.css"
                    }
                   ],
                   "type": "async_block"
                  },
                  "mount_callbacks": [
                   "function () {\n    var handler = (function (ko, koPunches) {\n    ko.punches.enableAll();\n    ko.bindingHandlers.numericValue = {\n        init: function(element, valueAccessor, allBindings, data, context) {\n            var stringified = ko.observable(ko.unwrap(valueAccessor()));\n            stringified.subscribe(function(value) {\n                var val = parseFloat(value);\n                if (!isNaN(val)) {\n                    valueAccessor()(val);\n                }\n            });\n            valueAccessor().subscribe(function(value) {\n                var str = JSON.stringify(value);\n                if ((str == \"0\") && ([\"-0\", \"-0.\"].indexOf(stringified()) >= 0))\n                     return;\n                 if ([\"null\", \"\"].indexOf(str) >= 0)\n                     return;\n                stringified(str);\n            });\n            ko.applyBindingsToNode(\n                element,\n                {\n                    value: stringified,\n                    valueUpdate: allBindings.get('valueUpdate'),\n                },\n                context,\n            );\n        }\n    };\n    var json_data = {\"loading\":WebIO.getval({\"name\":\"loading\",\"scope\":\"292415132597134478\",\"id\":\"961006674804879762\",\"type\":\"observable\"}),\"clicks\":WebIO.getval({\"name\":\"clicks\",\"scope\":\"292415132597134478\",\"id\":\"8946329749394254492\",\"type\":\"observable\"})};\n    var self = this;\n    function AppViewModel() {\n        for (var key in json_data) {\n            var el = json_data[key];\n            this[key] = Array.isArray(el) ? ko.observableArray(el) : ko.observable(el);\n        }\n        \n        \n        [this[\"loading\"].subscribe((function (val){!(this.valueFromJulia[\"loading\"]) ? (WebIO.setval({\"name\":\"loading\",\"scope\":\"292415132597134478\",\"id\":\"961006674804879762\",\"type\":\"observable\"},val)) : undefined; return this.valueFromJulia[\"loading\"]=false}),self),this[\"clicks\"].subscribe((function (val){!(this.valueFromJulia[\"clicks\"]) ? (WebIO.setval({\"name\":\"clicks\",\"scope\":\"292415132597134478\",\"id\":\"8946329749394254492\",\"type\":\"observable\"},val)) : undefined; return this.valueFromJulia[\"clicks\"]=false}),self)]\n        \n    }\n    self.model = new AppViewModel();\n    self.valueFromJulia = {};\n    for (var key in json_data) {\n        self.valueFromJulia[key] = false;\n    }\n    ko.applyBindings(self.model, self.dom);\n}\n);\n    (WebIO.importBlock({\"data\":[{\"name\":\"knockout\",\"type\":\"js\",\"url\":\"/assetserver/727383f2a47bd31570b7da84eee7b022dd6d7c78-knockout.js\"},{\"name\":\"knockout_punches\",\"type\":\"js\",\"url\":\"/assetserver/382b41b3b1bd9f26f75861d360bad7f8beea211f-knockout_punches.js\"}],\"type\":\"async_block\"})).then((imports) => handler.apply(this, imports));\n}\n"
                  ],
                  "observables": {
                   "clicks": {
                    "id": "8946329749394254492",
                    "sync": true,
                    "value": 0
                   },
                   "loading": {
                    "id": "961006674804879762",
                    "sync": false,
                    "value": false
                   }
                  },
                  "systemjs_options": null
                 },
                 "nodeType": "Scope",
                 "props": {},
                 "type": "node"
                }
               ],
               "instanceArgs": {
                "namespace": "html",
                "tag": "div"
               },
               "nodeType": "DOM",
               "props": {
                "className": "field interact-widget"
               },
               "type": "node"
              }
             ],
             "instanceArgs": {
              "namespace": "html",
              "tag": "div"
             },
             "nodeType": "DOM",
             "props": {
              "style": {
               "display": "flex",
               "flex-direction": "row"
              }
             },
             "type": "node"
            }
           ],
           "instanceArgs": {
            "namespace": "html",
            "tag": "div"
           },
           "nodeType": "DOM",
           "props": {
            "style": {
             "display": "flex",
             "flex-direction": "column"
            }
           },
           "type": "node"
          },
          {
           "children": [
            {
             "children": [
              {
               "children": [],
               "instanceArgs": {
                "namespace": "html",
                "tag": "div"
               },
               "nodeType": "DOM",
               "props": {
                "id": "container"
               },
               "type": "node"
              }
             ],
             "instanceArgs": {
              "handlers": {
               "value": [
                "(function (txt){return this.k.render(txt,this.container)})"
               ]
              },
              "id": "1822094710645137769",
              "imports": {
               "data": [
                {
                 "name": null,
                 "type": "js",
                 "url": "/assetserver/dd22ed1bf1896c2748f3fe616ce0b838adc895c1-katex.min.js"
                },
                {
                 "name": null,
                 "type": "css",
                 "url": "/assetserver/46517a424aa5e6cffc1360d7e0848b601c584ee3-katex.min.css"
                }
               ],
               "type": "async_block"
              },
              "mount_callbacks": [
               "function () {\n    var handler = ((function (k){this.k=k; this.container=this.dom.querySelector(\"#container\"); return k.render(\"\\\\;\\\\;\",this.container)}));\n    (WebIO.importBlock({\"data\":[{\"name\":null,\"type\":\"js\",\"url\":\"/assetserver/dd22ed1bf1896c2748f3fe616ce0b838adc895c1-katex.min.js\"},{\"name\":null,\"type\":\"css\",\"url\":\"/assetserver/46517a424aa5e6cffc1360d7e0848b601c584ee3-katex.min.css\"}],\"type\":\"async_block\"})).then((imports) => handler.apply(this, imports));\n}\n"
              ],
              "observables": {
               "value": {
                "id": "2194936036810265758",
                "sync": false,
                "value": "\\;\\;"
               }
              },
              "systemjs_options": null
             },
             "nodeType": "Scope",
             "props": {},
             "type": "node"
            }
           ],
           "instanceArgs": {
            "namespace": "html",
            "tag": "div"
           },
           "nodeType": "DOM",
           "props": {
            "className": "interact-widget"
           },
           "type": "node"
          },
          {
           "children": [
            {
             "children": [],
             "instanceArgs": {
              "namespace": "html",
              "tag": "div"
             },
             "nodeType": "DOM",
             "props": {
              "className": "webio-observable",
              "setInnerHtml": "<img src='data:image/png;base64,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'></img>"
             },
             "type": "node"
            }
           ],
           "instanceArgs": {
            "handlers": {
             "obs-output": [
              "function (value, scope) {\n    scope.setInnerHTML(value);\n}\n"
             ]
            },
            "id": "6940675984149143251",
            "imports": {
             "data": [],
             "type": "async_block"
            },
            "mount_callbacks": [],
            "observables": {
             "obs-output": {
              "id": "17103867885635532036",
              "sync": false,
              "value": "<img src='data:image/png;base64,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'></img>"
             }
            },
            "systemjs_options": null
           },
           "nodeType": "Scope",
           "props": {},
           "type": "node"
          },
          {
           "children": [
            {
             "children": [
              {
               "children": [],
               "instanceArgs": {
                "namespace": "html",
                "tag": "div"
               },
               "nodeType": "DOM",
               "props": {
                "id": "container"
               },
               "type": "node"
              }
             ],
             "instanceArgs": {
              "handlers": {
               "value": [
                "(function (txt){return this.k.render(txt,this.container)})"
               ]
              },
              "id": "1822094710645137769",
              "imports": {
               "data": [
                {
                 "name": null,
                 "type": "js",
                 "url": "/assetserver/dd22ed1bf1896c2748f3fe616ce0b838adc895c1-katex.min.js"
                },
                {
                 "name": null,
                 "type": "css",
                 "url": "/assetserver/46517a424aa5e6cffc1360d7e0848b601c584ee3-katex.min.css"
                }
               ],
               "type": "async_block"
              },
              "mount_callbacks": [
               "function () {\n    var handler = ((function (k){this.k=k; this.container=this.dom.querySelector(\"#container\"); return k.render(\"\\\\;\\\\;\",this.container)}));\n    (WebIO.importBlock({\"data\":[{\"name\":null,\"type\":\"js\",\"url\":\"/assetserver/dd22ed1bf1896c2748f3fe616ce0b838adc895c1-katex.min.js\"},{\"name\":null,\"type\":\"css\",\"url\":\"/assetserver/46517a424aa5e6cffc1360d7e0848b601c584ee3-katex.min.css\"}],\"type\":\"async_block\"})).then((imports) => handler.apply(this, imports));\n}\n"
              ],
              "observables": {
               "value": {
                "id": "2194936036810265758",
                "sync": false,
                "value": "\\;\\;"
               }
              },
              "systemjs_options": null
             },
             "nodeType": "Scope",
             "props": {},
             "type": "node"
            }
           ],
           "instanceArgs": {
            "namespace": "html",
            "tag": "div"
           },
           "nodeType": "DOM",
           "props": {
            "className": "interact-widget"
           },
           "type": "node"
          },
          {
           "children": [],
           "instanceArgs": {
            "namespace": "html",
            "tag": "div"
           },
           "nodeType": "DOM",
           "props": {
            "style": {
             "display": "flex",
             "flex-direction": "column"
            }
           },
           "type": "node"
          }
         ],
         "instanceArgs": {
          "namespace": "html",
          "tag": "div"
         },
         "nodeType": "DOM",
         "props": {
          "style": {
           "display": "flex",
           "flex-direction": "row"
          }
         },
         "type": "node"
        }
       ],
       "instanceArgs": {
        "namespace": "html",
        "tag": "div"
       },
       "nodeType": "DOM",
       "props": {
        "style": {
         "display": "flex",
         "flex-direction": "column"
        }
       },
       "type": "node"
      },
      "text/html": [
       "<div\n",
       "    class=\"webio-mountpoint\"\n",
       "    data-webio-mountpoint=\"13647215237892572766\"\n",
       ">\n",
       "    <script>\n",
       "    (function(){\n",
       "    // Some integrations (namely, IJulia/Jupyter) use an alternate render pathway than\n",
       "    // just putting the html on the page. If WebIO isn't defined, then it's pretty likely\n",
       "    // that we're in one of those situations and the integration just isn't installed\n",
       "    // correctly.\n",
       "    if (typeof window.WebIO === \"undefined\") {\n",
       "        document\n",
       "            .querySelector('[data-webio-mountpoint=\"13647215237892572766\"]')\n",
       "            .innerHTML = (\n",
       "                '<div style=\"padding: 1em; background-color: #f8d6da; border: 1px solid #f5c6cb; font-weight: bold;\">' +\n",
       "                '<p><strong>WebIO not detected.</strong></p>' +\n",
       "                '<p>Please read ' +\n",
       "                '<a href=\"https://juliagizmos.github.io/WebIO.jl/latest/troubleshooting/not-detected/\" target=\"_blank\">the troubleshooting guide</a> ' +\n",
       "                'for more information on how to resolve this issue.</p>' +\n",
       "                '<p><a href=\"https://juliagizmos.github.io/WebIO.jl/latest/troubleshooting/not-detected/\" target=\"_blank\">https://juliagizmos.github.io/WebIO.jl/latest/troubleshooting/not-detected/</a></p>' +\n",
       "                '</div>'\n",
       "            );\n",
       "        return;\n",
       "    }\n",
       "    WebIO.mount(\n",
       "        document.querySelector('[data-webio-mountpoint=\"13647215237892572766\"]'),\n",
       "        {\"props\":{\"style\":{\"display\":\"flex\",\"flex-direction\":\"column\"}},\"nodeType\":\"DOM\",\"type\":\"node\",\"instanceArgs\":{\"namespace\":\"html\",\"tag\":\"div\"},\"children\":[{\"props\":{\"style\":{\"display\":\"flex\",\"flex-direction\":\"row\"}},\"nodeType\":\"DOM\",\"type\":\"node\",\"instanceArgs\":{\"namespace\":\"html\",\"tag\":\"div\"},\"children\":[{\"props\":{\"style\":{\"display\":\"flex\",\"flex-direction\":\"column\"}},\"nodeType\":\"DOM\",\"type\":\"node\",\"instanceArgs\":{\"namespace\":\"html\",\"tag\":\"div\"},\"children\":[{\"props\":{\"className\":\"field interact-widget\"},\"nodeType\":\"DOM\",\"type\":\"node\",\"instanceArgs\":{\"namespace\":\"html\",\"tag\":\"div\"},\"children\":[{\"props\":{},\"nodeType\":\"Scope\",\"type\":\"node\",\"instanceArgs\":{\"imports\":{\"data\":[{\"name\":\"knockout\",\"type\":\"js\",\"url\":\"\\/assetserver\\/727383f2a47bd31570b7da84eee7b022dd6d7c78-knockout.js\"},{\"name\":\"knockout_punches\",\"type\":\"js\",\"url\":\"\\/assetserver\\/382b41b3b1bd9f26f75861d360bad7f8beea211f-knockout_punches.js\"},{\"name\":null,\"type\":\"js\",\"url\":\"\\/assetserver\\/5ab20f1060420992a9b82a65b735dee4d81ef413-all.js\"},{\"name\":null,\"type\":\"css\",\"url\":\"\\/assetserver\\/1cc0ed62837210b80a182cc3676512f895dab686-style.css\"},{\"name\":null,\"type\":\"css\",\"url\":\"\\/assetserver\\/2eee816f616df3549d7044d45e744fbf8d42bfa1-bulma_confined.min.css\"}],\"type\":\"async_block\"},\"id\":\"48795722500903146\",\"handlers\":{\"changes\":[\"(function (val){return (val!=this.model[\\\"changes\\\"]()) ? (this.valueFromJulia[\\\"changes\\\"]=true, this.model[\\\"changes\\\"](val)) : undefined})\"],\"index\":[\"(function (val){return (val!=this.model[\\\"index\\\"]()) ? (this.valueFromJulia[\\\"index\\\"]=true, this.model[\\\"index\\\"](val)) : undefined})\"]},\"systemjs_options\":null,\"mount_callbacks\":[\"function () {\\n    var handler = (function (ko, koPunches) {\\n    ko.punches.enableAll();\\n    ko.bindingHandlers.numericValue = {\\n        init: function(element, valueAccessor, allBindings, data, context) {\\n            var stringified = ko.observable(ko.unwrap(valueAccessor()));\\n            stringified.subscribe(function(value) {\\n                var val = parseFloat(value);\\n                if (!isNaN(val)) {\\n                    valueAccessor()(val);\\n                }\\n            });\\n            valueAccessor().subscribe(function(value) {\\n                var str = JSON.stringify(value);\\n                if ((str == \\\"0\\\") && ([\\\"-0\\\", \\\"-0.\\\"].indexOf(stringified()) >= 0))\\n                     return;\\n                 if ([\\\"null\\\", \\\"\\\"].indexOf(str) >= 0)\\n                     return;\\n                stringified(str);\\n            });\\n            ko.applyBindingsToNode(\\n                element,\\n                {\\n                    value: stringified,\\n                    valueUpdate: allBindings.get('valueUpdate'),\\n                },\\n                context,\\n            );\\n        }\\n    };\\n    var json_data = {\\\"formatted_vals\\\":[\\\"1\\\",\\\"2\\\",\\\"3\\\",\\\"4\\\",\\\"5\\\",\\\"6\\\",\\\"7\\\",\\\"8\\\",\\\"9\\\",\\\"10\\\",\\\"11\\\",\\\"12\\\",\\\"13\\\",\\\"14\\\",\\\"15\\\",\\\"16\\\",\\\"17\\\",\\\"18\\\",\\\"19\\\",\\\"20\\\",\\\"21\\\",\\\"22\\\",\\\"23\\\",\\\"24\\\",\\\"25\\\",\\\"26\\\",\\\"27\\\",\\\"28\\\",\\\"29\\\",\\\"30\\\",\\\"31\\\",\\\"32\\\",\\\"33\\\",\\\"34\\\",\\\"35\\\",\\\"36\\\",\\\"37\\\",\\\"38\\\",\\\"39\\\",\\\"40\\\",\\\"41\\\",\\\"42\\\",\\\"43\\\",\\\"44\\\",\\\"45\\\",\\\"46\\\",\\\"47\\\",\\\"48\\\",\\\"49\\\",\\\"50\\\",\\\"51\\\",\\\"52\\\",\\\"53\\\",\\\"54\\\",\\\"55\\\",\\\"56\\\",\\\"57\\\",\\\"58\\\",\\\"59\\\",\\\"60\\\",\\\"61\\\",\\\"62\\\",\\\"63\\\",\\\"64\\\",\\\"65\\\",\\\"66\\\",\\\"67\\\",\\\"68\\\",\\\"69\\\",\\\"70\\\",\\\"71\\\",\\\"72\\\",\\\"73\\\",\\\"74\\\",\\\"75\\\",\\\"76\\\",\\\"77\\\",\\\"78\\\",\\\"79\\\",\\\"80\\\",\\\"81\\\",\\\"82\\\",\\\"83\\\",\\\"84\\\",\\\"85\\\",\\\"86\\\",\\\"87\\\",\\\"88\\\",\\\"89\\\",\\\"90\\\",\\\"91\\\",\\\"92\\\",\\\"93\\\",\\\"94\\\",\\\"95\\\",\\\"96\\\",\\\"97\\\",\\\"98\\\",\\\"99\\\",\\\"100\\\",\\\"101\\\",\\\"102\\\",\\\"103\\\",\\\"104\\\",\\\"105\\\",\\\"106\\\",\\\"107\\\",\\\"108\\\",\\\"109\\\",\\\"110\\\",\\\"111\\\",\\\"112\\\",\\\"113\\\",\\\"114\\\",\\\"115\\\",\\\"116\\\",\\\"117\\\",\\\"118\\\",\\\"119\\\",\\\"120\\\",\\\"121\\\",\\\"122\\\",\\\"123\\\",\\\"124\\\",\\\"125\\\",\\\"126\\\",\\\"127\\\",\\\"128\\\",\\\"129\\\",\\\"130\\\",\\\"131\\\",\\\"132\\\",\\\"133\\\",\\\"134\\\",\\\"135\\\",\\\"136\\\",\\\"137\\\",\\\"138\\\",\\\"139\\\",\\\"140\\\",\\\"141\\\",\\\"142\\\",\\\"143\\\",\\\"144\\\",\\\"145\\\",\\\"146\\\",\\\"147\\\",\\\"148\\\",\\\"149\\\",\\\"150\\\",\\\"151\\\",\\\"152\\\",\\\"153\\\",\\\"154\\\",\\\"155\\\",\\\"156\\\",\\\"157\\\",\\\"158\\\",\\\"159\\\",\\\"160\\\",\\\"161\\\",\\\"162\\\",\\\"163\\\",\\\"164\\\",\\\"165\\\",\\\"166\\\",\\\"167\\\",\\\"168\\\",\\\"169\\\",\\\"170\\\",\\\"171\\\",\\\"172\\\",\\\"173\\\",\\\"174\\\",\\\"175\\\",\\\"176\\\",\\\"177\\\",\\\"178\\\",\\\"179\\\",\\\"180\\\",\\\"181\\\",\\\"182\\\",\\\"183\\\",\\\"184\\\",\\\"185\\\",\\\"186\\\",\\\"187\\\",\\\"188\\\",\\\"189\\\",\\\"190\\\",\\\"191\\\",\\\"192\\\",\\\"193\\\",\\\"194\\\",\\\"195\\\",\\\"196\\\",\\\"197\\\",\\\"198\\\",\\\"199\\\",\\\"200\\\",\\\"201\\\",\\\"202\\\",\\\"203\\\",\\\"204\\\",\\\"205\\\",\\\"206\\\",\\\"207\\\",\\\"208\\\",\\\"209\\\",\\\"210\\\",\\\"211\\\",\\\"212\\\",\\\"213\\\",\\\"214\\\",\\\"215\\\",\\\"216\\\",\\\"217\\\",\\\"218\\\",\\\"219\\\",\\\"220\\\",\\\"221\\\",\\\"222\\\",\\\"223\\\",\\\"224\\\",\\\"225\\\",\\\"226\\\",\\\"227\\\",\\\"228\\\",\\\"229\\\",\\\"230\\\",\\\"231\\\",\\\"232\\\",\\\"233\\\",\\\"234\\\",\\\"235\\\",\\\"236\\\",\\\"237\\\",\\\"238\\\",\\\"239\\\",\\\"240\\\",\\\"241\\\",\\\"242\\\",\\\"243\\\",\\\"244\\\",\\\"245\\\",\\\"246\\\",\\\"247\\\",\\\"248\\\",\\\"249\\\",\\\"250\\\",\\\"251\\\",\\\"252\\\",\\\"253\\\",\\\"254\\\",\\\"255\\\",\\\"256\\\",\\\"257\\\",\\\"258\\\",\\\"259\\\",\\\"260\\\",\\\"261\\\",\\\"262\\\",\\\"263\\\",\\\"264\\\",\\\"265\\\",\\\"266\\\",\\\"267\\\",\\\"268\\\",\\\"269\\\",\\\"270\\\",\\\"271\\\",\\\"272\\\",\\\"273\\\",\\\"274\\\",\\\"275\\\",\\\"276\\\",\\\"277\\\",\\\"278\\\",\\\"279\\\",\\\"280\\\",\\\"281\\\",\\\"282\\\",\\\"283\\\",\\\"284\\\",\\\"285\\\",\\\"286\\\",\\\"287\\\",\\\"288\\\",\\\"289\\\",\\\"290\\\",\\\"291\\\",\\\"292\\\",\\\"293\\\",\\\"294\\\",\\\"295\\\",\\\"296\\\",\\\"297\\\",\\\"298\\\",\\\"299\\\",\\\"300\\\",\\\"301\\\",\\\"302\\\",\\\"303\\\",\\\"304\\\",\\\"305\\\",\\\"306\\\",\\\"307\\\",\\\"308\\\",\\\"309\\\",\\\"310\\\",\\\"311\\\",\\\"312\\\",\\\"313\\\",\\\"314\\\",\\\"315\\\",\\\"316\\\",\\\"317\\\",\\\"318\\\",\\\"319\\\",\\\"320\\\",\\\"321\\\",\\\"322\\\",\\\"323\\\",\\\"324\\\",\\\"325\\\",\\\"326\\\",\\\"327\\\",\\\"328\\\",\\\"329\\\",\\\"330\\\",\\\"331\\\",\\\"332\\\",\\\"333\\\",\\\"334\\\",\\\"335\\\",\\\"336\\\",\\\"337\\\",\\\"338\\\",\\\"339\\\",\\\"340\\\",\\\"341\\\",\\\"342\\\",\\\"343\\\",\\\"344\\\",\\\"345\\\",\\\"346\\\",\\\"347\\\",\\\"348\\\",\\\"349\\\",\\\"350\\\",\\\"351\\\",\\\"352\\\",\\\"353\\\",\\\"354\\\",\\\"355\\\",\\\"356\\\",\\\"357\\\",\\\"358\\\",\\\"359\\\",\\\"360\\\",\\\"361\\\",\\\"362\\\",\\\"363\\\",\\\"364\\\",\\\"365\\\",\\\"366\\\",\\\"367\\\",\\\"368\\\",\\\"369\\\",\\\"370\\\",\\\"371\\\",\\\"372\\\",\\\"373\\\",\\\"374\\\",\\\"375\\\",\\\"376\\\",\\\"377\\\",\\\"378\\\",\\\"379\\\",\\\"380\\\",\\\"381\\\",\\\"382\\\",\\\"383\\\",\\\"384\\\",\\\"385\\\",\\\"386\\\",\\\"387\\\",\\\"388\\\",\\\"389\\\",\\\"390\\\",\\\"391\\\",\\\"392\\\",\\\"393\\\",\\\"394\\\",\\\"395\\\",\\\"396\\\",\\\"397\\\",\\\"398\\\",\\\"399\\\",\\\"400\\\",\\\"401\\\"],\\\"changes\\\":WebIO.getval({\\\"name\\\":\\\"changes\\\",\\\"scope\\\":\\\"48795722500903146\\\",\\\"id\\\":\\\"4605069494309459102\\\",\\\"type\\\":\\\"observable\\\"}),\\\"index\\\":WebIO.getval({\\\"name\\\":\\\"index\\\",\\\"scope\\\":\\\"48795722500903146\\\",\\\"id\\\":\\\"4891897415596218169\\\",\\\"type\\\":\\\"observable\\\"})};\\n    var self = this;\\n    function AppViewModel() {\\n        for (var key in json_data) {\\n            var el = json_data[key];\\n            this[key] = Array.isArray(el) ? ko.observableArray(el) : ko.observable(el);\\n        }\\n        \\n        [this[\\\"formatted_val\\\"]=ko.computed(    function(){\\n        return this.formatted_vals()[parseInt(this.index())-(1)];\\n    }\\n,this)]\\n        [this[\\\"changes\\\"].subscribe((function (val){!(this.valueFromJulia[\\\"changes\\\"]) ? (WebIO.setval({\\\"name\\\":\\\"changes\\\",\\\"scope\\\":\\\"48795722500903146\\\",\\\"id\\\":\\\"4605069494309459102\\\",\\\"type\\\":\\\"observable\\\"},val)) : undefined; return this.valueFromJulia[\\\"changes\\\"]=false}),self),this[\\\"index\\\"].subscribe((function (val){!(this.valueFromJulia[\\\"index\\\"]) ? (WebIO.setval({\\\"name\\\":\\\"index\\\",\\\"scope\\\":\\\"48795722500903146\\\",\\\"id\\\":\\\"4891897415596218169\\\",\\\"type\\\":\\\"observable\\\"},val)) : undefined; return this.valueFromJulia[\\\"index\\\"]=false}),self)]\\n        \\n    }\\n    self.model = new AppViewModel();\\n    self.valueFromJulia = {};\\n    for (var key in json_data) {\\n        self.valueFromJulia[key] = false;\\n    }\\n    ko.applyBindings(self.model, self.dom);\\n}\\n);\\n    (WebIO.importBlock({\\\"data\\\":[{\\\"name\\\":\\\"knockout\\\",\\\"type\\\":\\\"js\\\",\\\"url\\\":\\\"\\/assetserver\\/727383f2a47bd31570b7da84eee7b022dd6d7c78-knockout.js\\\"},{\\\"name\\\":\\\"knockout_punches\\\",\\\"type\\\":\\\"js\\\",\\\"url\\\":\\\"\\/assetserver\\/382b41b3b1bd9f26f75861d360bad7f8beea211f-knockout_punches.js\\\"}],\\\"type\\\":\\\"async_block\\\"})).then((imports) => handler.apply(this, imports));\\n}\\n\"],\"observables\":{\"changes\":{\"sync\":false,\"id\":\"4605069494309459102\",\"value\":0},\"index\":{\"sync\":true,\"id\":\"4891897415596218169\",\"value\":201}}},\"children\":[{\"props\":{\"className\":\"interact-flex-row interact-widget\"},\"nodeType\":\"DOM\",\"type\":\"node\",\"instanceArgs\":{\"namespace\":\"html\",\"tag\":\"div\"},\"children\":[{\"props\":{\"className\":\"interact-flex-row-left\"},\"nodeType\":\"DOM\",\"type\":\"node\",\"instanceArgs\":{\"namespace\":\"html\",\"tag\":\"div\"},\"children\":[{\"props\":{\"className\":\"interact \",\"style\":{\"padding\":\"5px 10px 0px 10px\"}},\"nodeType\":\"DOM\",\"type\":\"node\",\"instanceArgs\":{\"namespace\":\"html\",\"tag\":\"label\"},\"children\":[\"time\"]}]},{\"props\":{\"className\":\"interact-flex-row-center\"},\"nodeType\":\"DOM\",\"type\":\"node\",\"instanceArgs\":{\"namespace\":\"html\",\"tag\":\"div\"},\"children\":[{\"props\":{\"max\":401,\"min\":1,\"attributes\":{\"type\":\"range\",\"data-bind\":\"numericValue: index, valueUpdate: 'input', event: {change: function (){this.changes(this.changes()+1)}}\",\"orient\":\"horizontal\"},\"step\":1,\"className\":\"slider slider is-fullwidth\",\"style\":{}},\"nodeType\":\"DOM\",\"type\":\"node\",\"instanceArgs\":{\"namespace\":\"html\",\"tag\":\"input\"},\"children\":[]}]},{\"props\":{\"className\":\"interact-flex-row-right\"},\"nodeType\":\"DOM\",\"type\":\"node\",\"instanceArgs\":{\"namespace\":\"html\",\"tag\":\"div\"},\"children\":[{\"props\":{\"attributes\":{\"data-bind\":\"text: formatted_val\"}},\"nodeType\":\"DOM\",\"type\":\"node\",\"instanceArgs\":{\"namespace\":\"html\",\"tag\":\"p\"},\"children\":[]}]}]}]}]},{\"props\":{\"className\":\"field interact-widget\"},\"nodeType\":\"DOM\",\"type\":\"node\",\"instanceArgs\":{\"namespace\":\"html\",\"tag\":\"div\"},\"children\":[{\"props\":{},\"nodeType\":\"Scope\",\"type\":\"node\",\"instanceArgs\":{\"imports\":{\"data\":[{\"name\":\"knockout\",\"type\":\"js\",\"url\":\"\\/assetserver\\/727383f2a47bd31570b7da84eee7b022dd6d7c78-knockout.js\"},{\"name\":\"knockout_punches\",\"type\":\"js\",\"url\":\"\\/assetserver\\/382b41b3b1bd9f26f75861d360bad7f8beea211f-knockout_punches.js\"},{\"name\":null,\"type\":\"js\",\"url\":\"\\/assetserver\\/5ab20f1060420992a9b82a65b735dee4d81ef413-all.js\"},{\"name\":null,\"type\":\"css\",\"url\":\"\\/assetserver\\/1cc0ed62837210b80a182cc3676512f895dab686-style.css\"},{\"name\":null,\"type\":\"css\",\"url\":\"\\/assetserver\\/2eee816f616df3549d7044d45e744fbf8d42bfa1-bulma_confined.min.css\"}],\"type\":\"async_block\"},\"id\":\"17152931916970969356\",\"handlers\":{\"changes\":[\"(function (val){return (val!=this.model[\\\"changes\\\"]()) ? (this.valueFromJulia[\\\"changes\\\"]=true, this.model[\\\"changes\\\"](val)) : undefined})\"],\"index\":[\"(function (val){return (val!=this.model[\\\"index\\\"]()) ? (this.valueFromJulia[\\\"index\\\"]=true, this.model[\\\"index\\\"](val)) : undefined})\"]},\"systemjs_options\":null,\"mount_callbacks\":[\"function () {\\n    var handler = (function (ko, koPunches) {\\n    ko.punches.enableAll();\\n    ko.bindingHandlers.numericValue = {\\n        init: function(element, valueAccessor, allBindings, data, context) {\\n            var stringified = ko.observable(ko.unwrap(valueAccessor()));\\n            stringified.subscribe(function(value) {\\n                var val = parseFloat(value);\\n                if (!isNaN(val)) {\\n                    valueAccessor()(val);\\n                }\\n            });\\n            valueAccessor().subscribe(function(value) {\\n                var str = JSON.stringify(value);\\n                if ((str == \\\"0\\\") && ([\\\"-0\\\", \\\"-0.\\\"].indexOf(stringified()) >= 0))\\n                     return;\\n                 if ([\\\"null\\\", \\\"\\\"].indexOf(str) >= 0)\\n                     return;\\n                stringified(str);\\n            });\\n            ko.applyBindingsToNode(\\n                element,\\n                {\\n                    value: stringified,\\n                    valueUpdate: allBindings.get('valueUpdate'),\\n                },\\n                context,\\n            );\\n        }\\n    };\\n    var json_data = {\\\"formatted_vals\\\":[\\\"0.1\\\",\\\"0.2\\\",\\\"0.3\\\",\\\"0.4\\\",\\\"0.5\\\",\\\"0.6\\\",\\\"0.7\\\",\\\"0.8\\\",\\\"0.9\\\",\\\"1.0\\\",\\\"1.1\\\",\\\"1.2\\\",\\\"1.3\\\",\\\"1.4\\\",\\\"1.5\\\",\\\"1.6\\\",\\\"1.7\\\",\\\"1.8\\\",\\\"1.9\\\",\\\"2.0\\\"],\\\"changes\\\":WebIO.getval({\\\"name\\\":\\\"changes\\\",\\\"scope\\\":\\\"17152931916970969356\\\",\\\"id\\\":\\\"13532266726258399007\\\",\\\"type\\\":\\\"observable\\\"}),\\\"index\\\":WebIO.getval({\\\"name\\\":\\\"index\\\",\\\"scope\\\":\\\"17152931916970969356\\\",\\\"id\\\":\\\"16703443407692721077\\\",\\\"type\\\":\\\"observable\\\"})};\\n    var self = this;\\n    function AppViewModel() {\\n        for (var key in json_data) {\\n            var el = json_data[key];\\n            this[key] = Array.isArray(el) ? ko.observableArray(el) : ko.observable(el);\\n        }\\n        \\n        [this[\\\"formatted_val\\\"]=ko.computed(    function(){\\n        return this.formatted_vals()[parseInt(this.index())-(1)];\\n    }\\n,this)]\\n        [this[\\\"changes\\\"].subscribe((function (val){!(this.valueFromJulia[\\\"changes\\\"]) ? (WebIO.setval({\\\"name\\\":\\\"changes\\\",\\\"scope\\\":\\\"17152931916970969356\\\",\\\"id\\\":\\\"13532266726258399007\\\",\\\"type\\\":\\\"observable\\\"},val)) : undefined; return this.valueFromJulia[\\\"changes\\\"]=false}),self),this[\\\"index\\\"].subscribe((function (val){!(this.valueFromJulia[\\\"index\\\"]) ? (WebIO.setval({\\\"name\\\":\\\"index\\\",\\\"scope\\\":\\\"17152931916970969356\\\",\\\"id\\\":\\\"16703443407692721077\\\",\\\"type\\\":\\\"observable\\\"},val)) : undefined; return this.valueFromJulia[\\\"index\\\"]=false}),self)]\\n        \\n    }\\n    self.model = new AppViewModel();\\n    self.valueFromJulia = {};\\n    for (var key in json_data) {\\n        self.valueFromJulia[key] = false;\\n    }\\n    ko.applyBindings(self.model, self.dom);\\n}\\n);\\n    (WebIO.importBlock({\\\"data\\\":[{\\\"name\\\":\\\"knockout\\\",\\\"type\\\":\\\"js\\\",\\\"url\\\":\\\"\\/assetserver\\/727383f2a47bd31570b7da84eee7b022dd6d7c78-knockout.js\\\"},{\\\"name\\\":\\\"knockout_punches\\\",\\\"type\\\":\\\"js\\\",\\\"url\\\":\\\"\\/assetserver\\/382b41b3b1bd9f26f75861d360bad7f8beea211f-knockout_punches.js\\\"}],\\\"type\\\":\\\"async_block\\\"})).then((imports) => handler.apply(this, imports));\\n}\\n\"],\"observables\":{\"changes\":{\"sync\":false,\"id\":\"13532266726258399007\",\"value\":0},\"index\":{\"sync\":true,\"id\":\"16703443407692721077\",\"value\":10}}},\"children\":[{\"props\":{\"className\":\"interact-flex-row interact-widget\"},\"nodeType\":\"DOM\",\"type\":\"node\",\"instanceArgs\":{\"namespace\":\"html\",\"tag\":\"div\"},\"children\":[{\"props\":{\"className\":\"interact-flex-row-left\"},\"nodeType\":\"DOM\",\"type\":\"node\",\"instanceArgs\":{\"namespace\":\"html\",\"tag\":\"div\"},\"children\":[{\"props\":{\"className\":\"interact \",\"style\":{\"padding\":\"5px 10px 0px 10px\"}},\"nodeType\":\"DOM\",\"type\":\"node\",\"instanceArgs\":{\"namespace\":\"html\",\"tag\":\"label\"},\"children\":[\"scale\"]}]},{\"props\":{\"className\":\"interact-flex-row-center\"},\"nodeType\":\"DOM\",\"type\":\"node\",\"instanceArgs\":{\"namespace\":\"html\",\"tag\":\"div\"},\"children\":[{\"props\":{\"max\":20,\"min\":1,\"attributes\":{\"type\":\"range\",\"data-bind\":\"numericValue: index, valueUpdate: 'input', event: {change: function (){this.changes(this.changes()+1)}}\",\"orient\":\"horizontal\"},\"step\":1,\"className\":\"slider slider is-fullwidth\",\"style\":{}},\"nodeType\":\"DOM\",\"type\":\"node\",\"instanceArgs\":{\"namespace\":\"html\",\"tag\":\"input\"},\"children\":[]}]},{\"props\":{\"className\":\"interact-flex-row-right\"},\"nodeType\":\"DOM\",\"type\":\"node\",\"instanceArgs\":{\"namespace\":\"html\",\"tag\":\"div\"},\"children\":[{\"props\":{\"attributes\":{\"data-bind\":\"text: formatted_val\"}},\"nodeType\":\"DOM\",\"type\":\"node\",\"instanceArgs\":{\"namespace\":\"html\",\"tag\":\"p\"},\"children\":[]}]}]}]}]},{\"props\":{\"style\":{\"display\":\"flex\",\"flex-direction\":\"row\"}},\"nodeType\":\"DOM\",\"type\":\"node\",\"instanceArgs\":{\"namespace\":\"html\",\"tag\":\"div\"},\"children\":[{\"props\":{\"className\":\"interact-widget\"},\"nodeType\":\"DOM\",\"type\":\"node\",\"instanceArgs\":{\"namespace\":\"html\",\"tag\":\"div\"},\"children\":[{\"props\":{},\"nodeType\":\"Scope\",\"type\":\"node\",\"instanceArgs\":{\"imports\":{\"data\":[{\"name\":null,\"type\":\"js\",\"url\":\"\\/assetserver\\/dd22ed1bf1896c2748f3fe616ce0b838adc895c1-katex.min.js\"},{\"name\":null,\"type\":\"css\",\"url\":\"\\/assetserver\\/46517a424aa5e6cffc1360d7e0848b601c584ee3-katex.min.css\"}],\"type\":\"async_block\"},\"id\":\"1822094710645137769\",\"handlers\":{\"value\":[\"(function (txt){return this.k.render(txt,this.container)})\"]},\"systemjs_options\":null,\"mount_callbacks\":[\"function () {\\n    var handler = ((function (k){this.k=k; this.container=this.dom.querySelector(\\\"#container\\\"); return k.render(\\\"\\\\\\\\;\\\\\\\\;\\\",this.container)}));\\n    (WebIO.importBlock({\\\"data\\\":[{\\\"name\\\":null,\\\"type\\\":\\\"js\\\",\\\"url\\\":\\\"\\/assetserver\\/dd22ed1bf1896c2748f3fe616ce0b838adc895c1-katex.min.js\\\"},{\\\"name\\\":null,\\\"type\\\":\\\"css\\\",\\\"url\\\":\\\"\\/assetserver\\/46517a424aa5e6cffc1360d7e0848b601c584ee3-katex.min.css\\\"}],\\\"type\\\":\\\"async_block\\\"})).then((imports) => handler.apply(this, imports));\\n}\\n\"],\"observables\":{\"value\":{\"sync\":false,\"id\":\"2194936036810265758\",\"value\":\"\\\\;\\\\;\"}}},\"children\":[{\"props\":{\"id\":\"container\"},\"nodeType\":\"DOM\",\"type\":\"node\",\"instanceArgs\":{\"namespace\":\"html\",\"tag\":\"div\"},\"children\":[]}]}]},{\"props\":{\"className\":\"field interact-widget\"},\"nodeType\":\"DOM\",\"type\":\"node\",\"instanceArgs\":{\"namespace\":\"html\",\"tag\":\"div\"},\"children\":[{\"props\":{},\"nodeType\":\"Scope\",\"type\":\"node\",\"instanceArgs\":{\"imports\":{\"data\":[{\"name\":\"knockout\",\"type\":\"js\",\"url\":\"\\/assetserver\\/727383f2a47bd31570b7da84eee7b022dd6d7c78-knockout.js\"},{\"name\":\"knockout_punches\",\"type\":\"js\",\"url\":\"\\/assetserver\\/382b41b3b1bd9f26f75861d360bad7f8beea211f-knockout_punches.js\"},{\"name\":null,\"type\":\"js\",\"url\":\"\\/assetserver\\/5ab20f1060420992a9b82a65b735dee4d81ef413-all.js\"},{\"name\":null,\"type\":\"css\",\"url\":\"\\/assetserver\\/1cc0ed62837210b80a182cc3676512f895dab686-style.css\"},{\"name\":null,\"type\":\"css\",\"url\":\"\\/assetserver\\/2eee816f616df3549d7044d45e744fbf8d42bfa1-bulma_confined.min.css\"}],\"type\":\"async_block\"},\"id\":\"10117081034332158435\",\"handlers\":{\"loading\":[\"(function (val){return (val!=this.model[\\\"loading\\\"]()) ? (this.valueFromJulia[\\\"loading\\\"]=true, this.model[\\\"loading\\\"](val)) : undefined})\"],\"clicks\":[\"(function (val){return (val!=this.model[\\\"clicks\\\"]()) ? (this.valueFromJulia[\\\"clicks\\\"]=true, this.model[\\\"clicks\\\"](val)) : undefined})\"]},\"systemjs_options\":null,\"mount_callbacks\":[\"function () {\\n    var handler = (function (ko, koPunches) {\\n    ko.punches.enableAll();\\n    ko.bindingHandlers.numericValue = {\\n        init: function(element, valueAccessor, allBindings, data, context) {\\n            var stringified = ko.observable(ko.unwrap(valueAccessor()));\\n            stringified.subscribe(function(value) {\\n                var val = parseFloat(value);\\n                if (!isNaN(val)) {\\n                    valueAccessor()(val);\\n                }\\n            });\\n            valueAccessor().subscribe(function(value) {\\n                var str = JSON.stringify(value);\\n                if ((str == \\\"0\\\") && ([\\\"-0\\\", \\\"-0.\\\"].indexOf(stringified()) >= 0))\\n                     return;\\n                 if ([\\\"null\\\", \\\"\\\"].indexOf(str) >= 0)\\n                     return;\\n                stringified(str);\\n            });\\n            ko.applyBindingsToNode(\\n                element,\\n                {\\n                    value: stringified,\\n                    valueUpdate: allBindings.get('valueUpdate'),\\n                },\\n                context,\\n            );\\n        }\\n    };\\n    var json_data = {\\\"loading\\\":WebIO.getval({\\\"name\\\":\\\"loading\\\",\\\"scope\\\":\\\"10117081034332158435\\\",\\\"id\\\":\\\"18234306212445934865\\\",\\\"type\\\":\\\"observable\\\"}),\\\"clicks\\\":WebIO.getval({\\\"name\\\":\\\"clicks\\\",\\\"scope\\\":\\\"10117081034332158435\\\",\\\"id\\\":\\\"18184822852142252901\\\",\\\"type\\\":\\\"observable\\\"})};\\n    var self = this;\\n    function AppViewModel() {\\n        for (var key in json_data) {\\n            var el = json_data[key];\\n            this[key] = Array.isArray(el) ? ko.observableArray(el) : ko.observable(el);\\n        }\\n        \\n        \\n        [this[\\\"loading\\\"].subscribe((function (val){!(this.valueFromJulia[\\\"loading\\\"]) ? (WebIO.setval({\\\"name\\\":\\\"loading\\\",\\\"scope\\\":\\\"10117081034332158435\\\",\\\"id\\\":\\\"18234306212445934865\\\",\\\"type\\\":\\\"observable\\\"},val)) : undefined; return this.valueFromJulia[\\\"loading\\\"]=false}),self),this[\\\"clicks\\\"].subscribe((function (val){!(this.valueFromJulia[\\\"clicks\\\"]) ? (WebIO.setval({\\\"name\\\":\\\"clicks\\\",\\\"scope\\\":\\\"10117081034332158435\\\",\\\"id\\\":\\\"18184822852142252901\\\",\\\"type\\\":\\\"observable\\\"},val)) : undefined; return this.valueFromJulia[\\\"clicks\\\"]=false}),self)]\\n        \\n    }\\n    self.model = new AppViewModel();\\n    self.valueFromJulia = {};\\n    for (var key in json_data) {\\n        self.valueFromJulia[key] = false;\\n    }\\n    ko.applyBindings(self.model, self.dom);\\n}\\n);\\n    (WebIO.importBlock({\\\"data\\\":[{\\\"name\\\":\\\"knockout\\\",\\\"type\\\":\\\"js\\\",\\\"url\\\":\\\"\\/assetserver\\/727383f2a47bd31570b7da84eee7b022dd6d7c78-knockout.js\\\"},{\\\"name\\\":\\\"knockout_punches\\\",\\\"type\\\":\\\"js\\\",\\\"url\\\":\\\"\\/assetserver\\/382b41b3b1bd9f26f75861d360bad7f8beea211f-knockout_punches.js\\\"}],\\\"type\\\":\\\"async_block\\\"})).then((imports) => handler.apply(this, imports));\\n}\\n\"],\"observables\":{\"loading\":{\"sync\":false,\"id\":\"18234306212445934865\",\"value\":false},\"clicks\":{\"sync\":true,\"id\":\"18184822852142252901\",\"value\":0}}},\"children\":[{\"props\":{\"attributes\":{\"data-bind\":\"click: function (){this.clicks(this.clicks()+1)}, css: {'is-loading' : loading}\"},\"className\":\"is-medium button is-primary\",\"style\":{}},\"nodeType\":\"DOM\",\"type\":\"node\",\"instanceArgs\":{\"namespace\":\"html\",\"tag\":\"button\"},\"children\":[\"run\"]}]}]},{\"props\":{\"className\":\"interact-widget\"},\"nodeType\":\"DOM\",\"type\":\"node\",\"instanceArgs\":{\"namespace\":\"html\",\"tag\":\"div\"},\"children\":[{\"props\":{},\"nodeType\":\"Scope\",\"type\":\"node\",\"instanceArgs\":{\"imports\":{\"data\":[{\"name\":null,\"type\":\"js\",\"url\":\"\\/assetserver\\/dd22ed1bf1896c2748f3fe616ce0b838adc895c1-katex.min.js\"},{\"name\":null,\"type\":\"css\",\"url\":\"\\/assetserver\\/46517a424aa5e6cffc1360d7e0848b601c584ee3-katex.min.css\"}],\"type\":\"async_block\"},\"id\":\"1822094710645137769\",\"handlers\":{\"value\":[\"(function (txt){return this.k.render(txt,this.container)})\"]},\"systemjs_options\":null,\"mount_callbacks\":[\"function () {\\n    var handler = ((function (k){this.k=k; this.container=this.dom.querySelector(\\\"#container\\\"); return k.render(\\\"\\\\\\\\;\\\\\\\\;\\\",this.container)}));\\n    (WebIO.importBlock({\\\"data\\\":[{\\\"name\\\":null,\\\"type\\\":\\\"js\\\",\\\"url\\\":\\\"\\/assetserver\\/dd22ed1bf1896c2748f3fe616ce0b838adc895c1-katex.min.js\\\"},{\\\"name\\\":null,\\\"type\\\":\\\"css\\\",\\\"url\\\":\\\"\\/assetserver\\/46517a424aa5e6cffc1360d7e0848b601c584ee3-katex.min.css\\\"}],\\\"type\\\":\\\"async_block\\\"})).then((imports) => handler.apply(this, imports));\\n}\\n\"],\"observables\":{\"value\":{\"sync\":false,\"id\":\"2194936036810265758\",\"value\":\"\\\\;\\\\;\"}}},\"children\":[{\"props\":{\"id\":\"container\"},\"nodeType\":\"DOM\",\"type\":\"node\",\"instanceArgs\":{\"namespace\":\"html\",\"tag\":\"div\"},\"children\":[]}]}]},{\"props\":{\"className\":\"field interact-widget\"},\"nodeType\":\"DOM\",\"type\":\"node\",\"instanceArgs\":{\"namespace\":\"html\",\"tag\":\"div\"},\"children\":[{\"props\":{},\"nodeType\":\"Scope\",\"type\":\"node\",\"instanceArgs\":{\"imports\":{\"data\":[{\"name\":\"knockout\",\"type\":\"js\",\"url\":\"\\/assetserver\\/727383f2a47bd31570b7da84eee7b022dd6d7c78-knockout.js\"},{\"name\":\"knockout_punches\",\"type\":\"js\",\"url\":\"\\/assetserver\\/382b41b3b1bd9f26f75861d360bad7f8beea211f-knockout_punches.js\"},{\"name\":null,\"type\":\"js\",\"url\":\"\\/assetserver\\/5ab20f1060420992a9b82a65b735dee4d81ef413-all.js\"},{\"name\":null,\"type\":\"css\",\"url\":\"\\/assetserver\\/1cc0ed62837210b80a182cc3676512f895dab686-style.css\"},{\"name\":null,\"type\":\"css\",\"url\":\"\\/assetserver\\/2eee816f616df3549d7044d45e744fbf8d42bfa1-bulma_confined.min.css\"}],\"type\":\"async_block\"},\"id\":\"17550553641824877801\",\"handlers\":{\"loading\":[\"(function (val){return (val!=this.model[\\\"loading\\\"]()) ? (this.valueFromJulia[\\\"loading\\\"]=true, this.model[\\\"loading\\\"](val)) : undefined})\"],\"clicks\":[\"(function (val){return (val!=this.model[\\\"clicks\\\"]()) ? (this.valueFromJulia[\\\"clicks\\\"]=true, this.model[\\\"clicks\\\"](val)) : undefined})\"]},\"systemjs_options\":null,\"mount_callbacks\":[\"function () {\\n    var handler = (function (ko, koPunches) {\\n    ko.punches.enableAll();\\n    ko.bindingHandlers.numericValue = {\\n        init: function(element, valueAccessor, allBindings, data, context) {\\n            var stringified = ko.observable(ko.unwrap(valueAccessor()));\\n            stringified.subscribe(function(value) {\\n                var val = parseFloat(value);\\n                if (!isNaN(val)) {\\n                    valueAccessor()(val);\\n                }\\n            });\\n            valueAccessor().subscribe(function(value) {\\n                var str = JSON.stringify(value);\\n                if ((str == \\\"0\\\") && ([\\\"-0\\\", \\\"-0.\\\"].indexOf(stringified()) >= 0))\\n                     return;\\n                 if ([\\\"null\\\", \\\"\\\"].indexOf(str) >= 0)\\n                     return;\\n                stringified(str);\\n            });\\n            ko.applyBindingsToNode(\\n                element,\\n                {\\n                    value: stringified,\\n                    valueUpdate: allBindings.get('valueUpdate'),\\n                },\\n                context,\\n            );\\n        }\\n    };\\n    var json_data = {\\\"loading\\\":WebIO.getval({\\\"name\\\":\\\"loading\\\",\\\"scope\\\":\\\"17550553641824877801\\\",\\\"id\\\":\\\"4612025943813090814\\\",\\\"type\\\":\\\"observable\\\"}),\\\"clicks\\\":WebIO.getval({\\\"name\\\":\\\"clicks\\\",\\\"scope\\\":\\\"17550553641824877801\\\",\\\"id\\\":\\\"5925532524036126340\\\",\\\"type\\\":\\\"observable\\\"})};\\n    var self = this;\\n    function AppViewModel() {\\n        for (var key in json_data) {\\n            var el = json_data[key];\\n            this[key] = Array.isArray(el) ? ko.observableArray(el) : ko.observable(el);\\n        }\\n        \\n        \\n        [this[\\\"loading\\\"].subscribe((function (val){!(this.valueFromJulia[\\\"loading\\\"]) ? (WebIO.setval({\\\"name\\\":\\\"loading\\\",\\\"scope\\\":\\\"17550553641824877801\\\",\\\"id\\\":\\\"4612025943813090814\\\",\\\"type\\\":\\\"observable\\\"},val)) : undefined; return this.valueFromJulia[\\\"loading\\\"]=false}),self),this[\\\"clicks\\\"].subscribe((function (val){!(this.valueFromJulia[\\\"clicks\\\"]) ? (WebIO.setval({\\\"name\\\":\\\"clicks\\\",\\\"scope\\\":\\\"17550553641824877801\\\",\\\"id\\\":\\\"5925532524036126340\\\",\\\"type\\\":\\\"observable\\\"},val)) : undefined; return this.valueFromJulia[\\\"clicks\\\"]=false}),self)]\\n        \\n    }\\n    self.model = new AppViewModel();\\n    self.valueFromJulia = {};\\n    for (var key in json_data) {\\n        self.valueFromJulia[key] = false;\\n    }\\n    ko.applyBindings(self.model, self.dom);\\n}\\n);\\n    (WebIO.importBlock({\\\"data\\\":[{\\\"name\\\":\\\"knockout\\\",\\\"type\\\":\\\"js\\\",\\\"url\\\":\\\"\\/assetserver\\/727383f2a47bd31570b7da84eee7b022dd6d7c78-knockout.js\\\"},{\\\"name\\\":\\\"knockout_punches\\\",\\\"type\\\":\\\"js\\\",\\\"url\\\":\\\"\\/assetserver\\/382b41b3b1bd9f26f75861d360bad7f8beea211f-knockout_punches.js\\\"}],\\\"type\\\":\\\"async_block\\\"})).then((imports) => handler.apply(this, imports));\\n}\\n\"],\"observables\":{\"loading\":{\"sync\":false,\"id\":\"4612025943813090814\",\"value\":false},\"clicks\":{\"sync\":true,\"id\":\"5925532524036126340\",\"value\":0}}},\"children\":[{\"props\":{\"attributes\":{\"data-bind\":\"click: function (){this.clicks(this.clicks()+1)}, css: {'is-loading' : loading}\"},\"className\":\"is-medium button is-primary\",\"style\":{}},\"nodeType\":\"DOM\",\"type\":\"node\",\"instanceArgs\":{\"namespace\":\"html\",\"tag\":\"button\"},\"children\":[\"stop\"]}]}]},{\"props\":{\"className\":\"interact-widget\"},\"nodeType\":\"DOM\",\"type\":\"node\",\"instanceArgs\":{\"namespace\":\"html\",\"tag\":\"div\"},\"children\":[{\"props\":{},\"nodeType\":\"Scope\",\"type\":\"node\",\"instanceArgs\":{\"imports\":{\"data\":[{\"name\":null,\"type\":\"js\",\"url\":\"\\/assetserver\\/dd22ed1bf1896c2748f3fe616ce0b838adc895c1-katex.min.js\"},{\"name\":null,\"type\":\"css\",\"url\":\"\\/assetserver\\/46517a424aa5e6cffc1360d7e0848b601c584ee3-katex.min.css\"}],\"type\":\"async_block\"},\"id\":\"1822094710645137769\",\"handlers\":{\"value\":[\"(function (txt){return this.k.render(txt,this.container)})\"]},\"systemjs_options\":null,\"mount_callbacks\":[\"function () {\\n    var handler = ((function (k){this.k=k; this.container=this.dom.querySelector(\\\"#container\\\"); return k.render(\\\"\\\\\\\\;\\\\\\\\;\\\",this.container)}));\\n    (WebIO.importBlock({\\\"data\\\":[{\\\"name\\\":null,\\\"type\\\":\\\"js\\\",\\\"url\\\":\\\"\\/assetserver\\/dd22ed1bf1896c2748f3fe616ce0b838adc895c1-katex.min.js\\\"},{\\\"name\\\":null,\\\"type\\\":\\\"css\\\",\\\"url\\\":\\\"\\/assetserver\\/46517a424aa5e6cffc1360d7e0848b601c584ee3-katex.min.css\\\"}],\\\"type\\\":\\\"async_block\\\"})).then((imports) => handler.apply(this, imports));\\n}\\n\"],\"observables\":{\"value\":{\"sync\":false,\"id\":\"2194936036810265758\",\"value\":\"\\\\;\\\\;\"}}},\"children\":[{\"props\":{\"id\":\"container\"},\"nodeType\":\"DOM\",\"type\":\"node\",\"instanceArgs\":{\"namespace\":\"html\",\"tag\":\"div\"},\"children\":[]}]}]},{\"props\":{\"className\":\"field interact-widget\"},\"nodeType\":\"DOM\",\"type\":\"node\",\"instanceArgs\":{\"namespace\":\"html\",\"tag\":\"div\"},\"children\":[{\"props\":{},\"nodeType\":\"Scope\",\"type\":\"node\",\"instanceArgs\":{\"imports\":{\"data\":[{\"name\":\"knockout\",\"type\":\"js\",\"url\":\"\\/assetserver\\/727383f2a47bd31570b7da84eee7b022dd6d7c78-knockout.js\"},{\"name\":\"knockout_punches\",\"type\":\"js\",\"url\":\"\\/assetserver\\/382b41b3b1bd9f26f75861d360bad7f8beea211f-knockout_punches.js\"},{\"name\":null,\"type\":\"js\",\"url\":\"\\/assetserver\\/5ab20f1060420992a9b82a65b735dee4d81ef413-all.js\"},{\"name\":null,\"type\":\"css\",\"url\":\"\\/assetserver\\/1cc0ed62837210b80a182cc3676512f895dab686-style.css\"},{\"name\":null,\"type\":\"css\",\"url\":\"\\/assetserver\\/2eee816f616df3549d7044d45e744fbf8d42bfa1-bulma_confined.min.css\"}],\"type\":\"async_block\"},\"id\":\"292415132597134478\",\"handlers\":{\"loading\":[\"(function (val){return (val!=this.model[\\\"loading\\\"]()) ? (this.valueFromJulia[\\\"loading\\\"]=true, this.model[\\\"loading\\\"](val)) : undefined})\"],\"clicks\":[\"(function (val){return (val!=this.model[\\\"clicks\\\"]()) ? (this.valueFromJulia[\\\"clicks\\\"]=true, this.model[\\\"clicks\\\"](val)) : undefined})\"]},\"systemjs_options\":null,\"mount_callbacks\":[\"function () {\\n    var handler = (function (ko, koPunches) {\\n    ko.punches.enableAll();\\n    ko.bindingHandlers.numericValue = {\\n        init: function(element, valueAccessor, allBindings, data, context) {\\n            var stringified = ko.observable(ko.unwrap(valueAccessor()));\\n            stringified.subscribe(function(value) {\\n                var val = parseFloat(value);\\n                if (!isNaN(val)) {\\n                    valueAccessor()(val);\\n                }\\n            });\\n            valueAccessor().subscribe(function(value) {\\n                var str = JSON.stringify(value);\\n                if ((str == \\\"0\\\") && ([\\\"-0\\\", \\\"-0.\\\"].indexOf(stringified()) >= 0))\\n                     return;\\n                 if ([\\\"null\\\", \\\"\\\"].indexOf(str) >= 0)\\n                     return;\\n                stringified(str);\\n            });\\n            ko.applyBindingsToNode(\\n                element,\\n                {\\n                    value: stringified,\\n                    valueUpdate: allBindings.get('valueUpdate'),\\n                },\\n                context,\\n            );\\n        }\\n    };\\n    var json_data = {\\\"loading\\\":WebIO.getval({\\\"name\\\":\\\"loading\\\",\\\"scope\\\":\\\"292415132597134478\\\",\\\"id\\\":\\\"961006674804879762\\\",\\\"type\\\":\\\"observable\\\"}),\\\"clicks\\\":WebIO.getval({\\\"name\\\":\\\"clicks\\\",\\\"scope\\\":\\\"292415132597134478\\\",\\\"id\\\":\\\"8946329749394254492\\\",\\\"type\\\":\\\"observable\\\"})};\\n    var self = this;\\n    function AppViewModel() {\\n        for (var key in json_data) {\\n            var el = json_data[key];\\n            this[key] = Array.isArray(el) ? ko.observableArray(el) : ko.observable(el);\\n        }\\n        \\n        \\n        [this[\\\"loading\\\"].subscribe((function (val){!(this.valueFromJulia[\\\"loading\\\"]) ? (WebIO.setval({\\\"name\\\":\\\"loading\\\",\\\"scope\\\":\\\"292415132597134478\\\",\\\"id\\\":\\\"961006674804879762\\\",\\\"type\\\":\\\"observable\\\"},val)) : undefined; return this.valueFromJulia[\\\"loading\\\"]=false}),self),this[\\\"clicks\\\"].subscribe((function (val){!(this.valueFromJulia[\\\"clicks\\\"]) ? (WebIO.setval({\\\"name\\\":\\\"clicks\\\",\\\"scope\\\":\\\"292415132597134478\\\",\\\"id\\\":\\\"8946329749394254492\\\",\\\"type\\\":\\\"observable\\\"},val)) : undefined; return this.valueFromJulia[\\\"clicks\\\"]=false}),self)]\\n        \\n    }\\n    self.model = new AppViewModel();\\n    self.valueFromJulia = {};\\n    for (var key in json_data) {\\n        self.valueFromJulia[key] = false;\\n    }\\n    ko.applyBindings(self.model, self.dom);\\n}\\n);\\n    (WebIO.importBlock({\\\"data\\\":[{\\\"name\\\":\\\"knockout\\\",\\\"type\\\":\\\"js\\\",\\\"url\\\":\\\"\\/assetserver\\/727383f2a47bd31570b7da84eee7b022dd6d7c78-knockout.js\\\"},{\\\"name\\\":\\\"knockout_punches\\\",\\\"type\\\":\\\"js\\\",\\\"url\\\":\\\"\\/assetserver\\/382b41b3b1bd9f26f75861d360bad7f8beea211f-knockout_punches.js\\\"}],\\\"type\\\":\\\"async_block\\\"})).then((imports) => handler.apply(this, imports));\\n}\\n\"],\"observables\":{\"loading\":{\"sync\":false,\"id\":\"961006674804879762\",\"value\":false},\"clicks\":{\"sync\":true,\"id\":\"8946329749394254492\",\"value\":0}}},\"children\":[{\"props\":{\"attributes\":{\"data-bind\":\"click: function (){this.clicks(this.clicks()+1)}, css: {'is-loading' : loading}\"},\"className\":\"is-medium button is-primary\",\"style\":{}},\"nodeType\":\"DOM\",\"type\":\"node\",\"instanceArgs\":{\"namespace\":\"html\",\"tag\":\"button\"},\"children\":[\"save\"]}]}]}]}]},{\"props\":{\"className\":\"interact-widget\"},\"nodeType\":\"DOM\",\"type\":\"node\",\"instanceArgs\":{\"namespace\":\"html\",\"tag\":\"div\"},\"children\":[{\"props\":{},\"nodeType\":\"Scope\",\"type\":\"node\",\"instanceArgs\":{\"imports\":{\"data\":[{\"name\":null,\"type\":\"js\",\"url\":\"\\/assetserver\\/dd22ed1bf1896c2748f3fe616ce0b838adc895c1-katex.min.js\"},{\"name\":null,\"type\":\"css\",\"url\":\"\\/assetserver\\/46517a424aa5e6cffc1360d7e0848b601c584ee3-katex.min.css\"}],\"type\":\"async_block\"},\"id\":\"1822094710645137769\",\"handlers\":{\"value\":[\"(function (txt){return this.k.render(txt,this.container)})\"]},\"systemjs_options\":null,\"mount_callbacks\":[\"function () {\\n    var handler = ((function (k){this.k=k; this.container=this.dom.querySelector(\\\"#container\\\"); return k.render(\\\"\\\\\\\\;\\\\\\\\;\\\",this.container)}));\\n    (WebIO.importBlock({\\\"data\\\":[{\\\"name\\\":null,\\\"type\\\":\\\"js\\\",\\\"url\\\":\\\"\\/assetserver\\/dd22ed1bf1896c2748f3fe616ce0b838adc895c1-katex.min.js\\\"},{\\\"name\\\":null,\\\"type\\\":\\\"css\\\",\\\"url\\\":\\\"\\/assetserver\\/46517a424aa5e6cffc1360d7e0848b601c584ee3-katex.min.css\\\"}],\\\"type\\\":\\\"async_block\\\"})).then((imports) => handler.apply(this, imports));\\n}\\n\"],\"observables\":{\"value\":{\"sync\":false,\"id\":\"2194936036810265758\",\"value\":\"\\\\;\\\\;\"}}},\"children\":[{\"props\":{\"id\":\"container\"},\"nodeType\":\"DOM\",\"type\":\"node\",\"instanceArgs\":{\"namespace\":\"html\",\"tag\":\"div\"},\"children\":[]}]}]},{\"props\":{},\"nodeType\":\"Scope\",\"type\":\"node\",\"instanceArgs\":{\"imports\":{\"data\":[],\"type\":\"async_block\"},\"id\":\"2625189898755827656\",\"handlers\":{\"obs-output\":[\"function (value, scope) {\\n    scope.setInnerHTML(value);\\n}\\n\"]},\"systemjs_options\":null,\"mount_callbacks\":[],\"observables\":{\"obs-output\":{\"sync\":false,\"id\":\"17584132610666121946\",\"value\":\"<img src='data:image\\/png;base64,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'><\\/img>\"}}},\"children\":[{\"props\":{\"className\":\"webio-observable\",\"setInnerHtml\":\"<img src='data:image\\/png;base64,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'><\\/img>\"},\"nodeType\":\"DOM\",\"type\":\"node\",\"instanceArgs\":{\"namespace\":\"html\",\"tag\":\"div\"},\"children\":[]}]},{\"props\":{\"className\":\"interact-widget\"},\"nodeType\":\"DOM\",\"type\":\"node\",\"instanceArgs\":{\"namespace\":\"html\",\"tag\":\"div\"},\"children\":[{\"props\":{},\"nodeType\":\"Scope\",\"type\":\"node\",\"instanceArgs\":{\"imports\":{\"data\":[{\"name\":null,\"type\":\"js\",\"url\":\"\\/assetserver\\/dd22ed1bf1896c2748f3fe616ce0b838adc895c1-katex.min.js\"},{\"name\":null,\"type\":\"css\",\"url\":\"\\/assetserver\\/46517a424aa5e6cffc1360d7e0848b601c584ee3-katex.min.css\"}],\"type\":\"async_block\"},\"id\":\"1822094710645137769\",\"handlers\":{\"value\":[\"(function (txt){return this.k.render(txt,this.container)})\"]},\"systemjs_options\":null,\"mount_callbacks\":[\"function () {\\n    var handler = ((function (k){this.k=k; this.container=this.dom.querySelector(\\\"#container\\\"); return k.render(\\\"\\\\\\\\;\\\\\\\\;\\\",this.container)}));\\n    (WebIO.importBlock({\\\"data\\\":[{\\\"name\\\":null,\\\"type\\\":\\\"js\\\",\\\"url\\\":\\\"\\/assetserver\\/dd22ed1bf1896c2748f3fe616ce0b838adc895c1-katex.min.js\\\"},{\\\"name\\\":null,\\\"type\\\":\\\"css\\\",\\\"url\\\":\\\"\\/assetserver\\/46517a424aa5e6cffc1360d7e0848b601c584ee3-katex.min.css\\\"}],\\\"type\\\":\\\"async_block\\\"})).then((imports) => handler.apply(this, imports));\\n}\\n\"],\"observables\":{\"value\":{\"sync\":false,\"id\":\"2194936036810265758\",\"value\":\"\\\\;\\\\;\"}}},\"children\":[{\"props\":{\"id\":\"container\"},\"nodeType\":\"DOM\",\"type\":\"node\",\"instanceArgs\":{\"namespace\":\"html\",\"tag\":\"div\"},\"children\":[]}]}]},{\"props\":{\"style\":{\"display\":\"flex\",\"flex-direction\":\"column\"}},\"nodeType\":\"DOM\",\"type\":\"node\",\"instanceArgs\":{\"namespace\":\"html\",\"tag\":\"div\"},\"children\":[]}]}]},\n",
       "        window,\n",
       "    );\n",
       "    })()\n",
       "    </script>\n",
       "</div>\n"
      ],
      "text/plain": [
       "WebIO.Node{WebIO.DOM}(WebIO.DOM(:html, :div), Any[WebIO.Node{WebIO.DOM}(WebIO.DOM(:html, :div), Any[WebIO.Node{WebIO.DOM}(WebIO.DOM(:html, :div), Any[WebIO.Node{WebIO.DOM}(WebIO.DOM(:html, :div), Any[WebIO.Scope(WebIO.Node{WebIO.DOM}(WebIO.DOM(:html, :div), Any[WebIO.Node{WebIO.DOM}(WebIO.DOM(:html, :div), Any[WebIO.Node{WebIO.DOM}(WebIO.DOM(:html, :label), Any[\"time\"], Dict{Symbol, Any}(:className => \"interact \", :style => Dict{Any, Any}(:padding => \"5px 10px 0px 10px\")))], Dict{Symbol, Any}(:className => \"interact-flex-row-left\")), WebIO.Node{WebIO.DOM}(WebIO.DOM(:html, :div), Any[WebIO.Node{WebIO.DOM}(WebIO.DOM(:html, :input), Any[], Dict{Symbol, Any}(:max => 401, :min => 1, :attributes => Dict{Any, Any}(:type => \"range\", Symbol(\"data-bind\") => \"numericValue: index, valueUpdate: 'input', event: {change: function (){this.changes(this.changes()+1)}}\", \"orient\" => \"horizontal\"), :step => 1, :className => \"slider slider is-fullwidth\", :style => Dict{Any, Any}()))], Dict{Symbol, Any}(:className => \"interact-flex-row-center\")), WebIO.Node{WebIO.DOM}(WebIO.DOM(:html, :div), Any[WebIO.Node{WebIO.DOM}(WebIO.DOM(:html, :p), Any[], Dict{Symbol, Any}(:attributes => Dict(\"data-bind\" => \"text: formatted_val\")))], Dict{Symbol, Any}(:className => \"interact-flex-row-right\"))], Dict{Symbol, Any}(:className => \"interact-flex-row interact-widget\")), Dict{String, Tuple{Observables.AbstractObservable, Union{Nothing, Bool}}}(\"changes\" => (Observable(0), nothing), \"index\" => (Observable(201), nothing)), Set{String}(), nothing, WebIO.Asset[WebIO.Asset(\"js\", \"knockout\", \"/home/dushya/.julia/packages/Knockout/HReiN/src/../assets/knockout.js\"), WebIO.Asset(\"js\", \"knockout_punches\", \"/home/dushya/.julia/packages/Knockout/HReiN/src/../assets/knockout_punches.js\"), WebIO.Asset(\"js\", nothing, \"/home/dushya/.julia/packages/InteractBase/LJXv3/src/../assets/all.js\"), WebIO.Asset(\"css\", nothing, \"/home/dushya/.julia/packages/InteractBase/LJXv3/src/../assets/style.css\"), WebIO.Asset(\"css\", nothing, \"/home/dushya/.julia/packages/Interact/PENUy/src/../assets/bulma_confined.min.css\")], Dict{Any, Any}(\"changes\" => Any[WebIO.JSString(\"(function (val){return (val!=this.model[\\\"changes\\\"]()) ? (this.valueFromJulia[\\\"changes\\\"]=true, this.model[\\\"changes\\\"](val)) : undefined})\")], \"index\" => Any[WebIO.JSString(\"(function (val){return (val!=this.model[\\\"index\\\"]()) ? (this.valueFromJulia[\\\"index\\\"]=true, this.model[\\\"index\\\"](val)) : undefined})\")]), WebIO.ConnectionPool(Channel{Any}(32), Set{WebIO.AbstractConnection}(), Base.GenericCondition{ReentrantLock}(Base.IntrusiveLinkedList{Task}(Task (runnable) @0x00007fe7cd7b4e20, Task (runnable) @0x00007fe7cd7b4e20), ReentrantLock(nothing, 0x00000000, 0x00, Base.GenericCondition{Base.Threads.SpinLock}(Base.IntrusiveLinkedList{Task}(nothing, nothing), Base.Threads.SpinLock(0)), (2, 140634449002800, 140634449005872)))), WebIO.JSString[WebIO.JSString(\"function () {\\n    var handler = (function (ko, koPunches) {\\n    ko.punches.enableAll();\\n    ko.bindingHandlers.numericValue = {\\n        init: function(element, valueAccessor, allBindings, data, context) {\\n            var stringified = ko.observable(ko.unwrap(valueAccessor()));\\n            stringified.subscribe(function(value) {\\n                var val = parseFloat(value);\\n                if (!isNaN(val)) {\\n                    valueAccessor()(val);\\n                }\\n            });\\n            valueAccessor().subscribe(function(value) {\\n                var str = JSON.stringify(value);\\n                if ((str == \\\"0\\\") && ([\\\"-0\\\", \\\"-0.\\\"].indexOf(stringified()) >= 0))\\n                     return;\\n                 if ([\\\"null\\\", \\\"\\\"].indexOf(str) >= 0)\\n                     return;\\n                stringified(str);\\n            });\\n            ko.applyBindingsToNode(\\n                element,\\n                {\\n                    value: stringified,\\n                    valueUpdate: allBindings.get('valueUpdate'),\\n                },\\n                context,\\n            );\\n        }\\n    };\\n    var json_data = {\\\"formatted_vals\\\":[\\\"1\\\",\\\"2\\\",\\\"3\\\",\\\"4\\\",\\\"5\\\",\\\"6\\\",\\\"7\\\",\\\"8\\\",\\\"9\\\",\\\"10\\\",\\\"11\\\",\\\"12\\\",\\\"13\\\",\\\"14\\\",\\\"15\\\",\\\"16\\\",\\\"17\\\",\\\"18\\\",\\\"19\\\",\\\"20\\\",\\\"21\\\",\\\"22\\\",\\\"23\\\",\\\"24\\\",\\\"25\\\",\\\"26\\\",\\\"27\\\",\\\"28\\\",\\\"29\\\",\\\"30\\\",\\\"31\\\",\\\"32\\\",\\\"33\\\",\\\"34\\\",\\\"35\\\",\\\"36\\\",\\\"37\\\",\\\"38\\\",\\\"39\\\",\\\"40\\\",\\\"41\\\",\\\"42\\\",\\\"43\\\",\\\"44\\\",\\\"45\\\",\\\"46\\\",\\\"47\\\",\\\"48\\\",\\\"49\\\",\\\"50\\\",\\\"51\\\",\\\"52\\\",\\\"53\\\",\\\"54\\\",\\\"55\\\",\\\"56\\\",\\\"57\\\",\\\"58\\\",\\\"59\\\",\\\"60\\\",\\\"61\\\",\\\"62\\\",\\\"63\\\",\\\"64\\\",\\\"65\\\",\\\"66\\\",\\\"67\\\",\\\"68\\\",\\\"69\\\",\\\"70\\\",\\\"71\\\",\\\"72\\\",\\\"73\\\",\\\"74\\\",\\\"75\\\",\\\"76\\\",\\\"77\\\",\\\"78\\\",\\\"79\\\",\\\"80\\\",\\\"81\\\",\\\"82\\\",\\\"83\\\",\\\"84\\\",\\\"85\\\",\\\"86\\\",\\\"87\\\",\\\"88\\\",\\\"89\\\",\\\"90\\\",\\\"91\\\",\\\"92\\\",\\\"93\\\",\\\"94\\\",\\\"95\\\",\\\"96\\\",\\\"97\\\",\\\"98\\\",\\\"99\\\",\\\"100\\\",\\\"101\\\",\\\"102\\\",\\\"103\\\",\\\"104\\\",\\\"105\\\",\\\"106\\\",\\\"107\\\",\\\"108\\\",\\\"109\\\",\\\"110\\\",\\\"111\\\",\\\"112\\\",\\\"113\\\",\\\"114\\\",\\\"115\\\",\\\"116\\\",\\\"117\\\",\\\"118\\\",\\\"119\\\",\\\"120\\\",\\\"121\\\",\\\"122\\\",\\\"123\\\",\\\"124\\\",\\\"125\\\",\\\"126\\\",\\\"127\\\",\\\"128\\\",\\\"129\\\",\\\"130\\\",\\\"131\\\",\\\"132\\\",\\\"133\\\",\\\"134\\\",\\\"135\\\",\\\"136\\\",\\\"137\\\",\\\"138\\\",\\\"139\\\",\\\"140\\\",\\\"141\\\",\\\"142\\\",\\\"143\\\",\\\"144\\\",\\\"145\\\",\\\"146\\\",\\\"147\\\",\\\"148\\\",\\\"149\\\",\\\"150\\\",\\\"151\\\",\\\"152\\\",\\\"153\\\",\\\"154\\\",\\\"155\\\",\\\"156\\\",\\\"157\\\",\\\"158\\\",\\\"159\\\",\\\"160\\\",\\\"161\\\",\\\"162\\\",\\\"163\\\",\\\"164\\\",\\\"165\\\",\\\"166\\\",\\\"167\\\",\\\"168\\\",\\\"169\\\",\\\"170\\\",\\\"171\\\",\\\"172\\\",\\\"173\\\",\\\"174\\\",\\\"175\\\",\\\"176\\\",\\\"177\\\",\\\"178\\\",\\\"179\\\",\\\"180\\\",\\\"181\\\",\\\"182\\\",\\\"183\\\",\\\"184\\\",\\\"185\\\",\\\"186\\\",\\\"187\\\",\\\"188\\\",\\\"189\\\",\\\"190\\\",\\\"191\\\",\\\"192\\\",\\\"193\\\",\\\"194\\\",\\\"195\\\",\\\"196\\\",\\\"197\\\",\\\"198\\\",\\\"199\\\",\\\"200\\\",\\\"201\\\",\\\"202\\\",\\\"203\\\",\\\"204\\\",\\\"205\\\",\\\"206\\\",\\\"207\\\",\\\"208\\\",\\\"209\\\",\\\"210\\\",\\\"211\\\",\\\"212\\\",\\\"213\\\",\\\"214\\\",\\\"215\\\",\\\"216\\\",\\\"217\\\",\\\"218\\\",\\\"219\\\",\\\"220\\\",\\\"221\\\",\\\"222\\\",\\\"223\\\",\\\"224\\\",\\\"225\\\",\\\"226\\\",\\\"227\\\",\\\"228\\\",\\\"229\\\",\\\"230\\\",\\\"231\\\",\\\"232\\\",\\\"233\\\",\\\"234\\\",\\\"235\\\",\\\"236\\\",\\\"237\\\",\\\"238\\\",\\\"239\\\",\\\"240\\\",\\\"241\\\",\\\"242\\\",\\\"243\\\",\\\"244\\\",\\\"245\\\",\\\"246\\\",\\\"247\\\",\\\"248\\\",\\\"249\\\",\\\"250\\\",\\\"251\\\",\\\"252\\\",\\\"253\\\",\\\"254\\\",\\\"255\\\",\\\"256\\\",\\\"257\\\",\\\"258\\\",\\\"259\\\",\\\"260\\\",\\\"261\\\",\\\"262\\\",\\\"263\\\",\\\"264\\\",\\\"265\\\",\\\"266\\\",\\\"267\\\",\\\"268\\\",\\\"269\\\",\\\"270\\\",\\\"271\\\",\\\"272\\\",\\\"273\\\",\\\"274\\\",\\\"275\\\",\\\"276\\\",\\\"277\\\",\\\"278\\\",\\\"279\\\",\\\"280\\\",\\\"281\\\",\\\"282\\\",\\\"283\\\",\\\"284\\\",\\\"285\\\",\\\"286\\\",\\\"287\\\",\\\"288\\\",\\\"289\\\",\\\"290\\\",\\\"291\\\",\\\"292\\\",\\\"293\\\",\\\"294\\\",\\\"295\\\",\\\"296\\\",\\\"297\\\",\\\"298\\\",\\\"299\\\",\\\"300\\\",\\\"301\\\",\\\"302\\\",\\\"303\\\",\\\"304\\\",\\\"305\\\",\\\"306\\\",\\\"307\\\",\\\"308\\\",\\\"309\\\",\\\"310\\\",\\\"311\\\",\\\"312\\\",\\\"313\\\",\\\"314\\\",\\\"315\\\",\\\"316\\\",\\\"317\\\",\\\"318\\\",\\\"319\\\",\\\"320\\\",\\\"321\\\",\\\"322\\\",\\\"323\\\",\\\"324\\\",\\\"325\\\",\\\"326\\\",\\\"327\\\",\\\"328\\\",\\\"329\\\",\\\"330\\\",\\\"331\\\",\\\"332\\\",\\\"333\\\",\\\"334\\\",\\\"335\\\",\\\"336\\\",\\\"337\\\",\\\"338\\\",\\\"339\\\",\\\"340\\\",\\\"341\\\",\\\"342\\\",\\\"343\\\",\\\"344\\\",\\\"345\\\",\\\"346\\\",\\\"347\\\",\\\"348\\\",\\\"349\\\",\\\"350\\\",\\\"351\\\",\\\"352\\\",\\\"353\\\",\\\"354\\\",\\\"355\\\",\\\"356\\\",\\\"357\\\",\\\"358\\\",\\\"359\\\",\\\"360\\\",\\\"361\\\",\\\"362\\\",\\\"363\\\",\\\"364\\\",\\\"365\\\",\\\"366\\\",\\\"367\\\",\\\"368\\\",\\\"369\\\",\\\"370\\\",\\\"371\\\",\\\"372\\\",\\\"373\\\",\\\"374\\\",\\\"375\\\",\\\"376\\\",\\\"377\\\",\\\"378\\\",\\\"379\\\",\\\"380\\\",\\\"381\\\",\\\"382\\\",\\\"383\\\",\\\"384\\\",\\\"385\\\",\\\"386\\\",\\\"387\\\",\\\"388\\\",\\\"389\\\",\\\"390\\\",\\\"391\\\",\\\"392\\\",\\\"393\\\",\\\"394\\\",\\\"395\\\",\\\"396\\\",\\\"397\\\",\\\"398\\\",\\\"399\\\",\\\"400\\\",\\\"401\\\"],\\\"changes\\\":WebIO.getval({\\\"name\\\":\\\"changes\\\",\\\"scope\\\":\\\"48795722500903146\\\",\\\"id\\\":\\\"4605069494309459102\\\",\\\"type\\\":\\\"observable\\\"}),\\\"index\\\":WebIO.getval({\\\"name\\\":\\\"index\\\",\\\"scope\\\":\\\"48795722500903146\\\",\\\"id\\\":\\\"4891897415596218169\\\",\\\"type\\\":\\\"observable\\\"})};\\n    var self = this;\\n    function AppViewModel() {\\n        for (var key in json_data) {\\n            var el = json_data[key];\\n            this[key] = Array.isArray(el) ? ko.observableArray(el) : ko.observable(el);\\n        }\\n        \\n        [this[\\\"formatted_val\\\"]=ko.computed(    function(){\\n        return this.formatted_vals()[parseInt(this.index())-(1)];\\n    }\\n,this)]\\n        [this[\\\"changes\\\"].subscribe((function (val){!(this.valueFromJulia[\\\"changes\\\"]) ? (WebIO.setval({\\\"name\\\":\\\"changes\\\",\\\"scope\\\":\\\"48795722500903146\\\",\\\"id\\\":\\\"4605069494309459102\\\",\\\"type\\\":\\\"observable\\\"},val)) : undefined; return this.valueFromJulia[\\\"changes\\\"]=false}),self),this[\\\"index\\\"].subscribe((function (val){!(this.valueFromJulia[\\\"index\\\"]) ? (WebIO.setval({\\\"name\\\":\\\"index\\\",\\\"scope\\\":\\\"48795722500903146\\\",\\\"id\\\":\\\"4891897415596218169\\\",\\\"type\\\":\\\"observable\\\"},val)) : undefined; return this.valueFromJulia[\\\"index\\\"]=false}),self)]\\n        \\n    }\\n    self.model = new AppViewModel();\\n    self.valueFromJulia = {};\\n    for (var key in json_data) {\\n        self.valueFromJulia[key] = false;\\n    }\\n    ko.applyBindings(self.model, self.dom);\\n}\\n);\\n    (WebIO.importBlock({\\\"data\\\":[{\\\"name\\\":\\\"knockout\\\",\\\"type\\\":\\\"js\\\",\\\"url\\\":\\\"/assetserver/727383f2a47bd31570b7da84eee7b022dd6d7c78-knockout.js\\\"},{\\\"name\\\":\\\"knockout_punches\\\",\\\"type\\\":\\\"js\\\",\\\"url\\\":\\\"/assetserver/382b41b3b1bd9f26f75861d360bad7f8beea211f-knockout_punches.js\\\"}],\\\"type\\\":\\\"async_block\\\"})).then((imports) => handler.apply(this, imports));\\n}\\n\")])], Dict{Symbol, Any}(:className => \"field interact-widget\")), WebIO.Node{WebIO.DOM}(WebIO.DOM(:html, :div), Any[WebIO.Scope(WebIO.Node{WebIO.DOM}(WebIO.DOM(:html, :div), Any[WebIO.Node{WebIO.DOM}(WebIO.DOM(:html, :div), Any[WebIO.Node{WebIO.DOM}(WebIO.DOM(:html, :label), Any[\"scale\"], Dict{Symbol, Any}(:className => \"interact \", :style => Dict{Any, Any}(:padding => \"5px 10px 0px 10px\")))], Dict{Symbol, Any}(:className => \"interact-flex-row-left\")), WebIO.Node{WebIO.DOM}(WebIO.DOM(:html, :div), Any[WebIO.Node{WebIO.DOM}(WebIO.DOM(:html, :input), Any[], Dict{Symbol, Any}(:max => 20, :min => 1, :attributes => Dict{Any, Any}(:type => \"range\", Symbol(\"data-bind\") => \"numericValue: index, valueUpdate: 'input', event: {change: function (){this.changes(this.changes()+1)}}\", \"orient\" => \"horizontal\"), :step => 1, :className => \"slider slider is-fullwidth\", :style => Dict{Any, Any}()))], Dict{Symbol, Any}(:className => \"interact-flex-row-center\")), WebIO.Node{WebIO.DOM}(WebIO.DOM(:html, :div), Any[WebIO.Node{WebIO.DOM}(WebIO.DOM(:html, :p), Any[], Dict{Symbol, Any}(:attributes => Dict(\"data-bind\" => \"text: formatted_val\")))], Dict{Symbol, Any}(:className => \"interact-flex-row-right\"))], Dict{Symbol, Any}(:className => \"interact-flex-row interact-widget\")), Dict{String, Tuple{Observables.AbstractObservable, Union{Nothing, Bool}}}(\"changes\" => (Observable(0), nothing), \"index\" => (Observable{Any}(10), nothing)), Set{String}(), nothing, WebIO.Asset[WebIO.Asset(\"js\", \"knockout\", \"/home/dushya/.julia/packages/Knockout/HReiN/src/../assets/knockout.js\"), WebIO.Asset(\"js\", \"knockout_punches\", \"/home/dushya/.julia/packages/Knockout/HReiN/src/../assets/knockout_punches.js\"), WebIO.Asset(\"js\", nothing, \"/home/dushya/.julia/packages/InteractBase/LJXv3/src/../assets/all.js\"), WebIO.Asset(\"css\", nothing, \"/home/dushya/.julia/packages/InteractBase/LJXv3/src/../assets/style.css\"), WebIO.Asset(\"css\", nothing, \"/home/dushya/.julia/packages/Interact/PENUy/src/../assets/bulma_confined.min.css\")], Dict{Any, Any}(\"changes\" => Any[WebIO.JSString(\"(function (val){return (val!=this.model[\\\"changes\\\"]()) ? (this.valueFromJulia[\\\"changes\\\"]=true, this.model[\\\"changes\\\"](val)) : undefined})\")], \"index\" => Any[WebIO.JSString(\"(function (val){return (val!=this.model[\\\"index\\\"]()) ? (this.valueFromJulia[\\\"index\\\"]=true, this.model[\\\"index\\\"](val)) : undefined})\")]), WebIO.ConnectionPool(Channel{Any}(32), Set{WebIO.AbstractConnection}(), Base.GenericCondition{ReentrantLock}(Base.IntrusiveLinkedList{Task}(Task (runnable) @0x00007fe78cde8c90, Task (runnable) @0x00007fe78cde8c90), ReentrantLock(nothing, 0x00000000, 0x00, Base.GenericCondition{Base.Threads.SpinLock}(Base.IntrusiveLinkedList{Task}(nothing, nothing), Base.Threads.SpinLock(0)), (2, 140634305401744, 140634305401920)))), WebIO.JSString[WebIO.JSString(\"function () {\\n    var handler = (function (ko, koPunches) {\\n    ko.punches.enableAll();\\n    ko.bindingHandlers.numericValue = {\\n        init: function(element, valueAccessor, allBindings, data, context) {\\n            var stringified = ko.observable(ko.unwrap(valueAccessor()));\\n            stringified.subscribe(function(value) {\\n                var val = parseFloat(value);\\n                if (!isNaN(val)) {\\n                    valueAccessor()(val);\\n                }\\n            });\\n            valueAccessor().subscribe(function(value) {\\n                var str = JSON.stringify(value);\\n                if ((str == \\\"0\\\") && ([\\\"-0\\\", \\\"-0.\\\"].indexOf(stringified()) >= 0))\\n                     return;\\n                 if ([\\\"null\\\", \\\"\\\"].indexOf(str) >= 0)\\n                     return;\\n                stringified(str);\\n            });\\n            ko.applyBindingsToNode(\\n                element,\\n                {\\n                    value: stringified,\\n                    valueUpdate: allBindings.get('valueUpdate'),\\n                },\\n                context,\\n            );\\n        }\\n    };\\n    var json_data = {\\\"formatted_vals\\\":[\\\"0.1\\\",\\\"0.2\\\",\\\"0.3\\\",\\\"0.4\\\",\\\"0.5\\\",\\\"0.6\\\",\\\"0.7\\\",\\\"0.8\\\",\\\"0.9\\\",\\\"1.0\\\",\\\"1.1\\\",\\\"1.2\\\",\\\"1.3\\\",\\\"1.4\\\",\\\"1.5\\\",\\\"1.6\\\",\\\"1.7\\\",\\\"1.8\\\",\\\"1.9\\\",\\\"2.0\\\"],\\\"changes\\\":WebIO.getval({\\\"name\\\":\\\"changes\\\",\\\"scope\\\":\\\"17152931916970969356\\\",\\\"id\\\":\\\"13532266726258399007\\\",\\\"type\\\":\\\"observable\\\"}),\\\"index\\\":WebIO.getval({\\\"name\\\":\\\"index\\\",\\\"scope\\\":\\\"17152931916970969356\\\",\\\"id\\\":\\\"16703443407692721077\\\",\\\"type\\\":\\\"observable\\\"})};\\n    var self = this;\\n    function AppViewModel() {\\n        for (var key in json_data) {\\n            var el = json_data[key];\\n            this[key] = Array.isArray(el) ? ko.observableArray(el) : ko.observable(el);\\n        }\\n        \\n        [this[\\\"formatted_val\\\"]=ko.computed(    function(){\\n        return this.formatted_vals()[parseInt(this.index())-(1)];\\n    }\\n,this)]\\n        [this[\\\"changes\\\"].subscribe((function (val){!(this.valueFromJulia[\\\"changes\\\"]) ? (WebIO.setval({\\\"name\\\":\\\"changes\\\",\\\"scope\\\":\\\"17152931916970969356\\\",\\\"id\\\":\\\"13532266726258399007\\\",\\\"type\\\":\\\"observable\\\"},val)) : undefined; return this.valueFromJulia[\\\"changes\\\"]=false}),self),this[\\\"index\\\"].subscribe((function (val){!(this.valueFromJulia[\\\"index\\\"]) ? (WebIO.setval({\\\"name\\\":\\\"index\\\",\\\"scope\\\":\\\"17152931916970969356\\\",\\\"id\\\":\\\"16703443407692721077\\\",\\\"type\\\":\\\"observable\\\"},val)) : undefined; return this.valueFromJulia[\\\"index\\\"]=false}),self)]\\n        \\n    }\\n    self.model = new AppViewModel();\\n    self.valueFromJulia = {};\\n    for (var key in json_data) {\\n        self.valueFromJulia[key] = false;\\n    }\\n    ko.applyBindings(self.model, self.dom);\\n}\\n);\\n    (WebIO.importBlock({\\\"data\\\":[{\\\"name\\\":\\\"knockout\\\",\\\"type\\\":\\\"js\\\",\\\"url\\\":\\\"/assetserver/727383f2a47bd31570b7da84eee7b022dd6d7c78-knockout.js\\\"},{\\\"name\\\":\\\"knockout_punches\\\",\\\"type\\\":\\\"js\\\",\\\"url\\\":\\\"/assetserver/382b41b3b1bd9f26f75861d360bad7f8beea211f-knockout_punches.js\\\"}],\\\"type\\\":\\\"async_block\\\"})).then((imports) => handler.apply(this, imports));\\n}\\n\")])], Dict{Symbol, Any}(:className => \"field interact-widget\")), WebIO.Node{WebIO.DOM}(WebIO.DOM(:html, :div), Any[WebIO.Node{WebIO.DOM}(WebIO.DOM(:html, :div), Any[WebIO.Scope(WebIO.Node{WebIO.DOM}(WebIO.DOM(:html, :div), Any[], Dict{Symbol, Any}(:id => \"container\")), Dict{String, Tuple{Observables.AbstractObservable, Union{Nothing, Bool}}}(\"value\" => (Observable(\"\\\\;\\\\;\"), nothing)), Set{String}(), nothing, WebIO.Asset[WebIO.Asset(\"js\", nothing, \"/home/dushya/.julia/packages/InteractBase/LJXv3/src/../assets/katex.min.js\"), WebIO.Asset(\"css\", nothing, \"/home/dushya/.julia/packages/InteractBase/LJXv3/src/../assets/katex.min.css\")], Dict{Any, Any}(\"value\" => Any[WebIO.JSString(\"(function (txt){return this.k.render(txt,this.container)})\")]), WebIO.ConnectionPool(Channel{Any}(32), Set{WebIO.AbstractConnection}(), Base.GenericCondition{ReentrantLock}(Base.IntrusiveLinkedList{Task}(Task (runnable) @0x00007fe7cd8539e0, Task (runnable) @0x00007fe7cd8539e0), ReentrantLock(nothing, 0x00000000, 0x00, Base.GenericCondition{Base.Threads.SpinLock}(Base.IntrusiveLinkedList{Task}(nothing, nothing), Base.Threads.SpinLock(0)), (0, 0, 12)))), WebIO.JSString[WebIO.JSString(\"function () {\\n    var handler = ((function (k){this.k=k; this.container=this.dom.querySelector(\\\"#container\\\"); return k.render(\\\"\\\\\\\\;\\\\\\\\;\\\",this.container)}));\\n    (WebIO.importBlock({\\\"data\\\":[{\\\"name\\\":null,\\\"type\\\":\\\"js\\\",\\\"url\\\":\\\"/assetserver/dd22ed1bf1896c2748f3fe616ce0b838adc895c1-katex.min.js\\\"},{\\\"name\\\":null,\\\"type\\\":\\\"css\\\",\\\"url\\\":\\\"/assetserver/46517a424aa5e6cffc1360d7e0848b601c584ee3-katex.min.css\\\"}],\\\"type\\\":\\\"async_block\\\"})).then((imports) => handler.apply(this, imports));\\n}\\n\")])], Dict{Symbol, Any}(:className => \"interact-widget\")), WebIO.Node{WebIO.DOM}(WebIO.DOM(:html, :div), Any[WebIO.Scope(WebIO.Node{WebIO.DOM}(WebIO.DOM(:html, :button), Any[\"run\"], Dict{Symbol, Any}(:attributes => Dict{Any, Any}(\"data-bind\" => \"click: function (){this.clicks(this.clicks()+1)}, css: {'is-loading' : loading}\"), :className => \"is-medium button is-primary\", :style => Dict{String, Any}())), Dict{String, Tuple{Observables.AbstractObservable, Union{Nothing, Bool}}}(\"loading\" => (Observable(false), nothing), \"clicks\" => (Observable(0), nothing)), Set{String}(), nothing, WebIO.Asset[WebIO.Asset(\"js\", \"knockout\", \"/home/dushya/.julia/packages/Knockout/HReiN/src/../assets/knockout.js\"), WebIO.Asset(\"js\", \"knockout_punches\", \"/home/dushya/.julia/packages/Knockout/HReiN/src/../assets/knockout_punches.js\"), WebIO.Asset(\"js\", nothing, \"/home/dushya/.julia/packages/InteractBase/LJXv3/src/../assets/all.js\"), WebIO.Asset(\"css\", nothing, \"/home/dushya/.julia/packages/InteractBase/LJXv3/src/../assets/style.css\"), WebIO.Asset(\"css\", nothing, \"/home/dushya/.julia/packages/Interact/PENUy/src/../assets/bulma_confined.min.css\")], Dict{Any, Any}(\"loading\" => Any[WebIO.JSString(\"(function (val){return (val!=this.model[\\\"loading\\\"]()) ? (this.valueFromJulia[\\\"loading\\\"]=true, this.model[\\\"loading\\\"](val)) : undefined})\")], \"clicks\" => Any[WebIO.JSString(\"(function (val){return (val!=this.model[\\\"clicks\\\"]()) ? (this.valueFromJulia[\\\"clicks\\\"]=true, this.model[\\\"clicks\\\"](val)) : undefined})\")]), WebIO.ConnectionPool(Channel{Any}(32), Set{WebIO.AbstractConnection}(), Base.GenericCondition{ReentrantLock}(Base.IntrusiveLinkedList{Task}(Task (runnable) @0x00007fe80084fb70, Task (runnable) @0x00007fe80084fb70), ReentrantLock(nothing, 0x00000000, 0x00, Base.GenericCondition{Base.Threads.SpinLock}(Base.IntrusiveLinkedList{Task}(nothing, nothing), Base.Threads.SpinLock(0)), (8, 140634305401920, 0)))), WebIO.JSString[WebIO.JSString(\"function () {\\n    var handler = (function (ko, koPunches) {\\n    ko.punches.enableAll();\\n    ko.bindingHandlers.numericValue = {\\n        init: function(element, valueAccessor, allBindings, data, context) {\\n            var stringified = ko.observable(ko.unwrap(valueAccessor()));\\n            stringified.subscribe(function(value) {\\n                var val = parseFloat(value);\\n                if (!isNaN(val)) {\\n                    valueAccessor()(val);\\n                }\\n            });\\n            valueAccessor().subscribe(function(value) {\\n                var str = JSON.stringify(value);\\n                if ((str == \\\"0\\\") && ([\\\"-0\\\", \\\"-0.\\\"].indexOf(stringified()) >= 0))\\n                     return;\\n                 if ([\\\"null\\\", \\\"\\\"].indexOf(str) >= 0)\\n                     return;\\n                stringified(str);\\n            });\\n            ko.applyBindingsToNode(\\n                element,\\n                {\\n                    value: stringified,\\n                    valueUpdate: allBindings.get('valueUpdate'),\\n                },\\n                context,\\n            );\\n        }\\n    };\\n    var json_data = {\\\"loading\\\":WebIO.getval({\\\"name\\\":\\\"loading\\\",\\\"scope\\\":\\\"10117081034332158435\\\",\\\"id\\\":\\\"18234306212445934865\\\",\\\"type\\\":\\\"observable\\\"}),\\\"clicks\\\":WebIO.getval({\\\"name\\\":\\\"clicks\\\",\\\"scope\\\":\\\"10117081034332158435\\\",\\\"id\\\":\\\"18184822852142252901\\\",\\\"type\\\":\\\"observable\\\"})};\\n    var self = this;\\n    function AppViewModel() {\\n        for (var key in json_data) {\\n            var el = json_data[key];\\n            this[key] = Array.isArray(el) ? ko.observableArray(el) : ko.observable(el);\\n        }\\n        \\n        \\n        [this[\\\"loading\\\"].subscribe((function (val){!(this.valueFromJulia[\\\"loading\\\"]) ? (WebIO.setval({\\\"name\\\":\\\"loading\\\",\\\"scope\\\":\\\"10117081034332158435\\\",\\\"id\\\":\\\"18234306212445934865\\\",\\\"type\\\":\\\"observable\\\"},val)) : undefined; return this.valueFromJulia[\\\"loading\\\"]=false}),self),this[\\\"clicks\\\"].subscribe((function (val){!(this.valueFromJulia[\\\"clicks\\\"]) ? (WebIO.setval({\\\"name\\\":\\\"clicks\\\",\\\"scope\\\":\\\"10117081034332158435\\\",\\\"id\\\":\\\"18184822852142252901\\\",\\\"type\\\":\\\"observable\\\"},val)) : undefined; return this.valueFromJulia[\\\"clicks\\\"]=false}),self)]\\n        \\n    }\\n    self.model = new AppViewModel();\\n    self.valueFromJulia = {};\\n    for (var key in json_data) {\\n        self.valueFromJulia[key] = false;\\n    }\\n    ko.applyBindings(self.model, self.dom);\\n}\\n);\\n    (WebIO.importBlock({\\\"data\\\":[{\\\"name\\\":\\\"knockout\\\",\\\"type\\\":\\\"js\\\",\\\"url\\\":\\\"/assetserver/727383f2a47bd31570b7da84eee7b022dd6d7c78-knockout.js\\\"},{\\\"name\\\":\\\"knockout_punches\\\",\\\"type\\\":\\\"js\\\",\\\"url\\\":\\\"/assetserver/382b41b3b1bd9f26f75861d360bad7f8beea211f-knockout_punches.js\\\"}],\\\"type\\\":\\\"async_block\\\"})).then((imports) => handler.apply(this, imports));\\n}\\n\")])], Dict{Symbol, Any}(:className => \"field interact-widget\")), WebIO.Node{WebIO.DOM}(WebIO.DOM(:html, :div), Any[WebIO.Scope(WebIO.Node{WebIO.DOM}(WebIO.DOM(:html, :div), Any[], Dict{Symbol, Any}(:id => \"container\")), Dict{String, Tuple{Observables.AbstractObservable, Union{Nothing, Bool}}}(\"value\" => (Observable(\"\\\\;\\\\;\"), nothing)), Set{String}(), nothing, WebIO.Asset[WebIO.Asset(\"js\", nothing, \"/home/dushya/.julia/packages/InteractBase/LJXv3/src/../assets/katex.min.js\"), WebIO.Asset(\"css\", nothing, \"/home/dushya/.julia/packages/InteractBase/LJXv3/src/../assets/katex.min.css\")], Dict{Any, Any}(\"value\" => Any[WebIO.JSString(\"(function (txt){return this.k.render(txt,this.container)})\")]), WebIO.ConnectionPool(Channel{Any}(32), Set{WebIO.AbstractConnection}(), Base.GenericCondition{ReentrantLock}(Base.IntrusiveLinkedList{Task}(Task (runnable) @0x00007fe7cd8539e0, Task (runnable) @0x00007fe7cd8539e0), ReentrantLock(nothing, 0x00000000, 0x00, Base.GenericCondition{Base.Threads.SpinLock}(Base.IntrusiveLinkedList{Task}(nothing, nothing), Base.Threads.SpinLock(0)), (0, 0, 12)))), WebIO.JSString[WebIO.JSString(\"function () {\\n    var handler = ((function (k){this.k=k; this.container=this.dom.querySelector(\\\"#container\\\"); return k.render(\\\"\\\\\\\\;\\\\\\\\;\\\",this.container)}));\\n    (WebIO.importBlock({\\\"data\\\":[{\\\"name\\\":null,\\\"type\\\":\\\"js\\\",\\\"url\\\":\\\"/assetserver/dd22ed1bf1896c2748f3fe616ce0b838adc895c1-katex.min.js\\\"},{\\\"name\\\":null,\\\"type\\\":\\\"css\\\",\\\"url\\\":\\\"/assetserver/46517a424aa5e6cffc1360d7e0848b601c584ee3-katex.min.css\\\"}],\\\"type\\\":\\\"async_block\\\"})).then((imports) => handler.apply(this, imports));\\n}\\n\")])], Dict{Symbol, Any}(:className => \"interact-widget\")), WebIO.Node{WebIO.DOM}(WebIO.DOM(:html, :div), Any[WebIO.Scope(WebIO.Node{WebIO.DOM}(WebIO.DOM(:html, :button), Any[\"stop\"], Dict{Symbol, Any}(:attributes => Dict{Any, Any}(\"data-bind\" => \"click: function (){this.clicks(this.clicks()+1)}, css: {'is-loading' : loading}\"), :className => \"is-medium button is-primary\", :style => Dict{String, Any}())), Dict{String, Tuple{Observables.AbstractObservable, Union{Nothing, Bool}}}(\"loading\" => (Observable(false), nothing), \"clicks\" => (Observable(0), nothing)), Set{String}(), nothing, WebIO.Asset[WebIO.Asset(\"js\", \"knockout\", \"/home/dushya/.julia/packages/Knockout/HReiN/src/../assets/knockout.js\"), WebIO.Asset(\"js\", \"knockout_punches\", \"/home/dushya/.julia/packages/Knockout/HReiN/src/../assets/knockout_punches.js\"), WebIO.Asset(\"js\", nothing, \"/home/dushya/.julia/packages/InteractBase/LJXv3/src/../assets/all.js\"), WebIO.Asset(\"css\", nothing, \"/home/dushya/.julia/packages/InteractBase/LJXv3/src/../assets/style.css\"), WebIO.Asset(\"css\", nothing, \"/home/dushya/.julia/packages/Interact/PENUy/src/../assets/bulma_confined.min.css\")], Dict{Any, Any}(\"loading\" => Any[WebIO.JSString(\"(function (val){return (val!=this.model[\\\"loading\\\"]()) ? (this.valueFromJulia[\\\"loading\\\"]=true, this.model[\\\"loading\\\"](val)) : undefined})\")], \"clicks\" => Any[WebIO.JSString(\"(function (val){return (val!=this.model[\\\"clicks\\\"]()) ? (this.valueFromJulia[\\\"clicks\\\"]=true, this.model[\\\"clicks\\\"](val)) : undefined})\")]), WebIO.ConnectionPool(Channel{Any}(32), Set{WebIO.AbstractConnection}(), Base.GenericCondition{ReentrantLock}(Base.IntrusiveLinkedList{Task}(Task (runnable) @0x00007fe801c1c650, Task (runnable) @0x00007fe801c1c650), ReentrantLock(nothing, 0x00000000, 0x00, Base.GenericCondition{Base.Threads.SpinLock}(Base.IntrusiveLinkedList{Task}(nothing, nothing), Base.Threads.SpinLock(0)), (0, 0, 0)))), WebIO.JSString[WebIO.JSString(\"function () {\\n    var handler = (function (ko, koPunches) {\\n    ko.punches.enableAll();\\n    ko.bindingHandlers.numericValue = {\\n        init: function(element, valueAccessor, allBindings, data, context) {\\n            var stringified = ko.observable(ko.unwrap(valueAccessor()));\\n            stringified.subscribe(function(value) {\\n                var val = parseFloat(value);\\n                if (!isNaN(val)) {\\n                    valueAccessor()(val);\\n                }\\n            });\\n            valueAccessor().subscribe(function(value) {\\n                var str = JSON.stringify(value);\\n                if ((str == \\\"0\\\") && ([\\\"-0\\\", \\\"-0.\\\"].indexOf(stringified()) >= 0))\\n                     return;\\n                 if ([\\\"null\\\", \\\"\\\"].indexOf(str) >= 0)\\n                     return;\\n                stringified(str);\\n            });\\n            ko.applyBindingsToNode(\\n                element,\\n                {\\n                    value: stringified,\\n                    valueUpdate: allBindings.get('valueUpdate'),\\n                },\\n                context,\\n            );\\n        }\\n    };\\n    var json_data = {\\\"loading\\\":WebIO.getval({\\\"name\\\":\\\"loading\\\",\\\"scope\\\":\\\"17550553641824877801\\\",\\\"id\\\":\\\"4612025943813090814\\\",\\\"type\\\":\\\"observable\\\"}),\\\"clicks\\\":WebIO.getval({\\\"name\\\":\\\"clicks\\\",\\\"scope\\\":\\\"17550553641824877801\\\",\\\"id\\\":\\\"5925532524036126340\\\",\\\"type\\\":\\\"observable\\\"})};\\n    var self = this;\\n    function AppViewModel() {\\n        for (var key in json_data) {\\n            var el = json_data[key];\\n            this[key] = Array.isArray(el) ? ko.observableArray(el) : ko.observable(el);\\n        }\\n        \\n        \\n        [this[\\\"loading\\\"].subscribe((function (val){!(this.valueFromJulia[\\\"loading\\\"]) ? (WebIO.setval({\\\"name\\\":\\\"loading\\\",\\\"scope\\\":\\\"17550553641824877801\\\",\\\"id\\\":\\\"4612025943813090814\\\",\\\"type\\\":\\\"observable\\\"},val)) : undefined; return this.valueFromJulia[\\\"loading\\\"]=false}),self),this[\\\"clicks\\\"].subscribe((function (val){!(this.valueFromJulia[\\\"clicks\\\"]) ? (WebIO.setval({\\\"name\\\":\\\"clicks\\\",\\\"scope\\\":\\\"17550553641824877801\\\",\\\"id\\\":\\\"5925532524036126340\\\",\\\"type\\\":\\\"observable\\\"},val)) : undefined; return this.valueFromJulia[\\\"clicks\\\"]=false}),self)]\\n        \\n    }\\n    self.model = new AppViewModel();\\n    self.valueFromJulia = {};\\n    for (var key in json_data) {\\n        self.valueFromJulia[key] = false;\\n    }\\n    ko.applyBindings(self.model, self.dom);\\n}\\n);\\n    (WebIO.importBlock({\\\"data\\\":[{\\\"name\\\":\\\"knockout\\\",\\\"type\\\":\\\"js\\\",\\\"url\\\":\\\"/assetserver/727383f2a47bd31570b7da84eee7b022dd6d7c78-knockout.js\\\"},{\\\"name\\\":\\\"knockout_punches\\\",\\\"type\\\":\\\"js\\\",\\\"url\\\":\\\"/assetserver/382b41b3b1bd9f26f75861d360bad7f8beea211f-knockout_punches.js\\\"}],\\\"type\\\":\\\"async_block\\\"})).then((imports) => handler.apply(this, imports));\\n}\\n\")])], Dict{Symbol, Any}(:className => \"field interact-widget\")), WebIO.Node{WebIO.DOM}(WebIO.DOM(:html, :div), Any[WebIO.Scope(WebIO.Node{WebIO.DOM}(WebIO.DOM(:html, :div), Any[], Dict{Symbol, Any}(:id => \"container\")), Dict{String, Tuple{Observables.AbstractObservable, Union{Nothing, Bool}}}(\"value\" => (Observable(\"\\\\;\\\\;\"), nothing)), Set{String}(), nothing, WebIO.Asset[WebIO.Asset(\"js\", nothing, \"/home/dushya/.julia/packages/InteractBase/LJXv3/src/../assets/katex.min.js\"), WebIO.Asset(\"css\", nothing, \"/home/dushya/.julia/packages/InteractBase/LJXv3/src/../assets/katex.min.css\")], Dict{Any, Any}(\"value\" => Any[WebIO.JSString(\"(function (txt){return this.k.render(txt,this.container)})\")]), WebIO.ConnectionPool(Channel{Any}(32), Set{WebIO.AbstractConnection}(), Base.GenericCondition{ReentrantLock}(Base.IntrusiveLinkedList{Task}(Task (runnable) @0x00007fe7cd8539e0, Task (runnable) @0x00007fe7cd8539e0), ReentrantLock(nothing, 0x00000000, 0x00, Base.GenericCondition{Base.Threads.SpinLock}(Base.IntrusiveLinkedList{Task}(nothing, nothing), Base.Threads.SpinLock(0)), (0, 0, 12)))), WebIO.JSString[WebIO.JSString(\"function () {\\n    var handler = ((function (k){this.k=k; this.container=this.dom.querySelector(\\\"#container\\\"); return k.render(\\\"\\\\\\\\;\\\\\\\\;\\\",this.container)}));\\n    (WebIO.importBlock({\\\"data\\\":[{\\\"name\\\":null,\\\"type\\\":\\\"js\\\",\\\"url\\\":\\\"/assetserver/dd22ed1bf1896c2748f3fe616ce0b838adc895c1-katex.min.js\\\"},{\\\"name\\\":null,\\\"type\\\":\\\"css\\\",\\\"url\\\":\\\"/assetserver/46517a424aa5e6cffc1360d7e0848b601c584ee3-katex.min.css\\\"}],\\\"type\\\":\\\"async_block\\\"})).then((imports) => handler.apply(this, imports));\\n}\\n\")])], Dict{Symbol, Any}(:className => \"interact-widget\")), WebIO.Node{WebIO.DOM}(WebIO.DOM(:html, :div), Any[WebIO.Scope(WebIO.Node{WebIO.DOM}(WebIO.DOM(:html, :button), Any[\"save\"], Dict{Symbol, Any}(:attributes => Dict{Any, Any}(\"data-bind\" => \"click: function (){this.clicks(this.clicks()+1)}, css: {'is-loading' : loading}\"), :className => \"is-medium button is-primary\", :style => Dict{String, Any}())), Dict{String, Tuple{Observables.AbstractObservable, Union{Nothing, Bool}}}(\"loading\" => (Observable(false), nothing), \"clicks\" => (Observable(0), nothing)), Set{String}(), nothing, WebIO.Asset[WebIO.Asset(\"js\", \"knockout\", \"/home/dushya/.julia/packages/Knockout/HReiN/src/../assets/knockout.js\"), WebIO.Asset(\"js\", \"knockout_punches\", \"/home/dushya/.julia/packages/Knockout/HReiN/src/../assets/knockout_punches.js\"), WebIO.Asset(\"js\", nothing, \"/home/dushya/.julia/packages/InteractBase/LJXv3/src/../assets/all.js\"), WebIO.Asset(\"css\", nothing, \"/home/dushya/.julia/packages/InteractBase/LJXv3/src/../assets/style.css\"), WebIO.Asset(\"css\", nothing, \"/home/dushya/.julia/packages/Interact/PENUy/src/../assets/bulma_confined.min.css\")], Dict{Any, Any}(\"loading\" => Any[WebIO.JSString(\"(function (val){return (val!=this.model[\\\"loading\\\"]()) ? (this.valueFromJulia[\\\"loading\\\"]=true, this.model[\\\"loading\\\"](val)) : undefined})\")], \"clicks\" => Any[WebIO.JSString(\"(function (val){return (val!=this.model[\\\"clicks\\\"]()) ? (this.valueFromJulia[\\\"clicks\\\"]=true, this.model[\\\"clicks\\\"](val)) : undefined})\")]), WebIO.ConnectionPool(Channel{Any}(32), Set{WebIO.AbstractConnection}(), Base.GenericCondition{ReentrantLock}(Base.IntrusiveLinkedList{Task}(Task (runnable) @0x00007fe801c1eef0, Task (runnable) @0x00007fe801c1eef0), ReentrantLock(nothing, 0x00000000, 0x00, Base.GenericCondition{Base.Threads.SpinLock}(Base.IntrusiveLinkedList{Task}(nothing, nothing), Base.Threads.SpinLock(0)), (8, 0, 0)))), WebIO.JSString[WebIO.JSString(\"function () {\\n    var handler = (function (ko, koPunches) {\\n    ko.punches.enableAll();\\n    ko.bindingHandlers.numericValue = {\\n        init: function(element, valueAccessor, allBindings, data, context) {\\n            var stringified = ko.observable(ko.unwrap(valueAccessor()));\\n            stringified.subscribe(function(value) {\\n                var val = parseFloat(value);\\n                if (!isNaN(val)) {\\n                    valueAccessor()(val);\\n                }\\n            });\\n            valueAccessor().subscribe(function(value) {\\n                var str = JSON.stringify(value);\\n                if ((str == \\\"0\\\") && ([\\\"-0\\\", \\\"-0.\\\"].indexOf(stringified()) >= 0))\\n                     return;\\n                 if ([\\\"null\\\", \\\"\\\"].indexOf(str) >= 0)\\n                     return;\\n                stringified(str);\\n            });\\n            ko.applyBindingsToNode(\\n                element,\\n                {\\n                    value: stringified,\\n                    valueUpdate: allBindings.get('valueUpdate'),\\n                },\\n                context,\\n            );\\n        }\\n    };\\n    var json_data = {\\\"loading\\\":WebIO.getval({\\\"name\\\":\\\"loading\\\",\\\"scope\\\":\\\"292415132597134478\\\",\\\"id\\\":\\\"961006674804879762\\\",\\\"type\\\":\\\"observable\\\"}),\\\"clicks\\\":WebIO.getval({\\\"name\\\":\\\"clicks\\\",\\\"scope\\\":\\\"292415132597134478\\\",\\\"id\\\":\\\"8946329749394254492\\\",\\\"type\\\":\\\"observable\\\"})};\\n    var self = this;\\n    function AppViewModel() {\\n        for (var key in json_data) {\\n            var el = json_data[key];\\n            this[key] = Array.isArray(el) ? ko.observableArray(el) : ko.observable(el);\\n        }\\n        \\n        \\n        [this[\\\"loading\\\"].subscribe((function (val){!(this.valueFromJulia[\\\"loading\\\"]) ? (WebIO.setval({\\\"name\\\":\\\"loading\\\",\\\"scope\\\":\\\"292415132597134478\\\",\\\"id\\\":\\\"961006674804879762\\\",\\\"type\\\":\\\"observable\\\"},val)) : undefined; return this.valueFromJulia[\\\"loading\\\"]=false}),self),this[\\\"clicks\\\"].subscribe((function (val){!(this.valueFromJulia[\\\"clicks\\\"]) ? (WebIO.setval({\\\"name\\\":\\\"clicks\\\",\\\"scope\\\":\\\"292415132597134478\\\",\\\"id\\\":\\\"8946329749394254492\\\",\\\"type\\\":\\\"observable\\\"},val)) : undefined; return this.valueFromJulia[\\\"clicks\\\"]=false}),self)]\\n        \\n    }\\n    self.model = new AppViewModel();\\n    self.valueFromJulia = {};\\n    for (var key in json_data) {\\n        self.valueFromJulia[key] = false;\\n    }\\n    ko.applyBindings(self.model, self.dom);\\n}\\n);\\n    (WebIO.importBlock({\\\"data\\\":[{\\\"name\\\":\\\"knockout\\\",\\\"type\\\":\\\"js\\\",\\\"url\\\":\\\"/assetserver/727383f2a47bd31570b7da84eee7b022dd6d7c78-knockout.js\\\"},{\\\"name\\\":\\\"knockout_punches\\\",\\\"type\\\":\\\"js\\\",\\\"url\\\":\\\"/assetserver/382b41b3b1bd9f26f75861d360bad7f8beea211f-knockout_punches.js\\\"}],\\\"type\\\":\\\"async_block\\\"})).then((imports) => handler.apply(this, imports));\\n}\\n\")])], Dict{Symbol, Any}(:className => \"field interact-widget\"))], Dict{Symbol, Any}(:style => Dict(\"display\" => \"flex\", \"flex-direction\" => \"row\")))], Dict{Symbol, Any}(:style => Dict(\"display\" => \"flex\", \"flex-direction\" => \"column\"))), WebIO.Node{WebIO.DOM}(WebIO.DOM(:html, :div), Any[WebIO.Scope(WebIO.Node{WebIO.DOM}(WebIO.DOM(:html, :div), Any[], Dict{Symbol, Any}(:id => \"container\")), Dict{String, Tuple{Observables.AbstractObservable, Union{Nothing, Bool}}}(\"value\" => (Observable(\"\\\\;\\\\;\"), nothing)), Set{String}(), nothing, WebIO.Asset[WebIO.Asset(\"js\", nothing, \"/home/dushya/.julia/packages/InteractBase/LJXv3/src/../assets/katex.min.js\"), WebIO.Asset(\"css\", nothing, \"/home/dushya/.julia/packages/InteractBase/LJXv3/src/../assets/katex.min.css\")], Dict{Any, Any}(\"value\" => Any[WebIO.JSString(\"(function (txt){return this.k.render(txt,this.container)})\")]), WebIO.ConnectionPool(Channel{Any}(32), Set{WebIO.AbstractConnection}(), Base.GenericCondition{ReentrantLock}(Base.IntrusiveLinkedList{Task}(Task (runnable) @0x00007fe7cd8539e0, Task (runnable) @0x00007fe7cd8539e0), ReentrantLock(nothing, 0x00000000, 0x00, Base.GenericCondition{Base.Threads.SpinLock}(Base.IntrusiveLinkedList{Task}(nothing, nothing), Base.Threads.SpinLock(0)), (0, 0, 12)))), WebIO.JSString[WebIO.JSString(\"function () {\\n    var handler = ((function (k){this.k=k; this.container=this.dom.querySelector(\\\"#container\\\"); return k.render(\\\"\\\\\\\\;\\\\\\\\;\\\",this.container)}));\\n    (WebIO.importBlock({\\\"data\\\":[{\\\"name\\\":null,\\\"type\\\":\\\"js\\\",\\\"url\\\":\\\"/assetserver/dd22ed1bf1896c2748f3fe616ce0b838adc895c1-katex.min.js\\\"},{\\\"name\\\":null,\\\"type\\\":\\\"css\\\",\\\"url\\\":\\\"/assetserver/46517a424aa5e6cffc1360d7e0848b601c584ee3-katex.min.css\\\"}],\\\"type\\\":\\\"async_block\\\"})).then((imports) => handler.apply(this, imports));\\n}\\n\")])], Dict{Symbol, Any}(:className => \"interact-widget\")), Observable(Luxor.Drawing(430.0, 430.0, \"\", Cairo.CairoSurfaceBase{UInt32}(Ptr{Nothing} @0x0000000000000000, 430.0, 430.0), Cairo.CairoContext(Ptr{Nothing} @0x00000000045a63c0, Cairo.CairoSurfaceBase{UInt32}(Ptr{Nothing} @0x0000000000000000, 430.0, 430.0), Ptr{Nothing} @0x0000000002dc20d0), :png, 0.5, 0.5, 0.5, 0.5, IOBuffer(data=UInt8[...], readable=true, writable=true, seekable=true, append=false, size=5132, maxsize=Inf, ptr=5133, mark=-1), UInt8[0x89, 0x50, 0x4e, 0x47, 0x0d, 0x0a, 0x1a, 0x0a, 0x00, 0x00  …  0x00, 0x00, 0x49, 0x45, 0x4e, 0x44, 0xae, 0x42, 0x60, 0x82], false)), WebIO.Node{WebIO.DOM}(WebIO.DOM(:html, :div), Any[WebIO.Scope(WebIO.Node{WebIO.DOM}(WebIO.DOM(:html, :div), Any[], Dict{Symbol, Any}(:id => \"container\")), Dict{String, Tuple{Observables.AbstractObservable, Union{Nothing, Bool}}}(\"value\" => (Observable(\"\\\\;\\\\;\"), nothing)), Set{String}(), nothing, WebIO.Asset[WebIO.Asset(\"js\", nothing, \"/home/dushya/.julia/packages/InteractBase/LJXv3/src/../assets/katex.min.js\"), WebIO.Asset(\"css\", nothing, \"/home/dushya/.julia/packages/InteractBase/LJXv3/src/../assets/katex.min.css\")], Dict{Any, Any}(\"value\" => Any[WebIO.JSString(\"(function (txt){return this.k.render(txt,this.container)})\")]), WebIO.ConnectionPool(Channel{Any}(32), Set{WebIO.AbstractConnection}(), Base.GenericCondition{ReentrantLock}(Base.IntrusiveLinkedList{Task}(Task (runnable) @0x00007fe7cd8539e0, Task (runnable) @0x00007fe7cd8539e0), ReentrantLock(nothing, 0x00000000, 0x00, Base.GenericCondition{Base.Threads.SpinLock}(Base.IntrusiveLinkedList{Task}(nothing, nothing), Base.Threads.SpinLock(0)), (0, 0, 12)))), WebIO.JSString[WebIO.JSString(\"function () {\\n    var handler = ((function (k){this.k=k; this.container=this.dom.querySelector(\\\"#container\\\"); return k.render(\\\"\\\\\\\\;\\\\\\\\;\\\",this.container)}));\\n    (WebIO.importBlock({\\\"data\\\":[{\\\"name\\\":null,\\\"type\\\":\\\"js\\\",\\\"url\\\":\\\"/assetserver/dd22ed1bf1896c2748f3fe616ce0b838adc895c1-katex.min.js\\\"},{\\\"name\\\":null,\\\"type\\\":\\\"css\\\",\\\"url\\\":\\\"/assetserver/46517a424aa5e6cffc1360d7e0848b601c584ee3-katex.min.css\\\"}],\\\"type\\\":\\\"async_block\\\"})).then((imports) => handler.apply(this, imports));\\n}\\n\")])], Dict{Symbol, Any}(:className => \"interact-widget\")), WebIO.Node{WebIO.DOM}(WebIO.DOM(:html, :div), Any[], Dict{Symbol, Any}(:style => Dict(\"display\" => \"flex\", \"flex-direction\" => \"column\")))], Dict{Symbol, Any}(:style => Dict(\"display\" => \"flex\", \"flex-direction\" => \"row\")))], Dict{Symbol, Any}(:style => Dict(\"display\" => \"flex\", \"flex-direction\" => \"column\")))"
      ]
     },
     "execution_count": 8,
     "metadata": {
      "application/vnd.webio.node+json": {
       "kernelId": "61314e4e-c228-45f8-a896-b92403759935"
      }
     },
     "output_type": "execute_result"
    }
   ],
   "source": [
    "animate_sim(model, show_patches=true) #since there are only patches and no agents, show_patches must be true for the animation"
   ]
  },
  {
   "cell_type": "markdown",
   "metadata": {},
   "source": [
    "After defining the `step_rule!` function we can also choose to create an interactive application (which currently works in Jupyter with WebIO installation) as "
   ]
  },
  {
   "cell_type": "code",
   "execution_count": 9,
   "metadata": {},
   "outputs": [
    {
     "data": {
      "application/vnd.webio.node+json": {
       "children": [
        {
         "children": [
          {
           "children": [
            {
             "children": [
              {
               "children": [
                {
                 "children": [
                  {
                   "children": [
                    {
                     "children": [
                      "time"
                     ],
                     "instanceArgs": {
                      "namespace": "html",
                      "tag": "label"
                     },
                     "nodeType": "DOM",
                     "props": {
                      "className": "interact ",
                      "style": {
                       "padding": "5px 10px 0px 10px"
                      }
                     },
                     "type": "node"
                    }
                   ],
                   "instanceArgs": {
                    "namespace": "html",
                    "tag": "div"
                   },
                   "nodeType": "DOM",
                   "props": {
                    "className": "interact-flex-row-left"
                   },
                   "type": "node"
                  },
                  {
                   "children": [
                    {
                     "children": [],
                     "instanceArgs": {
                      "namespace": "html",
                      "tag": "input"
                     },
                     "nodeType": "DOM",
                     "props": {
                      "attributes": {
                       "data-bind": "numericValue: index, valueUpdate: 'input', event: {change: function (){this.changes(this.changes()+1)}}",
                       "orient": "horizontal",
                       "type": "range"
                      },
                      "className": "slider slider is-fullwidth",
                      "max": 400,
                      "min": 1,
                      "step": 1,
                      "style": {}
                     },
                     "type": "node"
                    }
                   ],
                   "instanceArgs": {
                    "namespace": "html",
                    "tag": "div"
                   },
                   "nodeType": "DOM",
                   "props": {
                    "className": "interact-flex-row-center"
                   },
                   "type": "node"
                  },
                  {
                   "children": [
                    {
                     "children": [],
                     "instanceArgs": {
                      "namespace": "html",
                      "tag": "p"
                     },
                     "nodeType": "DOM",
                     "props": {
                      "attributes": {
                       "data-bind": "text: formatted_val"
                      }
                     },
                     "type": "node"
                    }
                   ],
                   "instanceArgs": {
                    "namespace": "html",
                    "tag": "div"
                   },
                   "nodeType": "DOM",
                   "props": {
                    "className": "interact-flex-row-right"
                   },
                   "type": "node"
                  }
                 ],
                 "instanceArgs": {
                  "namespace": "html",
                  "tag": "div"
                 },
                 "nodeType": "DOM",
                 "props": {
                  "className": "interact-flex-row interact-widget"
                 },
                 "type": "node"
                }
               ],
               "instanceArgs": {
                "handlers": {
                 "changes": [
                  "(function (val){return (val!=this.model[\"changes\"]()) ? (this.valueFromJulia[\"changes\"]=true, this.model[\"changes\"](val)) : undefined})"
                 ],
                 "index": [
                  "(function (val){return (val!=this.model[\"index\"]()) ? (this.valueFromJulia[\"index\"]=true, this.model[\"index\"](val)) : undefined})"
                 ]
                },
                "id": "17170095008382512464",
                "imports": {
                 "data": [
                  {
                   "name": "knockout",
                   "type": "js",
                   "url": "/assetserver/727383f2a47bd31570b7da84eee7b022dd6d7c78-knockout.js"
                  },
                  {
                   "name": "knockout_punches",
                   "type": "js",
                   "url": "/assetserver/382b41b3b1bd9f26f75861d360bad7f8beea211f-knockout_punches.js"
                  },
                  {
                   "name": null,
                   "type": "js",
                   "url": "/assetserver/5ab20f1060420992a9b82a65b735dee4d81ef413-all.js"
                  },
                  {
                   "name": null,
                   "type": "css",
                   "url": "/assetserver/1cc0ed62837210b80a182cc3676512f895dab686-style.css"
                  },
                  {
                   "name": null,
                   "type": "css",
                   "url": "/assetserver/2eee816f616df3549d7044d45e744fbf8d42bfa1-bulma_confined.min.css"
                  }
                 ],
                 "type": "async_block"
                },
                "mount_callbacks": [
                 "function () {\n    var handler = (function (ko, koPunches) {\n    ko.punches.enableAll();\n    ko.bindingHandlers.numericValue = {\n        init: function(element, valueAccessor, allBindings, data, context) {\n            var stringified = ko.observable(ko.unwrap(valueAccessor()));\n            stringified.subscribe(function(value) {\n                var val = parseFloat(value);\n                if (!isNaN(val)) {\n                    valueAccessor()(val);\n                }\n            });\n            valueAccessor().subscribe(function(value) {\n                var str = JSON.stringify(value);\n                if ((str == \"0\") && ([\"-0\", \"-0.\"].indexOf(stringified()) >= 0))\n                     return;\n                 if ([\"null\", \"\"].indexOf(str) >= 0)\n                     return;\n                stringified(str);\n            });\n            ko.applyBindingsToNode(\n                element,\n                {\n                    value: stringified,\n                    valueUpdate: allBindings.get('valueUpdate'),\n                },\n                context,\n            );\n        }\n    };\n    var json_data = {\"formatted_vals\":[\"1\",\"2\",\"3\",\"4\",\"5\",\"6\",\"7\",\"8\",\"9\",\"10\",\"11\",\"12\",\"13\",\"14\",\"15\",\"16\",\"17\",\"18\",\"19\",\"20\",\"21\",\"22\",\"23\",\"24\",\"25\",\"26\",\"27\",\"28\",\"29\",\"30\",\"31\",\"32\",\"33\",\"34\",\"35\",\"36\",\"37\",\"38\",\"39\",\"40\",\"41\",\"42\",\"43\",\"44\",\"45\",\"46\",\"47\",\"48\",\"49\",\"50\",\"51\",\"52\",\"53\",\"54\",\"55\",\"56\",\"57\",\"58\",\"59\",\"60\",\"61\",\"62\",\"63\",\"64\",\"65\",\"66\",\"67\",\"68\",\"69\",\"70\",\"71\",\"72\",\"73\",\"74\",\"75\",\"76\",\"77\",\"78\",\"79\",\"80\",\"81\",\"82\",\"83\",\"84\",\"85\",\"86\",\"87\",\"88\",\"89\",\"90\",\"91\",\"92\",\"93\",\"94\",\"95\",\"96\",\"97\",\"98\",\"99\",\"100\",\"101\",\"102\",\"103\",\"104\",\"105\",\"106\",\"107\",\"108\",\"109\",\"110\",\"111\",\"112\",\"113\",\"114\",\"115\",\"116\",\"117\",\"118\",\"119\",\"120\",\"121\",\"122\",\"123\",\"124\",\"125\",\"126\",\"127\",\"128\",\"129\",\"130\",\"131\",\"132\",\"133\",\"134\",\"135\",\"136\",\"137\",\"138\",\"139\",\"140\",\"141\",\"142\",\"143\",\"144\",\"145\",\"146\",\"147\",\"148\",\"149\",\"150\",\"151\",\"152\",\"153\",\"154\",\"155\",\"156\",\"157\",\"158\",\"159\",\"160\",\"161\",\"162\",\"163\",\"164\",\"165\",\"166\",\"167\",\"168\",\"169\",\"170\",\"171\",\"172\",\"173\",\"174\",\"175\",\"176\",\"177\",\"178\",\"179\",\"180\",\"181\",\"182\",\"183\",\"184\",\"185\",\"186\",\"187\",\"188\",\"189\",\"190\",\"191\",\"192\",\"193\",\"194\",\"195\",\"196\",\"197\",\"198\",\"199\",\"200\",\"201\",\"202\",\"203\",\"204\",\"205\",\"206\",\"207\",\"208\",\"209\",\"210\",\"211\",\"212\",\"213\",\"214\",\"215\",\"216\",\"217\",\"218\",\"219\",\"220\",\"221\",\"222\",\"223\",\"224\",\"225\",\"226\",\"227\",\"228\",\"229\",\"230\",\"231\",\"232\",\"233\",\"234\",\"235\",\"236\",\"237\",\"238\",\"239\",\"240\",\"241\",\"242\",\"243\",\"244\",\"245\",\"246\",\"247\",\"248\",\"249\",\"250\",\"251\",\"252\",\"253\",\"254\",\"255\",\"256\",\"257\",\"258\",\"259\",\"260\",\"261\",\"262\",\"263\",\"264\",\"265\",\"266\",\"267\",\"268\",\"269\",\"270\",\"271\",\"272\",\"273\",\"274\",\"275\",\"276\",\"277\",\"278\",\"279\",\"280\",\"281\",\"282\",\"283\",\"284\",\"285\",\"286\",\"287\",\"288\",\"289\",\"290\",\"291\",\"292\",\"293\",\"294\",\"295\",\"296\",\"297\",\"298\",\"299\",\"300\",\"301\",\"302\",\"303\",\"304\",\"305\",\"306\",\"307\",\"308\",\"309\",\"310\",\"311\",\"312\",\"313\",\"314\",\"315\",\"316\",\"317\",\"318\",\"319\",\"320\",\"321\",\"322\",\"323\",\"324\",\"325\",\"326\",\"327\",\"328\",\"329\",\"330\",\"331\",\"332\",\"333\",\"334\",\"335\",\"336\",\"337\",\"338\",\"339\",\"340\",\"341\",\"342\",\"343\",\"344\",\"345\",\"346\",\"347\",\"348\",\"349\",\"350\",\"351\",\"352\",\"353\",\"354\",\"355\",\"356\",\"357\",\"358\",\"359\",\"360\",\"361\",\"362\",\"363\",\"364\",\"365\",\"366\",\"367\",\"368\",\"369\",\"370\",\"371\",\"372\",\"373\",\"374\",\"375\",\"376\",\"377\",\"378\",\"379\",\"380\",\"381\",\"382\",\"383\",\"384\",\"385\",\"386\",\"387\",\"388\",\"389\",\"390\",\"391\",\"392\",\"393\",\"394\",\"395\",\"396\",\"397\",\"398\",\"399\",\"400\"],\"changes\":WebIO.getval({\"name\":\"changes\",\"scope\":\"17170095008382512464\",\"id\":\"10355026221025197629\",\"type\":\"observable\"}),\"index\":WebIO.getval({\"name\":\"index\",\"scope\":\"17170095008382512464\",\"id\":\"2098938840393250001\",\"type\":\"observable\"})};\n    var self = this;\n    function AppViewModel() {\n        for (var key in json_data) {\n            var el = json_data[key];\n            this[key] = Array.isArray(el) ? ko.observableArray(el) : ko.observable(el);\n        }\n        \n        [this[\"formatted_val\"]=ko.computed(    function(){\n        return this.formatted_vals()[parseInt(this.index())-(1)];\n    }\n,this)]\n        [this[\"changes\"].subscribe((function (val){!(this.valueFromJulia[\"changes\"]) ? (WebIO.setval({\"name\":\"changes\",\"scope\":\"17170095008382512464\",\"id\":\"10355026221025197629\",\"type\":\"observable\"},val)) : undefined; return this.valueFromJulia[\"changes\"]=false}),self),this[\"index\"].subscribe((function (val){!(this.valueFromJulia[\"index\"]) ? (WebIO.setval({\"name\":\"index\",\"scope\":\"17170095008382512464\",\"id\":\"2098938840393250001\",\"type\":\"observable\"},val)) : undefined; return this.valueFromJulia[\"index\"]=false}),self)]\n        \n    }\n    self.model = new AppViewModel();\n    self.valueFromJulia = {};\n    for (var key in json_data) {\n        self.valueFromJulia[key] = false;\n    }\n    ko.applyBindings(self.model, self.dom);\n}\n);\n    (WebIO.importBlock({\"data\":[{\"name\":\"knockout\",\"type\":\"js\",\"url\":\"/assetserver/727383f2a47bd31570b7da84eee7b022dd6d7c78-knockout.js\"},{\"name\":\"knockout_punches\",\"type\":\"js\",\"url\":\"/assetserver/382b41b3b1bd9f26f75861d360bad7f8beea211f-knockout_punches.js\"}],\"type\":\"async_block\"})).then((imports) => handler.apply(this, imports));\n}\n"
                ],
                "observables": {
                 "changes": {
                  "id": "10355026221025197629",
                  "sync": false,
                  "value": 0
                 },
                 "index": {
                  "id": "2098938840393250001",
                  "sync": true,
                  "value": 1
                 }
                },
                "systemjs_options": null
               },
               "nodeType": "Scope",
               "props": {},
               "type": "node"
              }
             ],
             "instanceArgs": {
              "namespace": "html",
              "tag": "div"
             },
             "nodeType": "DOM",
             "props": {
              "className": "field interact-widget"
             },
             "type": "node"
            },
            {
             "children": [
              {
               "children": [
                {
                 "children": [
                  {
                   "children": [
                    {
                     "children": [
                      "scale"
                     ],
                     "instanceArgs": {
                      "namespace": "html",
                      "tag": "label"
                     },
                     "nodeType": "DOM",
                     "props": {
                      "className": "interact ",
                      "style": {
                       "padding": "5px 10px 0px 10px"
                      }
                     },
                     "type": "node"
                    }
                   ],
                   "instanceArgs": {
                    "namespace": "html",
                    "tag": "div"
                   },
                   "nodeType": "DOM",
                   "props": {
                    "className": "interact-flex-row-left"
                   },
                   "type": "node"
                  },
                  {
                   "children": [
                    {
                     "children": [],
                     "instanceArgs": {
                      "namespace": "html",
                      "tag": "input"
                     },
                     "nodeType": "DOM",
                     "props": {
                      "attributes": {
                       "data-bind": "numericValue: index, valueUpdate: 'input', event: {change: function (){this.changes(this.changes()+1)}}",
                       "orient": "horizontal",
                       "type": "range"
                      },
                      "className": "slider slider is-fullwidth",
                      "max": 20,
                      "min": 1,
                      "step": 1,
                      "style": {}
                     },
                     "type": "node"
                    }
                   ],
                   "instanceArgs": {
                    "namespace": "html",
                    "tag": "div"
                   },
                   "nodeType": "DOM",
                   "props": {
                    "className": "interact-flex-row-center"
                   },
                   "type": "node"
                  },
                  {
                   "children": [
                    {
                     "children": [],
                     "instanceArgs": {
                      "namespace": "html",
                      "tag": "p"
                     },
                     "nodeType": "DOM",
                     "props": {
                      "attributes": {
                       "data-bind": "text: formatted_val"
                      }
                     },
                     "type": "node"
                    }
                   ],
                   "instanceArgs": {
                    "namespace": "html",
                    "tag": "div"
                   },
                   "nodeType": "DOM",
                   "props": {
                    "className": "interact-flex-row-right"
                   },
                   "type": "node"
                  }
                 ],
                 "instanceArgs": {
                  "namespace": "html",
                  "tag": "div"
                 },
                 "nodeType": "DOM",
                 "props": {
                  "className": "interact-flex-row interact-widget"
                 },
                 "type": "node"
                }
               ],
               "instanceArgs": {
                "handlers": {
                 "changes": [
                  "(function (val){return (val!=this.model[\"changes\"]()) ? (this.valueFromJulia[\"changes\"]=true, this.model[\"changes\"](val)) : undefined})"
                 ],
                 "index": [
                  "(function (val){return (val!=this.model[\"index\"]()) ? (this.valueFromJulia[\"index\"]=true, this.model[\"index\"](val)) : undefined})"
                 ]
                },
                "id": "10265148893821113329",
                "imports": {
                 "data": [
                  {
                   "name": "knockout",
                   "type": "js",
                   "url": "/assetserver/727383f2a47bd31570b7da84eee7b022dd6d7c78-knockout.js"
                  },
                  {
                   "name": "knockout_punches",
                   "type": "js",
                   "url": "/assetserver/382b41b3b1bd9f26f75861d360bad7f8beea211f-knockout_punches.js"
                  },
                  {
                   "name": null,
                   "type": "js",
                   "url": "/assetserver/5ab20f1060420992a9b82a65b735dee4d81ef413-all.js"
                  },
                  {
                   "name": null,
                   "type": "css",
                   "url": "/assetserver/1cc0ed62837210b80a182cc3676512f895dab686-style.css"
                  },
                  {
                   "name": null,
                   "type": "css",
                   "url": "/assetserver/2eee816f616df3549d7044d45e744fbf8d42bfa1-bulma_confined.min.css"
                  }
                 ],
                 "type": "async_block"
                },
                "mount_callbacks": [
                 "function () {\n    var handler = (function (ko, koPunches) {\n    ko.punches.enableAll();\n    ko.bindingHandlers.numericValue = {\n        init: function(element, valueAccessor, allBindings, data, context) {\n            var stringified = ko.observable(ko.unwrap(valueAccessor()));\n            stringified.subscribe(function(value) {\n                var val = parseFloat(value);\n                if (!isNaN(val)) {\n                    valueAccessor()(val);\n                }\n            });\n            valueAccessor().subscribe(function(value) {\n                var str = JSON.stringify(value);\n                if ((str == \"0\") && ([\"-0\", \"-0.\"].indexOf(stringified()) >= 0))\n                     return;\n                 if ([\"null\", \"\"].indexOf(str) >= 0)\n                     return;\n                stringified(str);\n            });\n            ko.applyBindingsToNode(\n                element,\n                {\n                    value: stringified,\n                    valueUpdate: allBindings.get('valueUpdate'),\n                },\n                context,\n            );\n        }\n    };\n    var json_data = {\"formatted_vals\":[\"0.1\",\"0.2\",\"0.3\",\"0.4\",\"0.5\",\"0.6\",\"0.7\",\"0.8\",\"0.9\",\"1.0\",\"1.1\",\"1.2\",\"1.3\",\"1.4\",\"1.5\",\"1.6\",\"1.7\",\"1.8\",\"1.9\",\"2.0\"],\"changes\":WebIO.getval({\"name\":\"changes\",\"scope\":\"10265148893821113329\",\"id\":\"8212634129073952642\",\"type\":\"observable\"}),\"index\":WebIO.getval({\"name\":\"index\",\"scope\":\"10265148893821113329\",\"id\":\"10965154374008550338\",\"type\":\"observable\"})};\n    var self = this;\n    function AppViewModel() {\n        for (var key in json_data) {\n            var el = json_data[key];\n            this[key] = Array.isArray(el) ? ko.observableArray(el) : ko.observable(el);\n        }\n        \n        [this[\"formatted_val\"]=ko.computed(    function(){\n        return this.formatted_vals()[parseInt(this.index())-(1)];\n    }\n,this)]\n        [this[\"changes\"].subscribe((function (val){!(this.valueFromJulia[\"changes\"]) ? (WebIO.setval({\"name\":\"changes\",\"scope\":\"10265148893821113329\",\"id\":\"8212634129073952642\",\"type\":\"observable\"},val)) : undefined; return this.valueFromJulia[\"changes\"]=false}),self),this[\"index\"].subscribe((function (val){!(this.valueFromJulia[\"index\"]) ? (WebIO.setval({\"name\":\"index\",\"scope\":\"10265148893821113329\",\"id\":\"10965154374008550338\",\"type\":\"observable\"},val)) : undefined; return this.valueFromJulia[\"index\"]=false}),self)]\n        \n    }\n    self.model = new AppViewModel();\n    self.valueFromJulia = {};\n    for (var key in json_data) {\n        self.valueFromJulia[key] = false;\n    }\n    ko.applyBindings(self.model, self.dom);\n}\n);\n    (WebIO.importBlock({\"data\":[{\"name\":\"knockout\",\"type\":\"js\",\"url\":\"/assetserver/727383f2a47bd31570b7da84eee7b022dd6d7c78-knockout.js\"},{\"name\":\"knockout_punches\",\"type\":\"js\",\"url\":\"/assetserver/382b41b3b1bd9f26f75861d360bad7f8beea211f-knockout_punches.js\"}],\"type\":\"async_block\"})).then((imports) => handler.apply(this, imports));\n}\n"
                ],
                "observables": {
                 "changes": {
                  "id": "8212634129073952642",
                  "sync": false,
                  "value": 0
                 },
                 "index": {
                  "id": "10965154374008550338",
                  "sync": true,
                  "value": 10
                 }
                },
                "systemjs_options": null
               },
               "nodeType": "Scope",
               "props": {},
               "type": "node"
              }
             ],
             "instanceArgs": {
              "namespace": "html",
              "tag": "div"
             },
             "nodeType": "DOM",
             "props": {
              "className": "field interact-widget"
             },
             "type": "node"
            },
            {
             "children": [],
             "instanceArgs": {
              "namespace": "html",
              "tag": "div"
             },
             "nodeType": "DOM",
             "props": {
              "style": {
               "display": "flex",
               "flex-direction": "column"
              }
             },
             "type": "node"
            },
            {
             "children": [
              {
               "children": [
                {
                 "children": [
                  {
                   "children": [
                    {
                     "children": [
                      {
                       "children": [
                        "threshold"
                       ],
                       "instanceArgs": {
                        "namespace": "html",
                        "tag": "label"
                       },
                       "nodeType": "DOM",
                       "props": {
                        "className": "interact ",
                        "style": {
                         "padding": "5px 10px 0px 10px"
                        }
                       },
                       "type": "node"
                      }
                     ],
                     "instanceArgs": {
                      "namespace": "html",
                      "tag": "div"
                     },
                     "nodeType": "DOM",
                     "props": {
                      "className": "interact-flex-row-left"
                     },
                     "type": "node"
                    },
                    {
                     "children": [
                      {
                       "children": [],
                       "instanceArgs": {
                        "namespace": "html",
                        "tag": "input"
                       },
                       "nodeType": "DOM",
                       "props": {
                        "attributes": {
                         "data-bind": "numericValue: index, valueUpdate: 'input', event: {change: function (){this.changes(this.changes()+1)}}",
                         "orient": "horizontal",
                         "type": "range"
                        },
                        "className": "slider slider is-fullwidth",
                        "max": 8,
                        "min": 1,
                        "step": 1,
                        "style": {}
                       },
                       "type": "node"
                      }
                     ],
                     "instanceArgs": {
                      "namespace": "html",
                      "tag": "div"
                     },
                     "nodeType": "DOM",
                     "props": {
                      "className": "interact-flex-row-center"
                     },
                     "type": "node"
                    },
                    {
                     "children": [
                      {
                       "children": [],
                       "instanceArgs": {
                        "namespace": "html",
                        "tag": "p"
                       },
                       "nodeType": "DOM",
                       "props": {
                        "attributes": {
                         "data-bind": "text: formatted_val"
                        }
                       },
                       "type": "node"
                      }
                     ],
                     "instanceArgs": {
                      "namespace": "html",
                      "tag": "div"
                     },
                     "nodeType": "DOM",
                     "props": {
                      "className": "interact-flex-row-right"
                     },
                     "type": "node"
                    }
                   ],
                   "instanceArgs": {
                    "namespace": "html",
                    "tag": "div"
                   },
                   "nodeType": "DOM",
                   "props": {
                    "className": "interact-flex-row interact-widget"
                   },
                   "type": "node"
                  }
                 ],
                 "instanceArgs": {
                  "handlers": {
                   "changes": [
                    "(function (val){return (val!=this.model[\"changes\"]()) ? (this.valueFromJulia[\"changes\"]=true, this.model[\"changes\"](val)) : undefined})"
                   ],
                   "index": [
                    "(function (val){return (val!=this.model[\"index\"]()) ? (this.valueFromJulia[\"index\"]=true, this.model[\"index\"](val)) : undefined})"
                   ]
                  },
                  "id": "17801148828286304714",
                  "imports": {
                   "data": [
                    {
                     "name": "knockout",
                     "type": "js",
                     "url": "/assetserver/727383f2a47bd31570b7da84eee7b022dd6d7c78-knockout.js"
                    },
                    {
                     "name": "knockout_punches",
                     "type": "js",
                     "url": "/assetserver/382b41b3b1bd9f26f75861d360bad7f8beea211f-knockout_punches.js"
                    },
                    {
                     "name": null,
                     "type": "js",
                     "url": "/assetserver/5ab20f1060420992a9b82a65b735dee4d81ef413-all.js"
                    },
                    {
                     "name": null,
                     "type": "css",
                     "url": "/assetserver/1cc0ed62837210b80a182cc3676512f895dab686-style.css"
                    },
                    {
                     "name": null,
                     "type": "css",
                     "url": "/assetserver/2eee816f616df3549d7044d45e744fbf8d42bfa1-bulma_confined.min.css"
                    }
                   ],
                   "type": "async_block"
                  },
                  "mount_callbacks": [
                   "function () {\n    var handler = (function (ko, koPunches) {\n    ko.punches.enableAll();\n    ko.bindingHandlers.numericValue = {\n        init: function(element, valueAccessor, allBindings, data, context) {\n            var stringified = ko.observable(ko.unwrap(valueAccessor()));\n            stringified.subscribe(function(value) {\n                var val = parseFloat(value);\n                if (!isNaN(val)) {\n                    valueAccessor()(val);\n                }\n            });\n            valueAccessor().subscribe(function(value) {\n                var str = JSON.stringify(value);\n                if ((str == \"0\") && ([\"-0\", \"-0.\"].indexOf(stringified()) >= 0))\n                     return;\n                 if ([\"null\", \"\"].indexOf(str) >= 0)\n                     return;\n                stringified(str);\n            });\n            ko.applyBindingsToNode(\n                element,\n                {\n                    value: stringified,\n                    valueUpdate: allBindings.get('valueUpdate'),\n                },\n                context,\n            );\n        }\n    };\n    var json_data = {\"formatted_vals\":[\"1\",\"2\",\"3\",\"4\",\"5\",\"6\",\"7\",\"8\"],\"changes\":WebIO.getval({\"name\":\"changes\",\"scope\":\"17801148828286304714\",\"id\":\"7062196156544671619\",\"type\":\"observable\"}),\"index\":WebIO.getval({\"name\":\"index\",\"scope\":\"17801148828286304714\",\"id\":\"48840778856784315\",\"type\":\"observable\"})};\n    var self = this;\n    function AppViewModel() {\n        for (var key in json_data) {\n            var el = json_data[key];\n            this[key] = Array.isArray(el) ? ko.observableArray(el) : ko.observable(el);\n        }\n        \n        [this[\"formatted_val\"]=ko.computed(    function(){\n        return this.formatted_vals()[parseInt(this.index())-(1)];\n    }\n,this)]\n        [this[\"changes\"].subscribe((function (val){!(this.valueFromJulia[\"changes\"]) ? (WebIO.setval({\"name\":\"changes\",\"scope\":\"17801148828286304714\",\"id\":\"7062196156544671619\",\"type\":\"observable\"},val)) : undefined; return this.valueFromJulia[\"changes\"]=false}),self),this[\"index\"].subscribe((function (val){!(this.valueFromJulia[\"index\"]) ? (WebIO.setval({\"name\":\"index\",\"scope\":\"17801148828286304714\",\"id\":\"48840778856784315\",\"type\":\"observable\"},val)) : undefined; return this.valueFromJulia[\"index\"]=false}),self)]\n        \n    }\n    self.model = new AppViewModel();\n    self.valueFromJulia = {};\n    for (var key in json_data) {\n        self.valueFromJulia[key] = false;\n    }\n    ko.applyBindings(self.model, self.dom);\n}\n);\n    (WebIO.importBlock({\"data\":[{\"name\":\"knockout\",\"type\":\"js\",\"url\":\"/assetserver/727383f2a47bd31570b7da84eee7b022dd6d7c78-knockout.js\"},{\"name\":\"knockout_punches\",\"type\":\"js\",\"url\":\"/assetserver/382b41b3b1bd9f26f75861d360bad7f8beea211f-knockout_punches.js\"}],\"type\":\"async_block\"})).then((imports) => handler.apply(this, imports));\n}\n"
                  ],
                  "observables": {
                   "changes": {
                    "id": "7062196156544671619",
                    "sync": false,
                    "value": 0
                   },
                   "index": {
                    "id": "48840778856784315",
                    "sync": true,
                    "value": 4
                   }
                  },
                  "systemjs_options": null
                 },
                 "nodeType": "Scope",
                 "props": {},
                 "type": "node"
                }
               ],
               "instanceArgs": {
                "namespace": "html",
                "tag": "div"
               },
               "nodeType": "DOM",
               "props": {
                "className": "field interact-widget"
               },
               "type": "node"
              }
             ],
             "instanceArgs": {
              "namespace": "html",
              "tag": "div"
             },
             "nodeType": "DOM",
             "props": {
              "style": {
               "display": "flex",
               "flex-direction": "column"
              }
             },
             "type": "node"
            },
            {
             "children": [
              {
               "children": [
                {
                 "children": [
                  {
                   "children": [],
                   "instanceArgs": {
                    "namespace": "html",
                    "tag": "div"
                   },
                   "nodeType": "DOM",
                   "props": {
                    "id": "container"
                   },
                   "type": "node"
                  }
                 ],
                 "instanceArgs": {
                  "handlers": {
                   "value": [
                    "(function (txt){return this.k.render(txt,this.container)})"
                   ]
                  },
                  "id": "8760332166755244193",
                  "imports": {
                   "data": [
                    {
                     "name": null,
                     "type": "js",
                     "url": "/assetserver/dd22ed1bf1896c2748f3fe616ce0b838adc895c1-katex.min.js"
                    },
                    {
                     "name": null,
                     "type": "css",
                     "url": "/assetserver/46517a424aa5e6cffc1360d7e0848b601c584ee3-katex.min.css"
                    }
                   ],
                   "type": "async_block"
                  },
                  "mount_callbacks": [
                   "function () {\n    var handler = ((function (k){this.k=k; this.container=this.dom.querySelector(\"#container\"); return k.render(\"\\\\;\\\\;\",this.container)}));\n    (WebIO.importBlock({\"data\":[{\"name\":null,\"type\":\"js\",\"url\":\"/assetserver/dd22ed1bf1896c2748f3fe616ce0b838adc895c1-katex.min.js\"},{\"name\":null,\"type\":\"css\",\"url\":\"/assetserver/46517a424aa5e6cffc1360d7e0848b601c584ee3-katex.min.css\"}],\"type\":\"async_block\"})).then((imports) => handler.apply(this, imports));\n}\n"
                  ],
                  "observables": {
                   "value": {
                    "id": "2906820142430665371",
                    "sync": false,
                    "value": "\\;\\;"
                   }
                  },
                  "systemjs_options": null
                 },
                 "nodeType": "Scope",
                 "props": {},
                 "type": "node"
                }
               ],
               "instanceArgs": {
                "namespace": "html",
                "tag": "div"
               },
               "nodeType": "DOM",
               "props": {
                "className": "interact-widget"
               },
               "type": "node"
              },
              {
               "children": [
                {
                 "children": [
                  {
                   "children": [
                    "run"
                   ],
                   "instanceArgs": {
                    "namespace": "html",
                    "tag": "button"
                   },
                   "nodeType": "DOM",
                   "props": {
                    "attributes": {
                     "data-bind": "click: function (){this.clicks(this.clicks()+1)}, css: {'is-loading' : loading}"
                    },
                    "className": "is-medium button is-primary",
                    "style": {}
                   },
                   "type": "node"
                  }
                 ],
                 "instanceArgs": {
                  "handlers": {
                   "clicks": [
                    "(function (val){return (val!=this.model[\"clicks\"]()) ? (this.valueFromJulia[\"clicks\"]=true, this.model[\"clicks\"](val)) : undefined})"
                   ],
                   "loading": [
                    "(function (val){return (val!=this.model[\"loading\"]()) ? (this.valueFromJulia[\"loading\"]=true, this.model[\"loading\"](val)) : undefined})"
                   ]
                  },
                  "id": "14337517423416751744",
                  "imports": {
                   "data": [
                    {
                     "name": "knockout",
                     "type": "js",
                     "url": "/assetserver/727383f2a47bd31570b7da84eee7b022dd6d7c78-knockout.js"
                    },
                    {
                     "name": "knockout_punches",
                     "type": "js",
                     "url": "/assetserver/382b41b3b1bd9f26f75861d360bad7f8beea211f-knockout_punches.js"
                    },
                    {
                     "name": null,
                     "type": "js",
                     "url": "/assetserver/5ab20f1060420992a9b82a65b735dee4d81ef413-all.js"
                    },
                    {
                     "name": null,
                     "type": "css",
                     "url": "/assetserver/1cc0ed62837210b80a182cc3676512f895dab686-style.css"
                    },
                    {
                     "name": null,
                     "type": "css",
                     "url": "/assetserver/2eee816f616df3549d7044d45e744fbf8d42bfa1-bulma_confined.min.css"
                    }
                   ],
                   "type": "async_block"
                  },
                  "mount_callbacks": [
                   "function () {\n    var handler = (function (ko, koPunches) {\n    ko.punches.enableAll();\n    ko.bindingHandlers.numericValue = {\n        init: function(element, valueAccessor, allBindings, data, context) {\n            var stringified = ko.observable(ko.unwrap(valueAccessor()));\n            stringified.subscribe(function(value) {\n                var val = parseFloat(value);\n                if (!isNaN(val)) {\n                    valueAccessor()(val);\n                }\n            });\n            valueAccessor().subscribe(function(value) {\n                var str = JSON.stringify(value);\n                if ((str == \"0\") && ([\"-0\", \"-0.\"].indexOf(stringified()) >= 0))\n                     return;\n                 if ([\"null\", \"\"].indexOf(str) >= 0)\n                     return;\n                stringified(str);\n            });\n            ko.applyBindingsToNode(\n                element,\n                {\n                    value: stringified,\n                    valueUpdate: allBindings.get('valueUpdate'),\n                },\n                context,\n            );\n        }\n    };\n    var json_data = {\"loading\":WebIO.getval({\"name\":\"loading\",\"scope\":\"14337517423416751744\",\"id\":\"10565832053117284244\",\"type\":\"observable\"}),\"clicks\":WebIO.getval({\"name\":\"clicks\",\"scope\":\"14337517423416751744\",\"id\":\"6598328723306260973\",\"type\":\"observable\"})};\n    var self = this;\n    function AppViewModel() {\n        for (var key in json_data) {\n            var el = json_data[key];\n            this[key] = Array.isArray(el) ? ko.observableArray(el) : ko.observable(el);\n        }\n        \n        \n        [this[\"loading\"].subscribe((function (val){!(this.valueFromJulia[\"loading\"]) ? (WebIO.setval({\"name\":\"loading\",\"scope\":\"14337517423416751744\",\"id\":\"10565832053117284244\",\"type\":\"observable\"},val)) : undefined; return this.valueFromJulia[\"loading\"]=false}),self),this[\"clicks\"].subscribe((function (val){!(this.valueFromJulia[\"clicks\"]) ? (WebIO.setval({\"name\":\"clicks\",\"scope\":\"14337517423416751744\",\"id\":\"6598328723306260973\",\"type\":\"observable\"},val)) : undefined; return this.valueFromJulia[\"clicks\"]=false}),self)]\n        \n    }\n    self.model = new AppViewModel();\n    self.valueFromJulia = {};\n    for (var key in json_data) {\n        self.valueFromJulia[key] = false;\n    }\n    ko.applyBindings(self.model, self.dom);\n}\n);\n    (WebIO.importBlock({\"data\":[{\"name\":\"knockout\",\"type\":\"js\",\"url\":\"/assetserver/727383f2a47bd31570b7da84eee7b022dd6d7c78-knockout.js\"},{\"name\":\"knockout_punches\",\"type\":\"js\",\"url\":\"/assetserver/382b41b3b1bd9f26f75861d360bad7f8beea211f-knockout_punches.js\"}],\"type\":\"async_block\"})).then((imports) => handler.apply(this, imports));\n}\n"
                  ],
                  "observables": {
                   "clicks": {
                    "id": "6598328723306260973",
                    "sync": true,
                    "value": 0
                   },
                   "loading": {
                    "id": "10565832053117284244",
                    "sync": false,
                    "value": false
                   }
                  },
                  "systemjs_options": null
                 },
                 "nodeType": "Scope",
                 "props": {},
                 "type": "node"
                }
               ],
               "instanceArgs": {
                "namespace": "html",
                "tag": "div"
               },
               "nodeType": "DOM",
               "props": {
                "className": "field interact-widget"
               },
               "type": "node"
              },
              {
               "children": [
                {
                 "children": [
                  {
                   "children": [],
                   "instanceArgs": {
                    "namespace": "html",
                    "tag": "div"
                   },
                   "nodeType": "DOM",
                   "props": {
                    "id": "container"
                   },
                   "type": "node"
                  }
                 ],
                 "instanceArgs": {
                  "handlers": {
                   "value": [
                    "(function (txt){return this.k.render(txt,this.container)})"
                   ]
                  },
                  "id": "8760332166755244193",
                  "imports": {
                   "data": [
                    {
                     "name": null,
                     "type": "js",
                     "url": "/assetserver/dd22ed1bf1896c2748f3fe616ce0b838adc895c1-katex.min.js"
                    },
                    {
                     "name": null,
                     "type": "css",
                     "url": "/assetserver/46517a424aa5e6cffc1360d7e0848b601c584ee3-katex.min.css"
                    }
                   ],
                   "type": "async_block"
                  },
                  "mount_callbacks": [
                   "function () {\n    var handler = ((function (k){this.k=k; this.container=this.dom.querySelector(\"#container\"); return k.render(\"\\\\;\\\\;\",this.container)}));\n    (WebIO.importBlock({\"data\":[{\"name\":null,\"type\":\"js\",\"url\":\"/assetserver/dd22ed1bf1896c2748f3fe616ce0b838adc895c1-katex.min.js\"},{\"name\":null,\"type\":\"css\",\"url\":\"/assetserver/46517a424aa5e6cffc1360d7e0848b601c584ee3-katex.min.css\"}],\"type\":\"async_block\"})).then((imports) => handler.apply(this, imports));\n}\n"
                  ],
                  "observables": {
                   "value": {
                    "id": "2906820142430665371",
                    "sync": false,
                    "value": "\\;\\;"
                   }
                  },
                  "systemjs_options": null
                 },
                 "nodeType": "Scope",
                 "props": {},
                 "type": "node"
                }
               ],
               "instanceArgs": {
                "namespace": "html",
                "tag": "div"
               },
               "nodeType": "DOM",
               "props": {
                "className": "interact-widget"
               },
               "type": "node"
              },
              {
               "children": [
                {
                 "children": [
                  {
                   "children": [
                    "stop"
                   ],
                   "instanceArgs": {
                    "namespace": "html",
                    "tag": "button"
                   },
                   "nodeType": "DOM",
                   "props": {
                    "attributes": {
                     "data-bind": "click: function (){this.clicks(this.clicks()+1)}, css: {'is-loading' : loading}"
                    },
                    "className": "is-medium button is-primary",
                    "style": {}
                   },
                   "type": "node"
                  }
                 ],
                 "instanceArgs": {
                  "handlers": {
                   "clicks": [
                    "(function (val){return (val!=this.model[\"clicks\"]()) ? (this.valueFromJulia[\"clicks\"]=true, this.model[\"clicks\"](val)) : undefined})"
                   ],
                   "loading": [
                    "(function (val){return (val!=this.model[\"loading\"]()) ? (this.valueFromJulia[\"loading\"]=true, this.model[\"loading\"](val)) : undefined})"
                   ]
                  },
                  "id": "1609271401452875011",
                  "imports": {
                   "data": [
                    {
                     "name": "knockout",
                     "type": "js",
                     "url": "/assetserver/727383f2a47bd31570b7da84eee7b022dd6d7c78-knockout.js"
                    },
                    {
                     "name": "knockout_punches",
                     "type": "js",
                     "url": "/assetserver/382b41b3b1bd9f26f75861d360bad7f8beea211f-knockout_punches.js"
                    },
                    {
                     "name": null,
                     "type": "js",
                     "url": "/assetserver/5ab20f1060420992a9b82a65b735dee4d81ef413-all.js"
                    },
                    {
                     "name": null,
                     "type": "css",
                     "url": "/assetserver/1cc0ed62837210b80a182cc3676512f895dab686-style.css"
                    },
                    {
                     "name": null,
                     "type": "css",
                     "url": "/assetserver/2eee816f616df3549d7044d45e744fbf8d42bfa1-bulma_confined.min.css"
                    }
                   ],
                   "type": "async_block"
                  },
                  "mount_callbacks": [
                   "function () {\n    var handler = (function (ko, koPunches) {\n    ko.punches.enableAll();\n    ko.bindingHandlers.numericValue = {\n        init: function(element, valueAccessor, allBindings, data, context) {\n            var stringified = ko.observable(ko.unwrap(valueAccessor()));\n            stringified.subscribe(function(value) {\n                var val = parseFloat(value);\n                if (!isNaN(val)) {\n                    valueAccessor()(val);\n                }\n            });\n            valueAccessor().subscribe(function(value) {\n                var str = JSON.stringify(value);\n                if ((str == \"0\") && ([\"-0\", \"-0.\"].indexOf(stringified()) >= 0))\n                     return;\n                 if ([\"null\", \"\"].indexOf(str) >= 0)\n                     return;\n                stringified(str);\n            });\n            ko.applyBindingsToNode(\n                element,\n                {\n                    value: stringified,\n                    valueUpdate: allBindings.get('valueUpdate'),\n                },\n                context,\n            );\n        }\n    };\n    var json_data = {\"loading\":WebIO.getval({\"name\":\"loading\",\"scope\":\"1609271401452875011\",\"id\":\"886133317242514752\",\"type\":\"observable\"}),\"clicks\":WebIO.getval({\"name\":\"clicks\",\"scope\":\"1609271401452875011\",\"id\":\"3256067798587017689\",\"type\":\"observable\"})};\n    var self = this;\n    function AppViewModel() {\n        for (var key in json_data) {\n            var el = json_data[key];\n            this[key] = Array.isArray(el) ? ko.observableArray(el) : ko.observable(el);\n        }\n        \n        \n        [this[\"loading\"].subscribe((function (val){!(this.valueFromJulia[\"loading\"]) ? (WebIO.setval({\"name\":\"loading\",\"scope\":\"1609271401452875011\",\"id\":\"886133317242514752\",\"type\":\"observable\"},val)) : undefined; return this.valueFromJulia[\"loading\"]=false}),self),this[\"clicks\"].subscribe((function (val){!(this.valueFromJulia[\"clicks\"]) ? (WebIO.setval({\"name\":\"clicks\",\"scope\":\"1609271401452875011\",\"id\":\"3256067798587017689\",\"type\":\"observable\"},val)) : undefined; return this.valueFromJulia[\"clicks\"]=false}),self)]\n        \n    }\n    self.model = new AppViewModel();\n    self.valueFromJulia = {};\n    for (var key in json_data) {\n        self.valueFromJulia[key] = false;\n    }\n    ko.applyBindings(self.model, self.dom);\n}\n);\n    (WebIO.importBlock({\"data\":[{\"name\":\"knockout\",\"type\":\"js\",\"url\":\"/assetserver/727383f2a47bd31570b7da84eee7b022dd6d7c78-knockout.js\"},{\"name\":\"knockout_punches\",\"type\":\"js\",\"url\":\"/assetserver/382b41b3b1bd9f26f75861d360bad7f8beea211f-knockout_punches.js\"}],\"type\":\"async_block\"})).then((imports) => handler.apply(this, imports));\n}\n"
                  ],
                  "observables": {
                   "clicks": {
                    "id": "3256067798587017689",
                    "sync": true,
                    "value": 0
                   },
                   "loading": {
                    "id": "886133317242514752",
                    "sync": false,
                    "value": false
                   }
                  },
                  "systemjs_options": null
                 },
                 "nodeType": "Scope",
                 "props": {},
                 "type": "node"
                }
               ],
               "instanceArgs": {
                "namespace": "html",
                "tag": "div"
               },
               "nodeType": "DOM",
               "props": {
                "className": "field interact-widget"
               },
               "type": "node"
              },
              {
               "children": [
                {
                 "children": [
                  {
                   "children": [],
                   "instanceArgs": {
                    "namespace": "html",
                    "tag": "div"
                   },
                   "nodeType": "DOM",
                   "props": {
                    "id": "container"
                   },
                   "type": "node"
                  }
                 ],
                 "instanceArgs": {
                  "handlers": {
                   "value": [
                    "(function (txt){return this.k.render(txt,this.container)})"
                   ]
                  },
                  "id": "8760332166755244193",
                  "imports": {
                   "data": [
                    {
                     "name": null,
                     "type": "js",
                     "url": "/assetserver/dd22ed1bf1896c2748f3fe616ce0b838adc895c1-katex.min.js"
                    },
                    {
                     "name": null,
                     "type": "css",
                     "url": "/assetserver/46517a424aa5e6cffc1360d7e0848b601c584ee3-katex.min.css"
                    }
                   ],
                   "type": "async_block"
                  },
                  "mount_callbacks": [
                   "function () {\n    var handler = ((function (k){this.k=k; this.container=this.dom.querySelector(\"#container\"); return k.render(\"\\\\;\\\\;\",this.container)}));\n    (WebIO.importBlock({\"data\":[{\"name\":null,\"type\":\"js\",\"url\":\"/assetserver/dd22ed1bf1896c2748f3fe616ce0b838adc895c1-katex.min.js\"},{\"name\":null,\"type\":\"css\",\"url\":\"/assetserver/46517a424aa5e6cffc1360d7e0848b601c584ee3-katex.min.css\"}],\"type\":\"async_block\"})).then((imports) => handler.apply(this, imports));\n}\n"
                  ],
                  "observables": {
                   "value": {
                    "id": "2906820142430665371",
                    "sync": false,
                    "value": "\\;\\;"
                   }
                  },
                  "systemjs_options": null
                 },
                 "nodeType": "Scope",
                 "props": {},
                 "type": "node"
                }
               ],
               "instanceArgs": {
                "namespace": "html",
                "tag": "div"
               },
               "nodeType": "DOM",
               "props": {
                "className": "interact-widget"
               },
               "type": "node"
              },
              {
               "children": [
                {
                 "children": [
                  {
                   "children": [
                    "reset"
                   ],
                   "instanceArgs": {
                    "namespace": "html",
                    "tag": "button"
                   },
                   "nodeType": "DOM",
                   "props": {
                    "attributes": {
                     "data-bind": "click: function (){this.clicks(this.clicks()+1)}, css: {'is-loading' : loading}"
                    },
                    "className": "is-medium button is-primary",
                    "style": {}
                   },
                   "type": "node"
                  }
                 ],
                 "instanceArgs": {
                  "handlers": {
                   "clicks": [
                    "(function (val){return (val!=this.model[\"clicks\"]()) ? (this.valueFromJulia[\"clicks\"]=true, this.model[\"clicks\"](val)) : undefined})"
                   ],
                   "loading": [
                    "(function (val){return (val!=this.model[\"loading\"]()) ? (this.valueFromJulia[\"loading\"]=true, this.model[\"loading\"](val)) : undefined})"
                   ]
                  },
                  "id": "103762669172679873",
                  "imports": {
                   "data": [
                    {
                     "name": "knockout",
                     "type": "js",
                     "url": "/assetserver/727383f2a47bd31570b7da84eee7b022dd6d7c78-knockout.js"
                    },
                    {
                     "name": "knockout_punches",
                     "type": "js",
                     "url": "/assetserver/382b41b3b1bd9f26f75861d360bad7f8beea211f-knockout_punches.js"
                    },
                    {
                     "name": null,
                     "type": "js",
                     "url": "/assetserver/5ab20f1060420992a9b82a65b735dee4d81ef413-all.js"
                    },
                    {
                     "name": null,
                     "type": "css",
                     "url": "/assetserver/1cc0ed62837210b80a182cc3676512f895dab686-style.css"
                    },
                    {
                     "name": null,
                     "type": "css",
                     "url": "/assetserver/2eee816f616df3549d7044d45e744fbf8d42bfa1-bulma_confined.min.css"
                    }
                   ],
                   "type": "async_block"
                  },
                  "mount_callbacks": [
                   "function () {\n    var handler = (function (ko, koPunches) {\n    ko.punches.enableAll();\n    ko.bindingHandlers.numericValue = {\n        init: function(element, valueAccessor, allBindings, data, context) {\n            var stringified = ko.observable(ko.unwrap(valueAccessor()));\n            stringified.subscribe(function(value) {\n                var val = parseFloat(value);\n                if (!isNaN(val)) {\n                    valueAccessor()(val);\n                }\n            });\n            valueAccessor().subscribe(function(value) {\n                var str = JSON.stringify(value);\n                if ((str == \"0\") && ([\"-0\", \"-0.\"].indexOf(stringified()) >= 0))\n                     return;\n                 if ([\"null\", \"\"].indexOf(str) >= 0)\n                     return;\n                stringified(str);\n            });\n            ko.applyBindingsToNode(\n                element,\n                {\n                    value: stringified,\n                    valueUpdate: allBindings.get('valueUpdate'),\n                },\n                context,\n            );\n        }\n    };\n    var json_data = {\"loading\":WebIO.getval({\"name\":\"loading\",\"scope\":\"103762669172679873\",\"id\":\"13828630224496718448\",\"type\":\"observable\"}),\"clicks\":WebIO.getval({\"name\":\"clicks\",\"scope\":\"103762669172679873\",\"id\":\"13664722276351927570\",\"type\":\"observable\"})};\n    var self = this;\n    function AppViewModel() {\n        for (var key in json_data) {\n            var el = json_data[key];\n            this[key] = Array.isArray(el) ? ko.observableArray(el) : ko.observable(el);\n        }\n        \n        \n        [this[\"loading\"].subscribe((function (val){!(this.valueFromJulia[\"loading\"]) ? (WebIO.setval({\"name\":\"loading\",\"scope\":\"103762669172679873\",\"id\":\"13828630224496718448\",\"type\":\"observable\"},val)) : undefined; return this.valueFromJulia[\"loading\"]=false}),self),this[\"clicks\"].subscribe((function (val){!(this.valueFromJulia[\"clicks\"]) ? (WebIO.setval({\"name\":\"clicks\",\"scope\":\"103762669172679873\",\"id\":\"13664722276351927570\",\"type\":\"observable\"},val)) : undefined; return this.valueFromJulia[\"clicks\"]=false}),self)]\n        \n    }\n    self.model = new AppViewModel();\n    self.valueFromJulia = {};\n    for (var key in json_data) {\n        self.valueFromJulia[key] = false;\n    }\n    ko.applyBindings(self.model, self.dom);\n}\n);\n    (WebIO.importBlock({\"data\":[{\"name\":\"knockout\",\"type\":\"js\",\"url\":\"/assetserver/727383f2a47bd31570b7da84eee7b022dd6d7c78-knockout.js\"},{\"name\":\"knockout_punches\",\"type\":\"js\",\"url\":\"/assetserver/382b41b3b1bd9f26f75861d360bad7f8beea211f-knockout_punches.js\"}],\"type\":\"async_block\"})).then((imports) => handler.apply(this, imports));\n}\n"
                  ],
                  "observables": {
                   "clicks": {
                    "id": "13664722276351927570",
                    "sync": true,
                    "value": 0
                   },
                   "loading": {
                    "id": "13828630224496718448",
                    "sync": false,
                    "value": false
                   }
                  },
                  "systemjs_options": null
                 },
                 "nodeType": "Scope",
                 "props": {},
                 "type": "node"
                }
               ],
               "instanceArgs": {
                "namespace": "html",
                "tag": "div"
               },
               "nodeType": "DOM",
               "props": {
                "className": "field interact-widget"
               },
               "type": "node"
              },
              {
               "children": [
                {
                 "children": [
                  {
                   "children": [],
                   "instanceArgs": {
                    "namespace": "html",
                    "tag": "div"
                   },
                   "nodeType": "DOM",
                   "props": {
                    "id": "container"
                   },
                   "type": "node"
                  }
                 ],
                 "instanceArgs": {
                  "handlers": {
                   "value": [
                    "(function (txt){return this.k.render(txt,this.container)})"
                   ]
                  },
                  "id": "8760332166755244193",
                  "imports": {
                   "data": [
                    {
                     "name": null,
                     "type": "js",
                     "url": "/assetserver/dd22ed1bf1896c2748f3fe616ce0b838adc895c1-katex.min.js"
                    },
                    {
                     "name": null,
                     "type": "css",
                     "url": "/assetserver/46517a424aa5e6cffc1360d7e0848b601c584ee3-katex.min.css"
                    }
                   ],
                   "type": "async_block"
                  },
                  "mount_callbacks": [
                   "function () {\n    var handler = ((function (k){this.k=k; this.container=this.dom.querySelector(\"#container\"); return k.render(\"\\\\;\\\\;\",this.container)}));\n    (WebIO.importBlock({\"data\":[{\"name\":null,\"type\":\"js\",\"url\":\"/assetserver/dd22ed1bf1896c2748f3fe616ce0b838adc895c1-katex.min.js\"},{\"name\":null,\"type\":\"css\",\"url\":\"/assetserver/46517a424aa5e6cffc1360d7e0848b601c584ee3-katex.min.css\"}],\"type\":\"async_block\"})).then((imports) => handler.apply(this, imports));\n}\n"
                  ],
                  "observables": {
                   "value": {
                    "id": "2906820142430665371",
                    "sync": false,
                    "value": "\\;\\;"
                   }
                  },
                  "systemjs_options": null
                 },
                 "nodeType": "Scope",
                 "props": {},
                 "type": "node"
                }
               ],
               "instanceArgs": {
                "namespace": "html",
                "tag": "div"
               },
               "nodeType": "DOM",
               "props": {
                "className": "interact-widget"
               },
               "type": "node"
              },
              {
               "children": [
                {
                 "children": [
                  {
                   "children": [
                    "save"
                   ],
                   "instanceArgs": {
                    "namespace": "html",
                    "tag": "button"
                   },
                   "nodeType": "DOM",
                   "props": {
                    "attributes": {
                     "data-bind": "click: function (){this.clicks(this.clicks()+1)}, css: {'is-loading' : loading}"
                    },
                    "className": "is-medium button is-primary",
                    "style": {}
                   },
                   "type": "node"
                  }
                 ],
                 "instanceArgs": {
                  "handlers": {
                   "clicks": [
                    "(function (val){return (val!=this.model[\"clicks\"]()) ? (this.valueFromJulia[\"clicks\"]=true, this.model[\"clicks\"](val)) : undefined})"
                   ],
                   "loading": [
                    "(function (val){return (val!=this.model[\"loading\"]()) ? (this.valueFromJulia[\"loading\"]=true, this.model[\"loading\"](val)) : undefined})"
                   ]
                  },
                  "id": "3777935479819113413",
                  "imports": {
                   "data": [
                    {
                     "name": "knockout",
                     "type": "js",
                     "url": "/assetserver/727383f2a47bd31570b7da84eee7b022dd6d7c78-knockout.js"
                    },
                    {
                     "name": "knockout_punches",
                     "type": "js",
                     "url": "/assetserver/382b41b3b1bd9f26f75861d360bad7f8beea211f-knockout_punches.js"
                    },
                    {
                     "name": null,
                     "type": "js",
                     "url": "/assetserver/5ab20f1060420992a9b82a65b735dee4d81ef413-all.js"
                    },
                    {
                     "name": null,
                     "type": "css",
                     "url": "/assetserver/1cc0ed62837210b80a182cc3676512f895dab686-style.css"
                    },
                    {
                     "name": null,
                     "type": "css",
                     "url": "/assetserver/2eee816f616df3549d7044d45e744fbf8d42bfa1-bulma_confined.min.css"
                    }
                   ],
                   "type": "async_block"
                  },
                  "mount_callbacks": [
                   "function () {\n    var handler = (function (ko, koPunches) {\n    ko.punches.enableAll();\n    ko.bindingHandlers.numericValue = {\n        init: function(element, valueAccessor, allBindings, data, context) {\n            var stringified = ko.observable(ko.unwrap(valueAccessor()));\n            stringified.subscribe(function(value) {\n                var val = parseFloat(value);\n                if (!isNaN(val)) {\n                    valueAccessor()(val);\n                }\n            });\n            valueAccessor().subscribe(function(value) {\n                var str = JSON.stringify(value);\n                if ((str == \"0\") && ([\"-0\", \"-0.\"].indexOf(stringified()) >= 0))\n                     return;\n                 if ([\"null\", \"\"].indexOf(str) >= 0)\n                     return;\n                stringified(str);\n            });\n            ko.applyBindingsToNode(\n                element,\n                {\n                    value: stringified,\n                    valueUpdate: allBindings.get('valueUpdate'),\n                },\n                context,\n            );\n        }\n    };\n    var json_data = {\"loading\":WebIO.getval({\"name\":\"loading\",\"scope\":\"3777935479819113413\",\"id\":\"2776404764310456971\",\"type\":\"observable\"}),\"clicks\":WebIO.getval({\"name\":\"clicks\",\"scope\":\"3777935479819113413\",\"id\":\"13044542224870718201\",\"type\":\"observable\"})};\n    var self = this;\n    function AppViewModel() {\n        for (var key in json_data) {\n            var el = json_data[key];\n            this[key] = Array.isArray(el) ? ko.observableArray(el) : ko.observable(el);\n        }\n        \n        \n        [this[\"loading\"].subscribe((function (val){!(this.valueFromJulia[\"loading\"]) ? (WebIO.setval({\"name\":\"loading\",\"scope\":\"3777935479819113413\",\"id\":\"2776404764310456971\",\"type\":\"observable\"},val)) : undefined; return this.valueFromJulia[\"loading\"]=false}),self),this[\"clicks\"].subscribe((function (val){!(this.valueFromJulia[\"clicks\"]) ? (WebIO.setval({\"name\":\"clicks\",\"scope\":\"3777935479819113413\",\"id\":\"13044542224870718201\",\"type\":\"observable\"},val)) : undefined; return this.valueFromJulia[\"clicks\"]=false}),self)]\n        \n    }\n    self.model = new AppViewModel();\n    self.valueFromJulia = {};\n    for (var key in json_data) {\n        self.valueFromJulia[key] = false;\n    }\n    ko.applyBindings(self.model, self.dom);\n}\n);\n    (WebIO.importBlock({\"data\":[{\"name\":\"knockout\",\"type\":\"js\",\"url\":\"/assetserver/727383f2a47bd31570b7da84eee7b022dd6d7c78-knockout.js\"},{\"name\":\"knockout_punches\",\"type\":\"js\",\"url\":\"/assetserver/382b41b3b1bd9f26f75861d360bad7f8beea211f-knockout_punches.js\"}],\"type\":\"async_block\"})).then((imports) => handler.apply(this, imports));\n}\n"
                  ],
                  "observables": {
                   "clicks": {
                    "id": "13044542224870718201",
                    "sync": true,
                    "value": 0
                   },
                   "loading": {
                    "id": "2776404764310456971",
                    "sync": false,
                    "value": false
                   }
                  },
                  "systemjs_options": null
                 },
                 "nodeType": "Scope",
                 "props": {},
                 "type": "node"
                }
               ],
               "instanceArgs": {
                "namespace": "html",
                "tag": "div"
               },
               "nodeType": "DOM",
               "props": {
                "className": "field interact-widget"
               },
               "type": "node"
              }
             ],
             "instanceArgs": {
              "namespace": "html",
              "tag": "div"
             },
             "nodeType": "DOM",
             "props": {
              "style": {
               "display": "flex",
               "flex-direction": "row"
              }
             },
             "type": "node"
            }
           ],
           "instanceArgs": {
            "namespace": "html",
            "tag": "div"
           },
           "nodeType": "DOM",
           "props": {
            "style": {
             "display": "flex",
             "flex-direction": "column"
            }
           },
           "type": "node"
          },
          {
           "children": [
            {
             "children": [
              {
               "children": [],
               "instanceArgs": {
                "namespace": "html",
                "tag": "div"
               },
               "nodeType": "DOM",
               "props": {
                "id": "container"
               },
               "type": "node"
              }
             ],
             "instanceArgs": {
              "handlers": {
               "value": [
                "(function (txt){return this.k.render(txt,this.container)})"
               ]
              },
              "id": "8760332166755244193",
              "imports": {
               "data": [
                {
                 "name": null,
                 "type": "js",
                 "url": "/assetserver/dd22ed1bf1896c2748f3fe616ce0b838adc895c1-katex.min.js"
                },
                {
                 "name": null,
                 "type": "css",
                 "url": "/assetserver/46517a424aa5e6cffc1360d7e0848b601c584ee3-katex.min.css"
                }
               ],
               "type": "async_block"
              },
              "mount_callbacks": [
               "function () {\n    var handler = ((function (k){this.k=k; this.container=this.dom.querySelector(\"#container\"); return k.render(\"\\\\;\\\\;\",this.container)}));\n    (WebIO.importBlock({\"data\":[{\"name\":null,\"type\":\"js\",\"url\":\"/assetserver/dd22ed1bf1896c2748f3fe616ce0b838adc895c1-katex.min.js\"},{\"name\":null,\"type\":\"css\",\"url\":\"/assetserver/46517a424aa5e6cffc1360d7e0848b601c584ee3-katex.min.css\"}],\"type\":\"async_block\"})).then((imports) => handler.apply(this, imports));\n}\n"
              ],
              "observables": {
               "value": {
                "id": "2906820142430665371",
                "sync": false,
                "value": "\\;\\;"
               }
              },
              "systemjs_options": null
             },
             "nodeType": "Scope",
             "props": {},
             "type": "node"
            }
           ],
           "instanceArgs": {
            "namespace": "html",
            "tag": "div"
           },
           "nodeType": "DOM",
           "props": {
            "className": "interact-widget"
           },
           "type": "node"
          },
          {
           "children": [
            {
             "children": [],
             "instanceArgs": {
              "namespace": "html",
              "tag": "div"
             },
             "nodeType": "DOM",
             "props": {
              "className": "webio-observable",
              "setInnerHtml": "<img src='data:image/png;base64,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'></img>"
             },
             "type": "node"
            }
           ],
           "instanceArgs": {
            "handlers": {
             "obs-output": [
              "function (value, scope) {\n    scope.setInnerHTML(value);\n}\n"
             ]
            },
            "id": "3999985931161582212",
            "imports": {
             "data": [],
             "type": "async_block"
            },
            "mount_callbacks": [],
            "observables": {
             "obs-output": {
              "id": "4768727271824497420",
              "sync": false,
              "value": "<img src='data:image/png;base64,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'></img>"
             }
            },
            "systemjs_options": null
           },
           "nodeType": "Scope",
           "props": {},
           "type": "node"
          },
          {
           "children": [
            {
             "children": [
              {
               "children": [],
               "instanceArgs": {
                "namespace": "html",
                "tag": "div"
               },
               "nodeType": "DOM",
               "props": {
                "id": "container"
               },
               "type": "node"
              }
             ],
             "instanceArgs": {
              "handlers": {
               "value": [
                "(function (txt){return this.k.render(txt,this.container)})"
               ]
              },
              "id": "8760332166755244193",
              "imports": {
               "data": [
                {
                 "name": null,
                 "type": "js",
                 "url": "/assetserver/dd22ed1bf1896c2748f3fe616ce0b838adc895c1-katex.min.js"
                },
                {
                 "name": null,
                 "type": "css",
                 "url": "/assetserver/46517a424aa5e6cffc1360d7e0848b601c584ee3-katex.min.css"
                }
               ],
               "type": "async_block"
              },
              "mount_callbacks": [
               "function () {\n    var handler = ((function (k){this.k=k; this.container=this.dom.querySelector(\"#container\"); return k.render(\"\\\\;\\\\;\",this.container)}));\n    (WebIO.importBlock({\"data\":[{\"name\":null,\"type\":\"js\",\"url\":\"/assetserver/dd22ed1bf1896c2748f3fe616ce0b838adc895c1-katex.min.js\"},{\"name\":null,\"type\":\"css\",\"url\":\"/assetserver/46517a424aa5e6cffc1360d7e0848b601c584ee3-katex.min.css\"}],\"type\":\"async_block\"})).then((imports) => handler.apply(this, imports));\n}\n"
              ],
              "observables": {
               "value": {
                "id": "2906820142430665371",
                "sync": false,
                "value": "\\;\\;"
               }
              },
              "systemjs_options": null
             },
             "nodeType": "Scope",
             "props": {},
             "type": "node"
            }
           ],
           "instanceArgs": {
            "namespace": "html",
            "tag": "div"
           },
           "nodeType": "DOM",
           "props": {
            "className": "interact-widget"
           },
           "type": "node"
          },
          {
           "children": [],
           "instanceArgs": {
            "namespace": "html",
            "tag": "div"
           },
           "nodeType": "DOM",
           "props": {
            "style": {
             "display": "flex",
             "flex-direction": "column"
            }
           },
           "type": "node"
          }
         ],
         "instanceArgs": {
          "namespace": "html",
          "tag": "div"
         },
         "nodeType": "DOM",
         "props": {
          "style": {
           "display": "flex",
           "flex-direction": "row"
          }
         },
         "type": "node"
        }
       ],
       "instanceArgs": {
        "namespace": "html",
        "tag": "div"
       },
       "nodeType": "DOM",
       "props": {
        "style": {
         "display": "flex",
         "flex-direction": "column"
        }
       },
       "type": "node"
      },
      "text/html": [
       "<div\n",
       "    class=\"webio-mountpoint\"\n",
       "    data-webio-mountpoint=\"16398764771758164139\"\n",
       ">\n",
       "    <script>\n",
       "    (function(){\n",
       "    // Some integrations (namely, IJulia/Jupyter) use an alternate render pathway than\n",
       "    // just putting the html on the page. If WebIO isn't defined, then it's pretty likely\n",
       "    // that we're in one of those situations and the integration just isn't installed\n",
       "    // correctly.\n",
       "    if (typeof window.WebIO === \"undefined\") {\n",
       "        document\n",
       "            .querySelector('[data-webio-mountpoint=\"16398764771758164139\"]')\n",
       "            .innerHTML = (\n",
       "                '<div style=\"padding: 1em; background-color: #f8d6da; border: 1px solid #f5c6cb; font-weight: bold;\">' +\n",
       "                '<p><strong>WebIO not detected.</strong></p>' +\n",
       "                '<p>Please read ' +\n",
       "                '<a href=\"https://juliagizmos.github.io/WebIO.jl/latest/troubleshooting/not-detected/\" target=\"_blank\">the troubleshooting guide</a> ' +\n",
       "                'for more information on how to resolve this issue.</p>' +\n",
       "                '<p><a href=\"https://juliagizmos.github.io/WebIO.jl/latest/troubleshooting/not-detected/\" target=\"_blank\">https://juliagizmos.github.io/WebIO.jl/latest/troubleshooting/not-detected/</a></p>' +\n",
       "                '</div>'\n",
       "            );\n",
       "        return;\n",
       "    }\n",
       "    WebIO.mount(\n",
       "        document.querySelector('[data-webio-mountpoint=\"16398764771758164139\"]'),\n",
       "        {\"props\":{\"style\":{\"display\":\"flex\",\"flex-direction\":\"column\"}},\"nodeType\":\"DOM\",\"type\":\"node\",\"instanceArgs\":{\"namespace\":\"html\",\"tag\":\"div\"},\"children\":[{\"props\":{\"style\":{\"display\":\"flex\",\"flex-direction\":\"row\"}},\"nodeType\":\"DOM\",\"type\":\"node\",\"instanceArgs\":{\"namespace\":\"html\",\"tag\":\"div\"},\"children\":[{\"props\":{\"style\":{\"display\":\"flex\",\"flex-direction\":\"column\"}},\"nodeType\":\"DOM\",\"type\":\"node\",\"instanceArgs\":{\"namespace\":\"html\",\"tag\":\"div\"},\"children\":[{\"props\":{\"className\":\"field interact-widget\"},\"nodeType\":\"DOM\",\"type\":\"node\",\"instanceArgs\":{\"namespace\":\"html\",\"tag\":\"div\"},\"children\":[{\"props\":{},\"nodeType\":\"Scope\",\"type\":\"node\",\"instanceArgs\":{\"imports\":{\"data\":[{\"name\":\"knockout\",\"type\":\"js\",\"url\":\"\\/assetserver\\/727383f2a47bd31570b7da84eee7b022dd6d7c78-knockout.js\"},{\"name\":\"knockout_punches\",\"type\":\"js\",\"url\":\"\\/assetserver\\/382b41b3b1bd9f26f75861d360bad7f8beea211f-knockout_punches.js\"},{\"name\":null,\"type\":\"js\",\"url\":\"\\/assetserver\\/5ab20f1060420992a9b82a65b735dee4d81ef413-all.js\"},{\"name\":null,\"type\":\"css\",\"url\":\"\\/assetserver\\/1cc0ed62837210b80a182cc3676512f895dab686-style.css\"},{\"name\":null,\"type\":\"css\",\"url\":\"\\/assetserver\\/2eee816f616df3549d7044d45e744fbf8d42bfa1-bulma_confined.min.css\"}],\"type\":\"async_block\"},\"id\":\"17170095008382512464\",\"handlers\":{\"changes\":[\"(function (val){return (val!=this.model[\\\"changes\\\"]()) ? (this.valueFromJulia[\\\"changes\\\"]=true, this.model[\\\"changes\\\"](val)) : undefined})\"],\"index\":[\"(function (val){return (val!=this.model[\\\"index\\\"]()) ? (this.valueFromJulia[\\\"index\\\"]=true, this.model[\\\"index\\\"](val)) : undefined})\"]},\"systemjs_options\":null,\"mount_callbacks\":[\"function () {\\n    var handler = (function (ko, koPunches) {\\n    ko.punches.enableAll();\\n    ko.bindingHandlers.numericValue = {\\n        init: function(element, valueAccessor, allBindings, data, context) {\\n            var stringified = ko.observable(ko.unwrap(valueAccessor()));\\n            stringified.subscribe(function(value) {\\n                var val = parseFloat(value);\\n                if (!isNaN(val)) {\\n                    valueAccessor()(val);\\n                }\\n            });\\n            valueAccessor().subscribe(function(value) {\\n                var str = JSON.stringify(value);\\n                if ((str == \\\"0\\\") && ([\\\"-0\\\", \\\"-0.\\\"].indexOf(stringified()) >= 0))\\n                     return;\\n                 if ([\\\"null\\\", \\\"\\\"].indexOf(str) >= 0)\\n                     return;\\n                stringified(str);\\n            });\\n            ko.applyBindingsToNode(\\n                element,\\n                {\\n                    value: stringified,\\n                    valueUpdate: allBindings.get('valueUpdate'),\\n                },\\n                context,\\n            );\\n        }\\n    };\\n    var json_data = {\\\"formatted_vals\\\":[\\\"1\\\",\\\"2\\\",\\\"3\\\",\\\"4\\\",\\\"5\\\",\\\"6\\\",\\\"7\\\",\\\"8\\\",\\\"9\\\",\\\"10\\\",\\\"11\\\",\\\"12\\\",\\\"13\\\",\\\"14\\\",\\\"15\\\",\\\"16\\\",\\\"17\\\",\\\"18\\\",\\\"19\\\",\\\"20\\\",\\\"21\\\",\\\"22\\\",\\\"23\\\",\\\"24\\\",\\\"25\\\",\\\"26\\\",\\\"27\\\",\\\"28\\\",\\\"29\\\",\\\"30\\\",\\\"31\\\",\\\"32\\\",\\\"33\\\",\\\"34\\\",\\\"35\\\",\\\"36\\\",\\\"37\\\",\\\"38\\\",\\\"39\\\",\\\"40\\\",\\\"41\\\",\\\"42\\\",\\\"43\\\",\\\"44\\\",\\\"45\\\",\\\"46\\\",\\\"47\\\",\\\"48\\\",\\\"49\\\",\\\"50\\\",\\\"51\\\",\\\"52\\\",\\\"53\\\",\\\"54\\\",\\\"55\\\",\\\"56\\\",\\\"57\\\",\\\"58\\\",\\\"59\\\",\\\"60\\\",\\\"61\\\",\\\"62\\\",\\\"63\\\",\\\"64\\\",\\\"65\\\",\\\"66\\\",\\\"67\\\",\\\"68\\\",\\\"69\\\",\\\"70\\\",\\\"71\\\",\\\"72\\\",\\\"73\\\",\\\"74\\\",\\\"75\\\",\\\"76\\\",\\\"77\\\",\\\"78\\\",\\\"79\\\",\\\"80\\\",\\\"81\\\",\\\"82\\\",\\\"83\\\",\\\"84\\\",\\\"85\\\",\\\"86\\\",\\\"87\\\",\\\"88\\\",\\\"89\\\",\\\"90\\\",\\\"91\\\",\\\"92\\\",\\\"93\\\",\\\"94\\\",\\\"95\\\",\\\"96\\\",\\\"97\\\",\\\"98\\\",\\\"99\\\",\\\"100\\\",\\\"101\\\",\\\"102\\\",\\\"103\\\",\\\"104\\\",\\\"105\\\",\\\"106\\\",\\\"107\\\",\\\"108\\\",\\\"109\\\",\\\"110\\\",\\\"111\\\",\\\"112\\\",\\\"113\\\",\\\"114\\\",\\\"115\\\",\\\"116\\\",\\\"117\\\",\\\"118\\\",\\\"119\\\",\\\"120\\\",\\\"121\\\",\\\"122\\\",\\\"123\\\",\\\"124\\\",\\\"125\\\",\\\"126\\\",\\\"127\\\",\\\"128\\\",\\\"129\\\",\\\"130\\\",\\\"131\\\",\\\"132\\\",\\\"133\\\",\\\"134\\\",\\\"135\\\",\\\"136\\\",\\\"137\\\",\\\"138\\\",\\\"139\\\",\\\"140\\\",\\\"141\\\",\\\"142\\\",\\\"143\\\",\\\"144\\\",\\\"145\\\",\\\"146\\\",\\\"147\\\",\\\"148\\\",\\\"149\\\",\\\"150\\\",\\\"151\\\",\\\"152\\\",\\\"153\\\",\\\"154\\\",\\\"155\\\",\\\"156\\\",\\\"157\\\",\\\"158\\\",\\\"159\\\",\\\"160\\\",\\\"161\\\",\\\"162\\\",\\\"163\\\",\\\"164\\\",\\\"165\\\",\\\"166\\\",\\\"167\\\",\\\"168\\\",\\\"169\\\",\\\"170\\\",\\\"171\\\",\\\"172\\\",\\\"173\\\",\\\"174\\\",\\\"175\\\",\\\"176\\\",\\\"177\\\",\\\"178\\\",\\\"179\\\",\\\"180\\\",\\\"181\\\",\\\"182\\\",\\\"183\\\",\\\"184\\\",\\\"185\\\",\\\"186\\\",\\\"187\\\",\\\"188\\\",\\\"189\\\",\\\"190\\\",\\\"191\\\",\\\"192\\\",\\\"193\\\",\\\"194\\\",\\\"195\\\",\\\"196\\\",\\\"197\\\",\\\"198\\\",\\\"199\\\",\\\"200\\\",\\\"201\\\",\\\"202\\\",\\\"203\\\",\\\"204\\\",\\\"205\\\",\\\"206\\\",\\\"207\\\",\\\"208\\\",\\\"209\\\",\\\"210\\\",\\\"211\\\",\\\"212\\\",\\\"213\\\",\\\"214\\\",\\\"215\\\",\\\"216\\\",\\\"217\\\",\\\"218\\\",\\\"219\\\",\\\"220\\\",\\\"221\\\",\\\"222\\\",\\\"223\\\",\\\"224\\\",\\\"225\\\",\\\"226\\\",\\\"227\\\",\\\"228\\\",\\\"229\\\",\\\"230\\\",\\\"231\\\",\\\"232\\\",\\\"233\\\",\\\"234\\\",\\\"235\\\",\\\"236\\\",\\\"237\\\",\\\"238\\\",\\\"239\\\",\\\"240\\\",\\\"241\\\",\\\"242\\\",\\\"243\\\",\\\"244\\\",\\\"245\\\",\\\"246\\\",\\\"247\\\",\\\"248\\\",\\\"249\\\",\\\"250\\\",\\\"251\\\",\\\"252\\\",\\\"253\\\",\\\"254\\\",\\\"255\\\",\\\"256\\\",\\\"257\\\",\\\"258\\\",\\\"259\\\",\\\"260\\\",\\\"261\\\",\\\"262\\\",\\\"263\\\",\\\"264\\\",\\\"265\\\",\\\"266\\\",\\\"267\\\",\\\"268\\\",\\\"269\\\",\\\"270\\\",\\\"271\\\",\\\"272\\\",\\\"273\\\",\\\"274\\\",\\\"275\\\",\\\"276\\\",\\\"277\\\",\\\"278\\\",\\\"279\\\",\\\"280\\\",\\\"281\\\",\\\"282\\\",\\\"283\\\",\\\"284\\\",\\\"285\\\",\\\"286\\\",\\\"287\\\",\\\"288\\\",\\\"289\\\",\\\"290\\\",\\\"291\\\",\\\"292\\\",\\\"293\\\",\\\"294\\\",\\\"295\\\",\\\"296\\\",\\\"297\\\",\\\"298\\\",\\\"299\\\",\\\"300\\\",\\\"301\\\",\\\"302\\\",\\\"303\\\",\\\"304\\\",\\\"305\\\",\\\"306\\\",\\\"307\\\",\\\"308\\\",\\\"309\\\",\\\"310\\\",\\\"311\\\",\\\"312\\\",\\\"313\\\",\\\"314\\\",\\\"315\\\",\\\"316\\\",\\\"317\\\",\\\"318\\\",\\\"319\\\",\\\"320\\\",\\\"321\\\",\\\"322\\\",\\\"323\\\",\\\"324\\\",\\\"325\\\",\\\"326\\\",\\\"327\\\",\\\"328\\\",\\\"329\\\",\\\"330\\\",\\\"331\\\",\\\"332\\\",\\\"333\\\",\\\"334\\\",\\\"335\\\",\\\"336\\\",\\\"337\\\",\\\"338\\\",\\\"339\\\",\\\"340\\\",\\\"341\\\",\\\"342\\\",\\\"343\\\",\\\"344\\\",\\\"345\\\",\\\"346\\\",\\\"347\\\",\\\"348\\\",\\\"349\\\",\\\"350\\\",\\\"351\\\",\\\"352\\\",\\\"353\\\",\\\"354\\\",\\\"355\\\",\\\"356\\\",\\\"357\\\",\\\"358\\\",\\\"359\\\",\\\"360\\\",\\\"361\\\",\\\"362\\\",\\\"363\\\",\\\"364\\\",\\\"365\\\",\\\"366\\\",\\\"367\\\",\\\"368\\\",\\\"369\\\",\\\"370\\\",\\\"371\\\",\\\"372\\\",\\\"373\\\",\\\"374\\\",\\\"375\\\",\\\"376\\\",\\\"377\\\",\\\"378\\\",\\\"379\\\",\\\"380\\\",\\\"381\\\",\\\"382\\\",\\\"383\\\",\\\"384\\\",\\\"385\\\",\\\"386\\\",\\\"387\\\",\\\"388\\\",\\\"389\\\",\\\"390\\\",\\\"391\\\",\\\"392\\\",\\\"393\\\",\\\"394\\\",\\\"395\\\",\\\"396\\\",\\\"397\\\",\\\"398\\\",\\\"399\\\",\\\"400\\\"],\\\"changes\\\":WebIO.getval({\\\"name\\\":\\\"changes\\\",\\\"scope\\\":\\\"17170095008382512464\\\",\\\"id\\\":\\\"10355026221025197629\\\",\\\"type\\\":\\\"observable\\\"}),\\\"index\\\":WebIO.getval({\\\"name\\\":\\\"index\\\",\\\"scope\\\":\\\"17170095008382512464\\\",\\\"id\\\":\\\"2098938840393250001\\\",\\\"type\\\":\\\"observable\\\"})};\\n    var self = this;\\n    function AppViewModel() {\\n        for (var key in json_data) {\\n            var el = json_data[key];\\n            this[key] = Array.isArray(el) ? ko.observableArray(el) : ko.observable(el);\\n        }\\n        \\n        [this[\\\"formatted_val\\\"]=ko.computed(    function(){\\n        return this.formatted_vals()[parseInt(this.index())-(1)];\\n    }\\n,this)]\\n        [this[\\\"changes\\\"].subscribe((function (val){!(this.valueFromJulia[\\\"changes\\\"]) ? (WebIO.setval({\\\"name\\\":\\\"changes\\\",\\\"scope\\\":\\\"17170095008382512464\\\",\\\"id\\\":\\\"10355026221025197629\\\",\\\"type\\\":\\\"observable\\\"},val)) : undefined; return this.valueFromJulia[\\\"changes\\\"]=false}),self),this[\\\"index\\\"].subscribe((function (val){!(this.valueFromJulia[\\\"index\\\"]) ? (WebIO.setval({\\\"name\\\":\\\"index\\\",\\\"scope\\\":\\\"17170095008382512464\\\",\\\"id\\\":\\\"2098938840393250001\\\",\\\"type\\\":\\\"observable\\\"},val)) : undefined; return this.valueFromJulia[\\\"index\\\"]=false}),self)]\\n        \\n    }\\n    self.model = new AppViewModel();\\n    self.valueFromJulia = {};\\n    for (var key in json_data) {\\n        self.valueFromJulia[key] = false;\\n    }\\n    ko.applyBindings(self.model, self.dom);\\n}\\n);\\n    (WebIO.importBlock({\\\"data\\\":[{\\\"name\\\":\\\"knockout\\\",\\\"type\\\":\\\"js\\\",\\\"url\\\":\\\"\\/assetserver\\/727383f2a47bd31570b7da84eee7b022dd6d7c78-knockout.js\\\"},{\\\"name\\\":\\\"knockout_punches\\\",\\\"type\\\":\\\"js\\\",\\\"url\\\":\\\"\\/assetserver\\/382b41b3b1bd9f26f75861d360bad7f8beea211f-knockout_punches.js\\\"}],\\\"type\\\":\\\"async_block\\\"})).then((imports) => handler.apply(this, imports));\\n}\\n\"],\"observables\":{\"changes\":{\"sync\":false,\"id\":\"10355026221025197629\",\"value\":0},\"index\":{\"sync\":true,\"id\":\"2098938840393250001\",\"value\":1}}},\"children\":[{\"props\":{\"className\":\"interact-flex-row interact-widget\"},\"nodeType\":\"DOM\",\"type\":\"node\",\"instanceArgs\":{\"namespace\":\"html\",\"tag\":\"div\"},\"children\":[{\"props\":{\"className\":\"interact-flex-row-left\"},\"nodeType\":\"DOM\",\"type\":\"node\",\"instanceArgs\":{\"namespace\":\"html\",\"tag\":\"div\"},\"children\":[{\"props\":{\"className\":\"interact \",\"style\":{\"padding\":\"5px 10px 0px 10px\"}},\"nodeType\":\"DOM\",\"type\":\"node\",\"instanceArgs\":{\"namespace\":\"html\",\"tag\":\"label\"},\"children\":[\"time\"]}]},{\"props\":{\"className\":\"interact-flex-row-center\"},\"nodeType\":\"DOM\",\"type\":\"node\",\"instanceArgs\":{\"namespace\":\"html\",\"tag\":\"div\"},\"children\":[{\"props\":{\"max\":400,\"min\":1,\"attributes\":{\"type\":\"range\",\"data-bind\":\"numericValue: index, valueUpdate: 'input', event: {change: function (){this.changes(this.changes()+1)}}\",\"orient\":\"horizontal\"},\"step\":1,\"className\":\"slider slider is-fullwidth\",\"style\":{}},\"nodeType\":\"DOM\",\"type\":\"node\",\"instanceArgs\":{\"namespace\":\"html\",\"tag\":\"input\"},\"children\":[]}]},{\"props\":{\"className\":\"interact-flex-row-right\"},\"nodeType\":\"DOM\",\"type\":\"node\",\"instanceArgs\":{\"namespace\":\"html\",\"tag\":\"div\"},\"children\":[{\"props\":{\"attributes\":{\"data-bind\":\"text: formatted_val\"}},\"nodeType\":\"DOM\",\"type\":\"node\",\"instanceArgs\":{\"namespace\":\"html\",\"tag\":\"p\"},\"children\":[]}]}]}]}]},{\"props\":{\"className\":\"field interact-widget\"},\"nodeType\":\"DOM\",\"type\":\"node\",\"instanceArgs\":{\"namespace\":\"html\",\"tag\":\"div\"},\"children\":[{\"props\":{},\"nodeType\":\"Scope\",\"type\":\"node\",\"instanceArgs\":{\"imports\":{\"data\":[{\"name\":\"knockout\",\"type\":\"js\",\"url\":\"\\/assetserver\\/727383f2a47bd31570b7da84eee7b022dd6d7c78-knockout.js\"},{\"name\":\"knockout_punches\",\"type\":\"js\",\"url\":\"\\/assetserver\\/382b41b3b1bd9f26f75861d360bad7f8beea211f-knockout_punches.js\"},{\"name\":null,\"type\":\"js\",\"url\":\"\\/assetserver\\/5ab20f1060420992a9b82a65b735dee4d81ef413-all.js\"},{\"name\":null,\"type\":\"css\",\"url\":\"\\/assetserver\\/1cc0ed62837210b80a182cc3676512f895dab686-style.css\"},{\"name\":null,\"type\":\"css\",\"url\":\"\\/assetserver\\/2eee816f616df3549d7044d45e744fbf8d42bfa1-bulma_confined.min.css\"}],\"type\":\"async_block\"},\"id\":\"10265148893821113329\",\"handlers\":{\"changes\":[\"(function (val){return (val!=this.model[\\\"changes\\\"]()) ? (this.valueFromJulia[\\\"changes\\\"]=true, this.model[\\\"changes\\\"](val)) : undefined})\"],\"index\":[\"(function (val){return (val!=this.model[\\\"index\\\"]()) ? (this.valueFromJulia[\\\"index\\\"]=true, this.model[\\\"index\\\"](val)) : undefined})\"]},\"systemjs_options\":null,\"mount_callbacks\":[\"function () {\\n    var handler = (function (ko, koPunches) {\\n    ko.punches.enableAll();\\n    ko.bindingHandlers.numericValue = {\\n        init: function(element, valueAccessor, allBindings, data, context) {\\n            var stringified = ko.observable(ko.unwrap(valueAccessor()));\\n            stringified.subscribe(function(value) {\\n                var val = parseFloat(value);\\n                if (!isNaN(val)) {\\n                    valueAccessor()(val);\\n                }\\n            });\\n            valueAccessor().subscribe(function(value) {\\n                var str = JSON.stringify(value);\\n                if ((str == \\\"0\\\") && ([\\\"-0\\\", \\\"-0.\\\"].indexOf(stringified()) >= 0))\\n                     return;\\n                 if ([\\\"null\\\", \\\"\\\"].indexOf(str) >= 0)\\n                     return;\\n                stringified(str);\\n            });\\n            ko.applyBindingsToNode(\\n                element,\\n                {\\n                    value: stringified,\\n                    valueUpdate: allBindings.get('valueUpdate'),\\n                },\\n                context,\\n            );\\n        }\\n    };\\n    var json_data = {\\\"formatted_vals\\\":[\\\"0.1\\\",\\\"0.2\\\",\\\"0.3\\\",\\\"0.4\\\",\\\"0.5\\\",\\\"0.6\\\",\\\"0.7\\\",\\\"0.8\\\",\\\"0.9\\\",\\\"1.0\\\",\\\"1.1\\\",\\\"1.2\\\",\\\"1.3\\\",\\\"1.4\\\",\\\"1.5\\\",\\\"1.6\\\",\\\"1.7\\\",\\\"1.8\\\",\\\"1.9\\\",\\\"2.0\\\"],\\\"changes\\\":WebIO.getval({\\\"name\\\":\\\"changes\\\",\\\"scope\\\":\\\"10265148893821113329\\\",\\\"id\\\":\\\"8212634129073952642\\\",\\\"type\\\":\\\"observable\\\"}),\\\"index\\\":WebIO.getval({\\\"name\\\":\\\"index\\\",\\\"scope\\\":\\\"10265148893821113329\\\",\\\"id\\\":\\\"10965154374008550338\\\",\\\"type\\\":\\\"observable\\\"})};\\n    var self = this;\\n    function AppViewModel() {\\n        for (var key in json_data) {\\n            var el = json_data[key];\\n            this[key] = Array.isArray(el) ? ko.observableArray(el) : ko.observable(el);\\n        }\\n        \\n        [this[\\\"formatted_val\\\"]=ko.computed(    function(){\\n        return this.formatted_vals()[parseInt(this.index())-(1)];\\n    }\\n,this)]\\n        [this[\\\"changes\\\"].subscribe((function (val){!(this.valueFromJulia[\\\"changes\\\"]) ? (WebIO.setval({\\\"name\\\":\\\"changes\\\",\\\"scope\\\":\\\"10265148893821113329\\\",\\\"id\\\":\\\"8212634129073952642\\\",\\\"type\\\":\\\"observable\\\"},val)) : undefined; return this.valueFromJulia[\\\"changes\\\"]=false}),self),this[\\\"index\\\"].subscribe((function (val){!(this.valueFromJulia[\\\"index\\\"]) ? (WebIO.setval({\\\"name\\\":\\\"index\\\",\\\"scope\\\":\\\"10265148893821113329\\\",\\\"id\\\":\\\"10965154374008550338\\\",\\\"type\\\":\\\"observable\\\"},val)) : undefined; return this.valueFromJulia[\\\"index\\\"]=false}),self)]\\n        \\n    }\\n    self.model = new AppViewModel();\\n    self.valueFromJulia = {};\\n    for (var key in json_data) {\\n        self.valueFromJulia[key] = false;\\n    }\\n    ko.applyBindings(self.model, self.dom);\\n}\\n);\\n    (WebIO.importBlock({\\\"data\\\":[{\\\"name\\\":\\\"knockout\\\",\\\"type\\\":\\\"js\\\",\\\"url\\\":\\\"\\/assetserver\\/727383f2a47bd31570b7da84eee7b022dd6d7c78-knockout.js\\\"},{\\\"name\\\":\\\"knockout_punches\\\",\\\"type\\\":\\\"js\\\",\\\"url\\\":\\\"\\/assetserver\\/382b41b3b1bd9f26f75861d360bad7f8beea211f-knockout_punches.js\\\"}],\\\"type\\\":\\\"async_block\\\"})).then((imports) => handler.apply(this, imports));\\n}\\n\"],\"observables\":{\"changes\":{\"sync\":false,\"id\":\"8212634129073952642\",\"value\":0},\"index\":{\"sync\":true,\"id\":\"10965154374008550338\",\"value\":10}}},\"children\":[{\"props\":{\"className\":\"interact-flex-row interact-widget\"},\"nodeType\":\"DOM\",\"type\":\"node\",\"instanceArgs\":{\"namespace\":\"html\",\"tag\":\"div\"},\"children\":[{\"props\":{\"className\":\"interact-flex-row-left\"},\"nodeType\":\"DOM\",\"type\":\"node\",\"instanceArgs\":{\"namespace\":\"html\",\"tag\":\"div\"},\"children\":[{\"props\":{\"className\":\"interact \",\"style\":{\"padding\":\"5px 10px 0px 10px\"}},\"nodeType\":\"DOM\",\"type\":\"node\",\"instanceArgs\":{\"namespace\":\"html\",\"tag\":\"label\"},\"children\":[\"scale\"]}]},{\"props\":{\"className\":\"interact-flex-row-center\"},\"nodeType\":\"DOM\",\"type\":\"node\",\"instanceArgs\":{\"namespace\":\"html\",\"tag\":\"div\"},\"children\":[{\"props\":{\"max\":20,\"min\":1,\"attributes\":{\"type\":\"range\",\"data-bind\":\"numericValue: index, valueUpdate: 'input', event: {change: function (){this.changes(this.changes()+1)}}\",\"orient\":\"horizontal\"},\"step\":1,\"className\":\"slider slider is-fullwidth\",\"style\":{}},\"nodeType\":\"DOM\",\"type\":\"node\",\"instanceArgs\":{\"namespace\":\"html\",\"tag\":\"input\"},\"children\":[]}]},{\"props\":{\"className\":\"interact-flex-row-right\"},\"nodeType\":\"DOM\",\"type\":\"node\",\"instanceArgs\":{\"namespace\":\"html\",\"tag\":\"div\"},\"children\":[{\"props\":{\"attributes\":{\"data-bind\":\"text: formatted_val\"}},\"nodeType\":\"DOM\",\"type\":\"node\",\"instanceArgs\":{\"namespace\":\"html\",\"tag\":\"p\"},\"children\":[]}]}]}]}]},{\"props\":{\"style\":{\"display\":\"flex\",\"flex-direction\":\"column\"}},\"nodeType\":\"DOM\",\"type\":\"node\",\"instanceArgs\":{\"namespace\":\"html\",\"tag\":\"div\"},\"children\":[]},{\"props\":{\"style\":{\"display\":\"flex\",\"flex-direction\":\"column\"}},\"nodeType\":\"DOM\",\"type\":\"node\",\"instanceArgs\":{\"namespace\":\"html\",\"tag\":\"div\"},\"children\":[{\"props\":{\"className\":\"field interact-widget\"},\"nodeType\":\"DOM\",\"type\":\"node\",\"instanceArgs\":{\"namespace\":\"html\",\"tag\":\"div\"},\"children\":[{\"props\":{},\"nodeType\":\"Scope\",\"type\":\"node\",\"instanceArgs\":{\"imports\":{\"data\":[{\"name\":\"knockout\",\"type\":\"js\",\"url\":\"\\/assetserver\\/727383f2a47bd31570b7da84eee7b022dd6d7c78-knockout.js\"},{\"name\":\"knockout_punches\",\"type\":\"js\",\"url\":\"\\/assetserver\\/382b41b3b1bd9f26f75861d360bad7f8beea211f-knockout_punches.js\"},{\"name\":null,\"type\":\"js\",\"url\":\"\\/assetserver\\/5ab20f1060420992a9b82a65b735dee4d81ef413-all.js\"},{\"name\":null,\"type\":\"css\",\"url\":\"\\/assetserver\\/1cc0ed62837210b80a182cc3676512f895dab686-style.css\"},{\"name\":null,\"type\":\"css\",\"url\":\"\\/assetserver\\/2eee816f616df3549d7044d45e744fbf8d42bfa1-bulma_confined.min.css\"}],\"type\":\"async_block\"},\"id\":\"17801148828286304714\",\"handlers\":{\"changes\":[\"(function (val){return (val!=this.model[\\\"changes\\\"]()) ? (this.valueFromJulia[\\\"changes\\\"]=true, this.model[\\\"changes\\\"](val)) : undefined})\"],\"index\":[\"(function (val){return (val!=this.model[\\\"index\\\"]()) ? (this.valueFromJulia[\\\"index\\\"]=true, this.model[\\\"index\\\"](val)) : undefined})\"]},\"systemjs_options\":null,\"mount_callbacks\":[\"function () {\\n    var handler = (function (ko, koPunches) {\\n    ko.punches.enableAll();\\n    ko.bindingHandlers.numericValue = {\\n        init: function(element, valueAccessor, allBindings, data, context) {\\n            var stringified = ko.observable(ko.unwrap(valueAccessor()));\\n            stringified.subscribe(function(value) {\\n                var val = parseFloat(value);\\n                if (!isNaN(val)) {\\n                    valueAccessor()(val);\\n                }\\n            });\\n            valueAccessor().subscribe(function(value) {\\n                var str = JSON.stringify(value);\\n                if ((str == \\\"0\\\") && ([\\\"-0\\\", \\\"-0.\\\"].indexOf(stringified()) >= 0))\\n                     return;\\n                 if ([\\\"null\\\", \\\"\\\"].indexOf(str) >= 0)\\n                     return;\\n                stringified(str);\\n            });\\n            ko.applyBindingsToNode(\\n                element,\\n                {\\n                    value: stringified,\\n                    valueUpdate: allBindings.get('valueUpdate'),\\n                },\\n                context,\\n            );\\n        }\\n    };\\n    var json_data = {\\\"formatted_vals\\\":[\\\"1\\\",\\\"2\\\",\\\"3\\\",\\\"4\\\",\\\"5\\\",\\\"6\\\",\\\"7\\\",\\\"8\\\"],\\\"changes\\\":WebIO.getval({\\\"name\\\":\\\"changes\\\",\\\"scope\\\":\\\"17801148828286304714\\\",\\\"id\\\":\\\"7062196156544671619\\\",\\\"type\\\":\\\"observable\\\"}),\\\"index\\\":WebIO.getval({\\\"name\\\":\\\"index\\\",\\\"scope\\\":\\\"17801148828286304714\\\",\\\"id\\\":\\\"48840778856784315\\\",\\\"type\\\":\\\"observable\\\"})};\\n    var self = this;\\n    function AppViewModel() {\\n        for (var key in json_data) {\\n            var el = json_data[key];\\n            this[key] = Array.isArray(el) ? ko.observableArray(el) : ko.observable(el);\\n        }\\n        \\n        [this[\\\"formatted_val\\\"]=ko.computed(    function(){\\n        return this.formatted_vals()[parseInt(this.index())-(1)];\\n    }\\n,this)]\\n        [this[\\\"changes\\\"].subscribe((function (val){!(this.valueFromJulia[\\\"changes\\\"]) ? (WebIO.setval({\\\"name\\\":\\\"changes\\\",\\\"scope\\\":\\\"17801148828286304714\\\",\\\"id\\\":\\\"7062196156544671619\\\",\\\"type\\\":\\\"observable\\\"},val)) : undefined; return this.valueFromJulia[\\\"changes\\\"]=false}),self),this[\\\"index\\\"].subscribe((function (val){!(this.valueFromJulia[\\\"index\\\"]) ? (WebIO.setval({\\\"name\\\":\\\"index\\\",\\\"scope\\\":\\\"17801148828286304714\\\",\\\"id\\\":\\\"48840778856784315\\\",\\\"type\\\":\\\"observable\\\"},val)) : undefined; return this.valueFromJulia[\\\"index\\\"]=false}),self)]\\n        \\n    }\\n    self.model = new AppViewModel();\\n    self.valueFromJulia = {};\\n    for (var key in json_data) {\\n        self.valueFromJulia[key] = false;\\n    }\\n    ko.applyBindings(self.model, self.dom);\\n}\\n);\\n    (WebIO.importBlock({\\\"data\\\":[{\\\"name\\\":\\\"knockout\\\",\\\"type\\\":\\\"js\\\",\\\"url\\\":\\\"\\/assetserver\\/727383f2a47bd31570b7da84eee7b022dd6d7c78-knockout.js\\\"},{\\\"name\\\":\\\"knockout_punches\\\",\\\"type\\\":\\\"js\\\",\\\"url\\\":\\\"\\/assetserver\\/382b41b3b1bd9f26f75861d360bad7f8beea211f-knockout_punches.js\\\"}],\\\"type\\\":\\\"async_block\\\"})).then((imports) => handler.apply(this, imports));\\n}\\n\"],\"observables\":{\"changes\":{\"sync\":false,\"id\":\"7062196156544671619\",\"value\":0},\"index\":{\"sync\":true,\"id\":\"48840778856784315\",\"value\":4}}},\"children\":[{\"props\":{\"className\":\"interact-flex-row interact-widget\"},\"nodeType\":\"DOM\",\"type\":\"node\",\"instanceArgs\":{\"namespace\":\"html\",\"tag\":\"div\"},\"children\":[{\"props\":{\"className\":\"interact-flex-row-left\"},\"nodeType\":\"DOM\",\"type\":\"node\",\"instanceArgs\":{\"namespace\":\"html\",\"tag\":\"div\"},\"children\":[{\"props\":{\"className\":\"interact \",\"style\":{\"padding\":\"5px 10px 0px 10px\"}},\"nodeType\":\"DOM\",\"type\":\"node\",\"instanceArgs\":{\"namespace\":\"html\",\"tag\":\"label\"},\"children\":[\"threshold\"]}]},{\"props\":{\"className\":\"interact-flex-row-center\"},\"nodeType\":\"DOM\",\"type\":\"node\",\"instanceArgs\":{\"namespace\":\"html\",\"tag\":\"div\"},\"children\":[{\"props\":{\"max\":8,\"min\":1,\"attributes\":{\"type\":\"range\",\"data-bind\":\"numericValue: index, valueUpdate: 'input', event: {change: function (){this.changes(this.changes()+1)}}\",\"orient\":\"horizontal\"},\"step\":1,\"className\":\"slider slider is-fullwidth\",\"style\":{}},\"nodeType\":\"DOM\",\"type\":\"node\",\"instanceArgs\":{\"namespace\":\"html\",\"tag\":\"input\"},\"children\":[]}]},{\"props\":{\"className\":\"interact-flex-row-right\"},\"nodeType\":\"DOM\",\"type\":\"node\",\"instanceArgs\":{\"namespace\":\"html\",\"tag\":\"div\"},\"children\":[{\"props\":{\"attributes\":{\"data-bind\":\"text: formatted_val\"}},\"nodeType\":\"DOM\",\"type\":\"node\",\"instanceArgs\":{\"namespace\":\"html\",\"tag\":\"p\"},\"children\":[]}]}]}]}]}]},{\"props\":{\"style\":{\"display\":\"flex\",\"flex-direction\":\"row\"}},\"nodeType\":\"DOM\",\"type\":\"node\",\"instanceArgs\":{\"namespace\":\"html\",\"tag\":\"div\"},\"children\":[{\"props\":{\"className\":\"interact-widget\"},\"nodeType\":\"DOM\",\"type\":\"node\",\"instanceArgs\":{\"namespace\":\"html\",\"tag\":\"div\"},\"children\":[{\"props\":{},\"nodeType\":\"Scope\",\"type\":\"node\",\"instanceArgs\":{\"imports\":{\"data\":[{\"name\":null,\"type\":\"js\",\"url\":\"\\/assetserver\\/dd22ed1bf1896c2748f3fe616ce0b838adc895c1-katex.min.js\"},{\"name\":null,\"type\":\"css\",\"url\":\"\\/assetserver\\/46517a424aa5e6cffc1360d7e0848b601c584ee3-katex.min.css\"}],\"type\":\"async_block\"},\"id\":\"8760332166755244193\",\"handlers\":{\"value\":[\"(function (txt){return this.k.render(txt,this.container)})\"]},\"systemjs_options\":null,\"mount_callbacks\":[\"function () {\\n    var handler = ((function (k){this.k=k; this.container=this.dom.querySelector(\\\"#container\\\"); return k.render(\\\"\\\\\\\\;\\\\\\\\;\\\",this.container)}));\\n    (WebIO.importBlock({\\\"data\\\":[{\\\"name\\\":null,\\\"type\\\":\\\"js\\\",\\\"url\\\":\\\"\\/assetserver\\/dd22ed1bf1896c2748f3fe616ce0b838adc895c1-katex.min.js\\\"},{\\\"name\\\":null,\\\"type\\\":\\\"css\\\",\\\"url\\\":\\\"\\/assetserver\\/46517a424aa5e6cffc1360d7e0848b601c584ee3-katex.min.css\\\"}],\\\"type\\\":\\\"async_block\\\"})).then((imports) => handler.apply(this, imports));\\n}\\n\"],\"observables\":{\"value\":{\"sync\":false,\"id\":\"2906820142430665371\",\"value\":\"\\\\;\\\\;\"}}},\"children\":[{\"props\":{\"id\":\"container\"},\"nodeType\":\"DOM\",\"type\":\"node\",\"instanceArgs\":{\"namespace\":\"html\",\"tag\":\"div\"},\"children\":[]}]}]},{\"props\":{\"className\":\"field interact-widget\"},\"nodeType\":\"DOM\",\"type\":\"node\",\"instanceArgs\":{\"namespace\":\"html\",\"tag\":\"div\"},\"children\":[{\"props\":{},\"nodeType\":\"Scope\",\"type\":\"node\",\"instanceArgs\":{\"imports\":{\"data\":[{\"name\":\"knockout\",\"type\":\"js\",\"url\":\"\\/assetserver\\/727383f2a47bd31570b7da84eee7b022dd6d7c78-knockout.js\"},{\"name\":\"knockout_punches\",\"type\":\"js\",\"url\":\"\\/assetserver\\/382b41b3b1bd9f26f75861d360bad7f8beea211f-knockout_punches.js\"},{\"name\":null,\"type\":\"js\",\"url\":\"\\/assetserver\\/5ab20f1060420992a9b82a65b735dee4d81ef413-all.js\"},{\"name\":null,\"type\":\"css\",\"url\":\"\\/assetserver\\/1cc0ed62837210b80a182cc3676512f895dab686-style.css\"},{\"name\":null,\"type\":\"css\",\"url\":\"\\/assetserver\\/2eee816f616df3549d7044d45e744fbf8d42bfa1-bulma_confined.min.css\"}],\"type\":\"async_block\"},\"id\":\"14337517423416751744\",\"handlers\":{\"loading\":[\"(function (val){return (val!=this.model[\\\"loading\\\"]()) ? (this.valueFromJulia[\\\"loading\\\"]=true, this.model[\\\"loading\\\"](val)) : undefined})\"],\"clicks\":[\"(function (val){return (val!=this.model[\\\"clicks\\\"]()) ? (this.valueFromJulia[\\\"clicks\\\"]=true, this.model[\\\"clicks\\\"](val)) : undefined})\"]},\"systemjs_options\":null,\"mount_callbacks\":[\"function () {\\n    var handler = (function (ko, koPunches) {\\n    ko.punches.enableAll();\\n    ko.bindingHandlers.numericValue = {\\n        init: function(element, valueAccessor, allBindings, data, context) {\\n            var stringified = ko.observable(ko.unwrap(valueAccessor()));\\n            stringified.subscribe(function(value) {\\n                var val = parseFloat(value);\\n                if (!isNaN(val)) {\\n                    valueAccessor()(val);\\n                }\\n            });\\n            valueAccessor().subscribe(function(value) {\\n                var str = JSON.stringify(value);\\n                if ((str == \\\"0\\\") && ([\\\"-0\\\", \\\"-0.\\\"].indexOf(stringified()) >= 0))\\n                     return;\\n                 if ([\\\"null\\\", \\\"\\\"].indexOf(str) >= 0)\\n                     return;\\n                stringified(str);\\n            });\\n            ko.applyBindingsToNode(\\n                element,\\n                {\\n                    value: stringified,\\n                    valueUpdate: allBindings.get('valueUpdate'),\\n                },\\n                context,\\n            );\\n        }\\n    };\\n    var json_data = {\\\"loading\\\":WebIO.getval({\\\"name\\\":\\\"loading\\\",\\\"scope\\\":\\\"14337517423416751744\\\",\\\"id\\\":\\\"10565832053117284244\\\",\\\"type\\\":\\\"observable\\\"}),\\\"clicks\\\":WebIO.getval({\\\"name\\\":\\\"clicks\\\",\\\"scope\\\":\\\"14337517423416751744\\\",\\\"id\\\":\\\"6598328723306260973\\\",\\\"type\\\":\\\"observable\\\"})};\\n    var self = this;\\n    function AppViewModel() {\\n        for (var key in json_data) {\\n            var el = json_data[key];\\n            this[key] = Array.isArray(el) ? ko.observableArray(el) : ko.observable(el);\\n        }\\n        \\n        \\n        [this[\\\"loading\\\"].subscribe((function (val){!(this.valueFromJulia[\\\"loading\\\"]) ? (WebIO.setval({\\\"name\\\":\\\"loading\\\",\\\"scope\\\":\\\"14337517423416751744\\\",\\\"id\\\":\\\"10565832053117284244\\\",\\\"type\\\":\\\"observable\\\"},val)) : undefined; return this.valueFromJulia[\\\"loading\\\"]=false}),self),this[\\\"clicks\\\"].subscribe((function (val){!(this.valueFromJulia[\\\"clicks\\\"]) ? (WebIO.setval({\\\"name\\\":\\\"clicks\\\",\\\"scope\\\":\\\"14337517423416751744\\\",\\\"id\\\":\\\"6598328723306260973\\\",\\\"type\\\":\\\"observable\\\"},val)) : undefined; return this.valueFromJulia[\\\"clicks\\\"]=false}),self)]\\n        \\n    }\\n    self.model = new AppViewModel();\\n    self.valueFromJulia = {};\\n    for (var key in json_data) {\\n        self.valueFromJulia[key] = false;\\n    }\\n    ko.applyBindings(self.model, self.dom);\\n}\\n);\\n    (WebIO.importBlock({\\\"data\\\":[{\\\"name\\\":\\\"knockout\\\",\\\"type\\\":\\\"js\\\",\\\"url\\\":\\\"\\/assetserver\\/727383f2a47bd31570b7da84eee7b022dd6d7c78-knockout.js\\\"},{\\\"name\\\":\\\"knockout_punches\\\",\\\"type\\\":\\\"js\\\",\\\"url\\\":\\\"\\/assetserver\\/382b41b3b1bd9f26f75861d360bad7f8beea211f-knockout_punches.js\\\"}],\\\"type\\\":\\\"async_block\\\"})).then((imports) => handler.apply(this, imports));\\n}\\n\"],\"observables\":{\"loading\":{\"sync\":false,\"id\":\"10565832053117284244\",\"value\":false},\"clicks\":{\"sync\":true,\"id\":\"6598328723306260973\",\"value\":0}}},\"children\":[{\"props\":{\"attributes\":{\"data-bind\":\"click: function (){this.clicks(this.clicks()+1)}, css: {'is-loading' : loading}\"},\"className\":\"is-medium button is-primary\",\"style\":{}},\"nodeType\":\"DOM\",\"type\":\"node\",\"instanceArgs\":{\"namespace\":\"html\",\"tag\":\"button\"},\"children\":[\"run\"]}]}]},{\"props\":{\"className\":\"interact-widget\"},\"nodeType\":\"DOM\",\"type\":\"node\",\"instanceArgs\":{\"namespace\":\"html\",\"tag\":\"div\"},\"children\":[{\"props\":{},\"nodeType\":\"Scope\",\"type\":\"node\",\"instanceArgs\":{\"imports\":{\"data\":[{\"name\":null,\"type\":\"js\",\"url\":\"\\/assetserver\\/dd22ed1bf1896c2748f3fe616ce0b838adc895c1-katex.min.js\"},{\"name\":null,\"type\":\"css\",\"url\":\"\\/assetserver\\/46517a424aa5e6cffc1360d7e0848b601c584ee3-katex.min.css\"}],\"type\":\"async_block\"},\"id\":\"8760332166755244193\",\"handlers\":{\"value\":[\"(function (txt){return this.k.render(txt,this.container)})\"]},\"systemjs_options\":null,\"mount_callbacks\":[\"function () {\\n    var handler = ((function (k){this.k=k; this.container=this.dom.querySelector(\\\"#container\\\"); return k.render(\\\"\\\\\\\\;\\\\\\\\;\\\",this.container)}));\\n    (WebIO.importBlock({\\\"data\\\":[{\\\"name\\\":null,\\\"type\\\":\\\"js\\\",\\\"url\\\":\\\"\\/assetserver\\/dd22ed1bf1896c2748f3fe616ce0b838adc895c1-katex.min.js\\\"},{\\\"name\\\":null,\\\"type\\\":\\\"css\\\",\\\"url\\\":\\\"\\/assetserver\\/46517a424aa5e6cffc1360d7e0848b601c584ee3-katex.min.css\\\"}],\\\"type\\\":\\\"async_block\\\"})).then((imports) => handler.apply(this, imports));\\n}\\n\"],\"observables\":{\"value\":{\"sync\":false,\"id\":\"2906820142430665371\",\"value\":\"\\\\;\\\\;\"}}},\"children\":[{\"props\":{\"id\":\"container\"},\"nodeType\":\"DOM\",\"type\":\"node\",\"instanceArgs\":{\"namespace\":\"html\",\"tag\":\"div\"},\"children\":[]}]}]},{\"props\":{\"className\":\"field interact-widget\"},\"nodeType\":\"DOM\",\"type\":\"node\",\"instanceArgs\":{\"namespace\":\"html\",\"tag\":\"div\"},\"children\":[{\"props\":{},\"nodeType\":\"Scope\",\"type\":\"node\",\"instanceArgs\":{\"imports\":{\"data\":[{\"name\":\"knockout\",\"type\":\"js\",\"url\":\"\\/assetserver\\/727383f2a47bd31570b7da84eee7b022dd6d7c78-knockout.js\"},{\"name\":\"knockout_punches\",\"type\":\"js\",\"url\":\"\\/assetserver\\/382b41b3b1bd9f26f75861d360bad7f8beea211f-knockout_punches.js\"},{\"name\":null,\"type\":\"js\",\"url\":\"\\/assetserver\\/5ab20f1060420992a9b82a65b735dee4d81ef413-all.js\"},{\"name\":null,\"type\":\"css\",\"url\":\"\\/assetserver\\/1cc0ed62837210b80a182cc3676512f895dab686-style.css\"},{\"name\":null,\"type\":\"css\",\"url\":\"\\/assetserver\\/2eee816f616df3549d7044d45e744fbf8d42bfa1-bulma_confined.min.css\"}],\"type\":\"async_block\"},\"id\":\"1609271401452875011\",\"handlers\":{\"loading\":[\"(function (val){return (val!=this.model[\\\"loading\\\"]()) ? (this.valueFromJulia[\\\"loading\\\"]=true, this.model[\\\"loading\\\"](val)) : undefined})\"],\"clicks\":[\"(function (val){return (val!=this.model[\\\"clicks\\\"]()) ? (this.valueFromJulia[\\\"clicks\\\"]=true, this.model[\\\"clicks\\\"](val)) : undefined})\"]},\"systemjs_options\":null,\"mount_callbacks\":[\"function () {\\n    var handler = (function (ko, koPunches) {\\n    ko.punches.enableAll();\\n    ko.bindingHandlers.numericValue = {\\n        init: function(element, valueAccessor, allBindings, data, context) {\\n            var stringified = ko.observable(ko.unwrap(valueAccessor()));\\n            stringified.subscribe(function(value) {\\n                var val = parseFloat(value);\\n                if (!isNaN(val)) {\\n                    valueAccessor()(val);\\n                }\\n            });\\n            valueAccessor().subscribe(function(value) {\\n                var str = JSON.stringify(value);\\n                if ((str == \\\"0\\\") && ([\\\"-0\\\", \\\"-0.\\\"].indexOf(stringified()) >= 0))\\n                     return;\\n                 if ([\\\"null\\\", \\\"\\\"].indexOf(str) >= 0)\\n                     return;\\n                stringified(str);\\n            });\\n            ko.applyBindingsToNode(\\n                element,\\n                {\\n                    value: stringified,\\n                    valueUpdate: allBindings.get('valueUpdate'),\\n                },\\n                context,\\n            );\\n        }\\n    };\\n    var json_data = {\\\"loading\\\":WebIO.getval({\\\"name\\\":\\\"loading\\\",\\\"scope\\\":\\\"1609271401452875011\\\",\\\"id\\\":\\\"886133317242514752\\\",\\\"type\\\":\\\"observable\\\"}),\\\"clicks\\\":WebIO.getval({\\\"name\\\":\\\"clicks\\\",\\\"scope\\\":\\\"1609271401452875011\\\",\\\"id\\\":\\\"3256067798587017689\\\",\\\"type\\\":\\\"observable\\\"})};\\n    var self = this;\\n    function AppViewModel() {\\n        for (var key in json_data) {\\n            var el = json_data[key];\\n            this[key] = Array.isArray(el) ? ko.observableArray(el) : ko.observable(el);\\n        }\\n        \\n        \\n        [this[\\\"loading\\\"].subscribe((function (val){!(this.valueFromJulia[\\\"loading\\\"]) ? (WebIO.setval({\\\"name\\\":\\\"loading\\\",\\\"scope\\\":\\\"1609271401452875011\\\",\\\"id\\\":\\\"886133317242514752\\\",\\\"type\\\":\\\"observable\\\"},val)) : undefined; return this.valueFromJulia[\\\"loading\\\"]=false}),self),this[\\\"clicks\\\"].subscribe((function (val){!(this.valueFromJulia[\\\"clicks\\\"]) ? (WebIO.setval({\\\"name\\\":\\\"clicks\\\",\\\"scope\\\":\\\"1609271401452875011\\\",\\\"id\\\":\\\"3256067798587017689\\\",\\\"type\\\":\\\"observable\\\"},val)) : undefined; return this.valueFromJulia[\\\"clicks\\\"]=false}),self)]\\n        \\n    }\\n    self.model = new AppViewModel();\\n    self.valueFromJulia = {};\\n    for (var key in json_data) {\\n        self.valueFromJulia[key] = false;\\n    }\\n    ko.applyBindings(self.model, self.dom);\\n}\\n);\\n    (WebIO.importBlock({\\\"data\\\":[{\\\"name\\\":\\\"knockout\\\",\\\"type\\\":\\\"js\\\",\\\"url\\\":\\\"\\/assetserver\\/727383f2a47bd31570b7da84eee7b022dd6d7c78-knockout.js\\\"},{\\\"name\\\":\\\"knockout_punches\\\",\\\"type\\\":\\\"js\\\",\\\"url\\\":\\\"\\/assetserver\\/382b41b3b1bd9f26f75861d360bad7f8beea211f-knockout_punches.js\\\"}],\\\"type\\\":\\\"async_block\\\"})).then((imports) => handler.apply(this, imports));\\n}\\n\"],\"observables\":{\"loading\":{\"sync\":false,\"id\":\"886133317242514752\",\"value\":false},\"clicks\":{\"sync\":true,\"id\":\"3256067798587017689\",\"value\":0}}},\"children\":[{\"props\":{\"attributes\":{\"data-bind\":\"click: function (){this.clicks(this.clicks()+1)}, css: {'is-loading' : loading}\"},\"className\":\"is-medium button is-primary\",\"style\":{}},\"nodeType\":\"DOM\",\"type\":\"node\",\"instanceArgs\":{\"namespace\":\"html\",\"tag\":\"button\"},\"children\":[\"stop\"]}]}]},{\"props\":{\"className\":\"interact-widget\"},\"nodeType\":\"DOM\",\"type\":\"node\",\"instanceArgs\":{\"namespace\":\"html\",\"tag\":\"div\"},\"children\":[{\"props\":{},\"nodeType\":\"Scope\",\"type\":\"node\",\"instanceArgs\":{\"imports\":{\"data\":[{\"name\":null,\"type\":\"js\",\"url\":\"\\/assetserver\\/dd22ed1bf1896c2748f3fe616ce0b838adc895c1-katex.min.js\"},{\"name\":null,\"type\":\"css\",\"url\":\"\\/assetserver\\/46517a424aa5e6cffc1360d7e0848b601c584ee3-katex.min.css\"}],\"type\":\"async_block\"},\"id\":\"8760332166755244193\",\"handlers\":{\"value\":[\"(function (txt){return this.k.render(txt,this.container)})\"]},\"systemjs_options\":null,\"mount_callbacks\":[\"function () {\\n    var handler = ((function (k){this.k=k; this.container=this.dom.querySelector(\\\"#container\\\"); return k.render(\\\"\\\\\\\\;\\\\\\\\;\\\",this.container)}));\\n    (WebIO.importBlock({\\\"data\\\":[{\\\"name\\\":null,\\\"type\\\":\\\"js\\\",\\\"url\\\":\\\"\\/assetserver\\/dd22ed1bf1896c2748f3fe616ce0b838adc895c1-katex.min.js\\\"},{\\\"name\\\":null,\\\"type\\\":\\\"css\\\",\\\"url\\\":\\\"\\/assetserver\\/46517a424aa5e6cffc1360d7e0848b601c584ee3-katex.min.css\\\"}],\\\"type\\\":\\\"async_block\\\"})).then((imports) => handler.apply(this, imports));\\n}\\n\"],\"observables\":{\"value\":{\"sync\":false,\"id\":\"2906820142430665371\",\"value\":\"\\\\;\\\\;\"}}},\"children\":[{\"props\":{\"id\":\"container\"},\"nodeType\":\"DOM\",\"type\":\"node\",\"instanceArgs\":{\"namespace\":\"html\",\"tag\":\"div\"},\"children\":[]}]}]},{\"props\":{\"className\":\"field interact-widget\"},\"nodeType\":\"DOM\",\"type\":\"node\",\"instanceArgs\":{\"namespace\":\"html\",\"tag\":\"div\"},\"children\":[{\"props\":{},\"nodeType\":\"Scope\",\"type\":\"node\",\"instanceArgs\":{\"imports\":{\"data\":[{\"name\":\"knockout\",\"type\":\"js\",\"url\":\"\\/assetserver\\/727383f2a47bd31570b7da84eee7b022dd6d7c78-knockout.js\"},{\"name\":\"knockout_punches\",\"type\":\"js\",\"url\":\"\\/assetserver\\/382b41b3b1bd9f26f75861d360bad7f8beea211f-knockout_punches.js\"},{\"name\":null,\"type\":\"js\",\"url\":\"\\/assetserver\\/5ab20f1060420992a9b82a65b735dee4d81ef413-all.js\"},{\"name\":null,\"type\":\"css\",\"url\":\"\\/assetserver\\/1cc0ed62837210b80a182cc3676512f895dab686-style.css\"},{\"name\":null,\"type\":\"css\",\"url\":\"\\/assetserver\\/2eee816f616df3549d7044d45e744fbf8d42bfa1-bulma_confined.min.css\"}],\"type\":\"async_block\"},\"id\":\"103762669172679873\",\"handlers\":{\"loading\":[\"(function (val){return (val!=this.model[\\\"loading\\\"]()) ? (this.valueFromJulia[\\\"loading\\\"]=true, this.model[\\\"loading\\\"](val)) : undefined})\"],\"clicks\":[\"(function (val){return (val!=this.model[\\\"clicks\\\"]()) ? (this.valueFromJulia[\\\"clicks\\\"]=true, this.model[\\\"clicks\\\"](val)) : undefined})\"]},\"systemjs_options\":null,\"mount_callbacks\":[\"function () {\\n    var handler = (function (ko, koPunches) {\\n    ko.punches.enableAll();\\n    ko.bindingHandlers.numericValue = {\\n        init: function(element, valueAccessor, allBindings, data, context) {\\n            var stringified = ko.observable(ko.unwrap(valueAccessor()));\\n            stringified.subscribe(function(value) {\\n                var val = parseFloat(value);\\n                if (!isNaN(val)) {\\n                    valueAccessor()(val);\\n                }\\n            });\\n            valueAccessor().subscribe(function(value) {\\n                var str = JSON.stringify(value);\\n                if ((str == \\\"0\\\") && ([\\\"-0\\\", \\\"-0.\\\"].indexOf(stringified()) >= 0))\\n                     return;\\n                 if ([\\\"null\\\", \\\"\\\"].indexOf(str) >= 0)\\n                     return;\\n                stringified(str);\\n            });\\n            ko.applyBindingsToNode(\\n                element,\\n                {\\n                    value: stringified,\\n                    valueUpdate: allBindings.get('valueUpdate'),\\n                },\\n                context,\\n            );\\n        }\\n    };\\n    var json_data = {\\\"loading\\\":WebIO.getval({\\\"name\\\":\\\"loading\\\",\\\"scope\\\":\\\"103762669172679873\\\",\\\"id\\\":\\\"13828630224496718448\\\",\\\"type\\\":\\\"observable\\\"}),\\\"clicks\\\":WebIO.getval({\\\"name\\\":\\\"clicks\\\",\\\"scope\\\":\\\"103762669172679873\\\",\\\"id\\\":\\\"13664722276351927570\\\",\\\"type\\\":\\\"observable\\\"})};\\n    var self = this;\\n    function AppViewModel() {\\n        for (var key in json_data) {\\n            var el = json_data[key];\\n            this[key] = Array.isArray(el) ? ko.observableArray(el) : ko.observable(el);\\n        }\\n        \\n        \\n        [this[\\\"loading\\\"].subscribe((function (val){!(this.valueFromJulia[\\\"loading\\\"]) ? (WebIO.setval({\\\"name\\\":\\\"loading\\\",\\\"scope\\\":\\\"103762669172679873\\\",\\\"id\\\":\\\"13828630224496718448\\\",\\\"type\\\":\\\"observable\\\"},val)) : undefined; return this.valueFromJulia[\\\"loading\\\"]=false}),self),this[\\\"clicks\\\"].subscribe((function (val){!(this.valueFromJulia[\\\"clicks\\\"]) ? (WebIO.setval({\\\"name\\\":\\\"clicks\\\",\\\"scope\\\":\\\"103762669172679873\\\",\\\"id\\\":\\\"13664722276351927570\\\",\\\"type\\\":\\\"observable\\\"},val)) : undefined; return this.valueFromJulia[\\\"clicks\\\"]=false}),self)]\\n        \\n    }\\n    self.model = new AppViewModel();\\n    self.valueFromJulia = {};\\n    for (var key in json_data) {\\n        self.valueFromJulia[key] = false;\\n    }\\n    ko.applyBindings(self.model, self.dom);\\n}\\n);\\n    (WebIO.importBlock({\\\"data\\\":[{\\\"name\\\":\\\"knockout\\\",\\\"type\\\":\\\"js\\\",\\\"url\\\":\\\"\\/assetserver\\/727383f2a47bd31570b7da84eee7b022dd6d7c78-knockout.js\\\"},{\\\"name\\\":\\\"knockout_punches\\\",\\\"type\\\":\\\"js\\\",\\\"url\\\":\\\"\\/assetserver\\/382b41b3b1bd9f26f75861d360bad7f8beea211f-knockout_punches.js\\\"}],\\\"type\\\":\\\"async_block\\\"})).then((imports) => handler.apply(this, imports));\\n}\\n\"],\"observables\":{\"loading\":{\"sync\":false,\"id\":\"13828630224496718448\",\"value\":false},\"clicks\":{\"sync\":true,\"id\":\"13664722276351927570\",\"value\":0}}},\"children\":[{\"props\":{\"attributes\":{\"data-bind\":\"click: function (){this.clicks(this.clicks()+1)}, css: {'is-loading' : loading}\"},\"className\":\"is-medium button is-primary\",\"style\":{}},\"nodeType\":\"DOM\",\"type\":\"node\",\"instanceArgs\":{\"namespace\":\"html\",\"tag\":\"button\"},\"children\":[\"reset\"]}]}]},{\"props\":{\"className\":\"interact-widget\"},\"nodeType\":\"DOM\",\"type\":\"node\",\"instanceArgs\":{\"namespace\":\"html\",\"tag\":\"div\"},\"children\":[{\"props\":{},\"nodeType\":\"Scope\",\"type\":\"node\",\"instanceArgs\":{\"imports\":{\"data\":[{\"name\":null,\"type\":\"js\",\"url\":\"\\/assetserver\\/dd22ed1bf1896c2748f3fe616ce0b838adc895c1-katex.min.js\"},{\"name\":null,\"type\":\"css\",\"url\":\"\\/assetserver\\/46517a424aa5e6cffc1360d7e0848b601c584ee3-katex.min.css\"}],\"type\":\"async_block\"},\"id\":\"8760332166755244193\",\"handlers\":{\"value\":[\"(function (txt){return this.k.render(txt,this.container)})\"]},\"systemjs_options\":null,\"mount_callbacks\":[\"function () {\\n    var handler = ((function (k){this.k=k; this.container=this.dom.querySelector(\\\"#container\\\"); return k.render(\\\"\\\\\\\\;\\\\\\\\;\\\",this.container)}));\\n    (WebIO.importBlock({\\\"data\\\":[{\\\"name\\\":null,\\\"type\\\":\\\"js\\\",\\\"url\\\":\\\"\\/assetserver\\/dd22ed1bf1896c2748f3fe616ce0b838adc895c1-katex.min.js\\\"},{\\\"name\\\":null,\\\"type\\\":\\\"css\\\",\\\"url\\\":\\\"\\/assetserver\\/46517a424aa5e6cffc1360d7e0848b601c584ee3-katex.min.css\\\"}],\\\"type\\\":\\\"async_block\\\"})).then((imports) => handler.apply(this, imports));\\n}\\n\"],\"observables\":{\"value\":{\"sync\":false,\"id\":\"2906820142430665371\",\"value\":\"\\\\;\\\\;\"}}},\"children\":[{\"props\":{\"id\":\"container\"},\"nodeType\":\"DOM\",\"type\":\"node\",\"instanceArgs\":{\"namespace\":\"html\",\"tag\":\"div\"},\"children\":[]}]}]},{\"props\":{\"className\":\"field interact-widget\"},\"nodeType\":\"DOM\",\"type\":\"node\",\"instanceArgs\":{\"namespace\":\"html\",\"tag\":\"div\"},\"children\":[{\"props\":{},\"nodeType\":\"Scope\",\"type\":\"node\",\"instanceArgs\":{\"imports\":{\"data\":[{\"name\":\"knockout\",\"type\":\"js\",\"url\":\"\\/assetserver\\/727383f2a47bd31570b7da84eee7b022dd6d7c78-knockout.js\"},{\"name\":\"knockout_punches\",\"type\":\"js\",\"url\":\"\\/assetserver\\/382b41b3b1bd9f26f75861d360bad7f8beea211f-knockout_punches.js\"},{\"name\":null,\"type\":\"js\",\"url\":\"\\/assetserver\\/5ab20f1060420992a9b82a65b735dee4d81ef413-all.js\"},{\"name\":null,\"type\":\"css\",\"url\":\"\\/assetserver\\/1cc0ed62837210b80a182cc3676512f895dab686-style.css\"},{\"name\":null,\"type\":\"css\",\"url\":\"\\/assetserver\\/2eee816f616df3549d7044d45e744fbf8d42bfa1-bulma_confined.min.css\"}],\"type\":\"async_block\"},\"id\":\"3777935479819113413\",\"handlers\":{\"loading\":[\"(function (val){return (val!=this.model[\\\"loading\\\"]()) ? (this.valueFromJulia[\\\"loading\\\"]=true, this.model[\\\"loading\\\"](val)) : undefined})\"],\"clicks\":[\"(function (val){return (val!=this.model[\\\"clicks\\\"]()) ? (this.valueFromJulia[\\\"clicks\\\"]=true, this.model[\\\"clicks\\\"](val)) : undefined})\"]},\"systemjs_options\":null,\"mount_callbacks\":[\"function () {\\n    var handler = (function (ko, koPunches) {\\n    ko.punches.enableAll();\\n    ko.bindingHandlers.numericValue = {\\n        init: function(element, valueAccessor, allBindings, data, context) {\\n            var stringified = ko.observable(ko.unwrap(valueAccessor()));\\n            stringified.subscribe(function(value) {\\n                var val = parseFloat(value);\\n                if (!isNaN(val)) {\\n                    valueAccessor()(val);\\n                }\\n            });\\n            valueAccessor().subscribe(function(value) {\\n                var str = JSON.stringify(value);\\n                if ((str == \\\"0\\\") && ([\\\"-0\\\", \\\"-0.\\\"].indexOf(stringified()) >= 0))\\n                     return;\\n                 if ([\\\"null\\\", \\\"\\\"].indexOf(str) >= 0)\\n                     return;\\n                stringified(str);\\n            });\\n            ko.applyBindingsToNode(\\n                element,\\n                {\\n                    value: stringified,\\n                    valueUpdate: allBindings.get('valueUpdate'),\\n                },\\n                context,\\n            );\\n        }\\n    };\\n    var json_data = {\\\"loading\\\":WebIO.getval({\\\"name\\\":\\\"loading\\\",\\\"scope\\\":\\\"3777935479819113413\\\",\\\"id\\\":\\\"2776404764310456971\\\",\\\"type\\\":\\\"observable\\\"}),\\\"clicks\\\":WebIO.getval({\\\"name\\\":\\\"clicks\\\",\\\"scope\\\":\\\"3777935479819113413\\\",\\\"id\\\":\\\"13044542224870718201\\\",\\\"type\\\":\\\"observable\\\"})};\\n    var self = this;\\n    function AppViewModel() {\\n        for (var key in json_data) {\\n            var el = json_data[key];\\n            this[key] = Array.isArray(el) ? ko.observableArray(el) : ko.observable(el);\\n        }\\n        \\n        \\n        [this[\\\"loading\\\"].subscribe((function (val){!(this.valueFromJulia[\\\"loading\\\"]) ? (WebIO.setval({\\\"name\\\":\\\"loading\\\",\\\"scope\\\":\\\"3777935479819113413\\\",\\\"id\\\":\\\"2776404764310456971\\\",\\\"type\\\":\\\"observable\\\"},val)) : undefined; return this.valueFromJulia[\\\"loading\\\"]=false}),self),this[\\\"clicks\\\"].subscribe((function (val){!(this.valueFromJulia[\\\"clicks\\\"]) ? (WebIO.setval({\\\"name\\\":\\\"clicks\\\",\\\"scope\\\":\\\"3777935479819113413\\\",\\\"id\\\":\\\"13044542224870718201\\\",\\\"type\\\":\\\"observable\\\"},val)) : undefined; return this.valueFromJulia[\\\"clicks\\\"]=false}),self)]\\n        \\n    }\\n    self.model = new AppViewModel();\\n    self.valueFromJulia = {};\\n    for (var key in json_data) {\\n        self.valueFromJulia[key] = false;\\n    }\\n    ko.applyBindings(self.model, self.dom);\\n}\\n);\\n    (WebIO.importBlock({\\\"data\\\":[{\\\"name\\\":\\\"knockout\\\",\\\"type\\\":\\\"js\\\",\\\"url\\\":\\\"\\/assetserver\\/727383f2a47bd31570b7da84eee7b022dd6d7c78-knockout.js\\\"},{\\\"name\\\":\\\"knockout_punches\\\",\\\"type\\\":\\\"js\\\",\\\"url\\\":\\\"\\/assetserver\\/382b41b3b1bd9f26f75861d360bad7f8beea211f-knockout_punches.js\\\"}],\\\"type\\\":\\\"async_block\\\"})).then((imports) => handler.apply(this, imports));\\n}\\n\"],\"observables\":{\"loading\":{\"sync\":false,\"id\":\"2776404764310456971\",\"value\":false},\"clicks\":{\"sync\":true,\"id\":\"13044542224870718201\",\"value\":0}}},\"children\":[{\"props\":{\"attributes\":{\"data-bind\":\"click: function (){this.clicks(this.clicks()+1)}, css: {'is-loading' : loading}\"},\"className\":\"is-medium button is-primary\",\"style\":{}},\"nodeType\":\"DOM\",\"type\":\"node\",\"instanceArgs\":{\"namespace\":\"html\",\"tag\":\"button\"},\"children\":[\"save\"]}]}]}]}]},{\"props\":{\"className\":\"interact-widget\"},\"nodeType\":\"DOM\",\"type\":\"node\",\"instanceArgs\":{\"namespace\":\"html\",\"tag\":\"div\"},\"children\":[{\"props\":{},\"nodeType\":\"Scope\",\"type\":\"node\",\"instanceArgs\":{\"imports\":{\"data\":[{\"name\":null,\"type\":\"js\",\"url\":\"\\/assetserver\\/dd22ed1bf1896c2748f3fe616ce0b838adc895c1-katex.min.js\"},{\"name\":null,\"type\":\"css\",\"url\":\"\\/assetserver\\/46517a424aa5e6cffc1360d7e0848b601c584ee3-katex.min.css\"}],\"type\":\"async_block\"},\"id\":\"8760332166755244193\",\"handlers\":{\"value\":[\"(function (txt){return this.k.render(txt,this.container)})\"]},\"systemjs_options\":null,\"mount_callbacks\":[\"function () {\\n    var handler = ((function (k){this.k=k; this.container=this.dom.querySelector(\\\"#container\\\"); return k.render(\\\"\\\\\\\\;\\\\\\\\;\\\",this.container)}));\\n    (WebIO.importBlock({\\\"data\\\":[{\\\"name\\\":null,\\\"type\\\":\\\"js\\\",\\\"url\\\":\\\"\\/assetserver\\/dd22ed1bf1896c2748f3fe616ce0b838adc895c1-katex.min.js\\\"},{\\\"name\\\":null,\\\"type\\\":\\\"css\\\",\\\"url\\\":\\\"\\/assetserver\\/46517a424aa5e6cffc1360d7e0848b601c584ee3-katex.min.css\\\"}],\\\"type\\\":\\\"async_block\\\"})).then((imports) => handler.apply(this, imports));\\n}\\n\"],\"observables\":{\"value\":{\"sync\":false,\"id\":\"2906820142430665371\",\"value\":\"\\\\;\\\\;\"}}},\"children\":[{\"props\":{\"id\":\"container\"},\"nodeType\":\"DOM\",\"type\":\"node\",\"instanceArgs\":{\"namespace\":\"html\",\"tag\":\"div\"},\"children\":[]}]}]},{\"props\":{},\"nodeType\":\"Scope\",\"type\":\"node\",\"instanceArgs\":{\"imports\":{\"data\":[],\"type\":\"async_block\"},\"id\":\"59078851595066989\",\"handlers\":{\"obs-output\":[\"function (value, scope) {\\n    scope.setInnerHTML(value);\\n}\\n\"]},\"systemjs_options\":null,\"mount_callbacks\":[],\"observables\":{\"obs-output\":{\"sync\":false,\"id\":\"9470698020420368964\",\"value\":\"<img src='data:image\\/png;base64,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'><\\/img>\"}}},\"children\":[{\"props\":{\"className\":\"webio-observable\",\"setInnerHtml\":\"<img src='data:image\\/png;base64,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'><\\/img>\"},\"nodeType\":\"DOM\",\"type\":\"node\",\"instanceArgs\":{\"namespace\":\"html\",\"tag\":\"div\"},\"children\":[]}]},{\"props\":{\"className\":\"interact-widget\"},\"nodeType\":\"DOM\",\"type\":\"node\",\"instanceArgs\":{\"namespace\":\"html\",\"tag\":\"div\"},\"children\":[{\"props\":{},\"nodeType\":\"Scope\",\"type\":\"node\",\"instanceArgs\":{\"imports\":{\"data\":[{\"name\":null,\"type\":\"js\",\"url\":\"\\/assetserver\\/dd22ed1bf1896c2748f3fe616ce0b838adc895c1-katex.min.js\"},{\"name\":null,\"type\":\"css\",\"url\":\"\\/assetserver\\/46517a424aa5e6cffc1360d7e0848b601c584ee3-katex.min.css\"}],\"type\":\"async_block\"},\"id\":\"8760332166755244193\",\"handlers\":{\"value\":[\"(function (txt){return this.k.render(txt,this.container)})\"]},\"systemjs_options\":null,\"mount_callbacks\":[\"function () {\\n    var handler = ((function (k){this.k=k; this.container=this.dom.querySelector(\\\"#container\\\"); return k.render(\\\"\\\\\\\\;\\\\\\\\;\\\",this.container)}));\\n    (WebIO.importBlock({\\\"data\\\":[{\\\"name\\\":null,\\\"type\\\":\\\"js\\\",\\\"url\\\":\\\"\\/assetserver\\/dd22ed1bf1896c2748f3fe616ce0b838adc895c1-katex.min.js\\\"},{\\\"name\\\":null,\\\"type\\\":\\\"css\\\",\\\"url\\\":\\\"\\/assetserver\\/46517a424aa5e6cffc1360d7e0848b601c584ee3-katex.min.css\\\"}],\\\"type\\\":\\\"async_block\\\"})).then((imports) => handler.apply(this, imports));\\n}\\n\"],\"observables\":{\"value\":{\"sync\":false,\"id\":\"2906820142430665371\",\"value\":\"\\\\;\\\\;\"}}},\"children\":[{\"props\":{\"id\":\"container\"},\"nodeType\":\"DOM\",\"type\":\"node\",\"instanceArgs\":{\"namespace\":\"html\",\"tag\":\"div\"},\"children\":[]}]}]},{\"props\":{\"style\":{\"display\":\"flex\",\"flex-direction\":\"column\"}},\"nodeType\":\"DOM\",\"type\":\"node\",\"instanceArgs\":{\"namespace\":\"html\",\"tag\":\"div\"},\"children\":[]}]}]},\n",
       "        window,\n",
       "    );\n",
       "    })()\n",
       "    </script>\n",
       "</div>\n"
      ],
      "text/plain": [
       "WebIO.Node{WebIO.DOM}(WebIO.DOM(:html, :div), Any[WebIO.Node{WebIO.DOM}(WebIO.DOM(:html, :div), Any[WebIO.Node{WebIO.DOM}(WebIO.DOM(:html, :div), Any[WebIO.Node{WebIO.DOM}(WebIO.DOM(:html, :div), Any[WebIO.Scope(WebIO.Node{WebIO.DOM}(WebIO.DOM(:html, :div), Any[WebIO.Node{WebIO.DOM}(WebIO.DOM(:html, :div), Any[WebIO.Node{WebIO.DOM}(WebIO.DOM(:html, :label), Any[\"time\"], Dict{Symbol, Any}(:className => \"interact \", :style => Dict{Any, Any}(:padding => \"5px 10px 0px 10px\")))], Dict{Symbol, Any}(:className => \"interact-flex-row-left\")), WebIO.Node{WebIO.DOM}(WebIO.DOM(:html, :div), Any[WebIO.Node{WebIO.DOM}(WebIO.DOM(:html, :input), Any[], Dict{Symbol, Any}(:max => 400, :min => 1, :attributes => Dict{Any, Any}(:type => \"range\", Symbol(\"data-bind\") => \"numericValue: index, valueUpdate: 'input', event: {change: function (){this.changes(this.changes()+1)}}\", \"orient\" => \"horizontal\"), :step => 1, :className => \"slider slider is-fullwidth\", :style => Dict{Any, Any}()))], Dict{Symbol, Any}(:className => \"interact-flex-row-center\")), WebIO.Node{WebIO.DOM}(WebIO.DOM(:html, :div), Any[WebIO.Node{WebIO.DOM}(WebIO.DOM(:html, :p), Any[], Dict{Symbol, Any}(:attributes => Dict(\"data-bind\" => \"text: formatted_val\")))], Dict{Symbol, Any}(:className => \"interact-flex-row-right\"))], Dict{Symbol, Any}(:className => \"interact-flex-row interact-widget\")), Dict{String, Tuple{Observables.AbstractObservable, Union{Nothing, Bool}}}(\"changes\" => (Observable(0), nothing), \"index\" => (Observable(1), nothing)), Set{String}(), nothing, WebIO.Asset[WebIO.Asset(\"js\", \"knockout\", \"/home/dushya/.julia/packages/Knockout/HReiN/src/../assets/knockout.js\"), WebIO.Asset(\"js\", \"knockout_punches\", \"/home/dushya/.julia/packages/Knockout/HReiN/src/../assets/knockout_punches.js\"), WebIO.Asset(\"js\", nothing, \"/home/dushya/.julia/packages/InteractBase/LJXv3/src/../assets/all.js\"), WebIO.Asset(\"css\", nothing, \"/home/dushya/.julia/packages/InteractBase/LJXv3/src/../assets/style.css\"), WebIO.Asset(\"css\", nothing, \"/home/dushya/.julia/packages/Interact/PENUy/src/../assets/bulma_confined.min.css\")], Dict{Any, Any}(\"changes\" => Any[WebIO.JSString(\"(function (val){return (val!=this.model[\\\"changes\\\"]()) ? (this.valueFromJulia[\\\"changes\\\"]=true, this.model[\\\"changes\\\"](val)) : undefined})\")], \"index\" => Any[WebIO.JSString(\"(function (val){return (val!=this.model[\\\"index\\\"]()) ? (this.valueFromJulia[\\\"index\\\"]=true, this.model[\\\"index\\\"](val)) : undefined})\")]), WebIO.ConnectionPool(Channel{Any}(32), Set{WebIO.AbstractConnection}(), Base.GenericCondition{ReentrantLock}(Base.IntrusiveLinkedList{Task}(Task (runnable) @0x00007fe7feaaabd0, Task (runnable) @0x00007fe7feaaabd0), ReentrantLock(nothing, 0x00000000, 0x00, Base.GenericCondition{Base.Threads.SpinLock}(Base.IntrusiveLinkedList{Task}(nothing, nothing), Base.Threads.SpinLock(0)), (0, 140634448984560, 140632508957904)))), WebIO.JSString[WebIO.JSString(\"function () {\\n    var handler = (function (ko, koPunches) {\\n    ko.punches.enableAll();\\n    ko.bindingHandlers.numericValue = {\\n        init: function(element, valueAccessor, allBindings, data, context) {\\n            var stringified = ko.observable(ko.unwrap(valueAccessor()));\\n            stringified.subscribe(function(value) {\\n                var val = parseFloat(value);\\n                if (!isNaN(val)) {\\n                    valueAccessor()(val);\\n                }\\n            });\\n            valueAccessor().subscribe(function(value) {\\n                var str = JSON.stringify(value);\\n                if ((str == \\\"0\\\") && ([\\\"-0\\\", \\\"-0.\\\"].indexOf(stringified()) >= 0))\\n                     return;\\n                 if ([\\\"null\\\", \\\"\\\"].indexOf(str) >= 0)\\n                     return;\\n                stringified(str);\\n            });\\n            ko.applyBindingsToNode(\\n                element,\\n                {\\n                    value: stringified,\\n                    valueUpdate: allBindings.get('valueUpdate'),\\n                },\\n                context,\\n            );\\n        }\\n    };\\n    var json_data = {\\\"formatted_vals\\\":[\\\"1\\\",\\\"2\\\",\\\"3\\\",\\\"4\\\",\\\"5\\\",\\\"6\\\",\\\"7\\\",\\\"8\\\",\\\"9\\\",\\\"10\\\",\\\"11\\\",\\\"12\\\",\\\"13\\\",\\\"14\\\",\\\"15\\\",\\\"16\\\",\\\"17\\\",\\\"18\\\",\\\"19\\\",\\\"20\\\",\\\"21\\\",\\\"22\\\",\\\"23\\\",\\\"24\\\",\\\"25\\\",\\\"26\\\",\\\"27\\\",\\\"28\\\",\\\"29\\\",\\\"30\\\",\\\"31\\\",\\\"32\\\",\\\"33\\\",\\\"34\\\",\\\"35\\\",\\\"36\\\",\\\"37\\\",\\\"38\\\",\\\"39\\\",\\\"40\\\",\\\"41\\\",\\\"42\\\",\\\"43\\\",\\\"44\\\",\\\"45\\\",\\\"46\\\",\\\"47\\\",\\\"48\\\",\\\"49\\\",\\\"50\\\",\\\"51\\\",\\\"52\\\",\\\"53\\\",\\\"54\\\",\\\"55\\\",\\\"56\\\",\\\"57\\\",\\\"58\\\",\\\"59\\\",\\\"60\\\",\\\"61\\\",\\\"62\\\",\\\"63\\\",\\\"64\\\",\\\"65\\\",\\\"66\\\",\\\"67\\\",\\\"68\\\",\\\"69\\\",\\\"70\\\",\\\"71\\\",\\\"72\\\",\\\"73\\\",\\\"74\\\",\\\"75\\\",\\\"76\\\",\\\"77\\\",\\\"78\\\",\\\"79\\\",\\\"80\\\",\\\"81\\\",\\\"82\\\",\\\"83\\\",\\\"84\\\",\\\"85\\\",\\\"86\\\",\\\"87\\\",\\\"88\\\",\\\"89\\\",\\\"90\\\",\\\"91\\\",\\\"92\\\",\\\"93\\\",\\\"94\\\",\\\"95\\\",\\\"96\\\",\\\"97\\\",\\\"98\\\",\\\"99\\\",\\\"100\\\",\\\"101\\\",\\\"102\\\",\\\"103\\\",\\\"104\\\",\\\"105\\\",\\\"106\\\",\\\"107\\\",\\\"108\\\",\\\"109\\\",\\\"110\\\",\\\"111\\\",\\\"112\\\",\\\"113\\\",\\\"114\\\",\\\"115\\\",\\\"116\\\",\\\"117\\\",\\\"118\\\",\\\"119\\\",\\\"120\\\",\\\"121\\\",\\\"122\\\",\\\"123\\\",\\\"124\\\",\\\"125\\\",\\\"126\\\",\\\"127\\\",\\\"128\\\",\\\"129\\\",\\\"130\\\",\\\"131\\\",\\\"132\\\",\\\"133\\\",\\\"134\\\",\\\"135\\\",\\\"136\\\",\\\"137\\\",\\\"138\\\",\\\"139\\\",\\\"140\\\",\\\"141\\\",\\\"142\\\",\\\"143\\\",\\\"144\\\",\\\"145\\\",\\\"146\\\",\\\"147\\\",\\\"148\\\",\\\"149\\\",\\\"150\\\",\\\"151\\\",\\\"152\\\",\\\"153\\\",\\\"154\\\",\\\"155\\\",\\\"156\\\",\\\"157\\\",\\\"158\\\",\\\"159\\\",\\\"160\\\",\\\"161\\\",\\\"162\\\",\\\"163\\\",\\\"164\\\",\\\"165\\\",\\\"166\\\",\\\"167\\\",\\\"168\\\",\\\"169\\\",\\\"170\\\",\\\"171\\\",\\\"172\\\",\\\"173\\\",\\\"174\\\",\\\"175\\\",\\\"176\\\",\\\"177\\\",\\\"178\\\",\\\"179\\\",\\\"180\\\",\\\"181\\\",\\\"182\\\",\\\"183\\\",\\\"184\\\",\\\"185\\\",\\\"186\\\",\\\"187\\\",\\\"188\\\",\\\"189\\\",\\\"190\\\",\\\"191\\\",\\\"192\\\",\\\"193\\\",\\\"194\\\",\\\"195\\\",\\\"196\\\",\\\"197\\\",\\\"198\\\",\\\"199\\\",\\\"200\\\",\\\"201\\\",\\\"202\\\",\\\"203\\\",\\\"204\\\",\\\"205\\\",\\\"206\\\",\\\"207\\\",\\\"208\\\",\\\"209\\\",\\\"210\\\",\\\"211\\\",\\\"212\\\",\\\"213\\\",\\\"214\\\",\\\"215\\\",\\\"216\\\",\\\"217\\\",\\\"218\\\",\\\"219\\\",\\\"220\\\",\\\"221\\\",\\\"222\\\",\\\"223\\\",\\\"224\\\",\\\"225\\\",\\\"226\\\",\\\"227\\\",\\\"228\\\",\\\"229\\\",\\\"230\\\",\\\"231\\\",\\\"232\\\",\\\"233\\\",\\\"234\\\",\\\"235\\\",\\\"236\\\",\\\"237\\\",\\\"238\\\",\\\"239\\\",\\\"240\\\",\\\"241\\\",\\\"242\\\",\\\"243\\\",\\\"244\\\",\\\"245\\\",\\\"246\\\",\\\"247\\\",\\\"248\\\",\\\"249\\\",\\\"250\\\",\\\"251\\\",\\\"252\\\",\\\"253\\\",\\\"254\\\",\\\"255\\\",\\\"256\\\",\\\"257\\\",\\\"258\\\",\\\"259\\\",\\\"260\\\",\\\"261\\\",\\\"262\\\",\\\"263\\\",\\\"264\\\",\\\"265\\\",\\\"266\\\",\\\"267\\\",\\\"268\\\",\\\"269\\\",\\\"270\\\",\\\"271\\\",\\\"272\\\",\\\"273\\\",\\\"274\\\",\\\"275\\\",\\\"276\\\",\\\"277\\\",\\\"278\\\",\\\"279\\\",\\\"280\\\",\\\"281\\\",\\\"282\\\",\\\"283\\\",\\\"284\\\",\\\"285\\\",\\\"286\\\",\\\"287\\\",\\\"288\\\",\\\"289\\\",\\\"290\\\",\\\"291\\\",\\\"292\\\",\\\"293\\\",\\\"294\\\",\\\"295\\\",\\\"296\\\",\\\"297\\\",\\\"298\\\",\\\"299\\\",\\\"300\\\",\\\"301\\\",\\\"302\\\",\\\"303\\\",\\\"304\\\",\\\"305\\\",\\\"306\\\",\\\"307\\\",\\\"308\\\",\\\"309\\\",\\\"310\\\",\\\"311\\\",\\\"312\\\",\\\"313\\\",\\\"314\\\",\\\"315\\\",\\\"316\\\",\\\"317\\\",\\\"318\\\",\\\"319\\\",\\\"320\\\",\\\"321\\\",\\\"322\\\",\\\"323\\\",\\\"324\\\",\\\"325\\\",\\\"326\\\",\\\"327\\\",\\\"328\\\",\\\"329\\\",\\\"330\\\",\\\"331\\\",\\\"332\\\",\\\"333\\\",\\\"334\\\",\\\"335\\\",\\\"336\\\",\\\"337\\\",\\\"338\\\",\\\"339\\\",\\\"340\\\",\\\"341\\\",\\\"342\\\",\\\"343\\\",\\\"344\\\",\\\"345\\\",\\\"346\\\",\\\"347\\\",\\\"348\\\",\\\"349\\\",\\\"350\\\",\\\"351\\\",\\\"352\\\",\\\"353\\\",\\\"354\\\",\\\"355\\\",\\\"356\\\",\\\"357\\\",\\\"358\\\",\\\"359\\\",\\\"360\\\",\\\"361\\\",\\\"362\\\",\\\"363\\\",\\\"364\\\",\\\"365\\\",\\\"366\\\",\\\"367\\\",\\\"368\\\",\\\"369\\\",\\\"370\\\",\\\"371\\\",\\\"372\\\",\\\"373\\\",\\\"374\\\",\\\"375\\\",\\\"376\\\",\\\"377\\\",\\\"378\\\",\\\"379\\\",\\\"380\\\",\\\"381\\\",\\\"382\\\",\\\"383\\\",\\\"384\\\",\\\"385\\\",\\\"386\\\",\\\"387\\\",\\\"388\\\",\\\"389\\\",\\\"390\\\",\\\"391\\\",\\\"392\\\",\\\"393\\\",\\\"394\\\",\\\"395\\\",\\\"396\\\",\\\"397\\\",\\\"398\\\",\\\"399\\\",\\\"400\\\"],\\\"changes\\\":WebIO.getval({\\\"name\\\":\\\"changes\\\",\\\"scope\\\":\\\"17170095008382512464\\\",\\\"id\\\":\\\"10355026221025197629\\\",\\\"type\\\":\\\"observable\\\"}),\\\"index\\\":WebIO.getval({\\\"name\\\":\\\"index\\\",\\\"scope\\\":\\\"17170095008382512464\\\",\\\"id\\\":\\\"2098938840393250001\\\",\\\"type\\\":\\\"observable\\\"})};\\n    var self = this;\\n    function AppViewModel() {\\n        for (var key in json_data) {\\n            var el = json_data[key];\\n            this[key] = Array.isArray(el) ? ko.observableArray(el) : ko.observable(el);\\n        }\\n        \\n        [this[\\\"formatted_val\\\"]=ko.computed(    function(){\\n        return this.formatted_vals()[parseInt(this.index())-(1)];\\n    }\\n,this)]\\n        [this[\\\"changes\\\"].subscribe((function (val){!(this.valueFromJulia[\\\"changes\\\"]) ? (WebIO.setval({\\\"name\\\":\\\"changes\\\",\\\"scope\\\":\\\"17170095008382512464\\\",\\\"id\\\":\\\"10355026221025197629\\\",\\\"type\\\":\\\"observable\\\"},val)) : undefined; return this.valueFromJulia[\\\"changes\\\"]=false}),self),this[\\\"index\\\"].subscribe((function (val){!(this.valueFromJulia[\\\"index\\\"]) ? (WebIO.setval({\\\"name\\\":\\\"index\\\",\\\"scope\\\":\\\"17170095008382512464\\\",\\\"id\\\":\\\"2098938840393250001\\\",\\\"type\\\":\\\"observable\\\"},val)) : undefined; return this.valueFromJulia[\\\"index\\\"]=false}),self)]\\n        \\n    }\\n    self.model = new AppViewModel();\\n    self.valueFromJulia = {};\\n    for (var key in json_data) {\\n        self.valueFromJulia[key] = false;\\n    }\\n    ko.applyBindings(self.model, self.dom);\\n}\\n);\\n    (WebIO.importBlock({\\\"data\\\":[{\\\"name\\\":\\\"knockout\\\",\\\"type\\\":\\\"js\\\",\\\"url\\\":\\\"/assetserver/727383f2a47bd31570b7da84eee7b022dd6d7c78-knockout.js\\\"},{\\\"name\\\":\\\"knockout_punches\\\",\\\"type\\\":\\\"js\\\",\\\"url\\\":\\\"/assetserver/382b41b3b1bd9f26f75861d360bad7f8beea211f-knockout_punches.js\\\"}],\\\"type\\\":\\\"async_block\\\"})).then((imports) => handler.apply(this, imports));\\n}\\n\")])], Dict{Symbol, Any}(:className => \"field interact-widget\")), WebIO.Node{WebIO.DOM}(WebIO.DOM(:html, :div), Any[WebIO.Scope(WebIO.Node{WebIO.DOM}(WebIO.DOM(:html, :div), Any[WebIO.Node{WebIO.DOM}(WebIO.DOM(:html, :div), Any[WebIO.Node{WebIO.DOM}(WebIO.DOM(:html, :label), Any[\"scale\"], Dict{Symbol, Any}(:className => \"interact \", :style => Dict{Any, Any}(:padding => \"5px 10px 0px 10px\")))], Dict{Symbol, Any}(:className => \"interact-flex-row-left\")), WebIO.Node{WebIO.DOM}(WebIO.DOM(:html, :div), Any[WebIO.Node{WebIO.DOM}(WebIO.DOM(:html, :input), Any[], Dict{Symbol, Any}(:max => 20, :min => 1, :attributes => Dict{Any, Any}(:type => \"range\", Symbol(\"data-bind\") => \"numericValue: index, valueUpdate: 'input', event: {change: function (){this.changes(this.changes()+1)}}\", \"orient\" => \"horizontal\"), :step => 1, :className => \"slider slider is-fullwidth\", :style => Dict{Any, Any}()))], Dict{Symbol, Any}(:className => \"interact-flex-row-center\")), WebIO.Node{WebIO.DOM}(WebIO.DOM(:html, :div), Any[WebIO.Node{WebIO.DOM}(WebIO.DOM(:html, :p), Any[], Dict{Symbol, Any}(:attributes => Dict(\"data-bind\" => \"text: formatted_val\")))], Dict{Symbol, Any}(:className => \"interact-flex-row-right\"))], Dict{Symbol, Any}(:className => \"interact-flex-row interact-widget\")), Dict{String, Tuple{Observables.AbstractObservable, Union{Nothing, Bool}}}(\"changes\" => (Observable(0), nothing), \"index\" => (Observable{Any}(10), nothing)), Set{String}(), nothing, WebIO.Asset[WebIO.Asset(\"js\", \"knockout\", \"/home/dushya/.julia/packages/Knockout/HReiN/src/../assets/knockout.js\"), WebIO.Asset(\"js\", \"knockout_punches\", \"/home/dushya/.julia/packages/Knockout/HReiN/src/../assets/knockout_punches.js\"), WebIO.Asset(\"js\", nothing, \"/home/dushya/.julia/packages/InteractBase/LJXv3/src/../assets/all.js\"), WebIO.Asset(\"css\", nothing, \"/home/dushya/.julia/packages/InteractBase/LJXv3/src/../assets/style.css\"), WebIO.Asset(\"css\", nothing, \"/home/dushya/.julia/packages/Interact/PENUy/src/../assets/bulma_confined.min.css\")], Dict{Any, Any}(\"changes\" => Any[WebIO.JSString(\"(function (val){return (val!=this.model[\\\"changes\\\"]()) ? (this.valueFromJulia[\\\"changes\\\"]=true, this.model[\\\"changes\\\"](val)) : undefined})\")], \"index\" => Any[WebIO.JSString(\"(function (val){return (val!=this.model[\\\"index\\\"]()) ? (this.valueFromJulia[\\\"index\\\"]=true, this.model[\\\"index\\\"](val)) : undefined})\")]), WebIO.ConnectionPool(Channel{Any}(32), Set{WebIO.AbstractConnection}(), Base.GenericCondition{ReentrantLock}(Base.IntrusiveLinkedList{Task}(Task (runnable) @0x00007fe7ff0255f0, Task (runnable) @0x00007fe7ff0255f0), ReentrantLock(nothing, 0x00000000, 0x00, Base.GenericCondition{Base.Threads.SpinLock}(Base.IntrusiveLinkedList{Task}(nothing, nothing), Base.Threads.SpinLock(0)), (8, 140634305401920, 139779710648320)))), WebIO.JSString[WebIO.JSString(\"function () {\\n    var handler = (function (ko, koPunches) {\\n    ko.punches.enableAll();\\n    ko.bindingHandlers.numericValue = {\\n        init: function(element, valueAccessor, allBindings, data, context) {\\n            var stringified = ko.observable(ko.unwrap(valueAccessor()));\\n            stringified.subscribe(function(value) {\\n                var val = parseFloat(value);\\n                if (!isNaN(val)) {\\n                    valueAccessor()(val);\\n                }\\n            });\\n            valueAccessor().subscribe(function(value) {\\n                var str = JSON.stringify(value);\\n                if ((str == \\\"0\\\") && ([\\\"-0\\\", \\\"-0.\\\"].indexOf(stringified()) >= 0))\\n                     return;\\n                 if ([\\\"null\\\", \\\"\\\"].indexOf(str) >= 0)\\n                     return;\\n                stringified(str);\\n            });\\n            ko.applyBindingsToNode(\\n                element,\\n                {\\n                    value: stringified,\\n                    valueUpdate: allBindings.get('valueUpdate'),\\n                },\\n                context,\\n            );\\n        }\\n    };\\n    var json_data = {\\\"formatted_vals\\\":[\\\"0.1\\\",\\\"0.2\\\",\\\"0.3\\\",\\\"0.4\\\",\\\"0.5\\\",\\\"0.6\\\",\\\"0.7\\\",\\\"0.8\\\",\\\"0.9\\\",\\\"1.0\\\",\\\"1.1\\\",\\\"1.2\\\",\\\"1.3\\\",\\\"1.4\\\",\\\"1.5\\\",\\\"1.6\\\",\\\"1.7\\\",\\\"1.8\\\",\\\"1.9\\\",\\\"2.0\\\"],\\\"changes\\\":WebIO.getval({\\\"name\\\":\\\"changes\\\",\\\"scope\\\":\\\"10265148893821113329\\\",\\\"id\\\":\\\"8212634129073952642\\\",\\\"type\\\":\\\"observable\\\"}),\\\"index\\\":WebIO.getval({\\\"name\\\":\\\"index\\\",\\\"scope\\\":\\\"10265148893821113329\\\",\\\"id\\\":\\\"10965154374008550338\\\",\\\"type\\\":\\\"observable\\\"})};\\n    var self = this;\\n    function AppViewModel() {\\n        for (var key in json_data) {\\n            var el = json_data[key];\\n            this[key] = Array.isArray(el) ? ko.observableArray(el) : ko.observable(el);\\n        }\\n        \\n        [this[\\\"formatted_val\\\"]=ko.computed(    function(){\\n        return this.formatted_vals()[parseInt(this.index())-(1)];\\n    }\\n,this)]\\n        [this[\\\"changes\\\"].subscribe((function (val){!(this.valueFromJulia[\\\"changes\\\"]) ? (WebIO.setval({\\\"name\\\":\\\"changes\\\",\\\"scope\\\":\\\"10265148893821113329\\\",\\\"id\\\":\\\"8212634129073952642\\\",\\\"type\\\":\\\"observable\\\"},val)) : undefined; return this.valueFromJulia[\\\"changes\\\"]=false}),self),this[\\\"index\\\"].subscribe((function (val){!(this.valueFromJulia[\\\"index\\\"]) ? (WebIO.setval({\\\"name\\\":\\\"index\\\",\\\"scope\\\":\\\"10265148893821113329\\\",\\\"id\\\":\\\"10965154374008550338\\\",\\\"type\\\":\\\"observable\\\"},val)) : undefined; return this.valueFromJulia[\\\"index\\\"]=false}),self)]\\n        \\n    }\\n    self.model = new AppViewModel();\\n    self.valueFromJulia = {};\\n    for (var key in json_data) {\\n        self.valueFromJulia[key] = false;\\n    }\\n    ko.applyBindings(self.model, self.dom);\\n}\\n);\\n    (WebIO.importBlock({\\\"data\\\":[{\\\"name\\\":\\\"knockout\\\",\\\"type\\\":\\\"js\\\",\\\"url\\\":\\\"/assetserver/727383f2a47bd31570b7da84eee7b022dd6d7c78-knockout.js\\\"},{\\\"name\\\":\\\"knockout_punches\\\",\\\"type\\\":\\\"js\\\",\\\"url\\\":\\\"/assetserver/382b41b3b1bd9f26f75861d360bad7f8beea211f-knockout_punches.js\\\"}],\\\"type\\\":\\\"async_block\\\"})).then((imports) => handler.apply(this, imports));\\n}\\n\")])], Dict{Symbol, Any}(:className => \"field interact-widget\")), WebIO.Node{WebIO.DOM}(WebIO.DOM(:html, :div), Any[], Dict{Symbol, Any}(:style => Dict(\"display\" => \"flex\", \"flex-direction\" => \"column\"))), WebIO.Node{WebIO.DOM}(WebIO.DOM(:html, :div), Any[WebIO.Node{WebIO.DOM}(WebIO.DOM(:html, :div), Any[WebIO.Scope(WebIO.Node{WebIO.DOM}(WebIO.DOM(:html, :div), Any[WebIO.Node{WebIO.DOM}(WebIO.DOM(:html, :div), Any[WebIO.Node{WebIO.DOM}(WebIO.DOM(:html, :label), Any[\"threshold\"], Dict{Symbol, Any}(:className => \"interact \", :style => Dict{Any, Any}(:padding => \"5px 10px 0px 10px\")))], Dict{Symbol, Any}(:className => \"interact-flex-row-left\")), WebIO.Node{WebIO.DOM}(WebIO.DOM(:html, :div), Any[WebIO.Node{WebIO.DOM}(WebIO.DOM(:html, :input), Any[], Dict{Symbol, Any}(:max => 8, :min => 1, :attributes => Dict{Any, Any}(:type => \"range\", Symbol(\"data-bind\") => \"numericValue: index, valueUpdate: 'input', event: {change: function (){this.changes(this.changes()+1)}}\", \"orient\" => \"horizontal\"), :step => 1, :className => \"slider slider is-fullwidth\", :style => Dict{Any, Any}()))], Dict{Symbol, Any}(:className => \"interact-flex-row-center\")), WebIO.Node{WebIO.DOM}(WebIO.DOM(:html, :div), Any[WebIO.Node{WebIO.DOM}(WebIO.DOM(:html, :p), Any[], Dict{Symbol, Any}(:attributes => Dict(\"data-bind\" => \"text: formatted_val\")))], Dict{Symbol, Any}(:className => \"interact-flex-row-right\"))], Dict{Symbol, Any}(:className => \"interact-flex-row interact-widget\")), Dict{String, Tuple{Observables.AbstractObservable, Union{Nothing, Bool}}}(\"changes\" => (Observable(0), nothing), \"index\" => (Observable(4), nothing)), Set{String}(), nothing, WebIO.Asset[WebIO.Asset(\"js\", \"knockout\", \"/home/dushya/.julia/packages/Knockout/HReiN/src/../assets/knockout.js\"), WebIO.Asset(\"js\", \"knockout_punches\", \"/home/dushya/.julia/packages/Knockout/HReiN/src/../assets/knockout_punches.js\"), WebIO.Asset(\"js\", nothing, \"/home/dushya/.julia/packages/InteractBase/LJXv3/src/../assets/all.js\"), WebIO.Asset(\"css\", nothing, \"/home/dushya/.julia/packages/InteractBase/LJXv3/src/../assets/style.css\"), WebIO.Asset(\"css\", nothing, \"/home/dushya/.julia/packages/Interact/PENUy/src/../assets/bulma_confined.min.css\")], Dict{Any, Any}(\"changes\" => Any[WebIO.JSString(\"(function (val){return (val!=this.model[\\\"changes\\\"]()) ? (this.valueFromJulia[\\\"changes\\\"]=true, this.model[\\\"changes\\\"](val)) : undefined})\")], \"index\" => Any[WebIO.JSString(\"(function (val){return (val!=this.model[\\\"index\\\"]()) ? (this.valueFromJulia[\\\"index\\\"]=true, this.model[\\\"index\\\"](val)) : undefined})\")]), WebIO.ConnectionPool(Channel{Any}(32), Set{WebIO.AbstractConnection}(), Base.GenericCondition{ReentrantLock}(Base.IntrusiveLinkedList{Task}(Task (runnable) @0x00007fe7ff1d3850, Task (runnable) @0x00007fe7ff1d3850), ReentrantLock(nothing, 0x00000000, 0x00, Base.GenericCondition{Base.Threads.SpinLock}(Base.IntrusiveLinkedList{Task}(nothing, nothing), Base.Threads.SpinLock(0)), (0, 0, 141733920768)))), WebIO.JSString[WebIO.JSString(\"function () {\\n    var handler = (function (ko, koPunches) {\\n    ko.punches.enableAll();\\n    ko.bindingHandlers.numericValue = {\\n        init: function(element, valueAccessor, allBindings, data, context) {\\n            var stringified = ko.observable(ko.unwrap(valueAccessor()));\\n            stringified.subscribe(function(value) {\\n                var val = parseFloat(value);\\n                if (!isNaN(val)) {\\n                    valueAccessor()(val);\\n                }\\n            });\\n            valueAccessor().subscribe(function(value) {\\n                var str = JSON.stringify(value);\\n                if ((str == \\\"0\\\") && ([\\\"-0\\\", \\\"-0.\\\"].indexOf(stringified()) >= 0))\\n                     return;\\n                 if ([\\\"null\\\", \\\"\\\"].indexOf(str) >= 0)\\n                     return;\\n                stringified(str);\\n            });\\n            ko.applyBindingsToNode(\\n                element,\\n                {\\n                    value: stringified,\\n                    valueUpdate: allBindings.get('valueUpdate'),\\n                },\\n                context,\\n            );\\n        }\\n    };\\n    var json_data = {\\\"formatted_vals\\\":[\\\"1\\\",\\\"2\\\",\\\"3\\\",\\\"4\\\",\\\"5\\\",\\\"6\\\",\\\"7\\\",\\\"8\\\"],\\\"changes\\\":WebIO.getval({\\\"name\\\":\\\"changes\\\",\\\"scope\\\":\\\"17801148828286304714\\\",\\\"id\\\":\\\"7062196156544671619\\\",\\\"type\\\":\\\"observable\\\"}),\\\"index\\\":WebIO.getval({\\\"name\\\":\\\"index\\\",\\\"scope\\\":\\\"17801148828286304714\\\",\\\"id\\\":\\\"48840778856784315\\\",\\\"type\\\":\\\"observable\\\"})};\\n    var self = this;\\n    function AppViewModel() {\\n        for (var key in json_data) {\\n            var el = json_data[key];\\n            this[key] = Array.isArray(el) ? ko.observableArray(el) : ko.observable(el);\\n        }\\n        \\n        [this[\\\"formatted_val\\\"]=ko.computed(    function(){\\n        return this.formatted_vals()[parseInt(this.index())-(1)];\\n    }\\n,this)]\\n        [this[\\\"changes\\\"].subscribe((function (val){!(this.valueFromJulia[\\\"changes\\\"]) ? (WebIO.setval({\\\"name\\\":\\\"changes\\\",\\\"scope\\\":\\\"17801148828286304714\\\",\\\"id\\\":\\\"7062196156544671619\\\",\\\"type\\\":\\\"observable\\\"},val)) : undefined; return this.valueFromJulia[\\\"changes\\\"]=false}),self),this[\\\"index\\\"].subscribe((function (val){!(this.valueFromJulia[\\\"index\\\"]) ? (WebIO.setval({\\\"name\\\":\\\"index\\\",\\\"scope\\\":\\\"17801148828286304714\\\",\\\"id\\\":\\\"48840778856784315\\\",\\\"type\\\":\\\"observable\\\"},val)) : undefined; return this.valueFromJulia[\\\"index\\\"]=false}),self)]\\n        \\n    }\\n    self.model = new AppViewModel();\\n    self.valueFromJulia = {};\\n    for (var key in json_data) {\\n        self.valueFromJulia[key] = false;\\n    }\\n    ko.applyBindings(self.model, self.dom);\\n}\\n);\\n    (WebIO.importBlock({\\\"data\\\":[{\\\"name\\\":\\\"knockout\\\",\\\"type\\\":\\\"js\\\",\\\"url\\\":\\\"/assetserver/727383f2a47bd31570b7da84eee7b022dd6d7c78-knockout.js\\\"},{\\\"name\\\":\\\"knockout_punches\\\",\\\"type\\\":\\\"js\\\",\\\"url\\\":\\\"/assetserver/382b41b3b1bd9f26f75861d360bad7f8beea211f-knockout_punches.js\\\"}],\\\"type\\\":\\\"async_block\\\"})).then((imports) => handler.apply(this, imports));\\n}\\n\")])], Dict{Symbol, Any}(:className => \"field interact-widget\"))], Dict{Symbol, Any}(:style => Dict(\"display\" => \"flex\", \"flex-direction\" => \"column\"))), WebIO.Node{WebIO.DOM}(WebIO.DOM(:html, :div), Any[WebIO.Node{WebIO.DOM}(WebIO.DOM(:html, :div), Any[WebIO.Scope(WebIO.Node{WebIO.DOM}(WebIO.DOM(:html, :div), Any[], Dict{Symbol, Any}(:id => \"container\")), Dict{String, Tuple{Observables.AbstractObservable, Union{Nothing, Bool}}}(\"value\" => (Observable(\"\\\\;\\\\;\"), nothing)), Set{String}(), nothing, WebIO.Asset[WebIO.Asset(\"js\", nothing, \"/home/dushya/.julia/packages/InteractBase/LJXv3/src/../assets/katex.min.js\"), WebIO.Asset(\"css\", nothing, \"/home/dushya/.julia/packages/InteractBase/LJXv3/src/../assets/katex.min.css\")], Dict{Any, Any}(\"value\" => Any[WebIO.JSString(\"(function (txt){return this.k.render(txt,this.container)})\")]), WebIO.ConnectionPool(Channel{Any}(32), Set{WebIO.AbstractConnection}(), Base.GenericCondition{ReentrantLock}(Base.IntrusiveLinkedList{Task}(Task (runnable) @0x00007fe800a74b00, Task (runnable) @0x00007fe800a74b00), ReentrantLock(nothing, 0x00000000, 0x00, Base.GenericCondition{Base.Threads.SpinLock}(Base.IntrusiveLinkedList{Task}(nothing, nothing), Base.Threads.SpinLock(0)), (8, 0, 141733920768)))), WebIO.JSString[WebIO.JSString(\"function () {\\n    var handler = ((function (k){this.k=k; this.container=this.dom.querySelector(\\\"#container\\\"); return k.render(\\\"\\\\\\\\;\\\\\\\\;\\\",this.container)}));\\n    (WebIO.importBlock({\\\"data\\\":[{\\\"name\\\":null,\\\"type\\\":\\\"js\\\",\\\"url\\\":\\\"/assetserver/dd22ed1bf1896c2748f3fe616ce0b838adc895c1-katex.min.js\\\"},{\\\"name\\\":null,\\\"type\\\":\\\"css\\\",\\\"url\\\":\\\"/assetserver/46517a424aa5e6cffc1360d7e0848b601c584ee3-katex.min.css\\\"}],\\\"type\\\":\\\"async_block\\\"})).then((imports) => handler.apply(this, imports));\\n}\\n\")])], Dict{Symbol, Any}(:className => \"interact-widget\")), WebIO.Node{WebIO.DOM}(WebIO.DOM(:html, :div), Any[WebIO.Scope(WebIO.Node{WebIO.DOM}(WebIO.DOM(:html, :button), Any[\"run\"], Dict{Symbol, Any}(:attributes => Dict{Any, Any}(\"data-bind\" => \"click: function (){this.clicks(this.clicks()+1)}, css: {'is-loading' : loading}\"), :className => \"is-medium button is-primary\", :style => Dict{String, Any}())), Dict{String, Tuple{Observables.AbstractObservable, Union{Nothing, Bool}}}(\"loading\" => (Observable(false), nothing), \"clicks\" => (Observable(0), nothing)), Set{String}(), nothing, WebIO.Asset[WebIO.Asset(\"js\", \"knockout\", \"/home/dushya/.julia/packages/Knockout/HReiN/src/../assets/knockout.js\"), WebIO.Asset(\"js\", \"knockout_punches\", \"/home/dushya/.julia/packages/Knockout/HReiN/src/../assets/knockout_punches.js\"), WebIO.Asset(\"js\", nothing, \"/home/dushya/.julia/packages/InteractBase/LJXv3/src/../assets/all.js\"), WebIO.Asset(\"css\", nothing, \"/home/dushya/.julia/packages/InteractBase/LJXv3/src/../assets/style.css\"), WebIO.Asset(\"css\", nothing, \"/home/dushya/.julia/packages/Interact/PENUy/src/../assets/bulma_confined.min.css\")], Dict{Any, Any}(\"loading\" => Any[WebIO.JSString(\"(function (val){return (val!=this.model[\\\"loading\\\"]()) ? (this.valueFromJulia[\\\"loading\\\"]=true, this.model[\\\"loading\\\"](val)) : undefined})\")], \"clicks\" => Any[WebIO.JSString(\"(function (val){return (val!=this.model[\\\"clicks\\\"]()) ? (this.valueFromJulia[\\\"clicks\\\"]=true, this.model[\\\"clicks\\\"](val)) : undefined})\")]), WebIO.ConnectionPool(Channel{Any}(32), Set{WebIO.AbstractConnection}(), Base.GenericCondition{ReentrantLock}(Base.IntrusiveLinkedList{Task}(Task (runnable) @0x00007fe7ff5ba270, Task (runnable) @0x00007fe7ff5ba270), ReentrantLock(nothing, 0x00000000, 0x00, Base.GenericCondition{Base.Threads.SpinLock}(Base.IntrusiveLinkedList{Task}(nothing, nothing), Base.Threads.SpinLock(0)), (0, 140633547851536, 141733920768)))), WebIO.JSString[WebIO.JSString(\"function () {\\n    var handler = (function (ko, koPunches) {\\n    ko.punches.enableAll();\\n    ko.bindingHandlers.numericValue = {\\n        init: function(element, valueAccessor, allBindings, data, context) {\\n            var stringified = ko.observable(ko.unwrap(valueAccessor()));\\n            stringified.subscribe(function(value) {\\n                var val = parseFloat(value);\\n                if (!isNaN(val)) {\\n                    valueAccessor()(val);\\n                }\\n            });\\n            valueAccessor().subscribe(function(value) {\\n                var str = JSON.stringify(value);\\n                if ((str == \\\"0\\\") && ([\\\"-0\\\", \\\"-0.\\\"].indexOf(stringified()) >= 0))\\n                     return;\\n                 if ([\\\"null\\\", \\\"\\\"].indexOf(str) >= 0)\\n                     return;\\n                stringified(str);\\n            });\\n            ko.applyBindingsToNode(\\n                element,\\n                {\\n                    value: stringified,\\n                    valueUpdate: allBindings.get('valueUpdate'),\\n                },\\n                context,\\n            );\\n        }\\n    };\\n    var json_data = {\\\"loading\\\":WebIO.getval({\\\"name\\\":\\\"loading\\\",\\\"scope\\\":\\\"14337517423416751744\\\",\\\"id\\\":\\\"10565832053117284244\\\",\\\"type\\\":\\\"observable\\\"}),\\\"clicks\\\":WebIO.getval({\\\"name\\\":\\\"clicks\\\",\\\"scope\\\":\\\"14337517423416751744\\\",\\\"id\\\":\\\"6598328723306260973\\\",\\\"type\\\":\\\"observable\\\"})};\\n    var self = this;\\n    function AppViewModel() {\\n        for (var key in json_data) {\\n            var el = json_data[key];\\n            this[key] = Array.isArray(el) ? ko.observableArray(el) : ko.observable(el);\\n        }\\n        \\n        \\n        [this[\\\"loading\\\"].subscribe((function (val){!(this.valueFromJulia[\\\"loading\\\"]) ? (WebIO.setval({\\\"name\\\":\\\"loading\\\",\\\"scope\\\":\\\"14337517423416751744\\\",\\\"id\\\":\\\"10565832053117284244\\\",\\\"type\\\":\\\"observable\\\"},val)) : undefined; return this.valueFromJulia[\\\"loading\\\"]=false}),self),this[\\\"clicks\\\"].subscribe((function (val){!(this.valueFromJulia[\\\"clicks\\\"]) ? (WebIO.setval({\\\"name\\\":\\\"clicks\\\",\\\"scope\\\":\\\"14337517423416751744\\\",\\\"id\\\":\\\"6598328723306260973\\\",\\\"type\\\":\\\"observable\\\"},val)) : undefined; return this.valueFromJulia[\\\"clicks\\\"]=false}),self)]\\n        \\n    }\\n    self.model = new AppViewModel();\\n    self.valueFromJulia = {};\\n    for (var key in json_data) {\\n        self.valueFromJulia[key] = false;\\n    }\\n    ko.applyBindings(self.model, self.dom);\\n}\\n);\\n    (WebIO.importBlock({\\\"data\\\":[{\\\"name\\\":\\\"knockout\\\",\\\"type\\\":\\\"js\\\",\\\"url\\\":\\\"/assetserver/727383f2a47bd31570b7da84eee7b022dd6d7c78-knockout.js\\\"},{\\\"name\\\":\\\"knockout_punches\\\",\\\"type\\\":\\\"js\\\",\\\"url\\\":\\\"/assetserver/382b41b3b1bd9f26f75861d360bad7f8beea211f-knockout_punches.js\\\"}],\\\"type\\\":\\\"async_block\\\"})).then((imports) => handler.apply(this, imports));\\n}\\n\")])], Dict{Symbol, Any}(:className => \"field interact-widget\")), WebIO.Node{WebIO.DOM}(WebIO.DOM(:html, :div), Any[WebIO.Scope(WebIO.Node{WebIO.DOM}(WebIO.DOM(:html, :div), Any[], Dict{Symbol, Any}(:id => \"container\")), Dict{String, Tuple{Observables.AbstractObservable, Union{Nothing, Bool}}}(\"value\" => (Observable(\"\\\\;\\\\;\"), nothing)), Set{String}(), nothing, WebIO.Asset[WebIO.Asset(\"js\", nothing, \"/home/dushya/.julia/packages/InteractBase/LJXv3/src/../assets/katex.min.js\"), WebIO.Asset(\"css\", nothing, \"/home/dushya/.julia/packages/InteractBase/LJXv3/src/../assets/katex.min.css\")], Dict{Any, Any}(\"value\" => Any[WebIO.JSString(\"(function (txt){return this.k.render(txt,this.container)})\")]), WebIO.ConnectionPool(Channel{Any}(32), Set{WebIO.AbstractConnection}(), Base.GenericCondition{ReentrantLock}(Base.IntrusiveLinkedList{Task}(Task (runnable) @0x00007fe800a74b00, Task (runnable) @0x00007fe800a74b00), ReentrantLock(nothing, 0x00000000, 0x00, Base.GenericCondition{Base.Threads.SpinLock}(Base.IntrusiveLinkedList{Task}(nothing, nothing), Base.Threads.SpinLock(0)), (8, 0, 141733920768)))), WebIO.JSString[WebIO.JSString(\"function () {\\n    var handler = ((function (k){this.k=k; this.container=this.dom.querySelector(\\\"#container\\\"); return k.render(\\\"\\\\\\\\;\\\\\\\\;\\\",this.container)}));\\n    (WebIO.importBlock({\\\"data\\\":[{\\\"name\\\":null,\\\"type\\\":\\\"js\\\",\\\"url\\\":\\\"/assetserver/dd22ed1bf1896c2748f3fe616ce0b838adc895c1-katex.min.js\\\"},{\\\"name\\\":null,\\\"type\\\":\\\"css\\\",\\\"url\\\":\\\"/assetserver/46517a424aa5e6cffc1360d7e0848b601c584ee3-katex.min.css\\\"}],\\\"type\\\":\\\"async_block\\\"})).then((imports) => handler.apply(this, imports));\\n}\\n\")])], Dict{Symbol, Any}(:className => \"interact-widget\")), WebIO.Node{WebIO.DOM}(WebIO.DOM(:html, :div), Any[WebIO.Scope(WebIO.Node{WebIO.DOM}(WebIO.DOM(:html, :button), Any[\"stop\"], Dict{Symbol, Any}(:attributes => Dict{Any, Any}(\"data-bind\" => \"click: function (){this.clicks(this.clicks()+1)}, css: {'is-loading' : loading}\"), :className => \"is-medium button is-primary\", :style => Dict{String, Any}())), Dict{String, Tuple{Observables.AbstractObservable, Union{Nothing, Bool}}}(\"loading\" => (Observable(false), nothing), \"clicks\" => (Observable(0), nothing)), Set{String}(), nothing, WebIO.Asset[WebIO.Asset(\"js\", \"knockout\", \"/home/dushya/.julia/packages/Knockout/HReiN/src/../assets/knockout.js\"), WebIO.Asset(\"js\", \"knockout_punches\", \"/home/dushya/.julia/packages/Knockout/HReiN/src/../assets/knockout_punches.js\"), WebIO.Asset(\"js\", nothing, \"/home/dushya/.julia/packages/InteractBase/LJXv3/src/../assets/all.js\"), WebIO.Asset(\"css\", nothing, \"/home/dushya/.julia/packages/InteractBase/LJXv3/src/../assets/style.css\"), WebIO.Asset(\"css\", nothing, \"/home/dushya/.julia/packages/Interact/PENUy/src/../assets/bulma_confined.min.css\")], Dict{Any, Any}(\"loading\" => Any[WebIO.JSString(\"(function (val){return (val!=this.model[\\\"loading\\\"]()) ? (this.valueFromJulia[\\\"loading\\\"]=true, this.model[\\\"loading\\\"](val)) : undefined})\")], \"clicks\" => Any[WebIO.JSString(\"(function (val){return (val!=this.model[\\\"clicks\\\"]()) ? (this.valueFromJulia[\\\"clicks\\\"]=true, this.model[\\\"clicks\\\"](val)) : undefined})\")]), WebIO.ConnectionPool(Channel{Any}(32), Set{WebIO.AbstractConnection}(), Base.GenericCondition{ReentrantLock}(Base.IntrusiveLinkedList{Task}(Task (runnable) @0x00007fe7ff711460, Task (runnable) @0x00007fe7ff711460), ReentrantLock(nothing, 0x00000000, 0x00, Base.GenericCondition{Base.Threads.SpinLock}(Base.IntrusiveLinkedList{Task}(nothing, nothing), Base.Threads.SpinLock(0)), (0, 140634228505344, 140634228505536)))), WebIO.JSString[WebIO.JSString(\"function () {\\n    var handler = (function (ko, koPunches) {\\n    ko.punches.enableAll();\\n    ko.bindingHandlers.numericValue = {\\n        init: function(element, valueAccessor, allBindings, data, context) {\\n            var stringified = ko.observable(ko.unwrap(valueAccessor()));\\n            stringified.subscribe(function(value) {\\n                var val = parseFloat(value);\\n                if (!isNaN(val)) {\\n                    valueAccessor()(val);\\n                }\\n            });\\n            valueAccessor().subscribe(function(value) {\\n                var str = JSON.stringify(value);\\n                if ((str == \\\"0\\\") && ([\\\"-0\\\", \\\"-0.\\\"].indexOf(stringified()) >= 0))\\n                     return;\\n                 if ([\\\"null\\\", \\\"\\\"].indexOf(str) >= 0)\\n                     return;\\n                stringified(str);\\n            });\\n            ko.applyBindingsToNode(\\n                element,\\n                {\\n                    value: stringified,\\n                    valueUpdate: allBindings.get('valueUpdate'),\\n                },\\n                context,\\n            );\\n        }\\n    };\\n    var json_data = {\\\"loading\\\":WebIO.getval({\\\"name\\\":\\\"loading\\\",\\\"scope\\\":\\\"1609271401452875011\\\",\\\"id\\\":\\\"886133317242514752\\\",\\\"type\\\":\\\"observable\\\"}),\\\"clicks\\\":WebIO.getval({\\\"name\\\":\\\"clicks\\\",\\\"scope\\\":\\\"1609271401452875011\\\",\\\"id\\\":\\\"3256067798587017689\\\",\\\"type\\\":\\\"observable\\\"})};\\n    var self = this;\\n    function AppViewModel() {\\n        for (var key in json_data) {\\n            var el = json_data[key];\\n            this[key] = Array.isArray(el) ? ko.observableArray(el) : ko.observable(el);\\n        }\\n        \\n        \\n        [this[\\\"loading\\\"].subscribe((function (val){!(this.valueFromJulia[\\\"loading\\\"]) ? (WebIO.setval({\\\"name\\\":\\\"loading\\\",\\\"scope\\\":\\\"1609271401452875011\\\",\\\"id\\\":\\\"886133317242514752\\\",\\\"type\\\":\\\"observable\\\"},val)) : undefined; return this.valueFromJulia[\\\"loading\\\"]=false}),self),this[\\\"clicks\\\"].subscribe((function (val){!(this.valueFromJulia[\\\"clicks\\\"]) ? (WebIO.setval({\\\"name\\\":\\\"clicks\\\",\\\"scope\\\":\\\"1609271401452875011\\\",\\\"id\\\":\\\"3256067798587017689\\\",\\\"type\\\":\\\"observable\\\"},val)) : undefined; return this.valueFromJulia[\\\"clicks\\\"]=false}),self)]\\n        \\n    }\\n    self.model = new AppViewModel();\\n    self.valueFromJulia = {};\\n    for (var key in json_data) {\\n        self.valueFromJulia[key] = false;\\n    }\\n    ko.applyBindings(self.model, self.dom);\\n}\\n);\\n    (WebIO.importBlock({\\\"data\\\":[{\\\"name\\\":\\\"knockout\\\",\\\"type\\\":\\\"js\\\",\\\"url\\\":\\\"/assetserver/727383f2a47bd31570b7da84eee7b022dd6d7c78-knockout.js\\\"},{\\\"name\\\":\\\"knockout_punches\\\",\\\"type\\\":\\\"js\\\",\\\"url\\\":\\\"/assetserver/382b41b3b1bd9f26f75861d360bad7f8beea211f-knockout_punches.js\\\"}],\\\"type\\\":\\\"async_block\\\"})).then((imports) => handler.apply(this, imports));\\n}\\n\")])], Dict{Symbol, Any}(:className => \"field interact-widget\")), WebIO.Node{WebIO.DOM}(WebIO.DOM(:html, :div), Any[WebIO.Scope(WebIO.Node{WebIO.DOM}(WebIO.DOM(:html, :div), Any[], Dict{Symbol, Any}(:id => \"container\")), Dict{String, Tuple{Observables.AbstractObservable, Union{Nothing, Bool}}}(\"value\" => (Observable(\"\\\\;\\\\;\"), nothing)), Set{String}(), nothing, WebIO.Asset[WebIO.Asset(\"js\", nothing, \"/home/dushya/.julia/packages/InteractBase/LJXv3/src/../assets/katex.min.js\"), WebIO.Asset(\"css\", nothing, \"/home/dushya/.julia/packages/InteractBase/LJXv3/src/../assets/katex.min.css\")], Dict{Any, Any}(\"value\" => Any[WebIO.JSString(\"(function (txt){return this.k.render(txt,this.container)})\")]), WebIO.ConnectionPool(Channel{Any}(32), Set{WebIO.AbstractConnection}(), Base.GenericCondition{ReentrantLock}(Base.IntrusiveLinkedList{Task}(Task (runnable) @0x00007fe800a74b00, Task (runnable) @0x00007fe800a74b00), ReentrantLock(nothing, 0x00000000, 0x00, Base.GenericCondition{Base.Threads.SpinLock}(Base.IntrusiveLinkedList{Task}(nothing, nothing), Base.Threads.SpinLock(0)), (8, 0, 141733920768)))), WebIO.JSString[WebIO.JSString(\"function () {\\n    var handler = ((function (k){this.k=k; this.container=this.dom.querySelector(\\\"#container\\\"); return k.render(\\\"\\\\\\\\;\\\\\\\\;\\\",this.container)}));\\n    (WebIO.importBlock({\\\"data\\\":[{\\\"name\\\":null,\\\"type\\\":\\\"js\\\",\\\"url\\\":\\\"/assetserver/dd22ed1bf1896c2748f3fe616ce0b838adc895c1-katex.min.js\\\"},{\\\"name\\\":null,\\\"type\\\":\\\"css\\\",\\\"url\\\":\\\"/assetserver/46517a424aa5e6cffc1360d7e0848b601c584ee3-katex.min.css\\\"}],\\\"type\\\":\\\"async_block\\\"})).then((imports) => handler.apply(this, imports));\\n}\\n\")])], Dict{Symbol, Any}(:className => \"interact-widget\")), WebIO.Node{WebIO.DOM}(WebIO.DOM(:html, :div), Any[WebIO.Scope(WebIO.Node{WebIO.DOM}(WebIO.DOM(:html, :button), Any[\"reset\"], Dict{Symbol, Any}(:attributes => Dict{Any, Any}(\"data-bind\" => \"click: function (){this.clicks(this.clicks()+1)}, css: {'is-loading' : loading}\"), :className => \"is-medium button is-primary\", :style => Dict{String, Any}())), Dict{String, Tuple{Observables.AbstractObservable, Union{Nothing, Bool}}}(\"loading\" => (Observable(false), nothing), \"clicks\" => (Observable(0), nothing)), Set{String}(), nothing, WebIO.Asset[WebIO.Asset(\"js\", \"knockout\", \"/home/dushya/.julia/packages/Knockout/HReiN/src/../assets/knockout.js\"), WebIO.Asset(\"js\", \"knockout_punches\", \"/home/dushya/.julia/packages/Knockout/HReiN/src/../assets/knockout_punches.js\"), WebIO.Asset(\"js\", nothing, \"/home/dushya/.julia/packages/InteractBase/LJXv3/src/../assets/all.js\"), WebIO.Asset(\"css\", nothing, \"/home/dushya/.julia/packages/InteractBase/LJXv3/src/../assets/style.css\"), WebIO.Asset(\"css\", nothing, \"/home/dushya/.julia/packages/Interact/PENUy/src/../assets/bulma_confined.min.css\")], Dict{Any, Any}(\"loading\" => Any[WebIO.JSString(\"(function (val){return (val!=this.model[\\\"loading\\\"]()) ? (this.valueFromJulia[\\\"loading\\\"]=true, this.model[\\\"loading\\\"](val)) : undefined})\")], \"clicks\" => Any[WebIO.JSString(\"(function (val){return (val!=this.model[\\\"clicks\\\"]()) ? (this.valueFromJulia[\\\"clicks\\\"]=true, this.model[\\\"clicks\\\"](val)) : undefined})\")]), WebIO.ConnectionPool(Channel{Any}(32), Set{WebIO.AbstractConnection}(), Base.GenericCondition{ReentrantLock}(Base.IntrusiveLinkedList{Task}(Task (runnable) @0x00007fe7ff8b7530, Task (runnable) @0x00007fe7ff8b7530), ReentrantLock(nothing, 0x00000000, 0x00, Base.GenericCondition{Base.Threads.SpinLock}(Base.IntrusiveLinkedList{Task}(nothing, nothing), Base.Threads.SpinLock(0)), (1, 140633548309072, 3)))), WebIO.JSString[WebIO.JSString(\"function () {\\n    var handler = (function (ko, koPunches) {\\n    ko.punches.enableAll();\\n    ko.bindingHandlers.numericValue = {\\n        init: function(element, valueAccessor, allBindings, data, context) {\\n            var stringified = ko.observable(ko.unwrap(valueAccessor()));\\n            stringified.subscribe(function(value) {\\n                var val = parseFloat(value);\\n                if (!isNaN(val)) {\\n                    valueAccessor()(val);\\n                }\\n            });\\n            valueAccessor().subscribe(function(value) {\\n                var str = JSON.stringify(value);\\n                if ((str == \\\"0\\\") && ([\\\"-0\\\", \\\"-0.\\\"].indexOf(stringified()) >= 0))\\n                     return;\\n                 if ([\\\"null\\\", \\\"\\\"].indexOf(str) >= 0)\\n                     return;\\n                stringified(str);\\n            });\\n            ko.applyBindingsToNode(\\n                element,\\n                {\\n                    value: stringified,\\n                    valueUpdate: allBindings.get('valueUpdate'),\\n                },\\n                context,\\n            );\\n        }\\n    };\\n    var json_data = {\\\"loading\\\":WebIO.getval({\\\"name\\\":\\\"loading\\\",\\\"scope\\\":\\\"103762669172679873\\\",\\\"id\\\":\\\"13828630224496718448\\\",\\\"type\\\":\\\"observable\\\"}),\\\"clicks\\\":WebIO.getval({\\\"name\\\":\\\"clicks\\\",\\\"scope\\\":\\\"103762669172679873\\\",\\\"id\\\":\\\"13664722276351927570\\\",\\\"type\\\":\\\"observable\\\"})};\\n    var self = this;\\n    function AppViewModel() {\\n        for (var key in json_data) {\\n            var el = json_data[key];\\n            this[key] = Array.isArray(el) ? ko.observableArray(el) : ko.observable(el);\\n        }\\n        \\n        \\n        [this[\\\"loading\\\"].subscribe((function (val){!(this.valueFromJulia[\\\"loading\\\"]) ? (WebIO.setval({\\\"name\\\":\\\"loading\\\",\\\"scope\\\":\\\"103762669172679873\\\",\\\"id\\\":\\\"13828630224496718448\\\",\\\"type\\\":\\\"observable\\\"},val)) : undefined; return this.valueFromJulia[\\\"loading\\\"]=false}),self),this[\\\"clicks\\\"].subscribe((function (val){!(this.valueFromJulia[\\\"clicks\\\"]) ? (WebIO.setval({\\\"name\\\":\\\"clicks\\\",\\\"scope\\\":\\\"103762669172679873\\\",\\\"id\\\":\\\"13664722276351927570\\\",\\\"type\\\":\\\"observable\\\"},val)) : undefined; return this.valueFromJulia[\\\"clicks\\\"]=false}),self)]\\n        \\n    }\\n    self.model = new AppViewModel();\\n    self.valueFromJulia = {};\\n    for (var key in json_data) {\\n        self.valueFromJulia[key] = false;\\n    }\\n    ko.applyBindings(self.model, self.dom);\\n}\\n);\\n    (WebIO.importBlock({\\\"data\\\":[{\\\"name\\\":\\\"knockout\\\",\\\"type\\\":\\\"js\\\",\\\"url\\\":\\\"/assetserver/727383f2a47bd31570b7da84eee7b022dd6d7c78-knockout.js\\\"},{\\\"name\\\":\\\"knockout_punches\\\",\\\"type\\\":\\\"js\\\",\\\"url\\\":\\\"/assetserver/382b41b3b1bd9f26f75861d360bad7f8beea211f-knockout_punches.js\\\"}],\\\"type\\\":\\\"async_block\\\"})).then((imports) => handler.apply(this, imports));\\n}\\n\")])], Dict{Symbol, Any}(:className => \"field interact-widget\")), WebIO.Node{WebIO.DOM}(WebIO.DOM(:html, :div), Any[WebIO.Scope(WebIO.Node{WebIO.DOM}(WebIO.DOM(:html, :div), Any[], Dict{Symbol, Any}(:id => \"container\")), Dict{String, Tuple{Observables.AbstractObservable, Union{Nothing, Bool}}}(\"value\" => (Observable(\"\\\\;\\\\;\"), nothing)), Set{String}(), nothing, WebIO.Asset[WebIO.Asset(\"js\", nothing, \"/home/dushya/.julia/packages/InteractBase/LJXv3/src/../assets/katex.min.js\"), WebIO.Asset(\"css\", nothing, \"/home/dushya/.julia/packages/InteractBase/LJXv3/src/../assets/katex.min.css\")], Dict{Any, Any}(\"value\" => Any[WebIO.JSString(\"(function (txt){return this.k.render(txt,this.container)})\")]), WebIO.ConnectionPool(Channel{Any}(32), Set{WebIO.AbstractConnection}(), Base.GenericCondition{ReentrantLock}(Base.IntrusiveLinkedList{Task}(Task (runnable) @0x00007fe800a74b00, Task (runnable) @0x00007fe800a74b00), ReentrantLock(nothing, 0x00000000, 0x00, Base.GenericCondition{Base.Threads.SpinLock}(Base.IntrusiveLinkedList{Task}(nothing, nothing), Base.Threads.SpinLock(0)), (8, 0, 141733920768)))), WebIO.JSString[WebIO.JSString(\"function () {\\n    var handler = ((function (k){this.k=k; this.container=this.dom.querySelector(\\\"#container\\\"); return k.render(\\\"\\\\\\\\;\\\\\\\\;\\\",this.container)}));\\n    (WebIO.importBlock({\\\"data\\\":[{\\\"name\\\":null,\\\"type\\\":\\\"js\\\",\\\"url\\\":\\\"/assetserver/dd22ed1bf1896c2748f3fe616ce0b838adc895c1-katex.min.js\\\"},{\\\"name\\\":null,\\\"type\\\":\\\"css\\\",\\\"url\\\":\\\"/assetserver/46517a424aa5e6cffc1360d7e0848b601c584ee3-katex.min.css\\\"}],\\\"type\\\":\\\"async_block\\\"})).then((imports) => handler.apply(this, imports));\\n}\\n\")])], Dict{Symbol, Any}(:className => \"interact-widget\")), WebIO.Node{WebIO.DOM}(WebIO.DOM(:html, :div), Any[WebIO.Scope(WebIO.Node{WebIO.DOM}(WebIO.DOM(:html, :button), Any[\"save\"], Dict{Symbol, Any}(:attributes => Dict{Any, Any}(\"data-bind\" => \"click: function (){this.clicks(this.clicks()+1)}, css: {'is-loading' : loading}\"), :className => \"is-medium button is-primary\", :style => Dict{String, Any}())), Dict{String, Tuple{Observables.AbstractObservable, Union{Nothing, Bool}}}(\"loading\" => (Observable(false), nothing), \"clicks\" => (Observable(0), nothing)), Set{String}(), nothing, WebIO.Asset[WebIO.Asset(\"js\", \"knockout\", \"/home/dushya/.julia/packages/Knockout/HReiN/src/../assets/knockout.js\"), WebIO.Asset(\"js\", \"knockout_punches\", \"/home/dushya/.julia/packages/Knockout/HReiN/src/../assets/knockout_punches.js\"), WebIO.Asset(\"js\", nothing, \"/home/dushya/.julia/packages/InteractBase/LJXv3/src/../assets/all.js\"), WebIO.Asset(\"css\", nothing, \"/home/dushya/.julia/packages/InteractBase/LJXv3/src/../assets/style.css\"), WebIO.Asset(\"css\", nothing, \"/home/dushya/.julia/packages/Interact/PENUy/src/../assets/bulma_confined.min.css\")], Dict{Any, Any}(\"loading\" => Any[WebIO.JSString(\"(function (val){return (val!=this.model[\\\"loading\\\"]()) ? (this.valueFromJulia[\\\"loading\\\"]=true, this.model[\\\"loading\\\"](val)) : undefined})\")], \"clicks\" => Any[WebIO.JSString(\"(function (val){return (val!=this.model[\\\"clicks\\\"]()) ? (this.valueFromJulia[\\\"clicks\\\"]=true, this.model[\\\"clicks\\\"](val)) : undefined})\")]), WebIO.ConnectionPool(Channel{Any}(32), Set{WebIO.AbstractConnection}(), Base.GenericCondition{ReentrantLock}(Base.IntrusiveLinkedList{Task}(Task (runnable) @0x00007fe7ffa19dc0, Task (runnable) @0x00007fe7ffa19dc0), ReentrantLock(nothing, 0x00000000, 0x00, Base.GenericCondition{Base.Threads.SpinLock}(Base.IntrusiveLinkedList{Task}(nothing, nothing), Base.Threads.SpinLock(0)), (8, 0, 141733920768)))), WebIO.JSString[WebIO.JSString(\"function () {\\n    var handler = (function (ko, koPunches) {\\n    ko.punches.enableAll();\\n    ko.bindingHandlers.numericValue = {\\n        init: function(element, valueAccessor, allBindings, data, context) {\\n            var stringified = ko.observable(ko.unwrap(valueAccessor()));\\n            stringified.subscribe(function(value) {\\n                var val = parseFloat(value);\\n                if (!isNaN(val)) {\\n                    valueAccessor()(val);\\n                }\\n            });\\n            valueAccessor().subscribe(function(value) {\\n                var str = JSON.stringify(value);\\n                if ((str == \\\"0\\\") && ([\\\"-0\\\", \\\"-0.\\\"].indexOf(stringified()) >= 0))\\n                     return;\\n                 if ([\\\"null\\\", \\\"\\\"].indexOf(str) >= 0)\\n                     return;\\n                stringified(str);\\n            });\\n            ko.applyBindingsToNode(\\n                element,\\n                {\\n                    value: stringified,\\n                    valueUpdate: allBindings.get('valueUpdate'),\\n                },\\n                context,\\n            );\\n        }\\n    };\\n    var json_data = {\\\"loading\\\":WebIO.getval({\\\"name\\\":\\\"loading\\\",\\\"scope\\\":\\\"3777935479819113413\\\",\\\"id\\\":\\\"2776404764310456971\\\",\\\"type\\\":\\\"observable\\\"}),\\\"clicks\\\":WebIO.getval({\\\"name\\\":\\\"clicks\\\",\\\"scope\\\":\\\"3777935479819113413\\\",\\\"id\\\":\\\"13044542224870718201\\\",\\\"type\\\":\\\"observable\\\"})};\\n    var self = this;\\n    function AppViewModel() {\\n        for (var key in json_data) {\\n            var el = json_data[key];\\n            this[key] = Array.isArray(el) ? ko.observableArray(el) : ko.observable(el);\\n        }\\n        \\n        \\n        [this[\\\"loading\\\"].subscribe((function (val){!(this.valueFromJulia[\\\"loading\\\"]) ? (WebIO.setval({\\\"name\\\":\\\"loading\\\",\\\"scope\\\":\\\"3777935479819113413\\\",\\\"id\\\":\\\"2776404764310456971\\\",\\\"type\\\":\\\"observable\\\"},val)) : undefined; return this.valueFromJulia[\\\"loading\\\"]=false}),self),this[\\\"clicks\\\"].subscribe((function (val){!(this.valueFromJulia[\\\"clicks\\\"]) ? (WebIO.setval({\\\"name\\\":\\\"clicks\\\",\\\"scope\\\":\\\"3777935479819113413\\\",\\\"id\\\":\\\"13044542224870718201\\\",\\\"type\\\":\\\"observable\\\"},val)) : undefined; return this.valueFromJulia[\\\"clicks\\\"]=false}),self)]\\n        \\n    }\\n    self.model = new AppViewModel();\\n    self.valueFromJulia = {};\\n    for (var key in json_data) {\\n        self.valueFromJulia[key] = false;\\n    }\\n    ko.applyBindings(self.model, self.dom);\\n}\\n);\\n    (WebIO.importBlock({\\\"data\\\":[{\\\"name\\\":\\\"knockout\\\",\\\"type\\\":\\\"js\\\",\\\"url\\\":\\\"/assetserver/727383f2a47bd31570b7da84eee7b022dd6d7c78-knockout.js\\\"},{\\\"name\\\":\\\"knockout_punches\\\",\\\"type\\\":\\\"js\\\",\\\"url\\\":\\\"/assetserver/382b41b3b1bd9f26f75861d360bad7f8beea211f-knockout_punches.js\\\"}],\\\"type\\\":\\\"async_block\\\"})).then((imports) => handler.apply(this, imports));\\n}\\n\")])], Dict{Symbol, Any}(:className => \"field interact-widget\"))], Dict{Symbol, Any}(:style => Dict(\"display\" => \"flex\", \"flex-direction\" => \"row\")))], Dict{Symbol, Any}(:style => Dict(\"display\" => \"flex\", \"flex-direction\" => \"column\"))), WebIO.Node{WebIO.DOM}(WebIO.DOM(:html, :div), Any[WebIO.Scope(WebIO.Node{WebIO.DOM}(WebIO.DOM(:html, :div), Any[], Dict{Symbol, Any}(:id => \"container\")), Dict{String, Tuple{Observables.AbstractObservable, Union{Nothing, Bool}}}(\"value\" => (Observable(\"\\\\;\\\\;\"), nothing)), Set{String}(), nothing, WebIO.Asset[WebIO.Asset(\"js\", nothing, \"/home/dushya/.julia/packages/InteractBase/LJXv3/src/../assets/katex.min.js\"), WebIO.Asset(\"css\", nothing, \"/home/dushya/.julia/packages/InteractBase/LJXv3/src/../assets/katex.min.css\")], Dict{Any, Any}(\"value\" => Any[WebIO.JSString(\"(function (txt){return this.k.render(txt,this.container)})\")]), WebIO.ConnectionPool(Channel{Any}(32), Set{WebIO.AbstractConnection}(), Base.GenericCondition{ReentrantLock}(Base.IntrusiveLinkedList{Task}(Task (runnable) @0x00007fe800a74b00, Task (runnable) @0x00007fe800a74b00), ReentrantLock(nothing, 0x00000000, 0x00, Base.GenericCondition{Base.Threads.SpinLock}(Base.IntrusiveLinkedList{Task}(nothing, nothing), Base.Threads.SpinLock(0)), (8, 0, 141733920768)))), WebIO.JSString[WebIO.JSString(\"function () {\\n    var handler = ((function (k){this.k=k; this.container=this.dom.querySelector(\\\"#container\\\"); return k.render(\\\"\\\\\\\\;\\\\\\\\;\\\",this.container)}));\\n    (WebIO.importBlock({\\\"data\\\":[{\\\"name\\\":null,\\\"type\\\":\\\"js\\\",\\\"url\\\":\\\"/assetserver/dd22ed1bf1896c2748f3fe616ce0b838adc895c1-katex.min.js\\\"},{\\\"name\\\":null,\\\"type\\\":\\\"css\\\",\\\"url\\\":\\\"/assetserver/46517a424aa5e6cffc1360d7e0848b601c584ee3-katex.min.css\\\"}],\\\"type\\\":\\\"async_block\\\"})).then((imports) => handler.apply(this, imports));\\n}\\n\")])], Dict{Symbol, Any}(:className => \"interact-widget\")), Observable(Luxor.Drawing(430.0, 430.0, \"\", Cairo.CairoSurfaceBase{UInt32}(Ptr{Nothing} @0x0000000000000000, 430.0, 430.0), Cairo.CairoContext(Ptr{Nothing} @0x000000000493d140, Cairo.CairoSurfaceBase{UInt32}(Ptr{Nothing} @0x0000000000000000, 430.0, 430.0), Ptr{Nothing} @0x0000000002dc2190), :png, 0.5, 0.5, 0.5, 0.5, IOBuffer(data=UInt8[...], readable=true, writable=true, seekable=true, append=false, size=9831, maxsize=Inf, ptr=9832, mark=-1), UInt8[0x89, 0x50, 0x4e, 0x47, 0x0d, 0x0a, 0x1a, 0x0a, 0x00, 0x00  …  0x00, 0x00, 0x49, 0x45, 0x4e, 0x44, 0xae, 0x42, 0x60, 0x82], false)), WebIO.Node{WebIO.DOM}(WebIO.DOM(:html, :div), Any[WebIO.Scope(WebIO.Node{WebIO.DOM}(WebIO.DOM(:html, :div), Any[], Dict{Symbol, Any}(:id => \"container\")), Dict{String, Tuple{Observables.AbstractObservable, Union{Nothing, Bool}}}(\"value\" => (Observable(\"\\\\;\\\\;\"), nothing)), Set{String}(), nothing, WebIO.Asset[WebIO.Asset(\"js\", nothing, \"/home/dushya/.julia/packages/InteractBase/LJXv3/src/../assets/katex.min.js\"), WebIO.Asset(\"css\", nothing, \"/home/dushya/.julia/packages/InteractBase/LJXv3/src/../assets/katex.min.css\")], Dict{Any, Any}(\"value\" => Any[WebIO.JSString(\"(function (txt){return this.k.render(txt,this.container)})\")]), WebIO.ConnectionPool(Channel{Any}(32), Set{WebIO.AbstractConnection}(), Base.GenericCondition{ReentrantLock}(Base.IntrusiveLinkedList{Task}(Task (runnable) @0x00007fe800a74b00, Task (runnable) @0x00007fe800a74b00), ReentrantLock(nothing, 0x00000000, 0x00, Base.GenericCondition{Base.Threads.SpinLock}(Base.IntrusiveLinkedList{Task}(nothing, nothing), Base.Threads.SpinLock(0)), (8, 0, 141733920768)))), WebIO.JSString[WebIO.JSString(\"function () {\\n    var handler = ((function (k){this.k=k; this.container=this.dom.querySelector(\\\"#container\\\"); return k.render(\\\"\\\\\\\\;\\\\\\\\;\\\",this.container)}));\\n    (WebIO.importBlock({\\\"data\\\":[{\\\"name\\\":null,\\\"type\\\":\\\"js\\\",\\\"url\\\":\\\"/assetserver/dd22ed1bf1896c2748f3fe616ce0b838adc895c1-katex.min.js\\\"},{\\\"name\\\":null,\\\"type\\\":\\\"css\\\",\\\"url\\\":\\\"/assetserver/46517a424aa5e6cffc1360d7e0848b601c584ee3-katex.min.css\\\"}],\\\"type\\\":\\\"async_block\\\"})).then((imports) => handler.apply(this, imports));\\n}\\n\")])], Dict{Symbol, Any}(:className => \"interact-widget\")), WebIO.Node{WebIO.DOM}(WebIO.DOM(:html, :div), Any[], Dict{Symbol, Any}(:style => Dict(\"display\" => \"flex\", \"flex-direction\" => \"column\")))], Dict{Symbol, Any}(:style => Dict(\"display\" => \"flex\", \"flex-direction\" => \"row\")))], Dict{Symbol, Any}(:style => Dict(\"display\" => \"flex\", \"flex-direction\" => \"column\")))"
      ]
     },
     "execution_count": 9,
     "metadata": {
      "application/vnd.webio.node+json": {
       "kernelId": "61314e4e-c228-45f8-a896-b92403759935"
      }
     },
     "output_type": "execute_result"
    }
   ],
   "source": [
    "create_interactive_app(model, initialiser= initialiser!,\n",
    "    props_to_record = Dict(\"patches\" => Set([:color])),\n",
    "    step_rule= step_rule!,\n",
    "    model_controls=[(:threshold, \"slider\", 1:8)], \n",
    "    frames=400, show_patches=true)"
   ]
  },
  {
   "cell_type": "markdown",
   "metadata": {},
   "source": [
    "## Step 5: Fetch Data \n",
    "\n",
    "It is easy to fetch any recorded data after running the model. For example, the numbers of different colored patches at all timesteps can be got as follows"
   ]
  },
  {
   "cell_type": "code",
   "execution_count": 10,
   "metadata": {},
   "outputs": [
    {
     "data": {
      "image/png": "[encoded data removed]",
      "image/svg+xml": [
       "<?xml version=\"1.0\" encoding=\"utf-8\"?>\n",
       "<svg xmlns=\"http://www.w3.org/2000/svg\" xmlns:xlink=\"http://www.w3.org/1999/xlink\" width=\"600\" height=\"400\" viewBox=\"0 0 2400 1600\">\n",
       "<defs>\n",
       "  <clipPath id=\"clip780\">\n",
       "    <rect x=\"0\" y=\"0\" width=\"2400\" height=\"1600\"/>\n",
       "  </clipPath>\n",
       "</defs>\n",
       "<path clip-path=\"url(#clip780)\" d=\"M0 1600 L2400 1600 L2400 0 L0 0  Z\" fill=\"#ffffff\" fill-rule=\"evenodd\" fill-opacity=\"1\"/>\n",
       "<defs>\n",
       "  <clipPath id=\"clip781\">\n",
       "    <rect x=\"480\" y=\"0\" width=\"1681\" height=\"1600\"/>\n",
       "  </clipPath>\n",
       "</defs>\n",
       "<path clip-path=\"url(#clip780)\" d=\"M234.38 1423.18 L2352.76 1423.18 L2352.76 47.2441 L234.38 47.2441  Z\" fill=\"#ffffff\" fill-rule=\"evenodd\" fill-opacity=\"1\"/>\n",
       "<defs>\n",
       "  <clipPath id=\"clip782\">\n",
       "    <rect x=\"234\" y=\"47\" width=\"2119\" height=\"1377\"/>\n",
       "  </clipPath>\n",
       "</defs>\n",
       "<polyline clip-path=\"url(#clip782)\" style=\"stroke:#000000; stroke-linecap:round; stroke-linejoin:round; stroke-width:2; stroke-opacity:0.1; fill:none\" points=\"289.338,1423.18 289.338,47.2441 \"/>\n",
       "<polyline clip-path=\"url(#clip782)\" style=\"stroke:#000000; stroke-linecap:round; stroke-linejoin:round; stroke-width:2; stroke-opacity:0.1; fill:none\" points=\"788.955,1423.18 788.955,47.2441 \"/>\n",
       "<polyline clip-path=\"url(#clip782)\" style=\"stroke:#000000; stroke-linecap:round; stroke-linejoin:round; stroke-width:2; stroke-opacity:0.1; fill:none\" points=\"1288.57,1423.18 1288.57,47.2441 \"/>\n",
       "<polyline clip-path=\"url(#clip782)\" style=\"stroke:#000000; stroke-linecap:round; stroke-linejoin:round; stroke-width:2; stroke-opacity:0.1; fill:none\" points=\"1788.19,1423.18 1788.19,47.2441 \"/>\n",
       "<polyline clip-path=\"url(#clip782)\" style=\"stroke:#000000; stroke-linecap:round; stroke-linejoin:round; stroke-width:2; stroke-opacity:0.1; fill:none\" points=\"2287.81,1423.18 2287.81,47.2441 \"/>\n",
       "<polyline clip-path=\"url(#clip780)\" style=\"stroke:#000000; stroke-linecap:round; stroke-linejoin:round; stroke-width:4; stroke-opacity:1; fill:none\" points=\"234.38,1423.18 2352.76,1423.18 \"/>\n",
       "<polyline clip-path=\"url(#clip780)\" style=\"stroke:#000000; stroke-linecap:round; stroke-linejoin:round; stroke-width:4; stroke-opacity:1; fill:none\" points=\"289.338,1423.18 289.338,1404.28 \"/>\n",
       "<polyline clip-path=\"url(#clip780)\" style=\"stroke:#000000; stroke-linecap:round; stroke-linejoin:round; stroke-width:4; stroke-opacity:1; fill:none\" points=\"788.955,1423.18 788.955,1404.28 \"/>\n",
       "<polyline clip-path=\"url(#clip780)\" style=\"stroke:#000000; stroke-linecap:round; stroke-linejoin:round; stroke-width:4; stroke-opacity:1; fill:none\" points=\"1288.57,1423.18 1288.57,1404.28 \"/>\n",
       "<polyline clip-path=\"url(#clip780)\" style=\"stroke:#000000; stroke-linecap:round; stroke-linejoin:round; stroke-width:4; stroke-opacity:1; fill:none\" points=\"1788.19,1423.18 1788.19,1404.28 \"/>\n",
       "<polyline clip-path=\"url(#clip780)\" style=\"stroke:#000000; stroke-linecap:round; stroke-linejoin:round; stroke-width:4; stroke-opacity:1; fill:none\" points=\"2287.81,1423.18 2287.81,1404.28 \"/>\n",
       "<path clip-path=\"url(#clip780)\" d=\"M289.338 1454.1 Q285.727 1454.1 283.898 1457.66 Q282.093 1461.2 282.093 1468.33 Q282.093 1475.44 283.898 1479.01 Q285.727 1482.55 289.338 1482.55 Q292.972 1482.55 294.778 1479.01 Q296.606 1475.44 296.606 1468.33 Q296.606 1461.2 294.778 1457.66 Q292.972 1454.1 289.338 1454.1 M289.338 1450.39 Q295.148 1450.39 298.204 1455 Q301.282 1459.58 301.282 1468.33 Q301.282 1477.06 298.204 1481.67 Q295.148 1486.25 289.338 1486.25 Q283.528 1486.25 280.449 1481.67 Q277.394 1477.06 277.394 1468.33 Q277.394 1459.58 280.449 1455 Q283.528 1450.39 289.338 1450.39 Z\" fill=\"#000000\" fill-rule=\"nonzero\" fill-opacity=\"1\" /><path clip-path=\"url(#clip780)\" d=\"M748.562 1481.64 L756.2 1481.64 L756.2 1455.28 L747.89 1456.95 L747.89 1452.69 L756.154 1451.02 L760.83 1451.02 L760.83 1481.64 L768.469 1481.64 L768.469 1485.58 L748.562 1485.58 L748.562 1481.64 Z\" fill=\"#000000\" fill-rule=\"nonzero\" fill-opacity=\"1\" /><path clip-path=\"url(#clip780)\" d=\"M787.913 1454.1 Q784.302 1454.1 782.473 1457.66 Q780.668 1461.2 780.668 1468.33 Q780.668 1475.44 782.473 1479.01 Q784.302 1482.55 787.913 1482.55 Q791.547 1482.55 793.353 1479.01 Q795.182 1475.44 795.182 1468.33 Q795.182 1461.2 793.353 1457.66 Q791.547 1454.1 787.913 1454.1 M787.913 1450.39 Q793.723 1450.39 796.779 1455 Q799.858 1459.58 799.858 1468.33 Q799.858 1477.06 796.779 1481.67 Q793.723 1486.25 787.913 1486.25 Q782.103 1486.25 779.024 1481.67 Q775.969 1477.06 775.969 1468.33 Q775.969 1459.58 779.024 1455 Q782.103 1450.39 787.913 1450.39 Z\" fill=\"#000000\" fill-rule=\"nonzero\" fill-opacity=\"1\" /><path clip-path=\"url(#clip780)\" d=\"M818.075 1454.1 Q814.464 1454.1 812.635 1457.66 Q810.83 1461.2 810.83 1468.33 Q810.83 1475.44 812.635 1479.01 Q814.464 1482.55 818.075 1482.55 Q821.709 1482.55 823.515 1479.01 Q825.344 1475.44 825.344 1468.33 Q825.344 1461.2 823.515 1457.66 Q821.709 1454.1 818.075 1454.1 M818.075 1450.39 Q823.885 1450.39 826.941 1455 Q830.019 1459.58 830.019 1468.33 Q830.019 1477.06 826.941 1481.67 Q823.885 1486.25 818.075 1486.25 Q812.265 1486.25 809.186 1481.67 Q806.131 1477.06 806.131 1468.33 Q806.131 1459.58 809.186 1455 Q812.265 1450.39 818.075 1450.39 Z\" fill=\"#000000\" fill-rule=\"nonzero\" fill-opacity=\"1\" /><path clip-path=\"url(#clip780)\" d=\"M1252.26 1481.64 L1268.58 1481.64 L1268.58 1485.58 L1246.64 1485.58 L1246.64 1481.64 Q1249.3 1478.89 1253.88 1474.26 Q1258.49 1469.61 1259.67 1468.27 Q1261.92 1465.74 1262.8 1464.01 Q1263.7 1462.25 1263.7 1460.56 Q1263.7 1457.8 1261.75 1456.07 Q1259.83 1454.33 1256.73 1454.33 Q1254.53 1454.33 1252.08 1455.09 Q1249.65 1455.86 1246.87 1457.41 L1246.87 1452.69 Q1249.69 1451.55 1252.15 1450.97 Q1254.6 1450.39 1256.64 1450.39 Q1262.01 1450.39 1265.2 1453.08 Q1268.4 1455.77 1268.4 1460.26 Q1268.4 1462.39 1267.59 1464.31 Q1266.8 1466.2 1264.69 1468.8 Q1264.12 1469.47 1261.01 1472.69 Q1257.91 1475.88 1252.26 1481.64 Z\" fill=\"#000000\" fill-rule=\"nonzero\" fill-opacity=\"1\" /><path clip-path=\"url(#clip780)\" d=\"M1288.4 1454.1 Q1284.79 1454.1 1282.96 1457.66 Q1281.15 1461.2 1281.15 1468.33 Q1281.15 1475.44 1282.96 1479.01 Q1284.79 1482.55 1288.4 1482.55 Q1292.03 1482.55 1293.84 1479.01 Q1295.67 1475.44 1295.67 1468.33 Q1295.67 1461.2 1293.84 1457.66 Q1292.03 1454.1 1288.4 1454.1 M1288.4 1450.39 Q1294.21 1450.39 1297.26 1455 Q1300.34 1459.58 1300.34 1468.33 Q1300.34 1477.06 1297.26 1481.67 Q1294.21 1486.25 1288.4 1486.25 Q1282.59 1486.25 1279.51 1481.67 Q1276.45 1477.06 1276.45 1468.33 Q1276.45 1459.58 1279.51 1455 Q1282.59 1450.39 1288.4 1450.39 Z\" fill=\"#000000\" fill-rule=\"nonzero\" fill-opacity=\"1\" /><path clip-path=\"url(#clip780)\" d=\"M1318.56 1454.1 Q1314.95 1454.1 1313.12 1457.66 Q1311.31 1461.2 1311.31 1468.33 Q1311.31 1475.44 1313.12 1479.01 Q1314.95 1482.55 1318.56 1482.55 Q1322.19 1482.55 1324 1479.01 Q1325.83 1475.44 1325.83 1468.33 Q1325.83 1461.2 1324 1457.66 Q1322.19 1454.1 1318.56 1454.1 M1318.56 1450.39 Q1324.37 1450.39 1327.43 1455 Q1330.5 1459.58 1330.5 1468.33 Q1330.5 1477.06 1327.43 1481.67 Q1324.37 1486.25 1318.56 1486.25 Q1312.75 1486.25 1309.67 1481.67 Q1306.62 1477.06 1306.62 1468.33 Q1306.62 1459.58 1309.67 1455 Q1312.75 1450.39 1318.56 1450.39 Z\" fill=\"#000000\" fill-rule=\"nonzero\" fill-opacity=\"1\" /><path clip-path=\"url(#clip780)\" d=\"M1761.95 1466.95 Q1765.31 1467.66 1767.18 1469.93 Q1769.08 1472.2 1769.08 1475.53 Q1769.08 1480.65 1765.56 1483.45 Q1762.04 1486.25 1755.56 1486.25 Q1753.39 1486.25 1751.07 1485.81 Q1748.78 1485.39 1746.33 1484.54 L1746.33 1480.02 Q1748.27 1481.16 1750.58 1481.74 Q1752.9 1482.32 1755.42 1482.32 Q1759.82 1482.32 1762.11 1480.58 Q1764.43 1478.84 1764.43 1475.53 Q1764.43 1472.48 1762.27 1470.77 Q1760.14 1469.03 1756.33 1469.03 L1752.3 1469.03 L1752.3 1465.19 L1756.51 1465.19 Q1759.96 1465.19 1761.79 1463.82 Q1763.62 1462.43 1763.62 1459.84 Q1763.62 1457.18 1761.72 1455.77 Q1759.84 1454.33 1756.33 1454.33 Q1754.4 1454.33 1752.21 1454.75 Q1750.01 1455.16 1747.37 1456.04 L1747.37 1451.88 Q1750.03 1451.14 1752.34 1450.77 Q1754.68 1450.39 1756.74 1450.39 Q1762.07 1450.39 1765.17 1452.83 Q1768.27 1455.23 1768.27 1459.35 Q1768.27 1462.22 1766.63 1464.21 Q1764.98 1466.18 1761.95 1466.95 Z\" fill=\"#000000\" fill-rule=\"nonzero\" fill-opacity=\"1\" /><path clip-path=\"url(#clip780)\" d=\"M1787.95 1454.1 Q1784.33 1454.1 1782.51 1457.66 Q1780.7 1461.2 1780.7 1468.33 Q1780.7 1475.44 1782.51 1479.01 Q1784.33 1482.55 1787.95 1482.55 Q1791.58 1482.55 1793.39 1479.01 Q1795.21 1475.44 1795.21 1468.33 Q1795.21 1461.2 1793.39 1457.66 Q1791.58 1454.1 1787.95 1454.1 M1787.95 1450.39 Q1793.76 1450.39 1796.81 1455 Q1799.89 1459.58 1799.89 1468.33 Q1799.89 1477.06 1796.81 1481.67 Q1793.76 1486.25 1787.95 1486.25 Q1782.14 1486.25 1779.06 1481.67 Q1776 1477.06 1776 1468.33 Q1776 1459.58 1779.06 1455 Q1782.14 1450.39 1787.95 1450.39 Z\" fill=\"#000000\" fill-rule=\"nonzero\" fill-opacity=\"1\" /><path clip-path=\"url(#clip780)\" d=\"M1818.11 1454.1 Q1814.5 1454.1 1812.67 1457.66 Q1810.86 1461.2 1810.86 1468.33 Q1810.86 1475.44 1812.67 1479.01 Q1814.5 1482.55 1818.11 1482.55 Q1821.74 1482.55 1823.55 1479.01 Q1825.38 1475.44 1825.38 1468.33 Q1825.38 1461.2 1823.55 1457.66 Q1821.74 1454.1 1818.11 1454.1 M1818.11 1450.39 Q1823.92 1450.39 1826.97 1455 Q1830.05 1459.58 1830.05 1468.33 Q1830.05 1477.06 1826.97 1481.67 Q1823.92 1486.25 1818.11 1486.25 Q1812.3 1486.25 1809.22 1481.67 Q1806.16 1477.06 1806.16 1468.33 Q1806.16 1459.58 1809.22 1455 Q1812.3 1450.39 1818.11 1450.39 Z\" fill=\"#000000\" fill-rule=\"nonzero\" fill-opacity=\"1\" /><path clip-path=\"url(#clip780)\" d=\"M2260.9 1455.09 L2249.09 1473.54 L2260.9 1473.54 L2260.9 1455.09 M2259.67 1451.02 L2265.55 1451.02 L2265.55 1473.54 L2270.48 1473.54 L2270.48 1477.43 L2265.55 1477.43 L2265.55 1485.58 L2260.9 1485.58 L2260.9 1477.43 L2245.29 1477.43 L2245.29 1472.92 L2259.67 1451.02 Z\" fill=\"#000000\" fill-rule=\"nonzero\" fill-opacity=\"1\" /><path clip-path=\"url(#clip780)\" d=\"M2288.21 1454.1 Q2284.6 1454.1 2282.77 1457.66 Q2280.97 1461.2 2280.97 1468.33 Q2280.97 1475.44 2282.77 1479.01 Q2284.6 1482.55 2288.21 1482.55 Q2291.85 1482.55 2293.65 1479.01 Q2295.48 1475.44 2295.48 1468.33 Q2295.48 1461.2 2293.65 1457.66 Q2291.85 1454.1 2288.21 1454.1 M2288.21 1450.39 Q2294.02 1450.39 2297.08 1455 Q2300.16 1459.58 2300.16 1468.33 Q2300.16 1477.06 2297.08 1481.67 Q2294.02 1486.25 2288.21 1486.25 Q2282.4 1486.25 2279.32 1481.67 Q2276.27 1477.06 2276.27 1468.33 Q2276.27 1459.58 2279.32 1455 Q2282.4 1450.39 2288.21 1450.39 Z\" fill=\"#000000\" fill-rule=\"nonzero\" fill-opacity=\"1\" /><path clip-path=\"url(#clip780)\" d=\"M2318.37 1454.1 Q2314.76 1454.1 2312.93 1457.66 Q2311.13 1461.2 2311.13 1468.33 Q2311.13 1475.44 2312.93 1479.01 Q2314.76 1482.55 2318.37 1482.55 Q2322.01 1482.55 2323.81 1479.01 Q2325.64 1475.44 2325.64 1468.33 Q2325.64 1461.2 2323.81 1457.66 Q2322.01 1454.1 2318.37 1454.1 M2318.37 1450.39 Q2324.18 1450.39 2327.24 1455 Q2330.32 1459.58 2330.32 1468.33 Q2330.32 1477.06 2327.24 1481.67 Q2324.18 1486.25 2318.37 1486.25 Q2312.56 1486.25 2309.48 1481.67 Q2306.43 1477.06 2306.43 1468.33 Q2306.43 1459.58 2309.48 1455 Q2312.56 1450.39 2318.37 1450.39 Z\" fill=\"#000000\" fill-rule=\"nonzero\" fill-opacity=\"1\" /><path clip-path=\"url(#clip780)\" d=\"M1230.61 1522.27 L1230.61 1532.4 L1242.67 1532.4 L1242.67 1536.95 L1230.61 1536.95 L1230.61 1556.3 Q1230.61 1560.66 1231.79 1561.9 Q1233 1563.14 1236.66 1563.14 L1242.67 1563.14 L1242.67 1568.04 L1236.66 1568.04 Q1229.88 1568.04 1227.3 1565.53 Q1224.72 1562.98 1224.72 1556.3 L1224.72 1536.95 L1220.43 1536.95 L1220.43 1532.4 L1224.72 1532.4 L1224.72 1522.27 L1230.61 1522.27 Z\" fill=\"#000000\" fill-rule=\"nonzero\" fill-opacity=\"1\" /><path clip-path=\"url(#clip780)\" d=\"M1250.38 1532.4 L1256.23 1532.4 L1256.23 1568.04 L1250.38 1568.04 L1250.38 1532.4 M1250.38 1518.52 L1256.23 1518.52 L1256.23 1525.93 L1250.38 1525.93 L1250.38 1518.52 Z\" fill=\"#000000\" fill-rule=\"nonzero\" fill-opacity=\"1\" /><path clip-path=\"url(#clip780)\" d=\"M1294.14 1533.76 L1294.14 1539.24 Q1291.66 1537.87 1289.14 1537.2 Q1286.66 1536.5 1284.11 1536.5 Q1278.42 1536.5 1275.27 1540.13 Q1272.12 1543.73 1272.12 1550.25 Q1272.12 1556.78 1275.27 1560.4 Q1278.42 1564 1284.11 1564 Q1286.66 1564 1289.14 1563.33 Q1291.66 1562.63 1294.14 1561.26 L1294.14 1566.68 Q1291.69 1567.82 1289.05 1568.39 Q1286.44 1568.97 1283.48 1568.97 Q1275.43 1568.97 1270.68 1563.91 Q1265.94 1558.85 1265.94 1550.25 Q1265.94 1541.53 1270.72 1536.53 Q1275.52 1531.54 1283.86 1531.54 Q1286.57 1531.54 1289.14 1532.11 Q1291.72 1532.65 1294.14 1533.76 Z\" fill=\"#000000\" fill-rule=\"nonzero\" fill-opacity=\"1\" /><path clip-path=\"url(#clip780)\" d=\"M1304.1 1518.52 L1309.99 1518.52 L1309.99 1547.77 L1327.47 1532.4 L1334.95 1532.4 L1316.04 1549.07 L1335.74 1568.04 L1328.1 1568.04 L1309.99 1550.63 L1309.99 1568.04 L1304.1 1568.04 L1304.1 1518.52 Z\" fill=\"#000000\" fill-rule=\"nonzero\" fill-opacity=\"1\" /><path clip-path=\"url(#clip780)\" d=\"M1364.8 1533.45 L1364.8 1538.98 Q1362.32 1537.71 1359.64 1537.07 Q1356.97 1536.44 1354.11 1536.44 Q1349.75 1536.44 1347.55 1537.77 Q1345.38 1539.11 1345.38 1541.79 Q1345.38 1543.82 1346.94 1545 Q1348.5 1546.15 1353.21 1547.2 L1355.22 1547.64 Q1361.46 1548.98 1364.07 1551.43 Q1366.71 1553.85 1366.71 1558.21 Q1366.71 1563.17 1362.76 1566.07 Q1358.85 1568.97 1351.97 1568.97 Q1349.11 1568.97 1345.99 1568.39 Q1342.9 1567.85 1339.46 1566.74 L1339.46 1560.69 Q1342.71 1562.38 1345.86 1563.24 Q1349.01 1564.07 1352.1 1564.07 Q1356.24 1564.07 1358.47 1562.66 Q1360.69 1561.23 1360.69 1558.65 Q1360.69 1556.27 1359.07 1554.99 Q1357.48 1553.72 1352.04 1552.54 L1350 1552.07 Q1344.56 1550.92 1342.14 1548.56 Q1339.72 1546.18 1339.72 1542.04 Q1339.72 1537.01 1343.28 1534.27 Q1346.85 1531.54 1353.41 1531.54 Q1356.65 1531.54 1359.52 1532.01 Q1362.38 1532.49 1364.8 1533.45 Z\" fill=\"#000000\" fill-rule=\"nonzero\" fill-opacity=\"1\" /><polyline clip-path=\"url(#clip782)\" style=\"stroke:#000000; stroke-linecap:round; stroke-linejoin:round; stroke-width:2; stroke-opacity:0.1; fill:none\" points=\"234.38,1262.55 2352.76,1262.55 \"/>\n",
       "<polyline clip-path=\"url(#clip782)\" style=\"stroke:#000000; stroke-linecap:round; stroke-linejoin:round; stroke-width:2; stroke-opacity:0.1; fill:none\" points=\"234.38,1059.73 2352.76,1059.73 \"/>\n",
       "<polyline clip-path=\"url(#clip782)\" style=\"stroke:#000000; stroke-linecap:round; stroke-linejoin:round; stroke-width:2; stroke-opacity:0.1; fill:none\" points=\"234.38,856.904 2352.76,856.904 \"/>\n",
       "<polyline clip-path=\"url(#clip782)\" style=\"stroke:#000000; stroke-linecap:round; stroke-linejoin:round; stroke-width:2; stroke-opacity:0.1; fill:none\" points=\"234.38,654.084 2352.76,654.084 \"/>\n",
       "<polyline clip-path=\"url(#clip782)\" style=\"stroke:#000000; stroke-linecap:round; stroke-linejoin:round; stroke-width:2; stroke-opacity:0.1; fill:none\" points=\"234.38,451.263 2352.76,451.263 \"/>\n",
       "<polyline clip-path=\"url(#clip782)\" style=\"stroke:#000000; stroke-linecap:round; stroke-linejoin:round; stroke-width:2; stroke-opacity:0.1; fill:none\" points=\"234.38,248.442 2352.76,248.442 \"/>\n",
       "<polyline clip-path=\"url(#clip780)\" style=\"stroke:#000000; stroke-linecap:round; stroke-linejoin:round; stroke-width:4; stroke-opacity:1; fill:none\" points=\"234.38,1423.18 234.38,47.2441 \"/>\n",
       "<polyline clip-path=\"url(#clip780)\" style=\"stroke:#000000; stroke-linecap:round; stroke-linejoin:round; stroke-width:4; stroke-opacity:1; fill:none\" points=\"234.38,1262.55 253.278,1262.55 \"/>\n",
       "<polyline clip-path=\"url(#clip780)\" style=\"stroke:#000000; stroke-linecap:round; stroke-linejoin:round; stroke-width:4; stroke-opacity:1; fill:none\" points=\"234.38,1059.73 253.278,1059.73 \"/>\n",
       "<polyline clip-path=\"url(#clip780)\" style=\"stroke:#000000; stroke-linecap:round; stroke-linejoin:round; stroke-width:4; stroke-opacity:1; fill:none\" points=\"234.38,856.904 253.278,856.904 \"/>\n",
       "<polyline clip-path=\"url(#clip780)\" style=\"stroke:#000000; stroke-linecap:round; stroke-linejoin:round; stroke-width:4; stroke-opacity:1; fill:none\" points=\"234.38,654.084 253.278,654.084 \"/>\n",
       "<polyline clip-path=\"url(#clip780)\" style=\"stroke:#000000; stroke-linecap:round; stroke-linejoin:round; stroke-width:4; stroke-opacity:1; fill:none\" points=\"234.38,451.263 253.278,451.263 \"/>\n",
       "<polyline clip-path=\"url(#clip780)\" style=\"stroke:#000000; stroke-linecap:round; stroke-linejoin:round; stroke-width:4; stroke-opacity:1; fill:none\" points=\"234.38,248.442 253.278,248.442 \"/>\n",
       "<path clip-path=\"url(#clip780)\" d=\"M126.112 1263.41 Q122.779 1263.41 120.857 1265.2 Q118.959 1266.98 118.959 1270.1 Q118.959 1273.23 120.857 1275.01 Q122.779 1276.79 126.112 1276.79 Q129.445 1276.79 131.367 1275.01 Q133.288 1273.21 133.288 1270.1 Q133.288 1266.98 131.367 1265.2 Q129.468 1263.41 126.112 1263.41 M121.436 1261.42 Q118.427 1260.68 116.737 1258.62 Q115.07 1256.56 115.07 1253.6 Q115.07 1249.46 118.01 1247.05 Q120.973 1244.64 126.112 1244.64 Q131.274 1244.64 134.214 1247.05 Q137.154 1249.46 137.154 1253.6 Q137.154 1256.56 135.464 1258.62 Q133.797 1260.68 130.811 1261.42 Q134.191 1262.21 136.066 1264.5 Q137.964 1266.79 137.964 1270.1 Q137.964 1275.13 134.885 1277.81 Q131.83 1280.5 126.112 1280.5 Q120.394 1280.5 117.316 1277.81 Q114.26 1275.13 114.26 1270.1 Q114.26 1266.79 116.158 1264.5 Q118.056 1262.21 121.436 1261.42 M119.723 1254.04 Q119.723 1256.72 121.39 1258.23 Q123.08 1259.73 126.112 1259.73 Q129.121 1259.73 130.811 1258.23 Q132.524 1256.72 132.524 1254.04 Q132.524 1251.35 130.811 1249.85 Q129.121 1248.34 126.112 1248.34 Q123.08 1248.34 121.39 1249.85 Q119.723 1251.35 119.723 1254.04 Z\" fill=\"#000000\" fill-rule=\"nonzero\" fill-opacity=\"1\" /><path clip-path=\"url(#clip780)\" d=\"M147.084 1275.89 L154.723 1275.89 L154.723 1249.53 L146.413 1251.19 L146.413 1246.93 L154.677 1245.27 L159.353 1245.27 L159.353 1275.89 L166.991 1275.89 L166.991 1279.83 L147.084 1279.83 L147.084 1275.89 Z\" fill=\"#000000\" fill-rule=\"nonzero\" fill-opacity=\"1\" /><path clip-path=\"url(#clip780)\" d=\"M186.436 1248.34 Q182.825 1248.34 180.996 1251.91 Q179.19 1255.45 179.19 1262.58 Q179.19 1269.69 180.996 1273.25 Q182.825 1276.79 186.436 1276.79 Q190.07 1276.79 191.875 1273.25 Q193.704 1269.69 193.704 1262.58 Q193.704 1255.45 191.875 1251.91 Q190.07 1248.34 186.436 1248.34 M186.436 1244.64 Q192.246 1244.64 195.301 1249.25 Q198.38 1253.83 198.38 1262.58 Q198.38 1271.31 195.301 1275.91 Q192.246 1280.5 186.436 1280.5 Q180.626 1280.5 177.547 1275.91 Q174.491 1271.31 174.491 1262.58 Q174.491 1253.83 177.547 1249.25 Q180.626 1244.64 186.436 1244.64 Z\" fill=\"#000000\" fill-rule=\"nonzero\" fill-opacity=\"1\" /><path clip-path=\"url(#clip780)\" d=\"M126.112 1060.59 Q122.779 1060.59 120.857 1062.38 Q118.959 1064.16 118.959 1067.28 Q118.959 1070.41 120.857 1072.19 Q122.779 1073.97 126.112 1073.97 Q129.445 1073.97 131.367 1072.19 Q133.288 1070.38 133.288 1067.28 Q133.288 1064.16 131.367 1062.38 Q129.468 1060.59 126.112 1060.59 M121.436 1058.6 Q118.427 1057.86 116.737 1055.8 Q115.07 1053.74 115.07 1050.78 Q115.07 1046.63 118.01 1044.23 Q120.973 1041.82 126.112 1041.82 Q131.274 1041.82 134.214 1044.23 Q137.154 1046.63 137.154 1050.78 Q137.154 1053.74 135.464 1055.8 Q133.797 1057.86 130.811 1058.6 Q134.191 1059.39 136.066 1061.68 Q137.964 1063.97 137.964 1067.28 Q137.964 1072.31 134.885 1074.99 Q131.83 1077.68 126.112 1077.68 Q120.394 1077.68 117.316 1074.99 Q114.26 1072.31 114.26 1067.28 Q114.26 1063.97 116.158 1061.68 Q118.056 1059.39 121.436 1058.6 M119.723 1051.22 Q119.723 1053.9 121.39 1055.41 Q123.08 1056.91 126.112 1056.91 Q129.121 1056.91 130.811 1055.41 Q132.524 1053.9 132.524 1051.22 Q132.524 1048.53 130.811 1047.03 Q129.121 1045.52 126.112 1045.52 Q123.08 1045.52 121.39 1047.03 Q119.723 1048.53 119.723 1051.22 Z\" fill=\"#000000\" fill-rule=\"nonzero\" fill-opacity=\"1\" /><path clip-path=\"url(#clip780)\" d=\"M150.302 1073.07 L166.621 1073.07 L166.621 1077.01 L144.677 1077.01 L144.677 1073.07 Q147.339 1070.32 151.922 1065.69 Q156.528 1061.03 157.709 1059.69 Q159.954 1057.17 160.834 1055.43 Q161.737 1053.67 161.737 1051.98 Q161.737 1049.23 159.792 1047.49 Q157.871 1045.76 154.769 1045.76 Q152.57 1045.76 150.116 1046.52 Q147.686 1047.28 144.908 1048.83 L144.908 1044.11 Q147.732 1042.98 150.186 1042.4 Q152.64 1041.82 154.677 1041.82 Q160.047 1041.82 163.241 1044.51 Q166.436 1047.19 166.436 1051.68 Q166.436 1053.81 165.626 1055.73 Q164.839 1057.63 162.732 1060.22 Q162.153 1060.89 159.052 1064.11 Q155.95 1067.31 150.302 1073.07 Z\" fill=\"#000000\" fill-rule=\"nonzero\" fill-opacity=\"1\" /><path clip-path=\"url(#clip780)\" d=\"M186.436 1045.52 Q182.825 1045.52 180.996 1049.09 Q179.19 1052.63 179.19 1059.76 Q179.19 1066.87 180.996 1070.43 Q182.825 1073.97 186.436 1073.97 Q190.07 1073.97 191.875 1070.43 Q193.704 1066.87 193.704 1059.76 Q193.704 1052.63 191.875 1049.09 Q190.07 1045.52 186.436 1045.52 M186.436 1041.82 Q192.246 1041.82 195.301 1046.43 Q198.38 1051.01 198.38 1059.76 Q198.38 1068.49 195.301 1073.09 Q192.246 1077.68 186.436 1077.68 Q180.626 1077.68 177.547 1073.09 Q174.491 1068.49 174.491 1059.76 Q174.491 1051.01 177.547 1046.43 Q180.626 1041.82 186.436 1041.82 Z\" fill=\"#000000\" fill-rule=\"nonzero\" fill-opacity=\"1\" /><path clip-path=\"url(#clip780)\" d=\"M126.112 857.772 Q122.779 857.772 120.857 859.555 Q118.959 861.337 118.959 864.462 Q118.959 867.587 120.857 869.37 Q122.779 871.152 126.112 871.152 Q129.445 871.152 131.367 869.37 Q133.288 867.564 133.288 864.462 Q133.288 861.337 131.367 859.555 Q129.468 857.772 126.112 857.772 M121.436 855.782 Q118.427 855.041 116.737 852.981 Q115.07 850.921 115.07 847.958 Q115.07 843.814 118.01 841.407 Q120.973 838.999 126.112 838.999 Q131.274 838.999 134.214 841.407 Q137.154 843.814 137.154 847.958 Q137.154 850.921 135.464 852.981 Q133.797 855.041 130.811 855.782 Q134.191 856.569 136.066 858.86 Q137.964 861.152 137.964 864.462 Q137.964 869.485 134.885 872.171 Q131.83 874.856 126.112 874.856 Q120.394 874.856 117.316 872.171 Q114.26 869.485 114.26 864.462 Q114.26 861.152 116.158 858.86 Q118.056 856.569 121.436 855.782 M119.723 848.398 Q119.723 851.083 121.39 852.587 Q123.08 854.092 126.112 854.092 Q129.121 854.092 130.811 852.587 Q132.524 851.083 132.524 848.398 Q132.524 845.712 130.811 844.208 Q129.121 842.703 126.112 842.703 Q123.08 842.703 121.39 844.208 Q119.723 845.712 119.723 848.398 Z\" fill=\"#000000\" fill-rule=\"nonzero\" fill-opacity=\"1\" /><path clip-path=\"url(#clip780)\" d=\"M160.44 855.55 Q163.797 856.268 165.672 858.536 Q167.57 860.805 167.57 864.138 Q167.57 869.254 164.052 872.055 Q160.533 874.856 154.052 874.856 Q151.876 874.856 149.561 874.416 Q147.269 873.999 144.816 873.143 L144.816 868.629 Q146.76 869.763 149.075 870.342 Q151.39 870.921 153.913 870.921 Q158.311 870.921 160.603 869.184 Q162.917 867.448 162.917 864.138 Q162.917 861.083 160.765 859.37 Q158.635 857.634 154.815 857.634 L150.788 857.634 L150.788 853.791 L155.001 853.791 Q158.45 853.791 160.278 852.425 Q162.107 851.036 162.107 848.444 Q162.107 845.782 160.209 844.37 Q158.334 842.935 154.815 842.935 Q152.894 842.935 150.695 843.351 Q148.496 843.768 145.857 844.648 L145.857 840.481 Q148.519 839.74 150.834 839.37 Q153.172 838.999 155.232 838.999 Q160.556 838.999 163.658 841.43 Q166.76 843.837 166.76 847.958 Q166.76 850.828 165.116 852.819 Q163.473 854.786 160.44 855.55 Z\" fill=\"#000000\" fill-rule=\"nonzero\" fill-opacity=\"1\" /><path clip-path=\"url(#clip780)\" d=\"M186.436 842.703 Q182.825 842.703 180.996 846.268 Q179.19 849.81 179.19 856.939 Q179.19 864.046 180.996 867.61 Q182.825 871.152 186.436 871.152 Q190.07 871.152 191.875 867.61 Q193.704 864.046 193.704 856.939 Q193.704 849.81 191.875 846.268 Q190.07 842.703 186.436 842.703 M186.436 838.999 Q192.246 838.999 195.301 843.606 Q198.38 848.189 198.38 856.939 Q198.38 865.666 195.301 870.272 Q192.246 874.856 186.436 874.856 Q180.626 874.856 177.547 870.272 Q174.491 865.666 174.491 856.939 Q174.491 848.189 177.547 843.606 Q180.626 838.999 186.436 838.999 Z\" fill=\"#000000\" fill-rule=\"nonzero\" fill-opacity=\"1\" /><path clip-path=\"url(#clip780)\" d=\"M126.112 654.952 Q122.779 654.952 120.857 656.734 Q118.959 658.517 118.959 661.642 Q118.959 664.766 120.857 666.549 Q122.779 668.331 126.112 668.331 Q129.445 668.331 131.367 666.549 Q133.288 664.743 133.288 661.642 Q133.288 658.517 131.367 656.734 Q129.468 654.952 126.112 654.952 M121.436 652.961 Q118.427 652.22 116.737 650.16 Q115.07 648.1 115.07 645.137 Q115.07 640.993 118.01 638.586 Q120.973 636.179 126.112 636.179 Q131.274 636.179 134.214 638.586 Q137.154 640.993 137.154 645.137 Q137.154 648.1 135.464 650.16 Q133.797 652.22 130.811 652.961 Q134.191 653.748 136.066 656.04 Q137.964 658.331 137.964 661.642 Q137.964 666.665 134.885 669.35 Q131.83 672.035 126.112 672.035 Q120.394 672.035 117.316 669.35 Q114.26 666.665 114.26 661.642 Q114.26 658.331 116.158 656.04 Q118.056 653.748 121.436 652.961 M119.723 645.577 Q119.723 648.262 121.39 649.767 Q123.08 651.271 126.112 651.271 Q129.121 651.271 130.811 649.767 Q132.524 648.262 132.524 645.577 Q132.524 642.892 130.811 641.387 Q129.121 639.882 126.112 639.882 Q123.08 639.882 121.39 641.387 Q119.723 642.892 119.723 645.577 Z\" fill=\"#000000\" fill-rule=\"nonzero\" fill-opacity=\"1\" /><path clip-path=\"url(#clip780)\" d=\"M159.121 640.878 L147.316 659.327 L159.121 659.327 L159.121 640.878 M157.894 636.804 L163.774 636.804 L163.774 659.327 L168.704 659.327 L168.704 663.216 L163.774 663.216 L163.774 671.364 L159.121 671.364 L159.121 663.216 L143.519 663.216 L143.519 658.702 L157.894 636.804 Z\" fill=\"#000000\" fill-rule=\"nonzero\" fill-opacity=\"1\" /><path clip-path=\"url(#clip780)\" d=\"M186.436 639.882 Q182.825 639.882 180.996 643.447 Q179.19 646.989 179.19 654.118 Q179.19 661.225 180.996 664.79 Q182.825 668.331 186.436 668.331 Q190.07 668.331 191.875 664.79 Q193.704 661.225 193.704 654.118 Q193.704 646.989 191.875 643.447 Q190.07 639.882 186.436 639.882 M186.436 636.179 Q192.246 636.179 195.301 640.785 Q198.38 645.368 198.38 654.118 Q198.38 662.845 195.301 667.452 Q192.246 672.035 186.436 672.035 Q180.626 672.035 177.547 667.452 Q174.491 662.845 174.491 654.118 Q174.491 645.368 177.547 640.785 Q180.626 636.179 186.436 636.179 Z\" fill=\"#000000\" fill-rule=\"nonzero\" fill-opacity=\"1\" /><path clip-path=\"url(#clip780)\" d=\"M126.112 452.131 Q122.779 452.131 120.857 453.913 Q118.959 455.696 118.959 458.821 Q118.959 461.946 120.857 463.728 Q122.779 465.511 126.112 465.511 Q129.445 465.511 131.367 463.728 Q133.288 461.923 133.288 458.821 Q133.288 455.696 131.367 453.913 Q129.468 452.131 126.112 452.131 M121.436 450.14 Q118.427 449.4 116.737 447.339 Q115.07 445.279 115.07 442.316 Q115.07 438.173 118.01 435.765 Q120.973 433.358 126.112 433.358 Q131.274 433.358 134.214 435.765 Q137.154 438.173 137.154 442.316 Q137.154 445.279 135.464 447.339 Q133.797 449.4 130.811 450.14 Q134.191 450.927 136.066 453.219 Q137.964 455.511 137.964 458.821 Q137.964 463.844 134.885 466.529 Q131.83 469.214 126.112 469.214 Q120.394 469.214 117.316 466.529 Q114.26 463.844 114.26 458.821 Q114.26 455.511 116.158 453.219 Q118.056 450.927 121.436 450.14 M119.723 442.756 Q119.723 445.441 121.39 446.946 Q123.08 448.45 126.112 448.45 Q129.121 448.45 130.811 446.946 Q132.524 445.441 132.524 442.756 Q132.524 440.071 130.811 438.566 Q129.121 437.062 126.112 437.062 Q123.08 437.062 121.39 438.566 Q119.723 440.071 119.723 442.756 Z\" fill=\"#000000\" fill-rule=\"nonzero\" fill-opacity=\"1\" /><path clip-path=\"url(#clip780)\" d=\"M146.32 433.983 L164.677 433.983 L164.677 437.918 L150.603 437.918 L150.603 446.39 Q151.621 446.043 152.64 445.881 Q153.658 445.696 154.677 445.696 Q160.464 445.696 163.843 448.867 Q167.223 452.038 167.223 457.455 Q167.223 463.034 163.751 466.136 Q160.278 469.214 153.959 469.214 Q151.783 469.214 149.515 468.844 Q147.269 468.474 144.862 467.733 L144.862 463.034 Q146.945 464.168 149.167 464.724 Q151.39 465.279 153.866 465.279 Q157.871 465.279 160.209 463.173 Q162.547 461.066 162.547 457.455 Q162.547 453.844 160.209 451.737 Q157.871 449.631 153.866 449.631 Q151.991 449.631 150.116 450.048 Q148.265 450.464 146.32 451.344 L146.32 433.983 Z\" fill=\"#000000\" fill-rule=\"nonzero\" fill-opacity=\"1\" /><path clip-path=\"url(#clip780)\" d=\"M186.436 437.062 Q182.825 437.062 180.996 440.626 Q179.19 444.168 179.19 451.298 Q179.19 458.404 180.996 461.969 Q182.825 465.511 186.436 465.511 Q190.07 465.511 191.875 461.969 Q193.704 458.404 193.704 451.298 Q193.704 444.168 191.875 440.626 Q190.07 437.062 186.436 437.062 M186.436 433.358 Q192.246 433.358 195.301 437.964 Q198.38 442.548 198.38 451.298 Q198.38 460.024 195.301 464.631 Q192.246 469.214 186.436 469.214 Q180.626 469.214 177.547 464.631 Q174.491 460.024 174.491 451.298 Q174.491 442.548 177.547 437.964 Q180.626 433.358 186.436 433.358 Z\" fill=\"#000000\" fill-rule=\"nonzero\" fill-opacity=\"1\" /><path clip-path=\"url(#clip780)\" d=\"M126.112 249.31 Q122.779 249.31 120.857 251.093 Q118.959 252.875 118.959 256 Q118.959 259.125 120.857 260.907 Q122.779 262.69 126.112 262.69 Q129.445 262.69 131.367 260.907 Q133.288 259.102 133.288 256 Q133.288 252.875 131.367 251.093 Q129.468 249.31 126.112 249.31 M121.436 247.32 Q118.427 246.579 116.737 244.519 Q115.07 242.458 115.07 239.496 Q115.07 235.352 118.01 232.945 Q120.973 230.537 126.112 230.537 Q131.274 230.537 134.214 232.945 Q137.154 235.352 137.154 239.496 Q137.154 242.458 135.464 244.519 Q133.797 246.579 130.811 247.32 Q134.191 248.107 136.066 250.398 Q137.964 252.69 137.964 256 Q137.964 261.023 134.885 263.708 Q131.83 266.394 126.112 266.394 Q120.394 266.394 117.316 263.708 Q114.26 261.023 114.26 256 Q114.26 252.69 116.158 250.398 Q118.056 248.107 121.436 247.32 M119.723 239.935 Q119.723 242.621 121.39 244.125 Q123.08 245.63 126.112 245.63 Q129.121 245.63 130.811 244.125 Q132.524 242.621 132.524 239.935 Q132.524 237.25 130.811 235.746 Q129.121 234.241 126.112 234.241 Q123.08 234.241 121.39 235.746 Q119.723 237.25 119.723 239.935 Z\" fill=\"#000000\" fill-rule=\"nonzero\" fill-opacity=\"1\" /><path clip-path=\"url(#clip780)\" d=\"M156.853 246.579 Q153.704 246.579 151.853 248.732 Q150.024 250.884 150.024 254.634 Q150.024 258.361 151.853 260.537 Q153.704 262.69 156.853 262.69 Q160.001 262.69 161.829 260.537 Q163.681 258.361 163.681 254.634 Q163.681 250.884 161.829 248.732 Q160.001 246.579 156.853 246.579 M166.135 231.926 L166.135 236.185 Q164.376 235.352 162.57 234.912 Q160.788 234.472 159.028 234.472 Q154.399 234.472 151.945 237.597 Q149.515 240.722 149.167 247.042 Q150.533 245.028 152.593 243.963 Q154.653 242.875 157.13 242.875 Q162.339 242.875 165.348 246.046 Q168.38 249.195 168.38 254.634 Q168.38 259.958 165.232 263.176 Q162.084 266.394 156.853 266.394 Q150.857 266.394 147.686 261.81 Q144.515 257.204 144.515 248.477 Q144.515 240.283 148.403 235.421 Q152.292 230.537 158.843 230.537 Q160.603 230.537 162.385 230.884 Q164.19 231.232 166.135 231.926 Z\" fill=\"#000000\" fill-rule=\"nonzero\" fill-opacity=\"1\" /><path clip-path=\"url(#clip780)\" d=\"M186.436 234.241 Q182.825 234.241 180.996 237.806 Q179.19 241.347 179.19 248.477 Q179.19 255.583 180.996 259.148 Q182.825 262.69 186.436 262.69 Q190.07 262.69 191.875 259.148 Q193.704 255.583 193.704 248.477 Q193.704 241.347 191.875 237.806 Q190.07 234.241 186.436 234.241 M186.436 230.537 Q192.246 230.537 195.301 235.144 Q198.38 239.727 198.38 248.477 Q198.38 257.204 195.301 261.81 Q192.246 266.394 186.436 266.394 Q180.626 266.394 177.547 261.81 Q174.491 257.204 174.491 248.477 Q174.491 239.727 177.547 235.144 Q180.626 230.537 186.436 230.537 Z\" fill=\"#000000\" fill-rule=\"nonzero\" fill-opacity=\"1\" /><path clip-path=\"url(#clip780)\" d=\"M42.4881 1009.19 L64.0042 1009.19 L64.0042 1015.05 L42.679 1015.05 Q37.6183 1015.05 35.1038 1017.02 Q32.5894 1019 32.5894 1022.94 Q32.5894 1027.68 35.6131 1030.42 Q38.6368 1033.16 43.8567 1033.16 L64.0042 1033.16 L64.0042 1039.05 L28.3562 1039.05 L28.3562 1033.16 L33.8944 1033.16 Q30.6797 1031.06 29.0883 1028.23 Q27.4968 1025.36 27.4968 1021.64 Q27.4968 1015.49 31.3163 1012.34 Q35.1038 1009.19 42.4881 1009.19 Z\" fill=\"#000000\" fill-rule=\"nonzero\" fill-opacity=\"1\" /><path clip-path=\"url(#clip780)\" d=\"M49.9359 998.116 L28.3562 998.116 L28.3562 992.259 L49.7131 992.259 Q54.7739 992.259 57.3202 990.286 Q59.8346 988.312 59.8346 984.366 Q59.8346 979.623 56.8109 976.886 Q53.7872 974.117 48.5673 974.117 L28.3562 974.117 L28.3562 968.26 L64.0042 968.26 L64.0042 974.117 L58.5296 974.117 Q61.7762 976.249 63.3676 979.082 Q64.9272 981.883 64.9272 985.607 Q64.9272 991.75 61.1078 994.933 Q57.2883 998.116 49.9359 998.116 M27.4968 983.379 L27.4968 983.379 Z\" fill=\"#000000\" fill-rule=\"nonzero\" fill-opacity=\"1\" /><path clip-path=\"url(#clip780)\" d=\"M35.1993 928.443 Q31.2526 926.247 29.3747 923.191 Q27.4968 920.136 27.4968 915.998 Q27.4968 910.428 31.4117 907.404 Q35.2948 904.381 42.4881 904.381 L64.0042 904.381 L64.0042 910.269 L42.679 910.269 Q37.5546 910.269 35.072 912.083 Q32.5894 913.897 32.5894 917.621 Q32.5894 922.173 35.6131 924.815 Q38.6368 927.456 43.8567 927.456 L64.0042 927.456 L64.0042 933.345 L42.679 933.345 Q37.5228 933.345 35.072 935.159 Q32.5894 936.973 32.5894 940.761 Q32.5894 945.248 35.6449 947.89 Q38.6686 950.532 43.8567 950.532 L64.0042 950.532 L64.0042 956.42 L28.3562 956.42 L28.3562 950.532 L33.8944 950.532 Q30.616 948.527 29.0564 945.726 Q27.4968 942.925 27.4968 939.074 Q27.4968 935.191 29.4702 932.485 Q31.4436 929.748 35.1993 928.443 Z\" fill=\"#000000\" fill-rule=\"nonzero\" fill-opacity=\"1\" /><path clip-path=\"url(#clip780)\" d=\"M46.212 867.109 Q39.7508 867.109 36.0905 869.783 Q32.3984 872.425 32.3984 877.072 Q32.3984 881.719 36.0905 884.392 Q39.7508 887.034 46.212 887.034 Q52.6732 887.034 56.3653 884.392 Q60.0256 881.719 60.0256 877.072 Q60.0256 872.425 56.3653 869.783 Q52.6732 867.109 46.212 867.109 M33.7671 887.034 Q30.5842 885.188 29.0564 882.387 Q27.4968 879.554 27.4968 875.639 Q27.4968 869.146 32.6531 865.104 Q37.8093 861.03 46.212 861.03 Q54.6147 861.03 59.771 865.104 Q64.9272 869.146 64.9272 875.639 Q64.9272 879.554 63.3994 882.387 Q61.8398 885.188 58.657 887.034 L64.0042 887.034 L64.0042 892.922 L14.479 892.922 L14.479 887.034 L33.7671 887.034 Z\" fill=\"#000000\" fill-rule=\"nonzero\" fill-opacity=\"1\" /><path clip-path=\"url(#clip780)\" d=\"M44.7161 820.831 L47.5806 820.831 L47.5806 847.758 Q53.6281 847.376 56.8109 844.129 Q59.9619 840.851 59.9619 835.026 Q59.9619 831.652 59.1344 828.501 Q58.3069 825.319 56.6518 822.199 L62.1899 822.199 Q63.5267 825.35 64.227 828.661 Q64.9272 831.971 64.9272 835.376 Q64.9272 843.906 59.9619 848.903 Q54.9967 853.869 46.5303 853.869 Q37.7774 853.869 32.6531 849.158 Q27.4968 844.416 27.4968 836.395 Q27.4968 829.202 32.1438 825.032 Q36.7589 820.831 44.7161 820.831 M42.9973 826.687 Q38.1912 826.751 35.3266 829.393 Q32.4621 832.003 32.4621 836.331 Q32.4621 841.233 35.2312 844.193 Q38.0002 847.121 43.0292 847.567 L42.9973 826.687 Z\" fill=\"#000000\" fill-rule=\"nonzero\" fill-opacity=\"1\" /><path clip-path=\"url(#clip780)\" d=\"M33.8307 790.562 Q33.2578 791.548 33.0032 792.726 Q32.7167 793.872 32.7167 795.272 Q32.7167 800.238 35.9632 802.911 Q39.1779 805.553 45.2253 805.553 L64.0042 805.553 L64.0042 811.441 L28.3562 811.441 L28.3562 805.553 L33.8944 805.553 Q30.6479 803.707 29.0883 800.747 Q27.4968 797.787 27.4968 793.554 Q27.4968 792.949 27.5923 792.217 Q27.656 791.485 27.8151 790.594 L33.8307 790.562 Z\" fill=\"#000000\" fill-rule=\"nonzero\" fill-opacity=\"1\" /><path clip-path=\"url(#clip780)\" d=\"M32.4621 749.885 Q32.4621 754.596 36.1542 757.333 Q39.8145 760.07 46.212 760.07 Q52.6095 760.07 56.3017 757.365 Q59.9619 754.627 59.9619 749.885 Q59.9619 745.206 56.2698 742.469 Q52.5777 739.732 46.212 739.732 Q39.8781 739.732 36.186 742.469 Q32.4621 745.206 32.4621 749.885 M27.4968 749.885 Q27.4968 742.246 32.4621 737.886 Q37.4273 733.525 46.212 733.525 Q54.9649 733.525 59.9619 737.886 Q64.9272 742.246 64.9272 749.885 Q64.9272 757.556 59.9619 761.916 Q54.9649 766.245 46.212 766.245 Q37.4273 766.245 32.4621 761.916 Q27.4968 757.556 27.4968 749.885 Z\" fill=\"#000000\" fill-rule=\"nonzero\" fill-opacity=\"1\" /><path clip-path=\"url(#clip780)\" d=\"M14.479 705.771 L19.3487 705.771 L19.3487 711.372 Q19.3487 714.523 20.6219 715.765 Q21.895 716.974 25.2052 716.974 L28.3562 716.974 L28.3562 707.33 L32.9077 707.33 L32.9077 716.974 L64.0042 716.974 L64.0042 722.862 L32.9077 722.862 L32.9077 728.464 L28.3562 728.464 L28.3562 722.862 L25.8736 722.862 Q19.9216 722.862 17.2162 720.093 Q14.479 717.324 14.479 711.309 L14.479 705.771 Z\" fill=\"#000000\" fill-rule=\"nonzero\" fill-opacity=\"1\" /><path clip-path=\"url(#clip780)\" d=\"M58.657 674.483 L77.5631 674.483 L77.5631 680.371 L28.3562 680.371 L28.3562 674.483 L33.7671 674.483 Q30.5842 672.637 29.0564 669.836 Q27.4968 667.003 27.4968 663.089 Q27.4968 656.595 32.6531 652.553 Q37.8093 648.479 46.212 648.479 Q54.6147 648.479 59.771 652.553 Q64.9272 656.595 64.9272 663.089 Q64.9272 667.003 63.3994 669.836 Q61.8398 672.637 58.657 674.483 M46.212 654.558 Q39.7508 654.558 36.0905 657.232 Q32.3984 659.874 32.3984 664.521 Q32.3984 669.168 36.0905 671.841 Q39.7508 674.483 46.212 674.483 Q52.6732 674.483 56.3653 671.841 Q60.0256 669.168 60.0256 664.521 Q60.0256 659.874 56.3653 657.232 Q52.6732 654.558 46.212 654.558 Z\" fill=\"#000000\" fill-rule=\"nonzero\" fill-opacity=\"1\" /><path clip-path=\"url(#clip780)\" d=\"M46.0847 622.571 Q46.0847 629.669 47.7079 632.406 Q49.3312 635.143 53.2461 635.143 Q56.3653 635.143 58.2114 633.106 Q60.0256 631.037 60.0256 627.504 Q60.0256 622.634 56.5881 619.706 Q53.1188 616.746 47.3897 616.746 L46.0847 616.746 L46.0847 622.571 M43.6657 610.89 L64.0042 610.89 L64.0042 616.746 L58.5933 616.746 Q61.8398 618.751 63.3994 621.743 Q64.9272 624.735 64.9272 629.064 Q64.9272 634.538 61.8716 637.785 Q58.7843 641 53.6281 641 Q47.6125 641 44.5569 636.989 Q41.5014 632.947 41.5014 624.958 L41.5014 616.746 L40.9285 616.746 Q36.8862 616.746 34.6901 619.42 Q32.4621 622.062 32.4621 626.868 Q32.4621 629.923 33.1941 632.82 Q33.9262 635.716 35.3903 638.39 L29.9795 638.39 Q28.7381 635.175 28.1334 632.151 Q27.4968 629.127 27.4968 626.263 Q27.4968 618.529 31.5072 614.709 Q35.5176 610.89 43.6657 610.89 Z\" fill=\"#000000\" fill-rule=\"nonzero\" fill-opacity=\"1\" /><path clip-path=\"url(#clip780)\" d=\"M18.2347 593.034 L28.3562 593.034 L28.3562 580.971 L32.9077 580.971 L32.9077 593.034 L52.2594 593.034 Q56.6199 593.034 57.8613 591.856 Q59.1026 590.647 59.1026 586.986 L59.1026 580.971 L64.0042 580.971 L64.0042 586.986 Q64.0042 593.766 61.4897 596.344 Q58.9434 598.922 52.2594 598.922 L32.9077 598.922 L32.9077 603.219 L28.3562 603.219 L28.3562 598.922 L18.2347 598.922 L18.2347 593.034 Z\" fill=\"#000000\" fill-rule=\"nonzero\" fill-opacity=\"1\" /><path clip-path=\"url(#clip780)\" d=\"M29.7248 547.615 L35.1993 547.615 Q33.8307 550.097 33.1623 552.612 Q32.4621 555.094 32.4621 557.641 Q32.4621 563.338 36.0905 566.489 Q39.6872 569.64 46.212 569.64 Q52.7369 569.64 56.3653 566.489 Q59.9619 563.338 59.9619 557.641 Q59.9619 555.094 59.2935 552.612 Q58.5933 550.097 57.2247 547.615 L62.6355 547.615 Q63.7814 550.065 64.3543 552.707 Q64.9272 555.317 64.9272 558.277 Q64.9272 566.33 59.8664 571.072 Q54.8057 575.815 46.212 575.815 Q37.491 575.815 32.4939 571.04 Q27.4968 566.234 27.4968 557.895 Q27.4968 555.19 28.0697 552.612 Q28.6108 550.034 29.7248 547.615 Z\" fill=\"#000000\" fill-rule=\"nonzero\" fill-opacity=\"1\" /><path clip-path=\"url(#clip780)\" d=\"M42.4881 507.797 L64.0042 507.797 L64.0042 513.654 L42.679 513.654 Q37.6183 513.654 35.1038 515.627 Q32.5894 517.6 32.5894 521.547 Q32.5894 526.289 35.6131 529.027 Q38.6368 531.764 43.8567 531.764 L64.0042 531.764 L64.0042 537.652 L14.479 537.652 L14.479 531.764 L33.8944 531.764 Q30.6797 529.663 29.0883 526.831 Q27.4968 523.966 27.4968 520.242 Q27.4968 514.099 31.3163 510.948 Q35.1038 507.797 42.4881 507.797 Z\" fill=\"#000000\" fill-rule=\"nonzero\" fill-opacity=\"1\" /><path clip-path=\"url(#clip780)\" d=\"M44.7161 465.624 L47.5806 465.624 L47.5806 492.551 Q53.6281 492.169 56.8109 488.923 Q59.9619 485.644 59.9619 479.82 Q59.9619 476.446 59.1344 473.295 Q58.3069 470.112 56.6518 466.993 L62.1899 466.993 Q63.5267 470.144 64.227 473.454 Q64.9272 476.764 64.9272 480.17 Q64.9272 488.7 59.9619 493.697 Q54.9967 498.662 46.5303 498.662 Q37.7774 498.662 32.6531 493.952 Q27.4968 489.209 27.4968 481.188 Q27.4968 473.995 32.1438 469.826 Q36.7589 465.624 44.7161 465.624 M42.9973 471.481 Q38.1912 471.544 35.3266 474.186 Q32.4621 476.796 32.4621 481.125 Q32.4621 486.026 35.2312 488.986 Q38.0002 491.915 43.0292 492.36 L42.9973 471.481 Z\" fill=\"#000000\" fill-rule=\"nonzero\" fill-opacity=\"1\" /><path clip-path=\"url(#clip780)\" d=\"M29.4065 433.287 L34.9447 433.287 Q33.6716 435.769 33.035 438.443 Q32.3984 441.116 32.3984 443.981 Q32.3984 448.341 33.7352 450.538 Q35.072 452.702 37.7456 452.702 Q39.7826 452.702 40.9603 451.142 Q42.1061 449.583 43.1565 444.872 L43.6021 442.867 Q44.9389 436.628 47.3897 434.019 Q49.8086 431.377 54.1691 431.377 Q59.1344 431.377 62.0308 435.324 Q64.9272 439.238 64.9272 446.113 Q64.9272 448.978 64.3543 452.097 Q63.8132 455.185 62.6992 458.622 L56.6518 458.622 Q58.3387 455.376 59.198 452.224 Q60.0256 449.073 60.0256 445.986 Q60.0256 441.848 58.6251 439.62 Q57.1929 437.392 54.6147 437.392 Q52.2276 437.392 50.9545 439.016 Q49.6813 440.607 48.5037 446.05 L48.0262 448.087 Q46.8804 453.529 44.5251 455.948 Q42.138 458.367 38.0002 458.367 Q32.9713 458.367 30.2341 454.803 Q27.4968 451.238 27.4968 444.681 Q27.4968 441.435 27.9743 438.57 Q28.4517 435.705 29.4065 433.287 Z\" fill=\"#000000\" fill-rule=\"nonzero\" fill-opacity=\"1\" /><polyline clip-path=\"url(#clip782)\" style=\"stroke:#009af9; stroke-linecap:round; stroke-linejoin:round; stroke-width:4; stroke-opacity:1; fill:none\" points=\"294.334,755.494 299.33,512.109 304.326,370.135 309.323,410.699 314.319,451.263 319.315,370.135 324.311,329.571 329.307,289.006 334.303,309.288 339.3,410.699 344.296,532.391 349.292,593.237 354.288,572.955 359.284,552.673 364.28,572.955 369.277,613.52 374.273,613.52 379.269,694.648 384.265,633.802 389.261,654.084 394.257,613.52 399.254,613.52 404.25,512.109 409.246,471.545 414.242,451.263 419.238,390.417 424.235,370.135 429.231,329.571 434.227,329.571 439.223,329.571 444.219,228.16 449.215,187.596 454.212,187.596 459.208,167.314 464.204,207.878 469.2,187.596 474.196,147.032 479.192,167.314 484.189,167.314 489.185,167.314 494.181,147.032 499.177,147.032 504.173,106.468 509.169,106.468 514.166,106.468 519.162,106.468 524.158,106.468 529.154,106.468 534.15,106.468 539.146,106.468 544.143,106.468 549.139,106.468 554.135,106.468 559.131,106.468 564.127,106.468 569.123,106.468 574.12,106.468 579.116,106.468 584.112,106.468 589.108,86.1857 594.104,86.1857 599.1,86.1857 604.097,86.1857 609.093,86.1857 614.089,86.1857 619.085,86.1857 624.081,86.1857 629.077,86.1857 634.074,86.1857 639.07,86.1857 644.066,86.1857 649.062,86.1857 654.058,86.1857 659.054,86.1857 664.051,86.1857 669.047,86.1857 674.043,86.1857 679.039,86.1857 684.035,86.1857 689.031,86.1857 694.028,86.1857 699.024,86.1857 704.02,86.1857 709.016,86.1857 714.012,86.1857 719.009,86.1857 724.005,86.1857 729.001,86.1857 733.997,86.1857 738.993,86.1857 743.989,86.1857 748.986,86.1857 753.982,86.1857 758.978,86.1857 763.974,86.1857 768.97,86.1857 773.966,86.1857 778.963,86.1857 783.959,86.1857 788.955,86.1857 793.951,86.1857 798.947,86.1857 803.943,86.1857 808.94,86.1857 813.936,86.1857 818.932,86.1857 823.928,86.1857 828.924,86.1857 833.92,86.1857 838.917,86.1857 843.913,86.1857 848.909,86.1857 853.905,86.1857 858.901,86.1857 863.897,86.1857 868.894,86.1857 873.89,86.1857 878.886,86.1857 883.882,86.1857 888.878,86.1857 893.874,86.1857 898.871,86.1857 903.867,86.1857 908.863,86.1857 913.859,86.1857 918.855,86.1857 923.851,86.1857 928.848,86.1857 933.844,86.1857 938.84,86.1857 943.836,86.1857 948.832,86.1857 953.828,86.1857 958.825,86.1857 963.821,86.1857 968.817,86.1857 973.813,86.1857 978.809,86.1857 983.805,86.1857 988.802,86.1857 993.798,86.1857 998.794,86.1857 1003.79,86.1857 1008.79,86.1857 1013.78,86.1857 1018.78,86.1857 1023.77,86.1857 1028.77,86.1857 1033.77,86.1857 1038.76,86.1857 1043.76,86.1857 1048.76,86.1857 1053.75,86.1857 1058.75,86.1857 1063.74,86.1857 1068.74,86.1857 1073.74,86.1857 1078.73,86.1857 1083.73,86.1857 1088.73,86.1857 1093.72,86.1857 1098.72,86.1857 1103.71,86.1857 1108.71,86.1857 1113.71,86.1857 1118.7,86.1857 1123.7,86.1857 1128.69,86.1857 1133.69,86.1857 1138.69,86.1857 1143.68,86.1857 1148.68,86.1857 1153.68,86.1857 1158.67,86.1857 1163.67,86.1857 1168.66,86.1857 1173.66,86.1857 1178.66,86.1857 1183.65,86.1857 1188.65,86.1857 1193.64,86.1857 1198.64,86.1857 1203.64,86.1857 1208.63,86.1857 1213.63,86.1857 1218.63,86.1857 1223.62,86.1857 1228.62,86.1857 1233.61,86.1857 1238.61,86.1857 1243.61,86.1857 1248.6,86.1857 1253.6,86.1857 1258.59,86.1857 1263.59,86.1857 1268.59,86.1857 1273.58,86.1857 1278.58,86.1857 1283.58,86.1857 1288.57,86.1857 1293.57,86.1857 1298.56,86.1857 1303.56,86.1857 1308.56,86.1857 1313.55,86.1857 1318.55,86.1857 1323.55,86.1857 1328.54,86.1857 1333.54,86.1857 1338.53,86.1857 1343.53,86.1857 1348.53,86.1857 1353.52,86.1857 1358.52,86.1857 1363.51,86.1857 1368.51,86.1857 1373.51,86.1857 1378.5,86.1857 1383.5,86.1857 1388.5,86.1857 1393.49,86.1857 1398.49,86.1857 1403.48,86.1857 1408.48,86.1857 1413.48,86.1857 1418.47,86.1857 1423.47,86.1857 1428.46,86.1857 1433.46,86.1857 1438.46,86.1857 1443.45,86.1857 1448.45,86.1857 1453.45,86.1857 1458.44,86.1857 1463.44,86.1857 1468.43,86.1857 1473.43,86.1857 1478.43,86.1857 1483.42,86.1857 1488.42,86.1857 1493.41,86.1857 1498.41,86.1857 1503.41,86.1857 1508.4,86.1857 1513.4,86.1857 1518.4,86.1857 1523.39,86.1857 1528.39,86.1857 1533.38,86.1857 1538.38,86.1857 1543.38,86.1857 1548.37,86.1857 1553.37,86.1857 1558.36,86.1857 1563.36,86.1857 1568.36,86.1857 1573.35,86.1857 1578.35,86.1857 1583.35,86.1857 1588.34,86.1857 1593.34,86.1857 1598.33,86.1857 1603.33,86.1857 1608.33,86.1857 1613.32,86.1857 1618.32,86.1857 1623.32,86.1857 1628.31,86.1857 1633.31,86.1857 1638.3,86.1857 1643.3,86.1857 1648.3,86.1857 1653.29,86.1857 1658.29,86.1857 1663.28,86.1857 1668.28,86.1857 1673.28,86.1857 1678.27,86.1857 1683.27,86.1857 1688.27,86.1857 1693.26,86.1857 1698.26,86.1857 1703.25,86.1857 1708.25,86.1857 1713.25,86.1857 1718.24,86.1857 1723.24,86.1857 1728.23,86.1857 1733.23,86.1857 1738.23,86.1857 1743.22,86.1857 1748.22,86.1857 1753.22,86.1857 1758.21,86.1857 1763.21,86.1857 1768.2,86.1857 1773.2,86.1857 1778.2,86.1857 1783.19,86.1857 1788.19,86.1857 1793.18,86.1857 1798.18,86.1857 1803.18,86.1857 1808.17,86.1857 1813.17,86.1857 1818.17,86.1857 1823.16,86.1857 1828.16,86.1857 1833.15,86.1857 1838.15,86.1857 1843.15,86.1857 1848.14,86.1857 1853.14,86.1857 1858.14,86.1857 1863.13,86.1857 1868.13,86.1857 1873.12,86.1857 1878.12,86.1857 1883.12,86.1857 1888.11,86.1857 1893.11,86.1857 1898.1,86.1857 1903.1,86.1857 1908.1,86.1857 1913.09,86.1857 1918.09,86.1857 1923.09,86.1857 1928.08,86.1857 1933.08,86.1857 1938.07,86.1857 1943.07,86.1857 1948.07,86.1857 1953.06,86.1857 1958.06,86.1857 1963.05,86.1857 1968.05,86.1857 1973.05,86.1857 1978.04,86.1857 1983.04,86.1857 1988.04,86.1857 1993.03,86.1857 1998.03,86.1857 2003.02,86.1857 2008.02,86.1857 2013.02,86.1857 2018.01,86.1857 2023.01,86.1857 2028,86.1857 2033,86.1857 2038,86.1857 2042.99,86.1857 2047.99,86.1857 2052.99,86.1857 2057.98,86.1857 2062.98,86.1857 2067.97,86.1857 2072.97,86.1857 2077.97,86.1857 2082.96,86.1857 2087.96,86.1857 2092.96,86.1857 2097.95,86.1857 2102.95,86.1857 2107.94,86.1857 2112.94,86.1857 2117.94,86.1857 2122.93,86.1857 2127.93,86.1857 2132.92,86.1857 2137.92,86.1857 2142.92,86.1857 2147.91,86.1857 2152.91,86.1857 2157.91,86.1857 2162.9,86.1857 2167.9,86.1857 2172.89,86.1857 2177.89,86.1857 2182.89,86.1857 2187.88,86.1857 2192.88,86.1857 2197.87,86.1857 2202.87,86.1857 2207.87,86.1857 2212.86,86.1857 2217.86,86.1857 2222.86,86.1857 2227.85,86.1857 2232.85,86.1857 2237.84,86.1857 2242.84,86.1857 2247.84,86.1857 2252.83,86.1857 2257.83,86.1857 2262.82,86.1857 2267.82,86.1857 2272.82,86.1857 2277.81,86.1857 2282.81,86.1857 2287.81,86.1857 2292.8,86.1857 \"/>\n",
       "<polyline clip-path=\"url(#clip782)\" style=\"stroke:#e26f46; stroke-linecap:round; stroke-linejoin:round; stroke-width:4; stroke-opacity:1; fill:none\" points=\"294.334,471.545 299.33,572.955 304.326,654.084 309.323,633.802 314.319,654.084 319.315,654.084 324.311,674.366 329.307,796.058 334.303,816.34 339.3,572.955 344.296,512.109 349.292,552.673 354.288,633.802 359.284,654.084 364.28,633.802 369.277,613.52 374.273,613.52 379.269,532.391 384.265,552.673 389.261,572.955 394.257,593.237 399.254,613.52 404.25,735.212 409.246,735.212 414.242,755.494 419.238,775.776 424.235,775.776 429.231,796.058 434.227,775.776 439.223,735.212 444.219,816.34 449.215,836.622 454.212,836.622 459.208,877.186 464.204,897.469 469.2,917.751 474.196,958.315 479.192,938.033 484.189,938.033 489.185,958.315 494.181,978.597 499.177,978.597 504.173,1019.16 509.169,998.879 514.166,978.597 519.162,978.597 524.158,978.597 529.154,978.597 534.15,978.597 539.146,978.597 544.143,978.597 549.139,978.597 554.135,978.597 559.131,978.597 564.127,978.597 569.123,978.597 574.12,978.597 579.116,978.597 584.112,978.597 589.108,998.879 594.104,998.879 599.1,998.879 604.097,998.879 609.093,998.879 614.089,998.879 619.085,998.879 624.081,998.879 629.077,998.879 634.074,998.879 639.07,998.879 644.066,998.879 649.062,998.879 654.058,998.879 659.054,998.879 664.051,998.879 669.047,998.879 674.043,998.879 679.039,998.879 684.035,998.879 689.031,998.879 694.028,998.879 699.024,998.879 704.02,998.879 709.016,998.879 714.012,998.879 719.009,998.879 724.005,998.879 729.001,998.879 733.997,998.879 738.993,998.879 743.989,998.879 748.986,998.879 753.982,998.879 758.978,998.879 763.974,998.879 768.97,998.879 773.966,998.879 778.963,998.879 783.959,998.879 788.955,998.879 793.951,998.879 798.947,998.879 803.943,998.879 808.94,998.879 813.936,998.879 818.932,998.879 823.928,998.879 828.924,998.879 833.92,998.879 838.917,998.879 843.913,998.879 848.909,998.879 853.905,998.879 858.901,998.879 863.897,998.879 868.894,998.879 873.89,998.879 878.886,998.879 883.882,998.879 888.878,998.879 893.874,998.879 898.871,998.879 903.867,998.879 908.863,998.879 913.859,998.879 918.855,998.879 923.851,998.879 928.848,998.879 933.844,998.879 938.84,998.879 943.836,998.879 948.832,998.879 953.828,998.879 958.825,998.879 963.821,998.879 968.817,998.879 973.813,998.879 978.809,998.879 983.805,998.879 988.802,998.879 993.798,998.879 998.794,998.879 1003.79,998.879 1008.79,998.879 1013.78,998.879 1018.78,998.879 1023.77,998.879 1028.77,998.879 1033.77,998.879 1038.76,998.879 1043.76,998.879 1048.76,998.879 1053.75,998.879 1058.75,998.879 1063.74,998.879 1068.74,998.879 1073.74,998.879 1078.73,998.879 1083.73,998.879 1088.73,998.879 1093.72,998.879 1098.72,998.879 1103.71,998.879 1108.71,998.879 1113.71,998.879 1118.7,998.879 1123.7,998.879 1128.69,998.879 1133.69,998.879 1138.69,998.879 1143.68,998.879 1148.68,998.879 1153.68,998.879 1158.67,998.879 1163.67,998.879 1168.66,998.879 1173.66,998.879 1178.66,998.879 1183.65,998.879 1188.65,998.879 1193.64,998.879 1198.64,998.879 1203.64,998.879 1208.63,998.879 1213.63,998.879 1218.63,998.879 1223.62,998.879 1228.62,998.879 1233.61,998.879 1238.61,998.879 1243.61,998.879 1248.6,998.879 1253.6,998.879 1258.59,998.879 1263.59,998.879 1268.59,998.879 1273.58,998.879 1278.58,998.879 1283.58,998.879 1288.57,998.879 1293.57,998.879 1298.56,998.879 1303.56,998.879 1308.56,998.879 1313.55,998.879 1318.55,998.879 1323.55,998.879 1328.54,998.879 1333.54,998.879 1338.53,998.879 1343.53,998.879 1348.53,998.879 1353.52,998.879 1358.52,998.879 1363.51,998.879 1368.51,998.879 1373.51,998.879 1378.5,998.879 1383.5,998.879 1388.5,998.879 1393.49,998.879 1398.49,998.879 1403.48,998.879 1408.48,998.879 1413.48,998.879 1418.47,998.879 1423.47,998.879 1428.46,998.879 1433.46,998.879 1438.46,998.879 1443.45,998.879 1448.45,998.879 1453.45,998.879 1458.44,998.879 1463.44,998.879 1468.43,998.879 1473.43,998.879 1478.43,998.879 1483.42,998.879 1488.42,998.879 1493.41,998.879 1498.41,998.879 1503.41,998.879 1508.4,998.879 1513.4,998.879 1518.4,998.879 1523.39,998.879 1528.39,998.879 1533.38,998.879 1538.38,998.879 1543.38,998.879 1548.37,998.879 1553.37,998.879 1558.36,998.879 1563.36,998.879 1568.36,998.879 1573.35,998.879 1578.35,998.879 1583.35,998.879 1588.34,998.879 1593.34,998.879 1598.33,998.879 1603.33,998.879 1608.33,998.879 1613.32,998.879 1618.32,998.879 1623.32,998.879 1628.31,998.879 1633.31,998.879 1638.3,998.879 1643.3,998.879 1648.3,998.879 1653.29,998.879 1658.29,998.879 1663.28,998.879 1668.28,998.879 1673.28,998.879 1678.27,998.879 1683.27,998.879 1688.27,998.879 1693.26,998.879 1698.26,998.879 1703.25,998.879 1708.25,998.879 1713.25,998.879 1718.24,998.879 1723.24,998.879 1728.23,998.879 1733.23,998.879 1738.23,998.879 1743.22,998.879 1748.22,998.879 1753.22,998.879 1758.21,998.879 1763.21,998.879 1768.2,998.879 1773.2,998.879 1778.2,998.879 1783.19,998.879 1788.19,998.879 1793.18,998.879 1798.18,998.879 1803.18,998.879 1808.17,998.879 1813.17,998.879 1818.17,998.879 1823.16,998.879 1828.16,998.879 1833.15,998.879 1838.15,998.879 1843.15,998.879 1848.14,998.879 1853.14,998.879 1858.14,998.879 1863.13,998.879 1868.13,998.879 1873.12,998.879 1878.12,998.879 1883.12,998.879 1888.11,998.879 1893.11,998.879 1898.1,998.879 1903.1,998.879 1908.1,998.879 1913.09,998.879 1918.09,998.879 1923.09,998.879 1928.08,998.879 1933.08,998.879 1938.07,998.879 1943.07,998.879 1948.07,998.879 1953.06,998.879 1958.06,998.879 1963.05,998.879 1968.05,998.879 1973.05,998.879 1978.04,998.879 1983.04,998.879 1988.04,998.879 1993.03,998.879 1998.03,998.879 2003.02,998.879 2008.02,998.879 2013.02,998.879 2018.01,998.879 2023.01,998.879 2028,998.879 2033,998.879 2038,998.879 2042.99,998.879 2047.99,998.879 2052.99,998.879 2057.98,998.879 2062.98,998.879 2067.97,998.879 2072.97,998.879 2077.97,998.879 2082.96,998.879 2087.96,998.879 2092.96,998.879 2097.95,998.879 2102.95,998.879 2107.94,998.879 2112.94,998.879 2117.94,998.879 2122.93,998.879 2127.93,998.879 2132.92,998.879 2137.92,998.879 2142.92,998.879 2147.91,998.879 2152.91,998.879 2157.91,998.879 2162.9,998.879 2167.9,998.879 2172.89,998.879 2177.89,998.879 2182.89,998.879 2187.88,998.879 2192.88,998.879 2197.87,998.879 2202.87,998.879 2207.87,998.879 2212.86,998.879 2217.86,998.879 2222.86,998.879 2227.85,998.879 2232.85,998.879 2237.84,998.879 2242.84,998.879 2247.84,998.879 2252.83,998.879 2257.83,998.879 2262.82,998.879 2267.82,998.879 2272.82,998.879 2277.81,998.879 2282.81,998.879 2287.81,998.879 2292.8,998.879 \"/>\n",
       "<polyline clip-path=\"url(#clip782)\" style=\"stroke:#3da44d; stroke-linecap:round; stroke-linejoin:round; stroke-width:4; stroke-opacity:1; fill:none\" points=\"294.334,1140.85 299.33,1282.83 304.326,1343.67 309.323,1323.39 314.319,1262.55 319.315,1343.67 324.311,1363.96 329.307,1282.83 334.303,1242.26 339.3,1384.24 344.296,1323.39 349.292,1221.98 354.288,1161.14 359.284,1161.14 364.28,1161.14 369.277,1140.85 374.273,1140.85 379.269,1140.85 384.265,1181.42 389.261,1140.85 394.257,1161.14 399.254,1140.85 404.25,1120.57 409.246,1161.14 414.242,1161.14 419.238,1201.7 424.235,1221.98 429.231,1242.26 434.227,1262.55 439.223,1303.11 444.219,1323.39 449.215,1343.67 454.212,1343.67 459.208,1323.39 464.204,1262.55 469.2,1262.55 474.196,1262.55 479.192,1262.55 484.189,1262.55 489.185,1242.26 494.181,1242.26 499.177,1242.26 504.173,1242.26 509.169,1262.55 514.166,1282.83 519.162,1282.83 524.158,1282.83 529.154,1282.83 534.15,1282.83 539.146,1282.83 544.143,1282.83 549.139,1282.83 554.135,1282.83 559.131,1282.83 564.127,1282.83 569.123,1282.83 574.12,1282.83 579.116,1282.83 584.112,1282.83 589.108,1282.83 594.104,1282.83 599.1,1282.83 604.097,1282.83 609.093,1282.83 614.089,1282.83 619.085,1282.83 624.081,1282.83 629.077,1282.83 634.074,1282.83 639.07,1282.83 644.066,1282.83 649.062,1282.83 654.058,1282.83 659.054,1282.83 664.051,1282.83 669.047,1282.83 674.043,1282.83 679.039,1282.83 684.035,1282.83 689.031,1282.83 694.028,1282.83 699.024,1282.83 704.02,1282.83 709.016,1282.83 714.012,1282.83 719.009,1282.83 724.005,1282.83 729.001,1282.83 733.997,1282.83 738.993,1282.83 743.989,1282.83 748.986,1282.83 753.982,1282.83 758.978,1282.83 763.974,1282.83 768.97,1282.83 773.966,1282.83 778.963,1282.83 783.959,1282.83 788.955,1282.83 793.951,1282.83 798.947,1282.83 803.943,1282.83 808.94,1282.83 813.936,1282.83 818.932,1282.83 823.928,1282.83 828.924,1282.83 833.92,1282.83 838.917,1282.83 843.913,1282.83 848.909,1282.83 853.905,1282.83 858.901,1282.83 863.897,1282.83 868.894,1282.83 873.89,1282.83 878.886,1282.83 883.882,1282.83 888.878,1282.83 893.874,1282.83 898.871,1282.83 903.867,1282.83 908.863,1282.83 913.859,1282.83 918.855,1282.83 923.851,1282.83 928.848,1282.83 933.844,1282.83 938.84,1282.83 943.836,1282.83 948.832,1282.83 953.828,1282.83 958.825,1282.83 963.821,1282.83 968.817,1282.83 973.813,1282.83 978.809,1282.83 983.805,1282.83 988.802,1282.83 993.798,1282.83 998.794,1282.83 1003.79,1282.83 1008.79,1282.83 1013.78,1282.83 1018.78,1282.83 1023.77,1282.83 1028.77,1282.83 1033.77,1282.83 1038.76,1282.83 1043.76,1282.83 1048.76,1282.83 1053.75,1282.83 1058.75,1282.83 1063.74,1282.83 1068.74,1282.83 1073.74,1282.83 1078.73,1282.83 1083.73,1282.83 1088.73,1282.83 1093.72,1282.83 1098.72,1282.83 1103.71,1282.83 1108.71,1282.83 1113.71,1282.83 1118.7,1282.83 1123.7,1282.83 1128.69,1282.83 1133.69,1282.83 1138.69,1282.83 1143.68,1282.83 1148.68,1282.83 1153.68,1282.83 1158.67,1282.83 1163.67,1282.83 1168.66,1282.83 1173.66,1282.83 1178.66,1282.83 1183.65,1282.83 1188.65,1282.83 1193.64,1282.83 1198.64,1282.83 1203.64,1282.83 1208.63,1282.83 1213.63,1282.83 1218.63,1282.83 1223.62,1282.83 1228.62,1282.83 1233.61,1282.83 1238.61,1282.83 1243.61,1282.83 1248.6,1282.83 1253.6,1282.83 1258.59,1282.83 1263.59,1282.83 1268.59,1282.83 1273.58,1282.83 1278.58,1282.83 1283.58,1282.83 1288.57,1282.83 1293.57,1282.83 1298.56,1282.83 1303.56,1282.83 1308.56,1282.83 1313.55,1282.83 1318.55,1282.83 1323.55,1282.83 1328.54,1282.83 1333.54,1282.83 1338.53,1282.83 1343.53,1282.83 1348.53,1282.83 1353.52,1282.83 1358.52,1282.83 1363.51,1282.83 1368.51,1282.83 1373.51,1282.83 1378.5,1282.83 1383.5,1282.83 1388.5,1282.83 1393.49,1282.83 1398.49,1282.83 1403.48,1282.83 1408.48,1282.83 1413.48,1282.83 1418.47,1282.83 1423.47,1282.83 1428.46,1282.83 1433.46,1282.83 1438.46,1282.83 1443.45,1282.83 1448.45,1282.83 1453.45,1282.83 1458.44,1282.83 1463.44,1282.83 1468.43,1282.83 1473.43,1282.83 1478.43,1282.83 1483.42,1282.83 1488.42,1282.83 1493.41,1282.83 1498.41,1282.83 1503.41,1282.83 1508.4,1282.83 1513.4,1282.83 1518.4,1282.83 1523.39,1282.83 1528.39,1282.83 1533.38,1282.83 1538.38,1282.83 1543.38,1282.83 1548.37,1282.83 1553.37,1282.83 1558.36,1282.83 1563.36,1282.83 1568.36,1282.83 1573.35,1282.83 1578.35,1282.83 1583.35,1282.83 1588.34,1282.83 1593.34,1282.83 1598.33,1282.83 1603.33,1282.83 1608.33,1282.83 1613.32,1282.83 1618.32,1282.83 1623.32,1282.83 1628.31,1282.83 1633.31,1282.83 1638.3,1282.83 1643.3,1282.83 1648.3,1282.83 1653.29,1282.83 1658.29,1282.83 1663.28,1282.83 1668.28,1282.83 1673.28,1282.83 1678.27,1282.83 1683.27,1282.83 1688.27,1282.83 1693.26,1282.83 1698.26,1282.83 1703.25,1282.83 1708.25,1282.83 1713.25,1282.83 1718.24,1282.83 1723.24,1282.83 1728.23,1282.83 1733.23,1282.83 1738.23,1282.83 1743.22,1282.83 1748.22,1282.83 1753.22,1282.83 1758.21,1282.83 1763.21,1282.83 1768.2,1282.83 1773.2,1282.83 1778.2,1282.83 1783.19,1282.83 1788.19,1282.83 1793.18,1282.83 1798.18,1282.83 1803.18,1282.83 1808.17,1282.83 1813.17,1282.83 1818.17,1282.83 1823.16,1282.83 1828.16,1282.83 1833.15,1282.83 1838.15,1282.83 1843.15,1282.83 1848.14,1282.83 1853.14,1282.83 1858.14,1282.83 1863.13,1282.83 1868.13,1282.83 1873.12,1282.83 1878.12,1282.83 1883.12,1282.83 1888.11,1282.83 1893.11,1282.83 1898.1,1282.83 1903.1,1282.83 1908.1,1282.83 1913.09,1282.83 1918.09,1282.83 1923.09,1282.83 1928.08,1282.83 1933.08,1282.83 1938.07,1282.83 1943.07,1282.83 1948.07,1282.83 1953.06,1282.83 1958.06,1282.83 1963.05,1282.83 1968.05,1282.83 1973.05,1282.83 1978.04,1282.83 1983.04,1282.83 1988.04,1282.83 1993.03,1282.83 1998.03,1282.83 2003.02,1282.83 2008.02,1282.83 2013.02,1282.83 2018.01,1282.83 2023.01,1282.83 2028,1282.83 2033,1282.83 2038,1282.83 2042.99,1282.83 2047.99,1282.83 2052.99,1282.83 2057.98,1282.83 2062.98,1282.83 2067.97,1282.83 2072.97,1282.83 2077.97,1282.83 2082.96,1282.83 2087.96,1282.83 2092.96,1282.83 2097.95,1282.83 2102.95,1282.83 2107.94,1282.83 2112.94,1282.83 2117.94,1282.83 2122.93,1282.83 2127.93,1282.83 2132.92,1282.83 2137.92,1282.83 2142.92,1282.83 2147.91,1282.83 2152.91,1282.83 2157.91,1282.83 2162.9,1282.83 2167.9,1282.83 2172.89,1282.83 2177.89,1282.83 2182.89,1282.83 2187.88,1282.83 2192.88,1282.83 2197.87,1282.83 2202.87,1282.83 2207.87,1282.83 2212.86,1282.83 2217.86,1282.83 2222.86,1282.83 2227.85,1282.83 2232.85,1282.83 2237.84,1282.83 2242.84,1282.83 2247.84,1282.83 2252.83,1282.83 2257.83,1282.83 2262.82,1282.83 2267.82,1282.83 2272.82,1282.83 2277.81,1282.83 2282.81,1282.83 2287.81,1282.83 2292.8,1282.83 \"/>\n",
       "<path clip-path=\"url(#clip780)\" d=\"M1911.05 300.469 L2282.14 300.469 L2282.14 93.1086 L1911.05 93.1086  Z\" fill=\"#ffffff\" fill-rule=\"evenodd\" fill-opacity=\"1\"/>\n",
       "<polyline clip-path=\"url(#clip780)\" style=\"stroke:#000000; stroke-linecap:round; stroke-linejoin:round; stroke-width:4; stroke-opacity:1; fill:none\" points=\"1911.05,300.469 2282.14,300.469 2282.14,93.1086 1911.05,93.1086 1911.05,300.469 \"/>\n",
       "<polyline clip-path=\"url(#clip780)\" style=\"stroke:#009af9; stroke-linecap:round; stroke-linejoin:round; stroke-width:4; stroke-opacity:1; fill:none\" points=\"1934.58,144.949 2075.81,144.949 \"/>\n",
       "<path clip-path=\"url(#clip780)\" d=\"M2103.63 158.34 L2103.63 172.09 L2099.35 172.09 L2099.35 136.303 L2103.63 136.303 L2103.63 140.238 Q2104.97 137.923 2107.01 136.812 Q2109.07 135.678 2111.92 135.678 Q2116.64 135.678 2119.58 139.428 Q2122.54 143.178 2122.54 149.289 Q2122.54 155.4 2119.58 159.15 Q2116.64 162.9 2111.92 162.9 Q2109.07 162.9 2107.01 161.789 Q2104.97 160.655 2103.63 158.34 M2118.12 149.289 Q2118.12 144.59 2116.18 141.928 Q2114.25 139.243 2110.88 139.243 Q2107.5 139.243 2105.55 141.928 Q2103.63 144.59 2103.63 149.289 Q2103.63 153.988 2105.55 156.673 Q2107.5 159.335 2110.88 159.335 Q2114.25 159.335 2116.18 156.673 Q2118.12 153.988 2118.12 149.289 Z\" fill=\"#000000\" fill-rule=\"nonzero\" fill-opacity=\"1\" /><path clip-path=\"url(#clip780)\" d=\"M2141.38 149.196 Q2136.22 149.196 2134.23 150.377 Q2132.24 151.557 2132.24 154.405 Q2132.24 156.673 2133.72 158.016 Q2135.23 159.335 2137.8 159.335 Q2141.34 159.335 2143.47 156.835 Q2145.62 154.312 2145.62 150.145 L2145.62 149.196 L2141.38 149.196 M2149.88 147.437 L2149.88 162.229 L2145.62 162.229 L2145.62 158.293 Q2144.16 160.655 2141.99 161.789 Q2139.81 162.9 2136.66 162.9 Q2132.68 162.9 2130.32 160.678 Q2127.98 158.432 2127.98 154.682 Q2127.98 150.307 2130.9 148.085 Q2133.84 145.863 2139.65 145.863 L2145.62 145.863 L2145.62 145.446 Q2145.62 142.507 2143.68 140.909 Q2141.75 139.289 2138.26 139.289 Q2136.04 139.289 2133.93 139.821 Q2131.82 140.354 2129.88 141.419 L2129.88 137.483 Q2132.22 136.581 2134.42 136.141 Q2136.62 135.678 2138.7 135.678 Q2144.32 135.678 2147.1 138.594 Q2149.88 141.511 2149.88 147.437 Z\" fill=\"#000000\" fill-rule=\"nonzero\" fill-opacity=\"1\" /><path clip-path=\"url(#clip780)\" d=\"M2162.77 158.34 L2162.77 172.09 L2158.49 172.09 L2158.49 136.303 L2162.77 136.303 L2162.77 140.238 Q2164.12 137.923 2166.15 136.812 Q2168.21 135.678 2171.06 135.678 Q2175.78 135.678 2178.72 139.428 Q2181.68 143.178 2181.68 149.289 Q2181.68 155.4 2178.72 159.15 Q2175.78 162.9 2171.06 162.9 Q2168.21 162.9 2166.15 161.789 Q2164.12 160.655 2162.77 158.34 M2177.26 149.289 Q2177.26 144.59 2175.32 141.928 Q2173.4 139.243 2170.02 139.243 Q2166.64 139.243 2164.69 141.928 Q2162.77 144.59 2162.77 149.289 Q2162.77 153.988 2164.69 156.673 Q2166.64 159.335 2170.02 159.335 Q2173.4 159.335 2175.32 156.673 Q2177.26 153.988 2177.26 149.289 Z\" fill=\"#000000\" fill-rule=\"nonzero\" fill-opacity=\"1\" /><path clip-path=\"url(#clip780)\" d=\"M2210.92 148.201 L2210.92 150.284 L2191.34 150.284 Q2191.62 154.682 2193.98 156.997 Q2196.36 159.289 2200.6 159.289 Q2203.05 159.289 2205.34 158.687 Q2207.66 158.085 2209.93 156.881 L2209.93 160.909 Q2207.63 161.881 2205.23 162.391 Q2202.82 162.9 2200.34 162.9 Q2194.14 162.9 2190.5 159.289 Q2186.89 155.678 2186.89 149.52 Q2186.89 143.155 2190.32 139.428 Q2193.77 135.678 2199.6 135.678 Q2204.83 135.678 2207.87 139.057 Q2210.92 142.414 2210.92 148.201 M2206.66 146.951 Q2206.62 143.456 2204.69 141.372 Q2202.8 139.289 2199.65 139.289 Q2196.08 139.289 2193.93 141.303 Q2191.8 143.317 2191.48 146.974 L2206.66 146.951 Z\" fill=\"#000000\" fill-rule=\"nonzero\" fill-opacity=\"1\" /><path clip-path=\"url(#clip780)\" d=\"M2232.93 140.284 Q2232.22 139.868 2231.36 139.682 Q2230.53 139.474 2229.51 139.474 Q2225.9 139.474 2223.95 141.835 Q2222.03 144.173 2222.03 148.571 L2222.03 162.229 L2217.75 162.229 L2217.75 136.303 L2222.03 136.303 L2222.03 140.331 Q2223.37 137.969 2225.53 136.835 Q2227.68 135.678 2230.76 135.678 Q2231.2 135.678 2231.73 135.747 Q2232.26 135.794 2232.91 135.909 L2232.93 140.284 Z\" fill=\"#000000\" fill-rule=\"nonzero\" fill-opacity=\"1\" /><polyline clip-path=\"url(#clip780)\" style=\"stroke:#e26f46; stroke-linecap:round; stroke-linejoin:round; stroke-width:4; stroke-opacity:1; fill:none\" points=\"1934.58,196.789 2075.81,196.789 \"/>\n",
       "<path clip-path=\"url(#clip780)\" d=\"M2114.53 192.124 Q2113.81 191.708 2112.96 191.522 Q2112.13 191.314 2111.11 191.314 Q2107.5 191.314 2105.55 193.675 Q2103.63 196.013 2103.63 200.411 L2103.63 214.069 L2099.35 214.069 L2099.35 188.143 L2103.63 188.143 L2103.63 192.171 Q2104.97 189.809 2107.13 188.675 Q2109.28 187.518 2112.36 187.518 Q2112.8 187.518 2113.33 187.587 Q2113.86 187.634 2114.51 187.749 L2114.53 192.124 Z\" fill=\"#000000\" fill-rule=\"nonzero\" fill-opacity=\"1\" /><path clip-path=\"url(#clip780)\" d=\"M2128 191.129 Q2124.58 191.129 2122.59 193.814 Q2120.6 196.476 2120.6 201.129 Q2120.6 205.782 2122.56 208.467 Q2124.56 211.129 2128 211.129 Q2131.41 211.129 2133.4 208.444 Q2135.39 205.758 2135.39 201.129 Q2135.39 196.522 2133.4 193.837 Q2131.41 191.129 2128 191.129 M2128 187.518 Q2133.56 187.518 2136.73 191.129 Q2139.9 194.74 2139.9 201.129 Q2139.9 207.495 2136.73 211.129 Q2133.56 214.74 2128 214.74 Q2122.43 214.74 2119.25 211.129 Q2116.11 207.495 2116.11 201.129 Q2116.11 194.74 2119.25 191.129 Q2122.43 187.518 2128 187.518 Z\" fill=\"#000000\" fill-rule=\"nonzero\" fill-opacity=\"1\" /><path clip-path=\"url(#clip780)\" d=\"M2165.62 189.138 L2165.62 193.12 Q2163.81 192.124 2161.99 191.638 Q2160.18 191.129 2158.33 191.129 Q2154.19 191.129 2151.89 193.768 Q2149.6 196.384 2149.6 201.129 Q2149.6 205.874 2151.89 208.513 Q2154.19 211.129 2158.33 211.129 Q2160.18 211.129 2161.99 210.643 Q2163.81 210.133 2165.62 209.138 L2165.62 213.073 Q2163.84 213.907 2161.92 214.323 Q2160.02 214.74 2157.87 214.74 Q2152.01 214.74 2148.56 211.059 Q2145.11 207.379 2145.11 201.129 Q2145.11 194.786 2148.58 191.152 Q2152.08 187.518 2158.14 187.518 Q2160.11 187.518 2161.99 187.935 Q2163.86 188.328 2165.62 189.138 Z\" fill=\"#000000\" fill-rule=\"nonzero\" fill-opacity=\"1\" /><path clip-path=\"url(#clip780)\" d=\"M2172.87 178.05 L2177.15 178.05 L2177.15 199.323 L2189.86 188.143 L2195.3 188.143 L2181.55 200.272 L2195.87 214.069 L2190.32 214.069 L2177.15 201.407 L2177.15 214.069 L2172.87 214.069 L2172.87 178.05 Z\" fill=\"#000000\" fill-rule=\"nonzero\" fill-opacity=\"1\" /><polyline clip-path=\"url(#clip780)\" style=\"stroke:#3da44d; stroke-linecap:round; stroke-linejoin:round; stroke-width:4; stroke-opacity:1; fill:none\" points=\"1934.58,248.629 2075.81,248.629 \"/>\n",
       "<path clip-path=\"url(#clip780)\" d=\"M2117.77 240.747 L2117.77 244.774 Q2115.97 243.849 2114.02 243.386 Q2112.08 242.923 2110 242.923 Q2106.82 242.923 2105.23 243.895 Q2103.65 244.867 2103.65 246.811 Q2103.65 248.293 2104.79 249.149 Q2105.92 249.983 2109.35 250.747 L2110.81 251.071 Q2115.34 252.043 2117.24 253.825 Q2119.16 255.585 2119.16 258.756 Q2119.16 262.367 2116.29 264.473 Q2113.44 266.58 2108.44 266.58 Q2106.36 266.58 2104.09 266.163 Q2101.85 265.77 2099.35 264.96 L2099.35 260.561 Q2101.71 261.788 2104 262.413 Q2106.29 263.015 2108.54 263.015 Q2111.55 263.015 2113.17 261.997 Q2114.79 260.955 2114.79 259.08 Q2114.79 257.344 2113.61 256.418 Q2112.45 255.492 2108.49 254.636 L2107.01 254.288 Q2103.05 253.455 2101.29 251.742 Q2099.53 250.006 2099.53 246.997 Q2099.53 243.339 2102.13 241.349 Q2104.72 239.358 2109.49 239.358 Q2111.85 239.358 2113.93 239.705 Q2116.01 240.052 2117.77 240.747 Z\" fill=\"#000000\" fill-rule=\"nonzero\" fill-opacity=\"1\" /><path clip-path=\"url(#clip780)\" d=\"M2144.6 240.978 L2144.6 244.96 Q2142.8 243.964 2140.97 243.478 Q2139.16 242.969 2137.31 242.969 Q2133.17 242.969 2130.88 245.608 Q2128.58 248.224 2128.58 252.969 Q2128.58 257.714 2130.88 260.353 Q2133.17 262.969 2137.31 262.969 Q2139.16 262.969 2140.97 262.483 Q2142.8 261.973 2144.6 260.978 L2144.6 264.913 Q2142.82 265.747 2140.9 266.163 Q2139 266.58 2136.85 266.58 Q2130.99 266.58 2127.54 262.899 Q2124.09 259.219 2124.09 252.969 Q2124.09 246.626 2127.56 242.992 Q2131.06 239.358 2137.13 239.358 Q2139.09 239.358 2140.97 239.775 Q2142.84 240.168 2144.6 240.978 Z\" fill=\"#000000\" fill-rule=\"nonzero\" fill-opacity=\"1\" /><path clip-path=\"url(#clip780)\" d=\"M2152.01 239.983 L2156.27 239.983 L2156.27 265.909 L2152.01 265.909 L2152.01 239.983 M2152.01 229.89 L2156.27 229.89 L2156.27 235.284 L2152.01 235.284 L2152.01 229.89 Z\" fill=\"#000000\" fill-rule=\"nonzero\" fill-opacity=\"1\" /><path clip-path=\"url(#clip780)\" d=\"M2181.71 240.747 L2181.71 244.774 Q2179.9 243.849 2177.96 243.386 Q2176.01 242.923 2173.93 242.923 Q2170.76 242.923 2169.16 243.895 Q2167.59 244.867 2167.59 246.811 Q2167.59 248.293 2168.72 249.149 Q2169.86 249.983 2173.28 250.747 L2174.74 251.071 Q2179.28 252.043 2181.18 253.825 Q2183.1 255.585 2183.1 258.756 Q2183.1 262.367 2180.23 264.473 Q2177.38 266.58 2172.38 266.58 Q2170.3 266.58 2168.03 266.163 Q2165.78 265.77 2163.28 264.96 L2163.28 260.561 Q2165.64 261.788 2167.94 262.413 Q2170.23 263.015 2172.47 263.015 Q2175.48 263.015 2177.1 261.997 Q2178.72 260.955 2178.72 259.08 Q2178.72 257.344 2177.54 256.418 Q2176.38 255.492 2172.43 254.636 L2170.94 254.288 Q2166.99 253.455 2165.23 251.742 Q2163.47 250.006 2163.47 246.997 Q2163.47 243.339 2166.06 241.349 Q2168.65 239.358 2173.42 239.358 Q2175.78 239.358 2177.87 239.705 Q2179.95 240.052 2181.71 240.747 Z\" fill=\"#000000\" fill-rule=\"nonzero\" fill-opacity=\"1\" /><path clip-path=\"url(#clip780)\" d=\"M2206.41 240.747 L2206.41 244.774 Q2204.6 243.849 2202.66 243.386 Q2200.71 242.923 2198.63 242.923 Q2195.46 242.923 2193.86 243.895 Q2192.29 244.867 2192.29 246.811 Q2192.29 248.293 2193.42 249.149 Q2194.56 249.983 2197.98 250.747 L2199.44 251.071 Q2203.98 252.043 2205.87 253.825 Q2207.8 255.585 2207.8 258.756 Q2207.8 262.367 2204.93 264.473 Q2202.08 266.58 2197.08 266.58 Q2195 266.58 2192.73 266.163 Q2190.48 265.77 2187.98 264.96 L2187.98 260.561 Q2190.34 261.788 2192.63 262.413 Q2194.93 263.015 2197.17 263.015 Q2200.18 263.015 2201.8 261.997 Q2203.42 260.955 2203.42 259.08 Q2203.42 257.344 2202.24 256.418 Q2201.08 255.492 2197.12 254.636 L2195.64 254.288 Q2191.68 253.455 2189.93 251.742 Q2188.17 250.006 2188.17 246.997 Q2188.17 243.339 2190.76 241.349 Q2193.35 239.358 2198.12 239.358 Q2200.48 239.358 2202.56 239.705 Q2204.65 240.052 2206.41 240.747 Z\" fill=\"#000000\" fill-rule=\"nonzero\" fill-opacity=\"1\" /><path clip-path=\"url(#clip780)\" d=\"M2224.62 242.969 Q2221.2 242.969 2219.21 245.654 Q2217.22 248.316 2217.22 252.969 Q2217.22 257.622 2219.18 260.307 Q2221.18 262.969 2224.62 262.969 Q2228.03 262.969 2230.02 260.284 Q2232.01 257.598 2232.01 252.969 Q2232.01 248.362 2230.02 245.677 Q2228.03 242.969 2224.62 242.969 M2224.62 239.358 Q2230.18 239.358 2233.35 242.969 Q2236.52 246.58 2236.52 252.969 Q2236.52 259.335 2233.35 262.969 Q2230.18 266.58 2224.62 266.58 Q2219.05 266.58 2215.87 262.969 Q2212.73 259.335 2212.73 252.969 Q2212.73 246.58 2215.87 242.969 Q2219.05 239.358 2224.62 239.358 Z\" fill=\"#000000\" fill-rule=\"nonzero\" fill-opacity=\"1\" /><path clip-path=\"url(#clip780)\" d=\"M2258.61 243.964 Q2257.89 243.548 2257.03 243.362 Q2256.2 243.154 2255.18 243.154 Q2251.57 243.154 2249.62 245.515 Q2247.7 247.853 2247.7 252.251 L2247.7 265.909 L2243.42 265.909 L2243.42 239.983 L2247.7 239.983 L2247.7 244.011 Q2249.05 241.649 2251.2 240.515 Q2253.35 239.358 2256.43 239.358 Q2256.87 239.358 2257.4 239.427 Q2257.93 239.474 2258.58 239.589 L2258.61 243.964 Z\" fill=\"#000000\" fill-rule=\"nonzero\" fill-opacity=\"1\" /></svg>\n"
      ],
      "text/html": [
       "<img src=\"data:image/png;base64,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\" />"
      ]
     },
     "metadata": {},
     "output_type": "display_data"
    },
    {
     "data": {
      "text/html": [
       "<div><div style = \"float: left;\"><span>401×3 DataFrame</span></div><div style = \"float: right;\"><span style = \"font-style: italic;\">376 rows omitted</span></div><div style = \"clear: both;\"></div></div><div class = \"data-frame\" style = \"overflow-x: scroll;\"><table class = \"data-frame\" style = \"margin-bottom: 6px;\"><thead><tr class = \"header\"><th class = \"rowNumber\" style = \"font-weight: bold; text-align: right;\">Row</th><th style = \"text-align: left;\">paper</th><th style = \"text-align: left;\">rock</th><th style = \"text-align: left;\">scissor</th></tr><tr class = \"subheader headerLastRow\"><th class = \"rowNumber\" style = \"font-weight: bold; text-align: right;\"></th><th title = \"Int64\" style = \"text-align: left;\">Int64</th><th title = \"Int64\" style = \"text-align: left;\">Int64</th><th title = \"Int64\" style = \"text-align: left;\">Int64</th></tr></thead><tbody><tr><td class = \"rowNumber\" style = \"font-weight: bold; text-align: right;\">1</td><td style = \"text-align: right;\">835</td><td style = \"text-align: right;\">849</td><td style = \"text-align: right;\">816</td></tr><tr><td class = \"rowNumber\" style = \"font-weight: bold; text-align: right;\">2</td><td style = \"text-align: right;\">847</td><td style = \"text-align: right;\">844</td><td style = \"text-align: right;\">809</td></tr><tr><td class = \"rowNumber\" style = \"font-weight: bold; text-align: right;\">3</td><td style = \"text-align: right;\">854</td><td style = \"text-align: right;\">840</td><td style = \"text-align: right;\">806</td></tr><tr><td class = \"rowNumber\" style = \"font-weight: bold; text-align: right;\">4</td><td style = \"text-align: right;\">852</td><td style = \"text-align: right;\">841</td><td style = \"text-align: right;\">807</td></tr><tr><td class = \"rowNumber\" style = \"font-weight: bold; text-align: right;\">5</td><td style = \"text-align: right;\">850</td><td style = \"text-align: right;\">840</td><td style = \"text-align: right;\">810</td></tr><tr><td class = \"rowNumber\" style = \"font-weight: bold; text-align: right;\">6</td><td style = \"text-align: right;\">854</td><td style = \"text-align: right;\">840</td><td style = \"text-align: right;\">806</td></tr><tr><td class = \"rowNumber\" style = \"font-weight: bold; text-align: right;\">7</td><td style = \"text-align: right;\">856</td><td style = \"text-align: right;\">839</td><td style = \"text-align: right;\">805</td></tr><tr><td class = \"rowNumber\" style = \"font-weight: bold; text-align: right;\">8</td><td style = \"text-align: right;\">858</td><td style = \"text-align: right;\">833</td><td style = \"text-align: right;\">809</td></tr><tr><td class = \"rowNumber\" style = \"font-weight: bold; text-align: right;\">9</td><td style = \"text-align: right;\">857</td><td style = \"text-align: right;\">832</td><td style = \"text-align: right;\">811</td></tr><tr><td class = \"rowNumber\" style = \"font-weight: bold; text-align: right;\">10</td><td style = \"text-align: right;\">852</td><td style = \"text-align: right;\">844</td><td style = \"text-align: right;\">804</td></tr><tr><td class = \"rowNumber\" style = \"font-weight: bold; text-align: right;\">11</td><td style = \"text-align: right;\">846</td><td style = \"text-align: right;\">847</td><td style = \"text-align: right;\">807</td></tr><tr><td class = \"rowNumber\" style = \"font-weight: bold; text-align: right;\">12</td><td style = \"text-align: right;\">843</td><td style = \"text-align: right;\">845</td><td style = \"text-align: right;\">812</td></tr><tr><td class = \"rowNumber\" style = \"font-weight: bold; text-align: right;\">13</td><td style = \"text-align: right;\">844</td><td style = \"text-align: right;\">841</td><td style = \"text-align: right;\">815</td></tr><tr><td style = \"text-align: right;\">&vellip;</td><td style = \"text-align: right;\">&vellip;</td><td style = \"text-align: right;\">&vellip;</td><td style = \"text-align: right;\">&vellip;</td></tr><tr><td class = \"rowNumber\" style = \"font-weight: bold; text-align: right;\">390</td><td style = \"text-align: right;\">868</td><td style = \"text-align: right;\">823</td><td style = \"text-align: right;\">809</td></tr><tr><td class = \"rowNumber\" style = \"font-weight: bold; text-align: right;\">391</td><td style = \"text-align: right;\">868</td><td style = \"text-align: right;\">823</td><td style = \"text-align: right;\">809</td></tr><tr><td class = \"rowNumber\" style = \"font-weight: bold; text-align: right;\">392</td><td style = \"text-align: right;\">868</td><td style = \"text-align: right;\">823</td><td style = \"text-align: right;\">809</td></tr><tr><td class = \"rowNumber\" style = \"font-weight: bold; text-align: right;\">393</td><td style = \"text-align: right;\">868</td><td style = \"text-align: right;\">823</td><td style = \"text-align: right;\">809</td></tr><tr><td class = \"rowNumber\" style = \"font-weight: bold; text-align: right;\">394</td><td style = \"text-align: right;\">868</td><td style = \"text-align: right;\">823</td><td style = \"text-align: right;\">809</td></tr><tr><td class = \"rowNumber\" style = \"font-weight: bold; text-align: right;\">395</td><td style = \"text-align: right;\">868</td><td style = \"text-align: right;\">823</td><td style = \"text-align: right;\">809</td></tr><tr><td class = \"rowNumber\" style = \"font-weight: bold; text-align: right;\">396</td><td style = \"text-align: right;\">868</td><td style = \"text-align: right;\">823</td><td style = \"text-align: right;\">809</td></tr><tr><td class = \"rowNumber\" style = \"font-weight: bold; text-align: right;\">397</td><td style = \"text-align: right;\">868</td><td style = \"text-align: right;\">823</td><td style = \"text-align: right;\">809</td></tr><tr><td class = \"rowNumber\" style = \"font-weight: bold; text-align: right;\">398</td><td style = \"text-align: right;\">868</td><td style = \"text-align: right;\">823</td><td style = \"text-align: right;\">809</td></tr><tr><td class = \"rowNumber\" style = \"font-weight: bold; text-align: right;\">399</td><td style = \"text-align: right;\">868</td><td style = \"text-align: right;\">823</td><td style = \"text-align: right;\">809</td></tr><tr><td class = \"rowNumber\" style = \"font-weight: bold; text-align: right;\">400</td><td style = \"text-align: right;\">868</td><td style = \"text-align: right;\">823</td><td style = \"text-align: right;\">809</td></tr><tr><td class = \"rowNumber\" style = \"font-weight: bold; text-align: right;\">401</td><td style = \"text-align: right;\">868</td><td style = \"text-align: right;\">823</td><td style = \"text-align: right;\">809</td></tr></tbody></table></div>"
      ],
      "text/latex": [
       "\\begin{tabular}{r|ccc}\n",
       "\t& paper & rock & scissor\\\\\n",
       "\t\\hline\n",
       "\t& Int64 & Int64 & Int64\\\\\n",
       "\t\\hline\n",
       "\t1 & 835 & 849 & 816 \\\\\n",
       "\t2 & 847 & 844 & 809 \\\\\n",
       "\t3 & 854 & 840 & 806 \\\\\n",
       "\t4 & 852 & 841 & 807 \\\\\n",
       "\t5 & 850 & 840 & 810 \\\\\n",
       "\t6 & 854 & 840 & 806 \\\\\n",
       "\t7 & 856 & 839 & 805 \\\\\n",
       "\t8 & 858 & 833 & 809 \\\\\n",
       "\t9 & 857 & 832 & 811 \\\\\n",
       "\t10 & 852 & 844 & 804 \\\\\n",
       "\t11 & 846 & 847 & 807 \\\\\n",
       "\t12 & 843 & 845 & 812 \\\\\n",
       "\t13 & 844 & 841 & 815 \\\\\n",
       "\t14 & 845 & 840 & 815 \\\\\n",
       "\t15 & 844 & 841 & 815 \\\\\n",
       "\t16 & 842 & 842 & 816 \\\\\n",
       "\t17 & 842 & 842 & 816 \\\\\n",
       "\t18 & 838 & 846 & 816 \\\\\n",
       "\t19 & 841 & 845 & 814 \\\\\n",
       "\t20 & 840 & 844 & 816 \\\\\n",
       "\t21 & 842 & 843 & 815 \\\\\n",
       "\t22 & 842 & 842 & 816 \\\\\n",
       "\t23 & 847 & 836 & 817 \\\\\n",
       "\t24 & 849 & 836 & 815 \\\\\n",
       "\t25 & 850 & 835 & 815 \\\\\n",
       "\t26 & 853 & 834 & 813 \\\\\n",
       "\t27 & 854 & 834 & 812 \\\\\n",
       "\t28 & 856 & 833 & 811 \\\\\n",
       "\t29 & 856 & 834 & 810 \\\\\n",
       "\t30 & 856 & 836 & 808 \\\\\n",
       "\t$\\dots$ & $\\dots$ & $\\dots$ & $\\dots$ \\\\\n",
       "\\end{tabular}\n"
      ],
      "text/plain": [
       "\u001b[1m401×3 DataFrame\u001b[0m\n",
       "\u001b[1m Row \u001b[0m│\u001b[1m paper \u001b[0m\u001b[1m rock  \u001b[0m\u001b[1m scissor \u001b[0m\n",
       "     │\u001b[90m Int64 \u001b[0m\u001b[90m Int64 \u001b[0m\u001b[90m Int64   \u001b[0m\n",
       "─────┼───────────────────────\n",
       "   1 │   835    849      816\n",
       "   2 │   847    844      809\n",
       "   3 │   854    840      806\n",
       "   4 │   852    841      807\n",
       "   5 │   850    840      810\n",
       "   6 │   854    840      806\n",
       "   7 │   856    839      805\n",
       "   8 │   858    833      809\n",
       "   9 │   857    832      811\n",
       "  10 │   852    844      804\n",
       "  11 │   846    847      807\n",
       "  ⋮  │   ⋮      ⋮       ⋮\n",
       " 392 │   868    823      809\n",
       " 393 │   868    823      809\n",
       " 394 │   868    823      809\n",
       " 395 │   868    823      809\n",
       " 396 │   868    823      809\n",
       " 397 │   868    823      809\n",
       " 398 │   868    823      809\n",
       " 399 │   868    823      809\n",
       " 400 │   868    823      809\n",
       " 401 │   868    823      809\n",
       "\u001b[36m             380 rows omitted\u001b[0m"
      ]
     },
     "execution_count": 10,
     "metadata": {},
     "output_type": "execute_result"
    }
   ],
   "source": [
    "df = get_nums_patches(model, \n",
    "    patch-> patch.color ==cl\"red\", \n",
    "    patch-> patch.color ==cl\"green\", \n",
    "    patch-> patch.color ==cl\"blue\", labels=[\"rock\",\"paper\",\"scissor\"], plot_result=true)"
   ]
  },
  {
   "cell_type": "code",
   "execution_count": null,
   "metadata": {},
   "outputs": [],
   "source": []
  }
 ],
 "metadata": {
  "@webio": {
   "lastCommId": "53825afc923a4deaa9092b1c405ed5f6",
   "lastKernelId": "61314e4e-c228-45f8-a896-b92403759935"
  },
  "kernelspec": {
   "display_name": "Julia 1.9.2",
   "language": "julia",
   "name": "julia-1.9"
  },
  "language_info": {
   "file_extension": ".jl",
   "mimetype": "application/julia",
   "name": "julia",
   "version": "1.9.2"
  }
 },
 "nbformat": 4,
 "nbformat_minor": 4
}
