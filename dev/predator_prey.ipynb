{
 "cells": [
  {
   "cell_type": "markdown",
   "metadata": {},
   "source": [
    "# Predator-prey model"
   ]
  },
  {
   "cell_type": "code",
   "execution_count": null,
   "metadata": {
    "scrolled": true
   },
   "outputs": [],
   "source": [
    "using Pkg, Revise\n",
    "Pkg.activate(joinpath(@__DIR__, \"..\"))\n",
    "using EasyABM"
   ]
  },
  {
   "cell_type": "markdown",
   "metadata": {},
   "source": [
    "## Step 1: Create Agents and Model\n",
    "\n",
    "We create 200 agents all of type `sheep` to begin with. Our model parameters are \n",
    "\n",
    "* `max_energy` : The maximum energy that an agent (sheep or wolf) can have. \n",
    "* `wolf_birth_rate` : Probabality of a wolf agent to reproduce once its energy is greater than max_energy/2.  \n",
    "* `sheep_birth_rate` : Probabality of a wolf agent to reproduce once its energy is greater than max_energy/2. \n",
    "* `wolves_kill_ability` : The probability of a wolf to kill a neighboring sheep.\n",
    "* `grass_grow_prob` : The probability of one unit of grass growing on a patch at a given timestep.\n",
    "* `max_grass` : Max grass a patch can have.\n",
    "* `initial_wolf_percent` : The percent of agents which are wolf initially. "
   ]
  },
  {
   "cell_type": "code",
   "execution_count": null,
   "metadata": {},
   "outputs": [],
   "source": [
    "@enum agenttype sheep wolf"
   ]
  },
  {
   "cell_type": "code",
   "execution_count": null,
   "metadata": {},
   "outputs": [],
   "source": [
    "agents = grid_2d_agents(200, pos = Vect(1,1), color = :white, atype = sheep, \n",
    "    energy = 10.0, keeps_record_of=[:pos, :energy ])\n",
    "model = create_2d_model(agents, size = (20,20), \n",
    "    agents_type = Mortal, #agents can be born and die\n",
    "    space_type = NPeriodic, #nonperiodic\n",
    "    max_energy = 50, \n",
    "    wolf_birth_rate = 0.01,\n",
    "    sheep_birth_rate = 0.1,\n",
    "    wolves_kill_ability = 0.2,\n",
    "    max_grass = 5,\n",
    "    initial_wolf_percent = 0.2,\n",
    "    grass_grow_prob = 0.2)"
   ]
  },
  {
   "cell_type": "markdown",
   "metadata": {},
   "source": [
    "## Step 2: Initialise the model\n",
    "\n",
    "In the second step we initialise the agents by defining `initialiser!` function and sending it as an argument to `init_model!`. In the `initialiser!` function we randomly set amount of grass and accordingly color of each patch. We also set a fraction `initial_wolf_percent` of agents to be of type wolf. We set color of sheeps to white and that of wolves to black. We also randomly set the energy and positions of agents. In the `init_model!` function through argument `props_to_record` we tell EasyABM to record the color property of patches during model run. "
   ]
  },
  {
   "cell_type": "code",
   "execution_count": null,
   "metadata": {},
   "outputs": [],
   "source": [
    "function initialiser!(model)\n",
    "    max_grass = model.parameters.max_grass\n",
    "    for j in 1:model.size[2]\n",
    "        for i in 1:model.size[1]\n",
    "            grass = rand(1:max_grass)\n",
    "            model.patches[i,j].grass = grass\n",
    "            hf = Int(ceil(max_grass/2))\n",
    "            model.patches[i,j].color = grass > hf ? :green : (grass > 0 ? :blue : :grey)\n",
    "        end\n",
    "    end\n",
    "    for agent in model.agents\n",
    "        if rand()< model.parameters.initial_wolf_percent \n",
    "            agent.atype = wolf\n",
    "            agent.color = :black\n",
    "        else\n",
    "            agent.atype = sheep\n",
    "            agent.color = :white\n",
    "        end\n",
    "        agent.energy = rand(1:model.parameters.max_energy)+0.0\n",
    "        agent.pos = Vect(rand(1:model.size[1]), rand(1:model.size[2]))\n",
    "    end\n",
    "            \n",
    "end"
   ]
  },
  {
   "cell_type": "code",
   "execution_count": null,
   "metadata": {},
   "outputs": [],
   "source": [
    "init_model!(model, initialiser = initialiser!, props_to_record = Dict(\"patches\"=>[:color,:grass ]))"
   ]
  },
  {
   "cell_type": "markdown",
   "metadata": {},
   "source": [
    "## Step 3: Run the model\n",
    "\n",
    "In this step we implement the step logic of the predator prey model in the `step_rule!` function and run the model for 100 steps. "
   ]
  },
  {
   "cell_type": "code",
   "execution_count": null,
   "metadata": {},
   "outputs": [],
   "source": [
    "function change_pos!(agent)\n",
    "    dx = rand(-1:1)\n",
    "    dy = rand(-1:1)\n",
    "    agent.pos += Vect(dx, dy)\n",
    "end\n",
    "\n",
    "function reproduce!(agent, model)\n",
    "    new_agent = create_similar(agent)\n",
    "    agent.energy = agent.energy/2\n",
    "    new_agent.energy = agent.energy\n",
    "    add_agent!(new_agent, model)\n",
    "end\n",
    "\n",
    "function eat_sheep!(wolf, sheep, model)\n",
    "    kill_agent!(sheep, model) \n",
    "    wolf.energy+=1\n",
    "end\n",
    "\n",
    "\n",
    "function act_asa_wolf!(agent, model)\n",
    "    if !(is_alive(agent))\n",
    "        return\n",
    "    end\n",
    "    energy = agent.energy\n",
    "    if energy > 0.5*model.parameters.max_energy\n",
    "        if rand()<model.parameters.wolf_birth_rate\n",
    "            reproduce!(agent, model)\n",
    "        end\n",
    "    elseif energy > 0 \n",
    "        nbrs = collect(grid_neighbors(agent, model, 1))\n",
    "        n = length(nbrs)\n",
    "        if n>0\n",
    "            nbr = nbrs[rand(1:n)]\n",
    "            if (nbr.atype == sheep)&&(is_alive(nbr))\n",
    "                ability = model.parameters.wolves_kill_ability\n",
    "                (rand()<ability)&&(eat_sheep!(agent, nbr, model))\n",
    "            end\n",
    "        end\n",
    "        change_pos!(agent)\n",
    "    else\n",
    "        kill_agent!(agent, model)\n",
    "    end\n",
    "end\n",
    "\n",
    "function act_asa_sheep!(agent, model)\n",
    "    if !(is_alive(agent))\n",
    "        return\n",
    "    end\n",
    "    energy = agent.energy\n",
    "    if energy >0.5* model.parameters.max_energy\n",
    "        if rand()<model.parameters.sheep_birth_rate\n",
    "            reproduce!(agent, model)\n",
    "        end\n",
    "        change_pos!(agent)\n",
    "    elseif energy > 0 \n",
    "        patch = get_grid_loc(agent)\n",
    "        grass = model.patches[patch...].grass\n",
    "        if grass>0\n",
    "            model.patches[patch...].grass-=1\n",
    "            agent.energy +=1\n",
    "        end\n",
    "        change_pos!(agent)\n",
    "    else\n",
    "        kill_agent!(agent, model)\n",
    "    end\n",
    "end\n",
    "\n",
    "\n",
    "\n",
    "function step_rule!(model)\n",
    "    if model.max_id>800 # use some upper bound on max agents to avoid system hang\n",
    "        return\n",
    "    end\n",
    "    for agent in model.agents\n",
    "        if agent.atype == wolf\n",
    "            act_asa_wolf!(agent,model)\n",
    "        end\n",
    "        if agent.atype == sheep\n",
    "            act_asa_sheep!(agent, model)\n",
    "        end\n",
    "    end\n",
    "    for j in 1:model.size[2]\n",
    "        for i in 1:model.size[1]\n",
    "            patch = model.patches[i,j]\n",
    "            grass = patch.grass\n",
    "            max_grass = model.parameters.max_grass \n",
    "            if grass < max_grass\n",
    "                if rand()<model.parameters.grass_grow_prob\n",
    "                    patch.grass+=1\n",
    "                    hf = Int(ceil(max_grass/2))\n",
    "                    patch.color = grass > hf ? :green : (grass > 0 ? :yellow : :grey)\n",
    "                end\n",
    "            end\n",
    "        end\n",
    "    end\n",
    "end"
   ]
  },
  {
   "cell_type": "code",
   "execution_count": null,
   "metadata": {
    "scrolled": true
   },
   "outputs": [],
   "source": [
    "run_model!(model, steps=100, step_rule= step_rule!)"
   ]
  },
  {
   "cell_type": "markdown",
   "metadata": {},
   "source": [
    "If one wants to see the animation of the model run, it can be done as "
   ]
  },
  {
   "cell_type": "code",
   "execution_count": null,
   "metadata": {},
   "outputs": [],
   "source": [
    "animate_sim(model, show_grid= true)"
   ]
  },
  {
   "cell_type": "markdown",
   "metadata": {},
   "source": [
    "![png](assets/PPrey/PPreyAnim1.png)"
   ]
  },
  {
   "cell_type": "markdown",
   "metadata": {},
   "source": [
    "After defining the `step_rule!` function we can also choose to create an interactive application (which currently works in Jupyter with WebIO installation) as "
   ]
  },
  {
   "cell_type": "code",
   "execution_count": null,
   "metadata": {},
   "outputs": [],
   "source": [
    "create_interactive_app(model, initialiser= initialiser!,\n",
    "    step_rule= step_rule!,\n",
    "    model_controls=[\n",
    "        (:wolf_birth_rate, :s, 0:0.01:1.0),\n",
    "        (:sheep_birth_rate, :s, 0.01:0.01:1.0),\n",
    "        (:initial_wolf_percent, :s, 0.01:0.01:0.9),\n",
    "        (:wolves_kill_ability, :s, 0.01:0.01:1.0),\n",
    "        (:grass_grow_prob, :s, 0.01:0.01:0.5)\n",
    "        ], \n",
    "    agent_plots=Dict(\"sheep\"=> agent-> agent.atype == sheep ? 1 : 0, \n",
    "        \"wolf\"=> agent-> agent.atype == wolf ? 1 : 0),\n",
    "    frames=200, show_grid=true)   "
   ]
  },
  {
   "cell_type": "markdown",
   "metadata": {},
   "source": [
    "![png](assets/PPrey/PPreyIntApp.png)"
   ]
  },
  {
   "cell_type": "markdown",
   "metadata": {},
   "source": [
    "## Step 4: Fetch Data \n",
    "\n",
    "We can fetch the number of wolves and sheeps at each time step as follows. "
   ]
  },
  {
   "cell_type": "code",
   "execution_count": null,
   "metadata": {},
   "outputs": [],
   "source": [
    "df = get_nums_agents(model, agent-> agent.atype == sheep, \n",
    "    agent->agent.atype == wolf, labels=[\"Sheep\", \"Wolf\"], \n",
    "    plot_result = true)"
   ]
  },
  {
   "cell_type": "markdown",
   "metadata": {},
   "source": [
    "![png](assets/PPrey/PPreyPlot1.png)"
   ]
  },
  {
   "cell_type": "markdown",
   "metadata": {},
   "source": [
    "Individual agent data recorded during model run can be obtained as "
   ]
  },
  {
   "cell_type": "code",
   "execution_count": null,
   "metadata": {},
   "outputs": [],
   "source": [
    "get_patches_avg_props(model, \n",
    "    patch->patch.grass, labels=[\"grass per patch\"], plot_result = true )"
   ]
  },
  {
   "cell_type": "code",
   "execution_count": null,
   "metadata": {},
   "outputs": [],
   "source": []
  }
 ],
 "metadata": {
  "@webio": {
   "lastCommId": "a5bc9d0b19944c42896ae4a033d5da2b",
   "lastKernelId": "18391964-ddc2-4f2c-b8f3-da09acb2a6c8"
  },
  "kernelspec": {
   "display_name": "Julia 1.7.2",
   "language": "julia",
   "name": "julia-1.7"
  },
  "language_info": {
   "file_extension": ".jl",
   "mimetype": "application/julia",
   "name": "julia",
   "version": "1.7.2"
  }
 },
 "nbformat": 4,
 "nbformat_minor": 4
}
