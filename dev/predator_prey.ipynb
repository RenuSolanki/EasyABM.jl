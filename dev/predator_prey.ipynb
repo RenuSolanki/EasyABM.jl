{
 "cells": [
  {
   "cell_type": "markdown",
   "metadata": {},
   "source": [
    "# Predator-prey model"
   ]
  },
  {
   "cell_type": "code",
   "execution_count": 1,
   "metadata": {},
   "outputs": [
    {
     "name": "stderr",
     "output_type": "stream",
     "text": [
      "\u001b[32m\u001b[1m  Activating\u001b[22m\u001b[39m project at `~/Documents/EasyABM`\n"
     ]
    },
    {
     "data": {
      "application/vnd.webio.node+json": {
       "children": [],
       "instanceArgs": {
        "namespace": "html",
        "tag": "div"
       },
       "nodeType": "DOM",
       "props": {},
       "type": "node"
      },
      "text/html": [
       "<div style=\"padding: 1em; background-color: #f8d6da; border: 1px solid #f5c6cb; font-weight: bold;\">\n",
       "<p>The WebIO Jupyter extension was not detected. See the\n",
       "<a href=\"https://juliagizmos.github.io/WebIO.jl/latest/providers/ijulia/\" target=\"_blank\">\n",
       "    WebIO Jupyter integration documentation\n",
       "</a>\n",
       "for more information.\n",
       "</div>\n"
      ],
      "text/plain": [
       "WebIO._IJuliaInit()"
      ]
     },
     "metadata": {
      "application/vnd.webio.node+json": {
       "kernelId": "acd893cf-fe56-4a36-8800-d90aa0809521"
      }
     },
     "output_type": "display_data"
    }
   ],
   "source": [
    "#don't need first two lines if using installed version of EasyABM\n",
    "using Pkg, Revise\n",
    "Pkg.activate(joinpath(@__DIR__, \"../..\"))\n",
    "using EasyABM"
   ]
  },
  {
   "cell_type": "markdown",
   "metadata": {},
   "source": [
    "## Step 1: Create Agents and Model\n",
    "\n",
    "We create 200 agents all of type `sheep` to begin with. Our model properties are \n",
    "\n",
    "* `max_energy` : The maximum energy that an agent (sheep or wolf) can have. \n",
    "* `wolf_birth_rate` : Probability of a wolf agent to reproduce once its energy is greater than max_energy/2.  \n",
    "* `sheep_birth_rate` : Probability of a sheep agent to reproduce once its energy is greater than max_energy/2. \n",
    "* `wolves_kill_ability` : The probability of a wolf to kill a neighboring sheep.\n",
    "* `grass_grow_prob` : The probability of one unit of grass growing on a patch at a given timestep.\n",
    "* `max_grass` : Max grass a patch can have.\n",
    "* `initial_wolf_percent` : The percent of agents which are wolf initially. "
   ]
  },
  {
   "cell_type": "code",
   "execution_count": 2,
   "metadata": {},
   "outputs": [
    {
     "data": {
      "text/plain": [
       "EasyABM SpaceModel2D{EasyABM.MortalType, Int64, EasyABM.NPeriodicType}: In a EasyABM.MortalType model agents can take birth or die.\n"
      ]
     },
     "execution_count": 2,
     "metadata": {},
     "output_type": "execute_result"
    }
   ],
   "source": [
    "@enum agenttype sheep wolf\n",
    "agents = grid_2d_agents(200, pos = Vect(1,1), color = cl\"white\", atype = sheep, \n",
    "    energy = 10.0, keeps_record_of=Set([:pos, :energy ]))\n",
    "model = create_2d_model(agents, \n",
    "    size = (20,20), #space size\n",
    "    agents_type = Mortal, # agents are mortal, can take birth or die\n",
    "    space_type = NPeriodic, # nonperiodic space\n",
    "    #below are all the model properties\n",
    "    max_energy = 50, \n",
    "    wolf_birth_rate = 0.01,\n",
    "    sheep_birth_rate = 0.1,\n",
    "    wolves_kill_ability = 0.2,\n",
    "    max_grass = 5,\n",
    "    initial_wolf_percent = 0.2,\n",
    "    grass_grow_prob = 0.2)"
   ]
  },
  {
   "cell_type": "markdown",
   "metadata": {},
   "source": [
    "## Step 2: Initialise the model\n",
    "\n",
    "In the second step we initialise the patches and agents by defining `initialiser!` function and sending it as an argument to `init_model!`. In the `initialiser!` function we randomly set amount of grass and accordingly color of each patch. We also set a fraction `initial_wolf_percent` of agents to be of type wolf. We set color of sheeps to white and that of wolves to black. We also randomly set the energy and positions of agents. In the `init_model!` function through argument `props_to_record` we tell EasyABM to record the color property of patches during model run."
   ]
  },
  {
   "cell_type": "code",
   "execution_count": 3,
   "metadata": {},
   "outputs": [],
   "source": [
    "function initialiser!(model)\n",
    "    max_grass = model.properties.max_grass\n",
    "    for j in 1:model.size[2]\n",
    "        for i in 1:model.size[1]\n",
    "            grass = rand(1:max_grass)\n",
    "            model.patches[i,j].grass = grass\n",
    "            hf = Int(ceil(max_grass/2))\n",
    "            model.patches[i,j].color = grass > hf ? cl\"green\" : (grass > 0 ? cl\"blue\" : cl\"grey\")\n",
    "        end\n",
    "    end\n",
    "    for agent in model.agents\n",
    "        if rand()< model.properties.initial_wolf_percent \n",
    "            agent.atype = wolf\n",
    "            agent.color = cl\"black\"\n",
    "        else\n",
    "            agent.atype = sheep\n",
    "            agent.color = cl\"white\"\n",
    "        end\n",
    "        agent.energy = rand(1:model.properties.max_energy)+0.0\n",
    "        agent.pos = Vect(rand(1:model.size[1]), rand(1:model.size[2]))\n",
    "    end\n",
    "            \n",
    "end\n",
    "\n",
    "init_model!(model, initialiser = initialiser!, props_to_record = Dict(\"patches\"=>Set([:color])))\n"
   ]
  },
  {
   "cell_type": "markdown",
   "metadata": {},
   "source": [
    "## Step 3: Defining the step_rule! and running the model\n",
    "\n",
    "In this step we implement the step logic of the predator prey model in the `step_rule!` function and run the model for 100 steps. "
   ]
  },
  {
   "cell_type": "code",
   "execution_count": 4,
   "metadata": {},
   "outputs": [],
   "source": [
    "function change_pos!(agent)\n",
    "    dx = rand(-1:1)\n",
    "    dy = rand(-1:1)\n",
    "    agent.pos += Vect(dx, dy)\n",
    "end\n",
    "\n",
    "function reproduce!(agent, model)\n",
    "    new_agent = create_similar(agent)\n",
    "    agent.energy = agent.energy/2\n",
    "    new_agent.energy = agent.energy\n",
    "    add_agent!(new_agent, model)\n",
    "end\n",
    "\n",
    "function eat_sheep!(wolf, sheep, model)\n",
    "    kill_agent!(sheep, model) \n",
    "    wolf.energy+=1\n",
    "end\n",
    "\n",
    "\n",
    "function act_asa_wolf!(agent, model)\n",
    "    if !(is_alive(agent))\n",
    "        return\n",
    "    end\n",
    "    energy = agent.energy\n",
    "    if energy > 0.5*model.properties.max_energy\n",
    "        if rand()<model.properties.wolf_birth_rate\n",
    "            reproduce!(agent, model)\n",
    "        end\n",
    "    elseif energy > 0 \n",
    "        nbrs = collect(neighbors_moore(agent, model, 1))\n",
    "        n = length(nbrs)\n",
    "        if n>0\n",
    "            nbr = nbrs[rand(1:n)]\n",
    "            if (nbr.atype == sheep)&&(is_alive(nbr))\n",
    "                ability = model.properties.wolves_kill_ability\n",
    "                (rand()<ability)&&(eat_sheep!(agent, nbr, model))\n",
    "            end\n",
    "        end\n",
    "        change_pos!(agent)\n",
    "    else\n",
    "        kill_agent!(agent, model)\n",
    "    end\n",
    "end\n",
    "\n",
    "function act_asa_sheep!(agent, model)\n",
    "    if !(is_alive(agent))\n",
    "        return\n",
    "    end\n",
    "    energy = agent.energy\n",
    "    if energy >0.5* model.properties.max_energy\n",
    "        if rand()<model.properties.sheep_birth_rate\n",
    "            reproduce!(agent, model)\n",
    "        end\n",
    "        change_pos!(agent)\n",
    "    elseif energy > 0 \n",
    "        patch = get_grid_loc(agent)\n",
    "        grass = model.patches[patch...].grass\n",
    "        if grass>0\n",
    "            model.patches[patch...].grass-=1\n",
    "            agent.energy +=1\n",
    "        end\n",
    "        change_pos!(agent)\n",
    "    else\n",
    "        kill_agent!(agent, model)\n",
    "    end\n",
    "end\n",
    "\n",
    "\n",
    "\n",
    "function step_rule!(model)\n",
    "    if model.max_id>800 # use some upper bound on max agents to avoid system hang\n",
    "        return\n",
    "    end\n",
    "    for agent in model.agents\n",
    "        if agent.atype == wolf\n",
    "            act_asa_wolf!(agent,model)\n",
    "        end\n",
    "        if agent.atype == sheep\n",
    "            act_asa_sheep!(agent, model)\n",
    "        end\n",
    "    end\n",
    "    for j in 1:model.size[2]\n",
    "        for i in 1:model.size[1]\n",
    "            patch = model.patches[i,j]\n",
    "            grass = patch.grass\n",
    "            max_grass = model.properties.max_grass \n",
    "            if grass < max_grass\n",
    "                if rand()<model.properties.grass_grow_prob\n",
    "                    patch.grass+=1\n",
    "                    hf = Int(ceil(max_grass/2))\n",
    "                    patch.color = grass > hf ? cl\"green\" : (grass > 0 ? cl\"yellow\" : cl\"grey\")\n",
    "                end\n",
    "            end\n",
    "        end\n",
    "    end\n",
    "end\n",
    "\n",
    "run_model!(model, steps=100, step_rule = step_rule! )"
   ]
  },
  {
   "cell_type": "markdown",
   "metadata": {},
   "source": [
    "## Step 4: Visualisation"
   ]
  },
  {
   "cell_type": "markdown",
   "metadata": {},
   "source": [
    "In order to draw the model at a specific frame, say 4th, one can use"
   ]
  },
  {
   "cell_type": "code",
   "execution_count": 5,
   "metadata": {},
   "outputs": [
    {
     "data": {
      "image/png": "[encoded data removed]",
      "text/plain": []
     },
     "execution_count": 5,
     "metadata": {},
     "output_type": "execute_result"
    }
   ],
   "source": [
    "draw_frame(model, frame = 4, show_patches=true)"
   ]
  },
  {
   "cell_type": "markdown",
   "metadata": {},
   "source": [
    " If one wants to see the animation of the model run, it can be done as "
   ]
  },
  {
   "cell_type": "code",
   "execution_count": 6,
   "metadata": {},
   "outputs": [
    {
     "data": {
      "application/vnd.webio.node+json": {
       "children": [
        {
         "children": [
          {
           "children": [
            {
             "children": [
              {
               "children": [
                {
                 "children": [
                  {
                   "children": [
                    {
                     "children": [
                      "time"
                     ],
                     "instanceArgs": {
                      "namespace": "html",
                      "tag": "label"
                     },
                     "nodeType": "DOM",
                     "props": {
                      "className": "interact ",
                      "style": {
                       "padding": "5px 10px 0px 10px"
                      }
                     },
                     "type": "node"
                    }
                   ],
                   "instanceArgs": {
                    "namespace": "html",
                    "tag": "div"
                   },
                   "nodeType": "DOM",
                   "props": {
                    "className": "interact-flex-row-left"
                   },
                   "type": "node"
                  },
                  {
                   "children": [
                    {
                     "children": [],
                     "instanceArgs": {
                      "namespace": "html",
                      "tag": "input"
                     },
                     "nodeType": "DOM",
                     "props": {
                      "attributes": {
                       "data-bind": "numericValue: index, valueUpdate: 'input', event: {change: function (){this.changes(this.changes()+1)}}",
                       "orient": "horizontal",
                       "type": "range"
                      },
                      "className": "slider slider is-fullwidth",
                      "max": 101,
                      "min": 1,
                      "step": 1,
                      "style": {}
                     },
                     "type": "node"
                    }
                   ],
                   "instanceArgs": {
                    "namespace": "html",
                    "tag": "div"
                   },
                   "nodeType": "DOM",
                   "props": {
                    "className": "interact-flex-row-center"
                   },
                   "type": "node"
                  },
                  {
                   "children": [
                    {
                     "children": [],
                     "instanceArgs": {
                      "namespace": "html",
                      "tag": "p"
                     },
                     "nodeType": "DOM",
                     "props": {
                      "attributes": {
                       "data-bind": "text: formatted_val"
                      }
                     },
                     "type": "node"
                    }
                   ],
                   "instanceArgs": {
                    "namespace": "html",
                    "tag": "div"
                   },
                   "nodeType": "DOM",
                   "props": {
                    "className": "interact-flex-row-right"
                   },
                   "type": "node"
                  }
                 ],
                 "instanceArgs": {
                  "namespace": "html",
                  "tag": "div"
                 },
                 "nodeType": "DOM",
                 "props": {
                  "className": "interact-flex-row interact-widget"
                 },
                 "type": "node"
                }
               ],
               "instanceArgs": {
                "handlers": {
                 "changes": [
                  "(function (val){return (val!=this.model[\"changes\"]()) ? (this.valueFromJulia[\"changes\"]=true, this.model[\"changes\"](val)) : undefined})"
                 ],
                 "index": [
                  "(function (val){return (val!=this.model[\"index\"]()) ? (this.valueFromJulia[\"index\"]=true, this.model[\"index\"](val)) : undefined})"
                 ]
                },
                "id": "10248628804068707359",
                "imports": {
                 "data": [
                  {
                   "name": "knockout",
                   "type": "js",
                   "url": "/assetserver/727383f2a47bd31570b7da84eee7b022dd6d7c78-knockout.js"
                  },
                  {
                   "name": "knockout_punches",
                   "type": "js",
                   "url": "/assetserver/382b41b3b1bd9f26f75861d360bad7f8beea211f-knockout_punches.js"
                  },
                  {
                   "name": null,
                   "type": "js",
                   "url": "/assetserver/5ab20f1060420992a9b82a65b735dee4d81ef413-all.js"
                  },
                  {
                   "name": null,
                   "type": "css",
                   "url": "/assetserver/1cc0ed62837210b80a182cc3676512f895dab686-style.css"
                  },
                  {
                   "name": null,
                   "type": "css",
                   "url": "/assetserver/2eee816f616df3549d7044d45e744fbf8d42bfa1-bulma_confined.min.css"
                  }
                 ],
                 "type": "async_block"
                },
                "mount_callbacks": [
                 "function () {\n    var handler = (function (ko, koPunches) {\n    ko.punches.enableAll();\n    ko.bindingHandlers.numericValue = {\n        init: function(element, valueAccessor, allBindings, data, context) {\n            var stringified = ko.observable(ko.unwrap(valueAccessor()));\n            stringified.subscribe(function(value) {\n                var val = parseFloat(value);\n                if (!isNaN(val)) {\n                    valueAccessor()(val);\n                }\n            });\n            valueAccessor().subscribe(function(value) {\n                var str = JSON.stringify(value);\n                if ((str == \"0\") && ([\"-0\", \"-0.\"].indexOf(stringified()) >= 0))\n                     return;\n                 if ([\"null\", \"\"].indexOf(str) >= 0)\n                     return;\n                stringified(str);\n            });\n            ko.applyBindingsToNode(\n                element,\n                {\n                    value: stringified,\n                    valueUpdate: allBindings.get('valueUpdate'),\n                },\n                context,\n            );\n        }\n    };\n    var json_data = {\"formatted_vals\":[\"1\",\"2\",\"3\",\"4\",\"5\",\"6\",\"7\",\"8\",\"9\",\"10\",\"11\",\"12\",\"13\",\"14\",\"15\",\"16\",\"17\",\"18\",\"19\",\"20\",\"21\",\"22\",\"23\",\"24\",\"25\",\"26\",\"27\",\"28\",\"29\",\"30\",\"31\",\"32\",\"33\",\"34\",\"35\",\"36\",\"37\",\"38\",\"39\",\"40\",\"41\",\"42\",\"43\",\"44\",\"45\",\"46\",\"47\",\"48\",\"49\",\"50\",\"51\",\"52\",\"53\",\"54\",\"55\",\"56\",\"57\",\"58\",\"59\",\"60\",\"61\",\"62\",\"63\",\"64\",\"65\",\"66\",\"67\",\"68\",\"69\",\"70\",\"71\",\"72\",\"73\",\"74\",\"75\",\"76\",\"77\",\"78\",\"79\",\"80\",\"81\",\"82\",\"83\",\"84\",\"85\",\"86\",\"87\",\"88\",\"89\",\"90\",\"91\",\"92\",\"93\",\"94\",\"95\",\"96\",\"97\",\"98\",\"99\",\"100\",\"101\"],\"changes\":WebIO.getval({\"name\":\"changes\",\"scope\":\"10248628804068707359\",\"id\":\"13213855696024273578\",\"type\":\"observable\"}),\"index\":WebIO.getval({\"name\":\"index\",\"scope\":\"10248628804068707359\",\"id\":\"9060581866708775241\",\"type\":\"observable\"})};\n    var self = this;\n    function AppViewModel() {\n        for (var key in json_data) {\n            var el = json_data[key];\n            this[key] = Array.isArray(el) ? ko.observableArray(el) : ko.observable(el);\n        }\n        \n        [this[\"formatted_val\"]=ko.computed(    function(){\n        return this.formatted_vals()[parseInt(this.index())-(1)];\n    }\n,this)]\n        [this[\"changes\"].subscribe((function (val){!(this.valueFromJulia[\"changes\"]) ? (WebIO.setval({\"name\":\"changes\",\"scope\":\"10248628804068707359\",\"id\":\"13213855696024273578\",\"type\":\"observable\"},val)) : undefined; return this.valueFromJulia[\"changes\"]=false}),self),this[\"index\"].subscribe((function (val){!(this.valueFromJulia[\"index\"]) ? (WebIO.setval({\"name\":\"index\",\"scope\":\"10248628804068707359\",\"id\":\"9060581866708775241\",\"type\":\"observable\"},val)) : undefined; return this.valueFromJulia[\"index\"]=false}),self)]\n        \n    }\n    self.model = new AppViewModel();\n    self.valueFromJulia = {};\n    for (var key in json_data) {\n        self.valueFromJulia[key] = false;\n    }\n    ko.applyBindings(self.model, self.dom);\n}\n);\n    (WebIO.importBlock({\"data\":[{\"name\":\"knockout\",\"type\":\"js\",\"url\":\"/assetserver/727383f2a47bd31570b7da84eee7b022dd6d7c78-knockout.js\"},{\"name\":\"knockout_punches\",\"type\":\"js\",\"url\":\"/assetserver/382b41b3b1bd9f26f75861d360bad7f8beea211f-knockout_punches.js\"}],\"type\":\"async_block\"})).then((imports) => handler.apply(this, imports));\n}\n"
                ],
                "observables": {
                 "changes": {
                  "id": "13213855696024273578",
                  "sync": false,
                  "value": 0
                 },
                 "index": {
                  "id": "9060581866708775241",
                  "sync": true,
                  "value": 51
                 }
                },
                "systemjs_options": null
               },
               "nodeType": "Scope",
               "props": {},
               "type": "node"
              }
             ],
             "instanceArgs": {
              "namespace": "html",
              "tag": "div"
             },
             "nodeType": "DOM",
             "props": {
              "className": "field interact-widget"
             },
             "type": "node"
            },
            {
             "children": [
              {
               "children": [
                {
                 "children": [
                  {
                   "children": [
                    {
                     "children": [
                      "scale"
                     ],
                     "instanceArgs": {
                      "namespace": "html",
                      "tag": "label"
                     },
                     "nodeType": "DOM",
                     "props": {
                      "className": "interact ",
                      "style": {
                       "padding": "5px 10px 0px 10px"
                      }
                     },
                     "type": "node"
                    }
                   ],
                   "instanceArgs": {
                    "namespace": "html",
                    "tag": "div"
                   },
                   "nodeType": "DOM",
                   "props": {
                    "className": "interact-flex-row-left"
                   },
                   "type": "node"
                  },
                  {
                   "children": [
                    {
                     "children": [],
                     "instanceArgs": {
                      "namespace": "html",
                      "tag": "input"
                     },
                     "nodeType": "DOM",
                     "props": {
                      "attributes": {
                       "data-bind": "numericValue: index, valueUpdate: 'input', event: {change: function (){this.changes(this.changes()+1)}}",
                       "orient": "horizontal",
                       "type": "range"
                      },
                      "className": "slider slider is-fullwidth",
                      "max": 20,
                      "min": 1,
                      "step": 1,
                      "style": {}
                     },
                     "type": "node"
                    }
                   ],
                   "instanceArgs": {
                    "namespace": "html",
                    "tag": "div"
                   },
                   "nodeType": "DOM",
                   "props": {
                    "className": "interact-flex-row-center"
                   },
                   "type": "node"
                  },
                  {
                   "children": [
                    {
                     "children": [],
                     "instanceArgs": {
                      "namespace": "html",
                      "tag": "p"
                     },
                     "nodeType": "DOM",
                     "props": {
                      "attributes": {
                       "data-bind": "text: formatted_val"
                      }
                     },
                     "type": "node"
                    }
                   ],
                   "instanceArgs": {
                    "namespace": "html",
                    "tag": "div"
                   },
                   "nodeType": "DOM",
                   "props": {
                    "className": "interact-flex-row-right"
                   },
                   "type": "node"
                  }
                 ],
                 "instanceArgs": {
                  "namespace": "html",
                  "tag": "div"
                 },
                 "nodeType": "DOM",
                 "props": {
                  "className": "interact-flex-row interact-widget"
                 },
                 "type": "node"
                }
               ],
               "instanceArgs": {
                "handlers": {
                 "changes": [
                  "(function (val){return (val!=this.model[\"changes\"]()) ? (this.valueFromJulia[\"changes\"]=true, this.model[\"changes\"](val)) : undefined})"
                 ],
                 "index": [
                  "(function (val){return (val!=this.model[\"index\"]()) ? (this.valueFromJulia[\"index\"]=true, this.model[\"index\"](val)) : undefined})"
                 ]
                },
                "id": "13978494324666766514",
                "imports": {
                 "data": [
                  {
                   "name": "knockout",
                   "type": "js",
                   "url": "/assetserver/727383f2a47bd31570b7da84eee7b022dd6d7c78-knockout.js"
                  },
                  {
                   "name": "knockout_punches",
                   "type": "js",
                   "url": "/assetserver/382b41b3b1bd9f26f75861d360bad7f8beea211f-knockout_punches.js"
                  },
                  {
                   "name": null,
                   "type": "js",
                   "url": "/assetserver/5ab20f1060420992a9b82a65b735dee4d81ef413-all.js"
                  },
                  {
                   "name": null,
                   "type": "css",
                   "url": "/assetserver/1cc0ed62837210b80a182cc3676512f895dab686-style.css"
                  },
                  {
                   "name": null,
                   "type": "css",
                   "url": "/assetserver/2eee816f616df3549d7044d45e744fbf8d42bfa1-bulma_confined.min.css"
                  }
                 ],
                 "type": "async_block"
                },
                "mount_callbacks": [
                 "function () {\n    var handler = (function (ko, koPunches) {\n    ko.punches.enableAll();\n    ko.bindingHandlers.numericValue = {\n        init: function(element, valueAccessor, allBindings, data, context) {\n            var stringified = ko.observable(ko.unwrap(valueAccessor()));\n            stringified.subscribe(function(value) {\n                var val = parseFloat(value);\n                if (!isNaN(val)) {\n                    valueAccessor()(val);\n                }\n            });\n            valueAccessor().subscribe(function(value) {\n                var str = JSON.stringify(value);\n                if ((str == \"0\") && ([\"-0\", \"-0.\"].indexOf(stringified()) >= 0))\n                     return;\n                 if ([\"null\", \"\"].indexOf(str) >= 0)\n                     return;\n                stringified(str);\n            });\n            ko.applyBindingsToNode(\n                element,\n                {\n                    value: stringified,\n                    valueUpdate: allBindings.get('valueUpdate'),\n                },\n                context,\n            );\n        }\n    };\n    var json_data = {\"formatted_vals\":[\"0.1\",\"0.2\",\"0.3\",\"0.4\",\"0.5\",\"0.6\",\"0.7\",\"0.8\",\"0.9\",\"1.0\",\"1.1\",\"1.2\",\"1.3\",\"1.4\",\"1.5\",\"1.6\",\"1.7\",\"1.8\",\"1.9\",\"2.0\"],\"changes\":WebIO.getval({\"name\":\"changes\",\"scope\":\"13978494324666766514\",\"id\":\"3505517828125054341\",\"type\":\"observable\"}),\"index\":WebIO.getval({\"name\":\"index\",\"scope\":\"13978494324666766514\",\"id\":\"486702438420721145\",\"type\":\"observable\"})};\n    var self = this;\n    function AppViewModel() {\n        for (var key in json_data) {\n            var el = json_data[key];\n            this[key] = Array.isArray(el) ? ko.observableArray(el) : ko.observable(el);\n        }\n        \n        [this[\"formatted_val\"]=ko.computed(    function(){\n        return this.formatted_vals()[parseInt(this.index())-(1)];\n    }\n,this)]\n        [this[\"changes\"].subscribe((function (val){!(this.valueFromJulia[\"changes\"]) ? (WebIO.setval({\"name\":\"changes\",\"scope\":\"13978494324666766514\",\"id\":\"3505517828125054341\",\"type\":\"observable\"},val)) : undefined; return this.valueFromJulia[\"changes\"]=false}),self),this[\"index\"].subscribe((function (val){!(this.valueFromJulia[\"index\"]) ? (WebIO.setval({\"name\":\"index\",\"scope\":\"13978494324666766514\",\"id\":\"486702438420721145\",\"type\":\"observable\"},val)) : undefined; return this.valueFromJulia[\"index\"]=false}),self)]\n        \n    }\n    self.model = new AppViewModel();\n    self.valueFromJulia = {};\n    for (var key in json_data) {\n        self.valueFromJulia[key] = false;\n    }\n    ko.applyBindings(self.model, self.dom);\n}\n);\n    (WebIO.importBlock({\"data\":[{\"name\":\"knockout\",\"type\":\"js\",\"url\":\"/assetserver/727383f2a47bd31570b7da84eee7b022dd6d7c78-knockout.js\"},{\"name\":\"knockout_punches\",\"type\":\"js\",\"url\":\"/assetserver/382b41b3b1bd9f26f75861d360bad7f8beea211f-knockout_punches.js\"}],\"type\":\"async_block\"})).then((imports) => handler.apply(this, imports));\n}\n"
                ],
                "observables": {
                 "changes": {
                  "id": "3505517828125054341",
                  "sync": false,
                  "value": 0
                 },
                 "index": {
                  "id": "486702438420721145",
                  "sync": true,
                  "value": 10
                 }
                },
                "systemjs_options": null
               },
               "nodeType": "Scope",
               "props": {},
               "type": "node"
              }
             ],
             "instanceArgs": {
              "namespace": "html",
              "tag": "div"
             },
             "nodeType": "DOM",
             "props": {
              "className": "field interact-widget"
             },
             "type": "node"
            },
            {
             "children": [
              {
               "children": [
                {
                 "children": [
                  {
                   "children": [],
                   "instanceArgs": {
                    "namespace": "html",
                    "tag": "div"
                   },
                   "nodeType": "DOM",
                   "props": {
                    "id": "container"
                   },
                   "type": "node"
                  }
                 ],
                 "instanceArgs": {
                  "handlers": {
                   "value": [
                    "(function (txt){return this.k.render(txt,this.container)})"
                   ]
                  },
                  "id": "12381872493259935713",
                  "imports": {
                   "data": [
                    {
                     "name": null,
                     "type": "js",
                     "url": "/assetserver/dd22ed1bf1896c2748f3fe616ce0b838adc895c1-katex.min.js"
                    },
                    {
                     "name": null,
                     "type": "css",
                     "url": "/assetserver/46517a424aa5e6cffc1360d7e0848b601c584ee3-katex.min.css"
                    }
                   ],
                   "type": "async_block"
                  },
                  "mount_callbacks": [
                   "function () {\n    var handler = ((function (k){this.k=k; this.container=this.dom.querySelector(\"#container\"); return k.render(\"\\\\;\\\\;\",this.container)}));\n    (WebIO.importBlock({\"data\":[{\"name\":null,\"type\":\"js\",\"url\":\"/assetserver/dd22ed1bf1896c2748f3fe616ce0b838adc895c1-katex.min.js\"},{\"name\":null,\"type\":\"css\",\"url\":\"/assetserver/46517a424aa5e6cffc1360d7e0848b601c584ee3-katex.min.css\"}],\"type\":\"async_block\"})).then((imports) => handler.apply(this, imports));\n}\n"
                  ],
                  "observables": {
                   "value": {
                    "id": "18397926592361969128",
                    "sync": false,
                    "value": "\\;\\;"
                   }
                  },
                  "systemjs_options": null
                 },
                 "nodeType": "Scope",
                 "props": {},
                 "type": "node"
                }
               ],
               "instanceArgs": {
                "namespace": "html",
                "tag": "div"
               },
               "nodeType": "DOM",
               "props": {
                "className": "interact-widget"
               },
               "type": "node"
              },
              {
               "children": [
                {
                 "children": [
                  {
                   "children": [
                    "run"
                   ],
                   "instanceArgs": {
                    "namespace": "html",
                    "tag": "button"
                   },
                   "nodeType": "DOM",
                   "props": {
                    "attributes": {
                     "data-bind": "click: function (){this.clicks(this.clicks()+1)}, css: {'is-loading' : loading}"
                    },
                    "className": "is-medium button is-primary",
                    "style": {}
                   },
                   "type": "node"
                  }
                 ],
                 "instanceArgs": {
                  "handlers": {
                   "clicks": [
                    "(function (val){return (val!=this.model[\"clicks\"]()) ? (this.valueFromJulia[\"clicks\"]=true, this.model[\"clicks\"](val)) : undefined})"
                   ],
                   "loading": [
                    "(function (val){return (val!=this.model[\"loading\"]()) ? (this.valueFromJulia[\"loading\"]=true, this.model[\"loading\"](val)) : undefined})"
                   ]
                  },
                  "id": "1794856719332087764",
                  "imports": {
                   "data": [
                    {
                     "name": "knockout",
                     "type": "js",
                     "url": "/assetserver/727383f2a47bd31570b7da84eee7b022dd6d7c78-knockout.js"
                    },
                    {
                     "name": "knockout_punches",
                     "type": "js",
                     "url": "/assetserver/382b41b3b1bd9f26f75861d360bad7f8beea211f-knockout_punches.js"
                    },
                    {
                     "name": null,
                     "type": "js",
                     "url": "/assetserver/5ab20f1060420992a9b82a65b735dee4d81ef413-all.js"
                    },
                    {
                     "name": null,
                     "type": "css",
                     "url": "/assetserver/1cc0ed62837210b80a182cc3676512f895dab686-style.css"
                    },
                    {
                     "name": null,
                     "type": "css",
                     "url": "/assetserver/2eee816f616df3549d7044d45e744fbf8d42bfa1-bulma_confined.min.css"
                    }
                   ],
                   "type": "async_block"
                  },
                  "mount_callbacks": [
                   "function () {\n    var handler = (function (ko, koPunches) {\n    ko.punches.enableAll();\n    ko.bindingHandlers.numericValue = {\n        init: function(element, valueAccessor, allBindings, data, context) {\n            var stringified = ko.observable(ko.unwrap(valueAccessor()));\n            stringified.subscribe(function(value) {\n                var val = parseFloat(value);\n                if (!isNaN(val)) {\n                    valueAccessor()(val);\n                }\n            });\n            valueAccessor().subscribe(function(value) {\n                var str = JSON.stringify(value);\n                if ((str == \"0\") && ([\"-0\", \"-0.\"].indexOf(stringified()) >= 0))\n                     return;\n                 if ([\"null\", \"\"].indexOf(str) >= 0)\n                     return;\n                stringified(str);\n            });\n            ko.applyBindingsToNode(\n                element,\n                {\n                    value: stringified,\n                    valueUpdate: allBindings.get('valueUpdate'),\n                },\n                context,\n            );\n        }\n    };\n    var json_data = {\"loading\":WebIO.getval({\"name\":\"loading\",\"scope\":\"1794856719332087764\",\"id\":\"8633495959867609740\",\"type\":\"observable\"}),\"clicks\":WebIO.getval({\"name\":\"clicks\",\"scope\":\"1794856719332087764\",\"id\":\"16203304872543140388\",\"type\":\"observable\"})};\n    var self = this;\n    function AppViewModel() {\n        for (var key in json_data) {\n            var el = json_data[key];\n            this[key] = Array.isArray(el) ? ko.observableArray(el) : ko.observable(el);\n        }\n        \n        \n        [this[\"loading\"].subscribe((function (val){!(this.valueFromJulia[\"loading\"]) ? (WebIO.setval({\"name\":\"loading\",\"scope\":\"1794856719332087764\",\"id\":\"8633495959867609740\",\"type\":\"observable\"},val)) : undefined; return this.valueFromJulia[\"loading\"]=false}),self),this[\"clicks\"].subscribe((function (val){!(this.valueFromJulia[\"clicks\"]) ? (WebIO.setval({\"name\":\"clicks\",\"scope\":\"1794856719332087764\",\"id\":\"16203304872543140388\",\"type\":\"observable\"},val)) : undefined; return this.valueFromJulia[\"clicks\"]=false}),self)]\n        \n    }\n    self.model = new AppViewModel();\n    self.valueFromJulia = {};\n    for (var key in json_data) {\n        self.valueFromJulia[key] = false;\n    }\n    ko.applyBindings(self.model, self.dom);\n}\n);\n    (WebIO.importBlock({\"data\":[{\"name\":\"knockout\",\"type\":\"js\",\"url\":\"/assetserver/727383f2a47bd31570b7da84eee7b022dd6d7c78-knockout.js\"},{\"name\":\"knockout_punches\",\"type\":\"js\",\"url\":\"/assetserver/382b41b3b1bd9f26f75861d360bad7f8beea211f-knockout_punches.js\"}],\"type\":\"async_block\"})).then((imports) => handler.apply(this, imports));\n}\n"
                  ],
                  "observables": {
                   "clicks": {
                    "id": "16203304872543140388",
                    "sync": true,
                    "value": 0
                   },
                   "loading": {
                    "id": "8633495959867609740",
                    "sync": false,
                    "value": false
                   }
                  },
                  "systemjs_options": null
                 },
                 "nodeType": "Scope",
                 "props": {},
                 "type": "node"
                }
               ],
               "instanceArgs": {
                "namespace": "html",
                "tag": "div"
               },
               "nodeType": "DOM",
               "props": {
                "className": "field interact-widget"
               },
               "type": "node"
              },
              {
               "children": [
                {
                 "children": [
                  {
                   "children": [],
                   "instanceArgs": {
                    "namespace": "html",
                    "tag": "div"
                   },
                   "nodeType": "DOM",
                   "props": {
                    "id": "container"
                   },
                   "type": "node"
                  }
                 ],
                 "instanceArgs": {
                  "handlers": {
                   "value": [
                    "(function (txt){return this.k.render(txt,this.container)})"
                   ]
                  },
                  "id": "12381872493259935713",
                  "imports": {
                   "data": [
                    {
                     "name": null,
                     "type": "js",
                     "url": "/assetserver/dd22ed1bf1896c2748f3fe616ce0b838adc895c1-katex.min.js"
                    },
                    {
                     "name": null,
                     "type": "css",
                     "url": "/assetserver/46517a424aa5e6cffc1360d7e0848b601c584ee3-katex.min.css"
                    }
                   ],
                   "type": "async_block"
                  },
                  "mount_callbacks": [
                   "function () {\n    var handler = ((function (k){this.k=k; this.container=this.dom.querySelector(\"#container\"); return k.render(\"\\\\;\\\\;\",this.container)}));\n    (WebIO.importBlock({\"data\":[{\"name\":null,\"type\":\"js\",\"url\":\"/assetserver/dd22ed1bf1896c2748f3fe616ce0b838adc895c1-katex.min.js\"},{\"name\":null,\"type\":\"css\",\"url\":\"/assetserver/46517a424aa5e6cffc1360d7e0848b601c584ee3-katex.min.css\"}],\"type\":\"async_block\"})).then((imports) => handler.apply(this, imports));\n}\n"
                  ],
                  "observables": {
                   "value": {
                    "id": "18397926592361969128",
                    "sync": false,
                    "value": "\\;\\;"
                   }
                  },
                  "systemjs_options": null
                 },
                 "nodeType": "Scope",
                 "props": {},
                 "type": "node"
                }
               ],
               "instanceArgs": {
                "namespace": "html",
                "tag": "div"
               },
               "nodeType": "DOM",
               "props": {
                "className": "interact-widget"
               },
               "type": "node"
              },
              {
               "children": [
                {
                 "children": [
                  {
                   "children": [
                    "stop"
                   ],
                   "instanceArgs": {
                    "namespace": "html",
                    "tag": "button"
                   },
                   "nodeType": "DOM",
                   "props": {
                    "attributes": {
                     "data-bind": "click: function (){this.clicks(this.clicks()+1)}, css: {'is-loading' : loading}"
                    },
                    "className": "is-medium button is-primary",
                    "style": {}
                   },
                   "type": "node"
                  }
                 ],
                 "instanceArgs": {
                  "handlers": {
                   "clicks": [
                    "(function (val){return (val!=this.model[\"clicks\"]()) ? (this.valueFromJulia[\"clicks\"]=true, this.model[\"clicks\"](val)) : undefined})"
                   ],
                   "loading": [
                    "(function (val){return (val!=this.model[\"loading\"]()) ? (this.valueFromJulia[\"loading\"]=true, this.model[\"loading\"](val)) : undefined})"
                   ]
                  },
                  "id": "7302939970083214056",
                  "imports": {
                   "data": [
                    {
                     "name": "knockout",
                     "type": "js",
                     "url": "/assetserver/727383f2a47bd31570b7da84eee7b022dd6d7c78-knockout.js"
                    },
                    {
                     "name": "knockout_punches",
                     "type": "js",
                     "url": "/assetserver/382b41b3b1bd9f26f75861d360bad7f8beea211f-knockout_punches.js"
                    },
                    {
                     "name": null,
                     "type": "js",
                     "url": "/assetserver/5ab20f1060420992a9b82a65b735dee4d81ef413-all.js"
                    },
                    {
                     "name": null,
                     "type": "css",
                     "url": "/assetserver/1cc0ed62837210b80a182cc3676512f895dab686-style.css"
                    },
                    {
                     "name": null,
                     "type": "css",
                     "url": "/assetserver/2eee816f616df3549d7044d45e744fbf8d42bfa1-bulma_confined.min.css"
                    }
                   ],
                   "type": "async_block"
                  },
                  "mount_callbacks": [
                   "function () {\n    var handler = (function (ko, koPunches) {\n    ko.punches.enableAll();\n    ko.bindingHandlers.numericValue = {\n        init: function(element, valueAccessor, allBindings, data, context) {\n            var stringified = ko.observable(ko.unwrap(valueAccessor()));\n            stringified.subscribe(function(value) {\n                var val = parseFloat(value);\n                if (!isNaN(val)) {\n                    valueAccessor()(val);\n                }\n            });\n            valueAccessor().subscribe(function(value) {\n                var str = JSON.stringify(value);\n                if ((str == \"0\") && ([\"-0\", \"-0.\"].indexOf(stringified()) >= 0))\n                     return;\n                 if ([\"null\", \"\"].indexOf(str) >= 0)\n                     return;\n                stringified(str);\n            });\n            ko.applyBindingsToNode(\n                element,\n                {\n                    value: stringified,\n                    valueUpdate: allBindings.get('valueUpdate'),\n                },\n                context,\n            );\n        }\n    };\n    var json_data = {\"loading\":WebIO.getval({\"name\":\"loading\",\"scope\":\"7302939970083214056\",\"id\":\"2267030430380211730\",\"type\":\"observable\"}),\"clicks\":WebIO.getval({\"name\":\"clicks\",\"scope\":\"7302939970083214056\",\"id\":\"2164293523933707938\",\"type\":\"observable\"})};\n    var self = this;\n    function AppViewModel() {\n        for (var key in json_data) {\n            var el = json_data[key];\n            this[key] = Array.isArray(el) ? ko.observableArray(el) : ko.observable(el);\n        }\n        \n        \n        [this[\"loading\"].subscribe((function (val){!(this.valueFromJulia[\"loading\"]) ? (WebIO.setval({\"name\":\"loading\",\"scope\":\"7302939970083214056\",\"id\":\"2267030430380211730\",\"type\":\"observable\"},val)) : undefined; return this.valueFromJulia[\"loading\"]=false}),self),this[\"clicks\"].subscribe((function (val){!(this.valueFromJulia[\"clicks\"]) ? (WebIO.setval({\"name\":\"clicks\",\"scope\":\"7302939970083214056\",\"id\":\"2164293523933707938\",\"type\":\"observable\"},val)) : undefined; return this.valueFromJulia[\"clicks\"]=false}),self)]\n        \n    }\n    self.model = new AppViewModel();\n    self.valueFromJulia = {};\n    for (var key in json_data) {\n        self.valueFromJulia[key] = false;\n    }\n    ko.applyBindings(self.model, self.dom);\n}\n);\n    (WebIO.importBlock({\"data\":[{\"name\":\"knockout\",\"type\":\"js\",\"url\":\"/assetserver/727383f2a47bd31570b7da84eee7b022dd6d7c78-knockout.js\"},{\"name\":\"knockout_punches\",\"type\":\"js\",\"url\":\"/assetserver/382b41b3b1bd9f26f75861d360bad7f8beea211f-knockout_punches.js\"}],\"type\":\"async_block\"})).then((imports) => handler.apply(this, imports));\n}\n"
                  ],
                  "observables": {
                   "clicks": {
                    "id": "2164293523933707938",
                    "sync": true,
                    "value": 0
                   },
                   "loading": {
                    "id": "2267030430380211730",
                    "sync": false,
                    "value": false
                   }
                  },
                  "systemjs_options": null
                 },
                 "nodeType": "Scope",
                 "props": {},
                 "type": "node"
                }
               ],
               "instanceArgs": {
                "namespace": "html",
                "tag": "div"
               },
               "nodeType": "DOM",
               "props": {
                "className": "field interact-widget"
               },
               "type": "node"
              },
              {
               "children": [
                {
                 "children": [
                  {
                   "children": [],
                   "instanceArgs": {
                    "namespace": "html",
                    "tag": "div"
                   },
                   "nodeType": "DOM",
                   "props": {
                    "id": "container"
                   },
                   "type": "node"
                  }
                 ],
                 "instanceArgs": {
                  "handlers": {
                   "value": [
                    "(function (txt){return this.k.render(txt,this.container)})"
                   ]
                  },
                  "id": "12381872493259935713",
                  "imports": {
                   "data": [
                    {
                     "name": null,
                     "type": "js",
                     "url": "/assetserver/dd22ed1bf1896c2748f3fe616ce0b838adc895c1-katex.min.js"
                    },
                    {
                     "name": null,
                     "type": "css",
                     "url": "/assetserver/46517a424aa5e6cffc1360d7e0848b601c584ee3-katex.min.css"
                    }
                   ],
                   "type": "async_block"
                  },
                  "mount_callbacks": [
                   "function () {\n    var handler = ((function (k){this.k=k; this.container=this.dom.querySelector(\"#container\"); return k.render(\"\\\\;\\\\;\",this.container)}));\n    (WebIO.importBlock({\"data\":[{\"name\":null,\"type\":\"js\",\"url\":\"/assetserver/dd22ed1bf1896c2748f3fe616ce0b838adc895c1-katex.min.js\"},{\"name\":null,\"type\":\"css\",\"url\":\"/assetserver/46517a424aa5e6cffc1360d7e0848b601c584ee3-katex.min.css\"}],\"type\":\"async_block\"})).then((imports) => handler.apply(this, imports));\n}\n"
                  ],
                  "observables": {
                   "value": {
                    "id": "18397926592361969128",
                    "sync": false,
                    "value": "\\;\\;"
                   }
                  },
                  "systemjs_options": null
                 },
                 "nodeType": "Scope",
                 "props": {},
                 "type": "node"
                }
               ],
               "instanceArgs": {
                "namespace": "html",
                "tag": "div"
               },
               "nodeType": "DOM",
               "props": {
                "className": "interact-widget"
               },
               "type": "node"
              },
              {
               "children": [
                {
                 "children": [
                  {
                   "children": [
                    "save"
                   ],
                   "instanceArgs": {
                    "namespace": "html",
                    "tag": "button"
                   },
                   "nodeType": "DOM",
                   "props": {
                    "attributes": {
                     "data-bind": "click: function (){this.clicks(this.clicks()+1)}, css: {'is-loading' : loading}"
                    },
                    "className": "is-medium button is-primary",
                    "style": {}
                   },
                   "type": "node"
                  }
                 ],
                 "instanceArgs": {
                  "handlers": {
                   "clicks": [
                    "(function (val){return (val!=this.model[\"clicks\"]()) ? (this.valueFromJulia[\"clicks\"]=true, this.model[\"clicks\"](val)) : undefined})"
                   ],
                   "loading": [
                    "(function (val){return (val!=this.model[\"loading\"]()) ? (this.valueFromJulia[\"loading\"]=true, this.model[\"loading\"](val)) : undefined})"
                   ]
                  },
                  "id": "1561832892659082265",
                  "imports": {
                   "data": [
                    {
                     "name": "knockout",
                     "type": "js",
                     "url": "/assetserver/727383f2a47bd31570b7da84eee7b022dd6d7c78-knockout.js"
                    },
                    {
                     "name": "knockout_punches",
                     "type": "js",
                     "url": "/assetserver/382b41b3b1bd9f26f75861d360bad7f8beea211f-knockout_punches.js"
                    },
                    {
                     "name": null,
                     "type": "js",
                     "url": "/assetserver/5ab20f1060420992a9b82a65b735dee4d81ef413-all.js"
                    },
                    {
                     "name": null,
                     "type": "css",
                     "url": "/assetserver/1cc0ed62837210b80a182cc3676512f895dab686-style.css"
                    },
                    {
                     "name": null,
                     "type": "css",
                     "url": "/assetserver/2eee816f616df3549d7044d45e744fbf8d42bfa1-bulma_confined.min.css"
                    }
                   ],
                   "type": "async_block"
                  },
                  "mount_callbacks": [
                   "function () {\n    var handler = (function (ko, koPunches) {\n    ko.punches.enableAll();\n    ko.bindingHandlers.numericValue = {\n        init: function(element, valueAccessor, allBindings, data, context) {\n            var stringified = ko.observable(ko.unwrap(valueAccessor()));\n            stringified.subscribe(function(value) {\n                var val = parseFloat(value);\n                if (!isNaN(val)) {\n                    valueAccessor()(val);\n                }\n            });\n            valueAccessor().subscribe(function(value) {\n                var str = JSON.stringify(value);\n                if ((str == \"0\") && ([\"-0\", \"-0.\"].indexOf(stringified()) >= 0))\n                     return;\n                 if ([\"null\", \"\"].indexOf(str) >= 0)\n                     return;\n                stringified(str);\n            });\n            ko.applyBindingsToNode(\n                element,\n                {\n                    value: stringified,\n                    valueUpdate: allBindings.get('valueUpdate'),\n                },\n                context,\n            );\n        }\n    };\n    var json_data = {\"loading\":WebIO.getval({\"name\":\"loading\",\"scope\":\"1561832892659082265\",\"id\":\"13047712658361917352\",\"type\":\"observable\"}),\"clicks\":WebIO.getval({\"name\":\"clicks\",\"scope\":\"1561832892659082265\",\"id\":\"14562147560858840170\",\"type\":\"observable\"})};\n    var self = this;\n    function AppViewModel() {\n        for (var key in json_data) {\n            var el = json_data[key];\n            this[key] = Array.isArray(el) ? ko.observableArray(el) : ko.observable(el);\n        }\n        \n        \n        [this[\"loading\"].subscribe((function (val){!(this.valueFromJulia[\"loading\"]) ? (WebIO.setval({\"name\":\"loading\",\"scope\":\"1561832892659082265\",\"id\":\"13047712658361917352\",\"type\":\"observable\"},val)) : undefined; return this.valueFromJulia[\"loading\"]=false}),self),this[\"clicks\"].subscribe((function (val){!(this.valueFromJulia[\"clicks\"]) ? (WebIO.setval({\"name\":\"clicks\",\"scope\":\"1561832892659082265\",\"id\":\"14562147560858840170\",\"type\":\"observable\"},val)) : undefined; return this.valueFromJulia[\"clicks\"]=false}),self)]\n        \n    }\n    self.model = new AppViewModel();\n    self.valueFromJulia = {};\n    for (var key in json_data) {\n        self.valueFromJulia[key] = false;\n    }\n    ko.applyBindings(self.model, self.dom);\n}\n);\n    (WebIO.importBlock({\"data\":[{\"name\":\"knockout\",\"type\":\"js\",\"url\":\"/assetserver/727383f2a47bd31570b7da84eee7b022dd6d7c78-knockout.js\"},{\"name\":\"knockout_punches\",\"type\":\"js\",\"url\":\"/assetserver/382b41b3b1bd9f26f75861d360bad7f8beea211f-knockout_punches.js\"}],\"type\":\"async_block\"})).then((imports) => handler.apply(this, imports));\n}\n"
                  ],
                  "observables": {
                   "clicks": {
                    "id": "14562147560858840170",
                    "sync": true,
                    "value": 0
                   },
                   "loading": {
                    "id": "13047712658361917352",
                    "sync": false,
                    "value": false
                   }
                  },
                  "systemjs_options": null
                 },
                 "nodeType": "Scope",
                 "props": {},
                 "type": "node"
                }
               ],
               "instanceArgs": {
                "namespace": "html",
                "tag": "div"
               },
               "nodeType": "DOM",
               "props": {
                "className": "field interact-widget"
               },
               "type": "node"
              }
             ],
             "instanceArgs": {
              "namespace": "html",
              "tag": "div"
             },
             "nodeType": "DOM",
             "props": {
              "style": {
               "display": "flex",
               "flex-direction": "row"
              }
             },
             "type": "node"
            }
           ],
           "instanceArgs": {
            "namespace": "html",
            "tag": "div"
           },
           "nodeType": "DOM",
           "props": {
            "style": {
             "display": "flex",
             "flex-direction": "column"
            }
           },
           "type": "node"
          },
          {
           "children": [
            {
             "children": [
              {
               "children": [],
               "instanceArgs": {
                "namespace": "html",
                "tag": "div"
               },
               "nodeType": "DOM",
               "props": {
                "id": "container"
               },
               "type": "node"
              }
             ],
             "instanceArgs": {
              "handlers": {
               "value": [
                "(function (txt){return this.k.render(txt,this.container)})"
               ]
              },
              "id": "12381872493259935713",
              "imports": {
               "data": [
                {
                 "name": null,
                 "type": "js",
                 "url": "/assetserver/dd22ed1bf1896c2748f3fe616ce0b838adc895c1-katex.min.js"
                },
                {
                 "name": null,
                 "type": "css",
                 "url": "/assetserver/46517a424aa5e6cffc1360d7e0848b601c584ee3-katex.min.css"
                }
               ],
               "type": "async_block"
              },
              "mount_callbacks": [
               "function () {\n    var handler = ((function (k){this.k=k; this.container=this.dom.querySelector(\"#container\"); return k.render(\"\\\\;\\\\;\",this.container)}));\n    (WebIO.importBlock({\"data\":[{\"name\":null,\"type\":\"js\",\"url\":\"/assetserver/dd22ed1bf1896c2748f3fe616ce0b838adc895c1-katex.min.js\"},{\"name\":null,\"type\":\"css\",\"url\":\"/assetserver/46517a424aa5e6cffc1360d7e0848b601c584ee3-katex.min.css\"}],\"type\":\"async_block\"})).then((imports) => handler.apply(this, imports));\n}\n"
              ],
              "observables": {
               "value": {
                "id": "18397926592361969128",
                "sync": false,
                "value": "\\;\\;"
               }
              },
              "systemjs_options": null
             },
             "nodeType": "Scope",
             "props": {},
             "type": "node"
            }
           ],
           "instanceArgs": {
            "namespace": "html",
            "tag": "div"
           },
           "nodeType": "DOM",
           "props": {
            "className": "interact-widget"
           },
           "type": "node"
          },
          {
           "children": [
            {
             "children": [],
             "instanceArgs": {
              "namespace": "html",
              "tag": "div"
             },
             "nodeType": "DOM",
             "props": {
              "className": "webio-observable",
              "setInnerHtml": "<img src='data:image/png;base64,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'></img>"
             },
             "type": "node"
            }
           ],
           "instanceArgs": {
            "handlers": {
             "obs-output": [
              "function (value, scope) {\n    scope.setInnerHTML(value);\n}\n"
             ]
            },
            "id": "4121728831716810804",
            "imports": {
             "data": [],
             "type": "async_block"
            },
            "mount_callbacks": [],
            "observables": {
             "obs-output": {
              "id": "17305322390252465223",
              "sync": false,
              "value": "<img src='data:image/png;base64,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'></img>"
             }
            },
            "systemjs_options": null
           },
           "nodeType": "Scope",
           "props": {},
           "type": "node"
          },
          {
           "children": [
            {
             "children": [
              {
               "children": [],
               "instanceArgs": {
                "namespace": "html",
                "tag": "div"
               },
               "nodeType": "DOM",
               "props": {
                "id": "container"
               },
               "type": "node"
              }
             ],
             "instanceArgs": {
              "handlers": {
               "value": [
                "(function (txt){return this.k.render(txt,this.container)})"
               ]
              },
              "id": "12381872493259935713",
              "imports": {
               "data": [
                {
                 "name": null,
                 "type": "js",
                 "url": "/assetserver/dd22ed1bf1896c2748f3fe616ce0b838adc895c1-katex.min.js"
                },
                {
                 "name": null,
                 "type": "css",
                 "url": "/assetserver/46517a424aa5e6cffc1360d7e0848b601c584ee3-katex.min.css"
                }
               ],
               "type": "async_block"
              },
              "mount_callbacks": [
               "function () {\n    var handler = ((function (k){this.k=k; this.container=this.dom.querySelector(\"#container\"); return k.render(\"\\\\;\\\\;\",this.container)}));\n    (WebIO.importBlock({\"data\":[{\"name\":null,\"type\":\"js\",\"url\":\"/assetserver/dd22ed1bf1896c2748f3fe616ce0b838adc895c1-katex.min.js\"},{\"name\":null,\"type\":\"css\",\"url\":\"/assetserver/46517a424aa5e6cffc1360d7e0848b601c584ee3-katex.min.css\"}],\"type\":\"async_block\"})).then((imports) => handler.apply(this, imports));\n}\n"
              ],
              "observables": {
               "value": {
                "id": "18397926592361969128",
                "sync": false,
                "value": "\\;\\;"
               }
              },
              "systemjs_options": null
             },
             "nodeType": "Scope",
             "props": {},
             "type": "node"
            }
           ],
           "instanceArgs": {
            "namespace": "html",
            "tag": "div"
           },
           "nodeType": "DOM",
           "props": {
            "className": "interact-widget"
           },
           "type": "node"
          },
          {
           "children": [],
           "instanceArgs": {
            "namespace": "html",
            "tag": "div"
           },
           "nodeType": "DOM",
           "props": {
            "style": {
             "display": "flex",
             "flex-direction": "column"
            }
           },
           "type": "node"
          }
         ],
         "instanceArgs": {
          "namespace": "html",
          "tag": "div"
         },
         "nodeType": "DOM",
         "props": {
          "style": {
           "display": "flex",
           "flex-direction": "row"
          }
         },
         "type": "node"
        }
       ],
       "instanceArgs": {
        "namespace": "html",
        "tag": "div"
       },
       "nodeType": "DOM",
       "props": {
        "style": {
         "display": "flex",
         "flex-direction": "column"
        }
       },
       "type": "node"
      },
      "text/html": [
       "<div\n",
       "    class=\"webio-mountpoint\"\n",
       "    data-webio-mountpoint=\"18110935535393226150\"\n",
       ">\n",
       "    <script>\n",
       "    (function(){\n",
       "    // Some integrations (namely, IJulia/Jupyter) use an alternate render pathway than\n",
       "    // just putting the html on the page. If WebIO isn't defined, then it's pretty likely\n",
       "    // that we're in one of those situations and the integration just isn't installed\n",
       "    // correctly.\n",
       "    if (typeof window.WebIO === \"undefined\") {\n",
       "        document\n",
       "            .querySelector('[data-webio-mountpoint=\"18110935535393226150\"]')\n",
       "            .innerHTML = (\n",
       "                '<div style=\"padding: 1em; background-color: #f8d6da; border: 1px solid #f5c6cb; font-weight: bold;\">' +\n",
       "                '<p><strong>WebIO not detected.</strong></p>' +\n",
       "                '<p>Please read ' +\n",
       "                '<a href=\"https://juliagizmos.github.io/WebIO.jl/latest/troubleshooting/not-detected/\" target=\"_blank\">the troubleshooting guide</a> ' +\n",
       "                'for more information on how to resolve this issue.</p>' +\n",
       "                '<p><a href=\"https://juliagizmos.github.io/WebIO.jl/latest/troubleshooting/not-detected/\" target=\"_blank\">https://juliagizmos.github.io/WebIO.jl/latest/troubleshooting/not-detected/</a></p>' +\n",
       "                '</div>'\n",
       "            );\n",
       "        return;\n",
       "    }\n",
       "    WebIO.mount(\n",
       "        document.querySelector('[data-webio-mountpoint=\"18110935535393226150\"]'),\n",
       "        {\"props\":{\"style\":{\"display\":\"flex\",\"flex-direction\":\"column\"}},\"nodeType\":\"DOM\",\"type\":\"node\",\"instanceArgs\":{\"namespace\":\"html\",\"tag\":\"div\"},\"children\":[{\"props\":{\"style\":{\"display\":\"flex\",\"flex-direction\":\"row\"}},\"nodeType\":\"DOM\",\"type\":\"node\",\"instanceArgs\":{\"namespace\":\"html\",\"tag\":\"div\"},\"children\":[{\"props\":{\"style\":{\"display\":\"flex\",\"flex-direction\":\"column\"}},\"nodeType\":\"DOM\",\"type\":\"node\",\"instanceArgs\":{\"namespace\":\"html\",\"tag\":\"div\"},\"children\":[{\"props\":{\"className\":\"field interact-widget\"},\"nodeType\":\"DOM\",\"type\":\"node\",\"instanceArgs\":{\"namespace\":\"html\",\"tag\":\"div\"},\"children\":[{\"props\":{},\"nodeType\":\"Scope\",\"type\":\"node\",\"instanceArgs\":{\"imports\":{\"data\":[{\"name\":\"knockout\",\"type\":\"js\",\"url\":\"\\/assetserver\\/727383f2a47bd31570b7da84eee7b022dd6d7c78-knockout.js\"},{\"name\":\"knockout_punches\",\"type\":\"js\",\"url\":\"\\/assetserver\\/382b41b3b1bd9f26f75861d360bad7f8beea211f-knockout_punches.js\"},{\"name\":null,\"type\":\"js\",\"url\":\"\\/assetserver\\/5ab20f1060420992a9b82a65b735dee4d81ef413-all.js\"},{\"name\":null,\"type\":\"css\",\"url\":\"\\/assetserver\\/1cc0ed62837210b80a182cc3676512f895dab686-style.css\"},{\"name\":null,\"type\":\"css\",\"url\":\"\\/assetserver\\/2eee816f616df3549d7044d45e744fbf8d42bfa1-bulma_confined.min.css\"}],\"type\":\"async_block\"},\"id\":\"10248628804068707359\",\"handlers\":{\"changes\":[\"(function (val){return (val!=this.model[\\\"changes\\\"]()) ? (this.valueFromJulia[\\\"changes\\\"]=true, this.model[\\\"changes\\\"](val)) : undefined})\"],\"index\":[\"(function (val){return (val!=this.model[\\\"index\\\"]()) ? (this.valueFromJulia[\\\"index\\\"]=true, this.model[\\\"index\\\"](val)) : undefined})\"]},\"systemjs_options\":null,\"mount_callbacks\":[\"function () {\\n    var handler = (function (ko, koPunches) {\\n    ko.punches.enableAll();\\n    ko.bindingHandlers.numericValue = {\\n        init: function(element, valueAccessor, allBindings, data, context) {\\n            var stringified = ko.observable(ko.unwrap(valueAccessor()));\\n            stringified.subscribe(function(value) {\\n                var val = parseFloat(value);\\n                if (!isNaN(val)) {\\n                    valueAccessor()(val);\\n                }\\n            });\\n            valueAccessor().subscribe(function(value) {\\n                var str = JSON.stringify(value);\\n                if ((str == \\\"0\\\") && ([\\\"-0\\\", \\\"-0.\\\"].indexOf(stringified()) >= 0))\\n                     return;\\n                 if ([\\\"null\\\", \\\"\\\"].indexOf(str) >= 0)\\n                     return;\\n                stringified(str);\\n            });\\n            ko.applyBindingsToNode(\\n                element,\\n                {\\n                    value: stringified,\\n                    valueUpdate: allBindings.get('valueUpdate'),\\n                },\\n                context,\\n            );\\n        }\\n    };\\n    var json_data = {\\\"formatted_vals\\\":[\\\"1\\\",\\\"2\\\",\\\"3\\\",\\\"4\\\",\\\"5\\\",\\\"6\\\",\\\"7\\\",\\\"8\\\",\\\"9\\\",\\\"10\\\",\\\"11\\\",\\\"12\\\",\\\"13\\\",\\\"14\\\",\\\"15\\\",\\\"16\\\",\\\"17\\\",\\\"18\\\",\\\"19\\\",\\\"20\\\",\\\"21\\\",\\\"22\\\",\\\"23\\\",\\\"24\\\",\\\"25\\\",\\\"26\\\",\\\"27\\\",\\\"28\\\",\\\"29\\\",\\\"30\\\",\\\"31\\\",\\\"32\\\",\\\"33\\\",\\\"34\\\",\\\"35\\\",\\\"36\\\",\\\"37\\\",\\\"38\\\",\\\"39\\\",\\\"40\\\",\\\"41\\\",\\\"42\\\",\\\"43\\\",\\\"44\\\",\\\"45\\\",\\\"46\\\",\\\"47\\\",\\\"48\\\",\\\"49\\\",\\\"50\\\",\\\"51\\\",\\\"52\\\",\\\"53\\\",\\\"54\\\",\\\"55\\\",\\\"56\\\",\\\"57\\\",\\\"58\\\",\\\"59\\\",\\\"60\\\",\\\"61\\\",\\\"62\\\",\\\"63\\\",\\\"64\\\",\\\"65\\\",\\\"66\\\",\\\"67\\\",\\\"68\\\",\\\"69\\\",\\\"70\\\",\\\"71\\\",\\\"72\\\",\\\"73\\\",\\\"74\\\",\\\"75\\\",\\\"76\\\",\\\"77\\\",\\\"78\\\",\\\"79\\\",\\\"80\\\",\\\"81\\\",\\\"82\\\",\\\"83\\\",\\\"84\\\",\\\"85\\\",\\\"86\\\",\\\"87\\\",\\\"88\\\",\\\"89\\\",\\\"90\\\",\\\"91\\\",\\\"92\\\",\\\"93\\\",\\\"94\\\",\\\"95\\\",\\\"96\\\",\\\"97\\\",\\\"98\\\",\\\"99\\\",\\\"100\\\",\\\"101\\\"],\\\"changes\\\":WebIO.getval({\\\"name\\\":\\\"changes\\\",\\\"scope\\\":\\\"10248628804068707359\\\",\\\"id\\\":\\\"13213855696024273578\\\",\\\"type\\\":\\\"observable\\\"}),\\\"index\\\":WebIO.getval({\\\"name\\\":\\\"index\\\",\\\"scope\\\":\\\"10248628804068707359\\\",\\\"id\\\":\\\"9060581866708775241\\\",\\\"type\\\":\\\"observable\\\"})};\\n    var self = this;\\n    function AppViewModel() {\\n        for (var key in json_data) {\\n            var el = json_data[key];\\n            this[key] = Array.isArray(el) ? ko.observableArray(el) : ko.observable(el);\\n        }\\n        \\n        [this[\\\"formatted_val\\\"]=ko.computed(    function(){\\n        return this.formatted_vals()[parseInt(this.index())-(1)];\\n    }\\n,this)]\\n        [this[\\\"changes\\\"].subscribe((function (val){!(this.valueFromJulia[\\\"changes\\\"]) ? (WebIO.setval({\\\"name\\\":\\\"changes\\\",\\\"scope\\\":\\\"10248628804068707359\\\",\\\"id\\\":\\\"13213855696024273578\\\",\\\"type\\\":\\\"observable\\\"},val)) : undefined; return this.valueFromJulia[\\\"changes\\\"]=false}),self),this[\\\"index\\\"].subscribe((function (val){!(this.valueFromJulia[\\\"index\\\"]) ? (WebIO.setval({\\\"name\\\":\\\"index\\\",\\\"scope\\\":\\\"10248628804068707359\\\",\\\"id\\\":\\\"9060581866708775241\\\",\\\"type\\\":\\\"observable\\\"},val)) : undefined; return this.valueFromJulia[\\\"index\\\"]=false}),self)]\\n        \\n    }\\n    self.model = new AppViewModel();\\n    self.valueFromJulia = {};\\n    for (var key in json_data) {\\n        self.valueFromJulia[key] = false;\\n    }\\n    ko.applyBindings(self.model, self.dom);\\n}\\n);\\n    (WebIO.importBlock({\\\"data\\\":[{\\\"name\\\":\\\"knockout\\\",\\\"type\\\":\\\"js\\\",\\\"url\\\":\\\"\\/assetserver\\/727383f2a47bd31570b7da84eee7b022dd6d7c78-knockout.js\\\"},{\\\"name\\\":\\\"knockout_punches\\\",\\\"type\\\":\\\"js\\\",\\\"url\\\":\\\"\\/assetserver\\/382b41b3b1bd9f26f75861d360bad7f8beea211f-knockout_punches.js\\\"}],\\\"type\\\":\\\"async_block\\\"})).then((imports) => handler.apply(this, imports));\\n}\\n\"],\"observables\":{\"changes\":{\"sync\":false,\"id\":\"13213855696024273578\",\"value\":0},\"index\":{\"sync\":true,\"id\":\"9060581866708775241\",\"value\":51}}},\"children\":[{\"props\":{\"className\":\"interact-flex-row interact-widget\"},\"nodeType\":\"DOM\",\"type\":\"node\",\"instanceArgs\":{\"namespace\":\"html\",\"tag\":\"div\"},\"children\":[{\"props\":{\"className\":\"interact-flex-row-left\"},\"nodeType\":\"DOM\",\"type\":\"node\",\"instanceArgs\":{\"namespace\":\"html\",\"tag\":\"div\"},\"children\":[{\"props\":{\"className\":\"interact \",\"style\":{\"padding\":\"5px 10px 0px 10px\"}},\"nodeType\":\"DOM\",\"type\":\"node\",\"instanceArgs\":{\"namespace\":\"html\",\"tag\":\"label\"},\"children\":[\"time\"]}]},{\"props\":{\"className\":\"interact-flex-row-center\"},\"nodeType\":\"DOM\",\"type\":\"node\",\"instanceArgs\":{\"namespace\":\"html\",\"tag\":\"div\"},\"children\":[{\"props\":{\"max\":101,\"min\":1,\"attributes\":{\"type\":\"range\",\"data-bind\":\"numericValue: index, valueUpdate: 'input', event: {change: function (){this.changes(this.changes()+1)}}\",\"orient\":\"horizontal\"},\"step\":1,\"className\":\"slider slider is-fullwidth\",\"style\":{}},\"nodeType\":\"DOM\",\"type\":\"node\",\"instanceArgs\":{\"namespace\":\"html\",\"tag\":\"input\"},\"children\":[]}]},{\"props\":{\"className\":\"interact-flex-row-right\"},\"nodeType\":\"DOM\",\"type\":\"node\",\"instanceArgs\":{\"namespace\":\"html\",\"tag\":\"div\"},\"children\":[{\"props\":{\"attributes\":{\"data-bind\":\"text: formatted_val\"}},\"nodeType\":\"DOM\",\"type\":\"node\",\"instanceArgs\":{\"namespace\":\"html\",\"tag\":\"p\"},\"children\":[]}]}]}]}]},{\"props\":{\"className\":\"field interact-widget\"},\"nodeType\":\"DOM\",\"type\":\"node\",\"instanceArgs\":{\"namespace\":\"html\",\"tag\":\"div\"},\"children\":[{\"props\":{},\"nodeType\":\"Scope\",\"type\":\"node\",\"instanceArgs\":{\"imports\":{\"data\":[{\"name\":\"knockout\",\"type\":\"js\",\"url\":\"\\/assetserver\\/727383f2a47bd31570b7da84eee7b022dd6d7c78-knockout.js\"},{\"name\":\"knockout_punches\",\"type\":\"js\",\"url\":\"\\/assetserver\\/382b41b3b1bd9f26f75861d360bad7f8beea211f-knockout_punches.js\"},{\"name\":null,\"type\":\"js\",\"url\":\"\\/assetserver\\/5ab20f1060420992a9b82a65b735dee4d81ef413-all.js\"},{\"name\":null,\"type\":\"css\",\"url\":\"\\/assetserver\\/1cc0ed62837210b80a182cc3676512f895dab686-style.css\"},{\"name\":null,\"type\":\"css\",\"url\":\"\\/assetserver\\/2eee816f616df3549d7044d45e744fbf8d42bfa1-bulma_confined.min.css\"}],\"type\":\"async_block\"},\"id\":\"13978494324666766514\",\"handlers\":{\"changes\":[\"(function (val){return (val!=this.model[\\\"changes\\\"]()) ? (this.valueFromJulia[\\\"changes\\\"]=true, this.model[\\\"changes\\\"](val)) : undefined})\"],\"index\":[\"(function (val){return (val!=this.model[\\\"index\\\"]()) ? (this.valueFromJulia[\\\"index\\\"]=true, this.model[\\\"index\\\"](val)) : undefined})\"]},\"systemjs_options\":null,\"mount_callbacks\":[\"function () {\\n    var handler = (function (ko, koPunches) {\\n    ko.punches.enableAll();\\n    ko.bindingHandlers.numericValue = {\\n        init: function(element, valueAccessor, allBindings, data, context) {\\n            var stringified = ko.observable(ko.unwrap(valueAccessor()));\\n            stringified.subscribe(function(value) {\\n                var val = parseFloat(value);\\n                if (!isNaN(val)) {\\n                    valueAccessor()(val);\\n                }\\n            });\\n            valueAccessor().subscribe(function(value) {\\n                var str = JSON.stringify(value);\\n                if ((str == \\\"0\\\") && ([\\\"-0\\\", \\\"-0.\\\"].indexOf(stringified()) >= 0))\\n                     return;\\n                 if ([\\\"null\\\", \\\"\\\"].indexOf(str) >= 0)\\n                     return;\\n                stringified(str);\\n            });\\n            ko.applyBindingsToNode(\\n                element,\\n                {\\n                    value: stringified,\\n                    valueUpdate: allBindings.get('valueUpdate'),\\n                },\\n                context,\\n            );\\n        }\\n    };\\n    var json_data = {\\\"formatted_vals\\\":[\\\"0.1\\\",\\\"0.2\\\",\\\"0.3\\\",\\\"0.4\\\",\\\"0.5\\\",\\\"0.6\\\",\\\"0.7\\\",\\\"0.8\\\",\\\"0.9\\\",\\\"1.0\\\",\\\"1.1\\\",\\\"1.2\\\",\\\"1.3\\\",\\\"1.4\\\",\\\"1.5\\\",\\\"1.6\\\",\\\"1.7\\\",\\\"1.8\\\",\\\"1.9\\\",\\\"2.0\\\"],\\\"changes\\\":WebIO.getval({\\\"name\\\":\\\"changes\\\",\\\"scope\\\":\\\"13978494324666766514\\\",\\\"id\\\":\\\"3505517828125054341\\\",\\\"type\\\":\\\"observable\\\"}),\\\"index\\\":WebIO.getval({\\\"name\\\":\\\"index\\\",\\\"scope\\\":\\\"13978494324666766514\\\",\\\"id\\\":\\\"486702438420721145\\\",\\\"type\\\":\\\"observable\\\"})};\\n    var self = this;\\n    function AppViewModel() {\\n        for (var key in json_data) {\\n            var el = json_data[key];\\n            this[key] = Array.isArray(el) ? ko.observableArray(el) : ko.observable(el);\\n        }\\n        \\n        [this[\\\"formatted_val\\\"]=ko.computed(    function(){\\n        return this.formatted_vals()[parseInt(this.index())-(1)];\\n    }\\n,this)]\\n        [this[\\\"changes\\\"].subscribe((function (val){!(this.valueFromJulia[\\\"changes\\\"]) ? (WebIO.setval({\\\"name\\\":\\\"changes\\\",\\\"scope\\\":\\\"13978494324666766514\\\",\\\"id\\\":\\\"3505517828125054341\\\",\\\"type\\\":\\\"observable\\\"},val)) : undefined; return this.valueFromJulia[\\\"changes\\\"]=false}),self),this[\\\"index\\\"].subscribe((function (val){!(this.valueFromJulia[\\\"index\\\"]) ? (WebIO.setval({\\\"name\\\":\\\"index\\\",\\\"scope\\\":\\\"13978494324666766514\\\",\\\"id\\\":\\\"486702438420721145\\\",\\\"type\\\":\\\"observable\\\"},val)) : undefined; return this.valueFromJulia[\\\"index\\\"]=false}),self)]\\n        \\n    }\\n    self.model = new AppViewModel();\\n    self.valueFromJulia = {};\\n    for (var key in json_data) {\\n        self.valueFromJulia[key] = false;\\n    }\\n    ko.applyBindings(self.model, self.dom);\\n}\\n);\\n    (WebIO.importBlock({\\\"data\\\":[{\\\"name\\\":\\\"knockout\\\",\\\"type\\\":\\\"js\\\",\\\"url\\\":\\\"\\/assetserver\\/727383f2a47bd31570b7da84eee7b022dd6d7c78-knockout.js\\\"},{\\\"name\\\":\\\"knockout_punches\\\",\\\"type\\\":\\\"js\\\",\\\"url\\\":\\\"\\/assetserver\\/382b41b3b1bd9f26f75861d360bad7f8beea211f-knockout_punches.js\\\"}],\\\"type\\\":\\\"async_block\\\"})).then((imports) => handler.apply(this, imports));\\n}\\n\"],\"observables\":{\"changes\":{\"sync\":false,\"id\":\"3505517828125054341\",\"value\":0},\"index\":{\"sync\":true,\"id\":\"486702438420721145\",\"value\":10}}},\"children\":[{\"props\":{\"className\":\"interact-flex-row interact-widget\"},\"nodeType\":\"DOM\",\"type\":\"node\",\"instanceArgs\":{\"namespace\":\"html\",\"tag\":\"div\"},\"children\":[{\"props\":{\"className\":\"interact-flex-row-left\"},\"nodeType\":\"DOM\",\"type\":\"node\",\"instanceArgs\":{\"namespace\":\"html\",\"tag\":\"div\"},\"children\":[{\"props\":{\"className\":\"interact \",\"style\":{\"padding\":\"5px 10px 0px 10px\"}},\"nodeType\":\"DOM\",\"type\":\"node\",\"instanceArgs\":{\"namespace\":\"html\",\"tag\":\"label\"},\"children\":[\"scale\"]}]},{\"props\":{\"className\":\"interact-flex-row-center\"},\"nodeType\":\"DOM\",\"type\":\"node\",\"instanceArgs\":{\"namespace\":\"html\",\"tag\":\"div\"},\"children\":[{\"props\":{\"max\":20,\"min\":1,\"attributes\":{\"type\":\"range\",\"data-bind\":\"numericValue: index, valueUpdate: 'input', event: {change: function (){this.changes(this.changes()+1)}}\",\"orient\":\"horizontal\"},\"step\":1,\"className\":\"slider slider is-fullwidth\",\"style\":{}},\"nodeType\":\"DOM\",\"type\":\"node\",\"instanceArgs\":{\"namespace\":\"html\",\"tag\":\"input\"},\"children\":[]}]},{\"props\":{\"className\":\"interact-flex-row-right\"},\"nodeType\":\"DOM\",\"type\":\"node\",\"instanceArgs\":{\"namespace\":\"html\",\"tag\":\"div\"},\"children\":[{\"props\":{\"attributes\":{\"data-bind\":\"text: formatted_val\"}},\"nodeType\":\"DOM\",\"type\":\"node\",\"instanceArgs\":{\"namespace\":\"html\",\"tag\":\"p\"},\"children\":[]}]}]}]}]},{\"props\":{\"style\":{\"display\":\"flex\",\"flex-direction\":\"row\"}},\"nodeType\":\"DOM\",\"type\":\"node\",\"instanceArgs\":{\"namespace\":\"html\",\"tag\":\"div\"},\"children\":[{\"props\":{\"className\":\"interact-widget\"},\"nodeType\":\"DOM\",\"type\":\"node\",\"instanceArgs\":{\"namespace\":\"html\",\"tag\":\"div\"},\"children\":[{\"props\":{},\"nodeType\":\"Scope\",\"type\":\"node\",\"instanceArgs\":{\"imports\":{\"data\":[{\"name\":null,\"type\":\"js\",\"url\":\"\\/assetserver\\/dd22ed1bf1896c2748f3fe616ce0b838adc895c1-katex.min.js\"},{\"name\":null,\"type\":\"css\",\"url\":\"\\/assetserver\\/46517a424aa5e6cffc1360d7e0848b601c584ee3-katex.min.css\"}],\"type\":\"async_block\"},\"id\":\"12381872493259935713\",\"handlers\":{\"value\":[\"(function (txt){return this.k.render(txt,this.container)})\"]},\"systemjs_options\":null,\"mount_callbacks\":[\"function () {\\n    var handler = ((function (k){this.k=k; this.container=this.dom.querySelector(\\\"#container\\\"); return k.render(\\\"\\\\\\\\;\\\\\\\\;\\\",this.container)}));\\n    (WebIO.importBlock({\\\"data\\\":[{\\\"name\\\":null,\\\"type\\\":\\\"js\\\",\\\"url\\\":\\\"\\/assetserver\\/dd22ed1bf1896c2748f3fe616ce0b838adc895c1-katex.min.js\\\"},{\\\"name\\\":null,\\\"type\\\":\\\"css\\\",\\\"url\\\":\\\"\\/assetserver\\/46517a424aa5e6cffc1360d7e0848b601c584ee3-katex.min.css\\\"}],\\\"type\\\":\\\"async_block\\\"})).then((imports) => handler.apply(this, imports));\\n}\\n\"],\"observables\":{\"value\":{\"sync\":false,\"id\":\"18397926592361969128\",\"value\":\"\\\\;\\\\;\"}}},\"children\":[{\"props\":{\"id\":\"container\"},\"nodeType\":\"DOM\",\"type\":\"node\",\"instanceArgs\":{\"namespace\":\"html\",\"tag\":\"div\"},\"children\":[]}]}]},{\"props\":{\"className\":\"field interact-widget\"},\"nodeType\":\"DOM\",\"type\":\"node\",\"instanceArgs\":{\"namespace\":\"html\",\"tag\":\"div\"},\"children\":[{\"props\":{},\"nodeType\":\"Scope\",\"type\":\"node\",\"instanceArgs\":{\"imports\":{\"data\":[{\"name\":\"knockout\",\"type\":\"js\",\"url\":\"\\/assetserver\\/727383f2a47bd31570b7da84eee7b022dd6d7c78-knockout.js\"},{\"name\":\"knockout_punches\",\"type\":\"js\",\"url\":\"\\/assetserver\\/382b41b3b1bd9f26f75861d360bad7f8beea211f-knockout_punches.js\"},{\"name\":null,\"type\":\"js\",\"url\":\"\\/assetserver\\/5ab20f1060420992a9b82a65b735dee4d81ef413-all.js\"},{\"name\":null,\"type\":\"css\",\"url\":\"\\/assetserver\\/1cc0ed62837210b80a182cc3676512f895dab686-style.css\"},{\"name\":null,\"type\":\"css\",\"url\":\"\\/assetserver\\/2eee816f616df3549d7044d45e744fbf8d42bfa1-bulma_confined.min.css\"}],\"type\":\"async_block\"},\"id\":\"1794856719332087764\",\"handlers\":{\"loading\":[\"(function (val){return (val!=this.model[\\\"loading\\\"]()) ? (this.valueFromJulia[\\\"loading\\\"]=true, this.model[\\\"loading\\\"](val)) : undefined})\"],\"clicks\":[\"(function (val){return (val!=this.model[\\\"clicks\\\"]()) ? (this.valueFromJulia[\\\"clicks\\\"]=true, this.model[\\\"clicks\\\"](val)) : undefined})\"]},\"systemjs_options\":null,\"mount_callbacks\":[\"function () {\\n    var handler = (function (ko, koPunches) {\\n    ko.punches.enableAll();\\n    ko.bindingHandlers.numericValue = {\\n        init: function(element, valueAccessor, allBindings, data, context) {\\n            var stringified = ko.observable(ko.unwrap(valueAccessor()));\\n            stringified.subscribe(function(value) {\\n                var val = parseFloat(value);\\n                if (!isNaN(val)) {\\n                    valueAccessor()(val);\\n                }\\n            });\\n            valueAccessor().subscribe(function(value) {\\n                var str = JSON.stringify(value);\\n                if ((str == \\\"0\\\") && ([\\\"-0\\\", \\\"-0.\\\"].indexOf(stringified()) >= 0))\\n                     return;\\n                 if ([\\\"null\\\", \\\"\\\"].indexOf(str) >= 0)\\n                     return;\\n                stringified(str);\\n            });\\n            ko.applyBindingsToNode(\\n                element,\\n                {\\n                    value: stringified,\\n                    valueUpdate: allBindings.get('valueUpdate'),\\n                },\\n                context,\\n            );\\n        }\\n    };\\n    var json_data = {\\\"loading\\\":WebIO.getval({\\\"name\\\":\\\"loading\\\",\\\"scope\\\":\\\"1794856719332087764\\\",\\\"id\\\":\\\"8633495959867609740\\\",\\\"type\\\":\\\"observable\\\"}),\\\"clicks\\\":WebIO.getval({\\\"name\\\":\\\"clicks\\\",\\\"scope\\\":\\\"1794856719332087764\\\",\\\"id\\\":\\\"16203304872543140388\\\",\\\"type\\\":\\\"observable\\\"})};\\n    var self = this;\\n    function AppViewModel() {\\n        for (var key in json_data) {\\n            var el = json_data[key];\\n            this[key] = Array.isArray(el) ? ko.observableArray(el) : ko.observable(el);\\n        }\\n        \\n        \\n        [this[\\\"loading\\\"].subscribe((function (val){!(this.valueFromJulia[\\\"loading\\\"]) ? (WebIO.setval({\\\"name\\\":\\\"loading\\\",\\\"scope\\\":\\\"1794856719332087764\\\",\\\"id\\\":\\\"8633495959867609740\\\",\\\"type\\\":\\\"observable\\\"},val)) : undefined; return this.valueFromJulia[\\\"loading\\\"]=false}),self),this[\\\"clicks\\\"].subscribe((function (val){!(this.valueFromJulia[\\\"clicks\\\"]) ? (WebIO.setval({\\\"name\\\":\\\"clicks\\\",\\\"scope\\\":\\\"1794856719332087764\\\",\\\"id\\\":\\\"16203304872543140388\\\",\\\"type\\\":\\\"observable\\\"},val)) : undefined; return this.valueFromJulia[\\\"clicks\\\"]=false}),self)]\\n        \\n    }\\n    self.model = new AppViewModel();\\n    self.valueFromJulia = {};\\n    for (var key in json_data) {\\n        self.valueFromJulia[key] = false;\\n    }\\n    ko.applyBindings(self.model, self.dom);\\n}\\n);\\n    (WebIO.importBlock({\\\"data\\\":[{\\\"name\\\":\\\"knockout\\\",\\\"type\\\":\\\"js\\\",\\\"url\\\":\\\"\\/assetserver\\/727383f2a47bd31570b7da84eee7b022dd6d7c78-knockout.js\\\"},{\\\"name\\\":\\\"knockout_punches\\\",\\\"type\\\":\\\"js\\\",\\\"url\\\":\\\"\\/assetserver\\/382b41b3b1bd9f26f75861d360bad7f8beea211f-knockout_punches.js\\\"}],\\\"type\\\":\\\"async_block\\\"})).then((imports) => handler.apply(this, imports));\\n}\\n\"],\"observables\":{\"loading\":{\"sync\":false,\"id\":\"8633495959867609740\",\"value\":false},\"clicks\":{\"sync\":true,\"id\":\"16203304872543140388\",\"value\":0}}},\"children\":[{\"props\":{\"attributes\":{\"data-bind\":\"click: function (){this.clicks(this.clicks()+1)}, css: {'is-loading' : loading}\"},\"className\":\"is-medium button is-primary\",\"style\":{}},\"nodeType\":\"DOM\",\"type\":\"node\",\"instanceArgs\":{\"namespace\":\"html\",\"tag\":\"button\"},\"children\":[\"run\"]}]}]},{\"props\":{\"className\":\"interact-widget\"},\"nodeType\":\"DOM\",\"type\":\"node\",\"instanceArgs\":{\"namespace\":\"html\",\"tag\":\"div\"},\"children\":[{\"props\":{},\"nodeType\":\"Scope\",\"type\":\"node\",\"instanceArgs\":{\"imports\":{\"data\":[{\"name\":null,\"type\":\"js\",\"url\":\"\\/assetserver\\/dd22ed1bf1896c2748f3fe616ce0b838adc895c1-katex.min.js\"},{\"name\":null,\"type\":\"css\",\"url\":\"\\/assetserver\\/46517a424aa5e6cffc1360d7e0848b601c584ee3-katex.min.css\"}],\"type\":\"async_block\"},\"id\":\"12381872493259935713\",\"handlers\":{\"value\":[\"(function (txt){return this.k.render(txt,this.container)})\"]},\"systemjs_options\":null,\"mount_callbacks\":[\"function () {\\n    var handler = ((function (k){this.k=k; this.container=this.dom.querySelector(\\\"#container\\\"); return k.render(\\\"\\\\\\\\;\\\\\\\\;\\\",this.container)}));\\n    (WebIO.importBlock({\\\"data\\\":[{\\\"name\\\":null,\\\"type\\\":\\\"js\\\",\\\"url\\\":\\\"\\/assetserver\\/dd22ed1bf1896c2748f3fe616ce0b838adc895c1-katex.min.js\\\"},{\\\"name\\\":null,\\\"type\\\":\\\"css\\\",\\\"url\\\":\\\"\\/assetserver\\/46517a424aa5e6cffc1360d7e0848b601c584ee3-katex.min.css\\\"}],\\\"type\\\":\\\"async_block\\\"})).then((imports) => handler.apply(this, imports));\\n}\\n\"],\"observables\":{\"value\":{\"sync\":false,\"id\":\"18397926592361969128\",\"value\":\"\\\\;\\\\;\"}}},\"children\":[{\"props\":{\"id\":\"container\"},\"nodeType\":\"DOM\",\"type\":\"node\",\"instanceArgs\":{\"namespace\":\"html\",\"tag\":\"div\"},\"children\":[]}]}]},{\"props\":{\"className\":\"field interact-widget\"},\"nodeType\":\"DOM\",\"type\":\"node\",\"instanceArgs\":{\"namespace\":\"html\",\"tag\":\"div\"},\"children\":[{\"props\":{},\"nodeType\":\"Scope\",\"type\":\"node\",\"instanceArgs\":{\"imports\":{\"data\":[{\"name\":\"knockout\",\"type\":\"js\",\"url\":\"\\/assetserver\\/727383f2a47bd31570b7da84eee7b022dd6d7c78-knockout.js\"},{\"name\":\"knockout_punches\",\"type\":\"js\",\"url\":\"\\/assetserver\\/382b41b3b1bd9f26f75861d360bad7f8beea211f-knockout_punches.js\"},{\"name\":null,\"type\":\"js\",\"url\":\"\\/assetserver\\/5ab20f1060420992a9b82a65b735dee4d81ef413-all.js\"},{\"name\":null,\"type\":\"css\",\"url\":\"\\/assetserver\\/1cc0ed62837210b80a182cc3676512f895dab686-style.css\"},{\"name\":null,\"type\":\"css\",\"url\":\"\\/assetserver\\/2eee816f616df3549d7044d45e744fbf8d42bfa1-bulma_confined.min.css\"}],\"type\":\"async_block\"},\"id\":\"7302939970083214056\",\"handlers\":{\"loading\":[\"(function (val){return (val!=this.model[\\\"loading\\\"]()) ? (this.valueFromJulia[\\\"loading\\\"]=true, this.model[\\\"loading\\\"](val)) : undefined})\"],\"clicks\":[\"(function (val){return (val!=this.model[\\\"clicks\\\"]()) ? (this.valueFromJulia[\\\"clicks\\\"]=true, this.model[\\\"clicks\\\"](val)) : undefined})\"]},\"systemjs_options\":null,\"mount_callbacks\":[\"function () {\\n    var handler = (function (ko, koPunches) {\\n    ko.punches.enableAll();\\n    ko.bindingHandlers.numericValue = {\\n        init: function(element, valueAccessor, allBindings, data, context) {\\n            var stringified = ko.observable(ko.unwrap(valueAccessor()));\\n            stringified.subscribe(function(value) {\\n                var val = parseFloat(value);\\n                if (!isNaN(val)) {\\n                    valueAccessor()(val);\\n                }\\n            });\\n            valueAccessor().subscribe(function(value) {\\n                var str = JSON.stringify(value);\\n                if ((str == \\\"0\\\") && ([\\\"-0\\\", \\\"-0.\\\"].indexOf(stringified()) >= 0))\\n                     return;\\n                 if ([\\\"null\\\", \\\"\\\"].indexOf(str) >= 0)\\n                     return;\\n                stringified(str);\\n            });\\n            ko.applyBindingsToNode(\\n                element,\\n                {\\n                    value: stringified,\\n                    valueUpdate: allBindings.get('valueUpdate'),\\n                },\\n                context,\\n            );\\n        }\\n    };\\n    var json_data = {\\\"loading\\\":WebIO.getval({\\\"name\\\":\\\"loading\\\",\\\"scope\\\":\\\"7302939970083214056\\\",\\\"id\\\":\\\"2267030430380211730\\\",\\\"type\\\":\\\"observable\\\"}),\\\"clicks\\\":WebIO.getval({\\\"name\\\":\\\"clicks\\\",\\\"scope\\\":\\\"7302939970083214056\\\",\\\"id\\\":\\\"2164293523933707938\\\",\\\"type\\\":\\\"observable\\\"})};\\n    var self = this;\\n    function AppViewModel() {\\n        for (var key in json_data) {\\n            var el = json_data[key];\\n            this[key] = Array.isArray(el) ? ko.observableArray(el) : ko.observable(el);\\n        }\\n        \\n        \\n        [this[\\\"loading\\\"].subscribe((function (val){!(this.valueFromJulia[\\\"loading\\\"]) ? (WebIO.setval({\\\"name\\\":\\\"loading\\\",\\\"scope\\\":\\\"7302939970083214056\\\",\\\"id\\\":\\\"2267030430380211730\\\",\\\"type\\\":\\\"observable\\\"},val)) : undefined; return this.valueFromJulia[\\\"loading\\\"]=false}),self),this[\\\"clicks\\\"].subscribe((function (val){!(this.valueFromJulia[\\\"clicks\\\"]) ? (WebIO.setval({\\\"name\\\":\\\"clicks\\\",\\\"scope\\\":\\\"7302939970083214056\\\",\\\"id\\\":\\\"2164293523933707938\\\",\\\"type\\\":\\\"observable\\\"},val)) : undefined; return this.valueFromJulia[\\\"clicks\\\"]=false}),self)]\\n        \\n    }\\n    self.model = new AppViewModel();\\n    self.valueFromJulia = {};\\n    for (var key in json_data) {\\n        self.valueFromJulia[key] = false;\\n    }\\n    ko.applyBindings(self.model, self.dom);\\n}\\n);\\n    (WebIO.importBlock({\\\"data\\\":[{\\\"name\\\":\\\"knockout\\\",\\\"type\\\":\\\"js\\\",\\\"url\\\":\\\"\\/assetserver\\/727383f2a47bd31570b7da84eee7b022dd6d7c78-knockout.js\\\"},{\\\"name\\\":\\\"knockout_punches\\\",\\\"type\\\":\\\"js\\\",\\\"url\\\":\\\"\\/assetserver\\/382b41b3b1bd9f26f75861d360bad7f8beea211f-knockout_punches.js\\\"}],\\\"type\\\":\\\"async_block\\\"})).then((imports) => handler.apply(this, imports));\\n}\\n\"],\"observables\":{\"loading\":{\"sync\":false,\"id\":\"2267030430380211730\",\"value\":false},\"clicks\":{\"sync\":true,\"id\":\"2164293523933707938\",\"value\":0}}},\"children\":[{\"props\":{\"attributes\":{\"data-bind\":\"click: function (){this.clicks(this.clicks()+1)}, css: {'is-loading' : loading}\"},\"className\":\"is-medium button is-primary\",\"style\":{}},\"nodeType\":\"DOM\",\"type\":\"node\",\"instanceArgs\":{\"namespace\":\"html\",\"tag\":\"button\"},\"children\":[\"stop\"]}]}]},{\"props\":{\"className\":\"interact-widget\"},\"nodeType\":\"DOM\",\"type\":\"node\",\"instanceArgs\":{\"namespace\":\"html\",\"tag\":\"div\"},\"children\":[{\"props\":{},\"nodeType\":\"Scope\",\"type\":\"node\",\"instanceArgs\":{\"imports\":{\"data\":[{\"name\":null,\"type\":\"js\",\"url\":\"\\/assetserver\\/dd22ed1bf1896c2748f3fe616ce0b838adc895c1-katex.min.js\"},{\"name\":null,\"type\":\"css\",\"url\":\"\\/assetserver\\/46517a424aa5e6cffc1360d7e0848b601c584ee3-katex.min.css\"}],\"type\":\"async_block\"},\"id\":\"12381872493259935713\",\"handlers\":{\"value\":[\"(function (txt){return this.k.render(txt,this.container)})\"]},\"systemjs_options\":null,\"mount_callbacks\":[\"function () {\\n    var handler = ((function (k){this.k=k; this.container=this.dom.querySelector(\\\"#container\\\"); return k.render(\\\"\\\\\\\\;\\\\\\\\;\\\",this.container)}));\\n    (WebIO.importBlock({\\\"data\\\":[{\\\"name\\\":null,\\\"type\\\":\\\"js\\\",\\\"url\\\":\\\"\\/assetserver\\/dd22ed1bf1896c2748f3fe616ce0b838adc895c1-katex.min.js\\\"},{\\\"name\\\":null,\\\"type\\\":\\\"css\\\",\\\"url\\\":\\\"\\/assetserver\\/46517a424aa5e6cffc1360d7e0848b601c584ee3-katex.min.css\\\"}],\\\"type\\\":\\\"async_block\\\"})).then((imports) => handler.apply(this, imports));\\n}\\n\"],\"observables\":{\"value\":{\"sync\":false,\"id\":\"18397926592361969128\",\"value\":\"\\\\;\\\\;\"}}},\"children\":[{\"props\":{\"id\":\"container\"},\"nodeType\":\"DOM\",\"type\":\"node\",\"instanceArgs\":{\"namespace\":\"html\",\"tag\":\"div\"},\"children\":[]}]}]},{\"props\":{\"className\":\"field interact-widget\"},\"nodeType\":\"DOM\",\"type\":\"node\",\"instanceArgs\":{\"namespace\":\"html\",\"tag\":\"div\"},\"children\":[{\"props\":{},\"nodeType\":\"Scope\",\"type\":\"node\",\"instanceArgs\":{\"imports\":{\"data\":[{\"name\":\"knockout\",\"type\":\"js\",\"url\":\"\\/assetserver\\/727383f2a47bd31570b7da84eee7b022dd6d7c78-knockout.js\"},{\"name\":\"knockout_punches\",\"type\":\"js\",\"url\":\"\\/assetserver\\/382b41b3b1bd9f26f75861d360bad7f8beea211f-knockout_punches.js\"},{\"name\":null,\"type\":\"js\",\"url\":\"\\/assetserver\\/5ab20f1060420992a9b82a65b735dee4d81ef413-all.js\"},{\"name\":null,\"type\":\"css\",\"url\":\"\\/assetserver\\/1cc0ed62837210b80a182cc3676512f895dab686-style.css\"},{\"name\":null,\"type\":\"css\",\"url\":\"\\/assetserver\\/2eee816f616df3549d7044d45e744fbf8d42bfa1-bulma_confined.min.css\"}],\"type\":\"async_block\"},\"id\":\"1561832892659082265\",\"handlers\":{\"loading\":[\"(function (val){return (val!=this.model[\\\"loading\\\"]()) ? (this.valueFromJulia[\\\"loading\\\"]=true, this.model[\\\"loading\\\"](val)) : undefined})\"],\"clicks\":[\"(function (val){return (val!=this.model[\\\"clicks\\\"]()) ? (this.valueFromJulia[\\\"clicks\\\"]=true, this.model[\\\"clicks\\\"](val)) : undefined})\"]},\"systemjs_options\":null,\"mount_callbacks\":[\"function () {\\n    var handler = (function (ko, koPunches) {\\n    ko.punches.enableAll();\\n    ko.bindingHandlers.numericValue = {\\n        init: function(element, valueAccessor, allBindings, data, context) {\\n            var stringified = ko.observable(ko.unwrap(valueAccessor()));\\n            stringified.subscribe(function(value) {\\n                var val = parseFloat(value);\\n                if (!isNaN(val)) {\\n                    valueAccessor()(val);\\n                }\\n            });\\n            valueAccessor().subscribe(function(value) {\\n                var str = JSON.stringify(value);\\n                if ((str == \\\"0\\\") && ([\\\"-0\\\", \\\"-0.\\\"].indexOf(stringified()) >= 0))\\n                     return;\\n                 if ([\\\"null\\\", \\\"\\\"].indexOf(str) >= 0)\\n                     return;\\n                stringified(str);\\n            });\\n            ko.applyBindingsToNode(\\n                element,\\n                {\\n                    value: stringified,\\n                    valueUpdate: allBindings.get('valueUpdate'),\\n                },\\n                context,\\n            );\\n        }\\n    };\\n    var json_data = {\\\"loading\\\":WebIO.getval({\\\"name\\\":\\\"loading\\\",\\\"scope\\\":\\\"1561832892659082265\\\",\\\"id\\\":\\\"13047712658361917352\\\",\\\"type\\\":\\\"observable\\\"}),\\\"clicks\\\":WebIO.getval({\\\"name\\\":\\\"clicks\\\",\\\"scope\\\":\\\"1561832892659082265\\\",\\\"id\\\":\\\"14562147560858840170\\\",\\\"type\\\":\\\"observable\\\"})};\\n    var self = this;\\n    function AppViewModel() {\\n        for (var key in json_data) {\\n            var el = json_data[key];\\n            this[key] = Array.isArray(el) ? ko.observableArray(el) : ko.observable(el);\\n        }\\n        \\n        \\n        [this[\\\"loading\\\"].subscribe((function (val){!(this.valueFromJulia[\\\"loading\\\"]) ? (WebIO.setval({\\\"name\\\":\\\"loading\\\",\\\"scope\\\":\\\"1561832892659082265\\\",\\\"id\\\":\\\"13047712658361917352\\\",\\\"type\\\":\\\"observable\\\"},val)) : undefined; return this.valueFromJulia[\\\"loading\\\"]=false}),self),this[\\\"clicks\\\"].subscribe((function (val){!(this.valueFromJulia[\\\"clicks\\\"]) ? (WebIO.setval({\\\"name\\\":\\\"clicks\\\",\\\"scope\\\":\\\"1561832892659082265\\\",\\\"id\\\":\\\"14562147560858840170\\\",\\\"type\\\":\\\"observable\\\"},val)) : undefined; return this.valueFromJulia[\\\"clicks\\\"]=false}),self)]\\n        \\n    }\\n    self.model = new AppViewModel();\\n    self.valueFromJulia = {};\\n    for (var key in json_data) {\\n        self.valueFromJulia[key] = false;\\n    }\\n    ko.applyBindings(self.model, self.dom);\\n}\\n);\\n    (WebIO.importBlock({\\\"data\\\":[{\\\"name\\\":\\\"knockout\\\",\\\"type\\\":\\\"js\\\",\\\"url\\\":\\\"\\/assetserver\\/727383f2a47bd31570b7da84eee7b022dd6d7c78-knockout.js\\\"},{\\\"name\\\":\\\"knockout_punches\\\",\\\"type\\\":\\\"js\\\",\\\"url\\\":\\\"\\/assetserver\\/382b41b3b1bd9f26f75861d360bad7f8beea211f-knockout_punches.js\\\"}],\\\"type\\\":\\\"async_block\\\"})).then((imports) => handler.apply(this, imports));\\n}\\n\"],\"observables\":{\"loading\":{\"sync\":false,\"id\":\"13047712658361917352\",\"value\":false},\"clicks\":{\"sync\":true,\"id\":\"14562147560858840170\",\"value\":0}}},\"children\":[{\"props\":{\"attributes\":{\"data-bind\":\"click: function (){this.clicks(this.clicks()+1)}, css: {'is-loading' : loading}\"},\"className\":\"is-medium button is-primary\",\"style\":{}},\"nodeType\":\"DOM\",\"type\":\"node\",\"instanceArgs\":{\"namespace\":\"html\",\"tag\":\"button\"},\"children\":[\"save\"]}]}]}]}]},{\"props\":{\"className\":\"interact-widget\"},\"nodeType\":\"DOM\",\"type\":\"node\",\"instanceArgs\":{\"namespace\":\"html\",\"tag\":\"div\"},\"children\":[{\"props\":{},\"nodeType\":\"Scope\",\"type\":\"node\",\"instanceArgs\":{\"imports\":{\"data\":[{\"name\":null,\"type\":\"js\",\"url\":\"\\/assetserver\\/dd22ed1bf1896c2748f3fe616ce0b838adc895c1-katex.min.js\"},{\"name\":null,\"type\":\"css\",\"url\":\"\\/assetserver\\/46517a424aa5e6cffc1360d7e0848b601c584ee3-katex.min.css\"}],\"type\":\"async_block\"},\"id\":\"12381872493259935713\",\"handlers\":{\"value\":[\"(function (txt){return this.k.render(txt,this.container)})\"]},\"systemjs_options\":null,\"mount_callbacks\":[\"function () {\\n    var handler = ((function (k){this.k=k; this.container=this.dom.querySelector(\\\"#container\\\"); return k.render(\\\"\\\\\\\\;\\\\\\\\;\\\",this.container)}));\\n    (WebIO.importBlock({\\\"data\\\":[{\\\"name\\\":null,\\\"type\\\":\\\"js\\\",\\\"url\\\":\\\"\\/assetserver\\/dd22ed1bf1896c2748f3fe616ce0b838adc895c1-katex.min.js\\\"},{\\\"name\\\":null,\\\"type\\\":\\\"css\\\",\\\"url\\\":\\\"\\/assetserver\\/46517a424aa5e6cffc1360d7e0848b601c584ee3-katex.min.css\\\"}],\\\"type\\\":\\\"async_block\\\"})).then((imports) => handler.apply(this, imports));\\n}\\n\"],\"observables\":{\"value\":{\"sync\":false,\"id\":\"18397926592361969128\",\"value\":\"\\\\;\\\\;\"}}},\"children\":[{\"props\":{\"id\":\"container\"},\"nodeType\":\"DOM\",\"type\":\"node\",\"instanceArgs\":{\"namespace\":\"html\",\"tag\":\"div\"},\"children\":[]}]}]},{\"props\":{},\"nodeType\":\"Scope\",\"type\":\"node\",\"instanceArgs\":{\"imports\":{\"data\":[],\"type\":\"async_block\"},\"id\":\"7354983917812656633\",\"handlers\":{\"obs-output\":[\"function (value, scope) {\\n    scope.setInnerHTML(value);\\n}\\n\"]},\"systemjs_options\":null,\"mount_callbacks\":[],\"observables\":{\"obs-output\":{\"sync\":false,\"id\":\"6275175634685600764\",\"value\":\"<img src='data:image\\/png;base64,iVBORw0KGgoAAAANSUhEUgAAAa4AAAGuCAIAAABHl3XNAAAABmJLR0QA\\/wD\\/AP+gvaeTAAAgAElEQVR4nO2dXWxUV5qu36Cm5RaG1G1IPDFqgxGGUUVNOTa2Sdn0XWCcGZrpH8TM6KA5ElLTOvgmkQE5Pg0lIiH7DI3UFzNiprGUaDo4Eg25sQgugh3\\/EckTY4EgciohRH3XBaEEQoici2qKIq69d9V6a9VXy\\/t7rlJ7+ctae\\/18VO2f9Tz33XffQVEUJdwsk26AoiiKPJoKFUVRNBUqiqJoKlQURYGmQkVRFGgqVBRFgaZCRVEUaCpUFEWBpkJFURRoKlQURYGmQkVRFGgqVBRFgaZCRVEUaCpUFEUB8IOS\\/np29v9FIrMG1aTTUQDGsalUfTqdNoiNRCL19SnjepPArFFsNB0FEVtPnG+qPiVSLwCRWGZ8mXkFbXNxCK7faPT\\/FP\\/3paXCSGS2vv4PJTYJAFIpADCOTacjX375pUEsuDbPAn8wikUKIGIjxPnORmZF6gUgEsuMLzOvoG0uDsH1WxL6A1lRFEVToaIoiqZCRVEUlHqtsKpobGxsbW1dvXo1gNu3b09MTNy4caPo6PeBN56c\\/iNgGPhFkZEJJPZhXwQRAGmkT+LkYRwuufWlU1tb297evnHjRgBzc3NjY2OZTKYC9TIwY9TV1RWLxWpqagA8ePBgenp6dHTUYlufwLSZm5MySM2rXbt2rV+\\/ftmyZQAeP3587dq1M2fOVKBeL1xNhT\\/96U\\/b2tpyH+vr6+vr6y9fvnzx4sUiom8Dq\\/M+\\/gD4OdAG1AVGTmCiBS25jxFEDuFQF7ra0OYTxdPQ0LB79+7cx5aWlpaWlqGhoYWFBav1MjBjtHfv3pdeein3saamZuvWrWvWrDl16pSVtj6BaTM3J2WQmlc9PT0rV67MfVy2bFlTU1NdXd3g4KDVen1w8gdyY2Nj\\/pzL0dHRsW7duqDo95\\/NgzleAt7zj0wgkZ8Hc2zBln70B9VrTm1tbf58zbFnz54VK1bYq5eBGaOurq78PJijrq6us7OzPO0rBNNmbk7KIDWvdu3alZ8Hc6xatWrnzp326vXHyVTY2tpqUPSEN7yLfuYfuQ\\/7vIr2Y39Qvea0t7d7FRVcftUAM0axWMyrqLm52bxNQTBt5uakDFLzav369V5FGzZssFevP06mwhdeeMGrKHuZxhefawIBlwuex\\/NeRdlLh5ZoamryKspe4qlCmDHKXh8stYiHaTM3J2WQmlfZ64OlFtnGyVToQ9gM9y6eb9jaHLbzdRQnU+E333xjUPSER0ZFAHAHd7yK0jB5r6hIrl696lU0Pz9vr14GZowePHjgVXT\\/\\/n3zNgXBtJmbkzJIzavHjx8bFNnGyVQ4MTFhUPSEYe+iP\\/pHnsRJr6ITOBFUrzljY2NeRePj4\\/bqZWDGaHp62qtoamrKvE1BMG3m5qQMUvPq2rVrXkWC\\/7Q7mQpv3Lhx+fLlxcc\\/\\/vjjmzdvBkX\\/Avi60PFbQIG7afkcxuFP8Mni42MYextvB9VrTiaTGRoaWnz89OnTVftoITNGo6Ojt27dWnz8q6++unTpUnnaVwimzdyclEFqXp05c+bu3buLj9+5c+eDDz6wV68\\/rj5XePHixa+\\/\\/vp7j7MWPefqgPeAn+U9Yv3HwDyYpQ1t\\/ejfj\\/25R6xP4ITVPJhlYWHh+PHjbW1tmzZtAjA3Nzc+Pl61eTALM0anTp3q7Oxsbm7O3ie5f\\/\\/+1NSU1TyYhWkzNydlkJpXg4ODO3fu3LBhQ+4R6\\/n5ecE8CHdTIYAbN24Qj\\/L\\/EvilWWQf+vrQZ1qvOZlMZmRkZGRkpPJVG8OM0ejoaGVeL\\/keTJu5OSmD1LwaHh4eHva5WlVpnPyBrCiKUl40FSqKomgqVBRFKfVaYTodLXVv2FwgSt9XNheb3YvcgEgkwrQ5ir\\/uR10q2Q39jWOZ842moyL1mgXyscz4Sp2vtrky9Zb095W7bZIETAwFQBSoF6o37vvGsg\\/Z562NY1NGgVniTJs5f4VRtSypVH06bbLSmNQAgHZ9CLSZwcU2l0Tl3CaMJ0TK9fEG4WOBgy4XCLUZQl4UJtZFP4mLseo2URRFqRyaChVFUTQVKoqilOm2STdwANgMAJgBBoBzRUd2H8CBzdgMYAYzAxg4V3Rs2OC8GeZjBCSAffjrhoxp4CSKdrlcv359cnIyuzXL6tWrW1tbGxsbi4yV8oQwbWaQcqowsR999NHMzEx2J6Gamprm5uaurq4iY6sNPhUeA97M+xgH4kACOFhE5LE382LjiMcRTyBxsIjYsMF5M8zHCJjAMw6DCHAI6EIRLpcLFy7k732SSqVSqVRHR8e2bdsCY6U8IUybGaScKkzsf\\/zHf3z99dOdTR48ePDxxx9\\/8cUXe\\/fuDYytQsgfyN3PrrEcvcD2oMjuNwvF9qJ3e1Bs2OC8GeZjBCRQyOUCbEGQy+X69esF94C6fPly4JcOKU8I02YGKacKE\\/vRRx\\/l58Ect27dEnlznIdMhQe8i3qCIj1je4JiwwbnzTAfI3i7XBDkcpmcnPQqCty\\/T8oTwrSZQcqpwsTOzMx4FVndU9IeZCr8iXfR5qBIz9jNQbFhg\\/NmmI8RvF0uCHK5MLs6S3lCpHailnKqMLE+O437FFUz9u4gEy4IIjZscA4K9\\/o5bM4NKadK2PoZdCq8YlSULfb8A5+icMJ9WzEfI3i7XBDkcvH5WhH4jUPq2xnTZgYppwoT66Me\\/NGPfuQfW52QqXDAqChb7PkHPkXhhPNmmI8RvF0uCHK5MNehpDwhUtcopZwqTKyPkPrVV1\\/1j61OyFR4DkgUOn4E+DAo8lyiUOwRHPkwKDZscN4M8zECDqOQywUYQ5DDoLGxsaOjY\\/HxrVu3Bt6dlPKEMG1mkHKqMLFdXV11dXWLj\\/\\/N3\\/xNPB73j61O+OcKDwITQA8QAwBMAwNFrLFs5MEJTPSgJ4YYgGlMD2BA82BBOG+G+RgBbUA\\/sD\\/vEesTgXkwy7Zt2+rq6iYmJm7fvg3gxRdfbG1tLTKnSHlCmDYzSDlVmNi9e\\/eOjo5OTU1l75P86Ec\\/evXVVx3NgyjT2ybngfOmkefPm8aGDc6bYT5GQB9MXS7r1q0zziNSnhCmzQxSThUmtrOzs7Oz0yy22tB3kBVFUTQVKoqiaCpUFEVBJd0mjCdEyvWRJnwscNDlAqE2mwXKxrroJ3ExtkrdJknGT5Kqj5i6EVL1qVkjj0Q0HY0zjhHO52Acy5wviDbX16cMAmVhHCMAQuUncRGmn6OlJMPSUiHjCXHRTyLloJDqZxd9Hepy0diyoNcKFUVRNBUqiqJoKlQURUEllfAF6erqisVi2V0uHjx4MD09XfwWuFJeFCnnBgPT5hs3\\/mv16n+orV0J4N69b7\\/55v1164rdsV2urxiXizlS59ve3v7qq6\\/W1tYC+Pbbb6empsbHxytQL3O+zNq3gWQq3Lt370svvZT7WFNTs3Xr1jVr1pw6dSowVsqLIuXcYGDafOvW\\/Lp1G3Ifa2tXrlv3v778svnllzdZrZeDcbmYI3W+u3fvbmhoyH1cuXLlT3\\/605dffvndd9+1Wi9zvszat4TYD+Surq78vshRV1cX+FajlBdFyrnBwLT5xo3\\/qqvbsPj4yy9vvHnz3+3Vy8G4XMyROt\\/29vb8PJhj7dq1BdtTLpjzZda+PcRSYSwW8yry2Qoti5QXRWo\\/OwamzatX\\/4NX0Qsv\\/KO9ejkYl4s5Uufrszmg1X0DmfNl1r49xFKhzy64PkVZpLwoUs4NBqbNK1bUehettFcvB+NyMUfqfFesWOFVlL10aAnmfJm1b4+ldgdZyoviogtCqs1yfRW285XB0fMVS4U+Wqz79+\\/7x0p5UaScGwxMmzOZe15F9+59a69eDsblYo7U+d675zNGnkU8zPkya98eYqlwenraqyjQoyrlRZFybjAwbf7mm\\/e9iv785\\/+2Vy8H43IxR+p8fRaLj9aZhzlfZu3bQywVjo6O3rp1a\\/Hxr7766tKlS\\/6xUl4UKecGA9Pmdev2fvnl1cXHv\\/xybu3a\\/22vXg7G5WKO1PmOj48X\\/P\\/fuHHjk08KemnKA3O+zNq3h+RzhadOners7Gxubs5eK71\\/\\/\\/7U1FSRfSHlRZFybjAwbX755U03b\\/77Cy\\/8Y\\/Y+yb173\\/75z\\/8dmAf5ejkYl4s5Uuf77rvvtrW15R6xvnfv3uTkpNU8mIU5X2btW0L4bZPR0VHjR8ylvChSzg0Gps1r1\\/4r8K\\/Z\\/165EisDbh2XrV4OxuVijtT5jo+PV+b1ku\\/BnC+z9m2w1O4gK4qiGKCpUFEURVOhoihKqdcKGU+Ii34SKQeFVD+76OtQl4vGliW2tFQYJzwhIBwU9XJ+EmMY50Y9cb5JOS8K4wkxCORRP0nxCDpkDAINKC0VSnkkmNiwOTdmgVB5UVz0sbgY66hDpnj0WqGiKIqmQkVRFE2FiqIoEH\\/b5OxZDA7iyhUAiMXQ04MdO4qPNvdXME4GF90mjAeGc1DIOEYYmPN1MVaOBLAPyN6ASgMngcNFRtpYg5Kp8K238M47Tz8mk0gm0duLo0eLiTb3VzBOBhfdJowHhnNQyDhGGJjzdTFWjgmgJe9jBDgEdAHBEgJLa1DsB\\/LZs8\\/kwRyJBM4Hvzxq7q9gnAwuuk0YDwznoJBxjDAw5+tirByJZ\\/Ngji1Av3+kvTUolgoHBz2LBoK3lTP3VzBOBhfdJowHhnNQyDhGGJjzdTFWjn3eRfv9I+2tQbFU+OmnnkVXgjcbNvdXME4GF90mjAeGc1DIOEYYmPN1MVaO572LAp5dt7cGq\\/EO8nPPMdHmXgXGyeCiz0HKAyPlGFGWNuQaFEuFm72\\/GfgUPcHcX8E4GVx0mzAeGM5BIeMYYWDO18VYOe54F6X9I+2tQbFU2ON9vcin6Anm\\/grGyeCi24TxwHAOChnHCANzvi7GynHSu+iEf6S9NSiWCnfsQG9vgeOHDuH11wOjzf0VjJPBRbcJ44HhHBQyjhEG5nxdjJXjMFDQNzAGvO0faW8NSj5XePQoWlsxMICZGQBobkZPTzF5MIu5v4JxMrjoNmE8MJyDQsYxwsCcr4uxcrQB\\/cD+vEesTwTmwSyW1qDw2ybbt2O7+UNm5v4KxsngotuE8cBwDgoZxwgDc74uxsrRB\\/SZRdpYg9V4B1lRFKXCaCpUFEXRVKgoilLqtUIpjwQTGzbnRhQIlRfFRR+Li7FL3iEjfNukyiF9HYw3w9wxAkQkfB1SnhAX\\/SRL3hPyPZgxIvuqeNRt4od6MzTWRqyLnhAX3TUlodcKFUVRNBUqiqJoKlQURUEV3DYx9xsw3oxdu3atX79+2bJlAB4\\/fnzt2rUzZ86U2PJKU1tb297evnHjRgBzc3NjY2OZTKbIWBfPVwo5dw2zFmQ8IVNT3TU1BxoaNgO4eXPm4cOB5uZi1+D169cnJyez28msXr26tbW1sbGxyFjOiVQY2VRo7jdgvBk9PT0rV67MfVy2bFlTU1NdXd2gz87a0jQ0NOzevTv3saWlpaWlZWhoaGFhITDWxfOVQs5dw6wFGU\\/IpUvHXnvt6RqMRuNAPJlMxOPBa\\/DChQtjY2O5j6lUKpVKdXR0bNu2LTCWcyJ5IvgD2dxvwHgzdu3alZ8XcqxatWrnzp1B9cpQW1ubnwdz7NmzZ8WKFf6xLp6vFHLuGmYtyHhCpqa68\\/Ngjni8d2YmYA1ev349Pw\\/muHz5cuAXUs6J5IdgKjT3GzDejPXr13sVbdiwIaheGdrb272KCk7lfFw8Xynk3DXMWpDxhNTUeK7B5csD1uDk5KRXUeCeg5wTyQ\\/BVGjuN2C8GdnrZaUWydLU1ORVlL106IOL5yuFnLuGWQsynpCGBs81mL106AOzEzXnRPJj6S2GcHkzXHSquEjY+tlFzw\\/nRJJMheZ+A8ab8fjxY4MiWa5evepVND8\\/7x\\/r4vlKIeeuYdaCjCfk5k3Phfb55wFr0OcrZ+C3Uc6J5IdgKjT3GzDejGvXrnkVBaYVKQpeY84yPj7uH+vi+Uoh565h1oKMJ+ThQ8+F9uhRwBpkrlFyTiQ\\/BFOhud+A8WacOXPm7t27i4\\/fuXPngw8+CKpXhkwmMzQ0tPj46dOnAx8tdPF8pZBz1zBrQcYT0tx8LpkssAaTySOxWMAabGxs7OjoWHx869atgXeuOSeSH7LPFZr7DRhvxuDg4M6dOzds2JB75Hh+fr7K88LCwsLx48fb2to2bdoEYG5ubnx8vMhHrF08Xynk3DXMWpDxhMTjB2dmJpYv71m7Ngbgxo3pR48G4vGi1uC2bdvq6uomJiZu374N4MUXX2xtbS3yiSXOieSJ+Nsm5n4DxpsxPDw8PDxsWq8MmUxmZGRkZGTEINbF85VCzl3DrAUZT0gs9nQNvvJKabHr1q0zflqTcyIVZundQVYURSkZTYWKoiiaChVFUdRt4oN6MzTWUqyLnhAX3TUl\\/X3lbpuQfgPjeivmRvgeqfrUrFG90XQ0TvgrIOS+YM63Xsi5Qbpryt2cogibQ4apN1rKCq6c20TQbyASOwv8wSgWKbzhoAdmNjJrfL4RIQ+Mi\\/NZnTmW0GuFiqIomgoVRVE0FSqKoqBMt03MHSNu8j7wxpOuewQMA7+oSL3m\\/cy4IBj3RTe6D+DAZmwGMIOZAQycq8jcYDwwTD9LeVEYTwgD48xh+oob38LwqdDcMeImt4H8fYR+APwcaAPqLNdr3s+MC4JxXxzDsTfz2hxHPI54AomDlucG44Fh+lnKi8J4QhgYZw7TV9z4ekL+QDZ3jLjJ+8\\/mwRwvAe\\/ZrNe8nxkXBOO+6Eb3m4Xa3Ive7TbnBuOBYfpZyovCeEIYGGcO01fc+PpBpkJzx4ibvOFd9DOb9Zr3M+OCYPaVO+Dd5h6bc4PxwDD9LOVFYTwhDIwzh+krbnz9IFOhuWPETXyuJ1h9WN28nxkXBOO++Il3mzfbnBuMB4bpZykvitTO24wzh+krbnz9sHcHOVwuCDnM+5lxQVDuC6G5wTk33HN9uIigU4VMheaOETd5ZFTEY97PjAuC+cZxxbthPkU8jAeG6Wepb2eMJ4SBceYwfcWNrx9kKjR3jLiJz+6nf7RZr3k\\/My4Ixn0x4N0wnyIexgPD9LOUF0XqGiXjzGH6ihtfP8hUaO4YcZNfAF8XOn4LKHBXq3yY9zPjgmDcF+dwLlGozUdw5EObc4PxwDD9LOVFYTwhDIwzh+krbnz94C\\/2mztG3KQOeA\\/4Wd4j1n+0nAezmPcz44Jg3BcHcXACEz3oiSEGYBrTAxiwmgezMB4Ypp+lvCiMJ4SBceYwfcWNrydlue9p7hhxk18Cv5So17yfGRcE4744j\\/PnJeYG44Fh+lnKi8J4QhgYZw7TV9z4FkbfQVYURdFUqCiKoqlQURQFlXSbCPoNRGKjAIxio+lo2kEPTDQdNT5fKQ+Mi\\/NZnTmWYktLhVJ+Awayzcax8fqUzxvLPqSNosoC5YFJ1UcId42Mj8VBXwdTr+JDqd8K06FyUECozRBymzCx6vrQ2CqMLR69VqgoiqKpUFEURVOhoigKyvK2CeNVYPwGjK\\/Dhhth6ZIA9gHZC\\/Zp4CRwuMhIF\\/uZmZM\\/\\/vGPd+zY8fzzzwNIp9N\\/+tOfvvjiiwrUy8DUy8R2dXXFYrGamhoADx48mJ6eHh0dNTqD8sCmQsarwPgNGF+HJTfCEmUCaMn7GAEOAV1A8I7BLvYzMyf\\/7u\\/+7pVXXsl9jEQi\\/\\/RP\\/3TlypUPPwx+hVnKi8LUy8Tu3bv3pZdeyn2sqanZunXrmjVrTp06VeIZlA3qBzLjVWD8Boyvw54bYSmSeDYP5tgC9PtHutjPzJz88Y9\\/nJ8Hc2zevLm+vt5evQxMvUxsV1dXfh7MUVdX19nZ6R9rDyoVMl4FZp81xtdhz42wFNnnXbTfP9LFfmbm5A7vqzPd3d326mVg6mViY7GYV1Fzc7N\\/rD2oVMjsRsv4DRhfhz03wlLkee+igGd9XexnZk6uWrXKqyh76dBSvQxMvUxs9vpgqUW2qcY7yIyjQMrXoRSPi\\/0s1WYX63VxfEGmQsarwHyjZHwd9twIS5E73kUB7we62M\\/MnLxzx7Ov0umAvpLyojD1MrEPHjzwKrp\\/\\/75\\/rD2oVMhcL2D8Boyvw54bYSly0rvohH+ki\\/3MzMk\\/\\/elPBkV8vQxMvUzs9PS0V9HU1JR\\/rD2oVMh4FRi\\/AePrsOdGWIocBj4pdHwMeNs\\/0sV+ZubkF198caXQheqZmZlU0C40Ul4Upl4mdnR09NatW4uPf\\/XVV5cuXfKPtQf7XCHjVWD8Boyvw5IbYYnSBvQD+\\/MesT4RmAezuNjPzJz88MMP5+fnu7u78x+xDsyDfL0MTL1M7KlTpzo7O5ubm7P3Se7fvz81NSWYB1GWt00YrwLjN2B8HTbcCEuXPqDPLNLFfmbmZCqV+rd\\/+7fK18vA1MvEjo6Oyr5e8j2q8Q6yoihKhdFUqCiKoqlQURSl1GuFYXNQmAXCWR8LE6uuD411OrZEt0l9atbIQRFNR+OAuTfDQRh\\/RX19yrl6ST8J02ZmXok4VaRcLlI4cb6lpcLZyOwfjBwUSOENB50bEHIySLk+pHws2ubK1IuQzeeS0GuFiqIomgoVRVE0FSqKoqAsb5skkNiHfRFEAKSRPomTh4t2X3B0AweA7F40M8AAcK7ISMbJwLhcmFgGKW+G1Bi5COPqkYLzk5jPDRteFDYVTmCiJW\\/P9wgih3CoC11tRbgvOI4Bb+Z9jANxIAEcDIxknAyMy4WJZZDyZkiNkYswrh4pOD+J+dyw5EWhfiAnkGgp5L7Ygi39Qe4Lju5n+zFHLxDwWjLjZGBcLkwsg5Q3Q2qMXIRx9UjB+UnM54Y9LwqVCvd5uy\\/2B7kvOA54FwVsWMjssci4XJhYBilvhtQYuQjj6pGC85OYzw17XhQqFT7v7b6IBLkvOH7iXRSwjTXjZJDa9ZdBypshNUYuwrh6pOD8JOZzw54XZendQQ6dk8EYufPVMSoWxtXjJmLjS6XCO97ui3SQ+4LD59\\/KgH9GmW9njMuFiWWQ+jYqNUYuwrh6pOD8JOZzw54XhUqFJ73dFyeC3BccPldQAi6uME4GKW8sg5Q3Q2qMXIRx9UjB+UnM54Y9LwqVCg\\/j8CeF3BdjGHu7uD3fTTkHJAodPwJ86B\\/JOBkYlwsTyyDlzZAaIxdhXD1ScH4S87lhz4vCPlfYhrZ+9O\\/H\\/twj1idwwnIezHIQmAB6gOwdpWlgILAfszBOBsblwsQySHkzpMbIRRhXjxScn8R8bljyopThbZM+9PWZui84zgOGj10xTgbG5cLEMkh5M6TGyEUYV48UnJ\\/EfG7Y8KIsvTvIiqIoJaOpUFEURVOhoihKqdcKo+koUibVRNPRtIPODbNAPlbK9SHlY9E2V6Zes0A+1onzLS0V1qfqI6YOChDeDKV4pBwjAKT8JMaQ5+tcvQyC86oylJYK0+l0qBwUcNAFAQf7Kmzn62Ksoz6W4tFrhYqiKJoKFUVRNBUqiqKgLG+buAjjRqitrW1vb9+4cSOAubm5sbGxTCZjsa1PSQD78NeNINPASZTgkDH3SLjI1FR3Tc2BhobNAG7enHn4cKC5uRLnK+VjYep10U9io5\\/DmAoZN0JDQ8Pu3btzH1taWlpaWoaGhhYWFqy09SkTeMadEAEOAV0oyiFj7pFwkUuXjr322tPzjUbjQDyZTMTjds9XysfC1Ouin8RSP4fuBzLjRqitrc3Pgzn27NmzYsWK8rSvMAkUcsgAWxDskDH3SLjI1FR3fh7MEY\\/3zsxYPF8pHwtTr4t+Env9HLpUyLgR2tvbvYoKDk\\/58HTIINghY+6RcJGaGs\\/zXb7c4vlK7UfJ1Ouin8ReP4cuFTJuhKamJq+i7KVDa3g6ZBDskDH3SLhIQ4Pn+WYvHVpCysfC1Ouin8ReP4cuFVrCTeeGi202R2qMwlav1Lwizzd0qZBxI1y9etWraH5+3rxNwXg6ZBDskDH3SLjIzZueJ\\/X55xbPV8rHwtTrop\\/EXj+HLhUyboSCTvcs4+Pj5m0KxtMhg2CHjLlHwkUePvQ8qUePLJ6vlI+FqddFP4m9fg5dKmTcCJlMZmhoaPHx06dPW3608DAKOWSAMQS7E8w9Ei7S3HwumSxwvsnkkVjM4vlK+ViYel30k9jr5zA+V8i4ERYWFo4fP97W1rZp0yYAc3Nz4+PjFXnEug3oB\\/bnPWJ9oog8mMXcI+Ei8fjBmZmJ5ct71q6NAbhxY\\/rRo4F43Pr5SvlYmHpd9JNY6ucwpkJwboRMJjMyMjIyMlLeJhVBH8wdMuYeCReJxZ6e7yuvVK5eKR8LU6+LfhIb\\/Ry6H8iKoiiL0VSoKIqiqVBRFKXUa4Vhc1CYBfKxYeursJ2vi7FO+EmY2BLdJg56MwyiyoJUX9ULOWSk\\/CRJwKRWIArEuTaLxKZS9QaBWZa8n4Sh1G+FTvoNQuWCcLFeEH6SWeAPRrFI4Q2iXgjFujg3ILd+i0evFSqKomgqVBRF0VSoKIqCMr1tIuM3uH79+uTkZHY7itWrV7e2tjY2Nhq0vlR27dq1fv36ZcuWAXj8+PG1a9fOnDlTgXql4DwS5nPj7FkMDuLKFQCIxdDTgx07Sm17pWHaLOVjCZv3xgs+Fcr4DS5cuJC\\/T0wqlUqlUh0dHdu2bSuh7aXT09OzcuXK3Mdly5Y1NTXV1dUNDg5arVcKziNhPjfeegvvvPP0YzKJZBK9vTh6tNiWVx6mzVI+lrB5b3wgfyDL+A2uX79ecL+sy5cvW30DdNeuXfl5MMeqVat27txpr14pOI+E+dw4e\\/aZnJIjkcD5an2RmmmzlI8lbN4bf8hUKOM3mJyc9Cqyujfc+vXrvYo2bNhgr14pOI+E+dzw+YY9UK1bLDJtlvKxhM174w+ZCmX8BlI7BmevD5Za5C6cR8J8bnz6qWfRlWrdeJtps5SPJWzeG3\\/sLeBweTPCBueRMI997jmiWiGYNofNTyIImQpl\\/AY+X0ms2rRUCHsAAB4VSURBVMUeP35sUOQu3Ldv87mx2fsbiU+RLEybpXwsYfPe+EOmQhm\\/gZRz9tq1a15FljVPMnAeCfO50eN9ncqnSBamzVI+lrB5b\\/whU6GM36CxsbGjo2Px8a1btxZxZ9OcM2fO3L17d\\/HxO3fufPDBB\\/bqlYLzSJjPjR070Ntb4PihQ3j99aBqhWDaLOVjCZv3xh\\/+uUIZv8G2bdvq6uomJiZu374N4MUXX2xtbbWaB7MMDg7u3Llzw4YNuUes5+fnl2QezMJ5JMznxtGjaG3FwABmZgCguRk9PdWbB7MwbZbysYTNe+NDWd42kfEbrFu3rgK5bzHDw8PDw8OVr1cKziNhPje2b8d21x5uY9os5WMJm\\/fGiyX4CIiiKEqpaCpUFEXRVKgoilLqtcIl7zcoY6xUX7lYLwg\\/SRSAUWw0HU0T9UIo1sW5YRZY4djSUuGS9xt8Dylfh1I89an6iOmcTNanzL0oRoFZpNYR6cxxzsdS0t+X+q0w7aLfwDlfh4v+Chf7ajYyK+JFcdET4ui8Kh69VqgoiqKpUFEURVOhoigKyvK2CeMnYWCcG1JtZqitrW1vb9+4cSOAubm5sbGxTCYj3aglSAKJfdgXQQRAGumTOHkYh6UbFQCzFphYF\\/0zXrCpkPGTMDDODak2MzQ0NOzevTv3saWlpaWlZWhoaGFhQbBVS48JTLSgJfcxgsghHOpCVxsKiA2qBGYtMLEu+md8oH4gM34SBsa5IdVmhtra2vw8mGPPnj0rVqyofHuWKgkk8vNgji3Y0o\\/+yrenGJi1wMS66J\\/xh0qFjJ+EgdmvUKrNDO3t7V5FBaeyYsY+7PMq2o\\/9lWxJ8TBrgYl10T\\/jD5UKGT8JA+PckGozQ1NTk1dR9tKhUhaex\\/NeRdlLh1UIsxaYWBf9M\\/4stTvIci4IGcJ2vkrxMHODiXXRPwMyFTJ+EgbGuSHVZoarV696FS1JkYAUd3DHqyiNdCVbUjzMWmBiXfTP+EOlQsZPwsA4N6TazDA2NuZVND4+XsmWLG1O4qRX0QmcqGRLiodZC0ysi\\/4Zf6hUyPhJGBjnhlSbGTKZzNDQ0OLjp0+f1kcLy8hhHP4Enyw+Poaxt\\/F2pVtTHMxaYGJd9M\\/4wz5XyPhJGBjnhlSbGRYWFo4fP97W1rZp0yYAc3Nz4+PjmgfLThva+tG\\/H\\/tzj1ifwImqzYNZmLXAxLron\\/GhDG+bMH4SBsa5IdVmhkwmMzIyMjIyIt2QJU4f+vrQJ92K0mDWAhPron\\/Gi6V2B1lRFMUATYWKoiiaChVFUUq9Vrjk\\/Qbfi5Xydbjor3Cxr6LpqIgXxcV15Oi8Kp7SUiHpGRBxI0gRQn8FU69BYBamzfXAG0aVCj5vzZxvEpg1io2moynA2AOD+pRIvSXlwlK\\/Fbrnr4CDPgeov6LoekHMK6lYqb6aBYxdLnAztnj0WqGiKIqmQkVRFE2FiqIoKMvbJkAC2Ie\\/buiWBk6iBBeEeSzjZHCR69evT05OZrcMWb16dWtra2NjY5GxnMuFGV9FKUw3ug\\/gwGZsBjCDmQEMnMM5wfbwqXACz+yBHgEOAV0oygVhHss4GVzkwoUL+fvTpFKpVCrV0dGxbdu2wFjO5cKMr6IU5hiOvYk3cx\\/jiMcRTyBxEAelmkT+QE6gkAsC2IJgF4R5LONkcJHr168X3Kfr8uXLgV+EOZcLM76KUphudOfnwRy96N0OsVeayVTo6YJAsAvCPJZxMrjI5OSkV1HgvnKcy4UZX0UpzAEc8Crqgdhmh2Qq9HRBINgFYR7LOBlchNltmHO5MOOrKIX5CX7iVZS9dCjCUruDrK4PRXGX7yC2fslU6OmCKOLdJPNY5luSi\\/h81Q38Fsy5XJjxVZTCXIGnE8+nyDZkKvR0QSDYBWEeyzgZXIS5Nsq5XJjxVZTCDMDTlOxTZBsyFR5GIRcEMIbgPdDNYxkng4s0NjZ2dHQsPr5169bAO+acy4UZX0UpzDmcSyCx+PgRHPkQH1a+PVn4a4VtwP8F\\/gJ8B3wH\\/AXoBwqs2\\/LGXrx48b333kulUg8fPnz48OEXX3zx7rvvOrdHf\\/Fs27btV7\\/61Zo1a374wx\\/+8Ic\\/XLNmza9+9auurq5iYk+dOvXxxx\\/nfinfv38\\/mUz+53\\/+Z3E1M+OrKIU5iIM7sGMUo\\/dw7x7uXcTF7dh+WPTR\\/bK8bdIHcxeEeSzjZHCRdevWGT81yblcmPFVlMKcx\\/nzOC\\/diqcstTvIiqIoBmgqVBRF0VSoKIpS6rVCF\\/0VZoEQ9TmYBfKxjvornIuV6qsoSt7bOUs06wlxMbZoynLbpKohfSwikI4R43rD5kWRQmpOxgmXS5KpmKA+VR8xdgSV0ltL320StjaHzQMTNi+KVKyUFyXCzefi0WuFiqIomgoVRVE0FSqKosDp2yZhc5swyPVVN3AAf92EbgYYQEX8Fb29+P3vkU4DQCSCX\\/8av\\/1tBaolkekrF+FcPYVxNRWGzW3CINdXx\\/DMvu1xIA4kYNlf0dqK\\/G2\\/02kcOYKLFzE+brVaEpm+chHO1eOJkz+Qw+Y2YZDrq24U8lcAvbDpr+jtRUH9wSefoK96X6SW6SsX4Vw9fjiZCsPmNmGQ6ytPfwVs+it+\\/3vPot\\/9zl61JDJ95SKcq8cPJ1Nh2NwmDHJ95emvgE1\\/xR3vjbfT1bvxtkxfuQjn6vHDyVTog7pNikeur3SMikf7qkI4mQrD5jZhkOsrH0mFRX\\/F896SPuL9bNvI9JWLcK4eP5xMhWFzmzDI9ZWPpMKiv+LXv\\/Ys+s1v7FVLItNXLsK5evxwMhWGzW3CINdX51DIXwEcgU1\\/xW9\\/iy1bChxvb8fbb9urlkSmr1yEc\\/X44epzhRcvXvz666+\\/99iw5sGCyPXVQWAC6AGyd\\/2mgYEKrO3xcfT14Xe\\/e\\/qI9W9+U815MItMX7nIqVOnOjs7m5ubs\\/dJ7t+\\/PzU1ReZBuJsKET63CYNcX52HhL+ivx\\/9\\/ZWvlkSmr1yEc\\/UUxskfyIqiKOVFU6GiKIqmQkVRlDC4TcLW5rB5YMLmRZGKlfKiVGw+V+62CeOvkKo3hN4MKT+Jc14UF+sFYBwbr0+JeFEq5oGpnNtEyrnBxKqvo\\/hYF10uYasXQmuB8aK8wc3n4tFrhYqiKJoKFUVRNBUqiqKgTLdNzJ0MUs6N2tra9vb2jRs3ApibmxsbG8tkMhWol+HsWQwO4soVAIjF0NODHTuk2xSE1PhK1WvDuWGb69evT05OZrcpWr16dWtra2NjYwXqTSCxD\\/siiABII30SJw\\/jcAXq9YJPheZOBinnRkNDw+7du3MfW1paWlpahoaGFhYWrNbL8NZbeOedpx+TSSST6O3F0aNybQpCanyl6rXk3LDKhQsXxsbGch9TqVQqlero6Ni2bZvVeicw0YKW3McIIodwqAtdbSggn6gM5A9kcyeDlHOjtrY2Pw\\/m2LNnz4oVK+zVy3D27DN5MEcigfPV+tKq1PhK1WvPuWGP69ev5+fBHJcvX7b6JTqBRH4ezLEFW\\/oh9uo4mQrNnQxSzo329navooJLqBoYHPQsGqjW7eykxleqXnvODXtMFhRiAbC8l+U+7PMq2o\\/99ur1h0yF5k4GKedGU1OTV1H20mEV8umnnkVXqnWTY6nxlarXnnPDHlI7nD8Pz63Gs5cORbB3B9ncySDl3HDRi\\/Lcc9ItKB0dX6UKIVOhuZNB6l+kq1evehXNz8\\/bq5dhs\\/c3bJ8iWaTGV6pee84Ne\\/h8Tbb6DfoOPLWEaYhpCclUaO5kkHJuFLxOnGV8fNxevQw93tddfYpkkRpfqXrtOTfsIXVd9SROehWdwAl79fpDpkJzJ4OUcyOTyQwNDS0+fvr06ap9tHDHDvT2Fjh+6BBef73irSkOqfGVqteec8MejY2NHR0di49v3brV6t32wzj8CT5ZfHwMY2\\/jbXv1+sM\\/V2juZJBybiwsLBw\\/frytrW3Tpk0A5ubmxsfHqzYPZjl6FK2tGBjAzAwANDejp6d682AWqfGVqteSc8Mq27Ztq6urm5iYuH37NoAXX3yxtbXVah7M0oa2fvTvx\\/7cI9YncEIwD6JMb5uYOxmknBuZTGZkZGRkZKTyVRuzfTu2BzysWXVIja9UvTacG7ZZt25dBXLfYvrQ14e+ytfrhb6DrCiKoqlQURRFU6GiKAoq6TaRcm4wserrKD7WRZdL2Oo1CwTdZsaLkubmc\\/GUlgqTgIllAIgC9UaBsjAeiVR9atbIyRBNR+sNwqQR9JNUxn1RRqTmVZxw1xhE5ahP1UdMzzdZnzLOOSU1urRUOBuZNXYURBx0mzCxTF+RPgfnYl30wEg5RlycV0xfMedbEnqtUFEURVOhoiiKpkJFURRUUglfECkHxa5du9avX79s2TIAjx8\\/vnbt2pkzZypQL8PUVHdNzYGGhs0Abt6cefhwoLm5WIeMi0g5N4AEsA9\\/3TgvDZxE0c4NZj4zsd3oPoADm7EZwAxmBjBwrmi\\/EIe514jxwCRuJPat3hepjQBI30uf\\/Obk4XWsF0UyFUo5KHp6elauXJn7uGzZsqamprq6ukGf3aKluXTp2GuvPXUnRKNxIJ5MJuLxYIeMi0g5N4AJPLPXfAQ4BHShCOcGM5+Z2GM49maeVyOOeBzxBBIHi\\/ALcZh7jRgPzMStiZZ1eV6U2sihdYe6vuxqe5nahV7sB7KUg2LXrl35eTDHqlWrdu7caa9ehqmp7vw8mCMe752Zce215CKQcm4ACRRybgBbEOTcYOYzE9uN7jcL+YV60bs9yC\\/EYe41YjwwiRuJlrpCXpSXt\\/TfpLwoYqlQaq+09evXexVt2LDBXr0MNTWeDpnly6t1w0ICKecGvJ0bCHJuMPOZiT3g7RfqCfILcZh7jRgPzL7V3l6UFygvilgqlHJQZK8PllokS0ODp0Mme+lwiSG1EzW8nRsIcm4w85mJ\\/Ym3X2hzkF+Iw9xrxHhgnl\\/h7UVZQXlRqnHxq4OieLSvqh9mjKhYwi\\/E4eScFEuFUv\\/yP3782KBIlps3PUUxn39erco7AinnBrydGwhybjDzmYm94i0R8ikqB+ZeI8YDcyfj7UW5R3lRxFKhlIPi2rVrXkVVq3l6+NBTFPPoUbWKkAmkriPD27mBIOcGM5+Z2AFviZBPUTkw9xoxHpiT33h7Uf5MeVHEUqGUg+LMmTN3795dfPzOnTsffPCBvXoZmpvPJZMFHDLJ5JFYrCh3gltIOTeAwyjk3ADGELTXPDOfmdhzOJco5Bc6giMfFufVMMXca8R4YA6vO\\/zJl4W8KF+Ovb32bf9YfySfK5RyUAwODu7cuXPDhg25R6zn5+erNg9miccPzsxMLF\\/es3ZtDMCNG9OPHg3E40swD2aRcm4AbUA\\/sD\\/vEesTgXkwCzOfmdiDODiBiR70xBADMI3pAQxYzoNPajb1GjEemLaX2\\/pv9u9\\/YX\\/2Pkn6XvrEn0+QeRDib5tIOSiGh4eHh4crXy9DLPbUIfPKK7JtqQRSzg2gD6bODWY+M7Hncf68qV+Iw9xrxHhg+tbmeVFWAgUeFC6ZaryDrCiKUmE0FSqKomgqVBRFKfVaYTQdNXYUuOg2YWKZviJ9Ds7FuuiBkZrPLs4rpq+Y8y3p70tLhXHgjZICnpAGwDkoGG+GQWAWytdhXKscpGPEuF4X\\/SRSSHlC4kaBPMz5liQ3KS0VSnkkmFgpb8YsECoHhYtzg4mVcpswsVJeFMG+Kh69VqgoiqKpUFEURVOhoigKxN82cRNz9wXOAoNPdu6IAT3AjorUSzgoOP8M02YGqXrNYVwutbW17e3tGzduBDA3Nzc2NpbJZCy29Qlnz2JwEFeuAEAshp4e7Ch6Psu5awqjqbBUzN0XeAt4J+9jEkgCvcBRy\\/USDgrOP8O0mUGqXnMYl0tDQ8Pu3btzH1taWlpaWoaGhhYWFqy09QlvvYV38uZzMolkEr29OFrEfJZz13iiP5BLwtx9gbPP5sH8\\/2XwS5xEvYSDgvPPMG1mkKrXHMblUltbm58Hc+zZs2fFihXlaV8hzp59Jg\\/mSCRwPmg+y7lr\\/NBUWBLm7gv42PSCt5Uj6iUcFNy+gUybGaTqNYdxubS3t3sVFfxnrFz42CEHguaznLvGD02FJWHuvsCn3kXBmw0T9RIOCs4\\/w7SZQapec5hdrJuamryKspcOLfGp93y+EjSf5dw1fmgqrAKek6pYxrmhVAapMXpObD5TaCosCXP3hd83sGAxGVEv4aDg\\/vVm2swgVa85jMvl6tWrXkVWBRWbvSetT1EWOXeNH5oKS8LcfeF3XS5YV0vUSzgoOP8M02YGqXrNYa7JFrz\\/kGV8fNy8TUH0eE9an6Iscu4aPzQVloS5+wI7gN5Cxw8Br9usl3BQcP4Zps0MUvWaw7hcMpnM0NDQ4uOnT5+2+mjhjh3oLTSfDx3C60HzWc5d44c+V1gq5u4LHAVagQFgBgDQDPQUkwfpegkHBeefYdrMIFWvOYzLZWFh4fjx421tbZs2bQIwNzc3Pj5egUesjx5FaysGBjAzAwDNzejpCc6DWeTcNZ5oKjTA3H2B7YEP89mpl3BQcP4Zps0MUvWaw7hcMpnMyMjIyMhIeZsUyPbt2G46n+XcNYXRH8iKoiiaChVFUTQVKoqioNRrhVIeCSZWypsRBULloHBxbjCxLrp6pLwoTvTV0r9tQvlJCNdHvD5l7IFJAsYOinrOT+KcY4QZIwAifSXl2wHjCSHcNU6w9N0mTKyLXpRIyPwkUt4Mpq+k5pWL9ULdJoqiKBVDU6GiKIqmQkVRFMdvm8j4KzjXh4uYe1G4WHOqzZuxdDEf366urlgsVlNTA+DBgwfT09Ojo6NFxtpYg+6mQhl\\/Bef6cBFzLwoXa04VejOWKObju3fv3pdeein3saamZuvWrWvWrDl16lRgrKU16OgPZBl\\/Bef6cBFzLwoXa051ejOWIubj29XVlZ8Hc9TV1XV2dvrH2luDjqZCGX9Fde6zZhNzLwoXa051ejOWIubjG4vFvIqam5v9Y+2tQUdToYy\\/gnN9uIi5F4WLNac6vRlLEfPxzV4fLLUoi7016GgqrDrC5\\/pgzjdsfRU2ZMaXXIOOpkIZf0X4vnGYe1G4WHOq05uxFDEf3wcPHngV3b9\\/3z\\/W3hp0NBXK+Cs414eLmHtRuFhzwnc9Vwrz8Z2envYqmpqa8o+1twYdTYUy\\/grO9eEi5l4ULtac6vRmLEXMx3d0dPTWrVuLj3\\/11VeXLl3yj7W3Bt19rlDGX8G5PlzE3IvCxZpThd6MJYr5+J46daqzs7O5uTl7n+T+\\/ftTU1OBeTCLpTXobiqElL+Cc324iLkXhYs1p9q8GUsX8\\/EdHR0t\\/vWS72FjDTr6A1lRFKWcaCpUFEXRVKgoihIGtwkT66IXJWx+EilvBtNXUmPkYr1mgQaxpaXCpJBzI1WfEqnXqM4yUE84KBj3RVJofEE4Rgyickh5bwyixFny51taKpyNzIo4N6TqRcjcF1JOFXD+CufGCCFrs2Bs8ei1QkVRFE2FiqIomgoVRVHg+Nsm5si5L2R8LIyDohvdB3BgMzYDmMHMAAbOVcRPwsC5L8LlzGHWQrX5SRjCmArl3BcyPhbGQXEMx97Mi40jHkc8gcRBy34SBs59ES5nDrMWqtBPwhC6H8hy7gsZHwvjoOhG95uFYnvRu92mn4SBc1+Ey5nDrIXq9JMwhC4VyrkvZHwsjIPigHdsj00\\/CQO3X2G4nDnMWqhOPwlD6FKh3E7UMj4WxkHxE+\\/YzTb9JAyc+yJczhxmLVSnn4QhdKlQycPcBfGdg34SF\\/0zLraZQfB8Q5cK5dwXMj4WxkFxxfsPfIpk4b71h8uZw6yF6vSTMIQuFcpdp5DxsTAOigHvP\\/ApkoVzX4TLmcOsher0kzCELhXKuS9kfCyMg+IcziUKxR7BkQ\\/t78tvBue+CJczh1kL1eknYQjjc4Vy7gsZHwvjoDiIgxOY6EFPDDEA05gewEDV5sEsnPsiXM4cZi1UoZ+EIYypEJLuCxkfC+OgOI\\/z5yX8JAyc+yJczhxmLVSbn4QhdD+QFUVRFqOpUFEURVOhoihKqdcKo+moiHNDql6zQDjroJByqpgF8rEu+jpcbLMTsZW7bUJ5JIh6U\\/WpWaN6o+loHDBus0FUWWAcFPH61BtGlaYBcJ4Qo2pZXPR1SLWZWb8g1lHF5kbl3CZvACLODRCxTJtBxLrozYCD56uxxePo3CgevVaoKIqiqVBRFEVToaIoCspz2+QsMPhkl5MY0APsKD74feCNJ814BAwDvyhDkwKh2sxg7hipNheEbRhvhovU1ta2t7dv3LgRwNzc3NjYWCaTKTI2Go12dnauWrUKwN27dz\\/66KPPPvvMYlvLg\\/lasAGdCt8C3sn7mASSQC9wtJjg20D+XkA\\/AH4OtAF1bKv8odrMYO4YqUIXhFUYb4aLNDQ07N69O\\/expaWlpaVlaGhoYWEhMHbXrl0bNmzIfVy1atXf\\/\\/3fr127dnh42Epby4P5WrAE9wP57LM5JUeimBde3382D+Z4CXiPapU\\/VJsZzB0j1emCsAfjzXCR2tra\\/DyYY8+ePStWrPCPjUaj+Xkwx8aNG\\/\\/2b\\/+2PO0rP+ZrwR5cKhz0Lgrezs7nCbafGbSlWKg2M5g7RqrTBWEPxpvhIu3t7V5FBf8JzMfn34auri7zNtnFfC3Yg0uFn3oXBW9y7PPb3OaD31SbGcwdI9XpgrAH481wkaamJq+i7KVDH1auXOlVlL10WJWYrwV7WLuD\\/Jyt\\/7FFxNpMOEZC5r4IG+EbX0fdJj4ZPDi5PzIqoqHazGDuGKlOF4Q9GG+Gi1y9etWraH5+3j\\/222+\\/9Sq6e\\/eueZvsYr4W7MGlQp\\/f9cE\\/+X1ub\\/3RoC3FQrWZwdwxUp0uCHsw3gwXKehlzzI+Pu4f+9FHHxkUSWO+FuzBpcIdQG+h44eA1wODfwF8Xej4LaDA3bSyQbWZwdwxUp0uCHsw3gwXyWQyQ0NDi4+fPn068NHCzz77rOCXys8++2xubq487Ss\\/5mvBHvQNiqNAKzAAzAAAmoGe4nNKHfAe8LO8R6z\\/aDcPZqHazGDuGKlCF4RVGG+GiywsLBw\\/frytrW3Tpk0A5ubmxsfHi3zEenh4+ObNm11dXfmPWFdxHsxivhYsUY57tduZh4F+CfyyDG0oFarNDOaOkWpzQdiG8Wa4SCaTGRkZGRkZMYj97LPPXHi95HuYrwUb6DvIiqIomgoVRVE0FSqKoqCSbpP0k\\/1sS4V0boCIZdoMItZFbwYcPF+NLT52yc+N0lJhfao+YupVSNanTOwGQBSI+76x7EMaSBoFZkkCxm0GEVtvFJiFdFAYwzg3GP9MPeG+cNHXwbQ5CZj3s0HYE5i5UbH5XFoqTKfTxp6BsHlRmNgI4XNw0UHBzI2w9RXTZmYtMGtQ6nxLQq8VKoqiaCpUFEXRVKgoigJNhYpVGhsb\\/+Vf\\/qW3t7e3t\\/ef\\/\\/mfS9pzO4HEX\\/CX7\\/Ddd\\/juL\\/jLb\\/Fbe+10namp7v\\/5n2Qmcy+TuTc7Ozo9XYqp5ywQB2qBWqBT1i9SPN1AErgH3ANGy2ImsrlJqhJuGB\\/LBCZa0JL7GEHkEA51oasNAbs6h5BLl4699trT\\/fGj0TgQTyYT8XgRnhAxzw+DFS+KfitUrMD4WBJI5OfBHFuwpR\\/95WnfUmFqqjs\\/D+aIx3tnZoJesxfz\\/DDY8qJoKlSswPhY9mGfV9F+7Ddv01KkpsbTE7J8edAGnGKeHwZbXhRNhYoVGB\\/L83jeqygC81cmliQNDZ6ekIaGoG3ZxTw\\/DLa8KJoKlUoTPl+HDFQ\\/u+gm4rwomgoVKzA+lju441WURtq8TUuRmzc9v799\\/nnQVzsxzw+DLS+KpkLFCoyP5SROehWdwAnzNi1FHj70vKr36FHQBT8xzw+DLS+KpkLFCoyP5TAOf4JPFh8fw9jbeLscrVs6NDefSyYLeEKSySOxWND++GKeHwZbXhR9rlCxBeNjaUNbP\\/r3Y3\\/2Pkka6RM4oXmwIPH4wZmZieXLe9aujQG4cWP60aOBeLy4vCDm+WGw4kXRVKhYhPGx9KGvD33lbc9SJRZ76gl55ZUSg8U8Pwzl96LoD2RFURRNhYqiKJoKFUVRUOq1QsYzEDYvChPL9LOLDgpmboStr5g2M2uBWYOCY1Q8z+mj\\/4qiKPoDWVEURVOhoiiKpkJFURRoKlQURYGmQkVRFGgqVBRFgaZCRVEUaCpUFEWBpkJFURRoKlQURYGmQkVRFGgqVBRFgaZCRVEUaCpUFEUB8P8B4IV9VAoxeRoAAAAASUVORK5CYII='><\\/img>\"}}},\"children\":[{\"props\":{\"className\":\"webio-observable\",\"setInnerHtml\":\"<img src='data:image\\/png;base64,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'><\\/img>\"},\"nodeType\":\"DOM\",\"type\":\"node\",\"instanceArgs\":{\"namespace\":\"html\",\"tag\":\"div\"},\"children\":[]}]},{\"props\":{\"className\":\"interact-widget\"},\"nodeType\":\"DOM\",\"type\":\"node\",\"instanceArgs\":{\"namespace\":\"html\",\"tag\":\"div\"},\"children\":[{\"props\":{},\"nodeType\":\"Scope\",\"type\":\"node\",\"instanceArgs\":{\"imports\":{\"data\":[{\"name\":null,\"type\":\"js\",\"url\":\"\\/assetserver\\/dd22ed1bf1896c2748f3fe616ce0b838adc895c1-katex.min.js\"},{\"name\":null,\"type\":\"css\",\"url\":\"\\/assetserver\\/46517a424aa5e6cffc1360d7e0848b601c584ee3-katex.min.css\"}],\"type\":\"async_block\"},\"id\":\"12381872493259935713\",\"handlers\":{\"value\":[\"(function (txt){return this.k.render(txt,this.container)})\"]},\"systemjs_options\":null,\"mount_callbacks\":[\"function () {\\n    var handler = ((function (k){this.k=k; this.container=this.dom.querySelector(\\\"#container\\\"); return k.render(\\\"\\\\\\\\;\\\\\\\\;\\\",this.container)}));\\n    (WebIO.importBlock({\\\"data\\\":[{\\\"name\\\":null,\\\"type\\\":\\\"js\\\",\\\"url\\\":\\\"\\/assetserver\\/dd22ed1bf1896c2748f3fe616ce0b838adc895c1-katex.min.js\\\"},{\\\"name\\\":null,\\\"type\\\":\\\"css\\\",\\\"url\\\":\\\"\\/assetserver\\/46517a424aa5e6cffc1360d7e0848b601c584ee3-katex.min.css\\\"}],\\\"type\\\":\\\"async_block\\\"})).then((imports) => handler.apply(this, imports));\\n}\\n\"],\"observables\":{\"value\":{\"sync\":false,\"id\":\"18397926592361969128\",\"value\":\"\\\\;\\\\;\"}}},\"children\":[{\"props\":{\"id\":\"container\"},\"nodeType\":\"DOM\",\"type\":\"node\",\"instanceArgs\":{\"namespace\":\"html\",\"tag\":\"div\"},\"children\":[]}]}]},{\"props\":{\"style\":{\"display\":\"flex\",\"flex-direction\":\"column\"}},\"nodeType\":\"DOM\",\"type\":\"node\",\"instanceArgs\":{\"namespace\":\"html\",\"tag\":\"div\"},\"children\":[]}]}]},\n",
       "        window,\n",
       "    );\n",
       "    })()\n",
       "    </script>\n",
       "</div>\n"
      ],
      "text/plain": [
       "WebIO.Node{WebIO.DOM}(WebIO.DOM(:html, :div), Any[WebIO.Node{WebIO.DOM}(WebIO.DOM(:html, :div), Any[WebIO.Node{WebIO.DOM}(WebIO.DOM(:html, :div), Any[WebIO.Node{WebIO.DOM}(WebIO.DOM(:html, :div), Any[WebIO.Scope(WebIO.Node{WebIO.DOM}(WebIO.DOM(:html, :div), Any[WebIO.Node{WebIO.DOM}(WebIO.DOM(:html, :div), Any[WebIO.Node{WebIO.DOM}(WebIO.DOM(:html, :label), Any[\"time\"], Dict{Symbol, Any}(:className => \"interact \", :style => Dict{Any, Any}(:padding => \"5px 10px 0px 10px\")))], Dict{Symbol, Any}(:className => \"interact-flex-row-left\")), WebIO.Node{WebIO.DOM}(WebIO.DOM(:html, :div), Any[WebIO.Node{WebIO.DOM}(WebIO.DOM(:html, :input), Any[], Dict{Symbol, Any}(:max => 101, :min => 1, :attributes => Dict{Any, Any}(:type => \"range\", Symbol(\"data-bind\") => \"numericValue: index, valueUpdate: 'input', event: {change: function (){this.changes(this.changes()+1)}}\", \"orient\" => \"horizontal\"), :step => 1, :className => \"slider slider is-fullwidth\", :style => Dict{Any, Any}()))], Dict{Symbol, Any}(:className => \"interact-flex-row-center\")), WebIO.Node{WebIO.DOM}(WebIO.DOM(:html, :div), Any[WebIO.Node{WebIO.DOM}(WebIO.DOM(:html, :p), Any[], Dict{Symbol, Any}(:attributes => Dict(\"data-bind\" => \"text: formatted_val\")))], Dict{Symbol, Any}(:className => \"interact-flex-row-right\"))], Dict{Symbol, Any}(:className => \"interact-flex-row interact-widget\")), Dict{String, Tuple{Observables.AbstractObservable, Union{Nothing, Bool}}}(\"changes\" => (Observable(0), nothing), \"index\" => (Observable(51), nothing)), Set{String}(), nothing, WebIO.Asset[WebIO.Asset(\"js\", \"knockout\", \"/home/dushya/.julia/packages/Knockout/HReiN/src/../assets/knockout.js\"), WebIO.Asset(\"js\", \"knockout_punches\", \"/home/dushya/.julia/packages/Knockout/HReiN/src/../assets/knockout_punches.js\"), WebIO.Asset(\"js\", nothing, \"/home/dushya/.julia/packages/InteractBase/LJXv3/src/../assets/all.js\"), WebIO.Asset(\"css\", nothing, \"/home/dushya/.julia/packages/InteractBase/LJXv3/src/../assets/style.css\"), WebIO.Asset(\"css\", nothing, \"/home/dushya/.julia/packages/Interact/PENUy/src/../assets/bulma_confined.min.css\")], Dict{Any, Any}(\"changes\" => Any[WebIO.JSString(\"(function (val){return (val!=this.model[\\\"changes\\\"]()) ? (this.valueFromJulia[\\\"changes\\\"]=true, this.model[\\\"changes\\\"](val)) : undefined})\")], \"index\" => Any[WebIO.JSString(\"(function (val){return (val!=this.model[\\\"index\\\"]()) ? (this.valueFromJulia[\\\"index\\\"]=true, this.model[\\\"index\\\"](val)) : undefined})\")]), WebIO.ConnectionPool(Channel{Any}(32), Set{WebIO.AbstractConnection}(), Base.GenericCondition{ReentrantLock}(Base.IntrusiveLinkedList{Task}(Task (runnable) @0x00007f8d4dbc76c0, Task (runnable) @0x00007f8d4dbc76c0), ReentrantLock(nothing, 0x00000000, 0x00, Base.GenericCondition{Base.Threads.SpinLock}(Base.IntrusiveLinkedList{Task}(nothing, nothing), Base.Threads.SpinLock(0)), (0, 140246807212144, 0)))), WebIO.JSString[WebIO.JSString(\"function () {\\n    var handler = (function (ko, koPunches) {\\n    ko.punches.enableAll();\\n    ko.bindingHandlers.numericValue = {\\n        init: function(element, valueAccessor, allBindings, data, context) {\\n            var stringified = ko.observable(ko.unwrap(valueAccessor()));\\n            stringified.subscribe(function(value) {\\n                var val = parseFloat(value);\\n                if (!isNaN(val)) {\\n                    valueAccessor()(val);\\n                }\\n            });\\n            valueAccessor().subscribe(function(value) {\\n                var str = JSON.stringify(value);\\n                if ((str == \\\"0\\\") && ([\\\"-0\\\", \\\"-0.\\\"].indexOf(stringified()) >= 0))\\n                     return;\\n                 if ([\\\"null\\\", \\\"\\\"].indexOf(str) >= 0)\\n                     return;\\n                stringified(str);\\n            });\\n            ko.applyBindingsToNode(\\n                element,\\n                {\\n                    value: stringified,\\n                    valueUpdate: allBindings.get('valueUpdate'),\\n                },\\n                context,\\n            );\\n        }\\n    };\\n    var json_data = {\\\"formatted_vals\\\":[\\\"1\\\",\\\"2\\\",\\\"3\\\",\\\"4\\\",\\\"5\\\",\\\"6\\\",\\\"7\\\",\\\"8\\\",\\\"9\\\",\\\"10\\\",\\\"11\\\",\\\"12\\\",\\\"13\\\",\\\"14\\\",\\\"15\\\",\\\"16\\\",\\\"17\\\",\\\"18\\\",\\\"19\\\",\\\"20\\\",\\\"21\\\",\\\"22\\\",\\\"23\\\",\\\"24\\\",\\\"25\\\",\\\"26\\\",\\\"27\\\",\\\"28\\\",\\\"29\\\",\\\"30\\\",\\\"31\\\",\\\"32\\\",\\\"33\\\",\\\"34\\\",\\\"35\\\",\\\"36\\\",\\\"37\\\",\\\"38\\\",\\\"39\\\",\\\"40\\\",\\\"41\\\",\\\"42\\\",\\\"43\\\",\\\"44\\\",\\\"45\\\",\\\"46\\\",\\\"47\\\",\\\"48\\\",\\\"49\\\",\\\"50\\\",\\\"51\\\",\\\"52\\\",\\\"53\\\",\\\"54\\\",\\\"55\\\",\\\"56\\\",\\\"57\\\",\\\"58\\\",\\\"59\\\",\\\"60\\\",\\\"61\\\",\\\"62\\\",\\\"63\\\",\\\"64\\\",\\\"65\\\",\\\"66\\\",\\\"67\\\",\\\"68\\\",\\\"69\\\",\\\"70\\\",\\\"71\\\",\\\"72\\\",\\\"73\\\",\\\"74\\\",\\\"75\\\",\\\"76\\\",\\\"77\\\",\\\"78\\\",\\\"79\\\",\\\"80\\\",\\\"81\\\",\\\"82\\\",\\\"83\\\",\\\"84\\\",\\\"85\\\",\\\"86\\\",\\\"87\\\",\\\"88\\\",\\\"89\\\",\\\"90\\\",\\\"91\\\",\\\"92\\\",\\\"93\\\",\\\"94\\\",\\\"95\\\",\\\"96\\\",\\\"97\\\",\\\"98\\\",\\\"99\\\",\\\"100\\\",\\\"101\\\"],\\\"changes\\\":WebIO.getval({\\\"name\\\":\\\"changes\\\",\\\"scope\\\":\\\"10248628804068707359\\\",\\\"id\\\":\\\"13213855696024273578\\\",\\\"type\\\":\\\"observable\\\"}),\\\"index\\\":WebIO.getval({\\\"name\\\":\\\"index\\\",\\\"scope\\\":\\\"10248628804068707359\\\",\\\"id\\\":\\\"9060581866708775241\\\",\\\"type\\\":\\\"observable\\\"})};\\n    var self = this;\\n    function AppViewModel() {\\n        for (var key in json_data) {\\n            var el = json_data[key];\\n            this[key] = Array.isArray(el) ? ko.observableArray(el) : ko.observable(el);\\n        }\\n        \\n        [this[\\\"formatted_val\\\"]=ko.computed(    function(){\\n        return this.formatted_vals()[parseInt(this.index())-(1)];\\n    }\\n,this)]\\n        [this[\\\"changes\\\"].subscribe((function (val){!(this.valueFromJulia[\\\"changes\\\"]) ? (WebIO.setval({\\\"name\\\":\\\"changes\\\",\\\"scope\\\":\\\"10248628804068707359\\\",\\\"id\\\":\\\"13213855696024273578\\\",\\\"type\\\":\\\"observable\\\"},val)) : undefined; return this.valueFromJulia[\\\"changes\\\"]=false}),self),this[\\\"index\\\"].subscribe((function (val){!(this.valueFromJulia[\\\"index\\\"]) ? (WebIO.setval({\\\"name\\\":\\\"index\\\",\\\"scope\\\":\\\"10248628804068707359\\\",\\\"id\\\":\\\"9060581866708775241\\\",\\\"type\\\":\\\"observable\\\"},val)) : undefined; return this.valueFromJulia[\\\"index\\\"]=false}),self)]\\n        \\n    }\\n    self.model = new AppViewModel();\\n    self.valueFromJulia = {};\\n    for (var key in json_data) {\\n        self.valueFromJulia[key] = false;\\n    }\\n    ko.applyBindings(self.model, self.dom);\\n}\\n);\\n    (WebIO.importBlock({\\\"data\\\":[{\\\"name\\\":\\\"knockout\\\",\\\"type\\\":\\\"js\\\",\\\"url\\\":\\\"/assetserver/727383f2a47bd31570b7da84eee7b022dd6d7c78-knockout.js\\\"},{\\\"name\\\":\\\"knockout_punches\\\",\\\"type\\\":\\\"js\\\",\\\"url\\\":\\\"/assetserver/382b41b3b1bd9f26f75861d360bad7f8beea211f-knockout_punches.js\\\"}],\\\"type\\\":\\\"async_block\\\"})).then((imports) => handler.apply(this, imports));\\n}\\n\")])], Dict{Symbol, Any}(:className => \"field interact-widget\")), WebIO.Node{WebIO.DOM}(WebIO.DOM(:html, :div), Any[WebIO.Scope(WebIO.Node{WebIO.DOM}(WebIO.DOM(:html, :div), Any[WebIO.Node{WebIO.DOM}(WebIO.DOM(:html, :div), Any[WebIO.Node{WebIO.DOM}(WebIO.DOM(:html, :label), Any[\"scale\"], Dict{Symbol, Any}(:className => \"interact \", :style => Dict{Any, Any}(:padding => \"5px 10px 0px 10px\")))], Dict{Symbol, Any}(:className => \"interact-flex-row-left\")), WebIO.Node{WebIO.DOM}(WebIO.DOM(:html, :div), Any[WebIO.Node{WebIO.DOM}(WebIO.DOM(:html, :input), Any[], Dict{Symbol, Any}(:max => 20, :min => 1, :attributes => Dict{Any, Any}(:type => \"range\", Symbol(\"data-bind\") => \"numericValue: index, valueUpdate: 'input', event: {change: function (){this.changes(this.changes()+1)}}\", \"orient\" => \"horizontal\"), :step => 1, :className => \"slider slider is-fullwidth\", :style => Dict{Any, Any}()))], Dict{Symbol, Any}(:className => \"interact-flex-row-center\")), WebIO.Node{WebIO.DOM}(WebIO.DOM(:html, :div), Any[WebIO.Node{WebIO.DOM}(WebIO.DOM(:html, :p), Any[], Dict{Symbol, Any}(:attributes => Dict(\"data-bind\" => \"text: formatted_val\")))], Dict{Symbol, Any}(:className => \"interact-flex-row-right\"))], Dict{Symbol, Any}(:className => \"interact-flex-row interact-widget\")), Dict{String, Tuple{Observables.AbstractObservable, Union{Nothing, Bool}}}(\"changes\" => (Observable(0), nothing), \"index\" => (Observable{Any}(10), nothing)), Set{String}(), nothing, WebIO.Asset[WebIO.Asset(\"js\", \"knockout\", \"/home/dushya/.julia/packages/Knockout/HReiN/src/../assets/knockout.js\"), WebIO.Asset(\"js\", \"knockout_punches\", \"/home/dushya/.julia/packages/Knockout/HReiN/src/../assets/knockout_punches.js\"), WebIO.Asset(\"js\", nothing, \"/home/dushya/.julia/packages/InteractBase/LJXv3/src/../assets/all.js\"), WebIO.Asset(\"css\", nothing, \"/home/dushya/.julia/packages/InteractBase/LJXv3/src/../assets/style.css\"), WebIO.Asset(\"css\", nothing, \"/home/dushya/.julia/packages/Interact/PENUy/src/../assets/bulma_confined.min.css\")], Dict{Any, Any}(\"changes\" => Any[WebIO.JSString(\"(function (val){return (val!=this.model[\\\"changes\\\"]()) ? (this.valueFromJulia[\\\"changes\\\"]=true, this.model[\\\"changes\\\"](val)) : undefined})\")], \"index\" => Any[WebIO.JSString(\"(function (val){return (val!=this.model[\\\"index\\\"]()) ? (this.valueFromJulia[\\\"index\\\"]=true, this.model[\\\"index\\\"](val)) : undefined})\")]), WebIO.ConnectionPool(Channel{Any}(32), Set{WebIO.AbstractConnection}(), Base.GenericCondition{ReentrantLock}(Base.IntrusiveLinkedList{Task}(Task (runnable) @0x00007f8d4e365c30, Task (runnable) @0x00007f8d4e365c30), ReentrantLock(nothing, 0x00000000, 0x00, Base.GenericCondition{Base.Threads.SpinLock}(Base.IntrusiveLinkedList{Task}(nothing, nothing), Base.Threads.SpinLock(0)), (8, 140246661848240, 140246807215088)))), WebIO.JSString[WebIO.JSString(\"function () {\\n    var handler = (function (ko, koPunches) {\\n    ko.punches.enableAll();\\n    ko.bindingHandlers.numericValue = {\\n        init: function(element, valueAccessor, allBindings, data, context) {\\n            var stringified = ko.observable(ko.unwrap(valueAccessor()));\\n            stringified.subscribe(function(value) {\\n                var val = parseFloat(value);\\n                if (!isNaN(val)) {\\n                    valueAccessor()(val);\\n                }\\n            });\\n            valueAccessor().subscribe(function(value) {\\n                var str = JSON.stringify(value);\\n                if ((str == \\\"0\\\") && ([\\\"-0\\\", \\\"-0.\\\"].indexOf(stringified()) >= 0))\\n                     return;\\n                 if ([\\\"null\\\", \\\"\\\"].indexOf(str) >= 0)\\n                     return;\\n                stringified(str);\\n            });\\n            ko.applyBindingsToNode(\\n                element,\\n                {\\n                    value: stringified,\\n                    valueUpdate: allBindings.get('valueUpdate'),\\n                },\\n                context,\\n            );\\n        }\\n    };\\n    var json_data = {\\\"formatted_vals\\\":[\\\"0.1\\\",\\\"0.2\\\",\\\"0.3\\\",\\\"0.4\\\",\\\"0.5\\\",\\\"0.6\\\",\\\"0.7\\\",\\\"0.8\\\",\\\"0.9\\\",\\\"1.0\\\",\\\"1.1\\\",\\\"1.2\\\",\\\"1.3\\\",\\\"1.4\\\",\\\"1.5\\\",\\\"1.6\\\",\\\"1.7\\\",\\\"1.8\\\",\\\"1.9\\\",\\\"2.0\\\"],\\\"changes\\\":WebIO.getval({\\\"name\\\":\\\"changes\\\",\\\"scope\\\":\\\"13978494324666766514\\\",\\\"id\\\":\\\"3505517828125054341\\\",\\\"type\\\":\\\"observable\\\"}),\\\"index\\\":WebIO.getval({\\\"name\\\":\\\"index\\\",\\\"scope\\\":\\\"13978494324666766514\\\",\\\"id\\\":\\\"486702438420721145\\\",\\\"type\\\":\\\"observable\\\"})};\\n    var self = this;\\n    function AppViewModel() {\\n        for (var key in json_data) {\\n            var el = json_data[key];\\n            this[key] = Array.isArray(el) ? ko.observableArray(el) : ko.observable(el);\\n        }\\n        \\n        [this[\\\"formatted_val\\\"]=ko.computed(    function(){\\n        return this.formatted_vals()[parseInt(this.index())-(1)];\\n    }\\n,this)]\\n        [this[\\\"changes\\\"].subscribe((function (val){!(this.valueFromJulia[\\\"changes\\\"]) ? (WebIO.setval({\\\"name\\\":\\\"changes\\\",\\\"scope\\\":\\\"13978494324666766514\\\",\\\"id\\\":\\\"3505517828125054341\\\",\\\"type\\\":\\\"observable\\\"},val)) : undefined; return this.valueFromJulia[\\\"changes\\\"]=false}),self),this[\\\"index\\\"].subscribe((function (val){!(this.valueFromJulia[\\\"index\\\"]) ? (WebIO.setval({\\\"name\\\":\\\"index\\\",\\\"scope\\\":\\\"13978494324666766514\\\",\\\"id\\\":\\\"486702438420721145\\\",\\\"type\\\":\\\"observable\\\"},val)) : undefined; return this.valueFromJulia[\\\"index\\\"]=false}),self)]\\n        \\n    }\\n    self.model = new AppViewModel();\\n    self.valueFromJulia = {};\\n    for (var key in json_data) {\\n        self.valueFromJulia[key] = false;\\n    }\\n    ko.applyBindings(self.model, self.dom);\\n}\\n);\\n    (WebIO.importBlock({\\\"data\\\":[{\\\"name\\\":\\\"knockout\\\",\\\"type\\\":\\\"js\\\",\\\"url\\\":\\\"/assetserver/727383f2a47bd31570b7da84eee7b022dd6d7c78-knockout.js\\\"},{\\\"name\\\":\\\"knockout_punches\\\",\\\"type\\\":\\\"js\\\",\\\"url\\\":\\\"/assetserver/382b41b3b1bd9f26f75861d360bad7f8beea211f-knockout_punches.js\\\"}],\\\"type\\\":\\\"async_block\\\"})).then((imports) => handler.apply(this, imports));\\n}\\n\")])], Dict{Symbol, Any}(:className => \"field interact-widget\")), WebIO.Node{WebIO.DOM}(WebIO.DOM(:html, :div), Any[WebIO.Node{WebIO.DOM}(WebIO.DOM(:html, :div), Any[WebIO.Scope(WebIO.Node{WebIO.DOM}(WebIO.DOM(:html, :div), Any[], Dict{Symbol, Any}(:id => \"container\")), Dict{String, Tuple{Observables.AbstractObservable, Union{Nothing, Bool}}}(\"value\" => (Observable(\"\\\\;\\\\;\"), nothing)), Set{String}(), nothing, WebIO.Asset[WebIO.Asset(\"js\", nothing, \"/home/dushya/.julia/packages/InteractBase/LJXv3/src/../assets/katex.min.js\"), WebIO.Asset(\"css\", nothing, \"/home/dushya/.julia/packages/InteractBase/LJXv3/src/../assets/katex.min.css\")], Dict{Any, Any}(\"value\" => Any[WebIO.JSString(\"(function (txt){return this.k.render(txt,this.container)})\")]), WebIO.ConnectionPool(Channel{Any}(32), Set{WebIO.AbstractConnection}(), Base.GenericCondition{ReentrantLock}(Base.IntrusiveLinkedList{Task}(Task (runnable) @0x00007f8d4f711910, Task (runnable) @0x00007f8d4f711910), ReentrantLock(nothing, 0x00000000, 0x00, Base.GenericCondition{Base.Threads.SpinLock}(Base.IntrusiveLinkedList{Task}(nothing, nothing), Base.Threads.SpinLock(0)), (0, 140245790015864, 139848430125056)))), WebIO.JSString[WebIO.JSString(\"function () {\\n    var handler = ((function (k){this.k=k; this.container=this.dom.querySelector(\\\"#container\\\"); return k.render(\\\"\\\\\\\\;\\\\\\\\;\\\",this.container)}));\\n    (WebIO.importBlock({\\\"data\\\":[{\\\"name\\\":null,\\\"type\\\":\\\"js\\\",\\\"url\\\":\\\"/assetserver/dd22ed1bf1896c2748f3fe616ce0b838adc895c1-katex.min.js\\\"},{\\\"name\\\":null,\\\"type\\\":\\\"css\\\",\\\"url\\\":\\\"/assetserver/46517a424aa5e6cffc1360d7e0848b601c584ee3-katex.min.css\\\"}],\\\"type\\\":\\\"async_block\\\"})).then((imports) => handler.apply(this, imports));\\n}\\n\")])], Dict{Symbol, Any}(:className => \"interact-widget\")), WebIO.Node{WebIO.DOM}(WebIO.DOM(:html, :div), Any[WebIO.Scope(WebIO.Node{WebIO.DOM}(WebIO.DOM(:html, :button), Any[\"run\"], Dict{Symbol, Any}(:attributes => Dict{Any, Any}(\"data-bind\" => \"click: function (){this.clicks(this.clicks()+1)}, css: {'is-loading' : loading}\"), :className => \"is-medium button is-primary\", :style => Dict{String, Any}())), Dict{String, Tuple{Observables.AbstractObservable, Union{Nothing, Bool}}}(\"loading\" => (Observable(false), nothing), \"clicks\" => (Observable(0), nothing)), Set{String}(), nothing, WebIO.Asset[WebIO.Asset(\"js\", \"knockout\", \"/home/dushya/.julia/packages/Knockout/HReiN/src/../assets/knockout.js\"), WebIO.Asset(\"js\", \"knockout_punches\", \"/home/dushya/.julia/packages/Knockout/HReiN/src/../assets/knockout_punches.js\"), WebIO.Asset(\"js\", nothing, \"/home/dushya/.julia/packages/InteractBase/LJXv3/src/../assets/all.js\"), WebIO.Asset(\"css\", nothing, \"/home/dushya/.julia/packages/InteractBase/LJXv3/src/../assets/style.css\"), WebIO.Asset(\"css\", nothing, \"/home/dushya/.julia/packages/Interact/PENUy/src/../assets/bulma_confined.min.css\")], Dict{Any, Any}(\"loading\" => Any[WebIO.JSString(\"(function (val){return (val!=this.model[\\\"loading\\\"]()) ? (this.valueFromJulia[\\\"loading\\\"]=true, this.model[\\\"loading\\\"](val)) : undefined})\")], \"clicks\" => Any[WebIO.JSString(\"(function (val){return (val!=this.model[\\\"clicks\\\"]()) ? (this.valueFromJulia[\\\"clicks\\\"]=true, this.model[\\\"clicks\\\"](val)) : undefined})\")]), WebIO.ConnectionPool(Channel{Any}(32), Set{WebIO.AbstractConnection}(), Base.GenericCondition{ReentrantLock}(Base.IntrusiveLinkedList{Task}(Task (runnable) @0x00007f8dc0045dc0, Task (runnable) @0x00007f8dc0045dc0), ReentrantLock(nothing, 0x00000000, 0x00, Base.GenericCondition{Base.Threads.SpinLock}(Base.IntrusiveLinkedList{Task}(nothing, nothing), Base.Threads.SpinLock(0)), (0, 0, 0)))), WebIO.JSString[WebIO.JSString(\"function () {\\n    var handler = (function (ko, koPunches) {\\n    ko.punches.enableAll();\\n    ko.bindingHandlers.numericValue = {\\n        init: function(element, valueAccessor, allBindings, data, context) {\\n            var stringified = ko.observable(ko.unwrap(valueAccessor()));\\n            stringified.subscribe(function(value) {\\n                var val = parseFloat(value);\\n                if (!isNaN(val)) {\\n                    valueAccessor()(val);\\n                }\\n            });\\n            valueAccessor().subscribe(function(value) {\\n                var str = JSON.stringify(value);\\n                if ((str == \\\"0\\\") && ([\\\"-0\\\", \\\"-0.\\\"].indexOf(stringified()) >= 0))\\n                     return;\\n                 if ([\\\"null\\\", \\\"\\\"].indexOf(str) >= 0)\\n                     return;\\n                stringified(str);\\n            });\\n            ko.applyBindingsToNode(\\n                element,\\n                {\\n                    value: stringified,\\n                    valueUpdate: allBindings.get('valueUpdate'),\\n                },\\n                context,\\n            );\\n        }\\n    };\\n    var json_data = {\\\"loading\\\":WebIO.getval({\\\"name\\\":\\\"loading\\\",\\\"scope\\\":\\\"1794856719332087764\\\",\\\"id\\\":\\\"8633495959867609740\\\",\\\"type\\\":\\\"observable\\\"}),\\\"clicks\\\":WebIO.getval({\\\"name\\\":\\\"clicks\\\",\\\"scope\\\":\\\"1794856719332087764\\\",\\\"id\\\":\\\"16203304872543140388\\\",\\\"type\\\":\\\"observable\\\"})};\\n    var self = this;\\n    function AppViewModel() {\\n        for (var key in json_data) {\\n            var el = json_data[key];\\n            this[key] = Array.isArray(el) ? ko.observableArray(el) : ko.observable(el);\\n        }\\n        \\n        \\n        [this[\\\"loading\\\"].subscribe((function (val){!(this.valueFromJulia[\\\"loading\\\"]) ? (WebIO.setval({\\\"name\\\":\\\"loading\\\",\\\"scope\\\":\\\"1794856719332087764\\\",\\\"id\\\":\\\"8633495959867609740\\\",\\\"type\\\":\\\"observable\\\"},val)) : undefined; return this.valueFromJulia[\\\"loading\\\"]=false}),self),this[\\\"clicks\\\"].subscribe((function (val){!(this.valueFromJulia[\\\"clicks\\\"]) ? (WebIO.setval({\\\"name\\\":\\\"clicks\\\",\\\"scope\\\":\\\"1794856719332087764\\\",\\\"id\\\":\\\"16203304872543140388\\\",\\\"type\\\":\\\"observable\\\"},val)) : undefined; return this.valueFromJulia[\\\"clicks\\\"]=false}),self)]\\n        \\n    }\\n    self.model = new AppViewModel();\\n    self.valueFromJulia = {};\\n    for (var key in json_data) {\\n        self.valueFromJulia[key] = false;\\n    }\\n    ko.applyBindings(self.model, self.dom);\\n}\\n);\\n    (WebIO.importBlock({\\\"data\\\":[{\\\"name\\\":\\\"knockout\\\",\\\"type\\\":\\\"js\\\",\\\"url\\\":\\\"/assetserver/727383f2a47bd31570b7da84eee7b022dd6d7c78-knockout.js\\\"},{\\\"name\\\":\\\"knockout_punches\\\",\\\"type\\\":\\\"js\\\",\\\"url\\\":\\\"/assetserver/382b41b3b1bd9f26f75861d360bad7f8beea211f-knockout_punches.js\\\"}],\\\"type\\\":\\\"async_block\\\"})).then((imports) => handler.apply(this, imports));\\n}\\n\")])], Dict{Symbol, Any}(:className => \"field interact-widget\")), WebIO.Node{WebIO.DOM}(WebIO.DOM(:html, :div), Any[WebIO.Scope(WebIO.Node{WebIO.DOM}(WebIO.DOM(:html, :div), Any[], Dict{Symbol, Any}(:id => \"container\")), Dict{String, Tuple{Observables.AbstractObservable, Union{Nothing, Bool}}}(\"value\" => (Observable(\"\\\\;\\\\;\"), nothing)), Set{String}(), nothing, WebIO.Asset[WebIO.Asset(\"js\", nothing, \"/home/dushya/.julia/packages/InteractBase/LJXv3/src/../assets/katex.min.js\"), WebIO.Asset(\"css\", nothing, \"/home/dushya/.julia/packages/InteractBase/LJXv3/src/../assets/katex.min.css\")], Dict{Any, Any}(\"value\" => Any[WebIO.JSString(\"(function (txt){return this.k.render(txt,this.container)})\")]), WebIO.ConnectionPool(Channel{Any}(32), Set{WebIO.AbstractConnection}(), Base.GenericCondition{ReentrantLock}(Base.IntrusiveLinkedList{Task}(Task (runnable) @0x00007f8d4f711910, Task (runnable) @0x00007f8d4f711910), ReentrantLock(nothing, 0x00000000, 0x00, Base.GenericCondition{Base.Threads.SpinLock}(Base.IntrusiveLinkedList{Task}(nothing, nothing), Base.Threads.SpinLock(0)), (0, 140245790015864, 139848430125056)))), WebIO.JSString[WebIO.JSString(\"function () {\\n    var handler = ((function (k){this.k=k; this.container=this.dom.querySelector(\\\"#container\\\"); return k.render(\\\"\\\\\\\\;\\\\\\\\;\\\",this.container)}));\\n    (WebIO.importBlock({\\\"data\\\":[{\\\"name\\\":null,\\\"type\\\":\\\"js\\\",\\\"url\\\":\\\"/assetserver/dd22ed1bf1896c2748f3fe616ce0b838adc895c1-katex.min.js\\\"},{\\\"name\\\":null,\\\"type\\\":\\\"css\\\",\\\"url\\\":\\\"/assetserver/46517a424aa5e6cffc1360d7e0848b601c584ee3-katex.min.css\\\"}],\\\"type\\\":\\\"async_block\\\"})).then((imports) => handler.apply(this, imports));\\n}\\n\")])], Dict{Symbol, Any}(:className => \"interact-widget\")), WebIO.Node{WebIO.DOM}(WebIO.DOM(:html, :div), Any[WebIO.Scope(WebIO.Node{WebIO.DOM}(WebIO.DOM(:html, :button), Any[\"stop\"], Dict{Symbol, Any}(:attributes => Dict{Any, Any}(\"data-bind\" => \"click: function (){this.clicks(this.clicks()+1)}, css: {'is-loading' : loading}\"), :className => \"is-medium button is-primary\", :style => Dict{String, Any}())), Dict{String, Tuple{Observables.AbstractObservable, Union{Nothing, Bool}}}(\"loading\" => (Observable(false), nothing), \"clicks\" => (Observable(0), nothing)), Set{String}(), nothing, WebIO.Asset[WebIO.Asset(\"js\", \"knockout\", \"/home/dushya/.julia/packages/Knockout/HReiN/src/../assets/knockout.js\"), WebIO.Asset(\"js\", \"knockout_punches\", \"/home/dushya/.julia/packages/Knockout/HReiN/src/../assets/knockout_punches.js\"), WebIO.Asset(\"js\", nothing, \"/home/dushya/.julia/packages/InteractBase/LJXv3/src/../assets/all.js\"), WebIO.Asset(\"css\", nothing, \"/home/dushya/.julia/packages/InteractBase/LJXv3/src/../assets/style.css\"), WebIO.Asset(\"css\", nothing, \"/home/dushya/.julia/packages/Interact/PENUy/src/../assets/bulma_confined.min.css\")], Dict{Any, Any}(\"loading\" => Any[WebIO.JSString(\"(function (val){return (val!=this.model[\\\"loading\\\"]()) ? (this.valueFromJulia[\\\"loading\\\"]=true, this.model[\\\"loading\\\"](val)) : undefined})\")], \"clicks\" => Any[WebIO.JSString(\"(function (val){return (val!=this.model[\\\"clicks\\\"]()) ? (this.valueFromJulia[\\\"clicks\\\"]=true, this.model[\\\"clicks\\\"](val)) : undefined})\")]), WebIO.ConnectionPool(Channel{Any}(32), Set{WebIO.AbstractConnection}(), Base.GenericCondition{ReentrantLock}(Base.IntrusiveLinkedList{Task}(Task (runnable) @0x00007f8d4e75c4c0, Task (runnable) @0x00007f8d4e75c4c0), ReentrantLock(nothing, 0x00000000, 0x00, Base.GenericCondition{Base.Threads.SpinLock}(Base.IntrusiveLinkedList{Task}(nothing, nothing), Base.Threads.SpinLock(0)), (8, 0, 139779710648320)))), WebIO.JSString[WebIO.JSString(\"function () {\\n    var handler = (function (ko, koPunches) {\\n    ko.punches.enableAll();\\n    ko.bindingHandlers.numericValue = {\\n        init: function(element, valueAccessor, allBindings, data, context) {\\n            var stringified = ko.observable(ko.unwrap(valueAccessor()));\\n            stringified.subscribe(function(value) {\\n                var val = parseFloat(value);\\n                if (!isNaN(val)) {\\n                    valueAccessor()(val);\\n                }\\n            });\\n            valueAccessor().subscribe(function(value) {\\n                var str = JSON.stringify(value);\\n                if ((str == \\\"0\\\") && ([\\\"-0\\\", \\\"-0.\\\"].indexOf(stringified()) >= 0))\\n                     return;\\n                 if ([\\\"null\\\", \\\"\\\"].indexOf(str) >= 0)\\n                     return;\\n                stringified(str);\\n            });\\n            ko.applyBindingsToNode(\\n                element,\\n                {\\n                    value: stringified,\\n                    valueUpdate: allBindings.get('valueUpdate'),\\n                },\\n                context,\\n            );\\n        }\\n    };\\n    var json_data = {\\\"loading\\\":WebIO.getval({\\\"name\\\":\\\"loading\\\",\\\"scope\\\":\\\"7302939970083214056\\\",\\\"id\\\":\\\"2267030430380211730\\\",\\\"type\\\":\\\"observable\\\"}),\\\"clicks\\\":WebIO.getval({\\\"name\\\":\\\"clicks\\\",\\\"scope\\\":\\\"7302939970083214056\\\",\\\"id\\\":\\\"2164293523933707938\\\",\\\"type\\\":\\\"observable\\\"})};\\n    var self = this;\\n    function AppViewModel() {\\n        for (var key in json_data) {\\n            var el = json_data[key];\\n            this[key] = Array.isArray(el) ? ko.observableArray(el) : ko.observable(el);\\n        }\\n        \\n        \\n        [this[\\\"loading\\\"].subscribe((function (val){!(this.valueFromJulia[\\\"loading\\\"]) ? (WebIO.setval({\\\"name\\\":\\\"loading\\\",\\\"scope\\\":\\\"7302939970083214056\\\",\\\"id\\\":\\\"2267030430380211730\\\",\\\"type\\\":\\\"observable\\\"},val)) : undefined; return this.valueFromJulia[\\\"loading\\\"]=false}),self),this[\\\"clicks\\\"].subscribe((function (val){!(this.valueFromJulia[\\\"clicks\\\"]) ? (WebIO.setval({\\\"name\\\":\\\"clicks\\\",\\\"scope\\\":\\\"7302939970083214056\\\",\\\"id\\\":\\\"2164293523933707938\\\",\\\"type\\\":\\\"observable\\\"},val)) : undefined; return this.valueFromJulia[\\\"clicks\\\"]=false}),self)]\\n        \\n    }\\n    self.model = new AppViewModel();\\n    self.valueFromJulia = {};\\n    for (var key in json_data) {\\n        self.valueFromJulia[key] = false;\\n    }\\n    ko.applyBindings(self.model, self.dom);\\n}\\n);\\n    (WebIO.importBlock({\\\"data\\\":[{\\\"name\\\":\\\"knockout\\\",\\\"type\\\":\\\"js\\\",\\\"url\\\":\\\"/assetserver/727383f2a47bd31570b7da84eee7b022dd6d7c78-knockout.js\\\"},{\\\"name\\\":\\\"knockout_punches\\\",\\\"type\\\":\\\"js\\\",\\\"url\\\":\\\"/assetserver/382b41b3b1bd9f26f75861d360bad7f8beea211f-knockout_punches.js\\\"}],\\\"type\\\":\\\"async_block\\\"})).then((imports) => handler.apply(this, imports));\\n}\\n\")])], Dict{Symbol, Any}(:className => \"field interact-widget\")), WebIO.Node{WebIO.DOM}(WebIO.DOM(:html, :div), Any[WebIO.Scope(WebIO.Node{WebIO.DOM}(WebIO.DOM(:html, :div), Any[], Dict{Symbol, Any}(:id => \"container\")), Dict{String, Tuple{Observables.AbstractObservable, Union{Nothing, Bool}}}(\"value\" => (Observable(\"\\\\;\\\\;\"), nothing)), Set{String}(), nothing, WebIO.Asset[WebIO.Asset(\"js\", nothing, \"/home/dushya/.julia/packages/InteractBase/LJXv3/src/../assets/katex.min.js\"), WebIO.Asset(\"css\", nothing, \"/home/dushya/.julia/packages/InteractBase/LJXv3/src/../assets/katex.min.css\")], Dict{Any, Any}(\"value\" => Any[WebIO.JSString(\"(function (txt){return this.k.render(txt,this.container)})\")]), WebIO.ConnectionPool(Channel{Any}(32), Set{WebIO.AbstractConnection}(), Base.GenericCondition{ReentrantLock}(Base.IntrusiveLinkedList{Task}(Task (runnable) @0x00007f8d4f711910, Task (runnable) @0x00007f8d4f711910), ReentrantLock(nothing, 0x00000000, 0x00, Base.GenericCondition{Base.Threads.SpinLock}(Base.IntrusiveLinkedList{Task}(nothing, nothing), Base.Threads.SpinLock(0)), (0, 140245790015864, 139848430125056)))), WebIO.JSString[WebIO.JSString(\"function () {\\n    var handler = ((function (k){this.k=k; this.container=this.dom.querySelector(\\\"#container\\\"); return k.render(\\\"\\\\\\\\;\\\\\\\\;\\\",this.container)}));\\n    (WebIO.importBlock({\\\"data\\\":[{\\\"name\\\":null,\\\"type\\\":\\\"js\\\",\\\"url\\\":\\\"/assetserver/dd22ed1bf1896c2748f3fe616ce0b838adc895c1-katex.min.js\\\"},{\\\"name\\\":null,\\\"type\\\":\\\"css\\\",\\\"url\\\":\\\"/assetserver/46517a424aa5e6cffc1360d7e0848b601c584ee3-katex.min.css\\\"}],\\\"type\\\":\\\"async_block\\\"})).then((imports) => handler.apply(this, imports));\\n}\\n\")])], Dict{Symbol, Any}(:className => \"interact-widget\")), WebIO.Node{WebIO.DOM}(WebIO.DOM(:html, :div), Any[WebIO.Scope(WebIO.Node{WebIO.DOM}(WebIO.DOM(:html, :button), Any[\"save\"], Dict{Symbol, Any}(:attributes => Dict{Any, Any}(\"data-bind\" => \"click: function (){this.clicks(this.clicks()+1)}, css: {'is-loading' : loading}\"), :className => \"is-medium button is-primary\", :style => Dict{String, Any}())), Dict{String, Tuple{Observables.AbstractObservable, Union{Nothing, Bool}}}(\"loading\" => (Observable(false), nothing), \"clicks\" => (Observable(0), nothing)), Set{String}(), nothing, WebIO.Asset[WebIO.Asset(\"js\", \"knockout\", \"/home/dushya/.julia/packages/Knockout/HReiN/src/../assets/knockout.js\"), WebIO.Asset(\"js\", \"knockout_punches\", \"/home/dushya/.julia/packages/Knockout/HReiN/src/../assets/knockout_punches.js\"), WebIO.Asset(\"js\", nothing, \"/home/dushya/.julia/packages/InteractBase/LJXv3/src/../assets/all.js\"), WebIO.Asset(\"css\", nothing, \"/home/dushya/.julia/packages/InteractBase/LJXv3/src/../assets/style.css\"), WebIO.Asset(\"css\", nothing, \"/home/dushya/.julia/packages/Interact/PENUy/src/../assets/bulma_confined.min.css\")], Dict{Any, Any}(\"loading\" => Any[WebIO.JSString(\"(function (val){return (val!=this.model[\\\"loading\\\"]()) ? (this.valueFromJulia[\\\"loading\\\"]=true, this.model[\\\"loading\\\"](val)) : undefined})\")], \"clicks\" => Any[WebIO.JSString(\"(function (val){return (val!=this.model[\\\"clicks\\\"]()) ? (this.valueFromJulia[\\\"clicks\\\"]=true, this.model[\\\"clicks\\\"](val)) : undefined})\")]), WebIO.ConnectionPool(Channel{Any}(32), Set{WebIO.AbstractConnection}(), Base.GenericCondition{ReentrantLock}(Base.IntrusiveLinkedList{Task}(Task (runnable) @0x00007f8d4e75ebd0, Task (runnable) @0x00007f8d4e75ebd0), ReentrantLock(nothing, 0x00000000, 0x00, Base.GenericCondition{Base.Threads.SpinLock}(Base.IntrusiveLinkedList{Task}(nothing, nothing), Base.Threads.SpinLock(0)), (8, 140246586735360, 140246586735552)))), WebIO.JSString[WebIO.JSString(\"function () {\\n    var handler = (function (ko, koPunches) {\\n    ko.punches.enableAll();\\n    ko.bindingHandlers.numericValue = {\\n        init: function(element, valueAccessor, allBindings, data, context) {\\n            var stringified = ko.observable(ko.unwrap(valueAccessor()));\\n            stringified.subscribe(function(value) {\\n                var val = parseFloat(value);\\n                if (!isNaN(val)) {\\n                    valueAccessor()(val);\\n                }\\n            });\\n            valueAccessor().subscribe(function(value) {\\n                var str = JSON.stringify(value);\\n                if ((str == \\\"0\\\") && ([\\\"-0\\\", \\\"-0.\\\"].indexOf(stringified()) >= 0))\\n                     return;\\n                 if ([\\\"null\\\", \\\"\\\"].indexOf(str) >= 0)\\n                     return;\\n                stringified(str);\\n            });\\n            ko.applyBindingsToNode(\\n                element,\\n                {\\n                    value: stringified,\\n                    valueUpdate: allBindings.get('valueUpdate'),\\n                },\\n                context,\\n            );\\n        }\\n    };\\n    var json_data = {\\\"loading\\\":WebIO.getval({\\\"name\\\":\\\"loading\\\",\\\"scope\\\":\\\"1561832892659082265\\\",\\\"id\\\":\\\"13047712658361917352\\\",\\\"type\\\":\\\"observable\\\"}),\\\"clicks\\\":WebIO.getval({\\\"name\\\":\\\"clicks\\\",\\\"scope\\\":\\\"1561832892659082265\\\",\\\"id\\\":\\\"14562147560858840170\\\",\\\"type\\\":\\\"observable\\\"})};\\n    var self = this;\\n    function AppViewModel() {\\n        for (var key in json_data) {\\n            var el = json_data[key];\\n            this[key] = Array.isArray(el) ? ko.observableArray(el) : ko.observable(el);\\n        }\\n        \\n        \\n        [this[\\\"loading\\\"].subscribe((function (val){!(this.valueFromJulia[\\\"loading\\\"]) ? (WebIO.setval({\\\"name\\\":\\\"loading\\\",\\\"scope\\\":\\\"1561832892659082265\\\",\\\"id\\\":\\\"13047712658361917352\\\",\\\"type\\\":\\\"observable\\\"},val)) : undefined; return this.valueFromJulia[\\\"loading\\\"]=false}),self),this[\\\"clicks\\\"].subscribe((function (val){!(this.valueFromJulia[\\\"clicks\\\"]) ? (WebIO.setval({\\\"name\\\":\\\"clicks\\\",\\\"scope\\\":\\\"1561832892659082265\\\",\\\"id\\\":\\\"14562147560858840170\\\",\\\"type\\\":\\\"observable\\\"},val)) : undefined; return this.valueFromJulia[\\\"clicks\\\"]=false}),self)]\\n        \\n    }\\n    self.model = new AppViewModel();\\n    self.valueFromJulia = {};\\n    for (var key in json_data) {\\n        self.valueFromJulia[key] = false;\\n    }\\n    ko.applyBindings(self.model, self.dom);\\n}\\n);\\n    (WebIO.importBlock({\\\"data\\\":[{\\\"name\\\":\\\"knockout\\\",\\\"type\\\":\\\"js\\\",\\\"url\\\":\\\"/assetserver/727383f2a47bd31570b7da84eee7b022dd6d7c78-knockout.js\\\"},{\\\"name\\\":\\\"knockout_punches\\\",\\\"type\\\":\\\"js\\\",\\\"url\\\":\\\"/assetserver/382b41b3b1bd9f26f75861d360bad7f8beea211f-knockout_punches.js\\\"}],\\\"type\\\":\\\"async_block\\\"})).then((imports) => handler.apply(this, imports));\\n}\\n\")])], Dict{Symbol, Any}(:className => \"field interact-widget\"))], Dict{Symbol, Any}(:style => Dict(\"display\" => \"flex\", \"flex-direction\" => \"row\")))], Dict{Symbol, Any}(:style => Dict(\"display\" => \"flex\", \"flex-direction\" => \"column\"))), WebIO.Node{WebIO.DOM}(WebIO.DOM(:html, :div), Any[WebIO.Scope(WebIO.Node{WebIO.DOM}(WebIO.DOM(:html, :div), Any[], Dict{Symbol, Any}(:id => \"container\")), Dict{String, Tuple{Observables.AbstractObservable, Union{Nothing, Bool}}}(\"value\" => (Observable(\"\\\\;\\\\;\"), nothing)), Set{String}(), nothing, WebIO.Asset[WebIO.Asset(\"js\", nothing, \"/home/dushya/.julia/packages/InteractBase/LJXv3/src/../assets/katex.min.js\"), WebIO.Asset(\"css\", nothing, \"/home/dushya/.julia/packages/InteractBase/LJXv3/src/../assets/katex.min.css\")], Dict{Any, Any}(\"value\" => Any[WebIO.JSString(\"(function (txt){return this.k.render(txt,this.container)})\")]), WebIO.ConnectionPool(Channel{Any}(32), Set{WebIO.AbstractConnection}(), Base.GenericCondition{ReentrantLock}(Base.IntrusiveLinkedList{Task}(Task (runnable) @0x00007f8d4f711910, Task (runnable) @0x00007f8d4f711910), ReentrantLock(nothing, 0x00000000, 0x00, Base.GenericCondition{Base.Threads.SpinLock}(Base.IntrusiveLinkedList{Task}(nothing, nothing), Base.Threads.SpinLock(0)), (0, 140245790015864, 139848430125056)))), WebIO.JSString[WebIO.JSString(\"function () {\\n    var handler = ((function (k){this.k=k; this.container=this.dom.querySelector(\\\"#container\\\"); return k.render(\\\"\\\\\\\\;\\\\\\\\;\\\",this.container)}));\\n    (WebIO.importBlock({\\\"data\\\":[{\\\"name\\\":null,\\\"type\\\":\\\"js\\\",\\\"url\\\":\\\"/assetserver/dd22ed1bf1896c2748f3fe616ce0b838adc895c1-katex.min.js\\\"},{\\\"name\\\":null,\\\"type\\\":\\\"css\\\",\\\"url\\\":\\\"/assetserver/46517a424aa5e6cffc1360d7e0848b601c584ee3-katex.min.css\\\"}],\\\"type\\\":\\\"async_block\\\"})).then((imports) => handler.apply(this, imports));\\n}\\n\")])], Dict{Symbol, Any}(:className => \"interact-widget\")), Observable(Luxor.Drawing(430.0, 430.0, \"\", Cairo.CairoSurfaceBase{UInt32}(Ptr{Nothing} @0x0000000000000000, 430.0, 430.0), Cairo.CairoContext(Ptr{Nothing} @0x00000000055c3300, Cairo.CairoSurfaceBase{UInt32}(Ptr{Nothing} @0x0000000000000000, 430.0, 430.0), Ptr{Nothing} @0x000000000526ceb0), :png, 0.5, 0.5, 0.5, 0.5, IOBuffer(data=UInt8[...], readable=true, writable=true, seekable=true, append=false, size=15980, maxsize=Inf, ptr=15981, mark=-1), UInt8[0x89, 0x50, 0x4e, 0x47, 0x0d, 0x0a, 0x1a, 0x0a, 0x00, 0x00  …  0x00, 0x00, 0x49, 0x45, 0x4e, 0x44, 0xae, 0x42, 0x60, 0x82], false)), WebIO.Node{WebIO.DOM}(WebIO.DOM(:html, :div), Any[WebIO.Scope(WebIO.Node{WebIO.DOM}(WebIO.DOM(:html, :div), Any[], Dict{Symbol, Any}(:id => \"container\")), Dict{String, Tuple{Observables.AbstractObservable, Union{Nothing, Bool}}}(\"value\" => (Observable(\"\\\\;\\\\;\"), nothing)), Set{String}(), nothing, WebIO.Asset[WebIO.Asset(\"js\", nothing, \"/home/dushya/.julia/packages/InteractBase/LJXv3/src/../assets/katex.min.js\"), WebIO.Asset(\"css\", nothing, \"/home/dushya/.julia/packages/InteractBase/LJXv3/src/../assets/katex.min.css\")], Dict{Any, Any}(\"value\" => Any[WebIO.JSString(\"(function (txt){return this.k.render(txt,this.container)})\")]), WebIO.ConnectionPool(Channel{Any}(32), Set{WebIO.AbstractConnection}(), Base.GenericCondition{ReentrantLock}(Base.IntrusiveLinkedList{Task}(Task (runnable) @0x00007f8d4f711910, Task (runnable) @0x00007f8d4f711910), ReentrantLock(nothing, 0x00000000, 0x00, Base.GenericCondition{Base.Threads.SpinLock}(Base.IntrusiveLinkedList{Task}(nothing, nothing), Base.Threads.SpinLock(0)), (0, 140245790015864, 139848430125056)))), WebIO.JSString[WebIO.JSString(\"function () {\\n    var handler = ((function (k){this.k=k; this.container=this.dom.querySelector(\\\"#container\\\"); return k.render(\\\"\\\\\\\\;\\\\\\\\;\\\",this.container)}));\\n    (WebIO.importBlock({\\\"data\\\":[{\\\"name\\\":null,\\\"type\\\":\\\"js\\\",\\\"url\\\":\\\"/assetserver/dd22ed1bf1896c2748f3fe616ce0b838adc895c1-katex.min.js\\\"},{\\\"name\\\":null,\\\"type\\\":\\\"css\\\",\\\"url\\\":\\\"/assetserver/46517a424aa5e6cffc1360d7e0848b601c584ee3-katex.min.css\\\"}],\\\"type\\\":\\\"async_block\\\"})).then((imports) => handler.apply(this, imports));\\n}\\n\")])], Dict{Symbol, Any}(:className => \"interact-widget\")), WebIO.Node{WebIO.DOM}(WebIO.DOM(:html, :div), Any[], Dict{Symbol, Any}(:style => Dict(\"display\" => \"flex\", \"flex-direction\" => \"column\")))], Dict{Symbol, Any}(:style => Dict(\"display\" => \"flex\", \"flex-direction\" => \"row\")))], Dict{Symbol, Any}(:style => Dict(\"display\" => \"flex\", \"flex-direction\" => \"column\")))"
      ]
     },
     "execution_count": 6,
     "metadata": {
      "application/vnd.webio.node+json": {
       "kernelId": "acd893cf-fe56-4a36-8800-d90aa0809521"
      }
     },
     "output_type": "execute_result"
    }
   ],
   "source": [
    "animate_sim(model, show_patches=true)"
   ]
  },
  {
   "cell_type": "markdown",
   "metadata": {},
   "source": [
    "After defining the `step_rule!` function we can also choose to create an interactive application (which currently works in Jupyter with WebIO installation) as "
   ]
  },
  {
   "cell_type": "code",
   "execution_count": 7,
   "metadata": {},
   "outputs": [
    {
     "data": {
      "application/vnd.webio.node+json": {
       "children": [
        {
         "children": [
          {
           "children": [
            {
             "children": [
              {
               "children": [
                {
                 "children": [
                  {
                   "children": [
                    {
                     "children": [
                      "time"
                     ],
                     "instanceArgs": {
                      "namespace": "html",
                      "tag": "label"
                     },
                     "nodeType": "DOM",
                     "props": {
                      "className": "interact ",
                      "style": {
                       "padding": "5px 10px 0px 10px"
                      }
                     },
                     "type": "node"
                    }
                   ],
                   "instanceArgs": {
                    "namespace": "html",
                    "tag": "div"
                   },
                   "nodeType": "DOM",
                   "props": {
                    "className": "interact-flex-row-left"
                   },
                   "type": "node"
                  },
                  {
                   "children": [
                    {
                     "children": [],
                     "instanceArgs": {
                      "namespace": "html",
                      "tag": "input"
                     },
                     "nodeType": "DOM",
                     "props": {
                      "attributes": {
                       "data-bind": "numericValue: index, valueUpdate: 'input', event: {change: function (){this.changes(this.changes()+1)}}",
                       "orient": "horizontal",
                       "type": "range"
                      },
                      "className": "slider slider is-fullwidth",
                      "max": 200,
                      "min": 1,
                      "step": 1,
                      "style": {}
                     },
                     "type": "node"
                    }
                   ],
                   "instanceArgs": {
                    "namespace": "html",
                    "tag": "div"
                   },
                   "nodeType": "DOM",
                   "props": {
                    "className": "interact-flex-row-center"
                   },
                   "type": "node"
                  },
                  {
                   "children": [
                    {
                     "children": [],
                     "instanceArgs": {
                      "namespace": "html",
                      "tag": "p"
                     },
                     "nodeType": "DOM",
                     "props": {
                      "attributes": {
                       "data-bind": "text: formatted_val"
                      }
                     },
                     "type": "node"
                    }
                   ],
                   "instanceArgs": {
                    "namespace": "html",
                    "tag": "div"
                   },
                   "nodeType": "DOM",
                   "props": {
                    "className": "interact-flex-row-right"
                   },
                   "type": "node"
                  }
                 ],
                 "instanceArgs": {
                  "namespace": "html",
                  "tag": "div"
                 },
                 "nodeType": "DOM",
                 "props": {
                  "className": "interact-flex-row interact-widget"
                 },
                 "type": "node"
                }
               ],
               "instanceArgs": {
                "handlers": {
                 "changes": [
                  "(function (val){return (val!=this.model[\"changes\"]()) ? (this.valueFromJulia[\"changes\"]=true, this.model[\"changes\"](val)) : undefined})"
                 ],
                 "index": [
                  "(function (val){return (val!=this.model[\"index\"]()) ? (this.valueFromJulia[\"index\"]=true, this.model[\"index\"](val)) : undefined})"
                 ]
                },
                "id": "9774873114840640455",
                "imports": {
                 "data": [
                  {
                   "name": "knockout",
                   "type": "js",
                   "url": "/assetserver/727383f2a47bd31570b7da84eee7b022dd6d7c78-knockout.js"
                  },
                  {
                   "name": "knockout_punches",
                   "type": "js",
                   "url": "/assetserver/382b41b3b1bd9f26f75861d360bad7f8beea211f-knockout_punches.js"
                  },
                  {
                   "name": null,
                   "type": "js",
                   "url": "/assetserver/5ab20f1060420992a9b82a65b735dee4d81ef413-all.js"
                  },
                  {
                   "name": null,
                   "type": "css",
                   "url": "/assetserver/1cc0ed62837210b80a182cc3676512f895dab686-style.css"
                  },
                  {
                   "name": null,
                   "type": "css",
                   "url": "/assetserver/2eee816f616df3549d7044d45e744fbf8d42bfa1-bulma_confined.min.css"
                  }
                 ],
                 "type": "async_block"
                },
                "mount_callbacks": [
                 "function () {\n    var handler = (function (ko, koPunches) {\n    ko.punches.enableAll();\n    ko.bindingHandlers.numericValue = {\n        init: function(element, valueAccessor, allBindings, data, context) {\n            var stringified = ko.observable(ko.unwrap(valueAccessor()));\n            stringified.subscribe(function(value) {\n                var val = parseFloat(value);\n                if (!isNaN(val)) {\n                    valueAccessor()(val);\n                }\n            });\n            valueAccessor().subscribe(function(value) {\n                var str = JSON.stringify(value);\n                if ((str == \"0\") && ([\"-0\", \"-0.\"].indexOf(stringified()) >= 0))\n                     return;\n                 if ([\"null\", \"\"].indexOf(str) >= 0)\n                     return;\n                stringified(str);\n            });\n            ko.applyBindingsToNode(\n                element,\n                {\n                    value: stringified,\n                    valueUpdate: allBindings.get('valueUpdate'),\n                },\n                context,\n            );\n        }\n    };\n    var json_data = {\"formatted_vals\":[\"1\",\"2\",\"3\",\"4\",\"5\",\"6\",\"7\",\"8\",\"9\",\"10\",\"11\",\"12\",\"13\",\"14\",\"15\",\"16\",\"17\",\"18\",\"19\",\"20\",\"21\",\"22\",\"23\",\"24\",\"25\",\"26\",\"27\",\"28\",\"29\",\"30\",\"31\",\"32\",\"33\",\"34\",\"35\",\"36\",\"37\",\"38\",\"39\",\"40\",\"41\",\"42\",\"43\",\"44\",\"45\",\"46\",\"47\",\"48\",\"49\",\"50\",\"51\",\"52\",\"53\",\"54\",\"55\",\"56\",\"57\",\"58\",\"59\",\"60\",\"61\",\"62\",\"63\",\"64\",\"65\",\"66\",\"67\",\"68\",\"69\",\"70\",\"71\",\"72\",\"73\",\"74\",\"75\",\"76\",\"77\",\"78\",\"79\",\"80\",\"81\",\"82\",\"83\",\"84\",\"85\",\"86\",\"87\",\"88\",\"89\",\"90\",\"91\",\"92\",\"93\",\"94\",\"95\",\"96\",\"97\",\"98\",\"99\",\"100\",\"101\",\"102\",\"103\",\"104\",\"105\",\"106\",\"107\",\"108\",\"109\",\"110\",\"111\",\"112\",\"113\",\"114\",\"115\",\"116\",\"117\",\"118\",\"119\",\"120\",\"121\",\"122\",\"123\",\"124\",\"125\",\"126\",\"127\",\"128\",\"129\",\"130\",\"131\",\"132\",\"133\",\"134\",\"135\",\"136\",\"137\",\"138\",\"139\",\"140\",\"141\",\"142\",\"143\",\"144\",\"145\",\"146\",\"147\",\"148\",\"149\",\"150\",\"151\",\"152\",\"153\",\"154\",\"155\",\"156\",\"157\",\"158\",\"159\",\"160\",\"161\",\"162\",\"163\",\"164\",\"165\",\"166\",\"167\",\"168\",\"169\",\"170\",\"171\",\"172\",\"173\",\"174\",\"175\",\"176\",\"177\",\"178\",\"179\",\"180\",\"181\",\"182\",\"183\",\"184\",\"185\",\"186\",\"187\",\"188\",\"189\",\"190\",\"191\",\"192\",\"193\",\"194\",\"195\",\"196\",\"197\",\"198\",\"199\",\"200\"],\"changes\":WebIO.getval({\"name\":\"changes\",\"scope\":\"9774873114840640455\",\"id\":\"8398218134369734953\",\"type\":\"observable\"}),\"index\":WebIO.getval({\"name\":\"index\",\"scope\":\"9774873114840640455\",\"id\":\"5465956052781963742\",\"type\":\"observable\"})};\n    var self = this;\n    function AppViewModel() {\n        for (var key in json_data) {\n            var el = json_data[key];\n            this[key] = Array.isArray(el) ? ko.observableArray(el) : ko.observable(el);\n        }\n        \n        [this[\"formatted_val\"]=ko.computed(    function(){\n        return this.formatted_vals()[parseInt(this.index())-(1)];\n    }\n,this)]\n        [this[\"changes\"].subscribe((function (val){!(this.valueFromJulia[\"changes\"]) ? (WebIO.setval({\"name\":\"changes\",\"scope\":\"9774873114840640455\",\"id\":\"8398218134369734953\",\"type\":\"observable\"},val)) : undefined; return this.valueFromJulia[\"changes\"]=false}),self),this[\"index\"].subscribe((function (val){!(this.valueFromJulia[\"index\"]) ? (WebIO.setval({\"name\":\"index\",\"scope\":\"9774873114840640455\",\"id\":\"5465956052781963742\",\"type\":\"observable\"},val)) : undefined; return this.valueFromJulia[\"index\"]=false}),self)]\n        \n    }\n    self.model = new AppViewModel();\n    self.valueFromJulia = {};\n    for (var key in json_data) {\n        self.valueFromJulia[key] = false;\n    }\n    ko.applyBindings(self.model, self.dom);\n}\n);\n    (WebIO.importBlock({\"data\":[{\"name\":\"knockout\",\"type\":\"js\",\"url\":\"/assetserver/727383f2a47bd31570b7da84eee7b022dd6d7c78-knockout.js\"},{\"name\":\"knockout_punches\",\"type\":\"js\",\"url\":\"/assetserver/382b41b3b1bd9f26f75861d360bad7f8beea211f-knockout_punches.js\"}],\"type\":\"async_block\"})).then((imports) => handler.apply(this, imports));\n}\n"
                ],
                "observables": {
                 "changes": {
                  "id": "8398218134369734953",
                  "sync": false,
                  "value": 0
                 },
                 "index": {
                  "id": "5465956052781963742",
                  "sync": true,
                  "value": 1
                 }
                },
                "systemjs_options": null
               },
               "nodeType": "Scope",
               "props": {},
               "type": "node"
              }
             ],
             "instanceArgs": {
              "namespace": "html",
              "tag": "div"
             },
             "nodeType": "DOM",
             "props": {
              "className": "field interact-widget"
             },
             "type": "node"
            },
            {
             "children": [
              {
               "children": [
                {
                 "children": [
                  {
                   "children": [
                    {
                     "children": [
                      "scale"
                     ],
                     "instanceArgs": {
                      "namespace": "html",
                      "tag": "label"
                     },
                     "nodeType": "DOM",
                     "props": {
                      "className": "interact ",
                      "style": {
                       "padding": "5px 10px 0px 10px"
                      }
                     },
                     "type": "node"
                    }
                   ],
                   "instanceArgs": {
                    "namespace": "html",
                    "tag": "div"
                   },
                   "nodeType": "DOM",
                   "props": {
                    "className": "interact-flex-row-left"
                   },
                   "type": "node"
                  },
                  {
                   "children": [
                    {
                     "children": [],
                     "instanceArgs": {
                      "namespace": "html",
                      "tag": "input"
                     },
                     "nodeType": "DOM",
                     "props": {
                      "attributes": {
                       "data-bind": "numericValue: index, valueUpdate: 'input', event: {change: function (){this.changes(this.changes()+1)}}",
                       "orient": "horizontal",
                       "type": "range"
                      },
                      "className": "slider slider is-fullwidth",
                      "max": 20,
                      "min": 1,
                      "step": 1,
                      "style": {}
                     },
                     "type": "node"
                    }
                   ],
                   "instanceArgs": {
                    "namespace": "html",
                    "tag": "div"
                   },
                   "nodeType": "DOM",
                   "props": {
                    "className": "interact-flex-row-center"
                   },
                   "type": "node"
                  },
                  {
                   "children": [
                    {
                     "children": [],
                     "instanceArgs": {
                      "namespace": "html",
                      "tag": "p"
                     },
                     "nodeType": "DOM",
                     "props": {
                      "attributes": {
                       "data-bind": "text: formatted_val"
                      }
                     },
                     "type": "node"
                    }
                   ],
                   "instanceArgs": {
                    "namespace": "html",
                    "tag": "div"
                   },
                   "nodeType": "DOM",
                   "props": {
                    "className": "interact-flex-row-right"
                   },
                   "type": "node"
                  }
                 ],
                 "instanceArgs": {
                  "namespace": "html",
                  "tag": "div"
                 },
                 "nodeType": "DOM",
                 "props": {
                  "className": "interact-flex-row interact-widget"
                 },
                 "type": "node"
                }
               ],
               "instanceArgs": {
                "handlers": {
                 "changes": [
                  "(function (val){return (val!=this.model[\"changes\"]()) ? (this.valueFromJulia[\"changes\"]=true, this.model[\"changes\"](val)) : undefined})"
                 ],
                 "index": [
                  "(function (val){return (val!=this.model[\"index\"]()) ? (this.valueFromJulia[\"index\"]=true, this.model[\"index\"](val)) : undefined})"
                 ]
                },
                "id": "3514123278380884976",
                "imports": {
                 "data": [
                  {
                   "name": "knockout",
                   "type": "js",
                   "url": "/assetserver/727383f2a47bd31570b7da84eee7b022dd6d7c78-knockout.js"
                  },
                  {
                   "name": "knockout_punches",
                   "type": "js",
                   "url": "/assetserver/382b41b3b1bd9f26f75861d360bad7f8beea211f-knockout_punches.js"
                  },
                  {
                   "name": null,
                   "type": "js",
                   "url": "/assetserver/5ab20f1060420992a9b82a65b735dee4d81ef413-all.js"
                  },
                  {
                   "name": null,
                   "type": "css",
                   "url": "/assetserver/1cc0ed62837210b80a182cc3676512f895dab686-style.css"
                  },
                  {
                   "name": null,
                   "type": "css",
                   "url": "/assetserver/2eee816f616df3549d7044d45e744fbf8d42bfa1-bulma_confined.min.css"
                  }
                 ],
                 "type": "async_block"
                },
                "mount_callbacks": [
                 "function () {\n    var handler = (function (ko, koPunches) {\n    ko.punches.enableAll();\n    ko.bindingHandlers.numericValue = {\n        init: function(element, valueAccessor, allBindings, data, context) {\n            var stringified = ko.observable(ko.unwrap(valueAccessor()));\n            stringified.subscribe(function(value) {\n                var val = parseFloat(value);\n                if (!isNaN(val)) {\n                    valueAccessor()(val);\n                }\n            });\n            valueAccessor().subscribe(function(value) {\n                var str = JSON.stringify(value);\n                if ((str == \"0\") && ([\"-0\", \"-0.\"].indexOf(stringified()) >= 0))\n                     return;\n                 if ([\"null\", \"\"].indexOf(str) >= 0)\n                     return;\n                stringified(str);\n            });\n            ko.applyBindingsToNode(\n                element,\n                {\n                    value: stringified,\n                    valueUpdate: allBindings.get('valueUpdate'),\n                },\n                context,\n            );\n        }\n    };\n    var json_data = {\"formatted_vals\":[\"0.1\",\"0.2\",\"0.3\",\"0.4\",\"0.5\",\"0.6\",\"0.7\",\"0.8\",\"0.9\",\"1.0\",\"1.1\",\"1.2\",\"1.3\",\"1.4\",\"1.5\",\"1.6\",\"1.7\",\"1.8\",\"1.9\",\"2.0\"],\"changes\":WebIO.getval({\"name\":\"changes\",\"scope\":\"3514123278380884976\",\"id\":\"14428694798094822166\",\"type\":\"observable\"}),\"index\":WebIO.getval({\"name\":\"index\",\"scope\":\"3514123278380884976\",\"id\":\"8665217690589196274\",\"type\":\"observable\"})};\n    var self = this;\n    function AppViewModel() {\n        for (var key in json_data) {\n            var el = json_data[key];\n            this[key] = Array.isArray(el) ? ko.observableArray(el) : ko.observable(el);\n        }\n        \n        [this[\"formatted_val\"]=ko.computed(    function(){\n        return this.formatted_vals()[parseInt(this.index())-(1)];\n    }\n,this)]\n        [this[\"changes\"].subscribe((function (val){!(this.valueFromJulia[\"changes\"]) ? (WebIO.setval({\"name\":\"changes\",\"scope\":\"3514123278380884976\",\"id\":\"14428694798094822166\",\"type\":\"observable\"},val)) : undefined; return this.valueFromJulia[\"changes\"]=false}),self),this[\"index\"].subscribe((function (val){!(this.valueFromJulia[\"index\"]) ? (WebIO.setval({\"name\":\"index\",\"scope\":\"3514123278380884976\",\"id\":\"8665217690589196274\",\"type\":\"observable\"},val)) : undefined; return this.valueFromJulia[\"index\"]=false}),self)]\n        \n    }\n    self.model = new AppViewModel();\n    self.valueFromJulia = {};\n    for (var key in json_data) {\n        self.valueFromJulia[key] = false;\n    }\n    ko.applyBindings(self.model, self.dom);\n}\n);\n    (WebIO.importBlock({\"data\":[{\"name\":\"knockout\",\"type\":\"js\",\"url\":\"/assetserver/727383f2a47bd31570b7da84eee7b022dd6d7c78-knockout.js\"},{\"name\":\"knockout_punches\",\"type\":\"js\",\"url\":\"/assetserver/382b41b3b1bd9f26f75861d360bad7f8beea211f-knockout_punches.js\"}],\"type\":\"async_block\"})).then((imports) => handler.apply(this, imports));\n}\n"
                ],
                "observables": {
                 "changes": {
                  "id": "14428694798094822166",
                  "sync": false,
                  "value": 0
                 },
                 "index": {
                  "id": "8665217690589196274",
                  "sync": true,
                  "value": 10
                 }
                },
                "systemjs_options": null
               },
               "nodeType": "Scope",
               "props": {},
               "type": "node"
              }
             ],
             "instanceArgs": {
              "namespace": "html",
              "tag": "div"
             },
             "nodeType": "DOM",
             "props": {
              "className": "field interact-widget"
             },
             "type": "node"
            },
            {
             "children": [],
             "instanceArgs": {
              "namespace": "html",
              "tag": "div"
             },
             "nodeType": "DOM",
             "props": {
              "style": {
               "display": "flex",
               "flex-direction": "column"
              }
             },
             "type": "node"
            },
            {
             "children": [
              {
               "children": [
                {
                 "children": [
                  {
                   "children": [
                    {
                     "children": [
                      {
                       "children": [
                        "wolf_birth_rate"
                       ],
                       "instanceArgs": {
                        "namespace": "html",
                        "tag": "label"
                       },
                       "nodeType": "DOM",
                       "props": {
                        "className": "interact ",
                        "style": {
                         "padding": "5px 10px 0px 10px"
                        }
                       },
                       "type": "node"
                      }
                     ],
                     "instanceArgs": {
                      "namespace": "html",
                      "tag": "div"
                     },
                     "nodeType": "DOM",
                     "props": {
                      "className": "interact-flex-row-left"
                     },
                     "type": "node"
                    },
                    {
                     "children": [
                      {
                       "children": [],
                       "instanceArgs": {
                        "namespace": "html",
                        "tag": "input"
                       },
                       "nodeType": "DOM",
                       "props": {
                        "attributes": {
                         "data-bind": "numericValue: index, valueUpdate: 'input', event: {change: function (){this.changes(this.changes()+1)}}",
                         "orient": "horizontal",
                         "type": "range"
                        },
                        "className": "slider slider is-fullwidth",
                        "max": 101,
                        "min": 1,
                        "step": 1,
                        "style": {}
                       },
                       "type": "node"
                      }
                     ],
                     "instanceArgs": {
                      "namespace": "html",
                      "tag": "div"
                     },
                     "nodeType": "DOM",
                     "props": {
                      "className": "interact-flex-row-center"
                     },
                     "type": "node"
                    },
                    {
                     "children": [
                      {
                       "children": [],
                       "instanceArgs": {
                        "namespace": "html",
                        "tag": "p"
                       },
                       "nodeType": "DOM",
                       "props": {
                        "attributes": {
                         "data-bind": "text: formatted_val"
                        }
                       },
                       "type": "node"
                      }
                     ],
                     "instanceArgs": {
                      "namespace": "html",
                      "tag": "div"
                     },
                     "nodeType": "DOM",
                     "props": {
                      "className": "interact-flex-row-right"
                     },
                     "type": "node"
                    }
                   ],
                   "instanceArgs": {
                    "namespace": "html",
                    "tag": "div"
                   },
                   "nodeType": "DOM",
                   "props": {
                    "className": "interact-flex-row interact-widget"
                   },
                   "type": "node"
                  }
                 ],
                 "instanceArgs": {
                  "handlers": {
                   "changes": [
                    "(function (val){return (val!=this.model[\"changes\"]()) ? (this.valueFromJulia[\"changes\"]=true, this.model[\"changes\"](val)) : undefined})"
                   ],
                   "index": [
                    "(function (val){return (val!=this.model[\"index\"]()) ? (this.valueFromJulia[\"index\"]=true, this.model[\"index\"](val)) : undefined})"
                   ]
                  },
                  "id": "8800688542114131005",
                  "imports": {
                   "data": [
                    {
                     "name": "knockout",
                     "type": "js",
                     "url": "/assetserver/727383f2a47bd31570b7da84eee7b022dd6d7c78-knockout.js"
                    },
                    {
                     "name": "knockout_punches",
                     "type": "js",
                     "url": "/assetserver/382b41b3b1bd9f26f75861d360bad7f8beea211f-knockout_punches.js"
                    },
                    {
                     "name": null,
                     "type": "js",
                     "url": "/assetserver/5ab20f1060420992a9b82a65b735dee4d81ef413-all.js"
                    },
                    {
                     "name": null,
                     "type": "css",
                     "url": "/assetserver/1cc0ed62837210b80a182cc3676512f895dab686-style.css"
                    },
                    {
                     "name": null,
                     "type": "css",
                     "url": "/assetserver/2eee816f616df3549d7044d45e744fbf8d42bfa1-bulma_confined.min.css"
                    }
                   ],
                   "type": "async_block"
                  },
                  "mount_callbacks": [
                   "function () {\n    var handler = (function (ko, koPunches) {\n    ko.punches.enableAll();\n    ko.bindingHandlers.numericValue = {\n        init: function(element, valueAccessor, allBindings, data, context) {\n            var stringified = ko.observable(ko.unwrap(valueAccessor()));\n            stringified.subscribe(function(value) {\n                var val = parseFloat(value);\n                if (!isNaN(val)) {\n                    valueAccessor()(val);\n                }\n            });\n            valueAccessor().subscribe(function(value) {\n                var str = JSON.stringify(value);\n                if ((str == \"0\") && ([\"-0\", \"-0.\"].indexOf(stringified()) >= 0))\n                     return;\n                 if ([\"null\", \"\"].indexOf(str) >= 0)\n                     return;\n                stringified(str);\n            });\n            ko.applyBindingsToNode(\n                element,\n                {\n                    value: stringified,\n                    valueUpdate: allBindings.get('valueUpdate'),\n                },\n                context,\n            );\n        }\n    };\n    var json_data = {\"formatted_vals\":[\"0.0\",\"0.01\",\"0.02\",\"0.03\",\"0.04\",\"0.05\",\"0.06\",\"0.07\",\"0.08\",\"0.09\",\"0.1\",\"0.11\",\"0.12\",\"0.13\",\"0.14\",\"0.15\",\"0.16\",\"0.17\",\"0.18\",\"0.19\",\"0.2\",\"0.21\",\"0.22\",\"0.23\",\"0.24\",\"0.25\",\"0.26\",\"0.27\",\"0.28\",\"0.29\",\"0.3\",\"0.31\",\"0.32\",\"0.33\",\"0.34\",\"0.35\",\"0.36\",\"0.37\",\"0.38\",\"0.39\",\"0.4\",\"0.41\",\"0.42\",\"0.43\",\"0.44\",\"0.45\",\"0.46\",\"0.47\",\"0.48\",\"0.49\",\"0.5\",\"0.51\",\"0.52\",\"0.53\",\"0.54\",\"0.55\",\"0.56\",\"0.57\",\"0.58\",\"0.59\",\"0.6\",\"0.61\",\"0.62\",\"0.63\",\"0.64\",\"0.65\",\"0.66\",\"0.67\",\"0.68\",\"0.69\",\"0.7\",\"0.71\",\"0.72\",\"0.73\",\"0.74\",\"0.75\",\"0.76\",\"0.77\",\"0.78\",\"0.79\",\"0.8\",\"0.81\",\"0.82\",\"0.83\",\"0.84\",\"0.85\",\"0.86\",\"0.87\",\"0.88\",\"0.89\",\"0.9\",\"0.91\",\"0.92\",\"0.93\",\"0.94\",\"0.95\",\"0.96\",\"0.97\",\"0.98\",\"0.99\",\"1.0\"],\"changes\":WebIO.getval({\"name\":\"changes\",\"scope\":\"8800688542114131005\",\"id\":\"13970218025559490642\",\"type\":\"observable\"}),\"index\":WebIO.getval({\"name\":\"index\",\"scope\":\"8800688542114131005\",\"id\":\"9468308712684221825\",\"type\":\"observable\"})};\n    var self = this;\n    function AppViewModel() {\n        for (var key in json_data) {\n            var el = json_data[key];\n            this[key] = Array.isArray(el) ? ko.observableArray(el) : ko.observable(el);\n        }\n        \n        [this[\"formatted_val\"]=ko.computed(    function(){\n        return this.formatted_vals()[parseInt(this.index())-(1)];\n    }\n,this)]\n        [this[\"changes\"].subscribe((function (val){!(this.valueFromJulia[\"changes\"]) ? (WebIO.setval({\"name\":\"changes\",\"scope\":\"8800688542114131005\",\"id\":\"13970218025559490642\",\"type\":\"observable\"},val)) : undefined; return this.valueFromJulia[\"changes\"]=false}),self),this[\"index\"].subscribe((function (val){!(this.valueFromJulia[\"index\"]) ? (WebIO.setval({\"name\":\"index\",\"scope\":\"8800688542114131005\",\"id\":\"9468308712684221825\",\"type\":\"observable\"},val)) : undefined; return this.valueFromJulia[\"index\"]=false}),self)]\n        \n    }\n    self.model = new AppViewModel();\n    self.valueFromJulia = {};\n    for (var key in json_data) {\n        self.valueFromJulia[key] = false;\n    }\n    ko.applyBindings(self.model, self.dom);\n}\n);\n    (WebIO.importBlock({\"data\":[{\"name\":\"knockout\",\"type\":\"js\",\"url\":\"/assetserver/727383f2a47bd31570b7da84eee7b022dd6d7c78-knockout.js\"},{\"name\":\"knockout_punches\",\"type\":\"js\",\"url\":\"/assetserver/382b41b3b1bd9f26f75861d360bad7f8beea211f-knockout_punches.js\"}],\"type\":\"async_block\"})).then((imports) => handler.apply(this, imports));\n}\n"
                  ],
                  "observables": {
                   "changes": {
                    "id": "13970218025559490642",
                    "sync": false,
                    "value": 0
                   },
                   "index": {
                    "id": "9468308712684221825",
                    "sync": true,
                    "value": 51
                   }
                  },
                  "systemjs_options": null
                 },
                 "nodeType": "Scope",
                 "props": {},
                 "type": "node"
                }
               ],
               "instanceArgs": {
                "namespace": "html",
                "tag": "div"
               },
               "nodeType": "DOM",
               "props": {
                "className": "field interact-widget"
               },
               "type": "node"
              },
              {
               "children": [
                {
                 "children": [
                  {
                   "children": [
                    {
                     "children": [
                      {
                       "children": [
                        "sheep_birth_rate"
                       ],
                       "instanceArgs": {
                        "namespace": "html",
                        "tag": "label"
                       },
                       "nodeType": "DOM",
                       "props": {
                        "className": "interact ",
                        "style": {
                         "padding": "5px 10px 0px 10px"
                        }
                       },
                       "type": "node"
                      }
                     ],
                     "instanceArgs": {
                      "namespace": "html",
                      "tag": "div"
                     },
                     "nodeType": "DOM",
                     "props": {
                      "className": "interact-flex-row-left"
                     },
                     "type": "node"
                    },
                    {
                     "children": [
                      {
                       "children": [],
                       "instanceArgs": {
                        "namespace": "html",
                        "tag": "input"
                       },
                       "nodeType": "DOM",
                       "props": {
                        "attributes": {
                         "data-bind": "numericValue: index, valueUpdate: 'input', event: {change: function (){this.changes(this.changes()+1)}}",
                         "orient": "horizontal",
                         "type": "range"
                        },
                        "className": "slider slider is-fullwidth",
                        "max": 100,
                        "min": 1,
                        "step": 1,
                        "style": {}
                       },
                       "type": "node"
                      }
                     ],
                     "instanceArgs": {
                      "namespace": "html",
                      "tag": "div"
                     },
                     "nodeType": "DOM",
                     "props": {
                      "className": "interact-flex-row-center"
                     },
                     "type": "node"
                    },
                    {
                     "children": [
                      {
                       "children": [],
                       "instanceArgs": {
                        "namespace": "html",
                        "tag": "p"
                       },
                       "nodeType": "DOM",
                       "props": {
                        "attributes": {
                         "data-bind": "text: formatted_val"
                        }
                       },
                       "type": "node"
                      }
                     ],
                     "instanceArgs": {
                      "namespace": "html",
                      "tag": "div"
                     },
                     "nodeType": "DOM",
                     "props": {
                      "className": "interact-flex-row-right"
                     },
                     "type": "node"
                    }
                   ],
                   "instanceArgs": {
                    "namespace": "html",
                    "tag": "div"
                   },
                   "nodeType": "DOM",
                   "props": {
                    "className": "interact-flex-row interact-widget"
                   },
                   "type": "node"
                  }
                 ],
                 "instanceArgs": {
                  "handlers": {
                   "changes": [
                    "(function (val){return (val!=this.model[\"changes\"]()) ? (this.valueFromJulia[\"changes\"]=true, this.model[\"changes\"](val)) : undefined})"
                   ],
                   "index": [
                    "(function (val){return (val!=this.model[\"index\"]()) ? (this.valueFromJulia[\"index\"]=true, this.model[\"index\"](val)) : undefined})"
                   ]
                  },
                  "id": "5048356724033473769",
                  "imports": {
                   "data": [
                    {
                     "name": "knockout",
                     "type": "js",
                     "url": "/assetserver/727383f2a47bd31570b7da84eee7b022dd6d7c78-knockout.js"
                    },
                    {
                     "name": "knockout_punches",
                     "type": "js",
                     "url": "/assetserver/382b41b3b1bd9f26f75861d360bad7f8beea211f-knockout_punches.js"
                    },
                    {
                     "name": null,
                     "type": "js",
                     "url": "/assetserver/5ab20f1060420992a9b82a65b735dee4d81ef413-all.js"
                    },
                    {
                     "name": null,
                     "type": "css",
                     "url": "/assetserver/1cc0ed62837210b80a182cc3676512f895dab686-style.css"
                    },
                    {
                     "name": null,
                     "type": "css",
                     "url": "/assetserver/2eee816f616df3549d7044d45e744fbf8d42bfa1-bulma_confined.min.css"
                    }
                   ],
                   "type": "async_block"
                  },
                  "mount_callbacks": [
                   "function () {\n    var handler = (function (ko, koPunches) {\n    ko.punches.enableAll();\n    ko.bindingHandlers.numericValue = {\n        init: function(element, valueAccessor, allBindings, data, context) {\n            var stringified = ko.observable(ko.unwrap(valueAccessor()));\n            stringified.subscribe(function(value) {\n                var val = parseFloat(value);\n                if (!isNaN(val)) {\n                    valueAccessor()(val);\n                }\n            });\n            valueAccessor().subscribe(function(value) {\n                var str = JSON.stringify(value);\n                if ((str == \"0\") && ([\"-0\", \"-0.\"].indexOf(stringified()) >= 0))\n                     return;\n                 if ([\"null\", \"\"].indexOf(str) >= 0)\n                     return;\n                stringified(str);\n            });\n            ko.applyBindingsToNode(\n                element,\n                {\n                    value: stringified,\n                    valueUpdate: allBindings.get('valueUpdate'),\n                },\n                context,\n            );\n        }\n    };\n    var json_data = {\"formatted_vals\":[\"0.01\",\"0.02\",\"0.03\",\"0.04\",\"0.05\",\"0.06\",\"0.07\",\"0.08\",\"0.09\",\"0.1\",\"0.11\",\"0.12\",\"0.13\",\"0.14\",\"0.15\",\"0.16\",\"0.17\",\"0.18\",\"0.19\",\"0.2\",\"0.21\",\"0.22\",\"0.23\",\"0.24\",\"0.25\",\"0.26\",\"0.27\",\"0.28\",\"0.29\",\"0.3\",\"0.31\",\"0.32\",\"0.33\",\"0.34\",\"0.35\",\"0.36\",\"0.37\",\"0.38\",\"0.39\",\"0.4\",\"0.41\",\"0.42\",\"0.43\",\"0.44\",\"0.45\",\"0.46\",\"0.47\",\"0.48\",\"0.49\",\"0.5\",\"0.51\",\"0.52\",\"0.53\",\"0.54\",\"0.55\",\"0.56\",\"0.57\",\"0.58\",\"0.59\",\"0.6\",\"0.61\",\"0.62\",\"0.63\",\"0.64\",\"0.65\",\"0.66\",\"0.67\",\"0.68\",\"0.69\",\"0.7\",\"0.71\",\"0.72\",\"0.73\",\"0.74\",\"0.75\",\"0.76\",\"0.77\",\"0.78\",\"0.79\",\"0.8\",\"0.81\",\"0.82\",\"0.83\",\"0.84\",\"0.85\",\"0.86\",\"0.87\",\"0.88\",\"0.89\",\"0.9\",\"0.91\",\"0.92\",\"0.93\",\"0.94\",\"0.95\",\"0.96\",\"0.97\",\"0.98\",\"0.99\",\"1.0\"],\"changes\":WebIO.getval({\"name\":\"changes\",\"scope\":\"5048356724033473769\",\"id\":\"6329679798241691693\",\"type\":\"observable\"}),\"index\":WebIO.getval({\"name\":\"index\",\"scope\":\"5048356724033473769\",\"id\":\"5858097637371328953\",\"type\":\"observable\"})};\n    var self = this;\n    function AppViewModel() {\n        for (var key in json_data) {\n            var el = json_data[key];\n            this[key] = Array.isArray(el) ? ko.observableArray(el) : ko.observable(el);\n        }\n        \n        [this[\"formatted_val\"]=ko.computed(    function(){\n        return this.formatted_vals()[parseInt(this.index())-(1)];\n    }\n,this)]\n        [this[\"changes\"].subscribe((function (val){!(this.valueFromJulia[\"changes\"]) ? (WebIO.setval({\"name\":\"changes\",\"scope\":\"5048356724033473769\",\"id\":\"6329679798241691693\",\"type\":\"observable\"},val)) : undefined; return this.valueFromJulia[\"changes\"]=false}),self),this[\"index\"].subscribe((function (val){!(this.valueFromJulia[\"index\"]) ? (WebIO.setval({\"name\":\"index\",\"scope\":\"5048356724033473769\",\"id\":\"5858097637371328953\",\"type\":\"observable\"},val)) : undefined; return this.valueFromJulia[\"index\"]=false}),self)]\n        \n    }\n    self.model = new AppViewModel();\n    self.valueFromJulia = {};\n    for (var key in json_data) {\n        self.valueFromJulia[key] = false;\n    }\n    ko.applyBindings(self.model, self.dom);\n}\n);\n    (WebIO.importBlock({\"data\":[{\"name\":\"knockout\",\"type\":\"js\",\"url\":\"/assetserver/727383f2a47bd31570b7da84eee7b022dd6d7c78-knockout.js\"},{\"name\":\"knockout_punches\",\"type\":\"js\",\"url\":\"/assetserver/382b41b3b1bd9f26f75861d360bad7f8beea211f-knockout_punches.js\"}],\"type\":\"async_block\"})).then((imports) => handler.apply(this, imports));\n}\n"
                  ],
                  "observables": {
                   "changes": {
                    "id": "6329679798241691693",
                    "sync": false,
                    "value": 0
                   },
                   "index": {
                    "id": "5858097637371328953",
                    "sync": true,
                    "value": 50
                   }
                  },
                  "systemjs_options": null
                 },
                 "nodeType": "Scope",
                 "props": {},
                 "type": "node"
                }
               ],
               "instanceArgs": {
                "namespace": "html",
                "tag": "div"
               },
               "nodeType": "DOM",
               "props": {
                "className": "field interact-widget"
               },
               "type": "node"
              },
              {
               "children": [
                {
                 "children": [
                  {
                   "children": [
                    {
                     "children": [
                      {
                       "children": [
                        "initial_wolf_percent"
                       ],
                       "instanceArgs": {
                        "namespace": "html",
                        "tag": "label"
                       },
                       "nodeType": "DOM",
                       "props": {
                        "className": "interact ",
                        "style": {
                         "padding": "5px 10px 0px 10px"
                        }
                       },
                       "type": "node"
                      }
                     ],
                     "instanceArgs": {
                      "namespace": "html",
                      "tag": "div"
                     },
                     "nodeType": "DOM",
                     "props": {
                      "className": "interact-flex-row-left"
                     },
                     "type": "node"
                    },
                    {
                     "children": [
                      {
                       "children": [],
                       "instanceArgs": {
                        "namespace": "html",
                        "tag": "input"
                       },
                       "nodeType": "DOM",
                       "props": {
                        "attributes": {
                         "data-bind": "numericValue: index, valueUpdate: 'input', event: {change: function (){this.changes(this.changes()+1)}}",
                         "orient": "horizontal",
                         "type": "range"
                        },
                        "className": "slider slider is-fullwidth",
                        "max": 90,
                        "min": 1,
                        "step": 1,
                        "style": {}
                       },
                       "type": "node"
                      }
                     ],
                     "instanceArgs": {
                      "namespace": "html",
                      "tag": "div"
                     },
                     "nodeType": "DOM",
                     "props": {
                      "className": "interact-flex-row-center"
                     },
                     "type": "node"
                    },
                    {
                     "children": [
                      {
                       "children": [],
                       "instanceArgs": {
                        "namespace": "html",
                        "tag": "p"
                       },
                       "nodeType": "DOM",
                       "props": {
                        "attributes": {
                         "data-bind": "text: formatted_val"
                        }
                       },
                       "type": "node"
                      }
                     ],
                     "instanceArgs": {
                      "namespace": "html",
                      "tag": "div"
                     },
                     "nodeType": "DOM",
                     "props": {
                      "className": "interact-flex-row-right"
                     },
                     "type": "node"
                    }
                   ],
                   "instanceArgs": {
                    "namespace": "html",
                    "tag": "div"
                   },
                   "nodeType": "DOM",
                   "props": {
                    "className": "interact-flex-row interact-widget"
                   },
                   "type": "node"
                  }
                 ],
                 "instanceArgs": {
                  "handlers": {
                   "changes": [
                    "(function (val){return (val!=this.model[\"changes\"]()) ? (this.valueFromJulia[\"changes\"]=true, this.model[\"changes\"](val)) : undefined})"
                   ],
                   "index": [
                    "(function (val){return (val!=this.model[\"index\"]()) ? (this.valueFromJulia[\"index\"]=true, this.model[\"index\"](val)) : undefined})"
                   ]
                  },
                  "id": "18102564830908750318",
                  "imports": {
                   "data": [
                    {
                     "name": "knockout",
                     "type": "js",
                     "url": "/assetserver/727383f2a47bd31570b7da84eee7b022dd6d7c78-knockout.js"
                    },
                    {
                     "name": "knockout_punches",
                     "type": "js",
                     "url": "/assetserver/382b41b3b1bd9f26f75861d360bad7f8beea211f-knockout_punches.js"
                    },
                    {
                     "name": null,
                     "type": "js",
                     "url": "/assetserver/5ab20f1060420992a9b82a65b735dee4d81ef413-all.js"
                    },
                    {
                     "name": null,
                     "type": "css",
                     "url": "/assetserver/1cc0ed62837210b80a182cc3676512f895dab686-style.css"
                    },
                    {
                     "name": null,
                     "type": "css",
                     "url": "/assetserver/2eee816f616df3549d7044d45e744fbf8d42bfa1-bulma_confined.min.css"
                    }
                   ],
                   "type": "async_block"
                  },
                  "mount_callbacks": [
                   "function () {\n    var handler = (function (ko, koPunches) {\n    ko.punches.enableAll();\n    ko.bindingHandlers.numericValue = {\n        init: function(element, valueAccessor, allBindings, data, context) {\n            var stringified = ko.observable(ko.unwrap(valueAccessor()));\n            stringified.subscribe(function(value) {\n                var val = parseFloat(value);\n                if (!isNaN(val)) {\n                    valueAccessor()(val);\n                }\n            });\n            valueAccessor().subscribe(function(value) {\n                var str = JSON.stringify(value);\n                if ((str == \"0\") && ([\"-0\", \"-0.\"].indexOf(stringified()) >= 0))\n                     return;\n                 if ([\"null\", \"\"].indexOf(str) >= 0)\n                     return;\n                stringified(str);\n            });\n            ko.applyBindingsToNode(\n                element,\n                {\n                    value: stringified,\n                    valueUpdate: allBindings.get('valueUpdate'),\n                },\n                context,\n            );\n        }\n    };\n    var json_data = {\"formatted_vals\":[\"0.01\",\"0.02\",\"0.03\",\"0.04\",\"0.05\",\"0.06\",\"0.07\",\"0.08\",\"0.09\",\"0.1\",\"0.11\",\"0.12\",\"0.13\",\"0.14\",\"0.15\",\"0.16\",\"0.17\",\"0.18\",\"0.19\",\"0.2\",\"0.21\",\"0.22\",\"0.23\",\"0.24\",\"0.25\",\"0.26\",\"0.27\",\"0.28\",\"0.29\",\"0.3\",\"0.31\",\"0.32\",\"0.33\",\"0.34\",\"0.35\",\"0.36\",\"0.37\",\"0.38\",\"0.39\",\"0.4\",\"0.41\",\"0.42\",\"0.43\",\"0.44\",\"0.45\",\"0.46\",\"0.47\",\"0.48\",\"0.49\",\"0.5\",\"0.51\",\"0.52\",\"0.53\",\"0.54\",\"0.55\",\"0.56\",\"0.57\",\"0.58\",\"0.59\",\"0.6\",\"0.61\",\"0.62\",\"0.63\",\"0.64\",\"0.65\",\"0.66\",\"0.67\",\"0.68\",\"0.69\",\"0.7\",\"0.71\",\"0.72\",\"0.73\",\"0.74\",\"0.75\",\"0.76\",\"0.77\",\"0.78\",\"0.79\",\"0.8\",\"0.81\",\"0.82\",\"0.83\",\"0.84\",\"0.85\",\"0.86\",\"0.87\",\"0.88\",\"0.89\",\"0.9\"],\"changes\":WebIO.getval({\"name\":\"changes\",\"scope\":\"18102564830908750318\",\"id\":\"13546356093138665277\",\"type\":\"observable\"}),\"index\":WebIO.getval({\"name\":\"index\",\"scope\":\"18102564830908750318\",\"id\":\"17332266953398481449\",\"type\":\"observable\"})};\n    var self = this;\n    function AppViewModel() {\n        for (var key in json_data) {\n            var el = json_data[key];\n            this[key] = Array.isArray(el) ? ko.observableArray(el) : ko.observable(el);\n        }\n        \n        [this[\"formatted_val\"]=ko.computed(    function(){\n        return this.formatted_vals()[parseInt(this.index())-(1)];\n    }\n,this)]\n        [this[\"changes\"].subscribe((function (val){!(this.valueFromJulia[\"changes\"]) ? (WebIO.setval({\"name\":\"changes\",\"scope\":\"18102564830908750318\",\"id\":\"13546356093138665277\",\"type\":\"observable\"},val)) : undefined; return this.valueFromJulia[\"changes\"]=false}),self),this[\"index\"].subscribe((function (val){!(this.valueFromJulia[\"index\"]) ? (WebIO.setval({\"name\":\"index\",\"scope\":\"18102564830908750318\",\"id\":\"17332266953398481449\",\"type\":\"observable\"},val)) : undefined; return this.valueFromJulia[\"index\"]=false}),self)]\n        \n    }\n    self.model = new AppViewModel();\n    self.valueFromJulia = {};\n    for (var key in json_data) {\n        self.valueFromJulia[key] = false;\n    }\n    ko.applyBindings(self.model, self.dom);\n}\n);\n    (WebIO.importBlock({\"data\":[{\"name\":\"knockout\",\"type\":\"js\",\"url\":\"/assetserver/727383f2a47bd31570b7da84eee7b022dd6d7c78-knockout.js\"},{\"name\":\"knockout_punches\",\"type\":\"js\",\"url\":\"/assetserver/382b41b3b1bd9f26f75861d360bad7f8beea211f-knockout_punches.js\"}],\"type\":\"async_block\"})).then((imports) => handler.apply(this, imports));\n}\n"
                  ],
                  "observables": {
                   "changes": {
                    "id": "13546356093138665277",
                    "sync": false,
                    "value": 0
                   },
                   "index": {
                    "id": "17332266953398481449",
                    "sync": true,
                    "value": 45
                   }
                  },
                  "systemjs_options": null
                 },
                 "nodeType": "Scope",
                 "props": {},
                 "type": "node"
                }
               ],
               "instanceArgs": {
                "namespace": "html",
                "tag": "div"
               },
               "nodeType": "DOM",
               "props": {
                "className": "field interact-widget"
               },
               "type": "node"
              },
              {
               "children": [
                {
                 "children": [
                  {
                   "children": [
                    {
                     "children": [
                      {
                       "children": [
                        "wolves_kill_ability"
                       ],
                       "instanceArgs": {
                        "namespace": "html",
                        "tag": "label"
                       },
                       "nodeType": "DOM",
                       "props": {
                        "className": "interact ",
                        "style": {
                         "padding": "5px 10px 0px 10px"
                        }
                       },
                       "type": "node"
                      }
                     ],
                     "instanceArgs": {
                      "namespace": "html",
                      "tag": "div"
                     },
                     "nodeType": "DOM",
                     "props": {
                      "className": "interact-flex-row-left"
                     },
                     "type": "node"
                    },
                    {
                     "children": [
                      {
                       "children": [],
                       "instanceArgs": {
                        "namespace": "html",
                        "tag": "input"
                       },
                       "nodeType": "DOM",
                       "props": {
                        "attributes": {
                         "data-bind": "numericValue: index, valueUpdate: 'input', event: {change: function (){this.changes(this.changes()+1)}}",
                         "orient": "horizontal",
                         "type": "range"
                        },
                        "className": "slider slider is-fullwidth",
                        "max": 100,
                        "min": 1,
                        "step": 1,
                        "style": {}
                       },
                       "type": "node"
                      }
                     ],
                     "instanceArgs": {
                      "namespace": "html",
                      "tag": "div"
                     },
                     "nodeType": "DOM",
                     "props": {
                      "className": "interact-flex-row-center"
                     },
                     "type": "node"
                    },
                    {
                     "children": [
                      {
                       "children": [],
                       "instanceArgs": {
                        "namespace": "html",
                        "tag": "p"
                       },
                       "nodeType": "DOM",
                       "props": {
                        "attributes": {
                         "data-bind": "text: formatted_val"
                        }
                       },
                       "type": "node"
                      }
                     ],
                     "instanceArgs": {
                      "namespace": "html",
                      "tag": "div"
                     },
                     "nodeType": "DOM",
                     "props": {
                      "className": "interact-flex-row-right"
                     },
                     "type": "node"
                    }
                   ],
                   "instanceArgs": {
                    "namespace": "html",
                    "tag": "div"
                   },
                   "nodeType": "DOM",
                   "props": {
                    "className": "interact-flex-row interact-widget"
                   },
                   "type": "node"
                  }
                 ],
                 "instanceArgs": {
                  "handlers": {
                   "changes": [
                    "(function (val){return (val!=this.model[\"changes\"]()) ? (this.valueFromJulia[\"changes\"]=true, this.model[\"changes\"](val)) : undefined})"
                   ],
                   "index": [
                    "(function (val){return (val!=this.model[\"index\"]()) ? (this.valueFromJulia[\"index\"]=true, this.model[\"index\"](val)) : undefined})"
                   ]
                  },
                  "id": "9844211904419221169",
                  "imports": {
                   "data": [
                    {
                     "name": "knockout",
                     "type": "js",
                     "url": "/assetserver/727383f2a47bd31570b7da84eee7b022dd6d7c78-knockout.js"
                    },
                    {
                     "name": "knockout_punches",
                     "type": "js",
                     "url": "/assetserver/382b41b3b1bd9f26f75861d360bad7f8beea211f-knockout_punches.js"
                    },
                    {
                     "name": null,
                     "type": "js",
                     "url": "/assetserver/5ab20f1060420992a9b82a65b735dee4d81ef413-all.js"
                    },
                    {
                     "name": null,
                     "type": "css",
                     "url": "/assetserver/1cc0ed62837210b80a182cc3676512f895dab686-style.css"
                    },
                    {
                     "name": null,
                     "type": "css",
                     "url": "/assetserver/2eee816f616df3549d7044d45e744fbf8d42bfa1-bulma_confined.min.css"
                    }
                   ],
                   "type": "async_block"
                  },
                  "mount_callbacks": [
                   "function () {\n    var handler = (function (ko, koPunches) {\n    ko.punches.enableAll();\n    ko.bindingHandlers.numericValue = {\n        init: function(element, valueAccessor, allBindings, data, context) {\n            var stringified = ko.observable(ko.unwrap(valueAccessor()));\n            stringified.subscribe(function(value) {\n                var val = parseFloat(value);\n                if (!isNaN(val)) {\n                    valueAccessor()(val);\n                }\n            });\n            valueAccessor().subscribe(function(value) {\n                var str = JSON.stringify(value);\n                if ((str == \"0\") && ([\"-0\", \"-0.\"].indexOf(stringified()) >= 0))\n                     return;\n                 if ([\"null\", \"\"].indexOf(str) >= 0)\n                     return;\n                stringified(str);\n            });\n            ko.applyBindingsToNode(\n                element,\n                {\n                    value: stringified,\n                    valueUpdate: allBindings.get('valueUpdate'),\n                },\n                context,\n            );\n        }\n    };\n    var json_data = {\"formatted_vals\":[\"0.01\",\"0.02\",\"0.03\",\"0.04\",\"0.05\",\"0.06\",\"0.07\",\"0.08\",\"0.09\",\"0.1\",\"0.11\",\"0.12\",\"0.13\",\"0.14\",\"0.15\",\"0.16\",\"0.17\",\"0.18\",\"0.19\",\"0.2\",\"0.21\",\"0.22\",\"0.23\",\"0.24\",\"0.25\",\"0.26\",\"0.27\",\"0.28\",\"0.29\",\"0.3\",\"0.31\",\"0.32\",\"0.33\",\"0.34\",\"0.35\",\"0.36\",\"0.37\",\"0.38\",\"0.39\",\"0.4\",\"0.41\",\"0.42\",\"0.43\",\"0.44\",\"0.45\",\"0.46\",\"0.47\",\"0.48\",\"0.49\",\"0.5\",\"0.51\",\"0.52\",\"0.53\",\"0.54\",\"0.55\",\"0.56\",\"0.57\",\"0.58\",\"0.59\",\"0.6\",\"0.61\",\"0.62\",\"0.63\",\"0.64\",\"0.65\",\"0.66\",\"0.67\",\"0.68\",\"0.69\",\"0.7\",\"0.71\",\"0.72\",\"0.73\",\"0.74\",\"0.75\",\"0.76\",\"0.77\",\"0.78\",\"0.79\",\"0.8\",\"0.81\",\"0.82\",\"0.83\",\"0.84\",\"0.85\",\"0.86\",\"0.87\",\"0.88\",\"0.89\",\"0.9\",\"0.91\",\"0.92\",\"0.93\",\"0.94\",\"0.95\",\"0.96\",\"0.97\",\"0.98\",\"0.99\",\"1.0\"],\"changes\":WebIO.getval({\"name\":\"changes\",\"scope\":\"9844211904419221169\",\"id\":\"8713933071550937173\",\"type\":\"observable\"}),\"index\":WebIO.getval({\"name\":\"index\",\"scope\":\"9844211904419221169\",\"id\":\"16320795768102615219\",\"type\":\"observable\"})};\n    var self = this;\n    function AppViewModel() {\n        for (var key in json_data) {\n            var el = json_data[key];\n            this[key] = Array.isArray(el) ? ko.observableArray(el) : ko.observable(el);\n        }\n        \n        [this[\"formatted_val\"]=ko.computed(    function(){\n        return this.formatted_vals()[parseInt(this.index())-(1)];\n    }\n,this)]\n        [this[\"changes\"].subscribe((function (val){!(this.valueFromJulia[\"changes\"]) ? (WebIO.setval({\"name\":\"changes\",\"scope\":\"9844211904419221169\",\"id\":\"8713933071550937173\",\"type\":\"observable\"},val)) : undefined; return this.valueFromJulia[\"changes\"]=false}),self),this[\"index\"].subscribe((function (val){!(this.valueFromJulia[\"index\"]) ? (WebIO.setval({\"name\":\"index\",\"scope\":\"9844211904419221169\",\"id\":\"16320795768102615219\",\"type\":\"observable\"},val)) : undefined; return this.valueFromJulia[\"index\"]=false}),self)]\n        \n    }\n    self.model = new AppViewModel();\n    self.valueFromJulia = {};\n    for (var key in json_data) {\n        self.valueFromJulia[key] = false;\n    }\n    ko.applyBindings(self.model, self.dom);\n}\n);\n    (WebIO.importBlock({\"data\":[{\"name\":\"knockout\",\"type\":\"js\",\"url\":\"/assetserver/727383f2a47bd31570b7da84eee7b022dd6d7c78-knockout.js\"},{\"name\":\"knockout_punches\",\"type\":\"js\",\"url\":\"/assetserver/382b41b3b1bd9f26f75861d360bad7f8beea211f-knockout_punches.js\"}],\"type\":\"async_block\"})).then((imports) => handler.apply(this, imports));\n}\n"
                  ],
                  "observables": {
                   "changes": {
                    "id": "8713933071550937173",
                    "sync": false,
                    "value": 0
                   },
                   "index": {
                    "id": "16320795768102615219",
                    "sync": true,
                    "value": 50
                   }
                  },
                  "systemjs_options": null
                 },
                 "nodeType": "Scope",
                 "props": {},
                 "type": "node"
                }
               ],
               "instanceArgs": {
                "namespace": "html",
                "tag": "div"
               },
               "nodeType": "DOM",
               "props": {
                "className": "field interact-widget"
               },
               "type": "node"
              },
              {
               "children": [
                {
                 "children": [
                  {
                   "children": [
                    {
                     "children": [
                      {
                       "children": [
                        "grass_grow_prob"
                       ],
                       "instanceArgs": {
                        "namespace": "html",
                        "tag": "label"
                       },
                       "nodeType": "DOM",
                       "props": {
                        "className": "interact ",
                        "style": {
                         "padding": "5px 10px 0px 10px"
                        }
                       },
                       "type": "node"
                      }
                     ],
                     "instanceArgs": {
                      "namespace": "html",
                      "tag": "div"
                     },
                     "nodeType": "DOM",
                     "props": {
                      "className": "interact-flex-row-left"
                     },
                     "type": "node"
                    },
                    {
                     "children": [
                      {
                       "children": [],
                       "instanceArgs": {
                        "namespace": "html",
                        "tag": "input"
                       },
                       "nodeType": "DOM",
                       "props": {
                        "attributes": {
                         "data-bind": "numericValue: index, valueUpdate: 'input', event: {change: function (){this.changes(this.changes()+1)}}",
                         "orient": "horizontal",
                         "type": "range"
                        },
                        "className": "slider slider is-fullwidth",
                        "max": 50,
                        "min": 1,
                        "step": 1,
                        "style": {}
                       },
                       "type": "node"
                      }
                     ],
                     "instanceArgs": {
                      "namespace": "html",
                      "tag": "div"
                     },
                     "nodeType": "DOM",
                     "props": {
                      "className": "interact-flex-row-center"
                     },
                     "type": "node"
                    },
                    {
                     "children": [
                      {
                       "children": [],
                       "instanceArgs": {
                        "namespace": "html",
                        "tag": "p"
                       },
                       "nodeType": "DOM",
                       "props": {
                        "attributes": {
                         "data-bind": "text: formatted_val"
                        }
                       },
                       "type": "node"
                      }
                     ],
                     "instanceArgs": {
                      "namespace": "html",
                      "tag": "div"
                     },
                     "nodeType": "DOM",
                     "props": {
                      "className": "interact-flex-row-right"
                     },
                     "type": "node"
                    }
                   ],
                   "instanceArgs": {
                    "namespace": "html",
                    "tag": "div"
                   },
                   "nodeType": "DOM",
                   "props": {
                    "className": "interact-flex-row interact-widget"
                   },
                   "type": "node"
                  }
                 ],
                 "instanceArgs": {
                  "handlers": {
                   "changes": [
                    "(function (val){return (val!=this.model[\"changes\"]()) ? (this.valueFromJulia[\"changes\"]=true, this.model[\"changes\"](val)) : undefined})"
                   ],
                   "index": [
                    "(function (val){return (val!=this.model[\"index\"]()) ? (this.valueFromJulia[\"index\"]=true, this.model[\"index\"](val)) : undefined})"
                   ]
                  },
                  "id": "5159910332718666706",
                  "imports": {
                   "data": [
                    {
                     "name": "knockout",
                     "type": "js",
                     "url": "/assetserver/727383f2a47bd31570b7da84eee7b022dd6d7c78-knockout.js"
                    },
                    {
                     "name": "knockout_punches",
                     "type": "js",
                     "url": "/assetserver/382b41b3b1bd9f26f75861d360bad7f8beea211f-knockout_punches.js"
                    },
                    {
                     "name": null,
                     "type": "js",
                     "url": "/assetserver/5ab20f1060420992a9b82a65b735dee4d81ef413-all.js"
                    },
                    {
                     "name": null,
                     "type": "css",
                     "url": "/assetserver/1cc0ed62837210b80a182cc3676512f895dab686-style.css"
                    },
                    {
                     "name": null,
                     "type": "css",
                     "url": "/assetserver/2eee816f616df3549d7044d45e744fbf8d42bfa1-bulma_confined.min.css"
                    }
                   ],
                   "type": "async_block"
                  },
                  "mount_callbacks": [
                   "function () {\n    var handler = (function (ko, koPunches) {\n    ko.punches.enableAll();\n    ko.bindingHandlers.numericValue = {\n        init: function(element, valueAccessor, allBindings, data, context) {\n            var stringified = ko.observable(ko.unwrap(valueAccessor()));\n            stringified.subscribe(function(value) {\n                var val = parseFloat(value);\n                if (!isNaN(val)) {\n                    valueAccessor()(val);\n                }\n            });\n            valueAccessor().subscribe(function(value) {\n                var str = JSON.stringify(value);\n                if ((str == \"0\") && ([\"-0\", \"-0.\"].indexOf(stringified()) >= 0))\n                     return;\n                 if ([\"null\", \"\"].indexOf(str) >= 0)\n                     return;\n                stringified(str);\n            });\n            ko.applyBindingsToNode(\n                element,\n                {\n                    value: stringified,\n                    valueUpdate: allBindings.get('valueUpdate'),\n                },\n                context,\n            );\n        }\n    };\n    var json_data = {\"formatted_vals\":[\"0.01\",\"0.02\",\"0.03\",\"0.04\",\"0.05\",\"0.06\",\"0.07\",\"0.08\",\"0.09\",\"0.1\",\"0.11\",\"0.12\",\"0.13\",\"0.14\",\"0.15\",\"0.16\",\"0.17\",\"0.18\",\"0.19\",\"0.2\",\"0.21\",\"0.22\",\"0.23\",\"0.24\",\"0.25\",\"0.26\",\"0.27\",\"0.28\",\"0.29\",\"0.3\",\"0.31\",\"0.32\",\"0.33\",\"0.34\",\"0.35\",\"0.36\",\"0.37\",\"0.38\",\"0.39\",\"0.4\",\"0.41\",\"0.42\",\"0.43\",\"0.44\",\"0.45\",\"0.46\",\"0.47\",\"0.48\",\"0.49\",\"0.5\"],\"changes\":WebIO.getval({\"name\":\"changes\",\"scope\":\"5159910332718666706\",\"id\":\"3199598296072437720\",\"type\":\"observable\"}),\"index\":WebIO.getval({\"name\":\"index\",\"scope\":\"5159910332718666706\",\"id\":\"11435830236159261238\",\"type\":\"observable\"})};\n    var self = this;\n    function AppViewModel() {\n        for (var key in json_data) {\n            var el = json_data[key];\n            this[key] = Array.isArray(el) ? ko.observableArray(el) : ko.observable(el);\n        }\n        \n        [this[\"formatted_val\"]=ko.computed(    function(){\n        return this.formatted_vals()[parseInt(this.index())-(1)];\n    }\n,this)]\n        [this[\"changes\"].subscribe((function (val){!(this.valueFromJulia[\"changes\"]) ? (WebIO.setval({\"name\":\"changes\",\"scope\":\"5159910332718666706\",\"id\":\"3199598296072437720\",\"type\":\"observable\"},val)) : undefined; return this.valueFromJulia[\"changes\"]=false}),self),this[\"index\"].subscribe((function (val){!(this.valueFromJulia[\"index\"]) ? (WebIO.setval({\"name\":\"index\",\"scope\":\"5159910332718666706\",\"id\":\"11435830236159261238\",\"type\":\"observable\"},val)) : undefined; return this.valueFromJulia[\"index\"]=false}),self)]\n        \n    }\n    self.model = new AppViewModel();\n    self.valueFromJulia = {};\n    for (var key in json_data) {\n        self.valueFromJulia[key] = false;\n    }\n    ko.applyBindings(self.model, self.dom);\n}\n);\n    (WebIO.importBlock({\"data\":[{\"name\":\"knockout\",\"type\":\"js\",\"url\":\"/assetserver/727383f2a47bd31570b7da84eee7b022dd6d7c78-knockout.js\"},{\"name\":\"knockout_punches\",\"type\":\"js\",\"url\":\"/assetserver/382b41b3b1bd9f26f75861d360bad7f8beea211f-knockout_punches.js\"}],\"type\":\"async_block\"})).then((imports) => handler.apply(this, imports));\n}\n"
                  ],
                  "observables": {
                   "changes": {
                    "id": "3199598296072437720",
                    "sync": false,
                    "value": 0
                   },
                   "index": {
                    "id": "11435830236159261238",
                    "sync": true,
                    "value": 25
                   }
                  },
                  "systemjs_options": null
                 },
                 "nodeType": "Scope",
                 "props": {},
                 "type": "node"
                }
               ],
               "instanceArgs": {
                "namespace": "html",
                "tag": "div"
               },
               "nodeType": "DOM",
               "props": {
                "className": "field interact-widget"
               },
               "type": "node"
              }
             ],
             "instanceArgs": {
              "namespace": "html",
              "tag": "div"
             },
             "nodeType": "DOM",
             "props": {
              "style": {
               "display": "flex",
               "flex-direction": "column"
              }
             },
             "type": "node"
            },
            {
             "children": [
              {
               "children": [
                {
                 "children": [
                  {
                   "children": [],
                   "instanceArgs": {
                    "namespace": "html",
                    "tag": "div"
                   },
                   "nodeType": "DOM",
                   "props": {
                    "id": "container"
                   },
                   "type": "node"
                  }
                 ],
                 "instanceArgs": {
                  "handlers": {
                   "value": [
                    "(function (txt){return this.k.render(txt,this.container)})"
                   ]
                  },
                  "id": "18066878004022274791",
                  "imports": {
                   "data": [
                    {
                     "name": null,
                     "type": "js",
                     "url": "/assetserver/dd22ed1bf1896c2748f3fe616ce0b838adc895c1-katex.min.js"
                    },
                    {
                     "name": null,
                     "type": "css",
                     "url": "/assetserver/46517a424aa5e6cffc1360d7e0848b601c584ee3-katex.min.css"
                    }
                   ],
                   "type": "async_block"
                  },
                  "mount_callbacks": [
                   "function () {\n    var handler = ((function (k){this.k=k; this.container=this.dom.querySelector(\"#container\"); return k.render(\"\\\\;\\\\;\",this.container)}));\n    (WebIO.importBlock({\"data\":[{\"name\":null,\"type\":\"js\",\"url\":\"/assetserver/dd22ed1bf1896c2748f3fe616ce0b838adc895c1-katex.min.js\"},{\"name\":null,\"type\":\"css\",\"url\":\"/assetserver/46517a424aa5e6cffc1360d7e0848b601c584ee3-katex.min.css\"}],\"type\":\"async_block\"})).then((imports) => handler.apply(this, imports));\n}\n"
                  ],
                  "observables": {
                   "value": {
                    "id": "10437080321436842502",
                    "sync": false,
                    "value": "\\;\\;"
                   }
                  },
                  "systemjs_options": null
                 },
                 "nodeType": "Scope",
                 "props": {},
                 "type": "node"
                }
               ],
               "instanceArgs": {
                "namespace": "html",
                "tag": "div"
               },
               "nodeType": "DOM",
               "props": {
                "className": "interact-widget"
               },
               "type": "node"
              },
              {
               "children": [
                {
                 "children": [
                  {
                   "children": [
                    "run"
                   ],
                   "instanceArgs": {
                    "namespace": "html",
                    "tag": "button"
                   },
                   "nodeType": "DOM",
                   "props": {
                    "attributes": {
                     "data-bind": "click: function (){this.clicks(this.clicks()+1)}, css: {'is-loading' : loading}"
                    },
                    "className": "is-medium button is-primary",
                    "style": {}
                   },
                   "type": "node"
                  }
                 ],
                 "instanceArgs": {
                  "handlers": {
                   "clicks": [
                    "(function (val){return (val!=this.model[\"clicks\"]()) ? (this.valueFromJulia[\"clicks\"]=true, this.model[\"clicks\"](val)) : undefined})"
                   ],
                   "loading": [
                    "(function (val){return (val!=this.model[\"loading\"]()) ? (this.valueFromJulia[\"loading\"]=true, this.model[\"loading\"](val)) : undefined})"
                   ]
                  },
                  "id": "6668461495278469094",
                  "imports": {
                   "data": [
                    {
                     "name": "knockout",
                     "type": "js",
                     "url": "/assetserver/727383f2a47bd31570b7da84eee7b022dd6d7c78-knockout.js"
                    },
                    {
                     "name": "knockout_punches",
                     "type": "js",
                     "url": "/assetserver/382b41b3b1bd9f26f75861d360bad7f8beea211f-knockout_punches.js"
                    },
                    {
                     "name": null,
                     "type": "js",
                     "url": "/assetserver/5ab20f1060420992a9b82a65b735dee4d81ef413-all.js"
                    },
                    {
                     "name": null,
                     "type": "css",
                     "url": "/assetserver/1cc0ed62837210b80a182cc3676512f895dab686-style.css"
                    },
                    {
                     "name": null,
                     "type": "css",
                     "url": "/assetserver/2eee816f616df3549d7044d45e744fbf8d42bfa1-bulma_confined.min.css"
                    }
                   ],
                   "type": "async_block"
                  },
                  "mount_callbacks": [
                   "function () {\n    var handler = (function (ko, koPunches) {\n    ko.punches.enableAll();\n    ko.bindingHandlers.numericValue = {\n        init: function(element, valueAccessor, allBindings, data, context) {\n            var stringified = ko.observable(ko.unwrap(valueAccessor()));\n            stringified.subscribe(function(value) {\n                var val = parseFloat(value);\n                if (!isNaN(val)) {\n                    valueAccessor()(val);\n                }\n            });\n            valueAccessor().subscribe(function(value) {\n                var str = JSON.stringify(value);\n                if ((str == \"0\") && ([\"-0\", \"-0.\"].indexOf(stringified()) >= 0))\n                     return;\n                 if ([\"null\", \"\"].indexOf(str) >= 0)\n                     return;\n                stringified(str);\n            });\n            ko.applyBindingsToNode(\n                element,\n                {\n                    value: stringified,\n                    valueUpdate: allBindings.get('valueUpdate'),\n                },\n                context,\n            );\n        }\n    };\n    var json_data = {\"loading\":WebIO.getval({\"name\":\"loading\",\"scope\":\"6668461495278469094\",\"id\":\"12351899954350154274\",\"type\":\"observable\"}),\"clicks\":WebIO.getval({\"name\":\"clicks\",\"scope\":\"6668461495278469094\",\"id\":\"5313946134929187040\",\"type\":\"observable\"})};\n    var self = this;\n    function AppViewModel() {\n        for (var key in json_data) {\n            var el = json_data[key];\n            this[key] = Array.isArray(el) ? ko.observableArray(el) : ko.observable(el);\n        }\n        \n        \n        [this[\"loading\"].subscribe((function (val){!(this.valueFromJulia[\"loading\"]) ? (WebIO.setval({\"name\":\"loading\",\"scope\":\"6668461495278469094\",\"id\":\"12351899954350154274\",\"type\":\"observable\"},val)) : undefined; return this.valueFromJulia[\"loading\"]=false}),self),this[\"clicks\"].subscribe((function (val){!(this.valueFromJulia[\"clicks\"]) ? (WebIO.setval({\"name\":\"clicks\",\"scope\":\"6668461495278469094\",\"id\":\"5313946134929187040\",\"type\":\"observable\"},val)) : undefined; return this.valueFromJulia[\"clicks\"]=false}),self)]\n        \n    }\n    self.model = new AppViewModel();\n    self.valueFromJulia = {};\n    for (var key in json_data) {\n        self.valueFromJulia[key] = false;\n    }\n    ko.applyBindings(self.model, self.dom);\n}\n);\n    (WebIO.importBlock({\"data\":[{\"name\":\"knockout\",\"type\":\"js\",\"url\":\"/assetserver/727383f2a47bd31570b7da84eee7b022dd6d7c78-knockout.js\"},{\"name\":\"knockout_punches\",\"type\":\"js\",\"url\":\"/assetserver/382b41b3b1bd9f26f75861d360bad7f8beea211f-knockout_punches.js\"}],\"type\":\"async_block\"})).then((imports) => handler.apply(this, imports));\n}\n"
                  ],
                  "observables": {
                   "clicks": {
                    "id": "5313946134929187040",
                    "sync": true,
                    "value": 0
                   },
                   "loading": {
                    "id": "12351899954350154274",
                    "sync": false,
                    "value": false
                   }
                  },
                  "systemjs_options": null
                 },
                 "nodeType": "Scope",
                 "props": {},
                 "type": "node"
                }
               ],
               "instanceArgs": {
                "namespace": "html",
                "tag": "div"
               },
               "nodeType": "DOM",
               "props": {
                "className": "field interact-widget"
               },
               "type": "node"
              },
              {
               "children": [
                {
                 "children": [
                  {
                   "children": [],
                   "instanceArgs": {
                    "namespace": "html",
                    "tag": "div"
                   },
                   "nodeType": "DOM",
                   "props": {
                    "id": "container"
                   },
                   "type": "node"
                  }
                 ],
                 "instanceArgs": {
                  "handlers": {
                   "value": [
                    "(function (txt){return this.k.render(txt,this.container)})"
                   ]
                  },
                  "id": "18066878004022274791",
                  "imports": {
                   "data": [
                    {
                     "name": null,
                     "type": "js",
                     "url": "/assetserver/dd22ed1bf1896c2748f3fe616ce0b838adc895c1-katex.min.js"
                    },
                    {
                     "name": null,
                     "type": "css",
                     "url": "/assetserver/46517a424aa5e6cffc1360d7e0848b601c584ee3-katex.min.css"
                    }
                   ],
                   "type": "async_block"
                  },
                  "mount_callbacks": [
                   "function () {\n    var handler = ((function (k){this.k=k; this.container=this.dom.querySelector(\"#container\"); return k.render(\"\\\\;\\\\;\",this.container)}));\n    (WebIO.importBlock({\"data\":[{\"name\":null,\"type\":\"js\",\"url\":\"/assetserver/dd22ed1bf1896c2748f3fe616ce0b838adc895c1-katex.min.js\"},{\"name\":null,\"type\":\"css\",\"url\":\"/assetserver/46517a424aa5e6cffc1360d7e0848b601c584ee3-katex.min.css\"}],\"type\":\"async_block\"})).then((imports) => handler.apply(this, imports));\n}\n"
                  ],
                  "observables": {
                   "value": {
                    "id": "10437080321436842502",
                    "sync": false,
                    "value": "\\;\\;"
                   }
                  },
                  "systemjs_options": null
                 },
                 "nodeType": "Scope",
                 "props": {},
                 "type": "node"
                }
               ],
               "instanceArgs": {
                "namespace": "html",
                "tag": "div"
               },
               "nodeType": "DOM",
               "props": {
                "className": "interact-widget"
               },
               "type": "node"
              },
              {
               "children": [
                {
                 "children": [
                  {
                   "children": [
                    "stop"
                   ],
                   "instanceArgs": {
                    "namespace": "html",
                    "tag": "button"
                   },
                   "nodeType": "DOM",
                   "props": {
                    "attributes": {
                     "data-bind": "click: function (){this.clicks(this.clicks()+1)}, css: {'is-loading' : loading}"
                    },
                    "className": "is-medium button is-primary",
                    "style": {}
                   },
                   "type": "node"
                  }
                 ],
                 "instanceArgs": {
                  "handlers": {
                   "clicks": [
                    "(function (val){return (val!=this.model[\"clicks\"]()) ? (this.valueFromJulia[\"clicks\"]=true, this.model[\"clicks\"](val)) : undefined})"
                   ],
                   "loading": [
                    "(function (val){return (val!=this.model[\"loading\"]()) ? (this.valueFromJulia[\"loading\"]=true, this.model[\"loading\"](val)) : undefined})"
                   ]
                  },
                  "id": "11530523912243027645",
                  "imports": {
                   "data": [
                    {
                     "name": "knockout",
                     "type": "js",
                     "url": "/assetserver/727383f2a47bd31570b7da84eee7b022dd6d7c78-knockout.js"
                    },
                    {
                     "name": "knockout_punches",
                     "type": "js",
                     "url": "/assetserver/382b41b3b1bd9f26f75861d360bad7f8beea211f-knockout_punches.js"
                    },
                    {
                     "name": null,
                     "type": "js",
                     "url": "/assetserver/5ab20f1060420992a9b82a65b735dee4d81ef413-all.js"
                    },
                    {
                     "name": null,
                     "type": "css",
                     "url": "/assetserver/1cc0ed62837210b80a182cc3676512f895dab686-style.css"
                    },
                    {
                     "name": null,
                     "type": "css",
                     "url": "/assetserver/2eee816f616df3549d7044d45e744fbf8d42bfa1-bulma_confined.min.css"
                    }
                   ],
                   "type": "async_block"
                  },
                  "mount_callbacks": [
                   "function () {\n    var handler = (function (ko, koPunches) {\n    ko.punches.enableAll();\n    ko.bindingHandlers.numericValue = {\n        init: function(element, valueAccessor, allBindings, data, context) {\n            var stringified = ko.observable(ko.unwrap(valueAccessor()));\n            stringified.subscribe(function(value) {\n                var val = parseFloat(value);\n                if (!isNaN(val)) {\n                    valueAccessor()(val);\n                }\n            });\n            valueAccessor().subscribe(function(value) {\n                var str = JSON.stringify(value);\n                if ((str == \"0\") && ([\"-0\", \"-0.\"].indexOf(stringified()) >= 0))\n                     return;\n                 if ([\"null\", \"\"].indexOf(str) >= 0)\n                     return;\n                stringified(str);\n            });\n            ko.applyBindingsToNode(\n                element,\n                {\n                    value: stringified,\n                    valueUpdate: allBindings.get('valueUpdate'),\n                },\n                context,\n            );\n        }\n    };\n    var json_data = {\"loading\":WebIO.getval({\"name\":\"loading\",\"scope\":\"11530523912243027645\",\"id\":\"940680427821531194\",\"type\":\"observable\"}),\"clicks\":WebIO.getval({\"name\":\"clicks\",\"scope\":\"11530523912243027645\",\"id\":\"17485846705426047982\",\"type\":\"observable\"})};\n    var self = this;\n    function AppViewModel() {\n        for (var key in json_data) {\n            var el = json_data[key];\n            this[key] = Array.isArray(el) ? ko.observableArray(el) : ko.observable(el);\n        }\n        \n        \n        [this[\"loading\"].subscribe((function (val){!(this.valueFromJulia[\"loading\"]) ? (WebIO.setval({\"name\":\"loading\",\"scope\":\"11530523912243027645\",\"id\":\"940680427821531194\",\"type\":\"observable\"},val)) : undefined; return this.valueFromJulia[\"loading\"]=false}),self),this[\"clicks\"].subscribe((function (val){!(this.valueFromJulia[\"clicks\"]) ? (WebIO.setval({\"name\":\"clicks\",\"scope\":\"11530523912243027645\",\"id\":\"17485846705426047982\",\"type\":\"observable\"},val)) : undefined; return this.valueFromJulia[\"clicks\"]=false}),self)]\n        \n    }\n    self.model = new AppViewModel();\n    self.valueFromJulia = {};\n    for (var key in json_data) {\n        self.valueFromJulia[key] = false;\n    }\n    ko.applyBindings(self.model, self.dom);\n}\n);\n    (WebIO.importBlock({\"data\":[{\"name\":\"knockout\",\"type\":\"js\",\"url\":\"/assetserver/727383f2a47bd31570b7da84eee7b022dd6d7c78-knockout.js\"},{\"name\":\"knockout_punches\",\"type\":\"js\",\"url\":\"/assetserver/382b41b3b1bd9f26f75861d360bad7f8beea211f-knockout_punches.js\"}],\"type\":\"async_block\"})).then((imports) => handler.apply(this, imports));\n}\n"
                  ],
                  "observables": {
                   "clicks": {
                    "id": "17485846705426047982",
                    "sync": true,
                    "value": 0
                   },
                   "loading": {
                    "id": "940680427821531194",
                    "sync": false,
                    "value": false
                   }
                  },
                  "systemjs_options": null
                 },
                 "nodeType": "Scope",
                 "props": {},
                 "type": "node"
                }
               ],
               "instanceArgs": {
                "namespace": "html",
                "tag": "div"
               },
               "nodeType": "DOM",
               "props": {
                "className": "field interact-widget"
               },
               "type": "node"
              },
              {
               "children": [
                {
                 "children": [
                  {
                   "children": [],
                   "instanceArgs": {
                    "namespace": "html",
                    "tag": "div"
                   },
                   "nodeType": "DOM",
                   "props": {
                    "id": "container"
                   },
                   "type": "node"
                  }
                 ],
                 "instanceArgs": {
                  "handlers": {
                   "value": [
                    "(function (txt){return this.k.render(txt,this.container)})"
                   ]
                  },
                  "id": "18066878004022274791",
                  "imports": {
                   "data": [
                    {
                     "name": null,
                     "type": "js",
                     "url": "/assetserver/dd22ed1bf1896c2748f3fe616ce0b838adc895c1-katex.min.js"
                    },
                    {
                     "name": null,
                     "type": "css",
                     "url": "/assetserver/46517a424aa5e6cffc1360d7e0848b601c584ee3-katex.min.css"
                    }
                   ],
                   "type": "async_block"
                  },
                  "mount_callbacks": [
                   "function () {\n    var handler = ((function (k){this.k=k; this.container=this.dom.querySelector(\"#container\"); return k.render(\"\\\\;\\\\;\",this.container)}));\n    (WebIO.importBlock({\"data\":[{\"name\":null,\"type\":\"js\",\"url\":\"/assetserver/dd22ed1bf1896c2748f3fe616ce0b838adc895c1-katex.min.js\"},{\"name\":null,\"type\":\"css\",\"url\":\"/assetserver/46517a424aa5e6cffc1360d7e0848b601c584ee3-katex.min.css\"}],\"type\":\"async_block\"})).then((imports) => handler.apply(this, imports));\n}\n"
                  ],
                  "observables": {
                   "value": {
                    "id": "10437080321436842502",
                    "sync": false,
                    "value": "\\;\\;"
                   }
                  },
                  "systemjs_options": null
                 },
                 "nodeType": "Scope",
                 "props": {},
                 "type": "node"
                }
               ],
               "instanceArgs": {
                "namespace": "html",
                "tag": "div"
               },
               "nodeType": "DOM",
               "props": {
                "className": "interact-widget"
               },
               "type": "node"
              },
              {
               "children": [
                {
                 "children": [
                  {
                   "children": [
                    "reset"
                   ],
                   "instanceArgs": {
                    "namespace": "html",
                    "tag": "button"
                   },
                   "nodeType": "DOM",
                   "props": {
                    "attributes": {
                     "data-bind": "click: function (){this.clicks(this.clicks()+1)}, css: {'is-loading' : loading}"
                    },
                    "className": "is-medium button is-primary",
                    "style": {}
                   },
                   "type": "node"
                  }
                 ],
                 "instanceArgs": {
                  "handlers": {
                   "clicks": [
                    "(function (val){return (val!=this.model[\"clicks\"]()) ? (this.valueFromJulia[\"clicks\"]=true, this.model[\"clicks\"](val)) : undefined})"
                   ],
                   "loading": [
                    "(function (val){return (val!=this.model[\"loading\"]()) ? (this.valueFromJulia[\"loading\"]=true, this.model[\"loading\"](val)) : undefined})"
                   ]
                  },
                  "id": "3683292889822425855",
                  "imports": {
                   "data": [
                    {
                     "name": "knockout",
                     "type": "js",
                     "url": "/assetserver/727383f2a47bd31570b7da84eee7b022dd6d7c78-knockout.js"
                    },
                    {
                     "name": "knockout_punches",
                     "type": "js",
                     "url": "/assetserver/382b41b3b1bd9f26f75861d360bad7f8beea211f-knockout_punches.js"
                    },
                    {
                     "name": null,
                     "type": "js",
                     "url": "/assetserver/5ab20f1060420992a9b82a65b735dee4d81ef413-all.js"
                    },
                    {
                     "name": null,
                     "type": "css",
                     "url": "/assetserver/1cc0ed62837210b80a182cc3676512f895dab686-style.css"
                    },
                    {
                     "name": null,
                     "type": "css",
                     "url": "/assetserver/2eee816f616df3549d7044d45e744fbf8d42bfa1-bulma_confined.min.css"
                    }
                   ],
                   "type": "async_block"
                  },
                  "mount_callbacks": [
                   "function () {\n    var handler = (function (ko, koPunches) {\n    ko.punches.enableAll();\n    ko.bindingHandlers.numericValue = {\n        init: function(element, valueAccessor, allBindings, data, context) {\n            var stringified = ko.observable(ko.unwrap(valueAccessor()));\n            stringified.subscribe(function(value) {\n                var val = parseFloat(value);\n                if (!isNaN(val)) {\n                    valueAccessor()(val);\n                }\n            });\n            valueAccessor().subscribe(function(value) {\n                var str = JSON.stringify(value);\n                if ((str == \"0\") && ([\"-0\", \"-0.\"].indexOf(stringified()) >= 0))\n                     return;\n                 if ([\"null\", \"\"].indexOf(str) >= 0)\n                     return;\n                stringified(str);\n            });\n            ko.applyBindingsToNode(\n                element,\n                {\n                    value: stringified,\n                    valueUpdate: allBindings.get('valueUpdate'),\n                },\n                context,\n            );\n        }\n    };\n    var json_data = {\"loading\":WebIO.getval({\"name\":\"loading\",\"scope\":\"3683292889822425855\",\"id\":\"4409631856211553009\",\"type\":\"observable\"}),\"clicks\":WebIO.getval({\"name\":\"clicks\",\"scope\":\"3683292889822425855\",\"id\":\"8849561032799228156\",\"type\":\"observable\"})};\n    var self = this;\n    function AppViewModel() {\n        for (var key in json_data) {\n            var el = json_data[key];\n            this[key] = Array.isArray(el) ? ko.observableArray(el) : ko.observable(el);\n        }\n        \n        \n        [this[\"loading\"].subscribe((function (val){!(this.valueFromJulia[\"loading\"]) ? (WebIO.setval({\"name\":\"loading\",\"scope\":\"3683292889822425855\",\"id\":\"4409631856211553009\",\"type\":\"observable\"},val)) : undefined; return this.valueFromJulia[\"loading\"]=false}),self),this[\"clicks\"].subscribe((function (val){!(this.valueFromJulia[\"clicks\"]) ? (WebIO.setval({\"name\":\"clicks\",\"scope\":\"3683292889822425855\",\"id\":\"8849561032799228156\",\"type\":\"observable\"},val)) : undefined; return this.valueFromJulia[\"clicks\"]=false}),self)]\n        \n    }\n    self.model = new AppViewModel();\n    self.valueFromJulia = {};\n    for (var key in json_data) {\n        self.valueFromJulia[key] = false;\n    }\n    ko.applyBindings(self.model, self.dom);\n}\n);\n    (WebIO.importBlock({\"data\":[{\"name\":\"knockout\",\"type\":\"js\",\"url\":\"/assetserver/727383f2a47bd31570b7da84eee7b022dd6d7c78-knockout.js\"},{\"name\":\"knockout_punches\",\"type\":\"js\",\"url\":\"/assetserver/382b41b3b1bd9f26f75861d360bad7f8beea211f-knockout_punches.js\"}],\"type\":\"async_block\"})).then((imports) => handler.apply(this, imports));\n}\n"
                  ],
                  "observables": {
                   "clicks": {
                    "id": "8849561032799228156",
                    "sync": true,
                    "value": 0
                   },
                   "loading": {
                    "id": "4409631856211553009",
                    "sync": false,
                    "value": false
                   }
                  },
                  "systemjs_options": null
                 },
                 "nodeType": "Scope",
                 "props": {},
                 "type": "node"
                }
               ],
               "instanceArgs": {
                "namespace": "html",
                "tag": "div"
               },
               "nodeType": "DOM",
               "props": {
                "className": "field interact-widget"
               },
               "type": "node"
              },
              {
               "children": [
                {
                 "children": [
                  {
                   "children": [],
                   "instanceArgs": {
                    "namespace": "html",
                    "tag": "div"
                   },
                   "nodeType": "DOM",
                   "props": {
                    "id": "container"
                   },
                   "type": "node"
                  }
                 ],
                 "instanceArgs": {
                  "handlers": {
                   "value": [
                    "(function (txt){return this.k.render(txt,this.container)})"
                   ]
                  },
                  "id": "18066878004022274791",
                  "imports": {
                   "data": [
                    {
                     "name": null,
                     "type": "js",
                     "url": "/assetserver/dd22ed1bf1896c2748f3fe616ce0b838adc895c1-katex.min.js"
                    },
                    {
                     "name": null,
                     "type": "css",
                     "url": "/assetserver/46517a424aa5e6cffc1360d7e0848b601c584ee3-katex.min.css"
                    }
                   ],
                   "type": "async_block"
                  },
                  "mount_callbacks": [
                   "function () {\n    var handler = ((function (k){this.k=k; this.container=this.dom.querySelector(\"#container\"); return k.render(\"\\\\;\\\\;\",this.container)}));\n    (WebIO.importBlock({\"data\":[{\"name\":null,\"type\":\"js\",\"url\":\"/assetserver/dd22ed1bf1896c2748f3fe616ce0b838adc895c1-katex.min.js\"},{\"name\":null,\"type\":\"css\",\"url\":\"/assetserver/46517a424aa5e6cffc1360d7e0848b601c584ee3-katex.min.css\"}],\"type\":\"async_block\"})).then((imports) => handler.apply(this, imports));\n}\n"
                  ],
                  "observables": {
                   "value": {
                    "id": "10437080321436842502",
                    "sync": false,
                    "value": "\\;\\;"
                   }
                  },
                  "systemjs_options": null
                 },
                 "nodeType": "Scope",
                 "props": {},
                 "type": "node"
                }
               ],
               "instanceArgs": {
                "namespace": "html",
                "tag": "div"
               },
               "nodeType": "DOM",
               "props": {
                "className": "interact-widget"
               },
               "type": "node"
              },
              {
               "children": [
                {
                 "children": [
                  {
                   "children": [
                    "save"
                   ],
                   "instanceArgs": {
                    "namespace": "html",
                    "tag": "button"
                   },
                   "nodeType": "DOM",
                   "props": {
                    "attributes": {
                     "data-bind": "click: function (){this.clicks(this.clicks()+1)}, css: {'is-loading' : loading}"
                    },
                    "className": "is-medium button is-primary",
                    "style": {}
                   },
                   "type": "node"
                  }
                 ],
                 "instanceArgs": {
                  "handlers": {
                   "clicks": [
                    "(function (val){return (val!=this.model[\"clicks\"]()) ? (this.valueFromJulia[\"clicks\"]=true, this.model[\"clicks\"](val)) : undefined})"
                   ],
                   "loading": [
                    "(function (val){return (val!=this.model[\"loading\"]()) ? (this.valueFromJulia[\"loading\"]=true, this.model[\"loading\"](val)) : undefined})"
                   ]
                  },
                  "id": "4263108089163422819",
                  "imports": {
                   "data": [
                    {
                     "name": "knockout",
                     "type": "js",
                     "url": "/assetserver/727383f2a47bd31570b7da84eee7b022dd6d7c78-knockout.js"
                    },
                    {
                     "name": "knockout_punches",
                     "type": "js",
                     "url": "/assetserver/382b41b3b1bd9f26f75861d360bad7f8beea211f-knockout_punches.js"
                    },
                    {
                     "name": null,
                     "type": "js",
                     "url": "/assetserver/5ab20f1060420992a9b82a65b735dee4d81ef413-all.js"
                    },
                    {
                     "name": null,
                     "type": "css",
                     "url": "/assetserver/1cc0ed62837210b80a182cc3676512f895dab686-style.css"
                    },
                    {
                     "name": null,
                     "type": "css",
                     "url": "/assetserver/2eee816f616df3549d7044d45e744fbf8d42bfa1-bulma_confined.min.css"
                    }
                   ],
                   "type": "async_block"
                  },
                  "mount_callbacks": [
                   "function () {\n    var handler = (function (ko, koPunches) {\n    ko.punches.enableAll();\n    ko.bindingHandlers.numericValue = {\n        init: function(element, valueAccessor, allBindings, data, context) {\n            var stringified = ko.observable(ko.unwrap(valueAccessor()));\n            stringified.subscribe(function(value) {\n                var val = parseFloat(value);\n                if (!isNaN(val)) {\n                    valueAccessor()(val);\n                }\n            });\n            valueAccessor().subscribe(function(value) {\n                var str = JSON.stringify(value);\n                if ((str == \"0\") && ([\"-0\", \"-0.\"].indexOf(stringified()) >= 0))\n                     return;\n                 if ([\"null\", \"\"].indexOf(str) >= 0)\n                     return;\n                stringified(str);\n            });\n            ko.applyBindingsToNode(\n                element,\n                {\n                    value: stringified,\n                    valueUpdate: allBindings.get('valueUpdate'),\n                },\n                context,\n            );\n        }\n    };\n    var json_data = {\"loading\":WebIO.getval({\"name\":\"loading\",\"scope\":\"4263108089163422819\",\"id\":\"17651770771225279444\",\"type\":\"observable\"}),\"clicks\":WebIO.getval({\"name\":\"clicks\",\"scope\":\"4263108089163422819\",\"id\":\"9001533361102788110\",\"type\":\"observable\"})};\n    var self = this;\n    function AppViewModel() {\n        for (var key in json_data) {\n            var el = json_data[key];\n            this[key] = Array.isArray(el) ? ko.observableArray(el) : ko.observable(el);\n        }\n        \n        \n        [this[\"loading\"].subscribe((function (val){!(this.valueFromJulia[\"loading\"]) ? (WebIO.setval({\"name\":\"loading\",\"scope\":\"4263108089163422819\",\"id\":\"17651770771225279444\",\"type\":\"observable\"},val)) : undefined; return this.valueFromJulia[\"loading\"]=false}),self),this[\"clicks\"].subscribe((function (val){!(this.valueFromJulia[\"clicks\"]) ? (WebIO.setval({\"name\":\"clicks\",\"scope\":\"4263108089163422819\",\"id\":\"9001533361102788110\",\"type\":\"observable\"},val)) : undefined; return this.valueFromJulia[\"clicks\"]=false}),self)]\n        \n    }\n    self.model = new AppViewModel();\n    self.valueFromJulia = {};\n    for (var key in json_data) {\n        self.valueFromJulia[key] = false;\n    }\n    ko.applyBindings(self.model, self.dom);\n}\n);\n    (WebIO.importBlock({\"data\":[{\"name\":\"knockout\",\"type\":\"js\",\"url\":\"/assetserver/727383f2a47bd31570b7da84eee7b022dd6d7c78-knockout.js\"},{\"name\":\"knockout_punches\",\"type\":\"js\",\"url\":\"/assetserver/382b41b3b1bd9f26f75861d360bad7f8beea211f-knockout_punches.js\"}],\"type\":\"async_block\"})).then((imports) => handler.apply(this, imports));\n}\n"
                  ],
                  "observables": {
                   "clicks": {
                    "id": "9001533361102788110",
                    "sync": true,
                    "value": 0
                   },
                   "loading": {
                    "id": "17651770771225279444",
                    "sync": false,
                    "value": false
                   }
                  },
                  "systemjs_options": null
                 },
                 "nodeType": "Scope",
                 "props": {},
                 "type": "node"
                }
               ],
               "instanceArgs": {
                "namespace": "html",
                "tag": "div"
               },
               "nodeType": "DOM",
               "props": {
                "className": "field interact-widget"
               },
               "type": "node"
              }
             ],
             "instanceArgs": {
              "namespace": "html",
              "tag": "div"
             },
             "nodeType": "DOM",
             "props": {
              "style": {
               "display": "flex",
               "flex-direction": "row"
              }
             },
             "type": "node"
            }
           ],
           "instanceArgs": {
            "namespace": "html",
            "tag": "div"
           },
           "nodeType": "DOM",
           "props": {
            "style": {
             "display": "flex",
             "flex-direction": "column"
            }
           },
           "type": "node"
          },
          {
           "children": [
            {
             "children": [
              {
               "children": [],
               "instanceArgs": {
                "namespace": "html",
                "tag": "div"
               },
               "nodeType": "DOM",
               "props": {
                "id": "container"
               },
               "type": "node"
              }
             ],
             "instanceArgs": {
              "handlers": {
               "value": [
                "(function (txt){return this.k.render(txt,this.container)})"
               ]
              },
              "id": "18066878004022274791",
              "imports": {
               "data": [
                {
                 "name": null,
                 "type": "js",
                 "url": "/assetserver/dd22ed1bf1896c2748f3fe616ce0b838adc895c1-katex.min.js"
                },
                {
                 "name": null,
                 "type": "css",
                 "url": "/assetserver/46517a424aa5e6cffc1360d7e0848b601c584ee3-katex.min.css"
                }
               ],
               "type": "async_block"
              },
              "mount_callbacks": [
               "function () {\n    var handler = ((function (k){this.k=k; this.container=this.dom.querySelector(\"#container\"); return k.render(\"\\\\;\\\\;\",this.container)}));\n    (WebIO.importBlock({\"data\":[{\"name\":null,\"type\":\"js\",\"url\":\"/assetserver/dd22ed1bf1896c2748f3fe616ce0b838adc895c1-katex.min.js\"},{\"name\":null,\"type\":\"css\",\"url\":\"/assetserver/46517a424aa5e6cffc1360d7e0848b601c584ee3-katex.min.css\"}],\"type\":\"async_block\"})).then((imports) => handler.apply(this, imports));\n}\n"
              ],
              "observables": {
               "value": {
                "id": "10437080321436842502",
                "sync": false,
                "value": "\\;\\;"
               }
              },
              "systemjs_options": null
             },
             "nodeType": "Scope",
             "props": {},
             "type": "node"
            }
           ],
           "instanceArgs": {
            "namespace": "html",
            "tag": "div"
           },
           "nodeType": "DOM",
           "props": {
            "className": "interact-widget"
           },
           "type": "node"
          },
          {
           "children": [
            {
             "children": [],
             "instanceArgs": {
              "namespace": "html",
              "tag": "div"
             },
             "nodeType": "DOM",
             "props": {
              "className": "webio-observable",
              "setInnerHtml": "<img src='data:image/png;base64,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'></img>"
             },
             "type": "node"
            }
           ],
           "instanceArgs": {
            "handlers": {
             "obs-output": [
              "function (value, scope) {\n    scope.setInnerHTML(value);\n}\n"
             ]
            },
            "id": "7991289241693387597",
            "imports": {
             "data": [],
             "type": "async_block"
            },
            "mount_callbacks": [],
            "observables": {
             "obs-output": {
              "id": "6743071577598782095",
              "sync": false,
              "value": "<img src='data:image/png;base64,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'></img>"
             }
            },
            "systemjs_options": null
           },
           "nodeType": "Scope",
           "props": {},
           "type": "node"
          },
          {
           "children": [
            {
             "children": [
              {
               "children": [],
               "instanceArgs": {
                "namespace": "html",
                "tag": "div"
               },
               "nodeType": "DOM",
               "props": {
                "id": "container"
               },
               "type": "node"
              }
             ],
             "instanceArgs": {
              "handlers": {
               "value": [
                "(function (txt){return this.k.render(txt,this.container)})"
               ]
              },
              "id": "18066878004022274791",
              "imports": {
               "data": [
                {
                 "name": null,
                 "type": "js",
                 "url": "/assetserver/dd22ed1bf1896c2748f3fe616ce0b838adc895c1-katex.min.js"
                },
                {
                 "name": null,
                 "type": "css",
                 "url": "/assetserver/46517a424aa5e6cffc1360d7e0848b601c584ee3-katex.min.css"
                }
               ],
               "type": "async_block"
              },
              "mount_callbacks": [
               "function () {\n    var handler = ((function (k){this.k=k; this.container=this.dom.querySelector(\"#container\"); return k.render(\"\\\\;\\\\;\",this.container)}));\n    (WebIO.importBlock({\"data\":[{\"name\":null,\"type\":\"js\",\"url\":\"/assetserver/dd22ed1bf1896c2748f3fe616ce0b838adc895c1-katex.min.js\"},{\"name\":null,\"type\":\"css\",\"url\":\"/assetserver/46517a424aa5e6cffc1360d7e0848b601c584ee3-katex.min.css\"}],\"type\":\"async_block\"})).then((imports) => handler.apply(this, imports));\n}\n"
              ],
              "observables": {
               "value": {
                "id": "10437080321436842502",
                "sync": false,
                "value": "\\;\\;"
               }
              },
              "systemjs_options": null
             },
             "nodeType": "Scope",
             "props": {},
             "type": "node"
            }
           ],
           "instanceArgs": {
            "namespace": "html",
            "tag": "div"
           },
           "nodeType": "DOM",
           "props": {
            "className": "interact-widget"
           },
           "type": "node"
          },
          {
           "children": [
            {
             "children": [
              {
               "children": [],
               "instanceArgs": {
                "namespace": "html",
                "tag": "div"
               },
               "nodeType": "DOM",
               "props": {
                "className": "webio-observable",
                "setInnerHtml": "<img src=\"data:image/png;base64,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\" />"
               },
               "type": "node"
              }
             ],
             "instanceArgs": {
              "handlers": {
               "obs-output": [
                "function (value, scope) {\n    scope.setInnerHTML(value);\n}\n"
               ]
              },
              "id": "2067779374179488792",
              "imports": {
               "data": [],
               "type": "async_block"
              },
              "mount_callbacks": [],
              "observables": {
               "obs-output": {
                "id": "9232811781734991763",
                "sync": false,
                "value": "<img src=\"data:image/png;base64,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\" />"
               }
              },
              "systemjs_options": null
             },
             "nodeType": "Scope",
             "props": {},
             "type": "node"
            }
           ],
           "instanceArgs": {
            "namespace": "html",
            "tag": "div"
           },
           "nodeType": "DOM",
           "props": {
            "style": {
             "display": "flex",
             "flex-direction": "column"
            }
           },
           "type": "node"
          }
         ],
         "instanceArgs": {
          "namespace": "html",
          "tag": "div"
         },
         "nodeType": "DOM",
         "props": {
          "style": {
           "display": "flex",
           "flex-direction": "row"
          }
         },
         "type": "node"
        }
       ],
       "instanceArgs": {
        "namespace": "html",
        "tag": "div"
       },
       "nodeType": "DOM",
       "props": {
        "style": {
         "display": "flex",
         "flex-direction": "column"
        }
       },
       "type": "node"
      },
      "text/html": [
       "<div\n",
       "    class=\"webio-mountpoint\"\n",
       "    data-webio-mountpoint=\"3207128358433227462\"\n",
       ">\n",
       "    <script>\n",
       "    (function(){\n",
       "    // Some integrations (namely, IJulia/Jupyter) use an alternate render pathway than\n",
       "    // just putting the html on the page. If WebIO isn't defined, then it's pretty likely\n",
       "    // that we're in one of those situations and the integration just isn't installed\n",
       "    // correctly.\n",
       "    if (typeof window.WebIO === \"undefined\") {\n",
       "        document\n",
       "            .querySelector('[data-webio-mountpoint=\"3207128358433227462\"]')\n",
       "            .innerHTML = (\n",
       "                '<div style=\"padding: 1em; background-color: #f8d6da; border: 1px solid #f5c6cb; font-weight: bold;\">' +\n",
       "                '<p><strong>WebIO not detected.</strong></p>' +\n",
       "                '<p>Please read ' +\n",
       "                '<a href=\"https://juliagizmos.github.io/WebIO.jl/latest/troubleshooting/not-detected/\" target=\"_blank\">the troubleshooting guide</a> ' +\n",
       "                'for more information on how to resolve this issue.</p>' +\n",
       "                '<p><a href=\"https://juliagizmos.github.io/WebIO.jl/latest/troubleshooting/not-detected/\" target=\"_blank\">https://juliagizmos.github.io/WebIO.jl/latest/troubleshooting/not-detected/</a></p>' +\n",
       "                '</div>'\n",
       "            );\n",
       "        return;\n",
       "    }\n",
       "    WebIO.mount(\n",
       "        document.querySelector('[data-webio-mountpoint=\"3207128358433227462\"]'),\n",
       "        {\"props\":{\"style\":{\"display\":\"flex\",\"flex-direction\":\"column\"}},\"nodeType\":\"DOM\",\"type\":\"node\",\"instanceArgs\":{\"namespace\":\"html\",\"tag\":\"div\"},\"children\":[{\"props\":{\"style\":{\"display\":\"flex\",\"flex-direction\":\"row\"}},\"nodeType\":\"DOM\",\"type\":\"node\",\"instanceArgs\":{\"namespace\":\"html\",\"tag\":\"div\"},\"children\":[{\"props\":{\"style\":{\"display\":\"flex\",\"flex-direction\":\"column\"}},\"nodeType\":\"DOM\",\"type\":\"node\",\"instanceArgs\":{\"namespace\":\"html\",\"tag\":\"div\"},\"children\":[{\"props\":{\"className\":\"field interact-widget\"},\"nodeType\":\"DOM\",\"type\":\"node\",\"instanceArgs\":{\"namespace\":\"html\",\"tag\":\"div\"},\"children\":[{\"props\":{},\"nodeType\":\"Scope\",\"type\":\"node\",\"instanceArgs\":{\"imports\":{\"data\":[{\"name\":\"knockout\",\"type\":\"js\",\"url\":\"\\/assetserver\\/727383f2a47bd31570b7da84eee7b022dd6d7c78-knockout.js\"},{\"name\":\"knockout_punches\",\"type\":\"js\",\"url\":\"\\/assetserver\\/382b41b3b1bd9f26f75861d360bad7f8beea211f-knockout_punches.js\"},{\"name\":null,\"type\":\"js\",\"url\":\"\\/assetserver\\/5ab20f1060420992a9b82a65b735dee4d81ef413-all.js\"},{\"name\":null,\"type\":\"css\",\"url\":\"\\/assetserver\\/1cc0ed62837210b80a182cc3676512f895dab686-style.css\"},{\"name\":null,\"type\":\"css\",\"url\":\"\\/assetserver\\/2eee816f616df3549d7044d45e744fbf8d42bfa1-bulma_confined.min.css\"}],\"type\":\"async_block\"},\"id\":\"9774873114840640455\",\"handlers\":{\"changes\":[\"(function (val){return (val!=this.model[\\\"changes\\\"]()) ? (this.valueFromJulia[\\\"changes\\\"]=true, this.model[\\\"changes\\\"](val)) : undefined})\"],\"index\":[\"(function (val){return (val!=this.model[\\\"index\\\"]()) ? (this.valueFromJulia[\\\"index\\\"]=true, this.model[\\\"index\\\"](val)) : undefined})\"]},\"systemjs_options\":null,\"mount_callbacks\":[\"function () {\\n    var handler = (function (ko, koPunches) {\\n    ko.punches.enableAll();\\n    ko.bindingHandlers.numericValue = {\\n        init: function(element, valueAccessor, allBindings, data, context) {\\n            var stringified = ko.observable(ko.unwrap(valueAccessor()));\\n            stringified.subscribe(function(value) {\\n                var val = parseFloat(value);\\n                if (!isNaN(val)) {\\n                    valueAccessor()(val);\\n                }\\n            });\\n            valueAccessor().subscribe(function(value) {\\n                var str = JSON.stringify(value);\\n                if ((str == \\\"0\\\") && ([\\\"-0\\\", \\\"-0.\\\"].indexOf(stringified()) >= 0))\\n                     return;\\n                 if ([\\\"null\\\", \\\"\\\"].indexOf(str) >= 0)\\n                     return;\\n                stringified(str);\\n            });\\n            ko.applyBindingsToNode(\\n                element,\\n                {\\n                    value: stringified,\\n                    valueUpdate: allBindings.get('valueUpdate'),\\n                },\\n                context,\\n            );\\n        }\\n    };\\n    var json_data = {\\\"formatted_vals\\\":[\\\"1\\\",\\\"2\\\",\\\"3\\\",\\\"4\\\",\\\"5\\\",\\\"6\\\",\\\"7\\\",\\\"8\\\",\\\"9\\\",\\\"10\\\",\\\"11\\\",\\\"12\\\",\\\"13\\\",\\\"14\\\",\\\"15\\\",\\\"16\\\",\\\"17\\\",\\\"18\\\",\\\"19\\\",\\\"20\\\",\\\"21\\\",\\\"22\\\",\\\"23\\\",\\\"24\\\",\\\"25\\\",\\\"26\\\",\\\"27\\\",\\\"28\\\",\\\"29\\\",\\\"30\\\",\\\"31\\\",\\\"32\\\",\\\"33\\\",\\\"34\\\",\\\"35\\\",\\\"36\\\",\\\"37\\\",\\\"38\\\",\\\"39\\\",\\\"40\\\",\\\"41\\\",\\\"42\\\",\\\"43\\\",\\\"44\\\",\\\"45\\\",\\\"46\\\",\\\"47\\\",\\\"48\\\",\\\"49\\\",\\\"50\\\",\\\"51\\\",\\\"52\\\",\\\"53\\\",\\\"54\\\",\\\"55\\\",\\\"56\\\",\\\"57\\\",\\\"58\\\",\\\"59\\\",\\\"60\\\",\\\"61\\\",\\\"62\\\",\\\"63\\\",\\\"64\\\",\\\"65\\\",\\\"66\\\",\\\"67\\\",\\\"68\\\",\\\"69\\\",\\\"70\\\",\\\"71\\\",\\\"72\\\",\\\"73\\\",\\\"74\\\",\\\"75\\\",\\\"76\\\",\\\"77\\\",\\\"78\\\",\\\"79\\\",\\\"80\\\",\\\"81\\\",\\\"82\\\",\\\"83\\\",\\\"84\\\",\\\"85\\\",\\\"86\\\",\\\"87\\\",\\\"88\\\",\\\"89\\\",\\\"90\\\",\\\"91\\\",\\\"92\\\",\\\"93\\\",\\\"94\\\",\\\"95\\\",\\\"96\\\",\\\"97\\\",\\\"98\\\",\\\"99\\\",\\\"100\\\",\\\"101\\\",\\\"102\\\",\\\"103\\\",\\\"104\\\",\\\"105\\\",\\\"106\\\",\\\"107\\\",\\\"108\\\",\\\"109\\\",\\\"110\\\",\\\"111\\\",\\\"112\\\",\\\"113\\\",\\\"114\\\",\\\"115\\\",\\\"116\\\",\\\"117\\\",\\\"118\\\",\\\"119\\\",\\\"120\\\",\\\"121\\\",\\\"122\\\",\\\"123\\\",\\\"124\\\",\\\"125\\\",\\\"126\\\",\\\"127\\\",\\\"128\\\",\\\"129\\\",\\\"130\\\",\\\"131\\\",\\\"132\\\",\\\"133\\\",\\\"134\\\",\\\"135\\\",\\\"136\\\",\\\"137\\\",\\\"138\\\",\\\"139\\\",\\\"140\\\",\\\"141\\\",\\\"142\\\",\\\"143\\\",\\\"144\\\",\\\"145\\\",\\\"146\\\",\\\"147\\\",\\\"148\\\",\\\"149\\\",\\\"150\\\",\\\"151\\\",\\\"152\\\",\\\"153\\\",\\\"154\\\",\\\"155\\\",\\\"156\\\",\\\"157\\\",\\\"158\\\",\\\"159\\\",\\\"160\\\",\\\"161\\\",\\\"162\\\",\\\"163\\\",\\\"164\\\",\\\"165\\\",\\\"166\\\",\\\"167\\\",\\\"168\\\",\\\"169\\\",\\\"170\\\",\\\"171\\\",\\\"172\\\",\\\"173\\\",\\\"174\\\",\\\"175\\\",\\\"176\\\",\\\"177\\\",\\\"178\\\",\\\"179\\\",\\\"180\\\",\\\"181\\\",\\\"182\\\",\\\"183\\\",\\\"184\\\",\\\"185\\\",\\\"186\\\",\\\"187\\\",\\\"188\\\",\\\"189\\\",\\\"190\\\",\\\"191\\\",\\\"192\\\",\\\"193\\\",\\\"194\\\",\\\"195\\\",\\\"196\\\",\\\"197\\\",\\\"198\\\",\\\"199\\\",\\\"200\\\"],\\\"changes\\\":WebIO.getval({\\\"name\\\":\\\"changes\\\",\\\"scope\\\":\\\"9774873114840640455\\\",\\\"id\\\":\\\"8398218134369734953\\\",\\\"type\\\":\\\"observable\\\"}),\\\"index\\\":WebIO.getval({\\\"name\\\":\\\"index\\\",\\\"scope\\\":\\\"9774873114840640455\\\",\\\"id\\\":\\\"5465956052781963742\\\",\\\"type\\\":\\\"observable\\\"})};\\n    var self = this;\\n    function AppViewModel() {\\n        for (var key in json_data) {\\n            var el = json_data[key];\\n            this[key] = Array.isArray(el) ? ko.observableArray(el) : ko.observable(el);\\n        }\\n        \\n        [this[\\\"formatted_val\\\"]=ko.computed(    function(){\\n        return this.formatted_vals()[parseInt(this.index())-(1)];\\n    }\\n,this)]\\n        [this[\\\"changes\\\"].subscribe((function (val){!(this.valueFromJulia[\\\"changes\\\"]) ? (WebIO.setval({\\\"name\\\":\\\"changes\\\",\\\"scope\\\":\\\"9774873114840640455\\\",\\\"id\\\":\\\"8398218134369734953\\\",\\\"type\\\":\\\"observable\\\"},val)) : undefined; return this.valueFromJulia[\\\"changes\\\"]=false}),self),this[\\\"index\\\"].subscribe((function (val){!(this.valueFromJulia[\\\"index\\\"]) ? (WebIO.setval({\\\"name\\\":\\\"index\\\",\\\"scope\\\":\\\"9774873114840640455\\\",\\\"id\\\":\\\"5465956052781963742\\\",\\\"type\\\":\\\"observable\\\"},val)) : undefined; return this.valueFromJulia[\\\"index\\\"]=false}),self)]\\n        \\n    }\\n    self.model = new AppViewModel();\\n    self.valueFromJulia = {};\\n    for (var key in json_data) {\\n        self.valueFromJulia[key] = false;\\n    }\\n    ko.applyBindings(self.model, self.dom);\\n}\\n);\\n    (WebIO.importBlock({\\\"data\\\":[{\\\"name\\\":\\\"knockout\\\",\\\"type\\\":\\\"js\\\",\\\"url\\\":\\\"\\/assetserver\\/727383f2a47bd31570b7da84eee7b022dd6d7c78-knockout.js\\\"},{\\\"name\\\":\\\"knockout_punches\\\",\\\"type\\\":\\\"js\\\",\\\"url\\\":\\\"\\/assetserver\\/382b41b3b1bd9f26f75861d360bad7f8beea211f-knockout_punches.js\\\"}],\\\"type\\\":\\\"async_block\\\"})).then((imports) => handler.apply(this, imports));\\n}\\n\"],\"observables\":{\"changes\":{\"sync\":false,\"id\":\"8398218134369734953\",\"value\":0},\"index\":{\"sync\":true,\"id\":\"5465956052781963742\",\"value\":1}}},\"children\":[{\"props\":{\"className\":\"interact-flex-row interact-widget\"},\"nodeType\":\"DOM\",\"type\":\"node\",\"instanceArgs\":{\"namespace\":\"html\",\"tag\":\"div\"},\"children\":[{\"props\":{\"className\":\"interact-flex-row-left\"},\"nodeType\":\"DOM\",\"type\":\"node\",\"instanceArgs\":{\"namespace\":\"html\",\"tag\":\"div\"},\"children\":[{\"props\":{\"className\":\"interact \",\"style\":{\"padding\":\"5px 10px 0px 10px\"}},\"nodeType\":\"DOM\",\"type\":\"node\",\"instanceArgs\":{\"namespace\":\"html\",\"tag\":\"label\"},\"children\":[\"time\"]}]},{\"props\":{\"className\":\"interact-flex-row-center\"},\"nodeType\":\"DOM\",\"type\":\"node\",\"instanceArgs\":{\"namespace\":\"html\",\"tag\":\"div\"},\"children\":[{\"props\":{\"max\":200,\"min\":1,\"attributes\":{\"type\":\"range\",\"data-bind\":\"numericValue: index, valueUpdate: 'input', event: {change: function (){this.changes(this.changes()+1)}}\",\"orient\":\"horizontal\"},\"step\":1,\"className\":\"slider slider is-fullwidth\",\"style\":{}},\"nodeType\":\"DOM\",\"type\":\"node\",\"instanceArgs\":{\"namespace\":\"html\",\"tag\":\"input\"},\"children\":[]}]},{\"props\":{\"className\":\"interact-flex-row-right\"},\"nodeType\":\"DOM\",\"type\":\"node\",\"instanceArgs\":{\"namespace\":\"html\",\"tag\":\"div\"},\"children\":[{\"props\":{\"attributes\":{\"data-bind\":\"text: formatted_val\"}},\"nodeType\":\"DOM\",\"type\":\"node\",\"instanceArgs\":{\"namespace\":\"html\",\"tag\":\"p\"},\"children\":[]}]}]}]}]},{\"props\":{\"className\":\"field interact-widget\"},\"nodeType\":\"DOM\",\"type\":\"node\",\"instanceArgs\":{\"namespace\":\"html\",\"tag\":\"div\"},\"children\":[{\"props\":{},\"nodeType\":\"Scope\",\"type\":\"node\",\"instanceArgs\":{\"imports\":{\"data\":[{\"name\":\"knockout\",\"type\":\"js\",\"url\":\"\\/assetserver\\/727383f2a47bd31570b7da84eee7b022dd6d7c78-knockout.js\"},{\"name\":\"knockout_punches\",\"type\":\"js\",\"url\":\"\\/assetserver\\/382b41b3b1bd9f26f75861d360bad7f8beea211f-knockout_punches.js\"},{\"name\":null,\"type\":\"js\",\"url\":\"\\/assetserver\\/5ab20f1060420992a9b82a65b735dee4d81ef413-all.js\"},{\"name\":null,\"type\":\"css\",\"url\":\"\\/assetserver\\/1cc0ed62837210b80a182cc3676512f895dab686-style.css\"},{\"name\":null,\"type\":\"css\",\"url\":\"\\/assetserver\\/2eee816f616df3549d7044d45e744fbf8d42bfa1-bulma_confined.min.css\"}],\"type\":\"async_block\"},\"id\":\"3514123278380884976\",\"handlers\":{\"changes\":[\"(function (val){return (val!=this.model[\\\"changes\\\"]()) ? (this.valueFromJulia[\\\"changes\\\"]=true, this.model[\\\"changes\\\"](val)) : undefined})\"],\"index\":[\"(function (val){return (val!=this.model[\\\"index\\\"]()) ? (this.valueFromJulia[\\\"index\\\"]=true, this.model[\\\"index\\\"](val)) : undefined})\"]},\"systemjs_options\":null,\"mount_callbacks\":[\"function () {\\n    var handler = (function (ko, koPunches) {\\n    ko.punches.enableAll();\\n    ko.bindingHandlers.numericValue = {\\n        init: function(element, valueAccessor, allBindings, data, context) {\\n            var stringified = ko.observable(ko.unwrap(valueAccessor()));\\n            stringified.subscribe(function(value) {\\n                var val = parseFloat(value);\\n                if (!isNaN(val)) {\\n                    valueAccessor()(val);\\n                }\\n            });\\n            valueAccessor().subscribe(function(value) {\\n                var str = JSON.stringify(value);\\n                if ((str == \\\"0\\\") && ([\\\"-0\\\", \\\"-0.\\\"].indexOf(stringified()) >= 0))\\n                     return;\\n                 if ([\\\"null\\\", \\\"\\\"].indexOf(str) >= 0)\\n                     return;\\n                stringified(str);\\n            });\\n            ko.applyBindingsToNode(\\n                element,\\n                {\\n                    value: stringified,\\n                    valueUpdate: allBindings.get('valueUpdate'),\\n                },\\n                context,\\n            );\\n        }\\n    };\\n    var json_data = {\\\"formatted_vals\\\":[\\\"0.1\\\",\\\"0.2\\\",\\\"0.3\\\",\\\"0.4\\\",\\\"0.5\\\",\\\"0.6\\\",\\\"0.7\\\",\\\"0.8\\\",\\\"0.9\\\",\\\"1.0\\\",\\\"1.1\\\",\\\"1.2\\\",\\\"1.3\\\",\\\"1.4\\\",\\\"1.5\\\",\\\"1.6\\\",\\\"1.7\\\",\\\"1.8\\\",\\\"1.9\\\",\\\"2.0\\\"],\\\"changes\\\":WebIO.getval({\\\"name\\\":\\\"changes\\\",\\\"scope\\\":\\\"3514123278380884976\\\",\\\"id\\\":\\\"14428694798094822166\\\",\\\"type\\\":\\\"observable\\\"}),\\\"index\\\":WebIO.getval({\\\"name\\\":\\\"index\\\",\\\"scope\\\":\\\"3514123278380884976\\\",\\\"id\\\":\\\"8665217690589196274\\\",\\\"type\\\":\\\"observable\\\"})};\\n    var self = this;\\n    function AppViewModel() {\\n        for (var key in json_data) {\\n            var el = json_data[key];\\n            this[key] = Array.isArray(el) ? ko.observableArray(el) : ko.observable(el);\\n        }\\n        \\n        [this[\\\"formatted_val\\\"]=ko.computed(    function(){\\n        return this.formatted_vals()[parseInt(this.index())-(1)];\\n    }\\n,this)]\\n        [this[\\\"changes\\\"].subscribe((function (val){!(this.valueFromJulia[\\\"changes\\\"]) ? (WebIO.setval({\\\"name\\\":\\\"changes\\\",\\\"scope\\\":\\\"3514123278380884976\\\",\\\"id\\\":\\\"14428694798094822166\\\",\\\"type\\\":\\\"observable\\\"},val)) : undefined; return this.valueFromJulia[\\\"changes\\\"]=false}),self),this[\\\"index\\\"].subscribe((function (val){!(this.valueFromJulia[\\\"index\\\"]) ? (WebIO.setval({\\\"name\\\":\\\"index\\\",\\\"scope\\\":\\\"3514123278380884976\\\",\\\"id\\\":\\\"8665217690589196274\\\",\\\"type\\\":\\\"observable\\\"},val)) : undefined; return this.valueFromJulia[\\\"index\\\"]=false}),self)]\\n        \\n    }\\n    self.model = new AppViewModel();\\n    self.valueFromJulia = {};\\n    for (var key in json_data) {\\n        self.valueFromJulia[key] = false;\\n    }\\n    ko.applyBindings(self.model, self.dom);\\n}\\n);\\n    (WebIO.importBlock({\\\"data\\\":[{\\\"name\\\":\\\"knockout\\\",\\\"type\\\":\\\"js\\\",\\\"url\\\":\\\"\\/assetserver\\/727383f2a47bd31570b7da84eee7b022dd6d7c78-knockout.js\\\"},{\\\"name\\\":\\\"knockout_punches\\\",\\\"type\\\":\\\"js\\\",\\\"url\\\":\\\"\\/assetserver\\/382b41b3b1bd9f26f75861d360bad7f8beea211f-knockout_punches.js\\\"}],\\\"type\\\":\\\"async_block\\\"})).then((imports) => handler.apply(this, imports));\\n}\\n\"],\"observables\":{\"changes\":{\"sync\":false,\"id\":\"14428694798094822166\",\"value\":0},\"index\":{\"sync\":true,\"id\":\"8665217690589196274\",\"value\":10}}},\"children\":[{\"props\":{\"className\":\"interact-flex-row interact-widget\"},\"nodeType\":\"DOM\",\"type\":\"node\",\"instanceArgs\":{\"namespace\":\"html\",\"tag\":\"div\"},\"children\":[{\"props\":{\"className\":\"interact-flex-row-left\"},\"nodeType\":\"DOM\",\"type\":\"node\",\"instanceArgs\":{\"namespace\":\"html\",\"tag\":\"div\"},\"children\":[{\"props\":{\"className\":\"interact \",\"style\":{\"padding\":\"5px 10px 0px 10px\"}},\"nodeType\":\"DOM\",\"type\":\"node\",\"instanceArgs\":{\"namespace\":\"html\",\"tag\":\"label\"},\"children\":[\"scale\"]}]},{\"props\":{\"className\":\"interact-flex-row-center\"},\"nodeType\":\"DOM\",\"type\":\"node\",\"instanceArgs\":{\"namespace\":\"html\",\"tag\":\"div\"},\"children\":[{\"props\":{\"max\":20,\"min\":1,\"attributes\":{\"type\":\"range\",\"data-bind\":\"numericValue: index, valueUpdate: 'input', event: {change: function (){this.changes(this.changes()+1)}}\",\"orient\":\"horizontal\"},\"step\":1,\"className\":\"slider slider is-fullwidth\",\"style\":{}},\"nodeType\":\"DOM\",\"type\":\"node\",\"instanceArgs\":{\"namespace\":\"html\",\"tag\":\"input\"},\"children\":[]}]},{\"props\":{\"className\":\"interact-flex-row-right\"},\"nodeType\":\"DOM\",\"type\":\"node\",\"instanceArgs\":{\"namespace\":\"html\",\"tag\":\"div\"},\"children\":[{\"props\":{\"attributes\":{\"data-bind\":\"text: formatted_val\"}},\"nodeType\":\"DOM\",\"type\":\"node\",\"instanceArgs\":{\"namespace\":\"html\",\"tag\":\"p\"},\"children\":[]}]}]}]}]},{\"props\":{\"style\":{\"display\":\"flex\",\"flex-direction\":\"column\"}},\"nodeType\":\"DOM\",\"type\":\"node\",\"instanceArgs\":{\"namespace\":\"html\",\"tag\":\"div\"},\"children\":[]},{\"props\":{\"style\":{\"display\":\"flex\",\"flex-direction\":\"column\"}},\"nodeType\":\"DOM\",\"type\":\"node\",\"instanceArgs\":{\"namespace\":\"html\",\"tag\":\"div\"},\"children\":[{\"props\":{\"className\":\"field interact-widget\"},\"nodeType\":\"DOM\",\"type\":\"node\",\"instanceArgs\":{\"namespace\":\"html\",\"tag\":\"div\"},\"children\":[{\"props\":{},\"nodeType\":\"Scope\",\"type\":\"node\",\"instanceArgs\":{\"imports\":{\"data\":[{\"name\":\"knockout\",\"type\":\"js\",\"url\":\"\\/assetserver\\/727383f2a47bd31570b7da84eee7b022dd6d7c78-knockout.js\"},{\"name\":\"knockout_punches\",\"type\":\"js\",\"url\":\"\\/assetserver\\/382b41b3b1bd9f26f75861d360bad7f8beea211f-knockout_punches.js\"},{\"name\":null,\"type\":\"js\",\"url\":\"\\/assetserver\\/5ab20f1060420992a9b82a65b735dee4d81ef413-all.js\"},{\"name\":null,\"type\":\"css\",\"url\":\"\\/assetserver\\/1cc0ed62837210b80a182cc3676512f895dab686-style.css\"},{\"name\":null,\"type\":\"css\",\"url\":\"\\/assetserver\\/2eee816f616df3549d7044d45e744fbf8d42bfa1-bulma_confined.min.css\"}],\"type\":\"async_block\"},\"id\":\"8800688542114131005\",\"handlers\":{\"changes\":[\"(function (val){return (val!=this.model[\\\"changes\\\"]()) ? (this.valueFromJulia[\\\"changes\\\"]=true, this.model[\\\"changes\\\"](val)) : undefined})\"],\"index\":[\"(function (val){return (val!=this.model[\\\"index\\\"]()) ? (this.valueFromJulia[\\\"index\\\"]=true, this.model[\\\"index\\\"](val)) : undefined})\"]},\"systemjs_options\":null,\"mount_callbacks\":[\"function () {\\n    var handler = (function (ko, koPunches) {\\n    ko.punches.enableAll();\\n    ko.bindingHandlers.numericValue = {\\n        init: function(element, valueAccessor, allBindings, data, context) {\\n            var stringified = ko.observable(ko.unwrap(valueAccessor()));\\n            stringified.subscribe(function(value) {\\n                var val = parseFloat(value);\\n                if (!isNaN(val)) {\\n                    valueAccessor()(val);\\n                }\\n            });\\n            valueAccessor().subscribe(function(value) {\\n                var str = JSON.stringify(value);\\n                if ((str == \\\"0\\\") && ([\\\"-0\\\", \\\"-0.\\\"].indexOf(stringified()) >= 0))\\n                     return;\\n                 if ([\\\"null\\\", \\\"\\\"].indexOf(str) >= 0)\\n                     return;\\n                stringified(str);\\n            });\\n            ko.applyBindingsToNode(\\n                element,\\n                {\\n                    value: stringified,\\n                    valueUpdate: allBindings.get('valueUpdate'),\\n                },\\n                context,\\n            );\\n        }\\n    };\\n    var json_data = {\\\"formatted_vals\\\":[\\\"0.0\\\",\\\"0.01\\\",\\\"0.02\\\",\\\"0.03\\\",\\\"0.04\\\",\\\"0.05\\\",\\\"0.06\\\",\\\"0.07\\\",\\\"0.08\\\",\\\"0.09\\\",\\\"0.1\\\",\\\"0.11\\\",\\\"0.12\\\",\\\"0.13\\\",\\\"0.14\\\",\\\"0.15\\\",\\\"0.16\\\",\\\"0.17\\\",\\\"0.18\\\",\\\"0.19\\\",\\\"0.2\\\",\\\"0.21\\\",\\\"0.22\\\",\\\"0.23\\\",\\\"0.24\\\",\\\"0.25\\\",\\\"0.26\\\",\\\"0.27\\\",\\\"0.28\\\",\\\"0.29\\\",\\\"0.3\\\",\\\"0.31\\\",\\\"0.32\\\",\\\"0.33\\\",\\\"0.34\\\",\\\"0.35\\\",\\\"0.36\\\",\\\"0.37\\\",\\\"0.38\\\",\\\"0.39\\\",\\\"0.4\\\",\\\"0.41\\\",\\\"0.42\\\",\\\"0.43\\\",\\\"0.44\\\",\\\"0.45\\\",\\\"0.46\\\",\\\"0.47\\\",\\\"0.48\\\",\\\"0.49\\\",\\\"0.5\\\",\\\"0.51\\\",\\\"0.52\\\",\\\"0.53\\\",\\\"0.54\\\",\\\"0.55\\\",\\\"0.56\\\",\\\"0.57\\\",\\\"0.58\\\",\\\"0.59\\\",\\\"0.6\\\",\\\"0.61\\\",\\\"0.62\\\",\\\"0.63\\\",\\\"0.64\\\",\\\"0.65\\\",\\\"0.66\\\",\\\"0.67\\\",\\\"0.68\\\",\\\"0.69\\\",\\\"0.7\\\",\\\"0.71\\\",\\\"0.72\\\",\\\"0.73\\\",\\\"0.74\\\",\\\"0.75\\\",\\\"0.76\\\",\\\"0.77\\\",\\\"0.78\\\",\\\"0.79\\\",\\\"0.8\\\",\\\"0.81\\\",\\\"0.82\\\",\\\"0.83\\\",\\\"0.84\\\",\\\"0.85\\\",\\\"0.86\\\",\\\"0.87\\\",\\\"0.88\\\",\\\"0.89\\\",\\\"0.9\\\",\\\"0.91\\\",\\\"0.92\\\",\\\"0.93\\\",\\\"0.94\\\",\\\"0.95\\\",\\\"0.96\\\",\\\"0.97\\\",\\\"0.98\\\",\\\"0.99\\\",\\\"1.0\\\"],\\\"changes\\\":WebIO.getval({\\\"name\\\":\\\"changes\\\",\\\"scope\\\":\\\"8800688542114131005\\\",\\\"id\\\":\\\"13970218025559490642\\\",\\\"type\\\":\\\"observable\\\"}),\\\"index\\\":WebIO.getval({\\\"name\\\":\\\"index\\\",\\\"scope\\\":\\\"8800688542114131005\\\",\\\"id\\\":\\\"9468308712684221825\\\",\\\"type\\\":\\\"observable\\\"})};\\n    var self = this;\\n    function AppViewModel() {\\n        for (var key in json_data) {\\n            var el = json_data[key];\\n            this[key] = Array.isArray(el) ? ko.observableArray(el) : ko.observable(el);\\n        }\\n        \\n        [this[\\\"formatted_val\\\"]=ko.computed(    function(){\\n        return this.formatted_vals()[parseInt(this.index())-(1)];\\n    }\\n,this)]\\n        [this[\\\"changes\\\"].subscribe((function (val){!(this.valueFromJulia[\\\"changes\\\"]) ? (WebIO.setval({\\\"name\\\":\\\"changes\\\",\\\"scope\\\":\\\"8800688542114131005\\\",\\\"id\\\":\\\"13970218025559490642\\\",\\\"type\\\":\\\"observable\\\"},val)) : undefined; return this.valueFromJulia[\\\"changes\\\"]=false}),self),this[\\\"index\\\"].subscribe((function (val){!(this.valueFromJulia[\\\"index\\\"]) ? (WebIO.setval({\\\"name\\\":\\\"index\\\",\\\"scope\\\":\\\"8800688542114131005\\\",\\\"id\\\":\\\"9468308712684221825\\\",\\\"type\\\":\\\"observable\\\"},val)) : undefined; return this.valueFromJulia[\\\"index\\\"]=false}),self)]\\n        \\n    }\\n    self.model = new AppViewModel();\\n    self.valueFromJulia = {};\\n    for (var key in json_data) {\\n        self.valueFromJulia[key] = false;\\n    }\\n    ko.applyBindings(self.model, self.dom);\\n}\\n);\\n    (WebIO.importBlock({\\\"data\\\":[{\\\"name\\\":\\\"knockout\\\",\\\"type\\\":\\\"js\\\",\\\"url\\\":\\\"\\/assetserver\\/727383f2a47bd31570b7da84eee7b022dd6d7c78-knockout.js\\\"},{\\\"name\\\":\\\"knockout_punches\\\",\\\"type\\\":\\\"js\\\",\\\"url\\\":\\\"\\/assetserver\\/382b41b3b1bd9f26f75861d360bad7f8beea211f-knockout_punches.js\\\"}],\\\"type\\\":\\\"async_block\\\"})).then((imports) => handler.apply(this, imports));\\n}\\n\"],\"observables\":{\"changes\":{\"sync\":false,\"id\":\"13970218025559490642\",\"value\":0},\"index\":{\"sync\":true,\"id\":\"9468308712684221825\",\"value\":51}}},\"children\":[{\"props\":{\"className\":\"interact-flex-row interact-widget\"},\"nodeType\":\"DOM\",\"type\":\"node\",\"instanceArgs\":{\"namespace\":\"html\",\"tag\":\"div\"},\"children\":[{\"props\":{\"className\":\"interact-flex-row-left\"},\"nodeType\":\"DOM\",\"type\":\"node\",\"instanceArgs\":{\"namespace\":\"html\",\"tag\":\"div\"},\"children\":[{\"props\":{\"className\":\"interact \",\"style\":{\"padding\":\"5px 10px 0px 10px\"}},\"nodeType\":\"DOM\",\"type\":\"node\",\"instanceArgs\":{\"namespace\":\"html\",\"tag\":\"label\"},\"children\":[\"wolf_birth_rate\"]}]},{\"props\":{\"className\":\"interact-flex-row-center\"},\"nodeType\":\"DOM\",\"type\":\"node\",\"instanceArgs\":{\"namespace\":\"html\",\"tag\":\"div\"},\"children\":[{\"props\":{\"max\":101,\"min\":1,\"attributes\":{\"type\":\"range\",\"data-bind\":\"numericValue: index, valueUpdate: 'input', event: {change: function (){this.changes(this.changes()+1)}}\",\"orient\":\"horizontal\"},\"step\":1,\"className\":\"slider slider is-fullwidth\",\"style\":{}},\"nodeType\":\"DOM\",\"type\":\"node\",\"instanceArgs\":{\"namespace\":\"html\",\"tag\":\"input\"},\"children\":[]}]},{\"props\":{\"className\":\"interact-flex-row-right\"},\"nodeType\":\"DOM\",\"type\":\"node\",\"instanceArgs\":{\"namespace\":\"html\",\"tag\":\"div\"},\"children\":[{\"props\":{\"attributes\":{\"data-bind\":\"text: formatted_val\"}},\"nodeType\":\"DOM\",\"type\":\"node\",\"instanceArgs\":{\"namespace\":\"html\",\"tag\":\"p\"},\"children\":[]}]}]}]}]},{\"props\":{\"className\":\"field interact-widget\"},\"nodeType\":\"DOM\",\"type\":\"node\",\"instanceArgs\":{\"namespace\":\"html\",\"tag\":\"div\"},\"children\":[{\"props\":{},\"nodeType\":\"Scope\",\"type\":\"node\",\"instanceArgs\":{\"imports\":{\"data\":[{\"name\":\"knockout\",\"type\":\"js\",\"url\":\"\\/assetserver\\/727383f2a47bd31570b7da84eee7b022dd6d7c78-knockout.js\"},{\"name\":\"knockout_punches\",\"type\":\"js\",\"url\":\"\\/assetserver\\/382b41b3b1bd9f26f75861d360bad7f8beea211f-knockout_punches.js\"},{\"name\":null,\"type\":\"js\",\"url\":\"\\/assetserver\\/5ab20f1060420992a9b82a65b735dee4d81ef413-all.js\"},{\"name\":null,\"type\":\"css\",\"url\":\"\\/assetserver\\/1cc0ed62837210b80a182cc3676512f895dab686-style.css\"},{\"name\":null,\"type\":\"css\",\"url\":\"\\/assetserver\\/2eee816f616df3549d7044d45e744fbf8d42bfa1-bulma_confined.min.css\"}],\"type\":\"async_block\"},\"id\":\"5048356724033473769\",\"handlers\":{\"changes\":[\"(function (val){return (val!=this.model[\\\"changes\\\"]()) ? (this.valueFromJulia[\\\"changes\\\"]=true, this.model[\\\"changes\\\"](val)) : undefined})\"],\"index\":[\"(function (val){return (val!=this.model[\\\"index\\\"]()) ? (this.valueFromJulia[\\\"index\\\"]=true, this.model[\\\"index\\\"](val)) : undefined})\"]},\"systemjs_options\":null,\"mount_callbacks\":[\"function () {\\n    var handler = (function (ko, koPunches) {\\n    ko.punches.enableAll();\\n    ko.bindingHandlers.numericValue = {\\n        init: function(element, valueAccessor, allBindings, data, context) {\\n            var stringified = ko.observable(ko.unwrap(valueAccessor()));\\n            stringified.subscribe(function(value) {\\n                var val = parseFloat(value);\\n                if (!isNaN(val)) {\\n                    valueAccessor()(val);\\n                }\\n            });\\n            valueAccessor().subscribe(function(value) {\\n                var str = JSON.stringify(value);\\n                if ((str == \\\"0\\\") && ([\\\"-0\\\", \\\"-0.\\\"].indexOf(stringified()) >= 0))\\n                     return;\\n                 if ([\\\"null\\\", \\\"\\\"].indexOf(str) >= 0)\\n                     return;\\n                stringified(str);\\n            });\\n            ko.applyBindingsToNode(\\n                element,\\n                {\\n                    value: stringified,\\n                    valueUpdate: allBindings.get('valueUpdate'),\\n                },\\n                context,\\n            );\\n        }\\n    };\\n    var json_data = {\\\"formatted_vals\\\":[\\\"0.01\\\",\\\"0.02\\\",\\\"0.03\\\",\\\"0.04\\\",\\\"0.05\\\",\\\"0.06\\\",\\\"0.07\\\",\\\"0.08\\\",\\\"0.09\\\",\\\"0.1\\\",\\\"0.11\\\",\\\"0.12\\\",\\\"0.13\\\",\\\"0.14\\\",\\\"0.15\\\",\\\"0.16\\\",\\\"0.17\\\",\\\"0.18\\\",\\\"0.19\\\",\\\"0.2\\\",\\\"0.21\\\",\\\"0.22\\\",\\\"0.23\\\",\\\"0.24\\\",\\\"0.25\\\",\\\"0.26\\\",\\\"0.27\\\",\\\"0.28\\\",\\\"0.29\\\",\\\"0.3\\\",\\\"0.31\\\",\\\"0.32\\\",\\\"0.33\\\",\\\"0.34\\\",\\\"0.35\\\",\\\"0.36\\\",\\\"0.37\\\",\\\"0.38\\\",\\\"0.39\\\",\\\"0.4\\\",\\\"0.41\\\",\\\"0.42\\\",\\\"0.43\\\",\\\"0.44\\\",\\\"0.45\\\",\\\"0.46\\\",\\\"0.47\\\",\\\"0.48\\\",\\\"0.49\\\",\\\"0.5\\\",\\\"0.51\\\",\\\"0.52\\\",\\\"0.53\\\",\\\"0.54\\\",\\\"0.55\\\",\\\"0.56\\\",\\\"0.57\\\",\\\"0.58\\\",\\\"0.59\\\",\\\"0.6\\\",\\\"0.61\\\",\\\"0.62\\\",\\\"0.63\\\",\\\"0.64\\\",\\\"0.65\\\",\\\"0.66\\\",\\\"0.67\\\",\\\"0.68\\\",\\\"0.69\\\",\\\"0.7\\\",\\\"0.71\\\",\\\"0.72\\\",\\\"0.73\\\",\\\"0.74\\\",\\\"0.75\\\",\\\"0.76\\\",\\\"0.77\\\",\\\"0.78\\\",\\\"0.79\\\",\\\"0.8\\\",\\\"0.81\\\",\\\"0.82\\\",\\\"0.83\\\",\\\"0.84\\\",\\\"0.85\\\",\\\"0.86\\\",\\\"0.87\\\",\\\"0.88\\\",\\\"0.89\\\",\\\"0.9\\\",\\\"0.91\\\",\\\"0.92\\\",\\\"0.93\\\",\\\"0.94\\\",\\\"0.95\\\",\\\"0.96\\\",\\\"0.97\\\",\\\"0.98\\\",\\\"0.99\\\",\\\"1.0\\\"],\\\"changes\\\":WebIO.getval({\\\"name\\\":\\\"changes\\\",\\\"scope\\\":\\\"5048356724033473769\\\",\\\"id\\\":\\\"6329679798241691693\\\",\\\"type\\\":\\\"observable\\\"}),\\\"index\\\":WebIO.getval({\\\"name\\\":\\\"index\\\",\\\"scope\\\":\\\"5048356724033473769\\\",\\\"id\\\":\\\"5858097637371328953\\\",\\\"type\\\":\\\"observable\\\"})};\\n    var self = this;\\n    function AppViewModel() {\\n        for (var key in json_data) {\\n            var el = json_data[key];\\n            this[key] = Array.isArray(el) ? ko.observableArray(el) : ko.observable(el);\\n        }\\n        \\n        [this[\\\"formatted_val\\\"]=ko.computed(    function(){\\n        return this.formatted_vals()[parseInt(this.index())-(1)];\\n    }\\n,this)]\\n        [this[\\\"changes\\\"].subscribe((function (val){!(this.valueFromJulia[\\\"changes\\\"]) ? (WebIO.setval({\\\"name\\\":\\\"changes\\\",\\\"scope\\\":\\\"5048356724033473769\\\",\\\"id\\\":\\\"6329679798241691693\\\",\\\"type\\\":\\\"observable\\\"},val)) : undefined; return this.valueFromJulia[\\\"changes\\\"]=false}),self),this[\\\"index\\\"].subscribe((function (val){!(this.valueFromJulia[\\\"index\\\"]) ? (WebIO.setval({\\\"name\\\":\\\"index\\\",\\\"scope\\\":\\\"5048356724033473769\\\",\\\"id\\\":\\\"5858097637371328953\\\",\\\"type\\\":\\\"observable\\\"},val)) : undefined; return this.valueFromJulia[\\\"index\\\"]=false}),self)]\\n        \\n    }\\n    self.model = new AppViewModel();\\n    self.valueFromJulia = {};\\n    for (var key in json_data) {\\n        self.valueFromJulia[key] = false;\\n    }\\n    ko.applyBindings(self.model, self.dom);\\n}\\n);\\n    (WebIO.importBlock({\\\"data\\\":[{\\\"name\\\":\\\"knockout\\\",\\\"type\\\":\\\"js\\\",\\\"url\\\":\\\"\\/assetserver\\/727383f2a47bd31570b7da84eee7b022dd6d7c78-knockout.js\\\"},{\\\"name\\\":\\\"knockout_punches\\\",\\\"type\\\":\\\"js\\\",\\\"url\\\":\\\"\\/assetserver\\/382b41b3b1bd9f26f75861d360bad7f8beea211f-knockout_punches.js\\\"}],\\\"type\\\":\\\"async_block\\\"})).then((imports) => handler.apply(this, imports));\\n}\\n\"],\"observables\":{\"changes\":{\"sync\":false,\"id\":\"6329679798241691693\",\"value\":0},\"index\":{\"sync\":true,\"id\":\"5858097637371328953\",\"value\":50}}},\"children\":[{\"props\":{\"className\":\"interact-flex-row interact-widget\"},\"nodeType\":\"DOM\",\"type\":\"node\",\"instanceArgs\":{\"namespace\":\"html\",\"tag\":\"div\"},\"children\":[{\"props\":{\"className\":\"interact-flex-row-left\"},\"nodeType\":\"DOM\",\"type\":\"node\",\"instanceArgs\":{\"namespace\":\"html\",\"tag\":\"div\"},\"children\":[{\"props\":{\"className\":\"interact \",\"style\":{\"padding\":\"5px 10px 0px 10px\"}},\"nodeType\":\"DOM\",\"type\":\"node\",\"instanceArgs\":{\"namespace\":\"html\",\"tag\":\"label\"},\"children\":[\"sheep_birth_rate\"]}]},{\"props\":{\"className\":\"interact-flex-row-center\"},\"nodeType\":\"DOM\",\"type\":\"node\",\"instanceArgs\":{\"namespace\":\"html\",\"tag\":\"div\"},\"children\":[{\"props\":{\"max\":100,\"min\":1,\"attributes\":{\"type\":\"range\",\"data-bind\":\"numericValue: index, valueUpdate: 'input', event: {change: function (){this.changes(this.changes()+1)}}\",\"orient\":\"horizontal\"},\"step\":1,\"className\":\"slider slider is-fullwidth\",\"style\":{}},\"nodeType\":\"DOM\",\"type\":\"node\",\"instanceArgs\":{\"namespace\":\"html\",\"tag\":\"input\"},\"children\":[]}]},{\"props\":{\"className\":\"interact-flex-row-right\"},\"nodeType\":\"DOM\",\"type\":\"node\",\"instanceArgs\":{\"namespace\":\"html\",\"tag\":\"div\"},\"children\":[{\"props\":{\"attributes\":{\"data-bind\":\"text: formatted_val\"}},\"nodeType\":\"DOM\",\"type\":\"node\",\"instanceArgs\":{\"namespace\":\"html\",\"tag\":\"p\"},\"children\":[]}]}]}]}]},{\"props\":{\"className\":\"field interact-widget\"},\"nodeType\":\"DOM\",\"type\":\"node\",\"instanceArgs\":{\"namespace\":\"html\",\"tag\":\"div\"},\"children\":[{\"props\":{},\"nodeType\":\"Scope\",\"type\":\"node\",\"instanceArgs\":{\"imports\":{\"data\":[{\"name\":\"knockout\",\"type\":\"js\",\"url\":\"\\/assetserver\\/727383f2a47bd31570b7da84eee7b022dd6d7c78-knockout.js\"},{\"name\":\"knockout_punches\",\"type\":\"js\",\"url\":\"\\/assetserver\\/382b41b3b1bd9f26f75861d360bad7f8beea211f-knockout_punches.js\"},{\"name\":null,\"type\":\"js\",\"url\":\"\\/assetserver\\/5ab20f1060420992a9b82a65b735dee4d81ef413-all.js\"},{\"name\":null,\"type\":\"css\",\"url\":\"\\/assetserver\\/1cc0ed62837210b80a182cc3676512f895dab686-style.css\"},{\"name\":null,\"type\":\"css\",\"url\":\"\\/assetserver\\/2eee816f616df3549d7044d45e744fbf8d42bfa1-bulma_confined.min.css\"}],\"type\":\"async_block\"},\"id\":\"18102564830908750318\",\"handlers\":{\"changes\":[\"(function (val){return (val!=this.model[\\\"changes\\\"]()) ? (this.valueFromJulia[\\\"changes\\\"]=true, this.model[\\\"changes\\\"](val)) : undefined})\"],\"index\":[\"(function (val){return (val!=this.model[\\\"index\\\"]()) ? (this.valueFromJulia[\\\"index\\\"]=true, this.model[\\\"index\\\"](val)) : undefined})\"]},\"systemjs_options\":null,\"mount_callbacks\":[\"function () {\\n    var handler = (function (ko, koPunches) {\\n    ko.punches.enableAll();\\n    ko.bindingHandlers.numericValue = {\\n        init: function(element, valueAccessor, allBindings, data, context) {\\n            var stringified = ko.observable(ko.unwrap(valueAccessor()));\\n            stringified.subscribe(function(value) {\\n                var val = parseFloat(value);\\n                if (!isNaN(val)) {\\n                    valueAccessor()(val);\\n                }\\n            });\\n            valueAccessor().subscribe(function(value) {\\n                var str = JSON.stringify(value);\\n                if ((str == \\\"0\\\") && ([\\\"-0\\\", \\\"-0.\\\"].indexOf(stringified()) >= 0))\\n                     return;\\n                 if ([\\\"null\\\", \\\"\\\"].indexOf(str) >= 0)\\n                     return;\\n                stringified(str);\\n            });\\n            ko.applyBindingsToNode(\\n                element,\\n                {\\n                    value: stringified,\\n                    valueUpdate: allBindings.get('valueUpdate'),\\n                },\\n                context,\\n            );\\n        }\\n    };\\n    var json_data = {\\\"formatted_vals\\\":[\\\"0.01\\\",\\\"0.02\\\",\\\"0.03\\\",\\\"0.04\\\",\\\"0.05\\\",\\\"0.06\\\",\\\"0.07\\\",\\\"0.08\\\",\\\"0.09\\\",\\\"0.1\\\",\\\"0.11\\\",\\\"0.12\\\",\\\"0.13\\\",\\\"0.14\\\",\\\"0.15\\\",\\\"0.16\\\",\\\"0.17\\\",\\\"0.18\\\",\\\"0.19\\\",\\\"0.2\\\",\\\"0.21\\\",\\\"0.22\\\",\\\"0.23\\\",\\\"0.24\\\",\\\"0.25\\\",\\\"0.26\\\",\\\"0.27\\\",\\\"0.28\\\",\\\"0.29\\\",\\\"0.3\\\",\\\"0.31\\\",\\\"0.32\\\",\\\"0.33\\\",\\\"0.34\\\",\\\"0.35\\\",\\\"0.36\\\",\\\"0.37\\\",\\\"0.38\\\",\\\"0.39\\\",\\\"0.4\\\",\\\"0.41\\\",\\\"0.42\\\",\\\"0.43\\\",\\\"0.44\\\",\\\"0.45\\\",\\\"0.46\\\",\\\"0.47\\\",\\\"0.48\\\",\\\"0.49\\\",\\\"0.5\\\",\\\"0.51\\\",\\\"0.52\\\",\\\"0.53\\\",\\\"0.54\\\",\\\"0.55\\\",\\\"0.56\\\",\\\"0.57\\\",\\\"0.58\\\",\\\"0.59\\\",\\\"0.6\\\",\\\"0.61\\\",\\\"0.62\\\",\\\"0.63\\\",\\\"0.64\\\",\\\"0.65\\\",\\\"0.66\\\",\\\"0.67\\\",\\\"0.68\\\",\\\"0.69\\\",\\\"0.7\\\",\\\"0.71\\\",\\\"0.72\\\",\\\"0.73\\\",\\\"0.74\\\",\\\"0.75\\\",\\\"0.76\\\",\\\"0.77\\\",\\\"0.78\\\",\\\"0.79\\\",\\\"0.8\\\",\\\"0.81\\\",\\\"0.82\\\",\\\"0.83\\\",\\\"0.84\\\",\\\"0.85\\\",\\\"0.86\\\",\\\"0.87\\\",\\\"0.88\\\",\\\"0.89\\\",\\\"0.9\\\"],\\\"changes\\\":WebIO.getval({\\\"name\\\":\\\"changes\\\",\\\"scope\\\":\\\"18102564830908750318\\\",\\\"id\\\":\\\"13546356093138665277\\\",\\\"type\\\":\\\"observable\\\"}),\\\"index\\\":WebIO.getval({\\\"name\\\":\\\"index\\\",\\\"scope\\\":\\\"18102564830908750318\\\",\\\"id\\\":\\\"17332266953398481449\\\",\\\"type\\\":\\\"observable\\\"})};\\n    var self = this;\\n    function AppViewModel() {\\n        for (var key in json_data) {\\n            var el = json_data[key];\\n            this[key] = Array.isArray(el) ? ko.observableArray(el) : ko.observable(el);\\n        }\\n        \\n        [this[\\\"formatted_val\\\"]=ko.computed(    function(){\\n        return this.formatted_vals()[parseInt(this.index())-(1)];\\n    }\\n,this)]\\n        [this[\\\"changes\\\"].subscribe((function (val){!(this.valueFromJulia[\\\"changes\\\"]) ? (WebIO.setval({\\\"name\\\":\\\"changes\\\",\\\"scope\\\":\\\"18102564830908750318\\\",\\\"id\\\":\\\"13546356093138665277\\\",\\\"type\\\":\\\"observable\\\"},val)) : undefined; return this.valueFromJulia[\\\"changes\\\"]=false}),self),this[\\\"index\\\"].subscribe((function (val){!(this.valueFromJulia[\\\"index\\\"]) ? (WebIO.setval({\\\"name\\\":\\\"index\\\",\\\"scope\\\":\\\"18102564830908750318\\\",\\\"id\\\":\\\"17332266953398481449\\\",\\\"type\\\":\\\"observable\\\"},val)) : undefined; return this.valueFromJulia[\\\"index\\\"]=false}),self)]\\n        \\n    }\\n    self.model = new AppViewModel();\\n    self.valueFromJulia = {};\\n    for (var key in json_data) {\\n        self.valueFromJulia[key] = false;\\n    }\\n    ko.applyBindings(self.model, self.dom);\\n}\\n);\\n    (WebIO.importBlock({\\\"data\\\":[{\\\"name\\\":\\\"knockout\\\",\\\"type\\\":\\\"js\\\",\\\"url\\\":\\\"\\/assetserver\\/727383f2a47bd31570b7da84eee7b022dd6d7c78-knockout.js\\\"},{\\\"name\\\":\\\"knockout_punches\\\",\\\"type\\\":\\\"js\\\",\\\"url\\\":\\\"\\/assetserver\\/382b41b3b1bd9f26f75861d360bad7f8beea211f-knockout_punches.js\\\"}],\\\"type\\\":\\\"async_block\\\"})).then((imports) => handler.apply(this, imports));\\n}\\n\"],\"observables\":{\"changes\":{\"sync\":false,\"id\":\"13546356093138665277\",\"value\":0},\"index\":{\"sync\":true,\"id\":\"17332266953398481449\",\"value\":45}}},\"children\":[{\"props\":{\"className\":\"interact-flex-row interact-widget\"},\"nodeType\":\"DOM\",\"type\":\"node\",\"instanceArgs\":{\"namespace\":\"html\",\"tag\":\"div\"},\"children\":[{\"props\":{\"className\":\"interact-flex-row-left\"},\"nodeType\":\"DOM\",\"type\":\"node\",\"instanceArgs\":{\"namespace\":\"html\",\"tag\":\"div\"},\"children\":[{\"props\":{\"className\":\"interact \",\"style\":{\"padding\":\"5px 10px 0px 10px\"}},\"nodeType\":\"DOM\",\"type\":\"node\",\"instanceArgs\":{\"namespace\":\"html\",\"tag\":\"label\"},\"children\":[\"initial_wolf_percent\"]}]},{\"props\":{\"className\":\"interact-flex-row-center\"},\"nodeType\":\"DOM\",\"type\":\"node\",\"instanceArgs\":{\"namespace\":\"html\",\"tag\":\"div\"},\"children\":[{\"props\":{\"max\":90,\"min\":1,\"attributes\":{\"type\":\"range\",\"data-bind\":\"numericValue: index, valueUpdate: 'input', event: {change: function (){this.changes(this.changes()+1)}}\",\"orient\":\"horizontal\"},\"step\":1,\"className\":\"slider slider is-fullwidth\",\"style\":{}},\"nodeType\":\"DOM\",\"type\":\"node\",\"instanceArgs\":{\"namespace\":\"html\",\"tag\":\"input\"},\"children\":[]}]},{\"props\":{\"className\":\"interact-flex-row-right\"},\"nodeType\":\"DOM\",\"type\":\"node\",\"instanceArgs\":{\"namespace\":\"html\",\"tag\":\"div\"},\"children\":[{\"props\":{\"attributes\":{\"data-bind\":\"text: formatted_val\"}},\"nodeType\":\"DOM\",\"type\":\"node\",\"instanceArgs\":{\"namespace\":\"html\",\"tag\":\"p\"},\"children\":[]}]}]}]}]},{\"props\":{\"className\":\"field interact-widget\"},\"nodeType\":\"DOM\",\"type\":\"node\",\"instanceArgs\":{\"namespace\":\"html\",\"tag\":\"div\"},\"children\":[{\"props\":{},\"nodeType\":\"Scope\",\"type\":\"node\",\"instanceArgs\":{\"imports\":{\"data\":[{\"name\":\"knockout\",\"type\":\"js\",\"url\":\"\\/assetserver\\/727383f2a47bd31570b7da84eee7b022dd6d7c78-knockout.js\"},{\"name\":\"knockout_punches\",\"type\":\"js\",\"url\":\"\\/assetserver\\/382b41b3b1bd9f26f75861d360bad7f8beea211f-knockout_punches.js\"},{\"name\":null,\"type\":\"js\",\"url\":\"\\/assetserver\\/5ab20f1060420992a9b82a65b735dee4d81ef413-all.js\"},{\"name\":null,\"type\":\"css\",\"url\":\"\\/assetserver\\/1cc0ed62837210b80a182cc3676512f895dab686-style.css\"},{\"name\":null,\"type\":\"css\",\"url\":\"\\/assetserver\\/2eee816f616df3549d7044d45e744fbf8d42bfa1-bulma_confined.min.css\"}],\"type\":\"async_block\"},\"id\":\"9844211904419221169\",\"handlers\":{\"changes\":[\"(function (val){return (val!=this.model[\\\"changes\\\"]()) ? (this.valueFromJulia[\\\"changes\\\"]=true, this.model[\\\"changes\\\"](val)) : undefined})\"],\"index\":[\"(function (val){return (val!=this.model[\\\"index\\\"]()) ? (this.valueFromJulia[\\\"index\\\"]=true, this.model[\\\"index\\\"](val)) : undefined})\"]},\"systemjs_options\":null,\"mount_callbacks\":[\"function () {\\n    var handler = (function (ko, koPunches) {\\n    ko.punches.enableAll();\\n    ko.bindingHandlers.numericValue = {\\n        init: function(element, valueAccessor, allBindings, data, context) {\\n            var stringified = ko.observable(ko.unwrap(valueAccessor()));\\n            stringified.subscribe(function(value) {\\n                var val = parseFloat(value);\\n                if (!isNaN(val)) {\\n                    valueAccessor()(val);\\n                }\\n            });\\n            valueAccessor().subscribe(function(value) {\\n                var str = JSON.stringify(value);\\n                if ((str == \\\"0\\\") && ([\\\"-0\\\", \\\"-0.\\\"].indexOf(stringified()) >= 0))\\n                     return;\\n                 if ([\\\"null\\\", \\\"\\\"].indexOf(str) >= 0)\\n                     return;\\n                stringified(str);\\n            });\\n            ko.applyBindingsToNode(\\n                element,\\n                {\\n                    value: stringified,\\n                    valueUpdate: allBindings.get('valueUpdate'),\\n                },\\n                context,\\n            );\\n        }\\n    };\\n    var json_data = {\\\"formatted_vals\\\":[\\\"0.01\\\",\\\"0.02\\\",\\\"0.03\\\",\\\"0.04\\\",\\\"0.05\\\",\\\"0.06\\\",\\\"0.07\\\",\\\"0.08\\\",\\\"0.09\\\",\\\"0.1\\\",\\\"0.11\\\",\\\"0.12\\\",\\\"0.13\\\",\\\"0.14\\\",\\\"0.15\\\",\\\"0.16\\\",\\\"0.17\\\",\\\"0.18\\\",\\\"0.19\\\",\\\"0.2\\\",\\\"0.21\\\",\\\"0.22\\\",\\\"0.23\\\",\\\"0.24\\\",\\\"0.25\\\",\\\"0.26\\\",\\\"0.27\\\",\\\"0.28\\\",\\\"0.29\\\",\\\"0.3\\\",\\\"0.31\\\",\\\"0.32\\\",\\\"0.33\\\",\\\"0.34\\\",\\\"0.35\\\",\\\"0.36\\\",\\\"0.37\\\",\\\"0.38\\\",\\\"0.39\\\",\\\"0.4\\\",\\\"0.41\\\",\\\"0.42\\\",\\\"0.43\\\",\\\"0.44\\\",\\\"0.45\\\",\\\"0.46\\\",\\\"0.47\\\",\\\"0.48\\\",\\\"0.49\\\",\\\"0.5\\\",\\\"0.51\\\",\\\"0.52\\\",\\\"0.53\\\",\\\"0.54\\\",\\\"0.55\\\",\\\"0.56\\\",\\\"0.57\\\",\\\"0.58\\\",\\\"0.59\\\",\\\"0.6\\\",\\\"0.61\\\",\\\"0.62\\\",\\\"0.63\\\",\\\"0.64\\\",\\\"0.65\\\",\\\"0.66\\\",\\\"0.67\\\",\\\"0.68\\\",\\\"0.69\\\",\\\"0.7\\\",\\\"0.71\\\",\\\"0.72\\\",\\\"0.73\\\",\\\"0.74\\\",\\\"0.75\\\",\\\"0.76\\\",\\\"0.77\\\",\\\"0.78\\\",\\\"0.79\\\",\\\"0.8\\\",\\\"0.81\\\",\\\"0.82\\\",\\\"0.83\\\",\\\"0.84\\\",\\\"0.85\\\",\\\"0.86\\\",\\\"0.87\\\",\\\"0.88\\\",\\\"0.89\\\",\\\"0.9\\\",\\\"0.91\\\",\\\"0.92\\\",\\\"0.93\\\",\\\"0.94\\\",\\\"0.95\\\",\\\"0.96\\\",\\\"0.97\\\",\\\"0.98\\\",\\\"0.99\\\",\\\"1.0\\\"],\\\"changes\\\":WebIO.getval({\\\"name\\\":\\\"changes\\\",\\\"scope\\\":\\\"9844211904419221169\\\",\\\"id\\\":\\\"8713933071550937173\\\",\\\"type\\\":\\\"observable\\\"}),\\\"index\\\":WebIO.getval({\\\"name\\\":\\\"index\\\",\\\"scope\\\":\\\"9844211904419221169\\\",\\\"id\\\":\\\"16320795768102615219\\\",\\\"type\\\":\\\"observable\\\"})};\\n    var self = this;\\n    function AppViewModel() {\\n        for (var key in json_data) {\\n            var el = json_data[key];\\n            this[key] = Array.isArray(el) ? ko.observableArray(el) : ko.observable(el);\\n        }\\n        \\n        [this[\\\"formatted_val\\\"]=ko.computed(    function(){\\n        return this.formatted_vals()[parseInt(this.index())-(1)];\\n    }\\n,this)]\\n        [this[\\\"changes\\\"].subscribe((function (val){!(this.valueFromJulia[\\\"changes\\\"]) ? (WebIO.setval({\\\"name\\\":\\\"changes\\\",\\\"scope\\\":\\\"9844211904419221169\\\",\\\"id\\\":\\\"8713933071550937173\\\",\\\"type\\\":\\\"observable\\\"},val)) : undefined; return this.valueFromJulia[\\\"changes\\\"]=false}),self),this[\\\"index\\\"].subscribe((function (val){!(this.valueFromJulia[\\\"index\\\"]) ? (WebIO.setval({\\\"name\\\":\\\"index\\\",\\\"scope\\\":\\\"9844211904419221169\\\",\\\"id\\\":\\\"16320795768102615219\\\",\\\"type\\\":\\\"observable\\\"},val)) : undefined; return this.valueFromJulia[\\\"index\\\"]=false}),self)]\\n        \\n    }\\n    self.model = new AppViewModel();\\n    self.valueFromJulia = {};\\n    for (var key in json_data) {\\n        self.valueFromJulia[key] = false;\\n    }\\n    ko.applyBindings(self.model, self.dom);\\n}\\n);\\n    (WebIO.importBlock({\\\"data\\\":[{\\\"name\\\":\\\"knockout\\\",\\\"type\\\":\\\"js\\\",\\\"url\\\":\\\"\\/assetserver\\/727383f2a47bd31570b7da84eee7b022dd6d7c78-knockout.js\\\"},{\\\"name\\\":\\\"knockout_punches\\\",\\\"type\\\":\\\"js\\\",\\\"url\\\":\\\"\\/assetserver\\/382b41b3b1bd9f26f75861d360bad7f8beea211f-knockout_punches.js\\\"}],\\\"type\\\":\\\"async_block\\\"})).then((imports) => handler.apply(this, imports));\\n}\\n\"],\"observables\":{\"changes\":{\"sync\":false,\"id\":\"8713933071550937173\",\"value\":0},\"index\":{\"sync\":true,\"id\":\"16320795768102615219\",\"value\":50}}},\"children\":[{\"props\":{\"className\":\"interact-flex-row interact-widget\"},\"nodeType\":\"DOM\",\"type\":\"node\",\"instanceArgs\":{\"namespace\":\"html\",\"tag\":\"div\"},\"children\":[{\"props\":{\"className\":\"interact-flex-row-left\"},\"nodeType\":\"DOM\",\"type\":\"node\",\"instanceArgs\":{\"namespace\":\"html\",\"tag\":\"div\"},\"children\":[{\"props\":{\"className\":\"interact \",\"style\":{\"padding\":\"5px 10px 0px 10px\"}},\"nodeType\":\"DOM\",\"type\":\"node\",\"instanceArgs\":{\"namespace\":\"html\",\"tag\":\"label\"},\"children\":[\"wolves_kill_ability\"]}]},{\"props\":{\"className\":\"interact-flex-row-center\"},\"nodeType\":\"DOM\",\"type\":\"node\",\"instanceArgs\":{\"namespace\":\"html\",\"tag\":\"div\"},\"children\":[{\"props\":{\"max\":100,\"min\":1,\"attributes\":{\"type\":\"range\",\"data-bind\":\"numericValue: index, valueUpdate: 'input', event: {change: function (){this.changes(this.changes()+1)}}\",\"orient\":\"horizontal\"},\"step\":1,\"className\":\"slider slider is-fullwidth\",\"style\":{}},\"nodeType\":\"DOM\",\"type\":\"node\",\"instanceArgs\":{\"namespace\":\"html\",\"tag\":\"input\"},\"children\":[]}]},{\"props\":{\"className\":\"interact-flex-row-right\"},\"nodeType\":\"DOM\",\"type\":\"node\",\"instanceArgs\":{\"namespace\":\"html\",\"tag\":\"div\"},\"children\":[{\"props\":{\"attributes\":{\"data-bind\":\"text: formatted_val\"}},\"nodeType\":\"DOM\",\"type\":\"node\",\"instanceArgs\":{\"namespace\":\"html\",\"tag\":\"p\"},\"children\":[]}]}]}]}]},{\"props\":{\"className\":\"field interact-widget\"},\"nodeType\":\"DOM\",\"type\":\"node\",\"instanceArgs\":{\"namespace\":\"html\",\"tag\":\"div\"},\"children\":[{\"props\":{},\"nodeType\":\"Scope\",\"type\":\"node\",\"instanceArgs\":{\"imports\":{\"data\":[{\"name\":\"knockout\",\"type\":\"js\",\"url\":\"\\/assetserver\\/727383f2a47bd31570b7da84eee7b022dd6d7c78-knockout.js\"},{\"name\":\"knockout_punches\",\"type\":\"js\",\"url\":\"\\/assetserver\\/382b41b3b1bd9f26f75861d360bad7f8beea211f-knockout_punches.js\"},{\"name\":null,\"type\":\"js\",\"url\":\"\\/assetserver\\/5ab20f1060420992a9b82a65b735dee4d81ef413-all.js\"},{\"name\":null,\"type\":\"css\",\"url\":\"\\/assetserver\\/1cc0ed62837210b80a182cc3676512f895dab686-style.css\"},{\"name\":null,\"type\":\"css\",\"url\":\"\\/assetserver\\/2eee816f616df3549d7044d45e744fbf8d42bfa1-bulma_confined.min.css\"}],\"type\":\"async_block\"},\"id\":\"5159910332718666706\",\"handlers\":{\"changes\":[\"(function (val){return (val!=this.model[\\\"changes\\\"]()) ? (this.valueFromJulia[\\\"changes\\\"]=true, this.model[\\\"changes\\\"](val)) : undefined})\"],\"index\":[\"(function (val){return (val!=this.model[\\\"index\\\"]()) ? (this.valueFromJulia[\\\"index\\\"]=true, this.model[\\\"index\\\"](val)) : undefined})\"]},\"systemjs_options\":null,\"mount_callbacks\":[\"function () {\\n    var handler = (function (ko, koPunches) {\\n    ko.punches.enableAll();\\n    ko.bindingHandlers.numericValue = {\\n        init: function(element, valueAccessor, allBindings, data, context) {\\n            var stringified = ko.observable(ko.unwrap(valueAccessor()));\\n            stringified.subscribe(function(value) {\\n                var val = parseFloat(value);\\n                if (!isNaN(val)) {\\n                    valueAccessor()(val);\\n                }\\n            });\\n            valueAccessor().subscribe(function(value) {\\n                var str = JSON.stringify(value);\\n                if ((str == \\\"0\\\") && ([\\\"-0\\\", \\\"-0.\\\"].indexOf(stringified()) >= 0))\\n                     return;\\n                 if ([\\\"null\\\", \\\"\\\"].indexOf(str) >= 0)\\n                     return;\\n                stringified(str);\\n            });\\n            ko.applyBindingsToNode(\\n                element,\\n                {\\n                    value: stringified,\\n                    valueUpdate: allBindings.get('valueUpdate'),\\n                },\\n                context,\\n            );\\n        }\\n    };\\n    var json_data = {\\\"formatted_vals\\\":[\\\"0.01\\\",\\\"0.02\\\",\\\"0.03\\\",\\\"0.04\\\",\\\"0.05\\\",\\\"0.06\\\",\\\"0.07\\\",\\\"0.08\\\",\\\"0.09\\\",\\\"0.1\\\",\\\"0.11\\\",\\\"0.12\\\",\\\"0.13\\\",\\\"0.14\\\",\\\"0.15\\\",\\\"0.16\\\",\\\"0.17\\\",\\\"0.18\\\",\\\"0.19\\\",\\\"0.2\\\",\\\"0.21\\\",\\\"0.22\\\",\\\"0.23\\\",\\\"0.24\\\",\\\"0.25\\\",\\\"0.26\\\",\\\"0.27\\\",\\\"0.28\\\",\\\"0.29\\\",\\\"0.3\\\",\\\"0.31\\\",\\\"0.32\\\",\\\"0.33\\\",\\\"0.34\\\",\\\"0.35\\\",\\\"0.36\\\",\\\"0.37\\\",\\\"0.38\\\",\\\"0.39\\\",\\\"0.4\\\",\\\"0.41\\\",\\\"0.42\\\",\\\"0.43\\\",\\\"0.44\\\",\\\"0.45\\\",\\\"0.46\\\",\\\"0.47\\\",\\\"0.48\\\",\\\"0.49\\\",\\\"0.5\\\"],\\\"changes\\\":WebIO.getval({\\\"name\\\":\\\"changes\\\",\\\"scope\\\":\\\"5159910332718666706\\\",\\\"id\\\":\\\"3199598296072437720\\\",\\\"type\\\":\\\"observable\\\"}),\\\"index\\\":WebIO.getval({\\\"name\\\":\\\"index\\\",\\\"scope\\\":\\\"5159910332718666706\\\",\\\"id\\\":\\\"11435830236159261238\\\",\\\"type\\\":\\\"observable\\\"})};\\n    var self = this;\\n    function AppViewModel() {\\n        for (var key in json_data) {\\n            var el = json_data[key];\\n            this[key] = Array.isArray(el) ? ko.observableArray(el) : ko.observable(el);\\n        }\\n        \\n        [this[\\\"formatted_val\\\"]=ko.computed(    function(){\\n        return this.formatted_vals()[parseInt(this.index())-(1)];\\n    }\\n,this)]\\n        [this[\\\"changes\\\"].subscribe((function (val){!(this.valueFromJulia[\\\"changes\\\"]) ? (WebIO.setval({\\\"name\\\":\\\"changes\\\",\\\"scope\\\":\\\"5159910332718666706\\\",\\\"id\\\":\\\"3199598296072437720\\\",\\\"type\\\":\\\"observable\\\"},val)) : undefined; return this.valueFromJulia[\\\"changes\\\"]=false}),self),this[\\\"index\\\"].subscribe((function (val){!(this.valueFromJulia[\\\"index\\\"]) ? (WebIO.setval({\\\"name\\\":\\\"index\\\",\\\"scope\\\":\\\"5159910332718666706\\\",\\\"id\\\":\\\"11435830236159261238\\\",\\\"type\\\":\\\"observable\\\"},val)) : undefined; return this.valueFromJulia[\\\"index\\\"]=false}),self)]\\n        \\n    }\\n    self.model = new AppViewModel();\\n    self.valueFromJulia = {};\\n    for (var key in json_data) {\\n        self.valueFromJulia[key] = false;\\n    }\\n    ko.applyBindings(self.model, self.dom);\\n}\\n);\\n    (WebIO.importBlock({\\\"data\\\":[{\\\"name\\\":\\\"knockout\\\",\\\"type\\\":\\\"js\\\",\\\"url\\\":\\\"\\/assetserver\\/727383f2a47bd31570b7da84eee7b022dd6d7c78-knockout.js\\\"},{\\\"name\\\":\\\"knockout_punches\\\",\\\"type\\\":\\\"js\\\",\\\"url\\\":\\\"\\/assetserver\\/382b41b3b1bd9f26f75861d360bad7f8beea211f-knockout_punches.js\\\"}],\\\"type\\\":\\\"async_block\\\"})).then((imports) => handler.apply(this, imports));\\n}\\n\"],\"observables\":{\"changes\":{\"sync\":false,\"id\":\"3199598296072437720\",\"value\":0},\"index\":{\"sync\":true,\"id\":\"11435830236159261238\",\"value\":25}}},\"children\":[{\"props\":{\"className\":\"interact-flex-row interact-widget\"},\"nodeType\":\"DOM\",\"type\":\"node\",\"instanceArgs\":{\"namespace\":\"html\",\"tag\":\"div\"},\"children\":[{\"props\":{\"className\":\"interact-flex-row-left\"},\"nodeType\":\"DOM\",\"type\":\"node\",\"instanceArgs\":{\"namespace\":\"html\",\"tag\":\"div\"},\"children\":[{\"props\":{\"className\":\"interact \",\"style\":{\"padding\":\"5px 10px 0px 10px\"}},\"nodeType\":\"DOM\",\"type\":\"node\",\"instanceArgs\":{\"namespace\":\"html\",\"tag\":\"label\"},\"children\":[\"grass_grow_prob\"]}]},{\"props\":{\"className\":\"interact-flex-row-center\"},\"nodeType\":\"DOM\",\"type\":\"node\",\"instanceArgs\":{\"namespace\":\"html\",\"tag\":\"div\"},\"children\":[{\"props\":{\"max\":50,\"min\":1,\"attributes\":{\"type\":\"range\",\"data-bind\":\"numericValue: index, valueUpdate: 'input', event: {change: function (){this.changes(this.changes()+1)}}\",\"orient\":\"horizontal\"},\"step\":1,\"className\":\"slider slider is-fullwidth\",\"style\":{}},\"nodeType\":\"DOM\",\"type\":\"node\",\"instanceArgs\":{\"namespace\":\"html\",\"tag\":\"input\"},\"children\":[]}]},{\"props\":{\"className\":\"interact-flex-row-right\"},\"nodeType\":\"DOM\",\"type\":\"node\",\"instanceArgs\":{\"namespace\":\"html\",\"tag\":\"div\"},\"children\":[{\"props\":{\"attributes\":{\"data-bind\":\"text: formatted_val\"}},\"nodeType\":\"DOM\",\"type\":\"node\",\"instanceArgs\":{\"namespace\":\"html\",\"tag\":\"p\"},\"children\":[]}]}]}]}]}]},{\"props\":{\"style\":{\"display\":\"flex\",\"flex-direction\":\"row\"}},\"nodeType\":\"DOM\",\"type\":\"node\",\"instanceArgs\":{\"namespace\":\"html\",\"tag\":\"div\"},\"children\":[{\"props\":{\"className\":\"interact-widget\"},\"nodeType\":\"DOM\",\"type\":\"node\",\"instanceArgs\":{\"namespace\":\"html\",\"tag\":\"div\"},\"children\":[{\"props\":{},\"nodeType\":\"Scope\",\"type\":\"node\",\"instanceArgs\":{\"imports\":{\"data\":[{\"name\":null,\"type\":\"js\",\"url\":\"\\/assetserver\\/dd22ed1bf1896c2748f3fe616ce0b838adc895c1-katex.min.js\"},{\"name\":null,\"type\":\"css\",\"url\":\"\\/assetserver\\/46517a424aa5e6cffc1360d7e0848b601c584ee3-katex.min.css\"}],\"type\":\"async_block\"},\"id\":\"18066878004022274791\",\"handlers\":{\"value\":[\"(function (txt){return this.k.render(txt,this.container)})\"]},\"systemjs_options\":null,\"mount_callbacks\":[\"function () {\\n    var handler = ((function (k){this.k=k; this.container=this.dom.querySelector(\\\"#container\\\"); return k.render(\\\"\\\\\\\\;\\\\\\\\;\\\",this.container)}));\\n    (WebIO.importBlock({\\\"data\\\":[{\\\"name\\\":null,\\\"type\\\":\\\"js\\\",\\\"url\\\":\\\"\\/assetserver\\/dd22ed1bf1896c2748f3fe616ce0b838adc895c1-katex.min.js\\\"},{\\\"name\\\":null,\\\"type\\\":\\\"css\\\",\\\"url\\\":\\\"\\/assetserver\\/46517a424aa5e6cffc1360d7e0848b601c584ee3-katex.min.css\\\"}],\\\"type\\\":\\\"async_block\\\"})).then((imports) => handler.apply(this, imports));\\n}\\n\"],\"observables\":{\"value\":{\"sync\":false,\"id\":\"10437080321436842502\",\"value\":\"\\\\;\\\\;\"}}},\"children\":[{\"props\":{\"id\":\"container\"},\"nodeType\":\"DOM\",\"type\":\"node\",\"instanceArgs\":{\"namespace\":\"html\",\"tag\":\"div\"},\"children\":[]}]}]},{\"props\":{\"className\":\"field interact-widget\"},\"nodeType\":\"DOM\",\"type\":\"node\",\"instanceArgs\":{\"namespace\":\"html\",\"tag\":\"div\"},\"children\":[{\"props\":{},\"nodeType\":\"Scope\",\"type\":\"node\",\"instanceArgs\":{\"imports\":{\"data\":[{\"name\":\"knockout\",\"type\":\"js\",\"url\":\"\\/assetserver\\/727383f2a47bd31570b7da84eee7b022dd6d7c78-knockout.js\"},{\"name\":\"knockout_punches\",\"type\":\"js\",\"url\":\"\\/assetserver\\/382b41b3b1bd9f26f75861d360bad7f8beea211f-knockout_punches.js\"},{\"name\":null,\"type\":\"js\",\"url\":\"\\/assetserver\\/5ab20f1060420992a9b82a65b735dee4d81ef413-all.js\"},{\"name\":null,\"type\":\"css\",\"url\":\"\\/assetserver\\/1cc0ed62837210b80a182cc3676512f895dab686-style.css\"},{\"name\":null,\"type\":\"css\",\"url\":\"\\/assetserver\\/2eee816f616df3549d7044d45e744fbf8d42bfa1-bulma_confined.min.css\"}],\"type\":\"async_block\"},\"id\":\"6668461495278469094\",\"handlers\":{\"loading\":[\"(function (val){return (val!=this.model[\\\"loading\\\"]()) ? (this.valueFromJulia[\\\"loading\\\"]=true, this.model[\\\"loading\\\"](val)) : undefined})\"],\"clicks\":[\"(function (val){return (val!=this.model[\\\"clicks\\\"]()) ? (this.valueFromJulia[\\\"clicks\\\"]=true, this.model[\\\"clicks\\\"](val)) : undefined})\"]},\"systemjs_options\":null,\"mount_callbacks\":[\"function () {\\n    var handler = (function (ko, koPunches) {\\n    ko.punches.enableAll();\\n    ko.bindingHandlers.numericValue = {\\n        init: function(element, valueAccessor, allBindings, data, context) {\\n            var stringified = ko.observable(ko.unwrap(valueAccessor()));\\n            stringified.subscribe(function(value) {\\n                var val = parseFloat(value);\\n                if (!isNaN(val)) {\\n                    valueAccessor()(val);\\n                }\\n            });\\n            valueAccessor().subscribe(function(value) {\\n                var str = JSON.stringify(value);\\n                if ((str == \\\"0\\\") && ([\\\"-0\\\", \\\"-0.\\\"].indexOf(stringified()) >= 0))\\n                     return;\\n                 if ([\\\"null\\\", \\\"\\\"].indexOf(str) >= 0)\\n                     return;\\n                stringified(str);\\n            });\\n            ko.applyBindingsToNode(\\n                element,\\n                {\\n                    value: stringified,\\n                    valueUpdate: allBindings.get('valueUpdate'),\\n                },\\n                context,\\n            );\\n        }\\n    };\\n    var json_data = {\\\"loading\\\":WebIO.getval({\\\"name\\\":\\\"loading\\\",\\\"scope\\\":\\\"6668461495278469094\\\",\\\"id\\\":\\\"12351899954350154274\\\",\\\"type\\\":\\\"observable\\\"}),\\\"clicks\\\":WebIO.getval({\\\"name\\\":\\\"clicks\\\",\\\"scope\\\":\\\"6668461495278469094\\\",\\\"id\\\":\\\"5313946134929187040\\\",\\\"type\\\":\\\"observable\\\"})};\\n    var self = this;\\n    function AppViewModel() {\\n        for (var key in json_data) {\\n            var el = json_data[key];\\n            this[key] = Array.isArray(el) ? ko.observableArray(el) : ko.observable(el);\\n        }\\n        \\n        \\n        [this[\\\"loading\\\"].subscribe((function (val){!(this.valueFromJulia[\\\"loading\\\"]) ? (WebIO.setval({\\\"name\\\":\\\"loading\\\",\\\"scope\\\":\\\"6668461495278469094\\\",\\\"id\\\":\\\"12351899954350154274\\\",\\\"type\\\":\\\"observable\\\"},val)) : undefined; return this.valueFromJulia[\\\"loading\\\"]=false}),self),this[\\\"clicks\\\"].subscribe((function (val){!(this.valueFromJulia[\\\"clicks\\\"]) ? (WebIO.setval({\\\"name\\\":\\\"clicks\\\",\\\"scope\\\":\\\"6668461495278469094\\\",\\\"id\\\":\\\"5313946134929187040\\\",\\\"type\\\":\\\"observable\\\"},val)) : undefined; return this.valueFromJulia[\\\"clicks\\\"]=false}),self)]\\n        \\n    }\\n    self.model = new AppViewModel();\\n    self.valueFromJulia = {};\\n    for (var key in json_data) {\\n        self.valueFromJulia[key] = false;\\n    }\\n    ko.applyBindings(self.model, self.dom);\\n}\\n);\\n    (WebIO.importBlock({\\\"data\\\":[{\\\"name\\\":\\\"knockout\\\",\\\"type\\\":\\\"js\\\",\\\"url\\\":\\\"\\/assetserver\\/727383f2a47bd31570b7da84eee7b022dd6d7c78-knockout.js\\\"},{\\\"name\\\":\\\"knockout_punches\\\",\\\"type\\\":\\\"js\\\",\\\"url\\\":\\\"\\/assetserver\\/382b41b3b1bd9f26f75861d360bad7f8beea211f-knockout_punches.js\\\"}],\\\"type\\\":\\\"async_block\\\"})).then((imports) => handler.apply(this, imports));\\n}\\n\"],\"observables\":{\"loading\":{\"sync\":false,\"id\":\"12351899954350154274\",\"value\":false},\"clicks\":{\"sync\":true,\"id\":\"5313946134929187040\",\"value\":0}}},\"children\":[{\"props\":{\"attributes\":{\"data-bind\":\"click: function (){this.clicks(this.clicks()+1)}, css: {'is-loading' : loading}\"},\"className\":\"is-medium button is-primary\",\"style\":{}},\"nodeType\":\"DOM\",\"type\":\"node\",\"instanceArgs\":{\"namespace\":\"html\",\"tag\":\"button\"},\"children\":[\"run\"]}]}]},{\"props\":{\"className\":\"interact-widget\"},\"nodeType\":\"DOM\",\"type\":\"node\",\"instanceArgs\":{\"namespace\":\"html\",\"tag\":\"div\"},\"children\":[{\"props\":{},\"nodeType\":\"Scope\",\"type\":\"node\",\"instanceArgs\":{\"imports\":{\"data\":[{\"name\":null,\"type\":\"js\",\"url\":\"\\/assetserver\\/dd22ed1bf1896c2748f3fe616ce0b838adc895c1-katex.min.js\"},{\"name\":null,\"type\":\"css\",\"url\":\"\\/assetserver\\/46517a424aa5e6cffc1360d7e0848b601c584ee3-katex.min.css\"}],\"type\":\"async_block\"},\"id\":\"18066878004022274791\",\"handlers\":{\"value\":[\"(function (txt){return this.k.render(txt,this.container)})\"]},\"systemjs_options\":null,\"mount_callbacks\":[\"function () {\\n    var handler = ((function (k){this.k=k; this.container=this.dom.querySelector(\\\"#container\\\"); return k.render(\\\"\\\\\\\\;\\\\\\\\;\\\",this.container)}));\\n    (WebIO.importBlock({\\\"data\\\":[{\\\"name\\\":null,\\\"type\\\":\\\"js\\\",\\\"url\\\":\\\"\\/assetserver\\/dd22ed1bf1896c2748f3fe616ce0b838adc895c1-katex.min.js\\\"},{\\\"name\\\":null,\\\"type\\\":\\\"css\\\",\\\"url\\\":\\\"\\/assetserver\\/46517a424aa5e6cffc1360d7e0848b601c584ee3-katex.min.css\\\"}],\\\"type\\\":\\\"async_block\\\"})).then((imports) => handler.apply(this, imports));\\n}\\n\"],\"observables\":{\"value\":{\"sync\":false,\"id\":\"10437080321436842502\",\"value\":\"\\\\;\\\\;\"}}},\"children\":[{\"props\":{\"id\":\"container\"},\"nodeType\":\"DOM\",\"type\":\"node\",\"instanceArgs\":{\"namespace\":\"html\",\"tag\":\"div\"},\"children\":[]}]}]},{\"props\":{\"className\":\"field interact-widget\"},\"nodeType\":\"DOM\",\"type\":\"node\",\"instanceArgs\":{\"namespace\":\"html\",\"tag\":\"div\"},\"children\":[{\"props\":{},\"nodeType\":\"Scope\",\"type\":\"node\",\"instanceArgs\":{\"imports\":{\"data\":[{\"name\":\"knockout\",\"type\":\"js\",\"url\":\"\\/assetserver\\/727383f2a47bd31570b7da84eee7b022dd6d7c78-knockout.js\"},{\"name\":\"knockout_punches\",\"type\":\"js\",\"url\":\"\\/assetserver\\/382b41b3b1bd9f26f75861d360bad7f8beea211f-knockout_punches.js\"},{\"name\":null,\"type\":\"js\",\"url\":\"\\/assetserver\\/5ab20f1060420992a9b82a65b735dee4d81ef413-all.js\"},{\"name\":null,\"type\":\"css\",\"url\":\"\\/assetserver\\/1cc0ed62837210b80a182cc3676512f895dab686-style.css\"},{\"name\":null,\"type\":\"css\",\"url\":\"\\/assetserver\\/2eee816f616df3549d7044d45e744fbf8d42bfa1-bulma_confined.min.css\"}],\"type\":\"async_block\"},\"id\":\"11530523912243027645\",\"handlers\":{\"loading\":[\"(function (val){return (val!=this.model[\\\"loading\\\"]()) ? (this.valueFromJulia[\\\"loading\\\"]=true, this.model[\\\"loading\\\"](val)) : undefined})\"],\"clicks\":[\"(function (val){return (val!=this.model[\\\"clicks\\\"]()) ? (this.valueFromJulia[\\\"clicks\\\"]=true, this.model[\\\"clicks\\\"](val)) : undefined})\"]},\"systemjs_options\":null,\"mount_callbacks\":[\"function () {\\n    var handler = (function (ko, koPunches) {\\n    ko.punches.enableAll();\\n    ko.bindingHandlers.numericValue = {\\n        init: function(element, valueAccessor, allBindings, data, context) {\\n            var stringified = ko.observable(ko.unwrap(valueAccessor()));\\n            stringified.subscribe(function(value) {\\n                var val = parseFloat(value);\\n                if (!isNaN(val)) {\\n                    valueAccessor()(val);\\n                }\\n            });\\n            valueAccessor().subscribe(function(value) {\\n                var str = JSON.stringify(value);\\n                if ((str == \\\"0\\\") && ([\\\"-0\\\", \\\"-0.\\\"].indexOf(stringified()) >= 0))\\n                     return;\\n                 if ([\\\"null\\\", \\\"\\\"].indexOf(str) >= 0)\\n                     return;\\n                stringified(str);\\n            });\\n            ko.applyBindingsToNode(\\n                element,\\n                {\\n                    value: stringified,\\n                    valueUpdate: allBindings.get('valueUpdate'),\\n                },\\n                context,\\n            );\\n        }\\n    };\\n    var json_data = {\\\"loading\\\":WebIO.getval({\\\"name\\\":\\\"loading\\\",\\\"scope\\\":\\\"11530523912243027645\\\",\\\"id\\\":\\\"940680427821531194\\\",\\\"type\\\":\\\"observable\\\"}),\\\"clicks\\\":WebIO.getval({\\\"name\\\":\\\"clicks\\\",\\\"scope\\\":\\\"11530523912243027645\\\",\\\"id\\\":\\\"17485846705426047982\\\",\\\"type\\\":\\\"observable\\\"})};\\n    var self = this;\\n    function AppViewModel() {\\n        for (var key in json_data) {\\n            var el = json_data[key];\\n            this[key] = Array.isArray(el) ? ko.observableArray(el) : ko.observable(el);\\n        }\\n        \\n        \\n        [this[\\\"loading\\\"].subscribe((function (val){!(this.valueFromJulia[\\\"loading\\\"]) ? (WebIO.setval({\\\"name\\\":\\\"loading\\\",\\\"scope\\\":\\\"11530523912243027645\\\",\\\"id\\\":\\\"940680427821531194\\\",\\\"type\\\":\\\"observable\\\"},val)) : undefined; return this.valueFromJulia[\\\"loading\\\"]=false}),self),this[\\\"clicks\\\"].subscribe((function (val){!(this.valueFromJulia[\\\"clicks\\\"]) ? (WebIO.setval({\\\"name\\\":\\\"clicks\\\",\\\"scope\\\":\\\"11530523912243027645\\\",\\\"id\\\":\\\"17485846705426047982\\\",\\\"type\\\":\\\"observable\\\"},val)) : undefined; return this.valueFromJulia[\\\"clicks\\\"]=false}),self)]\\n        \\n    }\\n    self.model = new AppViewModel();\\n    self.valueFromJulia = {};\\n    for (var key in json_data) {\\n        self.valueFromJulia[key] = false;\\n    }\\n    ko.applyBindings(self.model, self.dom);\\n}\\n);\\n    (WebIO.importBlock({\\\"data\\\":[{\\\"name\\\":\\\"knockout\\\",\\\"type\\\":\\\"js\\\",\\\"url\\\":\\\"\\/assetserver\\/727383f2a47bd31570b7da84eee7b022dd6d7c78-knockout.js\\\"},{\\\"name\\\":\\\"knockout_punches\\\",\\\"type\\\":\\\"js\\\",\\\"url\\\":\\\"\\/assetserver\\/382b41b3b1bd9f26f75861d360bad7f8beea211f-knockout_punches.js\\\"}],\\\"type\\\":\\\"async_block\\\"})).then((imports) => handler.apply(this, imports));\\n}\\n\"],\"observables\":{\"loading\":{\"sync\":false,\"id\":\"940680427821531194\",\"value\":false},\"clicks\":{\"sync\":true,\"id\":\"17485846705426047982\",\"value\":0}}},\"children\":[{\"props\":{\"attributes\":{\"data-bind\":\"click: function (){this.clicks(this.clicks()+1)}, css: {'is-loading' : loading}\"},\"className\":\"is-medium button is-primary\",\"style\":{}},\"nodeType\":\"DOM\",\"type\":\"node\",\"instanceArgs\":{\"namespace\":\"html\",\"tag\":\"button\"},\"children\":[\"stop\"]}]}]},{\"props\":{\"className\":\"interact-widget\"},\"nodeType\":\"DOM\",\"type\":\"node\",\"instanceArgs\":{\"namespace\":\"html\",\"tag\":\"div\"},\"children\":[{\"props\":{},\"nodeType\":\"Scope\",\"type\":\"node\",\"instanceArgs\":{\"imports\":{\"data\":[{\"name\":null,\"type\":\"js\",\"url\":\"\\/assetserver\\/dd22ed1bf1896c2748f3fe616ce0b838adc895c1-katex.min.js\"},{\"name\":null,\"type\":\"css\",\"url\":\"\\/assetserver\\/46517a424aa5e6cffc1360d7e0848b601c584ee3-katex.min.css\"}],\"type\":\"async_block\"},\"id\":\"18066878004022274791\",\"handlers\":{\"value\":[\"(function (txt){return this.k.render(txt,this.container)})\"]},\"systemjs_options\":null,\"mount_callbacks\":[\"function () {\\n    var handler = ((function (k){this.k=k; this.container=this.dom.querySelector(\\\"#container\\\"); return k.render(\\\"\\\\\\\\;\\\\\\\\;\\\",this.container)}));\\n    (WebIO.importBlock({\\\"data\\\":[{\\\"name\\\":null,\\\"type\\\":\\\"js\\\",\\\"url\\\":\\\"\\/assetserver\\/dd22ed1bf1896c2748f3fe616ce0b838adc895c1-katex.min.js\\\"},{\\\"name\\\":null,\\\"type\\\":\\\"css\\\",\\\"url\\\":\\\"\\/assetserver\\/46517a424aa5e6cffc1360d7e0848b601c584ee3-katex.min.css\\\"}],\\\"type\\\":\\\"async_block\\\"})).then((imports) => handler.apply(this, imports));\\n}\\n\"],\"observables\":{\"value\":{\"sync\":false,\"id\":\"10437080321436842502\",\"value\":\"\\\\;\\\\;\"}}},\"children\":[{\"props\":{\"id\":\"container\"},\"nodeType\":\"DOM\",\"type\":\"node\",\"instanceArgs\":{\"namespace\":\"html\",\"tag\":\"div\"},\"children\":[]}]}]},{\"props\":{\"className\":\"field interact-widget\"},\"nodeType\":\"DOM\",\"type\":\"node\",\"instanceArgs\":{\"namespace\":\"html\",\"tag\":\"div\"},\"children\":[{\"props\":{},\"nodeType\":\"Scope\",\"type\":\"node\",\"instanceArgs\":{\"imports\":{\"data\":[{\"name\":\"knockout\",\"type\":\"js\",\"url\":\"\\/assetserver\\/727383f2a47bd31570b7da84eee7b022dd6d7c78-knockout.js\"},{\"name\":\"knockout_punches\",\"type\":\"js\",\"url\":\"\\/assetserver\\/382b41b3b1bd9f26f75861d360bad7f8beea211f-knockout_punches.js\"},{\"name\":null,\"type\":\"js\",\"url\":\"\\/assetserver\\/5ab20f1060420992a9b82a65b735dee4d81ef413-all.js\"},{\"name\":null,\"type\":\"css\",\"url\":\"\\/assetserver\\/1cc0ed62837210b80a182cc3676512f895dab686-style.css\"},{\"name\":null,\"type\":\"css\",\"url\":\"\\/assetserver\\/2eee816f616df3549d7044d45e744fbf8d42bfa1-bulma_confined.min.css\"}],\"type\":\"async_block\"},\"id\":\"3683292889822425855\",\"handlers\":{\"loading\":[\"(function (val){return (val!=this.model[\\\"loading\\\"]()) ? (this.valueFromJulia[\\\"loading\\\"]=true, this.model[\\\"loading\\\"](val)) : undefined})\"],\"clicks\":[\"(function (val){return (val!=this.model[\\\"clicks\\\"]()) ? (this.valueFromJulia[\\\"clicks\\\"]=true, this.model[\\\"clicks\\\"](val)) : undefined})\"]},\"systemjs_options\":null,\"mount_callbacks\":[\"function () {\\n    var handler = (function (ko, koPunches) {\\n    ko.punches.enableAll();\\n    ko.bindingHandlers.numericValue = {\\n        init: function(element, valueAccessor, allBindings, data, context) {\\n            var stringified = ko.observable(ko.unwrap(valueAccessor()));\\n            stringified.subscribe(function(value) {\\n                var val = parseFloat(value);\\n                if (!isNaN(val)) {\\n                    valueAccessor()(val);\\n                }\\n            });\\n            valueAccessor().subscribe(function(value) {\\n                var str = JSON.stringify(value);\\n                if ((str == \\\"0\\\") && ([\\\"-0\\\", \\\"-0.\\\"].indexOf(stringified()) >= 0))\\n                     return;\\n                 if ([\\\"null\\\", \\\"\\\"].indexOf(str) >= 0)\\n                     return;\\n                stringified(str);\\n            });\\n            ko.applyBindingsToNode(\\n                element,\\n                {\\n                    value: stringified,\\n                    valueUpdate: allBindings.get('valueUpdate'),\\n                },\\n                context,\\n            );\\n        }\\n    };\\n    var json_data = {\\\"loading\\\":WebIO.getval({\\\"name\\\":\\\"loading\\\",\\\"scope\\\":\\\"3683292889822425855\\\",\\\"id\\\":\\\"4409631856211553009\\\",\\\"type\\\":\\\"observable\\\"}),\\\"clicks\\\":WebIO.getval({\\\"name\\\":\\\"clicks\\\",\\\"scope\\\":\\\"3683292889822425855\\\",\\\"id\\\":\\\"8849561032799228156\\\",\\\"type\\\":\\\"observable\\\"})};\\n    var self = this;\\n    function AppViewModel() {\\n        for (var key in json_data) {\\n            var el = json_data[key];\\n            this[key] = Array.isArray(el) ? ko.observableArray(el) : ko.observable(el);\\n        }\\n        \\n        \\n        [this[\\\"loading\\\"].subscribe((function (val){!(this.valueFromJulia[\\\"loading\\\"]) ? (WebIO.setval({\\\"name\\\":\\\"loading\\\",\\\"scope\\\":\\\"3683292889822425855\\\",\\\"id\\\":\\\"4409631856211553009\\\",\\\"type\\\":\\\"observable\\\"},val)) : undefined; return this.valueFromJulia[\\\"loading\\\"]=false}),self),this[\\\"clicks\\\"].subscribe((function (val){!(this.valueFromJulia[\\\"clicks\\\"]) ? (WebIO.setval({\\\"name\\\":\\\"clicks\\\",\\\"scope\\\":\\\"3683292889822425855\\\",\\\"id\\\":\\\"8849561032799228156\\\",\\\"type\\\":\\\"observable\\\"},val)) : undefined; return this.valueFromJulia[\\\"clicks\\\"]=false}),self)]\\n        \\n    }\\n    self.model = new AppViewModel();\\n    self.valueFromJulia = {};\\n    for (var key in json_data) {\\n        self.valueFromJulia[key] = false;\\n    }\\n    ko.applyBindings(self.model, self.dom);\\n}\\n);\\n    (WebIO.importBlock({\\\"data\\\":[{\\\"name\\\":\\\"knockout\\\",\\\"type\\\":\\\"js\\\",\\\"url\\\":\\\"\\/assetserver\\/727383f2a47bd31570b7da84eee7b022dd6d7c78-knockout.js\\\"},{\\\"name\\\":\\\"knockout_punches\\\",\\\"type\\\":\\\"js\\\",\\\"url\\\":\\\"\\/assetserver\\/382b41b3b1bd9f26f75861d360bad7f8beea211f-knockout_punches.js\\\"}],\\\"type\\\":\\\"async_block\\\"})).then((imports) => handler.apply(this, imports));\\n}\\n\"],\"observables\":{\"loading\":{\"sync\":false,\"id\":\"4409631856211553009\",\"value\":false},\"clicks\":{\"sync\":true,\"id\":\"8849561032799228156\",\"value\":0}}},\"children\":[{\"props\":{\"attributes\":{\"data-bind\":\"click: function (){this.clicks(this.clicks()+1)}, css: {'is-loading' : loading}\"},\"className\":\"is-medium button is-primary\",\"style\":{}},\"nodeType\":\"DOM\",\"type\":\"node\",\"instanceArgs\":{\"namespace\":\"html\",\"tag\":\"button\"},\"children\":[\"reset\"]}]}]},{\"props\":{\"className\":\"interact-widget\"},\"nodeType\":\"DOM\",\"type\":\"node\",\"instanceArgs\":{\"namespace\":\"html\",\"tag\":\"div\"},\"children\":[{\"props\":{},\"nodeType\":\"Scope\",\"type\":\"node\",\"instanceArgs\":{\"imports\":{\"data\":[{\"name\":null,\"type\":\"js\",\"url\":\"\\/assetserver\\/dd22ed1bf1896c2748f3fe616ce0b838adc895c1-katex.min.js\"},{\"name\":null,\"type\":\"css\",\"url\":\"\\/assetserver\\/46517a424aa5e6cffc1360d7e0848b601c584ee3-katex.min.css\"}],\"type\":\"async_block\"},\"id\":\"18066878004022274791\",\"handlers\":{\"value\":[\"(function (txt){return this.k.render(txt,this.container)})\"]},\"systemjs_options\":null,\"mount_callbacks\":[\"function () {\\n    var handler = ((function (k){this.k=k; this.container=this.dom.querySelector(\\\"#container\\\"); return k.render(\\\"\\\\\\\\;\\\\\\\\;\\\",this.container)}));\\n    (WebIO.importBlock({\\\"data\\\":[{\\\"name\\\":null,\\\"type\\\":\\\"js\\\",\\\"url\\\":\\\"\\/assetserver\\/dd22ed1bf1896c2748f3fe616ce0b838adc895c1-katex.min.js\\\"},{\\\"name\\\":null,\\\"type\\\":\\\"css\\\",\\\"url\\\":\\\"\\/assetserver\\/46517a424aa5e6cffc1360d7e0848b601c584ee3-katex.min.css\\\"}],\\\"type\\\":\\\"async_block\\\"})).then((imports) => handler.apply(this, imports));\\n}\\n\"],\"observables\":{\"value\":{\"sync\":false,\"id\":\"10437080321436842502\",\"value\":\"\\\\;\\\\;\"}}},\"children\":[{\"props\":{\"id\":\"container\"},\"nodeType\":\"DOM\",\"type\":\"node\",\"instanceArgs\":{\"namespace\":\"html\",\"tag\":\"div\"},\"children\":[]}]}]},{\"props\":{\"className\":\"field interact-widget\"},\"nodeType\":\"DOM\",\"type\":\"node\",\"instanceArgs\":{\"namespace\":\"html\",\"tag\":\"div\"},\"children\":[{\"props\":{},\"nodeType\":\"Scope\",\"type\":\"node\",\"instanceArgs\":{\"imports\":{\"data\":[{\"name\":\"knockout\",\"type\":\"js\",\"url\":\"\\/assetserver\\/727383f2a47bd31570b7da84eee7b022dd6d7c78-knockout.js\"},{\"name\":\"knockout_punches\",\"type\":\"js\",\"url\":\"\\/assetserver\\/382b41b3b1bd9f26f75861d360bad7f8beea211f-knockout_punches.js\"},{\"name\":null,\"type\":\"js\",\"url\":\"\\/assetserver\\/5ab20f1060420992a9b82a65b735dee4d81ef413-all.js\"},{\"name\":null,\"type\":\"css\",\"url\":\"\\/assetserver\\/1cc0ed62837210b80a182cc3676512f895dab686-style.css\"},{\"name\":null,\"type\":\"css\",\"url\":\"\\/assetserver\\/2eee816f616df3549d7044d45e744fbf8d42bfa1-bulma_confined.min.css\"}],\"type\":\"async_block\"},\"id\":\"4263108089163422819\",\"handlers\":{\"loading\":[\"(function (val){return (val!=this.model[\\\"loading\\\"]()) ? (this.valueFromJulia[\\\"loading\\\"]=true, this.model[\\\"loading\\\"](val)) : undefined})\"],\"clicks\":[\"(function (val){return (val!=this.model[\\\"clicks\\\"]()) ? (this.valueFromJulia[\\\"clicks\\\"]=true, this.model[\\\"clicks\\\"](val)) : undefined})\"]},\"systemjs_options\":null,\"mount_callbacks\":[\"function () {\\n    var handler = (function (ko, koPunches) {\\n    ko.punches.enableAll();\\n    ko.bindingHandlers.numericValue = {\\n        init: function(element, valueAccessor, allBindings, data, context) {\\n            var stringified = ko.observable(ko.unwrap(valueAccessor()));\\n            stringified.subscribe(function(value) {\\n                var val = parseFloat(value);\\n                if (!isNaN(val)) {\\n                    valueAccessor()(val);\\n                }\\n            });\\n            valueAccessor().subscribe(function(value) {\\n                var str = JSON.stringify(value);\\n                if ((str == \\\"0\\\") && ([\\\"-0\\\", \\\"-0.\\\"].indexOf(stringified()) >= 0))\\n                     return;\\n                 if ([\\\"null\\\", \\\"\\\"].indexOf(str) >= 0)\\n                     return;\\n                stringified(str);\\n            });\\n            ko.applyBindingsToNode(\\n                element,\\n                {\\n                    value: stringified,\\n                    valueUpdate: allBindings.get('valueUpdate'),\\n                },\\n                context,\\n            );\\n        }\\n    };\\n    var json_data = {\\\"loading\\\":WebIO.getval({\\\"name\\\":\\\"loading\\\",\\\"scope\\\":\\\"4263108089163422819\\\",\\\"id\\\":\\\"17651770771225279444\\\",\\\"type\\\":\\\"observable\\\"}),\\\"clicks\\\":WebIO.getval({\\\"name\\\":\\\"clicks\\\",\\\"scope\\\":\\\"4263108089163422819\\\",\\\"id\\\":\\\"9001533361102788110\\\",\\\"type\\\":\\\"observable\\\"})};\\n    var self = this;\\n    function AppViewModel() {\\n        for (var key in json_data) {\\n            var el = json_data[key];\\n            this[key] = Array.isArray(el) ? ko.observableArray(el) : ko.observable(el);\\n        }\\n        \\n        \\n        [this[\\\"loading\\\"].subscribe((function (val){!(this.valueFromJulia[\\\"loading\\\"]) ? (WebIO.setval({\\\"name\\\":\\\"loading\\\",\\\"scope\\\":\\\"4263108089163422819\\\",\\\"id\\\":\\\"17651770771225279444\\\",\\\"type\\\":\\\"observable\\\"},val)) : undefined; return this.valueFromJulia[\\\"loading\\\"]=false}),self),this[\\\"clicks\\\"].subscribe((function (val){!(this.valueFromJulia[\\\"clicks\\\"]) ? (WebIO.setval({\\\"name\\\":\\\"clicks\\\",\\\"scope\\\":\\\"4263108089163422819\\\",\\\"id\\\":\\\"9001533361102788110\\\",\\\"type\\\":\\\"observable\\\"},val)) : undefined; return this.valueFromJulia[\\\"clicks\\\"]=false}),self)]\\n        \\n    }\\n    self.model = new AppViewModel();\\n    self.valueFromJulia = {};\\n    for (var key in json_data) {\\n        self.valueFromJulia[key] = false;\\n    }\\n    ko.applyBindings(self.model, self.dom);\\n}\\n);\\n    (WebIO.importBlock({\\\"data\\\":[{\\\"name\\\":\\\"knockout\\\",\\\"type\\\":\\\"js\\\",\\\"url\\\":\\\"\\/assetserver\\/727383f2a47bd31570b7da84eee7b022dd6d7c78-knockout.js\\\"},{\\\"name\\\":\\\"knockout_punches\\\",\\\"type\\\":\\\"js\\\",\\\"url\\\":\\\"\\/assetserver\\/382b41b3b1bd9f26f75861d360bad7f8beea211f-knockout_punches.js\\\"}],\\\"type\\\":\\\"async_block\\\"})).then((imports) => handler.apply(this, imports));\\n}\\n\"],\"observables\":{\"loading\":{\"sync\":false,\"id\":\"17651770771225279444\",\"value\":false},\"clicks\":{\"sync\":true,\"id\":\"9001533361102788110\",\"value\":0}}},\"children\":[{\"props\":{\"attributes\":{\"data-bind\":\"click: function (){this.clicks(this.clicks()+1)}, css: {'is-loading' : loading}\"},\"className\":\"is-medium button is-primary\",\"style\":{}},\"nodeType\":\"DOM\",\"type\":\"node\",\"instanceArgs\":{\"namespace\":\"html\",\"tag\":\"button\"},\"children\":[\"save\"]}]}]}]}]},{\"props\":{\"className\":\"interact-widget\"},\"nodeType\":\"DOM\",\"type\":\"node\",\"instanceArgs\":{\"namespace\":\"html\",\"tag\":\"div\"},\"children\":[{\"props\":{},\"nodeType\":\"Scope\",\"type\":\"node\",\"instanceArgs\":{\"imports\":{\"data\":[{\"name\":null,\"type\":\"js\",\"url\":\"\\/assetserver\\/dd22ed1bf1896c2748f3fe616ce0b838adc895c1-katex.min.js\"},{\"name\":null,\"type\":\"css\",\"url\":\"\\/assetserver\\/46517a424aa5e6cffc1360d7e0848b601c584ee3-katex.min.css\"}],\"type\":\"async_block\"},\"id\":\"18066878004022274791\",\"handlers\":{\"value\":[\"(function (txt){return this.k.render(txt,this.container)})\"]},\"systemjs_options\":null,\"mount_callbacks\":[\"function () {\\n    var handler = ((function (k){this.k=k; this.container=this.dom.querySelector(\\\"#container\\\"); return k.render(\\\"\\\\\\\\;\\\\\\\\;\\\",this.container)}));\\n    (WebIO.importBlock({\\\"data\\\":[{\\\"name\\\":null,\\\"type\\\":\\\"js\\\",\\\"url\\\":\\\"\\/assetserver\\/dd22ed1bf1896c2748f3fe616ce0b838adc895c1-katex.min.js\\\"},{\\\"name\\\":null,\\\"type\\\":\\\"css\\\",\\\"url\\\":\\\"\\/assetserver\\/46517a424aa5e6cffc1360d7e0848b601c584ee3-katex.min.css\\\"}],\\\"type\\\":\\\"async_block\\\"})).then((imports) => handler.apply(this, imports));\\n}\\n\"],\"observables\":{\"value\":{\"sync\":false,\"id\":\"10437080321436842502\",\"value\":\"\\\\;\\\\;\"}}},\"children\":[{\"props\":{\"id\":\"container\"},\"nodeType\":\"DOM\",\"type\":\"node\",\"instanceArgs\":{\"namespace\":\"html\",\"tag\":\"div\"},\"children\":[]}]}]},{\"props\":{},\"nodeType\":\"Scope\",\"type\":\"node\",\"instanceArgs\":{\"imports\":{\"data\":[],\"type\":\"async_block\"},\"id\":\"15617249394370253321\",\"handlers\":{\"obs-output\":[\"function (value, scope) {\\n    scope.setInnerHTML(value);\\n}\\n\"]},\"systemjs_options\":null,\"mount_callbacks\":[],\"observables\":{\"obs-output\":{\"sync\":false,\"id\":\"7038073605382188441\",\"value\":\"<img src='data:image\\/png;base64,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'><\\/img>\"}}},\"children\":[{\"props\":{\"className\":\"webio-observable\",\"setInnerHtml\":\"<img src='data:image\\/png;base64,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'><\\/img>\"},\"nodeType\":\"DOM\",\"type\":\"node\",\"instanceArgs\":{\"namespace\":\"html\",\"tag\":\"div\"},\"children\":[]}]},{\"props\":{\"className\":\"interact-widget\"},\"nodeType\":\"DOM\",\"type\":\"node\",\"instanceArgs\":{\"namespace\":\"html\",\"tag\":\"div\"},\"children\":[{\"props\":{},\"nodeType\":\"Scope\",\"type\":\"node\",\"instanceArgs\":{\"imports\":{\"data\":[{\"name\":null,\"type\":\"js\",\"url\":\"\\/assetserver\\/dd22ed1bf1896c2748f3fe616ce0b838adc895c1-katex.min.js\"},{\"name\":null,\"type\":\"css\",\"url\":\"\\/assetserver\\/46517a424aa5e6cffc1360d7e0848b601c584ee3-katex.min.css\"}],\"type\":\"async_block\"},\"id\":\"18066878004022274791\",\"handlers\":{\"value\":[\"(function (txt){return this.k.render(txt,this.container)})\"]},\"systemjs_options\":null,\"mount_callbacks\":[\"function () {\\n    var handler = ((function (k){this.k=k; this.container=this.dom.querySelector(\\\"#container\\\"); return k.render(\\\"\\\\\\\\;\\\\\\\\;\\\",this.container)}));\\n    (WebIO.importBlock({\\\"data\\\":[{\\\"name\\\":null,\\\"type\\\":\\\"js\\\",\\\"url\\\":\\\"\\/assetserver\\/dd22ed1bf1896c2748f3fe616ce0b838adc895c1-katex.min.js\\\"},{\\\"name\\\":null,\\\"type\\\":\\\"css\\\",\\\"url\\\":\\\"\\/assetserver\\/46517a424aa5e6cffc1360d7e0848b601c584ee3-katex.min.css\\\"}],\\\"type\\\":\\\"async_block\\\"})).then((imports) => handler.apply(this, imports));\\n}\\n\"],\"observables\":{\"value\":{\"sync\":false,\"id\":\"10437080321436842502\",\"value\":\"\\\\;\\\\;\"}}},\"children\":[{\"props\":{\"id\":\"container\"},\"nodeType\":\"DOM\",\"type\":\"node\",\"instanceArgs\":{\"namespace\":\"html\",\"tag\":\"div\"},\"children\":[]}]}]},{\"props\":{\"style\":{\"display\":\"flex\",\"flex-direction\":\"column\"}},\"nodeType\":\"DOM\",\"type\":\"node\",\"instanceArgs\":{\"namespace\":\"html\",\"tag\":\"div\"},\"children\":[{\"props\":{},\"nodeType\":\"Scope\",\"type\":\"node\",\"instanceArgs\":{\"imports\":{\"data\":[],\"type\":\"async_block\"},\"id\":\"9163766864776171844\",\"handlers\":{\"obs-output\":[\"function (value, scope) {\\n    scope.setInnerHTML(value);\\n}\\n\"]},\"systemjs_options\":null,\"mount_callbacks\":[],\"observables\":{\"obs-output\":{\"sync\":false,\"id\":\"5500732625769053255\",\"value\":\"<img src=\\\"data:image\\/png;base64,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\\\" \\/>\"}}},\"children\":[{\"props\":{\"className\":\"webio-observable\",\"setInnerHtml\":\"<img src=\\\"data:image\\/png;base64,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\\\" \\/>\"},\"nodeType\":\"DOM\",\"type\":\"node\",\"instanceArgs\":{\"namespace\":\"html\",\"tag\":\"div\"},\"children\":[]}]}]}]}]},\n",
       "        window,\n",
       "    );\n",
       "    })()\n",
       "    </script>\n",
       "</div>\n"
      ],
      "text/plain": [
       "WebIO.Node{WebIO.DOM}(WebIO.DOM(:html, :div), Any[WebIO.Node{WebIO.DOM}(WebIO.DOM(:html, :div), Any[WebIO.Node{WebIO.DOM}(WebIO.DOM(:html, :div), Any[WebIO.Node{WebIO.DOM}(WebIO.DOM(:html, :div), Any[WebIO.Scope(WebIO.Node{WebIO.DOM}(WebIO.DOM(:html, :div), Any[WebIO.Node{WebIO.DOM}(WebIO.DOM(:html, :div), Any[WebIO.Node{WebIO.DOM}(WebIO.DOM(:html, :label), Any[\"time\"], Dict{Symbol, Any}(:className => \"interact \", :style => Dict{Any, Any}(:padding => \"5px 10px 0px 10px\")))], Dict{Symbol, Any}(:className => \"interact-flex-row-left\")), WebIO.Node{WebIO.DOM}(WebIO.DOM(:html, :div), Any[WebIO.Node{WebIO.DOM}(WebIO.DOM(:html, :input), Any[], Dict{Symbol, Any}(:max => 200, :min => 1, :attributes => Dict{Any, Any}(:type => \"range\", Symbol(\"data-bind\") => \"numericValue: index, valueUpdate: 'input', event: {change: function (){this.changes(this.changes()+1)}}\", \"orient\" => \"horizontal\"), :step => 1, :className => \"slider slider is-fullwidth\", :style => Dict{Any, Any}()))], Dict{Symbol, Any}(:className => \"interact-flex-row-center\")), WebIO.Node{WebIO.DOM}(WebIO.DOM(:html, :div), Any[WebIO.Node{WebIO.DOM}(WebIO.DOM(:html, :p), Any[], Dict{Symbol, Any}(:attributes => Dict(\"data-bind\" => \"text: formatted_val\")))], Dict{Symbol, Any}(:className => \"interact-flex-row-right\"))], Dict{Symbol, Any}(:className => \"interact-flex-row interact-widget\")), Dict{String, Tuple{Observables.AbstractObservable, Union{Nothing, Bool}}}(\"changes\" => (Observable(0), nothing), \"index\" => (Observable(1), nothing)), Set{String}(), nothing, WebIO.Asset[WebIO.Asset(\"js\", \"knockout\", \"/home/dushya/.julia/packages/Knockout/HReiN/src/../assets/knockout.js\"), WebIO.Asset(\"js\", \"knockout_punches\", \"/home/dushya/.julia/packages/Knockout/HReiN/src/../assets/knockout_punches.js\"), WebIO.Asset(\"js\", nothing, \"/home/dushya/.julia/packages/InteractBase/LJXv3/src/../assets/all.js\"), WebIO.Asset(\"css\", nothing, \"/home/dushya/.julia/packages/InteractBase/LJXv3/src/../assets/style.css\"), WebIO.Asset(\"css\", nothing, \"/home/dushya/.julia/packages/Interact/PENUy/src/../assets/bulma_confined.min.css\")], Dict{Any, Any}(\"changes\" => Any[WebIO.JSString(\"(function (val){return (val!=this.model[\\\"changes\\\"]()) ? (this.valueFromJulia[\\\"changes\\\"]=true, this.model[\\\"changes\\\"](val)) : undefined})\")], \"index\" => Any[WebIO.JSString(\"(function (val){return (val!=this.model[\\\"index\\\"]()) ? (this.valueFromJulia[\\\"index\\\"]=true, this.model[\\\"index\\\"](val)) : undefined})\")]), WebIO.ConnectionPool(Channel{Any}(32), Set{WebIO.AbstractConnection}(), Base.GenericCondition{ReentrantLock}(Base.IntrusiveLinkedList{Task}(Task (runnable) @0x00007f8d7c0f6400, Task (runnable) @0x00007f8d7c0f6400), ReentrantLock(nothing, 0x00000000, 0x00, Base.GenericCondition{Base.Threads.SpinLock}(Base.IntrusiveLinkedList{Task}(nothing, nothing), Base.Threads.SpinLock(0)), (0, 0, 141733920768)))), WebIO.JSString[WebIO.JSString(\"function () {\\n    var handler = (function (ko, koPunches) {\\n    ko.punches.enableAll();\\n    ko.bindingHandlers.numericValue = {\\n        init: function(element, valueAccessor, allBindings, data, context) {\\n            var stringified = ko.observable(ko.unwrap(valueAccessor()));\\n            stringified.subscribe(function(value) {\\n                var val = parseFloat(value);\\n                if (!isNaN(val)) {\\n                    valueAccessor()(val);\\n                }\\n            });\\n            valueAccessor().subscribe(function(value) {\\n                var str = JSON.stringify(value);\\n                if ((str == \\\"0\\\") && ([\\\"-0\\\", \\\"-0.\\\"].indexOf(stringified()) >= 0))\\n                     return;\\n                 if ([\\\"null\\\", \\\"\\\"].indexOf(str) >= 0)\\n                     return;\\n                stringified(str);\\n            });\\n            ko.applyBindingsToNode(\\n                element,\\n                {\\n                    value: stringified,\\n                    valueUpdate: allBindings.get('valueUpdate'),\\n                },\\n                context,\\n            );\\n        }\\n    };\\n    var json_data = {\\\"formatted_vals\\\":[\\\"1\\\",\\\"2\\\",\\\"3\\\",\\\"4\\\",\\\"5\\\",\\\"6\\\",\\\"7\\\",\\\"8\\\",\\\"9\\\",\\\"10\\\",\\\"11\\\",\\\"12\\\",\\\"13\\\",\\\"14\\\",\\\"15\\\",\\\"16\\\",\\\"17\\\",\\\"18\\\",\\\"19\\\",\\\"20\\\",\\\"21\\\",\\\"22\\\",\\\"23\\\",\\\"24\\\",\\\"25\\\",\\\"26\\\",\\\"27\\\",\\\"28\\\",\\\"29\\\",\\\"30\\\",\\\"31\\\",\\\"32\\\",\\\"33\\\",\\\"34\\\",\\\"35\\\",\\\"36\\\",\\\"37\\\",\\\"38\\\",\\\"39\\\",\\\"40\\\",\\\"41\\\",\\\"42\\\",\\\"43\\\",\\\"44\\\",\\\"45\\\",\\\"46\\\",\\\"47\\\",\\\"48\\\",\\\"49\\\",\\\"50\\\",\\\"51\\\",\\\"52\\\",\\\"53\\\",\\\"54\\\",\\\"55\\\",\\\"56\\\",\\\"57\\\",\\\"58\\\",\\\"59\\\",\\\"60\\\",\\\"61\\\",\\\"62\\\",\\\"63\\\",\\\"64\\\",\\\"65\\\",\\\"66\\\",\\\"67\\\",\\\"68\\\",\\\"69\\\",\\\"70\\\",\\\"71\\\",\\\"72\\\",\\\"73\\\",\\\"74\\\",\\\"75\\\",\\\"76\\\",\\\"77\\\",\\\"78\\\",\\\"79\\\",\\\"80\\\",\\\"81\\\",\\\"82\\\",\\\"83\\\",\\\"84\\\",\\\"85\\\",\\\"86\\\",\\\"87\\\",\\\"88\\\",\\\"89\\\",\\\"90\\\",\\\"91\\\",\\\"92\\\",\\\"93\\\",\\\"94\\\",\\\"95\\\",\\\"96\\\",\\\"97\\\",\\\"98\\\",\\\"99\\\",\\\"100\\\",\\\"101\\\",\\\"102\\\",\\\"103\\\",\\\"104\\\",\\\"105\\\",\\\"106\\\",\\\"107\\\",\\\"108\\\",\\\"109\\\",\\\"110\\\",\\\"111\\\",\\\"112\\\",\\\"113\\\",\\\"114\\\",\\\"115\\\",\\\"116\\\",\\\"117\\\",\\\"118\\\",\\\"119\\\",\\\"120\\\",\\\"121\\\",\\\"122\\\",\\\"123\\\",\\\"124\\\",\\\"125\\\",\\\"126\\\",\\\"127\\\",\\\"128\\\",\\\"129\\\",\\\"130\\\",\\\"131\\\",\\\"132\\\",\\\"133\\\",\\\"134\\\",\\\"135\\\",\\\"136\\\",\\\"137\\\",\\\"138\\\",\\\"139\\\",\\\"140\\\",\\\"141\\\",\\\"142\\\",\\\"143\\\",\\\"144\\\",\\\"145\\\",\\\"146\\\",\\\"147\\\",\\\"148\\\",\\\"149\\\",\\\"150\\\",\\\"151\\\",\\\"152\\\",\\\"153\\\",\\\"154\\\",\\\"155\\\",\\\"156\\\",\\\"157\\\",\\\"158\\\",\\\"159\\\",\\\"160\\\",\\\"161\\\",\\\"162\\\",\\\"163\\\",\\\"164\\\",\\\"165\\\",\\\"166\\\",\\\"167\\\",\\\"168\\\",\\\"169\\\",\\\"170\\\",\\\"171\\\",\\\"172\\\",\\\"173\\\",\\\"174\\\",\\\"175\\\",\\\"176\\\",\\\"177\\\",\\\"178\\\",\\\"179\\\",\\\"180\\\",\\\"181\\\",\\\"182\\\",\\\"183\\\",\\\"184\\\",\\\"185\\\",\\\"186\\\",\\\"187\\\",\\\"188\\\",\\\"189\\\",\\\"190\\\",\\\"191\\\",\\\"192\\\",\\\"193\\\",\\\"194\\\",\\\"195\\\",\\\"196\\\",\\\"197\\\",\\\"198\\\",\\\"199\\\",\\\"200\\\"],\\\"changes\\\":WebIO.getval({\\\"name\\\":\\\"changes\\\",\\\"scope\\\":\\\"9774873114840640455\\\",\\\"id\\\":\\\"8398218134369734953\\\",\\\"type\\\":\\\"observable\\\"}),\\\"index\\\":WebIO.getval({\\\"name\\\":\\\"index\\\",\\\"scope\\\":\\\"9774873114840640455\\\",\\\"id\\\":\\\"5465956052781963742\\\",\\\"type\\\":\\\"observable\\\"})};\\n    var self = this;\\n    function AppViewModel() {\\n        for (var key in json_data) {\\n            var el = json_data[key];\\n            this[key] = Array.isArray(el) ? ko.observableArray(el) : ko.observable(el);\\n        }\\n        \\n        [this[\\\"formatted_val\\\"]=ko.computed(    function(){\\n        return this.formatted_vals()[parseInt(this.index())-(1)];\\n    }\\n,this)]\\n        [this[\\\"changes\\\"].subscribe((function (val){!(this.valueFromJulia[\\\"changes\\\"]) ? (WebIO.setval({\\\"name\\\":\\\"changes\\\",\\\"scope\\\":\\\"9774873114840640455\\\",\\\"id\\\":\\\"8398218134369734953\\\",\\\"type\\\":\\\"observable\\\"},val)) : undefined; return this.valueFromJulia[\\\"changes\\\"]=false}),self),this[\\\"index\\\"].subscribe((function (val){!(this.valueFromJulia[\\\"index\\\"]) ? (WebIO.setval({\\\"name\\\":\\\"index\\\",\\\"scope\\\":\\\"9774873114840640455\\\",\\\"id\\\":\\\"5465956052781963742\\\",\\\"type\\\":\\\"observable\\\"},val)) : undefined; return this.valueFromJulia[\\\"index\\\"]=false}),self)]\\n        \\n    }\\n    self.model = new AppViewModel();\\n    self.valueFromJulia = {};\\n    for (var key in json_data) {\\n        self.valueFromJulia[key] = false;\\n    }\\n    ko.applyBindings(self.model, self.dom);\\n}\\n);\\n    (WebIO.importBlock({\\\"data\\\":[{\\\"name\\\":\\\"knockout\\\",\\\"type\\\":\\\"js\\\",\\\"url\\\":\\\"/assetserver/727383f2a47bd31570b7da84eee7b022dd6d7c78-knockout.js\\\"},{\\\"name\\\":\\\"knockout_punches\\\",\\\"type\\\":\\\"js\\\",\\\"url\\\":\\\"/assetserver/382b41b3b1bd9f26f75861d360bad7f8beea211f-knockout_punches.js\\\"}],\\\"type\\\":\\\"async_block\\\"})).then((imports) => handler.apply(this, imports));\\n}\\n\")])], Dict{Symbol, Any}(:className => \"field interact-widget\")), WebIO.Node{WebIO.DOM}(WebIO.DOM(:html, :div), Any[WebIO.Scope(WebIO.Node{WebIO.DOM}(WebIO.DOM(:html, :div), Any[WebIO.Node{WebIO.DOM}(WebIO.DOM(:html, :div), Any[WebIO.Node{WebIO.DOM}(WebIO.DOM(:html, :label), Any[\"scale\"], Dict{Symbol, Any}(:className => \"interact \", :style => Dict{Any, Any}(:padding => \"5px 10px 0px 10px\")))], Dict{Symbol, Any}(:className => \"interact-flex-row-left\")), WebIO.Node{WebIO.DOM}(WebIO.DOM(:html, :div), Any[WebIO.Node{WebIO.DOM}(WebIO.DOM(:html, :input), Any[], Dict{Symbol, Any}(:max => 20, :min => 1, :attributes => Dict{Any, Any}(:type => \"range\", Symbol(\"data-bind\") => \"numericValue: index, valueUpdate: 'input', event: {change: function (){this.changes(this.changes()+1)}}\", \"orient\" => \"horizontal\"), :step => 1, :className => \"slider slider is-fullwidth\", :style => Dict{Any, Any}()))], Dict{Symbol, Any}(:className => \"interact-flex-row-center\")), WebIO.Node{WebIO.DOM}(WebIO.DOM(:html, :div), Any[WebIO.Node{WebIO.DOM}(WebIO.DOM(:html, :p), Any[], Dict{Symbol, Any}(:attributes => Dict(\"data-bind\" => \"text: formatted_val\")))], Dict{Symbol, Any}(:className => \"interact-flex-row-right\"))], Dict{Symbol, Any}(:className => \"interact-flex-row interact-widget\")), Dict{String, Tuple{Observables.AbstractObservable, Union{Nothing, Bool}}}(\"changes\" => (Observable(0), nothing), \"index\" => (Observable{Any}(10), nothing)), Set{String}(), nothing, WebIO.Asset[WebIO.Asset(\"js\", \"knockout\", \"/home/dushya/.julia/packages/Knockout/HReiN/src/../assets/knockout.js\"), WebIO.Asset(\"js\", \"knockout_punches\", \"/home/dushya/.julia/packages/Knockout/HReiN/src/../assets/knockout_punches.js\"), WebIO.Asset(\"js\", nothing, \"/home/dushya/.julia/packages/InteractBase/LJXv3/src/../assets/all.js\"), WebIO.Asset(\"css\", nothing, \"/home/dushya/.julia/packages/InteractBase/LJXv3/src/../assets/style.css\"), WebIO.Asset(\"css\", nothing, \"/home/dushya/.julia/packages/Interact/PENUy/src/../assets/bulma_confined.min.css\")], Dict{Any, Any}(\"changes\" => Any[WebIO.JSString(\"(function (val){return (val!=this.model[\\\"changes\\\"]()) ? (this.valueFromJulia[\\\"changes\\\"]=true, this.model[\\\"changes\\\"](val)) : undefined})\")], \"index\" => Any[WebIO.JSString(\"(function (val){return (val!=this.model[\\\"index\\\"]()) ? (this.valueFromJulia[\\\"index\\\"]=true, this.model[\\\"index\\\"](val)) : undefined})\")]), WebIO.ConnectionPool(Channel{Any}(32), Set{WebIO.AbstractConnection}(), Base.GenericCondition{ReentrantLock}(Base.IntrusiveLinkedList{Task}(Task (runnable) @0x00007f8d7c115460, Task (runnable) @0x00007f8d7c115460), ReentrantLock(nothing, 0x00000000, 0x00, Base.GenericCondition{Base.Threads.SpinLock}(Base.IntrusiveLinkedList{Task}(nothing, nothing), Base.Threads.SpinLock(0)), (0, 0, 139779710648320)))), WebIO.JSString[WebIO.JSString(\"function () {\\n    var handler = (function (ko, koPunches) {\\n    ko.punches.enableAll();\\n    ko.bindingHandlers.numericValue = {\\n        init: function(element, valueAccessor, allBindings, data, context) {\\n            var stringified = ko.observable(ko.unwrap(valueAccessor()));\\n            stringified.subscribe(function(value) {\\n                var val = parseFloat(value);\\n                if (!isNaN(val)) {\\n                    valueAccessor()(val);\\n                }\\n            });\\n            valueAccessor().subscribe(function(value) {\\n                var str = JSON.stringify(value);\\n                if ((str == \\\"0\\\") && ([\\\"-0\\\", \\\"-0.\\\"].indexOf(stringified()) >= 0))\\n                     return;\\n                 if ([\\\"null\\\", \\\"\\\"].indexOf(str) >= 0)\\n                     return;\\n                stringified(str);\\n            });\\n            ko.applyBindingsToNode(\\n                element,\\n                {\\n                    value: stringified,\\n                    valueUpdate: allBindings.get('valueUpdate'),\\n                },\\n                context,\\n            );\\n        }\\n    };\\n    var json_data = {\\\"formatted_vals\\\":[\\\"0.1\\\",\\\"0.2\\\",\\\"0.3\\\",\\\"0.4\\\",\\\"0.5\\\",\\\"0.6\\\",\\\"0.7\\\",\\\"0.8\\\",\\\"0.9\\\",\\\"1.0\\\",\\\"1.1\\\",\\\"1.2\\\",\\\"1.3\\\",\\\"1.4\\\",\\\"1.5\\\",\\\"1.6\\\",\\\"1.7\\\",\\\"1.8\\\",\\\"1.9\\\",\\\"2.0\\\"],\\\"changes\\\":WebIO.getval({\\\"name\\\":\\\"changes\\\",\\\"scope\\\":\\\"3514123278380884976\\\",\\\"id\\\":\\\"14428694798094822166\\\",\\\"type\\\":\\\"observable\\\"}),\\\"index\\\":WebIO.getval({\\\"name\\\":\\\"index\\\",\\\"scope\\\":\\\"3514123278380884976\\\",\\\"id\\\":\\\"8665217690589196274\\\",\\\"type\\\":\\\"observable\\\"})};\\n    var self = this;\\n    function AppViewModel() {\\n        for (var key in json_data) {\\n            var el = json_data[key];\\n            this[key] = Array.isArray(el) ? ko.observableArray(el) : ko.observable(el);\\n        }\\n        \\n        [this[\\\"formatted_val\\\"]=ko.computed(    function(){\\n        return this.formatted_vals()[parseInt(this.index())-(1)];\\n    }\\n,this)]\\n        [this[\\\"changes\\\"].subscribe((function (val){!(this.valueFromJulia[\\\"changes\\\"]) ? (WebIO.setval({\\\"name\\\":\\\"changes\\\",\\\"scope\\\":\\\"3514123278380884976\\\",\\\"id\\\":\\\"14428694798094822166\\\",\\\"type\\\":\\\"observable\\\"},val)) : undefined; return this.valueFromJulia[\\\"changes\\\"]=false}),self),this[\\\"index\\\"].subscribe((function (val){!(this.valueFromJulia[\\\"index\\\"]) ? (WebIO.setval({\\\"name\\\":\\\"index\\\",\\\"scope\\\":\\\"3514123278380884976\\\",\\\"id\\\":\\\"8665217690589196274\\\",\\\"type\\\":\\\"observable\\\"},val)) : undefined; return this.valueFromJulia[\\\"index\\\"]=false}),self)]\\n        \\n    }\\n    self.model = new AppViewModel();\\n    self.valueFromJulia = {};\\n    for (var key in json_data) {\\n        self.valueFromJulia[key] = false;\\n    }\\n    ko.applyBindings(self.model, self.dom);\\n}\\n);\\n    (WebIO.importBlock({\\\"data\\\":[{\\\"name\\\":\\\"knockout\\\",\\\"type\\\":\\\"js\\\",\\\"url\\\":\\\"/assetserver/727383f2a47bd31570b7da84eee7b022dd6d7c78-knockout.js\\\"},{\\\"name\\\":\\\"knockout_punches\\\",\\\"type\\\":\\\"js\\\",\\\"url\\\":\\\"/assetserver/382b41b3b1bd9f26f75861d360bad7f8beea211f-knockout_punches.js\\\"}],\\\"type\\\":\\\"async_block\\\"})).then((imports) => handler.apply(this, imports));\\n}\\n\")])], Dict{Symbol, Any}(:className => \"field interact-widget\")), WebIO.Node{WebIO.DOM}(WebIO.DOM(:html, :div), Any[], Dict{Symbol, Any}(:style => Dict(\"display\" => \"flex\", \"flex-direction\" => \"column\"))), WebIO.Node{WebIO.DOM}(WebIO.DOM(:html, :div), Any[WebIO.Node{WebIO.DOM}(WebIO.DOM(:html, :div), Any[WebIO.Scope(WebIO.Node{WebIO.DOM}(WebIO.DOM(:html, :div), Any[WebIO.Node{WebIO.DOM}(WebIO.DOM(:html, :div), Any[WebIO.Node{WebIO.DOM}(WebIO.DOM(:html, :label), Any[\"wolf_birth_rate\"], Dict{Symbol, Any}(:className => \"interact \", :style => Dict{Any, Any}(:padding => \"5px 10px 0px 10px\")))], Dict{Symbol, Any}(:className => \"interact-flex-row-left\")), WebIO.Node{WebIO.DOM}(WebIO.DOM(:html, :div), Any[WebIO.Node{WebIO.DOM}(WebIO.DOM(:html, :input), Any[], Dict{Symbol, Any}(:max => 101, :min => 1, :attributes => Dict{Any, Any}(:type => \"range\", Symbol(\"data-bind\") => \"numericValue: index, valueUpdate: 'input', event: {change: function (){this.changes(this.changes()+1)}}\", \"orient\" => \"horizontal\"), :step => 1, :className => \"slider slider is-fullwidth\", :style => Dict{Any, Any}()))], Dict{Symbol, Any}(:className => \"interact-flex-row-center\")), WebIO.Node{WebIO.DOM}(WebIO.DOM(:html, :div), Any[WebIO.Node{WebIO.DOM}(WebIO.DOM(:html, :p), Any[], Dict{Symbol, Any}(:attributes => Dict(\"data-bind\" => \"text: formatted_val\")))], Dict{Symbol, Any}(:className => \"interact-flex-row-right\"))], Dict{Symbol, Any}(:className => \"interact-flex-row interact-widget\")), Dict{String, Tuple{Observables.AbstractObservable, Union{Nothing, Bool}}}(\"changes\" => (Observable(0), nothing), \"index\" => (Observable{Any}(51), nothing)), Set{String}(), nothing, WebIO.Asset[WebIO.Asset(\"js\", \"knockout\", \"/home/dushya/.julia/packages/Knockout/HReiN/src/../assets/knockout.js\"), WebIO.Asset(\"js\", \"knockout_punches\", \"/home/dushya/.julia/packages/Knockout/HReiN/src/../assets/knockout_punches.js\"), WebIO.Asset(\"js\", nothing, \"/home/dushya/.julia/packages/InteractBase/LJXv3/src/../assets/all.js\"), WebIO.Asset(\"css\", nothing, \"/home/dushya/.julia/packages/InteractBase/LJXv3/src/../assets/style.css\"), WebIO.Asset(\"css\", nothing, \"/home/dushya/.julia/packages/Interact/PENUy/src/../assets/bulma_confined.min.css\")], Dict{Any, Any}(\"changes\" => Any[WebIO.JSString(\"(function (val){return (val!=this.model[\\\"changes\\\"]()) ? (this.valueFromJulia[\\\"changes\\\"]=true, this.model[\\\"changes\\\"](val)) : undefined})\")], \"index\" => Any[WebIO.JSString(\"(function (val){return (val!=this.model[\\\"index\\\"]()) ? (this.valueFromJulia[\\\"index\\\"]=true, this.model[\\\"index\\\"](val)) : undefined})\")]), WebIO.ConnectionPool(Channel{Any}(32), Set{WebIO.AbstractConnection}(), Base.GenericCondition{ReentrantLock}(Base.IntrusiveLinkedList{Task}(Task (runnable) @0x00007f8d7c123210, Task (runnable) @0x00007f8d7c123210), ReentrantLock(nothing, 0x00000000, 0x00, Base.GenericCondition{Base.Threads.SpinLock}(Base.IntrusiveLinkedList{Task}(nothing, nothing), Base.Threads.SpinLock(0)), (8, 0, 4)))), WebIO.JSString[WebIO.JSString(\"function () {\\n    var handler = (function (ko, koPunches) {\\n    ko.punches.enableAll();\\n    ko.bindingHandlers.numericValue = {\\n        init: function(element, valueAccessor, allBindings, data, context) {\\n            var stringified = ko.observable(ko.unwrap(valueAccessor()));\\n            stringified.subscribe(function(value) {\\n                var val = parseFloat(value);\\n                if (!isNaN(val)) {\\n                    valueAccessor()(val);\\n                }\\n            });\\n            valueAccessor().subscribe(function(value) {\\n                var str = JSON.stringify(value);\\n                if ((str == \\\"0\\\") && ([\\\"-0\\\", \\\"-0.\\\"].indexOf(stringified()) >= 0))\\n                     return;\\n                 if ([\\\"null\\\", \\\"\\\"].indexOf(str) >= 0)\\n                     return;\\n                stringified(str);\\n            });\\n            ko.applyBindingsToNode(\\n                element,\\n                {\\n                    value: stringified,\\n                    valueUpdate: allBindings.get('valueUpdate'),\\n                },\\n                context,\\n            );\\n        }\\n    };\\n    var json_data = {\\\"formatted_vals\\\":[\\\"0.0\\\",\\\"0.01\\\",\\\"0.02\\\",\\\"0.03\\\",\\\"0.04\\\",\\\"0.05\\\",\\\"0.06\\\",\\\"0.07\\\",\\\"0.08\\\",\\\"0.09\\\",\\\"0.1\\\",\\\"0.11\\\",\\\"0.12\\\",\\\"0.13\\\",\\\"0.14\\\",\\\"0.15\\\",\\\"0.16\\\",\\\"0.17\\\",\\\"0.18\\\",\\\"0.19\\\",\\\"0.2\\\",\\\"0.21\\\",\\\"0.22\\\",\\\"0.23\\\",\\\"0.24\\\",\\\"0.25\\\",\\\"0.26\\\",\\\"0.27\\\",\\\"0.28\\\",\\\"0.29\\\",\\\"0.3\\\",\\\"0.31\\\",\\\"0.32\\\",\\\"0.33\\\",\\\"0.34\\\",\\\"0.35\\\",\\\"0.36\\\",\\\"0.37\\\",\\\"0.38\\\",\\\"0.39\\\",\\\"0.4\\\",\\\"0.41\\\",\\\"0.42\\\",\\\"0.43\\\",\\\"0.44\\\",\\\"0.45\\\",\\\"0.46\\\",\\\"0.47\\\",\\\"0.48\\\",\\\"0.49\\\",\\\"0.5\\\",\\\"0.51\\\",\\\"0.52\\\",\\\"0.53\\\",\\\"0.54\\\",\\\"0.55\\\",\\\"0.56\\\",\\\"0.57\\\",\\\"0.58\\\",\\\"0.59\\\",\\\"0.6\\\",\\\"0.61\\\",\\\"0.62\\\",\\\"0.63\\\",\\\"0.64\\\",\\\"0.65\\\",\\\"0.66\\\",\\\"0.67\\\",\\\"0.68\\\",\\\"0.69\\\",\\\"0.7\\\",\\\"0.71\\\",\\\"0.72\\\",\\\"0.73\\\",\\\"0.74\\\",\\\"0.75\\\",\\\"0.76\\\",\\\"0.77\\\",\\\"0.78\\\",\\\"0.79\\\",\\\"0.8\\\",\\\"0.81\\\",\\\"0.82\\\",\\\"0.83\\\",\\\"0.84\\\",\\\"0.85\\\",\\\"0.86\\\",\\\"0.87\\\",\\\"0.88\\\",\\\"0.89\\\",\\\"0.9\\\",\\\"0.91\\\",\\\"0.92\\\",\\\"0.93\\\",\\\"0.94\\\",\\\"0.95\\\",\\\"0.96\\\",\\\"0.97\\\",\\\"0.98\\\",\\\"0.99\\\",\\\"1.0\\\"],\\\"changes\\\":WebIO.getval({\\\"name\\\":\\\"changes\\\",\\\"scope\\\":\\\"8800688542114131005\\\",\\\"id\\\":\\\"13970218025559490642\\\",\\\"type\\\":\\\"observable\\\"}),\\\"index\\\":WebIO.getval({\\\"name\\\":\\\"index\\\",\\\"scope\\\":\\\"8800688542114131005\\\",\\\"id\\\":\\\"9468308712684221825\\\",\\\"type\\\":\\\"observable\\\"})};\\n    var self = this;\\n    function AppViewModel() {\\n        for (var key in json_data) {\\n            var el = json_data[key];\\n            this[key] = Array.isArray(el) ? ko.observableArray(el) : ko.observable(el);\\n        }\\n        \\n        [this[\\\"formatted_val\\\"]=ko.computed(    function(){\\n        return this.formatted_vals()[parseInt(this.index())-(1)];\\n    }\\n,this)]\\n        [this[\\\"changes\\\"].subscribe((function (val){!(this.valueFromJulia[\\\"changes\\\"]) ? (WebIO.setval({\\\"name\\\":\\\"changes\\\",\\\"scope\\\":\\\"8800688542114131005\\\",\\\"id\\\":\\\"13970218025559490642\\\",\\\"type\\\":\\\"observable\\\"},val)) : undefined; return this.valueFromJulia[\\\"changes\\\"]=false}),self),this[\\\"index\\\"].subscribe((function (val){!(this.valueFromJulia[\\\"index\\\"]) ? (WebIO.setval({\\\"name\\\":\\\"index\\\",\\\"scope\\\":\\\"8800688542114131005\\\",\\\"id\\\":\\\"9468308712684221825\\\",\\\"type\\\":\\\"observable\\\"},val)) : undefined; return this.valueFromJulia[\\\"index\\\"]=false}),self)]\\n        \\n    }\\n    self.model = new AppViewModel();\\n    self.valueFromJulia = {};\\n    for (var key in json_data) {\\n        self.valueFromJulia[key] = false;\\n    }\\n    ko.applyBindings(self.model, self.dom);\\n}\\n);\\n    (WebIO.importBlock({\\\"data\\\":[{\\\"name\\\":\\\"knockout\\\",\\\"type\\\":\\\"js\\\",\\\"url\\\":\\\"/assetserver/727383f2a47bd31570b7da84eee7b022dd6d7c78-knockout.js\\\"},{\\\"name\\\":\\\"knockout_punches\\\",\\\"type\\\":\\\"js\\\",\\\"url\\\":\\\"/assetserver/382b41b3b1bd9f26f75861d360bad7f8beea211f-knockout_punches.js\\\"}],\\\"type\\\":\\\"async_block\\\"})).then((imports) => handler.apply(this, imports));\\n}\\n\")])], Dict{Symbol, Any}(:className => \"field interact-widget\")), WebIO.Node{WebIO.DOM}(WebIO.DOM(:html, :div), Any[WebIO.Scope(WebIO.Node{WebIO.DOM}(WebIO.DOM(:html, :div), Any[WebIO.Node{WebIO.DOM}(WebIO.DOM(:html, :div), Any[WebIO.Node{WebIO.DOM}(WebIO.DOM(:html, :label), Any[\"sheep_birth_rate\"], Dict{Symbol, Any}(:className => \"interact \", :style => Dict{Any, Any}(:padding => \"5px 10px 0px 10px\")))], Dict{Symbol, Any}(:className => \"interact-flex-row-left\")), WebIO.Node{WebIO.DOM}(WebIO.DOM(:html, :div), Any[WebIO.Node{WebIO.DOM}(WebIO.DOM(:html, :input), Any[], Dict{Symbol, Any}(:max => 100, :min => 1, :attributes => Dict{Any, Any}(:type => \"range\", Symbol(\"data-bind\") => \"numericValue: index, valueUpdate: 'input', event: {change: function (){this.changes(this.changes()+1)}}\", \"orient\" => \"horizontal\"), :step => 1, :className => \"slider slider is-fullwidth\", :style => Dict{Any, Any}()))], Dict{Symbol, Any}(:className => \"interact-flex-row-center\")), WebIO.Node{WebIO.DOM}(WebIO.DOM(:html, :div), Any[WebIO.Node{WebIO.DOM}(WebIO.DOM(:html, :p), Any[], Dict{Symbol, Any}(:attributes => Dict(\"data-bind\" => \"text: formatted_val\")))], Dict{Symbol, Any}(:className => \"interact-flex-row-right\"))], Dict{Symbol, Any}(:className => \"interact-flex-row interact-widget\")), Dict{String, Tuple{Observables.AbstractObservable, Union{Nothing, Bool}}}(\"changes\" => (Observable(0), nothing), \"index\" => (Observable{Any}(50), nothing)), Set{String}(), nothing, WebIO.Asset[WebIO.Asset(\"js\", \"knockout\", \"/home/dushya/.julia/packages/Knockout/HReiN/src/../assets/knockout.js\"), WebIO.Asset(\"js\", \"knockout_punches\", \"/home/dushya/.julia/packages/Knockout/HReiN/src/../assets/knockout_punches.js\"), WebIO.Asset(\"js\", nothing, \"/home/dushya/.julia/packages/InteractBase/LJXv3/src/../assets/all.js\"), WebIO.Asset(\"css\", nothing, \"/home/dushya/.julia/packages/InteractBase/LJXv3/src/../assets/style.css\"), WebIO.Asset(\"css\", nothing, \"/home/dushya/.julia/packages/Interact/PENUy/src/../assets/bulma_confined.min.css\")], Dict{Any, Any}(\"changes\" => Any[WebIO.JSString(\"(function (val){return (val!=this.model[\\\"changes\\\"]()) ? (this.valueFromJulia[\\\"changes\\\"]=true, this.model[\\\"changes\\\"](val)) : undefined})\")], \"index\" => Any[WebIO.JSString(\"(function (val){return (val!=this.model[\\\"index\\\"]()) ? (this.valueFromJulia[\\\"index\\\"]=true, this.model[\\\"index\\\"](val)) : undefined})\")]), WebIO.ConnectionPool(Channel{Any}(32), Set{WebIO.AbstractConnection}(), Base.GenericCondition{ReentrantLock}(Base.IntrusiveLinkedList{Task}(Task (runnable) @0x00007f8d7c145f50, Task (runnable) @0x00007f8d7c145f50), ReentrantLock(nothing, 0x00000000, 0x00, Base.GenericCondition{Base.Threads.SpinLock}(Base.IntrusiveLinkedList{Task}(nothing, nothing), Base.Threads.SpinLock(0)), (8, 140246807213488, 140246807213808)))), WebIO.JSString[WebIO.JSString(\"function () {\\n    var handler = (function (ko, koPunches) {\\n    ko.punches.enableAll();\\n    ko.bindingHandlers.numericValue = {\\n        init: function(element, valueAccessor, allBindings, data, context) {\\n            var stringified = ko.observable(ko.unwrap(valueAccessor()));\\n            stringified.subscribe(function(value) {\\n                var val = parseFloat(value);\\n                if (!isNaN(val)) {\\n                    valueAccessor()(val);\\n                }\\n            });\\n            valueAccessor().subscribe(function(value) {\\n                var str = JSON.stringify(value);\\n                if ((str == \\\"0\\\") && ([\\\"-0\\\", \\\"-0.\\\"].indexOf(stringified()) >= 0))\\n                     return;\\n                 if ([\\\"null\\\", \\\"\\\"].indexOf(str) >= 0)\\n                     return;\\n                stringified(str);\\n            });\\n            ko.applyBindingsToNode(\\n                element,\\n                {\\n                    value: stringified,\\n                    valueUpdate: allBindings.get('valueUpdate'),\\n                },\\n                context,\\n            );\\n        }\\n    };\\n    var json_data = {\\\"formatted_vals\\\":[\\\"0.01\\\",\\\"0.02\\\",\\\"0.03\\\",\\\"0.04\\\",\\\"0.05\\\",\\\"0.06\\\",\\\"0.07\\\",\\\"0.08\\\",\\\"0.09\\\",\\\"0.1\\\",\\\"0.11\\\",\\\"0.12\\\",\\\"0.13\\\",\\\"0.14\\\",\\\"0.15\\\",\\\"0.16\\\",\\\"0.17\\\",\\\"0.18\\\",\\\"0.19\\\",\\\"0.2\\\",\\\"0.21\\\",\\\"0.22\\\",\\\"0.23\\\",\\\"0.24\\\",\\\"0.25\\\",\\\"0.26\\\",\\\"0.27\\\",\\\"0.28\\\",\\\"0.29\\\",\\\"0.3\\\",\\\"0.31\\\",\\\"0.32\\\",\\\"0.33\\\",\\\"0.34\\\",\\\"0.35\\\",\\\"0.36\\\",\\\"0.37\\\",\\\"0.38\\\",\\\"0.39\\\",\\\"0.4\\\",\\\"0.41\\\",\\\"0.42\\\",\\\"0.43\\\",\\\"0.44\\\",\\\"0.45\\\",\\\"0.46\\\",\\\"0.47\\\",\\\"0.48\\\",\\\"0.49\\\",\\\"0.5\\\",\\\"0.51\\\",\\\"0.52\\\",\\\"0.53\\\",\\\"0.54\\\",\\\"0.55\\\",\\\"0.56\\\",\\\"0.57\\\",\\\"0.58\\\",\\\"0.59\\\",\\\"0.6\\\",\\\"0.61\\\",\\\"0.62\\\",\\\"0.63\\\",\\\"0.64\\\",\\\"0.65\\\",\\\"0.66\\\",\\\"0.67\\\",\\\"0.68\\\",\\\"0.69\\\",\\\"0.7\\\",\\\"0.71\\\",\\\"0.72\\\",\\\"0.73\\\",\\\"0.74\\\",\\\"0.75\\\",\\\"0.76\\\",\\\"0.77\\\",\\\"0.78\\\",\\\"0.79\\\",\\\"0.8\\\",\\\"0.81\\\",\\\"0.82\\\",\\\"0.83\\\",\\\"0.84\\\",\\\"0.85\\\",\\\"0.86\\\",\\\"0.87\\\",\\\"0.88\\\",\\\"0.89\\\",\\\"0.9\\\",\\\"0.91\\\",\\\"0.92\\\",\\\"0.93\\\",\\\"0.94\\\",\\\"0.95\\\",\\\"0.96\\\",\\\"0.97\\\",\\\"0.98\\\",\\\"0.99\\\",\\\"1.0\\\"],\\\"changes\\\":WebIO.getval({\\\"name\\\":\\\"changes\\\",\\\"scope\\\":\\\"5048356724033473769\\\",\\\"id\\\":\\\"6329679798241691693\\\",\\\"type\\\":\\\"observable\\\"}),\\\"index\\\":WebIO.getval({\\\"name\\\":\\\"index\\\",\\\"scope\\\":\\\"5048356724033473769\\\",\\\"id\\\":\\\"5858097637371328953\\\",\\\"type\\\":\\\"observable\\\"})};\\n    var self = this;\\n    function AppViewModel() {\\n        for (var key in json_data) {\\n            var el = json_data[key];\\n            this[key] = Array.isArray(el) ? ko.observableArray(el) : ko.observable(el);\\n        }\\n        \\n        [this[\\\"formatted_val\\\"]=ko.computed(    function(){\\n        return this.formatted_vals()[parseInt(this.index())-(1)];\\n    }\\n,this)]\\n        [this[\\\"changes\\\"].subscribe((function (val){!(this.valueFromJulia[\\\"changes\\\"]) ? (WebIO.setval({\\\"name\\\":\\\"changes\\\",\\\"scope\\\":\\\"5048356724033473769\\\",\\\"id\\\":\\\"6329679798241691693\\\",\\\"type\\\":\\\"observable\\\"},val)) : undefined; return this.valueFromJulia[\\\"changes\\\"]=false}),self),this[\\\"index\\\"].subscribe((function (val){!(this.valueFromJulia[\\\"index\\\"]) ? (WebIO.setval({\\\"name\\\":\\\"index\\\",\\\"scope\\\":\\\"5048356724033473769\\\",\\\"id\\\":\\\"5858097637371328953\\\",\\\"type\\\":\\\"observable\\\"},val)) : undefined; return this.valueFromJulia[\\\"index\\\"]=false}),self)]\\n        \\n    }\\n    self.model = new AppViewModel();\\n    self.valueFromJulia = {};\\n    for (var key in json_data) {\\n        self.valueFromJulia[key] = false;\\n    }\\n    ko.applyBindings(self.model, self.dom);\\n}\\n);\\n    (WebIO.importBlock({\\\"data\\\":[{\\\"name\\\":\\\"knockout\\\",\\\"type\\\":\\\"js\\\",\\\"url\\\":\\\"/assetserver/727383f2a47bd31570b7da84eee7b022dd6d7c78-knockout.js\\\"},{\\\"name\\\":\\\"knockout_punches\\\",\\\"type\\\":\\\"js\\\",\\\"url\\\":\\\"/assetserver/382b41b3b1bd9f26f75861d360bad7f8beea211f-knockout_punches.js\\\"}],\\\"type\\\":\\\"async_block\\\"})).then((imports) => handler.apply(this, imports));\\n}\\n\")])], Dict{Symbol, Any}(:className => \"field interact-widget\")), WebIO.Node{WebIO.DOM}(WebIO.DOM(:html, :div), Any[WebIO.Scope(WebIO.Node{WebIO.DOM}(WebIO.DOM(:html, :div), Any[WebIO.Node{WebIO.DOM}(WebIO.DOM(:html, :div), Any[WebIO.Node{WebIO.DOM}(WebIO.DOM(:html, :label), Any[\"initial_wolf_percent\"], Dict{Symbol, Any}(:className => \"interact \", :style => Dict{Any, Any}(:padding => \"5px 10px 0px 10px\")))], Dict{Symbol, Any}(:className => \"interact-flex-row-left\")), WebIO.Node{WebIO.DOM}(WebIO.DOM(:html, :div), Any[WebIO.Node{WebIO.DOM}(WebIO.DOM(:html, :input), Any[], Dict{Symbol, Any}(:max => 90, :min => 1, :attributes => Dict{Any, Any}(:type => \"range\", Symbol(\"data-bind\") => \"numericValue: index, valueUpdate: 'input', event: {change: function (){this.changes(this.changes()+1)}}\", \"orient\" => \"horizontal\"), :step => 1, :className => \"slider slider is-fullwidth\", :style => Dict{Any, Any}()))], Dict{Symbol, Any}(:className => \"interact-flex-row-center\")), WebIO.Node{WebIO.DOM}(WebIO.DOM(:html, :div), Any[WebIO.Node{WebIO.DOM}(WebIO.DOM(:html, :p), Any[], Dict{Symbol, Any}(:attributes => Dict(\"data-bind\" => \"text: formatted_val\")))], Dict{Symbol, Any}(:className => \"interact-flex-row-right\"))], Dict{Symbol, Any}(:className => \"interact-flex-row interact-widget\")), Dict{String, Tuple{Observables.AbstractObservable, Union{Nothing, Bool}}}(\"changes\" => (Observable(0), nothing), \"index\" => (Observable{Any}(45), nothing)), Set{String}(), nothing, WebIO.Asset[WebIO.Asset(\"js\", \"knockout\", \"/home/dushya/.julia/packages/Knockout/HReiN/src/../assets/knockout.js\"), WebIO.Asset(\"js\", \"knockout_punches\", \"/home/dushya/.julia/packages/Knockout/HReiN/src/../assets/knockout_punches.js\"), WebIO.Asset(\"js\", nothing, \"/home/dushya/.julia/packages/InteractBase/LJXv3/src/../assets/all.js\"), WebIO.Asset(\"css\", nothing, \"/home/dushya/.julia/packages/InteractBase/LJXv3/src/../assets/style.css\"), WebIO.Asset(\"css\", nothing, \"/home/dushya/.julia/packages/Interact/PENUy/src/../assets/bulma_confined.min.css\")], Dict{Any, Any}(\"changes\" => Any[WebIO.JSString(\"(function (val){return (val!=this.model[\\\"changes\\\"]()) ? (this.valueFromJulia[\\\"changes\\\"]=true, this.model[\\\"changes\\\"](val)) : undefined})\")], \"index\" => Any[WebIO.JSString(\"(function (val){return (val!=this.model[\\\"index\\\"]()) ? (this.valueFromJulia[\\\"index\\\"]=true, this.model[\\\"index\\\"](val)) : undefined})\")]), WebIO.ConnectionPool(Channel{Any}(32), Set{WebIO.AbstractConnection}(), Base.GenericCondition{ReentrantLock}(Base.IntrusiveLinkedList{Task}(Task (runnable) @0x00007f8dbdb37d00, Task (runnable) @0x00007f8dbdb37d00), ReentrantLock(nothing, 0x00000000, 0x00, Base.GenericCondition{Base.Threads.SpinLock}(Base.IntrusiveLinkedList{Task}(nothing, nothing), Base.Threads.SpinLock(0)), (8, 140246807214640, 140246807214832)))), WebIO.JSString[WebIO.JSString(\"function () {\\n    var handler = (function (ko, koPunches) {\\n    ko.punches.enableAll();\\n    ko.bindingHandlers.numericValue = {\\n        init: function(element, valueAccessor, allBindings, data, context) {\\n            var stringified = ko.observable(ko.unwrap(valueAccessor()));\\n            stringified.subscribe(function(value) {\\n                var val = parseFloat(value);\\n                if (!isNaN(val)) {\\n                    valueAccessor()(val);\\n                }\\n            });\\n            valueAccessor().subscribe(function(value) {\\n                var str = JSON.stringify(value);\\n                if ((str == \\\"0\\\") && ([\\\"-0\\\", \\\"-0.\\\"].indexOf(stringified()) >= 0))\\n                     return;\\n                 if ([\\\"null\\\", \\\"\\\"].indexOf(str) >= 0)\\n                     return;\\n                stringified(str);\\n            });\\n            ko.applyBindingsToNode(\\n                element,\\n                {\\n                    value: stringified,\\n                    valueUpdate: allBindings.get('valueUpdate'),\\n                },\\n                context,\\n            );\\n        }\\n    };\\n    var json_data = {\\\"formatted_vals\\\":[\\\"0.01\\\",\\\"0.02\\\",\\\"0.03\\\",\\\"0.04\\\",\\\"0.05\\\",\\\"0.06\\\",\\\"0.07\\\",\\\"0.08\\\",\\\"0.09\\\",\\\"0.1\\\",\\\"0.11\\\",\\\"0.12\\\",\\\"0.13\\\",\\\"0.14\\\",\\\"0.15\\\",\\\"0.16\\\",\\\"0.17\\\",\\\"0.18\\\",\\\"0.19\\\",\\\"0.2\\\",\\\"0.21\\\",\\\"0.22\\\",\\\"0.23\\\",\\\"0.24\\\",\\\"0.25\\\",\\\"0.26\\\",\\\"0.27\\\",\\\"0.28\\\",\\\"0.29\\\",\\\"0.3\\\",\\\"0.31\\\",\\\"0.32\\\",\\\"0.33\\\",\\\"0.34\\\",\\\"0.35\\\",\\\"0.36\\\",\\\"0.37\\\",\\\"0.38\\\",\\\"0.39\\\",\\\"0.4\\\",\\\"0.41\\\",\\\"0.42\\\",\\\"0.43\\\",\\\"0.44\\\",\\\"0.45\\\",\\\"0.46\\\",\\\"0.47\\\",\\\"0.48\\\",\\\"0.49\\\",\\\"0.5\\\",\\\"0.51\\\",\\\"0.52\\\",\\\"0.53\\\",\\\"0.54\\\",\\\"0.55\\\",\\\"0.56\\\",\\\"0.57\\\",\\\"0.58\\\",\\\"0.59\\\",\\\"0.6\\\",\\\"0.61\\\",\\\"0.62\\\",\\\"0.63\\\",\\\"0.64\\\",\\\"0.65\\\",\\\"0.66\\\",\\\"0.67\\\",\\\"0.68\\\",\\\"0.69\\\",\\\"0.7\\\",\\\"0.71\\\",\\\"0.72\\\",\\\"0.73\\\",\\\"0.74\\\",\\\"0.75\\\",\\\"0.76\\\",\\\"0.77\\\",\\\"0.78\\\",\\\"0.79\\\",\\\"0.8\\\",\\\"0.81\\\",\\\"0.82\\\",\\\"0.83\\\",\\\"0.84\\\",\\\"0.85\\\",\\\"0.86\\\",\\\"0.87\\\",\\\"0.88\\\",\\\"0.89\\\",\\\"0.9\\\"],\\\"changes\\\":WebIO.getval({\\\"name\\\":\\\"changes\\\",\\\"scope\\\":\\\"18102564830908750318\\\",\\\"id\\\":\\\"13546356093138665277\\\",\\\"type\\\":\\\"observable\\\"}),\\\"index\\\":WebIO.getval({\\\"name\\\":\\\"index\\\",\\\"scope\\\":\\\"18102564830908750318\\\",\\\"id\\\":\\\"17332266953398481449\\\",\\\"type\\\":\\\"observable\\\"})};\\n    var self = this;\\n    function AppViewModel() {\\n        for (var key in json_data) {\\n            var el = json_data[key];\\n            this[key] = Array.isArray(el) ? ko.observableArray(el) : ko.observable(el);\\n        }\\n        \\n        [this[\\\"formatted_val\\\"]=ko.computed(    function(){\\n        return this.formatted_vals()[parseInt(this.index())-(1)];\\n    }\\n,this)]\\n        [this[\\\"changes\\\"].subscribe((function (val){!(this.valueFromJulia[\\\"changes\\\"]) ? (WebIO.setval({\\\"name\\\":\\\"changes\\\",\\\"scope\\\":\\\"18102564830908750318\\\",\\\"id\\\":\\\"13546356093138665277\\\",\\\"type\\\":\\\"observable\\\"},val)) : undefined; return this.valueFromJulia[\\\"changes\\\"]=false}),self),this[\\\"index\\\"].subscribe((function (val){!(this.valueFromJulia[\\\"index\\\"]) ? (WebIO.setval({\\\"name\\\":\\\"index\\\",\\\"scope\\\":\\\"18102564830908750318\\\",\\\"id\\\":\\\"17332266953398481449\\\",\\\"type\\\":\\\"observable\\\"},val)) : undefined; return this.valueFromJulia[\\\"index\\\"]=false}),self)]\\n        \\n    }\\n    self.model = new AppViewModel();\\n    self.valueFromJulia = {};\\n    for (var key in json_data) {\\n        self.valueFromJulia[key] = false;\\n    }\\n    ko.applyBindings(self.model, self.dom);\\n}\\n);\\n    (WebIO.importBlock({\\\"data\\\":[{\\\"name\\\":\\\"knockout\\\",\\\"type\\\":\\\"js\\\",\\\"url\\\":\\\"/assetserver/727383f2a47bd31570b7da84eee7b022dd6d7c78-knockout.js\\\"},{\\\"name\\\":\\\"knockout_punches\\\",\\\"type\\\":\\\"js\\\",\\\"url\\\":\\\"/assetserver/382b41b3b1bd9f26f75861d360bad7f8beea211f-knockout_punches.js\\\"}],\\\"type\\\":\\\"async_block\\\"})).then((imports) => handler.apply(this, imports));\\n}\\n\")])], Dict{Symbol, Any}(:className => \"field interact-widget\")), WebIO.Node{WebIO.DOM}(WebIO.DOM(:html, :div), Any[WebIO.Scope(WebIO.Node{WebIO.DOM}(WebIO.DOM(:html, :div), Any[WebIO.Node{WebIO.DOM}(WebIO.DOM(:html, :div), Any[WebIO.Node{WebIO.DOM}(WebIO.DOM(:html, :label), Any[\"wolves_kill_ability\"], Dict{Symbol, Any}(:className => \"interact \", :style => Dict{Any, Any}(:padding => \"5px 10px 0px 10px\")))], Dict{Symbol, Any}(:className => \"interact-flex-row-left\")), WebIO.Node{WebIO.DOM}(WebIO.DOM(:html, :div), Any[WebIO.Node{WebIO.DOM}(WebIO.DOM(:html, :input), Any[], Dict{Symbol, Any}(:max => 100, :min => 1, :attributes => Dict{Any, Any}(:type => \"range\", Symbol(\"data-bind\") => \"numericValue: index, valueUpdate: 'input', event: {change: function (){this.changes(this.changes()+1)}}\", \"orient\" => \"horizontal\"), :step => 1, :className => \"slider slider is-fullwidth\", :style => Dict{Any, Any}()))], Dict{Symbol, Any}(:className => \"interact-flex-row-center\")), WebIO.Node{WebIO.DOM}(WebIO.DOM(:html, :div), Any[WebIO.Node{WebIO.DOM}(WebIO.DOM(:html, :p), Any[], Dict{Symbol, Any}(:attributes => Dict(\"data-bind\" => \"text: formatted_val\")))], Dict{Symbol, Any}(:className => \"interact-flex-row-right\"))], Dict{Symbol, Any}(:className => \"interact-flex-row interact-widget\")), Dict{String, Tuple{Observables.AbstractObservable, Union{Nothing, Bool}}}(\"changes\" => (Observable(0), nothing), \"index\" => (Observable{Any}(50), nothing)), Set{String}(), nothing, WebIO.Asset[WebIO.Asset(\"js\", \"knockout\", \"/home/dushya/.julia/packages/Knockout/HReiN/src/../assets/knockout.js\"), WebIO.Asset(\"js\", \"knockout_punches\", \"/home/dushya/.julia/packages/Knockout/HReiN/src/../assets/knockout_punches.js\"), WebIO.Asset(\"js\", nothing, \"/home/dushya/.julia/packages/InteractBase/LJXv3/src/../assets/all.js\"), WebIO.Asset(\"css\", nothing, \"/home/dushya/.julia/packages/InteractBase/LJXv3/src/../assets/style.css\"), WebIO.Asset(\"css\", nothing, \"/home/dushya/.julia/packages/Interact/PENUy/src/../assets/bulma_confined.min.css\")], Dict{Any, Any}(\"changes\" => Any[WebIO.JSString(\"(function (val){return (val!=this.model[\\\"changes\\\"]()) ? (this.valueFromJulia[\\\"changes\\\"]=true, this.model[\\\"changes\\\"](val)) : undefined})\")], \"index\" => Any[WebIO.JSString(\"(function (val){return (val!=this.model[\\\"index\\\"]()) ? (this.valueFromJulia[\\\"index\\\"]=true, this.model[\\\"index\\\"](val)) : undefined})\")]), WebIO.ConnectionPool(Channel{Any}(32), Set{WebIO.AbstractConnection}(), Base.GenericCondition{ReentrantLock}(Base.IntrusiveLinkedList{Task}(Task (runnable) @0x00007f8dbdbac4c0, Task (runnable) @0x00007f8dbdbac4c0), ReentrantLock(nothing, 0x00000000, 0x00, Base.GenericCondition{Base.Threads.SpinLock}(Base.IntrusiveLinkedList{Task}(nothing, nothing), Base.Threads.SpinLock(0)), (8, 0, 139779710648320)))), WebIO.JSString[WebIO.JSString(\"function () {\\n    var handler = (function (ko, koPunches) {\\n    ko.punches.enableAll();\\n    ko.bindingHandlers.numericValue = {\\n        init: function(element, valueAccessor, allBindings, data, context) {\\n            var stringified = ko.observable(ko.unwrap(valueAccessor()));\\n            stringified.subscribe(function(value) {\\n                var val = parseFloat(value);\\n                if (!isNaN(val)) {\\n                    valueAccessor()(val);\\n                }\\n            });\\n            valueAccessor().subscribe(function(value) {\\n                var str = JSON.stringify(value);\\n                if ((str == \\\"0\\\") && ([\\\"-0\\\", \\\"-0.\\\"].indexOf(stringified()) >= 0))\\n                     return;\\n                 if ([\\\"null\\\", \\\"\\\"].indexOf(str) >= 0)\\n                     return;\\n                stringified(str);\\n            });\\n            ko.applyBindingsToNode(\\n                element,\\n                {\\n                    value: stringified,\\n                    valueUpdate: allBindings.get('valueUpdate'),\\n                },\\n                context,\\n            );\\n        }\\n    };\\n    var json_data = {\\\"formatted_vals\\\":[\\\"0.01\\\",\\\"0.02\\\",\\\"0.03\\\",\\\"0.04\\\",\\\"0.05\\\",\\\"0.06\\\",\\\"0.07\\\",\\\"0.08\\\",\\\"0.09\\\",\\\"0.1\\\",\\\"0.11\\\",\\\"0.12\\\",\\\"0.13\\\",\\\"0.14\\\",\\\"0.15\\\",\\\"0.16\\\",\\\"0.17\\\",\\\"0.18\\\",\\\"0.19\\\",\\\"0.2\\\",\\\"0.21\\\",\\\"0.22\\\",\\\"0.23\\\",\\\"0.24\\\",\\\"0.25\\\",\\\"0.26\\\",\\\"0.27\\\",\\\"0.28\\\",\\\"0.29\\\",\\\"0.3\\\",\\\"0.31\\\",\\\"0.32\\\",\\\"0.33\\\",\\\"0.34\\\",\\\"0.35\\\",\\\"0.36\\\",\\\"0.37\\\",\\\"0.38\\\",\\\"0.39\\\",\\\"0.4\\\",\\\"0.41\\\",\\\"0.42\\\",\\\"0.43\\\",\\\"0.44\\\",\\\"0.45\\\",\\\"0.46\\\",\\\"0.47\\\",\\\"0.48\\\",\\\"0.49\\\",\\\"0.5\\\",\\\"0.51\\\",\\\"0.52\\\",\\\"0.53\\\",\\\"0.54\\\",\\\"0.55\\\",\\\"0.56\\\",\\\"0.57\\\",\\\"0.58\\\",\\\"0.59\\\",\\\"0.6\\\",\\\"0.61\\\",\\\"0.62\\\",\\\"0.63\\\",\\\"0.64\\\",\\\"0.65\\\",\\\"0.66\\\",\\\"0.67\\\",\\\"0.68\\\",\\\"0.69\\\",\\\"0.7\\\",\\\"0.71\\\",\\\"0.72\\\",\\\"0.73\\\",\\\"0.74\\\",\\\"0.75\\\",\\\"0.76\\\",\\\"0.77\\\",\\\"0.78\\\",\\\"0.79\\\",\\\"0.8\\\",\\\"0.81\\\",\\\"0.82\\\",\\\"0.83\\\",\\\"0.84\\\",\\\"0.85\\\",\\\"0.86\\\",\\\"0.87\\\",\\\"0.88\\\",\\\"0.89\\\",\\\"0.9\\\",\\\"0.91\\\",\\\"0.92\\\",\\\"0.93\\\",\\\"0.94\\\",\\\"0.95\\\",\\\"0.96\\\",\\\"0.97\\\",\\\"0.98\\\",\\\"0.99\\\",\\\"1.0\\\"],\\\"changes\\\":WebIO.getval({\\\"name\\\":\\\"changes\\\",\\\"scope\\\":\\\"9844211904419221169\\\",\\\"id\\\":\\\"8713933071550937173\\\",\\\"type\\\":\\\"observable\\\"}),\\\"index\\\":WebIO.getval({\\\"name\\\":\\\"index\\\",\\\"scope\\\":\\\"9844211904419221169\\\",\\\"id\\\":\\\"16320795768102615219\\\",\\\"type\\\":\\\"observable\\\"})};\\n    var self = this;\\n    function AppViewModel() {\\n        for (var key in json_data) {\\n            var el = json_data[key];\\n            this[key] = Array.isArray(el) ? ko.observableArray(el) : ko.observable(el);\\n        }\\n        \\n        [this[\\\"formatted_val\\\"]=ko.computed(    function(){\\n        return this.formatted_vals()[parseInt(this.index())-(1)];\\n    }\\n,this)]\\n        [this[\\\"changes\\\"].subscribe((function (val){!(this.valueFromJulia[\\\"changes\\\"]) ? (WebIO.setval({\\\"name\\\":\\\"changes\\\",\\\"scope\\\":\\\"9844211904419221169\\\",\\\"id\\\":\\\"8713933071550937173\\\",\\\"type\\\":\\\"observable\\\"},val)) : undefined; return this.valueFromJulia[\\\"changes\\\"]=false}),self),this[\\\"index\\\"].subscribe((function (val){!(this.valueFromJulia[\\\"index\\\"]) ? (WebIO.setval({\\\"name\\\":\\\"index\\\",\\\"scope\\\":\\\"9844211904419221169\\\",\\\"id\\\":\\\"16320795768102615219\\\",\\\"type\\\":\\\"observable\\\"},val)) : undefined; return this.valueFromJulia[\\\"index\\\"]=false}),self)]\\n        \\n    }\\n    self.model = new AppViewModel();\\n    self.valueFromJulia = {};\\n    for (var key in json_data) {\\n        self.valueFromJulia[key] = false;\\n    }\\n    ko.applyBindings(self.model, self.dom);\\n}\\n);\\n    (WebIO.importBlock({\\\"data\\\":[{\\\"name\\\":\\\"knockout\\\",\\\"type\\\":\\\"js\\\",\\\"url\\\":\\\"/assetserver/727383f2a47bd31570b7da84eee7b022dd6d7c78-knockout.js\\\"},{\\\"name\\\":\\\"knockout_punches\\\",\\\"type\\\":\\\"js\\\",\\\"url\\\":\\\"/assetserver/382b41b3b1bd9f26f75861d360bad7f8beea211f-knockout_punches.js\\\"}],\\\"type\\\":\\\"async_block\\\"})).then((imports) => handler.apply(this, imports));\\n}\\n\")])], Dict{Symbol, Any}(:className => \"field interact-widget\")), WebIO.Node{WebIO.DOM}(WebIO.DOM(:html, :div), Any[WebIO.Scope(WebIO.Node{WebIO.DOM}(WebIO.DOM(:html, :div), Any[WebIO.Node{WebIO.DOM}(WebIO.DOM(:html, :div), Any[WebIO.Node{WebIO.DOM}(WebIO.DOM(:html, :label), Any[\"grass_grow_prob\"], Dict{Symbol, Any}(:className => \"interact \", :style => Dict{Any, Any}(:padding => \"5px 10px 0px 10px\")))], Dict{Symbol, Any}(:className => \"interact-flex-row-left\")), WebIO.Node{WebIO.DOM}(WebIO.DOM(:html, :div), Any[WebIO.Node{WebIO.DOM}(WebIO.DOM(:html, :input), Any[], Dict{Symbol, Any}(:max => 50, :min => 1, :attributes => Dict{Any, Any}(:type => \"range\", Symbol(\"data-bind\") => \"numericValue: index, valueUpdate: 'input', event: {change: function (){this.changes(this.changes()+1)}}\", \"orient\" => \"horizontal\"), :step => 1, :className => \"slider slider is-fullwidth\", :style => Dict{Any, Any}()))], Dict{Symbol, Any}(:className => \"interact-flex-row-center\")), WebIO.Node{WebIO.DOM}(WebIO.DOM(:html, :div), Any[WebIO.Node{WebIO.DOM}(WebIO.DOM(:html, :p), Any[], Dict{Symbol, Any}(:attributes => Dict(\"data-bind\" => \"text: formatted_val\")))], Dict{Symbol, Any}(:className => \"interact-flex-row-right\"))], Dict{Symbol, Any}(:className => \"interact-flex-row interact-widget\")), Dict{String, Tuple{Observables.AbstractObservable, Union{Nothing, Bool}}}(\"changes\" => (Observable(0), nothing), \"index\" => (Observable{Any}(25), nothing)), Set{String}(), nothing, WebIO.Asset[WebIO.Asset(\"js\", \"knockout\", \"/home/dushya/.julia/packages/Knockout/HReiN/src/../assets/knockout.js\"), WebIO.Asset(\"js\", \"knockout_punches\", \"/home/dushya/.julia/packages/Knockout/HReiN/src/../assets/knockout_punches.js\"), WebIO.Asset(\"js\", nothing, \"/home/dushya/.julia/packages/InteractBase/LJXv3/src/../assets/all.js\"), WebIO.Asset(\"css\", nothing, \"/home/dushya/.julia/packages/InteractBase/LJXv3/src/../assets/style.css\"), WebIO.Asset(\"css\", nothing, \"/home/dushya/.julia/packages/Interact/PENUy/src/../assets/bulma_confined.min.css\")], Dict{Any, Any}(\"changes\" => Any[WebIO.JSString(\"(function (val){return (val!=this.model[\\\"changes\\\"]()) ? (this.valueFromJulia[\\\"changes\\\"]=true, this.model[\\\"changes\\\"](val)) : undefined})\")], \"index\" => Any[WebIO.JSString(\"(function (val){return (val!=this.model[\\\"index\\\"]()) ? (this.valueFromJulia[\\\"index\\\"]=true, this.model[\\\"index\\\"](val)) : undefined})\")]), WebIO.ConnectionPool(Channel{Any}(32), Set{WebIO.AbstractConnection}(), Base.GenericCondition{ReentrantLock}(Base.IntrusiveLinkedList{Task}(Task (runnable) @0x00007f8dbdbaf3a0, Task (runnable) @0x00007f8dbdbaf3a0), ReentrantLock(nothing, 0x00000000, 0x00, Base.GenericCondition{Base.Threads.SpinLock}(Base.IntrusiveLinkedList{Task}(nothing, nothing), Base.Threads.SpinLock(0)), (1, 140246585072464, 141733920768)))), WebIO.JSString[WebIO.JSString(\"function () {\\n    var handler = (function (ko, koPunches) {\\n    ko.punches.enableAll();\\n    ko.bindingHandlers.numericValue = {\\n        init: function(element, valueAccessor, allBindings, data, context) {\\n            var stringified = ko.observable(ko.unwrap(valueAccessor()));\\n            stringified.subscribe(function(value) {\\n                var val = parseFloat(value);\\n                if (!isNaN(val)) {\\n                    valueAccessor()(val);\\n                }\\n            });\\n            valueAccessor().subscribe(function(value) {\\n                var str = JSON.stringify(value);\\n                if ((str == \\\"0\\\") && ([\\\"-0\\\", \\\"-0.\\\"].indexOf(stringified()) >= 0))\\n                     return;\\n                 if ([\\\"null\\\", \\\"\\\"].indexOf(str) >= 0)\\n                     return;\\n                stringified(str);\\n            });\\n            ko.applyBindingsToNode(\\n                element,\\n                {\\n                    value: stringified,\\n                    valueUpdate: allBindings.get('valueUpdate'),\\n                },\\n                context,\\n            );\\n        }\\n    };\\n    var json_data = {\\\"formatted_vals\\\":[\\\"0.01\\\",\\\"0.02\\\",\\\"0.03\\\",\\\"0.04\\\",\\\"0.05\\\",\\\"0.06\\\",\\\"0.07\\\",\\\"0.08\\\",\\\"0.09\\\",\\\"0.1\\\",\\\"0.11\\\",\\\"0.12\\\",\\\"0.13\\\",\\\"0.14\\\",\\\"0.15\\\",\\\"0.16\\\",\\\"0.17\\\",\\\"0.18\\\",\\\"0.19\\\",\\\"0.2\\\",\\\"0.21\\\",\\\"0.22\\\",\\\"0.23\\\",\\\"0.24\\\",\\\"0.25\\\",\\\"0.26\\\",\\\"0.27\\\",\\\"0.28\\\",\\\"0.29\\\",\\\"0.3\\\",\\\"0.31\\\",\\\"0.32\\\",\\\"0.33\\\",\\\"0.34\\\",\\\"0.35\\\",\\\"0.36\\\",\\\"0.37\\\",\\\"0.38\\\",\\\"0.39\\\",\\\"0.4\\\",\\\"0.41\\\",\\\"0.42\\\",\\\"0.43\\\",\\\"0.44\\\",\\\"0.45\\\",\\\"0.46\\\",\\\"0.47\\\",\\\"0.48\\\",\\\"0.49\\\",\\\"0.5\\\"],\\\"changes\\\":WebIO.getval({\\\"name\\\":\\\"changes\\\",\\\"scope\\\":\\\"5159910332718666706\\\",\\\"id\\\":\\\"3199598296072437720\\\",\\\"type\\\":\\\"observable\\\"}),\\\"index\\\":WebIO.getval({\\\"name\\\":\\\"index\\\",\\\"scope\\\":\\\"5159910332718666706\\\",\\\"id\\\":\\\"11435830236159261238\\\",\\\"type\\\":\\\"observable\\\"})};\\n    var self = this;\\n    function AppViewModel() {\\n        for (var key in json_data) {\\n            var el = json_data[key];\\n            this[key] = Array.isArray(el) ? ko.observableArray(el) : ko.observable(el);\\n        }\\n        \\n        [this[\\\"formatted_val\\\"]=ko.computed(    function(){\\n        return this.formatted_vals()[parseInt(this.index())-(1)];\\n    }\\n,this)]\\n        [this[\\\"changes\\\"].subscribe((function (val){!(this.valueFromJulia[\\\"changes\\\"]) ? (WebIO.setval({\\\"name\\\":\\\"changes\\\",\\\"scope\\\":\\\"5159910332718666706\\\",\\\"id\\\":\\\"3199598296072437720\\\",\\\"type\\\":\\\"observable\\\"},val)) : undefined; return this.valueFromJulia[\\\"changes\\\"]=false}),self),this[\\\"index\\\"].subscribe((function (val){!(this.valueFromJulia[\\\"index\\\"]) ? (WebIO.setval({\\\"name\\\":\\\"index\\\",\\\"scope\\\":\\\"5159910332718666706\\\",\\\"id\\\":\\\"11435830236159261238\\\",\\\"type\\\":\\\"observable\\\"},val)) : undefined; return this.valueFromJulia[\\\"index\\\"]=false}),self)]\\n        \\n    }\\n    self.model = new AppViewModel();\\n    self.valueFromJulia = {};\\n    for (var key in json_data) {\\n        self.valueFromJulia[key] = false;\\n    }\\n    ko.applyBindings(self.model, self.dom);\\n}\\n);\\n    (WebIO.importBlock({\\\"data\\\":[{\\\"name\\\":\\\"knockout\\\",\\\"type\\\":\\\"js\\\",\\\"url\\\":\\\"/assetserver/727383f2a47bd31570b7da84eee7b022dd6d7c78-knockout.js\\\"},{\\\"name\\\":\\\"knockout_punches\\\",\\\"type\\\":\\\"js\\\",\\\"url\\\":\\\"/assetserver/382b41b3b1bd9f26f75861d360bad7f8beea211f-knockout_punches.js\\\"}],\\\"type\\\":\\\"async_block\\\"})).then((imports) => handler.apply(this, imports));\\n}\\n\")])], Dict{Symbol, Any}(:className => \"field interact-widget\"))], Dict{Symbol, Any}(:style => Dict(\"display\" => \"flex\", \"flex-direction\" => \"column\"))), WebIO.Node{WebIO.DOM}(WebIO.DOM(:html, :div), Any[WebIO.Node{WebIO.DOM}(WebIO.DOM(:html, :div), Any[WebIO.Scope(WebIO.Node{WebIO.DOM}(WebIO.DOM(:html, :div), Any[], Dict{Symbol, Any}(:id => \"container\")), Dict{String, Tuple{Observables.AbstractObservable, Union{Nothing, Bool}}}(\"value\" => (Observable(\"\\\\;\\\\;\"), nothing)), Set{String}(), nothing, WebIO.Asset[WebIO.Asset(\"js\", nothing, \"/home/dushya/.julia/packages/InteractBase/LJXv3/src/../assets/katex.min.js\"), WebIO.Asset(\"css\", nothing, \"/home/dushya/.julia/packages/InteractBase/LJXv3/src/../assets/katex.min.css\")], Dict{Any, Any}(\"value\" => Any[WebIO.JSString(\"(function (txt){return this.k.render(txt,this.container)})\")]), WebIO.ConnectionPool(Channel{Any}(32), Set{WebIO.AbstractConnection}(), Base.GenericCondition{ReentrantLock}(Base.IntrusiveLinkedList{Task}(Task (runnable) @0x00007f8d7c0c8c90, Task (runnable) @0x00007f8d7c0c8c90), ReentrantLock(nothing, 0x00000000, 0x00, Base.GenericCondition{Base.Threads.SpinLock}(Base.IntrusiveLinkedList{Task}(nothing, nothing), Base.Threads.SpinLock(0)), (8, 0, 141733920768)))), WebIO.JSString[WebIO.JSString(\"function () {\\n    var handler = ((function (k){this.k=k; this.container=this.dom.querySelector(\\\"#container\\\"); return k.render(\\\"\\\\\\\\;\\\\\\\\;\\\",this.container)}));\\n    (WebIO.importBlock({\\\"data\\\":[{\\\"name\\\":null,\\\"type\\\":\\\"js\\\",\\\"url\\\":\\\"/assetserver/dd22ed1bf1896c2748f3fe616ce0b838adc895c1-katex.min.js\\\"},{\\\"name\\\":null,\\\"type\\\":\\\"css\\\",\\\"url\\\":\\\"/assetserver/46517a424aa5e6cffc1360d7e0848b601c584ee3-katex.min.css\\\"}],\\\"type\\\":\\\"async_block\\\"})).then((imports) => handler.apply(this, imports));\\n}\\n\")])], Dict{Symbol, Any}(:className => \"interact-widget\")), WebIO.Node{WebIO.DOM}(WebIO.DOM(:html, :div), Any[WebIO.Scope(WebIO.Node{WebIO.DOM}(WebIO.DOM(:html, :button), Any[\"run\"], Dict{Symbol, Any}(:attributes => Dict{Any, Any}(\"data-bind\" => \"click: function (){this.clicks(this.clicks()+1)}, css: {'is-loading' : loading}\"), :className => \"is-medium button is-primary\", :style => Dict{String, Any}())), Dict{String, Tuple{Observables.AbstractObservable, Union{Nothing, Bool}}}(\"loading\" => (Observable(false), nothing), \"clicks\" => (Observable(0), nothing)), Set{String}(), nothing, WebIO.Asset[WebIO.Asset(\"js\", \"knockout\", \"/home/dushya/.julia/packages/Knockout/HReiN/src/../assets/knockout.js\"), WebIO.Asset(\"js\", \"knockout_punches\", \"/home/dushya/.julia/packages/Knockout/HReiN/src/../assets/knockout_punches.js\"), WebIO.Asset(\"js\", nothing, \"/home/dushya/.julia/packages/InteractBase/LJXv3/src/../assets/all.js\"), WebIO.Asset(\"css\", nothing, \"/home/dushya/.julia/packages/InteractBase/LJXv3/src/../assets/style.css\"), WebIO.Asset(\"css\", nothing, \"/home/dushya/.julia/packages/Interact/PENUy/src/../assets/bulma_confined.min.css\")], Dict{Any, Any}(\"loading\" => Any[WebIO.JSString(\"(function (val){return (val!=this.model[\\\"loading\\\"]()) ? (this.valueFromJulia[\\\"loading\\\"]=true, this.model[\\\"loading\\\"](val)) : undefined})\")], \"clicks\" => Any[WebIO.JSString(\"(function (val){return (val!=this.model[\\\"clicks\\\"]()) ? (this.valueFromJulia[\\\"clicks\\\"]=true, this.model[\\\"clicks\\\"](val)) : undefined})\")]), WebIO.ConnectionPool(Channel{Any}(32), Set{WebIO.AbstractConnection}(), Base.GenericCondition{ReentrantLock}(Base.IntrusiveLinkedList{Task}(Task (runnable) @0x00007f8dbdc72400, Task (runnable) @0x00007f8dbdc72400), ReentrantLock(nothing, 0x00000000, 0x00, Base.GenericCondition{Base.Threads.SpinLock}(Base.IntrusiveLinkedList{Task}(nothing, nothing), Base.Threads.SpinLock(0)), (0, 0, 139779710648320)))), WebIO.JSString[WebIO.JSString(\"function () {\\n    var handler = (function (ko, koPunches) {\\n    ko.punches.enableAll();\\n    ko.bindingHandlers.numericValue = {\\n        init: function(element, valueAccessor, allBindings, data, context) {\\n            var stringified = ko.observable(ko.unwrap(valueAccessor()));\\n            stringified.subscribe(function(value) {\\n                var val = parseFloat(value);\\n                if (!isNaN(val)) {\\n                    valueAccessor()(val);\\n                }\\n            });\\n            valueAccessor().subscribe(function(value) {\\n                var str = JSON.stringify(value);\\n                if ((str == \\\"0\\\") && ([\\\"-0\\\", \\\"-0.\\\"].indexOf(stringified()) >= 0))\\n                     return;\\n                 if ([\\\"null\\\", \\\"\\\"].indexOf(str) >= 0)\\n                     return;\\n                stringified(str);\\n            });\\n            ko.applyBindingsToNode(\\n                element,\\n                {\\n                    value: stringified,\\n                    valueUpdate: allBindings.get('valueUpdate'),\\n                },\\n                context,\\n            );\\n        }\\n    };\\n    var json_data = {\\\"loading\\\":WebIO.getval({\\\"name\\\":\\\"loading\\\",\\\"scope\\\":\\\"6668461495278469094\\\",\\\"id\\\":\\\"12351899954350154274\\\",\\\"type\\\":\\\"observable\\\"}),\\\"clicks\\\":WebIO.getval({\\\"name\\\":\\\"clicks\\\",\\\"scope\\\":\\\"6668461495278469094\\\",\\\"id\\\":\\\"5313946134929187040\\\",\\\"type\\\":\\\"observable\\\"})};\\n    var self = this;\\n    function AppViewModel() {\\n        for (var key in json_data) {\\n            var el = json_data[key];\\n            this[key] = Array.isArray(el) ? ko.observableArray(el) : ko.observable(el);\\n        }\\n        \\n        \\n        [this[\\\"loading\\\"].subscribe((function (val){!(this.valueFromJulia[\\\"loading\\\"]) ? (WebIO.setval({\\\"name\\\":\\\"loading\\\",\\\"scope\\\":\\\"6668461495278469094\\\",\\\"id\\\":\\\"12351899954350154274\\\",\\\"type\\\":\\\"observable\\\"},val)) : undefined; return this.valueFromJulia[\\\"loading\\\"]=false}),self),this[\\\"clicks\\\"].subscribe((function (val){!(this.valueFromJulia[\\\"clicks\\\"]) ? (WebIO.setval({\\\"name\\\":\\\"clicks\\\",\\\"scope\\\":\\\"6668461495278469094\\\",\\\"id\\\":\\\"5313946134929187040\\\",\\\"type\\\":\\\"observable\\\"},val)) : undefined; return this.valueFromJulia[\\\"clicks\\\"]=false}),self)]\\n        \\n    }\\n    self.model = new AppViewModel();\\n    self.valueFromJulia = {};\\n    for (var key in json_data) {\\n        self.valueFromJulia[key] = false;\\n    }\\n    ko.applyBindings(self.model, self.dom);\\n}\\n);\\n    (WebIO.importBlock({\\\"data\\\":[{\\\"name\\\":\\\"knockout\\\",\\\"type\\\":\\\"js\\\",\\\"url\\\":\\\"/assetserver/727383f2a47bd31570b7da84eee7b022dd6d7c78-knockout.js\\\"},{\\\"name\\\":\\\"knockout_punches\\\",\\\"type\\\":\\\"js\\\",\\\"url\\\":\\\"/assetserver/382b41b3b1bd9f26f75861d360bad7f8beea211f-knockout_punches.js\\\"}],\\\"type\\\":\\\"async_block\\\"})).then((imports) => handler.apply(this, imports));\\n}\\n\")])], Dict{Symbol, Any}(:className => \"field interact-widget\")), WebIO.Node{WebIO.DOM}(WebIO.DOM(:html, :div), Any[WebIO.Scope(WebIO.Node{WebIO.DOM}(WebIO.DOM(:html, :div), Any[], Dict{Symbol, Any}(:id => \"container\")), Dict{String, Tuple{Observables.AbstractObservable, Union{Nothing, Bool}}}(\"value\" => (Observable(\"\\\\;\\\\;\"), nothing)), Set{String}(), nothing, WebIO.Asset[WebIO.Asset(\"js\", nothing, \"/home/dushya/.julia/packages/InteractBase/LJXv3/src/../assets/katex.min.js\"), WebIO.Asset(\"css\", nothing, \"/home/dushya/.julia/packages/InteractBase/LJXv3/src/../assets/katex.min.css\")], Dict{Any, Any}(\"value\" => Any[WebIO.JSString(\"(function (txt){return this.k.render(txt,this.container)})\")]), WebIO.ConnectionPool(Channel{Any}(32), Set{WebIO.AbstractConnection}(), Base.GenericCondition{ReentrantLock}(Base.IntrusiveLinkedList{Task}(Task (runnable) @0x00007f8d7c0c8c90, Task (runnable) @0x00007f8d7c0c8c90), ReentrantLock(nothing, 0x00000000, 0x00, Base.GenericCondition{Base.Threads.SpinLock}(Base.IntrusiveLinkedList{Task}(nothing, nothing), Base.Threads.SpinLock(0)), (8, 0, 141733920768)))), WebIO.JSString[WebIO.JSString(\"function () {\\n    var handler = ((function (k){this.k=k; this.container=this.dom.querySelector(\\\"#container\\\"); return k.render(\\\"\\\\\\\\;\\\\\\\\;\\\",this.container)}));\\n    (WebIO.importBlock({\\\"data\\\":[{\\\"name\\\":null,\\\"type\\\":\\\"js\\\",\\\"url\\\":\\\"/assetserver/dd22ed1bf1896c2748f3fe616ce0b838adc895c1-katex.min.js\\\"},{\\\"name\\\":null,\\\"type\\\":\\\"css\\\",\\\"url\\\":\\\"/assetserver/46517a424aa5e6cffc1360d7e0848b601c584ee3-katex.min.css\\\"}],\\\"type\\\":\\\"async_block\\\"})).then((imports) => handler.apply(this, imports));\\n}\\n\")])], Dict{Symbol, Any}(:className => \"interact-widget\")), WebIO.Node{WebIO.DOM}(WebIO.DOM(:html, :div), Any[WebIO.Scope(WebIO.Node{WebIO.DOM}(WebIO.DOM(:html, :button), Any[\"stop\"], Dict{Symbol, Any}(:attributes => Dict{Any, Any}(\"data-bind\" => \"click: function (){this.clicks(this.clicks()+1)}, css: {'is-loading' : loading}\"), :className => \"is-medium button is-primary\", :style => Dict{String, Any}())), Dict{String, Tuple{Observables.AbstractObservable, Union{Nothing, Bool}}}(\"loading\" => (Observable(false), nothing), \"clicks\" => (Observable(0), nothing)), Set{String}(), nothing, WebIO.Asset[WebIO.Asset(\"js\", \"knockout\", \"/home/dushya/.julia/packages/Knockout/HReiN/src/../assets/knockout.js\"), WebIO.Asset(\"js\", \"knockout_punches\", \"/home/dushya/.julia/packages/Knockout/HReiN/src/../assets/knockout_punches.js\"), WebIO.Asset(\"js\", nothing, \"/home/dushya/.julia/packages/InteractBase/LJXv3/src/../assets/all.js\"), WebIO.Asset(\"css\", nothing, \"/home/dushya/.julia/packages/InteractBase/LJXv3/src/../assets/style.css\"), WebIO.Asset(\"css\", nothing, \"/home/dushya/.julia/packages/Interact/PENUy/src/../assets/bulma_confined.min.css\")], Dict{Any, Any}(\"loading\" => Any[WebIO.JSString(\"(function (val){return (val!=this.model[\\\"loading\\\"]()) ? (this.valueFromJulia[\\\"loading\\\"]=true, this.model[\\\"loading\\\"](val)) : undefined})\")], \"clicks\" => Any[WebIO.JSString(\"(function (val){return (val!=this.model[\\\"clicks\\\"]()) ? (this.valueFromJulia[\\\"clicks\\\"]=true, this.model[\\\"clicks\\\"](val)) : undefined})\")]), WebIO.ConnectionPool(Channel{Any}(32), Set{WebIO.AbstractConnection}(), Base.GenericCondition{ReentrantLock}(Base.IntrusiveLinkedList{Task}(Task (runnable) @0x00007f8dbde38330, Task (runnable) @0x00007f8dbde38330), ReentrantLock(nothing, 0x00000000, 0x00, Base.GenericCondition{Base.Threads.SpinLock}(Base.IntrusiveLinkedList{Task}(nothing, nothing), Base.Threads.SpinLock(0)), (1, 140246765548768, 139779710648320)))), WebIO.JSString[WebIO.JSString(\"function () {\\n    var handler = (function (ko, koPunches) {\\n    ko.punches.enableAll();\\n    ko.bindingHandlers.numericValue = {\\n        init: function(element, valueAccessor, allBindings, data, context) {\\n            var stringified = ko.observable(ko.unwrap(valueAccessor()));\\n            stringified.subscribe(function(value) {\\n                var val = parseFloat(value);\\n                if (!isNaN(val)) {\\n                    valueAccessor()(val);\\n                }\\n            });\\n            valueAccessor().subscribe(function(value) {\\n                var str = JSON.stringify(value);\\n                if ((str == \\\"0\\\") && ([\\\"-0\\\", \\\"-0.\\\"].indexOf(stringified()) >= 0))\\n                     return;\\n                 if ([\\\"null\\\", \\\"\\\"].indexOf(str) >= 0)\\n                     return;\\n                stringified(str);\\n            });\\n            ko.applyBindingsToNode(\\n                element,\\n                {\\n                    value: stringified,\\n                    valueUpdate: allBindings.get('valueUpdate'),\\n                },\\n                context,\\n            );\\n        }\\n    };\\n    var json_data = {\\\"loading\\\":WebIO.getval({\\\"name\\\":\\\"loading\\\",\\\"scope\\\":\\\"11530523912243027645\\\",\\\"id\\\":\\\"940680427821531194\\\",\\\"type\\\":\\\"observable\\\"}),\\\"clicks\\\":WebIO.getval({\\\"name\\\":\\\"clicks\\\",\\\"scope\\\":\\\"11530523912243027645\\\",\\\"id\\\":\\\"17485846705426047982\\\",\\\"type\\\":\\\"observable\\\"})};\\n    var self = this;\\n    function AppViewModel() {\\n        for (var key in json_data) {\\n            var el = json_data[key];\\n            this[key] = Array.isArray(el) ? ko.observableArray(el) : ko.observable(el);\\n        }\\n        \\n        \\n        [this[\\\"loading\\\"].subscribe((function (val){!(this.valueFromJulia[\\\"loading\\\"]) ? (WebIO.setval({\\\"name\\\":\\\"loading\\\",\\\"scope\\\":\\\"11530523912243027645\\\",\\\"id\\\":\\\"940680427821531194\\\",\\\"type\\\":\\\"observable\\\"},val)) : undefined; return this.valueFromJulia[\\\"loading\\\"]=false}),self),this[\\\"clicks\\\"].subscribe((function (val){!(this.valueFromJulia[\\\"clicks\\\"]) ? (WebIO.setval({\\\"name\\\":\\\"clicks\\\",\\\"scope\\\":\\\"11530523912243027645\\\",\\\"id\\\":\\\"17485846705426047982\\\",\\\"type\\\":\\\"observable\\\"},val)) : undefined; return this.valueFromJulia[\\\"clicks\\\"]=false}),self)]\\n        \\n    }\\n    self.model = new AppViewModel();\\n    self.valueFromJulia = {};\\n    for (var key in json_data) {\\n        self.valueFromJulia[key] = false;\\n    }\\n    ko.applyBindings(self.model, self.dom);\\n}\\n);\\n    (WebIO.importBlock({\\\"data\\\":[{\\\"name\\\":\\\"knockout\\\",\\\"type\\\":\\\"js\\\",\\\"url\\\":\\\"/assetserver/727383f2a47bd31570b7da84eee7b022dd6d7c78-knockout.js\\\"},{\\\"name\\\":\\\"knockout_punches\\\",\\\"type\\\":\\\"js\\\",\\\"url\\\":\\\"/assetserver/382b41b3b1bd9f26f75861d360bad7f8beea211f-knockout_punches.js\\\"}],\\\"type\\\":\\\"async_block\\\"})).then((imports) => handler.apply(this, imports));\\n}\\n\")])], Dict{Symbol, Any}(:className => \"field interact-widget\")), WebIO.Node{WebIO.DOM}(WebIO.DOM(:html, :div), Any[WebIO.Scope(WebIO.Node{WebIO.DOM}(WebIO.DOM(:html, :div), Any[], Dict{Symbol, Any}(:id => \"container\")), Dict{String, Tuple{Observables.AbstractObservable, Union{Nothing, Bool}}}(\"value\" => (Observable(\"\\\\;\\\\;\"), nothing)), Set{String}(), nothing, WebIO.Asset[WebIO.Asset(\"js\", nothing, \"/home/dushya/.julia/packages/InteractBase/LJXv3/src/../assets/katex.min.js\"), WebIO.Asset(\"css\", nothing, \"/home/dushya/.julia/packages/InteractBase/LJXv3/src/../assets/katex.min.css\")], Dict{Any, Any}(\"value\" => Any[WebIO.JSString(\"(function (txt){return this.k.render(txt,this.container)})\")]), WebIO.ConnectionPool(Channel{Any}(32), Set{WebIO.AbstractConnection}(), Base.GenericCondition{ReentrantLock}(Base.IntrusiveLinkedList{Task}(Task (runnable) @0x00007f8d7c0c8c90, Task (runnable) @0x00007f8d7c0c8c90), ReentrantLock(nothing, 0x00000000, 0x00, Base.GenericCondition{Base.Threads.SpinLock}(Base.IntrusiveLinkedList{Task}(nothing, nothing), Base.Threads.SpinLock(0)), (8, 0, 141733920768)))), WebIO.JSString[WebIO.JSString(\"function () {\\n    var handler = ((function (k){this.k=k; this.container=this.dom.querySelector(\\\"#container\\\"); return k.render(\\\"\\\\\\\\;\\\\\\\\;\\\",this.container)}));\\n    (WebIO.importBlock({\\\"data\\\":[{\\\"name\\\":null,\\\"type\\\":\\\"js\\\",\\\"url\\\":\\\"/assetserver/dd22ed1bf1896c2748f3fe616ce0b838adc895c1-katex.min.js\\\"},{\\\"name\\\":null,\\\"type\\\":\\\"css\\\",\\\"url\\\":\\\"/assetserver/46517a424aa5e6cffc1360d7e0848b601c584ee3-katex.min.css\\\"}],\\\"type\\\":\\\"async_block\\\"})).then((imports) => handler.apply(this, imports));\\n}\\n\")])], Dict{Symbol, Any}(:className => \"interact-widget\")), WebIO.Node{WebIO.DOM}(WebIO.DOM(:html, :div), Any[WebIO.Scope(WebIO.Node{WebIO.DOM}(WebIO.DOM(:html, :button), Any[\"reset\"], Dict{Symbol, Any}(:attributes => Dict{Any, Any}(\"data-bind\" => \"click: function (){this.clicks(this.clicks()+1)}, css: {'is-loading' : loading}\"), :className => \"is-medium button is-primary\", :style => Dict{String, Any}())), Dict{String, Tuple{Observables.AbstractObservable, Union{Nothing, Bool}}}(\"loading\" => (Observable(false), nothing), \"clicks\" => (Observable(0), nothing)), Set{String}(), nothing, WebIO.Asset[WebIO.Asset(\"js\", \"knockout\", \"/home/dushya/.julia/packages/Knockout/HReiN/src/../assets/knockout.js\"), WebIO.Asset(\"js\", \"knockout_punches\", \"/home/dushya/.julia/packages/Knockout/HReiN/src/../assets/knockout_punches.js\"), WebIO.Asset(\"js\", nothing, \"/home/dushya/.julia/packages/InteractBase/LJXv3/src/../assets/all.js\"), WebIO.Asset(\"css\", nothing, \"/home/dushya/.julia/packages/InteractBase/LJXv3/src/../assets/style.css\"), WebIO.Asset(\"css\", nothing, \"/home/dushya/.julia/packages/Interact/PENUy/src/../assets/bulma_confined.min.css\")], Dict{Any, Any}(\"loading\" => Any[WebIO.JSString(\"(function (val){return (val!=this.model[\\\"loading\\\"]()) ? (this.valueFromJulia[\\\"loading\\\"]=true, this.model[\\\"loading\\\"](val)) : undefined})\")], \"clicks\" => Any[WebIO.JSString(\"(function (val){return (val!=this.model[\\\"clicks\\\"]()) ? (this.valueFromJulia[\\\"clicks\\\"]=true, this.model[\\\"clicks\\\"](val)) : undefined})\")]), WebIO.ConnectionPool(Channel{Any}(32), Set{WebIO.AbstractConnection}(), Base.GenericCondition{ReentrantLock}(Base.IntrusiveLinkedList{Task}(Task (runnable) @0x00007f8dbde3b530, Task (runnable) @0x00007f8dbde3b530), ReentrantLock(nothing, 0x00000000, 0x00, Base.GenericCondition{Base.Threads.SpinLock}(Base.IntrusiveLinkedList{Task}(nothing, nothing), Base.Threads.SpinLock(0)), (8, 0, 141733920768)))), WebIO.JSString[WebIO.JSString(\"function () {\\n    var handler = (function (ko, koPunches) {\\n    ko.punches.enableAll();\\n    ko.bindingHandlers.numericValue = {\\n        init: function(element, valueAccessor, allBindings, data, context) {\\n            var stringified = ko.observable(ko.unwrap(valueAccessor()));\\n            stringified.subscribe(function(value) {\\n                var val = parseFloat(value);\\n                if (!isNaN(val)) {\\n                    valueAccessor()(val);\\n                }\\n            });\\n            valueAccessor().subscribe(function(value) {\\n                var str = JSON.stringify(value);\\n                if ((str == \\\"0\\\") && ([\\\"-0\\\", \\\"-0.\\\"].indexOf(stringified()) >= 0))\\n                     return;\\n                 if ([\\\"null\\\", \\\"\\\"].indexOf(str) >= 0)\\n                     return;\\n                stringified(str);\\n            });\\n            ko.applyBindingsToNode(\\n                element,\\n                {\\n                    value: stringified,\\n                    valueUpdate: allBindings.get('valueUpdate'),\\n                },\\n                context,\\n            );\\n        }\\n    };\\n    var json_data = {\\\"loading\\\":WebIO.getval({\\\"name\\\":\\\"loading\\\",\\\"scope\\\":\\\"3683292889822425855\\\",\\\"id\\\":\\\"4409631856211553009\\\",\\\"type\\\":\\\"observable\\\"}),\\\"clicks\\\":WebIO.getval({\\\"name\\\":\\\"clicks\\\",\\\"scope\\\":\\\"3683292889822425855\\\",\\\"id\\\":\\\"8849561032799228156\\\",\\\"type\\\":\\\"observable\\\"})};\\n    var self = this;\\n    function AppViewModel() {\\n        for (var key in json_data) {\\n            var el = json_data[key];\\n            this[key] = Array.isArray(el) ? ko.observableArray(el) : ko.observable(el);\\n        }\\n        \\n        \\n        [this[\\\"loading\\\"].subscribe((function (val){!(this.valueFromJulia[\\\"loading\\\"]) ? (WebIO.setval({\\\"name\\\":\\\"loading\\\",\\\"scope\\\":\\\"3683292889822425855\\\",\\\"id\\\":\\\"4409631856211553009\\\",\\\"type\\\":\\\"observable\\\"},val)) : undefined; return this.valueFromJulia[\\\"loading\\\"]=false}),self),this[\\\"clicks\\\"].subscribe((function (val){!(this.valueFromJulia[\\\"clicks\\\"]) ? (WebIO.setval({\\\"name\\\":\\\"clicks\\\",\\\"scope\\\":\\\"3683292889822425855\\\",\\\"id\\\":\\\"8849561032799228156\\\",\\\"type\\\":\\\"observable\\\"},val)) : undefined; return this.valueFromJulia[\\\"clicks\\\"]=false}),self)]\\n        \\n    }\\n    self.model = new AppViewModel();\\n    self.valueFromJulia = {};\\n    for (var key in json_data) {\\n        self.valueFromJulia[key] = false;\\n    }\\n    ko.applyBindings(self.model, self.dom);\\n}\\n);\\n    (WebIO.importBlock({\\\"data\\\":[{\\\"name\\\":\\\"knockout\\\",\\\"type\\\":\\\"js\\\",\\\"url\\\":\\\"/assetserver/727383f2a47bd31570b7da84eee7b022dd6d7c78-knockout.js\\\"},{\\\"name\\\":\\\"knockout_punches\\\",\\\"type\\\":\\\"js\\\",\\\"url\\\":\\\"/assetserver/382b41b3b1bd9f26f75861d360bad7f8beea211f-knockout_punches.js\\\"}],\\\"type\\\":\\\"async_block\\\"})).then((imports) => handler.apply(this, imports));\\n}\\n\")])], Dict{Symbol, Any}(:className => \"field interact-widget\")), WebIO.Node{WebIO.DOM}(WebIO.DOM(:html, :div), Any[WebIO.Scope(WebIO.Node{WebIO.DOM}(WebIO.DOM(:html, :div), Any[], Dict{Symbol, Any}(:id => \"container\")), Dict{String, Tuple{Observables.AbstractObservable, Union{Nothing, Bool}}}(\"value\" => (Observable(\"\\\\;\\\\;\"), nothing)), Set{String}(), nothing, WebIO.Asset[WebIO.Asset(\"js\", nothing, \"/home/dushya/.julia/packages/InteractBase/LJXv3/src/../assets/katex.min.js\"), WebIO.Asset(\"css\", nothing, \"/home/dushya/.julia/packages/InteractBase/LJXv3/src/../assets/katex.min.css\")], Dict{Any, Any}(\"value\" => Any[WebIO.JSString(\"(function (txt){return this.k.render(txt,this.container)})\")]), WebIO.ConnectionPool(Channel{Any}(32), Set{WebIO.AbstractConnection}(), Base.GenericCondition{ReentrantLock}(Base.IntrusiveLinkedList{Task}(Task (runnable) @0x00007f8d7c0c8c90, Task (runnable) @0x00007f8d7c0c8c90), ReentrantLock(nothing, 0x00000000, 0x00, Base.GenericCondition{Base.Threads.SpinLock}(Base.IntrusiveLinkedList{Task}(nothing, nothing), Base.Threads.SpinLock(0)), (8, 0, 141733920768)))), WebIO.JSString[WebIO.JSString(\"function () {\\n    var handler = ((function (k){this.k=k; this.container=this.dom.querySelector(\\\"#container\\\"); return k.render(\\\"\\\\\\\\;\\\\\\\\;\\\",this.container)}));\\n    (WebIO.importBlock({\\\"data\\\":[{\\\"name\\\":null,\\\"type\\\":\\\"js\\\",\\\"url\\\":\\\"/assetserver/dd22ed1bf1896c2748f3fe616ce0b838adc895c1-katex.min.js\\\"},{\\\"name\\\":null,\\\"type\\\":\\\"css\\\",\\\"url\\\":\\\"/assetserver/46517a424aa5e6cffc1360d7e0848b601c584ee3-katex.min.css\\\"}],\\\"type\\\":\\\"async_block\\\"})).then((imports) => handler.apply(this, imports));\\n}\\n\")])], Dict{Symbol, Any}(:className => \"interact-widget\")), WebIO.Node{WebIO.DOM}(WebIO.DOM(:html, :div), Any[WebIO.Scope(WebIO.Node{WebIO.DOM}(WebIO.DOM(:html, :button), Any[\"save\"], Dict{Symbol, Any}(:attributes => Dict{Any, Any}(\"data-bind\" => \"click: function (){this.clicks(this.clicks()+1)}, css: {'is-loading' : loading}\"), :className => \"is-medium button is-primary\", :style => Dict{String, Any}())), Dict{String, Tuple{Observables.AbstractObservable, Union{Nothing, Bool}}}(\"loading\" => (Observable(false), nothing), \"clicks\" => (Observable(0), nothing)), Set{String}(), nothing, WebIO.Asset[WebIO.Asset(\"js\", \"knockout\", \"/home/dushya/.julia/packages/Knockout/HReiN/src/../assets/knockout.js\"), WebIO.Asset(\"js\", \"knockout_punches\", \"/home/dushya/.julia/packages/Knockout/HReiN/src/../assets/knockout_punches.js\"), WebIO.Asset(\"js\", nothing, \"/home/dushya/.julia/packages/InteractBase/LJXv3/src/../assets/all.js\"), WebIO.Asset(\"css\", nothing, \"/home/dushya/.julia/packages/InteractBase/LJXv3/src/../assets/style.css\"), WebIO.Asset(\"css\", nothing, \"/home/dushya/.julia/packages/Interact/PENUy/src/../assets/bulma_confined.min.css\")], Dict{Any, Any}(\"loading\" => Any[WebIO.JSString(\"(function (val){return (val!=this.model[\\\"loading\\\"]()) ? (this.valueFromJulia[\\\"loading\\\"]=true, this.model[\\\"loading\\\"](val)) : undefined})\")], \"clicks\" => Any[WebIO.JSString(\"(function (val){return (val!=this.model[\\\"clicks\\\"]()) ? (this.valueFromJulia[\\\"clicks\\\"]=true, this.model[\\\"clicks\\\"](val)) : undefined})\")]), WebIO.ConnectionPool(Channel{Any}(32), Set{WebIO.AbstractConnection}(), Base.GenericCondition{ReentrantLock}(Base.IntrusiveLinkedList{Task}(Task (runnable) @0x00007f8dbdea6400, Task (runnable) @0x00007f8dbdea6400), ReentrantLock(nothing, 0x00000000, 0x00, Base.GenericCondition{Base.Threads.SpinLock}(Base.IntrusiveLinkedList{Task}(nothing, nothing), Base.Threads.SpinLock(0)), (8, 0, 139779710648320)))), WebIO.JSString[WebIO.JSString(\"function () {\\n    var handler = (function (ko, koPunches) {\\n    ko.punches.enableAll();\\n    ko.bindingHandlers.numericValue = {\\n        init: function(element, valueAccessor, allBindings, data, context) {\\n            var stringified = ko.observable(ko.unwrap(valueAccessor()));\\n            stringified.subscribe(function(value) {\\n                var val = parseFloat(value);\\n                if (!isNaN(val)) {\\n                    valueAccessor()(val);\\n                }\\n            });\\n            valueAccessor().subscribe(function(value) {\\n                var str = JSON.stringify(value);\\n                if ((str == \\\"0\\\") && ([\\\"-0\\\", \\\"-0.\\\"].indexOf(stringified()) >= 0))\\n                     return;\\n                 if ([\\\"null\\\", \\\"\\\"].indexOf(str) >= 0)\\n                     return;\\n                stringified(str);\\n            });\\n            ko.applyBindingsToNode(\\n                element,\\n                {\\n                    value: stringified,\\n                    valueUpdate: allBindings.get('valueUpdate'),\\n                },\\n                context,\\n            );\\n        }\\n    };\\n    var json_data = {\\\"loading\\\":WebIO.getval({\\\"name\\\":\\\"loading\\\",\\\"scope\\\":\\\"4263108089163422819\\\",\\\"id\\\":\\\"17651770771225279444\\\",\\\"type\\\":\\\"observable\\\"}),\\\"clicks\\\":WebIO.getval({\\\"name\\\":\\\"clicks\\\",\\\"scope\\\":\\\"4263108089163422819\\\",\\\"id\\\":\\\"9001533361102788110\\\",\\\"type\\\":\\\"observable\\\"})};\\n    var self = this;\\n    function AppViewModel() {\\n        for (var key in json_data) {\\n            var el = json_data[key];\\n            this[key] = Array.isArray(el) ? ko.observableArray(el) : ko.observable(el);\\n        }\\n        \\n        \\n        [this[\\\"loading\\\"].subscribe((function (val){!(this.valueFromJulia[\\\"loading\\\"]) ? (WebIO.setval({\\\"name\\\":\\\"loading\\\",\\\"scope\\\":\\\"4263108089163422819\\\",\\\"id\\\":\\\"17651770771225279444\\\",\\\"type\\\":\\\"observable\\\"},val)) : undefined; return this.valueFromJulia[\\\"loading\\\"]=false}),self),this[\\\"clicks\\\"].subscribe((function (val){!(this.valueFromJulia[\\\"clicks\\\"]) ? (WebIO.setval({\\\"name\\\":\\\"clicks\\\",\\\"scope\\\":\\\"4263108089163422819\\\",\\\"id\\\":\\\"9001533361102788110\\\",\\\"type\\\":\\\"observable\\\"},val)) : undefined; return this.valueFromJulia[\\\"clicks\\\"]=false}),self)]\\n        \\n    }\\n    self.model = new AppViewModel();\\n    self.valueFromJulia = {};\\n    for (var key in json_data) {\\n        self.valueFromJulia[key] = false;\\n    }\\n    ko.applyBindings(self.model, self.dom);\\n}\\n);\\n    (WebIO.importBlock({\\\"data\\\":[{\\\"name\\\":\\\"knockout\\\",\\\"type\\\":\\\"js\\\",\\\"url\\\":\\\"/assetserver/727383f2a47bd31570b7da84eee7b022dd6d7c78-knockout.js\\\"},{\\\"name\\\":\\\"knockout_punches\\\",\\\"type\\\":\\\"js\\\",\\\"url\\\":\\\"/assetserver/382b41b3b1bd9f26f75861d360bad7f8beea211f-knockout_punches.js\\\"}],\\\"type\\\":\\\"async_block\\\"})).then((imports) => handler.apply(this, imports));\\n}\\n\")])], Dict{Symbol, Any}(:className => \"field interact-widget\"))], Dict{Symbol, Any}(:style => Dict(\"display\" => \"flex\", \"flex-direction\" => \"row\")))], Dict{Symbol, Any}(:style => Dict(\"display\" => \"flex\", \"flex-direction\" => \"column\"))), WebIO.Node{WebIO.DOM}(WebIO.DOM(:html, :div), Any[WebIO.Scope(WebIO.Node{WebIO.DOM}(WebIO.DOM(:html, :div), Any[], Dict{Symbol, Any}(:id => \"container\")), Dict{String, Tuple{Observables.AbstractObservable, Union{Nothing, Bool}}}(\"value\" => (Observable(\"\\\\;\\\\;\"), nothing)), Set{String}(), nothing, WebIO.Asset[WebIO.Asset(\"js\", nothing, \"/home/dushya/.julia/packages/InteractBase/LJXv3/src/../assets/katex.min.js\"), WebIO.Asset(\"css\", nothing, \"/home/dushya/.julia/packages/InteractBase/LJXv3/src/../assets/katex.min.css\")], Dict{Any, Any}(\"value\" => Any[WebIO.JSString(\"(function (txt){return this.k.render(txt,this.container)})\")]), WebIO.ConnectionPool(Channel{Any}(32), Set{WebIO.AbstractConnection}(), Base.GenericCondition{ReentrantLock}(Base.IntrusiveLinkedList{Task}(Task (runnable) @0x00007f8d7c0c8c90, Task (runnable) @0x00007f8d7c0c8c90), ReentrantLock(nothing, 0x00000000, 0x00, Base.GenericCondition{Base.Threads.SpinLock}(Base.IntrusiveLinkedList{Task}(nothing, nothing), Base.Threads.SpinLock(0)), (8, 0, 141733920768)))), WebIO.JSString[WebIO.JSString(\"function () {\\n    var handler = ((function (k){this.k=k; this.container=this.dom.querySelector(\\\"#container\\\"); return k.render(\\\"\\\\\\\\;\\\\\\\\;\\\",this.container)}));\\n    (WebIO.importBlock({\\\"data\\\":[{\\\"name\\\":null,\\\"type\\\":\\\"js\\\",\\\"url\\\":\\\"/assetserver/dd22ed1bf1896c2748f3fe616ce0b838adc895c1-katex.min.js\\\"},{\\\"name\\\":null,\\\"type\\\":\\\"css\\\",\\\"url\\\":\\\"/assetserver/46517a424aa5e6cffc1360d7e0848b601c584ee3-katex.min.css\\\"}],\\\"type\\\":\\\"async_block\\\"})).then((imports) => handler.apply(this, imports));\\n}\\n\")])], Dict{Symbol, Any}(:className => \"interact-widget\")), Observable(Luxor.Drawing(430.0, 430.0, \"\", Cairo.CairoSurfaceBase{UInt32}(Ptr{Nothing} @0x0000000000000000, 430.0, 430.0), Cairo.CairoContext(Ptr{Nothing} @0x00000000066c6fe0, Cairo.CairoSurfaceBase{UInt32}(Ptr{Nothing} @0x0000000000000000, 430.0, 430.0), Ptr{Nothing} @0x0000000006304fd0), :png, 0.5, 0.5, 0.5, 0.5, IOBuffer(data=UInt8[...], readable=true, writable=true, seekable=true, append=false, size=9815, maxsize=Inf, ptr=9816, mark=-1), UInt8[0x89, 0x50, 0x4e, 0x47, 0x0d, 0x0a, 0x1a, 0x0a, 0x00, 0x00  …  0x00, 0x00, 0x49, 0x45, 0x4e, 0x44, 0xae, 0x42, 0x60, 0x82], false)), WebIO.Node{WebIO.DOM}(WebIO.DOM(:html, :div), Any[WebIO.Scope(WebIO.Node{WebIO.DOM}(WebIO.DOM(:html, :div), Any[], Dict{Symbol, Any}(:id => \"container\")), Dict{String, Tuple{Observables.AbstractObservable, Union{Nothing, Bool}}}(\"value\" => (Observable(\"\\\\;\\\\;\"), nothing)), Set{String}(), nothing, WebIO.Asset[WebIO.Asset(\"js\", nothing, \"/home/dushya/.julia/packages/InteractBase/LJXv3/src/../assets/katex.min.js\"), WebIO.Asset(\"css\", nothing, \"/home/dushya/.julia/packages/InteractBase/LJXv3/src/../assets/katex.min.css\")], Dict{Any, Any}(\"value\" => Any[WebIO.JSString(\"(function (txt){return this.k.render(txt,this.container)})\")]), WebIO.ConnectionPool(Channel{Any}(32), Set{WebIO.AbstractConnection}(), Base.GenericCondition{ReentrantLock}(Base.IntrusiveLinkedList{Task}(Task (runnable) @0x00007f8d7c0c8c90, Task (runnable) @0x00007f8d7c0c8c90), ReentrantLock(nothing, 0x00000000, 0x00, Base.GenericCondition{Base.Threads.SpinLock}(Base.IntrusiveLinkedList{Task}(nothing, nothing), Base.Threads.SpinLock(0)), (8, 0, 141733920768)))), WebIO.JSString[WebIO.JSString(\"function () {\\n    var handler = ((function (k){this.k=k; this.container=this.dom.querySelector(\\\"#container\\\"); return k.render(\\\"\\\\\\\\;\\\\\\\\;\\\",this.container)}));\\n    (WebIO.importBlock({\\\"data\\\":[{\\\"name\\\":null,\\\"type\\\":\\\"js\\\",\\\"url\\\":\\\"/assetserver/dd22ed1bf1896c2748f3fe616ce0b838adc895c1-katex.min.js\\\"},{\\\"name\\\":null,\\\"type\\\":\\\"css\\\",\\\"url\\\":\\\"/assetserver/46517a424aa5e6cffc1360d7e0848b601c584ee3-katex.min.css\\\"}],\\\"type\\\":\\\"async_block\\\"})).then((imports) => handler.apply(this, imports));\\n}\\n\")])], Dict{Symbol, Any}(:className => \"interact-widget\")), WebIO.Node{WebIO.DOM}(WebIO.DOM(:html, :div), Any[Observable(Plot{Plots.GRBackend() n=2})], Dict{Symbol, Any}(:style => Dict(\"display\" => \"flex\", \"flex-direction\" => \"column\")))], Dict{Symbol, Any}(:style => Dict(\"display\" => \"flex\", \"flex-direction\" => \"row\")))], Dict{Symbol, Any}(:style => Dict(\"display\" => \"flex\", \"flex-direction\" => \"column\")))"
      ]
     },
     "execution_count": 7,
     "metadata": {
      "application/vnd.webio.node+json": {
       "kernelId": "acd893cf-fe56-4a36-8800-d90aa0809521"
      }
     },
     "output_type": "execute_result"
    }
   ],
   "source": [
    "create_interactive_app(model, initialiser= initialiser!,\n",
    "    step_rule= step_rule!,\n",
    "    model_controls=[\n",
    "        (:wolf_birth_rate, \"slider\", 0:0.01:1.0),\n",
    "        (:sheep_birth_rate, \"slider\", 0.01:0.01:1.0),\n",
    "        (:initial_wolf_percent, \"slider\", 0.01:0.01:0.9),\n",
    "        (:wolves_kill_ability, \"slider\", 0.01:0.01:1.0),\n",
    "        (:grass_grow_prob, \"slider\", 0.01:0.01:0.5)\n",
    "        ], \n",
    "    agent_plots=Dict(\"sheep\"=> agent-> agent.atype == sheep ? 1 : 0, \n",
    "        \"wolf\"=> agent-> agent.atype == wolf ? 1 : 0),\n",
    "    frames=200, show_patches=true)"
   ]
  },
  {
   "cell_type": "markdown",
   "metadata": {},
   "source": [
    "\n",
    "## Step 4: Fetch Data \n",
    "\n",
    "We can fetch the number of wolves and sheeps at each time step as follows. "
   ]
  },
  {
   "cell_type": "code",
   "execution_count": 8,
   "metadata": {},
   "outputs": [
    {
     "data": {
      "image/png": "[encoded data removed]",
      "image/svg+xml": [
       "<?xml version=\"1.0\" encoding=\"utf-8\"?>\n",
       "<svg xmlns=\"http://www.w3.org/2000/svg\" xmlns:xlink=\"http://www.w3.org/1999/xlink\" width=\"600\" height=\"400\" viewBox=\"0 0 2400 1600\">\n",
       "<defs>\n",
       "  <clipPath id=\"clip200\">\n",
       "    <rect x=\"0\" y=\"0\" width=\"2400\" height=\"1600\"/>\n",
       "  </clipPath>\n",
       "</defs>\n",
       "<path clip-path=\"url(#clip200)\" d=\"M0 1600 L2400 1600 L2400 0 L0 0  Z\" fill=\"#ffffff\" fill-rule=\"evenodd\" fill-opacity=\"1\"/>\n",
       "<defs>\n",
       "  <clipPath id=\"clip201\">\n",
       "    <rect x=\"480\" y=\"0\" width=\"1681\" height=\"1600\"/>\n",
       "  </clipPath>\n",
       "</defs>\n",
       "<path clip-path=\"url(#clip200)\" d=\"M234.125 1423.18 L2352.76 1423.18 L2352.76 47.2441 L234.125 47.2441  Z\" fill=\"#ffffff\" fill-rule=\"evenodd\" fill-opacity=\"1\"/>\n",
       "<defs>\n",
       "  <clipPath id=\"clip202\">\n",
       "    <rect x=\"234\" y=\"47\" width=\"2120\" height=\"1377\"/>\n",
       "  </clipPath>\n",
       "</defs>\n",
       "<polyline clip-path=\"url(#clip202)\" style=\"stroke:#000000; stroke-linecap:round; stroke-linejoin:round; stroke-width:2; stroke-opacity:0.1; fill:none\" points=\"274.1,1423.18 274.1,47.2441 \"/>\n",
       "<polyline clip-path=\"url(#clip202)\" style=\"stroke:#000000; stroke-linecap:round; stroke-linejoin:round; stroke-width:2; stroke-opacity:0.1; fill:none\" points=\"773.777,1423.18 773.777,47.2441 \"/>\n",
       "<polyline clip-path=\"url(#clip202)\" style=\"stroke:#000000; stroke-linecap:round; stroke-linejoin:round; stroke-width:2; stroke-opacity:0.1; fill:none\" points=\"1273.45,1423.18 1273.45,47.2441 \"/>\n",
       "<polyline clip-path=\"url(#clip202)\" style=\"stroke:#000000; stroke-linecap:round; stroke-linejoin:round; stroke-width:2; stroke-opacity:0.1; fill:none\" points=\"1773.13,1423.18 1773.13,47.2441 \"/>\n",
       "<polyline clip-path=\"url(#clip202)\" style=\"stroke:#000000; stroke-linecap:round; stroke-linejoin:round; stroke-width:2; stroke-opacity:0.1; fill:none\" points=\"2272.81,1423.18 2272.81,47.2441 \"/>\n",
       "<polyline clip-path=\"url(#clip200)\" style=\"stroke:#000000; stroke-linecap:round; stroke-linejoin:round; stroke-width:4; stroke-opacity:1; fill:none\" points=\"234.125,1423.18 2352.76,1423.18 \"/>\n",
       "<polyline clip-path=\"url(#clip200)\" style=\"stroke:#000000; stroke-linecap:round; stroke-linejoin:round; stroke-width:4; stroke-opacity:1; fill:none\" points=\"274.1,1423.18 274.1,1404.28 \"/>\n",
       "<polyline clip-path=\"url(#clip200)\" style=\"stroke:#000000; stroke-linecap:round; stroke-linejoin:round; stroke-width:4; stroke-opacity:1; fill:none\" points=\"773.777,1423.18 773.777,1404.28 \"/>\n",
       "<polyline clip-path=\"url(#clip200)\" style=\"stroke:#000000; stroke-linecap:round; stroke-linejoin:round; stroke-width:4; stroke-opacity:1; fill:none\" points=\"1273.45,1423.18 1273.45,1404.28 \"/>\n",
       "<polyline clip-path=\"url(#clip200)\" style=\"stroke:#000000; stroke-linecap:round; stroke-linejoin:round; stroke-width:4; stroke-opacity:1; fill:none\" points=\"1773.13,1423.18 1773.13,1404.28 \"/>\n",
       "<polyline clip-path=\"url(#clip200)\" style=\"stroke:#000000; stroke-linecap:round; stroke-linejoin:round; stroke-width:4; stroke-opacity:1; fill:none\" points=\"2272.81,1423.18 2272.81,1404.28 \"/>\n",
       "<path clip-path=\"url(#clip200)\" d=\"M274.1 1454.1 Q270.489 1454.1 268.66 1457.66 Q266.854 1461.2 266.854 1468.33 Q266.854 1475.44 268.66 1479.01 Q270.489 1482.55 274.1 1482.55 Q277.734 1482.55 279.539 1479.01 Q281.368 1475.44 281.368 1468.33 Q281.368 1461.2 279.539 1457.66 Q277.734 1454.1 274.1 1454.1 M274.1 1450.39 Q279.91 1450.39 282.965 1455 Q286.044 1459.58 286.044 1468.33 Q286.044 1477.06 282.965 1481.67 Q279.91 1486.25 274.1 1486.25 Q268.289 1486.25 265.211 1481.67 Q262.155 1477.06 262.155 1468.33 Q262.155 1459.58 265.211 1455 Q268.289 1450.39 274.1 1450.39 Z\" fill=\"#000000\" fill-rule=\"nonzero\" fill-opacity=\"1\" /><path clip-path=\"url(#clip200)\" d=\"M753.048 1481.64 L769.367 1481.64 L769.367 1485.58 L747.423 1485.58 L747.423 1481.64 Q750.085 1478.89 754.668 1474.26 Q759.274 1469.61 760.455 1468.27 Q762.7 1465.74 763.58 1464.01 Q764.483 1462.25 764.483 1460.56 Q764.483 1457.8 762.538 1456.07 Q760.617 1454.33 757.515 1454.33 Q755.316 1454.33 752.862 1455.09 Q750.432 1455.86 747.654 1457.41 L747.654 1452.69 Q750.478 1451.55 752.932 1450.97 Q755.385 1450.39 757.423 1450.39 Q762.793 1450.39 765.987 1453.08 Q769.182 1455.77 769.182 1460.26 Q769.182 1462.39 768.372 1464.31 Q767.585 1466.2 765.478 1468.8 Q764.899 1469.47 761.798 1472.69 Q758.696 1475.88 753.048 1481.64 Z\" fill=\"#000000\" fill-rule=\"nonzero\" fill-opacity=\"1\" /><path clip-path=\"url(#clip200)\" d=\"M779.228 1451.02 L797.584 1451.02 L797.584 1454.96 L783.51 1454.96 L783.51 1463.43 Q784.529 1463.08 785.547 1462.92 Q786.566 1462.73 787.584 1462.73 Q793.371 1462.73 796.751 1465.9 Q800.131 1469.08 800.131 1474.49 Q800.131 1480.07 796.658 1483.17 Q793.186 1486.25 786.867 1486.25 Q784.691 1486.25 782.422 1485.88 Q780.177 1485.51 777.77 1484.77 L777.77 1480.07 Q779.853 1481.2 782.075 1481.76 Q784.297 1482.32 786.774 1482.32 Q790.779 1482.32 793.117 1480.21 Q795.455 1478.1 795.455 1474.49 Q795.455 1470.88 793.117 1468.77 Q790.779 1466.67 786.774 1466.67 Q784.899 1466.67 783.024 1467.08 Q781.172 1467.5 779.228 1468.38 L779.228 1451.02 Z\" fill=\"#000000\" fill-rule=\"nonzero\" fill-opacity=\"1\" /><path clip-path=\"url(#clip200)\" d=\"M1248.15 1451.02 L1266.51 1451.02 L1266.51 1454.96 L1252.44 1454.96 L1252.44 1463.43 Q1253.45 1463.08 1254.47 1462.92 Q1255.49 1462.73 1256.51 1462.73 Q1262.3 1462.73 1265.68 1465.9 Q1269.06 1469.08 1269.06 1474.49 Q1269.06 1480.07 1265.58 1483.17 Q1262.11 1486.25 1255.79 1486.25 Q1253.62 1486.25 1251.35 1485.88 Q1249.1 1485.51 1246.69 1484.77 L1246.69 1480.07 Q1248.78 1481.2 1251 1481.76 Q1253.22 1482.32 1255.7 1482.32 Q1259.7 1482.32 1262.04 1480.21 Q1264.38 1478.1 1264.38 1474.49 Q1264.38 1470.88 1262.04 1468.77 Q1259.7 1466.67 1255.7 1466.67 Q1253.82 1466.67 1251.95 1467.08 Q1250.1 1467.5 1248.15 1468.38 L1248.15 1451.02 Z\" fill=\"#000000\" fill-rule=\"nonzero\" fill-opacity=\"1\" /><path clip-path=\"url(#clip200)\" d=\"M1288.27 1454.1 Q1284.66 1454.1 1282.83 1457.66 Q1281.02 1461.2 1281.02 1468.33 Q1281.02 1475.44 1282.83 1479.01 Q1284.66 1482.55 1288.27 1482.55 Q1291.9 1482.55 1293.71 1479.01 Q1295.54 1475.44 1295.54 1468.33 Q1295.54 1461.2 1293.71 1457.66 Q1291.9 1454.1 1288.27 1454.1 M1288.27 1450.39 Q1294.08 1450.39 1297.13 1455 Q1300.21 1459.58 1300.21 1468.33 Q1300.21 1477.06 1297.13 1481.67 Q1294.08 1486.25 1288.27 1486.25 Q1282.46 1486.25 1279.38 1481.67 Q1276.32 1477.06 1276.32 1468.33 Q1276.32 1459.58 1279.38 1455 Q1282.46 1450.39 1288.27 1450.39 Z\" fill=\"#000000\" fill-rule=\"nonzero\" fill-opacity=\"1\" /><path clip-path=\"url(#clip200)\" d=\"M1746.98 1451.02 L1769.21 1451.02 L1769.21 1453.01 L1756.66 1485.58 L1751.78 1485.58 L1763.58 1454.96 L1746.98 1454.96 L1746.98 1451.02 Z\" fill=\"#000000\" fill-rule=\"nonzero\" fill-opacity=\"1\" /><path clip-path=\"url(#clip200)\" d=\"M1778.37 1451.02 L1796.73 1451.02 L1796.73 1454.96 L1782.66 1454.96 L1782.66 1463.43 Q1783.67 1463.08 1784.69 1462.92 Q1785.71 1462.73 1786.73 1462.73 Q1792.52 1462.73 1795.9 1465.9 Q1799.28 1469.08 1799.28 1474.49 Q1799.28 1480.07 1795.8 1483.17 Q1792.33 1486.25 1786.01 1486.25 Q1783.84 1486.25 1781.57 1485.88 Q1779.32 1485.51 1776.92 1484.77 L1776.92 1480.07 Q1779 1481.2 1781.22 1481.76 Q1783.44 1482.32 1785.92 1482.32 Q1789.92 1482.32 1792.26 1480.21 Q1794.6 1478.1 1794.6 1474.49 Q1794.6 1470.88 1792.26 1468.77 Q1789.92 1466.67 1785.92 1466.67 Q1784.04 1466.67 1782.17 1467.08 Q1780.32 1467.5 1778.37 1468.38 L1778.37 1451.02 Z\" fill=\"#000000\" fill-rule=\"nonzero\" fill-opacity=\"1\" /><path clip-path=\"url(#clip200)\" d=\"M2232.41 1481.64 L2240.05 1481.64 L2240.05 1455.28 L2231.74 1456.95 L2231.74 1452.69 L2240.01 1451.02 L2244.68 1451.02 L2244.68 1481.64 L2252.32 1481.64 L2252.32 1485.58 L2232.41 1485.58 L2232.41 1481.64 Z\" fill=\"#000000\" fill-rule=\"nonzero\" fill-opacity=\"1\" /><path clip-path=\"url(#clip200)\" d=\"M2271.77 1454.1 Q2268.15 1454.1 2266.33 1457.66 Q2264.52 1461.2 2264.52 1468.33 Q2264.52 1475.44 2266.33 1479.01 Q2268.15 1482.55 2271.77 1482.55 Q2275.4 1482.55 2277.21 1479.01 Q2279.03 1475.44 2279.03 1468.33 Q2279.03 1461.2 2277.21 1457.66 Q2275.4 1454.1 2271.77 1454.1 M2271.77 1450.39 Q2277.58 1450.39 2280.63 1455 Q2283.71 1459.58 2283.71 1468.33 Q2283.71 1477.06 2280.63 1481.67 Q2277.58 1486.25 2271.77 1486.25 Q2265.96 1486.25 2262.88 1481.67 Q2259.82 1477.06 2259.82 1468.33 Q2259.82 1459.58 2262.88 1455 Q2265.96 1450.39 2271.77 1450.39 Z\" fill=\"#000000\" fill-rule=\"nonzero\" fill-opacity=\"1\" /><path clip-path=\"url(#clip200)\" d=\"M2301.93 1454.1 Q2298.32 1454.1 2296.49 1457.66 Q2294.68 1461.2 2294.68 1468.33 Q2294.68 1475.44 2296.49 1479.01 Q2298.32 1482.55 2301.93 1482.55 Q2305.56 1482.55 2307.37 1479.01 Q2309.2 1475.44 2309.2 1468.33 Q2309.2 1461.2 2307.37 1457.66 Q2305.56 1454.1 2301.93 1454.1 M2301.93 1450.39 Q2307.74 1450.39 2310.79 1455 Q2313.87 1459.58 2313.87 1468.33 Q2313.87 1477.06 2310.79 1481.67 Q2307.74 1486.25 2301.93 1486.25 Q2296.12 1486.25 2293.04 1481.67 Q2289.98 1477.06 2289.98 1468.33 Q2289.98 1459.58 2293.04 1455 Q2296.12 1450.39 2301.93 1450.39 Z\" fill=\"#000000\" fill-rule=\"nonzero\" fill-opacity=\"1\" /><path clip-path=\"url(#clip200)\" d=\"M1230.48 1522.27 L1230.48 1532.4 L1242.55 1532.4 L1242.55 1536.95 L1230.48 1536.95 L1230.48 1556.3 Q1230.48 1560.66 1231.66 1561.9 Q1232.87 1563.14 1236.53 1563.14 L1242.55 1563.14 L1242.55 1568.04 L1236.53 1568.04 Q1229.75 1568.04 1227.17 1565.53 Q1224.6 1562.98 1224.6 1556.3 L1224.6 1536.95 L1220.3 1536.95 L1220.3 1532.4 L1224.6 1532.4 L1224.6 1522.27 L1230.48 1522.27 Z\" fill=\"#000000\" fill-rule=\"nonzero\" fill-opacity=\"1\" /><path clip-path=\"url(#clip200)\" d=\"M1250.25 1532.4 L1256.11 1532.4 L1256.11 1568.04 L1250.25 1568.04 L1250.25 1532.4 M1250.25 1518.52 L1256.11 1518.52 L1256.11 1525.93 L1250.25 1525.93 L1250.25 1518.52 Z\" fill=\"#000000\" fill-rule=\"nonzero\" fill-opacity=\"1\" /><path clip-path=\"url(#clip200)\" d=\"M1294.01 1533.76 L1294.01 1539.24 Q1291.53 1537.87 1289.02 1537.2 Q1286.53 1536.5 1283.99 1536.5 Q1278.29 1536.5 1275.14 1540.13 Q1271.99 1543.73 1271.99 1550.25 Q1271.99 1556.78 1275.14 1560.4 Q1278.29 1564 1283.99 1564 Q1286.53 1564 1289.02 1563.33 Q1291.53 1562.63 1294.01 1561.26 L1294.01 1566.68 Q1291.56 1567.82 1288.92 1568.39 Q1286.31 1568.97 1283.35 1568.97 Q1275.3 1568.97 1270.56 1563.91 Q1265.81 1558.85 1265.81 1550.25 Q1265.81 1541.53 1270.59 1536.53 Q1275.39 1531.54 1283.73 1531.54 Q1286.44 1531.54 1289.02 1532.11 Q1291.59 1532.65 1294.01 1533.76 Z\" fill=\"#000000\" fill-rule=\"nonzero\" fill-opacity=\"1\" /><path clip-path=\"url(#clip200)\" d=\"M1303.98 1518.52 L1309.86 1518.52 L1309.86 1547.77 L1327.34 1532.4 L1334.82 1532.4 L1315.91 1549.07 L1335.61 1568.04 L1327.97 1568.04 L1309.86 1550.63 L1309.86 1568.04 L1303.98 1568.04 L1303.98 1518.52 Z\" fill=\"#000000\" fill-rule=\"nonzero\" fill-opacity=\"1\" /><path clip-path=\"url(#clip200)\" d=\"M1364.67 1533.45 L1364.67 1538.98 Q1362.19 1537.71 1359.52 1537.07 Q1356.84 1536.44 1353.98 1536.44 Q1349.62 1536.44 1347.42 1537.77 Q1345.26 1539.11 1345.26 1541.79 Q1345.26 1543.82 1346.82 1545 Q1348.38 1546.15 1353.09 1547.2 L1355.09 1547.64 Q1361.33 1548.98 1363.94 1551.43 Q1366.58 1553.85 1366.58 1558.21 Q1366.58 1563.17 1362.64 1566.07 Q1358.72 1568.97 1351.85 1568.97 Q1348.98 1568.97 1345.86 1568.39 Q1342.77 1567.85 1339.34 1566.74 L1339.34 1560.69 Q1342.58 1562.38 1345.73 1563.24 Q1348.89 1564.07 1351.97 1564.07 Q1356.11 1564.07 1358.34 1562.66 Q1360.57 1561.23 1360.57 1558.65 Q1360.57 1556.27 1358.94 1554.99 Q1357.35 1553.72 1351.91 1552.54 L1349.87 1552.07 Q1344.43 1550.92 1342.01 1548.56 Q1339.59 1546.18 1339.59 1542.04 Q1339.59 1537.01 1343.16 1534.27 Q1346.72 1531.54 1353.28 1531.54 Q1356.52 1531.54 1359.39 1532.01 Q1362.25 1532.49 1364.67 1533.45 Z\" fill=\"#000000\" fill-rule=\"nonzero\" fill-opacity=\"1\" /><polyline clip-path=\"url(#clip202)\" style=\"stroke:#000000; stroke-linecap:round; stroke-linejoin:round; stroke-width:2; stroke-opacity:0.1; fill:none\" points=\"234.125,1332.57 2352.76,1332.57 \"/>\n",
       "<polyline clip-path=\"url(#clip202)\" style=\"stroke:#000000; stroke-linecap:round; stroke-linejoin:round; stroke-width:2; stroke-opacity:0.1; fill:none\" points=\"234.125,1009.68 2352.76,1009.68 \"/>\n",
       "<polyline clip-path=\"url(#clip202)\" style=\"stroke:#000000; stroke-linecap:round; stroke-linejoin:round; stroke-width:2; stroke-opacity:0.1; fill:none\" points=\"234.125,686.777 2352.76,686.777 \"/>\n",
       "<polyline clip-path=\"url(#clip202)\" style=\"stroke:#000000; stroke-linecap:round; stroke-linejoin:round; stroke-width:2; stroke-opacity:0.1; fill:none\" points=\"234.125,363.879 2352.76,363.879 \"/>\n",
       "<polyline clip-path=\"url(#clip200)\" style=\"stroke:#000000; stroke-linecap:round; stroke-linejoin:round; stroke-width:4; stroke-opacity:1; fill:none\" points=\"234.125,1423.18 234.125,47.2441 \"/>\n",
       "<polyline clip-path=\"url(#clip200)\" style=\"stroke:#000000; stroke-linecap:round; stroke-linejoin:round; stroke-width:4; stroke-opacity:1; fill:none\" points=\"234.125,1332.57 253.023,1332.57 \"/>\n",
       "<polyline clip-path=\"url(#clip200)\" style=\"stroke:#000000; stroke-linecap:round; stroke-linejoin:round; stroke-width:4; stroke-opacity:1; fill:none\" points=\"234.125,1009.68 253.023,1009.68 \"/>\n",
       "<polyline clip-path=\"url(#clip200)\" style=\"stroke:#000000; stroke-linecap:round; stroke-linejoin:round; stroke-width:4; stroke-opacity:1; fill:none\" points=\"234.125,686.777 253.023,686.777 \"/>\n",
       "<polyline clip-path=\"url(#clip200)\" style=\"stroke:#000000; stroke-linecap:round; stroke-linejoin:round; stroke-width:4; stroke-opacity:1; fill:none\" points=\"234.125,363.879 253.023,363.879 \"/>\n",
       "<path clip-path=\"url(#clip200)\" d=\"M146.066 1315.29 L164.422 1315.29 L164.422 1319.23 L150.348 1319.23 L150.348 1327.7 Q151.366 1327.35 152.385 1327.19 Q153.403 1327.01 154.422 1327.01 Q160.209 1327.01 163.589 1330.18 Q166.968 1333.35 166.968 1338.77 Q166.968 1344.35 163.496 1347.45 Q160.024 1350.53 153.704 1350.53 Q151.528 1350.53 149.26 1350.16 Q147.015 1349.79 144.607 1349.04 L144.607 1344.35 Q146.691 1345.48 148.913 1346.04 Q151.135 1346.59 153.612 1346.59 Q157.616 1346.59 159.954 1344.48 Q162.292 1342.38 162.292 1338.77 Q162.292 1335.16 159.954 1333.05 Q157.616 1330.94 153.612 1330.94 Q151.737 1330.94 149.862 1331.36 Q148.01 1331.78 146.066 1332.66 L146.066 1315.29 Z\" fill=\"#000000\" fill-rule=\"nonzero\" fill-opacity=\"1\" /><path clip-path=\"url(#clip200)\" d=\"M186.181 1318.37 Q182.57 1318.37 180.741 1321.94 Q178.936 1325.48 178.936 1332.61 Q178.936 1339.72 180.741 1343.28 Q182.57 1346.82 186.181 1346.82 Q189.815 1346.82 191.621 1343.28 Q193.45 1339.72 193.45 1332.61 Q193.45 1325.48 191.621 1321.94 Q189.815 1318.37 186.181 1318.37 M186.181 1314.67 Q191.991 1314.67 195.047 1319.28 Q198.125 1323.86 198.125 1332.61 Q198.125 1341.34 195.047 1345.94 Q191.991 1350.53 186.181 1350.53 Q180.371 1350.53 177.292 1345.94 Q174.237 1341.34 174.237 1332.61 Q174.237 1323.86 177.292 1319.28 Q180.371 1314.67 186.181 1314.67 Z\" fill=\"#000000\" fill-rule=\"nonzero\" fill-opacity=\"1\" /><path clip-path=\"url(#clip200)\" d=\"M116.668 1023.02 L124.306 1023.02 L124.306 996.655 L115.996 998.322 L115.996 994.062 L124.26 992.396 L128.936 992.396 L128.936 1023.02 L136.575 1023.02 L136.575 1026.96 L116.668 1026.96 L116.668 1023.02 Z\" fill=\"#000000\" fill-rule=\"nonzero\" fill-opacity=\"1\" /><path clip-path=\"url(#clip200)\" d=\"M156.019 995.475 Q152.408 995.475 150.579 999.039 Q148.774 1002.58 148.774 1009.71 Q148.774 1016.82 150.579 1020.38 Q152.408 1023.92 156.019 1023.92 Q159.653 1023.92 161.459 1020.38 Q163.288 1016.82 163.288 1009.71 Q163.288 1002.58 161.459 999.039 Q159.653 995.475 156.019 995.475 M156.019 991.771 Q161.829 991.771 164.885 996.377 Q167.964 1000.96 167.964 1009.71 Q167.964 1018.44 164.885 1023.04 Q161.829 1027.63 156.019 1027.63 Q150.209 1027.63 147.13 1023.04 Q144.075 1018.44 144.075 1009.71 Q144.075 1000.96 147.13 996.377 Q150.209 991.771 156.019 991.771 Z\" fill=\"#000000\" fill-rule=\"nonzero\" fill-opacity=\"1\" /><path clip-path=\"url(#clip200)\" d=\"M186.181 995.475 Q182.57 995.475 180.741 999.039 Q178.936 1002.58 178.936 1009.71 Q178.936 1016.82 180.741 1020.38 Q182.57 1023.92 186.181 1023.92 Q189.815 1023.92 191.621 1020.38 Q193.45 1016.82 193.45 1009.71 Q193.45 1002.58 191.621 999.039 Q189.815 995.475 186.181 995.475 M186.181 991.771 Q191.991 991.771 195.047 996.377 Q198.125 1000.96 198.125 1009.71 Q198.125 1018.44 195.047 1023.04 Q191.991 1027.63 186.181 1027.63 Q180.371 1027.63 177.292 1023.04 Q174.237 1018.44 174.237 1009.71 Q174.237 1000.96 177.292 996.377 Q180.371 991.771 186.181 991.771 Z\" fill=\"#000000\" fill-rule=\"nonzero\" fill-opacity=\"1\" /><path clip-path=\"url(#clip200)\" d=\"M116.668 700.122 L124.306 700.122 L124.306 673.756 L115.996 675.423 L115.996 671.164 L124.26 669.497 L128.936 669.497 L128.936 700.122 L136.575 700.122 L136.575 704.057 L116.668 704.057 L116.668 700.122 Z\" fill=\"#000000\" fill-rule=\"nonzero\" fill-opacity=\"1\" /><path clip-path=\"url(#clip200)\" d=\"M146.066 669.497 L164.422 669.497 L164.422 673.432 L150.348 673.432 L150.348 681.905 Q151.366 681.557 152.385 681.395 Q153.403 681.21 154.422 681.21 Q160.209 681.21 163.589 684.381 Q166.968 687.553 166.968 692.969 Q166.968 698.548 163.496 701.65 Q160.024 704.728 153.704 704.728 Q151.528 704.728 149.26 704.358 Q147.015 703.988 144.607 703.247 L144.607 698.548 Q146.691 699.682 148.913 700.238 Q151.135 700.793 153.612 700.793 Q157.616 700.793 159.954 698.687 Q162.292 696.58 162.292 692.969 Q162.292 689.358 159.954 687.252 Q157.616 685.145 153.612 685.145 Q151.737 685.145 149.862 685.562 Q148.01 685.979 146.066 686.858 L146.066 669.497 Z\" fill=\"#000000\" fill-rule=\"nonzero\" fill-opacity=\"1\" /><path clip-path=\"url(#clip200)\" d=\"M186.181 672.576 Q182.57 672.576 180.741 676.141 Q178.936 679.682 178.936 686.812 Q178.936 693.918 180.741 697.483 Q182.57 701.025 186.181 701.025 Q189.815 701.025 191.621 697.483 Q193.45 693.918 193.45 686.812 Q193.45 679.682 191.621 676.141 Q189.815 672.576 186.181 672.576 M186.181 668.872 Q191.991 668.872 195.047 673.479 Q198.125 678.062 198.125 686.812 Q198.125 695.539 195.047 700.145 Q191.991 704.728 186.181 704.728 Q180.371 704.728 177.292 700.145 Q174.237 695.539 174.237 686.812 Q174.237 678.062 177.292 673.479 Q180.371 668.872 186.181 668.872 Z\" fill=\"#000000\" fill-rule=\"nonzero\" fill-opacity=\"1\" /><path clip-path=\"url(#clip200)\" d=\"M119.885 377.223 L136.204 377.223 L136.204 381.159 L114.26 381.159 L114.26 377.223 Q116.922 374.469 121.505 369.839 Q126.112 365.186 127.292 363.844 Q129.538 361.321 130.417 359.585 Q131.32 357.825 131.32 356.136 Q131.32 353.381 129.376 351.645 Q127.455 349.909 124.353 349.909 Q122.154 349.909 119.7 350.673 Q117.269 351.436 114.492 352.987 L114.492 348.265 Q117.316 347.131 119.769 346.552 Q122.223 345.974 124.26 345.974 Q129.63 345.974 132.825 348.659 Q136.019 351.344 136.019 355.835 Q136.019 357.964 135.209 359.885 Q134.422 361.784 132.316 364.376 Q131.737 365.047 128.635 368.265 Q125.533 371.459 119.885 377.223 Z\" fill=\"#000000\" fill-rule=\"nonzero\" fill-opacity=\"1\" /><path clip-path=\"url(#clip200)\" d=\"M156.019 349.677 Q152.408 349.677 150.579 353.242 Q148.774 356.784 148.774 363.913 Q148.774 371.02 150.579 374.584 Q152.408 378.126 156.019 378.126 Q159.653 378.126 161.459 374.584 Q163.288 371.02 163.288 363.913 Q163.288 356.784 161.459 353.242 Q159.653 349.677 156.019 349.677 M156.019 345.974 Q161.829 345.974 164.885 350.58 Q167.964 355.163 167.964 363.913 Q167.964 372.64 164.885 377.246 Q161.829 381.83 156.019 381.83 Q150.209 381.83 147.13 377.246 Q144.075 372.64 144.075 363.913 Q144.075 355.163 147.13 350.58 Q150.209 345.974 156.019 345.974 Z\" fill=\"#000000\" fill-rule=\"nonzero\" fill-opacity=\"1\" /><path clip-path=\"url(#clip200)\" d=\"M186.181 349.677 Q182.57 349.677 180.741 353.242 Q178.936 356.784 178.936 363.913 Q178.936 371.02 180.741 374.584 Q182.57 378.126 186.181 378.126 Q189.815 378.126 191.621 374.584 Q193.45 371.02 193.45 363.913 Q193.45 356.784 191.621 353.242 Q189.815 349.677 186.181 349.677 M186.181 345.974 Q191.991 345.974 195.047 350.58 Q198.125 355.163 198.125 363.913 Q198.125 372.64 195.047 377.246 Q191.991 381.83 186.181 381.83 Q180.371 381.83 177.292 377.246 Q174.237 372.64 174.237 363.913 Q174.237 355.163 177.292 350.58 Q180.371 345.974 186.181 345.974 Z\" fill=\"#000000\" fill-rule=\"nonzero\" fill-opacity=\"1\" /><path clip-path=\"url(#clip200)\" d=\"M42.4881 991.273 L64.0042 991.273 L64.0042 997.129 L42.679 997.129 Q37.6183 997.129 35.1038 999.102 Q32.5894 1001.08 32.5894 1005.02 Q32.5894 1009.76 35.6131 1012.5 Q38.6368 1015.24 43.8567 1015.24 L64.0042 1015.24 L64.0042 1021.13 L28.3562 1021.13 L28.3562 1015.24 L33.8944 1015.24 Q30.6797 1013.14 29.0883 1010.31 Q27.4968 1007.44 27.4968 1003.72 Q27.4968 997.575 31.3163 994.424 Q35.1038 991.273 42.4881 991.273 Z\" fill=\"#000000\" fill-rule=\"nonzero\" fill-opacity=\"1\" /><path clip-path=\"url(#clip200)\" d=\"M49.9359 980.196 L28.3562 980.196 L28.3562 974.34 L49.7131 974.34 Q54.7739 974.34 57.3202 972.366 Q59.8346 970.393 59.8346 966.446 Q59.8346 961.704 56.8109 958.967 Q53.7872 956.197 48.5673 956.197 L28.3562 956.197 L28.3562 950.341 L64.0042 950.341 L64.0042 956.197 L58.5296 956.197 Q61.7762 958.33 63.3676 961.163 Q64.9272 963.964 64.9272 967.688 Q64.9272 973.83 61.1078 977.013 Q57.2883 980.196 49.9359 980.196 M27.4968 965.46 L27.4968 965.46 Z\" fill=\"#000000\" fill-rule=\"nonzero\" fill-opacity=\"1\" /><path clip-path=\"url(#clip200)\" d=\"M35.1993 910.524 Q31.2526 908.327 29.3747 905.272 Q27.4968 902.216 27.4968 898.079 Q27.4968 892.509 31.4117 889.485 Q35.2948 886.461 42.4881 886.461 L64.0042 886.461 L64.0042 892.349 L42.679 892.349 Q37.5546 892.349 35.072 894.164 Q32.5894 895.978 32.5894 899.702 Q32.5894 904.253 35.6131 906.895 Q38.6368 909.537 43.8567 909.537 L64.0042 909.537 L64.0042 915.425 L42.679 915.425 Q37.5228 915.425 35.072 917.239 Q32.5894 919.054 32.5894 922.841 Q32.5894 927.329 35.6449 929.971 Q38.6686 932.613 43.8567 932.613 L64.0042 932.613 L64.0042 938.501 L28.3562 938.501 L28.3562 932.613 L33.8944 932.613 Q30.616 930.607 29.0564 927.806 Q27.4968 925.006 27.4968 921.154 Q27.4968 917.271 29.4702 914.566 Q31.4436 911.828 35.1993 910.524 Z\" fill=\"#000000\" fill-rule=\"nonzero\" fill-opacity=\"1\" /><path clip-path=\"url(#clip200)\" d=\"M46.212 849.19 Q39.7508 849.19 36.0905 851.864 Q32.3984 854.505 32.3984 859.152 Q32.3984 863.799 36.0905 866.473 Q39.7508 869.115 46.212 869.115 Q52.6732 869.115 56.3653 866.473 Q60.0256 863.799 60.0256 859.152 Q60.0256 854.505 56.3653 851.864 Q52.6732 849.19 46.212 849.19 M33.7671 869.115 Q30.5842 867.269 29.0564 864.468 Q27.4968 861.635 27.4968 857.72 Q27.4968 851.227 32.6531 847.185 Q37.8093 843.111 46.212 843.111 Q54.6147 843.111 59.771 847.185 Q64.9272 851.227 64.9272 857.72 Q64.9272 861.635 63.3994 864.468 Q61.8398 867.269 58.657 869.115 L64.0042 869.115 L64.0042 875.003 L14.479 875.003 L14.479 869.115 L33.7671 869.115 Z\" fill=\"#000000\" fill-rule=\"nonzero\" fill-opacity=\"1\" /><path clip-path=\"url(#clip200)\" d=\"M44.7161 802.911 L47.5806 802.911 L47.5806 829.838 Q53.6281 829.456 56.8109 826.21 Q59.9619 822.931 59.9619 817.107 Q59.9619 813.733 59.1344 810.582 Q58.3069 807.399 56.6518 804.28 L62.1899 804.28 Q63.5267 807.431 64.227 810.741 Q64.9272 814.051 64.9272 817.457 Q64.9272 825.987 59.9619 830.984 Q54.9967 835.949 46.5303 835.949 Q37.7774 835.949 32.6531 831.239 Q27.4968 826.496 27.4968 818.475 Q27.4968 811.282 32.1438 807.113 Q36.7589 802.911 44.7161 802.911 M42.9973 808.768 Q38.1912 808.831 35.3266 811.473 Q32.4621 814.083 32.4621 818.412 Q32.4621 823.313 35.2312 826.273 Q38.0002 829.202 43.0292 829.647 L42.9973 808.768 Z\" fill=\"#000000\" fill-rule=\"nonzero\" fill-opacity=\"1\" /><path clip-path=\"url(#clip200)\" d=\"M33.8307 772.642 Q33.2578 773.629 33.0032 774.807 Q32.7167 775.952 32.7167 777.353 Q32.7167 782.318 35.9632 784.992 Q39.1779 787.634 45.2253 787.634 L64.0042 787.634 L64.0042 793.522 L28.3562 793.522 L28.3562 787.634 L33.8944 787.634 Q30.6479 785.788 29.0883 782.827 Q27.4968 779.867 27.4968 775.634 Q27.4968 775.029 27.5923 774.297 Q27.656 773.565 27.8151 772.674 L33.8307 772.642 Z\" fill=\"#000000\" fill-rule=\"nonzero\" fill-opacity=\"1\" /><path clip-path=\"url(#clip200)\" d=\"M32.4621 731.965 Q32.4621 736.676 36.1542 739.413 Q39.8145 742.151 46.212 742.151 Q52.6095 742.151 56.3017 739.445 Q59.9619 736.708 59.9619 731.965 Q59.9619 727.287 56.2698 724.549 Q52.5777 721.812 46.212 721.812 Q39.8781 721.812 36.186 724.549 Q32.4621 727.287 32.4621 731.965 M27.4968 731.965 Q27.4968 724.327 32.4621 719.966 Q37.4273 715.606 46.212 715.606 Q54.9649 715.606 59.9619 719.966 Q64.9272 724.327 64.9272 731.965 Q64.9272 739.636 59.9619 743.997 Q54.9649 748.325 46.212 748.325 Q37.4273 748.325 32.4621 743.997 Q27.4968 739.636 27.4968 731.965 Z\" fill=\"#000000\" fill-rule=\"nonzero\" fill-opacity=\"1\" /><path clip-path=\"url(#clip200)\" d=\"M14.479 687.851 L19.3487 687.851 L19.3487 693.453 Q19.3487 696.604 20.6219 697.845 Q21.895 699.055 25.2052 699.055 L28.3562 699.055 L28.3562 689.411 L32.9077 689.411 L32.9077 699.055 L64.0042 699.055 L64.0042 704.943 L32.9077 704.943 L32.9077 710.545 L28.3562 710.545 L28.3562 704.943 L25.8736 704.943 Q19.9216 704.943 17.2162 702.174 Q14.479 699.405 14.479 693.389 L14.479 687.851 Z\" fill=\"#000000\" fill-rule=\"nonzero\" fill-opacity=\"1\" /><path clip-path=\"url(#clip200)\" d=\"M46.0847 646.028 Q46.0847 653.126 47.7079 655.863 Q49.3312 658.601 53.2461 658.601 Q56.3653 658.601 58.2114 656.564 Q60.0256 654.495 60.0256 650.962 Q60.0256 646.092 56.5881 643.164 Q53.1188 640.204 47.3897 640.204 L46.0847 640.204 L46.0847 646.028 M43.6657 634.347 L64.0042 634.347 L64.0042 640.204 L58.5933 640.204 Q61.8398 642.209 63.3994 645.201 Q64.9272 648.193 64.9272 652.521 Q64.9272 657.996 61.8716 661.242 Q58.7843 664.457 53.6281 664.457 Q47.6125 664.457 44.5569 660.447 Q41.5014 656.405 41.5014 648.416 L41.5014 640.204 L40.9285 640.204 Q36.8862 640.204 34.6901 642.877 Q32.4621 645.519 32.4621 650.325 Q32.4621 653.381 33.1941 656.277 Q33.9262 659.174 35.3903 661.847 L29.9795 661.847 Q28.7381 658.633 28.1334 655.609 Q27.4968 652.585 27.4968 649.721 Q27.4968 641.986 31.5072 638.167 Q35.5176 634.347 43.6657 634.347 Z\" fill=\"#000000\" fill-rule=\"nonzero\" fill-opacity=\"1\" /><path clip-path=\"url(#clip200)\" d=\"M45.7664 598.827 Q39.4007 598.827 35.8996 601.468 Q32.3984 604.078 32.3984 608.821 Q32.3984 613.531 35.8996 616.173 Q39.4007 618.783 45.7664 618.783 Q52.1003 618.783 55.6014 616.173 Q59.1026 613.531 59.1026 608.821 Q59.1026 604.078 55.6014 601.468 Q52.1003 598.827 45.7664 598.827 M59.58 592.97 Q68.683 592.97 73.1071 597.012 Q77.5631 601.055 77.5631 609.394 Q77.5631 612.481 77.0857 615.218 Q76.6401 617.956 75.6852 620.534 L69.9879 620.534 Q71.3884 617.956 72.0568 615.441 Q72.7252 612.927 72.7252 610.317 Q72.7252 604.556 69.7015 601.691 Q66.7096 598.827 60.6303 598.827 L57.7339 598.827 Q60.885 600.641 62.4446 603.474 Q64.0042 606.306 64.0042 610.253 Q64.0042 616.81 59.0071 620.82 Q54.01 624.831 45.7664 624.831 Q37.491 624.831 32.4939 620.82 Q27.4968 616.81 27.4968 610.253 Q27.4968 606.306 29.0564 603.474 Q30.616 600.641 33.7671 598.827 L28.3562 598.827 L28.3562 592.97 L59.58 592.97 Z\" fill=\"#000000\" fill-rule=\"nonzero\" fill-opacity=\"1\" /><path clip-path=\"url(#clip200)\" d=\"M44.7161 550.416 L47.5806 550.416 L47.5806 577.342 Q53.6281 576.961 56.8109 573.714 Q59.9619 570.436 59.9619 564.611 Q59.9619 561.237 59.1344 558.086 Q58.3069 554.903 56.6518 551.784 L62.1899 551.784 Q63.5267 554.935 64.227 558.245 Q64.9272 561.555 64.9272 564.961 Q64.9272 573.491 59.9619 578.488 Q54.9967 583.454 46.5303 583.454 Q37.7774 583.454 32.6531 578.743 Q27.4968 574 27.4968 565.98 Q27.4968 558.786 32.1438 554.617 Q36.7589 550.416 44.7161 550.416 M42.9973 556.272 Q38.1912 556.336 35.3266 558.977 Q32.4621 561.587 32.4621 565.916 Q32.4621 570.818 35.2312 573.778 Q38.0002 576.706 43.0292 577.151 L42.9973 556.272 Z\" fill=\"#000000\" fill-rule=\"nonzero\" fill-opacity=\"1\" /><path clip-path=\"url(#clip200)\" d=\"M42.4881 511.171 L64.0042 511.171 L64.0042 517.027 L42.679 517.027 Q37.6183 517.027 35.1038 519.001 Q32.5894 520.974 32.5894 524.921 Q32.5894 529.663 35.6131 532.401 Q38.6368 535.138 43.8567 535.138 L64.0042 535.138 L64.0042 541.026 L28.3562 541.026 L28.3562 535.138 L33.8944 535.138 Q30.6797 533.037 29.0883 530.204 Q27.4968 527.34 27.4968 523.616 Q27.4968 517.473 31.3163 514.322 Q35.1038 511.171 42.4881 511.171 Z\" fill=\"#000000\" fill-rule=\"nonzero\" fill-opacity=\"1\" /><path clip-path=\"url(#clip200)\" d=\"M18.2347 493.697 L28.3562 493.697 L28.3562 481.634 L32.9077 481.634 L32.9077 493.697 L52.2594 493.697 Q56.6199 493.697 57.8613 492.519 Q59.1026 491.31 59.1026 487.65 L59.1026 481.634 L64.0042 481.634 L64.0042 487.65 Q64.0042 494.429 61.4897 497.007 Q58.9434 499.585 52.2594 499.585 L32.9077 499.585 L32.9077 503.882 L28.3562 503.882 L28.3562 499.585 L18.2347 499.585 L18.2347 493.697 Z\" fill=\"#000000\" fill-rule=\"nonzero\" fill-opacity=\"1\" /><path clip-path=\"url(#clip200)\" d=\"M29.4065 451.206 L34.9447 451.206 Q33.6716 453.689 33.035 456.362 Q32.3984 459.036 32.3984 461.9 Q32.3984 466.261 33.7352 468.457 Q35.072 470.621 37.7456 470.621 Q39.7826 470.621 40.9603 469.062 Q42.1061 467.502 43.1565 462.792 L43.6021 460.786 Q44.9389 454.548 47.3897 451.938 Q49.8086 449.296 54.1691 449.296 Q59.1344 449.296 62.0308 453.243 Q64.9272 457.158 64.9272 464.033 Q64.9272 466.897 64.3543 470.017 Q63.8132 473.104 62.6992 476.541 L56.6518 476.541 Q58.3387 473.295 59.198 470.144 Q60.0256 466.993 60.0256 463.906 Q60.0256 459.768 58.6251 457.54 Q57.1929 455.312 54.6147 455.312 Q52.2276 455.312 50.9545 456.935 Q49.6813 458.527 48.5037 463.969 L48.0262 466.006 Q46.8804 471.449 44.5251 473.868 Q42.138 476.287 38.0002 476.287 Q32.9713 476.287 30.2341 472.722 Q27.4968 469.157 27.4968 462.601 Q27.4968 459.354 27.9743 456.49 Q28.4517 453.625 29.4065 451.206 Z\" fill=\"#000000\" fill-rule=\"nonzero\" fill-opacity=\"1\" /><polyline clip-path=\"url(#clip202)\" style=\"stroke:#009af9; stroke-linecap:round; stroke-linejoin:round; stroke-width:4; stroke-opacity:1; fill:none\" points=\"294.087,583.45 314.074,538.244 334.061,512.412 354.048,473.664 374.035,454.29 394.022,402.626 414.009,389.71 433.996,383.252 453.983,376.794 473.97,357.421 493.957,305.757 513.945,318.673 533.932,292.841 553.919,286.383 573.906,279.925 593.893,279.925 613.88,299.299 633.867,292.841 653.854,292.841 673.841,279.925 693.828,267.009 713.815,241.177 733.802,221.803 753.79,202.429 773.777,189.513 793.764,195.971 813.751,183.055 833.738,170.139 853.725,189.513 873.712,183.055 893.699,183.055 913.686,189.513 933.673,183.055 953.66,150.765 973.647,144.307 993.634,137.849 1013.62,150.765 1033.61,157.223 1053.6,176.597 1073.58,157.223 1093.57,137.849 1113.56,118.476 1133.54,112.018 1153.53,105.56 1173.52,92.6436 1193.51,86.1857 1213.49,105.56 1233.48,131.391 1253.47,118.476 1273.45,118.476 1293.44,105.56 1313.43,157.223 1333.41,157.223 1353.4,176.597 1373.39,183.055 1393.38,157.223 1413.36,157.223 1433.35,131.391 1453.34,150.765 1473.32,189.513 1493.31,183.055 1513.3,176.597 1533.29,176.597 1553.27,195.971 1573.26,221.803 1593.25,234.719 1613.23,260.551 1633.22,273.467 1653.21,325.131 1673.2,331.589 1693.18,338.047 1713.17,350.963 1733.16,383.252 1753.14,389.71 1773.13,415.542 1793.12,428.458 1813.1,467.206 1833.09,467.206 1853.08,480.122 1873.07,518.87 1893.05,538.244 1913.04,544.702 1933.03,557.618 1953.01,583.45 1973,596.366 1992.99,622.197 2012.98,628.655 2032.96,667.403 2052.95,693.235 2072.94,712.609 2092.92,706.151 2112.91,738.441 2132.9,712.609 2152.89,738.441 2172.87,757.815 2192.86,809.479 2212.85,828.853 2232.83,854.684 2252.82,893.432 2272.81,886.974 2292.79,906.348 \"/>\n",
       "<polyline clip-path=\"url(#clip202)\" style=\"stroke:#e26f46; stroke-linecap:round; stroke-linejoin:round; stroke-width:4; stroke-opacity:1; fill:none\" points=\"294.087,1384.24 314.074,1384.24 334.061,1384.24 354.048,1377.78 374.035,1377.78 394.022,1377.78 414.009,1377.78 433.996,1371.32 453.983,1358.41 473.97,1358.41 493.957,1358.41 513.945,1358.41 533.932,1358.41 553.919,1358.41 573.906,1358.41 593.893,1358.41 613.88,1351.95 633.867,1351.95 653.854,1351.95 673.841,1351.95 693.828,1351.95 713.815,1351.95 733.802,1351.95 753.79,1351.95 773.777,1351.95 793.764,1351.95 813.751,1339.03 833.738,1332.57 853.725,1332.57 873.712,1332.57 893.699,1332.57 913.686,1332.57 933.673,1332.57 953.66,1332.57 973.647,1332.57 993.634,1332.57 1013.62,1326.12 1033.61,1326.12 1053.6,1326.12 1073.58,1326.12 1093.57,1326.12 1113.56,1319.66 1133.54,1306.74 1153.53,1300.28 1173.52,1293.83 1193.51,1293.83 1213.49,1287.37 1233.48,1287.37 1253.47,1287.37 1273.45,1287.37 1293.44,1287.37 1313.43,1287.37 1333.41,1287.37 1353.4,1287.37 1373.39,1287.37 1393.38,1287.37 1413.36,1280.91 1433.35,1280.91 1453.34,1280.91 1473.32,1280.91 1493.31,1274.45 1513.3,1267.99 1533.29,1267.99 1553.27,1267.99 1573.26,1267.99 1593.25,1248.62 1613.23,1248.62 1633.22,1248.62 1653.21,1242.16 1673.2,1242.16 1693.18,1242.16 1713.17,1242.16 1733.16,1242.16 1753.14,1242.16 1773.13,1235.7 1793.12,1235.7 1813.1,1235.7 1833.09,1229.25 1853.08,1229.25 1873.07,1229.25 1893.05,1229.25 1913.04,1229.25 1933.03,1229.25 1953.01,1229.25 1973,1229.25 1992.99,1229.25 2012.98,1229.25 2032.96,1229.25 2052.95,1229.25 2072.94,1229.25 2092.92,1222.79 2112.91,1222.79 2132.9,1222.79 2152.89,1216.33 2172.87,1216.33 2192.86,1209.87 2212.85,1209.87 2232.83,1203.42 2252.82,1203.42 2272.81,1203.42 2292.79,1203.42 \"/>\n",
       "<path clip-path=\"url(#clip200)\" d=\"M1927.43 248.629 L2282.13 248.629 L2282.13 93.1086 L1927.43 93.1086  Z\" fill=\"#ffffff\" fill-rule=\"evenodd\" fill-opacity=\"1\"/>\n",
       "<polyline clip-path=\"url(#clip200)\" style=\"stroke:#000000; stroke-linecap:round; stroke-linejoin:round; stroke-width:4; stroke-opacity:1; fill:none\" points=\"1927.43,248.629 2282.13,248.629 2282.13,93.1086 1927.43,93.1086 1927.43,248.629 \"/>\n",
       "<polyline clip-path=\"url(#clip200)\" style=\"stroke:#009af9; stroke-linecap:round; stroke-linejoin:round; stroke-width:4; stroke-opacity:1; fill:none\" points=\"1950.97,144.949 2092.21,144.949 \"/>\n",
       "<path clip-path=\"url(#clip200)\" d=\"M2137.99 128.803 L2137.99 133.363 Q2135.33 132.09 2132.97 131.465 Q2130.61 130.84 2128.41 130.84 Q2124.59 130.84 2122.51 132.321 Q2120.45 133.803 2120.45 136.534 Q2120.45 138.826 2121.81 140.007 Q2123.2 141.164 2127.04 141.882 L2129.87 142.46 Q2135.1 143.456 2137.58 145.979 Q2140.08 148.479 2140.08 152.692 Q2140.08 157.715 2136.7 160.307 Q2133.34 162.9 2126.84 162.9 Q2124.38 162.9 2121.6 162.344 Q2118.85 161.789 2115.89 160.701 L2115.89 155.886 Q2118.73 157.483 2121.47 158.293 Q2124.2 159.104 2126.84 159.104 Q2130.84 159.104 2133.02 157.53 Q2135.19 155.956 2135.19 153.039 Q2135.19 150.493 2133.62 149.057 Q2132.07 147.622 2128.5 146.905 L2125.66 146.349 Q2120.42 145.307 2118.09 143.085 Q2115.75 140.863 2115.75 136.905 Q2115.75 132.321 2118.97 129.682 Q2122.21 127.044 2127.88 127.044 Q2130.31 127.044 2132.83 127.483 Q2135.35 127.923 2137.99 128.803 Z\" fill=\"#000000\" fill-rule=\"nonzero\" fill-opacity=\"1\" /><path clip-path=\"url(#clip200)\" d=\"M2168.73 146.581 L2168.73 162.229 L2164.47 162.229 L2164.47 146.719 Q2164.47 143.039 2163.04 141.21 Q2161.6 139.382 2158.73 139.382 Q2155.28 139.382 2153.29 141.581 Q2151.3 143.78 2151.3 147.576 L2151.3 162.229 L2147.02 162.229 L2147.02 126.21 L2151.3 126.21 L2151.3 140.331 Q2152.83 137.993 2154.89 136.835 Q2156.97 135.678 2159.68 135.678 Q2164.15 135.678 2166.44 138.456 Q2168.73 141.21 2168.73 146.581 Z\" fill=\"#000000\" fill-rule=\"nonzero\" fill-opacity=\"1\" /><path clip-path=\"url(#clip200)\" d=\"M2199.41 148.201 L2199.41 150.284 L2179.82 150.284 Q2180.1 154.682 2182.46 156.997 Q2184.84 159.289 2189.08 159.289 Q2191.53 159.289 2193.83 158.687 Q2196.14 158.085 2198.41 156.881 L2198.41 160.909 Q2196.12 161.881 2193.71 162.391 Q2191.3 162.9 2188.83 162.9 Q2182.62 162.9 2178.99 159.289 Q2175.38 155.678 2175.38 149.52 Q2175.38 143.155 2178.8 139.428 Q2182.25 135.678 2188.09 135.678 Q2193.32 135.678 2196.35 139.057 Q2199.41 142.414 2199.41 148.201 M2195.15 146.951 Q2195.1 143.456 2193.18 141.372 Q2191.28 139.289 2188.13 139.289 Q2184.57 139.289 2182.41 141.303 Q2180.28 143.317 2179.96 146.974 L2195.15 146.951 Z\" fill=\"#000000\" fill-rule=\"nonzero\" fill-opacity=\"1\" /><path clip-path=\"url(#clip200)\" d=\"M2228.57 148.201 L2228.57 150.284 L2208.99 150.284 Q2209.27 154.682 2211.63 156.997 Q2214.01 159.289 2218.25 159.289 Q2220.7 159.289 2222.99 158.687 Q2225.31 158.085 2227.58 156.881 L2227.58 160.909 Q2225.28 161.881 2222.88 162.391 Q2220.47 162.9 2217.99 162.9 Q2211.79 162.9 2208.16 159.289 Q2204.54 155.678 2204.54 149.52 Q2204.54 143.155 2207.97 139.428 Q2211.42 135.678 2217.25 135.678 Q2222.48 135.678 2225.52 139.057 Q2228.57 142.414 2228.57 148.201 M2224.31 146.951 Q2224.27 143.456 2222.34 141.372 Q2220.45 139.289 2217.3 139.289 Q2213.73 139.289 2211.58 141.303 Q2209.45 143.317 2209.13 146.974 L2224.31 146.951 Z\" fill=\"#000000\" fill-rule=\"nonzero\" fill-opacity=\"1\" /><path clip-path=\"url(#clip200)\" d=\"M2239.68 158.34 L2239.68 172.09 L2235.4 172.09 L2235.4 136.303 L2239.68 136.303 L2239.68 140.238 Q2241.03 137.923 2243.06 136.812 Q2245.12 135.678 2247.97 135.678 Q2252.69 135.678 2255.63 139.428 Q2258.59 143.178 2258.59 149.289 Q2258.59 155.4 2255.63 159.15 Q2252.69 162.9 2247.97 162.9 Q2245.12 162.9 2243.06 161.789 Q2241.03 160.655 2239.68 158.34 M2254.17 149.289 Q2254.17 144.59 2252.23 141.928 Q2250.31 139.243 2246.93 139.243 Q2243.55 139.243 2241.6 141.928 Q2239.68 144.59 2239.68 149.289 Q2239.68 153.988 2241.6 156.673 Q2243.55 159.335 2246.93 159.335 Q2250.31 159.335 2252.23 156.673 Q2254.17 153.988 2254.17 149.289 Z\" fill=\"#000000\" fill-rule=\"nonzero\" fill-opacity=\"1\" /><polyline clip-path=\"url(#clip200)\" style=\"stroke:#e26f46; stroke-linecap:round; stroke-linejoin:round; stroke-width:4; stroke-opacity:1; fill:none\" points=\"1950.97,196.789 2092.21,196.789 \"/>\n",
       "<path clip-path=\"url(#clip200)\" d=\"M2115.75 179.509 L2120.47 179.509 L2127.74 208.721 L2134.98 179.509 L2140.24 179.509 L2147.51 208.721 L2154.75 179.509 L2159.5 179.509 L2150.82 214.069 L2144.94 214.069 L2137.65 184.069 L2130.29 214.069 L2124.41 214.069 L2115.75 179.509 Z\" fill=\"#000000\" fill-rule=\"nonzero\" fill-opacity=\"1\" /><path clip-path=\"url(#clip200)\" d=\"M2172.78 191.129 Q2169.36 191.129 2167.37 193.814 Q2165.38 196.476 2165.38 201.129 Q2165.38 205.782 2167.35 208.467 Q2169.34 211.129 2172.78 211.129 Q2176.19 211.129 2178.18 208.444 Q2180.17 205.758 2180.17 201.129 Q2180.17 196.522 2178.18 193.837 Q2176.19 191.129 2172.78 191.129 M2172.78 187.518 Q2178.34 187.518 2181.51 191.129 Q2184.68 194.74 2184.68 201.129 Q2184.68 207.495 2181.51 211.129 Q2178.34 214.74 2172.78 214.74 Q2167.21 214.74 2164.03 211.129 Q2160.89 207.495 2160.89 201.129 Q2160.89 194.74 2164.03 191.129 Q2167.21 187.518 2172.78 187.518 Z\" fill=\"#000000\" fill-rule=\"nonzero\" fill-opacity=\"1\" /><path clip-path=\"url(#clip200)\" d=\"M2191.74 178.05 L2196 178.05 L2196 214.069 L2191.74 214.069 L2191.74 178.05 Z\" fill=\"#000000\" fill-rule=\"nonzero\" fill-opacity=\"1\" /><path clip-path=\"url(#clip200)\" d=\"M2218.04 178.05 L2218.04 181.592 L2213.97 181.592 Q2211.67 181.592 2210.77 182.518 Q2209.89 183.444 2209.89 185.851 L2209.89 188.143 L2216.9 188.143 L2216.9 191.453 L2209.89 191.453 L2209.89 214.069 L2205.61 214.069 L2205.61 191.453 L2201.53 191.453 L2201.53 188.143 L2205.61 188.143 L2205.61 186.337 Q2205.61 182.009 2207.62 180.041 Q2209.64 178.05 2214.01 178.05 L2218.04 178.05 Z\" fill=\"#000000\" fill-rule=\"nonzero\" fill-opacity=\"1\" /></svg>\n"
      ],
      "text/html": [
       "<img src=\"data:image/png;base64,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\" />"
      ]
     },
     "metadata": {},
     "output_type": "display_data"
    },
    {
     "data": {
      "text/html": [
       "<div><div style = \"float: left;\"><span>101×2 DataFrame</span></div><div style = \"float: right;\"><span style = \"font-style: italic;\">76 rows omitted</span></div><div style = \"clear: both;\"></div></div><div class = \"data-frame\" style = \"overflow-x: scroll;\"><table class = \"data-frame\" style = \"margin-bottom: 6px;\"><thead><tr class = \"header\"><th class = \"rowNumber\" style = \"font-weight: bold; text-align: right;\">Row</th><th style = \"text-align: left;\">Sheep</th><th style = \"text-align: left;\">Wolf</th></tr><tr class = \"subheader headerLastRow\"><th class = \"rowNumber\" style = \"font-weight: bold; text-align: right;\"></th><th title = \"Int64\" style = \"text-align: left;\">Int64</th><th title = \"Int64\" style = \"text-align: left;\">Int64</th></tr></thead><tbody><tr><td class = \"rowNumber\" style = \"font-weight: bold; text-align: right;\">1</td><td style = \"text-align: right;\">166</td><td style = \"text-align: right;\">42</td></tr><tr><td class = \"rowNumber\" style = \"font-weight: bold; text-align: right;\">2</td><td style = \"text-align: right;\">173</td><td style = \"text-align: right;\">42</td></tr><tr><td class = \"rowNumber\" style = \"font-weight: bold; text-align: right;\">3</td><td style = \"text-align: right;\">177</td><td style = \"text-align: right;\">42</td></tr><tr><td class = \"rowNumber\" style = \"font-weight: bold; text-align: right;\">4</td><td style = \"text-align: right;\">183</td><td style = \"text-align: right;\">43</td></tr><tr><td class = \"rowNumber\" style = \"font-weight: bold; text-align: right;\">5</td><td style = \"text-align: right;\">186</td><td style = \"text-align: right;\">43</td></tr><tr><td class = \"rowNumber\" style = \"font-weight: bold; text-align: right;\">6</td><td style = \"text-align: right;\">194</td><td style = \"text-align: right;\">43</td></tr><tr><td class = \"rowNumber\" style = \"font-weight: bold; text-align: right;\">7</td><td style = \"text-align: right;\">196</td><td style = \"text-align: right;\">43</td></tr><tr><td class = \"rowNumber\" style = \"font-weight: bold; text-align: right;\">8</td><td style = \"text-align: right;\">197</td><td style = \"text-align: right;\">44</td></tr><tr><td class = \"rowNumber\" style = \"font-weight: bold; text-align: right;\">9</td><td style = \"text-align: right;\">198</td><td style = \"text-align: right;\">46</td></tr><tr><td class = \"rowNumber\" style = \"font-weight: bold; text-align: right;\">10</td><td style = \"text-align: right;\">201</td><td style = \"text-align: right;\">46</td></tr><tr><td class = \"rowNumber\" style = \"font-weight: bold; text-align: right;\">11</td><td style = \"text-align: right;\">209</td><td style = \"text-align: right;\">46</td></tr><tr><td class = \"rowNumber\" style = \"font-weight: bold; text-align: right;\">12</td><td style = \"text-align: right;\">207</td><td style = \"text-align: right;\">46</td></tr><tr><td class = \"rowNumber\" style = \"font-weight: bold; text-align: right;\">13</td><td style = \"text-align: right;\">211</td><td style = \"text-align: right;\">46</td></tr><tr><td style = \"text-align: right;\">&vellip;</td><td style = \"text-align: right;\">&vellip;</td><td style = \"text-align: right;\">&vellip;</td></tr><tr><td class = \"rowNumber\" style = \"font-weight: bold; text-align: right;\">90</td><td style = \"text-align: right;\">146</td><td style = \"text-align: right;\">66</td></tr><tr><td class = \"rowNumber\" style = \"font-weight: bold; text-align: right;\">91</td><td style = \"text-align: right;\">147</td><td style = \"text-align: right;\">67</td></tr><tr><td class = \"rowNumber\" style = \"font-weight: bold; text-align: right;\">92</td><td style = \"text-align: right;\">142</td><td style = \"text-align: right;\">67</td></tr><tr><td class = \"rowNumber\" style = \"font-weight: bold; text-align: right;\">93</td><td style = \"text-align: right;\">146</td><td style = \"text-align: right;\">67</td></tr><tr><td class = \"rowNumber\" style = \"font-weight: bold; text-align: right;\">94</td><td style = \"text-align: right;\">142</td><td style = \"text-align: right;\">68</td></tr><tr><td class = \"rowNumber\" style = \"font-weight: bold; text-align: right;\">95</td><td style = \"text-align: right;\">139</td><td style = \"text-align: right;\">68</td></tr><tr><td class = \"rowNumber\" style = \"font-weight: bold; text-align: right;\">96</td><td style = \"text-align: right;\">131</td><td style = \"text-align: right;\">69</td></tr><tr><td class = \"rowNumber\" style = \"font-weight: bold; text-align: right;\">97</td><td style = \"text-align: right;\">128</td><td style = \"text-align: right;\">69</td></tr><tr><td class = \"rowNumber\" style = \"font-weight: bold; text-align: right;\">98</td><td style = \"text-align: right;\">124</td><td style = \"text-align: right;\">70</td></tr><tr><td class = \"rowNumber\" style = \"font-weight: bold; text-align: right;\">99</td><td style = \"text-align: right;\">118</td><td style = \"text-align: right;\">70</td></tr><tr><td class = \"rowNumber\" style = \"font-weight: bold; text-align: right;\">100</td><td style = \"text-align: right;\">119</td><td style = \"text-align: right;\">70</td></tr><tr><td class = \"rowNumber\" style = \"font-weight: bold; text-align: right;\">101</td><td style = \"text-align: right;\">116</td><td style = \"text-align: right;\">70</td></tr></tbody></table></div>"
      ],
      "text/latex": [
       "\\begin{tabular}{r|cc}\n",
       "\t& Sheep & Wolf\\\\\n",
       "\t\\hline\n",
       "\t& Int64 & Int64\\\\\n",
       "\t\\hline\n",
       "\t1 & 166 & 42 \\\\\n",
       "\t2 & 173 & 42 \\\\\n",
       "\t3 & 177 & 42 \\\\\n",
       "\t4 & 183 & 43 \\\\\n",
       "\t5 & 186 & 43 \\\\\n",
       "\t6 & 194 & 43 \\\\\n",
       "\t7 & 196 & 43 \\\\\n",
       "\t8 & 197 & 44 \\\\\n",
       "\t9 & 198 & 46 \\\\\n",
       "\t10 & 201 & 46 \\\\\n",
       "\t11 & 209 & 46 \\\\\n",
       "\t12 & 207 & 46 \\\\\n",
       "\t13 & 211 & 46 \\\\\n",
       "\t14 & 212 & 46 \\\\\n",
       "\t15 & 213 & 46 \\\\\n",
       "\t16 & 213 & 46 \\\\\n",
       "\t17 & 210 & 47 \\\\\n",
       "\t18 & 211 & 47 \\\\\n",
       "\t19 & 211 & 47 \\\\\n",
       "\t20 & 213 & 47 \\\\\n",
       "\t21 & 215 & 47 \\\\\n",
       "\t22 & 219 & 47 \\\\\n",
       "\t23 & 222 & 47 \\\\\n",
       "\t24 & 225 & 47 \\\\\n",
       "\t25 & 227 & 47 \\\\\n",
       "\t26 & 226 & 47 \\\\\n",
       "\t27 & 228 & 49 \\\\\n",
       "\t28 & 230 & 50 \\\\\n",
       "\t29 & 227 & 50 \\\\\n",
       "\t30 & 228 & 50 \\\\\n",
       "\t$\\dots$ & $\\dots$ & $\\dots$ \\\\\n",
       "\\end{tabular}\n"
      ],
      "text/plain": [
       "\u001b[1m101×2 DataFrame\u001b[0m\n",
       "\u001b[1m Row \u001b[0m│\u001b[1m Sheep \u001b[0m\u001b[1m Wolf  \u001b[0m\n",
       "     │\u001b[90m Int64 \u001b[0m\u001b[90m Int64 \u001b[0m\n",
       "─────┼──────────────\n",
       "   1 │   166     42\n",
       "   2 │   173     42\n",
       "   3 │   177     42\n",
       "   4 │   183     43\n",
       "   5 │   186     43\n",
       "   6 │   194     43\n",
       "   7 │   196     43\n",
       "   8 │   197     44\n",
       "   9 │   198     46\n",
       "  10 │   201     46\n",
       "  11 │   209     46\n",
       "  ⋮  │   ⋮      ⋮\n",
       "  92 │   142     67\n",
       "  93 │   146     67\n",
       "  94 │   142     68\n",
       "  95 │   139     68\n",
       "  96 │   131     69\n",
       "  97 │   128     69\n",
       "  98 │   124     70\n",
       "  99 │   118     70\n",
       " 100 │   119     70\n",
       " 101 │   116     70\n",
       "\u001b[36m     80 rows omitted\u001b[0m"
      ]
     },
     "execution_count": 8,
     "metadata": {},
     "output_type": "execute_result"
    }
   ],
   "source": [
    "df = get_nums_agents(model, agent-> agent.atype == sheep, \n",
    "    agent->agent.atype == wolf, labels=[\"Sheep\", \"Wolf\"], \n",
    "    plot_result = true)"
   ]
  },
  {
   "cell_type": "markdown",
   "metadata": {},
   "source": [
    "Individual agent data recorded during model run can be obtained as"
   ]
  },
  {
   "cell_type": "code",
   "execution_count": 9,
   "metadata": {
    "scrolled": false
   },
   "outputs": [
    {
     "data": {
      "text/html": [
       "<div><div style = \"float: left;\"><span>101×2 DataFrame</span></div><div style = \"float: right;\"><span style = \"font-style: italic;\">76 rows omitted</span></div><div style = \"clear: both;\"></div></div><div class = \"data-frame\" style = \"overflow-x: scroll;\"><table class = \"data-frame\" style = \"margin-bottom: 6px;\"><thead><tr class = \"header\"><th class = \"rowNumber\" style = \"font-weight: bold; text-align: right;\">Row</th><th style = \"text-align: left;\">energy</th><th style = \"text-align: left;\">pos</th></tr><tr class = \"subheader headerLastRow\"><th class = \"rowNumber\" style = \"font-weight: bold; text-align: right;\"></th><th title = \"Union{Missing, Float64}\" style = \"text-align: left;\">Float64?</th><th title = \"Union{Missing, Vect{2, Int64}}\" style = \"text-align: left;\">Vect…?</th></tr></thead><tbody><tr><td class = \"rowNumber\" style = \"font-weight: bold; text-align: right;\">1</td><td style = \"text-align: right;\">10.0</td><td style = \"text-align: left;\">(1, 15)\\n</td></tr><tr><td class = \"rowNumber\" style = \"font-weight: bold; text-align: right;\">2</td><td style = \"text-align: right;\">10.0</td><td style = \"text-align: left;\">(2, 15)\\n</td></tr><tr><td class = \"rowNumber\" style = \"font-weight: bold; text-align: right;\">3</td><td style = \"text-align: right;\">10.0</td><td style = \"text-align: left;\">(1, 15)\\n</td></tr><tr><td class = \"rowNumber\" style = \"font-weight: bold; text-align: right;\">4</td><td style = \"text-align: right;\">10.0</td><td style = \"text-align: left;\">(1, 15)\\n</td></tr><tr><td class = \"rowNumber\" style = \"font-weight: bold; text-align: right;\">5</td><td style = \"text-align: right;\">11.0</td><td style = \"text-align: left;\">(1, 16)\\n</td></tr><tr><td class = \"rowNumber\" style = \"font-weight: bold; text-align: right;\">6</td><td style = \"text-align: right;\">11.0</td><td style = \"text-align: left;\">(1, 16)\\n</td></tr><tr><td class = \"rowNumber\" style = \"font-weight: bold; text-align: right;\">7</td><td style = \"text-align: right;\">11.0</td><td style = \"text-align: left;\">(1, 16)\\n</td></tr><tr><td class = \"rowNumber\" style = \"font-weight: bold; text-align: right;\">8</td><td style = \"text-align: right;\">11.0</td><td style = \"text-align: left;\">(1, 17)\\n</td></tr><tr><td class = \"rowNumber\" style = \"font-weight: bold; text-align: right;\">9</td><td style = \"text-align: right;\">12.0</td><td style = \"text-align: left;\">(2, 18)\\n</td></tr><tr><td class = \"rowNumber\" style = \"font-weight: bold; text-align: right;\">10</td><td style = \"text-align: right;\">12.0</td><td style = \"text-align: left;\">(2, 17)\\n</td></tr><tr><td class = \"rowNumber\" style = \"font-weight: bold; text-align: right;\">11</td><td style = \"text-align: right;\">13.0</td><td style = \"text-align: left;\">(1, 18)\\n</td></tr><tr><td class = \"rowNumber\" style = \"font-weight: bold; text-align: right;\">12</td><td style = \"text-align: right;\">13.0</td><td style = \"text-align: left;\">(1, 18)\\n</td></tr><tr><td class = \"rowNumber\" style = \"font-weight: bold; text-align: right;\">13</td><td style = \"text-align: right;\">13.0</td><td style = \"text-align: left;\">(1, 18)\\n</td></tr><tr><td style = \"text-align: right;\">&vellip;</td><td style = \"text-align: right;\">&vellip;</td><td style = \"text-align: right;\">&vellip;</td></tr><tr><td class = \"rowNumber\" style = \"font-weight: bold; text-align: right;\">90</td><td style = \"text-align: right;\">25.0</td><td style = \"text-align: left;\">(4, 15)\\n</td></tr><tr><td class = \"rowNumber\" style = \"font-weight: bold; text-align: right;\">91</td><td style = \"text-align: right;\">25.0</td><td style = \"text-align: left;\">(4, 14)\\n</td></tr><tr><td class = \"rowNumber\" style = \"font-weight: bold; text-align: right;\">92</td><td style = \"text-align: right;\">25.0</td><td style = \"text-align: left;\">(3, 15)\\n</td></tr><tr><td class = \"rowNumber\" style = \"font-weight: bold; text-align: right;\">93</td><td style = \"text-align: right;\">25.0</td><td style = \"text-align: left;\">(3, 14)\\n</td></tr><tr><td class = \"rowNumber\" style = \"font-weight: bold; text-align: right;\">94</td><td style = \"text-align: right;\">25.0</td><td style = \"text-align: left;\">(4, 13)\\n</td></tr><tr><td class = \"rowNumber\" style = \"font-weight: bold; text-align: right;\">95</td><td style = \"text-align: right;\">26.0</td><td style = \"text-align: left;\">(5, 14)\\n</td></tr><tr><td class = \"rowNumber\" style = \"font-weight: bold; text-align: right;\">96</td><td style = \"text-align: right;\">26.0</td><td style = \"text-align: left;\">(5, 14)\\n</td></tr><tr><td class = \"rowNumber\" style = \"font-weight: bold; text-align: right;\">97</td><td style = \"text-align: right;\">26.0</td><td style = \"text-align: left;\">(5, 14)\\n</td></tr><tr><td class = \"rowNumber\" style = \"font-weight: bold; text-align: right;\">98</td><td style = \"text-align: right;\">26.0</td><td style = \"text-align: left;\">(5, 14)\\n</td></tr><tr><td class = \"rowNumber\" style = \"font-weight: bold; text-align: right;\">99</td><td style = \"text-align: right;\">26.0</td><td style = \"text-align: left;\">(5, 14)\\n</td></tr><tr><td class = \"rowNumber\" style = \"font-weight: bold; text-align: right;\">100</td><td style = \"text-align: right;\">26.0</td><td style = \"text-align: left;\">(5, 14)\\n</td></tr><tr><td class = \"rowNumber\" style = \"font-weight: bold; text-align: right;\">101</td><td style = \"text-align: right;\">26.0</td><td style = \"text-align: left;\">(5, 14)\\n</td></tr></tbody></table></div>"
      ],
      "text/latex": [
       "\\begin{tabular}{r|cc}\n",
       "\t& energy & pos\\\\\n",
       "\t\\hline\n",
       "\t& Float64? & Vect…?\\\\\n",
       "\t\\hline\n",
       "\t1 & 10.0 & (1, 15)\\textbackslash{}n \\\\\n",
       "\t2 & 10.0 & (2, 15)\\textbackslash{}n \\\\\n",
       "\t3 & 10.0 & (1, 15)\\textbackslash{}n \\\\\n",
       "\t4 & 10.0 & (1, 15)\\textbackslash{}n \\\\\n",
       "\t5 & 11.0 & (1, 16)\\textbackslash{}n \\\\\n",
       "\t6 & 11.0 & (1, 16)\\textbackslash{}n \\\\\n",
       "\t7 & 11.0 & (1, 16)\\textbackslash{}n \\\\\n",
       "\t8 & 11.0 & (1, 17)\\textbackslash{}n \\\\\n",
       "\t9 & 12.0 & (2, 18)\\textbackslash{}n \\\\\n",
       "\t10 & 12.0 & (2, 17)\\textbackslash{}n \\\\\n",
       "\t11 & 13.0 & (1, 18)\\textbackslash{}n \\\\\n",
       "\t12 & 13.0 & (1, 18)\\textbackslash{}n \\\\\n",
       "\t13 & 13.0 & (1, 18)\\textbackslash{}n \\\\\n",
       "\t14 & 13.0 & (1, 19)\\textbackslash{}n \\\\\n",
       "\t15 & 13.0 & (2, 19)\\textbackslash{}n \\\\\n",
       "\t16 & 14.0 & (1, 19)\\textbackslash{}n \\\\\n",
       "\t17 & 14.0 & (1, 19)\\textbackslash{}n \\\\\n",
       "\t18 & 14.0 & (1, 20)\\textbackslash{}n \\\\\n",
       "\t19 & 14.0 & (1, 20)\\textbackslash{}n \\\\\n",
       "\t20 & 14.0 & (2, 20)\\textbackslash{}n \\\\\n",
       "\t21 & 15.0 & (2, 20)\\textbackslash{}n \\\\\n",
       "\t22 & 15.0 & (3, 20)\\textbackslash{}n \\\\\n",
       "\t23 & 15.0 & (2, 19)\\textbackslash{}n \\\\\n",
       "\t24 & 15.0 & (2, 18)\\textbackslash{}n \\\\\n",
       "\t25 & 15.0 & (1, 17)\\textbackslash{}n \\\\\n",
       "\t26 & 15.0 & (1, 17)\\textbackslash{}n \\\\\n",
       "\t27 & 15.0 & (2, 18)\\textbackslash{}n \\\\\n",
       "\t28 & 15.0 & (1, 17)\\textbackslash{}n \\\\\n",
       "\t29 & 15.0 & (1, 16)\\textbackslash{}n \\\\\n",
       "\t30 & 15.0 & (1, 17)\\textbackslash{}n \\\\\n",
       "\t$\\dots$ & $\\dots$ & $\\dots$ \\\\\n",
       "\\end{tabular}\n"
      ],
      "text/plain": [
       "\u001b[1m101×2 DataFrame\u001b[0m\n",
       "\u001b[1m Row \u001b[0m│\u001b[1m energy   \u001b[0m\u001b[1m pos       \u001b[0m\n",
       "     │\u001b[90m Float64? \u001b[0m\u001b[90m Vect…?    \u001b[0m\n",
       "─────┼─────────────────────\n",
       "   1 │     10.0  (1, 15)\\n\n",
       "   2 │     10.0  (2, 15)\\n\n",
       "   3 │     10.0  (1, 15)\\n\n",
       "   4 │     10.0  (1, 15)\\n\n",
       "   5 │     11.0  (1, 16)\\n\n",
       "   6 │     11.0  (1, 16)\\n\n",
       "   7 │     11.0  (1, 16)\\n\n",
       "   8 │     11.0  (1, 17)\\n\n",
       "   9 │     12.0  (2, 18)\\n\n",
       "  10 │     12.0  (2, 17)\\n\n",
       "  11 │     13.0  (1, 18)\\n\n",
       "  ⋮  │    ⋮          ⋮\n",
       "  92 │     25.0  (3, 15)\\n\n",
       "  93 │     25.0  (3, 14)\\n\n",
       "  94 │     25.0  (4, 13)\\n\n",
       "  95 │     26.0  (5, 14)\\n\n",
       "  96 │     26.0  (5, 14)\\n\n",
       "  97 │     26.0  (5, 14)\\n\n",
       "  98 │     26.0  (5, 14)\\n\n",
       "  99 │     26.0  (5, 14)\\n\n",
       " 100 │     26.0  (5, 14)\\n\n",
       " 101 │     26.0  (5, 14)\\n\n",
       "\u001b[36m            80 rows omitted\u001b[0m"
      ]
     },
     "execution_count": 9,
     "metadata": {},
     "output_type": "execute_result"
    }
   ],
   "source": [
    "df = get_agent_data(model.agents[2], model).record"
   ]
  },
  {
   "cell_type": "code",
   "execution_count": 10,
   "metadata": {},
   "outputs": [
    {
     "data": {
      "text/plain": [
       "Agent2D:\n",
       " pos :(15, 5)\n",
       "\n",
       " color: Col(0.0N0f8,0.0N0f8,0.0N0f8,1.0N0f8)\n",
       "\n",
       " atype: wolf\n",
       " energy: 45.0\n",
       " size: 0.25\n",
       " orientation: 0.0\n",
       " shape: circle\n"
      ]
     },
     "execution_count": 10,
     "metadata": {},
     "output_type": "execute_result"
    },
    {
     "name": "stdout",
     "output_type": "stream",
     "text": [
      "Saving animation as gif....\n"
     ]
    },
    {
     "name": "stderr",
     "output_type": "stream",
     "text": [
      "\u001b[36m\u001b[1m┌ \u001b[22m\u001b[39m\u001b[36m\u001b[1mInfo: \u001b[22m\u001b[39mFrames for animation \"movie_abm\" are being stored in directory: \n",
      "\u001b[36m\u001b[1m└ \u001b[22m\u001b[39m\t /tmp/jl_RSZcvX\n",
      "\u001b[36m\u001b[1m┌ \u001b[22m\u001b[39m\u001b[36m\u001b[1mInfo: \u001b[22m\u001b[39m... 101 frames saved in directory:\n",
      "\u001b[36m\u001b[1m└ \u001b[22m\u001b[39m\t /tmp/jl_RSZcvX\n"
     ]
    },
    {
     "name": "stdout",
     "output_type": "stream",
     "text": [
      "Animation saved at /home/dushya/.julia/scratchspaces/2ab8e4d3-e1e9-4248-86a3-8419d2d242e9/abm_anims/anim_2d.gif\n"
     ]
    },
    {
     "name": "stderr",
     "output_type": "stream",
     "text": [
      "\u001b[36m\u001b[1m[ \u001b[22m\u001b[39m\u001b[36m\u001b[1mInfo: \u001b[22m\u001b[39mGIF is: /home/dushya/.julia/scratchspaces/2ab8e4d3-e1e9-4248-86a3-8419d2d242e9/abm_anims/anim_2d.gif\n"
     ]
    }
   ],
   "source": [
    "model.agents[1]"
   ]
  }
 ],
 "metadata": {
  "@webio": {
   "lastCommId": "90d42a79ddc443d18fe456e83f098c50",
   "lastKernelId": "acd893cf-fe56-4a36-8800-d90aa0809521"
  },
  "kernelspec": {
   "display_name": "Julia 1.9.2",
   "language": "julia",
   "name": "julia-1.9"
  },
  "language_info": {
   "file_extension": ".jl",
   "mimetype": "application/julia",
   "name": "julia",
   "version": "1.9.2"
  }
 },
 "nbformat": 4,
 "nbformat_minor": 4
}
