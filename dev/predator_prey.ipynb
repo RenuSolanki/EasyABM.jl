{
 "cells": [
  {
   "cell_type": "markdown",
   "metadata": {},
   "source": [
    "# Predator-prey model"
   ]
  },
  {
   "cell_type": "code",
   "execution_count": 1,
   "metadata": {},
   "outputs": [
    {
     "name": "stderr",
     "output_type": "stream",
     "text": [
      "\u001b[32m\u001b[1m  Activating\u001b[22m\u001b[39m project at `~/Documents/EasyABM`\n"
     ]
    },
    {
     "data": {
      "application/vnd.webio.node+json": {
       "children": [],
       "instanceArgs": {
        "namespace": "html",
        "tag": "div"
       },
       "nodeType": "DOM",
       "props": {},
       "type": "node"
      },
      "text/html": [
       "<div style=\"padding: 1em; background-color: #f8d6da; border: 1px solid #f5c6cb; font-weight: bold;\">\n",
       "<p>The WebIO Jupyter extension was not detected. See the\n",
       "<a href=\"https://juliagizmos.github.io/WebIO.jl/latest/providers/ijulia/\" target=\"_blank\">\n",
       "    WebIO Jupyter integration documentation\n",
       "</a>\n",
       "for more information.\n",
       "</div>\n"
      ],
      "text/plain": [
       "WebIO._IJuliaInit()"
      ]
     },
     "metadata": {
      "application/vnd.webio.node+json": {
       "kernelId": "96bed0bf-2c64-4c45-a98a-7518ab9672b3"
      }
     },
     "output_type": "display_data"
    }
   ],
   "source": [
    "#don't need first two lines if using installed version of EasyABM\n",
    "using Pkg, Revise\n",
    "Pkg.activate(joinpath(@__DIR__, \"../..\"))\n",
    "using EasyABM"
   ]
  },
  {
   "cell_type": "markdown",
   "metadata": {},
   "source": [
    "## Step 1: Create Agents and Model\n",
    "\n",
    "We create 200 agents all of type `sheep` to begin with. Our model parameters are \n",
    "\n",
    "* `max_energy` : The maximum energy that an agent (sheep or wolf) can have. \n",
    "* `wolf_birth_rate` : Probability of a wolf agent to reproduce once its energy is greater than max_energy/2.  \n",
    "* `sheep_birth_rate` : Probability of a sheep agent to reproduce once its energy is greater than max_energy/2. \n",
    "* `wolves_kill_ability` : The probability of a wolf to kill a neighboring sheep.\n",
    "* `grass_grow_prob` : The probability of one unit of grass growing on a patch at a given timestep.\n",
    "* `max_grass` : Max grass a patch can have.\n",
    "* `initial_wolf_percent` : The percent of agents which are wolf initially. "
   ]
  },
  {
   "cell_type": "code",
   "execution_count": 2,
   "metadata": {},
   "outputs": [
    {
     "data": {
      "text/plain": [
       "EasyABM SpaceModel2D{EasyABM.MortalType, Int64, EasyABM.NPeriodicType}: In a EasyABM.MortalType model agents can take birth or die.\n"
      ]
     },
     "execution_count": 2,
     "metadata": {},
     "output_type": "execute_result"
    }
   ],
   "source": [
    "@enum agenttype sheep wolf\n",
    "agents = grid_2d_agents(200, pos = Vect(1,1), color = cl\"white\", atype = sheep, \n",
    "    energy = 10.0, keeps_record_of=Set([:pos, :energy ]))\n",
    "model = create_2d_model(agents, \n",
    "    size = (20,20), #space size\n",
    "    agents_type = Mortal, # agents are mortal, can take birth or die\n",
    "    space_type = NPeriodic, # nonperiodic space\n",
    "    #below are all the model parameters\n",
    "    max_energy = 50, \n",
    "    wolf_birth_rate = 0.01,\n",
    "    sheep_birth_rate = 0.1,\n",
    "    wolves_kill_ability = 0.2,\n",
    "    max_grass = 5,\n",
    "    initial_wolf_percent = 0.2,\n",
    "    grass_grow_prob = 0.2)"
   ]
  },
  {
   "cell_type": "markdown",
   "metadata": {},
   "source": [
    "## Step 2: Initialise the model\n",
    "\n",
    "In the second step we initialise the patches and agents by defining `initialiser!` function and sending it as an argument to `init_model!`. In the `initialiser!` function we randomly set amount of grass and accordingly color of each patch. We also set a fraction `initial_wolf_percent` of agents to be of type wolf. We set color of sheeps to white and that of wolves to black. We also randomly set the energy and positions of agents. In the `init_model!` function through argument `props_to_record` we tell EasyABM to record the color property of patches during model run."
   ]
  },
  {
   "cell_type": "code",
   "execution_count": 3,
   "metadata": {},
   "outputs": [],
   "source": [
    "function initialiser!(model)\n",
    "    max_grass = model.parameters.max_grass\n",
    "    for j in 1:model.size[2]\n",
    "        for i in 1:model.size[1]\n",
    "            grass = rand(1:max_grass)\n",
    "            model.patches[i,j].grass = grass\n",
    "            hf = Int(ceil(max_grass/2))\n",
    "            model.patches[i,j].color = grass > hf ? cl\"green\" : (grass > 0 ? cl\"blue\" : cl\"grey\")\n",
    "        end\n",
    "    end\n",
    "    for agent in model.agents\n",
    "        if rand()< model.parameters.initial_wolf_percent \n",
    "            agent.atype = wolf\n",
    "            agent.color = cl\"black\"\n",
    "        else\n",
    "            agent.atype = sheep\n",
    "            agent.color = cl\"white\"\n",
    "        end\n",
    "        agent.energy = rand(1:model.parameters.max_energy)+0.0\n",
    "        agent.pos = Vect(rand(1:model.size[1]), rand(1:model.size[2]))\n",
    "    end\n",
    "            \n",
    "end\n",
    "\n",
    "init_model!(model, initialiser = initialiser!, props_to_record = Dict(\"patches\"=>Set([:color])))\n"
   ]
  },
  {
   "cell_type": "markdown",
   "metadata": {},
   "source": [
    "## Step 3: Defining the step_rule! and running the model\n",
    "\n",
    "In this step we implement the step logic of the predator prey model in the `step_rule!` function and run the model for 100 steps. "
   ]
  },
  {
   "cell_type": "code",
   "execution_count": 4,
   "metadata": {},
   "outputs": [],
   "source": [
    "function change_pos!(agent)\n",
    "    dx = rand(-1:1)\n",
    "    dy = rand(-1:1)\n",
    "    agent.pos += Vect(dx, dy)\n",
    "end\n",
    "\n",
    "function reproduce!(agent, model)\n",
    "    new_agent = create_similar(agent)\n",
    "    agent.energy = agent.energy/2\n",
    "    new_agent.energy = agent.energy\n",
    "    add_agent!(new_agent, model)\n",
    "end\n",
    "\n",
    "function eat_sheep!(wolf, sheep, model)\n",
    "    kill_agent!(sheep, model) \n",
    "    wolf.energy+=1\n",
    "end\n",
    "\n",
    "\n",
    "function act_asa_wolf!(agent, model)\n",
    "    if !(is_alive(agent))\n",
    "        return\n",
    "    end\n",
    "    energy = agent.energy\n",
    "    if energy > 0.5*model.parameters.max_energy\n",
    "        if rand()<model.parameters.wolf_birth_rate\n",
    "            reproduce!(agent, model)\n",
    "        end\n",
    "    elseif energy > 0 \n",
    "        nbrs = collect(neighbors_moore(agent, model, 1))\n",
    "        n = length(nbrs)\n",
    "        if n>0\n",
    "            nbr = nbrs[rand(1:n)]\n",
    "            if (nbr.atype == sheep)&&(is_alive(nbr))\n",
    "                ability = model.parameters.wolves_kill_ability\n",
    "                (rand()<ability)&&(eat_sheep!(agent, nbr, model))\n",
    "            end\n",
    "        end\n",
    "        change_pos!(agent)\n",
    "    else\n",
    "        kill_agent!(agent, model)\n",
    "    end\n",
    "end\n",
    "\n",
    "function act_asa_sheep!(agent, model)\n",
    "    if !(is_alive(agent))\n",
    "        return\n",
    "    end\n",
    "    energy = agent.energy\n",
    "    if energy >0.5* model.parameters.max_energy\n",
    "        if rand()<model.parameters.sheep_birth_rate\n",
    "            reproduce!(agent, model)\n",
    "        end\n",
    "        change_pos!(agent)\n",
    "    elseif energy > 0 \n",
    "        patch = get_grid_loc(agent)\n",
    "        grass = model.patches[patch...].grass\n",
    "        if grass>0\n",
    "            model.patches[patch...].grass-=1\n",
    "            agent.energy +=1\n",
    "        end\n",
    "        change_pos!(agent)\n",
    "    else\n",
    "        kill_agent!(agent, model)\n",
    "    end\n",
    "end\n",
    "\n",
    "\n",
    "\n",
    "function step_rule!(model)\n",
    "    if model.max_id>800 # use some upper bound on max agents to avoid system hang\n",
    "        return\n",
    "    end\n",
    "    for agent in model.agents\n",
    "        if agent.atype == wolf\n",
    "            act_asa_wolf!(agent,model)\n",
    "        end\n",
    "        if agent.atype == sheep\n",
    "            act_asa_sheep!(agent, model)\n",
    "        end\n",
    "    end\n",
    "    for j in 1:model.size[2]\n",
    "        for i in 1:model.size[1]\n",
    "            patch = model.patches[i,j]\n",
    "            grass = patch.grass\n",
    "            max_grass = model.parameters.max_grass \n",
    "            if grass < max_grass\n",
    "                if rand()<model.parameters.grass_grow_prob\n",
    "                    patch.grass+=1\n",
    "                    hf = Int(ceil(max_grass/2))\n",
    "                    patch.color = grass > hf ? cl\"green\" : (grass > 0 ? cl\"yellow\" : cl\"grey\")\n",
    "                end\n",
    "            end\n",
    "        end\n",
    "    end\n",
    "end\n",
    "\n",
    "run_model!(model, steps=100, step_rule = step_rule! )"
   ]
  },
  {
   "cell_type": "markdown",
   "metadata": {},
   "source": [
    "## Step 4: Visualisation"
   ]
  },
  {
   "cell_type": "markdown",
   "metadata": {},
   "source": [
    "In order to draw the model at a specific frame, say 4th, one can use"
   ]
  },
  {
   "cell_type": "code",
   "execution_count": 5,
   "metadata": {},
   "outputs": [
    {
     "data": {
      "image/png": "[encoded data removed]",
      "text/plain": []
     },
     "execution_count": 5,
     "metadata": {},
     "output_type": "execute_result"
    }
   ],
   "source": [
    "draw_frame(model, frame = 4, show_patches=true)"
   ]
  },
  {
   "cell_type": "markdown",
   "metadata": {},
   "source": [
    " If one wants to see the animation of the model run, it can be done as "
   ]
  },
  {
   "cell_type": "code",
   "execution_count": 6,
   "metadata": {},
   "outputs": [
    {
     "data": {
      "application/vnd.webio.node+json": {
       "children": [
        {
         "children": [
          {
           "children": [
            {
             "children": [
              {
               "children": [
                {
                 "children": [
                  {
                   "children": [
                    {
                     "children": [
                      "time"
                     ],
                     "instanceArgs": {
                      "namespace": "html",
                      "tag": "label"
                     },
                     "nodeType": "DOM",
                     "props": {
                      "className": "interact ",
                      "style": {
                       "padding": "5px 10px 0px 10px"
                      }
                     },
                     "type": "node"
                    }
                   ],
                   "instanceArgs": {
                    "namespace": "html",
                    "tag": "div"
                   },
                   "nodeType": "DOM",
                   "props": {
                    "className": "interact-flex-row-left"
                   },
                   "type": "node"
                  },
                  {
                   "children": [
                    {
                     "children": [],
                     "instanceArgs": {
                      "namespace": "html",
                      "tag": "input"
                     },
                     "nodeType": "DOM",
                     "props": {
                      "attributes": {
                       "data-bind": "numericValue: index, valueUpdate: 'input', event: {change: function (){this.changes(this.changes()+1)}}",
                       "orient": "horizontal",
                       "type": "range"
                      },
                      "className": "slider slider is-fullwidth",
                      "max": 101,
                      "min": 1,
                      "step": 1,
                      "style": {}
                     },
                     "type": "node"
                    }
                   ],
                   "instanceArgs": {
                    "namespace": "html",
                    "tag": "div"
                   },
                   "nodeType": "DOM",
                   "props": {
                    "className": "interact-flex-row-center"
                   },
                   "type": "node"
                  },
                  {
                   "children": [
                    {
                     "children": [],
                     "instanceArgs": {
                      "namespace": "html",
                      "tag": "p"
                     },
                     "nodeType": "DOM",
                     "props": {
                      "attributes": {
                       "data-bind": "text: formatted_val"
                      }
                     },
                     "type": "node"
                    }
                   ],
                   "instanceArgs": {
                    "namespace": "html",
                    "tag": "div"
                   },
                   "nodeType": "DOM",
                   "props": {
                    "className": "interact-flex-row-right"
                   },
                   "type": "node"
                  }
                 ],
                 "instanceArgs": {
                  "namespace": "html",
                  "tag": "div"
                 },
                 "nodeType": "DOM",
                 "props": {
                  "className": "interact-flex-row interact-widget"
                 },
                 "type": "node"
                }
               ],
               "instanceArgs": {
                "handlers": {
                 "changes": [
                  "(function (val){return (val!=this.model[\"changes\"]()) ? (this.valueFromJulia[\"changes\"]=true, this.model[\"changes\"](val)) : undefined})"
                 ],
                 "index": [
                  "(function (val){return (val!=this.model[\"index\"]()) ? (this.valueFromJulia[\"index\"]=true, this.model[\"index\"](val)) : undefined})"
                 ]
                },
                "id": "11451510667849370213",
                "imports": {
                 "data": [
                  {
                   "name": "knockout",
                   "type": "js",
                   "url": "/assetserver/727383f2a47bd31570b7da84eee7b022dd6d7c78-knockout.js"
                  },
                  {
                   "name": "knockout_punches",
                   "type": "js",
                   "url": "/assetserver/382b41b3b1bd9f26f75861d360bad7f8beea211f-knockout_punches.js"
                  },
                  {
                   "name": null,
                   "type": "js",
                   "url": "/assetserver/5ab20f1060420992a9b82a65b735dee4d81ef413-all.js"
                  },
                  {
                   "name": null,
                   "type": "css",
                   "url": "/assetserver/1cc0ed62837210b80a182cc3676512f895dab686-style.css"
                  },
                  {
                   "name": null,
                   "type": "css",
                   "url": "/assetserver/2eee816f616df3549d7044d45e744fbf8d42bfa1-bulma_confined.min.css"
                  }
                 ],
                 "type": "async_block"
                },
                "mount_callbacks": [
                 "function () {\n    var handler = (function (ko, koPunches) {\n    ko.punches.enableAll();\n    ko.bindingHandlers.numericValue = {\n        init: function(element, valueAccessor, allBindings, data, context) {\n            var stringified = ko.observable(ko.unwrap(valueAccessor()));\n            stringified.subscribe(function(value) {\n                var val = parseFloat(value);\n                if (!isNaN(val)) {\n                    valueAccessor()(val);\n                }\n            });\n            valueAccessor().subscribe(function(value) {\n                var str = JSON.stringify(value);\n                if ((str == \"0\") && ([\"-0\", \"-0.\"].indexOf(stringified()) >= 0))\n                     return;\n                 if ([\"null\", \"\"].indexOf(str) >= 0)\n                     return;\n                stringified(str);\n            });\n            ko.applyBindingsToNode(\n                element,\n                {\n                    value: stringified,\n                    valueUpdate: allBindings.get('valueUpdate'),\n                },\n                context,\n            );\n        }\n    };\n    var json_data = {\"formatted_vals\":[\"1\",\"2\",\"3\",\"4\",\"5\",\"6\",\"7\",\"8\",\"9\",\"10\",\"11\",\"12\",\"13\",\"14\",\"15\",\"16\",\"17\",\"18\",\"19\",\"20\",\"21\",\"22\",\"23\",\"24\",\"25\",\"26\",\"27\",\"28\",\"29\",\"30\",\"31\",\"32\",\"33\",\"34\",\"35\",\"36\",\"37\",\"38\",\"39\",\"40\",\"41\",\"42\",\"43\",\"44\",\"45\",\"46\",\"47\",\"48\",\"49\",\"50\",\"51\",\"52\",\"53\",\"54\",\"55\",\"56\",\"57\",\"58\",\"59\",\"60\",\"61\",\"62\",\"63\",\"64\",\"65\",\"66\",\"67\",\"68\",\"69\",\"70\",\"71\",\"72\",\"73\",\"74\",\"75\",\"76\",\"77\",\"78\",\"79\",\"80\",\"81\",\"82\",\"83\",\"84\",\"85\",\"86\",\"87\",\"88\",\"89\",\"90\",\"91\",\"92\",\"93\",\"94\",\"95\",\"96\",\"97\",\"98\",\"99\",\"100\",\"101\"],\"changes\":WebIO.getval({\"name\":\"changes\",\"scope\":\"11451510667849370213\",\"id\":\"5917105486569815927\",\"type\":\"observable\"}),\"index\":WebIO.getval({\"name\":\"index\",\"scope\":\"11451510667849370213\",\"id\":\"2461651568439183224\",\"type\":\"observable\"})};\n    var self = this;\n    function AppViewModel() {\n        for (var key in json_data) {\n            var el = json_data[key];\n            this[key] = Array.isArray(el) ? ko.observableArray(el) : ko.observable(el);\n        }\n        \n        [this[\"formatted_val\"]=ko.computed(    function(){\n        return this.formatted_vals()[parseInt(this.index())-(1)];\n    }\n,this)]\n        [this[\"changes\"].subscribe((function (val){!(this.valueFromJulia[\"changes\"]) ? (WebIO.setval({\"name\":\"changes\",\"scope\":\"11451510667849370213\",\"id\":\"5917105486569815927\",\"type\":\"observable\"},val)) : undefined; return this.valueFromJulia[\"changes\"]=false}),self),this[\"index\"].subscribe((function (val){!(this.valueFromJulia[\"index\"]) ? (WebIO.setval({\"name\":\"index\",\"scope\":\"11451510667849370213\",\"id\":\"2461651568439183224\",\"type\":\"observable\"},val)) : undefined; return this.valueFromJulia[\"index\"]=false}),self)]\n        \n    }\n    self.model = new AppViewModel();\n    self.valueFromJulia = {};\n    for (var key in json_data) {\n        self.valueFromJulia[key] = false;\n    }\n    ko.applyBindings(self.model, self.dom);\n}\n);\n    (WebIO.importBlock({\"data\":[{\"name\":\"knockout\",\"type\":\"js\",\"url\":\"/assetserver/727383f2a47bd31570b7da84eee7b022dd6d7c78-knockout.js\"},{\"name\":\"knockout_punches\",\"type\":\"js\",\"url\":\"/assetserver/382b41b3b1bd9f26f75861d360bad7f8beea211f-knockout_punches.js\"}],\"type\":\"async_block\"})).then((imports) => handler.apply(this, imports));\n}\n"
                ],
                "observables": {
                 "changes": {
                  "id": "5917105486569815927",
                  "sync": false,
                  "value": 0
                 },
                 "index": {
                  "id": "2461651568439183224",
                  "sync": true,
                  "value": 51
                 }
                },
                "systemjs_options": null
               },
               "nodeType": "Scope",
               "props": {},
               "type": "node"
              }
             ],
             "instanceArgs": {
              "namespace": "html",
              "tag": "div"
             },
             "nodeType": "DOM",
             "props": {
              "className": "field interact-widget"
             },
             "type": "node"
            },
            {
             "children": [
              {
               "children": [
                {
                 "children": [
                  {
                   "children": [
                    {
                     "children": [
                      "scale"
                     ],
                     "instanceArgs": {
                      "namespace": "html",
                      "tag": "label"
                     },
                     "nodeType": "DOM",
                     "props": {
                      "className": "interact ",
                      "style": {
                       "padding": "5px 10px 0px 10px"
                      }
                     },
                     "type": "node"
                    }
                   ],
                   "instanceArgs": {
                    "namespace": "html",
                    "tag": "div"
                   },
                   "nodeType": "DOM",
                   "props": {
                    "className": "interact-flex-row-left"
                   },
                   "type": "node"
                  },
                  {
                   "children": [
                    {
                     "children": [],
                     "instanceArgs": {
                      "namespace": "html",
                      "tag": "input"
                     },
                     "nodeType": "DOM",
                     "props": {
                      "attributes": {
                       "data-bind": "numericValue: index, valueUpdate: 'input', event: {change: function (){this.changes(this.changes()+1)}}",
                       "orient": "horizontal",
                       "type": "range"
                      },
                      "className": "slider slider is-fullwidth",
                      "max": 20,
                      "min": 1,
                      "step": 1,
                      "style": {}
                     },
                     "type": "node"
                    }
                   ],
                   "instanceArgs": {
                    "namespace": "html",
                    "tag": "div"
                   },
                   "nodeType": "DOM",
                   "props": {
                    "className": "interact-flex-row-center"
                   },
                   "type": "node"
                  },
                  {
                   "children": [
                    {
                     "children": [],
                     "instanceArgs": {
                      "namespace": "html",
                      "tag": "p"
                     },
                     "nodeType": "DOM",
                     "props": {
                      "attributes": {
                       "data-bind": "text: formatted_val"
                      }
                     },
                     "type": "node"
                    }
                   ],
                   "instanceArgs": {
                    "namespace": "html",
                    "tag": "div"
                   },
                   "nodeType": "DOM",
                   "props": {
                    "className": "interact-flex-row-right"
                   },
                   "type": "node"
                  }
                 ],
                 "instanceArgs": {
                  "namespace": "html",
                  "tag": "div"
                 },
                 "nodeType": "DOM",
                 "props": {
                  "className": "interact-flex-row interact-widget"
                 },
                 "type": "node"
                }
               ],
               "instanceArgs": {
                "handlers": {
                 "changes": [
                  "(function (val){return (val!=this.model[\"changes\"]()) ? (this.valueFromJulia[\"changes\"]=true, this.model[\"changes\"](val)) : undefined})"
                 ],
                 "index": [
                  "(function (val){return (val!=this.model[\"index\"]()) ? (this.valueFromJulia[\"index\"]=true, this.model[\"index\"](val)) : undefined})"
                 ]
                },
                "id": "4680600604176612162",
                "imports": {
                 "data": [
                  {
                   "name": "knockout",
                   "type": "js",
                   "url": "/assetserver/727383f2a47bd31570b7da84eee7b022dd6d7c78-knockout.js"
                  },
                  {
                   "name": "knockout_punches",
                   "type": "js",
                   "url": "/assetserver/382b41b3b1bd9f26f75861d360bad7f8beea211f-knockout_punches.js"
                  },
                  {
                   "name": null,
                   "type": "js",
                   "url": "/assetserver/5ab20f1060420992a9b82a65b735dee4d81ef413-all.js"
                  },
                  {
                   "name": null,
                   "type": "css",
                   "url": "/assetserver/1cc0ed62837210b80a182cc3676512f895dab686-style.css"
                  },
                  {
                   "name": null,
                   "type": "css",
                   "url": "/assetserver/2eee816f616df3549d7044d45e744fbf8d42bfa1-bulma_confined.min.css"
                  }
                 ],
                 "type": "async_block"
                },
                "mount_callbacks": [
                 "function () {\n    var handler = (function (ko, koPunches) {\n    ko.punches.enableAll();\n    ko.bindingHandlers.numericValue = {\n        init: function(element, valueAccessor, allBindings, data, context) {\n            var stringified = ko.observable(ko.unwrap(valueAccessor()));\n            stringified.subscribe(function(value) {\n                var val = parseFloat(value);\n                if (!isNaN(val)) {\n                    valueAccessor()(val);\n                }\n            });\n            valueAccessor().subscribe(function(value) {\n                var str = JSON.stringify(value);\n                if ((str == \"0\") && ([\"-0\", \"-0.\"].indexOf(stringified()) >= 0))\n                     return;\n                 if ([\"null\", \"\"].indexOf(str) >= 0)\n                     return;\n                stringified(str);\n            });\n            ko.applyBindingsToNode(\n                element,\n                {\n                    value: stringified,\n                    valueUpdate: allBindings.get('valueUpdate'),\n                },\n                context,\n            );\n        }\n    };\n    var json_data = {\"formatted_vals\":[\"0.1\",\"0.2\",\"0.3\",\"0.4\",\"0.5\",\"0.6\",\"0.7\",\"0.8\",\"0.9\",\"1.0\",\"1.1\",\"1.2\",\"1.3\",\"1.4\",\"1.5\",\"1.6\",\"1.7\",\"1.8\",\"1.9\",\"2.0\"],\"changes\":WebIO.getval({\"name\":\"changes\",\"scope\":\"4680600604176612162\",\"id\":\"14361720778815733643\",\"type\":\"observable\"}),\"index\":WebIO.getval({\"name\":\"index\",\"scope\":\"4680600604176612162\",\"id\":\"9484683872547719436\",\"type\":\"observable\"})};\n    var self = this;\n    function AppViewModel() {\n        for (var key in json_data) {\n            var el = json_data[key];\n            this[key] = Array.isArray(el) ? ko.observableArray(el) : ko.observable(el);\n        }\n        \n        [this[\"formatted_val\"]=ko.computed(    function(){\n        return this.formatted_vals()[parseInt(this.index())-(1)];\n    }\n,this)]\n        [this[\"changes\"].subscribe((function (val){!(this.valueFromJulia[\"changes\"]) ? (WebIO.setval({\"name\":\"changes\",\"scope\":\"4680600604176612162\",\"id\":\"14361720778815733643\",\"type\":\"observable\"},val)) : undefined; return this.valueFromJulia[\"changes\"]=false}),self),this[\"index\"].subscribe((function (val){!(this.valueFromJulia[\"index\"]) ? (WebIO.setval({\"name\":\"index\",\"scope\":\"4680600604176612162\",\"id\":\"9484683872547719436\",\"type\":\"observable\"},val)) : undefined; return this.valueFromJulia[\"index\"]=false}),self)]\n        \n    }\n    self.model = new AppViewModel();\n    self.valueFromJulia = {};\n    for (var key in json_data) {\n        self.valueFromJulia[key] = false;\n    }\n    ko.applyBindings(self.model, self.dom);\n}\n);\n    (WebIO.importBlock({\"data\":[{\"name\":\"knockout\",\"type\":\"js\",\"url\":\"/assetserver/727383f2a47bd31570b7da84eee7b022dd6d7c78-knockout.js\"},{\"name\":\"knockout_punches\",\"type\":\"js\",\"url\":\"/assetserver/382b41b3b1bd9f26f75861d360bad7f8beea211f-knockout_punches.js\"}],\"type\":\"async_block\"})).then((imports) => handler.apply(this, imports));\n}\n"
                ],
                "observables": {
                 "changes": {
                  "id": "14361720778815733643",
                  "sync": false,
                  "value": 0
                 },
                 "index": {
                  "id": "9484683872547719436",
                  "sync": true,
                  "value": 10
                 }
                },
                "systemjs_options": null
               },
               "nodeType": "Scope",
               "props": {},
               "type": "node"
              }
             ],
             "instanceArgs": {
              "namespace": "html",
              "tag": "div"
             },
             "nodeType": "DOM",
             "props": {
              "className": "field interact-widget"
             },
             "type": "node"
            },
            {
             "children": [
              {
               "children": [
                {
                 "children": [
                  {
                   "children": [],
                   "instanceArgs": {
                    "namespace": "html",
                    "tag": "div"
                   },
                   "nodeType": "DOM",
                   "props": {
                    "id": "container"
                   },
                   "type": "node"
                  }
                 ],
                 "instanceArgs": {
                  "handlers": {
                   "value": [
                    "(function (txt){return this.k.render(txt,this.container)})"
                   ]
                  },
                  "id": "7562708170839852287",
                  "imports": {
                   "data": [
                    {
                     "name": null,
                     "type": "js",
                     "url": "/assetserver/dd22ed1bf1896c2748f3fe616ce0b838adc895c1-katex.min.js"
                    },
                    {
                     "name": null,
                     "type": "css",
                     "url": "/assetserver/46517a424aa5e6cffc1360d7e0848b601c584ee3-katex.min.css"
                    }
                   ],
                   "type": "async_block"
                  },
                  "mount_callbacks": [
                   "function () {\n    var handler = ((function (k){this.k=k; this.container=this.dom.querySelector(\"#container\"); return k.render(\"\\\\;\\\\;\",this.container)}));\n    (WebIO.importBlock({\"data\":[{\"name\":null,\"type\":\"js\",\"url\":\"/assetserver/dd22ed1bf1896c2748f3fe616ce0b838adc895c1-katex.min.js\"},{\"name\":null,\"type\":\"css\",\"url\":\"/assetserver/46517a424aa5e6cffc1360d7e0848b601c584ee3-katex.min.css\"}],\"type\":\"async_block\"})).then((imports) => handler.apply(this, imports));\n}\n"
                  ],
                  "observables": {
                   "value": {
                    "id": "3046804102058137458",
                    "sync": false,
                    "value": "\\;\\;"
                   }
                  },
                  "systemjs_options": null
                 },
                 "nodeType": "Scope",
                 "props": {},
                 "type": "node"
                }
               ],
               "instanceArgs": {
                "namespace": "html",
                "tag": "div"
               },
               "nodeType": "DOM",
               "props": {
                "className": "interact-widget"
               },
               "type": "node"
              },
              {
               "children": [
                {
                 "children": [
                  {
                   "children": [
                    "run"
                   ],
                   "instanceArgs": {
                    "namespace": "html",
                    "tag": "button"
                   },
                   "nodeType": "DOM",
                   "props": {
                    "attributes": {
                     "data-bind": "click: function (){this.clicks(this.clicks()+1)}, css: {'is-loading' : loading}"
                    },
                    "className": "is-medium button is-primary",
                    "style": {}
                   },
                   "type": "node"
                  }
                 ],
                 "instanceArgs": {
                  "handlers": {
                   "clicks": [
                    "(function (val){return (val!=this.model[\"clicks\"]()) ? (this.valueFromJulia[\"clicks\"]=true, this.model[\"clicks\"](val)) : undefined})"
                   ],
                   "loading": [
                    "(function (val){return (val!=this.model[\"loading\"]()) ? (this.valueFromJulia[\"loading\"]=true, this.model[\"loading\"](val)) : undefined})"
                   ]
                  },
                  "id": "750957001348281708",
                  "imports": {
                   "data": [
                    {
                     "name": "knockout",
                     "type": "js",
                     "url": "/assetserver/727383f2a47bd31570b7da84eee7b022dd6d7c78-knockout.js"
                    },
                    {
                     "name": "knockout_punches",
                     "type": "js",
                     "url": "/assetserver/382b41b3b1bd9f26f75861d360bad7f8beea211f-knockout_punches.js"
                    },
                    {
                     "name": null,
                     "type": "js",
                     "url": "/assetserver/5ab20f1060420992a9b82a65b735dee4d81ef413-all.js"
                    },
                    {
                     "name": null,
                     "type": "css",
                     "url": "/assetserver/1cc0ed62837210b80a182cc3676512f895dab686-style.css"
                    },
                    {
                     "name": null,
                     "type": "css",
                     "url": "/assetserver/2eee816f616df3549d7044d45e744fbf8d42bfa1-bulma_confined.min.css"
                    }
                   ],
                   "type": "async_block"
                  },
                  "mount_callbacks": [
                   "function () {\n    var handler = (function (ko, koPunches) {\n    ko.punches.enableAll();\n    ko.bindingHandlers.numericValue = {\n        init: function(element, valueAccessor, allBindings, data, context) {\n            var stringified = ko.observable(ko.unwrap(valueAccessor()));\n            stringified.subscribe(function(value) {\n                var val = parseFloat(value);\n                if (!isNaN(val)) {\n                    valueAccessor()(val);\n                }\n            });\n            valueAccessor().subscribe(function(value) {\n                var str = JSON.stringify(value);\n                if ((str == \"0\") && ([\"-0\", \"-0.\"].indexOf(stringified()) >= 0))\n                     return;\n                 if ([\"null\", \"\"].indexOf(str) >= 0)\n                     return;\n                stringified(str);\n            });\n            ko.applyBindingsToNode(\n                element,\n                {\n                    value: stringified,\n                    valueUpdate: allBindings.get('valueUpdate'),\n                },\n                context,\n            );\n        }\n    };\n    var json_data = {\"loading\":WebIO.getval({\"name\":\"loading\",\"scope\":\"750957001348281708\",\"id\":\"1966720792996373480\",\"type\":\"observable\"}),\"clicks\":WebIO.getval({\"name\":\"clicks\",\"scope\":\"750957001348281708\",\"id\":\"3222655310529154284\",\"type\":\"observable\"})};\n    var self = this;\n    function AppViewModel() {\n        for (var key in json_data) {\n            var el = json_data[key];\n            this[key] = Array.isArray(el) ? ko.observableArray(el) : ko.observable(el);\n        }\n        \n        \n        [this[\"loading\"].subscribe((function (val){!(this.valueFromJulia[\"loading\"]) ? (WebIO.setval({\"name\":\"loading\",\"scope\":\"750957001348281708\",\"id\":\"1966720792996373480\",\"type\":\"observable\"},val)) : undefined; return this.valueFromJulia[\"loading\"]=false}),self),this[\"clicks\"].subscribe((function (val){!(this.valueFromJulia[\"clicks\"]) ? (WebIO.setval({\"name\":\"clicks\",\"scope\":\"750957001348281708\",\"id\":\"3222655310529154284\",\"type\":\"observable\"},val)) : undefined; return this.valueFromJulia[\"clicks\"]=false}),self)]\n        \n    }\n    self.model = new AppViewModel();\n    self.valueFromJulia = {};\n    for (var key in json_data) {\n        self.valueFromJulia[key] = false;\n    }\n    ko.applyBindings(self.model, self.dom);\n}\n);\n    (WebIO.importBlock({\"data\":[{\"name\":\"knockout\",\"type\":\"js\",\"url\":\"/assetserver/727383f2a47bd31570b7da84eee7b022dd6d7c78-knockout.js\"},{\"name\":\"knockout_punches\",\"type\":\"js\",\"url\":\"/assetserver/382b41b3b1bd9f26f75861d360bad7f8beea211f-knockout_punches.js\"}],\"type\":\"async_block\"})).then((imports) => handler.apply(this, imports));\n}\n"
                  ],
                  "observables": {
                   "clicks": {
                    "id": "3222655310529154284",
                    "sync": true,
                    "value": 0
                   },
                   "loading": {
                    "id": "1966720792996373480",
                    "sync": false,
                    "value": false
                   }
                  },
                  "systemjs_options": null
                 },
                 "nodeType": "Scope",
                 "props": {},
                 "type": "node"
                }
               ],
               "instanceArgs": {
                "namespace": "html",
                "tag": "div"
               },
               "nodeType": "DOM",
               "props": {
                "className": "field interact-widget"
               },
               "type": "node"
              },
              {
               "children": [
                {
                 "children": [
                  {
                   "children": [],
                   "instanceArgs": {
                    "namespace": "html",
                    "tag": "div"
                   },
                   "nodeType": "DOM",
                   "props": {
                    "id": "container"
                   },
                   "type": "node"
                  }
                 ],
                 "instanceArgs": {
                  "handlers": {
                   "value": [
                    "(function (txt){return this.k.render(txt,this.container)})"
                   ]
                  },
                  "id": "7562708170839852287",
                  "imports": {
                   "data": [
                    {
                     "name": null,
                     "type": "js",
                     "url": "/assetserver/dd22ed1bf1896c2748f3fe616ce0b838adc895c1-katex.min.js"
                    },
                    {
                     "name": null,
                     "type": "css",
                     "url": "/assetserver/46517a424aa5e6cffc1360d7e0848b601c584ee3-katex.min.css"
                    }
                   ],
                   "type": "async_block"
                  },
                  "mount_callbacks": [
                   "function () {\n    var handler = ((function (k){this.k=k; this.container=this.dom.querySelector(\"#container\"); return k.render(\"\\\\;\\\\;\",this.container)}));\n    (WebIO.importBlock({\"data\":[{\"name\":null,\"type\":\"js\",\"url\":\"/assetserver/dd22ed1bf1896c2748f3fe616ce0b838adc895c1-katex.min.js\"},{\"name\":null,\"type\":\"css\",\"url\":\"/assetserver/46517a424aa5e6cffc1360d7e0848b601c584ee3-katex.min.css\"}],\"type\":\"async_block\"})).then((imports) => handler.apply(this, imports));\n}\n"
                  ],
                  "observables": {
                   "value": {
                    "id": "3046804102058137458",
                    "sync": false,
                    "value": "\\;\\;"
                   }
                  },
                  "systemjs_options": null
                 },
                 "nodeType": "Scope",
                 "props": {},
                 "type": "node"
                }
               ],
               "instanceArgs": {
                "namespace": "html",
                "tag": "div"
               },
               "nodeType": "DOM",
               "props": {
                "className": "interact-widget"
               },
               "type": "node"
              },
              {
               "children": [
                {
                 "children": [
                  {
                   "children": [
                    "stop"
                   ],
                   "instanceArgs": {
                    "namespace": "html",
                    "tag": "button"
                   },
                   "nodeType": "DOM",
                   "props": {
                    "attributes": {
                     "data-bind": "click: function (){this.clicks(this.clicks()+1)}, css: {'is-loading' : loading}"
                    },
                    "className": "is-medium button is-primary",
                    "style": {}
                   },
                   "type": "node"
                  }
                 ],
                 "instanceArgs": {
                  "handlers": {
                   "clicks": [
                    "(function (val){return (val!=this.model[\"clicks\"]()) ? (this.valueFromJulia[\"clicks\"]=true, this.model[\"clicks\"](val)) : undefined})"
                   ],
                   "loading": [
                    "(function (val){return (val!=this.model[\"loading\"]()) ? (this.valueFromJulia[\"loading\"]=true, this.model[\"loading\"](val)) : undefined})"
                   ]
                  },
                  "id": "8906212832617332723",
                  "imports": {
                   "data": [
                    {
                     "name": "knockout",
                     "type": "js",
                     "url": "/assetserver/727383f2a47bd31570b7da84eee7b022dd6d7c78-knockout.js"
                    },
                    {
                     "name": "knockout_punches",
                     "type": "js",
                     "url": "/assetserver/382b41b3b1bd9f26f75861d360bad7f8beea211f-knockout_punches.js"
                    },
                    {
                     "name": null,
                     "type": "js",
                     "url": "/assetserver/5ab20f1060420992a9b82a65b735dee4d81ef413-all.js"
                    },
                    {
                     "name": null,
                     "type": "css",
                     "url": "/assetserver/1cc0ed62837210b80a182cc3676512f895dab686-style.css"
                    },
                    {
                     "name": null,
                     "type": "css",
                     "url": "/assetserver/2eee816f616df3549d7044d45e744fbf8d42bfa1-bulma_confined.min.css"
                    }
                   ],
                   "type": "async_block"
                  },
                  "mount_callbacks": [
                   "function () {\n    var handler = (function (ko, koPunches) {\n    ko.punches.enableAll();\n    ko.bindingHandlers.numericValue = {\n        init: function(element, valueAccessor, allBindings, data, context) {\n            var stringified = ko.observable(ko.unwrap(valueAccessor()));\n            stringified.subscribe(function(value) {\n                var val = parseFloat(value);\n                if (!isNaN(val)) {\n                    valueAccessor()(val);\n                }\n            });\n            valueAccessor().subscribe(function(value) {\n                var str = JSON.stringify(value);\n                if ((str == \"0\") && ([\"-0\", \"-0.\"].indexOf(stringified()) >= 0))\n                     return;\n                 if ([\"null\", \"\"].indexOf(str) >= 0)\n                     return;\n                stringified(str);\n            });\n            ko.applyBindingsToNode(\n                element,\n                {\n                    value: stringified,\n                    valueUpdate: allBindings.get('valueUpdate'),\n                },\n                context,\n            );\n        }\n    };\n    var json_data = {\"loading\":WebIO.getval({\"name\":\"loading\",\"scope\":\"8906212832617332723\",\"id\":\"12114204674402230765\",\"type\":\"observable\"}),\"clicks\":WebIO.getval({\"name\":\"clicks\",\"scope\":\"8906212832617332723\",\"id\":\"17738979815884387985\",\"type\":\"observable\"})};\n    var self = this;\n    function AppViewModel() {\n        for (var key in json_data) {\n            var el = json_data[key];\n            this[key] = Array.isArray(el) ? ko.observableArray(el) : ko.observable(el);\n        }\n        \n        \n        [this[\"loading\"].subscribe((function (val){!(this.valueFromJulia[\"loading\"]) ? (WebIO.setval({\"name\":\"loading\",\"scope\":\"8906212832617332723\",\"id\":\"12114204674402230765\",\"type\":\"observable\"},val)) : undefined; return this.valueFromJulia[\"loading\"]=false}),self),this[\"clicks\"].subscribe((function (val){!(this.valueFromJulia[\"clicks\"]) ? (WebIO.setval({\"name\":\"clicks\",\"scope\":\"8906212832617332723\",\"id\":\"17738979815884387985\",\"type\":\"observable\"},val)) : undefined; return this.valueFromJulia[\"clicks\"]=false}),self)]\n        \n    }\n    self.model = new AppViewModel();\n    self.valueFromJulia = {};\n    for (var key in json_data) {\n        self.valueFromJulia[key] = false;\n    }\n    ko.applyBindings(self.model, self.dom);\n}\n);\n    (WebIO.importBlock({\"data\":[{\"name\":\"knockout\",\"type\":\"js\",\"url\":\"/assetserver/727383f2a47bd31570b7da84eee7b022dd6d7c78-knockout.js\"},{\"name\":\"knockout_punches\",\"type\":\"js\",\"url\":\"/assetserver/382b41b3b1bd9f26f75861d360bad7f8beea211f-knockout_punches.js\"}],\"type\":\"async_block\"})).then((imports) => handler.apply(this, imports));\n}\n"
                  ],
                  "observables": {
                   "clicks": {
                    "id": "17738979815884387985",
                    "sync": true,
                    "value": 0
                   },
                   "loading": {
                    "id": "12114204674402230765",
                    "sync": false,
                    "value": false
                   }
                  },
                  "systemjs_options": null
                 },
                 "nodeType": "Scope",
                 "props": {},
                 "type": "node"
                }
               ],
               "instanceArgs": {
                "namespace": "html",
                "tag": "div"
               },
               "nodeType": "DOM",
               "props": {
                "className": "field interact-widget"
               },
               "type": "node"
              },
              {
               "children": [
                {
                 "children": [
                  {
                   "children": [],
                   "instanceArgs": {
                    "namespace": "html",
                    "tag": "div"
                   },
                   "nodeType": "DOM",
                   "props": {
                    "id": "container"
                   },
                   "type": "node"
                  }
                 ],
                 "instanceArgs": {
                  "handlers": {
                   "value": [
                    "(function (txt){return this.k.render(txt,this.container)})"
                   ]
                  },
                  "id": "7562708170839852287",
                  "imports": {
                   "data": [
                    {
                     "name": null,
                     "type": "js",
                     "url": "/assetserver/dd22ed1bf1896c2748f3fe616ce0b838adc895c1-katex.min.js"
                    },
                    {
                     "name": null,
                     "type": "css",
                     "url": "/assetserver/46517a424aa5e6cffc1360d7e0848b601c584ee3-katex.min.css"
                    }
                   ],
                   "type": "async_block"
                  },
                  "mount_callbacks": [
                   "function () {\n    var handler = ((function (k){this.k=k; this.container=this.dom.querySelector(\"#container\"); return k.render(\"\\\\;\\\\;\",this.container)}));\n    (WebIO.importBlock({\"data\":[{\"name\":null,\"type\":\"js\",\"url\":\"/assetserver/dd22ed1bf1896c2748f3fe616ce0b838adc895c1-katex.min.js\"},{\"name\":null,\"type\":\"css\",\"url\":\"/assetserver/46517a424aa5e6cffc1360d7e0848b601c584ee3-katex.min.css\"}],\"type\":\"async_block\"})).then((imports) => handler.apply(this, imports));\n}\n"
                  ],
                  "observables": {
                   "value": {
                    "id": "3046804102058137458",
                    "sync": false,
                    "value": "\\;\\;"
                   }
                  },
                  "systemjs_options": null
                 },
                 "nodeType": "Scope",
                 "props": {},
                 "type": "node"
                }
               ],
               "instanceArgs": {
                "namespace": "html",
                "tag": "div"
               },
               "nodeType": "DOM",
               "props": {
                "className": "interact-widget"
               },
               "type": "node"
              },
              {
               "children": [
                {
                 "children": [
                  {
                   "children": [
                    "save"
                   ],
                   "instanceArgs": {
                    "namespace": "html",
                    "tag": "button"
                   },
                   "nodeType": "DOM",
                   "props": {
                    "attributes": {
                     "data-bind": "click: function (){this.clicks(this.clicks()+1)}, css: {'is-loading' : loading}"
                    },
                    "className": "is-medium button is-primary",
                    "style": {}
                   },
                   "type": "node"
                  }
                 ],
                 "instanceArgs": {
                  "handlers": {
                   "clicks": [
                    "(function (val){return (val!=this.model[\"clicks\"]()) ? (this.valueFromJulia[\"clicks\"]=true, this.model[\"clicks\"](val)) : undefined})"
                   ],
                   "loading": [
                    "(function (val){return (val!=this.model[\"loading\"]()) ? (this.valueFromJulia[\"loading\"]=true, this.model[\"loading\"](val)) : undefined})"
                   ]
                  },
                  "id": "11237404198731502775",
                  "imports": {
                   "data": [
                    {
                     "name": "knockout",
                     "type": "js",
                     "url": "/assetserver/727383f2a47bd31570b7da84eee7b022dd6d7c78-knockout.js"
                    },
                    {
                     "name": "knockout_punches",
                     "type": "js",
                     "url": "/assetserver/382b41b3b1bd9f26f75861d360bad7f8beea211f-knockout_punches.js"
                    },
                    {
                     "name": null,
                     "type": "js",
                     "url": "/assetserver/5ab20f1060420992a9b82a65b735dee4d81ef413-all.js"
                    },
                    {
                     "name": null,
                     "type": "css",
                     "url": "/assetserver/1cc0ed62837210b80a182cc3676512f895dab686-style.css"
                    },
                    {
                     "name": null,
                     "type": "css",
                     "url": "/assetserver/2eee816f616df3549d7044d45e744fbf8d42bfa1-bulma_confined.min.css"
                    }
                   ],
                   "type": "async_block"
                  },
                  "mount_callbacks": [
                   "function () {\n    var handler = (function (ko, koPunches) {\n    ko.punches.enableAll();\n    ko.bindingHandlers.numericValue = {\n        init: function(element, valueAccessor, allBindings, data, context) {\n            var stringified = ko.observable(ko.unwrap(valueAccessor()));\n            stringified.subscribe(function(value) {\n                var val = parseFloat(value);\n                if (!isNaN(val)) {\n                    valueAccessor()(val);\n                }\n            });\n            valueAccessor().subscribe(function(value) {\n                var str = JSON.stringify(value);\n                if ((str == \"0\") && ([\"-0\", \"-0.\"].indexOf(stringified()) >= 0))\n                     return;\n                 if ([\"null\", \"\"].indexOf(str) >= 0)\n                     return;\n                stringified(str);\n            });\n            ko.applyBindingsToNode(\n                element,\n                {\n                    value: stringified,\n                    valueUpdate: allBindings.get('valueUpdate'),\n                },\n                context,\n            );\n        }\n    };\n    var json_data = {\"loading\":WebIO.getval({\"name\":\"loading\",\"scope\":\"11237404198731502775\",\"id\":\"2343310968754962998\",\"type\":\"observable\"}),\"clicks\":WebIO.getval({\"name\":\"clicks\",\"scope\":\"11237404198731502775\",\"id\":\"18431772379795585566\",\"type\":\"observable\"})};\n    var self = this;\n    function AppViewModel() {\n        for (var key in json_data) {\n            var el = json_data[key];\n            this[key] = Array.isArray(el) ? ko.observableArray(el) : ko.observable(el);\n        }\n        \n        \n        [this[\"loading\"].subscribe((function (val){!(this.valueFromJulia[\"loading\"]) ? (WebIO.setval({\"name\":\"loading\",\"scope\":\"11237404198731502775\",\"id\":\"2343310968754962998\",\"type\":\"observable\"},val)) : undefined; return this.valueFromJulia[\"loading\"]=false}),self),this[\"clicks\"].subscribe((function (val){!(this.valueFromJulia[\"clicks\"]) ? (WebIO.setval({\"name\":\"clicks\",\"scope\":\"11237404198731502775\",\"id\":\"18431772379795585566\",\"type\":\"observable\"},val)) : undefined; return this.valueFromJulia[\"clicks\"]=false}),self)]\n        \n    }\n    self.model = new AppViewModel();\n    self.valueFromJulia = {};\n    for (var key in json_data) {\n        self.valueFromJulia[key] = false;\n    }\n    ko.applyBindings(self.model, self.dom);\n}\n);\n    (WebIO.importBlock({\"data\":[{\"name\":\"knockout\",\"type\":\"js\",\"url\":\"/assetserver/727383f2a47bd31570b7da84eee7b022dd6d7c78-knockout.js\"},{\"name\":\"knockout_punches\",\"type\":\"js\",\"url\":\"/assetserver/382b41b3b1bd9f26f75861d360bad7f8beea211f-knockout_punches.js\"}],\"type\":\"async_block\"})).then((imports) => handler.apply(this, imports));\n}\n"
                  ],
                  "observables": {
                   "clicks": {
                    "id": "18431772379795585566",
                    "sync": true,
                    "value": 0
                   },
                   "loading": {
                    "id": "2343310968754962998",
                    "sync": false,
                    "value": false
                   }
                  },
                  "systemjs_options": null
                 },
                 "nodeType": "Scope",
                 "props": {},
                 "type": "node"
                }
               ],
               "instanceArgs": {
                "namespace": "html",
                "tag": "div"
               },
               "nodeType": "DOM",
               "props": {
                "className": "field interact-widget"
               },
               "type": "node"
              }
             ],
             "instanceArgs": {
              "namespace": "html",
              "tag": "div"
             },
             "nodeType": "DOM",
             "props": {
              "style": {
               "display": "flex",
               "flex-direction": "row"
              }
             },
             "type": "node"
            }
           ],
           "instanceArgs": {
            "namespace": "html",
            "tag": "div"
           },
           "nodeType": "DOM",
           "props": {
            "style": {
             "display": "flex",
             "flex-direction": "column"
            }
           },
           "type": "node"
          },
          {
           "children": [
            {
             "children": [
              {
               "children": [],
               "instanceArgs": {
                "namespace": "html",
                "tag": "div"
               },
               "nodeType": "DOM",
               "props": {
                "id": "container"
               },
               "type": "node"
              }
             ],
             "instanceArgs": {
              "handlers": {
               "value": [
                "(function (txt){return this.k.render(txt,this.container)})"
               ]
              },
              "id": "7562708170839852287",
              "imports": {
               "data": [
                {
                 "name": null,
                 "type": "js",
                 "url": "/assetserver/dd22ed1bf1896c2748f3fe616ce0b838adc895c1-katex.min.js"
                },
                {
                 "name": null,
                 "type": "css",
                 "url": "/assetserver/46517a424aa5e6cffc1360d7e0848b601c584ee3-katex.min.css"
                }
               ],
               "type": "async_block"
              },
              "mount_callbacks": [
               "function () {\n    var handler = ((function (k){this.k=k; this.container=this.dom.querySelector(\"#container\"); return k.render(\"\\\\;\\\\;\",this.container)}));\n    (WebIO.importBlock({\"data\":[{\"name\":null,\"type\":\"js\",\"url\":\"/assetserver/dd22ed1bf1896c2748f3fe616ce0b838adc895c1-katex.min.js\"},{\"name\":null,\"type\":\"css\",\"url\":\"/assetserver/46517a424aa5e6cffc1360d7e0848b601c584ee3-katex.min.css\"}],\"type\":\"async_block\"})).then((imports) => handler.apply(this, imports));\n}\n"
              ],
              "observables": {
               "value": {
                "id": "3046804102058137458",
                "sync": false,
                "value": "\\;\\;"
               }
              },
              "systemjs_options": null
             },
             "nodeType": "Scope",
             "props": {},
             "type": "node"
            }
           ],
           "instanceArgs": {
            "namespace": "html",
            "tag": "div"
           },
           "nodeType": "DOM",
           "props": {
            "className": "interact-widget"
           },
           "type": "node"
          },
          {
           "children": [
            {
             "children": [],
             "instanceArgs": {
              "namespace": "html",
              "tag": "div"
             },
             "nodeType": "DOM",
             "props": {
              "className": "webio-observable",
              "setInnerHtml": "<img src='data:image/png;base64,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'></img>"
             },
             "type": "node"
            }
           ],
           "instanceArgs": {
            "handlers": {
             "obs-output": [
              "function (value, scope) {\n    scope.setInnerHTML(value);\n}\n"
             ]
            },
            "id": "12719812434333593110",
            "imports": {
             "data": [],
             "type": "async_block"
            },
            "mount_callbacks": [],
            "observables": {
             "obs-output": {
              "id": "11280156219468554584",
              "sync": false,
              "value": "<img src='data:image/png;base64,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'></img>"
             }
            },
            "systemjs_options": null
           },
           "nodeType": "Scope",
           "props": {},
           "type": "node"
          },
          {
           "children": [
            {
             "children": [
              {
               "children": [],
               "instanceArgs": {
                "namespace": "html",
                "tag": "div"
               },
               "nodeType": "DOM",
               "props": {
                "id": "container"
               },
               "type": "node"
              }
             ],
             "instanceArgs": {
              "handlers": {
               "value": [
                "(function (txt){return this.k.render(txt,this.container)})"
               ]
              },
              "id": "7562708170839852287",
              "imports": {
               "data": [
                {
                 "name": null,
                 "type": "js",
                 "url": "/assetserver/dd22ed1bf1896c2748f3fe616ce0b838adc895c1-katex.min.js"
                },
                {
                 "name": null,
                 "type": "css",
                 "url": "/assetserver/46517a424aa5e6cffc1360d7e0848b601c584ee3-katex.min.css"
                }
               ],
               "type": "async_block"
              },
              "mount_callbacks": [
               "function () {\n    var handler = ((function (k){this.k=k; this.container=this.dom.querySelector(\"#container\"); return k.render(\"\\\\;\\\\;\",this.container)}));\n    (WebIO.importBlock({\"data\":[{\"name\":null,\"type\":\"js\",\"url\":\"/assetserver/dd22ed1bf1896c2748f3fe616ce0b838adc895c1-katex.min.js\"},{\"name\":null,\"type\":\"css\",\"url\":\"/assetserver/46517a424aa5e6cffc1360d7e0848b601c584ee3-katex.min.css\"}],\"type\":\"async_block\"})).then((imports) => handler.apply(this, imports));\n}\n"
              ],
              "observables": {
               "value": {
                "id": "3046804102058137458",
                "sync": false,
                "value": "\\;\\;"
               }
              },
              "systemjs_options": null
             },
             "nodeType": "Scope",
             "props": {},
             "type": "node"
            }
           ],
           "instanceArgs": {
            "namespace": "html",
            "tag": "div"
           },
           "nodeType": "DOM",
           "props": {
            "className": "interact-widget"
           },
           "type": "node"
          },
          {
           "children": [],
           "instanceArgs": {
            "namespace": "html",
            "tag": "div"
           },
           "nodeType": "DOM",
           "props": {
            "style": {
             "display": "flex",
             "flex-direction": "column"
            }
           },
           "type": "node"
          }
         ],
         "instanceArgs": {
          "namespace": "html",
          "tag": "div"
         },
         "nodeType": "DOM",
         "props": {
          "style": {
           "display": "flex",
           "flex-direction": "row"
          }
         },
         "type": "node"
        }
       ],
       "instanceArgs": {
        "namespace": "html",
        "tag": "div"
       },
       "nodeType": "DOM",
       "props": {
        "style": {
         "display": "flex",
         "flex-direction": "column"
        }
       },
       "type": "node"
      },
      "text/html": [
       "<div\n",
       "    class=\"webio-mountpoint\"\n",
       "    data-webio-mountpoint=\"8675646616862624866\"\n",
       ">\n",
       "    <script>\n",
       "    (function(){\n",
       "    // Some integrations (namely, IJulia/Jupyter) use an alternate render pathway than\n",
       "    // just putting the html on the page. If WebIO isn't defined, then it's pretty likely\n",
       "    // that we're in one of those situations and the integration just isn't installed\n",
       "    // correctly.\n",
       "    if (typeof window.WebIO === \"undefined\") {\n",
       "        document\n",
       "            .querySelector('[data-webio-mountpoint=\"8675646616862624866\"]')\n",
       "            .innerHTML = (\n",
       "                '<div style=\"padding: 1em; background-color: #f8d6da; border: 1px solid #f5c6cb; font-weight: bold;\">' +\n",
       "                '<p><strong>WebIO not detected.</strong></p>' +\n",
       "                '<p>Please read ' +\n",
       "                '<a href=\"https://juliagizmos.github.io/WebIO.jl/latest/troubleshooting/not-detected/\" target=\"_blank\">the troubleshooting guide</a> ' +\n",
       "                'for more information on how to resolve this issue.</p>' +\n",
       "                '<p><a href=\"https://juliagizmos.github.io/WebIO.jl/latest/troubleshooting/not-detected/\" target=\"_blank\">https://juliagizmos.github.io/WebIO.jl/latest/troubleshooting/not-detected/</a></p>' +\n",
       "                '</div>'\n",
       "            );\n",
       "        return;\n",
       "    }\n",
       "    WebIO.mount(\n",
       "        document.querySelector('[data-webio-mountpoint=\"8675646616862624866\"]'),\n",
       "        {\"props\":{\"style\":{\"display\":\"flex\",\"flex-direction\":\"column\"}},\"nodeType\":\"DOM\",\"type\":\"node\",\"instanceArgs\":{\"namespace\":\"html\",\"tag\":\"div\"},\"children\":[{\"props\":{\"style\":{\"display\":\"flex\",\"flex-direction\":\"row\"}},\"nodeType\":\"DOM\",\"type\":\"node\",\"instanceArgs\":{\"namespace\":\"html\",\"tag\":\"div\"},\"children\":[{\"props\":{\"style\":{\"display\":\"flex\",\"flex-direction\":\"column\"}},\"nodeType\":\"DOM\",\"type\":\"node\",\"instanceArgs\":{\"namespace\":\"html\",\"tag\":\"div\"},\"children\":[{\"props\":{\"className\":\"field interact-widget\"},\"nodeType\":\"DOM\",\"type\":\"node\",\"instanceArgs\":{\"namespace\":\"html\",\"tag\":\"div\"},\"children\":[{\"props\":{},\"nodeType\":\"Scope\",\"type\":\"node\",\"instanceArgs\":{\"imports\":{\"data\":[{\"name\":\"knockout\",\"type\":\"js\",\"url\":\"\\/assetserver\\/727383f2a47bd31570b7da84eee7b022dd6d7c78-knockout.js\"},{\"name\":\"knockout_punches\",\"type\":\"js\",\"url\":\"\\/assetserver\\/382b41b3b1bd9f26f75861d360bad7f8beea211f-knockout_punches.js\"},{\"name\":null,\"type\":\"js\",\"url\":\"\\/assetserver\\/5ab20f1060420992a9b82a65b735dee4d81ef413-all.js\"},{\"name\":null,\"type\":\"css\",\"url\":\"\\/assetserver\\/1cc0ed62837210b80a182cc3676512f895dab686-style.css\"},{\"name\":null,\"type\":\"css\",\"url\":\"\\/assetserver\\/2eee816f616df3549d7044d45e744fbf8d42bfa1-bulma_confined.min.css\"}],\"type\":\"async_block\"},\"id\":\"11451510667849370213\",\"handlers\":{\"changes\":[\"(function (val){return (val!=this.model[\\\"changes\\\"]()) ? (this.valueFromJulia[\\\"changes\\\"]=true, this.model[\\\"changes\\\"](val)) : undefined})\"],\"index\":[\"(function (val){return (val!=this.model[\\\"index\\\"]()) ? (this.valueFromJulia[\\\"index\\\"]=true, this.model[\\\"index\\\"](val)) : undefined})\"]},\"systemjs_options\":null,\"mount_callbacks\":[\"function () {\\n    var handler = (function (ko, koPunches) {\\n    ko.punches.enableAll();\\n    ko.bindingHandlers.numericValue = {\\n        init: function(element, valueAccessor, allBindings, data, context) {\\n            var stringified = ko.observable(ko.unwrap(valueAccessor()));\\n            stringified.subscribe(function(value) {\\n                var val = parseFloat(value);\\n                if (!isNaN(val)) {\\n                    valueAccessor()(val);\\n                }\\n            });\\n            valueAccessor().subscribe(function(value) {\\n                var str = JSON.stringify(value);\\n                if ((str == \\\"0\\\") && ([\\\"-0\\\", \\\"-0.\\\"].indexOf(stringified()) >= 0))\\n                     return;\\n                 if ([\\\"null\\\", \\\"\\\"].indexOf(str) >= 0)\\n                     return;\\n                stringified(str);\\n            });\\n            ko.applyBindingsToNode(\\n                element,\\n                {\\n                    value: stringified,\\n                    valueUpdate: allBindings.get('valueUpdate'),\\n                },\\n                context,\\n            );\\n        }\\n    };\\n    var json_data = {\\\"formatted_vals\\\":[\\\"1\\\",\\\"2\\\",\\\"3\\\",\\\"4\\\",\\\"5\\\",\\\"6\\\",\\\"7\\\",\\\"8\\\",\\\"9\\\",\\\"10\\\",\\\"11\\\",\\\"12\\\",\\\"13\\\",\\\"14\\\",\\\"15\\\",\\\"16\\\",\\\"17\\\",\\\"18\\\",\\\"19\\\",\\\"20\\\",\\\"21\\\",\\\"22\\\",\\\"23\\\",\\\"24\\\",\\\"25\\\",\\\"26\\\",\\\"27\\\",\\\"28\\\",\\\"29\\\",\\\"30\\\",\\\"31\\\",\\\"32\\\",\\\"33\\\",\\\"34\\\",\\\"35\\\",\\\"36\\\",\\\"37\\\",\\\"38\\\",\\\"39\\\",\\\"40\\\",\\\"41\\\",\\\"42\\\",\\\"43\\\",\\\"44\\\",\\\"45\\\",\\\"46\\\",\\\"47\\\",\\\"48\\\",\\\"49\\\",\\\"50\\\",\\\"51\\\",\\\"52\\\",\\\"53\\\",\\\"54\\\",\\\"55\\\",\\\"56\\\",\\\"57\\\",\\\"58\\\",\\\"59\\\",\\\"60\\\",\\\"61\\\",\\\"62\\\",\\\"63\\\",\\\"64\\\",\\\"65\\\",\\\"66\\\",\\\"67\\\",\\\"68\\\",\\\"69\\\",\\\"70\\\",\\\"71\\\",\\\"72\\\",\\\"73\\\",\\\"74\\\",\\\"75\\\",\\\"76\\\",\\\"77\\\",\\\"78\\\",\\\"79\\\",\\\"80\\\",\\\"81\\\",\\\"82\\\",\\\"83\\\",\\\"84\\\",\\\"85\\\",\\\"86\\\",\\\"87\\\",\\\"88\\\",\\\"89\\\",\\\"90\\\",\\\"91\\\",\\\"92\\\",\\\"93\\\",\\\"94\\\",\\\"95\\\",\\\"96\\\",\\\"97\\\",\\\"98\\\",\\\"99\\\",\\\"100\\\",\\\"101\\\"],\\\"changes\\\":WebIO.getval({\\\"name\\\":\\\"changes\\\",\\\"scope\\\":\\\"11451510667849370213\\\",\\\"id\\\":\\\"5917105486569815927\\\",\\\"type\\\":\\\"observable\\\"}),\\\"index\\\":WebIO.getval({\\\"name\\\":\\\"index\\\",\\\"scope\\\":\\\"11451510667849370213\\\",\\\"id\\\":\\\"2461651568439183224\\\",\\\"type\\\":\\\"observable\\\"})};\\n    var self = this;\\n    function AppViewModel() {\\n        for (var key in json_data) {\\n            var el = json_data[key];\\n            this[key] = Array.isArray(el) ? ko.observableArray(el) : ko.observable(el);\\n        }\\n        \\n        [this[\\\"formatted_val\\\"]=ko.computed(    function(){\\n        return this.formatted_vals()[parseInt(this.index())-(1)];\\n    }\\n,this)]\\n        [this[\\\"changes\\\"].subscribe((function (val){!(this.valueFromJulia[\\\"changes\\\"]) ? (WebIO.setval({\\\"name\\\":\\\"changes\\\",\\\"scope\\\":\\\"11451510667849370213\\\",\\\"id\\\":\\\"5917105486569815927\\\",\\\"type\\\":\\\"observable\\\"},val)) : undefined; return this.valueFromJulia[\\\"changes\\\"]=false}),self),this[\\\"index\\\"].subscribe((function (val){!(this.valueFromJulia[\\\"index\\\"]) ? (WebIO.setval({\\\"name\\\":\\\"index\\\",\\\"scope\\\":\\\"11451510667849370213\\\",\\\"id\\\":\\\"2461651568439183224\\\",\\\"type\\\":\\\"observable\\\"},val)) : undefined; return this.valueFromJulia[\\\"index\\\"]=false}),self)]\\n        \\n    }\\n    self.model = new AppViewModel();\\n    self.valueFromJulia = {};\\n    for (var key in json_data) {\\n        self.valueFromJulia[key] = false;\\n    }\\n    ko.applyBindings(self.model, self.dom);\\n}\\n);\\n    (WebIO.importBlock({\\\"data\\\":[{\\\"name\\\":\\\"knockout\\\",\\\"type\\\":\\\"js\\\",\\\"url\\\":\\\"\\/assetserver\\/727383f2a47bd31570b7da84eee7b022dd6d7c78-knockout.js\\\"},{\\\"name\\\":\\\"knockout_punches\\\",\\\"type\\\":\\\"js\\\",\\\"url\\\":\\\"\\/assetserver\\/382b41b3b1bd9f26f75861d360bad7f8beea211f-knockout_punches.js\\\"}],\\\"type\\\":\\\"async_block\\\"})).then((imports) => handler.apply(this, imports));\\n}\\n\"],\"observables\":{\"changes\":{\"sync\":false,\"id\":\"5917105486569815927\",\"value\":0},\"index\":{\"sync\":true,\"id\":\"2461651568439183224\",\"value\":51}}},\"children\":[{\"props\":{\"className\":\"interact-flex-row interact-widget\"},\"nodeType\":\"DOM\",\"type\":\"node\",\"instanceArgs\":{\"namespace\":\"html\",\"tag\":\"div\"},\"children\":[{\"props\":{\"className\":\"interact-flex-row-left\"},\"nodeType\":\"DOM\",\"type\":\"node\",\"instanceArgs\":{\"namespace\":\"html\",\"tag\":\"div\"},\"children\":[{\"props\":{\"className\":\"interact \",\"style\":{\"padding\":\"5px 10px 0px 10px\"}},\"nodeType\":\"DOM\",\"type\":\"node\",\"instanceArgs\":{\"namespace\":\"html\",\"tag\":\"label\"},\"children\":[\"time\"]}]},{\"props\":{\"className\":\"interact-flex-row-center\"},\"nodeType\":\"DOM\",\"type\":\"node\",\"instanceArgs\":{\"namespace\":\"html\",\"tag\":\"div\"},\"children\":[{\"props\":{\"max\":101,\"min\":1,\"attributes\":{\"type\":\"range\",\"data-bind\":\"numericValue: index, valueUpdate: 'input', event: {change: function (){this.changes(this.changes()+1)}}\",\"orient\":\"horizontal\"},\"step\":1,\"className\":\"slider slider is-fullwidth\",\"style\":{}},\"nodeType\":\"DOM\",\"type\":\"node\",\"instanceArgs\":{\"namespace\":\"html\",\"tag\":\"input\"},\"children\":[]}]},{\"props\":{\"className\":\"interact-flex-row-right\"},\"nodeType\":\"DOM\",\"type\":\"node\",\"instanceArgs\":{\"namespace\":\"html\",\"tag\":\"div\"},\"children\":[{\"props\":{\"attributes\":{\"data-bind\":\"text: formatted_val\"}},\"nodeType\":\"DOM\",\"type\":\"node\",\"instanceArgs\":{\"namespace\":\"html\",\"tag\":\"p\"},\"children\":[]}]}]}]}]},{\"props\":{\"className\":\"field interact-widget\"},\"nodeType\":\"DOM\",\"type\":\"node\",\"instanceArgs\":{\"namespace\":\"html\",\"tag\":\"div\"},\"children\":[{\"props\":{},\"nodeType\":\"Scope\",\"type\":\"node\",\"instanceArgs\":{\"imports\":{\"data\":[{\"name\":\"knockout\",\"type\":\"js\",\"url\":\"\\/assetserver\\/727383f2a47bd31570b7da84eee7b022dd6d7c78-knockout.js\"},{\"name\":\"knockout_punches\",\"type\":\"js\",\"url\":\"\\/assetserver\\/382b41b3b1bd9f26f75861d360bad7f8beea211f-knockout_punches.js\"},{\"name\":null,\"type\":\"js\",\"url\":\"\\/assetserver\\/5ab20f1060420992a9b82a65b735dee4d81ef413-all.js\"},{\"name\":null,\"type\":\"css\",\"url\":\"\\/assetserver\\/1cc0ed62837210b80a182cc3676512f895dab686-style.css\"},{\"name\":null,\"type\":\"css\",\"url\":\"\\/assetserver\\/2eee816f616df3549d7044d45e744fbf8d42bfa1-bulma_confined.min.css\"}],\"type\":\"async_block\"},\"id\":\"4680600604176612162\",\"handlers\":{\"changes\":[\"(function (val){return (val!=this.model[\\\"changes\\\"]()) ? (this.valueFromJulia[\\\"changes\\\"]=true, this.model[\\\"changes\\\"](val)) : undefined})\"],\"index\":[\"(function (val){return (val!=this.model[\\\"index\\\"]()) ? (this.valueFromJulia[\\\"index\\\"]=true, this.model[\\\"index\\\"](val)) : undefined})\"]},\"systemjs_options\":null,\"mount_callbacks\":[\"function () {\\n    var handler = (function (ko, koPunches) {\\n    ko.punches.enableAll();\\n    ko.bindingHandlers.numericValue = {\\n        init: function(element, valueAccessor, allBindings, data, context) {\\n            var stringified = ko.observable(ko.unwrap(valueAccessor()));\\n            stringified.subscribe(function(value) {\\n                var val = parseFloat(value);\\n                if (!isNaN(val)) {\\n                    valueAccessor()(val);\\n                }\\n            });\\n            valueAccessor().subscribe(function(value) {\\n                var str = JSON.stringify(value);\\n                if ((str == \\\"0\\\") && ([\\\"-0\\\", \\\"-0.\\\"].indexOf(stringified()) >= 0))\\n                     return;\\n                 if ([\\\"null\\\", \\\"\\\"].indexOf(str) >= 0)\\n                     return;\\n                stringified(str);\\n            });\\n            ko.applyBindingsToNode(\\n                element,\\n                {\\n                    value: stringified,\\n                    valueUpdate: allBindings.get('valueUpdate'),\\n                },\\n                context,\\n            );\\n        }\\n    };\\n    var json_data = {\\\"formatted_vals\\\":[\\\"0.1\\\",\\\"0.2\\\",\\\"0.3\\\",\\\"0.4\\\",\\\"0.5\\\",\\\"0.6\\\",\\\"0.7\\\",\\\"0.8\\\",\\\"0.9\\\",\\\"1.0\\\",\\\"1.1\\\",\\\"1.2\\\",\\\"1.3\\\",\\\"1.4\\\",\\\"1.5\\\",\\\"1.6\\\",\\\"1.7\\\",\\\"1.8\\\",\\\"1.9\\\",\\\"2.0\\\"],\\\"changes\\\":WebIO.getval({\\\"name\\\":\\\"changes\\\",\\\"scope\\\":\\\"4680600604176612162\\\",\\\"id\\\":\\\"14361720778815733643\\\",\\\"type\\\":\\\"observable\\\"}),\\\"index\\\":WebIO.getval({\\\"name\\\":\\\"index\\\",\\\"scope\\\":\\\"4680600604176612162\\\",\\\"id\\\":\\\"9484683872547719436\\\",\\\"type\\\":\\\"observable\\\"})};\\n    var self = this;\\n    function AppViewModel() {\\n        for (var key in json_data) {\\n            var el = json_data[key];\\n            this[key] = Array.isArray(el) ? ko.observableArray(el) : ko.observable(el);\\n        }\\n        \\n        [this[\\\"formatted_val\\\"]=ko.computed(    function(){\\n        return this.formatted_vals()[parseInt(this.index())-(1)];\\n    }\\n,this)]\\n        [this[\\\"changes\\\"].subscribe((function (val){!(this.valueFromJulia[\\\"changes\\\"]) ? (WebIO.setval({\\\"name\\\":\\\"changes\\\",\\\"scope\\\":\\\"4680600604176612162\\\",\\\"id\\\":\\\"14361720778815733643\\\",\\\"type\\\":\\\"observable\\\"},val)) : undefined; return this.valueFromJulia[\\\"changes\\\"]=false}),self),this[\\\"index\\\"].subscribe((function (val){!(this.valueFromJulia[\\\"index\\\"]) ? (WebIO.setval({\\\"name\\\":\\\"index\\\",\\\"scope\\\":\\\"4680600604176612162\\\",\\\"id\\\":\\\"9484683872547719436\\\",\\\"type\\\":\\\"observable\\\"},val)) : undefined; return this.valueFromJulia[\\\"index\\\"]=false}),self)]\\n        \\n    }\\n    self.model = new AppViewModel();\\n    self.valueFromJulia = {};\\n    for (var key in json_data) {\\n        self.valueFromJulia[key] = false;\\n    }\\n    ko.applyBindings(self.model, self.dom);\\n}\\n);\\n    (WebIO.importBlock({\\\"data\\\":[{\\\"name\\\":\\\"knockout\\\",\\\"type\\\":\\\"js\\\",\\\"url\\\":\\\"\\/assetserver\\/727383f2a47bd31570b7da84eee7b022dd6d7c78-knockout.js\\\"},{\\\"name\\\":\\\"knockout_punches\\\",\\\"type\\\":\\\"js\\\",\\\"url\\\":\\\"\\/assetserver\\/382b41b3b1bd9f26f75861d360bad7f8beea211f-knockout_punches.js\\\"}],\\\"type\\\":\\\"async_block\\\"})).then((imports) => handler.apply(this, imports));\\n}\\n\"],\"observables\":{\"changes\":{\"sync\":false,\"id\":\"14361720778815733643\",\"value\":0},\"index\":{\"sync\":true,\"id\":\"9484683872547719436\",\"value\":10}}},\"children\":[{\"props\":{\"className\":\"interact-flex-row interact-widget\"},\"nodeType\":\"DOM\",\"type\":\"node\",\"instanceArgs\":{\"namespace\":\"html\",\"tag\":\"div\"},\"children\":[{\"props\":{\"className\":\"interact-flex-row-left\"},\"nodeType\":\"DOM\",\"type\":\"node\",\"instanceArgs\":{\"namespace\":\"html\",\"tag\":\"div\"},\"children\":[{\"props\":{\"className\":\"interact \",\"style\":{\"padding\":\"5px 10px 0px 10px\"}},\"nodeType\":\"DOM\",\"type\":\"node\",\"instanceArgs\":{\"namespace\":\"html\",\"tag\":\"label\"},\"children\":[\"scale\"]}]},{\"props\":{\"className\":\"interact-flex-row-center\"},\"nodeType\":\"DOM\",\"type\":\"node\",\"instanceArgs\":{\"namespace\":\"html\",\"tag\":\"div\"},\"children\":[{\"props\":{\"max\":20,\"min\":1,\"attributes\":{\"type\":\"range\",\"data-bind\":\"numericValue: index, valueUpdate: 'input', event: {change: function (){this.changes(this.changes()+1)}}\",\"orient\":\"horizontal\"},\"step\":1,\"className\":\"slider slider is-fullwidth\",\"style\":{}},\"nodeType\":\"DOM\",\"type\":\"node\",\"instanceArgs\":{\"namespace\":\"html\",\"tag\":\"input\"},\"children\":[]}]},{\"props\":{\"className\":\"interact-flex-row-right\"},\"nodeType\":\"DOM\",\"type\":\"node\",\"instanceArgs\":{\"namespace\":\"html\",\"tag\":\"div\"},\"children\":[{\"props\":{\"attributes\":{\"data-bind\":\"text: formatted_val\"}},\"nodeType\":\"DOM\",\"type\":\"node\",\"instanceArgs\":{\"namespace\":\"html\",\"tag\":\"p\"},\"children\":[]}]}]}]}]},{\"props\":{\"style\":{\"display\":\"flex\",\"flex-direction\":\"row\"}},\"nodeType\":\"DOM\",\"type\":\"node\",\"instanceArgs\":{\"namespace\":\"html\",\"tag\":\"div\"},\"children\":[{\"props\":{\"className\":\"interact-widget\"},\"nodeType\":\"DOM\",\"type\":\"node\",\"instanceArgs\":{\"namespace\":\"html\",\"tag\":\"div\"},\"children\":[{\"props\":{},\"nodeType\":\"Scope\",\"type\":\"node\",\"instanceArgs\":{\"imports\":{\"data\":[{\"name\":null,\"type\":\"js\",\"url\":\"\\/assetserver\\/dd22ed1bf1896c2748f3fe616ce0b838adc895c1-katex.min.js\"},{\"name\":null,\"type\":\"css\",\"url\":\"\\/assetserver\\/46517a424aa5e6cffc1360d7e0848b601c584ee3-katex.min.css\"}],\"type\":\"async_block\"},\"id\":\"7562708170839852287\",\"handlers\":{\"value\":[\"(function (txt){return this.k.render(txt,this.container)})\"]},\"systemjs_options\":null,\"mount_callbacks\":[\"function () {\\n    var handler = ((function (k){this.k=k; this.container=this.dom.querySelector(\\\"#container\\\"); return k.render(\\\"\\\\\\\\;\\\\\\\\;\\\",this.container)}));\\n    (WebIO.importBlock({\\\"data\\\":[{\\\"name\\\":null,\\\"type\\\":\\\"js\\\",\\\"url\\\":\\\"\\/assetserver\\/dd22ed1bf1896c2748f3fe616ce0b838adc895c1-katex.min.js\\\"},{\\\"name\\\":null,\\\"type\\\":\\\"css\\\",\\\"url\\\":\\\"\\/assetserver\\/46517a424aa5e6cffc1360d7e0848b601c584ee3-katex.min.css\\\"}],\\\"type\\\":\\\"async_block\\\"})).then((imports) => handler.apply(this, imports));\\n}\\n\"],\"observables\":{\"value\":{\"sync\":false,\"id\":\"3046804102058137458\",\"value\":\"\\\\;\\\\;\"}}},\"children\":[{\"props\":{\"id\":\"container\"},\"nodeType\":\"DOM\",\"type\":\"node\",\"instanceArgs\":{\"namespace\":\"html\",\"tag\":\"div\"},\"children\":[]}]}]},{\"props\":{\"className\":\"field interact-widget\"},\"nodeType\":\"DOM\",\"type\":\"node\",\"instanceArgs\":{\"namespace\":\"html\",\"tag\":\"div\"},\"children\":[{\"props\":{},\"nodeType\":\"Scope\",\"type\":\"node\",\"instanceArgs\":{\"imports\":{\"data\":[{\"name\":\"knockout\",\"type\":\"js\",\"url\":\"\\/assetserver\\/727383f2a47bd31570b7da84eee7b022dd6d7c78-knockout.js\"},{\"name\":\"knockout_punches\",\"type\":\"js\",\"url\":\"\\/assetserver\\/382b41b3b1bd9f26f75861d360bad7f8beea211f-knockout_punches.js\"},{\"name\":null,\"type\":\"js\",\"url\":\"\\/assetserver\\/5ab20f1060420992a9b82a65b735dee4d81ef413-all.js\"},{\"name\":null,\"type\":\"css\",\"url\":\"\\/assetserver\\/1cc0ed62837210b80a182cc3676512f895dab686-style.css\"},{\"name\":null,\"type\":\"css\",\"url\":\"\\/assetserver\\/2eee816f616df3549d7044d45e744fbf8d42bfa1-bulma_confined.min.css\"}],\"type\":\"async_block\"},\"id\":\"750957001348281708\",\"handlers\":{\"loading\":[\"(function (val){return (val!=this.model[\\\"loading\\\"]()) ? (this.valueFromJulia[\\\"loading\\\"]=true, this.model[\\\"loading\\\"](val)) : undefined})\"],\"clicks\":[\"(function (val){return (val!=this.model[\\\"clicks\\\"]()) ? (this.valueFromJulia[\\\"clicks\\\"]=true, this.model[\\\"clicks\\\"](val)) : undefined})\"]},\"systemjs_options\":null,\"mount_callbacks\":[\"function () {\\n    var handler = (function (ko, koPunches) {\\n    ko.punches.enableAll();\\n    ko.bindingHandlers.numericValue = {\\n        init: function(element, valueAccessor, allBindings, data, context) {\\n            var stringified = ko.observable(ko.unwrap(valueAccessor()));\\n            stringified.subscribe(function(value) {\\n                var val = parseFloat(value);\\n                if (!isNaN(val)) {\\n                    valueAccessor()(val);\\n                }\\n            });\\n            valueAccessor().subscribe(function(value) {\\n                var str = JSON.stringify(value);\\n                if ((str == \\\"0\\\") && ([\\\"-0\\\", \\\"-0.\\\"].indexOf(stringified()) >= 0))\\n                     return;\\n                 if ([\\\"null\\\", \\\"\\\"].indexOf(str) >= 0)\\n                     return;\\n                stringified(str);\\n            });\\n            ko.applyBindingsToNode(\\n                element,\\n                {\\n                    value: stringified,\\n                    valueUpdate: allBindings.get('valueUpdate'),\\n                },\\n                context,\\n            );\\n        }\\n    };\\n    var json_data = {\\\"loading\\\":WebIO.getval({\\\"name\\\":\\\"loading\\\",\\\"scope\\\":\\\"750957001348281708\\\",\\\"id\\\":\\\"1966720792996373480\\\",\\\"type\\\":\\\"observable\\\"}),\\\"clicks\\\":WebIO.getval({\\\"name\\\":\\\"clicks\\\",\\\"scope\\\":\\\"750957001348281708\\\",\\\"id\\\":\\\"3222655310529154284\\\",\\\"type\\\":\\\"observable\\\"})};\\n    var self = this;\\n    function AppViewModel() {\\n        for (var key in json_data) {\\n            var el = json_data[key];\\n            this[key] = Array.isArray(el) ? ko.observableArray(el) : ko.observable(el);\\n        }\\n        \\n        \\n        [this[\\\"loading\\\"].subscribe((function (val){!(this.valueFromJulia[\\\"loading\\\"]) ? (WebIO.setval({\\\"name\\\":\\\"loading\\\",\\\"scope\\\":\\\"750957001348281708\\\",\\\"id\\\":\\\"1966720792996373480\\\",\\\"type\\\":\\\"observable\\\"},val)) : undefined; return this.valueFromJulia[\\\"loading\\\"]=false}),self),this[\\\"clicks\\\"].subscribe((function (val){!(this.valueFromJulia[\\\"clicks\\\"]) ? (WebIO.setval({\\\"name\\\":\\\"clicks\\\",\\\"scope\\\":\\\"750957001348281708\\\",\\\"id\\\":\\\"3222655310529154284\\\",\\\"type\\\":\\\"observable\\\"},val)) : undefined; return this.valueFromJulia[\\\"clicks\\\"]=false}),self)]\\n        \\n    }\\n    self.model = new AppViewModel();\\n    self.valueFromJulia = {};\\n    for (var key in json_data) {\\n        self.valueFromJulia[key] = false;\\n    }\\n    ko.applyBindings(self.model, self.dom);\\n}\\n);\\n    (WebIO.importBlock({\\\"data\\\":[{\\\"name\\\":\\\"knockout\\\",\\\"type\\\":\\\"js\\\",\\\"url\\\":\\\"\\/assetserver\\/727383f2a47bd31570b7da84eee7b022dd6d7c78-knockout.js\\\"},{\\\"name\\\":\\\"knockout_punches\\\",\\\"type\\\":\\\"js\\\",\\\"url\\\":\\\"\\/assetserver\\/382b41b3b1bd9f26f75861d360bad7f8beea211f-knockout_punches.js\\\"}],\\\"type\\\":\\\"async_block\\\"})).then((imports) => handler.apply(this, imports));\\n}\\n\"],\"observables\":{\"loading\":{\"sync\":false,\"id\":\"1966720792996373480\",\"value\":false},\"clicks\":{\"sync\":true,\"id\":\"3222655310529154284\",\"value\":0}}},\"children\":[{\"props\":{\"attributes\":{\"data-bind\":\"click: function (){this.clicks(this.clicks()+1)}, css: {'is-loading' : loading}\"},\"className\":\"is-medium button is-primary\",\"style\":{}},\"nodeType\":\"DOM\",\"type\":\"node\",\"instanceArgs\":{\"namespace\":\"html\",\"tag\":\"button\"},\"children\":[\"run\"]}]}]},{\"props\":{\"className\":\"interact-widget\"},\"nodeType\":\"DOM\",\"type\":\"node\",\"instanceArgs\":{\"namespace\":\"html\",\"tag\":\"div\"},\"children\":[{\"props\":{},\"nodeType\":\"Scope\",\"type\":\"node\",\"instanceArgs\":{\"imports\":{\"data\":[{\"name\":null,\"type\":\"js\",\"url\":\"\\/assetserver\\/dd22ed1bf1896c2748f3fe616ce0b838adc895c1-katex.min.js\"},{\"name\":null,\"type\":\"css\",\"url\":\"\\/assetserver\\/46517a424aa5e6cffc1360d7e0848b601c584ee3-katex.min.css\"}],\"type\":\"async_block\"},\"id\":\"7562708170839852287\",\"handlers\":{\"value\":[\"(function (txt){return this.k.render(txt,this.container)})\"]},\"systemjs_options\":null,\"mount_callbacks\":[\"function () {\\n    var handler = ((function (k){this.k=k; this.container=this.dom.querySelector(\\\"#container\\\"); return k.render(\\\"\\\\\\\\;\\\\\\\\;\\\",this.container)}));\\n    (WebIO.importBlock({\\\"data\\\":[{\\\"name\\\":null,\\\"type\\\":\\\"js\\\",\\\"url\\\":\\\"\\/assetserver\\/dd22ed1bf1896c2748f3fe616ce0b838adc895c1-katex.min.js\\\"},{\\\"name\\\":null,\\\"type\\\":\\\"css\\\",\\\"url\\\":\\\"\\/assetserver\\/46517a424aa5e6cffc1360d7e0848b601c584ee3-katex.min.css\\\"}],\\\"type\\\":\\\"async_block\\\"})).then((imports) => handler.apply(this, imports));\\n}\\n\"],\"observables\":{\"value\":{\"sync\":false,\"id\":\"3046804102058137458\",\"value\":\"\\\\;\\\\;\"}}},\"children\":[{\"props\":{\"id\":\"container\"},\"nodeType\":\"DOM\",\"type\":\"node\",\"instanceArgs\":{\"namespace\":\"html\",\"tag\":\"div\"},\"children\":[]}]}]},{\"props\":{\"className\":\"field interact-widget\"},\"nodeType\":\"DOM\",\"type\":\"node\",\"instanceArgs\":{\"namespace\":\"html\",\"tag\":\"div\"},\"children\":[{\"props\":{},\"nodeType\":\"Scope\",\"type\":\"node\",\"instanceArgs\":{\"imports\":{\"data\":[{\"name\":\"knockout\",\"type\":\"js\",\"url\":\"\\/assetserver\\/727383f2a47bd31570b7da84eee7b022dd6d7c78-knockout.js\"},{\"name\":\"knockout_punches\",\"type\":\"js\",\"url\":\"\\/assetserver\\/382b41b3b1bd9f26f75861d360bad7f8beea211f-knockout_punches.js\"},{\"name\":null,\"type\":\"js\",\"url\":\"\\/assetserver\\/5ab20f1060420992a9b82a65b735dee4d81ef413-all.js\"},{\"name\":null,\"type\":\"css\",\"url\":\"\\/assetserver\\/1cc0ed62837210b80a182cc3676512f895dab686-style.css\"},{\"name\":null,\"type\":\"css\",\"url\":\"\\/assetserver\\/2eee816f616df3549d7044d45e744fbf8d42bfa1-bulma_confined.min.css\"}],\"type\":\"async_block\"},\"id\":\"8906212832617332723\",\"handlers\":{\"loading\":[\"(function (val){return (val!=this.model[\\\"loading\\\"]()) ? (this.valueFromJulia[\\\"loading\\\"]=true, this.model[\\\"loading\\\"](val)) : undefined})\"],\"clicks\":[\"(function (val){return (val!=this.model[\\\"clicks\\\"]()) ? (this.valueFromJulia[\\\"clicks\\\"]=true, this.model[\\\"clicks\\\"](val)) : undefined})\"]},\"systemjs_options\":null,\"mount_callbacks\":[\"function () {\\n    var handler = (function (ko, koPunches) {\\n    ko.punches.enableAll();\\n    ko.bindingHandlers.numericValue = {\\n        init: function(element, valueAccessor, allBindings, data, context) {\\n            var stringified = ko.observable(ko.unwrap(valueAccessor()));\\n            stringified.subscribe(function(value) {\\n                var val = parseFloat(value);\\n                if (!isNaN(val)) {\\n                    valueAccessor()(val);\\n                }\\n            });\\n            valueAccessor().subscribe(function(value) {\\n                var str = JSON.stringify(value);\\n                if ((str == \\\"0\\\") && ([\\\"-0\\\", \\\"-0.\\\"].indexOf(stringified()) >= 0))\\n                     return;\\n                 if ([\\\"null\\\", \\\"\\\"].indexOf(str) >= 0)\\n                     return;\\n                stringified(str);\\n            });\\n            ko.applyBindingsToNode(\\n                element,\\n                {\\n                    value: stringified,\\n                    valueUpdate: allBindings.get('valueUpdate'),\\n                },\\n                context,\\n            );\\n        }\\n    };\\n    var json_data = {\\\"loading\\\":WebIO.getval({\\\"name\\\":\\\"loading\\\",\\\"scope\\\":\\\"8906212832617332723\\\",\\\"id\\\":\\\"12114204674402230765\\\",\\\"type\\\":\\\"observable\\\"}),\\\"clicks\\\":WebIO.getval({\\\"name\\\":\\\"clicks\\\",\\\"scope\\\":\\\"8906212832617332723\\\",\\\"id\\\":\\\"17738979815884387985\\\",\\\"type\\\":\\\"observable\\\"})};\\n    var self = this;\\n    function AppViewModel() {\\n        for (var key in json_data) {\\n            var el = json_data[key];\\n            this[key] = Array.isArray(el) ? ko.observableArray(el) : ko.observable(el);\\n        }\\n        \\n        \\n        [this[\\\"loading\\\"].subscribe((function (val){!(this.valueFromJulia[\\\"loading\\\"]) ? (WebIO.setval({\\\"name\\\":\\\"loading\\\",\\\"scope\\\":\\\"8906212832617332723\\\",\\\"id\\\":\\\"12114204674402230765\\\",\\\"type\\\":\\\"observable\\\"},val)) : undefined; return this.valueFromJulia[\\\"loading\\\"]=false}),self),this[\\\"clicks\\\"].subscribe((function (val){!(this.valueFromJulia[\\\"clicks\\\"]) ? (WebIO.setval({\\\"name\\\":\\\"clicks\\\",\\\"scope\\\":\\\"8906212832617332723\\\",\\\"id\\\":\\\"17738979815884387985\\\",\\\"type\\\":\\\"observable\\\"},val)) : undefined; return this.valueFromJulia[\\\"clicks\\\"]=false}),self)]\\n        \\n    }\\n    self.model = new AppViewModel();\\n    self.valueFromJulia = {};\\n    for (var key in json_data) {\\n        self.valueFromJulia[key] = false;\\n    }\\n    ko.applyBindings(self.model, self.dom);\\n}\\n);\\n    (WebIO.importBlock({\\\"data\\\":[{\\\"name\\\":\\\"knockout\\\",\\\"type\\\":\\\"js\\\",\\\"url\\\":\\\"\\/assetserver\\/727383f2a47bd31570b7da84eee7b022dd6d7c78-knockout.js\\\"},{\\\"name\\\":\\\"knockout_punches\\\",\\\"type\\\":\\\"js\\\",\\\"url\\\":\\\"\\/assetserver\\/382b41b3b1bd9f26f75861d360bad7f8beea211f-knockout_punches.js\\\"}],\\\"type\\\":\\\"async_block\\\"})).then((imports) => handler.apply(this, imports));\\n}\\n\"],\"observables\":{\"loading\":{\"sync\":false,\"id\":\"12114204674402230765\",\"value\":false},\"clicks\":{\"sync\":true,\"id\":\"17738979815884387985\",\"value\":0}}},\"children\":[{\"props\":{\"attributes\":{\"data-bind\":\"click: function (){this.clicks(this.clicks()+1)}, css: {'is-loading' : loading}\"},\"className\":\"is-medium button is-primary\",\"style\":{}},\"nodeType\":\"DOM\",\"type\":\"node\",\"instanceArgs\":{\"namespace\":\"html\",\"tag\":\"button\"},\"children\":[\"stop\"]}]}]},{\"props\":{\"className\":\"interact-widget\"},\"nodeType\":\"DOM\",\"type\":\"node\",\"instanceArgs\":{\"namespace\":\"html\",\"tag\":\"div\"},\"children\":[{\"props\":{},\"nodeType\":\"Scope\",\"type\":\"node\",\"instanceArgs\":{\"imports\":{\"data\":[{\"name\":null,\"type\":\"js\",\"url\":\"\\/assetserver\\/dd22ed1bf1896c2748f3fe616ce0b838adc895c1-katex.min.js\"},{\"name\":null,\"type\":\"css\",\"url\":\"\\/assetserver\\/46517a424aa5e6cffc1360d7e0848b601c584ee3-katex.min.css\"}],\"type\":\"async_block\"},\"id\":\"7562708170839852287\",\"handlers\":{\"value\":[\"(function (txt){return this.k.render(txt,this.container)})\"]},\"systemjs_options\":null,\"mount_callbacks\":[\"function () {\\n    var handler = ((function (k){this.k=k; this.container=this.dom.querySelector(\\\"#container\\\"); return k.render(\\\"\\\\\\\\;\\\\\\\\;\\\",this.container)}));\\n    (WebIO.importBlock({\\\"data\\\":[{\\\"name\\\":null,\\\"type\\\":\\\"js\\\",\\\"url\\\":\\\"\\/assetserver\\/dd22ed1bf1896c2748f3fe616ce0b838adc895c1-katex.min.js\\\"},{\\\"name\\\":null,\\\"type\\\":\\\"css\\\",\\\"url\\\":\\\"\\/assetserver\\/46517a424aa5e6cffc1360d7e0848b601c584ee3-katex.min.css\\\"}],\\\"type\\\":\\\"async_block\\\"})).then((imports) => handler.apply(this, imports));\\n}\\n\"],\"observables\":{\"value\":{\"sync\":false,\"id\":\"3046804102058137458\",\"value\":\"\\\\;\\\\;\"}}},\"children\":[{\"props\":{\"id\":\"container\"},\"nodeType\":\"DOM\",\"type\":\"node\",\"instanceArgs\":{\"namespace\":\"html\",\"tag\":\"div\"},\"children\":[]}]}]},{\"props\":{\"className\":\"field interact-widget\"},\"nodeType\":\"DOM\",\"type\":\"node\",\"instanceArgs\":{\"namespace\":\"html\",\"tag\":\"div\"},\"children\":[{\"props\":{},\"nodeType\":\"Scope\",\"type\":\"node\",\"instanceArgs\":{\"imports\":{\"data\":[{\"name\":\"knockout\",\"type\":\"js\",\"url\":\"\\/assetserver\\/727383f2a47bd31570b7da84eee7b022dd6d7c78-knockout.js\"},{\"name\":\"knockout_punches\",\"type\":\"js\",\"url\":\"\\/assetserver\\/382b41b3b1bd9f26f75861d360bad7f8beea211f-knockout_punches.js\"},{\"name\":null,\"type\":\"js\",\"url\":\"\\/assetserver\\/5ab20f1060420992a9b82a65b735dee4d81ef413-all.js\"},{\"name\":null,\"type\":\"css\",\"url\":\"\\/assetserver\\/1cc0ed62837210b80a182cc3676512f895dab686-style.css\"},{\"name\":null,\"type\":\"css\",\"url\":\"\\/assetserver\\/2eee816f616df3549d7044d45e744fbf8d42bfa1-bulma_confined.min.css\"}],\"type\":\"async_block\"},\"id\":\"11237404198731502775\",\"handlers\":{\"loading\":[\"(function (val){return (val!=this.model[\\\"loading\\\"]()) ? (this.valueFromJulia[\\\"loading\\\"]=true, this.model[\\\"loading\\\"](val)) : undefined})\"],\"clicks\":[\"(function (val){return (val!=this.model[\\\"clicks\\\"]()) ? (this.valueFromJulia[\\\"clicks\\\"]=true, this.model[\\\"clicks\\\"](val)) : undefined})\"]},\"systemjs_options\":null,\"mount_callbacks\":[\"function () {\\n    var handler = (function (ko, koPunches) {\\n    ko.punches.enableAll();\\n    ko.bindingHandlers.numericValue = {\\n        init: function(element, valueAccessor, allBindings, data, context) {\\n            var stringified = ko.observable(ko.unwrap(valueAccessor()));\\n            stringified.subscribe(function(value) {\\n                var val = parseFloat(value);\\n                if (!isNaN(val)) {\\n                    valueAccessor()(val);\\n                }\\n            });\\n            valueAccessor().subscribe(function(value) {\\n                var str = JSON.stringify(value);\\n                if ((str == \\\"0\\\") && ([\\\"-0\\\", \\\"-0.\\\"].indexOf(stringified()) >= 0))\\n                     return;\\n                 if ([\\\"null\\\", \\\"\\\"].indexOf(str) >= 0)\\n                     return;\\n                stringified(str);\\n            });\\n            ko.applyBindingsToNode(\\n                element,\\n                {\\n                    value: stringified,\\n                    valueUpdate: allBindings.get('valueUpdate'),\\n                },\\n                context,\\n            );\\n        }\\n    };\\n    var json_data = {\\\"loading\\\":WebIO.getval({\\\"name\\\":\\\"loading\\\",\\\"scope\\\":\\\"11237404198731502775\\\",\\\"id\\\":\\\"2343310968754962998\\\",\\\"type\\\":\\\"observable\\\"}),\\\"clicks\\\":WebIO.getval({\\\"name\\\":\\\"clicks\\\",\\\"scope\\\":\\\"11237404198731502775\\\",\\\"id\\\":\\\"18431772379795585566\\\",\\\"type\\\":\\\"observable\\\"})};\\n    var self = this;\\n    function AppViewModel() {\\n        for (var key in json_data) {\\n            var el = json_data[key];\\n            this[key] = Array.isArray(el) ? ko.observableArray(el) : ko.observable(el);\\n        }\\n        \\n        \\n        [this[\\\"loading\\\"].subscribe((function (val){!(this.valueFromJulia[\\\"loading\\\"]) ? (WebIO.setval({\\\"name\\\":\\\"loading\\\",\\\"scope\\\":\\\"11237404198731502775\\\",\\\"id\\\":\\\"2343310968754962998\\\",\\\"type\\\":\\\"observable\\\"},val)) : undefined; return this.valueFromJulia[\\\"loading\\\"]=false}),self),this[\\\"clicks\\\"].subscribe((function (val){!(this.valueFromJulia[\\\"clicks\\\"]) ? (WebIO.setval({\\\"name\\\":\\\"clicks\\\",\\\"scope\\\":\\\"11237404198731502775\\\",\\\"id\\\":\\\"18431772379795585566\\\",\\\"type\\\":\\\"observable\\\"},val)) : undefined; return this.valueFromJulia[\\\"clicks\\\"]=false}),self)]\\n        \\n    }\\n    self.model = new AppViewModel();\\n    self.valueFromJulia = {};\\n    for (var key in json_data) {\\n        self.valueFromJulia[key] = false;\\n    }\\n    ko.applyBindings(self.model, self.dom);\\n}\\n);\\n    (WebIO.importBlock({\\\"data\\\":[{\\\"name\\\":\\\"knockout\\\",\\\"type\\\":\\\"js\\\",\\\"url\\\":\\\"\\/assetserver\\/727383f2a47bd31570b7da84eee7b022dd6d7c78-knockout.js\\\"},{\\\"name\\\":\\\"knockout_punches\\\",\\\"type\\\":\\\"js\\\",\\\"url\\\":\\\"\\/assetserver\\/382b41b3b1bd9f26f75861d360bad7f8beea211f-knockout_punches.js\\\"}],\\\"type\\\":\\\"async_block\\\"})).then((imports) => handler.apply(this, imports));\\n}\\n\"],\"observables\":{\"loading\":{\"sync\":false,\"id\":\"2343310968754962998\",\"value\":false},\"clicks\":{\"sync\":true,\"id\":\"18431772379795585566\",\"value\":0}}},\"children\":[{\"props\":{\"attributes\":{\"data-bind\":\"click: function (){this.clicks(this.clicks()+1)}, css: {'is-loading' : loading}\"},\"className\":\"is-medium button is-primary\",\"style\":{}},\"nodeType\":\"DOM\",\"type\":\"node\",\"instanceArgs\":{\"namespace\":\"html\",\"tag\":\"button\"},\"children\":[\"save\"]}]}]}]}]},{\"props\":{\"className\":\"interact-widget\"},\"nodeType\":\"DOM\",\"type\":\"node\",\"instanceArgs\":{\"namespace\":\"html\",\"tag\":\"div\"},\"children\":[{\"props\":{},\"nodeType\":\"Scope\",\"type\":\"node\",\"instanceArgs\":{\"imports\":{\"data\":[{\"name\":null,\"type\":\"js\",\"url\":\"\\/assetserver\\/dd22ed1bf1896c2748f3fe616ce0b838adc895c1-katex.min.js\"},{\"name\":null,\"type\":\"css\",\"url\":\"\\/assetserver\\/46517a424aa5e6cffc1360d7e0848b601c584ee3-katex.min.css\"}],\"type\":\"async_block\"},\"id\":\"7562708170839852287\",\"handlers\":{\"value\":[\"(function (txt){return this.k.render(txt,this.container)})\"]},\"systemjs_options\":null,\"mount_callbacks\":[\"function () {\\n    var handler = ((function (k){this.k=k; this.container=this.dom.querySelector(\\\"#container\\\"); return k.render(\\\"\\\\\\\\;\\\\\\\\;\\\",this.container)}));\\n    (WebIO.importBlock({\\\"data\\\":[{\\\"name\\\":null,\\\"type\\\":\\\"js\\\",\\\"url\\\":\\\"\\/assetserver\\/dd22ed1bf1896c2748f3fe616ce0b838adc895c1-katex.min.js\\\"},{\\\"name\\\":null,\\\"type\\\":\\\"css\\\",\\\"url\\\":\\\"\\/assetserver\\/46517a424aa5e6cffc1360d7e0848b601c584ee3-katex.min.css\\\"}],\\\"type\\\":\\\"async_block\\\"})).then((imports) => handler.apply(this, imports));\\n}\\n\"],\"observables\":{\"value\":{\"sync\":false,\"id\":\"3046804102058137458\",\"value\":\"\\\\;\\\\;\"}}},\"children\":[{\"props\":{\"id\":\"container\"},\"nodeType\":\"DOM\",\"type\":\"node\",\"instanceArgs\":{\"namespace\":\"html\",\"tag\":\"div\"},\"children\":[]}]}]},{\"props\":{},\"nodeType\":\"Scope\",\"type\":\"node\",\"instanceArgs\":{\"imports\":{\"data\":[],\"type\":\"async_block\"},\"id\":\"15946485066914011933\",\"handlers\":{\"obs-output\":[\"function (value, scope) {\\n    scope.setInnerHTML(value);\\n}\\n\"]},\"systemjs_options\":null,\"mount_callbacks\":[],\"observables\":{\"obs-output\":{\"sync\":false,\"id\":\"15703768508282008508\",\"value\":\"<img src='data:image\\/png;base64,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'><\\/img>\"}}},\"children\":[{\"props\":{\"className\":\"webio-observable\",\"setInnerHtml\":\"<img src='data:image\\/png;base64,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'><\\/img>\"},\"nodeType\":\"DOM\",\"type\":\"node\",\"instanceArgs\":{\"namespace\":\"html\",\"tag\":\"div\"},\"children\":[]}]},{\"props\":{\"className\":\"interact-widget\"},\"nodeType\":\"DOM\",\"type\":\"node\",\"instanceArgs\":{\"namespace\":\"html\",\"tag\":\"div\"},\"children\":[{\"props\":{},\"nodeType\":\"Scope\",\"type\":\"node\",\"instanceArgs\":{\"imports\":{\"data\":[{\"name\":null,\"type\":\"js\",\"url\":\"\\/assetserver\\/dd22ed1bf1896c2748f3fe616ce0b838adc895c1-katex.min.js\"},{\"name\":null,\"type\":\"css\",\"url\":\"\\/assetserver\\/46517a424aa5e6cffc1360d7e0848b601c584ee3-katex.min.css\"}],\"type\":\"async_block\"},\"id\":\"7562708170839852287\",\"handlers\":{\"value\":[\"(function (txt){return this.k.render(txt,this.container)})\"]},\"systemjs_options\":null,\"mount_callbacks\":[\"function () {\\n    var handler = ((function (k){this.k=k; this.container=this.dom.querySelector(\\\"#container\\\"); return k.render(\\\"\\\\\\\\;\\\\\\\\;\\\",this.container)}));\\n    (WebIO.importBlock({\\\"data\\\":[{\\\"name\\\":null,\\\"type\\\":\\\"js\\\",\\\"url\\\":\\\"\\/assetserver\\/dd22ed1bf1896c2748f3fe616ce0b838adc895c1-katex.min.js\\\"},{\\\"name\\\":null,\\\"type\\\":\\\"css\\\",\\\"url\\\":\\\"\\/assetserver\\/46517a424aa5e6cffc1360d7e0848b601c584ee3-katex.min.css\\\"}],\\\"type\\\":\\\"async_block\\\"})).then((imports) => handler.apply(this, imports));\\n}\\n\"],\"observables\":{\"value\":{\"sync\":false,\"id\":\"3046804102058137458\",\"value\":\"\\\\;\\\\;\"}}},\"children\":[{\"props\":{\"id\":\"container\"},\"nodeType\":\"DOM\",\"type\":\"node\",\"instanceArgs\":{\"namespace\":\"html\",\"tag\":\"div\"},\"children\":[]}]}]},{\"props\":{\"style\":{\"display\":\"flex\",\"flex-direction\":\"column\"}},\"nodeType\":\"DOM\",\"type\":\"node\",\"instanceArgs\":{\"namespace\":\"html\",\"tag\":\"div\"},\"children\":[]}]}]},\n",
       "        window,\n",
       "    );\n",
       "    })()\n",
       "    </script>\n",
       "</div>\n"
      ],
      "text/plain": [
       "WebIO.Node{WebIO.DOM}(WebIO.DOM(:html, :div), Any[WebIO.Node{WebIO.DOM}(WebIO.DOM(:html, :div), Any[WebIO.Node{WebIO.DOM}(WebIO.DOM(:html, :div), Any[WebIO.Node{WebIO.DOM}(WebIO.DOM(:html, :div), Any[WebIO.Scope(WebIO.Node{WebIO.DOM}(WebIO.DOM(:html, :div), Any[WebIO.Node{WebIO.DOM}(WebIO.DOM(:html, :div), Any[WebIO.Node{WebIO.DOM}(WebIO.DOM(:html, :label), Any[\"time\"], Dict{Symbol, Any}(:className => \"interact \", :style => Dict{Any, Any}(:padding => \"5px 10px 0px 10px\")))], Dict{Symbol, Any}(:className => \"interact-flex-row-left\")), WebIO.Node{WebIO.DOM}(WebIO.DOM(:html, :div), Any[WebIO.Node{WebIO.DOM}(WebIO.DOM(:html, :input), Any[], Dict{Symbol, Any}(:max => 101, :min => 1, :attributes => Dict{Any, Any}(:type => \"range\", Symbol(\"data-bind\") => \"numericValue: index, valueUpdate: 'input', event: {change: function (){this.changes(this.changes()+1)}}\", \"orient\" => \"horizontal\"), :step => 1, :className => \"slider slider is-fullwidth\", :style => Dict{Any, Any}()))], Dict{Symbol, Any}(:className => \"interact-flex-row-center\")), WebIO.Node{WebIO.DOM}(WebIO.DOM(:html, :div), Any[WebIO.Node{WebIO.DOM}(WebIO.DOM(:html, :p), Any[], Dict{Symbol, Any}(:attributes => Dict(\"data-bind\" => \"text: formatted_val\")))], Dict{Symbol, Any}(:className => \"interact-flex-row-right\"))], Dict{Symbol, Any}(:className => \"interact-flex-row interact-widget\")), Dict{String, Tuple{Observables.AbstractObservable, Union{Nothing, Bool}}}(\"changes\" => (Observable(0), nothing), \"index\" => (Observable(51), nothing)), Set{String}(), nothing, WebIO.Asset[WebIO.Asset(\"js\", \"knockout\", \"/home/dushya/.julia/packages/Knockout/HReiN/src/../assets/knockout.js\"), WebIO.Asset(\"js\", \"knockout_punches\", \"/home/dushya/.julia/packages/Knockout/HReiN/src/../assets/knockout_punches.js\"), WebIO.Asset(\"js\", nothing, \"/home/dushya/.julia/packages/InteractBase/LJXv3/src/../assets/all.js\"), WebIO.Asset(\"css\", nothing, \"/home/dushya/.julia/packages/InteractBase/LJXv3/src/../assets/style.css\"), WebIO.Asset(\"css\", nothing, \"/home/dushya/.julia/packages/Interact/PENUy/src/../assets/bulma_confined.min.css\")], Dict{Any, Any}(\"changes\" => Any[WebIO.JSString(\"(function (val){return (val!=this.model[\\\"changes\\\"]()) ? (this.valueFromJulia[\\\"changes\\\"]=true, this.model[\\\"changes\\\"](val)) : undefined})\")], \"index\" => Any[WebIO.JSString(\"(function (val){return (val!=this.model[\\\"index\\\"]()) ? (this.valueFromJulia[\\\"index\\\"]=true, this.model[\\\"index\\\"](val)) : undefined})\")]), WebIO.ConnectionPool(Channel{Any}(32), Set{WebIO.AbstractConnection}(), Base.GenericCondition{ReentrantLock}(Base.IntrusiveLinkedList{Task}(Task (runnable) @0x00007fb4f6270e20, Task (runnable) @0x00007fb4f6270e20), ReentrantLock(nothing, 0x00000000, 0x00, Base.GenericCondition{Base.Threads.SpinLock}(Base.IntrusiveLinkedList{Task}(nothing, nothing), Base.Threads.SpinLock(0)), (2, 140415852067776, 140415852067776)))), WebIO.JSString[WebIO.JSString(\"function () {\\n    var handler = (function (ko, koPunches) {\\n    ko.punches.enableAll();\\n    ko.bindingHandlers.numericValue = {\\n        init: function(element, valueAccessor, allBindings, data, context) {\\n            var stringified = ko.observable(ko.unwrap(valueAccessor()));\\n            stringified.subscribe(function(value) {\\n                var val = parseFloat(value);\\n                if (!isNaN(val)) {\\n                    valueAccessor()(val);\\n                }\\n            });\\n            valueAccessor().subscribe(function(value) {\\n                var str = JSON.stringify(value);\\n                if ((str == \\\"0\\\") && ([\\\"-0\\\", \\\"-0.\\\"].indexOf(stringified()) >= 0))\\n                     return;\\n                 if ([\\\"null\\\", \\\"\\\"].indexOf(str) >= 0)\\n                     return;\\n                stringified(str);\\n            });\\n            ko.applyBindingsToNode(\\n                element,\\n                {\\n                    value: stringified,\\n                    valueUpdate: allBindings.get('valueUpdate'),\\n                },\\n                context,\\n            );\\n        }\\n    };\\n    var json_data = {\\\"formatted_vals\\\":[\\\"1\\\",\\\"2\\\",\\\"3\\\",\\\"4\\\",\\\"5\\\",\\\"6\\\",\\\"7\\\",\\\"8\\\",\\\"9\\\",\\\"10\\\",\\\"11\\\",\\\"12\\\",\\\"13\\\",\\\"14\\\",\\\"15\\\",\\\"16\\\",\\\"17\\\",\\\"18\\\",\\\"19\\\",\\\"20\\\",\\\"21\\\",\\\"22\\\",\\\"23\\\",\\\"24\\\",\\\"25\\\",\\\"26\\\",\\\"27\\\",\\\"28\\\",\\\"29\\\",\\\"30\\\",\\\"31\\\",\\\"32\\\",\\\"33\\\",\\\"34\\\",\\\"35\\\",\\\"36\\\",\\\"37\\\",\\\"38\\\",\\\"39\\\",\\\"40\\\",\\\"41\\\",\\\"42\\\",\\\"43\\\",\\\"44\\\",\\\"45\\\",\\\"46\\\",\\\"47\\\",\\\"48\\\",\\\"49\\\",\\\"50\\\",\\\"51\\\",\\\"52\\\",\\\"53\\\",\\\"54\\\",\\\"55\\\",\\\"56\\\",\\\"57\\\",\\\"58\\\",\\\"59\\\",\\\"60\\\",\\\"61\\\",\\\"62\\\",\\\"63\\\",\\\"64\\\",\\\"65\\\",\\\"66\\\",\\\"67\\\",\\\"68\\\",\\\"69\\\",\\\"70\\\",\\\"71\\\",\\\"72\\\",\\\"73\\\",\\\"74\\\",\\\"75\\\",\\\"76\\\",\\\"77\\\",\\\"78\\\",\\\"79\\\",\\\"80\\\",\\\"81\\\",\\\"82\\\",\\\"83\\\",\\\"84\\\",\\\"85\\\",\\\"86\\\",\\\"87\\\",\\\"88\\\",\\\"89\\\",\\\"90\\\",\\\"91\\\",\\\"92\\\",\\\"93\\\",\\\"94\\\",\\\"95\\\",\\\"96\\\",\\\"97\\\",\\\"98\\\",\\\"99\\\",\\\"100\\\",\\\"101\\\"],\\\"changes\\\":WebIO.getval({\\\"name\\\":\\\"changes\\\",\\\"scope\\\":\\\"11451510667849370213\\\",\\\"id\\\":\\\"5917105486569815927\\\",\\\"type\\\":\\\"observable\\\"}),\\\"index\\\":WebIO.getval({\\\"name\\\":\\\"index\\\",\\\"scope\\\":\\\"11451510667849370213\\\",\\\"id\\\":\\\"2461651568439183224\\\",\\\"type\\\":\\\"observable\\\"})};\\n    var self = this;\\n    function AppViewModel() {\\n        for (var key in json_data) {\\n            var el = json_data[key];\\n            this[key] = Array.isArray(el) ? ko.observableArray(el) : ko.observable(el);\\n        }\\n        \\n        [this[\\\"formatted_val\\\"]=ko.computed(    function(){\\n        return this.formatted_vals()[parseInt(this.index())-(1)];\\n    }\\n,this)]\\n        [this[\\\"changes\\\"].subscribe((function (val){!(this.valueFromJulia[\\\"changes\\\"]) ? (WebIO.setval({\\\"name\\\":\\\"changes\\\",\\\"scope\\\":\\\"11451510667849370213\\\",\\\"id\\\":\\\"5917105486569815927\\\",\\\"type\\\":\\\"observable\\\"},val)) : undefined; return this.valueFromJulia[\\\"changes\\\"]=false}),self),this[\\\"index\\\"].subscribe((function (val){!(this.valueFromJulia[\\\"index\\\"]) ? (WebIO.setval({\\\"name\\\":\\\"index\\\",\\\"scope\\\":\\\"11451510667849370213\\\",\\\"id\\\":\\\"2461651568439183224\\\",\\\"type\\\":\\\"observable\\\"},val)) : undefined; return this.valueFromJulia[\\\"index\\\"]=false}),self)]\\n        \\n    }\\n    self.model = new AppViewModel();\\n    self.valueFromJulia = {};\\n    for (var key in json_data) {\\n        self.valueFromJulia[key] = false;\\n    }\\n    ko.applyBindings(self.model, self.dom);\\n}\\n);\\n    (WebIO.importBlock({\\\"data\\\":[{\\\"name\\\":\\\"knockout\\\",\\\"type\\\":\\\"js\\\",\\\"url\\\":\\\"/assetserver/727383f2a47bd31570b7da84eee7b022dd6d7c78-knockout.js\\\"},{\\\"name\\\":\\\"knockout_punches\\\",\\\"type\\\":\\\"js\\\",\\\"url\\\":\\\"/assetserver/382b41b3b1bd9f26f75861d360bad7f8beea211f-knockout_punches.js\\\"}],\\\"type\\\":\\\"async_block\\\"})).then((imports) => handler.apply(this, imports));\\n}\\n\")])], Dict{Symbol, Any}(:className => \"field interact-widget\")), WebIO.Node{WebIO.DOM}(WebIO.DOM(:html, :div), Any[WebIO.Scope(WebIO.Node{WebIO.DOM}(WebIO.DOM(:html, :div), Any[WebIO.Node{WebIO.DOM}(WebIO.DOM(:html, :div), Any[WebIO.Node{WebIO.DOM}(WebIO.DOM(:html, :label), Any[\"scale\"], Dict{Symbol, Any}(:className => \"interact \", :style => Dict{Any, Any}(:padding => \"5px 10px 0px 10px\")))], Dict{Symbol, Any}(:className => \"interact-flex-row-left\")), WebIO.Node{WebIO.DOM}(WebIO.DOM(:html, :div), Any[WebIO.Node{WebIO.DOM}(WebIO.DOM(:html, :input), Any[], Dict{Symbol, Any}(:max => 20, :min => 1, :attributes => Dict{Any, Any}(:type => \"range\", Symbol(\"data-bind\") => \"numericValue: index, valueUpdate: 'input', event: {change: function (){this.changes(this.changes()+1)}}\", \"orient\" => \"horizontal\"), :step => 1, :className => \"slider slider is-fullwidth\", :style => Dict{Any, Any}()))], Dict{Symbol, Any}(:className => \"interact-flex-row-center\")), WebIO.Node{WebIO.DOM}(WebIO.DOM(:html, :div), Any[WebIO.Node{WebIO.DOM}(WebIO.DOM(:html, :p), Any[], Dict{Symbol, Any}(:attributes => Dict(\"data-bind\" => \"text: formatted_val\")))], Dict{Symbol, Any}(:className => \"interact-flex-row-right\"))], Dict{Symbol, Any}(:className => \"interact-flex-row interact-widget\")), Dict{String, Tuple{Observables.AbstractObservable, Union{Nothing, Bool}}}(\"changes\" => (Observable(0), nothing), \"index\" => (Observable{Any}(10), nothing)), Set{String}(), nothing, WebIO.Asset[WebIO.Asset(\"js\", \"knockout\", \"/home/dushya/.julia/packages/Knockout/HReiN/src/../assets/knockout.js\"), WebIO.Asset(\"js\", \"knockout_punches\", \"/home/dushya/.julia/packages/Knockout/HReiN/src/../assets/knockout_punches.js\"), WebIO.Asset(\"js\", nothing, \"/home/dushya/.julia/packages/InteractBase/LJXv3/src/../assets/all.js\"), WebIO.Asset(\"css\", nothing, \"/home/dushya/.julia/packages/InteractBase/LJXv3/src/../assets/style.css\"), WebIO.Asset(\"css\", nothing, \"/home/dushya/.julia/packages/Interact/PENUy/src/../assets/bulma_confined.min.css\")], Dict{Any, Any}(\"changes\" => Any[WebIO.JSString(\"(function (val){return (val!=this.model[\\\"changes\\\"]()) ? (this.valueFromJulia[\\\"changes\\\"]=true, this.model[\\\"changes\\\"](val)) : undefined})\")], \"index\" => Any[WebIO.JSString(\"(function (val){return (val!=this.model[\\\"index\\\"]()) ? (this.valueFromJulia[\\\"index\\\"]=true, this.model[\\\"index\\\"](val)) : undefined})\")]), WebIO.ConnectionPool(Channel{Any}(32), Set{WebIO.AbstractConnection}(), Base.GenericCondition{ReentrantLock}(Base.IntrusiveLinkedList{Task}(Task (runnable) @0x00007fb527ba7080, Task (runnable) @0x00007fb527ba7080), ReentrantLock(nothing, 0x00000000, 0x00, Base.GenericCondition{Base.Threads.SpinLock}(Base.IntrusiveLinkedList{Task}(nothing, nothing), Base.Threads.SpinLock(0)), (0, 24624, 139779710648320)))), WebIO.JSString[WebIO.JSString(\"function () {\\n    var handler = (function (ko, koPunches) {\\n    ko.punches.enableAll();\\n    ko.bindingHandlers.numericValue = {\\n        init: function(element, valueAccessor, allBindings, data, context) {\\n            var stringified = ko.observable(ko.unwrap(valueAccessor()));\\n            stringified.subscribe(function(value) {\\n                var val = parseFloat(value);\\n                if (!isNaN(val)) {\\n                    valueAccessor()(val);\\n                }\\n            });\\n            valueAccessor().subscribe(function(value) {\\n                var str = JSON.stringify(value);\\n                if ((str == \\\"0\\\") && ([\\\"-0\\\", \\\"-0.\\\"].indexOf(stringified()) >= 0))\\n                     return;\\n                 if ([\\\"null\\\", \\\"\\\"].indexOf(str) >= 0)\\n                     return;\\n                stringified(str);\\n            });\\n            ko.applyBindingsToNode(\\n                element,\\n                {\\n                    value: stringified,\\n                    valueUpdate: allBindings.get('valueUpdate'),\\n                },\\n                context,\\n            );\\n        }\\n    };\\n    var json_data = {\\\"formatted_vals\\\":[\\\"0.1\\\",\\\"0.2\\\",\\\"0.3\\\",\\\"0.4\\\",\\\"0.5\\\",\\\"0.6\\\",\\\"0.7\\\",\\\"0.8\\\",\\\"0.9\\\",\\\"1.0\\\",\\\"1.1\\\",\\\"1.2\\\",\\\"1.3\\\",\\\"1.4\\\",\\\"1.5\\\",\\\"1.6\\\",\\\"1.7\\\",\\\"1.8\\\",\\\"1.9\\\",\\\"2.0\\\"],\\\"changes\\\":WebIO.getval({\\\"name\\\":\\\"changes\\\",\\\"scope\\\":\\\"4680600604176612162\\\",\\\"id\\\":\\\"14361720778815733643\\\",\\\"type\\\":\\\"observable\\\"}),\\\"index\\\":WebIO.getval({\\\"name\\\":\\\"index\\\",\\\"scope\\\":\\\"4680600604176612162\\\",\\\"id\\\":\\\"9484683872547719436\\\",\\\"type\\\":\\\"observable\\\"})};\\n    var self = this;\\n    function AppViewModel() {\\n        for (var key in json_data) {\\n            var el = json_data[key];\\n            this[key] = Array.isArray(el) ? ko.observableArray(el) : ko.observable(el);\\n        }\\n        \\n        [this[\\\"formatted_val\\\"]=ko.computed(    function(){\\n        return this.formatted_vals()[parseInt(this.index())-(1)];\\n    }\\n,this)]\\n        [this[\\\"changes\\\"].subscribe((function (val){!(this.valueFromJulia[\\\"changes\\\"]) ? (WebIO.setval({\\\"name\\\":\\\"changes\\\",\\\"scope\\\":\\\"4680600604176612162\\\",\\\"id\\\":\\\"14361720778815733643\\\",\\\"type\\\":\\\"observable\\\"},val)) : undefined; return this.valueFromJulia[\\\"changes\\\"]=false}),self),this[\\\"index\\\"].subscribe((function (val){!(this.valueFromJulia[\\\"index\\\"]) ? (WebIO.setval({\\\"name\\\":\\\"index\\\",\\\"scope\\\":\\\"4680600604176612162\\\",\\\"id\\\":\\\"9484683872547719436\\\",\\\"type\\\":\\\"observable\\\"},val)) : undefined; return this.valueFromJulia[\\\"index\\\"]=false}),self)]\\n        \\n    }\\n    self.model = new AppViewModel();\\n    self.valueFromJulia = {};\\n    for (var key in json_data) {\\n        self.valueFromJulia[key] = false;\\n    }\\n    ko.applyBindings(self.model, self.dom);\\n}\\n);\\n    (WebIO.importBlock({\\\"data\\\":[{\\\"name\\\":\\\"knockout\\\",\\\"type\\\":\\\"js\\\",\\\"url\\\":\\\"/assetserver/727383f2a47bd31570b7da84eee7b022dd6d7c78-knockout.js\\\"},{\\\"name\\\":\\\"knockout_punches\\\",\\\"type\\\":\\\"js\\\",\\\"url\\\":\\\"/assetserver/382b41b3b1bd9f26f75861d360bad7f8beea211f-knockout_punches.js\\\"}],\\\"type\\\":\\\"async_block\\\"})).then((imports) => handler.apply(this, imports));\\n}\\n\")])], Dict{Symbol, Any}(:className => \"field interact-widget\")), WebIO.Node{WebIO.DOM}(WebIO.DOM(:html, :div), Any[WebIO.Node{WebIO.DOM}(WebIO.DOM(:html, :div), Any[WebIO.Scope(WebIO.Node{WebIO.DOM}(WebIO.DOM(:html, :div), Any[], Dict{Symbol, Any}(:id => \"container\")), Dict{String, Tuple{Observables.AbstractObservable, Union{Nothing, Bool}}}(\"value\" => (Observable(\"\\\\;\\\\;\"), nothing)), Set{String}(), nothing, WebIO.Asset[WebIO.Asset(\"js\", nothing, \"/home/dushya/.julia/packages/InteractBase/LJXv3/src/../assets/katex.min.js\"), WebIO.Asset(\"css\", nothing, \"/home/dushya/.julia/packages/InteractBase/LJXv3/src/../assets/katex.min.css\")], Dict{Any, Any}(\"value\" => Any[WebIO.JSString(\"(function (txt){return this.k.render(txt,this.container)})\")]), WebIO.ConnectionPool(Channel{Any}(32), Set{WebIO.AbstractConnection}(), Base.GenericCondition{ReentrantLock}(Base.IntrusiveLinkedList{Task}(Task (runnable) @0x00007fb4f5707d00, Task (runnable) @0x00007fb4f5707d00), ReentrantLock(nothing, 0x00000000, 0x00, Base.GenericCondition{Base.Threads.SpinLock}(Base.IntrusiveLinkedList{Task}(nothing, nothing), Base.Threads.SpinLock(0)), (140415928955984, 140415928964160, 0)))), WebIO.JSString[WebIO.JSString(\"function () {\\n    var handler = ((function (k){this.k=k; this.container=this.dom.querySelector(\\\"#container\\\"); return k.render(\\\"\\\\\\\\;\\\\\\\\;\\\",this.container)}));\\n    (WebIO.importBlock({\\\"data\\\":[{\\\"name\\\":null,\\\"type\\\":\\\"js\\\",\\\"url\\\":\\\"/assetserver/dd22ed1bf1896c2748f3fe616ce0b838adc895c1-katex.min.js\\\"},{\\\"name\\\":null,\\\"type\\\":\\\"css\\\",\\\"url\\\":\\\"/assetserver/46517a424aa5e6cffc1360d7e0848b601c584ee3-katex.min.css\\\"}],\\\"type\\\":\\\"async_block\\\"})).then((imports) => handler.apply(this, imports));\\n}\\n\")])], Dict{Symbol, Any}(:className => \"interact-widget\")), WebIO.Node{WebIO.DOM}(WebIO.DOM(:html, :div), Any[WebIO.Scope(WebIO.Node{WebIO.DOM}(WebIO.DOM(:html, :button), Any[\"run\"], Dict{Symbol, Any}(:attributes => Dict{Any, Any}(\"data-bind\" => \"click: function (){this.clicks(this.clicks()+1)}, css: {'is-loading' : loading}\"), :className => \"is-medium button is-primary\", :style => Dict{String, Any}())), Dict{String, Tuple{Observables.AbstractObservable, Union{Nothing, Bool}}}(\"loading\" => (Observable(false), nothing), \"clicks\" => (Observable(0), nothing)), Set{String}(), nothing, WebIO.Asset[WebIO.Asset(\"js\", \"knockout\", \"/home/dushya/.julia/packages/Knockout/HReiN/src/../assets/knockout.js\"), WebIO.Asset(\"js\", \"knockout_punches\", \"/home/dushya/.julia/packages/Knockout/HReiN/src/../assets/knockout_punches.js\"), WebIO.Asset(\"js\", nothing, \"/home/dushya/.julia/packages/InteractBase/LJXv3/src/../assets/all.js\"), WebIO.Asset(\"css\", nothing, \"/home/dushya/.julia/packages/InteractBase/LJXv3/src/../assets/style.css\"), WebIO.Asset(\"css\", nothing, \"/home/dushya/.julia/packages/Interact/PENUy/src/../assets/bulma_confined.min.css\")], Dict{Any, Any}(\"loading\" => Any[WebIO.JSString(\"(function (val){return (val!=this.model[\\\"loading\\\"]()) ? (this.valueFromJulia[\\\"loading\\\"]=true, this.model[\\\"loading\\\"](val)) : undefined})\")], \"clicks\" => Any[WebIO.JSString(\"(function (val){return (val!=this.model[\\\"clicks\\\"]()) ? (this.valueFromJulia[\\\"clicks\\\"]=true, this.model[\\\"clicks\\\"](val)) : undefined})\")]), WebIO.ConnectionPool(Channel{Any}(32), Set{WebIO.AbstractConnection}(), Base.GenericCondition{ReentrantLock}(Base.IntrusiveLinkedList{Task}(Task (runnable) @0x00007fb4b7857210, Task (runnable) @0x00007fb4b7857210), ReentrantLock(nothing, 0x00000000, 0x00, Base.GenericCondition{Base.Threads.SpinLock}(Base.IntrusiveLinkedList{Task}(nothing, nothing), Base.Threads.SpinLock(0)), (0, 0, 4)))), WebIO.JSString[WebIO.JSString(\"function () {\\n    var handler = (function (ko, koPunches) {\\n    ko.punches.enableAll();\\n    ko.bindingHandlers.numericValue = {\\n        init: function(element, valueAccessor, allBindings, data, context) {\\n            var stringified = ko.observable(ko.unwrap(valueAccessor()));\\n            stringified.subscribe(function(value) {\\n                var val = parseFloat(value);\\n                if (!isNaN(val)) {\\n                    valueAccessor()(val);\\n                }\\n            });\\n            valueAccessor().subscribe(function(value) {\\n                var str = JSON.stringify(value);\\n                if ((str == \\\"0\\\") && ([\\\"-0\\\", \\\"-0.\\\"].indexOf(stringified()) >= 0))\\n                     return;\\n                 if ([\\\"null\\\", \\\"\\\"].indexOf(str) >= 0)\\n                     return;\\n                stringified(str);\\n            });\\n            ko.applyBindingsToNode(\\n                element,\\n                {\\n                    value: stringified,\\n                    valueUpdate: allBindings.get('valueUpdate'),\\n                },\\n                context,\\n            );\\n        }\\n    };\\n    var json_data = {\\\"loading\\\":WebIO.getval({\\\"name\\\":\\\"loading\\\",\\\"scope\\\":\\\"750957001348281708\\\",\\\"id\\\":\\\"1966720792996373480\\\",\\\"type\\\":\\\"observable\\\"}),\\\"clicks\\\":WebIO.getval({\\\"name\\\":\\\"clicks\\\",\\\"scope\\\":\\\"750957001348281708\\\",\\\"id\\\":\\\"3222655310529154284\\\",\\\"type\\\":\\\"observable\\\"})};\\n    var self = this;\\n    function AppViewModel() {\\n        for (var key in json_data) {\\n            var el = json_data[key];\\n            this[key] = Array.isArray(el) ? ko.observableArray(el) : ko.observable(el);\\n        }\\n        \\n        \\n        [this[\\\"loading\\\"].subscribe((function (val){!(this.valueFromJulia[\\\"loading\\\"]) ? (WebIO.setval({\\\"name\\\":\\\"loading\\\",\\\"scope\\\":\\\"750957001348281708\\\",\\\"id\\\":\\\"1966720792996373480\\\",\\\"type\\\":\\\"observable\\\"},val)) : undefined; return this.valueFromJulia[\\\"loading\\\"]=false}),self),this[\\\"clicks\\\"].subscribe((function (val){!(this.valueFromJulia[\\\"clicks\\\"]) ? (WebIO.setval({\\\"name\\\":\\\"clicks\\\",\\\"scope\\\":\\\"750957001348281708\\\",\\\"id\\\":\\\"3222655310529154284\\\",\\\"type\\\":\\\"observable\\\"},val)) : undefined; return this.valueFromJulia[\\\"clicks\\\"]=false}),self)]\\n        \\n    }\\n    self.model = new AppViewModel();\\n    self.valueFromJulia = {};\\n    for (var key in json_data) {\\n        self.valueFromJulia[key] = false;\\n    }\\n    ko.applyBindings(self.model, self.dom);\\n}\\n);\\n    (WebIO.importBlock({\\\"data\\\":[{\\\"name\\\":\\\"knockout\\\",\\\"type\\\":\\\"js\\\",\\\"url\\\":\\\"/assetserver/727383f2a47bd31570b7da84eee7b022dd6d7c78-knockout.js\\\"},{\\\"name\\\":\\\"knockout_punches\\\",\\\"type\\\":\\\"js\\\",\\\"url\\\":\\\"/assetserver/382b41b3b1bd9f26f75861d360bad7f8beea211f-knockout_punches.js\\\"}],\\\"type\\\":\\\"async_block\\\"})).then((imports) => handler.apply(this, imports));\\n}\\n\")])], Dict{Symbol, Any}(:className => \"field interact-widget\")), WebIO.Node{WebIO.DOM}(WebIO.DOM(:html, :div), Any[WebIO.Scope(WebIO.Node{WebIO.DOM}(WebIO.DOM(:html, :div), Any[], Dict{Symbol, Any}(:id => \"container\")), Dict{String, Tuple{Observables.AbstractObservable, Union{Nothing, Bool}}}(\"value\" => (Observable(\"\\\\;\\\\;\"), nothing)), Set{String}(), nothing, WebIO.Asset[WebIO.Asset(\"js\", nothing, \"/home/dushya/.julia/packages/InteractBase/LJXv3/src/../assets/katex.min.js\"), WebIO.Asset(\"css\", nothing, \"/home/dushya/.julia/packages/InteractBase/LJXv3/src/../assets/katex.min.css\")], Dict{Any, Any}(\"value\" => Any[WebIO.JSString(\"(function (txt){return this.k.render(txt,this.container)})\")]), WebIO.ConnectionPool(Channel{Any}(32), Set{WebIO.AbstractConnection}(), Base.GenericCondition{ReentrantLock}(Base.IntrusiveLinkedList{Task}(Task (runnable) @0x00007fb4f5707d00, Task (runnable) @0x00007fb4f5707d00), ReentrantLock(nothing, 0x00000000, 0x00, Base.GenericCondition{Base.Threads.SpinLock}(Base.IntrusiveLinkedList{Task}(nothing, nothing), Base.Threads.SpinLock(0)), (140415928955984, 140415928964160, 0)))), WebIO.JSString[WebIO.JSString(\"function () {\\n    var handler = ((function (k){this.k=k; this.container=this.dom.querySelector(\\\"#container\\\"); return k.render(\\\"\\\\\\\\;\\\\\\\\;\\\",this.container)}));\\n    (WebIO.importBlock({\\\"data\\\":[{\\\"name\\\":null,\\\"type\\\":\\\"js\\\",\\\"url\\\":\\\"/assetserver/dd22ed1bf1896c2748f3fe616ce0b838adc895c1-katex.min.js\\\"},{\\\"name\\\":null,\\\"type\\\":\\\"css\\\",\\\"url\\\":\\\"/assetserver/46517a424aa5e6cffc1360d7e0848b601c584ee3-katex.min.css\\\"}],\\\"type\\\":\\\"async_block\\\"})).then((imports) => handler.apply(this, imports));\\n}\\n\")])], Dict{Symbol, Any}(:className => \"interact-widget\")), WebIO.Node{WebIO.DOM}(WebIO.DOM(:html, :div), Any[WebIO.Scope(WebIO.Node{WebIO.DOM}(WebIO.DOM(:html, :button), Any[\"stop\"], Dict{Symbol, Any}(:attributes => Dict{Any, Any}(\"data-bind\" => \"click: function (){this.clicks(this.clicks()+1)}, css: {'is-loading' : loading}\"), :className => \"is-medium button is-primary\", :style => Dict{String, Any}())), Dict{String, Tuple{Observables.AbstractObservable, Union{Nothing, Bool}}}(\"loading\" => (Observable(false), nothing), \"clicks\" => (Observable(0), nothing)), Set{String}(), nothing, WebIO.Asset[WebIO.Asset(\"js\", \"knockout\", \"/home/dushya/.julia/packages/Knockout/HReiN/src/../assets/knockout.js\"), WebIO.Asset(\"js\", \"knockout_punches\", \"/home/dushya/.julia/packages/Knockout/HReiN/src/../assets/knockout_punches.js\"), WebIO.Asset(\"js\", nothing, \"/home/dushya/.julia/packages/InteractBase/LJXv3/src/../assets/all.js\"), WebIO.Asset(\"css\", nothing, \"/home/dushya/.julia/packages/InteractBase/LJXv3/src/../assets/style.css\"), WebIO.Asset(\"css\", nothing, \"/home/dushya/.julia/packages/Interact/PENUy/src/../assets/bulma_confined.min.css\")], Dict{Any, Any}(\"loading\" => Any[WebIO.JSString(\"(function (val){return (val!=this.model[\\\"loading\\\"]()) ? (this.valueFromJulia[\\\"loading\\\"]=true, this.model[\\\"loading\\\"](val)) : undefined})\")], \"clicks\" => Any[WebIO.JSString(\"(function (val){return (val!=this.model[\\\"clicks\\\"]()) ? (this.valueFromJulia[\\\"clicks\\\"]=true, this.model[\\\"clicks\\\"](val)) : undefined})\")]), WebIO.ConnectionPool(Channel{Any}(32), Set{WebIO.AbstractConnection}(), Base.GenericCondition{ReentrantLock}(Base.IntrusiveLinkedList{Task}(Task (runnable) @0x00007fb4f5171aa0, Task (runnable) @0x00007fb4f5171aa0), ReentrantLock(nothing, 0x00000000, 0x00, Base.GenericCondition{Base.Threads.SpinLock}(Base.IntrusiveLinkedList{Task}(nothing, nothing), Base.Threads.SpinLock(0)), (0, 140415205089968, 0)))), WebIO.JSString[WebIO.JSString(\"function () {\\n    var handler = (function (ko, koPunches) {\\n    ko.punches.enableAll();\\n    ko.bindingHandlers.numericValue = {\\n        init: function(element, valueAccessor, allBindings, data, context) {\\n            var stringified = ko.observable(ko.unwrap(valueAccessor()));\\n            stringified.subscribe(function(value) {\\n                var val = parseFloat(value);\\n                if (!isNaN(val)) {\\n                    valueAccessor()(val);\\n                }\\n            });\\n            valueAccessor().subscribe(function(value) {\\n                var str = JSON.stringify(value);\\n                if ((str == \\\"0\\\") && ([\\\"-0\\\", \\\"-0.\\\"].indexOf(stringified()) >= 0))\\n                     return;\\n                 if ([\\\"null\\\", \\\"\\\"].indexOf(str) >= 0)\\n                     return;\\n                stringified(str);\\n            });\\n            ko.applyBindingsToNode(\\n                element,\\n                {\\n                    value: stringified,\\n                    valueUpdate: allBindings.get('valueUpdate'),\\n                },\\n                context,\\n            );\\n        }\\n    };\\n    var json_data = {\\\"loading\\\":WebIO.getval({\\\"name\\\":\\\"loading\\\",\\\"scope\\\":\\\"8906212832617332723\\\",\\\"id\\\":\\\"12114204674402230765\\\",\\\"type\\\":\\\"observable\\\"}),\\\"clicks\\\":WebIO.getval({\\\"name\\\":\\\"clicks\\\",\\\"scope\\\":\\\"8906212832617332723\\\",\\\"id\\\":\\\"17738979815884387985\\\",\\\"type\\\":\\\"observable\\\"})};\\n    var self = this;\\n    function AppViewModel() {\\n        for (var key in json_data) {\\n            var el = json_data[key];\\n            this[key] = Array.isArray(el) ? ko.observableArray(el) : ko.observable(el);\\n        }\\n        \\n        \\n        [this[\\\"loading\\\"].subscribe((function (val){!(this.valueFromJulia[\\\"loading\\\"]) ? (WebIO.setval({\\\"name\\\":\\\"loading\\\",\\\"scope\\\":\\\"8906212832617332723\\\",\\\"id\\\":\\\"12114204674402230765\\\",\\\"type\\\":\\\"observable\\\"},val)) : undefined; return this.valueFromJulia[\\\"loading\\\"]=false}),self),this[\\\"clicks\\\"].subscribe((function (val){!(this.valueFromJulia[\\\"clicks\\\"]) ? (WebIO.setval({\\\"name\\\":\\\"clicks\\\",\\\"scope\\\":\\\"8906212832617332723\\\",\\\"id\\\":\\\"17738979815884387985\\\",\\\"type\\\":\\\"observable\\\"},val)) : undefined; return this.valueFromJulia[\\\"clicks\\\"]=false}),self)]\\n        \\n    }\\n    self.model = new AppViewModel();\\n    self.valueFromJulia = {};\\n    for (var key in json_data) {\\n        self.valueFromJulia[key] = false;\\n    }\\n    ko.applyBindings(self.model, self.dom);\\n}\\n);\\n    (WebIO.importBlock({\\\"data\\\":[{\\\"name\\\":\\\"knockout\\\",\\\"type\\\":\\\"js\\\",\\\"url\\\":\\\"/assetserver/727383f2a47bd31570b7da84eee7b022dd6d7c78-knockout.js\\\"},{\\\"name\\\":\\\"knockout_punches\\\",\\\"type\\\":\\\"js\\\",\\\"url\\\":\\\"/assetserver/382b41b3b1bd9f26f75861d360bad7f8beea211f-knockout_punches.js\\\"}],\\\"type\\\":\\\"async_block\\\"})).then((imports) => handler.apply(this, imports));\\n}\\n\")])], Dict{Symbol, Any}(:className => \"field interact-widget\")), WebIO.Node{WebIO.DOM}(WebIO.DOM(:html, :div), Any[WebIO.Scope(WebIO.Node{WebIO.DOM}(WebIO.DOM(:html, :div), Any[], Dict{Symbol, Any}(:id => \"container\")), Dict{String, Tuple{Observables.AbstractObservable, Union{Nothing, Bool}}}(\"value\" => (Observable(\"\\\\;\\\\;\"), nothing)), Set{String}(), nothing, WebIO.Asset[WebIO.Asset(\"js\", nothing, \"/home/dushya/.julia/packages/InteractBase/LJXv3/src/../assets/katex.min.js\"), WebIO.Asset(\"css\", nothing, \"/home/dushya/.julia/packages/InteractBase/LJXv3/src/../assets/katex.min.css\")], Dict{Any, Any}(\"value\" => Any[WebIO.JSString(\"(function (txt){return this.k.render(txt,this.container)})\")]), WebIO.ConnectionPool(Channel{Any}(32), Set{WebIO.AbstractConnection}(), Base.GenericCondition{ReentrantLock}(Base.IntrusiveLinkedList{Task}(Task (runnable) @0x00007fb4f5707d00, Task (runnable) @0x00007fb4f5707d00), ReentrantLock(nothing, 0x00000000, 0x00, Base.GenericCondition{Base.Threads.SpinLock}(Base.IntrusiveLinkedList{Task}(nothing, nothing), Base.Threads.SpinLock(0)), (140415928955984, 140415928964160, 0)))), WebIO.JSString[WebIO.JSString(\"function () {\\n    var handler = ((function (k){this.k=k; this.container=this.dom.querySelector(\\\"#container\\\"); return k.render(\\\"\\\\\\\\;\\\\\\\\;\\\",this.container)}));\\n    (WebIO.importBlock({\\\"data\\\":[{\\\"name\\\":null,\\\"type\\\":\\\"js\\\",\\\"url\\\":\\\"/assetserver/dd22ed1bf1896c2748f3fe616ce0b838adc895c1-katex.min.js\\\"},{\\\"name\\\":null,\\\"type\\\":\\\"css\\\",\\\"url\\\":\\\"/assetserver/46517a424aa5e6cffc1360d7e0848b601c584ee3-katex.min.css\\\"}],\\\"type\\\":\\\"async_block\\\"})).then((imports) => handler.apply(this, imports));\\n}\\n\")])], Dict{Symbol, Any}(:className => \"interact-widget\")), WebIO.Node{WebIO.DOM}(WebIO.DOM(:html, :div), Any[WebIO.Scope(WebIO.Node{WebIO.DOM}(WebIO.DOM(:html, :button), Any[\"save\"], Dict{Symbol, Any}(:attributes => Dict{Any, Any}(\"data-bind\" => \"click: function (){this.clicks(this.clicks()+1)}, css: {'is-loading' : loading}\"), :className => \"is-medium button is-primary\", :style => Dict{String, Any}())), Dict{String, Tuple{Observables.AbstractObservable, Union{Nothing, Bool}}}(\"loading\" => (Observable(false), nothing), \"clicks\" => (Observable(0), nothing)), Set{String}(), nothing, WebIO.Asset[WebIO.Asset(\"js\", \"knockout\", \"/home/dushya/.julia/packages/Knockout/HReiN/src/../assets/knockout.js\"), WebIO.Asset(\"js\", \"knockout_punches\", \"/home/dushya/.julia/packages/Knockout/HReiN/src/../assets/knockout_punches.js\"), WebIO.Asset(\"js\", nothing, \"/home/dushya/.julia/packages/InteractBase/LJXv3/src/../assets/all.js\"), WebIO.Asset(\"css\", nothing, \"/home/dushya/.julia/packages/InteractBase/LJXv3/src/../assets/style.css\"), WebIO.Asset(\"css\", nothing, \"/home/dushya/.julia/packages/Interact/PENUy/src/../assets/bulma_confined.min.css\")], Dict{Any, Any}(\"loading\" => Any[WebIO.JSString(\"(function (val){return (val!=this.model[\\\"loading\\\"]()) ? (this.valueFromJulia[\\\"loading\\\"]=true, this.model[\\\"loading\\\"](val)) : undefined})\")], \"clicks\" => Any[WebIO.JSString(\"(function (val){return (val!=this.model[\\\"clicks\\\"]()) ? (this.valueFromJulia[\\\"clicks\\\"]=true, this.model[\\\"clicks\\\"](val)) : undefined})\")]), WebIO.ConnectionPool(Channel{Any}(32), Set{WebIO.AbstractConnection}(), Base.GenericCondition{ReentrantLock}(Base.IntrusiveLinkedList{Task}(Task (runnable) @0x00007fb4f51c4650, Task (runnable) @0x00007fb4f51c4650), ReentrantLock(nothing, 0x00000000, 0x00, Base.GenericCondition{Base.Threads.SpinLock}(Base.IntrusiveLinkedList{Task}(nothing, nothing), Base.Threads.SpinLock(0)), (1, 140415372128368, 0)))), WebIO.JSString[WebIO.JSString(\"function () {\\n    var handler = (function (ko, koPunches) {\\n    ko.punches.enableAll();\\n    ko.bindingHandlers.numericValue = {\\n        init: function(element, valueAccessor, allBindings, data, context) {\\n            var stringified = ko.observable(ko.unwrap(valueAccessor()));\\n            stringified.subscribe(function(value) {\\n                var val = parseFloat(value);\\n                if (!isNaN(val)) {\\n                    valueAccessor()(val);\\n                }\\n            });\\n            valueAccessor().subscribe(function(value) {\\n                var str = JSON.stringify(value);\\n                if ((str == \\\"0\\\") && ([\\\"-0\\\", \\\"-0.\\\"].indexOf(stringified()) >= 0))\\n                     return;\\n                 if ([\\\"null\\\", \\\"\\\"].indexOf(str) >= 0)\\n                     return;\\n                stringified(str);\\n            });\\n            ko.applyBindingsToNode(\\n                element,\\n                {\\n                    value: stringified,\\n                    valueUpdate: allBindings.get('valueUpdate'),\\n                },\\n                context,\\n            );\\n        }\\n    };\\n    var json_data = {\\\"loading\\\":WebIO.getval({\\\"name\\\":\\\"loading\\\",\\\"scope\\\":\\\"11237404198731502775\\\",\\\"id\\\":\\\"2343310968754962998\\\",\\\"type\\\":\\\"observable\\\"}),\\\"clicks\\\":WebIO.getval({\\\"name\\\":\\\"clicks\\\",\\\"scope\\\":\\\"11237404198731502775\\\",\\\"id\\\":\\\"18431772379795585566\\\",\\\"type\\\":\\\"observable\\\"})};\\n    var self = this;\\n    function AppViewModel() {\\n        for (var key in json_data) {\\n            var el = json_data[key];\\n            this[key] = Array.isArray(el) ? ko.observableArray(el) : ko.observable(el);\\n        }\\n        \\n        \\n        [this[\\\"loading\\\"].subscribe((function (val){!(this.valueFromJulia[\\\"loading\\\"]) ? (WebIO.setval({\\\"name\\\":\\\"loading\\\",\\\"scope\\\":\\\"11237404198731502775\\\",\\\"id\\\":\\\"2343310968754962998\\\",\\\"type\\\":\\\"observable\\\"},val)) : undefined; return this.valueFromJulia[\\\"loading\\\"]=false}),self),this[\\\"clicks\\\"].subscribe((function (val){!(this.valueFromJulia[\\\"clicks\\\"]) ? (WebIO.setval({\\\"name\\\":\\\"clicks\\\",\\\"scope\\\":\\\"11237404198731502775\\\",\\\"id\\\":\\\"18431772379795585566\\\",\\\"type\\\":\\\"observable\\\"},val)) : undefined; return this.valueFromJulia[\\\"clicks\\\"]=false}),self)]\\n        \\n    }\\n    self.model = new AppViewModel();\\n    self.valueFromJulia = {};\\n    for (var key in json_data) {\\n        self.valueFromJulia[key] = false;\\n    }\\n    ko.applyBindings(self.model, self.dom);\\n}\\n);\\n    (WebIO.importBlock({\\\"data\\\":[{\\\"name\\\":\\\"knockout\\\",\\\"type\\\":\\\"js\\\",\\\"url\\\":\\\"/assetserver/727383f2a47bd31570b7da84eee7b022dd6d7c78-knockout.js\\\"},{\\\"name\\\":\\\"knockout_punches\\\",\\\"type\\\":\\\"js\\\",\\\"url\\\":\\\"/assetserver/382b41b3b1bd9f26f75861d360bad7f8beea211f-knockout_punches.js\\\"}],\\\"type\\\":\\\"async_block\\\"})).then((imports) => handler.apply(this, imports));\\n}\\n\")])], Dict{Symbol, Any}(:className => \"field interact-widget\"))], Dict{Symbol, Any}(:style => Dict(\"display\" => \"flex\", \"flex-direction\" => \"row\")))], Dict{Symbol, Any}(:style => Dict(\"display\" => \"flex\", \"flex-direction\" => \"column\"))), WebIO.Node{WebIO.DOM}(WebIO.DOM(:html, :div), Any[WebIO.Scope(WebIO.Node{WebIO.DOM}(WebIO.DOM(:html, :div), Any[], Dict{Symbol, Any}(:id => \"container\")), Dict{String, Tuple{Observables.AbstractObservable, Union{Nothing, Bool}}}(\"value\" => (Observable(\"\\\\;\\\\;\"), nothing)), Set{String}(), nothing, WebIO.Asset[WebIO.Asset(\"js\", nothing, \"/home/dushya/.julia/packages/InteractBase/LJXv3/src/../assets/katex.min.js\"), WebIO.Asset(\"css\", nothing, \"/home/dushya/.julia/packages/InteractBase/LJXv3/src/../assets/katex.min.css\")], Dict{Any, Any}(\"value\" => Any[WebIO.JSString(\"(function (txt){return this.k.render(txt,this.container)})\")]), WebIO.ConnectionPool(Channel{Any}(32), Set{WebIO.AbstractConnection}(), Base.GenericCondition{ReentrantLock}(Base.IntrusiveLinkedList{Task}(Task (runnable) @0x00007fb4f5707d00, Task (runnable) @0x00007fb4f5707d00), ReentrantLock(nothing, 0x00000000, 0x00, Base.GenericCondition{Base.Threads.SpinLock}(Base.IntrusiveLinkedList{Task}(nothing, nothing), Base.Threads.SpinLock(0)), (140415928955984, 140415928964160, 0)))), WebIO.JSString[WebIO.JSString(\"function () {\\n    var handler = ((function (k){this.k=k; this.container=this.dom.querySelector(\\\"#container\\\"); return k.render(\\\"\\\\\\\\;\\\\\\\\;\\\",this.container)}));\\n    (WebIO.importBlock({\\\"data\\\":[{\\\"name\\\":null,\\\"type\\\":\\\"js\\\",\\\"url\\\":\\\"/assetserver/dd22ed1bf1896c2748f3fe616ce0b838adc895c1-katex.min.js\\\"},{\\\"name\\\":null,\\\"type\\\":\\\"css\\\",\\\"url\\\":\\\"/assetserver/46517a424aa5e6cffc1360d7e0848b601c584ee3-katex.min.css\\\"}],\\\"type\\\":\\\"async_block\\\"})).then((imports) => handler.apply(this, imports));\\n}\\n\")])], Dict{Symbol, Any}(:className => \"interact-widget\")), Observable(Luxor.Drawing(430.0, 430.0, \"\", Cairo.CairoSurfaceBase{UInt32}(Ptr{Nothing} @0x0000000000000000, 430.0, 430.0), Cairo.CairoContext(Ptr{Nothing} @0x0000000003edfd80, Cairo.CairoSurfaceBase{UInt32}(Ptr{Nothing} @0x0000000000000000, 430.0, 430.0), Ptr{Nothing} @0x00000000029260d0), :png, 0.5, 0.5, 0.5, 0.5, IOBuffer(data=UInt8[...], readable=true, writable=true, seekable=true, append=false, size=16685, maxsize=Inf, ptr=16686, mark=-1), UInt8[0x89, 0x50, 0x4e, 0x47, 0x0d, 0x0a, 0x1a, 0x0a, 0x00, 0x00  …  0x00, 0x00, 0x49, 0x45, 0x4e, 0x44, 0xae, 0x42, 0x60, 0x82], false)), WebIO.Node{WebIO.DOM}(WebIO.DOM(:html, :div), Any[WebIO.Scope(WebIO.Node{WebIO.DOM}(WebIO.DOM(:html, :div), Any[], Dict{Symbol, Any}(:id => \"container\")), Dict{String, Tuple{Observables.AbstractObservable, Union{Nothing, Bool}}}(\"value\" => (Observable(\"\\\\;\\\\;\"), nothing)), Set{String}(), nothing, WebIO.Asset[WebIO.Asset(\"js\", nothing, \"/home/dushya/.julia/packages/InteractBase/LJXv3/src/../assets/katex.min.js\"), WebIO.Asset(\"css\", nothing, \"/home/dushya/.julia/packages/InteractBase/LJXv3/src/../assets/katex.min.css\")], Dict{Any, Any}(\"value\" => Any[WebIO.JSString(\"(function (txt){return this.k.render(txt,this.container)})\")]), WebIO.ConnectionPool(Channel{Any}(32), Set{WebIO.AbstractConnection}(), Base.GenericCondition{ReentrantLock}(Base.IntrusiveLinkedList{Task}(Task (runnable) @0x00007fb4f5707d00, Task (runnable) @0x00007fb4f5707d00), ReentrantLock(nothing, 0x00000000, 0x00, Base.GenericCondition{Base.Threads.SpinLock}(Base.IntrusiveLinkedList{Task}(nothing, nothing), Base.Threads.SpinLock(0)), (140415928955984, 140415928964160, 0)))), WebIO.JSString[WebIO.JSString(\"function () {\\n    var handler = ((function (k){this.k=k; this.container=this.dom.querySelector(\\\"#container\\\"); return k.render(\\\"\\\\\\\\;\\\\\\\\;\\\",this.container)}));\\n    (WebIO.importBlock({\\\"data\\\":[{\\\"name\\\":null,\\\"type\\\":\\\"js\\\",\\\"url\\\":\\\"/assetserver/dd22ed1bf1896c2748f3fe616ce0b838adc895c1-katex.min.js\\\"},{\\\"name\\\":null,\\\"type\\\":\\\"css\\\",\\\"url\\\":\\\"/assetserver/46517a424aa5e6cffc1360d7e0848b601c584ee3-katex.min.css\\\"}],\\\"type\\\":\\\"async_block\\\"})).then((imports) => handler.apply(this, imports));\\n}\\n\")])], Dict{Symbol, Any}(:className => \"interact-widget\")), WebIO.Node{WebIO.DOM}(WebIO.DOM(:html, :div), Any[], Dict{Symbol, Any}(:style => Dict(\"display\" => \"flex\", \"flex-direction\" => \"column\")))], Dict{Symbol, Any}(:style => Dict(\"display\" => \"flex\", \"flex-direction\" => \"row\")))], Dict{Symbol, Any}(:style => Dict(\"display\" => \"flex\", \"flex-direction\" => \"column\")))"
      ]
     },
     "execution_count": 6,
     "metadata": {
      "application/vnd.webio.node+json": {
       "kernelId": "96bed0bf-2c64-4c45-a98a-7518ab9672b3"
      }
     },
     "output_type": "execute_result"
    }
   ],
   "source": [
    "animate_sim(model, show_patches=true)"
   ]
  },
  {
   "cell_type": "markdown",
   "metadata": {},
   "source": [
    "After defining the `step_rule!` function we can also choose to create an interactive application (which currently works in Jupyter with WebIO installation) as "
   ]
  },
  {
   "cell_type": "code",
   "execution_count": 7,
   "metadata": {},
   "outputs": [
    {
     "data": {
      "application/vnd.webio.node+json": {
       "children": [
        {
         "children": [
          {
           "children": [
            {
             "children": [
              {
               "children": [
                {
                 "children": [
                  {
                   "children": [
                    {
                     "children": [
                      "time"
                     ],
                     "instanceArgs": {
                      "namespace": "html",
                      "tag": "label"
                     },
                     "nodeType": "DOM",
                     "props": {
                      "className": "interact ",
                      "style": {
                       "padding": "5px 10px 0px 10px"
                      }
                     },
                     "type": "node"
                    }
                   ],
                   "instanceArgs": {
                    "namespace": "html",
                    "tag": "div"
                   },
                   "nodeType": "DOM",
                   "props": {
                    "className": "interact-flex-row-left"
                   },
                   "type": "node"
                  },
                  {
                   "children": [
                    {
                     "children": [],
                     "instanceArgs": {
                      "namespace": "html",
                      "tag": "input"
                     },
                     "nodeType": "DOM",
                     "props": {
                      "attributes": {
                       "data-bind": "numericValue: index, valueUpdate: 'input', event: {change: function (){this.changes(this.changes()+1)}}",
                       "orient": "horizontal",
                       "type": "range"
                      },
                      "className": "slider slider is-fullwidth",
                      "max": 200,
                      "min": 1,
                      "step": 1,
                      "style": {}
                     },
                     "type": "node"
                    }
                   ],
                   "instanceArgs": {
                    "namespace": "html",
                    "tag": "div"
                   },
                   "nodeType": "DOM",
                   "props": {
                    "className": "interact-flex-row-center"
                   },
                   "type": "node"
                  },
                  {
                   "children": [
                    {
                     "children": [],
                     "instanceArgs": {
                      "namespace": "html",
                      "tag": "p"
                     },
                     "nodeType": "DOM",
                     "props": {
                      "attributes": {
                       "data-bind": "text: formatted_val"
                      }
                     },
                     "type": "node"
                    }
                   ],
                   "instanceArgs": {
                    "namespace": "html",
                    "tag": "div"
                   },
                   "nodeType": "DOM",
                   "props": {
                    "className": "interact-flex-row-right"
                   },
                   "type": "node"
                  }
                 ],
                 "instanceArgs": {
                  "namespace": "html",
                  "tag": "div"
                 },
                 "nodeType": "DOM",
                 "props": {
                  "className": "interact-flex-row interact-widget"
                 },
                 "type": "node"
                }
               ],
               "instanceArgs": {
                "handlers": {
                 "changes": [
                  "(function (val){return (val!=this.model[\"changes\"]()) ? (this.valueFromJulia[\"changes\"]=true, this.model[\"changes\"](val)) : undefined})"
                 ],
                 "index": [
                  "(function (val){return (val!=this.model[\"index\"]()) ? (this.valueFromJulia[\"index\"]=true, this.model[\"index\"](val)) : undefined})"
                 ]
                },
                "id": "2729762196326205518",
                "imports": {
                 "data": [
                  {
                   "name": "knockout",
                   "type": "js",
                   "url": "/assetserver/727383f2a47bd31570b7da84eee7b022dd6d7c78-knockout.js"
                  },
                  {
                   "name": "knockout_punches",
                   "type": "js",
                   "url": "/assetserver/382b41b3b1bd9f26f75861d360bad7f8beea211f-knockout_punches.js"
                  },
                  {
                   "name": null,
                   "type": "js",
                   "url": "/assetserver/5ab20f1060420992a9b82a65b735dee4d81ef413-all.js"
                  },
                  {
                   "name": null,
                   "type": "css",
                   "url": "/assetserver/1cc0ed62837210b80a182cc3676512f895dab686-style.css"
                  },
                  {
                   "name": null,
                   "type": "css",
                   "url": "/assetserver/2eee816f616df3549d7044d45e744fbf8d42bfa1-bulma_confined.min.css"
                  }
                 ],
                 "type": "async_block"
                },
                "mount_callbacks": [
                 "function () {\n    var handler = (function (ko, koPunches) {\n    ko.punches.enableAll();\n    ko.bindingHandlers.numericValue = {\n        init: function(element, valueAccessor, allBindings, data, context) {\n            var stringified = ko.observable(ko.unwrap(valueAccessor()));\n            stringified.subscribe(function(value) {\n                var val = parseFloat(value);\n                if (!isNaN(val)) {\n                    valueAccessor()(val);\n                }\n            });\n            valueAccessor().subscribe(function(value) {\n                var str = JSON.stringify(value);\n                if ((str == \"0\") && ([\"-0\", \"-0.\"].indexOf(stringified()) >= 0))\n                     return;\n                 if ([\"null\", \"\"].indexOf(str) >= 0)\n                     return;\n                stringified(str);\n            });\n            ko.applyBindingsToNode(\n                element,\n                {\n                    value: stringified,\n                    valueUpdate: allBindings.get('valueUpdate'),\n                },\n                context,\n            );\n        }\n    };\n    var json_data = {\"formatted_vals\":[\"1\",\"2\",\"3\",\"4\",\"5\",\"6\",\"7\",\"8\",\"9\",\"10\",\"11\",\"12\",\"13\",\"14\",\"15\",\"16\",\"17\",\"18\",\"19\",\"20\",\"21\",\"22\",\"23\",\"24\",\"25\",\"26\",\"27\",\"28\",\"29\",\"30\",\"31\",\"32\",\"33\",\"34\",\"35\",\"36\",\"37\",\"38\",\"39\",\"40\",\"41\",\"42\",\"43\",\"44\",\"45\",\"46\",\"47\",\"48\",\"49\",\"50\",\"51\",\"52\",\"53\",\"54\",\"55\",\"56\",\"57\",\"58\",\"59\",\"60\",\"61\",\"62\",\"63\",\"64\",\"65\",\"66\",\"67\",\"68\",\"69\",\"70\",\"71\",\"72\",\"73\",\"74\",\"75\",\"76\",\"77\",\"78\",\"79\",\"80\",\"81\",\"82\",\"83\",\"84\",\"85\",\"86\",\"87\",\"88\",\"89\",\"90\",\"91\",\"92\",\"93\",\"94\",\"95\",\"96\",\"97\",\"98\",\"99\",\"100\",\"101\",\"102\",\"103\",\"104\",\"105\",\"106\",\"107\",\"108\",\"109\",\"110\",\"111\",\"112\",\"113\",\"114\",\"115\",\"116\",\"117\",\"118\",\"119\",\"120\",\"121\",\"122\",\"123\",\"124\",\"125\",\"126\",\"127\",\"128\",\"129\",\"130\",\"131\",\"132\",\"133\",\"134\",\"135\",\"136\",\"137\",\"138\",\"139\",\"140\",\"141\",\"142\",\"143\",\"144\",\"145\",\"146\",\"147\",\"148\",\"149\",\"150\",\"151\",\"152\",\"153\",\"154\",\"155\",\"156\",\"157\",\"158\",\"159\",\"160\",\"161\",\"162\",\"163\",\"164\",\"165\",\"166\",\"167\",\"168\",\"169\",\"170\",\"171\",\"172\",\"173\",\"174\",\"175\",\"176\",\"177\",\"178\",\"179\",\"180\",\"181\",\"182\",\"183\",\"184\",\"185\",\"186\",\"187\",\"188\",\"189\",\"190\",\"191\",\"192\",\"193\",\"194\",\"195\",\"196\",\"197\",\"198\",\"199\",\"200\"],\"changes\":WebIO.getval({\"name\":\"changes\",\"scope\":\"2729762196326205518\",\"id\":\"11828546096581579252\",\"type\":\"observable\"}),\"index\":WebIO.getval({\"name\":\"index\",\"scope\":\"2729762196326205518\",\"id\":\"10653402391983295610\",\"type\":\"observable\"})};\n    var self = this;\n    function AppViewModel() {\n        for (var key in json_data) {\n            var el = json_data[key];\n            this[key] = Array.isArray(el) ? ko.observableArray(el) : ko.observable(el);\n        }\n        \n        [this[\"formatted_val\"]=ko.computed(    function(){\n        return this.formatted_vals()[parseInt(this.index())-(1)];\n    }\n,this)]\n        [this[\"changes\"].subscribe((function (val){!(this.valueFromJulia[\"changes\"]) ? (WebIO.setval({\"name\":\"changes\",\"scope\":\"2729762196326205518\",\"id\":\"11828546096581579252\",\"type\":\"observable\"},val)) : undefined; return this.valueFromJulia[\"changes\"]=false}),self),this[\"index\"].subscribe((function (val){!(this.valueFromJulia[\"index\"]) ? (WebIO.setval({\"name\":\"index\",\"scope\":\"2729762196326205518\",\"id\":\"10653402391983295610\",\"type\":\"observable\"},val)) : undefined; return this.valueFromJulia[\"index\"]=false}),self)]\n        \n    }\n    self.model = new AppViewModel();\n    self.valueFromJulia = {};\n    for (var key in json_data) {\n        self.valueFromJulia[key] = false;\n    }\n    ko.applyBindings(self.model, self.dom);\n}\n);\n    (WebIO.importBlock({\"data\":[{\"name\":\"knockout\",\"type\":\"js\",\"url\":\"/assetserver/727383f2a47bd31570b7da84eee7b022dd6d7c78-knockout.js\"},{\"name\":\"knockout_punches\",\"type\":\"js\",\"url\":\"/assetserver/382b41b3b1bd9f26f75861d360bad7f8beea211f-knockout_punches.js\"}],\"type\":\"async_block\"})).then((imports) => handler.apply(this, imports));\n}\n"
                ],
                "observables": {
                 "changes": {
                  "id": "11828546096581579252",
                  "sync": false,
                  "value": 0
                 },
                 "index": {
                  "id": "10653402391983295610",
                  "sync": true,
                  "value": 1
                 }
                },
                "systemjs_options": null
               },
               "nodeType": "Scope",
               "props": {},
               "type": "node"
              }
             ],
             "instanceArgs": {
              "namespace": "html",
              "tag": "div"
             },
             "nodeType": "DOM",
             "props": {
              "className": "field interact-widget"
             },
             "type": "node"
            },
            {
             "children": [
              {
               "children": [
                {
                 "children": [
                  {
                   "children": [
                    {
                     "children": [
                      "scale"
                     ],
                     "instanceArgs": {
                      "namespace": "html",
                      "tag": "label"
                     },
                     "nodeType": "DOM",
                     "props": {
                      "className": "interact ",
                      "style": {
                       "padding": "5px 10px 0px 10px"
                      }
                     },
                     "type": "node"
                    }
                   ],
                   "instanceArgs": {
                    "namespace": "html",
                    "tag": "div"
                   },
                   "nodeType": "DOM",
                   "props": {
                    "className": "interact-flex-row-left"
                   },
                   "type": "node"
                  },
                  {
                   "children": [
                    {
                     "children": [],
                     "instanceArgs": {
                      "namespace": "html",
                      "tag": "input"
                     },
                     "nodeType": "DOM",
                     "props": {
                      "attributes": {
                       "data-bind": "numericValue: index, valueUpdate: 'input', event: {change: function (){this.changes(this.changes()+1)}}",
                       "orient": "horizontal",
                       "type": "range"
                      },
                      "className": "slider slider is-fullwidth",
                      "max": 20,
                      "min": 1,
                      "step": 1,
                      "style": {}
                     },
                     "type": "node"
                    }
                   ],
                   "instanceArgs": {
                    "namespace": "html",
                    "tag": "div"
                   },
                   "nodeType": "DOM",
                   "props": {
                    "className": "interact-flex-row-center"
                   },
                   "type": "node"
                  },
                  {
                   "children": [
                    {
                     "children": [],
                     "instanceArgs": {
                      "namespace": "html",
                      "tag": "p"
                     },
                     "nodeType": "DOM",
                     "props": {
                      "attributes": {
                       "data-bind": "text: formatted_val"
                      }
                     },
                     "type": "node"
                    }
                   ],
                   "instanceArgs": {
                    "namespace": "html",
                    "tag": "div"
                   },
                   "nodeType": "DOM",
                   "props": {
                    "className": "interact-flex-row-right"
                   },
                   "type": "node"
                  }
                 ],
                 "instanceArgs": {
                  "namespace": "html",
                  "tag": "div"
                 },
                 "nodeType": "DOM",
                 "props": {
                  "className": "interact-flex-row interact-widget"
                 },
                 "type": "node"
                }
               ],
               "instanceArgs": {
                "handlers": {
                 "changes": [
                  "(function (val){return (val!=this.model[\"changes\"]()) ? (this.valueFromJulia[\"changes\"]=true, this.model[\"changes\"](val)) : undefined})"
                 ],
                 "index": [
                  "(function (val){return (val!=this.model[\"index\"]()) ? (this.valueFromJulia[\"index\"]=true, this.model[\"index\"](val)) : undefined})"
                 ]
                },
                "id": "14453592012856307364",
                "imports": {
                 "data": [
                  {
                   "name": "knockout",
                   "type": "js",
                   "url": "/assetserver/727383f2a47bd31570b7da84eee7b022dd6d7c78-knockout.js"
                  },
                  {
                   "name": "knockout_punches",
                   "type": "js",
                   "url": "/assetserver/382b41b3b1bd9f26f75861d360bad7f8beea211f-knockout_punches.js"
                  },
                  {
                   "name": null,
                   "type": "js",
                   "url": "/assetserver/5ab20f1060420992a9b82a65b735dee4d81ef413-all.js"
                  },
                  {
                   "name": null,
                   "type": "css",
                   "url": "/assetserver/1cc0ed62837210b80a182cc3676512f895dab686-style.css"
                  },
                  {
                   "name": null,
                   "type": "css",
                   "url": "/assetserver/2eee816f616df3549d7044d45e744fbf8d42bfa1-bulma_confined.min.css"
                  }
                 ],
                 "type": "async_block"
                },
                "mount_callbacks": [
                 "function () {\n    var handler = (function (ko, koPunches) {\n    ko.punches.enableAll();\n    ko.bindingHandlers.numericValue = {\n        init: function(element, valueAccessor, allBindings, data, context) {\n            var stringified = ko.observable(ko.unwrap(valueAccessor()));\n            stringified.subscribe(function(value) {\n                var val = parseFloat(value);\n                if (!isNaN(val)) {\n                    valueAccessor()(val);\n                }\n            });\n            valueAccessor().subscribe(function(value) {\n                var str = JSON.stringify(value);\n                if ((str == \"0\") && ([\"-0\", \"-0.\"].indexOf(stringified()) >= 0))\n                     return;\n                 if ([\"null\", \"\"].indexOf(str) >= 0)\n                     return;\n                stringified(str);\n            });\n            ko.applyBindingsToNode(\n                element,\n                {\n                    value: stringified,\n                    valueUpdate: allBindings.get('valueUpdate'),\n                },\n                context,\n            );\n        }\n    };\n    var json_data = {\"formatted_vals\":[\"0.1\",\"0.2\",\"0.3\",\"0.4\",\"0.5\",\"0.6\",\"0.7\",\"0.8\",\"0.9\",\"1.0\",\"1.1\",\"1.2\",\"1.3\",\"1.4\",\"1.5\",\"1.6\",\"1.7\",\"1.8\",\"1.9\",\"2.0\"],\"changes\":WebIO.getval({\"name\":\"changes\",\"scope\":\"14453592012856307364\",\"id\":\"13664770104683552579\",\"type\":\"observable\"}),\"index\":WebIO.getval({\"name\":\"index\",\"scope\":\"14453592012856307364\",\"id\":\"2501023445654905365\",\"type\":\"observable\"})};\n    var self = this;\n    function AppViewModel() {\n        for (var key in json_data) {\n            var el = json_data[key];\n            this[key] = Array.isArray(el) ? ko.observableArray(el) : ko.observable(el);\n        }\n        \n        [this[\"formatted_val\"]=ko.computed(    function(){\n        return this.formatted_vals()[parseInt(this.index())-(1)];\n    }\n,this)]\n        [this[\"changes\"].subscribe((function (val){!(this.valueFromJulia[\"changes\"]) ? (WebIO.setval({\"name\":\"changes\",\"scope\":\"14453592012856307364\",\"id\":\"13664770104683552579\",\"type\":\"observable\"},val)) : undefined; return this.valueFromJulia[\"changes\"]=false}),self),this[\"index\"].subscribe((function (val){!(this.valueFromJulia[\"index\"]) ? (WebIO.setval({\"name\":\"index\",\"scope\":\"14453592012856307364\",\"id\":\"2501023445654905365\",\"type\":\"observable\"},val)) : undefined; return this.valueFromJulia[\"index\"]=false}),self)]\n        \n    }\n    self.model = new AppViewModel();\n    self.valueFromJulia = {};\n    for (var key in json_data) {\n        self.valueFromJulia[key] = false;\n    }\n    ko.applyBindings(self.model, self.dom);\n}\n);\n    (WebIO.importBlock({\"data\":[{\"name\":\"knockout\",\"type\":\"js\",\"url\":\"/assetserver/727383f2a47bd31570b7da84eee7b022dd6d7c78-knockout.js\"},{\"name\":\"knockout_punches\",\"type\":\"js\",\"url\":\"/assetserver/382b41b3b1bd9f26f75861d360bad7f8beea211f-knockout_punches.js\"}],\"type\":\"async_block\"})).then((imports) => handler.apply(this, imports));\n}\n"
                ],
                "observables": {
                 "changes": {
                  "id": "13664770104683552579",
                  "sync": false,
                  "value": 0
                 },
                 "index": {
                  "id": "2501023445654905365",
                  "sync": true,
                  "value": 10
                 }
                },
                "systemjs_options": null
               },
               "nodeType": "Scope",
               "props": {},
               "type": "node"
              }
             ],
             "instanceArgs": {
              "namespace": "html",
              "tag": "div"
             },
             "nodeType": "DOM",
             "props": {
              "className": "field interact-widget"
             },
             "type": "node"
            },
            {
             "children": [],
             "instanceArgs": {
              "namespace": "html",
              "tag": "div"
             },
             "nodeType": "DOM",
             "props": {
              "style": {
               "display": "flex",
               "flex-direction": "column"
              }
             },
             "type": "node"
            },
            {
             "children": [
              {
               "children": [
                {
                 "children": [
                  {
                   "children": [
                    {
                     "children": [
                      {
                       "children": [
                        "wolf_birth_rate"
                       ],
                       "instanceArgs": {
                        "namespace": "html",
                        "tag": "label"
                       },
                       "nodeType": "DOM",
                       "props": {
                        "className": "interact ",
                        "style": {
                         "padding": "5px 10px 0px 10px"
                        }
                       },
                       "type": "node"
                      }
                     ],
                     "instanceArgs": {
                      "namespace": "html",
                      "tag": "div"
                     },
                     "nodeType": "DOM",
                     "props": {
                      "className": "interact-flex-row-left"
                     },
                     "type": "node"
                    },
                    {
                     "children": [
                      {
                       "children": [],
                       "instanceArgs": {
                        "namespace": "html",
                        "tag": "input"
                       },
                       "nodeType": "DOM",
                       "props": {
                        "attributes": {
                         "data-bind": "numericValue: index, valueUpdate: 'input', event: {change: function (){this.changes(this.changes()+1)}}",
                         "orient": "horizontal",
                         "type": "range"
                        },
                        "className": "slider slider is-fullwidth",
                        "max": 101,
                        "min": 1,
                        "step": 1,
                        "style": {}
                       },
                       "type": "node"
                      }
                     ],
                     "instanceArgs": {
                      "namespace": "html",
                      "tag": "div"
                     },
                     "nodeType": "DOM",
                     "props": {
                      "className": "interact-flex-row-center"
                     },
                     "type": "node"
                    },
                    {
                     "children": [
                      {
                       "children": [],
                       "instanceArgs": {
                        "namespace": "html",
                        "tag": "p"
                       },
                       "nodeType": "DOM",
                       "props": {
                        "attributes": {
                         "data-bind": "text: formatted_val"
                        }
                       },
                       "type": "node"
                      }
                     ],
                     "instanceArgs": {
                      "namespace": "html",
                      "tag": "div"
                     },
                     "nodeType": "DOM",
                     "props": {
                      "className": "interact-flex-row-right"
                     },
                     "type": "node"
                    }
                   ],
                   "instanceArgs": {
                    "namespace": "html",
                    "tag": "div"
                   },
                   "nodeType": "DOM",
                   "props": {
                    "className": "interact-flex-row interact-widget"
                   },
                   "type": "node"
                  }
                 ],
                 "instanceArgs": {
                  "handlers": {
                   "changes": [
                    "(function (val){return (val!=this.model[\"changes\"]()) ? (this.valueFromJulia[\"changes\"]=true, this.model[\"changes\"](val)) : undefined})"
                   ],
                   "index": [
                    "(function (val){return (val!=this.model[\"index\"]()) ? (this.valueFromJulia[\"index\"]=true, this.model[\"index\"](val)) : undefined})"
                   ]
                  },
                  "id": "18191719349728432963",
                  "imports": {
                   "data": [
                    {
                     "name": "knockout",
                     "type": "js",
                     "url": "/assetserver/727383f2a47bd31570b7da84eee7b022dd6d7c78-knockout.js"
                    },
                    {
                     "name": "knockout_punches",
                     "type": "js",
                     "url": "/assetserver/382b41b3b1bd9f26f75861d360bad7f8beea211f-knockout_punches.js"
                    },
                    {
                     "name": null,
                     "type": "js",
                     "url": "/assetserver/5ab20f1060420992a9b82a65b735dee4d81ef413-all.js"
                    },
                    {
                     "name": null,
                     "type": "css",
                     "url": "/assetserver/1cc0ed62837210b80a182cc3676512f895dab686-style.css"
                    },
                    {
                     "name": null,
                     "type": "css",
                     "url": "/assetserver/2eee816f616df3549d7044d45e744fbf8d42bfa1-bulma_confined.min.css"
                    }
                   ],
                   "type": "async_block"
                  },
                  "mount_callbacks": [
                   "function () {\n    var handler = (function (ko, koPunches) {\n    ko.punches.enableAll();\n    ko.bindingHandlers.numericValue = {\n        init: function(element, valueAccessor, allBindings, data, context) {\n            var stringified = ko.observable(ko.unwrap(valueAccessor()));\n            stringified.subscribe(function(value) {\n                var val = parseFloat(value);\n                if (!isNaN(val)) {\n                    valueAccessor()(val);\n                }\n            });\n            valueAccessor().subscribe(function(value) {\n                var str = JSON.stringify(value);\n                if ((str == \"0\") && ([\"-0\", \"-0.\"].indexOf(stringified()) >= 0))\n                     return;\n                 if ([\"null\", \"\"].indexOf(str) >= 0)\n                     return;\n                stringified(str);\n            });\n            ko.applyBindingsToNode(\n                element,\n                {\n                    value: stringified,\n                    valueUpdate: allBindings.get('valueUpdate'),\n                },\n                context,\n            );\n        }\n    };\n    var json_data = {\"formatted_vals\":[\"0.0\",\"0.01\",\"0.02\",\"0.03\",\"0.04\",\"0.05\",\"0.06\",\"0.07\",\"0.08\",\"0.09\",\"0.1\",\"0.11\",\"0.12\",\"0.13\",\"0.14\",\"0.15\",\"0.16\",\"0.17\",\"0.18\",\"0.19\",\"0.2\",\"0.21\",\"0.22\",\"0.23\",\"0.24\",\"0.25\",\"0.26\",\"0.27\",\"0.28\",\"0.29\",\"0.3\",\"0.31\",\"0.32\",\"0.33\",\"0.34\",\"0.35\",\"0.36\",\"0.37\",\"0.38\",\"0.39\",\"0.4\",\"0.41\",\"0.42\",\"0.43\",\"0.44\",\"0.45\",\"0.46\",\"0.47\",\"0.48\",\"0.49\",\"0.5\",\"0.51\",\"0.52\",\"0.53\",\"0.54\",\"0.55\",\"0.56\",\"0.57\",\"0.58\",\"0.59\",\"0.6\",\"0.61\",\"0.62\",\"0.63\",\"0.64\",\"0.65\",\"0.66\",\"0.67\",\"0.68\",\"0.69\",\"0.7\",\"0.71\",\"0.72\",\"0.73\",\"0.74\",\"0.75\",\"0.76\",\"0.77\",\"0.78\",\"0.79\",\"0.8\",\"0.81\",\"0.82\",\"0.83\",\"0.84\",\"0.85\",\"0.86\",\"0.87\",\"0.88\",\"0.89\",\"0.9\",\"0.91\",\"0.92\",\"0.93\",\"0.94\",\"0.95\",\"0.96\",\"0.97\",\"0.98\",\"0.99\",\"1.0\"],\"changes\":WebIO.getval({\"name\":\"changes\",\"scope\":\"18191719349728432963\",\"id\":\"11563390601754788599\",\"type\":\"observable\"}),\"index\":WebIO.getval({\"name\":\"index\",\"scope\":\"18191719349728432963\",\"id\":\"1555390471200055825\",\"type\":\"observable\"})};\n    var self = this;\n    function AppViewModel() {\n        for (var key in json_data) {\n            var el = json_data[key];\n            this[key] = Array.isArray(el) ? ko.observableArray(el) : ko.observable(el);\n        }\n        \n        [this[\"formatted_val\"]=ko.computed(    function(){\n        return this.formatted_vals()[parseInt(this.index())-(1)];\n    }\n,this)]\n        [this[\"changes\"].subscribe((function (val){!(this.valueFromJulia[\"changes\"]) ? (WebIO.setval({\"name\":\"changes\",\"scope\":\"18191719349728432963\",\"id\":\"11563390601754788599\",\"type\":\"observable\"},val)) : undefined; return this.valueFromJulia[\"changes\"]=false}),self),this[\"index\"].subscribe((function (val){!(this.valueFromJulia[\"index\"]) ? (WebIO.setval({\"name\":\"index\",\"scope\":\"18191719349728432963\",\"id\":\"1555390471200055825\",\"type\":\"observable\"},val)) : undefined; return this.valueFromJulia[\"index\"]=false}),self)]\n        \n    }\n    self.model = new AppViewModel();\n    self.valueFromJulia = {};\n    for (var key in json_data) {\n        self.valueFromJulia[key] = false;\n    }\n    ko.applyBindings(self.model, self.dom);\n}\n);\n    (WebIO.importBlock({\"data\":[{\"name\":\"knockout\",\"type\":\"js\",\"url\":\"/assetserver/727383f2a47bd31570b7da84eee7b022dd6d7c78-knockout.js\"},{\"name\":\"knockout_punches\",\"type\":\"js\",\"url\":\"/assetserver/382b41b3b1bd9f26f75861d360bad7f8beea211f-knockout_punches.js\"}],\"type\":\"async_block\"})).then((imports) => handler.apply(this, imports));\n}\n"
                  ],
                  "observables": {
                   "changes": {
                    "id": "11563390601754788599",
                    "sync": false,
                    "value": 0
                   },
                   "index": {
                    "id": "1555390471200055825",
                    "sync": true,
                    "value": 51
                   }
                  },
                  "systemjs_options": null
                 },
                 "nodeType": "Scope",
                 "props": {},
                 "type": "node"
                }
               ],
               "instanceArgs": {
                "namespace": "html",
                "tag": "div"
               },
               "nodeType": "DOM",
               "props": {
                "className": "field interact-widget"
               },
               "type": "node"
              },
              {
               "children": [
                {
                 "children": [
                  {
                   "children": [
                    {
                     "children": [
                      {
                       "children": [
                        "sheep_birth_rate"
                       ],
                       "instanceArgs": {
                        "namespace": "html",
                        "tag": "label"
                       },
                       "nodeType": "DOM",
                       "props": {
                        "className": "interact ",
                        "style": {
                         "padding": "5px 10px 0px 10px"
                        }
                       },
                       "type": "node"
                      }
                     ],
                     "instanceArgs": {
                      "namespace": "html",
                      "tag": "div"
                     },
                     "nodeType": "DOM",
                     "props": {
                      "className": "interact-flex-row-left"
                     },
                     "type": "node"
                    },
                    {
                     "children": [
                      {
                       "children": [],
                       "instanceArgs": {
                        "namespace": "html",
                        "tag": "input"
                       },
                       "nodeType": "DOM",
                       "props": {
                        "attributes": {
                         "data-bind": "numericValue: index, valueUpdate: 'input', event: {change: function (){this.changes(this.changes()+1)}}",
                         "orient": "horizontal",
                         "type": "range"
                        },
                        "className": "slider slider is-fullwidth",
                        "max": 100,
                        "min": 1,
                        "step": 1,
                        "style": {}
                       },
                       "type": "node"
                      }
                     ],
                     "instanceArgs": {
                      "namespace": "html",
                      "tag": "div"
                     },
                     "nodeType": "DOM",
                     "props": {
                      "className": "interact-flex-row-center"
                     },
                     "type": "node"
                    },
                    {
                     "children": [
                      {
                       "children": [],
                       "instanceArgs": {
                        "namespace": "html",
                        "tag": "p"
                       },
                       "nodeType": "DOM",
                       "props": {
                        "attributes": {
                         "data-bind": "text: formatted_val"
                        }
                       },
                       "type": "node"
                      }
                     ],
                     "instanceArgs": {
                      "namespace": "html",
                      "tag": "div"
                     },
                     "nodeType": "DOM",
                     "props": {
                      "className": "interact-flex-row-right"
                     },
                     "type": "node"
                    }
                   ],
                   "instanceArgs": {
                    "namespace": "html",
                    "tag": "div"
                   },
                   "nodeType": "DOM",
                   "props": {
                    "className": "interact-flex-row interact-widget"
                   },
                   "type": "node"
                  }
                 ],
                 "instanceArgs": {
                  "handlers": {
                   "changes": [
                    "(function (val){return (val!=this.model[\"changes\"]()) ? (this.valueFromJulia[\"changes\"]=true, this.model[\"changes\"](val)) : undefined})"
                   ],
                   "index": [
                    "(function (val){return (val!=this.model[\"index\"]()) ? (this.valueFromJulia[\"index\"]=true, this.model[\"index\"](val)) : undefined})"
                   ]
                  },
                  "id": "12562189183334581316",
                  "imports": {
                   "data": [
                    {
                     "name": "knockout",
                     "type": "js",
                     "url": "/assetserver/727383f2a47bd31570b7da84eee7b022dd6d7c78-knockout.js"
                    },
                    {
                     "name": "knockout_punches",
                     "type": "js",
                     "url": "/assetserver/382b41b3b1bd9f26f75861d360bad7f8beea211f-knockout_punches.js"
                    },
                    {
                     "name": null,
                     "type": "js",
                     "url": "/assetserver/5ab20f1060420992a9b82a65b735dee4d81ef413-all.js"
                    },
                    {
                     "name": null,
                     "type": "css",
                     "url": "/assetserver/1cc0ed62837210b80a182cc3676512f895dab686-style.css"
                    },
                    {
                     "name": null,
                     "type": "css",
                     "url": "/assetserver/2eee816f616df3549d7044d45e744fbf8d42bfa1-bulma_confined.min.css"
                    }
                   ],
                   "type": "async_block"
                  },
                  "mount_callbacks": [
                   "function () {\n    var handler = (function (ko, koPunches) {\n    ko.punches.enableAll();\n    ko.bindingHandlers.numericValue = {\n        init: function(element, valueAccessor, allBindings, data, context) {\n            var stringified = ko.observable(ko.unwrap(valueAccessor()));\n            stringified.subscribe(function(value) {\n                var val = parseFloat(value);\n                if (!isNaN(val)) {\n                    valueAccessor()(val);\n                }\n            });\n            valueAccessor().subscribe(function(value) {\n                var str = JSON.stringify(value);\n                if ((str == \"0\") && ([\"-0\", \"-0.\"].indexOf(stringified()) >= 0))\n                     return;\n                 if ([\"null\", \"\"].indexOf(str) >= 0)\n                     return;\n                stringified(str);\n            });\n            ko.applyBindingsToNode(\n                element,\n                {\n                    value: stringified,\n                    valueUpdate: allBindings.get('valueUpdate'),\n                },\n                context,\n            );\n        }\n    };\n    var json_data = {\"formatted_vals\":[\"0.01\",\"0.02\",\"0.03\",\"0.04\",\"0.05\",\"0.06\",\"0.07\",\"0.08\",\"0.09\",\"0.1\",\"0.11\",\"0.12\",\"0.13\",\"0.14\",\"0.15\",\"0.16\",\"0.17\",\"0.18\",\"0.19\",\"0.2\",\"0.21\",\"0.22\",\"0.23\",\"0.24\",\"0.25\",\"0.26\",\"0.27\",\"0.28\",\"0.29\",\"0.3\",\"0.31\",\"0.32\",\"0.33\",\"0.34\",\"0.35\",\"0.36\",\"0.37\",\"0.38\",\"0.39\",\"0.4\",\"0.41\",\"0.42\",\"0.43\",\"0.44\",\"0.45\",\"0.46\",\"0.47\",\"0.48\",\"0.49\",\"0.5\",\"0.51\",\"0.52\",\"0.53\",\"0.54\",\"0.55\",\"0.56\",\"0.57\",\"0.58\",\"0.59\",\"0.6\",\"0.61\",\"0.62\",\"0.63\",\"0.64\",\"0.65\",\"0.66\",\"0.67\",\"0.68\",\"0.69\",\"0.7\",\"0.71\",\"0.72\",\"0.73\",\"0.74\",\"0.75\",\"0.76\",\"0.77\",\"0.78\",\"0.79\",\"0.8\",\"0.81\",\"0.82\",\"0.83\",\"0.84\",\"0.85\",\"0.86\",\"0.87\",\"0.88\",\"0.89\",\"0.9\",\"0.91\",\"0.92\",\"0.93\",\"0.94\",\"0.95\",\"0.96\",\"0.97\",\"0.98\",\"0.99\",\"1.0\"],\"changes\":WebIO.getval({\"name\":\"changes\",\"scope\":\"12562189183334581316\",\"id\":\"15690620883247491028\",\"type\":\"observable\"}),\"index\":WebIO.getval({\"name\":\"index\",\"scope\":\"12562189183334581316\",\"id\":\"15515386561086474340\",\"type\":\"observable\"})};\n    var self = this;\n    function AppViewModel() {\n        for (var key in json_data) {\n            var el = json_data[key];\n            this[key] = Array.isArray(el) ? ko.observableArray(el) : ko.observable(el);\n        }\n        \n        [this[\"formatted_val\"]=ko.computed(    function(){\n        return this.formatted_vals()[parseInt(this.index())-(1)];\n    }\n,this)]\n        [this[\"changes\"].subscribe((function (val){!(this.valueFromJulia[\"changes\"]) ? (WebIO.setval({\"name\":\"changes\",\"scope\":\"12562189183334581316\",\"id\":\"15690620883247491028\",\"type\":\"observable\"},val)) : undefined; return this.valueFromJulia[\"changes\"]=false}),self),this[\"index\"].subscribe((function (val){!(this.valueFromJulia[\"index\"]) ? (WebIO.setval({\"name\":\"index\",\"scope\":\"12562189183334581316\",\"id\":\"15515386561086474340\",\"type\":\"observable\"},val)) : undefined; return this.valueFromJulia[\"index\"]=false}),self)]\n        \n    }\n    self.model = new AppViewModel();\n    self.valueFromJulia = {};\n    for (var key in json_data) {\n        self.valueFromJulia[key] = false;\n    }\n    ko.applyBindings(self.model, self.dom);\n}\n);\n    (WebIO.importBlock({\"data\":[{\"name\":\"knockout\",\"type\":\"js\",\"url\":\"/assetserver/727383f2a47bd31570b7da84eee7b022dd6d7c78-knockout.js\"},{\"name\":\"knockout_punches\",\"type\":\"js\",\"url\":\"/assetserver/382b41b3b1bd9f26f75861d360bad7f8beea211f-knockout_punches.js\"}],\"type\":\"async_block\"})).then((imports) => handler.apply(this, imports));\n}\n"
                  ],
                  "observables": {
                   "changes": {
                    "id": "15690620883247491028",
                    "sync": false,
                    "value": 0
                   },
                   "index": {
                    "id": "15515386561086474340",
                    "sync": true,
                    "value": 50
                   }
                  },
                  "systemjs_options": null
                 },
                 "nodeType": "Scope",
                 "props": {},
                 "type": "node"
                }
               ],
               "instanceArgs": {
                "namespace": "html",
                "tag": "div"
               },
               "nodeType": "DOM",
               "props": {
                "className": "field interact-widget"
               },
               "type": "node"
              },
              {
               "children": [
                {
                 "children": [
                  {
                   "children": [
                    {
                     "children": [
                      {
                       "children": [
                        "initial_wolf_percent"
                       ],
                       "instanceArgs": {
                        "namespace": "html",
                        "tag": "label"
                       },
                       "nodeType": "DOM",
                       "props": {
                        "className": "interact ",
                        "style": {
                         "padding": "5px 10px 0px 10px"
                        }
                       },
                       "type": "node"
                      }
                     ],
                     "instanceArgs": {
                      "namespace": "html",
                      "tag": "div"
                     },
                     "nodeType": "DOM",
                     "props": {
                      "className": "interact-flex-row-left"
                     },
                     "type": "node"
                    },
                    {
                     "children": [
                      {
                       "children": [],
                       "instanceArgs": {
                        "namespace": "html",
                        "tag": "input"
                       },
                       "nodeType": "DOM",
                       "props": {
                        "attributes": {
                         "data-bind": "numericValue: index, valueUpdate: 'input', event: {change: function (){this.changes(this.changes()+1)}}",
                         "orient": "horizontal",
                         "type": "range"
                        },
                        "className": "slider slider is-fullwidth",
                        "max": 90,
                        "min": 1,
                        "step": 1,
                        "style": {}
                       },
                       "type": "node"
                      }
                     ],
                     "instanceArgs": {
                      "namespace": "html",
                      "tag": "div"
                     },
                     "nodeType": "DOM",
                     "props": {
                      "className": "interact-flex-row-center"
                     },
                     "type": "node"
                    },
                    {
                     "children": [
                      {
                       "children": [],
                       "instanceArgs": {
                        "namespace": "html",
                        "tag": "p"
                       },
                       "nodeType": "DOM",
                       "props": {
                        "attributes": {
                         "data-bind": "text: formatted_val"
                        }
                       },
                       "type": "node"
                      }
                     ],
                     "instanceArgs": {
                      "namespace": "html",
                      "tag": "div"
                     },
                     "nodeType": "DOM",
                     "props": {
                      "className": "interact-flex-row-right"
                     },
                     "type": "node"
                    }
                   ],
                   "instanceArgs": {
                    "namespace": "html",
                    "tag": "div"
                   },
                   "nodeType": "DOM",
                   "props": {
                    "className": "interact-flex-row interact-widget"
                   },
                   "type": "node"
                  }
                 ],
                 "instanceArgs": {
                  "handlers": {
                   "changes": [
                    "(function (val){return (val!=this.model[\"changes\"]()) ? (this.valueFromJulia[\"changes\"]=true, this.model[\"changes\"](val)) : undefined})"
                   ],
                   "index": [
                    "(function (val){return (val!=this.model[\"index\"]()) ? (this.valueFromJulia[\"index\"]=true, this.model[\"index\"](val)) : undefined})"
                   ]
                  },
                  "id": "11651686859537973612",
                  "imports": {
                   "data": [
                    {
                     "name": "knockout",
                     "type": "js",
                     "url": "/assetserver/727383f2a47bd31570b7da84eee7b022dd6d7c78-knockout.js"
                    },
                    {
                     "name": "knockout_punches",
                     "type": "js",
                     "url": "/assetserver/382b41b3b1bd9f26f75861d360bad7f8beea211f-knockout_punches.js"
                    },
                    {
                     "name": null,
                     "type": "js",
                     "url": "/assetserver/5ab20f1060420992a9b82a65b735dee4d81ef413-all.js"
                    },
                    {
                     "name": null,
                     "type": "css",
                     "url": "/assetserver/1cc0ed62837210b80a182cc3676512f895dab686-style.css"
                    },
                    {
                     "name": null,
                     "type": "css",
                     "url": "/assetserver/2eee816f616df3549d7044d45e744fbf8d42bfa1-bulma_confined.min.css"
                    }
                   ],
                   "type": "async_block"
                  },
                  "mount_callbacks": [
                   "function () {\n    var handler = (function (ko, koPunches) {\n    ko.punches.enableAll();\n    ko.bindingHandlers.numericValue = {\n        init: function(element, valueAccessor, allBindings, data, context) {\n            var stringified = ko.observable(ko.unwrap(valueAccessor()));\n            stringified.subscribe(function(value) {\n                var val = parseFloat(value);\n                if (!isNaN(val)) {\n                    valueAccessor()(val);\n                }\n            });\n            valueAccessor().subscribe(function(value) {\n                var str = JSON.stringify(value);\n                if ((str == \"0\") && ([\"-0\", \"-0.\"].indexOf(stringified()) >= 0))\n                     return;\n                 if ([\"null\", \"\"].indexOf(str) >= 0)\n                     return;\n                stringified(str);\n            });\n            ko.applyBindingsToNode(\n                element,\n                {\n                    value: stringified,\n                    valueUpdate: allBindings.get('valueUpdate'),\n                },\n                context,\n            );\n        }\n    };\n    var json_data = {\"formatted_vals\":[\"0.01\",\"0.02\",\"0.03\",\"0.04\",\"0.05\",\"0.06\",\"0.07\",\"0.08\",\"0.09\",\"0.1\",\"0.11\",\"0.12\",\"0.13\",\"0.14\",\"0.15\",\"0.16\",\"0.17\",\"0.18\",\"0.19\",\"0.2\",\"0.21\",\"0.22\",\"0.23\",\"0.24\",\"0.25\",\"0.26\",\"0.27\",\"0.28\",\"0.29\",\"0.3\",\"0.31\",\"0.32\",\"0.33\",\"0.34\",\"0.35\",\"0.36\",\"0.37\",\"0.38\",\"0.39\",\"0.4\",\"0.41\",\"0.42\",\"0.43\",\"0.44\",\"0.45\",\"0.46\",\"0.47\",\"0.48\",\"0.49\",\"0.5\",\"0.51\",\"0.52\",\"0.53\",\"0.54\",\"0.55\",\"0.56\",\"0.57\",\"0.58\",\"0.59\",\"0.6\",\"0.61\",\"0.62\",\"0.63\",\"0.64\",\"0.65\",\"0.66\",\"0.67\",\"0.68\",\"0.69\",\"0.7\",\"0.71\",\"0.72\",\"0.73\",\"0.74\",\"0.75\",\"0.76\",\"0.77\",\"0.78\",\"0.79\",\"0.8\",\"0.81\",\"0.82\",\"0.83\",\"0.84\",\"0.85\",\"0.86\",\"0.87\",\"0.88\",\"0.89\",\"0.9\"],\"changes\":WebIO.getval({\"name\":\"changes\",\"scope\":\"11651686859537973612\",\"id\":\"16894187369308337083\",\"type\":\"observable\"}),\"index\":WebIO.getval({\"name\":\"index\",\"scope\":\"11651686859537973612\",\"id\":\"3126686312797812229\",\"type\":\"observable\"})};\n    var self = this;\n    function AppViewModel() {\n        for (var key in json_data) {\n            var el = json_data[key];\n            this[key] = Array.isArray(el) ? ko.observableArray(el) : ko.observable(el);\n        }\n        \n        [this[\"formatted_val\"]=ko.computed(    function(){\n        return this.formatted_vals()[parseInt(this.index())-(1)];\n    }\n,this)]\n        [this[\"changes\"].subscribe((function (val){!(this.valueFromJulia[\"changes\"]) ? (WebIO.setval({\"name\":\"changes\",\"scope\":\"11651686859537973612\",\"id\":\"16894187369308337083\",\"type\":\"observable\"},val)) : undefined; return this.valueFromJulia[\"changes\"]=false}),self),this[\"index\"].subscribe((function (val){!(this.valueFromJulia[\"index\"]) ? (WebIO.setval({\"name\":\"index\",\"scope\":\"11651686859537973612\",\"id\":\"3126686312797812229\",\"type\":\"observable\"},val)) : undefined; return this.valueFromJulia[\"index\"]=false}),self)]\n        \n    }\n    self.model = new AppViewModel();\n    self.valueFromJulia = {};\n    for (var key in json_data) {\n        self.valueFromJulia[key] = false;\n    }\n    ko.applyBindings(self.model, self.dom);\n}\n);\n    (WebIO.importBlock({\"data\":[{\"name\":\"knockout\",\"type\":\"js\",\"url\":\"/assetserver/727383f2a47bd31570b7da84eee7b022dd6d7c78-knockout.js\"},{\"name\":\"knockout_punches\",\"type\":\"js\",\"url\":\"/assetserver/382b41b3b1bd9f26f75861d360bad7f8beea211f-knockout_punches.js\"}],\"type\":\"async_block\"})).then((imports) => handler.apply(this, imports));\n}\n"
                  ],
                  "observables": {
                   "changes": {
                    "id": "16894187369308337083",
                    "sync": false,
                    "value": 0
                   },
                   "index": {
                    "id": "3126686312797812229",
                    "sync": true,
                    "value": 45
                   }
                  },
                  "systemjs_options": null
                 },
                 "nodeType": "Scope",
                 "props": {},
                 "type": "node"
                }
               ],
               "instanceArgs": {
                "namespace": "html",
                "tag": "div"
               },
               "nodeType": "DOM",
               "props": {
                "className": "field interact-widget"
               },
               "type": "node"
              },
              {
               "children": [
                {
                 "children": [
                  {
                   "children": [
                    {
                     "children": [
                      {
                       "children": [
                        "wolves_kill_ability"
                       ],
                       "instanceArgs": {
                        "namespace": "html",
                        "tag": "label"
                       },
                       "nodeType": "DOM",
                       "props": {
                        "className": "interact ",
                        "style": {
                         "padding": "5px 10px 0px 10px"
                        }
                       },
                       "type": "node"
                      }
                     ],
                     "instanceArgs": {
                      "namespace": "html",
                      "tag": "div"
                     },
                     "nodeType": "DOM",
                     "props": {
                      "className": "interact-flex-row-left"
                     },
                     "type": "node"
                    },
                    {
                     "children": [
                      {
                       "children": [],
                       "instanceArgs": {
                        "namespace": "html",
                        "tag": "input"
                       },
                       "nodeType": "DOM",
                       "props": {
                        "attributes": {
                         "data-bind": "numericValue: index, valueUpdate: 'input', event: {change: function (){this.changes(this.changes()+1)}}",
                         "orient": "horizontal",
                         "type": "range"
                        },
                        "className": "slider slider is-fullwidth",
                        "max": 100,
                        "min": 1,
                        "step": 1,
                        "style": {}
                       },
                       "type": "node"
                      }
                     ],
                     "instanceArgs": {
                      "namespace": "html",
                      "tag": "div"
                     },
                     "nodeType": "DOM",
                     "props": {
                      "className": "interact-flex-row-center"
                     },
                     "type": "node"
                    },
                    {
                     "children": [
                      {
                       "children": [],
                       "instanceArgs": {
                        "namespace": "html",
                        "tag": "p"
                       },
                       "nodeType": "DOM",
                       "props": {
                        "attributes": {
                         "data-bind": "text: formatted_val"
                        }
                       },
                       "type": "node"
                      }
                     ],
                     "instanceArgs": {
                      "namespace": "html",
                      "tag": "div"
                     },
                     "nodeType": "DOM",
                     "props": {
                      "className": "interact-flex-row-right"
                     },
                     "type": "node"
                    }
                   ],
                   "instanceArgs": {
                    "namespace": "html",
                    "tag": "div"
                   },
                   "nodeType": "DOM",
                   "props": {
                    "className": "interact-flex-row interact-widget"
                   },
                   "type": "node"
                  }
                 ],
                 "instanceArgs": {
                  "handlers": {
                   "changes": [
                    "(function (val){return (val!=this.model[\"changes\"]()) ? (this.valueFromJulia[\"changes\"]=true, this.model[\"changes\"](val)) : undefined})"
                   ],
                   "index": [
                    "(function (val){return (val!=this.model[\"index\"]()) ? (this.valueFromJulia[\"index\"]=true, this.model[\"index\"](val)) : undefined})"
                   ]
                  },
                  "id": "11133379032173082782",
                  "imports": {
                   "data": [
                    {
                     "name": "knockout",
                     "type": "js",
                     "url": "/assetserver/727383f2a47bd31570b7da84eee7b022dd6d7c78-knockout.js"
                    },
                    {
                     "name": "knockout_punches",
                     "type": "js",
                     "url": "/assetserver/382b41b3b1bd9f26f75861d360bad7f8beea211f-knockout_punches.js"
                    },
                    {
                     "name": null,
                     "type": "js",
                     "url": "/assetserver/5ab20f1060420992a9b82a65b735dee4d81ef413-all.js"
                    },
                    {
                     "name": null,
                     "type": "css",
                     "url": "/assetserver/1cc0ed62837210b80a182cc3676512f895dab686-style.css"
                    },
                    {
                     "name": null,
                     "type": "css",
                     "url": "/assetserver/2eee816f616df3549d7044d45e744fbf8d42bfa1-bulma_confined.min.css"
                    }
                   ],
                   "type": "async_block"
                  },
                  "mount_callbacks": [
                   "function () {\n    var handler = (function (ko, koPunches) {\n    ko.punches.enableAll();\n    ko.bindingHandlers.numericValue = {\n        init: function(element, valueAccessor, allBindings, data, context) {\n            var stringified = ko.observable(ko.unwrap(valueAccessor()));\n            stringified.subscribe(function(value) {\n                var val = parseFloat(value);\n                if (!isNaN(val)) {\n                    valueAccessor()(val);\n                }\n            });\n            valueAccessor().subscribe(function(value) {\n                var str = JSON.stringify(value);\n                if ((str == \"0\") && ([\"-0\", \"-0.\"].indexOf(stringified()) >= 0))\n                     return;\n                 if ([\"null\", \"\"].indexOf(str) >= 0)\n                     return;\n                stringified(str);\n            });\n            ko.applyBindingsToNode(\n                element,\n                {\n                    value: stringified,\n                    valueUpdate: allBindings.get('valueUpdate'),\n                },\n                context,\n            );\n        }\n    };\n    var json_data = {\"formatted_vals\":[\"0.01\",\"0.02\",\"0.03\",\"0.04\",\"0.05\",\"0.06\",\"0.07\",\"0.08\",\"0.09\",\"0.1\",\"0.11\",\"0.12\",\"0.13\",\"0.14\",\"0.15\",\"0.16\",\"0.17\",\"0.18\",\"0.19\",\"0.2\",\"0.21\",\"0.22\",\"0.23\",\"0.24\",\"0.25\",\"0.26\",\"0.27\",\"0.28\",\"0.29\",\"0.3\",\"0.31\",\"0.32\",\"0.33\",\"0.34\",\"0.35\",\"0.36\",\"0.37\",\"0.38\",\"0.39\",\"0.4\",\"0.41\",\"0.42\",\"0.43\",\"0.44\",\"0.45\",\"0.46\",\"0.47\",\"0.48\",\"0.49\",\"0.5\",\"0.51\",\"0.52\",\"0.53\",\"0.54\",\"0.55\",\"0.56\",\"0.57\",\"0.58\",\"0.59\",\"0.6\",\"0.61\",\"0.62\",\"0.63\",\"0.64\",\"0.65\",\"0.66\",\"0.67\",\"0.68\",\"0.69\",\"0.7\",\"0.71\",\"0.72\",\"0.73\",\"0.74\",\"0.75\",\"0.76\",\"0.77\",\"0.78\",\"0.79\",\"0.8\",\"0.81\",\"0.82\",\"0.83\",\"0.84\",\"0.85\",\"0.86\",\"0.87\",\"0.88\",\"0.89\",\"0.9\",\"0.91\",\"0.92\",\"0.93\",\"0.94\",\"0.95\",\"0.96\",\"0.97\",\"0.98\",\"0.99\",\"1.0\"],\"changes\":WebIO.getval({\"name\":\"changes\",\"scope\":\"11133379032173082782\",\"id\":\"5931897068364222564\",\"type\":\"observable\"}),\"index\":WebIO.getval({\"name\":\"index\",\"scope\":\"11133379032173082782\",\"id\":\"9572246545534945531\",\"type\":\"observable\"})};\n    var self = this;\n    function AppViewModel() {\n        for (var key in json_data) {\n            var el = json_data[key];\n            this[key] = Array.isArray(el) ? ko.observableArray(el) : ko.observable(el);\n        }\n        \n        [this[\"formatted_val\"]=ko.computed(    function(){\n        return this.formatted_vals()[parseInt(this.index())-(1)];\n    }\n,this)]\n        [this[\"changes\"].subscribe((function (val){!(this.valueFromJulia[\"changes\"]) ? (WebIO.setval({\"name\":\"changes\",\"scope\":\"11133379032173082782\",\"id\":\"5931897068364222564\",\"type\":\"observable\"},val)) : undefined; return this.valueFromJulia[\"changes\"]=false}),self),this[\"index\"].subscribe((function (val){!(this.valueFromJulia[\"index\"]) ? (WebIO.setval({\"name\":\"index\",\"scope\":\"11133379032173082782\",\"id\":\"9572246545534945531\",\"type\":\"observable\"},val)) : undefined; return this.valueFromJulia[\"index\"]=false}),self)]\n        \n    }\n    self.model = new AppViewModel();\n    self.valueFromJulia = {};\n    for (var key in json_data) {\n        self.valueFromJulia[key] = false;\n    }\n    ko.applyBindings(self.model, self.dom);\n}\n);\n    (WebIO.importBlock({\"data\":[{\"name\":\"knockout\",\"type\":\"js\",\"url\":\"/assetserver/727383f2a47bd31570b7da84eee7b022dd6d7c78-knockout.js\"},{\"name\":\"knockout_punches\",\"type\":\"js\",\"url\":\"/assetserver/382b41b3b1bd9f26f75861d360bad7f8beea211f-knockout_punches.js\"}],\"type\":\"async_block\"})).then((imports) => handler.apply(this, imports));\n}\n"
                  ],
                  "observables": {
                   "changes": {
                    "id": "5931897068364222564",
                    "sync": false,
                    "value": 0
                   },
                   "index": {
                    "id": "9572246545534945531",
                    "sync": true,
                    "value": 50
                   }
                  },
                  "systemjs_options": null
                 },
                 "nodeType": "Scope",
                 "props": {},
                 "type": "node"
                }
               ],
               "instanceArgs": {
                "namespace": "html",
                "tag": "div"
               },
               "nodeType": "DOM",
               "props": {
                "className": "field interact-widget"
               },
               "type": "node"
              },
              {
               "children": [
                {
                 "children": [
                  {
                   "children": [
                    {
                     "children": [
                      {
                       "children": [
                        "grass_grow_prob"
                       ],
                       "instanceArgs": {
                        "namespace": "html",
                        "tag": "label"
                       },
                       "nodeType": "DOM",
                       "props": {
                        "className": "interact ",
                        "style": {
                         "padding": "5px 10px 0px 10px"
                        }
                       },
                       "type": "node"
                      }
                     ],
                     "instanceArgs": {
                      "namespace": "html",
                      "tag": "div"
                     },
                     "nodeType": "DOM",
                     "props": {
                      "className": "interact-flex-row-left"
                     },
                     "type": "node"
                    },
                    {
                     "children": [
                      {
                       "children": [],
                       "instanceArgs": {
                        "namespace": "html",
                        "tag": "input"
                       },
                       "nodeType": "DOM",
                       "props": {
                        "attributes": {
                         "data-bind": "numericValue: index, valueUpdate: 'input', event: {change: function (){this.changes(this.changes()+1)}}",
                         "orient": "horizontal",
                         "type": "range"
                        },
                        "className": "slider slider is-fullwidth",
                        "max": 50,
                        "min": 1,
                        "step": 1,
                        "style": {}
                       },
                       "type": "node"
                      }
                     ],
                     "instanceArgs": {
                      "namespace": "html",
                      "tag": "div"
                     },
                     "nodeType": "DOM",
                     "props": {
                      "className": "interact-flex-row-center"
                     },
                     "type": "node"
                    },
                    {
                     "children": [
                      {
                       "children": [],
                       "instanceArgs": {
                        "namespace": "html",
                        "tag": "p"
                       },
                       "nodeType": "DOM",
                       "props": {
                        "attributes": {
                         "data-bind": "text: formatted_val"
                        }
                       },
                       "type": "node"
                      }
                     ],
                     "instanceArgs": {
                      "namespace": "html",
                      "tag": "div"
                     },
                     "nodeType": "DOM",
                     "props": {
                      "className": "interact-flex-row-right"
                     },
                     "type": "node"
                    }
                   ],
                   "instanceArgs": {
                    "namespace": "html",
                    "tag": "div"
                   },
                   "nodeType": "DOM",
                   "props": {
                    "className": "interact-flex-row interact-widget"
                   },
                   "type": "node"
                  }
                 ],
                 "instanceArgs": {
                  "handlers": {
                   "changes": [
                    "(function (val){return (val!=this.model[\"changes\"]()) ? (this.valueFromJulia[\"changes\"]=true, this.model[\"changes\"](val)) : undefined})"
                   ],
                   "index": [
                    "(function (val){return (val!=this.model[\"index\"]()) ? (this.valueFromJulia[\"index\"]=true, this.model[\"index\"](val)) : undefined})"
                   ]
                  },
                  "id": "263644731038271837",
                  "imports": {
                   "data": [
                    {
                     "name": "knockout",
                     "type": "js",
                     "url": "/assetserver/727383f2a47bd31570b7da84eee7b022dd6d7c78-knockout.js"
                    },
                    {
                     "name": "knockout_punches",
                     "type": "js",
                     "url": "/assetserver/382b41b3b1bd9f26f75861d360bad7f8beea211f-knockout_punches.js"
                    },
                    {
                     "name": null,
                     "type": "js",
                     "url": "/assetserver/5ab20f1060420992a9b82a65b735dee4d81ef413-all.js"
                    },
                    {
                     "name": null,
                     "type": "css",
                     "url": "/assetserver/1cc0ed62837210b80a182cc3676512f895dab686-style.css"
                    },
                    {
                     "name": null,
                     "type": "css",
                     "url": "/assetserver/2eee816f616df3549d7044d45e744fbf8d42bfa1-bulma_confined.min.css"
                    }
                   ],
                   "type": "async_block"
                  },
                  "mount_callbacks": [
                   "function () {\n    var handler = (function (ko, koPunches) {\n    ko.punches.enableAll();\n    ko.bindingHandlers.numericValue = {\n        init: function(element, valueAccessor, allBindings, data, context) {\n            var stringified = ko.observable(ko.unwrap(valueAccessor()));\n            stringified.subscribe(function(value) {\n                var val = parseFloat(value);\n                if (!isNaN(val)) {\n                    valueAccessor()(val);\n                }\n            });\n            valueAccessor().subscribe(function(value) {\n                var str = JSON.stringify(value);\n                if ((str == \"0\") && ([\"-0\", \"-0.\"].indexOf(stringified()) >= 0))\n                     return;\n                 if ([\"null\", \"\"].indexOf(str) >= 0)\n                     return;\n                stringified(str);\n            });\n            ko.applyBindingsToNode(\n                element,\n                {\n                    value: stringified,\n                    valueUpdate: allBindings.get('valueUpdate'),\n                },\n                context,\n            );\n        }\n    };\n    var json_data = {\"formatted_vals\":[\"0.01\",\"0.02\",\"0.03\",\"0.04\",\"0.05\",\"0.06\",\"0.07\",\"0.08\",\"0.09\",\"0.1\",\"0.11\",\"0.12\",\"0.13\",\"0.14\",\"0.15\",\"0.16\",\"0.17\",\"0.18\",\"0.19\",\"0.2\",\"0.21\",\"0.22\",\"0.23\",\"0.24\",\"0.25\",\"0.26\",\"0.27\",\"0.28\",\"0.29\",\"0.3\",\"0.31\",\"0.32\",\"0.33\",\"0.34\",\"0.35\",\"0.36\",\"0.37\",\"0.38\",\"0.39\",\"0.4\",\"0.41\",\"0.42\",\"0.43\",\"0.44\",\"0.45\",\"0.46\",\"0.47\",\"0.48\",\"0.49\",\"0.5\"],\"changes\":WebIO.getval({\"name\":\"changes\",\"scope\":\"263644731038271837\",\"id\":\"15855702879814363263\",\"type\":\"observable\"}),\"index\":WebIO.getval({\"name\":\"index\",\"scope\":\"263644731038271837\",\"id\":\"14129342717855967576\",\"type\":\"observable\"})};\n    var self = this;\n    function AppViewModel() {\n        for (var key in json_data) {\n            var el = json_data[key];\n            this[key] = Array.isArray(el) ? ko.observableArray(el) : ko.observable(el);\n        }\n        \n        [this[\"formatted_val\"]=ko.computed(    function(){\n        return this.formatted_vals()[parseInt(this.index())-(1)];\n    }\n,this)]\n        [this[\"changes\"].subscribe((function (val){!(this.valueFromJulia[\"changes\"]) ? (WebIO.setval({\"name\":\"changes\",\"scope\":\"263644731038271837\",\"id\":\"15855702879814363263\",\"type\":\"observable\"},val)) : undefined; return this.valueFromJulia[\"changes\"]=false}),self),this[\"index\"].subscribe((function (val){!(this.valueFromJulia[\"index\"]) ? (WebIO.setval({\"name\":\"index\",\"scope\":\"263644731038271837\",\"id\":\"14129342717855967576\",\"type\":\"observable\"},val)) : undefined; return this.valueFromJulia[\"index\"]=false}),self)]\n        \n    }\n    self.model = new AppViewModel();\n    self.valueFromJulia = {};\n    for (var key in json_data) {\n        self.valueFromJulia[key] = false;\n    }\n    ko.applyBindings(self.model, self.dom);\n}\n);\n    (WebIO.importBlock({\"data\":[{\"name\":\"knockout\",\"type\":\"js\",\"url\":\"/assetserver/727383f2a47bd31570b7da84eee7b022dd6d7c78-knockout.js\"},{\"name\":\"knockout_punches\",\"type\":\"js\",\"url\":\"/assetserver/382b41b3b1bd9f26f75861d360bad7f8beea211f-knockout_punches.js\"}],\"type\":\"async_block\"})).then((imports) => handler.apply(this, imports));\n}\n"
                  ],
                  "observables": {
                   "changes": {
                    "id": "15855702879814363263",
                    "sync": false,
                    "value": 0
                   },
                   "index": {
                    "id": "14129342717855967576",
                    "sync": true,
                    "value": 25
                   }
                  },
                  "systemjs_options": null
                 },
                 "nodeType": "Scope",
                 "props": {},
                 "type": "node"
                }
               ],
               "instanceArgs": {
                "namespace": "html",
                "tag": "div"
               },
               "nodeType": "DOM",
               "props": {
                "className": "field interact-widget"
               },
               "type": "node"
              }
             ],
             "instanceArgs": {
              "namespace": "html",
              "tag": "div"
             },
             "nodeType": "DOM",
             "props": {
              "style": {
               "display": "flex",
               "flex-direction": "column"
              }
             },
             "type": "node"
            },
            {
             "children": [
              {
               "children": [
                {
                 "children": [
                  {
                   "children": [],
                   "instanceArgs": {
                    "namespace": "html",
                    "tag": "div"
                   },
                   "nodeType": "DOM",
                   "props": {
                    "id": "container"
                   },
                   "type": "node"
                  }
                 ],
                 "instanceArgs": {
                  "handlers": {
                   "value": [
                    "(function (txt){return this.k.render(txt,this.container)})"
                   ]
                  },
                  "id": "1971325206088893161",
                  "imports": {
                   "data": [
                    {
                     "name": null,
                     "type": "js",
                     "url": "/assetserver/dd22ed1bf1896c2748f3fe616ce0b838adc895c1-katex.min.js"
                    },
                    {
                     "name": null,
                     "type": "css",
                     "url": "/assetserver/46517a424aa5e6cffc1360d7e0848b601c584ee3-katex.min.css"
                    }
                   ],
                   "type": "async_block"
                  },
                  "mount_callbacks": [
                   "function () {\n    var handler = ((function (k){this.k=k; this.container=this.dom.querySelector(\"#container\"); return k.render(\"\\\\;\\\\;\",this.container)}));\n    (WebIO.importBlock({\"data\":[{\"name\":null,\"type\":\"js\",\"url\":\"/assetserver/dd22ed1bf1896c2748f3fe616ce0b838adc895c1-katex.min.js\"},{\"name\":null,\"type\":\"css\",\"url\":\"/assetserver/46517a424aa5e6cffc1360d7e0848b601c584ee3-katex.min.css\"}],\"type\":\"async_block\"})).then((imports) => handler.apply(this, imports));\n}\n"
                  ],
                  "observables": {
                   "value": {
                    "id": "10117169926611714706",
                    "sync": false,
                    "value": "\\;\\;"
                   }
                  },
                  "systemjs_options": null
                 },
                 "nodeType": "Scope",
                 "props": {},
                 "type": "node"
                }
               ],
               "instanceArgs": {
                "namespace": "html",
                "tag": "div"
               },
               "nodeType": "DOM",
               "props": {
                "className": "interact-widget"
               },
               "type": "node"
              },
              {
               "children": [
                {
                 "children": [
                  {
                   "children": [
                    "run"
                   ],
                   "instanceArgs": {
                    "namespace": "html",
                    "tag": "button"
                   },
                   "nodeType": "DOM",
                   "props": {
                    "attributes": {
                     "data-bind": "click: function (){this.clicks(this.clicks()+1)}, css: {'is-loading' : loading}"
                    },
                    "className": "is-medium button is-primary",
                    "style": {}
                   },
                   "type": "node"
                  }
                 ],
                 "instanceArgs": {
                  "handlers": {
                   "clicks": [
                    "(function (val){return (val!=this.model[\"clicks\"]()) ? (this.valueFromJulia[\"clicks\"]=true, this.model[\"clicks\"](val)) : undefined})"
                   ],
                   "loading": [
                    "(function (val){return (val!=this.model[\"loading\"]()) ? (this.valueFromJulia[\"loading\"]=true, this.model[\"loading\"](val)) : undefined})"
                   ]
                  },
                  "id": "8701165738090376689",
                  "imports": {
                   "data": [
                    {
                     "name": "knockout",
                     "type": "js",
                     "url": "/assetserver/727383f2a47bd31570b7da84eee7b022dd6d7c78-knockout.js"
                    },
                    {
                     "name": "knockout_punches",
                     "type": "js",
                     "url": "/assetserver/382b41b3b1bd9f26f75861d360bad7f8beea211f-knockout_punches.js"
                    },
                    {
                     "name": null,
                     "type": "js",
                     "url": "/assetserver/5ab20f1060420992a9b82a65b735dee4d81ef413-all.js"
                    },
                    {
                     "name": null,
                     "type": "css",
                     "url": "/assetserver/1cc0ed62837210b80a182cc3676512f895dab686-style.css"
                    },
                    {
                     "name": null,
                     "type": "css",
                     "url": "/assetserver/2eee816f616df3549d7044d45e744fbf8d42bfa1-bulma_confined.min.css"
                    }
                   ],
                   "type": "async_block"
                  },
                  "mount_callbacks": [
                   "function () {\n    var handler = (function (ko, koPunches) {\n    ko.punches.enableAll();\n    ko.bindingHandlers.numericValue = {\n        init: function(element, valueAccessor, allBindings, data, context) {\n            var stringified = ko.observable(ko.unwrap(valueAccessor()));\n            stringified.subscribe(function(value) {\n                var val = parseFloat(value);\n                if (!isNaN(val)) {\n                    valueAccessor()(val);\n                }\n            });\n            valueAccessor().subscribe(function(value) {\n                var str = JSON.stringify(value);\n                if ((str == \"0\") && ([\"-0\", \"-0.\"].indexOf(stringified()) >= 0))\n                     return;\n                 if ([\"null\", \"\"].indexOf(str) >= 0)\n                     return;\n                stringified(str);\n            });\n            ko.applyBindingsToNode(\n                element,\n                {\n                    value: stringified,\n                    valueUpdate: allBindings.get('valueUpdate'),\n                },\n                context,\n            );\n        }\n    };\n    var json_data = {\"loading\":WebIO.getval({\"name\":\"loading\",\"scope\":\"8701165738090376689\",\"id\":\"6332379702002335304\",\"type\":\"observable\"}),\"clicks\":WebIO.getval({\"name\":\"clicks\",\"scope\":\"8701165738090376689\",\"id\":\"16830195446793079458\",\"type\":\"observable\"})};\n    var self = this;\n    function AppViewModel() {\n        for (var key in json_data) {\n            var el = json_data[key];\n            this[key] = Array.isArray(el) ? ko.observableArray(el) : ko.observable(el);\n        }\n        \n        \n        [this[\"loading\"].subscribe((function (val){!(this.valueFromJulia[\"loading\"]) ? (WebIO.setval({\"name\":\"loading\",\"scope\":\"8701165738090376689\",\"id\":\"6332379702002335304\",\"type\":\"observable\"},val)) : undefined; return this.valueFromJulia[\"loading\"]=false}),self),this[\"clicks\"].subscribe((function (val){!(this.valueFromJulia[\"clicks\"]) ? (WebIO.setval({\"name\":\"clicks\",\"scope\":\"8701165738090376689\",\"id\":\"16830195446793079458\",\"type\":\"observable\"},val)) : undefined; return this.valueFromJulia[\"clicks\"]=false}),self)]\n        \n    }\n    self.model = new AppViewModel();\n    self.valueFromJulia = {};\n    for (var key in json_data) {\n        self.valueFromJulia[key] = false;\n    }\n    ko.applyBindings(self.model, self.dom);\n}\n);\n    (WebIO.importBlock({\"data\":[{\"name\":\"knockout\",\"type\":\"js\",\"url\":\"/assetserver/727383f2a47bd31570b7da84eee7b022dd6d7c78-knockout.js\"},{\"name\":\"knockout_punches\",\"type\":\"js\",\"url\":\"/assetserver/382b41b3b1bd9f26f75861d360bad7f8beea211f-knockout_punches.js\"}],\"type\":\"async_block\"})).then((imports) => handler.apply(this, imports));\n}\n"
                  ],
                  "observables": {
                   "clicks": {
                    "id": "16830195446793079458",
                    "sync": true,
                    "value": 0
                   },
                   "loading": {
                    "id": "6332379702002335304",
                    "sync": false,
                    "value": false
                   }
                  },
                  "systemjs_options": null
                 },
                 "nodeType": "Scope",
                 "props": {},
                 "type": "node"
                }
               ],
               "instanceArgs": {
                "namespace": "html",
                "tag": "div"
               },
               "nodeType": "DOM",
               "props": {
                "className": "field interact-widget"
               },
               "type": "node"
              },
              {
               "children": [
                {
                 "children": [
                  {
                   "children": [],
                   "instanceArgs": {
                    "namespace": "html",
                    "tag": "div"
                   },
                   "nodeType": "DOM",
                   "props": {
                    "id": "container"
                   },
                   "type": "node"
                  }
                 ],
                 "instanceArgs": {
                  "handlers": {
                   "value": [
                    "(function (txt){return this.k.render(txt,this.container)})"
                   ]
                  },
                  "id": "1971325206088893161",
                  "imports": {
                   "data": [
                    {
                     "name": null,
                     "type": "js",
                     "url": "/assetserver/dd22ed1bf1896c2748f3fe616ce0b838adc895c1-katex.min.js"
                    },
                    {
                     "name": null,
                     "type": "css",
                     "url": "/assetserver/46517a424aa5e6cffc1360d7e0848b601c584ee3-katex.min.css"
                    }
                   ],
                   "type": "async_block"
                  },
                  "mount_callbacks": [
                   "function () {\n    var handler = ((function (k){this.k=k; this.container=this.dom.querySelector(\"#container\"); return k.render(\"\\\\;\\\\;\",this.container)}));\n    (WebIO.importBlock({\"data\":[{\"name\":null,\"type\":\"js\",\"url\":\"/assetserver/dd22ed1bf1896c2748f3fe616ce0b838adc895c1-katex.min.js\"},{\"name\":null,\"type\":\"css\",\"url\":\"/assetserver/46517a424aa5e6cffc1360d7e0848b601c584ee3-katex.min.css\"}],\"type\":\"async_block\"})).then((imports) => handler.apply(this, imports));\n}\n"
                  ],
                  "observables": {
                   "value": {
                    "id": "10117169926611714706",
                    "sync": false,
                    "value": "\\;\\;"
                   }
                  },
                  "systemjs_options": null
                 },
                 "nodeType": "Scope",
                 "props": {},
                 "type": "node"
                }
               ],
               "instanceArgs": {
                "namespace": "html",
                "tag": "div"
               },
               "nodeType": "DOM",
               "props": {
                "className": "interact-widget"
               },
               "type": "node"
              },
              {
               "children": [
                {
                 "children": [
                  {
                   "children": [
                    "stop"
                   ],
                   "instanceArgs": {
                    "namespace": "html",
                    "tag": "button"
                   },
                   "nodeType": "DOM",
                   "props": {
                    "attributes": {
                     "data-bind": "click: function (){this.clicks(this.clicks()+1)}, css: {'is-loading' : loading}"
                    },
                    "className": "is-medium button is-primary",
                    "style": {}
                   },
                   "type": "node"
                  }
                 ],
                 "instanceArgs": {
                  "handlers": {
                   "clicks": [
                    "(function (val){return (val!=this.model[\"clicks\"]()) ? (this.valueFromJulia[\"clicks\"]=true, this.model[\"clicks\"](val)) : undefined})"
                   ],
                   "loading": [
                    "(function (val){return (val!=this.model[\"loading\"]()) ? (this.valueFromJulia[\"loading\"]=true, this.model[\"loading\"](val)) : undefined})"
                   ]
                  },
                  "id": "6791602698063755910",
                  "imports": {
                   "data": [
                    {
                     "name": "knockout",
                     "type": "js",
                     "url": "/assetserver/727383f2a47bd31570b7da84eee7b022dd6d7c78-knockout.js"
                    },
                    {
                     "name": "knockout_punches",
                     "type": "js",
                     "url": "/assetserver/382b41b3b1bd9f26f75861d360bad7f8beea211f-knockout_punches.js"
                    },
                    {
                     "name": null,
                     "type": "js",
                     "url": "/assetserver/5ab20f1060420992a9b82a65b735dee4d81ef413-all.js"
                    },
                    {
                     "name": null,
                     "type": "css",
                     "url": "/assetserver/1cc0ed62837210b80a182cc3676512f895dab686-style.css"
                    },
                    {
                     "name": null,
                     "type": "css",
                     "url": "/assetserver/2eee816f616df3549d7044d45e744fbf8d42bfa1-bulma_confined.min.css"
                    }
                   ],
                   "type": "async_block"
                  },
                  "mount_callbacks": [
                   "function () {\n    var handler = (function (ko, koPunches) {\n    ko.punches.enableAll();\n    ko.bindingHandlers.numericValue = {\n        init: function(element, valueAccessor, allBindings, data, context) {\n            var stringified = ko.observable(ko.unwrap(valueAccessor()));\n            stringified.subscribe(function(value) {\n                var val = parseFloat(value);\n                if (!isNaN(val)) {\n                    valueAccessor()(val);\n                }\n            });\n            valueAccessor().subscribe(function(value) {\n                var str = JSON.stringify(value);\n                if ((str == \"0\") && ([\"-0\", \"-0.\"].indexOf(stringified()) >= 0))\n                     return;\n                 if ([\"null\", \"\"].indexOf(str) >= 0)\n                     return;\n                stringified(str);\n            });\n            ko.applyBindingsToNode(\n                element,\n                {\n                    value: stringified,\n                    valueUpdate: allBindings.get('valueUpdate'),\n                },\n                context,\n            );\n        }\n    };\n    var json_data = {\"loading\":WebIO.getval({\"name\":\"loading\",\"scope\":\"6791602698063755910\",\"id\":\"17837286398174282232\",\"type\":\"observable\"}),\"clicks\":WebIO.getval({\"name\":\"clicks\",\"scope\":\"6791602698063755910\",\"id\":\"5219247083923321911\",\"type\":\"observable\"})};\n    var self = this;\n    function AppViewModel() {\n        for (var key in json_data) {\n            var el = json_data[key];\n            this[key] = Array.isArray(el) ? ko.observableArray(el) : ko.observable(el);\n        }\n        \n        \n        [this[\"loading\"].subscribe((function (val){!(this.valueFromJulia[\"loading\"]) ? (WebIO.setval({\"name\":\"loading\",\"scope\":\"6791602698063755910\",\"id\":\"17837286398174282232\",\"type\":\"observable\"},val)) : undefined; return this.valueFromJulia[\"loading\"]=false}),self),this[\"clicks\"].subscribe((function (val){!(this.valueFromJulia[\"clicks\"]) ? (WebIO.setval({\"name\":\"clicks\",\"scope\":\"6791602698063755910\",\"id\":\"5219247083923321911\",\"type\":\"observable\"},val)) : undefined; return this.valueFromJulia[\"clicks\"]=false}),self)]\n        \n    }\n    self.model = new AppViewModel();\n    self.valueFromJulia = {};\n    for (var key in json_data) {\n        self.valueFromJulia[key] = false;\n    }\n    ko.applyBindings(self.model, self.dom);\n}\n);\n    (WebIO.importBlock({\"data\":[{\"name\":\"knockout\",\"type\":\"js\",\"url\":\"/assetserver/727383f2a47bd31570b7da84eee7b022dd6d7c78-knockout.js\"},{\"name\":\"knockout_punches\",\"type\":\"js\",\"url\":\"/assetserver/382b41b3b1bd9f26f75861d360bad7f8beea211f-knockout_punches.js\"}],\"type\":\"async_block\"})).then((imports) => handler.apply(this, imports));\n}\n"
                  ],
                  "observables": {
                   "clicks": {
                    "id": "5219247083923321911",
                    "sync": true,
                    "value": 0
                   },
                   "loading": {
                    "id": "17837286398174282232",
                    "sync": false,
                    "value": false
                   }
                  },
                  "systemjs_options": null
                 },
                 "nodeType": "Scope",
                 "props": {},
                 "type": "node"
                }
               ],
               "instanceArgs": {
                "namespace": "html",
                "tag": "div"
               },
               "nodeType": "DOM",
               "props": {
                "className": "field interact-widget"
               },
               "type": "node"
              },
              {
               "children": [
                {
                 "children": [
                  {
                   "children": [],
                   "instanceArgs": {
                    "namespace": "html",
                    "tag": "div"
                   },
                   "nodeType": "DOM",
                   "props": {
                    "id": "container"
                   },
                   "type": "node"
                  }
                 ],
                 "instanceArgs": {
                  "handlers": {
                   "value": [
                    "(function (txt){return this.k.render(txt,this.container)})"
                   ]
                  },
                  "id": "1971325206088893161",
                  "imports": {
                   "data": [
                    {
                     "name": null,
                     "type": "js",
                     "url": "/assetserver/dd22ed1bf1896c2748f3fe616ce0b838adc895c1-katex.min.js"
                    },
                    {
                     "name": null,
                     "type": "css",
                     "url": "/assetserver/46517a424aa5e6cffc1360d7e0848b601c584ee3-katex.min.css"
                    }
                   ],
                   "type": "async_block"
                  },
                  "mount_callbacks": [
                   "function () {\n    var handler = ((function (k){this.k=k; this.container=this.dom.querySelector(\"#container\"); return k.render(\"\\\\;\\\\;\",this.container)}));\n    (WebIO.importBlock({\"data\":[{\"name\":null,\"type\":\"js\",\"url\":\"/assetserver/dd22ed1bf1896c2748f3fe616ce0b838adc895c1-katex.min.js\"},{\"name\":null,\"type\":\"css\",\"url\":\"/assetserver/46517a424aa5e6cffc1360d7e0848b601c584ee3-katex.min.css\"}],\"type\":\"async_block\"})).then((imports) => handler.apply(this, imports));\n}\n"
                  ],
                  "observables": {
                   "value": {
                    "id": "10117169926611714706",
                    "sync": false,
                    "value": "\\;\\;"
                   }
                  },
                  "systemjs_options": null
                 },
                 "nodeType": "Scope",
                 "props": {},
                 "type": "node"
                }
               ],
               "instanceArgs": {
                "namespace": "html",
                "tag": "div"
               },
               "nodeType": "DOM",
               "props": {
                "className": "interact-widget"
               },
               "type": "node"
              },
              {
               "children": [
                {
                 "children": [
                  {
                   "children": [
                    "reset"
                   ],
                   "instanceArgs": {
                    "namespace": "html",
                    "tag": "button"
                   },
                   "nodeType": "DOM",
                   "props": {
                    "attributes": {
                     "data-bind": "click: function (){this.clicks(this.clicks()+1)}, css: {'is-loading' : loading}"
                    },
                    "className": "is-medium button is-primary",
                    "style": {}
                   },
                   "type": "node"
                  }
                 ],
                 "instanceArgs": {
                  "handlers": {
                   "clicks": [
                    "(function (val){return (val!=this.model[\"clicks\"]()) ? (this.valueFromJulia[\"clicks\"]=true, this.model[\"clicks\"](val)) : undefined})"
                   ],
                   "loading": [
                    "(function (val){return (val!=this.model[\"loading\"]()) ? (this.valueFromJulia[\"loading\"]=true, this.model[\"loading\"](val)) : undefined})"
                   ]
                  },
                  "id": "7646059207613493820",
                  "imports": {
                   "data": [
                    {
                     "name": "knockout",
                     "type": "js",
                     "url": "/assetserver/727383f2a47bd31570b7da84eee7b022dd6d7c78-knockout.js"
                    },
                    {
                     "name": "knockout_punches",
                     "type": "js",
                     "url": "/assetserver/382b41b3b1bd9f26f75861d360bad7f8beea211f-knockout_punches.js"
                    },
                    {
                     "name": null,
                     "type": "js",
                     "url": "/assetserver/5ab20f1060420992a9b82a65b735dee4d81ef413-all.js"
                    },
                    {
                     "name": null,
                     "type": "css",
                     "url": "/assetserver/1cc0ed62837210b80a182cc3676512f895dab686-style.css"
                    },
                    {
                     "name": null,
                     "type": "css",
                     "url": "/assetserver/2eee816f616df3549d7044d45e744fbf8d42bfa1-bulma_confined.min.css"
                    }
                   ],
                   "type": "async_block"
                  },
                  "mount_callbacks": [
                   "function () {\n    var handler = (function (ko, koPunches) {\n    ko.punches.enableAll();\n    ko.bindingHandlers.numericValue = {\n        init: function(element, valueAccessor, allBindings, data, context) {\n            var stringified = ko.observable(ko.unwrap(valueAccessor()));\n            stringified.subscribe(function(value) {\n                var val = parseFloat(value);\n                if (!isNaN(val)) {\n                    valueAccessor()(val);\n                }\n            });\n            valueAccessor().subscribe(function(value) {\n                var str = JSON.stringify(value);\n                if ((str == \"0\") && ([\"-0\", \"-0.\"].indexOf(stringified()) >= 0))\n                     return;\n                 if ([\"null\", \"\"].indexOf(str) >= 0)\n                     return;\n                stringified(str);\n            });\n            ko.applyBindingsToNode(\n                element,\n                {\n                    value: stringified,\n                    valueUpdate: allBindings.get('valueUpdate'),\n                },\n                context,\n            );\n        }\n    };\n    var json_data = {\"loading\":WebIO.getval({\"name\":\"loading\",\"scope\":\"7646059207613493820\",\"id\":\"4541641570840055789\",\"type\":\"observable\"}),\"clicks\":WebIO.getval({\"name\":\"clicks\",\"scope\":\"7646059207613493820\",\"id\":\"1079128400140210872\",\"type\":\"observable\"})};\n    var self = this;\n    function AppViewModel() {\n        for (var key in json_data) {\n            var el = json_data[key];\n            this[key] = Array.isArray(el) ? ko.observableArray(el) : ko.observable(el);\n        }\n        \n        \n        [this[\"loading\"].subscribe((function (val){!(this.valueFromJulia[\"loading\"]) ? (WebIO.setval({\"name\":\"loading\",\"scope\":\"7646059207613493820\",\"id\":\"4541641570840055789\",\"type\":\"observable\"},val)) : undefined; return this.valueFromJulia[\"loading\"]=false}),self),this[\"clicks\"].subscribe((function (val){!(this.valueFromJulia[\"clicks\"]) ? (WebIO.setval({\"name\":\"clicks\",\"scope\":\"7646059207613493820\",\"id\":\"1079128400140210872\",\"type\":\"observable\"},val)) : undefined; return this.valueFromJulia[\"clicks\"]=false}),self)]\n        \n    }\n    self.model = new AppViewModel();\n    self.valueFromJulia = {};\n    for (var key in json_data) {\n        self.valueFromJulia[key] = false;\n    }\n    ko.applyBindings(self.model, self.dom);\n}\n);\n    (WebIO.importBlock({\"data\":[{\"name\":\"knockout\",\"type\":\"js\",\"url\":\"/assetserver/727383f2a47bd31570b7da84eee7b022dd6d7c78-knockout.js\"},{\"name\":\"knockout_punches\",\"type\":\"js\",\"url\":\"/assetserver/382b41b3b1bd9f26f75861d360bad7f8beea211f-knockout_punches.js\"}],\"type\":\"async_block\"})).then((imports) => handler.apply(this, imports));\n}\n"
                  ],
                  "observables": {
                   "clicks": {
                    "id": "1079128400140210872",
                    "sync": true,
                    "value": 0
                   },
                   "loading": {
                    "id": "4541641570840055789",
                    "sync": false,
                    "value": false
                   }
                  },
                  "systemjs_options": null
                 },
                 "nodeType": "Scope",
                 "props": {},
                 "type": "node"
                }
               ],
               "instanceArgs": {
                "namespace": "html",
                "tag": "div"
               },
               "nodeType": "DOM",
               "props": {
                "className": "field interact-widget"
               },
               "type": "node"
              },
              {
               "children": [
                {
                 "children": [
                  {
                   "children": [],
                   "instanceArgs": {
                    "namespace": "html",
                    "tag": "div"
                   },
                   "nodeType": "DOM",
                   "props": {
                    "id": "container"
                   },
                   "type": "node"
                  }
                 ],
                 "instanceArgs": {
                  "handlers": {
                   "value": [
                    "(function (txt){return this.k.render(txt,this.container)})"
                   ]
                  },
                  "id": "1971325206088893161",
                  "imports": {
                   "data": [
                    {
                     "name": null,
                     "type": "js",
                     "url": "/assetserver/dd22ed1bf1896c2748f3fe616ce0b838adc895c1-katex.min.js"
                    },
                    {
                     "name": null,
                     "type": "css",
                     "url": "/assetserver/46517a424aa5e6cffc1360d7e0848b601c584ee3-katex.min.css"
                    }
                   ],
                   "type": "async_block"
                  },
                  "mount_callbacks": [
                   "function () {\n    var handler = ((function (k){this.k=k; this.container=this.dom.querySelector(\"#container\"); return k.render(\"\\\\;\\\\;\",this.container)}));\n    (WebIO.importBlock({\"data\":[{\"name\":null,\"type\":\"js\",\"url\":\"/assetserver/dd22ed1bf1896c2748f3fe616ce0b838adc895c1-katex.min.js\"},{\"name\":null,\"type\":\"css\",\"url\":\"/assetserver/46517a424aa5e6cffc1360d7e0848b601c584ee3-katex.min.css\"}],\"type\":\"async_block\"})).then((imports) => handler.apply(this, imports));\n}\n"
                  ],
                  "observables": {
                   "value": {
                    "id": "10117169926611714706",
                    "sync": false,
                    "value": "\\;\\;"
                   }
                  },
                  "systemjs_options": null
                 },
                 "nodeType": "Scope",
                 "props": {},
                 "type": "node"
                }
               ],
               "instanceArgs": {
                "namespace": "html",
                "tag": "div"
               },
               "nodeType": "DOM",
               "props": {
                "className": "interact-widget"
               },
               "type": "node"
              },
              {
               "children": [
                {
                 "children": [
                  {
                   "children": [
                    "save"
                   ],
                   "instanceArgs": {
                    "namespace": "html",
                    "tag": "button"
                   },
                   "nodeType": "DOM",
                   "props": {
                    "attributes": {
                     "data-bind": "click: function (){this.clicks(this.clicks()+1)}, css: {'is-loading' : loading}"
                    },
                    "className": "is-medium button is-primary",
                    "style": {}
                   },
                   "type": "node"
                  }
                 ],
                 "instanceArgs": {
                  "handlers": {
                   "clicks": [
                    "(function (val){return (val!=this.model[\"clicks\"]()) ? (this.valueFromJulia[\"clicks\"]=true, this.model[\"clicks\"](val)) : undefined})"
                   ],
                   "loading": [
                    "(function (val){return (val!=this.model[\"loading\"]()) ? (this.valueFromJulia[\"loading\"]=true, this.model[\"loading\"](val)) : undefined})"
                   ]
                  },
                  "id": "3382160687278584483",
                  "imports": {
                   "data": [
                    {
                     "name": "knockout",
                     "type": "js",
                     "url": "/assetserver/727383f2a47bd31570b7da84eee7b022dd6d7c78-knockout.js"
                    },
                    {
                     "name": "knockout_punches",
                     "type": "js",
                     "url": "/assetserver/382b41b3b1bd9f26f75861d360bad7f8beea211f-knockout_punches.js"
                    },
                    {
                     "name": null,
                     "type": "js",
                     "url": "/assetserver/5ab20f1060420992a9b82a65b735dee4d81ef413-all.js"
                    },
                    {
                     "name": null,
                     "type": "css",
                     "url": "/assetserver/1cc0ed62837210b80a182cc3676512f895dab686-style.css"
                    },
                    {
                     "name": null,
                     "type": "css",
                     "url": "/assetserver/2eee816f616df3549d7044d45e744fbf8d42bfa1-bulma_confined.min.css"
                    }
                   ],
                   "type": "async_block"
                  },
                  "mount_callbacks": [
                   "function () {\n    var handler = (function (ko, koPunches) {\n    ko.punches.enableAll();\n    ko.bindingHandlers.numericValue = {\n        init: function(element, valueAccessor, allBindings, data, context) {\n            var stringified = ko.observable(ko.unwrap(valueAccessor()));\n            stringified.subscribe(function(value) {\n                var val = parseFloat(value);\n                if (!isNaN(val)) {\n                    valueAccessor()(val);\n                }\n            });\n            valueAccessor().subscribe(function(value) {\n                var str = JSON.stringify(value);\n                if ((str == \"0\") && ([\"-0\", \"-0.\"].indexOf(stringified()) >= 0))\n                     return;\n                 if ([\"null\", \"\"].indexOf(str) >= 0)\n                     return;\n                stringified(str);\n            });\n            ko.applyBindingsToNode(\n                element,\n                {\n                    value: stringified,\n                    valueUpdate: allBindings.get('valueUpdate'),\n                },\n                context,\n            );\n        }\n    };\n    var json_data = {\"loading\":WebIO.getval({\"name\":\"loading\",\"scope\":\"3382160687278584483\",\"id\":\"17649001871565514085\",\"type\":\"observable\"}),\"clicks\":WebIO.getval({\"name\":\"clicks\",\"scope\":\"3382160687278584483\",\"id\":\"7908730948519011581\",\"type\":\"observable\"})};\n    var self = this;\n    function AppViewModel() {\n        for (var key in json_data) {\n            var el = json_data[key];\n            this[key] = Array.isArray(el) ? ko.observableArray(el) : ko.observable(el);\n        }\n        \n        \n        [this[\"loading\"].subscribe((function (val){!(this.valueFromJulia[\"loading\"]) ? (WebIO.setval({\"name\":\"loading\",\"scope\":\"3382160687278584483\",\"id\":\"17649001871565514085\",\"type\":\"observable\"},val)) : undefined; return this.valueFromJulia[\"loading\"]=false}),self),this[\"clicks\"].subscribe((function (val){!(this.valueFromJulia[\"clicks\"]) ? (WebIO.setval({\"name\":\"clicks\",\"scope\":\"3382160687278584483\",\"id\":\"7908730948519011581\",\"type\":\"observable\"},val)) : undefined; return this.valueFromJulia[\"clicks\"]=false}),self)]\n        \n    }\n    self.model = new AppViewModel();\n    self.valueFromJulia = {};\n    for (var key in json_data) {\n        self.valueFromJulia[key] = false;\n    }\n    ko.applyBindings(self.model, self.dom);\n}\n);\n    (WebIO.importBlock({\"data\":[{\"name\":\"knockout\",\"type\":\"js\",\"url\":\"/assetserver/727383f2a47bd31570b7da84eee7b022dd6d7c78-knockout.js\"},{\"name\":\"knockout_punches\",\"type\":\"js\",\"url\":\"/assetserver/382b41b3b1bd9f26f75861d360bad7f8beea211f-knockout_punches.js\"}],\"type\":\"async_block\"})).then((imports) => handler.apply(this, imports));\n}\n"
                  ],
                  "observables": {
                   "clicks": {
                    "id": "7908730948519011581",
                    "sync": true,
                    "value": 0
                   },
                   "loading": {
                    "id": "17649001871565514085",
                    "sync": false,
                    "value": false
                   }
                  },
                  "systemjs_options": null
                 },
                 "nodeType": "Scope",
                 "props": {},
                 "type": "node"
                }
               ],
               "instanceArgs": {
                "namespace": "html",
                "tag": "div"
               },
               "nodeType": "DOM",
               "props": {
                "className": "field interact-widget"
               },
               "type": "node"
              }
             ],
             "instanceArgs": {
              "namespace": "html",
              "tag": "div"
             },
             "nodeType": "DOM",
             "props": {
              "style": {
               "display": "flex",
               "flex-direction": "row"
              }
             },
             "type": "node"
            }
           ],
           "instanceArgs": {
            "namespace": "html",
            "tag": "div"
           },
           "nodeType": "DOM",
           "props": {
            "style": {
             "display": "flex",
             "flex-direction": "column"
            }
           },
           "type": "node"
          },
          {
           "children": [
            {
             "children": [
              {
               "children": [],
               "instanceArgs": {
                "namespace": "html",
                "tag": "div"
               },
               "nodeType": "DOM",
               "props": {
                "id": "container"
               },
               "type": "node"
              }
             ],
             "instanceArgs": {
              "handlers": {
               "value": [
                "(function (txt){return this.k.render(txt,this.container)})"
               ]
              },
              "id": "1971325206088893161",
              "imports": {
               "data": [
                {
                 "name": null,
                 "type": "js",
                 "url": "/assetserver/dd22ed1bf1896c2748f3fe616ce0b838adc895c1-katex.min.js"
                },
                {
                 "name": null,
                 "type": "css",
                 "url": "/assetserver/46517a424aa5e6cffc1360d7e0848b601c584ee3-katex.min.css"
                }
               ],
               "type": "async_block"
              },
              "mount_callbacks": [
               "function () {\n    var handler = ((function (k){this.k=k; this.container=this.dom.querySelector(\"#container\"); return k.render(\"\\\\;\\\\;\",this.container)}));\n    (WebIO.importBlock({\"data\":[{\"name\":null,\"type\":\"js\",\"url\":\"/assetserver/dd22ed1bf1896c2748f3fe616ce0b838adc895c1-katex.min.js\"},{\"name\":null,\"type\":\"css\",\"url\":\"/assetserver/46517a424aa5e6cffc1360d7e0848b601c584ee3-katex.min.css\"}],\"type\":\"async_block\"})).then((imports) => handler.apply(this, imports));\n}\n"
              ],
              "observables": {
               "value": {
                "id": "10117169926611714706",
                "sync": false,
                "value": "\\;\\;"
               }
              },
              "systemjs_options": null
             },
             "nodeType": "Scope",
             "props": {},
             "type": "node"
            }
           ],
           "instanceArgs": {
            "namespace": "html",
            "tag": "div"
           },
           "nodeType": "DOM",
           "props": {
            "className": "interact-widget"
           },
           "type": "node"
          },
          {
           "children": [
            {
             "children": [],
             "instanceArgs": {
              "namespace": "html",
              "tag": "div"
             },
             "nodeType": "DOM",
             "props": {
              "className": "webio-observable",
              "setInnerHtml": "<img src='data:image/png;base64,iVBORw0KGgoAAAANSUhEUgAAAa4AAAGuCAIAAABHl3XNAAAABmJLR0QA/wD/AP+gvaeTAAAgAElEQVR4nO3dz28cZ37n8U+3GoYtUlrBlzk4u7SNJjIzFgznkAmlEZzE5uqwASaAEA9AgKI6JIfiMchp8xckpyBHUdP00CIBLaLA++OwwQ6cyDaoUNkcYjhyxgsT0ihBDnNxPCSbMoRWdw4Uua24q7q6v6z61lP1fh279NVT9TxPfVmiuvtT6Xa7AoByq3qfAAD4oxUCAK0QAGiFACBaIQCIVggAohUCgGiFACBaIQCIVggAohUCgGiFACBaIQCIVggAkmpD/ek/++TPPjnzyQjDvPHVG5KopZZaajOr/YM3/iD5nx+uFX5y5pP3Xn5vyFOSJP1ckqilllpqs6xNjn8gAwCtEABohQAg31ZYVbWp5q52u+p21d3VblPNarJTqnaqzc3m7t5h7d5uc7NZ7SSqrajSUGNLW/va39f+lrYaalRUsV1NgnM2XK/pnLvSmnROOimdlM5JaxKRNsfNa4289nPBDPffJsc6cG1b2xOaOHplXOMLWpjWdF31ttpxte3a9i+2Jy701I6PL1xYmP6X6fq36u1aXG1V1Q1tzGjm6JUpTU1p6qIuzmq2o47hmuJYrtd0zh1pVrrZ88pd6a70U2mDfxUcG6818trPxeN2K6xqtbcvHJnQxKpWB9TeXZ14qV/tSxOrdwfUzmu+d98cmdHMvObjay0s12s653efvceO3JTeHVCK5LzWyGs/F49bK7ykSyMcevoHfi26NvrQgUUtjnDIznK9pnNujnQIQ/JaI6/9XDxurXBc41GHxjQ2oHYsuvbkgNqzOht16DW9Fl9rYble0znfiz702YBSJOe1Rl77uXjcWmHX8Ht7S4x9zLiWU7KMa6kd/NfG/PacX6wfH6818trPxePWCltqjXDo6R/Yj65tDaj9LPrnbMwhO8v1ms455smAh4bj47VGXvu5eNxa4S3dGuHQ0z/w99G1nwyova7rUYd+rB/H11pYrtd0zkvRh340oBTJea2R134uHrdWuKSlB3rwzdfv6/5S3NaQpKWppQf/3K/2n+4vTQ2oXdPahja++fq61te0Fl9rYble0zk3pNl+r1+WGgNKkZzXGnnt5+Jxa4Vtteuqr2hlRzsHr+xoZ0Urk5qMf5OdpHatXX+pvvLxys7uYe3uzsrHK5O/Mhn/pkJJHXXmNDenuU1tttRqqbWpzTnNXdGVVN+EZble0zlXpRvSDemCNCaNSRekG9J7vKnwOHmtkdd+Lh63t1hL6qizrOVlLY9SW+0sv9lTe0p6M2ltV911ra9rfYRxLSzXazrninRZujxKKZLzWiOv/VwwPBgAAK0QAGiFAKBhf1f4xldvDPvdsP+/UEN/ryy11FJLrak2MZ4KAYBsE2qppba4tcnxVAgAtEIAoBUCgI6hFVpyM7xqy4a5yoQlu8aLWy5K/u592wfvLLkZXrVlw1xlwpJd48UtFyWX977tVrDkZnjVlg1zlQlLdo0Xt1yUXN77tlZoyc3wqi0b5ioTluwaL265KLm8922t0JKb4VVbNsxVJizZNV7cclFyee/bWqElN8OrtmyYq0yEGCTilouSy3vf1gotuRletWXDXGXCkl3jxS0XJZf3vq0VWnIzvGrLhrnKhCW7xotbLkou731bK2wYcjO8asumwVxlwZJd48UtF6WRx3vf1gotuRletWXDXGXCkl3jxS0XJZf3vjnbxJKb4VVbNsxVJizZNV7cclHyd+/zYAAAtEIAoBUCgMg2oZZaaotcmxhPhQBAtgm11FJb3NrkeCoEAFohANAKAUD2VuiV52DJZAgxg4J8kmwEuTcMvLJN3DJVopk+eOeV52DJZAgxg4J8kmwEuTcMvLJN3DJVBpyVgVeegyWTIcQMCvJJshHk3jDwyjZxy1SJZWqFXnkOlkyGEDMoyCfJRpB7w8Ar28QtUyWWqRV65TlYMhlCzKAgnyQbQe4NA69sE7dMlVimVuiV52DJZAgxg4J8kmwEuTcMvLJN3DJVYplaoVeegyWTIcQMCvJJshHk3jDwyjZxy1SJZWqFXnkOlkyGEDMoyCfJRpB7w8Ar28QtUyWWqRV65TlYMhlCzKAgnyQbQe4NA69sE7dMlVimVuiV52DJZAgxg4J8kmwEuTcMvLJN3DJVYlmzTbzyHCyZDCFmUJBPko0g94aBV7aJW6ZKNB4qAIBWCAC0QgAQ2SbUUkttkWsT46kQAMg2oZZaaotbmxxPhQBAKwQAWiEAyN4Kc5hRMJghJ8SSfUGOxBDKluXidL1ly3KJYfrgXT4zCgYw5IRYsi/IkRhC2bJcnK63bFku8UzTnM+MggEMOSGW7AtyJIZQtiwXp+stW5ZLPFMrzGdGwQCGnBBL9gU5EkMoW5aL0/WWLcslnqkV5jOjYABDTogl+4IciSGULcvF6XrLluUSL61sk/zGRBhyQiwXRY7EEMqW5eJ0vfndAB5MrTCfGQUDGHJCLNkX5EgMoWxZLk7XW7Ysl3imVpjPjIIBDDkhluwLciSGULYsF6frLVuWSzxTK8xnRsEAjdFzQizZF+RIDKFRsiyXhs/1li3LJZ6pFeYzo2AAQ06IJfuCHIkhlC3Lxel6y5blEs+abZLDjILBDDkhluwLciSGULYsF6frLVuWS4xC/pAFgOHQCgGAVggAZJtQSy21Ra5NjKdCACDbhFpqqS1ubXI8FQIArRAAaIUAoHBbYYiZDEFmjHSkRemUVJEq0ilpUbn9wJ6dZY1Me9JpnivdSmOzsXVva//R/v6j/a17W43NRqWbbE8Wa29YP3jnIsRMhiAzRtpSXXrY88qetCp9IG0HunfiWNbItCed5rnaqW7c3Zi50HO9Z6emNHXxby7OTs12qrF7snB7I9ePUVFCzGQIMmNk4dm9fuShtJD1uWTAskamPek0z/N35mfO97ve8zPzdwbtycLtjSBbYYiZDEFmjLw/0qFgWdbItCed5nnxxejrjT70VOH2RpCtMMRMhiAzRvaiDxXxS44ta2Tak07zfPbl6Ot9edCeLNzeCLIVhpjJULSMkSKyrJFpEZ3mOe56u4Mup3B7I8hWGGImQ5AZIzFPMzl9+DaxrJFpTzrN82c/j77e6ENPFW5vBNkKQ8xkCDJj5J2RDgXLskamPek0z9f/Nfp6vxq0Jwu3N4JshSFmMgSZMXJdeqXf668qumkEzLJGpj3pNM9r59c27vS73jvra+fXBhQXbm8E2QpDzGQIMmOkJm1LV6XTh6+clq5KXwT5xrGBLGtk2pNO89ypdubOz83dmdv8dLPVarVarc1PN+fuzF05f2XAmwr9zjk9YZ51mJkMQWaMVKVr0jXv08iKZY1Me9JpnruV7vr3e6739WGKi7U3gnwqBIDjRSsEAFohAJBtQi211Ba5NjGeCgGAbBNqqaW2uLXJ8VQIALRCAKAVAoDsrTDIvI4Auc1zV1qTzkknpZPSOWlNuf1SsaecztmUE2IR4hoZclGqnWpzs7m7d5ghs7fb3GxWO9ZWZvrgXZB5HQFym+eONCvd7HnlrnRX+qm0kdd/UTidsyknxCLENTLkotTate1fbE9c6MmQGR9fuLAw/S/T9W/V27XRv4LANFVB5nUEyG2e3332HjtyU3o3xWFNnM7ZlBNiEeIaGXJRVu+uTrzUL0PmpYnVu6ZcI1MrDDKvI0Bu89wc6ZAvp3M25YRYhLhGhlyUS78WnSETfSgJUysMMq8jQG7zfC/6UF6/eNvrnE05IRYhrpEhF2V8LDpD5qTp67NNrTDIvI4Auc1zzG/8c/sfY07nbMoJsSjYGg2S3mSaWmGQeR0BcpvnmKeZ3D70O52zKSfEIsQ1MuSitPajM2RaplwjUysMMq8jQG7zHPNF9D9KcVgTp3M25YRYhLhGhlyUW38fnSHziSnXyNQKg8zrCJDbPDek2X6vX5YaKQ5r0vA5Z1NOiEUjwDUy5KIsTS09+Od+GTL/dH9pypRrZGqFQeZ1BMhtnqvSDemGdEEak8akC9IN6b28vmFNbudsygmxCHGNDLko7Vq7/lJ95eOVnd3DDJndnZWPVyZ/ZdLypkLZs02CzOsIkNs8V6TL0uWshzVxOmdTTohFiGtkyEXpVDvLb/ZkyJyS3jyeMwKAsqMVAgCtEADINqGWWmqLXJsYT4UAQLYJtdRSW9za5HgqBABaIQDQCgFAtMIsVVVtqrmrw0wG7TbVrLIE/ZCZkw2vec7hvWD94B0Sqqm2re0J9WQyaHxBC9OarqvelunjkwVDZk42vOY5n/cCjyQZWdVq79ofmdDEqkyZDMVDZk42vOY5n/cCrTAjlxSdyRB9qJzIzMmG1zzn816gFWZkXNGZDAO/urdkyMzJhtc85/NeoBVmhLCX5MjMyYbXPOdzEWmFGWlFZ3nFHConMnOy4TXP+bwXaIUZuaXoTIboQ+VEZk42vOY5n/cCrTAjS1p6oH6ZDLq/FBfVU0Zk5mTDa57zeS/QCjPSVruu+opWdnSYyaCdFa1MapI3Ff47ZOZkw2ue83kv8Bbr7HTUWVZPJgOikZmTDa95zuG9wFMhANAKAYBWCAAi24Raaqktcm1iPBUCANkm1FJLbXFrk+OpEABohQBAKwQA0QqRnhzmVwBR+OAdUpHP/AogCj+ikYp85lcAUWiFSEU+8yuAKLRCpCKf+RVAFFohUpHP/AogCq0QqchnfgUQhVaIVOQzvwKIQitEKvKZXwFEoRUiFfnMrwCi8BZrpCWH+RVAFJ4KAYBWCAC0QgAQ2SbUUkttkWsT46kQAMg2oZZaaotbmxxPhQBAKwQAWiEAKOBW2JEWpVNSRapIp6RFqZOo1JK5UVGlocaWtva1v6/9LW011KioknathSljpCutSeekk9JJ6Zy0prx//5Zhb1jWyC3LxbJGIa5vOsL84F1bqksPe17Zk1alD6TtAddkydyoqrqhjRnNHL0ypakpTV3UxVnNdmLvNkuthSljpCPNSjd7Xrkr3ZV+Km3k9ceoYW9Y1sgty8WyRiGub2rCvNyFZ/f6kYfSwoBSS+bGvOZ775MjM5qZ13x6tRamjJF3n71PjtyU3j2Gc0uFYW9Y1sgty8WyRiGub2rCbIXvj3RIki1zY1GLIxyy11qYMkaaIx3yZdgbljVyy3KxrFGI65uaMFvhXvShQV+QbMncOKuzUYde02vp1VqYMkbuRR/6bMTzSZ1hb1jWyC3LxbJGIa5vasJshYb/abBkbsTUDvxrLbUWpr88Zp5T/8+eUaWzNyzrmy7LGoW4vqkJsxXG/JQd9APYkrnxWfTPyphD9loLU8ZIzJNQig+yNoa9YVkjtywXyxqFuL6pCbMVvjPSIUm2zI3ruh516Mf6cXq1FqaMkZgv3v/RiOeTOsPesKyRW5aLZY1CXN/UhNkKr0uv9Hv9VUVv5qcsmRtrWtvQxjdfX9f6mtbSq7UwZYw0pNl+r1+WGuYzS4lhb1jWyC3LpWFYI0tt4YTZCmvStnRVOn34ymnpqvTF4DdKWjI3OurMaW5Oc5vabKnVUmtTm3Oau6IrA98YaKm1MGWMVKUb0g3pgjQmjUkXpBvSezneOIa9YVkjtywXyxqFuL6pCfMt1pKq0jXp2iillsyNrrrrWl/Xesa1FqaMkYp0Wbp83OeUKsPesKyRW5aLZY1CXN90lK/5A8A30AoBgFYIAGSbUEsttUWuTYynQgAg24Raaqktbm1yPBUCAK0QAGiFACB7K/TKgqh0Ko2fNLb+bmv/0f7+o/2tv9tq/KRR6ST7aqEQ8xwMeR1e3LI+AuSVe2PidR+lM67pg3deWRDVdnXjf2/M/H7PuL8+NfXrUxf/18XZ/zLbqcV2iBDzHAx5HV7csj4C5JV7Y+J1H6U2rumUvbIg5m/Mz/yg37g/mJm/MSgnJMQ8B0Nehxe3rI8AeeXemHjdR6mNa2qFXlkQi69Hjxt96KkQ8xwMeR1e3LI+AuSVe2PidR+lNq6pFXplQZz9TvS43x709bsh5jkY8jq8uGV9BMgr98bE6z5KbVxTK/TKguh2o8eNPvRUiHkOuT2xaG5ZHwHyyr0x8bqPUhvX1Aq9siA++zx63OhDT4WY52DI6/DilvURIK/cGxOv+yi1cU2t0CsL4vo/RI97b1BOSIh5Doa8Di9uWR8B8sq9MfG6j1Ib19QKvbIg1i6vbfyPfuP+9/W1ywPGDTLPwZDX4cUt6yNAXrk3Jg2n+yi1cU2t0CsLolPrzP1gbu4nc5tbm61Wq9VqbW5tzv1k7srvXhnwpkKFmedgyOvw4pb1ESCv3BsTr/sotXGtd5JXFkS32l3//Z5xz0nnEheHmOdgyOvw4pb1ESCv3BsTr/sonXFz+yAEANmhFQIArRAAyDahllpqi1ybGE+FAEC2CbXUUlvc2uR4KgQAWiEA0AoBQOVshUHmSCCxypNK408aW397mHvzt1uNP2lUnqSee2PaV23p21L1MLumKn1bST+gaMm9cconMWUTpSOvH2FNTZA5Ekis+ri68T83Zv5rz/r+xtTUb0xdvHVx9ndnO8+llXtj2ldfS6eebXxd6f9JL0i70vNxpabcG6d8ElM2UWpK91QYZI4EEpv/0/mZd/qt7zsz83+aYu6NaV+djXgAbCv6+60PWXJvnPJJTNlEqSldKwwyRwKJLb4Vvb7Rh54y5GaY9tX9kQ4dsOTeOOWTmLKJUlO6VhhkjgQSO/ta9Pp+N8XcG9O+ivnd3MBf21lyb5zySUzZRKkpXSsMMkcCiXnl3rjtK8v/NDjlk5jWKDWla4VB5kggsc/+MXp9ow89ZcjNMO0rS0uy5N445ZOYsolSU7pWGGSOBBK7/tfR63s7xdwb076qj3TogCX3ximfxJRNlJrStcIgcySQ2Nofrm38t37re3N97Q/XBhQ3Rs/NMO2rTyPe9VKTPh1Qasq9afjkk5iyiVJTulYYZI4EEus815l7Z27uj+c27xzm3tzZnPvjuSs/vDLgTYUy5WaY9tXz0iPpOz3/HK5I35EeDXpToWy5N075JKZsotSU7i3WCjRHAol1T3TX/6hnfb8vfT9xsSE3w7SvatI/jlIn2XJvnPJJTNlE6SjdUyEAfBOtEABohQBAtgm11FJb5NrEeCoEALJNqKWW2uLWJsdTIQDQCgGAVggACrcVBplPYsigcLtep+wLi6qqTTV3tdtVt6vurnabalaD3er4d1Ja3yA/eBdkPokhg8Ltep2yLyxqqm1re0ITR6+Ma3xBC9OarqveTpqchJxKb31zuZ0HCTKfxJBB4Xa9TtkXFqta7b1PjkxoYlWr2Z8Pjld66xtkKwwyn8SQQeF2vU7ZFxaXdGmEQwhFeusbZCsMMp/EkEHhdr1O2RcW4xqPOjQ2+GudkXfprW+QrTDIfBLD/3DkMTcjr/9Bld8NgOOQ3voG2QqDzCcxZFC4Xa9T9oVFK/oZO+YQQpHe+gbZCoPMJzFkULhdr1P2hcUt3RrhEEKR3voG2QqDzCcxZFC4XW/DJ/vCYklLD/Tgm6/f1/2luNaOMKS3vkG2wiDzSQwZFG7X65R9YdFWu676ilZ2tHPwyo52VrQyqUneVFgA6a1vkG+xVqD5JIYMCrfrdcq+sOios6zlZS17nwhSkdL65vWHOwBkiFYIALRCACDbhFpqqS1ybWI8FQIA2SbUUkttcWuT46kQAGiFAEArBADZW6FX5kalW2lsNrbube0/2t9/tL91b6ux2ah0E41rOWev2tJxylRxy0UJMEPGcg+apDNXpg/eeWVuVDvVjbsbMxd6xj07NaWpi39zcXZqtlONG9dyzl61peOUqeKWixJghozlHjRJba5M0+yVuTF/Z37mfL9xz8/M3xkwruWcvWpLxylTxS0XJcAMGcs9aJLaXJlaoVfmxuKL0eNGH3r6Bwzn7FVbOk6ZKm65KAFmyFjuQZPU5srUCr0yN86+HD3uywPGtZyzV23pOGWquOWiBJghY7kHTVKbK1Mr9MrciBu3O2Bcyzl71ZaOU6aK20IUK0Nm4D1oktpcmVqhV+bGZz+PHjf60NM/YDhnr9rSccpUcctFCTBDxnIPmqQ2V6ZW6JW5cf1fo8f9asC4lnP2qi0dp0wVt1yUADNkLPegSWpzZWqFXpkba+fXNu70G/fO+tr5AeNaztmrtnQaPpkqbrkojfAyZCz3oEkjrbkytUKvzI1OtTN3fm7uztzmp5utVqvVam1+ujl3Z+7K+SsD39BkOWev2tJxylRxy0UJMEPGcg+apDZX1mwTr8yNbqW7/v2ecV8fptZwzl61peOUqeKWixJghozlHjRJZ67y+kMHADJEKwQAWiEAkG1CLbXUFrk2MZ4KAYBsE2qppba4tcnxVAgAtEIAoBUCgGiFmepIi9IpqSJVpFPSojL40N0JnfhIH7XVPsjraKv9kT46oRNpj+uW5WKZ5yfSb0q1w9qa9JvSk3TPV7a5qrarzb9o7u4d5rHs7Tb/olltJ7q1yds5Yv3gHZJqS3XpYc8re9Kq9IG0neI6PKfnvtSXvd88ekIn3tSbv9QvX9SLj/U4pXHdslws8/xYelHPfB3XE+lj6T9IX0rPpXK+ss1V7eva9i+2J36vJ49lfHzh9xamH07Xv1VvPx/30WnydnrxVJiVhWfvzyMPpYUUh/1QH/b9BuYxjX2oD9Mb1y3LxTLPv6X+X0vYkn7LdlaxLHO1+perExP98lgmJlb/ckAeC3k7vWiFWXl/pENm39P3Rjhk55blYpnn/zvSITPLXF36z9F5LNGH7OMWD60wK3vRh9L8guSY3wmm+utCtywXyzzH/E4wzV8XWuZqfDw6j2VsQB4LeTu9aIVZKdlvot2yXAKcZ1NmjiFIhLydXrTCrMT8hE4zTO1J9PNMzCE7tywXyzzHPCWn+f/tlrlqtaLzWKIP2cctHlphVt4Z6ZDZlrZGOGTnluVimedzIx0ys8zVrf8TnccSfcg+bvHQCrNyXXql3+uvKnpDHoO39fZev9+f7Wnvbb2d3rhuWS6Wef4r9U9CHpf+ynpeMSxztfQ7Sw8e9MtjuX9/6XcG5LGQt9OLVpiVmrQtXZVOH75yWroqfZHumzsf6/EZnbmt20f/HH6iJ7d1+4zOpPemQjlmuVjm+TnpK+m3e/45fEL6bemrFN9UKNtctZ9v1/9jfeXPV3Z2DvNYdnZW/nxl8j9Nxr+p0Dhu8fAW6wxVpWvStayHfaInb+mtrEd1zHKxzPMJ6a+P+XSSsMxVp9ZZ/mFPHstp6YdZjFswPBUCAK0QAGiFACCyTailltoi1ybGUyEAkG1CLbXUFrc2OZ4KAYBWCAC0QgBQuK2wbJkMVVWbau7qML9Cu001q8mWz2uuTJkqXWlNOiedlE5K56Q1le+LoxIp272QkiA/eFe2TIaaatvanlBPfoXGF7Qwrem66m3lMb/ClKnSkWalmz2v3JXuSj+VNsL98Z2Kst0L6QlyW5Utk2FVq7198MiEJlaV0/wKU6bKu8/2wSM3pXftp1YoZbsX0hNkKyxbJsMlRedXRB864DVXpkyV5kiHSqls90J6gmyFZctkGO//LXqS1PfJq5fXXJkyVe5FHyrdlysPULZ7IT1BtsKyZTJYLirIuYr5jT//GfCsINc3l4JshWXLZGhFZ7XFHDrgNVemTJWYpxkedJ5VtnshPUG2wrJlMtxSdH5F9KEDXnNlylSJ+SL6H414PkVVtnshPUG2wrJlMixp6YH65Vfo/lJc25D85sqUqdKQZvu9fllqmM+sWMp2L6QnyFZYtkyGttp11Ve0sqPD/ArtrGhlUpPxbyqU31yZMlWq0g3phnRBGpPGpAvSDem9QDdsisp2L6QnyLdYq3yZDB11ltWTXzEMr7kyZapUpMvS5WM9oYIq272QEn7IAgCtEABohQAgsk2opZbaItcmxlMhAJBtQi211Ba3NjmeCgGAVggAtEIA0DG0QkMGBZkMQyhZ1oclyyXEcS24j46F7YN3hgwKMhmGULKsD0uWS4jjWnAfHRfbbWTIoCCTYQgly/qwZLmEOK4F99FxsbVCQwYFmQxDKFnWhyXLJcRxLbiPjoutFRoyKMhkGELJsj4sWS4hjmvBfXRcbK3QkEFBJsMQSpb14bUBQtx43EfHxdYKDRkUZDIMoWRZH5YslxDHteA+Oi62VmjIoCCTYQgly/qwZLmEOK4F99FxsbXCxugZFGQyDKFRrqwPS5ZLiONacB8dF1srNGRQkMkwhJJlfViyXEIc14L76LiYs00MGRRkMgyhZFkfliyXEMe14D46FkV8qACAIdEKAYBWCABkm1BLLbVFrk2Mp0IAINuEWmqpLW5tcjwVAgCtEABohQCgkrbCjrQonZIqUkU6JS0q6YeUnDJGyK8YQslyYEp3vekwf/AuOG2pLj3seWVPWpU+kLYHzYdTxgj5FUMoWQ5M6a43NeWbqoVn++CRh9LCoFqnjBHyK4ZQshyY0l1vasrXCt8f6dABp4wR8iuGULIcmNJdb2rK1wr3og8N/KJip4wR8iuGULIcmNJdb2rK1wot/9PglDFCfsUQSpYDU7rrTU35WmFMctnAUDOnjBHyK4ZQshyY0l1vasrXCt8Z6dABp4wR8iuGULIcmNJdb2rK1wqvS6/0e/1VRTecQw2fjBHyK4bQKFcOTOmuNzXla4U1aVu6Kp0+fOW0dFX6IsGbLJ0yRsivGELJcmBKd72pKd9brCVVpWvStZFqnTJGyK8YQslyYEp3vengBwcA0AoBgFYIACLbhFpqqS1ybWI8FQIA2SbUUkttcWuT46kQAGiFAEArBAAdQysMMFfBkhNSVbWp5q52u+p21d3VblPNaoF/olhyYAxO6MRH+qit9sE8t9X+SB+d0IkkteTAJFdT7XN93lHnYJ476nyuz2vpfwgth2tku+YAcxUsOSE11ba1PaGJo1fGNb6ghWlN11Vvq53iebuw5MAYPKfnvtSXYz1fmnZCJ97Um7/UL1/Ui4/1OKaWHJjkntfzuzKggyEAAAUfSURBVNrtbXwVVX5Vv/pIj07p1Nf6OqVx87lGtnYVYK6CJSdkVau9ffDIhCZWtXo855crlhwYgw/14Vi/L48c09iH+jC+lhyY5O7pXt8HwJpq9+K+Hdsqn2tka4UB5ipYckIu6dIIhwJmyYEx+J6+N8KhA+TAJPeqXh3hkF0+18jWCgPMVbDkhIxrPOpQ36eY4FlyYAxific48NeF5MAkF/O7uVR/bZfPNbK1wgBzFSw5IaULEsnrIsYgByb/8rlGtlYYYK6CJSekFf0sFHMoYJYcGIMnejLCoQPkwCTn1ZLyuUa2VhhgroIlJ+SWbo1wKGCWHBiDLW2NcOgAOTDJbWt7hEN2+VwjWytshJerYMkJWdLSAz345uv3dX8p7sdCsCw5MAZv6+29fr+n3NPe23o7vpYcmORe1+t93wHWVvt1vZ7euPlcI1srDDBXwZIT0la7rvqKVna0c/DKjnZWtDKpyQK+qVC2HBiDx3p8Rmdu6/bRP4ef6Mlt3T6jM/FvKhQ5MMP4Wl+/oBd+pp8d/XO4q+7P9LMX9EJ6bypUXtfIvKMDzFWw5IR01FnW8rKWj/2scsqSA2PwRE/e0luj1ZIDk1xb7e/qu9mPm8M1yuvDGwBkiFYIALRCACDbhFpqqS1ybWI8FQIA2SbUUkttcWuT46kQAGiFAEArBAD5tsIc5hvklyFDhnkGBko9zyVKPvMNcsqQIcM8A0m4PRXmM98gpwwZMswzkIRbK8xnvkFOGTJkmGcgCbdWmM98g5wyZMgwz0ASbq0wn/kGOWXIkGGegSTcWmE+8w1yypAhwzwDSbi1wnzmG+SUIUOGeQaScGuF+cw3yKnG6BkyzDOQhFsrzGe+QU4ZMmSYZyAJt7dYK5f5BvllyJBhnoGB+AwyANAKAYBWCAAi24Raaqktcm1iPBUCANkm1FJLbXFrk+OpEABohQBAKwQAObfCjrQonZIqUkU6JS0q5x8Gq6raVHNXu111u+ruarepZjXnP1Es8xzgGllyYCwsGTJu+TNOc+U2bjS/D961pbr0sOeVPWlV+kDa9v1AYKSaatvantDE0SvjGl/QwrSm66q31XY8t0iWeQ5wjSw5MBaWDBm3/BmnuXIbN5bf48zCs/fYkYfSQtbnktCqVnv74JEJTaxqNfvzScQyzwGukSUHxsKSIeOWP+M0V27jxvJrhe+PdMjVJV0a4ZAzyzwHuEaWHBgLS4aMW/6M01y5jRvLrxXuRR9qZXcWQxnXeNShMY1leSZDsMxzgGtkyYGxsGTIuOXPOM2V27ix/FphgInkQYaBWOY5wDWy5MBYWDJk3PJnnObKbdxYfq0w5ikqrw9YrehnoZhDzizzHOAaWXJgLCwZMm75M05z5TZuLL9W+M5Ih1zd0q0RDjmzzHOAa2TJgbGwZMi45c84zZXbuLH8WuF16ZV+r7+q6I3hbElLD/Tgm6/f1/2luOV1ZZnnANfIkgNjYcmQccufafjMldu4sfxaYU3alq5Kpw9fOS1dlb7I6xvWpLbaddVXtLKjnYNXdrSzopVJTeb0TYWyzXOAa2TJgbGwZMi45c84zZXbuLFcd3RVuiZd8zyFYXXUWdbyspa9T2QYlnkOcI0sOTAWlgwZt/wZp7lyGzdavj8xBgCZoBUCAK0QAMg2oZZaaotcm1il2w3wExQAcKz4BzIA0AoBgFYIAKIVAoBohQAgWiEAiFYIAKIVAoBohQAgWiEAiFYIAKIVAoBohQAgWiEASPo3p0IC7oBJY88AAAAASUVORK5CYII='></img>"
             },
             "type": "node"
            }
           ],
           "instanceArgs": {
            "handlers": {
             "obs-output": [
              "function (value, scope) {\n    scope.setInnerHTML(value);\n}\n"
             ]
            },
            "id": "3489795541828182858",
            "imports": {
             "data": [],
             "type": "async_block"
            },
            "mount_callbacks": [],
            "observables": {
             "obs-output": {
              "id": "13248714556421634811",
              "sync": false,
              "value": "<img src='data:image/png;base64,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'></img>"
             }
            },
            "systemjs_options": null
           },
           "nodeType": "Scope",
           "props": {},
           "type": "node"
          },
          {
           "children": [
            {
             "children": [
              {
               "children": [],
               "instanceArgs": {
                "namespace": "html",
                "tag": "div"
               },
               "nodeType": "DOM",
               "props": {
                "id": "container"
               },
               "type": "node"
              }
             ],
             "instanceArgs": {
              "handlers": {
               "value": [
                "(function (txt){return this.k.render(txt,this.container)})"
               ]
              },
              "id": "1971325206088893161",
              "imports": {
               "data": [
                {
                 "name": null,
                 "type": "js",
                 "url": "/assetserver/dd22ed1bf1896c2748f3fe616ce0b838adc895c1-katex.min.js"
                },
                {
                 "name": null,
                 "type": "css",
                 "url": "/assetserver/46517a424aa5e6cffc1360d7e0848b601c584ee3-katex.min.css"
                }
               ],
               "type": "async_block"
              },
              "mount_callbacks": [
               "function () {\n    var handler = ((function (k){this.k=k; this.container=this.dom.querySelector(\"#container\"); return k.render(\"\\\\;\\\\;\",this.container)}));\n    (WebIO.importBlock({\"data\":[{\"name\":null,\"type\":\"js\",\"url\":\"/assetserver/dd22ed1bf1896c2748f3fe616ce0b838adc895c1-katex.min.js\"},{\"name\":null,\"type\":\"css\",\"url\":\"/assetserver/46517a424aa5e6cffc1360d7e0848b601c584ee3-katex.min.css\"}],\"type\":\"async_block\"})).then((imports) => handler.apply(this, imports));\n}\n"
              ],
              "observables": {
               "value": {
                "id": "10117169926611714706",
                "sync": false,
                "value": "\\;\\;"
               }
              },
              "systemjs_options": null
             },
             "nodeType": "Scope",
             "props": {},
             "type": "node"
            }
           ],
           "instanceArgs": {
            "namespace": "html",
            "tag": "div"
           },
           "nodeType": "DOM",
           "props": {
            "className": "interact-widget"
           },
           "type": "node"
          },
          {
           "children": [
            {
             "children": [
              {
               "children": [],
               "instanceArgs": {
                "namespace": "html",
                "tag": "div"
               },
               "nodeType": "DOM",
               "props": {
                "className": "webio-observable",
                "setInnerHtml": "<img src=\"data:image/png;base64,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\" />"
               },
               "type": "node"
              }
             ],
             "instanceArgs": {
              "handlers": {
               "obs-output": [
                "function (value, scope) {\n    scope.setInnerHTML(value);\n}\n"
               ]
              },
              "id": "9275038517056699960",
              "imports": {
               "data": [],
               "type": "async_block"
              },
              "mount_callbacks": [],
              "observables": {
               "obs-output": {
                "id": "11641499664914797668",
                "sync": false,
                "value": "<img src=\"data:image/png;base64,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\" />"
               }
              },
              "systemjs_options": null
             },
             "nodeType": "Scope",
             "props": {},
             "type": "node"
            }
           ],
           "instanceArgs": {
            "namespace": "html",
            "tag": "div"
           },
           "nodeType": "DOM",
           "props": {
            "style": {
             "display": "flex",
             "flex-direction": "column"
            }
           },
           "type": "node"
          }
         ],
         "instanceArgs": {
          "namespace": "html",
          "tag": "div"
         },
         "nodeType": "DOM",
         "props": {
          "style": {
           "display": "flex",
           "flex-direction": "row"
          }
         },
         "type": "node"
        }
       ],
       "instanceArgs": {
        "namespace": "html",
        "tag": "div"
       },
       "nodeType": "DOM",
       "props": {
        "style": {
         "display": "flex",
         "flex-direction": "column"
        }
       },
       "type": "node"
      },
      "text/html": [
       "<div\n",
       "    class=\"webio-mountpoint\"\n",
       "    data-webio-mountpoint=\"17376219870973217723\"\n",
       ">\n",
       "    <script>\n",
       "    (function(){\n",
       "    // Some integrations (namely, IJulia/Jupyter) use an alternate render pathway than\n",
       "    // just putting the html on the page. If WebIO isn't defined, then it's pretty likely\n",
       "    // that we're in one of those situations and the integration just isn't installed\n",
       "    // correctly.\n",
       "    if (typeof window.WebIO === \"undefined\") {\n",
       "        document\n",
       "            .querySelector('[data-webio-mountpoint=\"17376219870973217723\"]')\n",
       "            .innerHTML = (\n",
       "                '<div style=\"padding: 1em; background-color: #f8d6da; border: 1px solid #f5c6cb; font-weight: bold;\">' +\n",
       "                '<p><strong>WebIO not detected.</strong></p>' +\n",
       "                '<p>Please read ' +\n",
       "                '<a href=\"https://juliagizmos.github.io/WebIO.jl/latest/troubleshooting/not-detected/\" target=\"_blank\">the troubleshooting guide</a> ' +\n",
       "                'for more information on how to resolve this issue.</p>' +\n",
       "                '<p><a href=\"https://juliagizmos.github.io/WebIO.jl/latest/troubleshooting/not-detected/\" target=\"_blank\">https://juliagizmos.github.io/WebIO.jl/latest/troubleshooting/not-detected/</a></p>' +\n",
       "                '</div>'\n",
       "            );\n",
       "        return;\n",
       "    }\n",
       "    WebIO.mount(\n",
       "        document.querySelector('[data-webio-mountpoint=\"17376219870973217723\"]'),\n",
       "        {\"props\":{\"style\":{\"display\":\"flex\",\"flex-direction\":\"column\"}},\"nodeType\":\"DOM\",\"type\":\"node\",\"instanceArgs\":{\"namespace\":\"html\",\"tag\":\"div\"},\"children\":[{\"props\":{\"style\":{\"display\":\"flex\",\"flex-direction\":\"row\"}},\"nodeType\":\"DOM\",\"type\":\"node\",\"instanceArgs\":{\"namespace\":\"html\",\"tag\":\"div\"},\"children\":[{\"props\":{\"style\":{\"display\":\"flex\",\"flex-direction\":\"column\"}},\"nodeType\":\"DOM\",\"type\":\"node\",\"instanceArgs\":{\"namespace\":\"html\",\"tag\":\"div\"},\"children\":[{\"props\":{\"className\":\"field interact-widget\"},\"nodeType\":\"DOM\",\"type\":\"node\",\"instanceArgs\":{\"namespace\":\"html\",\"tag\":\"div\"},\"children\":[{\"props\":{},\"nodeType\":\"Scope\",\"type\":\"node\",\"instanceArgs\":{\"imports\":{\"data\":[{\"name\":\"knockout\",\"type\":\"js\",\"url\":\"\\/assetserver\\/727383f2a47bd31570b7da84eee7b022dd6d7c78-knockout.js\"},{\"name\":\"knockout_punches\",\"type\":\"js\",\"url\":\"\\/assetserver\\/382b41b3b1bd9f26f75861d360bad7f8beea211f-knockout_punches.js\"},{\"name\":null,\"type\":\"js\",\"url\":\"\\/assetserver\\/5ab20f1060420992a9b82a65b735dee4d81ef413-all.js\"},{\"name\":null,\"type\":\"css\",\"url\":\"\\/assetserver\\/1cc0ed62837210b80a182cc3676512f895dab686-style.css\"},{\"name\":null,\"type\":\"css\",\"url\":\"\\/assetserver\\/2eee816f616df3549d7044d45e744fbf8d42bfa1-bulma_confined.min.css\"}],\"type\":\"async_block\"},\"id\":\"2729762196326205518\",\"handlers\":{\"changes\":[\"(function (val){return (val!=this.model[\\\"changes\\\"]()) ? (this.valueFromJulia[\\\"changes\\\"]=true, this.model[\\\"changes\\\"](val)) : undefined})\"],\"index\":[\"(function (val){return (val!=this.model[\\\"index\\\"]()) ? (this.valueFromJulia[\\\"index\\\"]=true, this.model[\\\"index\\\"](val)) : undefined})\"]},\"systemjs_options\":null,\"mount_callbacks\":[\"function () {\\n    var handler = (function (ko, koPunches) {\\n    ko.punches.enableAll();\\n    ko.bindingHandlers.numericValue = {\\n        init: function(element, valueAccessor, allBindings, data, context) {\\n            var stringified = ko.observable(ko.unwrap(valueAccessor()));\\n            stringified.subscribe(function(value) {\\n                var val = parseFloat(value);\\n                if (!isNaN(val)) {\\n                    valueAccessor()(val);\\n                }\\n            });\\n            valueAccessor().subscribe(function(value) {\\n                var str = JSON.stringify(value);\\n                if ((str == \\\"0\\\") && ([\\\"-0\\\", \\\"-0.\\\"].indexOf(stringified()) >= 0))\\n                     return;\\n                 if ([\\\"null\\\", \\\"\\\"].indexOf(str) >= 0)\\n                     return;\\n                stringified(str);\\n            });\\n            ko.applyBindingsToNode(\\n                element,\\n                {\\n                    value: stringified,\\n                    valueUpdate: allBindings.get('valueUpdate'),\\n                },\\n                context,\\n            );\\n        }\\n    };\\n    var json_data = {\\\"formatted_vals\\\":[\\\"1\\\",\\\"2\\\",\\\"3\\\",\\\"4\\\",\\\"5\\\",\\\"6\\\",\\\"7\\\",\\\"8\\\",\\\"9\\\",\\\"10\\\",\\\"11\\\",\\\"12\\\",\\\"13\\\",\\\"14\\\",\\\"15\\\",\\\"16\\\",\\\"17\\\",\\\"18\\\",\\\"19\\\",\\\"20\\\",\\\"21\\\",\\\"22\\\",\\\"23\\\",\\\"24\\\",\\\"25\\\",\\\"26\\\",\\\"27\\\",\\\"28\\\",\\\"29\\\",\\\"30\\\",\\\"31\\\",\\\"32\\\",\\\"33\\\",\\\"34\\\",\\\"35\\\",\\\"36\\\",\\\"37\\\",\\\"38\\\",\\\"39\\\",\\\"40\\\",\\\"41\\\",\\\"42\\\",\\\"43\\\",\\\"44\\\",\\\"45\\\",\\\"46\\\",\\\"47\\\",\\\"48\\\",\\\"49\\\",\\\"50\\\",\\\"51\\\",\\\"52\\\",\\\"53\\\",\\\"54\\\",\\\"55\\\",\\\"56\\\",\\\"57\\\",\\\"58\\\",\\\"59\\\",\\\"60\\\",\\\"61\\\",\\\"62\\\",\\\"63\\\",\\\"64\\\",\\\"65\\\",\\\"66\\\",\\\"67\\\",\\\"68\\\",\\\"69\\\",\\\"70\\\",\\\"71\\\",\\\"72\\\",\\\"73\\\",\\\"74\\\",\\\"75\\\",\\\"76\\\",\\\"77\\\",\\\"78\\\",\\\"79\\\",\\\"80\\\",\\\"81\\\",\\\"82\\\",\\\"83\\\",\\\"84\\\",\\\"85\\\",\\\"86\\\",\\\"87\\\",\\\"88\\\",\\\"89\\\",\\\"90\\\",\\\"91\\\",\\\"92\\\",\\\"93\\\",\\\"94\\\",\\\"95\\\",\\\"96\\\",\\\"97\\\",\\\"98\\\",\\\"99\\\",\\\"100\\\",\\\"101\\\",\\\"102\\\",\\\"103\\\",\\\"104\\\",\\\"105\\\",\\\"106\\\",\\\"107\\\",\\\"108\\\",\\\"109\\\",\\\"110\\\",\\\"111\\\",\\\"112\\\",\\\"113\\\",\\\"114\\\",\\\"115\\\",\\\"116\\\",\\\"117\\\",\\\"118\\\",\\\"119\\\",\\\"120\\\",\\\"121\\\",\\\"122\\\",\\\"123\\\",\\\"124\\\",\\\"125\\\",\\\"126\\\",\\\"127\\\",\\\"128\\\",\\\"129\\\",\\\"130\\\",\\\"131\\\",\\\"132\\\",\\\"133\\\",\\\"134\\\",\\\"135\\\",\\\"136\\\",\\\"137\\\",\\\"138\\\",\\\"139\\\",\\\"140\\\",\\\"141\\\",\\\"142\\\",\\\"143\\\",\\\"144\\\",\\\"145\\\",\\\"146\\\",\\\"147\\\",\\\"148\\\",\\\"149\\\",\\\"150\\\",\\\"151\\\",\\\"152\\\",\\\"153\\\",\\\"154\\\",\\\"155\\\",\\\"156\\\",\\\"157\\\",\\\"158\\\",\\\"159\\\",\\\"160\\\",\\\"161\\\",\\\"162\\\",\\\"163\\\",\\\"164\\\",\\\"165\\\",\\\"166\\\",\\\"167\\\",\\\"168\\\",\\\"169\\\",\\\"170\\\",\\\"171\\\",\\\"172\\\",\\\"173\\\",\\\"174\\\",\\\"175\\\",\\\"176\\\",\\\"177\\\",\\\"178\\\",\\\"179\\\",\\\"180\\\",\\\"181\\\",\\\"182\\\",\\\"183\\\",\\\"184\\\",\\\"185\\\",\\\"186\\\",\\\"187\\\",\\\"188\\\",\\\"189\\\",\\\"190\\\",\\\"191\\\",\\\"192\\\",\\\"193\\\",\\\"194\\\",\\\"195\\\",\\\"196\\\",\\\"197\\\",\\\"198\\\",\\\"199\\\",\\\"200\\\"],\\\"changes\\\":WebIO.getval({\\\"name\\\":\\\"changes\\\",\\\"scope\\\":\\\"2729762196326205518\\\",\\\"id\\\":\\\"11828546096581579252\\\",\\\"type\\\":\\\"observable\\\"}),\\\"index\\\":WebIO.getval({\\\"name\\\":\\\"index\\\",\\\"scope\\\":\\\"2729762196326205518\\\",\\\"id\\\":\\\"10653402391983295610\\\",\\\"type\\\":\\\"observable\\\"})};\\n    var self = this;\\n    function AppViewModel() {\\n        for (var key in json_data) {\\n            var el = json_data[key];\\n            this[key] = Array.isArray(el) ? ko.observableArray(el) : ko.observable(el);\\n        }\\n        \\n        [this[\\\"formatted_val\\\"]=ko.computed(    function(){\\n        return this.formatted_vals()[parseInt(this.index())-(1)];\\n    }\\n,this)]\\n        [this[\\\"changes\\\"].subscribe((function (val){!(this.valueFromJulia[\\\"changes\\\"]) ? (WebIO.setval({\\\"name\\\":\\\"changes\\\",\\\"scope\\\":\\\"2729762196326205518\\\",\\\"id\\\":\\\"11828546096581579252\\\",\\\"type\\\":\\\"observable\\\"},val)) : undefined; return this.valueFromJulia[\\\"changes\\\"]=false}),self),this[\\\"index\\\"].subscribe((function (val){!(this.valueFromJulia[\\\"index\\\"]) ? (WebIO.setval({\\\"name\\\":\\\"index\\\",\\\"scope\\\":\\\"2729762196326205518\\\",\\\"id\\\":\\\"10653402391983295610\\\",\\\"type\\\":\\\"observable\\\"},val)) : undefined; return this.valueFromJulia[\\\"index\\\"]=false}),self)]\\n        \\n    }\\n    self.model = new AppViewModel();\\n    self.valueFromJulia = {};\\n    for (var key in json_data) {\\n        self.valueFromJulia[key] = false;\\n    }\\n    ko.applyBindings(self.model, self.dom);\\n}\\n);\\n    (WebIO.importBlock({\\\"data\\\":[{\\\"name\\\":\\\"knockout\\\",\\\"type\\\":\\\"js\\\",\\\"url\\\":\\\"\\/assetserver\\/727383f2a47bd31570b7da84eee7b022dd6d7c78-knockout.js\\\"},{\\\"name\\\":\\\"knockout_punches\\\",\\\"type\\\":\\\"js\\\",\\\"url\\\":\\\"\\/assetserver\\/382b41b3b1bd9f26f75861d360bad7f8beea211f-knockout_punches.js\\\"}],\\\"type\\\":\\\"async_block\\\"})).then((imports) => handler.apply(this, imports));\\n}\\n\"],\"observables\":{\"changes\":{\"sync\":false,\"id\":\"11828546096581579252\",\"value\":0},\"index\":{\"sync\":true,\"id\":\"10653402391983295610\",\"value\":1}}},\"children\":[{\"props\":{\"className\":\"interact-flex-row interact-widget\"},\"nodeType\":\"DOM\",\"type\":\"node\",\"instanceArgs\":{\"namespace\":\"html\",\"tag\":\"div\"},\"children\":[{\"props\":{\"className\":\"interact-flex-row-left\"},\"nodeType\":\"DOM\",\"type\":\"node\",\"instanceArgs\":{\"namespace\":\"html\",\"tag\":\"div\"},\"children\":[{\"props\":{\"className\":\"interact \",\"style\":{\"padding\":\"5px 10px 0px 10px\"}},\"nodeType\":\"DOM\",\"type\":\"node\",\"instanceArgs\":{\"namespace\":\"html\",\"tag\":\"label\"},\"children\":[\"time\"]}]},{\"props\":{\"className\":\"interact-flex-row-center\"},\"nodeType\":\"DOM\",\"type\":\"node\",\"instanceArgs\":{\"namespace\":\"html\",\"tag\":\"div\"},\"children\":[{\"props\":{\"max\":200,\"min\":1,\"attributes\":{\"type\":\"range\",\"data-bind\":\"numericValue: index, valueUpdate: 'input', event: {change: function (){this.changes(this.changes()+1)}}\",\"orient\":\"horizontal\"},\"step\":1,\"className\":\"slider slider is-fullwidth\",\"style\":{}},\"nodeType\":\"DOM\",\"type\":\"node\",\"instanceArgs\":{\"namespace\":\"html\",\"tag\":\"input\"},\"children\":[]}]},{\"props\":{\"className\":\"interact-flex-row-right\"},\"nodeType\":\"DOM\",\"type\":\"node\",\"instanceArgs\":{\"namespace\":\"html\",\"tag\":\"div\"},\"children\":[{\"props\":{\"attributes\":{\"data-bind\":\"text: formatted_val\"}},\"nodeType\":\"DOM\",\"type\":\"node\",\"instanceArgs\":{\"namespace\":\"html\",\"tag\":\"p\"},\"children\":[]}]}]}]}]},{\"props\":{\"className\":\"field interact-widget\"},\"nodeType\":\"DOM\",\"type\":\"node\",\"instanceArgs\":{\"namespace\":\"html\",\"tag\":\"div\"},\"children\":[{\"props\":{},\"nodeType\":\"Scope\",\"type\":\"node\",\"instanceArgs\":{\"imports\":{\"data\":[{\"name\":\"knockout\",\"type\":\"js\",\"url\":\"\\/assetserver\\/727383f2a47bd31570b7da84eee7b022dd6d7c78-knockout.js\"},{\"name\":\"knockout_punches\",\"type\":\"js\",\"url\":\"\\/assetserver\\/382b41b3b1bd9f26f75861d360bad7f8beea211f-knockout_punches.js\"},{\"name\":null,\"type\":\"js\",\"url\":\"\\/assetserver\\/5ab20f1060420992a9b82a65b735dee4d81ef413-all.js\"},{\"name\":null,\"type\":\"css\",\"url\":\"\\/assetserver\\/1cc0ed62837210b80a182cc3676512f895dab686-style.css\"},{\"name\":null,\"type\":\"css\",\"url\":\"\\/assetserver\\/2eee816f616df3549d7044d45e744fbf8d42bfa1-bulma_confined.min.css\"}],\"type\":\"async_block\"},\"id\":\"14453592012856307364\",\"handlers\":{\"changes\":[\"(function (val){return (val!=this.model[\\\"changes\\\"]()) ? (this.valueFromJulia[\\\"changes\\\"]=true, this.model[\\\"changes\\\"](val)) : undefined})\"],\"index\":[\"(function (val){return (val!=this.model[\\\"index\\\"]()) ? (this.valueFromJulia[\\\"index\\\"]=true, this.model[\\\"index\\\"](val)) : undefined})\"]},\"systemjs_options\":null,\"mount_callbacks\":[\"function () {\\n    var handler = (function (ko, koPunches) {\\n    ko.punches.enableAll();\\n    ko.bindingHandlers.numericValue = {\\n        init: function(element, valueAccessor, allBindings, data, context) {\\n            var stringified = ko.observable(ko.unwrap(valueAccessor()));\\n            stringified.subscribe(function(value) {\\n                var val = parseFloat(value);\\n                if (!isNaN(val)) {\\n                    valueAccessor()(val);\\n                }\\n            });\\n            valueAccessor().subscribe(function(value) {\\n                var str = JSON.stringify(value);\\n                if ((str == \\\"0\\\") && ([\\\"-0\\\", \\\"-0.\\\"].indexOf(stringified()) >= 0))\\n                     return;\\n                 if ([\\\"null\\\", \\\"\\\"].indexOf(str) >= 0)\\n                     return;\\n                stringified(str);\\n            });\\n            ko.applyBindingsToNode(\\n                element,\\n                {\\n                    value: stringified,\\n                    valueUpdate: allBindings.get('valueUpdate'),\\n                },\\n                context,\\n            );\\n        }\\n    };\\n    var json_data = {\\\"formatted_vals\\\":[\\\"0.1\\\",\\\"0.2\\\",\\\"0.3\\\",\\\"0.4\\\",\\\"0.5\\\",\\\"0.6\\\",\\\"0.7\\\",\\\"0.8\\\",\\\"0.9\\\",\\\"1.0\\\",\\\"1.1\\\",\\\"1.2\\\",\\\"1.3\\\",\\\"1.4\\\",\\\"1.5\\\",\\\"1.6\\\",\\\"1.7\\\",\\\"1.8\\\",\\\"1.9\\\",\\\"2.0\\\"],\\\"changes\\\":WebIO.getval({\\\"name\\\":\\\"changes\\\",\\\"scope\\\":\\\"14453592012856307364\\\",\\\"id\\\":\\\"13664770104683552579\\\",\\\"type\\\":\\\"observable\\\"}),\\\"index\\\":WebIO.getval({\\\"name\\\":\\\"index\\\",\\\"scope\\\":\\\"14453592012856307364\\\",\\\"id\\\":\\\"2501023445654905365\\\",\\\"type\\\":\\\"observable\\\"})};\\n    var self = this;\\n    function AppViewModel() {\\n        for (var key in json_data) {\\n            var el = json_data[key];\\n            this[key] = Array.isArray(el) ? ko.observableArray(el) : ko.observable(el);\\n        }\\n        \\n        [this[\\\"formatted_val\\\"]=ko.computed(    function(){\\n        return this.formatted_vals()[parseInt(this.index())-(1)];\\n    }\\n,this)]\\n        [this[\\\"changes\\\"].subscribe((function (val){!(this.valueFromJulia[\\\"changes\\\"]) ? (WebIO.setval({\\\"name\\\":\\\"changes\\\",\\\"scope\\\":\\\"14453592012856307364\\\",\\\"id\\\":\\\"13664770104683552579\\\",\\\"type\\\":\\\"observable\\\"},val)) : undefined; return this.valueFromJulia[\\\"changes\\\"]=false}),self),this[\\\"index\\\"].subscribe((function (val){!(this.valueFromJulia[\\\"index\\\"]) ? (WebIO.setval({\\\"name\\\":\\\"index\\\",\\\"scope\\\":\\\"14453592012856307364\\\",\\\"id\\\":\\\"2501023445654905365\\\",\\\"type\\\":\\\"observable\\\"},val)) : undefined; return this.valueFromJulia[\\\"index\\\"]=false}),self)]\\n        \\n    }\\n    self.model = new AppViewModel();\\n    self.valueFromJulia = {};\\n    for (var key in json_data) {\\n        self.valueFromJulia[key] = false;\\n    }\\n    ko.applyBindings(self.model, self.dom);\\n}\\n);\\n    (WebIO.importBlock({\\\"data\\\":[{\\\"name\\\":\\\"knockout\\\",\\\"type\\\":\\\"js\\\",\\\"url\\\":\\\"\\/assetserver\\/727383f2a47bd31570b7da84eee7b022dd6d7c78-knockout.js\\\"},{\\\"name\\\":\\\"knockout_punches\\\",\\\"type\\\":\\\"js\\\",\\\"url\\\":\\\"\\/assetserver\\/382b41b3b1bd9f26f75861d360bad7f8beea211f-knockout_punches.js\\\"}],\\\"type\\\":\\\"async_block\\\"})).then((imports) => handler.apply(this, imports));\\n}\\n\"],\"observables\":{\"changes\":{\"sync\":false,\"id\":\"13664770104683552579\",\"value\":0},\"index\":{\"sync\":true,\"id\":\"2501023445654905365\",\"value\":10}}},\"children\":[{\"props\":{\"className\":\"interact-flex-row interact-widget\"},\"nodeType\":\"DOM\",\"type\":\"node\",\"instanceArgs\":{\"namespace\":\"html\",\"tag\":\"div\"},\"children\":[{\"props\":{\"className\":\"interact-flex-row-left\"},\"nodeType\":\"DOM\",\"type\":\"node\",\"instanceArgs\":{\"namespace\":\"html\",\"tag\":\"div\"},\"children\":[{\"props\":{\"className\":\"interact \",\"style\":{\"padding\":\"5px 10px 0px 10px\"}},\"nodeType\":\"DOM\",\"type\":\"node\",\"instanceArgs\":{\"namespace\":\"html\",\"tag\":\"label\"},\"children\":[\"scale\"]}]},{\"props\":{\"className\":\"interact-flex-row-center\"},\"nodeType\":\"DOM\",\"type\":\"node\",\"instanceArgs\":{\"namespace\":\"html\",\"tag\":\"div\"},\"children\":[{\"props\":{\"max\":20,\"min\":1,\"attributes\":{\"type\":\"range\",\"data-bind\":\"numericValue: index, valueUpdate: 'input', event: {change: function (){this.changes(this.changes()+1)}}\",\"orient\":\"horizontal\"},\"step\":1,\"className\":\"slider slider is-fullwidth\",\"style\":{}},\"nodeType\":\"DOM\",\"type\":\"node\",\"instanceArgs\":{\"namespace\":\"html\",\"tag\":\"input\"},\"children\":[]}]},{\"props\":{\"className\":\"interact-flex-row-right\"},\"nodeType\":\"DOM\",\"type\":\"node\",\"instanceArgs\":{\"namespace\":\"html\",\"tag\":\"div\"},\"children\":[{\"props\":{\"attributes\":{\"data-bind\":\"text: formatted_val\"}},\"nodeType\":\"DOM\",\"type\":\"node\",\"instanceArgs\":{\"namespace\":\"html\",\"tag\":\"p\"},\"children\":[]}]}]}]}]},{\"props\":{\"style\":{\"display\":\"flex\",\"flex-direction\":\"column\"}},\"nodeType\":\"DOM\",\"type\":\"node\",\"instanceArgs\":{\"namespace\":\"html\",\"tag\":\"div\"},\"children\":[]},{\"props\":{\"style\":{\"display\":\"flex\",\"flex-direction\":\"column\"}},\"nodeType\":\"DOM\",\"type\":\"node\",\"instanceArgs\":{\"namespace\":\"html\",\"tag\":\"div\"},\"children\":[{\"props\":{\"className\":\"field interact-widget\"},\"nodeType\":\"DOM\",\"type\":\"node\",\"instanceArgs\":{\"namespace\":\"html\",\"tag\":\"div\"},\"children\":[{\"props\":{},\"nodeType\":\"Scope\",\"type\":\"node\",\"instanceArgs\":{\"imports\":{\"data\":[{\"name\":\"knockout\",\"type\":\"js\",\"url\":\"\\/assetserver\\/727383f2a47bd31570b7da84eee7b022dd6d7c78-knockout.js\"},{\"name\":\"knockout_punches\",\"type\":\"js\",\"url\":\"\\/assetserver\\/382b41b3b1bd9f26f75861d360bad7f8beea211f-knockout_punches.js\"},{\"name\":null,\"type\":\"js\",\"url\":\"\\/assetserver\\/5ab20f1060420992a9b82a65b735dee4d81ef413-all.js\"},{\"name\":null,\"type\":\"css\",\"url\":\"\\/assetserver\\/1cc0ed62837210b80a182cc3676512f895dab686-style.css\"},{\"name\":null,\"type\":\"css\",\"url\":\"\\/assetserver\\/2eee816f616df3549d7044d45e744fbf8d42bfa1-bulma_confined.min.css\"}],\"type\":\"async_block\"},\"id\":\"18191719349728432963\",\"handlers\":{\"changes\":[\"(function (val){return (val!=this.model[\\\"changes\\\"]()) ? (this.valueFromJulia[\\\"changes\\\"]=true, this.model[\\\"changes\\\"](val)) : undefined})\"],\"index\":[\"(function (val){return (val!=this.model[\\\"index\\\"]()) ? (this.valueFromJulia[\\\"index\\\"]=true, this.model[\\\"index\\\"](val)) : undefined})\"]},\"systemjs_options\":null,\"mount_callbacks\":[\"function () {\\n    var handler = (function (ko, koPunches) {\\n    ko.punches.enableAll();\\n    ko.bindingHandlers.numericValue = {\\n        init: function(element, valueAccessor, allBindings, data, context) {\\n            var stringified = ko.observable(ko.unwrap(valueAccessor()));\\n            stringified.subscribe(function(value) {\\n                var val = parseFloat(value);\\n                if (!isNaN(val)) {\\n                    valueAccessor()(val);\\n                }\\n            });\\n            valueAccessor().subscribe(function(value) {\\n                var str = JSON.stringify(value);\\n                if ((str == \\\"0\\\") && ([\\\"-0\\\", \\\"-0.\\\"].indexOf(stringified()) >= 0))\\n                     return;\\n                 if ([\\\"null\\\", \\\"\\\"].indexOf(str) >= 0)\\n                     return;\\n                stringified(str);\\n            });\\n            ko.applyBindingsToNode(\\n                element,\\n                {\\n                    value: stringified,\\n                    valueUpdate: allBindings.get('valueUpdate'),\\n                },\\n                context,\\n            );\\n        }\\n    };\\n    var json_data = {\\\"formatted_vals\\\":[\\\"0.0\\\",\\\"0.01\\\",\\\"0.02\\\",\\\"0.03\\\",\\\"0.04\\\",\\\"0.05\\\",\\\"0.06\\\",\\\"0.07\\\",\\\"0.08\\\",\\\"0.09\\\",\\\"0.1\\\",\\\"0.11\\\",\\\"0.12\\\",\\\"0.13\\\",\\\"0.14\\\",\\\"0.15\\\",\\\"0.16\\\",\\\"0.17\\\",\\\"0.18\\\",\\\"0.19\\\",\\\"0.2\\\",\\\"0.21\\\",\\\"0.22\\\",\\\"0.23\\\",\\\"0.24\\\",\\\"0.25\\\",\\\"0.26\\\",\\\"0.27\\\",\\\"0.28\\\",\\\"0.29\\\",\\\"0.3\\\",\\\"0.31\\\",\\\"0.32\\\",\\\"0.33\\\",\\\"0.34\\\",\\\"0.35\\\",\\\"0.36\\\",\\\"0.37\\\",\\\"0.38\\\",\\\"0.39\\\",\\\"0.4\\\",\\\"0.41\\\",\\\"0.42\\\",\\\"0.43\\\",\\\"0.44\\\",\\\"0.45\\\",\\\"0.46\\\",\\\"0.47\\\",\\\"0.48\\\",\\\"0.49\\\",\\\"0.5\\\",\\\"0.51\\\",\\\"0.52\\\",\\\"0.53\\\",\\\"0.54\\\",\\\"0.55\\\",\\\"0.56\\\",\\\"0.57\\\",\\\"0.58\\\",\\\"0.59\\\",\\\"0.6\\\",\\\"0.61\\\",\\\"0.62\\\",\\\"0.63\\\",\\\"0.64\\\",\\\"0.65\\\",\\\"0.66\\\",\\\"0.67\\\",\\\"0.68\\\",\\\"0.69\\\",\\\"0.7\\\",\\\"0.71\\\",\\\"0.72\\\",\\\"0.73\\\",\\\"0.74\\\",\\\"0.75\\\",\\\"0.76\\\",\\\"0.77\\\",\\\"0.78\\\",\\\"0.79\\\",\\\"0.8\\\",\\\"0.81\\\",\\\"0.82\\\",\\\"0.83\\\",\\\"0.84\\\",\\\"0.85\\\",\\\"0.86\\\",\\\"0.87\\\",\\\"0.88\\\",\\\"0.89\\\",\\\"0.9\\\",\\\"0.91\\\",\\\"0.92\\\",\\\"0.93\\\",\\\"0.94\\\",\\\"0.95\\\",\\\"0.96\\\",\\\"0.97\\\",\\\"0.98\\\",\\\"0.99\\\",\\\"1.0\\\"],\\\"changes\\\":WebIO.getval({\\\"name\\\":\\\"changes\\\",\\\"scope\\\":\\\"18191719349728432963\\\",\\\"id\\\":\\\"11563390601754788599\\\",\\\"type\\\":\\\"observable\\\"}),\\\"index\\\":WebIO.getval({\\\"name\\\":\\\"index\\\",\\\"scope\\\":\\\"18191719349728432963\\\",\\\"id\\\":\\\"1555390471200055825\\\",\\\"type\\\":\\\"observable\\\"})};\\n    var self = this;\\n    function AppViewModel() {\\n        for (var key in json_data) {\\n            var el = json_data[key];\\n            this[key] = Array.isArray(el) ? ko.observableArray(el) : ko.observable(el);\\n        }\\n        \\n        [this[\\\"formatted_val\\\"]=ko.computed(    function(){\\n        return this.formatted_vals()[parseInt(this.index())-(1)];\\n    }\\n,this)]\\n        [this[\\\"changes\\\"].subscribe((function (val){!(this.valueFromJulia[\\\"changes\\\"]) ? (WebIO.setval({\\\"name\\\":\\\"changes\\\",\\\"scope\\\":\\\"18191719349728432963\\\",\\\"id\\\":\\\"11563390601754788599\\\",\\\"type\\\":\\\"observable\\\"},val)) : undefined; return this.valueFromJulia[\\\"changes\\\"]=false}),self),this[\\\"index\\\"].subscribe((function (val){!(this.valueFromJulia[\\\"index\\\"]) ? (WebIO.setval({\\\"name\\\":\\\"index\\\",\\\"scope\\\":\\\"18191719349728432963\\\",\\\"id\\\":\\\"1555390471200055825\\\",\\\"type\\\":\\\"observable\\\"},val)) : undefined; return this.valueFromJulia[\\\"index\\\"]=false}),self)]\\n        \\n    }\\n    self.model = new AppViewModel();\\n    self.valueFromJulia = {};\\n    for (var key in json_data) {\\n        self.valueFromJulia[key] = false;\\n    }\\n    ko.applyBindings(self.model, self.dom);\\n}\\n);\\n    (WebIO.importBlock({\\\"data\\\":[{\\\"name\\\":\\\"knockout\\\",\\\"type\\\":\\\"js\\\",\\\"url\\\":\\\"\\/assetserver\\/727383f2a47bd31570b7da84eee7b022dd6d7c78-knockout.js\\\"},{\\\"name\\\":\\\"knockout_punches\\\",\\\"type\\\":\\\"js\\\",\\\"url\\\":\\\"\\/assetserver\\/382b41b3b1bd9f26f75861d360bad7f8beea211f-knockout_punches.js\\\"}],\\\"type\\\":\\\"async_block\\\"})).then((imports) => handler.apply(this, imports));\\n}\\n\"],\"observables\":{\"changes\":{\"sync\":false,\"id\":\"11563390601754788599\",\"value\":0},\"index\":{\"sync\":true,\"id\":\"1555390471200055825\",\"value\":51}}},\"children\":[{\"props\":{\"className\":\"interact-flex-row interact-widget\"},\"nodeType\":\"DOM\",\"type\":\"node\",\"instanceArgs\":{\"namespace\":\"html\",\"tag\":\"div\"},\"children\":[{\"props\":{\"className\":\"interact-flex-row-left\"},\"nodeType\":\"DOM\",\"type\":\"node\",\"instanceArgs\":{\"namespace\":\"html\",\"tag\":\"div\"},\"children\":[{\"props\":{\"className\":\"interact \",\"style\":{\"padding\":\"5px 10px 0px 10px\"}},\"nodeType\":\"DOM\",\"type\":\"node\",\"instanceArgs\":{\"namespace\":\"html\",\"tag\":\"label\"},\"children\":[\"wolf_birth_rate\"]}]},{\"props\":{\"className\":\"interact-flex-row-center\"},\"nodeType\":\"DOM\",\"type\":\"node\",\"instanceArgs\":{\"namespace\":\"html\",\"tag\":\"div\"},\"children\":[{\"props\":{\"max\":101,\"min\":1,\"attributes\":{\"type\":\"range\",\"data-bind\":\"numericValue: index, valueUpdate: 'input', event: {change: function (){this.changes(this.changes()+1)}}\",\"orient\":\"horizontal\"},\"step\":1,\"className\":\"slider slider is-fullwidth\",\"style\":{}},\"nodeType\":\"DOM\",\"type\":\"node\",\"instanceArgs\":{\"namespace\":\"html\",\"tag\":\"input\"},\"children\":[]}]},{\"props\":{\"className\":\"interact-flex-row-right\"},\"nodeType\":\"DOM\",\"type\":\"node\",\"instanceArgs\":{\"namespace\":\"html\",\"tag\":\"div\"},\"children\":[{\"props\":{\"attributes\":{\"data-bind\":\"text: formatted_val\"}},\"nodeType\":\"DOM\",\"type\":\"node\",\"instanceArgs\":{\"namespace\":\"html\",\"tag\":\"p\"},\"children\":[]}]}]}]}]},{\"props\":{\"className\":\"field interact-widget\"},\"nodeType\":\"DOM\",\"type\":\"node\",\"instanceArgs\":{\"namespace\":\"html\",\"tag\":\"div\"},\"children\":[{\"props\":{},\"nodeType\":\"Scope\",\"type\":\"node\",\"instanceArgs\":{\"imports\":{\"data\":[{\"name\":\"knockout\",\"type\":\"js\",\"url\":\"\\/assetserver\\/727383f2a47bd31570b7da84eee7b022dd6d7c78-knockout.js\"},{\"name\":\"knockout_punches\",\"type\":\"js\",\"url\":\"\\/assetserver\\/382b41b3b1bd9f26f75861d360bad7f8beea211f-knockout_punches.js\"},{\"name\":null,\"type\":\"js\",\"url\":\"\\/assetserver\\/5ab20f1060420992a9b82a65b735dee4d81ef413-all.js\"},{\"name\":null,\"type\":\"css\",\"url\":\"\\/assetserver\\/1cc0ed62837210b80a182cc3676512f895dab686-style.css\"},{\"name\":null,\"type\":\"css\",\"url\":\"\\/assetserver\\/2eee816f616df3549d7044d45e744fbf8d42bfa1-bulma_confined.min.css\"}],\"type\":\"async_block\"},\"id\":\"12562189183334581316\",\"handlers\":{\"changes\":[\"(function (val){return (val!=this.model[\\\"changes\\\"]()) ? (this.valueFromJulia[\\\"changes\\\"]=true, this.model[\\\"changes\\\"](val)) : undefined})\"],\"index\":[\"(function (val){return (val!=this.model[\\\"index\\\"]()) ? (this.valueFromJulia[\\\"index\\\"]=true, this.model[\\\"index\\\"](val)) : undefined})\"]},\"systemjs_options\":null,\"mount_callbacks\":[\"function () {\\n    var handler = (function (ko, koPunches) {\\n    ko.punches.enableAll();\\n    ko.bindingHandlers.numericValue = {\\n        init: function(element, valueAccessor, allBindings, data, context) {\\n            var stringified = ko.observable(ko.unwrap(valueAccessor()));\\n            stringified.subscribe(function(value) {\\n                var val = parseFloat(value);\\n                if (!isNaN(val)) {\\n                    valueAccessor()(val);\\n                }\\n            });\\n            valueAccessor().subscribe(function(value) {\\n                var str = JSON.stringify(value);\\n                if ((str == \\\"0\\\") && ([\\\"-0\\\", \\\"-0.\\\"].indexOf(stringified()) >= 0))\\n                     return;\\n                 if ([\\\"null\\\", \\\"\\\"].indexOf(str) >= 0)\\n                     return;\\n                stringified(str);\\n            });\\n            ko.applyBindingsToNode(\\n                element,\\n                {\\n                    value: stringified,\\n                    valueUpdate: allBindings.get('valueUpdate'),\\n                },\\n                context,\\n            );\\n        }\\n    };\\n    var json_data = {\\\"formatted_vals\\\":[\\\"0.01\\\",\\\"0.02\\\",\\\"0.03\\\",\\\"0.04\\\",\\\"0.05\\\",\\\"0.06\\\",\\\"0.07\\\",\\\"0.08\\\",\\\"0.09\\\",\\\"0.1\\\",\\\"0.11\\\",\\\"0.12\\\",\\\"0.13\\\",\\\"0.14\\\",\\\"0.15\\\",\\\"0.16\\\",\\\"0.17\\\",\\\"0.18\\\",\\\"0.19\\\",\\\"0.2\\\",\\\"0.21\\\",\\\"0.22\\\",\\\"0.23\\\",\\\"0.24\\\",\\\"0.25\\\",\\\"0.26\\\",\\\"0.27\\\",\\\"0.28\\\",\\\"0.29\\\",\\\"0.3\\\",\\\"0.31\\\",\\\"0.32\\\",\\\"0.33\\\",\\\"0.34\\\",\\\"0.35\\\",\\\"0.36\\\",\\\"0.37\\\",\\\"0.38\\\",\\\"0.39\\\",\\\"0.4\\\",\\\"0.41\\\",\\\"0.42\\\",\\\"0.43\\\",\\\"0.44\\\",\\\"0.45\\\",\\\"0.46\\\",\\\"0.47\\\",\\\"0.48\\\",\\\"0.49\\\",\\\"0.5\\\",\\\"0.51\\\",\\\"0.52\\\",\\\"0.53\\\",\\\"0.54\\\",\\\"0.55\\\",\\\"0.56\\\",\\\"0.57\\\",\\\"0.58\\\",\\\"0.59\\\",\\\"0.6\\\",\\\"0.61\\\",\\\"0.62\\\",\\\"0.63\\\",\\\"0.64\\\",\\\"0.65\\\",\\\"0.66\\\",\\\"0.67\\\",\\\"0.68\\\",\\\"0.69\\\",\\\"0.7\\\",\\\"0.71\\\",\\\"0.72\\\",\\\"0.73\\\",\\\"0.74\\\",\\\"0.75\\\",\\\"0.76\\\",\\\"0.77\\\",\\\"0.78\\\",\\\"0.79\\\",\\\"0.8\\\",\\\"0.81\\\",\\\"0.82\\\",\\\"0.83\\\",\\\"0.84\\\",\\\"0.85\\\",\\\"0.86\\\",\\\"0.87\\\",\\\"0.88\\\",\\\"0.89\\\",\\\"0.9\\\",\\\"0.91\\\",\\\"0.92\\\",\\\"0.93\\\",\\\"0.94\\\",\\\"0.95\\\",\\\"0.96\\\",\\\"0.97\\\",\\\"0.98\\\",\\\"0.99\\\",\\\"1.0\\\"],\\\"changes\\\":WebIO.getval({\\\"name\\\":\\\"changes\\\",\\\"scope\\\":\\\"12562189183334581316\\\",\\\"id\\\":\\\"15690620883247491028\\\",\\\"type\\\":\\\"observable\\\"}),\\\"index\\\":WebIO.getval({\\\"name\\\":\\\"index\\\",\\\"scope\\\":\\\"12562189183334581316\\\",\\\"id\\\":\\\"15515386561086474340\\\",\\\"type\\\":\\\"observable\\\"})};\\n    var self = this;\\n    function AppViewModel() {\\n        for (var key in json_data) {\\n            var el = json_data[key];\\n            this[key] = Array.isArray(el) ? ko.observableArray(el) : ko.observable(el);\\n        }\\n        \\n        [this[\\\"formatted_val\\\"]=ko.computed(    function(){\\n        return this.formatted_vals()[parseInt(this.index())-(1)];\\n    }\\n,this)]\\n        [this[\\\"changes\\\"].subscribe((function (val){!(this.valueFromJulia[\\\"changes\\\"]) ? (WebIO.setval({\\\"name\\\":\\\"changes\\\",\\\"scope\\\":\\\"12562189183334581316\\\",\\\"id\\\":\\\"15690620883247491028\\\",\\\"type\\\":\\\"observable\\\"},val)) : undefined; return this.valueFromJulia[\\\"changes\\\"]=false}),self),this[\\\"index\\\"].subscribe((function (val){!(this.valueFromJulia[\\\"index\\\"]) ? (WebIO.setval({\\\"name\\\":\\\"index\\\",\\\"scope\\\":\\\"12562189183334581316\\\",\\\"id\\\":\\\"15515386561086474340\\\",\\\"type\\\":\\\"observable\\\"},val)) : undefined; return this.valueFromJulia[\\\"index\\\"]=false}),self)]\\n        \\n    }\\n    self.model = new AppViewModel();\\n    self.valueFromJulia = {};\\n    for (var key in json_data) {\\n        self.valueFromJulia[key] = false;\\n    }\\n    ko.applyBindings(self.model, self.dom);\\n}\\n);\\n    (WebIO.importBlock({\\\"data\\\":[{\\\"name\\\":\\\"knockout\\\",\\\"type\\\":\\\"js\\\",\\\"url\\\":\\\"\\/assetserver\\/727383f2a47bd31570b7da84eee7b022dd6d7c78-knockout.js\\\"},{\\\"name\\\":\\\"knockout_punches\\\",\\\"type\\\":\\\"js\\\",\\\"url\\\":\\\"\\/assetserver\\/382b41b3b1bd9f26f75861d360bad7f8beea211f-knockout_punches.js\\\"}],\\\"type\\\":\\\"async_block\\\"})).then((imports) => handler.apply(this, imports));\\n}\\n\"],\"observables\":{\"changes\":{\"sync\":false,\"id\":\"15690620883247491028\",\"value\":0},\"index\":{\"sync\":true,\"id\":\"15515386561086474340\",\"value\":50}}},\"children\":[{\"props\":{\"className\":\"interact-flex-row interact-widget\"},\"nodeType\":\"DOM\",\"type\":\"node\",\"instanceArgs\":{\"namespace\":\"html\",\"tag\":\"div\"},\"children\":[{\"props\":{\"className\":\"interact-flex-row-left\"},\"nodeType\":\"DOM\",\"type\":\"node\",\"instanceArgs\":{\"namespace\":\"html\",\"tag\":\"div\"},\"children\":[{\"props\":{\"className\":\"interact \",\"style\":{\"padding\":\"5px 10px 0px 10px\"}},\"nodeType\":\"DOM\",\"type\":\"node\",\"instanceArgs\":{\"namespace\":\"html\",\"tag\":\"label\"},\"children\":[\"sheep_birth_rate\"]}]},{\"props\":{\"className\":\"interact-flex-row-center\"},\"nodeType\":\"DOM\",\"type\":\"node\",\"instanceArgs\":{\"namespace\":\"html\",\"tag\":\"div\"},\"children\":[{\"props\":{\"max\":100,\"min\":1,\"attributes\":{\"type\":\"range\",\"data-bind\":\"numericValue: index, valueUpdate: 'input', event: {change: function (){this.changes(this.changes()+1)}}\",\"orient\":\"horizontal\"},\"step\":1,\"className\":\"slider slider is-fullwidth\",\"style\":{}},\"nodeType\":\"DOM\",\"type\":\"node\",\"instanceArgs\":{\"namespace\":\"html\",\"tag\":\"input\"},\"children\":[]}]},{\"props\":{\"className\":\"interact-flex-row-right\"},\"nodeType\":\"DOM\",\"type\":\"node\",\"instanceArgs\":{\"namespace\":\"html\",\"tag\":\"div\"},\"children\":[{\"props\":{\"attributes\":{\"data-bind\":\"text: formatted_val\"}},\"nodeType\":\"DOM\",\"type\":\"node\",\"instanceArgs\":{\"namespace\":\"html\",\"tag\":\"p\"},\"children\":[]}]}]}]}]},{\"props\":{\"className\":\"field interact-widget\"},\"nodeType\":\"DOM\",\"type\":\"node\",\"instanceArgs\":{\"namespace\":\"html\",\"tag\":\"div\"},\"children\":[{\"props\":{},\"nodeType\":\"Scope\",\"type\":\"node\",\"instanceArgs\":{\"imports\":{\"data\":[{\"name\":\"knockout\",\"type\":\"js\",\"url\":\"\\/assetserver\\/727383f2a47bd31570b7da84eee7b022dd6d7c78-knockout.js\"},{\"name\":\"knockout_punches\",\"type\":\"js\",\"url\":\"\\/assetserver\\/382b41b3b1bd9f26f75861d360bad7f8beea211f-knockout_punches.js\"},{\"name\":null,\"type\":\"js\",\"url\":\"\\/assetserver\\/5ab20f1060420992a9b82a65b735dee4d81ef413-all.js\"},{\"name\":null,\"type\":\"css\",\"url\":\"\\/assetserver\\/1cc0ed62837210b80a182cc3676512f895dab686-style.css\"},{\"name\":null,\"type\":\"css\",\"url\":\"\\/assetserver\\/2eee816f616df3549d7044d45e744fbf8d42bfa1-bulma_confined.min.css\"}],\"type\":\"async_block\"},\"id\":\"11651686859537973612\",\"handlers\":{\"changes\":[\"(function (val){return (val!=this.model[\\\"changes\\\"]()) ? (this.valueFromJulia[\\\"changes\\\"]=true, this.model[\\\"changes\\\"](val)) : undefined})\"],\"index\":[\"(function (val){return (val!=this.model[\\\"index\\\"]()) ? (this.valueFromJulia[\\\"index\\\"]=true, this.model[\\\"index\\\"](val)) : undefined})\"]},\"systemjs_options\":null,\"mount_callbacks\":[\"function () {\\n    var handler = (function (ko, koPunches) {\\n    ko.punches.enableAll();\\n    ko.bindingHandlers.numericValue = {\\n        init: function(element, valueAccessor, allBindings, data, context) {\\n            var stringified = ko.observable(ko.unwrap(valueAccessor()));\\n            stringified.subscribe(function(value) {\\n                var val = parseFloat(value);\\n                if (!isNaN(val)) {\\n                    valueAccessor()(val);\\n                }\\n            });\\n            valueAccessor().subscribe(function(value) {\\n                var str = JSON.stringify(value);\\n                if ((str == \\\"0\\\") && ([\\\"-0\\\", \\\"-0.\\\"].indexOf(stringified()) >= 0))\\n                     return;\\n                 if ([\\\"null\\\", \\\"\\\"].indexOf(str) >= 0)\\n                     return;\\n                stringified(str);\\n            });\\n            ko.applyBindingsToNode(\\n                element,\\n                {\\n                    value: stringified,\\n                    valueUpdate: allBindings.get('valueUpdate'),\\n                },\\n                context,\\n            );\\n        }\\n    };\\n    var json_data = {\\\"formatted_vals\\\":[\\\"0.01\\\",\\\"0.02\\\",\\\"0.03\\\",\\\"0.04\\\",\\\"0.05\\\",\\\"0.06\\\",\\\"0.07\\\",\\\"0.08\\\",\\\"0.09\\\",\\\"0.1\\\",\\\"0.11\\\",\\\"0.12\\\",\\\"0.13\\\",\\\"0.14\\\",\\\"0.15\\\",\\\"0.16\\\",\\\"0.17\\\",\\\"0.18\\\",\\\"0.19\\\",\\\"0.2\\\",\\\"0.21\\\",\\\"0.22\\\",\\\"0.23\\\",\\\"0.24\\\",\\\"0.25\\\",\\\"0.26\\\",\\\"0.27\\\",\\\"0.28\\\",\\\"0.29\\\",\\\"0.3\\\",\\\"0.31\\\",\\\"0.32\\\",\\\"0.33\\\",\\\"0.34\\\",\\\"0.35\\\",\\\"0.36\\\",\\\"0.37\\\",\\\"0.38\\\",\\\"0.39\\\",\\\"0.4\\\",\\\"0.41\\\",\\\"0.42\\\",\\\"0.43\\\",\\\"0.44\\\",\\\"0.45\\\",\\\"0.46\\\",\\\"0.47\\\",\\\"0.48\\\",\\\"0.49\\\",\\\"0.5\\\",\\\"0.51\\\",\\\"0.52\\\",\\\"0.53\\\",\\\"0.54\\\",\\\"0.55\\\",\\\"0.56\\\",\\\"0.57\\\",\\\"0.58\\\",\\\"0.59\\\",\\\"0.6\\\",\\\"0.61\\\",\\\"0.62\\\",\\\"0.63\\\",\\\"0.64\\\",\\\"0.65\\\",\\\"0.66\\\",\\\"0.67\\\",\\\"0.68\\\",\\\"0.69\\\",\\\"0.7\\\",\\\"0.71\\\",\\\"0.72\\\",\\\"0.73\\\",\\\"0.74\\\",\\\"0.75\\\",\\\"0.76\\\",\\\"0.77\\\",\\\"0.78\\\",\\\"0.79\\\",\\\"0.8\\\",\\\"0.81\\\",\\\"0.82\\\",\\\"0.83\\\",\\\"0.84\\\",\\\"0.85\\\",\\\"0.86\\\",\\\"0.87\\\",\\\"0.88\\\",\\\"0.89\\\",\\\"0.9\\\"],\\\"changes\\\":WebIO.getval({\\\"name\\\":\\\"changes\\\",\\\"scope\\\":\\\"11651686859537973612\\\",\\\"id\\\":\\\"16894187369308337083\\\",\\\"type\\\":\\\"observable\\\"}),\\\"index\\\":WebIO.getval({\\\"name\\\":\\\"index\\\",\\\"scope\\\":\\\"11651686859537973612\\\",\\\"id\\\":\\\"3126686312797812229\\\",\\\"type\\\":\\\"observable\\\"})};\\n    var self = this;\\n    function AppViewModel() {\\n        for (var key in json_data) {\\n            var el = json_data[key];\\n            this[key] = Array.isArray(el) ? ko.observableArray(el) : ko.observable(el);\\n        }\\n        \\n        [this[\\\"formatted_val\\\"]=ko.computed(    function(){\\n        return this.formatted_vals()[parseInt(this.index())-(1)];\\n    }\\n,this)]\\n        [this[\\\"changes\\\"].subscribe((function (val){!(this.valueFromJulia[\\\"changes\\\"]) ? (WebIO.setval({\\\"name\\\":\\\"changes\\\",\\\"scope\\\":\\\"11651686859537973612\\\",\\\"id\\\":\\\"16894187369308337083\\\",\\\"type\\\":\\\"observable\\\"},val)) : undefined; return this.valueFromJulia[\\\"changes\\\"]=false}),self),this[\\\"index\\\"].subscribe((function (val){!(this.valueFromJulia[\\\"index\\\"]) ? (WebIO.setval({\\\"name\\\":\\\"index\\\",\\\"scope\\\":\\\"11651686859537973612\\\",\\\"id\\\":\\\"3126686312797812229\\\",\\\"type\\\":\\\"observable\\\"},val)) : undefined; return this.valueFromJulia[\\\"index\\\"]=false}),self)]\\n        \\n    }\\n    self.model = new AppViewModel();\\n    self.valueFromJulia = {};\\n    for (var key in json_data) {\\n        self.valueFromJulia[key] = false;\\n    }\\n    ko.applyBindings(self.model, self.dom);\\n}\\n);\\n    (WebIO.importBlock({\\\"data\\\":[{\\\"name\\\":\\\"knockout\\\",\\\"type\\\":\\\"js\\\",\\\"url\\\":\\\"\\/assetserver\\/727383f2a47bd31570b7da84eee7b022dd6d7c78-knockout.js\\\"},{\\\"name\\\":\\\"knockout_punches\\\",\\\"type\\\":\\\"js\\\",\\\"url\\\":\\\"\\/assetserver\\/382b41b3b1bd9f26f75861d360bad7f8beea211f-knockout_punches.js\\\"}],\\\"type\\\":\\\"async_block\\\"})).then((imports) => handler.apply(this, imports));\\n}\\n\"],\"observables\":{\"changes\":{\"sync\":false,\"id\":\"16894187369308337083\",\"value\":0},\"index\":{\"sync\":true,\"id\":\"3126686312797812229\",\"value\":45}}},\"children\":[{\"props\":{\"className\":\"interact-flex-row interact-widget\"},\"nodeType\":\"DOM\",\"type\":\"node\",\"instanceArgs\":{\"namespace\":\"html\",\"tag\":\"div\"},\"children\":[{\"props\":{\"className\":\"interact-flex-row-left\"},\"nodeType\":\"DOM\",\"type\":\"node\",\"instanceArgs\":{\"namespace\":\"html\",\"tag\":\"div\"},\"children\":[{\"props\":{\"className\":\"interact \",\"style\":{\"padding\":\"5px 10px 0px 10px\"}},\"nodeType\":\"DOM\",\"type\":\"node\",\"instanceArgs\":{\"namespace\":\"html\",\"tag\":\"label\"},\"children\":[\"initial_wolf_percent\"]}]},{\"props\":{\"className\":\"interact-flex-row-center\"},\"nodeType\":\"DOM\",\"type\":\"node\",\"instanceArgs\":{\"namespace\":\"html\",\"tag\":\"div\"},\"children\":[{\"props\":{\"max\":90,\"min\":1,\"attributes\":{\"type\":\"range\",\"data-bind\":\"numericValue: index, valueUpdate: 'input', event: {change: function (){this.changes(this.changes()+1)}}\",\"orient\":\"horizontal\"},\"step\":1,\"className\":\"slider slider is-fullwidth\",\"style\":{}},\"nodeType\":\"DOM\",\"type\":\"node\",\"instanceArgs\":{\"namespace\":\"html\",\"tag\":\"input\"},\"children\":[]}]},{\"props\":{\"className\":\"interact-flex-row-right\"},\"nodeType\":\"DOM\",\"type\":\"node\",\"instanceArgs\":{\"namespace\":\"html\",\"tag\":\"div\"},\"children\":[{\"props\":{\"attributes\":{\"data-bind\":\"text: formatted_val\"}},\"nodeType\":\"DOM\",\"type\":\"node\",\"instanceArgs\":{\"namespace\":\"html\",\"tag\":\"p\"},\"children\":[]}]}]}]}]},{\"props\":{\"className\":\"field interact-widget\"},\"nodeType\":\"DOM\",\"type\":\"node\",\"instanceArgs\":{\"namespace\":\"html\",\"tag\":\"div\"},\"children\":[{\"props\":{},\"nodeType\":\"Scope\",\"type\":\"node\",\"instanceArgs\":{\"imports\":{\"data\":[{\"name\":\"knockout\",\"type\":\"js\",\"url\":\"\\/assetserver\\/727383f2a47bd31570b7da84eee7b022dd6d7c78-knockout.js\"},{\"name\":\"knockout_punches\",\"type\":\"js\",\"url\":\"\\/assetserver\\/382b41b3b1bd9f26f75861d360bad7f8beea211f-knockout_punches.js\"},{\"name\":null,\"type\":\"js\",\"url\":\"\\/assetserver\\/5ab20f1060420992a9b82a65b735dee4d81ef413-all.js\"},{\"name\":null,\"type\":\"css\",\"url\":\"\\/assetserver\\/1cc0ed62837210b80a182cc3676512f895dab686-style.css\"},{\"name\":null,\"type\":\"css\",\"url\":\"\\/assetserver\\/2eee816f616df3549d7044d45e744fbf8d42bfa1-bulma_confined.min.css\"}],\"type\":\"async_block\"},\"id\":\"11133379032173082782\",\"handlers\":{\"changes\":[\"(function (val){return (val!=this.model[\\\"changes\\\"]()) ? (this.valueFromJulia[\\\"changes\\\"]=true, this.model[\\\"changes\\\"](val)) : undefined})\"],\"index\":[\"(function (val){return (val!=this.model[\\\"index\\\"]()) ? (this.valueFromJulia[\\\"index\\\"]=true, this.model[\\\"index\\\"](val)) : undefined})\"]},\"systemjs_options\":null,\"mount_callbacks\":[\"function () {\\n    var handler = (function (ko, koPunches) {\\n    ko.punches.enableAll();\\n    ko.bindingHandlers.numericValue = {\\n        init: function(element, valueAccessor, allBindings, data, context) {\\n            var stringified = ko.observable(ko.unwrap(valueAccessor()));\\n            stringified.subscribe(function(value) {\\n                var val = parseFloat(value);\\n                if (!isNaN(val)) {\\n                    valueAccessor()(val);\\n                }\\n            });\\n            valueAccessor().subscribe(function(value) {\\n                var str = JSON.stringify(value);\\n                if ((str == \\\"0\\\") && ([\\\"-0\\\", \\\"-0.\\\"].indexOf(stringified()) >= 0))\\n                     return;\\n                 if ([\\\"null\\\", \\\"\\\"].indexOf(str) >= 0)\\n                     return;\\n                stringified(str);\\n            });\\n            ko.applyBindingsToNode(\\n                element,\\n                {\\n                    value: stringified,\\n                    valueUpdate: allBindings.get('valueUpdate'),\\n                },\\n                context,\\n            );\\n        }\\n    };\\n    var json_data = {\\\"formatted_vals\\\":[\\\"0.01\\\",\\\"0.02\\\",\\\"0.03\\\",\\\"0.04\\\",\\\"0.05\\\",\\\"0.06\\\",\\\"0.07\\\",\\\"0.08\\\",\\\"0.09\\\",\\\"0.1\\\",\\\"0.11\\\",\\\"0.12\\\",\\\"0.13\\\",\\\"0.14\\\",\\\"0.15\\\",\\\"0.16\\\",\\\"0.17\\\",\\\"0.18\\\",\\\"0.19\\\",\\\"0.2\\\",\\\"0.21\\\",\\\"0.22\\\",\\\"0.23\\\",\\\"0.24\\\",\\\"0.25\\\",\\\"0.26\\\",\\\"0.27\\\",\\\"0.28\\\",\\\"0.29\\\",\\\"0.3\\\",\\\"0.31\\\",\\\"0.32\\\",\\\"0.33\\\",\\\"0.34\\\",\\\"0.35\\\",\\\"0.36\\\",\\\"0.37\\\",\\\"0.38\\\",\\\"0.39\\\",\\\"0.4\\\",\\\"0.41\\\",\\\"0.42\\\",\\\"0.43\\\",\\\"0.44\\\",\\\"0.45\\\",\\\"0.46\\\",\\\"0.47\\\",\\\"0.48\\\",\\\"0.49\\\",\\\"0.5\\\",\\\"0.51\\\",\\\"0.52\\\",\\\"0.53\\\",\\\"0.54\\\",\\\"0.55\\\",\\\"0.56\\\",\\\"0.57\\\",\\\"0.58\\\",\\\"0.59\\\",\\\"0.6\\\",\\\"0.61\\\",\\\"0.62\\\",\\\"0.63\\\",\\\"0.64\\\",\\\"0.65\\\",\\\"0.66\\\",\\\"0.67\\\",\\\"0.68\\\",\\\"0.69\\\",\\\"0.7\\\",\\\"0.71\\\",\\\"0.72\\\",\\\"0.73\\\",\\\"0.74\\\",\\\"0.75\\\",\\\"0.76\\\",\\\"0.77\\\",\\\"0.78\\\",\\\"0.79\\\",\\\"0.8\\\",\\\"0.81\\\",\\\"0.82\\\",\\\"0.83\\\",\\\"0.84\\\",\\\"0.85\\\",\\\"0.86\\\",\\\"0.87\\\",\\\"0.88\\\",\\\"0.89\\\",\\\"0.9\\\",\\\"0.91\\\",\\\"0.92\\\",\\\"0.93\\\",\\\"0.94\\\",\\\"0.95\\\",\\\"0.96\\\",\\\"0.97\\\",\\\"0.98\\\",\\\"0.99\\\",\\\"1.0\\\"],\\\"changes\\\":WebIO.getval({\\\"name\\\":\\\"changes\\\",\\\"scope\\\":\\\"11133379032173082782\\\",\\\"id\\\":\\\"5931897068364222564\\\",\\\"type\\\":\\\"observable\\\"}),\\\"index\\\":WebIO.getval({\\\"name\\\":\\\"index\\\",\\\"scope\\\":\\\"11133379032173082782\\\",\\\"id\\\":\\\"9572246545534945531\\\",\\\"type\\\":\\\"observable\\\"})};\\n    var self = this;\\n    function AppViewModel() {\\n        for (var key in json_data) {\\n            var el = json_data[key];\\n            this[key] = Array.isArray(el) ? ko.observableArray(el) : ko.observable(el);\\n        }\\n        \\n        [this[\\\"formatted_val\\\"]=ko.computed(    function(){\\n        return this.formatted_vals()[parseInt(this.index())-(1)];\\n    }\\n,this)]\\n        [this[\\\"changes\\\"].subscribe((function (val){!(this.valueFromJulia[\\\"changes\\\"]) ? (WebIO.setval({\\\"name\\\":\\\"changes\\\",\\\"scope\\\":\\\"11133379032173082782\\\",\\\"id\\\":\\\"5931897068364222564\\\",\\\"type\\\":\\\"observable\\\"},val)) : undefined; return this.valueFromJulia[\\\"changes\\\"]=false}),self),this[\\\"index\\\"].subscribe((function (val){!(this.valueFromJulia[\\\"index\\\"]) ? (WebIO.setval({\\\"name\\\":\\\"index\\\",\\\"scope\\\":\\\"11133379032173082782\\\",\\\"id\\\":\\\"9572246545534945531\\\",\\\"type\\\":\\\"observable\\\"},val)) : undefined; return this.valueFromJulia[\\\"index\\\"]=false}),self)]\\n        \\n    }\\n    self.model = new AppViewModel();\\n    self.valueFromJulia = {};\\n    for (var key in json_data) {\\n        self.valueFromJulia[key] = false;\\n    }\\n    ko.applyBindings(self.model, self.dom);\\n}\\n);\\n    (WebIO.importBlock({\\\"data\\\":[{\\\"name\\\":\\\"knockout\\\",\\\"type\\\":\\\"js\\\",\\\"url\\\":\\\"\\/assetserver\\/727383f2a47bd31570b7da84eee7b022dd6d7c78-knockout.js\\\"},{\\\"name\\\":\\\"knockout_punches\\\",\\\"type\\\":\\\"js\\\",\\\"url\\\":\\\"\\/assetserver\\/382b41b3b1bd9f26f75861d360bad7f8beea211f-knockout_punches.js\\\"}],\\\"type\\\":\\\"async_block\\\"})).then((imports) => handler.apply(this, imports));\\n}\\n\"],\"observables\":{\"changes\":{\"sync\":false,\"id\":\"5931897068364222564\",\"value\":0},\"index\":{\"sync\":true,\"id\":\"9572246545534945531\",\"value\":50}}},\"children\":[{\"props\":{\"className\":\"interact-flex-row interact-widget\"},\"nodeType\":\"DOM\",\"type\":\"node\",\"instanceArgs\":{\"namespace\":\"html\",\"tag\":\"div\"},\"children\":[{\"props\":{\"className\":\"interact-flex-row-left\"},\"nodeType\":\"DOM\",\"type\":\"node\",\"instanceArgs\":{\"namespace\":\"html\",\"tag\":\"div\"},\"children\":[{\"props\":{\"className\":\"interact \",\"style\":{\"padding\":\"5px 10px 0px 10px\"}},\"nodeType\":\"DOM\",\"type\":\"node\",\"instanceArgs\":{\"namespace\":\"html\",\"tag\":\"label\"},\"children\":[\"wolves_kill_ability\"]}]},{\"props\":{\"className\":\"interact-flex-row-center\"},\"nodeType\":\"DOM\",\"type\":\"node\",\"instanceArgs\":{\"namespace\":\"html\",\"tag\":\"div\"},\"children\":[{\"props\":{\"max\":100,\"min\":1,\"attributes\":{\"type\":\"range\",\"data-bind\":\"numericValue: index, valueUpdate: 'input', event: {change: function (){this.changes(this.changes()+1)}}\",\"orient\":\"horizontal\"},\"step\":1,\"className\":\"slider slider is-fullwidth\",\"style\":{}},\"nodeType\":\"DOM\",\"type\":\"node\",\"instanceArgs\":{\"namespace\":\"html\",\"tag\":\"input\"},\"children\":[]}]},{\"props\":{\"className\":\"interact-flex-row-right\"},\"nodeType\":\"DOM\",\"type\":\"node\",\"instanceArgs\":{\"namespace\":\"html\",\"tag\":\"div\"},\"children\":[{\"props\":{\"attributes\":{\"data-bind\":\"text: formatted_val\"}},\"nodeType\":\"DOM\",\"type\":\"node\",\"instanceArgs\":{\"namespace\":\"html\",\"tag\":\"p\"},\"children\":[]}]}]}]}]},{\"props\":{\"className\":\"field interact-widget\"},\"nodeType\":\"DOM\",\"type\":\"node\",\"instanceArgs\":{\"namespace\":\"html\",\"tag\":\"div\"},\"children\":[{\"props\":{},\"nodeType\":\"Scope\",\"type\":\"node\",\"instanceArgs\":{\"imports\":{\"data\":[{\"name\":\"knockout\",\"type\":\"js\",\"url\":\"\\/assetserver\\/727383f2a47bd31570b7da84eee7b022dd6d7c78-knockout.js\"},{\"name\":\"knockout_punches\",\"type\":\"js\",\"url\":\"\\/assetserver\\/382b41b3b1bd9f26f75861d360bad7f8beea211f-knockout_punches.js\"},{\"name\":null,\"type\":\"js\",\"url\":\"\\/assetserver\\/5ab20f1060420992a9b82a65b735dee4d81ef413-all.js\"},{\"name\":null,\"type\":\"css\",\"url\":\"\\/assetserver\\/1cc0ed62837210b80a182cc3676512f895dab686-style.css\"},{\"name\":null,\"type\":\"css\",\"url\":\"\\/assetserver\\/2eee816f616df3549d7044d45e744fbf8d42bfa1-bulma_confined.min.css\"}],\"type\":\"async_block\"},\"id\":\"263644731038271837\",\"handlers\":{\"changes\":[\"(function (val){return (val!=this.model[\\\"changes\\\"]()) ? (this.valueFromJulia[\\\"changes\\\"]=true, this.model[\\\"changes\\\"](val)) : undefined})\"],\"index\":[\"(function (val){return (val!=this.model[\\\"index\\\"]()) ? (this.valueFromJulia[\\\"index\\\"]=true, this.model[\\\"index\\\"](val)) : undefined})\"]},\"systemjs_options\":null,\"mount_callbacks\":[\"function () {\\n    var handler = (function (ko, koPunches) {\\n    ko.punches.enableAll();\\n    ko.bindingHandlers.numericValue = {\\n        init: function(element, valueAccessor, allBindings, data, context) {\\n            var stringified = ko.observable(ko.unwrap(valueAccessor()));\\n            stringified.subscribe(function(value) {\\n                var val = parseFloat(value);\\n                if (!isNaN(val)) {\\n                    valueAccessor()(val);\\n                }\\n            });\\n            valueAccessor().subscribe(function(value) {\\n                var str = JSON.stringify(value);\\n                if ((str == \\\"0\\\") && ([\\\"-0\\\", \\\"-0.\\\"].indexOf(stringified()) >= 0))\\n                     return;\\n                 if ([\\\"null\\\", \\\"\\\"].indexOf(str) >= 0)\\n                     return;\\n                stringified(str);\\n            });\\n            ko.applyBindingsToNode(\\n                element,\\n                {\\n                    value: stringified,\\n                    valueUpdate: allBindings.get('valueUpdate'),\\n                },\\n                context,\\n            );\\n        }\\n    };\\n    var json_data = {\\\"formatted_vals\\\":[\\\"0.01\\\",\\\"0.02\\\",\\\"0.03\\\",\\\"0.04\\\",\\\"0.05\\\",\\\"0.06\\\",\\\"0.07\\\",\\\"0.08\\\",\\\"0.09\\\",\\\"0.1\\\",\\\"0.11\\\",\\\"0.12\\\",\\\"0.13\\\",\\\"0.14\\\",\\\"0.15\\\",\\\"0.16\\\",\\\"0.17\\\",\\\"0.18\\\",\\\"0.19\\\",\\\"0.2\\\",\\\"0.21\\\",\\\"0.22\\\",\\\"0.23\\\",\\\"0.24\\\",\\\"0.25\\\",\\\"0.26\\\",\\\"0.27\\\",\\\"0.28\\\",\\\"0.29\\\",\\\"0.3\\\",\\\"0.31\\\",\\\"0.32\\\",\\\"0.33\\\",\\\"0.34\\\",\\\"0.35\\\",\\\"0.36\\\",\\\"0.37\\\",\\\"0.38\\\",\\\"0.39\\\",\\\"0.4\\\",\\\"0.41\\\",\\\"0.42\\\",\\\"0.43\\\",\\\"0.44\\\",\\\"0.45\\\",\\\"0.46\\\",\\\"0.47\\\",\\\"0.48\\\",\\\"0.49\\\",\\\"0.5\\\"],\\\"changes\\\":WebIO.getval({\\\"name\\\":\\\"changes\\\",\\\"scope\\\":\\\"263644731038271837\\\",\\\"id\\\":\\\"15855702879814363263\\\",\\\"type\\\":\\\"observable\\\"}),\\\"index\\\":WebIO.getval({\\\"name\\\":\\\"index\\\",\\\"scope\\\":\\\"263644731038271837\\\",\\\"id\\\":\\\"14129342717855967576\\\",\\\"type\\\":\\\"observable\\\"})};\\n    var self = this;\\n    function AppViewModel() {\\n        for (var key in json_data) {\\n            var el = json_data[key];\\n            this[key] = Array.isArray(el) ? ko.observableArray(el) : ko.observable(el);\\n        }\\n        \\n        [this[\\\"formatted_val\\\"]=ko.computed(    function(){\\n        return this.formatted_vals()[parseInt(this.index())-(1)];\\n    }\\n,this)]\\n        [this[\\\"changes\\\"].subscribe((function (val){!(this.valueFromJulia[\\\"changes\\\"]) ? (WebIO.setval({\\\"name\\\":\\\"changes\\\",\\\"scope\\\":\\\"263644731038271837\\\",\\\"id\\\":\\\"15855702879814363263\\\",\\\"type\\\":\\\"observable\\\"},val)) : undefined; return this.valueFromJulia[\\\"changes\\\"]=false}),self),this[\\\"index\\\"].subscribe((function (val){!(this.valueFromJulia[\\\"index\\\"]) ? (WebIO.setval({\\\"name\\\":\\\"index\\\",\\\"scope\\\":\\\"263644731038271837\\\",\\\"id\\\":\\\"14129342717855967576\\\",\\\"type\\\":\\\"observable\\\"},val)) : undefined; return this.valueFromJulia[\\\"index\\\"]=false}),self)]\\n        \\n    }\\n    self.model = new AppViewModel();\\n    self.valueFromJulia = {};\\n    for (var key in json_data) {\\n        self.valueFromJulia[key] = false;\\n    }\\n    ko.applyBindings(self.model, self.dom);\\n}\\n);\\n    (WebIO.importBlock({\\\"data\\\":[{\\\"name\\\":\\\"knockout\\\",\\\"type\\\":\\\"js\\\",\\\"url\\\":\\\"\\/assetserver\\/727383f2a47bd31570b7da84eee7b022dd6d7c78-knockout.js\\\"},{\\\"name\\\":\\\"knockout_punches\\\",\\\"type\\\":\\\"js\\\",\\\"url\\\":\\\"\\/assetserver\\/382b41b3b1bd9f26f75861d360bad7f8beea211f-knockout_punches.js\\\"}],\\\"type\\\":\\\"async_block\\\"})).then((imports) => handler.apply(this, imports));\\n}\\n\"],\"observables\":{\"changes\":{\"sync\":false,\"id\":\"15855702879814363263\",\"value\":0},\"index\":{\"sync\":true,\"id\":\"14129342717855967576\",\"value\":25}}},\"children\":[{\"props\":{\"className\":\"interact-flex-row interact-widget\"},\"nodeType\":\"DOM\",\"type\":\"node\",\"instanceArgs\":{\"namespace\":\"html\",\"tag\":\"div\"},\"children\":[{\"props\":{\"className\":\"interact-flex-row-left\"},\"nodeType\":\"DOM\",\"type\":\"node\",\"instanceArgs\":{\"namespace\":\"html\",\"tag\":\"div\"},\"children\":[{\"props\":{\"className\":\"interact \",\"style\":{\"padding\":\"5px 10px 0px 10px\"}},\"nodeType\":\"DOM\",\"type\":\"node\",\"instanceArgs\":{\"namespace\":\"html\",\"tag\":\"label\"},\"children\":[\"grass_grow_prob\"]}]},{\"props\":{\"className\":\"interact-flex-row-center\"},\"nodeType\":\"DOM\",\"type\":\"node\",\"instanceArgs\":{\"namespace\":\"html\",\"tag\":\"div\"},\"children\":[{\"props\":{\"max\":50,\"min\":1,\"attributes\":{\"type\":\"range\",\"data-bind\":\"numericValue: index, valueUpdate: 'input', event: {change: function (){this.changes(this.changes()+1)}}\",\"orient\":\"horizontal\"},\"step\":1,\"className\":\"slider slider is-fullwidth\",\"style\":{}},\"nodeType\":\"DOM\",\"type\":\"node\",\"instanceArgs\":{\"namespace\":\"html\",\"tag\":\"input\"},\"children\":[]}]},{\"props\":{\"className\":\"interact-flex-row-right\"},\"nodeType\":\"DOM\",\"type\":\"node\",\"instanceArgs\":{\"namespace\":\"html\",\"tag\":\"div\"},\"children\":[{\"props\":{\"attributes\":{\"data-bind\":\"text: formatted_val\"}},\"nodeType\":\"DOM\",\"type\":\"node\",\"instanceArgs\":{\"namespace\":\"html\",\"tag\":\"p\"},\"children\":[]}]}]}]}]}]},{\"props\":{\"style\":{\"display\":\"flex\",\"flex-direction\":\"row\"}},\"nodeType\":\"DOM\",\"type\":\"node\",\"instanceArgs\":{\"namespace\":\"html\",\"tag\":\"div\"},\"children\":[{\"props\":{\"className\":\"interact-widget\"},\"nodeType\":\"DOM\",\"type\":\"node\",\"instanceArgs\":{\"namespace\":\"html\",\"tag\":\"div\"},\"children\":[{\"props\":{},\"nodeType\":\"Scope\",\"type\":\"node\",\"instanceArgs\":{\"imports\":{\"data\":[{\"name\":null,\"type\":\"js\",\"url\":\"\\/assetserver\\/dd22ed1bf1896c2748f3fe616ce0b838adc895c1-katex.min.js\"},{\"name\":null,\"type\":\"css\",\"url\":\"\\/assetserver\\/46517a424aa5e6cffc1360d7e0848b601c584ee3-katex.min.css\"}],\"type\":\"async_block\"},\"id\":\"1971325206088893161\",\"handlers\":{\"value\":[\"(function (txt){return this.k.render(txt,this.container)})\"]},\"systemjs_options\":null,\"mount_callbacks\":[\"function () {\\n    var handler = ((function (k){this.k=k; this.container=this.dom.querySelector(\\\"#container\\\"); return k.render(\\\"\\\\\\\\;\\\\\\\\;\\\",this.container)}));\\n    (WebIO.importBlock({\\\"data\\\":[{\\\"name\\\":null,\\\"type\\\":\\\"js\\\",\\\"url\\\":\\\"\\/assetserver\\/dd22ed1bf1896c2748f3fe616ce0b838adc895c1-katex.min.js\\\"},{\\\"name\\\":null,\\\"type\\\":\\\"css\\\",\\\"url\\\":\\\"\\/assetserver\\/46517a424aa5e6cffc1360d7e0848b601c584ee3-katex.min.css\\\"}],\\\"type\\\":\\\"async_block\\\"})).then((imports) => handler.apply(this, imports));\\n}\\n\"],\"observables\":{\"value\":{\"sync\":false,\"id\":\"10117169926611714706\",\"value\":\"\\\\;\\\\;\"}}},\"children\":[{\"props\":{\"id\":\"container\"},\"nodeType\":\"DOM\",\"type\":\"node\",\"instanceArgs\":{\"namespace\":\"html\",\"tag\":\"div\"},\"children\":[]}]}]},{\"props\":{\"className\":\"field interact-widget\"},\"nodeType\":\"DOM\",\"type\":\"node\",\"instanceArgs\":{\"namespace\":\"html\",\"tag\":\"div\"},\"children\":[{\"props\":{},\"nodeType\":\"Scope\",\"type\":\"node\",\"instanceArgs\":{\"imports\":{\"data\":[{\"name\":\"knockout\",\"type\":\"js\",\"url\":\"\\/assetserver\\/727383f2a47bd31570b7da84eee7b022dd6d7c78-knockout.js\"},{\"name\":\"knockout_punches\",\"type\":\"js\",\"url\":\"\\/assetserver\\/382b41b3b1bd9f26f75861d360bad7f8beea211f-knockout_punches.js\"},{\"name\":null,\"type\":\"js\",\"url\":\"\\/assetserver\\/5ab20f1060420992a9b82a65b735dee4d81ef413-all.js\"},{\"name\":null,\"type\":\"css\",\"url\":\"\\/assetserver\\/1cc0ed62837210b80a182cc3676512f895dab686-style.css\"},{\"name\":null,\"type\":\"css\",\"url\":\"\\/assetserver\\/2eee816f616df3549d7044d45e744fbf8d42bfa1-bulma_confined.min.css\"}],\"type\":\"async_block\"},\"id\":\"8701165738090376689\",\"handlers\":{\"loading\":[\"(function (val){return (val!=this.model[\\\"loading\\\"]()) ? (this.valueFromJulia[\\\"loading\\\"]=true, this.model[\\\"loading\\\"](val)) : undefined})\"],\"clicks\":[\"(function (val){return (val!=this.model[\\\"clicks\\\"]()) ? (this.valueFromJulia[\\\"clicks\\\"]=true, this.model[\\\"clicks\\\"](val)) : undefined})\"]},\"systemjs_options\":null,\"mount_callbacks\":[\"function () {\\n    var handler = (function (ko, koPunches) {\\n    ko.punches.enableAll();\\n    ko.bindingHandlers.numericValue = {\\n        init: function(element, valueAccessor, allBindings, data, context) {\\n            var stringified = ko.observable(ko.unwrap(valueAccessor()));\\n            stringified.subscribe(function(value) {\\n                var val = parseFloat(value);\\n                if (!isNaN(val)) {\\n                    valueAccessor()(val);\\n                }\\n            });\\n            valueAccessor().subscribe(function(value) {\\n                var str = JSON.stringify(value);\\n                if ((str == \\\"0\\\") && ([\\\"-0\\\", \\\"-0.\\\"].indexOf(stringified()) >= 0))\\n                     return;\\n                 if ([\\\"null\\\", \\\"\\\"].indexOf(str) >= 0)\\n                     return;\\n                stringified(str);\\n            });\\n            ko.applyBindingsToNode(\\n                element,\\n                {\\n                    value: stringified,\\n                    valueUpdate: allBindings.get('valueUpdate'),\\n                },\\n                context,\\n            );\\n        }\\n    };\\n    var json_data = {\\\"loading\\\":WebIO.getval({\\\"name\\\":\\\"loading\\\",\\\"scope\\\":\\\"8701165738090376689\\\",\\\"id\\\":\\\"6332379702002335304\\\",\\\"type\\\":\\\"observable\\\"}),\\\"clicks\\\":WebIO.getval({\\\"name\\\":\\\"clicks\\\",\\\"scope\\\":\\\"8701165738090376689\\\",\\\"id\\\":\\\"16830195446793079458\\\",\\\"type\\\":\\\"observable\\\"})};\\n    var self = this;\\n    function AppViewModel() {\\n        for (var key in json_data) {\\n            var el = json_data[key];\\n            this[key] = Array.isArray(el) ? ko.observableArray(el) : ko.observable(el);\\n        }\\n        \\n        \\n        [this[\\\"loading\\\"].subscribe((function (val){!(this.valueFromJulia[\\\"loading\\\"]) ? (WebIO.setval({\\\"name\\\":\\\"loading\\\",\\\"scope\\\":\\\"8701165738090376689\\\",\\\"id\\\":\\\"6332379702002335304\\\",\\\"type\\\":\\\"observable\\\"},val)) : undefined; return this.valueFromJulia[\\\"loading\\\"]=false}),self),this[\\\"clicks\\\"].subscribe((function (val){!(this.valueFromJulia[\\\"clicks\\\"]) ? (WebIO.setval({\\\"name\\\":\\\"clicks\\\",\\\"scope\\\":\\\"8701165738090376689\\\",\\\"id\\\":\\\"16830195446793079458\\\",\\\"type\\\":\\\"observable\\\"},val)) : undefined; return this.valueFromJulia[\\\"clicks\\\"]=false}),self)]\\n        \\n    }\\n    self.model = new AppViewModel();\\n    self.valueFromJulia = {};\\n    for (var key in json_data) {\\n        self.valueFromJulia[key] = false;\\n    }\\n    ko.applyBindings(self.model, self.dom);\\n}\\n);\\n    (WebIO.importBlock({\\\"data\\\":[{\\\"name\\\":\\\"knockout\\\",\\\"type\\\":\\\"js\\\",\\\"url\\\":\\\"\\/assetserver\\/727383f2a47bd31570b7da84eee7b022dd6d7c78-knockout.js\\\"},{\\\"name\\\":\\\"knockout_punches\\\",\\\"type\\\":\\\"js\\\",\\\"url\\\":\\\"\\/assetserver\\/382b41b3b1bd9f26f75861d360bad7f8beea211f-knockout_punches.js\\\"}],\\\"type\\\":\\\"async_block\\\"})).then((imports) => handler.apply(this, imports));\\n}\\n\"],\"observables\":{\"loading\":{\"sync\":false,\"id\":\"6332379702002335304\",\"value\":false},\"clicks\":{\"sync\":true,\"id\":\"16830195446793079458\",\"value\":0}}},\"children\":[{\"props\":{\"attributes\":{\"data-bind\":\"click: function (){this.clicks(this.clicks()+1)}, css: {'is-loading' : loading}\"},\"className\":\"is-medium button is-primary\",\"style\":{}},\"nodeType\":\"DOM\",\"type\":\"node\",\"instanceArgs\":{\"namespace\":\"html\",\"tag\":\"button\"},\"children\":[\"run\"]}]}]},{\"props\":{\"className\":\"interact-widget\"},\"nodeType\":\"DOM\",\"type\":\"node\",\"instanceArgs\":{\"namespace\":\"html\",\"tag\":\"div\"},\"children\":[{\"props\":{},\"nodeType\":\"Scope\",\"type\":\"node\",\"instanceArgs\":{\"imports\":{\"data\":[{\"name\":null,\"type\":\"js\",\"url\":\"\\/assetserver\\/dd22ed1bf1896c2748f3fe616ce0b838adc895c1-katex.min.js\"},{\"name\":null,\"type\":\"css\",\"url\":\"\\/assetserver\\/46517a424aa5e6cffc1360d7e0848b601c584ee3-katex.min.css\"}],\"type\":\"async_block\"},\"id\":\"1971325206088893161\",\"handlers\":{\"value\":[\"(function (txt){return this.k.render(txt,this.container)})\"]},\"systemjs_options\":null,\"mount_callbacks\":[\"function () {\\n    var handler = ((function (k){this.k=k; this.container=this.dom.querySelector(\\\"#container\\\"); return k.render(\\\"\\\\\\\\;\\\\\\\\;\\\",this.container)}));\\n    (WebIO.importBlock({\\\"data\\\":[{\\\"name\\\":null,\\\"type\\\":\\\"js\\\",\\\"url\\\":\\\"\\/assetserver\\/dd22ed1bf1896c2748f3fe616ce0b838adc895c1-katex.min.js\\\"},{\\\"name\\\":null,\\\"type\\\":\\\"css\\\",\\\"url\\\":\\\"\\/assetserver\\/46517a424aa5e6cffc1360d7e0848b601c584ee3-katex.min.css\\\"}],\\\"type\\\":\\\"async_block\\\"})).then((imports) => handler.apply(this, imports));\\n}\\n\"],\"observables\":{\"value\":{\"sync\":false,\"id\":\"10117169926611714706\",\"value\":\"\\\\;\\\\;\"}}},\"children\":[{\"props\":{\"id\":\"container\"},\"nodeType\":\"DOM\",\"type\":\"node\",\"instanceArgs\":{\"namespace\":\"html\",\"tag\":\"div\"},\"children\":[]}]}]},{\"props\":{\"className\":\"field interact-widget\"},\"nodeType\":\"DOM\",\"type\":\"node\",\"instanceArgs\":{\"namespace\":\"html\",\"tag\":\"div\"},\"children\":[{\"props\":{},\"nodeType\":\"Scope\",\"type\":\"node\",\"instanceArgs\":{\"imports\":{\"data\":[{\"name\":\"knockout\",\"type\":\"js\",\"url\":\"\\/assetserver\\/727383f2a47bd31570b7da84eee7b022dd6d7c78-knockout.js\"},{\"name\":\"knockout_punches\",\"type\":\"js\",\"url\":\"\\/assetserver\\/382b41b3b1bd9f26f75861d360bad7f8beea211f-knockout_punches.js\"},{\"name\":null,\"type\":\"js\",\"url\":\"\\/assetserver\\/5ab20f1060420992a9b82a65b735dee4d81ef413-all.js\"},{\"name\":null,\"type\":\"css\",\"url\":\"\\/assetserver\\/1cc0ed62837210b80a182cc3676512f895dab686-style.css\"},{\"name\":null,\"type\":\"css\",\"url\":\"\\/assetserver\\/2eee816f616df3549d7044d45e744fbf8d42bfa1-bulma_confined.min.css\"}],\"type\":\"async_block\"},\"id\":\"6791602698063755910\",\"handlers\":{\"loading\":[\"(function (val){return (val!=this.model[\\\"loading\\\"]()) ? (this.valueFromJulia[\\\"loading\\\"]=true, this.model[\\\"loading\\\"](val)) : undefined})\"],\"clicks\":[\"(function (val){return (val!=this.model[\\\"clicks\\\"]()) ? (this.valueFromJulia[\\\"clicks\\\"]=true, this.model[\\\"clicks\\\"](val)) : undefined})\"]},\"systemjs_options\":null,\"mount_callbacks\":[\"function () {\\n    var handler = (function (ko, koPunches) {\\n    ko.punches.enableAll();\\n    ko.bindingHandlers.numericValue = {\\n        init: function(element, valueAccessor, allBindings, data, context) {\\n            var stringified = ko.observable(ko.unwrap(valueAccessor()));\\n            stringified.subscribe(function(value) {\\n                var val = parseFloat(value);\\n                if (!isNaN(val)) {\\n                    valueAccessor()(val);\\n                }\\n            });\\n            valueAccessor().subscribe(function(value) {\\n                var str = JSON.stringify(value);\\n                if ((str == \\\"0\\\") && ([\\\"-0\\\", \\\"-0.\\\"].indexOf(stringified()) >= 0))\\n                     return;\\n                 if ([\\\"null\\\", \\\"\\\"].indexOf(str) >= 0)\\n                     return;\\n                stringified(str);\\n            });\\n            ko.applyBindingsToNode(\\n                element,\\n                {\\n                    value: stringified,\\n                    valueUpdate: allBindings.get('valueUpdate'),\\n                },\\n                context,\\n            );\\n        }\\n    };\\n    var json_data = {\\\"loading\\\":WebIO.getval({\\\"name\\\":\\\"loading\\\",\\\"scope\\\":\\\"6791602698063755910\\\",\\\"id\\\":\\\"17837286398174282232\\\",\\\"type\\\":\\\"observable\\\"}),\\\"clicks\\\":WebIO.getval({\\\"name\\\":\\\"clicks\\\",\\\"scope\\\":\\\"6791602698063755910\\\",\\\"id\\\":\\\"5219247083923321911\\\",\\\"type\\\":\\\"observable\\\"})};\\n    var self = this;\\n    function AppViewModel() {\\n        for (var key in json_data) {\\n            var el = json_data[key];\\n            this[key] = Array.isArray(el) ? ko.observableArray(el) : ko.observable(el);\\n        }\\n        \\n        \\n        [this[\\\"loading\\\"].subscribe((function (val){!(this.valueFromJulia[\\\"loading\\\"]) ? (WebIO.setval({\\\"name\\\":\\\"loading\\\",\\\"scope\\\":\\\"6791602698063755910\\\",\\\"id\\\":\\\"17837286398174282232\\\",\\\"type\\\":\\\"observable\\\"},val)) : undefined; return this.valueFromJulia[\\\"loading\\\"]=false}),self),this[\\\"clicks\\\"].subscribe((function (val){!(this.valueFromJulia[\\\"clicks\\\"]) ? (WebIO.setval({\\\"name\\\":\\\"clicks\\\",\\\"scope\\\":\\\"6791602698063755910\\\",\\\"id\\\":\\\"5219247083923321911\\\",\\\"type\\\":\\\"observable\\\"},val)) : undefined; return this.valueFromJulia[\\\"clicks\\\"]=false}),self)]\\n        \\n    }\\n    self.model = new AppViewModel();\\n    self.valueFromJulia = {};\\n    for (var key in json_data) {\\n        self.valueFromJulia[key] = false;\\n    }\\n    ko.applyBindings(self.model, self.dom);\\n}\\n);\\n    (WebIO.importBlock({\\\"data\\\":[{\\\"name\\\":\\\"knockout\\\",\\\"type\\\":\\\"js\\\",\\\"url\\\":\\\"\\/assetserver\\/727383f2a47bd31570b7da84eee7b022dd6d7c78-knockout.js\\\"},{\\\"name\\\":\\\"knockout_punches\\\",\\\"type\\\":\\\"js\\\",\\\"url\\\":\\\"\\/assetserver\\/382b41b3b1bd9f26f75861d360bad7f8beea211f-knockout_punches.js\\\"}],\\\"type\\\":\\\"async_block\\\"})).then((imports) => handler.apply(this, imports));\\n}\\n\"],\"observables\":{\"loading\":{\"sync\":false,\"id\":\"17837286398174282232\",\"value\":false},\"clicks\":{\"sync\":true,\"id\":\"5219247083923321911\",\"value\":0}}},\"children\":[{\"props\":{\"attributes\":{\"data-bind\":\"click: function (){this.clicks(this.clicks()+1)}, css: {'is-loading' : loading}\"},\"className\":\"is-medium button is-primary\",\"style\":{}},\"nodeType\":\"DOM\",\"type\":\"node\",\"instanceArgs\":{\"namespace\":\"html\",\"tag\":\"button\"},\"children\":[\"stop\"]}]}]},{\"props\":{\"className\":\"interact-widget\"},\"nodeType\":\"DOM\",\"type\":\"node\",\"instanceArgs\":{\"namespace\":\"html\",\"tag\":\"div\"},\"children\":[{\"props\":{},\"nodeType\":\"Scope\",\"type\":\"node\",\"instanceArgs\":{\"imports\":{\"data\":[{\"name\":null,\"type\":\"js\",\"url\":\"\\/assetserver\\/dd22ed1bf1896c2748f3fe616ce0b838adc895c1-katex.min.js\"},{\"name\":null,\"type\":\"css\",\"url\":\"\\/assetserver\\/46517a424aa5e6cffc1360d7e0848b601c584ee3-katex.min.css\"}],\"type\":\"async_block\"},\"id\":\"1971325206088893161\",\"handlers\":{\"value\":[\"(function (txt){return this.k.render(txt,this.container)})\"]},\"systemjs_options\":null,\"mount_callbacks\":[\"function () {\\n    var handler = ((function (k){this.k=k; this.container=this.dom.querySelector(\\\"#container\\\"); return k.render(\\\"\\\\\\\\;\\\\\\\\;\\\",this.container)}));\\n    (WebIO.importBlock({\\\"data\\\":[{\\\"name\\\":null,\\\"type\\\":\\\"js\\\",\\\"url\\\":\\\"\\/assetserver\\/dd22ed1bf1896c2748f3fe616ce0b838adc895c1-katex.min.js\\\"},{\\\"name\\\":null,\\\"type\\\":\\\"css\\\",\\\"url\\\":\\\"\\/assetserver\\/46517a424aa5e6cffc1360d7e0848b601c584ee3-katex.min.css\\\"}],\\\"type\\\":\\\"async_block\\\"})).then((imports) => handler.apply(this, imports));\\n}\\n\"],\"observables\":{\"value\":{\"sync\":false,\"id\":\"10117169926611714706\",\"value\":\"\\\\;\\\\;\"}}},\"children\":[{\"props\":{\"id\":\"container\"},\"nodeType\":\"DOM\",\"type\":\"node\",\"instanceArgs\":{\"namespace\":\"html\",\"tag\":\"div\"},\"children\":[]}]}]},{\"props\":{\"className\":\"field interact-widget\"},\"nodeType\":\"DOM\",\"type\":\"node\",\"instanceArgs\":{\"namespace\":\"html\",\"tag\":\"div\"},\"children\":[{\"props\":{},\"nodeType\":\"Scope\",\"type\":\"node\",\"instanceArgs\":{\"imports\":{\"data\":[{\"name\":\"knockout\",\"type\":\"js\",\"url\":\"\\/assetserver\\/727383f2a47bd31570b7da84eee7b022dd6d7c78-knockout.js\"},{\"name\":\"knockout_punches\",\"type\":\"js\",\"url\":\"\\/assetserver\\/382b41b3b1bd9f26f75861d360bad7f8beea211f-knockout_punches.js\"},{\"name\":null,\"type\":\"js\",\"url\":\"\\/assetserver\\/5ab20f1060420992a9b82a65b735dee4d81ef413-all.js\"},{\"name\":null,\"type\":\"css\",\"url\":\"\\/assetserver\\/1cc0ed62837210b80a182cc3676512f895dab686-style.css\"},{\"name\":null,\"type\":\"css\",\"url\":\"\\/assetserver\\/2eee816f616df3549d7044d45e744fbf8d42bfa1-bulma_confined.min.css\"}],\"type\":\"async_block\"},\"id\":\"7646059207613493820\",\"handlers\":{\"loading\":[\"(function (val){return (val!=this.model[\\\"loading\\\"]()) ? (this.valueFromJulia[\\\"loading\\\"]=true, this.model[\\\"loading\\\"](val)) : undefined})\"],\"clicks\":[\"(function (val){return (val!=this.model[\\\"clicks\\\"]()) ? (this.valueFromJulia[\\\"clicks\\\"]=true, this.model[\\\"clicks\\\"](val)) : undefined})\"]},\"systemjs_options\":null,\"mount_callbacks\":[\"function () {\\n    var handler = (function (ko, koPunches) {\\n    ko.punches.enableAll();\\n    ko.bindingHandlers.numericValue = {\\n        init: function(element, valueAccessor, allBindings, data, context) {\\n            var stringified = ko.observable(ko.unwrap(valueAccessor()));\\n            stringified.subscribe(function(value) {\\n                var val = parseFloat(value);\\n                if (!isNaN(val)) {\\n                    valueAccessor()(val);\\n                }\\n            });\\n            valueAccessor().subscribe(function(value) {\\n                var str = JSON.stringify(value);\\n                if ((str == \\\"0\\\") && ([\\\"-0\\\", \\\"-0.\\\"].indexOf(stringified()) >= 0))\\n                     return;\\n                 if ([\\\"null\\\", \\\"\\\"].indexOf(str) >= 0)\\n                     return;\\n                stringified(str);\\n            });\\n            ko.applyBindingsToNode(\\n                element,\\n                {\\n                    value: stringified,\\n                    valueUpdate: allBindings.get('valueUpdate'),\\n                },\\n                context,\\n            );\\n        }\\n    };\\n    var json_data = {\\\"loading\\\":WebIO.getval({\\\"name\\\":\\\"loading\\\",\\\"scope\\\":\\\"7646059207613493820\\\",\\\"id\\\":\\\"4541641570840055789\\\",\\\"type\\\":\\\"observable\\\"}),\\\"clicks\\\":WebIO.getval({\\\"name\\\":\\\"clicks\\\",\\\"scope\\\":\\\"7646059207613493820\\\",\\\"id\\\":\\\"1079128400140210872\\\",\\\"type\\\":\\\"observable\\\"})};\\n    var self = this;\\n    function AppViewModel() {\\n        for (var key in json_data) {\\n            var el = json_data[key];\\n            this[key] = Array.isArray(el) ? ko.observableArray(el) : ko.observable(el);\\n        }\\n        \\n        \\n        [this[\\\"loading\\\"].subscribe((function (val){!(this.valueFromJulia[\\\"loading\\\"]) ? (WebIO.setval({\\\"name\\\":\\\"loading\\\",\\\"scope\\\":\\\"7646059207613493820\\\",\\\"id\\\":\\\"4541641570840055789\\\",\\\"type\\\":\\\"observable\\\"},val)) : undefined; return this.valueFromJulia[\\\"loading\\\"]=false}),self),this[\\\"clicks\\\"].subscribe((function (val){!(this.valueFromJulia[\\\"clicks\\\"]) ? (WebIO.setval({\\\"name\\\":\\\"clicks\\\",\\\"scope\\\":\\\"7646059207613493820\\\",\\\"id\\\":\\\"1079128400140210872\\\",\\\"type\\\":\\\"observable\\\"},val)) : undefined; return this.valueFromJulia[\\\"clicks\\\"]=false}),self)]\\n        \\n    }\\n    self.model = new AppViewModel();\\n    self.valueFromJulia = {};\\n    for (var key in json_data) {\\n        self.valueFromJulia[key] = false;\\n    }\\n    ko.applyBindings(self.model, self.dom);\\n}\\n);\\n    (WebIO.importBlock({\\\"data\\\":[{\\\"name\\\":\\\"knockout\\\",\\\"type\\\":\\\"js\\\",\\\"url\\\":\\\"\\/assetserver\\/727383f2a47bd31570b7da84eee7b022dd6d7c78-knockout.js\\\"},{\\\"name\\\":\\\"knockout_punches\\\",\\\"type\\\":\\\"js\\\",\\\"url\\\":\\\"\\/assetserver\\/382b41b3b1bd9f26f75861d360bad7f8beea211f-knockout_punches.js\\\"}],\\\"type\\\":\\\"async_block\\\"})).then((imports) => handler.apply(this, imports));\\n}\\n\"],\"observables\":{\"loading\":{\"sync\":false,\"id\":\"4541641570840055789\",\"value\":false},\"clicks\":{\"sync\":true,\"id\":\"1079128400140210872\",\"value\":0}}},\"children\":[{\"props\":{\"attributes\":{\"data-bind\":\"click: function (){this.clicks(this.clicks()+1)}, css: {'is-loading' : loading}\"},\"className\":\"is-medium button is-primary\",\"style\":{}},\"nodeType\":\"DOM\",\"type\":\"node\",\"instanceArgs\":{\"namespace\":\"html\",\"tag\":\"button\"},\"children\":[\"reset\"]}]}]},{\"props\":{\"className\":\"interact-widget\"},\"nodeType\":\"DOM\",\"type\":\"node\",\"instanceArgs\":{\"namespace\":\"html\",\"tag\":\"div\"},\"children\":[{\"props\":{},\"nodeType\":\"Scope\",\"type\":\"node\",\"instanceArgs\":{\"imports\":{\"data\":[{\"name\":null,\"type\":\"js\",\"url\":\"\\/assetserver\\/dd22ed1bf1896c2748f3fe616ce0b838adc895c1-katex.min.js\"},{\"name\":null,\"type\":\"css\",\"url\":\"\\/assetserver\\/46517a424aa5e6cffc1360d7e0848b601c584ee3-katex.min.css\"}],\"type\":\"async_block\"},\"id\":\"1971325206088893161\",\"handlers\":{\"value\":[\"(function (txt){return this.k.render(txt,this.container)})\"]},\"systemjs_options\":null,\"mount_callbacks\":[\"function () {\\n    var handler = ((function (k){this.k=k; this.container=this.dom.querySelector(\\\"#container\\\"); return k.render(\\\"\\\\\\\\;\\\\\\\\;\\\",this.container)}));\\n    (WebIO.importBlock({\\\"data\\\":[{\\\"name\\\":null,\\\"type\\\":\\\"js\\\",\\\"url\\\":\\\"\\/assetserver\\/dd22ed1bf1896c2748f3fe616ce0b838adc895c1-katex.min.js\\\"},{\\\"name\\\":null,\\\"type\\\":\\\"css\\\",\\\"url\\\":\\\"\\/assetserver\\/46517a424aa5e6cffc1360d7e0848b601c584ee3-katex.min.css\\\"}],\\\"type\\\":\\\"async_block\\\"})).then((imports) => handler.apply(this, imports));\\n}\\n\"],\"observables\":{\"value\":{\"sync\":false,\"id\":\"10117169926611714706\",\"value\":\"\\\\;\\\\;\"}}},\"children\":[{\"props\":{\"id\":\"container\"},\"nodeType\":\"DOM\",\"type\":\"node\",\"instanceArgs\":{\"namespace\":\"html\",\"tag\":\"div\"},\"children\":[]}]}]},{\"props\":{\"className\":\"field interact-widget\"},\"nodeType\":\"DOM\",\"type\":\"node\",\"instanceArgs\":{\"namespace\":\"html\",\"tag\":\"div\"},\"children\":[{\"props\":{},\"nodeType\":\"Scope\",\"type\":\"node\",\"instanceArgs\":{\"imports\":{\"data\":[{\"name\":\"knockout\",\"type\":\"js\",\"url\":\"\\/assetserver\\/727383f2a47bd31570b7da84eee7b022dd6d7c78-knockout.js\"},{\"name\":\"knockout_punches\",\"type\":\"js\",\"url\":\"\\/assetserver\\/382b41b3b1bd9f26f75861d360bad7f8beea211f-knockout_punches.js\"},{\"name\":null,\"type\":\"js\",\"url\":\"\\/assetserver\\/5ab20f1060420992a9b82a65b735dee4d81ef413-all.js\"},{\"name\":null,\"type\":\"css\",\"url\":\"\\/assetserver\\/1cc0ed62837210b80a182cc3676512f895dab686-style.css\"},{\"name\":null,\"type\":\"css\",\"url\":\"\\/assetserver\\/2eee816f616df3549d7044d45e744fbf8d42bfa1-bulma_confined.min.css\"}],\"type\":\"async_block\"},\"id\":\"3382160687278584483\",\"handlers\":{\"loading\":[\"(function (val){return (val!=this.model[\\\"loading\\\"]()) ? (this.valueFromJulia[\\\"loading\\\"]=true, this.model[\\\"loading\\\"](val)) : undefined})\"],\"clicks\":[\"(function (val){return (val!=this.model[\\\"clicks\\\"]()) ? (this.valueFromJulia[\\\"clicks\\\"]=true, this.model[\\\"clicks\\\"](val)) : undefined})\"]},\"systemjs_options\":null,\"mount_callbacks\":[\"function () {\\n    var handler = (function (ko, koPunches) {\\n    ko.punches.enableAll();\\n    ko.bindingHandlers.numericValue = {\\n        init: function(element, valueAccessor, allBindings, data, context) {\\n            var stringified = ko.observable(ko.unwrap(valueAccessor()));\\n            stringified.subscribe(function(value) {\\n                var val = parseFloat(value);\\n                if (!isNaN(val)) {\\n                    valueAccessor()(val);\\n                }\\n            });\\n            valueAccessor().subscribe(function(value) {\\n                var str = JSON.stringify(value);\\n                if ((str == \\\"0\\\") && ([\\\"-0\\\", \\\"-0.\\\"].indexOf(stringified()) >= 0))\\n                     return;\\n                 if ([\\\"null\\\", \\\"\\\"].indexOf(str) >= 0)\\n                     return;\\n                stringified(str);\\n            });\\n            ko.applyBindingsToNode(\\n                element,\\n                {\\n                    value: stringified,\\n                    valueUpdate: allBindings.get('valueUpdate'),\\n                },\\n                context,\\n            );\\n        }\\n    };\\n    var json_data = {\\\"loading\\\":WebIO.getval({\\\"name\\\":\\\"loading\\\",\\\"scope\\\":\\\"3382160687278584483\\\",\\\"id\\\":\\\"17649001871565514085\\\",\\\"type\\\":\\\"observable\\\"}),\\\"clicks\\\":WebIO.getval({\\\"name\\\":\\\"clicks\\\",\\\"scope\\\":\\\"3382160687278584483\\\",\\\"id\\\":\\\"7908730948519011581\\\",\\\"type\\\":\\\"observable\\\"})};\\n    var self = this;\\n    function AppViewModel() {\\n        for (var key in json_data) {\\n            var el = json_data[key];\\n            this[key] = Array.isArray(el) ? ko.observableArray(el) : ko.observable(el);\\n        }\\n        \\n        \\n        [this[\\\"loading\\\"].subscribe((function (val){!(this.valueFromJulia[\\\"loading\\\"]) ? (WebIO.setval({\\\"name\\\":\\\"loading\\\",\\\"scope\\\":\\\"3382160687278584483\\\",\\\"id\\\":\\\"17649001871565514085\\\",\\\"type\\\":\\\"observable\\\"},val)) : undefined; return this.valueFromJulia[\\\"loading\\\"]=false}),self),this[\\\"clicks\\\"].subscribe((function (val){!(this.valueFromJulia[\\\"clicks\\\"]) ? (WebIO.setval({\\\"name\\\":\\\"clicks\\\",\\\"scope\\\":\\\"3382160687278584483\\\",\\\"id\\\":\\\"7908730948519011581\\\",\\\"type\\\":\\\"observable\\\"},val)) : undefined; return this.valueFromJulia[\\\"clicks\\\"]=false}),self)]\\n        \\n    }\\n    self.model = new AppViewModel();\\n    self.valueFromJulia = {};\\n    for (var key in json_data) {\\n        self.valueFromJulia[key] = false;\\n    }\\n    ko.applyBindings(self.model, self.dom);\\n}\\n);\\n    (WebIO.importBlock({\\\"data\\\":[{\\\"name\\\":\\\"knockout\\\",\\\"type\\\":\\\"js\\\",\\\"url\\\":\\\"\\/assetserver\\/727383f2a47bd31570b7da84eee7b022dd6d7c78-knockout.js\\\"},{\\\"name\\\":\\\"knockout_punches\\\",\\\"type\\\":\\\"js\\\",\\\"url\\\":\\\"\\/assetserver\\/382b41b3b1bd9f26f75861d360bad7f8beea211f-knockout_punches.js\\\"}],\\\"type\\\":\\\"async_block\\\"})).then((imports) => handler.apply(this, imports));\\n}\\n\"],\"observables\":{\"loading\":{\"sync\":false,\"id\":\"17649001871565514085\",\"value\":false},\"clicks\":{\"sync\":true,\"id\":\"7908730948519011581\",\"value\":0}}},\"children\":[{\"props\":{\"attributes\":{\"data-bind\":\"click: function (){this.clicks(this.clicks()+1)}, css: {'is-loading' : loading}\"},\"className\":\"is-medium button is-primary\",\"style\":{}},\"nodeType\":\"DOM\",\"type\":\"node\",\"instanceArgs\":{\"namespace\":\"html\",\"tag\":\"button\"},\"children\":[\"save\"]}]}]}]}]},{\"props\":{\"className\":\"interact-widget\"},\"nodeType\":\"DOM\",\"type\":\"node\",\"instanceArgs\":{\"namespace\":\"html\",\"tag\":\"div\"},\"children\":[{\"props\":{},\"nodeType\":\"Scope\",\"type\":\"node\",\"instanceArgs\":{\"imports\":{\"data\":[{\"name\":null,\"type\":\"js\",\"url\":\"\\/assetserver\\/dd22ed1bf1896c2748f3fe616ce0b838adc895c1-katex.min.js\"},{\"name\":null,\"type\":\"css\",\"url\":\"\\/assetserver\\/46517a424aa5e6cffc1360d7e0848b601c584ee3-katex.min.css\"}],\"type\":\"async_block\"},\"id\":\"1971325206088893161\",\"handlers\":{\"value\":[\"(function (txt){return this.k.render(txt,this.container)})\"]},\"systemjs_options\":null,\"mount_callbacks\":[\"function () {\\n    var handler = ((function (k){this.k=k; this.container=this.dom.querySelector(\\\"#container\\\"); return k.render(\\\"\\\\\\\\;\\\\\\\\;\\\",this.container)}));\\n    (WebIO.importBlock({\\\"data\\\":[{\\\"name\\\":null,\\\"type\\\":\\\"js\\\",\\\"url\\\":\\\"\\/assetserver\\/dd22ed1bf1896c2748f3fe616ce0b838adc895c1-katex.min.js\\\"},{\\\"name\\\":null,\\\"type\\\":\\\"css\\\",\\\"url\\\":\\\"\\/assetserver\\/46517a424aa5e6cffc1360d7e0848b601c584ee3-katex.min.css\\\"}],\\\"type\\\":\\\"async_block\\\"})).then((imports) => handler.apply(this, imports));\\n}\\n\"],\"observables\":{\"value\":{\"sync\":false,\"id\":\"10117169926611714706\",\"value\":\"\\\\;\\\\;\"}}},\"children\":[{\"props\":{\"id\":\"container\"},\"nodeType\":\"DOM\",\"type\":\"node\",\"instanceArgs\":{\"namespace\":\"html\",\"tag\":\"div\"},\"children\":[]}]}]},{\"props\":{},\"nodeType\":\"Scope\",\"type\":\"node\",\"instanceArgs\":{\"imports\":{\"data\":[],\"type\":\"async_block\"},\"id\":\"8160789333661402929\",\"handlers\":{\"obs-output\":[\"function (value, scope) {\\n    scope.setInnerHTML(value);\\n}\\n\"]},\"systemjs_options\":null,\"mount_callbacks\":[],\"observables\":{\"obs-output\":{\"sync\":false,\"id\":\"6775030878031344043\",\"value\":\"<img src='data:image\\/png;base64,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'><\\/img>\"}}},\"children\":[{\"props\":{\"className\":\"webio-observable\",\"setInnerHtml\":\"<img src='data:image\\/png;base64,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'><\\/img>\"},\"nodeType\":\"DOM\",\"type\":\"node\",\"instanceArgs\":{\"namespace\":\"html\",\"tag\":\"div\"},\"children\":[]}]},{\"props\":{\"className\":\"interact-widget\"},\"nodeType\":\"DOM\",\"type\":\"node\",\"instanceArgs\":{\"namespace\":\"html\",\"tag\":\"div\"},\"children\":[{\"props\":{},\"nodeType\":\"Scope\",\"type\":\"node\",\"instanceArgs\":{\"imports\":{\"data\":[{\"name\":null,\"type\":\"js\",\"url\":\"\\/assetserver\\/dd22ed1bf1896c2748f3fe616ce0b838adc895c1-katex.min.js\"},{\"name\":null,\"type\":\"css\",\"url\":\"\\/assetserver\\/46517a424aa5e6cffc1360d7e0848b601c584ee3-katex.min.css\"}],\"type\":\"async_block\"},\"id\":\"1971325206088893161\",\"handlers\":{\"value\":[\"(function (txt){return this.k.render(txt,this.container)})\"]},\"systemjs_options\":null,\"mount_callbacks\":[\"function () {\\n    var handler = ((function (k){this.k=k; this.container=this.dom.querySelector(\\\"#container\\\"); return k.render(\\\"\\\\\\\\;\\\\\\\\;\\\",this.container)}));\\n    (WebIO.importBlock({\\\"data\\\":[{\\\"name\\\":null,\\\"type\\\":\\\"js\\\",\\\"url\\\":\\\"\\/assetserver\\/dd22ed1bf1896c2748f3fe616ce0b838adc895c1-katex.min.js\\\"},{\\\"name\\\":null,\\\"type\\\":\\\"css\\\",\\\"url\\\":\\\"\\/assetserver\\/46517a424aa5e6cffc1360d7e0848b601c584ee3-katex.min.css\\\"}],\\\"type\\\":\\\"async_block\\\"})).then((imports) => handler.apply(this, imports));\\n}\\n\"],\"observables\":{\"value\":{\"sync\":false,\"id\":\"10117169926611714706\",\"value\":\"\\\\;\\\\;\"}}},\"children\":[{\"props\":{\"id\":\"container\"},\"nodeType\":\"DOM\",\"type\":\"node\",\"instanceArgs\":{\"namespace\":\"html\",\"tag\":\"div\"},\"children\":[]}]}]},{\"props\":{\"style\":{\"display\":\"flex\",\"flex-direction\":\"column\"}},\"nodeType\":\"DOM\",\"type\":\"node\",\"instanceArgs\":{\"namespace\":\"html\",\"tag\":\"div\"},\"children\":[{\"props\":{},\"nodeType\":\"Scope\",\"type\":\"node\",\"instanceArgs\":{\"imports\":{\"data\":[],\"type\":\"async_block\"},\"id\":\"18253329517335464269\",\"handlers\":{\"obs-output\":[\"function (value, scope) {\\n    scope.setInnerHTML(value);\\n}\\n\"]},\"systemjs_options\":null,\"mount_callbacks\":[],\"observables\":{\"obs-output\":{\"sync\":false,\"id\":\"7166269810637852754\",\"value\":\"<img src=\\\"data:image\\/png;base64,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\\\" \\/>\"}}},\"children\":[{\"props\":{\"className\":\"webio-observable\",\"setInnerHtml\":\"<img src=\\\"data:image\\/png;base64,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\\\" \\/>\"},\"nodeType\":\"DOM\",\"type\":\"node\",\"instanceArgs\":{\"namespace\":\"html\",\"tag\":\"div\"},\"children\":[]}]}]}]}]},\n",
       "        window,\n",
       "    );\n",
       "    })()\n",
       "    </script>\n",
       "</div>\n"
      ],
      "text/plain": [
       "WebIO.Node{WebIO.DOM}(WebIO.DOM(:html, :div), Any[WebIO.Node{WebIO.DOM}(WebIO.DOM(:html, :div), Any[WebIO.Node{WebIO.DOM}(WebIO.DOM(:html, :div), Any[WebIO.Node{WebIO.DOM}(WebIO.DOM(:html, :div), Any[WebIO.Scope(WebIO.Node{WebIO.DOM}(WebIO.DOM(:html, :div), Any[WebIO.Node{WebIO.DOM}(WebIO.DOM(:html, :div), Any[WebIO.Node{WebIO.DOM}(WebIO.DOM(:html, :label), Any[\"time\"], Dict{Symbol, Any}(:className => \"interact \", :style => Dict{Any, Any}(:padding => \"5px 10px 0px 10px\")))], Dict{Symbol, Any}(:className => \"interact-flex-row-left\")), WebIO.Node{WebIO.DOM}(WebIO.DOM(:html, :div), Any[WebIO.Node{WebIO.DOM}(WebIO.DOM(:html, :input), Any[], Dict{Symbol, Any}(:max => 200, :min => 1, :attributes => Dict{Any, Any}(:type => \"range\", Symbol(\"data-bind\") => \"numericValue: index, valueUpdate: 'input', event: {change: function (){this.changes(this.changes()+1)}}\", \"orient\" => \"horizontal\"), :step => 1, :className => \"slider slider is-fullwidth\", :style => Dict{Any, Any}()))], Dict{Symbol, Any}(:className => \"interact-flex-row-center\")), WebIO.Node{WebIO.DOM}(WebIO.DOM(:html, :div), Any[WebIO.Node{WebIO.DOM}(WebIO.DOM(:html, :p), Any[], Dict{Symbol, Any}(:attributes => Dict(\"data-bind\" => \"text: formatted_val\")))], Dict{Symbol, Any}(:className => \"interact-flex-row-right\"))], Dict{Symbol, Any}(:className => \"interact-flex-row interact-widget\")), Dict{String, Tuple{Observables.AbstractObservable, Union{Nothing, Bool}}}(\"changes\" => (Observable(0), nothing), \"index\" => (Observable(1), nothing)), Set{String}(), nothing, WebIO.Asset[WebIO.Asset(\"js\", \"knockout\", \"/home/dushya/.julia/packages/Knockout/HReiN/src/../assets/knockout.js\"), WebIO.Asset(\"js\", \"knockout_punches\", \"/home/dushya/.julia/packages/Knockout/HReiN/src/../assets/knockout_punches.js\"), WebIO.Asset(\"js\", nothing, \"/home/dushya/.julia/packages/InteractBase/LJXv3/src/../assets/all.js\"), WebIO.Asset(\"css\", nothing, \"/home/dushya/.julia/packages/InteractBase/LJXv3/src/../assets/style.css\"), WebIO.Asset(\"css\", nothing, \"/home/dushya/.julia/packages/Interact/PENUy/src/../assets/bulma_confined.min.css\")], Dict{Any, Any}(\"changes\" => Any[WebIO.JSString(\"(function (val){return (val!=this.model[\\\"changes\\\"]()) ? (this.valueFromJulia[\\\"changes\\\"]=true, this.model[\\\"changes\\\"](val)) : undefined})\")], \"index\" => Any[WebIO.JSString(\"(function (val){return (val!=this.model[\\\"index\\\"]()) ? (this.valueFromJulia[\\\"index\\\"]=true, this.model[\\\"index\\\"](val)) : undefined})\")]), WebIO.ConnectionPool(Channel{Any}(32), Set{WebIO.AbstractConnection}(), Base.GenericCondition{ReentrantLock}(Base.IntrusiveLinkedList{Task}(Task (runnable) @0x00007fb4b769f850, Task (runnable) @0x00007fb4b769f850), ReentrantLock(nothing, 0x00000000, 0x00, Base.GenericCondition{Base.Threads.SpinLock}(Base.IntrusiveLinkedList{Task}(nothing, nothing), Base.Threads.SpinLock(0)), (8, 0, 141733920768)))), WebIO.JSString[WebIO.JSString(\"function () {\\n    var handler = (function (ko, koPunches) {\\n    ko.punches.enableAll();\\n    ko.bindingHandlers.numericValue = {\\n        init: function(element, valueAccessor, allBindings, data, context) {\\n            var stringified = ko.observable(ko.unwrap(valueAccessor()));\\n            stringified.subscribe(function(value) {\\n                var val = parseFloat(value);\\n                if (!isNaN(val)) {\\n                    valueAccessor()(val);\\n                }\\n            });\\n            valueAccessor().subscribe(function(value) {\\n                var str = JSON.stringify(value);\\n                if ((str == \\\"0\\\") && ([\\\"-0\\\", \\\"-0.\\\"].indexOf(stringified()) >= 0))\\n                     return;\\n                 if ([\\\"null\\\", \\\"\\\"].indexOf(str) >= 0)\\n                     return;\\n                stringified(str);\\n            });\\n            ko.applyBindingsToNode(\\n                element,\\n                {\\n                    value: stringified,\\n                    valueUpdate: allBindings.get('valueUpdate'),\\n                },\\n                context,\\n            );\\n        }\\n    };\\n    var json_data = {\\\"formatted_vals\\\":[\\\"1\\\",\\\"2\\\",\\\"3\\\",\\\"4\\\",\\\"5\\\",\\\"6\\\",\\\"7\\\",\\\"8\\\",\\\"9\\\",\\\"10\\\",\\\"11\\\",\\\"12\\\",\\\"13\\\",\\\"14\\\",\\\"15\\\",\\\"16\\\",\\\"17\\\",\\\"18\\\",\\\"19\\\",\\\"20\\\",\\\"21\\\",\\\"22\\\",\\\"23\\\",\\\"24\\\",\\\"25\\\",\\\"26\\\",\\\"27\\\",\\\"28\\\",\\\"29\\\",\\\"30\\\",\\\"31\\\",\\\"32\\\",\\\"33\\\",\\\"34\\\",\\\"35\\\",\\\"36\\\",\\\"37\\\",\\\"38\\\",\\\"39\\\",\\\"40\\\",\\\"41\\\",\\\"42\\\",\\\"43\\\",\\\"44\\\",\\\"45\\\",\\\"46\\\",\\\"47\\\",\\\"48\\\",\\\"49\\\",\\\"50\\\",\\\"51\\\",\\\"52\\\",\\\"53\\\",\\\"54\\\",\\\"55\\\",\\\"56\\\",\\\"57\\\",\\\"58\\\",\\\"59\\\",\\\"60\\\",\\\"61\\\",\\\"62\\\",\\\"63\\\",\\\"64\\\",\\\"65\\\",\\\"66\\\",\\\"67\\\",\\\"68\\\",\\\"69\\\",\\\"70\\\",\\\"71\\\",\\\"72\\\",\\\"73\\\",\\\"74\\\",\\\"75\\\",\\\"76\\\",\\\"77\\\",\\\"78\\\",\\\"79\\\",\\\"80\\\",\\\"81\\\",\\\"82\\\",\\\"83\\\",\\\"84\\\",\\\"85\\\",\\\"86\\\",\\\"87\\\",\\\"88\\\",\\\"89\\\",\\\"90\\\",\\\"91\\\",\\\"92\\\",\\\"93\\\",\\\"94\\\",\\\"95\\\",\\\"96\\\",\\\"97\\\",\\\"98\\\",\\\"99\\\",\\\"100\\\",\\\"101\\\",\\\"102\\\",\\\"103\\\",\\\"104\\\",\\\"105\\\",\\\"106\\\",\\\"107\\\",\\\"108\\\",\\\"109\\\",\\\"110\\\",\\\"111\\\",\\\"112\\\",\\\"113\\\",\\\"114\\\",\\\"115\\\",\\\"116\\\",\\\"117\\\",\\\"118\\\",\\\"119\\\",\\\"120\\\",\\\"121\\\",\\\"122\\\",\\\"123\\\",\\\"124\\\",\\\"125\\\",\\\"126\\\",\\\"127\\\",\\\"128\\\",\\\"129\\\",\\\"130\\\",\\\"131\\\",\\\"132\\\",\\\"133\\\",\\\"134\\\",\\\"135\\\",\\\"136\\\",\\\"137\\\",\\\"138\\\",\\\"139\\\",\\\"140\\\",\\\"141\\\",\\\"142\\\",\\\"143\\\",\\\"144\\\",\\\"145\\\",\\\"146\\\",\\\"147\\\",\\\"148\\\",\\\"149\\\",\\\"150\\\",\\\"151\\\",\\\"152\\\",\\\"153\\\",\\\"154\\\",\\\"155\\\",\\\"156\\\",\\\"157\\\",\\\"158\\\",\\\"159\\\",\\\"160\\\",\\\"161\\\",\\\"162\\\",\\\"163\\\",\\\"164\\\",\\\"165\\\",\\\"166\\\",\\\"167\\\",\\\"168\\\",\\\"169\\\",\\\"170\\\",\\\"171\\\",\\\"172\\\",\\\"173\\\",\\\"174\\\",\\\"175\\\",\\\"176\\\",\\\"177\\\",\\\"178\\\",\\\"179\\\",\\\"180\\\",\\\"181\\\",\\\"182\\\",\\\"183\\\",\\\"184\\\",\\\"185\\\",\\\"186\\\",\\\"187\\\",\\\"188\\\",\\\"189\\\",\\\"190\\\",\\\"191\\\",\\\"192\\\",\\\"193\\\",\\\"194\\\",\\\"195\\\",\\\"196\\\",\\\"197\\\",\\\"198\\\",\\\"199\\\",\\\"200\\\"],\\\"changes\\\":WebIO.getval({\\\"name\\\":\\\"changes\\\",\\\"scope\\\":\\\"2729762196326205518\\\",\\\"id\\\":\\\"11828546096581579252\\\",\\\"type\\\":\\\"observable\\\"}),\\\"index\\\":WebIO.getval({\\\"name\\\":\\\"index\\\",\\\"scope\\\":\\\"2729762196326205518\\\",\\\"id\\\":\\\"10653402391983295610\\\",\\\"type\\\":\\\"observable\\\"})};\\n    var self = this;\\n    function AppViewModel() {\\n        for (var key in json_data) {\\n            var el = json_data[key];\\n            this[key] = Array.isArray(el) ? ko.observableArray(el) : ko.observable(el);\\n        }\\n        \\n        [this[\\\"formatted_val\\\"]=ko.computed(    function(){\\n        return this.formatted_vals()[parseInt(this.index())-(1)];\\n    }\\n,this)]\\n        [this[\\\"changes\\\"].subscribe((function (val){!(this.valueFromJulia[\\\"changes\\\"]) ? (WebIO.setval({\\\"name\\\":\\\"changes\\\",\\\"scope\\\":\\\"2729762196326205518\\\",\\\"id\\\":\\\"11828546096581579252\\\",\\\"type\\\":\\\"observable\\\"},val)) : undefined; return this.valueFromJulia[\\\"changes\\\"]=false}),self),this[\\\"index\\\"].subscribe((function (val){!(this.valueFromJulia[\\\"index\\\"]) ? (WebIO.setval({\\\"name\\\":\\\"index\\\",\\\"scope\\\":\\\"2729762196326205518\\\",\\\"id\\\":\\\"10653402391983295610\\\",\\\"type\\\":\\\"observable\\\"},val)) : undefined; return this.valueFromJulia[\\\"index\\\"]=false}),self)]\\n        \\n    }\\n    self.model = new AppViewModel();\\n    self.valueFromJulia = {};\\n    for (var key in json_data) {\\n        self.valueFromJulia[key] = false;\\n    }\\n    ko.applyBindings(self.model, self.dom);\\n}\\n);\\n    (WebIO.importBlock({\\\"data\\\":[{\\\"name\\\":\\\"knockout\\\",\\\"type\\\":\\\"js\\\",\\\"url\\\":\\\"/assetserver/727383f2a47bd31570b7da84eee7b022dd6d7c78-knockout.js\\\"},{\\\"name\\\":\\\"knockout_punches\\\",\\\"type\\\":\\\"js\\\",\\\"url\\\":\\\"/assetserver/382b41b3b1bd9f26f75861d360bad7f8beea211f-knockout_punches.js\\\"}],\\\"type\\\":\\\"async_block\\\"})).then((imports) => handler.apply(this, imports));\\n}\\n\")])], Dict{Symbol, Any}(:className => \"field interact-widget\")), WebIO.Node{WebIO.DOM}(WebIO.DOM(:html, :div), Any[WebIO.Scope(WebIO.Node{WebIO.DOM}(WebIO.DOM(:html, :div), Any[WebIO.Node{WebIO.DOM}(WebIO.DOM(:html, :div), Any[WebIO.Node{WebIO.DOM}(WebIO.DOM(:html, :label), Any[\"scale\"], Dict{Symbol, Any}(:className => \"interact \", :style => Dict{Any, Any}(:padding => \"5px 10px 0px 10px\")))], Dict{Symbol, Any}(:className => \"interact-flex-row-left\")), WebIO.Node{WebIO.DOM}(WebIO.DOM(:html, :div), Any[WebIO.Node{WebIO.DOM}(WebIO.DOM(:html, :input), Any[], Dict{Symbol, Any}(:max => 20, :min => 1, :attributes => Dict{Any, Any}(:type => \"range\", Symbol(\"data-bind\") => \"numericValue: index, valueUpdate: 'input', event: {change: function (){this.changes(this.changes()+1)}}\", \"orient\" => \"horizontal\"), :step => 1, :className => \"slider slider is-fullwidth\", :style => Dict{Any, Any}()))], Dict{Symbol, Any}(:className => \"interact-flex-row-center\")), WebIO.Node{WebIO.DOM}(WebIO.DOM(:html, :div), Any[WebIO.Node{WebIO.DOM}(WebIO.DOM(:html, :p), Any[], Dict{Symbol, Any}(:attributes => Dict(\"data-bind\" => \"text: formatted_val\")))], Dict{Symbol, Any}(:className => \"interact-flex-row-right\"))], Dict{Symbol, Any}(:className => \"interact-flex-row interact-widget\")), Dict{String, Tuple{Observables.AbstractObservable, Union{Nothing, Bool}}}(\"changes\" => (Observable(0), nothing), \"index\" => (Observable{Any}(10), nothing)), Set{String}(), nothing, WebIO.Asset[WebIO.Asset(\"js\", \"knockout\", \"/home/dushya/.julia/packages/Knockout/HReiN/src/../assets/knockout.js\"), WebIO.Asset(\"js\", \"knockout_punches\", \"/home/dushya/.julia/packages/Knockout/HReiN/src/../assets/knockout_punches.js\"), WebIO.Asset(\"js\", nothing, \"/home/dushya/.julia/packages/InteractBase/LJXv3/src/../assets/all.js\"), WebIO.Asset(\"css\", nothing, \"/home/dushya/.julia/packages/InteractBase/LJXv3/src/../assets/style.css\"), WebIO.Asset(\"css\", nothing, \"/home/dushya/.julia/packages/Interact/PENUy/src/../assets/bulma_confined.min.css\")], Dict{Any, Any}(\"changes\" => Any[WebIO.JSString(\"(function (val){return (val!=this.model[\\\"changes\\\"]()) ? (this.valueFromJulia[\\\"changes\\\"]=true, this.model[\\\"changes\\\"](val)) : undefined})\")], \"index\" => Any[WebIO.JSString(\"(function (val){return (val!=this.model[\\\"index\\\"]()) ? (this.valueFromJulia[\\\"index\\\"]=true, this.model[\\\"index\\\"](val)) : undefined})\")]), WebIO.ConnectionPool(Channel{Any}(32), Set{WebIO.AbstractConnection}(), Base.GenericCondition{ReentrantLock}(Base.IntrusiveLinkedList{Task}(Task (runnable) @0x00007fb4b78568b0, Task (runnable) @0x00007fb4b78568b0), ReentrantLock(nothing, 0x00000000, 0x00, Base.GenericCondition{Base.Threads.SpinLock}(Base.IntrusiveLinkedList{Task}(nothing, nothing), Base.Threads.SpinLock(0)), (1, 140415928964160, 139779710648320)))), WebIO.JSString[WebIO.JSString(\"function () {\\n    var handler = (function (ko, koPunches) {\\n    ko.punches.enableAll();\\n    ko.bindingHandlers.numericValue = {\\n        init: function(element, valueAccessor, allBindings, data, context) {\\n            var stringified = ko.observable(ko.unwrap(valueAccessor()));\\n            stringified.subscribe(function(value) {\\n                var val = parseFloat(value);\\n                if (!isNaN(val)) {\\n                    valueAccessor()(val);\\n                }\\n            });\\n            valueAccessor().subscribe(function(value) {\\n                var str = JSON.stringify(value);\\n                if ((str == \\\"0\\\") && ([\\\"-0\\\", \\\"-0.\\\"].indexOf(stringified()) >= 0))\\n                     return;\\n                 if ([\\\"null\\\", \\\"\\\"].indexOf(str) >= 0)\\n                     return;\\n                stringified(str);\\n            });\\n            ko.applyBindingsToNode(\\n                element,\\n                {\\n                    value: stringified,\\n                    valueUpdate: allBindings.get('valueUpdate'),\\n                },\\n                context,\\n            );\\n        }\\n    };\\n    var json_data = {\\\"formatted_vals\\\":[\\\"0.1\\\",\\\"0.2\\\",\\\"0.3\\\",\\\"0.4\\\",\\\"0.5\\\",\\\"0.6\\\",\\\"0.7\\\",\\\"0.8\\\",\\\"0.9\\\",\\\"1.0\\\",\\\"1.1\\\",\\\"1.2\\\",\\\"1.3\\\",\\\"1.4\\\",\\\"1.5\\\",\\\"1.6\\\",\\\"1.7\\\",\\\"1.8\\\",\\\"1.9\\\",\\\"2.0\\\"],\\\"changes\\\":WebIO.getval({\\\"name\\\":\\\"changes\\\",\\\"scope\\\":\\\"14453592012856307364\\\",\\\"id\\\":\\\"13664770104683552579\\\",\\\"type\\\":\\\"observable\\\"}),\\\"index\\\":WebIO.getval({\\\"name\\\":\\\"index\\\",\\\"scope\\\":\\\"14453592012856307364\\\",\\\"id\\\":\\\"2501023445654905365\\\",\\\"type\\\":\\\"observable\\\"})};\\n    var self = this;\\n    function AppViewModel() {\\n        for (var key in json_data) {\\n            var el = json_data[key];\\n            this[key] = Array.isArray(el) ? ko.observableArray(el) : ko.observable(el);\\n        }\\n        \\n        [this[\\\"formatted_val\\\"]=ko.computed(    function(){\\n        return this.formatted_vals()[parseInt(this.index())-(1)];\\n    }\\n,this)]\\n        [this[\\\"changes\\\"].subscribe((function (val){!(this.valueFromJulia[\\\"changes\\\"]) ? (WebIO.setval({\\\"name\\\":\\\"changes\\\",\\\"scope\\\":\\\"14453592012856307364\\\",\\\"id\\\":\\\"13664770104683552579\\\",\\\"type\\\":\\\"observable\\\"},val)) : undefined; return this.valueFromJulia[\\\"changes\\\"]=false}),self),this[\\\"index\\\"].subscribe((function (val){!(this.valueFromJulia[\\\"index\\\"]) ? (WebIO.setval({\\\"name\\\":\\\"index\\\",\\\"scope\\\":\\\"14453592012856307364\\\",\\\"id\\\":\\\"2501023445654905365\\\",\\\"type\\\":\\\"observable\\\"},val)) : undefined; return this.valueFromJulia[\\\"index\\\"]=false}),self)]\\n        \\n    }\\n    self.model = new AppViewModel();\\n    self.valueFromJulia = {};\\n    for (var key in json_data) {\\n        self.valueFromJulia[key] = false;\\n    }\\n    ko.applyBindings(self.model, self.dom);\\n}\\n);\\n    (WebIO.importBlock({\\\"data\\\":[{\\\"name\\\":\\\"knockout\\\",\\\"type\\\":\\\"js\\\",\\\"url\\\":\\\"/assetserver/727383f2a47bd31570b7da84eee7b022dd6d7c78-knockout.js\\\"},{\\\"name\\\":\\\"knockout_punches\\\",\\\"type\\\":\\\"js\\\",\\\"url\\\":\\\"/assetserver/382b41b3b1bd9f26f75861d360bad7f8beea211f-knockout_punches.js\\\"}],\\\"type\\\":\\\"async_block\\\"})).then((imports) => handler.apply(this, imports));\\n}\\n\")])], Dict{Symbol, Any}(:className => \"field interact-widget\")), WebIO.Node{WebIO.DOM}(WebIO.DOM(:html, :div), Any[], Dict{Symbol, Any}(:style => Dict(\"display\" => \"flex\", \"flex-direction\" => \"column\"))), WebIO.Node{WebIO.DOM}(WebIO.DOM(:html, :div), Any[WebIO.Node{WebIO.DOM}(WebIO.DOM(:html, :div), Any[WebIO.Scope(WebIO.Node{WebIO.DOM}(WebIO.DOM(:html, :div), Any[WebIO.Node{WebIO.DOM}(WebIO.DOM(:html, :div), Any[WebIO.Node{WebIO.DOM}(WebIO.DOM(:html, :label), Any[\"wolf_birth_rate\"], Dict{Symbol, Any}(:className => \"interact \", :style => Dict{Any, Any}(:padding => \"5px 10px 0px 10px\")))], Dict{Symbol, Any}(:className => \"interact-flex-row-left\")), WebIO.Node{WebIO.DOM}(WebIO.DOM(:html, :div), Any[WebIO.Node{WebIO.DOM}(WebIO.DOM(:html, :input), Any[], Dict{Symbol, Any}(:max => 101, :min => 1, :attributes => Dict{Any, Any}(:type => \"range\", Symbol(\"data-bind\") => \"numericValue: index, valueUpdate: 'input', event: {change: function (){this.changes(this.changes()+1)}}\", \"orient\" => \"horizontal\"), :step => 1, :className => \"slider slider is-fullwidth\", :style => Dict{Any, Any}()))], Dict{Symbol, Any}(:className => \"interact-flex-row-center\")), WebIO.Node{WebIO.DOM}(WebIO.DOM(:html, :div), Any[WebIO.Node{WebIO.DOM}(WebIO.DOM(:html, :p), Any[], Dict{Symbol, Any}(:attributes => Dict(\"data-bind\" => \"text: formatted_val\")))], Dict{Symbol, Any}(:className => \"interact-flex-row-right\"))], Dict{Symbol, Any}(:className => \"interact-flex-row interact-widget\")), Dict{String, Tuple{Observables.AbstractObservable, Union{Nothing, Bool}}}(\"changes\" => (Observable(0), nothing), \"index\" => (Observable{Any}(51), nothing)), Set{String}(), nothing, WebIO.Asset[WebIO.Asset(\"js\", \"knockout\", \"/home/dushya/.julia/packages/Knockout/HReiN/src/../assets/knockout.js\"), WebIO.Asset(\"js\", \"knockout_punches\", \"/home/dushya/.julia/packages/Knockout/HReiN/src/../assets/knockout_punches.js\"), WebIO.Asset(\"js\", nothing, \"/home/dushya/.julia/packages/InteractBase/LJXv3/src/../assets/all.js\"), WebIO.Asset(\"css\", nothing, \"/home/dushya/.julia/packages/InteractBase/LJXv3/src/../assets/style.css\"), WebIO.Asset(\"css\", nothing, \"/home/dushya/.julia/packages/Interact/PENUy/src/../assets/bulma_confined.min.css\")], Dict{Any, Any}(\"changes\" => Any[WebIO.JSString(\"(function (val){return (val!=this.model[\\\"changes\\\"]()) ? (this.valueFromJulia[\\\"changes\\\"]=true, this.model[\\\"changes\\\"](val)) : undefined})\")], \"index\" => Any[WebIO.JSString(\"(function (val){return (val!=this.model[\\\"index\\\"]()) ? (this.valueFromJulia[\\\"index\\\"]=true, this.model[\\\"index\\\"](val)) : undefined})\")]), WebIO.ConnectionPool(Channel{Any}(32), Set{WebIO.AbstractConnection}(), Base.GenericCondition{ReentrantLock}(Base.IntrusiveLinkedList{Task}(Task (runnable) @0x00007fb4b7b74010, Task (runnable) @0x00007fb4b7b74010), ReentrantLock(nothing, 0x00000000, 0x00, Base.GenericCondition{Base.Threads.SpinLock}(Base.IntrusiveLinkedList{Task}(nothing, nothing), Base.Threads.SpinLock(0)), (0, 0, 141733920768)))), WebIO.JSString[WebIO.JSString(\"function () {\\n    var handler = (function (ko, koPunches) {\\n    ko.punches.enableAll();\\n    ko.bindingHandlers.numericValue = {\\n        init: function(element, valueAccessor, allBindings, data, context) {\\n            var stringified = ko.observable(ko.unwrap(valueAccessor()));\\n            stringified.subscribe(function(value) {\\n                var val = parseFloat(value);\\n                if (!isNaN(val)) {\\n                    valueAccessor()(val);\\n                }\\n            });\\n            valueAccessor().subscribe(function(value) {\\n                var str = JSON.stringify(value);\\n                if ((str == \\\"0\\\") && ([\\\"-0\\\", \\\"-0.\\\"].indexOf(stringified()) >= 0))\\n                     return;\\n                 if ([\\\"null\\\", \\\"\\\"].indexOf(str) >= 0)\\n                     return;\\n                stringified(str);\\n            });\\n            ko.applyBindingsToNode(\\n                element,\\n                {\\n                    value: stringified,\\n                    valueUpdate: allBindings.get('valueUpdate'),\\n                },\\n                context,\\n            );\\n        }\\n    };\\n    var json_data = {\\\"formatted_vals\\\":[\\\"0.0\\\",\\\"0.01\\\",\\\"0.02\\\",\\\"0.03\\\",\\\"0.04\\\",\\\"0.05\\\",\\\"0.06\\\",\\\"0.07\\\",\\\"0.08\\\",\\\"0.09\\\",\\\"0.1\\\",\\\"0.11\\\",\\\"0.12\\\",\\\"0.13\\\",\\\"0.14\\\",\\\"0.15\\\",\\\"0.16\\\",\\\"0.17\\\",\\\"0.18\\\",\\\"0.19\\\",\\\"0.2\\\",\\\"0.21\\\",\\\"0.22\\\",\\\"0.23\\\",\\\"0.24\\\",\\\"0.25\\\",\\\"0.26\\\",\\\"0.27\\\",\\\"0.28\\\",\\\"0.29\\\",\\\"0.3\\\",\\\"0.31\\\",\\\"0.32\\\",\\\"0.33\\\",\\\"0.34\\\",\\\"0.35\\\",\\\"0.36\\\",\\\"0.37\\\",\\\"0.38\\\",\\\"0.39\\\",\\\"0.4\\\",\\\"0.41\\\",\\\"0.42\\\",\\\"0.43\\\",\\\"0.44\\\",\\\"0.45\\\",\\\"0.46\\\",\\\"0.47\\\",\\\"0.48\\\",\\\"0.49\\\",\\\"0.5\\\",\\\"0.51\\\",\\\"0.52\\\",\\\"0.53\\\",\\\"0.54\\\",\\\"0.55\\\",\\\"0.56\\\",\\\"0.57\\\",\\\"0.58\\\",\\\"0.59\\\",\\\"0.6\\\",\\\"0.61\\\",\\\"0.62\\\",\\\"0.63\\\",\\\"0.64\\\",\\\"0.65\\\",\\\"0.66\\\",\\\"0.67\\\",\\\"0.68\\\",\\\"0.69\\\",\\\"0.7\\\",\\\"0.71\\\",\\\"0.72\\\",\\\"0.73\\\",\\\"0.74\\\",\\\"0.75\\\",\\\"0.76\\\",\\\"0.77\\\",\\\"0.78\\\",\\\"0.79\\\",\\\"0.8\\\",\\\"0.81\\\",\\\"0.82\\\",\\\"0.83\\\",\\\"0.84\\\",\\\"0.85\\\",\\\"0.86\\\",\\\"0.87\\\",\\\"0.88\\\",\\\"0.89\\\",\\\"0.9\\\",\\\"0.91\\\",\\\"0.92\\\",\\\"0.93\\\",\\\"0.94\\\",\\\"0.95\\\",\\\"0.96\\\",\\\"0.97\\\",\\\"0.98\\\",\\\"0.99\\\",\\\"1.0\\\"],\\\"changes\\\":WebIO.getval({\\\"name\\\":\\\"changes\\\",\\\"scope\\\":\\\"18191719349728432963\\\",\\\"id\\\":\\\"11563390601754788599\\\",\\\"type\\\":\\\"observable\\\"}),\\\"index\\\":WebIO.getval({\\\"name\\\":\\\"index\\\",\\\"scope\\\":\\\"18191719349728432963\\\",\\\"id\\\":\\\"1555390471200055825\\\",\\\"type\\\":\\\"observable\\\"})};\\n    var self = this;\\n    function AppViewModel() {\\n        for (var key in json_data) {\\n            var el = json_data[key];\\n            this[key] = Array.isArray(el) ? ko.observableArray(el) : ko.observable(el);\\n        }\\n        \\n        [this[\\\"formatted_val\\\"]=ko.computed(    function(){\\n        return this.formatted_vals()[parseInt(this.index())-(1)];\\n    }\\n,this)]\\n        [this[\\\"changes\\\"].subscribe((function (val){!(this.valueFromJulia[\\\"changes\\\"]) ? (WebIO.setval({\\\"name\\\":\\\"changes\\\",\\\"scope\\\":\\\"18191719349728432963\\\",\\\"id\\\":\\\"11563390601754788599\\\",\\\"type\\\":\\\"observable\\\"},val)) : undefined; return this.valueFromJulia[\\\"changes\\\"]=false}),self),this[\\\"index\\\"].subscribe((function (val){!(this.valueFromJulia[\\\"index\\\"]) ? (WebIO.setval({\\\"name\\\":\\\"index\\\",\\\"scope\\\":\\\"18191719349728432963\\\",\\\"id\\\":\\\"1555390471200055825\\\",\\\"type\\\":\\\"observable\\\"},val)) : undefined; return this.valueFromJulia[\\\"index\\\"]=false}),self)]\\n        \\n    }\\n    self.model = new AppViewModel();\\n    self.valueFromJulia = {};\\n    for (var key in json_data) {\\n        self.valueFromJulia[key] = false;\\n    }\\n    ko.applyBindings(self.model, self.dom);\\n}\\n);\\n    (WebIO.importBlock({\\\"data\\\":[{\\\"name\\\":\\\"knockout\\\",\\\"type\\\":\\\"js\\\",\\\"url\\\":\\\"/assetserver/727383f2a47bd31570b7da84eee7b022dd6d7c78-knockout.js\\\"},{\\\"name\\\":\\\"knockout_punches\\\",\\\"type\\\":\\\"js\\\",\\\"url\\\":\\\"/assetserver/382b41b3b1bd9f26f75861d360bad7f8beea211f-knockout_punches.js\\\"}],\\\"type\\\":\\\"async_block\\\"})).then((imports) => handler.apply(this, imports));\\n}\\n\")])], Dict{Symbol, Any}(:className => \"field interact-widget\")), WebIO.Node{WebIO.DOM}(WebIO.DOM(:html, :div), Any[WebIO.Scope(WebIO.Node{WebIO.DOM}(WebIO.DOM(:html, :div), Any[WebIO.Node{WebIO.DOM}(WebIO.DOM(:html, :div), Any[WebIO.Node{WebIO.DOM}(WebIO.DOM(:html, :label), Any[\"sheep_birth_rate\"], Dict{Symbol, Any}(:className => \"interact \", :style => Dict{Any, Any}(:padding => \"5px 10px 0px 10px\")))], Dict{Symbol, Any}(:className => \"interact-flex-row-left\")), WebIO.Node{WebIO.DOM}(WebIO.DOM(:html, :div), Any[WebIO.Node{WebIO.DOM}(WebIO.DOM(:html, :input), Any[], Dict{Symbol, Any}(:max => 100, :min => 1, :attributes => Dict{Any, Any}(:type => \"range\", Symbol(\"data-bind\") => \"numericValue: index, valueUpdate: 'input', event: {change: function (){this.changes(this.changes()+1)}}\", \"orient\" => \"horizontal\"), :step => 1, :className => \"slider slider is-fullwidth\", :style => Dict{Any, Any}()))], Dict{Symbol, Any}(:className => \"interact-flex-row-center\")), WebIO.Node{WebIO.DOM}(WebIO.DOM(:html, :div), Any[WebIO.Node{WebIO.DOM}(WebIO.DOM(:html, :p), Any[], Dict{Symbol, Any}(:attributes => Dict(\"data-bind\" => \"text: formatted_val\")))], Dict{Symbol, Any}(:className => \"interact-flex-row-right\"))], Dict{Symbol, Any}(:className => \"interact-flex-row interact-widget\")), Dict{String, Tuple{Observables.AbstractObservable, Union{Nothing, Bool}}}(\"changes\" => (Observable(0), nothing), \"index\" => (Observable{Any}(50), nothing)), Set{String}(), nothing, WebIO.Asset[WebIO.Asset(\"js\", \"knockout\", \"/home/dushya/.julia/packages/Knockout/HReiN/src/../assets/knockout.js\"), WebIO.Asset(\"js\", \"knockout_punches\", \"/home/dushya/.julia/packages/Knockout/HReiN/src/../assets/knockout_punches.js\"), WebIO.Asset(\"js\", nothing, \"/home/dushya/.julia/packages/InteractBase/LJXv3/src/../assets/all.js\"), WebIO.Asset(\"css\", nothing, \"/home/dushya/.julia/packages/InteractBase/LJXv3/src/../assets/style.css\"), WebIO.Asset(\"css\", nothing, \"/home/dushya/.julia/packages/Interact/PENUy/src/../assets/bulma_confined.min.css\")], Dict{Any, Any}(\"changes\" => Any[WebIO.JSString(\"(function (val){return (val!=this.model[\\\"changes\\\"]()) ? (this.valueFromJulia[\\\"changes\\\"]=true, this.model[\\\"changes\\\"](val)) : undefined})\")], \"index\" => Any[WebIO.JSString(\"(function (val){return (val!=this.model[\\\"index\\\"]()) ? (this.valueFromJulia[\\\"index\\\"]=true, this.model[\\\"index\\\"](val)) : undefined})\")]), WebIO.ConnectionPool(Channel{Any}(32), Set{WebIO.AbstractConnection}(), Base.GenericCondition{ReentrantLock}(Base.IntrusiveLinkedList{Task}(Task (runnable) @0x00007fb4b7b76720, Task (runnable) @0x00007fb4b7b76720), ReentrantLock(nothing, 0x00000000, 0x00, Base.GenericCondition{Base.Threads.SpinLock}(Base.IntrusiveLinkedList{Task}(nothing, nothing), Base.Threads.SpinLock(0)), (0, 140416072544448, 140416072577120)))), WebIO.JSString[WebIO.JSString(\"function () {\\n    var handler = (function (ko, koPunches) {\\n    ko.punches.enableAll();\\n    ko.bindingHandlers.numericValue = {\\n        init: function(element, valueAccessor, allBindings, data, context) {\\n            var stringified = ko.observable(ko.unwrap(valueAccessor()));\\n            stringified.subscribe(function(value) {\\n                var val = parseFloat(value);\\n                if (!isNaN(val)) {\\n                    valueAccessor()(val);\\n                }\\n            });\\n            valueAccessor().subscribe(function(value) {\\n                var str = JSON.stringify(value);\\n                if ((str == \\\"0\\\") && ([\\\"-0\\\", \\\"-0.\\\"].indexOf(stringified()) >= 0))\\n                     return;\\n                 if ([\\\"null\\\", \\\"\\\"].indexOf(str) >= 0)\\n                     return;\\n                stringified(str);\\n            });\\n            ko.applyBindingsToNode(\\n                element,\\n                {\\n                    value: stringified,\\n                    valueUpdate: allBindings.get('valueUpdate'),\\n                },\\n                context,\\n            );\\n        }\\n    };\\n    var json_data = {\\\"formatted_vals\\\":[\\\"0.01\\\",\\\"0.02\\\",\\\"0.03\\\",\\\"0.04\\\",\\\"0.05\\\",\\\"0.06\\\",\\\"0.07\\\",\\\"0.08\\\",\\\"0.09\\\",\\\"0.1\\\",\\\"0.11\\\",\\\"0.12\\\",\\\"0.13\\\",\\\"0.14\\\",\\\"0.15\\\",\\\"0.16\\\",\\\"0.17\\\",\\\"0.18\\\",\\\"0.19\\\",\\\"0.2\\\",\\\"0.21\\\",\\\"0.22\\\",\\\"0.23\\\",\\\"0.24\\\",\\\"0.25\\\",\\\"0.26\\\",\\\"0.27\\\",\\\"0.28\\\",\\\"0.29\\\",\\\"0.3\\\",\\\"0.31\\\",\\\"0.32\\\",\\\"0.33\\\",\\\"0.34\\\",\\\"0.35\\\",\\\"0.36\\\",\\\"0.37\\\",\\\"0.38\\\",\\\"0.39\\\",\\\"0.4\\\",\\\"0.41\\\",\\\"0.42\\\",\\\"0.43\\\",\\\"0.44\\\",\\\"0.45\\\",\\\"0.46\\\",\\\"0.47\\\",\\\"0.48\\\",\\\"0.49\\\",\\\"0.5\\\",\\\"0.51\\\",\\\"0.52\\\",\\\"0.53\\\",\\\"0.54\\\",\\\"0.55\\\",\\\"0.56\\\",\\\"0.57\\\",\\\"0.58\\\",\\\"0.59\\\",\\\"0.6\\\",\\\"0.61\\\",\\\"0.62\\\",\\\"0.63\\\",\\\"0.64\\\",\\\"0.65\\\",\\\"0.66\\\",\\\"0.67\\\",\\\"0.68\\\",\\\"0.69\\\",\\\"0.7\\\",\\\"0.71\\\",\\\"0.72\\\",\\\"0.73\\\",\\\"0.74\\\",\\\"0.75\\\",\\\"0.76\\\",\\\"0.77\\\",\\\"0.78\\\",\\\"0.79\\\",\\\"0.8\\\",\\\"0.81\\\",\\\"0.82\\\",\\\"0.83\\\",\\\"0.84\\\",\\\"0.85\\\",\\\"0.86\\\",\\\"0.87\\\",\\\"0.88\\\",\\\"0.89\\\",\\\"0.9\\\",\\\"0.91\\\",\\\"0.92\\\",\\\"0.93\\\",\\\"0.94\\\",\\\"0.95\\\",\\\"0.96\\\",\\\"0.97\\\",\\\"0.98\\\",\\\"0.99\\\",\\\"1.0\\\"],\\\"changes\\\":WebIO.getval({\\\"name\\\":\\\"changes\\\",\\\"scope\\\":\\\"12562189183334581316\\\",\\\"id\\\":\\\"15690620883247491028\\\",\\\"type\\\":\\\"observable\\\"}),\\\"index\\\":WebIO.getval({\\\"name\\\":\\\"index\\\",\\\"scope\\\":\\\"12562189183334581316\\\",\\\"id\\\":\\\"15515386561086474340\\\",\\\"type\\\":\\\"observable\\\"})};\\n    var self = this;\\n    function AppViewModel() {\\n        for (var key in json_data) {\\n            var el = json_data[key];\\n            this[key] = Array.isArray(el) ? ko.observableArray(el) : ko.observable(el);\\n        }\\n        \\n        [this[\\\"formatted_val\\\"]=ko.computed(    function(){\\n        return this.formatted_vals()[parseInt(this.index())-(1)];\\n    }\\n,this)]\\n        [this[\\\"changes\\\"].subscribe((function (val){!(this.valueFromJulia[\\\"changes\\\"]) ? (WebIO.setval({\\\"name\\\":\\\"changes\\\",\\\"scope\\\":\\\"12562189183334581316\\\",\\\"id\\\":\\\"15690620883247491028\\\",\\\"type\\\":\\\"observable\\\"},val)) : undefined; return this.valueFromJulia[\\\"changes\\\"]=false}),self),this[\\\"index\\\"].subscribe((function (val){!(this.valueFromJulia[\\\"index\\\"]) ? (WebIO.setval({\\\"name\\\":\\\"index\\\",\\\"scope\\\":\\\"12562189183334581316\\\",\\\"id\\\":\\\"15515386561086474340\\\",\\\"type\\\":\\\"observable\\\"},val)) : undefined; return this.valueFromJulia[\\\"index\\\"]=false}),self)]\\n        \\n    }\\n    self.model = new AppViewModel();\\n    self.valueFromJulia = {};\\n    for (var key in json_data) {\\n        self.valueFromJulia[key] = false;\\n    }\\n    ko.applyBindings(self.model, self.dom);\\n}\\n);\\n    (WebIO.importBlock({\\\"data\\\":[{\\\"name\\\":\\\"knockout\\\",\\\"type\\\":\\\"js\\\",\\\"url\\\":\\\"/assetserver/727383f2a47bd31570b7da84eee7b022dd6d7c78-knockout.js\\\"},{\\\"name\\\":\\\"knockout_punches\\\",\\\"type\\\":\\\"js\\\",\\\"url\\\":\\\"/assetserver/382b41b3b1bd9f26f75861d360bad7f8beea211f-knockout_punches.js\\\"}],\\\"type\\\":\\\"async_block\\\"})).then((imports) => handler.apply(this, imports));\\n}\\n\")])], Dict{Symbol, Any}(:className => \"field interact-widget\")), WebIO.Node{WebIO.DOM}(WebIO.DOM(:html, :div), Any[WebIO.Scope(WebIO.Node{WebIO.DOM}(WebIO.DOM(:html, :div), Any[WebIO.Node{WebIO.DOM}(WebIO.DOM(:html, :div), Any[WebIO.Node{WebIO.DOM}(WebIO.DOM(:html, :label), Any[\"initial_wolf_percent\"], Dict{Symbol, Any}(:className => \"interact \", :style => Dict{Any, Any}(:padding => \"5px 10px 0px 10px\")))], Dict{Symbol, Any}(:className => \"interact-flex-row-left\")), WebIO.Node{WebIO.DOM}(WebIO.DOM(:html, :div), Any[WebIO.Node{WebIO.DOM}(WebIO.DOM(:html, :input), Any[], Dict{Symbol, Any}(:max => 90, :min => 1, :attributes => Dict{Any, Any}(:type => \"range\", Symbol(\"data-bind\") => \"numericValue: index, valueUpdate: 'input', event: {change: function (){this.changes(this.changes()+1)}}\", \"orient\" => \"horizontal\"), :step => 1, :className => \"slider slider is-fullwidth\", :style => Dict{Any, Any}()))], Dict{Symbol, Any}(:className => \"interact-flex-row-center\")), WebIO.Node{WebIO.DOM}(WebIO.DOM(:html, :div), Any[WebIO.Node{WebIO.DOM}(WebIO.DOM(:html, :p), Any[], Dict{Symbol, Any}(:attributes => Dict(\"data-bind\" => \"text: formatted_val\")))], Dict{Symbol, Any}(:className => \"interact-flex-row-right\"))], Dict{Symbol, Any}(:className => \"interact-flex-row interact-widget\")), Dict{String, Tuple{Observables.AbstractObservable, Union{Nothing, Bool}}}(\"changes\" => (Observable(0), nothing), \"index\" => (Observable{Any}(45), nothing)), Set{String}(), nothing, WebIO.Asset[WebIO.Asset(\"js\", \"knockout\", \"/home/dushya/.julia/packages/Knockout/HReiN/src/../assets/knockout.js\"), WebIO.Asset(\"js\", \"knockout_punches\", \"/home/dushya/.julia/packages/Knockout/HReiN/src/../assets/knockout_punches.js\"), WebIO.Asset(\"js\", nothing, \"/home/dushya/.julia/packages/InteractBase/LJXv3/src/../assets/all.js\"), WebIO.Asset(\"css\", nothing, \"/home/dushya/.julia/packages/InteractBase/LJXv3/src/../assets/style.css\"), WebIO.Asset(\"css\", nothing, \"/home/dushya/.julia/packages/Interact/PENUy/src/../assets/bulma_confined.min.css\")], Dict{Any, Any}(\"changes\" => Any[WebIO.JSString(\"(function (val){return (val!=this.model[\\\"changes\\\"]()) ? (this.valueFromJulia[\\\"changes\\\"]=true, this.model[\\\"changes\\\"](val)) : undefined})\")], \"index\" => Any[WebIO.JSString(\"(function (val){return (val!=this.model[\\\"index\\\"]()) ? (this.valueFromJulia[\\\"index\\\"]=true, this.model[\\\"index\\\"](val)) : undefined})\")]), WebIO.ConnectionPool(Channel{Any}(32), Set{WebIO.AbstractConnection}(), Base.GenericCondition{ReentrantLock}(Base.IntrusiveLinkedList{Task}(Task (runnable) @0x00007fb4b7b912d0, Task (runnable) @0x00007fb4b7b912d0), ReentrantLock(nothing, 0x00000000, 0x00, Base.GenericCondition{Base.Threads.SpinLock}(Base.IntrusiveLinkedList{Task}(nothing, nothing), Base.Threads.SpinLock(0)), (0, 0, 139779710648320)))), WebIO.JSString[WebIO.JSString(\"function () {\\n    var handler = (function (ko, koPunches) {\\n    ko.punches.enableAll();\\n    ko.bindingHandlers.numericValue = {\\n        init: function(element, valueAccessor, allBindings, data, context) {\\n            var stringified = ko.observable(ko.unwrap(valueAccessor()));\\n            stringified.subscribe(function(value) {\\n                var val = parseFloat(value);\\n                if (!isNaN(val)) {\\n                    valueAccessor()(val);\\n                }\\n            });\\n            valueAccessor().subscribe(function(value) {\\n                var str = JSON.stringify(value);\\n                if ((str == \\\"0\\\") && ([\\\"-0\\\", \\\"-0.\\\"].indexOf(stringified()) >= 0))\\n                     return;\\n                 if ([\\\"null\\\", \\\"\\\"].indexOf(str) >= 0)\\n                     return;\\n                stringified(str);\\n            });\\n            ko.applyBindingsToNode(\\n                element,\\n                {\\n                    value: stringified,\\n                    valueUpdate: allBindings.get('valueUpdate'),\\n                },\\n                context,\\n            );\\n        }\\n    };\\n    var json_data = {\\\"formatted_vals\\\":[\\\"0.01\\\",\\\"0.02\\\",\\\"0.03\\\",\\\"0.04\\\",\\\"0.05\\\",\\\"0.06\\\",\\\"0.07\\\",\\\"0.08\\\",\\\"0.09\\\",\\\"0.1\\\",\\\"0.11\\\",\\\"0.12\\\",\\\"0.13\\\",\\\"0.14\\\",\\\"0.15\\\",\\\"0.16\\\",\\\"0.17\\\",\\\"0.18\\\",\\\"0.19\\\",\\\"0.2\\\",\\\"0.21\\\",\\\"0.22\\\",\\\"0.23\\\",\\\"0.24\\\",\\\"0.25\\\",\\\"0.26\\\",\\\"0.27\\\",\\\"0.28\\\",\\\"0.29\\\",\\\"0.3\\\",\\\"0.31\\\",\\\"0.32\\\",\\\"0.33\\\",\\\"0.34\\\",\\\"0.35\\\",\\\"0.36\\\",\\\"0.37\\\",\\\"0.38\\\",\\\"0.39\\\",\\\"0.4\\\",\\\"0.41\\\",\\\"0.42\\\",\\\"0.43\\\",\\\"0.44\\\",\\\"0.45\\\",\\\"0.46\\\",\\\"0.47\\\",\\\"0.48\\\",\\\"0.49\\\",\\\"0.5\\\",\\\"0.51\\\",\\\"0.52\\\",\\\"0.53\\\",\\\"0.54\\\",\\\"0.55\\\",\\\"0.56\\\",\\\"0.57\\\",\\\"0.58\\\",\\\"0.59\\\",\\\"0.6\\\",\\\"0.61\\\",\\\"0.62\\\",\\\"0.63\\\",\\\"0.64\\\",\\\"0.65\\\",\\\"0.66\\\",\\\"0.67\\\",\\\"0.68\\\",\\\"0.69\\\",\\\"0.7\\\",\\\"0.71\\\",\\\"0.72\\\",\\\"0.73\\\",\\\"0.74\\\",\\\"0.75\\\",\\\"0.76\\\",\\\"0.77\\\",\\\"0.78\\\",\\\"0.79\\\",\\\"0.8\\\",\\\"0.81\\\",\\\"0.82\\\",\\\"0.83\\\",\\\"0.84\\\",\\\"0.85\\\",\\\"0.86\\\",\\\"0.87\\\",\\\"0.88\\\",\\\"0.89\\\",\\\"0.9\\\"],\\\"changes\\\":WebIO.getval({\\\"name\\\":\\\"changes\\\",\\\"scope\\\":\\\"11651686859537973612\\\",\\\"id\\\":\\\"16894187369308337083\\\",\\\"type\\\":\\\"observable\\\"}),\\\"index\\\":WebIO.getval({\\\"name\\\":\\\"index\\\",\\\"scope\\\":\\\"11651686859537973612\\\",\\\"id\\\":\\\"3126686312797812229\\\",\\\"type\\\":\\\"observable\\\"})};\\n    var self = this;\\n    function AppViewModel() {\\n        for (var key in json_data) {\\n            var el = json_data[key];\\n            this[key] = Array.isArray(el) ? ko.observableArray(el) : ko.observable(el);\\n        }\\n        \\n        [this[\\\"formatted_val\\\"]=ko.computed(    function(){\\n        return this.formatted_vals()[parseInt(this.index())-(1)];\\n    }\\n,this)]\\n        [this[\\\"changes\\\"].subscribe((function (val){!(this.valueFromJulia[\\\"changes\\\"]) ? (WebIO.setval({\\\"name\\\":\\\"changes\\\",\\\"scope\\\":\\\"11651686859537973612\\\",\\\"id\\\":\\\"16894187369308337083\\\",\\\"type\\\":\\\"observable\\\"},val)) : undefined; return this.valueFromJulia[\\\"changes\\\"]=false}),self),this[\\\"index\\\"].subscribe((function (val){!(this.valueFromJulia[\\\"index\\\"]) ? (WebIO.setval({\\\"name\\\":\\\"index\\\",\\\"scope\\\":\\\"11651686859537973612\\\",\\\"id\\\":\\\"3126686312797812229\\\",\\\"type\\\":\\\"observable\\\"},val)) : undefined; return this.valueFromJulia[\\\"index\\\"]=false}),self)]\\n        \\n    }\\n    self.model = new AppViewModel();\\n    self.valueFromJulia = {};\\n    for (var key in json_data) {\\n        self.valueFromJulia[key] = false;\\n    }\\n    ko.applyBindings(self.model, self.dom);\\n}\\n);\\n    (WebIO.importBlock({\\\"data\\\":[{\\\"name\\\":\\\"knockout\\\",\\\"type\\\":\\\"js\\\",\\\"url\\\":\\\"/assetserver/727383f2a47bd31570b7da84eee7b022dd6d7c78-knockout.js\\\"},{\\\"name\\\":\\\"knockout_punches\\\",\\\"type\\\":\\\"js\\\",\\\"url\\\":\\\"/assetserver/382b41b3b1bd9f26f75861d360bad7f8beea211f-knockout_punches.js\\\"}],\\\"type\\\":\\\"async_block\\\"})).then((imports) => handler.apply(this, imports));\\n}\\n\")])], Dict{Symbol, Any}(:className => \"field interact-widget\")), WebIO.Node{WebIO.DOM}(WebIO.DOM(:html, :div), Any[WebIO.Scope(WebIO.Node{WebIO.DOM}(WebIO.DOM(:html, :div), Any[WebIO.Node{WebIO.DOM}(WebIO.DOM(:html, :div), Any[WebIO.Node{WebIO.DOM}(WebIO.DOM(:html, :label), Any[\"wolves_kill_ability\"], Dict{Symbol, Any}(:className => \"interact \", :style => Dict{Any, Any}(:padding => \"5px 10px 0px 10px\")))], Dict{Symbol, Any}(:className => \"interact-flex-row-left\")), WebIO.Node{WebIO.DOM}(WebIO.DOM(:html, :div), Any[WebIO.Node{WebIO.DOM}(WebIO.DOM(:html, :input), Any[], Dict{Symbol, Any}(:max => 100, :min => 1, :attributes => Dict{Any, Any}(:type => \"range\", Symbol(\"data-bind\") => \"numericValue: index, valueUpdate: 'input', event: {change: function (){this.changes(this.changes()+1)}}\", \"orient\" => \"horizontal\"), :step => 1, :className => \"slider slider is-fullwidth\", :style => Dict{Any, Any}()))], Dict{Symbol, Any}(:className => \"interact-flex-row-center\")), WebIO.Node{WebIO.DOM}(WebIO.DOM(:html, :div), Any[WebIO.Node{WebIO.DOM}(WebIO.DOM(:html, :p), Any[], Dict{Symbol, Any}(:attributes => Dict(\"data-bind\" => \"text: formatted_val\")))], Dict{Symbol, Any}(:className => \"interact-flex-row-right\"))], Dict{Symbol, Any}(:className => \"interact-flex-row interact-widget\")), Dict{String, Tuple{Observables.AbstractObservable, Union{Nothing, Bool}}}(\"changes\" => (Observable(0), nothing), \"index\" => (Observable{Any}(50), nothing)), Set{String}(), nothing, WebIO.Asset[WebIO.Asset(\"js\", \"knockout\", \"/home/dushya/.julia/packages/Knockout/HReiN/src/../assets/knockout.js\"), WebIO.Asset(\"js\", \"knockout_punches\", \"/home/dushya/.julia/packages/Knockout/HReiN/src/../assets/knockout_punches.js\"), WebIO.Asset(\"js\", nothing, \"/home/dushya/.julia/packages/InteractBase/LJXv3/src/../assets/all.js\"), WebIO.Asset(\"css\", nothing, \"/home/dushya/.julia/packages/InteractBase/LJXv3/src/../assets/style.css\"), WebIO.Asset(\"css\", nothing, \"/home/dushya/.julia/packages/Interact/PENUy/src/../assets/bulma_confined.min.css\")], Dict{Any, Any}(\"changes\" => Any[WebIO.JSString(\"(function (val){return (val!=this.model[\\\"changes\\\"]()) ? (this.valueFromJulia[\\\"changes\\\"]=true, this.model[\\\"changes\\\"](val)) : undefined})\")], \"index\" => Any[WebIO.JSString(\"(function (val){return (val!=this.model[\\\"index\\\"]()) ? (this.valueFromJulia[\\\"index\\\"]=true, this.model[\\\"index\\\"](val)) : undefined})\")]), WebIO.ConnectionPool(Channel{Any}(32), Set{WebIO.AbstractConnection}(), Base.GenericCondition{ReentrantLock}(Base.IntrusiveLinkedList{Task}(Task (runnable) @0x00007fb4b7b939e0, Task (runnable) @0x00007fb4b7b939e0), ReentrantLock(nothing, 0x00000000, 0x00, Base.GenericCondition{Base.Threads.SpinLock}(Base.IntrusiveLinkedList{Task}(nothing, nothing), Base.Threads.SpinLock(0)), (8, 140415928964160, 0)))), WebIO.JSString[WebIO.JSString(\"function () {\\n    var handler = (function (ko, koPunches) {\\n    ko.punches.enableAll();\\n    ko.bindingHandlers.numericValue = {\\n        init: function(element, valueAccessor, allBindings, data, context) {\\n            var stringified = ko.observable(ko.unwrap(valueAccessor()));\\n            stringified.subscribe(function(value) {\\n                var val = parseFloat(value);\\n                if (!isNaN(val)) {\\n                    valueAccessor()(val);\\n                }\\n            });\\n            valueAccessor().subscribe(function(value) {\\n                var str = JSON.stringify(value);\\n                if ((str == \\\"0\\\") && ([\\\"-0\\\", \\\"-0.\\\"].indexOf(stringified()) >= 0))\\n                     return;\\n                 if ([\\\"null\\\", \\\"\\\"].indexOf(str) >= 0)\\n                     return;\\n                stringified(str);\\n            });\\n            ko.applyBindingsToNode(\\n                element,\\n                {\\n                    value: stringified,\\n                    valueUpdate: allBindings.get('valueUpdate'),\\n                },\\n                context,\\n            );\\n        }\\n    };\\n    var json_data = {\\\"formatted_vals\\\":[\\\"0.01\\\",\\\"0.02\\\",\\\"0.03\\\",\\\"0.04\\\",\\\"0.05\\\",\\\"0.06\\\",\\\"0.07\\\",\\\"0.08\\\",\\\"0.09\\\",\\\"0.1\\\",\\\"0.11\\\",\\\"0.12\\\",\\\"0.13\\\",\\\"0.14\\\",\\\"0.15\\\",\\\"0.16\\\",\\\"0.17\\\",\\\"0.18\\\",\\\"0.19\\\",\\\"0.2\\\",\\\"0.21\\\",\\\"0.22\\\",\\\"0.23\\\",\\\"0.24\\\",\\\"0.25\\\",\\\"0.26\\\",\\\"0.27\\\",\\\"0.28\\\",\\\"0.29\\\",\\\"0.3\\\",\\\"0.31\\\",\\\"0.32\\\",\\\"0.33\\\",\\\"0.34\\\",\\\"0.35\\\",\\\"0.36\\\",\\\"0.37\\\",\\\"0.38\\\",\\\"0.39\\\",\\\"0.4\\\",\\\"0.41\\\",\\\"0.42\\\",\\\"0.43\\\",\\\"0.44\\\",\\\"0.45\\\",\\\"0.46\\\",\\\"0.47\\\",\\\"0.48\\\",\\\"0.49\\\",\\\"0.5\\\",\\\"0.51\\\",\\\"0.52\\\",\\\"0.53\\\",\\\"0.54\\\",\\\"0.55\\\",\\\"0.56\\\",\\\"0.57\\\",\\\"0.58\\\",\\\"0.59\\\",\\\"0.6\\\",\\\"0.61\\\",\\\"0.62\\\",\\\"0.63\\\",\\\"0.64\\\",\\\"0.65\\\",\\\"0.66\\\",\\\"0.67\\\",\\\"0.68\\\",\\\"0.69\\\",\\\"0.7\\\",\\\"0.71\\\",\\\"0.72\\\",\\\"0.73\\\",\\\"0.74\\\",\\\"0.75\\\",\\\"0.76\\\",\\\"0.77\\\",\\\"0.78\\\",\\\"0.79\\\",\\\"0.8\\\",\\\"0.81\\\",\\\"0.82\\\",\\\"0.83\\\",\\\"0.84\\\",\\\"0.85\\\",\\\"0.86\\\",\\\"0.87\\\",\\\"0.88\\\",\\\"0.89\\\",\\\"0.9\\\",\\\"0.91\\\",\\\"0.92\\\",\\\"0.93\\\",\\\"0.94\\\",\\\"0.95\\\",\\\"0.96\\\",\\\"0.97\\\",\\\"0.98\\\",\\\"0.99\\\",\\\"1.0\\\"],\\\"changes\\\":WebIO.getval({\\\"name\\\":\\\"changes\\\",\\\"scope\\\":\\\"11133379032173082782\\\",\\\"id\\\":\\\"5931897068364222564\\\",\\\"type\\\":\\\"observable\\\"}),\\\"index\\\":WebIO.getval({\\\"name\\\":\\\"index\\\",\\\"scope\\\":\\\"11133379032173082782\\\",\\\"id\\\":\\\"9572246545534945531\\\",\\\"type\\\":\\\"observable\\\"})};\\n    var self = this;\\n    function AppViewModel() {\\n        for (var key in json_data) {\\n            var el = json_data[key];\\n            this[key] = Array.isArray(el) ? ko.observableArray(el) : ko.observable(el);\\n        }\\n        \\n        [this[\\\"formatted_val\\\"]=ko.computed(    function(){\\n        return this.formatted_vals()[parseInt(this.index())-(1)];\\n    }\\n,this)]\\n        [this[\\\"changes\\\"].subscribe((function (val){!(this.valueFromJulia[\\\"changes\\\"]) ? (WebIO.setval({\\\"name\\\":\\\"changes\\\",\\\"scope\\\":\\\"11133379032173082782\\\",\\\"id\\\":\\\"5931897068364222564\\\",\\\"type\\\":\\\"observable\\\"},val)) : undefined; return this.valueFromJulia[\\\"changes\\\"]=false}),self),this[\\\"index\\\"].subscribe((function (val){!(this.valueFromJulia[\\\"index\\\"]) ? (WebIO.setval({\\\"name\\\":\\\"index\\\",\\\"scope\\\":\\\"11133379032173082782\\\",\\\"id\\\":\\\"9572246545534945531\\\",\\\"type\\\":\\\"observable\\\"},val)) : undefined; return this.valueFromJulia[\\\"index\\\"]=false}),self)]\\n        \\n    }\\n    self.model = new AppViewModel();\\n    self.valueFromJulia = {};\\n    for (var key in json_data) {\\n        self.valueFromJulia[key] = false;\\n    }\\n    ko.applyBindings(self.model, self.dom);\\n}\\n);\\n    (WebIO.importBlock({\\\"data\\\":[{\\\"name\\\":\\\"knockout\\\",\\\"type\\\":\\\"js\\\",\\\"url\\\":\\\"/assetserver/727383f2a47bd31570b7da84eee7b022dd6d7c78-knockout.js\\\"},{\\\"name\\\":\\\"knockout_punches\\\",\\\"type\\\":\\\"js\\\",\\\"url\\\":\\\"/assetserver/382b41b3b1bd9f26f75861d360bad7f8beea211f-knockout_punches.js\\\"}],\\\"type\\\":\\\"async_block\\\"})).then((imports) => handler.apply(this, imports));\\n}\\n\")])], Dict{Symbol, Any}(:className => \"field interact-widget\")), WebIO.Node{WebIO.DOM}(WebIO.DOM(:html, :div), Any[WebIO.Scope(WebIO.Node{WebIO.DOM}(WebIO.DOM(:html, :div), Any[WebIO.Node{WebIO.DOM}(WebIO.DOM(:html, :div), Any[WebIO.Node{WebIO.DOM}(WebIO.DOM(:html, :label), Any[\"grass_grow_prob\"], Dict{Symbol, Any}(:className => \"interact \", :style => Dict{Any, Any}(:padding => \"5px 10px 0px 10px\")))], Dict{Symbol, Any}(:className => \"interact-flex-row-left\")), WebIO.Node{WebIO.DOM}(WebIO.DOM(:html, :div), Any[WebIO.Node{WebIO.DOM}(WebIO.DOM(:html, :input), Any[], Dict{Symbol, Any}(:max => 50, :min => 1, :attributes => Dict{Any, Any}(:type => \"range\", Symbol(\"data-bind\") => \"numericValue: index, valueUpdate: 'input', event: {change: function (){this.changes(this.changes()+1)}}\", \"orient\" => \"horizontal\"), :step => 1, :className => \"slider slider is-fullwidth\", :style => Dict{Any, Any}()))], Dict{Symbol, Any}(:className => \"interact-flex-row-center\")), WebIO.Node{WebIO.DOM}(WebIO.DOM(:html, :div), Any[WebIO.Node{WebIO.DOM}(WebIO.DOM(:html, :p), Any[], Dict{Symbol, Any}(:attributes => Dict(\"data-bind\" => \"text: formatted_val\")))], Dict{Symbol, Any}(:className => \"interact-flex-row-right\"))], Dict{Symbol, Any}(:className => \"interact-flex-row interact-widget\")), Dict{String, Tuple{Observables.AbstractObservable, Union{Nothing, Bool}}}(\"changes\" => (Observable(0), nothing), \"index\" => (Observable{Any}(25), nothing)), Set{String}(), nothing, WebIO.Asset[WebIO.Asset(\"js\", \"knockout\", \"/home/dushya/.julia/packages/Knockout/HReiN/src/../assets/knockout.js\"), WebIO.Asset(\"js\", \"knockout_punches\", \"/home/dushya/.julia/packages/Knockout/HReiN/src/../assets/knockout_punches.js\"), WebIO.Asset(\"js\", nothing, \"/home/dushya/.julia/packages/InteractBase/LJXv3/src/../assets/all.js\"), WebIO.Asset(\"css\", nothing, \"/home/dushya/.julia/packages/InteractBase/LJXv3/src/../assets/style.css\"), WebIO.Asset(\"css\", nothing, \"/home/dushya/.julia/packages/Interact/PENUy/src/../assets/bulma_confined.min.css\")], Dict{Any, Any}(\"changes\" => Any[WebIO.JSString(\"(function (val){return (val!=this.model[\\\"changes\\\"]()) ? (this.valueFromJulia[\\\"changes\\\"]=true, this.model[\\\"changes\\\"](val)) : undefined})\")], \"index\" => Any[WebIO.JSString(\"(function (val){return (val!=this.model[\\\"index\\\"]()) ? (this.valueFromJulia[\\\"index\\\"]=true, this.model[\\\"index\\\"](val)) : undefined})\")]), WebIO.ConnectionPool(Channel{Any}(32), Set{WebIO.AbstractConnection}(), Base.GenericCondition{ReentrantLock}(Base.IntrusiveLinkedList{Task}(Task (runnable) @0x00007fb4b7baa400, Task (runnable) @0x00007fb4b7baa400), ReentrantLock(nothing, 0x00000000, 0x00, Base.GenericCondition{Base.Threads.SpinLock}(Base.IntrusiveLinkedList{Task}(nothing, nothing), Base.Threads.SpinLock(0)), (0, 140416072544768, 140416072544832)))), WebIO.JSString[WebIO.JSString(\"function () {\\n    var handler = (function (ko, koPunches) {\\n    ko.punches.enableAll();\\n    ko.bindingHandlers.numericValue = {\\n        init: function(element, valueAccessor, allBindings, data, context) {\\n            var stringified = ko.observable(ko.unwrap(valueAccessor()));\\n            stringified.subscribe(function(value) {\\n                var val = parseFloat(value);\\n                if (!isNaN(val)) {\\n                    valueAccessor()(val);\\n                }\\n            });\\n            valueAccessor().subscribe(function(value) {\\n                var str = JSON.stringify(value);\\n                if ((str == \\\"0\\\") && ([\\\"-0\\\", \\\"-0.\\\"].indexOf(stringified()) >= 0))\\n                     return;\\n                 if ([\\\"null\\\", \\\"\\\"].indexOf(str) >= 0)\\n                     return;\\n                stringified(str);\\n            });\\n            ko.applyBindingsToNode(\\n                element,\\n                {\\n                    value: stringified,\\n                    valueUpdate: allBindings.get('valueUpdate'),\\n                },\\n                context,\\n            );\\n        }\\n    };\\n    var json_data = {\\\"formatted_vals\\\":[\\\"0.01\\\",\\\"0.02\\\",\\\"0.03\\\",\\\"0.04\\\",\\\"0.05\\\",\\\"0.06\\\",\\\"0.07\\\",\\\"0.08\\\",\\\"0.09\\\",\\\"0.1\\\",\\\"0.11\\\",\\\"0.12\\\",\\\"0.13\\\",\\\"0.14\\\",\\\"0.15\\\",\\\"0.16\\\",\\\"0.17\\\",\\\"0.18\\\",\\\"0.19\\\",\\\"0.2\\\",\\\"0.21\\\",\\\"0.22\\\",\\\"0.23\\\",\\\"0.24\\\",\\\"0.25\\\",\\\"0.26\\\",\\\"0.27\\\",\\\"0.28\\\",\\\"0.29\\\",\\\"0.3\\\",\\\"0.31\\\",\\\"0.32\\\",\\\"0.33\\\",\\\"0.34\\\",\\\"0.35\\\",\\\"0.36\\\",\\\"0.37\\\",\\\"0.38\\\",\\\"0.39\\\",\\\"0.4\\\",\\\"0.41\\\",\\\"0.42\\\",\\\"0.43\\\",\\\"0.44\\\",\\\"0.45\\\",\\\"0.46\\\",\\\"0.47\\\",\\\"0.48\\\",\\\"0.49\\\",\\\"0.5\\\"],\\\"changes\\\":WebIO.getval({\\\"name\\\":\\\"changes\\\",\\\"scope\\\":\\\"263644731038271837\\\",\\\"id\\\":\\\"15855702879814363263\\\",\\\"type\\\":\\\"observable\\\"}),\\\"index\\\":WebIO.getval({\\\"name\\\":\\\"index\\\",\\\"scope\\\":\\\"263644731038271837\\\",\\\"id\\\":\\\"14129342717855967576\\\",\\\"type\\\":\\\"observable\\\"})};\\n    var self = this;\\n    function AppViewModel() {\\n        for (var key in json_data) {\\n            var el = json_data[key];\\n            this[key] = Array.isArray(el) ? ko.observableArray(el) : ko.observable(el);\\n        }\\n        \\n        [this[\\\"formatted_val\\\"]=ko.computed(    function(){\\n        return this.formatted_vals()[parseInt(this.index())-(1)];\\n    }\\n,this)]\\n        [this[\\\"changes\\\"].subscribe((function (val){!(this.valueFromJulia[\\\"changes\\\"]) ? (WebIO.setval({\\\"name\\\":\\\"changes\\\",\\\"scope\\\":\\\"263644731038271837\\\",\\\"id\\\":\\\"15855702879814363263\\\",\\\"type\\\":\\\"observable\\\"},val)) : undefined; return this.valueFromJulia[\\\"changes\\\"]=false}),self),this[\\\"index\\\"].subscribe((function (val){!(this.valueFromJulia[\\\"index\\\"]) ? (WebIO.setval({\\\"name\\\":\\\"index\\\",\\\"scope\\\":\\\"263644731038271837\\\",\\\"id\\\":\\\"14129342717855967576\\\",\\\"type\\\":\\\"observable\\\"},val)) : undefined; return this.valueFromJulia[\\\"index\\\"]=false}),self)]\\n        \\n    }\\n    self.model = new AppViewModel();\\n    self.valueFromJulia = {};\\n    for (var key in json_data) {\\n        self.valueFromJulia[key] = false;\\n    }\\n    ko.applyBindings(self.model, self.dom);\\n}\\n);\\n    (WebIO.importBlock({\\\"data\\\":[{\\\"name\\\":\\\"knockout\\\",\\\"type\\\":\\\"js\\\",\\\"url\\\":\\\"/assetserver/727383f2a47bd31570b7da84eee7b022dd6d7c78-knockout.js\\\"},{\\\"name\\\":\\\"knockout_punches\\\",\\\"type\\\":\\\"js\\\",\\\"url\\\":\\\"/assetserver/382b41b3b1bd9f26f75861d360bad7f8beea211f-knockout_punches.js\\\"}],\\\"type\\\":\\\"async_block\\\"})).then((imports) => handler.apply(this, imports));\\n}\\n\")])], Dict{Symbol, Any}(:className => \"field interact-widget\"))], Dict{Symbol, Any}(:style => Dict(\"display\" => \"flex\", \"flex-direction\" => \"column\"))), WebIO.Node{WebIO.DOM}(WebIO.DOM(:html, :div), Any[WebIO.Node{WebIO.DOM}(WebIO.DOM(:html, :div), Any[WebIO.Scope(WebIO.Node{WebIO.DOM}(WebIO.DOM(:html, :div), Any[], Dict{Symbol, Any}(:id => \"container\")), Dict{String, Tuple{Observables.AbstractObservable, Union{Nothing, Bool}}}(\"value\" => (Observable(\"\\\\;\\\\;\"), nothing)), Set{String}(), nothing, WebIO.Asset[WebIO.Asset(\"js\", nothing, \"/home/dushya/.julia/packages/InteractBase/LJXv3/src/../assets/katex.min.js\"), WebIO.Asset(\"css\", nothing, \"/home/dushya/.julia/packages/InteractBase/LJXv3/src/../assets/katex.min.css\")], Dict{Any, Any}(\"value\" => Any[WebIO.JSString(\"(function (txt){return this.k.render(txt,this.container)})\")]), WebIO.ConnectionPool(Channel{Any}(32), Set{WebIO.AbstractConnection}(), Base.GenericCondition{ReentrantLock}(Base.IntrusiveLinkedList{Task}(Task (runnable) @0x00007fb4f5a460e0, Task (runnable) @0x00007fb4f5a460e0), ReentrantLock(nothing, 0x00000000, 0x00, Base.GenericCondition{Base.Threads.SpinLock}(Base.IntrusiveLinkedList{Task}(nothing, nothing), Base.Threads.SpinLock(0)), (5, 412317937776, 140414151018064)))), WebIO.JSString[WebIO.JSString(\"function () {\\n    var handler = ((function (k){this.k=k; this.container=this.dom.querySelector(\\\"#container\\\"); return k.render(\\\"\\\\\\\\;\\\\\\\\;\\\",this.container)}));\\n    (WebIO.importBlock({\\\"data\\\":[{\\\"name\\\":null,\\\"type\\\":\\\"js\\\",\\\"url\\\":\\\"/assetserver/dd22ed1bf1896c2748f3fe616ce0b838adc895c1-katex.min.js\\\"},{\\\"name\\\":null,\\\"type\\\":\\\"css\\\",\\\"url\\\":\\\"/assetserver/46517a424aa5e6cffc1360d7e0848b601c584ee3-katex.min.css\\\"}],\\\"type\\\":\\\"async_block\\\"})).then((imports) => handler.apply(this, imports));\\n}\\n\")])], Dict{Symbol, Any}(:className => \"interact-widget\")), WebIO.Node{WebIO.DOM}(WebIO.DOM(:html, :div), Any[WebIO.Scope(WebIO.Node{WebIO.DOM}(WebIO.DOM(:html, :button), Any[\"run\"], Dict{Symbol, Any}(:attributes => Dict{Any, Any}(\"data-bind\" => \"click: function (){this.clicks(this.clicks()+1)}, css: {'is-loading' : loading}\"), :className => \"is-medium button is-primary\", :style => Dict{String, Any}())), Dict{String, Tuple{Observables.AbstractObservable, Union{Nothing, Bool}}}(\"loading\" => (Observable(false), nothing), \"clicks\" => (Observable(0), nothing)), Set{String}(), nothing, WebIO.Asset[WebIO.Asset(\"js\", \"knockout\", \"/home/dushya/.julia/packages/Knockout/HReiN/src/../assets/knockout.js\"), WebIO.Asset(\"js\", \"knockout_punches\", \"/home/dushya/.julia/packages/Knockout/HReiN/src/../assets/knockout_punches.js\"), WebIO.Asset(\"js\", nothing, \"/home/dushya/.julia/packages/InteractBase/LJXv3/src/../assets/all.js\"), WebIO.Asset(\"css\", nothing, \"/home/dushya/.julia/packages/InteractBase/LJXv3/src/../assets/style.css\"), WebIO.Asset(\"css\", nothing, \"/home/dushya/.julia/packages/Interact/PENUy/src/../assets/bulma_confined.min.css\")], Dict{Any, Any}(\"loading\" => Any[WebIO.JSString(\"(function (val){return (val!=this.model[\\\"loading\\\"]()) ? (this.valueFromJulia[\\\"loading\\\"]=true, this.model[\\\"loading\\\"](val)) : undefined})\")], \"clicks\" => Any[WebIO.JSString(\"(function (val){return (val!=this.model[\\\"clicks\\\"]()) ? (this.valueFromJulia[\\\"clicks\\\"]=true, this.model[\\\"clicks\\\"](val)) : undefined})\")]), WebIO.ConnectionPool(Channel{Any}(32), Set{WebIO.AbstractConnection}(), Base.GenericCondition{ReentrantLock}(Base.IntrusiveLinkedList{Task}(Task (runnable) @0x00007fb4b7c1d140, Task (runnable) @0x00007fb4b7c1d140), ReentrantLock(nothing, 0x00000000, 0x00, Base.GenericCondition{Base.Threads.SpinLock}(Base.IntrusiveLinkedList{Task}(nothing, nothing), Base.Threads.SpinLock(0)), (0, 0, 141733920768)))), WebIO.JSString[WebIO.JSString(\"function () {\\n    var handler = (function (ko, koPunches) {\\n    ko.punches.enableAll();\\n    ko.bindingHandlers.numericValue = {\\n        init: function(element, valueAccessor, allBindings, data, context) {\\n            var stringified = ko.observable(ko.unwrap(valueAccessor()));\\n            stringified.subscribe(function(value) {\\n                var val = parseFloat(value);\\n                if (!isNaN(val)) {\\n                    valueAccessor()(val);\\n                }\\n            });\\n            valueAccessor().subscribe(function(value) {\\n                var str = JSON.stringify(value);\\n                if ((str == \\\"0\\\") && ([\\\"-0\\\", \\\"-0.\\\"].indexOf(stringified()) >= 0))\\n                     return;\\n                 if ([\\\"null\\\", \\\"\\\"].indexOf(str) >= 0)\\n                     return;\\n                stringified(str);\\n            });\\n            ko.applyBindingsToNode(\\n                element,\\n                {\\n                    value: stringified,\\n                    valueUpdate: allBindings.get('valueUpdate'),\\n                },\\n                context,\\n            );\\n        }\\n    };\\n    var json_data = {\\\"loading\\\":WebIO.getval({\\\"name\\\":\\\"loading\\\",\\\"scope\\\":\\\"8701165738090376689\\\",\\\"id\\\":\\\"6332379702002335304\\\",\\\"type\\\":\\\"observable\\\"}),\\\"clicks\\\":WebIO.getval({\\\"name\\\":\\\"clicks\\\",\\\"scope\\\":\\\"8701165738090376689\\\",\\\"id\\\":\\\"16830195446793079458\\\",\\\"type\\\":\\\"observable\\\"})};\\n    var self = this;\\n    function AppViewModel() {\\n        for (var key in json_data) {\\n            var el = json_data[key];\\n            this[key] = Array.isArray(el) ? ko.observableArray(el) : ko.observable(el);\\n        }\\n        \\n        \\n        [this[\\\"loading\\\"].subscribe((function (val){!(this.valueFromJulia[\\\"loading\\\"]) ? (WebIO.setval({\\\"name\\\":\\\"loading\\\",\\\"scope\\\":\\\"8701165738090376689\\\",\\\"id\\\":\\\"6332379702002335304\\\",\\\"type\\\":\\\"observable\\\"},val)) : undefined; return this.valueFromJulia[\\\"loading\\\"]=false}),self),this[\\\"clicks\\\"].subscribe((function (val){!(this.valueFromJulia[\\\"clicks\\\"]) ? (WebIO.setval({\\\"name\\\":\\\"clicks\\\",\\\"scope\\\":\\\"8701165738090376689\\\",\\\"id\\\":\\\"16830195446793079458\\\",\\\"type\\\":\\\"observable\\\"},val)) : undefined; return this.valueFromJulia[\\\"clicks\\\"]=false}),self)]\\n        \\n    }\\n    self.model = new AppViewModel();\\n    self.valueFromJulia = {};\\n    for (var key in json_data) {\\n        self.valueFromJulia[key] = false;\\n    }\\n    ko.applyBindings(self.model, self.dom);\\n}\\n);\\n    (WebIO.importBlock({\\\"data\\\":[{\\\"name\\\":\\\"knockout\\\",\\\"type\\\":\\\"js\\\",\\\"url\\\":\\\"/assetserver/727383f2a47bd31570b7da84eee7b022dd6d7c78-knockout.js\\\"},{\\\"name\\\":\\\"knockout_punches\\\",\\\"type\\\":\\\"js\\\",\\\"url\\\":\\\"/assetserver/382b41b3b1bd9f26f75861d360bad7f8beea211f-knockout_punches.js\\\"}],\\\"type\\\":\\\"async_block\\\"})).then((imports) => handler.apply(this, imports));\\n}\\n\")])], Dict{Symbol, Any}(:className => \"field interact-widget\")), WebIO.Node{WebIO.DOM}(WebIO.DOM(:html, :div), Any[WebIO.Scope(WebIO.Node{WebIO.DOM}(WebIO.DOM(:html, :div), Any[], Dict{Symbol, Any}(:id => \"container\")), Dict{String, Tuple{Observables.AbstractObservable, Union{Nothing, Bool}}}(\"value\" => (Observable(\"\\\\;\\\\;\"), nothing)), Set{String}(), nothing, WebIO.Asset[WebIO.Asset(\"js\", nothing, \"/home/dushya/.julia/packages/InteractBase/LJXv3/src/../assets/katex.min.js\"), WebIO.Asset(\"css\", nothing, \"/home/dushya/.julia/packages/InteractBase/LJXv3/src/../assets/katex.min.css\")], Dict{Any, Any}(\"value\" => Any[WebIO.JSString(\"(function (txt){return this.k.render(txt,this.container)})\")]), WebIO.ConnectionPool(Channel{Any}(32), Set{WebIO.AbstractConnection}(), Base.GenericCondition{ReentrantLock}(Base.IntrusiveLinkedList{Task}(Task (runnable) @0x00007fb4f5a460e0, Task (runnable) @0x00007fb4f5a460e0), ReentrantLock(nothing, 0x00000000, 0x00, Base.GenericCondition{Base.Threads.SpinLock}(Base.IntrusiveLinkedList{Task}(nothing, nothing), Base.Threads.SpinLock(0)), (5, 412317937776, 140414151018064)))), WebIO.JSString[WebIO.JSString(\"function () {\\n    var handler = ((function (k){this.k=k; this.container=this.dom.querySelector(\\\"#container\\\"); return k.render(\\\"\\\\\\\\;\\\\\\\\;\\\",this.container)}));\\n    (WebIO.importBlock({\\\"data\\\":[{\\\"name\\\":null,\\\"type\\\":\\\"js\\\",\\\"url\\\":\\\"/assetserver/dd22ed1bf1896c2748f3fe616ce0b838adc895c1-katex.min.js\\\"},{\\\"name\\\":null,\\\"type\\\":\\\"css\\\",\\\"url\\\":\\\"/assetserver/46517a424aa5e6cffc1360d7e0848b601c584ee3-katex.min.css\\\"}],\\\"type\\\":\\\"async_block\\\"})).then((imports) => handler.apply(this, imports));\\n}\\n\")])], Dict{Symbol, Any}(:className => \"interact-widget\")), WebIO.Node{WebIO.DOM}(WebIO.DOM(:html, :div), Any[WebIO.Scope(WebIO.Node{WebIO.DOM}(WebIO.DOM(:html, :button), Any[\"stop\"], Dict{Symbol, Any}(:attributes => Dict{Any, Any}(\"data-bind\" => \"click: function (){this.clicks(this.clicks()+1)}, css: {'is-loading' : loading}\"), :className => \"is-medium button is-primary\", :style => Dict{String, Any}())), Dict{String, Tuple{Observables.AbstractObservable, Union{Nothing, Bool}}}(\"loading\" => (Observable(false), nothing), \"clicks\" => (Observable(0), nothing)), Set{String}(), nothing, WebIO.Asset[WebIO.Asset(\"js\", \"knockout\", \"/home/dushya/.julia/packages/Knockout/HReiN/src/../assets/knockout.js\"), WebIO.Asset(\"js\", \"knockout_punches\", \"/home/dushya/.julia/packages/Knockout/HReiN/src/../assets/knockout_punches.js\"), WebIO.Asset(\"js\", nothing, \"/home/dushya/.julia/packages/InteractBase/LJXv3/src/../assets/all.js\"), WebIO.Asset(\"css\", nothing, \"/home/dushya/.julia/packages/InteractBase/LJXv3/src/../assets/style.css\"), WebIO.Asset(\"css\", nothing, \"/home/dushya/.julia/packages/Interact/PENUy/src/../assets/bulma_confined.min.css\")], Dict{Any, Any}(\"loading\" => Any[WebIO.JSString(\"(function (val){return (val!=this.model[\\\"loading\\\"]()) ? (this.valueFromJulia[\\\"loading\\\"]=true, this.model[\\\"loading\\\"](val)) : undefined})\")], \"clicks\" => Any[WebIO.JSString(\"(function (val){return (val!=this.model[\\\"clicks\\\"]()) ? (this.valueFromJulia[\\\"clicks\\\"]=true, this.model[\\\"clicks\\\"](val)) : undefined})\")]), WebIO.ConnectionPool(Channel{Any}(32), Set{WebIO.AbstractConnection}(), Base.GenericCondition{ReentrantLock}(Base.IntrusiveLinkedList{Task}(Task (runnable) @0x00007fb4b7c1f850, Task (runnable) @0x00007fb4b7c1f850), ReentrantLock(nothing, 0x00000000, 0x00, Base.GenericCondition{Base.Threads.SpinLock}(Base.IntrusiveLinkedList{Task}(nothing, nothing), Base.Threads.SpinLock(0)), (8, 140416072544448, 140416072577120)))), WebIO.JSString[WebIO.JSString(\"function () {\\n    var handler = (function (ko, koPunches) {\\n    ko.punches.enableAll();\\n    ko.bindingHandlers.numericValue = {\\n        init: function(element, valueAccessor, allBindings, data, context) {\\n            var stringified = ko.observable(ko.unwrap(valueAccessor()));\\n            stringified.subscribe(function(value) {\\n                var val = parseFloat(value);\\n                if (!isNaN(val)) {\\n                    valueAccessor()(val);\\n                }\\n            });\\n            valueAccessor().subscribe(function(value) {\\n                var str = JSON.stringify(value);\\n                if ((str == \\\"0\\\") && ([\\\"-0\\\", \\\"-0.\\\"].indexOf(stringified()) >= 0))\\n                     return;\\n                 if ([\\\"null\\\", \\\"\\\"].indexOf(str) >= 0)\\n                     return;\\n                stringified(str);\\n            });\\n            ko.applyBindingsToNode(\\n                element,\\n                {\\n                    value: stringified,\\n                    valueUpdate: allBindings.get('valueUpdate'),\\n                },\\n                context,\\n            );\\n        }\\n    };\\n    var json_data = {\\\"loading\\\":WebIO.getval({\\\"name\\\":\\\"loading\\\",\\\"scope\\\":\\\"6791602698063755910\\\",\\\"id\\\":\\\"17837286398174282232\\\",\\\"type\\\":\\\"observable\\\"}),\\\"clicks\\\":WebIO.getval({\\\"name\\\":\\\"clicks\\\",\\\"scope\\\":\\\"6791602698063755910\\\",\\\"id\\\":\\\"5219247083923321911\\\",\\\"type\\\":\\\"observable\\\"})};\\n    var self = this;\\n    function AppViewModel() {\\n        for (var key in json_data) {\\n            var el = json_data[key];\\n            this[key] = Array.isArray(el) ? ko.observableArray(el) : ko.observable(el);\\n        }\\n        \\n        \\n        [this[\\\"loading\\\"].subscribe((function (val){!(this.valueFromJulia[\\\"loading\\\"]) ? (WebIO.setval({\\\"name\\\":\\\"loading\\\",\\\"scope\\\":\\\"6791602698063755910\\\",\\\"id\\\":\\\"17837286398174282232\\\",\\\"type\\\":\\\"observable\\\"},val)) : undefined; return this.valueFromJulia[\\\"loading\\\"]=false}),self),this[\\\"clicks\\\"].subscribe((function (val){!(this.valueFromJulia[\\\"clicks\\\"]) ? (WebIO.setval({\\\"name\\\":\\\"clicks\\\",\\\"scope\\\":\\\"6791602698063755910\\\",\\\"id\\\":\\\"5219247083923321911\\\",\\\"type\\\":\\\"observable\\\"},val)) : undefined; return this.valueFromJulia[\\\"clicks\\\"]=false}),self)]\\n        \\n    }\\n    self.model = new AppViewModel();\\n    self.valueFromJulia = {};\\n    for (var key in json_data) {\\n        self.valueFromJulia[key] = false;\\n    }\\n    ko.applyBindings(self.model, self.dom);\\n}\\n);\\n    (WebIO.importBlock({\\\"data\\\":[{\\\"name\\\":\\\"knockout\\\",\\\"type\\\":\\\"js\\\",\\\"url\\\":\\\"/assetserver/727383f2a47bd31570b7da84eee7b022dd6d7c78-knockout.js\\\"},{\\\"name\\\":\\\"knockout_punches\\\",\\\"type\\\":\\\"js\\\",\\\"url\\\":\\\"/assetserver/382b41b3b1bd9f26f75861d360bad7f8beea211f-knockout_punches.js\\\"}],\\\"type\\\":\\\"async_block\\\"})).then((imports) => handler.apply(this, imports));\\n}\\n\")])], Dict{Symbol, Any}(:className => \"field interact-widget\")), WebIO.Node{WebIO.DOM}(WebIO.DOM(:html, :div), Any[WebIO.Scope(WebIO.Node{WebIO.DOM}(WebIO.DOM(:html, :div), Any[], Dict{Symbol, Any}(:id => \"container\")), Dict{String, Tuple{Observables.AbstractObservable, Union{Nothing, Bool}}}(\"value\" => (Observable(\"\\\\;\\\\;\"), nothing)), Set{String}(), nothing, WebIO.Asset[WebIO.Asset(\"js\", nothing, \"/home/dushya/.julia/packages/InteractBase/LJXv3/src/../assets/katex.min.js\"), WebIO.Asset(\"css\", nothing, \"/home/dushya/.julia/packages/InteractBase/LJXv3/src/../assets/katex.min.css\")], Dict{Any, Any}(\"value\" => Any[WebIO.JSString(\"(function (txt){return this.k.render(txt,this.container)})\")]), WebIO.ConnectionPool(Channel{Any}(32), Set{WebIO.AbstractConnection}(), Base.GenericCondition{ReentrantLock}(Base.IntrusiveLinkedList{Task}(Task (runnable) @0x00007fb4f5a460e0, Task (runnable) @0x00007fb4f5a460e0), ReentrantLock(nothing, 0x00000000, 0x00, Base.GenericCondition{Base.Threads.SpinLock}(Base.IntrusiveLinkedList{Task}(nothing, nothing), Base.Threads.SpinLock(0)), (5, 412317937776, 140414151018064)))), WebIO.JSString[WebIO.JSString(\"function () {\\n    var handler = ((function (k){this.k=k; this.container=this.dom.querySelector(\\\"#container\\\"); return k.render(\\\"\\\\\\\\;\\\\\\\\;\\\",this.container)}));\\n    (WebIO.importBlock({\\\"data\\\":[{\\\"name\\\":null,\\\"type\\\":\\\"js\\\",\\\"url\\\":\\\"/assetserver/dd22ed1bf1896c2748f3fe616ce0b838adc895c1-katex.min.js\\\"},{\\\"name\\\":null,\\\"type\\\":\\\"css\\\",\\\"url\\\":\\\"/assetserver/46517a424aa5e6cffc1360d7e0848b601c584ee3-katex.min.css\\\"}],\\\"type\\\":\\\"async_block\\\"})).then((imports) => handler.apply(this, imports));\\n}\\n\")])], Dict{Symbol, Any}(:className => \"interact-widget\")), WebIO.Node{WebIO.DOM}(WebIO.DOM(:html, :div), Any[WebIO.Scope(WebIO.Node{WebIO.DOM}(WebIO.DOM(:html, :button), Any[\"reset\"], Dict{Symbol, Any}(:attributes => Dict{Any, Any}(\"data-bind\" => \"click: function (){this.clicks(this.clicks()+1)}, css: {'is-loading' : loading}\"), :className => \"is-medium button is-primary\", :style => Dict{String, Any}())), Dict{String, Tuple{Observables.AbstractObservable, Union{Nothing, Bool}}}(\"loading\" => (Observable(false), nothing), \"clicks\" => (Observable(0), nothing)), Set{String}(), nothing, WebIO.Asset[WebIO.Asset(\"js\", \"knockout\", \"/home/dushya/.julia/packages/Knockout/HReiN/src/../assets/knockout.js\"), WebIO.Asset(\"js\", \"knockout_punches\", \"/home/dushya/.julia/packages/Knockout/HReiN/src/../assets/knockout_punches.js\"), WebIO.Asset(\"js\", nothing, \"/home/dushya/.julia/packages/InteractBase/LJXv3/src/../assets/all.js\"), WebIO.Asset(\"css\", nothing, \"/home/dushya/.julia/packages/InteractBase/LJXv3/src/../assets/style.css\"), WebIO.Asset(\"css\", nothing, \"/home/dushya/.julia/packages/Interact/PENUy/src/../assets/bulma_confined.min.css\")], Dict{Any, Any}(\"loading\" => Any[WebIO.JSString(\"(function (val){return (val!=this.model[\\\"loading\\\"]()) ? (this.valueFromJulia[\\\"loading\\\"]=true, this.model[\\\"loading\\\"](val)) : undefined})\")], \"clicks\" => Any[WebIO.JSString(\"(function (val){return (val!=this.model[\\\"clicks\\\"]()) ? (this.valueFromJulia[\\\"clicks\\\"]=true, this.model[\\\"clicks\\\"](val)) : undefined})\")]), WebIO.ConnectionPool(Channel{Any}(32), Set{WebIO.AbstractConnection}(), Base.GenericCondition{ReentrantLock}(Base.IntrusiveLinkedList{Task}(Task (runnable) @0x00007fb4f465e0e0, Task (runnable) @0x00007fb4f465e0e0), ReentrantLock(nothing, 0x00000000, 0x00, Base.GenericCondition{Base.Threads.SpinLock}(Base.IntrusiveLinkedList{Task}(nothing, nothing), Base.Threads.SpinLock(0)), (0, 0, 141733920768)))), WebIO.JSString[WebIO.JSString(\"function () {\\n    var handler = (function (ko, koPunches) {\\n    ko.punches.enableAll();\\n    ko.bindingHandlers.numericValue = {\\n        init: function(element, valueAccessor, allBindings, data, context) {\\n            var stringified = ko.observable(ko.unwrap(valueAccessor()));\\n            stringified.subscribe(function(value) {\\n                var val = parseFloat(value);\\n                if (!isNaN(val)) {\\n                    valueAccessor()(val);\\n                }\\n            });\\n            valueAccessor().subscribe(function(value) {\\n                var str = JSON.stringify(value);\\n                if ((str == \\\"0\\\") && ([\\\"-0\\\", \\\"-0.\\\"].indexOf(stringified()) >= 0))\\n                     return;\\n                 if ([\\\"null\\\", \\\"\\\"].indexOf(str) >= 0)\\n                     return;\\n                stringified(str);\\n            });\\n            ko.applyBindingsToNode(\\n                element,\\n                {\\n                    value: stringified,\\n                    valueUpdate: allBindings.get('valueUpdate'),\\n                },\\n                context,\\n            );\\n        }\\n    };\\n    var json_data = {\\\"loading\\\":WebIO.getval({\\\"name\\\":\\\"loading\\\",\\\"scope\\\":\\\"7646059207613493820\\\",\\\"id\\\":\\\"4541641570840055789\\\",\\\"type\\\":\\\"observable\\\"}),\\\"clicks\\\":WebIO.getval({\\\"name\\\":\\\"clicks\\\",\\\"scope\\\":\\\"7646059207613493820\\\",\\\"id\\\":\\\"1079128400140210872\\\",\\\"type\\\":\\\"observable\\\"})};\\n    var self = this;\\n    function AppViewModel() {\\n        for (var key in json_data) {\\n            var el = json_data[key];\\n            this[key] = Array.isArray(el) ? ko.observableArray(el) : ko.observable(el);\\n        }\\n        \\n        \\n        [this[\\\"loading\\\"].subscribe((function (val){!(this.valueFromJulia[\\\"loading\\\"]) ? (WebIO.setval({\\\"name\\\":\\\"loading\\\",\\\"scope\\\":\\\"7646059207613493820\\\",\\\"id\\\":\\\"4541641570840055789\\\",\\\"type\\\":\\\"observable\\\"},val)) : undefined; return this.valueFromJulia[\\\"loading\\\"]=false}),self),this[\\\"clicks\\\"].subscribe((function (val){!(this.valueFromJulia[\\\"clicks\\\"]) ? (WebIO.setval({\\\"name\\\":\\\"clicks\\\",\\\"scope\\\":\\\"7646059207613493820\\\",\\\"id\\\":\\\"1079128400140210872\\\",\\\"type\\\":\\\"observable\\\"},val)) : undefined; return this.valueFromJulia[\\\"clicks\\\"]=false}),self)]\\n        \\n    }\\n    self.model = new AppViewModel();\\n    self.valueFromJulia = {};\\n    for (var key in json_data) {\\n        self.valueFromJulia[key] = false;\\n    }\\n    ko.applyBindings(self.model, self.dom);\\n}\\n);\\n    (WebIO.importBlock({\\\"data\\\":[{\\\"name\\\":\\\"knockout\\\",\\\"type\\\":\\\"js\\\",\\\"url\\\":\\\"/assetserver/727383f2a47bd31570b7da84eee7b022dd6d7c78-knockout.js\\\"},{\\\"name\\\":\\\"knockout_punches\\\",\\\"type\\\":\\\"js\\\",\\\"url\\\":\\\"/assetserver/382b41b3b1bd9f26f75861d360bad7f8beea211f-knockout_punches.js\\\"}],\\\"type\\\":\\\"async_block\\\"})).then((imports) => handler.apply(this, imports));\\n}\\n\")])], Dict{Symbol, Any}(:className => \"field interact-widget\")), WebIO.Node{WebIO.DOM}(WebIO.DOM(:html, :div), Any[WebIO.Scope(WebIO.Node{WebIO.DOM}(WebIO.DOM(:html, :div), Any[], Dict{Symbol, Any}(:id => \"container\")), Dict{String, Tuple{Observables.AbstractObservable, Union{Nothing, Bool}}}(\"value\" => (Observable(\"\\\\;\\\\;\"), nothing)), Set{String}(), nothing, WebIO.Asset[WebIO.Asset(\"js\", nothing, \"/home/dushya/.julia/packages/InteractBase/LJXv3/src/../assets/katex.min.js\"), WebIO.Asset(\"css\", nothing, \"/home/dushya/.julia/packages/InteractBase/LJXv3/src/../assets/katex.min.css\")], Dict{Any, Any}(\"value\" => Any[WebIO.JSString(\"(function (txt){return this.k.render(txt,this.container)})\")]), WebIO.ConnectionPool(Channel{Any}(32), Set{WebIO.AbstractConnection}(), Base.GenericCondition{ReentrantLock}(Base.IntrusiveLinkedList{Task}(Task (runnable) @0x00007fb4f5a460e0, Task (runnable) @0x00007fb4f5a460e0), ReentrantLock(nothing, 0x00000000, 0x00, Base.GenericCondition{Base.Threads.SpinLock}(Base.IntrusiveLinkedList{Task}(nothing, nothing), Base.Threads.SpinLock(0)), (5, 412317937776, 140414151018064)))), WebIO.JSString[WebIO.JSString(\"function () {\\n    var handler = ((function (k){this.k=k; this.container=this.dom.querySelector(\\\"#container\\\"); return k.render(\\\"\\\\\\\\;\\\\\\\\;\\\",this.container)}));\\n    (WebIO.importBlock({\\\"data\\\":[{\\\"name\\\":null,\\\"type\\\":\\\"js\\\",\\\"url\\\":\\\"/assetserver/dd22ed1bf1896c2748f3fe616ce0b838adc895c1-katex.min.js\\\"},{\\\"name\\\":null,\\\"type\\\":\\\"css\\\",\\\"url\\\":\\\"/assetserver/46517a424aa5e6cffc1360d7e0848b601c584ee3-katex.min.css\\\"}],\\\"type\\\":\\\"async_block\\\"})).then((imports) => handler.apply(this, imports));\\n}\\n\")])], Dict{Symbol, Any}(:className => \"interact-widget\")), WebIO.Node{WebIO.DOM}(WebIO.DOM(:html, :div), Any[WebIO.Scope(WebIO.Node{WebIO.DOM}(WebIO.DOM(:html, :button), Any[\"save\"], Dict{Symbol, Any}(:attributes => Dict{Any, Any}(\"data-bind\" => \"click: function (){this.clicks(this.clicks()+1)}, css: {'is-loading' : loading}\"), :className => \"is-medium button is-primary\", :style => Dict{String, Any}())), Dict{String, Tuple{Observables.AbstractObservable, Union{Nothing, Bool}}}(\"loading\" => (Observable(false), nothing), \"clicks\" => (Observable(0), nothing)), Set{String}(), nothing, WebIO.Asset[WebIO.Asset(\"js\", \"knockout\", \"/home/dushya/.julia/packages/Knockout/HReiN/src/../assets/knockout.js\"), WebIO.Asset(\"js\", \"knockout_punches\", \"/home/dushya/.julia/packages/Knockout/HReiN/src/../assets/knockout_punches.js\"), WebIO.Asset(\"js\", nothing, \"/home/dushya/.julia/packages/InteractBase/LJXv3/src/../assets/all.js\"), WebIO.Asset(\"css\", nothing, \"/home/dushya/.julia/packages/InteractBase/LJXv3/src/../assets/style.css\"), WebIO.Asset(\"css\", nothing, \"/home/dushya/.julia/packages/Interact/PENUy/src/../assets/bulma_confined.min.css\")], Dict{Any, Any}(\"loading\" => Any[WebIO.JSString(\"(function (val){return (val!=this.model[\\\"loading\\\"]()) ? (this.valueFromJulia[\\\"loading\\\"]=true, this.model[\\\"loading\\\"](val)) : undefined})\")], \"clicks\" => Any[WebIO.JSString(\"(function (val){return (val!=this.model[\\\"clicks\\\"]()) ? (this.valueFromJulia[\\\"clicks\\\"]=true, this.model[\\\"clicks\\\"](val)) : undefined})\")]), WebIO.ConnectionPool(Channel{Any}(32), Set{WebIO.AbstractConnection}(), Base.GenericCondition{ReentrantLock}(Base.IntrusiveLinkedList{Task}(Task (runnable) @0x00007fb4f4820650, Task (runnable) @0x00007fb4f4820650), ReentrantLock(nothing, 0x00000000, 0x00, Base.GenericCondition{Base.Threads.SpinLock}(Base.IntrusiveLinkedList{Task}(nothing, nothing), Base.Threads.SpinLock(0)), (0, 140414127071760, 139779710648320)))), WebIO.JSString[WebIO.JSString(\"function () {\\n    var handler = (function (ko, koPunches) {\\n    ko.punches.enableAll();\\n    ko.bindingHandlers.numericValue = {\\n        init: function(element, valueAccessor, allBindings, data, context) {\\n            var stringified = ko.observable(ko.unwrap(valueAccessor()));\\n            stringified.subscribe(function(value) {\\n                var val = parseFloat(value);\\n                if (!isNaN(val)) {\\n                    valueAccessor()(val);\\n                }\\n            });\\n            valueAccessor().subscribe(function(value) {\\n                var str = JSON.stringify(value);\\n                if ((str == \\\"0\\\") && ([\\\"-0\\\", \\\"-0.\\\"].indexOf(stringified()) >= 0))\\n                     return;\\n                 if ([\\\"null\\\", \\\"\\\"].indexOf(str) >= 0)\\n                     return;\\n                stringified(str);\\n            });\\n            ko.applyBindingsToNode(\\n                element,\\n                {\\n                    value: stringified,\\n                    valueUpdate: allBindings.get('valueUpdate'),\\n                },\\n                context,\\n            );\\n        }\\n    };\\n    var json_data = {\\\"loading\\\":WebIO.getval({\\\"name\\\":\\\"loading\\\",\\\"scope\\\":\\\"3382160687278584483\\\",\\\"id\\\":\\\"17649001871565514085\\\",\\\"type\\\":\\\"observable\\\"}),\\\"clicks\\\":WebIO.getval({\\\"name\\\":\\\"clicks\\\",\\\"scope\\\":\\\"3382160687278584483\\\",\\\"id\\\":\\\"7908730948519011581\\\",\\\"type\\\":\\\"observable\\\"})};\\n    var self = this;\\n    function AppViewModel() {\\n        for (var key in json_data) {\\n            var el = json_data[key];\\n            this[key] = Array.isArray(el) ? ko.observableArray(el) : ko.observable(el);\\n        }\\n        \\n        \\n        [this[\\\"loading\\\"].subscribe((function (val){!(this.valueFromJulia[\\\"loading\\\"]) ? (WebIO.setval({\\\"name\\\":\\\"loading\\\",\\\"scope\\\":\\\"3382160687278584483\\\",\\\"id\\\":\\\"17649001871565514085\\\",\\\"type\\\":\\\"observable\\\"},val)) : undefined; return this.valueFromJulia[\\\"loading\\\"]=false}),self),this[\\\"clicks\\\"].subscribe((function (val){!(this.valueFromJulia[\\\"clicks\\\"]) ? (WebIO.setval({\\\"name\\\":\\\"clicks\\\",\\\"scope\\\":\\\"3382160687278584483\\\",\\\"id\\\":\\\"7908730948519011581\\\",\\\"type\\\":\\\"observable\\\"},val)) : undefined; return this.valueFromJulia[\\\"clicks\\\"]=false}),self)]\\n        \\n    }\\n    self.model = new AppViewModel();\\n    self.valueFromJulia = {};\\n    for (var key in json_data) {\\n        self.valueFromJulia[key] = false;\\n    }\\n    ko.applyBindings(self.model, self.dom);\\n}\\n);\\n    (WebIO.importBlock({\\\"data\\\":[{\\\"name\\\":\\\"knockout\\\",\\\"type\\\":\\\"js\\\",\\\"url\\\":\\\"/assetserver/727383f2a47bd31570b7da84eee7b022dd6d7c78-knockout.js\\\"},{\\\"name\\\":\\\"knockout_punches\\\",\\\"type\\\":\\\"js\\\",\\\"url\\\":\\\"/assetserver/382b41b3b1bd9f26f75861d360bad7f8beea211f-knockout_punches.js\\\"}],\\\"type\\\":\\\"async_block\\\"})).then((imports) => handler.apply(this, imports));\\n}\\n\")])], Dict{Symbol, Any}(:className => \"field interact-widget\"))], Dict{Symbol, Any}(:style => Dict(\"display\" => \"flex\", \"flex-direction\" => \"row\")))], Dict{Symbol, Any}(:style => Dict(\"display\" => \"flex\", \"flex-direction\" => \"column\"))), WebIO.Node{WebIO.DOM}(WebIO.DOM(:html, :div), Any[WebIO.Scope(WebIO.Node{WebIO.DOM}(WebIO.DOM(:html, :div), Any[], Dict{Symbol, Any}(:id => \"container\")), Dict{String, Tuple{Observables.AbstractObservable, Union{Nothing, Bool}}}(\"value\" => (Observable(\"\\\\;\\\\;\"), nothing)), Set{String}(), nothing, WebIO.Asset[WebIO.Asset(\"js\", nothing, \"/home/dushya/.julia/packages/InteractBase/LJXv3/src/../assets/katex.min.js\"), WebIO.Asset(\"css\", nothing, \"/home/dushya/.julia/packages/InteractBase/LJXv3/src/../assets/katex.min.css\")], Dict{Any, Any}(\"value\" => Any[WebIO.JSString(\"(function (txt){return this.k.render(txt,this.container)})\")]), WebIO.ConnectionPool(Channel{Any}(32), Set{WebIO.AbstractConnection}(), Base.GenericCondition{ReentrantLock}(Base.IntrusiveLinkedList{Task}(Task (runnable) @0x00007fb4f5a460e0, Task (runnable) @0x00007fb4f5a460e0), ReentrantLock(nothing, 0x00000000, 0x00, Base.GenericCondition{Base.Threads.SpinLock}(Base.IntrusiveLinkedList{Task}(nothing, nothing), Base.Threads.SpinLock(0)), (5, 412317937776, 140414151018064)))), WebIO.JSString[WebIO.JSString(\"function () {\\n    var handler = ((function (k){this.k=k; this.container=this.dom.querySelector(\\\"#container\\\"); return k.render(\\\"\\\\\\\\;\\\\\\\\;\\\",this.container)}));\\n    (WebIO.importBlock({\\\"data\\\":[{\\\"name\\\":null,\\\"type\\\":\\\"js\\\",\\\"url\\\":\\\"/assetserver/dd22ed1bf1896c2748f3fe616ce0b838adc895c1-katex.min.js\\\"},{\\\"name\\\":null,\\\"type\\\":\\\"css\\\",\\\"url\\\":\\\"/assetserver/46517a424aa5e6cffc1360d7e0848b601c584ee3-katex.min.css\\\"}],\\\"type\\\":\\\"async_block\\\"})).then((imports) => handler.apply(this, imports));\\n}\\n\")])], Dict{Symbol, Any}(:className => \"interact-widget\")), Observable(Luxor.Drawing(430.0, 430.0, \"\", Cairo.CairoSurfaceBase{UInt32}(Ptr{Nothing} @0x0000000000000000, 430.0, 430.0), Cairo.CairoContext(Ptr{Nothing} @0x0000000005613310, Cairo.CairoSurfaceBase{UInt32}(Ptr{Nothing} @0x0000000000000000, 430.0, 430.0), Ptr{Nothing} @0x0000000002926190), :png, 0.5, 0.5, 0.5, 0.5, IOBuffer(data=UInt8[...], readable=true, writable=true, seekable=true, append=false, size=9590, maxsize=Inf, ptr=9591, mark=-1), UInt8[0x89, 0x50, 0x4e, 0x47, 0x0d, 0x0a, 0x1a, 0x0a, 0x00, 0x00  …  0x00, 0x00, 0x49, 0x45, 0x4e, 0x44, 0xae, 0x42, 0x60, 0x82], false)), WebIO.Node{WebIO.DOM}(WebIO.DOM(:html, :div), Any[WebIO.Scope(WebIO.Node{WebIO.DOM}(WebIO.DOM(:html, :div), Any[], Dict{Symbol, Any}(:id => \"container\")), Dict{String, Tuple{Observables.AbstractObservable, Union{Nothing, Bool}}}(\"value\" => (Observable(\"\\\\;\\\\;\"), nothing)), Set{String}(), nothing, WebIO.Asset[WebIO.Asset(\"js\", nothing, \"/home/dushya/.julia/packages/InteractBase/LJXv3/src/../assets/katex.min.js\"), WebIO.Asset(\"css\", nothing, \"/home/dushya/.julia/packages/InteractBase/LJXv3/src/../assets/katex.min.css\")], Dict{Any, Any}(\"value\" => Any[WebIO.JSString(\"(function (txt){return this.k.render(txt,this.container)})\")]), WebIO.ConnectionPool(Channel{Any}(32), Set{WebIO.AbstractConnection}(), Base.GenericCondition{ReentrantLock}(Base.IntrusiveLinkedList{Task}(Task (runnable) @0x00007fb4f5a460e0, Task (runnable) @0x00007fb4f5a460e0), ReentrantLock(nothing, 0x00000000, 0x00, Base.GenericCondition{Base.Threads.SpinLock}(Base.IntrusiveLinkedList{Task}(nothing, nothing), Base.Threads.SpinLock(0)), (5, 412317937776, 140414151018064)))), WebIO.JSString[WebIO.JSString(\"function () {\\n    var handler = ((function (k){this.k=k; this.container=this.dom.querySelector(\\\"#container\\\"); return k.render(\\\"\\\\\\\\;\\\\\\\\;\\\",this.container)}));\\n    (WebIO.importBlock({\\\"data\\\":[{\\\"name\\\":null,\\\"type\\\":\\\"js\\\",\\\"url\\\":\\\"/assetserver/dd22ed1bf1896c2748f3fe616ce0b838adc895c1-katex.min.js\\\"},{\\\"name\\\":null,\\\"type\\\":\\\"css\\\",\\\"url\\\":\\\"/assetserver/46517a424aa5e6cffc1360d7e0848b601c584ee3-katex.min.css\\\"}],\\\"type\\\":\\\"async_block\\\"})).then((imports) => handler.apply(this, imports));\\n}\\n\")])], Dict{Symbol, Any}(:className => \"interact-widget\")), WebIO.Node{WebIO.DOM}(WebIO.DOM(:html, :div), Any[Observable(Plot{Plots.GRBackend() n=2})], Dict{Symbol, Any}(:style => Dict(\"display\" => \"flex\", \"flex-direction\" => \"column\")))], Dict{Symbol, Any}(:style => Dict(\"display\" => \"flex\", \"flex-direction\" => \"row\")))], Dict{Symbol, Any}(:style => Dict(\"display\" => \"flex\", \"flex-direction\" => \"column\")))"
      ]
     },
     "execution_count": 7,
     "metadata": {
      "application/vnd.webio.node+json": {
       "kernelId": "96bed0bf-2c64-4c45-a98a-7518ab9672b3"
      }
     },
     "output_type": "execute_result"
    }
   ],
   "source": [
    "create_interactive_app(model, initialiser= initialiser!,\n",
    "    step_rule= step_rule!,\n",
    "    model_controls=[\n",
    "        (:wolf_birth_rate, \"slider\", 0:0.01:1.0),\n",
    "        (:sheep_birth_rate, \"slider\", 0.01:0.01:1.0),\n",
    "        (:initial_wolf_percent, \"slider\", 0.01:0.01:0.9),\n",
    "        (:wolves_kill_ability, \"slider\", 0.01:0.01:1.0),\n",
    "        (:grass_grow_prob, \"slider\", 0.01:0.01:0.5)\n",
    "        ], \n",
    "    agent_plots=Dict(\"sheep\"=> agent-> agent.atype == sheep ? 1 : 0, \n",
    "        \"wolf\"=> agent-> agent.atype == wolf ? 1 : 0),\n",
    "    frames=200, show_patches=true)"
   ]
  },
  {
   "cell_type": "markdown",
   "metadata": {},
   "source": [
    "\n",
    "## Step 4: Fetch Data \n",
    "\n",
    "We can fetch the number of wolves and sheeps at each time step as follows. "
   ]
  },
  {
   "cell_type": "code",
   "execution_count": 8,
   "metadata": {},
   "outputs": [
    {
     "data": {
      "image/png": "[encoded data removed]",
      "image/svg+xml": [
       "<?xml version=\"1.0\" encoding=\"utf-8\"?>\n",
       "<svg xmlns=\"http://www.w3.org/2000/svg\" xmlns:xlink=\"http://www.w3.org/1999/xlink\" width=\"600\" height=\"400\" viewBox=\"0 0 2400 1600\">\n",
       "<defs>\n",
       "  <clipPath id=\"clip190\">\n",
       "    <rect x=\"0\" y=\"0\" width=\"2400\" height=\"1600\"/>\n",
       "  </clipPath>\n",
       "</defs>\n",
       "<path clip-path=\"url(#clip190)\" d=\"M0 1600 L2400 1600 L2400 0 L0 0  Z\" fill=\"#ffffff\" fill-rule=\"evenodd\" fill-opacity=\"1\"/>\n",
       "<defs>\n",
       "  <clipPath id=\"clip191\">\n",
       "    <rect x=\"480\" y=\"0\" width=\"1681\" height=\"1600\"/>\n",
       "  </clipPath>\n",
       "</defs>\n",
       "<path clip-path=\"url(#clip190)\" d=\"M232.389 1423.18 L2352.76 1423.18 L2352.76 47.2441 L232.389 47.2441  Z\" fill=\"#ffffff\" fill-rule=\"evenodd\" fill-opacity=\"1\"/>\n",
       "<defs>\n",
       "  <clipPath id=\"clip192\">\n",
       "    <rect x=\"232\" y=\"47\" width=\"2121\" height=\"1377\"/>\n",
       "  </clipPath>\n",
       "</defs>\n",
       "<polyline clip-path=\"url(#clip192)\" style=\"stroke:#000000; stroke-linecap:round; stroke-linejoin:round; stroke-width:2; stroke-opacity:0.1; fill:none\" points=\"282.398,1423.18 282.398,47.2441 \"/>\n",
       "<polyline clip-path=\"url(#clip192)\" style=\"stroke:#000000; stroke-linecap:round; stroke-linejoin:round; stroke-width:2; stroke-opacity:0.1; fill:none\" points=\"782.484,1423.18 782.484,47.2441 \"/>\n",
       "<polyline clip-path=\"url(#clip192)\" style=\"stroke:#000000; stroke-linecap:round; stroke-linejoin:round; stroke-width:2; stroke-opacity:0.1; fill:none\" points=\"1282.57,1423.18 1282.57,47.2441 \"/>\n",
       "<polyline clip-path=\"url(#clip192)\" style=\"stroke:#000000; stroke-linecap:round; stroke-linejoin:round; stroke-width:2; stroke-opacity:0.1; fill:none\" points=\"1782.66,1423.18 1782.66,47.2441 \"/>\n",
       "<polyline clip-path=\"url(#clip192)\" style=\"stroke:#000000; stroke-linecap:round; stroke-linejoin:round; stroke-width:2; stroke-opacity:0.1; fill:none\" points=\"2282.74,1423.18 2282.74,47.2441 \"/>\n",
       "<polyline clip-path=\"url(#clip190)\" style=\"stroke:#000000; stroke-linecap:round; stroke-linejoin:round; stroke-width:4; stroke-opacity:1; fill:none\" points=\"232.389,1423.18 2352.76,1423.18 \"/>\n",
       "<polyline clip-path=\"url(#clip190)\" style=\"stroke:#000000; stroke-linecap:round; stroke-linejoin:round; stroke-width:4; stroke-opacity:1; fill:none\" points=\"282.398,1423.18 282.398,1404.28 \"/>\n",
       "<polyline clip-path=\"url(#clip190)\" style=\"stroke:#000000; stroke-linecap:round; stroke-linejoin:round; stroke-width:4; stroke-opacity:1; fill:none\" points=\"782.484,1423.18 782.484,1404.28 \"/>\n",
       "<polyline clip-path=\"url(#clip190)\" style=\"stroke:#000000; stroke-linecap:round; stroke-linejoin:round; stroke-width:4; stroke-opacity:1; fill:none\" points=\"1282.57,1423.18 1282.57,1404.28 \"/>\n",
       "<polyline clip-path=\"url(#clip190)\" style=\"stroke:#000000; stroke-linecap:round; stroke-linejoin:round; stroke-width:4; stroke-opacity:1; fill:none\" points=\"1782.66,1423.18 1782.66,1404.28 \"/>\n",
       "<polyline clip-path=\"url(#clip190)\" style=\"stroke:#000000; stroke-linecap:round; stroke-linejoin:round; stroke-width:4; stroke-opacity:1; fill:none\" points=\"2282.74,1423.18 2282.74,1404.28 \"/>\n",
       "<path clip-path=\"url(#clip190)\" d=\"M282.398 1454.1 Q278.787 1454.1 276.958 1457.66 Q275.153 1461.2 275.153 1468.33 Q275.153 1475.44 276.958 1479.01 Q278.787 1482.55 282.398 1482.55 Q286.032 1482.55 287.838 1479.01 Q289.666 1475.44 289.666 1468.33 Q289.666 1461.2 287.838 1457.66 Q286.032 1454.1 282.398 1454.1 M282.398 1450.39 Q288.208 1450.39 291.264 1455 Q294.342 1459.58 294.342 1468.33 Q294.342 1477.06 291.264 1481.67 Q288.208 1486.25 282.398 1486.25 Q276.588 1486.25 273.509 1481.67 Q270.454 1477.06 270.454 1468.33 Q270.454 1459.58 273.509 1455 Q276.588 1450.39 282.398 1450.39 Z\" fill=\"#000000\" fill-rule=\"nonzero\" fill-opacity=\"1\" /><path clip-path=\"url(#clip190)\" d=\"M757.184 1451.02 L775.54 1451.02 L775.54 1454.96 L761.466 1454.96 L761.466 1463.43 Q762.485 1463.08 763.503 1462.92 Q764.522 1462.73 765.54 1462.73 Q771.327 1462.73 774.707 1465.9 Q778.086 1469.08 778.086 1474.49 Q778.086 1480.07 774.614 1483.17 Q771.142 1486.25 764.823 1486.25 Q762.647 1486.25 760.378 1485.88 Q758.133 1485.51 755.725 1484.77 L755.725 1480.07 Q757.809 1481.2 760.031 1481.76 Q762.253 1482.32 764.73 1482.32 Q768.735 1482.32 771.072 1480.21 Q773.41 1478.1 773.41 1474.49 Q773.41 1470.88 771.072 1468.77 Q768.735 1466.67 764.73 1466.67 Q762.855 1466.67 760.98 1467.08 Q759.128 1467.5 757.184 1468.38 L757.184 1451.02 Z\" fill=\"#000000\" fill-rule=\"nonzero\" fill-opacity=\"1\" /><path clip-path=\"url(#clip190)\" d=\"M797.299 1454.1 Q793.688 1454.1 791.859 1457.66 Q790.054 1461.2 790.054 1468.33 Q790.054 1475.44 791.859 1479.01 Q793.688 1482.55 797.299 1482.55 Q800.933 1482.55 802.739 1479.01 Q804.568 1475.44 804.568 1468.33 Q804.568 1461.2 802.739 1457.66 Q800.933 1454.1 797.299 1454.1 M797.299 1450.39 Q803.109 1450.39 806.165 1455 Q809.244 1459.58 809.244 1468.33 Q809.244 1477.06 806.165 1481.67 Q803.109 1486.25 797.299 1486.25 Q791.489 1486.25 788.41 1481.67 Q785.355 1477.06 785.355 1468.33 Q785.355 1459.58 788.41 1455 Q791.489 1450.39 797.299 1450.39 Z\" fill=\"#000000\" fill-rule=\"nonzero\" fill-opacity=\"1\" /><path clip-path=\"url(#clip190)\" d=\"M1242.18 1481.64 L1249.82 1481.64 L1249.82 1455.28 L1241.51 1456.95 L1241.51 1452.69 L1249.77 1451.02 L1254.45 1451.02 L1254.45 1481.64 L1262.08 1481.64 L1262.08 1485.58 L1242.18 1485.58 L1242.18 1481.64 Z\" fill=\"#000000\" fill-rule=\"nonzero\" fill-opacity=\"1\" /><path clip-path=\"url(#clip190)\" d=\"M1281.53 1454.1 Q1277.92 1454.1 1276.09 1457.66 Q1274.28 1461.2 1274.28 1468.33 Q1274.28 1475.44 1276.09 1479.01 Q1277.92 1482.55 1281.53 1482.55 Q1285.16 1482.55 1286.97 1479.01 Q1288.8 1475.44 1288.8 1468.33 Q1288.8 1461.2 1286.97 1457.66 Q1285.16 1454.1 1281.53 1454.1 M1281.53 1450.39 Q1287.34 1450.39 1290.39 1455 Q1293.47 1459.58 1293.47 1468.33 Q1293.47 1477.06 1290.39 1481.67 Q1287.34 1486.25 1281.53 1486.25 Q1275.72 1486.25 1272.64 1481.67 Q1269.58 1477.06 1269.58 1468.33 Q1269.58 1459.58 1272.64 1455 Q1275.72 1450.39 1281.53 1450.39 Z\" fill=\"#000000\" fill-rule=\"nonzero\" fill-opacity=\"1\" /><path clip-path=\"url(#clip190)\" d=\"M1311.69 1454.1 Q1308.08 1454.1 1306.25 1457.66 Q1304.45 1461.2 1304.45 1468.33 Q1304.45 1475.44 1306.25 1479.01 Q1308.08 1482.55 1311.69 1482.55 Q1315.33 1482.55 1317.13 1479.01 Q1318.96 1475.44 1318.96 1468.33 Q1318.96 1461.2 1317.13 1457.66 Q1315.33 1454.1 1311.69 1454.1 M1311.69 1450.39 Q1317.5 1450.39 1320.56 1455 Q1323.64 1459.58 1323.64 1468.33 Q1323.64 1477.06 1320.56 1481.67 Q1317.5 1486.25 1311.69 1486.25 Q1305.88 1486.25 1302.8 1481.67 Q1299.75 1477.06 1299.75 1468.33 Q1299.75 1459.58 1302.8 1455 Q1305.88 1450.39 1311.69 1450.39 Z\" fill=\"#000000\" fill-rule=\"nonzero\" fill-opacity=\"1\" /><path clip-path=\"url(#clip190)\" d=\"M1742.26 1481.64 L1749.9 1481.64 L1749.9 1455.28 L1741.59 1456.95 L1741.59 1452.69 L1749.86 1451.02 L1754.53 1451.02 L1754.53 1481.64 L1762.17 1481.64 L1762.17 1485.58 L1742.26 1485.58 L1742.26 1481.64 Z\" fill=\"#000000\" fill-rule=\"nonzero\" fill-opacity=\"1\" /><path clip-path=\"url(#clip190)\" d=\"M1771.66 1451.02 L1790.02 1451.02 L1790.02 1454.96 L1775.94 1454.96 L1775.94 1463.43 Q1776.96 1463.08 1777.98 1462.92 Q1779 1462.73 1780.02 1462.73 Q1785.81 1462.73 1789.19 1465.9 Q1792.56 1469.08 1792.56 1474.49 Q1792.56 1480.07 1789.09 1483.17 Q1785.62 1486.25 1779.3 1486.25 Q1777.12 1486.25 1774.86 1485.88 Q1772.61 1485.51 1770.2 1484.77 L1770.2 1480.07 Q1772.29 1481.2 1774.51 1481.76 Q1776.73 1482.32 1779.21 1482.32 Q1783.21 1482.32 1785.55 1480.21 Q1787.89 1478.1 1787.89 1474.49 Q1787.89 1470.88 1785.55 1468.77 Q1783.21 1466.67 1779.21 1466.67 Q1777.33 1466.67 1775.46 1467.08 Q1773.61 1467.5 1771.66 1468.38 L1771.66 1451.02 Z\" fill=\"#000000\" fill-rule=\"nonzero\" fill-opacity=\"1\" /><path clip-path=\"url(#clip190)\" d=\"M1811.78 1454.1 Q1808.17 1454.1 1806.34 1457.66 Q1804.53 1461.2 1804.53 1468.33 Q1804.53 1475.44 1806.34 1479.01 Q1808.17 1482.55 1811.78 1482.55 Q1815.41 1482.55 1817.22 1479.01 Q1819.05 1475.44 1819.05 1468.33 Q1819.05 1461.2 1817.22 1457.66 Q1815.41 1454.1 1811.78 1454.1 M1811.78 1450.39 Q1817.59 1450.39 1820.64 1455 Q1823.72 1459.58 1823.72 1468.33 Q1823.72 1477.06 1820.64 1481.67 Q1817.59 1486.25 1811.78 1486.25 Q1805.97 1486.25 1802.89 1481.67 Q1799.83 1477.06 1799.83 1468.33 Q1799.83 1459.58 1802.89 1455 Q1805.97 1450.39 1811.78 1450.39 Z\" fill=\"#000000\" fill-rule=\"nonzero\" fill-opacity=\"1\" /><path clip-path=\"url(#clip190)\" d=\"M2246.44 1481.64 L2262.76 1481.64 L2262.76 1485.58 L2240.81 1485.58 L2240.81 1481.64 Q2243.47 1478.89 2248.06 1474.26 Q2252.66 1469.61 2253.84 1468.27 Q2256.09 1465.74 2256.97 1464.01 Q2257.87 1462.25 2257.87 1460.56 Q2257.87 1457.8 2255.93 1456.07 Q2254.01 1454.33 2250.9 1454.33 Q2248.7 1454.33 2246.25 1455.09 Q2243.82 1455.86 2241.04 1457.41 L2241.04 1452.69 Q2243.87 1451.55 2246.32 1450.97 Q2248.77 1450.39 2250.81 1450.39 Q2256.18 1450.39 2259.38 1453.08 Q2262.57 1455.77 2262.57 1460.26 Q2262.57 1462.39 2261.76 1464.31 Q2260.97 1466.2 2258.87 1468.8 Q2258.29 1469.47 2255.19 1472.69 Q2252.08 1475.88 2246.44 1481.64 Z\" fill=\"#000000\" fill-rule=\"nonzero\" fill-opacity=\"1\" /><path clip-path=\"url(#clip190)\" d=\"M2282.57 1454.1 Q2278.96 1454.1 2277.13 1457.66 Q2275.32 1461.2 2275.32 1468.33 Q2275.32 1475.44 2277.13 1479.01 Q2278.96 1482.55 2282.57 1482.55 Q2286.2 1482.55 2288.01 1479.01 Q2289.84 1475.44 2289.84 1468.33 Q2289.84 1461.2 2288.01 1457.66 Q2286.2 1454.1 2282.57 1454.1 M2282.57 1450.39 Q2288.38 1450.39 2291.44 1455 Q2294.51 1459.58 2294.51 1468.33 Q2294.51 1477.06 2291.44 1481.67 Q2288.38 1486.25 2282.57 1486.25 Q2276.76 1486.25 2273.68 1481.67 Q2270.63 1477.06 2270.63 1468.33 Q2270.63 1459.58 2273.68 1455 Q2276.76 1450.39 2282.57 1450.39 Z\" fill=\"#000000\" fill-rule=\"nonzero\" fill-opacity=\"1\" /><path clip-path=\"url(#clip190)\" d=\"M2312.73 1454.1 Q2309.12 1454.1 2307.29 1457.66 Q2305.49 1461.2 2305.49 1468.33 Q2305.49 1475.44 2307.29 1479.01 Q2309.12 1482.55 2312.73 1482.55 Q2316.37 1482.55 2318.17 1479.01 Q2320 1475.44 2320 1468.33 Q2320 1461.2 2318.17 1457.66 Q2316.37 1454.1 2312.73 1454.1 M2312.73 1450.39 Q2318.54 1450.39 2321.6 1455 Q2324.68 1459.58 2324.68 1468.33 Q2324.68 1477.06 2321.6 1481.67 Q2318.54 1486.25 2312.73 1486.25 Q2306.92 1486.25 2303.84 1481.67 Q2300.79 1477.06 2300.79 1468.33 Q2300.79 1459.58 2303.84 1455 Q2306.92 1450.39 2312.73 1450.39 Z\" fill=\"#000000\" fill-rule=\"nonzero\" fill-opacity=\"1\" /><path clip-path=\"url(#clip190)\" d=\"M1229.62 1522.27 L1229.62 1532.4 L1241.68 1532.4 L1241.68 1536.95 L1229.62 1536.95 L1229.62 1556.3 Q1229.62 1560.66 1230.79 1561.9 Q1232 1563.14 1235.66 1563.14 L1241.68 1563.14 L1241.68 1568.04 L1235.66 1568.04 Q1228.88 1568.04 1226.31 1565.53 Q1223.73 1562.98 1223.73 1556.3 L1223.73 1536.95 L1219.43 1536.95 L1219.43 1532.4 L1223.73 1532.4 L1223.73 1522.27 L1229.62 1522.27 Z\" fill=\"#000000\" fill-rule=\"nonzero\" fill-opacity=\"1\" /><path clip-path=\"url(#clip190)\" d=\"M1249.38 1532.4 L1255.24 1532.4 L1255.24 1568.04 L1249.38 1568.04 L1249.38 1532.4 M1249.38 1518.52 L1255.24 1518.52 L1255.24 1525.93 L1249.38 1525.93 L1249.38 1518.52 Z\" fill=\"#000000\" fill-rule=\"nonzero\" fill-opacity=\"1\" /><path clip-path=\"url(#clip190)\" d=\"M1293.15 1533.76 L1293.15 1539.24 Q1290.66 1537.87 1288.15 1537.2 Q1285.67 1536.5 1283.12 1536.5 Q1277.42 1536.5 1274.27 1540.13 Q1271.12 1543.73 1271.12 1550.25 Q1271.12 1556.78 1274.27 1560.4 Q1277.42 1564 1283.12 1564 Q1285.67 1564 1288.15 1563.33 Q1290.66 1562.63 1293.15 1561.26 L1293.15 1566.68 Q1290.69 1567.82 1288.05 1568.39 Q1285.44 1568.97 1282.48 1568.97 Q1274.43 1568.97 1269.69 1563.91 Q1264.95 1558.85 1264.95 1550.25 Q1264.95 1541.53 1269.72 1536.53 Q1274.53 1531.54 1282.86 1531.54 Q1285.57 1531.54 1288.15 1532.11 Q1290.73 1532.65 1293.15 1533.76 Z\" fill=\"#000000\" fill-rule=\"nonzero\" fill-opacity=\"1\" /><path clip-path=\"url(#clip190)\" d=\"M1303.11 1518.52 L1309 1518.52 L1309 1547.77 L1326.47 1532.4 L1333.95 1532.4 L1315.04 1549.07 L1334.75 1568.04 L1327.11 1568.04 L1309 1550.63 L1309 1568.04 L1303.11 1568.04 L1303.11 1518.52 Z\" fill=\"#000000\" fill-rule=\"nonzero\" fill-opacity=\"1\" /><path clip-path=\"url(#clip190)\" d=\"M1363.8 1533.45 L1363.8 1538.98 Q1361.32 1537.71 1358.65 1537.07 Q1355.98 1536.44 1353.11 1536.44 Q1348.75 1536.44 1346.55 1537.77 Q1344.39 1539.11 1344.39 1541.79 Q1344.39 1543.82 1345.95 1545 Q1347.51 1546.15 1352.22 1547.2 L1354.22 1547.64 Q1360.46 1548.98 1363.07 1551.43 Q1365.71 1553.85 1365.71 1558.21 Q1365.71 1563.17 1361.77 1566.07 Q1357.85 1568.97 1350.98 1568.97 Q1348.11 1568.97 1344.99 1568.39 Q1341.91 1567.85 1338.47 1566.74 L1338.47 1560.69 Q1341.72 1562.38 1344.87 1563.24 Q1348.02 1564.07 1351.11 1564.07 Q1355.24 1564.07 1357.47 1562.66 Q1359.7 1561.23 1359.7 1558.65 Q1359.7 1556.27 1358.08 1554.99 Q1356.48 1553.72 1351.04 1552.54 L1349 1552.07 Q1343.56 1550.92 1341.14 1548.56 Q1338.72 1546.18 1338.72 1542.04 Q1338.72 1537.01 1342.29 1534.27 Q1345.85 1531.54 1352.41 1531.54 Q1355.66 1531.54 1358.52 1532.01 Q1361.39 1532.49 1363.8 1533.45 Z\" fill=\"#000000\" fill-rule=\"nonzero\" fill-opacity=\"1\" /><polyline clip-path=\"url(#clip192)\" style=\"stroke:#000000; stroke-linecap:round; stroke-linejoin:round; stroke-width:2; stroke-opacity:0.1; fill:none\" points=\"232.389,1384.24 2352.76,1384.24 \"/>\n",
       "<polyline clip-path=\"url(#clip192)\" style=\"stroke:#000000; stroke-linecap:round; stroke-linejoin:round; stroke-width:2; stroke-opacity:0.1; fill:none\" points=\"232.389,1178.2 2352.76,1178.2 \"/>\n",
       "<polyline clip-path=\"url(#clip192)\" style=\"stroke:#000000; stroke-linecap:round; stroke-linejoin:round; stroke-width:2; stroke-opacity:0.1; fill:none\" points=\"232.389,972.158 2352.76,972.158 \"/>\n",
       "<polyline clip-path=\"url(#clip192)\" style=\"stroke:#000000; stroke-linecap:round; stroke-linejoin:round; stroke-width:2; stroke-opacity:0.1; fill:none\" points=\"232.389,766.118 2352.76,766.118 \"/>\n",
       "<polyline clip-path=\"url(#clip192)\" style=\"stroke:#000000; stroke-linecap:round; stroke-linejoin:round; stroke-width:2; stroke-opacity:0.1; fill:none\" points=\"232.389,560.078 2352.76,560.078 \"/>\n",
       "<polyline clip-path=\"url(#clip192)\" style=\"stroke:#000000; stroke-linecap:round; stroke-linejoin:round; stroke-width:2; stroke-opacity:0.1; fill:none\" points=\"232.389,354.038 2352.76,354.038 \"/>\n",
       "<polyline clip-path=\"url(#clip192)\" style=\"stroke:#000000; stroke-linecap:round; stroke-linejoin:round; stroke-width:2; stroke-opacity:0.1; fill:none\" points=\"232.389,147.998 2352.76,147.998 \"/>\n",
       "<polyline clip-path=\"url(#clip190)\" style=\"stroke:#000000; stroke-linecap:round; stroke-linejoin:round; stroke-width:4; stroke-opacity:1; fill:none\" points=\"232.389,1423.18 232.389,47.2441 \"/>\n",
       "<polyline clip-path=\"url(#clip190)\" style=\"stroke:#000000; stroke-linecap:round; stroke-linejoin:round; stroke-width:4; stroke-opacity:1; fill:none\" points=\"232.389,1384.24 251.287,1384.24 \"/>\n",
       "<polyline clip-path=\"url(#clip190)\" style=\"stroke:#000000; stroke-linecap:round; stroke-linejoin:round; stroke-width:4; stroke-opacity:1; fill:none\" points=\"232.389,1178.2 251.287,1178.2 \"/>\n",
       "<polyline clip-path=\"url(#clip190)\" style=\"stroke:#000000; stroke-linecap:round; stroke-linejoin:round; stroke-width:4; stroke-opacity:1; fill:none\" points=\"232.389,972.158 251.287,972.158 \"/>\n",
       "<polyline clip-path=\"url(#clip190)\" style=\"stroke:#000000; stroke-linecap:round; stroke-linejoin:round; stroke-width:4; stroke-opacity:1; fill:none\" points=\"232.389,766.118 251.287,766.118 \"/>\n",
       "<polyline clip-path=\"url(#clip190)\" style=\"stroke:#000000; stroke-linecap:round; stroke-linejoin:round; stroke-width:4; stroke-opacity:1; fill:none\" points=\"232.389,560.078 251.287,560.078 \"/>\n",
       "<polyline clip-path=\"url(#clip190)\" style=\"stroke:#000000; stroke-linecap:round; stroke-linejoin:round; stroke-width:4; stroke-opacity:1; fill:none\" points=\"232.389,354.038 251.287,354.038 \"/>\n",
       "<polyline clip-path=\"url(#clip190)\" style=\"stroke:#000000; stroke-linecap:round; stroke-linejoin:round; stroke-width:4; stroke-opacity:1; fill:none\" points=\"232.389,147.998 251.287,147.998 \"/>\n",
       "<path clip-path=\"url(#clip190)\" d=\"M184.445 1370.04 Q180.834 1370.04 179.005 1373.6 Q177.2 1377.14 177.2 1384.27 Q177.2 1391.38 179.005 1394.94 Q180.834 1398.49 184.445 1398.49 Q188.079 1398.49 189.885 1394.94 Q191.713 1391.38 191.713 1384.27 Q191.713 1377.14 189.885 1373.6 Q188.079 1370.04 184.445 1370.04 M184.445 1366.33 Q190.255 1366.33 193.311 1370.94 Q196.389 1375.52 196.389 1384.27 Q196.389 1393 193.311 1397.61 Q190.255 1402.19 184.445 1402.19 Q178.635 1402.19 175.556 1397.61 Q172.501 1393 172.501 1384.27 Q172.501 1375.52 175.556 1370.94 Q178.635 1366.33 184.445 1366.33 Z\" fill=\"#000000\" fill-rule=\"nonzero\" fill-opacity=\"1\" /><path clip-path=\"url(#clip190)\" d=\"M148.311 1191.54 L164.63 1191.54 L164.63 1195.48 L142.686 1195.48 L142.686 1191.54 Q145.348 1188.79 149.931 1184.16 Q154.538 1179.51 155.718 1178.16 Q157.964 1175.64 158.843 1173.9 Q159.746 1172.14 159.746 1170.46 Q159.746 1167.7 157.802 1165.96 Q155.88 1164.23 152.778 1164.23 Q150.579 1164.23 148.126 1164.99 Q145.695 1165.76 142.917 1167.31 L142.917 1162.58 Q145.741 1161.45 148.195 1160.87 Q150.649 1160.29 152.686 1160.29 Q158.056 1160.29 161.251 1162.98 Q164.445 1165.66 164.445 1170.15 Q164.445 1172.28 163.635 1174.21 Q162.848 1176.1 160.741 1178.7 Q160.163 1179.37 157.061 1182.58 Q153.959 1185.78 148.311 1191.54 Z\" fill=\"#000000\" fill-rule=\"nonzero\" fill-opacity=\"1\" /><path clip-path=\"url(#clip190)\" d=\"M184.445 1164 Q180.834 1164 179.005 1167.56 Q177.2 1171.1 177.2 1178.23 Q177.2 1185.34 179.005 1188.9 Q180.834 1192.45 184.445 1192.45 Q188.079 1192.45 189.885 1188.9 Q191.713 1185.34 191.713 1178.23 Q191.713 1171.1 189.885 1167.56 Q188.079 1164 184.445 1164 M184.445 1160.29 Q190.255 1160.29 193.311 1164.9 Q196.389 1169.48 196.389 1178.23 Q196.389 1186.96 193.311 1191.57 Q190.255 1196.15 184.445 1196.15 Q178.635 1196.15 175.556 1191.57 Q172.501 1186.96 172.501 1178.23 Q172.501 1169.48 175.556 1164.9 Q178.635 1160.29 184.445 1160.29 Z\" fill=\"#000000\" fill-rule=\"nonzero\" fill-opacity=\"1\" /><path clip-path=\"url(#clip190)\" d=\"M157.13 958.952 L145.325 977.401 L157.13 977.401 L157.13 958.952 M155.903 954.878 L161.783 954.878 L161.783 977.401 L166.714 977.401 L166.714 981.29 L161.783 981.29 L161.783 989.438 L157.13 989.438 L157.13 981.29 L141.529 981.29 L141.529 976.776 L155.903 954.878 Z\" fill=\"#000000\" fill-rule=\"nonzero\" fill-opacity=\"1\" /><path clip-path=\"url(#clip190)\" d=\"M184.445 957.957 Q180.834 957.957 179.005 961.522 Q177.2 965.063 177.2 972.193 Q177.2 979.299 179.005 982.864 Q180.834 986.406 184.445 986.406 Q188.079 986.406 189.885 982.864 Q191.713 979.299 191.713 972.193 Q191.713 965.063 189.885 961.522 Q188.079 957.957 184.445 957.957 M184.445 954.253 Q190.255 954.253 193.311 958.86 Q196.389 963.443 196.389 972.193 Q196.389 980.92 193.311 985.526 Q190.255 990.109 184.445 990.109 Q178.635 990.109 175.556 985.526 Q172.501 980.92 172.501 972.193 Q172.501 963.443 175.556 958.86 Q178.635 954.253 184.445 954.253 Z\" fill=\"#000000\" fill-rule=\"nonzero\" fill-opacity=\"1\" /><path clip-path=\"url(#clip190)\" d=\"M154.862 764.255 Q151.714 764.255 149.862 766.407 Q148.033 768.56 148.033 772.31 Q148.033 776.037 149.862 778.213 Q151.714 780.366 154.862 780.366 Q158.01 780.366 159.839 778.213 Q161.69 776.037 161.69 772.31 Q161.69 768.56 159.839 766.407 Q158.01 764.255 154.862 764.255 M164.144 749.602 L164.144 753.861 Q162.385 753.028 160.579 752.588 Q158.797 752.148 157.038 752.148 Q152.408 752.148 149.954 755.273 Q147.524 758.398 147.177 764.718 Q148.542 762.704 150.603 761.639 Q152.663 760.551 155.14 760.551 Q160.348 760.551 163.357 763.722 Q166.39 766.87 166.39 772.31 Q166.39 777.634 163.241 780.852 Q160.093 784.069 154.862 784.069 Q148.866 784.069 145.695 779.486 Q142.524 774.88 142.524 766.153 Q142.524 757.958 146.413 753.097 Q150.302 748.213 156.853 748.213 Q158.612 748.213 160.394 748.56 Q162.2 748.907 164.144 749.602 Z\" fill=\"#000000\" fill-rule=\"nonzero\" fill-opacity=\"1\" /><path clip-path=\"url(#clip190)\" d=\"M184.445 751.917 Q180.834 751.917 179.005 755.481 Q177.2 759.023 177.2 766.153 Q177.2 773.259 179.005 776.824 Q180.834 780.366 184.445 780.366 Q188.079 780.366 189.885 776.824 Q191.713 773.259 191.713 766.153 Q191.713 759.023 189.885 755.481 Q188.079 751.917 184.445 751.917 M184.445 748.213 Q190.255 748.213 193.311 752.819 Q196.389 757.403 196.389 766.153 Q196.389 774.88 193.311 779.486 Q190.255 784.069 184.445 784.069 Q178.635 784.069 175.556 779.486 Q172.501 774.88 172.501 766.153 Q172.501 757.403 175.556 752.819 Q178.635 748.213 184.445 748.213 Z\" fill=\"#000000\" fill-rule=\"nonzero\" fill-opacity=\"1\" /><path clip-path=\"url(#clip190)\" d=\"M154.283 560.946 Q150.95 560.946 149.028 562.728 Q147.13 564.511 147.13 567.636 Q147.13 570.761 149.028 572.543 Q150.95 574.325 154.283 574.325 Q157.616 574.325 159.538 572.543 Q161.459 570.738 161.459 567.636 Q161.459 564.511 159.538 562.728 Q157.64 560.946 154.283 560.946 M149.607 558.955 Q146.598 558.214 144.908 556.154 Q143.241 554.094 143.241 551.131 Q143.241 546.988 146.181 544.58 Q149.144 542.173 154.283 542.173 Q159.445 542.173 162.385 544.58 Q165.325 546.988 165.325 551.131 Q165.325 554.094 163.635 556.154 Q161.968 558.214 158.982 558.955 Q162.362 559.742 164.237 562.034 Q166.135 564.326 166.135 567.636 Q166.135 572.659 163.056 575.344 Q160.001 578.029 154.283 578.029 Q148.566 578.029 145.487 575.344 Q142.431 572.659 142.431 567.636 Q142.431 564.326 144.329 562.034 Q146.228 559.742 149.607 558.955 M147.894 551.571 Q147.894 554.256 149.561 555.761 Q151.251 557.265 154.283 557.265 Q157.292 557.265 158.982 555.761 Q160.695 554.256 160.695 551.571 Q160.695 548.886 158.982 547.381 Q157.292 545.877 154.283 545.877 Q151.251 545.877 149.561 547.381 Q147.894 548.886 147.894 551.571 Z\" fill=\"#000000\" fill-rule=\"nonzero\" fill-opacity=\"1\" /><path clip-path=\"url(#clip190)\" d=\"M184.445 545.877 Q180.834 545.877 179.005 549.441 Q177.2 552.983 177.2 560.113 Q177.2 567.219 179.005 570.784 Q180.834 574.325 184.445 574.325 Q188.079 574.325 189.885 570.784 Q191.713 567.219 191.713 560.113 Q191.713 552.983 189.885 549.441 Q188.079 545.877 184.445 545.877 M184.445 542.173 Q190.255 542.173 193.311 546.779 Q196.389 551.363 196.389 560.113 Q196.389 568.839 193.311 573.446 Q190.255 578.029 184.445 578.029 Q178.635 578.029 175.556 573.446 Q172.501 568.839 172.501 560.113 Q172.501 551.363 175.556 546.779 Q178.635 542.173 184.445 542.173 Z\" fill=\"#000000\" fill-rule=\"nonzero\" fill-opacity=\"1\" /><path clip-path=\"url(#clip190)\" d=\"M114.931 367.383 L122.57 367.383 L122.57 341.017 L114.26 342.684 L114.26 338.424 L122.524 336.758 L127.2 336.758 L127.2 367.383 L134.839 367.383 L134.839 371.318 L114.931 371.318 L114.931 367.383 Z\" fill=\"#000000\" fill-rule=\"nonzero\" fill-opacity=\"1\" /><path clip-path=\"url(#clip190)\" d=\"M154.283 339.836 Q150.672 339.836 148.843 343.401 Q147.038 346.943 147.038 354.073 Q147.038 361.179 148.843 364.744 Q150.672 368.285 154.283 368.285 Q157.917 368.285 159.723 364.744 Q161.552 361.179 161.552 354.073 Q161.552 346.943 159.723 343.401 Q157.917 339.836 154.283 339.836 M154.283 336.133 Q160.093 336.133 163.149 340.739 Q166.227 345.323 166.227 354.073 Q166.227 362.799 163.149 367.406 Q160.093 371.989 154.283 371.989 Q148.473 371.989 145.394 367.406 Q142.339 362.799 142.339 354.073 Q142.339 345.323 145.394 340.739 Q148.473 336.133 154.283 336.133 Z\" fill=\"#000000\" fill-rule=\"nonzero\" fill-opacity=\"1\" /><path clip-path=\"url(#clip190)\" d=\"M184.445 339.836 Q180.834 339.836 179.005 343.401 Q177.2 346.943 177.2 354.073 Q177.2 361.179 179.005 364.744 Q180.834 368.285 184.445 368.285 Q188.079 368.285 189.885 364.744 Q191.713 361.179 191.713 354.073 Q191.713 346.943 189.885 343.401 Q188.079 339.836 184.445 339.836 M184.445 336.133 Q190.255 336.133 193.311 340.739 Q196.389 345.323 196.389 354.073 Q196.389 362.799 193.311 367.406 Q190.255 371.989 184.445 371.989 Q178.635 371.989 175.556 367.406 Q172.501 362.799 172.501 354.073 Q172.501 345.323 175.556 340.739 Q178.635 336.133 184.445 336.133 Z\" fill=\"#000000\" fill-rule=\"nonzero\" fill-opacity=\"1\" /><path clip-path=\"url(#clip190)\" d=\"M114.931 161.343 L122.57 161.343 L122.57 134.977 L114.26 136.644 L114.26 132.384 L122.524 130.718 L127.2 130.718 L127.2 161.343 L134.839 161.343 L134.839 165.278 L114.931 165.278 L114.931 161.343 Z\" fill=\"#000000\" fill-rule=\"nonzero\" fill-opacity=\"1\" /><path clip-path=\"url(#clip190)\" d=\"M148.311 161.343 L164.63 161.343 L164.63 165.278 L142.686 165.278 L142.686 161.343 Q145.348 158.588 149.931 153.958 Q154.538 149.306 155.718 147.963 Q157.964 145.44 158.843 143.704 Q159.746 141.944 159.746 140.255 Q159.746 137.5 157.802 135.764 Q155.88 134.028 152.778 134.028 Q150.579 134.028 148.126 134.792 Q145.695 135.556 142.917 137.107 L142.917 132.384 Q145.741 131.25 148.195 130.671 Q150.649 130.093 152.686 130.093 Q158.056 130.093 161.251 132.778 Q164.445 135.463 164.445 139.954 Q164.445 142.083 163.635 144.005 Q162.848 145.903 160.741 148.495 Q160.163 149.167 157.061 152.384 Q153.959 155.579 148.311 161.343 Z\" fill=\"#000000\" fill-rule=\"nonzero\" fill-opacity=\"1\" /><path clip-path=\"url(#clip190)\" d=\"M184.445 133.796 Q180.834 133.796 179.005 137.361 Q177.2 140.903 177.2 148.032 Q177.2 155.139 179.005 158.704 Q180.834 162.245 184.445 162.245 Q188.079 162.245 189.885 158.704 Q191.713 155.139 191.713 148.032 Q191.713 140.903 189.885 137.361 Q188.079 133.796 184.445 133.796 M184.445 130.093 Q190.255 130.093 193.311 134.699 Q196.389 139.282 196.389 148.032 Q196.389 156.759 193.311 161.366 Q190.255 165.949 184.445 165.949 Q178.635 165.949 175.556 161.366 Q172.501 156.759 172.501 148.032 Q172.501 139.282 175.556 134.699 Q178.635 130.093 184.445 130.093 Z\" fill=\"#000000\" fill-rule=\"nonzero\" fill-opacity=\"1\" /><path clip-path=\"url(#clip190)\" d=\"M42.4881 991.273 L64.0042 991.273 L64.0042 997.129 L42.679 997.129 Q37.6183 997.129 35.1038 999.102 Q32.5894 1001.08 32.5894 1005.02 Q32.5894 1009.76 35.6131 1012.5 Q38.6368 1015.24 43.8567 1015.24 L64.0042 1015.24 L64.0042 1021.13 L28.3562 1021.13 L28.3562 1015.24 L33.8944 1015.24 Q30.6797 1013.14 29.0883 1010.31 Q27.4968 1007.44 27.4968 1003.72 Q27.4968 997.575 31.3163 994.424 Q35.1038 991.273 42.4881 991.273 Z\" fill=\"#000000\" fill-rule=\"nonzero\" fill-opacity=\"1\" /><path clip-path=\"url(#clip190)\" d=\"M49.9359 980.196 L28.3562 980.196 L28.3562 974.34 L49.7131 974.34 Q54.7739 974.34 57.3202 972.366 Q59.8346 970.393 59.8346 966.446 Q59.8346 961.704 56.8109 958.967 Q53.7872 956.197 48.5673 956.197 L28.3562 956.197 L28.3562 950.341 L64.0042 950.341 L64.0042 956.197 L58.5296 956.197 Q61.7762 958.33 63.3676 961.163 Q64.9272 963.964 64.9272 967.688 Q64.9272 973.83 61.1078 977.013 Q57.2883 980.196 49.9359 980.196 M27.4968 965.46 L27.4968 965.46 Z\" fill=\"#000000\" fill-rule=\"nonzero\" fill-opacity=\"1\" /><path clip-path=\"url(#clip190)\" d=\"M35.1993 910.524 Q31.2526 908.327 29.3747 905.272 Q27.4968 902.216 27.4968 898.079 Q27.4968 892.509 31.4117 889.485 Q35.2948 886.461 42.4881 886.461 L64.0042 886.461 L64.0042 892.349 L42.679 892.349 Q37.5546 892.349 35.072 894.164 Q32.5894 895.978 32.5894 899.702 Q32.5894 904.253 35.6131 906.895 Q38.6368 909.537 43.8567 909.537 L64.0042 909.537 L64.0042 915.425 L42.679 915.425 Q37.5228 915.425 35.072 917.239 Q32.5894 919.054 32.5894 922.841 Q32.5894 927.329 35.6449 929.971 Q38.6686 932.613 43.8567 932.613 L64.0042 932.613 L64.0042 938.501 L28.3562 938.501 L28.3562 932.613 L33.8944 932.613 Q30.616 930.607 29.0564 927.806 Q27.4968 925.006 27.4968 921.154 Q27.4968 917.271 29.4702 914.566 Q31.4436 911.828 35.1993 910.524 Z\" fill=\"#000000\" fill-rule=\"nonzero\" fill-opacity=\"1\" /><path clip-path=\"url(#clip190)\" d=\"M46.212 849.19 Q39.7508 849.19 36.0905 851.864 Q32.3984 854.505 32.3984 859.152 Q32.3984 863.799 36.0905 866.473 Q39.7508 869.115 46.212 869.115 Q52.6732 869.115 56.3653 866.473 Q60.0256 863.799 60.0256 859.152 Q60.0256 854.505 56.3653 851.864 Q52.6732 849.19 46.212 849.19 M33.7671 869.115 Q30.5842 867.269 29.0564 864.468 Q27.4968 861.635 27.4968 857.72 Q27.4968 851.227 32.6531 847.185 Q37.8093 843.111 46.212 843.111 Q54.6147 843.111 59.771 847.185 Q64.9272 851.227 64.9272 857.72 Q64.9272 861.635 63.3994 864.468 Q61.8398 867.269 58.657 869.115 L64.0042 869.115 L64.0042 875.003 L14.479 875.003 L14.479 869.115 L33.7671 869.115 Z\" fill=\"#000000\" fill-rule=\"nonzero\" fill-opacity=\"1\" /><path clip-path=\"url(#clip190)\" d=\"M44.7161 802.911 L47.5806 802.911 L47.5806 829.838 Q53.6281 829.456 56.8109 826.21 Q59.9619 822.931 59.9619 817.107 Q59.9619 813.733 59.1344 810.582 Q58.3069 807.399 56.6518 804.28 L62.1899 804.28 Q63.5267 807.431 64.227 810.741 Q64.9272 814.051 64.9272 817.457 Q64.9272 825.987 59.9619 830.984 Q54.9967 835.949 46.5303 835.949 Q37.7774 835.949 32.6531 831.239 Q27.4968 826.496 27.4968 818.475 Q27.4968 811.282 32.1438 807.113 Q36.7589 802.911 44.7161 802.911 M42.9973 808.768 Q38.1912 808.831 35.3266 811.473 Q32.4621 814.083 32.4621 818.412 Q32.4621 823.313 35.2312 826.273 Q38.0002 829.202 43.0292 829.647 L42.9973 808.768 Z\" fill=\"#000000\" fill-rule=\"nonzero\" fill-opacity=\"1\" /><path clip-path=\"url(#clip190)\" d=\"M33.8307 772.642 Q33.2578 773.629 33.0032 774.807 Q32.7167 775.952 32.7167 777.353 Q32.7167 782.318 35.9632 784.992 Q39.1779 787.634 45.2253 787.634 L64.0042 787.634 L64.0042 793.522 L28.3562 793.522 L28.3562 787.634 L33.8944 787.634 Q30.6479 785.788 29.0883 782.827 Q27.4968 779.867 27.4968 775.634 Q27.4968 775.029 27.5923 774.297 Q27.656 773.565 27.8151 772.674 L33.8307 772.642 Z\" fill=\"#000000\" fill-rule=\"nonzero\" fill-opacity=\"1\" /><path clip-path=\"url(#clip190)\" d=\"M32.4621 731.965 Q32.4621 736.676 36.1542 739.413 Q39.8145 742.151 46.212 742.151 Q52.6095 742.151 56.3017 739.445 Q59.9619 736.708 59.9619 731.965 Q59.9619 727.287 56.2698 724.549 Q52.5777 721.812 46.212 721.812 Q39.8781 721.812 36.186 724.549 Q32.4621 727.287 32.4621 731.965 M27.4968 731.965 Q27.4968 724.327 32.4621 719.966 Q37.4273 715.606 46.212 715.606 Q54.9649 715.606 59.9619 719.966 Q64.9272 724.327 64.9272 731.965 Q64.9272 739.636 59.9619 743.997 Q54.9649 748.325 46.212 748.325 Q37.4273 748.325 32.4621 743.997 Q27.4968 739.636 27.4968 731.965 Z\" fill=\"#000000\" fill-rule=\"nonzero\" fill-opacity=\"1\" /><path clip-path=\"url(#clip190)\" d=\"M14.479 687.851 L19.3487 687.851 L19.3487 693.453 Q19.3487 696.604 20.6219 697.845 Q21.895 699.055 25.2052 699.055 L28.3562 699.055 L28.3562 689.411 L32.9077 689.411 L32.9077 699.055 L64.0042 699.055 L64.0042 704.943 L32.9077 704.943 L32.9077 710.545 L28.3562 710.545 L28.3562 704.943 L25.8736 704.943 Q19.9216 704.943 17.2162 702.174 Q14.479 699.405 14.479 693.389 L14.479 687.851 Z\" fill=\"#000000\" fill-rule=\"nonzero\" fill-opacity=\"1\" /><path clip-path=\"url(#clip190)\" d=\"M46.0847 646.028 Q46.0847 653.126 47.7079 655.863 Q49.3312 658.601 53.2461 658.601 Q56.3653 658.601 58.2114 656.564 Q60.0256 654.495 60.0256 650.962 Q60.0256 646.092 56.5881 643.164 Q53.1188 640.204 47.3897 640.204 L46.0847 640.204 L46.0847 646.028 M43.6657 634.347 L64.0042 634.347 L64.0042 640.204 L58.5933 640.204 Q61.8398 642.209 63.3994 645.201 Q64.9272 648.193 64.9272 652.521 Q64.9272 657.996 61.8716 661.242 Q58.7843 664.457 53.6281 664.457 Q47.6125 664.457 44.5569 660.447 Q41.5014 656.405 41.5014 648.416 L41.5014 640.204 L40.9285 640.204 Q36.8862 640.204 34.6901 642.877 Q32.4621 645.519 32.4621 650.325 Q32.4621 653.381 33.1941 656.277 Q33.9262 659.174 35.3903 661.847 L29.9795 661.847 Q28.7381 658.633 28.1334 655.609 Q27.4968 652.585 27.4968 649.721 Q27.4968 641.986 31.5072 638.167 Q35.5176 634.347 43.6657 634.347 Z\" fill=\"#000000\" fill-rule=\"nonzero\" fill-opacity=\"1\" /><path clip-path=\"url(#clip190)\" d=\"M45.7664 598.827 Q39.4007 598.827 35.8996 601.468 Q32.3984 604.078 32.3984 608.821 Q32.3984 613.531 35.8996 616.173 Q39.4007 618.783 45.7664 618.783 Q52.1003 618.783 55.6014 616.173 Q59.1026 613.531 59.1026 608.821 Q59.1026 604.078 55.6014 601.468 Q52.1003 598.827 45.7664 598.827 M59.58 592.97 Q68.683 592.97 73.1071 597.012 Q77.5631 601.055 77.5631 609.394 Q77.5631 612.481 77.0857 615.218 Q76.6401 617.956 75.6852 620.534 L69.9879 620.534 Q71.3884 617.956 72.0568 615.441 Q72.7252 612.927 72.7252 610.317 Q72.7252 604.556 69.7015 601.691 Q66.7096 598.827 60.6303 598.827 L57.7339 598.827 Q60.885 600.641 62.4446 603.474 Q64.0042 606.306 64.0042 610.253 Q64.0042 616.81 59.0071 620.82 Q54.01 624.831 45.7664 624.831 Q37.491 624.831 32.4939 620.82 Q27.4968 616.81 27.4968 610.253 Q27.4968 606.306 29.0564 603.474 Q30.616 600.641 33.7671 598.827 L28.3562 598.827 L28.3562 592.97 L59.58 592.97 Z\" fill=\"#000000\" fill-rule=\"nonzero\" fill-opacity=\"1\" /><path clip-path=\"url(#clip190)\" d=\"M44.7161 550.416 L47.5806 550.416 L47.5806 577.342 Q53.6281 576.961 56.8109 573.714 Q59.9619 570.436 59.9619 564.611 Q59.9619 561.237 59.1344 558.086 Q58.3069 554.903 56.6518 551.784 L62.1899 551.784 Q63.5267 554.935 64.227 558.245 Q64.9272 561.555 64.9272 564.961 Q64.9272 573.491 59.9619 578.488 Q54.9967 583.454 46.5303 583.454 Q37.7774 583.454 32.6531 578.743 Q27.4968 574 27.4968 565.98 Q27.4968 558.786 32.1438 554.617 Q36.7589 550.416 44.7161 550.416 M42.9973 556.272 Q38.1912 556.336 35.3266 558.977 Q32.4621 561.587 32.4621 565.916 Q32.4621 570.818 35.2312 573.778 Q38.0002 576.706 43.0292 577.151 L42.9973 556.272 Z\" fill=\"#000000\" fill-rule=\"nonzero\" fill-opacity=\"1\" /><path clip-path=\"url(#clip190)\" d=\"M42.4881 511.171 L64.0042 511.171 L64.0042 517.027 L42.679 517.027 Q37.6183 517.027 35.1038 519.001 Q32.5894 520.974 32.5894 524.921 Q32.5894 529.663 35.6131 532.401 Q38.6368 535.138 43.8567 535.138 L64.0042 535.138 L64.0042 541.026 L28.3562 541.026 L28.3562 535.138 L33.8944 535.138 Q30.6797 533.037 29.0883 530.204 Q27.4968 527.34 27.4968 523.616 Q27.4968 517.473 31.3163 514.322 Q35.1038 511.171 42.4881 511.171 Z\" fill=\"#000000\" fill-rule=\"nonzero\" fill-opacity=\"1\" /><path clip-path=\"url(#clip190)\" d=\"M18.2347 493.697 L28.3562 493.697 L28.3562 481.634 L32.9077 481.634 L32.9077 493.697 L52.2594 493.697 Q56.6199 493.697 57.8613 492.519 Q59.1026 491.31 59.1026 487.65 L59.1026 481.634 L64.0042 481.634 L64.0042 487.65 Q64.0042 494.429 61.4897 497.007 Q58.9434 499.585 52.2594 499.585 L32.9077 499.585 L32.9077 503.882 L28.3562 503.882 L28.3562 499.585 L18.2347 499.585 L18.2347 493.697 Z\" fill=\"#000000\" fill-rule=\"nonzero\" fill-opacity=\"1\" /><path clip-path=\"url(#clip190)\" d=\"M29.4065 451.206 L34.9447 451.206 Q33.6716 453.689 33.035 456.362 Q32.3984 459.036 32.3984 461.9 Q32.3984 466.261 33.7352 468.457 Q35.072 470.621 37.7456 470.621 Q39.7826 470.621 40.9603 469.062 Q42.1061 467.502 43.1565 462.792 L43.6021 460.786 Q44.9389 454.548 47.3897 451.938 Q49.8086 449.296 54.1691 449.296 Q59.1344 449.296 62.0308 453.243 Q64.9272 457.158 64.9272 464.033 Q64.9272 466.897 64.3543 470.017 Q63.8132 473.104 62.6992 476.541 L56.6518 476.541 Q58.3387 473.295 59.198 470.144 Q60.0256 466.993 60.0256 463.906 Q60.0256 459.768 58.6251 457.54 Q57.1929 455.312 54.6147 455.312 Q52.2276 455.312 50.9545 456.935 Q49.6813 458.527 48.5037 463.969 L48.0262 466.006 Q46.8804 471.449 44.5251 473.868 Q42.138 476.287 38.0002 476.287 Q32.9713 476.287 30.2341 472.722 Q27.4968 469.157 27.4968 462.601 Q27.4968 459.354 27.9743 456.49 Q28.4517 453.625 29.4065 451.206 Z\" fill=\"#000000\" fill-rule=\"nonzero\" fill-opacity=\"1\" /><polyline clip-path=\"url(#clip192)\" style=\"stroke:#009af9; stroke-linecap:round; stroke-linejoin:round; stroke-width:4; stroke-opacity:1; fill:none\" points=\"292.4,106.79 302.401,86.1857 312.403,147.998 322.405,302.528 332.407,436.454 342.408,621.89 352.41,755.816 362.412,838.232 372.414,920.648 382.415,972.158 392.417,1044.27 402.419,1116.39 412.42,1209.1 422.422,1250.31 432.424,1270.92 442.426,1291.52 452.427,1312.12 462.429,1332.73 472.431,1343.03 482.433,1363.63 492.434,1373.94 502.436,1363.63 512.438,1363.63 522.439,1363.63 532.441,1373.94 542.443,1373.94 552.445,1384.24 562.446,1384.24 572.448,1384.24 582.45,1384.24 592.452,1384.24 602.453,1384.24 612.455,1384.24 622.457,1384.24 632.459,1384.24 642.46,1384.24 652.462,1384.24 662.464,1384.24 672.465,1384.24 682.467,1384.24 692.469,1384.24 702.471,1384.24 712.472,1384.24 722.474,1384.24 732.476,1384.24 742.478,1384.24 752.479,1384.24 762.481,1384.24 772.483,1384.24 782.484,1384.24 792.486,1384.24 802.488,1384.24 812.49,1384.24 822.491,1384.24 832.493,1384.24 842.495,1384.24 852.497,1384.24 862.498,1384.24 872.5,1384.24 882.502,1384.24 892.503,1384.24 902.505,1384.24 912.507,1384.24 922.509,1384.24 932.51,1384.24 942.512,1384.24 952.514,1384.24 962.516,1384.24 972.517,1384.24 982.519,1384.24 992.521,1384.24 1002.52,1384.24 1012.52,1384.24 1022.53,1384.24 1032.53,1384.24 1042.53,1384.24 1052.53,1384.24 1062.53,1384.24 1072.53,1384.24 1082.54,1384.24 1092.54,1384.24 1102.54,1384.24 1112.54,1384.24 1122.54,1384.24 1132.54,1384.24 1142.55,1384.24 1152.55,1384.24 1162.55,1384.24 1172.55,1384.24 1182.55,1384.24 1192.56,1384.24 1202.56,1384.24 1212.56,1384.24 1222.56,1384.24 1232.56,1384.24 1242.56,1384.24 1252.57,1384.24 1262.57,1384.24 1272.57,1384.24 1282.57,1384.24 1292.57,1384.24 1302.57,1384.24 1312.58,1384.24 1322.58,1384.24 1332.58,1384.24 1342.58,1384.24 1352.58,1384.24 1362.58,1384.24 1372.59,1384.24 1382.59,1384.24 1392.59,1384.24 1402.59,1384.24 1412.59,1384.24 1422.6,1384.24 1432.6,1384.24 1442.6,1384.24 1452.6,1384.24 1462.6,1384.24 1472.6,1384.24 1482.61,1384.24 1492.61,1384.24 1502.61,1384.24 1512.61,1384.24 1522.61,1384.24 1532.61,1384.24 1542.62,1384.24 1552.62,1384.24 1562.62,1384.24 1572.62,1384.24 1582.62,1384.24 1592.62,1384.24 1602.63,1384.24 1612.63,1384.24 1622.63,1384.24 1632.63,1384.24 1642.63,1384.24 1652.63,1384.24 1662.64,1384.24 1672.64,1384.24 1682.64,1384.24 1692.64,1384.24 1702.64,1384.24 1712.65,1384.24 1722.65,1384.24 1732.65,1384.24 1742.65,1384.24 1752.65,1384.24 1762.65,1384.24 1772.66,1384.24 1782.66,1384.24 1792.66,1384.24 1802.66,1384.24 1812.66,1384.24 1822.66,1384.24 1832.67,1384.24 1842.67,1384.24 1852.67,1384.24 1862.67,1384.24 1872.67,1384.24 1882.67,1384.24 1892.68,1384.24 1902.68,1384.24 1912.68,1384.24 1922.68,1384.24 1932.68,1384.24 1942.69,1384.24 1952.69,1384.24 1962.69,1384.24 1972.69,1384.24 1982.69,1384.24 1992.69,1384.24 2002.7,1384.24 2012.7,1384.24 2022.7,1384.24 2032.7,1384.24 2042.7,1384.24 2052.7,1384.24 2062.71,1384.24 2072.71,1384.24 2082.71,1384.24 2092.71,1384.24 2102.71,1384.24 2112.71,1384.24 2122.72,1384.24 2132.72,1384.24 2142.72,1384.24 2152.72,1384.24 2162.72,1384.24 2172.72,1384.24 2182.73,1384.24 2192.73,1384.24 2202.73,1384.24 2212.73,1384.24 2222.73,1384.24 2232.74,1384.24 2242.74,1384.24 2252.74,1384.24 2262.74,1384.24 2272.74,1384.24 2282.74,1384.24 2292.75,1384.24 \"/>\n",
       "<polyline clip-path=\"url(#clip192)\" style=\"stroke:#e26f46; stroke-linecap:round; stroke-linejoin:round; stroke-width:4; stroke-opacity:1; fill:none\" points=\"292.4,395.246 302.401,302.528 312.403,271.622 322.405,220.112 332.407,220.112 342.408,189.206 352.41,189.206 362.412,178.904 372.414,178.904 382.415,178.904 392.417,168.602 402.419,168.602 412.42,168.602 422.422,168.602 432.424,158.3 442.426,158.3 452.427,158.3 462.429,158.3 472.431,147.998 482.433,147.998 492.434,147.998 502.436,147.998 512.438,147.998 522.439,147.998 532.441,147.998 542.443,147.998 552.445,147.998 562.446,147.998 572.448,147.998 582.45,147.998 592.452,147.998 602.453,147.998 612.455,147.998 622.457,147.998 632.459,147.998 642.46,147.998 652.462,147.998 662.464,147.998 672.465,147.998 682.467,147.998 692.469,147.998 702.471,147.998 712.472,147.998 722.474,147.998 732.476,147.998 742.478,147.998 752.479,147.998 762.481,147.998 772.483,147.998 782.484,147.998 792.486,147.998 802.488,147.998 812.49,147.998 822.491,147.998 832.493,147.998 842.495,147.998 852.497,147.998 862.498,147.998 872.5,147.998 882.502,147.998 892.503,147.998 902.505,147.998 912.507,147.998 922.509,147.998 932.51,147.998 942.512,147.998 952.514,147.998 962.516,147.998 972.517,147.998 982.519,147.998 992.521,147.998 1002.52,147.998 1012.52,147.998 1022.53,147.998 1032.53,147.998 1042.53,147.998 1052.53,147.998 1062.53,147.998 1072.53,147.998 1082.54,147.998 1092.54,147.998 1102.54,147.998 1112.54,147.998 1122.54,147.998 1132.54,147.998 1142.55,147.998 1152.55,147.998 1162.55,147.998 1172.55,147.998 1182.55,147.998 1192.56,147.998 1202.56,147.998 1212.56,147.998 1222.56,147.998 1232.56,147.998 1242.56,147.998 1252.57,147.998 1262.57,147.998 1272.57,147.998 1282.57,147.998 1292.57,147.998 1302.57,147.998 1312.58,147.998 1322.58,147.998 1332.58,147.998 1342.58,147.998 1352.58,147.998 1362.58,147.998 1372.59,147.998 1382.59,147.998 1392.59,147.998 1402.59,147.998 1412.59,147.998 1422.6,147.998 1432.6,147.998 1442.6,147.998 1452.6,147.998 1462.6,147.998 1472.6,147.998 1482.61,147.998 1492.61,147.998 1502.61,147.998 1512.61,147.998 1522.61,147.998 1532.61,147.998 1542.62,147.998 1552.62,147.998 1562.62,147.998 1572.62,147.998 1582.62,147.998 1592.62,147.998 1602.63,147.998 1612.63,147.998 1622.63,147.998 1632.63,147.998 1642.63,147.998 1652.63,147.998 1662.64,147.998 1672.64,147.998 1682.64,147.998 1692.64,147.998 1702.64,147.998 1712.65,147.998 1722.65,147.998 1732.65,147.998 1742.65,147.998 1752.65,147.998 1762.65,147.998 1772.66,147.998 1782.66,147.998 1792.66,147.998 1802.66,147.998 1812.66,147.998 1822.66,147.998 1832.67,147.998 1842.67,147.998 1852.67,147.998 1862.67,147.998 1872.67,147.998 1882.67,147.998 1892.68,147.998 1902.68,147.998 1912.68,147.998 1922.68,147.998 1932.68,147.998 1942.69,147.998 1952.69,147.998 1962.69,147.998 1972.69,147.998 1982.69,147.998 1992.69,147.998 2002.7,147.998 2012.7,147.998 2022.7,147.998 2032.7,147.998 2042.7,147.998 2052.7,147.998 2062.71,147.998 2072.71,147.998 2082.71,147.998 2092.71,147.998 2102.71,147.998 2112.71,147.998 2122.72,147.998 2132.72,147.998 2142.72,147.998 2152.72,147.998 2162.72,147.998 2172.72,147.998 2182.73,147.998 2192.73,147.998 2202.73,147.998 2212.73,147.998 2222.73,147.998 2232.74,147.998 2242.74,147.998 2252.74,147.998 2262.74,147.998 2272.74,147.998 2282.74,147.998 2292.75,147.998 \"/>\n",
       "<path clip-path=\"url(#clip190)\" d=\"M1927.19 248.629 L2282.08 248.629 L2282.08 93.1086 L1927.19 93.1086  Z\" fill=\"#ffffff\" fill-rule=\"evenodd\" fill-opacity=\"1\"/>\n",
       "<polyline clip-path=\"url(#clip190)\" style=\"stroke:#000000; stroke-linecap:round; stroke-linejoin:round; stroke-width:4; stroke-opacity:1; fill:none\" points=\"1927.19,248.629 2282.08,248.629 2282.08,93.1086 1927.19,93.1086 1927.19,248.629 \"/>\n",
       "<polyline clip-path=\"url(#clip190)\" style=\"stroke:#009af9; stroke-linecap:round; stroke-linejoin:round; stroke-width:4; stroke-opacity:1; fill:none\" points=\"1950.75,144.949 2092.11,144.949 \"/>\n",
       "<path clip-path=\"url(#clip190)\" d=\"M2137.92 128.803 L2137.92 133.363 Q2135.25 132.09 2132.89 131.465 Q2130.53 130.84 2128.33 130.84 Q2124.51 130.84 2122.43 132.321 Q2120.37 133.803 2120.37 136.534 Q2120.37 138.826 2121.74 140.007 Q2123.12 141.164 2126.97 141.882 L2129.79 142.46 Q2135.02 143.456 2137.5 145.979 Q2140 148.479 2140 152.692 Q2140 157.715 2136.62 160.307 Q2133.26 162.9 2126.76 162.9 Q2124.31 162.9 2121.53 162.344 Q2118.77 161.789 2115.81 160.701 L2115.81 155.886 Q2118.66 157.483 2121.39 158.293 Q2124.12 159.104 2126.76 159.104 Q2130.76 159.104 2132.94 157.53 Q2135.12 155.956 2135.12 153.039 Q2135.12 150.493 2133.54 149.057 Q2131.99 147.622 2128.43 146.905 L2125.58 146.349 Q2120.35 145.307 2118.01 143.085 Q2115.67 140.863 2115.67 136.905 Q2115.67 132.321 2118.89 129.682 Q2122.13 127.044 2127.8 127.044 Q2130.23 127.044 2132.75 127.483 Q2135.28 127.923 2137.92 128.803 Z\" fill=\"#000000\" fill-rule=\"nonzero\" fill-opacity=\"1\" /><path clip-path=\"url(#clip190)\" d=\"M2168.66 146.581 L2168.66 162.229 L2164.4 162.229 L2164.4 146.719 Q2164.4 143.039 2162.96 141.21 Q2161.53 139.382 2158.66 139.382 Q2155.21 139.382 2153.22 141.581 Q2151.23 143.78 2151.23 147.576 L2151.23 162.229 L2146.94 162.229 L2146.94 126.21 L2151.23 126.21 L2151.23 140.331 Q2152.75 137.993 2154.81 136.835 Q2156.9 135.678 2159.61 135.678 Q2164.07 135.678 2166.37 138.456 Q2168.66 141.21 2168.66 146.581 Z\" fill=\"#000000\" fill-rule=\"nonzero\" fill-opacity=\"1\" /><path clip-path=\"url(#clip190)\" d=\"M2199.33 148.201 L2199.33 150.284 L2179.74 150.284 Q2180.02 154.682 2182.38 156.997 Q2184.77 159.289 2189 159.289 Q2191.46 159.289 2193.75 158.687 Q2196.06 158.085 2198.33 156.881 L2198.33 160.909 Q2196.04 161.881 2193.63 162.391 Q2191.23 162.9 2188.75 162.9 Q2182.55 162.9 2178.91 159.289 Q2175.3 155.678 2175.3 149.52 Q2175.3 143.155 2178.73 139.428 Q2182.18 135.678 2188.01 135.678 Q2193.24 135.678 2196.27 139.057 Q2199.33 142.414 2199.33 148.201 M2195.07 146.951 Q2195.02 143.456 2193.1 141.372 Q2191.2 139.289 2188.05 139.289 Q2184.49 139.289 2182.34 141.303 Q2180.21 143.317 2179.88 146.974 L2195.07 146.951 Z\" fill=\"#000000\" fill-rule=\"nonzero\" fill-opacity=\"1\" /><path clip-path=\"url(#clip190)\" d=\"M2228.49 148.201 L2228.49 150.284 L2208.91 150.284 Q2209.19 154.682 2211.55 156.997 Q2213.93 159.289 2218.17 159.289 Q2220.62 159.289 2222.92 158.687 Q2225.23 158.085 2227.5 156.881 L2227.5 160.909 Q2225.21 161.881 2222.8 162.391 Q2220.39 162.9 2217.92 162.9 Q2211.71 162.9 2208.08 159.289 Q2204.47 155.678 2204.47 149.52 Q2204.47 143.155 2207.89 139.428 Q2211.34 135.678 2217.18 135.678 Q2222.41 135.678 2225.44 139.057 Q2228.49 142.414 2228.49 148.201 M2224.24 146.951 Q2224.19 143.456 2222.27 141.372 Q2220.37 139.289 2217.22 139.289 Q2213.66 139.289 2211.5 141.303 Q2209.37 143.317 2209.05 146.974 L2224.24 146.951 Z\" fill=\"#000000\" fill-rule=\"nonzero\" fill-opacity=\"1\" /><path clip-path=\"url(#clip190)\" d=\"M2239.61 158.34 L2239.61 172.09 L2235.32 172.09 L2235.32 136.303 L2239.61 136.303 L2239.61 140.238 Q2240.95 137.923 2242.99 136.812 Q2245.05 135.678 2247.89 135.678 Q2252.61 135.678 2255.55 139.428 Q2258.52 143.178 2258.52 149.289 Q2258.52 155.4 2255.55 159.15 Q2252.61 162.9 2247.89 162.9 Q2245.05 162.9 2242.99 161.789 Q2240.95 160.655 2239.61 158.34 M2254.1 149.289 Q2254.1 144.59 2252.15 141.928 Q2250.23 139.243 2246.85 139.243 Q2243.47 139.243 2241.53 141.928 Q2239.61 144.59 2239.61 149.289 Q2239.61 153.988 2241.53 156.673 Q2243.47 159.335 2246.85 159.335 Q2250.23 159.335 2252.15 156.673 Q2254.1 153.988 2254.1 149.289 Z\" fill=\"#000000\" fill-rule=\"nonzero\" fill-opacity=\"1\" /><polyline clip-path=\"url(#clip190)\" style=\"stroke:#e26f46; stroke-linecap:round; stroke-linejoin:round; stroke-width:4; stroke-opacity:1; fill:none\" points=\"1950.75,196.789 2092.11,196.789 \"/>\n",
       "<path clip-path=\"url(#clip190)\" d=\"M2115.67 179.509 L2120.39 179.509 L2127.66 208.721 L2134.91 179.509 L2140.16 179.509 L2147.43 208.721 L2154.68 179.509 L2159.42 179.509 L2150.74 214.069 L2144.86 214.069 L2137.57 184.069 L2130.21 214.069 L2124.33 214.069 L2115.67 179.509 Z\" fill=\"#000000\" fill-rule=\"nonzero\" fill-opacity=\"1\" /><path clip-path=\"url(#clip190)\" d=\"M2172.71 191.129 Q2169.28 191.129 2167.29 193.814 Q2165.3 196.476 2165.3 201.129 Q2165.3 205.782 2167.27 208.467 Q2169.26 211.129 2172.71 211.129 Q2176.11 211.129 2178.1 208.444 Q2180.09 205.758 2180.09 201.129 Q2180.09 196.522 2178.1 193.837 Q2176.11 191.129 2172.71 191.129 M2172.71 187.518 Q2178.26 187.518 2181.43 191.129 Q2184.61 194.74 2184.61 201.129 Q2184.61 207.495 2181.43 211.129 Q2178.26 214.74 2172.71 214.74 Q2167.13 214.74 2163.96 211.129 Q2160.81 207.495 2160.81 201.129 Q2160.81 194.74 2163.96 191.129 Q2167.13 187.518 2172.71 187.518 Z\" fill=\"#000000\" fill-rule=\"nonzero\" fill-opacity=\"1\" /><path clip-path=\"url(#clip190)\" d=\"M2191.67 178.05 L2195.93 178.05 L2195.93 214.069 L2191.67 214.069 L2191.67 178.05 Z\" fill=\"#000000\" fill-rule=\"nonzero\" fill-opacity=\"1\" /><path clip-path=\"url(#clip190)\" d=\"M2217.96 178.05 L2217.96 181.592 L2213.89 181.592 Q2211.6 181.592 2210.69 182.518 Q2209.81 183.444 2209.81 185.851 L2209.81 188.143 L2216.83 188.143 L2216.83 191.453 L2209.81 191.453 L2209.81 214.069 L2205.53 214.069 L2205.53 191.453 L2201.46 191.453 L2201.46 188.143 L2205.53 188.143 L2205.53 186.337 Q2205.53 182.009 2207.55 180.041 Q2209.56 178.05 2213.93 178.05 L2217.96 178.05 Z\" fill=\"#000000\" fill-rule=\"nonzero\" fill-opacity=\"1\" /></svg>\n"
      ],
      "text/html": [
       "<img src=\"data:image/png;base64,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\" />"
      ]
     },
     "metadata": {},
     "output_type": "display_data"
    },
    {
     "data": {
      "text/html": [
       "<div><div style = \"float: left;\"><span>201×2 DataFrame</span></div><div style = \"float: right;\"><span style = \"font-style: italic;\">176 rows omitted</span></div><div style = \"clear: both;\"></div></div><div class = \"data-frame\" style = \"overflow-x: scroll;\"><table class = \"data-frame\" style = \"margin-bottom: 6px;\"><thead><tr class = \"header\"><th class = \"rowNumber\" style = \"font-weight: bold; text-align: right;\">Row</th><th style = \"text-align: left;\">Sheep</th><th style = \"text-align: left;\">Wolf</th></tr><tr class = \"subheader headerLastRow\"><th class = \"rowNumber\" style = \"font-weight: bold; text-align: right;\"></th><th title = \"Int64\" style = \"text-align: left;\">Int64</th><th title = \"Int64\" style = \"text-align: left;\">Int64</th></tr></thead><tbody><tr><td class = \"rowNumber\" style = \"font-weight: bold; text-align: right;\">1</td><td style = \"text-align: right;\">124</td><td style = \"text-align: right;\">96</td></tr><tr><td class = \"rowNumber\" style = \"font-weight: bold; text-align: right;\">2</td><td style = \"text-align: right;\">126</td><td style = \"text-align: right;\">105</td></tr><tr><td class = \"rowNumber\" style = \"font-weight: bold; text-align: right;\">3</td><td style = \"text-align: right;\">120</td><td style = \"text-align: right;\">108</td></tr><tr><td class = \"rowNumber\" style = \"font-weight: bold; text-align: right;\">4</td><td style = \"text-align: right;\">105</td><td style = \"text-align: right;\">113</td></tr><tr><td class = \"rowNumber\" style = \"font-weight: bold; text-align: right;\">5</td><td style = \"text-align: right;\">92</td><td style = \"text-align: right;\">113</td></tr><tr><td class = \"rowNumber\" style = \"font-weight: bold; text-align: right;\">6</td><td style = \"text-align: right;\">74</td><td style = \"text-align: right;\">116</td></tr><tr><td class = \"rowNumber\" style = \"font-weight: bold; text-align: right;\">7</td><td style = \"text-align: right;\">61</td><td style = \"text-align: right;\">116</td></tr><tr><td class = \"rowNumber\" style = \"font-weight: bold; text-align: right;\">8</td><td style = \"text-align: right;\">53</td><td style = \"text-align: right;\">117</td></tr><tr><td class = \"rowNumber\" style = \"font-weight: bold; text-align: right;\">9</td><td style = \"text-align: right;\">45</td><td style = \"text-align: right;\">117</td></tr><tr><td class = \"rowNumber\" style = \"font-weight: bold; text-align: right;\">10</td><td style = \"text-align: right;\">40</td><td style = \"text-align: right;\">117</td></tr><tr><td class = \"rowNumber\" style = \"font-weight: bold; text-align: right;\">11</td><td style = \"text-align: right;\">33</td><td style = \"text-align: right;\">118</td></tr><tr><td class = \"rowNumber\" style = \"font-weight: bold; text-align: right;\">12</td><td style = \"text-align: right;\">26</td><td style = \"text-align: right;\">118</td></tr><tr><td class = \"rowNumber\" style = \"font-weight: bold; text-align: right;\">13</td><td style = \"text-align: right;\">17</td><td style = \"text-align: right;\">118</td></tr><tr><td style = \"text-align: right;\">&vellip;</td><td style = \"text-align: right;\">&vellip;</td><td style = \"text-align: right;\">&vellip;</td></tr><tr><td class = \"rowNumber\" style = \"font-weight: bold; text-align: right;\">190</td><td style = \"text-align: right;\">0</td><td style = \"text-align: right;\">120</td></tr><tr><td class = \"rowNumber\" style = \"font-weight: bold; text-align: right;\">191</td><td style = \"text-align: right;\">0</td><td style = \"text-align: right;\">120</td></tr><tr><td class = \"rowNumber\" style = \"font-weight: bold; text-align: right;\">192</td><td style = \"text-align: right;\">0</td><td style = \"text-align: right;\">120</td></tr><tr><td class = \"rowNumber\" style = \"font-weight: bold; text-align: right;\">193</td><td style = \"text-align: right;\">0</td><td style = \"text-align: right;\">120</td></tr><tr><td class = \"rowNumber\" style = \"font-weight: bold; text-align: right;\">194</td><td style = \"text-align: right;\">0</td><td style = \"text-align: right;\">120</td></tr><tr><td class = \"rowNumber\" style = \"font-weight: bold; text-align: right;\">195</td><td style = \"text-align: right;\">0</td><td style = \"text-align: right;\">120</td></tr><tr><td class = \"rowNumber\" style = \"font-weight: bold; text-align: right;\">196</td><td style = \"text-align: right;\">0</td><td style = \"text-align: right;\">120</td></tr><tr><td class = \"rowNumber\" style = \"font-weight: bold; text-align: right;\">197</td><td style = \"text-align: right;\">0</td><td style = \"text-align: right;\">120</td></tr><tr><td class = \"rowNumber\" style = \"font-weight: bold; text-align: right;\">198</td><td style = \"text-align: right;\">0</td><td style = \"text-align: right;\">120</td></tr><tr><td class = \"rowNumber\" style = \"font-weight: bold; text-align: right;\">199</td><td style = \"text-align: right;\">0</td><td style = \"text-align: right;\">120</td></tr><tr><td class = \"rowNumber\" style = \"font-weight: bold; text-align: right;\">200</td><td style = \"text-align: right;\">0</td><td style = \"text-align: right;\">120</td></tr><tr><td class = \"rowNumber\" style = \"font-weight: bold; text-align: right;\">201</td><td style = \"text-align: right;\">0</td><td style = \"text-align: right;\">120</td></tr></tbody></table></div>"
      ],
      "text/latex": [
       "\\begin{tabular}{r|cc}\n",
       "\t& Sheep & Wolf\\\\\n",
       "\t\\hline\n",
       "\t& Int64 & Int64\\\\\n",
       "\t\\hline\n",
       "\t1 & 124 & 96 \\\\\n",
       "\t2 & 126 & 105 \\\\\n",
       "\t3 & 120 & 108 \\\\\n",
       "\t4 & 105 & 113 \\\\\n",
       "\t5 & 92 & 113 \\\\\n",
       "\t6 & 74 & 116 \\\\\n",
       "\t7 & 61 & 116 \\\\\n",
       "\t8 & 53 & 117 \\\\\n",
       "\t9 & 45 & 117 \\\\\n",
       "\t10 & 40 & 117 \\\\\n",
       "\t11 & 33 & 118 \\\\\n",
       "\t12 & 26 & 118 \\\\\n",
       "\t13 & 17 & 118 \\\\\n",
       "\t14 & 13 & 118 \\\\\n",
       "\t15 & 11 & 119 \\\\\n",
       "\t16 & 9 & 119 \\\\\n",
       "\t17 & 7 & 119 \\\\\n",
       "\t18 & 5 & 119 \\\\\n",
       "\t19 & 4 & 120 \\\\\n",
       "\t20 & 2 & 120 \\\\\n",
       "\t21 & 1 & 120 \\\\\n",
       "\t22 & 2 & 120 \\\\\n",
       "\t23 & 2 & 120 \\\\\n",
       "\t24 & 2 & 120 \\\\\n",
       "\t25 & 1 & 120 \\\\\n",
       "\t26 & 1 & 120 \\\\\n",
       "\t27 & 0 & 120 \\\\\n",
       "\t28 & 0 & 120 \\\\\n",
       "\t29 & 0 & 120 \\\\\n",
       "\t30 & 0 & 120 \\\\\n",
       "\t$\\dots$ & $\\dots$ & $\\dots$ \\\\\n",
       "\\end{tabular}\n"
      ],
      "text/plain": [
       "\u001b[1m201×2 DataFrame\u001b[0m\n",
       "\u001b[1m Row \u001b[0m│\u001b[1m Sheep \u001b[0m\u001b[1m Wolf  \u001b[0m\n",
       "     │\u001b[90m Int64 \u001b[0m\u001b[90m Int64 \u001b[0m\n",
       "─────┼──────────────\n",
       "   1 │   124     96\n",
       "   2 │   126    105\n",
       "   3 │   120    108\n",
       "   4 │   105    113\n",
       "   5 │    92    113\n",
       "   6 │    74    116\n",
       "   7 │    61    116\n",
       "   8 │    53    117\n",
       "   9 │    45    117\n",
       "  10 │    40    117\n",
       "  11 │    33    118\n",
       "  ⋮  │   ⋮      ⋮\n",
       " 192 │     0    120\n",
       " 193 │     0    120\n",
       " 194 │     0    120\n",
       " 195 │     0    120\n",
       " 196 │     0    120\n",
       " 197 │     0    120\n",
       " 198 │     0    120\n",
       " 199 │     0    120\n",
       " 200 │     0    120\n",
       " 201 │     0    120\n",
       "\u001b[36m    180 rows omitted\u001b[0m"
      ]
     },
     "execution_count": 8,
     "metadata": {},
     "output_type": "execute_result"
    }
   ],
   "source": [
    "df = get_nums_agents(model, agent-> agent.atype == sheep, \n",
    "    agent->agent.atype == wolf, labels=[\"Sheep\", \"Wolf\"], \n",
    "    plot_result = true)"
   ]
  },
  {
   "cell_type": "markdown",
   "metadata": {},
   "source": [
    "Individual agent data recorded during model run can be obtained as"
   ]
  },
  {
   "cell_type": "code",
   "execution_count": 9,
   "metadata": {
    "scrolled": false
   },
   "outputs": [
    {
     "data": {
      "text/html": [
       "<div><div style = \"float: left;\"><span>201×2 DataFrame</span></div><div style = \"float: right;\"><span style = \"font-style: italic;\">176 rows omitted</span></div><div style = \"clear: both;\"></div></div><div class = \"data-frame\" style = \"overflow-x: scroll;\"><table class = \"data-frame\" style = \"margin-bottom: 6px;\"><thead><tr class = \"header\"><th class = \"rowNumber\" style = \"font-weight: bold; text-align: right;\">Row</th><th style = \"text-align: left;\">energy</th><th style = \"text-align: left;\">pos</th></tr><tr class = \"subheader headerLastRow\"><th class = \"rowNumber\" style = \"font-weight: bold; text-align: right;\"></th><th title = \"Union{Missing, Float64}\" style = \"text-align: left;\">Float64?</th><th title = \"Union{Missing, Vect{2, Int64}}\" style = \"text-align: left;\">Vect…?</th></tr></thead><tbody><tr><td class = \"rowNumber\" style = \"font-weight: bold; text-align: right;\">1</td><td style = \"text-align: right;\">18.0</td><td style = \"text-align: left;\">(20, 15)\\n</td></tr><tr><td class = \"rowNumber\" style = \"font-weight: bold; text-align: right;\">2</td><td style = \"text-align: right;\">18.0</td><td style = \"text-align: left;\">(20, 16)\\n</td></tr><tr><td class = \"rowNumber\" style = \"font-weight: bold; text-align: right;\">3</td><td style = \"text-align: right;\">18.0</td><td style = \"text-align: left;\">(20, 16)\\n</td></tr><tr><td class = \"rowNumber\" style = \"font-weight: bold; text-align: right;\">4</td><td style = \"text-align: right;\">18.0</td><td style = \"text-align: left;\">(19, 17)\\n</td></tr><tr><td class = \"rowNumber\" style = \"font-weight: bold; text-align: right;\">5</td><td style = \"text-align: right;\">18.0</td><td style = \"text-align: left;\">(18, 16)\\n</td></tr><tr><td class = \"rowNumber\" style = \"font-weight: bold; text-align: right;\">6</td><td style = \"text-align: right;\">18.0</td><td style = \"text-align: left;\">(17, 15)\\n</td></tr><tr><td class = \"rowNumber\" style = \"font-weight: bold; text-align: right;\">7</td><td style = \"text-align: right;\">18.0</td><td style = \"text-align: left;\">(18, 14)\\n</td></tr><tr><td class = \"rowNumber\" style = \"font-weight: bold; text-align: right;\">8</td><td style = \"text-align: right;\">18.0</td><td style = \"text-align: left;\">(18, 13)\\n</td></tr><tr><td class = \"rowNumber\" style = \"font-weight: bold; text-align: right;\">9</td><td style = \"text-align: right;\">18.0</td><td style = \"text-align: left;\">(18, 14)\\n</td></tr><tr><td class = \"rowNumber\" style = \"font-weight: bold; text-align: right;\">10</td><td style = \"text-align: right;\">18.0</td><td style = \"text-align: left;\">(18, 13)\\n</td></tr><tr><td class = \"rowNumber\" style = \"font-weight: bold; text-align: right;\">11</td><td style = \"text-align: right;\">18.0</td><td style = \"text-align: left;\">(19, 12)\\n</td></tr><tr><td class = \"rowNumber\" style = \"font-weight: bold; text-align: right;\">12</td><td style = \"text-align: right;\">18.0</td><td style = \"text-align: left;\">(18, 13)\\n</td></tr><tr><td class = \"rowNumber\" style = \"font-weight: bold; text-align: right;\">13</td><td style = \"text-align: right;\">18.0</td><td style = \"text-align: left;\">(19, 12)\\n</td></tr><tr><td style = \"text-align: right;\">&vellip;</td><td style = \"text-align: right;\">&vellip;</td><td style = \"text-align: right;\">&vellip;</td></tr><tr><td class = \"rowNumber\" style = \"font-weight: bold; text-align: right;\">190</td><td style = \"text-align: right;\">19.0</td><td style = \"text-align: left;\">(15, 8)\\n</td></tr><tr><td class = \"rowNumber\" style = \"font-weight: bold; text-align: right;\">191</td><td style = \"text-align: right;\">19.0</td><td style = \"text-align: left;\">(14, 8)\\n</td></tr><tr><td class = \"rowNumber\" style = \"font-weight: bold; text-align: right;\">192</td><td style = \"text-align: right;\">19.0</td><td style = \"text-align: left;\">(14, 9)\\n</td></tr><tr><td class = \"rowNumber\" style = \"font-weight: bold; text-align: right;\">193</td><td style = \"text-align: right;\">19.0</td><td style = \"text-align: left;\">(15, 10)\\n</td></tr><tr><td class = \"rowNumber\" style = \"font-weight: bold; text-align: right;\">194</td><td style = \"text-align: right;\">19.0</td><td style = \"text-align: left;\">(16, 9)\\n</td></tr><tr><td class = \"rowNumber\" style = \"font-weight: bold; text-align: right;\">195</td><td style = \"text-align: right;\">19.0</td><td style = \"text-align: left;\">(15, 8)\\n</td></tr><tr><td class = \"rowNumber\" style = \"font-weight: bold; text-align: right;\">196</td><td style = \"text-align: right;\">19.0</td><td style = \"text-align: left;\">(14, 7)\\n</td></tr><tr><td class = \"rowNumber\" style = \"font-weight: bold; text-align: right;\">197</td><td style = \"text-align: right;\">19.0</td><td style = \"text-align: left;\">(13, 6)\\n</td></tr><tr><td class = \"rowNumber\" style = \"font-weight: bold; text-align: right;\">198</td><td style = \"text-align: right;\">19.0</td><td style = \"text-align: left;\">(12, 6)\\n</td></tr><tr><td class = \"rowNumber\" style = \"font-weight: bold; text-align: right;\">199</td><td style = \"text-align: right;\">19.0</td><td style = \"text-align: left;\">(11, 5)\\n</td></tr><tr><td class = \"rowNumber\" style = \"font-weight: bold; text-align: right;\">200</td><td style = \"text-align: right;\">19.0</td><td style = \"text-align: left;\">(11, 4)\\n</td></tr><tr><td class = \"rowNumber\" style = \"font-weight: bold; text-align: right;\">201</td><td style = \"text-align: right;\">19.0</td><td style = \"text-align: left;\">(11, 3)\\n</td></tr></tbody></table></div>"
      ],
      "text/latex": [
       "\\begin{tabular}{r|cc}\n",
       "\t& energy & pos\\\\\n",
       "\t\\hline\n",
       "\t& Float64? & Vect…?\\\\\n",
       "\t\\hline\n",
       "\t1 & 18.0 & (20, 15)\\textbackslash{}n \\\\\n",
       "\t2 & 18.0 & (20, 16)\\textbackslash{}n \\\\\n",
       "\t3 & 18.0 & (20, 16)\\textbackslash{}n \\\\\n",
       "\t4 & 18.0 & (19, 17)\\textbackslash{}n \\\\\n",
       "\t5 & 18.0 & (18, 16)\\textbackslash{}n \\\\\n",
       "\t6 & 18.0 & (17, 15)\\textbackslash{}n \\\\\n",
       "\t7 & 18.0 & (18, 14)\\textbackslash{}n \\\\\n",
       "\t8 & 18.0 & (18, 13)\\textbackslash{}n \\\\\n",
       "\t9 & 18.0 & (18, 14)\\textbackslash{}n \\\\\n",
       "\t10 & 18.0 & (18, 13)\\textbackslash{}n \\\\\n",
       "\t11 & 18.0 & (19, 12)\\textbackslash{}n \\\\\n",
       "\t12 & 18.0 & (18, 13)\\textbackslash{}n \\\\\n",
       "\t13 & 18.0 & (19, 12)\\textbackslash{}n \\\\\n",
       "\t14 & 18.0 & (20, 11)\\textbackslash{}n \\\\\n",
       "\t15 & 18.0 & (20, 11)\\textbackslash{}n \\\\\n",
       "\t16 & 19.0 & (20, 11)\\textbackslash{}n \\\\\n",
       "\t17 & 19.0 & (19, 10)\\textbackslash{}n \\\\\n",
       "\t18 & 19.0 & (20, 11)\\textbackslash{}n \\\\\n",
       "\t19 & 19.0 & (19, 12)\\textbackslash{}n \\\\\n",
       "\t20 & 19.0 & (20, 13)\\textbackslash{}n \\\\\n",
       "\t21 & 19.0 & (20, 13)\\textbackslash{}n \\\\\n",
       "\t22 & 19.0 & (19, 12)\\textbackslash{}n \\\\\n",
       "\t23 & 19.0 & (18, 12)\\textbackslash{}n \\\\\n",
       "\t24 & 19.0 & (18, 11)\\textbackslash{}n \\\\\n",
       "\t25 & 19.0 & (17, 10)\\textbackslash{}n \\\\\n",
       "\t26 & 19.0 & (16, 10)\\textbackslash{}n \\\\\n",
       "\t27 & 19.0 & (16, 9)\\textbackslash{}n \\\\\n",
       "\t28 & 19.0 & (15, 10)\\textbackslash{}n \\\\\n",
       "\t29 & 19.0 & (16, 9)\\textbackslash{}n \\\\\n",
       "\t30 & 19.0 & (17, 9)\\textbackslash{}n \\\\\n",
       "\t$\\dots$ & $\\dots$ & $\\dots$ \\\\\n",
       "\\end{tabular}\n"
      ],
      "text/plain": [
       "\u001b[1m201×2 DataFrame\u001b[0m\n",
       "\u001b[1m Row \u001b[0m│\u001b[1m energy   \u001b[0m\u001b[1m pos        \u001b[0m\n",
       "     │\u001b[90m Float64? \u001b[0m\u001b[90m Vect…?     \u001b[0m\n",
       "─────┼──────────────────────\n",
       "   1 │     18.0  (20, 15)\\n\n",
       "   2 │     18.0  (20, 16)\\n\n",
       "   3 │     18.0  (20, 16)\\n\n",
       "   4 │     18.0  (19, 17)\\n\n",
       "   5 │     18.0  (18, 16)\\n\n",
       "   6 │     18.0  (17, 15)\\n\n",
       "   7 │     18.0  (18, 14)\\n\n",
       "   8 │     18.0  (18, 13)\\n\n",
       "   9 │     18.0  (18, 14)\\n\n",
       "  10 │     18.0  (18, 13)\\n\n",
       "  11 │     18.0  (19, 12)\\n\n",
       "  ⋮  │    ⋮          ⋮\n",
       " 192 │     19.0  (14, 9)\\n\n",
       " 193 │     19.0  (15, 10)\\n\n",
       " 194 │     19.0  (16, 9)\\n\n",
       " 195 │     19.0  (15, 8)\\n\n",
       " 196 │     19.0  (14, 7)\\n\n",
       " 197 │     19.0  (13, 6)\\n\n",
       " 198 │     19.0  (12, 6)\\n\n",
       " 199 │     19.0  (11, 5)\\n\n",
       " 200 │     19.0  (11, 4)\\n\n",
       " 201 │     19.0  (11, 3)\\n\n",
       "\u001b[36m            180 rows omitted\u001b[0m"
      ]
     },
     "execution_count": 9,
     "metadata": {},
     "output_type": "execute_result"
    }
   ],
   "source": [
    "df = get_agent_data(model.agents[2], model).record"
   ]
  },
  {
   "cell_type": "code",
   "execution_count": 10,
   "metadata": {},
   "outputs": [
    {
     "data": {
      "text/plain": [
       "Agent2D:\n",
       " pos :(20, 20)\n",
       "\n",
       " color: RGBA{N0f8}(0.0,0.0,0.0,1.0)\n",
       "\n",
       " atype: wolf\n",
       " energy: 14.0\n",
       " size: 0.25\n",
       " orientation: 0.0\n",
       " shape: circle\n"
      ]
     },
     "execution_count": 10,
     "metadata": {},
     "output_type": "execute_result"
    }
   ],
   "source": [
    "model.agents[1]"
   ]
  }
 ],
 "metadata": {
  "@webio": {
   "lastCommId": "4279009275bd45478a8d74e03f95de2d",
   "lastKernelId": "96bed0bf-2c64-4c45-a98a-7518ab9672b3"
  },
  "kernelspec": {
   "display_name": "Julia 1.9.2",
   "language": "julia",
   "name": "julia-1.9"
  },
  "language_info": {
   "file_extension": ".jl",
   "mimetype": "application/julia",
   "name": "julia",
   "version": "1.9.2"
  }
 },
 "nbformat": 4,
 "nbformat_minor": 4
}
