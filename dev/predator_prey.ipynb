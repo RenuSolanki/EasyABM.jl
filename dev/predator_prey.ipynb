{
 "cells": [
  {
   "cell_type": "markdown",
   "metadata": {},
   "source": [
    "# Predator-prey model"
   ]
  },
  {
   "cell_type": "code",
   "execution_count": 1,
   "metadata": {},
   "outputs": [
    {
     "name": "stderr",
     "output_type": "stream",
     "text": [
      "\u001b[32m\u001b[1m  Activating\u001b[22m\u001b[39m project at `~/Documents/EasyABM`\n"
     ]
    },
    {
     "data": {
      "application/vnd.webio.node+json": {
       "children": [],
       "instanceArgs": {
        "namespace": "html",
        "tag": "div"
       },
       "nodeType": "DOM",
       "props": {},
       "type": "node"
      },
      "text/html": [
       "<div style=\"padding: 1em; background-color: #f8d6da; border: 1px solid #f5c6cb; font-weight: bold;\">\n",
       "<p>The WebIO Jupyter extension was not detected. See the\n",
       "<a href=\"https://juliagizmos.github.io/WebIO.jl/latest/providers/ijulia/\" target=\"_blank\">\n",
       "    WebIO Jupyter integration documentation\n",
       "</a>\n",
       "for more information.\n",
       "</div>\n"
      ],
      "text/plain": [
       "WebIO._IJuliaInit()"
      ]
     },
     "metadata": {
      "application/vnd.webio.node+json": {
       "kernelId": "7d605ae5-60b8-4e0d-8792-ebef37ae371d"
      }
     },
     "output_type": "display_data"
    }
   ],
   "source": [
    "#don't need first two lines if using installed version of EasyABM\n",
    "using Pkg, Revise\n",
    "Pkg.activate(joinpath(@__DIR__, \"../..\"))\n",
    "using EasyABM"
   ]
  },
  {
   "cell_type": "markdown",
   "metadata": {},
   "source": [
    "## Step 1: Create Agents and Model\n",
    "\n",
    "We create 200 agents all of type `sheep` to begin with. Our model parameters are \n",
    "\n",
    "* `max_energy` : The maximum energy that an agent (sheep or wolf) can have. \n",
    "* `wolf_birth_rate` : Probability of a wolf agent to reproduce once its energy is greater than max_energy/2.  \n",
    "* `sheep_birth_rate` : Probability of a sheep agent to reproduce once its energy is greater than max_energy/2. \n",
    "* `wolves_kill_ability` : The probability of a wolf to kill a neighboring sheep.\n",
    "* `grass_grow_prob` : The probability of one unit of grass growing on a patch at a given timestep.\n",
    "* `max_grass` : Max grass a patch can have.\n",
    "* `initial_wolf_percent` : The percent of agents which are wolf initially. "
   ]
  },
  {
   "cell_type": "code",
   "execution_count": 2,
   "metadata": {},
   "outputs": [
    {
     "data": {
      "text/plain": [
       "EasyABM SpaceModel2D{Mortal, Int64, NPeriodic}: In a Mortal model agents can take birth or die.\n"
      ]
     },
     "execution_count": 2,
     "metadata": {},
     "output_type": "execute_result"
    }
   ],
   "source": [
    "@enum agenttype sheep wolf\n",
    "agents = grid_2d_agents(200, pos = Vect(1,1), color = cl\"white\", atype = sheep, \n",
    "    energy = 10.0, keeps_record_of=Set([:pos, :energy ]))\n",
    "model = create_2d_model(agents, \n",
    "    size = (20,20), #space size\n",
    "    agents_type = Mortal, # agents are mortal, can take birth or die\n",
    "    space_type = NPeriodic, # nonperiodic space\n",
    "    #below are all the model parameters\n",
    "    max_energy = 50, \n",
    "    wolf_birth_rate = 0.01,\n",
    "    sheep_birth_rate = 0.1,\n",
    "    wolves_kill_ability = 0.2,\n",
    "    max_grass = 5,\n",
    "    initial_wolf_percent = 0.2,\n",
    "    grass_grow_prob = 0.2)"
   ]
  },
  {
   "cell_type": "markdown",
   "metadata": {},
   "source": [
    "## Step 2: Initialise the model\n",
    "\n",
    "In the second step we initialise the patches and agents by defining `initialiser!` function and sending it as an argument to `init_model!`. In the `initialiser!` function we randomly set amount of grass and accordingly color of each patch. We also set a fraction `initial_wolf_percent` of agents to be of type wolf. We set color of sheeps to white and that of wolves to black. We also randomly set the energy and positions of agents. In the `init_model!` function through argument `props_to_record` we tell EasyABM to record the color property of patches during model run."
   ]
  },
  {
   "cell_type": "code",
   "execution_count": 3,
   "metadata": {},
   "outputs": [],
   "source": [
    "function initialiser!(model)\n",
    "    max_grass = model.parameters.max_grass\n",
    "    for j in 1:model.size[2]\n",
    "        for i in 1:model.size[1]\n",
    "            grass = rand(1:max_grass)\n",
    "            model.patches[i,j].grass = grass\n",
    "            hf = Int(ceil(max_grass/2))\n",
    "            model.patches[i,j].color = grass > hf ? cl\"green\" : (grass > 0 ? cl\"blue\" : cl\"grey\")\n",
    "        end\n",
    "    end\n",
    "    for agent in model.agents\n",
    "        if rand()< model.parameters.initial_wolf_percent \n",
    "            agent.atype = wolf\n",
    "            agent.color = cl\"black\"\n",
    "        else\n",
    "            agent.atype = sheep\n",
    "            agent.color = cl\"white\"\n",
    "        end\n",
    "        agent.energy = rand(1:model.parameters.max_energy)+0.0\n",
    "        agent.pos = Vect(rand(1:model.size[1]), rand(1:model.size[2]))\n",
    "    end\n",
    "            \n",
    "end\n",
    "\n",
    "init_model!(model, initialiser = initialiser!, props_to_record = Dict(\"patches\"=>Set([:color])))\n"
   ]
  },
  {
   "cell_type": "markdown",
   "metadata": {},
   "source": [
    "## Step 3: Defining the step_rule! and running the model\n",
    "\n",
    "In this step we implement the step logic of the predator prey model in the `step_rule!` function and run the model for 100 steps. "
   ]
  },
  {
   "cell_type": "code",
   "execution_count": 4,
   "metadata": {},
   "outputs": [],
   "source": [
    "function change_pos!(agent)\n",
    "    dx = rand(-1:1)\n",
    "    dy = rand(-1:1)\n",
    "    agent.pos += Vect(dx, dy)\n",
    "end\n",
    "\n",
    "function reproduce!(agent, model)\n",
    "    new_agent = create_similar(agent)\n",
    "    agent.energy = agent.energy/2\n",
    "    new_agent.energy = agent.energy\n",
    "    add_agent!(new_agent, model)\n",
    "end\n",
    "\n",
    "function eat_sheep!(wolf, sheep, model)\n",
    "    kill_agent!(sheep, model) \n",
    "    wolf.energy+=1\n",
    "end\n",
    "\n",
    "\n",
    "function act_asa_wolf!(agent, model)\n",
    "    if !(is_alive(agent))\n",
    "        return\n",
    "    end\n",
    "    energy = agent.energy\n",
    "    if energy > 0.5*model.parameters.max_energy\n",
    "        if rand()<model.parameters.wolf_birth_rate\n",
    "            reproduce!(agent, model)\n",
    "        end\n",
    "    elseif energy > 0 \n",
    "        nbrs = collect(grid_neighbors(agent, model, 1))\n",
    "        n = length(nbrs)\n",
    "        if n>0\n",
    "            nbr = nbrs[rand(1:n)]\n",
    "            if (nbr.atype == sheep)&&(is_alive(nbr))\n",
    "                ability = model.parameters.wolves_kill_ability\n",
    "                (rand()<ability)&&(eat_sheep!(agent, nbr, model))\n",
    "            end\n",
    "        end\n",
    "        change_pos!(agent)\n",
    "    else\n",
    "        kill_agent!(agent, model)\n",
    "    end\n",
    "end\n",
    "\n",
    "function act_asa_sheep!(agent, model)\n",
    "    if !(is_alive(agent))\n",
    "        return\n",
    "    end\n",
    "    energy = agent.energy\n",
    "    if energy >0.5* model.parameters.max_energy\n",
    "        if rand()<model.parameters.sheep_birth_rate\n",
    "            reproduce!(agent, model)\n",
    "        end\n",
    "        change_pos!(agent)\n",
    "    elseif energy > 0 \n",
    "        patch = get_grid_loc(agent)\n",
    "        grass = model.patches[patch...].grass\n",
    "        if grass>0\n",
    "            model.patches[patch...].grass-=1\n",
    "            agent.energy +=1\n",
    "        end\n",
    "        change_pos!(agent)\n",
    "    else\n",
    "        kill_agent!(agent, model)\n",
    "    end\n",
    "end\n",
    "\n",
    "\n",
    "\n",
    "function step_rule!(model)\n",
    "    if model.max_id>800 # use some upper bound on max agents to avoid system hang\n",
    "        return\n",
    "    end\n",
    "    for agent in model.agents\n",
    "        if agent.atype == wolf\n",
    "            act_asa_wolf!(agent,model)\n",
    "        end\n",
    "        if agent.atype == sheep\n",
    "            act_asa_sheep!(agent, model)\n",
    "        end\n",
    "    end\n",
    "    for j in 1:model.size[2]\n",
    "        for i in 1:model.size[1]\n",
    "            patch = model.patches[i,j]\n",
    "            grass = patch.grass\n",
    "            max_grass = model.parameters.max_grass \n",
    "            if grass < max_grass\n",
    "                if rand()<model.parameters.grass_grow_prob\n",
    "                    patch.grass+=1\n",
    "                    hf = Int(ceil(max_grass/2))\n",
    "                    patch.color = grass > hf ? cl\"green\" : (grass > 0 ? cl\"yellow\" : cl\"grey\")\n",
    "                end\n",
    "            end\n",
    "        end\n",
    "    end\n",
    "end\n",
    "\n",
    "run_model!(model, steps=100, step_rule = step_rule! )"
   ]
  },
  {
   "cell_type": "markdown",
   "metadata": {},
   "source": [
    "## Step 4: Visualisation"
   ]
  },
  {
   "cell_type": "markdown",
   "metadata": {},
   "source": [
    "In order to draw the model at a specific frame, say 4th, one can use"
   ]
  },
  {
   "cell_type": "code",
   "execution_count": 5,
   "metadata": {},
   "outputs": [
    {
     "data": {
      "image/png": "[encoded data removed]",
      "text/plain": []
     },
     "execution_count": 5,
     "metadata": {},
     "output_type": "execute_result"
    }
   ],
   "source": [
    "draw_frame(model, frame = 4, show_grid=true)"
   ]
  },
  {
   "cell_type": "markdown",
   "metadata": {},
   "source": [
    " If one wants to see the animation of the model run, it can be done as "
   ]
  },
  {
   "cell_type": "code",
   "execution_count": 5,
   "metadata": {},
   "outputs": [
    {
     "data": {
      "application/vnd.webio.node+json": {
       "children": [
        {
         "children": [
          {
           "children": [
            {
             "children": [
              {
               "children": [
                {
                 "children": [
                  {
                   "children": [
                    {
                     "children": [
                      "time"
                     ],
                     "instanceArgs": {
                      "namespace": "html",
                      "tag": "label"
                     },
                     "nodeType": "DOM",
                     "props": {
                      "className": "interact ",
                      "style": {
                       "padding": "5px 10px 0px 10px"
                      }
                     },
                     "type": "node"
                    }
                   ],
                   "instanceArgs": {
                    "namespace": "html",
                    "tag": "div"
                   },
                   "nodeType": "DOM",
                   "props": {
                    "className": "interact-flex-row-left"
                   },
                   "type": "node"
                  },
                  {
                   "children": [
                    {
                     "children": [],
                     "instanceArgs": {
                      "namespace": "html",
                      "tag": "input"
                     },
                     "nodeType": "DOM",
                     "props": {
                      "attributes": {
                       "data-bind": "numericValue: index, valueUpdate: 'input', event: {change: function (){this.changes(this.changes()+1)}}",
                       "orient": "horizontal",
                       "type": "range"
                      },
                      "className": "slider slider is-fullwidth",
                      "max": 101,
                      "min": 1,
                      "step": 1,
                      "style": {}
                     },
                     "type": "node"
                    }
                   ],
                   "instanceArgs": {
                    "namespace": "html",
                    "tag": "div"
                   },
                   "nodeType": "DOM",
                   "props": {
                    "className": "interact-flex-row-center"
                   },
                   "type": "node"
                  },
                  {
                   "children": [
                    {
                     "children": [],
                     "instanceArgs": {
                      "namespace": "html",
                      "tag": "p"
                     },
                     "nodeType": "DOM",
                     "props": {
                      "attributes": {
                       "data-bind": "text: formatted_val"
                      }
                     },
                     "type": "node"
                    }
                   ],
                   "instanceArgs": {
                    "namespace": "html",
                    "tag": "div"
                   },
                   "nodeType": "DOM",
                   "props": {
                    "className": "interact-flex-row-right"
                   },
                   "type": "node"
                  }
                 ],
                 "instanceArgs": {
                  "namespace": "html",
                  "tag": "div"
                 },
                 "nodeType": "DOM",
                 "props": {
                  "className": "interact-flex-row interact-widget"
                 },
                 "type": "node"
                }
               ],
               "instanceArgs": {
                "handlers": {
                 "changes": [
                  "(function (val){return (val!=this.model[\"changes\"]()) ? (this.valueFromJulia[\"changes\"]=true, this.model[\"changes\"](val)) : undefined})"
                 ],
                 "index": [
                  "(function (val){return (val!=this.model[\"index\"]()) ? (this.valueFromJulia[\"index\"]=true, this.model[\"index\"](val)) : undefined})"
                 ]
                },
                "id": "15771009892842367284",
                "imports": {
                 "data": [
                  {
                   "name": "knockout",
                   "type": "js",
                   "url": "/assetserver/727383f2a47bd31570b7da84eee7b022dd6d7c78-knockout.js"
                  },
                  {
                   "name": "knockout_punches",
                   "type": "js",
                   "url": "/assetserver/382b41b3b1bd9f26f75861d360bad7f8beea211f-knockout_punches.js"
                  },
                  {
                   "name": null,
                   "type": "js",
                   "url": "/assetserver/5ab20f1060420992a9b82a65b735dee4d81ef413-all.js"
                  },
                  {
                   "name": null,
                   "type": "css",
                   "url": "/assetserver/1cc0ed62837210b80a182cc3676512f895dab686-style.css"
                  },
                  {
                   "name": null,
                   "type": "css",
                   "url": "/assetserver/2eee816f616df3549d7044d45e744fbf8d42bfa1-bulma_confined.min.css"
                  }
                 ],
                 "type": "async_block"
                },
                "mount_callbacks": [
                 "function () {\n    var handler = (function (ko, koPunches) {\n    ko.punches.enableAll();\n    ko.bindingHandlers.numericValue = {\n        init: function(element, valueAccessor, allBindings, data, context) {\n            var stringified = ko.observable(ko.unwrap(valueAccessor()));\n            stringified.subscribe(function(value) {\n                var val = parseFloat(value);\n                if (!isNaN(val)) {\n                    valueAccessor()(val);\n                }\n            });\n            valueAccessor().subscribe(function(value) {\n                var str = JSON.stringify(value);\n                if ((str == \"0\") && ([\"-0\", \"-0.\"].indexOf(stringified()) >= 0))\n                     return;\n                 if ([\"null\", \"\"].indexOf(str) >= 0)\n                     return;\n                stringified(str);\n            });\n            ko.applyBindingsToNode(\n                element,\n                {\n                    value: stringified,\n                    valueUpdate: allBindings.get('valueUpdate'),\n                },\n                context,\n            );\n        }\n    };\n    var json_data = {\"formatted_vals\":[\"1\",\"2\",\"3\",\"4\",\"5\",\"6\",\"7\",\"8\",\"9\",\"10\",\"11\",\"12\",\"13\",\"14\",\"15\",\"16\",\"17\",\"18\",\"19\",\"20\",\"21\",\"22\",\"23\",\"24\",\"25\",\"26\",\"27\",\"28\",\"29\",\"30\",\"31\",\"32\",\"33\",\"34\",\"35\",\"36\",\"37\",\"38\",\"39\",\"40\",\"41\",\"42\",\"43\",\"44\",\"45\",\"46\",\"47\",\"48\",\"49\",\"50\",\"51\",\"52\",\"53\",\"54\",\"55\",\"56\",\"57\",\"58\",\"59\",\"60\",\"61\",\"62\",\"63\",\"64\",\"65\",\"66\",\"67\",\"68\",\"69\",\"70\",\"71\",\"72\",\"73\",\"74\",\"75\",\"76\",\"77\",\"78\",\"79\",\"80\",\"81\",\"82\",\"83\",\"84\",\"85\",\"86\",\"87\",\"88\",\"89\",\"90\",\"91\",\"92\",\"93\",\"94\",\"95\",\"96\",\"97\",\"98\",\"99\",\"100\",\"101\"],\"changes\":WebIO.getval({\"name\":\"changes\",\"scope\":\"15771009892842367284\",\"id\":\"4312557751269886779\",\"type\":\"observable\"}),\"index\":WebIO.getval({\"name\":\"index\",\"scope\":\"15771009892842367284\",\"id\":\"12334155192482228452\",\"type\":\"observable\"})};\n    var self = this;\n    function AppViewModel() {\n        for (var key in json_data) {\n            var el = json_data[key];\n            this[key] = Array.isArray(el) ? ko.observableArray(el) : ko.observable(el);\n        }\n        \n        [this[\"formatted_val\"]=ko.computed(    function(){\n        return this.formatted_vals()[parseInt(this.index())-(1)];\n    }\n,this)]\n        [this[\"changes\"].subscribe((function (val){!(this.valueFromJulia[\"changes\"]) ? (WebIO.setval({\"name\":\"changes\",\"scope\":\"15771009892842367284\",\"id\":\"4312557751269886779\",\"type\":\"observable\"},val)) : undefined; return this.valueFromJulia[\"changes\"]=false}),self),this[\"index\"].subscribe((function (val){!(this.valueFromJulia[\"index\"]) ? (WebIO.setval({\"name\":\"index\",\"scope\":\"15771009892842367284\",\"id\":\"12334155192482228452\",\"type\":\"observable\"},val)) : undefined; return this.valueFromJulia[\"index\"]=false}),self)]\n        \n    }\n    self.model = new AppViewModel();\n    self.valueFromJulia = {};\n    for (var key in json_data) {\n        self.valueFromJulia[key] = false;\n    }\n    ko.applyBindings(self.model, self.dom);\n}\n);\n    (WebIO.importBlock({\"data\":[{\"name\":\"knockout\",\"type\":\"js\",\"url\":\"/assetserver/727383f2a47bd31570b7da84eee7b022dd6d7c78-knockout.js\"},{\"name\":\"knockout_punches\",\"type\":\"js\",\"url\":\"/assetserver/382b41b3b1bd9f26f75861d360bad7f8beea211f-knockout_punches.js\"}],\"type\":\"async_block\"})).then((imports) => handler.apply(this, imports));\n}\n"
                ],
                "observables": {
                 "changes": {
                  "id": "4312557751269886779",
                  "sync": false,
                  "value": 0
                 },
                 "index": {
                  "id": "12334155192482228452",
                  "sync": true,
                  "value": 51
                 }
                },
                "systemjs_options": null
               },
               "nodeType": "Scope",
               "props": {},
               "type": "node"
              }
             ],
             "instanceArgs": {
              "namespace": "html",
              "tag": "div"
             },
             "nodeType": "DOM",
             "props": {
              "className": "field interact-widget"
             },
             "type": "node"
            },
            {
             "children": [
              {
               "children": [
                {
                 "children": [
                  {
                   "children": [
                    {
                     "children": [
                      "scale"
                     ],
                     "instanceArgs": {
                      "namespace": "html",
                      "tag": "label"
                     },
                     "nodeType": "DOM",
                     "props": {
                      "className": "interact ",
                      "style": {
                       "padding": "5px 10px 0px 10px"
                      }
                     },
                     "type": "node"
                    }
                   ],
                   "instanceArgs": {
                    "namespace": "html",
                    "tag": "div"
                   },
                   "nodeType": "DOM",
                   "props": {
                    "className": "interact-flex-row-left"
                   },
                   "type": "node"
                  },
                  {
                   "children": [
                    {
                     "children": [],
                     "instanceArgs": {
                      "namespace": "html",
                      "tag": "input"
                     },
                     "nodeType": "DOM",
                     "props": {
                      "attributes": {
                       "data-bind": "numericValue: index, valueUpdate: 'input', event: {change: function (){this.changes(this.changes()+1)}}",
                       "orient": "horizontal",
                       "type": "range"
                      },
                      "className": "slider slider is-fullwidth",
                      "max": 20,
                      "min": 1,
                      "step": 1,
                      "style": {}
                     },
                     "type": "node"
                    }
                   ],
                   "instanceArgs": {
                    "namespace": "html",
                    "tag": "div"
                   },
                   "nodeType": "DOM",
                   "props": {
                    "className": "interact-flex-row-center"
                   },
                   "type": "node"
                  },
                  {
                   "children": [
                    {
                     "children": [],
                     "instanceArgs": {
                      "namespace": "html",
                      "tag": "p"
                     },
                     "nodeType": "DOM",
                     "props": {
                      "attributes": {
                       "data-bind": "text: formatted_val"
                      }
                     },
                     "type": "node"
                    }
                   ],
                   "instanceArgs": {
                    "namespace": "html",
                    "tag": "div"
                   },
                   "nodeType": "DOM",
                   "props": {
                    "className": "interact-flex-row-right"
                   },
                   "type": "node"
                  }
                 ],
                 "instanceArgs": {
                  "namespace": "html",
                  "tag": "div"
                 },
                 "nodeType": "DOM",
                 "props": {
                  "className": "interact-flex-row interact-widget"
                 },
                 "type": "node"
                }
               ],
               "instanceArgs": {
                "handlers": {
                 "changes": [
                  "(function (val){return (val!=this.model[\"changes\"]()) ? (this.valueFromJulia[\"changes\"]=true, this.model[\"changes\"](val)) : undefined})"
                 ],
                 "index": [
                  "(function (val){return (val!=this.model[\"index\"]()) ? (this.valueFromJulia[\"index\"]=true, this.model[\"index\"](val)) : undefined})"
                 ]
                },
                "id": "2658007861982573030",
                "imports": {
                 "data": [
                  {
                   "name": "knockout",
                   "type": "js",
                   "url": "/assetserver/727383f2a47bd31570b7da84eee7b022dd6d7c78-knockout.js"
                  },
                  {
                   "name": "knockout_punches",
                   "type": "js",
                   "url": "/assetserver/382b41b3b1bd9f26f75861d360bad7f8beea211f-knockout_punches.js"
                  },
                  {
                   "name": null,
                   "type": "js",
                   "url": "/assetserver/5ab20f1060420992a9b82a65b735dee4d81ef413-all.js"
                  },
                  {
                   "name": null,
                   "type": "css",
                   "url": "/assetserver/1cc0ed62837210b80a182cc3676512f895dab686-style.css"
                  },
                  {
                   "name": null,
                   "type": "css",
                   "url": "/assetserver/2eee816f616df3549d7044d45e744fbf8d42bfa1-bulma_confined.min.css"
                  }
                 ],
                 "type": "async_block"
                },
                "mount_callbacks": [
                 "function () {\n    var handler = (function (ko, koPunches) {\n    ko.punches.enableAll();\n    ko.bindingHandlers.numericValue = {\n        init: function(element, valueAccessor, allBindings, data, context) {\n            var stringified = ko.observable(ko.unwrap(valueAccessor()));\n            stringified.subscribe(function(value) {\n                var val = parseFloat(value);\n                if (!isNaN(val)) {\n                    valueAccessor()(val);\n                }\n            });\n            valueAccessor().subscribe(function(value) {\n                var str = JSON.stringify(value);\n                if ((str == \"0\") && ([\"-0\", \"-0.\"].indexOf(stringified()) >= 0))\n                     return;\n                 if ([\"null\", \"\"].indexOf(str) >= 0)\n                     return;\n                stringified(str);\n            });\n            ko.applyBindingsToNode(\n                element,\n                {\n                    value: stringified,\n                    valueUpdate: allBindings.get('valueUpdate'),\n                },\n                context,\n            );\n        }\n    };\n    var json_data = {\"formatted_vals\":[\"0.1\",\"0.2\",\"0.3\",\"0.4\",\"0.5\",\"0.6\",\"0.7\",\"0.8\",\"0.9\",\"1.0\",\"1.1\",\"1.2\",\"1.3\",\"1.4\",\"1.5\",\"1.6\",\"1.7\",\"1.8\",\"1.9\",\"2.0\"],\"changes\":WebIO.getval({\"name\":\"changes\",\"scope\":\"2658007861982573030\",\"id\":\"13897628021511617152\",\"type\":\"observable\"}),\"index\":WebIO.getval({\"name\":\"index\",\"scope\":\"2658007861982573030\",\"id\":\"6513116877381977562\",\"type\":\"observable\"})};\n    var self = this;\n    function AppViewModel() {\n        for (var key in json_data) {\n            var el = json_data[key];\n            this[key] = Array.isArray(el) ? ko.observableArray(el) : ko.observable(el);\n        }\n        \n        [this[\"formatted_val\"]=ko.computed(    function(){\n        return this.formatted_vals()[parseInt(this.index())-(1)];\n    }\n,this)]\n        [this[\"changes\"].subscribe((function (val){!(this.valueFromJulia[\"changes\"]) ? (WebIO.setval({\"name\":\"changes\",\"scope\":\"2658007861982573030\",\"id\":\"13897628021511617152\",\"type\":\"observable\"},val)) : undefined; return this.valueFromJulia[\"changes\"]=false}),self),this[\"index\"].subscribe((function (val){!(this.valueFromJulia[\"index\"]) ? (WebIO.setval({\"name\":\"index\",\"scope\":\"2658007861982573030\",\"id\":\"6513116877381977562\",\"type\":\"observable\"},val)) : undefined; return this.valueFromJulia[\"index\"]=false}),self)]\n        \n    }\n    self.model = new AppViewModel();\n    self.valueFromJulia = {};\n    for (var key in json_data) {\n        self.valueFromJulia[key] = false;\n    }\n    ko.applyBindings(self.model, self.dom);\n}\n);\n    (WebIO.importBlock({\"data\":[{\"name\":\"knockout\",\"type\":\"js\",\"url\":\"/assetserver/727383f2a47bd31570b7da84eee7b022dd6d7c78-knockout.js\"},{\"name\":\"knockout_punches\",\"type\":\"js\",\"url\":\"/assetserver/382b41b3b1bd9f26f75861d360bad7f8beea211f-knockout_punches.js\"}],\"type\":\"async_block\"})).then((imports) => handler.apply(this, imports));\n}\n"
                ],
                "observables": {
                 "changes": {
                  "id": "13897628021511617152",
                  "sync": false,
                  "value": 0
                 },
                 "index": {
                  "id": "6513116877381977562",
                  "sync": true,
                  "value": 10
                 }
                },
                "systemjs_options": null
               },
               "nodeType": "Scope",
               "props": {},
               "type": "node"
              }
             ],
             "instanceArgs": {
              "namespace": "html",
              "tag": "div"
             },
             "nodeType": "DOM",
             "props": {
              "className": "field interact-widget"
             },
             "type": "node"
            },
            {
             "children": [
              {
               "children": [
                {
                 "children": [
                  {
                   "children": [],
                   "instanceArgs": {
                    "namespace": "html",
                    "tag": "div"
                   },
                   "nodeType": "DOM",
                   "props": {
                    "id": "container"
                   },
                   "type": "node"
                  }
                 ],
                 "instanceArgs": {
                  "handlers": {
                   "value": [
                    "(function (txt){return this.k.render(txt,this.container)})"
                   ]
                  },
                  "id": "17103301700664655338",
                  "imports": {
                   "data": [
                    {
                     "name": null,
                     "type": "js",
                     "url": "/assetserver/dd22ed1bf1896c2748f3fe616ce0b838adc895c1-katex.min.js"
                    },
                    {
                     "name": null,
                     "type": "css",
                     "url": "/assetserver/46517a424aa5e6cffc1360d7e0848b601c584ee3-katex.min.css"
                    }
                   ],
                   "type": "async_block"
                  },
                  "mount_callbacks": [
                   "function () {\n    var handler = ((function (k){this.k=k; this.container=this.dom.querySelector(\"#container\"); return k.render(\"\\\\;\\\\;\",this.container)}));\n    (WebIO.importBlock({\"data\":[{\"name\":null,\"type\":\"js\",\"url\":\"/assetserver/dd22ed1bf1896c2748f3fe616ce0b838adc895c1-katex.min.js\"},{\"name\":null,\"type\":\"css\",\"url\":\"/assetserver/46517a424aa5e6cffc1360d7e0848b601c584ee3-katex.min.css\"}],\"type\":\"async_block\"})).then((imports) => handler.apply(this, imports));\n}\n"
                  ],
                  "observables": {
                   "value": {
                    "id": "18010501548073694544",
                    "sync": false,
                    "value": "\\;\\;"
                   }
                  },
                  "systemjs_options": null
                 },
                 "nodeType": "Scope",
                 "props": {},
                 "type": "node"
                }
               ],
               "instanceArgs": {
                "namespace": "html",
                "tag": "div"
               },
               "nodeType": "DOM",
               "props": {
                "className": "interact-widget"
               },
               "type": "node"
              },
              {
               "children": [
                {
                 "children": [
                  {
                   "children": [
                    "run"
                   ],
                   "instanceArgs": {
                    "namespace": "html",
                    "tag": "button"
                   },
                   "nodeType": "DOM",
                   "props": {
                    "attributes": {
                     "data-bind": "click: function (){this.clicks(this.clicks()+1)}, css: {'is-loading' : loading}"
                    },
                    "className": "is-medium button is-primary",
                    "style": {}
                   },
                   "type": "node"
                  }
                 ],
                 "instanceArgs": {
                  "handlers": {
                   "clicks": [
                    "(function (val){return (val!=this.model[\"clicks\"]()) ? (this.valueFromJulia[\"clicks\"]=true, this.model[\"clicks\"](val)) : undefined})"
                   ],
                   "loading": [
                    "(function (val){return (val!=this.model[\"loading\"]()) ? (this.valueFromJulia[\"loading\"]=true, this.model[\"loading\"](val)) : undefined})"
                   ]
                  },
                  "id": "17227485491019022415",
                  "imports": {
                   "data": [
                    {
                     "name": "knockout",
                     "type": "js",
                     "url": "/assetserver/727383f2a47bd31570b7da84eee7b022dd6d7c78-knockout.js"
                    },
                    {
                     "name": "knockout_punches",
                     "type": "js",
                     "url": "/assetserver/382b41b3b1bd9f26f75861d360bad7f8beea211f-knockout_punches.js"
                    },
                    {
                     "name": null,
                     "type": "js",
                     "url": "/assetserver/5ab20f1060420992a9b82a65b735dee4d81ef413-all.js"
                    },
                    {
                     "name": null,
                     "type": "css",
                     "url": "/assetserver/1cc0ed62837210b80a182cc3676512f895dab686-style.css"
                    },
                    {
                     "name": null,
                     "type": "css",
                     "url": "/assetserver/2eee816f616df3549d7044d45e744fbf8d42bfa1-bulma_confined.min.css"
                    }
                   ],
                   "type": "async_block"
                  },
                  "mount_callbacks": [
                   "function () {\n    var handler = (function (ko, koPunches) {\n    ko.punches.enableAll();\n    ko.bindingHandlers.numericValue = {\n        init: function(element, valueAccessor, allBindings, data, context) {\n            var stringified = ko.observable(ko.unwrap(valueAccessor()));\n            stringified.subscribe(function(value) {\n                var val = parseFloat(value);\n                if (!isNaN(val)) {\n                    valueAccessor()(val);\n                }\n            });\n            valueAccessor().subscribe(function(value) {\n                var str = JSON.stringify(value);\n                if ((str == \"0\") && ([\"-0\", \"-0.\"].indexOf(stringified()) >= 0))\n                     return;\n                 if ([\"null\", \"\"].indexOf(str) >= 0)\n                     return;\n                stringified(str);\n            });\n            ko.applyBindingsToNode(\n                element,\n                {\n                    value: stringified,\n                    valueUpdate: allBindings.get('valueUpdate'),\n                },\n                context,\n            );\n        }\n    };\n    var json_data = {\"loading\":WebIO.getval({\"name\":\"loading\",\"scope\":\"17227485491019022415\",\"id\":\"1131414044201588168\",\"type\":\"observable\"}),\"clicks\":WebIO.getval({\"name\":\"clicks\",\"scope\":\"17227485491019022415\",\"id\":\"6367120021145492802\",\"type\":\"observable\"})};\n    var self = this;\n    function AppViewModel() {\n        for (var key in json_data) {\n            var el = json_data[key];\n            this[key] = Array.isArray(el) ? ko.observableArray(el) : ko.observable(el);\n        }\n        \n        \n        [this[\"loading\"].subscribe((function (val){!(this.valueFromJulia[\"loading\"]) ? (WebIO.setval({\"name\":\"loading\",\"scope\":\"17227485491019022415\",\"id\":\"1131414044201588168\",\"type\":\"observable\"},val)) : undefined; return this.valueFromJulia[\"loading\"]=false}),self),this[\"clicks\"].subscribe((function (val){!(this.valueFromJulia[\"clicks\"]) ? (WebIO.setval({\"name\":\"clicks\",\"scope\":\"17227485491019022415\",\"id\":\"6367120021145492802\",\"type\":\"observable\"},val)) : undefined; return this.valueFromJulia[\"clicks\"]=false}),self)]\n        \n    }\n    self.model = new AppViewModel();\n    self.valueFromJulia = {};\n    for (var key in json_data) {\n        self.valueFromJulia[key] = false;\n    }\n    ko.applyBindings(self.model, self.dom);\n}\n);\n    (WebIO.importBlock({\"data\":[{\"name\":\"knockout\",\"type\":\"js\",\"url\":\"/assetserver/727383f2a47bd31570b7da84eee7b022dd6d7c78-knockout.js\"},{\"name\":\"knockout_punches\",\"type\":\"js\",\"url\":\"/assetserver/382b41b3b1bd9f26f75861d360bad7f8beea211f-knockout_punches.js\"}],\"type\":\"async_block\"})).then((imports) => handler.apply(this, imports));\n}\n"
                  ],
                  "observables": {
                   "clicks": {
                    "id": "6367120021145492802",
                    "sync": true,
                    "value": 0
                   },
                   "loading": {
                    "id": "1131414044201588168",
                    "sync": false,
                    "value": false
                   }
                  },
                  "systemjs_options": null
                 },
                 "nodeType": "Scope",
                 "props": {},
                 "type": "node"
                }
               ],
               "instanceArgs": {
                "namespace": "html",
                "tag": "div"
               },
               "nodeType": "DOM",
               "props": {
                "className": "field interact-widget"
               },
               "type": "node"
              },
              {
               "children": [
                {
                 "children": [
                  {
                   "children": [],
                   "instanceArgs": {
                    "namespace": "html",
                    "tag": "div"
                   },
                   "nodeType": "DOM",
                   "props": {
                    "id": "container"
                   },
                   "type": "node"
                  }
                 ],
                 "instanceArgs": {
                  "handlers": {
                   "value": [
                    "(function (txt){return this.k.render(txt,this.container)})"
                   ]
                  },
                  "id": "17103301700664655338",
                  "imports": {
                   "data": [
                    {
                     "name": null,
                     "type": "js",
                     "url": "/assetserver/dd22ed1bf1896c2748f3fe616ce0b838adc895c1-katex.min.js"
                    },
                    {
                     "name": null,
                     "type": "css",
                     "url": "/assetserver/46517a424aa5e6cffc1360d7e0848b601c584ee3-katex.min.css"
                    }
                   ],
                   "type": "async_block"
                  },
                  "mount_callbacks": [
                   "function () {\n    var handler = ((function (k){this.k=k; this.container=this.dom.querySelector(\"#container\"); return k.render(\"\\\\;\\\\;\",this.container)}));\n    (WebIO.importBlock({\"data\":[{\"name\":null,\"type\":\"js\",\"url\":\"/assetserver/dd22ed1bf1896c2748f3fe616ce0b838adc895c1-katex.min.js\"},{\"name\":null,\"type\":\"css\",\"url\":\"/assetserver/46517a424aa5e6cffc1360d7e0848b601c584ee3-katex.min.css\"}],\"type\":\"async_block\"})).then((imports) => handler.apply(this, imports));\n}\n"
                  ],
                  "observables": {
                   "value": {
                    "id": "18010501548073694544",
                    "sync": false,
                    "value": "\\;\\;"
                   }
                  },
                  "systemjs_options": null
                 },
                 "nodeType": "Scope",
                 "props": {},
                 "type": "node"
                }
               ],
               "instanceArgs": {
                "namespace": "html",
                "tag": "div"
               },
               "nodeType": "DOM",
               "props": {
                "className": "interact-widget"
               },
               "type": "node"
              },
              {
               "children": [
                {
                 "children": [
                  {
                   "children": [
                    "stop"
                   ],
                   "instanceArgs": {
                    "namespace": "html",
                    "tag": "button"
                   },
                   "nodeType": "DOM",
                   "props": {
                    "attributes": {
                     "data-bind": "click: function (){this.clicks(this.clicks()+1)}, css: {'is-loading' : loading}"
                    },
                    "className": "is-medium button is-primary",
                    "style": {}
                   },
                   "type": "node"
                  }
                 ],
                 "instanceArgs": {
                  "handlers": {
                   "clicks": [
                    "(function (val){return (val!=this.model[\"clicks\"]()) ? (this.valueFromJulia[\"clicks\"]=true, this.model[\"clicks\"](val)) : undefined})"
                   ],
                   "loading": [
                    "(function (val){return (val!=this.model[\"loading\"]()) ? (this.valueFromJulia[\"loading\"]=true, this.model[\"loading\"](val)) : undefined})"
                   ]
                  },
                  "id": "2450587679640953909",
                  "imports": {
                   "data": [
                    {
                     "name": "knockout",
                     "type": "js",
                     "url": "/assetserver/727383f2a47bd31570b7da84eee7b022dd6d7c78-knockout.js"
                    },
                    {
                     "name": "knockout_punches",
                     "type": "js",
                     "url": "/assetserver/382b41b3b1bd9f26f75861d360bad7f8beea211f-knockout_punches.js"
                    },
                    {
                     "name": null,
                     "type": "js",
                     "url": "/assetserver/5ab20f1060420992a9b82a65b735dee4d81ef413-all.js"
                    },
                    {
                     "name": null,
                     "type": "css",
                     "url": "/assetserver/1cc0ed62837210b80a182cc3676512f895dab686-style.css"
                    },
                    {
                     "name": null,
                     "type": "css",
                     "url": "/assetserver/2eee816f616df3549d7044d45e744fbf8d42bfa1-bulma_confined.min.css"
                    }
                   ],
                   "type": "async_block"
                  },
                  "mount_callbacks": [
                   "function () {\n    var handler = (function (ko, koPunches) {\n    ko.punches.enableAll();\n    ko.bindingHandlers.numericValue = {\n        init: function(element, valueAccessor, allBindings, data, context) {\n            var stringified = ko.observable(ko.unwrap(valueAccessor()));\n            stringified.subscribe(function(value) {\n                var val = parseFloat(value);\n                if (!isNaN(val)) {\n                    valueAccessor()(val);\n                }\n            });\n            valueAccessor().subscribe(function(value) {\n                var str = JSON.stringify(value);\n                if ((str == \"0\") && ([\"-0\", \"-0.\"].indexOf(stringified()) >= 0))\n                     return;\n                 if ([\"null\", \"\"].indexOf(str) >= 0)\n                     return;\n                stringified(str);\n            });\n            ko.applyBindingsToNode(\n                element,\n                {\n                    value: stringified,\n                    valueUpdate: allBindings.get('valueUpdate'),\n                },\n                context,\n            );\n        }\n    };\n    var json_data = {\"loading\":WebIO.getval({\"name\":\"loading\",\"scope\":\"2450587679640953909\",\"id\":\"7733312188230401787\",\"type\":\"observable\"}),\"clicks\":WebIO.getval({\"name\":\"clicks\",\"scope\":\"2450587679640953909\",\"id\":\"13569054165056762889\",\"type\":\"observable\"})};\n    var self = this;\n    function AppViewModel() {\n        for (var key in json_data) {\n            var el = json_data[key];\n            this[key] = Array.isArray(el) ? ko.observableArray(el) : ko.observable(el);\n        }\n        \n        \n        [this[\"loading\"].subscribe((function (val){!(this.valueFromJulia[\"loading\"]) ? (WebIO.setval({\"name\":\"loading\",\"scope\":\"2450587679640953909\",\"id\":\"7733312188230401787\",\"type\":\"observable\"},val)) : undefined; return this.valueFromJulia[\"loading\"]=false}),self),this[\"clicks\"].subscribe((function (val){!(this.valueFromJulia[\"clicks\"]) ? (WebIO.setval({\"name\":\"clicks\",\"scope\":\"2450587679640953909\",\"id\":\"13569054165056762889\",\"type\":\"observable\"},val)) : undefined; return this.valueFromJulia[\"clicks\"]=false}),self)]\n        \n    }\n    self.model = new AppViewModel();\n    self.valueFromJulia = {};\n    for (var key in json_data) {\n        self.valueFromJulia[key] = false;\n    }\n    ko.applyBindings(self.model, self.dom);\n}\n);\n    (WebIO.importBlock({\"data\":[{\"name\":\"knockout\",\"type\":\"js\",\"url\":\"/assetserver/727383f2a47bd31570b7da84eee7b022dd6d7c78-knockout.js\"},{\"name\":\"knockout_punches\",\"type\":\"js\",\"url\":\"/assetserver/382b41b3b1bd9f26f75861d360bad7f8beea211f-knockout_punches.js\"}],\"type\":\"async_block\"})).then((imports) => handler.apply(this, imports));\n}\n"
                  ],
                  "observables": {
                   "clicks": {
                    "id": "13569054165056762889",
                    "sync": true,
                    "value": 0
                   },
                   "loading": {
                    "id": "7733312188230401787",
                    "sync": false,
                    "value": false
                   }
                  },
                  "systemjs_options": null
                 },
                 "nodeType": "Scope",
                 "props": {},
                 "type": "node"
                }
               ],
               "instanceArgs": {
                "namespace": "html",
                "tag": "div"
               },
               "nodeType": "DOM",
               "props": {
                "className": "field interact-widget"
               },
               "type": "node"
              },
              {
               "children": [
                {
                 "children": [
                  {
                   "children": [],
                   "instanceArgs": {
                    "namespace": "html",
                    "tag": "div"
                   },
                   "nodeType": "DOM",
                   "props": {
                    "id": "container"
                   },
                   "type": "node"
                  }
                 ],
                 "instanceArgs": {
                  "handlers": {
                   "value": [
                    "(function (txt){return this.k.render(txt,this.container)})"
                   ]
                  },
                  "id": "17103301700664655338",
                  "imports": {
                   "data": [
                    {
                     "name": null,
                     "type": "js",
                     "url": "/assetserver/dd22ed1bf1896c2748f3fe616ce0b838adc895c1-katex.min.js"
                    },
                    {
                     "name": null,
                     "type": "css",
                     "url": "/assetserver/46517a424aa5e6cffc1360d7e0848b601c584ee3-katex.min.css"
                    }
                   ],
                   "type": "async_block"
                  },
                  "mount_callbacks": [
                   "function () {\n    var handler = ((function (k){this.k=k; this.container=this.dom.querySelector(\"#container\"); return k.render(\"\\\\;\\\\;\",this.container)}));\n    (WebIO.importBlock({\"data\":[{\"name\":null,\"type\":\"js\",\"url\":\"/assetserver/dd22ed1bf1896c2748f3fe616ce0b838adc895c1-katex.min.js\"},{\"name\":null,\"type\":\"css\",\"url\":\"/assetserver/46517a424aa5e6cffc1360d7e0848b601c584ee3-katex.min.css\"}],\"type\":\"async_block\"})).then((imports) => handler.apply(this, imports));\n}\n"
                  ],
                  "observables": {
                   "value": {
                    "id": "18010501548073694544",
                    "sync": false,
                    "value": "\\;\\;"
                   }
                  },
                  "systemjs_options": null
                 },
                 "nodeType": "Scope",
                 "props": {},
                 "type": "node"
                }
               ],
               "instanceArgs": {
                "namespace": "html",
                "tag": "div"
               },
               "nodeType": "DOM",
               "props": {
                "className": "interact-widget"
               },
               "type": "node"
              },
              {
               "children": [
                {
                 "children": [
                  {
                   "children": [
                    "save"
                   ],
                   "instanceArgs": {
                    "namespace": "html",
                    "tag": "button"
                   },
                   "nodeType": "DOM",
                   "props": {
                    "attributes": {
                     "data-bind": "click: function (){this.clicks(this.clicks()+1)}, css: {'is-loading' : loading}"
                    },
                    "className": "is-medium button is-primary",
                    "style": {}
                   },
                   "type": "node"
                  }
                 ],
                 "instanceArgs": {
                  "handlers": {
                   "clicks": [
                    "(function (val){return (val!=this.model[\"clicks\"]()) ? (this.valueFromJulia[\"clicks\"]=true, this.model[\"clicks\"](val)) : undefined})"
                   ],
                   "loading": [
                    "(function (val){return (val!=this.model[\"loading\"]()) ? (this.valueFromJulia[\"loading\"]=true, this.model[\"loading\"](val)) : undefined})"
                   ]
                  },
                  "id": "5711947260302873897",
                  "imports": {
                   "data": [
                    {
                     "name": "knockout",
                     "type": "js",
                     "url": "/assetserver/727383f2a47bd31570b7da84eee7b022dd6d7c78-knockout.js"
                    },
                    {
                     "name": "knockout_punches",
                     "type": "js",
                     "url": "/assetserver/382b41b3b1bd9f26f75861d360bad7f8beea211f-knockout_punches.js"
                    },
                    {
                     "name": null,
                     "type": "js",
                     "url": "/assetserver/5ab20f1060420992a9b82a65b735dee4d81ef413-all.js"
                    },
                    {
                     "name": null,
                     "type": "css",
                     "url": "/assetserver/1cc0ed62837210b80a182cc3676512f895dab686-style.css"
                    },
                    {
                     "name": null,
                     "type": "css",
                     "url": "/assetserver/2eee816f616df3549d7044d45e744fbf8d42bfa1-bulma_confined.min.css"
                    }
                   ],
                   "type": "async_block"
                  },
                  "mount_callbacks": [
                   "function () {\n    var handler = (function (ko, koPunches) {\n    ko.punches.enableAll();\n    ko.bindingHandlers.numericValue = {\n        init: function(element, valueAccessor, allBindings, data, context) {\n            var stringified = ko.observable(ko.unwrap(valueAccessor()));\n            stringified.subscribe(function(value) {\n                var val = parseFloat(value);\n                if (!isNaN(val)) {\n                    valueAccessor()(val);\n                }\n            });\n            valueAccessor().subscribe(function(value) {\n                var str = JSON.stringify(value);\n                if ((str == \"0\") && ([\"-0\", \"-0.\"].indexOf(stringified()) >= 0))\n                     return;\n                 if ([\"null\", \"\"].indexOf(str) >= 0)\n                     return;\n                stringified(str);\n            });\n            ko.applyBindingsToNode(\n                element,\n                {\n                    value: stringified,\n                    valueUpdate: allBindings.get('valueUpdate'),\n                },\n                context,\n            );\n        }\n    };\n    var json_data = {\"loading\":WebIO.getval({\"name\":\"loading\",\"scope\":\"5711947260302873897\",\"id\":\"1761520194584578445\",\"type\":\"observable\"}),\"clicks\":WebIO.getval({\"name\":\"clicks\",\"scope\":\"5711947260302873897\",\"id\":\"7599468008633827936\",\"type\":\"observable\"})};\n    var self = this;\n    function AppViewModel() {\n        for (var key in json_data) {\n            var el = json_data[key];\n            this[key] = Array.isArray(el) ? ko.observableArray(el) : ko.observable(el);\n        }\n        \n        \n        [this[\"loading\"].subscribe((function (val){!(this.valueFromJulia[\"loading\"]) ? (WebIO.setval({\"name\":\"loading\",\"scope\":\"5711947260302873897\",\"id\":\"1761520194584578445\",\"type\":\"observable\"},val)) : undefined; return this.valueFromJulia[\"loading\"]=false}),self),this[\"clicks\"].subscribe((function (val){!(this.valueFromJulia[\"clicks\"]) ? (WebIO.setval({\"name\":\"clicks\",\"scope\":\"5711947260302873897\",\"id\":\"7599468008633827936\",\"type\":\"observable\"},val)) : undefined; return this.valueFromJulia[\"clicks\"]=false}),self)]\n        \n    }\n    self.model = new AppViewModel();\n    self.valueFromJulia = {};\n    for (var key in json_data) {\n        self.valueFromJulia[key] = false;\n    }\n    ko.applyBindings(self.model, self.dom);\n}\n);\n    (WebIO.importBlock({\"data\":[{\"name\":\"knockout\",\"type\":\"js\",\"url\":\"/assetserver/727383f2a47bd31570b7da84eee7b022dd6d7c78-knockout.js\"},{\"name\":\"knockout_punches\",\"type\":\"js\",\"url\":\"/assetserver/382b41b3b1bd9f26f75861d360bad7f8beea211f-knockout_punches.js\"}],\"type\":\"async_block\"})).then((imports) => handler.apply(this, imports));\n}\n"
                  ],
                  "observables": {
                   "clicks": {
                    "id": "7599468008633827936",
                    "sync": true,
                    "value": 0
                   },
                   "loading": {
                    "id": "1761520194584578445",
                    "sync": false,
                    "value": false
                   }
                  },
                  "systemjs_options": null
                 },
                 "nodeType": "Scope",
                 "props": {},
                 "type": "node"
                }
               ],
               "instanceArgs": {
                "namespace": "html",
                "tag": "div"
               },
               "nodeType": "DOM",
               "props": {
                "className": "field interact-widget"
               },
               "type": "node"
              }
             ],
             "instanceArgs": {
              "namespace": "html",
              "tag": "div"
             },
             "nodeType": "DOM",
             "props": {
              "style": {
               "display": "flex",
               "flex-direction": "row"
              }
             },
             "type": "node"
            }
           ],
           "instanceArgs": {
            "namespace": "html",
            "tag": "div"
           },
           "nodeType": "DOM",
           "props": {
            "style": {
             "display": "flex",
             "flex-direction": "column"
            }
           },
           "type": "node"
          },
          {
           "children": [
            {
             "children": [
              {
               "children": [],
               "instanceArgs": {
                "namespace": "html",
                "tag": "div"
               },
               "nodeType": "DOM",
               "props": {
                "id": "container"
               },
               "type": "node"
              }
             ],
             "instanceArgs": {
              "handlers": {
               "value": [
                "(function (txt){return this.k.render(txt,this.container)})"
               ]
              },
              "id": "17103301700664655338",
              "imports": {
               "data": [
                {
                 "name": null,
                 "type": "js",
                 "url": "/assetserver/dd22ed1bf1896c2748f3fe616ce0b838adc895c1-katex.min.js"
                },
                {
                 "name": null,
                 "type": "css",
                 "url": "/assetserver/46517a424aa5e6cffc1360d7e0848b601c584ee3-katex.min.css"
                }
               ],
               "type": "async_block"
              },
              "mount_callbacks": [
               "function () {\n    var handler = ((function (k){this.k=k; this.container=this.dom.querySelector(\"#container\"); return k.render(\"\\\\;\\\\;\",this.container)}));\n    (WebIO.importBlock({\"data\":[{\"name\":null,\"type\":\"js\",\"url\":\"/assetserver/dd22ed1bf1896c2748f3fe616ce0b838adc895c1-katex.min.js\"},{\"name\":null,\"type\":\"css\",\"url\":\"/assetserver/46517a424aa5e6cffc1360d7e0848b601c584ee3-katex.min.css\"}],\"type\":\"async_block\"})).then((imports) => handler.apply(this, imports));\n}\n"
              ],
              "observables": {
               "value": {
                "id": "18010501548073694544",
                "sync": false,
                "value": "\\;\\;"
               }
              },
              "systemjs_options": null
             },
             "nodeType": "Scope",
             "props": {},
             "type": "node"
            }
           ],
           "instanceArgs": {
            "namespace": "html",
            "tag": "div"
           },
           "nodeType": "DOM",
           "props": {
            "className": "interact-widget"
           },
           "type": "node"
          },
          {
           "children": [
            {
             "children": [],
             "instanceArgs": {
              "namespace": "html",
              "tag": "div"
             },
             "nodeType": "DOM",
             "props": {
              "className": "webio-observable",
              "setInnerHtml": "<img src='data:image/png;base64,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'></img>"
             },
             "type": "node"
            }
           ],
           "instanceArgs": {
            "handlers": {
             "obs-output": [
              "function (value, scope) {\n    scope.setInnerHTML(value);\n}\n"
             ]
            },
            "id": "8404608374333052637",
            "imports": {
             "data": [],
             "type": "async_block"
            },
            "mount_callbacks": [],
            "observables": {
             "obs-output": {
              "id": "1976260244559180015",
              "sync": false,
              "value": "<img src='data:image/png;base64,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'></img>"
             }
            },
            "systemjs_options": null
           },
           "nodeType": "Scope",
           "props": {},
           "type": "node"
          },
          {
           "children": [
            {
             "children": [
              {
               "children": [],
               "instanceArgs": {
                "namespace": "html",
                "tag": "div"
               },
               "nodeType": "DOM",
               "props": {
                "id": "container"
               },
               "type": "node"
              }
             ],
             "instanceArgs": {
              "handlers": {
               "value": [
                "(function (txt){return this.k.render(txt,this.container)})"
               ]
              },
              "id": "17103301700664655338",
              "imports": {
               "data": [
                {
                 "name": null,
                 "type": "js",
                 "url": "/assetserver/dd22ed1bf1896c2748f3fe616ce0b838adc895c1-katex.min.js"
                },
                {
                 "name": null,
                 "type": "css",
                 "url": "/assetserver/46517a424aa5e6cffc1360d7e0848b601c584ee3-katex.min.css"
                }
               ],
               "type": "async_block"
              },
              "mount_callbacks": [
               "function () {\n    var handler = ((function (k){this.k=k; this.container=this.dom.querySelector(\"#container\"); return k.render(\"\\\\;\\\\;\",this.container)}));\n    (WebIO.importBlock({\"data\":[{\"name\":null,\"type\":\"js\",\"url\":\"/assetserver/dd22ed1bf1896c2748f3fe616ce0b838adc895c1-katex.min.js\"},{\"name\":null,\"type\":\"css\",\"url\":\"/assetserver/46517a424aa5e6cffc1360d7e0848b601c584ee3-katex.min.css\"}],\"type\":\"async_block\"})).then((imports) => handler.apply(this, imports));\n}\n"
              ],
              "observables": {
               "value": {
                "id": "18010501548073694544",
                "sync": false,
                "value": "\\;\\;"
               }
              },
              "systemjs_options": null
             },
             "nodeType": "Scope",
             "props": {},
             "type": "node"
            }
           ],
           "instanceArgs": {
            "namespace": "html",
            "tag": "div"
           },
           "nodeType": "DOM",
           "props": {
            "className": "interact-widget"
           },
           "type": "node"
          },
          {
           "children": [],
           "instanceArgs": {
            "namespace": "html",
            "tag": "div"
           },
           "nodeType": "DOM",
           "props": {
            "style": {
             "display": "flex",
             "flex-direction": "column"
            }
           },
           "type": "node"
          }
         ],
         "instanceArgs": {
          "namespace": "html",
          "tag": "div"
         },
         "nodeType": "DOM",
         "props": {
          "style": {
           "display": "flex",
           "flex-direction": "row"
          }
         },
         "type": "node"
        }
       ],
       "instanceArgs": {
        "namespace": "html",
        "tag": "div"
       },
       "nodeType": "DOM",
       "props": {
        "style": {
         "display": "flex",
         "flex-direction": "column"
        }
       },
       "type": "node"
      },
      "text/html": [
       "<div\n",
       "    class=\"webio-mountpoint\"\n",
       "    data-webio-mountpoint=\"9896621920347230218\"\n",
       ">\n",
       "    <script>\n",
       "    (function(){\n",
       "    // Some integrations (namely, IJulia/Jupyter) use an alternate render pathway than\n",
       "    // just putting the html on the page. If WebIO isn't defined, then it's pretty likely\n",
       "    // that we're in one of those situations and the integration just isn't installed\n",
       "    // correctly.\n",
       "    if (typeof window.WebIO === \"undefined\") {\n",
       "        document\n",
       "            .querySelector('[data-webio-mountpoint=\"9896621920347230218\"]')\n",
       "            .innerHTML = (\n",
       "                '<div style=\"padding: 1em; background-color: #f8d6da; border: 1px solid #f5c6cb; font-weight: bold;\">' +\n",
       "                '<p><strong>WebIO not detected.</strong></p>' +\n",
       "                '<p>Please read ' +\n",
       "                '<a href=\"https://juliagizmos.github.io/WebIO.jl/latest/troubleshooting/not-detected/\" target=\"_blank\">the troubleshooting guide</a> ' +\n",
       "                'for more information on how to resolve this issue.</p>' +\n",
       "                '<p><a href=\"https://juliagizmos.github.io/WebIO.jl/latest/troubleshooting/not-detected/\" target=\"_blank\">https://juliagizmos.github.io/WebIO.jl/latest/troubleshooting/not-detected/</a></p>' +\n",
       "                '</div>'\n",
       "            );\n",
       "        return;\n",
       "    }\n",
       "    WebIO.mount(\n",
       "        document.querySelector('[data-webio-mountpoint=\"9896621920347230218\"]'),\n",
       "        {\"props\":{\"style\":{\"display\":\"flex\",\"flex-direction\":\"column\"}},\"nodeType\":\"DOM\",\"type\":\"node\",\"instanceArgs\":{\"namespace\":\"html\",\"tag\":\"div\"},\"children\":[{\"props\":{\"style\":{\"display\":\"flex\",\"flex-direction\":\"row\"}},\"nodeType\":\"DOM\",\"type\":\"node\",\"instanceArgs\":{\"namespace\":\"html\",\"tag\":\"div\"},\"children\":[{\"props\":{\"style\":{\"display\":\"flex\",\"flex-direction\":\"column\"}},\"nodeType\":\"DOM\",\"type\":\"node\",\"instanceArgs\":{\"namespace\":\"html\",\"tag\":\"div\"},\"children\":[{\"props\":{\"className\":\"field interact-widget\"},\"nodeType\":\"DOM\",\"type\":\"node\",\"instanceArgs\":{\"namespace\":\"html\",\"tag\":\"div\"},\"children\":[{\"props\":{},\"nodeType\":\"Scope\",\"type\":\"node\",\"instanceArgs\":{\"imports\":{\"data\":[{\"name\":\"knockout\",\"type\":\"js\",\"url\":\"\\/assetserver\\/727383f2a47bd31570b7da84eee7b022dd6d7c78-knockout.js\"},{\"name\":\"knockout_punches\",\"type\":\"js\",\"url\":\"\\/assetserver\\/382b41b3b1bd9f26f75861d360bad7f8beea211f-knockout_punches.js\"},{\"name\":null,\"type\":\"js\",\"url\":\"\\/assetserver\\/5ab20f1060420992a9b82a65b735dee4d81ef413-all.js\"},{\"name\":null,\"type\":\"css\",\"url\":\"\\/assetserver\\/1cc0ed62837210b80a182cc3676512f895dab686-style.css\"},{\"name\":null,\"type\":\"css\",\"url\":\"\\/assetserver\\/2eee816f616df3549d7044d45e744fbf8d42bfa1-bulma_confined.min.css\"}],\"type\":\"async_block\"},\"id\":\"15771009892842367284\",\"handlers\":{\"changes\":[\"(function (val){return (val!=this.model[\\\"changes\\\"]()) ? (this.valueFromJulia[\\\"changes\\\"]=true, this.model[\\\"changes\\\"](val)) : undefined})\"],\"index\":[\"(function (val){return (val!=this.model[\\\"index\\\"]()) ? (this.valueFromJulia[\\\"index\\\"]=true, this.model[\\\"index\\\"](val)) : undefined})\"]},\"systemjs_options\":null,\"mount_callbacks\":[\"function () {\\n    var handler = (function (ko, koPunches) {\\n    ko.punches.enableAll();\\n    ko.bindingHandlers.numericValue = {\\n        init: function(element, valueAccessor, allBindings, data, context) {\\n            var stringified = ko.observable(ko.unwrap(valueAccessor()));\\n            stringified.subscribe(function(value) {\\n                var val = parseFloat(value);\\n                if (!isNaN(val)) {\\n                    valueAccessor()(val);\\n                }\\n            });\\n            valueAccessor().subscribe(function(value) {\\n                var str = JSON.stringify(value);\\n                if ((str == \\\"0\\\") && ([\\\"-0\\\", \\\"-0.\\\"].indexOf(stringified()) >= 0))\\n                     return;\\n                 if ([\\\"null\\\", \\\"\\\"].indexOf(str) >= 0)\\n                     return;\\n                stringified(str);\\n            });\\n            ko.applyBindingsToNode(\\n                element,\\n                {\\n                    value: stringified,\\n                    valueUpdate: allBindings.get('valueUpdate'),\\n                },\\n                context,\\n            );\\n        }\\n    };\\n    var json_data = {\\\"formatted_vals\\\":[\\\"1\\\",\\\"2\\\",\\\"3\\\",\\\"4\\\",\\\"5\\\",\\\"6\\\",\\\"7\\\",\\\"8\\\",\\\"9\\\",\\\"10\\\",\\\"11\\\",\\\"12\\\",\\\"13\\\",\\\"14\\\",\\\"15\\\",\\\"16\\\",\\\"17\\\",\\\"18\\\",\\\"19\\\",\\\"20\\\",\\\"21\\\",\\\"22\\\",\\\"23\\\",\\\"24\\\",\\\"25\\\",\\\"26\\\",\\\"27\\\",\\\"28\\\",\\\"29\\\",\\\"30\\\",\\\"31\\\",\\\"32\\\",\\\"33\\\",\\\"34\\\",\\\"35\\\",\\\"36\\\",\\\"37\\\",\\\"38\\\",\\\"39\\\",\\\"40\\\",\\\"41\\\",\\\"42\\\",\\\"43\\\",\\\"44\\\",\\\"45\\\",\\\"46\\\",\\\"47\\\",\\\"48\\\",\\\"49\\\",\\\"50\\\",\\\"51\\\",\\\"52\\\",\\\"53\\\",\\\"54\\\",\\\"55\\\",\\\"56\\\",\\\"57\\\",\\\"58\\\",\\\"59\\\",\\\"60\\\",\\\"61\\\",\\\"62\\\",\\\"63\\\",\\\"64\\\",\\\"65\\\",\\\"66\\\",\\\"67\\\",\\\"68\\\",\\\"69\\\",\\\"70\\\",\\\"71\\\",\\\"72\\\",\\\"73\\\",\\\"74\\\",\\\"75\\\",\\\"76\\\",\\\"77\\\",\\\"78\\\",\\\"79\\\",\\\"80\\\",\\\"81\\\",\\\"82\\\",\\\"83\\\",\\\"84\\\",\\\"85\\\",\\\"86\\\",\\\"87\\\",\\\"88\\\",\\\"89\\\",\\\"90\\\",\\\"91\\\",\\\"92\\\",\\\"93\\\",\\\"94\\\",\\\"95\\\",\\\"96\\\",\\\"97\\\",\\\"98\\\",\\\"99\\\",\\\"100\\\",\\\"101\\\"],\\\"changes\\\":WebIO.getval({\\\"name\\\":\\\"changes\\\",\\\"scope\\\":\\\"15771009892842367284\\\",\\\"id\\\":\\\"4312557751269886779\\\",\\\"type\\\":\\\"observable\\\"}),\\\"index\\\":WebIO.getval({\\\"name\\\":\\\"index\\\",\\\"scope\\\":\\\"15771009892842367284\\\",\\\"id\\\":\\\"12334155192482228452\\\",\\\"type\\\":\\\"observable\\\"})};\\n    var self = this;\\n    function AppViewModel() {\\n        for (var key in json_data) {\\n            var el = json_data[key];\\n            this[key] = Array.isArray(el) ? ko.observableArray(el) : ko.observable(el);\\n        }\\n        \\n        [this[\\\"formatted_val\\\"]=ko.computed(    function(){\\n        return this.formatted_vals()[parseInt(this.index())-(1)];\\n    }\\n,this)]\\n        [this[\\\"changes\\\"].subscribe((function (val){!(this.valueFromJulia[\\\"changes\\\"]) ? (WebIO.setval({\\\"name\\\":\\\"changes\\\",\\\"scope\\\":\\\"15771009892842367284\\\",\\\"id\\\":\\\"4312557751269886779\\\",\\\"type\\\":\\\"observable\\\"},val)) : undefined; return this.valueFromJulia[\\\"changes\\\"]=false}),self),this[\\\"index\\\"].subscribe((function (val){!(this.valueFromJulia[\\\"index\\\"]) ? (WebIO.setval({\\\"name\\\":\\\"index\\\",\\\"scope\\\":\\\"15771009892842367284\\\",\\\"id\\\":\\\"12334155192482228452\\\",\\\"type\\\":\\\"observable\\\"},val)) : undefined; return this.valueFromJulia[\\\"index\\\"]=false}),self)]\\n        \\n    }\\n    self.model = new AppViewModel();\\n    self.valueFromJulia = {};\\n    for (var key in json_data) {\\n        self.valueFromJulia[key] = false;\\n    }\\n    ko.applyBindings(self.model, self.dom);\\n}\\n);\\n    (WebIO.importBlock({\\\"data\\\":[{\\\"name\\\":\\\"knockout\\\",\\\"type\\\":\\\"js\\\",\\\"url\\\":\\\"\\/assetserver\\/727383f2a47bd31570b7da84eee7b022dd6d7c78-knockout.js\\\"},{\\\"name\\\":\\\"knockout_punches\\\",\\\"type\\\":\\\"js\\\",\\\"url\\\":\\\"\\/assetserver\\/382b41b3b1bd9f26f75861d360bad7f8beea211f-knockout_punches.js\\\"}],\\\"type\\\":\\\"async_block\\\"})).then((imports) => handler.apply(this, imports));\\n}\\n\"],\"observables\":{\"changes\":{\"sync\":false,\"id\":\"4312557751269886779\",\"value\":0},\"index\":{\"sync\":true,\"id\":\"12334155192482228452\",\"value\":51}}},\"children\":[{\"props\":{\"className\":\"interact-flex-row interact-widget\"},\"nodeType\":\"DOM\",\"type\":\"node\",\"instanceArgs\":{\"namespace\":\"html\",\"tag\":\"div\"},\"children\":[{\"props\":{\"className\":\"interact-flex-row-left\"},\"nodeType\":\"DOM\",\"type\":\"node\",\"instanceArgs\":{\"namespace\":\"html\",\"tag\":\"div\"},\"children\":[{\"props\":{\"className\":\"interact \",\"style\":{\"padding\":\"5px 10px 0px 10px\"}},\"nodeType\":\"DOM\",\"type\":\"node\",\"instanceArgs\":{\"namespace\":\"html\",\"tag\":\"label\"},\"children\":[\"time\"]}]},{\"props\":{\"className\":\"interact-flex-row-center\"},\"nodeType\":\"DOM\",\"type\":\"node\",\"instanceArgs\":{\"namespace\":\"html\",\"tag\":\"div\"},\"children\":[{\"props\":{\"max\":101,\"min\":1,\"attributes\":{\"type\":\"range\",\"data-bind\":\"numericValue: index, valueUpdate: 'input', event: {change: function (){this.changes(this.changes()+1)}}\",\"orient\":\"horizontal\"},\"step\":1,\"className\":\"slider slider is-fullwidth\",\"style\":{}},\"nodeType\":\"DOM\",\"type\":\"node\",\"instanceArgs\":{\"namespace\":\"html\",\"tag\":\"input\"},\"children\":[]}]},{\"props\":{\"className\":\"interact-flex-row-right\"},\"nodeType\":\"DOM\",\"type\":\"node\",\"instanceArgs\":{\"namespace\":\"html\",\"tag\":\"div\"},\"children\":[{\"props\":{\"attributes\":{\"data-bind\":\"text: formatted_val\"}},\"nodeType\":\"DOM\",\"type\":\"node\",\"instanceArgs\":{\"namespace\":\"html\",\"tag\":\"p\"},\"children\":[]}]}]}]}]},{\"props\":{\"className\":\"field interact-widget\"},\"nodeType\":\"DOM\",\"type\":\"node\",\"instanceArgs\":{\"namespace\":\"html\",\"tag\":\"div\"},\"children\":[{\"props\":{},\"nodeType\":\"Scope\",\"type\":\"node\",\"instanceArgs\":{\"imports\":{\"data\":[{\"name\":\"knockout\",\"type\":\"js\",\"url\":\"\\/assetserver\\/727383f2a47bd31570b7da84eee7b022dd6d7c78-knockout.js\"},{\"name\":\"knockout_punches\",\"type\":\"js\",\"url\":\"\\/assetserver\\/382b41b3b1bd9f26f75861d360bad7f8beea211f-knockout_punches.js\"},{\"name\":null,\"type\":\"js\",\"url\":\"\\/assetserver\\/5ab20f1060420992a9b82a65b735dee4d81ef413-all.js\"},{\"name\":null,\"type\":\"css\",\"url\":\"\\/assetserver\\/1cc0ed62837210b80a182cc3676512f895dab686-style.css\"},{\"name\":null,\"type\":\"css\",\"url\":\"\\/assetserver\\/2eee816f616df3549d7044d45e744fbf8d42bfa1-bulma_confined.min.css\"}],\"type\":\"async_block\"},\"id\":\"2658007861982573030\",\"handlers\":{\"changes\":[\"(function (val){return (val!=this.model[\\\"changes\\\"]()) ? (this.valueFromJulia[\\\"changes\\\"]=true, this.model[\\\"changes\\\"](val)) : undefined})\"],\"index\":[\"(function (val){return (val!=this.model[\\\"index\\\"]()) ? (this.valueFromJulia[\\\"index\\\"]=true, this.model[\\\"index\\\"](val)) : undefined})\"]},\"systemjs_options\":null,\"mount_callbacks\":[\"function () {\\n    var handler = (function (ko, koPunches) {\\n    ko.punches.enableAll();\\n    ko.bindingHandlers.numericValue = {\\n        init: function(element, valueAccessor, allBindings, data, context) {\\n            var stringified = ko.observable(ko.unwrap(valueAccessor()));\\n            stringified.subscribe(function(value) {\\n                var val = parseFloat(value);\\n                if (!isNaN(val)) {\\n                    valueAccessor()(val);\\n                }\\n            });\\n            valueAccessor().subscribe(function(value) {\\n                var str = JSON.stringify(value);\\n                if ((str == \\\"0\\\") && ([\\\"-0\\\", \\\"-0.\\\"].indexOf(stringified()) >= 0))\\n                     return;\\n                 if ([\\\"null\\\", \\\"\\\"].indexOf(str) >= 0)\\n                     return;\\n                stringified(str);\\n            });\\n            ko.applyBindingsToNode(\\n                element,\\n                {\\n                    value: stringified,\\n                    valueUpdate: allBindings.get('valueUpdate'),\\n                },\\n                context,\\n            );\\n        }\\n    };\\n    var json_data = {\\\"formatted_vals\\\":[\\\"0.1\\\",\\\"0.2\\\",\\\"0.3\\\",\\\"0.4\\\",\\\"0.5\\\",\\\"0.6\\\",\\\"0.7\\\",\\\"0.8\\\",\\\"0.9\\\",\\\"1.0\\\",\\\"1.1\\\",\\\"1.2\\\",\\\"1.3\\\",\\\"1.4\\\",\\\"1.5\\\",\\\"1.6\\\",\\\"1.7\\\",\\\"1.8\\\",\\\"1.9\\\",\\\"2.0\\\"],\\\"changes\\\":WebIO.getval({\\\"name\\\":\\\"changes\\\",\\\"scope\\\":\\\"2658007861982573030\\\",\\\"id\\\":\\\"13897628021511617152\\\",\\\"type\\\":\\\"observable\\\"}),\\\"index\\\":WebIO.getval({\\\"name\\\":\\\"index\\\",\\\"scope\\\":\\\"2658007861982573030\\\",\\\"id\\\":\\\"6513116877381977562\\\",\\\"type\\\":\\\"observable\\\"})};\\n    var self = this;\\n    function AppViewModel() {\\n        for (var key in json_data) {\\n            var el = json_data[key];\\n            this[key] = Array.isArray(el) ? ko.observableArray(el) : ko.observable(el);\\n        }\\n        \\n        [this[\\\"formatted_val\\\"]=ko.computed(    function(){\\n        return this.formatted_vals()[parseInt(this.index())-(1)];\\n    }\\n,this)]\\n        [this[\\\"changes\\\"].subscribe((function (val){!(this.valueFromJulia[\\\"changes\\\"]) ? (WebIO.setval({\\\"name\\\":\\\"changes\\\",\\\"scope\\\":\\\"2658007861982573030\\\",\\\"id\\\":\\\"13897628021511617152\\\",\\\"type\\\":\\\"observable\\\"},val)) : undefined; return this.valueFromJulia[\\\"changes\\\"]=false}),self),this[\\\"index\\\"].subscribe((function (val){!(this.valueFromJulia[\\\"index\\\"]) ? (WebIO.setval({\\\"name\\\":\\\"index\\\",\\\"scope\\\":\\\"2658007861982573030\\\",\\\"id\\\":\\\"6513116877381977562\\\",\\\"type\\\":\\\"observable\\\"},val)) : undefined; return this.valueFromJulia[\\\"index\\\"]=false}),self)]\\n        \\n    }\\n    self.model = new AppViewModel();\\n    self.valueFromJulia = {};\\n    for (var key in json_data) {\\n        self.valueFromJulia[key] = false;\\n    }\\n    ko.applyBindings(self.model, self.dom);\\n}\\n);\\n    (WebIO.importBlock({\\\"data\\\":[{\\\"name\\\":\\\"knockout\\\",\\\"type\\\":\\\"js\\\",\\\"url\\\":\\\"\\/assetserver\\/727383f2a47bd31570b7da84eee7b022dd6d7c78-knockout.js\\\"},{\\\"name\\\":\\\"knockout_punches\\\",\\\"type\\\":\\\"js\\\",\\\"url\\\":\\\"\\/assetserver\\/382b41b3b1bd9f26f75861d360bad7f8beea211f-knockout_punches.js\\\"}],\\\"type\\\":\\\"async_block\\\"})).then((imports) => handler.apply(this, imports));\\n}\\n\"],\"observables\":{\"changes\":{\"sync\":false,\"id\":\"13897628021511617152\",\"value\":0},\"index\":{\"sync\":true,\"id\":\"6513116877381977562\",\"value\":10}}},\"children\":[{\"props\":{\"className\":\"interact-flex-row interact-widget\"},\"nodeType\":\"DOM\",\"type\":\"node\",\"instanceArgs\":{\"namespace\":\"html\",\"tag\":\"div\"},\"children\":[{\"props\":{\"className\":\"interact-flex-row-left\"},\"nodeType\":\"DOM\",\"type\":\"node\",\"instanceArgs\":{\"namespace\":\"html\",\"tag\":\"div\"},\"children\":[{\"props\":{\"className\":\"interact \",\"style\":{\"padding\":\"5px 10px 0px 10px\"}},\"nodeType\":\"DOM\",\"type\":\"node\",\"instanceArgs\":{\"namespace\":\"html\",\"tag\":\"label\"},\"children\":[\"scale\"]}]},{\"props\":{\"className\":\"interact-flex-row-center\"},\"nodeType\":\"DOM\",\"type\":\"node\",\"instanceArgs\":{\"namespace\":\"html\",\"tag\":\"div\"},\"children\":[{\"props\":{\"max\":20,\"min\":1,\"attributes\":{\"type\":\"range\",\"data-bind\":\"numericValue: index, valueUpdate: 'input', event: {change: function (){this.changes(this.changes()+1)}}\",\"orient\":\"horizontal\"},\"step\":1,\"className\":\"slider slider is-fullwidth\",\"style\":{}},\"nodeType\":\"DOM\",\"type\":\"node\",\"instanceArgs\":{\"namespace\":\"html\",\"tag\":\"input\"},\"children\":[]}]},{\"props\":{\"className\":\"interact-flex-row-right\"},\"nodeType\":\"DOM\",\"type\":\"node\",\"instanceArgs\":{\"namespace\":\"html\",\"tag\":\"div\"},\"children\":[{\"props\":{\"attributes\":{\"data-bind\":\"text: formatted_val\"}},\"nodeType\":\"DOM\",\"type\":\"node\",\"instanceArgs\":{\"namespace\":\"html\",\"tag\":\"p\"},\"children\":[]}]}]}]}]},{\"props\":{\"style\":{\"display\":\"flex\",\"flex-direction\":\"row\"}},\"nodeType\":\"DOM\",\"type\":\"node\",\"instanceArgs\":{\"namespace\":\"html\",\"tag\":\"div\"},\"children\":[{\"props\":{\"className\":\"interact-widget\"},\"nodeType\":\"DOM\",\"type\":\"node\",\"instanceArgs\":{\"namespace\":\"html\",\"tag\":\"div\"},\"children\":[{\"props\":{},\"nodeType\":\"Scope\",\"type\":\"node\",\"instanceArgs\":{\"imports\":{\"data\":[{\"name\":null,\"type\":\"js\",\"url\":\"\\/assetserver\\/dd22ed1bf1896c2748f3fe616ce0b838adc895c1-katex.min.js\"},{\"name\":null,\"type\":\"css\",\"url\":\"\\/assetserver\\/46517a424aa5e6cffc1360d7e0848b601c584ee3-katex.min.css\"}],\"type\":\"async_block\"},\"id\":\"17103301700664655338\",\"handlers\":{\"value\":[\"(function (txt){return this.k.render(txt,this.container)})\"]},\"systemjs_options\":null,\"mount_callbacks\":[\"function () {\\n    var handler = ((function (k){this.k=k; this.container=this.dom.querySelector(\\\"#container\\\"); return k.render(\\\"\\\\\\\\;\\\\\\\\;\\\",this.container)}));\\n    (WebIO.importBlock({\\\"data\\\":[{\\\"name\\\":null,\\\"type\\\":\\\"js\\\",\\\"url\\\":\\\"\\/assetserver\\/dd22ed1bf1896c2748f3fe616ce0b838adc895c1-katex.min.js\\\"},{\\\"name\\\":null,\\\"type\\\":\\\"css\\\",\\\"url\\\":\\\"\\/assetserver\\/46517a424aa5e6cffc1360d7e0848b601c584ee3-katex.min.css\\\"}],\\\"type\\\":\\\"async_block\\\"})).then((imports) => handler.apply(this, imports));\\n}\\n\"],\"observables\":{\"value\":{\"sync\":false,\"id\":\"18010501548073694544\",\"value\":\"\\\\;\\\\;\"}}},\"children\":[{\"props\":{\"id\":\"container\"},\"nodeType\":\"DOM\",\"type\":\"node\",\"instanceArgs\":{\"namespace\":\"html\",\"tag\":\"div\"},\"children\":[]}]}]},{\"props\":{\"className\":\"field interact-widget\"},\"nodeType\":\"DOM\",\"type\":\"node\",\"instanceArgs\":{\"namespace\":\"html\",\"tag\":\"div\"},\"children\":[{\"props\":{},\"nodeType\":\"Scope\",\"type\":\"node\",\"instanceArgs\":{\"imports\":{\"data\":[{\"name\":\"knockout\",\"type\":\"js\",\"url\":\"\\/assetserver\\/727383f2a47bd31570b7da84eee7b022dd6d7c78-knockout.js\"},{\"name\":\"knockout_punches\",\"type\":\"js\",\"url\":\"\\/assetserver\\/382b41b3b1bd9f26f75861d360bad7f8beea211f-knockout_punches.js\"},{\"name\":null,\"type\":\"js\",\"url\":\"\\/assetserver\\/5ab20f1060420992a9b82a65b735dee4d81ef413-all.js\"},{\"name\":null,\"type\":\"css\",\"url\":\"\\/assetserver\\/1cc0ed62837210b80a182cc3676512f895dab686-style.css\"},{\"name\":null,\"type\":\"css\",\"url\":\"\\/assetserver\\/2eee816f616df3549d7044d45e744fbf8d42bfa1-bulma_confined.min.css\"}],\"type\":\"async_block\"},\"id\":\"17227485491019022415\",\"handlers\":{\"loading\":[\"(function (val){return (val!=this.model[\\\"loading\\\"]()) ? (this.valueFromJulia[\\\"loading\\\"]=true, this.model[\\\"loading\\\"](val)) : undefined})\"],\"clicks\":[\"(function (val){return (val!=this.model[\\\"clicks\\\"]()) ? (this.valueFromJulia[\\\"clicks\\\"]=true, this.model[\\\"clicks\\\"](val)) : undefined})\"]},\"systemjs_options\":null,\"mount_callbacks\":[\"function () {\\n    var handler = (function (ko, koPunches) {\\n    ko.punches.enableAll();\\n    ko.bindingHandlers.numericValue = {\\n        init: function(element, valueAccessor, allBindings, data, context) {\\n            var stringified = ko.observable(ko.unwrap(valueAccessor()));\\n            stringified.subscribe(function(value) {\\n                var val = parseFloat(value);\\n                if (!isNaN(val)) {\\n                    valueAccessor()(val);\\n                }\\n            });\\n            valueAccessor().subscribe(function(value) {\\n                var str = JSON.stringify(value);\\n                if ((str == \\\"0\\\") && ([\\\"-0\\\", \\\"-0.\\\"].indexOf(stringified()) >= 0))\\n                     return;\\n                 if ([\\\"null\\\", \\\"\\\"].indexOf(str) >= 0)\\n                     return;\\n                stringified(str);\\n            });\\n            ko.applyBindingsToNode(\\n                element,\\n                {\\n                    value: stringified,\\n                    valueUpdate: allBindings.get('valueUpdate'),\\n                },\\n                context,\\n            );\\n        }\\n    };\\n    var json_data = {\\\"loading\\\":WebIO.getval({\\\"name\\\":\\\"loading\\\",\\\"scope\\\":\\\"17227485491019022415\\\",\\\"id\\\":\\\"1131414044201588168\\\",\\\"type\\\":\\\"observable\\\"}),\\\"clicks\\\":WebIO.getval({\\\"name\\\":\\\"clicks\\\",\\\"scope\\\":\\\"17227485491019022415\\\",\\\"id\\\":\\\"6367120021145492802\\\",\\\"type\\\":\\\"observable\\\"})};\\n    var self = this;\\n    function AppViewModel() {\\n        for (var key in json_data) {\\n            var el = json_data[key];\\n            this[key] = Array.isArray(el) ? ko.observableArray(el) : ko.observable(el);\\n        }\\n        \\n        \\n        [this[\\\"loading\\\"].subscribe((function (val){!(this.valueFromJulia[\\\"loading\\\"]) ? (WebIO.setval({\\\"name\\\":\\\"loading\\\",\\\"scope\\\":\\\"17227485491019022415\\\",\\\"id\\\":\\\"1131414044201588168\\\",\\\"type\\\":\\\"observable\\\"},val)) : undefined; return this.valueFromJulia[\\\"loading\\\"]=false}),self),this[\\\"clicks\\\"].subscribe((function (val){!(this.valueFromJulia[\\\"clicks\\\"]) ? (WebIO.setval({\\\"name\\\":\\\"clicks\\\",\\\"scope\\\":\\\"17227485491019022415\\\",\\\"id\\\":\\\"6367120021145492802\\\",\\\"type\\\":\\\"observable\\\"},val)) : undefined; return this.valueFromJulia[\\\"clicks\\\"]=false}),self)]\\n        \\n    }\\n    self.model = new AppViewModel();\\n    self.valueFromJulia = {};\\n    for (var key in json_data) {\\n        self.valueFromJulia[key] = false;\\n    }\\n    ko.applyBindings(self.model, self.dom);\\n}\\n);\\n    (WebIO.importBlock({\\\"data\\\":[{\\\"name\\\":\\\"knockout\\\",\\\"type\\\":\\\"js\\\",\\\"url\\\":\\\"\\/assetserver\\/727383f2a47bd31570b7da84eee7b022dd6d7c78-knockout.js\\\"},{\\\"name\\\":\\\"knockout_punches\\\",\\\"type\\\":\\\"js\\\",\\\"url\\\":\\\"\\/assetserver\\/382b41b3b1bd9f26f75861d360bad7f8beea211f-knockout_punches.js\\\"}],\\\"type\\\":\\\"async_block\\\"})).then((imports) => handler.apply(this, imports));\\n}\\n\"],\"observables\":{\"loading\":{\"sync\":false,\"id\":\"1131414044201588168\",\"value\":false},\"clicks\":{\"sync\":true,\"id\":\"6367120021145492802\",\"value\":0}}},\"children\":[{\"props\":{\"attributes\":{\"data-bind\":\"click: function (){this.clicks(this.clicks()+1)}, css: {'is-loading' : loading}\"},\"className\":\"is-medium button is-primary\",\"style\":{}},\"nodeType\":\"DOM\",\"type\":\"node\",\"instanceArgs\":{\"namespace\":\"html\",\"tag\":\"button\"},\"children\":[\"run\"]}]}]},{\"props\":{\"className\":\"interact-widget\"},\"nodeType\":\"DOM\",\"type\":\"node\",\"instanceArgs\":{\"namespace\":\"html\",\"tag\":\"div\"},\"children\":[{\"props\":{},\"nodeType\":\"Scope\",\"type\":\"node\",\"instanceArgs\":{\"imports\":{\"data\":[{\"name\":null,\"type\":\"js\",\"url\":\"\\/assetserver\\/dd22ed1bf1896c2748f3fe616ce0b838adc895c1-katex.min.js\"},{\"name\":null,\"type\":\"css\",\"url\":\"\\/assetserver\\/46517a424aa5e6cffc1360d7e0848b601c584ee3-katex.min.css\"}],\"type\":\"async_block\"},\"id\":\"17103301700664655338\",\"handlers\":{\"value\":[\"(function (txt){return this.k.render(txt,this.container)})\"]},\"systemjs_options\":null,\"mount_callbacks\":[\"function () {\\n    var handler = ((function (k){this.k=k; this.container=this.dom.querySelector(\\\"#container\\\"); return k.render(\\\"\\\\\\\\;\\\\\\\\;\\\",this.container)}));\\n    (WebIO.importBlock({\\\"data\\\":[{\\\"name\\\":null,\\\"type\\\":\\\"js\\\",\\\"url\\\":\\\"\\/assetserver\\/dd22ed1bf1896c2748f3fe616ce0b838adc895c1-katex.min.js\\\"},{\\\"name\\\":null,\\\"type\\\":\\\"css\\\",\\\"url\\\":\\\"\\/assetserver\\/46517a424aa5e6cffc1360d7e0848b601c584ee3-katex.min.css\\\"}],\\\"type\\\":\\\"async_block\\\"})).then((imports) => handler.apply(this, imports));\\n}\\n\"],\"observables\":{\"value\":{\"sync\":false,\"id\":\"18010501548073694544\",\"value\":\"\\\\;\\\\;\"}}},\"children\":[{\"props\":{\"id\":\"container\"},\"nodeType\":\"DOM\",\"type\":\"node\",\"instanceArgs\":{\"namespace\":\"html\",\"tag\":\"div\"},\"children\":[]}]}]},{\"props\":{\"className\":\"field interact-widget\"},\"nodeType\":\"DOM\",\"type\":\"node\",\"instanceArgs\":{\"namespace\":\"html\",\"tag\":\"div\"},\"children\":[{\"props\":{},\"nodeType\":\"Scope\",\"type\":\"node\",\"instanceArgs\":{\"imports\":{\"data\":[{\"name\":\"knockout\",\"type\":\"js\",\"url\":\"\\/assetserver\\/727383f2a47bd31570b7da84eee7b022dd6d7c78-knockout.js\"},{\"name\":\"knockout_punches\",\"type\":\"js\",\"url\":\"\\/assetserver\\/382b41b3b1bd9f26f75861d360bad7f8beea211f-knockout_punches.js\"},{\"name\":null,\"type\":\"js\",\"url\":\"\\/assetserver\\/5ab20f1060420992a9b82a65b735dee4d81ef413-all.js\"},{\"name\":null,\"type\":\"css\",\"url\":\"\\/assetserver\\/1cc0ed62837210b80a182cc3676512f895dab686-style.css\"},{\"name\":null,\"type\":\"css\",\"url\":\"\\/assetserver\\/2eee816f616df3549d7044d45e744fbf8d42bfa1-bulma_confined.min.css\"}],\"type\":\"async_block\"},\"id\":\"2450587679640953909\",\"handlers\":{\"loading\":[\"(function (val){return (val!=this.model[\\\"loading\\\"]()) ? (this.valueFromJulia[\\\"loading\\\"]=true, this.model[\\\"loading\\\"](val)) : undefined})\"],\"clicks\":[\"(function (val){return (val!=this.model[\\\"clicks\\\"]()) ? (this.valueFromJulia[\\\"clicks\\\"]=true, this.model[\\\"clicks\\\"](val)) : undefined})\"]},\"systemjs_options\":null,\"mount_callbacks\":[\"function () {\\n    var handler = (function (ko, koPunches) {\\n    ko.punches.enableAll();\\n    ko.bindingHandlers.numericValue = {\\n        init: function(element, valueAccessor, allBindings, data, context) {\\n            var stringified = ko.observable(ko.unwrap(valueAccessor()));\\n            stringified.subscribe(function(value) {\\n                var val = parseFloat(value);\\n                if (!isNaN(val)) {\\n                    valueAccessor()(val);\\n                }\\n            });\\n            valueAccessor().subscribe(function(value) {\\n                var str = JSON.stringify(value);\\n                if ((str == \\\"0\\\") && ([\\\"-0\\\", \\\"-0.\\\"].indexOf(stringified()) >= 0))\\n                     return;\\n                 if ([\\\"null\\\", \\\"\\\"].indexOf(str) >= 0)\\n                     return;\\n                stringified(str);\\n            });\\n            ko.applyBindingsToNode(\\n                element,\\n                {\\n                    value: stringified,\\n                    valueUpdate: allBindings.get('valueUpdate'),\\n                },\\n                context,\\n            );\\n        }\\n    };\\n    var json_data = {\\\"loading\\\":WebIO.getval({\\\"name\\\":\\\"loading\\\",\\\"scope\\\":\\\"2450587679640953909\\\",\\\"id\\\":\\\"7733312188230401787\\\",\\\"type\\\":\\\"observable\\\"}),\\\"clicks\\\":WebIO.getval({\\\"name\\\":\\\"clicks\\\",\\\"scope\\\":\\\"2450587679640953909\\\",\\\"id\\\":\\\"13569054165056762889\\\",\\\"type\\\":\\\"observable\\\"})};\\n    var self = this;\\n    function AppViewModel() {\\n        for (var key in json_data) {\\n            var el = json_data[key];\\n            this[key] = Array.isArray(el) ? ko.observableArray(el) : ko.observable(el);\\n        }\\n        \\n        \\n        [this[\\\"loading\\\"].subscribe((function (val){!(this.valueFromJulia[\\\"loading\\\"]) ? (WebIO.setval({\\\"name\\\":\\\"loading\\\",\\\"scope\\\":\\\"2450587679640953909\\\",\\\"id\\\":\\\"7733312188230401787\\\",\\\"type\\\":\\\"observable\\\"},val)) : undefined; return this.valueFromJulia[\\\"loading\\\"]=false}),self),this[\\\"clicks\\\"].subscribe((function (val){!(this.valueFromJulia[\\\"clicks\\\"]) ? (WebIO.setval({\\\"name\\\":\\\"clicks\\\",\\\"scope\\\":\\\"2450587679640953909\\\",\\\"id\\\":\\\"13569054165056762889\\\",\\\"type\\\":\\\"observable\\\"},val)) : undefined; return this.valueFromJulia[\\\"clicks\\\"]=false}),self)]\\n        \\n    }\\n    self.model = new AppViewModel();\\n    self.valueFromJulia = {};\\n    for (var key in json_data) {\\n        self.valueFromJulia[key] = false;\\n    }\\n    ko.applyBindings(self.model, self.dom);\\n}\\n);\\n    (WebIO.importBlock({\\\"data\\\":[{\\\"name\\\":\\\"knockout\\\",\\\"type\\\":\\\"js\\\",\\\"url\\\":\\\"\\/assetserver\\/727383f2a47bd31570b7da84eee7b022dd6d7c78-knockout.js\\\"},{\\\"name\\\":\\\"knockout_punches\\\",\\\"type\\\":\\\"js\\\",\\\"url\\\":\\\"\\/assetserver\\/382b41b3b1bd9f26f75861d360bad7f8beea211f-knockout_punches.js\\\"}],\\\"type\\\":\\\"async_block\\\"})).then((imports) => handler.apply(this, imports));\\n}\\n\"],\"observables\":{\"loading\":{\"sync\":false,\"id\":\"7733312188230401787\",\"value\":false},\"clicks\":{\"sync\":true,\"id\":\"13569054165056762889\",\"value\":0}}},\"children\":[{\"props\":{\"attributes\":{\"data-bind\":\"click: function (){this.clicks(this.clicks()+1)}, css: {'is-loading' : loading}\"},\"className\":\"is-medium button is-primary\",\"style\":{}},\"nodeType\":\"DOM\",\"type\":\"node\",\"instanceArgs\":{\"namespace\":\"html\",\"tag\":\"button\"},\"children\":[\"stop\"]}]}]},{\"props\":{\"className\":\"interact-widget\"},\"nodeType\":\"DOM\",\"type\":\"node\",\"instanceArgs\":{\"namespace\":\"html\",\"tag\":\"div\"},\"children\":[{\"props\":{},\"nodeType\":\"Scope\",\"type\":\"node\",\"instanceArgs\":{\"imports\":{\"data\":[{\"name\":null,\"type\":\"js\",\"url\":\"\\/assetserver\\/dd22ed1bf1896c2748f3fe616ce0b838adc895c1-katex.min.js\"},{\"name\":null,\"type\":\"css\",\"url\":\"\\/assetserver\\/46517a424aa5e6cffc1360d7e0848b601c584ee3-katex.min.css\"}],\"type\":\"async_block\"},\"id\":\"17103301700664655338\",\"handlers\":{\"value\":[\"(function (txt){return this.k.render(txt,this.container)})\"]},\"systemjs_options\":null,\"mount_callbacks\":[\"function () {\\n    var handler = ((function (k){this.k=k; this.container=this.dom.querySelector(\\\"#container\\\"); return k.render(\\\"\\\\\\\\;\\\\\\\\;\\\",this.container)}));\\n    (WebIO.importBlock({\\\"data\\\":[{\\\"name\\\":null,\\\"type\\\":\\\"js\\\",\\\"url\\\":\\\"\\/assetserver\\/dd22ed1bf1896c2748f3fe616ce0b838adc895c1-katex.min.js\\\"},{\\\"name\\\":null,\\\"type\\\":\\\"css\\\",\\\"url\\\":\\\"\\/assetserver\\/46517a424aa5e6cffc1360d7e0848b601c584ee3-katex.min.css\\\"}],\\\"type\\\":\\\"async_block\\\"})).then((imports) => handler.apply(this, imports));\\n}\\n\"],\"observables\":{\"value\":{\"sync\":false,\"id\":\"18010501548073694544\",\"value\":\"\\\\;\\\\;\"}}},\"children\":[{\"props\":{\"id\":\"container\"},\"nodeType\":\"DOM\",\"type\":\"node\",\"instanceArgs\":{\"namespace\":\"html\",\"tag\":\"div\"},\"children\":[]}]}]},{\"props\":{\"className\":\"field interact-widget\"},\"nodeType\":\"DOM\",\"type\":\"node\",\"instanceArgs\":{\"namespace\":\"html\",\"tag\":\"div\"},\"children\":[{\"props\":{},\"nodeType\":\"Scope\",\"type\":\"node\",\"instanceArgs\":{\"imports\":{\"data\":[{\"name\":\"knockout\",\"type\":\"js\",\"url\":\"\\/assetserver\\/727383f2a47bd31570b7da84eee7b022dd6d7c78-knockout.js\"},{\"name\":\"knockout_punches\",\"type\":\"js\",\"url\":\"\\/assetserver\\/382b41b3b1bd9f26f75861d360bad7f8beea211f-knockout_punches.js\"},{\"name\":null,\"type\":\"js\",\"url\":\"\\/assetserver\\/5ab20f1060420992a9b82a65b735dee4d81ef413-all.js\"},{\"name\":null,\"type\":\"css\",\"url\":\"\\/assetserver\\/1cc0ed62837210b80a182cc3676512f895dab686-style.css\"},{\"name\":null,\"type\":\"css\",\"url\":\"\\/assetserver\\/2eee816f616df3549d7044d45e744fbf8d42bfa1-bulma_confined.min.css\"}],\"type\":\"async_block\"},\"id\":\"5711947260302873897\",\"handlers\":{\"loading\":[\"(function (val){return (val!=this.model[\\\"loading\\\"]()) ? (this.valueFromJulia[\\\"loading\\\"]=true, this.model[\\\"loading\\\"](val)) : undefined})\"],\"clicks\":[\"(function (val){return (val!=this.model[\\\"clicks\\\"]()) ? (this.valueFromJulia[\\\"clicks\\\"]=true, this.model[\\\"clicks\\\"](val)) : undefined})\"]},\"systemjs_options\":null,\"mount_callbacks\":[\"function () {\\n    var handler = (function (ko, koPunches) {\\n    ko.punches.enableAll();\\n    ko.bindingHandlers.numericValue = {\\n        init: function(element, valueAccessor, allBindings, data, context) {\\n            var stringified = ko.observable(ko.unwrap(valueAccessor()));\\n            stringified.subscribe(function(value) {\\n                var val = parseFloat(value);\\n                if (!isNaN(val)) {\\n                    valueAccessor()(val);\\n                }\\n            });\\n            valueAccessor().subscribe(function(value) {\\n                var str = JSON.stringify(value);\\n                if ((str == \\\"0\\\") && ([\\\"-0\\\", \\\"-0.\\\"].indexOf(stringified()) >= 0))\\n                     return;\\n                 if ([\\\"null\\\", \\\"\\\"].indexOf(str) >= 0)\\n                     return;\\n                stringified(str);\\n            });\\n            ko.applyBindingsToNode(\\n                element,\\n                {\\n                    value: stringified,\\n                    valueUpdate: allBindings.get('valueUpdate'),\\n                },\\n                context,\\n            );\\n        }\\n    };\\n    var json_data = {\\\"loading\\\":WebIO.getval({\\\"name\\\":\\\"loading\\\",\\\"scope\\\":\\\"5711947260302873897\\\",\\\"id\\\":\\\"1761520194584578445\\\",\\\"type\\\":\\\"observable\\\"}),\\\"clicks\\\":WebIO.getval({\\\"name\\\":\\\"clicks\\\",\\\"scope\\\":\\\"5711947260302873897\\\",\\\"id\\\":\\\"7599468008633827936\\\",\\\"type\\\":\\\"observable\\\"})};\\n    var self = this;\\n    function AppViewModel() {\\n        for (var key in json_data) {\\n            var el = json_data[key];\\n            this[key] = Array.isArray(el) ? ko.observableArray(el) : ko.observable(el);\\n        }\\n        \\n        \\n        [this[\\\"loading\\\"].subscribe((function (val){!(this.valueFromJulia[\\\"loading\\\"]) ? (WebIO.setval({\\\"name\\\":\\\"loading\\\",\\\"scope\\\":\\\"5711947260302873897\\\",\\\"id\\\":\\\"1761520194584578445\\\",\\\"type\\\":\\\"observable\\\"},val)) : undefined; return this.valueFromJulia[\\\"loading\\\"]=false}),self),this[\\\"clicks\\\"].subscribe((function (val){!(this.valueFromJulia[\\\"clicks\\\"]) ? (WebIO.setval({\\\"name\\\":\\\"clicks\\\",\\\"scope\\\":\\\"5711947260302873897\\\",\\\"id\\\":\\\"7599468008633827936\\\",\\\"type\\\":\\\"observable\\\"},val)) : undefined; return this.valueFromJulia[\\\"clicks\\\"]=false}),self)]\\n        \\n    }\\n    self.model = new AppViewModel();\\n    self.valueFromJulia = {};\\n    for (var key in json_data) {\\n        self.valueFromJulia[key] = false;\\n    }\\n    ko.applyBindings(self.model, self.dom);\\n}\\n);\\n    (WebIO.importBlock({\\\"data\\\":[{\\\"name\\\":\\\"knockout\\\",\\\"type\\\":\\\"js\\\",\\\"url\\\":\\\"\\/assetserver\\/727383f2a47bd31570b7da84eee7b022dd6d7c78-knockout.js\\\"},{\\\"name\\\":\\\"knockout_punches\\\",\\\"type\\\":\\\"js\\\",\\\"url\\\":\\\"\\/assetserver\\/382b41b3b1bd9f26f75861d360bad7f8beea211f-knockout_punches.js\\\"}],\\\"type\\\":\\\"async_block\\\"})).then((imports) => handler.apply(this, imports));\\n}\\n\"],\"observables\":{\"loading\":{\"sync\":false,\"id\":\"1761520194584578445\",\"value\":false},\"clicks\":{\"sync\":true,\"id\":\"7599468008633827936\",\"value\":0}}},\"children\":[{\"props\":{\"attributes\":{\"data-bind\":\"click: function (){this.clicks(this.clicks()+1)}, css: {'is-loading' : loading}\"},\"className\":\"is-medium button is-primary\",\"style\":{}},\"nodeType\":\"DOM\",\"type\":\"node\",\"instanceArgs\":{\"namespace\":\"html\",\"tag\":\"button\"},\"children\":[\"save\"]}]}]}]}]},{\"props\":{\"className\":\"interact-widget\"},\"nodeType\":\"DOM\",\"type\":\"node\",\"instanceArgs\":{\"namespace\":\"html\",\"tag\":\"div\"},\"children\":[{\"props\":{},\"nodeType\":\"Scope\",\"type\":\"node\",\"instanceArgs\":{\"imports\":{\"data\":[{\"name\":null,\"type\":\"js\",\"url\":\"\\/assetserver\\/dd22ed1bf1896c2748f3fe616ce0b838adc895c1-katex.min.js\"},{\"name\":null,\"type\":\"css\",\"url\":\"\\/assetserver\\/46517a424aa5e6cffc1360d7e0848b601c584ee3-katex.min.css\"}],\"type\":\"async_block\"},\"id\":\"17103301700664655338\",\"handlers\":{\"value\":[\"(function (txt){return this.k.render(txt,this.container)})\"]},\"systemjs_options\":null,\"mount_callbacks\":[\"function () {\\n    var handler = ((function (k){this.k=k; this.container=this.dom.querySelector(\\\"#container\\\"); return k.render(\\\"\\\\\\\\;\\\\\\\\;\\\",this.container)}));\\n    (WebIO.importBlock({\\\"data\\\":[{\\\"name\\\":null,\\\"type\\\":\\\"js\\\",\\\"url\\\":\\\"\\/assetserver\\/dd22ed1bf1896c2748f3fe616ce0b838adc895c1-katex.min.js\\\"},{\\\"name\\\":null,\\\"type\\\":\\\"css\\\",\\\"url\\\":\\\"\\/assetserver\\/46517a424aa5e6cffc1360d7e0848b601c584ee3-katex.min.css\\\"}],\\\"type\\\":\\\"async_block\\\"})).then((imports) => handler.apply(this, imports));\\n}\\n\"],\"observables\":{\"value\":{\"sync\":false,\"id\":\"18010501548073694544\",\"value\":\"\\\\;\\\\;\"}}},\"children\":[{\"props\":{\"id\":\"container\"},\"nodeType\":\"DOM\",\"type\":\"node\",\"instanceArgs\":{\"namespace\":\"html\",\"tag\":\"div\"},\"children\":[]}]}]},{\"props\":{},\"nodeType\":\"Scope\",\"type\":\"node\",\"instanceArgs\":{\"imports\":{\"data\":[],\"type\":\"async_block\"},\"id\":\"17617359518165199087\",\"handlers\":{\"obs-output\":[\"function (value, scope) {\\n    scope.setInnerHTML(value);\\n}\\n\"]},\"systemjs_options\":null,\"mount_callbacks\":[],\"observables\":{\"obs-output\":{\"sync\":false,\"id\":\"3236064285105234906\",\"value\":\"<img src='data:image\\/png;base64,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'><\\/img>\"}}},\"children\":[{\"props\":{\"className\":\"webio-observable\",\"setInnerHtml\":\"<img src='data:image\\/png;base64,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'><\\/img>\"},\"nodeType\":\"DOM\",\"type\":\"node\",\"instanceArgs\":{\"namespace\":\"html\",\"tag\":\"div\"},\"children\":[]}]},{\"props\":{\"className\":\"interact-widget\"},\"nodeType\":\"DOM\",\"type\":\"node\",\"instanceArgs\":{\"namespace\":\"html\",\"tag\":\"div\"},\"children\":[{\"props\":{},\"nodeType\":\"Scope\",\"type\":\"node\",\"instanceArgs\":{\"imports\":{\"data\":[{\"name\":null,\"type\":\"js\",\"url\":\"\\/assetserver\\/dd22ed1bf1896c2748f3fe616ce0b838adc895c1-katex.min.js\"},{\"name\":null,\"type\":\"css\",\"url\":\"\\/assetserver\\/46517a424aa5e6cffc1360d7e0848b601c584ee3-katex.min.css\"}],\"type\":\"async_block\"},\"id\":\"17103301700664655338\",\"handlers\":{\"value\":[\"(function (txt){return this.k.render(txt,this.container)})\"]},\"systemjs_options\":null,\"mount_callbacks\":[\"function () {\\n    var handler = ((function (k){this.k=k; this.container=this.dom.querySelector(\\\"#container\\\"); return k.render(\\\"\\\\\\\\;\\\\\\\\;\\\",this.container)}));\\n    (WebIO.importBlock({\\\"data\\\":[{\\\"name\\\":null,\\\"type\\\":\\\"js\\\",\\\"url\\\":\\\"\\/assetserver\\/dd22ed1bf1896c2748f3fe616ce0b838adc895c1-katex.min.js\\\"},{\\\"name\\\":null,\\\"type\\\":\\\"css\\\",\\\"url\\\":\\\"\\/assetserver\\/46517a424aa5e6cffc1360d7e0848b601c584ee3-katex.min.css\\\"}],\\\"type\\\":\\\"async_block\\\"})).then((imports) => handler.apply(this, imports));\\n}\\n\"],\"observables\":{\"value\":{\"sync\":false,\"id\":\"18010501548073694544\",\"value\":\"\\\\;\\\\;\"}}},\"children\":[{\"props\":{\"id\":\"container\"},\"nodeType\":\"DOM\",\"type\":\"node\",\"instanceArgs\":{\"namespace\":\"html\",\"tag\":\"div\"},\"children\":[]}]}]},{\"props\":{\"style\":{\"display\":\"flex\",\"flex-direction\":\"column\"}},\"nodeType\":\"DOM\",\"type\":\"node\",\"instanceArgs\":{\"namespace\":\"html\",\"tag\":\"div\"},\"children\":[]}]}]},\n",
       "        window,\n",
       "    );\n",
       "    })()\n",
       "    </script>\n",
       "</div>\n"
      ],
      "text/plain": [
       "WebIO.Node{WebIO.DOM}(WebIO.DOM(:html, :div), Any[WebIO.Node{WebIO.DOM}(WebIO.DOM(:html, :div), Any[WebIO.Node{WebIO.DOM}(WebIO.DOM(:html, :div), Any[WebIO.Node{WebIO.DOM}(WebIO.DOM(:html, :div), Any[WebIO.Scope(WebIO.Node{WebIO.DOM}(WebIO.DOM(:html, :div), Any[WebIO.Node{WebIO.DOM}(WebIO.DOM(:html, :div), Any[WebIO.Node{WebIO.DOM}(WebIO.DOM(:html, :label), Any[\"time\"], Dict{Symbol, Any}(:className => \"interact \", :style => Dict{Any, Any}(:padding => \"5px 10px 0px 10px\")))], Dict{Symbol, Any}(:className => \"interact-flex-row-left\")), WebIO.Node{WebIO.DOM}(WebIO.DOM(:html, :div), Any[WebIO.Node{WebIO.DOM}(WebIO.DOM(:html, :input), Any[], Dict{Symbol, Any}(:max => 101, :min => 1, :attributes => Dict{Any, Any}(:type => \"range\", Symbol(\"data-bind\") => \"numericValue: index, valueUpdate: 'input', event: {change: function (){this.changes(this.changes()+1)}}\", \"orient\" => \"horizontal\"), :step => 1, :className => \"slider slider is-fullwidth\", :style => Dict{Any, Any}()))], Dict{Symbol, Any}(:className => \"interact-flex-row-center\")), WebIO.Node{WebIO.DOM}(WebIO.DOM(:html, :div), Any[WebIO.Node{WebIO.DOM}(WebIO.DOM(:html, :p), Any[], Dict{Symbol, Any}(:attributes => Dict(\"data-bind\" => \"text: formatted_val\")))], Dict{Symbol, Any}(:className => \"interact-flex-row-right\"))], Dict{Symbol, Any}(:className => \"interact-flex-row interact-widget\")), Dict{String, Tuple{Observables.AbstractObservable, Union{Nothing, Bool}}}(\"changes\" => (Observable(0), nothing), \"index\" => (Observable(51), nothing)), Set{String}(), nothing, WebIO.Asset[WebIO.Asset(\"js\", \"knockout\", \"/home/dushya/.julia/packages/Knockout/HReiN/src/../assets/knockout.js\"), WebIO.Asset(\"js\", \"knockout_punches\", \"/home/dushya/.julia/packages/Knockout/HReiN/src/../assets/knockout_punches.js\"), WebIO.Asset(\"js\", nothing, \"/home/dushya/.julia/packages/InteractBase/LJXv3/src/../assets/all.js\"), WebIO.Asset(\"css\", nothing, \"/home/dushya/.julia/packages/InteractBase/LJXv3/src/../assets/style.css\"), WebIO.Asset(\"css\", nothing, \"/home/dushya/.julia/packages/Interact/PENUy/src/../assets/bulma_confined.min.css\")], Dict{Any, Any}(\"changes\" => Any[WebIO.JSString(\"(function (val){return (val!=this.model[\\\"changes\\\"]()) ? (this.valueFromJulia[\\\"changes\\\"]=true, this.model[\\\"changes\\\"](val)) : undefined})\")], \"index\" => Any[WebIO.JSString(\"(function (val){return (val!=this.model[\\\"index\\\"]()) ? (this.valueFromJulia[\\\"index\\\"]=true, this.model[\\\"index\\\"](val)) : undefined})\")]), WebIO.ConnectionPool(Channel{Any}(32), Set{WebIO.AbstractConnection}(), Base.GenericCondition{ReentrantLock}(Base.IntrusiveLinkedList{Task}(Task (runnable) @0x00007fcae6321aa0, Task (runnable) @0x00007fcae6321aa0), ReentrantLock(nothing, 0x00000000, 0x00, Base.GenericCondition{Base.Threads.SpinLock}(Base.IntrusiveLinkedList{Task}(nothing, nothing), Base.Threads.SpinLock(0)), (1, 140509439881312, 141733920768)))), WebIO.JSString[WebIO.JSString(\"function () {\\n    var handler = (function (ko, koPunches) {\\n    ko.punches.enableAll();\\n    ko.bindingHandlers.numericValue = {\\n        init: function(element, valueAccessor, allBindings, data, context) {\\n            var stringified = ko.observable(ko.unwrap(valueAccessor()));\\n            stringified.subscribe(function(value) {\\n                var val = parseFloat(value);\\n                if (!isNaN(val)) {\\n                    valueAccessor()(val);\\n                }\\n            });\\n            valueAccessor().subscribe(function(value) {\\n                var str = JSON.stringify(value);\\n                if ((str == \\\"0\\\") && ([\\\"-0\\\", \\\"-0.\\\"].indexOf(stringified()) >= 0))\\n                     return;\\n                 if ([\\\"null\\\", \\\"\\\"].indexOf(str) >= 0)\\n                     return;\\n                stringified(str);\\n            });\\n            ko.applyBindingsToNode(\\n                element,\\n                {\\n                    value: stringified,\\n                    valueUpdate: allBindings.get('valueUpdate'),\\n                },\\n                context,\\n            );\\n        }\\n    };\\n    var json_data = {\\\"formatted_vals\\\":[\\\"1\\\",\\\"2\\\",\\\"3\\\",\\\"4\\\",\\\"5\\\",\\\"6\\\",\\\"7\\\",\\\"8\\\",\\\"9\\\",\\\"10\\\",\\\"11\\\",\\\"12\\\",\\\"13\\\",\\\"14\\\",\\\"15\\\",\\\"16\\\",\\\"17\\\",\\\"18\\\",\\\"19\\\",\\\"20\\\",\\\"21\\\",\\\"22\\\",\\\"23\\\",\\\"24\\\",\\\"25\\\",\\\"26\\\",\\\"27\\\",\\\"28\\\",\\\"29\\\",\\\"30\\\",\\\"31\\\",\\\"32\\\",\\\"33\\\",\\\"34\\\",\\\"35\\\",\\\"36\\\",\\\"37\\\",\\\"38\\\",\\\"39\\\",\\\"40\\\",\\\"41\\\",\\\"42\\\",\\\"43\\\",\\\"44\\\",\\\"45\\\",\\\"46\\\",\\\"47\\\",\\\"48\\\",\\\"49\\\",\\\"50\\\",\\\"51\\\",\\\"52\\\",\\\"53\\\",\\\"54\\\",\\\"55\\\",\\\"56\\\",\\\"57\\\",\\\"58\\\",\\\"59\\\",\\\"60\\\",\\\"61\\\",\\\"62\\\",\\\"63\\\",\\\"64\\\",\\\"65\\\",\\\"66\\\",\\\"67\\\",\\\"68\\\",\\\"69\\\",\\\"70\\\",\\\"71\\\",\\\"72\\\",\\\"73\\\",\\\"74\\\",\\\"75\\\",\\\"76\\\",\\\"77\\\",\\\"78\\\",\\\"79\\\",\\\"80\\\",\\\"81\\\",\\\"82\\\",\\\"83\\\",\\\"84\\\",\\\"85\\\",\\\"86\\\",\\\"87\\\",\\\"88\\\",\\\"89\\\",\\\"90\\\",\\\"91\\\",\\\"92\\\",\\\"93\\\",\\\"94\\\",\\\"95\\\",\\\"96\\\",\\\"97\\\",\\\"98\\\",\\\"99\\\",\\\"100\\\",\\\"101\\\"],\\\"changes\\\":WebIO.getval({\\\"name\\\":\\\"changes\\\",\\\"scope\\\":\\\"15771009892842367284\\\",\\\"id\\\":\\\"4312557751269886779\\\",\\\"type\\\":\\\"observable\\\"}),\\\"index\\\":WebIO.getval({\\\"name\\\":\\\"index\\\",\\\"scope\\\":\\\"15771009892842367284\\\",\\\"id\\\":\\\"12334155192482228452\\\",\\\"type\\\":\\\"observable\\\"})};\\n    var self = this;\\n    function AppViewModel() {\\n        for (var key in json_data) {\\n            var el = json_data[key];\\n            this[key] = Array.isArray(el) ? ko.observableArray(el) : ko.observable(el);\\n        }\\n        \\n        [this[\\\"formatted_val\\\"]=ko.computed(    function(){\\n        return this.formatted_vals()[parseInt(this.index())-(1)];\\n    }\\n,this)]\\n        [this[\\\"changes\\\"].subscribe((function (val){!(this.valueFromJulia[\\\"changes\\\"]) ? (WebIO.setval({\\\"name\\\":\\\"changes\\\",\\\"scope\\\":\\\"15771009892842367284\\\",\\\"id\\\":\\\"4312557751269886779\\\",\\\"type\\\":\\\"observable\\\"},val)) : undefined; return this.valueFromJulia[\\\"changes\\\"]=false}),self),this[\\\"index\\\"].subscribe((function (val){!(this.valueFromJulia[\\\"index\\\"]) ? (WebIO.setval({\\\"name\\\":\\\"index\\\",\\\"scope\\\":\\\"15771009892842367284\\\",\\\"id\\\":\\\"12334155192482228452\\\",\\\"type\\\":\\\"observable\\\"},val)) : undefined; return this.valueFromJulia[\\\"index\\\"]=false}),self)]\\n        \\n    }\\n    self.model = new AppViewModel();\\n    self.valueFromJulia = {};\\n    for (var key in json_data) {\\n        self.valueFromJulia[key] = false;\\n    }\\n    ko.applyBindings(self.model, self.dom);\\n}\\n);\\n    (WebIO.importBlock({\\\"data\\\":[{\\\"name\\\":\\\"knockout\\\",\\\"type\\\":\\\"js\\\",\\\"url\\\":\\\"/assetserver/727383f2a47bd31570b7da84eee7b022dd6d7c78-knockout.js\\\"},{\\\"name\\\":\\\"knockout_punches\\\",\\\"type\\\":\\\"js\\\",\\\"url\\\":\\\"/assetserver/382b41b3b1bd9f26f75861d360bad7f8beea211f-knockout_punches.js\\\"}],\\\"type\\\":\\\"async_block\\\"})).then((imports) => handler.apply(this, imports));\\n}\\n\")])], Dict{Symbol, Any}(:className => \"field interact-widget\")), WebIO.Node{WebIO.DOM}(WebIO.DOM(:html, :div), Any[WebIO.Scope(WebIO.Node{WebIO.DOM}(WebIO.DOM(:html, :div), Any[WebIO.Node{WebIO.DOM}(WebIO.DOM(:html, :div), Any[WebIO.Node{WebIO.DOM}(WebIO.DOM(:html, :label), Any[\"scale\"], Dict{Symbol, Any}(:className => \"interact \", :style => Dict{Any, Any}(:padding => \"5px 10px 0px 10px\")))], Dict{Symbol, Any}(:className => \"interact-flex-row-left\")), WebIO.Node{WebIO.DOM}(WebIO.DOM(:html, :div), Any[WebIO.Node{WebIO.DOM}(WebIO.DOM(:html, :input), Any[], Dict{Symbol, Any}(:max => 20, :min => 1, :attributes => Dict{Any, Any}(:type => \"range\", Symbol(\"data-bind\") => \"numericValue: index, valueUpdate: 'input', event: {change: function (){this.changes(this.changes()+1)}}\", \"orient\" => \"horizontal\"), :step => 1, :className => \"slider slider is-fullwidth\", :style => Dict{Any, Any}()))], Dict{Symbol, Any}(:className => \"interact-flex-row-center\")), WebIO.Node{WebIO.DOM}(WebIO.DOM(:html, :div), Any[WebIO.Node{WebIO.DOM}(WebIO.DOM(:html, :p), Any[], Dict{Symbol, Any}(:attributes => Dict(\"data-bind\" => \"text: formatted_val\")))], Dict{Symbol, Any}(:className => \"interact-flex-row-right\"))], Dict{Symbol, Any}(:className => \"interact-flex-row interact-widget\")), Dict{String, Tuple{Observables.AbstractObservable, Union{Nothing, Bool}}}(\"changes\" => (Observable(0), nothing), \"index\" => (Observable{Any}(10), nothing)), Set{String}(), nothing, WebIO.Asset[WebIO.Asset(\"js\", \"knockout\", \"/home/dushya/.julia/packages/Knockout/HReiN/src/../assets/knockout.js\"), WebIO.Asset(\"js\", \"knockout_punches\", \"/home/dushya/.julia/packages/Knockout/HReiN/src/../assets/knockout_punches.js\"), WebIO.Asset(\"js\", nothing, \"/home/dushya/.julia/packages/InteractBase/LJXv3/src/../assets/all.js\"), WebIO.Asset(\"css\", nothing, \"/home/dushya/.julia/packages/InteractBase/LJXv3/src/../assets/style.css\"), WebIO.Asset(\"css\", nothing, \"/home/dushya/.julia/packages/Interact/PENUy/src/../assets/bulma_confined.min.css\")], Dict{Any, Any}(\"changes\" => Any[WebIO.JSString(\"(function (val){return (val!=this.model[\\\"changes\\\"]()) ? (this.valueFromJulia[\\\"changes\\\"]=true, this.model[\\\"changes\\\"](val)) : undefined})\")], \"index\" => Any[WebIO.JSString(\"(function (val){return (val!=this.model[\\\"index\\\"]()) ? (this.valueFromJulia[\\\"index\\\"]=true, this.model[\\\"index\\\"](val)) : undefined})\")]), WebIO.ConnectionPool(Channel{Any}(32), Set{WebIO.AbstractConnection}(), Base.GenericCondition{ReentrantLock}(Base.IntrusiveLinkedList{Task}(Task (runnable) @0x00007fca72dccc90, Task (runnable) @0x00007fca72dccc90), ReentrantLock(nothing, 0x00000000, 0x00, Base.GenericCondition{Base.Threads.SpinLock}(Base.IntrusiveLinkedList{Task}(nothing, nothing), Base.Threads.SpinLock(0)), (0, 0, 0)))), WebIO.JSString[WebIO.JSString(\"function () {\\n    var handler = (function (ko, koPunches) {\\n    ko.punches.enableAll();\\n    ko.bindingHandlers.numericValue = {\\n        init: function(element, valueAccessor, allBindings, data, context) {\\n            var stringified = ko.observable(ko.unwrap(valueAccessor()));\\n            stringified.subscribe(function(value) {\\n                var val = parseFloat(value);\\n                if (!isNaN(val)) {\\n                    valueAccessor()(val);\\n                }\\n            });\\n            valueAccessor().subscribe(function(value) {\\n                var str = JSON.stringify(value);\\n                if ((str == \\\"0\\\") && ([\\\"-0\\\", \\\"-0.\\\"].indexOf(stringified()) >= 0))\\n                     return;\\n                 if ([\\\"null\\\", \\\"\\\"].indexOf(str) >= 0)\\n                     return;\\n                stringified(str);\\n            });\\n            ko.applyBindingsToNode(\\n                element,\\n                {\\n                    value: stringified,\\n                    valueUpdate: allBindings.get('valueUpdate'),\\n                },\\n                context,\\n            );\\n        }\\n    };\\n    var json_data = {\\\"formatted_vals\\\":[\\\"0.1\\\",\\\"0.2\\\",\\\"0.3\\\",\\\"0.4\\\",\\\"0.5\\\",\\\"0.6\\\",\\\"0.7\\\",\\\"0.8\\\",\\\"0.9\\\",\\\"1.0\\\",\\\"1.1\\\",\\\"1.2\\\",\\\"1.3\\\",\\\"1.4\\\",\\\"1.5\\\",\\\"1.6\\\",\\\"1.7\\\",\\\"1.8\\\",\\\"1.9\\\",\\\"2.0\\\"],\\\"changes\\\":WebIO.getval({\\\"name\\\":\\\"changes\\\",\\\"scope\\\":\\\"2658007861982573030\\\",\\\"id\\\":\\\"13897628021511617152\\\",\\\"type\\\":\\\"observable\\\"}),\\\"index\\\":WebIO.getval({\\\"name\\\":\\\"index\\\",\\\"scope\\\":\\\"2658007861982573030\\\",\\\"id\\\":\\\"6513116877381977562\\\",\\\"type\\\":\\\"observable\\\"})};\\n    var self = this;\\n    function AppViewModel() {\\n        for (var key in json_data) {\\n            var el = json_data[key];\\n            this[key] = Array.isArray(el) ? ko.observableArray(el) : ko.observable(el);\\n        }\\n        \\n        [this[\\\"formatted_val\\\"]=ko.computed(    function(){\\n        return this.formatted_vals()[parseInt(this.index())-(1)];\\n    }\\n,this)]\\n        [this[\\\"changes\\\"].subscribe((function (val){!(this.valueFromJulia[\\\"changes\\\"]) ? (WebIO.setval({\\\"name\\\":\\\"changes\\\",\\\"scope\\\":\\\"2658007861982573030\\\",\\\"id\\\":\\\"13897628021511617152\\\",\\\"type\\\":\\\"observable\\\"},val)) : undefined; return this.valueFromJulia[\\\"changes\\\"]=false}),self),this[\\\"index\\\"].subscribe((function (val){!(this.valueFromJulia[\\\"index\\\"]) ? (WebIO.setval({\\\"name\\\":\\\"index\\\",\\\"scope\\\":\\\"2658007861982573030\\\",\\\"id\\\":\\\"6513116877381977562\\\",\\\"type\\\":\\\"observable\\\"},val)) : undefined; return this.valueFromJulia[\\\"index\\\"]=false}),self)]\\n        \\n    }\\n    self.model = new AppViewModel();\\n    self.valueFromJulia = {};\\n    for (var key in json_data) {\\n        self.valueFromJulia[key] = false;\\n    }\\n    ko.applyBindings(self.model, self.dom);\\n}\\n);\\n    (WebIO.importBlock({\\\"data\\\":[{\\\"name\\\":\\\"knockout\\\",\\\"type\\\":\\\"js\\\",\\\"url\\\":\\\"/assetserver/727383f2a47bd31570b7da84eee7b022dd6d7c78-knockout.js\\\"},{\\\"name\\\":\\\"knockout_punches\\\",\\\"type\\\":\\\"js\\\",\\\"url\\\":\\\"/assetserver/382b41b3b1bd9f26f75861d360bad7f8beea211f-knockout_punches.js\\\"}],\\\"type\\\":\\\"async_block\\\"})).then((imports) => handler.apply(this, imports));\\n}\\n\")])], Dict{Symbol, Any}(:className => \"field interact-widget\")), WebIO.Node{WebIO.DOM}(WebIO.DOM(:html, :div), Any[WebIO.Node{WebIO.DOM}(WebIO.DOM(:html, :div), Any[WebIO.Scope(WebIO.Node{WebIO.DOM}(WebIO.DOM(:html, :div), Any[], Dict{Symbol, Any}(:id => \"container\")), Dict{String, Tuple{Observables.AbstractObservable, Union{Nothing, Bool}}}(\"value\" => (Observable(\"\\\\;\\\\;\"), nothing)), Set{String}(), nothing, WebIO.Asset[WebIO.Asset(\"js\", nothing, \"/home/dushya/.julia/packages/InteractBase/LJXv3/src/../assets/katex.min.js\"), WebIO.Asset(\"css\", nothing, \"/home/dushya/.julia/packages/InteractBase/LJXv3/src/../assets/katex.min.css\")], Dict{Any, Any}(\"value\" => Any[WebIO.JSString(\"(function (txt){return this.k.render(txt,this.container)})\")]), WebIO.ConnectionPool(Channel{Any}(32), Set{WebIO.AbstractConnection}(), Base.GenericCondition{ReentrantLock}(Base.IntrusiveLinkedList{Task}(Task (runnable) @0x00007fcae618cb00, Task (runnable) @0x00007fcae618cb00), ReentrantLock(nothing, 0x00000000, 0x00, Base.GenericCondition{Base.Threads.SpinLock}(Base.IntrusiveLinkedList{Task}(nothing, nothing), Base.Threads.SpinLock(0)), (0, 140508341866240, 140507506299344)))), WebIO.JSString[WebIO.JSString(\"function () {\\n    var handler = ((function (k){this.k=k; this.container=this.dom.querySelector(\\\"#container\\\"); return k.render(\\\"\\\\\\\\;\\\\\\\\;\\\",this.container)}));\\n    (WebIO.importBlock({\\\"data\\\":[{\\\"name\\\":null,\\\"type\\\":\\\"js\\\",\\\"url\\\":\\\"/assetserver/dd22ed1bf1896c2748f3fe616ce0b838adc895c1-katex.min.js\\\"},{\\\"name\\\":null,\\\"type\\\":\\\"css\\\",\\\"url\\\":\\\"/assetserver/46517a424aa5e6cffc1360d7e0848b601c584ee3-katex.min.css\\\"}],\\\"type\\\":\\\"async_block\\\"})).then((imports) => handler.apply(this, imports));\\n}\\n\")])], Dict{Symbol, Any}(:className => \"interact-widget\")), WebIO.Node{WebIO.DOM}(WebIO.DOM(:html, :div), Any[WebIO.Scope(WebIO.Node{WebIO.DOM}(WebIO.DOM(:html, :button), Any[\"run\"], Dict{Symbol, Any}(:attributes => Dict{Any, Any}(\"data-bind\" => \"click: function (){this.clicks(this.clicks()+1)}, css: {'is-loading' : loading}\"), :className => \"is-medium button is-primary\", :style => Dict{String, Any}())), Dict{String, Tuple{Observables.AbstractObservable, Union{Nothing, Bool}}}(\"loading\" => (Observable(false), nothing), \"clicks\" => (Observable(0), nothing)), Set{String}(), nothing, WebIO.Asset[WebIO.Asset(\"js\", \"knockout\", \"/home/dushya/.julia/packages/Knockout/HReiN/src/../assets/knockout.js\"), WebIO.Asset(\"js\", \"knockout_punches\", \"/home/dushya/.julia/packages/Knockout/HReiN/src/../assets/knockout_punches.js\"), WebIO.Asset(\"js\", nothing, \"/home/dushya/.julia/packages/InteractBase/LJXv3/src/../assets/all.js\"), WebIO.Asset(\"css\", nothing, \"/home/dushya/.julia/packages/InteractBase/LJXv3/src/../assets/style.css\"), WebIO.Asset(\"css\", nothing, \"/home/dushya/.julia/packages/Interact/PENUy/src/../assets/bulma_confined.min.css\")], Dict{Any, Any}(\"loading\" => Any[WebIO.JSString(\"(function (val){return (val!=this.model[\\\"loading\\\"]()) ? (this.valueFromJulia[\\\"loading\\\"]=true, this.model[\\\"loading\\\"](val)) : undefined})\")], \"clicks\" => Any[WebIO.JSString(\"(function (val){return (val!=this.model[\\\"clicks\\\"]()) ? (this.valueFromJulia[\\\"clicks\\\"]=true, this.model[\\\"clicks\\\"](val)) : undefined})\")]), WebIO.ConnectionPool(Channel{Any}(32), Set{WebIO.AbstractConnection}(), Base.GenericCondition{ReentrantLock}(Base.IntrusiveLinkedList{Task}(Task (runnable) @0x00007fcae3da6d60, Task (runnable) @0x00007fcae3da6d60), ReentrantLock(nothing, 0x00000000, 0x00, Base.GenericCondition{Base.Threads.SpinLock}(Base.IntrusiveLinkedList{Task}(nothing, nothing), Base.Threads.SpinLock(0)), (0, 140507503994928, 140509211363424)))), WebIO.JSString[WebIO.JSString(\"function () {\\n    var handler = (function (ko, koPunches) {\\n    ko.punches.enableAll();\\n    ko.bindingHandlers.numericValue = {\\n        init: function(element, valueAccessor, allBindings, data, context) {\\n            var stringified = ko.observable(ko.unwrap(valueAccessor()));\\n            stringified.subscribe(function(value) {\\n                var val = parseFloat(value);\\n                if (!isNaN(val)) {\\n                    valueAccessor()(val);\\n                }\\n            });\\n            valueAccessor().subscribe(function(value) {\\n                var str = JSON.stringify(value);\\n                if ((str == \\\"0\\\") && ([\\\"-0\\\", \\\"-0.\\\"].indexOf(stringified()) >= 0))\\n                     return;\\n                 if ([\\\"null\\\", \\\"\\\"].indexOf(str) >= 0)\\n                     return;\\n                stringified(str);\\n            });\\n            ko.applyBindingsToNode(\\n                element,\\n                {\\n                    value: stringified,\\n                    valueUpdate: allBindings.get('valueUpdate'),\\n                },\\n                context,\\n            );\\n        }\\n    };\\n    var json_data = {\\\"loading\\\":WebIO.getval({\\\"name\\\":\\\"loading\\\",\\\"scope\\\":\\\"17227485491019022415\\\",\\\"id\\\":\\\"1131414044201588168\\\",\\\"type\\\":\\\"observable\\\"}),\\\"clicks\\\":WebIO.getval({\\\"name\\\":\\\"clicks\\\",\\\"scope\\\":\\\"17227485491019022415\\\",\\\"id\\\":\\\"6367120021145492802\\\",\\\"type\\\":\\\"observable\\\"})};\\n    var self = this;\\n    function AppViewModel() {\\n        for (var key in json_data) {\\n            var el = json_data[key];\\n            this[key] = Array.isArray(el) ? ko.observableArray(el) : ko.observable(el);\\n        }\\n        \\n        \\n        [this[\\\"loading\\\"].subscribe((function (val){!(this.valueFromJulia[\\\"loading\\\"]) ? (WebIO.setval({\\\"name\\\":\\\"loading\\\",\\\"scope\\\":\\\"17227485491019022415\\\",\\\"id\\\":\\\"1131414044201588168\\\",\\\"type\\\":\\\"observable\\\"},val)) : undefined; return this.valueFromJulia[\\\"loading\\\"]=false}),self),this[\\\"clicks\\\"].subscribe((function (val){!(this.valueFromJulia[\\\"clicks\\\"]) ? (WebIO.setval({\\\"name\\\":\\\"clicks\\\",\\\"scope\\\":\\\"17227485491019022415\\\",\\\"id\\\":\\\"6367120021145492802\\\",\\\"type\\\":\\\"observable\\\"},val)) : undefined; return this.valueFromJulia[\\\"clicks\\\"]=false}),self)]\\n        \\n    }\\n    self.model = new AppViewModel();\\n    self.valueFromJulia = {};\\n    for (var key in json_data) {\\n        self.valueFromJulia[key] = false;\\n    }\\n    ko.applyBindings(self.model, self.dom);\\n}\\n);\\n    (WebIO.importBlock({\\\"data\\\":[{\\\"name\\\":\\\"knockout\\\",\\\"type\\\":\\\"js\\\",\\\"url\\\":\\\"/assetserver/727383f2a47bd31570b7da84eee7b022dd6d7c78-knockout.js\\\"},{\\\"name\\\":\\\"knockout_punches\\\",\\\"type\\\":\\\"js\\\",\\\"url\\\":\\\"/assetserver/382b41b3b1bd9f26f75861d360bad7f8beea211f-knockout_punches.js\\\"}],\\\"type\\\":\\\"async_block\\\"})).then((imports) => handler.apply(this, imports));\\n}\\n\")])], Dict{Symbol, Any}(:className => \"field interact-widget\")), WebIO.Node{WebIO.DOM}(WebIO.DOM(:html, :div), Any[WebIO.Scope(WebIO.Node{WebIO.DOM}(WebIO.DOM(:html, :div), Any[], Dict{Symbol, Any}(:id => \"container\")), Dict{String, Tuple{Observables.AbstractObservable, Union{Nothing, Bool}}}(\"value\" => (Observable(\"\\\\;\\\\;\"), nothing)), Set{String}(), nothing, WebIO.Asset[WebIO.Asset(\"js\", nothing, \"/home/dushya/.julia/packages/InteractBase/LJXv3/src/../assets/katex.min.js\"), WebIO.Asset(\"css\", nothing, \"/home/dushya/.julia/packages/InteractBase/LJXv3/src/../assets/katex.min.css\")], Dict{Any, Any}(\"value\" => Any[WebIO.JSString(\"(function (txt){return this.k.render(txt,this.container)})\")]), WebIO.ConnectionPool(Channel{Any}(32), Set{WebIO.AbstractConnection}(), Base.GenericCondition{ReentrantLock}(Base.IntrusiveLinkedList{Task}(Task (runnable) @0x00007fcae618cb00, Task (runnable) @0x00007fcae618cb00), ReentrantLock(nothing, 0x00000000, 0x00, Base.GenericCondition{Base.Threads.SpinLock}(Base.IntrusiveLinkedList{Task}(nothing, nothing), Base.Threads.SpinLock(0)), (0, 140508341866240, 140507506299344)))), WebIO.JSString[WebIO.JSString(\"function () {\\n    var handler = ((function (k){this.k=k; this.container=this.dom.querySelector(\\\"#container\\\"); return k.render(\\\"\\\\\\\\;\\\\\\\\;\\\",this.container)}));\\n    (WebIO.importBlock({\\\"data\\\":[{\\\"name\\\":null,\\\"type\\\":\\\"js\\\",\\\"url\\\":\\\"/assetserver/dd22ed1bf1896c2748f3fe616ce0b838adc895c1-katex.min.js\\\"},{\\\"name\\\":null,\\\"type\\\":\\\"css\\\",\\\"url\\\":\\\"/assetserver/46517a424aa5e6cffc1360d7e0848b601c584ee3-katex.min.css\\\"}],\\\"type\\\":\\\"async_block\\\"})).then((imports) => handler.apply(this, imports));\\n}\\n\")])], Dict{Symbol, Any}(:className => \"interact-widget\")), WebIO.Node{WebIO.DOM}(WebIO.DOM(:html, :div), Any[WebIO.Scope(WebIO.Node{WebIO.DOM}(WebIO.DOM(:html, :button), Any[\"stop\"], Dict{Symbol, Any}(:attributes => Dict{Any, Any}(\"data-bind\" => \"click: function (){this.clicks(this.clicks()+1)}, css: {'is-loading' : loading}\"), :className => \"is-medium button is-primary\", :style => Dict{String, Any}())), Dict{String, Tuple{Observables.AbstractObservable, Union{Nothing, Bool}}}(\"loading\" => (Observable(false), nothing), \"clicks\" => (Observable(0), nothing)), Set{String}(), nothing, WebIO.Asset[WebIO.Asset(\"js\", \"knockout\", \"/home/dushya/.julia/packages/Knockout/HReiN/src/../assets/knockout.js\"), WebIO.Asset(\"js\", \"knockout_punches\", \"/home/dushya/.julia/packages/Knockout/HReiN/src/../assets/knockout_punches.js\"), WebIO.Asset(\"js\", nothing, \"/home/dushya/.julia/packages/InteractBase/LJXv3/src/../assets/all.js\"), WebIO.Asset(\"css\", nothing, \"/home/dushya/.julia/packages/InteractBase/LJXv3/src/../assets/style.css\"), WebIO.Asset(\"css\", nothing, \"/home/dushya/.julia/packages/Interact/PENUy/src/../assets/bulma_confined.min.css\")], Dict{Any, Any}(\"loading\" => Any[WebIO.JSString(\"(function (val){return (val!=this.model[\\\"loading\\\"]()) ? (this.valueFromJulia[\\\"loading\\\"]=true, this.model[\\\"loading\\\"](val)) : undefined})\")], \"clicks\" => Any[WebIO.JSString(\"(function (val){return (val!=this.model[\\\"clicks\\\"]()) ? (this.valueFromJulia[\\\"clicks\\\"]=true, this.model[\\\"clicks\\\"](val)) : undefined})\")]), WebIO.ConnectionPool(Channel{Any}(32), Set{WebIO.AbstractConnection}(), Base.GenericCondition{ReentrantLock}(Base.IntrusiveLinkedList{Task}(Task (runnable) @0x00007fcae506e270, Task (runnable) @0x00007fcae506e270), ReentrantLock(nothing, 0x00000000, 0x00, Base.GenericCondition{Base.Threads.SpinLock}(Base.IntrusiveLinkedList{Task}(nothing, nothing), Base.Threads.SpinLock(0)), (3, 526344, 141733920768)))), WebIO.JSString[WebIO.JSString(\"function () {\\n    var handler = (function (ko, koPunches) {\\n    ko.punches.enableAll();\\n    ko.bindingHandlers.numericValue = {\\n        init: function(element, valueAccessor, allBindings, data, context) {\\n            var stringified = ko.observable(ko.unwrap(valueAccessor()));\\n            stringified.subscribe(function(value) {\\n                var val = parseFloat(value);\\n                if (!isNaN(val)) {\\n                    valueAccessor()(val);\\n                }\\n            });\\n            valueAccessor().subscribe(function(value) {\\n                var str = JSON.stringify(value);\\n                if ((str == \\\"0\\\") && ([\\\"-0\\\", \\\"-0.\\\"].indexOf(stringified()) >= 0))\\n                     return;\\n                 if ([\\\"null\\\", \\\"\\\"].indexOf(str) >= 0)\\n                     return;\\n                stringified(str);\\n            });\\n            ko.applyBindingsToNode(\\n                element,\\n                {\\n                    value: stringified,\\n                    valueUpdate: allBindings.get('valueUpdate'),\\n                },\\n                context,\\n            );\\n        }\\n    };\\n    var json_data = {\\\"loading\\\":WebIO.getval({\\\"name\\\":\\\"loading\\\",\\\"scope\\\":\\\"2450587679640953909\\\",\\\"id\\\":\\\"7733312188230401787\\\",\\\"type\\\":\\\"observable\\\"}),\\\"clicks\\\":WebIO.getval({\\\"name\\\":\\\"clicks\\\",\\\"scope\\\":\\\"2450587679640953909\\\",\\\"id\\\":\\\"13569054165056762889\\\",\\\"type\\\":\\\"observable\\\"})};\\n    var self = this;\\n    function AppViewModel() {\\n        for (var key in json_data) {\\n            var el = json_data[key];\\n            this[key] = Array.isArray(el) ? ko.observableArray(el) : ko.observable(el);\\n        }\\n        \\n        \\n        [this[\\\"loading\\\"].subscribe((function (val){!(this.valueFromJulia[\\\"loading\\\"]) ? (WebIO.setval({\\\"name\\\":\\\"loading\\\",\\\"scope\\\":\\\"2450587679640953909\\\",\\\"id\\\":\\\"7733312188230401787\\\",\\\"type\\\":\\\"observable\\\"},val)) : undefined; return this.valueFromJulia[\\\"loading\\\"]=false}),self),this[\\\"clicks\\\"].subscribe((function (val){!(this.valueFromJulia[\\\"clicks\\\"]) ? (WebIO.setval({\\\"name\\\":\\\"clicks\\\",\\\"scope\\\":\\\"2450587679640953909\\\",\\\"id\\\":\\\"13569054165056762889\\\",\\\"type\\\":\\\"observable\\\"},val)) : undefined; return this.valueFromJulia[\\\"clicks\\\"]=false}),self)]\\n        \\n    }\\n    self.model = new AppViewModel();\\n    self.valueFromJulia = {};\\n    for (var key in json_data) {\\n        self.valueFromJulia[key] = false;\\n    }\\n    ko.applyBindings(self.model, self.dom);\\n}\\n);\\n    (WebIO.importBlock({\\\"data\\\":[{\\\"name\\\":\\\"knockout\\\",\\\"type\\\":\\\"js\\\",\\\"url\\\":\\\"/assetserver/727383f2a47bd31570b7da84eee7b022dd6d7c78-knockout.js\\\"},{\\\"name\\\":\\\"knockout_punches\\\",\\\"type\\\":\\\"js\\\",\\\"url\\\":\\\"/assetserver/382b41b3b1bd9f26f75861d360bad7f8beea211f-knockout_punches.js\\\"}],\\\"type\\\":\\\"async_block\\\"})).then((imports) => handler.apply(this, imports));\\n}\\n\")])], Dict{Symbol, Any}(:className => \"field interact-widget\")), WebIO.Node{WebIO.DOM}(WebIO.DOM(:html, :div), Any[WebIO.Scope(WebIO.Node{WebIO.DOM}(WebIO.DOM(:html, :div), Any[], Dict{Symbol, Any}(:id => \"container\")), Dict{String, Tuple{Observables.AbstractObservable, Union{Nothing, Bool}}}(\"value\" => (Observable(\"\\\\;\\\\;\"), nothing)), Set{String}(), nothing, WebIO.Asset[WebIO.Asset(\"js\", nothing, \"/home/dushya/.julia/packages/InteractBase/LJXv3/src/../assets/katex.min.js\"), WebIO.Asset(\"css\", nothing, \"/home/dushya/.julia/packages/InteractBase/LJXv3/src/../assets/katex.min.css\")], Dict{Any, Any}(\"value\" => Any[WebIO.JSString(\"(function (txt){return this.k.render(txt,this.container)})\")]), WebIO.ConnectionPool(Channel{Any}(32), Set{WebIO.AbstractConnection}(), Base.GenericCondition{ReentrantLock}(Base.IntrusiveLinkedList{Task}(Task (runnable) @0x00007fcae618cb00, Task (runnable) @0x00007fcae618cb00), ReentrantLock(nothing, 0x00000000, 0x00, Base.GenericCondition{Base.Threads.SpinLock}(Base.IntrusiveLinkedList{Task}(nothing, nothing), Base.Threads.SpinLock(0)), (0, 140508341866240, 140507506299344)))), WebIO.JSString[WebIO.JSString(\"function () {\\n    var handler = ((function (k){this.k=k; this.container=this.dom.querySelector(\\\"#container\\\"); return k.render(\\\"\\\\\\\\;\\\\\\\\;\\\",this.container)}));\\n    (WebIO.importBlock({\\\"data\\\":[{\\\"name\\\":null,\\\"type\\\":\\\"js\\\",\\\"url\\\":\\\"/assetserver/dd22ed1bf1896c2748f3fe616ce0b838adc895c1-katex.min.js\\\"},{\\\"name\\\":null,\\\"type\\\":\\\"css\\\",\\\"url\\\":\\\"/assetserver/46517a424aa5e6cffc1360d7e0848b601c584ee3-katex.min.css\\\"}],\\\"type\\\":\\\"async_block\\\"})).then((imports) => handler.apply(this, imports));\\n}\\n\")])], Dict{Symbol, Any}(:className => \"interact-widget\")), WebIO.Node{WebIO.DOM}(WebIO.DOM(:html, :div), Any[WebIO.Scope(WebIO.Node{WebIO.DOM}(WebIO.DOM(:html, :button), Any[\"save\"], Dict{Symbol, Any}(:attributes => Dict{Any, Any}(\"data-bind\" => \"click: function (){this.clicks(this.clicks()+1)}, css: {'is-loading' : loading}\"), :className => \"is-medium button is-primary\", :style => Dict{String, Any}())), Dict{String, Tuple{Observables.AbstractObservable, Union{Nothing, Bool}}}(\"loading\" => (Observable(false), nothing), \"clicks\" => (Observable(0), nothing)), Set{String}(), nothing, WebIO.Asset[WebIO.Asset(\"js\", \"knockout\", \"/home/dushya/.julia/packages/Knockout/HReiN/src/../assets/knockout.js\"), WebIO.Asset(\"js\", \"knockout_punches\", \"/home/dushya/.julia/packages/Knockout/HReiN/src/../assets/knockout_punches.js\"), WebIO.Asset(\"js\", nothing, \"/home/dushya/.julia/packages/InteractBase/LJXv3/src/../assets/all.js\"), WebIO.Asset(\"css\", nothing, \"/home/dushya/.julia/packages/InteractBase/LJXv3/src/../assets/style.css\"), WebIO.Asset(\"css\", nothing, \"/home/dushya/.julia/packages/Interact/PENUy/src/../assets/bulma_confined.min.css\")], Dict{Any, Any}(\"loading\" => Any[WebIO.JSString(\"(function (val){return (val!=this.model[\\\"loading\\\"]()) ? (this.valueFromJulia[\\\"loading\\\"]=true, this.model[\\\"loading\\\"](val)) : undefined})\")], \"clicks\" => Any[WebIO.JSString(\"(function (val){return (val!=this.model[\\\"clicks\\\"]()) ? (this.valueFromJulia[\\\"clicks\\\"]=true, this.model[\\\"clicks\\\"](val)) : undefined})\")]), WebIO.ConnectionPool(Channel{Any}(32), Set{WebIO.AbstractConnection}(), Base.GenericCondition{ReentrantLock}(Base.IntrusiveLinkedList{Task}(Task (runnable) @0x00007fcae51b95f0, Task (runnable) @0x00007fcae51b95f0), ReentrantLock(nothing, 0x00000000, 0x00, Base.GenericCondition{Base.Threads.SpinLock}(Base.IntrusiveLinkedList{Task}(nothing, nothing), Base.Threads.SpinLock(0)), (8, 0, 141733920768)))), WebIO.JSString[WebIO.JSString(\"function () {\\n    var handler = (function (ko, koPunches) {\\n    ko.punches.enableAll();\\n    ko.bindingHandlers.numericValue = {\\n        init: function(element, valueAccessor, allBindings, data, context) {\\n            var stringified = ko.observable(ko.unwrap(valueAccessor()));\\n            stringified.subscribe(function(value) {\\n                var val = parseFloat(value);\\n                if (!isNaN(val)) {\\n                    valueAccessor()(val);\\n                }\\n            });\\n            valueAccessor().subscribe(function(value) {\\n                var str = JSON.stringify(value);\\n                if ((str == \\\"0\\\") && ([\\\"-0\\\", \\\"-0.\\\"].indexOf(stringified()) >= 0))\\n                     return;\\n                 if ([\\\"null\\\", \\\"\\\"].indexOf(str) >= 0)\\n                     return;\\n                stringified(str);\\n            });\\n            ko.applyBindingsToNode(\\n                element,\\n                {\\n                    value: stringified,\\n                    valueUpdate: allBindings.get('valueUpdate'),\\n                },\\n                context,\\n            );\\n        }\\n    };\\n    var json_data = {\\\"loading\\\":WebIO.getval({\\\"name\\\":\\\"loading\\\",\\\"scope\\\":\\\"5711947260302873897\\\",\\\"id\\\":\\\"1761520194584578445\\\",\\\"type\\\":\\\"observable\\\"}),\\\"clicks\\\":WebIO.getval({\\\"name\\\":\\\"clicks\\\",\\\"scope\\\":\\\"5711947260302873897\\\",\\\"id\\\":\\\"7599468008633827936\\\",\\\"type\\\":\\\"observable\\\"})};\\n    var self = this;\\n    function AppViewModel() {\\n        for (var key in json_data) {\\n            var el = json_data[key];\\n            this[key] = Array.isArray(el) ? ko.observableArray(el) : ko.observable(el);\\n        }\\n        \\n        \\n        [this[\\\"loading\\\"].subscribe((function (val){!(this.valueFromJulia[\\\"loading\\\"]) ? (WebIO.setval({\\\"name\\\":\\\"loading\\\",\\\"scope\\\":\\\"5711947260302873897\\\",\\\"id\\\":\\\"1761520194584578445\\\",\\\"type\\\":\\\"observable\\\"},val)) : undefined; return this.valueFromJulia[\\\"loading\\\"]=false}),self),this[\\\"clicks\\\"].subscribe((function (val){!(this.valueFromJulia[\\\"clicks\\\"]) ? (WebIO.setval({\\\"name\\\":\\\"clicks\\\",\\\"scope\\\":\\\"5711947260302873897\\\",\\\"id\\\":\\\"7599468008633827936\\\",\\\"type\\\":\\\"observable\\\"},val)) : undefined; return this.valueFromJulia[\\\"clicks\\\"]=false}),self)]\\n        \\n    }\\n    self.model = new AppViewModel();\\n    self.valueFromJulia = {};\\n    for (var key in json_data) {\\n        self.valueFromJulia[key] = false;\\n    }\\n    ko.applyBindings(self.model, self.dom);\\n}\\n);\\n    (WebIO.importBlock({\\\"data\\\":[{\\\"name\\\":\\\"knockout\\\",\\\"type\\\":\\\"js\\\",\\\"url\\\":\\\"/assetserver/727383f2a47bd31570b7da84eee7b022dd6d7c78-knockout.js\\\"},{\\\"name\\\":\\\"knockout_punches\\\",\\\"type\\\":\\\"js\\\",\\\"url\\\":\\\"/assetserver/382b41b3b1bd9f26f75861d360bad7f8beea211f-knockout_punches.js\\\"}],\\\"type\\\":\\\"async_block\\\"})).then((imports) => handler.apply(this, imports));\\n}\\n\")])], Dict{Symbol, Any}(:className => \"field interact-widget\"))], Dict{Symbol, Any}(:style => Dict(\"display\" => \"flex\", \"flex-direction\" => \"row\")))], Dict{Symbol, Any}(:style => Dict(\"display\" => \"flex\", \"flex-direction\" => \"column\"))), WebIO.Node{WebIO.DOM}(WebIO.DOM(:html, :div), Any[WebIO.Scope(WebIO.Node{WebIO.DOM}(WebIO.DOM(:html, :div), Any[], Dict{Symbol, Any}(:id => \"container\")), Dict{String, Tuple{Observables.AbstractObservable, Union{Nothing, Bool}}}(\"value\" => (Observable(\"\\\\;\\\\;\"), nothing)), Set{String}(), nothing, WebIO.Asset[WebIO.Asset(\"js\", nothing, \"/home/dushya/.julia/packages/InteractBase/LJXv3/src/../assets/katex.min.js\"), WebIO.Asset(\"css\", nothing, \"/home/dushya/.julia/packages/InteractBase/LJXv3/src/../assets/katex.min.css\")], Dict{Any, Any}(\"value\" => Any[WebIO.JSString(\"(function (txt){return this.k.render(txt,this.container)})\")]), WebIO.ConnectionPool(Channel{Any}(32), Set{WebIO.AbstractConnection}(), Base.GenericCondition{ReentrantLock}(Base.IntrusiveLinkedList{Task}(Task (runnable) @0x00007fcae618cb00, Task (runnable) @0x00007fcae618cb00), ReentrantLock(nothing, 0x00000000, 0x00, Base.GenericCondition{Base.Threads.SpinLock}(Base.IntrusiveLinkedList{Task}(nothing, nothing), Base.Threads.SpinLock(0)), (0, 140508341866240, 140507506299344)))), WebIO.JSString[WebIO.JSString(\"function () {\\n    var handler = ((function (k){this.k=k; this.container=this.dom.querySelector(\\\"#container\\\"); return k.render(\\\"\\\\\\\\;\\\\\\\\;\\\",this.container)}));\\n    (WebIO.importBlock({\\\"data\\\":[{\\\"name\\\":null,\\\"type\\\":\\\"js\\\",\\\"url\\\":\\\"/assetserver/dd22ed1bf1896c2748f3fe616ce0b838adc895c1-katex.min.js\\\"},{\\\"name\\\":null,\\\"type\\\":\\\"css\\\",\\\"url\\\":\\\"/assetserver/46517a424aa5e6cffc1360d7e0848b601c584ee3-katex.min.css\\\"}],\\\"type\\\":\\\"async_block\\\"})).then((imports) => handler.apply(this, imports));\\n}\\n\")])], Dict{Symbol, Any}(:className => \"interact-widget\")), Observable(Luxor.Drawing(430.0, 430.0, \"\", Cairo.CairoSurfaceBase{UInt32}(Ptr{Nothing} @0x0000000000000000, 430.0, 430.0), Cairo.CairoContext(Ptr{Nothing} @0x0000000004b555a0, Cairo.CairoSurfaceBase{UInt32}(Ptr{Nothing} @0x0000000000000000, 430.0, 430.0), Ptr{Nothing} @0x0000000004663010), :png, 0.0, 0.0, 0.0, 1.0, IOBuffer(data=UInt8[...], readable=true, writable=true, seekable=true, append=false, size=13518, maxsize=Inf, ptr=13519, mark=-1), UInt8[0x89, 0x50, 0x4e, 0x47, 0x0d, 0x0a, 0x1a, 0x0a, 0x00, 0x00  …  0x00, 0x00, 0x49, 0x45, 0x4e, 0x44, 0xae, 0x42, 0x60, 0x82], false)), WebIO.Node{WebIO.DOM}(WebIO.DOM(:html, :div), Any[WebIO.Scope(WebIO.Node{WebIO.DOM}(WebIO.DOM(:html, :div), Any[], Dict{Symbol, Any}(:id => \"container\")), Dict{String, Tuple{Observables.AbstractObservable, Union{Nothing, Bool}}}(\"value\" => (Observable(\"\\\\;\\\\;\"), nothing)), Set{String}(), nothing, WebIO.Asset[WebIO.Asset(\"js\", nothing, \"/home/dushya/.julia/packages/InteractBase/LJXv3/src/../assets/katex.min.js\"), WebIO.Asset(\"css\", nothing, \"/home/dushya/.julia/packages/InteractBase/LJXv3/src/../assets/katex.min.css\")], Dict{Any, Any}(\"value\" => Any[WebIO.JSString(\"(function (txt){return this.k.render(txt,this.container)})\")]), WebIO.ConnectionPool(Channel{Any}(32), Set{WebIO.AbstractConnection}(), Base.GenericCondition{ReentrantLock}(Base.IntrusiveLinkedList{Task}(Task (runnable) @0x00007fcae618cb00, Task (runnable) @0x00007fcae618cb00), ReentrantLock(nothing, 0x00000000, 0x00, Base.GenericCondition{Base.Threads.SpinLock}(Base.IntrusiveLinkedList{Task}(nothing, nothing), Base.Threads.SpinLock(0)), (0, 140508341866240, 140507506299344)))), WebIO.JSString[WebIO.JSString(\"function () {\\n    var handler = ((function (k){this.k=k; this.container=this.dom.querySelector(\\\"#container\\\"); return k.render(\\\"\\\\\\\\;\\\\\\\\;\\\",this.container)}));\\n    (WebIO.importBlock({\\\"data\\\":[{\\\"name\\\":null,\\\"type\\\":\\\"js\\\",\\\"url\\\":\\\"/assetserver/dd22ed1bf1896c2748f3fe616ce0b838adc895c1-katex.min.js\\\"},{\\\"name\\\":null,\\\"type\\\":\\\"css\\\",\\\"url\\\":\\\"/assetserver/46517a424aa5e6cffc1360d7e0848b601c584ee3-katex.min.css\\\"}],\\\"type\\\":\\\"async_block\\\"})).then((imports) => handler.apply(this, imports));\\n}\\n\")])], Dict{Symbol, Any}(:className => \"interact-widget\")), WebIO.Node{WebIO.DOM}(WebIO.DOM(:html, :div), Any[], Dict{Symbol, Any}(:style => Dict(\"display\" => \"flex\", \"flex-direction\" => \"column\")))], Dict{Symbol, Any}(:style => Dict(\"display\" => \"flex\", \"flex-direction\" => \"row\")))], Dict{Symbol, Any}(:style => Dict(\"display\" => \"flex\", \"flex-direction\" => \"column\")))"
      ]
     },
     "execution_count": 5,
     "metadata": {
      "application/vnd.webio.node+json": {
       "kernelId": "7d605ae5-60b8-4e0d-8792-ebef37ae371d"
      }
     },
     "output_type": "execute_result"
    }
   ],
   "source": [
    "animate_sim(model, show_grid=true)"
   ]
  },
  {
   "cell_type": "markdown",
   "metadata": {},
   "source": [
    "After defining the `step_rule!` function we can also choose to create an interactive application (which currently works in Jupyter with WebIO installation) as "
   ]
  },
  {
   "cell_type": "code",
   "execution_count": 9,
   "metadata": {},
   "outputs": [
    {
     "data": {
      "application/vnd.webio.node+json": {
       "children": [
        {
         "children": [
          {
           "children": [
            {
             "children": [
              {
               "children": [
                {
                 "children": [
                  {
                   "children": [
                    {
                     "children": [
                      "time"
                     ],
                     "instanceArgs": {
                      "namespace": "html",
                      "tag": "label"
                     },
                     "nodeType": "DOM",
                     "props": {
                      "className": "interact ",
                      "style": {
                       "padding": "5px 10px 0px 10px"
                      }
                     },
                     "type": "node"
                    }
                   ],
                   "instanceArgs": {
                    "namespace": "html",
                    "tag": "div"
                   },
                   "nodeType": "DOM",
                   "props": {
                    "className": "interact-flex-row-left"
                   },
                   "type": "node"
                  },
                  {
                   "children": [
                    {
                     "children": [],
                     "instanceArgs": {
                      "namespace": "html",
                      "tag": "input"
                     },
                     "nodeType": "DOM",
                     "props": {
                      "attributes": {
                       "data-bind": "numericValue: index, valueUpdate: 'input', event: {change: function (){this.changes(this.changes()+1)}}",
                       "orient": "horizontal",
                       "type": "range"
                      },
                      "className": "slider slider is-fullwidth",
                      "max": 200,
                      "min": 1,
                      "step": 1,
                      "style": {}
                     },
                     "type": "node"
                    }
                   ],
                   "instanceArgs": {
                    "namespace": "html",
                    "tag": "div"
                   },
                   "nodeType": "DOM",
                   "props": {
                    "className": "interact-flex-row-center"
                   },
                   "type": "node"
                  },
                  {
                   "children": [
                    {
                     "children": [],
                     "instanceArgs": {
                      "namespace": "html",
                      "tag": "p"
                     },
                     "nodeType": "DOM",
                     "props": {
                      "attributes": {
                       "data-bind": "text: formatted_val"
                      }
                     },
                     "type": "node"
                    }
                   ],
                   "instanceArgs": {
                    "namespace": "html",
                    "tag": "div"
                   },
                   "nodeType": "DOM",
                   "props": {
                    "className": "interact-flex-row-right"
                   },
                   "type": "node"
                  }
                 ],
                 "instanceArgs": {
                  "namespace": "html",
                  "tag": "div"
                 },
                 "nodeType": "DOM",
                 "props": {
                  "className": "interact-flex-row interact-widget"
                 },
                 "type": "node"
                }
               ],
               "instanceArgs": {
                "handlers": {
                 "changes": [
                  "(function (val){return (val!=this.model[\"changes\"]()) ? (this.valueFromJulia[\"changes\"]=true, this.model[\"changes\"](val)) : undefined})"
                 ],
                 "index": [
                  "(function (val){return (val!=this.model[\"index\"]()) ? (this.valueFromJulia[\"index\"]=true, this.model[\"index\"](val)) : undefined})"
                 ]
                },
                "id": "8099187185893901764",
                "imports": {
                 "data": [
                  {
                   "name": "knockout",
                   "type": "js",
                   "url": "/assetserver/727383f2a47bd31570b7da84eee7b022dd6d7c78-knockout.js"
                  },
                  {
                   "name": "knockout_punches",
                   "type": "js",
                   "url": "/assetserver/382b41b3b1bd9f26f75861d360bad7f8beea211f-knockout_punches.js"
                  },
                  {
                   "name": null,
                   "type": "js",
                   "url": "/assetserver/5ab20f1060420992a9b82a65b735dee4d81ef413-all.js"
                  },
                  {
                   "name": null,
                   "type": "css",
                   "url": "/assetserver/1cc0ed62837210b80a182cc3676512f895dab686-style.css"
                  },
                  {
                   "name": null,
                   "type": "css",
                   "url": "/assetserver/2eee816f616df3549d7044d45e744fbf8d42bfa1-bulma_confined.min.css"
                  }
                 ],
                 "type": "async_block"
                },
                "mount_callbacks": [
                 "function () {\n    var handler = (function (ko, koPunches) {\n    ko.punches.enableAll();\n    ko.bindingHandlers.numericValue = {\n        init: function(element, valueAccessor, allBindings, data, context) {\n            var stringified = ko.observable(ko.unwrap(valueAccessor()));\n            stringified.subscribe(function(value) {\n                var val = parseFloat(value);\n                if (!isNaN(val)) {\n                    valueAccessor()(val);\n                }\n            });\n            valueAccessor().subscribe(function(value) {\n                var str = JSON.stringify(value);\n                if ((str == \"0\") && ([\"-0\", \"-0.\"].indexOf(stringified()) >= 0))\n                     return;\n                 if ([\"null\", \"\"].indexOf(str) >= 0)\n                     return;\n                stringified(str);\n            });\n            ko.applyBindingsToNode(\n                element,\n                {\n                    value: stringified,\n                    valueUpdate: allBindings.get('valueUpdate'),\n                },\n                context,\n            );\n        }\n    };\n    var json_data = {\"formatted_vals\":[\"1\",\"2\",\"3\",\"4\",\"5\",\"6\",\"7\",\"8\",\"9\",\"10\",\"11\",\"12\",\"13\",\"14\",\"15\",\"16\",\"17\",\"18\",\"19\",\"20\",\"21\",\"22\",\"23\",\"24\",\"25\",\"26\",\"27\",\"28\",\"29\",\"30\",\"31\",\"32\",\"33\",\"34\",\"35\",\"36\",\"37\",\"38\",\"39\",\"40\",\"41\",\"42\",\"43\",\"44\",\"45\",\"46\",\"47\",\"48\",\"49\",\"50\",\"51\",\"52\",\"53\",\"54\",\"55\",\"56\",\"57\",\"58\",\"59\",\"60\",\"61\",\"62\",\"63\",\"64\",\"65\",\"66\",\"67\",\"68\",\"69\",\"70\",\"71\",\"72\",\"73\",\"74\",\"75\",\"76\",\"77\",\"78\",\"79\",\"80\",\"81\",\"82\",\"83\",\"84\",\"85\",\"86\",\"87\",\"88\",\"89\",\"90\",\"91\",\"92\",\"93\",\"94\",\"95\",\"96\",\"97\",\"98\",\"99\",\"100\",\"101\",\"102\",\"103\",\"104\",\"105\",\"106\",\"107\",\"108\",\"109\",\"110\",\"111\",\"112\",\"113\",\"114\",\"115\",\"116\",\"117\",\"118\",\"119\",\"120\",\"121\",\"122\",\"123\",\"124\",\"125\",\"126\",\"127\",\"128\",\"129\",\"130\",\"131\",\"132\",\"133\",\"134\",\"135\",\"136\",\"137\",\"138\",\"139\",\"140\",\"141\",\"142\",\"143\",\"144\",\"145\",\"146\",\"147\",\"148\",\"149\",\"150\",\"151\",\"152\",\"153\",\"154\",\"155\",\"156\",\"157\",\"158\",\"159\",\"160\",\"161\",\"162\",\"163\",\"164\",\"165\",\"166\",\"167\",\"168\",\"169\",\"170\",\"171\",\"172\",\"173\",\"174\",\"175\",\"176\",\"177\",\"178\",\"179\",\"180\",\"181\",\"182\",\"183\",\"184\",\"185\",\"186\",\"187\",\"188\",\"189\",\"190\",\"191\",\"192\",\"193\",\"194\",\"195\",\"196\",\"197\",\"198\",\"199\",\"200\"],\"changes\":WebIO.getval({\"name\":\"changes\",\"scope\":\"8099187185893901764\",\"id\":\"3285702968357260732\",\"type\":\"observable\"}),\"index\":WebIO.getval({\"name\":\"index\",\"scope\":\"8099187185893901764\",\"id\":\"9977351753393034434\",\"type\":\"observable\"})};\n    var self = this;\n    function AppViewModel() {\n        for (var key in json_data) {\n            var el = json_data[key];\n            this[key] = Array.isArray(el) ? ko.observableArray(el) : ko.observable(el);\n        }\n        \n        [this[\"formatted_val\"]=ko.computed(    function(){\n        return this.formatted_vals()[parseInt(this.index())-(1)];\n    }\n,this)]\n        [this[\"changes\"].subscribe((function (val){!(this.valueFromJulia[\"changes\"]) ? (WebIO.setval({\"name\":\"changes\",\"scope\":\"8099187185893901764\",\"id\":\"3285702968357260732\",\"type\":\"observable\"},val)) : undefined; return this.valueFromJulia[\"changes\"]=false}),self),this[\"index\"].subscribe((function (val){!(this.valueFromJulia[\"index\"]) ? (WebIO.setval({\"name\":\"index\",\"scope\":\"8099187185893901764\",\"id\":\"9977351753393034434\",\"type\":\"observable\"},val)) : undefined; return this.valueFromJulia[\"index\"]=false}),self)]\n        \n    }\n    self.model = new AppViewModel();\n    self.valueFromJulia = {};\n    for (var key in json_data) {\n        self.valueFromJulia[key] = false;\n    }\n    ko.applyBindings(self.model, self.dom);\n}\n);\n    (WebIO.importBlock({\"data\":[{\"name\":\"knockout\",\"type\":\"js\",\"url\":\"/assetserver/727383f2a47bd31570b7da84eee7b022dd6d7c78-knockout.js\"},{\"name\":\"knockout_punches\",\"type\":\"js\",\"url\":\"/assetserver/382b41b3b1bd9f26f75861d360bad7f8beea211f-knockout_punches.js\"}],\"type\":\"async_block\"})).then((imports) => handler.apply(this, imports));\n}\n"
                ],
                "observables": {
                 "changes": {
                  "id": "3285702968357260732",
                  "sync": false,
                  "value": 0
                 },
                 "index": {
                  "id": "9977351753393034434",
                  "sync": true,
                  "value": 1
                 }
                },
                "systemjs_options": null
               },
               "nodeType": "Scope",
               "props": {},
               "type": "node"
              }
             ],
             "instanceArgs": {
              "namespace": "html",
              "tag": "div"
             },
             "nodeType": "DOM",
             "props": {
              "className": "field interact-widget"
             },
             "type": "node"
            },
            {
             "children": [
              {
               "children": [
                {
                 "children": [
                  {
                   "children": [
                    {
                     "children": [
                      "scale"
                     ],
                     "instanceArgs": {
                      "namespace": "html",
                      "tag": "label"
                     },
                     "nodeType": "DOM",
                     "props": {
                      "className": "interact ",
                      "style": {
                       "padding": "5px 10px 0px 10px"
                      }
                     },
                     "type": "node"
                    }
                   ],
                   "instanceArgs": {
                    "namespace": "html",
                    "tag": "div"
                   },
                   "nodeType": "DOM",
                   "props": {
                    "className": "interact-flex-row-left"
                   },
                   "type": "node"
                  },
                  {
                   "children": [
                    {
                     "children": [],
                     "instanceArgs": {
                      "namespace": "html",
                      "tag": "input"
                     },
                     "nodeType": "DOM",
                     "props": {
                      "attributes": {
                       "data-bind": "numericValue: index, valueUpdate: 'input', event: {change: function (){this.changes(this.changes()+1)}}",
                       "orient": "horizontal",
                       "type": "range"
                      },
                      "className": "slider slider is-fullwidth",
                      "max": 20,
                      "min": 1,
                      "step": 1,
                      "style": {}
                     },
                     "type": "node"
                    }
                   ],
                   "instanceArgs": {
                    "namespace": "html",
                    "tag": "div"
                   },
                   "nodeType": "DOM",
                   "props": {
                    "className": "interact-flex-row-center"
                   },
                   "type": "node"
                  },
                  {
                   "children": [
                    {
                     "children": [],
                     "instanceArgs": {
                      "namespace": "html",
                      "tag": "p"
                     },
                     "nodeType": "DOM",
                     "props": {
                      "attributes": {
                       "data-bind": "text: formatted_val"
                      }
                     },
                     "type": "node"
                    }
                   ],
                   "instanceArgs": {
                    "namespace": "html",
                    "tag": "div"
                   },
                   "nodeType": "DOM",
                   "props": {
                    "className": "interact-flex-row-right"
                   },
                   "type": "node"
                  }
                 ],
                 "instanceArgs": {
                  "namespace": "html",
                  "tag": "div"
                 },
                 "nodeType": "DOM",
                 "props": {
                  "className": "interact-flex-row interact-widget"
                 },
                 "type": "node"
                }
               ],
               "instanceArgs": {
                "handlers": {
                 "changes": [
                  "(function (val){return (val!=this.model[\"changes\"]()) ? (this.valueFromJulia[\"changes\"]=true, this.model[\"changes\"](val)) : undefined})"
                 ],
                 "index": [
                  "(function (val){return (val!=this.model[\"index\"]()) ? (this.valueFromJulia[\"index\"]=true, this.model[\"index\"](val)) : undefined})"
                 ]
                },
                "id": "11056602036940226306",
                "imports": {
                 "data": [
                  {
                   "name": "knockout",
                   "type": "js",
                   "url": "/assetserver/727383f2a47bd31570b7da84eee7b022dd6d7c78-knockout.js"
                  },
                  {
                   "name": "knockout_punches",
                   "type": "js",
                   "url": "/assetserver/382b41b3b1bd9f26f75861d360bad7f8beea211f-knockout_punches.js"
                  },
                  {
                   "name": null,
                   "type": "js",
                   "url": "/assetserver/5ab20f1060420992a9b82a65b735dee4d81ef413-all.js"
                  },
                  {
                   "name": null,
                   "type": "css",
                   "url": "/assetserver/1cc0ed62837210b80a182cc3676512f895dab686-style.css"
                  },
                  {
                   "name": null,
                   "type": "css",
                   "url": "/assetserver/2eee816f616df3549d7044d45e744fbf8d42bfa1-bulma_confined.min.css"
                  }
                 ],
                 "type": "async_block"
                },
                "mount_callbacks": [
                 "function () {\n    var handler = (function (ko, koPunches) {\n    ko.punches.enableAll();\n    ko.bindingHandlers.numericValue = {\n        init: function(element, valueAccessor, allBindings, data, context) {\n            var stringified = ko.observable(ko.unwrap(valueAccessor()));\n            stringified.subscribe(function(value) {\n                var val = parseFloat(value);\n                if (!isNaN(val)) {\n                    valueAccessor()(val);\n                }\n            });\n            valueAccessor().subscribe(function(value) {\n                var str = JSON.stringify(value);\n                if ((str == \"0\") && ([\"-0\", \"-0.\"].indexOf(stringified()) >= 0))\n                     return;\n                 if ([\"null\", \"\"].indexOf(str) >= 0)\n                     return;\n                stringified(str);\n            });\n            ko.applyBindingsToNode(\n                element,\n                {\n                    value: stringified,\n                    valueUpdate: allBindings.get('valueUpdate'),\n                },\n                context,\n            );\n        }\n    };\n    var json_data = {\"formatted_vals\":[\"0.1\",\"0.2\",\"0.3\",\"0.4\",\"0.5\",\"0.6\",\"0.7\",\"0.8\",\"0.9\",\"1.0\",\"1.1\",\"1.2\",\"1.3\",\"1.4\",\"1.5\",\"1.6\",\"1.7\",\"1.8\",\"1.9\",\"2.0\"],\"changes\":WebIO.getval({\"name\":\"changes\",\"scope\":\"11056602036940226306\",\"id\":\"754649954774899136\",\"type\":\"observable\"}),\"index\":WebIO.getval({\"name\":\"index\",\"scope\":\"11056602036940226306\",\"id\":\"12303606840577204792\",\"type\":\"observable\"})};\n    var self = this;\n    function AppViewModel() {\n        for (var key in json_data) {\n            var el = json_data[key];\n            this[key] = Array.isArray(el) ? ko.observableArray(el) : ko.observable(el);\n        }\n        \n        [this[\"formatted_val\"]=ko.computed(    function(){\n        return this.formatted_vals()[parseInt(this.index())-(1)];\n    }\n,this)]\n        [this[\"changes\"].subscribe((function (val){!(this.valueFromJulia[\"changes\"]) ? (WebIO.setval({\"name\":\"changes\",\"scope\":\"11056602036940226306\",\"id\":\"754649954774899136\",\"type\":\"observable\"},val)) : undefined; return this.valueFromJulia[\"changes\"]=false}),self),this[\"index\"].subscribe((function (val){!(this.valueFromJulia[\"index\"]) ? (WebIO.setval({\"name\":\"index\",\"scope\":\"11056602036940226306\",\"id\":\"12303606840577204792\",\"type\":\"observable\"},val)) : undefined; return this.valueFromJulia[\"index\"]=false}),self)]\n        \n    }\n    self.model = new AppViewModel();\n    self.valueFromJulia = {};\n    for (var key in json_data) {\n        self.valueFromJulia[key] = false;\n    }\n    ko.applyBindings(self.model, self.dom);\n}\n);\n    (WebIO.importBlock({\"data\":[{\"name\":\"knockout\",\"type\":\"js\",\"url\":\"/assetserver/727383f2a47bd31570b7da84eee7b022dd6d7c78-knockout.js\"},{\"name\":\"knockout_punches\",\"type\":\"js\",\"url\":\"/assetserver/382b41b3b1bd9f26f75861d360bad7f8beea211f-knockout_punches.js\"}],\"type\":\"async_block\"})).then((imports) => handler.apply(this, imports));\n}\n"
                ],
                "observables": {
                 "changes": {
                  "id": "754649954774899136",
                  "sync": false,
                  "value": 0
                 },
                 "index": {
                  "id": "12303606840577204792",
                  "sync": true,
                  "value": 10
                 }
                },
                "systemjs_options": null
               },
               "nodeType": "Scope",
               "props": {},
               "type": "node"
              }
             ],
             "instanceArgs": {
              "namespace": "html",
              "tag": "div"
             },
             "nodeType": "DOM",
             "props": {
              "className": "field interact-widget"
             },
             "type": "node"
            },
            {
             "children": [],
             "instanceArgs": {
              "namespace": "html",
              "tag": "div"
             },
             "nodeType": "DOM",
             "props": {
              "style": {
               "display": "flex",
               "flex-direction": "column"
              }
             },
             "type": "node"
            },
            {
             "children": [
              {
               "children": [
                {
                 "children": [
                  {
                   "children": [
                    {
                     "children": [
                      {
                       "children": [
                        "wolf_birth_rate"
                       ],
                       "instanceArgs": {
                        "namespace": "html",
                        "tag": "label"
                       },
                       "nodeType": "DOM",
                       "props": {
                        "className": "interact ",
                        "style": {
                         "padding": "5px 10px 0px 10px"
                        }
                       },
                       "type": "node"
                      }
                     ],
                     "instanceArgs": {
                      "namespace": "html",
                      "tag": "div"
                     },
                     "nodeType": "DOM",
                     "props": {
                      "className": "interact-flex-row-left"
                     },
                     "type": "node"
                    },
                    {
                     "children": [
                      {
                       "children": [],
                       "instanceArgs": {
                        "namespace": "html",
                        "tag": "input"
                       },
                       "nodeType": "DOM",
                       "props": {
                        "attributes": {
                         "data-bind": "numericValue: index, valueUpdate: 'input', event: {change: function (){this.changes(this.changes()+1)}}",
                         "orient": "horizontal",
                         "type": "range"
                        },
                        "className": "slider slider is-fullwidth",
                        "max": 101,
                        "min": 1,
                        "step": 1,
                        "style": {}
                       },
                       "type": "node"
                      }
                     ],
                     "instanceArgs": {
                      "namespace": "html",
                      "tag": "div"
                     },
                     "nodeType": "DOM",
                     "props": {
                      "className": "interact-flex-row-center"
                     },
                     "type": "node"
                    },
                    {
                     "children": [
                      {
                       "children": [],
                       "instanceArgs": {
                        "namespace": "html",
                        "tag": "p"
                       },
                       "nodeType": "DOM",
                       "props": {
                        "attributes": {
                         "data-bind": "text: formatted_val"
                        }
                       },
                       "type": "node"
                      }
                     ],
                     "instanceArgs": {
                      "namespace": "html",
                      "tag": "div"
                     },
                     "nodeType": "DOM",
                     "props": {
                      "className": "interact-flex-row-right"
                     },
                     "type": "node"
                    }
                   ],
                   "instanceArgs": {
                    "namespace": "html",
                    "tag": "div"
                   },
                   "nodeType": "DOM",
                   "props": {
                    "className": "interact-flex-row interact-widget"
                   },
                   "type": "node"
                  }
                 ],
                 "instanceArgs": {
                  "handlers": {
                   "changes": [
                    "(function (val){return (val!=this.model[\"changes\"]()) ? (this.valueFromJulia[\"changes\"]=true, this.model[\"changes\"](val)) : undefined})"
                   ],
                   "index": [
                    "(function (val){return (val!=this.model[\"index\"]()) ? (this.valueFromJulia[\"index\"]=true, this.model[\"index\"](val)) : undefined})"
                   ]
                  },
                  "id": "12213059846352056854",
                  "imports": {
                   "data": [
                    {
                     "name": "knockout",
                     "type": "js",
                     "url": "/assetserver/727383f2a47bd31570b7da84eee7b022dd6d7c78-knockout.js"
                    },
                    {
                     "name": "knockout_punches",
                     "type": "js",
                     "url": "/assetserver/382b41b3b1bd9f26f75861d360bad7f8beea211f-knockout_punches.js"
                    },
                    {
                     "name": null,
                     "type": "js",
                     "url": "/assetserver/5ab20f1060420992a9b82a65b735dee4d81ef413-all.js"
                    },
                    {
                     "name": null,
                     "type": "css",
                     "url": "/assetserver/1cc0ed62837210b80a182cc3676512f895dab686-style.css"
                    },
                    {
                     "name": null,
                     "type": "css",
                     "url": "/assetserver/2eee816f616df3549d7044d45e744fbf8d42bfa1-bulma_confined.min.css"
                    }
                   ],
                   "type": "async_block"
                  },
                  "mount_callbacks": [
                   "function () {\n    var handler = (function (ko, koPunches) {\n    ko.punches.enableAll();\n    ko.bindingHandlers.numericValue = {\n        init: function(element, valueAccessor, allBindings, data, context) {\n            var stringified = ko.observable(ko.unwrap(valueAccessor()));\n            stringified.subscribe(function(value) {\n                var val = parseFloat(value);\n                if (!isNaN(val)) {\n                    valueAccessor()(val);\n                }\n            });\n            valueAccessor().subscribe(function(value) {\n                var str = JSON.stringify(value);\n                if ((str == \"0\") && ([\"-0\", \"-0.\"].indexOf(stringified()) >= 0))\n                     return;\n                 if ([\"null\", \"\"].indexOf(str) >= 0)\n                     return;\n                stringified(str);\n            });\n            ko.applyBindingsToNode(\n                element,\n                {\n                    value: stringified,\n                    valueUpdate: allBindings.get('valueUpdate'),\n                },\n                context,\n            );\n        }\n    };\n    var json_data = {\"formatted_vals\":[\"0.0\",\"0.01\",\"0.02\",\"0.03\",\"0.04\",\"0.05\",\"0.06\",\"0.07\",\"0.08\",\"0.09\",\"0.1\",\"0.11\",\"0.12\",\"0.13\",\"0.14\",\"0.15\",\"0.16\",\"0.17\",\"0.18\",\"0.19\",\"0.2\",\"0.21\",\"0.22\",\"0.23\",\"0.24\",\"0.25\",\"0.26\",\"0.27\",\"0.28\",\"0.29\",\"0.3\",\"0.31\",\"0.32\",\"0.33\",\"0.34\",\"0.35\",\"0.36\",\"0.37\",\"0.38\",\"0.39\",\"0.4\",\"0.41\",\"0.42\",\"0.43\",\"0.44\",\"0.45\",\"0.46\",\"0.47\",\"0.48\",\"0.49\",\"0.5\",\"0.51\",\"0.52\",\"0.53\",\"0.54\",\"0.55\",\"0.56\",\"0.57\",\"0.58\",\"0.59\",\"0.6\",\"0.61\",\"0.62\",\"0.63\",\"0.64\",\"0.65\",\"0.66\",\"0.67\",\"0.68\",\"0.69\",\"0.7\",\"0.71\",\"0.72\",\"0.73\",\"0.74\",\"0.75\",\"0.76\",\"0.77\",\"0.78\",\"0.79\",\"0.8\",\"0.81\",\"0.82\",\"0.83\",\"0.84\",\"0.85\",\"0.86\",\"0.87\",\"0.88\",\"0.89\",\"0.9\",\"0.91\",\"0.92\",\"0.93\",\"0.94\",\"0.95\",\"0.96\",\"0.97\",\"0.98\",\"0.99\",\"1.0\"],\"changes\":WebIO.getval({\"name\":\"changes\",\"scope\":\"12213059846352056854\",\"id\":\"12093277924013156042\",\"type\":\"observable\"}),\"index\":WebIO.getval({\"name\":\"index\",\"scope\":\"12213059846352056854\",\"id\":\"2298128096345319414\",\"type\":\"observable\"})};\n    var self = this;\n    function AppViewModel() {\n        for (var key in json_data) {\n            var el = json_data[key];\n            this[key] = Array.isArray(el) ? ko.observableArray(el) : ko.observable(el);\n        }\n        \n        [this[\"formatted_val\"]=ko.computed(    function(){\n        return this.formatted_vals()[parseInt(this.index())-(1)];\n    }\n,this)]\n        [this[\"changes\"].subscribe((function (val){!(this.valueFromJulia[\"changes\"]) ? (WebIO.setval({\"name\":\"changes\",\"scope\":\"12213059846352056854\",\"id\":\"12093277924013156042\",\"type\":\"observable\"},val)) : undefined; return this.valueFromJulia[\"changes\"]=false}),self),this[\"index\"].subscribe((function (val){!(this.valueFromJulia[\"index\"]) ? (WebIO.setval({\"name\":\"index\",\"scope\":\"12213059846352056854\",\"id\":\"2298128096345319414\",\"type\":\"observable\"},val)) : undefined; return this.valueFromJulia[\"index\"]=false}),self)]\n        \n    }\n    self.model = new AppViewModel();\n    self.valueFromJulia = {};\n    for (var key in json_data) {\n        self.valueFromJulia[key] = false;\n    }\n    ko.applyBindings(self.model, self.dom);\n}\n);\n    (WebIO.importBlock({\"data\":[{\"name\":\"knockout\",\"type\":\"js\",\"url\":\"/assetserver/727383f2a47bd31570b7da84eee7b022dd6d7c78-knockout.js\"},{\"name\":\"knockout_punches\",\"type\":\"js\",\"url\":\"/assetserver/382b41b3b1bd9f26f75861d360bad7f8beea211f-knockout_punches.js\"}],\"type\":\"async_block\"})).then((imports) => handler.apply(this, imports));\n}\n"
                  ],
                  "observables": {
                   "changes": {
                    "id": "12093277924013156042",
                    "sync": false,
                    "value": 0
                   },
                   "index": {
                    "id": "2298128096345319414",
                    "sync": true,
                    "value": 51
                   }
                  },
                  "systemjs_options": null
                 },
                 "nodeType": "Scope",
                 "props": {},
                 "type": "node"
                }
               ],
               "instanceArgs": {
                "namespace": "html",
                "tag": "div"
               },
               "nodeType": "DOM",
               "props": {
                "className": "field interact-widget"
               },
               "type": "node"
              },
              {
               "children": [
                {
                 "children": [
                  {
                   "children": [
                    {
                     "children": [
                      {
                       "children": [
                        "sheep_birth_rate"
                       ],
                       "instanceArgs": {
                        "namespace": "html",
                        "tag": "label"
                       },
                       "nodeType": "DOM",
                       "props": {
                        "className": "interact ",
                        "style": {
                         "padding": "5px 10px 0px 10px"
                        }
                       },
                       "type": "node"
                      }
                     ],
                     "instanceArgs": {
                      "namespace": "html",
                      "tag": "div"
                     },
                     "nodeType": "DOM",
                     "props": {
                      "className": "interact-flex-row-left"
                     },
                     "type": "node"
                    },
                    {
                     "children": [
                      {
                       "children": [],
                       "instanceArgs": {
                        "namespace": "html",
                        "tag": "input"
                       },
                       "nodeType": "DOM",
                       "props": {
                        "attributes": {
                         "data-bind": "numericValue: index, valueUpdate: 'input', event: {change: function (){this.changes(this.changes()+1)}}",
                         "orient": "horizontal",
                         "type": "range"
                        },
                        "className": "slider slider is-fullwidth",
                        "max": 100,
                        "min": 1,
                        "step": 1,
                        "style": {}
                       },
                       "type": "node"
                      }
                     ],
                     "instanceArgs": {
                      "namespace": "html",
                      "tag": "div"
                     },
                     "nodeType": "DOM",
                     "props": {
                      "className": "interact-flex-row-center"
                     },
                     "type": "node"
                    },
                    {
                     "children": [
                      {
                       "children": [],
                       "instanceArgs": {
                        "namespace": "html",
                        "tag": "p"
                       },
                       "nodeType": "DOM",
                       "props": {
                        "attributes": {
                         "data-bind": "text: formatted_val"
                        }
                       },
                       "type": "node"
                      }
                     ],
                     "instanceArgs": {
                      "namespace": "html",
                      "tag": "div"
                     },
                     "nodeType": "DOM",
                     "props": {
                      "className": "interact-flex-row-right"
                     },
                     "type": "node"
                    }
                   ],
                   "instanceArgs": {
                    "namespace": "html",
                    "tag": "div"
                   },
                   "nodeType": "DOM",
                   "props": {
                    "className": "interact-flex-row interact-widget"
                   },
                   "type": "node"
                  }
                 ],
                 "instanceArgs": {
                  "handlers": {
                   "changes": [
                    "(function (val){return (val!=this.model[\"changes\"]()) ? (this.valueFromJulia[\"changes\"]=true, this.model[\"changes\"](val)) : undefined})"
                   ],
                   "index": [
                    "(function (val){return (val!=this.model[\"index\"]()) ? (this.valueFromJulia[\"index\"]=true, this.model[\"index\"](val)) : undefined})"
                   ]
                  },
                  "id": "15160479387225488675",
                  "imports": {
                   "data": [
                    {
                     "name": "knockout",
                     "type": "js",
                     "url": "/assetserver/727383f2a47bd31570b7da84eee7b022dd6d7c78-knockout.js"
                    },
                    {
                     "name": "knockout_punches",
                     "type": "js",
                     "url": "/assetserver/382b41b3b1bd9f26f75861d360bad7f8beea211f-knockout_punches.js"
                    },
                    {
                     "name": null,
                     "type": "js",
                     "url": "/assetserver/5ab20f1060420992a9b82a65b735dee4d81ef413-all.js"
                    },
                    {
                     "name": null,
                     "type": "css",
                     "url": "/assetserver/1cc0ed62837210b80a182cc3676512f895dab686-style.css"
                    },
                    {
                     "name": null,
                     "type": "css",
                     "url": "/assetserver/2eee816f616df3549d7044d45e744fbf8d42bfa1-bulma_confined.min.css"
                    }
                   ],
                   "type": "async_block"
                  },
                  "mount_callbacks": [
                   "function () {\n    var handler = (function (ko, koPunches) {\n    ko.punches.enableAll();\n    ko.bindingHandlers.numericValue = {\n        init: function(element, valueAccessor, allBindings, data, context) {\n            var stringified = ko.observable(ko.unwrap(valueAccessor()));\n            stringified.subscribe(function(value) {\n                var val = parseFloat(value);\n                if (!isNaN(val)) {\n                    valueAccessor()(val);\n                }\n            });\n            valueAccessor().subscribe(function(value) {\n                var str = JSON.stringify(value);\n                if ((str == \"0\") && ([\"-0\", \"-0.\"].indexOf(stringified()) >= 0))\n                     return;\n                 if ([\"null\", \"\"].indexOf(str) >= 0)\n                     return;\n                stringified(str);\n            });\n            ko.applyBindingsToNode(\n                element,\n                {\n                    value: stringified,\n                    valueUpdate: allBindings.get('valueUpdate'),\n                },\n                context,\n            );\n        }\n    };\n    var json_data = {\"formatted_vals\":[\"0.01\",\"0.02\",\"0.03\",\"0.04\",\"0.05\",\"0.06\",\"0.07\",\"0.08\",\"0.09\",\"0.1\",\"0.11\",\"0.12\",\"0.13\",\"0.14\",\"0.15\",\"0.16\",\"0.17\",\"0.18\",\"0.19\",\"0.2\",\"0.21\",\"0.22\",\"0.23\",\"0.24\",\"0.25\",\"0.26\",\"0.27\",\"0.28\",\"0.29\",\"0.3\",\"0.31\",\"0.32\",\"0.33\",\"0.34\",\"0.35\",\"0.36\",\"0.37\",\"0.38\",\"0.39\",\"0.4\",\"0.41\",\"0.42\",\"0.43\",\"0.44\",\"0.45\",\"0.46\",\"0.47\",\"0.48\",\"0.49\",\"0.5\",\"0.51\",\"0.52\",\"0.53\",\"0.54\",\"0.55\",\"0.56\",\"0.57\",\"0.58\",\"0.59\",\"0.6\",\"0.61\",\"0.62\",\"0.63\",\"0.64\",\"0.65\",\"0.66\",\"0.67\",\"0.68\",\"0.69\",\"0.7\",\"0.71\",\"0.72\",\"0.73\",\"0.74\",\"0.75\",\"0.76\",\"0.77\",\"0.78\",\"0.79\",\"0.8\",\"0.81\",\"0.82\",\"0.83\",\"0.84\",\"0.85\",\"0.86\",\"0.87\",\"0.88\",\"0.89\",\"0.9\",\"0.91\",\"0.92\",\"0.93\",\"0.94\",\"0.95\",\"0.96\",\"0.97\",\"0.98\",\"0.99\",\"1.0\"],\"changes\":WebIO.getval({\"name\":\"changes\",\"scope\":\"15160479387225488675\",\"id\":\"1147088338776207967\",\"type\":\"observable\"}),\"index\":WebIO.getval({\"name\":\"index\",\"scope\":\"15160479387225488675\",\"id\":\"928709856778517926\",\"type\":\"observable\"})};\n    var self = this;\n    function AppViewModel() {\n        for (var key in json_data) {\n            var el = json_data[key];\n            this[key] = Array.isArray(el) ? ko.observableArray(el) : ko.observable(el);\n        }\n        \n        [this[\"formatted_val\"]=ko.computed(    function(){\n        return this.formatted_vals()[parseInt(this.index())-(1)];\n    }\n,this)]\n        [this[\"changes\"].subscribe((function (val){!(this.valueFromJulia[\"changes\"]) ? (WebIO.setval({\"name\":\"changes\",\"scope\":\"15160479387225488675\",\"id\":\"1147088338776207967\",\"type\":\"observable\"},val)) : undefined; return this.valueFromJulia[\"changes\"]=false}),self),this[\"index\"].subscribe((function (val){!(this.valueFromJulia[\"index\"]) ? (WebIO.setval({\"name\":\"index\",\"scope\":\"15160479387225488675\",\"id\":\"928709856778517926\",\"type\":\"observable\"},val)) : undefined; return this.valueFromJulia[\"index\"]=false}),self)]\n        \n    }\n    self.model = new AppViewModel();\n    self.valueFromJulia = {};\n    for (var key in json_data) {\n        self.valueFromJulia[key] = false;\n    }\n    ko.applyBindings(self.model, self.dom);\n}\n);\n    (WebIO.importBlock({\"data\":[{\"name\":\"knockout\",\"type\":\"js\",\"url\":\"/assetserver/727383f2a47bd31570b7da84eee7b022dd6d7c78-knockout.js\"},{\"name\":\"knockout_punches\",\"type\":\"js\",\"url\":\"/assetserver/382b41b3b1bd9f26f75861d360bad7f8beea211f-knockout_punches.js\"}],\"type\":\"async_block\"})).then((imports) => handler.apply(this, imports));\n}\n"
                  ],
                  "observables": {
                   "changes": {
                    "id": "1147088338776207967",
                    "sync": false,
                    "value": 0
                   },
                   "index": {
                    "id": "928709856778517926",
                    "sync": true,
                    "value": 50
                   }
                  },
                  "systemjs_options": null
                 },
                 "nodeType": "Scope",
                 "props": {},
                 "type": "node"
                }
               ],
               "instanceArgs": {
                "namespace": "html",
                "tag": "div"
               },
               "nodeType": "DOM",
               "props": {
                "className": "field interact-widget"
               },
               "type": "node"
              },
              {
               "children": [
                {
                 "children": [
                  {
                   "children": [
                    {
                     "children": [
                      {
                       "children": [
                        "initial_wolf_percent"
                       ],
                       "instanceArgs": {
                        "namespace": "html",
                        "tag": "label"
                       },
                       "nodeType": "DOM",
                       "props": {
                        "className": "interact ",
                        "style": {
                         "padding": "5px 10px 0px 10px"
                        }
                       },
                       "type": "node"
                      }
                     ],
                     "instanceArgs": {
                      "namespace": "html",
                      "tag": "div"
                     },
                     "nodeType": "DOM",
                     "props": {
                      "className": "interact-flex-row-left"
                     },
                     "type": "node"
                    },
                    {
                     "children": [
                      {
                       "children": [],
                       "instanceArgs": {
                        "namespace": "html",
                        "tag": "input"
                       },
                       "nodeType": "DOM",
                       "props": {
                        "attributes": {
                         "data-bind": "numericValue: index, valueUpdate: 'input', event: {change: function (){this.changes(this.changes()+1)}}",
                         "orient": "horizontal",
                         "type": "range"
                        },
                        "className": "slider slider is-fullwidth",
                        "max": 90,
                        "min": 1,
                        "step": 1,
                        "style": {}
                       },
                       "type": "node"
                      }
                     ],
                     "instanceArgs": {
                      "namespace": "html",
                      "tag": "div"
                     },
                     "nodeType": "DOM",
                     "props": {
                      "className": "interact-flex-row-center"
                     },
                     "type": "node"
                    },
                    {
                     "children": [
                      {
                       "children": [],
                       "instanceArgs": {
                        "namespace": "html",
                        "tag": "p"
                       },
                       "nodeType": "DOM",
                       "props": {
                        "attributes": {
                         "data-bind": "text: formatted_val"
                        }
                       },
                       "type": "node"
                      }
                     ],
                     "instanceArgs": {
                      "namespace": "html",
                      "tag": "div"
                     },
                     "nodeType": "DOM",
                     "props": {
                      "className": "interact-flex-row-right"
                     },
                     "type": "node"
                    }
                   ],
                   "instanceArgs": {
                    "namespace": "html",
                    "tag": "div"
                   },
                   "nodeType": "DOM",
                   "props": {
                    "className": "interact-flex-row interact-widget"
                   },
                   "type": "node"
                  }
                 ],
                 "instanceArgs": {
                  "handlers": {
                   "changes": [
                    "(function (val){return (val!=this.model[\"changes\"]()) ? (this.valueFromJulia[\"changes\"]=true, this.model[\"changes\"](val)) : undefined})"
                   ],
                   "index": [
                    "(function (val){return (val!=this.model[\"index\"]()) ? (this.valueFromJulia[\"index\"]=true, this.model[\"index\"](val)) : undefined})"
                   ]
                  },
                  "id": "16021307231654370473",
                  "imports": {
                   "data": [
                    {
                     "name": "knockout",
                     "type": "js",
                     "url": "/assetserver/727383f2a47bd31570b7da84eee7b022dd6d7c78-knockout.js"
                    },
                    {
                     "name": "knockout_punches",
                     "type": "js",
                     "url": "/assetserver/382b41b3b1bd9f26f75861d360bad7f8beea211f-knockout_punches.js"
                    },
                    {
                     "name": null,
                     "type": "js",
                     "url": "/assetserver/5ab20f1060420992a9b82a65b735dee4d81ef413-all.js"
                    },
                    {
                     "name": null,
                     "type": "css",
                     "url": "/assetserver/1cc0ed62837210b80a182cc3676512f895dab686-style.css"
                    },
                    {
                     "name": null,
                     "type": "css",
                     "url": "/assetserver/2eee816f616df3549d7044d45e744fbf8d42bfa1-bulma_confined.min.css"
                    }
                   ],
                   "type": "async_block"
                  },
                  "mount_callbacks": [
                   "function () {\n    var handler = (function (ko, koPunches) {\n    ko.punches.enableAll();\n    ko.bindingHandlers.numericValue = {\n        init: function(element, valueAccessor, allBindings, data, context) {\n            var stringified = ko.observable(ko.unwrap(valueAccessor()));\n            stringified.subscribe(function(value) {\n                var val = parseFloat(value);\n                if (!isNaN(val)) {\n                    valueAccessor()(val);\n                }\n            });\n            valueAccessor().subscribe(function(value) {\n                var str = JSON.stringify(value);\n                if ((str == \"0\") && ([\"-0\", \"-0.\"].indexOf(stringified()) >= 0))\n                     return;\n                 if ([\"null\", \"\"].indexOf(str) >= 0)\n                     return;\n                stringified(str);\n            });\n            ko.applyBindingsToNode(\n                element,\n                {\n                    value: stringified,\n                    valueUpdate: allBindings.get('valueUpdate'),\n                },\n                context,\n            );\n        }\n    };\n    var json_data = {\"formatted_vals\":[\"0.01\",\"0.02\",\"0.03\",\"0.04\",\"0.05\",\"0.06\",\"0.07\",\"0.08\",\"0.09\",\"0.1\",\"0.11\",\"0.12\",\"0.13\",\"0.14\",\"0.15\",\"0.16\",\"0.17\",\"0.18\",\"0.19\",\"0.2\",\"0.21\",\"0.22\",\"0.23\",\"0.24\",\"0.25\",\"0.26\",\"0.27\",\"0.28\",\"0.29\",\"0.3\",\"0.31\",\"0.32\",\"0.33\",\"0.34\",\"0.35\",\"0.36\",\"0.37\",\"0.38\",\"0.39\",\"0.4\",\"0.41\",\"0.42\",\"0.43\",\"0.44\",\"0.45\",\"0.46\",\"0.47\",\"0.48\",\"0.49\",\"0.5\",\"0.51\",\"0.52\",\"0.53\",\"0.54\",\"0.55\",\"0.56\",\"0.57\",\"0.58\",\"0.59\",\"0.6\",\"0.61\",\"0.62\",\"0.63\",\"0.64\",\"0.65\",\"0.66\",\"0.67\",\"0.68\",\"0.69\",\"0.7\",\"0.71\",\"0.72\",\"0.73\",\"0.74\",\"0.75\",\"0.76\",\"0.77\",\"0.78\",\"0.79\",\"0.8\",\"0.81\",\"0.82\",\"0.83\",\"0.84\",\"0.85\",\"0.86\",\"0.87\",\"0.88\",\"0.89\",\"0.9\"],\"changes\":WebIO.getval({\"name\":\"changes\",\"scope\":\"16021307231654370473\",\"id\":\"5126391122514674835\",\"type\":\"observable\"}),\"index\":WebIO.getval({\"name\":\"index\",\"scope\":\"16021307231654370473\",\"id\":\"11681302551954945908\",\"type\":\"observable\"})};\n    var self = this;\n    function AppViewModel() {\n        for (var key in json_data) {\n            var el = json_data[key];\n            this[key] = Array.isArray(el) ? ko.observableArray(el) : ko.observable(el);\n        }\n        \n        [this[\"formatted_val\"]=ko.computed(    function(){\n        return this.formatted_vals()[parseInt(this.index())-(1)];\n    }\n,this)]\n        [this[\"changes\"].subscribe((function (val){!(this.valueFromJulia[\"changes\"]) ? (WebIO.setval({\"name\":\"changes\",\"scope\":\"16021307231654370473\",\"id\":\"5126391122514674835\",\"type\":\"observable\"},val)) : undefined; return this.valueFromJulia[\"changes\"]=false}),self),this[\"index\"].subscribe((function (val){!(this.valueFromJulia[\"index\"]) ? (WebIO.setval({\"name\":\"index\",\"scope\":\"16021307231654370473\",\"id\":\"11681302551954945908\",\"type\":\"observable\"},val)) : undefined; return this.valueFromJulia[\"index\"]=false}),self)]\n        \n    }\n    self.model = new AppViewModel();\n    self.valueFromJulia = {};\n    for (var key in json_data) {\n        self.valueFromJulia[key] = false;\n    }\n    ko.applyBindings(self.model, self.dom);\n}\n);\n    (WebIO.importBlock({\"data\":[{\"name\":\"knockout\",\"type\":\"js\",\"url\":\"/assetserver/727383f2a47bd31570b7da84eee7b022dd6d7c78-knockout.js\"},{\"name\":\"knockout_punches\",\"type\":\"js\",\"url\":\"/assetserver/382b41b3b1bd9f26f75861d360bad7f8beea211f-knockout_punches.js\"}],\"type\":\"async_block\"})).then((imports) => handler.apply(this, imports));\n}\n"
                  ],
                  "observables": {
                   "changes": {
                    "id": "5126391122514674835",
                    "sync": false,
                    "value": 0
                   },
                   "index": {
                    "id": "11681302551954945908",
                    "sync": true,
                    "value": 45
                   }
                  },
                  "systemjs_options": null
                 },
                 "nodeType": "Scope",
                 "props": {},
                 "type": "node"
                }
               ],
               "instanceArgs": {
                "namespace": "html",
                "tag": "div"
               },
               "nodeType": "DOM",
               "props": {
                "className": "field interact-widget"
               },
               "type": "node"
              },
              {
               "children": [
                {
                 "children": [
                  {
                   "children": [
                    {
                     "children": [
                      {
                       "children": [
                        "wolves_kill_ability"
                       ],
                       "instanceArgs": {
                        "namespace": "html",
                        "tag": "label"
                       },
                       "nodeType": "DOM",
                       "props": {
                        "className": "interact ",
                        "style": {
                         "padding": "5px 10px 0px 10px"
                        }
                       },
                       "type": "node"
                      }
                     ],
                     "instanceArgs": {
                      "namespace": "html",
                      "tag": "div"
                     },
                     "nodeType": "DOM",
                     "props": {
                      "className": "interact-flex-row-left"
                     },
                     "type": "node"
                    },
                    {
                     "children": [
                      {
                       "children": [],
                       "instanceArgs": {
                        "namespace": "html",
                        "tag": "input"
                       },
                       "nodeType": "DOM",
                       "props": {
                        "attributes": {
                         "data-bind": "numericValue: index, valueUpdate: 'input', event: {change: function (){this.changes(this.changes()+1)}}",
                         "orient": "horizontal",
                         "type": "range"
                        },
                        "className": "slider slider is-fullwidth",
                        "max": 100,
                        "min": 1,
                        "step": 1,
                        "style": {}
                       },
                       "type": "node"
                      }
                     ],
                     "instanceArgs": {
                      "namespace": "html",
                      "tag": "div"
                     },
                     "nodeType": "DOM",
                     "props": {
                      "className": "interact-flex-row-center"
                     },
                     "type": "node"
                    },
                    {
                     "children": [
                      {
                       "children": [],
                       "instanceArgs": {
                        "namespace": "html",
                        "tag": "p"
                       },
                       "nodeType": "DOM",
                       "props": {
                        "attributes": {
                         "data-bind": "text: formatted_val"
                        }
                       },
                       "type": "node"
                      }
                     ],
                     "instanceArgs": {
                      "namespace": "html",
                      "tag": "div"
                     },
                     "nodeType": "DOM",
                     "props": {
                      "className": "interact-flex-row-right"
                     },
                     "type": "node"
                    }
                   ],
                   "instanceArgs": {
                    "namespace": "html",
                    "tag": "div"
                   },
                   "nodeType": "DOM",
                   "props": {
                    "className": "interact-flex-row interact-widget"
                   },
                   "type": "node"
                  }
                 ],
                 "instanceArgs": {
                  "handlers": {
                   "changes": [
                    "(function (val){return (val!=this.model[\"changes\"]()) ? (this.valueFromJulia[\"changes\"]=true, this.model[\"changes\"](val)) : undefined})"
                   ],
                   "index": [
                    "(function (val){return (val!=this.model[\"index\"]()) ? (this.valueFromJulia[\"index\"]=true, this.model[\"index\"](val)) : undefined})"
                   ]
                  },
                  "id": "9801409354606649514",
                  "imports": {
                   "data": [
                    {
                     "name": "knockout",
                     "type": "js",
                     "url": "/assetserver/727383f2a47bd31570b7da84eee7b022dd6d7c78-knockout.js"
                    },
                    {
                     "name": "knockout_punches",
                     "type": "js",
                     "url": "/assetserver/382b41b3b1bd9f26f75861d360bad7f8beea211f-knockout_punches.js"
                    },
                    {
                     "name": null,
                     "type": "js",
                     "url": "/assetserver/5ab20f1060420992a9b82a65b735dee4d81ef413-all.js"
                    },
                    {
                     "name": null,
                     "type": "css",
                     "url": "/assetserver/1cc0ed62837210b80a182cc3676512f895dab686-style.css"
                    },
                    {
                     "name": null,
                     "type": "css",
                     "url": "/assetserver/2eee816f616df3549d7044d45e744fbf8d42bfa1-bulma_confined.min.css"
                    }
                   ],
                   "type": "async_block"
                  },
                  "mount_callbacks": [
                   "function () {\n    var handler = (function (ko, koPunches) {\n    ko.punches.enableAll();\n    ko.bindingHandlers.numericValue = {\n        init: function(element, valueAccessor, allBindings, data, context) {\n            var stringified = ko.observable(ko.unwrap(valueAccessor()));\n            stringified.subscribe(function(value) {\n                var val = parseFloat(value);\n                if (!isNaN(val)) {\n                    valueAccessor()(val);\n                }\n            });\n            valueAccessor().subscribe(function(value) {\n                var str = JSON.stringify(value);\n                if ((str == \"0\") && ([\"-0\", \"-0.\"].indexOf(stringified()) >= 0))\n                     return;\n                 if ([\"null\", \"\"].indexOf(str) >= 0)\n                     return;\n                stringified(str);\n            });\n            ko.applyBindingsToNode(\n                element,\n                {\n                    value: stringified,\n                    valueUpdate: allBindings.get('valueUpdate'),\n                },\n                context,\n            );\n        }\n    };\n    var json_data = {\"formatted_vals\":[\"0.01\",\"0.02\",\"0.03\",\"0.04\",\"0.05\",\"0.06\",\"0.07\",\"0.08\",\"0.09\",\"0.1\",\"0.11\",\"0.12\",\"0.13\",\"0.14\",\"0.15\",\"0.16\",\"0.17\",\"0.18\",\"0.19\",\"0.2\",\"0.21\",\"0.22\",\"0.23\",\"0.24\",\"0.25\",\"0.26\",\"0.27\",\"0.28\",\"0.29\",\"0.3\",\"0.31\",\"0.32\",\"0.33\",\"0.34\",\"0.35\",\"0.36\",\"0.37\",\"0.38\",\"0.39\",\"0.4\",\"0.41\",\"0.42\",\"0.43\",\"0.44\",\"0.45\",\"0.46\",\"0.47\",\"0.48\",\"0.49\",\"0.5\",\"0.51\",\"0.52\",\"0.53\",\"0.54\",\"0.55\",\"0.56\",\"0.57\",\"0.58\",\"0.59\",\"0.6\",\"0.61\",\"0.62\",\"0.63\",\"0.64\",\"0.65\",\"0.66\",\"0.67\",\"0.68\",\"0.69\",\"0.7\",\"0.71\",\"0.72\",\"0.73\",\"0.74\",\"0.75\",\"0.76\",\"0.77\",\"0.78\",\"0.79\",\"0.8\",\"0.81\",\"0.82\",\"0.83\",\"0.84\",\"0.85\",\"0.86\",\"0.87\",\"0.88\",\"0.89\",\"0.9\",\"0.91\",\"0.92\",\"0.93\",\"0.94\",\"0.95\",\"0.96\",\"0.97\",\"0.98\",\"0.99\",\"1.0\"],\"changes\":WebIO.getval({\"name\":\"changes\",\"scope\":\"9801409354606649514\",\"id\":\"10428399518841229285\",\"type\":\"observable\"}),\"index\":WebIO.getval({\"name\":\"index\",\"scope\":\"9801409354606649514\",\"id\":\"1039291409138004498\",\"type\":\"observable\"})};\n    var self = this;\n    function AppViewModel() {\n        for (var key in json_data) {\n            var el = json_data[key];\n            this[key] = Array.isArray(el) ? ko.observableArray(el) : ko.observable(el);\n        }\n        \n        [this[\"formatted_val\"]=ko.computed(    function(){\n        return this.formatted_vals()[parseInt(this.index())-(1)];\n    }\n,this)]\n        [this[\"changes\"].subscribe((function (val){!(this.valueFromJulia[\"changes\"]) ? (WebIO.setval({\"name\":\"changes\",\"scope\":\"9801409354606649514\",\"id\":\"10428399518841229285\",\"type\":\"observable\"},val)) : undefined; return this.valueFromJulia[\"changes\"]=false}),self),this[\"index\"].subscribe((function (val){!(this.valueFromJulia[\"index\"]) ? (WebIO.setval({\"name\":\"index\",\"scope\":\"9801409354606649514\",\"id\":\"1039291409138004498\",\"type\":\"observable\"},val)) : undefined; return this.valueFromJulia[\"index\"]=false}),self)]\n        \n    }\n    self.model = new AppViewModel();\n    self.valueFromJulia = {};\n    for (var key in json_data) {\n        self.valueFromJulia[key] = false;\n    }\n    ko.applyBindings(self.model, self.dom);\n}\n);\n    (WebIO.importBlock({\"data\":[{\"name\":\"knockout\",\"type\":\"js\",\"url\":\"/assetserver/727383f2a47bd31570b7da84eee7b022dd6d7c78-knockout.js\"},{\"name\":\"knockout_punches\",\"type\":\"js\",\"url\":\"/assetserver/382b41b3b1bd9f26f75861d360bad7f8beea211f-knockout_punches.js\"}],\"type\":\"async_block\"})).then((imports) => handler.apply(this, imports));\n}\n"
                  ],
                  "observables": {
                   "changes": {
                    "id": "10428399518841229285",
                    "sync": false,
                    "value": 0
                   },
                   "index": {
                    "id": "1039291409138004498",
                    "sync": true,
                    "value": 50
                   }
                  },
                  "systemjs_options": null
                 },
                 "nodeType": "Scope",
                 "props": {},
                 "type": "node"
                }
               ],
               "instanceArgs": {
                "namespace": "html",
                "tag": "div"
               },
               "nodeType": "DOM",
               "props": {
                "className": "field interact-widget"
               },
               "type": "node"
              },
              {
               "children": [
                {
                 "children": [
                  {
                   "children": [
                    {
                     "children": [
                      {
                       "children": [
                        "grass_grow_prob"
                       ],
                       "instanceArgs": {
                        "namespace": "html",
                        "tag": "label"
                       },
                       "nodeType": "DOM",
                       "props": {
                        "className": "interact ",
                        "style": {
                         "padding": "5px 10px 0px 10px"
                        }
                       },
                       "type": "node"
                      }
                     ],
                     "instanceArgs": {
                      "namespace": "html",
                      "tag": "div"
                     },
                     "nodeType": "DOM",
                     "props": {
                      "className": "interact-flex-row-left"
                     },
                     "type": "node"
                    },
                    {
                     "children": [
                      {
                       "children": [],
                       "instanceArgs": {
                        "namespace": "html",
                        "tag": "input"
                       },
                       "nodeType": "DOM",
                       "props": {
                        "attributes": {
                         "data-bind": "numericValue: index, valueUpdate: 'input', event: {change: function (){this.changes(this.changes()+1)}}",
                         "orient": "horizontal",
                         "type": "range"
                        },
                        "className": "slider slider is-fullwidth",
                        "max": 50,
                        "min": 1,
                        "step": 1,
                        "style": {}
                       },
                       "type": "node"
                      }
                     ],
                     "instanceArgs": {
                      "namespace": "html",
                      "tag": "div"
                     },
                     "nodeType": "DOM",
                     "props": {
                      "className": "interact-flex-row-center"
                     },
                     "type": "node"
                    },
                    {
                     "children": [
                      {
                       "children": [],
                       "instanceArgs": {
                        "namespace": "html",
                        "tag": "p"
                       },
                       "nodeType": "DOM",
                       "props": {
                        "attributes": {
                         "data-bind": "text: formatted_val"
                        }
                       },
                       "type": "node"
                      }
                     ],
                     "instanceArgs": {
                      "namespace": "html",
                      "tag": "div"
                     },
                     "nodeType": "DOM",
                     "props": {
                      "className": "interact-flex-row-right"
                     },
                     "type": "node"
                    }
                   ],
                   "instanceArgs": {
                    "namespace": "html",
                    "tag": "div"
                   },
                   "nodeType": "DOM",
                   "props": {
                    "className": "interact-flex-row interact-widget"
                   },
                   "type": "node"
                  }
                 ],
                 "instanceArgs": {
                  "handlers": {
                   "changes": [
                    "(function (val){return (val!=this.model[\"changes\"]()) ? (this.valueFromJulia[\"changes\"]=true, this.model[\"changes\"](val)) : undefined})"
                   ],
                   "index": [
                    "(function (val){return (val!=this.model[\"index\"]()) ? (this.valueFromJulia[\"index\"]=true, this.model[\"index\"](val)) : undefined})"
                   ]
                  },
                  "id": "15294902769060538528",
                  "imports": {
                   "data": [
                    {
                     "name": "knockout",
                     "type": "js",
                     "url": "/assetserver/727383f2a47bd31570b7da84eee7b022dd6d7c78-knockout.js"
                    },
                    {
                     "name": "knockout_punches",
                     "type": "js",
                     "url": "/assetserver/382b41b3b1bd9f26f75861d360bad7f8beea211f-knockout_punches.js"
                    },
                    {
                     "name": null,
                     "type": "js",
                     "url": "/assetserver/5ab20f1060420992a9b82a65b735dee4d81ef413-all.js"
                    },
                    {
                     "name": null,
                     "type": "css",
                     "url": "/assetserver/1cc0ed62837210b80a182cc3676512f895dab686-style.css"
                    },
                    {
                     "name": null,
                     "type": "css",
                     "url": "/assetserver/2eee816f616df3549d7044d45e744fbf8d42bfa1-bulma_confined.min.css"
                    }
                   ],
                   "type": "async_block"
                  },
                  "mount_callbacks": [
                   "function () {\n    var handler = (function (ko, koPunches) {\n    ko.punches.enableAll();\n    ko.bindingHandlers.numericValue = {\n        init: function(element, valueAccessor, allBindings, data, context) {\n            var stringified = ko.observable(ko.unwrap(valueAccessor()));\n            stringified.subscribe(function(value) {\n                var val = parseFloat(value);\n                if (!isNaN(val)) {\n                    valueAccessor()(val);\n                }\n            });\n            valueAccessor().subscribe(function(value) {\n                var str = JSON.stringify(value);\n                if ((str == \"0\") && ([\"-0\", \"-0.\"].indexOf(stringified()) >= 0))\n                     return;\n                 if ([\"null\", \"\"].indexOf(str) >= 0)\n                     return;\n                stringified(str);\n            });\n            ko.applyBindingsToNode(\n                element,\n                {\n                    value: stringified,\n                    valueUpdate: allBindings.get('valueUpdate'),\n                },\n                context,\n            );\n        }\n    };\n    var json_data = {\"formatted_vals\":[\"0.01\",\"0.02\",\"0.03\",\"0.04\",\"0.05\",\"0.06\",\"0.07\",\"0.08\",\"0.09\",\"0.1\",\"0.11\",\"0.12\",\"0.13\",\"0.14\",\"0.15\",\"0.16\",\"0.17\",\"0.18\",\"0.19\",\"0.2\",\"0.21\",\"0.22\",\"0.23\",\"0.24\",\"0.25\",\"0.26\",\"0.27\",\"0.28\",\"0.29\",\"0.3\",\"0.31\",\"0.32\",\"0.33\",\"0.34\",\"0.35\",\"0.36\",\"0.37\",\"0.38\",\"0.39\",\"0.4\",\"0.41\",\"0.42\",\"0.43\",\"0.44\",\"0.45\",\"0.46\",\"0.47\",\"0.48\",\"0.49\",\"0.5\"],\"changes\":WebIO.getval({\"name\":\"changes\",\"scope\":\"15294902769060538528\",\"id\":\"3746875887282282139\",\"type\":\"observable\"}),\"index\":WebIO.getval({\"name\":\"index\",\"scope\":\"15294902769060538528\",\"id\":\"16064240768164366783\",\"type\":\"observable\"})};\n    var self = this;\n    function AppViewModel() {\n        for (var key in json_data) {\n            var el = json_data[key];\n            this[key] = Array.isArray(el) ? ko.observableArray(el) : ko.observable(el);\n        }\n        \n        [this[\"formatted_val\"]=ko.computed(    function(){\n        return this.formatted_vals()[parseInt(this.index())-(1)];\n    }\n,this)]\n        [this[\"changes\"].subscribe((function (val){!(this.valueFromJulia[\"changes\"]) ? (WebIO.setval({\"name\":\"changes\",\"scope\":\"15294902769060538528\",\"id\":\"3746875887282282139\",\"type\":\"observable\"},val)) : undefined; return this.valueFromJulia[\"changes\"]=false}),self),this[\"index\"].subscribe((function (val){!(this.valueFromJulia[\"index\"]) ? (WebIO.setval({\"name\":\"index\",\"scope\":\"15294902769060538528\",\"id\":\"16064240768164366783\",\"type\":\"observable\"},val)) : undefined; return this.valueFromJulia[\"index\"]=false}),self)]\n        \n    }\n    self.model = new AppViewModel();\n    self.valueFromJulia = {};\n    for (var key in json_data) {\n        self.valueFromJulia[key] = false;\n    }\n    ko.applyBindings(self.model, self.dom);\n}\n);\n    (WebIO.importBlock({\"data\":[{\"name\":\"knockout\",\"type\":\"js\",\"url\":\"/assetserver/727383f2a47bd31570b7da84eee7b022dd6d7c78-knockout.js\"},{\"name\":\"knockout_punches\",\"type\":\"js\",\"url\":\"/assetserver/382b41b3b1bd9f26f75861d360bad7f8beea211f-knockout_punches.js\"}],\"type\":\"async_block\"})).then((imports) => handler.apply(this, imports));\n}\n"
                  ],
                  "observables": {
                   "changes": {
                    "id": "3746875887282282139",
                    "sync": false,
                    "value": 0
                   },
                   "index": {
                    "id": "16064240768164366783",
                    "sync": true,
                    "value": 25
                   }
                  },
                  "systemjs_options": null
                 },
                 "nodeType": "Scope",
                 "props": {},
                 "type": "node"
                }
               ],
               "instanceArgs": {
                "namespace": "html",
                "tag": "div"
               },
               "nodeType": "DOM",
               "props": {
                "className": "field interact-widget"
               },
               "type": "node"
              }
             ],
             "instanceArgs": {
              "namespace": "html",
              "tag": "div"
             },
             "nodeType": "DOM",
             "props": {
              "style": {
               "display": "flex",
               "flex-direction": "column"
              }
             },
             "type": "node"
            },
            {
             "children": [
              {
               "children": [
                {
                 "children": [
                  {
                   "children": [],
                   "instanceArgs": {
                    "namespace": "html",
                    "tag": "div"
                   },
                   "nodeType": "DOM",
                   "props": {
                    "id": "container"
                   },
                   "type": "node"
                  }
                 ],
                 "instanceArgs": {
                  "handlers": {
                   "value": [
                    "(function (txt){return this.k.render(txt,this.container)})"
                   ]
                  },
                  "id": "17211899116907497092",
                  "imports": {
                   "data": [
                    {
                     "name": null,
                     "type": "js",
                     "url": "/assetserver/dd22ed1bf1896c2748f3fe616ce0b838adc895c1-katex.min.js"
                    },
                    {
                     "name": null,
                     "type": "css",
                     "url": "/assetserver/46517a424aa5e6cffc1360d7e0848b601c584ee3-katex.min.css"
                    }
                   ],
                   "type": "async_block"
                  },
                  "mount_callbacks": [
                   "function () {\n    var handler = ((function (k){this.k=k; this.container=this.dom.querySelector(\"#container\"); return k.render(\"\\\\;\\\\;\",this.container)}));\n    (WebIO.importBlock({\"data\":[{\"name\":null,\"type\":\"js\",\"url\":\"/assetserver/dd22ed1bf1896c2748f3fe616ce0b838adc895c1-katex.min.js\"},{\"name\":null,\"type\":\"css\",\"url\":\"/assetserver/46517a424aa5e6cffc1360d7e0848b601c584ee3-katex.min.css\"}],\"type\":\"async_block\"})).then((imports) => handler.apply(this, imports));\n}\n"
                  ],
                  "observables": {
                   "value": {
                    "id": "13255816648685062562",
                    "sync": false,
                    "value": "\\;\\;"
                   }
                  },
                  "systemjs_options": null
                 },
                 "nodeType": "Scope",
                 "props": {},
                 "type": "node"
                }
               ],
               "instanceArgs": {
                "namespace": "html",
                "tag": "div"
               },
               "nodeType": "DOM",
               "props": {
                "className": "interact-widget"
               },
               "type": "node"
              },
              {
               "children": [
                {
                 "children": [
                  {
                   "children": [
                    "run"
                   ],
                   "instanceArgs": {
                    "namespace": "html",
                    "tag": "button"
                   },
                   "nodeType": "DOM",
                   "props": {
                    "attributes": {
                     "data-bind": "click: function (){this.clicks(this.clicks()+1)}, css: {'is-loading' : loading}"
                    },
                    "className": "is-medium button is-primary",
                    "style": {}
                   },
                   "type": "node"
                  }
                 ],
                 "instanceArgs": {
                  "handlers": {
                   "clicks": [
                    "(function (val){return (val!=this.model[\"clicks\"]()) ? (this.valueFromJulia[\"clicks\"]=true, this.model[\"clicks\"](val)) : undefined})"
                   ],
                   "loading": [
                    "(function (val){return (val!=this.model[\"loading\"]()) ? (this.valueFromJulia[\"loading\"]=true, this.model[\"loading\"](val)) : undefined})"
                   ]
                  },
                  "id": "7793988162607178682",
                  "imports": {
                   "data": [
                    {
                     "name": "knockout",
                     "type": "js",
                     "url": "/assetserver/727383f2a47bd31570b7da84eee7b022dd6d7c78-knockout.js"
                    },
                    {
                     "name": "knockout_punches",
                     "type": "js",
                     "url": "/assetserver/382b41b3b1bd9f26f75861d360bad7f8beea211f-knockout_punches.js"
                    },
                    {
                     "name": null,
                     "type": "js",
                     "url": "/assetserver/5ab20f1060420992a9b82a65b735dee4d81ef413-all.js"
                    },
                    {
                     "name": null,
                     "type": "css",
                     "url": "/assetserver/1cc0ed62837210b80a182cc3676512f895dab686-style.css"
                    },
                    {
                     "name": null,
                     "type": "css",
                     "url": "/assetserver/2eee816f616df3549d7044d45e744fbf8d42bfa1-bulma_confined.min.css"
                    }
                   ],
                   "type": "async_block"
                  },
                  "mount_callbacks": [
                   "function () {\n    var handler = (function (ko, koPunches) {\n    ko.punches.enableAll();\n    ko.bindingHandlers.numericValue = {\n        init: function(element, valueAccessor, allBindings, data, context) {\n            var stringified = ko.observable(ko.unwrap(valueAccessor()));\n            stringified.subscribe(function(value) {\n                var val = parseFloat(value);\n                if (!isNaN(val)) {\n                    valueAccessor()(val);\n                }\n            });\n            valueAccessor().subscribe(function(value) {\n                var str = JSON.stringify(value);\n                if ((str == \"0\") && ([\"-0\", \"-0.\"].indexOf(stringified()) >= 0))\n                     return;\n                 if ([\"null\", \"\"].indexOf(str) >= 0)\n                     return;\n                stringified(str);\n            });\n            ko.applyBindingsToNode(\n                element,\n                {\n                    value: stringified,\n                    valueUpdate: allBindings.get('valueUpdate'),\n                },\n                context,\n            );\n        }\n    };\n    var json_data = {\"loading\":WebIO.getval({\"name\":\"loading\",\"scope\":\"7793988162607178682\",\"id\":\"6372968280912976767\",\"type\":\"observable\"}),\"clicks\":WebIO.getval({\"name\":\"clicks\",\"scope\":\"7793988162607178682\",\"id\":\"13740959621563923234\",\"type\":\"observable\"})};\n    var self = this;\n    function AppViewModel() {\n        for (var key in json_data) {\n            var el = json_data[key];\n            this[key] = Array.isArray(el) ? ko.observableArray(el) : ko.observable(el);\n        }\n        \n        \n        [this[\"loading\"].subscribe((function (val){!(this.valueFromJulia[\"loading\"]) ? (WebIO.setval({\"name\":\"loading\",\"scope\":\"7793988162607178682\",\"id\":\"6372968280912976767\",\"type\":\"observable\"},val)) : undefined; return this.valueFromJulia[\"loading\"]=false}),self),this[\"clicks\"].subscribe((function (val){!(this.valueFromJulia[\"clicks\"]) ? (WebIO.setval({\"name\":\"clicks\",\"scope\":\"7793988162607178682\",\"id\":\"13740959621563923234\",\"type\":\"observable\"},val)) : undefined; return this.valueFromJulia[\"clicks\"]=false}),self)]\n        \n    }\n    self.model = new AppViewModel();\n    self.valueFromJulia = {};\n    for (var key in json_data) {\n        self.valueFromJulia[key] = false;\n    }\n    ko.applyBindings(self.model, self.dom);\n}\n);\n    (WebIO.importBlock({\"data\":[{\"name\":\"knockout\",\"type\":\"js\",\"url\":\"/assetserver/727383f2a47bd31570b7da84eee7b022dd6d7c78-knockout.js\"},{\"name\":\"knockout_punches\",\"type\":\"js\",\"url\":\"/assetserver/382b41b3b1bd9f26f75861d360bad7f8beea211f-knockout_punches.js\"}],\"type\":\"async_block\"})).then((imports) => handler.apply(this, imports));\n}\n"
                  ],
                  "observables": {
                   "clicks": {
                    "id": "13740959621563923234",
                    "sync": true,
                    "value": 0
                   },
                   "loading": {
                    "id": "6372968280912976767",
                    "sync": false,
                    "value": false
                   }
                  },
                  "systemjs_options": null
                 },
                 "nodeType": "Scope",
                 "props": {},
                 "type": "node"
                }
               ],
               "instanceArgs": {
                "namespace": "html",
                "tag": "div"
               },
               "nodeType": "DOM",
               "props": {
                "className": "field interact-widget"
               },
               "type": "node"
              },
              {
               "children": [
                {
                 "children": [
                  {
                   "children": [],
                   "instanceArgs": {
                    "namespace": "html",
                    "tag": "div"
                   },
                   "nodeType": "DOM",
                   "props": {
                    "id": "container"
                   },
                   "type": "node"
                  }
                 ],
                 "instanceArgs": {
                  "handlers": {
                   "value": [
                    "(function (txt){return this.k.render(txt,this.container)})"
                   ]
                  },
                  "id": "17211899116907497092",
                  "imports": {
                   "data": [
                    {
                     "name": null,
                     "type": "js",
                     "url": "/assetserver/dd22ed1bf1896c2748f3fe616ce0b838adc895c1-katex.min.js"
                    },
                    {
                     "name": null,
                     "type": "css",
                     "url": "/assetserver/46517a424aa5e6cffc1360d7e0848b601c584ee3-katex.min.css"
                    }
                   ],
                   "type": "async_block"
                  },
                  "mount_callbacks": [
                   "function () {\n    var handler = ((function (k){this.k=k; this.container=this.dom.querySelector(\"#container\"); return k.render(\"\\\\;\\\\;\",this.container)}));\n    (WebIO.importBlock({\"data\":[{\"name\":null,\"type\":\"js\",\"url\":\"/assetserver/dd22ed1bf1896c2748f3fe616ce0b838adc895c1-katex.min.js\"},{\"name\":null,\"type\":\"css\",\"url\":\"/assetserver/46517a424aa5e6cffc1360d7e0848b601c584ee3-katex.min.css\"}],\"type\":\"async_block\"})).then((imports) => handler.apply(this, imports));\n}\n"
                  ],
                  "observables": {
                   "value": {
                    "id": "13255816648685062562",
                    "sync": false,
                    "value": "\\;\\;"
                   }
                  },
                  "systemjs_options": null
                 },
                 "nodeType": "Scope",
                 "props": {},
                 "type": "node"
                }
               ],
               "instanceArgs": {
                "namespace": "html",
                "tag": "div"
               },
               "nodeType": "DOM",
               "props": {
                "className": "interact-widget"
               },
               "type": "node"
              },
              {
               "children": [
                {
                 "children": [
                  {
                   "children": [
                    "stop"
                   ],
                   "instanceArgs": {
                    "namespace": "html",
                    "tag": "button"
                   },
                   "nodeType": "DOM",
                   "props": {
                    "attributes": {
                     "data-bind": "click: function (){this.clicks(this.clicks()+1)}, css: {'is-loading' : loading}"
                    },
                    "className": "is-medium button is-primary",
                    "style": {}
                   },
                   "type": "node"
                  }
                 ],
                 "instanceArgs": {
                  "handlers": {
                   "clicks": [
                    "(function (val){return (val!=this.model[\"clicks\"]()) ? (this.valueFromJulia[\"clicks\"]=true, this.model[\"clicks\"](val)) : undefined})"
                   ],
                   "loading": [
                    "(function (val){return (val!=this.model[\"loading\"]()) ? (this.valueFromJulia[\"loading\"]=true, this.model[\"loading\"](val)) : undefined})"
                   ]
                  },
                  "id": "4754068583201390714",
                  "imports": {
                   "data": [
                    {
                     "name": "knockout",
                     "type": "js",
                     "url": "/assetserver/727383f2a47bd31570b7da84eee7b022dd6d7c78-knockout.js"
                    },
                    {
                     "name": "knockout_punches",
                     "type": "js",
                     "url": "/assetserver/382b41b3b1bd9f26f75861d360bad7f8beea211f-knockout_punches.js"
                    },
                    {
                     "name": null,
                     "type": "js",
                     "url": "/assetserver/5ab20f1060420992a9b82a65b735dee4d81ef413-all.js"
                    },
                    {
                     "name": null,
                     "type": "css",
                     "url": "/assetserver/1cc0ed62837210b80a182cc3676512f895dab686-style.css"
                    },
                    {
                     "name": null,
                     "type": "css",
                     "url": "/assetserver/2eee816f616df3549d7044d45e744fbf8d42bfa1-bulma_confined.min.css"
                    }
                   ],
                   "type": "async_block"
                  },
                  "mount_callbacks": [
                   "function () {\n    var handler = (function (ko, koPunches) {\n    ko.punches.enableAll();\n    ko.bindingHandlers.numericValue = {\n        init: function(element, valueAccessor, allBindings, data, context) {\n            var stringified = ko.observable(ko.unwrap(valueAccessor()));\n            stringified.subscribe(function(value) {\n                var val = parseFloat(value);\n                if (!isNaN(val)) {\n                    valueAccessor()(val);\n                }\n            });\n            valueAccessor().subscribe(function(value) {\n                var str = JSON.stringify(value);\n                if ((str == \"0\") && ([\"-0\", \"-0.\"].indexOf(stringified()) >= 0))\n                     return;\n                 if ([\"null\", \"\"].indexOf(str) >= 0)\n                     return;\n                stringified(str);\n            });\n            ko.applyBindingsToNode(\n                element,\n                {\n                    value: stringified,\n                    valueUpdate: allBindings.get('valueUpdate'),\n                },\n                context,\n            );\n        }\n    };\n    var json_data = {\"loading\":WebIO.getval({\"name\":\"loading\",\"scope\":\"4754068583201390714\",\"id\":\"3822555932011583206\",\"type\":\"observable\"}),\"clicks\":WebIO.getval({\"name\":\"clicks\",\"scope\":\"4754068583201390714\",\"id\":\"6493079553838803053\",\"type\":\"observable\"})};\n    var self = this;\n    function AppViewModel() {\n        for (var key in json_data) {\n            var el = json_data[key];\n            this[key] = Array.isArray(el) ? ko.observableArray(el) : ko.observable(el);\n        }\n        \n        \n        [this[\"loading\"].subscribe((function (val){!(this.valueFromJulia[\"loading\"]) ? (WebIO.setval({\"name\":\"loading\",\"scope\":\"4754068583201390714\",\"id\":\"3822555932011583206\",\"type\":\"observable\"},val)) : undefined; return this.valueFromJulia[\"loading\"]=false}),self),this[\"clicks\"].subscribe((function (val){!(this.valueFromJulia[\"clicks\"]) ? (WebIO.setval({\"name\":\"clicks\",\"scope\":\"4754068583201390714\",\"id\":\"6493079553838803053\",\"type\":\"observable\"},val)) : undefined; return this.valueFromJulia[\"clicks\"]=false}),self)]\n        \n    }\n    self.model = new AppViewModel();\n    self.valueFromJulia = {};\n    for (var key in json_data) {\n        self.valueFromJulia[key] = false;\n    }\n    ko.applyBindings(self.model, self.dom);\n}\n);\n    (WebIO.importBlock({\"data\":[{\"name\":\"knockout\",\"type\":\"js\",\"url\":\"/assetserver/727383f2a47bd31570b7da84eee7b022dd6d7c78-knockout.js\"},{\"name\":\"knockout_punches\",\"type\":\"js\",\"url\":\"/assetserver/382b41b3b1bd9f26f75861d360bad7f8beea211f-knockout_punches.js\"}],\"type\":\"async_block\"})).then((imports) => handler.apply(this, imports));\n}\n"
                  ],
                  "observables": {
                   "clicks": {
                    "id": "6493079553838803053",
                    "sync": true,
                    "value": 0
                   },
                   "loading": {
                    "id": "3822555932011583206",
                    "sync": false,
                    "value": false
                   }
                  },
                  "systemjs_options": null
                 },
                 "nodeType": "Scope",
                 "props": {},
                 "type": "node"
                }
               ],
               "instanceArgs": {
                "namespace": "html",
                "tag": "div"
               },
               "nodeType": "DOM",
               "props": {
                "className": "field interact-widget"
               },
               "type": "node"
              },
              {
               "children": [
                {
                 "children": [
                  {
                   "children": [],
                   "instanceArgs": {
                    "namespace": "html",
                    "tag": "div"
                   },
                   "nodeType": "DOM",
                   "props": {
                    "id": "container"
                   },
                   "type": "node"
                  }
                 ],
                 "instanceArgs": {
                  "handlers": {
                   "value": [
                    "(function (txt){return this.k.render(txt,this.container)})"
                   ]
                  },
                  "id": "17211899116907497092",
                  "imports": {
                   "data": [
                    {
                     "name": null,
                     "type": "js",
                     "url": "/assetserver/dd22ed1bf1896c2748f3fe616ce0b838adc895c1-katex.min.js"
                    },
                    {
                     "name": null,
                     "type": "css",
                     "url": "/assetserver/46517a424aa5e6cffc1360d7e0848b601c584ee3-katex.min.css"
                    }
                   ],
                   "type": "async_block"
                  },
                  "mount_callbacks": [
                   "function () {\n    var handler = ((function (k){this.k=k; this.container=this.dom.querySelector(\"#container\"); return k.render(\"\\\\;\\\\;\",this.container)}));\n    (WebIO.importBlock({\"data\":[{\"name\":null,\"type\":\"js\",\"url\":\"/assetserver/dd22ed1bf1896c2748f3fe616ce0b838adc895c1-katex.min.js\"},{\"name\":null,\"type\":\"css\",\"url\":\"/assetserver/46517a424aa5e6cffc1360d7e0848b601c584ee3-katex.min.css\"}],\"type\":\"async_block\"})).then((imports) => handler.apply(this, imports));\n}\n"
                  ],
                  "observables": {
                   "value": {
                    "id": "13255816648685062562",
                    "sync": false,
                    "value": "\\;\\;"
                   }
                  },
                  "systemjs_options": null
                 },
                 "nodeType": "Scope",
                 "props": {},
                 "type": "node"
                }
               ],
               "instanceArgs": {
                "namespace": "html",
                "tag": "div"
               },
               "nodeType": "DOM",
               "props": {
                "className": "interact-widget"
               },
               "type": "node"
              },
              {
               "children": [
                {
                 "children": [
                  {
                   "children": [
                    "reset"
                   ],
                   "instanceArgs": {
                    "namespace": "html",
                    "tag": "button"
                   },
                   "nodeType": "DOM",
                   "props": {
                    "attributes": {
                     "data-bind": "click: function (){this.clicks(this.clicks()+1)}, css: {'is-loading' : loading}"
                    },
                    "className": "is-medium button is-primary",
                    "style": {}
                   },
                   "type": "node"
                  }
                 ],
                 "instanceArgs": {
                  "handlers": {
                   "clicks": [
                    "(function (val){return (val!=this.model[\"clicks\"]()) ? (this.valueFromJulia[\"clicks\"]=true, this.model[\"clicks\"](val)) : undefined})"
                   ],
                   "loading": [
                    "(function (val){return (val!=this.model[\"loading\"]()) ? (this.valueFromJulia[\"loading\"]=true, this.model[\"loading\"](val)) : undefined})"
                   ]
                  },
                  "id": "11760226480460668218",
                  "imports": {
                   "data": [
                    {
                     "name": "knockout",
                     "type": "js",
                     "url": "/assetserver/727383f2a47bd31570b7da84eee7b022dd6d7c78-knockout.js"
                    },
                    {
                     "name": "knockout_punches",
                     "type": "js",
                     "url": "/assetserver/382b41b3b1bd9f26f75861d360bad7f8beea211f-knockout_punches.js"
                    },
                    {
                     "name": null,
                     "type": "js",
                     "url": "/assetserver/5ab20f1060420992a9b82a65b735dee4d81ef413-all.js"
                    },
                    {
                     "name": null,
                     "type": "css",
                     "url": "/assetserver/1cc0ed62837210b80a182cc3676512f895dab686-style.css"
                    },
                    {
                     "name": null,
                     "type": "css",
                     "url": "/assetserver/2eee816f616df3549d7044d45e744fbf8d42bfa1-bulma_confined.min.css"
                    }
                   ],
                   "type": "async_block"
                  },
                  "mount_callbacks": [
                   "function () {\n    var handler = (function (ko, koPunches) {\n    ko.punches.enableAll();\n    ko.bindingHandlers.numericValue = {\n        init: function(element, valueAccessor, allBindings, data, context) {\n            var stringified = ko.observable(ko.unwrap(valueAccessor()));\n            stringified.subscribe(function(value) {\n                var val = parseFloat(value);\n                if (!isNaN(val)) {\n                    valueAccessor()(val);\n                }\n            });\n            valueAccessor().subscribe(function(value) {\n                var str = JSON.stringify(value);\n                if ((str == \"0\") && ([\"-0\", \"-0.\"].indexOf(stringified()) >= 0))\n                     return;\n                 if ([\"null\", \"\"].indexOf(str) >= 0)\n                     return;\n                stringified(str);\n            });\n            ko.applyBindingsToNode(\n                element,\n                {\n                    value: stringified,\n                    valueUpdate: allBindings.get('valueUpdate'),\n                },\n                context,\n            );\n        }\n    };\n    var json_data = {\"loading\":WebIO.getval({\"name\":\"loading\",\"scope\":\"11760226480460668218\",\"id\":\"13558406670909723964\",\"type\":\"observable\"}),\"clicks\":WebIO.getval({\"name\":\"clicks\",\"scope\":\"11760226480460668218\",\"id\":\"17889190989578752032\",\"type\":\"observable\"})};\n    var self = this;\n    function AppViewModel() {\n        for (var key in json_data) {\n            var el = json_data[key];\n            this[key] = Array.isArray(el) ? ko.observableArray(el) : ko.observable(el);\n        }\n        \n        \n        [this[\"loading\"].subscribe((function (val){!(this.valueFromJulia[\"loading\"]) ? (WebIO.setval({\"name\":\"loading\",\"scope\":\"11760226480460668218\",\"id\":\"13558406670909723964\",\"type\":\"observable\"},val)) : undefined; return this.valueFromJulia[\"loading\"]=false}),self),this[\"clicks\"].subscribe((function (val){!(this.valueFromJulia[\"clicks\"]) ? (WebIO.setval({\"name\":\"clicks\",\"scope\":\"11760226480460668218\",\"id\":\"17889190989578752032\",\"type\":\"observable\"},val)) : undefined; return this.valueFromJulia[\"clicks\"]=false}),self)]\n        \n    }\n    self.model = new AppViewModel();\n    self.valueFromJulia = {};\n    for (var key in json_data) {\n        self.valueFromJulia[key] = false;\n    }\n    ko.applyBindings(self.model, self.dom);\n}\n);\n    (WebIO.importBlock({\"data\":[{\"name\":\"knockout\",\"type\":\"js\",\"url\":\"/assetserver/727383f2a47bd31570b7da84eee7b022dd6d7c78-knockout.js\"},{\"name\":\"knockout_punches\",\"type\":\"js\",\"url\":\"/assetserver/382b41b3b1bd9f26f75861d360bad7f8beea211f-knockout_punches.js\"}],\"type\":\"async_block\"})).then((imports) => handler.apply(this, imports));\n}\n"
                  ],
                  "observables": {
                   "clicks": {
                    "id": "17889190989578752032",
                    "sync": true,
                    "value": 0
                   },
                   "loading": {
                    "id": "13558406670909723964",
                    "sync": false,
                    "value": false
                   }
                  },
                  "systemjs_options": null
                 },
                 "nodeType": "Scope",
                 "props": {},
                 "type": "node"
                }
               ],
               "instanceArgs": {
                "namespace": "html",
                "tag": "div"
               },
               "nodeType": "DOM",
               "props": {
                "className": "field interact-widget"
               },
               "type": "node"
              },
              {
               "children": [
                {
                 "children": [
                  {
                   "children": [],
                   "instanceArgs": {
                    "namespace": "html",
                    "tag": "div"
                   },
                   "nodeType": "DOM",
                   "props": {
                    "id": "container"
                   },
                   "type": "node"
                  }
                 ],
                 "instanceArgs": {
                  "handlers": {
                   "value": [
                    "(function (txt){return this.k.render(txt,this.container)})"
                   ]
                  },
                  "id": "17211899116907497092",
                  "imports": {
                   "data": [
                    {
                     "name": null,
                     "type": "js",
                     "url": "/assetserver/dd22ed1bf1896c2748f3fe616ce0b838adc895c1-katex.min.js"
                    },
                    {
                     "name": null,
                     "type": "css",
                     "url": "/assetserver/46517a424aa5e6cffc1360d7e0848b601c584ee3-katex.min.css"
                    }
                   ],
                   "type": "async_block"
                  },
                  "mount_callbacks": [
                   "function () {\n    var handler = ((function (k){this.k=k; this.container=this.dom.querySelector(\"#container\"); return k.render(\"\\\\;\\\\;\",this.container)}));\n    (WebIO.importBlock({\"data\":[{\"name\":null,\"type\":\"js\",\"url\":\"/assetserver/dd22ed1bf1896c2748f3fe616ce0b838adc895c1-katex.min.js\"},{\"name\":null,\"type\":\"css\",\"url\":\"/assetserver/46517a424aa5e6cffc1360d7e0848b601c584ee3-katex.min.css\"}],\"type\":\"async_block\"})).then((imports) => handler.apply(this, imports));\n}\n"
                  ],
                  "observables": {
                   "value": {
                    "id": "13255816648685062562",
                    "sync": false,
                    "value": "\\;\\;"
                   }
                  },
                  "systemjs_options": null
                 },
                 "nodeType": "Scope",
                 "props": {},
                 "type": "node"
                }
               ],
               "instanceArgs": {
                "namespace": "html",
                "tag": "div"
               },
               "nodeType": "DOM",
               "props": {
                "className": "interact-widget"
               },
               "type": "node"
              },
              {
               "children": [
                {
                 "children": [
                  {
                   "children": [
                    "save"
                   ],
                   "instanceArgs": {
                    "namespace": "html",
                    "tag": "button"
                   },
                   "nodeType": "DOM",
                   "props": {
                    "attributes": {
                     "data-bind": "click: function (){this.clicks(this.clicks()+1)}, css: {'is-loading' : loading}"
                    },
                    "className": "is-medium button is-primary",
                    "style": {}
                   },
                   "type": "node"
                  }
                 ],
                 "instanceArgs": {
                  "handlers": {
                   "clicks": [
                    "(function (val){return (val!=this.model[\"clicks\"]()) ? (this.valueFromJulia[\"clicks\"]=true, this.model[\"clicks\"](val)) : undefined})"
                   ],
                   "loading": [
                    "(function (val){return (val!=this.model[\"loading\"]()) ? (this.valueFromJulia[\"loading\"]=true, this.model[\"loading\"](val)) : undefined})"
                   ]
                  },
                  "id": "12652724698627698515",
                  "imports": {
                   "data": [
                    {
                     "name": "knockout",
                     "type": "js",
                     "url": "/assetserver/727383f2a47bd31570b7da84eee7b022dd6d7c78-knockout.js"
                    },
                    {
                     "name": "knockout_punches",
                     "type": "js",
                     "url": "/assetserver/382b41b3b1bd9f26f75861d360bad7f8beea211f-knockout_punches.js"
                    },
                    {
                     "name": null,
                     "type": "js",
                     "url": "/assetserver/5ab20f1060420992a9b82a65b735dee4d81ef413-all.js"
                    },
                    {
                     "name": null,
                     "type": "css",
                     "url": "/assetserver/1cc0ed62837210b80a182cc3676512f895dab686-style.css"
                    },
                    {
                     "name": null,
                     "type": "css",
                     "url": "/assetserver/2eee816f616df3549d7044d45e744fbf8d42bfa1-bulma_confined.min.css"
                    }
                   ],
                   "type": "async_block"
                  },
                  "mount_callbacks": [
                   "function () {\n    var handler = (function (ko, koPunches) {\n    ko.punches.enableAll();\n    ko.bindingHandlers.numericValue = {\n        init: function(element, valueAccessor, allBindings, data, context) {\n            var stringified = ko.observable(ko.unwrap(valueAccessor()));\n            stringified.subscribe(function(value) {\n                var val = parseFloat(value);\n                if (!isNaN(val)) {\n                    valueAccessor()(val);\n                }\n            });\n            valueAccessor().subscribe(function(value) {\n                var str = JSON.stringify(value);\n                if ((str == \"0\") && ([\"-0\", \"-0.\"].indexOf(stringified()) >= 0))\n                     return;\n                 if ([\"null\", \"\"].indexOf(str) >= 0)\n                     return;\n                stringified(str);\n            });\n            ko.applyBindingsToNode(\n                element,\n                {\n                    value: stringified,\n                    valueUpdate: allBindings.get('valueUpdate'),\n                },\n                context,\n            );\n        }\n    };\n    var json_data = {\"loading\":WebIO.getval({\"name\":\"loading\",\"scope\":\"12652724698627698515\",\"id\":\"2515273884141727421\",\"type\":\"observable\"}),\"clicks\":WebIO.getval({\"name\":\"clicks\",\"scope\":\"12652724698627698515\",\"id\":\"6763157289489929499\",\"type\":\"observable\"})};\n    var self = this;\n    function AppViewModel() {\n        for (var key in json_data) {\n            var el = json_data[key];\n            this[key] = Array.isArray(el) ? ko.observableArray(el) : ko.observable(el);\n        }\n        \n        \n        [this[\"loading\"].subscribe((function (val){!(this.valueFromJulia[\"loading\"]) ? (WebIO.setval({\"name\":\"loading\",\"scope\":\"12652724698627698515\",\"id\":\"2515273884141727421\",\"type\":\"observable\"},val)) : undefined; return this.valueFromJulia[\"loading\"]=false}),self),this[\"clicks\"].subscribe((function (val){!(this.valueFromJulia[\"clicks\"]) ? (WebIO.setval({\"name\":\"clicks\",\"scope\":\"12652724698627698515\",\"id\":\"6763157289489929499\",\"type\":\"observable\"},val)) : undefined; return this.valueFromJulia[\"clicks\"]=false}),self)]\n        \n    }\n    self.model = new AppViewModel();\n    self.valueFromJulia = {};\n    for (var key in json_data) {\n        self.valueFromJulia[key] = false;\n    }\n    ko.applyBindings(self.model, self.dom);\n}\n);\n    (WebIO.importBlock({\"data\":[{\"name\":\"knockout\",\"type\":\"js\",\"url\":\"/assetserver/727383f2a47bd31570b7da84eee7b022dd6d7c78-knockout.js\"},{\"name\":\"knockout_punches\",\"type\":\"js\",\"url\":\"/assetserver/382b41b3b1bd9f26f75861d360bad7f8beea211f-knockout_punches.js\"}],\"type\":\"async_block\"})).then((imports) => handler.apply(this, imports));\n}\n"
                  ],
                  "observables": {
                   "clicks": {
                    "id": "6763157289489929499",
                    "sync": true,
                    "value": 0
                   },
                   "loading": {
                    "id": "2515273884141727421",
                    "sync": false,
                    "value": false
                   }
                  },
                  "systemjs_options": null
                 },
                 "nodeType": "Scope",
                 "props": {},
                 "type": "node"
                }
               ],
               "instanceArgs": {
                "namespace": "html",
                "tag": "div"
               },
               "nodeType": "DOM",
               "props": {
                "className": "field interact-widget"
               },
               "type": "node"
              }
             ],
             "instanceArgs": {
              "namespace": "html",
              "tag": "div"
             },
             "nodeType": "DOM",
             "props": {
              "style": {
               "display": "flex",
               "flex-direction": "row"
              }
             },
             "type": "node"
            }
           ],
           "instanceArgs": {
            "namespace": "html",
            "tag": "div"
           },
           "nodeType": "DOM",
           "props": {
            "style": {
             "display": "flex",
             "flex-direction": "column"
            }
           },
           "type": "node"
          },
          {
           "children": [
            {
             "children": [
              {
               "children": [],
               "instanceArgs": {
                "namespace": "html",
                "tag": "div"
               },
               "nodeType": "DOM",
               "props": {
                "id": "container"
               },
               "type": "node"
              }
             ],
             "instanceArgs": {
              "handlers": {
               "value": [
                "(function (txt){return this.k.render(txt,this.container)})"
               ]
              },
              "id": "17211899116907497092",
              "imports": {
               "data": [
                {
                 "name": null,
                 "type": "js",
                 "url": "/assetserver/dd22ed1bf1896c2748f3fe616ce0b838adc895c1-katex.min.js"
                },
                {
                 "name": null,
                 "type": "css",
                 "url": "/assetserver/46517a424aa5e6cffc1360d7e0848b601c584ee3-katex.min.css"
                }
               ],
               "type": "async_block"
              },
              "mount_callbacks": [
               "function () {\n    var handler = ((function (k){this.k=k; this.container=this.dom.querySelector(\"#container\"); return k.render(\"\\\\;\\\\;\",this.container)}));\n    (WebIO.importBlock({\"data\":[{\"name\":null,\"type\":\"js\",\"url\":\"/assetserver/dd22ed1bf1896c2748f3fe616ce0b838adc895c1-katex.min.js\"},{\"name\":null,\"type\":\"css\",\"url\":\"/assetserver/46517a424aa5e6cffc1360d7e0848b601c584ee3-katex.min.css\"}],\"type\":\"async_block\"})).then((imports) => handler.apply(this, imports));\n}\n"
              ],
              "observables": {
               "value": {
                "id": "13255816648685062562",
                "sync": false,
                "value": "\\;\\;"
               }
              },
              "systemjs_options": null
             },
             "nodeType": "Scope",
             "props": {},
             "type": "node"
            }
           ],
           "instanceArgs": {
            "namespace": "html",
            "tag": "div"
           },
           "nodeType": "DOM",
           "props": {
            "className": "interact-widget"
           },
           "type": "node"
          },
          {
           "children": [
            {
             "children": [],
             "instanceArgs": {
              "namespace": "html",
              "tag": "div"
             },
             "nodeType": "DOM",
             "props": {
              "className": "webio-observable",
              "setInnerHtml": "<img src='data:image/png;base64,iVBORw0KGgoAAAANSUhEUgAAAa4AAAGuCAIAAABHl3XNAAAABmJLR0QA/wD/AP+gvaeTAAAgAElEQVR4nO2dT2hc57mHXzvNtSbQRaOOpkpJQ42hCurKQpFbb3JNF67/SVG1KDQbZxFjqJ0GWkixYIpsOZDSdCEoVIissiqNYhUiCv1zU7cXR72JFm2EE0hVaNq4tmx3UWNN3Dszd6HY1+oZTb7j3zl6zzd6HrKwPuan9zvf952XEx88z7Zms2kAAFub7d4TAADwh1YIAEArBACgFQIAGK0QAMBohQAARisEADBaIQCA0QoBAIxWCABgtEIAAKMVAgAYrRAAwGiFAABm9olUn972n9vs8Xuq87qZGVmyZMluWrb5Xym+gTBdK7THzarpEusgS5Ys2c3MBsP/IAMA0AoBAGiFAABGKwQAMPdW2G/95+zcFbtyxa6cs3P91t/ZdRWUOXtlh/8yfOkfl+qNer1Rv/SPS8N/Gd6cul54zXnYhi/ZpbrV61a/ZJeGLcU6K1nlek/YiZrVmtZsWrNmtRN2YnPqbkgzDfY9s+Y9/fc9S2Yfaz622ly9+/evNlcfaz4Wko2xrtecvbJH/3Q0eYSO/ukoe5Rt3aPNVuvcDFpnJatc70RzIll3ojmRbd1kiTZ4PhWesTNd1nX3SJd1nbEznVpXQZmzV/b7n/5+4GC2db3wmvP3rdU6txrMNqtc73P2XOBgtnXb4NkKv2RfChzsjLoKypy9sg9+8sHAwWzreuE15wet1Tq3Gsw2q1zv/XZ/4GC2ddvAaxMAANdW+N/234GDnVFXQZmzV/baP68FDmZb1wuvOV+zVuvcajDbrHK9t+xW4GC2ddvg2QpP2alVW717ZNVWT9mpTq2roMzZK/vstWcDB7Ot64XXnJ+1VuvcajDbrHK9Lf9qL/Dv+3JaZ89W+Ja9tdt2z9rsZbt82S7P2uxu2/2WvdWpdRWUOXtlX/78ywffP/jB9Q8ajUaj0fjg+gcH3z/48udfzruuF15zftlePmgHP7APGtZoWOMD++CgHXzZgtZZySrXe9pOH7NjNaut/Viz2jE7dtpO5123DSm/jiFr3rF3vmZf2zp1FZQ5e2XnH57/rH32ox8etLC/js+grhdec563u9Z5E7PK9U7b9LRNb37djeC1CQAArRAAgFYIAGC0QgAAS/3a5PV7rXPPQbJkyZK9t2w1xcd5KgQAwG1ClizZDs4Gw1MhAACtEACAVggAYLRCAADLpBV6uREUYnRQKC6IXUu7hkaGunu6u3u6h0aGdi3tCs9KbhPher3mfNbO1q2+ts51q5+1s+FZL6ZtumGNtTk3rJHq3/YqWWV/FYroNvFyI2w1B4Xiguhf6O/qWv8F6F1d/Qv9ea+Vcr1ec55pziTnPNOcyftsKNm55lxyznPNubyzyv4q11tQt4mXG0EhRgeF4oLYMb6jVqvdPVKr1XaM7wjJSm4T4Xq95vyUPRU4WByO2JHAwWyzyv4qFNRt4uVGUIjRQaG4IN698G7gYBLJbSJcr9ect9m2wEFQ9lcBtwkAQF6ordDLjaAQo4NCcUH07e0LHEwiuU2E6/Wac8MagYPFoWnNwMFss8r+KhTUbeLlRlCI0UGhuCBuTt4slUp3j5RKpZuTN0OykttEuF6vObd8f3rPX7a8OczabOBgtlllfxUK6jbxciMoxOigUFwQFwcu9i727hndU66Uy5XyntE9vYu9FwcuhmQlt4lwvV5zPm7Hq1atW33tx7rVq1Y9bsdDsl6M2diUTd15lGtac8qmxmws76yyvwrFdZt4uREUYnRQKC6I5b7l5VeW1/68YiupspLbRLherzlP2MSETdxb1ouTdvKkndz8rLK/CrhNAABygVYIAEArBACgFQIAGG4TsmTJdmy2muLjPBUCAOA2IUuWbAdng+GpEACAVggAQCsEADBaIQCAubdCxVHg5SfxwmutYnTXKHits7RWc2a9ZveZ3WfWazaXIqrsr+KB8TqTG5Lq6/+L4xjx8pN4Zb3WKkZ3TYzrLK3VS61u7JeCrlfZX8UDszlnMvmxNng+FSqOAi8/iRdeaxWju0bBa52ltfpO8GACZX8VD4zXmWyDZytUHAVefhIvvNYqRneNgtc6S2t1PXgwgbK/igfG60y2gdcmAACurVBxFHj5SbzwWqsY3TUKXussrVV38GACZX8VD4zXmWyDZytUHAVefhIvvNYqRneNgtc6S2v1w+DBBMr+Kh4YrzPZBs9WqDgKvPwkXnitVYzuGgWvdZbW6kmz18weMttutt3sIbPXzJ4Miir7q3hgvM5kGzJwmygojgIvP4kXXmsVo7tGwWudpbU6YPa3e4wq+6t4YLzO5Ebw2gQAgFYIAEArBAAwWiEAgOE2IUuWbMdmqyk+zlMhAABuE7JkyXZwNhieCgEAaIUAALRCAACjFQIAmHsrPGEnalZbcyPUrHbCToRnc/EbFLhujJ6QGPeocM6NAJQ5n105W2/c9pM06mdXUvhJvNY5l3sh1df/Z+uRmGhOJEtMNCfydjIoc/aqG6MnJMY98vLAeJ2NmSut/CRXgvwkXuscnk1Orw2eT4XP2XOBg0ly8hsUtm6MnpAY96iAzo2PRZnzU59u5SdpNZjEa51zuhc8W+H9dn/gYJKc/AaFrRujJyTGPSqgc+NjUea8bVsrP0mrwSRe65zTvcBrEwAA11Z4y24FDibJyW9Q2LoxekJi3KMCOjc+FmXOjWYrP0mrwSRe65zTveDsQQ4cTJKT36CwdWP0hMS4RwV0bnwsypynr7byk7QaTOK1zjndC56t8LSdPmbHalZb+7FmtWN27LSdDsnm5DcobN0YPSEx7lEBnRu5zvl4+Xj1arXeuO0nadSrV6vHy0F+Eq91zulecHabTNt0oCIrSR5+gyLXjdETEuMeFc25EYIy54lP3+Un2W726RRZr3XO417gtQkAAK0QAIBWCABgtEIAAMNtQpYs2Y7NVlN8nKdCAADcJmTJku3gbDA8FQIA0AoBAGiFAABGKwQAsKhboeI32PfLffsP7i/3lMs95f0H9+/75b785nk3Xt6MfUv79o/cvt6R/fuWUlyvl4NCySrOHC+2mlOlcHVTff1/cbwZihvh0Oyhrq71Xwje1XVo9lCR56x4JA4ttLrehaDr3RwHRbZZxZmj7G+MZ8NrzptTN7ksbYj1qVDxG9yYulGr1e4eqdVqN6ZuZDm/Vnh5M26Mt7re8aDr9XJQKFnFmePFVnOqFLBurK1Q8Ru8+T9vBg5mi5c3480Lra631WASLweFklWcOV5sNadKAevG2goBADIk1lao+A0GhwYDB7PFy5sxuLfV9bYaTOLloFCyijPHi63mVClg3VhboeI3KD1TKpVK60ZKpdIzpY0+nxVe3ozSZKvrnQy6Xi8HhZJVnDlebDWnSgHrxtoKFb/B/OH5wfnBA4cOVCqVSqVy4NCBwfnB+cPzRZ6z4pGYH5gfXBw8MHr7ekcPDC4Ozg8EXa+Xg0LJKs4cL7aaU6WAdZ3dJgqK3+D84+ft8Y/+PG+5N8E7eHkzzvedt1f+//ekyno5KJSs4szxYqs5VYpWN9anQgCADKEVAgDQCgEAaIUAAIbbhCxZsh2brab4OE+FAAC4TciSJdvB2WB4KgQAoBUCANAKAQCMVggAYJm0Qi+vguKv8PJm7FraNTQy1N3T3d3TPTQytGtpV3hWQdmjGJ0bCjG6XHCbZPBLU339f3G8Coq/wsub0b/Qn3SM9C/0571Wyh7F6NxQsjG6XHCbFMJt4uVVUPwVXt6MHeM7ko6RHeM7QrIKyh7F6NxQiNHlgtukEG4TL6+C4q/w8ma8e+HdwMFsUfYoRueGQowuF9wmmdTltQkAgNwKvbwKir/Cy5vRt7cvcDBblD2K0bmhEKPLBbdJJnXVVujlVVD8FV7ejJuTN5OOkZuTN0OyCsoexejcUIjR5YLbpBBuEy+vguKv8PJmXBy42LvYu2d0T7lSLlfKe0b39C72Xhy4GJJVUPYoRueGQowuF9wmRXGbeHkVFH+FlzdjuW95+ZXltT+v2Mq9/ZJ7QNmjGJ0bCjG6XHCb6PDaBACAVggAQCsEADBaIQCA4TYhS5Zsx2arKT7OUyEAAG4TsmTJdnA2GJ4KAQBohQAAtEIAAKMVAgBYJq3Qy2+g4OWCcHNQvNd/buHclWtXrly7cm7hXP97m+TN8HKqeHlCFHdNjI6gb/7sm7/93W+vXrt69drV3/7ut9/82TfDs4XrG6m+/r84fgMl6+WCcHNQvP3Y6ur6PVpdfezt3L0ZXk4VL0+I4q6J0RH03Z98N3muvvuT7+a9R+HXm7y0NqhPhV5+AwUvF4Sbg+LDM8lb9MyHuXszvJwqXp4QxV0ToyNo5JGR5LkaeWQkJFvAvqG2Qi+/gYKXC8LNQfGFVnvUajCJMmcvp4qXJ0Rx18ToCOrvb/G/tC0HkxSwb/DaBABAboVefgMFLxeEm4PinVZ71GowiTJnL6eKlydEcdfE6Aj649t/DBxMUsC+obZCL7+BgpcLws1B8cCp1dX1e7S6euqB3L0ZXk4VL0+I4q6J0RH06vuvJs/Vq++/GpItYN9QW6GX30DBywXh5qB49K3dl3bPvjF7eeXy5ZXLs2/M7r60+61Hc/dmeDlVvDwhirsmRkfQC2MvPPvrZ8+fP7+ysrKysnL+/Plnf/3sC2MvhGQL2DcycJt4+Q0UvFwQbg6Kne98beftPSqnyypz9nKqeHlCFHdNjI6gHx/88Y/txx/9kPJcFa1v8NoEAIBWCABAKwQAMFohAIDhNiFLlmzHZqspPs5TIQAAbhOyZMl2cDYYngoBAGiFAAC0QgAAoxUCAFgmrVBxIyh4eTMUJH/FktmIWY9Zj9mI2VJusywGXm4TLy+KUvcbS984PHK43FMu95QPjxz+xtI3ij9nL2fOhqT6+v9s3QiKk8HLm+E1Z1uw9d9/btZlthBUV5mzV9bLbeLlRVHqPr3wdPKL9Z9eeLrIc94cZ07yY21QnwoVN4KClzdDQfJXjJvV1o/UzMYzmFUx8XKbeHlRlLrL48tJp8ry+HJI1mvOXs6cNqitUHEjKHh5MxQkf8WF4MGOwMtt4uVFUeq+ceGNwMEkXnP2cua0gdcmAAByK1TcCApe3gwFyV+xN3iwI/Bym3h5UZS6X9rb6ums1WASrzl7OXPakIEHOXAwW7y8GQqSv2LSrLR+pGQ2mcGsiomX28TLi6LUfWTykaRT5ZHJR0KyXnP2cua0QW2FihtBwcub4TVnGzBbNBs1q5hVzEbNFs0Gcp6xH15uEy8vilJ3ZmDm8OLh4dHhSqVSqVSGR4cPLx6eGZgp8py9nDltyMBtorgRFLy8GQqSv6LP7JVMZ1NsvNwmXl4Upe5P+n5y52zM2VyqrNecvZw5G8FrEwAAWiEAAK0QAMBohQAAhtuELFmyHZutpvg4T4UAALhNyJIl28HZYHgqBACgFQIA0AoBAIxWCABgmbTCGF0QMWZjdFAoeF3vWTtbt/qaq6du9bN2dnPmrCC5eubMes3uM7vPrNdS/QtmL0fQrqVdQyND3T3d3T3dQyNDu5Z2ZfBLU339f3H8BjG6L2JcK8nHEvhfka53pjmTrDvTnCnyWkmunpdaNYWX8q8rXG//Qn/S5dK/0J/MJrejDRl8X2F0LogYszE6KBS8rvcpeypwMHB6m7BWkqvnO8GD2dYV2DG+I+ly2TG+Q/y1aiuM0QURYzZGB4WC1/Vus22Bg0m81kpy9VwPHsy2rsC7F94NHEwFr00AAORWGKMLIsZsjA4KBa/rbVgjcDCJ11pJrp7u4MFs6wr07e0LHEyF2gpjdEHEmI3RQaHgdb0tv4898EvavdZKcvX8MHgw27oCNydvJl0uNydvir9WbYUxuiBizMbooFDwut7jdrxq1brV136sW71q1eN2PO85K0iunifNXjN7yGy72Xazh8xeM3sy/7oCFwcu9i727hndU66Uy5XyntE9vYu9Fwcuir82A7dJjC6IGLMxOigUvK53wiYmbOLesl5rJbl6Dpj9zaOuwHLf8vIry2t/XrGVTH4nr00AAGiFAAC0QgAAoxUCABhuE7JkyXZstpri4zwVAgDgNiFLlmwHZ4PhqRAAgFYIAEArBAAwWiEAgGXSCiWfw5LZiFmPWY/ZiNlSiqiXV0HBy33htc7K9XplYzxXCjF6fnLZo1Rf/5+xz2HB1n8fuFmX2UKhvQpK1st94bXOyvV6ZWM8V0o2Rs9PeDZ5DNqgPhVKPodxs9r6kZrZeFDUy6ug4OW+8Fpn5Xq9sjGeK4UYPT857ZHaCiWfw4XgwQReXgUFL/eF1zor1+uVjfFcKcTo+clpj3htAgAgt0LJ57A3eDCBl1dBwct94bXOyvV6ZWM8Vwoxen5y2iO1FUo+h0mz0vqRktlkUNTLq6Dg5b7wWmfler2yMZ4rhRg9PzntkdoKJZ/DgNmi2ahZxaxiNmq2aDYQFPXyKih4uS+81lm5Xq9sjOdKIUbPT057lIHbRPI59Jm9co9RL6+Cgpf7wmudlev1ysZ4rhRi9PzksUe8NgEAoBUCANAKAQCMVggAYLhNyJIl27HZaoqP81QIAIDbhCxZsh2cDYanQgAAWiEAAK0QAMBohQAAFnUrVPwG+5b27R/ZX+4pl3vK+0f271val6Kw4Anx8nUoeHlCTtiJmtWa1mxas2a1E3Zic7Jec/Zyqih1Pzf3uU/1fmr7fdu337f9U72f+tzc58KzhbsXUn39f2c4GQ4tHOrqWv+F4F1dhxYOBc1Z8IR4+TqUdfbyhEw0J5J1J5oTeWe95uzlVFHq7nxpZ7Kf7HxpZ97nKjyb/FgbYn0qVPwGN8Zv1GrrZB+1Wu3G+I2gwoInxMvXoeDlCXnOngsczDbrNWcvp4pS9+p3rgYOJingvRBrK1T8Bm9eeDNwsAWCJ8TL16Hg5Qm53+4PHMw26zVnL6eKUvef1/8ZOJikgPdCrK0QACBDYm2Fit9gcO9g4GALBE+Il69DwcsTcstuBQ5mm/Was5dTRan7ye5PBg4mKeC9EGsrVPwGpclSqbRO9lEqlUqTpY0+vw7BE+Ll61Dw8oS0/OuqcE/uPWe95uzlVFHqdv+wO3AwSQHvhVhboeI3mB+YH1wcPDB6oFKpVCqVA6MHBhcH5wfmgwoLnhAvX4eClyfktJ0+Zsdqt19R1ax2zI6dttN5Z73m7OVUUer++ck/P/zaww8+9OD27du3b9/+4EMPPvzaw39+8s8h2QLeCxm4TbxQ/Abn+87fcX3MW1gTvIPgCfHydSh4eUKmbXrapjc/6zVnL6eKUvf9A+/b3z7683W7ft2uh2eLdi/E+lQIAJAhtEIAAFohAACtEADAcJuQJUu2Y7PVFB/nqRAAALcJWbJkOzgbDE+FAAC0QgAAWiEAgNEKAQDMvRXG6JHYtbRraGSou6e7u6d7aGRo19KuzanrxbRNN6yxts4Na6T6N7bK9Xq5L5Rz5eWf8cLrPEtuoo1I9fX/xfEqeHkk+hf6k16U/oX+IvsrlOxccy65znPNubyv18sDo5wrL/+MV9brPIe7iZLb0QbPp8IYPRI7xnckvSg7xnfkXdeLI3YkcDCJcr1e7gvlXHn5Z7zwOs+Sm2hjPFthjB6Jdy+8GziYbd0YUa7Xy32hnCsv/4wXXudZchNtDK9NAABcW2GMHom+vX2Bg9nW9aJpzcDBJMr1erkvlHPl5Z/xwus8S26ijfFshTF6JG5O3kx6UW5O3sy7rhezNhs4mES5Xi/3hXKuvPwzXnidZ8lNtDGerTBGj8TFgYu9i717RveUK+VypbxndE/vYu/FgYt51/VizMambOrOY2DTmlM2NWZjIVnler3cF8q58vLPeOF1niU30cY4u01i9Egs9y0vv7K89ucVW9m0ul6ctJMn7eS9ZZXr9XJfKOfKyz/jhdd5ltxEG8BrEwAAWiEAAK0QAMBohQAAhtuELFmyHZutpvg4T4UAALhNyJIl28HZYHgqBACgFQIA0AoBAIxWCABgmbRCxW9ANjzrhZevw8sxotRVsrZkNmLWY9ZjNmK2lCIq1XVCcQTlQqqv/8/Wb0C2+G4TL1+Hl2NEqatkbcHWfze+WZfZQu5r5XWuFEdQeN3ksrRBfSpU/AZki+828fJ1eDlGlLpK1sbNautHambjQVGprhOKIygn1Fao+A3Ihme98PJ1eDlGlLpK1i4ED2Zb1wnFEZQTvDYBAJBboeI3IBue9cLL1+HlGFHqKlnbGzyYbV0nFEdQTqitUPEbkC2+28TL1+HlGFHqKlmbNPs3OUfJbDIoKtV1QnEE5YTaChW/Adniu028fB1ejhGlrpK1AbNFs1GzilnFbNRs0WwgKCrVdUJxBOVEBm4TxW9Atvh4+Tq8HCNKXSVrfXbH17GpdZ1QHEF5wGsTAABaIQAArRAAwGiFAACG24QsWbIdm62m+DhPhQAAuE3IkiXbwdlgeCoEAKAVAgDQCgEAjFYIAGCZtEIv94UXMfpJztrZutXX3Bd1q5+1s5tTV3FuxOiQmbbphjXWrrdhjVT/Lli5j9xcPe/1n1s4d+XalSvXrpxbONf/Xops4Xwsqb7+vzjuC69sjH6SmeZMco9mmjN511WcGzE6ZOaac8nrnWvOhWSV+8jN1fP2Y6ur67Orq4+9HZTdHB9LskQb1KdCL/eFFzH6SZ6ypwIHs0VxbsTokDliRwIHkyj3kZur58MzSVXTmQ+DsgX0sait0Mt94UWMfpJtti1wMFsU5wYOmY0Gk7i5er7QKttqMEkBfSy8NgEAkFuhl/vCixj9JA1rBA5mi+LciNEh07Rm4GAS5T5yc/W80yrbajBJAX0saiv0cl94EaOfpOV7zE340mPFuRGjQ2bWZgMHkyj3kZur54FTq6vrs6urpx4IyhbQx6K2Qi/3hRcx+kmO2/GqVetWX/uxbvWqVY/b8bzrKs6NGB0yYzY2ZVN3HgOb1pyyqTEbC8kq95Gbq+fRt3Zf2j37xuzllcuXVy7PvjG7+9Lutx4NyhbQx5KB28TLfeFFjH6SCZuYsInNr6s4N2J0yJy0kyft5L1llfvIzdWz852v7bydLafLFs3HwmsTAABaIQAArRAAwGiFAACG24QsWbIdm62m+DhPhQAAuE3IkiXbwdlgeCoEAKAVAgDQCgEAjFYIAGBRu02Uul4eCQVlzl4eCWWtlDnHuL8xuly8nDm5kOrr/4vjNlHqenkkvK53czwS2a6VMucY9zdGl4uXMyc8m5xeG2J1myh1vTwSCsqcvTwSylopc45xf2N0uXg5c3IiVreJUtfLI6GgzNnLI6GslTLnGPc3RpeLlzMnJ3htAgAQrdtEqevlkVBQ5uzlkVDWSplzjPsbo8vFy5mTE7G6TZS6Xh4JBWXOXh4JZa2UOce4vzG6XLycOTkRq9tEqevlkVBQ5uzlkVDWSplzjPsbo8vFy5mTExG7TZS6Xh4JBWXOXh4JZa2UOce4vzG6XLycOXnAaxMAAFohAACtEADAaIUAAIbbhCxZsh2brab4OE+FAAC4TciSJdvB2WB4KgQAoBUCANAKAQCMVggAYO5ukxgdFDE6N5Q5e2VjdH14zdnrem3JbMSsx6zHbMRsaZPK5uLqSfX1/zhGYnRuKHP2ysbo+vCas9f12oKt9wiYdZkthGWFuuHnKvmxNni6TWJ0UMTo3FDm7JWN0fXhNWev67Vxu/0larepmY3nXjYnV4+n2yRGB0WMzg1lzl7ZGF0fXnP2ul67EDyYKTm5enhtAgDg6jaJ0UERo3NDmbNXNkbXh9ecva7X9gYPZkpOrh5Pt0mMDooYnRvKnL2yMbo+vObsdb02aVZaP1Iym8y9bE6uHk+3SYwOihidG8qcvbIxuj685ux1vTZgtmg2alYxq5iNmi2aDeReNidXj7PbJEYHRYzODWXOXtkYXR9ec/a6Xusze8WhbB6uHl6bAADQCgEAaIUAAEYrBAAw3CZkyZLt2Gw1xcd5KgQAwG1ClizZDs4Gw1MhAACtEACAVggAYLRCAABzd5t4+RxidKq4+SsEFAfFM7975sjwkXJPudxTPjJ85JnfPROe3Wrn6sSlE7V/3V7nf9VOXOpwh0wupPr6/+L4OpRsjE4VN3+FkFXcJqd+fqqra/2X1Hd1nfr5Kc5Vi3X+a6t1/mvHOmTCs8llaYOn28TL5xCjU8XNXyGgOCh+/4Pf12rrxBm1Wu33P/h9SHarnavnKq3WudVgtnVjPJNt8HSbePkcYnSquPkrBBQHxYULLRwZLQeTbLVzdf8nWq1zq8Fs68Z4JtvAaxMAAFe3iZfPIUanipu/QkBxUHx575cDB5NstXN1639brXOrwWzrxngm2+DpNvHyOcToVHHzVwgoDoqBbw+USuvEGaVSaeDbQd8Wv9XO1Zkrrda51WC2dWM8k23wdJt4+RxidKq4+SsEFAfF8195/uivjj7xxBOVSqVSqTzxxBNHf3X0+a88H5Ldaufq9EOnj/39WO3W7XW+VTv292OnH+pYh0xOOLtNvHwOMTpV3PwVAoqD4kdf+pHNfvTnV+3VVNmtdq6mP3PXOv+H2Wc2qW6MZ3IjeG0CAEArBACgFQIAGK0QAMBwm5AlS7Zjs9UUH+epEAAAtwlZsmQ7OBsMT4UAALRCAABaIQCA0QoBACyTVig5GQT3hZJVHBQxelG8iNGbodSdtumGNdbOZMMaqf79dYxOFYXC3Qupvv4/YyeD4L5QsoqDIkYvilc2Rm+GUneuOZc8G3PNubzrxngmN6duclnaoD4VSk4GwX2hZBUHRYxeFC9i9GYodY/YkcDBbOvGeCYLeC+orVByMgjuCyWrOChi9KJ4EaM3I8a6MZ7JAt4LvDYBAJBboeRkENwXSlZxUMToRfEiRm+GUrdpzcDBbOvGeCYLeC+orVByMgjuCyWrOChi9KJ4EaM3Q6k7e+dLtz9uMNu6MZ7JAt4LaiuUnAyC+0LJKg6KGL0oXsTozVDqjtnYlE3deQxsWjBOBMgAAANrSURBVHPKpsZsLO+6MZ7JAt4LGbhNJCeD4L5QsoqDIkYvihcxejOUuift5Ek7ufl1YzyTRbsXeG0CAEArBACgFQIAGK0QAMBwm5AlS7Zjs9UUH+epEAAAtwlZsmQ7OBsMT4UAALRCAABaIQCA0QoBACyTVqh4FRRwQWxOXQUvt0mMe6S4erzwuo9y2d9UX/+frVfBy42ACyK8rtect5oXRXH1eO2v130Unk1Orw3qU6HiVVDABeHugvhYvNwmMe6R4urxwus+yml/1VaoeBUUcEFsTl0FL7dJjHukuHq88LqPctpfXpsAAMitUPEqKOCC2Jy6Cl5ukxj3SHH1eOF1H+W0v2orVLwKCrgg3F0QH4uX2yTGPVJcPV543Uc57a/aChWvggIuCHcXxMfi5TaJcY8UV48XXvdRTvubgdtE8Soo4IIoPl5ukxj3SHH1eOF1H+Wxv7w2AQCgFQIA0AoBAIxWCABguE3IkiXbsdlqio/zVAgAgNuELFmyHZwNhqdCAABaIQAArRAAwGiFAADm3gq9HBReTgYvD4zizSicgyJnlD2K0fPjdZ6V7Fff++pvFn5z9drVq9eu/mbhN19976vh2Q1J9fX/xXFBxOhk8PLAKN6MGB0jXmcjRs+P13lWsl9/++urq+vnvLr69be/nswmS7TB86nQy0Hh5WTw8sAo3owCOihyRdmjGD0/XudZyX7rw291da2fc1fXtz78Vki2DZ6t0MtB4eVk8PLAKN6MAjoockXZoxg9P17nWcl+8QtfDBxMBa9NAABcW6GXg8LLyeDlgVG8GQV0UOSKskcxen68zrOS/cM7fwgcTIVnK/RyUHg5Gbw8MIo3o4AOilxR9ihGz4/XeVayLz7w4urq+jmvrr74wIsh2TZ4tkIvB4WXk8HLA6N4MwrooMgVZY9i9Px4nWcl+9NHfzp8afj1N15fWVlZWVl5/Y3Xhy8N//TRn4Zk25CB20TBy0Hh5WTw8sAo3oyiOSjyRtmjGD0/XudZyf5i5y9+sfMXH/1Qvrff8e/w2gQAgFYIAEArBAAwWiEAgOE2IUuWbMdmqyk+vq3ZbArVAAA6Af4HGQCAVggAQCsEADBaIQCA0QoBAIxWCABgtEIAAKMVAgAYrRAAwGiFAABGKwQAMFohAIDRCgEAjFYIAGBm/wem9TQxI/nL8AAAAABJRU5ErkJggg=='></img>"
             },
             "type": "node"
            }
           ],
           "instanceArgs": {
            "handlers": {
             "obs-output": [
              "function (value, scope) {\n    scope.setInnerHTML(value);\n}\n"
             ]
            },
            "id": "1154471782592681174",
            "imports": {
             "data": [],
             "type": "async_block"
            },
            "mount_callbacks": [],
            "observables": {
             "obs-output": {
              "id": "8418985960638957923",
              "sync": false,
              "value": "<img src='data:image/png;base64,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'></img>"
             }
            },
            "systemjs_options": null
           },
           "nodeType": "Scope",
           "props": {},
           "type": "node"
          },
          {
           "children": [
            {
             "children": [
              {
               "children": [],
               "instanceArgs": {
                "namespace": "html",
                "tag": "div"
               },
               "nodeType": "DOM",
               "props": {
                "id": "container"
               },
               "type": "node"
              }
             ],
             "instanceArgs": {
              "handlers": {
               "value": [
                "(function (txt){return this.k.render(txt,this.container)})"
               ]
              },
              "id": "17211899116907497092",
              "imports": {
               "data": [
                {
                 "name": null,
                 "type": "js",
                 "url": "/assetserver/dd22ed1bf1896c2748f3fe616ce0b838adc895c1-katex.min.js"
                },
                {
                 "name": null,
                 "type": "css",
                 "url": "/assetserver/46517a424aa5e6cffc1360d7e0848b601c584ee3-katex.min.css"
                }
               ],
               "type": "async_block"
              },
              "mount_callbacks": [
               "function () {\n    var handler = ((function (k){this.k=k; this.container=this.dom.querySelector(\"#container\"); return k.render(\"\\\\;\\\\;\",this.container)}));\n    (WebIO.importBlock({\"data\":[{\"name\":null,\"type\":\"js\",\"url\":\"/assetserver/dd22ed1bf1896c2748f3fe616ce0b838adc895c1-katex.min.js\"},{\"name\":null,\"type\":\"css\",\"url\":\"/assetserver/46517a424aa5e6cffc1360d7e0848b601c584ee3-katex.min.css\"}],\"type\":\"async_block\"})).then((imports) => handler.apply(this, imports));\n}\n"
              ],
              "observables": {
               "value": {
                "id": "13255816648685062562",
                "sync": false,
                "value": "\\;\\;"
               }
              },
              "systemjs_options": null
             },
             "nodeType": "Scope",
             "props": {},
             "type": "node"
            }
           ],
           "instanceArgs": {
            "namespace": "html",
            "tag": "div"
           },
           "nodeType": "DOM",
           "props": {
            "className": "interact-widget"
           },
           "type": "node"
          },
          {
           "children": [
            {
             "children": [
              {
               "children": [],
               "instanceArgs": {
                "namespace": "html",
                "tag": "div"
               },
               "nodeType": "DOM",
               "props": {
                "className": "webio-observable",
                "setInnerHtml": "<img src=\"data:image/png;base64,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\" />"
               },
               "type": "node"
              }
             ],
             "instanceArgs": {
              "handlers": {
               "obs-output": [
                "function (value, scope) {\n    scope.setInnerHTML(value);\n}\n"
               ]
              },
              "id": "7006523032163661667",
              "imports": {
               "data": [],
               "type": "async_block"
              },
              "mount_callbacks": [],
              "observables": {
               "obs-output": {
                "id": "17975572199110033547",
                "sync": false,
                "value": "<img src=\"data:image/png;base64,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\" />"
               }
              },
              "systemjs_options": null
             },
             "nodeType": "Scope",
             "props": {},
             "type": "node"
            }
           ],
           "instanceArgs": {
            "namespace": "html",
            "tag": "div"
           },
           "nodeType": "DOM",
           "props": {
            "style": {
             "display": "flex",
             "flex-direction": "column"
            }
           },
           "type": "node"
          }
         ],
         "instanceArgs": {
          "namespace": "html",
          "tag": "div"
         },
         "nodeType": "DOM",
         "props": {
          "style": {
           "display": "flex",
           "flex-direction": "row"
          }
         },
         "type": "node"
        }
       ],
       "instanceArgs": {
        "namespace": "html",
        "tag": "div"
       },
       "nodeType": "DOM",
       "props": {
        "style": {
         "display": "flex",
         "flex-direction": "column"
        }
       },
       "type": "node"
      },
      "text/html": [
       "<div\n",
       "    class=\"webio-mountpoint\"\n",
       "    data-webio-mountpoint=\"4914164988886717818\"\n",
       ">\n",
       "    <script>\n",
       "    (function(){\n",
       "    // Some integrations (namely, IJulia/Jupyter) use an alternate render pathway than\n",
       "    // just putting the html on the page. If WebIO isn't defined, then it's pretty likely\n",
       "    // that we're in one of those situations and the integration just isn't installed\n",
       "    // correctly.\n",
       "    if (typeof window.WebIO === \"undefined\") {\n",
       "        document\n",
       "            .querySelector('[data-webio-mountpoint=\"4914164988886717818\"]')\n",
       "            .innerHTML = (\n",
       "                '<div style=\"padding: 1em; background-color: #f8d6da; border: 1px solid #f5c6cb; font-weight: bold;\">' +\n",
       "                '<p><strong>WebIO not detected.</strong></p>' +\n",
       "                '<p>Please read ' +\n",
       "                '<a href=\"https://juliagizmos.github.io/WebIO.jl/latest/troubleshooting/not-detected/\" target=\"_blank\">the troubleshooting guide</a> ' +\n",
       "                'for more information on how to resolve this issue.</p>' +\n",
       "                '<p><a href=\"https://juliagizmos.github.io/WebIO.jl/latest/troubleshooting/not-detected/\" target=\"_blank\">https://juliagizmos.github.io/WebIO.jl/latest/troubleshooting/not-detected/</a></p>' +\n",
       "                '</div>'\n",
       "            );\n",
       "        return;\n",
       "    }\n",
       "    WebIO.mount(\n",
       "        document.querySelector('[data-webio-mountpoint=\"4914164988886717818\"]'),\n",
       "        {\"props\":{\"style\":{\"display\":\"flex\",\"flex-direction\":\"column\"}},\"nodeType\":\"DOM\",\"type\":\"node\",\"instanceArgs\":{\"namespace\":\"html\",\"tag\":\"div\"},\"children\":[{\"props\":{\"style\":{\"display\":\"flex\",\"flex-direction\":\"row\"}},\"nodeType\":\"DOM\",\"type\":\"node\",\"instanceArgs\":{\"namespace\":\"html\",\"tag\":\"div\"},\"children\":[{\"props\":{\"style\":{\"display\":\"flex\",\"flex-direction\":\"column\"}},\"nodeType\":\"DOM\",\"type\":\"node\",\"instanceArgs\":{\"namespace\":\"html\",\"tag\":\"div\"},\"children\":[{\"props\":{\"className\":\"field interact-widget\"},\"nodeType\":\"DOM\",\"type\":\"node\",\"instanceArgs\":{\"namespace\":\"html\",\"tag\":\"div\"},\"children\":[{\"props\":{},\"nodeType\":\"Scope\",\"type\":\"node\",\"instanceArgs\":{\"imports\":{\"data\":[{\"name\":\"knockout\",\"type\":\"js\",\"url\":\"\\/assetserver\\/727383f2a47bd31570b7da84eee7b022dd6d7c78-knockout.js\"},{\"name\":\"knockout_punches\",\"type\":\"js\",\"url\":\"\\/assetserver\\/382b41b3b1bd9f26f75861d360bad7f8beea211f-knockout_punches.js\"},{\"name\":null,\"type\":\"js\",\"url\":\"\\/assetserver\\/5ab20f1060420992a9b82a65b735dee4d81ef413-all.js\"},{\"name\":null,\"type\":\"css\",\"url\":\"\\/assetserver\\/1cc0ed62837210b80a182cc3676512f895dab686-style.css\"},{\"name\":null,\"type\":\"css\",\"url\":\"\\/assetserver\\/2eee816f616df3549d7044d45e744fbf8d42bfa1-bulma_confined.min.css\"}],\"type\":\"async_block\"},\"id\":\"8099187185893901764\",\"handlers\":{\"changes\":[\"(function (val){return (val!=this.model[\\\"changes\\\"]()) ? (this.valueFromJulia[\\\"changes\\\"]=true, this.model[\\\"changes\\\"](val)) : undefined})\"],\"index\":[\"(function (val){return (val!=this.model[\\\"index\\\"]()) ? (this.valueFromJulia[\\\"index\\\"]=true, this.model[\\\"index\\\"](val)) : undefined})\"]},\"systemjs_options\":null,\"mount_callbacks\":[\"function () {\\n    var handler = (function (ko, koPunches) {\\n    ko.punches.enableAll();\\n    ko.bindingHandlers.numericValue = {\\n        init: function(element, valueAccessor, allBindings, data, context) {\\n            var stringified = ko.observable(ko.unwrap(valueAccessor()));\\n            stringified.subscribe(function(value) {\\n                var val = parseFloat(value);\\n                if (!isNaN(val)) {\\n                    valueAccessor()(val);\\n                }\\n            });\\n            valueAccessor().subscribe(function(value) {\\n                var str = JSON.stringify(value);\\n                if ((str == \\\"0\\\") && ([\\\"-0\\\", \\\"-0.\\\"].indexOf(stringified()) >= 0))\\n                     return;\\n                 if ([\\\"null\\\", \\\"\\\"].indexOf(str) >= 0)\\n                     return;\\n                stringified(str);\\n            });\\n            ko.applyBindingsToNode(\\n                element,\\n                {\\n                    value: stringified,\\n                    valueUpdate: allBindings.get('valueUpdate'),\\n                },\\n                context,\\n            );\\n        }\\n    };\\n    var json_data = {\\\"formatted_vals\\\":[\\\"1\\\",\\\"2\\\",\\\"3\\\",\\\"4\\\",\\\"5\\\",\\\"6\\\",\\\"7\\\",\\\"8\\\",\\\"9\\\",\\\"10\\\",\\\"11\\\",\\\"12\\\",\\\"13\\\",\\\"14\\\",\\\"15\\\",\\\"16\\\",\\\"17\\\",\\\"18\\\",\\\"19\\\",\\\"20\\\",\\\"21\\\",\\\"22\\\",\\\"23\\\",\\\"24\\\",\\\"25\\\",\\\"26\\\",\\\"27\\\",\\\"28\\\",\\\"29\\\",\\\"30\\\",\\\"31\\\",\\\"32\\\",\\\"33\\\",\\\"34\\\",\\\"35\\\",\\\"36\\\",\\\"37\\\",\\\"38\\\",\\\"39\\\",\\\"40\\\",\\\"41\\\",\\\"42\\\",\\\"43\\\",\\\"44\\\",\\\"45\\\",\\\"46\\\",\\\"47\\\",\\\"48\\\",\\\"49\\\",\\\"50\\\",\\\"51\\\",\\\"52\\\",\\\"53\\\",\\\"54\\\",\\\"55\\\",\\\"56\\\",\\\"57\\\",\\\"58\\\",\\\"59\\\",\\\"60\\\",\\\"61\\\",\\\"62\\\",\\\"63\\\",\\\"64\\\",\\\"65\\\",\\\"66\\\",\\\"67\\\",\\\"68\\\",\\\"69\\\",\\\"70\\\",\\\"71\\\",\\\"72\\\",\\\"73\\\",\\\"74\\\",\\\"75\\\",\\\"76\\\",\\\"77\\\",\\\"78\\\",\\\"79\\\",\\\"80\\\",\\\"81\\\",\\\"82\\\",\\\"83\\\",\\\"84\\\",\\\"85\\\",\\\"86\\\",\\\"87\\\",\\\"88\\\",\\\"89\\\",\\\"90\\\",\\\"91\\\",\\\"92\\\",\\\"93\\\",\\\"94\\\",\\\"95\\\",\\\"96\\\",\\\"97\\\",\\\"98\\\",\\\"99\\\",\\\"100\\\",\\\"101\\\",\\\"102\\\",\\\"103\\\",\\\"104\\\",\\\"105\\\",\\\"106\\\",\\\"107\\\",\\\"108\\\",\\\"109\\\",\\\"110\\\",\\\"111\\\",\\\"112\\\",\\\"113\\\",\\\"114\\\",\\\"115\\\",\\\"116\\\",\\\"117\\\",\\\"118\\\",\\\"119\\\",\\\"120\\\",\\\"121\\\",\\\"122\\\",\\\"123\\\",\\\"124\\\",\\\"125\\\",\\\"126\\\",\\\"127\\\",\\\"128\\\",\\\"129\\\",\\\"130\\\",\\\"131\\\",\\\"132\\\",\\\"133\\\",\\\"134\\\",\\\"135\\\",\\\"136\\\",\\\"137\\\",\\\"138\\\",\\\"139\\\",\\\"140\\\",\\\"141\\\",\\\"142\\\",\\\"143\\\",\\\"144\\\",\\\"145\\\",\\\"146\\\",\\\"147\\\",\\\"148\\\",\\\"149\\\",\\\"150\\\",\\\"151\\\",\\\"152\\\",\\\"153\\\",\\\"154\\\",\\\"155\\\",\\\"156\\\",\\\"157\\\",\\\"158\\\",\\\"159\\\",\\\"160\\\",\\\"161\\\",\\\"162\\\",\\\"163\\\",\\\"164\\\",\\\"165\\\",\\\"166\\\",\\\"167\\\",\\\"168\\\",\\\"169\\\",\\\"170\\\",\\\"171\\\",\\\"172\\\",\\\"173\\\",\\\"174\\\",\\\"175\\\",\\\"176\\\",\\\"177\\\",\\\"178\\\",\\\"179\\\",\\\"180\\\",\\\"181\\\",\\\"182\\\",\\\"183\\\",\\\"184\\\",\\\"185\\\",\\\"186\\\",\\\"187\\\",\\\"188\\\",\\\"189\\\",\\\"190\\\",\\\"191\\\",\\\"192\\\",\\\"193\\\",\\\"194\\\",\\\"195\\\",\\\"196\\\",\\\"197\\\",\\\"198\\\",\\\"199\\\",\\\"200\\\"],\\\"changes\\\":WebIO.getval({\\\"name\\\":\\\"changes\\\",\\\"scope\\\":\\\"8099187185893901764\\\",\\\"id\\\":\\\"3285702968357260732\\\",\\\"type\\\":\\\"observable\\\"}),\\\"index\\\":WebIO.getval({\\\"name\\\":\\\"index\\\",\\\"scope\\\":\\\"8099187185893901764\\\",\\\"id\\\":\\\"9977351753393034434\\\",\\\"type\\\":\\\"observable\\\"})};\\n    var self = this;\\n    function AppViewModel() {\\n        for (var key in json_data) {\\n            var el = json_data[key];\\n            this[key] = Array.isArray(el) ? ko.observableArray(el) : ko.observable(el);\\n        }\\n        \\n        [this[\\\"formatted_val\\\"]=ko.computed(    function(){\\n        return this.formatted_vals()[parseInt(this.index())-(1)];\\n    }\\n,this)]\\n        [this[\\\"changes\\\"].subscribe((function (val){!(this.valueFromJulia[\\\"changes\\\"]) ? (WebIO.setval({\\\"name\\\":\\\"changes\\\",\\\"scope\\\":\\\"8099187185893901764\\\",\\\"id\\\":\\\"3285702968357260732\\\",\\\"type\\\":\\\"observable\\\"},val)) : undefined; return this.valueFromJulia[\\\"changes\\\"]=false}),self),this[\\\"index\\\"].subscribe((function (val){!(this.valueFromJulia[\\\"index\\\"]) ? (WebIO.setval({\\\"name\\\":\\\"index\\\",\\\"scope\\\":\\\"8099187185893901764\\\",\\\"id\\\":\\\"9977351753393034434\\\",\\\"type\\\":\\\"observable\\\"},val)) : undefined; return this.valueFromJulia[\\\"index\\\"]=false}),self)]\\n        \\n    }\\n    self.model = new AppViewModel();\\n    self.valueFromJulia = {};\\n    for (var key in json_data) {\\n        self.valueFromJulia[key] = false;\\n    }\\n    ko.applyBindings(self.model, self.dom);\\n}\\n);\\n    (WebIO.importBlock({\\\"data\\\":[{\\\"name\\\":\\\"knockout\\\",\\\"type\\\":\\\"js\\\",\\\"url\\\":\\\"\\/assetserver\\/727383f2a47bd31570b7da84eee7b022dd6d7c78-knockout.js\\\"},{\\\"name\\\":\\\"knockout_punches\\\",\\\"type\\\":\\\"js\\\",\\\"url\\\":\\\"\\/assetserver\\/382b41b3b1bd9f26f75861d360bad7f8beea211f-knockout_punches.js\\\"}],\\\"type\\\":\\\"async_block\\\"})).then((imports) => handler.apply(this, imports));\\n}\\n\"],\"observables\":{\"changes\":{\"sync\":false,\"id\":\"3285702968357260732\",\"value\":0},\"index\":{\"sync\":true,\"id\":\"9977351753393034434\",\"value\":1}}},\"children\":[{\"props\":{\"className\":\"interact-flex-row interact-widget\"},\"nodeType\":\"DOM\",\"type\":\"node\",\"instanceArgs\":{\"namespace\":\"html\",\"tag\":\"div\"},\"children\":[{\"props\":{\"className\":\"interact-flex-row-left\"},\"nodeType\":\"DOM\",\"type\":\"node\",\"instanceArgs\":{\"namespace\":\"html\",\"tag\":\"div\"},\"children\":[{\"props\":{\"className\":\"interact \",\"style\":{\"padding\":\"5px 10px 0px 10px\"}},\"nodeType\":\"DOM\",\"type\":\"node\",\"instanceArgs\":{\"namespace\":\"html\",\"tag\":\"label\"},\"children\":[\"time\"]}]},{\"props\":{\"className\":\"interact-flex-row-center\"},\"nodeType\":\"DOM\",\"type\":\"node\",\"instanceArgs\":{\"namespace\":\"html\",\"tag\":\"div\"},\"children\":[{\"props\":{\"max\":200,\"min\":1,\"attributes\":{\"type\":\"range\",\"data-bind\":\"numericValue: index, valueUpdate: 'input', event: {change: function (){this.changes(this.changes()+1)}}\",\"orient\":\"horizontal\"},\"step\":1,\"className\":\"slider slider is-fullwidth\",\"style\":{}},\"nodeType\":\"DOM\",\"type\":\"node\",\"instanceArgs\":{\"namespace\":\"html\",\"tag\":\"input\"},\"children\":[]}]},{\"props\":{\"className\":\"interact-flex-row-right\"},\"nodeType\":\"DOM\",\"type\":\"node\",\"instanceArgs\":{\"namespace\":\"html\",\"tag\":\"div\"},\"children\":[{\"props\":{\"attributes\":{\"data-bind\":\"text: formatted_val\"}},\"nodeType\":\"DOM\",\"type\":\"node\",\"instanceArgs\":{\"namespace\":\"html\",\"tag\":\"p\"},\"children\":[]}]}]}]}]},{\"props\":{\"className\":\"field interact-widget\"},\"nodeType\":\"DOM\",\"type\":\"node\",\"instanceArgs\":{\"namespace\":\"html\",\"tag\":\"div\"},\"children\":[{\"props\":{},\"nodeType\":\"Scope\",\"type\":\"node\",\"instanceArgs\":{\"imports\":{\"data\":[{\"name\":\"knockout\",\"type\":\"js\",\"url\":\"\\/assetserver\\/727383f2a47bd31570b7da84eee7b022dd6d7c78-knockout.js\"},{\"name\":\"knockout_punches\",\"type\":\"js\",\"url\":\"\\/assetserver\\/382b41b3b1bd9f26f75861d360bad7f8beea211f-knockout_punches.js\"},{\"name\":null,\"type\":\"js\",\"url\":\"\\/assetserver\\/5ab20f1060420992a9b82a65b735dee4d81ef413-all.js\"},{\"name\":null,\"type\":\"css\",\"url\":\"\\/assetserver\\/1cc0ed62837210b80a182cc3676512f895dab686-style.css\"},{\"name\":null,\"type\":\"css\",\"url\":\"\\/assetserver\\/2eee816f616df3549d7044d45e744fbf8d42bfa1-bulma_confined.min.css\"}],\"type\":\"async_block\"},\"id\":\"11056602036940226306\",\"handlers\":{\"changes\":[\"(function (val){return (val!=this.model[\\\"changes\\\"]()) ? (this.valueFromJulia[\\\"changes\\\"]=true, this.model[\\\"changes\\\"](val)) : undefined})\"],\"index\":[\"(function (val){return (val!=this.model[\\\"index\\\"]()) ? (this.valueFromJulia[\\\"index\\\"]=true, this.model[\\\"index\\\"](val)) : undefined})\"]},\"systemjs_options\":null,\"mount_callbacks\":[\"function () {\\n    var handler = (function (ko, koPunches) {\\n    ko.punches.enableAll();\\n    ko.bindingHandlers.numericValue = {\\n        init: function(element, valueAccessor, allBindings, data, context) {\\n            var stringified = ko.observable(ko.unwrap(valueAccessor()));\\n            stringified.subscribe(function(value) {\\n                var val = parseFloat(value);\\n                if (!isNaN(val)) {\\n                    valueAccessor()(val);\\n                }\\n            });\\n            valueAccessor().subscribe(function(value) {\\n                var str = JSON.stringify(value);\\n                if ((str == \\\"0\\\") && ([\\\"-0\\\", \\\"-0.\\\"].indexOf(stringified()) >= 0))\\n                     return;\\n                 if ([\\\"null\\\", \\\"\\\"].indexOf(str) >= 0)\\n                     return;\\n                stringified(str);\\n            });\\n            ko.applyBindingsToNode(\\n                element,\\n                {\\n                    value: stringified,\\n                    valueUpdate: allBindings.get('valueUpdate'),\\n                },\\n                context,\\n            );\\n        }\\n    };\\n    var json_data = {\\\"formatted_vals\\\":[\\\"0.1\\\",\\\"0.2\\\",\\\"0.3\\\",\\\"0.4\\\",\\\"0.5\\\",\\\"0.6\\\",\\\"0.7\\\",\\\"0.8\\\",\\\"0.9\\\",\\\"1.0\\\",\\\"1.1\\\",\\\"1.2\\\",\\\"1.3\\\",\\\"1.4\\\",\\\"1.5\\\",\\\"1.6\\\",\\\"1.7\\\",\\\"1.8\\\",\\\"1.9\\\",\\\"2.0\\\"],\\\"changes\\\":WebIO.getval({\\\"name\\\":\\\"changes\\\",\\\"scope\\\":\\\"11056602036940226306\\\",\\\"id\\\":\\\"754649954774899136\\\",\\\"type\\\":\\\"observable\\\"}),\\\"index\\\":WebIO.getval({\\\"name\\\":\\\"index\\\",\\\"scope\\\":\\\"11056602036940226306\\\",\\\"id\\\":\\\"12303606840577204792\\\",\\\"type\\\":\\\"observable\\\"})};\\n    var self = this;\\n    function AppViewModel() {\\n        for (var key in json_data) {\\n            var el = json_data[key];\\n            this[key] = Array.isArray(el) ? ko.observableArray(el) : ko.observable(el);\\n        }\\n        \\n        [this[\\\"formatted_val\\\"]=ko.computed(    function(){\\n        return this.formatted_vals()[parseInt(this.index())-(1)];\\n    }\\n,this)]\\n        [this[\\\"changes\\\"].subscribe((function (val){!(this.valueFromJulia[\\\"changes\\\"]) ? (WebIO.setval({\\\"name\\\":\\\"changes\\\",\\\"scope\\\":\\\"11056602036940226306\\\",\\\"id\\\":\\\"754649954774899136\\\",\\\"type\\\":\\\"observable\\\"},val)) : undefined; return this.valueFromJulia[\\\"changes\\\"]=false}),self),this[\\\"index\\\"].subscribe((function (val){!(this.valueFromJulia[\\\"index\\\"]) ? (WebIO.setval({\\\"name\\\":\\\"index\\\",\\\"scope\\\":\\\"11056602036940226306\\\",\\\"id\\\":\\\"12303606840577204792\\\",\\\"type\\\":\\\"observable\\\"},val)) : undefined; return this.valueFromJulia[\\\"index\\\"]=false}),self)]\\n        \\n    }\\n    self.model = new AppViewModel();\\n    self.valueFromJulia = {};\\n    for (var key in json_data) {\\n        self.valueFromJulia[key] = false;\\n    }\\n    ko.applyBindings(self.model, self.dom);\\n}\\n);\\n    (WebIO.importBlock({\\\"data\\\":[{\\\"name\\\":\\\"knockout\\\",\\\"type\\\":\\\"js\\\",\\\"url\\\":\\\"\\/assetserver\\/727383f2a47bd31570b7da84eee7b022dd6d7c78-knockout.js\\\"},{\\\"name\\\":\\\"knockout_punches\\\",\\\"type\\\":\\\"js\\\",\\\"url\\\":\\\"\\/assetserver\\/382b41b3b1bd9f26f75861d360bad7f8beea211f-knockout_punches.js\\\"}],\\\"type\\\":\\\"async_block\\\"})).then((imports) => handler.apply(this, imports));\\n}\\n\"],\"observables\":{\"changes\":{\"sync\":false,\"id\":\"754649954774899136\",\"value\":0},\"index\":{\"sync\":true,\"id\":\"12303606840577204792\",\"value\":10}}},\"children\":[{\"props\":{\"className\":\"interact-flex-row interact-widget\"},\"nodeType\":\"DOM\",\"type\":\"node\",\"instanceArgs\":{\"namespace\":\"html\",\"tag\":\"div\"},\"children\":[{\"props\":{\"className\":\"interact-flex-row-left\"},\"nodeType\":\"DOM\",\"type\":\"node\",\"instanceArgs\":{\"namespace\":\"html\",\"tag\":\"div\"},\"children\":[{\"props\":{\"className\":\"interact \",\"style\":{\"padding\":\"5px 10px 0px 10px\"}},\"nodeType\":\"DOM\",\"type\":\"node\",\"instanceArgs\":{\"namespace\":\"html\",\"tag\":\"label\"},\"children\":[\"scale\"]}]},{\"props\":{\"className\":\"interact-flex-row-center\"},\"nodeType\":\"DOM\",\"type\":\"node\",\"instanceArgs\":{\"namespace\":\"html\",\"tag\":\"div\"},\"children\":[{\"props\":{\"max\":20,\"min\":1,\"attributes\":{\"type\":\"range\",\"data-bind\":\"numericValue: index, valueUpdate: 'input', event: {change: function (){this.changes(this.changes()+1)}}\",\"orient\":\"horizontal\"},\"step\":1,\"className\":\"slider slider is-fullwidth\",\"style\":{}},\"nodeType\":\"DOM\",\"type\":\"node\",\"instanceArgs\":{\"namespace\":\"html\",\"tag\":\"input\"},\"children\":[]}]},{\"props\":{\"className\":\"interact-flex-row-right\"},\"nodeType\":\"DOM\",\"type\":\"node\",\"instanceArgs\":{\"namespace\":\"html\",\"tag\":\"div\"},\"children\":[{\"props\":{\"attributes\":{\"data-bind\":\"text: formatted_val\"}},\"nodeType\":\"DOM\",\"type\":\"node\",\"instanceArgs\":{\"namespace\":\"html\",\"tag\":\"p\"},\"children\":[]}]}]}]}]},{\"props\":{\"style\":{\"display\":\"flex\",\"flex-direction\":\"column\"}},\"nodeType\":\"DOM\",\"type\":\"node\",\"instanceArgs\":{\"namespace\":\"html\",\"tag\":\"div\"},\"children\":[]},{\"props\":{\"style\":{\"display\":\"flex\",\"flex-direction\":\"column\"}},\"nodeType\":\"DOM\",\"type\":\"node\",\"instanceArgs\":{\"namespace\":\"html\",\"tag\":\"div\"},\"children\":[{\"props\":{\"className\":\"field interact-widget\"},\"nodeType\":\"DOM\",\"type\":\"node\",\"instanceArgs\":{\"namespace\":\"html\",\"tag\":\"div\"},\"children\":[{\"props\":{},\"nodeType\":\"Scope\",\"type\":\"node\",\"instanceArgs\":{\"imports\":{\"data\":[{\"name\":\"knockout\",\"type\":\"js\",\"url\":\"\\/assetserver\\/727383f2a47bd31570b7da84eee7b022dd6d7c78-knockout.js\"},{\"name\":\"knockout_punches\",\"type\":\"js\",\"url\":\"\\/assetserver\\/382b41b3b1bd9f26f75861d360bad7f8beea211f-knockout_punches.js\"},{\"name\":null,\"type\":\"js\",\"url\":\"\\/assetserver\\/5ab20f1060420992a9b82a65b735dee4d81ef413-all.js\"},{\"name\":null,\"type\":\"css\",\"url\":\"\\/assetserver\\/1cc0ed62837210b80a182cc3676512f895dab686-style.css\"},{\"name\":null,\"type\":\"css\",\"url\":\"\\/assetserver\\/2eee816f616df3549d7044d45e744fbf8d42bfa1-bulma_confined.min.css\"}],\"type\":\"async_block\"},\"id\":\"12213059846352056854\",\"handlers\":{\"changes\":[\"(function (val){return (val!=this.model[\\\"changes\\\"]()) ? (this.valueFromJulia[\\\"changes\\\"]=true, this.model[\\\"changes\\\"](val)) : undefined})\"],\"index\":[\"(function (val){return (val!=this.model[\\\"index\\\"]()) ? (this.valueFromJulia[\\\"index\\\"]=true, this.model[\\\"index\\\"](val)) : undefined})\"]},\"systemjs_options\":null,\"mount_callbacks\":[\"function () {\\n    var handler = (function (ko, koPunches) {\\n    ko.punches.enableAll();\\n    ko.bindingHandlers.numericValue = {\\n        init: function(element, valueAccessor, allBindings, data, context) {\\n            var stringified = ko.observable(ko.unwrap(valueAccessor()));\\n            stringified.subscribe(function(value) {\\n                var val = parseFloat(value);\\n                if (!isNaN(val)) {\\n                    valueAccessor()(val);\\n                }\\n            });\\n            valueAccessor().subscribe(function(value) {\\n                var str = JSON.stringify(value);\\n                if ((str == \\\"0\\\") && ([\\\"-0\\\", \\\"-0.\\\"].indexOf(stringified()) >= 0))\\n                     return;\\n                 if ([\\\"null\\\", \\\"\\\"].indexOf(str) >= 0)\\n                     return;\\n                stringified(str);\\n            });\\n            ko.applyBindingsToNode(\\n                element,\\n                {\\n                    value: stringified,\\n                    valueUpdate: allBindings.get('valueUpdate'),\\n                },\\n                context,\\n            );\\n        }\\n    };\\n    var json_data = {\\\"formatted_vals\\\":[\\\"0.0\\\",\\\"0.01\\\",\\\"0.02\\\",\\\"0.03\\\",\\\"0.04\\\",\\\"0.05\\\",\\\"0.06\\\",\\\"0.07\\\",\\\"0.08\\\",\\\"0.09\\\",\\\"0.1\\\",\\\"0.11\\\",\\\"0.12\\\",\\\"0.13\\\",\\\"0.14\\\",\\\"0.15\\\",\\\"0.16\\\",\\\"0.17\\\",\\\"0.18\\\",\\\"0.19\\\",\\\"0.2\\\",\\\"0.21\\\",\\\"0.22\\\",\\\"0.23\\\",\\\"0.24\\\",\\\"0.25\\\",\\\"0.26\\\",\\\"0.27\\\",\\\"0.28\\\",\\\"0.29\\\",\\\"0.3\\\",\\\"0.31\\\",\\\"0.32\\\",\\\"0.33\\\",\\\"0.34\\\",\\\"0.35\\\",\\\"0.36\\\",\\\"0.37\\\",\\\"0.38\\\",\\\"0.39\\\",\\\"0.4\\\",\\\"0.41\\\",\\\"0.42\\\",\\\"0.43\\\",\\\"0.44\\\",\\\"0.45\\\",\\\"0.46\\\",\\\"0.47\\\",\\\"0.48\\\",\\\"0.49\\\",\\\"0.5\\\",\\\"0.51\\\",\\\"0.52\\\",\\\"0.53\\\",\\\"0.54\\\",\\\"0.55\\\",\\\"0.56\\\",\\\"0.57\\\",\\\"0.58\\\",\\\"0.59\\\",\\\"0.6\\\",\\\"0.61\\\",\\\"0.62\\\",\\\"0.63\\\",\\\"0.64\\\",\\\"0.65\\\",\\\"0.66\\\",\\\"0.67\\\",\\\"0.68\\\",\\\"0.69\\\",\\\"0.7\\\",\\\"0.71\\\",\\\"0.72\\\",\\\"0.73\\\",\\\"0.74\\\",\\\"0.75\\\",\\\"0.76\\\",\\\"0.77\\\",\\\"0.78\\\",\\\"0.79\\\",\\\"0.8\\\",\\\"0.81\\\",\\\"0.82\\\",\\\"0.83\\\",\\\"0.84\\\",\\\"0.85\\\",\\\"0.86\\\",\\\"0.87\\\",\\\"0.88\\\",\\\"0.89\\\",\\\"0.9\\\",\\\"0.91\\\",\\\"0.92\\\",\\\"0.93\\\",\\\"0.94\\\",\\\"0.95\\\",\\\"0.96\\\",\\\"0.97\\\",\\\"0.98\\\",\\\"0.99\\\",\\\"1.0\\\"],\\\"changes\\\":WebIO.getval({\\\"name\\\":\\\"changes\\\",\\\"scope\\\":\\\"12213059846352056854\\\",\\\"id\\\":\\\"12093277924013156042\\\",\\\"type\\\":\\\"observable\\\"}),\\\"index\\\":WebIO.getval({\\\"name\\\":\\\"index\\\",\\\"scope\\\":\\\"12213059846352056854\\\",\\\"id\\\":\\\"2298128096345319414\\\",\\\"type\\\":\\\"observable\\\"})};\\n    var self = this;\\n    function AppViewModel() {\\n        for (var key in json_data) {\\n            var el = json_data[key];\\n            this[key] = Array.isArray(el) ? ko.observableArray(el) : ko.observable(el);\\n        }\\n        \\n        [this[\\\"formatted_val\\\"]=ko.computed(    function(){\\n        return this.formatted_vals()[parseInt(this.index())-(1)];\\n    }\\n,this)]\\n        [this[\\\"changes\\\"].subscribe((function (val){!(this.valueFromJulia[\\\"changes\\\"]) ? (WebIO.setval({\\\"name\\\":\\\"changes\\\",\\\"scope\\\":\\\"12213059846352056854\\\",\\\"id\\\":\\\"12093277924013156042\\\",\\\"type\\\":\\\"observable\\\"},val)) : undefined; return this.valueFromJulia[\\\"changes\\\"]=false}),self),this[\\\"index\\\"].subscribe((function (val){!(this.valueFromJulia[\\\"index\\\"]) ? (WebIO.setval({\\\"name\\\":\\\"index\\\",\\\"scope\\\":\\\"12213059846352056854\\\",\\\"id\\\":\\\"2298128096345319414\\\",\\\"type\\\":\\\"observable\\\"},val)) : undefined; return this.valueFromJulia[\\\"index\\\"]=false}),self)]\\n        \\n    }\\n    self.model = new AppViewModel();\\n    self.valueFromJulia = {};\\n    for (var key in json_data) {\\n        self.valueFromJulia[key] = false;\\n    }\\n    ko.applyBindings(self.model, self.dom);\\n}\\n);\\n    (WebIO.importBlock({\\\"data\\\":[{\\\"name\\\":\\\"knockout\\\",\\\"type\\\":\\\"js\\\",\\\"url\\\":\\\"\\/assetserver\\/727383f2a47bd31570b7da84eee7b022dd6d7c78-knockout.js\\\"},{\\\"name\\\":\\\"knockout_punches\\\",\\\"type\\\":\\\"js\\\",\\\"url\\\":\\\"\\/assetserver\\/382b41b3b1bd9f26f75861d360bad7f8beea211f-knockout_punches.js\\\"}],\\\"type\\\":\\\"async_block\\\"})).then((imports) => handler.apply(this, imports));\\n}\\n\"],\"observables\":{\"changes\":{\"sync\":false,\"id\":\"12093277924013156042\",\"value\":0},\"index\":{\"sync\":true,\"id\":\"2298128096345319414\",\"value\":51}}},\"children\":[{\"props\":{\"className\":\"interact-flex-row interact-widget\"},\"nodeType\":\"DOM\",\"type\":\"node\",\"instanceArgs\":{\"namespace\":\"html\",\"tag\":\"div\"},\"children\":[{\"props\":{\"className\":\"interact-flex-row-left\"},\"nodeType\":\"DOM\",\"type\":\"node\",\"instanceArgs\":{\"namespace\":\"html\",\"tag\":\"div\"},\"children\":[{\"props\":{\"className\":\"interact \",\"style\":{\"padding\":\"5px 10px 0px 10px\"}},\"nodeType\":\"DOM\",\"type\":\"node\",\"instanceArgs\":{\"namespace\":\"html\",\"tag\":\"label\"},\"children\":[\"wolf_birth_rate\"]}]},{\"props\":{\"className\":\"interact-flex-row-center\"},\"nodeType\":\"DOM\",\"type\":\"node\",\"instanceArgs\":{\"namespace\":\"html\",\"tag\":\"div\"},\"children\":[{\"props\":{\"max\":101,\"min\":1,\"attributes\":{\"type\":\"range\",\"data-bind\":\"numericValue: index, valueUpdate: 'input', event: {change: function (){this.changes(this.changes()+1)}}\",\"orient\":\"horizontal\"},\"step\":1,\"className\":\"slider slider is-fullwidth\",\"style\":{}},\"nodeType\":\"DOM\",\"type\":\"node\",\"instanceArgs\":{\"namespace\":\"html\",\"tag\":\"input\"},\"children\":[]}]},{\"props\":{\"className\":\"interact-flex-row-right\"},\"nodeType\":\"DOM\",\"type\":\"node\",\"instanceArgs\":{\"namespace\":\"html\",\"tag\":\"div\"},\"children\":[{\"props\":{\"attributes\":{\"data-bind\":\"text: formatted_val\"}},\"nodeType\":\"DOM\",\"type\":\"node\",\"instanceArgs\":{\"namespace\":\"html\",\"tag\":\"p\"},\"children\":[]}]}]}]}]},{\"props\":{\"className\":\"field interact-widget\"},\"nodeType\":\"DOM\",\"type\":\"node\",\"instanceArgs\":{\"namespace\":\"html\",\"tag\":\"div\"},\"children\":[{\"props\":{},\"nodeType\":\"Scope\",\"type\":\"node\",\"instanceArgs\":{\"imports\":{\"data\":[{\"name\":\"knockout\",\"type\":\"js\",\"url\":\"\\/assetserver\\/727383f2a47bd31570b7da84eee7b022dd6d7c78-knockout.js\"},{\"name\":\"knockout_punches\",\"type\":\"js\",\"url\":\"\\/assetserver\\/382b41b3b1bd9f26f75861d360bad7f8beea211f-knockout_punches.js\"},{\"name\":null,\"type\":\"js\",\"url\":\"\\/assetserver\\/5ab20f1060420992a9b82a65b735dee4d81ef413-all.js\"},{\"name\":null,\"type\":\"css\",\"url\":\"\\/assetserver\\/1cc0ed62837210b80a182cc3676512f895dab686-style.css\"},{\"name\":null,\"type\":\"css\",\"url\":\"\\/assetserver\\/2eee816f616df3549d7044d45e744fbf8d42bfa1-bulma_confined.min.css\"}],\"type\":\"async_block\"},\"id\":\"15160479387225488675\",\"handlers\":{\"changes\":[\"(function (val){return (val!=this.model[\\\"changes\\\"]()) ? (this.valueFromJulia[\\\"changes\\\"]=true, this.model[\\\"changes\\\"](val)) : undefined})\"],\"index\":[\"(function (val){return (val!=this.model[\\\"index\\\"]()) ? (this.valueFromJulia[\\\"index\\\"]=true, this.model[\\\"index\\\"](val)) : undefined})\"]},\"systemjs_options\":null,\"mount_callbacks\":[\"function () {\\n    var handler = (function (ko, koPunches) {\\n    ko.punches.enableAll();\\n    ko.bindingHandlers.numericValue = {\\n        init: function(element, valueAccessor, allBindings, data, context) {\\n            var stringified = ko.observable(ko.unwrap(valueAccessor()));\\n            stringified.subscribe(function(value) {\\n                var val = parseFloat(value);\\n                if (!isNaN(val)) {\\n                    valueAccessor()(val);\\n                }\\n            });\\n            valueAccessor().subscribe(function(value) {\\n                var str = JSON.stringify(value);\\n                if ((str == \\\"0\\\") && ([\\\"-0\\\", \\\"-0.\\\"].indexOf(stringified()) >= 0))\\n                     return;\\n                 if ([\\\"null\\\", \\\"\\\"].indexOf(str) >= 0)\\n                     return;\\n                stringified(str);\\n            });\\n            ko.applyBindingsToNode(\\n                element,\\n                {\\n                    value: stringified,\\n                    valueUpdate: allBindings.get('valueUpdate'),\\n                },\\n                context,\\n            );\\n        }\\n    };\\n    var json_data = {\\\"formatted_vals\\\":[\\\"0.01\\\",\\\"0.02\\\",\\\"0.03\\\",\\\"0.04\\\",\\\"0.05\\\",\\\"0.06\\\",\\\"0.07\\\",\\\"0.08\\\",\\\"0.09\\\",\\\"0.1\\\",\\\"0.11\\\",\\\"0.12\\\",\\\"0.13\\\",\\\"0.14\\\",\\\"0.15\\\",\\\"0.16\\\",\\\"0.17\\\",\\\"0.18\\\",\\\"0.19\\\",\\\"0.2\\\",\\\"0.21\\\",\\\"0.22\\\",\\\"0.23\\\",\\\"0.24\\\",\\\"0.25\\\",\\\"0.26\\\",\\\"0.27\\\",\\\"0.28\\\",\\\"0.29\\\",\\\"0.3\\\",\\\"0.31\\\",\\\"0.32\\\",\\\"0.33\\\",\\\"0.34\\\",\\\"0.35\\\",\\\"0.36\\\",\\\"0.37\\\",\\\"0.38\\\",\\\"0.39\\\",\\\"0.4\\\",\\\"0.41\\\",\\\"0.42\\\",\\\"0.43\\\",\\\"0.44\\\",\\\"0.45\\\",\\\"0.46\\\",\\\"0.47\\\",\\\"0.48\\\",\\\"0.49\\\",\\\"0.5\\\",\\\"0.51\\\",\\\"0.52\\\",\\\"0.53\\\",\\\"0.54\\\",\\\"0.55\\\",\\\"0.56\\\",\\\"0.57\\\",\\\"0.58\\\",\\\"0.59\\\",\\\"0.6\\\",\\\"0.61\\\",\\\"0.62\\\",\\\"0.63\\\",\\\"0.64\\\",\\\"0.65\\\",\\\"0.66\\\",\\\"0.67\\\",\\\"0.68\\\",\\\"0.69\\\",\\\"0.7\\\",\\\"0.71\\\",\\\"0.72\\\",\\\"0.73\\\",\\\"0.74\\\",\\\"0.75\\\",\\\"0.76\\\",\\\"0.77\\\",\\\"0.78\\\",\\\"0.79\\\",\\\"0.8\\\",\\\"0.81\\\",\\\"0.82\\\",\\\"0.83\\\",\\\"0.84\\\",\\\"0.85\\\",\\\"0.86\\\",\\\"0.87\\\",\\\"0.88\\\",\\\"0.89\\\",\\\"0.9\\\",\\\"0.91\\\",\\\"0.92\\\",\\\"0.93\\\",\\\"0.94\\\",\\\"0.95\\\",\\\"0.96\\\",\\\"0.97\\\",\\\"0.98\\\",\\\"0.99\\\",\\\"1.0\\\"],\\\"changes\\\":WebIO.getval({\\\"name\\\":\\\"changes\\\",\\\"scope\\\":\\\"15160479387225488675\\\",\\\"id\\\":\\\"1147088338776207967\\\",\\\"type\\\":\\\"observable\\\"}),\\\"index\\\":WebIO.getval({\\\"name\\\":\\\"index\\\",\\\"scope\\\":\\\"15160479387225488675\\\",\\\"id\\\":\\\"928709856778517926\\\",\\\"type\\\":\\\"observable\\\"})};\\n    var self = this;\\n    function AppViewModel() {\\n        for (var key in json_data) {\\n            var el = json_data[key];\\n            this[key] = Array.isArray(el) ? ko.observableArray(el) : ko.observable(el);\\n        }\\n        \\n        [this[\\\"formatted_val\\\"]=ko.computed(    function(){\\n        return this.formatted_vals()[parseInt(this.index())-(1)];\\n    }\\n,this)]\\n        [this[\\\"changes\\\"].subscribe((function (val){!(this.valueFromJulia[\\\"changes\\\"]) ? (WebIO.setval({\\\"name\\\":\\\"changes\\\",\\\"scope\\\":\\\"15160479387225488675\\\",\\\"id\\\":\\\"1147088338776207967\\\",\\\"type\\\":\\\"observable\\\"},val)) : undefined; return this.valueFromJulia[\\\"changes\\\"]=false}),self),this[\\\"index\\\"].subscribe((function (val){!(this.valueFromJulia[\\\"index\\\"]) ? (WebIO.setval({\\\"name\\\":\\\"index\\\",\\\"scope\\\":\\\"15160479387225488675\\\",\\\"id\\\":\\\"928709856778517926\\\",\\\"type\\\":\\\"observable\\\"},val)) : undefined; return this.valueFromJulia[\\\"index\\\"]=false}),self)]\\n        \\n    }\\n    self.model = new AppViewModel();\\n    self.valueFromJulia = {};\\n    for (var key in json_data) {\\n        self.valueFromJulia[key] = false;\\n    }\\n    ko.applyBindings(self.model, self.dom);\\n}\\n);\\n    (WebIO.importBlock({\\\"data\\\":[{\\\"name\\\":\\\"knockout\\\",\\\"type\\\":\\\"js\\\",\\\"url\\\":\\\"\\/assetserver\\/727383f2a47bd31570b7da84eee7b022dd6d7c78-knockout.js\\\"},{\\\"name\\\":\\\"knockout_punches\\\",\\\"type\\\":\\\"js\\\",\\\"url\\\":\\\"\\/assetserver\\/382b41b3b1bd9f26f75861d360bad7f8beea211f-knockout_punches.js\\\"}],\\\"type\\\":\\\"async_block\\\"})).then((imports) => handler.apply(this, imports));\\n}\\n\"],\"observables\":{\"changes\":{\"sync\":false,\"id\":\"1147088338776207967\",\"value\":0},\"index\":{\"sync\":true,\"id\":\"928709856778517926\",\"value\":50}}},\"children\":[{\"props\":{\"className\":\"interact-flex-row interact-widget\"},\"nodeType\":\"DOM\",\"type\":\"node\",\"instanceArgs\":{\"namespace\":\"html\",\"tag\":\"div\"},\"children\":[{\"props\":{\"className\":\"interact-flex-row-left\"},\"nodeType\":\"DOM\",\"type\":\"node\",\"instanceArgs\":{\"namespace\":\"html\",\"tag\":\"div\"},\"children\":[{\"props\":{\"className\":\"interact \",\"style\":{\"padding\":\"5px 10px 0px 10px\"}},\"nodeType\":\"DOM\",\"type\":\"node\",\"instanceArgs\":{\"namespace\":\"html\",\"tag\":\"label\"},\"children\":[\"sheep_birth_rate\"]}]},{\"props\":{\"className\":\"interact-flex-row-center\"},\"nodeType\":\"DOM\",\"type\":\"node\",\"instanceArgs\":{\"namespace\":\"html\",\"tag\":\"div\"},\"children\":[{\"props\":{\"max\":100,\"min\":1,\"attributes\":{\"type\":\"range\",\"data-bind\":\"numericValue: index, valueUpdate: 'input', event: {change: function (){this.changes(this.changes()+1)}}\",\"orient\":\"horizontal\"},\"step\":1,\"className\":\"slider slider is-fullwidth\",\"style\":{}},\"nodeType\":\"DOM\",\"type\":\"node\",\"instanceArgs\":{\"namespace\":\"html\",\"tag\":\"input\"},\"children\":[]}]},{\"props\":{\"className\":\"interact-flex-row-right\"},\"nodeType\":\"DOM\",\"type\":\"node\",\"instanceArgs\":{\"namespace\":\"html\",\"tag\":\"div\"},\"children\":[{\"props\":{\"attributes\":{\"data-bind\":\"text: formatted_val\"}},\"nodeType\":\"DOM\",\"type\":\"node\",\"instanceArgs\":{\"namespace\":\"html\",\"tag\":\"p\"},\"children\":[]}]}]}]}]},{\"props\":{\"className\":\"field interact-widget\"},\"nodeType\":\"DOM\",\"type\":\"node\",\"instanceArgs\":{\"namespace\":\"html\",\"tag\":\"div\"},\"children\":[{\"props\":{},\"nodeType\":\"Scope\",\"type\":\"node\",\"instanceArgs\":{\"imports\":{\"data\":[{\"name\":\"knockout\",\"type\":\"js\",\"url\":\"\\/assetserver\\/727383f2a47bd31570b7da84eee7b022dd6d7c78-knockout.js\"},{\"name\":\"knockout_punches\",\"type\":\"js\",\"url\":\"\\/assetserver\\/382b41b3b1bd9f26f75861d360bad7f8beea211f-knockout_punches.js\"},{\"name\":null,\"type\":\"js\",\"url\":\"\\/assetserver\\/5ab20f1060420992a9b82a65b735dee4d81ef413-all.js\"},{\"name\":null,\"type\":\"css\",\"url\":\"\\/assetserver\\/1cc0ed62837210b80a182cc3676512f895dab686-style.css\"},{\"name\":null,\"type\":\"css\",\"url\":\"\\/assetserver\\/2eee816f616df3549d7044d45e744fbf8d42bfa1-bulma_confined.min.css\"}],\"type\":\"async_block\"},\"id\":\"16021307231654370473\",\"handlers\":{\"changes\":[\"(function (val){return (val!=this.model[\\\"changes\\\"]()) ? (this.valueFromJulia[\\\"changes\\\"]=true, this.model[\\\"changes\\\"](val)) : undefined})\"],\"index\":[\"(function (val){return (val!=this.model[\\\"index\\\"]()) ? (this.valueFromJulia[\\\"index\\\"]=true, this.model[\\\"index\\\"](val)) : undefined})\"]},\"systemjs_options\":null,\"mount_callbacks\":[\"function () {\\n    var handler = (function (ko, koPunches) {\\n    ko.punches.enableAll();\\n    ko.bindingHandlers.numericValue = {\\n        init: function(element, valueAccessor, allBindings, data, context) {\\n            var stringified = ko.observable(ko.unwrap(valueAccessor()));\\n            stringified.subscribe(function(value) {\\n                var val = parseFloat(value);\\n                if (!isNaN(val)) {\\n                    valueAccessor()(val);\\n                }\\n            });\\n            valueAccessor().subscribe(function(value) {\\n                var str = JSON.stringify(value);\\n                if ((str == \\\"0\\\") && ([\\\"-0\\\", \\\"-0.\\\"].indexOf(stringified()) >= 0))\\n                     return;\\n                 if ([\\\"null\\\", \\\"\\\"].indexOf(str) >= 0)\\n                     return;\\n                stringified(str);\\n            });\\n            ko.applyBindingsToNode(\\n                element,\\n                {\\n                    value: stringified,\\n                    valueUpdate: allBindings.get('valueUpdate'),\\n                },\\n                context,\\n            );\\n        }\\n    };\\n    var json_data = {\\\"formatted_vals\\\":[\\\"0.01\\\",\\\"0.02\\\",\\\"0.03\\\",\\\"0.04\\\",\\\"0.05\\\",\\\"0.06\\\",\\\"0.07\\\",\\\"0.08\\\",\\\"0.09\\\",\\\"0.1\\\",\\\"0.11\\\",\\\"0.12\\\",\\\"0.13\\\",\\\"0.14\\\",\\\"0.15\\\",\\\"0.16\\\",\\\"0.17\\\",\\\"0.18\\\",\\\"0.19\\\",\\\"0.2\\\",\\\"0.21\\\",\\\"0.22\\\",\\\"0.23\\\",\\\"0.24\\\",\\\"0.25\\\",\\\"0.26\\\",\\\"0.27\\\",\\\"0.28\\\",\\\"0.29\\\",\\\"0.3\\\",\\\"0.31\\\",\\\"0.32\\\",\\\"0.33\\\",\\\"0.34\\\",\\\"0.35\\\",\\\"0.36\\\",\\\"0.37\\\",\\\"0.38\\\",\\\"0.39\\\",\\\"0.4\\\",\\\"0.41\\\",\\\"0.42\\\",\\\"0.43\\\",\\\"0.44\\\",\\\"0.45\\\",\\\"0.46\\\",\\\"0.47\\\",\\\"0.48\\\",\\\"0.49\\\",\\\"0.5\\\",\\\"0.51\\\",\\\"0.52\\\",\\\"0.53\\\",\\\"0.54\\\",\\\"0.55\\\",\\\"0.56\\\",\\\"0.57\\\",\\\"0.58\\\",\\\"0.59\\\",\\\"0.6\\\",\\\"0.61\\\",\\\"0.62\\\",\\\"0.63\\\",\\\"0.64\\\",\\\"0.65\\\",\\\"0.66\\\",\\\"0.67\\\",\\\"0.68\\\",\\\"0.69\\\",\\\"0.7\\\",\\\"0.71\\\",\\\"0.72\\\",\\\"0.73\\\",\\\"0.74\\\",\\\"0.75\\\",\\\"0.76\\\",\\\"0.77\\\",\\\"0.78\\\",\\\"0.79\\\",\\\"0.8\\\",\\\"0.81\\\",\\\"0.82\\\",\\\"0.83\\\",\\\"0.84\\\",\\\"0.85\\\",\\\"0.86\\\",\\\"0.87\\\",\\\"0.88\\\",\\\"0.89\\\",\\\"0.9\\\"],\\\"changes\\\":WebIO.getval({\\\"name\\\":\\\"changes\\\",\\\"scope\\\":\\\"16021307231654370473\\\",\\\"id\\\":\\\"5126391122514674835\\\",\\\"type\\\":\\\"observable\\\"}),\\\"index\\\":WebIO.getval({\\\"name\\\":\\\"index\\\",\\\"scope\\\":\\\"16021307231654370473\\\",\\\"id\\\":\\\"11681302551954945908\\\",\\\"type\\\":\\\"observable\\\"})};\\n    var self = this;\\n    function AppViewModel() {\\n        for (var key in json_data) {\\n            var el = json_data[key];\\n            this[key] = Array.isArray(el) ? ko.observableArray(el) : ko.observable(el);\\n        }\\n        \\n        [this[\\\"formatted_val\\\"]=ko.computed(    function(){\\n        return this.formatted_vals()[parseInt(this.index())-(1)];\\n    }\\n,this)]\\n        [this[\\\"changes\\\"].subscribe((function (val){!(this.valueFromJulia[\\\"changes\\\"]) ? (WebIO.setval({\\\"name\\\":\\\"changes\\\",\\\"scope\\\":\\\"16021307231654370473\\\",\\\"id\\\":\\\"5126391122514674835\\\",\\\"type\\\":\\\"observable\\\"},val)) : undefined; return this.valueFromJulia[\\\"changes\\\"]=false}),self),this[\\\"index\\\"].subscribe((function (val){!(this.valueFromJulia[\\\"index\\\"]) ? (WebIO.setval({\\\"name\\\":\\\"index\\\",\\\"scope\\\":\\\"16021307231654370473\\\",\\\"id\\\":\\\"11681302551954945908\\\",\\\"type\\\":\\\"observable\\\"},val)) : undefined; return this.valueFromJulia[\\\"index\\\"]=false}),self)]\\n        \\n    }\\n    self.model = new AppViewModel();\\n    self.valueFromJulia = {};\\n    for (var key in json_data) {\\n        self.valueFromJulia[key] = false;\\n    }\\n    ko.applyBindings(self.model, self.dom);\\n}\\n);\\n    (WebIO.importBlock({\\\"data\\\":[{\\\"name\\\":\\\"knockout\\\",\\\"type\\\":\\\"js\\\",\\\"url\\\":\\\"\\/assetserver\\/727383f2a47bd31570b7da84eee7b022dd6d7c78-knockout.js\\\"},{\\\"name\\\":\\\"knockout_punches\\\",\\\"type\\\":\\\"js\\\",\\\"url\\\":\\\"\\/assetserver\\/382b41b3b1bd9f26f75861d360bad7f8beea211f-knockout_punches.js\\\"}],\\\"type\\\":\\\"async_block\\\"})).then((imports) => handler.apply(this, imports));\\n}\\n\"],\"observables\":{\"changes\":{\"sync\":false,\"id\":\"5126391122514674835\",\"value\":0},\"index\":{\"sync\":true,\"id\":\"11681302551954945908\",\"value\":45}}},\"children\":[{\"props\":{\"className\":\"interact-flex-row interact-widget\"},\"nodeType\":\"DOM\",\"type\":\"node\",\"instanceArgs\":{\"namespace\":\"html\",\"tag\":\"div\"},\"children\":[{\"props\":{\"className\":\"interact-flex-row-left\"},\"nodeType\":\"DOM\",\"type\":\"node\",\"instanceArgs\":{\"namespace\":\"html\",\"tag\":\"div\"},\"children\":[{\"props\":{\"className\":\"interact \",\"style\":{\"padding\":\"5px 10px 0px 10px\"}},\"nodeType\":\"DOM\",\"type\":\"node\",\"instanceArgs\":{\"namespace\":\"html\",\"tag\":\"label\"},\"children\":[\"initial_wolf_percent\"]}]},{\"props\":{\"className\":\"interact-flex-row-center\"},\"nodeType\":\"DOM\",\"type\":\"node\",\"instanceArgs\":{\"namespace\":\"html\",\"tag\":\"div\"},\"children\":[{\"props\":{\"max\":90,\"min\":1,\"attributes\":{\"type\":\"range\",\"data-bind\":\"numericValue: index, valueUpdate: 'input', event: {change: function (){this.changes(this.changes()+1)}}\",\"orient\":\"horizontal\"},\"step\":1,\"className\":\"slider slider is-fullwidth\",\"style\":{}},\"nodeType\":\"DOM\",\"type\":\"node\",\"instanceArgs\":{\"namespace\":\"html\",\"tag\":\"input\"},\"children\":[]}]},{\"props\":{\"className\":\"interact-flex-row-right\"},\"nodeType\":\"DOM\",\"type\":\"node\",\"instanceArgs\":{\"namespace\":\"html\",\"tag\":\"div\"},\"children\":[{\"props\":{\"attributes\":{\"data-bind\":\"text: formatted_val\"}},\"nodeType\":\"DOM\",\"type\":\"node\",\"instanceArgs\":{\"namespace\":\"html\",\"tag\":\"p\"},\"children\":[]}]}]}]}]},{\"props\":{\"className\":\"field interact-widget\"},\"nodeType\":\"DOM\",\"type\":\"node\",\"instanceArgs\":{\"namespace\":\"html\",\"tag\":\"div\"},\"children\":[{\"props\":{},\"nodeType\":\"Scope\",\"type\":\"node\",\"instanceArgs\":{\"imports\":{\"data\":[{\"name\":\"knockout\",\"type\":\"js\",\"url\":\"\\/assetserver\\/727383f2a47bd31570b7da84eee7b022dd6d7c78-knockout.js\"},{\"name\":\"knockout_punches\",\"type\":\"js\",\"url\":\"\\/assetserver\\/382b41b3b1bd9f26f75861d360bad7f8beea211f-knockout_punches.js\"},{\"name\":null,\"type\":\"js\",\"url\":\"\\/assetserver\\/5ab20f1060420992a9b82a65b735dee4d81ef413-all.js\"},{\"name\":null,\"type\":\"css\",\"url\":\"\\/assetserver\\/1cc0ed62837210b80a182cc3676512f895dab686-style.css\"},{\"name\":null,\"type\":\"css\",\"url\":\"\\/assetserver\\/2eee816f616df3549d7044d45e744fbf8d42bfa1-bulma_confined.min.css\"}],\"type\":\"async_block\"},\"id\":\"9801409354606649514\",\"handlers\":{\"changes\":[\"(function (val){return (val!=this.model[\\\"changes\\\"]()) ? (this.valueFromJulia[\\\"changes\\\"]=true, this.model[\\\"changes\\\"](val)) : undefined})\"],\"index\":[\"(function (val){return (val!=this.model[\\\"index\\\"]()) ? (this.valueFromJulia[\\\"index\\\"]=true, this.model[\\\"index\\\"](val)) : undefined})\"]},\"systemjs_options\":null,\"mount_callbacks\":[\"function () {\\n    var handler = (function (ko, koPunches) {\\n    ko.punches.enableAll();\\n    ko.bindingHandlers.numericValue = {\\n        init: function(element, valueAccessor, allBindings, data, context) {\\n            var stringified = ko.observable(ko.unwrap(valueAccessor()));\\n            stringified.subscribe(function(value) {\\n                var val = parseFloat(value);\\n                if (!isNaN(val)) {\\n                    valueAccessor()(val);\\n                }\\n            });\\n            valueAccessor().subscribe(function(value) {\\n                var str = JSON.stringify(value);\\n                if ((str == \\\"0\\\") && ([\\\"-0\\\", \\\"-0.\\\"].indexOf(stringified()) >= 0))\\n                     return;\\n                 if ([\\\"null\\\", \\\"\\\"].indexOf(str) >= 0)\\n                     return;\\n                stringified(str);\\n            });\\n            ko.applyBindingsToNode(\\n                element,\\n                {\\n                    value: stringified,\\n                    valueUpdate: allBindings.get('valueUpdate'),\\n                },\\n                context,\\n            );\\n        }\\n    };\\n    var json_data = {\\\"formatted_vals\\\":[\\\"0.01\\\",\\\"0.02\\\",\\\"0.03\\\",\\\"0.04\\\",\\\"0.05\\\",\\\"0.06\\\",\\\"0.07\\\",\\\"0.08\\\",\\\"0.09\\\",\\\"0.1\\\",\\\"0.11\\\",\\\"0.12\\\",\\\"0.13\\\",\\\"0.14\\\",\\\"0.15\\\",\\\"0.16\\\",\\\"0.17\\\",\\\"0.18\\\",\\\"0.19\\\",\\\"0.2\\\",\\\"0.21\\\",\\\"0.22\\\",\\\"0.23\\\",\\\"0.24\\\",\\\"0.25\\\",\\\"0.26\\\",\\\"0.27\\\",\\\"0.28\\\",\\\"0.29\\\",\\\"0.3\\\",\\\"0.31\\\",\\\"0.32\\\",\\\"0.33\\\",\\\"0.34\\\",\\\"0.35\\\",\\\"0.36\\\",\\\"0.37\\\",\\\"0.38\\\",\\\"0.39\\\",\\\"0.4\\\",\\\"0.41\\\",\\\"0.42\\\",\\\"0.43\\\",\\\"0.44\\\",\\\"0.45\\\",\\\"0.46\\\",\\\"0.47\\\",\\\"0.48\\\",\\\"0.49\\\",\\\"0.5\\\",\\\"0.51\\\",\\\"0.52\\\",\\\"0.53\\\",\\\"0.54\\\",\\\"0.55\\\",\\\"0.56\\\",\\\"0.57\\\",\\\"0.58\\\",\\\"0.59\\\",\\\"0.6\\\",\\\"0.61\\\",\\\"0.62\\\",\\\"0.63\\\",\\\"0.64\\\",\\\"0.65\\\",\\\"0.66\\\",\\\"0.67\\\",\\\"0.68\\\",\\\"0.69\\\",\\\"0.7\\\",\\\"0.71\\\",\\\"0.72\\\",\\\"0.73\\\",\\\"0.74\\\",\\\"0.75\\\",\\\"0.76\\\",\\\"0.77\\\",\\\"0.78\\\",\\\"0.79\\\",\\\"0.8\\\",\\\"0.81\\\",\\\"0.82\\\",\\\"0.83\\\",\\\"0.84\\\",\\\"0.85\\\",\\\"0.86\\\",\\\"0.87\\\",\\\"0.88\\\",\\\"0.89\\\",\\\"0.9\\\",\\\"0.91\\\",\\\"0.92\\\",\\\"0.93\\\",\\\"0.94\\\",\\\"0.95\\\",\\\"0.96\\\",\\\"0.97\\\",\\\"0.98\\\",\\\"0.99\\\",\\\"1.0\\\"],\\\"changes\\\":WebIO.getval({\\\"name\\\":\\\"changes\\\",\\\"scope\\\":\\\"9801409354606649514\\\",\\\"id\\\":\\\"10428399518841229285\\\",\\\"type\\\":\\\"observable\\\"}),\\\"index\\\":WebIO.getval({\\\"name\\\":\\\"index\\\",\\\"scope\\\":\\\"9801409354606649514\\\",\\\"id\\\":\\\"1039291409138004498\\\",\\\"type\\\":\\\"observable\\\"})};\\n    var self = this;\\n    function AppViewModel() {\\n        for (var key in json_data) {\\n            var el = json_data[key];\\n            this[key] = Array.isArray(el) ? ko.observableArray(el) : ko.observable(el);\\n        }\\n        \\n        [this[\\\"formatted_val\\\"]=ko.computed(    function(){\\n        return this.formatted_vals()[parseInt(this.index())-(1)];\\n    }\\n,this)]\\n        [this[\\\"changes\\\"].subscribe((function (val){!(this.valueFromJulia[\\\"changes\\\"]) ? (WebIO.setval({\\\"name\\\":\\\"changes\\\",\\\"scope\\\":\\\"9801409354606649514\\\",\\\"id\\\":\\\"10428399518841229285\\\",\\\"type\\\":\\\"observable\\\"},val)) : undefined; return this.valueFromJulia[\\\"changes\\\"]=false}),self),this[\\\"index\\\"].subscribe((function (val){!(this.valueFromJulia[\\\"index\\\"]) ? (WebIO.setval({\\\"name\\\":\\\"index\\\",\\\"scope\\\":\\\"9801409354606649514\\\",\\\"id\\\":\\\"1039291409138004498\\\",\\\"type\\\":\\\"observable\\\"},val)) : undefined; return this.valueFromJulia[\\\"index\\\"]=false}),self)]\\n        \\n    }\\n    self.model = new AppViewModel();\\n    self.valueFromJulia = {};\\n    for (var key in json_data) {\\n        self.valueFromJulia[key] = false;\\n    }\\n    ko.applyBindings(self.model, self.dom);\\n}\\n);\\n    (WebIO.importBlock({\\\"data\\\":[{\\\"name\\\":\\\"knockout\\\",\\\"type\\\":\\\"js\\\",\\\"url\\\":\\\"\\/assetserver\\/727383f2a47bd31570b7da84eee7b022dd6d7c78-knockout.js\\\"},{\\\"name\\\":\\\"knockout_punches\\\",\\\"type\\\":\\\"js\\\",\\\"url\\\":\\\"\\/assetserver\\/382b41b3b1bd9f26f75861d360bad7f8beea211f-knockout_punches.js\\\"}],\\\"type\\\":\\\"async_block\\\"})).then((imports) => handler.apply(this, imports));\\n}\\n\"],\"observables\":{\"changes\":{\"sync\":false,\"id\":\"10428399518841229285\",\"value\":0},\"index\":{\"sync\":true,\"id\":\"1039291409138004498\",\"value\":50}}},\"children\":[{\"props\":{\"className\":\"interact-flex-row interact-widget\"},\"nodeType\":\"DOM\",\"type\":\"node\",\"instanceArgs\":{\"namespace\":\"html\",\"tag\":\"div\"},\"children\":[{\"props\":{\"className\":\"interact-flex-row-left\"},\"nodeType\":\"DOM\",\"type\":\"node\",\"instanceArgs\":{\"namespace\":\"html\",\"tag\":\"div\"},\"children\":[{\"props\":{\"className\":\"interact \",\"style\":{\"padding\":\"5px 10px 0px 10px\"}},\"nodeType\":\"DOM\",\"type\":\"node\",\"instanceArgs\":{\"namespace\":\"html\",\"tag\":\"label\"},\"children\":[\"wolves_kill_ability\"]}]},{\"props\":{\"className\":\"interact-flex-row-center\"},\"nodeType\":\"DOM\",\"type\":\"node\",\"instanceArgs\":{\"namespace\":\"html\",\"tag\":\"div\"},\"children\":[{\"props\":{\"max\":100,\"min\":1,\"attributes\":{\"type\":\"range\",\"data-bind\":\"numericValue: index, valueUpdate: 'input', event: {change: function (){this.changes(this.changes()+1)}}\",\"orient\":\"horizontal\"},\"step\":1,\"className\":\"slider slider is-fullwidth\",\"style\":{}},\"nodeType\":\"DOM\",\"type\":\"node\",\"instanceArgs\":{\"namespace\":\"html\",\"tag\":\"input\"},\"children\":[]}]},{\"props\":{\"className\":\"interact-flex-row-right\"},\"nodeType\":\"DOM\",\"type\":\"node\",\"instanceArgs\":{\"namespace\":\"html\",\"tag\":\"div\"},\"children\":[{\"props\":{\"attributes\":{\"data-bind\":\"text: formatted_val\"}},\"nodeType\":\"DOM\",\"type\":\"node\",\"instanceArgs\":{\"namespace\":\"html\",\"tag\":\"p\"},\"children\":[]}]}]}]}]},{\"props\":{\"className\":\"field interact-widget\"},\"nodeType\":\"DOM\",\"type\":\"node\",\"instanceArgs\":{\"namespace\":\"html\",\"tag\":\"div\"},\"children\":[{\"props\":{},\"nodeType\":\"Scope\",\"type\":\"node\",\"instanceArgs\":{\"imports\":{\"data\":[{\"name\":\"knockout\",\"type\":\"js\",\"url\":\"\\/assetserver\\/727383f2a47bd31570b7da84eee7b022dd6d7c78-knockout.js\"},{\"name\":\"knockout_punches\",\"type\":\"js\",\"url\":\"\\/assetserver\\/382b41b3b1bd9f26f75861d360bad7f8beea211f-knockout_punches.js\"},{\"name\":null,\"type\":\"js\",\"url\":\"\\/assetserver\\/5ab20f1060420992a9b82a65b735dee4d81ef413-all.js\"},{\"name\":null,\"type\":\"css\",\"url\":\"\\/assetserver\\/1cc0ed62837210b80a182cc3676512f895dab686-style.css\"},{\"name\":null,\"type\":\"css\",\"url\":\"\\/assetserver\\/2eee816f616df3549d7044d45e744fbf8d42bfa1-bulma_confined.min.css\"}],\"type\":\"async_block\"},\"id\":\"15294902769060538528\",\"handlers\":{\"changes\":[\"(function (val){return (val!=this.model[\\\"changes\\\"]()) ? (this.valueFromJulia[\\\"changes\\\"]=true, this.model[\\\"changes\\\"](val)) : undefined})\"],\"index\":[\"(function (val){return (val!=this.model[\\\"index\\\"]()) ? (this.valueFromJulia[\\\"index\\\"]=true, this.model[\\\"index\\\"](val)) : undefined})\"]},\"systemjs_options\":null,\"mount_callbacks\":[\"function () {\\n    var handler = (function (ko, koPunches) {\\n    ko.punches.enableAll();\\n    ko.bindingHandlers.numericValue = {\\n        init: function(element, valueAccessor, allBindings, data, context) {\\n            var stringified = ko.observable(ko.unwrap(valueAccessor()));\\n            stringified.subscribe(function(value) {\\n                var val = parseFloat(value);\\n                if (!isNaN(val)) {\\n                    valueAccessor()(val);\\n                }\\n            });\\n            valueAccessor().subscribe(function(value) {\\n                var str = JSON.stringify(value);\\n                if ((str == \\\"0\\\") && ([\\\"-0\\\", \\\"-0.\\\"].indexOf(stringified()) >= 0))\\n                     return;\\n                 if ([\\\"null\\\", \\\"\\\"].indexOf(str) >= 0)\\n                     return;\\n                stringified(str);\\n            });\\n            ko.applyBindingsToNode(\\n                element,\\n                {\\n                    value: stringified,\\n                    valueUpdate: allBindings.get('valueUpdate'),\\n                },\\n                context,\\n            );\\n        }\\n    };\\n    var json_data = {\\\"formatted_vals\\\":[\\\"0.01\\\",\\\"0.02\\\",\\\"0.03\\\",\\\"0.04\\\",\\\"0.05\\\",\\\"0.06\\\",\\\"0.07\\\",\\\"0.08\\\",\\\"0.09\\\",\\\"0.1\\\",\\\"0.11\\\",\\\"0.12\\\",\\\"0.13\\\",\\\"0.14\\\",\\\"0.15\\\",\\\"0.16\\\",\\\"0.17\\\",\\\"0.18\\\",\\\"0.19\\\",\\\"0.2\\\",\\\"0.21\\\",\\\"0.22\\\",\\\"0.23\\\",\\\"0.24\\\",\\\"0.25\\\",\\\"0.26\\\",\\\"0.27\\\",\\\"0.28\\\",\\\"0.29\\\",\\\"0.3\\\",\\\"0.31\\\",\\\"0.32\\\",\\\"0.33\\\",\\\"0.34\\\",\\\"0.35\\\",\\\"0.36\\\",\\\"0.37\\\",\\\"0.38\\\",\\\"0.39\\\",\\\"0.4\\\",\\\"0.41\\\",\\\"0.42\\\",\\\"0.43\\\",\\\"0.44\\\",\\\"0.45\\\",\\\"0.46\\\",\\\"0.47\\\",\\\"0.48\\\",\\\"0.49\\\",\\\"0.5\\\"],\\\"changes\\\":WebIO.getval({\\\"name\\\":\\\"changes\\\",\\\"scope\\\":\\\"15294902769060538528\\\",\\\"id\\\":\\\"3746875887282282139\\\",\\\"type\\\":\\\"observable\\\"}),\\\"index\\\":WebIO.getval({\\\"name\\\":\\\"index\\\",\\\"scope\\\":\\\"15294902769060538528\\\",\\\"id\\\":\\\"16064240768164366783\\\",\\\"type\\\":\\\"observable\\\"})};\\n    var self = this;\\n    function AppViewModel() {\\n        for (var key in json_data) {\\n            var el = json_data[key];\\n            this[key] = Array.isArray(el) ? ko.observableArray(el) : ko.observable(el);\\n        }\\n        \\n        [this[\\\"formatted_val\\\"]=ko.computed(    function(){\\n        return this.formatted_vals()[parseInt(this.index())-(1)];\\n    }\\n,this)]\\n        [this[\\\"changes\\\"].subscribe((function (val){!(this.valueFromJulia[\\\"changes\\\"]) ? (WebIO.setval({\\\"name\\\":\\\"changes\\\",\\\"scope\\\":\\\"15294902769060538528\\\",\\\"id\\\":\\\"3746875887282282139\\\",\\\"type\\\":\\\"observable\\\"},val)) : undefined; return this.valueFromJulia[\\\"changes\\\"]=false}),self),this[\\\"index\\\"].subscribe((function (val){!(this.valueFromJulia[\\\"index\\\"]) ? (WebIO.setval({\\\"name\\\":\\\"index\\\",\\\"scope\\\":\\\"15294902769060538528\\\",\\\"id\\\":\\\"16064240768164366783\\\",\\\"type\\\":\\\"observable\\\"},val)) : undefined; return this.valueFromJulia[\\\"index\\\"]=false}),self)]\\n        \\n    }\\n    self.model = new AppViewModel();\\n    self.valueFromJulia = {};\\n    for (var key in json_data) {\\n        self.valueFromJulia[key] = false;\\n    }\\n    ko.applyBindings(self.model, self.dom);\\n}\\n);\\n    (WebIO.importBlock({\\\"data\\\":[{\\\"name\\\":\\\"knockout\\\",\\\"type\\\":\\\"js\\\",\\\"url\\\":\\\"\\/assetserver\\/727383f2a47bd31570b7da84eee7b022dd6d7c78-knockout.js\\\"},{\\\"name\\\":\\\"knockout_punches\\\",\\\"type\\\":\\\"js\\\",\\\"url\\\":\\\"\\/assetserver\\/382b41b3b1bd9f26f75861d360bad7f8beea211f-knockout_punches.js\\\"}],\\\"type\\\":\\\"async_block\\\"})).then((imports) => handler.apply(this, imports));\\n}\\n\"],\"observables\":{\"changes\":{\"sync\":false,\"id\":\"3746875887282282139\",\"value\":0},\"index\":{\"sync\":true,\"id\":\"16064240768164366783\",\"value\":25}}},\"children\":[{\"props\":{\"className\":\"interact-flex-row interact-widget\"},\"nodeType\":\"DOM\",\"type\":\"node\",\"instanceArgs\":{\"namespace\":\"html\",\"tag\":\"div\"},\"children\":[{\"props\":{\"className\":\"interact-flex-row-left\"},\"nodeType\":\"DOM\",\"type\":\"node\",\"instanceArgs\":{\"namespace\":\"html\",\"tag\":\"div\"},\"children\":[{\"props\":{\"className\":\"interact \",\"style\":{\"padding\":\"5px 10px 0px 10px\"}},\"nodeType\":\"DOM\",\"type\":\"node\",\"instanceArgs\":{\"namespace\":\"html\",\"tag\":\"label\"},\"children\":[\"grass_grow_prob\"]}]},{\"props\":{\"className\":\"interact-flex-row-center\"},\"nodeType\":\"DOM\",\"type\":\"node\",\"instanceArgs\":{\"namespace\":\"html\",\"tag\":\"div\"},\"children\":[{\"props\":{\"max\":50,\"min\":1,\"attributes\":{\"type\":\"range\",\"data-bind\":\"numericValue: index, valueUpdate: 'input', event: {change: function (){this.changes(this.changes()+1)}}\",\"orient\":\"horizontal\"},\"step\":1,\"className\":\"slider slider is-fullwidth\",\"style\":{}},\"nodeType\":\"DOM\",\"type\":\"node\",\"instanceArgs\":{\"namespace\":\"html\",\"tag\":\"input\"},\"children\":[]}]},{\"props\":{\"className\":\"interact-flex-row-right\"},\"nodeType\":\"DOM\",\"type\":\"node\",\"instanceArgs\":{\"namespace\":\"html\",\"tag\":\"div\"},\"children\":[{\"props\":{\"attributes\":{\"data-bind\":\"text: formatted_val\"}},\"nodeType\":\"DOM\",\"type\":\"node\",\"instanceArgs\":{\"namespace\":\"html\",\"tag\":\"p\"},\"children\":[]}]}]}]}]}]},{\"props\":{\"style\":{\"display\":\"flex\",\"flex-direction\":\"row\"}},\"nodeType\":\"DOM\",\"type\":\"node\",\"instanceArgs\":{\"namespace\":\"html\",\"tag\":\"div\"},\"children\":[{\"props\":{\"className\":\"interact-widget\"},\"nodeType\":\"DOM\",\"type\":\"node\",\"instanceArgs\":{\"namespace\":\"html\",\"tag\":\"div\"},\"children\":[{\"props\":{},\"nodeType\":\"Scope\",\"type\":\"node\",\"instanceArgs\":{\"imports\":{\"data\":[{\"name\":null,\"type\":\"js\",\"url\":\"\\/assetserver\\/dd22ed1bf1896c2748f3fe616ce0b838adc895c1-katex.min.js\"},{\"name\":null,\"type\":\"css\",\"url\":\"\\/assetserver\\/46517a424aa5e6cffc1360d7e0848b601c584ee3-katex.min.css\"}],\"type\":\"async_block\"},\"id\":\"17211899116907497092\",\"handlers\":{\"value\":[\"(function (txt){return this.k.render(txt,this.container)})\"]},\"systemjs_options\":null,\"mount_callbacks\":[\"function () {\\n    var handler = ((function (k){this.k=k; this.container=this.dom.querySelector(\\\"#container\\\"); return k.render(\\\"\\\\\\\\;\\\\\\\\;\\\",this.container)}));\\n    (WebIO.importBlock({\\\"data\\\":[{\\\"name\\\":null,\\\"type\\\":\\\"js\\\",\\\"url\\\":\\\"\\/assetserver\\/dd22ed1bf1896c2748f3fe616ce0b838adc895c1-katex.min.js\\\"},{\\\"name\\\":null,\\\"type\\\":\\\"css\\\",\\\"url\\\":\\\"\\/assetserver\\/46517a424aa5e6cffc1360d7e0848b601c584ee3-katex.min.css\\\"}],\\\"type\\\":\\\"async_block\\\"})).then((imports) => handler.apply(this, imports));\\n}\\n\"],\"observables\":{\"value\":{\"sync\":false,\"id\":\"13255816648685062562\",\"value\":\"\\\\;\\\\;\"}}},\"children\":[{\"props\":{\"id\":\"container\"},\"nodeType\":\"DOM\",\"type\":\"node\",\"instanceArgs\":{\"namespace\":\"html\",\"tag\":\"div\"},\"children\":[]}]}]},{\"props\":{\"className\":\"field interact-widget\"},\"nodeType\":\"DOM\",\"type\":\"node\",\"instanceArgs\":{\"namespace\":\"html\",\"tag\":\"div\"},\"children\":[{\"props\":{},\"nodeType\":\"Scope\",\"type\":\"node\",\"instanceArgs\":{\"imports\":{\"data\":[{\"name\":\"knockout\",\"type\":\"js\",\"url\":\"\\/assetserver\\/727383f2a47bd31570b7da84eee7b022dd6d7c78-knockout.js\"},{\"name\":\"knockout_punches\",\"type\":\"js\",\"url\":\"\\/assetserver\\/382b41b3b1bd9f26f75861d360bad7f8beea211f-knockout_punches.js\"},{\"name\":null,\"type\":\"js\",\"url\":\"\\/assetserver\\/5ab20f1060420992a9b82a65b735dee4d81ef413-all.js\"},{\"name\":null,\"type\":\"css\",\"url\":\"\\/assetserver\\/1cc0ed62837210b80a182cc3676512f895dab686-style.css\"},{\"name\":null,\"type\":\"css\",\"url\":\"\\/assetserver\\/2eee816f616df3549d7044d45e744fbf8d42bfa1-bulma_confined.min.css\"}],\"type\":\"async_block\"},\"id\":\"7793988162607178682\",\"handlers\":{\"loading\":[\"(function (val){return (val!=this.model[\\\"loading\\\"]()) ? (this.valueFromJulia[\\\"loading\\\"]=true, this.model[\\\"loading\\\"](val)) : undefined})\"],\"clicks\":[\"(function (val){return (val!=this.model[\\\"clicks\\\"]()) ? (this.valueFromJulia[\\\"clicks\\\"]=true, this.model[\\\"clicks\\\"](val)) : undefined})\"]},\"systemjs_options\":null,\"mount_callbacks\":[\"function () {\\n    var handler = (function (ko, koPunches) {\\n    ko.punches.enableAll();\\n    ko.bindingHandlers.numericValue = {\\n        init: function(element, valueAccessor, allBindings, data, context) {\\n            var stringified = ko.observable(ko.unwrap(valueAccessor()));\\n            stringified.subscribe(function(value) {\\n                var val = parseFloat(value);\\n                if (!isNaN(val)) {\\n                    valueAccessor()(val);\\n                }\\n            });\\n            valueAccessor().subscribe(function(value) {\\n                var str = JSON.stringify(value);\\n                if ((str == \\\"0\\\") && ([\\\"-0\\\", \\\"-0.\\\"].indexOf(stringified()) >= 0))\\n                     return;\\n                 if ([\\\"null\\\", \\\"\\\"].indexOf(str) >= 0)\\n                     return;\\n                stringified(str);\\n            });\\n            ko.applyBindingsToNode(\\n                element,\\n                {\\n                    value: stringified,\\n                    valueUpdate: allBindings.get('valueUpdate'),\\n                },\\n                context,\\n            );\\n        }\\n    };\\n    var json_data = {\\\"loading\\\":WebIO.getval({\\\"name\\\":\\\"loading\\\",\\\"scope\\\":\\\"7793988162607178682\\\",\\\"id\\\":\\\"6372968280912976767\\\",\\\"type\\\":\\\"observable\\\"}),\\\"clicks\\\":WebIO.getval({\\\"name\\\":\\\"clicks\\\",\\\"scope\\\":\\\"7793988162607178682\\\",\\\"id\\\":\\\"13740959621563923234\\\",\\\"type\\\":\\\"observable\\\"})};\\n    var self = this;\\n    function AppViewModel() {\\n        for (var key in json_data) {\\n            var el = json_data[key];\\n            this[key] = Array.isArray(el) ? ko.observableArray(el) : ko.observable(el);\\n        }\\n        \\n        \\n        [this[\\\"loading\\\"].subscribe((function (val){!(this.valueFromJulia[\\\"loading\\\"]) ? (WebIO.setval({\\\"name\\\":\\\"loading\\\",\\\"scope\\\":\\\"7793988162607178682\\\",\\\"id\\\":\\\"6372968280912976767\\\",\\\"type\\\":\\\"observable\\\"},val)) : undefined; return this.valueFromJulia[\\\"loading\\\"]=false}),self),this[\\\"clicks\\\"].subscribe((function (val){!(this.valueFromJulia[\\\"clicks\\\"]) ? (WebIO.setval({\\\"name\\\":\\\"clicks\\\",\\\"scope\\\":\\\"7793988162607178682\\\",\\\"id\\\":\\\"13740959621563923234\\\",\\\"type\\\":\\\"observable\\\"},val)) : undefined; return this.valueFromJulia[\\\"clicks\\\"]=false}),self)]\\n        \\n    }\\n    self.model = new AppViewModel();\\n    self.valueFromJulia = {};\\n    for (var key in json_data) {\\n        self.valueFromJulia[key] = false;\\n    }\\n    ko.applyBindings(self.model, self.dom);\\n}\\n);\\n    (WebIO.importBlock({\\\"data\\\":[{\\\"name\\\":\\\"knockout\\\",\\\"type\\\":\\\"js\\\",\\\"url\\\":\\\"\\/assetserver\\/727383f2a47bd31570b7da84eee7b022dd6d7c78-knockout.js\\\"},{\\\"name\\\":\\\"knockout_punches\\\",\\\"type\\\":\\\"js\\\",\\\"url\\\":\\\"\\/assetserver\\/382b41b3b1bd9f26f75861d360bad7f8beea211f-knockout_punches.js\\\"}],\\\"type\\\":\\\"async_block\\\"})).then((imports) => handler.apply(this, imports));\\n}\\n\"],\"observables\":{\"loading\":{\"sync\":false,\"id\":\"6372968280912976767\",\"value\":false},\"clicks\":{\"sync\":true,\"id\":\"13740959621563923234\",\"value\":0}}},\"children\":[{\"props\":{\"attributes\":{\"data-bind\":\"click: function (){this.clicks(this.clicks()+1)}, css: {'is-loading' : loading}\"},\"className\":\"is-medium button is-primary\",\"style\":{}},\"nodeType\":\"DOM\",\"type\":\"node\",\"instanceArgs\":{\"namespace\":\"html\",\"tag\":\"button\"},\"children\":[\"run\"]}]}]},{\"props\":{\"className\":\"interact-widget\"},\"nodeType\":\"DOM\",\"type\":\"node\",\"instanceArgs\":{\"namespace\":\"html\",\"tag\":\"div\"},\"children\":[{\"props\":{},\"nodeType\":\"Scope\",\"type\":\"node\",\"instanceArgs\":{\"imports\":{\"data\":[{\"name\":null,\"type\":\"js\",\"url\":\"\\/assetserver\\/dd22ed1bf1896c2748f3fe616ce0b838adc895c1-katex.min.js\"},{\"name\":null,\"type\":\"css\",\"url\":\"\\/assetserver\\/46517a424aa5e6cffc1360d7e0848b601c584ee3-katex.min.css\"}],\"type\":\"async_block\"},\"id\":\"17211899116907497092\",\"handlers\":{\"value\":[\"(function (txt){return this.k.render(txt,this.container)})\"]},\"systemjs_options\":null,\"mount_callbacks\":[\"function () {\\n    var handler = ((function (k){this.k=k; this.container=this.dom.querySelector(\\\"#container\\\"); return k.render(\\\"\\\\\\\\;\\\\\\\\;\\\",this.container)}));\\n    (WebIO.importBlock({\\\"data\\\":[{\\\"name\\\":null,\\\"type\\\":\\\"js\\\",\\\"url\\\":\\\"\\/assetserver\\/dd22ed1bf1896c2748f3fe616ce0b838adc895c1-katex.min.js\\\"},{\\\"name\\\":null,\\\"type\\\":\\\"css\\\",\\\"url\\\":\\\"\\/assetserver\\/46517a424aa5e6cffc1360d7e0848b601c584ee3-katex.min.css\\\"}],\\\"type\\\":\\\"async_block\\\"})).then((imports) => handler.apply(this, imports));\\n}\\n\"],\"observables\":{\"value\":{\"sync\":false,\"id\":\"13255816648685062562\",\"value\":\"\\\\;\\\\;\"}}},\"children\":[{\"props\":{\"id\":\"container\"},\"nodeType\":\"DOM\",\"type\":\"node\",\"instanceArgs\":{\"namespace\":\"html\",\"tag\":\"div\"},\"children\":[]}]}]},{\"props\":{\"className\":\"field interact-widget\"},\"nodeType\":\"DOM\",\"type\":\"node\",\"instanceArgs\":{\"namespace\":\"html\",\"tag\":\"div\"},\"children\":[{\"props\":{},\"nodeType\":\"Scope\",\"type\":\"node\",\"instanceArgs\":{\"imports\":{\"data\":[{\"name\":\"knockout\",\"type\":\"js\",\"url\":\"\\/assetserver\\/727383f2a47bd31570b7da84eee7b022dd6d7c78-knockout.js\"},{\"name\":\"knockout_punches\",\"type\":\"js\",\"url\":\"\\/assetserver\\/382b41b3b1bd9f26f75861d360bad7f8beea211f-knockout_punches.js\"},{\"name\":null,\"type\":\"js\",\"url\":\"\\/assetserver\\/5ab20f1060420992a9b82a65b735dee4d81ef413-all.js\"},{\"name\":null,\"type\":\"css\",\"url\":\"\\/assetserver\\/1cc0ed62837210b80a182cc3676512f895dab686-style.css\"},{\"name\":null,\"type\":\"css\",\"url\":\"\\/assetserver\\/2eee816f616df3549d7044d45e744fbf8d42bfa1-bulma_confined.min.css\"}],\"type\":\"async_block\"},\"id\":\"4754068583201390714\",\"handlers\":{\"loading\":[\"(function (val){return (val!=this.model[\\\"loading\\\"]()) ? (this.valueFromJulia[\\\"loading\\\"]=true, this.model[\\\"loading\\\"](val)) : undefined})\"],\"clicks\":[\"(function (val){return (val!=this.model[\\\"clicks\\\"]()) ? (this.valueFromJulia[\\\"clicks\\\"]=true, this.model[\\\"clicks\\\"](val)) : undefined})\"]},\"systemjs_options\":null,\"mount_callbacks\":[\"function () {\\n    var handler = (function (ko, koPunches) {\\n    ko.punches.enableAll();\\n    ko.bindingHandlers.numericValue = {\\n        init: function(element, valueAccessor, allBindings, data, context) {\\n            var stringified = ko.observable(ko.unwrap(valueAccessor()));\\n            stringified.subscribe(function(value) {\\n                var val = parseFloat(value);\\n                if (!isNaN(val)) {\\n                    valueAccessor()(val);\\n                }\\n            });\\n            valueAccessor().subscribe(function(value) {\\n                var str = JSON.stringify(value);\\n                if ((str == \\\"0\\\") && ([\\\"-0\\\", \\\"-0.\\\"].indexOf(stringified()) >= 0))\\n                     return;\\n                 if ([\\\"null\\\", \\\"\\\"].indexOf(str) >= 0)\\n                     return;\\n                stringified(str);\\n            });\\n            ko.applyBindingsToNode(\\n                element,\\n                {\\n                    value: stringified,\\n                    valueUpdate: allBindings.get('valueUpdate'),\\n                },\\n                context,\\n            );\\n        }\\n    };\\n    var json_data = {\\\"loading\\\":WebIO.getval({\\\"name\\\":\\\"loading\\\",\\\"scope\\\":\\\"4754068583201390714\\\",\\\"id\\\":\\\"3822555932011583206\\\",\\\"type\\\":\\\"observable\\\"}),\\\"clicks\\\":WebIO.getval({\\\"name\\\":\\\"clicks\\\",\\\"scope\\\":\\\"4754068583201390714\\\",\\\"id\\\":\\\"6493079553838803053\\\",\\\"type\\\":\\\"observable\\\"})};\\n    var self = this;\\n    function AppViewModel() {\\n        for (var key in json_data) {\\n            var el = json_data[key];\\n            this[key] = Array.isArray(el) ? ko.observableArray(el) : ko.observable(el);\\n        }\\n        \\n        \\n        [this[\\\"loading\\\"].subscribe((function (val){!(this.valueFromJulia[\\\"loading\\\"]) ? (WebIO.setval({\\\"name\\\":\\\"loading\\\",\\\"scope\\\":\\\"4754068583201390714\\\",\\\"id\\\":\\\"3822555932011583206\\\",\\\"type\\\":\\\"observable\\\"},val)) : undefined; return this.valueFromJulia[\\\"loading\\\"]=false}),self),this[\\\"clicks\\\"].subscribe((function (val){!(this.valueFromJulia[\\\"clicks\\\"]) ? (WebIO.setval({\\\"name\\\":\\\"clicks\\\",\\\"scope\\\":\\\"4754068583201390714\\\",\\\"id\\\":\\\"6493079553838803053\\\",\\\"type\\\":\\\"observable\\\"},val)) : undefined; return this.valueFromJulia[\\\"clicks\\\"]=false}),self)]\\n        \\n    }\\n    self.model = new AppViewModel();\\n    self.valueFromJulia = {};\\n    for (var key in json_data) {\\n        self.valueFromJulia[key] = false;\\n    }\\n    ko.applyBindings(self.model, self.dom);\\n}\\n);\\n    (WebIO.importBlock({\\\"data\\\":[{\\\"name\\\":\\\"knockout\\\",\\\"type\\\":\\\"js\\\",\\\"url\\\":\\\"\\/assetserver\\/727383f2a47bd31570b7da84eee7b022dd6d7c78-knockout.js\\\"},{\\\"name\\\":\\\"knockout_punches\\\",\\\"type\\\":\\\"js\\\",\\\"url\\\":\\\"\\/assetserver\\/382b41b3b1bd9f26f75861d360bad7f8beea211f-knockout_punches.js\\\"}],\\\"type\\\":\\\"async_block\\\"})).then((imports) => handler.apply(this, imports));\\n}\\n\"],\"observables\":{\"loading\":{\"sync\":false,\"id\":\"3822555932011583206\",\"value\":false},\"clicks\":{\"sync\":true,\"id\":\"6493079553838803053\",\"value\":0}}},\"children\":[{\"props\":{\"attributes\":{\"data-bind\":\"click: function (){this.clicks(this.clicks()+1)}, css: {'is-loading' : loading}\"},\"className\":\"is-medium button is-primary\",\"style\":{}},\"nodeType\":\"DOM\",\"type\":\"node\",\"instanceArgs\":{\"namespace\":\"html\",\"tag\":\"button\"},\"children\":[\"stop\"]}]}]},{\"props\":{\"className\":\"interact-widget\"},\"nodeType\":\"DOM\",\"type\":\"node\",\"instanceArgs\":{\"namespace\":\"html\",\"tag\":\"div\"},\"children\":[{\"props\":{},\"nodeType\":\"Scope\",\"type\":\"node\",\"instanceArgs\":{\"imports\":{\"data\":[{\"name\":null,\"type\":\"js\",\"url\":\"\\/assetserver\\/dd22ed1bf1896c2748f3fe616ce0b838adc895c1-katex.min.js\"},{\"name\":null,\"type\":\"css\",\"url\":\"\\/assetserver\\/46517a424aa5e6cffc1360d7e0848b601c584ee3-katex.min.css\"}],\"type\":\"async_block\"},\"id\":\"17211899116907497092\",\"handlers\":{\"value\":[\"(function (txt){return this.k.render(txt,this.container)})\"]},\"systemjs_options\":null,\"mount_callbacks\":[\"function () {\\n    var handler = ((function (k){this.k=k; this.container=this.dom.querySelector(\\\"#container\\\"); return k.render(\\\"\\\\\\\\;\\\\\\\\;\\\",this.container)}));\\n    (WebIO.importBlock({\\\"data\\\":[{\\\"name\\\":null,\\\"type\\\":\\\"js\\\",\\\"url\\\":\\\"\\/assetserver\\/dd22ed1bf1896c2748f3fe616ce0b838adc895c1-katex.min.js\\\"},{\\\"name\\\":null,\\\"type\\\":\\\"css\\\",\\\"url\\\":\\\"\\/assetserver\\/46517a424aa5e6cffc1360d7e0848b601c584ee3-katex.min.css\\\"}],\\\"type\\\":\\\"async_block\\\"})).then((imports) => handler.apply(this, imports));\\n}\\n\"],\"observables\":{\"value\":{\"sync\":false,\"id\":\"13255816648685062562\",\"value\":\"\\\\;\\\\;\"}}},\"children\":[{\"props\":{\"id\":\"container\"},\"nodeType\":\"DOM\",\"type\":\"node\",\"instanceArgs\":{\"namespace\":\"html\",\"tag\":\"div\"},\"children\":[]}]}]},{\"props\":{\"className\":\"field interact-widget\"},\"nodeType\":\"DOM\",\"type\":\"node\",\"instanceArgs\":{\"namespace\":\"html\",\"tag\":\"div\"},\"children\":[{\"props\":{},\"nodeType\":\"Scope\",\"type\":\"node\",\"instanceArgs\":{\"imports\":{\"data\":[{\"name\":\"knockout\",\"type\":\"js\",\"url\":\"\\/assetserver\\/727383f2a47bd31570b7da84eee7b022dd6d7c78-knockout.js\"},{\"name\":\"knockout_punches\",\"type\":\"js\",\"url\":\"\\/assetserver\\/382b41b3b1bd9f26f75861d360bad7f8beea211f-knockout_punches.js\"},{\"name\":null,\"type\":\"js\",\"url\":\"\\/assetserver\\/5ab20f1060420992a9b82a65b735dee4d81ef413-all.js\"},{\"name\":null,\"type\":\"css\",\"url\":\"\\/assetserver\\/1cc0ed62837210b80a182cc3676512f895dab686-style.css\"},{\"name\":null,\"type\":\"css\",\"url\":\"\\/assetserver\\/2eee816f616df3549d7044d45e744fbf8d42bfa1-bulma_confined.min.css\"}],\"type\":\"async_block\"},\"id\":\"11760226480460668218\",\"handlers\":{\"loading\":[\"(function (val){return (val!=this.model[\\\"loading\\\"]()) ? (this.valueFromJulia[\\\"loading\\\"]=true, this.model[\\\"loading\\\"](val)) : undefined})\"],\"clicks\":[\"(function (val){return (val!=this.model[\\\"clicks\\\"]()) ? (this.valueFromJulia[\\\"clicks\\\"]=true, this.model[\\\"clicks\\\"](val)) : undefined})\"]},\"systemjs_options\":null,\"mount_callbacks\":[\"function () {\\n    var handler = (function (ko, koPunches) {\\n    ko.punches.enableAll();\\n    ko.bindingHandlers.numericValue = {\\n        init: function(element, valueAccessor, allBindings, data, context) {\\n            var stringified = ko.observable(ko.unwrap(valueAccessor()));\\n            stringified.subscribe(function(value) {\\n                var val = parseFloat(value);\\n                if (!isNaN(val)) {\\n                    valueAccessor()(val);\\n                }\\n            });\\n            valueAccessor().subscribe(function(value) {\\n                var str = JSON.stringify(value);\\n                if ((str == \\\"0\\\") && ([\\\"-0\\\", \\\"-0.\\\"].indexOf(stringified()) >= 0))\\n                     return;\\n                 if ([\\\"null\\\", \\\"\\\"].indexOf(str) >= 0)\\n                     return;\\n                stringified(str);\\n            });\\n            ko.applyBindingsToNode(\\n                element,\\n                {\\n                    value: stringified,\\n                    valueUpdate: allBindings.get('valueUpdate'),\\n                },\\n                context,\\n            );\\n        }\\n    };\\n    var json_data = {\\\"loading\\\":WebIO.getval({\\\"name\\\":\\\"loading\\\",\\\"scope\\\":\\\"11760226480460668218\\\",\\\"id\\\":\\\"13558406670909723964\\\",\\\"type\\\":\\\"observable\\\"}),\\\"clicks\\\":WebIO.getval({\\\"name\\\":\\\"clicks\\\",\\\"scope\\\":\\\"11760226480460668218\\\",\\\"id\\\":\\\"17889190989578752032\\\",\\\"type\\\":\\\"observable\\\"})};\\n    var self = this;\\n    function AppViewModel() {\\n        for (var key in json_data) {\\n            var el = json_data[key];\\n            this[key] = Array.isArray(el) ? ko.observableArray(el) : ko.observable(el);\\n        }\\n        \\n        \\n        [this[\\\"loading\\\"].subscribe((function (val){!(this.valueFromJulia[\\\"loading\\\"]) ? (WebIO.setval({\\\"name\\\":\\\"loading\\\",\\\"scope\\\":\\\"11760226480460668218\\\",\\\"id\\\":\\\"13558406670909723964\\\",\\\"type\\\":\\\"observable\\\"},val)) : undefined; return this.valueFromJulia[\\\"loading\\\"]=false}),self),this[\\\"clicks\\\"].subscribe((function (val){!(this.valueFromJulia[\\\"clicks\\\"]) ? (WebIO.setval({\\\"name\\\":\\\"clicks\\\",\\\"scope\\\":\\\"11760226480460668218\\\",\\\"id\\\":\\\"17889190989578752032\\\",\\\"type\\\":\\\"observable\\\"},val)) : undefined; return this.valueFromJulia[\\\"clicks\\\"]=false}),self)]\\n        \\n    }\\n    self.model = new AppViewModel();\\n    self.valueFromJulia = {};\\n    for (var key in json_data) {\\n        self.valueFromJulia[key] = false;\\n    }\\n    ko.applyBindings(self.model, self.dom);\\n}\\n);\\n    (WebIO.importBlock({\\\"data\\\":[{\\\"name\\\":\\\"knockout\\\",\\\"type\\\":\\\"js\\\",\\\"url\\\":\\\"\\/assetserver\\/727383f2a47bd31570b7da84eee7b022dd6d7c78-knockout.js\\\"},{\\\"name\\\":\\\"knockout_punches\\\",\\\"type\\\":\\\"js\\\",\\\"url\\\":\\\"\\/assetserver\\/382b41b3b1bd9f26f75861d360bad7f8beea211f-knockout_punches.js\\\"}],\\\"type\\\":\\\"async_block\\\"})).then((imports) => handler.apply(this, imports));\\n}\\n\"],\"observables\":{\"loading\":{\"sync\":false,\"id\":\"13558406670909723964\",\"value\":false},\"clicks\":{\"sync\":true,\"id\":\"17889190989578752032\",\"value\":0}}},\"children\":[{\"props\":{\"attributes\":{\"data-bind\":\"click: function (){this.clicks(this.clicks()+1)}, css: {'is-loading' : loading}\"},\"className\":\"is-medium button is-primary\",\"style\":{}},\"nodeType\":\"DOM\",\"type\":\"node\",\"instanceArgs\":{\"namespace\":\"html\",\"tag\":\"button\"},\"children\":[\"reset\"]}]}]},{\"props\":{\"className\":\"interact-widget\"},\"nodeType\":\"DOM\",\"type\":\"node\",\"instanceArgs\":{\"namespace\":\"html\",\"tag\":\"div\"},\"children\":[{\"props\":{},\"nodeType\":\"Scope\",\"type\":\"node\",\"instanceArgs\":{\"imports\":{\"data\":[{\"name\":null,\"type\":\"js\",\"url\":\"\\/assetserver\\/dd22ed1bf1896c2748f3fe616ce0b838adc895c1-katex.min.js\"},{\"name\":null,\"type\":\"css\",\"url\":\"\\/assetserver\\/46517a424aa5e6cffc1360d7e0848b601c584ee3-katex.min.css\"}],\"type\":\"async_block\"},\"id\":\"17211899116907497092\",\"handlers\":{\"value\":[\"(function (txt){return this.k.render(txt,this.container)})\"]},\"systemjs_options\":null,\"mount_callbacks\":[\"function () {\\n    var handler = ((function (k){this.k=k; this.container=this.dom.querySelector(\\\"#container\\\"); return k.render(\\\"\\\\\\\\;\\\\\\\\;\\\",this.container)}));\\n    (WebIO.importBlock({\\\"data\\\":[{\\\"name\\\":null,\\\"type\\\":\\\"js\\\",\\\"url\\\":\\\"\\/assetserver\\/dd22ed1bf1896c2748f3fe616ce0b838adc895c1-katex.min.js\\\"},{\\\"name\\\":null,\\\"type\\\":\\\"css\\\",\\\"url\\\":\\\"\\/assetserver\\/46517a424aa5e6cffc1360d7e0848b601c584ee3-katex.min.css\\\"}],\\\"type\\\":\\\"async_block\\\"})).then((imports) => handler.apply(this, imports));\\n}\\n\"],\"observables\":{\"value\":{\"sync\":false,\"id\":\"13255816648685062562\",\"value\":\"\\\\;\\\\;\"}}},\"children\":[{\"props\":{\"id\":\"container\"},\"nodeType\":\"DOM\",\"type\":\"node\",\"instanceArgs\":{\"namespace\":\"html\",\"tag\":\"div\"},\"children\":[]}]}]},{\"props\":{\"className\":\"field interact-widget\"},\"nodeType\":\"DOM\",\"type\":\"node\",\"instanceArgs\":{\"namespace\":\"html\",\"tag\":\"div\"},\"children\":[{\"props\":{},\"nodeType\":\"Scope\",\"type\":\"node\",\"instanceArgs\":{\"imports\":{\"data\":[{\"name\":\"knockout\",\"type\":\"js\",\"url\":\"\\/assetserver\\/727383f2a47bd31570b7da84eee7b022dd6d7c78-knockout.js\"},{\"name\":\"knockout_punches\",\"type\":\"js\",\"url\":\"\\/assetserver\\/382b41b3b1bd9f26f75861d360bad7f8beea211f-knockout_punches.js\"},{\"name\":null,\"type\":\"js\",\"url\":\"\\/assetserver\\/5ab20f1060420992a9b82a65b735dee4d81ef413-all.js\"},{\"name\":null,\"type\":\"css\",\"url\":\"\\/assetserver\\/1cc0ed62837210b80a182cc3676512f895dab686-style.css\"},{\"name\":null,\"type\":\"css\",\"url\":\"\\/assetserver\\/2eee816f616df3549d7044d45e744fbf8d42bfa1-bulma_confined.min.css\"}],\"type\":\"async_block\"},\"id\":\"12652724698627698515\",\"handlers\":{\"loading\":[\"(function (val){return (val!=this.model[\\\"loading\\\"]()) ? (this.valueFromJulia[\\\"loading\\\"]=true, this.model[\\\"loading\\\"](val)) : undefined})\"],\"clicks\":[\"(function (val){return (val!=this.model[\\\"clicks\\\"]()) ? (this.valueFromJulia[\\\"clicks\\\"]=true, this.model[\\\"clicks\\\"](val)) : undefined})\"]},\"systemjs_options\":null,\"mount_callbacks\":[\"function () {\\n    var handler = (function (ko, koPunches) {\\n    ko.punches.enableAll();\\n    ko.bindingHandlers.numericValue = {\\n        init: function(element, valueAccessor, allBindings, data, context) {\\n            var stringified = ko.observable(ko.unwrap(valueAccessor()));\\n            stringified.subscribe(function(value) {\\n                var val = parseFloat(value);\\n                if (!isNaN(val)) {\\n                    valueAccessor()(val);\\n                }\\n            });\\n            valueAccessor().subscribe(function(value) {\\n                var str = JSON.stringify(value);\\n                if ((str == \\\"0\\\") && ([\\\"-0\\\", \\\"-0.\\\"].indexOf(stringified()) >= 0))\\n                     return;\\n                 if ([\\\"null\\\", \\\"\\\"].indexOf(str) >= 0)\\n                     return;\\n                stringified(str);\\n            });\\n            ko.applyBindingsToNode(\\n                element,\\n                {\\n                    value: stringified,\\n                    valueUpdate: allBindings.get('valueUpdate'),\\n                },\\n                context,\\n            );\\n        }\\n    };\\n    var json_data = {\\\"loading\\\":WebIO.getval({\\\"name\\\":\\\"loading\\\",\\\"scope\\\":\\\"12652724698627698515\\\",\\\"id\\\":\\\"2515273884141727421\\\",\\\"type\\\":\\\"observable\\\"}),\\\"clicks\\\":WebIO.getval({\\\"name\\\":\\\"clicks\\\",\\\"scope\\\":\\\"12652724698627698515\\\",\\\"id\\\":\\\"6763157289489929499\\\",\\\"type\\\":\\\"observable\\\"})};\\n    var self = this;\\n    function AppViewModel() {\\n        for (var key in json_data) {\\n            var el = json_data[key];\\n            this[key] = Array.isArray(el) ? ko.observableArray(el) : ko.observable(el);\\n        }\\n        \\n        \\n        [this[\\\"loading\\\"].subscribe((function (val){!(this.valueFromJulia[\\\"loading\\\"]) ? (WebIO.setval({\\\"name\\\":\\\"loading\\\",\\\"scope\\\":\\\"12652724698627698515\\\",\\\"id\\\":\\\"2515273884141727421\\\",\\\"type\\\":\\\"observable\\\"},val)) : undefined; return this.valueFromJulia[\\\"loading\\\"]=false}),self),this[\\\"clicks\\\"].subscribe((function (val){!(this.valueFromJulia[\\\"clicks\\\"]) ? (WebIO.setval({\\\"name\\\":\\\"clicks\\\",\\\"scope\\\":\\\"12652724698627698515\\\",\\\"id\\\":\\\"6763157289489929499\\\",\\\"type\\\":\\\"observable\\\"},val)) : undefined; return this.valueFromJulia[\\\"clicks\\\"]=false}),self)]\\n        \\n    }\\n    self.model = new AppViewModel();\\n    self.valueFromJulia = {};\\n    for (var key in json_data) {\\n        self.valueFromJulia[key] = false;\\n    }\\n    ko.applyBindings(self.model, self.dom);\\n}\\n);\\n    (WebIO.importBlock({\\\"data\\\":[{\\\"name\\\":\\\"knockout\\\",\\\"type\\\":\\\"js\\\",\\\"url\\\":\\\"\\/assetserver\\/727383f2a47bd31570b7da84eee7b022dd6d7c78-knockout.js\\\"},{\\\"name\\\":\\\"knockout_punches\\\",\\\"type\\\":\\\"js\\\",\\\"url\\\":\\\"\\/assetserver\\/382b41b3b1bd9f26f75861d360bad7f8beea211f-knockout_punches.js\\\"}],\\\"type\\\":\\\"async_block\\\"})).then((imports) => handler.apply(this, imports));\\n}\\n\"],\"observables\":{\"loading\":{\"sync\":false,\"id\":\"2515273884141727421\",\"value\":false},\"clicks\":{\"sync\":true,\"id\":\"6763157289489929499\",\"value\":0}}},\"children\":[{\"props\":{\"attributes\":{\"data-bind\":\"click: function (){this.clicks(this.clicks()+1)}, css: {'is-loading' : loading}\"},\"className\":\"is-medium button is-primary\",\"style\":{}},\"nodeType\":\"DOM\",\"type\":\"node\",\"instanceArgs\":{\"namespace\":\"html\",\"tag\":\"button\"},\"children\":[\"save\"]}]}]}]}]},{\"props\":{\"className\":\"interact-widget\"},\"nodeType\":\"DOM\",\"type\":\"node\",\"instanceArgs\":{\"namespace\":\"html\",\"tag\":\"div\"},\"children\":[{\"props\":{},\"nodeType\":\"Scope\",\"type\":\"node\",\"instanceArgs\":{\"imports\":{\"data\":[{\"name\":null,\"type\":\"js\",\"url\":\"\\/assetserver\\/dd22ed1bf1896c2748f3fe616ce0b838adc895c1-katex.min.js\"},{\"name\":null,\"type\":\"css\",\"url\":\"\\/assetserver\\/46517a424aa5e6cffc1360d7e0848b601c584ee3-katex.min.css\"}],\"type\":\"async_block\"},\"id\":\"17211899116907497092\",\"handlers\":{\"value\":[\"(function (txt){return this.k.render(txt,this.container)})\"]},\"systemjs_options\":null,\"mount_callbacks\":[\"function () {\\n    var handler = ((function (k){this.k=k; this.container=this.dom.querySelector(\\\"#container\\\"); return k.render(\\\"\\\\\\\\;\\\\\\\\;\\\",this.container)}));\\n    (WebIO.importBlock({\\\"data\\\":[{\\\"name\\\":null,\\\"type\\\":\\\"js\\\",\\\"url\\\":\\\"\\/assetserver\\/dd22ed1bf1896c2748f3fe616ce0b838adc895c1-katex.min.js\\\"},{\\\"name\\\":null,\\\"type\\\":\\\"css\\\",\\\"url\\\":\\\"\\/assetserver\\/46517a424aa5e6cffc1360d7e0848b601c584ee3-katex.min.css\\\"}],\\\"type\\\":\\\"async_block\\\"})).then((imports) => handler.apply(this, imports));\\n}\\n\"],\"observables\":{\"value\":{\"sync\":false,\"id\":\"13255816648685062562\",\"value\":\"\\\\;\\\\;\"}}},\"children\":[{\"props\":{\"id\":\"container\"},\"nodeType\":\"DOM\",\"type\":\"node\",\"instanceArgs\":{\"namespace\":\"html\",\"tag\":\"div\"},\"children\":[]}]}]},{\"props\":{},\"nodeType\":\"Scope\",\"type\":\"node\",\"instanceArgs\":{\"imports\":{\"data\":[],\"type\":\"async_block\"},\"id\":\"5617878418729636661\",\"handlers\":{\"obs-output\":[\"function (value, scope) {\\n    scope.setInnerHTML(value);\\n}\\n\"]},\"systemjs_options\":null,\"mount_callbacks\":[],\"observables\":{\"obs-output\":{\"sync\":false,\"id\":\"13796970435709916561\",\"value\":\"<img src='data:image\\/png;base64,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'><\\/img>\"}}},\"children\":[{\"props\":{\"className\":\"webio-observable\",\"setInnerHtml\":\"<img src='data:image\\/png;base64,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'><\\/img>\"},\"nodeType\":\"DOM\",\"type\":\"node\",\"instanceArgs\":{\"namespace\":\"html\",\"tag\":\"div\"},\"children\":[]}]},{\"props\":{\"className\":\"interact-widget\"},\"nodeType\":\"DOM\",\"type\":\"node\",\"instanceArgs\":{\"namespace\":\"html\",\"tag\":\"div\"},\"children\":[{\"props\":{},\"nodeType\":\"Scope\",\"type\":\"node\",\"instanceArgs\":{\"imports\":{\"data\":[{\"name\":null,\"type\":\"js\",\"url\":\"\\/assetserver\\/dd22ed1bf1896c2748f3fe616ce0b838adc895c1-katex.min.js\"},{\"name\":null,\"type\":\"css\",\"url\":\"\\/assetserver\\/46517a424aa5e6cffc1360d7e0848b601c584ee3-katex.min.css\"}],\"type\":\"async_block\"},\"id\":\"17211899116907497092\",\"handlers\":{\"value\":[\"(function (txt){return this.k.render(txt,this.container)})\"]},\"systemjs_options\":null,\"mount_callbacks\":[\"function () {\\n    var handler = ((function (k){this.k=k; this.container=this.dom.querySelector(\\\"#container\\\"); return k.render(\\\"\\\\\\\\;\\\\\\\\;\\\",this.container)}));\\n    (WebIO.importBlock({\\\"data\\\":[{\\\"name\\\":null,\\\"type\\\":\\\"js\\\",\\\"url\\\":\\\"\\/assetserver\\/dd22ed1bf1896c2748f3fe616ce0b838adc895c1-katex.min.js\\\"},{\\\"name\\\":null,\\\"type\\\":\\\"css\\\",\\\"url\\\":\\\"\\/assetserver\\/46517a424aa5e6cffc1360d7e0848b601c584ee3-katex.min.css\\\"}],\\\"type\\\":\\\"async_block\\\"})).then((imports) => handler.apply(this, imports));\\n}\\n\"],\"observables\":{\"value\":{\"sync\":false,\"id\":\"13255816648685062562\",\"value\":\"\\\\;\\\\;\"}}},\"children\":[{\"props\":{\"id\":\"container\"},\"nodeType\":\"DOM\",\"type\":\"node\",\"instanceArgs\":{\"namespace\":\"html\",\"tag\":\"div\"},\"children\":[]}]}]},{\"props\":{\"style\":{\"display\":\"flex\",\"flex-direction\":\"column\"}},\"nodeType\":\"DOM\",\"type\":\"node\",\"instanceArgs\":{\"namespace\":\"html\",\"tag\":\"div\"},\"children\":[{\"props\":{},\"nodeType\":\"Scope\",\"type\":\"node\",\"instanceArgs\":{\"imports\":{\"data\":[],\"type\":\"async_block\"},\"id\":\"6425264622642680382\",\"handlers\":{\"obs-output\":[\"function (value, scope) {\\n    scope.setInnerHTML(value);\\n}\\n\"]},\"systemjs_options\":null,\"mount_callbacks\":[],\"observables\":{\"obs-output\":{\"sync\":false,\"id\":\"16709806045836405283\",\"value\":\"<img src=\\\"data:image\\/png;base64,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\\\" \\/>\"}}},\"children\":[{\"props\":{\"className\":\"webio-observable\",\"setInnerHtml\":\"<img src=\\\"data:image\\/png;base64,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\\\" \\/>\"},\"nodeType\":\"DOM\",\"type\":\"node\",\"instanceArgs\":{\"namespace\":\"html\",\"tag\":\"div\"},\"children\":[]}]}]}]}]},\n",
       "        window,\n",
       "    );\n",
       "    })()\n",
       "    </script>\n",
       "</div>\n"
      ],
      "text/plain": [
       "WebIO.Node{WebIO.DOM}(WebIO.DOM(:html, :div), Any[WebIO.Node{WebIO.DOM}(WebIO.DOM(:html, :div), Any[WebIO.Node{WebIO.DOM}(WebIO.DOM(:html, :div), Any[WebIO.Node{WebIO.DOM}(WebIO.DOM(:html, :div), Any[WebIO.Scope(WebIO.Node{WebIO.DOM}(WebIO.DOM(:html, :div), Any[WebIO.Node{WebIO.DOM}(WebIO.DOM(:html, :div), Any[WebIO.Node{WebIO.DOM}(WebIO.DOM(:html, :label), Any[\"time\"], Dict{Symbol, Any}(:className => \"interact \", :style => Dict{Any, Any}(:padding => \"5px 10px 0px 10px\")))], Dict{Symbol, Any}(:className => \"interact-flex-row-left\")), WebIO.Node{WebIO.DOM}(WebIO.DOM(:html, :div), Any[WebIO.Node{WebIO.DOM}(WebIO.DOM(:html, :input), Any[], Dict{Symbol, Any}(:max => 200, :min => 1, :attributes => Dict{Any, Any}(:type => \"range\", Symbol(\"data-bind\") => \"numericValue: index, valueUpdate: 'input', event: {change: function (){this.changes(this.changes()+1)}}\", \"orient\" => \"horizontal\"), :step => 1, :className => \"slider slider is-fullwidth\", :style => Dict{Any, Any}()))], Dict{Symbol, Any}(:className => \"interact-flex-row-center\")), WebIO.Node{WebIO.DOM}(WebIO.DOM(:html, :div), Any[WebIO.Node{WebIO.DOM}(WebIO.DOM(:html, :p), Any[], Dict{Symbol, Any}(:attributes => Dict(\"data-bind\" => \"text: formatted_val\")))], Dict{Symbol, Any}(:className => \"interact-flex-row-right\"))], Dict{Symbol, Any}(:className => \"interact-flex-row interact-widget\")), Dict{String, Tuple{Observables.AbstractObservable, Union{Nothing, Bool}}}(\"changes\" => (Observable(0), nothing), \"index\" => (Observable(1), nothing)), Set{String}(), nothing, WebIO.Asset[WebIO.Asset(\"js\", \"knockout\", \"/home/dushya/.julia/packages/Knockout/HReiN/src/../assets/knockout.js\"), WebIO.Asset(\"js\", \"knockout_punches\", \"/home/dushya/.julia/packages/Knockout/HReiN/src/../assets/knockout_punches.js\"), WebIO.Asset(\"js\", nothing, \"/home/dushya/.julia/packages/InteractBase/LJXv3/src/../assets/all.js\"), WebIO.Asset(\"css\", nothing, \"/home/dushya/.julia/packages/InteractBase/LJXv3/src/../assets/style.css\"), WebIO.Asset(\"css\", nothing, \"/home/dushya/.julia/packages/Interact/PENUy/src/../assets/bulma_confined.min.css\")], Dict{Any, Any}(\"changes\" => Any[WebIO.JSString(\"(function (val){return (val!=this.model[\\\"changes\\\"]()) ? (this.valueFromJulia[\\\"changes\\\"]=true, this.model[\\\"changes\\\"](val)) : undefined})\")], \"index\" => Any[WebIO.JSString(\"(function (val){return (val!=this.model[\\\"index\\\"]()) ? (this.valueFromJulia[\\\"index\\\"]=true, this.model[\\\"index\\\"](val)) : undefined})\")]), WebIO.ConnectionPool(Channel{Any}(32), Set{WebIO.AbstractConnection}(), Base.GenericCondition{ReentrantLock}(Base.IntrusiveLinkedList{Task}(Task (runnable) @0x00007f8e2cf32720, Task (runnable) @0x00007f8e2cf32720), ReentrantLock(nothing, 0x00000000, 0x00, Base.GenericCondition{Base.Threads.SpinLock}(Base.IntrusiveLinkedList{Task}(nothing, nothing), Base.Threads.SpinLock(0)), (2, 140248492540640, 140248519596320)))), WebIO.JSString[WebIO.JSString(\"function () {\\n    var handler = (function (ko, koPunches) {\\n    ko.punches.enableAll();\\n    ko.bindingHandlers.numericValue = {\\n        init: function(element, valueAccessor, allBindings, data, context) {\\n            var stringified = ko.observable(ko.unwrap(valueAccessor()));\\n            stringified.subscribe(function(value) {\\n                var val = parseFloat(value);\\n                if (!isNaN(val)) {\\n                    valueAccessor()(val);\\n                }\\n            });\\n            valueAccessor().subscribe(function(value) {\\n                var str = JSON.stringify(value);\\n                if ((str == \\\"0\\\") && ([\\\"-0\\\", \\\"-0.\\\"].indexOf(stringified()) >= 0))\\n                     return;\\n                 if ([\\\"null\\\", \\\"\\\"].indexOf(str) >= 0)\\n                     return;\\n                stringified(str);\\n            });\\n            ko.applyBindingsToNode(\\n                element,\\n                {\\n                    value: stringified,\\n                    valueUpdate: allBindings.get('valueUpdate'),\\n                },\\n                context,\\n            );\\n        }\\n    };\\n    var json_data = {\\\"formatted_vals\\\":[\\\"1\\\",\\\"2\\\",\\\"3\\\",\\\"4\\\",\\\"5\\\",\\\"6\\\",\\\"7\\\",\\\"8\\\",\\\"9\\\",\\\"10\\\",\\\"11\\\",\\\"12\\\",\\\"13\\\",\\\"14\\\",\\\"15\\\",\\\"16\\\",\\\"17\\\",\\\"18\\\",\\\"19\\\",\\\"20\\\",\\\"21\\\",\\\"22\\\",\\\"23\\\",\\\"24\\\",\\\"25\\\",\\\"26\\\",\\\"27\\\",\\\"28\\\",\\\"29\\\",\\\"30\\\",\\\"31\\\",\\\"32\\\",\\\"33\\\",\\\"34\\\",\\\"35\\\",\\\"36\\\",\\\"37\\\",\\\"38\\\",\\\"39\\\",\\\"40\\\",\\\"41\\\",\\\"42\\\",\\\"43\\\",\\\"44\\\",\\\"45\\\",\\\"46\\\",\\\"47\\\",\\\"48\\\",\\\"49\\\",\\\"50\\\",\\\"51\\\",\\\"52\\\",\\\"53\\\",\\\"54\\\",\\\"55\\\",\\\"56\\\",\\\"57\\\",\\\"58\\\",\\\"59\\\",\\\"60\\\",\\\"61\\\",\\\"62\\\",\\\"63\\\",\\\"64\\\",\\\"65\\\",\\\"66\\\",\\\"67\\\",\\\"68\\\",\\\"69\\\",\\\"70\\\",\\\"71\\\",\\\"72\\\",\\\"73\\\",\\\"74\\\",\\\"75\\\",\\\"76\\\",\\\"77\\\",\\\"78\\\",\\\"79\\\",\\\"80\\\",\\\"81\\\",\\\"82\\\",\\\"83\\\",\\\"84\\\",\\\"85\\\",\\\"86\\\",\\\"87\\\",\\\"88\\\",\\\"89\\\",\\\"90\\\",\\\"91\\\",\\\"92\\\",\\\"93\\\",\\\"94\\\",\\\"95\\\",\\\"96\\\",\\\"97\\\",\\\"98\\\",\\\"99\\\",\\\"100\\\",\\\"101\\\",\\\"102\\\",\\\"103\\\",\\\"104\\\",\\\"105\\\",\\\"106\\\",\\\"107\\\",\\\"108\\\",\\\"109\\\",\\\"110\\\",\\\"111\\\",\\\"112\\\",\\\"113\\\",\\\"114\\\",\\\"115\\\",\\\"116\\\",\\\"117\\\",\\\"118\\\",\\\"119\\\",\\\"120\\\",\\\"121\\\",\\\"122\\\",\\\"123\\\",\\\"124\\\",\\\"125\\\",\\\"126\\\",\\\"127\\\",\\\"128\\\",\\\"129\\\",\\\"130\\\",\\\"131\\\",\\\"132\\\",\\\"133\\\",\\\"134\\\",\\\"135\\\",\\\"136\\\",\\\"137\\\",\\\"138\\\",\\\"139\\\",\\\"140\\\",\\\"141\\\",\\\"142\\\",\\\"143\\\",\\\"144\\\",\\\"145\\\",\\\"146\\\",\\\"147\\\",\\\"148\\\",\\\"149\\\",\\\"150\\\",\\\"151\\\",\\\"152\\\",\\\"153\\\",\\\"154\\\",\\\"155\\\",\\\"156\\\",\\\"157\\\",\\\"158\\\",\\\"159\\\",\\\"160\\\",\\\"161\\\",\\\"162\\\",\\\"163\\\",\\\"164\\\",\\\"165\\\",\\\"166\\\",\\\"167\\\",\\\"168\\\",\\\"169\\\",\\\"170\\\",\\\"171\\\",\\\"172\\\",\\\"173\\\",\\\"174\\\",\\\"175\\\",\\\"176\\\",\\\"177\\\",\\\"178\\\",\\\"179\\\",\\\"180\\\",\\\"181\\\",\\\"182\\\",\\\"183\\\",\\\"184\\\",\\\"185\\\",\\\"186\\\",\\\"187\\\",\\\"188\\\",\\\"189\\\",\\\"190\\\",\\\"191\\\",\\\"192\\\",\\\"193\\\",\\\"194\\\",\\\"195\\\",\\\"196\\\",\\\"197\\\",\\\"198\\\",\\\"199\\\",\\\"200\\\"],\\\"changes\\\":WebIO.getval({\\\"name\\\":\\\"changes\\\",\\\"scope\\\":\\\"8099187185893901764\\\",\\\"id\\\":\\\"3285702968357260732\\\",\\\"type\\\":\\\"observable\\\"}),\\\"index\\\":WebIO.getval({\\\"name\\\":\\\"index\\\",\\\"scope\\\":\\\"8099187185893901764\\\",\\\"id\\\":\\\"9977351753393034434\\\",\\\"type\\\":\\\"observable\\\"})};\\n    var self = this;\\n    function AppViewModel() {\\n        for (var key in json_data) {\\n            var el = json_data[key];\\n            this[key] = Array.isArray(el) ? ko.observableArray(el) : ko.observable(el);\\n        }\\n        \\n        [this[\\\"formatted_val\\\"]=ko.computed(    function(){\\n        return this.formatted_vals()[parseInt(this.index())-(1)];\\n    }\\n,this)]\\n        [this[\\\"changes\\\"].subscribe((function (val){!(this.valueFromJulia[\\\"changes\\\"]) ? (WebIO.setval({\\\"name\\\":\\\"changes\\\",\\\"scope\\\":\\\"8099187185893901764\\\",\\\"id\\\":\\\"3285702968357260732\\\",\\\"type\\\":\\\"observable\\\"},val)) : undefined; return this.valueFromJulia[\\\"changes\\\"]=false}),self),this[\\\"index\\\"].subscribe((function (val){!(this.valueFromJulia[\\\"index\\\"]) ? (WebIO.setval({\\\"name\\\":\\\"index\\\",\\\"scope\\\":\\\"8099187185893901764\\\",\\\"id\\\":\\\"9977351753393034434\\\",\\\"type\\\":\\\"observable\\\"},val)) : undefined; return this.valueFromJulia[\\\"index\\\"]=false}),self)]\\n        \\n    }\\n    self.model = new AppViewModel();\\n    self.valueFromJulia = {};\\n    for (var key in json_data) {\\n        self.valueFromJulia[key] = false;\\n    }\\n    ko.applyBindings(self.model, self.dom);\\n}\\n);\\n    (WebIO.importBlock({\\\"data\\\":[{\\\"name\\\":\\\"knockout\\\",\\\"type\\\":\\\"js\\\",\\\"url\\\":\\\"/assetserver/727383f2a47bd31570b7da84eee7b022dd6d7c78-knockout.js\\\"},{\\\"name\\\":\\\"knockout_punches\\\",\\\"type\\\":\\\"js\\\",\\\"url\\\":\\\"/assetserver/382b41b3b1bd9f26f75861d360bad7f8beea211f-knockout_punches.js\\\"}],\\\"type\\\":\\\"async_block\\\"})).then((imports) => handler.apply(this, imports));\\n}\\n\")])], Dict{Symbol, Any}(:className => \"field interact-widget\")), WebIO.Node{WebIO.DOM}(WebIO.DOM(:html, :div), Any[WebIO.Scope(WebIO.Node{WebIO.DOM}(WebIO.DOM(:html, :div), Any[WebIO.Node{WebIO.DOM}(WebIO.DOM(:html, :div), Any[WebIO.Node{WebIO.DOM}(WebIO.DOM(:html, :label), Any[\"scale\"], Dict{Symbol, Any}(:className => \"interact \", :style => Dict{Any, Any}(:padding => \"5px 10px 0px 10px\")))], Dict{Symbol, Any}(:className => \"interact-flex-row-left\")), WebIO.Node{WebIO.DOM}(WebIO.DOM(:html, :div), Any[WebIO.Node{WebIO.DOM}(WebIO.DOM(:html, :input), Any[], Dict{Symbol, Any}(:max => 20, :min => 1, :attributes => Dict{Any, Any}(:type => \"range\", Symbol(\"data-bind\") => \"numericValue: index, valueUpdate: 'input', event: {change: function (){this.changes(this.changes()+1)}}\", \"orient\" => \"horizontal\"), :step => 1, :className => \"slider slider is-fullwidth\", :style => Dict{Any, Any}()))], Dict{Symbol, Any}(:className => \"interact-flex-row-center\")), WebIO.Node{WebIO.DOM}(WebIO.DOM(:html, :div), Any[WebIO.Node{WebIO.DOM}(WebIO.DOM(:html, :p), Any[], Dict{Symbol, Any}(:attributes => Dict(\"data-bind\" => \"text: formatted_val\")))], Dict{Symbol, Any}(:className => \"interact-flex-row-right\"))], Dict{Symbol, Any}(:className => \"interact-flex-row interact-widget\")), Dict{String, Tuple{Observables.AbstractObservable, Union{Nothing, Bool}}}(\"changes\" => (Observable(0), nothing), \"index\" => (Observable{Any}(10), nothing)), Set{String}(), nothing, WebIO.Asset[WebIO.Asset(\"js\", \"knockout\", \"/home/dushya/.julia/packages/Knockout/HReiN/src/../assets/knockout.js\"), WebIO.Asset(\"js\", \"knockout_punches\", \"/home/dushya/.julia/packages/Knockout/HReiN/src/../assets/knockout_punches.js\"), WebIO.Asset(\"js\", nothing, \"/home/dushya/.julia/packages/InteractBase/LJXv3/src/../assets/all.js\"), WebIO.Asset(\"css\", nothing, \"/home/dushya/.julia/packages/InteractBase/LJXv3/src/../assets/style.css\"), WebIO.Asset(\"css\", nothing, \"/home/dushya/.julia/packages/Interact/PENUy/src/../assets/bulma_confined.min.css\")], Dict{Any, Any}(\"changes\" => Any[WebIO.JSString(\"(function (val){return (val!=this.model[\\\"changes\\\"]()) ? (this.valueFromJulia[\\\"changes\\\"]=true, this.model[\\\"changes\\\"](val)) : undefined})\")], \"index\" => Any[WebIO.JSString(\"(function (val){return (val!=this.model[\\\"index\\\"]()) ? (this.valueFromJulia[\\\"index\\\"]=true, this.model[\\\"index\\\"](val)) : undefined})\")]), WebIO.ConnectionPool(Channel{Any}(32), Set{WebIO.AbstractConnection}(), Base.GenericCondition{ReentrantLock}(Base.IntrusiveLinkedList{Task}(Task (runnable) @0x00007f8e2cf85780, Task (runnable) @0x00007f8e2cf85780), ReentrantLock(nothing, 0x00000000, 0x00, Base.GenericCondition{Base.Threads.SpinLock}(Base.IntrusiveLinkedList{Task}(nothing, nothing), Base.Threads.SpinLock(0)), (2, 140248638493456, 140248497932704)))), WebIO.JSString[WebIO.JSString(\"function () {\\n    var handler = (function (ko, koPunches) {\\n    ko.punches.enableAll();\\n    ko.bindingHandlers.numericValue = {\\n        init: function(element, valueAccessor, allBindings, data, context) {\\n            var stringified = ko.observable(ko.unwrap(valueAccessor()));\\n            stringified.subscribe(function(value) {\\n                var val = parseFloat(value);\\n                if (!isNaN(val)) {\\n                    valueAccessor()(val);\\n                }\\n            });\\n            valueAccessor().subscribe(function(value) {\\n                var str = JSON.stringify(value);\\n                if ((str == \\\"0\\\") && ([\\\"-0\\\", \\\"-0.\\\"].indexOf(stringified()) >= 0))\\n                     return;\\n                 if ([\\\"null\\\", \\\"\\\"].indexOf(str) >= 0)\\n                     return;\\n                stringified(str);\\n            });\\n            ko.applyBindingsToNode(\\n                element,\\n                {\\n                    value: stringified,\\n                    valueUpdate: allBindings.get('valueUpdate'),\\n                },\\n                context,\\n            );\\n        }\\n    };\\n    var json_data = {\\\"formatted_vals\\\":[\\\"0.1\\\",\\\"0.2\\\",\\\"0.3\\\",\\\"0.4\\\",\\\"0.5\\\",\\\"0.6\\\",\\\"0.7\\\",\\\"0.8\\\",\\\"0.9\\\",\\\"1.0\\\",\\\"1.1\\\",\\\"1.2\\\",\\\"1.3\\\",\\\"1.4\\\",\\\"1.5\\\",\\\"1.6\\\",\\\"1.7\\\",\\\"1.8\\\",\\\"1.9\\\",\\\"2.0\\\"],\\\"changes\\\":WebIO.getval({\\\"name\\\":\\\"changes\\\",\\\"scope\\\":\\\"11056602036940226306\\\",\\\"id\\\":\\\"754649954774899136\\\",\\\"type\\\":\\\"observable\\\"}),\\\"index\\\":WebIO.getval({\\\"name\\\":\\\"index\\\",\\\"scope\\\":\\\"11056602036940226306\\\",\\\"id\\\":\\\"12303606840577204792\\\",\\\"type\\\":\\\"observable\\\"})};\\n    var self = this;\\n    function AppViewModel() {\\n        for (var key in json_data) {\\n            var el = json_data[key];\\n            this[key] = Array.isArray(el) ? ko.observableArray(el) : ko.observable(el);\\n        }\\n        \\n        [this[\\\"formatted_val\\\"]=ko.computed(    function(){\\n        return this.formatted_vals()[parseInt(this.index())-(1)];\\n    }\\n,this)]\\n        [this[\\\"changes\\\"].subscribe((function (val){!(this.valueFromJulia[\\\"changes\\\"]) ? (WebIO.setval({\\\"name\\\":\\\"changes\\\",\\\"scope\\\":\\\"11056602036940226306\\\",\\\"id\\\":\\\"754649954774899136\\\",\\\"type\\\":\\\"observable\\\"},val)) : undefined; return this.valueFromJulia[\\\"changes\\\"]=false}),self),this[\\\"index\\\"].subscribe((function (val){!(this.valueFromJulia[\\\"index\\\"]) ? (WebIO.setval({\\\"name\\\":\\\"index\\\",\\\"scope\\\":\\\"11056602036940226306\\\",\\\"id\\\":\\\"12303606840577204792\\\",\\\"type\\\":\\\"observable\\\"},val)) : undefined; return this.valueFromJulia[\\\"index\\\"]=false}),self)]\\n        \\n    }\\n    self.model = new AppViewModel();\\n    self.valueFromJulia = {};\\n    for (var key in json_data) {\\n        self.valueFromJulia[key] = false;\\n    }\\n    ko.applyBindings(self.model, self.dom);\\n}\\n);\\n    (WebIO.importBlock({\\\"data\\\":[{\\\"name\\\":\\\"knockout\\\",\\\"type\\\":\\\"js\\\",\\\"url\\\":\\\"/assetserver/727383f2a47bd31570b7da84eee7b022dd6d7c78-knockout.js\\\"},{\\\"name\\\":\\\"knockout_punches\\\",\\\"type\\\":\\\"js\\\",\\\"url\\\":\\\"/assetserver/382b41b3b1bd9f26f75861d360bad7f8beea211f-knockout_punches.js\\\"}],\\\"type\\\":\\\"async_block\\\"})).then((imports) => handler.apply(this, imports));\\n}\\n\")])], Dict{Symbol, Any}(:className => \"field interact-widget\")), WebIO.Node{WebIO.DOM}(WebIO.DOM(:html, :div), Any[], Dict{Symbol, Any}(:style => Dict(\"display\" => \"flex\", \"flex-direction\" => \"column\"))), WebIO.Node{WebIO.DOM}(WebIO.DOM(:html, :div), Any[WebIO.Node{WebIO.DOM}(WebIO.DOM(:html, :div), Any[WebIO.Scope(WebIO.Node{WebIO.DOM}(WebIO.DOM(:html, :div), Any[WebIO.Node{WebIO.DOM}(WebIO.DOM(:html, :div), Any[WebIO.Node{WebIO.DOM}(WebIO.DOM(:html, :label), Any[\"wolf_birth_rate\"], Dict{Symbol, Any}(:className => \"interact \", :style => Dict{Any, Any}(:padding => \"5px 10px 0px 10px\")))], Dict{Symbol, Any}(:className => \"interact-flex-row-left\")), WebIO.Node{WebIO.DOM}(WebIO.DOM(:html, :div), Any[WebIO.Node{WebIO.DOM}(WebIO.DOM(:html, :input), Any[], Dict{Symbol, Any}(:max => 101, :min => 1, :attributes => Dict{Any, Any}(:type => \"range\", Symbol(\"data-bind\") => \"numericValue: index, valueUpdate: 'input', event: {change: function (){this.changes(this.changes()+1)}}\", \"orient\" => \"horizontal\"), :step => 1, :className => \"slider slider is-fullwidth\", :style => Dict{Any, Any}()))], Dict{Symbol, Any}(:className => \"interact-flex-row-center\")), WebIO.Node{WebIO.DOM}(WebIO.DOM(:html, :div), Any[WebIO.Node{WebIO.DOM}(WebIO.DOM(:html, :p), Any[], Dict{Symbol, Any}(:attributes => Dict(\"data-bind\" => \"text: formatted_val\")))], Dict{Symbol, Any}(:className => \"interact-flex-row-right\"))], Dict{Symbol, Any}(:className => \"interact-flex-row interact-widget\")), Dict{String, Tuple{Observables.AbstractObservable, Union{Nothing, Bool}}}(\"changes\" => (Observable(0), nothing), \"index\" => (Observable{Any}(51), nothing)), Set{String}(), nothing, WebIO.Asset[WebIO.Asset(\"js\", \"knockout\", \"/home/dushya/.julia/packages/Knockout/HReiN/src/../assets/knockout.js\"), WebIO.Asset(\"js\", \"knockout_punches\", \"/home/dushya/.julia/packages/Knockout/HReiN/src/../assets/knockout_punches.js\"), WebIO.Asset(\"js\", nothing, \"/home/dushya/.julia/packages/InteractBase/LJXv3/src/../assets/all.js\"), WebIO.Asset(\"css\", nothing, \"/home/dushya/.julia/packages/InteractBase/LJXv3/src/../assets/style.css\"), WebIO.Asset(\"css\", nothing, \"/home/dushya/.julia/packages/Interact/PENUy/src/../assets/bulma_confined.min.css\")], Dict{Any, Any}(\"changes\" => Any[WebIO.JSString(\"(function (val){return (val!=this.model[\\\"changes\\\"]()) ? (this.valueFromJulia[\\\"changes\\\"]=true, this.model[\\\"changes\\\"](val)) : undefined})\")], \"index\" => Any[WebIO.JSString(\"(function (val){return (val!=this.model[\\\"index\\\"]()) ? (this.valueFromJulia[\\\"index\\\"]=true, this.model[\\\"index\\\"](val)) : undefined})\")]), WebIO.ConnectionPool(Channel{Any}(32), Set{WebIO.AbstractConnection}(), Base.GenericCondition{ReentrantLock}(Base.IntrusiveLinkedList{Task}(Task (runnable) @0x00007f8e2d083850, Task (runnable) @0x00007f8e2d083850), ReentrantLock(nothing, 0x00000000, 0x00, Base.GenericCondition{Base.Threads.SpinLock}(Base.IntrusiveLinkedList{Task}(nothing, nothing), Base.Threads.SpinLock(0)), (8, 0, 141733920768)))), WebIO.JSString[WebIO.JSString(\"function () {\\n    var handler = (function (ko, koPunches) {\\n    ko.punches.enableAll();\\n    ko.bindingHandlers.numericValue = {\\n        init: function(element, valueAccessor, allBindings, data, context) {\\n            var stringified = ko.observable(ko.unwrap(valueAccessor()));\\n            stringified.subscribe(function(value) {\\n                var val = parseFloat(value);\\n                if (!isNaN(val)) {\\n                    valueAccessor()(val);\\n                }\\n            });\\n            valueAccessor().subscribe(function(value) {\\n                var str = JSON.stringify(value);\\n                if ((str == \\\"0\\\") && ([\\\"-0\\\", \\\"-0.\\\"].indexOf(stringified()) >= 0))\\n                     return;\\n                 if ([\\\"null\\\", \\\"\\\"].indexOf(str) >= 0)\\n                     return;\\n                stringified(str);\\n            });\\n            ko.applyBindingsToNode(\\n                element,\\n                {\\n                    value: stringified,\\n                    valueUpdate: allBindings.get('valueUpdate'),\\n                },\\n                context,\\n            );\\n        }\\n    };\\n    var json_data = {\\\"formatted_vals\\\":[\\\"0.0\\\",\\\"0.01\\\",\\\"0.02\\\",\\\"0.03\\\",\\\"0.04\\\",\\\"0.05\\\",\\\"0.06\\\",\\\"0.07\\\",\\\"0.08\\\",\\\"0.09\\\",\\\"0.1\\\",\\\"0.11\\\",\\\"0.12\\\",\\\"0.13\\\",\\\"0.14\\\",\\\"0.15\\\",\\\"0.16\\\",\\\"0.17\\\",\\\"0.18\\\",\\\"0.19\\\",\\\"0.2\\\",\\\"0.21\\\",\\\"0.22\\\",\\\"0.23\\\",\\\"0.24\\\",\\\"0.25\\\",\\\"0.26\\\",\\\"0.27\\\",\\\"0.28\\\",\\\"0.29\\\",\\\"0.3\\\",\\\"0.31\\\",\\\"0.32\\\",\\\"0.33\\\",\\\"0.34\\\",\\\"0.35\\\",\\\"0.36\\\",\\\"0.37\\\",\\\"0.38\\\",\\\"0.39\\\",\\\"0.4\\\",\\\"0.41\\\",\\\"0.42\\\",\\\"0.43\\\",\\\"0.44\\\",\\\"0.45\\\",\\\"0.46\\\",\\\"0.47\\\",\\\"0.48\\\",\\\"0.49\\\",\\\"0.5\\\",\\\"0.51\\\",\\\"0.52\\\",\\\"0.53\\\",\\\"0.54\\\",\\\"0.55\\\",\\\"0.56\\\",\\\"0.57\\\",\\\"0.58\\\",\\\"0.59\\\",\\\"0.6\\\",\\\"0.61\\\",\\\"0.62\\\",\\\"0.63\\\",\\\"0.64\\\",\\\"0.65\\\",\\\"0.66\\\",\\\"0.67\\\",\\\"0.68\\\",\\\"0.69\\\",\\\"0.7\\\",\\\"0.71\\\",\\\"0.72\\\",\\\"0.73\\\",\\\"0.74\\\",\\\"0.75\\\",\\\"0.76\\\",\\\"0.77\\\",\\\"0.78\\\",\\\"0.79\\\",\\\"0.8\\\",\\\"0.81\\\",\\\"0.82\\\",\\\"0.83\\\",\\\"0.84\\\",\\\"0.85\\\",\\\"0.86\\\",\\\"0.87\\\",\\\"0.88\\\",\\\"0.89\\\",\\\"0.9\\\",\\\"0.91\\\",\\\"0.92\\\",\\\"0.93\\\",\\\"0.94\\\",\\\"0.95\\\",\\\"0.96\\\",\\\"0.97\\\",\\\"0.98\\\",\\\"0.99\\\",\\\"1.0\\\"],\\\"changes\\\":WebIO.getval({\\\"name\\\":\\\"changes\\\",\\\"scope\\\":\\\"12213059846352056854\\\",\\\"id\\\":\\\"12093277924013156042\\\",\\\"type\\\":\\\"observable\\\"}),\\\"index\\\":WebIO.getval({\\\"name\\\":\\\"index\\\",\\\"scope\\\":\\\"12213059846352056854\\\",\\\"id\\\":\\\"2298128096345319414\\\",\\\"type\\\":\\\"observable\\\"})};\\n    var self = this;\\n    function AppViewModel() {\\n        for (var key in json_data) {\\n            var el = json_data[key];\\n            this[key] = Array.isArray(el) ? ko.observableArray(el) : ko.observable(el);\\n        }\\n        \\n        [this[\\\"formatted_val\\\"]=ko.computed(    function(){\\n        return this.formatted_vals()[parseInt(this.index())-(1)];\\n    }\\n,this)]\\n        [this[\\\"changes\\\"].subscribe((function (val){!(this.valueFromJulia[\\\"changes\\\"]) ? (WebIO.setval({\\\"name\\\":\\\"changes\\\",\\\"scope\\\":\\\"12213059846352056854\\\",\\\"id\\\":\\\"12093277924013156042\\\",\\\"type\\\":\\\"observable\\\"},val)) : undefined; return this.valueFromJulia[\\\"changes\\\"]=false}),self),this[\\\"index\\\"].subscribe((function (val){!(this.valueFromJulia[\\\"index\\\"]) ? (WebIO.setval({\\\"name\\\":\\\"index\\\",\\\"scope\\\":\\\"12213059846352056854\\\",\\\"id\\\":\\\"2298128096345319414\\\",\\\"type\\\":\\\"observable\\\"},val)) : undefined; return this.valueFromJulia[\\\"index\\\"]=false}),self)]\\n        \\n    }\\n    self.model = new AppViewModel();\\n    self.valueFromJulia = {};\\n    for (var key in json_data) {\\n        self.valueFromJulia[key] = false;\\n    }\\n    ko.applyBindings(self.model, self.dom);\\n}\\n);\\n    (WebIO.importBlock({\\\"data\\\":[{\\\"name\\\":\\\"knockout\\\",\\\"type\\\":\\\"js\\\",\\\"url\\\":\\\"/assetserver/727383f2a47bd31570b7da84eee7b022dd6d7c78-knockout.js\\\"},{\\\"name\\\":\\\"knockout_punches\\\",\\\"type\\\":\\\"js\\\",\\\"url\\\":\\\"/assetserver/382b41b3b1bd9f26f75861d360bad7f8beea211f-knockout_punches.js\\\"}],\\\"type\\\":\\\"async_block\\\"})).then((imports) => handler.apply(this, imports));\\n}\\n\")])], Dict{Symbol, Any}(:className => \"field interact-widget\")), WebIO.Node{WebIO.DOM}(WebIO.DOM(:html, :div), Any[WebIO.Scope(WebIO.Node{WebIO.DOM}(WebIO.DOM(:html, :div), Any[WebIO.Node{WebIO.DOM}(WebIO.DOM(:html, :div), Any[WebIO.Node{WebIO.DOM}(WebIO.DOM(:html, :label), Any[\"sheep_birth_rate\"], Dict{Symbol, Any}(:className => \"interact \", :style => Dict{Any, Any}(:padding => \"5px 10px 0px 10px\")))], Dict{Symbol, Any}(:className => \"interact-flex-row-left\")), WebIO.Node{WebIO.DOM}(WebIO.DOM(:html, :div), Any[WebIO.Node{WebIO.DOM}(WebIO.DOM(:html, :input), Any[], Dict{Symbol, Any}(:max => 100, :min => 1, :attributes => Dict{Any, Any}(:type => \"range\", Symbol(\"data-bind\") => \"numericValue: index, valueUpdate: 'input', event: {change: function (){this.changes(this.changes()+1)}}\", \"orient\" => \"horizontal\"), :step => 1, :className => \"slider slider is-fullwidth\", :style => Dict{Any, Any}()))], Dict{Symbol, Any}(:className => \"interact-flex-row-center\")), WebIO.Node{WebIO.DOM}(WebIO.DOM(:html, :div), Any[WebIO.Node{WebIO.DOM}(WebIO.DOM(:html, :p), Any[], Dict{Symbol, Any}(:attributes => Dict(\"data-bind\" => \"text: formatted_val\")))], Dict{Symbol, Any}(:className => \"interact-flex-row-right\"))], Dict{Symbol, Any}(:className => \"interact-flex-row interact-widget\")), Dict{String, Tuple{Observables.AbstractObservable, Union{Nothing, Bool}}}(\"changes\" => (Observable(0), nothing), \"index\" => (Observable{Any}(50), nothing)), Set{String}(), nothing, WebIO.Asset[WebIO.Asset(\"js\", \"knockout\", \"/home/dushya/.julia/packages/Knockout/HReiN/src/../assets/knockout.js\"), WebIO.Asset(\"js\", \"knockout_punches\", \"/home/dushya/.julia/packages/Knockout/HReiN/src/../assets/knockout_punches.js\"), WebIO.Asset(\"js\", nothing, \"/home/dushya/.julia/packages/InteractBase/LJXv3/src/../assets/all.js\"), WebIO.Asset(\"css\", nothing, \"/home/dushya/.julia/packages/InteractBase/LJXv3/src/../assets/style.css\"), WebIO.Asset(\"css\", nothing, \"/home/dushya/.julia/packages/Interact/PENUy/src/../assets/bulma_confined.min.css\")], Dict{Any, Any}(\"changes\" => Any[WebIO.JSString(\"(function (val){return (val!=this.model[\\\"changes\\\"]()) ? (this.valueFromJulia[\\\"changes\\\"]=true, this.model[\\\"changes\\\"](val)) : undefined})\")], \"index\" => Any[WebIO.JSString(\"(function (val){return (val!=this.model[\\\"index\\\"]()) ? (this.valueFromJulia[\\\"index\\\"]=true, this.model[\\\"index\\\"](val)) : undefined})\")]), WebIO.ConnectionPool(Channel{Any}(32), Set{WebIO.AbstractConnection}(), Base.GenericCondition{ReentrantLock}(Base.IntrusiveLinkedList{Task}(Task (runnable) @0x00007f8e2d226270, Task (runnable) @0x00007f8e2d226270), ReentrantLock(nothing, 0x00000000, 0x00, Base.GenericCondition{Base.Threads.SpinLock}(Base.IntrusiveLinkedList{Task}(nothing, nothing), Base.Threads.SpinLock(0)), (140248519611280, 140248519611280, 141733920768)))), WebIO.JSString[WebIO.JSString(\"function () {\\n    var handler = (function (ko, koPunches) {\\n    ko.punches.enableAll();\\n    ko.bindingHandlers.numericValue = {\\n        init: function(element, valueAccessor, allBindings, data, context) {\\n            var stringified = ko.observable(ko.unwrap(valueAccessor()));\\n            stringified.subscribe(function(value) {\\n                var val = parseFloat(value);\\n                if (!isNaN(val)) {\\n                    valueAccessor()(val);\\n                }\\n            });\\n            valueAccessor().subscribe(function(value) {\\n                var str = JSON.stringify(value);\\n                if ((str == \\\"0\\\") && ([\\\"-0\\\", \\\"-0.\\\"].indexOf(stringified()) >= 0))\\n                     return;\\n                 if ([\\\"null\\\", \\\"\\\"].indexOf(str) >= 0)\\n                     return;\\n                stringified(str);\\n            });\\n            ko.applyBindingsToNode(\\n                element,\\n                {\\n                    value: stringified,\\n                    valueUpdate: allBindings.get('valueUpdate'),\\n                },\\n                context,\\n            );\\n        }\\n    };\\n    var json_data = {\\\"formatted_vals\\\":[\\\"0.01\\\",\\\"0.02\\\",\\\"0.03\\\",\\\"0.04\\\",\\\"0.05\\\",\\\"0.06\\\",\\\"0.07\\\",\\\"0.08\\\",\\\"0.09\\\",\\\"0.1\\\",\\\"0.11\\\",\\\"0.12\\\",\\\"0.13\\\",\\\"0.14\\\",\\\"0.15\\\",\\\"0.16\\\",\\\"0.17\\\",\\\"0.18\\\",\\\"0.19\\\",\\\"0.2\\\",\\\"0.21\\\",\\\"0.22\\\",\\\"0.23\\\",\\\"0.24\\\",\\\"0.25\\\",\\\"0.26\\\",\\\"0.27\\\",\\\"0.28\\\",\\\"0.29\\\",\\\"0.3\\\",\\\"0.31\\\",\\\"0.32\\\",\\\"0.33\\\",\\\"0.34\\\",\\\"0.35\\\",\\\"0.36\\\",\\\"0.37\\\",\\\"0.38\\\",\\\"0.39\\\",\\\"0.4\\\",\\\"0.41\\\",\\\"0.42\\\",\\\"0.43\\\",\\\"0.44\\\",\\\"0.45\\\",\\\"0.46\\\",\\\"0.47\\\",\\\"0.48\\\",\\\"0.49\\\",\\\"0.5\\\",\\\"0.51\\\",\\\"0.52\\\",\\\"0.53\\\",\\\"0.54\\\",\\\"0.55\\\",\\\"0.56\\\",\\\"0.57\\\",\\\"0.58\\\",\\\"0.59\\\",\\\"0.6\\\",\\\"0.61\\\",\\\"0.62\\\",\\\"0.63\\\",\\\"0.64\\\",\\\"0.65\\\",\\\"0.66\\\",\\\"0.67\\\",\\\"0.68\\\",\\\"0.69\\\",\\\"0.7\\\",\\\"0.71\\\",\\\"0.72\\\",\\\"0.73\\\",\\\"0.74\\\",\\\"0.75\\\",\\\"0.76\\\",\\\"0.77\\\",\\\"0.78\\\",\\\"0.79\\\",\\\"0.8\\\",\\\"0.81\\\",\\\"0.82\\\",\\\"0.83\\\",\\\"0.84\\\",\\\"0.85\\\",\\\"0.86\\\",\\\"0.87\\\",\\\"0.88\\\",\\\"0.89\\\",\\\"0.9\\\",\\\"0.91\\\",\\\"0.92\\\",\\\"0.93\\\",\\\"0.94\\\",\\\"0.95\\\",\\\"0.96\\\",\\\"0.97\\\",\\\"0.98\\\",\\\"0.99\\\",\\\"1.0\\\"],\\\"changes\\\":WebIO.getval({\\\"name\\\":\\\"changes\\\",\\\"scope\\\":\\\"15160479387225488675\\\",\\\"id\\\":\\\"1147088338776207967\\\",\\\"type\\\":\\\"observable\\\"}),\\\"index\\\":WebIO.getval({\\\"name\\\":\\\"index\\\",\\\"scope\\\":\\\"15160479387225488675\\\",\\\"id\\\":\\\"928709856778517926\\\",\\\"type\\\":\\\"observable\\\"})};\\n    var self = this;\\n    function AppViewModel() {\\n        for (var key in json_data) {\\n            var el = json_data[key];\\n            this[key] = Array.isArray(el) ? ko.observableArray(el) : ko.observable(el);\\n        }\\n        \\n        [this[\\\"formatted_val\\\"]=ko.computed(    function(){\\n        return this.formatted_vals()[parseInt(this.index())-(1)];\\n    }\\n,this)]\\n        [this[\\\"changes\\\"].subscribe((function (val){!(this.valueFromJulia[\\\"changes\\\"]) ? (WebIO.setval({\\\"name\\\":\\\"changes\\\",\\\"scope\\\":\\\"15160479387225488675\\\",\\\"id\\\":\\\"1147088338776207967\\\",\\\"type\\\":\\\"observable\\\"},val)) : undefined; return this.valueFromJulia[\\\"changes\\\"]=false}),self),this[\\\"index\\\"].subscribe((function (val){!(this.valueFromJulia[\\\"index\\\"]) ? (WebIO.setval({\\\"name\\\":\\\"index\\\",\\\"scope\\\":\\\"15160479387225488675\\\",\\\"id\\\":\\\"928709856778517926\\\",\\\"type\\\":\\\"observable\\\"},val)) : undefined; return this.valueFromJulia[\\\"index\\\"]=false}),self)]\\n        \\n    }\\n    self.model = new AppViewModel();\\n    self.valueFromJulia = {};\\n    for (var key in json_data) {\\n        self.valueFromJulia[key] = false;\\n    }\\n    ko.applyBindings(self.model, self.dom);\\n}\\n);\\n    (WebIO.importBlock({\\\"data\\\":[{\\\"name\\\":\\\"knockout\\\",\\\"type\\\":\\\"js\\\",\\\"url\\\":\\\"/assetserver/727383f2a47bd31570b7da84eee7b022dd6d7c78-knockout.js\\\"},{\\\"name\\\":\\\"knockout_punches\\\",\\\"type\\\":\\\"js\\\",\\\"url\\\":\\\"/assetserver/382b41b3b1bd9f26f75861d360bad7f8beea211f-knockout_punches.js\\\"}],\\\"type\\\":\\\"async_block\\\"})).then((imports) => handler.apply(this, imports));\\n}\\n\")])], Dict{Symbol, Any}(:className => \"field interact-widget\")), WebIO.Node{WebIO.DOM}(WebIO.DOM(:html, :div), Any[WebIO.Scope(WebIO.Node{WebIO.DOM}(WebIO.DOM(:html, :div), Any[WebIO.Node{WebIO.DOM}(WebIO.DOM(:html, :div), Any[WebIO.Node{WebIO.DOM}(WebIO.DOM(:html, :label), Any[\"initial_wolf_percent\"], Dict{Symbol, Any}(:className => \"interact \", :style => Dict{Any, Any}(:padding => \"5px 10px 0px 10px\")))], Dict{Symbol, Any}(:className => \"interact-flex-row-left\")), WebIO.Node{WebIO.DOM}(WebIO.DOM(:html, :div), Any[WebIO.Node{WebIO.DOM}(WebIO.DOM(:html, :input), Any[], Dict{Symbol, Any}(:max => 90, :min => 1, :attributes => Dict{Any, Any}(:type => \"range\", Symbol(\"data-bind\") => \"numericValue: index, valueUpdate: 'input', event: {change: function (){this.changes(this.changes()+1)}}\", \"orient\" => \"horizontal\"), :step => 1, :className => \"slider slider is-fullwidth\", :style => Dict{Any, Any}()))], Dict{Symbol, Any}(:className => \"interact-flex-row-center\")), WebIO.Node{WebIO.DOM}(WebIO.DOM(:html, :div), Any[WebIO.Node{WebIO.DOM}(WebIO.DOM(:html, :p), Any[], Dict{Symbol, Any}(:attributes => Dict(\"data-bind\" => \"text: formatted_val\")))], Dict{Symbol, Any}(:className => \"interact-flex-row-right\"))], Dict{Symbol, Any}(:className => \"interact-flex-row interact-widget\")), Dict{String, Tuple{Observables.AbstractObservable, Union{Nothing, Bool}}}(\"changes\" => (Observable(0), nothing), \"index\" => (Observable{Any}(45), nothing)), Set{String}(), nothing, WebIO.Asset[WebIO.Asset(\"js\", \"knockout\", \"/home/dushya/.julia/packages/Knockout/HReiN/src/../assets/knockout.js\"), WebIO.Asset(\"js\", \"knockout_punches\", \"/home/dushya/.julia/packages/Knockout/HReiN/src/../assets/knockout_punches.js\"), WebIO.Asset(\"js\", nothing, \"/home/dushya/.julia/packages/InteractBase/LJXv3/src/../assets/all.js\"), WebIO.Asset(\"css\", nothing, \"/home/dushya/.julia/packages/InteractBase/LJXv3/src/../assets/style.css\"), WebIO.Asset(\"css\", nothing, \"/home/dushya/.julia/packages/Interact/PENUy/src/../assets/bulma_confined.min.css\")], Dict{Any, Any}(\"changes\" => Any[WebIO.JSString(\"(function (val){return (val!=this.model[\\\"changes\\\"]()) ? (this.valueFromJulia[\\\"changes\\\"]=true, this.model[\\\"changes\\\"](val)) : undefined})\")], \"index\" => Any[WebIO.JSString(\"(function (val){return (val!=this.model[\\\"index\\\"]()) ? (this.valueFromJulia[\\\"index\\\"]=true, this.model[\\\"index\\\"](val)) : undefined})\")]), WebIO.ConnectionPool(Channel{Any}(32), Set{WebIO.AbstractConnection}(), Base.GenericCondition{ReentrantLock}(Base.IntrusiveLinkedList{Task}(Task (runnable) @0x00007f8e2d354e20, Task (runnable) @0x00007f8e2d354e20), ReentrantLock(nothing, 0x00000000, 0x00, Base.GenericCondition{Base.Threads.SpinLock}(Base.IntrusiveLinkedList{Task}(nothing, nothing), Base.Threads.SpinLock(0)), (8, 0, 141733920768)))), WebIO.JSString[WebIO.JSString(\"function () {\\n    var handler = (function (ko, koPunches) {\\n    ko.punches.enableAll();\\n    ko.bindingHandlers.numericValue = {\\n        init: function(element, valueAccessor, allBindings, data, context) {\\n            var stringified = ko.observable(ko.unwrap(valueAccessor()));\\n            stringified.subscribe(function(value) {\\n                var val = parseFloat(value);\\n                if (!isNaN(val)) {\\n                    valueAccessor()(val);\\n                }\\n            });\\n            valueAccessor().subscribe(function(value) {\\n                var str = JSON.stringify(value);\\n                if ((str == \\\"0\\\") && ([\\\"-0\\\", \\\"-0.\\\"].indexOf(stringified()) >= 0))\\n                     return;\\n                 if ([\\\"null\\\", \\\"\\\"].indexOf(str) >= 0)\\n                     return;\\n                stringified(str);\\n            });\\n            ko.applyBindingsToNode(\\n                element,\\n                {\\n                    value: stringified,\\n                    valueUpdate: allBindings.get('valueUpdate'),\\n                },\\n                context,\\n            );\\n        }\\n    };\\n    var json_data = {\\\"formatted_vals\\\":[\\\"0.01\\\",\\\"0.02\\\",\\\"0.03\\\",\\\"0.04\\\",\\\"0.05\\\",\\\"0.06\\\",\\\"0.07\\\",\\\"0.08\\\",\\\"0.09\\\",\\\"0.1\\\",\\\"0.11\\\",\\\"0.12\\\",\\\"0.13\\\",\\\"0.14\\\",\\\"0.15\\\",\\\"0.16\\\",\\\"0.17\\\",\\\"0.18\\\",\\\"0.19\\\",\\\"0.2\\\",\\\"0.21\\\",\\\"0.22\\\",\\\"0.23\\\",\\\"0.24\\\",\\\"0.25\\\",\\\"0.26\\\",\\\"0.27\\\",\\\"0.28\\\",\\\"0.29\\\",\\\"0.3\\\",\\\"0.31\\\",\\\"0.32\\\",\\\"0.33\\\",\\\"0.34\\\",\\\"0.35\\\",\\\"0.36\\\",\\\"0.37\\\",\\\"0.38\\\",\\\"0.39\\\",\\\"0.4\\\",\\\"0.41\\\",\\\"0.42\\\",\\\"0.43\\\",\\\"0.44\\\",\\\"0.45\\\",\\\"0.46\\\",\\\"0.47\\\",\\\"0.48\\\",\\\"0.49\\\",\\\"0.5\\\",\\\"0.51\\\",\\\"0.52\\\",\\\"0.53\\\",\\\"0.54\\\",\\\"0.55\\\",\\\"0.56\\\",\\\"0.57\\\",\\\"0.58\\\",\\\"0.59\\\",\\\"0.6\\\",\\\"0.61\\\",\\\"0.62\\\",\\\"0.63\\\",\\\"0.64\\\",\\\"0.65\\\",\\\"0.66\\\",\\\"0.67\\\",\\\"0.68\\\",\\\"0.69\\\",\\\"0.7\\\",\\\"0.71\\\",\\\"0.72\\\",\\\"0.73\\\",\\\"0.74\\\",\\\"0.75\\\",\\\"0.76\\\",\\\"0.77\\\",\\\"0.78\\\",\\\"0.79\\\",\\\"0.8\\\",\\\"0.81\\\",\\\"0.82\\\",\\\"0.83\\\",\\\"0.84\\\",\\\"0.85\\\",\\\"0.86\\\",\\\"0.87\\\",\\\"0.88\\\",\\\"0.89\\\",\\\"0.9\\\"],\\\"changes\\\":WebIO.getval({\\\"name\\\":\\\"changes\\\",\\\"scope\\\":\\\"16021307231654370473\\\",\\\"id\\\":\\\"5126391122514674835\\\",\\\"type\\\":\\\"observable\\\"}),\\\"index\\\":WebIO.getval({\\\"name\\\":\\\"index\\\",\\\"scope\\\":\\\"16021307231654370473\\\",\\\"id\\\":\\\"11681302551954945908\\\",\\\"type\\\":\\\"observable\\\"})};\\n    var self = this;\\n    function AppViewModel() {\\n        for (var key in json_data) {\\n            var el = json_data[key];\\n            this[key] = Array.isArray(el) ? ko.observableArray(el) : ko.observable(el);\\n        }\\n        \\n        [this[\\\"formatted_val\\\"]=ko.computed(    function(){\\n        return this.formatted_vals()[parseInt(this.index())-(1)];\\n    }\\n,this)]\\n        [this[\\\"changes\\\"].subscribe((function (val){!(this.valueFromJulia[\\\"changes\\\"]) ? (WebIO.setval({\\\"name\\\":\\\"changes\\\",\\\"scope\\\":\\\"16021307231654370473\\\",\\\"id\\\":\\\"5126391122514674835\\\",\\\"type\\\":\\\"observable\\\"},val)) : undefined; return this.valueFromJulia[\\\"changes\\\"]=false}),self),this[\\\"index\\\"].subscribe((function (val){!(this.valueFromJulia[\\\"index\\\"]) ? (WebIO.setval({\\\"name\\\":\\\"index\\\",\\\"scope\\\":\\\"16021307231654370473\\\",\\\"id\\\":\\\"11681302551954945908\\\",\\\"type\\\":\\\"observable\\\"},val)) : undefined; return this.valueFromJulia[\\\"index\\\"]=false}),self)]\\n        \\n    }\\n    self.model = new AppViewModel();\\n    self.valueFromJulia = {};\\n    for (var key in json_data) {\\n        self.valueFromJulia[key] = false;\\n    }\\n    ko.applyBindings(self.model, self.dom);\\n}\\n);\\n    (WebIO.importBlock({\\\"data\\\":[{\\\"name\\\":\\\"knockout\\\",\\\"type\\\":\\\"js\\\",\\\"url\\\":\\\"/assetserver/727383f2a47bd31570b7da84eee7b022dd6d7c78-knockout.js\\\"},{\\\"name\\\":\\\"knockout_punches\\\",\\\"type\\\":\\\"js\\\",\\\"url\\\":\\\"/assetserver/382b41b3b1bd9f26f75861d360bad7f8beea211f-knockout_punches.js\\\"}],\\\"type\\\":\\\"async_block\\\"})).then((imports) => handler.apply(this, imports));\\n}\\n\")])], Dict{Symbol, Any}(:className => \"field interact-widget\")), WebIO.Node{WebIO.DOM}(WebIO.DOM(:html, :div), Any[WebIO.Scope(WebIO.Node{WebIO.DOM}(WebIO.DOM(:html, :div), Any[WebIO.Node{WebIO.DOM}(WebIO.DOM(:html, :div), Any[WebIO.Node{WebIO.DOM}(WebIO.DOM(:html, :label), Any[\"wolves_kill_ability\"], Dict{Symbol, Any}(:className => \"interact \", :style => Dict{Any, Any}(:padding => \"5px 10px 0px 10px\")))], Dict{Symbol, Any}(:className => \"interact-flex-row-left\")), WebIO.Node{WebIO.DOM}(WebIO.DOM(:html, :div), Any[WebIO.Node{WebIO.DOM}(WebIO.DOM(:html, :input), Any[], Dict{Symbol, Any}(:max => 100, :min => 1, :attributes => Dict{Any, Any}(:type => \"range\", Symbol(\"data-bind\") => \"numericValue: index, valueUpdate: 'input', event: {change: function (){this.changes(this.changes()+1)}}\", \"orient\" => \"horizontal\"), :step => 1, :className => \"slider slider is-fullwidth\", :style => Dict{Any, Any}()))], Dict{Symbol, Any}(:className => \"interact-flex-row-center\")), WebIO.Node{WebIO.DOM}(WebIO.DOM(:html, :div), Any[WebIO.Node{WebIO.DOM}(WebIO.DOM(:html, :p), Any[], Dict{Symbol, Any}(:attributes => Dict(\"data-bind\" => \"text: formatted_val\")))], Dict{Symbol, Any}(:className => \"interact-flex-row-right\"))], Dict{Symbol, Any}(:className => \"interact-flex-row interact-widget\")), Dict{String, Tuple{Observables.AbstractObservable, Union{Nothing, Bool}}}(\"changes\" => (Observable(0), nothing), \"index\" => (Observable{Any}(50), nothing)), Set{String}(), nothing, WebIO.Asset[WebIO.Asset(\"js\", \"knockout\", \"/home/dushya/.julia/packages/Knockout/HReiN/src/../assets/knockout.js\"), WebIO.Asset(\"js\", \"knockout_punches\", \"/home/dushya/.julia/packages/Knockout/HReiN/src/../assets/knockout_punches.js\"), WebIO.Asset(\"js\", nothing, \"/home/dushya/.julia/packages/InteractBase/LJXv3/src/../assets/all.js\"), WebIO.Asset(\"css\", nothing, \"/home/dushya/.julia/packages/InteractBase/LJXv3/src/../assets/style.css\"), WebIO.Asset(\"css\", nothing, \"/home/dushya/.julia/packages/Interact/PENUy/src/../assets/bulma_confined.min.css\")], Dict{Any, Any}(\"changes\" => Any[WebIO.JSString(\"(function (val){return (val!=this.model[\\\"changes\\\"]()) ? (this.valueFromJulia[\\\"changes\\\"]=true, this.model[\\\"changes\\\"](val)) : undefined})\")], \"index\" => Any[WebIO.JSString(\"(function (val){return (val!=this.model[\\\"index\\\"]()) ? (this.valueFromJulia[\\\"index\\\"]=true, this.model[\\\"index\\\"](val)) : undefined})\")]), WebIO.ConnectionPool(Channel{Any}(32), Set{WebIO.AbstractConnection}(), Base.GenericCondition{ReentrantLock}(Base.IntrusiveLinkedList{Task}(Task (runnable) @0x00007f8e2d3576c0, Task (runnable) @0x00007f8e2d3576c0), ReentrantLock(nothing, 0x00000000, 0x00, Base.GenericCondition{Base.Threads.SpinLock}(Base.IntrusiveLinkedList{Task}(nothing, nothing), Base.Threads.SpinLock(0)), (0, 0, 139779710648320)))), WebIO.JSString[WebIO.JSString(\"function () {\\n    var handler = (function (ko, koPunches) {\\n    ko.punches.enableAll();\\n    ko.bindingHandlers.numericValue = {\\n        init: function(element, valueAccessor, allBindings, data, context) {\\n            var stringified = ko.observable(ko.unwrap(valueAccessor()));\\n            stringified.subscribe(function(value) {\\n                var val = parseFloat(value);\\n                if (!isNaN(val)) {\\n                    valueAccessor()(val);\\n                }\\n            });\\n            valueAccessor().subscribe(function(value) {\\n                var str = JSON.stringify(value);\\n                if ((str == \\\"0\\\") && ([\\\"-0\\\", \\\"-0.\\\"].indexOf(stringified()) >= 0))\\n                     return;\\n                 if ([\\\"null\\\", \\\"\\\"].indexOf(str) >= 0)\\n                     return;\\n                stringified(str);\\n            });\\n            ko.applyBindingsToNode(\\n                element,\\n                {\\n                    value: stringified,\\n                    valueUpdate: allBindings.get('valueUpdate'),\\n                },\\n                context,\\n            );\\n        }\\n    };\\n    var json_data = {\\\"formatted_vals\\\":[\\\"0.01\\\",\\\"0.02\\\",\\\"0.03\\\",\\\"0.04\\\",\\\"0.05\\\",\\\"0.06\\\",\\\"0.07\\\",\\\"0.08\\\",\\\"0.09\\\",\\\"0.1\\\",\\\"0.11\\\",\\\"0.12\\\",\\\"0.13\\\",\\\"0.14\\\",\\\"0.15\\\",\\\"0.16\\\",\\\"0.17\\\",\\\"0.18\\\",\\\"0.19\\\",\\\"0.2\\\",\\\"0.21\\\",\\\"0.22\\\",\\\"0.23\\\",\\\"0.24\\\",\\\"0.25\\\",\\\"0.26\\\",\\\"0.27\\\",\\\"0.28\\\",\\\"0.29\\\",\\\"0.3\\\",\\\"0.31\\\",\\\"0.32\\\",\\\"0.33\\\",\\\"0.34\\\",\\\"0.35\\\",\\\"0.36\\\",\\\"0.37\\\",\\\"0.38\\\",\\\"0.39\\\",\\\"0.4\\\",\\\"0.41\\\",\\\"0.42\\\",\\\"0.43\\\",\\\"0.44\\\",\\\"0.45\\\",\\\"0.46\\\",\\\"0.47\\\",\\\"0.48\\\",\\\"0.49\\\",\\\"0.5\\\",\\\"0.51\\\",\\\"0.52\\\",\\\"0.53\\\",\\\"0.54\\\",\\\"0.55\\\",\\\"0.56\\\",\\\"0.57\\\",\\\"0.58\\\",\\\"0.59\\\",\\\"0.6\\\",\\\"0.61\\\",\\\"0.62\\\",\\\"0.63\\\",\\\"0.64\\\",\\\"0.65\\\",\\\"0.66\\\",\\\"0.67\\\",\\\"0.68\\\",\\\"0.69\\\",\\\"0.7\\\",\\\"0.71\\\",\\\"0.72\\\",\\\"0.73\\\",\\\"0.74\\\",\\\"0.75\\\",\\\"0.76\\\",\\\"0.77\\\",\\\"0.78\\\",\\\"0.79\\\",\\\"0.8\\\",\\\"0.81\\\",\\\"0.82\\\",\\\"0.83\\\",\\\"0.84\\\",\\\"0.85\\\",\\\"0.86\\\",\\\"0.87\\\",\\\"0.88\\\",\\\"0.89\\\",\\\"0.9\\\",\\\"0.91\\\",\\\"0.92\\\",\\\"0.93\\\",\\\"0.94\\\",\\\"0.95\\\",\\\"0.96\\\",\\\"0.97\\\",\\\"0.98\\\",\\\"0.99\\\",\\\"1.0\\\"],\\\"changes\\\":WebIO.getval({\\\"name\\\":\\\"changes\\\",\\\"scope\\\":\\\"9801409354606649514\\\",\\\"id\\\":\\\"10428399518841229285\\\",\\\"type\\\":\\\"observable\\\"}),\\\"index\\\":WebIO.getval({\\\"name\\\":\\\"index\\\",\\\"scope\\\":\\\"9801409354606649514\\\",\\\"id\\\":\\\"1039291409138004498\\\",\\\"type\\\":\\\"observable\\\"})};\\n    var self = this;\\n    function AppViewModel() {\\n        for (var key in json_data) {\\n            var el = json_data[key];\\n            this[key] = Array.isArray(el) ? ko.observableArray(el) : ko.observable(el);\\n        }\\n        \\n        [this[\\\"formatted_val\\\"]=ko.computed(    function(){\\n        return this.formatted_vals()[parseInt(this.index())-(1)];\\n    }\\n,this)]\\n        [this[\\\"changes\\\"].subscribe((function (val){!(this.valueFromJulia[\\\"changes\\\"]) ? (WebIO.setval({\\\"name\\\":\\\"changes\\\",\\\"scope\\\":\\\"9801409354606649514\\\",\\\"id\\\":\\\"10428399518841229285\\\",\\\"type\\\":\\\"observable\\\"},val)) : undefined; return this.valueFromJulia[\\\"changes\\\"]=false}),self),this[\\\"index\\\"].subscribe((function (val){!(this.valueFromJulia[\\\"index\\\"]) ? (WebIO.setval({\\\"name\\\":\\\"index\\\",\\\"scope\\\":\\\"9801409354606649514\\\",\\\"id\\\":\\\"1039291409138004498\\\",\\\"type\\\":\\\"observable\\\"},val)) : undefined; return this.valueFromJulia[\\\"index\\\"]=false}),self)]\\n        \\n    }\\n    self.model = new AppViewModel();\\n    self.valueFromJulia = {};\\n    for (var key in json_data) {\\n        self.valueFromJulia[key] = false;\\n    }\\n    ko.applyBindings(self.model, self.dom);\\n}\\n);\\n    (WebIO.importBlock({\\\"data\\\":[{\\\"name\\\":\\\"knockout\\\",\\\"type\\\":\\\"js\\\",\\\"url\\\":\\\"/assetserver/727383f2a47bd31570b7da84eee7b022dd6d7c78-knockout.js\\\"},{\\\"name\\\":\\\"knockout_punches\\\",\\\"type\\\":\\\"js\\\",\\\"url\\\":\\\"/assetserver/382b41b3b1bd9f26f75861d360bad7f8beea211f-knockout_punches.js\\\"}],\\\"type\\\":\\\"async_block\\\"})).then((imports) => handler.apply(this, imports));\\n}\\n\")])], Dict{Symbol, Any}(:className => \"field interact-widget\")), WebIO.Node{WebIO.DOM}(WebIO.DOM(:html, :div), Any[WebIO.Scope(WebIO.Node{WebIO.DOM}(WebIO.DOM(:html, :div), Any[WebIO.Node{WebIO.DOM}(WebIO.DOM(:html, :div), Any[WebIO.Node{WebIO.DOM}(WebIO.DOM(:html, :label), Any[\"grass_grow_prob\"], Dict{Symbol, Any}(:className => \"interact \", :style => Dict{Any, Any}(:padding => \"5px 10px 0px 10px\")))], Dict{Symbol, Any}(:className => \"interact-flex-row-left\")), WebIO.Node{WebIO.DOM}(WebIO.DOM(:html, :div), Any[WebIO.Node{WebIO.DOM}(WebIO.DOM(:html, :input), Any[], Dict{Symbol, Any}(:max => 50, :min => 1, :attributes => Dict{Any, Any}(:type => \"range\", Symbol(\"data-bind\") => \"numericValue: index, valueUpdate: 'input', event: {change: function (){this.changes(this.changes()+1)}}\", \"orient\" => \"horizontal\"), :step => 1, :className => \"slider slider is-fullwidth\", :style => Dict{Any, Any}()))], Dict{Symbol, Any}(:className => \"interact-flex-row-center\")), WebIO.Node{WebIO.DOM}(WebIO.DOM(:html, :div), Any[WebIO.Node{WebIO.DOM}(WebIO.DOM(:html, :p), Any[], Dict{Symbol, Any}(:attributes => Dict(\"data-bind\" => \"text: formatted_val\")))], Dict{Symbol, Any}(:className => \"interact-flex-row-right\"))], Dict{Symbol, Any}(:className => \"interact-flex-row interact-widget\")), Dict{String, Tuple{Observables.AbstractObservable, Union{Nothing, Bool}}}(\"changes\" => (Observable(0), nothing), \"index\" => (Observable{Any}(25), nothing)), Set{String}(), nothing, WebIO.Asset[WebIO.Asset(\"js\", \"knockout\", \"/home/dushya/.julia/packages/Knockout/HReiN/src/../assets/knockout.js\"), WebIO.Asset(\"js\", \"knockout_punches\", \"/home/dushya/.julia/packages/Knockout/HReiN/src/../assets/knockout_punches.js\"), WebIO.Asset(\"js\", nothing, \"/home/dushya/.julia/packages/InteractBase/LJXv3/src/../assets/all.js\"), WebIO.Asset(\"css\", nothing, \"/home/dushya/.julia/packages/InteractBase/LJXv3/src/../assets/style.css\"), WebIO.Asset(\"css\", nothing, \"/home/dushya/.julia/packages/Interact/PENUy/src/../assets/bulma_confined.min.css\")], Dict{Any, Any}(\"changes\" => Any[WebIO.JSString(\"(function (val){return (val!=this.model[\\\"changes\\\"]()) ? (this.valueFromJulia[\\\"changes\\\"]=true, this.model[\\\"changes\\\"](val)) : undefined})\")], \"index\" => Any[WebIO.JSString(\"(function (val){return (val!=this.model[\\\"index\\\"]()) ? (this.valueFromJulia[\\\"index\\\"]=true, this.model[\\\"index\\\"](val)) : undefined})\")]), WebIO.ConnectionPool(Channel{Any}(32), Set{WebIO.AbstractConnection}(), Base.GenericCondition{ReentrantLock}(Base.IntrusiveLinkedList{Task}(Task (runnable) @0x00007f8e2d3eaa40, Task (runnable) @0x00007f8e2d3eaa40), ReentrantLock(nothing, 0x00000000, 0x00, Base.GenericCondition{Base.Threads.SpinLock}(Base.IntrusiveLinkedList{Task}(nothing, nothing), Base.Threads.SpinLock(0)), (2, 140248518442048, 140248518442048)))), WebIO.JSString[WebIO.JSString(\"function () {\\n    var handler = (function (ko, koPunches) {\\n    ko.punches.enableAll();\\n    ko.bindingHandlers.numericValue = {\\n        init: function(element, valueAccessor, allBindings, data, context) {\\n            var stringified = ko.observable(ko.unwrap(valueAccessor()));\\n            stringified.subscribe(function(value) {\\n                var val = parseFloat(value);\\n                if (!isNaN(val)) {\\n                    valueAccessor()(val);\\n                }\\n            });\\n            valueAccessor().subscribe(function(value) {\\n                var str = JSON.stringify(value);\\n                if ((str == \\\"0\\\") && ([\\\"-0\\\", \\\"-0.\\\"].indexOf(stringified()) >= 0))\\n                     return;\\n                 if ([\\\"null\\\", \\\"\\\"].indexOf(str) >= 0)\\n                     return;\\n                stringified(str);\\n            });\\n            ko.applyBindingsToNode(\\n                element,\\n                {\\n                    value: stringified,\\n                    valueUpdate: allBindings.get('valueUpdate'),\\n                },\\n                context,\\n            );\\n        }\\n    };\\n    var json_data = {\\\"formatted_vals\\\":[\\\"0.01\\\",\\\"0.02\\\",\\\"0.03\\\",\\\"0.04\\\",\\\"0.05\\\",\\\"0.06\\\",\\\"0.07\\\",\\\"0.08\\\",\\\"0.09\\\",\\\"0.1\\\",\\\"0.11\\\",\\\"0.12\\\",\\\"0.13\\\",\\\"0.14\\\",\\\"0.15\\\",\\\"0.16\\\",\\\"0.17\\\",\\\"0.18\\\",\\\"0.19\\\",\\\"0.2\\\",\\\"0.21\\\",\\\"0.22\\\",\\\"0.23\\\",\\\"0.24\\\",\\\"0.25\\\",\\\"0.26\\\",\\\"0.27\\\",\\\"0.28\\\",\\\"0.29\\\",\\\"0.3\\\",\\\"0.31\\\",\\\"0.32\\\",\\\"0.33\\\",\\\"0.34\\\",\\\"0.35\\\",\\\"0.36\\\",\\\"0.37\\\",\\\"0.38\\\",\\\"0.39\\\",\\\"0.4\\\",\\\"0.41\\\",\\\"0.42\\\",\\\"0.43\\\",\\\"0.44\\\",\\\"0.45\\\",\\\"0.46\\\",\\\"0.47\\\",\\\"0.48\\\",\\\"0.49\\\",\\\"0.5\\\"],\\\"changes\\\":WebIO.getval({\\\"name\\\":\\\"changes\\\",\\\"scope\\\":\\\"15294902769060538528\\\",\\\"id\\\":\\\"3746875887282282139\\\",\\\"type\\\":\\\"observable\\\"}),\\\"index\\\":WebIO.getval({\\\"name\\\":\\\"index\\\",\\\"scope\\\":\\\"15294902769060538528\\\",\\\"id\\\":\\\"16064240768164366783\\\",\\\"type\\\":\\\"observable\\\"})};\\n    var self = this;\\n    function AppViewModel() {\\n        for (var key in json_data) {\\n            var el = json_data[key];\\n            this[key] = Array.isArray(el) ? ko.observableArray(el) : ko.observable(el);\\n        }\\n        \\n        [this[\\\"formatted_val\\\"]=ko.computed(    function(){\\n        return this.formatted_vals()[parseInt(this.index())-(1)];\\n    }\\n,this)]\\n        [this[\\\"changes\\\"].subscribe((function (val){!(this.valueFromJulia[\\\"changes\\\"]) ? (WebIO.setval({\\\"name\\\":\\\"changes\\\",\\\"scope\\\":\\\"15294902769060538528\\\",\\\"id\\\":\\\"3746875887282282139\\\",\\\"type\\\":\\\"observable\\\"},val)) : undefined; return this.valueFromJulia[\\\"changes\\\"]=false}),self),this[\\\"index\\\"].subscribe((function (val){!(this.valueFromJulia[\\\"index\\\"]) ? (WebIO.setval({\\\"name\\\":\\\"index\\\",\\\"scope\\\":\\\"15294902769060538528\\\",\\\"id\\\":\\\"16064240768164366783\\\",\\\"type\\\":\\\"observable\\\"},val)) : undefined; return this.valueFromJulia[\\\"index\\\"]=false}),self)]\\n        \\n    }\\n    self.model = new AppViewModel();\\n    self.valueFromJulia = {};\\n    for (var key in json_data) {\\n        self.valueFromJulia[key] = false;\\n    }\\n    ko.applyBindings(self.model, self.dom);\\n}\\n);\\n    (WebIO.importBlock({\\\"data\\\":[{\\\"name\\\":\\\"knockout\\\",\\\"type\\\":\\\"js\\\",\\\"url\\\":\\\"/assetserver/727383f2a47bd31570b7da84eee7b022dd6d7c78-knockout.js\\\"},{\\\"name\\\":\\\"knockout_punches\\\",\\\"type\\\":\\\"js\\\",\\\"url\\\":\\\"/assetserver/382b41b3b1bd9f26f75861d360bad7f8beea211f-knockout_punches.js\\\"}],\\\"type\\\":\\\"async_block\\\"})).then((imports) => handler.apply(this, imports));\\n}\\n\")])], Dict{Symbol, Any}(:className => \"field interact-widget\"))], Dict{Symbol, Any}(:style => Dict(\"display\" => \"flex\", \"flex-direction\" => \"column\"))), WebIO.Node{WebIO.DOM}(WebIO.DOM(:html, :div), Any[WebIO.Node{WebIO.DOM}(WebIO.DOM(:html, :div), Any[WebIO.Scope(WebIO.Node{WebIO.DOM}(WebIO.DOM(:html, :div), Any[], Dict{Symbol, Any}(:id => \"container\")), Dict{String, Tuple{Observables.AbstractObservable, Union{Nothing, Bool}}}(\"value\" => (Observable(\"\\\\;\\\\;\"), nothing)), Set{String}(), nothing, WebIO.Asset[WebIO.Asset(\"js\", nothing, \"/home/dushya/.julia/packages/InteractBase/LJXv3/src/../assets/katex.min.js\"), WebIO.Asset(\"css\", nothing, \"/home/dushya/.julia/packages/InteractBase/LJXv3/src/../assets/katex.min.css\")], Dict{Any, Any}(\"value\" => Any[WebIO.JSString(\"(function (txt){return this.k.render(txt,this.container)})\")]), WebIO.ConnectionPool(Channel{Any}(32), Set{WebIO.AbstractConnection}(), Base.GenericCondition{ReentrantLock}(Base.IntrusiveLinkedList{Task}(Task (runnable) @0x00007f8e2d7bbb70, Task (runnable) @0x00007f8e2d7bbb70), ReentrantLock(nothing, 0x00000000, 0x00, Base.GenericCondition{Base.Threads.SpinLock}(Base.IntrusiveLinkedList{Task}(nothing, nothing), Base.Threads.SpinLock(0)), (1, 140248622019056, 0)))), WebIO.JSString[WebIO.JSString(\"function () {\\n    var handler = ((function (k){this.k=k; this.container=this.dom.querySelector(\\\"#container\\\"); return k.render(\\\"\\\\\\\\;\\\\\\\\;\\\",this.container)}));\\n    (WebIO.importBlock({\\\"data\\\":[{\\\"name\\\":null,\\\"type\\\":\\\"js\\\",\\\"url\\\":\\\"/assetserver/dd22ed1bf1896c2748f3fe616ce0b838adc895c1-katex.min.js\\\"},{\\\"name\\\":null,\\\"type\\\":\\\"css\\\",\\\"url\\\":\\\"/assetserver/46517a424aa5e6cffc1360d7e0848b601c584ee3-katex.min.css\\\"}],\\\"type\\\":\\\"async_block\\\"})).then((imports) => handler.apply(this, imports));\\n}\\n\")])], Dict{Symbol, Any}(:className => \"interact-widget\")), WebIO.Node{WebIO.DOM}(WebIO.DOM(:html, :div), Any[WebIO.Scope(WebIO.Node{WebIO.DOM}(WebIO.DOM(:html, :button), Any[\"run\"], Dict{Symbol, Any}(:attributes => Dict{Any, Any}(\"data-bind\" => \"click: function (){this.clicks(this.clicks()+1)}, css: {'is-loading' : loading}\"), :className => \"is-medium button is-primary\", :style => Dict{String, Any}())), Dict{String, Tuple{Observables.AbstractObservable, Union{Nothing, Bool}}}(\"loading\" => (Observable(false), nothing), \"clicks\" => (Observable(0), nothing)), Set{String}(), nothing, WebIO.Asset[WebIO.Asset(\"js\", \"knockout\", \"/home/dushya/.julia/packages/Knockout/HReiN/src/../assets/knockout.js\"), WebIO.Asset(\"js\", \"knockout_punches\", \"/home/dushya/.julia/packages/Knockout/HReiN/src/../assets/knockout_punches.js\"), WebIO.Asset(\"js\", nothing, \"/home/dushya/.julia/packages/InteractBase/LJXv3/src/../assets/all.js\"), WebIO.Asset(\"css\", nothing, \"/home/dushya/.julia/packages/InteractBase/LJXv3/src/../assets/style.css\"), WebIO.Asset(\"css\", nothing, \"/home/dushya/.julia/packages/Interact/PENUy/src/../assets/bulma_confined.min.css\")], Dict{Any, Any}(\"loading\" => Any[WebIO.JSString(\"(function (val){return (val!=this.model[\\\"loading\\\"]()) ? (this.valueFromJulia[\\\"loading\\\"]=true, this.model[\\\"loading\\\"](val)) : undefined})\")], \"clicks\" => Any[WebIO.JSString(\"(function (val){return (val!=this.model[\\\"clicks\\\"]()) ? (this.valueFromJulia[\\\"clicks\\\"]=true, this.model[\\\"clicks\\\"](val)) : undefined})\")]), WebIO.ConnectionPool(Channel{Any}(32), Set{WebIO.AbstractConnection}(), Base.GenericCondition{ReentrantLock}(Base.IntrusiveLinkedList{Task}(Task (runnable) @0x00007f8e2d51d5f0, Task (runnable) @0x00007f8e2d51d5f0), ReentrantLock(nothing, 0x00000000, 0x00, Base.GenericCondition{Base.Threads.SpinLock}(Base.IntrusiveLinkedList{Task}(nothing, nothing), Base.Threads.SpinLock(0)), (8, 0, 139779710648320)))), WebIO.JSString[WebIO.JSString(\"function () {\\n    var handler = (function (ko, koPunches) {\\n    ko.punches.enableAll();\\n    ko.bindingHandlers.numericValue = {\\n        init: function(element, valueAccessor, allBindings, data, context) {\\n            var stringified = ko.observable(ko.unwrap(valueAccessor()));\\n            stringified.subscribe(function(value) {\\n                var val = parseFloat(value);\\n                if (!isNaN(val)) {\\n                    valueAccessor()(val);\\n                }\\n            });\\n            valueAccessor().subscribe(function(value) {\\n                var str = JSON.stringify(value);\\n                if ((str == \\\"0\\\") && ([\\\"-0\\\", \\\"-0.\\\"].indexOf(stringified()) >= 0))\\n                     return;\\n                 if ([\\\"null\\\", \\\"\\\"].indexOf(str) >= 0)\\n                     return;\\n                stringified(str);\\n            });\\n            ko.applyBindingsToNode(\\n                element,\\n                {\\n                    value: stringified,\\n                    valueUpdate: allBindings.get('valueUpdate'),\\n                },\\n                context,\\n            );\\n        }\\n    };\\n    var json_data = {\\\"loading\\\":WebIO.getval({\\\"name\\\":\\\"loading\\\",\\\"scope\\\":\\\"7793988162607178682\\\",\\\"id\\\":\\\"6372968280912976767\\\",\\\"type\\\":\\\"observable\\\"}),\\\"clicks\\\":WebIO.getval({\\\"name\\\":\\\"clicks\\\",\\\"scope\\\":\\\"7793988162607178682\\\",\\\"id\\\":\\\"13740959621563923234\\\",\\\"type\\\":\\\"observable\\\"})};\\n    var self = this;\\n    function AppViewModel() {\\n        for (var key in json_data) {\\n            var el = json_data[key];\\n            this[key] = Array.isArray(el) ? ko.observableArray(el) : ko.observable(el);\\n        }\\n        \\n        \\n        [this[\\\"loading\\\"].subscribe((function (val){!(this.valueFromJulia[\\\"loading\\\"]) ? (WebIO.setval({\\\"name\\\":\\\"loading\\\",\\\"scope\\\":\\\"7793988162607178682\\\",\\\"id\\\":\\\"6372968280912976767\\\",\\\"type\\\":\\\"observable\\\"},val)) : undefined; return this.valueFromJulia[\\\"loading\\\"]=false}),self),this[\\\"clicks\\\"].subscribe((function (val){!(this.valueFromJulia[\\\"clicks\\\"]) ? (WebIO.setval({\\\"name\\\":\\\"clicks\\\",\\\"scope\\\":\\\"7793988162607178682\\\",\\\"id\\\":\\\"13740959621563923234\\\",\\\"type\\\":\\\"observable\\\"},val)) : undefined; return this.valueFromJulia[\\\"clicks\\\"]=false}),self)]\\n        \\n    }\\n    self.model = new AppViewModel();\\n    self.valueFromJulia = {};\\n    for (var key in json_data) {\\n        self.valueFromJulia[key] = false;\\n    }\\n    ko.applyBindings(self.model, self.dom);\\n}\\n);\\n    (WebIO.importBlock({\\\"data\\\":[{\\\"name\\\":\\\"knockout\\\",\\\"type\\\":\\\"js\\\",\\\"url\\\":\\\"/assetserver/727383f2a47bd31570b7da84eee7b022dd6d7c78-knockout.js\\\"},{\\\"name\\\":\\\"knockout_punches\\\",\\\"type\\\":\\\"js\\\",\\\"url\\\":\\\"/assetserver/382b41b3b1bd9f26f75861d360bad7f8beea211f-knockout_punches.js\\\"}],\\\"type\\\":\\\"async_block\\\"})).then((imports) => handler.apply(this, imports));\\n}\\n\")])], Dict{Symbol, Any}(:className => \"field interact-widget\")), WebIO.Node{WebIO.DOM}(WebIO.DOM(:html, :div), Any[WebIO.Scope(WebIO.Node{WebIO.DOM}(WebIO.DOM(:html, :div), Any[], Dict{Symbol, Any}(:id => \"container\")), Dict{String, Tuple{Observables.AbstractObservable, Union{Nothing, Bool}}}(\"value\" => (Observable(\"\\\\;\\\\;\"), nothing)), Set{String}(), nothing, WebIO.Asset[WebIO.Asset(\"js\", nothing, \"/home/dushya/.julia/packages/InteractBase/LJXv3/src/../assets/katex.min.js\"), WebIO.Asset(\"css\", nothing, \"/home/dushya/.julia/packages/InteractBase/LJXv3/src/../assets/katex.min.css\")], Dict{Any, Any}(\"value\" => Any[WebIO.JSString(\"(function (txt){return this.k.render(txt,this.container)})\")]), WebIO.ConnectionPool(Channel{Any}(32), Set{WebIO.AbstractConnection}(), Base.GenericCondition{ReentrantLock}(Base.IntrusiveLinkedList{Task}(Task (runnable) @0x00007f8e2d7bbb70, Task (runnable) @0x00007f8e2d7bbb70), ReentrantLock(nothing, 0x00000000, 0x00, Base.GenericCondition{Base.Threads.SpinLock}(Base.IntrusiveLinkedList{Task}(nothing, nothing), Base.Threads.SpinLock(0)), (1, 140248622019056, 0)))), WebIO.JSString[WebIO.JSString(\"function () {\\n    var handler = ((function (k){this.k=k; this.container=this.dom.querySelector(\\\"#container\\\"); return k.render(\\\"\\\\\\\\;\\\\\\\\;\\\",this.container)}));\\n    (WebIO.importBlock({\\\"data\\\":[{\\\"name\\\":null,\\\"type\\\":\\\"js\\\",\\\"url\\\":\\\"/assetserver/dd22ed1bf1896c2748f3fe616ce0b838adc895c1-katex.min.js\\\"},{\\\"name\\\":null,\\\"type\\\":\\\"css\\\",\\\"url\\\":\\\"/assetserver/46517a424aa5e6cffc1360d7e0848b601c584ee3-katex.min.css\\\"}],\\\"type\\\":\\\"async_block\\\"})).then((imports) => handler.apply(this, imports));\\n}\\n\")])], Dict{Symbol, Any}(:className => \"interact-widget\")), WebIO.Node{WebIO.DOM}(WebIO.DOM(:html, :div), Any[WebIO.Scope(WebIO.Node{WebIO.DOM}(WebIO.DOM(:html, :button), Any[\"stop\"], Dict{Symbol, Any}(:attributes => Dict{Any, Any}(\"data-bind\" => \"click: function (){this.clicks(this.clicks()+1)}, css: {'is-loading' : loading}\"), :className => \"is-medium button is-primary\", :style => Dict{String, Any}())), Dict{String, Tuple{Observables.AbstractObservable, Union{Nothing, Bool}}}(\"loading\" => (Observable(false), nothing), \"clicks\" => (Observable(0), nothing)), Set{String}(), nothing, WebIO.Asset[WebIO.Asset(\"js\", \"knockout\", \"/home/dushya/.julia/packages/Knockout/HReiN/src/../assets/knockout.js\"), WebIO.Asset(\"js\", \"knockout_punches\", \"/home/dushya/.julia/packages/Knockout/HReiN/src/../assets/knockout_punches.js\"), WebIO.Asset(\"js\", nothing, \"/home/dushya/.julia/packages/InteractBase/LJXv3/src/../assets/all.js\"), WebIO.Asset(\"css\", nothing, \"/home/dushya/.julia/packages/InteractBase/LJXv3/src/../assets/style.css\"), WebIO.Asset(\"css\", nothing, \"/home/dushya/.julia/packages/Interact/PENUy/src/../assets/bulma_confined.min.css\")], Dict{Any, Any}(\"loading\" => Any[WebIO.JSString(\"(function (val){return (val!=this.model[\\\"loading\\\"]()) ? (this.valueFromJulia[\\\"loading\\\"]=true, this.model[\\\"loading\\\"](val)) : undefined})\")], \"clicks\" => Any[WebIO.JSString(\"(function (val){return (val!=this.model[\\\"clicks\\\"]()) ? (this.valueFromJulia[\\\"clicks\\\"]=true, this.model[\\\"clicks\\\"](val)) : undefined})\")]), WebIO.ConnectionPool(Channel{Any}(32), Set{WebIO.AbstractConnection}(), Base.GenericCondition{ReentrantLock}(Base.IntrusiveLinkedList{Task}(Task (runnable) @0x00007f8e2d594c90, Task (runnable) @0x00007f8e2d594c90), ReentrantLock(nothing, 0x00000000, 0x00, Base.GenericCondition{Base.Threads.SpinLock}(Base.IntrusiveLinkedList{Task}(nothing, nothing), Base.Threads.SpinLock(0)), (15, 0, 141733920768)))), WebIO.JSString[WebIO.JSString(\"function () {\\n    var handler = (function (ko, koPunches) {\\n    ko.punches.enableAll();\\n    ko.bindingHandlers.numericValue = {\\n        init: function(element, valueAccessor, allBindings, data, context) {\\n            var stringified = ko.observable(ko.unwrap(valueAccessor()));\\n            stringified.subscribe(function(value) {\\n                var val = parseFloat(value);\\n                if (!isNaN(val)) {\\n                    valueAccessor()(val);\\n                }\\n            });\\n            valueAccessor().subscribe(function(value) {\\n                var str = JSON.stringify(value);\\n                if ((str == \\\"0\\\") && ([\\\"-0\\\", \\\"-0.\\\"].indexOf(stringified()) >= 0))\\n                     return;\\n                 if ([\\\"null\\\", \\\"\\\"].indexOf(str) >= 0)\\n                     return;\\n                stringified(str);\\n            });\\n            ko.applyBindingsToNode(\\n                element,\\n                {\\n                    value: stringified,\\n                    valueUpdate: allBindings.get('valueUpdate'),\\n                },\\n                context,\\n            );\\n        }\\n    };\\n    var json_data = {\\\"loading\\\":WebIO.getval({\\\"name\\\":\\\"loading\\\",\\\"scope\\\":\\\"4754068583201390714\\\",\\\"id\\\":\\\"3822555932011583206\\\",\\\"type\\\":\\\"observable\\\"}),\\\"clicks\\\":WebIO.getval({\\\"name\\\":\\\"clicks\\\",\\\"scope\\\":\\\"4754068583201390714\\\",\\\"id\\\":\\\"6493079553838803053\\\",\\\"type\\\":\\\"observable\\\"})};\\n    var self = this;\\n    function AppViewModel() {\\n        for (var key in json_data) {\\n            var el = json_data[key];\\n            this[key] = Array.isArray(el) ? ko.observableArray(el) : ko.observable(el);\\n        }\\n        \\n        \\n        [this[\\\"loading\\\"].subscribe((function (val){!(this.valueFromJulia[\\\"loading\\\"]) ? (WebIO.setval({\\\"name\\\":\\\"loading\\\",\\\"scope\\\":\\\"4754068583201390714\\\",\\\"id\\\":\\\"3822555932011583206\\\",\\\"type\\\":\\\"observable\\\"},val)) : undefined; return this.valueFromJulia[\\\"loading\\\"]=false}),self),this[\\\"clicks\\\"].subscribe((function (val){!(this.valueFromJulia[\\\"clicks\\\"]) ? (WebIO.setval({\\\"name\\\":\\\"clicks\\\",\\\"scope\\\":\\\"4754068583201390714\\\",\\\"id\\\":\\\"6493079553838803053\\\",\\\"type\\\":\\\"observable\\\"},val)) : undefined; return this.valueFromJulia[\\\"clicks\\\"]=false}),self)]\\n        \\n    }\\n    self.model = new AppViewModel();\\n    self.valueFromJulia = {};\\n    for (var key in json_data) {\\n        self.valueFromJulia[key] = false;\\n    }\\n    ko.applyBindings(self.model, self.dom);\\n}\\n);\\n    (WebIO.importBlock({\\\"data\\\":[{\\\"name\\\":\\\"knockout\\\",\\\"type\\\":\\\"js\\\",\\\"url\\\":\\\"/assetserver/727383f2a47bd31570b7da84eee7b022dd6d7c78-knockout.js\\\"},{\\\"name\\\":\\\"knockout_punches\\\",\\\"type\\\":\\\"js\\\",\\\"url\\\":\\\"/assetserver/382b41b3b1bd9f26f75861d360bad7f8beea211f-knockout_punches.js\\\"}],\\\"type\\\":\\\"async_block\\\"})).then((imports) => handler.apply(this, imports));\\n}\\n\")])], Dict{Symbol, Any}(:className => \"field interact-widget\")), WebIO.Node{WebIO.DOM}(WebIO.DOM(:html, :div), Any[WebIO.Scope(WebIO.Node{WebIO.DOM}(WebIO.DOM(:html, :div), Any[], Dict{Symbol, Any}(:id => \"container\")), Dict{String, Tuple{Observables.AbstractObservable, Union{Nothing, Bool}}}(\"value\" => (Observable(\"\\\\;\\\\;\"), nothing)), Set{String}(), nothing, WebIO.Asset[WebIO.Asset(\"js\", nothing, \"/home/dushya/.julia/packages/InteractBase/LJXv3/src/../assets/katex.min.js\"), WebIO.Asset(\"css\", nothing, \"/home/dushya/.julia/packages/InteractBase/LJXv3/src/../assets/katex.min.css\")], Dict{Any, Any}(\"value\" => Any[WebIO.JSString(\"(function (txt){return this.k.render(txt,this.container)})\")]), WebIO.ConnectionPool(Channel{Any}(32), Set{WebIO.AbstractConnection}(), Base.GenericCondition{ReentrantLock}(Base.IntrusiveLinkedList{Task}(Task (runnable) @0x00007f8e2d7bbb70, Task (runnable) @0x00007f8e2d7bbb70), ReentrantLock(nothing, 0x00000000, 0x00, Base.GenericCondition{Base.Threads.SpinLock}(Base.IntrusiveLinkedList{Task}(nothing, nothing), Base.Threads.SpinLock(0)), (1, 140248622019056, 0)))), WebIO.JSString[WebIO.JSString(\"function () {\\n    var handler = ((function (k){this.k=k; this.container=this.dom.querySelector(\\\"#container\\\"); return k.render(\\\"\\\\\\\\;\\\\\\\\;\\\",this.container)}));\\n    (WebIO.importBlock({\\\"data\\\":[{\\\"name\\\":null,\\\"type\\\":\\\"js\\\",\\\"url\\\":\\\"/assetserver/dd22ed1bf1896c2748f3fe616ce0b838adc895c1-katex.min.js\\\"},{\\\"name\\\":null,\\\"type\\\":\\\"css\\\",\\\"url\\\":\\\"/assetserver/46517a424aa5e6cffc1360d7e0848b601c584ee3-katex.min.css\\\"}],\\\"type\\\":\\\"async_block\\\"})).then((imports) => handler.apply(this, imports));\\n}\\n\")])], Dict{Symbol, Any}(:className => \"interact-widget\")), WebIO.Node{WebIO.DOM}(WebIO.DOM(:html, :div), Any[WebIO.Scope(WebIO.Node{WebIO.DOM}(WebIO.DOM(:html, :button), Any[\"reset\"], Dict{Symbol, Any}(:attributes => Dict{Any, Any}(\"data-bind\" => \"click: function (){this.clicks(this.clicks()+1)}, css: {'is-loading' : loading}\"), :className => \"is-medium button is-primary\", :style => Dict{String, Any}())), Dict{String, Tuple{Observables.AbstractObservable, Union{Nothing, Bool}}}(\"loading\" => (Observable(false), nothing), \"clicks\" => (Observable(0), nothing)), Set{String}(), nothing, WebIO.Asset[WebIO.Asset(\"js\", \"knockout\", \"/home/dushya/.julia/packages/Knockout/HReiN/src/../assets/knockout.js\"), WebIO.Asset(\"js\", \"knockout_punches\", \"/home/dushya/.julia/packages/Knockout/HReiN/src/../assets/knockout_punches.js\"), WebIO.Asset(\"js\", nothing, \"/home/dushya/.julia/packages/InteractBase/LJXv3/src/../assets/all.js\"), WebIO.Asset(\"css\", nothing, \"/home/dushya/.julia/packages/InteractBase/LJXv3/src/../assets/style.css\"), WebIO.Asset(\"css\", nothing, \"/home/dushya/.julia/packages/Interact/PENUy/src/../assets/bulma_confined.min.css\")], Dict{Any, Any}(\"loading\" => Any[WebIO.JSString(\"(function (val){return (val!=this.model[\\\"loading\\\"]()) ? (this.valueFromJulia[\\\"loading\\\"]=true, this.model[\\\"loading\\\"](val)) : undefined})\")], \"clicks\" => Any[WebIO.JSString(\"(function (val){return (val!=this.model[\\\"clicks\\\"]()) ? (this.valueFromJulia[\\\"clicks\\\"]=true, this.model[\\\"clicks\\\"](val)) : undefined})\")]), WebIO.ConnectionPool(Channel{Any}(32), Set{WebIO.AbstractConnection}(), Base.GenericCondition{ReentrantLock}(Base.IntrusiveLinkedList{Task}(Task (runnable) @0x00007f8e2d5976c0, Task (runnable) @0x00007f8e2d5976c0), ReentrantLock(nothing, 0x00000000, 0x00, Base.GenericCondition{Base.Threads.SpinLock}(Base.IntrusiveLinkedList{Task}(nothing, nothing), Base.Threads.SpinLock(0)), (2, 140247566892272, 140248640906768)))), WebIO.JSString[WebIO.JSString(\"function () {\\n    var handler = (function (ko, koPunches) {\\n    ko.punches.enableAll();\\n    ko.bindingHandlers.numericValue = {\\n        init: function(element, valueAccessor, allBindings, data, context) {\\n            var stringified = ko.observable(ko.unwrap(valueAccessor()));\\n            stringified.subscribe(function(value) {\\n                var val = parseFloat(value);\\n                if (!isNaN(val)) {\\n                    valueAccessor()(val);\\n                }\\n            });\\n            valueAccessor().subscribe(function(value) {\\n                var str = JSON.stringify(value);\\n                if ((str == \\\"0\\\") && ([\\\"-0\\\", \\\"-0.\\\"].indexOf(stringified()) >= 0))\\n                     return;\\n                 if ([\\\"null\\\", \\\"\\\"].indexOf(str) >= 0)\\n                     return;\\n                stringified(str);\\n            });\\n            ko.applyBindingsToNode(\\n                element,\\n                {\\n                    value: stringified,\\n                    valueUpdate: allBindings.get('valueUpdate'),\\n                },\\n                context,\\n            );\\n        }\\n    };\\n    var json_data = {\\\"loading\\\":WebIO.getval({\\\"name\\\":\\\"loading\\\",\\\"scope\\\":\\\"11760226480460668218\\\",\\\"id\\\":\\\"13558406670909723964\\\",\\\"type\\\":\\\"observable\\\"}),\\\"clicks\\\":WebIO.getval({\\\"name\\\":\\\"clicks\\\",\\\"scope\\\":\\\"11760226480460668218\\\",\\\"id\\\":\\\"17889190989578752032\\\",\\\"type\\\":\\\"observable\\\"})};\\n    var self = this;\\n    function AppViewModel() {\\n        for (var key in json_data) {\\n            var el = json_data[key];\\n            this[key] = Array.isArray(el) ? ko.observableArray(el) : ko.observable(el);\\n        }\\n        \\n        \\n        [this[\\\"loading\\\"].subscribe((function (val){!(this.valueFromJulia[\\\"loading\\\"]) ? (WebIO.setval({\\\"name\\\":\\\"loading\\\",\\\"scope\\\":\\\"11760226480460668218\\\",\\\"id\\\":\\\"13558406670909723964\\\",\\\"type\\\":\\\"observable\\\"},val)) : undefined; return this.valueFromJulia[\\\"loading\\\"]=false}),self),this[\\\"clicks\\\"].subscribe((function (val){!(this.valueFromJulia[\\\"clicks\\\"]) ? (WebIO.setval({\\\"name\\\":\\\"clicks\\\",\\\"scope\\\":\\\"11760226480460668218\\\",\\\"id\\\":\\\"17889190989578752032\\\",\\\"type\\\":\\\"observable\\\"},val)) : undefined; return this.valueFromJulia[\\\"clicks\\\"]=false}),self)]\\n        \\n    }\\n    self.model = new AppViewModel();\\n    self.valueFromJulia = {};\\n    for (var key in json_data) {\\n        self.valueFromJulia[key] = false;\\n    }\\n    ko.applyBindings(self.model, self.dom);\\n}\\n);\\n    (WebIO.importBlock({\\\"data\\\":[{\\\"name\\\":\\\"knockout\\\",\\\"type\\\":\\\"js\\\",\\\"url\\\":\\\"/assetserver/727383f2a47bd31570b7da84eee7b022dd6d7c78-knockout.js\\\"},{\\\"name\\\":\\\"knockout_punches\\\",\\\"type\\\":\\\"js\\\",\\\"url\\\":\\\"/assetserver/382b41b3b1bd9f26f75861d360bad7f8beea211f-knockout_punches.js\\\"}],\\\"type\\\":\\\"async_block\\\"})).then((imports) => handler.apply(this, imports));\\n}\\n\")])], Dict{Symbol, Any}(:className => \"field interact-widget\")), WebIO.Node{WebIO.DOM}(WebIO.DOM(:html, :div), Any[WebIO.Scope(WebIO.Node{WebIO.DOM}(WebIO.DOM(:html, :div), Any[], Dict{Symbol, Any}(:id => \"container\")), Dict{String, Tuple{Observables.AbstractObservable, Union{Nothing, Bool}}}(\"value\" => (Observable(\"\\\\;\\\\;\"), nothing)), Set{String}(), nothing, WebIO.Asset[WebIO.Asset(\"js\", nothing, \"/home/dushya/.julia/packages/InteractBase/LJXv3/src/../assets/katex.min.js\"), WebIO.Asset(\"css\", nothing, \"/home/dushya/.julia/packages/InteractBase/LJXv3/src/../assets/katex.min.css\")], Dict{Any, Any}(\"value\" => Any[WebIO.JSString(\"(function (txt){return this.k.render(txt,this.container)})\")]), WebIO.ConnectionPool(Channel{Any}(32), Set{WebIO.AbstractConnection}(), Base.GenericCondition{ReentrantLock}(Base.IntrusiveLinkedList{Task}(Task (runnable) @0x00007f8e2d7bbb70, Task (runnable) @0x00007f8e2d7bbb70), ReentrantLock(nothing, 0x00000000, 0x00, Base.GenericCondition{Base.Threads.SpinLock}(Base.IntrusiveLinkedList{Task}(nothing, nothing), Base.Threads.SpinLock(0)), (1, 140248622019056, 0)))), WebIO.JSString[WebIO.JSString(\"function () {\\n    var handler = ((function (k){this.k=k; this.container=this.dom.querySelector(\\\"#container\\\"); return k.render(\\\"\\\\\\\\;\\\\\\\\;\\\",this.container)}));\\n    (WebIO.importBlock({\\\"data\\\":[{\\\"name\\\":null,\\\"type\\\":\\\"js\\\",\\\"url\\\":\\\"/assetserver/dd22ed1bf1896c2748f3fe616ce0b838adc895c1-katex.min.js\\\"},{\\\"name\\\":null,\\\"type\\\":\\\"css\\\",\\\"url\\\":\\\"/assetserver/46517a424aa5e6cffc1360d7e0848b601c584ee3-katex.min.css\\\"}],\\\"type\\\":\\\"async_block\\\"})).then((imports) => handler.apply(this, imports));\\n}\\n\")])], Dict{Symbol, Any}(:className => \"interact-widget\")), WebIO.Node{WebIO.DOM}(WebIO.DOM(:html, :div), Any[WebIO.Scope(WebIO.Node{WebIO.DOM}(WebIO.DOM(:html, :button), Any[\"save\"], Dict{Symbol, Any}(:attributes => Dict{Any, Any}(\"data-bind\" => \"click: function (){this.clicks(this.clicks()+1)}, css: {'is-loading' : loading}\"), :className => \"is-medium button is-primary\", :style => Dict{String, Any}())), Dict{String, Tuple{Observables.AbstractObservable, Union{Nothing, Bool}}}(\"loading\" => (Observable(false), nothing), \"clicks\" => (Observable(0), nothing)), Set{String}(), nothing, WebIO.Asset[WebIO.Asset(\"js\", \"knockout\", \"/home/dushya/.julia/packages/Knockout/HReiN/src/../assets/knockout.js\"), WebIO.Asset(\"js\", \"knockout_punches\", \"/home/dushya/.julia/packages/Knockout/HReiN/src/../assets/knockout_punches.js\"), WebIO.Asset(\"js\", nothing, \"/home/dushya/.julia/packages/InteractBase/LJXv3/src/../assets/all.js\"), WebIO.Asset(\"css\", nothing, \"/home/dushya/.julia/packages/InteractBase/LJXv3/src/../assets/style.css\"), WebIO.Asset(\"css\", nothing, \"/home/dushya/.julia/packages/Interact/PENUy/src/../assets/bulma_confined.min.css\")], Dict{Any, Any}(\"loading\" => Any[WebIO.JSString(\"(function (val){return (val!=this.model[\\\"loading\\\"]()) ? (this.valueFromJulia[\\\"loading\\\"]=true, this.model[\\\"loading\\\"](val)) : undefined})\")], \"clicks\" => Any[WebIO.JSString(\"(function (val){return (val!=this.model[\\\"clicks\\\"]()) ? (this.valueFromJulia[\\\"clicks\\\"]=true, this.model[\\\"clicks\\\"](val)) : undefined})\")]), WebIO.ConnectionPool(Channel{Any}(32), Set{WebIO.AbstractConnection}(), Base.GenericCondition{ReentrantLock}(Base.IntrusiveLinkedList{Task}(Task (runnable) @0x00007f8e2d6720e0, Task (runnable) @0x00007f8e2d6720e0), ReentrantLock(nothing, 0x00000000, 0x00, Base.GenericCondition{Base.Threads.SpinLock}(Base.IntrusiveLinkedList{Task}(nothing, nothing), Base.Threads.SpinLock(0)), (8, 0, 141733920768)))), WebIO.JSString[WebIO.JSString(\"function () {\\n    var handler = (function (ko, koPunches) {\\n    ko.punches.enableAll();\\n    ko.bindingHandlers.numericValue = {\\n        init: function(element, valueAccessor, allBindings, data, context) {\\n            var stringified = ko.observable(ko.unwrap(valueAccessor()));\\n            stringified.subscribe(function(value) {\\n                var val = parseFloat(value);\\n                if (!isNaN(val)) {\\n                    valueAccessor()(val);\\n                }\\n            });\\n            valueAccessor().subscribe(function(value) {\\n                var str = JSON.stringify(value);\\n                if ((str == \\\"0\\\") && ([\\\"-0\\\", \\\"-0.\\\"].indexOf(stringified()) >= 0))\\n                     return;\\n                 if ([\\\"null\\\", \\\"\\\"].indexOf(str) >= 0)\\n                     return;\\n                stringified(str);\\n            });\\n            ko.applyBindingsToNode(\\n                element,\\n                {\\n                    value: stringified,\\n                    valueUpdate: allBindings.get('valueUpdate'),\\n                },\\n                context,\\n            );\\n        }\\n    };\\n    var json_data = {\\\"loading\\\":WebIO.getval({\\\"name\\\":\\\"loading\\\",\\\"scope\\\":\\\"12652724698627698515\\\",\\\"id\\\":\\\"2515273884141727421\\\",\\\"type\\\":\\\"observable\\\"}),\\\"clicks\\\":WebIO.getval({\\\"name\\\":\\\"clicks\\\",\\\"scope\\\":\\\"12652724698627698515\\\",\\\"id\\\":\\\"6763157289489929499\\\",\\\"type\\\":\\\"observable\\\"})};\\n    var self = this;\\n    function AppViewModel() {\\n        for (var key in json_data) {\\n            var el = json_data[key];\\n            this[key] = Array.isArray(el) ? ko.observableArray(el) : ko.observable(el);\\n        }\\n        \\n        \\n        [this[\\\"loading\\\"].subscribe((function (val){!(this.valueFromJulia[\\\"loading\\\"]) ? (WebIO.setval({\\\"name\\\":\\\"loading\\\",\\\"scope\\\":\\\"12652724698627698515\\\",\\\"id\\\":\\\"2515273884141727421\\\",\\\"type\\\":\\\"observable\\\"},val)) : undefined; return this.valueFromJulia[\\\"loading\\\"]=false}),self),this[\\\"clicks\\\"].subscribe((function (val){!(this.valueFromJulia[\\\"clicks\\\"]) ? (WebIO.setval({\\\"name\\\":\\\"clicks\\\",\\\"scope\\\":\\\"12652724698627698515\\\",\\\"id\\\":\\\"6763157289489929499\\\",\\\"type\\\":\\\"observable\\\"},val)) : undefined; return this.valueFromJulia[\\\"clicks\\\"]=false}),self)]\\n        \\n    }\\n    self.model = new AppViewModel();\\n    self.valueFromJulia = {};\\n    for (var key in json_data) {\\n        self.valueFromJulia[key] = false;\\n    }\\n    ko.applyBindings(self.model, self.dom);\\n}\\n);\\n    (WebIO.importBlock({\\\"data\\\":[{\\\"name\\\":\\\"knockout\\\",\\\"type\\\":\\\"js\\\",\\\"url\\\":\\\"/assetserver/727383f2a47bd31570b7da84eee7b022dd6d7c78-knockout.js\\\"},{\\\"name\\\":\\\"knockout_punches\\\",\\\"type\\\":\\\"js\\\",\\\"url\\\":\\\"/assetserver/382b41b3b1bd9f26f75861d360bad7f8beea211f-knockout_punches.js\\\"}],\\\"type\\\":\\\"async_block\\\"})).then((imports) => handler.apply(this, imports));\\n}\\n\")])], Dict{Symbol, Any}(:className => \"field interact-widget\"))], Dict{Symbol, Any}(:style => Dict(\"display\" => \"flex\", \"flex-direction\" => \"row\")))], Dict{Symbol, Any}(:style => Dict(\"display\" => \"flex\", \"flex-direction\" => \"column\"))), WebIO.Node{WebIO.DOM}(WebIO.DOM(:html, :div), Any[WebIO.Scope(WebIO.Node{WebIO.DOM}(WebIO.DOM(:html, :div), Any[], Dict{Symbol, Any}(:id => \"container\")), Dict{String, Tuple{Observables.AbstractObservable, Union{Nothing, Bool}}}(\"value\" => (Observable(\"\\\\;\\\\;\"), nothing)), Set{String}(), nothing, WebIO.Asset[WebIO.Asset(\"js\", nothing, \"/home/dushya/.julia/packages/InteractBase/LJXv3/src/../assets/katex.min.js\"), WebIO.Asset(\"css\", nothing, \"/home/dushya/.julia/packages/InteractBase/LJXv3/src/../assets/katex.min.css\")], Dict{Any, Any}(\"value\" => Any[WebIO.JSString(\"(function (txt){return this.k.render(txt,this.container)})\")]), WebIO.ConnectionPool(Channel{Any}(32), Set{WebIO.AbstractConnection}(), Base.GenericCondition{ReentrantLock}(Base.IntrusiveLinkedList{Task}(Task (runnable) @0x00007f8e2d7bbb70, Task (runnable) @0x00007f8e2d7bbb70), ReentrantLock(nothing, 0x00000000, 0x00, Base.GenericCondition{Base.Threads.SpinLock}(Base.IntrusiveLinkedList{Task}(nothing, nothing), Base.Threads.SpinLock(0)), (1, 140248622019056, 0)))), WebIO.JSString[WebIO.JSString(\"function () {\\n    var handler = ((function (k){this.k=k; this.container=this.dom.querySelector(\\\"#container\\\"); return k.render(\\\"\\\\\\\\;\\\\\\\\;\\\",this.container)}));\\n    (WebIO.importBlock({\\\"data\\\":[{\\\"name\\\":null,\\\"type\\\":\\\"js\\\",\\\"url\\\":\\\"/assetserver/dd22ed1bf1896c2748f3fe616ce0b838adc895c1-katex.min.js\\\"},{\\\"name\\\":null,\\\"type\\\":\\\"css\\\",\\\"url\\\":\\\"/assetserver/46517a424aa5e6cffc1360d7e0848b601c584ee3-katex.min.css\\\"}],\\\"type\\\":\\\"async_block\\\"})).then((imports) => handler.apply(this, imports));\\n}\\n\")])], Dict{Symbol, Any}(:className => \"interact-widget\")), Observable(Luxor.Drawing(430.0, 430.0, \"\", Cairo.CairoSurfaceBase{UInt32}(Ptr{Nothing} @0x0000000000000000, 430.0, 430.0), Cairo.CairoContext(Ptr{Nothing} @0x0000000006f0daf0, Cairo.CairoSurfaceBase{UInt32}(Ptr{Nothing} @0x0000000000000000, 430.0, 430.0), Ptr{Nothing} @0x0000000006a9e640), :png, 0.0, 0.0, 0.0, 1.0, IOBuffer(data=UInt8[...], readable=true, writable=true, seekable=true, append=false, size=9154, maxsize=Inf, ptr=9155, mark=-1), UInt8[0x89, 0x50, 0x4e, 0x47, 0x0d, 0x0a, 0x1a, 0x0a, 0x00, 0x00  …  0x00, 0x00, 0x49, 0x45, 0x4e, 0x44, 0xae, 0x42, 0x60, 0x82], false)), WebIO.Node{WebIO.DOM}(WebIO.DOM(:html, :div), Any[WebIO.Scope(WebIO.Node{WebIO.DOM}(WebIO.DOM(:html, :div), Any[], Dict{Symbol, Any}(:id => \"container\")), Dict{String, Tuple{Observables.AbstractObservable, Union{Nothing, Bool}}}(\"value\" => (Observable(\"\\\\;\\\\;\"), nothing)), Set{String}(), nothing, WebIO.Asset[WebIO.Asset(\"js\", nothing, \"/home/dushya/.julia/packages/InteractBase/LJXv3/src/../assets/katex.min.js\"), WebIO.Asset(\"css\", nothing, \"/home/dushya/.julia/packages/InteractBase/LJXv3/src/../assets/katex.min.css\")], Dict{Any, Any}(\"value\" => Any[WebIO.JSString(\"(function (txt){return this.k.render(txt,this.container)})\")]), WebIO.ConnectionPool(Channel{Any}(32), Set{WebIO.AbstractConnection}(), Base.GenericCondition{ReentrantLock}(Base.IntrusiveLinkedList{Task}(Task (runnable) @0x00007f8e2d7bbb70, Task (runnable) @0x00007f8e2d7bbb70), ReentrantLock(nothing, 0x00000000, 0x00, Base.GenericCondition{Base.Threads.SpinLock}(Base.IntrusiveLinkedList{Task}(nothing, nothing), Base.Threads.SpinLock(0)), (1, 140248622019056, 0)))), WebIO.JSString[WebIO.JSString(\"function () {\\n    var handler = ((function (k){this.k=k; this.container=this.dom.querySelector(\\\"#container\\\"); return k.render(\\\"\\\\\\\\;\\\\\\\\;\\\",this.container)}));\\n    (WebIO.importBlock({\\\"data\\\":[{\\\"name\\\":null,\\\"type\\\":\\\"js\\\",\\\"url\\\":\\\"/assetserver/dd22ed1bf1896c2748f3fe616ce0b838adc895c1-katex.min.js\\\"},{\\\"name\\\":null,\\\"type\\\":\\\"css\\\",\\\"url\\\":\\\"/assetserver/46517a424aa5e6cffc1360d7e0848b601c584ee3-katex.min.css\\\"}],\\\"type\\\":\\\"async_block\\\"})).then((imports) => handler.apply(this, imports));\\n}\\n\")])], Dict{Symbol, Any}(:className => \"interact-widget\")), WebIO.Node{WebIO.DOM}(WebIO.DOM(:html, :div), Any[Observable(Plot{Plots.GRBackend() n=2})], Dict{Symbol, Any}(:style => Dict(\"display\" => \"flex\", \"flex-direction\" => \"column\")))], Dict{Symbol, Any}(:style => Dict(\"display\" => \"flex\", \"flex-direction\" => \"row\")))], Dict{Symbol, Any}(:style => Dict(\"display\" => \"flex\", \"flex-direction\" => \"column\")))"
      ]
     },
     "execution_count": 9,
     "metadata": {
      "application/vnd.webio.node+json": {
       "kernelId": null
      }
     },
     "output_type": "execute_result"
    }
   ],
   "source": [
    "create_interactive_app(model, initialiser= initialiser!,\n",
    "    step_rule= step_rule!,\n",
    "    model_controls=[\n",
    "        (:wolf_birth_rate, \"slider\", 0:0.01:1.0),\n",
    "        (:sheep_birth_rate, \"slider\", 0.01:0.01:1.0),\n",
    "        (:initial_wolf_percent, \"slider\", 0.01:0.01:0.9),\n",
    "        (:wolves_kill_ability, \"slider\", 0.01:0.01:1.0),\n",
    "        (:grass_grow_prob, \"slider\", 0.01:0.01:0.5)\n",
    "        ], \n",
    "    agent_plots=Dict(\"sheep\"=> agent-> agent.atype == sheep ? 1 : 0, \n",
    "        \"wolf\"=> agent-> agent.atype == wolf ? 1 : 0),\n",
    "    frames=200, show_grid=true)"
   ]
  },
  {
   "cell_type": "markdown",
   "metadata": {},
   "source": [
    "\n",
    "## Step 4: Fetch Data \n",
    "\n",
    "We can fetch the number of wolves and sheeps at each time step as follows. "
   ]
  },
  {
   "cell_type": "code",
   "execution_count": 6,
   "metadata": {},
   "outputs": [
    {
     "data": {
      "image/png": "[encoded data removed]",
      "image/svg+xml": "<?xml version=\"1.0\" encoding=\"utf-8\"?>\n<svg xmlns=\"http://www.w3.org/2000/svg\" xmlns:xlink=\"http://www.w3.org/1999/xlink\" width=\"600\" height=\"400\" viewBox=\"0 0 2400 1600\">\n<defs>\n  <clipPath id=\"clip470\">\n    <rect x=\"0\" y=\"0\" width=\"2400\" height=\"1600\"/>\n  </clipPath>\n</defs>\n<path clip-path=\"url(#clip470)\" d=\"M0 1600 L2400 1600 L2400 0 L0 0  Z\" fill=\"#ffffff\" fill-rule=\"evenodd\" fill-opacity=\"1\"/>\n<defs>\n  <clipPath id=\"clip471\">\n    <rect x=\"480\" y=\"0\" width=\"1681\" height=\"1600\"/>\n  </clipPath>\n</defs>\n<path clip-path=\"url(#clip470)\" d=\"M234.125 1423.18 L2352.76 1423.18 L2352.76 47.2441 L234.125 47.2441  Z\" fill=\"#ffffff\" fill-rule=\"evenodd\" fill-opacity=\"1\"/>\n<defs>\n  <clipPath id=\"clip472\">\n    <rect x=\"234\" y=\"47\" width=\"2120\" height=\"1377\"/>\n  </clipPath>\n</defs>\n<polyline clip-path=\"url(#clip472)\" style=\"stroke:#000000; stroke-linecap:round; stroke-linejoin:round; stroke-width:2; stroke-opacity:0.1; fill:none\" points=\"274.1,1423.18 274.1,47.2441 \"/>\n<polyline clip-path=\"url(#clip472)\" style=\"stroke:#000000; stroke-linecap:round; stroke-linejoin:round; stroke-width:2; stroke-opacity:0.1; fill:none\" points=\"773.777,1423.18 773.777,47.2441 \"/>\n<polyline clip-path=\"url(#clip472)\" style=\"stroke:#000000; stroke-linecap:round; stroke-linejoin:round; stroke-width:2; stroke-opacity:0.1; fill:none\" points=\"1273.45,1423.18 1273.45,47.2441 \"/>\n<polyline clip-path=\"url(#clip472)\" style=\"stroke:#000000; stroke-linecap:round; stroke-linejoin:round; stroke-width:2; stroke-opacity:0.1; fill:none\" points=\"1773.13,1423.18 1773.13,47.2441 \"/>\n<polyline clip-path=\"url(#clip472)\" style=\"stroke:#000000; stroke-linecap:round; stroke-linejoin:round; stroke-width:2; stroke-opacity:0.1; fill:none\" points=\"2272.81,1423.18 2272.81,47.2441 \"/>\n<polyline clip-path=\"url(#clip470)\" style=\"stroke:#000000; stroke-linecap:round; stroke-linejoin:round; stroke-width:4; stroke-opacity:1; fill:none\" points=\"234.125,1423.18 2352.76,1423.18 \"/>\n<polyline clip-path=\"url(#clip470)\" style=\"stroke:#000000; stroke-linecap:round; stroke-linejoin:round; stroke-width:4; stroke-opacity:1; fill:none\" points=\"274.1,1423.18 274.1,1404.28 \"/>\n<polyline clip-path=\"url(#clip470)\" style=\"stroke:#000000; stroke-linecap:round; stroke-linejoin:round; stroke-width:4; stroke-opacity:1; fill:none\" points=\"773.777,1423.18 773.777,1404.28 \"/>\n<polyline clip-path=\"url(#clip470)\" style=\"stroke:#000000; stroke-linecap:round; stroke-linejoin:round; stroke-width:4; stroke-opacity:1; fill:none\" points=\"1273.45,1423.18 1273.45,1404.28 \"/>\n<polyline clip-path=\"url(#clip470)\" style=\"stroke:#000000; stroke-linecap:round; stroke-linejoin:round; stroke-width:4; stroke-opacity:1; fill:none\" points=\"1773.13,1423.18 1773.13,1404.28 \"/>\n<polyline clip-path=\"url(#clip470)\" style=\"stroke:#000000; stroke-linecap:round; stroke-linejoin:round; stroke-width:4; stroke-opacity:1; fill:none\" points=\"2272.81,1423.18 2272.81,1404.28 \"/>\n<path clip-path=\"url(#clip470)\" d=\"M274.1 1454.1 Q270.489 1454.1 268.66 1457.66 Q266.854 1461.2 266.854 1468.33 Q266.854 1475.44 268.66 1479.01 Q270.489 1482.55 274.1 1482.55 Q277.734 1482.55 279.539 1479.01 Q281.368 1475.44 281.368 1468.33 Q281.368 1461.2 279.539 1457.66 Q277.734 1454.1 274.1 1454.1 M274.1 1450.39 Q279.91 1450.39 282.965 1455 Q286.044 1459.58 286.044 1468.33 Q286.044 1477.06 282.965 1481.67 Q279.91 1486.25 274.1 1486.25 Q268.289 1486.25 265.211 1481.67 Q262.155 1477.06 262.155 1468.33 Q262.155 1459.58 265.211 1455 Q268.289 1450.39 274.1 1450.39 Z\" fill=\"#000000\" fill-rule=\"nonzero\" fill-opacity=\"1\" /><path clip-path=\"url(#clip470)\" d=\"M753.048 1481.64 L769.367 1481.64 L769.367 1485.58 L747.423 1485.58 L747.423 1481.64 Q750.085 1478.89 754.668 1474.26 Q759.274 1469.61 760.455 1468.27 Q762.7 1465.74 763.58 1464.01 Q764.483 1462.25 764.483 1460.56 Q764.483 1457.8 762.538 1456.07 Q760.617 1454.33 757.515 1454.33 Q755.316 1454.33 752.862 1455.09 Q750.432 1455.86 747.654 1457.41 L747.654 1452.69 Q750.478 1451.55 752.932 1450.97 Q755.385 1450.39 757.423 1450.39 Q762.793 1450.39 765.987 1453.08 Q769.182 1455.77 769.182 1460.26 Q769.182 1462.39 768.372 1464.31 Q767.585 1466.2 765.478 1468.8 Q764.899 1469.47 761.798 1472.69 Q758.696 1475.88 753.048 1481.64 Z\" fill=\"#000000\" fill-rule=\"nonzero\" fill-opacity=\"1\" /><path clip-path=\"url(#clip470)\" d=\"M779.228 1451.02 L797.584 1451.02 L797.584 1454.96 L783.51 1454.96 L783.51 1463.43 Q784.529 1463.08 785.547 1462.92 Q786.566 1462.73 787.584 1462.73 Q793.371 1462.73 796.751 1465.9 Q800.131 1469.08 800.131 1474.49 Q800.131 1480.07 796.658 1483.17 Q793.186 1486.25 786.867 1486.25 Q784.691 1486.25 782.422 1485.88 Q780.177 1485.51 777.77 1484.77 L777.77 1480.07 Q779.853 1481.2 782.075 1481.76 Q784.297 1482.32 786.774 1482.32 Q790.779 1482.32 793.117 1480.21 Q795.455 1478.1 795.455 1474.49 Q795.455 1470.88 793.117 1468.77 Q790.779 1466.67 786.774 1466.67 Q784.899 1466.67 783.024 1467.08 Q781.172 1467.5 779.228 1468.38 L779.228 1451.02 Z\" fill=\"#000000\" fill-rule=\"nonzero\" fill-opacity=\"1\" /><path clip-path=\"url(#clip470)\" d=\"M1248.15 1451.02 L1266.51 1451.02 L1266.51 1454.96 L1252.44 1454.96 L1252.44 1463.43 Q1253.45 1463.08 1254.47 1462.92 Q1255.49 1462.73 1256.51 1462.73 Q1262.3 1462.73 1265.68 1465.9 Q1269.06 1469.08 1269.06 1474.49 Q1269.06 1480.07 1265.58 1483.17 Q1262.11 1486.25 1255.79 1486.25 Q1253.62 1486.25 1251.35 1485.88 Q1249.1 1485.51 1246.69 1484.77 L1246.69 1480.07 Q1248.78 1481.2 1251 1481.76 Q1253.22 1482.32 1255.7 1482.32 Q1259.7 1482.32 1262.04 1480.21 Q1264.38 1478.1 1264.38 1474.49 Q1264.38 1470.88 1262.04 1468.77 Q1259.7 1466.67 1255.7 1466.67 Q1253.82 1466.67 1251.95 1467.08 Q1250.1 1467.5 1248.15 1468.38 L1248.15 1451.02 Z\" fill=\"#000000\" fill-rule=\"nonzero\" fill-opacity=\"1\" /><path clip-path=\"url(#clip470)\" d=\"M1288.27 1454.1 Q1284.66 1454.1 1282.83 1457.66 Q1281.02 1461.2 1281.02 1468.33 Q1281.02 1475.44 1282.83 1479.01 Q1284.66 1482.55 1288.27 1482.55 Q1291.9 1482.55 1293.71 1479.01 Q1295.54 1475.44 1295.54 1468.33 Q1295.54 1461.2 1293.71 1457.66 Q1291.9 1454.1 1288.27 1454.1 M1288.27 1450.39 Q1294.08 1450.39 1297.13 1455 Q1300.21 1459.58 1300.21 1468.33 Q1300.21 1477.06 1297.13 1481.67 Q1294.08 1486.25 1288.27 1486.25 Q1282.46 1486.25 1279.38 1481.67 Q1276.32 1477.06 1276.32 1468.33 Q1276.32 1459.58 1279.38 1455 Q1282.46 1450.39 1288.27 1450.39 Z\" fill=\"#000000\" fill-rule=\"nonzero\" fill-opacity=\"1\" /><path clip-path=\"url(#clip470)\" d=\"M1746.98 1451.02 L1769.21 1451.02 L1769.21 1453.01 L1756.66 1485.58 L1751.78 1485.58 L1763.58 1454.96 L1746.98 1454.96 L1746.98 1451.02 Z\" fill=\"#000000\" fill-rule=\"nonzero\" fill-opacity=\"1\" /><path clip-path=\"url(#clip470)\" d=\"M1778.37 1451.02 L1796.73 1451.02 L1796.73 1454.96 L1782.66 1454.96 L1782.66 1463.43 Q1783.67 1463.08 1784.69 1462.92 Q1785.71 1462.73 1786.73 1462.73 Q1792.52 1462.73 1795.9 1465.9 Q1799.28 1469.08 1799.28 1474.49 Q1799.28 1480.07 1795.8 1483.17 Q1792.33 1486.25 1786.01 1486.25 Q1783.84 1486.25 1781.57 1485.88 Q1779.32 1485.51 1776.92 1484.77 L1776.92 1480.07 Q1779 1481.2 1781.22 1481.76 Q1783.44 1482.32 1785.92 1482.32 Q1789.92 1482.32 1792.26 1480.21 Q1794.6 1478.1 1794.6 1474.49 Q1794.6 1470.88 1792.26 1468.77 Q1789.92 1466.67 1785.92 1466.67 Q1784.04 1466.67 1782.17 1467.08 Q1780.32 1467.5 1778.37 1468.38 L1778.37 1451.02 Z\" fill=\"#000000\" fill-rule=\"nonzero\" fill-opacity=\"1\" /><path clip-path=\"url(#clip470)\" d=\"M2232.41 1481.64 L2240.05 1481.64 L2240.05 1455.28 L2231.74 1456.95 L2231.74 1452.69 L2240.01 1451.02 L2244.68 1451.02 L2244.68 1481.64 L2252.32 1481.64 L2252.32 1485.58 L2232.41 1485.58 L2232.41 1481.64 Z\" fill=\"#000000\" fill-rule=\"nonzero\" fill-opacity=\"1\" /><path clip-path=\"url(#clip470)\" d=\"M2271.77 1454.1 Q2268.15 1454.1 2266.33 1457.66 Q2264.52 1461.2 2264.52 1468.33 Q2264.52 1475.44 2266.33 1479.01 Q2268.15 1482.55 2271.77 1482.55 Q2275.4 1482.55 2277.21 1479.01 Q2279.03 1475.44 2279.03 1468.33 Q2279.03 1461.2 2277.21 1457.66 Q2275.4 1454.1 2271.77 1454.1 M2271.77 1450.39 Q2277.58 1450.39 2280.63 1455 Q2283.71 1459.58 2283.71 1468.33 Q2283.71 1477.06 2280.63 1481.67 Q2277.58 1486.25 2271.77 1486.25 Q2265.96 1486.25 2262.88 1481.67 Q2259.82 1477.06 2259.82 1468.33 Q2259.82 1459.58 2262.88 1455 Q2265.96 1450.39 2271.77 1450.39 Z\" fill=\"#000000\" fill-rule=\"nonzero\" fill-opacity=\"1\" /><path clip-path=\"url(#clip470)\" d=\"M2301.93 1454.1 Q2298.32 1454.1 2296.49 1457.66 Q2294.68 1461.2 2294.68 1468.33 Q2294.68 1475.44 2296.49 1479.01 Q2298.32 1482.55 2301.93 1482.55 Q2305.56 1482.55 2307.37 1479.01 Q2309.2 1475.44 2309.2 1468.33 Q2309.2 1461.2 2307.37 1457.66 Q2305.56 1454.1 2301.93 1454.1 M2301.93 1450.39 Q2307.74 1450.39 2310.79 1455 Q2313.87 1459.58 2313.87 1468.33 Q2313.87 1477.06 2310.79 1481.67 Q2307.74 1486.25 2301.93 1486.25 Q2296.12 1486.25 2293.04 1481.67 Q2289.98 1477.06 2289.98 1468.33 Q2289.98 1459.58 2293.04 1455 Q2296.12 1450.39 2301.93 1450.39 Z\" fill=\"#000000\" fill-rule=\"nonzero\" fill-opacity=\"1\" /><path clip-path=\"url(#clip470)\" d=\"M1230.48 1522.27 L1230.48 1532.4 L1242.55 1532.4 L1242.55 1536.95 L1230.48 1536.95 L1230.48 1556.3 Q1230.48 1560.66 1231.66 1561.9 Q1232.87 1563.14 1236.53 1563.14 L1242.55 1563.14 L1242.55 1568.04 L1236.53 1568.04 Q1229.75 1568.04 1227.17 1565.53 Q1224.6 1562.98 1224.6 1556.3 L1224.6 1536.95 L1220.3 1536.95 L1220.3 1532.4 L1224.6 1532.4 L1224.6 1522.27 L1230.48 1522.27 Z\" fill=\"#000000\" fill-rule=\"nonzero\" fill-opacity=\"1\" /><path clip-path=\"url(#clip470)\" d=\"M1250.25 1532.4 L1256.11 1532.4 L1256.11 1568.04 L1250.25 1568.04 L1250.25 1532.4 M1250.25 1518.52 L1256.11 1518.52 L1256.11 1525.93 L1250.25 1525.93 L1250.25 1518.52 Z\" fill=\"#000000\" fill-rule=\"nonzero\" fill-opacity=\"1\" /><path clip-path=\"url(#clip470)\" d=\"M1294.01 1533.76 L1294.01 1539.24 Q1291.53 1537.87 1289.02 1537.2 Q1286.53 1536.5 1283.99 1536.5 Q1278.29 1536.5 1275.14 1540.13 Q1271.99 1543.73 1271.99 1550.25 Q1271.99 1556.78 1275.14 1560.4 Q1278.29 1564 1283.99 1564 Q1286.53 1564 1289.02 1563.33 Q1291.53 1562.63 1294.01 1561.26 L1294.01 1566.68 Q1291.56 1567.82 1288.92 1568.39 Q1286.31 1568.97 1283.35 1568.97 Q1275.3 1568.97 1270.56 1563.91 Q1265.81 1558.85 1265.81 1550.25 Q1265.81 1541.53 1270.59 1536.53 Q1275.39 1531.54 1283.73 1531.54 Q1286.44 1531.54 1289.02 1532.11 Q1291.59 1532.65 1294.01 1533.76 Z\" fill=\"#000000\" fill-rule=\"nonzero\" fill-opacity=\"1\" /><path clip-path=\"url(#clip470)\" d=\"M1303.98 1518.52 L1309.86 1518.52 L1309.86 1547.77 L1327.34 1532.4 L1334.82 1532.4 L1315.91 1549.07 L1335.61 1568.04 L1327.97 1568.04 L1309.86 1550.63 L1309.86 1568.04 L1303.98 1568.04 L1303.98 1518.52 Z\" fill=\"#000000\" fill-rule=\"nonzero\" fill-opacity=\"1\" /><path clip-path=\"url(#clip470)\" d=\"M1364.67 1533.45 L1364.67 1538.98 Q1362.19 1537.71 1359.52 1537.07 Q1356.84 1536.44 1353.98 1536.44 Q1349.62 1536.44 1347.42 1537.77 Q1345.26 1539.11 1345.26 1541.79 Q1345.26 1543.82 1346.82 1545 Q1348.38 1546.15 1353.09 1547.2 L1355.09 1547.64 Q1361.33 1548.98 1363.94 1551.43 Q1366.58 1553.85 1366.58 1558.21 Q1366.58 1563.17 1362.64 1566.07 Q1358.72 1568.97 1351.85 1568.97 Q1348.98 1568.97 1345.86 1568.39 Q1342.77 1567.85 1339.34 1566.74 L1339.34 1560.69 Q1342.58 1562.38 1345.73 1563.24 Q1348.89 1564.07 1351.97 1564.07 Q1356.11 1564.07 1358.34 1562.66 Q1360.57 1561.23 1360.57 1558.65 Q1360.57 1556.27 1358.94 1554.99 Q1357.35 1553.72 1351.91 1552.54 L1349.87 1552.07 Q1344.43 1550.92 1342.01 1548.56 Q1339.59 1546.18 1339.59 1542.04 Q1339.59 1537.01 1343.16 1534.27 Q1346.72 1531.54 1353.28 1531.54 Q1356.52 1531.54 1359.39 1532.01 Q1362.25 1532.49 1364.67 1533.45 Z\" fill=\"#000000\" fill-rule=\"nonzero\" fill-opacity=\"1\" /><polyline clip-path=\"url(#clip472)\" style=\"stroke:#000000; stroke-linecap:round; stroke-linejoin:round; stroke-width:2; stroke-opacity:0.1; fill:none\" points=\"234.125,1368.21 2352.76,1368.21 \"/>\n<polyline clip-path=\"url(#clip472)\" style=\"stroke:#000000; stroke-linecap:round; stroke-linejoin:round; stroke-width:2; stroke-opacity:0.1; fill:none\" points=\"234.125,967.579 2352.76,967.579 \"/>\n<polyline clip-path=\"url(#clip472)\" style=\"stroke:#000000; stroke-linecap:round; stroke-linejoin:round; stroke-width:2; stroke-opacity:0.1; fill:none\" points=\"234.125,566.946 2352.76,566.946 \"/>\n<polyline clip-path=\"url(#clip472)\" style=\"stroke:#000000; stroke-linecap:round; stroke-linejoin:round; stroke-width:2; stroke-opacity:0.1; fill:none\" points=\"234.125,166.312 2352.76,166.312 \"/>\n<polyline clip-path=\"url(#clip470)\" style=\"stroke:#000000; stroke-linecap:round; stroke-linejoin:round; stroke-width:4; stroke-opacity:1; fill:none\" points=\"234.125,1423.18 234.125,47.2441 \"/>\n<polyline clip-path=\"url(#clip470)\" style=\"stroke:#000000; stroke-linecap:round; stroke-linejoin:round; stroke-width:4; stroke-opacity:1; fill:none\" points=\"234.125,1368.21 253.023,1368.21 \"/>\n<polyline clip-path=\"url(#clip470)\" style=\"stroke:#000000; stroke-linecap:round; stroke-linejoin:round; stroke-width:4; stroke-opacity:1; fill:none\" points=\"234.125,967.579 253.023,967.579 \"/>\n<polyline clip-path=\"url(#clip470)\" style=\"stroke:#000000; stroke-linecap:round; stroke-linejoin:round; stroke-width:4; stroke-opacity:1; fill:none\" points=\"234.125,566.946 253.023,566.946 \"/>\n<polyline clip-path=\"url(#clip470)\" style=\"stroke:#000000; stroke-linecap:round; stroke-linejoin:round; stroke-width:4; stroke-opacity:1; fill:none\" points=\"234.125,166.312 253.023,166.312 \"/>\n<path clip-path=\"url(#clip470)\" d=\"M146.066 1350.93 L164.422 1350.93 L164.422 1354.87 L150.348 1354.87 L150.348 1363.34 Q151.366 1362.99 152.385 1362.83 Q153.403 1362.65 154.422 1362.65 Q160.209 1362.65 163.589 1365.82 Q166.968 1368.99 166.968 1374.41 Q166.968 1379.98 163.496 1383.09 Q160.024 1386.16 153.704 1386.16 Q151.528 1386.16 149.26 1385.79 Q147.015 1385.42 144.607 1384.68 L144.607 1379.98 Q146.691 1381.12 148.913 1381.67 Q151.135 1382.23 153.612 1382.23 Q157.616 1382.23 159.954 1380.12 Q162.292 1378.02 162.292 1374.41 Q162.292 1370.79 159.954 1368.69 Q157.616 1366.58 153.612 1366.58 Q151.737 1366.58 149.862 1367 Q148.01 1367.41 146.066 1368.29 L146.066 1350.93 Z\" fill=\"#000000\" fill-rule=\"nonzero\" fill-opacity=\"1\" /><path clip-path=\"url(#clip470)\" d=\"M186.181 1354.01 Q182.57 1354.01 180.741 1357.58 Q178.936 1361.12 178.936 1368.25 Q178.936 1375.35 180.741 1378.92 Q182.57 1382.46 186.181 1382.46 Q189.815 1382.46 191.621 1378.92 Q193.45 1375.35 193.45 1368.25 Q193.45 1361.12 191.621 1357.58 Q189.815 1354.01 186.181 1354.01 M186.181 1350.31 Q191.991 1350.31 195.047 1354.91 Q198.125 1359.5 198.125 1368.25 Q198.125 1376.97 195.047 1381.58 Q191.991 1386.16 186.181 1386.16 Q180.371 1386.16 177.292 1381.58 Q174.237 1376.97 174.237 1368.25 Q174.237 1359.5 177.292 1354.91 Q180.371 1350.31 186.181 1350.31 Z\" fill=\"#000000\" fill-rule=\"nonzero\" fill-opacity=\"1\" /><path clip-path=\"url(#clip470)\" d=\"M116.668 980.924 L124.306 980.924 L124.306 954.559 L115.996 956.225 L115.996 951.966 L124.26 950.299 L128.936 950.299 L128.936 980.924 L136.575 980.924 L136.575 984.859 L116.668 984.859 L116.668 980.924 Z\" fill=\"#000000\" fill-rule=\"nonzero\" fill-opacity=\"1\" /><path clip-path=\"url(#clip470)\" d=\"M156.019 953.378 Q152.408 953.378 150.579 956.943 Q148.774 960.485 148.774 967.614 Q148.774 974.721 150.579 978.285 Q152.408 981.827 156.019 981.827 Q159.653 981.827 161.459 978.285 Q163.288 974.721 163.288 967.614 Q163.288 960.485 161.459 956.943 Q159.653 953.378 156.019 953.378 M156.019 949.674 Q161.829 949.674 164.885 954.281 Q167.964 958.864 167.964 967.614 Q167.964 976.341 164.885 980.947 Q161.829 985.531 156.019 985.531 Q150.209 985.531 147.13 980.947 Q144.075 976.341 144.075 967.614 Q144.075 958.864 147.13 954.281 Q150.209 949.674 156.019 949.674 Z\" fill=\"#000000\" fill-rule=\"nonzero\" fill-opacity=\"1\" /><path clip-path=\"url(#clip470)\" d=\"M186.181 953.378 Q182.57 953.378 180.741 956.943 Q178.936 960.485 178.936 967.614 Q178.936 974.721 180.741 978.285 Q182.57 981.827 186.181 981.827 Q189.815 981.827 191.621 978.285 Q193.45 974.721 193.45 967.614 Q193.45 960.485 191.621 956.943 Q189.815 953.378 186.181 953.378 M186.181 949.674 Q191.991 949.674 195.047 954.281 Q198.125 958.864 198.125 967.614 Q198.125 976.341 195.047 980.947 Q191.991 985.531 186.181 985.531 Q180.371 985.531 177.292 980.947 Q174.237 976.341 174.237 967.614 Q174.237 958.864 177.292 954.281 Q180.371 949.674 186.181 949.674 Z\" fill=\"#000000\" fill-rule=\"nonzero\" fill-opacity=\"1\" /><path clip-path=\"url(#clip470)\" d=\"M116.668 580.291 L124.306 580.291 L124.306 553.925 L115.996 555.592 L115.996 551.333 L124.26 549.666 L128.936 549.666 L128.936 580.291 L136.575 580.291 L136.575 584.226 L116.668 584.226 L116.668 580.291 Z\" fill=\"#000000\" fill-rule=\"nonzero\" fill-opacity=\"1\" /><path clip-path=\"url(#clip470)\" d=\"M146.066 549.666 L164.422 549.666 L164.422 553.601 L150.348 553.601 L150.348 562.073 Q151.366 561.726 152.385 561.564 Q153.403 561.379 154.422 561.379 Q160.209 561.379 163.589 564.55 Q166.968 567.721 166.968 573.138 Q166.968 578.717 163.496 581.818 Q160.024 584.897 153.704 584.897 Q151.528 584.897 149.26 584.527 Q147.015 584.156 144.607 583.416 L144.607 578.717 Q146.691 579.851 148.913 580.406 Q151.135 580.962 153.612 580.962 Q157.616 580.962 159.954 578.856 Q162.292 576.749 162.292 573.138 Q162.292 569.527 159.954 567.42 Q157.616 565.314 153.612 565.314 Q151.737 565.314 149.862 565.731 Q148.01 566.147 146.066 567.027 L146.066 549.666 Z\" fill=\"#000000\" fill-rule=\"nonzero\" fill-opacity=\"1\" /><path clip-path=\"url(#clip470)\" d=\"M186.181 552.745 Q182.57 552.745 180.741 556.309 Q178.936 559.851 178.936 566.981 Q178.936 574.087 180.741 577.652 Q182.57 581.194 186.181 581.194 Q189.815 581.194 191.621 577.652 Q193.45 574.087 193.45 566.981 Q193.45 559.851 191.621 556.309 Q189.815 552.745 186.181 552.745 M186.181 549.041 Q191.991 549.041 195.047 553.647 Q198.125 558.231 198.125 566.981 Q198.125 575.707 195.047 580.314 Q191.991 584.897 186.181 584.897 Q180.371 584.897 177.292 580.314 Q174.237 575.707 174.237 566.981 Q174.237 558.231 177.292 553.647 Q180.371 549.041 186.181 549.041 Z\" fill=\"#000000\" fill-rule=\"nonzero\" fill-opacity=\"1\" /><path clip-path=\"url(#clip470)\" d=\"M119.885 179.657 L136.204 179.657 L136.204 183.592 L114.26 183.592 L114.26 179.657 Q116.922 176.903 121.505 172.273 Q126.112 167.62 127.292 166.278 Q129.538 163.755 130.417 162.018 Q131.32 160.259 131.32 158.569 Q131.32 155.815 129.376 154.079 Q127.455 152.343 124.353 152.343 Q122.154 152.343 119.7 153.106 Q117.269 153.87 114.492 155.421 L114.492 150.699 Q117.316 149.565 119.769 148.986 Q122.223 148.407 124.26 148.407 Q129.63 148.407 132.825 151.093 Q136.019 153.778 136.019 158.268 Q136.019 160.398 135.209 162.319 Q134.422 164.217 132.316 166.81 Q131.737 167.481 128.635 170.699 Q125.533 173.893 119.885 179.657 Z\" fill=\"#000000\" fill-rule=\"nonzero\" fill-opacity=\"1\" /><path clip-path=\"url(#clip470)\" d=\"M156.019 152.111 Q152.408 152.111 150.579 155.676 Q148.774 159.218 148.774 166.347 Q148.774 173.454 150.579 177.018 Q152.408 180.56 156.019 180.56 Q159.653 180.56 161.459 177.018 Q163.288 173.454 163.288 166.347 Q163.288 159.218 161.459 155.676 Q159.653 152.111 156.019 152.111 M156.019 148.407 Q161.829 148.407 164.885 153.014 Q167.964 157.597 167.964 166.347 Q167.964 175.074 164.885 179.68 Q161.829 184.264 156.019 184.264 Q150.209 184.264 147.13 179.68 Q144.075 175.074 144.075 166.347 Q144.075 157.597 147.13 153.014 Q150.209 148.407 156.019 148.407 Z\" fill=\"#000000\" fill-rule=\"nonzero\" fill-opacity=\"1\" /><path clip-path=\"url(#clip470)\" d=\"M186.181 152.111 Q182.57 152.111 180.741 155.676 Q178.936 159.218 178.936 166.347 Q178.936 173.454 180.741 177.018 Q182.57 180.56 186.181 180.56 Q189.815 180.56 191.621 177.018 Q193.45 173.454 193.45 166.347 Q193.45 159.218 191.621 155.676 Q189.815 152.111 186.181 152.111 M186.181 148.407 Q191.991 148.407 195.047 153.014 Q198.125 157.597 198.125 166.347 Q198.125 175.074 195.047 179.68 Q191.991 184.264 186.181 184.264 Q180.371 184.264 177.292 179.68 Q174.237 175.074 174.237 166.347 Q174.237 157.597 177.292 153.014 Q180.371 148.407 186.181 148.407 Z\" fill=\"#000000\" fill-rule=\"nonzero\" fill-opacity=\"1\" /><path clip-path=\"url(#clip470)\" d=\"M42.4881 991.273 L64.0042 991.273 L64.0042 997.129 L42.679 997.129 Q37.6183 997.129 35.1038 999.102 Q32.5894 1001.08 32.5894 1005.02 Q32.5894 1009.76 35.6131 1012.5 Q38.6368 1015.24 43.8567 1015.24 L64.0042 1015.24 L64.0042 1021.13 L28.3562 1021.13 L28.3562 1015.24 L33.8944 1015.24 Q30.6797 1013.14 29.0883 1010.31 Q27.4968 1007.44 27.4968 1003.72 Q27.4968 997.575 31.3163 994.424 Q35.1038 991.273 42.4881 991.273 Z\" fill=\"#000000\" fill-rule=\"nonzero\" fill-opacity=\"1\" /><path clip-path=\"url(#clip470)\" d=\"M49.9359 980.196 L28.3562 980.196 L28.3562 974.34 L49.7131 974.34 Q54.7739 974.34 57.3202 972.366 Q59.8346 970.393 59.8346 966.446 Q59.8346 961.704 56.8109 958.967 Q53.7872 956.197 48.5673 956.197 L28.3562 956.197 L28.3562 950.341 L64.0042 950.341 L64.0042 956.197 L58.5296 956.197 Q61.7762 958.33 63.3676 961.163 Q64.9272 963.964 64.9272 967.688 Q64.9272 973.83 61.1078 977.013 Q57.2883 980.196 49.9359 980.196 M27.4968 965.46 L27.4968 965.46 Z\" fill=\"#000000\" fill-rule=\"nonzero\" fill-opacity=\"1\" /><path clip-path=\"url(#clip470)\" d=\"M35.1993 910.524 Q31.2526 908.327 29.3747 905.272 Q27.4968 902.216 27.4968 898.079 Q27.4968 892.509 31.4117 889.485 Q35.2948 886.461 42.4881 886.461 L64.0042 886.461 L64.0042 892.349 L42.679 892.349 Q37.5546 892.349 35.072 894.164 Q32.5894 895.978 32.5894 899.702 Q32.5894 904.253 35.6131 906.895 Q38.6368 909.537 43.8567 909.537 L64.0042 909.537 L64.0042 915.425 L42.679 915.425 Q37.5228 915.425 35.072 917.239 Q32.5894 919.054 32.5894 922.841 Q32.5894 927.329 35.6449 929.971 Q38.6686 932.613 43.8567 932.613 L64.0042 932.613 L64.0042 938.501 L28.3562 938.501 L28.3562 932.613 L33.8944 932.613 Q30.616 930.607 29.0564 927.806 Q27.4968 925.006 27.4968 921.154 Q27.4968 917.271 29.4702 914.566 Q31.4436 911.828 35.1993 910.524 Z\" fill=\"#000000\" fill-rule=\"nonzero\" fill-opacity=\"1\" /><path clip-path=\"url(#clip470)\" d=\"M46.212 849.19 Q39.7508 849.19 36.0905 851.864 Q32.3984 854.505 32.3984 859.152 Q32.3984 863.799 36.0905 866.473 Q39.7508 869.115 46.212 869.115 Q52.6732 869.115 56.3653 866.473 Q60.0256 863.799 60.0256 859.152 Q60.0256 854.505 56.3653 851.864 Q52.6732 849.19 46.212 849.19 M33.7671 869.115 Q30.5842 867.269 29.0564 864.468 Q27.4968 861.635 27.4968 857.72 Q27.4968 851.227 32.6531 847.185 Q37.8093 843.111 46.212 843.111 Q54.6147 843.111 59.771 847.185 Q64.9272 851.227 64.9272 857.72 Q64.9272 861.635 63.3994 864.468 Q61.8398 867.269 58.657 869.115 L64.0042 869.115 L64.0042 875.003 L14.479 875.003 L14.479 869.115 L33.7671 869.115 Z\" fill=\"#000000\" fill-rule=\"nonzero\" fill-opacity=\"1\" /><path clip-path=\"url(#clip470)\" d=\"M44.7161 802.911 L47.5806 802.911 L47.5806 829.838 Q53.6281 829.456 56.8109 826.21 Q59.9619 822.931 59.9619 817.107 Q59.9619 813.733 59.1344 810.582 Q58.3069 807.399 56.6518 804.28 L62.1899 804.28 Q63.5267 807.431 64.227 810.741 Q64.9272 814.051 64.9272 817.457 Q64.9272 825.987 59.9619 830.984 Q54.9967 835.949 46.5303 835.949 Q37.7774 835.949 32.6531 831.239 Q27.4968 826.496 27.4968 818.475 Q27.4968 811.282 32.1438 807.113 Q36.7589 802.911 44.7161 802.911 M42.9973 808.768 Q38.1912 808.831 35.3266 811.473 Q32.4621 814.083 32.4621 818.412 Q32.4621 823.313 35.2312 826.273 Q38.0002 829.202 43.0292 829.647 L42.9973 808.768 Z\" fill=\"#000000\" fill-rule=\"nonzero\" fill-opacity=\"1\" /><path clip-path=\"url(#clip470)\" d=\"M33.8307 772.642 Q33.2578 773.629 33.0032 774.807 Q32.7167 775.952 32.7167 777.353 Q32.7167 782.318 35.9632 784.992 Q39.1779 787.634 45.2253 787.634 L64.0042 787.634 L64.0042 793.522 L28.3562 793.522 L28.3562 787.634 L33.8944 787.634 Q30.6479 785.788 29.0883 782.827 Q27.4968 779.867 27.4968 775.634 Q27.4968 775.029 27.5923 774.297 Q27.656 773.565 27.8151 772.674 L33.8307 772.642 Z\" fill=\"#000000\" fill-rule=\"nonzero\" fill-opacity=\"1\" /><path clip-path=\"url(#clip470)\" d=\"M32.4621 731.965 Q32.4621 736.676 36.1542 739.413 Q39.8145 742.151 46.212 742.151 Q52.6095 742.151 56.3017 739.445 Q59.9619 736.708 59.9619 731.965 Q59.9619 727.287 56.2698 724.549 Q52.5777 721.812 46.212 721.812 Q39.8781 721.812 36.186 724.549 Q32.4621 727.287 32.4621 731.965 M27.4968 731.965 Q27.4968 724.327 32.4621 719.966 Q37.4273 715.606 46.212 715.606 Q54.9649 715.606 59.9619 719.966 Q64.9272 724.327 64.9272 731.965 Q64.9272 739.636 59.9619 743.997 Q54.9649 748.325 46.212 748.325 Q37.4273 748.325 32.4621 743.997 Q27.4968 739.636 27.4968 731.965 Z\" fill=\"#000000\" fill-rule=\"nonzero\" fill-opacity=\"1\" /><path clip-path=\"url(#clip470)\" d=\"M14.479 687.851 L19.3487 687.851 L19.3487 693.453 Q19.3487 696.604 20.6219 697.845 Q21.895 699.055 25.2052 699.055 L28.3562 699.055 L28.3562 689.411 L32.9077 689.411 L32.9077 699.055 L64.0042 699.055 L64.0042 704.943 L32.9077 704.943 L32.9077 710.545 L28.3562 710.545 L28.3562 704.943 L25.8736 704.943 Q19.9216 704.943 17.2162 702.174 Q14.479 699.405 14.479 693.389 L14.479 687.851 Z\" fill=\"#000000\" fill-rule=\"nonzero\" fill-opacity=\"1\" /><path clip-path=\"url(#clip470)\" d=\"M46.0847 646.028 Q46.0847 653.126 47.7079 655.863 Q49.3312 658.601 53.2461 658.601 Q56.3653 658.601 58.2114 656.564 Q60.0256 654.495 60.0256 650.962 Q60.0256 646.092 56.5881 643.164 Q53.1188 640.204 47.3897 640.204 L46.0847 640.204 L46.0847 646.028 M43.6657 634.347 L64.0042 634.347 L64.0042 640.204 L58.5933 640.204 Q61.8398 642.209 63.3994 645.201 Q64.9272 648.193 64.9272 652.521 Q64.9272 657.996 61.8716 661.242 Q58.7843 664.457 53.6281 664.457 Q47.6125 664.457 44.5569 660.447 Q41.5014 656.405 41.5014 648.416 L41.5014 640.204 L40.9285 640.204 Q36.8862 640.204 34.6901 642.877 Q32.4621 645.519 32.4621 650.325 Q32.4621 653.381 33.1941 656.277 Q33.9262 659.174 35.3903 661.847 L29.9795 661.847 Q28.7381 658.633 28.1334 655.609 Q27.4968 652.585 27.4968 649.721 Q27.4968 641.986 31.5072 638.167 Q35.5176 634.347 43.6657 634.347 Z\" fill=\"#000000\" fill-rule=\"nonzero\" fill-opacity=\"1\" /><path clip-path=\"url(#clip470)\" d=\"M45.7664 598.827 Q39.4007 598.827 35.8996 601.468 Q32.3984 604.078 32.3984 608.821 Q32.3984 613.531 35.8996 616.173 Q39.4007 618.783 45.7664 618.783 Q52.1003 618.783 55.6014 616.173 Q59.1026 613.531 59.1026 608.821 Q59.1026 604.078 55.6014 601.468 Q52.1003 598.827 45.7664 598.827 M59.58 592.97 Q68.683 592.97 73.1071 597.012 Q77.5631 601.055 77.5631 609.394 Q77.5631 612.481 77.0857 615.218 Q76.6401 617.956 75.6852 620.534 L69.9879 620.534 Q71.3884 617.956 72.0568 615.441 Q72.7252 612.927 72.7252 610.317 Q72.7252 604.556 69.7015 601.691 Q66.7096 598.827 60.6303 598.827 L57.7339 598.827 Q60.885 600.641 62.4446 603.474 Q64.0042 606.306 64.0042 610.253 Q64.0042 616.81 59.0071 620.82 Q54.01 624.831 45.7664 624.831 Q37.491 624.831 32.4939 620.82 Q27.4968 616.81 27.4968 610.253 Q27.4968 606.306 29.0564 603.474 Q30.616 600.641 33.7671 598.827 L28.3562 598.827 L28.3562 592.97 L59.58 592.97 Z\" fill=\"#000000\" fill-rule=\"nonzero\" fill-opacity=\"1\" /><path clip-path=\"url(#clip470)\" d=\"M44.7161 550.416 L47.5806 550.416 L47.5806 577.342 Q53.6281 576.961 56.8109 573.714 Q59.9619 570.436 59.9619 564.611 Q59.9619 561.237 59.1344 558.086 Q58.3069 554.903 56.6518 551.784 L62.1899 551.784 Q63.5267 554.935 64.227 558.245 Q64.9272 561.555 64.9272 564.961 Q64.9272 573.491 59.9619 578.488 Q54.9967 583.454 46.5303 583.454 Q37.7774 583.454 32.6531 578.743 Q27.4968 574 27.4968 565.98 Q27.4968 558.786 32.1438 554.617 Q36.7589 550.416 44.7161 550.416 M42.9973 556.272 Q38.1912 556.336 35.3266 558.977 Q32.4621 561.587 32.4621 565.916 Q32.4621 570.818 35.2312 573.778 Q38.0002 576.706 43.0292 577.151 L42.9973 556.272 Z\" fill=\"#000000\" fill-rule=\"nonzero\" fill-opacity=\"1\" /><path clip-path=\"url(#clip470)\" d=\"M42.4881 511.171 L64.0042 511.171 L64.0042 517.027 L42.679 517.027 Q37.6183 517.027 35.1038 519.001 Q32.5894 520.974 32.5894 524.921 Q32.5894 529.663 35.6131 532.401 Q38.6368 535.138 43.8567 535.138 L64.0042 535.138 L64.0042 541.026 L28.3562 541.026 L28.3562 535.138 L33.8944 535.138 Q30.6797 533.037 29.0883 530.204 Q27.4968 527.34 27.4968 523.616 Q27.4968 517.473 31.3163 514.322 Q35.1038 511.171 42.4881 511.171 Z\" fill=\"#000000\" fill-rule=\"nonzero\" fill-opacity=\"1\" /><path clip-path=\"url(#clip470)\" d=\"M18.2347 493.697 L28.3562 493.697 L28.3562 481.634 L32.9077 481.634 L32.9077 493.697 L52.2594 493.697 Q56.6199 493.697 57.8613 492.519 Q59.1026 491.31 59.1026 487.65 L59.1026 481.634 L64.0042 481.634 L64.0042 487.65 Q64.0042 494.429 61.4897 497.007 Q58.9434 499.585 52.2594 499.585 L32.9077 499.585 L32.9077 503.882 L28.3562 503.882 L28.3562 499.585 L18.2347 499.585 L18.2347 493.697 Z\" fill=\"#000000\" fill-rule=\"nonzero\" fill-opacity=\"1\" /><path clip-path=\"url(#clip470)\" d=\"M29.4065 451.206 L34.9447 451.206 Q33.6716 453.689 33.035 456.362 Q32.3984 459.036 32.3984 461.9 Q32.3984 466.261 33.7352 468.457 Q35.072 470.621 37.7456 470.621 Q39.7826 470.621 40.9603 469.062 Q42.1061 467.502 43.1565 462.792 L43.6021 460.786 Q44.9389 454.548 47.3897 451.938 Q49.8086 449.296 54.1691 449.296 Q59.1344 449.296 62.0308 453.243 Q64.9272 457.158 64.9272 464.033 Q64.9272 466.897 64.3543 470.017 Q63.8132 473.104 62.6992 476.541 L56.6518 476.541 Q58.3387 473.295 59.198 470.144 Q60.0256 466.993 60.0256 463.906 Q60.0256 459.768 58.6251 457.54 Q57.1929 455.312 54.6147 455.312 Q52.2276 455.312 50.9545 456.935 Q49.6813 458.527 48.5037 463.969 L48.0262 466.006 Q46.8804 471.449 44.5251 473.868 Q42.138 476.287 38.0002 476.287 Q32.9713 476.287 30.2341 472.722 Q27.4968 469.157 27.4968 462.601 Q27.4968 459.354 27.9743 456.49 Q28.4517 453.625 29.4065 451.206 Z\" fill=\"#000000\" fill-rule=\"nonzero\" fill-opacity=\"1\" /><polyline clip-path=\"url(#clip472)\" style=\"stroke:#009af9; stroke-linecap:round; stroke-linejoin:round; stroke-width:4; stroke-opacity:1; fill:none\" points=\"294.087,486.819 314.074,518.87 334.061,494.832 354.048,486.819 374.035,478.807 394.022,478.807 414.009,454.769 433.996,446.756 453.983,406.692 473.97,438.743 493.957,422.718 513.945,406.692 533.932,382.654 553.919,382.654 573.906,374.642 593.893,382.654 613.88,342.591 633.867,342.591 653.854,334.578 673.841,318.553 693.828,294.515 713.815,254.452 733.802,190.35 753.79,174.325 773.777,182.338 793.764,158.3 813.751,166.312 833.738,126.249 853.725,126.249 873.712,126.249 893.699,134.262 913.686,102.211 933.673,86.1857 953.66,86.1857 973.647,94.1983 993.634,110.224 1013.62,102.211 1033.61,126.249 1053.6,142.274 1073.58,158.3 1093.57,126.249 1113.56,150.287 1133.54,190.35 1153.53,214.388 1173.52,214.388 1193.51,190.35 1213.49,182.338 1233.48,206.376 1253.47,214.388 1273.45,222.401 1293.44,214.388 1313.43,206.376 1333.41,214.388 1353.4,198.363 1373.39,198.363 1393.38,206.376 1413.36,214.388 1433.35,246.439 1453.34,262.464 1473.32,278.49 1493.31,286.502 1513.3,286.502 1533.29,254.452 1553.27,262.464 1573.26,254.452 1593.25,286.502 1613.23,270.477 1633.22,254.452 1653.21,238.426 1673.2,222.401 1693.18,238.426 1713.17,206.376 1733.16,246.439 1753.14,238.426 1773.13,238.426 1793.12,230.414 1813.1,270.477 1833.09,294.515 1853.08,318.553 1873.07,310.54 1893.05,318.553 1913.04,358.616 1933.03,382.654 1953.01,390.667 1973,406.692 1992.99,406.692 2012.98,398.68 2032.96,414.705 2052.95,430.73 2072.94,438.743 2092.92,430.73 2112.91,422.718 2132.9,438.743 2152.89,462.781 2172.87,486.819 2192.86,486.819 2212.85,518.87 2232.83,534.895 2252.82,550.921 2272.81,566.946 2292.79,574.959 \"/>\n<polyline clip-path=\"url(#clip472)\" style=\"stroke:#e26f46; stroke-linecap:round; stroke-linejoin:round; stroke-width:4; stroke-opacity:1; fill:none\" points=\"294.087,1384.24 314.074,1384.24 334.061,1384.24 354.048,1376.23 374.035,1368.21 394.022,1368.21 414.009,1368.21 433.996,1368.21 453.983,1368.21 473.97,1368.21 493.957,1368.21 513.945,1368.21 533.932,1368.21 553.919,1360.2 573.906,1360.2 593.893,1360.2 613.88,1360.2 633.867,1360.2 653.854,1360.2 673.841,1360.2 693.828,1360.2 713.815,1360.2 733.802,1360.2 753.79,1360.2 773.777,1360.2 793.764,1360.2 813.751,1360.2 833.738,1360.2 853.725,1352.19 873.712,1352.19 893.699,1352.19 913.686,1352.19 933.673,1352.19 953.66,1352.19 973.647,1352.19 993.634,1352.19 1013.62,1352.19 1033.61,1336.16 1053.6,1328.15 1073.58,1328.15 1093.57,1328.15 1113.56,1328.15 1133.54,1328.15 1153.53,1328.15 1173.52,1328.15 1193.51,1328.15 1213.49,1328.15 1233.48,1320.14 1253.47,1320.14 1273.45,1320.14 1293.44,1320.14 1313.43,1320.14 1333.41,1320.14 1353.4,1320.14 1373.39,1320.14 1393.38,1320.14 1413.36,1320.14 1433.35,1320.14 1453.34,1304.11 1473.32,1304.11 1493.31,1304.11 1513.3,1304.11 1533.29,1304.11 1553.27,1304.11 1573.26,1304.11 1593.25,1304.11 1613.23,1304.11 1633.22,1296.1 1653.21,1296.1 1673.2,1296.1 1693.18,1296.1 1713.17,1288.09 1733.16,1280.07 1753.14,1280.07 1773.13,1280.07 1793.12,1280.07 1813.1,1280.07 1833.09,1280.07 1853.08,1280.07 1873.07,1272.06 1893.05,1272.06 1913.04,1272.06 1933.03,1272.06 1953.01,1272.06 1973,1272.06 1992.99,1264.05 2012.98,1264.05 2032.96,1256.04 2052.95,1256.04 2072.94,1256.04 2092.92,1256.04 2112.91,1256.04 2132.9,1248.02 2152.89,1248.02 2172.87,1248.02 2192.86,1248.02 2212.85,1248.02 2232.83,1248.02 2252.82,1240.01 2272.81,1240.01 2292.79,1240.01 \"/>\n<path clip-path=\"url(#clip470)\" d=\"M1927.43 248.629 L2282.13 248.629 L2282.13 93.1086 L1927.43 93.1086  Z\" fill=\"#ffffff\" fill-rule=\"evenodd\" fill-opacity=\"1\"/>\n<polyline clip-path=\"url(#clip470)\" style=\"stroke:#000000; stroke-linecap:round; stroke-linejoin:round; stroke-width:4; stroke-opacity:1; fill:none\" points=\"1927.43,248.629 2282.13,248.629 2282.13,93.1086 1927.43,93.1086 1927.43,248.629 \"/>\n<polyline clip-path=\"url(#clip470)\" style=\"stroke:#009af9; stroke-linecap:round; stroke-linejoin:round; stroke-width:4; stroke-opacity:1; fill:none\" points=\"1950.97,144.949 2092.21,144.949 \"/>\n<path clip-path=\"url(#clip470)\" d=\"M2137.99 128.803 L2137.99 133.363 Q2135.33 132.09 2132.97 131.465 Q2130.61 130.84 2128.41 130.84 Q2124.59 130.84 2122.51 132.321 Q2120.45 133.803 2120.45 136.534 Q2120.45 138.826 2121.81 140.007 Q2123.2 141.164 2127.04 141.882 L2129.87 142.46 Q2135.1 143.456 2137.58 145.979 Q2140.08 148.479 2140.08 152.692 Q2140.08 157.715 2136.7 160.307 Q2133.34 162.9 2126.84 162.9 Q2124.38 162.9 2121.6 162.344 Q2118.85 161.789 2115.89 160.701 L2115.89 155.886 Q2118.73 157.483 2121.47 158.293 Q2124.2 159.104 2126.84 159.104 Q2130.84 159.104 2133.02 157.53 Q2135.19 155.956 2135.19 153.039 Q2135.19 150.493 2133.62 149.057 Q2132.07 147.622 2128.5 146.905 L2125.66 146.349 Q2120.42 145.307 2118.09 143.085 Q2115.75 140.863 2115.75 136.905 Q2115.75 132.321 2118.97 129.682 Q2122.21 127.044 2127.88 127.044 Q2130.31 127.044 2132.83 127.483 Q2135.35 127.923 2137.99 128.803 Z\" fill=\"#000000\" fill-rule=\"nonzero\" fill-opacity=\"1\" /><path clip-path=\"url(#clip470)\" d=\"M2168.73 146.581 L2168.73 162.229 L2164.47 162.229 L2164.47 146.719 Q2164.47 143.039 2163.04 141.21 Q2161.6 139.382 2158.73 139.382 Q2155.28 139.382 2153.29 141.581 Q2151.3 143.78 2151.3 147.576 L2151.3 162.229 L2147.02 162.229 L2147.02 126.21 L2151.3 126.21 L2151.3 140.331 Q2152.83 137.993 2154.89 136.835 Q2156.97 135.678 2159.68 135.678 Q2164.15 135.678 2166.44 138.456 Q2168.73 141.21 2168.73 146.581 Z\" fill=\"#000000\" fill-rule=\"nonzero\" fill-opacity=\"1\" /><path clip-path=\"url(#clip470)\" d=\"M2199.41 148.201 L2199.41 150.284 L2179.82 150.284 Q2180.1 154.682 2182.46 156.997 Q2184.84 159.289 2189.08 159.289 Q2191.53 159.289 2193.83 158.687 Q2196.14 158.085 2198.41 156.881 L2198.41 160.909 Q2196.12 161.881 2193.71 162.391 Q2191.3 162.9 2188.83 162.9 Q2182.62 162.9 2178.99 159.289 Q2175.38 155.678 2175.38 149.52 Q2175.38 143.155 2178.8 139.428 Q2182.25 135.678 2188.09 135.678 Q2193.32 135.678 2196.35 139.057 Q2199.41 142.414 2199.41 148.201 M2195.15 146.951 Q2195.1 143.456 2193.18 141.372 Q2191.28 139.289 2188.13 139.289 Q2184.57 139.289 2182.41 141.303 Q2180.28 143.317 2179.96 146.974 L2195.15 146.951 Z\" fill=\"#000000\" fill-rule=\"nonzero\" fill-opacity=\"1\" /><path clip-path=\"url(#clip470)\" d=\"M2228.57 148.201 L2228.57 150.284 L2208.99 150.284 Q2209.27 154.682 2211.63 156.997 Q2214.01 159.289 2218.25 159.289 Q2220.7 159.289 2222.99 158.687 Q2225.31 158.085 2227.58 156.881 L2227.58 160.909 Q2225.28 161.881 2222.88 162.391 Q2220.47 162.9 2217.99 162.9 Q2211.79 162.9 2208.16 159.289 Q2204.54 155.678 2204.54 149.52 Q2204.54 143.155 2207.97 139.428 Q2211.42 135.678 2217.25 135.678 Q2222.48 135.678 2225.52 139.057 Q2228.57 142.414 2228.57 148.201 M2224.31 146.951 Q2224.27 143.456 2222.34 141.372 Q2220.45 139.289 2217.3 139.289 Q2213.73 139.289 2211.58 141.303 Q2209.45 143.317 2209.13 146.974 L2224.31 146.951 Z\" fill=\"#000000\" fill-rule=\"nonzero\" fill-opacity=\"1\" /><path clip-path=\"url(#clip470)\" d=\"M2239.68 158.34 L2239.68 172.09 L2235.4 172.09 L2235.4 136.303 L2239.68 136.303 L2239.68 140.238 Q2241.03 137.923 2243.06 136.812 Q2245.12 135.678 2247.97 135.678 Q2252.69 135.678 2255.63 139.428 Q2258.59 143.178 2258.59 149.289 Q2258.59 155.4 2255.63 159.15 Q2252.69 162.9 2247.97 162.9 Q2245.12 162.9 2243.06 161.789 Q2241.03 160.655 2239.68 158.34 M2254.17 149.289 Q2254.17 144.59 2252.23 141.928 Q2250.31 139.243 2246.93 139.243 Q2243.55 139.243 2241.6 141.928 Q2239.68 144.59 2239.68 149.289 Q2239.68 153.988 2241.6 156.673 Q2243.55 159.335 2246.93 159.335 Q2250.31 159.335 2252.23 156.673 Q2254.17 153.988 2254.17 149.289 Z\" fill=\"#000000\" fill-rule=\"nonzero\" fill-opacity=\"1\" /><polyline clip-path=\"url(#clip470)\" style=\"stroke:#e26f46; stroke-linecap:round; stroke-linejoin:round; stroke-width:4; stroke-opacity:1; fill:none\" points=\"1950.97,196.789 2092.21,196.789 \"/>\n<path clip-path=\"url(#clip470)\" d=\"M2115.75 179.509 L2120.47 179.509 L2127.74 208.721 L2134.98 179.509 L2140.24 179.509 L2147.51 208.721 L2154.75 179.509 L2159.5 179.509 L2150.82 214.069 L2144.94 214.069 L2137.65 184.069 L2130.29 214.069 L2124.41 214.069 L2115.75 179.509 Z\" fill=\"#000000\" fill-rule=\"nonzero\" fill-opacity=\"1\" /><path clip-path=\"url(#clip470)\" d=\"M2172.78 191.129 Q2169.36 191.129 2167.37 193.814 Q2165.38 196.476 2165.38 201.129 Q2165.38 205.782 2167.35 208.467 Q2169.34 211.129 2172.78 211.129 Q2176.19 211.129 2178.18 208.444 Q2180.17 205.758 2180.17 201.129 Q2180.17 196.522 2178.18 193.837 Q2176.19 191.129 2172.78 191.129 M2172.78 187.518 Q2178.34 187.518 2181.51 191.129 Q2184.68 194.74 2184.68 201.129 Q2184.68 207.495 2181.51 211.129 Q2178.34 214.74 2172.78 214.74 Q2167.21 214.74 2164.03 211.129 Q2160.89 207.495 2160.89 201.129 Q2160.89 194.74 2164.03 191.129 Q2167.21 187.518 2172.78 187.518 Z\" fill=\"#000000\" fill-rule=\"nonzero\" fill-opacity=\"1\" /><path clip-path=\"url(#clip470)\" d=\"M2191.74 178.05 L2196 178.05 L2196 214.069 L2191.74 214.069 L2191.74 178.05 Z\" fill=\"#000000\" fill-rule=\"nonzero\" fill-opacity=\"1\" /><path clip-path=\"url(#clip470)\" d=\"M2218.04 178.05 L2218.04 181.592 L2213.97 181.592 Q2211.67 181.592 2210.77 182.518 Q2209.89 183.444 2209.89 185.851 L2209.89 188.143 L2216.9 188.143 L2216.9 191.453 L2209.89 191.453 L2209.89 214.069 L2205.61 214.069 L2205.61 191.453 L2201.53 191.453 L2201.53 188.143 L2205.61 188.143 L2205.61 186.337 Q2205.61 182.009 2207.62 180.041 Q2209.64 178.05 2214.01 178.05 L2218.04 178.05 Z\" fill=\"#000000\" fill-rule=\"nonzero\" fill-opacity=\"1\" /></svg>\n",
      "text/html": [
       "<?xml version=\"1.0\" encoding=\"utf-8\"?>\n",
       "<svg xmlns=\"http://www.w3.org/2000/svg\" xmlns:xlink=\"http://www.w3.org/1999/xlink\" width=\"600\" height=\"400\" viewBox=\"0 0 2400 1600\">\n",
       "<defs>\n",
       "  <clipPath id=\"clip520\">\n",
       "    <rect x=\"0\" y=\"0\" width=\"2400\" height=\"1600\"/>\n",
       "  </clipPath>\n",
       "</defs>\n",
       "<path clip-path=\"url(#clip520)\" d=\"M0 1600 L2400 1600 L2400 0 L0 0  Z\" fill=\"#ffffff\" fill-rule=\"evenodd\" fill-opacity=\"1\"/>\n",
       "<defs>\n",
       "  <clipPath id=\"clip521\">\n",
       "    <rect x=\"480\" y=\"0\" width=\"1681\" height=\"1600\"/>\n",
       "  </clipPath>\n",
       "</defs>\n",
       "<path clip-path=\"url(#clip520)\" d=\"M234.125 1423.18 L2352.76 1423.18 L2352.76 47.2441 L234.125 47.2441  Z\" fill=\"#ffffff\" fill-rule=\"evenodd\" fill-opacity=\"1\"/>\n",
       "<defs>\n",
       "  <clipPath id=\"clip522\">\n",
       "    <rect x=\"234\" y=\"47\" width=\"2120\" height=\"1377\"/>\n",
       "  </clipPath>\n",
       "</defs>\n",
       "<polyline clip-path=\"url(#clip522)\" style=\"stroke:#000000; stroke-linecap:round; stroke-linejoin:round; stroke-width:2; stroke-opacity:0.1; fill:none\" points=\"274.1,1423.18 274.1,47.2441 \"/>\n",
       "<polyline clip-path=\"url(#clip522)\" style=\"stroke:#000000; stroke-linecap:round; stroke-linejoin:round; stroke-width:2; stroke-opacity:0.1; fill:none\" points=\"773.777,1423.18 773.777,47.2441 \"/>\n",
       "<polyline clip-path=\"url(#clip522)\" style=\"stroke:#000000; stroke-linecap:round; stroke-linejoin:round; stroke-width:2; stroke-opacity:0.1; fill:none\" points=\"1273.45,1423.18 1273.45,47.2441 \"/>\n",
       "<polyline clip-path=\"url(#clip522)\" style=\"stroke:#000000; stroke-linecap:round; stroke-linejoin:round; stroke-width:2; stroke-opacity:0.1; fill:none\" points=\"1773.13,1423.18 1773.13,47.2441 \"/>\n",
       "<polyline clip-path=\"url(#clip522)\" style=\"stroke:#000000; stroke-linecap:round; stroke-linejoin:round; stroke-width:2; stroke-opacity:0.1; fill:none\" points=\"2272.81,1423.18 2272.81,47.2441 \"/>\n",
       "<polyline clip-path=\"url(#clip520)\" style=\"stroke:#000000; stroke-linecap:round; stroke-linejoin:round; stroke-width:4; stroke-opacity:1; fill:none\" points=\"234.125,1423.18 2352.76,1423.18 \"/>\n",
       "<polyline clip-path=\"url(#clip520)\" style=\"stroke:#000000; stroke-linecap:round; stroke-linejoin:round; stroke-width:4; stroke-opacity:1; fill:none\" points=\"274.1,1423.18 274.1,1404.28 \"/>\n",
       "<polyline clip-path=\"url(#clip520)\" style=\"stroke:#000000; stroke-linecap:round; stroke-linejoin:round; stroke-width:4; stroke-opacity:1; fill:none\" points=\"773.777,1423.18 773.777,1404.28 \"/>\n",
       "<polyline clip-path=\"url(#clip520)\" style=\"stroke:#000000; stroke-linecap:round; stroke-linejoin:round; stroke-width:4; stroke-opacity:1; fill:none\" points=\"1273.45,1423.18 1273.45,1404.28 \"/>\n",
       "<polyline clip-path=\"url(#clip520)\" style=\"stroke:#000000; stroke-linecap:round; stroke-linejoin:round; stroke-width:4; stroke-opacity:1; fill:none\" points=\"1773.13,1423.18 1773.13,1404.28 \"/>\n",
       "<polyline clip-path=\"url(#clip520)\" style=\"stroke:#000000; stroke-linecap:round; stroke-linejoin:round; stroke-width:4; stroke-opacity:1; fill:none\" points=\"2272.81,1423.18 2272.81,1404.28 \"/>\n",
       "<path clip-path=\"url(#clip520)\" d=\"M274.1 1454.1 Q270.489 1454.1 268.66 1457.66 Q266.854 1461.2 266.854 1468.33 Q266.854 1475.44 268.66 1479.01 Q270.489 1482.55 274.1 1482.55 Q277.734 1482.55 279.539 1479.01 Q281.368 1475.44 281.368 1468.33 Q281.368 1461.2 279.539 1457.66 Q277.734 1454.1 274.1 1454.1 M274.1 1450.39 Q279.91 1450.39 282.965 1455 Q286.044 1459.58 286.044 1468.33 Q286.044 1477.06 282.965 1481.67 Q279.91 1486.25 274.1 1486.25 Q268.289 1486.25 265.211 1481.67 Q262.155 1477.06 262.155 1468.33 Q262.155 1459.58 265.211 1455 Q268.289 1450.39 274.1 1450.39 Z\" fill=\"#000000\" fill-rule=\"nonzero\" fill-opacity=\"1\" /><path clip-path=\"url(#clip520)\" d=\"M753.048 1481.64 L769.367 1481.64 L769.367 1485.58 L747.423 1485.58 L747.423 1481.64 Q750.085 1478.89 754.668 1474.26 Q759.274 1469.61 760.455 1468.27 Q762.7 1465.74 763.58 1464.01 Q764.483 1462.25 764.483 1460.56 Q764.483 1457.8 762.538 1456.07 Q760.617 1454.33 757.515 1454.33 Q755.316 1454.33 752.862 1455.09 Q750.432 1455.86 747.654 1457.41 L747.654 1452.69 Q750.478 1451.55 752.932 1450.97 Q755.385 1450.39 757.423 1450.39 Q762.793 1450.39 765.987 1453.08 Q769.182 1455.77 769.182 1460.26 Q769.182 1462.39 768.372 1464.31 Q767.585 1466.2 765.478 1468.8 Q764.899 1469.47 761.798 1472.69 Q758.696 1475.88 753.048 1481.64 Z\" fill=\"#000000\" fill-rule=\"nonzero\" fill-opacity=\"1\" /><path clip-path=\"url(#clip520)\" d=\"M779.228 1451.02 L797.584 1451.02 L797.584 1454.96 L783.51 1454.96 L783.51 1463.43 Q784.529 1463.08 785.547 1462.92 Q786.566 1462.73 787.584 1462.73 Q793.371 1462.73 796.751 1465.9 Q800.131 1469.08 800.131 1474.49 Q800.131 1480.07 796.658 1483.17 Q793.186 1486.25 786.867 1486.25 Q784.691 1486.25 782.422 1485.88 Q780.177 1485.51 777.77 1484.77 L777.77 1480.07 Q779.853 1481.2 782.075 1481.76 Q784.297 1482.32 786.774 1482.32 Q790.779 1482.32 793.117 1480.21 Q795.455 1478.1 795.455 1474.49 Q795.455 1470.88 793.117 1468.77 Q790.779 1466.67 786.774 1466.67 Q784.899 1466.67 783.024 1467.08 Q781.172 1467.5 779.228 1468.38 L779.228 1451.02 Z\" fill=\"#000000\" fill-rule=\"nonzero\" fill-opacity=\"1\" /><path clip-path=\"url(#clip520)\" d=\"M1248.15 1451.02 L1266.51 1451.02 L1266.51 1454.96 L1252.44 1454.96 L1252.44 1463.43 Q1253.45 1463.08 1254.47 1462.92 Q1255.49 1462.73 1256.51 1462.73 Q1262.3 1462.73 1265.68 1465.9 Q1269.06 1469.08 1269.06 1474.49 Q1269.06 1480.07 1265.58 1483.17 Q1262.11 1486.25 1255.79 1486.25 Q1253.62 1486.25 1251.35 1485.88 Q1249.1 1485.51 1246.69 1484.77 L1246.69 1480.07 Q1248.78 1481.2 1251 1481.76 Q1253.22 1482.32 1255.7 1482.32 Q1259.7 1482.32 1262.04 1480.21 Q1264.38 1478.1 1264.38 1474.49 Q1264.38 1470.88 1262.04 1468.77 Q1259.7 1466.67 1255.7 1466.67 Q1253.82 1466.67 1251.95 1467.08 Q1250.1 1467.5 1248.15 1468.38 L1248.15 1451.02 Z\" fill=\"#000000\" fill-rule=\"nonzero\" fill-opacity=\"1\" /><path clip-path=\"url(#clip520)\" d=\"M1288.27 1454.1 Q1284.66 1454.1 1282.83 1457.66 Q1281.02 1461.2 1281.02 1468.33 Q1281.02 1475.44 1282.83 1479.01 Q1284.66 1482.55 1288.27 1482.55 Q1291.9 1482.55 1293.71 1479.01 Q1295.54 1475.44 1295.54 1468.33 Q1295.54 1461.2 1293.71 1457.66 Q1291.9 1454.1 1288.27 1454.1 M1288.27 1450.39 Q1294.08 1450.39 1297.13 1455 Q1300.21 1459.58 1300.21 1468.33 Q1300.21 1477.06 1297.13 1481.67 Q1294.08 1486.25 1288.27 1486.25 Q1282.46 1486.25 1279.38 1481.67 Q1276.32 1477.06 1276.32 1468.33 Q1276.32 1459.58 1279.38 1455 Q1282.46 1450.39 1288.27 1450.39 Z\" fill=\"#000000\" fill-rule=\"nonzero\" fill-opacity=\"1\" /><path clip-path=\"url(#clip520)\" d=\"M1746.98 1451.02 L1769.21 1451.02 L1769.21 1453.01 L1756.66 1485.58 L1751.78 1485.58 L1763.58 1454.96 L1746.98 1454.96 L1746.98 1451.02 Z\" fill=\"#000000\" fill-rule=\"nonzero\" fill-opacity=\"1\" /><path clip-path=\"url(#clip520)\" d=\"M1778.37 1451.02 L1796.73 1451.02 L1796.73 1454.96 L1782.66 1454.96 L1782.66 1463.43 Q1783.67 1463.08 1784.69 1462.92 Q1785.71 1462.73 1786.73 1462.73 Q1792.52 1462.73 1795.9 1465.9 Q1799.28 1469.08 1799.28 1474.49 Q1799.28 1480.07 1795.8 1483.17 Q1792.33 1486.25 1786.01 1486.25 Q1783.84 1486.25 1781.57 1485.88 Q1779.32 1485.51 1776.92 1484.77 L1776.92 1480.07 Q1779 1481.2 1781.22 1481.76 Q1783.44 1482.32 1785.92 1482.32 Q1789.92 1482.32 1792.26 1480.21 Q1794.6 1478.1 1794.6 1474.49 Q1794.6 1470.88 1792.26 1468.77 Q1789.92 1466.67 1785.92 1466.67 Q1784.04 1466.67 1782.17 1467.08 Q1780.32 1467.5 1778.37 1468.38 L1778.37 1451.02 Z\" fill=\"#000000\" fill-rule=\"nonzero\" fill-opacity=\"1\" /><path clip-path=\"url(#clip520)\" d=\"M2232.41 1481.64 L2240.05 1481.64 L2240.05 1455.28 L2231.74 1456.95 L2231.74 1452.69 L2240.01 1451.02 L2244.68 1451.02 L2244.68 1481.64 L2252.32 1481.64 L2252.32 1485.58 L2232.41 1485.58 L2232.41 1481.64 Z\" fill=\"#000000\" fill-rule=\"nonzero\" fill-opacity=\"1\" /><path clip-path=\"url(#clip520)\" d=\"M2271.77 1454.1 Q2268.15 1454.1 2266.33 1457.66 Q2264.52 1461.2 2264.52 1468.33 Q2264.52 1475.44 2266.33 1479.01 Q2268.15 1482.55 2271.77 1482.55 Q2275.4 1482.55 2277.21 1479.01 Q2279.03 1475.44 2279.03 1468.33 Q2279.03 1461.2 2277.21 1457.66 Q2275.4 1454.1 2271.77 1454.1 M2271.77 1450.39 Q2277.58 1450.39 2280.63 1455 Q2283.71 1459.58 2283.71 1468.33 Q2283.71 1477.06 2280.63 1481.67 Q2277.58 1486.25 2271.77 1486.25 Q2265.96 1486.25 2262.88 1481.67 Q2259.82 1477.06 2259.82 1468.33 Q2259.82 1459.58 2262.88 1455 Q2265.96 1450.39 2271.77 1450.39 Z\" fill=\"#000000\" fill-rule=\"nonzero\" fill-opacity=\"1\" /><path clip-path=\"url(#clip520)\" d=\"M2301.93 1454.1 Q2298.32 1454.1 2296.49 1457.66 Q2294.68 1461.2 2294.68 1468.33 Q2294.68 1475.44 2296.49 1479.01 Q2298.32 1482.55 2301.93 1482.55 Q2305.56 1482.55 2307.37 1479.01 Q2309.2 1475.44 2309.2 1468.33 Q2309.2 1461.2 2307.37 1457.66 Q2305.56 1454.1 2301.93 1454.1 M2301.93 1450.39 Q2307.74 1450.39 2310.79 1455 Q2313.87 1459.58 2313.87 1468.33 Q2313.87 1477.06 2310.79 1481.67 Q2307.74 1486.25 2301.93 1486.25 Q2296.12 1486.25 2293.04 1481.67 Q2289.98 1477.06 2289.98 1468.33 Q2289.98 1459.58 2293.04 1455 Q2296.12 1450.39 2301.93 1450.39 Z\" fill=\"#000000\" fill-rule=\"nonzero\" fill-opacity=\"1\" /><path clip-path=\"url(#clip520)\" d=\"M1230.48 1522.27 L1230.48 1532.4 L1242.55 1532.4 L1242.55 1536.95 L1230.48 1536.95 L1230.48 1556.3 Q1230.48 1560.66 1231.66 1561.9 Q1232.87 1563.14 1236.53 1563.14 L1242.55 1563.14 L1242.55 1568.04 L1236.53 1568.04 Q1229.75 1568.04 1227.17 1565.53 Q1224.6 1562.98 1224.6 1556.3 L1224.6 1536.95 L1220.3 1536.95 L1220.3 1532.4 L1224.6 1532.4 L1224.6 1522.27 L1230.48 1522.27 Z\" fill=\"#000000\" fill-rule=\"nonzero\" fill-opacity=\"1\" /><path clip-path=\"url(#clip520)\" d=\"M1250.25 1532.4 L1256.11 1532.4 L1256.11 1568.04 L1250.25 1568.04 L1250.25 1532.4 M1250.25 1518.52 L1256.11 1518.52 L1256.11 1525.93 L1250.25 1525.93 L1250.25 1518.52 Z\" fill=\"#000000\" fill-rule=\"nonzero\" fill-opacity=\"1\" /><path clip-path=\"url(#clip520)\" d=\"M1294.01 1533.76 L1294.01 1539.24 Q1291.53 1537.87 1289.02 1537.2 Q1286.53 1536.5 1283.99 1536.5 Q1278.29 1536.5 1275.14 1540.13 Q1271.99 1543.73 1271.99 1550.25 Q1271.99 1556.78 1275.14 1560.4 Q1278.29 1564 1283.99 1564 Q1286.53 1564 1289.02 1563.33 Q1291.53 1562.63 1294.01 1561.26 L1294.01 1566.68 Q1291.56 1567.82 1288.92 1568.39 Q1286.31 1568.97 1283.35 1568.97 Q1275.3 1568.97 1270.56 1563.91 Q1265.81 1558.85 1265.81 1550.25 Q1265.81 1541.53 1270.59 1536.53 Q1275.39 1531.54 1283.73 1531.54 Q1286.44 1531.54 1289.02 1532.11 Q1291.59 1532.65 1294.01 1533.76 Z\" fill=\"#000000\" fill-rule=\"nonzero\" fill-opacity=\"1\" /><path clip-path=\"url(#clip520)\" d=\"M1303.98 1518.52 L1309.86 1518.52 L1309.86 1547.77 L1327.34 1532.4 L1334.82 1532.4 L1315.91 1549.07 L1335.61 1568.04 L1327.97 1568.04 L1309.86 1550.63 L1309.86 1568.04 L1303.98 1568.04 L1303.98 1518.52 Z\" fill=\"#000000\" fill-rule=\"nonzero\" fill-opacity=\"1\" /><path clip-path=\"url(#clip520)\" d=\"M1364.67 1533.45 L1364.67 1538.98 Q1362.19 1537.71 1359.52 1537.07 Q1356.84 1536.44 1353.98 1536.44 Q1349.62 1536.44 1347.42 1537.77 Q1345.26 1539.11 1345.26 1541.79 Q1345.26 1543.82 1346.82 1545 Q1348.38 1546.15 1353.09 1547.2 L1355.09 1547.64 Q1361.33 1548.98 1363.94 1551.43 Q1366.58 1553.85 1366.58 1558.21 Q1366.58 1563.17 1362.64 1566.07 Q1358.72 1568.97 1351.85 1568.97 Q1348.98 1568.97 1345.86 1568.39 Q1342.77 1567.85 1339.34 1566.74 L1339.34 1560.69 Q1342.58 1562.38 1345.73 1563.24 Q1348.89 1564.07 1351.97 1564.07 Q1356.11 1564.07 1358.34 1562.66 Q1360.57 1561.23 1360.57 1558.65 Q1360.57 1556.27 1358.94 1554.99 Q1357.35 1553.72 1351.91 1552.54 L1349.87 1552.07 Q1344.43 1550.92 1342.01 1548.56 Q1339.59 1546.18 1339.59 1542.04 Q1339.59 1537.01 1343.16 1534.27 Q1346.72 1531.54 1353.28 1531.54 Q1356.52 1531.54 1359.39 1532.01 Q1362.25 1532.49 1364.67 1533.45 Z\" fill=\"#000000\" fill-rule=\"nonzero\" fill-opacity=\"1\" /><polyline clip-path=\"url(#clip522)\" style=\"stroke:#000000; stroke-linecap:round; stroke-linejoin:round; stroke-width:2; stroke-opacity:0.1; fill:none\" points=\"234.125,1368.21 2352.76,1368.21 \"/>\n",
       "<polyline clip-path=\"url(#clip522)\" style=\"stroke:#000000; stroke-linecap:round; stroke-linejoin:round; stroke-width:2; stroke-opacity:0.1; fill:none\" points=\"234.125,967.579 2352.76,967.579 \"/>\n",
       "<polyline clip-path=\"url(#clip522)\" style=\"stroke:#000000; stroke-linecap:round; stroke-linejoin:round; stroke-width:2; stroke-opacity:0.1; fill:none\" points=\"234.125,566.946 2352.76,566.946 \"/>\n",
       "<polyline clip-path=\"url(#clip522)\" style=\"stroke:#000000; stroke-linecap:round; stroke-linejoin:round; stroke-width:2; stroke-opacity:0.1; fill:none\" points=\"234.125,166.312 2352.76,166.312 \"/>\n",
       "<polyline clip-path=\"url(#clip520)\" style=\"stroke:#000000; stroke-linecap:round; stroke-linejoin:round; stroke-width:4; stroke-opacity:1; fill:none\" points=\"234.125,1423.18 234.125,47.2441 \"/>\n",
       "<polyline clip-path=\"url(#clip520)\" style=\"stroke:#000000; stroke-linecap:round; stroke-linejoin:round; stroke-width:4; stroke-opacity:1; fill:none\" points=\"234.125,1368.21 253.023,1368.21 \"/>\n",
       "<polyline clip-path=\"url(#clip520)\" style=\"stroke:#000000; stroke-linecap:round; stroke-linejoin:round; stroke-width:4; stroke-opacity:1; fill:none\" points=\"234.125,967.579 253.023,967.579 \"/>\n",
       "<polyline clip-path=\"url(#clip520)\" style=\"stroke:#000000; stroke-linecap:round; stroke-linejoin:round; stroke-width:4; stroke-opacity:1; fill:none\" points=\"234.125,566.946 253.023,566.946 \"/>\n",
       "<polyline clip-path=\"url(#clip520)\" style=\"stroke:#000000; stroke-linecap:round; stroke-linejoin:round; stroke-width:4; stroke-opacity:1; fill:none\" points=\"234.125,166.312 253.023,166.312 \"/>\n",
       "<path clip-path=\"url(#clip520)\" d=\"M146.066 1350.93 L164.422 1350.93 L164.422 1354.87 L150.348 1354.87 L150.348 1363.34 Q151.366 1362.99 152.385 1362.83 Q153.403 1362.65 154.422 1362.65 Q160.209 1362.65 163.589 1365.82 Q166.968 1368.99 166.968 1374.41 Q166.968 1379.98 163.496 1383.09 Q160.024 1386.16 153.704 1386.16 Q151.528 1386.16 149.26 1385.79 Q147.015 1385.42 144.607 1384.68 L144.607 1379.98 Q146.691 1381.12 148.913 1381.67 Q151.135 1382.23 153.612 1382.23 Q157.616 1382.23 159.954 1380.12 Q162.292 1378.02 162.292 1374.41 Q162.292 1370.79 159.954 1368.69 Q157.616 1366.58 153.612 1366.58 Q151.737 1366.58 149.862 1367 Q148.01 1367.41 146.066 1368.29 L146.066 1350.93 Z\" fill=\"#000000\" fill-rule=\"nonzero\" fill-opacity=\"1\" /><path clip-path=\"url(#clip520)\" d=\"M186.181 1354.01 Q182.57 1354.01 180.741 1357.58 Q178.936 1361.12 178.936 1368.25 Q178.936 1375.35 180.741 1378.92 Q182.57 1382.46 186.181 1382.46 Q189.815 1382.46 191.621 1378.92 Q193.45 1375.35 193.45 1368.25 Q193.45 1361.12 191.621 1357.58 Q189.815 1354.01 186.181 1354.01 M186.181 1350.31 Q191.991 1350.31 195.047 1354.91 Q198.125 1359.5 198.125 1368.25 Q198.125 1376.97 195.047 1381.58 Q191.991 1386.16 186.181 1386.16 Q180.371 1386.16 177.292 1381.58 Q174.237 1376.97 174.237 1368.25 Q174.237 1359.5 177.292 1354.91 Q180.371 1350.31 186.181 1350.31 Z\" fill=\"#000000\" fill-rule=\"nonzero\" fill-opacity=\"1\" /><path clip-path=\"url(#clip520)\" d=\"M116.668 980.924 L124.306 980.924 L124.306 954.559 L115.996 956.225 L115.996 951.966 L124.26 950.299 L128.936 950.299 L128.936 980.924 L136.575 980.924 L136.575 984.859 L116.668 984.859 L116.668 980.924 Z\" fill=\"#000000\" fill-rule=\"nonzero\" fill-opacity=\"1\" /><path clip-path=\"url(#clip520)\" d=\"M156.019 953.378 Q152.408 953.378 150.579 956.943 Q148.774 960.485 148.774 967.614 Q148.774 974.721 150.579 978.285 Q152.408 981.827 156.019 981.827 Q159.653 981.827 161.459 978.285 Q163.288 974.721 163.288 967.614 Q163.288 960.485 161.459 956.943 Q159.653 953.378 156.019 953.378 M156.019 949.674 Q161.829 949.674 164.885 954.281 Q167.964 958.864 167.964 967.614 Q167.964 976.341 164.885 980.947 Q161.829 985.531 156.019 985.531 Q150.209 985.531 147.13 980.947 Q144.075 976.341 144.075 967.614 Q144.075 958.864 147.13 954.281 Q150.209 949.674 156.019 949.674 Z\" fill=\"#000000\" fill-rule=\"nonzero\" fill-opacity=\"1\" /><path clip-path=\"url(#clip520)\" d=\"M186.181 953.378 Q182.57 953.378 180.741 956.943 Q178.936 960.485 178.936 967.614 Q178.936 974.721 180.741 978.285 Q182.57 981.827 186.181 981.827 Q189.815 981.827 191.621 978.285 Q193.45 974.721 193.45 967.614 Q193.45 960.485 191.621 956.943 Q189.815 953.378 186.181 953.378 M186.181 949.674 Q191.991 949.674 195.047 954.281 Q198.125 958.864 198.125 967.614 Q198.125 976.341 195.047 980.947 Q191.991 985.531 186.181 985.531 Q180.371 985.531 177.292 980.947 Q174.237 976.341 174.237 967.614 Q174.237 958.864 177.292 954.281 Q180.371 949.674 186.181 949.674 Z\" fill=\"#000000\" fill-rule=\"nonzero\" fill-opacity=\"1\" /><path clip-path=\"url(#clip520)\" d=\"M116.668 580.291 L124.306 580.291 L124.306 553.925 L115.996 555.592 L115.996 551.333 L124.26 549.666 L128.936 549.666 L128.936 580.291 L136.575 580.291 L136.575 584.226 L116.668 584.226 L116.668 580.291 Z\" fill=\"#000000\" fill-rule=\"nonzero\" fill-opacity=\"1\" /><path clip-path=\"url(#clip520)\" d=\"M146.066 549.666 L164.422 549.666 L164.422 553.601 L150.348 553.601 L150.348 562.073 Q151.366 561.726 152.385 561.564 Q153.403 561.379 154.422 561.379 Q160.209 561.379 163.589 564.55 Q166.968 567.721 166.968 573.138 Q166.968 578.717 163.496 581.818 Q160.024 584.897 153.704 584.897 Q151.528 584.897 149.26 584.527 Q147.015 584.156 144.607 583.416 L144.607 578.717 Q146.691 579.851 148.913 580.406 Q151.135 580.962 153.612 580.962 Q157.616 580.962 159.954 578.856 Q162.292 576.749 162.292 573.138 Q162.292 569.527 159.954 567.42 Q157.616 565.314 153.612 565.314 Q151.737 565.314 149.862 565.731 Q148.01 566.147 146.066 567.027 L146.066 549.666 Z\" fill=\"#000000\" fill-rule=\"nonzero\" fill-opacity=\"1\" /><path clip-path=\"url(#clip520)\" d=\"M186.181 552.745 Q182.57 552.745 180.741 556.309 Q178.936 559.851 178.936 566.981 Q178.936 574.087 180.741 577.652 Q182.57 581.194 186.181 581.194 Q189.815 581.194 191.621 577.652 Q193.45 574.087 193.45 566.981 Q193.45 559.851 191.621 556.309 Q189.815 552.745 186.181 552.745 M186.181 549.041 Q191.991 549.041 195.047 553.647 Q198.125 558.231 198.125 566.981 Q198.125 575.707 195.047 580.314 Q191.991 584.897 186.181 584.897 Q180.371 584.897 177.292 580.314 Q174.237 575.707 174.237 566.981 Q174.237 558.231 177.292 553.647 Q180.371 549.041 186.181 549.041 Z\" fill=\"#000000\" fill-rule=\"nonzero\" fill-opacity=\"1\" /><path clip-path=\"url(#clip520)\" d=\"M119.885 179.657 L136.204 179.657 L136.204 183.592 L114.26 183.592 L114.26 179.657 Q116.922 176.903 121.505 172.273 Q126.112 167.62 127.292 166.278 Q129.538 163.755 130.417 162.018 Q131.32 160.259 131.32 158.569 Q131.32 155.815 129.376 154.079 Q127.455 152.343 124.353 152.343 Q122.154 152.343 119.7 153.106 Q117.269 153.87 114.492 155.421 L114.492 150.699 Q117.316 149.565 119.769 148.986 Q122.223 148.407 124.26 148.407 Q129.63 148.407 132.825 151.093 Q136.019 153.778 136.019 158.268 Q136.019 160.398 135.209 162.319 Q134.422 164.217 132.316 166.81 Q131.737 167.481 128.635 170.699 Q125.533 173.893 119.885 179.657 Z\" fill=\"#000000\" fill-rule=\"nonzero\" fill-opacity=\"1\" /><path clip-path=\"url(#clip520)\" d=\"M156.019 152.111 Q152.408 152.111 150.579 155.676 Q148.774 159.218 148.774 166.347 Q148.774 173.454 150.579 177.018 Q152.408 180.56 156.019 180.56 Q159.653 180.56 161.459 177.018 Q163.288 173.454 163.288 166.347 Q163.288 159.218 161.459 155.676 Q159.653 152.111 156.019 152.111 M156.019 148.407 Q161.829 148.407 164.885 153.014 Q167.964 157.597 167.964 166.347 Q167.964 175.074 164.885 179.68 Q161.829 184.264 156.019 184.264 Q150.209 184.264 147.13 179.68 Q144.075 175.074 144.075 166.347 Q144.075 157.597 147.13 153.014 Q150.209 148.407 156.019 148.407 Z\" fill=\"#000000\" fill-rule=\"nonzero\" fill-opacity=\"1\" /><path clip-path=\"url(#clip520)\" d=\"M186.181 152.111 Q182.57 152.111 180.741 155.676 Q178.936 159.218 178.936 166.347 Q178.936 173.454 180.741 177.018 Q182.57 180.56 186.181 180.56 Q189.815 180.56 191.621 177.018 Q193.45 173.454 193.45 166.347 Q193.45 159.218 191.621 155.676 Q189.815 152.111 186.181 152.111 M186.181 148.407 Q191.991 148.407 195.047 153.014 Q198.125 157.597 198.125 166.347 Q198.125 175.074 195.047 179.68 Q191.991 184.264 186.181 184.264 Q180.371 184.264 177.292 179.68 Q174.237 175.074 174.237 166.347 Q174.237 157.597 177.292 153.014 Q180.371 148.407 186.181 148.407 Z\" fill=\"#000000\" fill-rule=\"nonzero\" fill-opacity=\"1\" /><path clip-path=\"url(#clip520)\" d=\"M42.4881 991.273 L64.0042 991.273 L64.0042 997.129 L42.679 997.129 Q37.6183 997.129 35.1038 999.102 Q32.5894 1001.08 32.5894 1005.02 Q32.5894 1009.76 35.6131 1012.5 Q38.6368 1015.24 43.8567 1015.24 L64.0042 1015.24 L64.0042 1021.13 L28.3562 1021.13 L28.3562 1015.24 L33.8944 1015.24 Q30.6797 1013.14 29.0883 1010.31 Q27.4968 1007.44 27.4968 1003.72 Q27.4968 997.575 31.3163 994.424 Q35.1038 991.273 42.4881 991.273 Z\" fill=\"#000000\" fill-rule=\"nonzero\" fill-opacity=\"1\" /><path clip-path=\"url(#clip520)\" d=\"M49.9359 980.196 L28.3562 980.196 L28.3562 974.34 L49.7131 974.34 Q54.7739 974.34 57.3202 972.366 Q59.8346 970.393 59.8346 966.446 Q59.8346 961.704 56.8109 958.967 Q53.7872 956.197 48.5673 956.197 L28.3562 956.197 L28.3562 950.341 L64.0042 950.341 L64.0042 956.197 L58.5296 956.197 Q61.7762 958.33 63.3676 961.163 Q64.9272 963.964 64.9272 967.688 Q64.9272 973.83 61.1078 977.013 Q57.2883 980.196 49.9359 980.196 M27.4968 965.46 L27.4968 965.46 Z\" fill=\"#000000\" fill-rule=\"nonzero\" fill-opacity=\"1\" /><path clip-path=\"url(#clip520)\" d=\"M35.1993 910.524 Q31.2526 908.327 29.3747 905.272 Q27.4968 902.216 27.4968 898.079 Q27.4968 892.509 31.4117 889.485 Q35.2948 886.461 42.4881 886.461 L64.0042 886.461 L64.0042 892.349 L42.679 892.349 Q37.5546 892.349 35.072 894.164 Q32.5894 895.978 32.5894 899.702 Q32.5894 904.253 35.6131 906.895 Q38.6368 909.537 43.8567 909.537 L64.0042 909.537 L64.0042 915.425 L42.679 915.425 Q37.5228 915.425 35.072 917.239 Q32.5894 919.054 32.5894 922.841 Q32.5894 927.329 35.6449 929.971 Q38.6686 932.613 43.8567 932.613 L64.0042 932.613 L64.0042 938.501 L28.3562 938.501 L28.3562 932.613 L33.8944 932.613 Q30.616 930.607 29.0564 927.806 Q27.4968 925.006 27.4968 921.154 Q27.4968 917.271 29.4702 914.566 Q31.4436 911.828 35.1993 910.524 Z\" fill=\"#000000\" fill-rule=\"nonzero\" fill-opacity=\"1\" /><path clip-path=\"url(#clip520)\" d=\"M46.212 849.19 Q39.7508 849.19 36.0905 851.864 Q32.3984 854.505 32.3984 859.152 Q32.3984 863.799 36.0905 866.473 Q39.7508 869.115 46.212 869.115 Q52.6732 869.115 56.3653 866.473 Q60.0256 863.799 60.0256 859.152 Q60.0256 854.505 56.3653 851.864 Q52.6732 849.19 46.212 849.19 M33.7671 869.115 Q30.5842 867.269 29.0564 864.468 Q27.4968 861.635 27.4968 857.72 Q27.4968 851.227 32.6531 847.185 Q37.8093 843.111 46.212 843.111 Q54.6147 843.111 59.771 847.185 Q64.9272 851.227 64.9272 857.72 Q64.9272 861.635 63.3994 864.468 Q61.8398 867.269 58.657 869.115 L64.0042 869.115 L64.0042 875.003 L14.479 875.003 L14.479 869.115 L33.7671 869.115 Z\" fill=\"#000000\" fill-rule=\"nonzero\" fill-opacity=\"1\" /><path clip-path=\"url(#clip520)\" d=\"M44.7161 802.911 L47.5806 802.911 L47.5806 829.838 Q53.6281 829.456 56.8109 826.21 Q59.9619 822.931 59.9619 817.107 Q59.9619 813.733 59.1344 810.582 Q58.3069 807.399 56.6518 804.28 L62.1899 804.28 Q63.5267 807.431 64.227 810.741 Q64.9272 814.051 64.9272 817.457 Q64.9272 825.987 59.9619 830.984 Q54.9967 835.949 46.5303 835.949 Q37.7774 835.949 32.6531 831.239 Q27.4968 826.496 27.4968 818.475 Q27.4968 811.282 32.1438 807.113 Q36.7589 802.911 44.7161 802.911 M42.9973 808.768 Q38.1912 808.831 35.3266 811.473 Q32.4621 814.083 32.4621 818.412 Q32.4621 823.313 35.2312 826.273 Q38.0002 829.202 43.0292 829.647 L42.9973 808.768 Z\" fill=\"#000000\" fill-rule=\"nonzero\" fill-opacity=\"1\" /><path clip-path=\"url(#clip520)\" d=\"M33.8307 772.642 Q33.2578 773.629 33.0032 774.807 Q32.7167 775.952 32.7167 777.353 Q32.7167 782.318 35.9632 784.992 Q39.1779 787.634 45.2253 787.634 L64.0042 787.634 L64.0042 793.522 L28.3562 793.522 L28.3562 787.634 L33.8944 787.634 Q30.6479 785.788 29.0883 782.827 Q27.4968 779.867 27.4968 775.634 Q27.4968 775.029 27.5923 774.297 Q27.656 773.565 27.8151 772.674 L33.8307 772.642 Z\" fill=\"#000000\" fill-rule=\"nonzero\" fill-opacity=\"1\" /><path clip-path=\"url(#clip520)\" d=\"M32.4621 731.965 Q32.4621 736.676 36.1542 739.413 Q39.8145 742.151 46.212 742.151 Q52.6095 742.151 56.3017 739.445 Q59.9619 736.708 59.9619 731.965 Q59.9619 727.287 56.2698 724.549 Q52.5777 721.812 46.212 721.812 Q39.8781 721.812 36.186 724.549 Q32.4621 727.287 32.4621 731.965 M27.4968 731.965 Q27.4968 724.327 32.4621 719.966 Q37.4273 715.606 46.212 715.606 Q54.9649 715.606 59.9619 719.966 Q64.9272 724.327 64.9272 731.965 Q64.9272 739.636 59.9619 743.997 Q54.9649 748.325 46.212 748.325 Q37.4273 748.325 32.4621 743.997 Q27.4968 739.636 27.4968 731.965 Z\" fill=\"#000000\" fill-rule=\"nonzero\" fill-opacity=\"1\" /><path clip-path=\"url(#clip520)\" d=\"M14.479 687.851 L19.3487 687.851 L19.3487 693.453 Q19.3487 696.604 20.6219 697.845 Q21.895 699.055 25.2052 699.055 L28.3562 699.055 L28.3562 689.411 L32.9077 689.411 L32.9077 699.055 L64.0042 699.055 L64.0042 704.943 L32.9077 704.943 L32.9077 710.545 L28.3562 710.545 L28.3562 704.943 L25.8736 704.943 Q19.9216 704.943 17.2162 702.174 Q14.479 699.405 14.479 693.389 L14.479 687.851 Z\" fill=\"#000000\" fill-rule=\"nonzero\" fill-opacity=\"1\" /><path clip-path=\"url(#clip520)\" d=\"M46.0847 646.028 Q46.0847 653.126 47.7079 655.863 Q49.3312 658.601 53.2461 658.601 Q56.3653 658.601 58.2114 656.564 Q60.0256 654.495 60.0256 650.962 Q60.0256 646.092 56.5881 643.164 Q53.1188 640.204 47.3897 640.204 L46.0847 640.204 L46.0847 646.028 M43.6657 634.347 L64.0042 634.347 L64.0042 640.204 L58.5933 640.204 Q61.8398 642.209 63.3994 645.201 Q64.9272 648.193 64.9272 652.521 Q64.9272 657.996 61.8716 661.242 Q58.7843 664.457 53.6281 664.457 Q47.6125 664.457 44.5569 660.447 Q41.5014 656.405 41.5014 648.416 L41.5014 640.204 L40.9285 640.204 Q36.8862 640.204 34.6901 642.877 Q32.4621 645.519 32.4621 650.325 Q32.4621 653.381 33.1941 656.277 Q33.9262 659.174 35.3903 661.847 L29.9795 661.847 Q28.7381 658.633 28.1334 655.609 Q27.4968 652.585 27.4968 649.721 Q27.4968 641.986 31.5072 638.167 Q35.5176 634.347 43.6657 634.347 Z\" fill=\"#000000\" fill-rule=\"nonzero\" fill-opacity=\"1\" /><path clip-path=\"url(#clip520)\" d=\"M45.7664 598.827 Q39.4007 598.827 35.8996 601.468 Q32.3984 604.078 32.3984 608.821 Q32.3984 613.531 35.8996 616.173 Q39.4007 618.783 45.7664 618.783 Q52.1003 618.783 55.6014 616.173 Q59.1026 613.531 59.1026 608.821 Q59.1026 604.078 55.6014 601.468 Q52.1003 598.827 45.7664 598.827 M59.58 592.97 Q68.683 592.97 73.1071 597.012 Q77.5631 601.055 77.5631 609.394 Q77.5631 612.481 77.0857 615.218 Q76.6401 617.956 75.6852 620.534 L69.9879 620.534 Q71.3884 617.956 72.0568 615.441 Q72.7252 612.927 72.7252 610.317 Q72.7252 604.556 69.7015 601.691 Q66.7096 598.827 60.6303 598.827 L57.7339 598.827 Q60.885 600.641 62.4446 603.474 Q64.0042 606.306 64.0042 610.253 Q64.0042 616.81 59.0071 620.82 Q54.01 624.831 45.7664 624.831 Q37.491 624.831 32.4939 620.82 Q27.4968 616.81 27.4968 610.253 Q27.4968 606.306 29.0564 603.474 Q30.616 600.641 33.7671 598.827 L28.3562 598.827 L28.3562 592.97 L59.58 592.97 Z\" fill=\"#000000\" fill-rule=\"nonzero\" fill-opacity=\"1\" /><path clip-path=\"url(#clip520)\" d=\"M44.7161 550.416 L47.5806 550.416 L47.5806 577.342 Q53.6281 576.961 56.8109 573.714 Q59.9619 570.436 59.9619 564.611 Q59.9619 561.237 59.1344 558.086 Q58.3069 554.903 56.6518 551.784 L62.1899 551.784 Q63.5267 554.935 64.227 558.245 Q64.9272 561.555 64.9272 564.961 Q64.9272 573.491 59.9619 578.488 Q54.9967 583.454 46.5303 583.454 Q37.7774 583.454 32.6531 578.743 Q27.4968 574 27.4968 565.98 Q27.4968 558.786 32.1438 554.617 Q36.7589 550.416 44.7161 550.416 M42.9973 556.272 Q38.1912 556.336 35.3266 558.977 Q32.4621 561.587 32.4621 565.916 Q32.4621 570.818 35.2312 573.778 Q38.0002 576.706 43.0292 577.151 L42.9973 556.272 Z\" fill=\"#000000\" fill-rule=\"nonzero\" fill-opacity=\"1\" /><path clip-path=\"url(#clip520)\" d=\"M42.4881 511.171 L64.0042 511.171 L64.0042 517.027 L42.679 517.027 Q37.6183 517.027 35.1038 519.001 Q32.5894 520.974 32.5894 524.921 Q32.5894 529.663 35.6131 532.401 Q38.6368 535.138 43.8567 535.138 L64.0042 535.138 L64.0042 541.026 L28.3562 541.026 L28.3562 535.138 L33.8944 535.138 Q30.6797 533.037 29.0883 530.204 Q27.4968 527.34 27.4968 523.616 Q27.4968 517.473 31.3163 514.322 Q35.1038 511.171 42.4881 511.171 Z\" fill=\"#000000\" fill-rule=\"nonzero\" fill-opacity=\"1\" /><path clip-path=\"url(#clip520)\" d=\"M18.2347 493.697 L28.3562 493.697 L28.3562 481.634 L32.9077 481.634 L32.9077 493.697 L52.2594 493.697 Q56.6199 493.697 57.8613 492.519 Q59.1026 491.31 59.1026 487.65 L59.1026 481.634 L64.0042 481.634 L64.0042 487.65 Q64.0042 494.429 61.4897 497.007 Q58.9434 499.585 52.2594 499.585 L32.9077 499.585 L32.9077 503.882 L28.3562 503.882 L28.3562 499.585 L18.2347 499.585 L18.2347 493.697 Z\" fill=\"#000000\" fill-rule=\"nonzero\" fill-opacity=\"1\" /><path clip-path=\"url(#clip520)\" d=\"M29.4065 451.206 L34.9447 451.206 Q33.6716 453.689 33.035 456.362 Q32.3984 459.036 32.3984 461.9 Q32.3984 466.261 33.7352 468.457 Q35.072 470.621 37.7456 470.621 Q39.7826 470.621 40.9603 469.062 Q42.1061 467.502 43.1565 462.792 L43.6021 460.786 Q44.9389 454.548 47.3897 451.938 Q49.8086 449.296 54.1691 449.296 Q59.1344 449.296 62.0308 453.243 Q64.9272 457.158 64.9272 464.033 Q64.9272 466.897 64.3543 470.017 Q63.8132 473.104 62.6992 476.541 L56.6518 476.541 Q58.3387 473.295 59.198 470.144 Q60.0256 466.993 60.0256 463.906 Q60.0256 459.768 58.6251 457.54 Q57.1929 455.312 54.6147 455.312 Q52.2276 455.312 50.9545 456.935 Q49.6813 458.527 48.5037 463.969 L48.0262 466.006 Q46.8804 471.449 44.5251 473.868 Q42.138 476.287 38.0002 476.287 Q32.9713 476.287 30.2341 472.722 Q27.4968 469.157 27.4968 462.601 Q27.4968 459.354 27.9743 456.49 Q28.4517 453.625 29.4065 451.206 Z\" fill=\"#000000\" fill-rule=\"nonzero\" fill-opacity=\"1\" /><polyline clip-path=\"url(#clip522)\" style=\"stroke:#009af9; stroke-linecap:round; stroke-linejoin:round; stroke-width:4; stroke-opacity:1; fill:none\" points=\"294.087,486.819 314.074,518.87 334.061,494.832 354.048,486.819 374.035,478.807 394.022,478.807 414.009,454.769 433.996,446.756 453.983,406.692 473.97,438.743 493.957,422.718 513.945,406.692 533.932,382.654 553.919,382.654 573.906,374.642 593.893,382.654 613.88,342.591 633.867,342.591 653.854,334.578 673.841,318.553 693.828,294.515 713.815,254.452 733.802,190.35 753.79,174.325 773.777,182.338 793.764,158.3 813.751,166.312 833.738,126.249 853.725,126.249 873.712,126.249 893.699,134.262 913.686,102.211 933.673,86.1857 953.66,86.1857 973.647,94.1983 993.634,110.224 1013.62,102.211 1033.61,126.249 1053.6,142.274 1073.58,158.3 1093.57,126.249 1113.56,150.287 1133.54,190.35 1153.53,214.388 1173.52,214.388 1193.51,190.35 1213.49,182.338 1233.48,206.376 1253.47,214.388 1273.45,222.401 1293.44,214.388 1313.43,206.376 1333.41,214.388 1353.4,198.363 1373.39,198.363 1393.38,206.376 1413.36,214.388 1433.35,246.439 1453.34,262.464 1473.32,278.49 1493.31,286.502 1513.3,286.502 1533.29,254.452 1553.27,262.464 1573.26,254.452 1593.25,286.502 1613.23,270.477 1633.22,254.452 1653.21,238.426 1673.2,222.401 1693.18,238.426 1713.17,206.376 1733.16,246.439 1753.14,238.426 1773.13,238.426 1793.12,230.414 1813.1,270.477 1833.09,294.515 1853.08,318.553 1873.07,310.54 1893.05,318.553 1913.04,358.616 1933.03,382.654 1953.01,390.667 1973,406.692 1992.99,406.692 2012.98,398.68 2032.96,414.705 2052.95,430.73 2072.94,438.743 2092.92,430.73 2112.91,422.718 2132.9,438.743 2152.89,462.781 2172.87,486.819 2192.86,486.819 2212.85,518.87 2232.83,534.895 2252.82,550.921 2272.81,566.946 2292.79,574.959 \"/>\n",
       "<polyline clip-path=\"url(#clip522)\" style=\"stroke:#e26f46; stroke-linecap:round; stroke-linejoin:round; stroke-width:4; stroke-opacity:1; fill:none\" points=\"294.087,1384.24 314.074,1384.24 334.061,1384.24 354.048,1376.23 374.035,1368.21 394.022,1368.21 414.009,1368.21 433.996,1368.21 453.983,1368.21 473.97,1368.21 493.957,1368.21 513.945,1368.21 533.932,1368.21 553.919,1360.2 573.906,1360.2 593.893,1360.2 613.88,1360.2 633.867,1360.2 653.854,1360.2 673.841,1360.2 693.828,1360.2 713.815,1360.2 733.802,1360.2 753.79,1360.2 773.777,1360.2 793.764,1360.2 813.751,1360.2 833.738,1360.2 853.725,1352.19 873.712,1352.19 893.699,1352.19 913.686,1352.19 933.673,1352.19 953.66,1352.19 973.647,1352.19 993.634,1352.19 1013.62,1352.19 1033.61,1336.16 1053.6,1328.15 1073.58,1328.15 1093.57,1328.15 1113.56,1328.15 1133.54,1328.15 1153.53,1328.15 1173.52,1328.15 1193.51,1328.15 1213.49,1328.15 1233.48,1320.14 1253.47,1320.14 1273.45,1320.14 1293.44,1320.14 1313.43,1320.14 1333.41,1320.14 1353.4,1320.14 1373.39,1320.14 1393.38,1320.14 1413.36,1320.14 1433.35,1320.14 1453.34,1304.11 1473.32,1304.11 1493.31,1304.11 1513.3,1304.11 1533.29,1304.11 1553.27,1304.11 1573.26,1304.11 1593.25,1304.11 1613.23,1304.11 1633.22,1296.1 1653.21,1296.1 1673.2,1296.1 1693.18,1296.1 1713.17,1288.09 1733.16,1280.07 1753.14,1280.07 1773.13,1280.07 1793.12,1280.07 1813.1,1280.07 1833.09,1280.07 1853.08,1280.07 1873.07,1272.06 1893.05,1272.06 1913.04,1272.06 1933.03,1272.06 1953.01,1272.06 1973,1272.06 1992.99,1264.05 2012.98,1264.05 2032.96,1256.04 2052.95,1256.04 2072.94,1256.04 2092.92,1256.04 2112.91,1256.04 2132.9,1248.02 2152.89,1248.02 2172.87,1248.02 2192.86,1248.02 2212.85,1248.02 2232.83,1248.02 2252.82,1240.01 2272.81,1240.01 2292.79,1240.01 \"/>\n",
       "<path clip-path=\"url(#clip520)\" d=\"M1927.43 248.629 L2282.13 248.629 L2282.13 93.1086 L1927.43 93.1086  Z\" fill=\"#ffffff\" fill-rule=\"evenodd\" fill-opacity=\"1\"/>\n",
       "<polyline clip-path=\"url(#clip520)\" style=\"stroke:#000000; stroke-linecap:round; stroke-linejoin:round; stroke-width:4; stroke-opacity:1; fill:none\" points=\"1927.43,248.629 2282.13,248.629 2282.13,93.1086 1927.43,93.1086 1927.43,248.629 \"/>\n",
       "<polyline clip-path=\"url(#clip520)\" style=\"stroke:#009af9; stroke-linecap:round; stroke-linejoin:round; stroke-width:4; stroke-opacity:1; fill:none\" points=\"1950.97,144.949 2092.21,144.949 \"/>\n",
       "<path clip-path=\"url(#clip520)\" d=\"M2137.99 128.803 L2137.99 133.363 Q2135.33 132.09 2132.97 131.465 Q2130.61 130.84 2128.41 130.84 Q2124.59 130.84 2122.51 132.321 Q2120.45 133.803 2120.45 136.534 Q2120.45 138.826 2121.81 140.007 Q2123.2 141.164 2127.04 141.882 L2129.87 142.46 Q2135.1 143.456 2137.58 145.979 Q2140.08 148.479 2140.08 152.692 Q2140.08 157.715 2136.7 160.307 Q2133.34 162.9 2126.84 162.9 Q2124.38 162.9 2121.6 162.344 Q2118.85 161.789 2115.89 160.701 L2115.89 155.886 Q2118.73 157.483 2121.47 158.293 Q2124.2 159.104 2126.84 159.104 Q2130.84 159.104 2133.02 157.53 Q2135.19 155.956 2135.19 153.039 Q2135.19 150.493 2133.62 149.057 Q2132.07 147.622 2128.5 146.905 L2125.66 146.349 Q2120.42 145.307 2118.09 143.085 Q2115.75 140.863 2115.75 136.905 Q2115.75 132.321 2118.97 129.682 Q2122.21 127.044 2127.88 127.044 Q2130.31 127.044 2132.83 127.483 Q2135.35 127.923 2137.99 128.803 Z\" fill=\"#000000\" fill-rule=\"nonzero\" fill-opacity=\"1\" /><path clip-path=\"url(#clip520)\" d=\"M2168.73 146.581 L2168.73 162.229 L2164.47 162.229 L2164.47 146.719 Q2164.47 143.039 2163.04 141.21 Q2161.6 139.382 2158.73 139.382 Q2155.28 139.382 2153.29 141.581 Q2151.3 143.78 2151.3 147.576 L2151.3 162.229 L2147.02 162.229 L2147.02 126.21 L2151.3 126.21 L2151.3 140.331 Q2152.83 137.993 2154.89 136.835 Q2156.97 135.678 2159.68 135.678 Q2164.15 135.678 2166.44 138.456 Q2168.73 141.21 2168.73 146.581 Z\" fill=\"#000000\" fill-rule=\"nonzero\" fill-opacity=\"1\" /><path clip-path=\"url(#clip520)\" d=\"M2199.41 148.201 L2199.41 150.284 L2179.82 150.284 Q2180.1 154.682 2182.46 156.997 Q2184.84 159.289 2189.08 159.289 Q2191.53 159.289 2193.83 158.687 Q2196.14 158.085 2198.41 156.881 L2198.41 160.909 Q2196.12 161.881 2193.71 162.391 Q2191.3 162.9 2188.83 162.9 Q2182.62 162.9 2178.99 159.289 Q2175.38 155.678 2175.38 149.52 Q2175.38 143.155 2178.8 139.428 Q2182.25 135.678 2188.09 135.678 Q2193.32 135.678 2196.35 139.057 Q2199.41 142.414 2199.41 148.201 M2195.15 146.951 Q2195.1 143.456 2193.18 141.372 Q2191.28 139.289 2188.13 139.289 Q2184.57 139.289 2182.41 141.303 Q2180.28 143.317 2179.96 146.974 L2195.15 146.951 Z\" fill=\"#000000\" fill-rule=\"nonzero\" fill-opacity=\"1\" /><path clip-path=\"url(#clip520)\" d=\"M2228.57 148.201 L2228.57 150.284 L2208.99 150.284 Q2209.27 154.682 2211.63 156.997 Q2214.01 159.289 2218.25 159.289 Q2220.7 159.289 2222.99 158.687 Q2225.31 158.085 2227.58 156.881 L2227.58 160.909 Q2225.28 161.881 2222.88 162.391 Q2220.47 162.9 2217.99 162.9 Q2211.79 162.9 2208.16 159.289 Q2204.54 155.678 2204.54 149.52 Q2204.54 143.155 2207.97 139.428 Q2211.42 135.678 2217.25 135.678 Q2222.48 135.678 2225.52 139.057 Q2228.57 142.414 2228.57 148.201 M2224.31 146.951 Q2224.27 143.456 2222.34 141.372 Q2220.45 139.289 2217.3 139.289 Q2213.73 139.289 2211.58 141.303 Q2209.45 143.317 2209.13 146.974 L2224.31 146.951 Z\" fill=\"#000000\" fill-rule=\"nonzero\" fill-opacity=\"1\" /><path clip-path=\"url(#clip520)\" d=\"M2239.68 158.34 L2239.68 172.09 L2235.4 172.09 L2235.4 136.303 L2239.68 136.303 L2239.68 140.238 Q2241.03 137.923 2243.06 136.812 Q2245.12 135.678 2247.97 135.678 Q2252.69 135.678 2255.63 139.428 Q2258.59 143.178 2258.59 149.289 Q2258.59 155.4 2255.63 159.15 Q2252.69 162.9 2247.97 162.9 Q2245.12 162.9 2243.06 161.789 Q2241.03 160.655 2239.68 158.34 M2254.17 149.289 Q2254.17 144.59 2252.23 141.928 Q2250.31 139.243 2246.93 139.243 Q2243.55 139.243 2241.6 141.928 Q2239.68 144.59 2239.68 149.289 Q2239.68 153.988 2241.6 156.673 Q2243.55 159.335 2246.93 159.335 Q2250.31 159.335 2252.23 156.673 Q2254.17 153.988 2254.17 149.289 Z\" fill=\"#000000\" fill-rule=\"nonzero\" fill-opacity=\"1\" /><polyline clip-path=\"url(#clip520)\" style=\"stroke:#e26f46; stroke-linecap:round; stroke-linejoin:round; stroke-width:4; stroke-opacity:1; fill:none\" points=\"1950.97,196.789 2092.21,196.789 \"/>\n",
       "<path clip-path=\"url(#clip520)\" d=\"M2115.75 179.509 L2120.47 179.509 L2127.74 208.721 L2134.98 179.509 L2140.24 179.509 L2147.51 208.721 L2154.75 179.509 L2159.5 179.509 L2150.82 214.069 L2144.94 214.069 L2137.65 184.069 L2130.29 214.069 L2124.41 214.069 L2115.75 179.509 Z\" fill=\"#000000\" fill-rule=\"nonzero\" fill-opacity=\"1\" /><path clip-path=\"url(#clip520)\" d=\"M2172.78 191.129 Q2169.36 191.129 2167.37 193.814 Q2165.38 196.476 2165.38 201.129 Q2165.38 205.782 2167.35 208.467 Q2169.34 211.129 2172.78 211.129 Q2176.19 211.129 2178.18 208.444 Q2180.17 205.758 2180.17 201.129 Q2180.17 196.522 2178.18 193.837 Q2176.19 191.129 2172.78 191.129 M2172.78 187.518 Q2178.34 187.518 2181.51 191.129 Q2184.68 194.74 2184.68 201.129 Q2184.68 207.495 2181.51 211.129 Q2178.34 214.74 2172.78 214.74 Q2167.21 214.74 2164.03 211.129 Q2160.89 207.495 2160.89 201.129 Q2160.89 194.74 2164.03 191.129 Q2167.21 187.518 2172.78 187.518 Z\" fill=\"#000000\" fill-rule=\"nonzero\" fill-opacity=\"1\" /><path clip-path=\"url(#clip520)\" d=\"M2191.74 178.05 L2196 178.05 L2196 214.069 L2191.74 214.069 L2191.74 178.05 Z\" fill=\"#000000\" fill-rule=\"nonzero\" fill-opacity=\"1\" /><path clip-path=\"url(#clip520)\" d=\"M2218.04 178.05 L2218.04 181.592 L2213.97 181.592 Q2211.67 181.592 2210.77 182.518 Q2209.89 183.444 2209.89 185.851 L2209.89 188.143 L2216.9 188.143 L2216.9 191.453 L2209.89 191.453 L2209.89 214.069 L2205.61 214.069 L2205.61 191.453 L2201.53 191.453 L2201.53 188.143 L2205.61 188.143 L2205.61 186.337 Q2205.61 182.009 2207.62 180.041 Q2209.64 178.05 2214.01 178.05 L2218.04 178.05 Z\" fill=\"#000000\" fill-rule=\"nonzero\" fill-opacity=\"1\" /></svg>\n"
      ]
     },
     "metadata": {},
     "output_type": "display_data"
    },
    {
     "data": {
      "text/html": [
       "<div><div style = \"float: left;\"><span>101×2 DataFrame</span></div><div style = \"float: right;\"><span style = \"font-style: italic;\">76 rows omitted</span></div><div style = \"clear: both;\"></div></div><div class = \"data-frame\" style = \"overflow-x: scroll;\"><table class = \"data-frame\" style = \"margin-bottom: 6px;\"><thead><tr class = \"header\"><th class = \"rowNumber\" style = \"font-weight: bold; text-align: right;\">Row</th><th style = \"text-align: left;\">Sheep</th><th style = \"text-align: left;\">Wolf</th></tr><tr class = \"subheader headerLastRow\"><th class = \"rowNumber\" style = \"font-weight: bold; text-align: right;\"></th><th title = \"Int64\" style = \"text-align: left;\">Int64</th><th title = \"Int64\" style = \"text-align: left;\">Int64</th></tr></thead><tbody><tr><td class = \"rowNumber\" style = \"font-weight: bold; text-align: right;\">1</td><td style = \"text-align: right;\">160</td><td style = \"text-align: right;\">48</td></tr><tr><td class = \"rowNumber\" style = \"font-weight: bold; text-align: right;\">2</td><td style = \"text-align: right;\">156</td><td style = \"text-align: right;\">48</td></tr><tr><td class = \"rowNumber\" style = \"font-weight: bold; text-align: right;\">3</td><td style = \"text-align: right;\">159</td><td style = \"text-align: right;\">48</td></tr><tr><td class = \"rowNumber\" style = \"font-weight: bold; text-align: right;\">4</td><td style = \"text-align: right;\">160</td><td style = \"text-align: right;\">49</td></tr><tr><td class = \"rowNumber\" style = \"font-weight: bold; text-align: right;\">5</td><td style = \"text-align: right;\">161</td><td style = \"text-align: right;\">50</td></tr><tr><td class = \"rowNumber\" style = \"font-weight: bold; text-align: right;\">6</td><td style = \"text-align: right;\">161</td><td style = \"text-align: right;\">50</td></tr><tr><td class = \"rowNumber\" style = \"font-weight: bold; text-align: right;\">7</td><td style = \"text-align: right;\">164</td><td style = \"text-align: right;\">50</td></tr><tr><td class = \"rowNumber\" style = \"font-weight: bold; text-align: right;\">8</td><td style = \"text-align: right;\">165</td><td style = \"text-align: right;\">50</td></tr><tr><td class = \"rowNumber\" style = \"font-weight: bold; text-align: right;\">9</td><td style = \"text-align: right;\">170</td><td style = \"text-align: right;\">50</td></tr><tr><td class = \"rowNumber\" style = \"font-weight: bold; text-align: right;\">10</td><td style = \"text-align: right;\">166</td><td style = \"text-align: right;\">50</td></tr><tr><td class = \"rowNumber\" style = \"font-weight: bold; text-align: right;\">11</td><td style = \"text-align: right;\">168</td><td style = \"text-align: right;\">50</td></tr><tr><td class = \"rowNumber\" style = \"font-weight: bold; text-align: right;\">12</td><td style = \"text-align: right;\">170</td><td style = \"text-align: right;\">50</td></tr><tr><td class = \"rowNumber\" style = \"font-weight: bold; text-align: right;\">13</td><td style = \"text-align: right;\">173</td><td style = \"text-align: right;\">50</td></tr><tr><td style = \"text-align: right;\">&vellip;</td><td style = \"text-align: right;\">&vellip;</td><td style = \"text-align: right;\">&vellip;</td></tr><tr><td class = \"rowNumber\" style = \"font-weight: bold; text-align: right;\">90</td><td style = \"text-align: right;\">166</td><td style = \"text-align: right;\">64</td></tr><tr><td class = \"rowNumber\" style = \"font-weight: bold; text-align: right;\">91</td><td style = \"text-align: right;\">167</td><td style = \"text-align: right;\">64</td></tr><tr><td class = \"rowNumber\" style = \"font-weight: bold; text-align: right;\">92</td><td style = \"text-align: right;\">168</td><td style = \"text-align: right;\">64</td></tr><tr><td class = \"rowNumber\" style = \"font-weight: bold; text-align: right;\">93</td><td style = \"text-align: right;\">166</td><td style = \"text-align: right;\">65</td></tr><tr><td class = \"rowNumber\" style = \"font-weight: bold; text-align: right;\">94</td><td style = \"text-align: right;\">163</td><td style = \"text-align: right;\">65</td></tr><tr><td class = \"rowNumber\" style = \"font-weight: bold; text-align: right;\">95</td><td style = \"text-align: right;\">160</td><td style = \"text-align: right;\">65</td></tr><tr><td class = \"rowNumber\" style = \"font-weight: bold; text-align: right;\">96</td><td style = \"text-align: right;\">160</td><td style = \"text-align: right;\">65</td></tr><tr><td class = \"rowNumber\" style = \"font-weight: bold; text-align: right;\">97</td><td style = \"text-align: right;\">156</td><td style = \"text-align: right;\">65</td></tr><tr><td class = \"rowNumber\" style = \"font-weight: bold; text-align: right;\">98</td><td style = \"text-align: right;\">154</td><td style = \"text-align: right;\">65</td></tr><tr><td class = \"rowNumber\" style = \"font-weight: bold; text-align: right;\">99</td><td style = \"text-align: right;\">152</td><td style = \"text-align: right;\">66</td></tr><tr><td class = \"rowNumber\" style = \"font-weight: bold; text-align: right;\">100</td><td style = \"text-align: right;\">150</td><td style = \"text-align: right;\">66</td></tr><tr><td class = \"rowNumber\" style = \"font-weight: bold; text-align: right;\">101</td><td style = \"text-align: right;\">149</td><td style = \"text-align: right;\">66</td></tr></tbody></table></div>"
      ],
      "text/latex": [
       "\\begin{tabular}{r|cc}\n",
       "\t& Sheep & Wolf\\\\\n",
       "\t\\hline\n",
       "\t& Int64 & Int64\\\\\n",
       "\t\\hline\n",
       "\t1 & 160 & 48 \\\\\n",
       "\t2 & 156 & 48 \\\\\n",
       "\t3 & 159 & 48 \\\\\n",
       "\t4 & 160 & 49 \\\\\n",
       "\t5 & 161 & 50 \\\\\n",
       "\t6 & 161 & 50 \\\\\n",
       "\t7 & 164 & 50 \\\\\n",
       "\t8 & 165 & 50 \\\\\n",
       "\t9 & 170 & 50 \\\\\n",
       "\t10 & 166 & 50 \\\\\n",
       "\t11 & 168 & 50 \\\\\n",
       "\t12 & 170 & 50 \\\\\n",
       "\t13 & 173 & 50 \\\\\n",
       "\t14 & 173 & 51 \\\\\n",
       "\t15 & 174 & 51 \\\\\n",
       "\t16 & 173 & 51 \\\\\n",
       "\t17 & 178 & 51 \\\\\n",
       "\t18 & 178 & 51 \\\\\n",
       "\t19 & 179 & 51 \\\\\n",
       "\t20 & 181 & 51 \\\\\n",
       "\t21 & 184 & 51 \\\\\n",
       "\t22 & 189 & 51 \\\\\n",
       "\t23 & 197 & 51 \\\\\n",
       "\t24 & 199 & 51 \\\\\n",
       "\t25 & 198 & 51 \\\\\n",
       "\t26 & 201 & 51 \\\\\n",
       "\t27 & 200 & 51 \\\\\n",
       "\t28 & 205 & 51 \\\\\n",
       "\t29 & 205 & 52 \\\\\n",
       "\t30 & 205 & 52 \\\\\n",
       "\t$\\dots$ & $\\dots$ & $\\dots$ \\\\\n",
       "\\end{tabular}\n"
      ],
      "text/plain": [
       "\u001b[1m101×2 DataFrame\u001b[0m\n",
       "\u001b[1m Row \u001b[0m│\u001b[1m Sheep \u001b[0m\u001b[1m Wolf  \u001b[0m\n",
       "     │\u001b[90m Int64 \u001b[0m\u001b[90m Int64 \u001b[0m\n",
       "─────┼──────────────\n",
       "   1 │   160     48\n",
       "   2 │   156     48\n",
       "   3 │   159     48\n",
       "   4 │   160     49\n",
       "   5 │   161     50\n",
       "   6 │   161     50\n",
       "   7 │   164     50\n",
       "   8 │   165     50\n",
       "   9 │   170     50\n",
       "  10 │   166     50\n",
       "  11 │   168     50\n",
       "  ⋮  │   ⋮      ⋮\n",
       "  92 │   168     64\n",
       "  93 │   166     65\n",
       "  94 │   163     65\n",
       "  95 │   160     65\n",
       "  96 │   160     65\n",
       "  97 │   156     65\n",
       "  98 │   154     65\n",
       "  99 │   152     66\n",
       " 100 │   150     66\n",
       " 101 │   149     66\n",
       "\u001b[36m     80 rows omitted\u001b[0m"
      ]
     },
     "execution_count": 6,
     "metadata": {},
     "output_type": "execute_result"
    }
   ],
   "source": [
    "df = get_nums_agents(model, agent-> agent.atype == sheep, \n",
    "    agent->agent.atype == wolf, labels=[\"Sheep\", \"Wolf\"], \n",
    "    plot_result = true)"
   ]
  },
  {
   "cell_type": "markdown",
   "metadata": {},
   "source": [
    "Individual agent data recorded during model run can be obtained as"
   ]
  },
  {
   "cell_type": "code",
   "execution_count": 7,
   "metadata": {
    "scrolled": false
   },
   "outputs": [
    {
     "data": {
      "text/html": [
       "<div><div style = \"float: left;\"><span>101×2 DataFrame</span></div><div style = \"float: right;\"><span style = \"font-style: italic;\">76 rows omitted</span></div><div style = \"clear: both;\"></div></div><div class = \"data-frame\" style = \"overflow-x: scroll;\"><table class = \"data-frame\" style = \"margin-bottom: 6px;\"><thead><tr class = \"header\"><th class = \"rowNumber\" style = \"font-weight: bold; text-align: right;\">Row</th><th style = \"text-align: left;\">energy</th><th style = \"text-align: left;\">pos</th></tr><tr class = \"subheader headerLastRow\"><th class = \"rowNumber\" style = \"font-weight: bold; text-align: right;\"></th><th title = \"Union{Missing, Float64}\" style = \"text-align: left;\">Float64?</th><th title = \"Union{Missing, Vect{2, Int64}}\" style = \"text-align: left;\">Vect…?</th></tr></thead><tbody><tr><td class = \"rowNumber\" style = \"font-weight: bold; text-align: right;\">1</td><td style = \"text-align: right;\">35.0</td><td style = \"text-align: left;\">(8, 16)\\n</td></tr><tr><td class = \"rowNumber\" style = \"font-weight: bold; text-align: right;\">2</td><td style = \"text-align: right;\">35.0</td><td style = \"text-align: left;\">(8, 16)\\n</td></tr><tr><td class = \"rowNumber\" style = \"font-weight: bold; text-align: right;\">3</td><td style = \"text-align: right;\">35.0</td><td style = \"text-align: left;\">(8, 16)\\n</td></tr><tr><td class = \"rowNumber\" style = \"font-weight: bold; text-align: right;\">4</td><td style = \"text-align: right;\">35.0</td><td style = \"text-align: left;\">(8, 16)\\n</td></tr><tr><td class = \"rowNumber\" style = \"font-weight: bold; text-align: right;\">5</td><td style = \"text-align: right;\">35.0</td><td style = \"text-align: left;\">(8, 16)\\n</td></tr><tr><td class = \"rowNumber\" style = \"font-weight: bold; text-align: right;\">6</td><td style = \"text-align: right;\">35.0</td><td style = \"text-align: left;\">(8, 16)\\n</td></tr><tr><td class = \"rowNumber\" style = \"font-weight: bold; text-align: right;\">7</td><td style = \"text-align: right;\">35.0</td><td style = \"text-align: left;\">(8, 16)\\n</td></tr><tr><td class = \"rowNumber\" style = \"font-weight: bold; text-align: right;\">8</td><td style = \"text-align: right;\">35.0</td><td style = \"text-align: left;\">(8, 16)\\n</td></tr><tr><td class = \"rowNumber\" style = \"font-weight: bold; text-align: right;\">9</td><td style = \"text-align: right;\">35.0</td><td style = \"text-align: left;\">(8, 16)\\n</td></tr><tr><td class = \"rowNumber\" style = \"font-weight: bold; text-align: right;\">10</td><td style = \"text-align: right;\">35.0</td><td style = \"text-align: left;\">(8, 16)\\n</td></tr><tr><td class = \"rowNumber\" style = \"font-weight: bold; text-align: right;\">11</td><td style = \"text-align: right;\">35.0</td><td style = \"text-align: left;\">(8, 16)\\n</td></tr><tr><td class = \"rowNumber\" style = \"font-weight: bold; text-align: right;\">12</td><td style = \"text-align: right;\">35.0</td><td style = \"text-align: left;\">(8, 16)\\n</td></tr><tr><td class = \"rowNumber\" style = \"font-weight: bold; text-align: right;\">13</td><td style = \"text-align: right;\">35.0</td><td style = \"text-align: left;\">(8, 16)\\n</td></tr><tr><td style = \"text-align: right;\">&vellip;</td><td style = \"text-align: right;\">&vellip;</td><td style = \"text-align: right;\">&vellip;</td></tr><tr><td class = \"rowNumber\" style = \"font-weight: bold; text-align: right;\">90</td><td style = \"text-align: right;\">25.5</td><td style = \"text-align: left;\">(16, 8)\\n</td></tr><tr><td class = \"rowNumber\" style = \"font-weight: bold; text-align: right;\">91</td><td style = \"text-align: right;\">25.5</td><td style = \"text-align: left;\">(16, 8)\\n</td></tr><tr><td class = \"rowNumber\" style = \"font-weight: bold; text-align: right;\">92</td><td style = \"text-align: right;\">25.5</td><td style = \"text-align: left;\">(16, 8)\\n</td></tr><tr><td class = \"rowNumber\" style = \"font-weight: bold; text-align: right;\">93</td><td style = \"text-align: right;\">25.5</td><td style = \"text-align: left;\">(16, 8)\\n</td></tr><tr><td class = \"rowNumber\" style = \"font-weight: bold; text-align: right;\">94</td><td style = \"text-align: right;\">25.5</td><td style = \"text-align: left;\">(16, 8)\\n</td></tr><tr><td class = \"rowNumber\" style = \"font-weight: bold; text-align: right;\">95</td><td style = \"text-align: right;\">25.5</td><td style = \"text-align: left;\">(16, 8)\\n</td></tr><tr><td class = \"rowNumber\" style = \"font-weight: bold; text-align: right;\">96</td><td style = \"text-align: right;\">25.5</td><td style = \"text-align: left;\">(16, 8)\\n</td></tr><tr><td class = \"rowNumber\" style = \"font-weight: bold; text-align: right;\">97</td><td style = \"text-align: right;\">25.5</td><td style = \"text-align: left;\">(16, 8)\\n</td></tr><tr><td class = \"rowNumber\" style = \"font-weight: bold; text-align: right;\">98</td><td style = \"text-align: right;\">25.5</td><td style = \"text-align: left;\">(16, 8)\\n</td></tr><tr><td class = \"rowNumber\" style = \"font-weight: bold; text-align: right;\">99</td><td style = \"text-align: right;\">25.5</td><td style = \"text-align: left;\">(16, 8)\\n</td></tr><tr><td class = \"rowNumber\" style = \"font-weight: bold; text-align: right;\">100</td><td style = \"text-align: right;\">25.5</td><td style = \"text-align: left;\">(16, 8)\\n</td></tr><tr><td class = \"rowNumber\" style = \"font-weight: bold; text-align: right;\">101</td><td style = \"text-align: right;\">25.5</td><td style = \"text-align: left;\">(16, 8)\\n</td></tr></tbody></table></div>"
      ],
      "text/latex": [
       "\\begin{tabular}{r|cc}\n",
       "\t& energy & pos\\\\\n",
       "\t\\hline\n",
       "\t& Float64? & Vect…?\\\\\n",
       "\t\\hline\n",
       "\t1 & 35.0 & (8, 16)\\textbackslash{}n \\\\\n",
       "\t2 & 35.0 & (8, 16)\\textbackslash{}n \\\\\n",
       "\t3 & 35.0 & (8, 16)\\textbackslash{}n \\\\\n",
       "\t4 & 35.0 & (8, 16)\\textbackslash{}n \\\\\n",
       "\t5 & 35.0 & (8, 16)\\textbackslash{}n \\\\\n",
       "\t6 & 35.0 & (8, 16)\\textbackslash{}n \\\\\n",
       "\t7 & 35.0 & (8, 16)\\textbackslash{}n \\\\\n",
       "\t8 & 35.0 & (8, 16)\\textbackslash{}n \\\\\n",
       "\t9 & 35.0 & (8, 16)\\textbackslash{}n \\\\\n",
       "\t10 & 35.0 & (8, 16)\\textbackslash{}n \\\\\n",
       "\t11 & 35.0 & (8, 16)\\textbackslash{}n \\\\\n",
       "\t12 & 35.0 & (8, 16)\\textbackslash{}n \\\\\n",
       "\t13 & 35.0 & (8, 16)\\textbackslash{}n \\\\\n",
       "\t14 & 35.0 & (8, 16)\\textbackslash{}n \\\\\n",
       "\t15 & 35.0 & (8, 16)\\textbackslash{}n \\\\\n",
       "\t16 & 35.0 & (8, 16)\\textbackslash{}n \\\\\n",
       "\t17 & 35.0 & (8, 16)\\textbackslash{}n \\\\\n",
       "\t18 & 35.0 & (8, 16)\\textbackslash{}n \\\\\n",
       "\t19 & 35.0 & (8, 16)\\textbackslash{}n \\\\\n",
       "\t20 & 35.0 & (8, 16)\\textbackslash{}n \\\\\n",
       "\t21 & 35.0 & (8, 16)\\textbackslash{}n \\\\\n",
       "\t22 & 35.0 & (8, 16)\\textbackslash{}n \\\\\n",
       "\t23 & 35.0 & (8, 16)\\textbackslash{}n \\\\\n",
       "\t24 & 35.0 & (8, 16)\\textbackslash{}n \\\\\n",
       "\t25 & 35.0 & (8, 16)\\textbackslash{}n \\\\\n",
       "\t26 & 35.0 & (8, 16)\\textbackslash{}n \\\\\n",
       "\t27 & 35.0 & (8, 16)\\textbackslash{}n \\\\\n",
       "\t28 & 35.0 & (8, 16)\\textbackslash{}n \\\\\n",
       "\t29 & 35.0 & (8, 16)\\textbackslash{}n \\\\\n",
       "\t30 & 35.0 & (8, 16)\\textbackslash{}n \\\\\n",
       "\t$\\dots$ & $\\dots$ & $\\dots$ \\\\\n",
       "\\end{tabular}\n"
      ],
      "text/plain": [
       "\u001b[1m101×2 DataFrame\u001b[0m\n",
       "\u001b[1m Row \u001b[0m│\u001b[1m energy   \u001b[0m\u001b[1m pos       \u001b[0m\n",
       "     │\u001b[90m Float64? \u001b[0m\u001b[90m Vect…?    \u001b[0m\n",
       "─────┼─────────────────────\n",
       "   1 │     35.0  (8, 16)\\n\n",
       "   2 │     35.0  (8, 16)\\n\n",
       "   3 │     35.0  (8, 16)\\n\n",
       "   4 │     35.0  (8, 16)\\n\n",
       "   5 │     35.0  (8, 16)\\n\n",
       "   6 │     35.0  (8, 16)\\n\n",
       "   7 │     35.0  (8, 16)\\n\n",
       "   8 │     35.0  (8, 16)\\n\n",
       "   9 │     35.0  (8, 16)\\n\n",
       "  10 │     35.0  (8, 16)\\n\n",
       "  11 │     35.0  (8, 16)\\n\n",
       "  ⋮  │    ⋮          ⋮\n",
       "  92 │     25.5  (16, 8)\\n\n",
       "  93 │     25.5  (16, 8)\\n\n",
       "  94 │     25.5  (16, 8)\\n\n",
       "  95 │     25.5  (16, 8)\\n\n",
       "  96 │     25.5  (16, 8)\\n\n",
       "  97 │     25.5  (16, 8)\\n\n",
       "  98 │     25.5  (16, 8)\\n\n",
       "  99 │     25.5  (16, 8)\\n\n",
       " 100 │     25.5  (16, 8)\\n\n",
       " 101 │     25.5  (16, 8)\\n\n",
       "\u001b[36m            80 rows omitted\u001b[0m"
      ]
     },
     "execution_count": 7,
     "metadata": {},
     "output_type": "execute_result"
    }
   ],
   "source": [
    "df = get_agent_data(model.agents[2], model).record"
   ]
  },
  {
   "cell_type": "code",
   "execution_count": null,
   "metadata": {},
   "outputs": [],
   "source": [
    "model.agents[1]"
   ]
  }
 ],
 "metadata": {
  "@webio": {
   "lastCommId": "60d40f26d6de43a19250b4224956c07d",
   "lastKernelId": "7d605ae5-60b8-4e0d-8792-ebef37ae371d"
  },
  "kernelspec": {
   "display_name": "Julia 1.9.2",
   "language": "julia",
   "name": "julia-1.9"
  },
  "language_info": {
   "file_extension": ".jl",
   "mimetype": "application/julia",
   "name": "julia",
   "version": "1.9.2"
  }
 },
 "nbformat": 4,
 "nbformat_minor": 4
}
