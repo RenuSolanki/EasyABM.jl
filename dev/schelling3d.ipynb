{
 "cells": [
  {
   "cell_type": "markdown",
   "metadata": {},
   "source": [
    "# Schelling segregation model 3D"
   ]
  },
  {
   "cell_type": "code",
   "execution_count": 1,
   "metadata": {},
   "outputs": [
    {
     "name": "stderr",
     "output_type": "stream",
     "text": [
      "\u001b[32m\u001b[1m  Activating\u001b[22m\u001b[39m project at `~/Documents/EasyABM`\n"
     ]
    },
    {
     "data": {
      "application/vnd.webio.node+json": {
       "children": [],
       "instanceArgs": {
        "namespace": "html",
        "tag": "div"
       },
       "nodeType": "DOM",
       "props": {},
       "type": "node"
      },
      "text/html": [
       "<div style=\"padding: 1em; background-color: #f8d6da; border: 1px solid #f5c6cb; font-weight: bold;\">\n",
       "<p>The WebIO Jupyter extension was not detected. See the\n",
       "<a href=\"https://juliagizmos.github.io/WebIO.jl/latest/providers/ijulia/\" target=\"_blank\">\n",
       "    WebIO Jupyter integration documentation\n",
       "</a>\n",
       "for more information.\n",
       "</div>\n"
      ],
      "text/plain": [
       "WebIO._IJuliaInit()"
      ]
     },
     "metadata": {
      "application/vnd.webio.node+json": {
       "kernelId": "b9d11b2c-47d4-4fcc-a583-20a1e778a65d"
      }
     },
     "output_type": "display_data"
    }
   ],
   "source": [
    "using Pkg, Revise\n",
    "Pkg.activate(joinpath(@__DIR__, \"../..\"))\n",
    "using EasyABM"
   ]
  },
  {
   "cell_type": "markdown",
   "metadata": {},
   "source": [
    "## Step 1: Create Agents and Model\n",
    "\n",
    "Lets create 200 agents with properties `pos`, `mood` and `color`. The `keeps_record_of` argument is list of properties that the agent will record during time evolution. The `min_alike` property of the model which specifies the minimum number of alike neighbors for an agent to be happy, is set to be 8. "
   ]
  },
  {
   "cell_type": "code",
   "execution_count": 2,
   "metadata": {},
   "outputs": [],
   "source": [
    "@enum agentsfeeling happy sad"
   ]
  },
  {
   "cell_type": "code",
   "execution_count": 3,
   "metadata": {
    "scrolled": true
   },
   "outputs": [
    {
     "data": {
      "text/plain": [
       "EasyABM SpaceModel3D{EasyABM.StaticType, Int64, EasyABM.NPeriodicType}: In a EasyABM.StaticType model number of agents is fixed.\n"
      ]
     },
     "execution_count": 3,
     "metadata": {},
     "output_type": "execute_result"
    }
   ],
   "source": [
    "@enum agentsfeeling happy sad\n",
    "agents = grid_3d_agents(200, pos = Vect(1,1,1), \n",
    "    color = cl\"red\", mood = happy, keeps_record_of=Set([:pos, :mood]))\n",
    "model = create_3d_model(agents, agents_type = Static, \n",
    "    space_type = NPeriodic, size = (7,7,7), min_alike = 8)"
   ]
  },
  {
   "cell_type": "markdown",
   "metadata": {},
   "source": [
    "\n",
    "## Step 2: Initialise the model\n",
    "\n",
    "In the second step we initialise the agents by defining `initialiser!` function and then sending it as an argument to `init_model!`. In the `initialiser!` function we randomly set agents color to be either `cl\"red\"` or `cl\"green\"` and set their positions randomly such that there is not more than one agent on each patch. Then we set the `mood` property of each agent to be `happy` or `sad` depending upon the number of alike agents in neighborhood. "
   ]
  },
  {
   "cell_type": "code",
   "execution_count": 4,
   "metadata": {},
   "outputs": [],
   "source": [
    "function initialiser!(model)\n",
    "    for agent in model.agents\n",
    "        agent.color = [cl\"red\", cl\"green\"][rand(1:2)]\n",
    "        x,y,z = random_empty_patch(model) \n",
    "        agent.pos = Vect(x, y, z)     \n",
    "    end    \n",
    "    for agent in model.agents\n",
    "        nbrs = neighbors_moore(agent, model, 1)\n",
    "        num_same = 0\n",
    "        for nbr in nbrs\n",
    "            if nbr.color == agent.color\n",
    "                num_same += 1\n",
    "            end\n",
    "        end\n",
    "        if num_same < model.properties.min_alike\n",
    "            agent.mood = sad\n",
    "        end\n",
    "    end\n",
    "end\n",
    "init_model!(model, initialiser = initialiser!)"
   ]
  },
  {
   "cell_type": "markdown",
   "metadata": {},
   "source": [
    "\n",
    "## Step 3: Defining the step_rule! and running the model\n",
    "\n",
    "In this step we implement the step logic of the Schellings model in the `step_rule!` function and run the model for 100 steps. "
   ]
  },
  {
   "cell_type": "code",
   "execution_count": 5,
   "metadata": {},
   "outputs": [
    {
     "data": {
      "text/plain": [
       "step_rule! (generic function with 1 method)"
      ]
     },
     "execution_count": 5,
     "metadata": {},
     "output_type": "execute_result"
    }
   ],
   "source": [
    "function step_rule!(model)\n",
    "    min_alike = model.properties.min_alike\n",
    "    for agent in model.agents\n",
    "        num_alike = 0\n",
    "        for nbr in neighbors_moore(agent, model,1)\n",
    "            if agent.color == nbr.color\n",
    "                num_alike += 1\n",
    "            end\n",
    "        end\n",
    "        if num_alike ≥ min_alike\n",
    "            agent.mood = happy\n",
    "        else\n",
    "            agent.mood = sad\n",
    "            x,y,z = random_empty_patch(model) \n",
    "            agent.pos = Vect(x, y, z)\n",
    "        end\n",
    "    end\n",
    "    return\n",
    "end"
   ]
  },
  {
   "cell_type": "code",
   "execution_count": 6,
   "metadata": {
    "scrolled": true
   },
   "outputs": [],
   "source": [
    "run_model!(model, steps=100, step_rule = step_rule!)"
   ]
  },
  {
   "cell_type": "markdown",
   "metadata": {},
   "source": [
    "## Step 4: Visualisation"
   ]
  },
  {
   "cell_type": "markdown",
   "metadata": {},
   "source": [
    "The following code will draw the state of the model at frame number 4. "
   ]
  },
  {
   "cell_type": "code",
   "execution_count": 7,
   "metadata": {},
   "outputs": [
    {
     "name": "stderr",
     "output_type": "stream",
     "text": [
      "\u001b[36m\u001b[1m[ \u001b[22m\u001b[39m\u001b[36m\u001b[1mInfo: \u001b[22m\u001b[39mListening on: 127.0.0.1:8700, thread id: 1\n",
      "\u001b[36m\u001b[1m┌ \u001b[22m\u001b[39m\u001b[36m\u001b[1mInfo: \u001b[22m\u001b[39mMeshCat server started. You can open the visualizer by visiting the following URL in your browser:\n",
      "\u001b[36m\u001b[1m└ \u001b[22m\u001b[39mhttp://127.0.0.1:8700\n"
     ]
    },
    {
     "data": {
      "text/html": [
       "    <div style=\"height: 500px; width: 100%; overflow-x: auto; overflow-y: hidden; resize: both\">\n",
       "    <iframe src=\"http://127.0.0.1:8700\" style=\"width: 100%; height: 100%; border: none\"></iframe>\n",
       "    </div>\n"
      ],
      "text/plain": [
       "MeshCat.DisplayedVisualizer(MeshCat.CoreVisualizer(MeshCat.SceneTrees.SceneNode(nothing, nothing, Dict{String, Vector{UInt8}}(), nothing, Dict{String, MeshCat.SceneTrees.SceneNode}(\"meshcat\" => MeshCat.SceneTrees.SceneNode(nothing, UInt8[0x83, 0xa6, 0x6d, 0x61, 0x74, 0x72, 0x69, 0x78, 0xc7, 0x40  …  0x68, 0xa8, 0x2f, 0x6d, 0x65, 0x73, 0x68, 0x63, 0x61, 0x74], Dict{String, Vector{UInt8}}(), nothing, Dict{String, MeshCat.SceneTrees.SceneNode}(\"agents\" => MeshCat.SceneTrees.SceneNode(nothing, nothing, Dict{String, Vector{UInt8}}(), nothing, Dict{String, MeshCat.SceneTrees.SceneNode}(\"1\" => MeshCat.SceneTrees.SceneNode(UInt8[0x83, 0xa6, 0x6f, 0x62, 0x6a, 0x65, 0x63, 0x74, 0x84, 0xaa  …  0x74, 0x2f, 0x61, 0x67, 0x65, 0x6e, 0x74, 0x73, 0x2f, 0x31], UInt8[0x83, 0xa6, 0x6d, 0x61, 0x74, 0x72, 0x69, 0x78, 0xc7, 0x40  …  0x74, 0x2f, 0x61, 0x67, 0x65, 0x6e, 0x74, 0x73, 0x2f, 0x31], Dict{String, Vector{UInt8}}(\"position\" => [0x84, 0xa8, 0x70, 0x72, 0x6f, 0x70, 0x65, 0x72, 0x74, 0x79  …  0x74, 0x2f, 0x61, 0x67, 0x65, 0x6e, 0x74, 0x73, 0x2f, 0x31]), nothing, Dict{String, MeshCat.SceneTrees.SceneNode}()), \"54\" => MeshCat.SceneTrees.SceneNode(UInt8[0x83, 0xa6, 0x6f, 0x62, 0x6a, 0x65, 0x63, 0x74, 0x84, 0xaa  …  0x2f, 0x61, 0x67, 0x65, 0x6e, 0x74, 0x73, 0x2f, 0x35, 0x34], UInt8[0x83, 0xa6, 0x6d, 0x61, 0x74, 0x72, 0x69, 0x78, 0xc7, 0x40  …  0x2f, 0x61, 0x67, 0x65, 0x6e, 0x74, 0x73, 0x2f, 0x35, 0x34], Dict{String, Vector{UInt8}}(\"position\" => [0x84, 0xa8, 0x70, 0x72, 0x6f, 0x70, 0x65, 0x72, 0x74, 0x79  …  0x2f, 0x61, 0x67, 0x65, 0x6e, 0x74, 0x73, 0x2f, 0x35, 0x34]), nothing, Dict{String, MeshCat.SceneTrees.SceneNode}()), \"101\" => MeshCat.SceneTrees.SceneNode(UInt8[0x83, 0xa6, 0x6f, 0x62, 0x6a, 0x65, 0x63, 0x74, 0x84, 0xaa  …  0x61, 0x67, 0x65, 0x6e, 0x74, 0x73, 0x2f, 0x31, 0x30, 0x31], UInt8[0x83, 0xa6, 0x6d, 0x61, 0x74, 0x72, 0x69, 0x78, 0xc7, 0x40  …  0x61, 0x67, 0x65, 0x6e, 0x74, 0x73, 0x2f, 0x31, 0x30, 0x31], Dict{String, Vector{UInt8}}(\"position\" => [0x84, 0xa8, 0x70, 0x72, 0x6f, 0x70, 0x65, 0x72, 0x74, 0x79  …  0x61, 0x67, 0x65, 0x6e, 0x74, 0x73, 0x2f, 0x31, 0x30, 0x31]), nothing, Dict{String, MeshCat.SceneTrees.SceneNode}()), \"41\" => MeshCat.SceneTrees.SceneNode(UInt8[0x83, 0xa6, 0x6f, 0x62, 0x6a, 0x65, 0x63, 0x74, 0x84, 0xaa  …  0x2f, 0x61, 0x67, 0x65, 0x6e, 0x74, 0x73, 0x2f, 0x34, 0x31], UInt8[0x83, 0xa6, 0x6d, 0x61, 0x74, 0x72, 0x69, 0x78, 0xc7, 0x40  …  0x2f, 0x61, 0x67, 0x65, 0x6e, 0x74, 0x73, 0x2f, 0x34, 0x31], Dict{String, Vector{UInt8}}(\"position\" => [0x84, 0xa8, 0x70, 0x72, 0x6f, 0x70, 0x65, 0x72, 0x74, 0x79  …  0x2f, 0x61, 0x67, 0x65, 0x6e, 0x74, 0x73, 0x2f, 0x34, 0x31]), nothing, Dict{String, MeshCat.SceneTrees.SceneNode}()), \"65\" => MeshCat.SceneTrees.SceneNode(UInt8[0x83, 0xa6, 0x6f, 0x62, 0x6a, 0x65, 0x63, 0x74, 0x84, 0xaa  …  0x2f, 0x61, 0x67, 0x65, 0x6e, 0x74, 0x73, 0x2f, 0x36, 0x35], UInt8[0x83, 0xa6, 0x6d, 0x61, 0x74, 0x72, 0x69, 0x78, 0xc7, 0x40  …  0x2f, 0x61, 0x67, 0x65, 0x6e, 0x74, 0x73, 0x2f, 0x36, 0x35], Dict{String, Vector{UInt8}}(\"position\" => [0x84, 0xa8, 0x70, 0x72, 0x6f, 0x70, 0x65, 0x72, 0x74, 0x79  …  0x2f, 0x61, 0x67, 0x65, 0x6e, 0x74, 0x73, 0x2f, 0x36, 0x35]), nothing, Dict{String, MeshCat.SceneTrees.SceneNode}()), \"168\" => MeshCat.SceneTrees.SceneNode(UInt8[0x83, 0xa6, 0x6f, 0x62, 0x6a, 0x65, 0x63, 0x74, 0x84, 0xaa  …  0x61, 0x67, 0x65, 0x6e, 0x74, 0x73, 0x2f, 0x31, 0x36, 0x38], UInt8[0x83, 0xa6, 0x6d, 0x61, 0x74, 0x72, 0x69, 0x78, 0xc7, 0x40  …  0x61, 0x67, 0x65, 0x6e, 0x74, 0x73, 0x2f, 0x31, 0x36, 0x38], Dict{String, Vector{UInt8}}(\"position\" => [0x84, 0xa8, 0x70, 0x72, 0x6f, 0x70, 0x65, 0x72, 0x74, 0x79  …  0x61, 0x67, 0x65, 0x6e, 0x74, 0x73, 0x2f, 0x31, 0x36, 0x38]), nothing, Dict{String, MeshCat.SceneTrees.SceneNode}()), \"159\" => MeshCat.SceneTrees.SceneNode(UInt8[0x83, 0xa6, 0x6f, 0x62, 0x6a, 0x65, 0x63, 0x74, 0x84, 0xaa  …  0x61, 0x67, 0x65, 0x6e, 0x74, 0x73, 0x2f, 0x31, 0x35, 0x39], UInt8[0x83, 0xa6, 0x6d, 0x61, 0x74, 0x72, 0x69, 0x78, 0xc7, 0x40  …  0x61, 0x67, 0x65, 0x6e, 0x74, 0x73, 0x2f, 0x31, 0x35, 0x39], Dict{String, Vector{UInt8}}(\"position\" => [0x84, 0xa8, 0x70, 0x72, 0x6f, 0x70, 0x65, 0x72, 0x74, 0x79  …  0x61, 0x67, 0x65, 0x6e, 0x74, 0x73, 0x2f, 0x31, 0x35, 0x39]), nothing, Dict{String, MeshCat.SceneTrees.SceneNode}()), \"190\" => MeshCat.SceneTrees.SceneNode(UInt8[0x83, 0xa6, 0x6f, 0x62, 0x6a, 0x65, 0x63, 0x74, 0x84, 0xaa  …  0x61, 0x67, 0x65, 0x6e, 0x74, 0x73, 0x2f, 0x31, 0x39, 0x30], UInt8[0x83, 0xa6, 0x6d, 0x61, 0x74, 0x72, 0x69, 0x78, 0xc7, 0x40  …  0x61, 0x67, 0x65, 0x6e, 0x74, 0x73, 0x2f, 0x31, 0x39, 0x30], Dict{String, Vector{UInt8}}(\"position\" => [0x84, 0xa8, 0x70, 0x72, 0x6f, 0x70, 0x65, 0x72, 0x74, 0x79  …  0x61, 0x67, 0x65, 0x6e, 0x74, 0x73, 0x2f, 0x31, 0x39, 0x30]), nothing, Dict{String, MeshCat.SceneTrees.SceneNode}()), \"88\" => MeshCat.SceneTrees.SceneNode(UInt8[0x83, 0xa6, 0x6f, 0x62, 0x6a, 0x65, 0x63, 0x74, 0x84, 0xaa  …  0x2f, 0x61, 0x67, 0x65, 0x6e, 0x74, 0x73, 0x2f, 0x38, 0x38], UInt8[0x83, 0xa6, 0x6d, 0x61, 0x74, 0x72, 0x69, 0x78, 0xc7, 0x40  …  0x2f, 0x61, 0x67, 0x65, 0x6e, 0x74, 0x73, 0x2f, 0x38, 0x38], Dict{String, Vector{UInt8}}(\"position\" => [0x84, 0xa8, 0x70, 0x72, 0x6f, 0x70, 0x65, 0x72, 0x74, 0x79  …  0x2f, 0x61, 0x67, 0x65, 0x6e, 0x74, 0x73, 0x2f, 0x38, 0x38]), nothing, Dict{String, MeshCat.SceneTrees.SceneNode}()), \"26\" => MeshCat.SceneTrees.SceneNode(UInt8[0x83, 0xa6, 0x6f, 0x62, 0x6a, 0x65, 0x63, 0x74, 0x84, 0xaa  …  0x2f, 0x61, 0x67, 0x65, 0x6e, 0x74, 0x73, 0x2f, 0x32, 0x36], UInt8[0x83, 0xa6, 0x6d, 0x61, 0x74, 0x72, 0x69, 0x78, 0xc7, 0x40  …  0x2f, 0x61, 0x67, 0x65, 0x6e, 0x74, 0x73, 0x2f, 0x32, 0x36], Dict{String, Vector{UInt8}}(\"position\" => [0x84, 0xa8, 0x70, 0x72, 0x6f, 0x70, 0x65, 0x72, 0x74, 0x79  …  0x2f, 0x61, 0x67, 0x65, 0x6e, 0x74, 0x73, 0x2f, 0x32, 0x36]), nothing, Dict{String, MeshCat.SceneTrees.SceneNode}())…)), \"bbox_line_segments\" => MeshCat.SceneTrees.SceneNode(nothing, nothing, Dict{String, Vector{UInt8}}(), nothing, Dict{String, MeshCat.SceneTrees.SceneNode}(\"4\" => MeshCat.SceneTrees.SceneNode(UInt8[0x83, 0xa6, 0x6f, 0x62, 0x6a, 0x65, 0x63, 0x74, 0x84, 0xaa  …  0x73, 0x65, 0x67, 0x6d, 0x65, 0x6e, 0x74, 0x73, 0x2f, 0x34], nothing, Dict{String, Vector{UInt8}}(), nothing, Dict{String, MeshCat.SceneTrees.SceneNode}()), \"1\" => MeshCat.SceneTrees.SceneNode(UInt8[0x83, 0xa6, 0x6f, 0x62, 0x6a, 0x65, 0x63, 0x74, 0x84, 0xaa  …  0x73, 0x65, 0x67, 0x6d, 0x65, 0x6e, 0x74, 0x73, 0x2f, 0x31], nothing, Dict{String, Vector{UInt8}}(), nothing, Dict{String, MeshCat.SceneTrees.SceneNode}()), \"12\" => MeshCat.SceneTrees.SceneNode(UInt8[0x83, 0xa6, 0x6f, 0x62, 0x6a, 0x65, 0x63, 0x74, 0x84, 0xaa  …  0x65, 0x67, 0x6d, 0x65, 0x6e, 0x74, 0x73, 0x2f, 0x31, 0x32], nothing, Dict{String, Vector{UInt8}}(), nothing, Dict{String, MeshCat.SceneTrees.SceneNode}()), \"2\" => MeshCat.SceneTrees.SceneNode(UInt8[0x83, 0xa6, 0x6f, 0x62, 0x6a, 0x65, 0x63, 0x74, 0x84, 0xaa  …  0x73, 0x65, 0x67, 0x6d, 0x65, 0x6e, 0x74, 0x73, 0x2f, 0x32], nothing, Dict{String, Vector{UInt8}}(), nothing, Dict{String, MeshCat.SceneTrees.SceneNode}()), \"6\" => MeshCat.SceneTrees.SceneNode(UInt8[0x83, 0xa6, 0x6f, 0x62, 0x6a, 0x65, 0x63, 0x74, 0x84, 0xaa  …  0x73, 0x65, 0x67, 0x6d, 0x65, 0x6e, 0x74, 0x73, 0x2f, 0x36], nothing, Dict{String, Vector{UInt8}}(), nothing, Dict{String, MeshCat.SceneTrees.SceneNode}()), \"11\" => MeshCat.SceneTrees.SceneNode(UInt8[0x83, 0xa6, 0x6f, 0x62, 0x6a, 0x65, 0x63, 0x74, 0x84, 0xaa  …  0x65, 0x67, 0x6d, 0x65, 0x6e, 0x74, 0x73, 0x2f, 0x31, 0x31], nothing, Dict{String, Vector{UInt8}}(), nothing, Dict{String, MeshCat.SceneTrees.SceneNode}()), \"5\" => MeshCat.SceneTrees.SceneNode(UInt8[0x83, 0xa6, 0x6f, 0x62, 0x6a, 0x65, 0x63, 0x74, 0x84, 0xaa  …  0x73, 0x65, 0x67, 0x6d, 0x65, 0x6e, 0x74, 0x73, 0x2f, 0x35], nothing, Dict{String, Vector{UInt8}}(), nothing, Dict{String, MeshCat.SceneTrees.SceneNode}()), \"7\" => MeshCat.SceneTrees.SceneNode(UInt8[0x83, 0xa6, 0x6f, 0x62, 0x6a, 0x65, 0x63, 0x74, 0x84, 0xaa  …  0x73, 0x65, 0x67, 0x6d, 0x65, 0x6e, 0x74, 0x73, 0x2f, 0x37], nothing, Dict{String, Vector{UInt8}}(), nothing, Dict{String, MeshCat.SceneTrees.SceneNode}()), \"8\" => MeshCat.SceneTrees.SceneNode(UInt8[0x83, 0xa6, 0x6f, 0x62, 0x6a, 0x65, 0x63, 0x74, 0x84, 0xaa  …  0x73, 0x65, 0x67, 0x6d, 0x65, 0x6e, 0x74, 0x73, 0x2f, 0x38], nothing, Dict{String, Vector{UInt8}}(), nothing, Dict{String, MeshCat.SceneTrees.SceneNode}()), \"10\" => MeshCat.SceneTrees.SceneNode(UInt8[0x83, 0xa6, 0x6f, 0x62, 0x6a, 0x65, 0x63, 0x74, 0x84, 0xaa  …  0x65, 0x67, 0x6d, 0x65, 0x6e, 0x74, 0x73, 0x2f, 0x31, 0x30], nothing, Dict{String, Vector{UInt8}}(), nothing, Dict{String, MeshCat.SceneTrees.SceneNode}())…)))), \"Axes\" => MeshCat.SceneTrees.SceneNode(nothing, nothing, Dict{String, Vector{UInt8}}(), nothing, Dict{String, MeshCat.SceneTrees.SceneNode}(\"<object>\" => MeshCat.SceneTrees.SceneNode(UInt8[0x83, 0xa6, 0x6f, 0x62, 0x6a, 0x65, 0x63, 0x74, 0x84, 0xaa  …  0x73, 0x2f, 0x3c, 0x6f, 0x62, 0x6a, 0x65, 0x63, 0x74, 0x3e], UInt8[0x83, 0xa6, 0x6d, 0x61, 0x74, 0x72, 0x69, 0x78, 0xc7, 0x40  …  0x73, 0x2f, 0x3c, 0x6f, 0x62, 0x6a, 0x65, 0x63, 0x74, 0x3e], Dict{String, Vector{UInt8}}(), nothing, Dict{String, MeshCat.SceneTrees.SceneNode}()))))), Set{HTTP.WebSockets.WebSocket}(), ip\"127.0.0.1\", 8700))"
      ]
     },
     "execution_count": 7,
     "metadata": {},
     "output_type": "execute_result"
    }
   ],
   "source": [
    "draw_frame(model, frame=4)"
   ]
  },
  {
   "cell_type": "markdown",
   "metadata": {},
   "source": [
    "If one wants to see the animation of the model run, it can be done as "
   ]
  },
  {
   "cell_type": "code",
   "execution_count": 8,
   "metadata": {},
   "outputs": [
    {
     "name": "stderr",
     "output_type": "stream",
     "text": [
      "\u001b[36m\u001b[1m[ \u001b[22m\u001b[39m\u001b[36m\u001b[1mInfo: \u001b[22m\u001b[39mListening on: 127.0.0.1:8701, thread id: 1\n",
      "\u001b[36m\u001b[1m┌ \u001b[22m\u001b[39m\u001b[36m\u001b[1mInfo: \u001b[22m\u001b[39mMeshCat server started. You can open the visualizer by visiting the following URL in your browser:\n",
      "\u001b[36m\u001b[1m└ \u001b[22m\u001b[39mhttp://127.0.0.1:8701\n"
     ]
    },
    {
     "data": {
      "application/vnd.webio.node+json": {
       "children": [
        {
         "children": [
          {
           "children": [
            {
             "children": [
              {
               "children": [
                {
                 "children": [
                  {
                   "children": [
                    {
                     "children": [
                      "time"
                     ],
                     "instanceArgs": {
                      "namespace": "html",
                      "tag": "label"
                     },
                     "nodeType": "DOM",
                     "props": {
                      "className": "interact ",
                      "style": {
                       "padding": "5px 10px 0px 10px"
                      }
                     },
                     "type": "node"
                    }
                   ],
                   "instanceArgs": {
                    "namespace": "html",
                    "tag": "div"
                   },
                   "nodeType": "DOM",
                   "props": {
                    "className": "interact-flex-row-left"
                   },
                   "type": "node"
                  },
                  {
                   "children": [
                    {
                     "children": [],
                     "instanceArgs": {
                      "namespace": "html",
                      "tag": "input"
                     },
                     "nodeType": "DOM",
                     "props": {
                      "attributes": {
                       "data-bind": "numericValue: index, valueUpdate: 'input', event: {change: function (){this.changes(this.changes()+1)}}",
                       "orient": "horizontal",
                       "type": "range"
                      },
                      "className": "slider slider is-fullwidth",
                      "max": 20,
                      "min": 1,
                      "step": 1,
                      "style": {}
                     },
                     "type": "node"
                    }
                   ],
                   "instanceArgs": {
                    "namespace": "html",
                    "tag": "div"
                   },
                   "nodeType": "DOM",
                   "props": {
                    "className": "interact-flex-row-center"
                   },
                   "type": "node"
                  },
                  {
                   "children": [
                    {
                     "children": [],
                     "instanceArgs": {
                      "namespace": "html",
                      "tag": "p"
                     },
                     "nodeType": "DOM",
                     "props": {
                      "attributes": {
                       "data-bind": "text: formatted_val"
                      }
                     },
                     "type": "node"
                    }
                   ],
                   "instanceArgs": {
                    "namespace": "html",
                    "tag": "div"
                   },
                   "nodeType": "DOM",
                   "props": {
                    "className": "interact-flex-row-right"
                   },
                   "type": "node"
                  }
                 ],
                 "instanceArgs": {
                  "namespace": "html",
                  "tag": "div"
                 },
                 "nodeType": "DOM",
                 "props": {
                  "className": "interact-flex-row interact-widget"
                 },
                 "type": "node"
                }
               ],
               "instanceArgs": {
                "handlers": {
                 "changes": [
                  "(function (val){return (val!=this.model[\"changes\"]()) ? (this.valueFromJulia[\"changes\"]=true, this.model[\"changes\"](val)) : undefined})"
                 ],
                 "index": [
                  "(function (val){return (val!=this.model[\"index\"]()) ? (this.valueFromJulia[\"index\"]=true, this.model[\"index\"](val)) : undefined})"
                 ]
                },
                "id": "17728277005798008321",
                "imports": {
                 "data": [
                  {
                   "name": "knockout",
                   "type": "js",
                   "url": "/assetserver/727383f2a47bd31570b7da84eee7b022dd6d7c78-knockout.js"
                  },
                  {
                   "name": "knockout_punches",
                   "type": "js",
                   "url": "/assetserver/382b41b3b1bd9f26f75861d360bad7f8beea211f-knockout_punches.js"
                  },
                  {
                   "name": null,
                   "type": "js",
                   "url": "/assetserver/5ab20f1060420992a9b82a65b735dee4d81ef413-all.js"
                  },
                  {
                   "name": null,
                   "type": "css",
                   "url": "/assetserver/1cc0ed62837210b80a182cc3676512f895dab686-style.css"
                  },
                  {
                   "name": null,
                   "type": "css",
                   "url": "/assetserver/2eee816f616df3549d7044d45e744fbf8d42bfa1-bulma_confined.min.css"
                  }
                 ],
                 "type": "async_block"
                },
                "mount_callbacks": [
                 "function () {\n    var handler = (function (ko, koPunches) {\n    ko.punches.enableAll();\n    ko.bindingHandlers.numericValue = {\n        init: function(element, valueAccessor, allBindings, data, context) {\n            var stringified = ko.observable(ko.unwrap(valueAccessor()));\n            stringified.subscribe(function(value) {\n                var val = parseFloat(value);\n                if (!isNaN(val)) {\n                    valueAccessor()(val);\n                }\n            });\n            valueAccessor().subscribe(function(value) {\n                var str = JSON.stringify(value);\n                if ((str == \"0\") && ([\"-0\", \"-0.\"].indexOf(stringified()) >= 0))\n                     return;\n                 if ([\"null\", \"\"].indexOf(str) >= 0)\n                     return;\n                stringified(str);\n            });\n            ko.applyBindingsToNode(\n                element,\n                {\n                    value: stringified,\n                    valueUpdate: allBindings.get('valueUpdate'),\n                },\n                context,\n            );\n        }\n    };\n    var json_data = {\"formatted_vals\":[\"1\",\"2\",\"3\",\"4\",\"5\",\"6\",\"7\",\"8\",\"9\",\"10\",\"11\",\"12\",\"13\",\"14\",\"15\",\"16\",\"17\",\"18\",\"19\",\"20\"],\"changes\":WebIO.getval({\"name\":\"changes\",\"scope\":\"17728277005798008321\",\"id\":\"11261902471913921578\",\"type\":\"observable\"}),\"index\":WebIO.getval({\"name\":\"index\",\"scope\":\"17728277005798008321\",\"id\":\"14234019474910218439\",\"type\":\"observable\"})};\n    var self = this;\n    function AppViewModel() {\n        for (var key in json_data) {\n            var el = json_data[key];\n            this[key] = Array.isArray(el) ? ko.observableArray(el) : ko.observable(el);\n        }\n        \n        [this[\"formatted_val\"]=ko.computed(    function(){\n        return this.formatted_vals()[parseInt(this.index())-(1)];\n    }\n,this)]\n        [this[\"changes\"].subscribe((function (val){!(this.valueFromJulia[\"changes\"]) ? (WebIO.setval({\"name\":\"changes\",\"scope\":\"17728277005798008321\",\"id\":\"11261902471913921578\",\"type\":\"observable\"},val)) : undefined; return this.valueFromJulia[\"changes\"]=false}),self),this[\"index\"].subscribe((function (val){!(this.valueFromJulia[\"index\"]) ? (WebIO.setval({\"name\":\"index\",\"scope\":\"17728277005798008321\",\"id\":\"14234019474910218439\",\"type\":\"observable\"},val)) : undefined; return this.valueFromJulia[\"index\"]=false}),self)]\n        \n    }\n    self.model = new AppViewModel();\n    self.valueFromJulia = {};\n    for (var key in json_data) {\n        self.valueFromJulia[key] = false;\n    }\n    ko.applyBindings(self.model, self.dom);\n}\n);\n    (WebIO.importBlock({\"data\":[{\"name\":\"knockout\",\"type\":\"js\",\"url\":\"/assetserver/727383f2a47bd31570b7da84eee7b022dd6d7c78-knockout.js\"},{\"name\":\"knockout_punches\",\"type\":\"js\",\"url\":\"/assetserver/382b41b3b1bd9f26f75861d360bad7f8beea211f-knockout_punches.js\"}],\"type\":\"async_block\"})).then((imports) => handler.apply(this, imports));\n}\n"
                ],
                "observables": {
                 "changes": {
                  "id": "11261902471913921578",
                  "sync": false,
                  "value": 0
                 },
                 "index": {
                  "id": "14234019474910218439",
                  "sync": true,
                  "value": 10
                 }
                },
                "systemjs_options": null
               },
               "nodeType": "Scope",
               "props": {},
               "type": "node"
              }
             ],
             "instanceArgs": {
              "namespace": "html",
              "tag": "div"
             },
             "nodeType": "DOM",
             "props": {
              "className": "field interact-widget"
             },
             "type": "node"
            },
            {
             "children": [
              {
               "children": [
                {
                 "children": [
                  {
                   "children": [
                    {
                     "children": [
                      "scale"
                     ],
                     "instanceArgs": {
                      "namespace": "html",
                      "tag": "label"
                     },
                     "nodeType": "DOM",
                     "props": {
                      "className": "interact ",
                      "style": {
                       "padding": "5px 10px 0px 10px"
                      }
                     },
                     "type": "node"
                    }
                   ],
                   "instanceArgs": {
                    "namespace": "html",
                    "tag": "div"
                   },
                   "nodeType": "DOM",
                   "props": {
                    "className": "interact-flex-row-left"
                   },
                   "type": "node"
                  },
                  {
                   "children": [
                    {
                     "children": [],
                     "instanceArgs": {
                      "namespace": "html",
                      "tag": "input"
                     },
                     "nodeType": "DOM",
                     "props": {
                      "attributes": {
                       "data-bind": "numericValue: index, valueUpdate: 'input', event: {change: function (){this.changes(this.changes()+1)}}",
                       "orient": "horizontal",
                       "type": "range"
                      },
                      "className": "slider slider is-fullwidth",
                      "max": 20,
                      "min": 1,
                      "step": 1,
                      "style": {}
                     },
                     "type": "node"
                    }
                   ],
                   "instanceArgs": {
                    "namespace": "html",
                    "tag": "div"
                   },
                   "nodeType": "DOM",
                   "props": {
                    "className": "interact-flex-row-center"
                   },
                   "type": "node"
                  },
                  {
                   "children": [
                    {
                     "children": [],
                     "instanceArgs": {
                      "namespace": "html",
                      "tag": "p"
                     },
                     "nodeType": "DOM",
                     "props": {
                      "attributes": {
                       "data-bind": "text: formatted_val"
                      }
                     },
                     "type": "node"
                    }
                   ],
                   "instanceArgs": {
                    "namespace": "html",
                    "tag": "div"
                   },
                   "nodeType": "DOM",
                   "props": {
                    "className": "interact-flex-row-right"
                   },
                   "type": "node"
                  }
                 ],
                 "instanceArgs": {
                  "namespace": "html",
                  "tag": "div"
                 },
                 "nodeType": "DOM",
                 "props": {
                  "className": "interact-flex-row interact-widget"
                 },
                 "type": "node"
                }
               ],
               "instanceArgs": {
                "handlers": {
                 "changes": [
                  "(function (val){return (val!=this.model[\"changes\"]()) ? (this.valueFromJulia[\"changes\"]=true, this.model[\"changes\"](val)) : undefined})"
                 ],
                 "index": [
                  "(function (val){return (val!=this.model[\"index\"]()) ? (this.valueFromJulia[\"index\"]=true, this.model[\"index\"](val)) : undefined})"
                 ]
                },
                "id": "1657137171959100485",
                "imports": {
                 "data": [
                  {
                   "name": "knockout",
                   "type": "js",
                   "url": "/assetserver/727383f2a47bd31570b7da84eee7b022dd6d7c78-knockout.js"
                  },
                  {
                   "name": "knockout_punches",
                   "type": "js",
                   "url": "/assetserver/382b41b3b1bd9f26f75861d360bad7f8beea211f-knockout_punches.js"
                  },
                  {
                   "name": null,
                   "type": "js",
                   "url": "/assetserver/5ab20f1060420992a9b82a65b735dee4d81ef413-all.js"
                  },
                  {
                   "name": null,
                   "type": "css",
                   "url": "/assetserver/1cc0ed62837210b80a182cc3676512f895dab686-style.css"
                  },
                  {
                   "name": null,
                   "type": "css",
                   "url": "/assetserver/2eee816f616df3549d7044d45e744fbf8d42bfa1-bulma_confined.min.css"
                  }
                 ],
                 "type": "async_block"
                },
                "mount_callbacks": [
                 "function () {\n    var handler = (function (ko, koPunches) {\n    ko.punches.enableAll();\n    ko.bindingHandlers.numericValue = {\n        init: function(element, valueAccessor, allBindings, data, context) {\n            var stringified = ko.observable(ko.unwrap(valueAccessor()));\n            stringified.subscribe(function(value) {\n                var val = parseFloat(value);\n                if (!isNaN(val)) {\n                    valueAccessor()(val);\n                }\n            });\n            valueAccessor().subscribe(function(value) {\n                var str = JSON.stringify(value);\n                if ((str == \"0\") && ([\"-0\", \"-0.\"].indexOf(stringified()) >= 0))\n                     return;\n                 if ([\"null\", \"\"].indexOf(str) >= 0)\n                     return;\n                stringified(str);\n            });\n            ko.applyBindingsToNode(\n                element,\n                {\n                    value: stringified,\n                    valueUpdate: allBindings.get('valueUpdate'),\n                },\n                context,\n            );\n        }\n    };\n    var json_data = {\"formatted_vals\":[\"0.1\",\"0.2\",\"0.3\",\"0.4\",\"0.5\",\"0.6\",\"0.7\",\"0.8\",\"0.9\",\"1.0\",\"1.1\",\"1.2\",\"1.3\",\"1.4\",\"1.5\",\"1.6\",\"1.7\",\"1.8\",\"1.9\",\"2.0\"],\"changes\":WebIO.getval({\"name\":\"changes\",\"scope\":\"1657137171959100485\",\"id\":\"6934795761798933182\",\"type\":\"observable\"}),\"index\":WebIO.getval({\"name\":\"index\",\"scope\":\"1657137171959100485\",\"id\":\"9710316209481314006\",\"type\":\"observable\"})};\n    var self = this;\n    function AppViewModel() {\n        for (var key in json_data) {\n            var el = json_data[key];\n            this[key] = Array.isArray(el) ? ko.observableArray(el) : ko.observable(el);\n        }\n        \n        [this[\"formatted_val\"]=ko.computed(    function(){\n        return this.formatted_vals()[parseInt(this.index())-(1)];\n    }\n,this)]\n        [this[\"changes\"].subscribe((function (val){!(this.valueFromJulia[\"changes\"]) ? (WebIO.setval({\"name\":\"changes\",\"scope\":\"1657137171959100485\",\"id\":\"6934795761798933182\",\"type\":\"observable\"},val)) : undefined; return this.valueFromJulia[\"changes\"]=false}),self),this[\"index\"].subscribe((function (val){!(this.valueFromJulia[\"index\"]) ? (WebIO.setval({\"name\":\"index\",\"scope\":\"1657137171959100485\",\"id\":\"9710316209481314006\",\"type\":\"observable\"},val)) : undefined; return this.valueFromJulia[\"index\"]=false}),self)]\n        \n    }\n    self.model = new AppViewModel();\n    self.valueFromJulia = {};\n    for (var key in json_data) {\n        self.valueFromJulia[key] = false;\n    }\n    ko.applyBindings(self.model, self.dom);\n}\n);\n    (WebIO.importBlock({\"data\":[{\"name\":\"knockout\",\"type\":\"js\",\"url\":\"/assetserver/727383f2a47bd31570b7da84eee7b022dd6d7c78-knockout.js\"},{\"name\":\"knockout_punches\",\"type\":\"js\",\"url\":\"/assetserver/382b41b3b1bd9f26f75861d360bad7f8beea211f-knockout_punches.js\"}],\"type\":\"async_block\"})).then((imports) => handler.apply(this, imports));\n}\n"
                ],
                "observables": {
                 "changes": {
                  "id": "6934795761798933182",
                  "sync": false,
                  "value": 0
                 },
                 "index": {
                  "id": "9710316209481314006",
                  "sync": true,
                  "value": 10
                 }
                },
                "systemjs_options": null
               },
               "nodeType": "Scope",
               "props": {},
               "type": "node"
              }
             ],
             "instanceArgs": {
              "namespace": "html",
              "tag": "div"
             },
             "nodeType": "DOM",
             "props": {
              "className": "field interact-widget"
             },
             "type": "node"
            },
            {
             "children": [
              {
               "children": [
                {
                 "children": [
                  {
                   "children": [],
                   "instanceArgs": {
                    "namespace": "html",
                    "tag": "div"
                   },
                   "nodeType": "DOM",
                   "props": {
                    "id": "container"
                   },
                   "type": "node"
                  }
                 ],
                 "instanceArgs": {
                  "handlers": {
                   "value": [
                    "(function (txt){return this.k.render(txt,this.container)})"
                   ]
                  },
                  "id": "12930739750284653825",
                  "imports": {
                   "data": [
                    {
                     "name": null,
                     "type": "js",
                     "url": "/assetserver/dd22ed1bf1896c2748f3fe616ce0b838adc895c1-katex.min.js"
                    },
                    {
                     "name": null,
                     "type": "css",
                     "url": "/assetserver/46517a424aa5e6cffc1360d7e0848b601c584ee3-katex.min.css"
                    }
                   ],
                   "type": "async_block"
                  },
                  "mount_callbacks": [
                   "function () {\n    var handler = ((function (k){this.k=k; this.container=this.dom.querySelector(\"#container\"); return k.render(\"\\\\;\\\\;\",this.container)}));\n    (WebIO.importBlock({\"data\":[{\"name\":null,\"type\":\"js\",\"url\":\"/assetserver/dd22ed1bf1896c2748f3fe616ce0b838adc895c1-katex.min.js\"},{\"name\":null,\"type\":\"css\",\"url\":\"/assetserver/46517a424aa5e6cffc1360d7e0848b601c584ee3-katex.min.css\"}],\"type\":\"async_block\"})).then((imports) => handler.apply(this, imports));\n}\n"
                  ],
                  "observables": {
                   "value": {
                    "id": "833903757871739227",
                    "sync": false,
                    "value": "\\;\\;"
                   }
                  },
                  "systemjs_options": null
                 },
                 "nodeType": "Scope",
                 "props": {},
                 "type": "node"
                }
               ],
               "instanceArgs": {
                "namespace": "html",
                "tag": "div"
               },
               "nodeType": "DOM",
               "props": {
                "className": "interact-widget"
               },
               "type": "node"
              },
              {
               "children": [
                {
                 "children": [
                  {
                   "children": [
                    "run"
                   ],
                   "instanceArgs": {
                    "namespace": "html",
                    "tag": "button"
                   },
                   "nodeType": "DOM",
                   "props": {
                    "attributes": {
                     "data-bind": "click: function (){this.clicks(this.clicks()+1)}, css: {'is-loading' : loading}"
                    },
                    "className": "is-medium button is-primary",
                    "style": {}
                   },
                   "type": "node"
                  }
                 ],
                 "instanceArgs": {
                  "handlers": {
                   "clicks": [
                    "(function (val){return (val!=this.model[\"clicks\"]()) ? (this.valueFromJulia[\"clicks\"]=true, this.model[\"clicks\"](val)) : undefined})"
                   ],
                   "loading": [
                    "(function (val){return (val!=this.model[\"loading\"]()) ? (this.valueFromJulia[\"loading\"]=true, this.model[\"loading\"](val)) : undefined})"
                   ]
                  },
                  "id": "4171793654051162283",
                  "imports": {
                   "data": [
                    {
                     "name": "knockout",
                     "type": "js",
                     "url": "/assetserver/727383f2a47bd31570b7da84eee7b022dd6d7c78-knockout.js"
                    },
                    {
                     "name": "knockout_punches",
                     "type": "js",
                     "url": "/assetserver/382b41b3b1bd9f26f75861d360bad7f8beea211f-knockout_punches.js"
                    },
                    {
                     "name": null,
                     "type": "js",
                     "url": "/assetserver/5ab20f1060420992a9b82a65b735dee4d81ef413-all.js"
                    },
                    {
                     "name": null,
                     "type": "css",
                     "url": "/assetserver/1cc0ed62837210b80a182cc3676512f895dab686-style.css"
                    },
                    {
                     "name": null,
                     "type": "css",
                     "url": "/assetserver/2eee816f616df3549d7044d45e744fbf8d42bfa1-bulma_confined.min.css"
                    }
                   ],
                   "type": "async_block"
                  },
                  "mount_callbacks": [
                   "function () {\n    var handler = (function (ko, koPunches) {\n    ko.punches.enableAll();\n    ko.bindingHandlers.numericValue = {\n        init: function(element, valueAccessor, allBindings, data, context) {\n            var stringified = ko.observable(ko.unwrap(valueAccessor()));\n            stringified.subscribe(function(value) {\n                var val = parseFloat(value);\n                if (!isNaN(val)) {\n                    valueAccessor()(val);\n                }\n            });\n            valueAccessor().subscribe(function(value) {\n                var str = JSON.stringify(value);\n                if ((str == \"0\") && ([\"-0\", \"-0.\"].indexOf(stringified()) >= 0))\n                     return;\n                 if ([\"null\", \"\"].indexOf(str) >= 0)\n                     return;\n                stringified(str);\n            });\n            ko.applyBindingsToNode(\n                element,\n                {\n                    value: stringified,\n                    valueUpdate: allBindings.get('valueUpdate'),\n                },\n                context,\n            );\n        }\n    };\n    var json_data = {\"loading\":WebIO.getval({\"name\":\"loading\",\"scope\":\"4171793654051162283\",\"id\":\"5069131507991618399\",\"type\":\"observable\"}),\"clicks\":WebIO.getval({\"name\":\"clicks\",\"scope\":\"4171793654051162283\",\"id\":\"9278667621641795061\",\"type\":\"observable\"})};\n    var self = this;\n    function AppViewModel() {\n        for (var key in json_data) {\n            var el = json_data[key];\n            this[key] = Array.isArray(el) ? ko.observableArray(el) : ko.observable(el);\n        }\n        \n        \n        [this[\"loading\"].subscribe((function (val){!(this.valueFromJulia[\"loading\"]) ? (WebIO.setval({\"name\":\"loading\",\"scope\":\"4171793654051162283\",\"id\":\"5069131507991618399\",\"type\":\"observable\"},val)) : undefined; return this.valueFromJulia[\"loading\"]=false}),self),this[\"clicks\"].subscribe((function (val){!(this.valueFromJulia[\"clicks\"]) ? (WebIO.setval({\"name\":\"clicks\",\"scope\":\"4171793654051162283\",\"id\":\"9278667621641795061\",\"type\":\"observable\"},val)) : undefined; return this.valueFromJulia[\"clicks\"]=false}),self)]\n        \n    }\n    self.model = new AppViewModel();\n    self.valueFromJulia = {};\n    for (var key in json_data) {\n        self.valueFromJulia[key] = false;\n    }\n    ko.applyBindings(self.model, self.dom);\n}\n);\n    (WebIO.importBlock({\"data\":[{\"name\":\"knockout\",\"type\":\"js\",\"url\":\"/assetserver/727383f2a47bd31570b7da84eee7b022dd6d7c78-knockout.js\"},{\"name\":\"knockout_punches\",\"type\":\"js\",\"url\":\"/assetserver/382b41b3b1bd9f26f75861d360bad7f8beea211f-knockout_punches.js\"}],\"type\":\"async_block\"})).then((imports) => handler.apply(this, imports));\n}\n"
                  ],
                  "observables": {
                   "clicks": {
                    "id": "9278667621641795061",
                    "sync": true,
                    "value": 0
                   },
                   "loading": {
                    "id": "5069131507991618399",
                    "sync": false,
                    "value": false
                   }
                  },
                  "systemjs_options": null
                 },
                 "nodeType": "Scope",
                 "props": {},
                 "type": "node"
                }
               ],
               "instanceArgs": {
                "namespace": "html",
                "tag": "div"
               },
               "nodeType": "DOM",
               "props": {
                "className": "field interact-widget"
               },
               "type": "node"
              },
              {
               "children": [
                {
                 "children": [
                  {
                   "children": [],
                   "instanceArgs": {
                    "namespace": "html",
                    "tag": "div"
                   },
                   "nodeType": "DOM",
                   "props": {
                    "id": "container"
                   },
                   "type": "node"
                  }
                 ],
                 "instanceArgs": {
                  "handlers": {
                   "value": [
                    "(function (txt){return this.k.render(txt,this.container)})"
                   ]
                  },
                  "id": "12930739750284653825",
                  "imports": {
                   "data": [
                    {
                     "name": null,
                     "type": "js",
                     "url": "/assetserver/dd22ed1bf1896c2748f3fe616ce0b838adc895c1-katex.min.js"
                    },
                    {
                     "name": null,
                     "type": "css",
                     "url": "/assetserver/46517a424aa5e6cffc1360d7e0848b601c584ee3-katex.min.css"
                    }
                   ],
                   "type": "async_block"
                  },
                  "mount_callbacks": [
                   "function () {\n    var handler = ((function (k){this.k=k; this.container=this.dom.querySelector(\"#container\"); return k.render(\"\\\\;\\\\;\",this.container)}));\n    (WebIO.importBlock({\"data\":[{\"name\":null,\"type\":\"js\",\"url\":\"/assetserver/dd22ed1bf1896c2748f3fe616ce0b838adc895c1-katex.min.js\"},{\"name\":null,\"type\":\"css\",\"url\":\"/assetserver/46517a424aa5e6cffc1360d7e0848b601c584ee3-katex.min.css\"}],\"type\":\"async_block\"})).then((imports) => handler.apply(this, imports));\n}\n"
                  ],
                  "observables": {
                   "value": {
                    "id": "833903757871739227",
                    "sync": false,
                    "value": "\\;\\;"
                   }
                  },
                  "systemjs_options": null
                 },
                 "nodeType": "Scope",
                 "props": {},
                 "type": "node"
                }
               ],
               "instanceArgs": {
                "namespace": "html",
                "tag": "div"
               },
               "nodeType": "DOM",
               "props": {
                "className": "interact-widget"
               },
               "type": "node"
              },
              {
               "children": [
                {
                 "children": [
                  {
                   "children": [
                    "stop"
                   ],
                   "instanceArgs": {
                    "namespace": "html",
                    "tag": "button"
                   },
                   "nodeType": "DOM",
                   "props": {
                    "attributes": {
                     "data-bind": "click: function (){this.clicks(this.clicks()+1)}, css: {'is-loading' : loading}"
                    },
                    "className": "is-medium button is-primary",
                    "style": {}
                   },
                   "type": "node"
                  }
                 ],
                 "instanceArgs": {
                  "handlers": {
                   "clicks": [
                    "(function (val){return (val!=this.model[\"clicks\"]()) ? (this.valueFromJulia[\"clicks\"]=true, this.model[\"clicks\"](val)) : undefined})"
                   ],
                   "loading": [
                    "(function (val){return (val!=this.model[\"loading\"]()) ? (this.valueFromJulia[\"loading\"]=true, this.model[\"loading\"](val)) : undefined})"
                   ]
                  },
                  "id": "5268508197707541177",
                  "imports": {
                   "data": [
                    {
                     "name": "knockout",
                     "type": "js",
                     "url": "/assetserver/727383f2a47bd31570b7da84eee7b022dd6d7c78-knockout.js"
                    },
                    {
                     "name": "knockout_punches",
                     "type": "js",
                     "url": "/assetserver/382b41b3b1bd9f26f75861d360bad7f8beea211f-knockout_punches.js"
                    },
                    {
                     "name": null,
                     "type": "js",
                     "url": "/assetserver/5ab20f1060420992a9b82a65b735dee4d81ef413-all.js"
                    },
                    {
                     "name": null,
                     "type": "css",
                     "url": "/assetserver/1cc0ed62837210b80a182cc3676512f895dab686-style.css"
                    },
                    {
                     "name": null,
                     "type": "css",
                     "url": "/assetserver/2eee816f616df3549d7044d45e744fbf8d42bfa1-bulma_confined.min.css"
                    }
                   ],
                   "type": "async_block"
                  },
                  "mount_callbacks": [
                   "function () {\n    var handler = (function (ko, koPunches) {\n    ko.punches.enableAll();\n    ko.bindingHandlers.numericValue = {\n        init: function(element, valueAccessor, allBindings, data, context) {\n            var stringified = ko.observable(ko.unwrap(valueAccessor()));\n            stringified.subscribe(function(value) {\n                var val = parseFloat(value);\n                if (!isNaN(val)) {\n                    valueAccessor()(val);\n                }\n            });\n            valueAccessor().subscribe(function(value) {\n                var str = JSON.stringify(value);\n                if ((str == \"0\") && ([\"-0\", \"-0.\"].indexOf(stringified()) >= 0))\n                     return;\n                 if ([\"null\", \"\"].indexOf(str) >= 0)\n                     return;\n                stringified(str);\n            });\n            ko.applyBindingsToNode(\n                element,\n                {\n                    value: stringified,\n                    valueUpdate: allBindings.get('valueUpdate'),\n                },\n                context,\n            );\n        }\n    };\n    var json_data = {\"loading\":WebIO.getval({\"name\":\"loading\",\"scope\":\"5268508197707541177\",\"id\":\"17643078473980188699\",\"type\":\"observable\"}),\"clicks\":WebIO.getval({\"name\":\"clicks\",\"scope\":\"5268508197707541177\",\"id\":\"15051057080484272974\",\"type\":\"observable\"})};\n    var self = this;\n    function AppViewModel() {\n        for (var key in json_data) {\n            var el = json_data[key];\n            this[key] = Array.isArray(el) ? ko.observableArray(el) : ko.observable(el);\n        }\n        \n        \n        [this[\"loading\"].subscribe((function (val){!(this.valueFromJulia[\"loading\"]) ? (WebIO.setval({\"name\":\"loading\",\"scope\":\"5268508197707541177\",\"id\":\"17643078473980188699\",\"type\":\"observable\"},val)) : undefined; return this.valueFromJulia[\"loading\"]=false}),self),this[\"clicks\"].subscribe((function (val){!(this.valueFromJulia[\"clicks\"]) ? (WebIO.setval({\"name\":\"clicks\",\"scope\":\"5268508197707541177\",\"id\":\"15051057080484272974\",\"type\":\"observable\"},val)) : undefined; return this.valueFromJulia[\"clicks\"]=false}),self)]\n        \n    }\n    self.model = new AppViewModel();\n    self.valueFromJulia = {};\n    for (var key in json_data) {\n        self.valueFromJulia[key] = false;\n    }\n    ko.applyBindings(self.model, self.dom);\n}\n);\n    (WebIO.importBlock({\"data\":[{\"name\":\"knockout\",\"type\":\"js\",\"url\":\"/assetserver/727383f2a47bd31570b7da84eee7b022dd6d7c78-knockout.js\"},{\"name\":\"knockout_punches\",\"type\":\"js\",\"url\":\"/assetserver/382b41b3b1bd9f26f75861d360bad7f8beea211f-knockout_punches.js\"}],\"type\":\"async_block\"})).then((imports) => handler.apply(this, imports));\n}\n"
                  ],
                  "observables": {
                   "clicks": {
                    "id": "15051057080484272974",
                    "sync": true,
                    "value": 0
                   },
                   "loading": {
                    "id": "17643078473980188699",
                    "sync": false,
                    "value": false
                   }
                  },
                  "systemjs_options": null
                 },
                 "nodeType": "Scope",
                 "props": {},
                 "type": "node"
                }
               ],
               "instanceArgs": {
                "namespace": "html",
                "tag": "div"
               },
               "nodeType": "DOM",
               "props": {
                "className": "field interact-widget"
               },
               "type": "node"
              }
             ],
             "instanceArgs": {
              "namespace": "html",
              "tag": "div"
             },
             "nodeType": "DOM",
             "props": {
              "style": {
               "display": "flex",
               "flex-direction": "row"
              }
             },
             "type": "node"
            }
           ],
           "instanceArgs": {
            "namespace": "html",
            "tag": "div"
           },
           "nodeType": "DOM",
           "props": {
            "style": {
             "display": "flex",
             "flex-direction": "column"
            }
           },
           "type": "node"
          },
          {
           "children": [
            {
             "children": [],
             "instanceArgs": {
              "namespace": "html",
              "tag": "div"
             },
             "nodeType": "DOM",
             "props": {
              "className": "webio-observable",
              "setInnerHtml": "    <div style=\"height: 500px; width: 100%; overflow-x: auto; overflow-y: hidden; resize: both\">\n    <iframe src=\"http://127.0.0.1:8701\" style=\"width: 100%; height: 100%; border: none\"></iframe>\n    </div>\n"
             },
             "type": "node"
            }
           ],
           "instanceArgs": {
            "handlers": {
             "obs-output": [
              "function (value, scope) {\n    scope.setInnerHTML(value);\n}\n"
             ]
            },
            "id": "7291390447413882245",
            "imports": {
             "data": [],
             "type": "async_block"
            },
            "mount_callbacks": [],
            "observables": {
             "obs-output": {
              "id": "12630099894937458995",
              "sync": false,
              "value": "    <div style=\"height: 500px; width: 100%; overflow-x: auto; overflow-y: hidden; resize: both\">\n    <iframe src=\"http://127.0.0.1:8701\" style=\"width: 100%; height: 100%; border: none\"></iframe>\n    </div>\n"
             }
            },
            "systemjs_options": null
           },
           "nodeType": "Scope",
           "props": {},
           "type": "node"
          },
          {
           "children": [
            {
             "children": [
              {
               "children": [],
               "instanceArgs": {
                "namespace": "html",
                "tag": "div"
               },
               "nodeType": "DOM",
               "props": {
                "id": "container"
               },
               "type": "node"
              }
             ],
             "instanceArgs": {
              "handlers": {
               "value": [
                "(function (txt){return this.k.render(txt,this.container)})"
               ]
              },
              "id": "12930739750284653825",
              "imports": {
               "data": [
                {
                 "name": null,
                 "type": "js",
                 "url": "/assetserver/dd22ed1bf1896c2748f3fe616ce0b838adc895c1-katex.min.js"
                },
                {
                 "name": null,
                 "type": "css",
                 "url": "/assetserver/46517a424aa5e6cffc1360d7e0848b601c584ee3-katex.min.css"
                }
               ],
               "type": "async_block"
              },
              "mount_callbacks": [
               "function () {\n    var handler = ((function (k){this.k=k; this.container=this.dom.querySelector(\"#container\"); return k.render(\"\\\\;\\\\;\",this.container)}));\n    (WebIO.importBlock({\"data\":[{\"name\":null,\"type\":\"js\",\"url\":\"/assetserver/dd22ed1bf1896c2748f3fe616ce0b838adc895c1-katex.min.js\"},{\"name\":null,\"type\":\"css\",\"url\":\"/assetserver/46517a424aa5e6cffc1360d7e0848b601c584ee3-katex.min.css\"}],\"type\":\"async_block\"})).then((imports) => handler.apply(this, imports));\n}\n"
              ],
              "observables": {
               "value": {
                "id": "833903757871739227",
                "sync": false,
                "value": "\\;\\;"
               }
              },
              "systemjs_options": null
             },
             "nodeType": "Scope",
             "props": {},
             "type": "node"
            }
           ],
           "instanceArgs": {
            "namespace": "html",
            "tag": "div"
           },
           "nodeType": "DOM",
           "props": {
            "className": "interact-widget"
           },
           "type": "node"
          },
          {
           "children": [
            {
             "children": [
              {
               "children": [],
               "instanceArgs": {
                "namespace": "html",
                "tag": "div"
               },
               "nodeType": "DOM",
               "props": {
                "className": "webio-observable",
                "setInnerHtml": "<?xml version=\"1.0\" encoding=\"utf-8\"?>\n<svg xmlns=\"http://www.w3.org/2000/svg\" xmlns:xlink=\"http://www.w3.org/1999/xlink\" width=\"300\" height=\"150\" viewBox=\"0 0 1200 600\">\n<defs>\n  <clipPath id=\"clip260\">\n    <rect x=\"0\" y=\"0\" width=\"1200\" height=\"600\"/>\n  </clipPath>\n</defs>\n<path clip-path=\"url(#clip260)\" d=\"M0 600 L1200 600 L1200 0 L0 0  Z\" fill=\"#ffffff\" fill-rule=\"evenodd\" fill-opacity=\"1\"/>\n<defs>\n  <clipPath id=\"clip261\">\n    <rect x=\"240\" y=\"0\" width=\"841\" height=\"600\"/>\n  </clipPath>\n</defs>\n<path clip-path=\"url(#clip260)\" d=\"M144.598 453.7 L876.715 453.7 L876.715 47.2441 L144.598 47.2441  Z\" fill=\"#ffffff\" fill-rule=\"evenodd\" fill-opacity=\"1\"/>\n<defs>\n  <clipPath id=\"clip262\">\n    <rect x=\"144\" y=\"47\" width=\"733\" height=\"407\"/>\n  </clipPath>\n</defs>\n<polyline clip-path=\"url(#clip262)\" style=\"stroke:#000000; stroke-linecap:round; stroke-linejoin:round; stroke-width:2; stroke-opacity:0.1; fill:none\" points=\"242.06,453.7 242.06,47.2441 \"/>\n<polyline clip-path=\"url(#clip262)\" style=\"stroke:#000000; stroke-linecap:round; stroke-linejoin:round; stroke-width:2; stroke-opacity:0.1; fill:none\" points=\"395.544,453.7 395.544,47.2441 \"/>\n<polyline clip-path=\"url(#clip262)\" style=\"stroke:#000000; stroke-linecap:round; stroke-linejoin:round; stroke-width:2; stroke-opacity:0.1; fill:none\" points=\"549.028,453.7 549.028,47.2441 \"/>\n<polyline clip-path=\"url(#clip262)\" style=\"stroke:#000000; stroke-linecap:round; stroke-linejoin:round; stroke-width:2; stroke-opacity:0.1; fill:none\" points=\"702.511,453.7 702.511,47.2441 \"/>\n<polyline clip-path=\"url(#clip262)\" style=\"stroke:#000000; stroke-linecap:round; stroke-linejoin:round; stroke-width:2; stroke-opacity:0.1; fill:none\" points=\"855.995,453.7 855.995,47.2441 \"/>\n<polyline clip-path=\"url(#clip260)\" style=\"stroke:#000000; stroke-linecap:round; stroke-linejoin:round; stroke-width:4; stroke-opacity:1; fill:none\" points=\"144.598,453.7 876.715,453.7 \"/>\n<polyline clip-path=\"url(#clip260)\" style=\"stroke:#000000; stroke-linecap:round; stroke-linejoin:round; stroke-width:4; stroke-opacity:1; fill:none\" points=\"242.06,453.7 242.06,434.802 \"/>\n<polyline clip-path=\"url(#clip260)\" style=\"stroke:#000000; stroke-linecap:round; stroke-linejoin:round; stroke-width:4; stroke-opacity:1; fill:none\" points=\"395.544,453.7 395.544,434.802 \"/>\n<polyline clip-path=\"url(#clip260)\" style=\"stroke:#000000; stroke-linecap:round; stroke-linejoin:round; stroke-width:4; stroke-opacity:1; fill:none\" points=\"549.028,453.7 549.028,434.802 \"/>\n<polyline clip-path=\"url(#clip260)\" style=\"stroke:#000000; stroke-linecap:round; stroke-linejoin:round; stroke-width:4; stroke-opacity:1; fill:none\" points=\"702.511,453.7 702.511,434.802 \"/>\n<polyline clip-path=\"url(#clip260)\" style=\"stroke:#000000; stroke-linecap:round; stroke-linejoin:round; stroke-width:4; stroke-opacity:1; fill:none\" points=\"855.995,453.7 855.995,434.802 \"/>\n<path clip-path=\"url(#clip260)\" d=\"M236.713 502.565 L253.033 502.565 L253.033 506.5 L231.088 506.5 L231.088 502.565 Q233.75 499.81 238.334 495.18 Q242.94 490.528 244.121 489.185 Q246.366 486.662 247.246 484.926 Q248.148 483.167 248.148 481.477 Q248.148 478.722 246.204 476.986 Q244.283 475.25 241.181 475.25 Q238.982 475.25 236.528 476.014 Q234.097 476.778 231.32 478.329 L231.32 473.607 Q234.144 472.472 236.597 471.894 Q239.051 471.315 241.088 471.315 Q246.458 471.315 249.653 474 Q252.847 476.685 252.847 481.176 Q252.847 483.306 252.037 485.227 Q251.25 487.125 249.144 489.718 Q248.565 490.389 245.463 493.606 Q242.361 496.801 236.713 502.565 Z\" fill=\"#000000\" fill-rule=\"nonzero\" fill-opacity=\"1\" /><path clip-path=\"url(#clip260)\" d=\"M398.553 476.014 L386.748 494.463 L398.553 494.463 L398.553 476.014 M397.326 471.94 L403.206 471.94 L403.206 494.463 L408.137 494.463 L408.137 498.352 L403.206 498.352 L403.206 506.5 L398.553 506.5 L398.553 498.352 L382.951 498.352 L382.951 493.838 L397.326 471.94 Z\" fill=\"#000000\" fill-rule=\"nonzero\" fill-opacity=\"1\" /><path clip-path=\"url(#clip260)\" d=\"M549.433 487.356 Q546.285 487.356 544.433 489.509 Q542.604 491.662 542.604 495.412 Q542.604 499.139 544.433 501.315 Q546.285 503.467 549.433 503.467 Q552.581 503.467 554.41 501.315 Q556.261 499.139 556.261 495.412 Q556.261 491.662 554.41 489.509 Q552.581 487.356 549.433 487.356 M558.715 472.704 L558.715 476.963 Q556.956 476.13 555.15 475.69 Q553.368 475.25 551.609 475.25 Q546.979 475.25 544.525 478.375 Q542.095 481.5 541.748 487.819 Q543.113 485.806 545.174 484.741 Q547.234 483.653 549.711 483.653 Q554.919 483.653 557.928 486.824 Q560.96 489.972 560.96 495.412 Q560.96 500.736 557.812 503.954 Q554.664 507.171 549.433 507.171 Q543.437 507.171 540.266 502.588 Q537.095 497.981 537.095 489.255 Q537.095 481.06 540.984 476.199 Q544.873 471.315 551.423 471.315 Q553.183 471.315 554.965 471.662 Q556.771 472.009 558.715 472.704 Z\" fill=\"#000000\" fill-rule=\"nonzero\" fill-opacity=\"1\" /><path clip-path=\"url(#clip260)\" d=\"M702.511 490.088 Q699.178 490.088 697.257 491.87 Q695.359 493.653 695.359 496.778 Q695.359 499.903 697.257 501.685 Q699.178 503.467 702.511 503.467 Q705.845 503.467 707.766 501.685 Q709.687 499.88 709.687 496.778 Q709.687 493.653 707.766 491.87 Q705.868 490.088 702.511 490.088 M697.835 488.097 Q694.826 487.356 693.136 485.296 Q691.47 483.236 691.47 480.273 Q691.47 476.13 694.41 473.722 Q697.372 471.315 702.511 471.315 Q707.673 471.315 710.613 473.722 Q713.553 476.13 713.553 480.273 Q713.553 483.236 711.863 485.296 Q710.196 487.356 707.21 488.097 Q710.59 488.884 712.465 491.176 Q714.363 493.468 714.363 496.778 Q714.363 501.801 711.284 504.486 Q708.229 507.171 702.511 507.171 Q696.794 507.171 693.715 504.486 Q690.66 501.801 690.66 496.778 Q690.66 493.468 692.558 491.176 Q694.456 488.884 697.835 488.097 M696.122 480.713 Q696.122 483.398 697.789 484.903 Q699.479 486.407 702.511 486.407 Q705.521 486.407 707.21 484.903 Q708.923 483.398 708.923 480.713 Q708.923 478.028 707.21 476.523 Q705.521 475.019 702.511 475.019 Q699.479 475.019 697.789 476.523 Q696.122 478.028 696.122 480.713 Z\" fill=\"#000000\" fill-rule=\"nonzero\" fill-opacity=\"1\" /><path clip-path=\"url(#clip260)\" d=\"M830.683 502.565 L838.321 502.565 L838.321 476.199 L830.011 477.866 L830.011 473.607 L838.275 471.94 L842.951 471.94 L842.951 502.565 L850.59 502.565 L850.59 506.5 L830.683 506.5 L830.683 502.565 Z\" fill=\"#000000\" fill-rule=\"nonzero\" fill-opacity=\"1\" /><path clip-path=\"url(#clip260)\" d=\"M870.034 475.019 Q866.423 475.019 864.594 478.583 Q862.789 482.125 862.789 489.255 Q862.789 496.361 864.594 499.926 Q866.423 503.467 870.034 503.467 Q873.668 503.467 875.474 499.926 Q877.303 496.361 877.303 489.255 Q877.303 482.125 875.474 478.583 Q873.668 475.019 870.034 475.019 M870.034 471.315 Q875.844 471.315 878.9 475.921 Q881.979 480.505 881.979 489.255 Q881.979 497.981 878.9 502.588 Q875.844 507.171 870.034 507.171 Q864.224 507.171 861.145 502.588 Q858.09 497.981 858.09 489.255 Q858.09 480.505 861.145 475.921 Q864.224 471.315 870.034 471.315 Z\" fill=\"#000000\" fill-rule=\"nonzero\" fill-opacity=\"1\" /><path clip-path=\"url(#clip260)\" d=\"M447.7 534.794 L447.7 544.916 L459.763 544.916 L459.763 549.467 L447.7 549.467 L447.7 568.819 Q447.7 573.18 448.878 574.421 Q450.087 575.662 453.747 575.662 L459.763 575.662 L459.763 580.564 L453.747 580.564 Q446.968 580.564 444.39 578.049 Q441.812 575.503 441.812 568.819 L441.812 549.467 L437.515 549.467 L437.515 544.916 L441.812 544.916 L441.812 534.794 L447.7 534.794 Z\" fill=\"#000000\" fill-rule=\"nonzero\" fill-opacity=\"1\" /><path clip-path=\"url(#clip260)\" d=\"M467.465 544.916 L473.322 544.916 L473.322 580.564 L467.465 580.564 L467.465 544.916 M467.465 531.039 L473.322 531.039 L473.322 538.455 L467.465 538.455 L467.465 531.039 Z\" fill=\"#000000\" fill-rule=\"nonzero\" fill-opacity=\"1\" /><path clip-path=\"url(#clip260)\" d=\"M511.23 546.285 L511.23 551.759 Q508.747 550.39 506.233 549.722 Q503.75 549.022 501.204 549.022 Q495.506 549.022 492.355 552.65 Q489.204 556.247 489.204 562.772 Q489.204 569.297 492.355 572.925 Q495.506 576.522 501.204 576.522 Q503.75 576.522 506.233 575.853 Q508.747 575.153 511.23 573.784 L511.23 579.195 Q508.779 580.341 506.137 580.914 Q503.527 581.487 500.567 581.487 Q492.514 581.487 487.772 576.426 Q483.03 571.365 483.03 562.772 Q483.03 554.051 487.804 549.054 Q492.61 544.057 500.949 544.057 Q503.654 544.057 506.233 544.629 Q508.811 545.171 511.23 546.285 Z\" fill=\"#000000\" fill-rule=\"nonzero\" fill-opacity=\"1\" /><path clip-path=\"url(#clip260)\" d=\"M521.192 531.039 L527.08 531.039 L527.08 560.289 L544.554 544.916 L552.034 544.916 L533.128 561.594 L552.83 580.564 L545.191 580.564 L527.08 563.154 L527.08 580.564 L521.192 580.564 L521.192 531.039 Z\" fill=\"#000000\" fill-rule=\"nonzero\" fill-opacity=\"1\" /><path clip-path=\"url(#clip260)\" d=\"M581.889 545.966 L581.889 551.504 Q579.406 550.231 576.733 549.595 Q574.059 548.958 571.195 548.958 Q566.834 548.958 564.638 550.295 Q562.474 551.632 562.474 554.305 Q562.474 556.342 564.033 557.52 Q565.593 558.666 570.303 559.716 L572.309 560.162 Q578.547 561.499 581.157 563.949 Q583.799 566.368 583.799 570.729 Q583.799 575.694 579.852 578.59 Q575.937 581.487 569.062 581.487 Q566.198 581.487 563.078 580.914 Q559.991 580.373 556.553 579.259 L556.553 573.211 Q559.8 574.898 562.951 575.758 Q566.102 576.585 569.189 576.585 Q573.327 576.585 575.555 575.185 Q577.783 573.753 577.783 571.174 Q577.783 568.787 576.16 567.514 Q574.568 566.241 569.126 565.063 L567.089 564.586 Q561.646 563.44 559.227 561.085 Q556.808 558.698 556.808 554.56 Q556.808 549.531 560.373 546.794 Q563.938 544.057 570.494 544.057 Q573.741 544.057 576.605 544.534 Q579.47 545.011 581.889 545.966 Z\" fill=\"#000000\" fill-rule=\"nonzero\" fill-opacity=\"1\" /><polyline clip-path=\"url(#clip262)\" style=\"stroke:#000000; stroke-linecap:round; stroke-linejoin:round; stroke-width:2; stroke-opacity:0.1; fill:none\" points=\"144.598,442.196 876.715,442.196 \"/>\n<polyline clip-path=\"url(#clip262)\" style=\"stroke:#000000; stroke-linecap:round; stroke-linejoin:round; stroke-width:2; stroke-opacity:0.1; fill:none\" points=\"144.598,371.653 876.715,371.653 \"/>\n<polyline clip-path=\"url(#clip262)\" style=\"stroke:#000000; stroke-linecap:round; stroke-linejoin:round; stroke-width:2; stroke-opacity:0.1; fill:none\" points=\"144.598,301.11 876.715,301.11 \"/>\n<polyline clip-path=\"url(#clip262)\" style=\"stroke:#000000; stroke-linecap:round; stroke-linejoin:round; stroke-width:2; stroke-opacity:0.1; fill:none\" points=\"144.598,230.567 876.715,230.567 \"/>\n<polyline clip-path=\"url(#clip262)\" style=\"stroke:#000000; stroke-linecap:round; stroke-linejoin:round; stroke-width:2; stroke-opacity:0.1; fill:none\" points=\"144.598,160.024 876.715,160.024 \"/>\n<polyline clip-path=\"url(#clip262)\" style=\"stroke:#000000; stroke-linecap:round; stroke-linejoin:round; stroke-width:2; stroke-opacity:0.1; fill:none\" points=\"144.598,89.4813 876.715,89.4813 \"/>\n<polyline clip-path=\"url(#clip260)\" style=\"stroke:#000000; stroke-linecap:round; stroke-linejoin:round; stroke-width:4; stroke-opacity:1; fill:none\" points=\"144.598,453.7 144.598,47.2441 \"/>\n<polyline clip-path=\"url(#clip260)\" style=\"stroke:#000000; stroke-linecap:round; stroke-linejoin:round; stroke-width:4; stroke-opacity:1; fill:none\" points=\"144.598,442.196 158.322,442.196 \"/>\n<polyline clip-path=\"url(#clip260)\" style=\"stroke:#000000; stroke-linecap:round; stroke-linejoin:round; stroke-width:4; stroke-opacity:1; fill:none\" points=\"144.598,371.653 158.322,371.653 \"/>\n<polyline clip-path=\"url(#clip260)\" style=\"stroke:#000000; stroke-linecap:round; stroke-linejoin:round; stroke-width:4; stroke-opacity:1; fill:none\" points=\"144.598,301.11 158.322,301.11 \"/>\n<polyline clip-path=\"url(#clip260)\" style=\"stroke:#000000; stroke-linecap:round; stroke-linejoin:round; stroke-width:4; stroke-opacity:1; fill:none\" points=\"144.598,230.567 158.322,230.567 \"/>\n<polyline clip-path=\"url(#clip260)\" style=\"stroke:#000000; stroke-linecap:round; stroke-linejoin:round; stroke-width:4; stroke-opacity:1; fill:none\" points=\"144.598,160.024 158.322,160.024 \"/>\n<polyline clip-path=\"url(#clip260)\" style=\"stroke:#000000; stroke-linecap:round; stroke-linejoin:round; stroke-width:4; stroke-opacity:1; fill:none\" points=\"144.598,89.4813 158.322,89.4813 \"/>\n<path clip-path=\"url(#clip260)\" d=\"M71.0198 427.995 Q67.4087 427.995 65.58 431.56 Q63.7745 435.102 63.7745 442.231 Q63.7745 449.338 65.58 452.902 Q67.4087 456.444 71.0198 456.444 Q74.6541 456.444 76.4596 452.902 Q78.2883 449.338 78.2883 442.231 Q78.2883 435.102 76.4596 431.56 Q74.6541 427.995 71.0198 427.995 M71.0198 424.291 Q76.83 424.291 79.8855 428.898 Q82.9642 433.481 82.9642 442.231 Q82.9642 450.958 79.8855 455.564 Q76.83 460.148 71.0198 460.148 Q65.2097 460.148 62.131 455.564 Q59.0754 450.958 59.0754 442.231 Q59.0754 433.481 62.131 428.898 Q65.2097 424.291 71.0198 424.291 Z\" fill=\"#000000\" fill-rule=\"nonzero\" fill-opacity=\"1\" /><path clip-path=\"url(#clip260)\" d=\"M91.1818 453.597 L96.066 453.597 L96.066 459.476 L91.1818 459.476 L91.1818 453.597 Z\" fill=\"#000000\" fill-rule=\"nonzero\" fill-opacity=\"1\" /><path clip-path=\"url(#clip260)\" d=\"M110.279 455.541 L126.598 455.541 L126.598 459.476 L104.654 459.476 L104.654 455.541 Q107.316 452.787 111.899 448.157 Q116.506 443.504 117.686 442.162 Q119.932 439.639 120.811 437.902 Q121.714 436.143 121.714 434.453 Q121.714 431.699 119.77 429.963 Q117.848 428.227 114.746 428.227 Q112.547 428.227 110.094 428.99 Q107.663 429.754 104.885 431.305 L104.885 426.583 Q107.709 425.449 110.163 424.87 Q112.617 424.291 114.654 424.291 Q120.024 424.291 123.219 426.977 Q126.413 429.662 126.413 434.152 Q126.413 436.282 125.603 438.203 Q124.816 440.101 122.709 442.694 Q122.131 443.365 119.029 446.583 Q115.927 449.777 110.279 455.541 Z\" fill=\"#000000\" fill-rule=\"nonzero\" fill-opacity=\"1\" /><path clip-path=\"url(#clip260)\" d=\"M70.0708 357.452 Q66.4597 357.452 64.631 361.017 Q62.8254 364.558 62.8254 371.688 Q62.8254 378.795 64.631 382.359 Q66.4597 385.901 70.0708 385.901 Q73.705 385.901 75.5105 382.359 Q77.3392 378.795 77.3392 371.688 Q77.3392 364.558 75.5105 361.017 Q73.705 357.452 70.0708 357.452 M70.0708 353.748 Q75.8809 353.748 78.9365 358.355 Q82.0151 362.938 82.0151 371.688 Q82.0151 380.415 78.9365 385.021 Q75.8809 389.605 70.0708 389.605 Q64.2606 389.605 61.1819 385.021 Q58.1264 380.415 58.1264 371.688 Q58.1264 362.938 61.1819 358.355 Q64.2606 353.748 70.0708 353.748 Z\" fill=\"#000000\" fill-rule=\"nonzero\" fill-opacity=\"1\" /><path clip-path=\"url(#clip260)\" d=\"M90.2327 383.054 L95.1169 383.054 L95.1169 388.933 L90.2327 388.933 L90.2327 383.054 Z\" fill=\"#000000\" fill-rule=\"nonzero\" fill-opacity=\"1\" /><path clip-path=\"url(#clip260)\" d=\"M119.469 370.299 Q122.825 371.017 124.7 373.285 Q126.598 375.554 126.598 378.887 Q126.598 384.003 123.08 386.804 Q119.561 389.605 113.08 389.605 Q110.904 389.605 108.589 389.165 Q106.297 388.748 103.844 387.892 L103.844 383.378 Q105.788 384.512 108.103 385.091 Q110.418 385.669 112.941 385.669 Q117.339 385.669 119.631 383.933 Q121.945 382.197 121.945 378.887 Q121.945 375.832 119.793 374.119 Q117.663 372.383 113.844 372.383 L109.816 372.383 L109.816 368.54 L114.029 368.54 Q117.478 368.54 119.307 367.174 Q121.135 365.785 121.135 363.193 Q121.135 360.531 119.237 359.119 Q117.362 357.684 113.844 357.684 Q111.922 357.684 109.723 358.1 Q107.524 358.517 104.885 359.396 L104.885 355.23 Q107.547 354.489 109.862 354.119 Q112.2 353.748 114.26 353.748 Q119.584 353.748 122.686 356.179 Q125.788 358.586 125.788 362.707 Q125.788 365.577 124.145 367.568 Q122.501 369.535 119.469 370.299 Z\" fill=\"#000000\" fill-rule=\"nonzero\" fill-opacity=\"1\" /><path clip-path=\"url(#clip260)\" d=\"M68.9365 286.909 Q65.3254 286.909 63.4967 290.474 Q61.6912 294.015 61.6912 301.145 Q61.6912 308.251 63.4967 311.816 Q65.3254 315.358 68.9365 315.358 Q72.5707 315.358 74.3763 311.816 Q76.205 308.251 76.205 301.145 Q76.205 294.015 74.3763 290.474 Q72.5707 286.909 68.9365 286.909 M68.9365 283.205 Q74.7467 283.205 77.8022 287.812 Q80.8809 292.395 80.8809 301.145 Q80.8809 309.872 77.8022 314.478 Q74.7467 319.062 68.9365 319.062 Q63.1264 319.062 60.0477 314.478 Q56.9921 309.872 56.9921 301.145 Q56.9921 292.395 60.0477 287.812 Q63.1264 283.205 68.9365 283.205 Z\" fill=\"#000000\" fill-rule=\"nonzero\" fill-opacity=\"1\" /><path clip-path=\"url(#clip260)\" d=\"M89.0984 312.511 L93.9827 312.511 L93.9827 318.39 L89.0984 318.39 L89.0984 312.511 Z\" fill=\"#000000\" fill-rule=\"nonzero\" fill-opacity=\"1\" /><path clip-path=\"url(#clip260)\" d=\"M117.015 287.904 L105.209 306.353 L117.015 306.353 L117.015 287.904 M115.788 283.83 L121.668 283.83 L121.668 306.353 L126.598 306.353 L126.598 310.242 L121.668 310.242 L121.668 318.39 L117.015 318.39 L117.015 310.242 L101.413 310.242 L101.413 305.728 L115.788 283.83 Z\" fill=\"#000000\" fill-rule=\"nonzero\" fill-opacity=\"1\" /><path clip-path=\"url(#clip260)\" d=\"M70.418 216.366 Q66.8069 216.366 64.9782 219.931 Q63.1726 223.472 63.1726 230.602 Q63.1726 237.708 64.9782 241.273 Q66.8069 244.815 70.418 244.815 Q74.0522 244.815 75.8578 241.273 Q77.6865 237.708 77.6865 230.602 Q77.6865 223.472 75.8578 219.931 Q74.0522 216.366 70.418 216.366 M70.418 212.662 Q76.2281 212.662 79.2837 217.269 Q82.3624 221.852 82.3624 230.602 Q82.3624 239.329 79.2837 243.935 Q76.2281 248.519 70.418 248.519 Q64.6078 248.519 61.5291 243.935 Q58.4736 239.329 58.4736 230.602 Q58.4736 221.852 61.5291 217.269 Q64.6078 212.662 70.418 212.662 Z\" fill=\"#000000\" fill-rule=\"nonzero\" fill-opacity=\"1\" /><path clip-path=\"url(#clip260)\" d=\"M90.5799 241.968 L95.4641 241.968 L95.4641 247.847 L90.5799 247.847 L90.5799 241.968 Z\" fill=\"#000000\" fill-rule=\"nonzero\" fill-opacity=\"1\" /><path clip-path=\"url(#clip260)\" d=\"M105.696 213.287 L124.052 213.287 L124.052 217.222 L109.978 217.222 L109.978 225.695 Q110.996 225.347 112.015 225.185 Q113.033 225 114.052 225 Q119.839 225 123.219 228.171 Q126.598 231.343 126.598 236.759 Q126.598 242.338 123.126 245.44 Q119.654 248.519 113.334 248.519 Q111.159 248.519 108.89 248.148 Q106.645 247.778 104.237 247.037 L104.237 242.338 Q106.321 243.472 108.543 244.028 Q110.765 244.583 113.242 244.583 Q117.246 244.583 119.584 242.477 Q121.922 240.37 121.922 236.759 Q121.922 233.148 119.584 231.042 Q117.246 228.935 113.242 228.935 Q111.367 228.935 109.492 229.352 Q107.64 229.769 105.696 230.648 L105.696 213.287 Z\" fill=\"#000000\" fill-rule=\"nonzero\" fill-opacity=\"1\" /><path clip-path=\"url(#clip260)\" d=\"M69.2606 145.823 Q65.6495 145.823 63.8208 149.388 Q62.0152 152.929 62.0152 160.059 Q62.0152 167.165 63.8208 170.73 Q65.6495 174.272 69.2606 174.272 Q72.8948 174.272 74.7004 170.73 Q76.5291 167.165 76.5291 160.059 Q76.5291 152.929 74.7004 149.388 Q72.8948 145.823 69.2606 145.823 M69.2606 142.119 Q75.0707 142.119 78.1263 146.726 Q81.205 151.309 81.205 160.059 Q81.205 168.786 78.1263 173.392 Q75.0707 177.976 69.2606 177.976 Q63.4504 177.976 60.3717 173.392 Q57.3162 168.786 57.3162 160.059 Q57.3162 151.309 60.3717 146.726 Q63.4504 142.119 69.2606 142.119 Z\" fill=\"#000000\" fill-rule=\"nonzero\" fill-opacity=\"1\" /><path clip-path=\"url(#clip260)\" d=\"M89.4225 171.425 L94.3067 171.425 L94.3067 177.304 L89.4225 177.304 L89.4225 171.425 Z\" fill=\"#000000\" fill-rule=\"nonzero\" fill-opacity=\"1\" /><path clip-path=\"url(#clip260)\" d=\"M115.071 158.161 Q111.922 158.161 110.071 160.314 Q108.242 162.466 108.242 166.216 Q108.242 169.943 110.071 172.119 Q111.922 174.272 115.071 174.272 Q118.219 174.272 120.047 172.119 Q121.899 169.943 121.899 166.216 Q121.899 162.466 120.047 160.314 Q118.219 158.161 115.071 158.161 M124.353 143.508 L124.353 147.767 Q122.594 146.934 120.788 146.494 Q119.006 146.054 117.246 146.054 Q112.617 146.054 110.163 149.179 Q107.733 152.304 107.385 158.624 Q108.751 156.61 110.811 155.545 Q112.871 154.457 115.348 154.457 Q120.557 154.457 123.566 157.628 Q126.598 160.777 126.598 166.216 Q126.598 171.54 123.45 174.758 Q120.302 177.976 115.071 177.976 Q109.075 177.976 105.904 173.392 Q102.733 168.786 102.733 160.059 Q102.733 151.865 106.621 147.004 Q110.51 142.119 117.061 142.119 Q118.82 142.119 120.603 142.467 Q122.408 142.814 124.353 143.508 Z\" fill=\"#000000\" fill-rule=\"nonzero\" fill-opacity=\"1\" /><path clip-path=\"url(#clip260)\" d=\"M70.3254 75.28 Q66.7143 75.28 64.8856 78.8447 Q63.0801 82.3864 63.0801 89.516 Q63.0801 96.6224 64.8856 100.187 Q66.7143 103.729 70.3254 103.729 Q73.9596 103.729 75.7652 100.187 Q77.5939 96.6224 77.5939 89.516 Q77.5939 82.3864 75.7652 78.8447 Q73.9596 75.28 70.3254 75.28 M70.3254 71.5763 Q76.1355 71.5763 79.1911 76.1827 Q82.2698 80.766 82.2698 89.516 Q82.2698 98.2428 79.1911 102.849 Q76.1355 107.433 70.3254 107.433 Q64.5152 107.433 61.4365 102.849 Q58.381 98.2428 58.381 89.516 Q58.381 80.766 61.4365 76.1827 Q64.5152 71.5763 70.3254 71.5763 Z\" fill=\"#000000\" fill-rule=\"nonzero\" fill-opacity=\"1\" /><path clip-path=\"url(#clip260)\" d=\"M90.4873 100.882 L95.3715 100.882 L95.3715 106.761 L90.4873 106.761 L90.4873 100.882 Z\" fill=\"#000000\" fill-rule=\"nonzero\" fill-opacity=\"1\" /><path clip-path=\"url(#clip260)\" d=\"M104.376 72.2013 L126.598 72.2013 L126.598 74.192 L114.052 106.761 L109.168 106.761 L120.973 76.1364 L104.376 76.1364 L104.376 72.2013 Z\" fill=\"#000000\" fill-rule=\"nonzero\" fill-opacity=\"1\" /><polyline clip-path=\"url(#clip262)\" style=\"stroke:#009af9; stroke-linecap:round; stroke-linejoin:round; stroke-width:4; stroke-opacity:1; fill:none\" points=\"165.319,442.196 242.06,374.475 318.802,296.539 395.544,246.769 472.286,239.466 549.028,228.848 625.769,161.779 702.511,94.4281 779.253,79.9827 855.995,58.7476 \"/>\n<path clip-path=\"url(#clip260)\" d=\"M910.321 164.473 L1152.76 164.473 L1152.76 60.7926 L910.321 60.7926  Z\" fill=\"#ffffff\" fill-rule=\"evenodd\" fill-opacity=\"1\"/>\n<polyline clip-path=\"url(#clip260)\" style=\"stroke:#000000; stroke-linecap:round; stroke-linejoin:round; stroke-width:4; stroke-opacity:1; fill:none\" points=\"910.321,164.473 1152.76,164.473 1152.76,60.7926 910.321,60.7926 910.321,164.473 \"/>\n<polyline clip-path=\"url(#clip260)\" style=\"stroke:#009af9; stroke-linecap:round; stroke-linejoin:round; stroke-width:4; stroke-opacity:1; fill:none\" points=\"921.522,112.633 988.733,112.633 \"/>\n<path clip-path=\"url(#clip260)\" d=\"M1021.65 114.265 L1021.65 129.913 L1017.39 129.913 L1017.39 114.403 Q1017.39 110.723 1015.95 108.894 Q1014.52 107.066 1011.65 107.066 Q1008.2 107.066 1006.21 109.265 Q1004.22 111.464 1004.22 115.26 L1004.22 129.913 L999.935 129.913 L999.935 93.8943 L1004.22 93.8943 L1004.22 108.015 Q1005.74 105.677 1007.8 104.519 Q1009.89 103.362 1012.6 103.362 Q1017.06 103.362 1019.36 106.14 Q1021.65 108.894 1021.65 114.265 Z\" fill=\"#000000\" fill-rule=\"nonzero\" fill-opacity=\"1\" /><path clip-path=\"url(#clip260)\" d=\"M1041.93 116.88 Q1036.76 116.88 1034.77 118.061 Q1032.78 119.241 1032.78 122.089 Q1032.78 124.357 1034.26 125.7 Q1035.77 127.019 1038.34 127.019 Q1041.88 127.019 1044.01 124.519 Q1046.16 121.996 1046.16 117.829 L1046.16 116.88 L1041.93 116.88 M1050.42 115.121 L1050.42 129.913 L1046.16 129.913 L1046.16 125.977 Q1044.7 128.339 1042.53 129.473 Q1040.35 130.584 1037.2 130.584 Q1033.22 130.584 1030.86 128.362 Q1028.52 126.116 1028.52 122.366 Q1028.52 117.991 1031.44 115.769 Q1034.38 113.547 1040.19 113.547 L1046.16 113.547 L1046.16 113.13 Q1046.16 110.191 1044.22 108.593 Q1042.3 106.973 1038.8 106.973 Q1036.58 106.973 1034.47 107.505 Q1032.36 108.038 1030.42 109.103 L1030.42 105.167 Q1032.76 104.265 1034.96 103.825 Q1037.16 103.362 1039.24 103.362 Q1044.86 103.362 1047.64 106.278 Q1050.42 109.195 1050.42 115.121 Z\" fill=\"#000000\" fill-rule=\"nonzero\" fill-opacity=\"1\" /><path clip-path=\"url(#clip260)\" d=\"M1063.31 126.024 L1063.31 139.774 L1059.03 139.774 L1059.03 103.987 L1063.31 103.987 L1063.31 107.922 Q1064.66 105.607 1066.69 104.496 Q1068.75 103.362 1071.6 103.362 Q1076.32 103.362 1079.26 107.112 Q1082.23 110.862 1082.23 116.973 Q1082.23 123.084 1079.26 126.834 Q1076.32 130.584 1071.6 130.584 Q1068.75 130.584 1066.69 129.473 Q1064.66 128.339 1063.31 126.024 M1077.8 116.973 Q1077.8 112.274 1075.86 109.612 Q1073.94 106.927 1070.56 106.927 Q1067.18 106.927 1065.24 109.612 Q1063.31 112.274 1063.31 116.973 Q1063.31 121.672 1065.24 124.357 Q1067.18 127.019 1070.56 127.019 Q1073.94 127.019 1075.86 124.357 Q1077.8 121.672 1077.8 116.973 Z\" fill=\"#000000\" fill-rule=\"nonzero\" fill-opacity=\"1\" /><path clip-path=\"url(#clip260)\" d=\"M1093.41 126.024 L1093.41 139.774 L1089.12 139.774 L1089.12 103.987 L1093.41 103.987 L1093.41 107.922 Q1094.75 105.607 1096.79 104.496 Q1098.85 103.362 1101.69 103.362 Q1106.42 103.362 1109.36 107.112 Q1112.32 110.862 1112.32 116.973 Q1112.32 123.084 1109.36 126.834 Q1106.42 130.584 1101.69 130.584 Q1098.85 130.584 1096.79 129.473 Q1094.75 128.339 1093.41 126.024 M1107.9 116.973 Q1107.9 112.274 1105.95 109.612 Q1104.03 106.927 1100.65 106.927 Q1097.27 106.927 1095.33 109.612 Q1093.41 112.274 1093.41 116.973 Q1093.41 121.672 1095.33 124.357 Q1097.27 127.019 1100.65 127.019 Q1104.03 127.019 1105.95 124.357 Q1107.9 121.672 1107.9 116.973 Z\" fill=\"#000000\" fill-rule=\"nonzero\" fill-opacity=\"1\" /><path clip-path=\"url(#clip260)\" d=\"M1130.17 132.32 Q1128.36 136.95 1126.65 138.362 Q1124.93 139.774 1122.06 139.774 L1118.66 139.774 L1118.66 136.209 L1121.16 136.209 Q1122.92 136.209 1123.89 135.376 Q1124.86 134.542 1126.04 131.44 L1126.81 129.496 L1116.32 103.987 L1120.84 103.987 L1128.94 124.265 L1137.04 103.987 L1141.55 103.987 L1130.17 132.32 Z\" fill=\"#000000\" fill-rule=\"nonzero\" fill-opacity=\"1\" /></svg>\n"
               },
               "type": "node"
              }
             ],
             "instanceArgs": {
              "handlers": {
               "obs-output": [
                "function (value, scope) {\n    scope.setInnerHTML(value);\n}\n"
               ]
              },
              "id": "7934447393094827702",
              "imports": {
               "data": [],
               "type": "async_block"
              },
              "mount_callbacks": [],
              "observables": {
               "obs-output": {
                "id": "7394692441970735258",
                "sync": false,
                "value": "<?xml version=\"1.0\" encoding=\"utf-8\"?>\n<svg xmlns=\"http://www.w3.org/2000/svg\" xmlns:xlink=\"http://www.w3.org/1999/xlink\" width=\"300\" height=\"150\" viewBox=\"0 0 1200 600\">\n<defs>\n  <clipPath id=\"clip260\">\n    <rect x=\"0\" y=\"0\" width=\"1200\" height=\"600\"/>\n  </clipPath>\n</defs>\n<path clip-path=\"url(#clip260)\" d=\"M0 600 L1200 600 L1200 0 L0 0  Z\" fill=\"#ffffff\" fill-rule=\"evenodd\" fill-opacity=\"1\"/>\n<defs>\n  <clipPath id=\"clip261\">\n    <rect x=\"240\" y=\"0\" width=\"841\" height=\"600\"/>\n  </clipPath>\n</defs>\n<path clip-path=\"url(#clip260)\" d=\"M144.598 453.7 L876.715 453.7 L876.715 47.2441 L144.598 47.2441  Z\" fill=\"#ffffff\" fill-rule=\"evenodd\" fill-opacity=\"1\"/>\n<defs>\n  <clipPath id=\"clip262\">\n    <rect x=\"144\" y=\"47\" width=\"733\" height=\"407\"/>\n  </clipPath>\n</defs>\n<polyline clip-path=\"url(#clip262)\" style=\"stroke:#000000; stroke-linecap:round; stroke-linejoin:round; stroke-width:2; stroke-opacity:0.1; fill:none\" points=\"242.06,453.7 242.06,47.2441 \"/>\n<polyline clip-path=\"url(#clip262)\" style=\"stroke:#000000; stroke-linecap:round; stroke-linejoin:round; stroke-width:2; stroke-opacity:0.1; fill:none\" points=\"395.544,453.7 395.544,47.2441 \"/>\n<polyline clip-path=\"url(#clip262)\" style=\"stroke:#000000; stroke-linecap:round; stroke-linejoin:round; stroke-width:2; stroke-opacity:0.1; fill:none\" points=\"549.028,453.7 549.028,47.2441 \"/>\n<polyline clip-path=\"url(#clip262)\" style=\"stroke:#000000; stroke-linecap:round; stroke-linejoin:round; stroke-width:2; stroke-opacity:0.1; fill:none\" points=\"702.511,453.7 702.511,47.2441 \"/>\n<polyline clip-path=\"url(#clip262)\" style=\"stroke:#000000; stroke-linecap:round; stroke-linejoin:round; stroke-width:2; stroke-opacity:0.1; fill:none\" points=\"855.995,453.7 855.995,47.2441 \"/>\n<polyline clip-path=\"url(#clip260)\" style=\"stroke:#000000; stroke-linecap:round; stroke-linejoin:round; stroke-width:4; stroke-opacity:1; fill:none\" points=\"144.598,453.7 876.715,453.7 \"/>\n<polyline clip-path=\"url(#clip260)\" style=\"stroke:#000000; stroke-linecap:round; stroke-linejoin:round; stroke-width:4; stroke-opacity:1; fill:none\" points=\"242.06,453.7 242.06,434.802 \"/>\n<polyline clip-path=\"url(#clip260)\" style=\"stroke:#000000; stroke-linecap:round; stroke-linejoin:round; stroke-width:4; stroke-opacity:1; fill:none\" points=\"395.544,453.7 395.544,434.802 \"/>\n<polyline clip-path=\"url(#clip260)\" style=\"stroke:#000000; stroke-linecap:round; stroke-linejoin:round; stroke-width:4; stroke-opacity:1; fill:none\" points=\"549.028,453.7 549.028,434.802 \"/>\n<polyline clip-path=\"url(#clip260)\" style=\"stroke:#000000; stroke-linecap:round; stroke-linejoin:round; stroke-width:4; stroke-opacity:1; fill:none\" points=\"702.511,453.7 702.511,434.802 \"/>\n<polyline clip-path=\"url(#clip260)\" style=\"stroke:#000000; stroke-linecap:round; stroke-linejoin:round; stroke-width:4; stroke-opacity:1; fill:none\" points=\"855.995,453.7 855.995,434.802 \"/>\n<path clip-path=\"url(#clip260)\" d=\"M236.713 502.565 L253.033 502.565 L253.033 506.5 L231.088 506.5 L231.088 502.565 Q233.75 499.81 238.334 495.18 Q242.94 490.528 244.121 489.185 Q246.366 486.662 247.246 484.926 Q248.148 483.167 248.148 481.477 Q248.148 478.722 246.204 476.986 Q244.283 475.25 241.181 475.25 Q238.982 475.25 236.528 476.014 Q234.097 476.778 231.32 478.329 L231.32 473.607 Q234.144 472.472 236.597 471.894 Q239.051 471.315 241.088 471.315 Q246.458 471.315 249.653 474 Q252.847 476.685 252.847 481.176 Q252.847 483.306 252.037 485.227 Q251.25 487.125 249.144 489.718 Q248.565 490.389 245.463 493.606 Q242.361 496.801 236.713 502.565 Z\" fill=\"#000000\" fill-rule=\"nonzero\" fill-opacity=\"1\" /><path clip-path=\"url(#clip260)\" d=\"M398.553 476.014 L386.748 494.463 L398.553 494.463 L398.553 476.014 M397.326 471.94 L403.206 471.94 L403.206 494.463 L408.137 494.463 L408.137 498.352 L403.206 498.352 L403.206 506.5 L398.553 506.5 L398.553 498.352 L382.951 498.352 L382.951 493.838 L397.326 471.94 Z\" fill=\"#000000\" fill-rule=\"nonzero\" fill-opacity=\"1\" /><path clip-path=\"url(#clip260)\" d=\"M549.433 487.356 Q546.285 487.356 544.433 489.509 Q542.604 491.662 542.604 495.412 Q542.604 499.139 544.433 501.315 Q546.285 503.467 549.433 503.467 Q552.581 503.467 554.41 501.315 Q556.261 499.139 556.261 495.412 Q556.261 491.662 554.41 489.509 Q552.581 487.356 549.433 487.356 M558.715 472.704 L558.715 476.963 Q556.956 476.13 555.15 475.69 Q553.368 475.25 551.609 475.25 Q546.979 475.25 544.525 478.375 Q542.095 481.5 541.748 487.819 Q543.113 485.806 545.174 484.741 Q547.234 483.653 549.711 483.653 Q554.919 483.653 557.928 486.824 Q560.96 489.972 560.96 495.412 Q560.96 500.736 557.812 503.954 Q554.664 507.171 549.433 507.171 Q543.437 507.171 540.266 502.588 Q537.095 497.981 537.095 489.255 Q537.095 481.06 540.984 476.199 Q544.873 471.315 551.423 471.315 Q553.183 471.315 554.965 471.662 Q556.771 472.009 558.715 472.704 Z\" fill=\"#000000\" fill-rule=\"nonzero\" fill-opacity=\"1\" /><path clip-path=\"url(#clip260)\" d=\"M702.511 490.088 Q699.178 490.088 697.257 491.87 Q695.359 493.653 695.359 496.778 Q695.359 499.903 697.257 501.685 Q699.178 503.467 702.511 503.467 Q705.845 503.467 707.766 501.685 Q709.687 499.88 709.687 496.778 Q709.687 493.653 707.766 491.87 Q705.868 490.088 702.511 490.088 M697.835 488.097 Q694.826 487.356 693.136 485.296 Q691.47 483.236 691.47 480.273 Q691.47 476.13 694.41 473.722 Q697.372 471.315 702.511 471.315 Q707.673 471.315 710.613 473.722 Q713.553 476.13 713.553 480.273 Q713.553 483.236 711.863 485.296 Q710.196 487.356 707.21 488.097 Q710.59 488.884 712.465 491.176 Q714.363 493.468 714.363 496.778 Q714.363 501.801 711.284 504.486 Q708.229 507.171 702.511 507.171 Q696.794 507.171 693.715 504.486 Q690.66 501.801 690.66 496.778 Q690.66 493.468 692.558 491.176 Q694.456 488.884 697.835 488.097 M696.122 480.713 Q696.122 483.398 697.789 484.903 Q699.479 486.407 702.511 486.407 Q705.521 486.407 707.21 484.903 Q708.923 483.398 708.923 480.713 Q708.923 478.028 707.21 476.523 Q705.521 475.019 702.511 475.019 Q699.479 475.019 697.789 476.523 Q696.122 478.028 696.122 480.713 Z\" fill=\"#000000\" fill-rule=\"nonzero\" fill-opacity=\"1\" /><path clip-path=\"url(#clip260)\" d=\"M830.683 502.565 L838.321 502.565 L838.321 476.199 L830.011 477.866 L830.011 473.607 L838.275 471.94 L842.951 471.94 L842.951 502.565 L850.59 502.565 L850.59 506.5 L830.683 506.5 L830.683 502.565 Z\" fill=\"#000000\" fill-rule=\"nonzero\" fill-opacity=\"1\" /><path clip-path=\"url(#clip260)\" d=\"M870.034 475.019 Q866.423 475.019 864.594 478.583 Q862.789 482.125 862.789 489.255 Q862.789 496.361 864.594 499.926 Q866.423 503.467 870.034 503.467 Q873.668 503.467 875.474 499.926 Q877.303 496.361 877.303 489.255 Q877.303 482.125 875.474 478.583 Q873.668 475.019 870.034 475.019 M870.034 471.315 Q875.844 471.315 878.9 475.921 Q881.979 480.505 881.979 489.255 Q881.979 497.981 878.9 502.588 Q875.844 507.171 870.034 507.171 Q864.224 507.171 861.145 502.588 Q858.09 497.981 858.09 489.255 Q858.09 480.505 861.145 475.921 Q864.224 471.315 870.034 471.315 Z\" fill=\"#000000\" fill-rule=\"nonzero\" fill-opacity=\"1\" /><path clip-path=\"url(#clip260)\" d=\"M447.7 534.794 L447.7 544.916 L459.763 544.916 L459.763 549.467 L447.7 549.467 L447.7 568.819 Q447.7 573.18 448.878 574.421 Q450.087 575.662 453.747 575.662 L459.763 575.662 L459.763 580.564 L453.747 580.564 Q446.968 580.564 444.39 578.049 Q441.812 575.503 441.812 568.819 L441.812 549.467 L437.515 549.467 L437.515 544.916 L441.812 544.916 L441.812 534.794 L447.7 534.794 Z\" fill=\"#000000\" fill-rule=\"nonzero\" fill-opacity=\"1\" /><path clip-path=\"url(#clip260)\" d=\"M467.465 544.916 L473.322 544.916 L473.322 580.564 L467.465 580.564 L467.465 544.916 M467.465 531.039 L473.322 531.039 L473.322 538.455 L467.465 538.455 L467.465 531.039 Z\" fill=\"#000000\" fill-rule=\"nonzero\" fill-opacity=\"1\" /><path clip-path=\"url(#clip260)\" d=\"M511.23 546.285 L511.23 551.759 Q508.747 550.39 506.233 549.722 Q503.75 549.022 501.204 549.022 Q495.506 549.022 492.355 552.65 Q489.204 556.247 489.204 562.772 Q489.204 569.297 492.355 572.925 Q495.506 576.522 501.204 576.522 Q503.75 576.522 506.233 575.853 Q508.747 575.153 511.23 573.784 L511.23 579.195 Q508.779 580.341 506.137 580.914 Q503.527 581.487 500.567 581.487 Q492.514 581.487 487.772 576.426 Q483.03 571.365 483.03 562.772 Q483.03 554.051 487.804 549.054 Q492.61 544.057 500.949 544.057 Q503.654 544.057 506.233 544.629 Q508.811 545.171 511.23 546.285 Z\" fill=\"#000000\" fill-rule=\"nonzero\" fill-opacity=\"1\" /><path clip-path=\"url(#clip260)\" d=\"M521.192 531.039 L527.08 531.039 L527.08 560.289 L544.554 544.916 L552.034 544.916 L533.128 561.594 L552.83 580.564 L545.191 580.564 L527.08 563.154 L527.08 580.564 L521.192 580.564 L521.192 531.039 Z\" fill=\"#000000\" fill-rule=\"nonzero\" fill-opacity=\"1\" /><path clip-path=\"url(#clip260)\" d=\"M581.889 545.966 L581.889 551.504 Q579.406 550.231 576.733 549.595 Q574.059 548.958 571.195 548.958 Q566.834 548.958 564.638 550.295 Q562.474 551.632 562.474 554.305 Q562.474 556.342 564.033 557.52 Q565.593 558.666 570.303 559.716 L572.309 560.162 Q578.547 561.499 581.157 563.949 Q583.799 566.368 583.799 570.729 Q583.799 575.694 579.852 578.59 Q575.937 581.487 569.062 581.487 Q566.198 581.487 563.078 580.914 Q559.991 580.373 556.553 579.259 L556.553 573.211 Q559.8 574.898 562.951 575.758 Q566.102 576.585 569.189 576.585 Q573.327 576.585 575.555 575.185 Q577.783 573.753 577.783 571.174 Q577.783 568.787 576.16 567.514 Q574.568 566.241 569.126 565.063 L567.089 564.586 Q561.646 563.44 559.227 561.085 Q556.808 558.698 556.808 554.56 Q556.808 549.531 560.373 546.794 Q563.938 544.057 570.494 544.057 Q573.741 544.057 576.605 544.534 Q579.47 545.011 581.889 545.966 Z\" fill=\"#000000\" fill-rule=\"nonzero\" fill-opacity=\"1\" /><polyline clip-path=\"url(#clip262)\" style=\"stroke:#000000; stroke-linecap:round; stroke-linejoin:round; stroke-width:2; stroke-opacity:0.1; fill:none\" points=\"144.598,442.196 876.715,442.196 \"/>\n<polyline clip-path=\"url(#clip262)\" style=\"stroke:#000000; stroke-linecap:round; stroke-linejoin:round; stroke-width:2; stroke-opacity:0.1; fill:none\" points=\"144.598,371.653 876.715,371.653 \"/>\n<polyline clip-path=\"url(#clip262)\" style=\"stroke:#000000; stroke-linecap:round; stroke-linejoin:round; stroke-width:2; stroke-opacity:0.1; fill:none\" points=\"144.598,301.11 876.715,301.11 \"/>\n<polyline clip-path=\"url(#clip262)\" style=\"stroke:#000000; stroke-linecap:round; stroke-linejoin:round; stroke-width:2; stroke-opacity:0.1; fill:none\" points=\"144.598,230.567 876.715,230.567 \"/>\n<polyline clip-path=\"url(#clip262)\" style=\"stroke:#000000; stroke-linecap:round; stroke-linejoin:round; stroke-width:2; stroke-opacity:0.1; fill:none\" points=\"144.598,160.024 876.715,160.024 \"/>\n<polyline clip-path=\"url(#clip262)\" style=\"stroke:#000000; stroke-linecap:round; stroke-linejoin:round; stroke-width:2; stroke-opacity:0.1; fill:none\" points=\"144.598,89.4813 876.715,89.4813 \"/>\n<polyline clip-path=\"url(#clip260)\" style=\"stroke:#000000; stroke-linecap:round; stroke-linejoin:round; stroke-width:4; stroke-opacity:1; fill:none\" points=\"144.598,453.7 144.598,47.2441 \"/>\n<polyline clip-path=\"url(#clip260)\" style=\"stroke:#000000; stroke-linecap:round; stroke-linejoin:round; stroke-width:4; stroke-opacity:1; fill:none\" points=\"144.598,442.196 158.322,442.196 \"/>\n<polyline clip-path=\"url(#clip260)\" style=\"stroke:#000000; stroke-linecap:round; stroke-linejoin:round; stroke-width:4; stroke-opacity:1; fill:none\" points=\"144.598,371.653 158.322,371.653 \"/>\n<polyline clip-path=\"url(#clip260)\" style=\"stroke:#000000; stroke-linecap:round; stroke-linejoin:round; stroke-width:4; stroke-opacity:1; fill:none\" points=\"144.598,301.11 158.322,301.11 \"/>\n<polyline clip-path=\"url(#clip260)\" style=\"stroke:#000000; stroke-linecap:round; stroke-linejoin:round; stroke-width:4; stroke-opacity:1; fill:none\" points=\"144.598,230.567 158.322,230.567 \"/>\n<polyline clip-path=\"url(#clip260)\" style=\"stroke:#000000; stroke-linecap:round; stroke-linejoin:round; stroke-width:4; stroke-opacity:1; fill:none\" points=\"144.598,160.024 158.322,160.024 \"/>\n<polyline clip-path=\"url(#clip260)\" style=\"stroke:#000000; stroke-linecap:round; stroke-linejoin:round; stroke-width:4; stroke-opacity:1; fill:none\" points=\"144.598,89.4813 158.322,89.4813 \"/>\n<path clip-path=\"url(#clip260)\" d=\"M71.0198 427.995 Q67.4087 427.995 65.58 431.56 Q63.7745 435.102 63.7745 442.231 Q63.7745 449.338 65.58 452.902 Q67.4087 456.444 71.0198 456.444 Q74.6541 456.444 76.4596 452.902 Q78.2883 449.338 78.2883 442.231 Q78.2883 435.102 76.4596 431.56 Q74.6541 427.995 71.0198 427.995 M71.0198 424.291 Q76.83 424.291 79.8855 428.898 Q82.9642 433.481 82.9642 442.231 Q82.9642 450.958 79.8855 455.564 Q76.83 460.148 71.0198 460.148 Q65.2097 460.148 62.131 455.564 Q59.0754 450.958 59.0754 442.231 Q59.0754 433.481 62.131 428.898 Q65.2097 424.291 71.0198 424.291 Z\" fill=\"#000000\" fill-rule=\"nonzero\" fill-opacity=\"1\" /><path clip-path=\"url(#clip260)\" d=\"M91.1818 453.597 L96.066 453.597 L96.066 459.476 L91.1818 459.476 L91.1818 453.597 Z\" fill=\"#000000\" fill-rule=\"nonzero\" fill-opacity=\"1\" /><path clip-path=\"url(#clip260)\" d=\"M110.279 455.541 L126.598 455.541 L126.598 459.476 L104.654 459.476 L104.654 455.541 Q107.316 452.787 111.899 448.157 Q116.506 443.504 117.686 442.162 Q119.932 439.639 120.811 437.902 Q121.714 436.143 121.714 434.453 Q121.714 431.699 119.77 429.963 Q117.848 428.227 114.746 428.227 Q112.547 428.227 110.094 428.99 Q107.663 429.754 104.885 431.305 L104.885 426.583 Q107.709 425.449 110.163 424.87 Q112.617 424.291 114.654 424.291 Q120.024 424.291 123.219 426.977 Q126.413 429.662 126.413 434.152 Q126.413 436.282 125.603 438.203 Q124.816 440.101 122.709 442.694 Q122.131 443.365 119.029 446.583 Q115.927 449.777 110.279 455.541 Z\" fill=\"#000000\" fill-rule=\"nonzero\" fill-opacity=\"1\" /><path clip-path=\"url(#clip260)\" d=\"M70.0708 357.452 Q66.4597 357.452 64.631 361.017 Q62.8254 364.558 62.8254 371.688 Q62.8254 378.795 64.631 382.359 Q66.4597 385.901 70.0708 385.901 Q73.705 385.901 75.5105 382.359 Q77.3392 378.795 77.3392 371.688 Q77.3392 364.558 75.5105 361.017 Q73.705 357.452 70.0708 357.452 M70.0708 353.748 Q75.8809 353.748 78.9365 358.355 Q82.0151 362.938 82.0151 371.688 Q82.0151 380.415 78.9365 385.021 Q75.8809 389.605 70.0708 389.605 Q64.2606 389.605 61.1819 385.021 Q58.1264 380.415 58.1264 371.688 Q58.1264 362.938 61.1819 358.355 Q64.2606 353.748 70.0708 353.748 Z\" fill=\"#000000\" fill-rule=\"nonzero\" fill-opacity=\"1\" /><path clip-path=\"url(#clip260)\" d=\"M90.2327 383.054 L95.1169 383.054 L95.1169 388.933 L90.2327 388.933 L90.2327 383.054 Z\" fill=\"#000000\" fill-rule=\"nonzero\" fill-opacity=\"1\" /><path clip-path=\"url(#clip260)\" d=\"M119.469 370.299 Q122.825 371.017 124.7 373.285 Q126.598 375.554 126.598 378.887 Q126.598 384.003 123.08 386.804 Q119.561 389.605 113.08 389.605 Q110.904 389.605 108.589 389.165 Q106.297 388.748 103.844 387.892 L103.844 383.378 Q105.788 384.512 108.103 385.091 Q110.418 385.669 112.941 385.669 Q117.339 385.669 119.631 383.933 Q121.945 382.197 121.945 378.887 Q121.945 375.832 119.793 374.119 Q117.663 372.383 113.844 372.383 L109.816 372.383 L109.816 368.54 L114.029 368.54 Q117.478 368.54 119.307 367.174 Q121.135 365.785 121.135 363.193 Q121.135 360.531 119.237 359.119 Q117.362 357.684 113.844 357.684 Q111.922 357.684 109.723 358.1 Q107.524 358.517 104.885 359.396 L104.885 355.23 Q107.547 354.489 109.862 354.119 Q112.2 353.748 114.26 353.748 Q119.584 353.748 122.686 356.179 Q125.788 358.586 125.788 362.707 Q125.788 365.577 124.145 367.568 Q122.501 369.535 119.469 370.299 Z\" fill=\"#000000\" fill-rule=\"nonzero\" fill-opacity=\"1\" /><path clip-path=\"url(#clip260)\" d=\"M68.9365 286.909 Q65.3254 286.909 63.4967 290.474 Q61.6912 294.015 61.6912 301.145 Q61.6912 308.251 63.4967 311.816 Q65.3254 315.358 68.9365 315.358 Q72.5707 315.358 74.3763 311.816 Q76.205 308.251 76.205 301.145 Q76.205 294.015 74.3763 290.474 Q72.5707 286.909 68.9365 286.909 M68.9365 283.205 Q74.7467 283.205 77.8022 287.812 Q80.8809 292.395 80.8809 301.145 Q80.8809 309.872 77.8022 314.478 Q74.7467 319.062 68.9365 319.062 Q63.1264 319.062 60.0477 314.478 Q56.9921 309.872 56.9921 301.145 Q56.9921 292.395 60.0477 287.812 Q63.1264 283.205 68.9365 283.205 Z\" fill=\"#000000\" fill-rule=\"nonzero\" fill-opacity=\"1\" /><path clip-path=\"url(#clip260)\" d=\"M89.0984 312.511 L93.9827 312.511 L93.9827 318.39 L89.0984 318.39 L89.0984 312.511 Z\" fill=\"#000000\" fill-rule=\"nonzero\" fill-opacity=\"1\" /><path clip-path=\"url(#clip260)\" d=\"M117.015 287.904 L105.209 306.353 L117.015 306.353 L117.015 287.904 M115.788 283.83 L121.668 283.83 L121.668 306.353 L126.598 306.353 L126.598 310.242 L121.668 310.242 L121.668 318.39 L117.015 318.39 L117.015 310.242 L101.413 310.242 L101.413 305.728 L115.788 283.83 Z\" fill=\"#000000\" fill-rule=\"nonzero\" fill-opacity=\"1\" /><path clip-path=\"url(#clip260)\" d=\"M70.418 216.366 Q66.8069 216.366 64.9782 219.931 Q63.1726 223.472 63.1726 230.602 Q63.1726 237.708 64.9782 241.273 Q66.8069 244.815 70.418 244.815 Q74.0522 244.815 75.8578 241.273 Q77.6865 237.708 77.6865 230.602 Q77.6865 223.472 75.8578 219.931 Q74.0522 216.366 70.418 216.366 M70.418 212.662 Q76.2281 212.662 79.2837 217.269 Q82.3624 221.852 82.3624 230.602 Q82.3624 239.329 79.2837 243.935 Q76.2281 248.519 70.418 248.519 Q64.6078 248.519 61.5291 243.935 Q58.4736 239.329 58.4736 230.602 Q58.4736 221.852 61.5291 217.269 Q64.6078 212.662 70.418 212.662 Z\" fill=\"#000000\" fill-rule=\"nonzero\" fill-opacity=\"1\" /><path clip-path=\"url(#clip260)\" d=\"M90.5799 241.968 L95.4641 241.968 L95.4641 247.847 L90.5799 247.847 L90.5799 241.968 Z\" fill=\"#000000\" fill-rule=\"nonzero\" fill-opacity=\"1\" /><path clip-path=\"url(#clip260)\" d=\"M105.696 213.287 L124.052 213.287 L124.052 217.222 L109.978 217.222 L109.978 225.695 Q110.996 225.347 112.015 225.185 Q113.033 225 114.052 225 Q119.839 225 123.219 228.171 Q126.598 231.343 126.598 236.759 Q126.598 242.338 123.126 245.44 Q119.654 248.519 113.334 248.519 Q111.159 248.519 108.89 248.148 Q106.645 247.778 104.237 247.037 L104.237 242.338 Q106.321 243.472 108.543 244.028 Q110.765 244.583 113.242 244.583 Q117.246 244.583 119.584 242.477 Q121.922 240.37 121.922 236.759 Q121.922 233.148 119.584 231.042 Q117.246 228.935 113.242 228.935 Q111.367 228.935 109.492 229.352 Q107.64 229.769 105.696 230.648 L105.696 213.287 Z\" fill=\"#000000\" fill-rule=\"nonzero\" fill-opacity=\"1\" /><path clip-path=\"url(#clip260)\" d=\"M69.2606 145.823 Q65.6495 145.823 63.8208 149.388 Q62.0152 152.929 62.0152 160.059 Q62.0152 167.165 63.8208 170.73 Q65.6495 174.272 69.2606 174.272 Q72.8948 174.272 74.7004 170.73 Q76.5291 167.165 76.5291 160.059 Q76.5291 152.929 74.7004 149.388 Q72.8948 145.823 69.2606 145.823 M69.2606 142.119 Q75.0707 142.119 78.1263 146.726 Q81.205 151.309 81.205 160.059 Q81.205 168.786 78.1263 173.392 Q75.0707 177.976 69.2606 177.976 Q63.4504 177.976 60.3717 173.392 Q57.3162 168.786 57.3162 160.059 Q57.3162 151.309 60.3717 146.726 Q63.4504 142.119 69.2606 142.119 Z\" fill=\"#000000\" fill-rule=\"nonzero\" fill-opacity=\"1\" /><path clip-path=\"url(#clip260)\" d=\"M89.4225 171.425 L94.3067 171.425 L94.3067 177.304 L89.4225 177.304 L89.4225 171.425 Z\" fill=\"#000000\" fill-rule=\"nonzero\" fill-opacity=\"1\" /><path clip-path=\"url(#clip260)\" d=\"M115.071 158.161 Q111.922 158.161 110.071 160.314 Q108.242 162.466 108.242 166.216 Q108.242 169.943 110.071 172.119 Q111.922 174.272 115.071 174.272 Q118.219 174.272 120.047 172.119 Q121.899 169.943 121.899 166.216 Q121.899 162.466 120.047 160.314 Q118.219 158.161 115.071 158.161 M124.353 143.508 L124.353 147.767 Q122.594 146.934 120.788 146.494 Q119.006 146.054 117.246 146.054 Q112.617 146.054 110.163 149.179 Q107.733 152.304 107.385 158.624 Q108.751 156.61 110.811 155.545 Q112.871 154.457 115.348 154.457 Q120.557 154.457 123.566 157.628 Q126.598 160.777 126.598 166.216 Q126.598 171.54 123.45 174.758 Q120.302 177.976 115.071 177.976 Q109.075 177.976 105.904 173.392 Q102.733 168.786 102.733 160.059 Q102.733 151.865 106.621 147.004 Q110.51 142.119 117.061 142.119 Q118.82 142.119 120.603 142.467 Q122.408 142.814 124.353 143.508 Z\" fill=\"#000000\" fill-rule=\"nonzero\" fill-opacity=\"1\" /><path clip-path=\"url(#clip260)\" d=\"M70.3254 75.28 Q66.7143 75.28 64.8856 78.8447 Q63.0801 82.3864 63.0801 89.516 Q63.0801 96.6224 64.8856 100.187 Q66.7143 103.729 70.3254 103.729 Q73.9596 103.729 75.7652 100.187 Q77.5939 96.6224 77.5939 89.516 Q77.5939 82.3864 75.7652 78.8447 Q73.9596 75.28 70.3254 75.28 M70.3254 71.5763 Q76.1355 71.5763 79.1911 76.1827 Q82.2698 80.766 82.2698 89.516 Q82.2698 98.2428 79.1911 102.849 Q76.1355 107.433 70.3254 107.433 Q64.5152 107.433 61.4365 102.849 Q58.381 98.2428 58.381 89.516 Q58.381 80.766 61.4365 76.1827 Q64.5152 71.5763 70.3254 71.5763 Z\" fill=\"#000000\" fill-rule=\"nonzero\" fill-opacity=\"1\" /><path clip-path=\"url(#clip260)\" d=\"M90.4873 100.882 L95.3715 100.882 L95.3715 106.761 L90.4873 106.761 L90.4873 100.882 Z\" fill=\"#000000\" fill-rule=\"nonzero\" fill-opacity=\"1\" /><path clip-path=\"url(#clip260)\" d=\"M104.376 72.2013 L126.598 72.2013 L126.598 74.192 L114.052 106.761 L109.168 106.761 L120.973 76.1364 L104.376 76.1364 L104.376 72.2013 Z\" fill=\"#000000\" fill-rule=\"nonzero\" fill-opacity=\"1\" /><polyline clip-path=\"url(#clip262)\" style=\"stroke:#009af9; stroke-linecap:round; stroke-linejoin:round; stroke-width:4; stroke-opacity:1; fill:none\" points=\"165.319,442.196 242.06,374.475 318.802,296.539 395.544,246.769 472.286,239.466 549.028,228.848 625.769,161.779 702.511,94.4281 779.253,79.9827 855.995,58.7476 \"/>\n<path clip-path=\"url(#clip260)\" d=\"M910.321 164.473 L1152.76 164.473 L1152.76 60.7926 L910.321 60.7926  Z\" fill=\"#ffffff\" fill-rule=\"evenodd\" fill-opacity=\"1\"/>\n<polyline clip-path=\"url(#clip260)\" style=\"stroke:#000000; stroke-linecap:round; stroke-linejoin:round; stroke-width:4; stroke-opacity:1; fill:none\" points=\"910.321,164.473 1152.76,164.473 1152.76,60.7926 910.321,60.7926 910.321,164.473 \"/>\n<polyline clip-path=\"url(#clip260)\" style=\"stroke:#009af9; stroke-linecap:round; stroke-linejoin:round; stroke-width:4; stroke-opacity:1; fill:none\" points=\"921.522,112.633 988.733,112.633 \"/>\n<path clip-path=\"url(#clip260)\" d=\"M1021.65 114.265 L1021.65 129.913 L1017.39 129.913 L1017.39 114.403 Q1017.39 110.723 1015.95 108.894 Q1014.52 107.066 1011.65 107.066 Q1008.2 107.066 1006.21 109.265 Q1004.22 111.464 1004.22 115.26 L1004.22 129.913 L999.935 129.913 L999.935 93.8943 L1004.22 93.8943 L1004.22 108.015 Q1005.74 105.677 1007.8 104.519 Q1009.89 103.362 1012.6 103.362 Q1017.06 103.362 1019.36 106.14 Q1021.65 108.894 1021.65 114.265 Z\" fill=\"#000000\" fill-rule=\"nonzero\" fill-opacity=\"1\" /><path clip-path=\"url(#clip260)\" d=\"M1041.93 116.88 Q1036.76 116.88 1034.77 118.061 Q1032.78 119.241 1032.78 122.089 Q1032.78 124.357 1034.26 125.7 Q1035.77 127.019 1038.34 127.019 Q1041.88 127.019 1044.01 124.519 Q1046.16 121.996 1046.16 117.829 L1046.16 116.88 L1041.93 116.88 M1050.42 115.121 L1050.42 129.913 L1046.16 129.913 L1046.16 125.977 Q1044.7 128.339 1042.53 129.473 Q1040.35 130.584 1037.2 130.584 Q1033.22 130.584 1030.86 128.362 Q1028.52 126.116 1028.52 122.366 Q1028.52 117.991 1031.44 115.769 Q1034.38 113.547 1040.19 113.547 L1046.16 113.547 L1046.16 113.13 Q1046.16 110.191 1044.22 108.593 Q1042.3 106.973 1038.8 106.973 Q1036.58 106.973 1034.47 107.505 Q1032.36 108.038 1030.42 109.103 L1030.42 105.167 Q1032.76 104.265 1034.96 103.825 Q1037.16 103.362 1039.24 103.362 Q1044.86 103.362 1047.64 106.278 Q1050.42 109.195 1050.42 115.121 Z\" fill=\"#000000\" fill-rule=\"nonzero\" fill-opacity=\"1\" /><path clip-path=\"url(#clip260)\" d=\"M1063.31 126.024 L1063.31 139.774 L1059.03 139.774 L1059.03 103.987 L1063.31 103.987 L1063.31 107.922 Q1064.66 105.607 1066.69 104.496 Q1068.75 103.362 1071.6 103.362 Q1076.32 103.362 1079.26 107.112 Q1082.23 110.862 1082.23 116.973 Q1082.23 123.084 1079.26 126.834 Q1076.32 130.584 1071.6 130.584 Q1068.75 130.584 1066.69 129.473 Q1064.66 128.339 1063.31 126.024 M1077.8 116.973 Q1077.8 112.274 1075.86 109.612 Q1073.94 106.927 1070.56 106.927 Q1067.18 106.927 1065.24 109.612 Q1063.31 112.274 1063.31 116.973 Q1063.31 121.672 1065.24 124.357 Q1067.18 127.019 1070.56 127.019 Q1073.94 127.019 1075.86 124.357 Q1077.8 121.672 1077.8 116.973 Z\" fill=\"#000000\" fill-rule=\"nonzero\" fill-opacity=\"1\" /><path clip-path=\"url(#clip260)\" d=\"M1093.41 126.024 L1093.41 139.774 L1089.12 139.774 L1089.12 103.987 L1093.41 103.987 L1093.41 107.922 Q1094.75 105.607 1096.79 104.496 Q1098.85 103.362 1101.69 103.362 Q1106.42 103.362 1109.36 107.112 Q1112.32 110.862 1112.32 116.973 Q1112.32 123.084 1109.36 126.834 Q1106.42 130.584 1101.69 130.584 Q1098.85 130.584 1096.79 129.473 Q1094.75 128.339 1093.41 126.024 M1107.9 116.973 Q1107.9 112.274 1105.95 109.612 Q1104.03 106.927 1100.65 106.927 Q1097.27 106.927 1095.33 109.612 Q1093.41 112.274 1093.41 116.973 Q1093.41 121.672 1095.33 124.357 Q1097.27 127.019 1100.65 127.019 Q1104.03 127.019 1105.95 124.357 Q1107.9 121.672 1107.9 116.973 Z\" fill=\"#000000\" fill-rule=\"nonzero\" fill-opacity=\"1\" /><path clip-path=\"url(#clip260)\" d=\"M1130.17 132.32 Q1128.36 136.95 1126.65 138.362 Q1124.93 139.774 1122.06 139.774 L1118.66 139.774 L1118.66 136.209 L1121.16 136.209 Q1122.92 136.209 1123.89 135.376 Q1124.86 134.542 1126.04 131.44 L1126.81 129.496 L1116.32 103.987 L1120.84 103.987 L1128.94 124.265 L1137.04 103.987 L1141.55 103.987 L1130.17 132.32 Z\" fill=\"#000000\" fill-rule=\"nonzero\" fill-opacity=\"1\" /></svg>\n"
               }
              },
              "systemjs_options": null
             },
             "nodeType": "Scope",
             "props": {},
             "type": "node"
            }
           ],
           "instanceArgs": {
            "namespace": "html",
            "tag": "div"
           },
           "nodeType": "DOM",
           "props": {
            "style": {
             "display": "flex",
             "flex-direction": "column"
            }
           },
           "type": "node"
          }
         ],
         "instanceArgs": {
          "namespace": "html",
          "tag": "div"
         },
         "nodeType": "DOM",
         "props": {
          "style": {
           "display": "flex",
           "flex-direction": "row"
          }
         },
         "type": "node"
        }
       ],
       "instanceArgs": {
        "namespace": "html",
        "tag": "div"
       },
       "nodeType": "DOM",
       "props": {
        "style": {
         "display": "flex",
         "flex-direction": "column"
        }
       },
       "type": "node"
      },
      "text/html": [
       "<div\n",
       "    class=\"webio-mountpoint\"\n",
       "    data-webio-mountpoint=\"18307751523698822613\"\n",
       ">\n",
       "    <script>\n",
       "    (function(){\n",
       "    // Some integrations (namely, IJulia/Jupyter) use an alternate render pathway than\n",
       "    // just putting the html on the page. If WebIO isn't defined, then it's pretty likely\n",
       "    // that we're in one of those situations and the integration just isn't installed\n",
       "    // correctly.\n",
       "    if (typeof window.WebIO === \"undefined\") {\n",
       "        document\n",
       "            .querySelector('[data-webio-mountpoint=\"18307751523698822613\"]')\n",
       "            .innerHTML = (\n",
       "                '<div style=\"padding: 1em; background-color: #f8d6da; border: 1px solid #f5c6cb; font-weight: bold;\">' +\n",
       "                '<p><strong>WebIO not detected.</strong></p>' +\n",
       "                '<p>Please read ' +\n",
       "                '<a href=\"https://juliagizmos.github.io/WebIO.jl/latest/troubleshooting/not-detected/\" target=\"_blank\">the troubleshooting guide</a> ' +\n",
       "                'for more information on how to resolve this issue.</p>' +\n",
       "                '<p><a href=\"https://juliagizmos.github.io/WebIO.jl/latest/troubleshooting/not-detected/\" target=\"_blank\">https://juliagizmos.github.io/WebIO.jl/latest/troubleshooting/not-detected/</a></p>' +\n",
       "                '</div>'\n",
       "            );\n",
       "        return;\n",
       "    }\n",
       "    WebIO.mount(\n",
       "        document.querySelector('[data-webio-mountpoint=\"18307751523698822613\"]'),\n",
       "        {\"props\":{\"style\":{\"display\":\"flex\",\"flex-direction\":\"column\"}},\"nodeType\":\"DOM\",\"type\":\"node\",\"instanceArgs\":{\"namespace\":\"html\",\"tag\":\"div\"},\"children\":[{\"props\":{\"style\":{\"display\":\"flex\",\"flex-direction\":\"row\"}},\"nodeType\":\"DOM\",\"type\":\"node\",\"instanceArgs\":{\"namespace\":\"html\",\"tag\":\"div\"},\"children\":[{\"props\":{\"style\":{\"display\":\"flex\",\"flex-direction\":\"column\"}},\"nodeType\":\"DOM\",\"type\":\"node\",\"instanceArgs\":{\"namespace\":\"html\",\"tag\":\"div\"},\"children\":[{\"props\":{\"className\":\"field interact-widget\"},\"nodeType\":\"DOM\",\"type\":\"node\",\"instanceArgs\":{\"namespace\":\"html\",\"tag\":\"div\"},\"children\":[{\"props\":{},\"nodeType\":\"Scope\",\"type\":\"node\",\"instanceArgs\":{\"imports\":{\"data\":[{\"name\":\"knockout\",\"type\":\"js\",\"url\":\"\\/assetserver\\/727383f2a47bd31570b7da84eee7b022dd6d7c78-knockout.js\"},{\"name\":\"knockout_punches\",\"type\":\"js\",\"url\":\"\\/assetserver\\/382b41b3b1bd9f26f75861d360bad7f8beea211f-knockout_punches.js\"},{\"name\":null,\"type\":\"js\",\"url\":\"\\/assetserver\\/5ab20f1060420992a9b82a65b735dee4d81ef413-all.js\"},{\"name\":null,\"type\":\"css\",\"url\":\"\\/assetserver\\/1cc0ed62837210b80a182cc3676512f895dab686-style.css\"},{\"name\":null,\"type\":\"css\",\"url\":\"\\/assetserver\\/2eee816f616df3549d7044d45e744fbf8d42bfa1-bulma_confined.min.css\"}],\"type\":\"async_block\"},\"id\":\"17728277005798008321\",\"handlers\":{\"changes\":[\"(function (val){return (val!=this.model[\\\"changes\\\"]()) ? (this.valueFromJulia[\\\"changes\\\"]=true, this.model[\\\"changes\\\"](val)) : undefined})\"],\"index\":[\"(function (val){return (val!=this.model[\\\"index\\\"]()) ? (this.valueFromJulia[\\\"index\\\"]=true, this.model[\\\"index\\\"](val)) : undefined})\"]},\"systemjs_options\":null,\"mount_callbacks\":[\"function () {\\n    var handler = (function (ko, koPunches) {\\n    ko.punches.enableAll();\\n    ko.bindingHandlers.numericValue = {\\n        init: function(element, valueAccessor, allBindings, data, context) {\\n            var stringified = ko.observable(ko.unwrap(valueAccessor()));\\n            stringified.subscribe(function(value) {\\n                var val = parseFloat(value);\\n                if (!isNaN(val)) {\\n                    valueAccessor()(val);\\n                }\\n            });\\n            valueAccessor().subscribe(function(value) {\\n                var str = JSON.stringify(value);\\n                if ((str == \\\"0\\\") && ([\\\"-0\\\", \\\"-0.\\\"].indexOf(stringified()) >= 0))\\n                     return;\\n                 if ([\\\"null\\\", \\\"\\\"].indexOf(str) >= 0)\\n                     return;\\n                stringified(str);\\n            });\\n            ko.applyBindingsToNode(\\n                element,\\n                {\\n                    value: stringified,\\n                    valueUpdate: allBindings.get('valueUpdate'),\\n                },\\n                context,\\n            );\\n        }\\n    };\\n    var json_data = {\\\"formatted_vals\\\":[\\\"1\\\",\\\"2\\\",\\\"3\\\",\\\"4\\\",\\\"5\\\",\\\"6\\\",\\\"7\\\",\\\"8\\\",\\\"9\\\",\\\"10\\\",\\\"11\\\",\\\"12\\\",\\\"13\\\",\\\"14\\\",\\\"15\\\",\\\"16\\\",\\\"17\\\",\\\"18\\\",\\\"19\\\",\\\"20\\\"],\\\"changes\\\":WebIO.getval({\\\"name\\\":\\\"changes\\\",\\\"scope\\\":\\\"17728277005798008321\\\",\\\"id\\\":\\\"11261902471913921578\\\",\\\"type\\\":\\\"observable\\\"}),\\\"index\\\":WebIO.getval({\\\"name\\\":\\\"index\\\",\\\"scope\\\":\\\"17728277005798008321\\\",\\\"id\\\":\\\"14234019474910218439\\\",\\\"type\\\":\\\"observable\\\"})};\\n    var self = this;\\n    function AppViewModel() {\\n        for (var key in json_data) {\\n            var el = json_data[key];\\n            this[key] = Array.isArray(el) ? ko.observableArray(el) : ko.observable(el);\\n        }\\n        \\n        [this[\\\"formatted_val\\\"]=ko.computed(    function(){\\n        return this.formatted_vals()[parseInt(this.index())-(1)];\\n    }\\n,this)]\\n        [this[\\\"changes\\\"].subscribe((function (val){!(this.valueFromJulia[\\\"changes\\\"]) ? (WebIO.setval({\\\"name\\\":\\\"changes\\\",\\\"scope\\\":\\\"17728277005798008321\\\",\\\"id\\\":\\\"11261902471913921578\\\",\\\"type\\\":\\\"observable\\\"},val)) : undefined; return this.valueFromJulia[\\\"changes\\\"]=false}),self),this[\\\"index\\\"].subscribe((function (val){!(this.valueFromJulia[\\\"index\\\"]) ? (WebIO.setval({\\\"name\\\":\\\"index\\\",\\\"scope\\\":\\\"17728277005798008321\\\",\\\"id\\\":\\\"14234019474910218439\\\",\\\"type\\\":\\\"observable\\\"},val)) : undefined; return this.valueFromJulia[\\\"index\\\"]=false}),self)]\\n        \\n    }\\n    self.model = new AppViewModel();\\n    self.valueFromJulia = {};\\n    for (var key in json_data) {\\n        self.valueFromJulia[key] = false;\\n    }\\n    ko.applyBindings(self.model, self.dom);\\n}\\n);\\n    (WebIO.importBlock({\\\"data\\\":[{\\\"name\\\":\\\"knockout\\\",\\\"type\\\":\\\"js\\\",\\\"url\\\":\\\"\\/assetserver\\/727383f2a47bd31570b7da84eee7b022dd6d7c78-knockout.js\\\"},{\\\"name\\\":\\\"knockout_punches\\\",\\\"type\\\":\\\"js\\\",\\\"url\\\":\\\"\\/assetserver\\/382b41b3b1bd9f26f75861d360bad7f8beea211f-knockout_punches.js\\\"}],\\\"type\\\":\\\"async_block\\\"})).then((imports) => handler.apply(this, imports));\\n}\\n\"],\"observables\":{\"changes\":{\"sync\":false,\"id\":\"11261902471913921578\",\"value\":0},\"index\":{\"sync\":true,\"id\":\"14234019474910218439\",\"value\":10}}},\"children\":[{\"props\":{\"className\":\"interact-flex-row interact-widget\"},\"nodeType\":\"DOM\",\"type\":\"node\",\"instanceArgs\":{\"namespace\":\"html\",\"tag\":\"div\"},\"children\":[{\"props\":{\"className\":\"interact-flex-row-left\"},\"nodeType\":\"DOM\",\"type\":\"node\",\"instanceArgs\":{\"namespace\":\"html\",\"tag\":\"div\"},\"children\":[{\"props\":{\"className\":\"interact \",\"style\":{\"padding\":\"5px 10px 0px 10px\"}},\"nodeType\":\"DOM\",\"type\":\"node\",\"instanceArgs\":{\"namespace\":\"html\",\"tag\":\"label\"},\"children\":[\"time\"]}]},{\"props\":{\"className\":\"interact-flex-row-center\"},\"nodeType\":\"DOM\",\"type\":\"node\",\"instanceArgs\":{\"namespace\":\"html\",\"tag\":\"div\"},\"children\":[{\"props\":{\"max\":20,\"min\":1,\"attributes\":{\"type\":\"range\",\"data-bind\":\"numericValue: index, valueUpdate: 'input', event: {change: function (){this.changes(this.changes()+1)}}\",\"orient\":\"horizontal\"},\"step\":1,\"className\":\"slider slider is-fullwidth\",\"style\":{}},\"nodeType\":\"DOM\",\"type\":\"node\",\"instanceArgs\":{\"namespace\":\"html\",\"tag\":\"input\"},\"children\":[]}]},{\"props\":{\"className\":\"interact-flex-row-right\"},\"nodeType\":\"DOM\",\"type\":\"node\",\"instanceArgs\":{\"namespace\":\"html\",\"tag\":\"div\"},\"children\":[{\"props\":{\"attributes\":{\"data-bind\":\"text: formatted_val\"}},\"nodeType\":\"DOM\",\"type\":\"node\",\"instanceArgs\":{\"namespace\":\"html\",\"tag\":\"p\"},\"children\":[]}]}]}]}]},{\"props\":{\"className\":\"field interact-widget\"},\"nodeType\":\"DOM\",\"type\":\"node\",\"instanceArgs\":{\"namespace\":\"html\",\"tag\":\"div\"},\"children\":[{\"props\":{},\"nodeType\":\"Scope\",\"type\":\"node\",\"instanceArgs\":{\"imports\":{\"data\":[{\"name\":\"knockout\",\"type\":\"js\",\"url\":\"\\/assetserver\\/727383f2a47bd31570b7da84eee7b022dd6d7c78-knockout.js\"},{\"name\":\"knockout_punches\",\"type\":\"js\",\"url\":\"\\/assetserver\\/382b41b3b1bd9f26f75861d360bad7f8beea211f-knockout_punches.js\"},{\"name\":null,\"type\":\"js\",\"url\":\"\\/assetserver\\/5ab20f1060420992a9b82a65b735dee4d81ef413-all.js\"},{\"name\":null,\"type\":\"css\",\"url\":\"\\/assetserver\\/1cc0ed62837210b80a182cc3676512f895dab686-style.css\"},{\"name\":null,\"type\":\"css\",\"url\":\"\\/assetserver\\/2eee816f616df3549d7044d45e744fbf8d42bfa1-bulma_confined.min.css\"}],\"type\":\"async_block\"},\"id\":\"1657137171959100485\",\"handlers\":{\"changes\":[\"(function (val){return (val!=this.model[\\\"changes\\\"]()) ? (this.valueFromJulia[\\\"changes\\\"]=true, this.model[\\\"changes\\\"](val)) : undefined})\"],\"index\":[\"(function (val){return (val!=this.model[\\\"index\\\"]()) ? (this.valueFromJulia[\\\"index\\\"]=true, this.model[\\\"index\\\"](val)) : undefined})\"]},\"systemjs_options\":null,\"mount_callbacks\":[\"function () {\\n    var handler = (function (ko, koPunches) {\\n    ko.punches.enableAll();\\n    ko.bindingHandlers.numericValue = {\\n        init: function(element, valueAccessor, allBindings, data, context) {\\n            var stringified = ko.observable(ko.unwrap(valueAccessor()));\\n            stringified.subscribe(function(value) {\\n                var val = parseFloat(value);\\n                if (!isNaN(val)) {\\n                    valueAccessor()(val);\\n                }\\n            });\\n            valueAccessor().subscribe(function(value) {\\n                var str = JSON.stringify(value);\\n                if ((str == \\\"0\\\") && ([\\\"-0\\\", \\\"-0.\\\"].indexOf(stringified()) >= 0))\\n                     return;\\n                 if ([\\\"null\\\", \\\"\\\"].indexOf(str) >= 0)\\n                     return;\\n                stringified(str);\\n            });\\n            ko.applyBindingsToNode(\\n                element,\\n                {\\n                    value: stringified,\\n                    valueUpdate: allBindings.get('valueUpdate'),\\n                },\\n                context,\\n            );\\n        }\\n    };\\n    var json_data = {\\\"formatted_vals\\\":[\\\"0.1\\\",\\\"0.2\\\",\\\"0.3\\\",\\\"0.4\\\",\\\"0.5\\\",\\\"0.6\\\",\\\"0.7\\\",\\\"0.8\\\",\\\"0.9\\\",\\\"1.0\\\",\\\"1.1\\\",\\\"1.2\\\",\\\"1.3\\\",\\\"1.4\\\",\\\"1.5\\\",\\\"1.6\\\",\\\"1.7\\\",\\\"1.8\\\",\\\"1.9\\\",\\\"2.0\\\"],\\\"changes\\\":WebIO.getval({\\\"name\\\":\\\"changes\\\",\\\"scope\\\":\\\"1657137171959100485\\\",\\\"id\\\":\\\"6934795761798933182\\\",\\\"type\\\":\\\"observable\\\"}),\\\"index\\\":WebIO.getval({\\\"name\\\":\\\"index\\\",\\\"scope\\\":\\\"1657137171959100485\\\",\\\"id\\\":\\\"9710316209481314006\\\",\\\"type\\\":\\\"observable\\\"})};\\n    var self = this;\\n    function AppViewModel() {\\n        for (var key in json_data) {\\n            var el = json_data[key];\\n            this[key] = Array.isArray(el) ? ko.observableArray(el) : ko.observable(el);\\n        }\\n        \\n        [this[\\\"formatted_val\\\"]=ko.computed(    function(){\\n        return this.formatted_vals()[parseInt(this.index())-(1)];\\n    }\\n,this)]\\n        [this[\\\"changes\\\"].subscribe((function (val){!(this.valueFromJulia[\\\"changes\\\"]) ? (WebIO.setval({\\\"name\\\":\\\"changes\\\",\\\"scope\\\":\\\"1657137171959100485\\\",\\\"id\\\":\\\"6934795761798933182\\\",\\\"type\\\":\\\"observable\\\"},val)) : undefined; return this.valueFromJulia[\\\"changes\\\"]=false}),self),this[\\\"index\\\"].subscribe((function (val){!(this.valueFromJulia[\\\"index\\\"]) ? (WebIO.setval({\\\"name\\\":\\\"index\\\",\\\"scope\\\":\\\"1657137171959100485\\\",\\\"id\\\":\\\"9710316209481314006\\\",\\\"type\\\":\\\"observable\\\"},val)) : undefined; return this.valueFromJulia[\\\"index\\\"]=false}),self)]\\n        \\n    }\\n    self.model = new AppViewModel();\\n    self.valueFromJulia = {};\\n    for (var key in json_data) {\\n        self.valueFromJulia[key] = false;\\n    }\\n    ko.applyBindings(self.model, self.dom);\\n}\\n);\\n    (WebIO.importBlock({\\\"data\\\":[{\\\"name\\\":\\\"knockout\\\",\\\"type\\\":\\\"js\\\",\\\"url\\\":\\\"\\/assetserver\\/727383f2a47bd31570b7da84eee7b022dd6d7c78-knockout.js\\\"},{\\\"name\\\":\\\"knockout_punches\\\",\\\"type\\\":\\\"js\\\",\\\"url\\\":\\\"\\/assetserver\\/382b41b3b1bd9f26f75861d360bad7f8beea211f-knockout_punches.js\\\"}],\\\"type\\\":\\\"async_block\\\"})).then((imports) => handler.apply(this, imports));\\n}\\n\"],\"observables\":{\"changes\":{\"sync\":false,\"id\":\"6934795761798933182\",\"value\":0},\"index\":{\"sync\":true,\"id\":\"9710316209481314006\",\"value\":10}}},\"children\":[{\"props\":{\"className\":\"interact-flex-row interact-widget\"},\"nodeType\":\"DOM\",\"type\":\"node\",\"instanceArgs\":{\"namespace\":\"html\",\"tag\":\"div\"},\"children\":[{\"props\":{\"className\":\"interact-flex-row-left\"},\"nodeType\":\"DOM\",\"type\":\"node\",\"instanceArgs\":{\"namespace\":\"html\",\"tag\":\"div\"},\"children\":[{\"props\":{\"className\":\"interact \",\"style\":{\"padding\":\"5px 10px 0px 10px\"}},\"nodeType\":\"DOM\",\"type\":\"node\",\"instanceArgs\":{\"namespace\":\"html\",\"tag\":\"label\"},\"children\":[\"scale\"]}]},{\"props\":{\"className\":\"interact-flex-row-center\"},\"nodeType\":\"DOM\",\"type\":\"node\",\"instanceArgs\":{\"namespace\":\"html\",\"tag\":\"div\"},\"children\":[{\"props\":{\"max\":20,\"min\":1,\"attributes\":{\"type\":\"range\",\"data-bind\":\"numericValue: index, valueUpdate: 'input', event: {change: function (){this.changes(this.changes()+1)}}\",\"orient\":\"horizontal\"},\"step\":1,\"className\":\"slider slider is-fullwidth\",\"style\":{}},\"nodeType\":\"DOM\",\"type\":\"node\",\"instanceArgs\":{\"namespace\":\"html\",\"tag\":\"input\"},\"children\":[]}]},{\"props\":{\"className\":\"interact-flex-row-right\"},\"nodeType\":\"DOM\",\"type\":\"node\",\"instanceArgs\":{\"namespace\":\"html\",\"tag\":\"div\"},\"children\":[{\"props\":{\"attributes\":{\"data-bind\":\"text: formatted_val\"}},\"nodeType\":\"DOM\",\"type\":\"node\",\"instanceArgs\":{\"namespace\":\"html\",\"tag\":\"p\"},\"children\":[]}]}]}]}]},{\"props\":{\"style\":{\"display\":\"flex\",\"flex-direction\":\"row\"}},\"nodeType\":\"DOM\",\"type\":\"node\",\"instanceArgs\":{\"namespace\":\"html\",\"tag\":\"div\"},\"children\":[{\"props\":{\"className\":\"interact-widget\"},\"nodeType\":\"DOM\",\"type\":\"node\",\"instanceArgs\":{\"namespace\":\"html\",\"tag\":\"div\"},\"children\":[{\"props\":{},\"nodeType\":\"Scope\",\"type\":\"node\",\"instanceArgs\":{\"imports\":{\"data\":[{\"name\":null,\"type\":\"js\",\"url\":\"\\/assetserver\\/dd22ed1bf1896c2748f3fe616ce0b838adc895c1-katex.min.js\"},{\"name\":null,\"type\":\"css\",\"url\":\"\\/assetserver\\/46517a424aa5e6cffc1360d7e0848b601c584ee3-katex.min.css\"}],\"type\":\"async_block\"},\"id\":\"12930739750284653825\",\"handlers\":{\"value\":[\"(function (txt){return this.k.render(txt,this.container)})\"]},\"systemjs_options\":null,\"mount_callbacks\":[\"function () {\\n    var handler = ((function (k){this.k=k; this.container=this.dom.querySelector(\\\"#container\\\"); return k.render(\\\"\\\\\\\\;\\\\\\\\;\\\",this.container)}));\\n    (WebIO.importBlock({\\\"data\\\":[{\\\"name\\\":null,\\\"type\\\":\\\"js\\\",\\\"url\\\":\\\"\\/assetserver\\/dd22ed1bf1896c2748f3fe616ce0b838adc895c1-katex.min.js\\\"},{\\\"name\\\":null,\\\"type\\\":\\\"css\\\",\\\"url\\\":\\\"\\/assetserver\\/46517a424aa5e6cffc1360d7e0848b601c584ee3-katex.min.css\\\"}],\\\"type\\\":\\\"async_block\\\"})).then((imports) => handler.apply(this, imports));\\n}\\n\"],\"observables\":{\"value\":{\"sync\":false,\"id\":\"833903757871739227\",\"value\":\"\\\\;\\\\;\"}}},\"children\":[{\"props\":{\"id\":\"container\"},\"nodeType\":\"DOM\",\"type\":\"node\",\"instanceArgs\":{\"namespace\":\"html\",\"tag\":\"div\"},\"children\":[]}]}]},{\"props\":{\"className\":\"field interact-widget\"},\"nodeType\":\"DOM\",\"type\":\"node\",\"instanceArgs\":{\"namespace\":\"html\",\"tag\":\"div\"},\"children\":[{\"props\":{},\"nodeType\":\"Scope\",\"type\":\"node\",\"instanceArgs\":{\"imports\":{\"data\":[{\"name\":\"knockout\",\"type\":\"js\",\"url\":\"\\/assetserver\\/727383f2a47bd31570b7da84eee7b022dd6d7c78-knockout.js\"},{\"name\":\"knockout_punches\",\"type\":\"js\",\"url\":\"\\/assetserver\\/382b41b3b1bd9f26f75861d360bad7f8beea211f-knockout_punches.js\"},{\"name\":null,\"type\":\"js\",\"url\":\"\\/assetserver\\/5ab20f1060420992a9b82a65b735dee4d81ef413-all.js\"},{\"name\":null,\"type\":\"css\",\"url\":\"\\/assetserver\\/1cc0ed62837210b80a182cc3676512f895dab686-style.css\"},{\"name\":null,\"type\":\"css\",\"url\":\"\\/assetserver\\/2eee816f616df3549d7044d45e744fbf8d42bfa1-bulma_confined.min.css\"}],\"type\":\"async_block\"},\"id\":\"4171793654051162283\",\"handlers\":{\"loading\":[\"(function (val){return (val!=this.model[\\\"loading\\\"]()) ? (this.valueFromJulia[\\\"loading\\\"]=true, this.model[\\\"loading\\\"](val)) : undefined})\"],\"clicks\":[\"(function (val){return (val!=this.model[\\\"clicks\\\"]()) ? (this.valueFromJulia[\\\"clicks\\\"]=true, this.model[\\\"clicks\\\"](val)) : undefined})\"]},\"systemjs_options\":null,\"mount_callbacks\":[\"function () {\\n    var handler = (function (ko, koPunches) {\\n    ko.punches.enableAll();\\n    ko.bindingHandlers.numericValue = {\\n        init: function(element, valueAccessor, allBindings, data, context) {\\n            var stringified = ko.observable(ko.unwrap(valueAccessor()));\\n            stringified.subscribe(function(value) {\\n                var val = parseFloat(value);\\n                if (!isNaN(val)) {\\n                    valueAccessor()(val);\\n                }\\n            });\\n            valueAccessor().subscribe(function(value) {\\n                var str = JSON.stringify(value);\\n                if ((str == \\\"0\\\") && ([\\\"-0\\\", \\\"-0.\\\"].indexOf(stringified()) >= 0))\\n                     return;\\n                 if ([\\\"null\\\", \\\"\\\"].indexOf(str) >= 0)\\n                     return;\\n                stringified(str);\\n            });\\n            ko.applyBindingsToNode(\\n                element,\\n                {\\n                    value: stringified,\\n                    valueUpdate: allBindings.get('valueUpdate'),\\n                },\\n                context,\\n            );\\n        }\\n    };\\n    var json_data = {\\\"loading\\\":WebIO.getval({\\\"name\\\":\\\"loading\\\",\\\"scope\\\":\\\"4171793654051162283\\\",\\\"id\\\":\\\"5069131507991618399\\\",\\\"type\\\":\\\"observable\\\"}),\\\"clicks\\\":WebIO.getval({\\\"name\\\":\\\"clicks\\\",\\\"scope\\\":\\\"4171793654051162283\\\",\\\"id\\\":\\\"9278667621641795061\\\",\\\"type\\\":\\\"observable\\\"})};\\n    var self = this;\\n    function AppViewModel() {\\n        for (var key in json_data) {\\n            var el = json_data[key];\\n            this[key] = Array.isArray(el) ? ko.observableArray(el) : ko.observable(el);\\n        }\\n        \\n        \\n        [this[\\\"loading\\\"].subscribe((function (val){!(this.valueFromJulia[\\\"loading\\\"]) ? (WebIO.setval({\\\"name\\\":\\\"loading\\\",\\\"scope\\\":\\\"4171793654051162283\\\",\\\"id\\\":\\\"5069131507991618399\\\",\\\"type\\\":\\\"observable\\\"},val)) : undefined; return this.valueFromJulia[\\\"loading\\\"]=false}),self),this[\\\"clicks\\\"].subscribe((function (val){!(this.valueFromJulia[\\\"clicks\\\"]) ? (WebIO.setval({\\\"name\\\":\\\"clicks\\\",\\\"scope\\\":\\\"4171793654051162283\\\",\\\"id\\\":\\\"9278667621641795061\\\",\\\"type\\\":\\\"observable\\\"},val)) : undefined; return this.valueFromJulia[\\\"clicks\\\"]=false}),self)]\\n        \\n    }\\n    self.model = new AppViewModel();\\n    self.valueFromJulia = {};\\n    for (var key in json_data) {\\n        self.valueFromJulia[key] = false;\\n    }\\n    ko.applyBindings(self.model, self.dom);\\n}\\n);\\n    (WebIO.importBlock({\\\"data\\\":[{\\\"name\\\":\\\"knockout\\\",\\\"type\\\":\\\"js\\\",\\\"url\\\":\\\"\\/assetserver\\/727383f2a47bd31570b7da84eee7b022dd6d7c78-knockout.js\\\"},{\\\"name\\\":\\\"knockout_punches\\\",\\\"type\\\":\\\"js\\\",\\\"url\\\":\\\"\\/assetserver\\/382b41b3b1bd9f26f75861d360bad7f8beea211f-knockout_punches.js\\\"}],\\\"type\\\":\\\"async_block\\\"})).then((imports) => handler.apply(this, imports));\\n}\\n\"],\"observables\":{\"loading\":{\"sync\":false,\"id\":\"5069131507991618399\",\"value\":false},\"clicks\":{\"sync\":true,\"id\":\"9278667621641795061\",\"value\":0}}},\"children\":[{\"props\":{\"attributes\":{\"data-bind\":\"click: function (){this.clicks(this.clicks()+1)}, css: {'is-loading' : loading}\"},\"className\":\"is-medium button is-primary\",\"style\":{}},\"nodeType\":\"DOM\",\"type\":\"node\",\"instanceArgs\":{\"namespace\":\"html\",\"tag\":\"button\"},\"children\":[\"run\"]}]}]},{\"props\":{\"className\":\"interact-widget\"},\"nodeType\":\"DOM\",\"type\":\"node\",\"instanceArgs\":{\"namespace\":\"html\",\"tag\":\"div\"},\"children\":[{\"props\":{},\"nodeType\":\"Scope\",\"type\":\"node\",\"instanceArgs\":{\"imports\":{\"data\":[{\"name\":null,\"type\":\"js\",\"url\":\"\\/assetserver\\/dd22ed1bf1896c2748f3fe616ce0b838adc895c1-katex.min.js\"},{\"name\":null,\"type\":\"css\",\"url\":\"\\/assetserver\\/46517a424aa5e6cffc1360d7e0848b601c584ee3-katex.min.css\"}],\"type\":\"async_block\"},\"id\":\"12930739750284653825\",\"handlers\":{\"value\":[\"(function (txt){return this.k.render(txt,this.container)})\"]},\"systemjs_options\":null,\"mount_callbacks\":[\"function () {\\n    var handler = ((function (k){this.k=k; this.container=this.dom.querySelector(\\\"#container\\\"); return k.render(\\\"\\\\\\\\;\\\\\\\\;\\\",this.container)}));\\n    (WebIO.importBlock({\\\"data\\\":[{\\\"name\\\":null,\\\"type\\\":\\\"js\\\",\\\"url\\\":\\\"\\/assetserver\\/dd22ed1bf1896c2748f3fe616ce0b838adc895c1-katex.min.js\\\"},{\\\"name\\\":null,\\\"type\\\":\\\"css\\\",\\\"url\\\":\\\"\\/assetserver\\/46517a424aa5e6cffc1360d7e0848b601c584ee3-katex.min.css\\\"}],\\\"type\\\":\\\"async_block\\\"})).then((imports) => handler.apply(this, imports));\\n}\\n\"],\"observables\":{\"value\":{\"sync\":false,\"id\":\"833903757871739227\",\"value\":\"\\\\;\\\\;\"}}},\"children\":[{\"props\":{\"id\":\"container\"},\"nodeType\":\"DOM\",\"type\":\"node\",\"instanceArgs\":{\"namespace\":\"html\",\"tag\":\"div\"},\"children\":[]}]}]},{\"props\":{\"className\":\"field interact-widget\"},\"nodeType\":\"DOM\",\"type\":\"node\",\"instanceArgs\":{\"namespace\":\"html\",\"tag\":\"div\"},\"children\":[{\"props\":{},\"nodeType\":\"Scope\",\"type\":\"node\",\"instanceArgs\":{\"imports\":{\"data\":[{\"name\":\"knockout\",\"type\":\"js\",\"url\":\"\\/assetserver\\/727383f2a47bd31570b7da84eee7b022dd6d7c78-knockout.js\"},{\"name\":\"knockout_punches\",\"type\":\"js\",\"url\":\"\\/assetserver\\/382b41b3b1bd9f26f75861d360bad7f8beea211f-knockout_punches.js\"},{\"name\":null,\"type\":\"js\",\"url\":\"\\/assetserver\\/5ab20f1060420992a9b82a65b735dee4d81ef413-all.js\"},{\"name\":null,\"type\":\"css\",\"url\":\"\\/assetserver\\/1cc0ed62837210b80a182cc3676512f895dab686-style.css\"},{\"name\":null,\"type\":\"css\",\"url\":\"\\/assetserver\\/2eee816f616df3549d7044d45e744fbf8d42bfa1-bulma_confined.min.css\"}],\"type\":\"async_block\"},\"id\":\"5268508197707541177\",\"handlers\":{\"loading\":[\"(function (val){return (val!=this.model[\\\"loading\\\"]()) ? (this.valueFromJulia[\\\"loading\\\"]=true, this.model[\\\"loading\\\"](val)) : undefined})\"],\"clicks\":[\"(function (val){return (val!=this.model[\\\"clicks\\\"]()) ? (this.valueFromJulia[\\\"clicks\\\"]=true, this.model[\\\"clicks\\\"](val)) : undefined})\"]},\"systemjs_options\":null,\"mount_callbacks\":[\"function () {\\n    var handler = (function (ko, koPunches) {\\n    ko.punches.enableAll();\\n    ko.bindingHandlers.numericValue = {\\n        init: function(element, valueAccessor, allBindings, data, context) {\\n            var stringified = ko.observable(ko.unwrap(valueAccessor()));\\n            stringified.subscribe(function(value) {\\n                var val = parseFloat(value);\\n                if (!isNaN(val)) {\\n                    valueAccessor()(val);\\n                }\\n            });\\n            valueAccessor().subscribe(function(value) {\\n                var str = JSON.stringify(value);\\n                if ((str == \\\"0\\\") && ([\\\"-0\\\", \\\"-0.\\\"].indexOf(stringified()) >= 0))\\n                     return;\\n                 if ([\\\"null\\\", \\\"\\\"].indexOf(str) >= 0)\\n                     return;\\n                stringified(str);\\n            });\\n            ko.applyBindingsToNode(\\n                element,\\n                {\\n                    value: stringified,\\n                    valueUpdate: allBindings.get('valueUpdate'),\\n                },\\n                context,\\n            );\\n        }\\n    };\\n    var json_data = {\\\"loading\\\":WebIO.getval({\\\"name\\\":\\\"loading\\\",\\\"scope\\\":\\\"5268508197707541177\\\",\\\"id\\\":\\\"17643078473980188699\\\",\\\"type\\\":\\\"observable\\\"}),\\\"clicks\\\":WebIO.getval({\\\"name\\\":\\\"clicks\\\",\\\"scope\\\":\\\"5268508197707541177\\\",\\\"id\\\":\\\"15051057080484272974\\\",\\\"type\\\":\\\"observable\\\"})};\\n    var self = this;\\n    function AppViewModel() {\\n        for (var key in json_data) {\\n            var el = json_data[key];\\n            this[key] = Array.isArray(el) ? ko.observableArray(el) : ko.observable(el);\\n        }\\n        \\n        \\n        [this[\\\"loading\\\"].subscribe((function (val){!(this.valueFromJulia[\\\"loading\\\"]) ? (WebIO.setval({\\\"name\\\":\\\"loading\\\",\\\"scope\\\":\\\"5268508197707541177\\\",\\\"id\\\":\\\"17643078473980188699\\\",\\\"type\\\":\\\"observable\\\"},val)) : undefined; return this.valueFromJulia[\\\"loading\\\"]=false}),self),this[\\\"clicks\\\"].subscribe((function (val){!(this.valueFromJulia[\\\"clicks\\\"]) ? (WebIO.setval({\\\"name\\\":\\\"clicks\\\",\\\"scope\\\":\\\"5268508197707541177\\\",\\\"id\\\":\\\"15051057080484272974\\\",\\\"type\\\":\\\"observable\\\"},val)) : undefined; return this.valueFromJulia[\\\"clicks\\\"]=false}),self)]\\n        \\n    }\\n    self.model = new AppViewModel();\\n    self.valueFromJulia = {};\\n    for (var key in json_data) {\\n        self.valueFromJulia[key] = false;\\n    }\\n    ko.applyBindings(self.model, self.dom);\\n}\\n);\\n    (WebIO.importBlock({\\\"data\\\":[{\\\"name\\\":\\\"knockout\\\",\\\"type\\\":\\\"js\\\",\\\"url\\\":\\\"\\/assetserver\\/727383f2a47bd31570b7da84eee7b022dd6d7c78-knockout.js\\\"},{\\\"name\\\":\\\"knockout_punches\\\",\\\"type\\\":\\\"js\\\",\\\"url\\\":\\\"\\/assetserver\\/382b41b3b1bd9f26f75861d360bad7f8beea211f-knockout_punches.js\\\"}],\\\"type\\\":\\\"async_block\\\"})).then((imports) => handler.apply(this, imports));\\n}\\n\"],\"observables\":{\"loading\":{\"sync\":false,\"id\":\"17643078473980188699\",\"value\":false},\"clicks\":{\"sync\":true,\"id\":\"15051057080484272974\",\"value\":0}}},\"children\":[{\"props\":{\"attributes\":{\"data-bind\":\"click: function (){this.clicks(this.clicks()+1)}, css: {'is-loading' : loading}\"},\"className\":\"is-medium button is-primary\",\"style\":{}},\"nodeType\":\"DOM\",\"type\":\"node\",\"instanceArgs\":{\"namespace\":\"html\",\"tag\":\"button\"},\"children\":[\"stop\"]}]}]}]}]},{\"props\":{},\"nodeType\":\"Scope\",\"type\":\"node\",\"instanceArgs\":{\"imports\":{\"data\":[],\"type\":\"async_block\"},\"id\":\"16779561202533836183\",\"handlers\":{\"obs-output\":[\"function (value, scope) {\\n    scope.setInnerHTML(value);\\n}\\n\"]},\"systemjs_options\":null,\"mount_callbacks\":[],\"observables\":{\"obs-output\":{\"sync\":false,\"id\":\"12709375778747276173\",\"value\":\"    <div style=\\\"height: 500px; width: 100%; overflow-x: auto; overflow-y: hidden; resize: both\\\">\\n    <iframe src=\\\"http:\\/\\/127.0.0.1:8701\\\" style=\\\"width: 100%; height: 100%; border: none\\\"><\\/iframe>\\n    <\\/div>\\n\"}}},\"children\":[{\"props\":{\"className\":\"webio-observable\",\"setInnerHtml\":\"    <div style=\\\"height: 500px; width: 100%; overflow-x: auto; overflow-y: hidden; resize: both\\\">\\n    <iframe src=\\\"http:\\/\\/127.0.0.1:8701\\\" style=\\\"width: 100%; height: 100%; border: none\\\"><\\/iframe>\\n    <\\/div>\\n\"},\"nodeType\":\"DOM\",\"type\":\"node\",\"instanceArgs\":{\"namespace\":\"html\",\"tag\":\"div\"},\"children\":[]}]},{\"props\":{\"className\":\"interact-widget\"},\"nodeType\":\"DOM\",\"type\":\"node\",\"instanceArgs\":{\"namespace\":\"html\",\"tag\":\"div\"},\"children\":[{\"props\":{},\"nodeType\":\"Scope\",\"type\":\"node\",\"instanceArgs\":{\"imports\":{\"data\":[{\"name\":null,\"type\":\"js\",\"url\":\"\\/assetserver\\/dd22ed1bf1896c2748f3fe616ce0b838adc895c1-katex.min.js\"},{\"name\":null,\"type\":\"css\",\"url\":\"\\/assetserver\\/46517a424aa5e6cffc1360d7e0848b601c584ee3-katex.min.css\"}],\"type\":\"async_block\"},\"id\":\"12930739750284653825\",\"handlers\":{\"value\":[\"(function (txt){return this.k.render(txt,this.container)})\"]},\"systemjs_options\":null,\"mount_callbacks\":[\"function () {\\n    var handler = ((function (k){this.k=k; this.container=this.dom.querySelector(\\\"#container\\\"); return k.render(\\\"\\\\\\\\;\\\\\\\\;\\\",this.container)}));\\n    (WebIO.importBlock({\\\"data\\\":[{\\\"name\\\":null,\\\"type\\\":\\\"js\\\",\\\"url\\\":\\\"\\/assetserver\\/dd22ed1bf1896c2748f3fe616ce0b838adc895c1-katex.min.js\\\"},{\\\"name\\\":null,\\\"type\\\":\\\"css\\\",\\\"url\\\":\\\"\\/assetserver\\/46517a424aa5e6cffc1360d7e0848b601c584ee3-katex.min.css\\\"}],\\\"type\\\":\\\"async_block\\\"})).then((imports) => handler.apply(this, imports));\\n}\\n\"],\"observables\":{\"value\":{\"sync\":false,\"id\":\"833903757871739227\",\"value\":\"\\\\;\\\\;\"}}},\"children\":[{\"props\":{\"id\":\"container\"},\"nodeType\":\"DOM\",\"type\":\"node\",\"instanceArgs\":{\"namespace\":\"html\",\"tag\":\"div\"},\"children\":[]}]}]},{\"props\":{\"style\":{\"display\":\"flex\",\"flex-direction\":\"column\"}},\"nodeType\":\"DOM\",\"type\":\"node\",\"instanceArgs\":{\"namespace\":\"html\",\"tag\":\"div\"},\"children\":[{\"props\":{},\"nodeType\":\"Scope\",\"type\":\"node\",\"instanceArgs\":{\"imports\":{\"data\":[],\"type\":\"async_block\"},\"id\":\"6443657770874242205\",\"handlers\":{\"obs-output\":[\"function (value, scope) {\\n    scope.setInnerHTML(value);\\n}\\n\"]},\"systemjs_options\":null,\"mount_callbacks\":[],\"observables\":{\"obs-output\":{\"sync\":false,\"id\":\"16237751197609071664\",\"value\":\"<?xml version=\\\"1.0\\\" encoding=\\\"utf-8\\\"?>\\n<svg xmlns=\\\"http:\\/\\/www.w3.org\\/2000\\/svg\\\" xmlns:xlink=\\\"http:\\/\\/www.w3.org\\/1999\\/xlink\\\" width=\\\"300\\\" height=\\\"150\\\" viewBox=\\\"0 0 1200 600\\\">\\n<defs>\\n  <clipPath id=\\\"clip180\\\">\\n    <rect x=\\\"0\\\" y=\\\"0\\\" width=\\\"1200\\\" height=\\\"600\\\"\\/>\\n  <\\/clipPath>\\n<\\/defs>\\n<path clip-path=\\\"url(#clip180)\\\" d=\\\"M0 600 L1200 600 L1200 0 L0 0  Z\\\" fill=\\\"#ffffff\\\" fill-rule=\\\"evenodd\\\" fill-opacity=\\\"1\\\"\\/>\\n<defs>\\n  <clipPath id=\\\"clip181\\\">\\n    <rect x=\\\"240\\\" y=\\\"0\\\" width=\\\"841\\\" height=\\\"600\\\"\\/>\\n  <\\/clipPath>\\n<\\/defs>\\n<path clip-path=\\\"url(#clip180)\\\" d=\\\"M144.598 453.7 L876.715 453.7 L876.715 47.2441 L144.598 47.2441  Z\\\" fill=\\\"#ffffff\\\" fill-rule=\\\"evenodd\\\" fill-opacity=\\\"1\\\"\\/>\\n<defs>\\n  <clipPath id=\\\"clip182\\\">\\n    <rect x=\\\"144\\\" y=\\\"47\\\" width=\\\"733\\\" height=\\\"407\\\"\\/>\\n  <\\/clipPath>\\n<\\/defs>\\n<polyline clip-path=\\\"url(#clip182)\\\" style=\\\"stroke:#000000; stroke-linecap:round; stroke-linejoin:round; stroke-width:2; stroke-opacity:0.1; fill:none\\\" points=\\\"242.06,453.7 242.06,47.2441 \\\"\\/>\\n<polyline clip-path=\\\"url(#clip182)\\\" style=\\\"stroke:#000000; stroke-linecap:round; stroke-linejoin:round; stroke-width:2; stroke-opacity:0.1; fill:none\\\" points=\\\"395.544,453.7 395.544,47.2441 \\\"\\/>\\n<polyline clip-path=\\\"url(#clip182)\\\" style=\\\"stroke:#000000; stroke-linecap:round; stroke-linejoin:round; stroke-width:2; stroke-opacity:0.1; fill:none\\\" points=\\\"549.028,453.7 549.028,47.2441 \\\"\\/>\\n<polyline clip-path=\\\"url(#clip182)\\\" style=\\\"stroke:#000000; stroke-linecap:round; stroke-linejoin:round; stroke-width:2; stroke-opacity:0.1; fill:none\\\" points=\\\"702.511,453.7 702.511,47.2441 \\\"\\/>\\n<polyline clip-path=\\\"url(#clip182)\\\" style=\\\"stroke:#000000; stroke-linecap:round; stroke-linejoin:round; stroke-width:2; stroke-opacity:0.1; fill:none\\\" points=\\\"855.995,453.7 855.995,47.2441 \\\"\\/>\\n<polyline clip-path=\\\"url(#clip180)\\\" style=\\\"stroke:#000000; stroke-linecap:round; stroke-linejoin:round; stroke-width:4; stroke-opacity:1; fill:none\\\" points=\\\"144.598,453.7 876.715,453.7 \\\"\\/>\\n<polyline clip-path=\\\"url(#clip180)\\\" style=\\\"stroke:#000000; stroke-linecap:round; stroke-linejoin:round; stroke-width:4; stroke-opacity:1; fill:none\\\" points=\\\"242.06,453.7 242.06,434.802 \\\"\\/>\\n<polyline clip-path=\\\"url(#clip180)\\\" style=\\\"stroke:#000000; stroke-linecap:round; stroke-linejoin:round; stroke-width:4; stroke-opacity:1; fill:none\\\" points=\\\"395.544,453.7 395.544,434.802 \\\"\\/>\\n<polyline clip-path=\\\"url(#clip180)\\\" style=\\\"stroke:#000000; stroke-linecap:round; stroke-linejoin:round; stroke-width:4; stroke-opacity:1; fill:none\\\" points=\\\"549.028,453.7 549.028,434.802 \\\"\\/>\\n<polyline clip-path=\\\"url(#clip180)\\\" style=\\\"stroke:#000000; stroke-linecap:round; stroke-linejoin:round; stroke-width:4; stroke-opacity:1; fill:none\\\" points=\\\"702.511,453.7 702.511,434.802 \\\"\\/>\\n<polyline clip-path=\\\"url(#clip180)\\\" style=\\\"stroke:#000000; stroke-linecap:round; stroke-linejoin:round; stroke-width:4; stroke-opacity:1; fill:none\\\" points=\\\"855.995,453.7 855.995,434.802 \\\"\\/>\\n<path clip-path=\\\"url(#clip180)\\\" d=\\\"M236.713 502.565 L253.033 502.565 L253.033 506.5 L231.088 506.5 L231.088 502.565 Q233.75 499.81 238.334 495.18 Q242.94 490.528 244.121 489.185 Q246.366 486.662 247.246 484.926 Q248.148 483.167 248.148 481.477 Q248.148 478.722 246.204 476.986 Q244.283 475.25 241.181 475.25 Q238.982 475.25 236.528 476.014 Q234.097 476.778 231.32 478.329 L231.32 473.607 Q234.144 472.472 236.597 471.894 Q239.051 471.315 241.088 471.315 Q246.458 471.315 249.653 474 Q252.847 476.685 252.847 481.176 Q252.847 483.306 252.037 485.227 Q251.25 487.125 249.144 489.718 Q248.565 490.389 245.463 493.606 Q242.361 496.801 236.713 502.565 Z\\\" fill=\\\"#000000\\\" fill-rule=\\\"nonzero\\\" fill-opacity=\\\"1\\\" \\/><path clip-path=\\\"url(#clip180)\\\" d=\\\"M398.553 476.014 L386.748 494.463 L398.553 494.463 L398.553 476.014 M397.326 471.94 L403.206 471.94 L403.206 494.463 L408.137 494.463 L408.137 498.352 L403.206 498.352 L403.206 506.5 L398.553 506.5 L398.553 498.352 L382.951 498.352 L382.951 493.838 L397.326 471.94 Z\\\" fill=\\\"#000000\\\" fill-rule=\\\"nonzero\\\" fill-opacity=\\\"1\\\" \\/><path clip-path=\\\"url(#clip180)\\\" d=\\\"M549.433 487.356 Q546.285 487.356 544.433 489.509 Q542.604 491.662 542.604 495.412 Q542.604 499.139 544.433 501.315 Q546.285 503.467 549.433 503.467 Q552.581 503.467 554.41 501.315 Q556.261 499.139 556.261 495.412 Q556.261 491.662 554.41 489.509 Q552.581 487.356 549.433 487.356 M558.715 472.704 L558.715 476.963 Q556.956 476.13 555.15 475.69 Q553.368 475.25 551.609 475.25 Q546.979 475.25 544.525 478.375 Q542.095 481.5 541.748 487.819 Q543.113 485.806 545.174 484.741 Q547.234 483.653 549.711 483.653 Q554.919 483.653 557.928 486.824 Q560.96 489.972 560.96 495.412 Q560.96 500.736 557.812 503.954 Q554.664 507.171 549.433 507.171 Q543.437 507.171 540.266 502.588 Q537.095 497.981 537.095 489.255 Q537.095 481.06 540.984 476.199 Q544.873 471.315 551.423 471.315 Q553.183 471.315 554.965 471.662 Q556.771 472.009 558.715 472.704 Z\\\" fill=\\\"#000000\\\" fill-rule=\\\"nonzero\\\" fill-opacity=\\\"1\\\" \\/><path clip-path=\\\"url(#clip180)\\\" d=\\\"M702.511 490.088 Q699.178 490.088 697.257 491.87 Q695.359 493.653 695.359 496.778 Q695.359 499.903 697.257 501.685 Q699.178 503.467 702.511 503.467 Q705.845 503.467 707.766 501.685 Q709.687 499.88 709.687 496.778 Q709.687 493.653 707.766 491.87 Q705.868 490.088 702.511 490.088 M697.835 488.097 Q694.826 487.356 693.136 485.296 Q691.47 483.236 691.47 480.273 Q691.47 476.13 694.41 473.722 Q697.372 471.315 702.511 471.315 Q707.673 471.315 710.613 473.722 Q713.553 476.13 713.553 480.273 Q713.553 483.236 711.863 485.296 Q710.196 487.356 707.21 488.097 Q710.59 488.884 712.465 491.176 Q714.363 493.468 714.363 496.778 Q714.363 501.801 711.284 504.486 Q708.229 507.171 702.511 507.171 Q696.794 507.171 693.715 504.486 Q690.66 501.801 690.66 496.778 Q690.66 493.468 692.558 491.176 Q694.456 488.884 697.835 488.097 M696.122 480.713 Q696.122 483.398 697.789 484.903 Q699.479 486.407 702.511 486.407 Q705.521 486.407 707.21 484.903 Q708.923 483.398 708.923 480.713 Q708.923 478.028 707.21 476.523 Q705.521 475.019 702.511 475.019 Q699.479 475.019 697.789 476.523 Q696.122 478.028 696.122 480.713 Z\\\" fill=\\\"#000000\\\" fill-rule=\\\"nonzero\\\" fill-opacity=\\\"1\\\" \\/><path clip-path=\\\"url(#clip180)\\\" d=\\\"M830.683 502.565 L838.321 502.565 L838.321 476.199 L830.011 477.866 L830.011 473.607 L838.275 471.94 L842.951 471.94 L842.951 502.565 L850.59 502.565 L850.59 506.5 L830.683 506.5 L830.683 502.565 Z\\\" fill=\\\"#000000\\\" fill-rule=\\\"nonzero\\\" fill-opacity=\\\"1\\\" \\/><path clip-path=\\\"url(#clip180)\\\" d=\\\"M870.034 475.019 Q866.423 475.019 864.594 478.583 Q862.789 482.125 862.789 489.255 Q862.789 496.361 864.594 499.926 Q866.423 503.467 870.034 503.467 Q873.668 503.467 875.474 499.926 Q877.303 496.361 877.303 489.255 Q877.303 482.125 875.474 478.583 Q873.668 475.019 870.034 475.019 M870.034 471.315 Q875.844 471.315 878.9 475.921 Q881.979 480.505 881.979 489.255 Q881.979 497.981 878.9 502.588 Q875.844 507.171 870.034 507.171 Q864.224 507.171 861.145 502.588 Q858.09 497.981 858.09 489.255 Q858.09 480.505 861.145 475.921 Q864.224 471.315 870.034 471.315 Z\\\" fill=\\\"#000000\\\" fill-rule=\\\"nonzero\\\" fill-opacity=\\\"1\\\" \\/><path clip-path=\\\"url(#clip180)\\\" d=\\\"M447.7 534.794 L447.7 544.916 L459.763 544.916 L459.763 549.467 L447.7 549.467 L447.7 568.819 Q447.7 573.18 448.878 574.421 Q450.087 575.662 453.747 575.662 L459.763 575.662 L459.763 580.564 L453.747 580.564 Q446.968 580.564 444.39 578.049 Q441.812 575.503 441.812 568.819 L441.812 549.467 L437.515 549.467 L437.515 544.916 L441.812 544.916 L441.812 534.794 L447.7 534.794 Z\\\" fill=\\\"#000000\\\" fill-rule=\\\"nonzero\\\" fill-opacity=\\\"1\\\" \\/><path clip-path=\\\"url(#clip180)\\\" d=\\\"M467.465 544.916 L473.322 544.916 L473.322 580.564 L467.465 580.564 L467.465 544.916 M467.465 531.039 L473.322 531.039 L473.322 538.455 L467.465 538.455 L467.465 531.039 Z\\\" fill=\\\"#000000\\\" fill-rule=\\\"nonzero\\\" fill-opacity=\\\"1\\\" \\/><path clip-path=\\\"url(#clip180)\\\" d=\\\"M511.23 546.285 L511.23 551.759 Q508.747 550.39 506.233 549.722 Q503.75 549.022 501.204 549.022 Q495.506 549.022 492.355 552.65 Q489.204 556.247 489.204 562.772 Q489.204 569.297 492.355 572.925 Q495.506 576.522 501.204 576.522 Q503.75 576.522 506.233 575.853 Q508.747 575.153 511.23 573.784 L511.23 579.195 Q508.779 580.341 506.137 580.914 Q503.527 581.487 500.567 581.487 Q492.514 581.487 487.772 576.426 Q483.03 571.365 483.03 562.772 Q483.03 554.051 487.804 549.054 Q492.61 544.057 500.949 544.057 Q503.654 544.057 506.233 544.629 Q508.811 545.171 511.23 546.285 Z\\\" fill=\\\"#000000\\\" fill-rule=\\\"nonzero\\\" fill-opacity=\\\"1\\\" \\/><path clip-path=\\\"url(#clip180)\\\" d=\\\"M521.192 531.039 L527.08 531.039 L527.08 560.289 L544.554 544.916 L552.034 544.916 L533.128 561.594 L552.83 580.564 L545.191 580.564 L527.08 563.154 L527.08 580.564 L521.192 580.564 L521.192 531.039 Z\\\" fill=\\\"#000000\\\" fill-rule=\\\"nonzero\\\" fill-opacity=\\\"1\\\" \\/><path clip-path=\\\"url(#clip180)\\\" d=\\\"M581.889 545.966 L581.889 551.504 Q579.406 550.231 576.733 549.595 Q574.059 548.958 571.195 548.958 Q566.834 548.958 564.638 550.295 Q562.474 551.632 562.474 554.305 Q562.474 556.342 564.033 557.52 Q565.593 558.666 570.303 559.716 L572.309 560.162 Q578.547 561.499 581.157 563.949 Q583.799 566.368 583.799 570.729 Q583.799 575.694 579.852 578.59 Q575.937 581.487 569.062 581.487 Q566.198 581.487 563.078 580.914 Q559.991 580.373 556.553 579.259 L556.553 573.211 Q559.8 574.898 562.951 575.758 Q566.102 576.585 569.189 576.585 Q573.327 576.585 575.555 575.185 Q577.783 573.753 577.783 571.174 Q577.783 568.787 576.16 567.514 Q574.568 566.241 569.126 565.063 L567.089 564.586 Q561.646 563.44 559.227 561.085 Q556.808 558.698 556.808 554.56 Q556.808 549.531 560.373 546.794 Q563.938 544.057 570.494 544.057 Q573.741 544.057 576.605 544.534 Q579.47 545.011 581.889 545.966 Z\\\" fill=\\\"#000000\\\" fill-rule=\\\"nonzero\\\" fill-opacity=\\\"1\\\" \\/><polyline clip-path=\\\"url(#clip182)\\\" style=\\\"stroke:#000000; stroke-linecap:round; stroke-linejoin:round; stroke-width:2; stroke-opacity:0.1; fill:none\\\" points=\\\"144.598,442.196 876.715,442.196 \\\"\\/>\\n<polyline clip-path=\\\"url(#clip182)\\\" style=\\\"stroke:#000000; stroke-linecap:round; stroke-linejoin:round; stroke-width:2; stroke-opacity:0.1; fill:none\\\" points=\\\"144.598,371.653 876.715,371.653 \\\"\\/>\\n<polyline clip-path=\\\"url(#clip182)\\\" style=\\\"stroke:#000000; stroke-linecap:round; stroke-linejoin:round; stroke-width:2; stroke-opacity:0.1; fill:none\\\" points=\\\"144.598,301.11 876.715,301.11 \\\"\\/>\\n<polyline clip-path=\\\"url(#clip182)\\\" style=\\\"stroke:#000000; stroke-linecap:round; stroke-linejoin:round; stroke-width:2; stroke-opacity:0.1; fill:none\\\" points=\\\"144.598,230.567 876.715,230.567 \\\"\\/>\\n<polyline clip-path=\\\"url(#clip182)\\\" style=\\\"stroke:#000000; stroke-linecap:round; stroke-linejoin:round; stroke-width:2; stroke-opacity:0.1; fill:none\\\" points=\\\"144.598,160.024 876.715,160.024 \\\"\\/>\\n<polyline clip-path=\\\"url(#clip182)\\\" style=\\\"stroke:#000000; stroke-linecap:round; stroke-linejoin:round; stroke-width:2; stroke-opacity:0.1; fill:none\\\" points=\\\"144.598,89.4813 876.715,89.4813 \\\"\\/>\\n<polyline clip-path=\\\"url(#clip180)\\\" style=\\\"stroke:#000000; stroke-linecap:round; stroke-linejoin:round; stroke-width:4; stroke-opacity:1; fill:none\\\" points=\\\"144.598,453.7 144.598,47.2441 \\\"\\/>\\n<polyline clip-path=\\\"url(#clip180)\\\" style=\\\"stroke:#000000; stroke-linecap:round; stroke-linejoin:round; stroke-width:4; stroke-opacity:1; fill:none\\\" points=\\\"144.598,442.196 158.322,442.196 \\\"\\/>\\n<polyline clip-path=\\\"url(#clip180)\\\" style=\\\"stroke:#000000; stroke-linecap:round; stroke-linejoin:round; stroke-width:4; stroke-opacity:1; fill:none\\\" points=\\\"144.598,371.653 158.322,371.653 \\\"\\/>\\n<polyline clip-path=\\\"url(#clip180)\\\" style=\\\"stroke:#000000; stroke-linecap:round; stroke-linejoin:round; stroke-width:4; stroke-opacity:1; fill:none\\\" points=\\\"144.598,301.11 158.322,301.11 \\\"\\/>\\n<polyline clip-path=\\\"url(#clip180)\\\" style=\\\"stroke:#000000; stroke-linecap:round; stroke-linejoin:round; stroke-width:4; stroke-opacity:1; fill:none\\\" points=\\\"144.598,230.567 158.322,230.567 \\\"\\/>\\n<polyline clip-path=\\\"url(#clip180)\\\" style=\\\"stroke:#000000; stroke-linecap:round; stroke-linejoin:round; stroke-width:4; stroke-opacity:1; fill:none\\\" points=\\\"144.598,160.024 158.322,160.024 \\\"\\/>\\n<polyline clip-path=\\\"url(#clip180)\\\" style=\\\"stroke:#000000; stroke-linecap:round; stroke-linejoin:round; stroke-width:4; stroke-opacity:1; fill:none\\\" points=\\\"144.598,89.4813 158.322,89.4813 \\\"\\/>\\n<path clip-path=\\\"url(#clip180)\\\" d=\\\"M71.0198 427.995 Q67.4087 427.995 65.58 431.56 Q63.7745 435.102 63.7745 442.231 Q63.7745 449.338 65.58 452.902 Q67.4087 456.444 71.0198 456.444 Q74.6541 456.444 76.4596 452.902 Q78.2883 449.338 78.2883 442.231 Q78.2883 435.102 76.4596 431.56 Q74.6541 427.995 71.0198 427.995 M71.0198 424.291 Q76.83 424.291 79.8855 428.898 Q82.9642 433.481 82.9642 442.231 Q82.9642 450.958 79.8855 455.564 Q76.83 460.148 71.0198 460.148 Q65.2097 460.148 62.131 455.564 Q59.0754 450.958 59.0754 442.231 Q59.0754 433.481 62.131 428.898 Q65.2097 424.291 71.0198 424.291 Z\\\" fill=\\\"#000000\\\" fill-rule=\\\"nonzero\\\" fill-opacity=\\\"1\\\" \\/><path clip-path=\\\"url(#clip180)\\\" d=\\\"M91.1818 453.597 L96.066 453.597 L96.066 459.476 L91.1818 459.476 L91.1818 453.597 Z\\\" fill=\\\"#000000\\\" fill-rule=\\\"nonzero\\\" fill-opacity=\\\"1\\\" \\/><path clip-path=\\\"url(#clip180)\\\" d=\\\"M110.279 455.541 L126.598 455.541 L126.598 459.476 L104.654 459.476 L104.654 455.541 Q107.316 452.787 111.899 448.157 Q116.506 443.504 117.686 442.162 Q119.932 439.639 120.811 437.902 Q121.714 436.143 121.714 434.453 Q121.714 431.699 119.77 429.963 Q117.848 428.227 114.746 428.227 Q112.547 428.227 110.094 428.99 Q107.663 429.754 104.885 431.305 L104.885 426.583 Q107.709 425.449 110.163 424.87 Q112.617 424.291 114.654 424.291 Q120.024 424.291 123.219 426.977 Q126.413 429.662 126.413 434.152 Q126.413 436.282 125.603 438.203 Q124.816 440.101 122.709 442.694 Q122.131 443.365 119.029 446.583 Q115.927 449.777 110.279 455.541 Z\\\" fill=\\\"#000000\\\" fill-rule=\\\"nonzero\\\" fill-opacity=\\\"1\\\" \\/><path clip-path=\\\"url(#clip180)\\\" d=\\\"M70.0708 357.452 Q66.4597 357.452 64.631 361.017 Q62.8254 364.558 62.8254 371.688 Q62.8254 378.795 64.631 382.359 Q66.4597 385.901 70.0708 385.901 Q73.705 385.901 75.5105 382.359 Q77.3392 378.795 77.3392 371.688 Q77.3392 364.558 75.5105 361.017 Q73.705 357.452 70.0708 357.452 M70.0708 353.748 Q75.8809 353.748 78.9365 358.355 Q82.0151 362.938 82.0151 371.688 Q82.0151 380.415 78.9365 385.021 Q75.8809 389.605 70.0708 389.605 Q64.2606 389.605 61.1819 385.021 Q58.1264 380.415 58.1264 371.688 Q58.1264 362.938 61.1819 358.355 Q64.2606 353.748 70.0708 353.748 Z\\\" fill=\\\"#000000\\\" fill-rule=\\\"nonzero\\\" fill-opacity=\\\"1\\\" \\/><path clip-path=\\\"url(#clip180)\\\" d=\\\"M90.2327 383.054 L95.1169 383.054 L95.1169 388.933 L90.2327 388.933 L90.2327 383.054 Z\\\" fill=\\\"#000000\\\" fill-rule=\\\"nonzero\\\" fill-opacity=\\\"1\\\" \\/><path clip-path=\\\"url(#clip180)\\\" d=\\\"M119.469 370.299 Q122.825 371.017 124.7 373.285 Q126.598 375.554 126.598 378.887 Q126.598 384.003 123.08 386.804 Q119.561 389.605 113.08 389.605 Q110.904 389.605 108.589 389.165 Q106.297 388.748 103.844 387.892 L103.844 383.378 Q105.788 384.512 108.103 385.091 Q110.418 385.669 112.941 385.669 Q117.339 385.669 119.631 383.933 Q121.945 382.197 121.945 378.887 Q121.945 375.832 119.793 374.119 Q117.663 372.383 113.844 372.383 L109.816 372.383 L109.816 368.54 L114.029 368.54 Q117.478 368.54 119.307 367.174 Q121.135 365.785 121.135 363.193 Q121.135 360.531 119.237 359.119 Q117.362 357.684 113.844 357.684 Q111.922 357.684 109.723 358.1 Q107.524 358.517 104.885 359.396 L104.885 355.23 Q107.547 354.489 109.862 354.119 Q112.2 353.748 114.26 353.748 Q119.584 353.748 122.686 356.179 Q125.788 358.586 125.788 362.707 Q125.788 365.577 124.145 367.568 Q122.501 369.535 119.469 370.299 Z\\\" fill=\\\"#000000\\\" fill-rule=\\\"nonzero\\\" fill-opacity=\\\"1\\\" \\/><path clip-path=\\\"url(#clip180)\\\" d=\\\"M68.9365 286.909 Q65.3254 286.909 63.4967 290.474 Q61.6912 294.015 61.6912 301.145 Q61.6912 308.251 63.4967 311.816 Q65.3254 315.358 68.9365 315.358 Q72.5707 315.358 74.3763 311.816 Q76.205 308.251 76.205 301.145 Q76.205 294.015 74.3763 290.474 Q72.5707 286.909 68.9365 286.909 M68.9365 283.205 Q74.7467 283.205 77.8022 287.812 Q80.8809 292.395 80.8809 301.145 Q80.8809 309.872 77.8022 314.478 Q74.7467 319.062 68.9365 319.062 Q63.1264 319.062 60.0477 314.478 Q56.9921 309.872 56.9921 301.145 Q56.9921 292.395 60.0477 287.812 Q63.1264 283.205 68.9365 283.205 Z\\\" fill=\\\"#000000\\\" fill-rule=\\\"nonzero\\\" fill-opacity=\\\"1\\\" \\/><path clip-path=\\\"url(#clip180)\\\" d=\\\"M89.0984 312.511 L93.9827 312.511 L93.9827 318.39 L89.0984 318.39 L89.0984 312.511 Z\\\" fill=\\\"#000000\\\" fill-rule=\\\"nonzero\\\" fill-opacity=\\\"1\\\" \\/><path clip-path=\\\"url(#clip180)\\\" d=\\\"M117.015 287.904 L105.209 306.353 L117.015 306.353 L117.015 287.904 M115.788 283.83 L121.668 283.83 L121.668 306.353 L126.598 306.353 L126.598 310.242 L121.668 310.242 L121.668 318.39 L117.015 318.39 L117.015 310.242 L101.413 310.242 L101.413 305.728 L115.788 283.83 Z\\\" fill=\\\"#000000\\\" fill-rule=\\\"nonzero\\\" fill-opacity=\\\"1\\\" \\/><path clip-path=\\\"url(#clip180)\\\" d=\\\"M70.418 216.366 Q66.8069 216.366 64.9782 219.931 Q63.1726 223.472 63.1726 230.602 Q63.1726 237.708 64.9782 241.273 Q66.8069 244.815 70.418 244.815 Q74.0522 244.815 75.8578 241.273 Q77.6865 237.708 77.6865 230.602 Q77.6865 223.472 75.8578 219.931 Q74.0522 216.366 70.418 216.366 M70.418 212.662 Q76.2281 212.662 79.2837 217.269 Q82.3624 221.852 82.3624 230.602 Q82.3624 239.329 79.2837 243.935 Q76.2281 248.519 70.418 248.519 Q64.6078 248.519 61.5291 243.935 Q58.4736 239.329 58.4736 230.602 Q58.4736 221.852 61.5291 217.269 Q64.6078 212.662 70.418 212.662 Z\\\" fill=\\\"#000000\\\" fill-rule=\\\"nonzero\\\" fill-opacity=\\\"1\\\" \\/><path clip-path=\\\"url(#clip180)\\\" d=\\\"M90.5799 241.968 L95.4641 241.968 L95.4641 247.847 L90.5799 247.847 L90.5799 241.968 Z\\\" fill=\\\"#000000\\\" fill-rule=\\\"nonzero\\\" fill-opacity=\\\"1\\\" \\/><path clip-path=\\\"url(#clip180)\\\" d=\\\"M105.696 213.287 L124.052 213.287 L124.052 217.222 L109.978 217.222 L109.978 225.695 Q110.996 225.347 112.015 225.185 Q113.033 225 114.052 225 Q119.839 225 123.219 228.171 Q126.598 231.343 126.598 236.759 Q126.598 242.338 123.126 245.44 Q119.654 248.519 113.334 248.519 Q111.159 248.519 108.89 248.148 Q106.645 247.778 104.237 247.037 L104.237 242.338 Q106.321 243.472 108.543 244.028 Q110.765 244.583 113.242 244.583 Q117.246 244.583 119.584 242.477 Q121.922 240.37 121.922 236.759 Q121.922 233.148 119.584 231.042 Q117.246 228.935 113.242 228.935 Q111.367 228.935 109.492 229.352 Q107.64 229.769 105.696 230.648 L105.696 213.287 Z\\\" fill=\\\"#000000\\\" fill-rule=\\\"nonzero\\\" fill-opacity=\\\"1\\\" \\/><path clip-path=\\\"url(#clip180)\\\" d=\\\"M69.2606 145.823 Q65.6495 145.823 63.8208 149.388 Q62.0152 152.929 62.0152 160.059 Q62.0152 167.165 63.8208 170.73 Q65.6495 174.272 69.2606 174.272 Q72.8948 174.272 74.7004 170.73 Q76.5291 167.165 76.5291 160.059 Q76.5291 152.929 74.7004 149.388 Q72.8948 145.823 69.2606 145.823 M69.2606 142.119 Q75.0707 142.119 78.1263 146.726 Q81.205 151.309 81.205 160.059 Q81.205 168.786 78.1263 173.392 Q75.0707 177.976 69.2606 177.976 Q63.4504 177.976 60.3717 173.392 Q57.3162 168.786 57.3162 160.059 Q57.3162 151.309 60.3717 146.726 Q63.4504 142.119 69.2606 142.119 Z\\\" fill=\\\"#000000\\\" fill-rule=\\\"nonzero\\\" fill-opacity=\\\"1\\\" \\/><path clip-path=\\\"url(#clip180)\\\" d=\\\"M89.4225 171.425 L94.3067 171.425 L94.3067 177.304 L89.4225 177.304 L89.4225 171.425 Z\\\" fill=\\\"#000000\\\" fill-rule=\\\"nonzero\\\" fill-opacity=\\\"1\\\" \\/><path clip-path=\\\"url(#clip180)\\\" d=\\\"M115.071 158.161 Q111.922 158.161 110.071 160.314 Q108.242 162.466 108.242 166.216 Q108.242 169.943 110.071 172.119 Q111.922 174.272 115.071 174.272 Q118.219 174.272 120.047 172.119 Q121.899 169.943 121.899 166.216 Q121.899 162.466 120.047 160.314 Q118.219 158.161 115.071 158.161 M124.353 143.508 L124.353 147.767 Q122.594 146.934 120.788 146.494 Q119.006 146.054 117.246 146.054 Q112.617 146.054 110.163 149.179 Q107.733 152.304 107.385 158.624 Q108.751 156.61 110.811 155.545 Q112.871 154.457 115.348 154.457 Q120.557 154.457 123.566 157.628 Q126.598 160.777 126.598 166.216 Q126.598 171.54 123.45 174.758 Q120.302 177.976 115.071 177.976 Q109.075 177.976 105.904 173.392 Q102.733 168.786 102.733 160.059 Q102.733 151.865 106.621 147.004 Q110.51 142.119 117.061 142.119 Q118.82 142.119 120.603 142.467 Q122.408 142.814 124.353 143.508 Z\\\" fill=\\\"#000000\\\" fill-rule=\\\"nonzero\\\" fill-opacity=\\\"1\\\" \\/><path clip-path=\\\"url(#clip180)\\\" d=\\\"M70.3254 75.28 Q66.7143 75.28 64.8856 78.8447 Q63.0801 82.3864 63.0801 89.516 Q63.0801 96.6224 64.8856 100.187 Q66.7143 103.729 70.3254 103.729 Q73.9596 103.729 75.7652 100.187 Q77.5939 96.6224 77.5939 89.516 Q77.5939 82.3864 75.7652 78.8447 Q73.9596 75.28 70.3254 75.28 M70.3254 71.5763 Q76.1355 71.5763 79.1911 76.1827 Q82.2698 80.766 82.2698 89.516 Q82.2698 98.2428 79.1911 102.849 Q76.1355 107.433 70.3254 107.433 Q64.5152 107.433 61.4365 102.849 Q58.381 98.2428 58.381 89.516 Q58.381 80.766 61.4365 76.1827 Q64.5152 71.5763 70.3254 71.5763 Z\\\" fill=\\\"#000000\\\" fill-rule=\\\"nonzero\\\" fill-opacity=\\\"1\\\" \\/><path clip-path=\\\"url(#clip180)\\\" d=\\\"M90.4873 100.882 L95.3715 100.882 L95.3715 106.761 L90.4873 106.761 L90.4873 100.882 Z\\\" fill=\\\"#000000\\\" fill-rule=\\\"nonzero\\\" fill-opacity=\\\"1\\\" \\/><path clip-path=\\\"url(#clip180)\\\" d=\\\"M104.376 72.2013 L126.598 72.2013 L126.598 74.192 L114.052 106.761 L109.168 106.761 L120.973 76.1364 L104.376 76.1364 L104.376 72.2013 Z\\\" fill=\\\"#000000\\\" fill-rule=\\\"nonzero\\\" fill-opacity=\\\"1\\\" \\/><polyline clip-path=\\\"url(#clip182)\\\" style=\\\"stroke:#009af9; stroke-linecap:round; stroke-linejoin:round; stroke-width:4; stroke-opacity:1; fill:none\\\" points=\\\"165.319,442.196 242.06,374.475 318.802,296.539 395.544,246.769 472.286,239.466 549.028,228.848 625.769,161.779 702.511,94.4281 779.253,79.9827 855.995,58.7476 \\\"\\/>\\n<path clip-path=\\\"url(#clip180)\\\" d=\\\"M910.321 164.473 L1152.76 164.473 L1152.76 60.7926 L910.321 60.7926  Z\\\" fill=\\\"#ffffff\\\" fill-rule=\\\"evenodd\\\" fill-opacity=\\\"1\\\"\\/>\\n<polyline clip-path=\\\"url(#clip180)\\\" style=\\\"stroke:#000000; stroke-linecap:round; stroke-linejoin:round; stroke-width:4; stroke-opacity:1; fill:none\\\" points=\\\"910.321,164.473 1152.76,164.473 1152.76,60.7926 910.321,60.7926 910.321,164.473 \\\"\\/>\\n<polyline clip-path=\\\"url(#clip180)\\\" style=\\\"stroke:#009af9; stroke-linecap:round; stroke-linejoin:round; stroke-width:4; stroke-opacity:1; fill:none\\\" points=\\\"921.522,112.633 988.733,112.633 \\\"\\/>\\n<path clip-path=\\\"url(#clip180)\\\" d=\\\"M1021.65 114.265 L1021.65 129.913 L1017.39 129.913 L1017.39 114.403 Q1017.39 110.723 1015.95 108.894 Q1014.52 107.066 1011.65 107.066 Q1008.2 107.066 1006.21 109.265 Q1004.22 111.464 1004.22 115.26 L1004.22 129.913 L999.935 129.913 L999.935 93.8943 L1004.22 93.8943 L1004.22 108.015 Q1005.74 105.677 1007.8 104.519 Q1009.89 103.362 1012.6 103.362 Q1017.06 103.362 1019.36 106.14 Q1021.65 108.894 1021.65 114.265 Z\\\" fill=\\\"#000000\\\" fill-rule=\\\"nonzero\\\" fill-opacity=\\\"1\\\" \\/><path clip-path=\\\"url(#clip180)\\\" d=\\\"M1041.93 116.88 Q1036.76 116.88 1034.77 118.061 Q1032.78 119.241 1032.78 122.089 Q1032.78 124.357 1034.26 125.7 Q1035.77 127.019 1038.34 127.019 Q1041.88 127.019 1044.01 124.519 Q1046.16 121.996 1046.16 117.829 L1046.16 116.88 L1041.93 116.88 M1050.42 115.121 L1050.42 129.913 L1046.16 129.913 L1046.16 125.977 Q1044.7 128.339 1042.53 129.473 Q1040.35 130.584 1037.2 130.584 Q1033.22 130.584 1030.86 128.362 Q1028.52 126.116 1028.52 122.366 Q1028.52 117.991 1031.44 115.769 Q1034.38 113.547 1040.19 113.547 L1046.16 113.547 L1046.16 113.13 Q1046.16 110.191 1044.22 108.593 Q1042.3 106.973 1038.8 106.973 Q1036.58 106.973 1034.47 107.505 Q1032.36 108.038 1030.42 109.103 L1030.42 105.167 Q1032.76 104.265 1034.96 103.825 Q1037.16 103.362 1039.24 103.362 Q1044.86 103.362 1047.64 106.278 Q1050.42 109.195 1050.42 115.121 Z\\\" fill=\\\"#000000\\\" fill-rule=\\\"nonzero\\\" fill-opacity=\\\"1\\\" \\/><path clip-path=\\\"url(#clip180)\\\" d=\\\"M1063.31 126.024 L1063.31 139.774 L1059.03 139.774 L1059.03 103.987 L1063.31 103.987 L1063.31 107.922 Q1064.66 105.607 1066.69 104.496 Q1068.75 103.362 1071.6 103.362 Q1076.32 103.362 1079.26 107.112 Q1082.23 110.862 1082.23 116.973 Q1082.23 123.084 1079.26 126.834 Q1076.32 130.584 1071.6 130.584 Q1068.75 130.584 1066.69 129.473 Q1064.66 128.339 1063.31 126.024 M1077.8 116.973 Q1077.8 112.274 1075.86 109.612 Q1073.94 106.927 1070.56 106.927 Q1067.18 106.927 1065.24 109.612 Q1063.31 112.274 1063.31 116.973 Q1063.31 121.672 1065.24 124.357 Q1067.18 127.019 1070.56 127.019 Q1073.94 127.019 1075.86 124.357 Q1077.8 121.672 1077.8 116.973 Z\\\" fill=\\\"#000000\\\" fill-rule=\\\"nonzero\\\" fill-opacity=\\\"1\\\" \\/><path clip-path=\\\"url(#clip180)\\\" d=\\\"M1093.41 126.024 L1093.41 139.774 L1089.12 139.774 L1089.12 103.987 L1093.41 103.987 L1093.41 107.922 Q1094.75 105.607 1096.79 104.496 Q1098.85 103.362 1101.69 103.362 Q1106.42 103.362 1109.36 107.112 Q1112.32 110.862 1112.32 116.973 Q1112.32 123.084 1109.36 126.834 Q1106.42 130.584 1101.69 130.584 Q1098.85 130.584 1096.79 129.473 Q1094.75 128.339 1093.41 126.024 M1107.9 116.973 Q1107.9 112.274 1105.95 109.612 Q1104.03 106.927 1100.65 106.927 Q1097.27 106.927 1095.33 109.612 Q1093.41 112.274 1093.41 116.973 Q1093.41 121.672 1095.33 124.357 Q1097.27 127.019 1100.65 127.019 Q1104.03 127.019 1105.95 124.357 Q1107.9 121.672 1107.9 116.973 Z\\\" fill=\\\"#000000\\\" fill-rule=\\\"nonzero\\\" fill-opacity=\\\"1\\\" \\/><path clip-path=\\\"url(#clip180)\\\" d=\\\"M1130.17 132.32 Q1128.36 136.95 1126.65 138.362 Q1124.93 139.774 1122.06 139.774 L1118.66 139.774 L1118.66 136.209 L1121.16 136.209 Q1122.92 136.209 1123.89 135.376 Q1124.86 134.542 1126.04 131.44 L1126.81 129.496 L1116.32 103.987 L1120.84 103.987 L1128.94 124.265 L1137.04 103.987 L1141.55 103.987 L1130.17 132.32 Z\\\" fill=\\\"#000000\\\" fill-rule=\\\"nonzero\\\" fill-opacity=\\\"1\\\" \\/><\\/svg>\\n\"}}},\"children\":[{\"props\":{\"className\":\"webio-observable\",\"setInnerHtml\":\"<?xml version=\\\"1.0\\\" encoding=\\\"utf-8\\\"?>\\n<svg xmlns=\\\"http:\\/\\/www.w3.org\\/2000\\/svg\\\" xmlns:xlink=\\\"http:\\/\\/www.w3.org\\/1999\\/xlink\\\" width=\\\"300\\\" height=\\\"150\\\" viewBox=\\\"0 0 1200 600\\\">\\n<defs>\\n  <clipPath id=\\\"clip180\\\">\\n    <rect x=\\\"0\\\" y=\\\"0\\\" width=\\\"1200\\\" height=\\\"600\\\"\\/>\\n  <\\/clipPath>\\n<\\/defs>\\n<path clip-path=\\\"url(#clip180)\\\" d=\\\"M0 600 L1200 600 L1200 0 L0 0  Z\\\" fill=\\\"#ffffff\\\" fill-rule=\\\"evenodd\\\" fill-opacity=\\\"1\\\"\\/>\\n<defs>\\n  <clipPath id=\\\"clip181\\\">\\n    <rect x=\\\"240\\\" y=\\\"0\\\" width=\\\"841\\\" height=\\\"600\\\"\\/>\\n  <\\/clipPath>\\n<\\/defs>\\n<path clip-path=\\\"url(#clip180)\\\" d=\\\"M144.598 453.7 L876.715 453.7 L876.715 47.2441 L144.598 47.2441  Z\\\" fill=\\\"#ffffff\\\" fill-rule=\\\"evenodd\\\" fill-opacity=\\\"1\\\"\\/>\\n<defs>\\n  <clipPath id=\\\"clip182\\\">\\n    <rect x=\\\"144\\\" y=\\\"47\\\" width=\\\"733\\\" height=\\\"407\\\"\\/>\\n  <\\/clipPath>\\n<\\/defs>\\n<polyline clip-path=\\\"url(#clip182)\\\" style=\\\"stroke:#000000; stroke-linecap:round; stroke-linejoin:round; stroke-width:2; stroke-opacity:0.1; fill:none\\\" points=\\\"242.06,453.7 242.06,47.2441 \\\"\\/>\\n<polyline clip-path=\\\"url(#clip182)\\\" style=\\\"stroke:#000000; stroke-linecap:round; stroke-linejoin:round; stroke-width:2; stroke-opacity:0.1; fill:none\\\" points=\\\"395.544,453.7 395.544,47.2441 \\\"\\/>\\n<polyline clip-path=\\\"url(#clip182)\\\" style=\\\"stroke:#000000; stroke-linecap:round; stroke-linejoin:round; stroke-width:2; stroke-opacity:0.1; fill:none\\\" points=\\\"549.028,453.7 549.028,47.2441 \\\"\\/>\\n<polyline clip-path=\\\"url(#clip182)\\\" style=\\\"stroke:#000000; stroke-linecap:round; stroke-linejoin:round; stroke-width:2; stroke-opacity:0.1; fill:none\\\" points=\\\"702.511,453.7 702.511,47.2441 \\\"\\/>\\n<polyline clip-path=\\\"url(#clip182)\\\" style=\\\"stroke:#000000; stroke-linecap:round; stroke-linejoin:round; stroke-width:2; stroke-opacity:0.1; fill:none\\\" points=\\\"855.995,453.7 855.995,47.2441 \\\"\\/>\\n<polyline clip-path=\\\"url(#clip180)\\\" style=\\\"stroke:#000000; stroke-linecap:round; stroke-linejoin:round; stroke-width:4; stroke-opacity:1; fill:none\\\" points=\\\"144.598,453.7 876.715,453.7 \\\"\\/>\\n<polyline clip-path=\\\"url(#clip180)\\\" style=\\\"stroke:#000000; stroke-linecap:round; stroke-linejoin:round; stroke-width:4; stroke-opacity:1; fill:none\\\" points=\\\"242.06,453.7 242.06,434.802 \\\"\\/>\\n<polyline clip-path=\\\"url(#clip180)\\\" style=\\\"stroke:#000000; stroke-linecap:round; stroke-linejoin:round; stroke-width:4; stroke-opacity:1; fill:none\\\" points=\\\"395.544,453.7 395.544,434.802 \\\"\\/>\\n<polyline clip-path=\\\"url(#clip180)\\\" style=\\\"stroke:#000000; stroke-linecap:round; stroke-linejoin:round; stroke-width:4; stroke-opacity:1; fill:none\\\" points=\\\"549.028,453.7 549.028,434.802 \\\"\\/>\\n<polyline clip-path=\\\"url(#clip180)\\\" style=\\\"stroke:#000000; stroke-linecap:round; stroke-linejoin:round; stroke-width:4; stroke-opacity:1; fill:none\\\" points=\\\"702.511,453.7 702.511,434.802 \\\"\\/>\\n<polyline clip-path=\\\"url(#clip180)\\\" style=\\\"stroke:#000000; stroke-linecap:round; stroke-linejoin:round; stroke-width:4; stroke-opacity:1; fill:none\\\" points=\\\"855.995,453.7 855.995,434.802 \\\"\\/>\\n<path clip-path=\\\"url(#clip180)\\\" d=\\\"M236.713 502.565 L253.033 502.565 L253.033 506.5 L231.088 506.5 L231.088 502.565 Q233.75 499.81 238.334 495.18 Q242.94 490.528 244.121 489.185 Q246.366 486.662 247.246 484.926 Q248.148 483.167 248.148 481.477 Q248.148 478.722 246.204 476.986 Q244.283 475.25 241.181 475.25 Q238.982 475.25 236.528 476.014 Q234.097 476.778 231.32 478.329 L231.32 473.607 Q234.144 472.472 236.597 471.894 Q239.051 471.315 241.088 471.315 Q246.458 471.315 249.653 474 Q252.847 476.685 252.847 481.176 Q252.847 483.306 252.037 485.227 Q251.25 487.125 249.144 489.718 Q248.565 490.389 245.463 493.606 Q242.361 496.801 236.713 502.565 Z\\\" fill=\\\"#000000\\\" fill-rule=\\\"nonzero\\\" fill-opacity=\\\"1\\\" \\/><path clip-path=\\\"url(#clip180)\\\" d=\\\"M398.553 476.014 L386.748 494.463 L398.553 494.463 L398.553 476.014 M397.326 471.94 L403.206 471.94 L403.206 494.463 L408.137 494.463 L408.137 498.352 L403.206 498.352 L403.206 506.5 L398.553 506.5 L398.553 498.352 L382.951 498.352 L382.951 493.838 L397.326 471.94 Z\\\" fill=\\\"#000000\\\" fill-rule=\\\"nonzero\\\" fill-opacity=\\\"1\\\" \\/><path clip-path=\\\"url(#clip180)\\\" d=\\\"M549.433 487.356 Q546.285 487.356 544.433 489.509 Q542.604 491.662 542.604 495.412 Q542.604 499.139 544.433 501.315 Q546.285 503.467 549.433 503.467 Q552.581 503.467 554.41 501.315 Q556.261 499.139 556.261 495.412 Q556.261 491.662 554.41 489.509 Q552.581 487.356 549.433 487.356 M558.715 472.704 L558.715 476.963 Q556.956 476.13 555.15 475.69 Q553.368 475.25 551.609 475.25 Q546.979 475.25 544.525 478.375 Q542.095 481.5 541.748 487.819 Q543.113 485.806 545.174 484.741 Q547.234 483.653 549.711 483.653 Q554.919 483.653 557.928 486.824 Q560.96 489.972 560.96 495.412 Q560.96 500.736 557.812 503.954 Q554.664 507.171 549.433 507.171 Q543.437 507.171 540.266 502.588 Q537.095 497.981 537.095 489.255 Q537.095 481.06 540.984 476.199 Q544.873 471.315 551.423 471.315 Q553.183 471.315 554.965 471.662 Q556.771 472.009 558.715 472.704 Z\\\" fill=\\\"#000000\\\" fill-rule=\\\"nonzero\\\" fill-opacity=\\\"1\\\" \\/><path clip-path=\\\"url(#clip180)\\\" d=\\\"M702.511 490.088 Q699.178 490.088 697.257 491.87 Q695.359 493.653 695.359 496.778 Q695.359 499.903 697.257 501.685 Q699.178 503.467 702.511 503.467 Q705.845 503.467 707.766 501.685 Q709.687 499.88 709.687 496.778 Q709.687 493.653 707.766 491.87 Q705.868 490.088 702.511 490.088 M697.835 488.097 Q694.826 487.356 693.136 485.296 Q691.47 483.236 691.47 480.273 Q691.47 476.13 694.41 473.722 Q697.372 471.315 702.511 471.315 Q707.673 471.315 710.613 473.722 Q713.553 476.13 713.553 480.273 Q713.553 483.236 711.863 485.296 Q710.196 487.356 707.21 488.097 Q710.59 488.884 712.465 491.176 Q714.363 493.468 714.363 496.778 Q714.363 501.801 711.284 504.486 Q708.229 507.171 702.511 507.171 Q696.794 507.171 693.715 504.486 Q690.66 501.801 690.66 496.778 Q690.66 493.468 692.558 491.176 Q694.456 488.884 697.835 488.097 M696.122 480.713 Q696.122 483.398 697.789 484.903 Q699.479 486.407 702.511 486.407 Q705.521 486.407 707.21 484.903 Q708.923 483.398 708.923 480.713 Q708.923 478.028 707.21 476.523 Q705.521 475.019 702.511 475.019 Q699.479 475.019 697.789 476.523 Q696.122 478.028 696.122 480.713 Z\\\" fill=\\\"#000000\\\" fill-rule=\\\"nonzero\\\" fill-opacity=\\\"1\\\" \\/><path clip-path=\\\"url(#clip180)\\\" d=\\\"M830.683 502.565 L838.321 502.565 L838.321 476.199 L830.011 477.866 L830.011 473.607 L838.275 471.94 L842.951 471.94 L842.951 502.565 L850.59 502.565 L850.59 506.5 L830.683 506.5 L830.683 502.565 Z\\\" fill=\\\"#000000\\\" fill-rule=\\\"nonzero\\\" fill-opacity=\\\"1\\\" \\/><path clip-path=\\\"url(#clip180)\\\" d=\\\"M870.034 475.019 Q866.423 475.019 864.594 478.583 Q862.789 482.125 862.789 489.255 Q862.789 496.361 864.594 499.926 Q866.423 503.467 870.034 503.467 Q873.668 503.467 875.474 499.926 Q877.303 496.361 877.303 489.255 Q877.303 482.125 875.474 478.583 Q873.668 475.019 870.034 475.019 M870.034 471.315 Q875.844 471.315 878.9 475.921 Q881.979 480.505 881.979 489.255 Q881.979 497.981 878.9 502.588 Q875.844 507.171 870.034 507.171 Q864.224 507.171 861.145 502.588 Q858.09 497.981 858.09 489.255 Q858.09 480.505 861.145 475.921 Q864.224 471.315 870.034 471.315 Z\\\" fill=\\\"#000000\\\" fill-rule=\\\"nonzero\\\" fill-opacity=\\\"1\\\" \\/><path clip-path=\\\"url(#clip180)\\\" d=\\\"M447.7 534.794 L447.7 544.916 L459.763 544.916 L459.763 549.467 L447.7 549.467 L447.7 568.819 Q447.7 573.18 448.878 574.421 Q450.087 575.662 453.747 575.662 L459.763 575.662 L459.763 580.564 L453.747 580.564 Q446.968 580.564 444.39 578.049 Q441.812 575.503 441.812 568.819 L441.812 549.467 L437.515 549.467 L437.515 544.916 L441.812 544.916 L441.812 534.794 L447.7 534.794 Z\\\" fill=\\\"#000000\\\" fill-rule=\\\"nonzero\\\" fill-opacity=\\\"1\\\" \\/><path clip-path=\\\"url(#clip180)\\\" d=\\\"M467.465 544.916 L473.322 544.916 L473.322 580.564 L467.465 580.564 L467.465 544.916 M467.465 531.039 L473.322 531.039 L473.322 538.455 L467.465 538.455 L467.465 531.039 Z\\\" fill=\\\"#000000\\\" fill-rule=\\\"nonzero\\\" fill-opacity=\\\"1\\\" \\/><path clip-path=\\\"url(#clip180)\\\" d=\\\"M511.23 546.285 L511.23 551.759 Q508.747 550.39 506.233 549.722 Q503.75 549.022 501.204 549.022 Q495.506 549.022 492.355 552.65 Q489.204 556.247 489.204 562.772 Q489.204 569.297 492.355 572.925 Q495.506 576.522 501.204 576.522 Q503.75 576.522 506.233 575.853 Q508.747 575.153 511.23 573.784 L511.23 579.195 Q508.779 580.341 506.137 580.914 Q503.527 581.487 500.567 581.487 Q492.514 581.487 487.772 576.426 Q483.03 571.365 483.03 562.772 Q483.03 554.051 487.804 549.054 Q492.61 544.057 500.949 544.057 Q503.654 544.057 506.233 544.629 Q508.811 545.171 511.23 546.285 Z\\\" fill=\\\"#000000\\\" fill-rule=\\\"nonzero\\\" fill-opacity=\\\"1\\\" \\/><path clip-path=\\\"url(#clip180)\\\" d=\\\"M521.192 531.039 L527.08 531.039 L527.08 560.289 L544.554 544.916 L552.034 544.916 L533.128 561.594 L552.83 580.564 L545.191 580.564 L527.08 563.154 L527.08 580.564 L521.192 580.564 L521.192 531.039 Z\\\" fill=\\\"#000000\\\" fill-rule=\\\"nonzero\\\" fill-opacity=\\\"1\\\" \\/><path clip-path=\\\"url(#clip180)\\\" d=\\\"M581.889 545.966 L581.889 551.504 Q579.406 550.231 576.733 549.595 Q574.059 548.958 571.195 548.958 Q566.834 548.958 564.638 550.295 Q562.474 551.632 562.474 554.305 Q562.474 556.342 564.033 557.52 Q565.593 558.666 570.303 559.716 L572.309 560.162 Q578.547 561.499 581.157 563.949 Q583.799 566.368 583.799 570.729 Q583.799 575.694 579.852 578.59 Q575.937 581.487 569.062 581.487 Q566.198 581.487 563.078 580.914 Q559.991 580.373 556.553 579.259 L556.553 573.211 Q559.8 574.898 562.951 575.758 Q566.102 576.585 569.189 576.585 Q573.327 576.585 575.555 575.185 Q577.783 573.753 577.783 571.174 Q577.783 568.787 576.16 567.514 Q574.568 566.241 569.126 565.063 L567.089 564.586 Q561.646 563.44 559.227 561.085 Q556.808 558.698 556.808 554.56 Q556.808 549.531 560.373 546.794 Q563.938 544.057 570.494 544.057 Q573.741 544.057 576.605 544.534 Q579.47 545.011 581.889 545.966 Z\\\" fill=\\\"#000000\\\" fill-rule=\\\"nonzero\\\" fill-opacity=\\\"1\\\" \\/><polyline clip-path=\\\"url(#clip182)\\\" style=\\\"stroke:#000000; stroke-linecap:round; stroke-linejoin:round; stroke-width:2; stroke-opacity:0.1; fill:none\\\" points=\\\"144.598,442.196 876.715,442.196 \\\"\\/>\\n<polyline clip-path=\\\"url(#clip182)\\\" style=\\\"stroke:#000000; stroke-linecap:round; stroke-linejoin:round; stroke-width:2; stroke-opacity:0.1; fill:none\\\" points=\\\"144.598,371.653 876.715,371.653 \\\"\\/>\\n<polyline clip-path=\\\"url(#clip182)\\\" style=\\\"stroke:#000000; stroke-linecap:round; stroke-linejoin:round; stroke-width:2; stroke-opacity:0.1; fill:none\\\" points=\\\"144.598,301.11 876.715,301.11 \\\"\\/>\\n<polyline clip-path=\\\"url(#clip182)\\\" style=\\\"stroke:#000000; stroke-linecap:round; stroke-linejoin:round; stroke-width:2; stroke-opacity:0.1; fill:none\\\" points=\\\"144.598,230.567 876.715,230.567 \\\"\\/>\\n<polyline clip-path=\\\"url(#clip182)\\\" style=\\\"stroke:#000000; stroke-linecap:round; stroke-linejoin:round; stroke-width:2; stroke-opacity:0.1; fill:none\\\" points=\\\"144.598,160.024 876.715,160.024 \\\"\\/>\\n<polyline clip-path=\\\"url(#clip182)\\\" style=\\\"stroke:#000000; stroke-linecap:round; stroke-linejoin:round; stroke-width:2; stroke-opacity:0.1; fill:none\\\" points=\\\"144.598,89.4813 876.715,89.4813 \\\"\\/>\\n<polyline clip-path=\\\"url(#clip180)\\\" style=\\\"stroke:#000000; stroke-linecap:round; stroke-linejoin:round; stroke-width:4; stroke-opacity:1; fill:none\\\" points=\\\"144.598,453.7 144.598,47.2441 \\\"\\/>\\n<polyline clip-path=\\\"url(#clip180)\\\" style=\\\"stroke:#000000; stroke-linecap:round; stroke-linejoin:round; stroke-width:4; stroke-opacity:1; fill:none\\\" points=\\\"144.598,442.196 158.322,442.196 \\\"\\/>\\n<polyline clip-path=\\\"url(#clip180)\\\" style=\\\"stroke:#000000; stroke-linecap:round; stroke-linejoin:round; stroke-width:4; stroke-opacity:1; fill:none\\\" points=\\\"144.598,371.653 158.322,371.653 \\\"\\/>\\n<polyline clip-path=\\\"url(#clip180)\\\" style=\\\"stroke:#000000; stroke-linecap:round; stroke-linejoin:round; stroke-width:4; stroke-opacity:1; fill:none\\\" points=\\\"144.598,301.11 158.322,301.11 \\\"\\/>\\n<polyline clip-path=\\\"url(#clip180)\\\" style=\\\"stroke:#000000; stroke-linecap:round; stroke-linejoin:round; stroke-width:4; stroke-opacity:1; fill:none\\\" points=\\\"144.598,230.567 158.322,230.567 \\\"\\/>\\n<polyline clip-path=\\\"url(#clip180)\\\" style=\\\"stroke:#000000; stroke-linecap:round; stroke-linejoin:round; stroke-width:4; stroke-opacity:1; fill:none\\\" points=\\\"144.598,160.024 158.322,160.024 \\\"\\/>\\n<polyline clip-path=\\\"url(#clip180)\\\" style=\\\"stroke:#000000; stroke-linecap:round; stroke-linejoin:round; stroke-width:4; stroke-opacity:1; fill:none\\\" points=\\\"144.598,89.4813 158.322,89.4813 \\\"\\/>\\n<path clip-path=\\\"url(#clip180)\\\" d=\\\"M71.0198 427.995 Q67.4087 427.995 65.58 431.56 Q63.7745 435.102 63.7745 442.231 Q63.7745 449.338 65.58 452.902 Q67.4087 456.444 71.0198 456.444 Q74.6541 456.444 76.4596 452.902 Q78.2883 449.338 78.2883 442.231 Q78.2883 435.102 76.4596 431.56 Q74.6541 427.995 71.0198 427.995 M71.0198 424.291 Q76.83 424.291 79.8855 428.898 Q82.9642 433.481 82.9642 442.231 Q82.9642 450.958 79.8855 455.564 Q76.83 460.148 71.0198 460.148 Q65.2097 460.148 62.131 455.564 Q59.0754 450.958 59.0754 442.231 Q59.0754 433.481 62.131 428.898 Q65.2097 424.291 71.0198 424.291 Z\\\" fill=\\\"#000000\\\" fill-rule=\\\"nonzero\\\" fill-opacity=\\\"1\\\" \\/><path clip-path=\\\"url(#clip180)\\\" d=\\\"M91.1818 453.597 L96.066 453.597 L96.066 459.476 L91.1818 459.476 L91.1818 453.597 Z\\\" fill=\\\"#000000\\\" fill-rule=\\\"nonzero\\\" fill-opacity=\\\"1\\\" \\/><path clip-path=\\\"url(#clip180)\\\" d=\\\"M110.279 455.541 L126.598 455.541 L126.598 459.476 L104.654 459.476 L104.654 455.541 Q107.316 452.787 111.899 448.157 Q116.506 443.504 117.686 442.162 Q119.932 439.639 120.811 437.902 Q121.714 436.143 121.714 434.453 Q121.714 431.699 119.77 429.963 Q117.848 428.227 114.746 428.227 Q112.547 428.227 110.094 428.99 Q107.663 429.754 104.885 431.305 L104.885 426.583 Q107.709 425.449 110.163 424.87 Q112.617 424.291 114.654 424.291 Q120.024 424.291 123.219 426.977 Q126.413 429.662 126.413 434.152 Q126.413 436.282 125.603 438.203 Q124.816 440.101 122.709 442.694 Q122.131 443.365 119.029 446.583 Q115.927 449.777 110.279 455.541 Z\\\" fill=\\\"#000000\\\" fill-rule=\\\"nonzero\\\" fill-opacity=\\\"1\\\" \\/><path clip-path=\\\"url(#clip180)\\\" d=\\\"M70.0708 357.452 Q66.4597 357.452 64.631 361.017 Q62.8254 364.558 62.8254 371.688 Q62.8254 378.795 64.631 382.359 Q66.4597 385.901 70.0708 385.901 Q73.705 385.901 75.5105 382.359 Q77.3392 378.795 77.3392 371.688 Q77.3392 364.558 75.5105 361.017 Q73.705 357.452 70.0708 357.452 M70.0708 353.748 Q75.8809 353.748 78.9365 358.355 Q82.0151 362.938 82.0151 371.688 Q82.0151 380.415 78.9365 385.021 Q75.8809 389.605 70.0708 389.605 Q64.2606 389.605 61.1819 385.021 Q58.1264 380.415 58.1264 371.688 Q58.1264 362.938 61.1819 358.355 Q64.2606 353.748 70.0708 353.748 Z\\\" fill=\\\"#000000\\\" fill-rule=\\\"nonzero\\\" fill-opacity=\\\"1\\\" \\/><path clip-path=\\\"url(#clip180)\\\" d=\\\"M90.2327 383.054 L95.1169 383.054 L95.1169 388.933 L90.2327 388.933 L90.2327 383.054 Z\\\" fill=\\\"#000000\\\" fill-rule=\\\"nonzero\\\" fill-opacity=\\\"1\\\" \\/><path clip-path=\\\"url(#clip180)\\\" d=\\\"M119.469 370.299 Q122.825 371.017 124.7 373.285 Q126.598 375.554 126.598 378.887 Q126.598 384.003 123.08 386.804 Q119.561 389.605 113.08 389.605 Q110.904 389.605 108.589 389.165 Q106.297 388.748 103.844 387.892 L103.844 383.378 Q105.788 384.512 108.103 385.091 Q110.418 385.669 112.941 385.669 Q117.339 385.669 119.631 383.933 Q121.945 382.197 121.945 378.887 Q121.945 375.832 119.793 374.119 Q117.663 372.383 113.844 372.383 L109.816 372.383 L109.816 368.54 L114.029 368.54 Q117.478 368.54 119.307 367.174 Q121.135 365.785 121.135 363.193 Q121.135 360.531 119.237 359.119 Q117.362 357.684 113.844 357.684 Q111.922 357.684 109.723 358.1 Q107.524 358.517 104.885 359.396 L104.885 355.23 Q107.547 354.489 109.862 354.119 Q112.2 353.748 114.26 353.748 Q119.584 353.748 122.686 356.179 Q125.788 358.586 125.788 362.707 Q125.788 365.577 124.145 367.568 Q122.501 369.535 119.469 370.299 Z\\\" fill=\\\"#000000\\\" fill-rule=\\\"nonzero\\\" fill-opacity=\\\"1\\\" \\/><path clip-path=\\\"url(#clip180)\\\" d=\\\"M68.9365 286.909 Q65.3254 286.909 63.4967 290.474 Q61.6912 294.015 61.6912 301.145 Q61.6912 308.251 63.4967 311.816 Q65.3254 315.358 68.9365 315.358 Q72.5707 315.358 74.3763 311.816 Q76.205 308.251 76.205 301.145 Q76.205 294.015 74.3763 290.474 Q72.5707 286.909 68.9365 286.909 M68.9365 283.205 Q74.7467 283.205 77.8022 287.812 Q80.8809 292.395 80.8809 301.145 Q80.8809 309.872 77.8022 314.478 Q74.7467 319.062 68.9365 319.062 Q63.1264 319.062 60.0477 314.478 Q56.9921 309.872 56.9921 301.145 Q56.9921 292.395 60.0477 287.812 Q63.1264 283.205 68.9365 283.205 Z\\\" fill=\\\"#000000\\\" fill-rule=\\\"nonzero\\\" fill-opacity=\\\"1\\\" \\/><path clip-path=\\\"url(#clip180)\\\" d=\\\"M89.0984 312.511 L93.9827 312.511 L93.9827 318.39 L89.0984 318.39 L89.0984 312.511 Z\\\" fill=\\\"#000000\\\" fill-rule=\\\"nonzero\\\" fill-opacity=\\\"1\\\" \\/><path clip-path=\\\"url(#clip180)\\\" d=\\\"M117.015 287.904 L105.209 306.353 L117.015 306.353 L117.015 287.904 M115.788 283.83 L121.668 283.83 L121.668 306.353 L126.598 306.353 L126.598 310.242 L121.668 310.242 L121.668 318.39 L117.015 318.39 L117.015 310.242 L101.413 310.242 L101.413 305.728 L115.788 283.83 Z\\\" fill=\\\"#000000\\\" fill-rule=\\\"nonzero\\\" fill-opacity=\\\"1\\\" \\/><path clip-path=\\\"url(#clip180)\\\" d=\\\"M70.418 216.366 Q66.8069 216.366 64.9782 219.931 Q63.1726 223.472 63.1726 230.602 Q63.1726 237.708 64.9782 241.273 Q66.8069 244.815 70.418 244.815 Q74.0522 244.815 75.8578 241.273 Q77.6865 237.708 77.6865 230.602 Q77.6865 223.472 75.8578 219.931 Q74.0522 216.366 70.418 216.366 M70.418 212.662 Q76.2281 212.662 79.2837 217.269 Q82.3624 221.852 82.3624 230.602 Q82.3624 239.329 79.2837 243.935 Q76.2281 248.519 70.418 248.519 Q64.6078 248.519 61.5291 243.935 Q58.4736 239.329 58.4736 230.602 Q58.4736 221.852 61.5291 217.269 Q64.6078 212.662 70.418 212.662 Z\\\" fill=\\\"#000000\\\" fill-rule=\\\"nonzero\\\" fill-opacity=\\\"1\\\" \\/><path clip-path=\\\"url(#clip180)\\\" d=\\\"M90.5799 241.968 L95.4641 241.968 L95.4641 247.847 L90.5799 247.847 L90.5799 241.968 Z\\\" fill=\\\"#000000\\\" fill-rule=\\\"nonzero\\\" fill-opacity=\\\"1\\\" \\/><path clip-path=\\\"url(#clip180)\\\" d=\\\"M105.696 213.287 L124.052 213.287 L124.052 217.222 L109.978 217.222 L109.978 225.695 Q110.996 225.347 112.015 225.185 Q113.033 225 114.052 225 Q119.839 225 123.219 228.171 Q126.598 231.343 126.598 236.759 Q126.598 242.338 123.126 245.44 Q119.654 248.519 113.334 248.519 Q111.159 248.519 108.89 248.148 Q106.645 247.778 104.237 247.037 L104.237 242.338 Q106.321 243.472 108.543 244.028 Q110.765 244.583 113.242 244.583 Q117.246 244.583 119.584 242.477 Q121.922 240.37 121.922 236.759 Q121.922 233.148 119.584 231.042 Q117.246 228.935 113.242 228.935 Q111.367 228.935 109.492 229.352 Q107.64 229.769 105.696 230.648 L105.696 213.287 Z\\\" fill=\\\"#000000\\\" fill-rule=\\\"nonzero\\\" fill-opacity=\\\"1\\\" \\/><path clip-path=\\\"url(#clip180)\\\" d=\\\"M69.2606 145.823 Q65.6495 145.823 63.8208 149.388 Q62.0152 152.929 62.0152 160.059 Q62.0152 167.165 63.8208 170.73 Q65.6495 174.272 69.2606 174.272 Q72.8948 174.272 74.7004 170.73 Q76.5291 167.165 76.5291 160.059 Q76.5291 152.929 74.7004 149.388 Q72.8948 145.823 69.2606 145.823 M69.2606 142.119 Q75.0707 142.119 78.1263 146.726 Q81.205 151.309 81.205 160.059 Q81.205 168.786 78.1263 173.392 Q75.0707 177.976 69.2606 177.976 Q63.4504 177.976 60.3717 173.392 Q57.3162 168.786 57.3162 160.059 Q57.3162 151.309 60.3717 146.726 Q63.4504 142.119 69.2606 142.119 Z\\\" fill=\\\"#000000\\\" fill-rule=\\\"nonzero\\\" fill-opacity=\\\"1\\\" \\/><path clip-path=\\\"url(#clip180)\\\" d=\\\"M89.4225 171.425 L94.3067 171.425 L94.3067 177.304 L89.4225 177.304 L89.4225 171.425 Z\\\" fill=\\\"#000000\\\" fill-rule=\\\"nonzero\\\" fill-opacity=\\\"1\\\" \\/><path clip-path=\\\"url(#clip180)\\\" d=\\\"M115.071 158.161 Q111.922 158.161 110.071 160.314 Q108.242 162.466 108.242 166.216 Q108.242 169.943 110.071 172.119 Q111.922 174.272 115.071 174.272 Q118.219 174.272 120.047 172.119 Q121.899 169.943 121.899 166.216 Q121.899 162.466 120.047 160.314 Q118.219 158.161 115.071 158.161 M124.353 143.508 L124.353 147.767 Q122.594 146.934 120.788 146.494 Q119.006 146.054 117.246 146.054 Q112.617 146.054 110.163 149.179 Q107.733 152.304 107.385 158.624 Q108.751 156.61 110.811 155.545 Q112.871 154.457 115.348 154.457 Q120.557 154.457 123.566 157.628 Q126.598 160.777 126.598 166.216 Q126.598 171.54 123.45 174.758 Q120.302 177.976 115.071 177.976 Q109.075 177.976 105.904 173.392 Q102.733 168.786 102.733 160.059 Q102.733 151.865 106.621 147.004 Q110.51 142.119 117.061 142.119 Q118.82 142.119 120.603 142.467 Q122.408 142.814 124.353 143.508 Z\\\" fill=\\\"#000000\\\" fill-rule=\\\"nonzero\\\" fill-opacity=\\\"1\\\" \\/><path clip-path=\\\"url(#clip180)\\\" d=\\\"M70.3254 75.28 Q66.7143 75.28 64.8856 78.8447 Q63.0801 82.3864 63.0801 89.516 Q63.0801 96.6224 64.8856 100.187 Q66.7143 103.729 70.3254 103.729 Q73.9596 103.729 75.7652 100.187 Q77.5939 96.6224 77.5939 89.516 Q77.5939 82.3864 75.7652 78.8447 Q73.9596 75.28 70.3254 75.28 M70.3254 71.5763 Q76.1355 71.5763 79.1911 76.1827 Q82.2698 80.766 82.2698 89.516 Q82.2698 98.2428 79.1911 102.849 Q76.1355 107.433 70.3254 107.433 Q64.5152 107.433 61.4365 102.849 Q58.381 98.2428 58.381 89.516 Q58.381 80.766 61.4365 76.1827 Q64.5152 71.5763 70.3254 71.5763 Z\\\" fill=\\\"#000000\\\" fill-rule=\\\"nonzero\\\" fill-opacity=\\\"1\\\" \\/><path clip-path=\\\"url(#clip180)\\\" d=\\\"M90.4873 100.882 L95.3715 100.882 L95.3715 106.761 L90.4873 106.761 L90.4873 100.882 Z\\\" fill=\\\"#000000\\\" fill-rule=\\\"nonzero\\\" fill-opacity=\\\"1\\\" \\/><path clip-path=\\\"url(#clip180)\\\" d=\\\"M104.376 72.2013 L126.598 72.2013 L126.598 74.192 L114.052 106.761 L109.168 106.761 L120.973 76.1364 L104.376 76.1364 L104.376 72.2013 Z\\\" fill=\\\"#000000\\\" fill-rule=\\\"nonzero\\\" fill-opacity=\\\"1\\\" \\/><polyline clip-path=\\\"url(#clip182)\\\" style=\\\"stroke:#009af9; stroke-linecap:round; stroke-linejoin:round; stroke-width:4; stroke-opacity:1; fill:none\\\" points=\\\"165.319,442.196 242.06,374.475 318.802,296.539 395.544,246.769 472.286,239.466 549.028,228.848 625.769,161.779 702.511,94.4281 779.253,79.9827 855.995,58.7476 \\\"\\/>\\n<path clip-path=\\\"url(#clip180)\\\" d=\\\"M910.321 164.473 L1152.76 164.473 L1152.76 60.7926 L910.321 60.7926  Z\\\" fill=\\\"#ffffff\\\" fill-rule=\\\"evenodd\\\" fill-opacity=\\\"1\\\"\\/>\\n<polyline clip-path=\\\"url(#clip180)\\\" style=\\\"stroke:#000000; stroke-linecap:round; stroke-linejoin:round; stroke-width:4; stroke-opacity:1; fill:none\\\" points=\\\"910.321,164.473 1152.76,164.473 1152.76,60.7926 910.321,60.7926 910.321,164.473 \\\"\\/>\\n<polyline clip-path=\\\"url(#clip180)\\\" style=\\\"stroke:#009af9; stroke-linecap:round; stroke-linejoin:round; stroke-width:4; stroke-opacity:1; fill:none\\\" points=\\\"921.522,112.633 988.733,112.633 \\\"\\/>\\n<path clip-path=\\\"url(#clip180)\\\" d=\\\"M1021.65 114.265 L1021.65 129.913 L1017.39 129.913 L1017.39 114.403 Q1017.39 110.723 1015.95 108.894 Q1014.52 107.066 1011.65 107.066 Q1008.2 107.066 1006.21 109.265 Q1004.22 111.464 1004.22 115.26 L1004.22 129.913 L999.935 129.913 L999.935 93.8943 L1004.22 93.8943 L1004.22 108.015 Q1005.74 105.677 1007.8 104.519 Q1009.89 103.362 1012.6 103.362 Q1017.06 103.362 1019.36 106.14 Q1021.65 108.894 1021.65 114.265 Z\\\" fill=\\\"#000000\\\" fill-rule=\\\"nonzero\\\" fill-opacity=\\\"1\\\" \\/><path clip-path=\\\"url(#clip180)\\\" d=\\\"M1041.93 116.88 Q1036.76 116.88 1034.77 118.061 Q1032.78 119.241 1032.78 122.089 Q1032.78 124.357 1034.26 125.7 Q1035.77 127.019 1038.34 127.019 Q1041.88 127.019 1044.01 124.519 Q1046.16 121.996 1046.16 117.829 L1046.16 116.88 L1041.93 116.88 M1050.42 115.121 L1050.42 129.913 L1046.16 129.913 L1046.16 125.977 Q1044.7 128.339 1042.53 129.473 Q1040.35 130.584 1037.2 130.584 Q1033.22 130.584 1030.86 128.362 Q1028.52 126.116 1028.52 122.366 Q1028.52 117.991 1031.44 115.769 Q1034.38 113.547 1040.19 113.547 L1046.16 113.547 L1046.16 113.13 Q1046.16 110.191 1044.22 108.593 Q1042.3 106.973 1038.8 106.973 Q1036.58 106.973 1034.47 107.505 Q1032.36 108.038 1030.42 109.103 L1030.42 105.167 Q1032.76 104.265 1034.96 103.825 Q1037.16 103.362 1039.24 103.362 Q1044.86 103.362 1047.64 106.278 Q1050.42 109.195 1050.42 115.121 Z\\\" fill=\\\"#000000\\\" fill-rule=\\\"nonzero\\\" fill-opacity=\\\"1\\\" \\/><path clip-path=\\\"url(#clip180)\\\" d=\\\"M1063.31 126.024 L1063.31 139.774 L1059.03 139.774 L1059.03 103.987 L1063.31 103.987 L1063.31 107.922 Q1064.66 105.607 1066.69 104.496 Q1068.75 103.362 1071.6 103.362 Q1076.32 103.362 1079.26 107.112 Q1082.23 110.862 1082.23 116.973 Q1082.23 123.084 1079.26 126.834 Q1076.32 130.584 1071.6 130.584 Q1068.75 130.584 1066.69 129.473 Q1064.66 128.339 1063.31 126.024 M1077.8 116.973 Q1077.8 112.274 1075.86 109.612 Q1073.94 106.927 1070.56 106.927 Q1067.18 106.927 1065.24 109.612 Q1063.31 112.274 1063.31 116.973 Q1063.31 121.672 1065.24 124.357 Q1067.18 127.019 1070.56 127.019 Q1073.94 127.019 1075.86 124.357 Q1077.8 121.672 1077.8 116.973 Z\\\" fill=\\\"#000000\\\" fill-rule=\\\"nonzero\\\" fill-opacity=\\\"1\\\" \\/><path clip-path=\\\"url(#clip180)\\\" d=\\\"M1093.41 126.024 L1093.41 139.774 L1089.12 139.774 L1089.12 103.987 L1093.41 103.987 L1093.41 107.922 Q1094.75 105.607 1096.79 104.496 Q1098.85 103.362 1101.69 103.362 Q1106.42 103.362 1109.36 107.112 Q1112.32 110.862 1112.32 116.973 Q1112.32 123.084 1109.36 126.834 Q1106.42 130.584 1101.69 130.584 Q1098.85 130.584 1096.79 129.473 Q1094.75 128.339 1093.41 126.024 M1107.9 116.973 Q1107.9 112.274 1105.95 109.612 Q1104.03 106.927 1100.65 106.927 Q1097.27 106.927 1095.33 109.612 Q1093.41 112.274 1093.41 116.973 Q1093.41 121.672 1095.33 124.357 Q1097.27 127.019 1100.65 127.019 Q1104.03 127.019 1105.95 124.357 Q1107.9 121.672 1107.9 116.973 Z\\\" fill=\\\"#000000\\\" fill-rule=\\\"nonzero\\\" fill-opacity=\\\"1\\\" \\/><path clip-path=\\\"url(#clip180)\\\" d=\\\"M1130.17 132.32 Q1128.36 136.95 1126.65 138.362 Q1124.93 139.774 1122.06 139.774 L1118.66 139.774 L1118.66 136.209 L1121.16 136.209 Q1122.92 136.209 1123.89 135.376 Q1124.86 134.542 1126.04 131.44 L1126.81 129.496 L1116.32 103.987 L1120.84 103.987 L1128.94 124.265 L1137.04 103.987 L1141.55 103.987 L1130.17 132.32 Z\\\" fill=\\\"#000000\\\" fill-rule=\\\"nonzero\\\" fill-opacity=\\\"1\\\" \\/><\\/svg>\\n\"},\"nodeType\":\"DOM\",\"type\":\"node\",\"instanceArgs\":{\"namespace\":\"html\",\"tag\":\"div\"},\"children\":[]}]}]}]}]},\n",
       "        window,\n",
       "    );\n",
       "    })()\n",
       "    </script>\n",
       "</div>\n"
      ],
      "text/plain": [
       "WebIO.Node{WebIO.DOM}(WebIO.DOM(:html, :div), Any[WebIO.Node{WebIO.DOM}(WebIO.DOM(:html, :div), Any[WebIO.Node{WebIO.DOM}(WebIO.DOM(:html, :div), Any[WebIO.Node{WebIO.DOM}(WebIO.DOM(:html, :div), Any[WebIO.Scope(WebIO.Node{WebIO.DOM}(WebIO.DOM(:html, :div), Any[WebIO.Node{WebIO.DOM}(WebIO.DOM(:html, :div), Any[WebIO.Node{WebIO.DOM}(WebIO.DOM(:html, :label), Any[\"time\"], Dict{Symbol, Any}(:className => \"interact \", :style => Dict{Any, Any}(:padding => \"5px 10px 0px 10px\")))], Dict{Symbol, Any}(:className => \"interact-flex-row-left\")), WebIO.Node{WebIO.DOM}(WebIO.DOM(:html, :div), Any[WebIO.Node{WebIO.DOM}(WebIO.DOM(:html, :input), Any[], Dict{Symbol, Any}(:max => 20, :min => 1, :attributes => Dict{Any, Any}(:type => \"range\", Symbol(\"data-bind\") => \"numericValue: index, valueUpdate: 'input', event: {change: function (){this.changes(this.changes()+1)}}\", \"orient\" => \"horizontal\"), :step => 1, :className => \"slider slider is-fullwidth\", :style => Dict{Any, Any}()))], Dict{Symbol, Any}(:className => \"interact-flex-row-center\")), WebIO.Node{WebIO.DOM}(WebIO.DOM(:html, :div), Any[WebIO.Node{WebIO.DOM}(WebIO.DOM(:html, :p), Any[], Dict{Symbol, Any}(:attributes => Dict(\"data-bind\" => \"text: formatted_val\")))], Dict{Symbol, Any}(:className => \"interact-flex-row-right\"))], Dict{Symbol, Any}(:className => \"interact-flex-row interact-widget\")), Dict{String, Tuple{Observables.AbstractObservable, Union{Nothing, Bool}}}(\"changes\" => (Observable(0), nothing), \"index\" => (Observable(10), nothing)), Set{String}(), nothing, WebIO.Asset[WebIO.Asset(\"js\", \"knockout\", \"/home/dushya/.julia/packages/Knockout/HReiN/src/../assets/knockout.js\"), WebIO.Asset(\"js\", \"knockout_punches\", \"/home/dushya/.julia/packages/Knockout/HReiN/src/../assets/knockout_punches.js\"), WebIO.Asset(\"js\", nothing, \"/home/dushya/.julia/packages/InteractBase/LJXv3/src/../assets/all.js\"), WebIO.Asset(\"css\", nothing, \"/home/dushya/.julia/packages/InteractBase/LJXv3/src/../assets/style.css\"), WebIO.Asset(\"css\", nothing, \"/home/dushya/.julia/packages/Interact/PENUy/src/../assets/bulma_confined.min.css\")], Dict{Any, Any}(\"changes\" => Any[WebIO.JSString(\"(function (val){return (val!=this.model[\\\"changes\\\"]()) ? (this.valueFromJulia[\\\"changes\\\"]=true, this.model[\\\"changes\\\"](val)) : undefined})\")], \"index\" => Any[WebIO.JSString(\"(function (val){return (val!=this.model[\\\"index\\\"]()) ? (this.valueFromJulia[\\\"index\\\"]=true, this.model[\\\"index\\\"](val)) : undefined})\")]), WebIO.ConnectionPool(Channel{Any}(32), Set{WebIO.AbstractConnection}(), Base.GenericCondition{ReentrantLock}(Base.IntrusiveLinkedList{Task}(Task (runnable) @0x00007fa094ae5aa0, Task (runnable) @0x00007fa094ae5aa0), ReentrantLock(nothing, 0x00000000, 0x00, Base.GenericCondition{Base.Threads.SpinLock}(Base.IntrusiveLinkedList{Task}(nothing, nothing), Base.Threads.SpinLock(0)), (8, 140327696461936, 0)))), WebIO.JSString[WebIO.JSString(\"function () {\\n    var handler = (function (ko, koPunches) {\\n    ko.punches.enableAll();\\n    ko.bindingHandlers.numericValue = {\\n        init: function(element, valueAccessor, allBindings, data, context) {\\n            var stringified = ko.observable(ko.unwrap(valueAccessor()));\\n            stringified.subscribe(function(value) {\\n                var val = parseFloat(value);\\n                if (!isNaN(val)) {\\n                    valueAccessor()(val);\\n                }\\n            });\\n            valueAccessor().subscribe(function(value) {\\n                var str = JSON.stringify(value);\\n                if ((str == \\\"0\\\") && ([\\\"-0\\\", \\\"-0.\\\"].indexOf(stringified()) >= 0))\\n                     return;\\n                 if ([\\\"null\\\", \\\"\\\"].indexOf(str) >= 0)\\n                     return;\\n                stringified(str);\\n            });\\n            ko.applyBindingsToNode(\\n                element,\\n                {\\n                    value: stringified,\\n                    valueUpdate: allBindings.get('valueUpdate'),\\n                },\\n                context,\\n            );\\n        }\\n    };\\n    var json_data = {\\\"formatted_vals\\\":[\\\"1\\\",\\\"2\\\",\\\"3\\\",\\\"4\\\",\\\"5\\\",\\\"6\\\",\\\"7\\\",\\\"8\\\",\\\"9\\\",\\\"10\\\",\\\"11\\\",\\\"12\\\",\\\"13\\\",\\\"14\\\",\\\"15\\\",\\\"16\\\",\\\"17\\\",\\\"18\\\",\\\"19\\\",\\\"20\\\"],\\\"changes\\\":WebIO.getval({\\\"name\\\":\\\"changes\\\",\\\"scope\\\":\\\"17728277005798008321\\\",\\\"id\\\":\\\"11261902471913921578\\\",\\\"type\\\":\\\"observable\\\"}),\\\"index\\\":WebIO.getval({\\\"name\\\":\\\"index\\\",\\\"scope\\\":\\\"17728277005798008321\\\",\\\"id\\\":\\\"14234019474910218439\\\",\\\"type\\\":\\\"observable\\\"})};\\n    var self = this;\\n    function AppViewModel() {\\n        for (var key in json_data) {\\n            var el = json_data[key];\\n            this[key] = Array.isArray(el) ? ko.observableArray(el) : ko.observable(el);\\n        }\\n        \\n        [this[\\\"formatted_val\\\"]=ko.computed(    function(){\\n        return this.formatted_vals()[parseInt(this.index())-(1)];\\n    }\\n,this)]\\n        [this[\\\"changes\\\"].subscribe((function (val){!(this.valueFromJulia[\\\"changes\\\"]) ? (WebIO.setval({\\\"name\\\":\\\"changes\\\",\\\"scope\\\":\\\"17728277005798008321\\\",\\\"id\\\":\\\"11261902471913921578\\\",\\\"type\\\":\\\"observable\\\"},val)) : undefined; return this.valueFromJulia[\\\"changes\\\"]=false}),self),this[\\\"index\\\"].subscribe((function (val){!(this.valueFromJulia[\\\"index\\\"]) ? (WebIO.setval({\\\"name\\\":\\\"index\\\",\\\"scope\\\":\\\"17728277005798008321\\\",\\\"id\\\":\\\"14234019474910218439\\\",\\\"type\\\":\\\"observable\\\"},val)) : undefined; return this.valueFromJulia[\\\"index\\\"]=false}),self)]\\n        \\n    }\\n    self.model = new AppViewModel();\\n    self.valueFromJulia = {};\\n    for (var key in json_data) {\\n        self.valueFromJulia[key] = false;\\n    }\\n    ko.applyBindings(self.model, self.dom);\\n}\\n);\\n    (WebIO.importBlock({\\\"data\\\":[{\\\"name\\\":\\\"knockout\\\",\\\"type\\\":\\\"js\\\",\\\"url\\\":\\\"/assetserver/727383f2a47bd31570b7da84eee7b022dd6d7c78-knockout.js\\\"},{\\\"name\\\":\\\"knockout_punches\\\",\\\"type\\\":\\\"js\\\",\\\"url\\\":\\\"/assetserver/382b41b3b1bd9f26f75861d360bad7f8beea211f-knockout_punches.js\\\"}],\\\"type\\\":\\\"async_block\\\"})).then((imports) => handler.apply(this, imports));\\n}\\n\")])], Dict{Symbol, Any}(:className => \"field interact-widget\")), WebIO.Node{WebIO.DOM}(WebIO.DOM(:html, :div), Any[WebIO.Scope(WebIO.Node{WebIO.DOM}(WebIO.DOM(:html, :div), Any[WebIO.Node{WebIO.DOM}(WebIO.DOM(:html, :div), Any[WebIO.Node{WebIO.DOM}(WebIO.DOM(:html, :label), Any[\"scale\"], Dict{Symbol, Any}(:className => \"interact \", :style => Dict{Any, Any}(:padding => \"5px 10px 0px 10px\")))], Dict{Symbol, Any}(:className => \"interact-flex-row-left\")), WebIO.Node{WebIO.DOM}(WebIO.DOM(:html, :div), Any[WebIO.Node{WebIO.DOM}(WebIO.DOM(:html, :input), Any[], Dict{Symbol, Any}(:max => 20, :min => 1, :attributes => Dict{Any, Any}(:type => \"range\", Symbol(\"data-bind\") => \"numericValue: index, valueUpdate: 'input', event: {change: function (){this.changes(this.changes()+1)}}\", \"orient\" => \"horizontal\"), :step => 1, :className => \"slider slider is-fullwidth\", :style => Dict{Any, Any}()))], Dict{Symbol, Any}(:className => \"interact-flex-row-center\")), WebIO.Node{WebIO.DOM}(WebIO.DOM(:html, :div), Any[WebIO.Node{WebIO.DOM}(WebIO.DOM(:html, :p), Any[], Dict{Symbol, Any}(:attributes => Dict(\"data-bind\" => \"text: formatted_val\")))], Dict{Symbol, Any}(:className => \"interact-flex-row-right\"))], Dict{Symbol, Any}(:className => \"interact-flex-row interact-widget\")), Dict{String, Tuple{Observables.AbstractObservable, Union{Nothing, Bool}}}(\"changes\" => (Observable(0), nothing), \"index\" => (Observable{Any}(10), nothing)), Set{String}(), nothing, WebIO.Asset[WebIO.Asset(\"js\", \"knockout\", \"/home/dushya/.julia/packages/Knockout/HReiN/src/../assets/knockout.js\"), WebIO.Asset(\"js\", \"knockout_punches\", \"/home/dushya/.julia/packages/Knockout/HReiN/src/../assets/knockout_punches.js\"), WebIO.Asset(\"js\", nothing, \"/home/dushya/.julia/packages/InteractBase/LJXv3/src/../assets/all.js\"), WebIO.Asset(\"css\", nothing, \"/home/dushya/.julia/packages/InteractBase/LJXv3/src/../assets/style.css\"), WebIO.Asset(\"css\", nothing, \"/home/dushya/.julia/packages/Interact/PENUy/src/../assets/bulma_confined.min.css\")], Dict{Any, Any}(\"changes\" => Any[WebIO.JSString(\"(function (val){return (val!=this.model[\\\"changes\\\"]()) ? (this.valueFromJulia[\\\"changes\\\"]=true, this.model[\\\"changes\\\"](val)) : undefined})\")], \"index\" => Any[WebIO.JSString(\"(function (val){return (val!=this.model[\\\"index\\\"]()) ? (this.valueFromJulia[\\\"index\\\"]=true, this.model[\\\"index\\\"](val)) : undefined})\")]), WebIO.ConnectionPool(Channel{Any}(32), Set{WebIO.AbstractConnection}(), Base.GenericCondition{ReentrantLock}(Base.IntrusiveLinkedList{Task}(Task (runnable) @0x00007fa09640f530, Task (runnable) @0x00007fa09640f530), ReentrantLock(nothing, 0x00000000, 0x00, Base.GenericCondition{Base.Threads.SpinLock}(Base.IntrusiveLinkedList{Task}(nothing, nothing), Base.Threads.SpinLock(0)), (8, 140327552881728, 0)))), WebIO.JSString[WebIO.JSString(\"function () {\\n    var handler = (function (ko, koPunches) {\\n    ko.punches.enableAll();\\n    ko.bindingHandlers.numericValue = {\\n        init: function(element, valueAccessor, allBindings, data, context) {\\n            var stringified = ko.observable(ko.unwrap(valueAccessor()));\\n            stringified.subscribe(function(value) {\\n                var val = parseFloat(value);\\n                if (!isNaN(val)) {\\n                    valueAccessor()(val);\\n                }\\n            });\\n            valueAccessor().subscribe(function(value) {\\n                var str = JSON.stringify(value);\\n                if ((str == \\\"0\\\") && ([\\\"-0\\\", \\\"-0.\\\"].indexOf(stringified()) >= 0))\\n                     return;\\n                 if ([\\\"null\\\", \\\"\\\"].indexOf(str) >= 0)\\n                     return;\\n                stringified(str);\\n            });\\n            ko.applyBindingsToNode(\\n                element,\\n                {\\n                    value: stringified,\\n                    valueUpdate: allBindings.get('valueUpdate'),\\n                },\\n                context,\\n            );\\n        }\\n    };\\n    var json_data = {\\\"formatted_vals\\\":[\\\"0.1\\\",\\\"0.2\\\",\\\"0.3\\\",\\\"0.4\\\",\\\"0.5\\\",\\\"0.6\\\",\\\"0.7\\\",\\\"0.8\\\",\\\"0.9\\\",\\\"1.0\\\",\\\"1.1\\\",\\\"1.2\\\",\\\"1.3\\\",\\\"1.4\\\",\\\"1.5\\\",\\\"1.6\\\",\\\"1.7\\\",\\\"1.8\\\",\\\"1.9\\\",\\\"2.0\\\"],\\\"changes\\\":WebIO.getval({\\\"name\\\":\\\"changes\\\",\\\"scope\\\":\\\"1657137171959100485\\\",\\\"id\\\":\\\"6934795761798933182\\\",\\\"type\\\":\\\"observable\\\"}),\\\"index\\\":WebIO.getval({\\\"name\\\":\\\"index\\\",\\\"scope\\\":\\\"1657137171959100485\\\",\\\"id\\\":\\\"9710316209481314006\\\",\\\"type\\\":\\\"observable\\\"})};\\n    var self = this;\\n    function AppViewModel() {\\n        for (var key in json_data) {\\n            var el = json_data[key];\\n            this[key] = Array.isArray(el) ? ko.observableArray(el) : ko.observable(el);\\n        }\\n        \\n        [this[\\\"formatted_val\\\"]=ko.computed(    function(){\\n        return this.formatted_vals()[parseInt(this.index())-(1)];\\n    }\\n,this)]\\n        [this[\\\"changes\\\"].subscribe((function (val){!(this.valueFromJulia[\\\"changes\\\"]) ? (WebIO.setval({\\\"name\\\":\\\"changes\\\",\\\"scope\\\":\\\"1657137171959100485\\\",\\\"id\\\":\\\"6934795761798933182\\\",\\\"type\\\":\\\"observable\\\"},val)) : undefined; return this.valueFromJulia[\\\"changes\\\"]=false}),self),this[\\\"index\\\"].subscribe((function (val){!(this.valueFromJulia[\\\"index\\\"]) ? (WebIO.setval({\\\"name\\\":\\\"index\\\",\\\"scope\\\":\\\"1657137171959100485\\\",\\\"id\\\":\\\"9710316209481314006\\\",\\\"type\\\":\\\"observable\\\"},val)) : undefined; return this.valueFromJulia[\\\"index\\\"]=false}),self)]\\n        \\n    }\\n    self.model = new AppViewModel();\\n    self.valueFromJulia = {};\\n    for (var key in json_data) {\\n        self.valueFromJulia[key] = false;\\n    }\\n    ko.applyBindings(self.model, self.dom);\\n}\\n);\\n    (WebIO.importBlock({\\\"data\\\":[{\\\"name\\\":\\\"knockout\\\",\\\"type\\\":\\\"js\\\",\\\"url\\\":\\\"/assetserver/727383f2a47bd31570b7da84eee7b022dd6d7c78-knockout.js\\\"},{\\\"name\\\":\\\"knockout_punches\\\",\\\"type\\\":\\\"js\\\",\\\"url\\\":\\\"/assetserver/382b41b3b1bd9f26f75861d360bad7f8beea211f-knockout_punches.js\\\"}],\\\"type\\\":\\\"async_block\\\"})).then((imports) => handler.apply(this, imports));\\n}\\n\")])], Dict{Symbol, Any}(:className => \"field interact-widget\")), WebIO.Node{WebIO.DOM}(WebIO.DOM(:html, :div), Any[WebIO.Node{WebIO.DOM}(WebIO.DOM(:html, :div), Any[WebIO.Scope(WebIO.Node{WebIO.DOM}(WebIO.DOM(:html, :div), Any[], Dict{Symbol, Any}(:id => \"container\")), Dict{String, Tuple{Observables.AbstractObservable, Union{Nothing, Bool}}}(\"value\" => (Observable(\"\\\\;\\\\;\"), nothing)), Set{String}(), nothing, WebIO.Asset[WebIO.Asset(\"js\", nothing, \"/home/dushya/.julia/packages/InteractBase/LJXv3/src/../assets/katex.min.js\"), WebIO.Asset(\"css\", nothing, \"/home/dushya/.julia/packages/InteractBase/LJXv3/src/../assets/katex.min.css\")], Dict{Any, Any}(\"value\" => Any[WebIO.JSString(\"(function (txt){return this.k.render(txt,this.container)})\")]), WebIO.ConnectionPool(Channel{Any}(32), Set{WebIO.AbstractConnection}(), Base.GenericCondition{ReentrantLock}(Base.IntrusiveLinkedList{Task}(Task (runnable) @0x00007fa0209b7d00, Task (runnable) @0x00007fa0209b7d00), ReentrantLock(nothing, 0x00000000, 0x00, Base.GenericCondition{Base.Threads.SpinLock}(Base.IntrusiveLinkedList{Task}(nothing, nothing), Base.Threads.SpinLock(0)), (8, 140325171494912, 4294967297)))), WebIO.JSString[WebIO.JSString(\"function () {\\n    var handler = ((function (k){this.k=k; this.container=this.dom.querySelector(\\\"#container\\\"); return k.render(\\\"\\\\\\\\;\\\\\\\\;\\\",this.container)}));\\n    (WebIO.importBlock({\\\"data\\\":[{\\\"name\\\":null,\\\"type\\\":\\\"js\\\",\\\"url\\\":\\\"/assetserver/dd22ed1bf1896c2748f3fe616ce0b838adc895c1-katex.min.js\\\"},{\\\"name\\\":null,\\\"type\\\":\\\"css\\\",\\\"url\\\":\\\"/assetserver/46517a424aa5e6cffc1360d7e0848b601c584ee3-katex.min.css\\\"}],\\\"type\\\":\\\"async_block\\\"})).then((imports) => handler.apply(this, imports));\\n}\\n\")])], Dict{Symbol, Any}(:className => \"interact-widget\")), WebIO.Node{WebIO.DOM}(WebIO.DOM(:html, :div), Any[WebIO.Scope(WebIO.Node{WebIO.DOM}(WebIO.DOM(:html, :button), Any[\"run\"], Dict{Symbol, Any}(:attributes => Dict{Any, Any}(\"data-bind\" => \"click: function (){this.clicks(this.clicks()+1)}, css: {'is-loading' : loading}\"), :className => \"is-medium button is-primary\", :style => Dict{String, Any}())), Dict{String, Tuple{Observables.AbstractObservable, Union{Nothing, Bool}}}(\"loading\" => (Observable(false), nothing), \"clicks\" => (Observable(0), nothing)), Set{String}(), nothing, WebIO.Asset[WebIO.Asset(\"js\", \"knockout\", \"/home/dushya/.julia/packages/Knockout/HReiN/src/../assets/knockout.js\"), WebIO.Asset(\"js\", \"knockout_punches\", \"/home/dushya/.julia/packages/Knockout/HReiN/src/../assets/knockout_punches.js\"), WebIO.Asset(\"js\", nothing, \"/home/dushya/.julia/packages/InteractBase/LJXv3/src/../assets/all.js\"), WebIO.Asset(\"css\", nothing, \"/home/dushya/.julia/packages/InteractBase/LJXv3/src/../assets/style.css\"), WebIO.Asset(\"css\", nothing, \"/home/dushya/.julia/packages/Interact/PENUy/src/../assets/bulma_confined.min.css\")], Dict{Any, Any}(\"loading\" => Any[WebIO.JSString(\"(function (val){return (val!=this.model[\\\"loading\\\"]()) ? (this.valueFromJulia[\\\"loading\\\"]=true, this.model[\\\"loading\\\"](val)) : undefined})\")], \"clicks\" => Any[WebIO.JSString(\"(function (val){return (val!=this.model[\\\"clicks\\\"]()) ? (this.valueFromJulia[\\\"clicks\\\"]=true, this.model[\\\"clicks\\\"](val)) : undefined})\")]), WebIO.ConnectionPool(Channel{Any}(32), Set{WebIO.AbstractConnection}(), Base.GenericCondition{ReentrantLock}(Base.IntrusiveLinkedList{Task}(Task (runnable) @0x00007fa061be87e0, Task (runnable) @0x00007fa061be87e0), ReentrantLock(nothing, 0x00000000, 0x00, Base.GenericCondition{Base.Threads.SpinLock}(Base.IntrusiveLinkedList{Task}(nothing, nothing), Base.Threads.SpinLock(0)), (8, 0, 0)))), WebIO.JSString[WebIO.JSString(\"function () {\\n    var handler = (function (ko, koPunches) {\\n    ko.punches.enableAll();\\n    ko.bindingHandlers.numericValue = {\\n        init: function(element, valueAccessor, allBindings, data, context) {\\n            var stringified = ko.observable(ko.unwrap(valueAccessor()));\\n            stringified.subscribe(function(value) {\\n                var val = parseFloat(value);\\n                if (!isNaN(val)) {\\n                    valueAccessor()(val);\\n                }\\n            });\\n            valueAccessor().subscribe(function(value) {\\n                var str = JSON.stringify(value);\\n                if ((str == \\\"0\\\") && ([\\\"-0\\\", \\\"-0.\\\"].indexOf(stringified()) >= 0))\\n                     return;\\n                 if ([\\\"null\\\", \\\"\\\"].indexOf(str) >= 0)\\n                     return;\\n                stringified(str);\\n            });\\n            ko.applyBindingsToNode(\\n                element,\\n                {\\n                    value: stringified,\\n                    valueUpdate: allBindings.get('valueUpdate'),\\n                },\\n                context,\\n            );\\n        }\\n    };\\n    var json_data = {\\\"loading\\\":WebIO.getval({\\\"name\\\":\\\"loading\\\",\\\"scope\\\":\\\"4171793654051162283\\\",\\\"id\\\":\\\"5069131507991618399\\\",\\\"type\\\":\\\"observable\\\"}),\\\"clicks\\\":WebIO.getval({\\\"name\\\":\\\"clicks\\\",\\\"scope\\\":\\\"4171793654051162283\\\",\\\"id\\\":\\\"9278667621641795061\\\",\\\"type\\\":\\\"observable\\\"})};\\n    var self = this;\\n    function AppViewModel() {\\n        for (var key in json_data) {\\n            var el = json_data[key];\\n            this[key] = Array.isArray(el) ? ko.observableArray(el) : ko.observable(el);\\n        }\\n        \\n        \\n        [this[\\\"loading\\\"].subscribe((function (val){!(this.valueFromJulia[\\\"loading\\\"]) ? (WebIO.setval({\\\"name\\\":\\\"loading\\\",\\\"scope\\\":\\\"4171793654051162283\\\",\\\"id\\\":\\\"5069131507991618399\\\",\\\"type\\\":\\\"observable\\\"},val)) : undefined; return this.valueFromJulia[\\\"loading\\\"]=false}),self),this[\\\"clicks\\\"].subscribe((function (val){!(this.valueFromJulia[\\\"clicks\\\"]) ? (WebIO.setval({\\\"name\\\":\\\"clicks\\\",\\\"scope\\\":\\\"4171793654051162283\\\",\\\"id\\\":\\\"9278667621641795061\\\",\\\"type\\\":\\\"observable\\\"},val)) : undefined; return this.valueFromJulia[\\\"clicks\\\"]=false}),self)]\\n        \\n    }\\n    self.model = new AppViewModel();\\n    self.valueFromJulia = {};\\n    for (var key in json_data) {\\n        self.valueFromJulia[key] = false;\\n    }\\n    ko.applyBindings(self.model, self.dom);\\n}\\n);\\n    (WebIO.importBlock({\\\"data\\\":[{\\\"name\\\":\\\"knockout\\\",\\\"type\\\":\\\"js\\\",\\\"url\\\":\\\"/assetserver/727383f2a47bd31570b7da84eee7b022dd6d7c78-knockout.js\\\"},{\\\"name\\\":\\\"knockout_punches\\\",\\\"type\\\":\\\"js\\\",\\\"url\\\":\\\"/assetserver/382b41b3b1bd9f26f75861d360bad7f8beea211f-knockout_punches.js\\\"}],\\\"type\\\":\\\"async_block\\\"})).then((imports) => handler.apply(this, imports));\\n}\\n\")])], Dict{Symbol, Any}(:className => \"field interact-widget\")), WebIO.Node{WebIO.DOM}(WebIO.DOM(:html, :div), Any[WebIO.Scope(WebIO.Node{WebIO.DOM}(WebIO.DOM(:html, :div), Any[], Dict{Symbol, Any}(:id => \"container\")), Dict{String, Tuple{Observables.AbstractObservable, Union{Nothing, Bool}}}(\"value\" => (Observable(\"\\\\;\\\\;\"), nothing)), Set{String}(), nothing, WebIO.Asset[WebIO.Asset(\"js\", nothing, \"/home/dushya/.julia/packages/InteractBase/LJXv3/src/../assets/katex.min.js\"), WebIO.Asset(\"css\", nothing, \"/home/dushya/.julia/packages/InteractBase/LJXv3/src/../assets/katex.min.css\")], Dict{Any, Any}(\"value\" => Any[WebIO.JSString(\"(function (txt){return this.k.render(txt,this.container)})\")]), WebIO.ConnectionPool(Channel{Any}(32), Set{WebIO.AbstractConnection}(), Base.GenericCondition{ReentrantLock}(Base.IntrusiveLinkedList{Task}(Task (runnable) @0x00007fa0209b7d00, Task (runnable) @0x00007fa0209b7d00), ReentrantLock(nothing, 0x00000000, 0x00, Base.GenericCondition{Base.Threads.SpinLock}(Base.IntrusiveLinkedList{Task}(nothing, nothing), Base.Threads.SpinLock(0)), (8, 140325171494912, 4294967297)))), WebIO.JSString[WebIO.JSString(\"function () {\\n    var handler = ((function (k){this.k=k; this.container=this.dom.querySelector(\\\"#container\\\"); return k.render(\\\"\\\\\\\\;\\\\\\\\;\\\",this.container)}));\\n    (WebIO.importBlock({\\\"data\\\":[{\\\"name\\\":null,\\\"type\\\":\\\"js\\\",\\\"url\\\":\\\"/assetserver/dd22ed1bf1896c2748f3fe616ce0b838adc895c1-katex.min.js\\\"},{\\\"name\\\":null,\\\"type\\\":\\\"css\\\",\\\"url\\\":\\\"/assetserver/46517a424aa5e6cffc1360d7e0848b601c584ee3-katex.min.css\\\"}],\\\"type\\\":\\\"async_block\\\"})).then((imports) => handler.apply(this, imports));\\n}\\n\")])], Dict{Symbol, Any}(:className => \"interact-widget\")), WebIO.Node{WebIO.DOM}(WebIO.DOM(:html, :div), Any[WebIO.Scope(WebIO.Node{WebIO.DOM}(WebIO.DOM(:html, :button), Any[\"stop\"], Dict{Symbol, Any}(:attributes => Dict{Any, Any}(\"data-bind\" => \"click: function (){this.clicks(this.clicks()+1)}, css: {'is-loading' : loading}\"), :className => \"is-medium button is-primary\", :style => Dict{String, Any}())), Dict{String, Tuple{Observables.AbstractObservable, Union{Nothing, Bool}}}(\"loading\" => (Observable(false), nothing), \"clicks\" => (Observable(0), nothing)), Set{String}(), nothing, WebIO.Asset[WebIO.Asset(\"js\", \"knockout\", \"/home/dushya/.julia/packages/Knockout/HReiN/src/../assets/knockout.js\"), WebIO.Asset(\"js\", \"knockout_punches\", \"/home/dushya/.julia/packages/Knockout/HReiN/src/../assets/knockout_punches.js\"), WebIO.Asset(\"js\", nothing, \"/home/dushya/.julia/packages/InteractBase/LJXv3/src/../assets/all.js\"), WebIO.Asset(\"css\", nothing, \"/home/dushya/.julia/packages/InteractBase/LJXv3/src/../assets/style.css\"), WebIO.Asset(\"css\", nothing, \"/home/dushya/.julia/packages/Interact/PENUy/src/../assets/bulma_confined.min.css\")], Dict{Any, Any}(\"loading\" => Any[WebIO.JSString(\"(function (val){return (val!=this.model[\\\"loading\\\"]()) ? (this.valueFromJulia[\\\"loading\\\"]=true, this.model[\\\"loading\\\"](val)) : undefined})\")], \"clicks\" => Any[WebIO.JSString(\"(function (val){return (val!=this.model[\\\"clicks\\\"]()) ? (this.valueFromJulia[\\\"clicks\\\"]=true, this.model[\\\"clicks\\\"](val)) : undefined})\")]), WebIO.ConnectionPool(Channel{Any}(32), Set{WebIO.AbstractConnection}(), Base.GenericCondition{ReentrantLock}(Base.IntrusiveLinkedList{Task}(Task (runnable) @0x00007fa0939a28b0, Task (runnable) @0x00007fa0939a28b0), ReentrantLock(nothing, 0x00000000, 0x00, Base.GenericCondition{Base.Threads.SpinLock}(Base.IntrusiveLinkedList{Task}(nothing, nothing), Base.Threads.SpinLock(0)), (8, 140326725374896, 0)))), WebIO.JSString[WebIO.JSString(\"function () {\\n    var handler = (function (ko, koPunches) {\\n    ko.punches.enableAll();\\n    ko.bindingHandlers.numericValue = {\\n        init: function(element, valueAccessor, allBindings, data, context) {\\n            var stringified = ko.observable(ko.unwrap(valueAccessor()));\\n            stringified.subscribe(function(value) {\\n                var val = parseFloat(value);\\n                if (!isNaN(val)) {\\n                    valueAccessor()(val);\\n                }\\n            });\\n            valueAccessor().subscribe(function(value) {\\n                var str = JSON.stringify(value);\\n                if ((str == \\\"0\\\") && ([\\\"-0\\\", \\\"-0.\\\"].indexOf(stringified()) >= 0))\\n                     return;\\n                 if ([\\\"null\\\", \\\"\\\"].indexOf(str) >= 0)\\n                     return;\\n                stringified(str);\\n            });\\n            ko.applyBindingsToNode(\\n                element,\\n                {\\n                    value: stringified,\\n                    valueUpdate: allBindings.get('valueUpdate'),\\n                },\\n                context,\\n            );\\n        }\\n    };\\n    var json_data = {\\\"loading\\\":WebIO.getval({\\\"name\\\":\\\"loading\\\",\\\"scope\\\":\\\"5268508197707541177\\\",\\\"id\\\":\\\"17643078473980188699\\\",\\\"type\\\":\\\"observable\\\"}),\\\"clicks\\\":WebIO.getval({\\\"name\\\":\\\"clicks\\\",\\\"scope\\\":\\\"5268508197707541177\\\",\\\"id\\\":\\\"15051057080484272974\\\",\\\"type\\\":\\\"observable\\\"})};\\n    var self = this;\\n    function AppViewModel() {\\n        for (var key in json_data) {\\n            var el = json_data[key];\\n            this[key] = Array.isArray(el) ? ko.observableArray(el) : ko.observable(el);\\n        }\\n        \\n        \\n        [this[\\\"loading\\\"].subscribe((function (val){!(this.valueFromJulia[\\\"loading\\\"]) ? (WebIO.setval({\\\"name\\\":\\\"loading\\\",\\\"scope\\\":\\\"5268508197707541177\\\",\\\"id\\\":\\\"17643078473980188699\\\",\\\"type\\\":\\\"observable\\\"},val)) : undefined; return this.valueFromJulia[\\\"loading\\\"]=false}),self),this[\\\"clicks\\\"].subscribe((function (val){!(this.valueFromJulia[\\\"clicks\\\"]) ? (WebIO.setval({\\\"name\\\":\\\"clicks\\\",\\\"scope\\\":\\\"5268508197707541177\\\",\\\"id\\\":\\\"15051057080484272974\\\",\\\"type\\\":\\\"observable\\\"},val)) : undefined; return this.valueFromJulia[\\\"clicks\\\"]=false}),self)]\\n        \\n    }\\n    self.model = new AppViewModel();\\n    self.valueFromJulia = {};\\n    for (var key in json_data) {\\n        self.valueFromJulia[key] = false;\\n    }\\n    ko.applyBindings(self.model, self.dom);\\n}\\n);\\n    (WebIO.importBlock({\\\"data\\\":[{\\\"name\\\":\\\"knockout\\\",\\\"type\\\":\\\"js\\\",\\\"url\\\":\\\"/assetserver/727383f2a47bd31570b7da84eee7b022dd6d7c78-knockout.js\\\"},{\\\"name\\\":\\\"knockout_punches\\\",\\\"type\\\":\\\"js\\\",\\\"url\\\":\\\"/assetserver/382b41b3b1bd9f26f75861d360bad7f8beea211f-knockout_punches.js\\\"}],\\\"type\\\":\\\"async_block\\\"})).then((imports) => handler.apply(this, imports));\\n}\\n\")])], Dict{Symbol, Any}(:className => \"field interact-widget\"))], Dict{Symbol, Any}(:style => Dict(\"display\" => \"flex\", \"flex-direction\" => \"row\")))], Dict{Symbol, Any}(:style => Dict(\"display\" => \"flex\", \"flex-direction\" => \"column\"))), Observable(MeshCat.DisplayedVisualizer(MeshCat.CoreVisualizer(MeshCat.SceneTrees.SceneNode(nothing, nothing, Dict{String, Vector{UInt8}}(), nothing, Dict{String, MeshCat.SceneTrees.SceneNode}(\"meshcat\" => MeshCat.SceneTrees.SceneNode(nothing, UInt8[0x83, 0xa6, 0x6d, 0x61, 0x74, 0x72, 0x69, 0x78, 0xc7, 0x40  …  0x68, 0xa8, 0x2f, 0x6d, 0x65, 0x73, 0x68, 0x63, 0x61, 0x74], Dict{String, Vector{UInt8}}(), nothing, Dict{String, MeshCat.SceneTrees.SceneNode}(\"agents\" => MeshCat.SceneTrees.SceneNode(nothing, nothing, Dict{String, Vector{UInt8}}(), nothing, Dict{String, MeshCat.SceneTrees.SceneNode}(\"131sphere\" => MeshCat.SceneTrees.SceneNode(nothing, UInt8[0x83, 0xa6, 0x6d, 0x61, 0x74, 0x72, 0x69, 0x78, 0xc7, 0x40  …  0x2f, 0x31, 0x33, 0x31, 0x73, 0x70, 0x68, 0x65, 0x72, 0x65], Dict{String, Vector{UInt8}}(\"scale\" => [0x84, 0xa8, 0x70, 0x72, 0x6f, 0x70, 0x65, 0x72, 0x74, 0x79  …  0x2f, 0x31, 0x33, 0x31, 0x73, 0x70, 0x68, 0x65, 0x72, 0x65]), nothing, Dict{String, MeshCat.SceneTrees.SceneNode}(\"(1.0N0f8, 0.0N0f8, 0.0N0f8, 1.0N0f8)\" => MeshCat.SceneTrees.SceneNode(UInt8[0x83, 0xa6, 0x6f, 0x62, 0x6a, 0x65, 0x63, 0x74, 0x84, 0xaa  …  0x2c, 0x20, 0x31, 0x2e, 0x30, 0x4e, 0x30, 0x66, 0x38, 0x29], nothing, Dict{String, Vector{UInt8}}(\"visible\" => [0x84, 0xa8, 0x70, 0x72, 0x6f, 0x70, 0x65, 0x72, 0x74, 0x79  …  0x2c, 0x20, 0x31, 0x2e, 0x30, 0x4e, 0x30, 0x66, 0x38, 0x29]), nothing, Dict{String, MeshCat.SceneTrees.SceneNode}()))), \"183sphere\" => MeshCat.SceneTrees.SceneNode(nothing, UInt8[0x83, 0xa6, 0x6d, 0x61, 0x74, 0x72, 0x69, 0x78, 0xc7, 0x40  …  0x2f, 0x31, 0x38, 0x33, 0x73, 0x70, 0x68, 0x65, 0x72, 0x65], Dict{String, Vector{UInt8}}(\"scale\" => [0x84, 0xa8, 0x70, 0x72, 0x6f, 0x70, 0x65, 0x72, 0x74, 0x79  …  0x2f, 0x31, 0x38, 0x33, 0x73, 0x70, 0x68, 0x65, 0x72, 0x65]), nothing, Dict{String, MeshCat.SceneTrees.SceneNode}(\"(0.0N0f8, 1.0N0f8, 0.0N0f8, 1.0N0f8)\" => MeshCat.SceneTrees.SceneNode(UInt8[0x83, 0xa6, 0x6f, 0x62, 0x6a, 0x65, 0x63, 0x74, 0x84, 0xaa  …  0x2c, 0x20, 0x31, 0x2e, 0x30, 0x4e, 0x30, 0x66, 0x38, 0x29], nothing, Dict{String, Vector{UInt8}}(\"visible\" => [0x84, 0xa8, 0x70, 0x72, 0x6f, 0x70, 0x65, 0x72, 0x74, 0x79  …  0x2c, 0x20, 0x31, 0x2e, 0x30, 0x4e, 0x30, 0x66, 0x38, 0x29]), nothing, Dict{String, MeshCat.SceneTrees.SceneNode}()))), \"186sphere\" => MeshCat.SceneTrees.SceneNode(nothing, UInt8[0x83, 0xa6, 0x6d, 0x61, 0x74, 0x72, 0x69, 0x78, 0xc7, 0x40  …  0x2f, 0x31, 0x38, 0x36, 0x73, 0x70, 0x68, 0x65, 0x72, 0x65], Dict{String, Vector{UInt8}}(\"scale\" => [0x84, 0xa8, 0x70, 0x72, 0x6f, 0x70, 0x65, 0x72, 0x74, 0x79  …  0x2f, 0x31, 0x38, 0x36, 0x73, 0x70, 0x68, 0x65, 0x72, 0x65]), nothing, Dict{String, MeshCat.SceneTrees.SceneNode}(\"(1.0N0f8, 0.0N0f8, 0.0N0f8, 1.0N0f8)\" => MeshCat.SceneTrees.SceneNode(UInt8[0x83, 0xa6, 0x6f, 0x62, 0x6a, 0x65, 0x63, 0x74, 0x84, 0xaa  …  0x2c, 0x20, 0x31, 0x2e, 0x30, 0x4e, 0x30, 0x66, 0x38, 0x29], nothing, Dict{String, Vector{UInt8}}(\"visible\" => [0x84, 0xa8, 0x70, 0x72, 0x6f, 0x70, 0x65, 0x72, 0x74, 0x79  …  0x2c, 0x20, 0x31, 0x2e, 0x30, 0x4e, 0x30, 0x66, 0x38, 0x29]), nothing, Dict{String, MeshCat.SceneTrees.SceneNode}()))), \"87sphere\" => MeshCat.SceneTrees.SceneNode(nothing, UInt8[0x83, 0xa6, 0x6d, 0x61, 0x74, 0x72, 0x69, 0x78, 0xc7, 0x40  …  0x73, 0x2f, 0x38, 0x37, 0x73, 0x70, 0x68, 0x65, 0x72, 0x65], Dict{String, Vector{UInt8}}(\"scale\" => [0x84, 0xa8, 0x70, 0x72, 0x6f, 0x70, 0x65, 0x72, 0x74, 0x79  …  0x73, 0x2f, 0x38, 0x37, 0x73, 0x70, 0x68, 0x65, 0x72, 0x65]), nothing, Dict{String, MeshCat.SceneTrees.SceneNode}(\"(1.0N0f8, 0.0N0f8, 0.0N0f8, 1.0N0f8)\" => MeshCat.SceneTrees.SceneNode(UInt8[0x83, 0xa6, 0x6f, 0x62, 0x6a, 0x65, 0x63, 0x74, 0x84, 0xaa  …  0x2c, 0x20, 0x31, 0x2e, 0x30, 0x4e, 0x30, 0x66, 0x38, 0x29], nothing, Dict{String, Vector{UInt8}}(\"visible\" => [0x84, 0xa8, 0x70, 0x72, 0x6f, 0x70, 0x65, 0x72, 0x74, 0x79  …  0x2c, 0x20, 0x31, 0x2e, 0x30, 0x4e, 0x30, 0x66, 0x38, 0x29]), nothing, Dict{String, MeshCat.SceneTrees.SceneNode}()))), \"130sphere\" => MeshCat.SceneTrees.SceneNode(nothing, UInt8[0x83, 0xa6, 0x6d, 0x61, 0x74, 0x72, 0x69, 0x78, 0xc7, 0x40  …  0x2f, 0x31, 0x33, 0x30, 0x73, 0x70, 0x68, 0x65, 0x72, 0x65], Dict{String, Vector{UInt8}}(\"scale\" => [0x84, 0xa8, 0x70, 0x72, 0x6f, 0x70, 0x65, 0x72, 0x74, 0x79  …  0x2f, 0x31, 0x33, 0x30, 0x73, 0x70, 0x68, 0x65, 0x72, 0x65]), nothing, Dict{String, MeshCat.SceneTrees.SceneNode}(\"(1.0N0f8, 0.0N0f8, 0.0N0f8, 1.0N0f8)\" => MeshCat.SceneTrees.SceneNode(UInt8[0x83, 0xa6, 0x6f, 0x62, 0x6a, 0x65, 0x63, 0x74, 0x84, 0xaa  …  0x2c, 0x20, 0x31, 0x2e, 0x30, 0x4e, 0x30, 0x66, 0x38, 0x29], nothing, Dict{String, Vector{UInt8}}(\"visible\" => [0x84, 0xa8, 0x70, 0x72, 0x6f, 0x70, 0x65, 0x72, 0x74, 0x79  …  0x2c, 0x20, 0x31, 0x2e, 0x30, 0x4e, 0x30, 0x66, 0x38, 0x29]), nothing, Dict{String, MeshCat.SceneTrees.SceneNode}()))), \"51sphere\" => MeshCat.SceneTrees.SceneNode(nothing, UInt8[0x83, 0xa6, 0x6d, 0x61, 0x74, 0x72, 0x69, 0x78, 0xc7, 0x40  …  0x73, 0x2f, 0x35, 0x31, 0x73, 0x70, 0x68, 0x65, 0x72, 0x65], Dict{String, Vector{UInt8}}(\"scale\" => [0x84, 0xa8, 0x70, 0x72, 0x6f, 0x70, 0x65, 0x72, 0x74, 0x79  …  0x73, 0x2f, 0x35, 0x31, 0x73, 0x70, 0x68, 0x65, 0x72, 0x65]), nothing, Dict{String, MeshCat.SceneTrees.SceneNode}(\"(0.0N0f8, 1.0N0f8, 0.0N0f8, 1.0N0f8)\" => MeshCat.SceneTrees.SceneNode(UInt8[0x83, 0xa6, 0x6f, 0x62, 0x6a, 0x65, 0x63, 0x74, 0x84, 0xaa  …  0x2c, 0x20, 0x31, 0x2e, 0x30, 0x4e, 0x30, 0x66, 0x38, 0x29], nothing, Dict{String, Vector{UInt8}}(\"visible\" => [0x84, 0xa8, 0x70, 0x72, 0x6f, 0x70, 0x65, 0x72, 0x74, 0x79  …  0x2c, 0x20, 0x31, 0x2e, 0x30, 0x4e, 0x30, 0x66, 0x38, 0x29]), nothing, Dict{String, MeshCat.SceneTrees.SceneNode}()))), \"9sphere\" => MeshCat.SceneTrees.SceneNode(nothing, UInt8[0x83, 0xa6, 0x6d, 0x61, 0x74, 0x72, 0x69, 0x78, 0xc7, 0x40  …  0x74, 0x73, 0x2f, 0x39, 0x73, 0x70, 0x68, 0x65, 0x72, 0x65], Dict{String, Vector{UInt8}}(\"scale\" => [0x84, 0xa8, 0x70, 0x72, 0x6f, 0x70, 0x65, 0x72, 0x74, 0x79  …  0x74, 0x73, 0x2f, 0x39, 0x73, 0x70, 0x68, 0x65, 0x72, 0x65]), nothing, Dict{String, MeshCat.SceneTrees.SceneNode}(\"(0.0N0f8, 1.0N0f8, 0.0N0f8, 1.0N0f8)\" => MeshCat.SceneTrees.SceneNode(UInt8[0x83, 0xa6, 0x6f, 0x62, 0x6a, 0x65, 0x63, 0x74, 0x84, 0xaa  …  0x2c, 0x20, 0x31, 0x2e, 0x30, 0x4e, 0x30, 0x66, 0x38, 0x29], nothing, Dict{String, Vector{UInt8}}(\"visible\" => [0x84, 0xa8, 0x70, 0x72, 0x6f, 0x70, 0x65, 0x72, 0x74, 0x79  …  0x2c, 0x20, 0x31, 0x2e, 0x30, 0x4e, 0x30, 0x66, 0x38, 0x29]), nothing, Dict{String, MeshCat.SceneTrees.SceneNode}()))), \"154sphere\" => MeshCat.SceneTrees.SceneNode(nothing, UInt8[0x83, 0xa6, 0x6d, 0x61, 0x74, 0x72, 0x69, 0x78, 0xc7, 0x40  …  0x2f, 0x31, 0x35, 0x34, 0x73, 0x70, 0x68, 0x65, 0x72, 0x65], Dict{String, Vector{UInt8}}(\"scale\" => [0x84, 0xa8, 0x70, 0x72, 0x6f, 0x70, 0x65, 0x72, 0x74, 0x79  …  0x2f, 0x31, 0x35, 0x34, 0x73, 0x70, 0x68, 0x65, 0x72, 0x65]), nothing, Dict{String, MeshCat.SceneTrees.SceneNode}(\"(0.0N0f8, 1.0N0f8, 0.0N0f8, 1.0N0f8)\" => MeshCat.SceneTrees.SceneNode(UInt8[0x83, 0xa6, 0x6f, 0x62, 0x6a, 0x65, 0x63, 0x74, 0x84, 0xaa  …  0x2c, 0x20, 0x31, 0x2e, 0x30, 0x4e, 0x30, 0x66, 0x38, 0x29], nothing, Dict{String, Vector{UInt8}}(\"visible\" => [0x84, 0xa8, 0x70, 0x72, 0x6f, 0x70, 0x65, 0x72, 0x74, 0x79  …  0x2c, 0x20, 0x31, 0x2e, 0x30, 0x4e, 0x30, 0x66, 0x38, 0x29]), nothing, Dict{String, MeshCat.SceneTrees.SceneNode}()))), \"102sphere\" => MeshCat.SceneTrees.SceneNode(nothing, UInt8[0x83, 0xa6, 0x6d, 0x61, 0x74, 0x72, 0x69, 0x78, 0xc7, 0x40  …  0x2f, 0x31, 0x30, 0x32, 0x73, 0x70, 0x68, 0x65, 0x72, 0x65], Dict{String, Vector{UInt8}}(\"scale\" => [0x84, 0xa8, 0x70, 0x72, 0x6f, 0x70, 0x65, 0x72, 0x74, 0x79  …  0x2f, 0x31, 0x30, 0x32, 0x73, 0x70, 0x68, 0x65, 0x72, 0x65]), nothing, Dict{String, MeshCat.SceneTrees.SceneNode}(\"(1.0N0f8, 0.0N0f8, 0.0N0f8, 1.0N0f8)\" => MeshCat.SceneTrees.SceneNode(UInt8[0x83, 0xa6, 0x6f, 0x62, 0x6a, 0x65, 0x63, 0x74, 0x84, 0xaa  …  0x2c, 0x20, 0x31, 0x2e, 0x30, 0x4e, 0x30, 0x66, 0x38, 0x29], nothing, Dict{String, Vector{UInt8}}(\"visible\" => [0x84, 0xa8, 0x70, 0x72, 0x6f, 0x70, 0x65, 0x72, 0x74, 0x79  …  0x2c, 0x20, 0x31, 0x2e, 0x30, 0x4e, 0x30, 0x66, 0x38, 0x29]), nothing, Dict{String, MeshCat.SceneTrees.SceneNode}()))), \"64sphere\" => MeshCat.SceneTrees.SceneNode(nothing, UInt8[0x83, 0xa6, 0x6d, 0x61, 0x74, 0x72, 0x69, 0x78, 0xc7, 0x40  …  0x73, 0x2f, 0x36, 0x34, 0x73, 0x70, 0x68, 0x65, 0x72, 0x65], Dict{String, Vector{UInt8}}(\"scale\" => [0x84, 0xa8, 0x70, 0x72, 0x6f, 0x70, 0x65, 0x72, 0x74, 0x79  …  0x73, 0x2f, 0x36, 0x34, 0x73, 0x70, 0x68, 0x65, 0x72, 0x65]), nothing, Dict{String, MeshCat.SceneTrees.SceneNode}(\"(0.0N0f8, 1.0N0f8, 0.0N0f8, 1.0N0f8)\" => MeshCat.SceneTrees.SceneNode(UInt8[0x83, 0xa6, 0x6f, 0x62, 0x6a, 0x65, 0x63, 0x74, 0x84, 0xaa  …  0x2c, 0x20, 0x31, 0x2e, 0x30, 0x4e, 0x30, 0x66, 0x38, 0x29], nothing, Dict{String, Vector{UInt8}}(\"visible\" => [0x84, 0xa8, 0x70, 0x72, 0x6f, 0x70, 0x65, 0x72, 0x74, 0x79  …  0x2c, 0x20, 0x31, 0x2e, 0x30, 0x4e, 0x30, 0x66, 0x38, 0x29]), nothing, Dict{String, MeshCat.SceneTrees.SceneNode}())))…)), \"bbox_line_segments\" => MeshCat.SceneTrees.SceneNode(nothing, nothing, Dict{String, Vector{UInt8}}(), nothing, Dict{String, MeshCat.SceneTrees.SceneNode}(\"4\" => MeshCat.SceneTrees.SceneNode(UInt8[0x83, 0xa6, 0x6f, 0x62, 0x6a, 0x65, 0x63, 0x74, 0x84, 0xaa  …  0x73, 0x65, 0x67, 0x6d, 0x65, 0x6e, 0x74, 0x73, 0x2f, 0x34], nothing, Dict{String, Vector{UInt8}}(), nothing, Dict{String, MeshCat.SceneTrees.SceneNode}()), \"1\" => MeshCat.SceneTrees.SceneNode(UInt8[0x83, 0xa6, 0x6f, 0x62, 0x6a, 0x65, 0x63, 0x74, 0x84, 0xaa  …  0x73, 0x65, 0x67, 0x6d, 0x65, 0x6e, 0x74, 0x73, 0x2f, 0x31], nothing, Dict{String, Vector{UInt8}}(), nothing, Dict{String, MeshCat.SceneTrees.SceneNode}()), \"12\" => MeshCat.SceneTrees.SceneNode(UInt8[0x83, 0xa6, 0x6f, 0x62, 0x6a, 0x65, 0x63, 0x74, 0x84, 0xaa  …  0x65, 0x67, 0x6d, 0x65, 0x6e, 0x74, 0x73, 0x2f, 0x31, 0x32], nothing, Dict{String, Vector{UInt8}}(), nothing, Dict{String, MeshCat.SceneTrees.SceneNode}()), \"2\" => MeshCat.SceneTrees.SceneNode(UInt8[0x83, 0xa6, 0x6f, 0x62, 0x6a, 0x65, 0x63, 0x74, 0x84, 0xaa  …  0x73, 0x65, 0x67, 0x6d, 0x65, 0x6e, 0x74, 0x73, 0x2f, 0x32], nothing, Dict{String, Vector{UInt8}}(), nothing, Dict{String, MeshCat.SceneTrees.SceneNode}()), \"6\" => MeshCat.SceneTrees.SceneNode(UInt8[0x83, 0xa6, 0x6f, 0x62, 0x6a, 0x65, 0x63, 0x74, 0x84, 0xaa  …  0x73, 0x65, 0x67, 0x6d, 0x65, 0x6e, 0x74, 0x73, 0x2f, 0x36], nothing, Dict{String, Vector{UInt8}}(), nothing, Dict{String, MeshCat.SceneTrees.SceneNode}()), \"11\" => MeshCat.SceneTrees.SceneNode(UInt8[0x83, 0xa6, 0x6f, 0x62, 0x6a, 0x65, 0x63, 0x74, 0x84, 0xaa  …  0x65, 0x67, 0x6d, 0x65, 0x6e, 0x74, 0x73, 0x2f, 0x31, 0x31], nothing, Dict{String, Vector{UInt8}}(), nothing, Dict{String, MeshCat.SceneTrees.SceneNode}()), \"5\" => MeshCat.SceneTrees.SceneNode(UInt8[0x83, 0xa6, 0x6f, 0x62, 0x6a, 0x65, 0x63, 0x74, 0x84, 0xaa  …  0x73, 0x65, 0x67, 0x6d, 0x65, 0x6e, 0x74, 0x73, 0x2f, 0x35], nothing, Dict{String, Vector{UInt8}}(), nothing, Dict{String, MeshCat.SceneTrees.SceneNode}()), \"7\" => MeshCat.SceneTrees.SceneNode(UInt8[0x83, 0xa6, 0x6f, 0x62, 0x6a, 0x65, 0x63, 0x74, 0x84, 0xaa  …  0x73, 0x65, 0x67, 0x6d, 0x65, 0x6e, 0x74, 0x73, 0x2f, 0x37], nothing, Dict{String, Vector{UInt8}}(), nothing, Dict{String, MeshCat.SceneTrees.SceneNode}()), \"8\" => MeshCat.SceneTrees.SceneNode(UInt8[0x83, 0xa6, 0x6f, 0x62, 0x6a, 0x65, 0x63, 0x74, 0x84, 0xaa  …  0x73, 0x65, 0x67, 0x6d, 0x65, 0x6e, 0x74, 0x73, 0x2f, 0x38], nothing, Dict{String, Vector{UInt8}}(), nothing, Dict{String, MeshCat.SceneTrees.SceneNode}()), \"10\" => MeshCat.SceneTrees.SceneNode(UInt8[0x83, 0xa6, 0x6f, 0x62, 0x6a, 0x65, 0x63, 0x74, 0x84, 0xaa  …  0x65, 0x67, 0x6d, 0x65, 0x6e, 0x74, 0x73, 0x2f, 0x31, 0x30], nothing, Dict{String, Vector{UInt8}}(), nothing, Dict{String, MeshCat.SceneTrees.SceneNode}())…)))), \"Axes\" => MeshCat.SceneTrees.SceneNode(nothing, nothing, Dict{String, Vector{UInt8}}(), nothing, Dict{String, MeshCat.SceneTrees.SceneNode}(\"<object>\" => MeshCat.SceneTrees.SceneNode(UInt8[0x83, 0xa6, 0x6f, 0x62, 0x6a, 0x65, 0x63, 0x74, 0x84, 0xaa  …  0x73, 0x2f, 0x3c, 0x6f, 0x62, 0x6a, 0x65, 0x63, 0x74, 0x3e], UInt8[0x83, 0xa6, 0x6d, 0x61, 0x74, 0x72, 0x69, 0x78, 0xc7, 0x40  …  0x73, 0x2f, 0x3c, 0x6f, 0x62, 0x6a, 0x65, 0x63, 0x74, 0x3e], Dict{String, Vector{UInt8}}(), nothing, Dict{String, MeshCat.SceneTrees.SceneNode}()))))), Set{HTTP.WebSockets.WebSocket}(), ip\"127.0.0.1\", 8701))), WebIO.Node{WebIO.DOM}(WebIO.DOM(:html, :div), Any[WebIO.Scope(WebIO.Node{WebIO.DOM}(WebIO.DOM(:html, :div), Any[], Dict{Symbol, Any}(:id => \"container\")), Dict{String, Tuple{Observables.AbstractObservable, Union{Nothing, Bool}}}(\"value\" => (Observable(\"\\\\;\\\\;\"), nothing)), Set{String}(), nothing, WebIO.Asset[WebIO.Asset(\"js\", nothing, \"/home/dushya/.julia/packages/InteractBase/LJXv3/src/../assets/katex.min.js\"), WebIO.Asset(\"css\", nothing, \"/home/dushya/.julia/packages/InteractBase/LJXv3/src/../assets/katex.min.css\")], Dict{Any, Any}(\"value\" => Any[WebIO.JSString(\"(function (txt){return this.k.render(txt,this.container)})\")]), WebIO.ConnectionPool(Channel{Any}(32), Set{WebIO.AbstractConnection}(), Base.GenericCondition{ReentrantLock}(Base.IntrusiveLinkedList{Task}(Task (runnable) @0x00007fa0209b7d00, Task (runnable) @0x00007fa0209b7d00), ReentrantLock(nothing, 0x00000000, 0x00, Base.GenericCondition{Base.Threads.SpinLock}(Base.IntrusiveLinkedList{Task}(nothing, nothing), Base.Threads.SpinLock(0)), (8, 140325171494912, 4294967297)))), WebIO.JSString[WebIO.JSString(\"function () {\\n    var handler = ((function (k){this.k=k; this.container=this.dom.querySelector(\\\"#container\\\"); return k.render(\\\"\\\\\\\\;\\\\\\\\;\\\",this.container)}));\\n    (WebIO.importBlock({\\\"data\\\":[{\\\"name\\\":null,\\\"type\\\":\\\"js\\\",\\\"url\\\":\\\"/assetserver/dd22ed1bf1896c2748f3fe616ce0b838adc895c1-katex.min.js\\\"},{\\\"name\\\":null,\\\"type\\\":\\\"css\\\",\\\"url\\\":\\\"/assetserver/46517a424aa5e6cffc1360d7e0848b601c584ee3-katex.min.css\\\"}],\\\"type\\\":\\\"async_block\\\"})).then((imports) => handler.apply(this, imports));\\n}\\n\")])], Dict{Symbol, Any}(:className => \"interact-widget\")), WebIO.Node{WebIO.DOM}(WebIO.DOM(:html, :div), Any[Observable(Plot{Plots.GRBackend() n=1})], Dict{Symbol, Any}(:style => Dict(\"display\" => \"flex\", \"flex-direction\" => \"column\")))], Dict{Symbol, Any}(:style => Dict(\"display\" => \"flex\", \"flex-direction\" => \"row\")))], Dict{Symbol, Any}(:style => Dict(\"display\" => \"flex\", \"flex-direction\" => \"column\")))"
      ]
     },
     "execution_count": 8,
     "metadata": {
      "application/vnd.webio.node+json": {
       "kernelId": "b9d11b2c-47d4-4fcc-a583-20a1e778a65d"
      }
     },
     "output_type": "execute_result"
    }
   ],
   "source": [
    "animate_sim(model, 20, agent_plots = Dict(\n",
    "        \"happy\"=> ag -> ag.mood == happy ? 1 : 0\n",
    "        ))"
   ]
  },
  {
   "cell_type": "markdown",
   "metadata": {},
   "source": [
    "After defining the `step_rule!` function we can also choose to create an interactive application (which currently works in Jupyter with WebIO installation) as "
   ]
  },
  {
   "cell_type": "code",
   "execution_count": 9,
   "metadata": {},
   "outputs": [
    {
     "name": "stderr",
     "output_type": "stream",
     "text": [
      "\u001b[36m\u001b[1m[ \u001b[22m\u001b[39m\u001b[36m\u001b[1mInfo: \u001b[22m\u001b[39mListening on: 127.0.0.1:8702, thread id: 1\n",
      "\u001b[36m\u001b[1m┌ \u001b[22m\u001b[39m\u001b[36m\u001b[1mInfo: \u001b[22m\u001b[39mMeshCat server started. You can open the visualizer by visiting the following URL in your browser:\n",
      "\u001b[36m\u001b[1m└ \u001b[22m\u001b[39mhttp://127.0.0.1:8702\n"
     ]
    },
    {
     "data": {
      "application/vnd.webio.node+json": {
       "children": [
        {
         "children": [
          {
           "children": [
            {
             "children": [
              {
               "children": [
                {
                 "children": [
                  {
                   "children": [
                    {
                     "children": [
                      "time"
                     ],
                     "instanceArgs": {
                      "namespace": "html",
                      "tag": "label"
                     },
                     "nodeType": "DOM",
                     "props": {
                      "className": "interact ",
                      "style": {
                       "padding": "5px 10px 0px 10px"
                      }
                     },
                     "type": "node"
                    }
                   ],
                   "instanceArgs": {
                    "namespace": "html",
                    "tag": "div"
                   },
                   "nodeType": "DOM",
                   "props": {
                    "className": "interact-flex-row-left"
                   },
                   "type": "node"
                  },
                  {
                   "children": [
                    {
                     "children": [],
                     "instanceArgs": {
                      "namespace": "html",
                      "tag": "input"
                     },
                     "nodeType": "DOM",
                     "props": {
                      "attributes": {
                       "data-bind": "numericValue: index, valueUpdate: 'input', event: {change: function (){this.changes(this.changes()+1)}}",
                       "orient": "horizontal",
                       "type": "range"
                      },
                      "className": "slider slider is-fullwidth",
                      "max": 200,
                      "min": 1,
                      "step": 1,
                      "style": {}
                     },
                     "type": "node"
                    }
                   ],
                   "instanceArgs": {
                    "namespace": "html",
                    "tag": "div"
                   },
                   "nodeType": "DOM",
                   "props": {
                    "className": "interact-flex-row-center"
                   },
                   "type": "node"
                  },
                  {
                   "children": [
                    {
                     "children": [],
                     "instanceArgs": {
                      "namespace": "html",
                      "tag": "p"
                     },
                     "nodeType": "DOM",
                     "props": {
                      "attributes": {
                       "data-bind": "text: formatted_val"
                      }
                     },
                     "type": "node"
                    }
                   ],
                   "instanceArgs": {
                    "namespace": "html",
                    "tag": "div"
                   },
                   "nodeType": "DOM",
                   "props": {
                    "className": "interact-flex-row-right"
                   },
                   "type": "node"
                  }
                 ],
                 "instanceArgs": {
                  "namespace": "html",
                  "tag": "div"
                 },
                 "nodeType": "DOM",
                 "props": {
                  "className": "interact-flex-row interact-widget"
                 },
                 "type": "node"
                }
               ],
               "instanceArgs": {
                "handlers": {
                 "changes": [
                  "(function (val){return (val!=this.model[\"changes\"]()) ? (this.valueFromJulia[\"changes\"]=true, this.model[\"changes\"](val)) : undefined})"
                 ],
                 "index": [
                  "(function (val){return (val!=this.model[\"index\"]()) ? (this.valueFromJulia[\"index\"]=true, this.model[\"index\"](val)) : undefined})"
                 ]
                },
                "id": "14173607717456648057",
                "imports": {
                 "data": [
                  {
                   "name": "knockout",
                   "type": "js",
                   "url": "/assetserver/727383f2a47bd31570b7da84eee7b022dd6d7c78-knockout.js"
                  },
                  {
                   "name": "knockout_punches",
                   "type": "js",
                   "url": "/assetserver/382b41b3b1bd9f26f75861d360bad7f8beea211f-knockout_punches.js"
                  },
                  {
                   "name": null,
                   "type": "js",
                   "url": "/assetserver/5ab20f1060420992a9b82a65b735dee4d81ef413-all.js"
                  },
                  {
                   "name": null,
                   "type": "css",
                   "url": "/assetserver/1cc0ed62837210b80a182cc3676512f895dab686-style.css"
                  },
                  {
                   "name": null,
                   "type": "css",
                   "url": "/assetserver/2eee816f616df3549d7044d45e744fbf8d42bfa1-bulma_confined.min.css"
                  }
                 ],
                 "type": "async_block"
                },
                "mount_callbacks": [
                 "function () {\n    var handler = (function (ko, koPunches) {\n    ko.punches.enableAll();\n    ko.bindingHandlers.numericValue = {\n        init: function(element, valueAccessor, allBindings, data, context) {\n            var stringified = ko.observable(ko.unwrap(valueAccessor()));\n            stringified.subscribe(function(value) {\n                var val = parseFloat(value);\n                if (!isNaN(val)) {\n                    valueAccessor()(val);\n                }\n            });\n            valueAccessor().subscribe(function(value) {\n                var str = JSON.stringify(value);\n                if ((str == \"0\") && ([\"-0\", \"-0.\"].indexOf(stringified()) >= 0))\n                     return;\n                 if ([\"null\", \"\"].indexOf(str) >= 0)\n                     return;\n                stringified(str);\n            });\n            ko.applyBindingsToNode(\n                element,\n                {\n                    value: stringified,\n                    valueUpdate: allBindings.get('valueUpdate'),\n                },\n                context,\n            );\n        }\n    };\n    var json_data = {\"formatted_vals\":[\"1\",\"2\",\"3\",\"4\",\"5\",\"6\",\"7\",\"8\",\"9\",\"10\",\"11\",\"12\",\"13\",\"14\",\"15\",\"16\",\"17\",\"18\",\"19\",\"20\",\"21\",\"22\",\"23\",\"24\",\"25\",\"26\",\"27\",\"28\",\"29\",\"30\",\"31\",\"32\",\"33\",\"34\",\"35\",\"36\",\"37\",\"38\",\"39\",\"40\",\"41\",\"42\",\"43\",\"44\",\"45\",\"46\",\"47\",\"48\",\"49\",\"50\",\"51\",\"52\",\"53\",\"54\",\"55\",\"56\",\"57\",\"58\",\"59\",\"60\",\"61\",\"62\",\"63\",\"64\",\"65\",\"66\",\"67\",\"68\",\"69\",\"70\",\"71\",\"72\",\"73\",\"74\",\"75\",\"76\",\"77\",\"78\",\"79\",\"80\",\"81\",\"82\",\"83\",\"84\",\"85\",\"86\",\"87\",\"88\",\"89\",\"90\",\"91\",\"92\",\"93\",\"94\",\"95\",\"96\",\"97\",\"98\",\"99\",\"100\",\"101\",\"102\",\"103\",\"104\",\"105\",\"106\",\"107\",\"108\",\"109\",\"110\",\"111\",\"112\",\"113\",\"114\",\"115\",\"116\",\"117\",\"118\",\"119\",\"120\",\"121\",\"122\",\"123\",\"124\",\"125\",\"126\",\"127\",\"128\",\"129\",\"130\",\"131\",\"132\",\"133\",\"134\",\"135\",\"136\",\"137\",\"138\",\"139\",\"140\",\"141\",\"142\",\"143\",\"144\",\"145\",\"146\",\"147\",\"148\",\"149\",\"150\",\"151\",\"152\",\"153\",\"154\",\"155\",\"156\",\"157\",\"158\",\"159\",\"160\",\"161\",\"162\",\"163\",\"164\",\"165\",\"166\",\"167\",\"168\",\"169\",\"170\",\"171\",\"172\",\"173\",\"174\",\"175\",\"176\",\"177\",\"178\",\"179\",\"180\",\"181\",\"182\",\"183\",\"184\",\"185\",\"186\",\"187\",\"188\",\"189\",\"190\",\"191\",\"192\",\"193\",\"194\",\"195\",\"196\",\"197\",\"198\",\"199\",\"200\"],\"changes\":WebIO.getval({\"name\":\"changes\",\"scope\":\"14173607717456648057\",\"id\":\"7826452503590142536\",\"type\":\"observable\"}),\"index\":WebIO.getval({\"name\":\"index\",\"scope\":\"14173607717456648057\",\"id\":\"14544271673276370933\",\"type\":\"observable\"})};\n    var self = this;\n    function AppViewModel() {\n        for (var key in json_data) {\n            var el = json_data[key];\n            this[key] = Array.isArray(el) ? ko.observableArray(el) : ko.observable(el);\n        }\n        \n        [this[\"formatted_val\"]=ko.computed(    function(){\n        return this.formatted_vals()[parseInt(this.index())-(1)];\n    }\n,this)]\n        [this[\"changes\"].subscribe((function (val){!(this.valueFromJulia[\"changes\"]) ? (WebIO.setval({\"name\":\"changes\",\"scope\":\"14173607717456648057\",\"id\":\"7826452503590142536\",\"type\":\"observable\"},val)) : undefined; return this.valueFromJulia[\"changes\"]=false}),self),this[\"index\"].subscribe((function (val){!(this.valueFromJulia[\"index\"]) ? (WebIO.setval({\"name\":\"index\",\"scope\":\"14173607717456648057\",\"id\":\"14544271673276370933\",\"type\":\"observable\"},val)) : undefined; return this.valueFromJulia[\"index\"]=false}),self)]\n        \n    }\n    self.model = new AppViewModel();\n    self.valueFromJulia = {};\n    for (var key in json_data) {\n        self.valueFromJulia[key] = false;\n    }\n    ko.applyBindings(self.model, self.dom);\n}\n);\n    (WebIO.importBlock({\"data\":[{\"name\":\"knockout\",\"type\":\"js\",\"url\":\"/assetserver/727383f2a47bd31570b7da84eee7b022dd6d7c78-knockout.js\"},{\"name\":\"knockout_punches\",\"type\":\"js\",\"url\":\"/assetserver/382b41b3b1bd9f26f75861d360bad7f8beea211f-knockout_punches.js\"}],\"type\":\"async_block\"})).then((imports) => handler.apply(this, imports));\n}\n"
                ],
                "observables": {
                 "changes": {
                  "id": "7826452503590142536",
                  "sync": false,
                  "value": 0
                 },
                 "index": {
                  "id": "14544271673276370933",
                  "sync": true,
                  "value": 1
                 }
                },
                "systemjs_options": null
               },
               "nodeType": "Scope",
               "props": {},
               "type": "node"
              }
             ],
             "instanceArgs": {
              "namespace": "html",
              "tag": "div"
             },
             "nodeType": "DOM",
             "props": {
              "className": "field interact-widget"
             },
             "type": "node"
            },
            {
             "children": [
              {
               "children": [
                {
                 "children": [
                  {
                   "children": [
                    {
                     "children": [
                      "scale"
                     ],
                     "instanceArgs": {
                      "namespace": "html",
                      "tag": "label"
                     },
                     "nodeType": "DOM",
                     "props": {
                      "className": "interact ",
                      "style": {
                       "padding": "5px 10px 0px 10px"
                      }
                     },
                     "type": "node"
                    }
                   ],
                   "instanceArgs": {
                    "namespace": "html",
                    "tag": "div"
                   },
                   "nodeType": "DOM",
                   "props": {
                    "className": "interact-flex-row-left"
                   },
                   "type": "node"
                  },
                  {
                   "children": [
                    {
                     "children": [],
                     "instanceArgs": {
                      "namespace": "html",
                      "tag": "input"
                     },
                     "nodeType": "DOM",
                     "props": {
                      "attributes": {
                       "data-bind": "numericValue: index, valueUpdate: 'input', event: {change: function (){this.changes(this.changes()+1)}}",
                       "orient": "horizontal",
                       "type": "range"
                      },
                      "className": "slider slider is-fullwidth",
                      "max": 20,
                      "min": 1,
                      "step": 1,
                      "style": {}
                     },
                     "type": "node"
                    }
                   ],
                   "instanceArgs": {
                    "namespace": "html",
                    "tag": "div"
                   },
                   "nodeType": "DOM",
                   "props": {
                    "className": "interact-flex-row-center"
                   },
                   "type": "node"
                  },
                  {
                   "children": [
                    {
                     "children": [],
                     "instanceArgs": {
                      "namespace": "html",
                      "tag": "p"
                     },
                     "nodeType": "DOM",
                     "props": {
                      "attributes": {
                       "data-bind": "text: formatted_val"
                      }
                     },
                     "type": "node"
                    }
                   ],
                   "instanceArgs": {
                    "namespace": "html",
                    "tag": "div"
                   },
                   "nodeType": "DOM",
                   "props": {
                    "className": "interact-flex-row-right"
                   },
                   "type": "node"
                  }
                 ],
                 "instanceArgs": {
                  "namespace": "html",
                  "tag": "div"
                 },
                 "nodeType": "DOM",
                 "props": {
                  "className": "interact-flex-row interact-widget"
                 },
                 "type": "node"
                }
               ],
               "instanceArgs": {
                "handlers": {
                 "changes": [
                  "(function (val){return (val!=this.model[\"changes\"]()) ? (this.valueFromJulia[\"changes\"]=true, this.model[\"changes\"](val)) : undefined})"
                 ],
                 "index": [
                  "(function (val){return (val!=this.model[\"index\"]()) ? (this.valueFromJulia[\"index\"]=true, this.model[\"index\"](val)) : undefined})"
                 ]
                },
                "id": "4718157550003677382",
                "imports": {
                 "data": [
                  {
                   "name": "knockout",
                   "type": "js",
                   "url": "/assetserver/727383f2a47bd31570b7da84eee7b022dd6d7c78-knockout.js"
                  },
                  {
                   "name": "knockout_punches",
                   "type": "js",
                   "url": "/assetserver/382b41b3b1bd9f26f75861d360bad7f8beea211f-knockout_punches.js"
                  },
                  {
                   "name": null,
                   "type": "js",
                   "url": "/assetserver/5ab20f1060420992a9b82a65b735dee4d81ef413-all.js"
                  },
                  {
                   "name": null,
                   "type": "css",
                   "url": "/assetserver/1cc0ed62837210b80a182cc3676512f895dab686-style.css"
                  },
                  {
                   "name": null,
                   "type": "css",
                   "url": "/assetserver/2eee816f616df3549d7044d45e744fbf8d42bfa1-bulma_confined.min.css"
                  }
                 ],
                 "type": "async_block"
                },
                "mount_callbacks": [
                 "function () {\n    var handler = (function (ko, koPunches) {\n    ko.punches.enableAll();\n    ko.bindingHandlers.numericValue = {\n        init: function(element, valueAccessor, allBindings, data, context) {\n            var stringified = ko.observable(ko.unwrap(valueAccessor()));\n            stringified.subscribe(function(value) {\n                var val = parseFloat(value);\n                if (!isNaN(val)) {\n                    valueAccessor()(val);\n                }\n            });\n            valueAccessor().subscribe(function(value) {\n                var str = JSON.stringify(value);\n                if ((str == \"0\") && ([\"-0\", \"-0.\"].indexOf(stringified()) >= 0))\n                     return;\n                 if ([\"null\", \"\"].indexOf(str) >= 0)\n                     return;\n                stringified(str);\n            });\n            ko.applyBindingsToNode(\n                element,\n                {\n                    value: stringified,\n                    valueUpdate: allBindings.get('valueUpdate'),\n                },\n                context,\n            );\n        }\n    };\n    var json_data = {\"formatted_vals\":[\"0.1\",\"0.2\",\"0.3\",\"0.4\",\"0.5\",\"0.6\",\"0.7\",\"0.8\",\"0.9\",\"1.0\",\"1.1\",\"1.2\",\"1.3\",\"1.4\",\"1.5\",\"1.6\",\"1.7\",\"1.8\",\"1.9\",\"2.0\"],\"changes\":WebIO.getval({\"name\":\"changes\",\"scope\":\"4718157550003677382\",\"id\":\"8874227181292236425\",\"type\":\"observable\"}),\"index\":WebIO.getval({\"name\":\"index\",\"scope\":\"4718157550003677382\",\"id\":\"8023542842736359069\",\"type\":\"observable\"})};\n    var self = this;\n    function AppViewModel() {\n        for (var key in json_data) {\n            var el = json_data[key];\n            this[key] = Array.isArray(el) ? ko.observableArray(el) : ko.observable(el);\n        }\n        \n        [this[\"formatted_val\"]=ko.computed(    function(){\n        return this.formatted_vals()[parseInt(this.index())-(1)];\n    }\n,this)]\n        [this[\"changes\"].subscribe((function (val){!(this.valueFromJulia[\"changes\"]) ? (WebIO.setval({\"name\":\"changes\",\"scope\":\"4718157550003677382\",\"id\":\"8874227181292236425\",\"type\":\"observable\"},val)) : undefined; return this.valueFromJulia[\"changes\"]=false}),self),this[\"index\"].subscribe((function (val){!(this.valueFromJulia[\"index\"]) ? (WebIO.setval({\"name\":\"index\",\"scope\":\"4718157550003677382\",\"id\":\"8023542842736359069\",\"type\":\"observable\"},val)) : undefined; return this.valueFromJulia[\"index\"]=false}),self)]\n        \n    }\n    self.model = new AppViewModel();\n    self.valueFromJulia = {};\n    for (var key in json_data) {\n        self.valueFromJulia[key] = false;\n    }\n    ko.applyBindings(self.model, self.dom);\n}\n);\n    (WebIO.importBlock({\"data\":[{\"name\":\"knockout\",\"type\":\"js\",\"url\":\"/assetserver/727383f2a47bd31570b7da84eee7b022dd6d7c78-knockout.js\"},{\"name\":\"knockout_punches\",\"type\":\"js\",\"url\":\"/assetserver/382b41b3b1bd9f26f75861d360bad7f8beea211f-knockout_punches.js\"}],\"type\":\"async_block\"})).then((imports) => handler.apply(this, imports));\n}\n"
                ],
                "observables": {
                 "changes": {
                  "id": "8874227181292236425",
                  "sync": false,
                  "value": 0
                 },
                 "index": {
                  "id": "8023542842736359069",
                  "sync": true,
                  "value": 10
                 }
                },
                "systemjs_options": null
               },
               "nodeType": "Scope",
               "props": {},
               "type": "node"
              }
             ],
             "instanceArgs": {
              "namespace": "html",
              "tag": "div"
             },
             "nodeType": "DOM",
             "props": {
              "className": "field interact-widget"
             },
             "type": "node"
            },
            {
             "children": [],
             "instanceArgs": {
              "namespace": "html",
              "tag": "div"
             },
             "nodeType": "DOM",
             "props": {
              "style": {
               "display": "flex",
               "flex-direction": "column"
              }
             },
             "type": "node"
            },
            {
             "children": [
              {
               "children": [
                {
                 "children": [
                  {
                   "children": [
                    {
                     "children": [
                      {
                       "children": [
                        "min_alike"
                       ],
                       "instanceArgs": {
                        "namespace": "html",
                        "tag": "label"
                       },
                       "nodeType": "DOM",
                       "props": {
                        "className": "interact ",
                        "style": {
                         "padding": "5px 10px 0px 10px"
                        }
                       },
                       "type": "node"
                      }
                     ],
                     "instanceArgs": {
                      "namespace": "html",
                      "tag": "div"
                     },
                     "nodeType": "DOM",
                     "props": {
                      "className": "interact-flex-row-left"
                     },
                     "type": "node"
                    },
                    {
                     "children": [
                      {
                       "children": [],
                       "instanceArgs": {
                        "namespace": "html",
                        "tag": "input"
                       },
                       "nodeType": "DOM",
                       "props": {
                        "attributes": {
                         "data-bind": "numericValue: index, valueUpdate: 'input', event: {change: function (){this.changes(this.changes()+1)}}",
                         "orient": "horizontal",
                         "type": "range"
                        },
                        "className": "slider slider is-fullwidth",
                        "max": 12,
                        "min": 1,
                        "step": 1,
                        "style": {}
                       },
                       "type": "node"
                      }
                     ],
                     "instanceArgs": {
                      "namespace": "html",
                      "tag": "div"
                     },
                     "nodeType": "DOM",
                     "props": {
                      "className": "interact-flex-row-center"
                     },
                     "type": "node"
                    },
                    {
                     "children": [
                      {
                       "children": [],
                       "instanceArgs": {
                        "namespace": "html",
                        "tag": "p"
                       },
                       "nodeType": "DOM",
                       "props": {
                        "attributes": {
                         "data-bind": "text: formatted_val"
                        }
                       },
                       "type": "node"
                      }
                     ],
                     "instanceArgs": {
                      "namespace": "html",
                      "tag": "div"
                     },
                     "nodeType": "DOM",
                     "props": {
                      "className": "interact-flex-row-right"
                     },
                     "type": "node"
                    }
                   ],
                   "instanceArgs": {
                    "namespace": "html",
                    "tag": "div"
                   },
                   "nodeType": "DOM",
                   "props": {
                    "className": "interact-flex-row interact-widget"
                   },
                   "type": "node"
                  }
                 ],
                 "instanceArgs": {
                  "handlers": {
                   "changes": [
                    "(function (val){return (val!=this.model[\"changes\"]()) ? (this.valueFromJulia[\"changes\"]=true, this.model[\"changes\"](val)) : undefined})"
                   ],
                   "index": [
                    "(function (val){return (val!=this.model[\"index\"]()) ? (this.valueFromJulia[\"index\"]=true, this.model[\"index\"](val)) : undefined})"
                   ]
                  },
                  "id": "3680287751938071528",
                  "imports": {
                   "data": [
                    {
                     "name": "knockout",
                     "type": "js",
                     "url": "/assetserver/727383f2a47bd31570b7da84eee7b022dd6d7c78-knockout.js"
                    },
                    {
                     "name": "knockout_punches",
                     "type": "js",
                     "url": "/assetserver/382b41b3b1bd9f26f75861d360bad7f8beea211f-knockout_punches.js"
                    },
                    {
                     "name": null,
                     "type": "js",
                     "url": "/assetserver/5ab20f1060420992a9b82a65b735dee4d81ef413-all.js"
                    },
                    {
                     "name": null,
                     "type": "css",
                     "url": "/assetserver/1cc0ed62837210b80a182cc3676512f895dab686-style.css"
                    },
                    {
                     "name": null,
                     "type": "css",
                     "url": "/assetserver/2eee816f616df3549d7044d45e744fbf8d42bfa1-bulma_confined.min.css"
                    }
                   ],
                   "type": "async_block"
                  },
                  "mount_callbacks": [
                   "function () {\n    var handler = (function (ko, koPunches) {\n    ko.punches.enableAll();\n    ko.bindingHandlers.numericValue = {\n        init: function(element, valueAccessor, allBindings, data, context) {\n            var stringified = ko.observable(ko.unwrap(valueAccessor()));\n            stringified.subscribe(function(value) {\n                var val = parseFloat(value);\n                if (!isNaN(val)) {\n                    valueAccessor()(val);\n                }\n            });\n            valueAccessor().subscribe(function(value) {\n                var str = JSON.stringify(value);\n                if ((str == \"0\") && ([\"-0\", \"-0.\"].indexOf(stringified()) >= 0))\n                     return;\n                 if ([\"null\", \"\"].indexOf(str) >= 0)\n                     return;\n                stringified(str);\n            });\n            ko.applyBindingsToNode(\n                element,\n                {\n                    value: stringified,\n                    valueUpdate: allBindings.get('valueUpdate'),\n                },\n                context,\n            );\n        }\n    };\n    var json_data = {\"formatted_vals\":[\"1\",\"2\",\"3\",\"4\",\"5\",\"6\",\"7\",\"8\",\"9\",\"10\",\"11\",\"12\"],\"changes\":WebIO.getval({\"name\":\"changes\",\"scope\":\"3680287751938071528\",\"id\":\"17042563421486830232\",\"type\":\"observable\"}),\"index\":WebIO.getval({\"name\":\"index\",\"scope\":\"3680287751938071528\",\"id\":\"21456362070040579\",\"type\":\"observable\"})};\n    var self = this;\n    function AppViewModel() {\n        for (var key in json_data) {\n            var el = json_data[key];\n            this[key] = Array.isArray(el) ? ko.observableArray(el) : ko.observable(el);\n        }\n        \n        [this[\"formatted_val\"]=ko.computed(    function(){\n        return this.formatted_vals()[parseInt(this.index())-(1)];\n    }\n,this)]\n        [this[\"changes\"].subscribe((function (val){!(this.valueFromJulia[\"changes\"]) ? (WebIO.setval({\"name\":\"changes\",\"scope\":\"3680287751938071528\",\"id\":\"17042563421486830232\",\"type\":\"observable\"},val)) : undefined; return this.valueFromJulia[\"changes\"]=false}),self),this[\"index\"].subscribe((function (val){!(this.valueFromJulia[\"index\"]) ? (WebIO.setval({\"name\":\"index\",\"scope\":\"3680287751938071528\",\"id\":\"21456362070040579\",\"type\":\"observable\"},val)) : undefined; return this.valueFromJulia[\"index\"]=false}),self)]\n        \n    }\n    self.model = new AppViewModel();\n    self.valueFromJulia = {};\n    for (var key in json_data) {\n        self.valueFromJulia[key] = false;\n    }\n    ko.applyBindings(self.model, self.dom);\n}\n);\n    (WebIO.importBlock({\"data\":[{\"name\":\"knockout\",\"type\":\"js\",\"url\":\"/assetserver/727383f2a47bd31570b7da84eee7b022dd6d7c78-knockout.js\"},{\"name\":\"knockout_punches\",\"type\":\"js\",\"url\":\"/assetserver/382b41b3b1bd9f26f75861d360bad7f8beea211f-knockout_punches.js\"}],\"type\":\"async_block\"})).then((imports) => handler.apply(this, imports));\n}\n"
                  ],
                  "observables": {
                   "changes": {
                    "id": "17042563421486830232",
                    "sync": false,
                    "value": 0
                   },
                   "index": {
                    "id": "21456362070040579",
                    "sync": true,
                    "value": 6
                   }
                  },
                  "systemjs_options": null
                 },
                 "nodeType": "Scope",
                 "props": {},
                 "type": "node"
                }
               ],
               "instanceArgs": {
                "namespace": "html",
                "tag": "div"
               },
               "nodeType": "DOM",
               "props": {
                "className": "field interact-widget"
               },
               "type": "node"
              }
             ],
             "instanceArgs": {
              "namespace": "html",
              "tag": "div"
             },
             "nodeType": "DOM",
             "props": {
              "style": {
               "display": "flex",
               "flex-direction": "column"
              }
             },
             "type": "node"
            },
            {
             "children": [
              {
               "children": [
                {
                 "children": [
                  {
                   "children": [],
                   "instanceArgs": {
                    "namespace": "html",
                    "tag": "div"
                   },
                   "nodeType": "DOM",
                   "props": {
                    "id": "container"
                   },
                   "type": "node"
                  }
                 ],
                 "instanceArgs": {
                  "handlers": {
                   "value": [
                    "(function (txt){return this.k.render(txt,this.container)})"
                   ]
                  },
                  "id": "5614458214392895939",
                  "imports": {
                   "data": [
                    {
                     "name": null,
                     "type": "js",
                     "url": "/assetserver/dd22ed1bf1896c2748f3fe616ce0b838adc895c1-katex.min.js"
                    },
                    {
                     "name": null,
                     "type": "css",
                     "url": "/assetserver/46517a424aa5e6cffc1360d7e0848b601c584ee3-katex.min.css"
                    }
                   ],
                   "type": "async_block"
                  },
                  "mount_callbacks": [
                   "function () {\n    var handler = ((function (k){this.k=k; this.container=this.dom.querySelector(\"#container\"); return k.render(\"\\\\;\\\\;\",this.container)}));\n    (WebIO.importBlock({\"data\":[{\"name\":null,\"type\":\"js\",\"url\":\"/assetserver/dd22ed1bf1896c2748f3fe616ce0b838adc895c1-katex.min.js\"},{\"name\":null,\"type\":\"css\",\"url\":\"/assetserver/46517a424aa5e6cffc1360d7e0848b601c584ee3-katex.min.css\"}],\"type\":\"async_block\"})).then((imports) => handler.apply(this, imports));\n}\n"
                  ],
                  "observables": {
                   "value": {
                    "id": "18028390574674088897",
                    "sync": false,
                    "value": "\\;\\;"
                   }
                  },
                  "systemjs_options": null
                 },
                 "nodeType": "Scope",
                 "props": {},
                 "type": "node"
                }
               ],
               "instanceArgs": {
                "namespace": "html",
                "tag": "div"
               },
               "nodeType": "DOM",
               "props": {
                "className": "interact-widget"
               },
               "type": "node"
              },
              {
               "children": [
                {
                 "children": [
                  {
                   "children": [
                    "run"
                   ],
                   "instanceArgs": {
                    "namespace": "html",
                    "tag": "button"
                   },
                   "nodeType": "DOM",
                   "props": {
                    "attributes": {
                     "data-bind": "click: function (){this.clicks(this.clicks()+1)}, css: {'is-loading' : loading}"
                    },
                    "className": "is-medium button is-primary",
                    "style": {}
                   },
                   "type": "node"
                  }
                 ],
                 "instanceArgs": {
                  "handlers": {
                   "clicks": [
                    "(function (val){return (val!=this.model[\"clicks\"]()) ? (this.valueFromJulia[\"clicks\"]=true, this.model[\"clicks\"](val)) : undefined})"
                   ],
                   "loading": [
                    "(function (val){return (val!=this.model[\"loading\"]()) ? (this.valueFromJulia[\"loading\"]=true, this.model[\"loading\"](val)) : undefined})"
                   ]
                  },
                  "id": "8836406745621419287",
                  "imports": {
                   "data": [
                    {
                     "name": "knockout",
                     "type": "js",
                     "url": "/assetserver/727383f2a47bd31570b7da84eee7b022dd6d7c78-knockout.js"
                    },
                    {
                     "name": "knockout_punches",
                     "type": "js",
                     "url": "/assetserver/382b41b3b1bd9f26f75861d360bad7f8beea211f-knockout_punches.js"
                    },
                    {
                     "name": null,
                     "type": "js",
                     "url": "/assetserver/5ab20f1060420992a9b82a65b735dee4d81ef413-all.js"
                    },
                    {
                     "name": null,
                     "type": "css",
                     "url": "/assetserver/1cc0ed62837210b80a182cc3676512f895dab686-style.css"
                    },
                    {
                     "name": null,
                     "type": "css",
                     "url": "/assetserver/2eee816f616df3549d7044d45e744fbf8d42bfa1-bulma_confined.min.css"
                    }
                   ],
                   "type": "async_block"
                  },
                  "mount_callbacks": [
                   "function () {\n    var handler = (function (ko, koPunches) {\n    ko.punches.enableAll();\n    ko.bindingHandlers.numericValue = {\n        init: function(element, valueAccessor, allBindings, data, context) {\n            var stringified = ko.observable(ko.unwrap(valueAccessor()));\n            stringified.subscribe(function(value) {\n                var val = parseFloat(value);\n                if (!isNaN(val)) {\n                    valueAccessor()(val);\n                }\n            });\n            valueAccessor().subscribe(function(value) {\n                var str = JSON.stringify(value);\n                if ((str == \"0\") && ([\"-0\", \"-0.\"].indexOf(stringified()) >= 0))\n                     return;\n                 if ([\"null\", \"\"].indexOf(str) >= 0)\n                     return;\n                stringified(str);\n            });\n            ko.applyBindingsToNode(\n                element,\n                {\n                    value: stringified,\n                    valueUpdate: allBindings.get('valueUpdate'),\n                },\n                context,\n            );\n        }\n    };\n    var json_data = {\"loading\":WebIO.getval({\"name\":\"loading\",\"scope\":\"8836406745621419287\",\"id\":\"4264510498200883164\",\"type\":\"observable\"}),\"clicks\":WebIO.getval({\"name\":\"clicks\",\"scope\":\"8836406745621419287\",\"id\":\"5836798478906413298\",\"type\":\"observable\"})};\n    var self = this;\n    function AppViewModel() {\n        for (var key in json_data) {\n            var el = json_data[key];\n            this[key] = Array.isArray(el) ? ko.observableArray(el) : ko.observable(el);\n        }\n        \n        \n        [this[\"loading\"].subscribe((function (val){!(this.valueFromJulia[\"loading\"]) ? (WebIO.setval({\"name\":\"loading\",\"scope\":\"8836406745621419287\",\"id\":\"4264510498200883164\",\"type\":\"observable\"},val)) : undefined; return this.valueFromJulia[\"loading\"]=false}),self),this[\"clicks\"].subscribe((function (val){!(this.valueFromJulia[\"clicks\"]) ? (WebIO.setval({\"name\":\"clicks\",\"scope\":\"8836406745621419287\",\"id\":\"5836798478906413298\",\"type\":\"observable\"},val)) : undefined; return this.valueFromJulia[\"clicks\"]=false}),self)]\n        \n    }\n    self.model = new AppViewModel();\n    self.valueFromJulia = {};\n    for (var key in json_data) {\n        self.valueFromJulia[key] = false;\n    }\n    ko.applyBindings(self.model, self.dom);\n}\n);\n    (WebIO.importBlock({\"data\":[{\"name\":\"knockout\",\"type\":\"js\",\"url\":\"/assetserver/727383f2a47bd31570b7da84eee7b022dd6d7c78-knockout.js\"},{\"name\":\"knockout_punches\",\"type\":\"js\",\"url\":\"/assetserver/382b41b3b1bd9f26f75861d360bad7f8beea211f-knockout_punches.js\"}],\"type\":\"async_block\"})).then((imports) => handler.apply(this, imports));\n}\n"
                  ],
                  "observables": {
                   "clicks": {
                    "id": "5836798478906413298",
                    "sync": true,
                    "value": 0
                   },
                   "loading": {
                    "id": "4264510498200883164",
                    "sync": false,
                    "value": false
                   }
                  },
                  "systemjs_options": null
                 },
                 "nodeType": "Scope",
                 "props": {},
                 "type": "node"
                }
               ],
               "instanceArgs": {
                "namespace": "html",
                "tag": "div"
               },
               "nodeType": "DOM",
               "props": {
                "className": "field interact-widget"
               },
               "type": "node"
              },
              {
               "children": [
                {
                 "children": [
                  {
                   "children": [],
                   "instanceArgs": {
                    "namespace": "html",
                    "tag": "div"
                   },
                   "nodeType": "DOM",
                   "props": {
                    "id": "container"
                   },
                   "type": "node"
                  }
                 ],
                 "instanceArgs": {
                  "handlers": {
                   "value": [
                    "(function (txt){return this.k.render(txt,this.container)})"
                   ]
                  },
                  "id": "5614458214392895939",
                  "imports": {
                   "data": [
                    {
                     "name": null,
                     "type": "js",
                     "url": "/assetserver/dd22ed1bf1896c2748f3fe616ce0b838adc895c1-katex.min.js"
                    },
                    {
                     "name": null,
                     "type": "css",
                     "url": "/assetserver/46517a424aa5e6cffc1360d7e0848b601c584ee3-katex.min.css"
                    }
                   ],
                   "type": "async_block"
                  },
                  "mount_callbacks": [
                   "function () {\n    var handler = ((function (k){this.k=k; this.container=this.dom.querySelector(\"#container\"); return k.render(\"\\\\;\\\\;\",this.container)}));\n    (WebIO.importBlock({\"data\":[{\"name\":null,\"type\":\"js\",\"url\":\"/assetserver/dd22ed1bf1896c2748f3fe616ce0b838adc895c1-katex.min.js\"},{\"name\":null,\"type\":\"css\",\"url\":\"/assetserver/46517a424aa5e6cffc1360d7e0848b601c584ee3-katex.min.css\"}],\"type\":\"async_block\"})).then((imports) => handler.apply(this, imports));\n}\n"
                  ],
                  "observables": {
                   "value": {
                    "id": "18028390574674088897",
                    "sync": false,
                    "value": "\\;\\;"
                   }
                  },
                  "systemjs_options": null
                 },
                 "nodeType": "Scope",
                 "props": {},
                 "type": "node"
                }
               ],
               "instanceArgs": {
                "namespace": "html",
                "tag": "div"
               },
               "nodeType": "DOM",
               "props": {
                "className": "interact-widget"
               },
               "type": "node"
              },
              {
               "children": [
                {
                 "children": [
                  {
                   "children": [
                    "stop"
                   ],
                   "instanceArgs": {
                    "namespace": "html",
                    "tag": "button"
                   },
                   "nodeType": "DOM",
                   "props": {
                    "attributes": {
                     "data-bind": "click: function (){this.clicks(this.clicks()+1)}, css: {'is-loading' : loading}"
                    },
                    "className": "is-medium button is-primary",
                    "style": {}
                   },
                   "type": "node"
                  }
                 ],
                 "instanceArgs": {
                  "handlers": {
                   "clicks": [
                    "(function (val){return (val!=this.model[\"clicks\"]()) ? (this.valueFromJulia[\"clicks\"]=true, this.model[\"clicks\"](val)) : undefined})"
                   ],
                   "loading": [
                    "(function (val){return (val!=this.model[\"loading\"]()) ? (this.valueFromJulia[\"loading\"]=true, this.model[\"loading\"](val)) : undefined})"
                   ]
                  },
                  "id": "4505731229092274972",
                  "imports": {
                   "data": [
                    {
                     "name": "knockout",
                     "type": "js",
                     "url": "/assetserver/727383f2a47bd31570b7da84eee7b022dd6d7c78-knockout.js"
                    },
                    {
                     "name": "knockout_punches",
                     "type": "js",
                     "url": "/assetserver/382b41b3b1bd9f26f75861d360bad7f8beea211f-knockout_punches.js"
                    },
                    {
                     "name": null,
                     "type": "js",
                     "url": "/assetserver/5ab20f1060420992a9b82a65b735dee4d81ef413-all.js"
                    },
                    {
                     "name": null,
                     "type": "css",
                     "url": "/assetserver/1cc0ed62837210b80a182cc3676512f895dab686-style.css"
                    },
                    {
                     "name": null,
                     "type": "css",
                     "url": "/assetserver/2eee816f616df3549d7044d45e744fbf8d42bfa1-bulma_confined.min.css"
                    }
                   ],
                   "type": "async_block"
                  },
                  "mount_callbacks": [
                   "function () {\n    var handler = (function (ko, koPunches) {\n    ko.punches.enableAll();\n    ko.bindingHandlers.numericValue = {\n        init: function(element, valueAccessor, allBindings, data, context) {\n            var stringified = ko.observable(ko.unwrap(valueAccessor()));\n            stringified.subscribe(function(value) {\n                var val = parseFloat(value);\n                if (!isNaN(val)) {\n                    valueAccessor()(val);\n                }\n            });\n            valueAccessor().subscribe(function(value) {\n                var str = JSON.stringify(value);\n                if ((str == \"0\") && ([\"-0\", \"-0.\"].indexOf(stringified()) >= 0))\n                     return;\n                 if ([\"null\", \"\"].indexOf(str) >= 0)\n                     return;\n                stringified(str);\n            });\n            ko.applyBindingsToNode(\n                element,\n                {\n                    value: stringified,\n                    valueUpdate: allBindings.get('valueUpdate'),\n                },\n                context,\n            );\n        }\n    };\n    var json_data = {\"loading\":WebIO.getval({\"name\":\"loading\",\"scope\":\"4505731229092274972\",\"id\":\"14928944198550161475\",\"type\":\"observable\"}),\"clicks\":WebIO.getval({\"name\":\"clicks\",\"scope\":\"4505731229092274972\",\"id\":\"16773438859335468578\",\"type\":\"observable\"})};\n    var self = this;\n    function AppViewModel() {\n        for (var key in json_data) {\n            var el = json_data[key];\n            this[key] = Array.isArray(el) ? ko.observableArray(el) : ko.observable(el);\n        }\n        \n        \n        [this[\"loading\"].subscribe((function (val){!(this.valueFromJulia[\"loading\"]) ? (WebIO.setval({\"name\":\"loading\",\"scope\":\"4505731229092274972\",\"id\":\"14928944198550161475\",\"type\":\"observable\"},val)) : undefined; return this.valueFromJulia[\"loading\"]=false}),self),this[\"clicks\"].subscribe((function (val){!(this.valueFromJulia[\"clicks\"]) ? (WebIO.setval({\"name\":\"clicks\",\"scope\":\"4505731229092274972\",\"id\":\"16773438859335468578\",\"type\":\"observable\"},val)) : undefined; return this.valueFromJulia[\"clicks\"]=false}),self)]\n        \n    }\n    self.model = new AppViewModel();\n    self.valueFromJulia = {};\n    for (var key in json_data) {\n        self.valueFromJulia[key] = false;\n    }\n    ko.applyBindings(self.model, self.dom);\n}\n);\n    (WebIO.importBlock({\"data\":[{\"name\":\"knockout\",\"type\":\"js\",\"url\":\"/assetserver/727383f2a47bd31570b7da84eee7b022dd6d7c78-knockout.js\"},{\"name\":\"knockout_punches\",\"type\":\"js\",\"url\":\"/assetserver/382b41b3b1bd9f26f75861d360bad7f8beea211f-knockout_punches.js\"}],\"type\":\"async_block\"})).then((imports) => handler.apply(this, imports));\n}\n"
                  ],
                  "observables": {
                   "clicks": {
                    "id": "16773438859335468578",
                    "sync": true,
                    "value": 0
                   },
                   "loading": {
                    "id": "14928944198550161475",
                    "sync": false,
                    "value": false
                   }
                  },
                  "systemjs_options": null
                 },
                 "nodeType": "Scope",
                 "props": {},
                 "type": "node"
                }
               ],
               "instanceArgs": {
                "namespace": "html",
                "tag": "div"
               },
               "nodeType": "DOM",
               "props": {
                "className": "field interact-widget"
               },
               "type": "node"
              },
              {
               "children": [
                {
                 "children": [
                  {
                   "children": [],
                   "instanceArgs": {
                    "namespace": "html",
                    "tag": "div"
                   },
                   "nodeType": "DOM",
                   "props": {
                    "id": "container"
                   },
                   "type": "node"
                  }
                 ],
                 "instanceArgs": {
                  "handlers": {
                   "value": [
                    "(function (txt){return this.k.render(txt,this.container)})"
                   ]
                  },
                  "id": "5614458214392895939",
                  "imports": {
                   "data": [
                    {
                     "name": null,
                     "type": "js",
                     "url": "/assetserver/dd22ed1bf1896c2748f3fe616ce0b838adc895c1-katex.min.js"
                    },
                    {
                     "name": null,
                     "type": "css",
                     "url": "/assetserver/46517a424aa5e6cffc1360d7e0848b601c584ee3-katex.min.css"
                    }
                   ],
                   "type": "async_block"
                  },
                  "mount_callbacks": [
                   "function () {\n    var handler = ((function (k){this.k=k; this.container=this.dom.querySelector(\"#container\"); return k.render(\"\\\\;\\\\;\",this.container)}));\n    (WebIO.importBlock({\"data\":[{\"name\":null,\"type\":\"js\",\"url\":\"/assetserver/dd22ed1bf1896c2748f3fe616ce0b838adc895c1-katex.min.js\"},{\"name\":null,\"type\":\"css\",\"url\":\"/assetserver/46517a424aa5e6cffc1360d7e0848b601c584ee3-katex.min.css\"}],\"type\":\"async_block\"})).then((imports) => handler.apply(this, imports));\n}\n"
                  ],
                  "observables": {
                   "value": {
                    "id": "18028390574674088897",
                    "sync": false,
                    "value": "\\;\\;"
                   }
                  },
                  "systemjs_options": null
                 },
                 "nodeType": "Scope",
                 "props": {},
                 "type": "node"
                }
               ],
               "instanceArgs": {
                "namespace": "html",
                "tag": "div"
               },
               "nodeType": "DOM",
               "props": {
                "className": "interact-widget"
               },
               "type": "node"
              },
              {
               "children": [
                {
                 "children": [
                  {
                   "children": [
                    "reset"
                   ],
                   "instanceArgs": {
                    "namespace": "html",
                    "tag": "button"
                   },
                   "nodeType": "DOM",
                   "props": {
                    "attributes": {
                     "data-bind": "click: function (){this.clicks(this.clicks()+1)}, css: {'is-loading' : loading}"
                    },
                    "className": "is-medium button is-primary",
                    "style": {}
                   },
                   "type": "node"
                  }
                 ],
                 "instanceArgs": {
                  "handlers": {
                   "clicks": [
                    "(function (val){return (val!=this.model[\"clicks\"]()) ? (this.valueFromJulia[\"clicks\"]=true, this.model[\"clicks\"](val)) : undefined})"
                   ],
                   "loading": [
                    "(function (val){return (val!=this.model[\"loading\"]()) ? (this.valueFromJulia[\"loading\"]=true, this.model[\"loading\"](val)) : undefined})"
                   ]
                  },
                  "id": "4584164571121125839",
                  "imports": {
                   "data": [
                    {
                     "name": "knockout",
                     "type": "js",
                     "url": "/assetserver/727383f2a47bd31570b7da84eee7b022dd6d7c78-knockout.js"
                    },
                    {
                     "name": "knockout_punches",
                     "type": "js",
                     "url": "/assetserver/382b41b3b1bd9f26f75861d360bad7f8beea211f-knockout_punches.js"
                    },
                    {
                     "name": null,
                     "type": "js",
                     "url": "/assetserver/5ab20f1060420992a9b82a65b735dee4d81ef413-all.js"
                    },
                    {
                     "name": null,
                     "type": "css",
                     "url": "/assetserver/1cc0ed62837210b80a182cc3676512f895dab686-style.css"
                    },
                    {
                     "name": null,
                     "type": "css",
                     "url": "/assetserver/2eee816f616df3549d7044d45e744fbf8d42bfa1-bulma_confined.min.css"
                    }
                   ],
                   "type": "async_block"
                  },
                  "mount_callbacks": [
                   "function () {\n    var handler = (function (ko, koPunches) {\n    ko.punches.enableAll();\n    ko.bindingHandlers.numericValue = {\n        init: function(element, valueAccessor, allBindings, data, context) {\n            var stringified = ko.observable(ko.unwrap(valueAccessor()));\n            stringified.subscribe(function(value) {\n                var val = parseFloat(value);\n                if (!isNaN(val)) {\n                    valueAccessor()(val);\n                }\n            });\n            valueAccessor().subscribe(function(value) {\n                var str = JSON.stringify(value);\n                if ((str == \"0\") && ([\"-0\", \"-0.\"].indexOf(stringified()) >= 0))\n                     return;\n                 if ([\"null\", \"\"].indexOf(str) >= 0)\n                     return;\n                stringified(str);\n            });\n            ko.applyBindingsToNode(\n                element,\n                {\n                    value: stringified,\n                    valueUpdate: allBindings.get('valueUpdate'),\n                },\n                context,\n            );\n        }\n    };\n    var json_data = {\"loading\":WebIO.getval({\"name\":\"loading\",\"scope\":\"4584164571121125839\",\"id\":\"13203191469519354658\",\"type\":\"observable\"}),\"clicks\":WebIO.getval({\"name\":\"clicks\",\"scope\":\"4584164571121125839\",\"id\":\"14240239803065708329\",\"type\":\"observable\"})};\n    var self = this;\n    function AppViewModel() {\n        for (var key in json_data) {\n            var el = json_data[key];\n            this[key] = Array.isArray(el) ? ko.observableArray(el) : ko.observable(el);\n        }\n        \n        \n        [this[\"loading\"].subscribe((function (val){!(this.valueFromJulia[\"loading\"]) ? (WebIO.setval({\"name\":\"loading\",\"scope\":\"4584164571121125839\",\"id\":\"13203191469519354658\",\"type\":\"observable\"},val)) : undefined; return this.valueFromJulia[\"loading\"]=false}),self),this[\"clicks\"].subscribe((function (val){!(this.valueFromJulia[\"clicks\"]) ? (WebIO.setval({\"name\":\"clicks\",\"scope\":\"4584164571121125839\",\"id\":\"14240239803065708329\",\"type\":\"observable\"},val)) : undefined; return this.valueFromJulia[\"clicks\"]=false}),self)]\n        \n    }\n    self.model = new AppViewModel();\n    self.valueFromJulia = {};\n    for (var key in json_data) {\n        self.valueFromJulia[key] = false;\n    }\n    ko.applyBindings(self.model, self.dom);\n}\n);\n    (WebIO.importBlock({\"data\":[{\"name\":\"knockout\",\"type\":\"js\",\"url\":\"/assetserver/727383f2a47bd31570b7da84eee7b022dd6d7c78-knockout.js\"},{\"name\":\"knockout_punches\",\"type\":\"js\",\"url\":\"/assetserver/382b41b3b1bd9f26f75861d360bad7f8beea211f-knockout_punches.js\"}],\"type\":\"async_block\"})).then((imports) => handler.apply(this, imports));\n}\n"
                  ],
                  "observables": {
                   "clicks": {
                    "id": "14240239803065708329",
                    "sync": true,
                    "value": 0
                   },
                   "loading": {
                    "id": "13203191469519354658",
                    "sync": false,
                    "value": false
                   }
                  },
                  "systemjs_options": null
                 },
                 "nodeType": "Scope",
                 "props": {},
                 "type": "node"
                }
               ],
               "instanceArgs": {
                "namespace": "html",
                "tag": "div"
               },
               "nodeType": "DOM",
               "props": {
                "className": "field interact-widget"
               },
               "type": "node"
              }
             ],
             "instanceArgs": {
              "namespace": "html",
              "tag": "div"
             },
             "nodeType": "DOM",
             "props": {
              "style": {
               "display": "flex",
               "flex-direction": "row"
              }
             },
             "type": "node"
            }
           ],
           "instanceArgs": {
            "namespace": "html",
            "tag": "div"
           },
           "nodeType": "DOM",
           "props": {
            "style": {
             "display": "flex",
             "flex-direction": "column"
            }
           },
           "type": "node"
          },
          {
           "children": [
            {
             "children": [],
             "instanceArgs": {
              "namespace": "html",
              "tag": "div"
             },
             "nodeType": "DOM",
             "props": {
              "className": "webio-observable",
              "setInnerHtml": "    <div style=\"height: 500px; width: 100%; overflow-x: auto; overflow-y: hidden; resize: both\">\n    <iframe src=\"http://127.0.0.1:8702\" style=\"width: 100%; height: 100%; border: none\"></iframe>\n    </div>\n"
             },
             "type": "node"
            }
           ],
           "instanceArgs": {
            "handlers": {
             "obs-output": [
              "function (value, scope) {\n    scope.setInnerHTML(value);\n}\n"
             ]
            },
            "id": "14126915654768969255",
            "imports": {
             "data": [],
             "type": "async_block"
            },
            "mount_callbacks": [],
            "observables": {
             "obs-output": {
              "id": "13052689695085443864",
              "sync": false,
              "value": "    <div style=\"height: 500px; width: 100%; overflow-x: auto; overflow-y: hidden; resize: both\">\n    <iframe src=\"http://127.0.0.1:8702\" style=\"width: 100%; height: 100%; border: none\"></iframe>\n    </div>\n"
             }
            },
            "systemjs_options": null
           },
           "nodeType": "Scope",
           "props": {},
           "type": "node"
          },
          {
           "children": [
            {
             "children": [
              {
               "children": [],
               "instanceArgs": {
                "namespace": "html",
                "tag": "div"
               },
               "nodeType": "DOM",
               "props": {
                "id": "container"
               },
               "type": "node"
              }
             ],
             "instanceArgs": {
              "handlers": {
               "value": [
                "(function (txt){return this.k.render(txt,this.container)})"
               ]
              },
              "id": "5614458214392895939",
              "imports": {
               "data": [
                {
                 "name": null,
                 "type": "js",
                 "url": "/assetserver/dd22ed1bf1896c2748f3fe616ce0b838adc895c1-katex.min.js"
                },
                {
                 "name": null,
                 "type": "css",
                 "url": "/assetserver/46517a424aa5e6cffc1360d7e0848b601c584ee3-katex.min.css"
                }
               ],
               "type": "async_block"
              },
              "mount_callbacks": [
               "function () {\n    var handler = ((function (k){this.k=k; this.container=this.dom.querySelector(\"#container\"); return k.render(\"\\\\;\\\\;\",this.container)}));\n    (WebIO.importBlock({\"data\":[{\"name\":null,\"type\":\"js\",\"url\":\"/assetserver/dd22ed1bf1896c2748f3fe616ce0b838adc895c1-katex.min.js\"},{\"name\":null,\"type\":\"css\",\"url\":\"/assetserver/46517a424aa5e6cffc1360d7e0848b601c584ee3-katex.min.css\"}],\"type\":\"async_block\"})).then((imports) => handler.apply(this, imports));\n}\n"
              ],
              "observables": {
               "value": {
                "id": "18028390574674088897",
                "sync": false,
                "value": "\\;\\;"
               }
              },
              "systemjs_options": null
             },
             "nodeType": "Scope",
             "props": {},
             "type": "node"
            }
           ],
           "instanceArgs": {
            "namespace": "html",
            "tag": "div"
           },
           "nodeType": "DOM",
           "props": {
            "className": "interact-widget"
           },
           "type": "node"
          },
          {
           "children": [
            {
             "children": [
              {
               "children": [],
               "instanceArgs": {
                "namespace": "html",
                "tag": "div"
               },
               "nodeType": "DOM",
               "props": {
                "className": "webio-observable",
                "setInnerHtml": "<img src=\"data:image/png;base64,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\" />"
               },
               "type": "node"
              }
             ],
             "instanceArgs": {
              "handlers": {
               "obs-output": [
                "function (value, scope) {\n    scope.setInnerHTML(value);\n}\n"
               ]
              },
              "id": "4732568836467124829",
              "imports": {
               "data": [],
               "type": "async_block"
              },
              "mount_callbacks": [],
              "observables": {
               "obs-output": {
                "id": "8892281367207776504",
                "sync": false,
                "value": "<img src=\"data:image/png;base64,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\" />"
               }
              },
              "systemjs_options": null
             },
             "nodeType": "Scope",
             "props": {},
             "type": "node"
            }
           ],
           "instanceArgs": {
            "namespace": "html",
            "tag": "div"
           },
           "nodeType": "DOM",
           "props": {
            "style": {
             "display": "flex",
             "flex-direction": "column"
            }
           },
           "type": "node"
          }
         ],
         "instanceArgs": {
          "namespace": "html",
          "tag": "div"
         },
         "nodeType": "DOM",
         "props": {
          "style": {
           "display": "flex",
           "flex-direction": "row"
          }
         },
         "type": "node"
        }
       ],
       "instanceArgs": {
        "namespace": "html",
        "tag": "div"
       },
       "nodeType": "DOM",
       "props": {
        "style": {
         "display": "flex",
         "flex-direction": "column"
        }
       },
       "type": "node"
      },
      "text/html": [
       "<div\n",
       "    class=\"webio-mountpoint\"\n",
       "    data-webio-mountpoint=\"16751994409537736448\"\n",
       ">\n",
       "    <script>\n",
       "    (function(){\n",
       "    // Some integrations (namely, IJulia/Jupyter) use an alternate render pathway than\n",
       "    // just putting the html on the page. If WebIO isn't defined, then it's pretty likely\n",
       "    // that we're in one of those situations and the integration just isn't installed\n",
       "    // correctly.\n",
       "    if (typeof window.WebIO === \"undefined\") {\n",
       "        document\n",
       "            .querySelector('[data-webio-mountpoint=\"16751994409537736448\"]')\n",
       "            .innerHTML = (\n",
       "                '<div style=\"padding: 1em; background-color: #f8d6da; border: 1px solid #f5c6cb; font-weight: bold;\">' +\n",
       "                '<p><strong>WebIO not detected.</strong></p>' +\n",
       "                '<p>Please read ' +\n",
       "                '<a href=\"https://juliagizmos.github.io/WebIO.jl/latest/troubleshooting/not-detected/\" target=\"_blank\">the troubleshooting guide</a> ' +\n",
       "                'for more information on how to resolve this issue.</p>' +\n",
       "                '<p><a href=\"https://juliagizmos.github.io/WebIO.jl/latest/troubleshooting/not-detected/\" target=\"_blank\">https://juliagizmos.github.io/WebIO.jl/latest/troubleshooting/not-detected/</a></p>' +\n",
       "                '</div>'\n",
       "            );\n",
       "        return;\n",
       "    }\n",
       "    WebIO.mount(\n",
       "        document.querySelector('[data-webio-mountpoint=\"16751994409537736448\"]'),\n",
       "        {\"props\":{\"style\":{\"display\":\"flex\",\"flex-direction\":\"column\"}},\"nodeType\":\"DOM\",\"type\":\"node\",\"instanceArgs\":{\"namespace\":\"html\",\"tag\":\"div\"},\"children\":[{\"props\":{\"style\":{\"display\":\"flex\",\"flex-direction\":\"row\"}},\"nodeType\":\"DOM\",\"type\":\"node\",\"instanceArgs\":{\"namespace\":\"html\",\"tag\":\"div\"},\"children\":[{\"props\":{\"style\":{\"display\":\"flex\",\"flex-direction\":\"column\"}},\"nodeType\":\"DOM\",\"type\":\"node\",\"instanceArgs\":{\"namespace\":\"html\",\"tag\":\"div\"},\"children\":[{\"props\":{\"className\":\"field interact-widget\"},\"nodeType\":\"DOM\",\"type\":\"node\",\"instanceArgs\":{\"namespace\":\"html\",\"tag\":\"div\"},\"children\":[{\"props\":{},\"nodeType\":\"Scope\",\"type\":\"node\",\"instanceArgs\":{\"imports\":{\"data\":[{\"name\":\"knockout\",\"type\":\"js\",\"url\":\"\\/assetserver\\/727383f2a47bd31570b7da84eee7b022dd6d7c78-knockout.js\"},{\"name\":\"knockout_punches\",\"type\":\"js\",\"url\":\"\\/assetserver\\/382b41b3b1bd9f26f75861d360bad7f8beea211f-knockout_punches.js\"},{\"name\":null,\"type\":\"js\",\"url\":\"\\/assetserver\\/5ab20f1060420992a9b82a65b735dee4d81ef413-all.js\"},{\"name\":null,\"type\":\"css\",\"url\":\"\\/assetserver\\/1cc0ed62837210b80a182cc3676512f895dab686-style.css\"},{\"name\":null,\"type\":\"css\",\"url\":\"\\/assetserver\\/2eee816f616df3549d7044d45e744fbf8d42bfa1-bulma_confined.min.css\"}],\"type\":\"async_block\"},\"id\":\"14173607717456648057\",\"handlers\":{\"changes\":[\"(function (val){return (val!=this.model[\\\"changes\\\"]()) ? (this.valueFromJulia[\\\"changes\\\"]=true, this.model[\\\"changes\\\"](val)) : undefined})\"],\"index\":[\"(function (val){return (val!=this.model[\\\"index\\\"]()) ? (this.valueFromJulia[\\\"index\\\"]=true, this.model[\\\"index\\\"](val)) : undefined})\"]},\"systemjs_options\":null,\"mount_callbacks\":[\"function () {\\n    var handler = (function (ko, koPunches) {\\n    ko.punches.enableAll();\\n    ko.bindingHandlers.numericValue = {\\n        init: function(element, valueAccessor, allBindings, data, context) {\\n            var stringified = ko.observable(ko.unwrap(valueAccessor()));\\n            stringified.subscribe(function(value) {\\n                var val = parseFloat(value);\\n                if (!isNaN(val)) {\\n                    valueAccessor()(val);\\n                }\\n            });\\n            valueAccessor().subscribe(function(value) {\\n                var str = JSON.stringify(value);\\n                if ((str == \\\"0\\\") && ([\\\"-0\\\", \\\"-0.\\\"].indexOf(stringified()) >= 0))\\n                     return;\\n                 if ([\\\"null\\\", \\\"\\\"].indexOf(str) >= 0)\\n                     return;\\n                stringified(str);\\n            });\\n            ko.applyBindingsToNode(\\n                element,\\n                {\\n                    value: stringified,\\n                    valueUpdate: allBindings.get('valueUpdate'),\\n                },\\n                context,\\n            );\\n        }\\n    };\\n    var json_data = {\\\"formatted_vals\\\":[\\\"1\\\",\\\"2\\\",\\\"3\\\",\\\"4\\\",\\\"5\\\",\\\"6\\\",\\\"7\\\",\\\"8\\\",\\\"9\\\",\\\"10\\\",\\\"11\\\",\\\"12\\\",\\\"13\\\",\\\"14\\\",\\\"15\\\",\\\"16\\\",\\\"17\\\",\\\"18\\\",\\\"19\\\",\\\"20\\\",\\\"21\\\",\\\"22\\\",\\\"23\\\",\\\"24\\\",\\\"25\\\",\\\"26\\\",\\\"27\\\",\\\"28\\\",\\\"29\\\",\\\"30\\\",\\\"31\\\",\\\"32\\\",\\\"33\\\",\\\"34\\\",\\\"35\\\",\\\"36\\\",\\\"37\\\",\\\"38\\\",\\\"39\\\",\\\"40\\\",\\\"41\\\",\\\"42\\\",\\\"43\\\",\\\"44\\\",\\\"45\\\",\\\"46\\\",\\\"47\\\",\\\"48\\\",\\\"49\\\",\\\"50\\\",\\\"51\\\",\\\"52\\\",\\\"53\\\",\\\"54\\\",\\\"55\\\",\\\"56\\\",\\\"57\\\",\\\"58\\\",\\\"59\\\",\\\"60\\\",\\\"61\\\",\\\"62\\\",\\\"63\\\",\\\"64\\\",\\\"65\\\",\\\"66\\\",\\\"67\\\",\\\"68\\\",\\\"69\\\",\\\"70\\\",\\\"71\\\",\\\"72\\\",\\\"73\\\",\\\"74\\\",\\\"75\\\",\\\"76\\\",\\\"77\\\",\\\"78\\\",\\\"79\\\",\\\"80\\\",\\\"81\\\",\\\"82\\\",\\\"83\\\",\\\"84\\\",\\\"85\\\",\\\"86\\\",\\\"87\\\",\\\"88\\\",\\\"89\\\",\\\"90\\\",\\\"91\\\",\\\"92\\\",\\\"93\\\",\\\"94\\\",\\\"95\\\",\\\"96\\\",\\\"97\\\",\\\"98\\\",\\\"99\\\",\\\"100\\\",\\\"101\\\",\\\"102\\\",\\\"103\\\",\\\"104\\\",\\\"105\\\",\\\"106\\\",\\\"107\\\",\\\"108\\\",\\\"109\\\",\\\"110\\\",\\\"111\\\",\\\"112\\\",\\\"113\\\",\\\"114\\\",\\\"115\\\",\\\"116\\\",\\\"117\\\",\\\"118\\\",\\\"119\\\",\\\"120\\\",\\\"121\\\",\\\"122\\\",\\\"123\\\",\\\"124\\\",\\\"125\\\",\\\"126\\\",\\\"127\\\",\\\"128\\\",\\\"129\\\",\\\"130\\\",\\\"131\\\",\\\"132\\\",\\\"133\\\",\\\"134\\\",\\\"135\\\",\\\"136\\\",\\\"137\\\",\\\"138\\\",\\\"139\\\",\\\"140\\\",\\\"141\\\",\\\"142\\\",\\\"143\\\",\\\"144\\\",\\\"145\\\",\\\"146\\\",\\\"147\\\",\\\"148\\\",\\\"149\\\",\\\"150\\\",\\\"151\\\",\\\"152\\\",\\\"153\\\",\\\"154\\\",\\\"155\\\",\\\"156\\\",\\\"157\\\",\\\"158\\\",\\\"159\\\",\\\"160\\\",\\\"161\\\",\\\"162\\\",\\\"163\\\",\\\"164\\\",\\\"165\\\",\\\"166\\\",\\\"167\\\",\\\"168\\\",\\\"169\\\",\\\"170\\\",\\\"171\\\",\\\"172\\\",\\\"173\\\",\\\"174\\\",\\\"175\\\",\\\"176\\\",\\\"177\\\",\\\"178\\\",\\\"179\\\",\\\"180\\\",\\\"181\\\",\\\"182\\\",\\\"183\\\",\\\"184\\\",\\\"185\\\",\\\"186\\\",\\\"187\\\",\\\"188\\\",\\\"189\\\",\\\"190\\\",\\\"191\\\",\\\"192\\\",\\\"193\\\",\\\"194\\\",\\\"195\\\",\\\"196\\\",\\\"197\\\",\\\"198\\\",\\\"199\\\",\\\"200\\\"],\\\"changes\\\":WebIO.getval({\\\"name\\\":\\\"changes\\\",\\\"scope\\\":\\\"14173607717456648057\\\",\\\"id\\\":\\\"7826452503590142536\\\",\\\"type\\\":\\\"observable\\\"}),\\\"index\\\":WebIO.getval({\\\"name\\\":\\\"index\\\",\\\"scope\\\":\\\"14173607717456648057\\\",\\\"id\\\":\\\"14544271673276370933\\\",\\\"type\\\":\\\"observable\\\"})};\\n    var self = this;\\n    function AppViewModel() {\\n        for (var key in json_data) {\\n            var el = json_data[key];\\n            this[key] = Array.isArray(el) ? ko.observableArray(el) : ko.observable(el);\\n        }\\n        \\n        [this[\\\"formatted_val\\\"]=ko.computed(    function(){\\n        return this.formatted_vals()[parseInt(this.index())-(1)];\\n    }\\n,this)]\\n        [this[\\\"changes\\\"].subscribe((function (val){!(this.valueFromJulia[\\\"changes\\\"]) ? (WebIO.setval({\\\"name\\\":\\\"changes\\\",\\\"scope\\\":\\\"14173607717456648057\\\",\\\"id\\\":\\\"7826452503590142536\\\",\\\"type\\\":\\\"observable\\\"},val)) : undefined; return this.valueFromJulia[\\\"changes\\\"]=false}),self),this[\\\"index\\\"].subscribe((function (val){!(this.valueFromJulia[\\\"index\\\"]) ? (WebIO.setval({\\\"name\\\":\\\"index\\\",\\\"scope\\\":\\\"14173607717456648057\\\",\\\"id\\\":\\\"14544271673276370933\\\",\\\"type\\\":\\\"observable\\\"},val)) : undefined; return this.valueFromJulia[\\\"index\\\"]=false}),self)]\\n        \\n    }\\n    self.model = new AppViewModel();\\n    self.valueFromJulia = {};\\n    for (var key in json_data) {\\n        self.valueFromJulia[key] = false;\\n    }\\n    ko.applyBindings(self.model, self.dom);\\n}\\n);\\n    (WebIO.importBlock({\\\"data\\\":[{\\\"name\\\":\\\"knockout\\\",\\\"type\\\":\\\"js\\\",\\\"url\\\":\\\"\\/assetserver\\/727383f2a47bd31570b7da84eee7b022dd6d7c78-knockout.js\\\"},{\\\"name\\\":\\\"knockout_punches\\\",\\\"type\\\":\\\"js\\\",\\\"url\\\":\\\"\\/assetserver\\/382b41b3b1bd9f26f75861d360bad7f8beea211f-knockout_punches.js\\\"}],\\\"type\\\":\\\"async_block\\\"})).then((imports) => handler.apply(this, imports));\\n}\\n\"],\"observables\":{\"changes\":{\"sync\":false,\"id\":\"7826452503590142536\",\"value\":0},\"index\":{\"sync\":true,\"id\":\"14544271673276370933\",\"value\":1}}},\"children\":[{\"props\":{\"className\":\"interact-flex-row interact-widget\"},\"nodeType\":\"DOM\",\"type\":\"node\",\"instanceArgs\":{\"namespace\":\"html\",\"tag\":\"div\"},\"children\":[{\"props\":{\"className\":\"interact-flex-row-left\"},\"nodeType\":\"DOM\",\"type\":\"node\",\"instanceArgs\":{\"namespace\":\"html\",\"tag\":\"div\"},\"children\":[{\"props\":{\"className\":\"interact \",\"style\":{\"padding\":\"5px 10px 0px 10px\"}},\"nodeType\":\"DOM\",\"type\":\"node\",\"instanceArgs\":{\"namespace\":\"html\",\"tag\":\"label\"},\"children\":[\"time\"]}]},{\"props\":{\"className\":\"interact-flex-row-center\"},\"nodeType\":\"DOM\",\"type\":\"node\",\"instanceArgs\":{\"namespace\":\"html\",\"tag\":\"div\"},\"children\":[{\"props\":{\"max\":200,\"min\":1,\"attributes\":{\"type\":\"range\",\"data-bind\":\"numericValue: index, valueUpdate: 'input', event: {change: function (){this.changes(this.changes()+1)}}\",\"orient\":\"horizontal\"},\"step\":1,\"className\":\"slider slider is-fullwidth\",\"style\":{}},\"nodeType\":\"DOM\",\"type\":\"node\",\"instanceArgs\":{\"namespace\":\"html\",\"tag\":\"input\"},\"children\":[]}]},{\"props\":{\"className\":\"interact-flex-row-right\"},\"nodeType\":\"DOM\",\"type\":\"node\",\"instanceArgs\":{\"namespace\":\"html\",\"tag\":\"div\"},\"children\":[{\"props\":{\"attributes\":{\"data-bind\":\"text: formatted_val\"}},\"nodeType\":\"DOM\",\"type\":\"node\",\"instanceArgs\":{\"namespace\":\"html\",\"tag\":\"p\"},\"children\":[]}]}]}]}]},{\"props\":{\"className\":\"field interact-widget\"},\"nodeType\":\"DOM\",\"type\":\"node\",\"instanceArgs\":{\"namespace\":\"html\",\"tag\":\"div\"},\"children\":[{\"props\":{},\"nodeType\":\"Scope\",\"type\":\"node\",\"instanceArgs\":{\"imports\":{\"data\":[{\"name\":\"knockout\",\"type\":\"js\",\"url\":\"\\/assetserver\\/727383f2a47bd31570b7da84eee7b022dd6d7c78-knockout.js\"},{\"name\":\"knockout_punches\",\"type\":\"js\",\"url\":\"\\/assetserver\\/382b41b3b1bd9f26f75861d360bad7f8beea211f-knockout_punches.js\"},{\"name\":null,\"type\":\"js\",\"url\":\"\\/assetserver\\/5ab20f1060420992a9b82a65b735dee4d81ef413-all.js\"},{\"name\":null,\"type\":\"css\",\"url\":\"\\/assetserver\\/1cc0ed62837210b80a182cc3676512f895dab686-style.css\"},{\"name\":null,\"type\":\"css\",\"url\":\"\\/assetserver\\/2eee816f616df3549d7044d45e744fbf8d42bfa1-bulma_confined.min.css\"}],\"type\":\"async_block\"},\"id\":\"4718157550003677382\",\"handlers\":{\"changes\":[\"(function (val){return (val!=this.model[\\\"changes\\\"]()) ? (this.valueFromJulia[\\\"changes\\\"]=true, this.model[\\\"changes\\\"](val)) : undefined})\"],\"index\":[\"(function (val){return (val!=this.model[\\\"index\\\"]()) ? (this.valueFromJulia[\\\"index\\\"]=true, this.model[\\\"index\\\"](val)) : undefined})\"]},\"systemjs_options\":null,\"mount_callbacks\":[\"function () {\\n    var handler = (function (ko, koPunches) {\\n    ko.punches.enableAll();\\n    ko.bindingHandlers.numericValue = {\\n        init: function(element, valueAccessor, allBindings, data, context) {\\n            var stringified = ko.observable(ko.unwrap(valueAccessor()));\\n            stringified.subscribe(function(value) {\\n                var val = parseFloat(value);\\n                if (!isNaN(val)) {\\n                    valueAccessor()(val);\\n                }\\n            });\\n            valueAccessor().subscribe(function(value) {\\n                var str = JSON.stringify(value);\\n                if ((str == \\\"0\\\") && ([\\\"-0\\\", \\\"-0.\\\"].indexOf(stringified()) >= 0))\\n                     return;\\n                 if ([\\\"null\\\", \\\"\\\"].indexOf(str) >= 0)\\n                     return;\\n                stringified(str);\\n            });\\n            ko.applyBindingsToNode(\\n                element,\\n                {\\n                    value: stringified,\\n                    valueUpdate: allBindings.get('valueUpdate'),\\n                },\\n                context,\\n            );\\n        }\\n    };\\n    var json_data = {\\\"formatted_vals\\\":[\\\"0.1\\\",\\\"0.2\\\",\\\"0.3\\\",\\\"0.4\\\",\\\"0.5\\\",\\\"0.6\\\",\\\"0.7\\\",\\\"0.8\\\",\\\"0.9\\\",\\\"1.0\\\",\\\"1.1\\\",\\\"1.2\\\",\\\"1.3\\\",\\\"1.4\\\",\\\"1.5\\\",\\\"1.6\\\",\\\"1.7\\\",\\\"1.8\\\",\\\"1.9\\\",\\\"2.0\\\"],\\\"changes\\\":WebIO.getval({\\\"name\\\":\\\"changes\\\",\\\"scope\\\":\\\"4718157550003677382\\\",\\\"id\\\":\\\"8874227181292236425\\\",\\\"type\\\":\\\"observable\\\"}),\\\"index\\\":WebIO.getval({\\\"name\\\":\\\"index\\\",\\\"scope\\\":\\\"4718157550003677382\\\",\\\"id\\\":\\\"8023542842736359069\\\",\\\"type\\\":\\\"observable\\\"})};\\n    var self = this;\\n    function AppViewModel() {\\n        for (var key in json_data) {\\n            var el = json_data[key];\\n            this[key] = Array.isArray(el) ? ko.observableArray(el) : ko.observable(el);\\n        }\\n        \\n        [this[\\\"formatted_val\\\"]=ko.computed(    function(){\\n        return this.formatted_vals()[parseInt(this.index())-(1)];\\n    }\\n,this)]\\n        [this[\\\"changes\\\"].subscribe((function (val){!(this.valueFromJulia[\\\"changes\\\"]) ? (WebIO.setval({\\\"name\\\":\\\"changes\\\",\\\"scope\\\":\\\"4718157550003677382\\\",\\\"id\\\":\\\"8874227181292236425\\\",\\\"type\\\":\\\"observable\\\"},val)) : undefined; return this.valueFromJulia[\\\"changes\\\"]=false}),self),this[\\\"index\\\"].subscribe((function (val){!(this.valueFromJulia[\\\"index\\\"]) ? (WebIO.setval({\\\"name\\\":\\\"index\\\",\\\"scope\\\":\\\"4718157550003677382\\\",\\\"id\\\":\\\"8023542842736359069\\\",\\\"type\\\":\\\"observable\\\"},val)) : undefined; return this.valueFromJulia[\\\"index\\\"]=false}),self)]\\n        \\n    }\\n    self.model = new AppViewModel();\\n    self.valueFromJulia = {};\\n    for (var key in json_data) {\\n        self.valueFromJulia[key] = false;\\n    }\\n    ko.applyBindings(self.model, self.dom);\\n}\\n);\\n    (WebIO.importBlock({\\\"data\\\":[{\\\"name\\\":\\\"knockout\\\",\\\"type\\\":\\\"js\\\",\\\"url\\\":\\\"\\/assetserver\\/727383f2a47bd31570b7da84eee7b022dd6d7c78-knockout.js\\\"},{\\\"name\\\":\\\"knockout_punches\\\",\\\"type\\\":\\\"js\\\",\\\"url\\\":\\\"\\/assetserver\\/382b41b3b1bd9f26f75861d360bad7f8beea211f-knockout_punches.js\\\"}],\\\"type\\\":\\\"async_block\\\"})).then((imports) => handler.apply(this, imports));\\n}\\n\"],\"observables\":{\"changes\":{\"sync\":false,\"id\":\"8874227181292236425\",\"value\":0},\"index\":{\"sync\":true,\"id\":\"8023542842736359069\",\"value\":10}}},\"children\":[{\"props\":{\"className\":\"interact-flex-row interact-widget\"},\"nodeType\":\"DOM\",\"type\":\"node\",\"instanceArgs\":{\"namespace\":\"html\",\"tag\":\"div\"},\"children\":[{\"props\":{\"className\":\"interact-flex-row-left\"},\"nodeType\":\"DOM\",\"type\":\"node\",\"instanceArgs\":{\"namespace\":\"html\",\"tag\":\"div\"},\"children\":[{\"props\":{\"className\":\"interact \",\"style\":{\"padding\":\"5px 10px 0px 10px\"}},\"nodeType\":\"DOM\",\"type\":\"node\",\"instanceArgs\":{\"namespace\":\"html\",\"tag\":\"label\"},\"children\":[\"scale\"]}]},{\"props\":{\"className\":\"interact-flex-row-center\"},\"nodeType\":\"DOM\",\"type\":\"node\",\"instanceArgs\":{\"namespace\":\"html\",\"tag\":\"div\"},\"children\":[{\"props\":{\"max\":20,\"min\":1,\"attributes\":{\"type\":\"range\",\"data-bind\":\"numericValue: index, valueUpdate: 'input', event: {change: function (){this.changes(this.changes()+1)}}\",\"orient\":\"horizontal\"},\"step\":1,\"className\":\"slider slider is-fullwidth\",\"style\":{}},\"nodeType\":\"DOM\",\"type\":\"node\",\"instanceArgs\":{\"namespace\":\"html\",\"tag\":\"input\"},\"children\":[]}]},{\"props\":{\"className\":\"interact-flex-row-right\"},\"nodeType\":\"DOM\",\"type\":\"node\",\"instanceArgs\":{\"namespace\":\"html\",\"tag\":\"div\"},\"children\":[{\"props\":{\"attributes\":{\"data-bind\":\"text: formatted_val\"}},\"nodeType\":\"DOM\",\"type\":\"node\",\"instanceArgs\":{\"namespace\":\"html\",\"tag\":\"p\"},\"children\":[]}]}]}]}]},{\"props\":{\"style\":{\"display\":\"flex\",\"flex-direction\":\"column\"}},\"nodeType\":\"DOM\",\"type\":\"node\",\"instanceArgs\":{\"namespace\":\"html\",\"tag\":\"div\"},\"children\":[]},{\"props\":{\"style\":{\"display\":\"flex\",\"flex-direction\":\"column\"}},\"nodeType\":\"DOM\",\"type\":\"node\",\"instanceArgs\":{\"namespace\":\"html\",\"tag\":\"div\"},\"children\":[{\"props\":{\"className\":\"field interact-widget\"},\"nodeType\":\"DOM\",\"type\":\"node\",\"instanceArgs\":{\"namespace\":\"html\",\"tag\":\"div\"},\"children\":[{\"props\":{},\"nodeType\":\"Scope\",\"type\":\"node\",\"instanceArgs\":{\"imports\":{\"data\":[{\"name\":\"knockout\",\"type\":\"js\",\"url\":\"\\/assetserver\\/727383f2a47bd31570b7da84eee7b022dd6d7c78-knockout.js\"},{\"name\":\"knockout_punches\",\"type\":\"js\",\"url\":\"\\/assetserver\\/382b41b3b1bd9f26f75861d360bad7f8beea211f-knockout_punches.js\"},{\"name\":null,\"type\":\"js\",\"url\":\"\\/assetserver\\/5ab20f1060420992a9b82a65b735dee4d81ef413-all.js\"},{\"name\":null,\"type\":\"css\",\"url\":\"\\/assetserver\\/1cc0ed62837210b80a182cc3676512f895dab686-style.css\"},{\"name\":null,\"type\":\"css\",\"url\":\"\\/assetserver\\/2eee816f616df3549d7044d45e744fbf8d42bfa1-bulma_confined.min.css\"}],\"type\":\"async_block\"},\"id\":\"3680287751938071528\",\"handlers\":{\"changes\":[\"(function (val){return (val!=this.model[\\\"changes\\\"]()) ? (this.valueFromJulia[\\\"changes\\\"]=true, this.model[\\\"changes\\\"](val)) : undefined})\"],\"index\":[\"(function (val){return (val!=this.model[\\\"index\\\"]()) ? (this.valueFromJulia[\\\"index\\\"]=true, this.model[\\\"index\\\"](val)) : undefined})\"]},\"systemjs_options\":null,\"mount_callbacks\":[\"function () {\\n    var handler = (function (ko, koPunches) {\\n    ko.punches.enableAll();\\n    ko.bindingHandlers.numericValue = {\\n        init: function(element, valueAccessor, allBindings, data, context) {\\n            var stringified = ko.observable(ko.unwrap(valueAccessor()));\\n            stringified.subscribe(function(value) {\\n                var val = parseFloat(value);\\n                if (!isNaN(val)) {\\n                    valueAccessor()(val);\\n                }\\n            });\\n            valueAccessor().subscribe(function(value) {\\n                var str = JSON.stringify(value);\\n                if ((str == \\\"0\\\") && ([\\\"-0\\\", \\\"-0.\\\"].indexOf(stringified()) >= 0))\\n                     return;\\n                 if ([\\\"null\\\", \\\"\\\"].indexOf(str) >= 0)\\n                     return;\\n                stringified(str);\\n            });\\n            ko.applyBindingsToNode(\\n                element,\\n                {\\n                    value: stringified,\\n                    valueUpdate: allBindings.get('valueUpdate'),\\n                },\\n                context,\\n            );\\n        }\\n    };\\n    var json_data = {\\\"formatted_vals\\\":[\\\"1\\\",\\\"2\\\",\\\"3\\\",\\\"4\\\",\\\"5\\\",\\\"6\\\",\\\"7\\\",\\\"8\\\",\\\"9\\\",\\\"10\\\",\\\"11\\\",\\\"12\\\"],\\\"changes\\\":WebIO.getval({\\\"name\\\":\\\"changes\\\",\\\"scope\\\":\\\"3680287751938071528\\\",\\\"id\\\":\\\"17042563421486830232\\\",\\\"type\\\":\\\"observable\\\"}),\\\"index\\\":WebIO.getval({\\\"name\\\":\\\"index\\\",\\\"scope\\\":\\\"3680287751938071528\\\",\\\"id\\\":\\\"21456362070040579\\\",\\\"type\\\":\\\"observable\\\"})};\\n    var self = this;\\n    function AppViewModel() {\\n        for (var key in json_data) {\\n            var el = json_data[key];\\n            this[key] = Array.isArray(el) ? ko.observableArray(el) : ko.observable(el);\\n        }\\n        \\n        [this[\\\"formatted_val\\\"]=ko.computed(    function(){\\n        return this.formatted_vals()[parseInt(this.index())-(1)];\\n    }\\n,this)]\\n        [this[\\\"changes\\\"].subscribe((function (val){!(this.valueFromJulia[\\\"changes\\\"]) ? (WebIO.setval({\\\"name\\\":\\\"changes\\\",\\\"scope\\\":\\\"3680287751938071528\\\",\\\"id\\\":\\\"17042563421486830232\\\",\\\"type\\\":\\\"observable\\\"},val)) : undefined; return this.valueFromJulia[\\\"changes\\\"]=false}),self),this[\\\"index\\\"].subscribe((function (val){!(this.valueFromJulia[\\\"index\\\"]) ? (WebIO.setval({\\\"name\\\":\\\"index\\\",\\\"scope\\\":\\\"3680287751938071528\\\",\\\"id\\\":\\\"21456362070040579\\\",\\\"type\\\":\\\"observable\\\"},val)) : undefined; return this.valueFromJulia[\\\"index\\\"]=false}),self)]\\n        \\n    }\\n    self.model = new AppViewModel();\\n    self.valueFromJulia = {};\\n    for (var key in json_data) {\\n        self.valueFromJulia[key] = false;\\n    }\\n    ko.applyBindings(self.model, self.dom);\\n}\\n);\\n    (WebIO.importBlock({\\\"data\\\":[{\\\"name\\\":\\\"knockout\\\",\\\"type\\\":\\\"js\\\",\\\"url\\\":\\\"\\/assetserver\\/727383f2a47bd31570b7da84eee7b022dd6d7c78-knockout.js\\\"},{\\\"name\\\":\\\"knockout_punches\\\",\\\"type\\\":\\\"js\\\",\\\"url\\\":\\\"\\/assetserver\\/382b41b3b1bd9f26f75861d360bad7f8beea211f-knockout_punches.js\\\"}],\\\"type\\\":\\\"async_block\\\"})).then((imports) => handler.apply(this, imports));\\n}\\n\"],\"observables\":{\"changes\":{\"sync\":false,\"id\":\"17042563421486830232\",\"value\":0},\"index\":{\"sync\":true,\"id\":\"21456362070040579\",\"value\":6}}},\"children\":[{\"props\":{\"className\":\"interact-flex-row interact-widget\"},\"nodeType\":\"DOM\",\"type\":\"node\",\"instanceArgs\":{\"namespace\":\"html\",\"tag\":\"div\"},\"children\":[{\"props\":{\"className\":\"interact-flex-row-left\"},\"nodeType\":\"DOM\",\"type\":\"node\",\"instanceArgs\":{\"namespace\":\"html\",\"tag\":\"div\"},\"children\":[{\"props\":{\"className\":\"interact \",\"style\":{\"padding\":\"5px 10px 0px 10px\"}},\"nodeType\":\"DOM\",\"type\":\"node\",\"instanceArgs\":{\"namespace\":\"html\",\"tag\":\"label\"},\"children\":[\"min_alike\"]}]},{\"props\":{\"className\":\"interact-flex-row-center\"},\"nodeType\":\"DOM\",\"type\":\"node\",\"instanceArgs\":{\"namespace\":\"html\",\"tag\":\"div\"},\"children\":[{\"props\":{\"max\":12,\"min\":1,\"attributes\":{\"type\":\"range\",\"data-bind\":\"numericValue: index, valueUpdate: 'input', event: {change: function (){this.changes(this.changes()+1)}}\",\"orient\":\"horizontal\"},\"step\":1,\"className\":\"slider slider is-fullwidth\",\"style\":{}},\"nodeType\":\"DOM\",\"type\":\"node\",\"instanceArgs\":{\"namespace\":\"html\",\"tag\":\"input\"},\"children\":[]}]},{\"props\":{\"className\":\"interact-flex-row-right\"},\"nodeType\":\"DOM\",\"type\":\"node\",\"instanceArgs\":{\"namespace\":\"html\",\"tag\":\"div\"},\"children\":[{\"props\":{\"attributes\":{\"data-bind\":\"text: formatted_val\"}},\"nodeType\":\"DOM\",\"type\":\"node\",\"instanceArgs\":{\"namespace\":\"html\",\"tag\":\"p\"},\"children\":[]}]}]}]}]}]},{\"props\":{\"style\":{\"display\":\"flex\",\"flex-direction\":\"row\"}},\"nodeType\":\"DOM\",\"type\":\"node\",\"instanceArgs\":{\"namespace\":\"html\",\"tag\":\"div\"},\"children\":[{\"props\":{\"className\":\"interact-widget\"},\"nodeType\":\"DOM\",\"type\":\"node\",\"instanceArgs\":{\"namespace\":\"html\",\"tag\":\"div\"},\"children\":[{\"props\":{},\"nodeType\":\"Scope\",\"type\":\"node\",\"instanceArgs\":{\"imports\":{\"data\":[{\"name\":null,\"type\":\"js\",\"url\":\"\\/assetserver\\/dd22ed1bf1896c2748f3fe616ce0b838adc895c1-katex.min.js\"},{\"name\":null,\"type\":\"css\",\"url\":\"\\/assetserver\\/46517a424aa5e6cffc1360d7e0848b601c584ee3-katex.min.css\"}],\"type\":\"async_block\"},\"id\":\"5614458214392895939\",\"handlers\":{\"value\":[\"(function (txt){return this.k.render(txt,this.container)})\"]},\"systemjs_options\":null,\"mount_callbacks\":[\"function () {\\n    var handler = ((function (k){this.k=k; this.container=this.dom.querySelector(\\\"#container\\\"); return k.render(\\\"\\\\\\\\;\\\\\\\\;\\\",this.container)}));\\n    (WebIO.importBlock({\\\"data\\\":[{\\\"name\\\":null,\\\"type\\\":\\\"js\\\",\\\"url\\\":\\\"\\/assetserver\\/dd22ed1bf1896c2748f3fe616ce0b838adc895c1-katex.min.js\\\"},{\\\"name\\\":null,\\\"type\\\":\\\"css\\\",\\\"url\\\":\\\"\\/assetserver\\/46517a424aa5e6cffc1360d7e0848b601c584ee3-katex.min.css\\\"}],\\\"type\\\":\\\"async_block\\\"})).then((imports) => handler.apply(this, imports));\\n}\\n\"],\"observables\":{\"value\":{\"sync\":false,\"id\":\"18028390574674088897\",\"value\":\"\\\\;\\\\;\"}}},\"children\":[{\"props\":{\"id\":\"container\"},\"nodeType\":\"DOM\",\"type\":\"node\",\"instanceArgs\":{\"namespace\":\"html\",\"tag\":\"div\"},\"children\":[]}]}]},{\"props\":{\"className\":\"field interact-widget\"},\"nodeType\":\"DOM\",\"type\":\"node\",\"instanceArgs\":{\"namespace\":\"html\",\"tag\":\"div\"},\"children\":[{\"props\":{},\"nodeType\":\"Scope\",\"type\":\"node\",\"instanceArgs\":{\"imports\":{\"data\":[{\"name\":\"knockout\",\"type\":\"js\",\"url\":\"\\/assetserver\\/727383f2a47bd31570b7da84eee7b022dd6d7c78-knockout.js\"},{\"name\":\"knockout_punches\",\"type\":\"js\",\"url\":\"\\/assetserver\\/382b41b3b1bd9f26f75861d360bad7f8beea211f-knockout_punches.js\"},{\"name\":null,\"type\":\"js\",\"url\":\"\\/assetserver\\/5ab20f1060420992a9b82a65b735dee4d81ef413-all.js\"},{\"name\":null,\"type\":\"css\",\"url\":\"\\/assetserver\\/1cc0ed62837210b80a182cc3676512f895dab686-style.css\"},{\"name\":null,\"type\":\"css\",\"url\":\"\\/assetserver\\/2eee816f616df3549d7044d45e744fbf8d42bfa1-bulma_confined.min.css\"}],\"type\":\"async_block\"},\"id\":\"8836406745621419287\",\"handlers\":{\"loading\":[\"(function (val){return (val!=this.model[\\\"loading\\\"]()) ? (this.valueFromJulia[\\\"loading\\\"]=true, this.model[\\\"loading\\\"](val)) : undefined})\"],\"clicks\":[\"(function (val){return (val!=this.model[\\\"clicks\\\"]()) ? (this.valueFromJulia[\\\"clicks\\\"]=true, this.model[\\\"clicks\\\"](val)) : undefined})\"]},\"systemjs_options\":null,\"mount_callbacks\":[\"function () {\\n    var handler = (function (ko, koPunches) {\\n    ko.punches.enableAll();\\n    ko.bindingHandlers.numericValue = {\\n        init: function(element, valueAccessor, allBindings, data, context) {\\n            var stringified = ko.observable(ko.unwrap(valueAccessor()));\\n            stringified.subscribe(function(value) {\\n                var val = parseFloat(value);\\n                if (!isNaN(val)) {\\n                    valueAccessor()(val);\\n                }\\n            });\\n            valueAccessor().subscribe(function(value) {\\n                var str = JSON.stringify(value);\\n                if ((str == \\\"0\\\") && ([\\\"-0\\\", \\\"-0.\\\"].indexOf(stringified()) >= 0))\\n                     return;\\n                 if ([\\\"null\\\", \\\"\\\"].indexOf(str) >= 0)\\n                     return;\\n                stringified(str);\\n            });\\n            ko.applyBindingsToNode(\\n                element,\\n                {\\n                    value: stringified,\\n                    valueUpdate: allBindings.get('valueUpdate'),\\n                },\\n                context,\\n            );\\n        }\\n    };\\n    var json_data = {\\\"loading\\\":WebIO.getval({\\\"name\\\":\\\"loading\\\",\\\"scope\\\":\\\"8836406745621419287\\\",\\\"id\\\":\\\"4264510498200883164\\\",\\\"type\\\":\\\"observable\\\"}),\\\"clicks\\\":WebIO.getval({\\\"name\\\":\\\"clicks\\\",\\\"scope\\\":\\\"8836406745621419287\\\",\\\"id\\\":\\\"5836798478906413298\\\",\\\"type\\\":\\\"observable\\\"})};\\n    var self = this;\\n    function AppViewModel() {\\n        for (var key in json_data) {\\n            var el = json_data[key];\\n            this[key] = Array.isArray(el) ? ko.observableArray(el) : ko.observable(el);\\n        }\\n        \\n        \\n        [this[\\\"loading\\\"].subscribe((function (val){!(this.valueFromJulia[\\\"loading\\\"]) ? (WebIO.setval({\\\"name\\\":\\\"loading\\\",\\\"scope\\\":\\\"8836406745621419287\\\",\\\"id\\\":\\\"4264510498200883164\\\",\\\"type\\\":\\\"observable\\\"},val)) : undefined; return this.valueFromJulia[\\\"loading\\\"]=false}),self),this[\\\"clicks\\\"].subscribe((function (val){!(this.valueFromJulia[\\\"clicks\\\"]) ? (WebIO.setval({\\\"name\\\":\\\"clicks\\\",\\\"scope\\\":\\\"8836406745621419287\\\",\\\"id\\\":\\\"5836798478906413298\\\",\\\"type\\\":\\\"observable\\\"},val)) : undefined; return this.valueFromJulia[\\\"clicks\\\"]=false}),self)]\\n        \\n    }\\n    self.model = new AppViewModel();\\n    self.valueFromJulia = {};\\n    for (var key in json_data) {\\n        self.valueFromJulia[key] = false;\\n    }\\n    ko.applyBindings(self.model, self.dom);\\n}\\n);\\n    (WebIO.importBlock({\\\"data\\\":[{\\\"name\\\":\\\"knockout\\\",\\\"type\\\":\\\"js\\\",\\\"url\\\":\\\"\\/assetserver\\/727383f2a47bd31570b7da84eee7b022dd6d7c78-knockout.js\\\"},{\\\"name\\\":\\\"knockout_punches\\\",\\\"type\\\":\\\"js\\\",\\\"url\\\":\\\"\\/assetserver\\/382b41b3b1bd9f26f75861d360bad7f8beea211f-knockout_punches.js\\\"}],\\\"type\\\":\\\"async_block\\\"})).then((imports) => handler.apply(this, imports));\\n}\\n\"],\"observables\":{\"loading\":{\"sync\":false,\"id\":\"4264510498200883164\",\"value\":false},\"clicks\":{\"sync\":true,\"id\":\"5836798478906413298\",\"value\":0}}},\"children\":[{\"props\":{\"attributes\":{\"data-bind\":\"click: function (){this.clicks(this.clicks()+1)}, css: {'is-loading' : loading}\"},\"className\":\"is-medium button is-primary\",\"style\":{}},\"nodeType\":\"DOM\",\"type\":\"node\",\"instanceArgs\":{\"namespace\":\"html\",\"tag\":\"button\"},\"children\":[\"run\"]}]}]},{\"props\":{\"className\":\"interact-widget\"},\"nodeType\":\"DOM\",\"type\":\"node\",\"instanceArgs\":{\"namespace\":\"html\",\"tag\":\"div\"},\"children\":[{\"props\":{},\"nodeType\":\"Scope\",\"type\":\"node\",\"instanceArgs\":{\"imports\":{\"data\":[{\"name\":null,\"type\":\"js\",\"url\":\"\\/assetserver\\/dd22ed1bf1896c2748f3fe616ce0b838adc895c1-katex.min.js\"},{\"name\":null,\"type\":\"css\",\"url\":\"\\/assetserver\\/46517a424aa5e6cffc1360d7e0848b601c584ee3-katex.min.css\"}],\"type\":\"async_block\"},\"id\":\"5614458214392895939\",\"handlers\":{\"value\":[\"(function (txt){return this.k.render(txt,this.container)})\"]},\"systemjs_options\":null,\"mount_callbacks\":[\"function () {\\n    var handler = ((function (k){this.k=k; this.container=this.dom.querySelector(\\\"#container\\\"); return k.render(\\\"\\\\\\\\;\\\\\\\\;\\\",this.container)}));\\n    (WebIO.importBlock({\\\"data\\\":[{\\\"name\\\":null,\\\"type\\\":\\\"js\\\",\\\"url\\\":\\\"\\/assetserver\\/dd22ed1bf1896c2748f3fe616ce0b838adc895c1-katex.min.js\\\"},{\\\"name\\\":null,\\\"type\\\":\\\"css\\\",\\\"url\\\":\\\"\\/assetserver\\/46517a424aa5e6cffc1360d7e0848b601c584ee3-katex.min.css\\\"}],\\\"type\\\":\\\"async_block\\\"})).then((imports) => handler.apply(this, imports));\\n}\\n\"],\"observables\":{\"value\":{\"sync\":false,\"id\":\"18028390574674088897\",\"value\":\"\\\\;\\\\;\"}}},\"children\":[{\"props\":{\"id\":\"container\"},\"nodeType\":\"DOM\",\"type\":\"node\",\"instanceArgs\":{\"namespace\":\"html\",\"tag\":\"div\"},\"children\":[]}]}]},{\"props\":{\"className\":\"field interact-widget\"},\"nodeType\":\"DOM\",\"type\":\"node\",\"instanceArgs\":{\"namespace\":\"html\",\"tag\":\"div\"},\"children\":[{\"props\":{},\"nodeType\":\"Scope\",\"type\":\"node\",\"instanceArgs\":{\"imports\":{\"data\":[{\"name\":\"knockout\",\"type\":\"js\",\"url\":\"\\/assetserver\\/727383f2a47bd31570b7da84eee7b022dd6d7c78-knockout.js\"},{\"name\":\"knockout_punches\",\"type\":\"js\",\"url\":\"\\/assetserver\\/382b41b3b1bd9f26f75861d360bad7f8beea211f-knockout_punches.js\"},{\"name\":null,\"type\":\"js\",\"url\":\"\\/assetserver\\/5ab20f1060420992a9b82a65b735dee4d81ef413-all.js\"},{\"name\":null,\"type\":\"css\",\"url\":\"\\/assetserver\\/1cc0ed62837210b80a182cc3676512f895dab686-style.css\"},{\"name\":null,\"type\":\"css\",\"url\":\"\\/assetserver\\/2eee816f616df3549d7044d45e744fbf8d42bfa1-bulma_confined.min.css\"}],\"type\":\"async_block\"},\"id\":\"4505731229092274972\",\"handlers\":{\"loading\":[\"(function (val){return (val!=this.model[\\\"loading\\\"]()) ? (this.valueFromJulia[\\\"loading\\\"]=true, this.model[\\\"loading\\\"](val)) : undefined})\"],\"clicks\":[\"(function (val){return (val!=this.model[\\\"clicks\\\"]()) ? (this.valueFromJulia[\\\"clicks\\\"]=true, this.model[\\\"clicks\\\"](val)) : undefined})\"]},\"systemjs_options\":null,\"mount_callbacks\":[\"function () {\\n    var handler = (function (ko, koPunches) {\\n    ko.punches.enableAll();\\n    ko.bindingHandlers.numericValue = {\\n        init: function(element, valueAccessor, allBindings, data, context) {\\n            var stringified = ko.observable(ko.unwrap(valueAccessor()));\\n            stringified.subscribe(function(value) {\\n                var val = parseFloat(value);\\n                if (!isNaN(val)) {\\n                    valueAccessor()(val);\\n                }\\n            });\\n            valueAccessor().subscribe(function(value) {\\n                var str = JSON.stringify(value);\\n                if ((str == \\\"0\\\") && ([\\\"-0\\\", \\\"-0.\\\"].indexOf(stringified()) >= 0))\\n                     return;\\n                 if ([\\\"null\\\", \\\"\\\"].indexOf(str) >= 0)\\n                     return;\\n                stringified(str);\\n            });\\n            ko.applyBindingsToNode(\\n                element,\\n                {\\n                    value: stringified,\\n                    valueUpdate: allBindings.get('valueUpdate'),\\n                },\\n                context,\\n            );\\n        }\\n    };\\n    var json_data = {\\\"loading\\\":WebIO.getval({\\\"name\\\":\\\"loading\\\",\\\"scope\\\":\\\"4505731229092274972\\\",\\\"id\\\":\\\"14928944198550161475\\\",\\\"type\\\":\\\"observable\\\"}),\\\"clicks\\\":WebIO.getval({\\\"name\\\":\\\"clicks\\\",\\\"scope\\\":\\\"4505731229092274972\\\",\\\"id\\\":\\\"16773438859335468578\\\",\\\"type\\\":\\\"observable\\\"})};\\n    var self = this;\\n    function AppViewModel() {\\n        for (var key in json_data) {\\n            var el = json_data[key];\\n            this[key] = Array.isArray(el) ? ko.observableArray(el) : ko.observable(el);\\n        }\\n        \\n        \\n        [this[\\\"loading\\\"].subscribe((function (val){!(this.valueFromJulia[\\\"loading\\\"]) ? (WebIO.setval({\\\"name\\\":\\\"loading\\\",\\\"scope\\\":\\\"4505731229092274972\\\",\\\"id\\\":\\\"14928944198550161475\\\",\\\"type\\\":\\\"observable\\\"},val)) : undefined; return this.valueFromJulia[\\\"loading\\\"]=false}),self),this[\\\"clicks\\\"].subscribe((function (val){!(this.valueFromJulia[\\\"clicks\\\"]) ? (WebIO.setval({\\\"name\\\":\\\"clicks\\\",\\\"scope\\\":\\\"4505731229092274972\\\",\\\"id\\\":\\\"16773438859335468578\\\",\\\"type\\\":\\\"observable\\\"},val)) : undefined; return this.valueFromJulia[\\\"clicks\\\"]=false}),self)]\\n        \\n    }\\n    self.model = new AppViewModel();\\n    self.valueFromJulia = {};\\n    for (var key in json_data) {\\n        self.valueFromJulia[key] = false;\\n    }\\n    ko.applyBindings(self.model, self.dom);\\n}\\n);\\n    (WebIO.importBlock({\\\"data\\\":[{\\\"name\\\":\\\"knockout\\\",\\\"type\\\":\\\"js\\\",\\\"url\\\":\\\"\\/assetserver\\/727383f2a47bd31570b7da84eee7b022dd6d7c78-knockout.js\\\"},{\\\"name\\\":\\\"knockout_punches\\\",\\\"type\\\":\\\"js\\\",\\\"url\\\":\\\"\\/assetserver\\/382b41b3b1bd9f26f75861d360bad7f8beea211f-knockout_punches.js\\\"}],\\\"type\\\":\\\"async_block\\\"})).then((imports) => handler.apply(this, imports));\\n}\\n\"],\"observables\":{\"loading\":{\"sync\":false,\"id\":\"14928944198550161475\",\"value\":false},\"clicks\":{\"sync\":true,\"id\":\"16773438859335468578\",\"value\":0}}},\"children\":[{\"props\":{\"attributes\":{\"data-bind\":\"click: function (){this.clicks(this.clicks()+1)}, css: {'is-loading' : loading}\"},\"className\":\"is-medium button is-primary\",\"style\":{}},\"nodeType\":\"DOM\",\"type\":\"node\",\"instanceArgs\":{\"namespace\":\"html\",\"tag\":\"button\"},\"children\":[\"stop\"]}]}]},{\"props\":{\"className\":\"interact-widget\"},\"nodeType\":\"DOM\",\"type\":\"node\",\"instanceArgs\":{\"namespace\":\"html\",\"tag\":\"div\"},\"children\":[{\"props\":{},\"nodeType\":\"Scope\",\"type\":\"node\",\"instanceArgs\":{\"imports\":{\"data\":[{\"name\":null,\"type\":\"js\",\"url\":\"\\/assetserver\\/dd22ed1bf1896c2748f3fe616ce0b838adc895c1-katex.min.js\"},{\"name\":null,\"type\":\"css\",\"url\":\"\\/assetserver\\/46517a424aa5e6cffc1360d7e0848b601c584ee3-katex.min.css\"}],\"type\":\"async_block\"},\"id\":\"5614458214392895939\",\"handlers\":{\"value\":[\"(function (txt){return this.k.render(txt,this.container)})\"]},\"systemjs_options\":null,\"mount_callbacks\":[\"function () {\\n    var handler = ((function (k){this.k=k; this.container=this.dom.querySelector(\\\"#container\\\"); return k.render(\\\"\\\\\\\\;\\\\\\\\;\\\",this.container)}));\\n    (WebIO.importBlock({\\\"data\\\":[{\\\"name\\\":null,\\\"type\\\":\\\"js\\\",\\\"url\\\":\\\"\\/assetserver\\/dd22ed1bf1896c2748f3fe616ce0b838adc895c1-katex.min.js\\\"},{\\\"name\\\":null,\\\"type\\\":\\\"css\\\",\\\"url\\\":\\\"\\/assetserver\\/46517a424aa5e6cffc1360d7e0848b601c584ee3-katex.min.css\\\"}],\\\"type\\\":\\\"async_block\\\"})).then((imports) => handler.apply(this, imports));\\n}\\n\"],\"observables\":{\"value\":{\"sync\":false,\"id\":\"18028390574674088897\",\"value\":\"\\\\;\\\\;\"}}},\"children\":[{\"props\":{\"id\":\"container\"},\"nodeType\":\"DOM\",\"type\":\"node\",\"instanceArgs\":{\"namespace\":\"html\",\"tag\":\"div\"},\"children\":[]}]}]},{\"props\":{\"className\":\"field interact-widget\"},\"nodeType\":\"DOM\",\"type\":\"node\",\"instanceArgs\":{\"namespace\":\"html\",\"tag\":\"div\"},\"children\":[{\"props\":{},\"nodeType\":\"Scope\",\"type\":\"node\",\"instanceArgs\":{\"imports\":{\"data\":[{\"name\":\"knockout\",\"type\":\"js\",\"url\":\"\\/assetserver\\/727383f2a47bd31570b7da84eee7b022dd6d7c78-knockout.js\"},{\"name\":\"knockout_punches\",\"type\":\"js\",\"url\":\"\\/assetserver\\/382b41b3b1bd9f26f75861d360bad7f8beea211f-knockout_punches.js\"},{\"name\":null,\"type\":\"js\",\"url\":\"\\/assetserver\\/5ab20f1060420992a9b82a65b735dee4d81ef413-all.js\"},{\"name\":null,\"type\":\"css\",\"url\":\"\\/assetserver\\/1cc0ed62837210b80a182cc3676512f895dab686-style.css\"},{\"name\":null,\"type\":\"css\",\"url\":\"\\/assetserver\\/2eee816f616df3549d7044d45e744fbf8d42bfa1-bulma_confined.min.css\"}],\"type\":\"async_block\"},\"id\":\"4584164571121125839\",\"handlers\":{\"loading\":[\"(function (val){return (val!=this.model[\\\"loading\\\"]()) ? (this.valueFromJulia[\\\"loading\\\"]=true, this.model[\\\"loading\\\"](val)) : undefined})\"],\"clicks\":[\"(function (val){return (val!=this.model[\\\"clicks\\\"]()) ? (this.valueFromJulia[\\\"clicks\\\"]=true, this.model[\\\"clicks\\\"](val)) : undefined})\"]},\"systemjs_options\":null,\"mount_callbacks\":[\"function () {\\n    var handler = (function (ko, koPunches) {\\n    ko.punches.enableAll();\\n    ko.bindingHandlers.numericValue = {\\n        init: function(element, valueAccessor, allBindings, data, context) {\\n            var stringified = ko.observable(ko.unwrap(valueAccessor()));\\n            stringified.subscribe(function(value) {\\n                var val = parseFloat(value);\\n                if (!isNaN(val)) {\\n                    valueAccessor()(val);\\n                }\\n            });\\n            valueAccessor().subscribe(function(value) {\\n                var str = JSON.stringify(value);\\n                if ((str == \\\"0\\\") && ([\\\"-0\\\", \\\"-0.\\\"].indexOf(stringified()) >= 0))\\n                     return;\\n                 if ([\\\"null\\\", \\\"\\\"].indexOf(str) >= 0)\\n                     return;\\n                stringified(str);\\n            });\\n            ko.applyBindingsToNode(\\n                element,\\n                {\\n                    value: stringified,\\n                    valueUpdate: allBindings.get('valueUpdate'),\\n                },\\n                context,\\n            );\\n        }\\n    };\\n    var json_data = {\\\"loading\\\":WebIO.getval({\\\"name\\\":\\\"loading\\\",\\\"scope\\\":\\\"4584164571121125839\\\",\\\"id\\\":\\\"13203191469519354658\\\",\\\"type\\\":\\\"observable\\\"}),\\\"clicks\\\":WebIO.getval({\\\"name\\\":\\\"clicks\\\",\\\"scope\\\":\\\"4584164571121125839\\\",\\\"id\\\":\\\"14240239803065708329\\\",\\\"type\\\":\\\"observable\\\"})};\\n    var self = this;\\n    function AppViewModel() {\\n        for (var key in json_data) {\\n            var el = json_data[key];\\n            this[key] = Array.isArray(el) ? ko.observableArray(el) : ko.observable(el);\\n        }\\n        \\n        \\n        [this[\\\"loading\\\"].subscribe((function (val){!(this.valueFromJulia[\\\"loading\\\"]) ? (WebIO.setval({\\\"name\\\":\\\"loading\\\",\\\"scope\\\":\\\"4584164571121125839\\\",\\\"id\\\":\\\"13203191469519354658\\\",\\\"type\\\":\\\"observable\\\"},val)) : undefined; return this.valueFromJulia[\\\"loading\\\"]=false}),self),this[\\\"clicks\\\"].subscribe((function (val){!(this.valueFromJulia[\\\"clicks\\\"]) ? (WebIO.setval({\\\"name\\\":\\\"clicks\\\",\\\"scope\\\":\\\"4584164571121125839\\\",\\\"id\\\":\\\"14240239803065708329\\\",\\\"type\\\":\\\"observable\\\"},val)) : undefined; return this.valueFromJulia[\\\"clicks\\\"]=false}),self)]\\n        \\n    }\\n    self.model = new AppViewModel();\\n    self.valueFromJulia = {};\\n    for (var key in json_data) {\\n        self.valueFromJulia[key] = false;\\n    }\\n    ko.applyBindings(self.model, self.dom);\\n}\\n);\\n    (WebIO.importBlock({\\\"data\\\":[{\\\"name\\\":\\\"knockout\\\",\\\"type\\\":\\\"js\\\",\\\"url\\\":\\\"\\/assetserver\\/727383f2a47bd31570b7da84eee7b022dd6d7c78-knockout.js\\\"},{\\\"name\\\":\\\"knockout_punches\\\",\\\"type\\\":\\\"js\\\",\\\"url\\\":\\\"\\/assetserver\\/382b41b3b1bd9f26f75861d360bad7f8beea211f-knockout_punches.js\\\"}],\\\"type\\\":\\\"async_block\\\"})).then((imports) => handler.apply(this, imports));\\n}\\n\"],\"observables\":{\"loading\":{\"sync\":false,\"id\":\"13203191469519354658\",\"value\":false},\"clicks\":{\"sync\":true,\"id\":\"14240239803065708329\",\"value\":0}}},\"children\":[{\"props\":{\"attributes\":{\"data-bind\":\"click: function (){this.clicks(this.clicks()+1)}, css: {'is-loading' : loading}\"},\"className\":\"is-medium button is-primary\",\"style\":{}},\"nodeType\":\"DOM\",\"type\":\"node\",\"instanceArgs\":{\"namespace\":\"html\",\"tag\":\"button\"},\"children\":[\"reset\"]}]}]}]}]},{\"props\":{},\"nodeType\":\"Scope\",\"type\":\"node\",\"instanceArgs\":{\"imports\":{\"data\":[],\"type\":\"async_block\"},\"id\":\"7538809745934179742\",\"handlers\":{\"obs-output\":[\"function (value, scope) {\\n    scope.setInnerHTML(value);\\n}\\n\"]},\"systemjs_options\":null,\"mount_callbacks\":[],\"observables\":{\"obs-output\":{\"sync\":false,\"id\":\"6022031255105375327\",\"value\":\"    <div style=\\\"height: 500px; width: 100%; overflow-x: auto; overflow-y: hidden; resize: both\\\">\\n    <iframe src=\\\"http:\\/\\/127.0.0.1:8702\\\" style=\\\"width: 100%; height: 100%; border: none\\\"><\\/iframe>\\n    <\\/div>\\n\"}}},\"children\":[{\"props\":{\"className\":\"webio-observable\",\"setInnerHtml\":\"    <div style=\\\"height: 500px; width: 100%; overflow-x: auto; overflow-y: hidden; resize: both\\\">\\n    <iframe src=\\\"http:\\/\\/127.0.0.1:8702\\\" style=\\\"width: 100%; height: 100%; border: none\\\"><\\/iframe>\\n    <\\/div>\\n\"},\"nodeType\":\"DOM\",\"type\":\"node\",\"instanceArgs\":{\"namespace\":\"html\",\"tag\":\"div\"},\"children\":[]}]},{\"props\":{\"className\":\"interact-widget\"},\"nodeType\":\"DOM\",\"type\":\"node\",\"instanceArgs\":{\"namespace\":\"html\",\"tag\":\"div\"},\"children\":[{\"props\":{},\"nodeType\":\"Scope\",\"type\":\"node\",\"instanceArgs\":{\"imports\":{\"data\":[{\"name\":null,\"type\":\"js\",\"url\":\"\\/assetserver\\/dd22ed1bf1896c2748f3fe616ce0b838adc895c1-katex.min.js\"},{\"name\":null,\"type\":\"css\",\"url\":\"\\/assetserver\\/46517a424aa5e6cffc1360d7e0848b601c584ee3-katex.min.css\"}],\"type\":\"async_block\"},\"id\":\"5614458214392895939\",\"handlers\":{\"value\":[\"(function (txt){return this.k.render(txt,this.container)})\"]},\"systemjs_options\":null,\"mount_callbacks\":[\"function () {\\n    var handler = ((function (k){this.k=k; this.container=this.dom.querySelector(\\\"#container\\\"); return k.render(\\\"\\\\\\\\;\\\\\\\\;\\\",this.container)}));\\n    (WebIO.importBlock({\\\"data\\\":[{\\\"name\\\":null,\\\"type\\\":\\\"js\\\",\\\"url\\\":\\\"\\/assetserver\\/dd22ed1bf1896c2748f3fe616ce0b838adc895c1-katex.min.js\\\"},{\\\"name\\\":null,\\\"type\\\":\\\"css\\\",\\\"url\\\":\\\"\\/assetserver\\/46517a424aa5e6cffc1360d7e0848b601c584ee3-katex.min.css\\\"}],\\\"type\\\":\\\"async_block\\\"})).then((imports) => handler.apply(this, imports));\\n}\\n\"],\"observables\":{\"value\":{\"sync\":false,\"id\":\"18028390574674088897\",\"value\":\"\\\\;\\\\;\"}}},\"children\":[{\"props\":{\"id\":\"container\"},\"nodeType\":\"DOM\",\"type\":\"node\",\"instanceArgs\":{\"namespace\":\"html\",\"tag\":\"div\"},\"children\":[]}]}]},{\"props\":{\"style\":{\"display\":\"flex\",\"flex-direction\":\"column\"}},\"nodeType\":\"DOM\",\"type\":\"node\",\"instanceArgs\":{\"namespace\":\"html\",\"tag\":\"div\"},\"children\":[{\"props\":{},\"nodeType\":\"Scope\",\"type\":\"node\",\"instanceArgs\":{\"imports\":{\"data\":[],\"type\":\"async_block\"},\"id\":\"18182878843807977426\",\"handlers\":{\"obs-output\":[\"function (value, scope) {\\n    scope.setInnerHTML(value);\\n}\\n\"]},\"systemjs_options\":null,\"mount_callbacks\":[],\"observables\":{\"obs-output\":{\"sync\":false,\"id\":\"9964269397176511261\",\"value\":\"<img src=\\\"data:image\\/png;base64,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\\\" \\/>\"}}},\"children\":[{\"props\":{\"className\":\"webio-observable\",\"setInnerHtml\":\"<img src=\\\"data:image\\/png;base64,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\\\" \\/>\"},\"nodeType\":\"DOM\",\"type\":\"node\",\"instanceArgs\":{\"namespace\":\"html\",\"tag\":\"div\"},\"children\":[]}]}]}]}]},\n",
       "        window,\n",
       "    );\n",
       "    })()\n",
       "    </script>\n",
       "</div>\n"
      ],
      "text/plain": [
       "WebIO.Node{WebIO.DOM}(WebIO.DOM(:html, :div), Any[WebIO.Node{WebIO.DOM}(WebIO.DOM(:html, :div), Any[WebIO.Node{WebIO.DOM}(WebIO.DOM(:html, :div), Any[WebIO.Node{WebIO.DOM}(WebIO.DOM(:html, :div), Any[WebIO.Scope(WebIO.Node{WebIO.DOM}(WebIO.DOM(:html, :div), Any[WebIO.Node{WebIO.DOM}(WebIO.DOM(:html, :div), Any[WebIO.Node{WebIO.DOM}(WebIO.DOM(:html, :label), Any[\"time\"], Dict{Symbol, Any}(:className => \"interact \", :style => Dict{Any, Any}(:padding => \"5px 10px 0px 10px\")))], Dict{Symbol, Any}(:className => \"interact-flex-row-left\")), WebIO.Node{WebIO.DOM}(WebIO.DOM(:html, :div), Any[WebIO.Node{WebIO.DOM}(WebIO.DOM(:html, :input), Any[], Dict{Symbol, Any}(:max => 200, :min => 1, :attributes => Dict{Any, Any}(:type => \"range\", Symbol(\"data-bind\") => \"numericValue: index, valueUpdate: 'input', event: {change: function (){this.changes(this.changes()+1)}}\", \"orient\" => \"horizontal\"), :step => 1, :className => \"slider slider is-fullwidth\", :style => Dict{Any, Any}()))], Dict{Symbol, Any}(:className => \"interact-flex-row-center\")), WebIO.Node{WebIO.DOM}(WebIO.DOM(:html, :div), Any[WebIO.Node{WebIO.DOM}(WebIO.DOM(:html, :p), Any[], Dict{Symbol, Any}(:attributes => Dict(\"data-bind\" => \"text: formatted_val\")))], Dict{Symbol, Any}(:className => \"interact-flex-row-right\"))], Dict{Symbol, Any}(:className => \"interact-flex-row interact-widget\")), Dict{String, Tuple{Observables.AbstractObservable, Union{Nothing, Bool}}}(\"changes\" => (Observable(0), nothing), \"index\" => (Observable(1), nothing)), Set{String}(), nothing, WebIO.Asset[WebIO.Asset(\"js\", \"knockout\", \"/home/dushya/.julia/packages/Knockout/HReiN/src/../assets/knockout.js\"), WebIO.Asset(\"js\", \"knockout_punches\", \"/home/dushya/.julia/packages/Knockout/HReiN/src/../assets/knockout_punches.js\"), WebIO.Asset(\"js\", nothing, \"/home/dushya/.julia/packages/InteractBase/LJXv3/src/../assets/all.js\"), WebIO.Asset(\"css\", nothing, \"/home/dushya/.julia/packages/InteractBase/LJXv3/src/../assets/style.css\"), WebIO.Asset(\"css\", nothing, \"/home/dushya/.julia/packages/Interact/PENUy/src/../assets/bulma_confined.min.css\")], Dict{Any, Any}(\"changes\" => Any[WebIO.JSString(\"(function (val){return (val!=this.model[\\\"changes\\\"]()) ? (this.valueFromJulia[\\\"changes\\\"]=true, this.model[\\\"changes\\\"](val)) : undefined})\")], \"index\" => Any[WebIO.JSString(\"(function (val){return (val!=this.model[\\\"index\\\"]()) ? (this.valueFromJulia[\\\"index\\\"]=true, this.model[\\\"index\\\"](val)) : undefined})\")]), WebIO.ConnectionPool(Channel{Any}(32), Set{WebIO.AbstractConnection}(), Base.GenericCondition{ReentrantLock}(Base.IntrusiveLinkedList{Task}(Task (runnable) @0x00007fa06157cc90, Task (runnable) @0x00007fa06157cc90), ReentrantLock(nothing, 0x00000000, 0x00, Base.GenericCondition{Base.Threads.SpinLock}(Base.IntrusiveLinkedList{Task}(nothing, nothing), Base.Threads.SpinLock(0)), (2, 140325849864896, 140325843086352)))), WebIO.JSString[WebIO.JSString(\"function () {\\n    var handler = (function (ko, koPunches) {\\n    ko.punches.enableAll();\\n    ko.bindingHandlers.numericValue = {\\n        init: function(element, valueAccessor, allBindings, data, context) {\\n            var stringified = ko.observable(ko.unwrap(valueAccessor()));\\n            stringified.subscribe(function(value) {\\n                var val = parseFloat(value);\\n                if (!isNaN(val)) {\\n                    valueAccessor()(val);\\n                }\\n            });\\n            valueAccessor().subscribe(function(value) {\\n                var str = JSON.stringify(value);\\n                if ((str == \\\"0\\\") && ([\\\"-0\\\", \\\"-0.\\\"].indexOf(stringified()) >= 0))\\n                     return;\\n                 if ([\\\"null\\\", \\\"\\\"].indexOf(str) >= 0)\\n                     return;\\n                stringified(str);\\n            });\\n            ko.applyBindingsToNode(\\n                element,\\n                {\\n                    value: stringified,\\n                    valueUpdate: allBindings.get('valueUpdate'),\\n                },\\n                context,\\n            );\\n        }\\n    };\\n    var json_data = {\\\"formatted_vals\\\":[\\\"1\\\",\\\"2\\\",\\\"3\\\",\\\"4\\\",\\\"5\\\",\\\"6\\\",\\\"7\\\",\\\"8\\\",\\\"9\\\",\\\"10\\\",\\\"11\\\",\\\"12\\\",\\\"13\\\",\\\"14\\\",\\\"15\\\",\\\"16\\\",\\\"17\\\",\\\"18\\\",\\\"19\\\",\\\"20\\\",\\\"21\\\",\\\"22\\\",\\\"23\\\",\\\"24\\\",\\\"25\\\",\\\"26\\\",\\\"27\\\",\\\"28\\\",\\\"29\\\",\\\"30\\\",\\\"31\\\",\\\"32\\\",\\\"33\\\",\\\"34\\\",\\\"35\\\",\\\"36\\\",\\\"37\\\",\\\"38\\\",\\\"39\\\",\\\"40\\\",\\\"41\\\",\\\"42\\\",\\\"43\\\",\\\"44\\\",\\\"45\\\",\\\"46\\\",\\\"47\\\",\\\"48\\\",\\\"49\\\",\\\"50\\\",\\\"51\\\",\\\"52\\\",\\\"53\\\",\\\"54\\\",\\\"55\\\",\\\"56\\\",\\\"57\\\",\\\"58\\\",\\\"59\\\",\\\"60\\\",\\\"61\\\",\\\"62\\\",\\\"63\\\",\\\"64\\\",\\\"65\\\",\\\"66\\\",\\\"67\\\",\\\"68\\\",\\\"69\\\",\\\"70\\\",\\\"71\\\",\\\"72\\\",\\\"73\\\",\\\"74\\\",\\\"75\\\",\\\"76\\\",\\\"77\\\",\\\"78\\\",\\\"79\\\",\\\"80\\\",\\\"81\\\",\\\"82\\\",\\\"83\\\",\\\"84\\\",\\\"85\\\",\\\"86\\\",\\\"87\\\",\\\"88\\\",\\\"89\\\",\\\"90\\\",\\\"91\\\",\\\"92\\\",\\\"93\\\",\\\"94\\\",\\\"95\\\",\\\"96\\\",\\\"97\\\",\\\"98\\\",\\\"99\\\",\\\"100\\\",\\\"101\\\",\\\"102\\\",\\\"103\\\",\\\"104\\\",\\\"105\\\",\\\"106\\\",\\\"107\\\",\\\"108\\\",\\\"109\\\",\\\"110\\\",\\\"111\\\",\\\"112\\\",\\\"113\\\",\\\"114\\\",\\\"115\\\",\\\"116\\\",\\\"117\\\",\\\"118\\\",\\\"119\\\",\\\"120\\\",\\\"121\\\",\\\"122\\\",\\\"123\\\",\\\"124\\\",\\\"125\\\",\\\"126\\\",\\\"127\\\",\\\"128\\\",\\\"129\\\",\\\"130\\\",\\\"131\\\",\\\"132\\\",\\\"133\\\",\\\"134\\\",\\\"135\\\",\\\"136\\\",\\\"137\\\",\\\"138\\\",\\\"139\\\",\\\"140\\\",\\\"141\\\",\\\"142\\\",\\\"143\\\",\\\"144\\\",\\\"145\\\",\\\"146\\\",\\\"147\\\",\\\"148\\\",\\\"149\\\",\\\"150\\\",\\\"151\\\",\\\"152\\\",\\\"153\\\",\\\"154\\\",\\\"155\\\",\\\"156\\\",\\\"157\\\",\\\"158\\\",\\\"159\\\",\\\"160\\\",\\\"161\\\",\\\"162\\\",\\\"163\\\",\\\"164\\\",\\\"165\\\",\\\"166\\\",\\\"167\\\",\\\"168\\\",\\\"169\\\",\\\"170\\\",\\\"171\\\",\\\"172\\\",\\\"173\\\",\\\"174\\\",\\\"175\\\",\\\"176\\\",\\\"177\\\",\\\"178\\\",\\\"179\\\",\\\"180\\\",\\\"181\\\",\\\"182\\\",\\\"183\\\",\\\"184\\\",\\\"185\\\",\\\"186\\\",\\\"187\\\",\\\"188\\\",\\\"189\\\",\\\"190\\\",\\\"191\\\",\\\"192\\\",\\\"193\\\",\\\"194\\\",\\\"195\\\",\\\"196\\\",\\\"197\\\",\\\"198\\\",\\\"199\\\",\\\"200\\\"],\\\"changes\\\":WebIO.getval({\\\"name\\\":\\\"changes\\\",\\\"scope\\\":\\\"14173607717456648057\\\",\\\"id\\\":\\\"7826452503590142536\\\",\\\"type\\\":\\\"observable\\\"}),\\\"index\\\":WebIO.getval({\\\"name\\\":\\\"index\\\",\\\"scope\\\":\\\"14173607717456648057\\\",\\\"id\\\":\\\"14544271673276370933\\\",\\\"type\\\":\\\"observable\\\"})};\\n    var self = this;\\n    function AppViewModel() {\\n        for (var key in json_data) {\\n            var el = json_data[key];\\n            this[key] = Array.isArray(el) ? ko.observableArray(el) : ko.observable(el);\\n        }\\n        \\n        [this[\\\"formatted_val\\\"]=ko.computed(    function(){\\n        return this.formatted_vals()[parseInt(this.index())-(1)];\\n    }\\n,this)]\\n        [this[\\\"changes\\\"].subscribe((function (val){!(this.valueFromJulia[\\\"changes\\\"]) ? (WebIO.setval({\\\"name\\\":\\\"changes\\\",\\\"scope\\\":\\\"14173607717456648057\\\",\\\"id\\\":\\\"7826452503590142536\\\",\\\"type\\\":\\\"observable\\\"},val)) : undefined; return this.valueFromJulia[\\\"changes\\\"]=false}),self),this[\\\"index\\\"].subscribe((function (val){!(this.valueFromJulia[\\\"index\\\"]) ? (WebIO.setval({\\\"name\\\":\\\"index\\\",\\\"scope\\\":\\\"14173607717456648057\\\",\\\"id\\\":\\\"14544271673276370933\\\",\\\"type\\\":\\\"observable\\\"},val)) : undefined; return this.valueFromJulia[\\\"index\\\"]=false}),self)]\\n        \\n    }\\n    self.model = new AppViewModel();\\n    self.valueFromJulia = {};\\n    for (var key in json_data) {\\n        self.valueFromJulia[key] = false;\\n    }\\n    ko.applyBindings(self.model, self.dom);\\n}\\n);\\n    (WebIO.importBlock({\\\"data\\\":[{\\\"name\\\":\\\"knockout\\\",\\\"type\\\":\\\"js\\\",\\\"url\\\":\\\"/assetserver/727383f2a47bd31570b7da84eee7b022dd6d7c78-knockout.js\\\"},{\\\"name\\\":\\\"knockout_punches\\\",\\\"type\\\":\\\"js\\\",\\\"url\\\":\\\"/assetserver/382b41b3b1bd9f26f75861d360bad7f8beea211f-knockout_punches.js\\\"}],\\\"type\\\":\\\"async_block\\\"})).then((imports) => handler.apply(this, imports));\\n}\\n\")])], Dict{Symbol, Any}(:className => \"field interact-widget\")), WebIO.Node{WebIO.DOM}(WebIO.DOM(:html, :div), Any[WebIO.Scope(WebIO.Node{WebIO.DOM}(WebIO.DOM(:html, :div), Any[WebIO.Node{WebIO.DOM}(WebIO.DOM(:html, :div), Any[WebIO.Node{WebIO.DOM}(WebIO.DOM(:html, :label), Any[\"scale\"], Dict{Symbol, Any}(:className => \"interact \", :style => Dict{Any, Any}(:padding => \"5px 10px 0px 10px\")))], Dict{Symbol, Any}(:className => \"interact-flex-row-left\")), WebIO.Node{WebIO.DOM}(WebIO.DOM(:html, :div), Any[WebIO.Node{WebIO.DOM}(WebIO.DOM(:html, :input), Any[], Dict{Symbol, Any}(:max => 20, :min => 1, :attributes => Dict{Any, Any}(:type => \"range\", Symbol(\"data-bind\") => \"numericValue: index, valueUpdate: 'input', event: {change: function (){this.changes(this.changes()+1)}}\", \"orient\" => \"horizontal\"), :step => 1, :className => \"slider slider is-fullwidth\", :style => Dict{Any, Any}()))], Dict{Symbol, Any}(:className => \"interact-flex-row-center\")), WebIO.Node{WebIO.DOM}(WebIO.DOM(:html, :div), Any[WebIO.Node{WebIO.DOM}(WebIO.DOM(:html, :p), Any[], Dict{Symbol, Any}(:attributes => Dict(\"data-bind\" => \"text: formatted_val\")))], Dict{Symbol, Any}(:className => \"interact-flex-row-right\"))], Dict{Symbol, Any}(:className => \"interact-flex-row interact-widget\")), Dict{String, Tuple{Observables.AbstractObservable, Union{Nothing, Bool}}}(\"changes\" => (Observable(0), nothing), \"index\" => (Observable{Any}(10), nothing)), Set{String}(), nothing, WebIO.Asset[WebIO.Asset(\"js\", \"knockout\", \"/home/dushya/.julia/packages/Knockout/HReiN/src/../assets/knockout.js\"), WebIO.Asset(\"js\", \"knockout_punches\", \"/home/dushya/.julia/packages/Knockout/HReiN/src/../assets/knockout_punches.js\"), WebIO.Asset(\"js\", nothing, \"/home/dushya/.julia/packages/InteractBase/LJXv3/src/../assets/all.js\"), WebIO.Asset(\"css\", nothing, \"/home/dushya/.julia/packages/InteractBase/LJXv3/src/../assets/style.css\"), WebIO.Asset(\"css\", nothing, \"/home/dushya/.julia/packages/Interact/PENUy/src/../assets/bulma_confined.min.css\")], Dict{Any, Any}(\"changes\" => Any[WebIO.JSString(\"(function (val){return (val!=this.model[\\\"changes\\\"]()) ? (this.valueFromJulia[\\\"changes\\\"]=true, this.model[\\\"changes\\\"](val)) : undefined})\")], \"index\" => Any[WebIO.JSString(\"(function (val){return (val!=this.model[\\\"index\\\"]()) ? (this.valueFromJulia[\\\"index\\\"]=true, this.model[\\\"index\\\"](val)) : undefined})\")]), WebIO.ConnectionPool(Channel{Any}(32), Set{WebIO.AbstractConnection}(), Base.GenericCondition{ReentrantLock}(Base.IntrusiveLinkedList{Task}(Task (runnable) @0x00007fa06157fb70, Task (runnable) @0x00007fa06157fb70), ReentrantLock(nothing, 0x00000000, 0x00, Base.GenericCondition{Base.Threads.SpinLock}(Base.IntrusiveLinkedList{Task}(nothing, nothing), Base.Threads.SpinLock(0)), (2, 140325744247552, 140327552867600)))), WebIO.JSString[WebIO.JSString(\"function () {\\n    var handler = (function (ko, koPunches) {\\n    ko.punches.enableAll();\\n    ko.bindingHandlers.numericValue = {\\n        init: function(element, valueAccessor, allBindings, data, context) {\\n            var stringified = ko.observable(ko.unwrap(valueAccessor()));\\n            stringified.subscribe(function(value) {\\n                var val = parseFloat(value);\\n                if (!isNaN(val)) {\\n                    valueAccessor()(val);\\n                }\\n            });\\n            valueAccessor().subscribe(function(value) {\\n                var str = JSON.stringify(value);\\n                if ((str == \\\"0\\\") && ([\\\"-0\\\", \\\"-0.\\\"].indexOf(stringified()) >= 0))\\n                     return;\\n                 if ([\\\"null\\\", \\\"\\\"].indexOf(str) >= 0)\\n                     return;\\n                stringified(str);\\n            });\\n            ko.applyBindingsToNode(\\n                element,\\n                {\\n                    value: stringified,\\n                    valueUpdate: allBindings.get('valueUpdate'),\\n                },\\n                context,\\n            );\\n        }\\n    };\\n    var json_data = {\\\"formatted_vals\\\":[\\\"0.1\\\",\\\"0.2\\\",\\\"0.3\\\",\\\"0.4\\\",\\\"0.5\\\",\\\"0.6\\\",\\\"0.7\\\",\\\"0.8\\\",\\\"0.9\\\",\\\"1.0\\\",\\\"1.1\\\",\\\"1.2\\\",\\\"1.3\\\",\\\"1.4\\\",\\\"1.5\\\",\\\"1.6\\\",\\\"1.7\\\",\\\"1.8\\\",\\\"1.9\\\",\\\"2.0\\\"],\\\"changes\\\":WebIO.getval({\\\"name\\\":\\\"changes\\\",\\\"scope\\\":\\\"4718157550003677382\\\",\\\"id\\\":\\\"8874227181292236425\\\",\\\"type\\\":\\\"observable\\\"}),\\\"index\\\":WebIO.getval({\\\"name\\\":\\\"index\\\",\\\"scope\\\":\\\"4718157550003677382\\\",\\\"id\\\":\\\"8023542842736359069\\\",\\\"type\\\":\\\"observable\\\"})};\\n    var self = this;\\n    function AppViewModel() {\\n        for (var key in json_data) {\\n            var el = json_data[key];\\n            this[key] = Array.isArray(el) ? ko.observableArray(el) : ko.observable(el);\\n        }\\n        \\n        [this[\\\"formatted_val\\\"]=ko.computed(    function(){\\n        return this.formatted_vals()[parseInt(this.index())-(1)];\\n    }\\n,this)]\\n        [this[\\\"changes\\\"].subscribe((function (val){!(this.valueFromJulia[\\\"changes\\\"]) ? (WebIO.setval({\\\"name\\\":\\\"changes\\\",\\\"scope\\\":\\\"4718157550003677382\\\",\\\"id\\\":\\\"8874227181292236425\\\",\\\"type\\\":\\\"observable\\\"},val)) : undefined; return this.valueFromJulia[\\\"changes\\\"]=false}),self),this[\\\"index\\\"].subscribe((function (val){!(this.valueFromJulia[\\\"index\\\"]) ? (WebIO.setval({\\\"name\\\":\\\"index\\\",\\\"scope\\\":\\\"4718157550003677382\\\",\\\"id\\\":\\\"8023542842736359069\\\",\\\"type\\\":\\\"observable\\\"},val)) : undefined; return this.valueFromJulia[\\\"index\\\"]=false}),self)]\\n        \\n    }\\n    self.model = new AppViewModel();\\n    self.valueFromJulia = {};\\n    for (var key in json_data) {\\n        self.valueFromJulia[key] = false;\\n    }\\n    ko.applyBindings(self.model, self.dom);\\n}\\n);\\n    (WebIO.importBlock({\\\"data\\\":[{\\\"name\\\":\\\"knockout\\\",\\\"type\\\":\\\"js\\\",\\\"url\\\":\\\"/assetserver/727383f2a47bd31570b7da84eee7b022dd6d7c78-knockout.js\\\"},{\\\"name\\\":\\\"knockout_punches\\\",\\\"type\\\":\\\"js\\\",\\\"url\\\":\\\"/assetserver/382b41b3b1bd9f26f75861d360bad7f8beea211f-knockout_punches.js\\\"}],\\\"type\\\":\\\"async_block\\\"})).then((imports) => handler.apply(this, imports));\\n}\\n\")])], Dict{Symbol, Any}(:className => \"field interact-widget\")), WebIO.Node{WebIO.DOM}(WebIO.DOM(:html, :div), Any[], Dict{Symbol, Any}(:style => Dict(\"display\" => \"flex\", \"flex-direction\" => \"column\"))), WebIO.Node{WebIO.DOM}(WebIO.DOM(:html, :div), Any[WebIO.Node{WebIO.DOM}(WebIO.DOM(:html, :div), Any[WebIO.Scope(WebIO.Node{WebIO.DOM}(WebIO.DOM(:html, :div), Any[WebIO.Node{WebIO.DOM}(WebIO.DOM(:html, :div), Any[WebIO.Node{WebIO.DOM}(WebIO.DOM(:html, :label), Any[\"min_alike\"], Dict{Symbol, Any}(:className => \"interact \", :style => Dict{Any, Any}(:padding => \"5px 10px 0px 10px\")))], Dict{Symbol, Any}(:className => \"interact-flex-row-left\")), WebIO.Node{WebIO.DOM}(WebIO.DOM(:html, :div), Any[WebIO.Node{WebIO.DOM}(WebIO.DOM(:html, :input), Any[], Dict{Symbol, Any}(:max => 12, :min => 1, :attributes => Dict{Any, Any}(:type => \"range\", Symbol(\"data-bind\") => \"numericValue: index, valueUpdate: 'input', event: {change: function (){this.changes(this.changes()+1)}}\", \"orient\" => \"horizontal\"), :step => 1, :className => \"slider slider is-fullwidth\", :style => Dict{Any, Any}()))], Dict{Symbol, Any}(:className => \"interact-flex-row-center\")), WebIO.Node{WebIO.DOM}(WebIO.DOM(:html, :div), Any[WebIO.Node{WebIO.DOM}(WebIO.DOM(:html, :p), Any[], Dict{Symbol, Any}(:attributes => Dict(\"data-bind\" => \"text: formatted_val\")))], Dict{Symbol, Any}(:className => \"interact-flex-row-right\"))], Dict{Symbol, Any}(:className => \"interact-flex-row interact-widget\")), Dict{String, Tuple{Observables.AbstractObservable, Union{Nothing, Bool}}}(\"changes\" => (Observable(0), nothing), \"index\" => (Observable(6), nothing)), Set{String}(), nothing, WebIO.Asset[WebIO.Asset(\"js\", \"knockout\", \"/home/dushya/.julia/packages/Knockout/HReiN/src/../assets/knockout.js\"), WebIO.Asset(\"js\", \"knockout_punches\", \"/home/dushya/.julia/packages/Knockout/HReiN/src/../assets/knockout_punches.js\"), WebIO.Asset(\"js\", nothing, \"/home/dushya/.julia/packages/InteractBase/LJXv3/src/../assets/all.js\"), WebIO.Asset(\"css\", nothing, \"/home/dushya/.julia/packages/InteractBase/LJXv3/src/../assets/style.css\"), WebIO.Asset(\"css\", nothing, \"/home/dushya/.julia/packages/Interact/PENUy/src/../assets/bulma_confined.min.css\")], Dict{Any, Any}(\"changes\" => Any[WebIO.JSString(\"(function (val){return (val!=this.model[\\\"changes\\\"]()) ? (this.valueFromJulia[\\\"changes\\\"]=true, this.model[\\\"changes\\\"](val)) : undefined})\")], \"index\" => Any[WebIO.JSString(\"(function (val){return (val!=this.model[\\\"index\\\"]()) ? (this.valueFromJulia[\\\"index\\\"]=true, this.model[\\\"index\\\"](val)) : undefined})\")]), WebIO.ConnectionPool(Channel{Any}(32), Set{WebIO.AbstractConnection}(), Base.GenericCondition{ReentrantLock}(Base.IntrusiveLinkedList{Task}(Task (runnable) @0x00007fa061610fb0, Task (runnable) @0x00007fa061610fb0), ReentrantLock(nothing, 0x00000000, 0x00, Base.GenericCondition{Base.Threads.SpinLock}(Base.IntrusiveLinkedList{Task}(nothing, nothing), Base.Threads.SpinLock(0)), (8, 140327467707680, 0)))), WebIO.JSString[WebIO.JSString(\"function () {\\n    var handler = (function (ko, koPunches) {\\n    ko.punches.enableAll();\\n    ko.bindingHandlers.numericValue = {\\n        init: function(element, valueAccessor, allBindings, data, context) {\\n            var stringified = ko.observable(ko.unwrap(valueAccessor()));\\n            stringified.subscribe(function(value) {\\n                var val = parseFloat(value);\\n                if (!isNaN(val)) {\\n                    valueAccessor()(val);\\n                }\\n            });\\n            valueAccessor().subscribe(function(value) {\\n                var str = JSON.stringify(value);\\n                if ((str == \\\"0\\\") && ([\\\"-0\\\", \\\"-0.\\\"].indexOf(stringified()) >= 0))\\n                     return;\\n                 if ([\\\"null\\\", \\\"\\\"].indexOf(str) >= 0)\\n                     return;\\n                stringified(str);\\n            });\\n            ko.applyBindingsToNode(\\n                element,\\n                {\\n                    value: stringified,\\n                    valueUpdate: allBindings.get('valueUpdate'),\\n                },\\n                context,\\n            );\\n        }\\n    };\\n    var json_data = {\\\"formatted_vals\\\":[\\\"1\\\",\\\"2\\\",\\\"3\\\",\\\"4\\\",\\\"5\\\",\\\"6\\\",\\\"7\\\",\\\"8\\\",\\\"9\\\",\\\"10\\\",\\\"11\\\",\\\"12\\\"],\\\"changes\\\":WebIO.getval({\\\"name\\\":\\\"changes\\\",\\\"scope\\\":\\\"3680287751938071528\\\",\\\"id\\\":\\\"17042563421486830232\\\",\\\"type\\\":\\\"observable\\\"}),\\\"index\\\":WebIO.getval({\\\"name\\\":\\\"index\\\",\\\"scope\\\":\\\"3680287751938071528\\\",\\\"id\\\":\\\"21456362070040579\\\",\\\"type\\\":\\\"observable\\\"})};\\n    var self = this;\\n    function AppViewModel() {\\n        for (var key in json_data) {\\n            var el = json_data[key];\\n            this[key] = Array.isArray(el) ? ko.observableArray(el) : ko.observable(el);\\n        }\\n        \\n        [this[\\\"formatted_val\\\"]=ko.computed(    function(){\\n        return this.formatted_vals()[parseInt(this.index())-(1)];\\n    }\\n,this)]\\n        [this[\\\"changes\\\"].subscribe((function (val){!(this.valueFromJulia[\\\"changes\\\"]) ? (WebIO.setval({\\\"name\\\":\\\"changes\\\",\\\"scope\\\":\\\"3680287751938071528\\\",\\\"id\\\":\\\"17042563421486830232\\\",\\\"type\\\":\\\"observable\\\"},val)) : undefined; return this.valueFromJulia[\\\"changes\\\"]=false}),self),this[\\\"index\\\"].subscribe((function (val){!(this.valueFromJulia[\\\"index\\\"]) ? (WebIO.setval({\\\"name\\\":\\\"index\\\",\\\"scope\\\":\\\"3680287751938071528\\\",\\\"id\\\":\\\"21456362070040579\\\",\\\"type\\\":\\\"observable\\\"},val)) : undefined; return this.valueFromJulia[\\\"index\\\"]=false}),self)]\\n        \\n    }\\n    self.model = new AppViewModel();\\n    self.valueFromJulia = {};\\n    for (var key in json_data) {\\n        self.valueFromJulia[key] = false;\\n    }\\n    ko.applyBindings(self.model, self.dom);\\n}\\n);\\n    (WebIO.importBlock({\\\"data\\\":[{\\\"name\\\":\\\"knockout\\\",\\\"type\\\":\\\"js\\\",\\\"url\\\":\\\"/assetserver/727383f2a47bd31570b7da84eee7b022dd6d7c78-knockout.js\\\"},{\\\"name\\\":\\\"knockout_punches\\\",\\\"type\\\":\\\"js\\\",\\\"url\\\":\\\"/assetserver/382b41b3b1bd9f26f75861d360bad7f8beea211f-knockout_punches.js\\\"}],\\\"type\\\":\\\"async_block\\\"})).then((imports) => handler.apply(this, imports));\\n}\\n\")])], Dict{Symbol, Any}(:className => \"field interact-widget\"))], Dict{Symbol, Any}(:style => Dict(\"display\" => \"flex\", \"flex-direction\" => \"column\"))), WebIO.Node{WebIO.DOM}(WebIO.DOM(:html, :div), Any[WebIO.Node{WebIO.DOM}(WebIO.DOM(:html, :div), Any[WebIO.Scope(WebIO.Node{WebIO.DOM}(WebIO.DOM(:html, :div), Any[], Dict{Symbol, Any}(:id => \"container\")), Dict{String, Tuple{Observables.AbstractObservable, Union{Nothing, Bool}}}(\"value\" => (Observable(\"\\\\;\\\\;\"), nothing)), Set{String}(), nothing, WebIO.Asset[WebIO.Asset(\"js\", nothing, \"/home/dushya/.julia/packages/InteractBase/LJXv3/src/../assets/katex.min.js\"), WebIO.Asset(\"css\", nothing, \"/home/dushya/.julia/packages/InteractBase/LJXv3/src/../assets/katex.min.css\")], Dict{Any, Any}(\"value\" => Any[WebIO.JSString(\"(function (txt){return this.k.render(txt,this.container)})\")]), WebIO.ConnectionPool(Channel{Any}(32), Set{WebIO.AbstractConnection}(), Base.GenericCondition{ReentrantLock}(Base.IntrusiveLinkedList{Task}(Task (runnable) @0x00007fa06152f850, Task (runnable) @0x00007fa06152f850), ReentrantLock(nothing, 0x00000000, 0x00, Base.GenericCondition{Base.Threads.SpinLock}(Base.IntrusiveLinkedList{Task}(nothing, nothing), Base.Threads.SpinLock(0)), (2, 140325710538624, 140325710538752)))), WebIO.JSString[WebIO.JSString(\"function () {\\n    var handler = ((function (k){this.k=k; this.container=this.dom.querySelector(\\\"#container\\\"); return k.render(\\\"\\\\\\\\;\\\\\\\\;\\\",this.container)}));\\n    (WebIO.importBlock({\\\"data\\\":[{\\\"name\\\":null,\\\"type\\\":\\\"js\\\",\\\"url\\\":\\\"/assetserver/dd22ed1bf1896c2748f3fe616ce0b838adc895c1-katex.min.js\\\"},{\\\"name\\\":null,\\\"type\\\":\\\"css\\\",\\\"url\\\":\\\"/assetserver/46517a424aa5e6cffc1360d7e0848b601c584ee3-katex.min.css\\\"}],\\\"type\\\":\\\"async_block\\\"})).then((imports) => handler.apply(this, imports));\\n}\\n\")])], Dict{Symbol, Any}(:className => \"interact-widget\")), WebIO.Node{WebIO.DOM}(WebIO.DOM(:html, :div), Any[WebIO.Scope(WebIO.Node{WebIO.DOM}(WebIO.DOM(:html, :button), Any[\"run\"], Dict{Symbol, Any}(:attributes => Dict{Any, Any}(\"data-bind\" => \"click: function (){this.clicks(this.clicks()+1)}, css: {'is-loading' : loading}\"), :className => \"is-medium button is-primary\", :style => Dict{String, Any}())), Dict{String, Tuple{Observables.AbstractObservable, Union{Nothing, Bool}}}(\"loading\" => (Observable(false), nothing), \"clicks\" => (Observable(0), nothing)), Set{String}(), nothing, WebIO.Asset[WebIO.Asset(\"js\", \"knockout\", \"/home/dushya/.julia/packages/Knockout/HReiN/src/../assets/knockout.js\"), WebIO.Asset(\"js\", \"knockout_punches\", \"/home/dushya/.julia/packages/Knockout/HReiN/src/../assets/knockout_punches.js\"), WebIO.Asset(\"js\", nothing, \"/home/dushya/.julia/packages/InteractBase/LJXv3/src/../assets/all.js\"), WebIO.Asset(\"css\", nothing, \"/home/dushya/.julia/packages/InteractBase/LJXv3/src/../assets/style.css\"), WebIO.Asset(\"css\", nothing, \"/home/dushya/.julia/packages/Interact/PENUy/src/../assets/bulma_confined.min.css\")], Dict{Any, Any}(\"loading\" => Any[WebIO.JSString(\"(function (val){return (val!=this.model[\\\"loading\\\"]()) ? (this.valueFromJulia[\\\"loading\\\"]=true, this.model[\\\"loading\\\"](val)) : undefined})\")], \"clicks\" => Any[WebIO.JSString(\"(function (val){return (val!=this.model[\\\"clicks\\\"]()) ? (this.valueFromJulia[\\\"clicks\\\"]=true, this.model[\\\"clicks\\\"](val)) : undefined})\")]), WebIO.ConnectionPool(Channel{Any}(32), Set{WebIO.AbstractConnection}(), Base.GenericCondition{ReentrantLock}(Base.IntrusiveLinkedList{Task}(Task (runnable) @0x00007fa061613d00, Task (runnable) @0x00007fa061613d00), ReentrantLock(nothing, 0x00000000, 0x00, Base.GenericCondition{Base.Threads.SpinLock}(Base.IntrusiveLinkedList{Task}(nothing, nothing), Base.Threads.SpinLock(0)), (2, 140325758697472, 0)))), WebIO.JSString[WebIO.JSString(\"function () {\\n    var handler = (function (ko, koPunches) {\\n    ko.punches.enableAll();\\n    ko.bindingHandlers.numericValue = {\\n        init: function(element, valueAccessor, allBindings, data, context) {\\n            var stringified = ko.observable(ko.unwrap(valueAccessor()));\\n            stringified.subscribe(function(value) {\\n                var val = parseFloat(value);\\n                if (!isNaN(val)) {\\n                    valueAccessor()(val);\\n                }\\n            });\\n            valueAccessor().subscribe(function(value) {\\n                var str = JSON.stringify(value);\\n                if ((str == \\\"0\\\") && ([\\\"-0\\\", \\\"-0.\\\"].indexOf(stringified()) >= 0))\\n                     return;\\n                 if ([\\\"null\\\", \\\"\\\"].indexOf(str) >= 0)\\n                     return;\\n                stringified(str);\\n            });\\n            ko.applyBindingsToNode(\\n                element,\\n                {\\n                    value: stringified,\\n                    valueUpdate: allBindings.get('valueUpdate'),\\n                },\\n                context,\\n            );\\n        }\\n    };\\n    var json_data = {\\\"loading\\\":WebIO.getval({\\\"name\\\":\\\"loading\\\",\\\"scope\\\":\\\"8836406745621419287\\\",\\\"id\\\":\\\"4264510498200883164\\\",\\\"type\\\":\\\"observable\\\"}),\\\"clicks\\\":WebIO.getval({\\\"name\\\":\\\"clicks\\\",\\\"scope\\\":\\\"8836406745621419287\\\",\\\"id\\\":\\\"5836798478906413298\\\",\\\"type\\\":\\\"observable\\\"})};\\n    var self = this;\\n    function AppViewModel() {\\n        for (var key in json_data) {\\n            var el = json_data[key];\\n            this[key] = Array.isArray(el) ? ko.observableArray(el) : ko.observable(el);\\n        }\\n        \\n        \\n        [this[\\\"loading\\\"].subscribe((function (val){!(this.valueFromJulia[\\\"loading\\\"]) ? (WebIO.setval({\\\"name\\\":\\\"loading\\\",\\\"scope\\\":\\\"8836406745621419287\\\",\\\"id\\\":\\\"4264510498200883164\\\",\\\"type\\\":\\\"observable\\\"},val)) : undefined; return this.valueFromJulia[\\\"loading\\\"]=false}),self),this[\\\"clicks\\\"].subscribe((function (val){!(this.valueFromJulia[\\\"clicks\\\"]) ? (WebIO.setval({\\\"name\\\":\\\"clicks\\\",\\\"scope\\\":\\\"8836406745621419287\\\",\\\"id\\\":\\\"5836798478906413298\\\",\\\"type\\\":\\\"observable\\\"},val)) : undefined; return this.valueFromJulia[\\\"clicks\\\"]=false}),self)]\\n        \\n    }\\n    self.model = new AppViewModel();\\n    self.valueFromJulia = {};\\n    for (var key in json_data) {\\n        self.valueFromJulia[key] = false;\\n    }\\n    ko.applyBindings(self.model, self.dom);\\n}\\n);\\n    (WebIO.importBlock({\\\"data\\\":[{\\\"name\\\":\\\"knockout\\\",\\\"type\\\":\\\"js\\\",\\\"url\\\":\\\"/assetserver/727383f2a47bd31570b7da84eee7b022dd6d7c78-knockout.js\\\"},{\\\"name\\\":\\\"knockout_punches\\\",\\\"type\\\":\\\"js\\\",\\\"url\\\":\\\"/assetserver/382b41b3b1bd9f26f75861d360bad7f8beea211f-knockout_punches.js\\\"}],\\\"type\\\":\\\"async_block\\\"})).then((imports) => handler.apply(this, imports));\\n}\\n\")])], Dict{Symbol, Any}(:className => \"field interact-widget\")), WebIO.Node{WebIO.DOM}(WebIO.DOM(:html, :div), Any[WebIO.Scope(WebIO.Node{WebIO.DOM}(WebIO.DOM(:html, :div), Any[], Dict{Symbol, Any}(:id => \"container\")), Dict{String, Tuple{Observables.AbstractObservable, Union{Nothing, Bool}}}(\"value\" => (Observable(\"\\\\;\\\\;\"), nothing)), Set{String}(), nothing, WebIO.Asset[WebIO.Asset(\"js\", nothing, \"/home/dushya/.julia/packages/InteractBase/LJXv3/src/../assets/katex.min.js\"), WebIO.Asset(\"css\", nothing, \"/home/dushya/.julia/packages/InteractBase/LJXv3/src/../assets/katex.min.css\")], Dict{Any, Any}(\"value\" => Any[WebIO.JSString(\"(function (txt){return this.k.render(txt,this.container)})\")]), WebIO.ConnectionPool(Channel{Any}(32), Set{WebIO.AbstractConnection}(), Base.GenericCondition{ReentrantLock}(Base.IntrusiveLinkedList{Task}(Task (runnable) @0x00007fa06152f850, Task (runnable) @0x00007fa06152f850), ReentrantLock(nothing, 0x00000000, 0x00, Base.GenericCondition{Base.Threads.SpinLock}(Base.IntrusiveLinkedList{Task}(nothing, nothing), Base.Threads.SpinLock(0)), (2, 140325710538624, 140325710538752)))), WebIO.JSString[WebIO.JSString(\"function () {\\n    var handler = ((function (k){this.k=k; this.container=this.dom.querySelector(\\\"#container\\\"); return k.render(\\\"\\\\\\\\;\\\\\\\\;\\\",this.container)}));\\n    (WebIO.importBlock({\\\"data\\\":[{\\\"name\\\":null,\\\"type\\\":\\\"js\\\",\\\"url\\\":\\\"/assetserver/dd22ed1bf1896c2748f3fe616ce0b838adc895c1-katex.min.js\\\"},{\\\"name\\\":null,\\\"type\\\":\\\"css\\\",\\\"url\\\":\\\"/assetserver/46517a424aa5e6cffc1360d7e0848b601c584ee3-katex.min.css\\\"}],\\\"type\\\":\\\"async_block\\\"})).then((imports) => handler.apply(this, imports));\\n}\\n\")])], Dict{Symbol, Any}(:className => \"interact-widget\")), WebIO.Node{WebIO.DOM}(WebIO.DOM(:html, :div), Any[WebIO.Scope(WebIO.Node{WebIO.DOM}(WebIO.DOM(:html, :button), Any[\"stop\"], Dict{Symbol, Any}(:attributes => Dict{Any, Any}(\"data-bind\" => \"click: function (){this.clicks(this.clicks()+1)}, css: {'is-loading' : loading}\"), :className => \"is-medium button is-primary\", :style => Dict{String, Any}())), Dict{String, Tuple{Observables.AbstractObservable, Union{Nothing, Bool}}}(\"loading\" => (Observable(false), nothing), \"clicks\" => (Observable(0), nothing)), Set{String}(), nothing, WebIO.Asset[WebIO.Asset(\"js\", \"knockout\", \"/home/dushya/.julia/packages/Knockout/HReiN/src/../assets/knockout.js\"), WebIO.Asset(\"js\", \"knockout_punches\", \"/home/dushya/.julia/packages/Knockout/HReiN/src/../assets/knockout_punches.js\"), WebIO.Asset(\"js\", nothing, \"/home/dushya/.julia/packages/InteractBase/LJXv3/src/../assets/all.js\"), WebIO.Asset(\"css\", nothing, \"/home/dushya/.julia/packages/InteractBase/LJXv3/src/../assets/style.css\"), WebIO.Asset(\"css\", nothing, \"/home/dushya/.julia/packages/Interact/PENUy/src/../assets/bulma_confined.min.css\")], Dict{Any, Any}(\"loading\" => Any[WebIO.JSString(\"(function (val){return (val!=this.model[\\\"loading\\\"]()) ? (this.valueFromJulia[\\\"loading\\\"]=true, this.model[\\\"loading\\\"](val)) : undefined})\")], \"clicks\" => Any[WebIO.JSString(\"(function (val){return (val!=this.model[\\\"clicks\\\"]()) ? (this.valueFromJulia[\\\"clicks\\\"]=true, this.model[\\\"clicks\\\"](val)) : undefined})\")]), WebIO.ConnectionPool(Channel{Any}(32), Set{WebIO.AbstractConnection}(), Base.GenericCondition{ReentrantLock}(Base.IntrusiveLinkedList{Task}(Task (runnable) @0x00007fa06166e720, Task (runnable) @0x00007fa06166e720), ReentrantLock(nothing, 0x00000000, 0x00, Base.GenericCondition{Base.Threads.SpinLock}(Base.IntrusiveLinkedList{Task}(nothing, nothing), Base.Threads.SpinLock(0)), (2, 140325744257744, 140325744257392)))), WebIO.JSString[WebIO.JSString(\"function () {\\n    var handler = (function (ko, koPunches) {\\n    ko.punches.enableAll();\\n    ko.bindingHandlers.numericValue = {\\n        init: function(element, valueAccessor, allBindings, data, context) {\\n            var stringified = ko.observable(ko.unwrap(valueAccessor()));\\n            stringified.subscribe(function(value) {\\n                var val = parseFloat(value);\\n                if (!isNaN(val)) {\\n                    valueAccessor()(val);\\n                }\\n            });\\n            valueAccessor().subscribe(function(value) {\\n                var str = JSON.stringify(value);\\n                if ((str == \\\"0\\\") && ([\\\"-0\\\", \\\"-0.\\\"].indexOf(stringified()) >= 0))\\n                     return;\\n                 if ([\\\"null\\\", \\\"\\\"].indexOf(str) >= 0)\\n                     return;\\n                stringified(str);\\n            });\\n            ko.applyBindingsToNode(\\n                element,\\n                {\\n                    value: stringified,\\n                    valueUpdate: allBindings.get('valueUpdate'),\\n                },\\n                context,\\n            );\\n        }\\n    };\\n    var json_data = {\\\"loading\\\":WebIO.getval({\\\"name\\\":\\\"loading\\\",\\\"scope\\\":\\\"4505731229092274972\\\",\\\"id\\\":\\\"14928944198550161475\\\",\\\"type\\\":\\\"observable\\\"}),\\\"clicks\\\":WebIO.getval({\\\"name\\\":\\\"clicks\\\",\\\"scope\\\":\\\"4505731229092274972\\\",\\\"id\\\":\\\"16773438859335468578\\\",\\\"type\\\":\\\"observable\\\"})};\\n    var self = this;\\n    function AppViewModel() {\\n        for (var key in json_data) {\\n            var el = json_data[key];\\n            this[key] = Array.isArray(el) ? ko.observableArray(el) : ko.observable(el);\\n        }\\n        \\n        \\n        [this[\\\"loading\\\"].subscribe((function (val){!(this.valueFromJulia[\\\"loading\\\"]) ? (WebIO.setval({\\\"name\\\":\\\"loading\\\",\\\"scope\\\":\\\"4505731229092274972\\\",\\\"id\\\":\\\"14928944198550161475\\\",\\\"type\\\":\\\"observable\\\"},val)) : undefined; return this.valueFromJulia[\\\"loading\\\"]=false}),self),this[\\\"clicks\\\"].subscribe((function (val){!(this.valueFromJulia[\\\"clicks\\\"]) ? (WebIO.setval({\\\"name\\\":\\\"clicks\\\",\\\"scope\\\":\\\"4505731229092274972\\\",\\\"id\\\":\\\"16773438859335468578\\\",\\\"type\\\":\\\"observable\\\"},val)) : undefined; return this.valueFromJulia[\\\"clicks\\\"]=false}),self)]\\n        \\n    }\\n    self.model = new AppViewModel();\\n    self.valueFromJulia = {};\\n    for (var key in json_data) {\\n        self.valueFromJulia[key] = false;\\n    }\\n    ko.applyBindings(self.model, self.dom);\\n}\\n);\\n    (WebIO.importBlock({\\\"data\\\":[{\\\"name\\\":\\\"knockout\\\",\\\"type\\\":\\\"js\\\",\\\"url\\\":\\\"/assetserver/727383f2a47bd31570b7da84eee7b022dd6d7c78-knockout.js\\\"},{\\\"name\\\":\\\"knockout_punches\\\",\\\"type\\\":\\\"js\\\",\\\"url\\\":\\\"/assetserver/382b41b3b1bd9f26f75861d360bad7f8beea211f-knockout_punches.js\\\"}],\\\"type\\\":\\\"async_block\\\"})).then((imports) => handler.apply(this, imports));\\n}\\n\")])], Dict{Symbol, Any}(:className => \"field interact-widget\")), WebIO.Node{WebIO.DOM}(WebIO.DOM(:html, :div), Any[WebIO.Scope(WebIO.Node{WebIO.DOM}(WebIO.DOM(:html, :div), Any[], Dict{Symbol, Any}(:id => \"container\")), Dict{String, Tuple{Observables.AbstractObservable, Union{Nothing, Bool}}}(\"value\" => (Observable(\"\\\\;\\\\;\"), nothing)), Set{String}(), nothing, WebIO.Asset[WebIO.Asset(\"js\", nothing, \"/home/dushya/.julia/packages/InteractBase/LJXv3/src/../assets/katex.min.js\"), WebIO.Asset(\"css\", nothing, \"/home/dushya/.julia/packages/InteractBase/LJXv3/src/../assets/katex.min.css\")], Dict{Any, Any}(\"value\" => Any[WebIO.JSString(\"(function (txt){return this.k.render(txt,this.container)})\")]), WebIO.ConnectionPool(Channel{Any}(32), Set{WebIO.AbstractConnection}(), Base.GenericCondition{ReentrantLock}(Base.IntrusiveLinkedList{Task}(Task (runnable) @0x00007fa06152f850, Task (runnable) @0x00007fa06152f850), ReentrantLock(nothing, 0x00000000, 0x00, Base.GenericCondition{Base.Threads.SpinLock}(Base.IntrusiveLinkedList{Task}(nothing, nothing), Base.Threads.SpinLock(0)), (2, 140325710538624, 140325710538752)))), WebIO.JSString[WebIO.JSString(\"function () {\\n    var handler = ((function (k){this.k=k; this.container=this.dom.querySelector(\\\"#container\\\"); return k.render(\\\"\\\\\\\\;\\\\\\\\;\\\",this.container)}));\\n    (WebIO.importBlock({\\\"data\\\":[{\\\"name\\\":null,\\\"type\\\":\\\"js\\\",\\\"url\\\":\\\"/assetserver/dd22ed1bf1896c2748f3fe616ce0b838adc895c1-katex.min.js\\\"},{\\\"name\\\":null,\\\"type\\\":\\\"css\\\",\\\"url\\\":\\\"/assetserver/46517a424aa5e6cffc1360d7e0848b601c584ee3-katex.min.css\\\"}],\\\"type\\\":\\\"async_block\\\"})).then((imports) => handler.apply(this, imports));\\n}\\n\")])], Dict{Symbol, Any}(:className => \"interact-widget\")), WebIO.Node{WebIO.DOM}(WebIO.DOM(:html, :div), Any[WebIO.Scope(WebIO.Node{WebIO.DOM}(WebIO.DOM(:html, :button), Any[\"reset\"], Dict{Symbol, Any}(:attributes => Dict{Any, Any}(\"data-bind\" => \"click: function (){this.clicks(this.clicks()+1)}, css: {'is-loading' : loading}\"), :className => \"is-medium button is-primary\", :style => Dict{String, Any}())), Dict{String, Tuple{Observables.AbstractObservable, Union{Nothing, Bool}}}(\"loading\" => (Observable(false), nothing), \"clicks\" => (Observable(0), nothing)), Set{String}(), nothing, WebIO.Asset[WebIO.Asset(\"js\", \"knockout\", \"/home/dushya/.julia/packages/Knockout/HReiN/src/../assets/knockout.js\"), WebIO.Asset(\"js\", \"knockout_punches\", \"/home/dushya/.julia/packages/Knockout/HReiN/src/../assets/knockout_punches.js\"), WebIO.Asset(\"js\", nothing, \"/home/dushya/.julia/packages/InteractBase/LJXv3/src/../assets/all.js\"), WebIO.Asset(\"css\", nothing, \"/home/dushya/.julia/packages/InteractBase/LJXv3/src/../assets/style.css\"), WebIO.Asset(\"css\", nothing, \"/home/dushya/.julia/packages/Interact/PENUy/src/../assets/bulma_confined.min.css\")], Dict{Any, Any}(\"loading\" => Any[WebIO.JSString(\"(function (val){return (val!=this.model[\\\"loading\\\"]()) ? (this.valueFromJulia[\\\"loading\\\"]=true, this.model[\\\"loading\\\"](val)) : undefined})\")], \"clicks\" => Any[WebIO.JSString(\"(function (val){return (val!=this.model[\\\"clicks\\\"]()) ? (this.valueFromJulia[\\\"clicks\\\"]=true, this.model[\\\"clicks\\\"](val)) : undefined})\")]), WebIO.ConnectionPool(Channel{Any}(32), Set{WebIO.AbstractConnection}(), Base.GenericCondition{ReentrantLock}(Base.IntrusiveLinkedList{Task}(Task (runnable) @0x00007fa0616c4fb0, Task (runnable) @0x00007fa0616c4fb0), ReentrantLock(nothing, 0x00000000, 0x00, Base.GenericCondition{Base.Threads.SpinLock}(Base.IntrusiveLinkedList{Task}(nothing, nothing), Base.Threads.SpinLock(0)), (0, 0, 141733920768)))), WebIO.JSString[WebIO.JSString(\"function () {\\n    var handler = (function (ko, koPunches) {\\n    ko.punches.enableAll();\\n    ko.bindingHandlers.numericValue = {\\n        init: function(element, valueAccessor, allBindings, data, context) {\\n            var stringified = ko.observable(ko.unwrap(valueAccessor()));\\n            stringified.subscribe(function(value) {\\n                var val = parseFloat(value);\\n                if (!isNaN(val)) {\\n                    valueAccessor()(val);\\n                }\\n            });\\n            valueAccessor().subscribe(function(value) {\\n                var str = JSON.stringify(value);\\n                if ((str == \\\"0\\\") && ([\\\"-0\\\", \\\"-0.\\\"].indexOf(stringified()) >= 0))\\n                     return;\\n                 if ([\\\"null\\\", \\\"\\\"].indexOf(str) >= 0)\\n                     return;\\n                stringified(str);\\n            });\\n            ko.applyBindingsToNode(\\n                element,\\n                {\\n                    value: stringified,\\n                    valueUpdate: allBindings.get('valueUpdate'),\\n                },\\n                context,\\n            );\\n        }\\n    };\\n    var json_data = {\\\"loading\\\":WebIO.getval({\\\"name\\\":\\\"loading\\\",\\\"scope\\\":\\\"4584164571121125839\\\",\\\"id\\\":\\\"13203191469519354658\\\",\\\"type\\\":\\\"observable\\\"}),\\\"clicks\\\":WebIO.getval({\\\"name\\\":\\\"clicks\\\",\\\"scope\\\":\\\"4584164571121125839\\\",\\\"id\\\":\\\"14240239803065708329\\\",\\\"type\\\":\\\"observable\\\"})};\\n    var self = this;\\n    function AppViewModel() {\\n        for (var key in json_data) {\\n            var el = json_data[key];\\n            this[key] = Array.isArray(el) ? ko.observableArray(el) : ko.observable(el);\\n        }\\n        \\n        \\n        [this[\\\"loading\\\"].subscribe((function (val){!(this.valueFromJulia[\\\"loading\\\"]) ? (WebIO.setval({\\\"name\\\":\\\"loading\\\",\\\"scope\\\":\\\"4584164571121125839\\\",\\\"id\\\":\\\"13203191469519354658\\\",\\\"type\\\":\\\"observable\\\"},val)) : undefined; return this.valueFromJulia[\\\"loading\\\"]=false}),self),this[\\\"clicks\\\"].subscribe((function (val){!(this.valueFromJulia[\\\"clicks\\\"]) ? (WebIO.setval({\\\"name\\\":\\\"clicks\\\",\\\"scope\\\":\\\"4584164571121125839\\\",\\\"id\\\":\\\"14240239803065708329\\\",\\\"type\\\":\\\"observable\\\"},val)) : undefined; return this.valueFromJulia[\\\"clicks\\\"]=false}),self)]\\n        \\n    }\\n    self.model = new AppViewModel();\\n    self.valueFromJulia = {};\\n    for (var key in json_data) {\\n        self.valueFromJulia[key] = false;\\n    }\\n    ko.applyBindings(self.model, self.dom);\\n}\\n);\\n    (WebIO.importBlock({\\\"data\\\":[{\\\"name\\\":\\\"knockout\\\",\\\"type\\\":\\\"js\\\",\\\"url\\\":\\\"/assetserver/727383f2a47bd31570b7da84eee7b022dd6d7c78-knockout.js\\\"},{\\\"name\\\":\\\"knockout_punches\\\",\\\"type\\\":\\\"js\\\",\\\"url\\\":\\\"/assetserver/382b41b3b1bd9f26f75861d360bad7f8beea211f-knockout_punches.js\\\"}],\\\"type\\\":\\\"async_block\\\"})).then((imports) => handler.apply(this, imports));\\n}\\n\")])], Dict{Symbol, Any}(:className => \"field interact-widget\"))], Dict{Symbol, Any}(:style => Dict(\"display\" => \"flex\", \"flex-direction\" => \"row\")))], Dict{Symbol, Any}(:style => Dict(\"display\" => \"flex\", \"flex-direction\" => \"column\"))), Observable(MeshCat.DisplayedVisualizer(MeshCat.CoreVisualizer(MeshCat.SceneTrees.SceneNode(nothing, nothing, Dict{String, Vector{UInt8}}(), nothing, Dict{String, MeshCat.SceneTrees.SceneNode}(\"meshcat\" => MeshCat.SceneTrees.SceneNode(nothing, UInt8[0x83, 0xa6, 0x6d, 0x61, 0x74, 0x72, 0x69, 0x78, 0xc7, 0x40  …  0x68, 0xa8, 0x2f, 0x6d, 0x65, 0x73, 0x68, 0x63, 0x61, 0x74], Dict{String, Vector{UInt8}}(), nothing, Dict{String, MeshCat.SceneTrees.SceneNode}(\"agents\" => MeshCat.SceneTrees.SceneNode(nothing, nothing, Dict{String, Vector{UInt8}}(), nothing, Dict{String, MeshCat.SceneTrees.SceneNode}(\"131sphere\" => MeshCat.SceneTrees.SceneNode(nothing, UInt8[0x83, 0xa6, 0x6d, 0x61, 0x74, 0x72, 0x69, 0x78, 0xc7, 0x40  …  0x2f, 0x31, 0x33, 0x31, 0x73, 0x70, 0x68, 0x65, 0x72, 0x65], Dict{String, Vector{UInt8}}(\"scale\" => [0x84, 0xa8, 0x70, 0x72, 0x6f, 0x70, 0x65, 0x72, 0x74, 0x79  …  0x2f, 0x31, 0x33, 0x31, 0x73, 0x70, 0x68, 0x65, 0x72, 0x65]), nothing, Dict{String, MeshCat.SceneTrees.SceneNode}(\"(0.0N0f8, 1.0N0f8, 0.0N0f8, 1.0N0f8)\" => MeshCat.SceneTrees.SceneNode(UInt8[0x83, 0xa6, 0x6f, 0x62, 0x6a, 0x65, 0x63, 0x74, 0x84, 0xaa  …  0x2c, 0x20, 0x31, 0x2e, 0x30, 0x4e, 0x30, 0x66, 0x38, 0x29], nothing, Dict{String, Vector{UInt8}}(\"visible\" => [0x84, 0xa8, 0x70, 0x72, 0x6f, 0x70, 0x65, 0x72, 0x74, 0x79  …  0x2c, 0x20, 0x31, 0x2e, 0x30, 0x4e, 0x30, 0x66, 0x38, 0x29]), nothing, Dict{String, MeshCat.SceneTrees.SceneNode}()))), \"183sphere\" => MeshCat.SceneTrees.SceneNode(nothing, UInt8[0x83, 0xa6, 0x6d, 0x61, 0x74, 0x72, 0x69, 0x78, 0xc7, 0x40  …  0x2f, 0x31, 0x38, 0x33, 0x73, 0x70, 0x68, 0x65, 0x72, 0x65], Dict{String, Vector{UInt8}}(\"scale\" => [0x84, 0xa8, 0x70, 0x72, 0x6f, 0x70, 0x65, 0x72, 0x74, 0x79  …  0x2f, 0x31, 0x38, 0x33, 0x73, 0x70, 0x68, 0x65, 0x72, 0x65]), nothing, Dict{String, MeshCat.SceneTrees.SceneNode}(\"(1.0N0f8, 0.0N0f8, 0.0N0f8, 1.0N0f8)\" => MeshCat.SceneTrees.SceneNode(UInt8[0x83, 0xa6, 0x6f, 0x62, 0x6a, 0x65, 0x63, 0x74, 0x84, 0xaa  …  0x2c, 0x20, 0x31, 0x2e, 0x30, 0x4e, 0x30, 0x66, 0x38, 0x29], nothing, Dict{String, Vector{UInt8}}(\"visible\" => [0x84, 0xa8, 0x70, 0x72, 0x6f, 0x70, 0x65, 0x72, 0x74, 0x79  …  0x2c, 0x20, 0x31, 0x2e, 0x30, 0x4e, 0x30, 0x66, 0x38, 0x29]), nothing, Dict{String, MeshCat.SceneTrees.SceneNode}()))), \"186sphere\" => MeshCat.SceneTrees.SceneNode(nothing, UInt8[0x83, 0xa6, 0x6d, 0x61, 0x74, 0x72, 0x69, 0x78, 0xc7, 0x40  …  0x2f, 0x31, 0x38, 0x36, 0x73, 0x70, 0x68, 0x65, 0x72, 0x65], Dict{String, Vector{UInt8}}(\"scale\" => [0x84, 0xa8, 0x70, 0x72, 0x6f, 0x70, 0x65, 0x72, 0x74, 0x79  …  0x2f, 0x31, 0x38, 0x36, 0x73, 0x70, 0x68, 0x65, 0x72, 0x65]), nothing, Dict{String, MeshCat.SceneTrees.SceneNode}(\"(0.0N0f8, 1.0N0f8, 0.0N0f8, 1.0N0f8)\" => MeshCat.SceneTrees.SceneNode(UInt8[0x83, 0xa6, 0x6f, 0x62, 0x6a, 0x65, 0x63, 0x74, 0x84, 0xaa  …  0x2c, 0x20, 0x31, 0x2e, 0x30, 0x4e, 0x30, 0x66, 0x38, 0x29], nothing, Dict{String, Vector{UInt8}}(\"visible\" => [0x84, 0xa8, 0x70, 0x72, 0x6f, 0x70, 0x65, 0x72, 0x74, 0x79  …  0x2c, 0x20, 0x31, 0x2e, 0x30, 0x4e, 0x30, 0x66, 0x38, 0x29]), nothing, Dict{String, MeshCat.SceneTrees.SceneNode}()))), \"87sphere\" => MeshCat.SceneTrees.SceneNode(nothing, UInt8[0x83, 0xa6, 0x6d, 0x61, 0x74, 0x72, 0x69, 0x78, 0xc7, 0x40  …  0x73, 0x2f, 0x38, 0x37, 0x73, 0x70, 0x68, 0x65, 0x72, 0x65], Dict{String, Vector{UInt8}}(\"scale\" => [0x84, 0xa8, 0x70, 0x72, 0x6f, 0x70, 0x65, 0x72, 0x74, 0x79  …  0x73, 0x2f, 0x38, 0x37, 0x73, 0x70, 0x68, 0x65, 0x72, 0x65]), nothing, Dict{String, MeshCat.SceneTrees.SceneNode}(\"(0.0N0f8, 1.0N0f8, 0.0N0f8, 1.0N0f8)\" => MeshCat.SceneTrees.SceneNode(UInt8[0x83, 0xa6, 0x6f, 0x62, 0x6a, 0x65, 0x63, 0x74, 0x84, 0xaa  …  0x2c, 0x20, 0x31, 0x2e, 0x30, 0x4e, 0x30, 0x66, 0x38, 0x29], nothing, Dict{String, Vector{UInt8}}(\"visible\" => [0x84, 0xa8, 0x70, 0x72, 0x6f, 0x70, 0x65, 0x72, 0x74, 0x79  …  0x2c, 0x20, 0x31, 0x2e, 0x30, 0x4e, 0x30, 0x66, 0x38, 0x29]), nothing, Dict{String, MeshCat.SceneTrees.SceneNode}()))), \"130sphere\" => MeshCat.SceneTrees.SceneNode(nothing, UInt8[0x83, 0xa6, 0x6d, 0x61, 0x74, 0x72, 0x69, 0x78, 0xc7, 0x40  …  0x2f, 0x31, 0x33, 0x30, 0x73, 0x70, 0x68, 0x65, 0x72, 0x65], Dict{String, Vector{UInt8}}(\"scale\" => [0x84, 0xa8, 0x70, 0x72, 0x6f, 0x70, 0x65, 0x72, 0x74, 0x79  …  0x2f, 0x31, 0x33, 0x30, 0x73, 0x70, 0x68, 0x65, 0x72, 0x65]), nothing, Dict{String, MeshCat.SceneTrees.SceneNode}(\"(0.0N0f8, 1.0N0f8, 0.0N0f8, 1.0N0f8)\" => MeshCat.SceneTrees.SceneNode(UInt8[0x83, 0xa6, 0x6f, 0x62, 0x6a, 0x65, 0x63, 0x74, 0x84, 0xaa  …  0x2c, 0x20, 0x31, 0x2e, 0x30, 0x4e, 0x30, 0x66, 0x38, 0x29], nothing, Dict{String, Vector{UInt8}}(\"visible\" => [0x84, 0xa8, 0x70, 0x72, 0x6f, 0x70, 0x65, 0x72, 0x74, 0x79  …  0x2c, 0x20, 0x31, 0x2e, 0x30, 0x4e, 0x30, 0x66, 0x38, 0x29]), nothing, Dict{String, MeshCat.SceneTrees.SceneNode}()))), \"51sphere\" => MeshCat.SceneTrees.SceneNode(nothing, UInt8[0x83, 0xa6, 0x6d, 0x61, 0x74, 0x72, 0x69, 0x78, 0xc7, 0x40  …  0x73, 0x2f, 0x35, 0x31, 0x73, 0x70, 0x68, 0x65, 0x72, 0x65], Dict{String, Vector{UInt8}}(\"scale\" => [0x84, 0xa8, 0x70, 0x72, 0x6f, 0x70, 0x65, 0x72, 0x74, 0x79  …  0x73, 0x2f, 0x35, 0x31, 0x73, 0x70, 0x68, 0x65, 0x72, 0x65]), nothing, Dict{String, MeshCat.SceneTrees.SceneNode}(\"(0.0N0f8, 1.0N0f8, 0.0N0f8, 1.0N0f8)\" => MeshCat.SceneTrees.SceneNode(UInt8[0x83, 0xa6, 0x6f, 0x62, 0x6a, 0x65, 0x63, 0x74, 0x84, 0xaa  …  0x2c, 0x20, 0x31, 0x2e, 0x30, 0x4e, 0x30, 0x66, 0x38, 0x29], nothing, Dict{String, Vector{UInt8}}(\"visible\" => [0x84, 0xa8, 0x70, 0x72, 0x6f, 0x70, 0x65, 0x72, 0x74, 0x79  …  0x2c, 0x20, 0x31, 0x2e, 0x30, 0x4e, 0x30, 0x66, 0x38, 0x29]), nothing, Dict{String, MeshCat.SceneTrees.SceneNode}()))), \"9sphere\" => MeshCat.SceneTrees.SceneNode(nothing, UInt8[0x83, 0xa6, 0x6d, 0x61, 0x74, 0x72, 0x69, 0x78, 0xc7, 0x40  …  0x74, 0x73, 0x2f, 0x39, 0x73, 0x70, 0x68, 0x65, 0x72, 0x65], Dict{String, Vector{UInt8}}(\"scale\" => [0x84, 0xa8, 0x70, 0x72, 0x6f, 0x70, 0x65, 0x72, 0x74, 0x79  …  0x74, 0x73, 0x2f, 0x39, 0x73, 0x70, 0x68, 0x65, 0x72, 0x65]), nothing, Dict{String, MeshCat.SceneTrees.SceneNode}(\"(1.0N0f8, 0.0N0f8, 0.0N0f8, 1.0N0f8)\" => MeshCat.SceneTrees.SceneNode(UInt8[0x83, 0xa6, 0x6f, 0x62, 0x6a, 0x65, 0x63, 0x74, 0x84, 0xaa  …  0x2c, 0x20, 0x31, 0x2e, 0x30, 0x4e, 0x30, 0x66, 0x38, 0x29], nothing, Dict{String, Vector{UInt8}}(\"visible\" => [0x84, 0xa8, 0x70, 0x72, 0x6f, 0x70, 0x65, 0x72, 0x74, 0x79  …  0x2c, 0x20, 0x31, 0x2e, 0x30, 0x4e, 0x30, 0x66, 0x38, 0x29]), nothing, Dict{String, MeshCat.SceneTrees.SceneNode}()))), \"154sphere\" => MeshCat.SceneTrees.SceneNode(nothing, UInt8[0x83, 0xa6, 0x6d, 0x61, 0x74, 0x72, 0x69, 0x78, 0xc7, 0x40  …  0x2f, 0x31, 0x35, 0x34, 0x73, 0x70, 0x68, 0x65, 0x72, 0x65], Dict{String, Vector{UInt8}}(\"scale\" => [0x84, 0xa8, 0x70, 0x72, 0x6f, 0x70, 0x65, 0x72, 0x74, 0x79  …  0x2f, 0x31, 0x35, 0x34, 0x73, 0x70, 0x68, 0x65, 0x72, 0x65]), nothing, Dict{String, MeshCat.SceneTrees.SceneNode}(\"(1.0N0f8, 0.0N0f8, 0.0N0f8, 1.0N0f8)\" => MeshCat.SceneTrees.SceneNode(UInt8[0x83, 0xa6, 0x6f, 0x62, 0x6a, 0x65, 0x63, 0x74, 0x84, 0xaa  …  0x2c, 0x20, 0x31, 0x2e, 0x30, 0x4e, 0x30, 0x66, 0x38, 0x29], nothing, Dict{String, Vector{UInt8}}(\"visible\" => [0x84, 0xa8, 0x70, 0x72, 0x6f, 0x70, 0x65, 0x72, 0x74, 0x79  …  0x2c, 0x20, 0x31, 0x2e, 0x30, 0x4e, 0x30, 0x66, 0x38, 0x29]), nothing, Dict{String, MeshCat.SceneTrees.SceneNode}()))), \"102sphere\" => MeshCat.SceneTrees.SceneNode(nothing, UInt8[0x83, 0xa6, 0x6d, 0x61, 0x74, 0x72, 0x69, 0x78, 0xc7, 0x40  …  0x2f, 0x31, 0x30, 0x32, 0x73, 0x70, 0x68, 0x65, 0x72, 0x65], Dict{String, Vector{UInt8}}(\"scale\" => [0x84, 0xa8, 0x70, 0x72, 0x6f, 0x70, 0x65, 0x72, 0x74, 0x79  …  0x2f, 0x31, 0x30, 0x32, 0x73, 0x70, 0x68, 0x65, 0x72, 0x65]), nothing, Dict{String, MeshCat.SceneTrees.SceneNode}(\"(0.0N0f8, 1.0N0f8, 0.0N0f8, 1.0N0f8)\" => MeshCat.SceneTrees.SceneNode(UInt8[0x83, 0xa6, 0x6f, 0x62, 0x6a, 0x65, 0x63, 0x74, 0x84, 0xaa  …  0x2c, 0x20, 0x31, 0x2e, 0x30, 0x4e, 0x30, 0x66, 0x38, 0x29], nothing, Dict{String, Vector{UInt8}}(\"visible\" => [0x84, 0xa8, 0x70, 0x72, 0x6f, 0x70, 0x65, 0x72, 0x74, 0x79  …  0x2c, 0x20, 0x31, 0x2e, 0x30, 0x4e, 0x30, 0x66, 0x38, 0x29]), nothing, Dict{String, MeshCat.SceneTrees.SceneNode}()))), \"64sphere\" => MeshCat.SceneTrees.SceneNode(nothing, UInt8[0x83, 0xa6, 0x6d, 0x61, 0x74, 0x72, 0x69, 0x78, 0xc7, 0x40  …  0x73, 0x2f, 0x36, 0x34, 0x73, 0x70, 0x68, 0x65, 0x72, 0x65], Dict{String, Vector{UInt8}}(\"scale\" => [0x84, 0xa8, 0x70, 0x72, 0x6f, 0x70, 0x65, 0x72, 0x74, 0x79  …  0x73, 0x2f, 0x36, 0x34, 0x73, 0x70, 0x68, 0x65, 0x72, 0x65]), nothing, Dict{String, MeshCat.SceneTrees.SceneNode}(\"(1.0N0f8, 0.0N0f8, 0.0N0f8, 1.0N0f8)\" => MeshCat.SceneTrees.SceneNode(UInt8[0x83, 0xa6, 0x6f, 0x62, 0x6a, 0x65, 0x63, 0x74, 0x84, 0xaa  …  0x2c, 0x20, 0x31, 0x2e, 0x30, 0x4e, 0x30, 0x66, 0x38, 0x29], nothing, Dict{String, Vector{UInt8}}(\"visible\" => [0x84, 0xa8, 0x70, 0x72, 0x6f, 0x70, 0x65, 0x72, 0x74, 0x79  …  0x2c, 0x20, 0x31, 0x2e, 0x30, 0x4e, 0x30, 0x66, 0x38, 0x29]), nothing, Dict{String, MeshCat.SceneTrees.SceneNode}())))…)), \"bbox_line_segments\" => MeshCat.SceneTrees.SceneNode(nothing, nothing, Dict{String, Vector{UInt8}}(), nothing, Dict{String, MeshCat.SceneTrees.SceneNode}(\"4\" => MeshCat.SceneTrees.SceneNode(UInt8[0x83, 0xa6, 0x6f, 0x62, 0x6a, 0x65, 0x63, 0x74, 0x84, 0xaa  …  0x73, 0x65, 0x67, 0x6d, 0x65, 0x6e, 0x74, 0x73, 0x2f, 0x34], nothing, Dict{String, Vector{UInt8}}(), nothing, Dict{String, MeshCat.SceneTrees.SceneNode}()), \"1\" => MeshCat.SceneTrees.SceneNode(UInt8[0x83, 0xa6, 0x6f, 0x62, 0x6a, 0x65, 0x63, 0x74, 0x84, 0xaa  …  0x73, 0x65, 0x67, 0x6d, 0x65, 0x6e, 0x74, 0x73, 0x2f, 0x31], nothing, Dict{String, Vector{UInt8}}(), nothing, Dict{String, MeshCat.SceneTrees.SceneNode}()), \"12\" => MeshCat.SceneTrees.SceneNode(UInt8[0x83, 0xa6, 0x6f, 0x62, 0x6a, 0x65, 0x63, 0x74, 0x84, 0xaa  …  0x65, 0x67, 0x6d, 0x65, 0x6e, 0x74, 0x73, 0x2f, 0x31, 0x32], nothing, Dict{String, Vector{UInt8}}(), nothing, Dict{String, MeshCat.SceneTrees.SceneNode}()), \"2\" => MeshCat.SceneTrees.SceneNode(UInt8[0x83, 0xa6, 0x6f, 0x62, 0x6a, 0x65, 0x63, 0x74, 0x84, 0xaa  …  0x73, 0x65, 0x67, 0x6d, 0x65, 0x6e, 0x74, 0x73, 0x2f, 0x32], nothing, Dict{String, Vector{UInt8}}(), nothing, Dict{String, MeshCat.SceneTrees.SceneNode}()), \"6\" => MeshCat.SceneTrees.SceneNode(UInt8[0x83, 0xa6, 0x6f, 0x62, 0x6a, 0x65, 0x63, 0x74, 0x84, 0xaa  …  0x73, 0x65, 0x67, 0x6d, 0x65, 0x6e, 0x74, 0x73, 0x2f, 0x36], nothing, Dict{String, Vector{UInt8}}(), nothing, Dict{String, MeshCat.SceneTrees.SceneNode}()), \"11\" => MeshCat.SceneTrees.SceneNode(UInt8[0x83, 0xa6, 0x6f, 0x62, 0x6a, 0x65, 0x63, 0x74, 0x84, 0xaa  …  0x65, 0x67, 0x6d, 0x65, 0x6e, 0x74, 0x73, 0x2f, 0x31, 0x31], nothing, Dict{String, Vector{UInt8}}(), nothing, Dict{String, MeshCat.SceneTrees.SceneNode}()), \"5\" => MeshCat.SceneTrees.SceneNode(UInt8[0x83, 0xa6, 0x6f, 0x62, 0x6a, 0x65, 0x63, 0x74, 0x84, 0xaa  …  0x73, 0x65, 0x67, 0x6d, 0x65, 0x6e, 0x74, 0x73, 0x2f, 0x35], nothing, Dict{String, Vector{UInt8}}(), nothing, Dict{String, MeshCat.SceneTrees.SceneNode}()), \"7\" => MeshCat.SceneTrees.SceneNode(UInt8[0x83, 0xa6, 0x6f, 0x62, 0x6a, 0x65, 0x63, 0x74, 0x84, 0xaa  …  0x73, 0x65, 0x67, 0x6d, 0x65, 0x6e, 0x74, 0x73, 0x2f, 0x37], nothing, Dict{String, Vector{UInt8}}(), nothing, Dict{String, MeshCat.SceneTrees.SceneNode}()), \"8\" => MeshCat.SceneTrees.SceneNode(UInt8[0x83, 0xa6, 0x6f, 0x62, 0x6a, 0x65, 0x63, 0x74, 0x84, 0xaa  …  0x73, 0x65, 0x67, 0x6d, 0x65, 0x6e, 0x74, 0x73, 0x2f, 0x38], nothing, Dict{String, Vector{UInt8}}(), nothing, Dict{String, MeshCat.SceneTrees.SceneNode}()), \"10\" => MeshCat.SceneTrees.SceneNode(UInt8[0x83, 0xa6, 0x6f, 0x62, 0x6a, 0x65, 0x63, 0x74, 0x84, 0xaa  …  0x65, 0x67, 0x6d, 0x65, 0x6e, 0x74, 0x73, 0x2f, 0x31, 0x30], nothing, Dict{String, Vector{UInt8}}(), nothing, Dict{String, MeshCat.SceneTrees.SceneNode}())…)))), \"Axes\" => MeshCat.SceneTrees.SceneNode(nothing, nothing, Dict{String, Vector{UInt8}}(), nothing, Dict{String, MeshCat.SceneTrees.SceneNode}(\"<object>\" => MeshCat.SceneTrees.SceneNode(UInt8[0x83, 0xa6, 0x6f, 0x62, 0x6a, 0x65, 0x63, 0x74, 0x84, 0xaa  …  0x73, 0x2f, 0x3c, 0x6f, 0x62, 0x6a, 0x65, 0x63, 0x74, 0x3e], UInt8[0x83, 0xa6, 0x6d, 0x61, 0x74, 0x72, 0x69, 0x78, 0xc7, 0x40  …  0x73, 0x2f, 0x3c, 0x6f, 0x62, 0x6a, 0x65, 0x63, 0x74, 0x3e], Dict{String, Vector{UInt8}}(), nothing, Dict{String, MeshCat.SceneTrees.SceneNode}()))))), Set{HTTP.WebSockets.WebSocket}(), ip\"127.0.0.1\", 8702))), WebIO.Node{WebIO.DOM}(WebIO.DOM(:html, :div), Any[WebIO.Scope(WebIO.Node{WebIO.DOM}(WebIO.DOM(:html, :div), Any[], Dict{Symbol, Any}(:id => \"container\")), Dict{String, Tuple{Observables.AbstractObservable, Union{Nothing, Bool}}}(\"value\" => (Observable(\"\\\\;\\\\;\"), nothing)), Set{String}(), nothing, WebIO.Asset[WebIO.Asset(\"js\", nothing, \"/home/dushya/.julia/packages/InteractBase/LJXv3/src/../assets/katex.min.js\"), WebIO.Asset(\"css\", nothing, \"/home/dushya/.julia/packages/InteractBase/LJXv3/src/../assets/katex.min.css\")], Dict{Any, Any}(\"value\" => Any[WebIO.JSString(\"(function (txt){return this.k.render(txt,this.container)})\")]), WebIO.ConnectionPool(Channel{Any}(32), Set{WebIO.AbstractConnection}(), Base.GenericCondition{ReentrantLock}(Base.IntrusiveLinkedList{Task}(Task (runnable) @0x00007fa06152f850, Task (runnable) @0x00007fa06152f850), ReentrantLock(nothing, 0x00000000, 0x00, Base.GenericCondition{Base.Threads.SpinLock}(Base.IntrusiveLinkedList{Task}(nothing, nothing), Base.Threads.SpinLock(0)), (2, 140325710538624, 140325710538752)))), WebIO.JSString[WebIO.JSString(\"function () {\\n    var handler = ((function (k){this.k=k; this.container=this.dom.querySelector(\\\"#container\\\"); return k.render(\\\"\\\\\\\\;\\\\\\\\;\\\",this.container)}));\\n    (WebIO.importBlock({\\\"data\\\":[{\\\"name\\\":null,\\\"type\\\":\\\"js\\\",\\\"url\\\":\\\"/assetserver/dd22ed1bf1896c2748f3fe616ce0b838adc895c1-katex.min.js\\\"},{\\\"name\\\":null,\\\"type\\\":\\\"css\\\",\\\"url\\\":\\\"/assetserver/46517a424aa5e6cffc1360d7e0848b601c584ee3-katex.min.css\\\"}],\\\"type\\\":\\\"async_block\\\"})).then((imports) => handler.apply(this, imports));\\n}\\n\")])], Dict{Symbol, Any}(:className => \"interact-widget\")), WebIO.Node{WebIO.DOM}(WebIO.DOM(:html, :div), Any[Observable(Plot{Plots.GRBackend() n=2})], Dict{Symbol, Any}(:style => Dict(\"display\" => \"flex\", \"flex-direction\" => \"column\")))], Dict{Symbol, Any}(:style => Dict(\"display\" => \"flex\", \"flex-direction\" => \"row\")))], Dict{Symbol, Any}(:style => Dict(\"display\" => \"flex\", \"flex-direction\" => \"column\")))"
      ]
     },
     "execution_count": 9,
     "metadata": {
      "application/vnd.webio.node+json": {
       "kernelId": "b9d11b2c-47d4-4fcc-a583-20a1e778a65d"
      }
     },
     "output_type": "execute_result"
    }
   ],
   "source": [
    "create_interactive_app(model, initialiser= initialiser!,\n",
    "    step_rule=step_rule!,\n",
    "    model_controls=[(:min_alike, \"slider\", 1:12)], \n",
    "    agent_plots=Dict(\n",
    "        \"happy\"=> agent-> agent.mood == happy, \n",
    "        \"sad\"=> agent-> agent.mood == sad),\n",
    "    frames=200)   "
   ]
  },
  {
   "cell_type": "markdown",
   "metadata": {},
   "source": [
    "## Step 5: Fetch Data \n",
    "\n",
    "In this step we fetch data of number of happy and sad agents at each time step as a dataframe with following function. "
   ]
  },
  {
   "cell_type": "code",
   "execution_count": 10,
   "metadata": {
    "scrolled": true
   },
   "outputs": [
    {
     "data": {
      "image/png": "[encoded data removed]",
      "image/svg+xml": [
       "<?xml version=\"1.0\" encoding=\"utf-8\"?>\n",
       "<svg xmlns=\"http://www.w3.org/2000/svg\" xmlns:xlink=\"http://www.w3.org/1999/xlink\" width=\"600\" height=\"400\" viewBox=\"0 0 2400 1600\">\n",
       "<defs>\n",
       "  <clipPath id=\"clip340\">\n",
       "    <rect x=\"0\" y=\"0\" width=\"2400\" height=\"1600\"/>\n",
       "  </clipPath>\n",
       "</defs>\n",
       "<path clip-path=\"url(#clip340)\" d=\"M0 1600 L2400 1600 L2400 0 L0 0  Z\" fill=\"#ffffff\" fill-rule=\"evenodd\" fill-opacity=\"1\"/>\n",
       "<defs>\n",
       "  <clipPath id=\"clip341\">\n",
       "    <rect x=\"480\" y=\"0\" width=\"1681\" height=\"1600\"/>\n",
       "  </clipPath>\n",
       "</defs>\n",
       "<path clip-path=\"url(#clip340)\" d=\"M234.125 1423.18 L2352.76 1423.18 L2352.76 47.2441 L234.125 47.2441  Z\" fill=\"#ffffff\" fill-rule=\"evenodd\" fill-opacity=\"1\"/>\n",
       "<defs>\n",
       "  <clipPath id=\"clip342\">\n",
       "    <rect x=\"234\" y=\"47\" width=\"2120\" height=\"1377\"/>\n",
       "  </clipPath>\n",
       "</defs>\n",
       "<polyline clip-path=\"url(#clip342)\" style=\"stroke:#000000; stroke-linecap:round; stroke-linejoin:round; stroke-width:2; stroke-opacity:0.1; fill:none\" points=\"274.1,1423.18 274.1,47.2441 \"/>\n",
       "<polyline clip-path=\"url(#clip342)\" style=\"stroke:#000000; stroke-linecap:round; stroke-linejoin:round; stroke-width:2; stroke-opacity:0.1; fill:none\" points=\"773.777,1423.18 773.777,47.2441 \"/>\n",
       "<polyline clip-path=\"url(#clip342)\" style=\"stroke:#000000; stroke-linecap:round; stroke-linejoin:round; stroke-width:2; stroke-opacity:0.1; fill:none\" points=\"1273.45,1423.18 1273.45,47.2441 \"/>\n",
       "<polyline clip-path=\"url(#clip342)\" style=\"stroke:#000000; stroke-linecap:round; stroke-linejoin:round; stroke-width:2; stroke-opacity:0.1; fill:none\" points=\"1773.13,1423.18 1773.13,47.2441 \"/>\n",
       "<polyline clip-path=\"url(#clip342)\" style=\"stroke:#000000; stroke-linecap:round; stroke-linejoin:round; stroke-width:2; stroke-opacity:0.1; fill:none\" points=\"2272.81,1423.18 2272.81,47.2441 \"/>\n",
       "<polyline clip-path=\"url(#clip340)\" style=\"stroke:#000000; stroke-linecap:round; stroke-linejoin:round; stroke-width:4; stroke-opacity:1; fill:none\" points=\"234.125,1423.18 2352.76,1423.18 \"/>\n",
       "<polyline clip-path=\"url(#clip340)\" style=\"stroke:#000000; stroke-linecap:round; stroke-linejoin:round; stroke-width:4; stroke-opacity:1; fill:none\" points=\"274.1,1423.18 274.1,1404.28 \"/>\n",
       "<polyline clip-path=\"url(#clip340)\" style=\"stroke:#000000; stroke-linecap:round; stroke-linejoin:round; stroke-width:4; stroke-opacity:1; fill:none\" points=\"773.777,1423.18 773.777,1404.28 \"/>\n",
       "<polyline clip-path=\"url(#clip340)\" style=\"stroke:#000000; stroke-linecap:round; stroke-linejoin:round; stroke-width:4; stroke-opacity:1; fill:none\" points=\"1273.45,1423.18 1273.45,1404.28 \"/>\n",
       "<polyline clip-path=\"url(#clip340)\" style=\"stroke:#000000; stroke-linecap:round; stroke-linejoin:round; stroke-width:4; stroke-opacity:1; fill:none\" points=\"1773.13,1423.18 1773.13,1404.28 \"/>\n",
       "<polyline clip-path=\"url(#clip340)\" style=\"stroke:#000000; stroke-linecap:round; stroke-linejoin:round; stroke-width:4; stroke-opacity:1; fill:none\" points=\"2272.81,1423.18 2272.81,1404.28 \"/>\n",
       "<path clip-path=\"url(#clip340)\" d=\"M274.1 1454.1 Q270.489 1454.1 268.66 1457.66 Q266.854 1461.2 266.854 1468.33 Q266.854 1475.44 268.66 1479.01 Q270.489 1482.55 274.1 1482.55 Q277.734 1482.55 279.539 1479.01 Q281.368 1475.44 281.368 1468.33 Q281.368 1461.2 279.539 1457.66 Q277.734 1454.1 274.1 1454.1 M274.1 1450.39 Q279.91 1450.39 282.965 1455 Q286.044 1459.58 286.044 1468.33 Q286.044 1477.06 282.965 1481.67 Q279.91 1486.25 274.1 1486.25 Q268.289 1486.25 265.211 1481.67 Q262.155 1477.06 262.155 1468.33 Q262.155 1459.58 265.211 1455 Q268.289 1450.39 274.1 1450.39 Z\" fill=\"#000000\" fill-rule=\"nonzero\" fill-opacity=\"1\" /><path clip-path=\"url(#clip340)\" d=\"M753.048 1481.64 L769.367 1481.64 L769.367 1485.58 L747.423 1485.58 L747.423 1481.64 Q750.085 1478.89 754.668 1474.26 Q759.274 1469.61 760.455 1468.27 Q762.7 1465.74 763.58 1464.01 Q764.483 1462.25 764.483 1460.56 Q764.483 1457.8 762.538 1456.07 Q760.617 1454.33 757.515 1454.33 Q755.316 1454.33 752.862 1455.09 Q750.432 1455.86 747.654 1457.41 L747.654 1452.69 Q750.478 1451.55 752.932 1450.97 Q755.385 1450.39 757.423 1450.39 Q762.793 1450.39 765.987 1453.08 Q769.182 1455.77 769.182 1460.26 Q769.182 1462.39 768.372 1464.31 Q767.585 1466.2 765.478 1468.8 Q764.899 1469.47 761.798 1472.69 Q758.696 1475.88 753.048 1481.64 Z\" fill=\"#000000\" fill-rule=\"nonzero\" fill-opacity=\"1\" /><path clip-path=\"url(#clip340)\" d=\"M779.228 1451.02 L797.584 1451.02 L797.584 1454.96 L783.51 1454.96 L783.51 1463.43 Q784.529 1463.08 785.547 1462.92 Q786.566 1462.73 787.584 1462.73 Q793.371 1462.73 796.751 1465.9 Q800.131 1469.08 800.131 1474.49 Q800.131 1480.07 796.658 1483.17 Q793.186 1486.25 786.867 1486.25 Q784.691 1486.25 782.422 1485.88 Q780.177 1485.51 777.77 1484.77 L777.77 1480.07 Q779.853 1481.2 782.075 1481.76 Q784.297 1482.32 786.774 1482.32 Q790.779 1482.32 793.117 1480.21 Q795.455 1478.1 795.455 1474.49 Q795.455 1470.88 793.117 1468.77 Q790.779 1466.67 786.774 1466.67 Q784.899 1466.67 783.024 1467.08 Q781.172 1467.5 779.228 1468.38 L779.228 1451.02 Z\" fill=\"#000000\" fill-rule=\"nonzero\" fill-opacity=\"1\" /><path clip-path=\"url(#clip340)\" d=\"M1248.15 1451.02 L1266.51 1451.02 L1266.51 1454.96 L1252.44 1454.96 L1252.44 1463.43 Q1253.45 1463.08 1254.47 1462.92 Q1255.49 1462.73 1256.51 1462.73 Q1262.3 1462.73 1265.68 1465.9 Q1269.06 1469.08 1269.06 1474.49 Q1269.06 1480.07 1265.58 1483.17 Q1262.11 1486.25 1255.79 1486.25 Q1253.62 1486.25 1251.35 1485.88 Q1249.1 1485.51 1246.69 1484.77 L1246.69 1480.07 Q1248.78 1481.2 1251 1481.76 Q1253.22 1482.32 1255.7 1482.32 Q1259.7 1482.32 1262.04 1480.21 Q1264.38 1478.1 1264.38 1474.49 Q1264.38 1470.88 1262.04 1468.77 Q1259.7 1466.67 1255.7 1466.67 Q1253.82 1466.67 1251.95 1467.08 Q1250.1 1467.5 1248.15 1468.38 L1248.15 1451.02 Z\" fill=\"#000000\" fill-rule=\"nonzero\" fill-opacity=\"1\" /><path clip-path=\"url(#clip340)\" d=\"M1288.27 1454.1 Q1284.66 1454.1 1282.83 1457.66 Q1281.02 1461.2 1281.02 1468.33 Q1281.02 1475.44 1282.83 1479.01 Q1284.66 1482.55 1288.27 1482.55 Q1291.9 1482.55 1293.71 1479.01 Q1295.54 1475.44 1295.54 1468.33 Q1295.54 1461.2 1293.71 1457.66 Q1291.9 1454.1 1288.27 1454.1 M1288.27 1450.39 Q1294.08 1450.39 1297.13 1455 Q1300.21 1459.58 1300.21 1468.33 Q1300.21 1477.06 1297.13 1481.67 Q1294.08 1486.25 1288.27 1486.25 Q1282.46 1486.25 1279.38 1481.67 Q1276.32 1477.06 1276.32 1468.33 Q1276.32 1459.58 1279.38 1455 Q1282.46 1450.39 1288.27 1450.39 Z\" fill=\"#000000\" fill-rule=\"nonzero\" fill-opacity=\"1\" /><path clip-path=\"url(#clip340)\" d=\"M1746.98 1451.02 L1769.21 1451.02 L1769.21 1453.01 L1756.66 1485.58 L1751.78 1485.58 L1763.58 1454.96 L1746.98 1454.96 L1746.98 1451.02 Z\" fill=\"#000000\" fill-rule=\"nonzero\" fill-opacity=\"1\" /><path clip-path=\"url(#clip340)\" d=\"M1778.37 1451.02 L1796.73 1451.02 L1796.73 1454.96 L1782.66 1454.96 L1782.66 1463.43 Q1783.67 1463.08 1784.69 1462.92 Q1785.71 1462.73 1786.73 1462.73 Q1792.52 1462.73 1795.9 1465.9 Q1799.28 1469.08 1799.28 1474.49 Q1799.28 1480.07 1795.8 1483.17 Q1792.33 1486.25 1786.01 1486.25 Q1783.84 1486.25 1781.57 1485.88 Q1779.32 1485.51 1776.92 1484.77 L1776.92 1480.07 Q1779 1481.2 1781.22 1481.76 Q1783.44 1482.32 1785.92 1482.32 Q1789.92 1482.32 1792.26 1480.21 Q1794.6 1478.1 1794.6 1474.49 Q1794.6 1470.88 1792.26 1468.77 Q1789.92 1466.67 1785.92 1466.67 Q1784.04 1466.67 1782.17 1467.08 Q1780.32 1467.5 1778.37 1468.38 L1778.37 1451.02 Z\" fill=\"#000000\" fill-rule=\"nonzero\" fill-opacity=\"1\" /><path clip-path=\"url(#clip340)\" d=\"M2232.41 1481.64 L2240.05 1481.64 L2240.05 1455.28 L2231.74 1456.95 L2231.74 1452.69 L2240.01 1451.02 L2244.68 1451.02 L2244.68 1481.64 L2252.32 1481.64 L2252.32 1485.58 L2232.41 1485.58 L2232.41 1481.64 Z\" fill=\"#000000\" fill-rule=\"nonzero\" fill-opacity=\"1\" /><path clip-path=\"url(#clip340)\" d=\"M2271.77 1454.1 Q2268.15 1454.1 2266.33 1457.66 Q2264.52 1461.2 2264.52 1468.33 Q2264.52 1475.44 2266.33 1479.01 Q2268.15 1482.55 2271.77 1482.55 Q2275.4 1482.55 2277.21 1479.01 Q2279.03 1475.44 2279.03 1468.33 Q2279.03 1461.2 2277.21 1457.66 Q2275.4 1454.1 2271.77 1454.1 M2271.77 1450.39 Q2277.58 1450.39 2280.63 1455 Q2283.71 1459.58 2283.71 1468.33 Q2283.71 1477.06 2280.63 1481.67 Q2277.58 1486.25 2271.77 1486.25 Q2265.96 1486.25 2262.88 1481.67 Q2259.82 1477.06 2259.82 1468.33 Q2259.82 1459.58 2262.88 1455 Q2265.96 1450.39 2271.77 1450.39 Z\" fill=\"#000000\" fill-rule=\"nonzero\" fill-opacity=\"1\" /><path clip-path=\"url(#clip340)\" d=\"M2301.93 1454.1 Q2298.32 1454.1 2296.49 1457.66 Q2294.68 1461.2 2294.68 1468.33 Q2294.68 1475.44 2296.49 1479.01 Q2298.32 1482.55 2301.93 1482.55 Q2305.56 1482.55 2307.37 1479.01 Q2309.2 1475.44 2309.2 1468.33 Q2309.2 1461.2 2307.37 1457.66 Q2305.56 1454.1 2301.93 1454.1 M2301.93 1450.39 Q2307.74 1450.39 2310.79 1455 Q2313.87 1459.58 2313.87 1468.33 Q2313.87 1477.06 2310.79 1481.67 Q2307.74 1486.25 2301.93 1486.25 Q2296.12 1486.25 2293.04 1481.67 Q2289.98 1477.06 2289.98 1468.33 Q2289.98 1459.58 2293.04 1455 Q2296.12 1450.39 2301.93 1450.39 Z\" fill=\"#000000\" fill-rule=\"nonzero\" fill-opacity=\"1\" /><path clip-path=\"url(#clip340)\" d=\"M1230.48 1522.27 L1230.48 1532.4 L1242.55 1532.4 L1242.55 1536.95 L1230.48 1536.95 L1230.48 1556.3 Q1230.48 1560.66 1231.66 1561.9 Q1232.87 1563.14 1236.53 1563.14 L1242.55 1563.14 L1242.55 1568.04 L1236.53 1568.04 Q1229.75 1568.04 1227.17 1565.53 Q1224.6 1562.98 1224.6 1556.3 L1224.6 1536.95 L1220.3 1536.95 L1220.3 1532.4 L1224.6 1532.4 L1224.6 1522.27 L1230.48 1522.27 Z\" fill=\"#000000\" fill-rule=\"nonzero\" fill-opacity=\"1\" /><path clip-path=\"url(#clip340)\" d=\"M1250.25 1532.4 L1256.11 1532.4 L1256.11 1568.04 L1250.25 1568.04 L1250.25 1532.4 M1250.25 1518.52 L1256.11 1518.52 L1256.11 1525.93 L1250.25 1525.93 L1250.25 1518.52 Z\" fill=\"#000000\" fill-rule=\"nonzero\" fill-opacity=\"1\" /><path clip-path=\"url(#clip340)\" d=\"M1294.01 1533.76 L1294.01 1539.24 Q1291.53 1537.87 1289.02 1537.2 Q1286.53 1536.5 1283.99 1536.5 Q1278.29 1536.5 1275.14 1540.13 Q1271.99 1543.73 1271.99 1550.25 Q1271.99 1556.78 1275.14 1560.4 Q1278.29 1564 1283.99 1564 Q1286.53 1564 1289.02 1563.33 Q1291.53 1562.63 1294.01 1561.26 L1294.01 1566.68 Q1291.56 1567.82 1288.92 1568.39 Q1286.31 1568.97 1283.35 1568.97 Q1275.3 1568.97 1270.56 1563.91 Q1265.81 1558.85 1265.81 1550.25 Q1265.81 1541.53 1270.59 1536.53 Q1275.39 1531.54 1283.73 1531.54 Q1286.44 1531.54 1289.02 1532.11 Q1291.59 1532.65 1294.01 1533.76 Z\" fill=\"#000000\" fill-rule=\"nonzero\" fill-opacity=\"1\" /><path clip-path=\"url(#clip340)\" d=\"M1303.98 1518.52 L1309.86 1518.52 L1309.86 1547.77 L1327.34 1532.4 L1334.82 1532.4 L1315.91 1549.07 L1335.61 1568.04 L1327.97 1568.04 L1309.86 1550.63 L1309.86 1568.04 L1303.98 1568.04 L1303.98 1518.52 Z\" fill=\"#000000\" fill-rule=\"nonzero\" fill-opacity=\"1\" /><path clip-path=\"url(#clip340)\" d=\"M1364.67 1533.45 L1364.67 1538.98 Q1362.19 1537.71 1359.52 1537.07 Q1356.84 1536.44 1353.98 1536.44 Q1349.62 1536.44 1347.42 1537.77 Q1345.26 1539.11 1345.26 1541.79 Q1345.26 1543.82 1346.82 1545 Q1348.38 1546.15 1353.09 1547.2 L1355.09 1547.64 Q1361.33 1548.98 1363.94 1551.43 Q1366.58 1553.85 1366.58 1558.21 Q1366.58 1563.17 1362.64 1566.07 Q1358.72 1568.97 1351.85 1568.97 Q1348.98 1568.97 1345.86 1568.39 Q1342.77 1567.85 1339.34 1566.74 L1339.34 1560.69 Q1342.58 1562.38 1345.73 1563.24 Q1348.89 1564.07 1351.97 1564.07 Q1356.11 1564.07 1358.34 1562.66 Q1360.57 1561.23 1360.57 1558.65 Q1360.57 1556.27 1358.94 1554.99 Q1357.35 1553.72 1351.91 1552.54 L1349.87 1552.07 Q1344.43 1550.92 1342.01 1548.56 Q1339.59 1546.18 1339.59 1542.04 Q1339.59 1537.01 1343.16 1534.27 Q1346.72 1531.54 1353.28 1531.54 Q1356.52 1531.54 1359.39 1532.01 Q1362.25 1532.49 1364.67 1533.45 Z\" fill=\"#000000\" fill-rule=\"nonzero\" fill-opacity=\"1\" /><polyline clip-path=\"url(#clip342)\" style=\"stroke:#000000; stroke-linecap:round; stroke-linejoin:round; stroke-width:2; stroke-opacity:0.1; fill:none\" points=\"234.125,1390.79 2352.76,1390.79 \"/>\n",
       "<polyline clip-path=\"url(#clip342)\" style=\"stroke:#000000; stroke-linecap:round; stroke-linejoin:round; stroke-width:2; stroke-opacity:0.1; fill:none\" points=\"234.125,1063 2352.76,1063 \"/>\n",
       "<polyline clip-path=\"url(#clip342)\" style=\"stroke:#000000; stroke-linecap:round; stroke-linejoin:round; stroke-width:2; stroke-opacity:0.1; fill:none\" points=\"234.125,735.212 2352.76,735.212 \"/>\n",
       "<polyline clip-path=\"url(#clip342)\" style=\"stroke:#000000; stroke-linecap:round; stroke-linejoin:round; stroke-width:2; stroke-opacity:0.1; fill:none\" points=\"234.125,407.421 2352.76,407.421 \"/>\n",
       "<polyline clip-path=\"url(#clip342)\" style=\"stroke:#000000; stroke-linecap:round; stroke-linejoin:round; stroke-width:2; stroke-opacity:0.1; fill:none\" points=\"234.125,79.6299 2352.76,79.6299 \"/>\n",
       "<polyline clip-path=\"url(#clip340)\" style=\"stroke:#000000; stroke-linecap:round; stroke-linejoin:round; stroke-width:4; stroke-opacity:1; fill:none\" points=\"234.125,1423.18 234.125,47.2441 \"/>\n",
       "<polyline clip-path=\"url(#clip340)\" style=\"stroke:#000000; stroke-linecap:round; stroke-linejoin:round; stroke-width:4; stroke-opacity:1; fill:none\" points=\"234.125,1390.79 253.023,1390.79 \"/>\n",
       "<polyline clip-path=\"url(#clip340)\" style=\"stroke:#000000; stroke-linecap:round; stroke-linejoin:round; stroke-width:4; stroke-opacity:1; fill:none\" points=\"234.125,1063 253.023,1063 \"/>\n",
       "<polyline clip-path=\"url(#clip340)\" style=\"stroke:#000000; stroke-linecap:round; stroke-linejoin:round; stroke-width:4; stroke-opacity:1; fill:none\" points=\"234.125,735.212 253.023,735.212 \"/>\n",
       "<polyline clip-path=\"url(#clip340)\" style=\"stroke:#000000; stroke-linecap:round; stroke-linejoin:round; stroke-width:4; stroke-opacity:1; fill:none\" points=\"234.125,407.421 253.023,407.421 \"/>\n",
       "<polyline clip-path=\"url(#clip340)\" style=\"stroke:#000000; stroke-linecap:round; stroke-linejoin:round; stroke-width:4; stroke-opacity:1; fill:none\" points=\"234.125,79.6299 253.023,79.6299 \"/>\n",
       "<path clip-path=\"url(#clip340)\" d=\"M186.181 1376.59 Q182.57 1376.59 180.741 1380.16 Q178.936 1383.7 178.936 1390.83 Q178.936 1397.94 180.741 1401.5 Q182.57 1405.04 186.181 1405.04 Q189.815 1405.04 191.621 1401.5 Q193.45 1397.94 193.45 1390.83 Q193.45 1383.7 191.621 1380.16 Q189.815 1376.59 186.181 1376.59 M186.181 1372.89 Q191.991 1372.89 195.047 1377.5 Q198.125 1382.08 198.125 1390.83 Q198.125 1399.56 195.047 1404.16 Q191.991 1408.75 186.181 1408.75 Q180.371 1408.75 177.292 1404.16 Q174.237 1399.56 174.237 1390.83 Q174.237 1382.08 177.292 1377.5 Q180.371 1372.89 186.181 1372.89 Z\" fill=\"#000000\" fill-rule=\"nonzero\" fill-opacity=\"1\" /><path clip-path=\"url(#clip340)\" d=\"M146.066 1045.72 L164.422 1045.72 L164.422 1049.66 L150.348 1049.66 L150.348 1058.13 Q151.366 1057.78 152.385 1057.62 Q153.403 1057.44 154.422 1057.44 Q160.209 1057.44 163.589 1060.61 Q166.968 1063.78 166.968 1069.2 Q166.968 1074.77 163.496 1077.88 Q160.024 1080.95 153.704 1080.95 Q151.528 1080.95 149.26 1080.58 Q147.015 1080.21 144.607 1079.47 L144.607 1074.77 Q146.691 1075.91 148.913 1076.46 Q151.135 1077.02 153.612 1077.02 Q157.616 1077.02 159.954 1074.91 Q162.292 1072.81 162.292 1069.2 Q162.292 1065.58 159.954 1063.48 Q157.616 1061.37 153.612 1061.37 Q151.737 1061.37 149.862 1061.79 Q148.01 1062.2 146.066 1063.08 L146.066 1045.72 Z\" fill=\"#000000\" fill-rule=\"nonzero\" fill-opacity=\"1\" /><path clip-path=\"url(#clip340)\" d=\"M186.181 1048.8 Q182.57 1048.8 180.741 1052.37 Q178.936 1055.91 178.936 1063.04 Q178.936 1070.14 180.741 1073.71 Q182.57 1077.25 186.181 1077.25 Q189.815 1077.25 191.621 1073.71 Q193.45 1070.14 193.45 1063.04 Q193.45 1055.91 191.621 1052.37 Q189.815 1048.8 186.181 1048.8 M186.181 1045.1 Q191.991 1045.1 195.047 1049.7 Q198.125 1054.29 198.125 1063.04 Q198.125 1071.76 195.047 1076.37 Q191.991 1080.95 186.181 1080.95 Q180.371 1080.95 177.292 1076.37 Q174.237 1071.76 174.237 1063.04 Q174.237 1054.29 177.292 1049.7 Q180.371 1045.1 186.181 1045.1 Z\" fill=\"#000000\" fill-rule=\"nonzero\" fill-opacity=\"1\" /><path clip-path=\"url(#clip340)\" d=\"M116.668 748.557 L124.306 748.557 L124.306 722.191 L115.996 723.858 L115.996 719.599 L124.26 717.932 L128.936 717.932 L128.936 748.557 L136.575 748.557 L136.575 752.492 L116.668 752.492 L116.668 748.557 Z\" fill=\"#000000\" fill-rule=\"nonzero\" fill-opacity=\"1\" /><path clip-path=\"url(#clip340)\" d=\"M156.019 721.011 Q152.408 721.011 150.579 724.575 Q148.774 728.117 148.774 735.247 Q148.774 742.353 150.579 745.918 Q152.408 749.46 156.019 749.46 Q159.653 749.46 161.459 745.918 Q163.288 742.353 163.288 735.247 Q163.288 728.117 161.459 724.575 Q159.653 721.011 156.019 721.011 M156.019 717.307 Q161.829 717.307 164.885 721.913 Q167.964 726.497 167.964 735.247 Q167.964 743.973 164.885 748.58 Q161.829 753.163 156.019 753.163 Q150.209 753.163 147.13 748.58 Q144.075 743.973 144.075 735.247 Q144.075 726.497 147.13 721.913 Q150.209 717.307 156.019 717.307 Z\" fill=\"#000000\" fill-rule=\"nonzero\" fill-opacity=\"1\" /><path clip-path=\"url(#clip340)\" d=\"M186.181 721.011 Q182.57 721.011 180.741 724.575 Q178.936 728.117 178.936 735.247 Q178.936 742.353 180.741 745.918 Q182.57 749.46 186.181 749.46 Q189.815 749.46 191.621 745.918 Q193.45 742.353 193.45 735.247 Q193.45 728.117 191.621 724.575 Q189.815 721.011 186.181 721.011 M186.181 717.307 Q191.991 717.307 195.047 721.913 Q198.125 726.497 198.125 735.247 Q198.125 743.973 195.047 748.58 Q191.991 753.163 186.181 753.163 Q180.371 753.163 177.292 748.58 Q174.237 743.973 174.237 735.247 Q174.237 726.497 177.292 721.913 Q180.371 717.307 186.181 717.307 Z\" fill=\"#000000\" fill-rule=\"nonzero\" fill-opacity=\"1\" /><path clip-path=\"url(#clip340)\" d=\"M116.668 420.766 L124.306 420.766 L124.306 394.4 L115.996 396.067 L115.996 391.808 L124.26 390.141 L128.936 390.141 L128.936 420.766 L136.575 420.766 L136.575 424.701 L116.668 424.701 L116.668 420.766 Z\" fill=\"#000000\" fill-rule=\"nonzero\" fill-opacity=\"1\" /><path clip-path=\"url(#clip340)\" d=\"M146.066 390.141 L164.422 390.141 L164.422 394.076 L150.348 394.076 L150.348 402.548 Q151.366 402.201 152.385 402.039 Q153.403 401.854 154.422 401.854 Q160.209 401.854 163.589 405.025 Q166.968 408.196 166.968 413.613 Q166.968 419.192 163.496 422.294 Q160.024 425.372 153.704 425.372 Q151.528 425.372 149.26 425.002 Q147.015 424.631 144.607 423.891 L144.607 419.192 Q146.691 420.326 148.913 420.881 Q151.135 421.437 153.612 421.437 Q157.616 421.437 159.954 419.331 Q162.292 417.224 162.292 413.613 Q162.292 410.002 159.954 407.895 Q157.616 405.789 153.612 405.789 Q151.737 405.789 149.862 406.206 Q148.01 406.622 146.066 407.502 L146.066 390.141 Z\" fill=\"#000000\" fill-rule=\"nonzero\" fill-opacity=\"1\" /><path clip-path=\"url(#clip340)\" d=\"M186.181 393.22 Q182.57 393.22 180.741 396.784 Q178.936 400.326 178.936 407.456 Q178.936 414.562 180.741 418.127 Q182.57 421.669 186.181 421.669 Q189.815 421.669 191.621 418.127 Q193.45 414.562 193.45 407.456 Q193.45 400.326 191.621 396.784 Q189.815 393.22 186.181 393.22 M186.181 389.516 Q191.991 389.516 195.047 394.122 Q198.125 398.706 198.125 407.456 Q198.125 416.182 195.047 420.789 Q191.991 425.372 186.181 425.372 Q180.371 425.372 177.292 420.789 Q174.237 416.182 174.237 407.456 Q174.237 398.706 177.292 394.122 Q180.371 389.516 186.181 389.516 Z\" fill=\"#000000\" fill-rule=\"nonzero\" fill-opacity=\"1\" /><path clip-path=\"url(#clip340)\" d=\"M119.885 92.9747 L136.204 92.9747 L136.204 96.9099 L114.26 96.9099 L114.26 92.9747 Q116.922 90.2201 121.505 85.5905 Q126.112 80.9377 127.292 79.5951 Q129.538 77.072 130.417 75.3359 Q131.32 73.5766 131.32 71.8868 Q131.32 69.1322 129.376 67.3961 Q127.455 65.66 124.353 65.66 Q122.154 65.66 119.7 66.4239 Q117.269 67.1878 114.492 68.7387 L114.492 64.0165 Q117.316 62.8823 119.769 62.3036 Q122.223 61.7249 124.26 61.7249 Q129.63 61.7249 132.825 64.41 Q136.019 67.0952 136.019 71.5859 Q136.019 73.7155 135.209 75.6368 Q134.422 77.535 132.316 80.1275 Q131.737 80.7988 128.635 84.0164 Q125.533 87.2108 119.885 92.9747 Z\" fill=\"#000000\" fill-rule=\"nonzero\" fill-opacity=\"1\" /><path clip-path=\"url(#clip340)\" d=\"M156.019 65.4285 Q152.408 65.4285 150.579 68.9933 Q148.774 72.535 148.774 79.6646 Q148.774 86.771 150.579 90.3358 Q152.408 93.8775 156.019 93.8775 Q159.653 93.8775 161.459 90.3358 Q163.288 86.771 163.288 79.6646 Q163.288 72.535 161.459 68.9933 Q159.653 65.4285 156.019 65.4285 M156.019 61.7249 Q161.829 61.7249 164.885 66.3313 Q167.964 70.9146 167.964 79.6646 Q167.964 88.3914 164.885 92.9978 Q161.829 97.5811 156.019 97.5811 Q150.209 97.5811 147.13 92.9978 Q144.075 88.3914 144.075 79.6646 Q144.075 70.9146 147.13 66.3313 Q150.209 61.7249 156.019 61.7249 Z\" fill=\"#000000\" fill-rule=\"nonzero\" fill-opacity=\"1\" /><path clip-path=\"url(#clip340)\" d=\"M186.181 65.4285 Q182.57 65.4285 180.741 68.9933 Q178.936 72.535 178.936 79.6646 Q178.936 86.771 180.741 90.3358 Q182.57 93.8775 186.181 93.8775 Q189.815 93.8775 191.621 90.3358 Q193.45 86.771 193.45 79.6646 Q193.45 72.535 191.621 68.9933 Q189.815 65.4285 186.181 65.4285 M186.181 61.7249 Q191.991 61.7249 195.047 66.3313 Q198.125 70.9146 198.125 79.6646 Q198.125 88.3914 195.047 92.9978 Q191.991 97.5811 186.181 97.5811 Q180.371 97.5811 177.292 92.9978 Q174.237 88.3914 174.237 79.6646 Q174.237 70.9146 177.292 66.3313 Q180.371 61.7249 186.181 61.7249 Z\" fill=\"#000000\" fill-rule=\"nonzero\" fill-opacity=\"1\" /><path clip-path=\"url(#clip340)\" d=\"M42.4881 991.273 L64.0042 991.273 L64.0042 997.129 L42.679 997.129 Q37.6183 997.129 35.1038 999.102 Q32.5894 1001.08 32.5894 1005.02 Q32.5894 1009.76 35.6131 1012.5 Q38.6368 1015.24 43.8567 1015.24 L64.0042 1015.24 L64.0042 1021.13 L28.3562 1021.13 L28.3562 1015.24 L33.8944 1015.24 Q30.6797 1013.14 29.0883 1010.31 Q27.4968 1007.44 27.4968 1003.72 Q27.4968 997.575 31.3163 994.424 Q35.1038 991.273 42.4881 991.273 Z\" fill=\"#000000\" fill-rule=\"nonzero\" fill-opacity=\"1\" /><path clip-path=\"url(#clip340)\" d=\"M49.9359 980.196 L28.3562 980.196 L28.3562 974.34 L49.7131 974.34 Q54.7739 974.34 57.3202 972.366 Q59.8346 970.393 59.8346 966.446 Q59.8346 961.704 56.8109 958.967 Q53.7872 956.197 48.5673 956.197 L28.3562 956.197 L28.3562 950.341 L64.0042 950.341 L64.0042 956.197 L58.5296 956.197 Q61.7762 958.33 63.3676 961.163 Q64.9272 963.964 64.9272 967.688 Q64.9272 973.83 61.1078 977.013 Q57.2883 980.196 49.9359 980.196 M27.4968 965.46 L27.4968 965.46 Z\" fill=\"#000000\" fill-rule=\"nonzero\" fill-opacity=\"1\" /><path clip-path=\"url(#clip340)\" d=\"M35.1993 910.524 Q31.2526 908.327 29.3747 905.272 Q27.4968 902.216 27.4968 898.079 Q27.4968 892.509 31.4117 889.485 Q35.2948 886.461 42.4881 886.461 L64.0042 886.461 L64.0042 892.349 L42.679 892.349 Q37.5546 892.349 35.072 894.164 Q32.5894 895.978 32.5894 899.702 Q32.5894 904.253 35.6131 906.895 Q38.6368 909.537 43.8567 909.537 L64.0042 909.537 L64.0042 915.425 L42.679 915.425 Q37.5228 915.425 35.072 917.239 Q32.5894 919.054 32.5894 922.841 Q32.5894 927.329 35.6449 929.971 Q38.6686 932.613 43.8567 932.613 L64.0042 932.613 L64.0042 938.501 L28.3562 938.501 L28.3562 932.613 L33.8944 932.613 Q30.616 930.607 29.0564 927.806 Q27.4968 925.006 27.4968 921.154 Q27.4968 917.271 29.4702 914.566 Q31.4436 911.828 35.1993 910.524 Z\" fill=\"#000000\" fill-rule=\"nonzero\" fill-opacity=\"1\" /><path clip-path=\"url(#clip340)\" d=\"M46.212 849.19 Q39.7508 849.19 36.0905 851.864 Q32.3984 854.505 32.3984 859.152 Q32.3984 863.799 36.0905 866.473 Q39.7508 869.115 46.212 869.115 Q52.6732 869.115 56.3653 866.473 Q60.0256 863.799 60.0256 859.152 Q60.0256 854.505 56.3653 851.864 Q52.6732 849.19 46.212 849.19 M33.7671 869.115 Q30.5842 867.269 29.0564 864.468 Q27.4968 861.635 27.4968 857.72 Q27.4968 851.227 32.6531 847.185 Q37.8093 843.111 46.212 843.111 Q54.6147 843.111 59.771 847.185 Q64.9272 851.227 64.9272 857.72 Q64.9272 861.635 63.3994 864.468 Q61.8398 867.269 58.657 869.115 L64.0042 869.115 L64.0042 875.003 L14.479 875.003 L14.479 869.115 L33.7671 869.115 Z\" fill=\"#000000\" fill-rule=\"nonzero\" fill-opacity=\"1\" /><path clip-path=\"url(#clip340)\" d=\"M44.7161 802.911 L47.5806 802.911 L47.5806 829.838 Q53.6281 829.456 56.8109 826.21 Q59.9619 822.931 59.9619 817.107 Q59.9619 813.733 59.1344 810.582 Q58.3069 807.399 56.6518 804.28 L62.1899 804.28 Q63.5267 807.431 64.227 810.741 Q64.9272 814.051 64.9272 817.457 Q64.9272 825.987 59.9619 830.984 Q54.9967 835.949 46.5303 835.949 Q37.7774 835.949 32.6531 831.239 Q27.4968 826.496 27.4968 818.475 Q27.4968 811.282 32.1438 807.113 Q36.7589 802.911 44.7161 802.911 M42.9973 808.768 Q38.1912 808.831 35.3266 811.473 Q32.4621 814.083 32.4621 818.412 Q32.4621 823.313 35.2312 826.273 Q38.0002 829.202 43.0292 829.647 L42.9973 808.768 Z\" fill=\"#000000\" fill-rule=\"nonzero\" fill-opacity=\"1\" /><path clip-path=\"url(#clip340)\" d=\"M33.8307 772.642 Q33.2578 773.629 33.0032 774.807 Q32.7167 775.952 32.7167 777.353 Q32.7167 782.318 35.9632 784.992 Q39.1779 787.634 45.2253 787.634 L64.0042 787.634 L64.0042 793.522 L28.3562 793.522 L28.3562 787.634 L33.8944 787.634 Q30.6479 785.788 29.0883 782.827 Q27.4968 779.867 27.4968 775.634 Q27.4968 775.029 27.5923 774.297 Q27.656 773.565 27.8151 772.674 L33.8307 772.642 Z\" fill=\"#000000\" fill-rule=\"nonzero\" fill-opacity=\"1\" /><path clip-path=\"url(#clip340)\" d=\"M32.4621 731.965 Q32.4621 736.676 36.1542 739.413 Q39.8145 742.151 46.212 742.151 Q52.6095 742.151 56.3017 739.445 Q59.9619 736.708 59.9619 731.965 Q59.9619 727.287 56.2698 724.549 Q52.5777 721.812 46.212 721.812 Q39.8781 721.812 36.186 724.549 Q32.4621 727.287 32.4621 731.965 M27.4968 731.965 Q27.4968 724.327 32.4621 719.966 Q37.4273 715.606 46.212 715.606 Q54.9649 715.606 59.9619 719.966 Q64.9272 724.327 64.9272 731.965 Q64.9272 739.636 59.9619 743.997 Q54.9649 748.325 46.212 748.325 Q37.4273 748.325 32.4621 743.997 Q27.4968 739.636 27.4968 731.965 Z\" fill=\"#000000\" fill-rule=\"nonzero\" fill-opacity=\"1\" /><path clip-path=\"url(#clip340)\" d=\"M14.479 687.851 L19.3487 687.851 L19.3487 693.453 Q19.3487 696.604 20.6219 697.845 Q21.895 699.055 25.2052 699.055 L28.3562 699.055 L28.3562 689.411 L32.9077 689.411 L32.9077 699.055 L64.0042 699.055 L64.0042 704.943 L32.9077 704.943 L32.9077 710.545 L28.3562 710.545 L28.3562 704.943 L25.8736 704.943 Q19.9216 704.943 17.2162 702.174 Q14.479 699.405 14.479 693.389 L14.479 687.851 Z\" fill=\"#000000\" fill-rule=\"nonzero\" fill-opacity=\"1\" /><path clip-path=\"url(#clip340)\" d=\"M46.0847 646.028 Q46.0847 653.126 47.7079 655.863 Q49.3312 658.601 53.2461 658.601 Q56.3653 658.601 58.2114 656.564 Q60.0256 654.495 60.0256 650.962 Q60.0256 646.092 56.5881 643.164 Q53.1188 640.204 47.3897 640.204 L46.0847 640.204 L46.0847 646.028 M43.6657 634.347 L64.0042 634.347 L64.0042 640.204 L58.5933 640.204 Q61.8398 642.209 63.3994 645.201 Q64.9272 648.193 64.9272 652.521 Q64.9272 657.996 61.8716 661.242 Q58.7843 664.457 53.6281 664.457 Q47.6125 664.457 44.5569 660.447 Q41.5014 656.405 41.5014 648.416 L41.5014 640.204 L40.9285 640.204 Q36.8862 640.204 34.6901 642.877 Q32.4621 645.519 32.4621 650.325 Q32.4621 653.381 33.1941 656.277 Q33.9262 659.174 35.3903 661.847 L29.9795 661.847 Q28.7381 658.633 28.1334 655.609 Q27.4968 652.585 27.4968 649.721 Q27.4968 641.986 31.5072 638.167 Q35.5176 634.347 43.6657 634.347 Z\" fill=\"#000000\" fill-rule=\"nonzero\" fill-opacity=\"1\" /><path clip-path=\"url(#clip340)\" d=\"M45.7664 598.827 Q39.4007 598.827 35.8996 601.468 Q32.3984 604.078 32.3984 608.821 Q32.3984 613.531 35.8996 616.173 Q39.4007 618.783 45.7664 618.783 Q52.1003 618.783 55.6014 616.173 Q59.1026 613.531 59.1026 608.821 Q59.1026 604.078 55.6014 601.468 Q52.1003 598.827 45.7664 598.827 M59.58 592.97 Q68.683 592.97 73.1071 597.012 Q77.5631 601.055 77.5631 609.394 Q77.5631 612.481 77.0857 615.218 Q76.6401 617.956 75.6852 620.534 L69.9879 620.534 Q71.3884 617.956 72.0568 615.441 Q72.7252 612.927 72.7252 610.317 Q72.7252 604.556 69.7015 601.691 Q66.7096 598.827 60.6303 598.827 L57.7339 598.827 Q60.885 600.641 62.4446 603.474 Q64.0042 606.306 64.0042 610.253 Q64.0042 616.81 59.0071 620.82 Q54.01 624.831 45.7664 624.831 Q37.491 624.831 32.4939 620.82 Q27.4968 616.81 27.4968 610.253 Q27.4968 606.306 29.0564 603.474 Q30.616 600.641 33.7671 598.827 L28.3562 598.827 L28.3562 592.97 L59.58 592.97 Z\" fill=\"#000000\" fill-rule=\"nonzero\" fill-opacity=\"1\" /><path clip-path=\"url(#clip340)\" d=\"M44.7161 550.416 L47.5806 550.416 L47.5806 577.342 Q53.6281 576.961 56.8109 573.714 Q59.9619 570.436 59.9619 564.611 Q59.9619 561.237 59.1344 558.086 Q58.3069 554.903 56.6518 551.784 L62.1899 551.784 Q63.5267 554.935 64.227 558.245 Q64.9272 561.555 64.9272 564.961 Q64.9272 573.491 59.9619 578.488 Q54.9967 583.454 46.5303 583.454 Q37.7774 583.454 32.6531 578.743 Q27.4968 574 27.4968 565.98 Q27.4968 558.786 32.1438 554.617 Q36.7589 550.416 44.7161 550.416 M42.9973 556.272 Q38.1912 556.336 35.3266 558.977 Q32.4621 561.587 32.4621 565.916 Q32.4621 570.818 35.2312 573.778 Q38.0002 576.706 43.0292 577.151 L42.9973 556.272 Z\" fill=\"#000000\" fill-rule=\"nonzero\" fill-opacity=\"1\" /><path clip-path=\"url(#clip340)\" d=\"M42.4881 511.171 L64.0042 511.171 L64.0042 517.027 L42.679 517.027 Q37.6183 517.027 35.1038 519.001 Q32.5894 520.974 32.5894 524.921 Q32.5894 529.663 35.6131 532.401 Q38.6368 535.138 43.8567 535.138 L64.0042 535.138 L64.0042 541.026 L28.3562 541.026 L28.3562 535.138 L33.8944 535.138 Q30.6797 533.037 29.0883 530.204 Q27.4968 527.34 27.4968 523.616 Q27.4968 517.473 31.3163 514.322 Q35.1038 511.171 42.4881 511.171 Z\" fill=\"#000000\" fill-rule=\"nonzero\" fill-opacity=\"1\" /><path clip-path=\"url(#clip340)\" d=\"M18.2347 493.697 L28.3562 493.697 L28.3562 481.634 L32.9077 481.634 L32.9077 493.697 L52.2594 493.697 Q56.6199 493.697 57.8613 492.519 Q59.1026 491.31 59.1026 487.65 L59.1026 481.634 L64.0042 481.634 L64.0042 487.65 Q64.0042 494.429 61.4897 497.007 Q58.9434 499.585 52.2594 499.585 L32.9077 499.585 L32.9077 503.882 L28.3562 503.882 L28.3562 499.585 L18.2347 499.585 L18.2347 493.697 Z\" fill=\"#000000\" fill-rule=\"nonzero\" fill-opacity=\"1\" /><path clip-path=\"url(#clip340)\" d=\"M29.4065 451.206 L34.9447 451.206 Q33.6716 453.689 33.035 456.362 Q32.3984 459.036 32.3984 461.9 Q32.3984 466.261 33.7352 468.457 Q35.072 470.621 37.7456 470.621 Q39.7826 470.621 40.9603 469.062 Q42.1061 467.502 43.1565 462.792 L43.6021 460.786 Q44.9389 454.548 47.3897 451.938 Q49.8086 449.296 54.1691 449.296 Q59.1344 449.296 62.0308 453.243 Q64.9272 457.158 64.9272 464.033 Q64.9272 466.897 64.3543 470.017 Q63.8132 473.104 62.6992 476.541 L56.6518 476.541 Q58.3387 473.295 59.198 470.144 Q60.0256 466.993 60.0256 463.906 Q60.0256 459.768 58.6251 457.54 Q57.1929 455.312 54.6147 455.312 Q52.2276 455.312 50.9545 456.935 Q49.6813 458.527 48.5037 463.969 L48.0262 466.006 Q46.8804 471.449 44.5251 473.868 Q42.138 476.287 38.0002 476.287 Q32.9713 476.287 30.2341 472.722 Q27.4968 469.157 27.4968 462.601 Q27.4968 459.354 27.9743 456.49 Q28.4517 453.625 29.4065 451.206 Z\" fill=\"#000000\" fill-rule=\"nonzero\" fill-opacity=\"1\" /><polyline clip-path=\"url(#clip342)\" style=\"stroke:#009af9; stroke-linecap:round; stroke-linejoin:round; stroke-width:4; stroke-opacity:1; fill:none\" points=\"294.087,1128.56 314.074,1004 334.061,859.773 354.048,767.991 374.035,754.879 394.022,735.212 414.009,610.651 433.996,486.091 453.983,459.867 473.97,420.533 493.957,368.086 513.945,328.751 533.932,309.084 553.919,276.304 573.906,269.749 593.893,256.637 613.88,243.525 633.867,217.302 653.854,204.19 673.841,197.635 693.828,191.079 713.815,171.411 733.802,171.411 753.79,151.744 773.777,138.632 793.764,145.188 813.751,138.632 833.738,145.188 853.725,145.188 873.712,138.632 893.699,125.521 913.686,125.521 933.673,112.409 953.66,112.409 973.647,112.409 993.634,112.409 1013.62,112.409 1033.61,112.409 1053.6,105.853 1073.58,105.853 1093.57,112.409 1113.56,112.409 1133.54,112.409 1153.53,105.853 1173.52,105.853 1193.51,105.853 1213.49,105.853 1233.48,105.853 1253.47,99.2973 1273.45,99.2973 1293.44,99.2973 1313.43,99.2973 1333.41,99.2973 1353.4,99.2973 1373.39,99.2973 1393.38,99.2973 1413.36,92.7415 1433.35,92.7415 1453.34,92.7415 1473.32,92.7415 1493.31,92.7415 1513.3,92.7415 1533.29,92.7415 1553.27,92.7415 1573.26,92.7415 1593.25,92.7415 1613.23,92.7415 1633.22,92.7415 1653.21,92.7415 1673.2,86.1857 1693.18,86.1857 1713.17,86.1857 1733.16,86.1857 1753.14,86.1857 1773.13,86.1857 1793.12,86.1857 1813.1,86.1857 1833.09,86.1857 1853.08,86.1857 1873.07,86.1857 1893.05,86.1857 1913.04,86.1857 1933.03,86.1857 1953.01,86.1857 1973,86.1857 1992.99,86.1857 2012.98,86.1857 2032.96,86.1857 2052.95,86.1857 2072.94,86.1857 2092.92,86.1857 2112.91,86.1857 2132.9,86.1857 2152.89,86.1857 2172.87,86.1857 2192.86,86.1857 2212.85,86.1857 2232.83,86.1857 2252.82,86.1857 2272.81,86.1857 2292.79,86.1857 \"/>\n",
       "<polyline clip-path=\"url(#clip342)\" style=\"stroke:#e26f46; stroke-linecap:round; stroke-linejoin:round; stroke-width:4; stroke-opacity:1; fill:none\" points=\"294.087,341.863 314.074,466.423 334.061,610.651 354.048,702.433 374.035,715.545 394.022,735.212 414.009,859.773 433.996,984.333 453.983,1010.56 473.97,1049.89 493.957,1102.34 513.945,1141.67 533.932,1161.34 553.919,1194.12 573.906,1200.68 593.893,1213.79 613.88,1226.9 633.867,1253.12 653.854,1266.23 673.841,1272.79 693.828,1279.35 713.815,1299.01 733.802,1299.01 753.79,1318.68 773.777,1331.79 793.764,1325.24 813.751,1331.79 833.738,1325.24 853.725,1325.24 873.712,1331.79 893.699,1344.9 913.686,1344.9 933.673,1358.01 953.66,1358.01 973.647,1358.01 993.634,1358.01 1013.62,1358.01 1033.61,1358.01 1053.6,1364.57 1073.58,1364.57 1093.57,1358.01 1113.56,1358.01 1133.54,1358.01 1153.53,1364.57 1173.52,1364.57 1193.51,1364.57 1213.49,1364.57 1233.48,1364.57 1253.47,1371.13 1273.45,1371.13 1293.44,1371.13 1313.43,1371.13 1333.41,1371.13 1353.4,1371.13 1373.39,1371.13 1393.38,1371.13 1413.36,1377.68 1433.35,1377.68 1453.34,1377.68 1473.32,1377.68 1493.31,1377.68 1513.3,1377.68 1533.29,1377.68 1553.27,1377.68 1573.26,1377.68 1593.25,1377.68 1613.23,1377.68 1633.22,1377.68 1653.21,1377.68 1673.2,1384.24 1693.18,1384.24 1713.17,1384.24 1733.16,1384.24 1753.14,1384.24 1773.13,1384.24 1793.12,1384.24 1813.1,1384.24 1833.09,1384.24 1853.08,1384.24 1873.07,1384.24 1893.05,1384.24 1913.04,1384.24 1933.03,1384.24 1953.01,1384.24 1973,1384.24 1992.99,1384.24 2012.98,1384.24 2032.96,1384.24 2052.95,1384.24 2072.94,1384.24 2092.92,1384.24 2112.91,1384.24 2132.9,1384.24 2152.89,1384.24 2172.87,1384.24 2192.86,1384.24 2212.85,1384.24 2232.83,1384.24 2252.82,1384.24 2272.81,1384.24 2292.79,1384.24 \"/>\n",
       "<path clip-path=\"url(#clip340)\" d=\"M1928.65 248.629 L2282.13 248.629 L2282.13 93.1086 L1928.65 93.1086  Z\" fill=\"#ffffff\" fill-rule=\"evenodd\" fill-opacity=\"1\"/>\n",
       "<polyline clip-path=\"url(#clip340)\" style=\"stroke:#000000; stroke-linecap:round; stroke-linejoin:round; stroke-width:4; stroke-opacity:1; fill:none\" points=\"1928.65,248.629 2282.13,248.629 2282.13,93.1086 1928.65,93.1086 1928.65,248.629 \"/>\n",
       "<polyline clip-path=\"url(#clip340)\" style=\"stroke:#009af9; stroke-linecap:round; stroke-linejoin:round; stroke-width:4; stroke-opacity:1; fill:none\" points=\"1952.19,144.949 2093.43,144.949 \"/>\n",
       "<path clip-path=\"url(#clip340)\" d=\"M2138.69 146.581 L2138.69 162.229 L2134.43 162.229 L2134.43 146.719 Q2134.43 143.039 2132.99 141.21 Q2131.56 139.382 2128.69 139.382 Q2125.24 139.382 2123.25 141.581 Q2121.26 143.78 2121.26 147.576 L2121.26 162.229 L2116.97 162.229 L2116.97 126.21 L2121.26 126.21 L2121.26 140.331 Q2122.79 137.993 2124.85 136.835 Q2126.93 135.678 2129.64 135.678 Q2134.1 135.678 2136.4 138.456 Q2138.69 141.21 2138.69 146.581 Z\" fill=\"#000000\" fill-rule=\"nonzero\" fill-opacity=\"1\" /><path clip-path=\"url(#clip340)\" d=\"M2158.97 149.196 Q2153.8 149.196 2151.81 150.377 Q2149.82 151.557 2149.82 154.405 Q2149.82 156.673 2151.3 158.016 Q2152.81 159.335 2155.38 159.335 Q2158.92 159.335 2161.05 156.835 Q2163.2 154.312 2163.2 150.145 L2163.2 149.196 L2158.97 149.196 M2167.46 147.437 L2167.46 162.229 L2163.2 162.229 L2163.2 158.293 Q2161.74 160.655 2159.57 161.789 Q2157.39 162.9 2154.24 162.9 Q2150.26 162.9 2147.9 160.678 Q2145.56 158.432 2145.56 154.682 Q2145.56 150.307 2148.48 148.085 Q2151.42 145.863 2157.23 145.863 L2163.2 145.863 L2163.2 145.446 Q2163.2 142.507 2161.26 140.909 Q2159.34 139.289 2155.84 139.289 Q2153.62 139.289 2151.51 139.821 Q2149.41 140.354 2147.46 141.419 L2147.46 137.483 Q2149.8 136.581 2152 136.141 Q2154.2 135.678 2156.28 135.678 Q2161.91 135.678 2164.68 138.594 Q2167.46 141.511 2167.46 147.437 Z\" fill=\"#000000\" fill-rule=\"nonzero\" fill-opacity=\"1\" /><path clip-path=\"url(#clip340)\" d=\"M2180.35 158.34 L2180.35 172.09 L2176.07 172.09 L2176.07 136.303 L2180.35 136.303 L2180.35 140.238 Q2181.7 137.923 2183.73 136.812 Q2185.79 135.678 2188.64 135.678 Q2193.36 135.678 2196.3 139.428 Q2199.27 143.178 2199.27 149.289 Q2199.27 155.4 2196.3 159.15 Q2193.36 162.9 2188.64 162.9 Q2185.79 162.9 2183.73 161.789 Q2181.7 160.655 2180.35 158.34 M2194.84 149.289 Q2194.84 144.59 2192.9 141.928 Q2190.98 139.243 2187.6 139.243 Q2184.22 139.243 2182.28 141.928 Q2180.35 144.59 2180.35 149.289 Q2180.35 153.988 2182.28 156.673 Q2184.22 159.335 2187.6 159.335 Q2190.98 159.335 2192.9 156.673 Q2194.84 153.988 2194.84 149.289 Z\" fill=\"#000000\" fill-rule=\"nonzero\" fill-opacity=\"1\" /><path clip-path=\"url(#clip340)\" d=\"M2210.45 158.34 L2210.45 172.09 L2206.16 172.09 L2206.16 136.303 L2210.45 136.303 L2210.45 140.238 Q2211.79 137.923 2213.83 136.812 Q2215.89 135.678 2218.73 135.678 Q2223.46 135.678 2226.4 139.428 Q2229.36 143.178 2229.36 149.289 Q2229.36 155.4 2226.4 159.15 Q2223.46 162.9 2218.73 162.9 Q2215.89 162.9 2213.83 161.789 Q2211.79 160.655 2210.45 158.34 M2224.94 149.289 Q2224.94 144.59 2222.99 141.928 Q2221.07 139.243 2217.69 139.243 Q2214.31 139.243 2212.37 141.928 Q2210.45 144.59 2210.45 149.289 Q2210.45 153.988 2212.37 156.673 Q2214.31 159.335 2217.69 159.335 Q2221.07 159.335 2222.99 156.673 Q2224.94 153.988 2224.94 149.289 Z\" fill=\"#000000\" fill-rule=\"nonzero\" fill-opacity=\"1\" /><path clip-path=\"url(#clip340)\" d=\"M2247.21 164.636 Q2245.4 169.266 2243.69 170.678 Q2241.97 172.09 2239.1 172.09 L2235.7 172.09 L2235.7 168.525 L2238.2 168.525 Q2239.96 168.525 2240.93 167.692 Q2241.9 166.858 2243.09 163.756 L2243.85 161.812 L2233.36 136.303 L2237.88 136.303 L2245.98 156.581 L2254.08 136.303 L2258.59 136.303 L2247.21 164.636 Z\" fill=\"#000000\" fill-rule=\"nonzero\" fill-opacity=\"1\" /><polyline clip-path=\"url(#clip340)\" style=\"stroke:#e26f46; stroke-linecap:round; stroke-linejoin:round; stroke-width:4; stroke-opacity:1; fill:none\" points=\"1952.19,196.789 2093.43,196.789 \"/>\n",
       "<path clip-path=\"url(#clip340)\" d=\"M2135.4 188.907 L2135.4 192.934 Q2133.6 192.009 2131.65 191.546 Q2129.71 191.083 2127.62 191.083 Q2124.45 191.083 2122.85 192.055 Q2121.28 193.027 2121.28 194.971 Q2121.28 196.453 2122.41 197.309 Q2123.55 198.143 2126.97 198.907 L2128.43 199.231 Q2132.97 200.203 2134.87 201.985 Q2136.79 203.745 2136.79 206.916 Q2136.79 210.527 2133.92 212.633 Q2131.07 214.74 2126.07 214.74 Q2123.99 214.74 2121.72 214.323 Q2119.47 213.93 2116.97 213.12 L2116.97 208.721 Q2119.34 209.948 2121.63 210.573 Q2123.92 211.175 2126.16 211.175 Q2129.17 211.175 2130.79 210.157 Q2132.41 209.115 2132.41 207.24 Q2132.41 205.504 2131.23 204.578 Q2130.08 203.652 2126.12 202.796 L2124.64 202.448 Q2120.68 201.615 2118.92 199.902 Q2117.16 198.166 2117.16 195.157 Q2117.16 191.499 2119.75 189.509 Q2122.35 187.518 2127.11 187.518 Q2129.47 187.518 2131.56 187.865 Q2133.64 188.212 2135.4 188.907 Z\" fill=\"#000000\" fill-rule=\"nonzero\" fill-opacity=\"1\" /><path clip-path=\"url(#clip340)\" d=\"M2155.35 201.036 Q2150.19 201.036 2148.2 202.217 Q2146.21 203.397 2146.21 206.245 Q2146.21 208.513 2147.69 209.856 Q2149.2 211.175 2151.77 211.175 Q2155.31 211.175 2157.44 208.675 Q2159.59 206.152 2159.59 201.985 L2159.59 201.036 L2155.35 201.036 M2163.85 199.277 L2163.85 214.069 L2159.59 214.069 L2159.59 210.133 Q2158.13 212.495 2155.96 213.629 Q2153.78 214.74 2150.63 214.74 Q2146.65 214.74 2144.29 212.518 Q2141.95 210.272 2141.95 206.522 Q2141.95 202.147 2144.87 199.925 Q2147.81 197.703 2153.62 197.703 L2159.59 197.703 L2159.59 197.286 Q2159.59 194.347 2157.65 192.749 Q2155.72 191.129 2152.23 191.129 Q2150.01 191.129 2147.9 191.661 Q2145.79 192.194 2143.85 193.259 L2143.85 189.323 Q2146.19 188.421 2148.39 187.981 Q2150.59 187.518 2152.67 187.518 Q2158.29 187.518 2161.07 190.434 Q2163.85 193.351 2163.85 199.277 Z\" fill=\"#000000\" fill-rule=\"nonzero\" fill-opacity=\"1\" /><path clip-path=\"url(#clip340)\" d=\"M2189.68 192.078 L2189.68 178.05 L2193.94 178.05 L2193.94 214.069 L2189.68 214.069 L2189.68 210.18 Q2188.34 212.495 2186.28 213.629 Q2184.24 214.74 2181.37 214.74 Q2176.67 214.74 2173.71 210.99 Q2170.77 207.24 2170.77 201.129 Q2170.77 195.018 2173.71 191.268 Q2176.67 187.518 2181.37 187.518 Q2184.24 187.518 2186.28 188.652 Q2188.34 189.763 2189.68 192.078 M2175.17 201.129 Q2175.17 205.828 2177.09 208.513 Q2179.03 211.175 2182.41 211.175 Q2185.79 211.175 2187.74 208.513 Q2189.68 205.828 2189.68 201.129 Q2189.68 196.43 2187.74 193.768 Q2185.79 191.083 2182.41 191.083 Q2179.03 191.083 2177.09 193.768 Q2175.17 196.43 2175.17 201.129 Z\" fill=\"#000000\" fill-rule=\"nonzero\" fill-opacity=\"1\" /></svg>\n"
      ],
      "text/html": [
       "<img src=\"data:image/png;base64,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\" />"
      ]
     },
     "metadata": {},
     "output_type": "display_data"
    },
    {
     "data": {
      "text/html": [
       "<div><div style = \"float: left;\"><span>101×2 DataFrame</span></div><div style = \"float: right;\"><span style = \"font-style: italic;\">76 rows omitted</span></div><div style = \"clear: both;\"></div></div><div class = \"data-frame\" style = \"overflow-x: scroll;\"><table class = \"data-frame\" style = \"margin-bottom: 6px;\"><thead><tr class = \"header\"><th class = \"rowNumber\" style = \"font-weight: bold; text-align: right;\">Row</th><th style = \"text-align: left;\">happy</th><th style = \"text-align: left;\">sad</th></tr><tr class = \"subheader headerLastRow\"><th class = \"rowNumber\" style = \"font-weight: bold; text-align: right;\"></th><th title = \"Int64\" style = \"text-align: left;\">Int64</th><th title = \"Int64\" style = \"text-align: left;\">Int64</th></tr></thead><tbody><tr><td class = \"rowNumber\" style = \"font-weight: bold; text-align: right;\">1</td><td style = \"text-align: right;\">40</td><td style = \"text-align: right;\">160</td></tr><tr><td class = \"rowNumber\" style = \"font-weight: bold; text-align: right;\">2</td><td style = \"text-align: right;\">59</td><td style = \"text-align: right;\">141</td></tr><tr><td class = \"rowNumber\" style = \"font-weight: bold; text-align: right;\">3</td><td style = \"text-align: right;\">81</td><td style = \"text-align: right;\">119</td></tr><tr><td class = \"rowNumber\" style = \"font-weight: bold; text-align: right;\">4</td><td style = \"text-align: right;\">95</td><td style = \"text-align: right;\">105</td></tr><tr><td class = \"rowNumber\" style = \"font-weight: bold; text-align: right;\">5</td><td style = \"text-align: right;\">97</td><td style = \"text-align: right;\">103</td></tr><tr><td class = \"rowNumber\" style = \"font-weight: bold; text-align: right;\">6</td><td style = \"text-align: right;\">100</td><td style = \"text-align: right;\">100</td></tr><tr><td class = \"rowNumber\" style = \"font-weight: bold; text-align: right;\">7</td><td style = \"text-align: right;\">119</td><td style = \"text-align: right;\">81</td></tr><tr><td class = \"rowNumber\" style = \"font-weight: bold; text-align: right;\">8</td><td style = \"text-align: right;\">138</td><td style = \"text-align: right;\">62</td></tr><tr><td class = \"rowNumber\" style = \"font-weight: bold; text-align: right;\">9</td><td style = \"text-align: right;\">142</td><td style = \"text-align: right;\">58</td></tr><tr><td class = \"rowNumber\" style = \"font-weight: bold; text-align: right;\">10</td><td style = \"text-align: right;\">148</td><td style = \"text-align: right;\">52</td></tr><tr><td class = \"rowNumber\" style = \"font-weight: bold; text-align: right;\">11</td><td style = \"text-align: right;\">156</td><td style = \"text-align: right;\">44</td></tr><tr><td class = \"rowNumber\" style = \"font-weight: bold; text-align: right;\">12</td><td style = \"text-align: right;\">162</td><td style = \"text-align: right;\">38</td></tr><tr><td class = \"rowNumber\" style = \"font-weight: bold; text-align: right;\">13</td><td style = \"text-align: right;\">165</td><td style = \"text-align: right;\">35</td></tr><tr><td style = \"text-align: right;\">&vellip;</td><td style = \"text-align: right;\">&vellip;</td><td style = \"text-align: right;\">&vellip;</td></tr><tr><td class = \"rowNumber\" style = \"font-weight: bold; text-align: right;\">90</td><td style = \"text-align: right;\">199</td><td style = \"text-align: right;\">1</td></tr><tr><td class = \"rowNumber\" style = \"font-weight: bold; text-align: right;\">91</td><td style = \"text-align: right;\">199</td><td style = \"text-align: right;\">1</td></tr><tr><td class = \"rowNumber\" style = \"font-weight: bold; text-align: right;\">92</td><td style = \"text-align: right;\">199</td><td style = \"text-align: right;\">1</td></tr><tr><td class = \"rowNumber\" style = \"font-weight: bold; text-align: right;\">93</td><td style = \"text-align: right;\">199</td><td style = \"text-align: right;\">1</td></tr><tr><td class = \"rowNumber\" style = \"font-weight: bold; text-align: right;\">94</td><td style = \"text-align: right;\">199</td><td style = \"text-align: right;\">1</td></tr><tr><td class = \"rowNumber\" style = \"font-weight: bold; text-align: right;\">95</td><td style = \"text-align: right;\">199</td><td style = \"text-align: right;\">1</td></tr><tr><td class = \"rowNumber\" style = \"font-weight: bold; text-align: right;\">96</td><td style = \"text-align: right;\">199</td><td style = \"text-align: right;\">1</td></tr><tr><td class = \"rowNumber\" style = \"font-weight: bold; text-align: right;\">97</td><td style = \"text-align: right;\">199</td><td style = \"text-align: right;\">1</td></tr><tr><td class = \"rowNumber\" style = \"font-weight: bold; text-align: right;\">98</td><td style = \"text-align: right;\">199</td><td style = \"text-align: right;\">1</td></tr><tr><td class = \"rowNumber\" style = \"font-weight: bold; text-align: right;\">99</td><td style = \"text-align: right;\">199</td><td style = \"text-align: right;\">1</td></tr><tr><td class = \"rowNumber\" style = \"font-weight: bold; text-align: right;\">100</td><td style = \"text-align: right;\">199</td><td style = \"text-align: right;\">1</td></tr><tr><td class = \"rowNumber\" style = \"font-weight: bold; text-align: right;\">101</td><td style = \"text-align: right;\">199</td><td style = \"text-align: right;\">1</td></tr></tbody></table></div>"
      ],
      "text/latex": [
       "\\begin{tabular}{r|cc}\n",
       "\t& happy & sad\\\\\n",
       "\t\\hline\n",
       "\t& Int64 & Int64\\\\\n",
       "\t\\hline\n",
       "\t1 & 40 & 160 \\\\\n",
       "\t2 & 59 & 141 \\\\\n",
       "\t3 & 81 & 119 \\\\\n",
       "\t4 & 95 & 105 \\\\\n",
       "\t5 & 97 & 103 \\\\\n",
       "\t6 & 100 & 100 \\\\\n",
       "\t7 & 119 & 81 \\\\\n",
       "\t8 & 138 & 62 \\\\\n",
       "\t9 & 142 & 58 \\\\\n",
       "\t10 & 148 & 52 \\\\\n",
       "\t11 & 156 & 44 \\\\\n",
       "\t12 & 162 & 38 \\\\\n",
       "\t13 & 165 & 35 \\\\\n",
       "\t14 & 170 & 30 \\\\\n",
       "\t15 & 171 & 29 \\\\\n",
       "\t16 & 173 & 27 \\\\\n",
       "\t17 & 175 & 25 \\\\\n",
       "\t18 & 179 & 21 \\\\\n",
       "\t19 & 181 & 19 \\\\\n",
       "\t20 & 182 & 18 \\\\\n",
       "\t21 & 183 & 17 \\\\\n",
       "\t22 & 186 & 14 \\\\\n",
       "\t23 & 186 & 14 \\\\\n",
       "\t24 & 189 & 11 \\\\\n",
       "\t25 & 191 & 9 \\\\\n",
       "\t26 & 190 & 10 \\\\\n",
       "\t27 & 191 & 9 \\\\\n",
       "\t28 & 190 & 10 \\\\\n",
       "\t29 & 190 & 10 \\\\\n",
       "\t30 & 191 & 9 \\\\\n",
       "\t$\\dots$ & $\\dots$ & $\\dots$ \\\\\n",
       "\\end{tabular}\n"
      ],
      "text/plain": [
       "\u001b[1m101×2 DataFrame\u001b[0m\n",
       "\u001b[1m Row \u001b[0m│\u001b[1m happy \u001b[0m\u001b[1m sad   \u001b[0m\n",
       "     │\u001b[90m Int64 \u001b[0m\u001b[90m Int64 \u001b[0m\n",
       "─────┼──────────────\n",
       "   1 │    40    160\n",
       "   2 │    59    141\n",
       "   3 │    81    119\n",
       "   4 │    95    105\n",
       "   5 │    97    103\n",
       "   6 │   100    100\n",
       "   7 │   119     81\n",
       "   8 │   138     62\n",
       "   9 │   142     58\n",
       "  10 │   148     52\n",
       "  11 │   156     44\n",
       "  ⋮  │   ⋮      ⋮\n",
       "  92 │   199      1\n",
       "  93 │   199      1\n",
       "  94 │   199      1\n",
       "  95 │   199      1\n",
       "  96 │   199      1\n",
       "  97 │   199      1\n",
       "  98 │   199      1\n",
       "  99 │   199      1\n",
       " 100 │   199      1\n",
       " 101 │   199      1\n",
       "\u001b[36m     80 rows omitted\u001b[0m"
      ]
     },
     "execution_count": 10,
     "metadata": {},
     "output_type": "execute_result"
    }
   ],
   "source": [
    "df = get_nums_agents(model, \n",
    "    agent-> agent.mood == happy, \n",
    "    agent-> agent.mood == sad,\n",
    "    labels=[\"happy\",\"sad\"], plot_result=true)"
   ]
  },
  {
   "cell_type": "markdown",
   "metadata": {},
   "source": [
    "Individual agent data recorded during model run can be obtained as "
   ]
  },
  {
   "cell_type": "code",
   "execution_count": 11,
   "metadata": {},
   "outputs": [
    {
     "data": {
      "text/html": [
       "<div><div style = \"float: left;\"><span>101×2 DataFrame</span></div><div style = \"float: right;\"><span style = \"font-style: italic;\">76 rows omitted</span></div><div style = \"clear: both;\"></div></div><div class = \"data-frame\" style = \"overflow-x: scroll;\"><table class = \"data-frame\" style = \"margin-bottom: 6px;\"><thead><tr class = \"header\"><th class = \"rowNumber\" style = \"font-weight: bold; text-align: right;\">Row</th><th style = \"text-align: left;\">mood</th><th style = \"text-align: left;\">pos</th></tr><tr class = \"subheader headerLastRow\"><th class = \"rowNumber\" style = \"font-weight: bold; text-align: right;\"></th><th title = \"agentsfeeling\" style = \"text-align: left;\">agentsfe…</th><th title = \"Vect{3, Int64}\" style = \"text-align: left;\">Vect…</th></tr></thead><tbody><tr><td class = \"rowNumber\" style = \"font-weight: bold; text-align: right;\">1</td><td style = \"text-align: left;\">happy</td><td style = \"text-align: left;\">(4, 5, 3)\\n</td></tr><tr><td class = \"rowNumber\" style = \"font-weight: bold; text-align: right;\">2</td><td style = \"text-align: left;\">happy</td><td style = \"text-align: left;\">(4, 5, 3)\\n</td></tr><tr><td class = \"rowNumber\" style = \"font-weight: bold; text-align: right;\">3</td><td style = \"text-align: left;\">sad</td><td style = \"text-align: left;\">(3, 5, 1)\\n</td></tr><tr><td class = \"rowNumber\" style = \"font-weight: bold; text-align: right;\">4</td><td style = \"text-align: left;\">sad</td><td style = \"text-align: left;\">(6, 6, 2)\\n</td></tr><tr><td class = \"rowNumber\" style = \"font-weight: bold; text-align: right;\">5</td><td style = \"text-align: left;\">happy</td><td style = \"text-align: left;\">(6, 6, 2)\\n</td></tr><tr><td class = \"rowNumber\" style = \"font-weight: bold; text-align: right;\">6</td><td style = \"text-align: left;\">happy</td><td style = \"text-align: left;\">(6, 6, 2)\\n</td></tr><tr><td class = \"rowNumber\" style = \"font-weight: bold; text-align: right;\">7</td><td style = \"text-align: left;\">sad</td><td style = \"text-align: left;\">(2, 1, 1)\\n</td></tr><tr><td class = \"rowNumber\" style = \"font-weight: bold; text-align: right;\">8</td><td style = \"text-align: left;\">sad</td><td style = \"text-align: left;\">(3, 7, 3)\\n</td></tr><tr><td class = \"rowNumber\" style = \"font-weight: bold; text-align: right;\">9</td><td style = \"text-align: left;\">sad</td><td style = \"text-align: left;\">(1, 3, 5)\\n</td></tr><tr><td class = \"rowNumber\" style = \"font-weight: bold; text-align: right;\">10</td><td style = \"text-align: left;\">sad</td><td style = \"text-align: left;\">(6, 6, 1)\\n</td></tr><tr><td class = \"rowNumber\" style = \"font-weight: bold; text-align: right;\">11</td><td style = \"text-align: left;\">sad</td><td style = \"text-align: left;\">(3, 2, 6)\\n</td></tr><tr><td class = \"rowNumber\" style = \"font-weight: bold; text-align: right;\">12</td><td style = \"text-align: left;\">happy</td><td style = \"text-align: left;\">(3, 2, 6)\\n</td></tr><tr><td class = \"rowNumber\" style = \"font-weight: bold; text-align: right;\">13</td><td style = \"text-align: left;\">happy</td><td style = \"text-align: left;\">(3, 2, 6)\\n</td></tr><tr><td style = \"text-align: right;\">&vellip;</td><td style = \"text-align: right;\">&vellip;</td><td style = \"text-align: right;\">&vellip;</td></tr><tr><td class = \"rowNumber\" style = \"font-weight: bold; text-align: right;\">90</td><td style = \"text-align: left;\">happy</td><td style = \"text-align: left;\">(3, 2, 6)\\n</td></tr><tr><td class = \"rowNumber\" style = \"font-weight: bold; text-align: right;\">91</td><td style = \"text-align: left;\">happy</td><td style = \"text-align: left;\">(3, 2, 6)\\n</td></tr><tr><td class = \"rowNumber\" style = \"font-weight: bold; text-align: right;\">92</td><td style = \"text-align: left;\">happy</td><td style = \"text-align: left;\">(3, 2, 6)\\n</td></tr><tr><td class = \"rowNumber\" style = \"font-weight: bold; text-align: right;\">93</td><td style = \"text-align: left;\">happy</td><td style = \"text-align: left;\">(3, 2, 6)\\n</td></tr><tr><td class = \"rowNumber\" style = \"font-weight: bold; text-align: right;\">94</td><td style = \"text-align: left;\">happy</td><td style = \"text-align: left;\">(3, 2, 6)\\n</td></tr><tr><td class = \"rowNumber\" style = \"font-weight: bold; text-align: right;\">95</td><td style = \"text-align: left;\">happy</td><td style = \"text-align: left;\">(3, 2, 6)\\n</td></tr><tr><td class = \"rowNumber\" style = \"font-weight: bold; text-align: right;\">96</td><td style = \"text-align: left;\">happy</td><td style = \"text-align: left;\">(3, 2, 6)\\n</td></tr><tr><td class = \"rowNumber\" style = \"font-weight: bold; text-align: right;\">97</td><td style = \"text-align: left;\">happy</td><td style = \"text-align: left;\">(3, 2, 6)\\n</td></tr><tr><td class = \"rowNumber\" style = \"font-weight: bold; text-align: right;\">98</td><td style = \"text-align: left;\">happy</td><td style = \"text-align: left;\">(3, 2, 6)\\n</td></tr><tr><td class = \"rowNumber\" style = \"font-weight: bold; text-align: right;\">99</td><td style = \"text-align: left;\">happy</td><td style = \"text-align: left;\">(3, 2, 6)\\n</td></tr><tr><td class = \"rowNumber\" style = \"font-weight: bold; text-align: right;\">100</td><td style = \"text-align: left;\">happy</td><td style = \"text-align: left;\">(3, 2, 6)\\n</td></tr><tr><td class = \"rowNumber\" style = \"font-weight: bold; text-align: right;\">101</td><td style = \"text-align: left;\">happy</td><td style = \"text-align: left;\">(3, 2, 6)\\n</td></tr></tbody></table></div>"
      ],
      "text/latex": [
       "\\begin{tabular}{r|cc}\n",
       "\t& mood & pos\\\\\n",
       "\t\\hline\n",
       "\t& agentsfe… & Vect…\\\\\n",
       "\t\\hline\n",
       "\t1 & happy & (4, 5, 3)\\textbackslash{}n \\\\\n",
       "\t2 & happy & (4, 5, 3)\\textbackslash{}n \\\\\n",
       "\t3 & sad & (3, 5, 1)\\textbackslash{}n \\\\\n",
       "\t4 & sad & (6, 6, 2)\\textbackslash{}n \\\\\n",
       "\t5 & happy & (6, 6, 2)\\textbackslash{}n \\\\\n",
       "\t6 & happy & (6, 6, 2)\\textbackslash{}n \\\\\n",
       "\t7 & sad & (2, 1, 1)\\textbackslash{}n \\\\\n",
       "\t8 & sad & (3, 7, 3)\\textbackslash{}n \\\\\n",
       "\t9 & sad & (1, 3, 5)\\textbackslash{}n \\\\\n",
       "\t10 & sad & (6, 6, 1)\\textbackslash{}n \\\\\n",
       "\t11 & sad & (3, 2, 6)\\textbackslash{}n \\\\\n",
       "\t12 & happy & (3, 2, 6)\\textbackslash{}n \\\\\n",
       "\t13 & happy & (3, 2, 6)\\textbackslash{}n \\\\\n",
       "\t14 & happy & (3, 2, 6)\\textbackslash{}n \\\\\n",
       "\t15 & happy & (3, 2, 6)\\textbackslash{}n \\\\\n",
       "\t16 & happy & (3, 2, 6)\\textbackslash{}n \\\\\n",
       "\t17 & happy & (3, 2, 6)\\textbackslash{}n \\\\\n",
       "\t18 & happy & (3, 2, 6)\\textbackslash{}n \\\\\n",
       "\t19 & happy & (3, 2, 6)\\textbackslash{}n \\\\\n",
       "\t20 & happy & (3, 2, 6)\\textbackslash{}n \\\\\n",
       "\t21 & happy & (3, 2, 6)\\textbackslash{}n \\\\\n",
       "\t22 & happy & (3, 2, 6)\\textbackslash{}n \\\\\n",
       "\t23 & happy & (3, 2, 6)\\textbackslash{}n \\\\\n",
       "\t24 & happy & (3, 2, 6)\\textbackslash{}n \\\\\n",
       "\t25 & happy & (3, 2, 6)\\textbackslash{}n \\\\\n",
       "\t26 & happy & (3, 2, 6)\\textbackslash{}n \\\\\n",
       "\t27 & happy & (3, 2, 6)\\textbackslash{}n \\\\\n",
       "\t28 & happy & (3, 2, 6)\\textbackslash{}n \\\\\n",
       "\t29 & happy & (3, 2, 6)\\textbackslash{}n \\\\\n",
       "\t30 & happy & (3, 2, 6)\\textbackslash{}n \\\\\n",
       "\t$\\dots$ & $\\dots$ & $\\dots$ \\\\\n",
       "\\end{tabular}\n"
      ],
      "text/plain": [
       "\u001b[1m101×2 DataFrame\u001b[0m\n",
       "\u001b[1m Row \u001b[0m│\u001b[1m mood      \u001b[0m\u001b[1m pos         \u001b[0m\n",
       "     │\u001b[90m agentsfe… \u001b[0m\u001b[90m Vect…       \u001b[0m\n",
       "─────┼────────────────────────\n",
       "   1 │ happy      (4, 5, 3)\\n\n",
       "   2 │ happy      (4, 5, 3)\\n\n",
       "   3 │ sad        (3, 5, 1)\\n\n",
       "   4 │ sad        (6, 6, 2)\\n\n",
       "   5 │ happy      (6, 6, 2)\\n\n",
       "   6 │ happy      (6, 6, 2)\\n\n",
       "   7 │ sad        (2, 1, 1)\\n\n",
       "   8 │ sad        (3, 7, 3)\\n\n",
       "   9 │ sad        (1, 3, 5)\\n\n",
       "  10 │ sad        (6, 6, 1)\\n\n",
       "  11 │ sad        (3, 2, 6)\\n\n",
       "  ⋮  │     ⋮           ⋮\n",
       "  92 │ happy      (3, 2, 6)\\n\n",
       "  93 │ happy      (3, 2, 6)\\n\n",
       "  94 │ happy      (3, 2, 6)\\n\n",
       "  95 │ happy      (3, 2, 6)\\n\n",
       "  96 │ happy      (3, 2, 6)\\n\n",
       "  97 │ happy      (3, 2, 6)\\n\n",
       "  98 │ happy      (3, 2, 6)\\n\n",
       "  99 │ happy      (3, 2, 6)\\n\n",
       " 100 │ happy      (3, 2, 6)\\n\n",
       " 101 │ happy      (3, 2, 6)\\n\n",
       "\u001b[36m               80 rows omitted\u001b[0m"
      ]
     },
     "execution_count": 11,
     "metadata": {},
     "output_type": "execute_result"
    }
   ],
   "source": [
    "df = get_agent_data(model.agents[1], model).record"
   ]
  },
  {
   "cell_type": "code",
   "execution_count": null,
   "metadata": {},
   "outputs": [],
   "source": []
  }
 ],
 "metadata": {
  "@webio": {
   "lastCommId": "9f5c8170dfc64382a5c0f26f60a1173d",
   "lastKernelId": "b9d11b2c-47d4-4fcc-a583-20a1e778a65d"
  },
  "kernelspec": {
   "display_name": "Julia 1.9.2",
   "language": "julia",
   "name": "julia-1.9"
  },
  "language_info": {
   "file_extension": ".jl",
   "mimetype": "application/julia",
   "name": "julia",
   "version": "1.9.2"
  }
 },
 "nbformat": 4,
 "nbformat_minor": 4
}
