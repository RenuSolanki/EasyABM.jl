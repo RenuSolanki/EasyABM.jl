{
 "cells": [
  {
   "cell_type": "markdown",
   "metadata": {},
   "source": [
    "# Schelling segregation model 3D"
   ]
  },
  {
   "cell_type": "code",
   "execution_count": 1,
   "metadata": {},
   "outputs": [
    {
     "name": "stderr",
     "output_type": "stream",
     "text": [
      "\u001b[32m\u001b[1m  Activating\u001b[22m\u001b[39m project at `~/Documents/EasyABM`\n",
      "\u001b[36m\u001b[1m[ \u001b[22m\u001b[39m\u001b[36m\u001b[1mInfo: \u001b[22m\u001b[39mPrecompiling EasyABM [2ab8e4d3-e1e9-4248-86a3-8419d2d242e9]\n"
     ]
    },
    {
     "data": {
      "application/vnd.webio.node+json": {
       "children": [],
       "instanceArgs": {
        "namespace": "html",
        "tag": "div"
       },
       "nodeType": "DOM",
       "props": {},
       "type": "node"
      },
      "text/html": [
       "<div style=\"padding: 1em; background-color: #f8d6da; border: 1px solid #f5c6cb; font-weight: bold;\">\n",
       "<p>The WebIO Jupyter extension was not detected. See the\n",
       "<a href=\"https://juliagizmos.github.io/WebIO.jl/latest/providers/ijulia/\" target=\"_blank\">\n",
       "    WebIO Jupyter integration documentation\n",
       "</a>\n",
       "for more information.\n",
       "</div>\n"
      ],
      "text/plain": [
       "WebIO._IJuliaInit()"
      ]
     },
     "metadata": {
      "application/vnd.webio.node+json": {
       "kernelId": "e5c0945a-d067-4dbd-aea6-91b59583cc8b"
      }
     },
     "output_type": "display_data"
    }
   ],
   "source": [
    "using Pkg, Revise\n",
    "Pkg.activate(joinpath(@__DIR__, \"../..\"))\n",
    "using EasyABM"
   ]
  },
  {
   "cell_type": "markdown",
   "metadata": {},
   "source": [
    "## Step 1: Create Agents and Model\n",
    "\n",
    "Lets create 200 agents with properties `pos`, `mood` and `color`. The `keeps_record_of` argument is list of properties that the agent will record during time evolution. The `min_alike` property of the model which specifies the minimum number of alike neighbors for an agent to be happy, is set to be 8. "
   ]
  },
  {
   "cell_type": "code",
   "execution_count": 2,
   "metadata": {},
   "outputs": [],
   "source": [
    "@enum agentsfeeling happy sad"
   ]
  },
  {
   "cell_type": "code",
   "execution_count": 3,
   "metadata": {
    "scrolled": true
   },
   "outputs": [
    {
     "data": {
      "text/plain": [
       "EasyABM SpaceModel3D{EasyABM.StaticType, Int64, EasyABM.NPeriodicType}: In a EasyABM.StaticType model number of agents is fixed.\n"
      ]
     },
     "execution_count": 3,
     "metadata": {},
     "output_type": "execute_result"
    }
   ],
   "source": [
    "@enum agentsfeeling happy sad\n",
    "agents = grid_3d_agents(200, pos = Vect(1,1,1), \n",
    "    color = cl\"red\", mood = happy, keeps_record_of=Set([:pos, :mood]))\n",
    "model = create_3d_model(agents, agents_type = Static, \n",
    "    space_type = NPeriodic, size = (7,7,7), min_alike = 8)"
   ]
  },
  {
   "cell_type": "markdown",
   "metadata": {},
   "source": [
    "\n",
    "## Step 2: Initialise the model\n",
    "\n",
    "In the second step we initialise the agents by defining `initialiser!` function and then sending it as an argument to `init_model!`. In the `initialiser!` function we randomly set agents color to be either `cl\"red\"` or `cl\"green\"` and set their positions randomly such that there is not more than one agent on each patch. Then we set the `mood` property of each agent to be `happy` or `sad` depending upon the number of alike agents in neighborhood. "
   ]
  },
  {
   "cell_type": "code",
   "execution_count": 4,
   "metadata": {},
   "outputs": [],
   "source": [
    "function initialiser!(model)\n",
    "    for agent in model.agents\n",
    "        agent.color = [cl\"red\", cl\"green\"][rand(1:2)]\n",
    "        x,y,z = random_empty_patch(model) \n",
    "        agent.pos = Vect(x, y, z)     \n",
    "    end    \n",
    "    for agent in model.agents\n",
    "        nbrs = neighbors_moore(agent, model, 1)\n",
    "        num_same = 0\n",
    "        for nbr in nbrs\n",
    "            if nbr.color == agent.color\n",
    "                num_same += 1\n",
    "            end\n",
    "        end\n",
    "        if num_same < model.parameters.min_alike\n",
    "            agent.mood = sad\n",
    "        end\n",
    "    end\n",
    "end\n",
    "init_model!(model, initialiser = initialiser!)"
   ]
  },
  {
   "cell_type": "markdown",
   "metadata": {},
   "source": [
    "\n",
    "## Step 3: Defining the step_rule! and running the model\n",
    "\n",
    "In this step we implement the step logic of the Schellings model in the `step_rule!` function and run the model for 100 steps. "
   ]
  },
  {
   "cell_type": "code",
   "execution_count": 5,
   "metadata": {},
   "outputs": [
    {
     "data": {
      "text/plain": [
       "step_rule! (generic function with 1 method)"
      ]
     },
     "execution_count": 5,
     "metadata": {},
     "output_type": "execute_result"
    }
   ],
   "source": [
    "function step_rule!(model)\n",
    "    min_alike = model.parameters.min_alike\n",
    "    for agent in model.agents\n",
    "        num_alike = 0\n",
    "        for nbr in neighbors_moore(agent, model,1)\n",
    "            if agent.color == nbr.color\n",
    "                num_alike += 1\n",
    "            end\n",
    "        end\n",
    "        if num_alike ≥ min_alike\n",
    "            agent.mood = happy\n",
    "        else\n",
    "            agent.mood = sad\n",
    "            x,y,z = random_empty_patch(model) \n",
    "            agent.pos = Vect(x, y, z)\n",
    "        end\n",
    "    end\n",
    "    return\n",
    "end"
   ]
  },
  {
   "cell_type": "code",
   "execution_count": 6,
   "metadata": {
    "scrolled": true
   },
   "outputs": [],
   "source": [
    "run_model!(model, steps=100, step_rule = step_rule!)"
   ]
  },
  {
   "cell_type": "markdown",
   "metadata": {},
   "source": [
    "## Step 4: Visualisation"
   ]
  },
  {
   "cell_type": "markdown",
   "metadata": {},
   "source": [
    "The following code will draw the state of the model at frame number 4. "
   ]
  },
  {
   "cell_type": "code",
   "execution_count": 7,
   "metadata": {},
   "outputs": [
    {
     "name": "stderr",
     "output_type": "stream",
     "text": [
      "\u001b[36m\u001b[1m[ \u001b[22m\u001b[39m\u001b[36m\u001b[1mInfo: \u001b[22m\u001b[39mListening on: 127.0.0.1:8700, thread id: 1\n",
      "\u001b[36m\u001b[1m┌ \u001b[22m\u001b[39m\u001b[36m\u001b[1mInfo: \u001b[22m\u001b[39mMeshCat server started. You can open the visualizer by visiting the following URL in your browser:\n",
      "\u001b[36m\u001b[1m└ \u001b[22m\u001b[39mhttp://127.0.0.1:8700\n"
     ]
    },
    {
     "data": {
      "text/html": [
       "    <div style=\"height: 500px; width: 100%; overflow-x: auto; overflow-y: hidden; resize: both\">\n",
       "    <iframe src=\"http://127.0.0.1:8700\" style=\"width: 100%; height: 100%; border: none\"></iframe>\n",
       "    </div>\n"
      ],
      "text/plain": [
       "MeshCat.DisplayedVisualizer(MeshCat.CoreVisualizer(MeshCat.SceneTrees.SceneNode(nothing, nothing, Dict{String, Vector{UInt8}}(), nothing, Dict{String, MeshCat.SceneTrees.SceneNode}(\"meshcat\" => MeshCat.SceneTrees.SceneNode(nothing, UInt8[0x83, 0xa6, 0x6d, 0x61, 0x74, 0x72, 0x69, 0x78, 0xc7, 0x40  …  0x68, 0xa8, 0x2f, 0x6d, 0x65, 0x73, 0x68, 0x63, 0x61, 0x74], Dict{String, Vector{UInt8}}(), nothing, Dict{String, MeshCat.SceneTrees.SceneNode}(\"agents\" => MeshCat.SceneTrees.SceneNode(nothing, nothing, Dict{String, Vector{UInt8}}(), nothing, Dict{String, MeshCat.SceneTrees.SceneNode}(\"1\" => MeshCat.SceneTrees.SceneNode(UInt8[0x83, 0xa6, 0x6f, 0x62, 0x6a, 0x65, 0x63, 0x74, 0x84, 0xaa  …  0x74, 0x2f, 0x61, 0x67, 0x65, 0x6e, 0x74, 0x73, 0x2f, 0x31], UInt8[0x83, 0xa6, 0x6d, 0x61, 0x74, 0x72, 0x69, 0x78, 0xc7, 0x40  …  0x74, 0x2f, 0x61, 0x67, 0x65, 0x6e, 0x74, 0x73, 0x2f, 0x31], Dict{String, Vector{UInt8}}(\"position\" => [0x84, 0xa8, 0x70, 0x72, 0x6f, 0x70, 0x65, 0x72, 0x74, 0x79  …  0x74, 0x2f, 0x61, 0x67, 0x65, 0x6e, 0x74, 0x73, 0x2f, 0x31]), nothing, Dict{String, MeshCat.SceneTrees.SceneNode}()), \"54\" => MeshCat.SceneTrees.SceneNode(UInt8[0x83, 0xa6, 0x6f, 0x62, 0x6a, 0x65, 0x63, 0x74, 0x84, 0xaa  …  0x2f, 0x61, 0x67, 0x65, 0x6e, 0x74, 0x73, 0x2f, 0x35, 0x34], UInt8[0x83, 0xa6, 0x6d, 0x61, 0x74, 0x72, 0x69, 0x78, 0xc7, 0x40  …  0x2f, 0x61, 0x67, 0x65, 0x6e, 0x74, 0x73, 0x2f, 0x35, 0x34], Dict{String, Vector{UInt8}}(\"position\" => [0x84, 0xa8, 0x70, 0x72, 0x6f, 0x70, 0x65, 0x72, 0x74, 0x79  …  0x2f, 0x61, 0x67, 0x65, 0x6e, 0x74, 0x73, 0x2f, 0x35, 0x34]), nothing, Dict{String, MeshCat.SceneTrees.SceneNode}()), \"101\" => MeshCat.SceneTrees.SceneNode(UInt8[0x83, 0xa6, 0x6f, 0x62, 0x6a, 0x65, 0x63, 0x74, 0x84, 0xaa  …  0x61, 0x67, 0x65, 0x6e, 0x74, 0x73, 0x2f, 0x31, 0x30, 0x31], UInt8[0x83, 0xa6, 0x6d, 0x61, 0x74, 0x72, 0x69, 0x78, 0xc7, 0x40  …  0x61, 0x67, 0x65, 0x6e, 0x74, 0x73, 0x2f, 0x31, 0x30, 0x31], Dict{String, Vector{UInt8}}(\"position\" => [0x84, 0xa8, 0x70, 0x72, 0x6f, 0x70, 0x65, 0x72, 0x74, 0x79  …  0x61, 0x67, 0x65, 0x6e, 0x74, 0x73, 0x2f, 0x31, 0x30, 0x31]), nothing, Dict{String, MeshCat.SceneTrees.SceneNode}()), \"41\" => MeshCat.SceneTrees.SceneNode(UInt8[0x83, 0xa6, 0x6f, 0x62, 0x6a, 0x65, 0x63, 0x74, 0x84, 0xaa  …  0x2f, 0x61, 0x67, 0x65, 0x6e, 0x74, 0x73, 0x2f, 0x34, 0x31], UInt8[0x83, 0xa6, 0x6d, 0x61, 0x74, 0x72, 0x69, 0x78, 0xc7, 0x40  …  0x2f, 0x61, 0x67, 0x65, 0x6e, 0x74, 0x73, 0x2f, 0x34, 0x31], Dict{String, Vector{UInt8}}(\"position\" => [0x84, 0xa8, 0x70, 0x72, 0x6f, 0x70, 0x65, 0x72, 0x74, 0x79  …  0x2f, 0x61, 0x67, 0x65, 0x6e, 0x74, 0x73, 0x2f, 0x34, 0x31]), nothing, Dict{String, MeshCat.SceneTrees.SceneNode}()), \"65\" => MeshCat.SceneTrees.SceneNode(UInt8[0x83, 0xa6, 0x6f, 0x62, 0x6a, 0x65, 0x63, 0x74, 0x84, 0xaa  …  0x2f, 0x61, 0x67, 0x65, 0x6e, 0x74, 0x73, 0x2f, 0x36, 0x35], UInt8[0x83, 0xa6, 0x6d, 0x61, 0x74, 0x72, 0x69, 0x78, 0xc7, 0x40  …  0x2f, 0x61, 0x67, 0x65, 0x6e, 0x74, 0x73, 0x2f, 0x36, 0x35], Dict{String, Vector{UInt8}}(\"position\" => [0x84, 0xa8, 0x70, 0x72, 0x6f, 0x70, 0x65, 0x72, 0x74, 0x79  …  0x2f, 0x61, 0x67, 0x65, 0x6e, 0x74, 0x73, 0x2f, 0x36, 0x35]), nothing, Dict{String, MeshCat.SceneTrees.SceneNode}()), \"168\" => MeshCat.SceneTrees.SceneNode(UInt8[0x83, 0xa6, 0x6f, 0x62, 0x6a, 0x65, 0x63, 0x74, 0x84, 0xaa  …  0x61, 0x67, 0x65, 0x6e, 0x74, 0x73, 0x2f, 0x31, 0x36, 0x38], UInt8[0x83, 0xa6, 0x6d, 0x61, 0x74, 0x72, 0x69, 0x78, 0xc7, 0x40  …  0x61, 0x67, 0x65, 0x6e, 0x74, 0x73, 0x2f, 0x31, 0x36, 0x38], Dict{String, Vector{UInt8}}(\"position\" => [0x84, 0xa8, 0x70, 0x72, 0x6f, 0x70, 0x65, 0x72, 0x74, 0x79  …  0x61, 0x67, 0x65, 0x6e, 0x74, 0x73, 0x2f, 0x31, 0x36, 0x38]), nothing, Dict{String, MeshCat.SceneTrees.SceneNode}()), \"159\" => MeshCat.SceneTrees.SceneNode(UInt8[0x83, 0xa6, 0x6f, 0x62, 0x6a, 0x65, 0x63, 0x74, 0x84, 0xaa  …  0x61, 0x67, 0x65, 0x6e, 0x74, 0x73, 0x2f, 0x31, 0x35, 0x39], UInt8[0x83, 0xa6, 0x6d, 0x61, 0x74, 0x72, 0x69, 0x78, 0xc7, 0x40  …  0x61, 0x67, 0x65, 0x6e, 0x74, 0x73, 0x2f, 0x31, 0x35, 0x39], Dict{String, Vector{UInt8}}(\"position\" => [0x84, 0xa8, 0x70, 0x72, 0x6f, 0x70, 0x65, 0x72, 0x74, 0x79  …  0x61, 0x67, 0x65, 0x6e, 0x74, 0x73, 0x2f, 0x31, 0x35, 0x39]), nothing, Dict{String, MeshCat.SceneTrees.SceneNode}()), \"190\" => MeshCat.SceneTrees.SceneNode(UInt8[0x83, 0xa6, 0x6f, 0x62, 0x6a, 0x65, 0x63, 0x74, 0x84, 0xaa  …  0x61, 0x67, 0x65, 0x6e, 0x74, 0x73, 0x2f, 0x31, 0x39, 0x30], UInt8[0x83, 0xa6, 0x6d, 0x61, 0x74, 0x72, 0x69, 0x78, 0xc7, 0x40  …  0x61, 0x67, 0x65, 0x6e, 0x74, 0x73, 0x2f, 0x31, 0x39, 0x30], Dict{String, Vector{UInt8}}(\"position\" => [0x84, 0xa8, 0x70, 0x72, 0x6f, 0x70, 0x65, 0x72, 0x74, 0x79  …  0x61, 0x67, 0x65, 0x6e, 0x74, 0x73, 0x2f, 0x31, 0x39, 0x30]), nothing, Dict{String, MeshCat.SceneTrees.SceneNode}()), \"88\" => MeshCat.SceneTrees.SceneNode(UInt8[0x83, 0xa6, 0x6f, 0x62, 0x6a, 0x65, 0x63, 0x74, 0x84, 0xaa  …  0x2f, 0x61, 0x67, 0x65, 0x6e, 0x74, 0x73, 0x2f, 0x38, 0x38], UInt8[0x83, 0xa6, 0x6d, 0x61, 0x74, 0x72, 0x69, 0x78, 0xc7, 0x40  …  0x2f, 0x61, 0x67, 0x65, 0x6e, 0x74, 0x73, 0x2f, 0x38, 0x38], Dict{String, Vector{UInt8}}(\"position\" => [0x84, 0xa8, 0x70, 0x72, 0x6f, 0x70, 0x65, 0x72, 0x74, 0x79  …  0x2f, 0x61, 0x67, 0x65, 0x6e, 0x74, 0x73, 0x2f, 0x38, 0x38]), nothing, Dict{String, MeshCat.SceneTrees.SceneNode}()), \"26\" => MeshCat.SceneTrees.SceneNode(UInt8[0x83, 0xa6, 0x6f, 0x62, 0x6a, 0x65, 0x63, 0x74, 0x84, 0xaa  …  0x2f, 0x61, 0x67, 0x65, 0x6e, 0x74, 0x73, 0x2f, 0x32, 0x36], UInt8[0x83, 0xa6, 0x6d, 0x61, 0x74, 0x72, 0x69, 0x78, 0xc7, 0x40  …  0x2f, 0x61, 0x67, 0x65, 0x6e, 0x74, 0x73, 0x2f, 0x32, 0x36], Dict{String, Vector{UInt8}}(\"position\" => [0x84, 0xa8, 0x70, 0x72, 0x6f, 0x70, 0x65, 0x72, 0x74, 0x79  …  0x2f, 0x61, 0x67, 0x65, 0x6e, 0x74, 0x73, 0x2f, 0x32, 0x36]), nothing, Dict{String, MeshCat.SceneTrees.SceneNode}())…)), \"bbox_line_segments\" => MeshCat.SceneTrees.SceneNode(nothing, nothing, Dict{String, Vector{UInt8}}(), nothing, Dict{String, MeshCat.SceneTrees.SceneNode}(\"4\" => MeshCat.SceneTrees.SceneNode(UInt8[0x83, 0xa6, 0x6f, 0x62, 0x6a, 0x65, 0x63, 0x74, 0x84, 0xaa  …  0x73, 0x65, 0x67, 0x6d, 0x65, 0x6e, 0x74, 0x73, 0x2f, 0x34], nothing, Dict{String, Vector{UInt8}}(), nothing, Dict{String, MeshCat.SceneTrees.SceneNode}()), \"1\" => MeshCat.SceneTrees.SceneNode(UInt8[0x83, 0xa6, 0x6f, 0x62, 0x6a, 0x65, 0x63, 0x74, 0x84, 0xaa  …  0x73, 0x65, 0x67, 0x6d, 0x65, 0x6e, 0x74, 0x73, 0x2f, 0x31], nothing, Dict{String, Vector{UInt8}}(), nothing, Dict{String, MeshCat.SceneTrees.SceneNode}()), \"12\" => MeshCat.SceneTrees.SceneNode(UInt8[0x83, 0xa6, 0x6f, 0x62, 0x6a, 0x65, 0x63, 0x74, 0x84, 0xaa  …  0x65, 0x67, 0x6d, 0x65, 0x6e, 0x74, 0x73, 0x2f, 0x31, 0x32], nothing, Dict{String, Vector{UInt8}}(), nothing, Dict{String, MeshCat.SceneTrees.SceneNode}()), \"2\" => MeshCat.SceneTrees.SceneNode(UInt8[0x83, 0xa6, 0x6f, 0x62, 0x6a, 0x65, 0x63, 0x74, 0x84, 0xaa  …  0x73, 0x65, 0x67, 0x6d, 0x65, 0x6e, 0x74, 0x73, 0x2f, 0x32], nothing, Dict{String, Vector{UInt8}}(), nothing, Dict{String, MeshCat.SceneTrees.SceneNode}()), \"6\" => MeshCat.SceneTrees.SceneNode(UInt8[0x83, 0xa6, 0x6f, 0x62, 0x6a, 0x65, 0x63, 0x74, 0x84, 0xaa  …  0x73, 0x65, 0x67, 0x6d, 0x65, 0x6e, 0x74, 0x73, 0x2f, 0x36], nothing, Dict{String, Vector{UInt8}}(), nothing, Dict{String, MeshCat.SceneTrees.SceneNode}()), \"11\" => MeshCat.SceneTrees.SceneNode(UInt8[0x83, 0xa6, 0x6f, 0x62, 0x6a, 0x65, 0x63, 0x74, 0x84, 0xaa  …  0x65, 0x67, 0x6d, 0x65, 0x6e, 0x74, 0x73, 0x2f, 0x31, 0x31], nothing, Dict{String, Vector{UInt8}}(), nothing, Dict{String, MeshCat.SceneTrees.SceneNode}()), \"5\" => MeshCat.SceneTrees.SceneNode(UInt8[0x83, 0xa6, 0x6f, 0x62, 0x6a, 0x65, 0x63, 0x74, 0x84, 0xaa  …  0x73, 0x65, 0x67, 0x6d, 0x65, 0x6e, 0x74, 0x73, 0x2f, 0x35], nothing, Dict{String, Vector{UInt8}}(), nothing, Dict{String, MeshCat.SceneTrees.SceneNode}()), \"7\" => MeshCat.SceneTrees.SceneNode(UInt8[0x83, 0xa6, 0x6f, 0x62, 0x6a, 0x65, 0x63, 0x74, 0x84, 0xaa  …  0x73, 0x65, 0x67, 0x6d, 0x65, 0x6e, 0x74, 0x73, 0x2f, 0x37], nothing, Dict{String, Vector{UInt8}}(), nothing, Dict{String, MeshCat.SceneTrees.SceneNode}()), \"8\" => MeshCat.SceneTrees.SceneNode(UInt8[0x83, 0xa6, 0x6f, 0x62, 0x6a, 0x65, 0x63, 0x74, 0x84, 0xaa  …  0x73, 0x65, 0x67, 0x6d, 0x65, 0x6e, 0x74, 0x73, 0x2f, 0x38], nothing, Dict{String, Vector{UInt8}}(), nothing, Dict{String, MeshCat.SceneTrees.SceneNode}()), \"10\" => MeshCat.SceneTrees.SceneNode(UInt8[0x83, 0xa6, 0x6f, 0x62, 0x6a, 0x65, 0x63, 0x74, 0x84, 0xaa  …  0x65, 0x67, 0x6d, 0x65, 0x6e, 0x74, 0x73, 0x2f, 0x31, 0x30], nothing, Dict{String, Vector{UInt8}}(), nothing, Dict{String, MeshCat.SceneTrees.SceneNode}())…)))), \"Axes\" => MeshCat.SceneTrees.SceneNode(nothing, nothing, Dict{String, Vector{UInt8}}(), nothing, Dict{String, MeshCat.SceneTrees.SceneNode}(\"<object>\" => MeshCat.SceneTrees.SceneNode(UInt8[0x83, 0xa6, 0x6f, 0x62, 0x6a, 0x65, 0x63, 0x74, 0x84, 0xaa  …  0x73, 0x2f, 0x3c, 0x6f, 0x62, 0x6a, 0x65, 0x63, 0x74, 0x3e], UInt8[0x83, 0xa6, 0x6d, 0x61, 0x74, 0x72, 0x69, 0x78, 0xc7, 0x40  …  0x73, 0x2f, 0x3c, 0x6f, 0x62, 0x6a, 0x65, 0x63, 0x74, 0x3e], Dict{String, Vector{UInt8}}(), nothing, Dict{String, MeshCat.SceneTrees.SceneNode}()))))), Set{HTTP.WebSockets.WebSocket}(), ip\"127.0.0.1\", 8700))"
      ]
     },
     "execution_count": 7,
     "metadata": {},
     "output_type": "execute_result"
    }
   ],
   "source": [
    "draw_frame(model, frame=4)"
   ]
  },
  {
   "cell_type": "markdown",
   "metadata": {},
   "source": [
    "If one wants to see the animation of the model run, it can be done as "
   ]
  },
  {
   "cell_type": "code",
   "execution_count": 8,
   "metadata": {},
   "outputs": [
    {
     "name": "stderr",
     "output_type": "stream",
     "text": [
      "\u001b[36m\u001b[1m[ \u001b[22m\u001b[39m\u001b[36m\u001b[1mInfo: \u001b[22m\u001b[39mListening on: 127.0.0.1:8701, thread id: 1\n",
      "\u001b[36m\u001b[1m┌ \u001b[22m\u001b[39m\u001b[36m\u001b[1mInfo: \u001b[22m\u001b[39mMeshCat server started. You can open the visualizer by visiting the following URL in your browser:\n",
      "\u001b[36m\u001b[1m└ \u001b[22m\u001b[39mhttp://127.0.0.1:8701\n"
     ]
    },
    {
     "data": {
      "application/vnd.webio.node+json": {
       "children": [
        {
         "children": [
          {
           "children": [
            {
             "children": [
              {
               "children": [
                {
                 "children": [
                  {
                   "children": [
                    {
                     "children": [
                      "time"
                     ],
                     "instanceArgs": {
                      "namespace": "html",
                      "tag": "label"
                     },
                     "nodeType": "DOM",
                     "props": {
                      "className": "interact ",
                      "style": {
                       "padding": "5px 10px 0px 10px"
                      }
                     },
                     "type": "node"
                    }
                   ],
                   "instanceArgs": {
                    "namespace": "html",
                    "tag": "div"
                   },
                   "nodeType": "DOM",
                   "props": {
                    "className": "interact-flex-row-left"
                   },
                   "type": "node"
                  },
                  {
                   "children": [
                    {
                     "children": [],
                     "instanceArgs": {
                      "namespace": "html",
                      "tag": "input"
                     },
                     "nodeType": "DOM",
                     "props": {
                      "attributes": {
                       "data-bind": "numericValue: index, valueUpdate: 'input', event: {change: function (){this.changes(this.changes()+1)}}",
                       "orient": "horizontal",
                       "type": "range"
                      },
                      "className": "slider slider is-fullwidth",
                      "max": 20,
                      "min": 1,
                      "step": 1,
                      "style": {}
                     },
                     "type": "node"
                    }
                   ],
                   "instanceArgs": {
                    "namespace": "html",
                    "tag": "div"
                   },
                   "nodeType": "DOM",
                   "props": {
                    "className": "interact-flex-row-center"
                   },
                   "type": "node"
                  },
                  {
                   "children": [
                    {
                     "children": [],
                     "instanceArgs": {
                      "namespace": "html",
                      "tag": "p"
                     },
                     "nodeType": "DOM",
                     "props": {
                      "attributes": {
                       "data-bind": "text: formatted_val"
                      }
                     },
                     "type": "node"
                    }
                   ],
                   "instanceArgs": {
                    "namespace": "html",
                    "tag": "div"
                   },
                   "nodeType": "DOM",
                   "props": {
                    "className": "interact-flex-row-right"
                   },
                   "type": "node"
                  }
                 ],
                 "instanceArgs": {
                  "namespace": "html",
                  "tag": "div"
                 },
                 "nodeType": "DOM",
                 "props": {
                  "className": "interact-flex-row interact-widget"
                 },
                 "type": "node"
                }
               ],
               "instanceArgs": {
                "handlers": {
                 "changes": [
                  "(function (val){return (val!=this.model[\"changes\"]()) ? (this.valueFromJulia[\"changes\"]=true, this.model[\"changes\"](val)) : undefined})"
                 ],
                 "index": [
                  "(function (val){return (val!=this.model[\"index\"]()) ? (this.valueFromJulia[\"index\"]=true, this.model[\"index\"](val)) : undefined})"
                 ]
                },
                "id": "4113090339636934729",
                "imports": {
                 "data": [
                  {
                   "name": "knockout",
                   "type": "js",
                   "url": "/assetserver/727383f2a47bd31570b7da84eee7b022dd6d7c78-knockout.js"
                  },
                  {
                   "name": "knockout_punches",
                   "type": "js",
                   "url": "/assetserver/382b41b3b1bd9f26f75861d360bad7f8beea211f-knockout_punches.js"
                  },
                  {
                   "name": null,
                   "type": "js",
                   "url": "/assetserver/5ab20f1060420992a9b82a65b735dee4d81ef413-all.js"
                  },
                  {
                   "name": null,
                   "type": "css",
                   "url": "/assetserver/1cc0ed62837210b80a182cc3676512f895dab686-style.css"
                  },
                  {
                   "name": null,
                   "type": "css",
                   "url": "/assetserver/2eee816f616df3549d7044d45e744fbf8d42bfa1-bulma_confined.min.css"
                  }
                 ],
                 "type": "async_block"
                },
                "mount_callbacks": [
                 "function () {\n    var handler = (function (ko, koPunches) {\n    ko.punches.enableAll();\n    ko.bindingHandlers.numericValue = {\n        init: function(element, valueAccessor, allBindings, data, context) {\n            var stringified = ko.observable(ko.unwrap(valueAccessor()));\n            stringified.subscribe(function(value) {\n                var val = parseFloat(value);\n                if (!isNaN(val)) {\n                    valueAccessor()(val);\n                }\n            });\n            valueAccessor().subscribe(function(value) {\n                var str = JSON.stringify(value);\n                if ((str == \"0\") && ([\"-0\", \"-0.\"].indexOf(stringified()) >= 0))\n                     return;\n                 if ([\"null\", \"\"].indexOf(str) >= 0)\n                     return;\n                stringified(str);\n            });\n            ko.applyBindingsToNode(\n                element,\n                {\n                    value: stringified,\n                    valueUpdate: allBindings.get('valueUpdate'),\n                },\n                context,\n            );\n        }\n    };\n    var json_data = {\"formatted_vals\":[\"1\",\"2\",\"3\",\"4\",\"5\",\"6\",\"7\",\"8\",\"9\",\"10\",\"11\",\"12\",\"13\",\"14\",\"15\",\"16\",\"17\",\"18\",\"19\",\"20\"],\"changes\":WebIO.getval({\"name\":\"changes\",\"scope\":\"4113090339636934729\",\"id\":\"8899706420923743420\",\"type\":\"observable\"}),\"index\":WebIO.getval({\"name\":\"index\",\"scope\":\"4113090339636934729\",\"id\":\"12911223574668458309\",\"type\":\"observable\"})};\n    var self = this;\n    function AppViewModel() {\n        for (var key in json_data) {\n            var el = json_data[key];\n            this[key] = Array.isArray(el) ? ko.observableArray(el) : ko.observable(el);\n        }\n        \n        [this[\"formatted_val\"]=ko.computed(    function(){\n        return this.formatted_vals()[parseInt(this.index())-(1)];\n    }\n,this)]\n        [this[\"changes\"].subscribe((function (val){!(this.valueFromJulia[\"changes\"]) ? (WebIO.setval({\"name\":\"changes\",\"scope\":\"4113090339636934729\",\"id\":\"8899706420923743420\",\"type\":\"observable\"},val)) : undefined; return this.valueFromJulia[\"changes\"]=false}),self),this[\"index\"].subscribe((function (val){!(this.valueFromJulia[\"index\"]) ? (WebIO.setval({\"name\":\"index\",\"scope\":\"4113090339636934729\",\"id\":\"12911223574668458309\",\"type\":\"observable\"},val)) : undefined; return this.valueFromJulia[\"index\"]=false}),self)]\n        \n    }\n    self.model = new AppViewModel();\n    self.valueFromJulia = {};\n    for (var key in json_data) {\n        self.valueFromJulia[key] = false;\n    }\n    ko.applyBindings(self.model, self.dom);\n}\n);\n    (WebIO.importBlock({\"data\":[{\"name\":\"knockout\",\"type\":\"js\",\"url\":\"/assetserver/727383f2a47bd31570b7da84eee7b022dd6d7c78-knockout.js\"},{\"name\":\"knockout_punches\",\"type\":\"js\",\"url\":\"/assetserver/382b41b3b1bd9f26f75861d360bad7f8beea211f-knockout_punches.js\"}],\"type\":\"async_block\"})).then((imports) => handler.apply(this, imports));\n}\n"
                ],
                "observables": {
                 "changes": {
                  "id": "8899706420923743420",
                  "sync": false,
                  "value": 0
                 },
                 "index": {
                  "id": "12911223574668458309",
                  "sync": true,
                  "value": 10
                 }
                },
                "systemjs_options": null
               },
               "nodeType": "Scope",
               "props": {},
               "type": "node"
              }
             ],
             "instanceArgs": {
              "namespace": "html",
              "tag": "div"
             },
             "nodeType": "DOM",
             "props": {
              "className": "field interact-widget"
             },
             "type": "node"
            },
            {
             "children": [
              {
               "children": [
                {
                 "children": [
                  {
                   "children": [
                    {
                     "children": [
                      "scale"
                     ],
                     "instanceArgs": {
                      "namespace": "html",
                      "tag": "label"
                     },
                     "nodeType": "DOM",
                     "props": {
                      "className": "interact ",
                      "style": {
                       "padding": "5px 10px 0px 10px"
                      }
                     },
                     "type": "node"
                    }
                   ],
                   "instanceArgs": {
                    "namespace": "html",
                    "tag": "div"
                   },
                   "nodeType": "DOM",
                   "props": {
                    "className": "interact-flex-row-left"
                   },
                   "type": "node"
                  },
                  {
                   "children": [
                    {
                     "children": [],
                     "instanceArgs": {
                      "namespace": "html",
                      "tag": "input"
                     },
                     "nodeType": "DOM",
                     "props": {
                      "attributes": {
                       "data-bind": "numericValue: index, valueUpdate: 'input', event: {change: function (){this.changes(this.changes()+1)}}",
                       "orient": "horizontal",
                       "type": "range"
                      },
                      "className": "slider slider is-fullwidth",
                      "max": 20,
                      "min": 1,
                      "step": 1,
                      "style": {}
                     },
                     "type": "node"
                    }
                   ],
                   "instanceArgs": {
                    "namespace": "html",
                    "tag": "div"
                   },
                   "nodeType": "DOM",
                   "props": {
                    "className": "interact-flex-row-center"
                   },
                   "type": "node"
                  },
                  {
                   "children": [
                    {
                     "children": [],
                     "instanceArgs": {
                      "namespace": "html",
                      "tag": "p"
                     },
                     "nodeType": "DOM",
                     "props": {
                      "attributes": {
                       "data-bind": "text: formatted_val"
                      }
                     },
                     "type": "node"
                    }
                   ],
                   "instanceArgs": {
                    "namespace": "html",
                    "tag": "div"
                   },
                   "nodeType": "DOM",
                   "props": {
                    "className": "interact-flex-row-right"
                   },
                   "type": "node"
                  }
                 ],
                 "instanceArgs": {
                  "namespace": "html",
                  "tag": "div"
                 },
                 "nodeType": "DOM",
                 "props": {
                  "className": "interact-flex-row interact-widget"
                 },
                 "type": "node"
                }
               ],
               "instanceArgs": {
                "handlers": {
                 "changes": [
                  "(function (val){return (val!=this.model[\"changes\"]()) ? (this.valueFromJulia[\"changes\"]=true, this.model[\"changes\"](val)) : undefined})"
                 ],
                 "index": [
                  "(function (val){return (val!=this.model[\"index\"]()) ? (this.valueFromJulia[\"index\"]=true, this.model[\"index\"](val)) : undefined})"
                 ]
                },
                "id": "9923563879099515752",
                "imports": {
                 "data": [
                  {
                   "name": "knockout",
                   "type": "js",
                   "url": "/assetserver/727383f2a47bd31570b7da84eee7b022dd6d7c78-knockout.js"
                  },
                  {
                   "name": "knockout_punches",
                   "type": "js",
                   "url": "/assetserver/382b41b3b1bd9f26f75861d360bad7f8beea211f-knockout_punches.js"
                  },
                  {
                   "name": null,
                   "type": "js",
                   "url": "/assetserver/5ab20f1060420992a9b82a65b735dee4d81ef413-all.js"
                  },
                  {
                   "name": null,
                   "type": "css",
                   "url": "/assetserver/1cc0ed62837210b80a182cc3676512f895dab686-style.css"
                  },
                  {
                   "name": null,
                   "type": "css",
                   "url": "/assetserver/2eee816f616df3549d7044d45e744fbf8d42bfa1-bulma_confined.min.css"
                  }
                 ],
                 "type": "async_block"
                },
                "mount_callbacks": [
                 "function () {\n    var handler = (function (ko, koPunches) {\n    ko.punches.enableAll();\n    ko.bindingHandlers.numericValue = {\n        init: function(element, valueAccessor, allBindings, data, context) {\n            var stringified = ko.observable(ko.unwrap(valueAccessor()));\n            stringified.subscribe(function(value) {\n                var val = parseFloat(value);\n                if (!isNaN(val)) {\n                    valueAccessor()(val);\n                }\n            });\n            valueAccessor().subscribe(function(value) {\n                var str = JSON.stringify(value);\n                if ((str == \"0\") && ([\"-0\", \"-0.\"].indexOf(stringified()) >= 0))\n                     return;\n                 if ([\"null\", \"\"].indexOf(str) >= 0)\n                     return;\n                stringified(str);\n            });\n            ko.applyBindingsToNode(\n                element,\n                {\n                    value: stringified,\n                    valueUpdate: allBindings.get('valueUpdate'),\n                },\n                context,\n            );\n        }\n    };\n    var json_data = {\"formatted_vals\":[\"0.1\",\"0.2\",\"0.3\",\"0.4\",\"0.5\",\"0.6\",\"0.7\",\"0.8\",\"0.9\",\"1.0\",\"1.1\",\"1.2\",\"1.3\",\"1.4\",\"1.5\",\"1.6\",\"1.7\",\"1.8\",\"1.9\",\"2.0\"],\"changes\":WebIO.getval({\"name\":\"changes\",\"scope\":\"9923563879099515752\",\"id\":\"11875855764717201294\",\"type\":\"observable\"}),\"index\":WebIO.getval({\"name\":\"index\",\"scope\":\"9923563879099515752\",\"id\":\"15136019145447258950\",\"type\":\"observable\"})};\n    var self = this;\n    function AppViewModel() {\n        for (var key in json_data) {\n            var el = json_data[key];\n            this[key] = Array.isArray(el) ? ko.observableArray(el) : ko.observable(el);\n        }\n        \n        [this[\"formatted_val\"]=ko.computed(    function(){\n        return this.formatted_vals()[parseInt(this.index())-(1)];\n    }\n,this)]\n        [this[\"changes\"].subscribe((function (val){!(this.valueFromJulia[\"changes\"]) ? (WebIO.setval({\"name\":\"changes\",\"scope\":\"9923563879099515752\",\"id\":\"11875855764717201294\",\"type\":\"observable\"},val)) : undefined; return this.valueFromJulia[\"changes\"]=false}),self),this[\"index\"].subscribe((function (val){!(this.valueFromJulia[\"index\"]) ? (WebIO.setval({\"name\":\"index\",\"scope\":\"9923563879099515752\",\"id\":\"15136019145447258950\",\"type\":\"observable\"},val)) : undefined; return this.valueFromJulia[\"index\"]=false}),self)]\n        \n    }\n    self.model = new AppViewModel();\n    self.valueFromJulia = {};\n    for (var key in json_data) {\n        self.valueFromJulia[key] = false;\n    }\n    ko.applyBindings(self.model, self.dom);\n}\n);\n    (WebIO.importBlock({\"data\":[{\"name\":\"knockout\",\"type\":\"js\",\"url\":\"/assetserver/727383f2a47bd31570b7da84eee7b022dd6d7c78-knockout.js\"},{\"name\":\"knockout_punches\",\"type\":\"js\",\"url\":\"/assetserver/382b41b3b1bd9f26f75861d360bad7f8beea211f-knockout_punches.js\"}],\"type\":\"async_block\"})).then((imports) => handler.apply(this, imports));\n}\n"
                ],
                "observables": {
                 "changes": {
                  "id": "11875855764717201294",
                  "sync": false,
                  "value": 0
                 },
                 "index": {
                  "id": "15136019145447258950",
                  "sync": true,
                  "value": 10
                 }
                },
                "systemjs_options": null
               },
               "nodeType": "Scope",
               "props": {},
               "type": "node"
              }
             ],
             "instanceArgs": {
              "namespace": "html",
              "tag": "div"
             },
             "nodeType": "DOM",
             "props": {
              "className": "field interact-widget"
             },
             "type": "node"
            },
            {
             "children": [
              {
               "children": [
                {
                 "children": [
                  {
                   "children": [],
                   "instanceArgs": {
                    "namespace": "html",
                    "tag": "div"
                   },
                   "nodeType": "DOM",
                   "props": {
                    "id": "container"
                   },
                   "type": "node"
                  }
                 ],
                 "instanceArgs": {
                  "handlers": {
                   "value": [
                    "(function (txt){return this.k.render(txt,this.container)})"
                   ]
                  },
                  "id": "9501560619659724379",
                  "imports": {
                   "data": [
                    {
                     "name": null,
                     "type": "js",
                     "url": "/assetserver/dd22ed1bf1896c2748f3fe616ce0b838adc895c1-katex.min.js"
                    },
                    {
                     "name": null,
                     "type": "css",
                     "url": "/assetserver/46517a424aa5e6cffc1360d7e0848b601c584ee3-katex.min.css"
                    }
                   ],
                   "type": "async_block"
                  },
                  "mount_callbacks": [
                   "function () {\n    var handler = ((function (k){this.k=k; this.container=this.dom.querySelector(\"#container\"); return k.render(\"\\\\;\\\\;\",this.container)}));\n    (WebIO.importBlock({\"data\":[{\"name\":null,\"type\":\"js\",\"url\":\"/assetserver/dd22ed1bf1896c2748f3fe616ce0b838adc895c1-katex.min.js\"},{\"name\":null,\"type\":\"css\",\"url\":\"/assetserver/46517a424aa5e6cffc1360d7e0848b601c584ee3-katex.min.css\"}],\"type\":\"async_block\"})).then((imports) => handler.apply(this, imports));\n}\n"
                  ],
                  "observables": {
                   "value": {
                    "id": "5822493730674677126",
                    "sync": false,
                    "value": "\\;\\;"
                   }
                  },
                  "systemjs_options": null
                 },
                 "nodeType": "Scope",
                 "props": {},
                 "type": "node"
                }
               ],
               "instanceArgs": {
                "namespace": "html",
                "tag": "div"
               },
               "nodeType": "DOM",
               "props": {
                "className": "interact-widget"
               },
               "type": "node"
              },
              {
               "children": [
                {
                 "children": [
                  {
                   "children": [
                    "run"
                   ],
                   "instanceArgs": {
                    "namespace": "html",
                    "tag": "button"
                   },
                   "nodeType": "DOM",
                   "props": {
                    "attributes": {
                     "data-bind": "click: function (){this.clicks(this.clicks()+1)}, css: {'is-loading' : loading}"
                    },
                    "className": "is-medium button is-primary",
                    "style": {}
                   },
                   "type": "node"
                  }
                 ],
                 "instanceArgs": {
                  "handlers": {
                   "clicks": [
                    "(function (val){return (val!=this.model[\"clicks\"]()) ? (this.valueFromJulia[\"clicks\"]=true, this.model[\"clicks\"](val)) : undefined})"
                   ],
                   "loading": [
                    "(function (val){return (val!=this.model[\"loading\"]()) ? (this.valueFromJulia[\"loading\"]=true, this.model[\"loading\"](val)) : undefined})"
                   ]
                  },
                  "id": "2456779211129120921",
                  "imports": {
                   "data": [
                    {
                     "name": "knockout",
                     "type": "js",
                     "url": "/assetserver/727383f2a47bd31570b7da84eee7b022dd6d7c78-knockout.js"
                    },
                    {
                     "name": "knockout_punches",
                     "type": "js",
                     "url": "/assetserver/382b41b3b1bd9f26f75861d360bad7f8beea211f-knockout_punches.js"
                    },
                    {
                     "name": null,
                     "type": "js",
                     "url": "/assetserver/5ab20f1060420992a9b82a65b735dee4d81ef413-all.js"
                    },
                    {
                     "name": null,
                     "type": "css",
                     "url": "/assetserver/1cc0ed62837210b80a182cc3676512f895dab686-style.css"
                    },
                    {
                     "name": null,
                     "type": "css",
                     "url": "/assetserver/2eee816f616df3549d7044d45e744fbf8d42bfa1-bulma_confined.min.css"
                    }
                   ],
                   "type": "async_block"
                  },
                  "mount_callbacks": [
                   "function () {\n    var handler = (function (ko, koPunches) {\n    ko.punches.enableAll();\n    ko.bindingHandlers.numericValue = {\n        init: function(element, valueAccessor, allBindings, data, context) {\n            var stringified = ko.observable(ko.unwrap(valueAccessor()));\n            stringified.subscribe(function(value) {\n                var val = parseFloat(value);\n                if (!isNaN(val)) {\n                    valueAccessor()(val);\n                }\n            });\n            valueAccessor().subscribe(function(value) {\n                var str = JSON.stringify(value);\n                if ((str == \"0\") && ([\"-0\", \"-0.\"].indexOf(stringified()) >= 0))\n                     return;\n                 if ([\"null\", \"\"].indexOf(str) >= 0)\n                     return;\n                stringified(str);\n            });\n            ko.applyBindingsToNode(\n                element,\n                {\n                    value: stringified,\n                    valueUpdate: allBindings.get('valueUpdate'),\n                },\n                context,\n            );\n        }\n    };\n    var json_data = {\"loading\":WebIO.getval({\"name\":\"loading\",\"scope\":\"2456779211129120921\",\"id\":\"15503694006484279159\",\"type\":\"observable\"}),\"clicks\":WebIO.getval({\"name\":\"clicks\",\"scope\":\"2456779211129120921\",\"id\":\"14796411586546067585\",\"type\":\"observable\"})};\n    var self = this;\n    function AppViewModel() {\n        for (var key in json_data) {\n            var el = json_data[key];\n            this[key] = Array.isArray(el) ? ko.observableArray(el) : ko.observable(el);\n        }\n        \n        \n        [this[\"loading\"].subscribe((function (val){!(this.valueFromJulia[\"loading\"]) ? (WebIO.setval({\"name\":\"loading\",\"scope\":\"2456779211129120921\",\"id\":\"15503694006484279159\",\"type\":\"observable\"},val)) : undefined; return this.valueFromJulia[\"loading\"]=false}),self),this[\"clicks\"].subscribe((function (val){!(this.valueFromJulia[\"clicks\"]) ? (WebIO.setval({\"name\":\"clicks\",\"scope\":\"2456779211129120921\",\"id\":\"14796411586546067585\",\"type\":\"observable\"},val)) : undefined; return this.valueFromJulia[\"clicks\"]=false}),self)]\n        \n    }\n    self.model = new AppViewModel();\n    self.valueFromJulia = {};\n    for (var key in json_data) {\n        self.valueFromJulia[key] = false;\n    }\n    ko.applyBindings(self.model, self.dom);\n}\n);\n    (WebIO.importBlock({\"data\":[{\"name\":\"knockout\",\"type\":\"js\",\"url\":\"/assetserver/727383f2a47bd31570b7da84eee7b022dd6d7c78-knockout.js\"},{\"name\":\"knockout_punches\",\"type\":\"js\",\"url\":\"/assetserver/382b41b3b1bd9f26f75861d360bad7f8beea211f-knockout_punches.js\"}],\"type\":\"async_block\"})).then((imports) => handler.apply(this, imports));\n}\n"
                  ],
                  "observables": {
                   "clicks": {
                    "id": "14796411586546067585",
                    "sync": true,
                    "value": 0
                   },
                   "loading": {
                    "id": "15503694006484279159",
                    "sync": false,
                    "value": false
                   }
                  },
                  "systemjs_options": null
                 },
                 "nodeType": "Scope",
                 "props": {},
                 "type": "node"
                }
               ],
               "instanceArgs": {
                "namespace": "html",
                "tag": "div"
               },
               "nodeType": "DOM",
               "props": {
                "className": "field interact-widget"
               },
               "type": "node"
              },
              {
               "children": [
                {
                 "children": [
                  {
                   "children": [],
                   "instanceArgs": {
                    "namespace": "html",
                    "tag": "div"
                   },
                   "nodeType": "DOM",
                   "props": {
                    "id": "container"
                   },
                   "type": "node"
                  }
                 ],
                 "instanceArgs": {
                  "handlers": {
                   "value": [
                    "(function (txt){return this.k.render(txt,this.container)})"
                   ]
                  },
                  "id": "9501560619659724379",
                  "imports": {
                   "data": [
                    {
                     "name": null,
                     "type": "js",
                     "url": "/assetserver/dd22ed1bf1896c2748f3fe616ce0b838adc895c1-katex.min.js"
                    },
                    {
                     "name": null,
                     "type": "css",
                     "url": "/assetserver/46517a424aa5e6cffc1360d7e0848b601c584ee3-katex.min.css"
                    }
                   ],
                   "type": "async_block"
                  },
                  "mount_callbacks": [
                   "function () {\n    var handler = ((function (k){this.k=k; this.container=this.dom.querySelector(\"#container\"); return k.render(\"\\\\;\\\\;\",this.container)}));\n    (WebIO.importBlock({\"data\":[{\"name\":null,\"type\":\"js\",\"url\":\"/assetserver/dd22ed1bf1896c2748f3fe616ce0b838adc895c1-katex.min.js\"},{\"name\":null,\"type\":\"css\",\"url\":\"/assetserver/46517a424aa5e6cffc1360d7e0848b601c584ee3-katex.min.css\"}],\"type\":\"async_block\"})).then((imports) => handler.apply(this, imports));\n}\n"
                  ],
                  "observables": {
                   "value": {
                    "id": "5822493730674677126",
                    "sync": false,
                    "value": "\\;\\;"
                   }
                  },
                  "systemjs_options": null
                 },
                 "nodeType": "Scope",
                 "props": {},
                 "type": "node"
                }
               ],
               "instanceArgs": {
                "namespace": "html",
                "tag": "div"
               },
               "nodeType": "DOM",
               "props": {
                "className": "interact-widget"
               },
               "type": "node"
              },
              {
               "children": [
                {
                 "children": [
                  {
                   "children": [
                    "stop"
                   ],
                   "instanceArgs": {
                    "namespace": "html",
                    "tag": "button"
                   },
                   "nodeType": "DOM",
                   "props": {
                    "attributes": {
                     "data-bind": "click: function (){this.clicks(this.clicks()+1)}, css: {'is-loading' : loading}"
                    },
                    "className": "is-medium button is-primary",
                    "style": {}
                   },
                   "type": "node"
                  }
                 ],
                 "instanceArgs": {
                  "handlers": {
                   "clicks": [
                    "(function (val){return (val!=this.model[\"clicks\"]()) ? (this.valueFromJulia[\"clicks\"]=true, this.model[\"clicks\"](val)) : undefined})"
                   ],
                   "loading": [
                    "(function (val){return (val!=this.model[\"loading\"]()) ? (this.valueFromJulia[\"loading\"]=true, this.model[\"loading\"](val)) : undefined})"
                   ]
                  },
                  "id": "10558917586243750493",
                  "imports": {
                   "data": [
                    {
                     "name": "knockout",
                     "type": "js",
                     "url": "/assetserver/727383f2a47bd31570b7da84eee7b022dd6d7c78-knockout.js"
                    },
                    {
                     "name": "knockout_punches",
                     "type": "js",
                     "url": "/assetserver/382b41b3b1bd9f26f75861d360bad7f8beea211f-knockout_punches.js"
                    },
                    {
                     "name": null,
                     "type": "js",
                     "url": "/assetserver/5ab20f1060420992a9b82a65b735dee4d81ef413-all.js"
                    },
                    {
                     "name": null,
                     "type": "css",
                     "url": "/assetserver/1cc0ed62837210b80a182cc3676512f895dab686-style.css"
                    },
                    {
                     "name": null,
                     "type": "css",
                     "url": "/assetserver/2eee816f616df3549d7044d45e744fbf8d42bfa1-bulma_confined.min.css"
                    }
                   ],
                   "type": "async_block"
                  },
                  "mount_callbacks": [
                   "function () {\n    var handler = (function (ko, koPunches) {\n    ko.punches.enableAll();\n    ko.bindingHandlers.numericValue = {\n        init: function(element, valueAccessor, allBindings, data, context) {\n            var stringified = ko.observable(ko.unwrap(valueAccessor()));\n            stringified.subscribe(function(value) {\n                var val = parseFloat(value);\n                if (!isNaN(val)) {\n                    valueAccessor()(val);\n                }\n            });\n            valueAccessor().subscribe(function(value) {\n                var str = JSON.stringify(value);\n                if ((str == \"0\") && ([\"-0\", \"-0.\"].indexOf(stringified()) >= 0))\n                     return;\n                 if ([\"null\", \"\"].indexOf(str) >= 0)\n                     return;\n                stringified(str);\n            });\n            ko.applyBindingsToNode(\n                element,\n                {\n                    value: stringified,\n                    valueUpdate: allBindings.get('valueUpdate'),\n                },\n                context,\n            );\n        }\n    };\n    var json_data = {\"loading\":WebIO.getval({\"name\":\"loading\",\"scope\":\"10558917586243750493\",\"id\":\"13909718428777095794\",\"type\":\"observable\"}),\"clicks\":WebIO.getval({\"name\":\"clicks\",\"scope\":\"10558917586243750493\",\"id\":\"13805590052105973962\",\"type\":\"observable\"})};\n    var self = this;\n    function AppViewModel() {\n        for (var key in json_data) {\n            var el = json_data[key];\n            this[key] = Array.isArray(el) ? ko.observableArray(el) : ko.observable(el);\n        }\n        \n        \n        [this[\"loading\"].subscribe((function (val){!(this.valueFromJulia[\"loading\"]) ? (WebIO.setval({\"name\":\"loading\",\"scope\":\"10558917586243750493\",\"id\":\"13909718428777095794\",\"type\":\"observable\"},val)) : undefined; return this.valueFromJulia[\"loading\"]=false}),self),this[\"clicks\"].subscribe((function (val){!(this.valueFromJulia[\"clicks\"]) ? (WebIO.setval({\"name\":\"clicks\",\"scope\":\"10558917586243750493\",\"id\":\"13805590052105973962\",\"type\":\"observable\"},val)) : undefined; return this.valueFromJulia[\"clicks\"]=false}),self)]\n        \n    }\n    self.model = new AppViewModel();\n    self.valueFromJulia = {};\n    for (var key in json_data) {\n        self.valueFromJulia[key] = false;\n    }\n    ko.applyBindings(self.model, self.dom);\n}\n);\n    (WebIO.importBlock({\"data\":[{\"name\":\"knockout\",\"type\":\"js\",\"url\":\"/assetserver/727383f2a47bd31570b7da84eee7b022dd6d7c78-knockout.js\"},{\"name\":\"knockout_punches\",\"type\":\"js\",\"url\":\"/assetserver/382b41b3b1bd9f26f75861d360bad7f8beea211f-knockout_punches.js\"}],\"type\":\"async_block\"})).then((imports) => handler.apply(this, imports));\n}\n"
                  ],
                  "observables": {
                   "clicks": {
                    "id": "13805590052105973962",
                    "sync": true,
                    "value": 0
                   },
                   "loading": {
                    "id": "13909718428777095794",
                    "sync": false,
                    "value": false
                   }
                  },
                  "systemjs_options": null
                 },
                 "nodeType": "Scope",
                 "props": {},
                 "type": "node"
                }
               ],
               "instanceArgs": {
                "namespace": "html",
                "tag": "div"
               },
               "nodeType": "DOM",
               "props": {
                "className": "field interact-widget"
               },
               "type": "node"
              }
             ],
             "instanceArgs": {
              "namespace": "html",
              "tag": "div"
             },
             "nodeType": "DOM",
             "props": {
              "style": {
               "display": "flex",
               "flex-direction": "row"
              }
             },
             "type": "node"
            }
           ],
           "instanceArgs": {
            "namespace": "html",
            "tag": "div"
           },
           "nodeType": "DOM",
           "props": {
            "style": {
             "display": "flex",
             "flex-direction": "column"
            }
           },
           "type": "node"
          },
          {
           "children": [
            {
             "children": [],
             "instanceArgs": {
              "namespace": "html",
              "tag": "div"
             },
             "nodeType": "DOM",
             "props": {
              "className": "webio-observable",
              "setInnerHtml": "    <div style=\"height: 500px; width: 100%; overflow-x: auto; overflow-y: hidden; resize: both\">\n    <iframe src=\"http://127.0.0.1:8701\" style=\"width: 100%; height: 100%; border: none\"></iframe>\n    </div>\n"
             },
             "type": "node"
            }
           ],
           "instanceArgs": {
            "handlers": {
             "obs-output": [
              "function (value, scope) {\n    scope.setInnerHTML(value);\n}\n"
             ]
            },
            "id": "15131313396245277267",
            "imports": {
             "data": [],
             "type": "async_block"
            },
            "mount_callbacks": [],
            "observables": {
             "obs-output": {
              "id": "3422739540277420993",
              "sync": false,
              "value": "    <div style=\"height: 500px; width: 100%; overflow-x: auto; overflow-y: hidden; resize: both\">\n    <iframe src=\"http://127.0.0.1:8701\" style=\"width: 100%; height: 100%; border: none\"></iframe>\n    </div>\n"
             }
            },
            "systemjs_options": null
           },
           "nodeType": "Scope",
           "props": {},
           "type": "node"
          },
          {
           "children": [
            {
             "children": [
              {
               "children": [],
               "instanceArgs": {
                "namespace": "html",
                "tag": "div"
               },
               "nodeType": "DOM",
               "props": {
                "id": "container"
               },
               "type": "node"
              }
             ],
             "instanceArgs": {
              "handlers": {
               "value": [
                "(function (txt){return this.k.render(txt,this.container)})"
               ]
              },
              "id": "9501560619659724379",
              "imports": {
               "data": [
                {
                 "name": null,
                 "type": "js",
                 "url": "/assetserver/dd22ed1bf1896c2748f3fe616ce0b838adc895c1-katex.min.js"
                },
                {
                 "name": null,
                 "type": "css",
                 "url": "/assetserver/46517a424aa5e6cffc1360d7e0848b601c584ee3-katex.min.css"
                }
               ],
               "type": "async_block"
              },
              "mount_callbacks": [
               "function () {\n    var handler = ((function (k){this.k=k; this.container=this.dom.querySelector(\"#container\"); return k.render(\"\\\\;\\\\;\",this.container)}));\n    (WebIO.importBlock({\"data\":[{\"name\":null,\"type\":\"js\",\"url\":\"/assetserver/dd22ed1bf1896c2748f3fe616ce0b838adc895c1-katex.min.js\"},{\"name\":null,\"type\":\"css\",\"url\":\"/assetserver/46517a424aa5e6cffc1360d7e0848b601c584ee3-katex.min.css\"}],\"type\":\"async_block\"})).then((imports) => handler.apply(this, imports));\n}\n"
              ],
              "observables": {
               "value": {
                "id": "5822493730674677126",
                "sync": false,
                "value": "\\;\\;"
               }
              },
              "systemjs_options": null
             },
             "nodeType": "Scope",
             "props": {},
             "type": "node"
            }
           ],
           "instanceArgs": {
            "namespace": "html",
            "tag": "div"
           },
           "nodeType": "DOM",
           "props": {
            "className": "interact-widget"
           },
           "type": "node"
          },
          {
           "children": [
            {
             "children": [
              {
               "children": [],
               "instanceArgs": {
                "namespace": "html",
                "tag": "div"
               },
               "nodeType": "DOM",
               "props": {
                "className": "webio-observable",
                "setInnerHtml": "<?xml version=\"1.0\" encoding=\"utf-8\"?>\n<svg xmlns=\"http://www.w3.org/2000/svg\" xmlns:xlink=\"http://www.w3.org/1999/xlink\" width=\"300\" height=\"150\" viewBox=\"0 0 1200 600\">\n<defs>\n  <clipPath id=\"clip960\">\n    <rect x=\"0\" y=\"0\" width=\"1200\" height=\"600\"/>\n  </clipPath>\n</defs>\n<path clip-path=\"url(#clip960)\" d=\"M0 600 L1200 600 L1200 0 L0 0  Z\" fill=\"#ffffff\" fill-rule=\"evenodd\" fill-opacity=\"1\"/>\n<defs>\n  <clipPath id=\"clip961\">\n    <rect x=\"240\" y=\"0\" width=\"841\" height=\"600\"/>\n  </clipPath>\n</defs>\n<path clip-path=\"url(#clip960)\" d=\"M144.598 453.7 L876.715 453.7 L876.715 47.2441 L144.598 47.2441  Z\" fill=\"#ffffff\" fill-rule=\"evenodd\" fill-opacity=\"1\"/>\n<defs>\n  <clipPath id=\"clip962\">\n    <rect x=\"144\" y=\"47\" width=\"733\" height=\"407\"/>\n  </clipPath>\n</defs>\n<polyline clip-path=\"url(#clip962)\" style=\"stroke:#000000; stroke-linecap:round; stroke-linejoin:round; stroke-width:2; stroke-opacity:0.1; fill:none\" points=\"242.06,453.7 242.06,47.2441 \"/>\n<polyline clip-path=\"url(#clip962)\" style=\"stroke:#000000; stroke-linecap:round; stroke-linejoin:round; stroke-width:2; stroke-opacity:0.1; fill:none\" points=\"395.544,453.7 395.544,47.2441 \"/>\n<polyline clip-path=\"url(#clip962)\" style=\"stroke:#000000; stroke-linecap:round; stroke-linejoin:round; stroke-width:2; stroke-opacity:0.1; fill:none\" points=\"549.028,453.7 549.028,47.2441 \"/>\n<polyline clip-path=\"url(#clip962)\" style=\"stroke:#000000; stroke-linecap:round; stroke-linejoin:round; stroke-width:2; stroke-opacity:0.1; fill:none\" points=\"702.511,453.7 702.511,47.2441 \"/>\n<polyline clip-path=\"url(#clip962)\" style=\"stroke:#000000; stroke-linecap:round; stroke-linejoin:round; stroke-width:2; stroke-opacity:0.1; fill:none\" points=\"855.995,453.7 855.995,47.2441 \"/>\n<polyline clip-path=\"url(#clip960)\" style=\"stroke:#000000; stroke-linecap:round; stroke-linejoin:round; stroke-width:4; stroke-opacity:1; fill:none\" points=\"144.598,453.7 876.715,453.7 \"/>\n<polyline clip-path=\"url(#clip960)\" style=\"stroke:#000000; stroke-linecap:round; stroke-linejoin:round; stroke-width:4; stroke-opacity:1; fill:none\" points=\"242.06,453.7 242.06,434.802 \"/>\n<polyline clip-path=\"url(#clip960)\" style=\"stroke:#000000; stroke-linecap:round; stroke-linejoin:round; stroke-width:4; stroke-opacity:1; fill:none\" points=\"395.544,453.7 395.544,434.802 \"/>\n<polyline clip-path=\"url(#clip960)\" style=\"stroke:#000000; stroke-linecap:round; stroke-linejoin:round; stroke-width:4; stroke-opacity:1; fill:none\" points=\"549.028,453.7 549.028,434.802 \"/>\n<polyline clip-path=\"url(#clip960)\" style=\"stroke:#000000; stroke-linecap:round; stroke-linejoin:round; stroke-width:4; stroke-opacity:1; fill:none\" points=\"702.511,453.7 702.511,434.802 \"/>\n<polyline clip-path=\"url(#clip960)\" style=\"stroke:#000000; stroke-linecap:round; stroke-linejoin:round; stroke-width:4; stroke-opacity:1; fill:none\" points=\"855.995,453.7 855.995,434.802 \"/>\n<path clip-path=\"url(#clip960)\" d=\"M236.713 502.565 L253.033 502.565 L253.033 506.5 L231.088 506.5 L231.088 502.565 Q233.75 499.81 238.334 495.18 Q242.94 490.528 244.121 489.185 Q246.366 486.662 247.246 484.926 Q248.148 483.167 248.148 481.477 Q248.148 478.722 246.204 476.986 Q244.283 475.25 241.181 475.25 Q238.982 475.25 236.528 476.014 Q234.097 476.778 231.32 478.329 L231.32 473.607 Q234.144 472.472 236.597 471.894 Q239.051 471.315 241.088 471.315 Q246.458 471.315 249.653 474 Q252.847 476.685 252.847 481.176 Q252.847 483.306 252.037 485.227 Q251.25 487.125 249.144 489.718 Q248.565 490.389 245.463 493.606 Q242.361 496.801 236.713 502.565 Z\" fill=\"#000000\" fill-rule=\"nonzero\" fill-opacity=\"1\" /><path clip-path=\"url(#clip960)\" d=\"M398.553 476.014 L386.748 494.463 L398.553 494.463 L398.553 476.014 M397.326 471.94 L403.206 471.94 L403.206 494.463 L408.137 494.463 L408.137 498.352 L403.206 498.352 L403.206 506.5 L398.553 506.5 L398.553 498.352 L382.951 498.352 L382.951 493.838 L397.326 471.94 Z\" fill=\"#000000\" fill-rule=\"nonzero\" fill-opacity=\"1\" /><path clip-path=\"url(#clip960)\" d=\"M549.433 487.356 Q546.285 487.356 544.433 489.509 Q542.604 491.662 542.604 495.412 Q542.604 499.139 544.433 501.315 Q546.285 503.467 549.433 503.467 Q552.581 503.467 554.41 501.315 Q556.261 499.139 556.261 495.412 Q556.261 491.662 554.41 489.509 Q552.581 487.356 549.433 487.356 M558.715 472.704 L558.715 476.963 Q556.956 476.13 555.15 475.69 Q553.368 475.25 551.609 475.25 Q546.979 475.25 544.525 478.375 Q542.095 481.5 541.748 487.819 Q543.113 485.806 545.174 484.741 Q547.234 483.653 549.711 483.653 Q554.919 483.653 557.928 486.824 Q560.96 489.972 560.96 495.412 Q560.96 500.736 557.812 503.954 Q554.664 507.171 549.433 507.171 Q543.437 507.171 540.266 502.588 Q537.095 497.981 537.095 489.255 Q537.095 481.06 540.984 476.199 Q544.873 471.315 551.423 471.315 Q553.183 471.315 554.965 471.662 Q556.771 472.009 558.715 472.704 Z\" fill=\"#000000\" fill-rule=\"nonzero\" fill-opacity=\"1\" /><path clip-path=\"url(#clip960)\" d=\"M702.511 490.088 Q699.178 490.088 697.257 491.87 Q695.359 493.653 695.359 496.778 Q695.359 499.903 697.257 501.685 Q699.178 503.467 702.511 503.467 Q705.845 503.467 707.766 501.685 Q709.687 499.88 709.687 496.778 Q709.687 493.653 707.766 491.87 Q705.868 490.088 702.511 490.088 M697.835 488.097 Q694.826 487.356 693.136 485.296 Q691.47 483.236 691.47 480.273 Q691.47 476.13 694.41 473.722 Q697.372 471.315 702.511 471.315 Q707.673 471.315 710.613 473.722 Q713.553 476.13 713.553 480.273 Q713.553 483.236 711.863 485.296 Q710.196 487.356 707.21 488.097 Q710.59 488.884 712.465 491.176 Q714.363 493.468 714.363 496.778 Q714.363 501.801 711.284 504.486 Q708.229 507.171 702.511 507.171 Q696.794 507.171 693.715 504.486 Q690.66 501.801 690.66 496.778 Q690.66 493.468 692.558 491.176 Q694.456 488.884 697.835 488.097 M696.122 480.713 Q696.122 483.398 697.789 484.903 Q699.479 486.407 702.511 486.407 Q705.521 486.407 707.21 484.903 Q708.923 483.398 708.923 480.713 Q708.923 478.028 707.21 476.523 Q705.521 475.019 702.511 475.019 Q699.479 475.019 697.789 476.523 Q696.122 478.028 696.122 480.713 Z\" fill=\"#000000\" fill-rule=\"nonzero\" fill-opacity=\"1\" /><path clip-path=\"url(#clip960)\" d=\"M830.683 502.565 L838.321 502.565 L838.321 476.199 L830.011 477.866 L830.011 473.607 L838.275 471.94 L842.951 471.94 L842.951 502.565 L850.59 502.565 L850.59 506.5 L830.683 506.5 L830.683 502.565 Z\" fill=\"#000000\" fill-rule=\"nonzero\" fill-opacity=\"1\" /><path clip-path=\"url(#clip960)\" d=\"M870.034 475.019 Q866.423 475.019 864.594 478.583 Q862.789 482.125 862.789 489.255 Q862.789 496.361 864.594 499.926 Q866.423 503.467 870.034 503.467 Q873.668 503.467 875.474 499.926 Q877.303 496.361 877.303 489.255 Q877.303 482.125 875.474 478.583 Q873.668 475.019 870.034 475.019 M870.034 471.315 Q875.844 471.315 878.9 475.921 Q881.979 480.505 881.979 489.255 Q881.979 497.981 878.9 502.588 Q875.844 507.171 870.034 507.171 Q864.224 507.171 861.145 502.588 Q858.09 497.981 858.09 489.255 Q858.09 480.505 861.145 475.921 Q864.224 471.315 870.034 471.315 Z\" fill=\"#000000\" fill-rule=\"nonzero\" fill-opacity=\"1\" /><path clip-path=\"url(#clip960)\" d=\"M447.7 534.794 L447.7 544.916 L459.763 544.916 L459.763 549.467 L447.7 549.467 L447.7 568.819 Q447.7 573.18 448.878 574.421 Q450.087 575.662 453.747 575.662 L459.763 575.662 L459.763 580.564 L453.747 580.564 Q446.968 580.564 444.39 578.049 Q441.812 575.503 441.812 568.819 L441.812 549.467 L437.515 549.467 L437.515 544.916 L441.812 544.916 L441.812 534.794 L447.7 534.794 Z\" fill=\"#000000\" fill-rule=\"nonzero\" fill-opacity=\"1\" /><path clip-path=\"url(#clip960)\" d=\"M467.465 544.916 L473.322 544.916 L473.322 580.564 L467.465 580.564 L467.465 544.916 M467.465 531.039 L473.322 531.039 L473.322 538.455 L467.465 538.455 L467.465 531.039 Z\" fill=\"#000000\" fill-rule=\"nonzero\" fill-opacity=\"1\" /><path clip-path=\"url(#clip960)\" d=\"M511.23 546.285 L511.23 551.759 Q508.747 550.39 506.233 549.722 Q503.75 549.022 501.204 549.022 Q495.506 549.022 492.355 552.65 Q489.204 556.247 489.204 562.772 Q489.204 569.297 492.355 572.925 Q495.506 576.522 501.204 576.522 Q503.75 576.522 506.233 575.853 Q508.747 575.153 511.23 573.784 L511.23 579.195 Q508.779 580.341 506.137 580.914 Q503.527 581.487 500.567 581.487 Q492.514 581.487 487.772 576.426 Q483.03 571.365 483.03 562.772 Q483.03 554.051 487.804 549.054 Q492.61 544.057 500.949 544.057 Q503.654 544.057 506.233 544.629 Q508.811 545.171 511.23 546.285 Z\" fill=\"#000000\" fill-rule=\"nonzero\" fill-opacity=\"1\" /><path clip-path=\"url(#clip960)\" d=\"M521.192 531.039 L527.08 531.039 L527.08 560.289 L544.554 544.916 L552.034 544.916 L533.128 561.594 L552.83 580.564 L545.191 580.564 L527.08 563.154 L527.08 580.564 L521.192 580.564 L521.192 531.039 Z\" fill=\"#000000\" fill-rule=\"nonzero\" fill-opacity=\"1\" /><path clip-path=\"url(#clip960)\" d=\"M581.889 545.966 L581.889 551.504 Q579.406 550.231 576.733 549.595 Q574.059 548.958 571.195 548.958 Q566.834 548.958 564.638 550.295 Q562.474 551.632 562.474 554.305 Q562.474 556.342 564.033 557.52 Q565.593 558.666 570.303 559.716 L572.309 560.162 Q578.547 561.499 581.157 563.949 Q583.799 566.368 583.799 570.729 Q583.799 575.694 579.852 578.59 Q575.937 581.487 569.062 581.487 Q566.198 581.487 563.078 580.914 Q559.991 580.373 556.553 579.259 L556.553 573.211 Q559.8 574.898 562.951 575.758 Q566.102 576.585 569.189 576.585 Q573.327 576.585 575.555 575.185 Q577.783 573.753 577.783 571.174 Q577.783 568.787 576.16 567.514 Q574.568 566.241 569.126 565.063 L567.089 564.586 Q561.646 563.44 559.227 561.085 Q556.808 558.698 556.808 554.56 Q556.808 549.531 560.373 546.794 Q563.938 544.057 570.494 544.057 Q573.741 544.057 576.605 544.534 Q579.47 545.011 581.889 545.966 Z\" fill=\"#000000\" fill-rule=\"nonzero\" fill-opacity=\"1\" /><polyline clip-path=\"url(#clip962)\" style=\"stroke:#000000; stroke-linecap:round; stroke-linejoin:round; stroke-width:2; stroke-opacity:0.1; fill:none\" points=\"144.598,438.854 876.715,438.854 \"/>\n<polyline clip-path=\"url(#clip962)\" style=\"stroke:#000000; stroke-linecap:round; stroke-linejoin:round; stroke-width:2; stroke-opacity:0.1; fill:none\" points=\"144.598,372.006 876.715,372.006 \"/>\n<polyline clip-path=\"url(#clip962)\" style=\"stroke:#000000; stroke-linecap:round; stroke-linejoin:round; stroke-width:2; stroke-opacity:0.1; fill:none\" points=\"144.598,305.159 876.715,305.159 \"/>\n<polyline clip-path=\"url(#clip962)\" style=\"stroke:#000000; stroke-linecap:round; stroke-linejoin:round; stroke-width:2; stroke-opacity:0.1; fill:none\" points=\"144.598,238.311 876.715,238.311 \"/>\n<polyline clip-path=\"url(#clip962)\" style=\"stroke:#000000; stroke-linecap:round; stroke-linejoin:round; stroke-width:2; stroke-opacity:0.1; fill:none\" points=\"144.598,171.464 876.715,171.464 \"/>\n<polyline clip-path=\"url(#clip962)\" style=\"stroke:#000000; stroke-linecap:round; stroke-linejoin:round; stroke-width:2; stroke-opacity:0.1; fill:none\" points=\"144.598,104.616 876.715,104.616 \"/>\n<polyline clip-path=\"url(#clip960)\" style=\"stroke:#000000; stroke-linecap:round; stroke-linejoin:round; stroke-width:4; stroke-opacity:1; fill:none\" points=\"144.598,453.7 144.598,47.2441 \"/>\n<polyline clip-path=\"url(#clip960)\" style=\"stroke:#000000; stroke-linecap:round; stroke-linejoin:round; stroke-width:4; stroke-opacity:1; fill:none\" points=\"144.598,438.854 158.322,438.854 \"/>\n<polyline clip-path=\"url(#clip960)\" style=\"stroke:#000000; stroke-linecap:round; stroke-linejoin:round; stroke-width:4; stroke-opacity:1; fill:none\" points=\"144.598,372.006 158.322,372.006 \"/>\n<polyline clip-path=\"url(#clip960)\" style=\"stroke:#000000; stroke-linecap:round; stroke-linejoin:round; stroke-width:4; stroke-opacity:1; fill:none\" points=\"144.598,305.159 158.322,305.159 \"/>\n<polyline clip-path=\"url(#clip960)\" style=\"stroke:#000000; stroke-linecap:round; stroke-linejoin:round; stroke-width:4; stroke-opacity:1; fill:none\" points=\"144.598,238.311 158.322,238.311 \"/>\n<polyline clip-path=\"url(#clip960)\" style=\"stroke:#000000; stroke-linecap:round; stroke-linejoin:round; stroke-width:4; stroke-opacity:1; fill:none\" points=\"144.598,171.464 158.322,171.464 \"/>\n<polyline clip-path=\"url(#clip960)\" style=\"stroke:#000000; stroke-linecap:round; stroke-linejoin:round; stroke-width:4; stroke-opacity:1; fill:none\" points=\"144.598,104.616 158.322,104.616 \"/>\n<path clip-path=\"url(#clip960)\" d=\"M71.0198 424.653 Q67.4087 424.653 65.58 428.217 Q63.7745 431.759 63.7745 438.889 Q63.7745 445.995 65.58 449.56 Q67.4087 453.102 71.0198 453.102 Q74.6541 453.102 76.4596 449.56 Q78.2883 445.995 78.2883 438.889 Q78.2883 431.759 76.4596 428.217 Q74.6541 424.653 71.0198 424.653 M71.0198 420.949 Q76.83 420.949 79.8855 425.555 Q82.9642 430.139 82.9642 438.889 Q82.9642 447.616 79.8855 452.222 Q76.83 456.805 71.0198 456.805 Q65.2097 456.805 62.131 452.222 Q59.0754 447.616 59.0754 438.889 Q59.0754 430.139 62.131 425.555 Q65.2097 420.949 71.0198 420.949 Z\" fill=\"#000000\" fill-rule=\"nonzero\" fill-opacity=\"1\" /><path clip-path=\"url(#clip960)\" d=\"M91.1818 450.254 L96.066 450.254 L96.066 456.134 L91.1818 456.134 L91.1818 450.254 Z\" fill=\"#000000\" fill-rule=\"nonzero\" fill-opacity=\"1\" /><path clip-path=\"url(#clip960)\" d=\"M110.279 452.199 L126.598 452.199 L126.598 456.134 L104.654 456.134 L104.654 452.199 Q107.316 449.444 111.899 444.815 Q116.506 440.162 117.686 438.819 Q119.932 436.296 120.811 434.56 Q121.714 432.801 121.714 431.111 Q121.714 428.356 119.77 426.62 Q117.848 424.884 114.746 424.884 Q112.547 424.884 110.094 425.648 Q107.663 426.412 104.885 427.963 L104.885 423.241 Q107.709 422.106 110.163 421.528 Q112.617 420.949 114.654 420.949 Q120.024 420.949 123.219 423.634 Q126.413 426.319 126.413 430.81 Q126.413 432.94 125.603 434.861 Q124.816 436.759 122.709 439.352 Q122.131 440.023 119.029 443.241 Q115.927 446.435 110.279 452.199 Z\" fill=\"#000000\" fill-rule=\"nonzero\" fill-opacity=\"1\" /><path clip-path=\"url(#clip960)\" d=\"M70.0708 357.805 Q66.4597 357.805 64.631 361.37 Q62.8254 364.912 62.8254 372.041 Q62.8254 379.148 64.631 382.712 Q66.4597 386.254 70.0708 386.254 Q73.705 386.254 75.5105 382.712 Q77.3392 379.148 77.3392 372.041 Q77.3392 364.912 75.5105 361.37 Q73.705 357.805 70.0708 357.805 M70.0708 354.101 Q75.8809 354.101 78.9365 358.708 Q82.0151 363.291 82.0151 372.041 Q82.0151 380.768 78.9365 385.374 Q75.8809 389.958 70.0708 389.958 Q64.2606 389.958 61.1819 385.374 Q58.1264 380.768 58.1264 372.041 Q58.1264 363.291 61.1819 358.708 Q64.2606 354.101 70.0708 354.101 Z\" fill=\"#000000\" fill-rule=\"nonzero\" fill-opacity=\"1\" /><path clip-path=\"url(#clip960)\" d=\"M90.2327 383.407 L95.1169 383.407 L95.1169 389.286 L90.2327 389.286 L90.2327 383.407 Z\" fill=\"#000000\" fill-rule=\"nonzero\" fill-opacity=\"1\" /><path clip-path=\"url(#clip960)\" d=\"M119.469 370.652 Q122.825 371.37 124.7 373.638 Q126.598 375.907 126.598 379.24 Q126.598 384.356 123.08 387.157 Q119.561 389.958 113.08 389.958 Q110.904 389.958 108.589 389.518 Q106.297 389.101 103.844 388.245 L103.844 383.731 Q105.788 384.865 108.103 385.444 Q110.418 386.023 112.941 386.023 Q117.339 386.023 119.631 384.287 Q121.945 382.55 121.945 379.24 Q121.945 376.185 119.793 374.472 Q117.663 372.736 113.844 372.736 L109.816 372.736 L109.816 368.893 L114.029 368.893 Q117.478 368.893 119.307 367.527 Q121.135 366.138 121.135 363.546 Q121.135 360.884 119.237 359.472 Q117.362 358.037 113.844 358.037 Q111.922 358.037 109.723 358.453 Q107.524 358.87 104.885 359.75 L104.885 355.583 Q107.547 354.842 109.862 354.472 Q112.2 354.101 114.26 354.101 Q119.584 354.101 122.686 356.532 Q125.788 358.939 125.788 363.06 Q125.788 365.93 124.145 367.921 Q122.501 369.888 119.469 370.652 Z\" fill=\"#000000\" fill-rule=\"nonzero\" fill-opacity=\"1\" /><path clip-path=\"url(#clip960)\" d=\"M68.9365 290.958 Q65.3254 290.958 63.4967 294.522 Q61.6912 298.064 61.6912 305.194 Q61.6912 312.3 63.4967 315.865 Q65.3254 319.407 68.9365 319.407 Q72.5707 319.407 74.3763 315.865 Q76.205 312.3 76.205 305.194 Q76.205 298.064 74.3763 294.522 Q72.5707 290.958 68.9365 290.958 M68.9365 287.254 Q74.7467 287.254 77.8022 291.86 Q80.8809 296.444 80.8809 305.194 Q80.8809 313.92 77.8022 318.527 Q74.7467 323.11 68.9365 323.11 Q63.1264 323.11 60.0477 318.527 Q56.9921 313.92 56.9921 305.194 Q56.9921 296.444 60.0477 291.86 Q63.1264 287.254 68.9365 287.254 Z\" fill=\"#000000\" fill-rule=\"nonzero\" fill-opacity=\"1\" /><path clip-path=\"url(#clip960)\" d=\"M89.0984 316.559 L93.9827 316.559 L93.9827 322.439 L89.0984 322.439 L89.0984 316.559 Z\" fill=\"#000000\" fill-rule=\"nonzero\" fill-opacity=\"1\" /><path clip-path=\"url(#clip960)\" d=\"M117.015 291.953 L105.209 310.402 L117.015 310.402 L117.015 291.953 M115.788 287.879 L121.668 287.879 L121.668 310.402 L126.598 310.402 L126.598 314.291 L121.668 314.291 L121.668 322.439 L117.015 322.439 L117.015 314.291 L101.413 314.291 L101.413 309.777 L115.788 287.879 Z\" fill=\"#000000\" fill-rule=\"nonzero\" fill-opacity=\"1\" /><path clip-path=\"url(#clip960)\" d=\"M70.418 224.11 Q66.8069 224.11 64.9782 227.675 Q63.1726 231.217 63.1726 238.346 Q63.1726 245.453 64.9782 249.017 Q66.8069 252.559 70.418 252.559 Q74.0522 252.559 75.8578 249.017 Q77.6865 245.453 77.6865 238.346 Q77.6865 231.217 75.8578 227.675 Q74.0522 224.11 70.418 224.11 M70.418 220.406 Q76.2281 220.406 79.2837 225.013 Q82.3624 229.596 82.3624 238.346 Q82.3624 247.073 79.2837 251.679 Q76.2281 256.263 70.418 256.263 Q64.6078 256.263 61.5291 251.679 Q58.4736 247.073 58.4736 238.346 Q58.4736 229.596 61.5291 225.013 Q64.6078 220.406 70.418 220.406 Z\" fill=\"#000000\" fill-rule=\"nonzero\" fill-opacity=\"1\" /><path clip-path=\"url(#clip960)\" d=\"M90.5799 249.712 L95.4641 249.712 L95.4641 255.591 L90.5799 255.591 L90.5799 249.712 Z\" fill=\"#000000\" fill-rule=\"nonzero\" fill-opacity=\"1\" /><path clip-path=\"url(#clip960)\" d=\"M105.696 221.031 L124.052 221.031 L124.052 224.967 L109.978 224.967 L109.978 233.439 Q110.996 233.092 112.015 232.93 Q113.033 232.744 114.052 232.744 Q119.839 232.744 123.219 235.916 Q126.598 239.087 126.598 244.504 Q126.598 250.082 123.126 253.184 Q119.654 256.263 113.334 256.263 Q111.159 256.263 108.89 255.892 Q106.645 255.522 104.237 254.781 L104.237 250.082 Q106.321 251.216 108.543 251.772 Q110.765 252.328 113.242 252.328 Q117.246 252.328 119.584 250.221 Q121.922 248.115 121.922 244.504 Q121.922 240.892 119.584 238.786 Q117.246 236.679 113.242 236.679 Q111.367 236.679 109.492 237.096 Q107.64 237.513 105.696 238.392 L105.696 221.031 Z\" fill=\"#000000\" fill-rule=\"nonzero\" fill-opacity=\"1\" /><path clip-path=\"url(#clip960)\" d=\"M69.2606 157.263 Q65.6495 157.263 63.8208 160.827 Q62.0152 164.369 62.0152 171.499 Q62.0152 178.605 63.8208 182.17 Q65.6495 185.712 69.2606 185.712 Q72.8948 185.712 74.7004 182.17 Q76.5291 178.605 76.5291 171.499 Q76.5291 164.369 74.7004 160.827 Q72.8948 157.263 69.2606 157.263 M69.2606 153.559 Q75.0707 153.559 78.1263 158.165 Q81.205 162.749 81.205 171.499 Q81.205 180.225 78.1263 184.832 Q75.0707 189.415 69.2606 189.415 Q63.4504 189.415 60.3717 184.832 Q57.3162 180.225 57.3162 171.499 Q57.3162 162.749 60.3717 158.165 Q63.4504 153.559 69.2606 153.559 Z\" fill=\"#000000\" fill-rule=\"nonzero\" fill-opacity=\"1\" /><path clip-path=\"url(#clip960)\" d=\"M89.4225 182.864 L94.3067 182.864 L94.3067 188.744 L89.4225 188.744 L89.4225 182.864 Z\" fill=\"#000000\" fill-rule=\"nonzero\" fill-opacity=\"1\" /><path clip-path=\"url(#clip960)\" d=\"M115.071 169.6 Q111.922 169.6 110.071 171.753 Q108.242 173.906 108.242 177.656 Q108.242 181.383 110.071 183.559 Q111.922 185.712 115.071 185.712 Q118.219 185.712 120.047 183.559 Q121.899 181.383 121.899 177.656 Q121.899 173.906 120.047 171.753 Q118.219 169.6 115.071 169.6 M124.353 154.948 L124.353 159.207 Q122.594 158.374 120.788 157.934 Q119.006 157.494 117.246 157.494 Q112.617 157.494 110.163 160.619 Q107.733 163.744 107.385 170.063 Q108.751 168.05 110.811 166.985 Q112.871 165.897 115.348 165.897 Q120.557 165.897 123.566 169.068 Q126.598 172.216 126.598 177.656 Q126.598 182.98 123.45 186.198 Q120.302 189.415 115.071 189.415 Q109.075 189.415 105.904 184.832 Q102.733 180.225 102.733 171.499 Q102.733 163.304 106.621 158.443 Q110.51 153.559 117.061 153.559 Q118.82 153.559 120.603 153.906 Q122.408 154.253 124.353 154.948 Z\" fill=\"#000000\" fill-rule=\"nonzero\" fill-opacity=\"1\" /><path clip-path=\"url(#clip960)\" d=\"M70.3254 90.4151 Q66.7143 90.4151 64.8856 93.9799 Q63.0801 97.5215 63.0801 104.651 Q63.0801 111.758 64.8856 115.322 Q66.7143 118.864 70.3254 118.864 Q73.9596 118.864 75.7652 115.322 Q77.5939 111.758 77.5939 104.651 Q77.5939 97.5215 75.7652 93.9799 Q73.9596 90.4151 70.3254 90.4151 M70.3254 86.7114 Q76.1355 86.7114 79.1911 91.3178 Q82.2698 95.9011 82.2698 104.651 Q82.2698 113.378 79.1911 117.984 Q76.1355 122.568 70.3254 122.568 Q64.5152 122.568 61.4365 117.984 Q58.381 113.378 58.381 104.651 Q58.381 95.9011 61.4365 91.3178 Q64.5152 86.7114 70.3254 86.7114 Z\" fill=\"#000000\" fill-rule=\"nonzero\" fill-opacity=\"1\" /><path clip-path=\"url(#clip960)\" d=\"M90.4873 116.017 L95.3715 116.017 L95.3715 121.896 L90.4873 121.896 L90.4873 116.017 Z\" fill=\"#000000\" fill-rule=\"nonzero\" fill-opacity=\"1\" /><path clip-path=\"url(#clip960)\" d=\"M104.376 87.3364 L126.598 87.3364 L126.598 89.3271 L114.052 121.896 L109.168 121.896 L120.973 91.2715 L104.376 91.2715 L104.376 87.3364 Z\" fill=\"#000000\" fill-rule=\"nonzero\" fill-opacity=\"1\" /><polyline clip-path=\"url(#clip962)\" style=\"stroke:#009af9; stroke-linecap:round; stroke-linejoin:round; stroke-width:4; stroke-opacity:1; fill:none\" points=\"165.319,442.196 242.06,374.697 318.802,267.404 395.544,230.101 472.286,206.518 549.028,166.291 625.769,172.775 702.511,115.987 779.253,88.9641 855.995,58.7476 \"/>\n<path clip-path=\"url(#clip960)\" d=\"M910.321 164.473 L1152.76 164.473 L1152.76 60.7926 L910.321 60.7926  Z\" fill=\"#ffffff\" fill-rule=\"evenodd\" fill-opacity=\"1\"/>\n<polyline clip-path=\"url(#clip960)\" style=\"stroke:#000000; stroke-linecap:round; stroke-linejoin:round; stroke-width:4; stroke-opacity:1; fill:none\" points=\"910.321,164.473 1152.76,164.473 1152.76,60.7926 910.321,60.7926 910.321,164.473 \"/>\n<polyline clip-path=\"url(#clip960)\" style=\"stroke:#009af9; stroke-linecap:round; stroke-linejoin:round; stroke-width:4; stroke-opacity:1; fill:none\" points=\"921.522,112.633 988.733,112.633 \"/>\n<path clip-path=\"url(#clip960)\" d=\"M1021.65 114.265 L1021.65 129.913 L1017.39 129.913 L1017.39 114.403 Q1017.39 110.723 1015.95 108.894 Q1014.52 107.066 1011.65 107.066 Q1008.2 107.066 1006.21 109.265 Q1004.22 111.464 1004.22 115.26 L1004.22 129.913 L999.935 129.913 L999.935 93.8943 L1004.22 93.8943 L1004.22 108.015 Q1005.74 105.677 1007.8 104.519 Q1009.89 103.362 1012.6 103.362 Q1017.06 103.362 1019.36 106.14 Q1021.65 108.894 1021.65 114.265 Z\" fill=\"#000000\" fill-rule=\"nonzero\" fill-opacity=\"1\" /><path clip-path=\"url(#clip960)\" d=\"M1041.93 116.88 Q1036.76 116.88 1034.77 118.061 Q1032.78 119.241 1032.78 122.089 Q1032.78 124.357 1034.26 125.7 Q1035.77 127.019 1038.34 127.019 Q1041.88 127.019 1044.01 124.519 Q1046.16 121.996 1046.16 117.829 L1046.16 116.88 L1041.93 116.88 M1050.42 115.121 L1050.42 129.913 L1046.16 129.913 L1046.16 125.977 Q1044.7 128.339 1042.53 129.473 Q1040.35 130.584 1037.2 130.584 Q1033.22 130.584 1030.86 128.362 Q1028.52 126.116 1028.52 122.366 Q1028.52 117.991 1031.44 115.769 Q1034.38 113.547 1040.19 113.547 L1046.16 113.547 L1046.16 113.13 Q1046.16 110.191 1044.22 108.593 Q1042.3 106.973 1038.8 106.973 Q1036.58 106.973 1034.47 107.505 Q1032.36 108.038 1030.42 109.103 L1030.42 105.167 Q1032.76 104.265 1034.96 103.825 Q1037.16 103.362 1039.24 103.362 Q1044.86 103.362 1047.64 106.278 Q1050.42 109.195 1050.42 115.121 Z\" fill=\"#000000\" fill-rule=\"nonzero\" fill-opacity=\"1\" /><path clip-path=\"url(#clip960)\" d=\"M1063.31 126.024 L1063.31 139.774 L1059.03 139.774 L1059.03 103.987 L1063.31 103.987 L1063.31 107.922 Q1064.66 105.607 1066.69 104.496 Q1068.75 103.362 1071.6 103.362 Q1076.32 103.362 1079.26 107.112 Q1082.23 110.862 1082.23 116.973 Q1082.23 123.084 1079.26 126.834 Q1076.32 130.584 1071.6 130.584 Q1068.75 130.584 1066.69 129.473 Q1064.66 128.339 1063.31 126.024 M1077.8 116.973 Q1077.8 112.274 1075.86 109.612 Q1073.94 106.927 1070.56 106.927 Q1067.18 106.927 1065.24 109.612 Q1063.31 112.274 1063.31 116.973 Q1063.31 121.672 1065.24 124.357 Q1067.18 127.019 1070.56 127.019 Q1073.94 127.019 1075.86 124.357 Q1077.8 121.672 1077.8 116.973 Z\" fill=\"#000000\" fill-rule=\"nonzero\" fill-opacity=\"1\" /><path clip-path=\"url(#clip960)\" d=\"M1093.41 126.024 L1093.41 139.774 L1089.12 139.774 L1089.12 103.987 L1093.41 103.987 L1093.41 107.922 Q1094.75 105.607 1096.79 104.496 Q1098.85 103.362 1101.69 103.362 Q1106.42 103.362 1109.36 107.112 Q1112.32 110.862 1112.32 116.973 Q1112.32 123.084 1109.36 126.834 Q1106.42 130.584 1101.69 130.584 Q1098.85 130.584 1096.79 129.473 Q1094.75 128.339 1093.41 126.024 M1107.9 116.973 Q1107.9 112.274 1105.95 109.612 Q1104.03 106.927 1100.65 106.927 Q1097.27 106.927 1095.33 109.612 Q1093.41 112.274 1093.41 116.973 Q1093.41 121.672 1095.33 124.357 Q1097.27 127.019 1100.65 127.019 Q1104.03 127.019 1105.95 124.357 Q1107.9 121.672 1107.9 116.973 Z\" fill=\"#000000\" fill-rule=\"nonzero\" fill-opacity=\"1\" /><path clip-path=\"url(#clip960)\" d=\"M1130.17 132.32 Q1128.36 136.95 1126.65 138.362 Q1124.93 139.774 1122.06 139.774 L1118.66 139.774 L1118.66 136.209 L1121.16 136.209 Q1122.92 136.209 1123.89 135.376 Q1124.86 134.542 1126.04 131.44 L1126.81 129.496 L1116.32 103.987 L1120.84 103.987 L1128.94 124.265 L1137.04 103.987 L1141.55 103.987 L1130.17 132.32 Z\" fill=\"#000000\" fill-rule=\"nonzero\" fill-opacity=\"1\" /></svg>\n"
               },
               "type": "node"
              }
             ],
             "instanceArgs": {
              "handlers": {
               "obs-output": [
                "function (value, scope) {\n    scope.setInnerHTML(value);\n}\n"
               ]
              },
              "id": "2732097957763652551",
              "imports": {
               "data": [],
               "type": "async_block"
              },
              "mount_callbacks": [],
              "observables": {
               "obs-output": {
                "id": "13064689853673123338",
                "sync": false,
                "value": "<?xml version=\"1.0\" encoding=\"utf-8\"?>\n<svg xmlns=\"http://www.w3.org/2000/svg\" xmlns:xlink=\"http://www.w3.org/1999/xlink\" width=\"300\" height=\"150\" viewBox=\"0 0 1200 600\">\n<defs>\n  <clipPath id=\"clip960\">\n    <rect x=\"0\" y=\"0\" width=\"1200\" height=\"600\"/>\n  </clipPath>\n</defs>\n<path clip-path=\"url(#clip960)\" d=\"M0 600 L1200 600 L1200 0 L0 0  Z\" fill=\"#ffffff\" fill-rule=\"evenodd\" fill-opacity=\"1\"/>\n<defs>\n  <clipPath id=\"clip961\">\n    <rect x=\"240\" y=\"0\" width=\"841\" height=\"600\"/>\n  </clipPath>\n</defs>\n<path clip-path=\"url(#clip960)\" d=\"M144.598 453.7 L876.715 453.7 L876.715 47.2441 L144.598 47.2441  Z\" fill=\"#ffffff\" fill-rule=\"evenodd\" fill-opacity=\"1\"/>\n<defs>\n  <clipPath id=\"clip962\">\n    <rect x=\"144\" y=\"47\" width=\"733\" height=\"407\"/>\n  </clipPath>\n</defs>\n<polyline clip-path=\"url(#clip962)\" style=\"stroke:#000000; stroke-linecap:round; stroke-linejoin:round; stroke-width:2; stroke-opacity:0.1; fill:none\" points=\"242.06,453.7 242.06,47.2441 \"/>\n<polyline clip-path=\"url(#clip962)\" style=\"stroke:#000000; stroke-linecap:round; stroke-linejoin:round; stroke-width:2; stroke-opacity:0.1; fill:none\" points=\"395.544,453.7 395.544,47.2441 \"/>\n<polyline clip-path=\"url(#clip962)\" style=\"stroke:#000000; stroke-linecap:round; stroke-linejoin:round; stroke-width:2; stroke-opacity:0.1; fill:none\" points=\"549.028,453.7 549.028,47.2441 \"/>\n<polyline clip-path=\"url(#clip962)\" style=\"stroke:#000000; stroke-linecap:round; stroke-linejoin:round; stroke-width:2; stroke-opacity:0.1; fill:none\" points=\"702.511,453.7 702.511,47.2441 \"/>\n<polyline clip-path=\"url(#clip962)\" style=\"stroke:#000000; stroke-linecap:round; stroke-linejoin:round; stroke-width:2; stroke-opacity:0.1; fill:none\" points=\"855.995,453.7 855.995,47.2441 \"/>\n<polyline clip-path=\"url(#clip960)\" style=\"stroke:#000000; stroke-linecap:round; stroke-linejoin:round; stroke-width:4; stroke-opacity:1; fill:none\" points=\"144.598,453.7 876.715,453.7 \"/>\n<polyline clip-path=\"url(#clip960)\" style=\"stroke:#000000; stroke-linecap:round; stroke-linejoin:round; stroke-width:4; stroke-opacity:1; fill:none\" points=\"242.06,453.7 242.06,434.802 \"/>\n<polyline clip-path=\"url(#clip960)\" style=\"stroke:#000000; stroke-linecap:round; stroke-linejoin:round; stroke-width:4; stroke-opacity:1; fill:none\" points=\"395.544,453.7 395.544,434.802 \"/>\n<polyline clip-path=\"url(#clip960)\" style=\"stroke:#000000; stroke-linecap:round; stroke-linejoin:round; stroke-width:4; stroke-opacity:1; fill:none\" points=\"549.028,453.7 549.028,434.802 \"/>\n<polyline clip-path=\"url(#clip960)\" style=\"stroke:#000000; stroke-linecap:round; stroke-linejoin:round; stroke-width:4; stroke-opacity:1; fill:none\" points=\"702.511,453.7 702.511,434.802 \"/>\n<polyline clip-path=\"url(#clip960)\" style=\"stroke:#000000; stroke-linecap:round; stroke-linejoin:round; stroke-width:4; stroke-opacity:1; fill:none\" points=\"855.995,453.7 855.995,434.802 \"/>\n<path clip-path=\"url(#clip960)\" d=\"M236.713 502.565 L253.033 502.565 L253.033 506.5 L231.088 506.5 L231.088 502.565 Q233.75 499.81 238.334 495.18 Q242.94 490.528 244.121 489.185 Q246.366 486.662 247.246 484.926 Q248.148 483.167 248.148 481.477 Q248.148 478.722 246.204 476.986 Q244.283 475.25 241.181 475.25 Q238.982 475.25 236.528 476.014 Q234.097 476.778 231.32 478.329 L231.32 473.607 Q234.144 472.472 236.597 471.894 Q239.051 471.315 241.088 471.315 Q246.458 471.315 249.653 474 Q252.847 476.685 252.847 481.176 Q252.847 483.306 252.037 485.227 Q251.25 487.125 249.144 489.718 Q248.565 490.389 245.463 493.606 Q242.361 496.801 236.713 502.565 Z\" fill=\"#000000\" fill-rule=\"nonzero\" fill-opacity=\"1\" /><path clip-path=\"url(#clip960)\" d=\"M398.553 476.014 L386.748 494.463 L398.553 494.463 L398.553 476.014 M397.326 471.94 L403.206 471.94 L403.206 494.463 L408.137 494.463 L408.137 498.352 L403.206 498.352 L403.206 506.5 L398.553 506.5 L398.553 498.352 L382.951 498.352 L382.951 493.838 L397.326 471.94 Z\" fill=\"#000000\" fill-rule=\"nonzero\" fill-opacity=\"1\" /><path clip-path=\"url(#clip960)\" d=\"M549.433 487.356 Q546.285 487.356 544.433 489.509 Q542.604 491.662 542.604 495.412 Q542.604 499.139 544.433 501.315 Q546.285 503.467 549.433 503.467 Q552.581 503.467 554.41 501.315 Q556.261 499.139 556.261 495.412 Q556.261 491.662 554.41 489.509 Q552.581 487.356 549.433 487.356 M558.715 472.704 L558.715 476.963 Q556.956 476.13 555.15 475.69 Q553.368 475.25 551.609 475.25 Q546.979 475.25 544.525 478.375 Q542.095 481.5 541.748 487.819 Q543.113 485.806 545.174 484.741 Q547.234 483.653 549.711 483.653 Q554.919 483.653 557.928 486.824 Q560.96 489.972 560.96 495.412 Q560.96 500.736 557.812 503.954 Q554.664 507.171 549.433 507.171 Q543.437 507.171 540.266 502.588 Q537.095 497.981 537.095 489.255 Q537.095 481.06 540.984 476.199 Q544.873 471.315 551.423 471.315 Q553.183 471.315 554.965 471.662 Q556.771 472.009 558.715 472.704 Z\" fill=\"#000000\" fill-rule=\"nonzero\" fill-opacity=\"1\" /><path clip-path=\"url(#clip960)\" d=\"M702.511 490.088 Q699.178 490.088 697.257 491.87 Q695.359 493.653 695.359 496.778 Q695.359 499.903 697.257 501.685 Q699.178 503.467 702.511 503.467 Q705.845 503.467 707.766 501.685 Q709.687 499.88 709.687 496.778 Q709.687 493.653 707.766 491.87 Q705.868 490.088 702.511 490.088 M697.835 488.097 Q694.826 487.356 693.136 485.296 Q691.47 483.236 691.47 480.273 Q691.47 476.13 694.41 473.722 Q697.372 471.315 702.511 471.315 Q707.673 471.315 710.613 473.722 Q713.553 476.13 713.553 480.273 Q713.553 483.236 711.863 485.296 Q710.196 487.356 707.21 488.097 Q710.59 488.884 712.465 491.176 Q714.363 493.468 714.363 496.778 Q714.363 501.801 711.284 504.486 Q708.229 507.171 702.511 507.171 Q696.794 507.171 693.715 504.486 Q690.66 501.801 690.66 496.778 Q690.66 493.468 692.558 491.176 Q694.456 488.884 697.835 488.097 M696.122 480.713 Q696.122 483.398 697.789 484.903 Q699.479 486.407 702.511 486.407 Q705.521 486.407 707.21 484.903 Q708.923 483.398 708.923 480.713 Q708.923 478.028 707.21 476.523 Q705.521 475.019 702.511 475.019 Q699.479 475.019 697.789 476.523 Q696.122 478.028 696.122 480.713 Z\" fill=\"#000000\" fill-rule=\"nonzero\" fill-opacity=\"1\" /><path clip-path=\"url(#clip960)\" d=\"M830.683 502.565 L838.321 502.565 L838.321 476.199 L830.011 477.866 L830.011 473.607 L838.275 471.94 L842.951 471.94 L842.951 502.565 L850.59 502.565 L850.59 506.5 L830.683 506.5 L830.683 502.565 Z\" fill=\"#000000\" fill-rule=\"nonzero\" fill-opacity=\"1\" /><path clip-path=\"url(#clip960)\" d=\"M870.034 475.019 Q866.423 475.019 864.594 478.583 Q862.789 482.125 862.789 489.255 Q862.789 496.361 864.594 499.926 Q866.423 503.467 870.034 503.467 Q873.668 503.467 875.474 499.926 Q877.303 496.361 877.303 489.255 Q877.303 482.125 875.474 478.583 Q873.668 475.019 870.034 475.019 M870.034 471.315 Q875.844 471.315 878.9 475.921 Q881.979 480.505 881.979 489.255 Q881.979 497.981 878.9 502.588 Q875.844 507.171 870.034 507.171 Q864.224 507.171 861.145 502.588 Q858.09 497.981 858.09 489.255 Q858.09 480.505 861.145 475.921 Q864.224 471.315 870.034 471.315 Z\" fill=\"#000000\" fill-rule=\"nonzero\" fill-opacity=\"1\" /><path clip-path=\"url(#clip960)\" d=\"M447.7 534.794 L447.7 544.916 L459.763 544.916 L459.763 549.467 L447.7 549.467 L447.7 568.819 Q447.7 573.18 448.878 574.421 Q450.087 575.662 453.747 575.662 L459.763 575.662 L459.763 580.564 L453.747 580.564 Q446.968 580.564 444.39 578.049 Q441.812 575.503 441.812 568.819 L441.812 549.467 L437.515 549.467 L437.515 544.916 L441.812 544.916 L441.812 534.794 L447.7 534.794 Z\" fill=\"#000000\" fill-rule=\"nonzero\" fill-opacity=\"1\" /><path clip-path=\"url(#clip960)\" d=\"M467.465 544.916 L473.322 544.916 L473.322 580.564 L467.465 580.564 L467.465 544.916 M467.465 531.039 L473.322 531.039 L473.322 538.455 L467.465 538.455 L467.465 531.039 Z\" fill=\"#000000\" fill-rule=\"nonzero\" fill-opacity=\"1\" /><path clip-path=\"url(#clip960)\" d=\"M511.23 546.285 L511.23 551.759 Q508.747 550.39 506.233 549.722 Q503.75 549.022 501.204 549.022 Q495.506 549.022 492.355 552.65 Q489.204 556.247 489.204 562.772 Q489.204 569.297 492.355 572.925 Q495.506 576.522 501.204 576.522 Q503.75 576.522 506.233 575.853 Q508.747 575.153 511.23 573.784 L511.23 579.195 Q508.779 580.341 506.137 580.914 Q503.527 581.487 500.567 581.487 Q492.514 581.487 487.772 576.426 Q483.03 571.365 483.03 562.772 Q483.03 554.051 487.804 549.054 Q492.61 544.057 500.949 544.057 Q503.654 544.057 506.233 544.629 Q508.811 545.171 511.23 546.285 Z\" fill=\"#000000\" fill-rule=\"nonzero\" fill-opacity=\"1\" /><path clip-path=\"url(#clip960)\" d=\"M521.192 531.039 L527.08 531.039 L527.08 560.289 L544.554 544.916 L552.034 544.916 L533.128 561.594 L552.83 580.564 L545.191 580.564 L527.08 563.154 L527.08 580.564 L521.192 580.564 L521.192 531.039 Z\" fill=\"#000000\" fill-rule=\"nonzero\" fill-opacity=\"1\" /><path clip-path=\"url(#clip960)\" d=\"M581.889 545.966 L581.889 551.504 Q579.406 550.231 576.733 549.595 Q574.059 548.958 571.195 548.958 Q566.834 548.958 564.638 550.295 Q562.474 551.632 562.474 554.305 Q562.474 556.342 564.033 557.52 Q565.593 558.666 570.303 559.716 L572.309 560.162 Q578.547 561.499 581.157 563.949 Q583.799 566.368 583.799 570.729 Q583.799 575.694 579.852 578.59 Q575.937 581.487 569.062 581.487 Q566.198 581.487 563.078 580.914 Q559.991 580.373 556.553 579.259 L556.553 573.211 Q559.8 574.898 562.951 575.758 Q566.102 576.585 569.189 576.585 Q573.327 576.585 575.555 575.185 Q577.783 573.753 577.783 571.174 Q577.783 568.787 576.16 567.514 Q574.568 566.241 569.126 565.063 L567.089 564.586 Q561.646 563.44 559.227 561.085 Q556.808 558.698 556.808 554.56 Q556.808 549.531 560.373 546.794 Q563.938 544.057 570.494 544.057 Q573.741 544.057 576.605 544.534 Q579.47 545.011 581.889 545.966 Z\" fill=\"#000000\" fill-rule=\"nonzero\" fill-opacity=\"1\" /><polyline clip-path=\"url(#clip962)\" style=\"stroke:#000000; stroke-linecap:round; stroke-linejoin:round; stroke-width:2; stroke-opacity:0.1; fill:none\" points=\"144.598,438.854 876.715,438.854 \"/>\n<polyline clip-path=\"url(#clip962)\" style=\"stroke:#000000; stroke-linecap:round; stroke-linejoin:round; stroke-width:2; stroke-opacity:0.1; fill:none\" points=\"144.598,372.006 876.715,372.006 \"/>\n<polyline clip-path=\"url(#clip962)\" style=\"stroke:#000000; stroke-linecap:round; stroke-linejoin:round; stroke-width:2; stroke-opacity:0.1; fill:none\" points=\"144.598,305.159 876.715,305.159 \"/>\n<polyline clip-path=\"url(#clip962)\" style=\"stroke:#000000; stroke-linecap:round; stroke-linejoin:round; stroke-width:2; stroke-opacity:0.1; fill:none\" points=\"144.598,238.311 876.715,238.311 \"/>\n<polyline clip-path=\"url(#clip962)\" style=\"stroke:#000000; stroke-linecap:round; stroke-linejoin:round; stroke-width:2; stroke-opacity:0.1; fill:none\" points=\"144.598,171.464 876.715,171.464 \"/>\n<polyline clip-path=\"url(#clip962)\" style=\"stroke:#000000; stroke-linecap:round; stroke-linejoin:round; stroke-width:2; stroke-opacity:0.1; fill:none\" points=\"144.598,104.616 876.715,104.616 \"/>\n<polyline clip-path=\"url(#clip960)\" style=\"stroke:#000000; stroke-linecap:round; stroke-linejoin:round; stroke-width:4; stroke-opacity:1; fill:none\" points=\"144.598,453.7 144.598,47.2441 \"/>\n<polyline clip-path=\"url(#clip960)\" style=\"stroke:#000000; stroke-linecap:round; stroke-linejoin:round; stroke-width:4; stroke-opacity:1; fill:none\" points=\"144.598,438.854 158.322,438.854 \"/>\n<polyline clip-path=\"url(#clip960)\" style=\"stroke:#000000; stroke-linecap:round; stroke-linejoin:round; stroke-width:4; stroke-opacity:1; fill:none\" points=\"144.598,372.006 158.322,372.006 \"/>\n<polyline clip-path=\"url(#clip960)\" style=\"stroke:#000000; stroke-linecap:round; stroke-linejoin:round; stroke-width:4; stroke-opacity:1; fill:none\" points=\"144.598,305.159 158.322,305.159 \"/>\n<polyline clip-path=\"url(#clip960)\" style=\"stroke:#000000; stroke-linecap:round; stroke-linejoin:round; stroke-width:4; stroke-opacity:1; fill:none\" points=\"144.598,238.311 158.322,238.311 \"/>\n<polyline clip-path=\"url(#clip960)\" style=\"stroke:#000000; stroke-linecap:round; stroke-linejoin:round; stroke-width:4; stroke-opacity:1; fill:none\" points=\"144.598,171.464 158.322,171.464 \"/>\n<polyline clip-path=\"url(#clip960)\" style=\"stroke:#000000; stroke-linecap:round; stroke-linejoin:round; stroke-width:4; stroke-opacity:1; fill:none\" points=\"144.598,104.616 158.322,104.616 \"/>\n<path clip-path=\"url(#clip960)\" d=\"M71.0198 424.653 Q67.4087 424.653 65.58 428.217 Q63.7745 431.759 63.7745 438.889 Q63.7745 445.995 65.58 449.56 Q67.4087 453.102 71.0198 453.102 Q74.6541 453.102 76.4596 449.56 Q78.2883 445.995 78.2883 438.889 Q78.2883 431.759 76.4596 428.217 Q74.6541 424.653 71.0198 424.653 M71.0198 420.949 Q76.83 420.949 79.8855 425.555 Q82.9642 430.139 82.9642 438.889 Q82.9642 447.616 79.8855 452.222 Q76.83 456.805 71.0198 456.805 Q65.2097 456.805 62.131 452.222 Q59.0754 447.616 59.0754 438.889 Q59.0754 430.139 62.131 425.555 Q65.2097 420.949 71.0198 420.949 Z\" fill=\"#000000\" fill-rule=\"nonzero\" fill-opacity=\"1\" /><path clip-path=\"url(#clip960)\" d=\"M91.1818 450.254 L96.066 450.254 L96.066 456.134 L91.1818 456.134 L91.1818 450.254 Z\" fill=\"#000000\" fill-rule=\"nonzero\" fill-opacity=\"1\" /><path clip-path=\"url(#clip960)\" d=\"M110.279 452.199 L126.598 452.199 L126.598 456.134 L104.654 456.134 L104.654 452.199 Q107.316 449.444 111.899 444.815 Q116.506 440.162 117.686 438.819 Q119.932 436.296 120.811 434.56 Q121.714 432.801 121.714 431.111 Q121.714 428.356 119.77 426.62 Q117.848 424.884 114.746 424.884 Q112.547 424.884 110.094 425.648 Q107.663 426.412 104.885 427.963 L104.885 423.241 Q107.709 422.106 110.163 421.528 Q112.617 420.949 114.654 420.949 Q120.024 420.949 123.219 423.634 Q126.413 426.319 126.413 430.81 Q126.413 432.94 125.603 434.861 Q124.816 436.759 122.709 439.352 Q122.131 440.023 119.029 443.241 Q115.927 446.435 110.279 452.199 Z\" fill=\"#000000\" fill-rule=\"nonzero\" fill-opacity=\"1\" /><path clip-path=\"url(#clip960)\" d=\"M70.0708 357.805 Q66.4597 357.805 64.631 361.37 Q62.8254 364.912 62.8254 372.041 Q62.8254 379.148 64.631 382.712 Q66.4597 386.254 70.0708 386.254 Q73.705 386.254 75.5105 382.712 Q77.3392 379.148 77.3392 372.041 Q77.3392 364.912 75.5105 361.37 Q73.705 357.805 70.0708 357.805 M70.0708 354.101 Q75.8809 354.101 78.9365 358.708 Q82.0151 363.291 82.0151 372.041 Q82.0151 380.768 78.9365 385.374 Q75.8809 389.958 70.0708 389.958 Q64.2606 389.958 61.1819 385.374 Q58.1264 380.768 58.1264 372.041 Q58.1264 363.291 61.1819 358.708 Q64.2606 354.101 70.0708 354.101 Z\" fill=\"#000000\" fill-rule=\"nonzero\" fill-opacity=\"1\" /><path clip-path=\"url(#clip960)\" d=\"M90.2327 383.407 L95.1169 383.407 L95.1169 389.286 L90.2327 389.286 L90.2327 383.407 Z\" fill=\"#000000\" fill-rule=\"nonzero\" fill-opacity=\"1\" /><path clip-path=\"url(#clip960)\" d=\"M119.469 370.652 Q122.825 371.37 124.7 373.638 Q126.598 375.907 126.598 379.24 Q126.598 384.356 123.08 387.157 Q119.561 389.958 113.08 389.958 Q110.904 389.958 108.589 389.518 Q106.297 389.101 103.844 388.245 L103.844 383.731 Q105.788 384.865 108.103 385.444 Q110.418 386.023 112.941 386.023 Q117.339 386.023 119.631 384.287 Q121.945 382.55 121.945 379.24 Q121.945 376.185 119.793 374.472 Q117.663 372.736 113.844 372.736 L109.816 372.736 L109.816 368.893 L114.029 368.893 Q117.478 368.893 119.307 367.527 Q121.135 366.138 121.135 363.546 Q121.135 360.884 119.237 359.472 Q117.362 358.037 113.844 358.037 Q111.922 358.037 109.723 358.453 Q107.524 358.87 104.885 359.75 L104.885 355.583 Q107.547 354.842 109.862 354.472 Q112.2 354.101 114.26 354.101 Q119.584 354.101 122.686 356.532 Q125.788 358.939 125.788 363.06 Q125.788 365.93 124.145 367.921 Q122.501 369.888 119.469 370.652 Z\" fill=\"#000000\" fill-rule=\"nonzero\" fill-opacity=\"1\" /><path clip-path=\"url(#clip960)\" d=\"M68.9365 290.958 Q65.3254 290.958 63.4967 294.522 Q61.6912 298.064 61.6912 305.194 Q61.6912 312.3 63.4967 315.865 Q65.3254 319.407 68.9365 319.407 Q72.5707 319.407 74.3763 315.865 Q76.205 312.3 76.205 305.194 Q76.205 298.064 74.3763 294.522 Q72.5707 290.958 68.9365 290.958 M68.9365 287.254 Q74.7467 287.254 77.8022 291.86 Q80.8809 296.444 80.8809 305.194 Q80.8809 313.92 77.8022 318.527 Q74.7467 323.11 68.9365 323.11 Q63.1264 323.11 60.0477 318.527 Q56.9921 313.92 56.9921 305.194 Q56.9921 296.444 60.0477 291.86 Q63.1264 287.254 68.9365 287.254 Z\" fill=\"#000000\" fill-rule=\"nonzero\" fill-opacity=\"1\" /><path clip-path=\"url(#clip960)\" d=\"M89.0984 316.559 L93.9827 316.559 L93.9827 322.439 L89.0984 322.439 L89.0984 316.559 Z\" fill=\"#000000\" fill-rule=\"nonzero\" fill-opacity=\"1\" /><path clip-path=\"url(#clip960)\" d=\"M117.015 291.953 L105.209 310.402 L117.015 310.402 L117.015 291.953 M115.788 287.879 L121.668 287.879 L121.668 310.402 L126.598 310.402 L126.598 314.291 L121.668 314.291 L121.668 322.439 L117.015 322.439 L117.015 314.291 L101.413 314.291 L101.413 309.777 L115.788 287.879 Z\" fill=\"#000000\" fill-rule=\"nonzero\" fill-opacity=\"1\" /><path clip-path=\"url(#clip960)\" d=\"M70.418 224.11 Q66.8069 224.11 64.9782 227.675 Q63.1726 231.217 63.1726 238.346 Q63.1726 245.453 64.9782 249.017 Q66.8069 252.559 70.418 252.559 Q74.0522 252.559 75.8578 249.017 Q77.6865 245.453 77.6865 238.346 Q77.6865 231.217 75.8578 227.675 Q74.0522 224.11 70.418 224.11 M70.418 220.406 Q76.2281 220.406 79.2837 225.013 Q82.3624 229.596 82.3624 238.346 Q82.3624 247.073 79.2837 251.679 Q76.2281 256.263 70.418 256.263 Q64.6078 256.263 61.5291 251.679 Q58.4736 247.073 58.4736 238.346 Q58.4736 229.596 61.5291 225.013 Q64.6078 220.406 70.418 220.406 Z\" fill=\"#000000\" fill-rule=\"nonzero\" fill-opacity=\"1\" /><path clip-path=\"url(#clip960)\" d=\"M90.5799 249.712 L95.4641 249.712 L95.4641 255.591 L90.5799 255.591 L90.5799 249.712 Z\" fill=\"#000000\" fill-rule=\"nonzero\" fill-opacity=\"1\" /><path clip-path=\"url(#clip960)\" d=\"M105.696 221.031 L124.052 221.031 L124.052 224.967 L109.978 224.967 L109.978 233.439 Q110.996 233.092 112.015 232.93 Q113.033 232.744 114.052 232.744 Q119.839 232.744 123.219 235.916 Q126.598 239.087 126.598 244.504 Q126.598 250.082 123.126 253.184 Q119.654 256.263 113.334 256.263 Q111.159 256.263 108.89 255.892 Q106.645 255.522 104.237 254.781 L104.237 250.082 Q106.321 251.216 108.543 251.772 Q110.765 252.328 113.242 252.328 Q117.246 252.328 119.584 250.221 Q121.922 248.115 121.922 244.504 Q121.922 240.892 119.584 238.786 Q117.246 236.679 113.242 236.679 Q111.367 236.679 109.492 237.096 Q107.64 237.513 105.696 238.392 L105.696 221.031 Z\" fill=\"#000000\" fill-rule=\"nonzero\" fill-opacity=\"1\" /><path clip-path=\"url(#clip960)\" d=\"M69.2606 157.263 Q65.6495 157.263 63.8208 160.827 Q62.0152 164.369 62.0152 171.499 Q62.0152 178.605 63.8208 182.17 Q65.6495 185.712 69.2606 185.712 Q72.8948 185.712 74.7004 182.17 Q76.5291 178.605 76.5291 171.499 Q76.5291 164.369 74.7004 160.827 Q72.8948 157.263 69.2606 157.263 M69.2606 153.559 Q75.0707 153.559 78.1263 158.165 Q81.205 162.749 81.205 171.499 Q81.205 180.225 78.1263 184.832 Q75.0707 189.415 69.2606 189.415 Q63.4504 189.415 60.3717 184.832 Q57.3162 180.225 57.3162 171.499 Q57.3162 162.749 60.3717 158.165 Q63.4504 153.559 69.2606 153.559 Z\" fill=\"#000000\" fill-rule=\"nonzero\" fill-opacity=\"1\" /><path clip-path=\"url(#clip960)\" d=\"M89.4225 182.864 L94.3067 182.864 L94.3067 188.744 L89.4225 188.744 L89.4225 182.864 Z\" fill=\"#000000\" fill-rule=\"nonzero\" fill-opacity=\"1\" /><path clip-path=\"url(#clip960)\" d=\"M115.071 169.6 Q111.922 169.6 110.071 171.753 Q108.242 173.906 108.242 177.656 Q108.242 181.383 110.071 183.559 Q111.922 185.712 115.071 185.712 Q118.219 185.712 120.047 183.559 Q121.899 181.383 121.899 177.656 Q121.899 173.906 120.047 171.753 Q118.219 169.6 115.071 169.6 M124.353 154.948 L124.353 159.207 Q122.594 158.374 120.788 157.934 Q119.006 157.494 117.246 157.494 Q112.617 157.494 110.163 160.619 Q107.733 163.744 107.385 170.063 Q108.751 168.05 110.811 166.985 Q112.871 165.897 115.348 165.897 Q120.557 165.897 123.566 169.068 Q126.598 172.216 126.598 177.656 Q126.598 182.98 123.45 186.198 Q120.302 189.415 115.071 189.415 Q109.075 189.415 105.904 184.832 Q102.733 180.225 102.733 171.499 Q102.733 163.304 106.621 158.443 Q110.51 153.559 117.061 153.559 Q118.82 153.559 120.603 153.906 Q122.408 154.253 124.353 154.948 Z\" fill=\"#000000\" fill-rule=\"nonzero\" fill-opacity=\"1\" /><path clip-path=\"url(#clip960)\" d=\"M70.3254 90.4151 Q66.7143 90.4151 64.8856 93.9799 Q63.0801 97.5215 63.0801 104.651 Q63.0801 111.758 64.8856 115.322 Q66.7143 118.864 70.3254 118.864 Q73.9596 118.864 75.7652 115.322 Q77.5939 111.758 77.5939 104.651 Q77.5939 97.5215 75.7652 93.9799 Q73.9596 90.4151 70.3254 90.4151 M70.3254 86.7114 Q76.1355 86.7114 79.1911 91.3178 Q82.2698 95.9011 82.2698 104.651 Q82.2698 113.378 79.1911 117.984 Q76.1355 122.568 70.3254 122.568 Q64.5152 122.568 61.4365 117.984 Q58.381 113.378 58.381 104.651 Q58.381 95.9011 61.4365 91.3178 Q64.5152 86.7114 70.3254 86.7114 Z\" fill=\"#000000\" fill-rule=\"nonzero\" fill-opacity=\"1\" /><path clip-path=\"url(#clip960)\" d=\"M90.4873 116.017 L95.3715 116.017 L95.3715 121.896 L90.4873 121.896 L90.4873 116.017 Z\" fill=\"#000000\" fill-rule=\"nonzero\" fill-opacity=\"1\" /><path clip-path=\"url(#clip960)\" d=\"M104.376 87.3364 L126.598 87.3364 L126.598 89.3271 L114.052 121.896 L109.168 121.896 L120.973 91.2715 L104.376 91.2715 L104.376 87.3364 Z\" fill=\"#000000\" fill-rule=\"nonzero\" fill-opacity=\"1\" /><polyline clip-path=\"url(#clip962)\" style=\"stroke:#009af9; stroke-linecap:round; stroke-linejoin:round; stroke-width:4; stroke-opacity:1; fill:none\" points=\"165.319,442.196 242.06,374.697 318.802,267.404 395.544,230.101 472.286,206.518 549.028,166.291 625.769,172.775 702.511,115.987 779.253,88.9641 855.995,58.7476 \"/>\n<path clip-path=\"url(#clip960)\" d=\"M910.321 164.473 L1152.76 164.473 L1152.76 60.7926 L910.321 60.7926  Z\" fill=\"#ffffff\" fill-rule=\"evenodd\" fill-opacity=\"1\"/>\n<polyline clip-path=\"url(#clip960)\" style=\"stroke:#000000; stroke-linecap:round; stroke-linejoin:round; stroke-width:4; stroke-opacity:1; fill:none\" points=\"910.321,164.473 1152.76,164.473 1152.76,60.7926 910.321,60.7926 910.321,164.473 \"/>\n<polyline clip-path=\"url(#clip960)\" style=\"stroke:#009af9; stroke-linecap:round; stroke-linejoin:round; stroke-width:4; stroke-opacity:1; fill:none\" points=\"921.522,112.633 988.733,112.633 \"/>\n<path clip-path=\"url(#clip960)\" d=\"M1021.65 114.265 L1021.65 129.913 L1017.39 129.913 L1017.39 114.403 Q1017.39 110.723 1015.95 108.894 Q1014.52 107.066 1011.65 107.066 Q1008.2 107.066 1006.21 109.265 Q1004.22 111.464 1004.22 115.26 L1004.22 129.913 L999.935 129.913 L999.935 93.8943 L1004.22 93.8943 L1004.22 108.015 Q1005.74 105.677 1007.8 104.519 Q1009.89 103.362 1012.6 103.362 Q1017.06 103.362 1019.36 106.14 Q1021.65 108.894 1021.65 114.265 Z\" fill=\"#000000\" fill-rule=\"nonzero\" fill-opacity=\"1\" /><path clip-path=\"url(#clip960)\" d=\"M1041.93 116.88 Q1036.76 116.88 1034.77 118.061 Q1032.78 119.241 1032.78 122.089 Q1032.78 124.357 1034.26 125.7 Q1035.77 127.019 1038.34 127.019 Q1041.88 127.019 1044.01 124.519 Q1046.16 121.996 1046.16 117.829 L1046.16 116.88 L1041.93 116.88 M1050.42 115.121 L1050.42 129.913 L1046.16 129.913 L1046.16 125.977 Q1044.7 128.339 1042.53 129.473 Q1040.35 130.584 1037.2 130.584 Q1033.22 130.584 1030.86 128.362 Q1028.52 126.116 1028.52 122.366 Q1028.52 117.991 1031.44 115.769 Q1034.38 113.547 1040.19 113.547 L1046.16 113.547 L1046.16 113.13 Q1046.16 110.191 1044.22 108.593 Q1042.3 106.973 1038.8 106.973 Q1036.58 106.973 1034.47 107.505 Q1032.36 108.038 1030.42 109.103 L1030.42 105.167 Q1032.76 104.265 1034.96 103.825 Q1037.16 103.362 1039.24 103.362 Q1044.86 103.362 1047.64 106.278 Q1050.42 109.195 1050.42 115.121 Z\" fill=\"#000000\" fill-rule=\"nonzero\" fill-opacity=\"1\" /><path clip-path=\"url(#clip960)\" d=\"M1063.31 126.024 L1063.31 139.774 L1059.03 139.774 L1059.03 103.987 L1063.31 103.987 L1063.31 107.922 Q1064.66 105.607 1066.69 104.496 Q1068.75 103.362 1071.6 103.362 Q1076.32 103.362 1079.26 107.112 Q1082.23 110.862 1082.23 116.973 Q1082.23 123.084 1079.26 126.834 Q1076.32 130.584 1071.6 130.584 Q1068.75 130.584 1066.69 129.473 Q1064.66 128.339 1063.31 126.024 M1077.8 116.973 Q1077.8 112.274 1075.86 109.612 Q1073.94 106.927 1070.56 106.927 Q1067.18 106.927 1065.24 109.612 Q1063.31 112.274 1063.31 116.973 Q1063.31 121.672 1065.24 124.357 Q1067.18 127.019 1070.56 127.019 Q1073.94 127.019 1075.86 124.357 Q1077.8 121.672 1077.8 116.973 Z\" fill=\"#000000\" fill-rule=\"nonzero\" fill-opacity=\"1\" /><path clip-path=\"url(#clip960)\" d=\"M1093.41 126.024 L1093.41 139.774 L1089.12 139.774 L1089.12 103.987 L1093.41 103.987 L1093.41 107.922 Q1094.75 105.607 1096.79 104.496 Q1098.85 103.362 1101.69 103.362 Q1106.42 103.362 1109.36 107.112 Q1112.32 110.862 1112.32 116.973 Q1112.32 123.084 1109.36 126.834 Q1106.42 130.584 1101.69 130.584 Q1098.85 130.584 1096.79 129.473 Q1094.75 128.339 1093.41 126.024 M1107.9 116.973 Q1107.9 112.274 1105.95 109.612 Q1104.03 106.927 1100.65 106.927 Q1097.27 106.927 1095.33 109.612 Q1093.41 112.274 1093.41 116.973 Q1093.41 121.672 1095.33 124.357 Q1097.27 127.019 1100.65 127.019 Q1104.03 127.019 1105.95 124.357 Q1107.9 121.672 1107.9 116.973 Z\" fill=\"#000000\" fill-rule=\"nonzero\" fill-opacity=\"1\" /><path clip-path=\"url(#clip960)\" d=\"M1130.17 132.32 Q1128.36 136.95 1126.65 138.362 Q1124.93 139.774 1122.06 139.774 L1118.66 139.774 L1118.66 136.209 L1121.16 136.209 Q1122.92 136.209 1123.89 135.376 Q1124.86 134.542 1126.04 131.44 L1126.81 129.496 L1116.32 103.987 L1120.84 103.987 L1128.94 124.265 L1137.04 103.987 L1141.55 103.987 L1130.17 132.32 Z\" fill=\"#000000\" fill-rule=\"nonzero\" fill-opacity=\"1\" /></svg>\n"
               }
              },
              "systemjs_options": null
             },
             "nodeType": "Scope",
             "props": {},
             "type": "node"
            }
           ],
           "instanceArgs": {
            "namespace": "html",
            "tag": "div"
           },
           "nodeType": "DOM",
           "props": {
            "style": {
             "display": "flex",
             "flex-direction": "column"
            }
           },
           "type": "node"
          }
         ],
         "instanceArgs": {
          "namespace": "html",
          "tag": "div"
         },
         "nodeType": "DOM",
         "props": {
          "style": {
           "display": "flex",
           "flex-direction": "row"
          }
         },
         "type": "node"
        }
       ],
       "instanceArgs": {
        "namespace": "html",
        "tag": "div"
       },
       "nodeType": "DOM",
       "props": {
        "style": {
         "display": "flex",
         "flex-direction": "column"
        }
       },
       "type": "node"
      },
      "text/html": [
       "<div\n",
       "    class=\"webio-mountpoint\"\n",
       "    data-webio-mountpoint=\"7735265961001792637\"\n",
       ">\n",
       "    <script>\n",
       "    (function(){\n",
       "    // Some integrations (namely, IJulia/Jupyter) use an alternate render pathway than\n",
       "    // just putting the html on the page. If WebIO isn't defined, then it's pretty likely\n",
       "    // that we're in one of those situations and the integration just isn't installed\n",
       "    // correctly.\n",
       "    if (typeof window.WebIO === \"undefined\") {\n",
       "        document\n",
       "            .querySelector('[data-webio-mountpoint=\"7735265961001792637\"]')\n",
       "            .innerHTML = (\n",
       "                '<div style=\"padding: 1em; background-color: #f8d6da; border: 1px solid #f5c6cb; font-weight: bold;\">' +\n",
       "                '<p><strong>WebIO not detected.</strong></p>' +\n",
       "                '<p>Please read ' +\n",
       "                '<a href=\"https://juliagizmos.github.io/WebIO.jl/latest/troubleshooting/not-detected/\" target=\"_blank\">the troubleshooting guide</a> ' +\n",
       "                'for more information on how to resolve this issue.</p>' +\n",
       "                '<p><a href=\"https://juliagizmos.github.io/WebIO.jl/latest/troubleshooting/not-detected/\" target=\"_blank\">https://juliagizmos.github.io/WebIO.jl/latest/troubleshooting/not-detected/</a></p>' +\n",
       "                '</div>'\n",
       "            );\n",
       "        return;\n",
       "    }\n",
       "    WebIO.mount(\n",
       "        document.querySelector('[data-webio-mountpoint=\"7735265961001792637\"]'),\n",
       "        {\"props\":{\"style\":{\"display\":\"flex\",\"flex-direction\":\"column\"}},\"nodeType\":\"DOM\",\"type\":\"node\",\"instanceArgs\":{\"namespace\":\"html\",\"tag\":\"div\"},\"children\":[{\"props\":{\"style\":{\"display\":\"flex\",\"flex-direction\":\"row\"}},\"nodeType\":\"DOM\",\"type\":\"node\",\"instanceArgs\":{\"namespace\":\"html\",\"tag\":\"div\"},\"children\":[{\"props\":{\"style\":{\"display\":\"flex\",\"flex-direction\":\"column\"}},\"nodeType\":\"DOM\",\"type\":\"node\",\"instanceArgs\":{\"namespace\":\"html\",\"tag\":\"div\"},\"children\":[{\"props\":{\"className\":\"field interact-widget\"},\"nodeType\":\"DOM\",\"type\":\"node\",\"instanceArgs\":{\"namespace\":\"html\",\"tag\":\"div\"},\"children\":[{\"props\":{},\"nodeType\":\"Scope\",\"type\":\"node\",\"instanceArgs\":{\"imports\":{\"data\":[{\"name\":\"knockout\",\"type\":\"js\",\"url\":\"\\/assetserver\\/727383f2a47bd31570b7da84eee7b022dd6d7c78-knockout.js\"},{\"name\":\"knockout_punches\",\"type\":\"js\",\"url\":\"\\/assetserver\\/382b41b3b1bd9f26f75861d360bad7f8beea211f-knockout_punches.js\"},{\"name\":null,\"type\":\"js\",\"url\":\"\\/assetserver\\/5ab20f1060420992a9b82a65b735dee4d81ef413-all.js\"},{\"name\":null,\"type\":\"css\",\"url\":\"\\/assetserver\\/1cc0ed62837210b80a182cc3676512f895dab686-style.css\"},{\"name\":null,\"type\":\"css\",\"url\":\"\\/assetserver\\/2eee816f616df3549d7044d45e744fbf8d42bfa1-bulma_confined.min.css\"}],\"type\":\"async_block\"},\"id\":\"4113090339636934729\",\"handlers\":{\"changes\":[\"(function (val){return (val!=this.model[\\\"changes\\\"]()) ? (this.valueFromJulia[\\\"changes\\\"]=true, this.model[\\\"changes\\\"](val)) : undefined})\"],\"index\":[\"(function (val){return (val!=this.model[\\\"index\\\"]()) ? (this.valueFromJulia[\\\"index\\\"]=true, this.model[\\\"index\\\"](val)) : undefined})\"]},\"systemjs_options\":null,\"mount_callbacks\":[\"function () {\\n    var handler = (function (ko, koPunches) {\\n    ko.punches.enableAll();\\n    ko.bindingHandlers.numericValue = {\\n        init: function(element, valueAccessor, allBindings, data, context) {\\n            var stringified = ko.observable(ko.unwrap(valueAccessor()));\\n            stringified.subscribe(function(value) {\\n                var val = parseFloat(value);\\n                if (!isNaN(val)) {\\n                    valueAccessor()(val);\\n                }\\n            });\\n            valueAccessor().subscribe(function(value) {\\n                var str = JSON.stringify(value);\\n                if ((str == \\\"0\\\") && ([\\\"-0\\\", \\\"-0.\\\"].indexOf(stringified()) >= 0))\\n                     return;\\n                 if ([\\\"null\\\", \\\"\\\"].indexOf(str) >= 0)\\n                     return;\\n                stringified(str);\\n            });\\n            ko.applyBindingsToNode(\\n                element,\\n                {\\n                    value: stringified,\\n                    valueUpdate: allBindings.get('valueUpdate'),\\n                },\\n                context,\\n            );\\n        }\\n    };\\n    var json_data = {\\\"formatted_vals\\\":[\\\"1\\\",\\\"2\\\",\\\"3\\\",\\\"4\\\",\\\"5\\\",\\\"6\\\",\\\"7\\\",\\\"8\\\",\\\"9\\\",\\\"10\\\",\\\"11\\\",\\\"12\\\",\\\"13\\\",\\\"14\\\",\\\"15\\\",\\\"16\\\",\\\"17\\\",\\\"18\\\",\\\"19\\\",\\\"20\\\"],\\\"changes\\\":WebIO.getval({\\\"name\\\":\\\"changes\\\",\\\"scope\\\":\\\"4113090339636934729\\\",\\\"id\\\":\\\"8899706420923743420\\\",\\\"type\\\":\\\"observable\\\"}),\\\"index\\\":WebIO.getval({\\\"name\\\":\\\"index\\\",\\\"scope\\\":\\\"4113090339636934729\\\",\\\"id\\\":\\\"12911223574668458309\\\",\\\"type\\\":\\\"observable\\\"})};\\n    var self = this;\\n    function AppViewModel() {\\n        for (var key in json_data) {\\n            var el = json_data[key];\\n            this[key] = Array.isArray(el) ? ko.observableArray(el) : ko.observable(el);\\n        }\\n        \\n        [this[\\\"formatted_val\\\"]=ko.computed(    function(){\\n        return this.formatted_vals()[parseInt(this.index())-(1)];\\n    }\\n,this)]\\n        [this[\\\"changes\\\"].subscribe((function (val){!(this.valueFromJulia[\\\"changes\\\"]) ? (WebIO.setval({\\\"name\\\":\\\"changes\\\",\\\"scope\\\":\\\"4113090339636934729\\\",\\\"id\\\":\\\"8899706420923743420\\\",\\\"type\\\":\\\"observable\\\"},val)) : undefined; return this.valueFromJulia[\\\"changes\\\"]=false}),self),this[\\\"index\\\"].subscribe((function (val){!(this.valueFromJulia[\\\"index\\\"]) ? (WebIO.setval({\\\"name\\\":\\\"index\\\",\\\"scope\\\":\\\"4113090339636934729\\\",\\\"id\\\":\\\"12911223574668458309\\\",\\\"type\\\":\\\"observable\\\"},val)) : undefined; return this.valueFromJulia[\\\"index\\\"]=false}),self)]\\n        \\n    }\\n    self.model = new AppViewModel();\\n    self.valueFromJulia = {};\\n    for (var key in json_data) {\\n        self.valueFromJulia[key] = false;\\n    }\\n    ko.applyBindings(self.model, self.dom);\\n}\\n);\\n    (WebIO.importBlock({\\\"data\\\":[{\\\"name\\\":\\\"knockout\\\",\\\"type\\\":\\\"js\\\",\\\"url\\\":\\\"\\/assetserver\\/727383f2a47bd31570b7da84eee7b022dd6d7c78-knockout.js\\\"},{\\\"name\\\":\\\"knockout_punches\\\",\\\"type\\\":\\\"js\\\",\\\"url\\\":\\\"\\/assetserver\\/382b41b3b1bd9f26f75861d360bad7f8beea211f-knockout_punches.js\\\"}],\\\"type\\\":\\\"async_block\\\"})).then((imports) => handler.apply(this, imports));\\n}\\n\"],\"observables\":{\"changes\":{\"sync\":false,\"id\":\"8899706420923743420\",\"value\":0},\"index\":{\"sync\":true,\"id\":\"12911223574668458309\",\"value\":10}}},\"children\":[{\"props\":{\"className\":\"interact-flex-row interact-widget\"},\"nodeType\":\"DOM\",\"type\":\"node\",\"instanceArgs\":{\"namespace\":\"html\",\"tag\":\"div\"},\"children\":[{\"props\":{\"className\":\"interact-flex-row-left\"},\"nodeType\":\"DOM\",\"type\":\"node\",\"instanceArgs\":{\"namespace\":\"html\",\"tag\":\"div\"},\"children\":[{\"props\":{\"className\":\"interact \",\"style\":{\"padding\":\"5px 10px 0px 10px\"}},\"nodeType\":\"DOM\",\"type\":\"node\",\"instanceArgs\":{\"namespace\":\"html\",\"tag\":\"label\"},\"children\":[\"time\"]}]},{\"props\":{\"className\":\"interact-flex-row-center\"},\"nodeType\":\"DOM\",\"type\":\"node\",\"instanceArgs\":{\"namespace\":\"html\",\"tag\":\"div\"},\"children\":[{\"props\":{\"max\":20,\"min\":1,\"attributes\":{\"type\":\"range\",\"data-bind\":\"numericValue: index, valueUpdate: 'input', event: {change: function (){this.changes(this.changes()+1)}}\",\"orient\":\"horizontal\"},\"step\":1,\"className\":\"slider slider is-fullwidth\",\"style\":{}},\"nodeType\":\"DOM\",\"type\":\"node\",\"instanceArgs\":{\"namespace\":\"html\",\"tag\":\"input\"},\"children\":[]}]},{\"props\":{\"className\":\"interact-flex-row-right\"},\"nodeType\":\"DOM\",\"type\":\"node\",\"instanceArgs\":{\"namespace\":\"html\",\"tag\":\"div\"},\"children\":[{\"props\":{\"attributes\":{\"data-bind\":\"text: formatted_val\"}},\"nodeType\":\"DOM\",\"type\":\"node\",\"instanceArgs\":{\"namespace\":\"html\",\"tag\":\"p\"},\"children\":[]}]}]}]}]},{\"props\":{\"className\":\"field interact-widget\"},\"nodeType\":\"DOM\",\"type\":\"node\",\"instanceArgs\":{\"namespace\":\"html\",\"tag\":\"div\"},\"children\":[{\"props\":{},\"nodeType\":\"Scope\",\"type\":\"node\",\"instanceArgs\":{\"imports\":{\"data\":[{\"name\":\"knockout\",\"type\":\"js\",\"url\":\"\\/assetserver\\/727383f2a47bd31570b7da84eee7b022dd6d7c78-knockout.js\"},{\"name\":\"knockout_punches\",\"type\":\"js\",\"url\":\"\\/assetserver\\/382b41b3b1bd9f26f75861d360bad7f8beea211f-knockout_punches.js\"},{\"name\":null,\"type\":\"js\",\"url\":\"\\/assetserver\\/5ab20f1060420992a9b82a65b735dee4d81ef413-all.js\"},{\"name\":null,\"type\":\"css\",\"url\":\"\\/assetserver\\/1cc0ed62837210b80a182cc3676512f895dab686-style.css\"},{\"name\":null,\"type\":\"css\",\"url\":\"\\/assetserver\\/2eee816f616df3549d7044d45e744fbf8d42bfa1-bulma_confined.min.css\"}],\"type\":\"async_block\"},\"id\":\"9923563879099515752\",\"handlers\":{\"changes\":[\"(function (val){return (val!=this.model[\\\"changes\\\"]()) ? (this.valueFromJulia[\\\"changes\\\"]=true, this.model[\\\"changes\\\"](val)) : undefined})\"],\"index\":[\"(function (val){return (val!=this.model[\\\"index\\\"]()) ? (this.valueFromJulia[\\\"index\\\"]=true, this.model[\\\"index\\\"](val)) : undefined})\"]},\"systemjs_options\":null,\"mount_callbacks\":[\"function () {\\n    var handler = (function (ko, koPunches) {\\n    ko.punches.enableAll();\\n    ko.bindingHandlers.numericValue = {\\n        init: function(element, valueAccessor, allBindings, data, context) {\\n            var stringified = ko.observable(ko.unwrap(valueAccessor()));\\n            stringified.subscribe(function(value) {\\n                var val = parseFloat(value);\\n                if (!isNaN(val)) {\\n                    valueAccessor()(val);\\n                }\\n            });\\n            valueAccessor().subscribe(function(value) {\\n                var str = JSON.stringify(value);\\n                if ((str == \\\"0\\\") && ([\\\"-0\\\", \\\"-0.\\\"].indexOf(stringified()) >= 0))\\n                     return;\\n                 if ([\\\"null\\\", \\\"\\\"].indexOf(str) >= 0)\\n                     return;\\n                stringified(str);\\n            });\\n            ko.applyBindingsToNode(\\n                element,\\n                {\\n                    value: stringified,\\n                    valueUpdate: allBindings.get('valueUpdate'),\\n                },\\n                context,\\n            );\\n        }\\n    };\\n    var json_data = {\\\"formatted_vals\\\":[\\\"0.1\\\",\\\"0.2\\\",\\\"0.3\\\",\\\"0.4\\\",\\\"0.5\\\",\\\"0.6\\\",\\\"0.7\\\",\\\"0.8\\\",\\\"0.9\\\",\\\"1.0\\\",\\\"1.1\\\",\\\"1.2\\\",\\\"1.3\\\",\\\"1.4\\\",\\\"1.5\\\",\\\"1.6\\\",\\\"1.7\\\",\\\"1.8\\\",\\\"1.9\\\",\\\"2.0\\\"],\\\"changes\\\":WebIO.getval({\\\"name\\\":\\\"changes\\\",\\\"scope\\\":\\\"9923563879099515752\\\",\\\"id\\\":\\\"11875855764717201294\\\",\\\"type\\\":\\\"observable\\\"}),\\\"index\\\":WebIO.getval({\\\"name\\\":\\\"index\\\",\\\"scope\\\":\\\"9923563879099515752\\\",\\\"id\\\":\\\"15136019145447258950\\\",\\\"type\\\":\\\"observable\\\"})};\\n    var self = this;\\n    function AppViewModel() {\\n        for (var key in json_data) {\\n            var el = json_data[key];\\n            this[key] = Array.isArray(el) ? ko.observableArray(el) : ko.observable(el);\\n        }\\n        \\n        [this[\\\"formatted_val\\\"]=ko.computed(    function(){\\n        return this.formatted_vals()[parseInt(this.index())-(1)];\\n    }\\n,this)]\\n        [this[\\\"changes\\\"].subscribe((function (val){!(this.valueFromJulia[\\\"changes\\\"]) ? (WebIO.setval({\\\"name\\\":\\\"changes\\\",\\\"scope\\\":\\\"9923563879099515752\\\",\\\"id\\\":\\\"11875855764717201294\\\",\\\"type\\\":\\\"observable\\\"},val)) : undefined; return this.valueFromJulia[\\\"changes\\\"]=false}),self),this[\\\"index\\\"].subscribe((function (val){!(this.valueFromJulia[\\\"index\\\"]) ? (WebIO.setval({\\\"name\\\":\\\"index\\\",\\\"scope\\\":\\\"9923563879099515752\\\",\\\"id\\\":\\\"15136019145447258950\\\",\\\"type\\\":\\\"observable\\\"},val)) : undefined; return this.valueFromJulia[\\\"index\\\"]=false}),self)]\\n        \\n    }\\n    self.model = new AppViewModel();\\n    self.valueFromJulia = {};\\n    for (var key in json_data) {\\n        self.valueFromJulia[key] = false;\\n    }\\n    ko.applyBindings(self.model, self.dom);\\n}\\n);\\n    (WebIO.importBlock({\\\"data\\\":[{\\\"name\\\":\\\"knockout\\\",\\\"type\\\":\\\"js\\\",\\\"url\\\":\\\"\\/assetserver\\/727383f2a47bd31570b7da84eee7b022dd6d7c78-knockout.js\\\"},{\\\"name\\\":\\\"knockout_punches\\\",\\\"type\\\":\\\"js\\\",\\\"url\\\":\\\"\\/assetserver\\/382b41b3b1bd9f26f75861d360bad7f8beea211f-knockout_punches.js\\\"}],\\\"type\\\":\\\"async_block\\\"})).then((imports) => handler.apply(this, imports));\\n}\\n\"],\"observables\":{\"changes\":{\"sync\":false,\"id\":\"11875855764717201294\",\"value\":0},\"index\":{\"sync\":true,\"id\":\"15136019145447258950\",\"value\":10}}},\"children\":[{\"props\":{\"className\":\"interact-flex-row interact-widget\"},\"nodeType\":\"DOM\",\"type\":\"node\",\"instanceArgs\":{\"namespace\":\"html\",\"tag\":\"div\"},\"children\":[{\"props\":{\"className\":\"interact-flex-row-left\"},\"nodeType\":\"DOM\",\"type\":\"node\",\"instanceArgs\":{\"namespace\":\"html\",\"tag\":\"div\"},\"children\":[{\"props\":{\"className\":\"interact \",\"style\":{\"padding\":\"5px 10px 0px 10px\"}},\"nodeType\":\"DOM\",\"type\":\"node\",\"instanceArgs\":{\"namespace\":\"html\",\"tag\":\"label\"},\"children\":[\"scale\"]}]},{\"props\":{\"className\":\"interact-flex-row-center\"},\"nodeType\":\"DOM\",\"type\":\"node\",\"instanceArgs\":{\"namespace\":\"html\",\"tag\":\"div\"},\"children\":[{\"props\":{\"max\":20,\"min\":1,\"attributes\":{\"type\":\"range\",\"data-bind\":\"numericValue: index, valueUpdate: 'input', event: {change: function (){this.changes(this.changes()+1)}}\",\"orient\":\"horizontal\"},\"step\":1,\"className\":\"slider slider is-fullwidth\",\"style\":{}},\"nodeType\":\"DOM\",\"type\":\"node\",\"instanceArgs\":{\"namespace\":\"html\",\"tag\":\"input\"},\"children\":[]}]},{\"props\":{\"className\":\"interact-flex-row-right\"},\"nodeType\":\"DOM\",\"type\":\"node\",\"instanceArgs\":{\"namespace\":\"html\",\"tag\":\"div\"},\"children\":[{\"props\":{\"attributes\":{\"data-bind\":\"text: formatted_val\"}},\"nodeType\":\"DOM\",\"type\":\"node\",\"instanceArgs\":{\"namespace\":\"html\",\"tag\":\"p\"},\"children\":[]}]}]}]}]},{\"props\":{\"style\":{\"display\":\"flex\",\"flex-direction\":\"row\"}},\"nodeType\":\"DOM\",\"type\":\"node\",\"instanceArgs\":{\"namespace\":\"html\",\"tag\":\"div\"},\"children\":[{\"props\":{\"className\":\"interact-widget\"},\"nodeType\":\"DOM\",\"type\":\"node\",\"instanceArgs\":{\"namespace\":\"html\",\"tag\":\"div\"},\"children\":[{\"props\":{},\"nodeType\":\"Scope\",\"type\":\"node\",\"instanceArgs\":{\"imports\":{\"data\":[{\"name\":null,\"type\":\"js\",\"url\":\"\\/assetserver\\/dd22ed1bf1896c2748f3fe616ce0b838adc895c1-katex.min.js\"},{\"name\":null,\"type\":\"css\",\"url\":\"\\/assetserver\\/46517a424aa5e6cffc1360d7e0848b601c584ee3-katex.min.css\"}],\"type\":\"async_block\"},\"id\":\"9501560619659724379\",\"handlers\":{\"value\":[\"(function (txt){return this.k.render(txt,this.container)})\"]},\"systemjs_options\":null,\"mount_callbacks\":[\"function () {\\n    var handler = ((function (k){this.k=k; this.container=this.dom.querySelector(\\\"#container\\\"); return k.render(\\\"\\\\\\\\;\\\\\\\\;\\\",this.container)}));\\n    (WebIO.importBlock({\\\"data\\\":[{\\\"name\\\":null,\\\"type\\\":\\\"js\\\",\\\"url\\\":\\\"\\/assetserver\\/dd22ed1bf1896c2748f3fe616ce0b838adc895c1-katex.min.js\\\"},{\\\"name\\\":null,\\\"type\\\":\\\"css\\\",\\\"url\\\":\\\"\\/assetserver\\/46517a424aa5e6cffc1360d7e0848b601c584ee3-katex.min.css\\\"}],\\\"type\\\":\\\"async_block\\\"})).then((imports) => handler.apply(this, imports));\\n}\\n\"],\"observables\":{\"value\":{\"sync\":false,\"id\":\"5822493730674677126\",\"value\":\"\\\\;\\\\;\"}}},\"children\":[{\"props\":{\"id\":\"container\"},\"nodeType\":\"DOM\",\"type\":\"node\",\"instanceArgs\":{\"namespace\":\"html\",\"tag\":\"div\"},\"children\":[]}]}]},{\"props\":{\"className\":\"field interact-widget\"},\"nodeType\":\"DOM\",\"type\":\"node\",\"instanceArgs\":{\"namespace\":\"html\",\"tag\":\"div\"},\"children\":[{\"props\":{},\"nodeType\":\"Scope\",\"type\":\"node\",\"instanceArgs\":{\"imports\":{\"data\":[{\"name\":\"knockout\",\"type\":\"js\",\"url\":\"\\/assetserver\\/727383f2a47bd31570b7da84eee7b022dd6d7c78-knockout.js\"},{\"name\":\"knockout_punches\",\"type\":\"js\",\"url\":\"\\/assetserver\\/382b41b3b1bd9f26f75861d360bad7f8beea211f-knockout_punches.js\"},{\"name\":null,\"type\":\"js\",\"url\":\"\\/assetserver\\/5ab20f1060420992a9b82a65b735dee4d81ef413-all.js\"},{\"name\":null,\"type\":\"css\",\"url\":\"\\/assetserver\\/1cc0ed62837210b80a182cc3676512f895dab686-style.css\"},{\"name\":null,\"type\":\"css\",\"url\":\"\\/assetserver\\/2eee816f616df3549d7044d45e744fbf8d42bfa1-bulma_confined.min.css\"}],\"type\":\"async_block\"},\"id\":\"2456779211129120921\",\"handlers\":{\"loading\":[\"(function (val){return (val!=this.model[\\\"loading\\\"]()) ? (this.valueFromJulia[\\\"loading\\\"]=true, this.model[\\\"loading\\\"](val)) : undefined})\"],\"clicks\":[\"(function (val){return (val!=this.model[\\\"clicks\\\"]()) ? (this.valueFromJulia[\\\"clicks\\\"]=true, this.model[\\\"clicks\\\"](val)) : undefined})\"]},\"systemjs_options\":null,\"mount_callbacks\":[\"function () {\\n    var handler = (function (ko, koPunches) {\\n    ko.punches.enableAll();\\n    ko.bindingHandlers.numericValue = {\\n        init: function(element, valueAccessor, allBindings, data, context) {\\n            var stringified = ko.observable(ko.unwrap(valueAccessor()));\\n            stringified.subscribe(function(value) {\\n                var val = parseFloat(value);\\n                if (!isNaN(val)) {\\n                    valueAccessor()(val);\\n                }\\n            });\\n            valueAccessor().subscribe(function(value) {\\n                var str = JSON.stringify(value);\\n                if ((str == \\\"0\\\") && ([\\\"-0\\\", \\\"-0.\\\"].indexOf(stringified()) >= 0))\\n                     return;\\n                 if ([\\\"null\\\", \\\"\\\"].indexOf(str) >= 0)\\n                     return;\\n                stringified(str);\\n            });\\n            ko.applyBindingsToNode(\\n                element,\\n                {\\n                    value: stringified,\\n                    valueUpdate: allBindings.get('valueUpdate'),\\n                },\\n                context,\\n            );\\n        }\\n    };\\n    var json_data = {\\\"loading\\\":WebIO.getval({\\\"name\\\":\\\"loading\\\",\\\"scope\\\":\\\"2456779211129120921\\\",\\\"id\\\":\\\"15503694006484279159\\\",\\\"type\\\":\\\"observable\\\"}),\\\"clicks\\\":WebIO.getval({\\\"name\\\":\\\"clicks\\\",\\\"scope\\\":\\\"2456779211129120921\\\",\\\"id\\\":\\\"14796411586546067585\\\",\\\"type\\\":\\\"observable\\\"})};\\n    var self = this;\\n    function AppViewModel() {\\n        for (var key in json_data) {\\n            var el = json_data[key];\\n            this[key] = Array.isArray(el) ? ko.observableArray(el) : ko.observable(el);\\n        }\\n        \\n        \\n        [this[\\\"loading\\\"].subscribe((function (val){!(this.valueFromJulia[\\\"loading\\\"]) ? (WebIO.setval({\\\"name\\\":\\\"loading\\\",\\\"scope\\\":\\\"2456779211129120921\\\",\\\"id\\\":\\\"15503694006484279159\\\",\\\"type\\\":\\\"observable\\\"},val)) : undefined; return this.valueFromJulia[\\\"loading\\\"]=false}),self),this[\\\"clicks\\\"].subscribe((function (val){!(this.valueFromJulia[\\\"clicks\\\"]) ? (WebIO.setval({\\\"name\\\":\\\"clicks\\\",\\\"scope\\\":\\\"2456779211129120921\\\",\\\"id\\\":\\\"14796411586546067585\\\",\\\"type\\\":\\\"observable\\\"},val)) : undefined; return this.valueFromJulia[\\\"clicks\\\"]=false}),self)]\\n        \\n    }\\n    self.model = new AppViewModel();\\n    self.valueFromJulia = {};\\n    for (var key in json_data) {\\n        self.valueFromJulia[key] = false;\\n    }\\n    ko.applyBindings(self.model, self.dom);\\n}\\n);\\n    (WebIO.importBlock({\\\"data\\\":[{\\\"name\\\":\\\"knockout\\\",\\\"type\\\":\\\"js\\\",\\\"url\\\":\\\"\\/assetserver\\/727383f2a47bd31570b7da84eee7b022dd6d7c78-knockout.js\\\"},{\\\"name\\\":\\\"knockout_punches\\\",\\\"type\\\":\\\"js\\\",\\\"url\\\":\\\"\\/assetserver\\/382b41b3b1bd9f26f75861d360bad7f8beea211f-knockout_punches.js\\\"}],\\\"type\\\":\\\"async_block\\\"})).then((imports) => handler.apply(this, imports));\\n}\\n\"],\"observables\":{\"loading\":{\"sync\":false,\"id\":\"15503694006484279159\",\"value\":false},\"clicks\":{\"sync\":true,\"id\":\"14796411586546067585\",\"value\":0}}},\"children\":[{\"props\":{\"attributes\":{\"data-bind\":\"click: function (){this.clicks(this.clicks()+1)}, css: {'is-loading' : loading}\"},\"className\":\"is-medium button is-primary\",\"style\":{}},\"nodeType\":\"DOM\",\"type\":\"node\",\"instanceArgs\":{\"namespace\":\"html\",\"tag\":\"button\"},\"children\":[\"run\"]}]}]},{\"props\":{\"className\":\"interact-widget\"},\"nodeType\":\"DOM\",\"type\":\"node\",\"instanceArgs\":{\"namespace\":\"html\",\"tag\":\"div\"},\"children\":[{\"props\":{},\"nodeType\":\"Scope\",\"type\":\"node\",\"instanceArgs\":{\"imports\":{\"data\":[{\"name\":null,\"type\":\"js\",\"url\":\"\\/assetserver\\/dd22ed1bf1896c2748f3fe616ce0b838adc895c1-katex.min.js\"},{\"name\":null,\"type\":\"css\",\"url\":\"\\/assetserver\\/46517a424aa5e6cffc1360d7e0848b601c584ee3-katex.min.css\"}],\"type\":\"async_block\"},\"id\":\"9501560619659724379\",\"handlers\":{\"value\":[\"(function (txt){return this.k.render(txt,this.container)})\"]},\"systemjs_options\":null,\"mount_callbacks\":[\"function () {\\n    var handler = ((function (k){this.k=k; this.container=this.dom.querySelector(\\\"#container\\\"); return k.render(\\\"\\\\\\\\;\\\\\\\\;\\\",this.container)}));\\n    (WebIO.importBlock({\\\"data\\\":[{\\\"name\\\":null,\\\"type\\\":\\\"js\\\",\\\"url\\\":\\\"\\/assetserver\\/dd22ed1bf1896c2748f3fe616ce0b838adc895c1-katex.min.js\\\"},{\\\"name\\\":null,\\\"type\\\":\\\"css\\\",\\\"url\\\":\\\"\\/assetserver\\/46517a424aa5e6cffc1360d7e0848b601c584ee3-katex.min.css\\\"}],\\\"type\\\":\\\"async_block\\\"})).then((imports) => handler.apply(this, imports));\\n}\\n\"],\"observables\":{\"value\":{\"sync\":false,\"id\":\"5822493730674677126\",\"value\":\"\\\\;\\\\;\"}}},\"children\":[{\"props\":{\"id\":\"container\"},\"nodeType\":\"DOM\",\"type\":\"node\",\"instanceArgs\":{\"namespace\":\"html\",\"tag\":\"div\"},\"children\":[]}]}]},{\"props\":{\"className\":\"field interact-widget\"},\"nodeType\":\"DOM\",\"type\":\"node\",\"instanceArgs\":{\"namespace\":\"html\",\"tag\":\"div\"},\"children\":[{\"props\":{},\"nodeType\":\"Scope\",\"type\":\"node\",\"instanceArgs\":{\"imports\":{\"data\":[{\"name\":\"knockout\",\"type\":\"js\",\"url\":\"\\/assetserver\\/727383f2a47bd31570b7da84eee7b022dd6d7c78-knockout.js\"},{\"name\":\"knockout_punches\",\"type\":\"js\",\"url\":\"\\/assetserver\\/382b41b3b1bd9f26f75861d360bad7f8beea211f-knockout_punches.js\"},{\"name\":null,\"type\":\"js\",\"url\":\"\\/assetserver\\/5ab20f1060420992a9b82a65b735dee4d81ef413-all.js\"},{\"name\":null,\"type\":\"css\",\"url\":\"\\/assetserver\\/1cc0ed62837210b80a182cc3676512f895dab686-style.css\"},{\"name\":null,\"type\":\"css\",\"url\":\"\\/assetserver\\/2eee816f616df3549d7044d45e744fbf8d42bfa1-bulma_confined.min.css\"}],\"type\":\"async_block\"},\"id\":\"10558917586243750493\",\"handlers\":{\"loading\":[\"(function (val){return (val!=this.model[\\\"loading\\\"]()) ? (this.valueFromJulia[\\\"loading\\\"]=true, this.model[\\\"loading\\\"](val)) : undefined})\"],\"clicks\":[\"(function (val){return (val!=this.model[\\\"clicks\\\"]()) ? (this.valueFromJulia[\\\"clicks\\\"]=true, this.model[\\\"clicks\\\"](val)) : undefined})\"]},\"systemjs_options\":null,\"mount_callbacks\":[\"function () {\\n    var handler = (function (ko, koPunches) {\\n    ko.punches.enableAll();\\n    ko.bindingHandlers.numericValue = {\\n        init: function(element, valueAccessor, allBindings, data, context) {\\n            var stringified = ko.observable(ko.unwrap(valueAccessor()));\\n            stringified.subscribe(function(value) {\\n                var val = parseFloat(value);\\n                if (!isNaN(val)) {\\n                    valueAccessor()(val);\\n                }\\n            });\\n            valueAccessor().subscribe(function(value) {\\n                var str = JSON.stringify(value);\\n                if ((str == \\\"0\\\") && ([\\\"-0\\\", \\\"-0.\\\"].indexOf(stringified()) >= 0))\\n                     return;\\n                 if ([\\\"null\\\", \\\"\\\"].indexOf(str) >= 0)\\n                     return;\\n                stringified(str);\\n            });\\n            ko.applyBindingsToNode(\\n                element,\\n                {\\n                    value: stringified,\\n                    valueUpdate: allBindings.get('valueUpdate'),\\n                },\\n                context,\\n            );\\n        }\\n    };\\n    var json_data = {\\\"loading\\\":WebIO.getval({\\\"name\\\":\\\"loading\\\",\\\"scope\\\":\\\"10558917586243750493\\\",\\\"id\\\":\\\"13909718428777095794\\\",\\\"type\\\":\\\"observable\\\"}),\\\"clicks\\\":WebIO.getval({\\\"name\\\":\\\"clicks\\\",\\\"scope\\\":\\\"10558917586243750493\\\",\\\"id\\\":\\\"13805590052105973962\\\",\\\"type\\\":\\\"observable\\\"})};\\n    var self = this;\\n    function AppViewModel() {\\n        for (var key in json_data) {\\n            var el = json_data[key];\\n            this[key] = Array.isArray(el) ? ko.observableArray(el) : ko.observable(el);\\n        }\\n        \\n        \\n        [this[\\\"loading\\\"].subscribe((function (val){!(this.valueFromJulia[\\\"loading\\\"]) ? (WebIO.setval({\\\"name\\\":\\\"loading\\\",\\\"scope\\\":\\\"10558917586243750493\\\",\\\"id\\\":\\\"13909718428777095794\\\",\\\"type\\\":\\\"observable\\\"},val)) : undefined; return this.valueFromJulia[\\\"loading\\\"]=false}),self),this[\\\"clicks\\\"].subscribe((function (val){!(this.valueFromJulia[\\\"clicks\\\"]) ? (WebIO.setval({\\\"name\\\":\\\"clicks\\\",\\\"scope\\\":\\\"10558917586243750493\\\",\\\"id\\\":\\\"13805590052105973962\\\",\\\"type\\\":\\\"observable\\\"},val)) : undefined; return this.valueFromJulia[\\\"clicks\\\"]=false}),self)]\\n        \\n    }\\n    self.model = new AppViewModel();\\n    self.valueFromJulia = {};\\n    for (var key in json_data) {\\n        self.valueFromJulia[key] = false;\\n    }\\n    ko.applyBindings(self.model, self.dom);\\n}\\n);\\n    (WebIO.importBlock({\\\"data\\\":[{\\\"name\\\":\\\"knockout\\\",\\\"type\\\":\\\"js\\\",\\\"url\\\":\\\"\\/assetserver\\/727383f2a47bd31570b7da84eee7b022dd6d7c78-knockout.js\\\"},{\\\"name\\\":\\\"knockout_punches\\\",\\\"type\\\":\\\"js\\\",\\\"url\\\":\\\"\\/assetserver\\/382b41b3b1bd9f26f75861d360bad7f8beea211f-knockout_punches.js\\\"}],\\\"type\\\":\\\"async_block\\\"})).then((imports) => handler.apply(this, imports));\\n}\\n\"],\"observables\":{\"loading\":{\"sync\":false,\"id\":\"13909718428777095794\",\"value\":false},\"clicks\":{\"sync\":true,\"id\":\"13805590052105973962\",\"value\":0}}},\"children\":[{\"props\":{\"attributes\":{\"data-bind\":\"click: function (){this.clicks(this.clicks()+1)}, css: {'is-loading' : loading}\"},\"className\":\"is-medium button is-primary\",\"style\":{}},\"nodeType\":\"DOM\",\"type\":\"node\",\"instanceArgs\":{\"namespace\":\"html\",\"tag\":\"button\"},\"children\":[\"stop\"]}]}]}]}]},{\"props\":{},\"nodeType\":\"Scope\",\"type\":\"node\",\"instanceArgs\":{\"imports\":{\"data\":[],\"type\":\"async_block\"},\"id\":\"17820972379657632019\",\"handlers\":{\"obs-output\":[\"function (value, scope) {\\n    scope.setInnerHTML(value);\\n}\\n\"]},\"systemjs_options\":null,\"mount_callbacks\":[],\"observables\":{\"obs-output\":{\"sync\":false,\"id\":\"89567653290782442\",\"value\":\"    <div style=\\\"height: 500px; width: 100%; overflow-x: auto; overflow-y: hidden; resize: both\\\">\\n    <iframe src=\\\"http:\\/\\/127.0.0.1:8701\\\" style=\\\"width: 100%; height: 100%; border: none\\\"><\\/iframe>\\n    <\\/div>\\n\"}}},\"children\":[{\"props\":{\"className\":\"webio-observable\",\"setInnerHtml\":\"    <div style=\\\"height: 500px; width: 100%; overflow-x: auto; overflow-y: hidden; resize: both\\\">\\n    <iframe src=\\\"http:\\/\\/127.0.0.1:8701\\\" style=\\\"width: 100%; height: 100%; border: none\\\"><\\/iframe>\\n    <\\/div>\\n\"},\"nodeType\":\"DOM\",\"type\":\"node\",\"instanceArgs\":{\"namespace\":\"html\",\"tag\":\"div\"},\"children\":[]}]},{\"props\":{\"className\":\"interact-widget\"},\"nodeType\":\"DOM\",\"type\":\"node\",\"instanceArgs\":{\"namespace\":\"html\",\"tag\":\"div\"},\"children\":[{\"props\":{},\"nodeType\":\"Scope\",\"type\":\"node\",\"instanceArgs\":{\"imports\":{\"data\":[{\"name\":null,\"type\":\"js\",\"url\":\"\\/assetserver\\/dd22ed1bf1896c2748f3fe616ce0b838adc895c1-katex.min.js\"},{\"name\":null,\"type\":\"css\",\"url\":\"\\/assetserver\\/46517a424aa5e6cffc1360d7e0848b601c584ee3-katex.min.css\"}],\"type\":\"async_block\"},\"id\":\"9501560619659724379\",\"handlers\":{\"value\":[\"(function (txt){return this.k.render(txt,this.container)})\"]},\"systemjs_options\":null,\"mount_callbacks\":[\"function () {\\n    var handler = ((function (k){this.k=k; this.container=this.dom.querySelector(\\\"#container\\\"); return k.render(\\\"\\\\\\\\;\\\\\\\\;\\\",this.container)}));\\n    (WebIO.importBlock({\\\"data\\\":[{\\\"name\\\":null,\\\"type\\\":\\\"js\\\",\\\"url\\\":\\\"\\/assetserver\\/dd22ed1bf1896c2748f3fe616ce0b838adc895c1-katex.min.js\\\"},{\\\"name\\\":null,\\\"type\\\":\\\"css\\\",\\\"url\\\":\\\"\\/assetserver\\/46517a424aa5e6cffc1360d7e0848b601c584ee3-katex.min.css\\\"}],\\\"type\\\":\\\"async_block\\\"})).then((imports) => handler.apply(this, imports));\\n}\\n\"],\"observables\":{\"value\":{\"sync\":false,\"id\":\"5822493730674677126\",\"value\":\"\\\\;\\\\;\"}}},\"children\":[{\"props\":{\"id\":\"container\"},\"nodeType\":\"DOM\",\"type\":\"node\",\"instanceArgs\":{\"namespace\":\"html\",\"tag\":\"div\"},\"children\":[]}]}]},{\"props\":{\"style\":{\"display\":\"flex\",\"flex-direction\":\"column\"}},\"nodeType\":\"DOM\",\"type\":\"node\",\"instanceArgs\":{\"namespace\":\"html\",\"tag\":\"div\"},\"children\":[{\"props\":{},\"nodeType\":\"Scope\",\"type\":\"node\",\"instanceArgs\":{\"imports\":{\"data\":[],\"type\":\"async_block\"},\"id\":\"15988403833333972095\",\"handlers\":{\"obs-output\":[\"function (value, scope) {\\n    scope.setInnerHTML(value);\\n}\\n\"]},\"systemjs_options\":null,\"mount_callbacks\":[],\"observables\":{\"obs-output\":{\"sync\":false,\"id\":\"9373743591600860559\",\"value\":\"<?xml version=\\\"1.0\\\" encoding=\\\"utf-8\\\"?>\\n<svg xmlns=\\\"http:\\/\\/www.w3.org\\/2000\\/svg\\\" xmlns:xlink=\\\"http:\\/\\/www.w3.org\\/1999\\/xlink\\\" width=\\\"300\\\" height=\\\"150\\\" viewBox=\\\"0 0 1200 600\\\">\\n<defs>\\n  <clipPath id=\\\"clip880\\\">\\n    <rect x=\\\"0\\\" y=\\\"0\\\" width=\\\"1200\\\" height=\\\"600\\\"\\/>\\n  <\\/clipPath>\\n<\\/defs>\\n<path clip-path=\\\"url(#clip880)\\\" d=\\\"M0 600 L1200 600 L1200 0 L0 0  Z\\\" fill=\\\"#ffffff\\\" fill-rule=\\\"evenodd\\\" fill-opacity=\\\"1\\\"\\/>\\n<defs>\\n  <clipPath id=\\\"clip881\\\">\\n    <rect x=\\\"240\\\" y=\\\"0\\\" width=\\\"841\\\" height=\\\"600\\\"\\/>\\n  <\\/clipPath>\\n<\\/defs>\\n<path clip-path=\\\"url(#clip880)\\\" d=\\\"M144.598 453.7 L876.715 453.7 L876.715 47.2441 L144.598 47.2441  Z\\\" fill=\\\"#ffffff\\\" fill-rule=\\\"evenodd\\\" fill-opacity=\\\"1\\\"\\/>\\n<defs>\\n  <clipPath id=\\\"clip882\\\">\\n    <rect x=\\\"144\\\" y=\\\"47\\\" width=\\\"733\\\" height=\\\"407\\\"\\/>\\n  <\\/clipPath>\\n<\\/defs>\\n<polyline clip-path=\\\"url(#clip882)\\\" style=\\\"stroke:#000000; stroke-linecap:round; stroke-linejoin:round; stroke-width:2; stroke-opacity:0.1; fill:none\\\" points=\\\"242.06,453.7 242.06,47.2441 \\\"\\/>\\n<polyline clip-path=\\\"url(#clip882)\\\" style=\\\"stroke:#000000; stroke-linecap:round; stroke-linejoin:round; stroke-width:2; stroke-opacity:0.1; fill:none\\\" points=\\\"395.544,453.7 395.544,47.2441 \\\"\\/>\\n<polyline clip-path=\\\"url(#clip882)\\\" style=\\\"stroke:#000000; stroke-linecap:round; stroke-linejoin:round; stroke-width:2; stroke-opacity:0.1; fill:none\\\" points=\\\"549.028,453.7 549.028,47.2441 \\\"\\/>\\n<polyline clip-path=\\\"url(#clip882)\\\" style=\\\"stroke:#000000; stroke-linecap:round; stroke-linejoin:round; stroke-width:2; stroke-opacity:0.1; fill:none\\\" points=\\\"702.511,453.7 702.511,47.2441 \\\"\\/>\\n<polyline clip-path=\\\"url(#clip882)\\\" style=\\\"stroke:#000000; stroke-linecap:round; stroke-linejoin:round; stroke-width:2; stroke-opacity:0.1; fill:none\\\" points=\\\"855.995,453.7 855.995,47.2441 \\\"\\/>\\n<polyline clip-path=\\\"url(#clip880)\\\" style=\\\"stroke:#000000; stroke-linecap:round; stroke-linejoin:round; stroke-width:4; stroke-opacity:1; fill:none\\\" points=\\\"144.598,453.7 876.715,453.7 \\\"\\/>\\n<polyline clip-path=\\\"url(#clip880)\\\" style=\\\"stroke:#000000; stroke-linecap:round; stroke-linejoin:round; stroke-width:4; stroke-opacity:1; fill:none\\\" points=\\\"242.06,453.7 242.06,434.802 \\\"\\/>\\n<polyline clip-path=\\\"url(#clip880)\\\" style=\\\"stroke:#000000; stroke-linecap:round; stroke-linejoin:round; stroke-width:4; stroke-opacity:1; fill:none\\\" points=\\\"395.544,453.7 395.544,434.802 \\\"\\/>\\n<polyline clip-path=\\\"url(#clip880)\\\" style=\\\"stroke:#000000; stroke-linecap:round; stroke-linejoin:round; stroke-width:4; stroke-opacity:1; fill:none\\\" points=\\\"549.028,453.7 549.028,434.802 \\\"\\/>\\n<polyline clip-path=\\\"url(#clip880)\\\" style=\\\"stroke:#000000; stroke-linecap:round; stroke-linejoin:round; stroke-width:4; stroke-opacity:1; fill:none\\\" points=\\\"702.511,453.7 702.511,434.802 \\\"\\/>\\n<polyline clip-path=\\\"url(#clip880)\\\" style=\\\"stroke:#000000; stroke-linecap:round; stroke-linejoin:round; stroke-width:4; stroke-opacity:1; fill:none\\\" points=\\\"855.995,453.7 855.995,434.802 \\\"\\/>\\n<path clip-path=\\\"url(#clip880)\\\" d=\\\"M236.713 502.565 L253.033 502.565 L253.033 506.5 L231.088 506.5 L231.088 502.565 Q233.75 499.81 238.334 495.18 Q242.94 490.528 244.121 489.185 Q246.366 486.662 247.246 484.926 Q248.148 483.167 248.148 481.477 Q248.148 478.722 246.204 476.986 Q244.283 475.25 241.181 475.25 Q238.982 475.25 236.528 476.014 Q234.097 476.778 231.32 478.329 L231.32 473.607 Q234.144 472.472 236.597 471.894 Q239.051 471.315 241.088 471.315 Q246.458 471.315 249.653 474 Q252.847 476.685 252.847 481.176 Q252.847 483.306 252.037 485.227 Q251.25 487.125 249.144 489.718 Q248.565 490.389 245.463 493.606 Q242.361 496.801 236.713 502.565 Z\\\" fill=\\\"#000000\\\" fill-rule=\\\"nonzero\\\" fill-opacity=\\\"1\\\" \\/><path clip-path=\\\"url(#clip880)\\\" d=\\\"M398.553 476.014 L386.748 494.463 L398.553 494.463 L398.553 476.014 M397.326 471.94 L403.206 471.94 L403.206 494.463 L408.137 494.463 L408.137 498.352 L403.206 498.352 L403.206 506.5 L398.553 506.5 L398.553 498.352 L382.951 498.352 L382.951 493.838 L397.326 471.94 Z\\\" fill=\\\"#000000\\\" fill-rule=\\\"nonzero\\\" fill-opacity=\\\"1\\\" \\/><path clip-path=\\\"url(#clip880)\\\" d=\\\"M549.433 487.356 Q546.285 487.356 544.433 489.509 Q542.604 491.662 542.604 495.412 Q542.604 499.139 544.433 501.315 Q546.285 503.467 549.433 503.467 Q552.581 503.467 554.41 501.315 Q556.261 499.139 556.261 495.412 Q556.261 491.662 554.41 489.509 Q552.581 487.356 549.433 487.356 M558.715 472.704 L558.715 476.963 Q556.956 476.13 555.15 475.69 Q553.368 475.25 551.609 475.25 Q546.979 475.25 544.525 478.375 Q542.095 481.5 541.748 487.819 Q543.113 485.806 545.174 484.741 Q547.234 483.653 549.711 483.653 Q554.919 483.653 557.928 486.824 Q560.96 489.972 560.96 495.412 Q560.96 500.736 557.812 503.954 Q554.664 507.171 549.433 507.171 Q543.437 507.171 540.266 502.588 Q537.095 497.981 537.095 489.255 Q537.095 481.06 540.984 476.199 Q544.873 471.315 551.423 471.315 Q553.183 471.315 554.965 471.662 Q556.771 472.009 558.715 472.704 Z\\\" fill=\\\"#000000\\\" fill-rule=\\\"nonzero\\\" fill-opacity=\\\"1\\\" \\/><path clip-path=\\\"url(#clip880)\\\" d=\\\"M702.511 490.088 Q699.178 490.088 697.257 491.87 Q695.359 493.653 695.359 496.778 Q695.359 499.903 697.257 501.685 Q699.178 503.467 702.511 503.467 Q705.845 503.467 707.766 501.685 Q709.687 499.88 709.687 496.778 Q709.687 493.653 707.766 491.87 Q705.868 490.088 702.511 490.088 M697.835 488.097 Q694.826 487.356 693.136 485.296 Q691.47 483.236 691.47 480.273 Q691.47 476.13 694.41 473.722 Q697.372 471.315 702.511 471.315 Q707.673 471.315 710.613 473.722 Q713.553 476.13 713.553 480.273 Q713.553 483.236 711.863 485.296 Q710.196 487.356 707.21 488.097 Q710.59 488.884 712.465 491.176 Q714.363 493.468 714.363 496.778 Q714.363 501.801 711.284 504.486 Q708.229 507.171 702.511 507.171 Q696.794 507.171 693.715 504.486 Q690.66 501.801 690.66 496.778 Q690.66 493.468 692.558 491.176 Q694.456 488.884 697.835 488.097 M696.122 480.713 Q696.122 483.398 697.789 484.903 Q699.479 486.407 702.511 486.407 Q705.521 486.407 707.21 484.903 Q708.923 483.398 708.923 480.713 Q708.923 478.028 707.21 476.523 Q705.521 475.019 702.511 475.019 Q699.479 475.019 697.789 476.523 Q696.122 478.028 696.122 480.713 Z\\\" fill=\\\"#000000\\\" fill-rule=\\\"nonzero\\\" fill-opacity=\\\"1\\\" \\/><path clip-path=\\\"url(#clip880)\\\" d=\\\"M830.683 502.565 L838.321 502.565 L838.321 476.199 L830.011 477.866 L830.011 473.607 L838.275 471.94 L842.951 471.94 L842.951 502.565 L850.59 502.565 L850.59 506.5 L830.683 506.5 L830.683 502.565 Z\\\" fill=\\\"#000000\\\" fill-rule=\\\"nonzero\\\" fill-opacity=\\\"1\\\" \\/><path clip-path=\\\"url(#clip880)\\\" d=\\\"M870.034 475.019 Q866.423 475.019 864.594 478.583 Q862.789 482.125 862.789 489.255 Q862.789 496.361 864.594 499.926 Q866.423 503.467 870.034 503.467 Q873.668 503.467 875.474 499.926 Q877.303 496.361 877.303 489.255 Q877.303 482.125 875.474 478.583 Q873.668 475.019 870.034 475.019 M870.034 471.315 Q875.844 471.315 878.9 475.921 Q881.979 480.505 881.979 489.255 Q881.979 497.981 878.9 502.588 Q875.844 507.171 870.034 507.171 Q864.224 507.171 861.145 502.588 Q858.09 497.981 858.09 489.255 Q858.09 480.505 861.145 475.921 Q864.224 471.315 870.034 471.315 Z\\\" fill=\\\"#000000\\\" fill-rule=\\\"nonzero\\\" fill-opacity=\\\"1\\\" \\/><path clip-path=\\\"url(#clip880)\\\" d=\\\"M447.7 534.794 L447.7 544.916 L459.763 544.916 L459.763 549.467 L447.7 549.467 L447.7 568.819 Q447.7 573.18 448.878 574.421 Q450.087 575.662 453.747 575.662 L459.763 575.662 L459.763 580.564 L453.747 580.564 Q446.968 580.564 444.39 578.049 Q441.812 575.503 441.812 568.819 L441.812 549.467 L437.515 549.467 L437.515 544.916 L441.812 544.916 L441.812 534.794 L447.7 534.794 Z\\\" fill=\\\"#000000\\\" fill-rule=\\\"nonzero\\\" fill-opacity=\\\"1\\\" \\/><path clip-path=\\\"url(#clip880)\\\" d=\\\"M467.465 544.916 L473.322 544.916 L473.322 580.564 L467.465 580.564 L467.465 544.916 M467.465 531.039 L473.322 531.039 L473.322 538.455 L467.465 538.455 L467.465 531.039 Z\\\" fill=\\\"#000000\\\" fill-rule=\\\"nonzero\\\" fill-opacity=\\\"1\\\" \\/><path clip-path=\\\"url(#clip880)\\\" d=\\\"M511.23 546.285 L511.23 551.759 Q508.747 550.39 506.233 549.722 Q503.75 549.022 501.204 549.022 Q495.506 549.022 492.355 552.65 Q489.204 556.247 489.204 562.772 Q489.204 569.297 492.355 572.925 Q495.506 576.522 501.204 576.522 Q503.75 576.522 506.233 575.853 Q508.747 575.153 511.23 573.784 L511.23 579.195 Q508.779 580.341 506.137 580.914 Q503.527 581.487 500.567 581.487 Q492.514 581.487 487.772 576.426 Q483.03 571.365 483.03 562.772 Q483.03 554.051 487.804 549.054 Q492.61 544.057 500.949 544.057 Q503.654 544.057 506.233 544.629 Q508.811 545.171 511.23 546.285 Z\\\" fill=\\\"#000000\\\" fill-rule=\\\"nonzero\\\" fill-opacity=\\\"1\\\" \\/><path clip-path=\\\"url(#clip880)\\\" d=\\\"M521.192 531.039 L527.08 531.039 L527.08 560.289 L544.554 544.916 L552.034 544.916 L533.128 561.594 L552.83 580.564 L545.191 580.564 L527.08 563.154 L527.08 580.564 L521.192 580.564 L521.192 531.039 Z\\\" fill=\\\"#000000\\\" fill-rule=\\\"nonzero\\\" fill-opacity=\\\"1\\\" \\/><path clip-path=\\\"url(#clip880)\\\" d=\\\"M581.889 545.966 L581.889 551.504 Q579.406 550.231 576.733 549.595 Q574.059 548.958 571.195 548.958 Q566.834 548.958 564.638 550.295 Q562.474 551.632 562.474 554.305 Q562.474 556.342 564.033 557.52 Q565.593 558.666 570.303 559.716 L572.309 560.162 Q578.547 561.499 581.157 563.949 Q583.799 566.368 583.799 570.729 Q583.799 575.694 579.852 578.59 Q575.937 581.487 569.062 581.487 Q566.198 581.487 563.078 580.914 Q559.991 580.373 556.553 579.259 L556.553 573.211 Q559.8 574.898 562.951 575.758 Q566.102 576.585 569.189 576.585 Q573.327 576.585 575.555 575.185 Q577.783 573.753 577.783 571.174 Q577.783 568.787 576.16 567.514 Q574.568 566.241 569.126 565.063 L567.089 564.586 Q561.646 563.44 559.227 561.085 Q556.808 558.698 556.808 554.56 Q556.808 549.531 560.373 546.794 Q563.938 544.057 570.494 544.057 Q573.741 544.057 576.605 544.534 Q579.47 545.011 581.889 545.966 Z\\\" fill=\\\"#000000\\\" fill-rule=\\\"nonzero\\\" fill-opacity=\\\"1\\\" \\/><polyline clip-path=\\\"url(#clip882)\\\" style=\\\"stroke:#000000; stroke-linecap:round; stroke-linejoin:round; stroke-width:2; stroke-opacity:0.1; fill:none\\\" points=\\\"144.598,438.854 876.715,438.854 \\\"\\/>\\n<polyline clip-path=\\\"url(#clip882)\\\" style=\\\"stroke:#000000; stroke-linecap:round; stroke-linejoin:round; stroke-width:2; stroke-opacity:0.1; fill:none\\\" points=\\\"144.598,372.006 876.715,372.006 \\\"\\/>\\n<polyline clip-path=\\\"url(#clip882)\\\" style=\\\"stroke:#000000; stroke-linecap:round; stroke-linejoin:round; stroke-width:2; stroke-opacity:0.1; fill:none\\\" points=\\\"144.598,305.159 876.715,305.159 \\\"\\/>\\n<polyline clip-path=\\\"url(#clip882)\\\" style=\\\"stroke:#000000; stroke-linecap:round; stroke-linejoin:round; stroke-width:2; stroke-opacity:0.1; fill:none\\\" points=\\\"144.598,238.311 876.715,238.311 \\\"\\/>\\n<polyline clip-path=\\\"url(#clip882)\\\" style=\\\"stroke:#000000; stroke-linecap:round; stroke-linejoin:round; stroke-width:2; stroke-opacity:0.1; fill:none\\\" points=\\\"144.598,171.464 876.715,171.464 \\\"\\/>\\n<polyline clip-path=\\\"url(#clip882)\\\" style=\\\"stroke:#000000; stroke-linecap:round; stroke-linejoin:round; stroke-width:2; stroke-opacity:0.1; fill:none\\\" points=\\\"144.598,104.616 876.715,104.616 \\\"\\/>\\n<polyline clip-path=\\\"url(#clip880)\\\" style=\\\"stroke:#000000; stroke-linecap:round; stroke-linejoin:round; stroke-width:4; stroke-opacity:1; fill:none\\\" points=\\\"144.598,453.7 144.598,47.2441 \\\"\\/>\\n<polyline clip-path=\\\"url(#clip880)\\\" style=\\\"stroke:#000000; stroke-linecap:round; stroke-linejoin:round; stroke-width:4; stroke-opacity:1; fill:none\\\" points=\\\"144.598,438.854 158.322,438.854 \\\"\\/>\\n<polyline clip-path=\\\"url(#clip880)\\\" style=\\\"stroke:#000000; stroke-linecap:round; stroke-linejoin:round; stroke-width:4; stroke-opacity:1; fill:none\\\" points=\\\"144.598,372.006 158.322,372.006 \\\"\\/>\\n<polyline clip-path=\\\"url(#clip880)\\\" style=\\\"stroke:#000000; stroke-linecap:round; stroke-linejoin:round; stroke-width:4; stroke-opacity:1; fill:none\\\" points=\\\"144.598,305.159 158.322,305.159 \\\"\\/>\\n<polyline clip-path=\\\"url(#clip880)\\\" style=\\\"stroke:#000000; stroke-linecap:round; stroke-linejoin:round; stroke-width:4; stroke-opacity:1; fill:none\\\" points=\\\"144.598,238.311 158.322,238.311 \\\"\\/>\\n<polyline clip-path=\\\"url(#clip880)\\\" style=\\\"stroke:#000000; stroke-linecap:round; stroke-linejoin:round; stroke-width:4; stroke-opacity:1; fill:none\\\" points=\\\"144.598,171.464 158.322,171.464 \\\"\\/>\\n<polyline clip-path=\\\"url(#clip880)\\\" style=\\\"stroke:#000000; stroke-linecap:round; stroke-linejoin:round; stroke-width:4; stroke-opacity:1; fill:none\\\" points=\\\"144.598,104.616 158.322,104.616 \\\"\\/>\\n<path clip-path=\\\"url(#clip880)\\\" d=\\\"M71.0198 424.653 Q67.4087 424.653 65.58 428.217 Q63.7745 431.759 63.7745 438.889 Q63.7745 445.995 65.58 449.56 Q67.4087 453.102 71.0198 453.102 Q74.6541 453.102 76.4596 449.56 Q78.2883 445.995 78.2883 438.889 Q78.2883 431.759 76.4596 428.217 Q74.6541 424.653 71.0198 424.653 M71.0198 420.949 Q76.83 420.949 79.8855 425.555 Q82.9642 430.139 82.9642 438.889 Q82.9642 447.616 79.8855 452.222 Q76.83 456.805 71.0198 456.805 Q65.2097 456.805 62.131 452.222 Q59.0754 447.616 59.0754 438.889 Q59.0754 430.139 62.131 425.555 Q65.2097 420.949 71.0198 420.949 Z\\\" fill=\\\"#000000\\\" fill-rule=\\\"nonzero\\\" fill-opacity=\\\"1\\\" \\/><path clip-path=\\\"url(#clip880)\\\" d=\\\"M91.1818 450.254 L96.066 450.254 L96.066 456.134 L91.1818 456.134 L91.1818 450.254 Z\\\" fill=\\\"#000000\\\" fill-rule=\\\"nonzero\\\" fill-opacity=\\\"1\\\" \\/><path clip-path=\\\"url(#clip880)\\\" d=\\\"M110.279 452.199 L126.598 452.199 L126.598 456.134 L104.654 456.134 L104.654 452.199 Q107.316 449.444 111.899 444.815 Q116.506 440.162 117.686 438.819 Q119.932 436.296 120.811 434.56 Q121.714 432.801 121.714 431.111 Q121.714 428.356 119.77 426.62 Q117.848 424.884 114.746 424.884 Q112.547 424.884 110.094 425.648 Q107.663 426.412 104.885 427.963 L104.885 423.241 Q107.709 422.106 110.163 421.528 Q112.617 420.949 114.654 420.949 Q120.024 420.949 123.219 423.634 Q126.413 426.319 126.413 430.81 Q126.413 432.94 125.603 434.861 Q124.816 436.759 122.709 439.352 Q122.131 440.023 119.029 443.241 Q115.927 446.435 110.279 452.199 Z\\\" fill=\\\"#000000\\\" fill-rule=\\\"nonzero\\\" fill-opacity=\\\"1\\\" \\/><path clip-path=\\\"url(#clip880)\\\" d=\\\"M70.0708 357.805 Q66.4597 357.805 64.631 361.37 Q62.8254 364.912 62.8254 372.041 Q62.8254 379.148 64.631 382.712 Q66.4597 386.254 70.0708 386.254 Q73.705 386.254 75.5105 382.712 Q77.3392 379.148 77.3392 372.041 Q77.3392 364.912 75.5105 361.37 Q73.705 357.805 70.0708 357.805 M70.0708 354.101 Q75.8809 354.101 78.9365 358.708 Q82.0151 363.291 82.0151 372.041 Q82.0151 380.768 78.9365 385.374 Q75.8809 389.958 70.0708 389.958 Q64.2606 389.958 61.1819 385.374 Q58.1264 380.768 58.1264 372.041 Q58.1264 363.291 61.1819 358.708 Q64.2606 354.101 70.0708 354.101 Z\\\" fill=\\\"#000000\\\" fill-rule=\\\"nonzero\\\" fill-opacity=\\\"1\\\" \\/><path clip-path=\\\"url(#clip880)\\\" d=\\\"M90.2327 383.407 L95.1169 383.407 L95.1169 389.286 L90.2327 389.286 L90.2327 383.407 Z\\\" fill=\\\"#000000\\\" fill-rule=\\\"nonzero\\\" fill-opacity=\\\"1\\\" \\/><path clip-path=\\\"url(#clip880)\\\" d=\\\"M119.469 370.652 Q122.825 371.37 124.7 373.638 Q126.598 375.907 126.598 379.24 Q126.598 384.356 123.08 387.157 Q119.561 389.958 113.08 389.958 Q110.904 389.958 108.589 389.518 Q106.297 389.101 103.844 388.245 L103.844 383.731 Q105.788 384.865 108.103 385.444 Q110.418 386.023 112.941 386.023 Q117.339 386.023 119.631 384.287 Q121.945 382.55 121.945 379.24 Q121.945 376.185 119.793 374.472 Q117.663 372.736 113.844 372.736 L109.816 372.736 L109.816 368.893 L114.029 368.893 Q117.478 368.893 119.307 367.527 Q121.135 366.138 121.135 363.546 Q121.135 360.884 119.237 359.472 Q117.362 358.037 113.844 358.037 Q111.922 358.037 109.723 358.453 Q107.524 358.87 104.885 359.75 L104.885 355.583 Q107.547 354.842 109.862 354.472 Q112.2 354.101 114.26 354.101 Q119.584 354.101 122.686 356.532 Q125.788 358.939 125.788 363.06 Q125.788 365.93 124.145 367.921 Q122.501 369.888 119.469 370.652 Z\\\" fill=\\\"#000000\\\" fill-rule=\\\"nonzero\\\" fill-opacity=\\\"1\\\" \\/><path clip-path=\\\"url(#clip880)\\\" d=\\\"M68.9365 290.958 Q65.3254 290.958 63.4967 294.522 Q61.6912 298.064 61.6912 305.194 Q61.6912 312.3 63.4967 315.865 Q65.3254 319.407 68.9365 319.407 Q72.5707 319.407 74.3763 315.865 Q76.205 312.3 76.205 305.194 Q76.205 298.064 74.3763 294.522 Q72.5707 290.958 68.9365 290.958 M68.9365 287.254 Q74.7467 287.254 77.8022 291.86 Q80.8809 296.444 80.8809 305.194 Q80.8809 313.92 77.8022 318.527 Q74.7467 323.11 68.9365 323.11 Q63.1264 323.11 60.0477 318.527 Q56.9921 313.92 56.9921 305.194 Q56.9921 296.444 60.0477 291.86 Q63.1264 287.254 68.9365 287.254 Z\\\" fill=\\\"#000000\\\" fill-rule=\\\"nonzero\\\" fill-opacity=\\\"1\\\" \\/><path clip-path=\\\"url(#clip880)\\\" d=\\\"M89.0984 316.559 L93.9827 316.559 L93.9827 322.439 L89.0984 322.439 L89.0984 316.559 Z\\\" fill=\\\"#000000\\\" fill-rule=\\\"nonzero\\\" fill-opacity=\\\"1\\\" \\/><path clip-path=\\\"url(#clip880)\\\" d=\\\"M117.015 291.953 L105.209 310.402 L117.015 310.402 L117.015 291.953 M115.788 287.879 L121.668 287.879 L121.668 310.402 L126.598 310.402 L126.598 314.291 L121.668 314.291 L121.668 322.439 L117.015 322.439 L117.015 314.291 L101.413 314.291 L101.413 309.777 L115.788 287.879 Z\\\" fill=\\\"#000000\\\" fill-rule=\\\"nonzero\\\" fill-opacity=\\\"1\\\" \\/><path clip-path=\\\"url(#clip880)\\\" d=\\\"M70.418 224.11 Q66.8069 224.11 64.9782 227.675 Q63.1726 231.217 63.1726 238.346 Q63.1726 245.453 64.9782 249.017 Q66.8069 252.559 70.418 252.559 Q74.0522 252.559 75.8578 249.017 Q77.6865 245.453 77.6865 238.346 Q77.6865 231.217 75.8578 227.675 Q74.0522 224.11 70.418 224.11 M70.418 220.406 Q76.2281 220.406 79.2837 225.013 Q82.3624 229.596 82.3624 238.346 Q82.3624 247.073 79.2837 251.679 Q76.2281 256.263 70.418 256.263 Q64.6078 256.263 61.5291 251.679 Q58.4736 247.073 58.4736 238.346 Q58.4736 229.596 61.5291 225.013 Q64.6078 220.406 70.418 220.406 Z\\\" fill=\\\"#000000\\\" fill-rule=\\\"nonzero\\\" fill-opacity=\\\"1\\\" \\/><path clip-path=\\\"url(#clip880)\\\" d=\\\"M90.5799 249.712 L95.4641 249.712 L95.4641 255.591 L90.5799 255.591 L90.5799 249.712 Z\\\" fill=\\\"#000000\\\" fill-rule=\\\"nonzero\\\" fill-opacity=\\\"1\\\" \\/><path clip-path=\\\"url(#clip880)\\\" d=\\\"M105.696 221.031 L124.052 221.031 L124.052 224.967 L109.978 224.967 L109.978 233.439 Q110.996 233.092 112.015 232.93 Q113.033 232.744 114.052 232.744 Q119.839 232.744 123.219 235.916 Q126.598 239.087 126.598 244.504 Q126.598 250.082 123.126 253.184 Q119.654 256.263 113.334 256.263 Q111.159 256.263 108.89 255.892 Q106.645 255.522 104.237 254.781 L104.237 250.082 Q106.321 251.216 108.543 251.772 Q110.765 252.328 113.242 252.328 Q117.246 252.328 119.584 250.221 Q121.922 248.115 121.922 244.504 Q121.922 240.892 119.584 238.786 Q117.246 236.679 113.242 236.679 Q111.367 236.679 109.492 237.096 Q107.64 237.513 105.696 238.392 L105.696 221.031 Z\\\" fill=\\\"#000000\\\" fill-rule=\\\"nonzero\\\" fill-opacity=\\\"1\\\" \\/><path clip-path=\\\"url(#clip880)\\\" d=\\\"M69.2606 157.263 Q65.6495 157.263 63.8208 160.827 Q62.0152 164.369 62.0152 171.499 Q62.0152 178.605 63.8208 182.17 Q65.6495 185.712 69.2606 185.712 Q72.8948 185.712 74.7004 182.17 Q76.5291 178.605 76.5291 171.499 Q76.5291 164.369 74.7004 160.827 Q72.8948 157.263 69.2606 157.263 M69.2606 153.559 Q75.0707 153.559 78.1263 158.165 Q81.205 162.749 81.205 171.499 Q81.205 180.225 78.1263 184.832 Q75.0707 189.415 69.2606 189.415 Q63.4504 189.415 60.3717 184.832 Q57.3162 180.225 57.3162 171.499 Q57.3162 162.749 60.3717 158.165 Q63.4504 153.559 69.2606 153.559 Z\\\" fill=\\\"#000000\\\" fill-rule=\\\"nonzero\\\" fill-opacity=\\\"1\\\" \\/><path clip-path=\\\"url(#clip880)\\\" d=\\\"M89.4225 182.864 L94.3067 182.864 L94.3067 188.744 L89.4225 188.744 L89.4225 182.864 Z\\\" fill=\\\"#000000\\\" fill-rule=\\\"nonzero\\\" fill-opacity=\\\"1\\\" \\/><path clip-path=\\\"url(#clip880)\\\" d=\\\"M115.071 169.6 Q111.922 169.6 110.071 171.753 Q108.242 173.906 108.242 177.656 Q108.242 181.383 110.071 183.559 Q111.922 185.712 115.071 185.712 Q118.219 185.712 120.047 183.559 Q121.899 181.383 121.899 177.656 Q121.899 173.906 120.047 171.753 Q118.219 169.6 115.071 169.6 M124.353 154.948 L124.353 159.207 Q122.594 158.374 120.788 157.934 Q119.006 157.494 117.246 157.494 Q112.617 157.494 110.163 160.619 Q107.733 163.744 107.385 170.063 Q108.751 168.05 110.811 166.985 Q112.871 165.897 115.348 165.897 Q120.557 165.897 123.566 169.068 Q126.598 172.216 126.598 177.656 Q126.598 182.98 123.45 186.198 Q120.302 189.415 115.071 189.415 Q109.075 189.415 105.904 184.832 Q102.733 180.225 102.733 171.499 Q102.733 163.304 106.621 158.443 Q110.51 153.559 117.061 153.559 Q118.82 153.559 120.603 153.906 Q122.408 154.253 124.353 154.948 Z\\\" fill=\\\"#000000\\\" fill-rule=\\\"nonzero\\\" fill-opacity=\\\"1\\\" \\/><path clip-path=\\\"url(#clip880)\\\" d=\\\"M70.3254 90.4151 Q66.7143 90.4151 64.8856 93.9799 Q63.0801 97.5215 63.0801 104.651 Q63.0801 111.758 64.8856 115.322 Q66.7143 118.864 70.3254 118.864 Q73.9596 118.864 75.7652 115.322 Q77.5939 111.758 77.5939 104.651 Q77.5939 97.5215 75.7652 93.9799 Q73.9596 90.4151 70.3254 90.4151 M70.3254 86.7114 Q76.1355 86.7114 79.1911 91.3178 Q82.2698 95.9011 82.2698 104.651 Q82.2698 113.378 79.1911 117.984 Q76.1355 122.568 70.3254 122.568 Q64.5152 122.568 61.4365 117.984 Q58.381 113.378 58.381 104.651 Q58.381 95.9011 61.4365 91.3178 Q64.5152 86.7114 70.3254 86.7114 Z\\\" fill=\\\"#000000\\\" fill-rule=\\\"nonzero\\\" fill-opacity=\\\"1\\\" \\/><path clip-path=\\\"url(#clip880)\\\" d=\\\"M90.4873 116.017 L95.3715 116.017 L95.3715 121.896 L90.4873 121.896 L90.4873 116.017 Z\\\" fill=\\\"#000000\\\" fill-rule=\\\"nonzero\\\" fill-opacity=\\\"1\\\" \\/><path clip-path=\\\"url(#clip880)\\\" d=\\\"M104.376 87.3364 L126.598 87.3364 L126.598 89.3271 L114.052 121.896 L109.168 121.896 L120.973 91.2715 L104.376 91.2715 L104.376 87.3364 Z\\\" fill=\\\"#000000\\\" fill-rule=\\\"nonzero\\\" fill-opacity=\\\"1\\\" \\/><polyline clip-path=\\\"url(#clip882)\\\" style=\\\"stroke:#009af9; stroke-linecap:round; stroke-linejoin:round; stroke-width:4; stroke-opacity:1; fill:none\\\" points=\\\"165.319,442.196 242.06,374.697 318.802,267.404 395.544,230.101 472.286,206.518 549.028,166.291 625.769,172.775 702.511,115.987 779.253,88.9641 855.995,58.7476 \\\"\\/>\\n<path clip-path=\\\"url(#clip880)\\\" d=\\\"M910.321 164.473 L1152.76 164.473 L1152.76 60.7926 L910.321 60.7926  Z\\\" fill=\\\"#ffffff\\\" fill-rule=\\\"evenodd\\\" fill-opacity=\\\"1\\\"\\/>\\n<polyline clip-path=\\\"url(#clip880)\\\" style=\\\"stroke:#000000; stroke-linecap:round; stroke-linejoin:round; stroke-width:4; stroke-opacity:1; fill:none\\\" points=\\\"910.321,164.473 1152.76,164.473 1152.76,60.7926 910.321,60.7926 910.321,164.473 \\\"\\/>\\n<polyline clip-path=\\\"url(#clip880)\\\" style=\\\"stroke:#009af9; stroke-linecap:round; stroke-linejoin:round; stroke-width:4; stroke-opacity:1; fill:none\\\" points=\\\"921.522,112.633 988.733,112.633 \\\"\\/>\\n<path clip-path=\\\"url(#clip880)\\\" d=\\\"M1021.65 114.265 L1021.65 129.913 L1017.39 129.913 L1017.39 114.403 Q1017.39 110.723 1015.95 108.894 Q1014.52 107.066 1011.65 107.066 Q1008.2 107.066 1006.21 109.265 Q1004.22 111.464 1004.22 115.26 L1004.22 129.913 L999.935 129.913 L999.935 93.8943 L1004.22 93.8943 L1004.22 108.015 Q1005.74 105.677 1007.8 104.519 Q1009.89 103.362 1012.6 103.362 Q1017.06 103.362 1019.36 106.14 Q1021.65 108.894 1021.65 114.265 Z\\\" fill=\\\"#000000\\\" fill-rule=\\\"nonzero\\\" fill-opacity=\\\"1\\\" \\/><path clip-path=\\\"url(#clip880)\\\" d=\\\"M1041.93 116.88 Q1036.76 116.88 1034.77 118.061 Q1032.78 119.241 1032.78 122.089 Q1032.78 124.357 1034.26 125.7 Q1035.77 127.019 1038.34 127.019 Q1041.88 127.019 1044.01 124.519 Q1046.16 121.996 1046.16 117.829 L1046.16 116.88 L1041.93 116.88 M1050.42 115.121 L1050.42 129.913 L1046.16 129.913 L1046.16 125.977 Q1044.7 128.339 1042.53 129.473 Q1040.35 130.584 1037.2 130.584 Q1033.22 130.584 1030.86 128.362 Q1028.52 126.116 1028.52 122.366 Q1028.52 117.991 1031.44 115.769 Q1034.38 113.547 1040.19 113.547 L1046.16 113.547 L1046.16 113.13 Q1046.16 110.191 1044.22 108.593 Q1042.3 106.973 1038.8 106.973 Q1036.58 106.973 1034.47 107.505 Q1032.36 108.038 1030.42 109.103 L1030.42 105.167 Q1032.76 104.265 1034.96 103.825 Q1037.16 103.362 1039.24 103.362 Q1044.86 103.362 1047.64 106.278 Q1050.42 109.195 1050.42 115.121 Z\\\" fill=\\\"#000000\\\" fill-rule=\\\"nonzero\\\" fill-opacity=\\\"1\\\" \\/><path clip-path=\\\"url(#clip880)\\\" d=\\\"M1063.31 126.024 L1063.31 139.774 L1059.03 139.774 L1059.03 103.987 L1063.31 103.987 L1063.31 107.922 Q1064.66 105.607 1066.69 104.496 Q1068.75 103.362 1071.6 103.362 Q1076.32 103.362 1079.26 107.112 Q1082.23 110.862 1082.23 116.973 Q1082.23 123.084 1079.26 126.834 Q1076.32 130.584 1071.6 130.584 Q1068.75 130.584 1066.69 129.473 Q1064.66 128.339 1063.31 126.024 M1077.8 116.973 Q1077.8 112.274 1075.86 109.612 Q1073.94 106.927 1070.56 106.927 Q1067.18 106.927 1065.24 109.612 Q1063.31 112.274 1063.31 116.973 Q1063.31 121.672 1065.24 124.357 Q1067.18 127.019 1070.56 127.019 Q1073.94 127.019 1075.86 124.357 Q1077.8 121.672 1077.8 116.973 Z\\\" fill=\\\"#000000\\\" fill-rule=\\\"nonzero\\\" fill-opacity=\\\"1\\\" \\/><path clip-path=\\\"url(#clip880)\\\" d=\\\"M1093.41 126.024 L1093.41 139.774 L1089.12 139.774 L1089.12 103.987 L1093.41 103.987 L1093.41 107.922 Q1094.75 105.607 1096.79 104.496 Q1098.85 103.362 1101.69 103.362 Q1106.42 103.362 1109.36 107.112 Q1112.32 110.862 1112.32 116.973 Q1112.32 123.084 1109.36 126.834 Q1106.42 130.584 1101.69 130.584 Q1098.85 130.584 1096.79 129.473 Q1094.75 128.339 1093.41 126.024 M1107.9 116.973 Q1107.9 112.274 1105.95 109.612 Q1104.03 106.927 1100.65 106.927 Q1097.27 106.927 1095.33 109.612 Q1093.41 112.274 1093.41 116.973 Q1093.41 121.672 1095.33 124.357 Q1097.27 127.019 1100.65 127.019 Q1104.03 127.019 1105.95 124.357 Q1107.9 121.672 1107.9 116.973 Z\\\" fill=\\\"#000000\\\" fill-rule=\\\"nonzero\\\" fill-opacity=\\\"1\\\" \\/><path clip-path=\\\"url(#clip880)\\\" d=\\\"M1130.17 132.32 Q1128.36 136.95 1126.65 138.362 Q1124.93 139.774 1122.06 139.774 L1118.66 139.774 L1118.66 136.209 L1121.16 136.209 Q1122.92 136.209 1123.89 135.376 Q1124.86 134.542 1126.04 131.44 L1126.81 129.496 L1116.32 103.987 L1120.84 103.987 L1128.94 124.265 L1137.04 103.987 L1141.55 103.987 L1130.17 132.32 Z\\\" fill=\\\"#000000\\\" fill-rule=\\\"nonzero\\\" fill-opacity=\\\"1\\\" \\/><\\/svg>\\n\"}}},\"children\":[{\"props\":{\"className\":\"webio-observable\",\"setInnerHtml\":\"<?xml version=\\\"1.0\\\" encoding=\\\"utf-8\\\"?>\\n<svg xmlns=\\\"http:\\/\\/www.w3.org\\/2000\\/svg\\\" xmlns:xlink=\\\"http:\\/\\/www.w3.org\\/1999\\/xlink\\\" width=\\\"300\\\" height=\\\"150\\\" viewBox=\\\"0 0 1200 600\\\">\\n<defs>\\n  <clipPath id=\\\"clip880\\\">\\n    <rect x=\\\"0\\\" y=\\\"0\\\" width=\\\"1200\\\" height=\\\"600\\\"\\/>\\n  <\\/clipPath>\\n<\\/defs>\\n<path clip-path=\\\"url(#clip880)\\\" d=\\\"M0 600 L1200 600 L1200 0 L0 0  Z\\\" fill=\\\"#ffffff\\\" fill-rule=\\\"evenodd\\\" fill-opacity=\\\"1\\\"\\/>\\n<defs>\\n  <clipPath id=\\\"clip881\\\">\\n    <rect x=\\\"240\\\" y=\\\"0\\\" width=\\\"841\\\" height=\\\"600\\\"\\/>\\n  <\\/clipPath>\\n<\\/defs>\\n<path clip-path=\\\"url(#clip880)\\\" d=\\\"M144.598 453.7 L876.715 453.7 L876.715 47.2441 L144.598 47.2441  Z\\\" fill=\\\"#ffffff\\\" fill-rule=\\\"evenodd\\\" fill-opacity=\\\"1\\\"\\/>\\n<defs>\\n  <clipPath id=\\\"clip882\\\">\\n    <rect x=\\\"144\\\" y=\\\"47\\\" width=\\\"733\\\" height=\\\"407\\\"\\/>\\n  <\\/clipPath>\\n<\\/defs>\\n<polyline clip-path=\\\"url(#clip882)\\\" style=\\\"stroke:#000000; stroke-linecap:round; stroke-linejoin:round; stroke-width:2; stroke-opacity:0.1; fill:none\\\" points=\\\"242.06,453.7 242.06,47.2441 \\\"\\/>\\n<polyline clip-path=\\\"url(#clip882)\\\" style=\\\"stroke:#000000; stroke-linecap:round; stroke-linejoin:round; stroke-width:2; stroke-opacity:0.1; fill:none\\\" points=\\\"395.544,453.7 395.544,47.2441 \\\"\\/>\\n<polyline clip-path=\\\"url(#clip882)\\\" style=\\\"stroke:#000000; stroke-linecap:round; stroke-linejoin:round; stroke-width:2; stroke-opacity:0.1; fill:none\\\" points=\\\"549.028,453.7 549.028,47.2441 \\\"\\/>\\n<polyline clip-path=\\\"url(#clip882)\\\" style=\\\"stroke:#000000; stroke-linecap:round; stroke-linejoin:round; stroke-width:2; stroke-opacity:0.1; fill:none\\\" points=\\\"702.511,453.7 702.511,47.2441 \\\"\\/>\\n<polyline clip-path=\\\"url(#clip882)\\\" style=\\\"stroke:#000000; stroke-linecap:round; stroke-linejoin:round; stroke-width:2; stroke-opacity:0.1; fill:none\\\" points=\\\"855.995,453.7 855.995,47.2441 \\\"\\/>\\n<polyline clip-path=\\\"url(#clip880)\\\" style=\\\"stroke:#000000; stroke-linecap:round; stroke-linejoin:round; stroke-width:4; stroke-opacity:1; fill:none\\\" points=\\\"144.598,453.7 876.715,453.7 \\\"\\/>\\n<polyline clip-path=\\\"url(#clip880)\\\" style=\\\"stroke:#000000; stroke-linecap:round; stroke-linejoin:round; stroke-width:4; stroke-opacity:1; fill:none\\\" points=\\\"242.06,453.7 242.06,434.802 \\\"\\/>\\n<polyline clip-path=\\\"url(#clip880)\\\" style=\\\"stroke:#000000; stroke-linecap:round; stroke-linejoin:round; stroke-width:4; stroke-opacity:1; fill:none\\\" points=\\\"395.544,453.7 395.544,434.802 \\\"\\/>\\n<polyline clip-path=\\\"url(#clip880)\\\" style=\\\"stroke:#000000; stroke-linecap:round; stroke-linejoin:round; stroke-width:4; stroke-opacity:1; fill:none\\\" points=\\\"549.028,453.7 549.028,434.802 \\\"\\/>\\n<polyline clip-path=\\\"url(#clip880)\\\" style=\\\"stroke:#000000; stroke-linecap:round; stroke-linejoin:round; stroke-width:4; stroke-opacity:1; fill:none\\\" points=\\\"702.511,453.7 702.511,434.802 \\\"\\/>\\n<polyline clip-path=\\\"url(#clip880)\\\" style=\\\"stroke:#000000; stroke-linecap:round; stroke-linejoin:round; stroke-width:4; stroke-opacity:1; fill:none\\\" points=\\\"855.995,453.7 855.995,434.802 \\\"\\/>\\n<path clip-path=\\\"url(#clip880)\\\" d=\\\"M236.713 502.565 L253.033 502.565 L253.033 506.5 L231.088 506.5 L231.088 502.565 Q233.75 499.81 238.334 495.18 Q242.94 490.528 244.121 489.185 Q246.366 486.662 247.246 484.926 Q248.148 483.167 248.148 481.477 Q248.148 478.722 246.204 476.986 Q244.283 475.25 241.181 475.25 Q238.982 475.25 236.528 476.014 Q234.097 476.778 231.32 478.329 L231.32 473.607 Q234.144 472.472 236.597 471.894 Q239.051 471.315 241.088 471.315 Q246.458 471.315 249.653 474 Q252.847 476.685 252.847 481.176 Q252.847 483.306 252.037 485.227 Q251.25 487.125 249.144 489.718 Q248.565 490.389 245.463 493.606 Q242.361 496.801 236.713 502.565 Z\\\" fill=\\\"#000000\\\" fill-rule=\\\"nonzero\\\" fill-opacity=\\\"1\\\" \\/><path clip-path=\\\"url(#clip880)\\\" d=\\\"M398.553 476.014 L386.748 494.463 L398.553 494.463 L398.553 476.014 M397.326 471.94 L403.206 471.94 L403.206 494.463 L408.137 494.463 L408.137 498.352 L403.206 498.352 L403.206 506.5 L398.553 506.5 L398.553 498.352 L382.951 498.352 L382.951 493.838 L397.326 471.94 Z\\\" fill=\\\"#000000\\\" fill-rule=\\\"nonzero\\\" fill-opacity=\\\"1\\\" \\/><path clip-path=\\\"url(#clip880)\\\" d=\\\"M549.433 487.356 Q546.285 487.356 544.433 489.509 Q542.604 491.662 542.604 495.412 Q542.604 499.139 544.433 501.315 Q546.285 503.467 549.433 503.467 Q552.581 503.467 554.41 501.315 Q556.261 499.139 556.261 495.412 Q556.261 491.662 554.41 489.509 Q552.581 487.356 549.433 487.356 M558.715 472.704 L558.715 476.963 Q556.956 476.13 555.15 475.69 Q553.368 475.25 551.609 475.25 Q546.979 475.25 544.525 478.375 Q542.095 481.5 541.748 487.819 Q543.113 485.806 545.174 484.741 Q547.234 483.653 549.711 483.653 Q554.919 483.653 557.928 486.824 Q560.96 489.972 560.96 495.412 Q560.96 500.736 557.812 503.954 Q554.664 507.171 549.433 507.171 Q543.437 507.171 540.266 502.588 Q537.095 497.981 537.095 489.255 Q537.095 481.06 540.984 476.199 Q544.873 471.315 551.423 471.315 Q553.183 471.315 554.965 471.662 Q556.771 472.009 558.715 472.704 Z\\\" fill=\\\"#000000\\\" fill-rule=\\\"nonzero\\\" fill-opacity=\\\"1\\\" \\/><path clip-path=\\\"url(#clip880)\\\" d=\\\"M702.511 490.088 Q699.178 490.088 697.257 491.87 Q695.359 493.653 695.359 496.778 Q695.359 499.903 697.257 501.685 Q699.178 503.467 702.511 503.467 Q705.845 503.467 707.766 501.685 Q709.687 499.88 709.687 496.778 Q709.687 493.653 707.766 491.87 Q705.868 490.088 702.511 490.088 M697.835 488.097 Q694.826 487.356 693.136 485.296 Q691.47 483.236 691.47 480.273 Q691.47 476.13 694.41 473.722 Q697.372 471.315 702.511 471.315 Q707.673 471.315 710.613 473.722 Q713.553 476.13 713.553 480.273 Q713.553 483.236 711.863 485.296 Q710.196 487.356 707.21 488.097 Q710.59 488.884 712.465 491.176 Q714.363 493.468 714.363 496.778 Q714.363 501.801 711.284 504.486 Q708.229 507.171 702.511 507.171 Q696.794 507.171 693.715 504.486 Q690.66 501.801 690.66 496.778 Q690.66 493.468 692.558 491.176 Q694.456 488.884 697.835 488.097 M696.122 480.713 Q696.122 483.398 697.789 484.903 Q699.479 486.407 702.511 486.407 Q705.521 486.407 707.21 484.903 Q708.923 483.398 708.923 480.713 Q708.923 478.028 707.21 476.523 Q705.521 475.019 702.511 475.019 Q699.479 475.019 697.789 476.523 Q696.122 478.028 696.122 480.713 Z\\\" fill=\\\"#000000\\\" fill-rule=\\\"nonzero\\\" fill-opacity=\\\"1\\\" \\/><path clip-path=\\\"url(#clip880)\\\" d=\\\"M830.683 502.565 L838.321 502.565 L838.321 476.199 L830.011 477.866 L830.011 473.607 L838.275 471.94 L842.951 471.94 L842.951 502.565 L850.59 502.565 L850.59 506.5 L830.683 506.5 L830.683 502.565 Z\\\" fill=\\\"#000000\\\" fill-rule=\\\"nonzero\\\" fill-opacity=\\\"1\\\" \\/><path clip-path=\\\"url(#clip880)\\\" d=\\\"M870.034 475.019 Q866.423 475.019 864.594 478.583 Q862.789 482.125 862.789 489.255 Q862.789 496.361 864.594 499.926 Q866.423 503.467 870.034 503.467 Q873.668 503.467 875.474 499.926 Q877.303 496.361 877.303 489.255 Q877.303 482.125 875.474 478.583 Q873.668 475.019 870.034 475.019 M870.034 471.315 Q875.844 471.315 878.9 475.921 Q881.979 480.505 881.979 489.255 Q881.979 497.981 878.9 502.588 Q875.844 507.171 870.034 507.171 Q864.224 507.171 861.145 502.588 Q858.09 497.981 858.09 489.255 Q858.09 480.505 861.145 475.921 Q864.224 471.315 870.034 471.315 Z\\\" fill=\\\"#000000\\\" fill-rule=\\\"nonzero\\\" fill-opacity=\\\"1\\\" \\/><path clip-path=\\\"url(#clip880)\\\" d=\\\"M447.7 534.794 L447.7 544.916 L459.763 544.916 L459.763 549.467 L447.7 549.467 L447.7 568.819 Q447.7 573.18 448.878 574.421 Q450.087 575.662 453.747 575.662 L459.763 575.662 L459.763 580.564 L453.747 580.564 Q446.968 580.564 444.39 578.049 Q441.812 575.503 441.812 568.819 L441.812 549.467 L437.515 549.467 L437.515 544.916 L441.812 544.916 L441.812 534.794 L447.7 534.794 Z\\\" fill=\\\"#000000\\\" fill-rule=\\\"nonzero\\\" fill-opacity=\\\"1\\\" \\/><path clip-path=\\\"url(#clip880)\\\" d=\\\"M467.465 544.916 L473.322 544.916 L473.322 580.564 L467.465 580.564 L467.465 544.916 M467.465 531.039 L473.322 531.039 L473.322 538.455 L467.465 538.455 L467.465 531.039 Z\\\" fill=\\\"#000000\\\" fill-rule=\\\"nonzero\\\" fill-opacity=\\\"1\\\" \\/><path clip-path=\\\"url(#clip880)\\\" d=\\\"M511.23 546.285 L511.23 551.759 Q508.747 550.39 506.233 549.722 Q503.75 549.022 501.204 549.022 Q495.506 549.022 492.355 552.65 Q489.204 556.247 489.204 562.772 Q489.204 569.297 492.355 572.925 Q495.506 576.522 501.204 576.522 Q503.75 576.522 506.233 575.853 Q508.747 575.153 511.23 573.784 L511.23 579.195 Q508.779 580.341 506.137 580.914 Q503.527 581.487 500.567 581.487 Q492.514 581.487 487.772 576.426 Q483.03 571.365 483.03 562.772 Q483.03 554.051 487.804 549.054 Q492.61 544.057 500.949 544.057 Q503.654 544.057 506.233 544.629 Q508.811 545.171 511.23 546.285 Z\\\" fill=\\\"#000000\\\" fill-rule=\\\"nonzero\\\" fill-opacity=\\\"1\\\" \\/><path clip-path=\\\"url(#clip880)\\\" d=\\\"M521.192 531.039 L527.08 531.039 L527.08 560.289 L544.554 544.916 L552.034 544.916 L533.128 561.594 L552.83 580.564 L545.191 580.564 L527.08 563.154 L527.08 580.564 L521.192 580.564 L521.192 531.039 Z\\\" fill=\\\"#000000\\\" fill-rule=\\\"nonzero\\\" fill-opacity=\\\"1\\\" \\/><path clip-path=\\\"url(#clip880)\\\" d=\\\"M581.889 545.966 L581.889 551.504 Q579.406 550.231 576.733 549.595 Q574.059 548.958 571.195 548.958 Q566.834 548.958 564.638 550.295 Q562.474 551.632 562.474 554.305 Q562.474 556.342 564.033 557.52 Q565.593 558.666 570.303 559.716 L572.309 560.162 Q578.547 561.499 581.157 563.949 Q583.799 566.368 583.799 570.729 Q583.799 575.694 579.852 578.59 Q575.937 581.487 569.062 581.487 Q566.198 581.487 563.078 580.914 Q559.991 580.373 556.553 579.259 L556.553 573.211 Q559.8 574.898 562.951 575.758 Q566.102 576.585 569.189 576.585 Q573.327 576.585 575.555 575.185 Q577.783 573.753 577.783 571.174 Q577.783 568.787 576.16 567.514 Q574.568 566.241 569.126 565.063 L567.089 564.586 Q561.646 563.44 559.227 561.085 Q556.808 558.698 556.808 554.56 Q556.808 549.531 560.373 546.794 Q563.938 544.057 570.494 544.057 Q573.741 544.057 576.605 544.534 Q579.47 545.011 581.889 545.966 Z\\\" fill=\\\"#000000\\\" fill-rule=\\\"nonzero\\\" fill-opacity=\\\"1\\\" \\/><polyline clip-path=\\\"url(#clip882)\\\" style=\\\"stroke:#000000; stroke-linecap:round; stroke-linejoin:round; stroke-width:2; stroke-opacity:0.1; fill:none\\\" points=\\\"144.598,438.854 876.715,438.854 \\\"\\/>\\n<polyline clip-path=\\\"url(#clip882)\\\" style=\\\"stroke:#000000; stroke-linecap:round; stroke-linejoin:round; stroke-width:2; stroke-opacity:0.1; fill:none\\\" points=\\\"144.598,372.006 876.715,372.006 \\\"\\/>\\n<polyline clip-path=\\\"url(#clip882)\\\" style=\\\"stroke:#000000; stroke-linecap:round; stroke-linejoin:round; stroke-width:2; stroke-opacity:0.1; fill:none\\\" points=\\\"144.598,305.159 876.715,305.159 \\\"\\/>\\n<polyline clip-path=\\\"url(#clip882)\\\" style=\\\"stroke:#000000; stroke-linecap:round; stroke-linejoin:round; stroke-width:2; stroke-opacity:0.1; fill:none\\\" points=\\\"144.598,238.311 876.715,238.311 \\\"\\/>\\n<polyline clip-path=\\\"url(#clip882)\\\" style=\\\"stroke:#000000; stroke-linecap:round; stroke-linejoin:round; stroke-width:2; stroke-opacity:0.1; fill:none\\\" points=\\\"144.598,171.464 876.715,171.464 \\\"\\/>\\n<polyline clip-path=\\\"url(#clip882)\\\" style=\\\"stroke:#000000; stroke-linecap:round; stroke-linejoin:round; stroke-width:2; stroke-opacity:0.1; fill:none\\\" points=\\\"144.598,104.616 876.715,104.616 \\\"\\/>\\n<polyline clip-path=\\\"url(#clip880)\\\" style=\\\"stroke:#000000; stroke-linecap:round; stroke-linejoin:round; stroke-width:4; stroke-opacity:1; fill:none\\\" points=\\\"144.598,453.7 144.598,47.2441 \\\"\\/>\\n<polyline clip-path=\\\"url(#clip880)\\\" style=\\\"stroke:#000000; stroke-linecap:round; stroke-linejoin:round; stroke-width:4; stroke-opacity:1; fill:none\\\" points=\\\"144.598,438.854 158.322,438.854 \\\"\\/>\\n<polyline clip-path=\\\"url(#clip880)\\\" style=\\\"stroke:#000000; stroke-linecap:round; stroke-linejoin:round; stroke-width:4; stroke-opacity:1; fill:none\\\" points=\\\"144.598,372.006 158.322,372.006 \\\"\\/>\\n<polyline clip-path=\\\"url(#clip880)\\\" style=\\\"stroke:#000000; stroke-linecap:round; stroke-linejoin:round; stroke-width:4; stroke-opacity:1; fill:none\\\" points=\\\"144.598,305.159 158.322,305.159 \\\"\\/>\\n<polyline clip-path=\\\"url(#clip880)\\\" style=\\\"stroke:#000000; stroke-linecap:round; stroke-linejoin:round; stroke-width:4; stroke-opacity:1; fill:none\\\" points=\\\"144.598,238.311 158.322,238.311 \\\"\\/>\\n<polyline clip-path=\\\"url(#clip880)\\\" style=\\\"stroke:#000000; stroke-linecap:round; stroke-linejoin:round; stroke-width:4; stroke-opacity:1; fill:none\\\" points=\\\"144.598,171.464 158.322,171.464 \\\"\\/>\\n<polyline clip-path=\\\"url(#clip880)\\\" style=\\\"stroke:#000000; stroke-linecap:round; stroke-linejoin:round; stroke-width:4; stroke-opacity:1; fill:none\\\" points=\\\"144.598,104.616 158.322,104.616 \\\"\\/>\\n<path clip-path=\\\"url(#clip880)\\\" d=\\\"M71.0198 424.653 Q67.4087 424.653 65.58 428.217 Q63.7745 431.759 63.7745 438.889 Q63.7745 445.995 65.58 449.56 Q67.4087 453.102 71.0198 453.102 Q74.6541 453.102 76.4596 449.56 Q78.2883 445.995 78.2883 438.889 Q78.2883 431.759 76.4596 428.217 Q74.6541 424.653 71.0198 424.653 M71.0198 420.949 Q76.83 420.949 79.8855 425.555 Q82.9642 430.139 82.9642 438.889 Q82.9642 447.616 79.8855 452.222 Q76.83 456.805 71.0198 456.805 Q65.2097 456.805 62.131 452.222 Q59.0754 447.616 59.0754 438.889 Q59.0754 430.139 62.131 425.555 Q65.2097 420.949 71.0198 420.949 Z\\\" fill=\\\"#000000\\\" fill-rule=\\\"nonzero\\\" fill-opacity=\\\"1\\\" \\/><path clip-path=\\\"url(#clip880)\\\" d=\\\"M91.1818 450.254 L96.066 450.254 L96.066 456.134 L91.1818 456.134 L91.1818 450.254 Z\\\" fill=\\\"#000000\\\" fill-rule=\\\"nonzero\\\" fill-opacity=\\\"1\\\" \\/><path clip-path=\\\"url(#clip880)\\\" d=\\\"M110.279 452.199 L126.598 452.199 L126.598 456.134 L104.654 456.134 L104.654 452.199 Q107.316 449.444 111.899 444.815 Q116.506 440.162 117.686 438.819 Q119.932 436.296 120.811 434.56 Q121.714 432.801 121.714 431.111 Q121.714 428.356 119.77 426.62 Q117.848 424.884 114.746 424.884 Q112.547 424.884 110.094 425.648 Q107.663 426.412 104.885 427.963 L104.885 423.241 Q107.709 422.106 110.163 421.528 Q112.617 420.949 114.654 420.949 Q120.024 420.949 123.219 423.634 Q126.413 426.319 126.413 430.81 Q126.413 432.94 125.603 434.861 Q124.816 436.759 122.709 439.352 Q122.131 440.023 119.029 443.241 Q115.927 446.435 110.279 452.199 Z\\\" fill=\\\"#000000\\\" fill-rule=\\\"nonzero\\\" fill-opacity=\\\"1\\\" \\/><path clip-path=\\\"url(#clip880)\\\" d=\\\"M70.0708 357.805 Q66.4597 357.805 64.631 361.37 Q62.8254 364.912 62.8254 372.041 Q62.8254 379.148 64.631 382.712 Q66.4597 386.254 70.0708 386.254 Q73.705 386.254 75.5105 382.712 Q77.3392 379.148 77.3392 372.041 Q77.3392 364.912 75.5105 361.37 Q73.705 357.805 70.0708 357.805 M70.0708 354.101 Q75.8809 354.101 78.9365 358.708 Q82.0151 363.291 82.0151 372.041 Q82.0151 380.768 78.9365 385.374 Q75.8809 389.958 70.0708 389.958 Q64.2606 389.958 61.1819 385.374 Q58.1264 380.768 58.1264 372.041 Q58.1264 363.291 61.1819 358.708 Q64.2606 354.101 70.0708 354.101 Z\\\" fill=\\\"#000000\\\" fill-rule=\\\"nonzero\\\" fill-opacity=\\\"1\\\" \\/><path clip-path=\\\"url(#clip880)\\\" d=\\\"M90.2327 383.407 L95.1169 383.407 L95.1169 389.286 L90.2327 389.286 L90.2327 383.407 Z\\\" fill=\\\"#000000\\\" fill-rule=\\\"nonzero\\\" fill-opacity=\\\"1\\\" \\/><path clip-path=\\\"url(#clip880)\\\" d=\\\"M119.469 370.652 Q122.825 371.37 124.7 373.638 Q126.598 375.907 126.598 379.24 Q126.598 384.356 123.08 387.157 Q119.561 389.958 113.08 389.958 Q110.904 389.958 108.589 389.518 Q106.297 389.101 103.844 388.245 L103.844 383.731 Q105.788 384.865 108.103 385.444 Q110.418 386.023 112.941 386.023 Q117.339 386.023 119.631 384.287 Q121.945 382.55 121.945 379.24 Q121.945 376.185 119.793 374.472 Q117.663 372.736 113.844 372.736 L109.816 372.736 L109.816 368.893 L114.029 368.893 Q117.478 368.893 119.307 367.527 Q121.135 366.138 121.135 363.546 Q121.135 360.884 119.237 359.472 Q117.362 358.037 113.844 358.037 Q111.922 358.037 109.723 358.453 Q107.524 358.87 104.885 359.75 L104.885 355.583 Q107.547 354.842 109.862 354.472 Q112.2 354.101 114.26 354.101 Q119.584 354.101 122.686 356.532 Q125.788 358.939 125.788 363.06 Q125.788 365.93 124.145 367.921 Q122.501 369.888 119.469 370.652 Z\\\" fill=\\\"#000000\\\" fill-rule=\\\"nonzero\\\" fill-opacity=\\\"1\\\" \\/><path clip-path=\\\"url(#clip880)\\\" d=\\\"M68.9365 290.958 Q65.3254 290.958 63.4967 294.522 Q61.6912 298.064 61.6912 305.194 Q61.6912 312.3 63.4967 315.865 Q65.3254 319.407 68.9365 319.407 Q72.5707 319.407 74.3763 315.865 Q76.205 312.3 76.205 305.194 Q76.205 298.064 74.3763 294.522 Q72.5707 290.958 68.9365 290.958 M68.9365 287.254 Q74.7467 287.254 77.8022 291.86 Q80.8809 296.444 80.8809 305.194 Q80.8809 313.92 77.8022 318.527 Q74.7467 323.11 68.9365 323.11 Q63.1264 323.11 60.0477 318.527 Q56.9921 313.92 56.9921 305.194 Q56.9921 296.444 60.0477 291.86 Q63.1264 287.254 68.9365 287.254 Z\\\" fill=\\\"#000000\\\" fill-rule=\\\"nonzero\\\" fill-opacity=\\\"1\\\" \\/><path clip-path=\\\"url(#clip880)\\\" d=\\\"M89.0984 316.559 L93.9827 316.559 L93.9827 322.439 L89.0984 322.439 L89.0984 316.559 Z\\\" fill=\\\"#000000\\\" fill-rule=\\\"nonzero\\\" fill-opacity=\\\"1\\\" \\/><path clip-path=\\\"url(#clip880)\\\" d=\\\"M117.015 291.953 L105.209 310.402 L117.015 310.402 L117.015 291.953 M115.788 287.879 L121.668 287.879 L121.668 310.402 L126.598 310.402 L126.598 314.291 L121.668 314.291 L121.668 322.439 L117.015 322.439 L117.015 314.291 L101.413 314.291 L101.413 309.777 L115.788 287.879 Z\\\" fill=\\\"#000000\\\" fill-rule=\\\"nonzero\\\" fill-opacity=\\\"1\\\" \\/><path clip-path=\\\"url(#clip880)\\\" d=\\\"M70.418 224.11 Q66.8069 224.11 64.9782 227.675 Q63.1726 231.217 63.1726 238.346 Q63.1726 245.453 64.9782 249.017 Q66.8069 252.559 70.418 252.559 Q74.0522 252.559 75.8578 249.017 Q77.6865 245.453 77.6865 238.346 Q77.6865 231.217 75.8578 227.675 Q74.0522 224.11 70.418 224.11 M70.418 220.406 Q76.2281 220.406 79.2837 225.013 Q82.3624 229.596 82.3624 238.346 Q82.3624 247.073 79.2837 251.679 Q76.2281 256.263 70.418 256.263 Q64.6078 256.263 61.5291 251.679 Q58.4736 247.073 58.4736 238.346 Q58.4736 229.596 61.5291 225.013 Q64.6078 220.406 70.418 220.406 Z\\\" fill=\\\"#000000\\\" fill-rule=\\\"nonzero\\\" fill-opacity=\\\"1\\\" \\/><path clip-path=\\\"url(#clip880)\\\" d=\\\"M90.5799 249.712 L95.4641 249.712 L95.4641 255.591 L90.5799 255.591 L90.5799 249.712 Z\\\" fill=\\\"#000000\\\" fill-rule=\\\"nonzero\\\" fill-opacity=\\\"1\\\" \\/><path clip-path=\\\"url(#clip880)\\\" d=\\\"M105.696 221.031 L124.052 221.031 L124.052 224.967 L109.978 224.967 L109.978 233.439 Q110.996 233.092 112.015 232.93 Q113.033 232.744 114.052 232.744 Q119.839 232.744 123.219 235.916 Q126.598 239.087 126.598 244.504 Q126.598 250.082 123.126 253.184 Q119.654 256.263 113.334 256.263 Q111.159 256.263 108.89 255.892 Q106.645 255.522 104.237 254.781 L104.237 250.082 Q106.321 251.216 108.543 251.772 Q110.765 252.328 113.242 252.328 Q117.246 252.328 119.584 250.221 Q121.922 248.115 121.922 244.504 Q121.922 240.892 119.584 238.786 Q117.246 236.679 113.242 236.679 Q111.367 236.679 109.492 237.096 Q107.64 237.513 105.696 238.392 L105.696 221.031 Z\\\" fill=\\\"#000000\\\" fill-rule=\\\"nonzero\\\" fill-opacity=\\\"1\\\" \\/><path clip-path=\\\"url(#clip880)\\\" d=\\\"M69.2606 157.263 Q65.6495 157.263 63.8208 160.827 Q62.0152 164.369 62.0152 171.499 Q62.0152 178.605 63.8208 182.17 Q65.6495 185.712 69.2606 185.712 Q72.8948 185.712 74.7004 182.17 Q76.5291 178.605 76.5291 171.499 Q76.5291 164.369 74.7004 160.827 Q72.8948 157.263 69.2606 157.263 M69.2606 153.559 Q75.0707 153.559 78.1263 158.165 Q81.205 162.749 81.205 171.499 Q81.205 180.225 78.1263 184.832 Q75.0707 189.415 69.2606 189.415 Q63.4504 189.415 60.3717 184.832 Q57.3162 180.225 57.3162 171.499 Q57.3162 162.749 60.3717 158.165 Q63.4504 153.559 69.2606 153.559 Z\\\" fill=\\\"#000000\\\" fill-rule=\\\"nonzero\\\" fill-opacity=\\\"1\\\" \\/><path clip-path=\\\"url(#clip880)\\\" d=\\\"M89.4225 182.864 L94.3067 182.864 L94.3067 188.744 L89.4225 188.744 L89.4225 182.864 Z\\\" fill=\\\"#000000\\\" fill-rule=\\\"nonzero\\\" fill-opacity=\\\"1\\\" \\/><path clip-path=\\\"url(#clip880)\\\" d=\\\"M115.071 169.6 Q111.922 169.6 110.071 171.753 Q108.242 173.906 108.242 177.656 Q108.242 181.383 110.071 183.559 Q111.922 185.712 115.071 185.712 Q118.219 185.712 120.047 183.559 Q121.899 181.383 121.899 177.656 Q121.899 173.906 120.047 171.753 Q118.219 169.6 115.071 169.6 M124.353 154.948 L124.353 159.207 Q122.594 158.374 120.788 157.934 Q119.006 157.494 117.246 157.494 Q112.617 157.494 110.163 160.619 Q107.733 163.744 107.385 170.063 Q108.751 168.05 110.811 166.985 Q112.871 165.897 115.348 165.897 Q120.557 165.897 123.566 169.068 Q126.598 172.216 126.598 177.656 Q126.598 182.98 123.45 186.198 Q120.302 189.415 115.071 189.415 Q109.075 189.415 105.904 184.832 Q102.733 180.225 102.733 171.499 Q102.733 163.304 106.621 158.443 Q110.51 153.559 117.061 153.559 Q118.82 153.559 120.603 153.906 Q122.408 154.253 124.353 154.948 Z\\\" fill=\\\"#000000\\\" fill-rule=\\\"nonzero\\\" fill-opacity=\\\"1\\\" \\/><path clip-path=\\\"url(#clip880)\\\" d=\\\"M70.3254 90.4151 Q66.7143 90.4151 64.8856 93.9799 Q63.0801 97.5215 63.0801 104.651 Q63.0801 111.758 64.8856 115.322 Q66.7143 118.864 70.3254 118.864 Q73.9596 118.864 75.7652 115.322 Q77.5939 111.758 77.5939 104.651 Q77.5939 97.5215 75.7652 93.9799 Q73.9596 90.4151 70.3254 90.4151 M70.3254 86.7114 Q76.1355 86.7114 79.1911 91.3178 Q82.2698 95.9011 82.2698 104.651 Q82.2698 113.378 79.1911 117.984 Q76.1355 122.568 70.3254 122.568 Q64.5152 122.568 61.4365 117.984 Q58.381 113.378 58.381 104.651 Q58.381 95.9011 61.4365 91.3178 Q64.5152 86.7114 70.3254 86.7114 Z\\\" fill=\\\"#000000\\\" fill-rule=\\\"nonzero\\\" fill-opacity=\\\"1\\\" \\/><path clip-path=\\\"url(#clip880)\\\" d=\\\"M90.4873 116.017 L95.3715 116.017 L95.3715 121.896 L90.4873 121.896 L90.4873 116.017 Z\\\" fill=\\\"#000000\\\" fill-rule=\\\"nonzero\\\" fill-opacity=\\\"1\\\" \\/><path clip-path=\\\"url(#clip880)\\\" d=\\\"M104.376 87.3364 L126.598 87.3364 L126.598 89.3271 L114.052 121.896 L109.168 121.896 L120.973 91.2715 L104.376 91.2715 L104.376 87.3364 Z\\\" fill=\\\"#000000\\\" fill-rule=\\\"nonzero\\\" fill-opacity=\\\"1\\\" \\/><polyline clip-path=\\\"url(#clip882)\\\" style=\\\"stroke:#009af9; stroke-linecap:round; stroke-linejoin:round; stroke-width:4; stroke-opacity:1; fill:none\\\" points=\\\"165.319,442.196 242.06,374.697 318.802,267.404 395.544,230.101 472.286,206.518 549.028,166.291 625.769,172.775 702.511,115.987 779.253,88.9641 855.995,58.7476 \\\"\\/>\\n<path clip-path=\\\"url(#clip880)\\\" d=\\\"M910.321 164.473 L1152.76 164.473 L1152.76 60.7926 L910.321 60.7926  Z\\\" fill=\\\"#ffffff\\\" fill-rule=\\\"evenodd\\\" fill-opacity=\\\"1\\\"\\/>\\n<polyline clip-path=\\\"url(#clip880)\\\" style=\\\"stroke:#000000; stroke-linecap:round; stroke-linejoin:round; stroke-width:4; stroke-opacity:1; fill:none\\\" points=\\\"910.321,164.473 1152.76,164.473 1152.76,60.7926 910.321,60.7926 910.321,164.473 \\\"\\/>\\n<polyline clip-path=\\\"url(#clip880)\\\" style=\\\"stroke:#009af9; stroke-linecap:round; stroke-linejoin:round; stroke-width:4; stroke-opacity:1; fill:none\\\" points=\\\"921.522,112.633 988.733,112.633 \\\"\\/>\\n<path clip-path=\\\"url(#clip880)\\\" d=\\\"M1021.65 114.265 L1021.65 129.913 L1017.39 129.913 L1017.39 114.403 Q1017.39 110.723 1015.95 108.894 Q1014.52 107.066 1011.65 107.066 Q1008.2 107.066 1006.21 109.265 Q1004.22 111.464 1004.22 115.26 L1004.22 129.913 L999.935 129.913 L999.935 93.8943 L1004.22 93.8943 L1004.22 108.015 Q1005.74 105.677 1007.8 104.519 Q1009.89 103.362 1012.6 103.362 Q1017.06 103.362 1019.36 106.14 Q1021.65 108.894 1021.65 114.265 Z\\\" fill=\\\"#000000\\\" fill-rule=\\\"nonzero\\\" fill-opacity=\\\"1\\\" \\/><path clip-path=\\\"url(#clip880)\\\" d=\\\"M1041.93 116.88 Q1036.76 116.88 1034.77 118.061 Q1032.78 119.241 1032.78 122.089 Q1032.78 124.357 1034.26 125.7 Q1035.77 127.019 1038.34 127.019 Q1041.88 127.019 1044.01 124.519 Q1046.16 121.996 1046.16 117.829 L1046.16 116.88 L1041.93 116.88 M1050.42 115.121 L1050.42 129.913 L1046.16 129.913 L1046.16 125.977 Q1044.7 128.339 1042.53 129.473 Q1040.35 130.584 1037.2 130.584 Q1033.22 130.584 1030.86 128.362 Q1028.52 126.116 1028.52 122.366 Q1028.52 117.991 1031.44 115.769 Q1034.38 113.547 1040.19 113.547 L1046.16 113.547 L1046.16 113.13 Q1046.16 110.191 1044.22 108.593 Q1042.3 106.973 1038.8 106.973 Q1036.58 106.973 1034.47 107.505 Q1032.36 108.038 1030.42 109.103 L1030.42 105.167 Q1032.76 104.265 1034.96 103.825 Q1037.16 103.362 1039.24 103.362 Q1044.86 103.362 1047.64 106.278 Q1050.42 109.195 1050.42 115.121 Z\\\" fill=\\\"#000000\\\" fill-rule=\\\"nonzero\\\" fill-opacity=\\\"1\\\" \\/><path clip-path=\\\"url(#clip880)\\\" d=\\\"M1063.31 126.024 L1063.31 139.774 L1059.03 139.774 L1059.03 103.987 L1063.31 103.987 L1063.31 107.922 Q1064.66 105.607 1066.69 104.496 Q1068.75 103.362 1071.6 103.362 Q1076.32 103.362 1079.26 107.112 Q1082.23 110.862 1082.23 116.973 Q1082.23 123.084 1079.26 126.834 Q1076.32 130.584 1071.6 130.584 Q1068.75 130.584 1066.69 129.473 Q1064.66 128.339 1063.31 126.024 M1077.8 116.973 Q1077.8 112.274 1075.86 109.612 Q1073.94 106.927 1070.56 106.927 Q1067.18 106.927 1065.24 109.612 Q1063.31 112.274 1063.31 116.973 Q1063.31 121.672 1065.24 124.357 Q1067.18 127.019 1070.56 127.019 Q1073.94 127.019 1075.86 124.357 Q1077.8 121.672 1077.8 116.973 Z\\\" fill=\\\"#000000\\\" fill-rule=\\\"nonzero\\\" fill-opacity=\\\"1\\\" \\/><path clip-path=\\\"url(#clip880)\\\" d=\\\"M1093.41 126.024 L1093.41 139.774 L1089.12 139.774 L1089.12 103.987 L1093.41 103.987 L1093.41 107.922 Q1094.75 105.607 1096.79 104.496 Q1098.85 103.362 1101.69 103.362 Q1106.42 103.362 1109.36 107.112 Q1112.32 110.862 1112.32 116.973 Q1112.32 123.084 1109.36 126.834 Q1106.42 130.584 1101.69 130.584 Q1098.85 130.584 1096.79 129.473 Q1094.75 128.339 1093.41 126.024 M1107.9 116.973 Q1107.9 112.274 1105.95 109.612 Q1104.03 106.927 1100.65 106.927 Q1097.27 106.927 1095.33 109.612 Q1093.41 112.274 1093.41 116.973 Q1093.41 121.672 1095.33 124.357 Q1097.27 127.019 1100.65 127.019 Q1104.03 127.019 1105.95 124.357 Q1107.9 121.672 1107.9 116.973 Z\\\" fill=\\\"#000000\\\" fill-rule=\\\"nonzero\\\" fill-opacity=\\\"1\\\" \\/><path clip-path=\\\"url(#clip880)\\\" d=\\\"M1130.17 132.32 Q1128.36 136.95 1126.65 138.362 Q1124.93 139.774 1122.06 139.774 L1118.66 139.774 L1118.66 136.209 L1121.16 136.209 Q1122.92 136.209 1123.89 135.376 Q1124.86 134.542 1126.04 131.44 L1126.81 129.496 L1116.32 103.987 L1120.84 103.987 L1128.94 124.265 L1137.04 103.987 L1141.55 103.987 L1130.17 132.32 Z\\\" fill=\\\"#000000\\\" fill-rule=\\\"nonzero\\\" fill-opacity=\\\"1\\\" \\/><\\/svg>\\n\"},\"nodeType\":\"DOM\",\"type\":\"node\",\"instanceArgs\":{\"namespace\":\"html\",\"tag\":\"div\"},\"children\":[]}]}]}]}]},\n",
       "        window,\n",
       "    );\n",
       "    })()\n",
       "    </script>\n",
       "</div>\n"
      ],
      "text/plain": [
       "WebIO.Node{WebIO.DOM}(WebIO.DOM(:html, :div), Any[WebIO.Node{WebIO.DOM}(WebIO.DOM(:html, :div), Any[WebIO.Node{WebIO.DOM}(WebIO.DOM(:html, :div), Any[WebIO.Node{WebIO.DOM}(WebIO.DOM(:html, :div), Any[WebIO.Scope(WebIO.Node{WebIO.DOM}(WebIO.DOM(:html, :div), Any[WebIO.Node{WebIO.DOM}(WebIO.DOM(:html, :div), Any[WebIO.Node{WebIO.DOM}(WebIO.DOM(:html, :label), Any[\"time\"], Dict{Symbol, Any}(:className => \"interact \", :style => Dict{Any, Any}(:padding => \"5px 10px 0px 10px\")))], Dict{Symbol, Any}(:className => \"interact-flex-row-left\")), WebIO.Node{WebIO.DOM}(WebIO.DOM(:html, :div), Any[WebIO.Node{WebIO.DOM}(WebIO.DOM(:html, :input), Any[], Dict{Symbol, Any}(:max => 20, :min => 1, :attributes => Dict{Any, Any}(:type => \"range\", Symbol(\"data-bind\") => \"numericValue: index, valueUpdate: 'input', event: {change: function (){this.changes(this.changes()+1)}}\", \"orient\" => \"horizontal\"), :step => 1, :className => \"slider slider is-fullwidth\", :style => Dict{Any, Any}()))], Dict{Symbol, Any}(:className => \"interact-flex-row-center\")), WebIO.Node{WebIO.DOM}(WebIO.DOM(:html, :div), Any[WebIO.Node{WebIO.DOM}(WebIO.DOM(:html, :p), Any[], Dict{Symbol, Any}(:attributes => Dict(\"data-bind\" => \"text: formatted_val\")))], Dict{Symbol, Any}(:className => \"interact-flex-row-right\"))], Dict{Symbol, Any}(:className => \"interact-flex-row interact-widget\")), Dict{String, Tuple{Observables.AbstractObservable, Union{Nothing, Bool}}}(\"changes\" => (Observable(0), nothing), \"index\" => (Observable(10), nothing)), Set{String}(), nothing, WebIO.Asset[WebIO.Asset(\"js\", \"knockout\", \"/home/dushya/.julia/packages/Knockout/HReiN/src/../assets/knockout.js\"), WebIO.Asset(\"js\", \"knockout_punches\", \"/home/dushya/.julia/packages/Knockout/HReiN/src/../assets/knockout_punches.js\"), WebIO.Asset(\"js\", nothing, \"/home/dushya/.julia/packages/InteractBase/LJXv3/src/../assets/all.js\"), WebIO.Asset(\"css\", nothing, \"/home/dushya/.julia/packages/InteractBase/LJXv3/src/../assets/style.css\"), WebIO.Asset(\"css\", nothing, \"/home/dushya/.julia/packages/Interact/PENUy/src/../assets/bulma_confined.min.css\")], Dict{Any, Any}(\"changes\" => Any[WebIO.JSString(\"(function (val){return (val!=this.model[\\\"changes\\\"]()) ? (this.valueFromJulia[\\\"changes\\\"]=true, this.model[\\\"changes\\\"](val)) : undefined})\")], \"index\" => Any[WebIO.JSString(\"(function (val){return (val!=this.model[\\\"index\\\"]()) ? (this.valueFromJulia[\\\"index\\\"]=true, this.model[\\\"index\\\"](val)) : undefined})\")]), WebIO.ConnectionPool(Channel{Any}(32), Set{WebIO.AbstractConnection}(), Base.GenericCondition{ReentrantLock}(Base.IntrusiveLinkedList{Task}(Task (runnable) @0x00007f27166c7080, Task (runnable) @0x00007f27166c7080), ReentrantLock(nothing, 0x00000000, 0x00, Base.GenericCondition{Base.Threads.SpinLock}(Base.IntrusiveLinkedList{Task}(nothing, nothing), Base.Threads.SpinLock(0)), (0, 139805752104000, 0)))), WebIO.JSString[WebIO.JSString(\"function () {\\n    var handler = (function (ko, koPunches) {\\n    ko.punches.enableAll();\\n    ko.bindingHandlers.numericValue = {\\n        init: function(element, valueAccessor, allBindings, data, context) {\\n            var stringified = ko.observable(ko.unwrap(valueAccessor()));\\n            stringified.subscribe(function(value) {\\n                var val = parseFloat(value);\\n                if (!isNaN(val)) {\\n                    valueAccessor()(val);\\n                }\\n            });\\n            valueAccessor().subscribe(function(value) {\\n                var str = JSON.stringify(value);\\n                if ((str == \\\"0\\\") && ([\\\"-0\\\", \\\"-0.\\\"].indexOf(stringified()) >= 0))\\n                     return;\\n                 if ([\\\"null\\\", \\\"\\\"].indexOf(str) >= 0)\\n                     return;\\n                stringified(str);\\n            });\\n            ko.applyBindingsToNode(\\n                element,\\n                {\\n                    value: stringified,\\n                    valueUpdate: allBindings.get('valueUpdate'),\\n                },\\n                context,\\n            );\\n        }\\n    };\\n    var json_data = {\\\"formatted_vals\\\":[\\\"1\\\",\\\"2\\\",\\\"3\\\",\\\"4\\\",\\\"5\\\",\\\"6\\\",\\\"7\\\",\\\"8\\\",\\\"9\\\",\\\"10\\\",\\\"11\\\",\\\"12\\\",\\\"13\\\",\\\"14\\\",\\\"15\\\",\\\"16\\\",\\\"17\\\",\\\"18\\\",\\\"19\\\",\\\"20\\\"],\\\"changes\\\":WebIO.getval({\\\"name\\\":\\\"changes\\\",\\\"scope\\\":\\\"4113090339636934729\\\",\\\"id\\\":\\\"8899706420923743420\\\",\\\"type\\\":\\\"observable\\\"}),\\\"index\\\":WebIO.getval({\\\"name\\\":\\\"index\\\",\\\"scope\\\":\\\"4113090339636934729\\\",\\\"id\\\":\\\"12911223574668458309\\\",\\\"type\\\":\\\"observable\\\"})};\\n    var self = this;\\n    function AppViewModel() {\\n        for (var key in json_data) {\\n            var el = json_data[key];\\n            this[key] = Array.isArray(el) ? ko.observableArray(el) : ko.observable(el);\\n        }\\n        \\n        [this[\\\"formatted_val\\\"]=ko.computed(    function(){\\n        return this.formatted_vals()[parseInt(this.index())-(1)];\\n    }\\n,this)]\\n        [this[\\\"changes\\\"].subscribe((function (val){!(this.valueFromJulia[\\\"changes\\\"]) ? (WebIO.setval({\\\"name\\\":\\\"changes\\\",\\\"scope\\\":\\\"4113090339636934729\\\",\\\"id\\\":\\\"8899706420923743420\\\",\\\"type\\\":\\\"observable\\\"},val)) : undefined; return this.valueFromJulia[\\\"changes\\\"]=false}),self),this[\\\"index\\\"].subscribe((function (val){!(this.valueFromJulia[\\\"index\\\"]) ? (WebIO.setval({\\\"name\\\":\\\"index\\\",\\\"scope\\\":\\\"4113090339636934729\\\",\\\"id\\\":\\\"12911223574668458309\\\",\\\"type\\\":\\\"observable\\\"},val)) : undefined; return this.valueFromJulia[\\\"index\\\"]=false}),self)]\\n        \\n    }\\n    self.model = new AppViewModel();\\n    self.valueFromJulia = {};\\n    for (var key in json_data) {\\n        self.valueFromJulia[key] = false;\\n    }\\n    ko.applyBindings(self.model, self.dom);\\n}\\n);\\n    (WebIO.importBlock({\\\"data\\\":[{\\\"name\\\":\\\"knockout\\\",\\\"type\\\":\\\"js\\\",\\\"url\\\":\\\"/assetserver/727383f2a47bd31570b7da84eee7b022dd6d7c78-knockout.js\\\"},{\\\"name\\\":\\\"knockout_punches\\\",\\\"type\\\":\\\"js\\\",\\\"url\\\":\\\"/assetserver/382b41b3b1bd9f26f75861d360bad7f8beea211f-knockout_punches.js\\\"}],\\\"type\\\":\\\"async_block\\\"})).then((imports) => handler.apply(this, imports));\\n}\\n\")])], Dict{Symbol, Any}(:className => \"field interact-widget\")), WebIO.Node{WebIO.DOM}(WebIO.DOM(:html, :div), Any[WebIO.Scope(WebIO.Node{WebIO.DOM}(WebIO.DOM(:html, :div), Any[WebIO.Node{WebIO.DOM}(WebIO.DOM(:html, :div), Any[WebIO.Node{WebIO.DOM}(WebIO.DOM(:html, :label), Any[\"scale\"], Dict{Symbol, Any}(:className => \"interact \", :style => Dict{Any, Any}(:padding => \"5px 10px 0px 10px\")))], Dict{Symbol, Any}(:className => \"interact-flex-row-left\")), WebIO.Node{WebIO.DOM}(WebIO.DOM(:html, :div), Any[WebIO.Node{WebIO.DOM}(WebIO.DOM(:html, :input), Any[], Dict{Symbol, Any}(:max => 20, :min => 1, :attributes => Dict{Any, Any}(:type => \"range\", Symbol(\"data-bind\") => \"numericValue: index, valueUpdate: 'input', event: {change: function (){this.changes(this.changes()+1)}}\", \"orient\" => \"horizontal\"), :step => 1, :className => \"slider slider is-fullwidth\", :style => Dict{Any, Any}()))], Dict{Symbol, Any}(:className => \"interact-flex-row-center\")), WebIO.Node{WebIO.DOM}(WebIO.DOM(:html, :div), Any[WebIO.Node{WebIO.DOM}(WebIO.DOM(:html, :p), Any[], Dict{Symbol, Any}(:attributes => Dict(\"data-bind\" => \"text: formatted_val\")))], Dict{Symbol, Any}(:className => \"interact-flex-row-right\"))], Dict{Symbol, Any}(:className => \"interact-flex-row interact-widget\")), Dict{String, Tuple{Observables.AbstractObservable, Union{Nothing, Bool}}}(\"changes\" => (Observable(0), nothing), \"index\" => (Observable{Any}(10), nothing)), Set{String}(), nothing, WebIO.Asset[WebIO.Asset(\"js\", \"knockout\", \"/home/dushya/.julia/packages/Knockout/HReiN/src/../assets/knockout.js\"), WebIO.Asset(\"js\", \"knockout_punches\", \"/home/dushya/.julia/packages/Knockout/HReiN/src/../assets/knockout_punches.js\"), WebIO.Asset(\"js\", nothing, \"/home/dushya/.julia/packages/InteractBase/LJXv3/src/../assets/all.js\"), WebIO.Asset(\"css\", nothing, \"/home/dushya/.julia/packages/InteractBase/LJXv3/src/../assets/style.css\"), WebIO.Asset(\"css\", nothing, \"/home/dushya/.julia/packages/Interact/PENUy/src/../assets/bulma_confined.min.css\")], Dict{Any, Any}(\"changes\" => Any[WebIO.JSString(\"(function (val){return (val!=this.model[\\\"changes\\\"]()) ? (this.valueFromJulia[\\\"changes\\\"]=true, this.model[\\\"changes\\\"](val)) : undefined})\")], \"index\" => Any[WebIO.JSString(\"(function (val){return (val!=this.model[\\\"index\\\"]()) ? (this.valueFromJulia[\\\"index\\\"]=true, this.model[\\\"index\\\"](val)) : undefined})\")]), WebIO.ConnectionPool(Channel{Any}(32), Set{WebIO.AbstractConnection}(), Base.GenericCondition{ReentrantLock}(Base.IntrusiveLinkedList{Task}(Task (runnable) @0x00007f27170eaa40, Task (runnable) @0x00007f27170eaa40), ReentrantLock(nothing, 0x00000000, 0x00, Base.GenericCondition{Base.Threads.SpinLock}(Base.IntrusiveLinkedList{Task}(nothing, nothing), Base.Threads.SpinLock(0)), (8, 139804765142976, 139779710648340)))), WebIO.JSString[WebIO.JSString(\"function () {\\n    var handler = (function (ko, koPunches) {\\n    ko.punches.enableAll();\\n    ko.bindingHandlers.numericValue = {\\n        init: function(element, valueAccessor, allBindings, data, context) {\\n            var stringified = ko.observable(ko.unwrap(valueAccessor()));\\n            stringified.subscribe(function(value) {\\n                var val = parseFloat(value);\\n                if (!isNaN(val)) {\\n                    valueAccessor()(val);\\n                }\\n            });\\n            valueAccessor().subscribe(function(value) {\\n                var str = JSON.stringify(value);\\n                if ((str == \\\"0\\\") && ([\\\"-0\\\", \\\"-0.\\\"].indexOf(stringified()) >= 0))\\n                     return;\\n                 if ([\\\"null\\\", \\\"\\\"].indexOf(str) >= 0)\\n                     return;\\n                stringified(str);\\n            });\\n            ko.applyBindingsToNode(\\n                element,\\n                {\\n                    value: stringified,\\n                    valueUpdate: allBindings.get('valueUpdate'),\\n                },\\n                context,\\n            );\\n        }\\n    };\\n    var json_data = {\\\"formatted_vals\\\":[\\\"0.1\\\",\\\"0.2\\\",\\\"0.3\\\",\\\"0.4\\\",\\\"0.5\\\",\\\"0.6\\\",\\\"0.7\\\",\\\"0.8\\\",\\\"0.9\\\",\\\"1.0\\\",\\\"1.1\\\",\\\"1.2\\\",\\\"1.3\\\",\\\"1.4\\\",\\\"1.5\\\",\\\"1.6\\\",\\\"1.7\\\",\\\"1.8\\\",\\\"1.9\\\",\\\"2.0\\\"],\\\"changes\\\":WebIO.getval({\\\"name\\\":\\\"changes\\\",\\\"scope\\\":\\\"9923563879099515752\\\",\\\"id\\\":\\\"11875855764717201294\\\",\\\"type\\\":\\\"observable\\\"}),\\\"index\\\":WebIO.getval({\\\"name\\\":\\\"index\\\",\\\"scope\\\":\\\"9923563879099515752\\\",\\\"id\\\":\\\"15136019145447258950\\\",\\\"type\\\":\\\"observable\\\"})};\\n    var self = this;\\n    function AppViewModel() {\\n        for (var key in json_data) {\\n            var el = json_data[key];\\n            this[key] = Array.isArray(el) ? ko.observableArray(el) : ko.observable(el);\\n        }\\n        \\n        [this[\\\"formatted_val\\\"]=ko.computed(    function(){\\n        return this.formatted_vals()[parseInt(this.index())-(1)];\\n    }\\n,this)]\\n        [this[\\\"changes\\\"].subscribe((function (val){!(this.valueFromJulia[\\\"changes\\\"]) ? (WebIO.setval({\\\"name\\\":\\\"changes\\\",\\\"scope\\\":\\\"9923563879099515752\\\",\\\"id\\\":\\\"11875855764717201294\\\",\\\"type\\\":\\\"observable\\\"},val)) : undefined; return this.valueFromJulia[\\\"changes\\\"]=false}),self),this[\\\"index\\\"].subscribe((function (val){!(this.valueFromJulia[\\\"index\\\"]) ? (WebIO.setval({\\\"name\\\":\\\"index\\\",\\\"scope\\\":\\\"9923563879099515752\\\",\\\"id\\\":\\\"15136019145447258950\\\",\\\"type\\\":\\\"observable\\\"},val)) : undefined; return this.valueFromJulia[\\\"index\\\"]=false}),self)]\\n        \\n    }\\n    self.model = new AppViewModel();\\n    self.valueFromJulia = {};\\n    for (var key in json_data) {\\n        self.valueFromJulia[key] = false;\\n    }\\n    ko.applyBindings(self.model, self.dom);\\n}\\n);\\n    (WebIO.importBlock({\\\"data\\\":[{\\\"name\\\":\\\"knockout\\\",\\\"type\\\":\\\"js\\\",\\\"url\\\":\\\"/assetserver/727383f2a47bd31570b7da84eee7b022dd6d7c78-knockout.js\\\"},{\\\"name\\\":\\\"knockout_punches\\\",\\\"type\\\":\\\"js\\\",\\\"url\\\":\\\"/assetserver/382b41b3b1bd9f26f75861d360bad7f8beea211f-knockout_punches.js\\\"}],\\\"type\\\":\\\"async_block\\\"})).then((imports) => handler.apply(this, imports));\\n}\\n\")])], Dict{Symbol, Any}(:className => \"field interact-widget\")), WebIO.Node{WebIO.DOM}(WebIO.DOM(:html, :div), Any[WebIO.Node{WebIO.DOM}(WebIO.DOM(:html, :div), Any[WebIO.Scope(WebIO.Node{WebIO.DOM}(WebIO.DOM(:html, :div), Any[], Dict{Symbol, Any}(:id => \"container\")), Dict{String, Tuple{Observables.AbstractObservable, Union{Nothing, Bool}}}(\"value\" => (Observable(\"\\\\;\\\\;\"), nothing)), Set{String}(), nothing, WebIO.Asset[WebIO.Asset(\"js\", nothing, \"/home/dushya/.julia/packages/InteractBase/LJXv3/src/../assets/katex.min.js\"), WebIO.Asset(\"css\", nothing, \"/home/dushya/.julia/packages/InteractBase/LJXv3/src/../assets/katex.min.css\")], Dict{Any, Any}(\"value\" => Any[WebIO.JSString(\"(function (txt){return this.k.render(txt,this.container)})\")]), WebIO.ConnectionPool(Channel{Any}(32), Set{WebIO.AbstractConnection}(), Base.GenericCondition{ReentrantLock}(Base.IntrusiveLinkedList{Task}(Task (runnable) @0x00007f26d479df50, Task (runnable) @0x00007f26d479df50), ReentrantLock(nothing, 0x00000000, 0x00, Base.GenericCondition{Base.Threads.SpinLock}(Base.IntrusiveLinkedList{Task}(nothing, nothing), Base.Threads.SpinLock(0)), (0, 139805895684992, 4294967297)))), WebIO.JSString[WebIO.JSString(\"function () {\\n    var handler = ((function (k){this.k=k; this.container=this.dom.querySelector(\\\"#container\\\"); return k.render(\\\"\\\\\\\\;\\\\\\\\;\\\",this.container)}));\\n    (WebIO.importBlock({\\\"data\\\":[{\\\"name\\\":null,\\\"type\\\":\\\"js\\\",\\\"url\\\":\\\"/assetserver/dd22ed1bf1896c2748f3fe616ce0b838adc895c1-katex.min.js\\\"},{\\\"name\\\":null,\\\"type\\\":\\\"css\\\",\\\"url\\\":\\\"/assetserver/46517a424aa5e6cffc1360d7e0848b601c584ee3-katex.min.css\\\"}],\\\"type\\\":\\\"async_block\\\"})).then((imports) => handler.apply(this, imports));\\n}\\n\")])], Dict{Symbol, Any}(:className => \"interact-widget\")), WebIO.Node{WebIO.DOM}(WebIO.DOM(:html, :div), Any[WebIO.Scope(WebIO.Node{WebIO.DOM}(WebIO.DOM(:html, :button), Any[\"run\"], Dict{Symbol, Any}(:attributes => Dict{Any, Any}(\"data-bind\" => \"click: function (){this.clicks(this.clicks()+1)}, css: {'is-loading' : loading}\"), :className => \"is-medium button is-primary\", :style => Dict{String, Any}())), Dict{String, Tuple{Observables.AbstractObservable, Union{Nothing, Bool}}}(\"loading\" => (Observable(false), nothing), \"clicks\" => (Observable(0), nothing)), Set{String}(), nothing, WebIO.Asset[WebIO.Asset(\"js\", \"knockout\", \"/home/dushya/.julia/packages/Knockout/HReiN/src/../assets/knockout.js\"), WebIO.Asset(\"js\", \"knockout_punches\", \"/home/dushya/.julia/packages/Knockout/HReiN/src/../assets/knockout_punches.js\"), WebIO.Asset(\"js\", nothing, \"/home/dushya/.julia/packages/InteractBase/LJXv3/src/../assets/all.js\"), WebIO.Asset(\"css\", nothing, \"/home/dushya/.julia/packages/InteractBase/LJXv3/src/../assets/style.css\"), WebIO.Asset(\"css\", nothing, \"/home/dushya/.julia/packages/Interact/PENUy/src/../assets/bulma_confined.min.css\")], Dict{Any, Any}(\"loading\" => Any[WebIO.JSString(\"(function (val){return (val!=this.model[\\\"loading\\\"]()) ? (this.valueFromJulia[\\\"loading\\\"]=true, this.model[\\\"loading\\\"](val)) : undefined})\")], \"clicks\" => Any[WebIO.JSString(\"(function (val){return (val!=this.model[\\\"clicks\\\"]()) ? (this.valueFromJulia[\\\"clicks\\\"]=true, this.model[\\\"clicks\\\"](val)) : undefined})\")]), WebIO.ConnectionPool(Channel{Any}(32), Set{WebIO.AbstractConnection}(), Base.GenericCondition{ReentrantLock}(Base.IntrusiveLinkedList{Task}(Task (runnable) @0x00007f26d43efd00, Task (runnable) @0x00007f26d43efd00), ReentrantLock(nothing, 0x00000000, 0x00, Base.GenericCondition{Base.Threads.SpinLock}(Base.IntrusiveLinkedList{Task}(nothing, nothing), Base.Threads.SpinLock(0)), (0, 139803927034880, 139803897381824)))), WebIO.JSString[WebIO.JSString(\"function () {\\n    var handler = (function (ko, koPunches) {\\n    ko.punches.enableAll();\\n    ko.bindingHandlers.numericValue = {\\n        init: function(element, valueAccessor, allBindings, data, context) {\\n            var stringified = ko.observable(ko.unwrap(valueAccessor()));\\n            stringified.subscribe(function(value) {\\n                var val = parseFloat(value);\\n                if (!isNaN(val)) {\\n                    valueAccessor()(val);\\n                }\\n            });\\n            valueAccessor().subscribe(function(value) {\\n                var str = JSON.stringify(value);\\n                if ((str == \\\"0\\\") && ([\\\"-0\\\", \\\"-0.\\\"].indexOf(stringified()) >= 0))\\n                     return;\\n                 if ([\\\"null\\\", \\\"\\\"].indexOf(str) >= 0)\\n                     return;\\n                stringified(str);\\n            });\\n            ko.applyBindingsToNode(\\n                element,\\n                {\\n                    value: stringified,\\n                    valueUpdate: allBindings.get('valueUpdate'),\\n                },\\n                context,\\n            );\\n        }\\n    };\\n    var json_data = {\\\"loading\\\":WebIO.getval({\\\"name\\\":\\\"loading\\\",\\\"scope\\\":\\\"2456779211129120921\\\",\\\"id\\\":\\\"15503694006484279159\\\",\\\"type\\\":\\\"observable\\\"}),\\\"clicks\\\":WebIO.getval({\\\"name\\\":\\\"clicks\\\",\\\"scope\\\":\\\"2456779211129120921\\\",\\\"id\\\":\\\"14796411586546067585\\\",\\\"type\\\":\\\"observable\\\"})};\\n    var self = this;\\n    function AppViewModel() {\\n        for (var key in json_data) {\\n            var el = json_data[key];\\n            this[key] = Array.isArray(el) ? ko.observableArray(el) : ko.observable(el);\\n        }\\n        \\n        \\n        [this[\\\"loading\\\"].subscribe((function (val){!(this.valueFromJulia[\\\"loading\\\"]) ? (WebIO.setval({\\\"name\\\":\\\"loading\\\",\\\"scope\\\":\\\"2456779211129120921\\\",\\\"id\\\":\\\"15503694006484279159\\\",\\\"type\\\":\\\"observable\\\"},val)) : undefined; return this.valueFromJulia[\\\"loading\\\"]=false}),self),this[\\\"clicks\\\"].subscribe((function (val){!(this.valueFromJulia[\\\"clicks\\\"]) ? (WebIO.setval({\\\"name\\\":\\\"clicks\\\",\\\"scope\\\":\\\"2456779211129120921\\\",\\\"id\\\":\\\"14796411586546067585\\\",\\\"type\\\":\\\"observable\\\"},val)) : undefined; return this.valueFromJulia[\\\"clicks\\\"]=false}),self)]\\n        \\n    }\\n    self.model = new AppViewModel();\\n    self.valueFromJulia = {};\\n    for (var key in json_data) {\\n        self.valueFromJulia[key] = false;\\n    }\\n    ko.applyBindings(self.model, self.dom);\\n}\\n);\\n    (WebIO.importBlock({\\\"data\\\":[{\\\"name\\\":\\\"knockout\\\",\\\"type\\\":\\\"js\\\",\\\"url\\\":\\\"/assetserver/727383f2a47bd31570b7da84eee7b022dd6d7c78-knockout.js\\\"},{\\\"name\\\":\\\"knockout_punches\\\",\\\"type\\\":\\\"js\\\",\\\"url\\\":\\\"/assetserver/382b41b3b1bd9f26f75861d360bad7f8beea211f-knockout_punches.js\\\"}],\\\"type\\\":\\\"async_block\\\"})).then((imports) => handler.apply(this, imports));\\n}\\n\")])], Dict{Symbol, Any}(:className => \"field interact-widget\")), WebIO.Node{WebIO.DOM}(WebIO.DOM(:html, :div), Any[WebIO.Scope(WebIO.Node{WebIO.DOM}(WebIO.DOM(:html, :div), Any[], Dict{Symbol, Any}(:id => \"container\")), Dict{String, Tuple{Observables.AbstractObservable, Union{Nothing, Bool}}}(\"value\" => (Observable(\"\\\\;\\\\;\"), nothing)), Set{String}(), nothing, WebIO.Asset[WebIO.Asset(\"js\", nothing, \"/home/dushya/.julia/packages/InteractBase/LJXv3/src/../assets/katex.min.js\"), WebIO.Asset(\"css\", nothing, \"/home/dushya/.julia/packages/InteractBase/LJXv3/src/../assets/katex.min.css\")], Dict{Any, Any}(\"value\" => Any[WebIO.JSString(\"(function (txt){return this.k.render(txt,this.container)})\")]), WebIO.ConnectionPool(Channel{Any}(32), Set{WebIO.AbstractConnection}(), Base.GenericCondition{ReentrantLock}(Base.IntrusiveLinkedList{Task}(Task (runnable) @0x00007f26d479df50, Task (runnable) @0x00007f26d479df50), ReentrantLock(nothing, 0x00000000, 0x00, Base.GenericCondition{Base.Threads.SpinLock}(Base.IntrusiveLinkedList{Task}(nothing, nothing), Base.Threads.SpinLock(0)), (0, 139805895684992, 4294967297)))), WebIO.JSString[WebIO.JSString(\"function () {\\n    var handler = ((function (k){this.k=k; this.container=this.dom.querySelector(\\\"#container\\\"); return k.render(\\\"\\\\\\\\;\\\\\\\\;\\\",this.container)}));\\n    (WebIO.importBlock({\\\"data\\\":[{\\\"name\\\":null,\\\"type\\\":\\\"js\\\",\\\"url\\\":\\\"/assetserver/dd22ed1bf1896c2748f3fe616ce0b838adc895c1-katex.min.js\\\"},{\\\"name\\\":null,\\\"type\\\":\\\"css\\\",\\\"url\\\":\\\"/assetserver/46517a424aa5e6cffc1360d7e0848b601c584ee3-katex.min.css\\\"}],\\\"type\\\":\\\"async_block\\\"})).then((imports) => handler.apply(this, imports));\\n}\\n\")])], Dict{Symbol, Any}(:className => \"interact-widget\")), WebIO.Node{WebIO.DOM}(WebIO.DOM(:html, :div), Any[WebIO.Scope(WebIO.Node{WebIO.DOM}(WebIO.DOM(:html, :button), Any[\"stop\"], Dict{Symbol, Any}(:attributes => Dict{Any, Any}(\"data-bind\" => \"click: function (){this.clicks(this.clicks()+1)}, css: {'is-loading' : loading}\"), :className => \"is-medium button is-primary\", :style => Dict{String, Any}())), Dict{String, Tuple{Observables.AbstractObservable, Union{Nothing, Bool}}}(\"loading\" => (Observable(false), nothing), \"clicks\" => (Observable(0), nothing)), Set{String}(), nothing, WebIO.Asset[WebIO.Asset(\"js\", \"knockout\", \"/home/dushya/.julia/packages/Knockout/HReiN/src/../assets/knockout.js\"), WebIO.Asset(\"js\", \"knockout_punches\", \"/home/dushya/.julia/packages/Knockout/HReiN/src/../assets/knockout_punches.js\"), WebIO.Asset(\"js\", nothing, \"/home/dushya/.julia/packages/InteractBase/LJXv3/src/../assets/all.js\"), WebIO.Asset(\"css\", nothing, \"/home/dushya/.julia/packages/InteractBase/LJXv3/src/../assets/style.css\"), WebIO.Asset(\"css\", nothing, \"/home/dushya/.julia/packages/Interact/PENUy/src/../assets/bulma_confined.min.css\")], Dict{Any, Any}(\"loading\" => Any[WebIO.JSString(\"(function (val){return (val!=this.model[\\\"loading\\\"]()) ? (this.valueFromJulia[\\\"loading\\\"]=true, this.model[\\\"loading\\\"](val)) : undefined})\")], \"clicks\" => Any[WebIO.JSString(\"(function (val){return (val!=this.model[\\\"clicks\\\"]()) ? (this.valueFromJulia[\\\"clicks\\\"]=true, this.model[\\\"clicks\\\"](val)) : undefined})\")]), WebIO.ConnectionPool(Channel{Any}(32), Set{WebIO.AbstractConnection}(), Base.GenericCondition{ReentrantLock}(Base.IntrusiveLinkedList{Task}(Task (runnable) @0x00007f26d4d3b850, Task (runnable) @0x00007f26d4d3b850), ReentrantLock(nothing, 0x00000000, 0x00, Base.GenericCondition{Base.Threads.SpinLock}(Base.IntrusiveLinkedList{Task}(nothing, nothing), Base.Threads.SpinLock(0)), (2, 139805895684480, 139805750934592)))), WebIO.JSString[WebIO.JSString(\"function () {\\n    var handler = (function (ko, koPunches) {\\n    ko.punches.enableAll();\\n    ko.bindingHandlers.numericValue = {\\n        init: function(element, valueAccessor, allBindings, data, context) {\\n            var stringified = ko.observable(ko.unwrap(valueAccessor()));\\n            stringified.subscribe(function(value) {\\n                var val = parseFloat(value);\\n                if (!isNaN(val)) {\\n                    valueAccessor()(val);\\n                }\\n            });\\n            valueAccessor().subscribe(function(value) {\\n                var str = JSON.stringify(value);\\n                if ((str == \\\"0\\\") && ([\\\"-0\\\", \\\"-0.\\\"].indexOf(stringified()) >= 0))\\n                     return;\\n                 if ([\\\"null\\\", \\\"\\\"].indexOf(str) >= 0)\\n                     return;\\n                stringified(str);\\n            });\\n            ko.applyBindingsToNode(\\n                element,\\n                {\\n                    value: stringified,\\n                    valueUpdate: allBindings.get('valueUpdate'),\\n                },\\n                context,\\n            );\\n        }\\n    };\\n    var json_data = {\\\"loading\\\":WebIO.getval({\\\"name\\\":\\\"loading\\\",\\\"scope\\\":\\\"10558917586243750493\\\",\\\"id\\\":\\\"13909718428777095794\\\",\\\"type\\\":\\\"observable\\\"}),\\\"clicks\\\":WebIO.getval({\\\"name\\\":\\\"clicks\\\",\\\"scope\\\":\\\"10558917586243750493\\\",\\\"id\\\":\\\"13805590052105973962\\\",\\\"type\\\":\\\"observable\\\"})};\\n    var self = this;\\n    function AppViewModel() {\\n        for (var key in json_data) {\\n            var el = json_data[key];\\n            this[key] = Array.isArray(el) ? ko.observableArray(el) : ko.observable(el);\\n        }\\n        \\n        \\n        [this[\\\"loading\\\"].subscribe((function (val){!(this.valueFromJulia[\\\"loading\\\"]) ? (WebIO.setval({\\\"name\\\":\\\"loading\\\",\\\"scope\\\":\\\"10558917586243750493\\\",\\\"id\\\":\\\"13909718428777095794\\\",\\\"type\\\":\\\"observable\\\"},val)) : undefined; return this.valueFromJulia[\\\"loading\\\"]=false}),self),this[\\\"clicks\\\"].subscribe((function (val){!(this.valueFromJulia[\\\"clicks\\\"]) ? (WebIO.setval({\\\"name\\\":\\\"clicks\\\",\\\"scope\\\":\\\"10558917586243750493\\\",\\\"id\\\":\\\"13805590052105973962\\\",\\\"type\\\":\\\"observable\\\"},val)) : undefined; return this.valueFromJulia[\\\"clicks\\\"]=false}),self)]\\n        \\n    }\\n    self.model = new AppViewModel();\\n    self.valueFromJulia = {};\\n    for (var key in json_data) {\\n        self.valueFromJulia[key] = false;\\n    }\\n    ko.applyBindings(self.model, self.dom);\\n}\\n);\\n    (WebIO.importBlock({\\\"data\\\":[{\\\"name\\\":\\\"knockout\\\",\\\"type\\\":\\\"js\\\",\\\"url\\\":\\\"/assetserver/727383f2a47bd31570b7da84eee7b022dd6d7c78-knockout.js\\\"},{\\\"name\\\":\\\"knockout_punches\\\",\\\"type\\\":\\\"js\\\",\\\"url\\\":\\\"/assetserver/382b41b3b1bd9f26f75861d360bad7f8beea211f-knockout_punches.js\\\"}],\\\"type\\\":\\\"async_block\\\"})).then((imports) => handler.apply(this, imports));\\n}\\n\")])], Dict{Symbol, Any}(:className => \"field interact-widget\"))], Dict{Symbol, Any}(:style => Dict(\"display\" => \"flex\", \"flex-direction\" => \"row\")))], Dict{Symbol, Any}(:style => Dict(\"display\" => \"flex\", \"flex-direction\" => \"column\"))), Observable(MeshCat.DisplayedVisualizer(MeshCat.CoreVisualizer(MeshCat.SceneTrees.SceneNode(nothing, nothing, Dict{String, Vector{UInt8}}(), nothing, Dict{String, MeshCat.SceneTrees.SceneNode}(\"meshcat\" => MeshCat.SceneTrees.SceneNode(nothing, UInt8[0x83, 0xa6, 0x6d, 0x61, 0x74, 0x72, 0x69, 0x78, 0xc7, 0x40  …  0x68, 0xa8, 0x2f, 0x6d, 0x65, 0x73, 0x68, 0x63, 0x61, 0x74], Dict{String, Vector{UInt8}}(), nothing, Dict{String, MeshCat.SceneTrees.SceneNode}(\"agents\" => MeshCat.SceneTrees.SceneNode(nothing, nothing, Dict{String, Vector{UInt8}}(), nothing, Dict{String, MeshCat.SceneTrees.SceneNode}(\"131sphere\" => MeshCat.SceneTrees.SceneNode(nothing, UInt8[0x83, 0xa6, 0x6d, 0x61, 0x74, 0x72, 0x69, 0x78, 0xc7, 0x40  …  0x2f, 0x31, 0x33, 0x31, 0x73, 0x70, 0x68, 0x65, 0x72, 0x65], Dict{String, Vector{UInt8}}(\"scale\" => [0x84, 0xa8, 0x70, 0x72, 0x6f, 0x70, 0x65, 0x72, 0x74, 0x79  …  0x2f, 0x31, 0x33, 0x31, 0x73, 0x70, 0x68, 0x65, 0x72, 0x65]), nothing, Dict{String, MeshCat.SceneTrees.SceneNode}(\"(1.0N0f8, 0.0N0f8, 0.0N0f8, 1.0N0f8)\" => MeshCat.SceneTrees.SceneNode(UInt8[0x83, 0xa6, 0x6f, 0x62, 0x6a, 0x65, 0x63, 0x74, 0x84, 0xaa  …  0x2c, 0x20, 0x31, 0x2e, 0x30, 0x4e, 0x30, 0x66, 0x38, 0x29], nothing, Dict{String, Vector{UInt8}}(\"visible\" => [0x84, 0xa8, 0x70, 0x72, 0x6f, 0x70, 0x65, 0x72, 0x74, 0x79  …  0x2c, 0x20, 0x31, 0x2e, 0x30, 0x4e, 0x30, 0x66, 0x38, 0x29]), nothing, Dict{String, MeshCat.SceneTrees.SceneNode}()))), \"183sphere\" => MeshCat.SceneTrees.SceneNode(nothing, UInt8[0x83, 0xa6, 0x6d, 0x61, 0x74, 0x72, 0x69, 0x78, 0xc7, 0x40  …  0x2f, 0x31, 0x38, 0x33, 0x73, 0x70, 0x68, 0x65, 0x72, 0x65], Dict{String, Vector{UInt8}}(\"scale\" => [0x84, 0xa8, 0x70, 0x72, 0x6f, 0x70, 0x65, 0x72, 0x74, 0x79  …  0x2f, 0x31, 0x38, 0x33, 0x73, 0x70, 0x68, 0x65, 0x72, 0x65]), nothing, Dict{String, MeshCat.SceneTrees.SceneNode}(\"(1.0N0f8, 0.0N0f8, 0.0N0f8, 1.0N0f8)\" => MeshCat.SceneTrees.SceneNode(UInt8[0x83, 0xa6, 0x6f, 0x62, 0x6a, 0x65, 0x63, 0x74, 0x84, 0xaa  …  0x2c, 0x20, 0x31, 0x2e, 0x30, 0x4e, 0x30, 0x66, 0x38, 0x29], nothing, Dict{String, Vector{UInt8}}(\"visible\" => [0x84, 0xa8, 0x70, 0x72, 0x6f, 0x70, 0x65, 0x72, 0x74, 0x79  …  0x2c, 0x20, 0x31, 0x2e, 0x30, 0x4e, 0x30, 0x66, 0x38, 0x29]), nothing, Dict{String, MeshCat.SceneTrees.SceneNode}()))), \"186sphere\" => MeshCat.SceneTrees.SceneNode(nothing, UInt8[0x83, 0xa6, 0x6d, 0x61, 0x74, 0x72, 0x69, 0x78, 0xc7, 0x40  …  0x2f, 0x31, 0x38, 0x36, 0x73, 0x70, 0x68, 0x65, 0x72, 0x65], Dict{String, Vector{UInt8}}(\"scale\" => [0x84, 0xa8, 0x70, 0x72, 0x6f, 0x70, 0x65, 0x72, 0x74, 0x79  …  0x2f, 0x31, 0x38, 0x36, 0x73, 0x70, 0x68, 0x65, 0x72, 0x65]), nothing, Dict{String, MeshCat.SceneTrees.SceneNode}(\"(0.0N0f8, 1.0N0f8, 0.0N0f8, 1.0N0f8)\" => MeshCat.SceneTrees.SceneNode(UInt8[0x83, 0xa6, 0x6f, 0x62, 0x6a, 0x65, 0x63, 0x74, 0x84, 0xaa  …  0x2c, 0x20, 0x31, 0x2e, 0x30, 0x4e, 0x30, 0x66, 0x38, 0x29], nothing, Dict{String, Vector{UInt8}}(\"visible\" => [0x84, 0xa8, 0x70, 0x72, 0x6f, 0x70, 0x65, 0x72, 0x74, 0x79  …  0x2c, 0x20, 0x31, 0x2e, 0x30, 0x4e, 0x30, 0x66, 0x38, 0x29]), nothing, Dict{String, MeshCat.SceneTrees.SceneNode}()))), \"87sphere\" => MeshCat.SceneTrees.SceneNode(nothing, UInt8[0x83, 0xa6, 0x6d, 0x61, 0x74, 0x72, 0x69, 0x78, 0xc7, 0x40  …  0x73, 0x2f, 0x38, 0x37, 0x73, 0x70, 0x68, 0x65, 0x72, 0x65], Dict{String, Vector{UInt8}}(\"scale\" => [0x84, 0xa8, 0x70, 0x72, 0x6f, 0x70, 0x65, 0x72, 0x74, 0x79  …  0x73, 0x2f, 0x38, 0x37, 0x73, 0x70, 0x68, 0x65, 0x72, 0x65]), nothing, Dict{String, MeshCat.SceneTrees.SceneNode}(\"(1.0N0f8, 0.0N0f8, 0.0N0f8, 1.0N0f8)\" => MeshCat.SceneTrees.SceneNode(UInt8[0x83, 0xa6, 0x6f, 0x62, 0x6a, 0x65, 0x63, 0x74, 0x84, 0xaa  …  0x2c, 0x20, 0x31, 0x2e, 0x30, 0x4e, 0x30, 0x66, 0x38, 0x29], nothing, Dict{String, Vector{UInt8}}(\"visible\" => [0x84, 0xa8, 0x70, 0x72, 0x6f, 0x70, 0x65, 0x72, 0x74, 0x79  …  0x2c, 0x20, 0x31, 0x2e, 0x30, 0x4e, 0x30, 0x66, 0x38, 0x29]), nothing, Dict{String, MeshCat.SceneTrees.SceneNode}()))), \"130sphere\" => MeshCat.SceneTrees.SceneNode(nothing, UInt8[0x83, 0xa6, 0x6d, 0x61, 0x74, 0x72, 0x69, 0x78, 0xc7, 0x40  …  0x2f, 0x31, 0x33, 0x30, 0x73, 0x70, 0x68, 0x65, 0x72, 0x65], Dict{String, Vector{UInt8}}(\"scale\" => [0x84, 0xa8, 0x70, 0x72, 0x6f, 0x70, 0x65, 0x72, 0x74, 0x79  …  0x2f, 0x31, 0x33, 0x30, 0x73, 0x70, 0x68, 0x65, 0x72, 0x65]), nothing, Dict{String, MeshCat.SceneTrees.SceneNode}(\"(1.0N0f8, 0.0N0f8, 0.0N0f8, 1.0N0f8)\" => MeshCat.SceneTrees.SceneNode(UInt8[0x83, 0xa6, 0x6f, 0x62, 0x6a, 0x65, 0x63, 0x74, 0x84, 0xaa  …  0x2c, 0x20, 0x31, 0x2e, 0x30, 0x4e, 0x30, 0x66, 0x38, 0x29], nothing, Dict{String, Vector{UInt8}}(\"visible\" => [0x84, 0xa8, 0x70, 0x72, 0x6f, 0x70, 0x65, 0x72, 0x74, 0x79  …  0x2c, 0x20, 0x31, 0x2e, 0x30, 0x4e, 0x30, 0x66, 0x38, 0x29]), nothing, Dict{String, MeshCat.SceneTrees.SceneNode}()))), \"51sphere\" => MeshCat.SceneTrees.SceneNode(nothing, UInt8[0x83, 0xa6, 0x6d, 0x61, 0x74, 0x72, 0x69, 0x78, 0xc7, 0x40  …  0x73, 0x2f, 0x35, 0x31, 0x73, 0x70, 0x68, 0x65, 0x72, 0x65], Dict{String, Vector{UInt8}}(\"scale\" => [0x84, 0xa8, 0x70, 0x72, 0x6f, 0x70, 0x65, 0x72, 0x74, 0x79  …  0x73, 0x2f, 0x35, 0x31, 0x73, 0x70, 0x68, 0x65, 0x72, 0x65]), nothing, Dict{String, MeshCat.SceneTrees.SceneNode}(\"(0.0N0f8, 1.0N0f8, 0.0N0f8, 1.0N0f8)\" => MeshCat.SceneTrees.SceneNode(UInt8[0x83, 0xa6, 0x6f, 0x62, 0x6a, 0x65, 0x63, 0x74, 0x84, 0xaa  …  0x2c, 0x20, 0x31, 0x2e, 0x30, 0x4e, 0x30, 0x66, 0x38, 0x29], nothing, Dict{String, Vector{UInt8}}(\"visible\" => [0x84, 0xa8, 0x70, 0x72, 0x6f, 0x70, 0x65, 0x72, 0x74, 0x79  …  0x2c, 0x20, 0x31, 0x2e, 0x30, 0x4e, 0x30, 0x66, 0x38, 0x29]), nothing, Dict{String, MeshCat.SceneTrees.SceneNode}()))), \"9sphere\" => MeshCat.SceneTrees.SceneNode(nothing, UInt8[0x83, 0xa6, 0x6d, 0x61, 0x74, 0x72, 0x69, 0x78, 0xc7, 0x40  …  0x74, 0x73, 0x2f, 0x39, 0x73, 0x70, 0x68, 0x65, 0x72, 0x65], Dict{String, Vector{UInt8}}(\"scale\" => [0x84, 0xa8, 0x70, 0x72, 0x6f, 0x70, 0x65, 0x72, 0x74, 0x79  …  0x74, 0x73, 0x2f, 0x39, 0x73, 0x70, 0x68, 0x65, 0x72, 0x65]), nothing, Dict{String, MeshCat.SceneTrees.SceneNode}(\"(1.0N0f8, 0.0N0f8, 0.0N0f8, 1.0N0f8)\" => MeshCat.SceneTrees.SceneNode(UInt8[0x83, 0xa6, 0x6f, 0x62, 0x6a, 0x65, 0x63, 0x74, 0x84, 0xaa  …  0x2c, 0x20, 0x31, 0x2e, 0x30, 0x4e, 0x30, 0x66, 0x38, 0x29], nothing, Dict{String, Vector{UInt8}}(\"visible\" => [0x84, 0xa8, 0x70, 0x72, 0x6f, 0x70, 0x65, 0x72, 0x74, 0x79  …  0x2c, 0x20, 0x31, 0x2e, 0x30, 0x4e, 0x30, 0x66, 0x38, 0x29]), nothing, Dict{String, MeshCat.SceneTrees.SceneNode}()))), \"154sphere\" => MeshCat.SceneTrees.SceneNode(nothing, UInt8[0x83, 0xa6, 0x6d, 0x61, 0x74, 0x72, 0x69, 0x78, 0xc7, 0x40  …  0x2f, 0x31, 0x35, 0x34, 0x73, 0x70, 0x68, 0x65, 0x72, 0x65], Dict{String, Vector{UInt8}}(\"scale\" => [0x84, 0xa8, 0x70, 0x72, 0x6f, 0x70, 0x65, 0x72, 0x74, 0x79  …  0x2f, 0x31, 0x35, 0x34, 0x73, 0x70, 0x68, 0x65, 0x72, 0x65]), nothing, Dict{String, MeshCat.SceneTrees.SceneNode}(\"(1.0N0f8, 0.0N0f8, 0.0N0f8, 1.0N0f8)\" => MeshCat.SceneTrees.SceneNode(UInt8[0x83, 0xa6, 0x6f, 0x62, 0x6a, 0x65, 0x63, 0x74, 0x84, 0xaa  …  0x2c, 0x20, 0x31, 0x2e, 0x30, 0x4e, 0x30, 0x66, 0x38, 0x29], nothing, Dict{String, Vector{UInt8}}(\"visible\" => [0x84, 0xa8, 0x70, 0x72, 0x6f, 0x70, 0x65, 0x72, 0x74, 0x79  …  0x2c, 0x20, 0x31, 0x2e, 0x30, 0x4e, 0x30, 0x66, 0x38, 0x29]), nothing, Dict{String, MeshCat.SceneTrees.SceneNode}()))), \"102sphere\" => MeshCat.SceneTrees.SceneNode(nothing, UInt8[0x83, 0xa6, 0x6d, 0x61, 0x74, 0x72, 0x69, 0x78, 0xc7, 0x40  …  0x2f, 0x31, 0x30, 0x32, 0x73, 0x70, 0x68, 0x65, 0x72, 0x65], Dict{String, Vector{UInt8}}(\"scale\" => [0x84, 0xa8, 0x70, 0x72, 0x6f, 0x70, 0x65, 0x72, 0x74, 0x79  …  0x2f, 0x31, 0x30, 0x32, 0x73, 0x70, 0x68, 0x65, 0x72, 0x65]), nothing, Dict{String, MeshCat.SceneTrees.SceneNode}(\"(0.0N0f8, 1.0N0f8, 0.0N0f8, 1.0N0f8)\" => MeshCat.SceneTrees.SceneNode(UInt8[0x83, 0xa6, 0x6f, 0x62, 0x6a, 0x65, 0x63, 0x74, 0x84, 0xaa  …  0x2c, 0x20, 0x31, 0x2e, 0x30, 0x4e, 0x30, 0x66, 0x38, 0x29], nothing, Dict{String, Vector{UInt8}}(\"visible\" => [0x84, 0xa8, 0x70, 0x72, 0x6f, 0x70, 0x65, 0x72, 0x74, 0x79  …  0x2c, 0x20, 0x31, 0x2e, 0x30, 0x4e, 0x30, 0x66, 0x38, 0x29]), nothing, Dict{String, MeshCat.SceneTrees.SceneNode}()))), \"64sphere\" => MeshCat.SceneTrees.SceneNode(nothing, UInt8[0x83, 0xa6, 0x6d, 0x61, 0x74, 0x72, 0x69, 0x78, 0xc7, 0x40  …  0x73, 0x2f, 0x36, 0x34, 0x73, 0x70, 0x68, 0x65, 0x72, 0x65], Dict{String, Vector{UInt8}}(\"scale\" => [0x84, 0xa8, 0x70, 0x72, 0x6f, 0x70, 0x65, 0x72, 0x74, 0x79  …  0x73, 0x2f, 0x36, 0x34, 0x73, 0x70, 0x68, 0x65, 0x72, 0x65]), nothing, Dict{String, MeshCat.SceneTrees.SceneNode}(\"(1.0N0f8, 0.0N0f8, 0.0N0f8, 1.0N0f8)\" => MeshCat.SceneTrees.SceneNode(UInt8[0x83, 0xa6, 0x6f, 0x62, 0x6a, 0x65, 0x63, 0x74, 0x84, 0xaa  …  0x2c, 0x20, 0x31, 0x2e, 0x30, 0x4e, 0x30, 0x66, 0x38, 0x29], nothing, Dict{String, Vector{UInt8}}(\"visible\" => [0x84, 0xa8, 0x70, 0x72, 0x6f, 0x70, 0x65, 0x72, 0x74, 0x79  …  0x2c, 0x20, 0x31, 0x2e, 0x30, 0x4e, 0x30, 0x66, 0x38, 0x29]), nothing, Dict{String, MeshCat.SceneTrees.SceneNode}())))…)), \"bbox_line_segments\" => MeshCat.SceneTrees.SceneNode(nothing, nothing, Dict{String, Vector{UInt8}}(), nothing, Dict{String, MeshCat.SceneTrees.SceneNode}(\"4\" => MeshCat.SceneTrees.SceneNode(UInt8[0x83, 0xa6, 0x6f, 0x62, 0x6a, 0x65, 0x63, 0x74, 0x84, 0xaa  …  0x73, 0x65, 0x67, 0x6d, 0x65, 0x6e, 0x74, 0x73, 0x2f, 0x34], nothing, Dict{String, Vector{UInt8}}(), nothing, Dict{String, MeshCat.SceneTrees.SceneNode}()), \"1\" => MeshCat.SceneTrees.SceneNode(UInt8[0x83, 0xa6, 0x6f, 0x62, 0x6a, 0x65, 0x63, 0x74, 0x84, 0xaa  …  0x73, 0x65, 0x67, 0x6d, 0x65, 0x6e, 0x74, 0x73, 0x2f, 0x31], nothing, Dict{String, Vector{UInt8}}(), nothing, Dict{String, MeshCat.SceneTrees.SceneNode}()), \"12\" => MeshCat.SceneTrees.SceneNode(UInt8[0x83, 0xa6, 0x6f, 0x62, 0x6a, 0x65, 0x63, 0x74, 0x84, 0xaa  …  0x65, 0x67, 0x6d, 0x65, 0x6e, 0x74, 0x73, 0x2f, 0x31, 0x32], nothing, Dict{String, Vector{UInt8}}(), nothing, Dict{String, MeshCat.SceneTrees.SceneNode}()), \"2\" => MeshCat.SceneTrees.SceneNode(UInt8[0x83, 0xa6, 0x6f, 0x62, 0x6a, 0x65, 0x63, 0x74, 0x84, 0xaa  …  0x73, 0x65, 0x67, 0x6d, 0x65, 0x6e, 0x74, 0x73, 0x2f, 0x32], nothing, Dict{String, Vector{UInt8}}(), nothing, Dict{String, MeshCat.SceneTrees.SceneNode}()), \"6\" => MeshCat.SceneTrees.SceneNode(UInt8[0x83, 0xa6, 0x6f, 0x62, 0x6a, 0x65, 0x63, 0x74, 0x84, 0xaa  …  0x73, 0x65, 0x67, 0x6d, 0x65, 0x6e, 0x74, 0x73, 0x2f, 0x36], nothing, Dict{String, Vector{UInt8}}(), nothing, Dict{String, MeshCat.SceneTrees.SceneNode}()), \"11\" => MeshCat.SceneTrees.SceneNode(UInt8[0x83, 0xa6, 0x6f, 0x62, 0x6a, 0x65, 0x63, 0x74, 0x84, 0xaa  …  0x65, 0x67, 0x6d, 0x65, 0x6e, 0x74, 0x73, 0x2f, 0x31, 0x31], nothing, Dict{String, Vector{UInt8}}(), nothing, Dict{String, MeshCat.SceneTrees.SceneNode}()), \"5\" => MeshCat.SceneTrees.SceneNode(UInt8[0x83, 0xa6, 0x6f, 0x62, 0x6a, 0x65, 0x63, 0x74, 0x84, 0xaa  …  0x73, 0x65, 0x67, 0x6d, 0x65, 0x6e, 0x74, 0x73, 0x2f, 0x35], nothing, Dict{String, Vector{UInt8}}(), nothing, Dict{String, MeshCat.SceneTrees.SceneNode}()), \"7\" => MeshCat.SceneTrees.SceneNode(UInt8[0x83, 0xa6, 0x6f, 0x62, 0x6a, 0x65, 0x63, 0x74, 0x84, 0xaa  …  0x73, 0x65, 0x67, 0x6d, 0x65, 0x6e, 0x74, 0x73, 0x2f, 0x37], nothing, Dict{String, Vector{UInt8}}(), nothing, Dict{String, MeshCat.SceneTrees.SceneNode}()), \"8\" => MeshCat.SceneTrees.SceneNode(UInt8[0x83, 0xa6, 0x6f, 0x62, 0x6a, 0x65, 0x63, 0x74, 0x84, 0xaa  …  0x73, 0x65, 0x67, 0x6d, 0x65, 0x6e, 0x74, 0x73, 0x2f, 0x38], nothing, Dict{String, Vector{UInt8}}(), nothing, Dict{String, MeshCat.SceneTrees.SceneNode}()), \"10\" => MeshCat.SceneTrees.SceneNode(UInt8[0x83, 0xa6, 0x6f, 0x62, 0x6a, 0x65, 0x63, 0x74, 0x84, 0xaa  …  0x65, 0x67, 0x6d, 0x65, 0x6e, 0x74, 0x73, 0x2f, 0x31, 0x30], nothing, Dict{String, Vector{UInt8}}(), nothing, Dict{String, MeshCat.SceneTrees.SceneNode}())…)))), \"Axes\" => MeshCat.SceneTrees.SceneNode(nothing, nothing, Dict{String, Vector{UInt8}}(), nothing, Dict{String, MeshCat.SceneTrees.SceneNode}(\"<object>\" => MeshCat.SceneTrees.SceneNode(UInt8[0x83, 0xa6, 0x6f, 0x62, 0x6a, 0x65, 0x63, 0x74, 0x84, 0xaa  …  0x73, 0x2f, 0x3c, 0x6f, 0x62, 0x6a, 0x65, 0x63, 0x74, 0x3e], UInt8[0x83, 0xa6, 0x6d, 0x61, 0x74, 0x72, 0x69, 0x78, 0xc7, 0x40  …  0x73, 0x2f, 0x3c, 0x6f, 0x62, 0x6a, 0x65, 0x63, 0x74, 0x3e], Dict{String, Vector{UInt8}}(), nothing, Dict{String, MeshCat.SceneTrees.SceneNode}()))))), Set{HTTP.WebSockets.WebSocket}(), ip\"127.0.0.1\", 8701))), WebIO.Node{WebIO.DOM}(WebIO.DOM(:html, :div), Any[WebIO.Scope(WebIO.Node{WebIO.DOM}(WebIO.DOM(:html, :div), Any[], Dict{Symbol, Any}(:id => \"container\")), Dict{String, Tuple{Observables.AbstractObservable, Union{Nothing, Bool}}}(\"value\" => (Observable(\"\\\\;\\\\;\"), nothing)), Set{String}(), nothing, WebIO.Asset[WebIO.Asset(\"js\", nothing, \"/home/dushya/.julia/packages/InteractBase/LJXv3/src/../assets/katex.min.js\"), WebIO.Asset(\"css\", nothing, \"/home/dushya/.julia/packages/InteractBase/LJXv3/src/../assets/katex.min.css\")], Dict{Any, Any}(\"value\" => Any[WebIO.JSString(\"(function (txt){return this.k.render(txt,this.container)})\")]), WebIO.ConnectionPool(Channel{Any}(32), Set{WebIO.AbstractConnection}(), Base.GenericCondition{ReentrantLock}(Base.IntrusiveLinkedList{Task}(Task (runnable) @0x00007f26d479df50, Task (runnable) @0x00007f26d479df50), ReentrantLock(nothing, 0x00000000, 0x00, Base.GenericCondition{Base.Threads.SpinLock}(Base.IntrusiveLinkedList{Task}(nothing, nothing), Base.Threads.SpinLock(0)), (0, 139805895684992, 4294967297)))), WebIO.JSString[WebIO.JSString(\"function () {\\n    var handler = ((function (k){this.k=k; this.container=this.dom.querySelector(\\\"#container\\\"); return k.render(\\\"\\\\\\\\;\\\\\\\\;\\\",this.container)}));\\n    (WebIO.importBlock({\\\"data\\\":[{\\\"name\\\":null,\\\"type\\\":\\\"js\\\",\\\"url\\\":\\\"/assetserver/dd22ed1bf1896c2748f3fe616ce0b838adc895c1-katex.min.js\\\"},{\\\"name\\\":null,\\\"type\\\":\\\"css\\\",\\\"url\\\":\\\"/assetserver/46517a424aa5e6cffc1360d7e0848b601c584ee3-katex.min.css\\\"}],\\\"type\\\":\\\"async_block\\\"})).then((imports) => handler.apply(this, imports));\\n}\\n\")])], Dict{Symbol, Any}(:className => \"interact-widget\")), WebIO.Node{WebIO.DOM}(WebIO.DOM(:html, :div), Any[Observable(Plot{Plots.GRBackend() n=1})], Dict{Symbol, Any}(:style => Dict(\"display\" => \"flex\", \"flex-direction\" => \"column\")))], Dict{Symbol, Any}(:style => Dict(\"display\" => \"flex\", \"flex-direction\" => \"row\")))], Dict{Symbol, Any}(:style => Dict(\"display\" => \"flex\", \"flex-direction\" => \"column\")))"
      ]
     },
     "execution_count": 8,
     "metadata": {
      "application/vnd.webio.node+json": {
       "kernelId": "e5c0945a-d067-4dbd-aea6-91b59583cc8b"
      }
     },
     "output_type": "execute_result"
    }
   ],
   "source": [
    "animate_sim(model, 20, agent_plots = Dict(\n",
    "        \"happy\"=> ag -> ag.mood == happy ? 1 : 0\n",
    "        ))"
   ]
  },
  {
   "cell_type": "markdown",
   "metadata": {},
   "source": [
    "After defining the `step_rule!` function we can also choose to create an interactive application (which currently works in Jupyter with WebIO installation) as "
   ]
  },
  {
   "cell_type": "code",
   "execution_count": 9,
   "metadata": {},
   "outputs": [
    {
     "name": "stderr",
     "output_type": "stream",
     "text": [
      "\u001b[36m\u001b[1m[ \u001b[22m\u001b[39m\u001b[36m\u001b[1mInfo: \u001b[22m\u001b[39mListening on: 127.0.0.1:8702, thread id: 1\n",
      "\u001b[36m\u001b[1m┌ \u001b[22m\u001b[39m\u001b[36m\u001b[1mInfo: \u001b[22m\u001b[39mMeshCat server started. You can open the visualizer by visiting the following URL in your browser:\n",
      "\u001b[36m\u001b[1m└ \u001b[22m\u001b[39mhttp://127.0.0.1:8702\n"
     ]
    },
    {
     "data": {
      "application/vnd.webio.node+json": {
       "children": [
        {
         "children": [
          {
           "children": [
            {
             "children": [
              {
               "children": [
                {
                 "children": [
                  {
                   "children": [
                    {
                     "children": [
                      "time"
                     ],
                     "instanceArgs": {
                      "namespace": "html",
                      "tag": "label"
                     },
                     "nodeType": "DOM",
                     "props": {
                      "className": "interact ",
                      "style": {
                       "padding": "5px 10px 0px 10px"
                      }
                     },
                     "type": "node"
                    }
                   ],
                   "instanceArgs": {
                    "namespace": "html",
                    "tag": "div"
                   },
                   "nodeType": "DOM",
                   "props": {
                    "className": "interact-flex-row-left"
                   },
                   "type": "node"
                  },
                  {
                   "children": [
                    {
                     "children": [],
                     "instanceArgs": {
                      "namespace": "html",
                      "tag": "input"
                     },
                     "nodeType": "DOM",
                     "props": {
                      "attributes": {
                       "data-bind": "numericValue: index, valueUpdate: 'input', event: {change: function (){this.changes(this.changes()+1)}}",
                       "orient": "horizontal",
                       "type": "range"
                      },
                      "className": "slider slider is-fullwidth",
                      "max": 200,
                      "min": 1,
                      "step": 1,
                      "style": {}
                     },
                     "type": "node"
                    }
                   ],
                   "instanceArgs": {
                    "namespace": "html",
                    "tag": "div"
                   },
                   "nodeType": "DOM",
                   "props": {
                    "className": "interact-flex-row-center"
                   },
                   "type": "node"
                  },
                  {
                   "children": [
                    {
                     "children": [],
                     "instanceArgs": {
                      "namespace": "html",
                      "tag": "p"
                     },
                     "nodeType": "DOM",
                     "props": {
                      "attributes": {
                       "data-bind": "text: formatted_val"
                      }
                     },
                     "type": "node"
                    }
                   ],
                   "instanceArgs": {
                    "namespace": "html",
                    "tag": "div"
                   },
                   "nodeType": "DOM",
                   "props": {
                    "className": "interact-flex-row-right"
                   },
                   "type": "node"
                  }
                 ],
                 "instanceArgs": {
                  "namespace": "html",
                  "tag": "div"
                 },
                 "nodeType": "DOM",
                 "props": {
                  "className": "interact-flex-row interact-widget"
                 },
                 "type": "node"
                }
               ],
               "instanceArgs": {
                "handlers": {
                 "changes": [
                  "(function (val){return (val!=this.model[\"changes\"]()) ? (this.valueFromJulia[\"changes\"]=true, this.model[\"changes\"](val)) : undefined})"
                 ],
                 "index": [
                  "(function (val){return (val!=this.model[\"index\"]()) ? (this.valueFromJulia[\"index\"]=true, this.model[\"index\"](val)) : undefined})"
                 ]
                },
                "id": "5740188537462568722",
                "imports": {
                 "data": [
                  {
                   "name": "knockout",
                   "type": "js",
                   "url": "/assetserver/727383f2a47bd31570b7da84eee7b022dd6d7c78-knockout.js"
                  },
                  {
                   "name": "knockout_punches",
                   "type": "js",
                   "url": "/assetserver/382b41b3b1bd9f26f75861d360bad7f8beea211f-knockout_punches.js"
                  },
                  {
                   "name": null,
                   "type": "js",
                   "url": "/assetserver/5ab20f1060420992a9b82a65b735dee4d81ef413-all.js"
                  },
                  {
                   "name": null,
                   "type": "css",
                   "url": "/assetserver/1cc0ed62837210b80a182cc3676512f895dab686-style.css"
                  },
                  {
                   "name": null,
                   "type": "css",
                   "url": "/assetserver/2eee816f616df3549d7044d45e744fbf8d42bfa1-bulma_confined.min.css"
                  }
                 ],
                 "type": "async_block"
                },
                "mount_callbacks": [
                 "function () {\n    var handler = (function (ko, koPunches) {\n    ko.punches.enableAll();\n    ko.bindingHandlers.numericValue = {\n        init: function(element, valueAccessor, allBindings, data, context) {\n            var stringified = ko.observable(ko.unwrap(valueAccessor()));\n            stringified.subscribe(function(value) {\n                var val = parseFloat(value);\n                if (!isNaN(val)) {\n                    valueAccessor()(val);\n                }\n            });\n            valueAccessor().subscribe(function(value) {\n                var str = JSON.stringify(value);\n                if ((str == \"0\") && ([\"-0\", \"-0.\"].indexOf(stringified()) >= 0))\n                     return;\n                 if ([\"null\", \"\"].indexOf(str) >= 0)\n                     return;\n                stringified(str);\n            });\n            ko.applyBindingsToNode(\n                element,\n                {\n                    value: stringified,\n                    valueUpdate: allBindings.get('valueUpdate'),\n                },\n                context,\n            );\n        }\n    };\n    var json_data = {\"formatted_vals\":[\"1\",\"2\",\"3\",\"4\",\"5\",\"6\",\"7\",\"8\",\"9\",\"10\",\"11\",\"12\",\"13\",\"14\",\"15\",\"16\",\"17\",\"18\",\"19\",\"20\",\"21\",\"22\",\"23\",\"24\",\"25\",\"26\",\"27\",\"28\",\"29\",\"30\",\"31\",\"32\",\"33\",\"34\",\"35\",\"36\",\"37\",\"38\",\"39\",\"40\",\"41\",\"42\",\"43\",\"44\",\"45\",\"46\",\"47\",\"48\",\"49\",\"50\",\"51\",\"52\",\"53\",\"54\",\"55\",\"56\",\"57\",\"58\",\"59\",\"60\",\"61\",\"62\",\"63\",\"64\",\"65\",\"66\",\"67\",\"68\",\"69\",\"70\",\"71\",\"72\",\"73\",\"74\",\"75\",\"76\",\"77\",\"78\",\"79\",\"80\",\"81\",\"82\",\"83\",\"84\",\"85\",\"86\",\"87\",\"88\",\"89\",\"90\",\"91\",\"92\",\"93\",\"94\",\"95\",\"96\",\"97\",\"98\",\"99\",\"100\",\"101\",\"102\",\"103\",\"104\",\"105\",\"106\",\"107\",\"108\",\"109\",\"110\",\"111\",\"112\",\"113\",\"114\",\"115\",\"116\",\"117\",\"118\",\"119\",\"120\",\"121\",\"122\",\"123\",\"124\",\"125\",\"126\",\"127\",\"128\",\"129\",\"130\",\"131\",\"132\",\"133\",\"134\",\"135\",\"136\",\"137\",\"138\",\"139\",\"140\",\"141\",\"142\",\"143\",\"144\",\"145\",\"146\",\"147\",\"148\",\"149\",\"150\",\"151\",\"152\",\"153\",\"154\",\"155\",\"156\",\"157\",\"158\",\"159\",\"160\",\"161\",\"162\",\"163\",\"164\",\"165\",\"166\",\"167\",\"168\",\"169\",\"170\",\"171\",\"172\",\"173\",\"174\",\"175\",\"176\",\"177\",\"178\",\"179\",\"180\",\"181\",\"182\",\"183\",\"184\",\"185\",\"186\",\"187\",\"188\",\"189\",\"190\",\"191\",\"192\",\"193\",\"194\",\"195\",\"196\",\"197\",\"198\",\"199\",\"200\"],\"changes\":WebIO.getval({\"name\":\"changes\",\"scope\":\"5740188537462568722\",\"id\":\"9403001061244740146\",\"type\":\"observable\"}),\"index\":WebIO.getval({\"name\":\"index\",\"scope\":\"5740188537462568722\",\"id\":\"12835508483078130718\",\"type\":\"observable\"})};\n    var self = this;\n    function AppViewModel() {\n        for (var key in json_data) {\n            var el = json_data[key];\n            this[key] = Array.isArray(el) ? ko.observableArray(el) : ko.observable(el);\n        }\n        \n        [this[\"formatted_val\"]=ko.computed(    function(){\n        return this.formatted_vals()[parseInt(this.index())-(1)];\n    }\n,this)]\n        [this[\"changes\"].subscribe((function (val){!(this.valueFromJulia[\"changes\"]) ? (WebIO.setval({\"name\":\"changes\",\"scope\":\"5740188537462568722\",\"id\":\"9403001061244740146\",\"type\":\"observable\"},val)) : undefined; return this.valueFromJulia[\"changes\"]=false}),self),this[\"index\"].subscribe((function (val){!(this.valueFromJulia[\"index\"]) ? (WebIO.setval({\"name\":\"index\",\"scope\":\"5740188537462568722\",\"id\":\"12835508483078130718\",\"type\":\"observable\"},val)) : undefined; return this.valueFromJulia[\"index\"]=false}),self)]\n        \n    }\n    self.model = new AppViewModel();\n    self.valueFromJulia = {};\n    for (var key in json_data) {\n        self.valueFromJulia[key] = false;\n    }\n    ko.applyBindings(self.model, self.dom);\n}\n);\n    (WebIO.importBlock({\"data\":[{\"name\":\"knockout\",\"type\":\"js\",\"url\":\"/assetserver/727383f2a47bd31570b7da84eee7b022dd6d7c78-knockout.js\"},{\"name\":\"knockout_punches\",\"type\":\"js\",\"url\":\"/assetserver/382b41b3b1bd9f26f75861d360bad7f8beea211f-knockout_punches.js\"}],\"type\":\"async_block\"})).then((imports) => handler.apply(this, imports));\n}\n"
                ],
                "observables": {
                 "changes": {
                  "id": "9403001061244740146",
                  "sync": false,
                  "value": 0
                 },
                 "index": {
                  "id": "12835508483078130718",
                  "sync": true,
                  "value": 1
                 }
                },
                "systemjs_options": null
               },
               "nodeType": "Scope",
               "props": {},
               "type": "node"
              }
             ],
             "instanceArgs": {
              "namespace": "html",
              "tag": "div"
             },
             "nodeType": "DOM",
             "props": {
              "className": "field interact-widget"
             },
             "type": "node"
            },
            {
             "children": [
              {
               "children": [
                {
                 "children": [
                  {
                   "children": [
                    {
                     "children": [
                      "scale"
                     ],
                     "instanceArgs": {
                      "namespace": "html",
                      "tag": "label"
                     },
                     "nodeType": "DOM",
                     "props": {
                      "className": "interact ",
                      "style": {
                       "padding": "5px 10px 0px 10px"
                      }
                     },
                     "type": "node"
                    }
                   ],
                   "instanceArgs": {
                    "namespace": "html",
                    "tag": "div"
                   },
                   "nodeType": "DOM",
                   "props": {
                    "className": "interact-flex-row-left"
                   },
                   "type": "node"
                  },
                  {
                   "children": [
                    {
                     "children": [],
                     "instanceArgs": {
                      "namespace": "html",
                      "tag": "input"
                     },
                     "nodeType": "DOM",
                     "props": {
                      "attributes": {
                       "data-bind": "numericValue: index, valueUpdate: 'input', event: {change: function (){this.changes(this.changes()+1)}}",
                       "orient": "horizontal",
                       "type": "range"
                      },
                      "className": "slider slider is-fullwidth",
                      "max": 20,
                      "min": 1,
                      "step": 1,
                      "style": {}
                     },
                     "type": "node"
                    }
                   ],
                   "instanceArgs": {
                    "namespace": "html",
                    "tag": "div"
                   },
                   "nodeType": "DOM",
                   "props": {
                    "className": "interact-flex-row-center"
                   },
                   "type": "node"
                  },
                  {
                   "children": [
                    {
                     "children": [],
                     "instanceArgs": {
                      "namespace": "html",
                      "tag": "p"
                     },
                     "nodeType": "DOM",
                     "props": {
                      "attributes": {
                       "data-bind": "text: formatted_val"
                      }
                     },
                     "type": "node"
                    }
                   ],
                   "instanceArgs": {
                    "namespace": "html",
                    "tag": "div"
                   },
                   "nodeType": "DOM",
                   "props": {
                    "className": "interact-flex-row-right"
                   },
                   "type": "node"
                  }
                 ],
                 "instanceArgs": {
                  "namespace": "html",
                  "tag": "div"
                 },
                 "nodeType": "DOM",
                 "props": {
                  "className": "interact-flex-row interact-widget"
                 },
                 "type": "node"
                }
               ],
               "instanceArgs": {
                "handlers": {
                 "changes": [
                  "(function (val){return (val!=this.model[\"changes\"]()) ? (this.valueFromJulia[\"changes\"]=true, this.model[\"changes\"](val)) : undefined})"
                 ],
                 "index": [
                  "(function (val){return (val!=this.model[\"index\"]()) ? (this.valueFromJulia[\"index\"]=true, this.model[\"index\"](val)) : undefined})"
                 ]
                },
                "id": "7823398443230207596",
                "imports": {
                 "data": [
                  {
                   "name": "knockout",
                   "type": "js",
                   "url": "/assetserver/727383f2a47bd31570b7da84eee7b022dd6d7c78-knockout.js"
                  },
                  {
                   "name": "knockout_punches",
                   "type": "js",
                   "url": "/assetserver/382b41b3b1bd9f26f75861d360bad7f8beea211f-knockout_punches.js"
                  },
                  {
                   "name": null,
                   "type": "js",
                   "url": "/assetserver/5ab20f1060420992a9b82a65b735dee4d81ef413-all.js"
                  },
                  {
                   "name": null,
                   "type": "css",
                   "url": "/assetserver/1cc0ed62837210b80a182cc3676512f895dab686-style.css"
                  },
                  {
                   "name": null,
                   "type": "css",
                   "url": "/assetserver/2eee816f616df3549d7044d45e744fbf8d42bfa1-bulma_confined.min.css"
                  }
                 ],
                 "type": "async_block"
                },
                "mount_callbacks": [
                 "function () {\n    var handler = (function (ko, koPunches) {\n    ko.punches.enableAll();\n    ko.bindingHandlers.numericValue = {\n        init: function(element, valueAccessor, allBindings, data, context) {\n            var stringified = ko.observable(ko.unwrap(valueAccessor()));\n            stringified.subscribe(function(value) {\n                var val = parseFloat(value);\n                if (!isNaN(val)) {\n                    valueAccessor()(val);\n                }\n            });\n            valueAccessor().subscribe(function(value) {\n                var str = JSON.stringify(value);\n                if ((str == \"0\") && ([\"-0\", \"-0.\"].indexOf(stringified()) >= 0))\n                     return;\n                 if ([\"null\", \"\"].indexOf(str) >= 0)\n                     return;\n                stringified(str);\n            });\n            ko.applyBindingsToNode(\n                element,\n                {\n                    value: stringified,\n                    valueUpdate: allBindings.get('valueUpdate'),\n                },\n                context,\n            );\n        }\n    };\n    var json_data = {\"formatted_vals\":[\"0.1\",\"0.2\",\"0.3\",\"0.4\",\"0.5\",\"0.6\",\"0.7\",\"0.8\",\"0.9\",\"1.0\",\"1.1\",\"1.2\",\"1.3\",\"1.4\",\"1.5\",\"1.6\",\"1.7\",\"1.8\",\"1.9\",\"2.0\"],\"changes\":WebIO.getval({\"name\":\"changes\",\"scope\":\"7823398443230207596\",\"id\":\"18191329181811061022\",\"type\":\"observable\"}),\"index\":WebIO.getval({\"name\":\"index\",\"scope\":\"7823398443230207596\",\"id\":\"2317692519467890911\",\"type\":\"observable\"})};\n    var self = this;\n    function AppViewModel() {\n        for (var key in json_data) {\n            var el = json_data[key];\n            this[key] = Array.isArray(el) ? ko.observableArray(el) : ko.observable(el);\n        }\n        \n        [this[\"formatted_val\"]=ko.computed(    function(){\n        return this.formatted_vals()[parseInt(this.index())-(1)];\n    }\n,this)]\n        [this[\"changes\"].subscribe((function (val){!(this.valueFromJulia[\"changes\"]) ? (WebIO.setval({\"name\":\"changes\",\"scope\":\"7823398443230207596\",\"id\":\"18191329181811061022\",\"type\":\"observable\"},val)) : undefined; return this.valueFromJulia[\"changes\"]=false}),self),this[\"index\"].subscribe((function (val){!(this.valueFromJulia[\"index\"]) ? (WebIO.setval({\"name\":\"index\",\"scope\":\"7823398443230207596\",\"id\":\"2317692519467890911\",\"type\":\"observable\"},val)) : undefined; return this.valueFromJulia[\"index\"]=false}),self)]\n        \n    }\n    self.model = new AppViewModel();\n    self.valueFromJulia = {};\n    for (var key in json_data) {\n        self.valueFromJulia[key] = false;\n    }\n    ko.applyBindings(self.model, self.dom);\n}\n);\n    (WebIO.importBlock({\"data\":[{\"name\":\"knockout\",\"type\":\"js\",\"url\":\"/assetserver/727383f2a47bd31570b7da84eee7b022dd6d7c78-knockout.js\"},{\"name\":\"knockout_punches\",\"type\":\"js\",\"url\":\"/assetserver/382b41b3b1bd9f26f75861d360bad7f8beea211f-knockout_punches.js\"}],\"type\":\"async_block\"})).then((imports) => handler.apply(this, imports));\n}\n"
                ],
                "observables": {
                 "changes": {
                  "id": "18191329181811061022",
                  "sync": false,
                  "value": 0
                 },
                 "index": {
                  "id": "2317692519467890911",
                  "sync": true,
                  "value": 10
                 }
                },
                "systemjs_options": null
               },
               "nodeType": "Scope",
               "props": {},
               "type": "node"
              }
             ],
             "instanceArgs": {
              "namespace": "html",
              "tag": "div"
             },
             "nodeType": "DOM",
             "props": {
              "className": "field interact-widget"
             },
             "type": "node"
            },
            {
             "children": [],
             "instanceArgs": {
              "namespace": "html",
              "tag": "div"
             },
             "nodeType": "DOM",
             "props": {
              "style": {
               "display": "flex",
               "flex-direction": "column"
              }
             },
             "type": "node"
            },
            {
             "children": [
              {
               "children": [
                {
                 "children": [
                  {
                   "children": [
                    {
                     "children": [
                      {
                       "children": [
                        "min_alike"
                       ],
                       "instanceArgs": {
                        "namespace": "html",
                        "tag": "label"
                       },
                       "nodeType": "DOM",
                       "props": {
                        "className": "interact ",
                        "style": {
                         "padding": "5px 10px 0px 10px"
                        }
                       },
                       "type": "node"
                      }
                     ],
                     "instanceArgs": {
                      "namespace": "html",
                      "tag": "div"
                     },
                     "nodeType": "DOM",
                     "props": {
                      "className": "interact-flex-row-left"
                     },
                     "type": "node"
                    },
                    {
                     "children": [
                      {
                       "children": [],
                       "instanceArgs": {
                        "namespace": "html",
                        "tag": "input"
                       },
                       "nodeType": "DOM",
                       "props": {
                        "attributes": {
                         "data-bind": "numericValue: index, valueUpdate: 'input', event: {change: function (){this.changes(this.changes()+1)}}",
                         "orient": "horizontal",
                         "type": "range"
                        },
                        "className": "slider slider is-fullwidth",
                        "max": 12,
                        "min": 1,
                        "step": 1,
                        "style": {}
                       },
                       "type": "node"
                      }
                     ],
                     "instanceArgs": {
                      "namespace": "html",
                      "tag": "div"
                     },
                     "nodeType": "DOM",
                     "props": {
                      "className": "interact-flex-row-center"
                     },
                     "type": "node"
                    },
                    {
                     "children": [
                      {
                       "children": [],
                       "instanceArgs": {
                        "namespace": "html",
                        "tag": "p"
                       },
                       "nodeType": "DOM",
                       "props": {
                        "attributes": {
                         "data-bind": "text: formatted_val"
                        }
                       },
                       "type": "node"
                      }
                     ],
                     "instanceArgs": {
                      "namespace": "html",
                      "tag": "div"
                     },
                     "nodeType": "DOM",
                     "props": {
                      "className": "interact-flex-row-right"
                     },
                     "type": "node"
                    }
                   ],
                   "instanceArgs": {
                    "namespace": "html",
                    "tag": "div"
                   },
                   "nodeType": "DOM",
                   "props": {
                    "className": "interact-flex-row interact-widget"
                   },
                   "type": "node"
                  }
                 ],
                 "instanceArgs": {
                  "handlers": {
                   "changes": [
                    "(function (val){return (val!=this.model[\"changes\"]()) ? (this.valueFromJulia[\"changes\"]=true, this.model[\"changes\"](val)) : undefined})"
                   ],
                   "index": [
                    "(function (val){return (val!=this.model[\"index\"]()) ? (this.valueFromJulia[\"index\"]=true, this.model[\"index\"](val)) : undefined})"
                   ]
                  },
                  "id": "8750465584019894698",
                  "imports": {
                   "data": [
                    {
                     "name": "knockout",
                     "type": "js",
                     "url": "/assetserver/727383f2a47bd31570b7da84eee7b022dd6d7c78-knockout.js"
                    },
                    {
                     "name": "knockout_punches",
                     "type": "js",
                     "url": "/assetserver/382b41b3b1bd9f26f75861d360bad7f8beea211f-knockout_punches.js"
                    },
                    {
                     "name": null,
                     "type": "js",
                     "url": "/assetserver/5ab20f1060420992a9b82a65b735dee4d81ef413-all.js"
                    },
                    {
                     "name": null,
                     "type": "css",
                     "url": "/assetserver/1cc0ed62837210b80a182cc3676512f895dab686-style.css"
                    },
                    {
                     "name": null,
                     "type": "css",
                     "url": "/assetserver/2eee816f616df3549d7044d45e744fbf8d42bfa1-bulma_confined.min.css"
                    }
                   ],
                   "type": "async_block"
                  },
                  "mount_callbacks": [
                   "function () {\n    var handler = (function (ko, koPunches) {\n    ko.punches.enableAll();\n    ko.bindingHandlers.numericValue = {\n        init: function(element, valueAccessor, allBindings, data, context) {\n            var stringified = ko.observable(ko.unwrap(valueAccessor()));\n            stringified.subscribe(function(value) {\n                var val = parseFloat(value);\n                if (!isNaN(val)) {\n                    valueAccessor()(val);\n                }\n            });\n            valueAccessor().subscribe(function(value) {\n                var str = JSON.stringify(value);\n                if ((str == \"0\") && ([\"-0\", \"-0.\"].indexOf(stringified()) >= 0))\n                     return;\n                 if ([\"null\", \"\"].indexOf(str) >= 0)\n                     return;\n                stringified(str);\n            });\n            ko.applyBindingsToNode(\n                element,\n                {\n                    value: stringified,\n                    valueUpdate: allBindings.get('valueUpdate'),\n                },\n                context,\n            );\n        }\n    };\n    var json_data = {\"formatted_vals\":[\"1\",\"2\",\"3\",\"4\",\"5\",\"6\",\"7\",\"8\",\"9\",\"10\",\"11\",\"12\"],\"changes\":WebIO.getval({\"name\":\"changes\",\"scope\":\"8750465584019894698\",\"id\":\"17530735813787292228\",\"type\":\"observable\"}),\"index\":WebIO.getval({\"name\":\"index\",\"scope\":\"8750465584019894698\",\"id\":\"15626640344440451037\",\"type\":\"observable\"})};\n    var self = this;\n    function AppViewModel() {\n        for (var key in json_data) {\n            var el = json_data[key];\n            this[key] = Array.isArray(el) ? ko.observableArray(el) : ko.observable(el);\n        }\n        \n        [this[\"formatted_val\"]=ko.computed(    function(){\n        return this.formatted_vals()[parseInt(this.index())-(1)];\n    }\n,this)]\n        [this[\"changes\"].subscribe((function (val){!(this.valueFromJulia[\"changes\"]) ? (WebIO.setval({\"name\":\"changes\",\"scope\":\"8750465584019894698\",\"id\":\"17530735813787292228\",\"type\":\"observable\"},val)) : undefined; return this.valueFromJulia[\"changes\"]=false}),self),this[\"index\"].subscribe((function (val){!(this.valueFromJulia[\"index\"]) ? (WebIO.setval({\"name\":\"index\",\"scope\":\"8750465584019894698\",\"id\":\"15626640344440451037\",\"type\":\"observable\"},val)) : undefined; return this.valueFromJulia[\"index\"]=false}),self)]\n        \n    }\n    self.model = new AppViewModel();\n    self.valueFromJulia = {};\n    for (var key in json_data) {\n        self.valueFromJulia[key] = false;\n    }\n    ko.applyBindings(self.model, self.dom);\n}\n);\n    (WebIO.importBlock({\"data\":[{\"name\":\"knockout\",\"type\":\"js\",\"url\":\"/assetserver/727383f2a47bd31570b7da84eee7b022dd6d7c78-knockout.js\"},{\"name\":\"knockout_punches\",\"type\":\"js\",\"url\":\"/assetserver/382b41b3b1bd9f26f75861d360bad7f8beea211f-knockout_punches.js\"}],\"type\":\"async_block\"})).then((imports) => handler.apply(this, imports));\n}\n"
                  ],
                  "observables": {
                   "changes": {
                    "id": "17530735813787292228",
                    "sync": false,
                    "value": 0
                   },
                   "index": {
                    "id": "15626640344440451037",
                    "sync": true,
                    "value": 6
                   }
                  },
                  "systemjs_options": null
                 },
                 "nodeType": "Scope",
                 "props": {},
                 "type": "node"
                }
               ],
               "instanceArgs": {
                "namespace": "html",
                "tag": "div"
               },
               "nodeType": "DOM",
               "props": {
                "className": "field interact-widget"
               },
               "type": "node"
              }
             ],
             "instanceArgs": {
              "namespace": "html",
              "tag": "div"
             },
             "nodeType": "DOM",
             "props": {
              "style": {
               "display": "flex",
               "flex-direction": "column"
              }
             },
             "type": "node"
            },
            {
             "children": [
              {
               "children": [
                {
                 "children": [
                  {
                   "children": [],
                   "instanceArgs": {
                    "namespace": "html",
                    "tag": "div"
                   },
                   "nodeType": "DOM",
                   "props": {
                    "id": "container"
                   },
                   "type": "node"
                  }
                 ],
                 "instanceArgs": {
                  "handlers": {
                   "value": [
                    "(function (txt){return this.k.render(txt,this.container)})"
                   ]
                  },
                  "id": "12483463203330786706",
                  "imports": {
                   "data": [
                    {
                     "name": null,
                     "type": "js",
                     "url": "/assetserver/dd22ed1bf1896c2748f3fe616ce0b838adc895c1-katex.min.js"
                    },
                    {
                     "name": null,
                     "type": "css",
                     "url": "/assetserver/46517a424aa5e6cffc1360d7e0848b601c584ee3-katex.min.css"
                    }
                   ],
                   "type": "async_block"
                  },
                  "mount_callbacks": [
                   "function () {\n    var handler = ((function (k){this.k=k; this.container=this.dom.querySelector(\"#container\"); return k.render(\"\\\\;\\\\;\",this.container)}));\n    (WebIO.importBlock({\"data\":[{\"name\":null,\"type\":\"js\",\"url\":\"/assetserver/dd22ed1bf1896c2748f3fe616ce0b838adc895c1-katex.min.js\"},{\"name\":null,\"type\":\"css\",\"url\":\"/assetserver/46517a424aa5e6cffc1360d7e0848b601c584ee3-katex.min.css\"}],\"type\":\"async_block\"})).then((imports) => handler.apply(this, imports));\n}\n"
                  ],
                  "observables": {
                   "value": {
                    "id": "2698617157065856108",
                    "sync": false,
                    "value": "\\;\\;"
                   }
                  },
                  "systemjs_options": null
                 },
                 "nodeType": "Scope",
                 "props": {},
                 "type": "node"
                }
               ],
               "instanceArgs": {
                "namespace": "html",
                "tag": "div"
               },
               "nodeType": "DOM",
               "props": {
                "className": "interact-widget"
               },
               "type": "node"
              },
              {
               "children": [
                {
                 "children": [
                  {
                   "children": [
                    "run"
                   ],
                   "instanceArgs": {
                    "namespace": "html",
                    "tag": "button"
                   },
                   "nodeType": "DOM",
                   "props": {
                    "attributes": {
                     "data-bind": "click: function (){this.clicks(this.clicks()+1)}, css: {'is-loading' : loading}"
                    },
                    "className": "is-medium button is-primary",
                    "style": {}
                   },
                   "type": "node"
                  }
                 ],
                 "instanceArgs": {
                  "handlers": {
                   "clicks": [
                    "(function (val){return (val!=this.model[\"clicks\"]()) ? (this.valueFromJulia[\"clicks\"]=true, this.model[\"clicks\"](val)) : undefined})"
                   ],
                   "loading": [
                    "(function (val){return (val!=this.model[\"loading\"]()) ? (this.valueFromJulia[\"loading\"]=true, this.model[\"loading\"](val)) : undefined})"
                   ]
                  },
                  "id": "2496389441693852700",
                  "imports": {
                   "data": [
                    {
                     "name": "knockout",
                     "type": "js",
                     "url": "/assetserver/727383f2a47bd31570b7da84eee7b022dd6d7c78-knockout.js"
                    },
                    {
                     "name": "knockout_punches",
                     "type": "js",
                     "url": "/assetserver/382b41b3b1bd9f26f75861d360bad7f8beea211f-knockout_punches.js"
                    },
                    {
                     "name": null,
                     "type": "js",
                     "url": "/assetserver/5ab20f1060420992a9b82a65b735dee4d81ef413-all.js"
                    },
                    {
                     "name": null,
                     "type": "css",
                     "url": "/assetserver/1cc0ed62837210b80a182cc3676512f895dab686-style.css"
                    },
                    {
                     "name": null,
                     "type": "css",
                     "url": "/assetserver/2eee816f616df3549d7044d45e744fbf8d42bfa1-bulma_confined.min.css"
                    }
                   ],
                   "type": "async_block"
                  },
                  "mount_callbacks": [
                   "function () {\n    var handler = (function (ko, koPunches) {\n    ko.punches.enableAll();\n    ko.bindingHandlers.numericValue = {\n        init: function(element, valueAccessor, allBindings, data, context) {\n            var stringified = ko.observable(ko.unwrap(valueAccessor()));\n            stringified.subscribe(function(value) {\n                var val = parseFloat(value);\n                if (!isNaN(val)) {\n                    valueAccessor()(val);\n                }\n            });\n            valueAccessor().subscribe(function(value) {\n                var str = JSON.stringify(value);\n                if ((str == \"0\") && ([\"-0\", \"-0.\"].indexOf(stringified()) >= 0))\n                     return;\n                 if ([\"null\", \"\"].indexOf(str) >= 0)\n                     return;\n                stringified(str);\n            });\n            ko.applyBindingsToNode(\n                element,\n                {\n                    value: stringified,\n                    valueUpdate: allBindings.get('valueUpdate'),\n                },\n                context,\n            );\n        }\n    };\n    var json_data = {\"loading\":WebIO.getval({\"name\":\"loading\",\"scope\":\"2496389441693852700\",\"id\":\"2292972733902601506\",\"type\":\"observable\"}),\"clicks\":WebIO.getval({\"name\":\"clicks\",\"scope\":\"2496389441693852700\",\"id\":\"854018639136150712\",\"type\":\"observable\"})};\n    var self = this;\n    function AppViewModel() {\n        for (var key in json_data) {\n            var el = json_data[key];\n            this[key] = Array.isArray(el) ? ko.observableArray(el) : ko.observable(el);\n        }\n        \n        \n        [this[\"loading\"].subscribe((function (val){!(this.valueFromJulia[\"loading\"]) ? (WebIO.setval({\"name\":\"loading\",\"scope\":\"2496389441693852700\",\"id\":\"2292972733902601506\",\"type\":\"observable\"},val)) : undefined; return this.valueFromJulia[\"loading\"]=false}),self),this[\"clicks\"].subscribe((function (val){!(this.valueFromJulia[\"clicks\"]) ? (WebIO.setval({\"name\":\"clicks\",\"scope\":\"2496389441693852700\",\"id\":\"854018639136150712\",\"type\":\"observable\"},val)) : undefined; return this.valueFromJulia[\"clicks\"]=false}),self)]\n        \n    }\n    self.model = new AppViewModel();\n    self.valueFromJulia = {};\n    for (var key in json_data) {\n        self.valueFromJulia[key] = false;\n    }\n    ko.applyBindings(self.model, self.dom);\n}\n);\n    (WebIO.importBlock({\"data\":[{\"name\":\"knockout\",\"type\":\"js\",\"url\":\"/assetserver/727383f2a47bd31570b7da84eee7b022dd6d7c78-knockout.js\"},{\"name\":\"knockout_punches\",\"type\":\"js\",\"url\":\"/assetserver/382b41b3b1bd9f26f75861d360bad7f8beea211f-knockout_punches.js\"}],\"type\":\"async_block\"})).then((imports) => handler.apply(this, imports));\n}\n"
                  ],
                  "observables": {
                   "clicks": {
                    "id": "854018639136150712",
                    "sync": true,
                    "value": 0
                   },
                   "loading": {
                    "id": "2292972733902601506",
                    "sync": false,
                    "value": false
                   }
                  },
                  "systemjs_options": null
                 },
                 "nodeType": "Scope",
                 "props": {},
                 "type": "node"
                }
               ],
               "instanceArgs": {
                "namespace": "html",
                "tag": "div"
               },
               "nodeType": "DOM",
               "props": {
                "className": "field interact-widget"
               },
               "type": "node"
              },
              {
               "children": [
                {
                 "children": [
                  {
                   "children": [],
                   "instanceArgs": {
                    "namespace": "html",
                    "tag": "div"
                   },
                   "nodeType": "DOM",
                   "props": {
                    "id": "container"
                   },
                   "type": "node"
                  }
                 ],
                 "instanceArgs": {
                  "handlers": {
                   "value": [
                    "(function (txt){return this.k.render(txt,this.container)})"
                   ]
                  },
                  "id": "12483463203330786706",
                  "imports": {
                   "data": [
                    {
                     "name": null,
                     "type": "js",
                     "url": "/assetserver/dd22ed1bf1896c2748f3fe616ce0b838adc895c1-katex.min.js"
                    },
                    {
                     "name": null,
                     "type": "css",
                     "url": "/assetserver/46517a424aa5e6cffc1360d7e0848b601c584ee3-katex.min.css"
                    }
                   ],
                   "type": "async_block"
                  },
                  "mount_callbacks": [
                   "function () {\n    var handler = ((function (k){this.k=k; this.container=this.dom.querySelector(\"#container\"); return k.render(\"\\\\;\\\\;\",this.container)}));\n    (WebIO.importBlock({\"data\":[{\"name\":null,\"type\":\"js\",\"url\":\"/assetserver/dd22ed1bf1896c2748f3fe616ce0b838adc895c1-katex.min.js\"},{\"name\":null,\"type\":\"css\",\"url\":\"/assetserver/46517a424aa5e6cffc1360d7e0848b601c584ee3-katex.min.css\"}],\"type\":\"async_block\"})).then((imports) => handler.apply(this, imports));\n}\n"
                  ],
                  "observables": {
                   "value": {
                    "id": "2698617157065856108",
                    "sync": false,
                    "value": "\\;\\;"
                   }
                  },
                  "systemjs_options": null
                 },
                 "nodeType": "Scope",
                 "props": {},
                 "type": "node"
                }
               ],
               "instanceArgs": {
                "namespace": "html",
                "tag": "div"
               },
               "nodeType": "DOM",
               "props": {
                "className": "interact-widget"
               },
               "type": "node"
              },
              {
               "children": [
                {
                 "children": [
                  {
                   "children": [
                    "stop"
                   ],
                   "instanceArgs": {
                    "namespace": "html",
                    "tag": "button"
                   },
                   "nodeType": "DOM",
                   "props": {
                    "attributes": {
                     "data-bind": "click: function (){this.clicks(this.clicks()+1)}, css: {'is-loading' : loading}"
                    },
                    "className": "is-medium button is-primary",
                    "style": {}
                   },
                   "type": "node"
                  }
                 ],
                 "instanceArgs": {
                  "handlers": {
                   "clicks": [
                    "(function (val){return (val!=this.model[\"clicks\"]()) ? (this.valueFromJulia[\"clicks\"]=true, this.model[\"clicks\"](val)) : undefined})"
                   ],
                   "loading": [
                    "(function (val){return (val!=this.model[\"loading\"]()) ? (this.valueFromJulia[\"loading\"]=true, this.model[\"loading\"](val)) : undefined})"
                   ]
                  },
                  "id": "8551680899602257390",
                  "imports": {
                   "data": [
                    {
                     "name": "knockout",
                     "type": "js",
                     "url": "/assetserver/727383f2a47bd31570b7da84eee7b022dd6d7c78-knockout.js"
                    },
                    {
                     "name": "knockout_punches",
                     "type": "js",
                     "url": "/assetserver/382b41b3b1bd9f26f75861d360bad7f8beea211f-knockout_punches.js"
                    },
                    {
                     "name": null,
                     "type": "js",
                     "url": "/assetserver/5ab20f1060420992a9b82a65b735dee4d81ef413-all.js"
                    },
                    {
                     "name": null,
                     "type": "css",
                     "url": "/assetserver/1cc0ed62837210b80a182cc3676512f895dab686-style.css"
                    },
                    {
                     "name": null,
                     "type": "css",
                     "url": "/assetserver/2eee816f616df3549d7044d45e744fbf8d42bfa1-bulma_confined.min.css"
                    }
                   ],
                   "type": "async_block"
                  },
                  "mount_callbacks": [
                   "function () {\n    var handler = (function (ko, koPunches) {\n    ko.punches.enableAll();\n    ko.bindingHandlers.numericValue = {\n        init: function(element, valueAccessor, allBindings, data, context) {\n            var stringified = ko.observable(ko.unwrap(valueAccessor()));\n            stringified.subscribe(function(value) {\n                var val = parseFloat(value);\n                if (!isNaN(val)) {\n                    valueAccessor()(val);\n                }\n            });\n            valueAccessor().subscribe(function(value) {\n                var str = JSON.stringify(value);\n                if ((str == \"0\") && ([\"-0\", \"-0.\"].indexOf(stringified()) >= 0))\n                     return;\n                 if ([\"null\", \"\"].indexOf(str) >= 0)\n                     return;\n                stringified(str);\n            });\n            ko.applyBindingsToNode(\n                element,\n                {\n                    value: stringified,\n                    valueUpdate: allBindings.get('valueUpdate'),\n                },\n                context,\n            );\n        }\n    };\n    var json_data = {\"loading\":WebIO.getval({\"name\":\"loading\",\"scope\":\"8551680899602257390\",\"id\":\"11414550519626117730\",\"type\":\"observable\"}),\"clicks\":WebIO.getval({\"name\":\"clicks\",\"scope\":\"8551680899602257390\",\"id\":\"4958415936021112760\",\"type\":\"observable\"})};\n    var self = this;\n    function AppViewModel() {\n        for (var key in json_data) {\n            var el = json_data[key];\n            this[key] = Array.isArray(el) ? ko.observableArray(el) : ko.observable(el);\n        }\n        \n        \n        [this[\"loading\"].subscribe((function (val){!(this.valueFromJulia[\"loading\"]) ? (WebIO.setval({\"name\":\"loading\",\"scope\":\"8551680899602257390\",\"id\":\"11414550519626117730\",\"type\":\"observable\"},val)) : undefined; return this.valueFromJulia[\"loading\"]=false}),self),this[\"clicks\"].subscribe((function (val){!(this.valueFromJulia[\"clicks\"]) ? (WebIO.setval({\"name\":\"clicks\",\"scope\":\"8551680899602257390\",\"id\":\"4958415936021112760\",\"type\":\"observable\"},val)) : undefined; return this.valueFromJulia[\"clicks\"]=false}),self)]\n        \n    }\n    self.model = new AppViewModel();\n    self.valueFromJulia = {};\n    for (var key in json_data) {\n        self.valueFromJulia[key] = false;\n    }\n    ko.applyBindings(self.model, self.dom);\n}\n);\n    (WebIO.importBlock({\"data\":[{\"name\":\"knockout\",\"type\":\"js\",\"url\":\"/assetserver/727383f2a47bd31570b7da84eee7b022dd6d7c78-knockout.js\"},{\"name\":\"knockout_punches\",\"type\":\"js\",\"url\":\"/assetserver/382b41b3b1bd9f26f75861d360bad7f8beea211f-knockout_punches.js\"}],\"type\":\"async_block\"})).then((imports) => handler.apply(this, imports));\n}\n"
                  ],
                  "observables": {
                   "clicks": {
                    "id": "4958415936021112760",
                    "sync": true,
                    "value": 0
                   },
                   "loading": {
                    "id": "11414550519626117730",
                    "sync": false,
                    "value": false
                   }
                  },
                  "systemjs_options": null
                 },
                 "nodeType": "Scope",
                 "props": {},
                 "type": "node"
                }
               ],
               "instanceArgs": {
                "namespace": "html",
                "tag": "div"
               },
               "nodeType": "DOM",
               "props": {
                "className": "field interact-widget"
               },
               "type": "node"
              },
              {
               "children": [
                {
                 "children": [
                  {
                   "children": [],
                   "instanceArgs": {
                    "namespace": "html",
                    "tag": "div"
                   },
                   "nodeType": "DOM",
                   "props": {
                    "id": "container"
                   },
                   "type": "node"
                  }
                 ],
                 "instanceArgs": {
                  "handlers": {
                   "value": [
                    "(function (txt){return this.k.render(txt,this.container)})"
                   ]
                  },
                  "id": "12483463203330786706",
                  "imports": {
                   "data": [
                    {
                     "name": null,
                     "type": "js",
                     "url": "/assetserver/dd22ed1bf1896c2748f3fe616ce0b838adc895c1-katex.min.js"
                    },
                    {
                     "name": null,
                     "type": "css",
                     "url": "/assetserver/46517a424aa5e6cffc1360d7e0848b601c584ee3-katex.min.css"
                    }
                   ],
                   "type": "async_block"
                  },
                  "mount_callbacks": [
                   "function () {\n    var handler = ((function (k){this.k=k; this.container=this.dom.querySelector(\"#container\"); return k.render(\"\\\\;\\\\;\",this.container)}));\n    (WebIO.importBlock({\"data\":[{\"name\":null,\"type\":\"js\",\"url\":\"/assetserver/dd22ed1bf1896c2748f3fe616ce0b838adc895c1-katex.min.js\"},{\"name\":null,\"type\":\"css\",\"url\":\"/assetserver/46517a424aa5e6cffc1360d7e0848b601c584ee3-katex.min.css\"}],\"type\":\"async_block\"})).then((imports) => handler.apply(this, imports));\n}\n"
                  ],
                  "observables": {
                   "value": {
                    "id": "2698617157065856108",
                    "sync": false,
                    "value": "\\;\\;"
                   }
                  },
                  "systemjs_options": null
                 },
                 "nodeType": "Scope",
                 "props": {},
                 "type": "node"
                }
               ],
               "instanceArgs": {
                "namespace": "html",
                "tag": "div"
               },
               "nodeType": "DOM",
               "props": {
                "className": "interact-widget"
               },
               "type": "node"
              },
              {
               "children": [
                {
                 "children": [
                  {
                   "children": [
                    "reset"
                   ],
                   "instanceArgs": {
                    "namespace": "html",
                    "tag": "button"
                   },
                   "nodeType": "DOM",
                   "props": {
                    "attributes": {
                     "data-bind": "click: function (){this.clicks(this.clicks()+1)}, css: {'is-loading' : loading}"
                    },
                    "className": "is-medium button is-primary",
                    "style": {}
                   },
                   "type": "node"
                  }
                 ],
                 "instanceArgs": {
                  "handlers": {
                   "clicks": [
                    "(function (val){return (val!=this.model[\"clicks\"]()) ? (this.valueFromJulia[\"clicks\"]=true, this.model[\"clicks\"](val)) : undefined})"
                   ],
                   "loading": [
                    "(function (val){return (val!=this.model[\"loading\"]()) ? (this.valueFromJulia[\"loading\"]=true, this.model[\"loading\"](val)) : undefined})"
                   ]
                  },
                  "id": "15507192070037400714",
                  "imports": {
                   "data": [
                    {
                     "name": "knockout",
                     "type": "js",
                     "url": "/assetserver/727383f2a47bd31570b7da84eee7b022dd6d7c78-knockout.js"
                    },
                    {
                     "name": "knockout_punches",
                     "type": "js",
                     "url": "/assetserver/382b41b3b1bd9f26f75861d360bad7f8beea211f-knockout_punches.js"
                    },
                    {
                     "name": null,
                     "type": "js",
                     "url": "/assetserver/5ab20f1060420992a9b82a65b735dee4d81ef413-all.js"
                    },
                    {
                     "name": null,
                     "type": "css",
                     "url": "/assetserver/1cc0ed62837210b80a182cc3676512f895dab686-style.css"
                    },
                    {
                     "name": null,
                     "type": "css",
                     "url": "/assetserver/2eee816f616df3549d7044d45e744fbf8d42bfa1-bulma_confined.min.css"
                    }
                   ],
                   "type": "async_block"
                  },
                  "mount_callbacks": [
                   "function () {\n    var handler = (function (ko, koPunches) {\n    ko.punches.enableAll();\n    ko.bindingHandlers.numericValue = {\n        init: function(element, valueAccessor, allBindings, data, context) {\n            var stringified = ko.observable(ko.unwrap(valueAccessor()));\n            stringified.subscribe(function(value) {\n                var val = parseFloat(value);\n                if (!isNaN(val)) {\n                    valueAccessor()(val);\n                }\n            });\n            valueAccessor().subscribe(function(value) {\n                var str = JSON.stringify(value);\n                if ((str == \"0\") && ([\"-0\", \"-0.\"].indexOf(stringified()) >= 0))\n                     return;\n                 if ([\"null\", \"\"].indexOf(str) >= 0)\n                     return;\n                stringified(str);\n            });\n            ko.applyBindingsToNode(\n                element,\n                {\n                    value: stringified,\n                    valueUpdate: allBindings.get('valueUpdate'),\n                },\n                context,\n            );\n        }\n    };\n    var json_data = {\"loading\":WebIO.getval({\"name\":\"loading\",\"scope\":\"15507192070037400714\",\"id\":\"9861749335492624580\",\"type\":\"observable\"}),\"clicks\":WebIO.getval({\"name\":\"clicks\",\"scope\":\"15507192070037400714\",\"id\":\"14880892921096461256\",\"type\":\"observable\"})};\n    var self = this;\n    function AppViewModel() {\n        for (var key in json_data) {\n            var el = json_data[key];\n            this[key] = Array.isArray(el) ? ko.observableArray(el) : ko.observable(el);\n        }\n        \n        \n        [this[\"loading\"].subscribe((function (val){!(this.valueFromJulia[\"loading\"]) ? (WebIO.setval({\"name\":\"loading\",\"scope\":\"15507192070037400714\",\"id\":\"9861749335492624580\",\"type\":\"observable\"},val)) : undefined; return this.valueFromJulia[\"loading\"]=false}),self),this[\"clicks\"].subscribe((function (val){!(this.valueFromJulia[\"clicks\"]) ? (WebIO.setval({\"name\":\"clicks\",\"scope\":\"15507192070037400714\",\"id\":\"14880892921096461256\",\"type\":\"observable\"},val)) : undefined; return this.valueFromJulia[\"clicks\"]=false}),self)]\n        \n    }\n    self.model = new AppViewModel();\n    self.valueFromJulia = {};\n    for (var key in json_data) {\n        self.valueFromJulia[key] = false;\n    }\n    ko.applyBindings(self.model, self.dom);\n}\n);\n    (WebIO.importBlock({\"data\":[{\"name\":\"knockout\",\"type\":\"js\",\"url\":\"/assetserver/727383f2a47bd31570b7da84eee7b022dd6d7c78-knockout.js\"},{\"name\":\"knockout_punches\",\"type\":\"js\",\"url\":\"/assetserver/382b41b3b1bd9f26f75861d360bad7f8beea211f-knockout_punches.js\"}],\"type\":\"async_block\"})).then((imports) => handler.apply(this, imports));\n}\n"
                  ],
                  "observables": {
                   "clicks": {
                    "id": "14880892921096461256",
                    "sync": true,
                    "value": 0
                   },
                   "loading": {
                    "id": "9861749335492624580",
                    "sync": false,
                    "value": false
                   }
                  },
                  "systemjs_options": null
                 },
                 "nodeType": "Scope",
                 "props": {},
                 "type": "node"
                }
               ],
               "instanceArgs": {
                "namespace": "html",
                "tag": "div"
               },
               "nodeType": "DOM",
               "props": {
                "className": "field interact-widget"
               },
               "type": "node"
              }
             ],
             "instanceArgs": {
              "namespace": "html",
              "tag": "div"
             },
             "nodeType": "DOM",
             "props": {
              "style": {
               "display": "flex",
               "flex-direction": "row"
              }
             },
             "type": "node"
            }
           ],
           "instanceArgs": {
            "namespace": "html",
            "tag": "div"
           },
           "nodeType": "DOM",
           "props": {
            "style": {
             "display": "flex",
             "flex-direction": "column"
            }
           },
           "type": "node"
          },
          {
           "children": [
            {
             "children": [],
             "instanceArgs": {
              "namespace": "html",
              "tag": "div"
             },
             "nodeType": "DOM",
             "props": {
              "className": "webio-observable",
              "setInnerHtml": "    <div style=\"height: 500px; width: 100%; overflow-x: auto; overflow-y: hidden; resize: both\">\n    <iframe src=\"http://127.0.0.1:8702\" style=\"width: 100%; height: 100%; border: none\"></iframe>\n    </div>\n"
             },
             "type": "node"
            }
           ],
           "instanceArgs": {
            "handlers": {
             "obs-output": [
              "function (value, scope) {\n    scope.setInnerHTML(value);\n}\n"
             ]
            },
            "id": "14947277691865468132",
            "imports": {
             "data": [],
             "type": "async_block"
            },
            "mount_callbacks": [],
            "observables": {
             "obs-output": {
              "id": "9533950954834630898",
              "sync": false,
              "value": "    <div style=\"height: 500px; width: 100%; overflow-x: auto; overflow-y: hidden; resize: both\">\n    <iframe src=\"http://127.0.0.1:8702\" style=\"width: 100%; height: 100%; border: none\"></iframe>\n    </div>\n"
             }
            },
            "systemjs_options": null
           },
           "nodeType": "Scope",
           "props": {},
           "type": "node"
          },
          {
           "children": [
            {
             "children": [
              {
               "children": [],
               "instanceArgs": {
                "namespace": "html",
                "tag": "div"
               },
               "nodeType": "DOM",
               "props": {
                "id": "container"
               },
               "type": "node"
              }
             ],
             "instanceArgs": {
              "handlers": {
               "value": [
                "(function (txt){return this.k.render(txt,this.container)})"
               ]
              },
              "id": "12483463203330786706",
              "imports": {
               "data": [
                {
                 "name": null,
                 "type": "js",
                 "url": "/assetserver/dd22ed1bf1896c2748f3fe616ce0b838adc895c1-katex.min.js"
                },
                {
                 "name": null,
                 "type": "css",
                 "url": "/assetserver/46517a424aa5e6cffc1360d7e0848b601c584ee3-katex.min.css"
                }
               ],
               "type": "async_block"
              },
              "mount_callbacks": [
               "function () {\n    var handler = ((function (k){this.k=k; this.container=this.dom.querySelector(\"#container\"); return k.render(\"\\\\;\\\\;\",this.container)}));\n    (WebIO.importBlock({\"data\":[{\"name\":null,\"type\":\"js\",\"url\":\"/assetserver/dd22ed1bf1896c2748f3fe616ce0b838adc895c1-katex.min.js\"},{\"name\":null,\"type\":\"css\",\"url\":\"/assetserver/46517a424aa5e6cffc1360d7e0848b601c584ee3-katex.min.css\"}],\"type\":\"async_block\"})).then((imports) => handler.apply(this, imports));\n}\n"
              ],
              "observables": {
               "value": {
                "id": "2698617157065856108",
                "sync": false,
                "value": "\\;\\;"
               }
              },
              "systemjs_options": null
             },
             "nodeType": "Scope",
             "props": {},
             "type": "node"
            }
           ],
           "instanceArgs": {
            "namespace": "html",
            "tag": "div"
           },
           "nodeType": "DOM",
           "props": {
            "className": "interact-widget"
           },
           "type": "node"
          },
          {
           "children": [
            {
             "children": [
              {
               "children": [],
               "instanceArgs": {
                "namespace": "html",
                "tag": "div"
               },
               "nodeType": "DOM",
               "props": {
                "className": "webio-observable",
                "setInnerHtml": "<img src=\"data:image/png;base64,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\" />"
               },
               "type": "node"
              }
             ],
             "instanceArgs": {
              "handlers": {
               "obs-output": [
                "function (value, scope) {\n    scope.setInnerHTML(value);\n}\n"
               ]
              },
              "id": "9207931596128144694",
              "imports": {
               "data": [],
               "type": "async_block"
              },
              "mount_callbacks": [],
              "observables": {
               "obs-output": {
                "id": "8943287928676308181",
                "sync": false,
                "value": "<img src=\"data:image/png;base64,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\" />"
               }
              },
              "systemjs_options": null
             },
             "nodeType": "Scope",
             "props": {},
             "type": "node"
            }
           ],
           "instanceArgs": {
            "namespace": "html",
            "tag": "div"
           },
           "nodeType": "DOM",
           "props": {
            "style": {
             "display": "flex",
             "flex-direction": "column"
            }
           },
           "type": "node"
          }
         ],
         "instanceArgs": {
          "namespace": "html",
          "tag": "div"
         },
         "nodeType": "DOM",
         "props": {
          "style": {
           "display": "flex",
           "flex-direction": "row"
          }
         },
         "type": "node"
        }
       ],
       "instanceArgs": {
        "namespace": "html",
        "tag": "div"
       },
       "nodeType": "DOM",
       "props": {
        "style": {
         "display": "flex",
         "flex-direction": "column"
        }
       },
       "type": "node"
      },
      "text/html": [
       "<div\n",
       "    class=\"webio-mountpoint\"\n",
       "    data-webio-mountpoint=\"2104581174032201056\"\n",
       ">\n",
       "    <script>\n",
       "    (function(){\n",
       "    // Some integrations (namely, IJulia/Jupyter) use an alternate render pathway than\n",
       "    // just putting the html on the page. If WebIO isn't defined, then it's pretty likely\n",
       "    // that we're in one of those situations and the integration just isn't installed\n",
       "    // correctly.\n",
       "    if (typeof window.WebIO === \"undefined\") {\n",
       "        document\n",
       "            .querySelector('[data-webio-mountpoint=\"2104581174032201056\"]')\n",
       "            .innerHTML = (\n",
       "                '<div style=\"padding: 1em; background-color: #f8d6da; border: 1px solid #f5c6cb; font-weight: bold;\">' +\n",
       "                '<p><strong>WebIO not detected.</strong></p>' +\n",
       "                '<p>Please read ' +\n",
       "                '<a href=\"https://juliagizmos.github.io/WebIO.jl/latest/troubleshooting/not-detected/\" target=\"_blank\">the troubleshooting guide</a> ' +\n",
       "                'for more information on how to resolve this issue.</p>' +\n",
       "                '<p><a href=\"https://juliagizmos.github.io/WebIO.jl/latest/troubleshooting/not-detected/\" target=\"_blank\">https://juliagizmos.github.io/WebIO.jl/latest/troubleshooting/not-detected/</a></p>' +\n",
       "                '</div>'\n",
       "            );\n",
       "        return;\n",
       "    }\n",
       "    WebIO.mount(\n",
       "        document.querySelector('[data-webio-mountpoint=\"2104581174032201056\"]'),\n",
       "        {\"props\":{\"style\":{\"display\":\"flex\",\"flex-direction\":\"column\"}},\"nodeType\":\"DOM\",\"type\":\"node\",\"instanceArgs\":{\"namespace\":\"html\",\"tag\":\"div\"},\"children\":[{\"props\":{\"style\":{\"display\":\"flex\",\"flex-direction\":\"row\"}},\"nodeType\":\"DOM\",\"type\":\"node\",\"instanceArgs\":{\"namespace\":\"html\",\"tag\":\"div\"},\"children\":[{\"props\":{\"style\":{\"display\":\"flex\",\"flex-direction\":\"column\"}},\"nodeType\":\"DOM\",\"type\":\"node\",\"instanceArgs\":{\"namespace\":\"html\",\"tag\":\"div\"},\"children\":[{\"props\":{\"className\":\"field interact-widget\"},\"nodeType\":\"DOM\",\"type\":\"node\",\"instanceArgs\":{\"namespace\":\"html\",\"tag\":\"div\"},\"children\":[{\"props\":{},\"nodeType\":\"Scope\",\"type\":\"node\",\"instanceArgs\":{\"imports\":{\"data\":[{\"name\":\"knockout\",\"type\":\"js\",\"url\":\"\\/assetserver\\/727383f2a47bd31570b7da84eee7b022dd6d7c78-knockout.js\"},{\"name\":\"knockout_punches\",\"type\":\"js\",\"url\":\"\\/assetserver\\/382b41b3b1bd9f26f75861d360bad7f8beea211f-knockout_punches.js\"},{\"name\":null,\"type\":\"js\",\"url\":\"\\/assetserver\\/5ab20f1060420992a9b82a65b735dee4d81ef413-all.js\"},{\"name\":null,\"type\":\"css\",\"url\":\"\\/assetserver\\/1cc0ed62837210b80a182cc3676512f895dab686-style.css\"},{\"name\":null,\"type\":\"css\",\"url\":\"\\/assetserver\\/2eee816f616df3549d7044d45e744fbf8d42bfa1-bulma_confined.min.css\"}],\"type\":\"async_block\"},\"id\":\"5740188537462568722\",\"handlers\":{\"changes\":[\"(function (val){return (val!=this.model[\\\"changes\\\"]()) ? (this.valueFromJulia[\\\"changes\\\"]=true, this.model[\\\"changes\\\"](val)) : undefined})\"],\"index\":[\"(function (val){return (val!=this.model[\\\"index\\\"]()) ? (this.valueFromJulia[\\\"index\\\"]=true, this.model[\\\"index\\\"](val)) : undefined})\"]},\"systemjs_options\":null,\"mount_callbacks\":[\"function () {\\n    var handler = (function (ko, koPunches) {\\n    ko.punches.enableAll();\\n    ko.bindingHandlers.numericValue = {\\n        init: function(element, valueAccessor, allBindings, data, context) {\\n            var stringified = ko.observable(ko.unwrap(valueAccessor()));\\n            stringified.subscribe(function(value) {\\n                var val = parseFloat(value);\\n                if (!isNaN(val)) {\\n                    valueAccessor()(val);\\n                }\\n            });\\n            valueAccessor().subscribe(function(value) {\\n                var str = JSON.stringify(value);\\n                if ((str == \\\"0\\\") && ([\\\"-0\\\", \\\"-0.\\\"].indexOf(stringified()) >= 0))\\n                     return;\\n                 if ([\\\"null\\\", \\\"\\\"].indexOf(str) >= 0)\\n                     return;\\n                stringified(str);\\n            });\\n            ko.applyBindingsToNode(\\n                element,\\n                {\\n                    value: stringified,\\n                    valueUpdate: allBindings.get('valueUpdate'),\\n                },\\n                context,\\n            );\\n        }\\n    };\\n    var json_data = {\\\"formatted_vals\\\":[\\\"1\\\",\\\"2\\\",\\\"3\\\",\\\"4\\\",\\\"5\\\",\\\"6\\\",\\\"7\\\",\\\"8\\\",\\\"9\\\",\\\"10\\\",\\\"11\\\",\\\"12\\\",\\\"13\\\",\\\"14\\\",\\\"15\\\",\\\"16\\\",\\\"17\\\",\\\"18\\\",\\\"19\\\",\\\"20\\\",\\\"21\\\",\\\"22\\\",\\\"23\\\",\\\"24\\\",\\\"25\\\",\\\"26\\\",\\\"27\\\",\\\"28\\\",\\\"29\\\",\\\"30\\\",\\\"31\\\",\\\"32\\\",\\\"33\\\",\\\"34\\\",\\\"35\\\",\\\"36\\\",\\\"37\\\",\\\"38\\\",\\\"39\\\",\\\"40\\\",\\\"41\\\",\\\"42\\\",\\\"43\\\",\\\"44\\\",\\\"45\\\",\\\"46\\\",\\\"47\\\",\\\"48\\\",\\\"49\\\",\\\"50\\\",\\\"51\\\",\\\"52\\\",\\\"53\\\",\\\"54\\\",\\\"55\\\",\\\"56\\\",\\\"57\\\",\\\"58\\\",\\\"59\\\",\\\"60\\\",\\\"61\\\",\\\"62\\\",\\\"63\\\",\\\"64\\\",\\\"65\\\",\\\"66\\\",\\\"67\\\",\\\"68\\\",\\\"69\\\",\\\"70\\\",\\\"71\\\",\\\"72\\\",\\\"73\\\",\\\"74\\\",\\\"75\\\",\\\"76\\\",\\\"77\\\",\\\"78\\\",\\\"79\\\",\\\"80\\\",\\\"81\\\",\\\"82\\\",\\\"83\\\",\\\"84\\\",\\\"85\\\",\\\"86\\\",\\\"87\\\",\\\"88\\\",\\\"89\\\",\\\"90\\\",\\\"91\\\",\\\"92\\\",\\\"93\\\",\\\"94\\\",\\\"95\\\",\\\"96\\\",\\\"97\\\",\\\"98\\\",\\\"99\\\",\\\"100\\\",\\\"101\\\",\\\"102\\\",\\\"103\\\",\\\"104\\\",\\\"105\\\",\\\"106\\\",\\\"107\\\",\\\"108\\\",\\\"109\\\",\\\"110\\\",\\\"111\\\",\\\"112\\\",\\\"113\\\",\\\"114\\\",\\\"115\\\",\\\"116\\\",\\\"117\\\",\\\"118\\\",\\\"119\\\",\\\"120\\\",\\\"121\\\",\\\"122\\\",\\\"123\\\",\\\"124\\\",\\\"125\\\",\\\"126\\\",\\\"127\\\",\\\"128\\\",\\\"129\\\",\\\"130\\\",\\\"131\\\",\\\"132\\\",\\\"133\\\",\\\"134\\\",\\\"135\\\",\\\"136\\\",\\\"137\\\",\\\"138\\\",\\\"139\\\",\\\"140\\\",\\\"141\\\",\\\"142\\\",\\\"143\\\",\\\"144\\\",\\\"145\\\",\\\"146\\\",\\\"147\\\",\\\"148\\\",\\\"149\\\",\\\"150\\\",\\\"151\\\",\\\"152\\\",\\\"153\\\",\\\"154\\\",\\\"155\\\",\\\"156\\\",\\\"157\\\",\\\"158\\\",\\\"159\\\",\\\"160\\\",\\\"161\\\",\\\"162\\\",\\\"163\\\",\\\"164\\\",\\\"165\\\",\\\"166\\\",\\\"167\\\",\\\"168\\\",\\\"169\\\",\\\"170\\\",\\\"171\\\",\\\"172\\\",\\\"173\\\",\\\"174\\\",\\\"175\\\",\\\"176\\\",\\\"177\\\",\\\"178\\\",\\\"179\\\",\\\"180\\\",\\\"181\\\",\\\"182\\\",\\\"183\\\",\\\"184\\\",\\\"185\\\",\\\"186\\\",\\\"187\\\",\\\"188\\\",\\\"189\\\",\\\"190\\\",\\\"191\\\",\\\"192\\\",\\\"193\\\",\\\"194\\\",\\\"195\\\",\\\"196\\\",\\\"197\\\",\\\"198\\\",\\\"199\\\",\\\"200\\\"],\\\"changes\\\":WebIO.getval({\\\"name\\\":\\\"changes\\\",\\\"scope\\\":\\\"5740188537462568722\\\",\\\"id\\\":\\\"9403001061244740146\\\",\\\"type\\\":\\\"observable\\\"}),\\\"index\\\":WebIO.getval({\\\"name\\\":\\\"index\\\",\\\"scope\\\":\\\"5740188537462568722\\\",\\\"id\\\":\\\"12835508483078130718\\\",\\\"type\\\":\\\"observable\\\"})};\\n    var self = this;\\n    function AppViewModel() {\\n        for (var key in json_data) {\\n            var el = json_data[key];\\n            this[key] = Array.isArray(el) ? ko.observableArray(el) : ko.observable(el);\\n        }\\n        \\n        [this[\\\"formatted_val\\\"]=ko.computed(    function(){\\n        return this.formatted_vals()[parseInt(this.index())-(1)];\\n    }\\n,this)]\\n        [this[\\\"changes\\\"].subscribe((function (val){!(this.valueFromJulia[\\\"changes\\\"]) ? (WebIO.setval({\\\"name\\\":\\\"changes\\\",\\\"scope\\\":\\\"5740188537462568722\\\",\\\"id\\\":\\\"9403001061244740146\\\",\\\"type\\\":\\\"observable\\\"},val)) : undefined; return this.valueFromJulia[\\\"changes\\\"]=false}),self),this[\\\"index\\\"].subscribe((function (val){!(this.valueFromJulia[\\\"index\\\"]) ? (WebIO.setval({\\\"name\\\":\\\"index\\\",\\\"scope\\\":\\\"5740188537462568722\\\",\\\"id\\\":\\\"12835508483078130718\\\",\\\"type\\\":\\\"observable\\\"},val)) : undefined; return this.valueFromJulia[\\\"index\\\"]=false}),self)]\\n        \\n    }\\n    self.model = new AppViewModel();\\n    self.valueFromJulia = {};\\n    for (var key in json_data) {\\n        self.valueFromJulia[key] = false;\\n    }\\n    ko.applyBindings(self.model, self.dom);\\n}\\n);\\n    (WebIO.importBlock({\\\"data\\\":[{\\\"name\\\":\\\"knockout\\\",\\\"type\\\":\\\"js\\\",\\\"url\\\":\\\"\\/assetserver\\/727383f2a47bd31570b7da84eee7b022dd6d7c78-knockout.js\\\"},{\\\"name\\\":\\\"knockout_punches\\\",\\\"type\\\":\\\"js\\\",\\\"url\\\":\\\"\\/assetserver\\/382b41b3b1bd9f26f75861d360bad7f8beea211f-knockout_punches.js\\\"}],\\\"type\\\":\\\"async_block\\\"})).then((imports) => handler.apply(this, imports));\\n}\\n\"],\"observables\":{\"changes\":{\"sync\":false,\"id\":\"9403001061244740146\",\"value\":0},\"index\":{\"sync\":true,\"id\":\"12835508483078130718\",\"value\":1}}},\"children\":[{\"props\":{\"className\":\"interact-flex-row interact-widget\"},\"nodeType\":\"DOM\",\"type\":\"node\",\"instanceArgs\":{\"namespace\":\"html\",\"tag\":\"div\"},\"children\":[{\"props\":{\"className\":\"interact-flex-row-left\"},\"nodeType\":\"DOM\",\"type\":\"node\",\"instanceArgs\":{\"namespace\":\"html\",\"tag\":\"div\"},\"children\":[{\"props\":{\"className\":\"interact \",\"style\":{\"padding\":\"5px 10px 0px 10px\"}},\"nodeType\":\"DOM\",\"type\":\"node\",\"instanceArgs\":{\"namespace\":\"html\",\"tag\":\"label\"},\"children\":[\"time\"]}]},{\"props\":{\"className\":\"interact-flex-row-center\"},\"nodeType\":\"DOM\",\"type\":\"node\",\"instanceArgs\":{\"namespace\":\"html\",\"tag\":\"div\"},\"children\":[{\"props\":{\"max\":200,\"min\":1,\"attributes\":{\"type\":\"range\",\"data-bind\":\"numericValue: index, valueUpdate: 'input', event: {change: function (){this.changes(this.changes()+1)}}\",\"orient\":\"horizontal\"},\"step\":1,\"className\":\"slider slider is-fullwidth\",\"style\":{}},\"nodeType\":\"DOM\",\"type\":\"node\",\"instanceArgs\":{\"namespace\":\"html\",\"tag\":\"input\"},\"children\":[]}]},{\"props\":{\"className\":\"interact-flex-row-right\"},\"nodeType\":\"DOM\",\"type\":\"node\",\"instanceArgs\":{\"namespace\":\"html\",\"tag\":\"div\"},\"children\":[{\"props\":{\"attributes\":{\"data-bind\":\"text: formatted_val\"}},\"nodeType\":\"DOM\",\"type\":\"node\",\"instanceArgs\":{\"namespace\":\"html\",\"tag\":\"p\"},\"children\":[]}]}]}]}]},{\"props\":{\"className\":\"field interact-widget\"},\"nodeType\":\"DOM\",\"type\":\"node\",\"instanceArgs\":{\"namespace\":\"html\",\"tag\":\"div\"},\"children\":[{\"props\":{},\"nodeType\":\"Scope\",\"type\":\"node\",\"instanceArgs\":{\"imports\":{\"data\":[{\"name\":\"knockout\",\"type\":\"js\",\"url\":\"\\/assetserver\\/727383f2a47bd31570b7da84eee7b022dd6d7c78-knockout.js\"},{\"name\":\"knockout_punches\",\"type\":\"js\",\"url\":\"\\/assetserver\\/382b41b3b1bd9f26f75861d360bad7f8beea211f-knockout_punches.js\"},{\"name\":null,\"type\":\"js\",\"url\":\"\\/assetserver\\/5ab20f1060420992a9b82a65b735dee4d81ef413-all.js\"},{\"name\":null,\"type\":\"css\",\"url\":\"\\/assetserver\\/1cc0ed62837210b80a182cc3676512f895dab686-style.css\"},{\"name\":null,\"type\":\"css\",\"url\":\"\\/assetserver\\/2eee816f616df3549d7044d45e744fbf8d42bfa1-bulma_confined.min.css\"}],\"type\":\"async_block\"},\"id\":\"7823398443230207596\",\"handlers\":{\"changes\":[\"(function (val){return (val!=this.model[\\\"changes\\\"]()) ? (this.valueFromJulia[\\\"changes\\\"]=true, this.model[\\\"changes\\\"](val)) : undefined})\"],\"index\":[\"(function (val){return (val!=this.model[\\\"index\\\"]()) ? (this.valueFromJulia[\\\"index\\\"]=true, this.model[\\\"index\\\"](val)) : undefined})\"]},\"systemjs_options\":null,\"mount_callbacks\":[\"function () {\\n    var handler = (function (ko, koPunches) {\\n    ko.punches.enableAll();\\n    ko.bindingHandlers.numericValue = {\\n        init: function(element, valueAccessor, allBindings, data, context) {\\n            var stringified = ko.observable(ko.unwrap(valueAccessor()));\\n            stringified.subscribe(function(value) {\\n                var val = parseFloat(value);\\n                if (!isNaN(val)) {\\n                    valueAccessor()(val);\\n                }\\n            });\\n            valueAccessor().subscribe(function(value) {\\n                var str = JSON.stringify(value);\\n                if ((str == \\\"0\\\") && ([\\\"-0\\\", \\\"-0.\\\"].indexOf(stringified()) >= 0))\\n                     return;\\n                 if ([\\\"null\\\", \\\"\\\"].indexOf(str) >= 0)\\n                     return;\\n                stringified(str);\\n            });\\n            ko.applyBindingsToNode(\\n                element,\\n                {\\n                    value: stringified,\\n                    valueUpdate: allBindings.get('valueUpdate'),\\n                },\\n                context,\\n            );\\n        }\\n    };\\n    var json_data = {\\\"formatted_vals\\\":[\\\"0.1\\\",\\\"0.2\\\",\\\"0.3\\\",\\\"0.4\\\",\\\"0.5\\\",\\\"0.6\\\",\\\"0.7\\\",\\\"0.8\\\",\\\"0.9\\\",\\\"1.0\\\",\\\"1.1\\\",\\\"1.2\\\",\\\"1.3\\\",\\\"1.4\\\",\\\"1.5\\\",\\\"1.6\\\",\\\"1.7\\\",\\\"1.8\\\",\\\"1.9\\\",\\\"2.0\\\"],\\\"changes\\\":WebIO.getval({\\\"name\\\":\\\"changes\\\",\\\"scope\\\":\\\"7823398443230207596\\\",\\\"id\\\":\\\"18191329181811061022\\\",\\\"type\\\":\\\"observable\\\"}),\\\"index\\\":WebIO.getval({\\\"name\\\":\\\"index\\\",\\\"scope\\\":\\\"7823398443230207596\\\",\\\"id\\\":\\\"2317692519467890911\\\",\\\"type\\\":\\\"observable\\\"})};\\n    var self = this;\\n    function AppViewModel() {\\n        for (var key in json_data) {\\n            var el = json_data[key];\\n            this[key] = Array.isArray(el) ? ko.observableArray(el) : ko.observable(el);\\n        }\\n        \\n        [this[\\\"formatted_val\\\"]=ko.computed(    function(){\\n        return this.formatted_vals()[parseInt(this.index())-(1)];\\n    }\\n,this)]\\n        [this[\\\"changes\\\"].subscribe((function (val){!(this.valueFromJulia[\\\"changes\\\"]) ? (WebIO.setval({\\\"name\\\":\\\"changes\\\",\\\"scope\\\":\\\"7823398443230207596\\\",\\\"id\\\":\\\"18191329181811061022\\\",\\\"type\\\":\\\"observable\\\"},val)) : undefined; return this.valueFromJulia[\\\"changes\\\"]=false}),self),this[\\\"index\\\"].subscribe((function (val){!(this.valueFromJulia[\\\"index\\\"]) ? (WebIO.setval({\\\"name\\\":\\\"index\\\",\\\"scope\\\":\\\"7823398443230207596\\\",\\\"id\\\":\\\"2317692519467890911\\\",\\\"type\\\":\\\"observable\\\"},val)) : undefined; return this.valueFromJulia[\\\"index\\\"]=false}),self)]\\n        \\n    }\\n    self.model = new AppViewModel();\\n    self.valueFromJulia = {};\\n    for (var key in json_data) {\\n        self.valueFromJulia[key] = false;\\n    }\\n    ko.applyBindings(self.model, self.dom);\\n}\\n);\\n    (WebIO.importBlock({\\\"data\\\":[{\\\"name\\\":\\\"knockout\\\",\\\"type\\\":\\\"js\\\",\\\"url\\\":\\\"\\/assetserver\\/727383f2a47bd31570b7da84eee7b022dd6d7c78-knockout.js\\\"},{\\\"name\\\":\\\"knockout_punches\\\",\\\"type\\\":\\\"js\\\",\\\"url\\\":\\\"\\/assetserver\\/382b41b3b1bd9f26f75861d360bad7f8beea211f-knockout_punches.js\\\"}],\\\"type\\\":\\\"async_block\\\"})).then((imports) => handler.apply(this, imports));\\n}\\n\"],\"observables\":{\"changes\":{\"sync\":false,\"id\":\"18191329181811061022\",\"value\":0},\"index\":{\"sync\":true,\"id\":\"2317692519467890911\",\"value\":10}}},\"children\":[{\"props\":{\"className\":\"interact-flex-row interact-widget\"},\"nodeType\":\"DOM\",\"type\":\"node\",\"instanceArgs\":{\"namespace\":\"html\",\"tag\":\"div\"},\"children\":[{\"props\":{\"className\":\"interact-flex-row-left\"},\"nodeType\":\"DOM\",\"type\":\"node\",\"instanceArgs\":{\"namespace\":\"html\",\"tag\":\"div\"},\"children\":[{\"props\":{\"className\":\"interact \",\"style\":{\"padding\":\"5px 10px 0px 10px\"}},\"nodeType\":\"DOM\",\"type\":\"node\",\"instanceArgs\":{\"namespace\":\"html\",\"tag\":\"label\"},\"children\":[\"scale\"]}]},{\"props\":{\"className\":\"interact-flex-row-center\"},\"nodeType\":\"DOM\",\"type\":\"node\",\"instanceArgs\":{\"namespace\":\"html\",\"tag\":\"div\"},\"children\":[{\"props\":{\"max\":20,\"min\":1,\"attributes\":{\"type\":\"range\",\"data-bind\":\"numericValue: index, valueUpdate: 'input', event: {change: function (){this.changes(this.changes()+1)}}\",\"orient\":\"horizontal\"},\"step\":1,\"className\":\"slider slider is-fullwidth\",\"style\":{}},\"nodeType\":\"DOM\",\"type\":\"node\",\"instanceArgs\":{\"namespace\":\"html\",\"tag\":\"input\"},\"children\":[]}]},{\"props\":{\"className\":\"interact-flex-row-right\"},\"nodeType\":\"DOM\",\"type\":\"node\",\"instanceArgs\":{\"namespace\":\"html\",\"tag\":\"div\"},\"children\":[{\"props\":{\"attributes\":{\"data-bind\":\"text: formatted_val\"}},\"nodeType\":\"DOM\",\"type\":\"node\",\"instanceArgs\":{\"namespace\":\"html\",\"tag\":\"p\"},\"children\":[]}]}]}]}]},{\"props\":{\"style\":{\"display\":\"flex\",\"flex-direction\":\"column\"}},\"nodeType\":\"DOM\",\"type\":\"node\",\"instanceArgs\":{\"namespace\":\"html\",\"tag\":\"div\"},\"children\":[]},{\"props\":{\"style\":{\"display\":\"flex\",\"flex-direction\":\"column\"}},\"nodeType\":\"DOM\",\"type\":\"node\",\"instanceArgs\":{\"namespace\":\"html\",\"tag\":\"div\"},\"children\":[{\"props\":{\"className\":\"field interact-widget\"},\"nodeType\":\"DOM\",\"type\":\"node\",\"instanceArgs\":{\"namespace\":\"html\",\"tag\":\"div\"},\"children\":[{\"props\":{},\"nodeType\":\"Scope\",\"type\":\"node\",\"instanceArgs\":{\"imports\":{\"data\":[{\"name\":\"knockout\",\"type\":\"js\",\"url\":\"\\/assetserver\\/727383f2a47bd31570b7da84eee7b022dd6d7c78-knockout.js\"},{\"name\":\"knockout_punches\",\"type\":\"js\",\"url\":\"\\/assetserver\\/382b41b3b1bd9f26f75861d360bad7f8beea211f-knockout_punches.js\"},{\"name\":null,\"type\":\"js\",\"url\":\"\\/assetserver\\/5ab20f1060420992a9b82a65b735dee4d81ef413-all.js\"},{\"name\":null,\"type\":\"css\",\"url\":\"\\/assetserver\\/1cc0ed62837210b80a182cc3676512f895dab686-style.css\"},{\"name\":null,\"type\":\"css\",\"url\":\"\\/assetserver\\/2eee816f616df3549d7044d45e744fbf8d42bfa1-bulma_confined.min.css\"}],\"type\":\"async_block\"},\"id\":\"8750465584019894698\",\"handlers\":{\"changes\":[\"(function (val){return (val!=this.model[\\\"changes\\\"]()) ? (this.valueFromJulia[\\\"changes\\\"]=true, this.model[\\\"changes\\\"](val)) : undefined})\"],\"index\":[\"(function (val){return (val!=this.model[\\\"index\\\"]()) ? (this.valueFromJulia[\\\"index\\\"]=true, this.model[\\\"index\\\"](val)) : undefined})\"]},\"systemjs_options\":null,\"mount_callbacks\":[\"function () {\\n    var handler = (function (ko, koPunches) {\\n    ko.punches.enableAll();\\n    ko.bindingHandlers.numericValue = {\\n        init: function(element, valueAccessor, allBindings, data, context) {\\n            var stringified = ko.observable(ko.unwrap(valueAccessor()));\\n            stringified.subscribe(function(value) {\\n                var val = parseFloat(value);\\n                if (!isNaN(val)) {\\n                    valueAccessor()(val);\\n                }\\n            });\\n            valueAccessor().subscribe(function(value) {\\n                var str = JSON.stringify(value);\\n                if ((str == \\\"0\\\") && ([\\\"-0\\\", \\\"-0.\\\"].indexOf(stringified()) >= 0))\\n                     return;\\n                 if ([\\\"null\\\", \\\"\\\"].indexOf(str) >= 0)\\n                     return;\\n                stringified(str);\\n            });\\n            ko.applyBindingsToNode(\\n                element,\\n                {\\n                    value: stringified,\\n                    valueUpdate: allBindings.get('valueUpdate'),\\n                },\\n                context,\\n            );\\n        }\\n    };\\n    var json_data = {\\\"formatted_vals\\\":[\\\"1\\\",\\\"2\\\",\\\"3\\\",\\\"4\\\",\\\"5\\\",\\\"6\\\",\\\"7\\\",\\\"8\\\",\\\"9\\\",\\\"10\\\",\\\"11\\\",\\\"12\\\"],\\\"changes\\\":WebIO.getval({\\\"name\\\":\\\"changes\\\",\\\"scope\\\":\\\"8750465584019894698\\\",\\\"id\\\":\\\"17530735813787292228\\\",\\\"type\\\":\\\"observable\\\"}),\\\"index\\\":WebIO.getval({\\\"name\\\":\\\"index\\\",\\\"scope\\\":\\\"8750465584019894698\\\",\\\"id\\\":\\\"15626640344440451037\\\",\\\"type\\\":\\\"observable\\\"})};\\n    var self = this;\\n    function AppViewModel() {\\n        for (var key in json_data) {\\n            var el = json_data[key];\\n            this[key] = Array.isArray(el) ? ko.observableArray(el) : ko.observable(el);\\n        }\\n        \\n        [this[\\\"formatted_val\\\"]=ko.computed(    function(){\\n        return this.formatted_vals()[parseInt(this.index())-(1)];\\n    }\\n,this)]\\n        [this[\\\"changes\\\"].subscribe((function (val){!(this.valueFromJulia[\\\"changes\\\"]) ? (WebIO.setval({\\\"name\\\":\\\"changes\\\",\\\"scope\\\":\\\"8750465584019894698\\\",\\\"id\\\":\\\"17530735813787292228\\\",\\\"type\\\":\\\"observable\\\"},val)) : undefined; return this.valueFromJulia[\\\"changes\\\"]=false}),self),this[\\\"index\\\"].subscribe((function (val){!(this.valueFromJulia[\\\"index\\\"]) ? (WebIO.setval({\\\"name\\\":\\\"index\\\",\\\"scope\\\":\\\"8750465584019894698\\\",\\\"id\\\":\\\"15626640344440451037\\\",\\\"type\\\":\\\"observable\\\"},val)) : undefined; return this.valueFromJulia[\\\"index\\\"]=false}),self)]\\n        \\n    }\\n    self.model = new AppViewModel();\\n    self.valueFromJulia = {};\\n    for (var key in json_data) {\\n        self.valueFromJulia[key] = false;\\n    }\\n    ko.applyBindings(self.model, self.dom);\\n}\\n);\\n    (WebIO.importBlock({\\\"data\\\":[{\\\"name\\\":\\\"knockout\\\",\\\"type\\\":\\\"js\\\",\\\"url\\\":\\\"\\/assetserver\\/727383f2a47bd31570b7da84eee7b022dd6d7c78-knockout.js\\\"},{\\\"name\\\":\\\"knockout_punches\\\",\\\"type\\\":\\\"js\\\",\\\"url\\\":\\\"\\/assetserver\\/382b41b3b1bd9f26f75861d360bad7f8beea211f-knockout_punches.js\\\"}],\\\"type\\\":\\\"async_block\\\"})).then((imports) => handler.apply(this, imports));\\n}\\n\"],\"observables\":{\"changes\":{\"sync\":false,\"id\":\"17530735813787292228\",\"value\":0},\"index\":{\"sync\":true,\"id\":\"15626640344440451037\",\"value\":6}}},\"children\":[{\"props\":{\"className\":\"interact-flex-row interact-widget\"},\"nodeType\":\"DOM\",\"type\":\"node\",\"instanceArgs\":{\"namespace\":\"html\",\"tag\":\"div\"},\"children\":[{\"props\":{\"className\":\"interact-flex-row-left\"},\"nodeType\":\"DOM\",\"type\":\"node\",\"instanceArgs\":{\"namespace\":\"html\",\"tag\":\"div\"},\"children\":[{\"props\":{\"className\":\"interact \",\"style\":{\"padding\":\"5px 10px 0px 10px\"}},\"nodeType\":\"DOM\",\"type\":\"node\",\"instanceArgs\":{\"namespace\":\"html\",\"tag\":\"label\"},\"children\":[\"min_alike\"]}]},{\"props\":{\"className\":\"interact-flex-row-center\"},\"nodeType\":\"DOM\",\"type\":\"node\",\"instanceArgs\":{\"namespace\":\"html\",\"tag\":\"div\"},\"children\":[{\"props\":{\"max\":12,\"min\":1,\"attributes\":{\"type\":\"range\",\"data-bind\":\"numericValue: index, valueUpdate: 'input', event: {change: function (){this.changes(this.changes()+1)}}\",\"orient\":\"horizontal\"},\"step\":1,\"className\":\"slider slider is-fullwidth\",\"style\":{}},\"nodeType\":\"DOM\",\"type\":\"node\",\"instanceArgs\":{\"namespace\":\"html\",\"tag\":\"input\"},\"children\":[]}]},{\"props\":{\"className\":\"interact-flex-row-right\"},\"nodeType\":\"DOM\",\"type\":\"node\",\"instanceArgs\":{\"namespace\":\"html\",\"tag\":\"div\"},\"children\":[{\"props\":{\"attributes\":{\"data-bind\":\"text: formatted_val\"}},\"nodeType\":\"DOM\",\"type\":\"node\",\"instanceArgs\":{\"namespace\":\"html\",\"tag\":\"p\"},\"children\":[]}]}]}]}]}]},{\"props\":{\"style\":{\"display\":\"flex\",\"flex-direction\":\"row\"}},\"nodeType\":\"DOM\",\"type\":\"node\",\"instanceArgs\":{\"namespace\":\"html\",\"tag\":\"div\"},\"children\":[{\"props\":{\"className\":\"interact-widget\"},\"nodeType\":\"DOM\",\"type\":\"node\",\"instanceArgs\":{\"namespace\":\"html\",\"tag\":\"div\"},\"children\":[{\"props\":{},\"nodeType\":\"Scope\",\"type\":\"node\",\"instanceArgs\":{\"imports\":{\"data\":[{\"name\":null,\"type\":\"js\",\"url\":\"\\/assetserver\\/dd22ed1bf1896c2748f3fe616ce0b838adc895c1-katex.min.js\"},{\"name\":null,\"type\":\"css\",\"url\":\"\\/assetserver\\/46517a424aa5e6cffc1360d7e0848b601c584ee3-katex.min.css\"}],\"type\":\"async_block\"},\"id\":\"12483463203330786706\",\"handlers\":{\"value\":[\"(function (txt){return this.k.render(txt,this.container)})\"]},\"systemjs_options\":null,\"mount_callbacks\":[\"function () {\\n    var handler = ((function (k){this.k=k; this.container=this.dom.querySelector(\\\"#container\\\"); return k.render(\\\"\\\\\\\\;\\\\\\\\;\\\",this.container)}));\\n    (WebIO.importBlock({\\\"data\\\":[{\\\"name\\\":null,\\\"type\\\":\\\"js\\\",\\\"url\\\":\\\"\\/assetserver\\/dd22ed1bf1896c2748f3fe616ce0b838adc895c1-katex.min.js\\\"},{\\\"name\\\":null,\\\"type\\\":\\\"css\\\",\\\"url\\\":\\\"\\/assetserver\\/46517a424aa5e6cffc1360d7e0848b601c584ee3-katex.min.css\\\"}],\\\"type\\\":\\\"async_block\\\"})).then((imports) => handler.apply(this, imports));\\n}\\n\"],\"observables\":{\"value\":{\"sync\":false,\"id\":\"2698617157065856108\",\"value\":\"\\\\;\\\\;\"}}},\"children\":[{\"props\":{\"id\":\"container\"},\"nodeType\":\"DOM\",\"type\":\"node\",\"instanceArgs\":{\"namespace\":\"html\",\"tag\":\"div\"},\"children\":[]}]}]},{\"props\":{\"className\":\"field interact-widget\"},\"nodeType\":\"DOM\",\"type\":\"node\",\"instanceArgs\":{\"namespace\":\"html\",\"tag\":\"div\"},\"children\":[{\"props\":{},\"nodeType\":\"Scope\",\"type\":\"node\",\"instanceArgs\":{\"imports\":{\"data\":[{\"name\":\"knockout\",\"type\":\"js\",\"url\":\"\\/assetserver\\/727383f2a47bd31570b7da84eee7b022dd6d7c78-knockout.js\"},{\"name\":\"knockout_punches\",\"type\":\"js\",\"url\":\"\\/assetserver\\/382b41b3b1bd9f26f75861d360bad7f8beea211f-knockout_punches.js\"},{\"name\":null,\"type\":\"js\",\"url\":\"\\/assetserver\\/5ab20f1060420992a9b82a65b735dee4d81ef413-all.js\"},{\"name\":null,\"type\":\"css\",\"url\":\"\\/assetserver\\/1cc0ed62837210b80a182cc3676512f895dab686-style.css\"},{\"name\":null,\"type\":\"css\",\"url\":\"\\/assetserver\\/2eee816f616df3549d7044d45e744fbf8d42bfa1-bulma_confined.min.css\"}],\"type\":\"async_block\"},\"id\":\"2496389441693852700\",\"handlers\":{\"loading\":[\"(function (val){return (val!=this.model[\\\"loading\\\"]()) ? (this.valueFromJulia[\\\"loading\\\"]=true, this.model[\\\"loading\\\"](val)) : undefined})\"],\"clicks\":[\"(function (val){return (val!=this.model[\\\"clicks\\\"]()) ? (this.valueFromJulia[\\\"clicks\\\"]=true, this.model[\\\"clicks\\\"](val)) : undefined})\"]},\"systemjs_options\":null,\"mount_callbacks\":[\"function () {\\n    var handler = (function (ko, koPunches) {\\n    ko.punches.enableAll();\\n    ko.bindingHandlers.numericValue = {\\n        init: function(element, valueAccessor, allBindings, data, context) {\\n            var stringified = ko.observable(ko.unwrap(valueAccessor()));\\n            stringified.subscribe(function(value) {\\n                var val = parseFloat(value);\\n                if (!isNaN(val)) {\\n                    valueAccessor()(val);\\n                }\\n            });\\n            valueAccessor().subscribe(function(value) {\\n                var str = JSON.stringify(value);\\n                if ((str == \\\"0\\\") && ([\\\"-0\\\", \\\"-0.\\\"].indexOf(stringified()) >= 0))\\n                     return;\\n                 if ([\\\"null\\\", \\\"\\\"].indexOf(str) >= 0)\\n                     return;\\n                stringified(str);\\n            });\\n            ko.applyBindingsToNode(\\n                element,\\n                {\\n                    value: stringified,\\n                    valueUpdate: allBindings.get('valueUpdate'),\\n                },\\n                context,\\n            );\\n        }\\n    };\\n    var json_data = {\\\"loading\\\":WebIO.getval({\\\"name\\\":\\\"loading\\\",\\\"scope\\\":\\\"2496389441693852700\\\",\\\"id\\\":\\\"2292972733902601506\\\",\\\"type\\\":\\\"observable\\\"}),\\\"clicks\\\":WebIO.getval({\\\"name\\\":\\\"clicks\\\",\\\"scope\\\":\\\"2496389441693852700\\\",\\\"id\\\":\\\"854018639136150712\\\",\\\"type\\\":\\\"observable\\\"})};\\n    var self = this;\\n    function AppViewModel() {\\n        for (var key in json_data) {\\n            var el = json_data[key];\\n            this[key] = Array.isArray(el) ? ko.observableArray(el) : ko.observable(el);\\n        }\\n        \\n        \\n        [this[\\\"loading\\\"].subscribe((function (val){!(this.valueFromJulia[\\\"loading\\\"]) ? (WebIO.setval({\\\"name\\\":\\\"loading\\\",\\\"scope\\\":\\\"2496389441693852700\\\",\\\"id\\\":\\\"2292972733902601506\\\",\\\"type\\\":\\\"observable\\\"},val)) : undefined; return this.valueFromJulia[\\\"loading\\\"]=false}),self),this[\\\"clicks\\\"].subscribe((function (val){!(this.valueFromJulia[\\\"clicks\\\"]) ? (WebIO.setval({\\\"name\\\":\\\"clicks\\\",\\\"scope\\\":\\\"2496389441693852700\\\",\\\"id\\\":\\\"854018639136150712\\\",\\\"type\\\":\\\"observable\\\"},val)) : undefined; return this.valueFromJulia[\\\"clicks\\\"]=false}),self)]\\n        \\n    }\\n    self.model = new AppViewModel();\\n    self.valueFromJulia = {};\\n    for (var key in json_data) {\\n        self.valueFromJulia[key] = false;\\n    }\\n    ko.applyBindings(self.model, self.dom);\\n}\\n);\\n    (WebIO.importBlock({\\\"data\\\":[{\\\"name\\\":\\\"knockout\\\",\\\"type\\\":\\\"js\\\",\\\"url\\\":\\\"\\/assetserver\\/727383f2a47bd31570b7da84eee7b022dd6d7c78-knockout.js\\\"},{\\\"name\\\":\\\"knockout_punches\\\",\\\"type\\\":\\\"js\\\",\\\"url\\\":\\\"\\/assetserver\\/382b41b3b1bd9f26f75861d360bad7f8beea211f-knockout_punches.js\\\"}],\\\"type\\\":\\\"async_block\\\"})).then((imports) => handler.apply(this, imports));\\n}\\n\"],\"observables\":{\"loading\":{\"sync\":false,\"id\":\"2292972733902601506\",\"value\":false},\"clicks\":{\"sync\":true,\"id\":\"854018639136150712\",\"value\":0}}},\"children\":[{\"props\":{\"attributes\":{\"data-bind\":\"click: function (){this.clicks(this.clicks()+1)}, css: {'is-loading' : loading}\"},\"className\":\"is-medium button is-primary\",\"style\":{}},\"nodeType\":\"DOM\",\"type\":\"node\",\"instanceArgs\":{\"namespace\":\"html\",\"tag\":\"button\"},\"children\":[\"run\"]}]}]},{\"props\":{\"className\":\"interact-widget\"},\"nodeType\":\"DOM\",\"type\":\"node\",\"instanceArgs\":{\"namespace\":\"html\",\"tag\":\"div\"},\"children\":[{\"props\":{},\"nodeType\":\"Scope\",\"type\":\"node\",\"instanceArgs\":{\"imports\":{\"data\":[{\"name\":null,\"type\":\"js\",\"url\":\"\\/assetserver\\/dd22ed1bf1896c2748f3fe616ce0b838adc895c1-katex.min.js\"},{\"name\":null,\"type\":\"css\",\"url\":\"\\/assetserver\\/46517a424aa5e6cffc1360d7e0848b601c584ee3-katex.min.css\"}],\"type\":\"async_block\"},\"id\":\"12483463203330786706\",\"handlers\":{\"value\":[\"(function (txt){return this.k.render(txt,this.container)})\"]},\"systemjs_options\":null,\"mount_callbacks\":[\"function () {\\n    var handler = ((function (k){this.k=k; this.container=this.dom.querySelector(\\\"#container\\\"); return k.render(\\\"\\\\\\\\;\\\\\\\\;\\\",this.container)}));\\n    (WebIO.importBlock({\\\"data\\\":[{\\\"name\\\":null,\\\"type\\\":\\\"js\\\",\\\"url\\\":\\\"\\/assetserver\\/dd22ed1bf1896c2748f3fe616ce0b838adc895c1-katex.min.js\\\"},{\\\"name\\\":null,\\\"type\\\":\\\"css\\\",\\\"url\\\":\\\"\\/assetserver\\/46517a424aa5e6cffc1360d7e0848b601c584ee3-katex.min.css\\\"}],\\\"type\\\":\\\"async_block\\\"})).then((imports) => handler.apply(this, imports));\\n}\\n\"],\"observables\":{\"value\":{\"sync\":false,\"id\":\"2698617157065856108\",\"value\":\"\\\\;\\\\;\"}}},\"children\":[{\"props\":{\"id\":\"container\"},\"nodeType\":\"DOM\",\"type\":\"node\",\"instanceArgs\":{\"namespace\":\"html\",\"tag\":\"div\"},\"children\":[]}]}]},{\"props\":{\"className\":\"field interact-widget\"},\"nodeType\":\"DOM\",\"type\":\"node\",\"instanceArgs\":{\"namespace\":\"html\",\"tag\":\"div\"},\"children\":[{\"props\":{},\"nodeType\":\"Scope\",\"type\":\"node\",\"instanceArgs\":{\"imports\":{\"data\":[{\"name\":\"knockout\",\"type\":\"js\",\"url\":\"\\/assetserver\\/727383f2a47bd31570b7da84eee7b022dd6d7c78-knockout.js\"},{\"name\":\"knockout_punches\",\"type\":\"js\",\"url\":\"\\/assetserver\\/382b41b3b1bd9f26f75861d360bad7f8beea211f-knockout_punches.js\"},{\"name\":null,\"type\":\"js\",\"url\":\"\\/assetserver\\/5ab20f1060420992a9b82a65b735dee4d81ef413-all.js\"},{\"name\":null,\"type\":\"css\",\"url\":\"\\/assetserver\\/1cc0ed62837210b80a182cc3676512f895dab686-style.css\"},{\"name\":null,\"type\":\"css\",\"url\":\"\\/assetserver\\/2eee816f616df3549d7044d45e744fbf8d42bfa1-bulma_confined.min.css\"}],\"type\":\"async_block\"},\"id\":\"8551680899602257390\",\"handlers\":{\"loading\":[\"(function (val){return (val!=this.model[\\\"loading\\\"]()) ? (this.valueFromJulia[\\\"loading\\\"]=true, this.model[\\\"loading\\\"](val)) : undefined})\"],\"clicks\":[\"(function (val){return (val!=this.model[\\\"clicks\\\"]()) ? (this.valueFromJulia[\\\"clicks\\\"]=true, this.model[\\\"clicks\\\"](val)) : undefined})\"]},\"systemjs_options\":null,\"mount_callbacks\":[\"function () {\\n    var handler = (function (ko, koPunches) {\\n    ko.punches.enableAll();\\n    ko.bindingHandlers.numericValue = {\\n        init: function(element, valueAccessor, allBindings, data, context) {\\n            var stringified = ko.observable(ko.unwrap(valueAccessor()));\\n            stringified.subscribe(function(value) {\\n                var val = parseFloat(value);\\n                if (!isNaN(val)) {\\n                    valueAccessor()(val);\\n                }\\n            });\\n            valueAccessor().subscribe(function(value) {\\n                var str = JSON.stringify(value);\\n                if ((str == \\\"0\\\") && ([\\\"-0\\\", \\\"-0.\\\"].indexOf(stringified()) >= 0))\\n                     return;\\n                 if ([\\\"null\\\", \\\"\\\"].indexOf(str) >= 0)\\n                     return;\\n                stringified(str);\\n            });\\n            ko.applyBindingsToNode(\\n                element,\\n                {\\n                    value: stringified,\\n                    valueUpdate: allBindings.get('valueUpdate'),\\n                },\\n                context,\\n            );\\n        }\\n    };\\n    var json_data = {\\\"loading\\\":WebIO.getval({\\\"name\\\":\\\"loading\\\",\\\"scope\\\":\\\"8551680899602257390\\\",\\\"id\\\":\\\"11414550519626117730\\\",\\\"type\\\":\\\"observable\\\"}),\\\"clicks\\\":WebIO.getval({\\\"name\\\":\\\"clicks\\\",\\\"scope\\\":\\\"8551680899602257390\\\",\\\"id\\\":\\\"4958415936021112760\\\",\\\"type\\\":\\\"observable\\\"})};\\n    var self = this;\\n    function AppViewModel() {\\n        for (var key in json_data) {\\n            var el = json_data[key];\\n            this[key] = Array.isArray(el) ? ko.observableArray(el) : ko.observable(el);\\n        }\\n        \\n        \\n        [this[\\\"loading\\\"].subscribe((function (val){!(this.valueFromJulia[\\\"loading\\\"]) ? (WebIO.setval({\\\"name\\\":\\\"loading\\\",\\\"scope\\\":\\\"8551680899602257390\\\",\\\"id\\\":\\\"11414550519626117730\\\",\\\"type\\\":\\\"observable\\\"},val)) : undefined; return this.valueFromJulia[\\\"loading\\\"]=false}),self),this[\\\"clicks\\\"].subscribe((function (val){!(this.valueFromJulia[\\\"clicks\\\"]) ? (WebIO.setval({\\\"name\\\":\\\"clicks\\\",\\\"scope\\\":\\\"8551680899602257390\\\",\\\"id\\\":\\\"4958415936021112760\\\",\\\"type\\\":\\\"observable\\\"},val)) : undefined; return this.valueFromJulia[\\\"clicks\\\"]=false}),self)]\\n        \\n    }\\n    self.model = new AppViewModel();\\n    self.valueFromJulia = {};\\n    for (var key in json_data) {\\n        self.valueFromJulia[key] = false;\\n    }\\n    ko.applyBindings(self.model, self.dom);\\n}\\n);\\n    (WebIO.importBlock({\\\"data\\\":[{\\\"name\\\":\\\"knockout\\\",\\\"type\\\":\\\"js\\\",\\\"url\\\":\\\"\\/assetserver\\/727383f2a47bd31570b7da84eee7b022dd6d7c78-knockout.js\\\"},{\\\"name\\\":\\\"knockout_punches\\\",\\\"type\\\":\\\"js\\\",\\\"url\\\":\\\"\\/assetserver\\/382b41b3b1bd9f26f75861d360bad7f8beea211f-knockout_punches.js\\\"}],\\\"type\\\":\\\"async_block\\\"})).then((imports) => handler.apply(this, imports));\\n}\\n\"],\"observables\":{\"loading\":{\"sync\":false,\"id\":\"11414550519626117730\",\"value\":false},\"clicks\":{\"sync\":true,\"id\":\"4958415936021112760\",\"value\":0}}},\"children\":[{\"props\":{\"attributes\":{\"data-bind\":\"click: function (){this.clicks(this.clicks()+1)}, css: {'is-loading' : loading}\"},\"className\":\"is-medium button is-primary\",\"style\":{}},\"nodeType\":\"DOM\",\"type\":\"node\",\"instanceArgs\":{\"namespace\":\"html\",\"tag\":\"button\"},\"children\":[\"stop\"]}]}]},{\"props\":{\"className\":\"interact-widget\"},\"nodeType\":\"DOM\",\"type\":\"node\",\"instanceArgs\":{\"namespace\":\"html\",\"tag\":\"div\"},\"children\":[{\"props\":{},\"nodeType\":\"Scope\",\"type\":\"node\",\"instanceArgs\":{\"imports\":{\"data\":[{\"name\":null,\"type\":\"js\",\"url\":\"\\/assetserver\\/dd22ed1bf1896c2748f3fe616ce0b838adc895c1-katex.min.js\"},{\"name\":null,\"type\":\"css\",\"url\":\"\\/assetserver\\/46517a424aa5e6cffc1360d7e0848b601c584ee3-katex.min.css\"}],\"type\":\"async_block\"},\"id\":\"12483463203330786706\",\"handlers\":{\"value\":[\"(function (txt){return this.k.render(txt,this.container)})\"]},\"systemjs_options\":null,\"mount_callbacks\":[\"function () {\\n    var handler = ((function (k){this.k=k; this.container=this.dom.querySelector(\\\"#container\\\"); return k.render(\\\"\\\\\\\\;\\\\\\\\;\\\",this.container)}));\\n    (WebIO.importBlock({\\\"data\\\":[{\\\"name\\\":null,\\\"type\\\":\\\"js\\\",\\\"url\\\":\\\"\\/assetserver\\/dd22ed1bf1896c2748f3fe616ce0b838adc895c1-katex.min.js\\\"},{\\\"name\\\":null,\\\"type\\\":\\\"css\\\",\\\"url\\\":\\\"\\/assetserver\\/46517a424aa5e6cffc1360d7e0848b601c584ee3-katex.min.css\\\"}],\\\"type\\\":\\\"async_block\\\"})).then((imports) => handler.apply(this, imports));\\n}\\n\"],\"observables\":{\"value\":{\"sync\":false,\"id\":\"2698617157065856108\",\"value\":\"\\\\;\\\\;\"}}},\"children\":[{\"props\":{\"id\":\"container\"},\"nodeType\":\"DOM\",\"type\":\"node\",\"instanceArgs\":{\"namespace\":\"html\",\"tag\":\"div\"},\"children\":[]}]}]},{\"props\":{\"className\":\"field interact-widget\"},\"nodeType\":\"DOM\",\"type\":\"node\",\"instanceArgs\":{\"namespace\":\"html\",\"tag\":\"div\"},\"children\":[{\"props\":{},\"nodeType\":\"Scope\",\"type\":\"node\",\"instanceArgs\":{\"imports\":{\"data\":[{\"name\":\"knockout\",\"type\":\"js\",\"url\":\"\\/assetserver\\/727383f2a47bd31570b7da84eee7b022dd6d7c78-knockout.js\"},{\"name\":\"knockout_punches\",\"type\":\"js\",\"url\":\"\\/assetserver\\/382b41b3b1bd9f26f75861d360bad7f8beea211f-knockout_punches.js\"},{\"name\":null,\"type\":\"js\",\"url\":\"\\/assetserver\\/5ab20f1060420992a9b82a65b735dee4d81ef413-all.js\"},{\"name\":null,\"type\":\"css\",\"url\":\"\\/assetserver\\/1cc0ed62837210b80a182cc3676512f895dab686-style.css\"},{\"name\":null,\"type\":\"css\",\"url\":\"\\/assetserver\\/2eee816f616df3549d7044d45e744fbf8d42bfa1-bulma_confined.min.css\"}],\"type\":\"async_block\"},\"id\":\"15507192070037400714\",\"handlers\":{\"loading\":[\"(function (val){return (val!=this.model[\\\"loading\\\"]()) ? (this.valueFromJulia[\\\"loading\\\"]=true, this.model[\\\"loading\\\"](val)) : undefined})\"],\"clicks\":[\"(function (val){return (val!=this.model[\\\"clicks\\\"]()) ? (this.valueFromJulia[\\\"clicks\\\"]=true, this.model[\\\"clicks\\\"](val)) : undefined})\"]},\"systemjs_options\":null,\"mount_callbacks\":[\"function () {\\n    var handler = (function (ko, koPunches) {\\n    ko.punches.enableAll();\\n    ko.bindingHandlers.numericValue = {\\n        init: function(element, valueAccessor, allBindings, data, context) {\\n            var stringified = ko.observable(ko.unwrap(valueAccessor()));\\n            stringified.subscribe(function(value) {\\n                var val = parseFloat(value);\\n                if (!isNaN(val)) {\\n                    valueAccessor()(val);\\n                }\\n            });\\n            valueAccessor().subscribe(function(value) {\\n                var str = JSON.stringify(value);\\n                if ((str == \\\"0\\\") && ([\\\"-0\\\", \\\"-0.\\\"].indexOf(stringified()) >= 0))\\n                     return;\\n                 if ([\\\"null\\\", \\\"\\\"].indexOf(str) >= 0)\\n                     return;\\n                stringified(str);\\n            });\\n            ko.applyBindingsToNode(\\n                element,\\n                {\\n                    value: stringified,\\n                    valueUpdate: allBindings.get('valueUpdate'),\\n                },\\n                context,\\n            );\\n        }\\n    };\\n    var json_data = {\\\"loading\\\":WebIO.getval({\\\"name\\\":\\\"loading\\\",\\\"scope\\\":\\\"15507192070037400714\\\",\\\"id\\\":\\\"9861749335492624580\\\",\\\"type\\\":\\\"observable\\\"}),\\\"clicks\\\":WebIO.getval({\\\"name\\\":\\\"clicks\\\",\\\"scope\\\":\\\"15507192070037400714\\\",\\\"id\\\":\\\"14880892921096461256\\\",\\\"type\\\":\\\"observable\\\"})};\\n    var self = this;\\n    function AppViewModel() {\\n        for (var key in json_data) {\\n            var el = json_data[key];\\n            this[key] = Array.isArray(el) ? ko.observableArray(el) : ko.observable(el);\\n        }\\n        \\n        \\n        [this[\\\"loading\\\"].subscribe((function (val){!(this.valueFromJulia[\\\"loading\\\"]) ? (WebIO.setval({\\\"name\\\":\\\"loading\\\",\\\"scope\\\":\\\"15507192070037400714\\\",\\\"id\\\":\\\"9861749335492624580\\\",\\\"type\\\":\\\"observable\\\"},val)) : undefined; return this.valueFromJulia[\\\"loading\\\"]=false}),self),this[\\\"clicks\\\"].subscribe((function (val){!(this.valueFromJulia[\\\"clicks\\\"]) ? (WebIO.setval({\\\"name\\\":\\\"clicks\\\",\\\"scope\\\":\\\"15507192070037400714\\\",\\\"id\\\":\\\"14880892921096461256\\\",\\\"type\\\":\\\"observable\\\"},val)) : undefined; return this.valueFromJulia[\\\"clicks\\\"]=false}),self)]\\n        \\n    }\\n    self.model = new AppViewModel();\\n    self.valueFromJulia = {};\\n    for (var key in json_data) {\\n        self.valueFromJulia[key] = false;\\n    }\\n    ko.applyBindings(self.model, self.dom);\\n}\\n);\\n    (WebIO.importBlock({\\\"data\\\":[{\\\"name\\\":\\\"knockout\\\",\\\"type\\\":\\\"js\\\",\\\"url\\\":\\\"\\/assetserver\\/727383f2a47bd31570b7da84eee7b022dd6d7c78-knockout.js\\\"},{\\\"name\\\":\\\"knockout_punches\\\",\\\"type\\\":\\\"js\\\",\\\"url\\\":\\\"\\/assetserver\\/382b41b3b1bd9f26f75861d360bad7f8beea211f-knockout_punches.js\\\"}],\\\"type\\\":\\\"async_block\\\"})).then((imports) => handler.apply(this, imports));\\n}\\n\"],\"observables\":{\"loading\":{\"sync\":false,\"id\":\"9861749335492624580\",\"value\":false},\"clicks\":{\"sync\":true,\"id\":\"14880892921096461256\",\"value\":0}}},\"children\":[{\"props\":{\"attributes\":{\"data-bind\":\"click: function (){this.clicks(this.clicks()+1)}, css: {'is-loading' : loading}\"},\"className\":\"is-medium button is-primary\",\"style\":{}},\"nodeType\":\"DOM\",\"type\":\"node\",\"instanceArgs\":{\"namespace\":\"html\",\"tag\":\"button\"},\"children\":[\"reset\"]}]}]}]}]},{\"props\":{},\"nodeType\":\"Scope\",\"type\":\"node\",\"instanceArgs\":{\"imports\":{\"data\":[],\"type\":\"async_block\"},\"id\":\"16199813756582663812\",\"handlers\":{\"obs-output\":[\"function (value, scope) {\\n    scope.setInnerHTML(value);\\n}\\n\"]},\"systemjs_options\":null,\"mount_callbacks\":[],\"observables\":{\"obs-output\":{\"sync\":false,\"id\":\"9467172386689878640\",\"value\":\"    <div style=\\\"height: 500px; width: 100%; overflow-x: auto; overflow-y: hidden; resize: both\\\">\\n    <iframe src=\\\"http:\\/\\/127.0.0.1:8702\\\" style=\\\"width: 100%; height: 100%; border: none\\\"><\\/iframe>\\n    <\\/div>\\n\"}}},\"children\":[{\"props\":{\"className\":\"webio-observable\",\"setInnerHtml\":\"    <div style=\\\"height: 500px; width: 100%; overflow-x: auto; overflow-y: hidden; resize: both\\\">\\n    <iframe src=\\\"http:\\/\\/127.0.0.1:8702\\\" style=\\\"width: 100%; height: 100%; border: none\\\"><\\/iframe>\\n    <\\/div>\\n\"},\"nodeType\":\"DOM\",\"type\":\"node\",\"instanceArgs\":{\"namespace\":\"html\",\"tag\":\"div\"},\"children\":[]}]},{\"props\":{\"className\":\"interact-widget\"},\"nodeType\":\"DOM\",\"type\":\"node\",\"instanceArgs\":{\"namespace\":\"html\",\"tag\":\"div\"},\"children\":[{\"props\":{},\"nodeType\":\"Scope\",\"type\":\"node\",\"instanceArgs\":{\"imports\":{\"data\":[{\"name\":null,\"type\":\"js\",\"url\":\"\\/assetserver\\/dd22ed1bf1896c2748f3fe616ce0b838adc895c1-katex.min.js\"},{\"name\":null,\"type\":\"css\",\"url\":\"\\/assetserver\\/46517a424aa5e6cffc1360d7e0848b601c584ee3-katex.min.css\"}],\"type\":\"async_block\"},\"id\":\"12483463203330786706\",\"handlers\":{\"value\":[\"(function (txt){return this.k.render(txt,this.container)})\"]},\"systemjs_options\":null,\"mount_callbacks\":[\"function () {\\n    var handler = ((function (k){this.k=k; this.container=this.dom.querySelector(\\\"#container\\\"); return k.render(\\\"\\\\\\\\;\\\\\\\\;\\\",this.container)}));\\n    (WebIO.importBlock({\\\"data\\\":[{\\\"name\\\":null,\\\"type\\\":\\\"js\\\",\\\"url\\\":\\\"\\/assetserver\\/dd22ed1bf1896c2748f3fe616ce0b838adc895c1-katex.min.js\\\"},{\\\"name\\\":null,\\\"type\\\":\\\"css\\\",\\\"url\\\":\\\"\\/assetserver\\/46517a424aa5e6cffc1360d7e0848b601c584ee3-katex.min.css\\\"}],\\\"type\\\":\\\"async_block\\\"})).then((imports) => handler.apply(this, imports));\\n}\\n\"],\"observables\":{\"value\":{\"sync\":false,\"id\":\"2698617157065856108\",\"value\":\"\\\\;\\\\;\"}}},\"children\":[{\"props\":{\"id\":\"container\"},\"nodeType\":\"DOM\",\"type\":\"node\",\"instanceArgs\":{\"namespace\":\"html\",\"tag\":\"div\"},\"children\":[]}]}]},{\"props\":{\"style\":{\"display\":\"flex\",\"flex-direction\":\"column\"}},\"nodeType\":\"DOM\",\"type\":\"node\",\"instanceArgs\":{\"namespace\":\"html\",\"tag\":\"div\"},\"children\":[{\"props\":{},\"nodeType\":\"Scope\",\"type\":\"node\",\"instanceArgs\":{\"imports\":{\"data\":[],\"type\":\"async_block\"},\"id\":\"5252087236629018438\",\"handlers\":{\"obs-output\":[\"function (value, scope) {\\n    scope.setInnerHTML(value);\\n}\\n\"]},\"systemjs_options\":null,\"mount_callbacks\":[],\"observables\":{\"obs-output\":{\"sync\":false,\"id\":\"4248469923400327970\",\"value\":\"<img src=\\\"data:image\\/png;base64,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\\\" \\/>\"}}},\"children\":[{\"props\":{\"className\":\"webio-observable\",\"setInnerHtml\":\"<img src=\\\"data:image\\/png;base64,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\\\" \\/>\"},\"nodeType\":\"DOM\",\"type\":\"node\",\"instanceArgs\":{\"namespace\":\"html\",\"tag\":\"div\"},\"children\":[]}]}]}]}]},\n",
       "        window,\n",
       "    );\n",
       "    })()\n",
       "    </script>\n",
       "</div>\n"
      ],
      "text/plain": [
       "WebIO.Node{WebIO.DOM}(WebIO.DOM(:html, :div), Any[WebIO.Node{WebIO.DOM}(WebIO.DOM(:html, :div), Any[WebIO.Node{WebIO.DOM}(WebIO.DOM(:html, :div), Any[WebIO.Node{WebIO.DOM}(WebIO.DOM(:html, :div), Any[WebIO.Scope(WebIO.Node{WebIO.DOM}(WebIO.DOM(:html, :div), Any[WebIO.Node{WebIO.DOM}(WebIO.DOM(:html, :div), Any[WebIO.Node{WebIO.DOM}(WebIO.DOM(:html, :label), Any[\"time\"], Dict{Symbol, Any}(:className => \"interact \", :style => Dict{Any, Any}(:padding => \"5px 10px 0px 10px\")))], Dict{Symbol, Any}(:className => \"interact-flex-row-left\")), WebIO.Node{WebIO.DOM}(WebIO.DOM(:html, :div), Any[WebIO.Node{WebIO.DOM}(WebIO.DOM(:html, :input), Any[], Dict{Symbol, Any}(:max => 200, :min => 1, :attributes => Dict{Any, Any}(:type => \"range\", Symbol(\"data-bind\") => \"numericValue: index, valueUpdate: 'input', event: {change: function (){this.changes(this.changes()+1)}}\", \"orient\" => \"horizontal\"), :step => 1, :className => \"slider slider is-fullwidth\", :style => Dict{Any, Any}()))], Dict{Symbol, Any}(:className => \"interact-flex-row-center\")), WebIO.Node{WebIO.DOM}(WebIO.DOM(:html, :div), Any[WebIO.Node{WebIO.DOM}(WebIO.DOM(:html, :p), Any[], Dict{Symbol, Any}(:attributes => Dict(\"data-bind\" => \"text: formatted_val\")))], Dict{Symbol, Any}(:className => \"interact-flex-row-right\"))], Dict{Symbol, Any}(:className => \"interact-flex-row interact-widget\")), Dict{String, Tuple{Observables.AbstractObservable, Union{Nothing, Bool}}}(\"changes\" => (Observable(0), nothing), \"index\" => (Observable(1), nothing)), Set{String}(), nothing, WebIO.Asset[WebIO.Asset(\"js\", \"knockout\", \"/home/dushya/.julia/packages/Knockout/HReiN/src/../assets/knockout.js\"), WebIO.Asset(\"js\", \"knockout_punches\", \"/home/dushya/.julia/packages/Knockout/HReiN/src/../assets/knockout_punches.js\"), WebIO.Asset(\"js\", nothing, \"/home/dushya/.julia/packages/InteractBase/LJXv3/src/../assets/all.js\"), WebIO.Asset(\"css\", nothing, \"/home/dushya/.julia/packages/InteractBase/LJXv3/src/../assets/style.css\"), WebIO.Asset(\"css\", nothing, \"/home/dushya/.julia/packages/Interact/PENUy/src/../assets/bulma_confined.min.css\")], Dict{Any, Any}(\"changes\" => Any[WebIO.JSString(\"(function (val){return (val!=this.model[\\\"changes\\\"]()) ? (this.valueFromJulia[\\\"changes\\\"]=true, this.model[\\\"changes\\\"](val)) : undefined})\")], \"index\" => Any[WebIO.JSString(\"(function (val){return (val!=this.model[\\\"index\\\"]()) ? (this.valueFromJulia[\\\"index\\\"]=true, this.model[\\\"index\\\"](val)) : undefined})\")]), WebIO.ConnectionPool(Channel{Any}(32), Set{WebIO.AbstractConnection}(), Base.GenericCondition{ReentrantLock}(Base.IntrusiveLinkedList{Task}(Task (runnable) @0x00007f2715bc44c0, Task (runnable) @0x00007f2715bc44c0), ReentrantLock(nothing, 0x00000000, 0x00, Base.GenericCondition{Base.Threads.SpinLock}(Base.IntrusiveLinkedList{Task}(nothing, nothing), Base.Threads.SpinLock(0)), (1, 0, 4)))), WebIO.JSString[WebIO.JSString(\"function () {\\n    var handler = (function (ko, koPunches) {\\n    ko.punches.enableAll();\\n    ko.bindingHandlers.numericValue = {\\n        init: function(element, valueAccessor, allBindings, data, context) {\\n            var stringified = ko.observable(ko.unwrap(valueAccessor()));\\n            stringified.subscribe(function(value) {\\n                var val = parseFloat(value);\\n                if (!isNaN(val)) {\\n                    valueAccessor()(val);\\n                }\\n            });\\n            valueAccessor().subscribe(function(value) {\\n                var str = JSON.stringify(value);\\n                if ((str == \\\"0\\\") && ([\\\"-0\\\", \\\"-0.\\\"].indexOf(stringified()) >= 0))\\n                     return;\\n                 if ([\\\"null\\\", \\\"\\\"].indexOf(str) >= 0)\\n                     return;\\n                stringified(str);\\n            });\\n            ko.applyBindingsToNode(\\n                element,\\n                {\\n                    value: stringified,\\n                    valueUpdate: allBindings.get('valueUpdate'),\\n                },\\n                context,\\n            );\\n        }\\n    };\\n    var json_data = {\\\"formatted_vals\\\":[\\\"1\\\",\\\"2\\\",\\\"3\\\",\\\"4\\\",\\\"5\\\",\\\"6\\\",\\\"7\\\",\\\"8\\\",\\\"9\\\",\\\"10\\\",\\\"11\\\",\\\"12\\\",\\\"13\\\",\\\"14\\\",\\\"15\\\",\\\"16\\\",\\\"17\\\",\\\"18\\\",\\\"19\\\",\\\"20\\\",\\\"21\\\",\\\"22\\\",\\\"23\\\",\\\"24\\\",\\\"25\\\",\\\"26\\\",\\\"27\\\",\\\"28\\\",\\\"29\\\",\\\"30\\\",\\\"31\\\",\\\"32\\\",\\\"33\\\",\\\"34\\\",\\\"35\\\",\\\"36\\\",\\\"37\\\",\\\"38\\\",\\\"39\\\",\\\"40\\\",\\\"41\\\",\\\"42\\\",\\\"43\\\",\\\"44\\\",\\\"45\\\",\\\"46\\\",\\\"47\\\",\\\"48\\\",\\\"49\\\",\\\"50\\\",\\\"51\\\",\\\"52\\\",\\\"53\\\",\\\"54\\\",\\\"55\\\",\\\"56\\\",\\\"57\\\",\\\"58\\\",\\\"59\\\",\\\"60\\\",\\\"61\\\",\\\"62\\\",\\\"63\\\",\\\"64\\\",\\\"65\\\",\\\"66\\\",\\\"67\\\",\\\"68\\\",\\\"69\\\",\\\"70\\\",\\\"71\\\",\\\"72\\\",\\\"73\\\",\\\"74\\\",\\\"75\\\",\\\"76\\\",\\\"77\\\",\\\"78\\\",\\\"79\\\",\\\"80\\\",\\\"81\\\",\\\"82\\\",\\\"83\\\",\\\"84\\\",\\\"85\\\",\\\"86\\\",\\\"87\\\",\\\"88\\\",\\\"89\\\",\\\"90\\\",\\\"91\\\",\\\"92\\\",\\\"93\\\",\\\"94\\\",\\\"95\\\",\\\"96\\\",\\\"97\\\",\\\"98\\\",\\\"99\\\",\\\"100\\\",\\\"101\\\",\\\"102\\\",\\\"103\\\",\\\"104\\\",\\\"105\\\",\\\"106\\\",\\\"107\\\",\\\"108\\\",\\\"109\\\",\\\"110\\\",\\\"111\\\",\\\"112\\\",\\\"113\\\",\\\"114\\\",\\\"115\\\",\\\"116\\\",\\\"117\\\",\\\"118\\\",\\\"119\\\",\\\"120\\\",\\\"121\\\",\\\"122\\\",\\\"123\\\",\\\"124\\\",\\\"125\\\",\\\"126\\\",\\\"127\\\",\\\"128\\\",\\\"129\\\",\\\"130\\\",\\\"131\\\",\\\"132\\\",\\\"133\\\",\\\"134\\\",\\\"135\\\",\\\"136\\\",\\\"137\\\",\\\"138\\\",\\\"139\\\",\\\"140\\\",\\\"141\\\",\\\"142\\\",\\\"143\\\",\\\"144\\\",\\\"145\\\",\\\"146\\\",\\\"147\\\",\\\"148\\\",\\\"149\\\",\\\"150\\\",\\\"151\\\",\\\"152\\\",\\\"153\\\",\\\"154\\\",\\\"155\\\",\\\"156\\\",\\\"157\\\",\\\"158\\\",\\\"159\\\",\\\"160\\\",\\\"161\\\",\\\"162\\\",\\\"163\\\",\\\"164\\\",\\\"165\\\",\\\"166\\\",\\\"167\\\",\\\"168\\\",\\\"169\\\",\\\"170\\\",\\\"171\\\",\\\"172\\\",\\\"173\\\",\\\"174\\\",\\\"175\\\",\\\"176\\\",\\\"177\\\",\\\"178\\\",\\\"179\\\",\\\"180\\\",\\\"181\\\",\\\"182\\\",\\\"183\\\",\\\"184\\\",\\\"185\\\",\\\"186\\\",\\\"187\\\",\\\"188\\\",\\\"189\\\",\\\"190\\\",\\\"191\\\",\\\"192\\\",\\\"193\\\",\\\"194\\\",\\\"195\\\",\\\"196\\\",\\\"197\\\",\\\"198\\\",\\\"199\\\",\\\"200\\\"],\\\"changes\\\":WebIO.getval({\\\"name\\\":\\\"changes\\\",\\\"scope\\\":\\\"5740188537462568722\\\",\\\"id\\\":\\\"9403001061244740146\\\",\\\"type\\\":\\\"observable\\\"}),\\\"index\\\":WebIO.getval({\\\"name\\\":\\\"index\\\",\\\"scope\\\":\\\"5740188537462568722\\\",\\\"id\\\":\\\"12835508483078130718\\\",\\\"type\\\":\\\"observable\\\"})};\\n    var self = this;\\n    function AppViewModel() {\\n        for (var key in json_data) {\\n            var el = json_data[key];\\n            this[key] = Array.isArray(el) ? ko.observableArray(el) : ko.observable(el);\\n        }\\n        \\n        [this[\\\"formatted_val\\\"]=ko.computed(    function(){\\n        return this.formatted_vals()[parseInt(this.index())-(1)];\\n    }\\n,this)]\\n        [this[\\\"changes\\\"].subscribe((function (val){!(this.valueFromJulia[\\\"changes\\\"]) ? (WebIO.setval({\\\"name\\\":\\\"changes\\\",\\\"scope\\\":\\\"5740188537462568722\\\",\\\"id\\\":\\\"9403001061244740146\\\",\\\"type\\\":\\\"observable\\\"},val)) : undefined; return this.valueFromJulia[\\\"changes\\\"]=false}),self),this[\\\"index\\\"].subscribe((function (val){!(this.valueFromJulia[\\\"index\\\"]) ? (WebIO.setval({\\\"name\\\":\\\"index\\\",\\\"scope\\\":\\\"5740188537462568722\\\",\\\"id\\\":\\\"12835508483078130718\\\",\\\"type\\\":\\\"observable\\\"},val)) : undefined; return this.valueFromJulia[\\\"index\\\"]=false}),self)]\\n        \\n    }\\n    self.model = new AppViewModel();\\n    self.valueFromJulia = {};\\n    for (var key in json_data) {\\n        self.valueFromJulia[key] = false;\\n    }\\n    ko.applyBindings(self.model, self.dom);\\n}\\n);\\n    (WebIO.importBlock({\\\"data\\\":[{\\\"name\\\":\\\"knockout\\\",\\\"type\\\":\\\"js\\\",\\\"url\\\":\\\"/assetserver/727383f2a47bd31570b7da84eee7b022dd6d7c78-knockout.js\\\"},{\\\"name\\\":\\\"knockout_punches\\\",\\\"type\\\":\\\"js\\\",\\\"url\\\":\\\"/assetserver/382b41b3b1bd9f26f75861d360bad7f8beea211f-knockout_punches.js\\\"}],\\\"type\\\":\\\"async_block\\\"})).then((imports) => handler.apply(this, imports));\\n}\\n\")])], Dict{Symbol, Any}(:className => \"field interact-widget\")), WebIO.Node{WebIO.DOM}(WebIO.DOM(:html, :div), Any[WebIO.Scope(WebIO.Node{WebIO.DOM}(WebIO.DOM(:html, :div), Any[WebIO.Node{WebIO.DOM}(WebIO.DOM(:html, :div), Any[WebIO.Node{WebIO.DOM}(WebIO.DOM(:html, :label), Any[\"scale\"], Dict{Symbol, Any}(:className => \"interact \", :style => Dict{Any, Any}(:padding => \"5px 10px 0px 10px\")))], Dict{Symbol, Any}(:className => \"interact-flex-row-left\")), WebIO.Node{WebIO.DOM}(WebIO.DOM(:html, :div), Any[WebIO.Node{WebIO.DOM}(WebIO.DOM(:html, :input), Any[], Dict{Symbol, Any}(:max => 20, :min => 1, :attributes => Dict{Any, Any}(:type => \"range\", Symbol(\"data-bind\") => \"numericValue: index, valueUpdate: 'input', event: {change: function (){this.changes(this.changes()+1)}}\", \"orient\" => \"horizontal\"), :step => 1, :className => \"slider slider is-fullwidth\", :style => Dict{Any, Any}()))], Dict{Symbol, Any}(:className => \"interact-flex-row-center\")), WebIO.Node{WebIO.DOM}(WebIO.DOM(:html, :div), Any[WebIO.Node{WebIO.DOM}(WebIO.DOM(:html, :p), Any[], Dict{Symbol, Any}(:attributes => Dict(\"data-bind\" => \"text: formatted_val\")))], Dict{Symbol, Any}(:className => \"interact-flex-row-right\"))], Dict{Symbol, Any}(:className => \"interact-flex-row interact-widget\")), Dict{String, Tuple{Observables.AbstractObservable, Union{Nothing, Bool}}}(\"changes\" => (Observable(0), nothing), \"index\" => (Observable{Any}(10), nothing)), Set{String}(), nothing, WebIO.Asset[WebIO.Asset(\"js\", \"knockout\", \"/home/dushya/.julia/packages/Knockout/HReiN/src/../assets/knockout.js\"), WebIO.Asset(\"js\", \"knockout_punches\", \"/home/dushya/.julia/packages/Knockout/HReiN/src/../assets/knockout_punches.js\"), WebIO.Asset(\"js\", nothing, \"/home/dushya/.julia/packages/InteractBase/LJXv3/src/../assets/all.js\"), WebIO.Asset(\"css\", nothing, \"/home/dushya/.julia/packages/InteractBase/LJXv3/src/../assets/style.css\"), WebIO.Asset(\"css\", nothing, \"/home/dushya/.julia/packages/Interact/PENUy/src/../assets/bulma_confined.min.css\")], Dict{Any, Any}(\"changes\" => Any[WebIO.JSString(\"(function (val){return (val!=this.model[\\\"changes\\\"]()) ? (this.valueFromJulia[\\\"changes\\\"]=true, this.model[\\\"changes\\\"](val)) : undefined})\")], \"index\" => Any[WebIO.JSString(\"(function (val){return (val!=this.model[\\\"index\\\"]()) ? (this.valueFromJulia[\\\"index\\\"]=true, this.model[\\\"index\\\"](val)) : undefined})\")]), WebIO.ConnectionPool(Channel{Any}(32), Set{WebIO.AbstractConnection}(), Base.GenericCondition{ReentrantLock}(Base.IntrusiveLinkedList{Task}(Task (runnable) @0x00007f2715c64c90, Task (runnable) @0x00007f2715c64c90), ReentrantLock(nothing, 0x00000000, 0x00, Base.GenericCondition{Base.Threads.SpinLock}(Base.IntrusiveLinkedList{Task}(nothing, nothing), Base.Threads.SpinLock(0)), (0, 0, 141733920768)))), WebIO.JSString[WebIO.JSString(\"function () {\\n    var handler = (function (ko, koPunches) {\\n    ko.punches.enableAll();\\n    ko.bindingHandlers.numericValue = {\\n        init: function(element, valueAccessor, allBindings, data, context) {\\n            var stringified = ko.observable(ko.unwrap(valueAccessor()));\\n            stringified.subscribe(function(value) {\\n                var val = parseFloat(value);\\n                if (!isNaN(val)) {\\n                    valueAccessor()(val);\\n                }\\n            });\\n            valueAccessor().subscribe(function(value) {\\n                var str = JSON.stringify(value);\\n                if ((str == \\\"0\\\") && ([\\\"-0\\\", \\\"-0.\\\"].indexOf(stringified()) >= 0))\\n                     return;\\n                 if ([\\\"null\\\", \\\"\\\"].indexOf(str) >= 0)\\n                     return;\\n                stringified(str);\\n            });\\n            ko.applyBindingsToNode(\\n                element,\\n                {\\n                    value: stringified,\\n                    valueUpdate: allBindings.get('valueUpdate'),\\n                },\\n                context,\\n            );\\n        }\\n    };\\n    var json_data = {\\\"formatted_vals\\\":[\\\"0.1\\\",\\\"0.2\\\",\\\"0.3\\\",\\\"0.4\\\",\\\"0.5\\\",\\\"0.6\\\",\\\"0.7\\\",\\\"0.8\\\",\\\"0.9\\\",\\\"1.0\\\",\\\"1.1\\\",\\\"1.2\\\",\\\"1.3\\\",\\\"1.4\\\",\\\"1.5\\\",\\\"1.6\\\",\\\"1.7\\\",\\\"1.8\\\",\\\"1.9\\\",\\\"2.0\\\"],\\\"changes\\\":WebIO.getval({\\\"name\\\":\\\"changes\\\",\\\"scope\\\":\\\"7823398443230207596\\\",\\\"id\\\":\\\"18191329181811061022\\\",\\\"type\\\":\\\"observable\\\"}),\\\"index\\\":WebIO.getval({\\\"name\\\":\\\"index\\\",\\\"scope\\\":\\\"7823398443230207596\\\",\\\"id\\\":\\\"2317692519467890911\\\",\\\"type\\\":\\\"observable\\\"})};\\n    var self = this;\\n    function AppViewModel() {\\n        for (var key in json_data) {\\n            var el = json_data[key];\\n            this[key] = Array.isArray(el) ? ko.observableArray(el) : ko.observable(el);\\n        }\\n        \\n        [this[\\\"formatted_val\\\"]=ko.computed(    function(){\\n        return this.formatted_vals()[parseInt(this.index())-(1)];\\n    }\\n,this)]\\n        [this[\\\"changes\\\"].subscribe((function (val){!(this.valueFromJulia[\\\"changes\\\"]) ? (WebIO.setval({\\\"name\\\":\\\"changes\\\",\\\"scope\\\":\\\"7823398443230207596\\\",\\\"id\\\":\\\"18191329181811061022\\\",\\\"type\\\":\\\"observable\\\"},val)) : undefined; return this.valueFromJulia[\\\"changes\\\"]=false}),self),this[\\\"index\\\"].subscribe((function (val){!(this.valueFromJulia[\\\"index\\\"]) ? (WebIO.setval({\\\"name\\\":\\\"index\\\",\\\"scope\\\":\\\"7823398443230207596\\\",\\\"id\\\":\\\"2317692519467890911\\\",\\\"type\\\":\\\"observable\\\"},val)) : undefined; return this.valueFromJulia[\\\"index\\\"]=false}),self)]\\n        \\n    }\\n    self.model = new AppViewModel();\\n    self.valueFromJulia = {};\\n    for (var key in json_data) {\\n        self.valueFromJulia[key] = false;\\n    }\\n    ko.applyBindings(self.model, self.dom);\\n}\\n);\\n    (WebIO.importBlock({\\\"data\\\":[{\\\"name\\\":\\\"knockout\\\",\\\"type\\\":\\\"js\\\",\\\"url\\\":\\\"/assetserver/727383f2a47bd31570b7da84eee7b022dd6d7c78-knockout.js\\\"},{\\\"name\\\":\\\"knockout_punches\\\",\\\"type\\\":\\\"js\\\",\\\"url\\\":\\\"/assetserver/382b41b3b1bd9f26f75861d360bad7f8beea211f-knockout_punches.js\\\"}],\\\"type\\\":\\\"async_block\\\"})).then((imports) => handler.apply(this, imports));\\n}\\n\")])], Dict{Symbol, Any}(:className => \"field interact-widget\")), WebIO.Node{WebIO.DOM}(WebIO.DOM(:html, :div), Any[], Dict{Symbol, Any}(:style => Dict(\"display\" => \"flex\", \"flex-direction\" => \"column\"))), WebIO.Node{WebIO.DOM}(WebIO.DOM(:html, :div), Any[WebIO.Node{WebIO.DOM}(WebIO.DOM(:html, :div), Any[WebIO.Scope(WebIO.Node{WebIO.DOM}(WebIO.DOM(:html, :div), Any[WebIO.Node{WebIO.DOM}(WebIO.DOM(:html, :div), Any[WebIO.Node{WebIO.DOM}(WebIO.DOM(:html, :label), Any[\"min_alike\"], Dict{Symbol, Any}(:className => \"interact \", :style => Dict{Any, Any}(:padding => \"5px 10px 0px 10px\")))], Dict{Symbol, Any}(:className => \"interact-flex-row-left\")), WebIO.Node{WebIO.DOM}(WebIO.DOM(:html, :div), Any[WebIO.Node{WebIO.DOM}(WebIO.DOM(:html, :input), Any[], Dict{Symbol, Any}(:max => 12, :min => 1, :attributes => Dict{Any, Any}(:type => \"range\", Symbol(\"data-bind\") => \"numericValue: index, valueUpdate: 'input', event: {change: function (){this.changes(this.changes()+1)}}\", \"orient\" => \"horizontal\"), :step => 1, :className => \"slider slider is-fullwidth\", :style => Dict{Any, Any}()))], Dict{Symbol, Any}(:className => \"interact-flex-row-center\")), WebIO.Node{WebIO.DOM}(WebIO.DOM(:html, :div), Any[WebIO.Node{WebIO.DOM}(WebIO.DOM(:html, :p), Any[], Dict{Symbol, Any}(:attributes => Dict(\"data-bind\" => \"text: formatted_val\")))], Dict{Symbol, Any}(:className => \"interact-flex-row-right\"))], Dict{Symbol, Any}(:className => \"interact-flex-row interact-widget\")), Dict{String, Tuple{Observables.AbstractObservable, Union{Nothing, Bool}}}(\"changes\" => (Observable(0), nothing), \"index\" => (Observable(6), nothing)), Set{String}(), nothing, WebIO.Asset[WebIO.Asset(\"js\", \"knockout\", \"/home/dushya/.julia/packages/Knockout/HReiN/src/../assets/knockout.js\"), WebIO.Asset(\"js\", \"knockout_punches\", \"/home/dushya/.julia/packages/Knockout/HReiN/src/../assets/knockout_punches.js\"), WebIO.Asset(\"js\", nothing, \"/home/dushya/.julia/packages/InteractBase/LJXv3/src/../assets/all.js\"), WebIO.Asset(\"css\", nothing, \"/home/dushya/.julia/packages/InteractBase/LJXv3/src/../assets/style.css\"), WebIO.Asset(\"css\", nothing, \"/home/dushya/.julia/packages/Interact/PENUy/src/../assets/bulma_confined.min.css\")], Dict{Any, Any}(\"changes\" => Any[WebIO.JSString(\"(function (val){return (val!=this.model[\\\"changes\\\"]()) ? (this.valueFromJulia[\\\"changes\\\"]=true, this.model[\\\"changes\\\"](val)) : undefined})\")], \"index\" => Any[WebIO.JSString(\"(function (val){return (val!=this.model[\\\"index\\\"]()) ? (this.valueFromJulia[\\\"index\\\"]=true, this.model[\\\"index\\\"](val)) : undefined})\")]), WebIO.ConnectionPool(Channel{Any}(32), Set{WebIO.AbstractConnection}(), Base.GenericCondition{ReentrantLock}(Base.IntrusiveLinkedList{Task}(Task (runnable) @0x00007f2715dda270, Task (runnable) @0x00007f2715dda270), ReentrantLock(nothing, 0x00000000, 0x00, Base.GenericCondition{Base.Threads.SpinLock}(Base.IntrusiveLinkedList{Task}(nothing, nothing), Base.Threads.SpinLock(0)), (2, 139805895684336, 139805895684400)))), WebIO.JSString[WebIO.JSString(\"function () {\\n    var handler = (function (ko, koPunches) {\\n    ko.punches.enableAll();\\n    ko.bindingHandlers.numericValue = {\\n        init: function(element, valueAccessor, allBindings, data, context) {\\n            var stringified = ko.observable(ko.unwrap(valueAccessor()));\\n            stringified.subscribe(function(value) {\\n                var val = parseFloat(value);\\n                if (!isNaN(val)) {\\n                    valueAccessor()(val);\\n                }\\n            });\\n            valueAccessor().subscribe(function(value) {\\n                var str = JSON.stringify(value);\\n                if ((str == \\\"0\\\") && ([\\\"-0\\\", \\\"-0.\\\"].indexOf(stringified()) >= 0))\\n                     return;\\n                 if ([\\\"null\\\", \\\"\\\"].indexOf(str) >= 0)\\n                     return;\\n                stringified(str);\\n            });\\n            ko.applyBindingsToNode(\\n                element,\\n                {\\n                    value: stringified,\\n                    valueUpdate: allBindings.get('valueUpdate'),\\n                },\\n                context,\\n            );\\n        }\\n    };\\n    var json_data = {\\\"formatted_vals\\\":[\\\"1\\\",\\\"2\\\",\\\"3\\\",\\\"4\\\",\\\"5\\\",\\\"6\\\",\\\"7\\\",\\\"8\\\",\\\"9\\\",\\\"10\\\",\\\"11\\\",\\\"12\\\"],\\\"changes\\\":WebIO.getval({\\\"name\\\":\\\"changes\\\",\\\"scope\\\":\\\"8750465584019894698\\\",\\\"id\\\":\\\"17530735813787292228\\\",\\\"type\\\":\\\"observable\\\"}),\\\"index\\\":WebIO.getval({\\\"name\\\":\\\"index\\\",\\\"scope\\\":\\\"8750465584019894698\\\",\\\"id\\\":\\\"15626640344440451037\\\",\\\"type\\\":\\\"observable\\\"})};\\n    var self = this;\\n    function AppViewModel() {\\n        for (var key in json_data) {\\n            var el = json_data[key];\\n            this[key] = Array.isArray(el) ? ko.observableArray(el) : ko.observable(el);\\n        }\\n        \\n        [this[\\\"formatted_val\\\"]=ko.computed(    function(){\\n        return this.formatted_vals()[parseInt(this.index())-(1)];\\n    }\\n,this)]\\n        [this[\\\"changes\\\"].subscribe((function (val){!(this.valueFromJulia[\\\"changes\\\"]) ? (WebIO.setval({\\\"name\\\":\\\"changes\\\",\\\"scope\\\":\\\"8750465584019894698\\\",\\\"id\\\":\\\"17530735813787292228\\\",\\\"type\\\":\\\"observable\\\"},val)) : undefined; return this.valueFromJulia[\\\"changes\\\"]=false}),self),this[\\\"index\\\"].subscribe((function (val){!(this.valueFromJulia[\\\"index\\\"]) ? (WebIO.setval({\\\"name\\\":\\\"index\\\",\\\"scope\\\":\\\"8750465584019894698\\\",\\\"id\\\":\\\"15626640344440451037\\\",\\\"type\\\":\\\"observable\\\"},val)) : undefined; return this.valueFromJulia[\\\"index\\\"]=false}),self)]\\n        \\n    }\\n    self.model = new AppViewModel();\\n    self.valueFromJulia = {};\\n    for (var key in json_data) {\\n        self.valueFromJulia[key] = false;\\n    }\\n    ko.applyBindings(self.model, self.dom);\\n}\\n);\\n    (WebIO.importBlock({\\\"data\\\":[{\\\"name\\\":\\\"knockout\\\",\\\"type\\\":\\\"js\\\",\\\"url\\\":\\\"/assetserver/727383f2a47bd31570b7da84eee7b022dd6d7c78-knockout.js\\\"},{\\\"name\\\":\\\"knockout_punches\\\",\\\"type\\\":\\\"js\\\",\\\"url\\\":\\\"/assetserver/382b41b3b1bd9f26f75861d360bad7f8beea211f-knockout_punches.js\\\"}],\\\"type\\\":\\\"async_block\\\"})).then((imports) => handler.apply(this, imports));\\n}\\n\")])], Dict{Symbol, Any}(:className => \"field interact-widget\"))], Dict{Symbol, Any}(:style => Dict(\"display\" => \"flex\", \"flex-direction\" => \"column\"))), WebIO.Node{WebIO.DOM}(WebIO.DOM(:html, :div), Any[WebIO.Node{WebIO.DOM}(WebIO.DOM(:html, :div), Any[WebIO.Scope(WebIO.Node{WebIO.DOM}(WebIO.DOM(:html, :div), Any[], Dict{Symbol, Any}(:id => \"container\")), Dict{String, Tuple{Observables.AbstractObservable, Union{Nothing, Bool}}}(\"value\" => (Observable(\"\\\\;\\\\;\"), nothing)), Set{String}(), nothing, WebIO.Asset[WebIO.Asset(\"js\", nothing, \"/home/dushya/.julia/packages/InteractBase/LJXv3/src/../assets/katex.min.js\"), WebIO.Asset(\"css\", nothing, \"/home/dushya/.julia/packages/InteractBase/LJXv3/src/../assets/katex.min.css\")], Dict{Any, Any}(\"value\" => Any[WebIO.JSString(\"(function (txt){return this.k.render(txt,this.container)})\")]), WebIO.ConnectionPool(Channel{Any}(32), Set{WebIO.AbstractConnection}(), Base.GenericCondition{ReentrantLock}(Base.IntrusiveLinkedList{Task}(Task (runnable) @0x00007f26a2908b00, Task (runnable) @0x00007f26a2908b00), ReentrantLock(nothing, 0x00000000, 0x00, Base.GenericCondition{Base.Threads.SpinLock}(Base.IntrusiveLinkedList{Task}(nothing, nothing), Base.Threads.SpinLock(0)), (0, 0, 139779710648320)))), WebIO.JSString[WebIO.JSString(\"function () {\\n    var handler = ((function (k){this.k=k; this.container=this.dom.querySelector(\\\"#container\\\"); return k.render(\\\"\\\\\\\\;\\\\\\\\;\\\",this.container)}));\\n    (WebIO.importBlock({\\\"data\\\":[{\\\"name\\\":null,\\\"type\\\":\\\"js\\\",\\\"url\\\":\\\"/assetserver/dd22ed1bf1896c2748f3fe616ce0b838adc895c1-katex.min.js\\\"},{\\\"name\\\":null,\\\"type\\\":\\\"css\\\",\\\"url\\\":\\\"/assetserver/46517a424aa5e6cffc1360d7e0848b601c584ee3-katex.min.css\\\"}],\\\"type\\\":\\\"async_block\\\"})).then((imports) => handler.apply(this, imports));\\n}\\n\")])], Dict{Symbol, Any}(:className => \"interact-widget\")), WebIO.Node{WebIO.DOM}(WebIO.DOM(:html, :div), Any[WebIO.Scope(WebIO.Node{WebIO.DOM}(WebIO.DOM(:html, :button), Any[\"run\"], Dict{Symbol, Any}(:attributes => Dict{Any, Any}(\"data-bind\" => \"click: function (){this.clicks(this.clicks()+1)}, css: {'is-loading' : loading}\"), :className => \"is-medium button is-primary\", :style => Dict{String, Any}())), Dict{String, Tuple{Observables.AbstractObservable, Union{Nothing, Bool}}}(\"loading\" => (Observable(false), nothing), \"clicks\" => (Observable(0), nothing)), Set{String}(), nothing, WebIO.Asset[WebIO.Asset(\"js\", \"knockout\", \"/home/dushya/.julia/packages/Knockout/HReiN/src/../assets/knockout.js\"), WebIO.Asset(\"js\", \"knockout_punches\", \"/home/dushya/.julia/packages/Knockout/HReiN/src/../assets/knockout_punches.js\"), WebIO.Asset(\"js\", nothing, \"/home/dushya/.julia/packages/InteractBase/LJXv3/src/../assets/all.js\"), WebIO.Asset(\"css\", nothing, \"/home/dushya/.julia/packages/InteractBase/LJXv3/src/../assets/style.css\"), WebIO.Asset(\"css\", nothing, \"/home/dushya/.julia/packages/Interact/PENUy/src/../assets/bulma_confined.min.css\")], Dict{Any, Any}(\"loading\" => Any[WebIO.JSString(\"(function (val){return (val!=this.model[\\\"loading\\\"]()) ? (this.valueFromJulia[\\\"loading\\\"]=true, this.model[\\\"loading\\\"](val)) : undefined})\")], \"clicks\" => Any[WebIO.JSString(\"(function (val){return (val!=this.model[\\\"clicks\\\"]()) ? (this.valueFromJulia[\\\"clicks\\\"]=true, this.model[\\\"clicks\\\"](val)) : undefined})\")]), WebIO.ConnectionPool(Channel{Any}(32), Set{WebIO.AbstractConnection}(), Base.GenericCondition{ReentrantLock}(Base.IntrusiveLinkedList{Task}(Task (runnable) @0x00007f2715fc0fb0, Task (runnable) @0x00007f2715fc0fb0), ReentrantLock(nothing, 0x00000000, 0x00, Base.GenericCondition{Base.Threads.SpinLock}(Base.IntrusiveLinkedList{Task}(nothing, nothing), Base.Threads.SpinLock(0)), (0, 0, 14485107918241792)))), WebIO.JSString[WebIO.JSString(\"function () {\\n    var handler = (function (ko, koPunches) {\\n    ko.punches.enableAll();\\n    ko.bindingHandlers.numericValue = {\\n        init: function(element, valueAccessor, allBindings, data, context) {\\n            var stringified = ko.observable(ko.unwrap(valueAccessor()));\\n            stringified.subscribe(function(value) {\\n                var val = parseFloat(value);\\n                if (!isNaN(val)) {\\n                    valueAccessor()(val);\\n                }\\n            });\\n            valueAccessor().subscribe(function(value) {\\n                var str = JSON.stringify(value);\\n                if ((str == \\\"0\\\") && ([\\\"-0\\\", \\\"-0.\\\"].indexOf(stringified()) >= 0))\\n                     return;\\n                 if ([\\\"null\\\", \\\"\\\"].indexOf(str) >= 0)\\n                     return;\\n                stringified(str);\\n            });\\n            ko.applyBindingsToNode(\\n                element,\\n                {\\n                    value: stringified,\\n                    valueUpdate: allBindings.get('valueUpdate'),\\n                },\\n                context,\\n            );\\n        }\\n    };\\n    var json_data = {\\\"loading\\\":WebIO.getval({\\\"name\\\":\\\"loading\\\",\\\"scope\\\":\\\"2496389441693852700\\\",\\\"id\\\":\\\"2292972733902601506\\\",\\\"type\\\":\\\"observable\\\"}),\\\"clicks\\\":WebIO.getval({\\\"name\\\":\\\"clicks\\\",\\\"scope\\\":\\\"2496389441693852700\\\",\\\"id\\\":\\\"854018639136150712\\\",\\\"type\\\":\\\"observable\\\"})};\\n    var self = this;\\n    function AppViewModel() {\\n        for (var key in json_data) {\\n            var el = json_data[key];\\n            this[key] = Array.isArray(el) ? ko.observableArray(el) : ko.observable(el);\\n        }\\n        \\n        \\n        [this[\\\"loading\\\"].subscribe((function (val){!(this.valueFromJulia[\\\"loading\\\"]) ? (WebIO.setval({\\\"name\\\":\\\"loading\\\",\\\"scope\\\":\\\"2496389441693852700\\\",\\\"id\\\":\\\"2292972733902601506\\\",\\\"type\\\":\\\"observable\\\"},val)) : undefined; return this.valueFromJulia[\\\"loading\\\"]=false}),self),this[\\\"clicks\\\"].subscribe((function (val){!(this.valueFromJulia[\\\"clicks\\\"]) ? (WebIO.setval({\\\"name\\\":\\\"clicks\\\",\\\"scope\\\":\\\"2496389441693852700\\\",\\\"id\\\":\\\"854018639136150712\\\",\\\"type\\\":\\\"observable\\\"},val)) : undefined; return this.valueFromJulia[\\\"clicks\\\"]=false}),self)]\\n        \\n    }\\n    self.model = new AppViewModel();\\n    self.valueFromJulia = {};\\n    for (var key in json_data) {\\n        self.valueFromJulia[key] = false;\\n    }\\n    ko.applyBindings(self.model, self.dom);\\n}\\n);\\n    (WebIO.importBlock({\\\"data\\\":[{\\\"name\\\":\\\"knockout\\\",\\\"type\\\":\\\"js\\\",\\\"url\\\":\\\"/assetserver/727383f2a47bd31570b7da84eee7b022dd6d7c78-knockout.js\\\"},{\\\"name\\\":\\\"knockout_punches\\\",\\\"type\\\":\\\"js\\\",\\\"url\\\":\\\"/assetserver/382b41b3b1bd9f26f75861d360bad7f8beea211f-knockout_punches.js\\\"}],\\\"type\\\":\\\"async_block\\\"})).then((imports) => handler.apply(this, imports));\\n}\\n\")])], Dict{Symbol, Any}(:className => \"field interact-widget\")), WebIO.Node{WebIO.DOM}(WebIO.DOM(:html, :div), Any[WebIO.Scope(WebIO.Node{WebIO.DOM}(WebIO.DOM(:html, :div), Any[], Dict{Symbol, Any}(:id => \"container\")), Dict{String, Tuple{Observables.AbstractObservable, Union{Nothing, Bool}}}(\"value\" => (Observable(\"\\\\;\\\\;\"), nothing)), Set{String}(), nothing, WebIO.Asset[WebIO.Asset(\"js\", nothing, \"/home/dushya/.julia/packages/InteractBase/LJXv3/src/../assets/katex.min.js\"), WebIO.Asset(\"css\", nothing, \"/home/dushya/.julia/packages/InteractBase/LJXv3/src/../assets/katex.min.css\")], Dict{Any, Any}(\"value\" => Any[WebIO.JSString(\"(function (txt){return this.k.render(txt,this.container)})\")]), WebIO.ConnectionPool(Channel{Any}(32), Set{WebIO.AbstractConnection}(), Base.GenericCondition{ReentrantLock}(Base.IntrusiveLinkedList{Task}(Task (runnable) @0x00007f26a2908b00, Task (runnable) @0x00007f26a2908b00), ReentrantLock(nothing, 0x00000000, 0x00, Base.GenericCondition{Base.Threads.SpinLock}(Base.IntrusiveLinkedList{Task}(nothing, nothing), Base.Threads.SpinLock(0)), (0, 0, 139779710648320)))), WebIO.JSString[WebIO.JSString(\"function () {\\n    var handler = ((function (k){this.k=k; this.container=this.dom.querySelector(\\\"#container\\\"); return k.render(\\\"\\\\\\\\;\\\\\\\\;\\\",this.container)}));\\n    (WebIO.importBlock({\\\"data\\\":[{\\\"name\\\":null,\\\"type\\\":\\\"js\\\",\\\"url\\\":\\\"/assetserver/dd22ed1bf1896c2748f3fe616ce0b838adc895c1-katex.min.js\\\"},{\\\"name\\\":null,\\\"type\\\":\\\"css\\\",\\\"url\\\":\\\"/assetserver/46517a424aa5e6cffc1360d7e0848b601c584ee3-katex.min.css\\\"}],\\\"type\\\":\\\"async_block\\\"})).then((imports) => handler.apply(this, imports));\\n}\\n\")])], Dict{Symbol, Any}(:className => \"interact-widget\")), WebIO.Node{WebIO.DOM}(WebIO.DOM(:html, :div), Any[WebIO.Scope(WebIO.Node{WebIO.DOM}(WebIO.DOM(:html, :button), Any[\"stop\"], Dict{Symbol, Any}(:attributes => Dict{Any, Any}(\"data-bind\" => \"click: function (){this.clicks(this.clicks()+1)}, css: {'is-loading' : loading}\"), :className => \"is-medium button is-primary\", :style => Dict{String, Any}())), Dict{String, Tuple{Observables.AbstractObservable, Union{Nothing, Bool}}}(\"loading\" => (Observable(false), nothing), \"clicks\" => (Observable(0), nothing)), Set{String}(), nothing, WebIO.Asset[WebIO.Asset(\"js\", \"knockout\", \"/home/dushya/.julia/packages/Knockout/HReiN/src/../assets/knockout.js\"), WebIO.Asset(\"js\", \"knockout_punches\", \"/home/dushya/.julia/packages/Knockout/HReiN/src/../assets/knockout_punches.js\"), WebIO.Asset(\"js\", nothing, \"/home/dushya/.julia/packages/InteractBase/LJXv3/src/../assets/all.js\"), WebIO.Asset(\"css\", nothing, \"/home/dushya/.julia/packages/InteractBase/LJXv3/src/../assets/style.css\"), WebIO.Asset(\"css\", nothing, \"/home/dushya/.julia/packages/Interact/PENUy/src/../assets/bulma_confined.min.css\")], Dict{Any, Any}(\"loading\" => Any[WebIO.JSString(\"(function (val){return (val!=this.model[\\\"loading\\\"]()) ? (this.valueFromJulia[\\\"loading\\\"]=true, this.model[\\\"loading\\\"](val)) : undefined})\")], \"clicks\" => Any[WebIO.JSString(\"(function (val){return (val!=this.model[\\\"clicks\\\"]()) ? (this.valueFromJulia[\\\"clicks\\\"]=true, this.model[\\\"clicks\\\"](val)) : undefined})\")]), WebIO.ConnectionPool(Channel{Any}(32), Set{WebIO.AbstractConnection}(), Base.GenericCondition{ReentrantLock}(Base.IntrusiveLinkedList{Task}(Task (runnable) @0x00007f2715fc39e0, Task (runnable) @0x00007f2715fc39e0), ReentrantLock(nothing, 0x00000000, 0x00, Base.GenericCondition{Base.Threads.SpinLock}(Base.IntrusiveLinkedList{Task}(nothing, nothing), Base.Threads.SpinLock(0)), (0, 0, 141733920768)))), WebIO.JSString[WebIO.JSString(\"function () {\\n    var handler = (function (ko, koPunches) {\\n    ko.punches.enableAll();\\n    ko.bindingHandlers.numericValue = {\\n        init: function(element, valueAccessor, allBindings, data, context) {\\n            var stringified = ko.observable(ko.unwrap(valueAccessor()));\\n            stringified.subscribe(function(value) {\\n                var val = parseFloat(value);\\n                if (!isNaN(val)) {\\n                    valueAccessor()(val);\\n                }\\n            });\\n            valueAccessor().subscribe(function(value) {\\n                var str = JSON.stringify(value);\\n                if ((str == \\\"0\\\") && ([\\\"-0\\\", \\\"-0.\\\"].indexOf(stringified()) >= 0))\\n                     return;\\n                 if ([\\\"null\\\", \\\"\\\"].indexOf(str) >= 0)\\n                     return;\\n                stringified(str);\\n            });\\n            ko.applyBindingsToNode(\\n                element,\\n                {\\n                    value: stringified,\\n                    valueUpdate: allBindings.get('valueUpdate'),\\n                },\\n                context,\\n            );\\n        }\\n    };\\n    var json_data = {\\\"loading\\\":WebIO.getval({\\\"name\\\":\\\"loading\\\",\\\"scope\\\":\\\"8551680899602257390\\\",\\\"id\\\":\\\"11414550519626117730\\\",\\\"type\\\":\\\"observable\\\"}),\\\"clicks\\\":WebIO.getval({\\\"name\\\":\\\"clicks\\\",\\\"scope\\\":\\\"8551680899602257390\\\",\\\"id\\\":\\\"4958415936021112760\\\",\\\"type\\\":\\\"observable\\\"})};\\n    var self = this;\\n    function AppViewModel() {\\n        for (var key in json_data) {\\n            var el = json_data[key];\\n            this[key] = Array.isArray(el) ? ko.observableArray(el) : ko.observable(el);\\n        }\\n        \\n        \\n        [this[\\\"loading\\\"].subscribe((function (val){!(this.valueFromJulia[\\\"loading\\\"]) ? (WebIO.setval({\\\"name\\\":\\\"loading\\\",\\\"scope\\\":\\\"8551680899602257390\\\",\\\"id\\\":\\\"11414550519626117730\\\",\\\"type\\\":\\\"observable\\\"},val)) : undefined; return this.valueFromJulia[\\\"loading\\\"]=false}),self),this[\\\"clicks\\\"].subscribe((function (val){!(this.valueFromJulia[\\\"clicks\\\"]) ? (WebIO.setval({\\\"name\\\":\\\"clicks\\\",\\\"scope\\\":\\\"8551680899602257390\\\",\\\"id\\\":\\\"4958415936021112760\\\",\\\"type\\\":\\\"observable\\\"},val)) : undefined; return this.valueFromJulia[\\\"clicks\\\"]=false}),self)]\\n        \\n    }\\n    self.model = new AppViewModel();\\n    self.valueFromJulia = {};\\n    for (var key in json_data) {\\n        self.valueFromJulia[key] = false;\\n    }\\n    ko.applyBindings(self.model, self.dom);\\n}\\n);\\n    (WebIO.importBlock({\\\"data\\\":[{\\\"name\\\":\\\"knockout\\\",\\\"type\\\":\\\"js\\\",\\\"url\\\":\\\"/assetserver/727383f2a47bd31570b7da84eee7b022dd6d7c78-knockout.js\\\"},{\\\"name\\\":\\\"knockout_punches\\\",\\\"type\\\":\\\"js\\\",\\\"url\\\":\\\"/assetserver/382b41b3b1bd9f26f75861d360bad7f8beea211f-knockout_punches.js\\\"}],\\\"type\\\":\\\"async_block\\\"})).then((imports) => handler.apply(this, imports));\\n}\\n\")])], Dict{Symbol, Any}(:className => \"field interact-widget\")), WebIO.Node{WebIO.DOM}(WebIO.DOM(:html, :div), Any[WebIO.Scope(WebIO.Node{WebIO.DOM}(WebIO.DOM(:html, :div), Any[], Dict{Symbol, Any}(:id => \"container\")), Dict{String, Tuple{Observables.AbstractObservable, Union{Nothing, Bool}}}(\"value\" => (Observable(\"\\\\;\\\\;\"), nothing)), Set{String}(), nothing, WebIO.Asset[WebIO.Asset(\"js\", nothing, \"/home/dushya/.julia/packages/InteractBase/LJXv3/src/../assets/katex.min.js\"), WebIO.Asset(\"css\", nothing, \"/home/dushya/.julia/packages/InteractBase/LJXv3/src/../assets/katex.min.css\")], Dict{Any, Any}(\"value\" => Any[WebIO.JSString(\"(function (txt){return this.k.render(txt,this.container)})\")]), WebIO.ConnectionPool(Channel{Any}(32), Set{WebIO.AbstractConnection}(), Base.GenericCondition{ReentrantLock}(Base.IntrusiveLinkedList{Task}(Task (runnable) @0x00007f26a2908b00, Task (runnable) @0x00007f26a2908b00), ReentrantLock(nothing, 0x00000000, 0x00, Base.GenericCondition{Base.Threads.SpinLock}(Base.IntrusiveLinkedList{Task}(nothing, nothing), Base.Threads.SpinLock(0)), (0, 0, 139779710648320)))), WebIO.JSString[WebIO.JSString(\"function () {\\n    var handler = ((function (k){this.k=k; this.container=this.dom.querySelector(\\\"#container\\\"); return k.render(\\\"\\\\\\\\;\\\\\\\\;\\\",this.container)}));\\n    (WebIO.importBlock({\\\"data\\\":[{\\\"name\\\":null,\\\"type\\\":\\\"js\\\",\\\"url\\\":\\\"/assetserver/dd22ed1bf1896c2748f3fe616ce0b838adc895c1-katex.min.js\\\"},{\\\"name\\\":null,\\\"type\\\":\\\"css\\\",\\\"url\\\":\\\"/assetserver/46517a424aa5e6cffc1360d7e0848b601c584ee3-katex.min.css\\\"}],\\\"type\\\":\\\"async_block\\\"})).then((imports) => handler.apply(this, imports));\\n}\\n\")])], Dict{Symbol, Any}(:className => \"interact-widget\")), WebIO.Node{WebIO.DOM}(WebIO.DOM(:html, :div), Any[WebIO.Scope(WebIO.Node{WebIO.DOM}(WebIO.DOM(:html, :button), Any[\"reset\"], Dict{Symbol, Any}(:attributes => Dict{Any, Any}(\"data-bind\" => \"click: function (){this.clicks(this.clicks()+1)}, css: {'is-loading' : loading}\"), :className => \"is-medium button is-primary\", :style => Dict{String, Any}())), Dict{String, Tuple{Observables.AbstractObservable, Union{Nothing, Bool}}}(\"loading\" => (Observable(false), nothing), \"clicks\" => (Observable(0), nothing)), Set{String}(), nothing, WebIO.Asset[WebIO.Asset(\"js\", \"knockout\", \"/home/dushya/.julia/packages/Knockout/HReiN/src/../assets/knockout.js\"), WebIO.Asset(\"js\", \"knockout_punches\", \"/home/dushya/.julia/packages/Knockout/HReiN/src/../assets/knockout_punches.js\"), WebIO.Asset(\"js\", nothing, \"/home/dushya/.julia/packages/InteractBase/LJXv3/src/../assets/all.js\"), WebIO.Asset(\"css\", nothing, \"/home/dushya/.julia/packages/InteractBase/LJXv3/src/../assets/style.css\"), WebIO.Asset(\"css\", nothing, \"/home/dushya/.julia/packages/Interact/PENUy/src/../assets/bulma_confined.min.css\")], Dict{Any, Any}(\"loading\" => Any[WebIO.JSString(\"(function (val){return (val!=this.model[\\\"loading\\\"]()) ? (this.valueFromJulia[\\\"loading\\\"]=true, this.model[\\\"loading\\\"](val)) : undefined})\")], \"clicks\" => Any[WebIO.JSString(\"(function (val){return (val!=this.model[\\\"clicks\\\"]()) ? (this.valueFromJulia[\\\"clicks\\\"]=true, this.model[\\\"clicks\\\"](val)) : undefined})\")]), WebIO.ConnectionPool(Channel{Any}(32), Set{WebIO.AbstractConnection}(), Base.GenericCondition{ReentrantLock}(Base.IntrusiveLinkedList{Task}(Task (runnable) @0x00007f271607e590, Task (runnable) @0x00007f271607e590), ReentrantLock(nothing, 0x00000000, 0x00, Base.GenericCondition{Base.Threads.SpinLock}(Base.IntrusiveLinkedList{Task}(nothing, nothing), Base.Threads.SpinLock(0)), (0, 0, 141733920768)))), WebIO.JSString[WebIO.JSString(\"function () {\\n    var handler = (function (ko, koPunches) {\\n    ko.punches.enableAll();\\n    ko.bindingHandlers.numericValue = {\\n        init: function(element, valueAccessor, allBindings, data, context) {\\n            var stringified = ko.observable(ko.unwrap(valueAccessor()));\\n            stringified.subscribe(function(value) {\\n                var val = parseFloat(value);\\n                if (!isNaN(val)) {\\n                    valueAccessor()(val);\\n                }\\n            });\\n            valueAccessor().subscribe(function(value) {\\n                var str = JSON.stringify(value);\\n                if ((str == \\\"0\\\") && ([\\\"-0\\\", \\\"-0.\\\"].indexOf(stringified()) >= 0))\\n                     return;\\n                 if ([\\\"null\\\", \\\"\\\"].indexOf(str) >= 0)\\n                     return;\\n                stringified(str);\\n            });\\n            ko.applyBindingsToNode(\\n                element,\\n                {\\n                    value: stringified,\\n                    valueUpdate: allBindings.get('valueUpdate'),\\n                },\\n                context,\\n            );\\n        }\\n    };\\n    var json_data = {\\\"loading\\\":WebIO.getval({\\\"name\\\":\\\"loading\\\",\\\"scope\\\":\\\"15507192070037400714\\\",\\\"id\\\":\\\"9861749335492624580\\\",\\\"type\\\":\\\"observable\\\"}),\\\"clicks\\\":WebIO.getval({\\\"name\\\":\\\"clicks\\\",\\\"scope\\\":\\\"15507192070037400714\\\",\\\"id\\\":\\\"14880892921096461256\\\",\\\"type\\\":\\\"observable\\\"})};\\n    var self = this;\\n    function AppViewModel() {\\n        for (var key in json_data) {\\n            var el = json_data[key];\\n            this[key] = Array.isArray(el) ? ko.observableArray(el) : ko.observable(el);\\n        }\\n        \\n        \\n        [this[\\\"loading\\\"].subscribe((function (val){!(this.valueFromJulia[\\\"loading\\\"]) ? (WebIO.setval({\\\"name\\\":\\\"loading\\\",\\\"scope\\\":\\\"15507192070037400714\\\",\\\"id\\\":\\\"9861749335492624580\\\",\\\"type\\\":\\\"observable\\\"},val)) : undefined; return this.valueFromJulia[\\\"loading\\\"]=false}),self),this[\\\"clicks\\\"].subscribe((function (val){!(this.valueFromJulia[\\\"clicks\\\"]) ? (WebIO.setval({\\\"name\\\":\\\"clicks\\\",\\\"scope\\\":\\\"15507192070037400714\\\",\\\"id\\\":\\\"14880892921096461256\\\",\\\"type\\\":\\\"observable\\\"},val)) : undefined; return this.valueFromJulia[\\\"clicks\\\"]=false}),self)]\\n        \\n    }\\n    self.model = new AppViewModel();\\n    self.valueFromJulia = {};\\n    for (var key in json_data) {\\n        self.valueFromJulia[key] = false;\\n    }\\n    ko.applyBindings(self.model, self.dom);\\n}\\n);\\n    (WebIO.importBlock({\\\"data\\\":[{\\\"name\\\":\\\"knockout\\\",\\\"type\\\":\\\"js\\\",\\\"url\\\":\\\"/assetserver/727383f2a47bd31570b7da84eee7b022dd6d7c78-knockout.js\\\"},{\\\"name\\\":\\\"knockout_punches\\\",\\\"type\\\":\\\"js\\\",\\\"url\\\":\\\"/assetserver/382b41b3b1bd9f26f75861d360bad7f8beea211f-knockout_punches.js\\\"}],\\\"type\\\":\\\"async_block\\\"})).then((imports) => handler.apply(this, imports));\\n}\\n\")])], Dict{Symbol, Any}(:className => \"field interact-widget\"))], Dict{Symbol, Any}(:style => Dict(\"display\" => \"flex\", \"flex-direction\" => \"row\")))], Dict{Symbol, Any}(:style => Dict(\"display\" => \"flex\", \"flex-direction\" => \"column\"))), Observable(MeshCat.DisplayedVisualizer(MeshCat.CoreVisualizer(MeshCat.SceneTrees.SceneNode(nothing, nothing, Dict{String, Vector{UInt8}}(), nothing, Dict{String, MeshCat.SceneTrees.SceneNode}(\"meshcat\" => MeshCat.SceneTrees.SceneNode(nothing, UInt8[0x83, 0xa6, 0x6d, 0x61, 0x74, 0x72, 0x69, 0x78, 0xc7, 0x40  …  0x68, 0xa8, 0x2f, 0x6d, 0x65, 0x73, 0x68, 0x63, 0x61, 0x74], Dict{String, Vector{UInt8}}(), nothing, Dict{String, MeshCat.SceneTrees.SceneNode}(\"agents\" => MeshCat.SceneTrees.SceneNode(nothing, nothing, Dict{String, Vector{UInt8}}(), nothing, Dict{String, MeshCat.SceneTrees.SceneNode}(\"131sphere\" => MeshCat.SceneTrees.SceneNode(nothing, UInt8[0x83, 0xa6, 0x6d, 0x61, 0x74, 0x72, 0x69, 0x78, 0xc7, 0x40  …  0x2f, 0x31, 0x33, 0x31, 0x73, 0x70, 0x68, 0x65, 0x72, 0x65], Dict{String, Vector{UInt8}}(\"scale\" => [0x84, 0xa8, 0x70, 0x72, 0x6f, 0x70, 0x65, 0x72, 0x74, 0x79  …  0x2f, 0x31, 0x33, 0x31, 0x73, 0x70, 0x68, 0x65, 0x72, 0x65]), nothing, Dict{String, MeshCat.SceneTrees.SceneNode}(\"(1.0N0f8, 0.0N0f8, 0.0N0f8, 1.0N0f8)\" => MeshCat.SceneTrees.SceneNode(UInt8[0x83, 0xa6, 0x6f, 0x62, 0x6a, 0x65, 0x63, 0x74, 0x84, 0xaa  …  0x2c, 0x20, 0x31, 0x2e, 0x30, 0x4e, 0x30, 0x66, 0x38, 0x29], nothing, Dict{String, Vector{UInt8}}(\"visible\" => [0x84, 0xa8, 0x70, 0x72, 0x6f, 0x70, 0x65, 0x72, 0x74, 0x79  …  0x2c, 0x20, 0x31, 0x2e, 0x30, 0x4e, 0x30, 0x66, 0x38, 0x29]), nothing, Dict{String, MeshCat.SceneTrees.SceneNode}()))), \"183sphere\" => MeshCat.SceneTrees.SceneNode(nothing, UInt8[0x83, 0xa6, 0x6d, 0x61, 0x74, 0x72, 0x69, 0x78, 0xc7, 0x40  …  0x2f, 0x31, 0x38, 0x33, 0x73, 0x70, 0x68, 0x65, 0x72, 0x65], Dict{String, Vector{UInt8}}(\"scale\" => [0x84, 0xa8, 0x70, 0x72, 0x6f, 0x70, 0x65, 0x72, 0x74, 0x79  …  0x2f, 0x31, 0x38, 0x33, 0x73, 0x70, 0x68, 0x65, 0x72, 0x65]), nothing, Dict{String, MeshCat.SceneTrees.SceneNode}(\"(0.0N0f8, 1.0N0f8, 0.0N0f8, 1.0N0f8)\" => MeshCat.SceneTrees.SceneNode(UInt8[0x83, 0xa6, 0x6f, 0x62, 0x6a, 0x65, 0x63, 0x74, 0x84, 0xaa  …  0x2c, 0x20, 0x31, 0x2e, 0x30, 0x4e, 0x30, 0x66, 0x38, 0x29], nothing, Dict{String, Vector{UInt8}}(\"visible\" => [0x84, 0xa8, 0x70, 0x72, 0x6f, 0x70, 0x65, 0x72, 0x74, 0x79  …  0x2c, 0x20, 0x31, 0x2e, 0x30, 0x4e, 0x30, 0x66, 0x38, 0x29]), nothing, Dict{String, MeshCat.SceneTrees.SceneNode}()))), \"186sphere\" => MeshCat.SceneTrees.SceneNode(nothing, UInt8[0x83, 0xa6, 0x6d, 0x61, 0x74, 0x72, 0x69, 0x78, 0xc7, 0x40  …  0x2f, 0x31, 0x38, 0x36, 0x73, 0x70, 0x68, 0x65, 0x72, 0x65], Dict{String, Vector{UInt8}}(\"scale\" => [0x84, 0xa8, 0x70, 0x72, 0x6f, 0x70, 0x65, 0x72, 0x74, 0x79  …  0x2f, 0x31, 0x38, 0x36, 0x73, 0x70, 0x68, 0x65, 0x72, 0x65]), nothing, Dict{String, MeshCat.SceneTrees.SceneNode}(\"(0.0N0f8, 1.0N0f8, 0.0N0f8, 1.0N0f8)\" => MeshCat.SceneTrees.SceneNode(UInt8[0x83, 0xa6, 0x6f, 0x62, 0x6a, 0x65, 0x63, 0x74, 0x84, 0xaa  …  0x2c, 0x20, 0x31, 0x2e, 0x30, 0x4e, 0x30, 0x66, 0x38, 0x29], nothing, Dict{String, Vector{UInt8}}(\"visible\" => [0x84, 0xa8, 0x70, 0x72, 0x6f, 0x70, 0x65, 0x72, 0x74, 0x79  …  0x2c, 0x20, 0x31, 0x2e, 0x30, 0x4e, 0x30, 0x66, 0x38, 0x29]), nothing, Dict{String, MeshCat.SceneTrees.SceneNode}()))), \"87sphere\" => MeshCat.SceneTrees.SceneNode(nothing, UInt8[0x83, 0xa6, 0x6d, 0x61, 0x74, 0x72, 0x69, 0x78, 0xc7, 0x40  …  0x73, 0x2f, 0x38, 0x37, 0x73, 0x70, 0x68, 0x65, 0x72, 0x65], Dict{String, Vector{UInt8}}(\"scale\" => [0x84, 0xa8, 0x70, 0x72, 0x6f, 0x70, 0x65, 0x72, 0x74, 0x79  …  0x73, 0x2f, 0x38, 0x37, 0x73, 0x70, 0x68, 0x65, 0x72, 0x65]), nothing, Dict{String, MeshCat.SceneTrees.SceneNode}(\"(1.0N0f8, 0.0N0f8, 0.0N0f8, 1.0N0f8)\" => MeshCat.SceneTrees.SceneNode(UInt8[0x83, 0xa6, 0x6f, 0x62, 0x6a, 0x65, 0x63, 0x74, 0x84, 0xaa  …  0x2c, 0x20, 0x31, 0x2e, 0x30, 0x4e, 0x30, 0x66, 0x38, 0x29], nothing, Dict{String, Vector{UInt8}}(\"visible\" => [0x84, 0xa8, 0x70, 0x72, 0x6f, 0x70, 0x65, 0x72, 0x74, 0x79  …  0x2c, 0x20, 0x31, 0x2e, 0x30, 0x4e, 0x30, 0x66, 0x38, 0x29]), nothing, Dict{String, MeshCat.SceneTrees.SceneNode}()))), \"130sphere\" => MeshCat.SceneTrees.SceneNode(nothing, UInt8[0x83, 0xa6, 0x6d, 0x61, 0x74, 0x72, 0x69, 0x78, 0xc7, 0x40  …  0x2f, 0x31, 0x33, 0x30, 0x73, 0x70, 0x68, 0x65, 0x72, 0x65], Dict{String, Vector{UInt8}}(\"scale\" => [0x84, 0xa8, 0x70, 0x72, 0x6f, 0x70, 0x65, 0x72, 0x74, 0x79  …  0x2f, 0x31, 0x33, 0x30, 0x73, 0x70, 0x68, 0x65, 0x72, 0x65]), nothing, Dict{String, MeshCat.SceneTrees.SceneNode}(\"(0.0N0f8, 1.0N0f8, 0.0N0f8, 1.0N0f8)\" => MeshCat.SceneTrees.SceneNode(UInt8[0x83, 0xa6, 0x6f, 0x62, 0x6a, 0x65, 0x63, 0x74, 0x84, 0xaa  …  0x2c, 0x20, 0x31, 0x2e, 0x30, 0x4e, 0x30, 0x66, 0x38, 0x29], nothing, Dict{String, Vector{UInt8}}(\"visible\" => [0x84, 0xa8, 0x70, 0x72, 0x6f, 0x70, 0x65, 0x72, 0x74, 0x79  …  0x2c, 0x20, 0x31, 0x2e, 0x30, 0x4e, 0x30, 0x66, 0x38, 0x29]), nothing, Dict{String, MeshCat.SceneTrees.SceneNode}()))), \"51sphere\" => MeshCat.SceneTrees.SceneNode(nothing, UInt8[0x83, 0xa6, 0x6d, 0x61, 0x74, 0x72, 0x69, 0x78, 0xc7, 0x40  …  0x73, 0x2f, 0x35, 0x31, 0x73, 0x70, 0x68, 0x65, 0x72, 0x65], Dict{String, Vector{UInt8}}(\"scale\" => [0x84, 0xa8, 0x70, 0x72, 0x6f, 0x70, 0x65, 0x72, 0x74, 0x79  …  0x73, 0x2f, 0x35, 0x31, 0x73, 0x70, 0x68, 0x65, 0x72, 0x65]), nothing, Dict{String, MeshCat.SceneTrees.SceneNode}(\"(1.0N0f8, 0.0N0f8, 0.0N0f8, 1.0N0f8)\" => MeshCat.SceneTrees.SceneNode(UInt8[0x83, 0xa6, 0x6f, 0x62, 0x6a, 0x65, 0x63, 0x74, 0x84, 0xaa  …  0x2c, 0x20, 0x31, 0x2e, 0x30, 0x4e, 0x30, 0x66, 0x38, 0x29], nothing, Dict{String, Vector{UInt8}}(\"visible\" => [0x84, 0xa8, 0x70, 0x72, 0x6f, 0x70, 0x65, 0x72, 0x74, 0x79  …  0x2c, 0x20, 0x31, 0x2e, 0x30, 0x4e, 0x30, 0x66, 0x38, 0x29]), nothing, Dict{String, MeshCat.SceneTrees.SceneNode}()))), \"9sphere\" => MeshCat.SceneTrees.SceneNode(nothing, UInt8[0x83, 0xa6, 0x6d, 0x61, 0x74, 0x72, 0x69, 0x78, 0xc7, 0x40  …  0x74, 0x73, 0x2f, 0x39, 0x73, 0x70, 0x68, 0x65, 0x72, 0x65], Dict{String, Vector{UInt8}}(\"scale\" => [0x84, 0xa8, 0x70, 0x72, 0x6f, 0x70, 0x65, 0x72, 0x74, 0x79  …  0x74, 0x73, 0x2f, 0x39, 0x73, 0x70, 0x68, 0x65, 0x72, 0x65]), nothing, Dict{String, MeshCat.SceneTrees.SceneNode}(\"(1.0N0f8, 0.0N0f8, 0.0N0f8, 1.0N0f8)\" => MeshCat.SceneTrees.SceneNode(UInt8[0x83, 0xa6, 0x6f, 0x62, 0x6a, 0x65, 0x63, 0x74, 0x84, 0xaa  …  0x2c, 0x20, 0x31, 0x2e, 0x30, 0x4e, 0x30, 0x66, 0x38, 0x29], nothing, Dict{String, Vector{UInt8}}(\"visible\" => [0x84, 0xa8, 0x70, 0x72, 0x6f, 0x70, 0x65, 0x72, 0x74, 0x79  …  0x2c, 0x20, 0x31, 0x2e, 0x30, 0x4e, 0x30, 0x66, 0x38, 0x29]), nothing, Dict{String, MeshCat.SceneTrees.SceneNode}()))), \"154sphere\" => MeshCat.SceneTrees.SceneNode(nothing, UInt8[0x83, 0xa6, 0x6d, 0x61, 0x74, 0x72, 0x69, 0x78, 0xc7, 0x40  …  0x2f, 0x31, 0x35, 0x34, 0x73, 0x70, 0x68, 0x65, 0x72, 0x65], Dict{String, Vector{UInt8}}(\"scale\" => [0x84, 0xa8, 0x70, 0x72, 0x6f, 0x70, 0x65, 0x72, 0x74, 0x79  …  0x2f, 0x31, 0x35, 0x34, 0x73, 0x70, 0x68, 0x65, 0x72, 0x65]), nothing, Dict{String, MeshCat.SceneTrees.SceneNode}(\"(1.0N0f8, 0.0N0f8, 0.0N0f8, 1.0N0f8)\" => MeshCat.SceneTrees.SceneNode(UInt8[0x83, 0xa6, 0x6f, 0x62, 0x6a, 0x65, 0x63, 0x74, 0x84, 0xaa  …  0x2c, 0x20, 0x31, 0x2e, 0x30, 0x4e, 0x30, 0x66, 0x38, 0x29], nothing, Dict{String, Vector{UInt8}}(\"visible\" => [0x84, 0xa8, 0x70, 0x72, 0x6f, 0x70, 0x65, 0x72, 0x74, 0x79  …  0x2c, 0x20, 0x31, 0x2e, 0x30, 0x4e, 0x30, 0x66, 0x38, 0x29]), nothing, Dict{String, MeshCat.SceneTrees.SceneNode}()))), \"102sphere\" => MeshCat.SceneTrees.SceneNode(nothing, UInt8[0x83, 0xa6, 0x6d, 0x61, 0x74, 0x72, 0x69, 0x78, 0xc7, 0x40  …  0x2f, 0x31, 0x30, 0x32, 0x73, 0x70, 0x68, 0x65, 0x72, 0x65], Dict{String, Vector{UInt8}}(\"scale\" => [0x84, 0xa8, 0x70, 0x72, 0x6f, 0x70, 0x65, 0x72, 0x74, 0x79  …  0x2f, 0x31, 0x30, 0x32, 0x73, 0x70, 0x68, 0x65, 0x72, 0x65]), nothing, Dict{String, MeshCat.SceneTrees.SceneNode}(\"(1.0N0f8, 0.0N0f8, 0.0N0f8, 1.0N0f8)\" => MeshCat.SceneTrees.SceneNode(UInt8[0x83, 0xa6, 0x6f, 0x62, 0x6a, 0x65, 0x63, 0x74, 0x84, 0xaa  …  0x2c, 0x20, 0x31, 0x2e, 0x30, 0x4e, 0x30, 0x66, 0x38, 0x29], nothing, Dict{String, Vector{UInt8}}(\"visible\" => [0x84, 0xa8, 0x70, 0x72, 0x6f, 0x70, 0x65, 0x72, 0x74, 0x79  …  0x2c, 0x20, 0x31, 0x2e, 0x30, 0x4e, 0x30, 0x66, 0x38, 0x29]), nothing, Dict{String, MeshCat.SceneTrees.SceneNode}()))), \"64sphere\" => MeshCat.SceneTrees.SceneNode(nothing, UInt8[0x83, 0xa6, 0x6d, 0x61, 0x74, 0x72, 0x69, 0x78, 0xc7, 0x40  …  0x73, 0x2f, 0x36, 0x34, 0x73, 0x70, 0x68, 0x65, 0x72, 0x65], Dict{String, Vector{UInt8}}(\"scale\" => [0x84, 0xa8, 0x70, 0x72, 0x6f, 0x70, 0x65, 0x72, 0x74, 0x79  …  0x73, 0x2f, 0x36, 0x34, 0x73, 0x70, 0x68, 0x65, 0x72, 0x65]), nothing, Dict{String, MeshCat.SceneTrees.SceneNode}(\"(1.0N0f8, 0.0N0f8, 0.0N0f8, 1.0N0f8)\" => MeshCat.SceneTrees.SceneNode(UInt8[0x83, 0xa6, 0x6f, 0x62, 0x6a, 0x65, 0x63, 0x74, 0x84, 0xaa  …  0x2c, 0x20, 0x31, 0x2e, 0x30, 0x4e, 0x30, 0x66, 0x38, 0x29], nothing, Dict{String, Vector{UInt8}}(\"visible\" => [0x84, 0xa8, 0x70, 0x72, 0x6f, 0x70, 0x65, 0x72, 0x74, 0x79  …  0x2c, 0x20, 0x31, 0x2e, 0x30, 0x4e, 0x30, 0x66, 0x38, 0x29]), nothing, Dict{String, MeshCat.SceneTrees.SceneNode}())))…)), \"bbox_line_segments\" => MeshCat.SceneTrees.SceneNode(nothing, nothing, Dict{String, Vector{UInt8}}(), nothing, Dict{String, MeshCat.SceneTrees.SceneNode}(\"4\" => MeshCat.SceneTrees.SceneNode(UInt8[0x83, 0xa6, 0x6f, 0x62, 0x6a, 0x65, 0x63, 0x74, 0x84, 0xaa  …  0x73, 0x65, 0x67, 0x6d, 0x65, 0x6e, 0x74, 0x73, 0x2f, 0x34], nothing, Dict{String, Vector{UInt8}}(), nothing, Dict{String, MeshCat.SceneTrees.SceneNode}()), \"1\" => MeshCat.SceneTrees.SceneNode(UInt8[0x83, 0xa6, 0x6f, 0x62, 0x6a, 0x65, 0x63, 0x74, 0x84, 0xaa  …  0x73, 0x65, 0x67, 0x6d, 0x65, 0x6e, 0x74, 0x73, 0x2f, 0x31], nothing, Dict{String, Vector{UInt8}}(), nothing, Dict{String, MeshCat.SceneTrees.SceneNode}()), \"12\" => MeshCat.SceneTrees.SceneNode(UInt8[0x83, 0xa6, 0x6f, 0x62, 0x6a, 0x65, 0x63, 0x74, 0x84, 0xaa  …  0x65, 0x67, 0x6d, 0x65, 0x6e, 0x74, 0x73, 0x2f, 0x31, 0x32], nothing, Dict{String, Vector{UInt8}}(), nothing, Dict{String, MeshCat.SceneTrees.SceneNode}()), \"2\" => MeshCat.SceneTrees.SceneNode(UInt8[0x83, 0xa6, 0x6f, 0x62, 0x6a, 0x65, 0x63, 0x74, 0x84, 0xaa  …  0x73, 0x65, 0x67, 0x6d, 0x65, 0x6e, 0x74, 0x73, 0x2f, 0x32], nothing, Dict{String, Vector{UInt8}}(), nothing, Dict{String, MeshCat.SceneTrees.SceneNode}()), \"6\" => MeshCat.SceneTrees.SceneNode(UInt8[0x83, 0xa6, 0x6f, 0x62, 0x6a, 0x65, 0x63, 0x74, 0x84, 0xaa  …  0x73, 0x65, 0x67, 0x6d, 0x65, 0x6e, 0x74, 0x73, 0x2f, 0x36], nothing, Dict{String, Vector{UInt8}}(), nothing, Dict{String, MeshCat.SceneTrees.SceneNode}()), \"11\" => MeshCat.SceneTrees.SceneNode(UInt8[0x83, 0xa6, 0x6f, 0x62, 0x6a, 0x65, 0x63, 0x74, 0x84, 0xaa  …  0x65, 0x67, 0x6d, 0x65, 0x6e, 0x74, 0x73, 0x2f, 0x31, 0x31], nothing, Dict{String, Vector{UInt8}}(), nothing, Dict{String, MeshCat.SceneTrees.SceneNode}()), \"5\" => MeshCat.SceneTrees.SceneNode(UInt8[0x83, 0xa6, 0x6f, 0x62, 0x6a, 0x65, 0x63, 0x74, 0x84, 0xaa  …  0x73, 0x65, 0x67, 0x6d, 0x65, 0x6e, 0x74, 0x73, 0x2f, 0x35], nothing, Dict{String, Vector{UInt8}}(), nothing, Dict{String, MeshCat.SceneTrees.SceneNode}()), \"7\" => MeshCat.SceneTrees.SceneNode(UInt8[0x83, 0xa6, 0x6f, 0x62, 0x6a, 0x65, 0x63, 0x74, 0x84, 0xaa  …  0x73, 0x65, 0x67, 0x6d, 0x65, 0x6e, 0x74, 0x73, 0x2f, 0x37], nothing, Dict{String, Vector{UInt8}}(), nothing, Dict{String, MeshCat.SceneTrees.SceneNode}()), \"8\" => MeshCat.SceneTrees.SceneNode(UInt8[0x83, 0xa6, 0x6f, 0x62, 0x6a, 0x65, 0x63, 0x74, 0x84, 0xaa  …  0x73, 0x65, 0x67, 0x6d, 0x65, 0x6e, 0x74, 0x73, 0x2f, 0x38], nothing, Dict{String, Vector{UInt8}}(), nothing, Dict{String, MeshCat.SceneTrees.SceneNode}()), \"10\" => MeshCat.SceneTrees.SceneNode(UInt8[0x83, 0xa6, 0x6f, 0x62, 0x6a, 0x65, 0x63, 0x74, 0x84, 0xaa  …  0x65, 0x67, 0x6d, 0x65, 0x6e, 0x74, 0x73, 0x2f, 0x31, 0x30], nothing, Dict{String, Vector{UInt8}}(), nothing, Dict{String, MeshCat.SceneTrees.SceneNode}())…)))), \"Axes\" => MeshCat.SceneTrees.SceneNode(nothing, nothing, Dict{String, Vector{UInt8}}(), nothing, Dict{String, MeshCat.SceneTrees.SceneNode}(\"<object>\" => MeshCat.SceneTrees.SceneNode(UInt8[0x83, 0xa6, 0x6f, 0x62, 0x6a, 0x65, 0x63, 0x74, 0x84, 0xaa  …  0x73, 0x2f, 0x3c, 0x6f, 0x62, 0x6a, 0x65, 0x63, 0x74, 0x3e], UInt8[0x83, 0xa6, 0x6d, 0x61, 0x74, 0x72, 0x69, 0x78, 0xc7, 0x40  …  0x73, 0x2f, 0x3c, 0x6f, 0x62, 0x6a, 0x65, 0x63, 0x74, 0x3e], Dict{String, Vector{UInt8}}(), nothing, Dict{String, MeshCat.SceneTrees.SceneNode}()))))), Set{HTTP.WebSockets.WebSocket}(), ip\"127.0.0.1\", 8702))), WebIO.Node{WebIO.DOM}(WebIO.DOM(:html, :div), Any[WebIO.Scope(WebIO.Node{WebIO.DOM}(WebIO.DOM(:html, :div), Any[], Dict{Symbol, Any}(:id => \"container\")), Dict{String, Tuple{Observables.AbstractObservable, Union{Nothing, Bool}}}(\"value\" => (Observable(\"\\\\;\\\\;\"), nothing)), Set{String}(), nothing, WebIO.Asset[WebIO.Asset(\"js\", nothing, \"/home/dushya/.julia/packages/InteractBase/LJXv3/src/../assets/katex.min.js\"), WebIO.Asset(\"css\", nothing, \"/home/dushya/.julia/packages/InteractBase/LJXv3/src/../assets/katex.min.css\")], Dict{Any, Any}(\"value\" => Any[WebIO.JSString(\"(function (txt){return this.k.render(txt,this.container)})\")]), WebIO.ConnectionPool(Channel{Any}(32), Set{WebIO.AbstractConnection}(), Base.GenericCondition{ReentrantLock}(Base.IntrusiveLinkedList{Task}(Task (runnable) @0x00007f26a2908b00, Task (runnable) @0x00007f26a2908b00), ReentrantLock(nothing, 0x00000000, 0x00, Base.GenericCondition{Base.Threads.SpinLock}(Base.IntrusiveLinkedList{Task}(nothing, nothing), Base.Threads.SpinLock(0)), (0, 0, 139779710648320)))), WebIO.JSString[WebIO.JSString(\"function () {\\n    var handler = ((function (k){this.k=k; this.container=this.dom.querySelector(\\\"#container\\\"); return k.render(\\\"\\\\\\\\;\\\\\\\\;\\\",this.container)}));\\n    (WebIO.importBlock({\\\"data\\\":[{\\\"name\\\":null,\\\"type\\\":\\\"js\\\",\\\"url\\\":\\\"/assetserver/dd22ed1bf1896c2748f3fe616ce0b838adc895c1-katex.min.js\\\"},{\\\"name\\\":null,\\\"type\\\":\\\"css\\\",\\\"url\\\":\\\"/assetserver/46517a424aa5e6cffc1360d7e0848b601c584ee3-katex.min.css\\\"}],\\\"type\\\":\\\"async_block\\\"})).then((imports) => handler.apply(this, imports));\\n}\\n\")])], Dict{Symbol, Any}(:className => \"interact-widget\")), WebIO.Node{WebIO.DOM}(WebIO.DOM(:html, :div), Any[Observable(Plot{Plots.GRBackend() n=2})], Dict{Symbol, Any}(:style => Dict(\"display\" => \"flex\", \"flex-direction\" => \"column\")))], Dict{Symbol, Any}(:style => Dict(\"display\" => \"flex\", \"flex-direction\" => \"row\")))], Dict{Symbol, Any}(:style => Dict(\"display\" => \"flex\", \"flex-direction\" => \"column\")))"
      ]
     },
     "execution_count": 9,
     "metadata": {
      "application/vnd.webio.node+json": {
       "kernelId": "e5c0945a-d067-4dbd-aea6-91b59583cc8b"
      }
     },
     "output_type": "execute_result"
    }
   ],
   "source": [
    "create_interactive_app(model, initialiser= initialiser!,\n",
    "    step_rule=step_rule!,\n",
    "    model_controls=[(:min_alike, \"slider\", 1:12)], \n",
    "    agent_plots=Dict(\n",
    "        \"happy\"=> agent-> agent.mood == happy, \n",
    "        \"sad\"=> agent-> agent.mood == sad),\n",
    "    frames=200)   "
   ]
  },
  {
   "cell_type": "markdown",
   "metadata": {},
   "source": [
    "## Step 5: Fetch Data \n",
    "\n",
    "In this step we fetch data of number of happy and sad agents at each time step as a dataframe with following function. "
   ]
  },
  {
   "cell_type": "code",
   "execution_count": 10,
   "metadata": {
    "scrolled": true
   },
   "outputs": [
    {
     "data": {
      "image/png": "[encoded data removed]",
      "image/svg+xml": [
       "<?xml version=\"1.0\" encoding=\"utf-8\"?>\n",
       "<svg xmlns=\"http://www.w3.org/2000/svg\" xmlns:xlink=\"http://www.w3.org/1999/xlink\" width=\"600\" height=\"400\" viewBox=\"0 0 2400 1600\">\n",
       "<defs>\n",
       "  <clipPath id=\"clip040\">\n",
       "    <rect x=\"0\" y=\"0\" width=\"2400\" height=\"1600\"/>\n",
       "  </clipPath>\n",
       "</defs>\n",
       "<path clip-path=\"url(#clip040)\" d=\"M0 1600 L2400 1600 L2400 0 L0 0  Z\" fill=\"#ffffff\" fill-rule=\"evenodd\" fill-opacity=\"1\"/>\n",
       "<defs>\n",
       "  <clipPath id=\"clip041\">\n",
       "    <rect x=\"480\" y=\"0\" width=\"1681\" height=\"1600\"/>\n",
       "  </clipPath>\n",
       "</defs>\n",
       "<path clip-path=\"url(#clip040)\" d=\"M234.125 1423.18 L2352.76 1423.18 L2352.76 47.2441 L234.125 47.2441  Z\" fill=\"#ffffff\" fill-rule=\"evenodd\" fill-opacity=\"1\"/>\n",
       "<defs>\n",
       "  <clipPath id=\"clip042\">\n",
       "    <rect x=\"234\" y=\"47\" width=\"2120\" height=\"1377\"/>\n",
       "  </clipPath>\n",
       "</defs>\n",
       "<polyline clip-path=\"url(#clip042)\" style=\"stroke:#000000; stroke-linecap:round; stroke-linejoin:round; stroke-width:2; stroke-opacity:0.1; fill:none\" points=\"284.093,1423.18 284.093,47.2441 \"/>\n",
       "<polyline clip-path=\"url(#clip042)\" style=\"stroke:#000000; stroke-linecap:round; stroke-linejoin:round; stroke-width:2; stroke-opacity:0.1; fill:none\" points=\"783.77,1423.18 783.77,47.2441 \"/>\n",
       "<polyline clip-path=\"url(#clip042)\" style=\"stroke:#000000; stroke-linecap:round; stroke-linejoin:round; stroke-width:2; stroke-opacity:0.1; fill:none\" points=\"1283.45,1423.18 1283.45,47.2441 \"/>\n",
       "<polyline clip-path=\"url(#clip042)\" style=\"stroke:#000000; stroke-linecap:round; stroke-linejoin:round; stroke-width:2; stroke-opacity:0.1; fill:none\" points=\"1783.12,1423.18 1783.12,47.2441 \"/>\n",
       "<polyline clip-path=\"url(#clip042)\" style=\"stroke:#000000; stroke-linecap:round; stroke-linejoin:round; stroke-width:2; stroke-opacity:0.1; fill:none\" points=\"2282.8,1423.18 2282.8,47.2441 \"/>\n",
       "<polyline clip-path=\"url(#clip040)\" style=\"stroke:#000000; stroke-linecap:round; stroke-linejoin:round; stroke-width:4; stroke-opacity:1; fill:none\" points=\"234.125,1423.18 2352.76,1423.18 \"/>\n",
       "<polyline clip-path=\"url(#clip040)\" style=\"stroke:#000000; stroke-linecap:round; stroke-linejoin:round; stroke-width:4; stroke-opacity:1; fill:none\" points=\"284.093,1423.18 284.093,1404.28 \"/>\n",
       "<polyline clip-path=\"url(#clip040)\" style=\"stroke:#000000; stroke-linecap:round; stroke-linejoin:round; stroke-width:4; stroke-opacity:1; fill:none\" points=\"783.77,1423.18 783.77,1404.28 \"/>\n",
       "<polyline clip-path=\"url(#clip040)\" style=\"stroke:#000000; stroke-linecap:round; stroke-linejoin:round; stroke-width:4; stroke-opacity:1; fill:none\" points=\"1283.45,1423.18 1283.45,1404.28 \"/>\n",
       "<polyline clip-path=\"url(#clip040)\" style=\"stroke:#000000; stroke-linecap:round; stroke-linejoin:round; stroke-width:4; stroke-opacity:1; fill:none\" points=\"1783.12,1423.18 1783.12,1404.28 \"/>\n",
       "<polyline clip-path=\"url(#clip040)\" style=\"stroke:#000000; stroke-linecap:round; stroke-linejoin:round; stroke-width:4; stroke-opacity:1; fill:none\" points=\"2282.8,1423.18 2282.8,1404.28 \"/>\n",
       "<path clip-path=\"url(#clip040)\" d=\"M284.093 1454.1 Q280.482 1454.1 278.653 1457.66 Q276.848 1461.2 276.848 1468.33 Q276.848 1475.44 278.653 1479.01 Q280.482 1482.55 284.093 1482.55 Q287.727 1482.55 289.533 1479.01 Q291.362 1475.44 291.362 1468.33 Q291.362 1461.2 289.533 1457.66 Q287.727 1454.1 284.093 1454.1 M284.093 1450.39 Q289.903 1450.39 292.959 1455 Q296.038 1459.58 296.038 1468.33 Q296.038 1477.06 292.959 1481.67 Q289.903 1486.25 284.093 1486.25 Q278.283 1486.25 275.204 1481.67 Q272.149 1477.06 272.149 1468.33 Q272.149 1459.58 275.204 1455 Q278.283 1450.39 284.093 1450.39 Z\" fill=\"#000000\" fill-rule=\"nonzero\" fill-opacity=\"1\" /><path clip-path=\"url(#clip040)\" d=\"M758.469 1451.02 L776.826 1451.02 L776.826 1454.96 L762.752 1454.96 L762.752 1463.43 Q763.77 1463.08 764.789 1462.92 Q765.807 1462.73 766.826 1462.73 Q772.613 1462.73 775.992 1465.9 Q779.372 1469.08 779.372 1474.49 Q779.372 1480.07 775.9 1483.17 Q772.428 1486.25 766.108 1486.25 Q763.932 1486.25 761.664 1485.88 Q759.418 1485.51 757.011 1484.77 L757.011 1480.07 Q759.094 1481.2 761.317 1481.76 Q763.539 1482.32 766.016 1482.32 Q770.02 1482.32 772.358 1480.21 Q774.696 1478.1 774.696 1474.49 Q774.696 1470.88 772.358 1468.77 Q770.02 1466.67 766.016 1466.67 Q764.141 1466.67 762.266 1467.08 Q760.414 1467.5 758.469 1468.38 L758.469 1451.02 Z\" fill=\"#000000\" fill-rule=\"nonzero\" fill-opacity=\"1\" /><path clip-path=\"url(#clip040)\" d=\"M798.585 1454.1 Q794.974 1454.1 793.145 1457.66 Q791.34 1461.2 791.34 1468.33 Q791.34 1475.44 793.145 1479.01 Q794.974 1482.55 798.585 1482.55 Q802.219 1482.55 804.025 1479.01 Q805.853 1475.44 805.853 1468.33 Q805.853 1461.2 804.025 1457.66 Q802.219 1454.1 798.585 1454.1 M798.585 1450.39 Q804.395 1450.39 807.451 1455 Q810.529 1459.58 810.529 1468.33 Q810.529 1477.06 807.451 1481.67 Q804.395 1486.25 798.585 1486.25 Q792.775 1486.25 789.696 1481.67 Q786.64 1477.06 786.64 1468.33 Q786.64 1459.58 789.696 1455 Q792.775 1450.39 798.585 1450.39 Z\" fill=\"#000000\" fill-rule=\"nonzero\" fill-opacity=\"1\" /><path clip-path=\"url(#clip040)\" d=\"M1243.05 1481.64 L1250.69 1481.64 L1250.69 1455.28 L1242.38 1456.95 L1242.38 1452.69 L1250.65 1451.02 L1255.32 1451.02 L1255.32 1481.64 L1262.96 1481.64 L1262.96 1485.58 L1243.05 1485.58 L1243.05 1481.64 Z\" fill=\"#000000\" fill-rule=\"nonzero\" fill-opacity=\"1\" /><path clip-path=\"url(#clip040)\" d=\"M1282.41 1454.1 Q1278.79 1454.1 1276.97 1457.66 Q1275.16 1461.2 1275.16 1468.33 Q1275.16 1475.44 1276.97 1479.01 Q1278.79 1482.55 1282.41 1482.55 Q1286.04 1482.55 1287.85 1479.01 Q1289.67 1475.44 1289.67 1468.33 Q1289.67 1461.2 1287.85 1457.66 Q1286.04 1454.1 1282.41 1454.1 M1282.41 1450.39 Q1288.22 1450.39 1291.27 1455 Q1294.35 1459.58 1294.35 1468.33 Q1294.35 1477.06 1291.27 1481.67 Q1288.22 1486.25 1282.41 1486.25 Q1276.6 1486.25 1273.52 1481.67 Q1270.46 1477.06 1270.46 1468.33 Q1270.46 1459.58 1273.52 1455 Q1276.6 1450.39 1282.41 1450.39 Z\" fill=\"#000000\" fill-rule=\"nonzero\" fill-opacity=\"1\" /><path clip-path=\"url(#clip040)\" d=\"M1312.57 1454.1 Q1308.96 1454.1 1307.13 1457.66 Q1305.32 1461.2 1305.32 1468.33 Q1305.32 1475.44 1307.13 1479.01 Q1308.96 1482.55 1312.57 1482.55 Q1316.2 1482.55 1318.01 1479.01 Q1319.84 1475.44 1319.84 1468.33 Q1319.84 1461.2 1318.01 1457.66 Q1316.2 1454.1 1312.57 1454.1 M1312.57 1450.39 Q1318.38 1450.39 1321.43 1455 Q1324.51 1459.58 1324.51 1468.33 Q1324.51 1477.06 1321.43 1481.67 Q1318.38 1486.25 1312.57 1486.25 Q1306.76 1486.25 1303.68 1481.67 Q1300.62 1477.06 1300.62 1468.33 Q1300.62 1459.58 1303.68 1455 Q1306.76 1450.39 1312.57 1450.39 Z\" fill=\"#000000\" fill-rule=\"nonzero\" fill-opacity=\"1\" /><path clip-path=\"url(#clip040)\" d=\"M1742.73 1481.64 L1750.37 1481.64 L1750.37 1455.28 L1742.06 1456.95 L1742.06 1452.69 L1750.32 1451.02 L1755 1451.02 L1755 1481.64 L1762.64 1481.64 L1762.64 1485.58 L1742.73 1485.58 L1742.73 1481.64 Z\" fill=\"#000000\" fill-rule=\"nonzero\" fill-opacity=\"1\" /><path clip-path=\"url(#clip040)\" d=\"M1772.13 1451.02 L1790.49 1451.02 L1790.49 1454.96 L1776.41 1454.96 L1776.41 1463.43 Q1777.43 1463.08 1778.45 1462.92 Q1779.47 1462.73 1780.49 1462.73 Q1786.27 1462.73 1789.65 1465.9 Q1793.03 1469.08 1793.03 1474.49 Q1793.03 1480.07 1789.56 1483.17 Q1786.09 1486.25 1779.77 1486.25 Q1777.59 1486.25 1775.32 1485.88 Q1773.08 1485.51 1770.67 1484.77 L1770.67 1480.07 Q1772.75 1481.2 1774.98 1481.76 Q1777.2 1482.32 1779.68 1482.32 Q1783.68 1482.32 1786.02 1480.21 Q1788.36 1478.1 1788.36 1474.49 Q1788.36 1470.88 1786.02 1468.77 Q1783.68 1466.67 1779.68 1466.67 Q1777.8 1466.67 1775.93 1467.08 Q1774.07 1467.5 1772.13 1468.38 L1772.13 1451.02 Z\" fill=\"#000000\" fill-rule=\"nonzero\" fill-opacity=\"1\" /><path clip-path=\"url(#clip040)\" d=\"M1812.24 1454.1 Q1808.63 1454.1 1806.8 1457.66 Q1805 1461.2 1805 1468.33 Q1805 1475.44 1806.8 1479.01 Q1808.63 1482.55 1812.24 1482.55 Q1815.88 1482.55 1817.68 1479.01 Q1819.51 1475.44 1819.51 1468.33 Q1819.51 1461.2 1817.68 1457.66 Q1815.88 1454.1 1812.24 1454.1 M1812.24 1450.39 Q1818.05 1450.39 1821.11 1455 Q1824.19 1459.58 1824.19 1468.33 Q1824.19 1477.06 1821.11 1481.67 Q1818.05 1486.25 1812.24 1486.25 Q1806.43 1486.25 1803.36 1481.67 Q1800.3 1477.06 1800.3 1468.33 Q1800.3 1459.58 1803.36 1455 Q1806.43 1450.39 1812.24 1450.39 Z\" fill=\"#000000\" fill-rule=\"nonzero\" fill-opacity=\"1\" /><path clip-path=\"url(#clip040)\" d=\"M2246.49 1481.64 L2262.81 1481.64 L2262.81 1485.58 L2240.87 1485.58 L2240.87 1481.64 Q2243.53 1478.89 2248.11 1474.26 Q2252.72 1469.61 2253.9 1468.27 Q2256.15 1465.74 2257.03 1464.01 Q2257.93 1462.25 2257.93 1460.56 Q2257.93 1457.8 2255.98 1456.07 Q2254.06 1454.33 2250.96 1454.33 Q2248.76 1454.33 2246.31 1455.09 Q2243.88 1455.86 2241.1 1457.41 L2241.1 1452.69 Q2243.92 1451.55 2246.38 1450.97 Q2248.83 1450.39 2250.87 1450.39 Q2256.24 1450.39 2259.43 1453.08 Q2262.63 1455.77 2262.63 1460.26 Q2262.63 1462.39 2261.82 1464.31 Q2261.03 1466.2 2258.92 1468.8 Q2258.35 1469.47 2255.24 1472.69 Q2252.14 1475.88 2246.49 1481.64 Z\" fill=\"#000000\" fill-rule=\"nonzero\" fill-opacity=\"1\" /><path clip-path=\"url(#clip040)\" d=\"M2282.63 1454.1 Q2279.02 1454.1 2277.19 1457.66 Q2275.38 1461.2 2275.38 1468.33 Q2275.38 1475.44 2277.19 1479.01 Q2279.02 1482.55 2282.63 1482.55 Q2286.26 1482.55 2288.07 1479.01 Q2289.9 1475.44 2289.9 1468.33 Q2289.9 1461.2 2288.07 1457.66 Q2286.26 1454.1 2282.63 1454.1 M2282.63 1450.39 Q2288.44 1450.39 2291.49 1455 Q2294.57 1459.58 2294.57 1468.33 Q2294.57 1477.06 2291.49 1481.67 Q2288.44 1486.25 2282.63 1486.25 Q2276.82 1486.25 2273.74 1481.67 Q2270.68 1477.06 2270.68 1468.33 Q2270.68 1459.58 2273.74 1455 Q2276.82 1450.39 2282.63 1450.39 Z\" fill=\"#000000\" fill-rule=\"nonzero\" fill-opacity=\"1\" /><path clip-path=\"url(#clip040)\" d=\"M2312.79 1454.1 Q2309.18 1454.1 2307.35 1457.66 Q2305.54 1461.2 2305.54 1468.33 Q2305.54 1475.44 2307.35 1479.01 Q2309.18 1482.55 2312.79 1482.55 Q2316.42 1482.55 2318.23 1479.01 Q2320.06 1475.44 2320.06 1468.33 Q2320.06 1461.2 2318.23 1457.66 Q2316.42 1454.1 2312.79 1454.1 M2312.79 1450.39 Q2318.6 1450.39 2321.66 1455 Q2324.73 1459.58 2324.73 1468.33 Q2324.73 1477.06 2321.66 1481.67 Q2318.6 1486.25 2312.79 1486.25 Q2306.98 1486.25 2303.9 1481.67 Q2300.85 1477.06 2300.85 1468.33 Q2300.85 1459.58 2303.9 1455 Q2306.98 1450.39 2312.79 1450.39 Z\" fill=\"#000000\" fill-rule=\"nonzero\" fill-opacity=\"1\" /><path clip-path=\"url(#clip040)\" d=\"M1230.48 1522.27 L1230.48 1532.4 L1242.55 1532.4 L1242.55 1536.95 L1230.48 1536.95 L1230.48 1556.3 Q1230.48 1560.66 1231.66 1561.9 Q1232.87 1563.14 1236.53 1563.14 L1242.55 1563.14 L1242.55 1568.04 L1236.53 1568.04 Q1229.75 1568.04 1227.17 1565.53 Q1224.6 1562.98 1224.6 1556.3 L1224.6 1536.95 L1220.3 1536.95 L1220.3 1532.4 L1224.6 1532.4 L1224.6 1522.27 L1230.48 1522.27 Z\" fill=\"#000000\" fill-rule=\"nonzero\" fill-opacity=\"1\" /><path clip-path=\"url(#clip040)\" d=\"M1250.25 1532.4 L1256.11 1532.4 L1256.11 1568.04 L1250.25 1568.04 L1250.25 1532.4 M1250.25 1518.52 L1256.11 1518.52 L1256.11 1525.93 L1250.25 1525.93 L1250.25 1518.52 Z\" fill=\"#000000\" fill-rule=\"nonzero\" fill-opacity=\"1\" /><path clip-path=\"url(#clip040)\" d=\"M1294.01 1533.76 L1294.01 1539.24 Q1291.53 1537.87 1289.02 1537.2 Q1286.53 1536.5 1283.99 1536.5 Q1278.29 1536.5 1275.14 1540.13 Q1271.99 1543.73 1271.99 1550.25 Q1271.99 1556.78 1275.14 1560.4 Q1278.29 1564 1283.99 1564 Q1286.53 1564 1289.02 1563.33 Q1291.53 1562.63 1294.01 1561.26 L1294.01 1566.68 Q1291.56 1567.82 1288.92 1568.39 Q1286.31 1568.97 1283.35 1568.97 Q1275.3 1568.97 1270.56 1563.91 Q1265.81 1558.85 1265.81 1550.25 Q1265.81 1541.53 1270.59 1536.53 Q1275.39 1531.54 1283.73 1531.54 Q1286.44 1531.54 1289.02 1532.11 Q1291.59 1532.65 1294.01 1533.76 Z\" fill=\"#000000\" fill-rule=\"nonzero\" fill-opacity=\"1\" /><path clip-path=\"url(#clip040)\" d=\"M1303.98 1518.52 L1309.86 1518.52 L1309.86 1547.77 L1327.34 1532.4 L1334.82 1532.4 L1315.91 1549.07 L1335.61 1568.04 L1327.97 1568.04 L1309.86 1550.63 L1309.86 1568.04 L1303.98 1568.04 L1303.98 1518.52 Z\" fill=\"#000000\" fill-rule=\"nonzero\" fill-opacity=\"1\" /><path clip-path=\"url(#clip040)\" d=\"M1364.67 1533.45 L1364.67 1538.98 Q1362.19 1537.71 1359.52 1537.07 Q1356.84 1536.44 1353.98 1536.44 Q1349.62 1536.44 1347.42 1537.77 Q1345.26 1539.11 1345.26 1541.79 Q1345.26 1543.82 1346.82 1545 Q1348.38 1546.15 1353.09 1547.2 L1355.09 1547.64 Q1361.33 1548.98 1363.94 1551.43 Q1366.58 1553.85 1366.58 1558.21 Q1366.58 1563.17 1362.64 1566.07 Q1358.72 1568.97 1351.85 1568.97 Q1348.98 1568.97 1345.86 1568.39 Q1342.77 1567.85 1339.34 1566.74 L1339.34 1560.69 Q1342.58 1562.38 1345.73 1563.24 Q1348.89 1564.07 1351.97 1564.07 Q1356.11 1564.07 1358.34 1562.66 Q1360.57 1561.23 1360.57 1558.65 Q1360.57 1556.27 1358.94 1554.99 Q1357.35 1553.72 1351.91 1552.54 L1349.87 1552.07 Q1344.43 1550.92 1342.01 1548.56 Q1339.59 1546.18 1339.59 1542.04 Q1339.59 1537.01 1343.16 1534.27 Q1346.72 1531.54 1353.28 1531.54 Q1356.52 1531.54 1359.39 1532.01 Q1362.25 1532.49 1364.67 1533.45 Z\" fill=\"#000000\" fill-rule=\"nonzero\" fill-opacity=\"1\" /><polyline clip-path=\"url(#clip042)\" style=\"stroke:#000000; stroke-linecap:round; stroke-linejoin:round; stroke-width:2; stroke-opacity:0.1; fill:none\" points=\"234.125,1384.24 2352.76,1384.24 \"/>\n",
       "<polyline clip-path=\"url(#clip042)\" style=\"stroke:#000000; stroke-linecap:round; stroke-linejoin:round; stroke-width:2; stroke-opacity:0.1; fill:none\" points=\"234.125,1059.73 2352.76,1059.73 \"/>\n",
       "<polyline clip-path=\"url(#clip042)\" style=\"stroke:#000000; stroke-linecap:round; stroke-linejoin:round; stroke-width:2; stroke-opacity:0.1; fill:none\" points=\"234.125,735.212 2352.76,735.212 \"/>\n",
       "<polyline clip-path=\"url(#clip042)\" style=\"stroke:#000000; stroke-linecap:round; stroke-linejoin:round; stroke-width:2; stroke-opacity:0.1; fill:none\" points=\"234.125,410.699 2352.76,410.699 \"/>\n",
       "<polyline clip-path=\"url(#clip042)\" style=\"stroke:#000000; stroke-linecap:round; stroke-linejoin:round; stroke-width:2; stroke-opacity:0.1; fill:none\" points=\"234.125,86.1857 2352.76,86.1857 \"/>\n",
       "<polyline clip-path=\"url(#clip040)\" style=\"stroke:#000000; stroke-linecap:round; stroke-linejoin:round; stroke-width:4; stroke-opacity:1; fill:none\" points=\"234.125,1423.18 234.125,47.2441 \"/>\n",
       "<polyline clip-path=\"url(#clip040)\" style=\"stroke:#000000; stroke-linecap:round; stroke-linejoin:round; stroke-width:4; stroke-opacity:1; fill:none\" points=\"234.125,1384.24 253.023,1384.24 \"/>\n",
       "<polyline clip-path=\"url(#clip040)\" style=\"stroke:#000000; stroke-linecap:round; stroke-linejoin:round; stroke-width:4; stroke-opacity:1; fill:none\" points=\"234.125,1059.73 253.023,1059.73 \"/>\n",
       "<polyline clip-path=\"url(#clip040)\" style=\"stroke:#000000; stroke-linecap:round; stroke-linejoin:round; stroke-width:4; stroke-opacity:1; fill:none\" points=\"234.125,735.212 253.023,735.212 \"/>\n",
       "<polyline clip-path=\"url(#clip040)\" style=\"stroke:#000000; stroke-linecap:round; stroke-linejoin:round; stroke-width:4; stroke-opacity:1; fill:none\" points=\"234.125,410.699 253.023,410.699 \"/>\n",
       "<polyline clip-path=\"url(#clip040)\" style=\"stroke:#000000; stroke-linecap:round; stroke-linejoin:round; stroke-width:4; stroke-opacity:1; fill:none\" points=\"234.125,86.1857 253.023,86.1857 \"/>\n",
       "<path clip-path=\"url(#clip040)\" d=\"M186.181 1370.04 Q182.57 1370.04 180.741 1373.6 Q178.936 1377.14 178.936 1384.27 Q178.936 1391.38 180.741 1394.94 Q182.57 1398.49 186.181 1398.49 Q189.815 1398.49 191.621 1394.94 Q193.45 1391.38 193.45 1384.27 Q193.45 1377.14 191.621 1373.6 Q189.815 1370.04 186.181 1370.04 M186.181 1366.33 Q191.991 1366.33 195.047 1370.94 Q198.125 1375.52 198.125 1384.27 Q198.125 1393 195.047 1397.61 Q191.991 1402.19 186.181 1402.19 Q180.371 1402.19 177.292 1397.61 Q174.237 1393 174.237 1384.27 Q174.237 1375.52 177.292 1370.94 Q180.371 1366.33 186.181 1366.33 Z\" fill=\"#000000\" fill-rule=\"nonzero\" fill-opacity=\"1\" /><path clip-path=\"url(#clip040)\" d=\"M146.066 1042.45 L164.422 1042.45 L164.422 1046.38 L150.348 1046.38 L150.348 1054.85 Q151.366 1054.51 152.385 1054.34 Q153.403 1054.16 154.422 1054.16 Q160.209 1054.16 163.589 1057.33 Q166.968 1060.5 166.968 1065.92 Q166.968 1071.5 163.496 1074.6 Q160.024 1077.68 153.704 1077.68 Q151.528 1077.68 149.26 1077.31 Q147.015 1076.94 144.607 1076.19 L144.607 1071.5 Q146.691 1072.63 148.913 1073.19 Q151.135 1073.74 153.612 1073.74 Q157.616 1073.74 159.954 1071.63 Q162.292 1069.53 162.292 1065.92 Q162.292 1062.31 159.954 1060.2 Q157.616 1058.09 153.612 1058.09 Q151.737 1058.09 149.862 1058.51 Q148.01 1058.93 146.066 1059.81 L146.066 1042.45 Z\" fill=\"#000000\" fill-rule=\"nonzero\" fill-opacity=\"1\" /><path clip-path=\"url(#clip040)\" d=\"M186.181 1045.52 Q182.57 1045.52 180.741 1049.09 Q178.936 1052.63 178.936 1059.76 Q178.936 1066.87 180.741 1070.43 Q182.57 1073.97 186.181 1073.97 Q189.815 1073.97 191.621 1070.43 Q193.45 1066.87 193.45 1059.76 Q193.45 1052.63 191.621 1049.09 Q189.815 1045.52 186.181 1045.52 M186.181 1041.82 Q191.991 1041.82 195.047 1046.43 Q198.125 1051.01 198.125 1059.76 Q198.125 1068.49 195.047 1073.09 Q191.991 1077.68 186.181 1077.68 Q180.371 1077.68 177.292 1073.09 Q174.237 1068.49 174.237 1059.76 Q174.237 1051.01 177.292 1046.43 Q180.371 1041.82 186.181 1041.82 Z\" fill=\"#000000\" fill-rule=\"nonzero\" fill-opacity=\"1\" /><path clip-path=\"url(#clip040)\" d=\"M116.668 748.557 L124.306 748.557 L124.306 722.191 L115.996 723.858 L115.996 719.599 L124.26 717.932 L128.936 717.932 L128.936 748.557 L136.575 748.557 L136.575 752.492 L116.668 752.492 L116.668 748.557 Z\" fill=\"#000000\" fill-rule=\"nonzero\" fill-opacity=\"1\" /><path clip-path=\"url(#clip040)\" d=\"M156.019 721.011 Q152.408 721.011 150.579 724.575 Q148.774 728.117 148.774 735.247 Q148.774 742.353 150.579 745.918 Q152.408 749.46 156.019 749.46 Q159.653 749.46 161.459 745.918 Q163.288 742.353 163.288 735.247 Q163.288 728.117 161.459 724.575 Q159.653 721.011 156.019 721.011 M156.019 717.307 Q161.829 717.307 164.885 721.913 Q167.964 726.497 167.964 735.247 Q167.964 743.973 164.885 748.58 Q161.829 753.163 156.019 753.163 Q150.209 753.163 147.13 748.58 Q144.075 743.973 144.075 735.247 Q144.075 726.497 147.13 721.913 Q150.209 717.307 156.019 717.307 Z\" fill=\"#000000\" fill-rule=\"nonzero\" fill-opacity=\"1\" /><path clip-path=\"url(#clip040)\" d=\"M186.181 721.011 Q182.57 721.011 180.741 724.575 Q178.936 728.117 178.936 735.247 Q178.936 742.353 180.741 745.918 Q182.57 749.46 186.181 749.46 Q189.815 749.46 191.621 745.918 Q193.45 742.353 193.45 735.247 Q193.45 728.117 191.621 724.575 Q189.815 721.011 186.181 721.011 M186.181 717.307 Q191.991 717.307 195.047 721.913 Q198.125 726.497 198.125 735.247 Q198.125 743.973 195.047 748.58 Q191.991 753.163 186.181 753.163 Q180.371 753.163 177.292 748.58 Q174.237 743.973 174.237 735.247 Q174.237 726.497 177.292 721.913 Q180.371 717.307 186.181 717.307 Z\" fill=\"#000000\" fill-rule=\"nonzero\" fill-opacity=\"1\" /><path clip-path=\"url(#clip040)\" d=\"M116.668 424.044 L124.306 424.044 L124.306 397.678 L115.996 399.345 L115.996 395.085 L124.26 393.419 L128.936 393.419 L128.936 424.044 L136.575 424.044 L136.575 427.979 L116.668 427.979 L116.668 424.044 Z\" fill=\"#000000\" fill-rule=\"nonzero\" fill-opacity=\"1\" /><path clip-path=\"url(#clip040)\" d=\"M146.066 393.419 L164.422 393.419 L164.422 397.354 L150.348 397.354 L150.348 405.826 Q151.366 405.479 152.385 405.317 Q153.403 405.132 154.422 405.132 Q160.209 405.132 163.589 408.303 Q166.968 411.474 166.968 416.891 Q166.968 422.47 163.496 425.571 Q160.024 428.65 153.704 428.65 Q151.528 428.65 149.26 428.28 Q147.015 427.909 144.607 427.169 L144.607 422.47 Q146.691 423.604 148.913 424.159 Q151.135 424.715 153.612 424.715 Q157.616 424.715 159.954 422.608 Q162.292 420.502 162.292 416.891 Q162.292 413.28 159.954 411.173 Q157.616 409.067 153.612 409.067 Q151.737 409.067 149.862 409.484 Q148.01 409.9 146.066 410.78 L146.066 393.419 Z\" fill=\"#000000\" fill-rule=\"nonzero\" fill-opacity=\"1\" /><path clip-path=\"url(#clip040)\" d=\"M186.181 396.498 Q182.57 396.498 180.741 400.062 Q178.936 403.604 178.936 410.734 Q178.936 417.84 180.741 421.405 Q182.57 424.946 186.181 424.946 Q189.815 424.946 191.621 421.405 Q193.45 417.84 193.45 410.734 Q193.45 403.604 191.621 400.062 Q189.815 396.498 186.181 396.498 M186.181 392.794 Q191.991 392.794 195.047 397.4 Q198.125 401.984 198.125 410.734 Q198.125 419.46 195.047 424.067 Q191.991 428.65 186.181 428.65 Q180.371 428.65 177.292 424.067 Q174.237 419.46 174.237 410.734 Q174.237 401.984 177.292 397.4 Q180.371 392.794 186.181 392.794 Z\" fill=\"#000000\" fill-rule=\"nonzero\" fill-opacity=\"1\" /><path clip-path=\"url(#clip040)\" d=\"M119.885 99.5305 L136.204 99.5305 L136.204 103.466 L114.26 103.466 L114.26 99.5305 Q116.922 96.7759 121.505 92.1463 Q126.112 87.4935 127.292 86.151 Q129.538 83.6278 130.417 81.8917 Q131.32 80.1325 131.32 78.4427 Q131.32 75.688 129.376 73.9519 Q127.455 72.2158 124.353 72.2158 Q122.154 72.2158 119.7 72.9797 Q117.269 73.7436 114.492 75.2945 L114.492 70.5723 Q117.316 69.4381 119.769 68.8594 Q122.223 68.2807 124.26 68.2807 Q129.63 68.2807 132.825 70.9658 Q136.019 73.651 136.019 78.1417 Q136.019 80.2714 135.209 82.1926 Q134.422 84.0908 132.316 86.6834 Q131.737 87.3546 128.635 90.5722 Q125.533 93.7667 119.885 99.5305 Z\" fill=\"#000000\" fill-rule=\"nonzero\" fill-opacity=\"1\" /><path clip-path=\"url(#clip040)\" d=\"M156.019 71.9844 Q152.408 71.9844 150.579 75.5492 Q148.774 79.0908 148.774 86.2204 Q148.774 93.3268 150.579 96.8916 Q152.408 100.433 156.019 100.433 Q159.653 100.433 161.459 96.8916 Q163.288 93.3268 163.288 86.2204 Q163.288 79.0908 161.459 75.5492 Q159.653 71.9844 156.019 71.9844 M156.019 68.2807 Q161.829 68.2807 164.885 72.8871 Q167.964 77.4704 167.964 86.2204 Q167.964 94.9472 164.885 99.5537 Q161.829 104.137 156.019 104.137 Q150.209 104.137 147.13 99.5537 Q144.075 94.9472 144.075 86.2204 Q144.075 77.4704 147.13 72.8871 Q150.209 68.2807 156.019 68.2807 Z\" fill=\"#000000\" fill-rule=\"nonzero\" fill-opacity=\"1\" /><path clip-path=\"url(#clip040)\" d=\"M186.181 71.9844 Q182.57 71.9844 180.741 75.5492 Q178.936 79.0908 178.936 86.2204 Q178.936 93.3268 180.741 96.8916 Q182.57 100.433 186.181 100.433 Q189.815 100.433 191.621 96.8916 Q193.45 93.3268 193.45 86.2204 Q193.45 79.0908 191.621 75.5492 Q189.815 71.9844 186.181 71.9844 M186.181 68.2807 Q191.991 68.2807 195.047 72.8871 Q198.125 77.4704 198.125 86.2204 Q198.125 94.9472 195.047 99.5537 Q191.991 104.137 186.181 104.137 Q180.371 104.137 177.292 99.5537 Q174.237 94.9472 174.237 86.2204 Q174.237 77.4704 177.292 72.8871 Q180.371 68.2807 186.181 68.2807 Z\" fill=\"#000000\" fill-rule=\"nonzero\" fill-opacity=\"1\" /><path clip-path=\"url(#clip040)\" d=\"M42.4881 991.273 L64.0042 991.273 L64.0042 997.129 L42.679 997.129 Q37.6183 997.129 35.1038 999.102 Q32.5894 1001.08 32.5894 1005.02 Q32.5894 1009.76 35.6131 1012.5 Q38.6368 1015.24 43.8567 1015.24 L64.0042 1015.24 L64.0042 1021.13 L28.3562 1021.13 L28.3562 1015.24 L33.8944 1015.24 Q30.6797 1013.14 29.0883 1010.31 Q27.4968 1007.44 27.4968 1003.72 Q27.4968 997.575 31.3163 994.424 Q35.1038 991.273 42.4881 991.273 Z\" fill=\"#000000\" fill-rule=\"nonzero\" fill-opacity=\"1\" /><path clip-path=\"url(#clip040)\" d=\"M49.9359 980.196 L28.3562 980.196 L28.3562 974.34 L49.7131 974.34 Q54.7739 974.34 57.3202 972.366 Q59.8346 970.393 59.8346 966.446 Q59.8346 961.704 56.8109 958.967 Q53.7872 956.197 48.5673 956.197 L28.3562 956.197 L28.3562 950.341 L64.0042 950.341 L64.0042 956.197 L58.5296 956.197 Q61.7762 958.33 63.3676 961.163 Q64.9272 963.964 64.9272 967.688 Q64.9272 973.83 61.1078 977.013 Q57.2883 980.196 49.9359 980.196 M27.4968 965.46 L27.4968 965.46 Z\" fill=\"#000000\" fill-rule=\"nonzero\" fill-opacity=\"1\" /><path clip-path=\"url(#clip040)\" d=\"M35.1993 910.524 Q31.2526 908.327 29.3747 905.272 Q27.4968 902.216 27.4968 898.079 Q27.4968 892.509 31.4117 889.485 Q35.2948 886.461 42.4881 886.461 L64.0042 886.461 L64.0042 892.349 L42.679 892.349 Q37.5546 892.349 35.072 894.164 Q32.5894 895.978 32.5894 899.702 Q32.5894 904.253 35.6131 906.895 Q38.6368 909.537 43.8567 909.537 L64.0042 909.537 L64.0042 915.425 L42.679 915.425 Q37.5228 915.425 35.072 917.239 Q32.5894 919.054 32.5894 922.841 Q32.5894 927.329 35.6449 929.971 Q38.6686 932.613 43.8567 932.613 L64.0042 932.613 L64.0042 938.501 L28.3562 938.501 L28.3562 932.613 L33.8944 932.613 Q30.616 930.607 29.0564 927.806 Q27.4968 925.006 27.4968 921.154 Q27.4968 917.271 29.4702 914.566 Q31.4436 911.828 35.1993 910.524 Z\" fill=\"#000000\" fill-rule=\"nonzero\" fill-opacity=\"1\" /><path clip-path=\"url(#clip040)\" d=\"M46.212 849.19 Q39.7508 849.19 36.0905 851.864 Q32.3984 854.505 32.3984 859.152 Q32.3984 863.799 36.0905 866.473 Q39.7508 869.115 46.212 869.115 Q52.6732 869.115 56.3653 866.473 Q60.0256 863.799 60.0256 859.152 Q60.0256 854.505 56.3653 851.864 Q52.6732 849.19 46.212 849.19 M33.7671 869.115 Q30.5842 867.269 29.0564 864.468 Q27.4968 861.635 27.4968 857.72 Q27.4968 851.227 32.6531 847.185 Q37.8093 843.111 46.212 843.111 Q54.6147 843.111 59.771 847.185 Q64.9272 851.227 64.9272 857.72 Q64.9272 861.635 63.3994 864.468 Q61.8398 867.269 58.657 869.115 L64.0042 869.115 L64.0042 875.003 L14.479 875.003 L14.479 869.115 L33.7671 869.115 Z\" fill=\"#000000\" fill-rule=\"nonzero\" fill-opacity=\"1\" /><path clip-path=\"url(#clip040)\" d=\"M44.7161 802.911 L47.5806 802.911 L47.5806 829.838 Q53.6281 829.456 56.8109 826.21 Q59.9619 822.931 59.9619 817.107 Q59.9619 813.733 59.1344 810.582 Q58.3069 807.399 56.6518 804.28 L62.1899 804.28 Q63.5267 807.431 64.227 810.741 Q64.9272 814.051 64.9272 817.457 Q64.9272 825.987 59.9619 830.984 Q54.9967 835.949 46.5303 835.949 Q37.7774 835.949 32.6531 831.239 Q27.4968 826.496 27.4968 818.475 Q27.4968 811.282 32.1438 807.113 Q36.7589 802.911 44.7161 802.911 M42.9973 808.768 Q38.1912 808.831 35.3266 811.473 Q32.4621 814.083 32.4621 818.412 Q32.4621 823.313 35.2312 826.273 Q38.0002 829.202 43.0292 829.647 L42.9973 808.768 Z\" fill=\"#000000\" fill-rule=\"nonzero\" fill-opacity=\"1\" /><path clip-path=\"url(#clip040)\" d=\"M33.8307 772.642 Q33.2578 773.629 33.0032 774.807 Q32.7167 775.952 32.7167 777.353 Q32.7167 782.318 35.9632 784.992 Q39.1779 787.634 45.2253 787.634 L64.0042 787.634 L64.0042 793.522 L28.3562 793.522 L28.3562 787.634 L33.8944 787.634 Q30.6479 785.788 29.0883 782.827 Q27.4968 779.867 27.4968 775.634 Q27.4968 775.029 27.5923 774.297 Q27.656 773.565 27.8151 772.674 L33.8307 772.642 Z\" fill=\"#000000\" fill-rule=\"nonzero\" fill-opacity=\"1\" /><path clip-path=\"url(#clip040)\" d=\"M32.4621 731.965 Q32.4621 736.676 36.1542 739.413 Q39.8145 742.151 46.212 742.151 Q52.6095 742.151 56.3017 739.445 Q59.9619 736.708 59.9619 731.965 Q59.9619 727.287 56.2698 724.549 Q52.5777 721.812 46.212 721.812 Q39.8781 721.812 36.186 724.549 Q32.4621 727.287 32.4621 731.965 M27.4968 731.965 Q27.4968 724.327 32.4621 719.966 Q37.4273 715.606 46.212 715.606 Q54.9649 715.606 59.9619 719.966 Q64.9272 724.327 64.9272 731.965 Q64.9272 739.636 59.9619 743.997 Q54.9649 748.325 46.212 748.325 Q37.4273 748.325 32.4621 743.997 Q27.4968 739.636 27.4968 731.965 Z\" fill=\"#000000\" fill-rule=\"nonzero\" fill-opacity=\"1\" /><path clip-path=\"url(#clip040)\" d=\"M14.479 687.851 L19.3487 687.851 L19.3487 693.453 Q19.3487 696.604 20.6219 697.845 Q21.895 699.055 25.2052 699.055 L28.3562 699.055 L28.3562 689.411 L32.9077 689.411 L32.9077 699.055 L64.0042 699.055 L64.0042 704.943 L32.9077 704.943 L32.9077 710.545 L28.3562 710.545 L28.3562 704.943 L25.8736 704.943 Q19.9216 704.943 17.2162 702.174 Q14.479 699.405 14.479 693.389 L14.479 687.851 Z\" fill=\"#000000\" fill-rule=\"nonzero\" fill-opacity=\"1\" /><path clip-path=\"url(#clip040)\" d=\"M46.0847 646.028 Q46.0847 653.126 47.7079 655.863 Q49.3312 658.601 53.2461 658.601 Q56.3653 658.601 58.2114 656.564 Q60.0256 654.495 60.0256 650.962 Q60.0256 646.092 56.5881 643.164 Q53.1188 640.204 47.3897 640.204 L46.0847 640.204 L46.0847 646.028 M43.6657 634.347 L64.0042 634.347 L64.0042 640.204 L58.5933 640.204 Q61.8398 642.209 63.3994 645.201 Q64.9272 648.193 64.9272 652.521 Q64.9272 657.996 61.8716 661.242 Q58.7843 664.457 53.6281 664.457 Q47.6125 664.457 44.5569 660.447 Q41.5014 656.405 41.5014 648.416 L41.5014 640.204 L40.9285 640.204 Q36.8862 640.204 34.6901 642.877 Q32.4621 645.519 32.4621 650.325 Q32.4621 653.381 33.1941 656.277 Q33.9262 659.174 35.3903 661.847 L29.9795 661.847 Q28.7381 658.633 28.1334 655.609 Q27.4968 652.585 27.4968 649.721 Q27.4968 641.986 31.5072 638.167 Q35.5176 634.347 43.6657 634.347 Z\" fill=\"#000000\" fill-rule=\"nonzero\" fill-opacity=\"1\" /><path clip-path=\"url(#clip040)\" d=\"M45.7664 598.827 Q39.4007 598.827 35.8996 601.468 Q32.3984 604.078 32.3984 608.821 Q32.3984 613.531 35.8996 616.173 Q39.4007 618.783 45.7664 618.783 Q52.1003 618.783 55.6014 616.173 Q59.1026 613.531 59.1026 608.821 Q59.1026 604.078 55.6014 601.468 Q52.1003 598.827 45.7664 598.827 M59.58 592.97 Q68.683 592.97 73.1071 597.012 Q77.5631 601.055 77.5631 609.394 Q77.5631 612.481 77.0857 615.218 Q76.6401 617.956 75.6852 620.534 L69.9879 620.534 Q71.3884 617.956 72.0568 615.441 Q72.7252 612.927 72.7252 610.317 Q72.7252 604.556 69.7015 601.691 Q66.7096 598.827 60.6303 598.827 L57.7339 598.827 Q60.885 600.641 62.4446 603.474 Q64.0042 606.306 64.0042 610.253 Q64.0042 616.81 59.0071 620.82 Q54.01 624.831 45.7664 624.831 Q37.491 624.831 32.4939 620.82 Q27.4968 616.81 27.4968 610.253 Q27.4968 606.306 29.0564 603.474 Q30.616 600.641 33.7671 598.827 L28.3562 598.827 L28.3562 592.97 L59.58 592.97 Z\" fill=\"#000000\" fill-rule=\"nonzero\" fill-opacity=\"1\" /><path clip-path=\"url(#clip040)\" d=\"M44.7161 550.416 L47.5806 550.416 L47.5806 577.342 Q53.6281 576.961 56.8109 573.714 Q59.9619 570.436 59.9619 564.611 Q59.9619 561.237 59.1344 558.086 Q58.3069 554.903 56.6518 551.784 L62.1899 551.784 Q63.5267 554.935 64.227 558.245 Q64.9272 561.555 64.9272 564.961 Q64.9272 573.491 59.9619 578.488 Q54.9967 583.454 46.5303 583.454 Q37.7774 583.454 32.6531 578.743 Q27.4968 574 27.4968 565.98 Q27.4968 558.786 32.1438 554.617 Q36.7589 550.416 44.7161 550.416 M42.9973 556.272 Q38.1912 556.336 35.3266 558.977 Q32.4621 561.587 32.4621 565.916 Q32.4621 570.818 35.2312 573.778 Q38.0002 576.706 43.0292 577.151 L42.9973 556.272 Z\" fill=\"#000000\" fill-rule=\"nonzero\" fill-opacity=\"1\" /><path clip-path=\"url(#clip040)\" d=\"M42.4881 511.171 L64.0042 511.171 L64.0042 517.027 L42.679 517.027 Q37.6183 517.027 35.1038 519.001 Q32.5894 520.974 32.5894 524.921 Q32.5894 529.663 35.6131 532.401 Q38.6368 535.138 43.8567 535.138 L64.0042 535.138 L64.0042 541.026 L28.3562 541.026 L28.3562 535.138 L33.8944 535.138 Q30.6797 533.037 29.0883 530.204 Q27.4968 527.34 27.4968 523.616 Q27.4968 517.473 31.3163 514.322 Q35.1038 511.171 42.4881 511.171 Z\" fill=\"#000000\" fill-rule=\"nonzero\" fill-opacity=\"1\" /><path clip-path=\"url(#clip040)\" d=\"M18.2347 493.697 L28.3562 493.697 L28.3562 481.634 L32.9077 481.634 L32.9077 493.697 L52.2594 493.697 Q56.6199 493.697 57.8613 492.519 Q59.1026 491.31 59.1026 487.65 L59.1026 481.634 L64.0042 481.634 L64.0042 487.65 Q64.0042 494.429 61.4897 497.007 Q58.9434 499.585 52.2594 499.585 L32.9077 499.585 L32.9077 503.882 L28.3562 503.882 L28.3562 499.585 L18.2347 499.585 L18.2347 493.697 Z\" fill=\"#000000\" fill-rule=\"nonzero\" fill-opacity=\"1\" /><path clip-path=\"url(#clip040)\" d=\"M29.4065 451.206 L34.9447 451.206 Q33.6716 453.689 33.035 456.362 Q32.3984 459.036 32.3984 461.9 Q32.3984 466.261 33.7352 468.457 Q35.072 470.621 37.7456 470.621 Q39.7826 470.621 40.9603 469.062 Q42.1061 467.502 43.1565 462.792 L43.6021 460.786 Q44.9389 454.548 47.3897 451.938 Q49.8086 449.296 54.1691 449.296 Q59.1344 449.296 62.0308 453.243 Q64.9272 457.158 64.9272 464.033 Q64.9272 466.897 64.3543 470.017 Q63.8132 473.104 62.6992 476.541 L56.6518 476.541 Q58.3387 473.295 59.198 470.144 Q60.0256 466.993 60.0256 463.906 Q60.0256 459.768 58.6251 457.54 Q57.1929 455.312 54.6147 455.312 Q52.2276 455.312 50.9545 456.935 Q49.6813 458.527 48.5037 463.969 L48.0262 466.006 Q46.8804 471.449 44.5251 473.868 Q42.138 476.287 38.0002 476.287 Q32.9713 476.287 30.2341 472.722 Q27.4968 469.157 27.4968 462.601 Q27.4968 459.354 27.9743 456.49 Q28.4517 453.625 29.4065 451.206 Z\" fill=\"#000000\" fill-rule=\"nonzero\" fill-opacity=\"1\" /><polyline clip-path=\"url(#clip042)\" style=\"stroke:#009af9; stroke-linecap:round; stroke-linejoin:round; stroke-width:4; stroke-opacity:1; fill:none\" points=\"294.087,1280.39 304.08,657.329 314.074,534.014 324.067,404.209 334.061,280.894 344.054,228.971 354.048,248.442 364.041,222.481 374.035,215.991 384.029,164.069 394.022,157.579 404.016,157.579 414.009,138.108 424.003,125.127 433.996,125.127 443.99,125.127 453.983,112.147 463.977,105.656 473.97,105.656 483.964,112.147 493.957,99.1662 503.951,99.1662 513.945,86.1857 523.938,86.1857 533.932,86.1857 543.925,86.1857 553.919,86.1857 563.912,86.1857 573.906,86.1857 583.899,86.1857 593.893,86.1857 603.886,86.1857 613.88,86.1857 623.874,86.1857 633.867,86.1857 643.861,86.1857 653.854,86.1857 663.848,86.1857 673.841,86.1857 683.835,86.1857 693.828,86.1857 703.822,86.1857 713.815,86.1857 723.809,86.1857 733.802,86.1857 743.796,86.1857 753.79,86.1857 763.783,86.1857 773.777,86.1857 783.77,86.1857 793.764,86.1857 803.757,86.1857 813.751,86.1857 823.744,86.1857 833.738,86.1857 843.731,86.1857 853.725,86.1857 863.718,86.1857 873.712,86.1857 883.706,86.1857 893.699,86.1857 903.693,86.1857 913.686,86.1857 923.68,86.1857 933.673,86.1857 943.667,86.1857 953.66,86.1857 963.654,86.1857 973.647,86.1857 983.641,86.1857 993.634,86.1857 1003.63,86.1857 1013.62,86.1857 1023.62,86.1857 1033.61,86.1857 1043.6,86.1857 1053.6,86.1857 1063.59,86.1857 1073.58,86.1857 1083.58,86.1857 1093.57,86.1857 1103.56,86.1857 1113.56,86.1857 1123.55,86.1857 1133.54,86.1857 1143.54,86.1857 1153.53,86.1857 1163.52,86.1857 1173.52,86.1857 1183.51,86.1857 1193.51,86.1857 1203.5,86.1857 1213.49,86.1857 1223.49,86.1857 1233.48,86.1857 1243.47,86.1857 1253.47,86.1857 1263.46,86.1857 1273.45,86.1857 1283.45,86.1857 1293.44,86.1857 1303.43,86.1857 1313.43,86.1857 1323.42,86.1857 1333.41,86.1857 1343.41,86.1857 1353.4,86.1857 1363.4,86.1857 1373.39,86.1857 1383.38,86.1857 1393.38,86.1857 1403.37,86.1857 1413.36,86.1857 1423.36,86.1857 1433.35,86.1857 1443.34,86.1857 1453.34,86.1857 1463.33,86.1857 1473.32,86.1857 1483.32,86.1857 1493.31,86.1857 1503.31,86.1857 1513.3,86.1857 1523.29,86.1857 1533.29,86.1857 1543.28,86.1857 1553.27,86.1857 1563.27,86.1857 1573.26,86.1857 1583.25,86.1857 1593.25,86.1857 1603.24,86.1857 1613.23,86.1857 1623.23,86.1857 1633.22,86.1857 1643.21,86.1857 1653.21,86.1857 1663.2,86.1857 1673.2,86.1857 1683.19,86.1857 1693.18,86.1857 1703.18,86.1857 1713.17,86.1857 1723.16,86.1857 1733.16,86.1857 1743.15,86.1857 1753.14,86.1857 1763.14,86.1857 1773.13,86.1857 1783.12,86.1857 1793.12,86.1857 1803.11,86.1857 1813.1,86.1857 1823.1,86.1857 1833.09,86.1857 1843.09,86.1857 1853.08,86.1857 1863.07,86.1857 1873.07,86.1857 1883.06,86.1857 1893.05,86.1857 1903.05,86.1857 1913.04,86.1857 1923.03,86.1857 1933.03,86.1857 1943.02,86.1857 1953.01,86.1857 1963.01,86.1857 1973,86.1857 1982.99,86.1857 1992.99,86.1857 2002.98,86.1857 2012.98,86.1857 2022.97,86.1857 2032.96,86.1857 2042.96,86.1857 2052.95,86.1857 2062.94,86.1857 2072.94,86.1857 2082.93,86.1857 2092.92,86.1857 2102.92,86.1857 2112.91,86.1857 2122.9,86.1857 2132.9,86.1857 2142.89,86.1857 2152.89,86.1857 2162.88,86.1857 2172.87,86.1857 2182.87,86.1857 2192.86,86.1857 2202.85,86.1857 2212.85,86.1857 2222.84,86.1857 2232.83,86.1857 2242.83,86.1857 2252.82,86.1857 2262.81,86.1857 2272.81,86.1857 2282.8,86.1857 2292.79,86.1857 \"/>\n",
       "<polyline clip-path=\"url(#clip042)\" style=\"stroke:#e26f46; stroke-linecap:round; stroke-linejoin:round; stroke-width:4; stroke-opacity:1; fill:none\" points=\"294.087,190.03 304.08,813.095 314.074,936.41 324.067,1066.22 334.061,1189.53 344.054,1241.45 354.048,1221.98 364.041,1247.94 374.035,1254.43 384.029,1306.36 394.022,1312.85 404.016,1312.85 414.009,1332.32 424.003,1345.3 433.996,1345.3 443.99,1345.3 453.983,1358.28 463.977,1364.77 473.97,1364.77 483.964,1358.28 493.957,1371.26 503.951,1371.26 513.945,1384.24 523.938,1384.24 533.932,1384.24 543.925,1384.24 553.919,1384.24 563.912,1384.24 573.906,1384.24 583.899,1384.24 593.893,1384.24 603.886,1384.24 613.88,1384.24 623.874,1384.24 633.867,1384.24 643.861,1384.24 653.854,1384.24 663.848,1384.24 673.841,1384.24 683.835,1384.24 693.828,1384.24 703.822,1384.24 713.815,1384.24 723.809,1384.24 733.802,1384.24 743.796,1384.24 753.79,1384.24 763.783,1384.24 773.777,1384.24 783.77,1384.24 793.764,1384.24 803.757,1384.24 813.751,1384.24 823.744,1384.24 833.738,1384.24 843.731,1384.24 853.725,1384.24 863.718,1384.24 873.712,1384.24 883.706,1384.24 893.699,1384.24 903.693,1384.24 913.686,1384.24 923.68,1384.24 933.673,1384.24 943.667,1384.24 953.66,1384.24 963.654,1384.24 973.647,1384.24 983.641,1384.24 993.634,1384.24 1003.63,1384.24 1013.62,1384.24 1023.62,1384.24 1033.61,1384.24 1043.6,1384.24 1053.6,1384.24 1063.59,1384.24 1073.58,1384.24 1083.58,1384.24 1093.57,1384.24 1103.56,1384.24 1113.56,1384.24 1123.55,1384.24 1133.54,1384.24 1143.54,1384.24 1153.53,1384.24 1163.52,1384.24 1173.52,1384.24 1183.51,1384.24 1193.51,1384.24 1203.5,1384.24 1213.49,1384.24 1223.49,1384.24 1233.48,1384.24 1243.47,1384.24 1253.47,1384.24 1263.46,1384.24 1273.45,1384.24 1283.45,1384.24 1293.44,1384.24 1303.43,1384.24 1313.43,1384.24 1323.42,1384.24 1333.41,1384.24 1343.41,1384.24 1353.4,1384.24 1363.4,1384.24 1373.39,1384.24 1383.38,1384.24 1393.38,1384.24 1403.37,1384.24 1413.36,1384.24 1423.36,1384.24 1433.35,1384.24 1443.34,1384.24 1453.34,1384.24 1463.33,1384.24 1473.32,1384.24 1483.32,1384.24 1493.31,1384.24 1503.31,1384.24 1513.3,1384.24 1523.29,1384.24 1533.29,1384.24 1543.28,1384.24 1553.27,1384.24 1563.27,1384.24 1573.26,1384.24 1583.25,1384.24 1593.25,1384.24 1603.24,1384.24 1613.23,1384.24 1623.23,1384.24 1633.22,1384.24 1643.21,1384.24 1653.21,1384.24 1663.2,1384.24 1673.2,1384.24 1683.19,1384.24 1693.18,1384.24 1703.18,1384.24 1713.17,1384.24 1723.16,1384.24 1733.16,1384.24 1743.15,1384.24 1753.14,1384.24 1763.14,1384.24 1773.13,1384.24 1783.12,1384.24 1793.12,1384.24 1803.11,1384.24 1813.1,1384.24 1823.1,1384.24 1833.09,1384.24 1843.09,1384.24 1853.08,1384.24 1863.07,1384.24 1873.07,1384.24 1883.06,1384.24 1893.05,1384.24 1903.05,1384.24 1913.04,1384.24 1923.03,1384.24 1933.03,1384.24 1943.02,1384.24 1953.01,1384.24 1963.01,1384.24 1973,1384.24 1982.99,1384.24 1992.99,1384.24 2002.98,1384.24 2012.98,1384.24 2022.97,1384.24 2032.96,1384.24 2042.96,1384.24 2052.95,1384.24 2062.94,1384.24 2072.94,1384.24 2082.93,1384.24 2092.92,1384.24 2102.92,1384.24 2112.91,1384.24 2122.9,1384.24 2132.9,1384.24 2142.89,1384.24 2152.89,1384.24 2162.88,1384.24 2172.87,1384.24 2182.87,1384.24 2192.86,1384.24 2202.85,1384.24 2212.85,1384.24 2222.84,1384.24 2232.83,1384.24 2242.83,1384.24 2252.82,1384.24 2262.81,1384.24 2272.81,1384.24 2282.8,1384.24 2292.79,1384.24 \"/>\n",
       "<path clip-path=\"url(#clip040)\" d=\"M1928.65 248.629 L2282.13 248.629 L2282.13 93.1086 L1928.65 93.1086  Z\" fill=\"#ffffff\" fill-rule=\"evenodd\" fill-opacity=\"1\"/>\n",
       "<polyline clip-path=\"url(#clip040)\" style=\"stroke:#000000; stroke-linecap:round; stroke-linejoin:round; stroke-width:4; stroke-opacity:1; fill:none\" points=\"1928.65,248.629 2282.13,248.629 2282.13,93.1086 1928.65,93.1086 1928.65,248.629 \"/>\n",
       "<polyline clip-path=\"url(#clip040)\" style=\"stroke:#009af9; stroke-linecap:round; stroke-linejoin:round; stroke-width:4; stroke-opacity:1; fill:none\" points=\"1952.19,144.949 2093.43,144.949 \"/>\n",
       "<path clip-path=\"url(#clip040)\" d=\"M2138.69 146.581 L2138.69 162.229 L2134.43 162.229 L2134.43 146.719 Q2134.43 143.039 2132.99 141.21 Q2131.56 139.382 2128.69 139.382 Q2125.24 139.382 2123.25 141.581 Q2121.26 143.78 2121.26 147.576 L2121.26 162.229 L2116.97 162.229 L2116.97 126.21 L2121.26 126.21 L2121.26 140.331 Q2122.79 137.993 2124.85 136.835 Q2126.93 135.678 2129.64 135.678 Q2134.1 135.678 2136.4 138.456 Q2138.69 141.21 2138.69 146.581 Z\" fill=\"#000000\" fill-rule=\"nonzero\" fill-opacity=\"1\" /><path clip-path=\"url(#clip040)\" d=\"M2158.97 149.196 Q2153.8 149.196 2151.81 150.377 Q2149.82 151.557 2149.82 154.405 Q2149.82 156.673 2151.3 158.016 Q2152.81 159.335 2155.38 159.335 Q2158.92 159.335 2161.05 156.835 Q2163.2 154.312 2163.2 150.145 L2163.2 149.196 L2158.97 149.196 M2167.46 147.437 L2167.46 162.229 L2163.2 162.229 L2163.2 158.293 Q2161.74 160.655 2159.57 161.789 Q2157.39 162.9 2154.24 162.9 Q2150.26 162.9 2147.9 160.678 Q2145.56 158.432 2145.56 154.682 Q2145.56 150.307 2148.48 148.085 Q2151.42 145.863 2157.23 145.863 L2163.2 145.863 L2163.2 145.446 Q2163.2 142.507 2161.26 140.909 Q2159.34 139.289 2155.84 139.289 Q2153.62 139.289 2151.51 139.821 Q2149.41 140.354 2147.46 141.419 L2147.46 137.483 Q2149.8 136.581 2152 136.141 Q2154.2 135.678 2156.28 135.678 Q2161.91 135.678 2164.68 138.594 Q2167.46 141.511 2167.46 147.437 Z\" fill=\"#000000\" fill-rule=\"nonzero\" fill-opacity=\"1\" /><path clip-path=\"url(#clip040)\" d=\"M2180.35 158.34 L2180.35 172.09 L2176.07 172.09 L2176.07 136.303 L2180.35 136.303 L2180.35 140.238 Q2181.7 137.923 2183.73 136.812 Q2185.79 135.678 2188.64 135.678 Q2193.36 135.678 2196.3 139.428 Q2199.27 143.178 2199.27 149.289 Q2199.27 155.4 2196.3 159.15 Q2193.36 162.9 2188.64 162.9 Q2185.79 162.9 2183.73 161.789 Q2181.7 160.655 2180.35 158.34 M2194.84 149.289 Q2194.84 144.59 2192.9 141.928 Q2190.98 139.243 2187.6 139.243 Q2184.22 139.243 2182.28 141.928 Q2180.35 144.59 2180.35 149.289 Q2180.35 153.988 2182.28 156.673 Q2184.22 159.335 2187.6 159.335 Q2190.98 159.335 2192.9 156.673 Q2194.84 153.988 2194.84 149.289 Z\" fill=\"#000000\" fill-rule=\"nonzero\" fill-opacity=\"1\" /><path clip-path=\"url(#clip040)\" d=\"M2210.45 158.34 L2210.45 172.09 L2206.16 172.09 L2206.16 136.303 L2210.45 136.303 L2210.45 140.238 Q2211.79 137.923 2213.83 136.812 Q2215.89 135.678 2218.73 135.678 Q2223.46 135.678 2226.4 139.428 Q2229.36 143.178 2229.36 149.289 Q2229.36 155.4 2226.4 159.15 Q2223.46 162.9 2218.73 162.9 Q2215.89 162.9 2213.83 161.789 Q2211.79 160.655 2210.45 158.34 M2224.94 149.289 Q2224.94 144.59 2222.99 141.928 Q2221.07 139.243 2217.69 139.243 Q2214.31 139.243 2212.37 141.928 Q2210.45 144.59 2210.45 149.289 Q2210.45 153.988 2212.37 156.673 Q2214.31 159.335 2217.69 159.335 Q2221.07 159.335 2222.99 156.673 Q2224.94 153.988 2224.94 149.289 Z\" fill=\"#000000\" fill-rule=\"nonzero\" fill-opacity=\"1\" /><path clip-path=\"url(#clip040)\" d=\"M2247.21 164.636 Q2245.4 169.266 2243.69 170.678 Q2241.97 172.09 2239.1 172.09 L2235.7 172.09 L2235.7 168.525 L2238.2 168.525 Q2239.96 168.525 2240.93 167.692 Q2241.9 166.858 2243.09 163.756 L2243.85 161.812 L2233.36 136.303 L2237.88 136.303 L2245.98 156.581 L2254.08 136.303 L2258.59 136.303 L2247.21 164.636 Z\" fill=\"#000000\" fill-rule=\"nonzero\" fill-opacity=\"1\" /><polyline clip-path=\"url(#clip040)\" style=\"stroke:#e26f46; stroke-linecap:round; stroke-linejoin:round; stroke-width:4; stroke-opacity:1; fill:none\" points=\"1952.19,196.789 2093.43,196.789 \"/>\n",
       "<path clip-path=\"url(#clip040)\" d=\"M2135.4 188.907 L2135.4 192.934 Q2133.6 192.009 2131.65 191.546 Q2129.71 191.083 2127.62 191.083 Q2124.45 191.083 2122.85 192.055 Q2121.28 193.027 2121.28 194.971 Q2121.28 196.453 2122.41 197.309 Q2123.55 198.143 2126.97 198.907 L2128.43 199.231 Q2132.97 200.203 2134.87 201.985 Q2136.79 203.745 2136.79 206.916 Q2136.79 210.527 2133.92 212.633 Q2131.07 214.74 2126.07 214.74 Q2123.99 214.74 2121.72 214.323 Q2119.47 213.93 2116.97 213.12 L2116.97 208.721 Q2119.34 209.948 2121.63 210.573 Q2123.92 211.175 2126.16 211.175 Q2129.17 211.175 2130.79 210.157 Q2132.41 209.115 2132.41 207.24 Q2132.41 205.504 2131.23 204.578 Q2130.08 203.652 2126.12 202.796 L2124.64 202.448 Q2120.68 201.615 2118.92 199.902 Q2117.16 198.166 2117.16 195.157 Q2117.16 191.499 2119.75 189.509 Q2122.35 187.518 2127.11 187.518 Q2129.47 187.518 2131.56 187.865 Q2133.64 188.212 2135.4 188.907 Z\" fill=\"#000000\" fill-rule=\"nonzero\" fill-opacity=\"1\" /><path clip-path=\"url(#clip040)\" d=\"M2155.35 201.036 Q2150.19 201.036 2148.2 202.217 Q2146.21 203.397 2146.21 206.245 Q2146.21 208.513 2147.69 209.856 Q2149.2 211.175 2151.77 211.175 Q2155.31 211.175 2157.44 208.675 Q2159.59 206.152 2159.59 201.985 L2159.59 201.036 L2155.35 201.036 M2163.85 199.277 L2163.85 214.069 L2159.59 214.069 L2159.59 210.133 Q2158.13 212.495 2155.96 213.629 Q2153.78 214.74 2150.63 214.74 Q2146.65 214.74 2144.29 212.518 Q2141.95 210.272 2141.95 206.522 Q2141.95 202.147 2144.87 199.925 Q2147.81 197.703 2153.62 197.703 L2159.59 197.703 L2159.59 197.286 Q2159.59 194.347 2157.65 192.749 Q2155.72 191.129 2152.23 191.129 Q2150.01 191.129 2147.9 191.661 Q2145.79 192.194 2143.85 193.259 L2143.85 189.323 Q2146.19 188.421 2148.39 187.981 Q2150.59 187.518 2152.67 187.518 Q2158.29 187.518 2161.07 190.434 Q2163.85 193.351 2163.85 199.277 Z\" fill=\"#000000\" fill-rule=\"nonzero\" fill-opacity=\"1\" /><path clip-path=\"url(#clip040)\" d=\"M2189.68 192.078 L2189.68 178.05 L2193.94 178.05 L2193.94 214.069 L2189.68 214.069 L2189.68 210.18 Q2188.34 212.495 2186.28 213.629 Q2184.24 214.74 2181.37 214.74 Q2176.67 214.74 2173.71 210.99 Q2170.77 207.24 2170.77 201.129 Q2170.77 195.018 2173.71 191.268 Q2176.67 187.518 2181.37 187.518 Q2184.24 187.518 2186.28 188.652 Q2188.34 189.763 2189.68 192.078 M2175.17 201.129 Q2175.17 205.828 2177.09 208.513 Q2179.03 211.175 2182.41 211.175 Q2185.79 211.175 2187.74 208.513 Q2189.68 205.828 2189.68 201.129 Q2189.68 196.43 2187.74 193.768 Q2185.79 191.083 2182.41 191.083 Q2179.03 191.083 2177.09 193.768 Q2175.17 196.43 2175.17 201.129 Z\" fill=\"#000000\" fill-rule=\"nonzero\" fill-opacity=\"1\" /></svg>\n"
      ],
      "text/html": [
       "<img src=\"data:image/png;base64,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\" />"
      ]
     },
     "metadata": {},
     "output_type": "display_data"
    },
    {
     "data": {
      "text/html": [
       "<div><div style = \"float: left;\"><span>201×2 DataFrame</span></div><div style = \"float: right;\"><span style = \"font-style: italic;\">176 rows omitted</span></div><div style = \"clear: both;\"></div></div><div class = \"data-frame\" style = \"overflow-x: scroll;\"><table class = \"data-frame\" style = \"margin-bottom: 6px;\"><thead><tr class = \"header\"><th class = \"rowNumber\" style = \"font-weight: bold; text-align: right;\">Row</th><th style = \"text-align: left;\">happy</th><th style = \"text-align: left;\">sad</th></tr><tr class = \"subheader headerLastRow\"><th class = \"rowNumber\" style = \"font-weight: bold; text-align: right;\"></th><th title = \"Int64\" style = \"text-align: left;\">Int64</th><th title = \"Int64\" style = \"text-align: left;\">Int64</th></tr></thead><tbody><tr><td class = \"rowNumber\" style = \"font-weight: bold; text-align: right;\">1</td><td style = \"text-align: right;\">16</td><td style = \"text-align: right;\">184</td></tr><tr><td class = \"rowNumber\" style = \"font-weight: bold; text-align: right;\">2</td><td style = \"text-align: right;\">112</td><td style = \"text-align: right;\">88</td></tr><tr><td class = \"rowNumber\" style = \"font-weight: bold; text-align: right;\">3</td><td style = \"text-align: right;\">131</td><td style = \"text-align: right;\">69</td></tr><tr><td class = \"rowNumber\" style = \"font-weight: bold; text-align: right;\">4</td><td style = \"text-align: right;\">151</td><td style = \"text-align: right;\">49</td></tr><tr><td class = \"rowNumber\" style = \"font-weight: bold; text-align: right;\">5</td><td style = \"text-align: right;\">170</td><td style = \"text-align: right;\">30</td></tr><tr><td class = \"rowNumber\" style = \"font-weight: bold; text-align: right;\">6</td><td style = \"text-align: right;\">178</td><td style = \"text-align: right;\">22</td></tr><tr><td class = \"rowNumber\" style = \"font-weight: bold; text-align: right;\">7</td><td style = \"text-align: right;\">175</td><td style = \"text-align: right;\">25</td></tr><tr><td class = \"rowNumber\" style = \"font-weight: bold; text-align: right;\">8</td><td style = \"text-align: right;\">179</td><td style = \"text-align: right;\">21</td></tr><tr><td class = \"rowNumber\" style = \"font-weight: bold; text-align: right;\">9</td><td style = \"text-align: right;\">180</td><td style = \"text-align: right;\">20</td></tr><tr><td class = \"rowNumber\" style = \"font-weight: bold; text-align: right;\">10</td><td style = \"text-align: right;\">188</td><td style = \"text-align: right;\">12</td></tr><tr><td class = \"rowNumber\" style = \"font-weight: bold; text-align: right;\">11</td><td style = \"text-align: right;\">189</td><td style = \"text-align: right;\">11</td></tr><tr><td class = \"rowNumber\" style = \"font-weight: bold; text-align: right;\">12</td><td style = \"text-align: right;\">189</td><td style = \"text-align: right;\">11</td></tr><tr><td class = \"rowNumber\" style = \"font-weight: bold; text-align: right;\">13</td><td style = \"text-align: right;\">192</td><td style = \"text-align: right;\">8</td></tr><tr><td style = \"text-align: right;\">&vellip;</td><td style = \"text-align: right;\">&vellip;</td><td style = \"text-align: right;\">&vellip;</td></tr><tr><td class = \"rowNumber\" style = \"font-weight: bold; text-align: right;\">190</td><td style = \"text-align: right;\">200</td><td style = \"text-align: right;\">0</td></tr><tr><td class = \"rowNumber\" style = \"font-weight: bold; text-align: right;\">191</td><td style = \"text-align: right;\">200</td><td style = \"text-align: right;\">0</td></tr><tr><td class = \"rowNumber\" style = \"font-weight: bold; text-align: right;\">192</td><td style = \"text-align: right;\">200</td><td style = \"text-align: right;\">0</td></tr><tr><td class = \"rowNumber\" style = \"font-weight: bold; text-align: right;\">193</td><td style = \"text-align: right;\">200</td><td style = \"text-align: right;\">0</td></tr><tr><td class = \"rowNumber\" style = \"font-weight: bold; text-align: right;\">194</td><td style = \"text-align: right;\">200</td><td style = \"text-align: right;\">0</td></tr><tr><td class = \"rowNumber\" style = \"font-weight: bold; text-align: right;\">195</td><td style = \"text-align: right;\">200</td><td style = \"text-align: right;\">0</td></tr><tr><td class = \"rowNumber\" style = \"font-weight: bold; text-align: right;\">196</td><td style = \"text-align: right;\">200</td><td style = \"text-align: right;\">0</td></tr><tr><td class = \"rowNumber\" style = \"font-weight: bold; text-align: right;\">197</td><td style = \"text-align: right;\">200</td><td style = \"text-align: right;\">0</td></tr><tr><td class = \"rowNumber\" style = \"font-weight: bold; text-align: right;\">198</td><td style = \"text-align: right;\">200</td><td style = \"text-align: right;\">0</td></tr><tr><td class = \"rowNumber\" style = \"font-weight: bold; text-align: right;\">199</td><td style = \"text-align: right;\">200</td><td style = \"text-align: right;\">0</td></tr><tr><td class = \"rowNumber\" style = \"font-weight: bold; text-align: right;\">200</td><td style = \"text-align: right;\">200</td><td style = \"text-align: right;\">0</td></tr><tr><td class = \"rowNumber\" style = \"font-weight: bold; text-align: right;\">201</td><td style = \"text-align: right;\">200</td><td style = \"text-align: right;\">0</td></tr></tbody></table></div>"
      ],
      "text/latex": [
       "\\begin{tabular}{r|cc}\n",
       "\t& happy & sad\\\\\n",
       "\t\\hline\n",
       "\t& Int64 & Int64\\\\\n",
       "\t\\hline\n",
       "\t1 & 16 & 184 \\\\\n",
       "\t2 & 112 & 88 \\\\\n",
       "\t3 & 131 & 69 \\\\\n",
       "\t4 & 151 & 49 \\\\\n",
       "\t5 & 170 & 30 \\\\\n",
       "\t6 & 178 & 22 \\\\\n",
       "\t7 & 175 & 25 \\\\\n",
       "\t8 & 179 & 21 \\\\\n",
       "\t9 & 180 & 20 \\\\\n",
       "\t10 & 188 & 12 \\\\\n",
       "\t11 & 189 & 11 \\\\\n",
       "\t12 & 189 & 11 \\\\\n",
       "\t13 & 192 & 8 \\\\\n",
       "\t14 & 194 & 6 \\\\\n",
       "\t15 & 194 & 6 \\\\\n",
       "\t16 & 194 & 6 \\\\\n",
       "\t17 & 196 & 4 \\\\\n",
       "\t18 & 197 & 3 \\\\\n",
       "\t19 & 197 & 3 \\\\\n",
       "\t20 & 196 & 4 \\\\\n",
       "\t21 & 198 & 2 \\\\\n",
       "\t22 & 198 & 2 \\\\\n",
       "\t23 & 200 & 0 \\\\\n",
       "\t24 & 200 & 0 \\\\\n",
       "\t25 & 200 & 0 \\\\\n",
       "\t26 & 200 & 0 \\\\\n",
       "\t27 & 200 & 0 \\\\\n",
       "\t28 & 200 & 0 \\\\\n",
       "\t29 & 200 & 0 \\\\\n",
       "\t30 & 200 & 0 \\\\\n",
       "\t$\\dots$ & $\\dots$ & $\\dots$ \\\\\n",
       "\\end{tabular}\n"
      ],
      "text/plain": [
       "\u001b[1m201×2 DataFrame\u001b[0m\n",
       "\u001b[1m Row \u001b[0m│\u001b[1m happy \u001b[0m\u001b[1m sad   \u001b[0m\n",
       "     │\u001b[90m Int64 \u001b[0m\u001b[90m Int64 \u001b[0m\n",
       "─────┼──────────────\n",
       "   1 │    16    184\n",
       "   2 │   112     88\n",
       "   3 │   131     69\n",
       "   4 │   151     49\n",
       "   5 │   170     30\n",
       "   6 │   178     22\n",
       "   7 │   175     25\n",
       "   8 │   179     21\n",
       "   9 │   180     20\n",
       "  10 │   188     12\n",
       "  11 │   189     11\n",
       "  ⋮  │   ⋮      ⋮\n",
       " 192 │   200      0\n",
       " 193 │   200      0\n",
       " 194 │   200      0\n",
       " 195 │   200      0\n",
       " 196 │   200      0\n",
       " 197 │   200      0\n",
       " 198 │   200      0\n",
       " 199 │   200      0\n",
       " 200 │   200      0\n",
       " 201 │   200      0\n",
       "\u001b[36m    180 rows omitted\u001b[0m"
      ]
     },
     "execution_count": 10,
     "metadata": {},
     "output_type": "execute_result"
    }
   ],
   "source": [
    "df = get_nums_agents(model, \n",
    "    agent-> agent.mood == happy, \n",
    "    agent-> agent.mood == sad,\n",
    "    labels=[\"happy\",\"sad\"], plot_result=true)"
   ]
  },
  {
   "cell_type": "markdown",
   "metadata": {},
   "source": [
    "Individual agent data recorded during model run can be obtained as "
   ]
  },
  {
   "cell_type": "code",
   "execution_count": 11,
   "metadata": {},
   "outputs": [
    {
     "data": {
      "text/html": [
       "<div><div style = \"float: left;\"><span>201×2 DataFrame</span></div><div style = \"float: right;\"><span style = \"font-style: italic;\">176 rows omitted</span></div><div style = \"clear: both;\"></div></div><div class = \"data-frame\" style = \"overflow-x: scroll;\"><table class = \"data-frame\" style = \"margin-bottom: 6px;\"><thead><tr class = \"header\"><th class = \"rowNumber\" style = \"font-weight: bold; text-align: right;\">Row</th><th style = \"text-align: left;\">mood</th><th style = \"text-align: left;\">pos</th></tr><tr class = \"subheader headerLastRow\"><th class = \"rowNumber\" style = \"font-weight: bold; text-align: right;\"></th><th title = \"agentsfeeling\" style = \"text-align: left;\">agentsfe…</th><th title = \"Vect{3, Int64}\" style = \"text-align: left;\">Vect…</th></tr></thead><tbody><tr><td class = \"rowNumber\" style = \"font-weight: bold; text-align: right;\">1</td><td style = \"text-align: left;\">sad</td><td style = \"text-align: left;\">(4, 2, 6)\\n</td></tr><tr><td class = \"rowNumber\" style = \"font-weight: bold; text-align: right;\">2</td><td style = \"text-align: left;\">sad</td><td style = \"text-align: left;\">(3, 7, 6)\\n</td></tr><tr><td class = \"rowNumber\" style = \"font-weight: bold; text-align: right;\">3</td><td style = \"text-align: left;\">sad</td><td style = \"text-align: left;\">(7, 6, 7)\\n</td></tr><tr><td class = \"rowNumber\" style = \"font-weight: bold; text-align: right;\">4</td><td style = \"text-align: left;\">sad</td><td style = \"text-align: left;\">(6, 2, 1)\\n</td></tr><tr><td class = \"rowNumber\" style = \"font-weight: bold; text-align: right;\">5</td><td style = \"text-align: left;\">happy</td><td style = \"text-align: left;\">(6, 2, 1)\\n</td></tr><tr><td class = \"rowNumber\" style = \"font-weight: bold; text-align: right;\">6</td><td style = \"text-align: left;\">happy</td><td style = \"text-align: left;\">(6, 2, 1)\\n</td></tr><tr><td class = \"rowNumber\" style = \"font-weight: bold; text-align: right;\">7</td><td style = \"text-align: left;\">sad</td><td style = \"text-align: left;\">(4, 6, 1)\\n</td></tr><tr><td class = \"rowNumber\" style = \"font-weight: bold; text-align: right;\">8</td><td style = \"text-align: left;\">sad</td><td style = \"text-align: left;\">(1, 7, 1)\\n</td></tr><tr><td class = \"rowNumber\" style = \"font-weight: bold; text-align: right;\">9</td><td style = \"text-align: left;\">sad</td><td style = \"text-align: left;\">(4, 7, 5)\\n</td></tr><tr><td class = \"rowNumber\" style = \"font-weight: bold; text-align: right;\">10</td><td style = \"text-align: left;\">happy</td><td style = \"text-align: left;\">(4, 7, 5)\\n</td></tr><tr><td class = \"rowNumber\" style = \"font-weight: bold; text-align: right;\">11</td><td style = \"text-align: left;\">happy</td><td style = \"text-align: left;\">(4, 7, 5)\\n</td></tr><tr><td class = \"rowNumber\" style = \"font-weight: bold; text-align: right;\">12</td><td style = \"text-align: left;\">happy</td><td style = \"text-align: left;\">(4, 7, 5)\\n</td></tr><tr><td class = \"rowNumber\" style = \"font-weight: bold; text-align: right;\">13</td><td style = \"text-align: left;\">happy</td><td style = \"text-align: left;\">(4, 7, 5)\\n</td></tr><tr><td style = \"text-align: right;\">&vellip;</td><td style = \"text-align: right;\">&vellip;</td><td style = \"text-align: right;\">&vellip;</td></tr><tr><td class = \"rowNumber\" style = \"font-weight: bold; text-align: right;\">190</td><td style = \"text-align: left;\">happy</td><td style = \"text-align: left;\">(4, 7, 5)\\n</td></tr><tr><td class = \"rowNumber\" style = \"font-weight: bold; text-align: right;\">191</td><td style = \"text-align: left;\">happy</td><td style = \"text-align: left;\">(4, 7, 5)\\n</td></tr><tr><td class = \"rowNumber\" style = \"font-weight: bold; text-align: right;\">192</td><td style = \"text-align: left;\">happy</td><td style = \"text-align: left;\">(4, 7, 5)\\n</td></tr><tr><td class = \"rowNumber\" style = \"font-weight: bold; text-align: right;\">193</td><td style = \"text-align: left;\">happy</td><td style = \"text-align: left;\">(4, 7, 5)\\n</td></tr><tr><td class = \"rowNumber\" style = \"font-weight: bold; text-align: right;\">194</td><td style = \"text-align: left;\">happy</td><td style = \"text-align: left;\">(4, 7, 5)\\n</td></tr><tr><td class = \"rowNumber\" style = \"font-weight: bold; text-align: right;\">195</td><td style = \"text-align: left;\">happy</td><td style = \"text-align: left;\">(4, 7, 5)\\n</td></tr><tr><td class = \"rowNumber\" style = \"font-weight: bold; text-align: right;\">196</td><td style = \"text-align: left;\">happy</td><td style = \"text-align: left;\">(4, 7, 5)\\n</td></tr><tr><td class = \"rowNumber\" style = \"font-weight: bold; text-align: right;\">197</td><td style = \"text-align: left;\">happy</td><td style = \"text-align: left;\">(4, 7, 5)\\n</td></tr><tr><td class = \"rowNumber\" style = \"font-weight: bold; text-align: right;\">198</td><td style = \"text-align: left;\">happy</td><td style = \"text-align: left;\">(4, 7, 5)\\n</td></tr><tr><td class = \"rowNumber\" style = \"font-weight: bold; text-align: right;\">199</td><td style = \"text-align: left;\">happy</td><td style = \"text-align: left;\">(4, 7, 5)\\n</td></tr><tr><td class = \"rowNumber\" style = \"font-weight: bold; text-align: right;\">200</td><td style = \"text-align: left;\">happy</td><td style = \"text-align: left;\">(4, 7, 5)\\n</td></tr><tr><td class = \"rowNumber\" style = \"font-weight: bold; text-align: right;\">201</td><td style = \"text-align: left;\">happy</td><td style = \"text-align: left;\">(4, 7, 5)\\n</td></tr></tbody></table></div>"
      ],
      "text/latex": [
       "\\begin{tabular}{r|cc}\n",
       "\t& mood & pos\\\\\n",
       "\t\\hline\n",
       "\t& agentsfe… & Vect…\\\\\n",
       "\t\\hline\n",
       "\t1 & sad & (4, 2, 6)\\textbackslash{}n \\\\\n",
       "\t2 & sad & (3, 7, 6)\\textbackslash{}n \\\\\n",
       "\t3 & sad & (7, 6, 7)\\textbackslash{}n \\\\\n",
       "\t4 & sad & (6, 2, 1)\\textbackslash{}n \\\\\n",
       "\t5 & happy & (6, 2, 1)\\textbackslash{}n \\\\\n",
       "\t6 & happy & (6, 2, 1)\\textbackslash{}n \\\\\n",
       "\t7 & sad & (4, 6, 1)\\textbackslash{}n \\\\\n",
       "\t8 & sad & (1, 7, 1)\\textbackslash{}n \\\\\n",
       "\t9 & sad & (4, 7, 5)\\textbackslash{}n \\\\\n",
       "\t10 & happy & (4, 7, 5)\\textbackslash{}n \\\\\n",
       "\t11 & happy & (4, 7, 5)\\textbackslash{}n \\\\\n",
       "\t12 & happy & (4, 7, 5)\\textbackslash{}n \\\\\n",
       "\t13 & happy & (4, 7, 5)\\textbackslash{}n \\\\\n",
       "\t14 & happy & (4, 7, 5)\\textbackslash{}n \\\\\n",
       "\t15 & happy & (4, 7, 5)\\textbackslash{}n \\\\\n",
       "\t16 & happy & (4, 7, 5)\\textbackslash{}n \\\\\n",
       "\t17 & happy & (4, 7, 5)\\textbackslash{}n \\\\\n",
       "\t18 & happy & (4, 7, 5)\\textbackslash{}n \\\\\n",
       "\t19 & happy & (4, 7, 5)\\textbackslash{}n \\\\\n",
       "\t20 & happy & (4, 7, 5)\\textbackslash{}n \\\\\n",
       "\t21 & happy & (4, 7, 5)\\textbackslash{}n \\\\\n",
       "\t22 & happy & (4, 7, 5)\\textbackslash{}n \\\\\n",
       "\t23 & happy & (4, 7, 5)\\textbackslash{}n \\\\\n",
       "\t24 & happy & (4, 7, 5)\\textbackslash{}n \\\\\n",
       "\t25 & happy & (4, 7, 5)\\textbackslash{}n \\\\\n",
       "\t26 & happy & (4, 7, 5)\\textbackslash{}n \\\\\n",
       "\t27 & happy & (4, 7, 5)\\textbackslash{}n \\\\\n",
       "\t28 & happy & (4, 7, 5)\\textbackslash{}n \\\\\n",
       "\t29 & happy & (4, 7, 5)\\textbackslash{}n \\\\\n",
       "\t30 & happy & (4, 7, 5)\\textbackslash{}n \\\\\n",
       "\t$\\dots$ & $\\dots$ & $\\dots$ \\\\\n",
       "\\end{tabular}\n"
      ],
      "text/plain": [
       "\u001b[1m201×2 DataFrame\u001b[0m\n",
       "\u001b[1m Row \u001b[0m│\u001b[1m mood      \u001b[0m\u001b[1m pos         \u001b[0m\n",
       "     │\u001b[90m agentsfe… \u001b[0m\u001b[90m Vect…       \u001b[0m\n",
       "─────┼────────────────────────\n",
       "   1 │ sad        (4, 2, 6)\\n\n",
       "   2 │ sad        (3, 7, 6)\\n\n",
       "   3 │ sad        (7, 6, 7)\\n\n",
       "   4 │ sad        (6, 2, 1)\\n\n",
       "   5 │ happy      (6, 2, 1)\\n\n",
       "   6 │ happy      (6, 2, 1)\\n\n",
       "   7 │ sad        (4, 6, 1)\\n\n",
       "   8 │ sad        (1, 7, 1)\\n\n",
       "   9 │ sad        (4, 7, 5)\\n\n",
       "  10 │ happy      (4, 7, 5)\\n\n",
       "  11 │ happy      (4, 7, 5)\\n\n",
       "  ⋮  │     ⋮           ⋮\n",
       " 192 │ happy      (4, 7, 5)\\n\n",
       " 193 │ happy      (4, 7, 5)\\n\n",
       " 194 │ happy      (4, 7, 5)\\n\n",
       " 195 │ happy      (4, 7, 5)\\n\n",
       " 196 │ happy      (4, 7, 5)\\n\n",
       " 197 │ happy      (4, 7, 5)\\n\n",
       " 198 │ happy      (4, 7, 5)\\n\n",
       " 199 │ happy      (4, 7, 5)\\n\n",
       " 200 │ happy      (4, 7, 5)\\n\n",
       " 201 │ happy      (4, 7, 5)\\n\n",
       "\u001b[36m              180 rows omitted\u001b[0m"
      ]
     },
     "execution_count": 11,
     "metadata": {},
     "output_type": "execute_result"
    }
   ],
   "source": [
    "df = get_agent_data(model.agents[1], model).record"
   ]
  },
  {
   "cell_type": "code",
   "execution_count": null,
   "metadata": {},
   "outputs": [],
   "source": []
  }
 ],
 "metadata": {
  "@webio": {
   "lastCommId": "406c365a0c4c4048945ccdf40892c74c",
   "lastKernelId": "e5c0945a-d067-4dbd-aea6-91b59583cc8b"
  },
  "kernelspec": {
   "display_name": "Julia 1.9.2",
   "language": "julia",
   "name": "julia-1.9"
  },
  "language_info": {
   "file_extension": ".jl",
   "mimetype": "application/julia",
   "name": "julia",
   "version": "1.9.2"
  }
 },
 "nbformat": 4,
 "nbformat_minor": 4
}
