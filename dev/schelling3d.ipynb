{
 "cells": [
  {
   "cell_type": "markdown",
   "metadata": {},
   "source": [
    "# Schelling segregation model 3D"
   ]
  },
  {
   "cell_type": "code",
   "execution_count": 1,
   "metadata": {},
   "outputs": [
    {
     "name": "stderr",
     "output_type": "stream",
     "text": [
      "\u001b[32m\u001b[1m  Activating\u001b[22m\u001b[39m project at `~/Documents/EasyABM`\n"
     ]
    },
    {
     "data": {
      "application/vnd.webio.node+json": {
       "children": [],
       "instanceArgs": {
        "namespace": "html",
        "tag": "div"
       },
       "nodeType": "DOM",
       "props": {},
       "type": "node"
      },
      "text/html": [
       "<div style=\"padding: 1em; background-color: #f8d6da; border: 1px solid #f5c6cb; font-weight: bold;\">\n",
       "<p>The WebIO Jupyter extension was not detected. See the\n",
       "<a href=\"https://juliagizmos.github.io/WebIO.jl/latest/providers/ijulia/\" target=\"_blank\">\n",
       "    WebIO Jupyter integration documentation\n",
       "</a>\n",
       "for more information.\n",
       "</div>\n"
      ],
      "text/plain": [
       "WebIO._IJuliaInit()"
      ]
     },
     "metadata": {
      "application/vnd.webio.node+json": {
       "kernelId": "07053bec-0dc5-4727-9fed-894b97799cbc"
      }
     },
     "output_type": "display_data"
    }
   ],
   "source": [
    "using Pkg, Revise\n",
    "Pkg.activate(joinpath(@__DIR__, \"../..\"))\n",
    "using EasyABM"
   ]
  },
  {
   "cell_type": "markdown",
   "metadata": {},
   "source": [
    "## Step 1: Create Agents and Model\n",
    "\n",
    "Lets create 200 agents with properties `pos`, `mood` and `color`. The `keeps_record_of` argument is list of properties that the agent will record during time evolution. The `min_alike` property of the model which specifies the minimum number of alike neighbors for an agent to be happy, is set to be 8. "
   ]
  },
  {
   "cell_type": "code",
   "execution_count": 2,
   "metadata": {},
   "outputs": [],
   "source": [
    "@enum agentsfeeling happy sad"
   ]
  },
  {
   "cell_type": "code",
   "execution_count": 3,
   "metadata": {
    "scrolled": true
   },
   "outputs": [
    {
     "data": {
      "text/plain": [
       "EasyABM SpaceModel3D{Static, Int64, NPeriodic}: In a Static model number of agents is fixed.\n"
      ]
     },
     "execution_count": 3,
     "metadata": {},
     "output_type": "execute_result"
    }
   ],
   "source": [
    "@enum agentsfeeling happy sad\n",
    "agents = grid_3d_agents(200, pos = Vect(1,1,1), \n",
    "    color = cl\"red\", mood = happy, keeps_record_of=Set([:pos, :mood]))\n",
    "model = create_3d_model(agents, agents_type = Static, \n",
    "    space_type = NPeriodic, size = (7,7,7), min_alike = 8)"
   ]
  },
  {
   "cell_type": "markdown",
   "metadata": {},
   "source": [
    "\n",
    "## Step 2: Initialise the model\n",
    "\n",
    "In the second step we initialise the agents by defining `initialiser!` function and then sending it as an argument to `init_model!`. In the `initialiser!` function we randomly set agents color to be either `cl\"red\"` or `cl\"green\"` and set their positions randomly such that there is not more than one agent on each patch. Then we set the `mood` property of each agent to be `happy` or `sad` depending upon the number of alike agents in neighborhood. "
   ]
  },
  {
   "cell_type": "code",
   "execution_count": 4,
   "metadata": {},
   "outputs": [],
   "source": [
    "function initialiser!(model)\n",
    "    for agent in model.agents\n",
    "        agent.color = [cl\"red\", cl\"green\"][rand(1:2)]\n",
    "        x,y,z = random_empty_patch(model) \n",
    "        agent.pos = Vect(x, y, z)     \n",
    "    end    \n",
    "    for agent in model.agents\n",
    "        nbrs = grid_neighbors(agent, model, 1)\n",
    "        num_same = 0\n",
    "        for nbr in nbrs\n",
    "            if nbr.color == agent.color\n",
    "                num_same += 1\n",
    "            end\n",
    "        end\n",
    "        if num_same < model.parameters.min_alike\n",
    "            agent.mood = sad\n",
    "        end\n",
    "    end\n",
    "end\n",
    "init_model!(model, initialiser = initialiser!)"
   ]
  },
  {
   "cell_type": "markdown",
   "metadata": {},
   "source": [
    "\n",
    "## Step 3: Run the model\n",
    "\n",
    "In this step we implement the step logic of the Schellings model in the `step_rule!` function and run the model for 100 steps. "
   ]
  },
  {
   "cell_type": "code",
   "execution_count": 5,
   "metadata": {},
   "outputs": [
    {
     "data": {
      "text/plain": [
       "step_rule! (generic function with 1 method)"
      ]
     },
     "execution_count": 5,
     "metadata": {},
     "output_type": "execute_result"
    }
   ],
   "source": [
    "function step_rule!(model)\n",
    "    min_alike = model.parameters.min_alike\n",
    "    for agent in model.agents\n",
    "        num_alike = 0\n",
    "        for nbr in grid_neighbors(agent, model,1)\n",
    "            if agent.color == nbr.color\n",
    "                num_alike += 1\n",
    "            end\n",
    "        end\n",
    "        if num_alike ≥ min_alike\n",
    "            agent.mood = happy\n",
    "        else\n",
    "            agent.mood = sad\n",
    "            x,y,z = random_empty_patch(model) \n",
    "            agent.pos = Vect(x, y, z)\n",
    "        end\n",
    "    end\n",
    "    return\n",
    "end"
   ]
  },
  {
   "cell_type": "code",
   "execution_count": 6,
   "metadata": {},
   "outputs": [],
   "source": [
    "run_model!(model, steps=100, step_rule = step_rule!)"
   ]
  },
  {
   "cell_type": "markdown",
   "metadata": {},
   "source": [
    "## Step 4: Visualisation"
   ]
  },
  {
   "cell_type": "markdown",
   "metadata": {},
   "source": [
    "The following code will draw the state of the model at frame number 4. "
   ]
  },
  {
   "cell_type": "code",
   "execution_count": 7,
   "metadata": {},
   "outputs": [
    {
     "name": "stderr",
     "output_type": "stream",
     "text": [
      "\u001b[36m\u001b[1m[ \u001b[22m\u001b[39m\u001b[36m\u001b[1mInfo: \u001b[22m\u001b[39mListening on: 127.0.0.1:8700, thread id: 1\n",
      "\u001b[36m\u001b[1m┌ \u001b[22m\u001b[39m\u001b[36m\u001b[1mInfo: \u001b[22m\u001b[39mMeshCat server started. You can open the visualizer by visiting the following URL in your browser:\n",
      "\u001b[36m\u001b[1m└ \u001b[22m\u001b[39mhttp://127.0.0.1:8700\n"
     ]
    },
    {
     "data": {
      "text/html": [
       "    <div style=\"height: 500px; width: 100%; overflow-x: auto; overflow-y: hidden; resize: both\">\n",
       "    <iframe src=\"http://127.0.0.1:8700\" style=\"width: 100%; height: 100%; border: none\"></iframe>\n",
       "    </div>\n"
      ],
      "text/plain": [
       "MeshCat.DisplayedVisualizer(MeshCat.CoreVisualizer(MeshCat.SceneTrees.SceneNode(nothing, nothing, Dict{String, Vector{UInt8}}(), nothing, Dict{String, MeshCat.SceneTrees.SceneNode}(\"meshcat\" => MeshCat.SceneTrees.SceneNode(nothing, UInt8[0x83, 0xa6, 0x6d, 0x61, 0x74, 0x72, 0x69, 0x78, 0xc7, 0x40  …  0x68, 0xa8, 0x2f, 0x6d, 0x65, 0x73, 0x68, 0x63, 0x61, 0x74], Dict{String, Vector{UInt8}}(), nothing, Dict{String, MeshCat.SceneTrees.SceneNode}(\"agents\" => MeshCat.SceneTrees.SceneNode(nothing, nothing, Dict{String, Vector{UInt8}}(), nothing, Dict{String, MeshCat.SceneTrees.SceneNode}(\"1\" => MeshCat.SceneTrees.SceneNode(UInt8[0x83, 0xa6, 0x6f, 0x62, 0x6a, 0x65, 0x63, 0x74, 0x84, 0xaa  …  0x74, 0x2f, 0x61, 0x67, 0x65, 0x6e, 0x74, 0x73, 0x2f, 0x31], UInt8[0x83, 0xa6, 0x6d, 0x61, 0x74, 0x72, 0x69, 0x78, 0xc7, 0x40  …  0x74, 0x2f, 0x61, 0x67, 0x65, 0x6e, 0x74, 0x73, 0x2f, 0x31], Dict{String, Vector{UInt8}}(\"position\" => [0x84, 0xa8, 0x70, 0x72, 0x6f, 0x70, 0x65, 0x72, 0x74, 0x79  …  0x74, 0x2f, 0x61, 0x67, 0x65, 0x6e, 0x74, 0x73, 0x2f, 0x31]), nothing, Dict{String, MeshCat.SceneTrees.SceneNode}()), \"54\" => MeshCat.SceneTrees.SceneNode(UInt8[0x83, 0xa6, 0x6f, 0x62, 0x6a, 0x65, 0x63, 0x74, 0x84, 0xaa  …  0x2f, 0x61, 0x67, 0x65, 0x6e, 0x74, 0x73, 0x2f, 0x35, 0x34], UInt8[0x83, 0xa6, 0x6d, 0x61, 0x74, 0x72, 0x69, 0x78, 0xc7, 0x40  …  0x2f, 0x61, 0x67, 0x65, 0x6e, 0x74, 0x73, 0x2f, 0x35, 0x34], Dict{String, Vector{UInt8}}(\"position\" => [0x84, 0xa8, 0x70, 0x72, 0x6f, 0x70, 0x65, 0x72, 0x74, 0x79  …  0x2f, 0x61, 0x67, 0x65, 0x6e, 0x74, 0x73, 0x2f, 0x35, 0x34]), nothing, Dict{String, MeshCat.SceneTrees.SceneNode}()), \"101\" => MeshCat.SceneTrees.SceneNode(UInt8[0x83, 0xa6, 0x6f, 0x62, 0x6a, 0x65, 0x63, 0x74, 0x84, 0xaa  …  0x61, 0x67, 0x65, 0x6e, 0x74, 0x73, 0x2f, 0x31, 0x30, 0x31], UInt8[0x83, 0xa6, 0x6d, 0x61, 0x74, 0x72, 0x69, 0x78, 0xc7, 0x40  …  0x61, 0x67, 0x65, 0x6e, 0x74, 0x73, 0x2f, 0x31, 0x30, 0x31], Dict{String, Vector{UInt8}}(\"position\" => [0x84, 0xa8, 0x70, 0x72, 0x6f, 0x70, 0x65, 0x72, 0x74, 0x79  …  0x61, 0x67, 0x65, 0x6e, 0x74, 0x73, 0x2f, 0x31, 0x30, 0x31]), nothing, Dict{String, MeshCat.SceneTrees.SceneNode}()), \"41\" => MeshCat.SceneTrees.SceneNode(UInt8[0x83, 0xa6, 0x6f, 0x62, 0x6a, 0x65, 0x63, 0x74, 0x84, 0xaa  …  0x2f, 0x61, 0x67, 0x65, 0x6e, 0x74, 0x73, 0x2f, 0x34, 0x31], UInt8[0x83, 0xa6, 0x6d, 0x61, 0x74, 0x72, 0x69, 0x78, 0xc7, 0x40  …  0x2f, 0x61, 0x67, 0x65, 0x6e, 0x74, 0x73, 0x2f, 0x34, 0x31], Dict{String, Vector{UInt8}}(\"position\" => [0x84, 0xa8, 0x70, 0x72, 0x6f, 0x70, 0x65, 0x72, 0x74, 0x79  …  0x2f, 0x61, 0x67, 0x65, 0x6e, 0x74, 0x73, 0x2f, 0x34, 0x31]), nothing, Dict{String, MeshCat.SceneTrees.SceneNode}()), \"65\" => MeshCat.SceneTrees.SceneNode(UInt8[0x83, 0xa6, 0x6f, 0x62, 0x6a, 0x65, 0x63, 0x74, 0x84, 0xaa  …  0x2f, 0x61, 0x67, 0x65, 0x6e, 0x74, 0x73, 0x2f, 0x36, 0x35], UInt8[0x83, 0xa6, 0x6d, 0x61, 0x74, 0x72, 0x69, 0x78, 0xc7, 0x40  …  0x2f, 0x61, 0x67, 0x65, 0x6e, 0x74, 0x73, 0x2f, 0x36, 0x35], Dict{String, Vector{UInt8}}(\"position\" => [0x84, 0xa8, 0x70, 0x72, 0x6f, 0x70, 0x65, 0x72, 0x74, 0x79  …  0x2f, 0x61, 0x67, 0x65, 0x6e, 0x74, 0x73, 0x2f, 0x36, 0x35]), nothing, Dict{String, MeshCat.SceneTrees.SceneNode}()), \"168\" => MeshCat.SceneTrees.SceneNode(UInt8[0x83, 0xa6, 0x6f, 0x62, 0x6a, 0x65, 0x63, 0x74, 0x84, 0xaa  …  0x61, 0x67, 0x65, 0x6e, 0x74, 0x73, 0x2f, 0x31, 0x36, 0x38], UInt8[0x83, 0xa6, 0x6d, 0x61, 0x74, 0x72, 0x69, 0x78, 0xc7, 0x40  …  0x61, 0x67, 0x65, 0x6e, 0x74, 0x73, 0x2f, 0x31, 0x36, 0x38], Dict{String, Vector{UInt8}}(\"position\" => [0x84, 0xa8, 0x70, 0x72, 0x6f, 0x70, 0x65, 0x72, 0x74, 0x79  …  0x61, 0x67, 0x65, 0x6e, 0x74, 0x73, 0x2f, 0x31, 0x36, 0x38]), nothing, Dict{String, MeshCat.SceneTrees.SceneNode}()), \"159\" => MeshCat.SceneTrees.SceneNode(UInt8[0x83, 0xa6, 0x6f, 0x62, 0x6a, 0x65, 0x63, 0x74, 0x84, 0xaa  …  0x61, 0x67, 0x65, 0x6e, 0x74, 0x73, 0x2f, 0x31, 0x35, 0x39], UInt8[0x83, 0xa6, 0x6d, 0x61, 0x74, 0x72, 0x69, 0x78, 0xc7, 0x40  …  0x61, 0x67, 0x65, 0x6e, 0x74, 0x73, 0x2f, 0x31, 0x35, 0x39], Dict{String, Vector{UInt8}}(\"position\" => [0x84, 0xa8, 0x70, 0x72, 0x6f, 0x70, 0x65, 0x72, 0x74, 0x79  …  0x61, 0x67, 0x65, 0x6e, 0x74, 0x73, 0x2f, 0x31, 0x35, 0x39]), nothing, Dict{String, MeshCat.SceneTrees.SceneNode}()), \"190\" => MeshCat.SceneTrees.SceneNode(UInt8[0x83, 0xa6, 0x6f, 0x62, 0x6a, 0x65, 0x63, 0x74, 0x84, 0xaa  …  0x61, 0x67, 0x65, 0x6e, 0x74, 0x73, 0x2f, 0x31, 0x39, 0x30], UInt8[0x83, 0xa6, 0x6d, 0x61, 0x74, 0x72, 0x69, 0x78, 0xc7, 0x40  …  0x61, 0x67, 0x65, 0x6e, 0x74, 0x73, 0x2f, 0x31, 0x39, 0x30], Dict{String, Vector{UInt8}}(\"position\" => [0x84, 0xa8, 0x70, 0x72, 0x6f, 0x70, 0x65, 0x72, 0x74, 0x79  …  0x61, 0x67, 0x65, 0x6e, 0x74, 0x73, 0x2f, 0x31, 0x39, 0x30]), nothing, Dict{String, MeshCat.SceneTrees.SceneNode}()), \"88\" => MeshCat.SceneTrees.SceneNode(UInt8[0x83, 0xa6, 0x6f, 0x62, 0x6a, 0x65, 0x63, 0x74, 0x84, 0xaa  …  0x2f, 0x61, 0x67, 0x65, 0x6e, 0x74, 0x73, 0x2f, 0x38, 0x38], UInt8[0x83, 0xa6, 0x6d, 0x61, 0x74, 0x72, 0x69, 0x78, 0xc7, 0x40  …  0x2f, 0x61, 0x67, 0x65, 0x6e, 0x74, 0x73, 0x2f, 0x38, 0x38], Dict{String, Vector{UInt8}}(\"position\" => [0x84, 0xa8, 0x70, 0x72, 0x6f, 0x70, 0x65, 0x72, 0x74, 0x79  …  0x2f, 0x61, 0x67, 0x65, 0x6e, 0x74, 0x73, 0x2f, 0x38, 0x38]), nothing, Dict{String, MeshCat.SceneTrees.SceneNode}()), \"26\" => MeshCat.SceneTrees.SceneNode(UInt8[0x83, 0xa6, 0x6f, 0x62, 0x6a, 0x65, 0x63, 0x74, 0x84, 0xaa  …  0x2f, 0x61, 0x67, 0x65, 0x6e, 0x74, 0x73, 0x2f, 0x32, 0x36], UInt8[0x83, 0xa6, 0x6d, 0x61, 0x74, 0x72, 0x69, 0x78, 0xc7, 0x40  …  0x2f, 0x61, 0x67, 0x65, 0x6e, 0x74, 0x73, 0x2f, 0x32, 0x36], Dict{String, Vector{UInt8}}(\"position\" => [0x84, 0xa8, 0x70, 0x72, 0x6f, 0x70, 0x65, 0x72, 0x74, 0x79  …  0x2f, 0x61, 0x67, 0x65, 0x6e, 0x74, 0x73, 0x2f, 0x32, 0x36]), nothing, Dict{String, MeshCat.SceneTrees.SceneNode}())…)), \"bbox_line_segments\" => MeshCat.SceneTrees.SceneNode(nothing, nothing, Dict{String, Vector{UInt8}}(), nothing, Dict{String, MeshCat.SceneTrees.SceneNode}(\"4\" => MeshCat.SceneTrees.SceneNode(UInt8[0x83, 0xa6, 0x6f, 0x62, 0x6a, 0x65, 0x63, 0x74, 0x84, 0xaa  …  0x73, 0x65, 0x67, 0x6d, 0x65, 0x6e, 0x74, 0x73, 0x2f, 0x34], nothing, Dict{String, Vector{UInt8}}(), nothing, Dict{String, MeshCat.SceneTrees.SceneNode}()), \"1\" => MeshCat.SceneTrees.SceneNode(UInt8[0x83, 0xa6, 0x6f, 0x62, 0x6a, 0x65, 0x63, 0x74, 0x84, 0xaa  …  0x73, 0x65, 0x67, 0x6d, 0x65, 0x6e, 0x74, 0x73, 0x2f, 0x31], nothing, Dict{String, Vector{UInt8}}(), nothing, Dict{String, MeshCat.SceneTrees.SceneNode}()), \"12\" => MeshCat.SceneTrees.SceneNode(UInt8[0x83, 0xa6, 0x6f, 0x62, 0x6a, 0x65, 0x63, 0x74, 0x84, 0xaa  …  0x65, 0x67, 0x6d, 0x65, 0x6e, 0x74, 0x73, 0x2f, 0x31, 0x32], nothing, Dict{String, Vector{UInt8}}(), nothing, Dict{String, MeshCat.SceneTrees.SceneNode}()), \"2\" => MeshCat.SceneTrees.SceneNode(UInt8[0x83, 0xa6, 0x6f, 0x62, 0x6a, 0x65, 0x63, 0x74, 0x84, 0xaa  …  0x73, 0x65, 0x67, 0x6d, 0x65, 0x6e, 0x74, 0x73, 0x2f, 0x32], nothing, Dict{String, Vector{UInt8}}(), nothing, Dict{String, MeshCat.SceneTrees.SceneNode}()), \"6\" => MeshCat.SceneTrees.SceneNode(UInt8[0x83, 0xa6, 0x6f, 0x62, 0x6a, 0x65, 0x63, 0x74, 0x84, 0xaa  …  0x73, 0x65, 0x67, 0x6d, 0x65, 0x6e, 0x74, 0x73, 0x2f, 0x36], nothing, Dict{String, Vector{UInt8}}(), nothing, Dict{String, MeshCat.SceneTrees.SceneNode}()), \"11\" => MeshCat.SceneTrees.SceneNode(UInt8[0x83, 0xa6, 0x6f, 0x62, 0x6a, 0x65, 0x63, 0x74, 0x84, 0xaa  …  0x65, 0x67, 0x6d, 0x65, 0x6e, 0x74, 0x73, 0x2f, 0x31, 0x31], nothing, Dict{String, Vector{UInt8}}(), nothing, Dict{String, MeshCat.SceneTrees.SceneNode}()), \"5\" => MeshCat.SceneTrees.SceneNode(UInt8[0x83, 0xa6, 0x6f, 0x62, 0x6a, 0x65, 0x63, 0x74, 0x84, 0xaa  …  0x73, 0x65, 0x67, 0x6d, 0x65, 0x6e, 0x74, 0x73, 0x2f, 0x35], nothing, Dict{String, Vector{UInt8}}(), nothing, Dict{String, MeshCat.SceneTrees.SceneNode}()), \"7\" => MeshCat.SceneTrees.SceneNode(UInt8[0x83, 0xa6, 0x6f, 0x62, 0x6a, 0x65, 0x63, 0x74, 0x84, 0xaa  …  0x73, 0x65, 0x67, 0x6d, 0x65, 0x6e, 0x74, 0x73, 0x2f, 0x37], nothing, Dict{String, Vector{UInt8}}(), nothing, Dict{String, MeshCat.SceneTrees.SceneNode}()), \"8\" => MeshCat.SceneTrees.SceneNode(UInt8[0x83, 0xa6, 0x6f, 0x62, 0x6a, 0x65, 0x63, 0x74, 0x84, 0xaa  …  0x73, 0x65, 0x67, 0x6d, 0x65, 0x6e, 0x74, 0x73, 0x2f, 0x38], nothing, Dict{String, Vector{UInt8}}(), nothing, Dict{String, MeshCat.SceneTrees.SceneNode}()), \"10\" => MeshCat.SceneTrees.SceneNode(UInt8[0x83, 0xa6, 0x6f, 0x62, 0x6a, 0x65, 0x63, 0x74, 0x84, 0xaa  …  0x65, 0x67, 0x6d, 0x65, 0x6e, 0x74, 0x73, 0x2f, 0x31, 0x30], nothing, Dict{String, Vector{UInt8}}(), nothing, Dict{String, MeshCat.SceneTrees.SceneNode}())…)))), \"Axes\" => MeshCat.SceneTrees.SceneNode(nothing, nothing, Dict{String, Vector{UInt8}}(), nothing, Dict{String, MeshCat.SceneTrees.SceneNode}(\"<object>\" => MeshCat.SceneTrees.SceneNode(UInt8[0x83, 0xa6, 0x6f, 0x62, 0x6a, 0x65, 0x63, 0x74, 0x84, 0xaa  …  0x73, 0x2f, 0x3c, 0x6f, 0x62, 0x6a, 0x65, 0x63, 0x74, 0x3e], UInt8[0x83, 0xa6, 0x6d, 0x61, 0x74, 0x72, 0x69, 0x78, 0xc7, 0x40  …  0x73, 0x2f, 0x3c, 0x6f, 0x62, 0x6a, 0x65, 0x63, 0x74, 0x3e], Dict{String, Vector{UInt8}}(), nothing, Dict{String, MeshCat.SceneTrees.SceneNode}()))))), Set{HTTP.WebSockets.WebSocket}(), ip\"127.0.0.1\", 8700))"
      ]
     },
     "execution_count": 7,
     "metadata": {},
     "output_type": "execute_result"
    }
   ],
   "source": [
    "draw_frame(model, frame=4)"
   ]
  },
  {
   "cell_type": "markdown",
   "metadata": {},
   "source": [
    "If one wants to see the animation of the model run, it can be done as "
   ]
  },
  {
   "cell_type": "code",
   "execution_count": 8,
   "metadata": {},
   "outputs": [
    {
     "name": "stderr",
     "output_type": "stream",
     "text": [
      "\u001b[36m\u001b[1m[ \u001b[22m\u001b[39m\u001b[36m\u001b[1mInfo: \u001b[22m\u001b[39mListening on: 127.0.0.1:8701, thread id: 1\n",
      "\u001b[36m\u001b[1m┌ \u001b[22m\u001b[39m\u001b[36m\u001b[1mInfo: \u001b[22m\u001b[39mMeshCat server started. You can open the visualizer by visiting the following URL in your browser:\n",
      "\u001b[36m\u001b[1m└ \u001b[22m\u001b[39mhttp://127.0.0.1:8701\n"
     ]
    },
    {
     "data": {
      "text/html": [
       "    <div style=\"height: 500px; width: 100%; overflow-x: auto; overflow-y: hidden; resize: both\">\n",
       "    <iframe src=\"http://127.0.0.1:8701\" style=\"width: 100%; height: 100%; border: none\"></iframe>\n",
       "    </div>\n"
      ],
      "text/plain": [
       "MeshCat.DisplayedVisualizer(MeshCat.CoreVisualizer(MeshCat.SceneTrees.SceneNode(nothing, nothing, Dict{String, Vector{UInt8}}(), UInt8[0x83, 0xa7, 0x6f, 0x70, 0x74, 0x69, 0x6f, 0x6e, 0x73, 0x82  …  0x5f, 0x61, 0x6e, 0x69, 0x6d, 0x61, 0x74, 0x69, 0x6f, 0x6e], Dict{String, MeshCat.SceneTrees.SceneNode}(\"meshcat\" => MeshCat.SceneTrees.SceneNode(nothing, UInt8[0x83, 0xa6, 0x6d, 0x61, 0x74, 0x72, 0x69, 0x78, 0xc7, 0x40  …  0x68, 0xa8, 0x2f, 0x6d, 0x65, 0x73, 0x68, 0x63, 0x61, 0x74], Dict{String, Vector{UInt8}}(), nothing, Dict{String, MeshCat.SceneTrees.SceneNode}(\"agents\" => MeshCat.SceneTrees.SceneNode(nothing, nothing, Dict{String, Vector{UInt8}}(), nothing, Dict{String, MeshCat.SceneTrees.SceneNode}(\"1\" => MeshCat.SceneTrees.SceneNode(nothing, UInt8[0x83, 0xa6, 0x6d, 0x61, 0x74, 0x72, 0x69, 0x78, 0xc7, 0x40  …  0x74, 0x2f, 0x61, 0x67, 0x65, 0x6e, 0x74, 0x73, 0x2f, 0x31], Dict{String, Vector{UInt8}}(), nothing, Dict{String, MeshCat.SceneTrees.SceneNode}(\"(0.0N0f8, 1.0N0f8, 0.0N0f8, 1.0N0f8)\" => MeshCat.SceneTrees.SceneNode(UInt8[0x83, 0xa6, 0x6f, 0x62, 0x6a, 0x65, 0x63, 0x74, 0x84, 0xaa  …  0x2c, 0x20, 0x31, 0x2e, 0x30, 0x4e, 0x30, 0x66, 0x38, 0x29], nothing, Dict{String, Vector{UInt8}}(\"visible\" => [0x84, 0xa8, 0x70, 0x72, 0x6f, 0x70, 0x65, 0x72, 0x74, 0x79  …  0x2c, 0x20, 0x31, 0x2e, 0x30, 0x4e, 0x30, 0x66, 0x38, 0x29]), nothing, Dict{String, MeshCat.SceneTrees.SceneNode}()))), \"54\" => MeshCat.SceneTrees.SceneNode(nothing, UInt8[0x83, 0xa6, 0x6d, 0x61, 0x74, 0x72, 0x69, 0x78, 0xc7, 0x40  …  0x2f, 0x61, 0x67, 0x65, 0x6e, 0x74, 0x73, 0x2f, 0x35, 0x34], Dict{String, Vector{UInt8}}(), nothing, Dict{String, MeshCat.SceneTrees.SceneNode}(\"(0.0N0f8, 1.0N0f8, 0.0N0f8, 1.0N0f8)\" => MeshCat.SceneTrees.SceneNode(UInt8[0x83, 0xa6, 0x6f, 0x62, 0x6a, 0x65, 0x63, 0x74, 0x84, 0xaa  …  0x2c, 0x20, 0x31, 0x2e, 0x30, 0x4e, 0x30, 0x66, 0x38, 0x29], nothing, Dict{String, Vector{UInt8}}(\"visible\" => [0x84, 0xa8, 0x70, 0x72, 0x6f, 0x70, 0x65, 0x72, 0x74, 0x79  …  0x2c, 0x20, 0x31, 0x2e, 0x30, 0x4e, 0x30, 0x66, 0x38, 0x29]), nothing, Dict{String, MeshCat.SceneTrees.SceneNode}()))), \"101\" => MeshCat.SceneTrees.SceneNode(nothing, UInt8[0x83, 0xa6, 0x6d, 0x61, 0x74, 0x72, 0x69, 0x78, 0xc7, 0x40  …  0x61, 0x67, 0x65, 0x6e, 0x74, 0x73, 0x2f, 0x31, 0x30, 0x31], Dict{String, Vector{UInt8}}(), nothing, Dict{String, MeshCat.SceneTrees.SceneNode}(\"(0.0N0f8, 1.0N0f8, 0.0N0f8, 1.0N0f8)\" => MeshCat.SceneTrees.SceneNode(UInt8[0x83, 0xa6, 0x6f, 0x62, 0x6a, 0x65, 0x63, 0x74, 0x84, 0xaa  …  0x2c, 0x20, 0x31, 0x2e, 0x30, 0x4e, 0x30, 0x66, 0x38, 0x29], nothing, Dict{String, Vector{UInt8}}(\"visible\" => [0x84, 0xa8, 0x70, 0x72, 0x6f, 0x70, 0x65, 0x72, 0x74, 0x79  …  0x2c, 0x20, 0x31, 0x2e, 0x30, 0x4e, 0x30, 0x66, 0x38, 0x29]), nothing, Dict{String, MeshCat.SceneTrees.SceneNode}()))), \"41\" => MeshCat.SceneTrees.SceneNode(nothing, UInt8[0x83, 0xa6, 0x6d, 0x61, 0x74, 0x72, 0x69, 0x78, 0xc7, 0x40  …  0x2f, 0x61, 0x67, 0x65, 0x6e, 0x74, 0x73, 0x2f, 0x34, 0x31], Dict{String, Vector{UInt8}}(), nothing, Dict{String, MeshCat.SceneTrees.SceneNode}(\"(1.0N0f8, 0.0N0f8, 0.0N0f8, 1.0N0f8)\" => MeshCat.SceneTrees.SceneNode(UInt8[0x83, 0xa6, 0x6f, 0x62, 0x6a, 0x65, 0x63, 0x74, 0x84, 0xaa  …  0x2c, 0x20, 0x31, 0x2e, 0x30, 0x4e, 0x30, 0x66, 0x38, 0x29], nothing, Dict{String, Vector{UInt8}}(\"visible\" => [0x84, 0xa8, 0x70, 0x72, 0x6f, 0x70, 0x65, 0x72, 0x74, 0x79  …  0x2c, 0x20, 0x31, 0x2e, 0x30, 0x4e, 0x30, 0x66, 0x38, 0x29]), nothing, Dict{String, MeshCat.SceneTrees.SceneNode}()))), \"65\" => MeshCat.SceneTrees.SceneNode(nothing, UInt8[0x83, 0xa6, 0x6d, 0x61, 0x74, 0x72, 0x69, 0x78, 0xc7, 0x40  …  0x2f, 0x61, 0x67, 0x65, 0x6e, 0x74, 0x73, 0x2f, 0x36, 0x35], Dict{String, Vector{UInt8}}(), nothing, Dict{String, MeshCat.SceneTrees.SceneNode}(\"(1.0N0f8, 0.0N0f8, 0.0N0f8, 1.0N0f8)\" => MeshCat.SceneTrees.SceneNode(UInt8[0x83, 0xa6, 0x6f, 0x62, 0x6a, 0x65, 0x63, 0x74, 0x84, 0xaa  …  0x2c, 0x20, 0x31, 0x2e, 0x30, 0x4e, 0x30, 0x66, 0x38, 0x29], nothing, Dict{String, Vector{UInt8}}(\"visible\" => [0x84, 0xa8, 0x70, 0x72, 0x6f, 0x70, 0x65, 0x72, 0x74, 0x79  …  0x2c, 0x20, 0x31, 0x2e, 0x30, 0x4e, 0x30, 0x66, 0x38, 0x29]), nothing, Dict{String, MeshCat.SceneTrees.SceneNode}()))), \"168\" => MeshCat.SceneTrees.SceneNode(nothing, UInt8[0x83, 0xa6, 0x6d, 0x61, 0x74, 0x72, 0x69, 0x78, 0xc7, 0x40  …  0x61, 0x67, 0x65, 0x6e, 0x74, 0x73, 0x2f, 0x31, 0x36, 0x38], Dict{String, Vector{UInt8}}(), nothing, Dict{String, MeshCat.SceneTrees.SceneNode}(\"(1.0N0f8, 0.0N0f8, 0.0N0f8, 1.0N0f8)\" => MeshCat.SceneTrees.SceneNode(UInt8[0x83, 0xa6, 0x6f, 0x62, 0x6a, 0x65, 0x63, 0x74, 0x84, 0xaa  …  0x2c, 0x20, 0x31, 0x2e, 0x30, 0x4e, 0x30, 0x66, 0x38, 0x29], nothing, Dict{String, Vector{UInt8}}(\"visible\" => [0x84, 0xa8, 0x70, 0x72, 0x6f, 0x70, 0x65, 0x72, 0x74, 0x79  …  0x2c, 0x20, 0x31, 0x2e, 0x30, 0x4e, 0x30, 0x66, 0x38, 0x29]), nothing, Dict{String, MeshCat.SceneTrees.SceneNode}()))), \"159\" => MeshCat.SceneTrees.SceneNode(nothing, UInt8[0x83, 0xa6, 0x6d, 0x61, 0x74, 0x72, 0x69, 0x78, 0xc7, 0x40  …  0x61, 0x67, 0x65, 0x6e, 0x74, 0x73, 0x2f, 0x31, 0x35, 0x39], Dict{String, Vector{UInt8}}(), nothing, Dict{String, MeshCat.SceneTrees.SceneNode}(\"(1.0N0f8, 0.0N0f8, 0.0N0f8, 1.0N0f8)\" => MeshCat.SceneTrees.SceneNode(UInt8[0x83, 0xa6, 0x6f, 0x62, 0x6a, 0x65, 0x63, 0x74, 0x84, 0xaa  …  0x2c, 0x20, 0x31, 0x2e, 0x30, 0x4e, 0x30, 0x66, 0x38, 0x29], nothing, Dict{String, Vector{UInt8}}(\"visible\" => [0x84, 0xa8, 0x70, 0x72, 0x6f, 0x70, 0x65, 0x72, 0x74, 0x79  …  0x2c, 0x20, 0x31, 0x2e, 0x30, 0x4e, 0x30, 0x66, 0x38, 0x29]), nothing, Dict{String, MeshCat.SceneTrees.SceneNode}()))), \"190\" => MeshCat.SceneTrees.SceneNode(nothing, UInt8[0x83, 0xa6, 0x6d, 0x61, 0x74, 0x72, 0x69, 0x78, 0xc7, 0x40  …  0x61, 0x67, 0x65, 0x6e, 0x74, 0x73, 0x2f, 0x31, 0x39, 0x30], Dict{String, Vector{UInt8}}(), nothing, Dict{String, MeshCat.SceneTrees.SceneNode}(\"(0.0N0f8, 1.0N0f8, 0.0N0f8, 1.0N0f8)\" => MeshCat.SceneTrees.SceneNode(UInt8[0x83, 0xa6, 0x6f, 0x62, 0x6a, 0x65, 0x63, 0x74, 0x84, 0xaa  …  0x2c, 0x20, 0x31, 0x2e, 0x30, 0x4e, 0x30, 0x66, 0x38, 0x29], nothing, Dict{String, Vector{UInt8}}(\"visible\" => [0x84, 0xa8, 0x70, 0x72, 0x6f, 0x70, 0x65, 0x72, 0x74, 0x79  …  0x2c, 0x20, 0x31, 0x2e, 0x30, 0x4e, 0x30, 0x66, 0x38, 0x29]), nothing, Dict{String, MeshCat.SceneTrees.SceneNode}()))), \"88\" => MeshCat.SceneTrees.SceneNode(nothing, UInt8[0x83, 0xa6, 0x6d, 0x61, 0x74, 0x72, 0x69, 0x78, 0xc7, 0x40  …  0x2f, 0x61, 0x67, 0x65, 0x6e, 0x74, 0x73, 0x2f, 0x38, 0x38], Dict{String, Vector{UInt8}}(), nothing, Dict{String, MeshCat.SceneTrees.SceneNode}(\"(0.0N0f8, 1.0N0f8, 0.0N0f8, 1.0N0f8)\" => MeshCat.SceneTrees.SceneNode(UInt8[0x83, 0xa6, 0x6f, 0x62, 0x6a, 0x65, 0x63, 0x74, 0x84, 0xaa  …  0x2c, 0x20, 0x31, 0x2e, 0x30, 0x4e, 0x30, 0x66, 0x38, 0x29], nothing, Dict{String, Vector{UInt8}}(\"visible\" => [0x84, 0xa8, 0x70, 0x72, 0x6f, 0x70, 0x65, 0x72, 0x74, 0x79  …  0x2c, 0x20, 0x31, 0x2e, 0x30, 0x4e, 0x30, 0x66, 0x38, 0x29]), nothing, Dict{String, MeshCat.SceneTrees.SceneNode}()))), \"26\" => MeshCat.SceneTrees.SceneNode(nothing, UInt8[0x83, 0xa6, 0x6d, 0x61, 0x74, 0x72, 0x69, 0x78, 0xc7, 0x40  …  0x2f, 0x61, 0x67, 0x65, 0x6e, 0x74, 0x73, 0x2f, 0x32, 0x36], Dict{String, Vector{UInt8}}(), nothing, Dict{String, MeshCat.SceneTrees.SceneNode}(\"(1.0N0f8, 0.0N0f8, 0.0N0f8, 1.0N0f8)\" => MeshCat.SceneTrees.SceneNode(UInt8[0x83, 0xa6, 0x6f, 0x62, 0x6a, 0x65, 0x63, 0x74, 0x84, 0xaa  …  0x2c, 0x20, 0x31, 0x2e, 0x30, 0x4e, 0x30, 0x66, 0x38, 0x29], nothing, Dict{String, Vector{UInt8}}(\"visible\" => [0x84, 0xa8, 0x70, 0x72, 0x6f, 0x70, 0x65, 0x72, 0x74, 0x79  …  0x2c, 0x20, 0x31, 0x2e, 0x30, 0x4e, 0x30, 0x66, 0x38, 0x29]), nothing, Dict{String, MeshCat.SceneTrees.SceneNode}())))…)), \"bbox_line_segments\" => MeshCat.SceneTrees.SceneNode(nothing, nothing, Dict{String, Vector{UInt8}}(), nothing, Dict{String, MeshCat.SceneTrees.SceneNode}(\"4\" => MeshCat.SceneTrees.SceneNode(UInt8[0x83, 0xa6, 0x6f, 0x62, 0x6a, 0x65, 0x63, 0x74, 0x84, 0xaa  …  0x73, 0x65, 0x67, 0x6d, 0x65, 0x6e, 0x74, 0x73, 0x2f, 0x34], nothing, Dict{String, Vector{UInt8}}(), nothing, Dict{String, MeshCat.SceneTrees.SceneNode}()), \"1\" => MeshCat.SceneTrees.SceneNode(UInt8[0x83, 0xa6, 0x6f, 0x62, 0x6a, 0x65, 0x63, 0x74, 0x84, 0xaa  …  0x73, 0x65, 0x67, 0x6d, 0x65, 0x6e, 0x74, 0x73, 0x2f, 0x31], nothing, Dict{String, Vector{UInt8}}(), nothing, Dict{String, MeshCat.SceneTrees.SceneNode}()), \"12\" => MeshCat.SceneTrees.SceneNode(UInt8[0x83, 0xa6, 0x6f, 0x62, 0x6a, 0x65, 0x63, 0x74, 0x84, 0xaa  …  0x65, 0x67, 0x6d, 0x65, 0x6e, 0x74, 0x73, 0x2f, 0x31, 0x32], nothing, Dict{String, Vector{UInt8}}(), nothing, Dict{String, MeshCat.SceneTrees.SceneNode}()), \"2\" => MeshCat.SceneTrees.SceneNode(UInt8[0x83, 0xa6, 0x6f, 0x62, 0x6a, 0x65, 0x63, 0x74, 0x84, 0xaa  …  0x73, 0x65, 0x67, 0x6d, 0x65, 0x6e, 0x74, 0x73, 0x2f, 0x32], nothing, Dict{String, Vector{UInt8}}(), nothing, Dict{String, MeshCat.SceneTrees.SceneNode}()), \"6\" => MeshCat.SceneTrees.SceneNode(UInt8[0x83, 0xa6, 0x6f, 0x62, 0x6a, 0x65, 0x63, 0x74, 0x84, 0xaa  …  0x73, 0x65, 0x67, 0x6d, 0x65, 0x6e, 0x74, 0x73, 0x2f, 0x36], nothing, Dict{String, Vector{UInt8}}(), nothing, Dict{String, MeshCat.SceneTrees.SceneNode}()), \"11\" => MeshCat.SceneTrees.SceneNode(UInt8[0x83, 0xa6, 0x6f, 0x62, 0x6a, 0x65, 0x63, 0x74, 0x84, 0xaa  …  0x65, 0x67, 0x6d, 0x65, 0x6e, 0x74, 0x73, 0x2f, 0x31, 0x31], nothing, Dict{String, Vector{UInt8}}(), nothing, Dict{String, MeshCat.SceneTrees.SceneNode}()), \"5\" => MeshCat.SceneTrees.SceneNode(UInt8[0x83, 0xa6, 0x6f, 0x62, 0x6a, 0x65, 0x63, 0x74, 0x84, 0xaa  …  0x73, 0x65, 0x67, 0x6d, 0x65, 0x6e, 0x74, 0x73, 0x2f, 0x35], nothing, Dict{String, Vector{UInt8}}(), nothing, Dict{String, MeshCat.SceneTrees.SceneNode}()), \"7\" => MeshCat.SceneTrees.SceneNode(UInt8[0x83, 0xa6, 0x6f, 0x62, 0x6a, 0x65, 0x63, 0x74, 0x84, 0xaa  …  0x73, 0x65, 0x67, 0x6d, 0x65, 0x6e, 0x74, 0x73, 0x2f, 0x37], nothing, Dict{String, Vector{UInt8}}(), nothing, Dict{String, MeshCat.SceneTrees.SceneNode}()), \"8\" => MeshCat.SceneTrees.SceneNode(UInt8[0x83, 0xa6, 0x6f, 0x62, 0x6a, 0x65, 0x63, 0x74, 0x84, 0xaa  …  0x73, 0x65, 0x67, 0x6d, 0x65, 0x6e, 0x74, 0x73, 0x2f, 0x38], nothing, Dict{String, Vector{UInt8}}(), nothing, Dict{String, MeshCat.SceneTrees.SceneNode}()), \"10\" => MeshCat.SceneTrees.SceneNode(UInt8[0x83, 0xa6, 0x6f, 0x62, 0x6a, 0x65, 0x63, 0x74, 0x84, 0xaa  …  0x65, 0x67, 0x6d, 0x65, 0x6e, 0x74, 0x73, 0x2f, 0x31, 0x30], nothing, Dict{String, Vector{UInt8}}(), nothing, Dict{String, MeshCat.SceneTrees.SceneNode}())…)))), \"Axes\" => MeshCat.SceneTrees.SceneNode(nothing, nothing, Dict{String, Vector{UInt8}}(), nothing, Dict{String, MeshCat.SceneTrees.SceneNode}(\"<object>\" => MeshCat.SceneTrees.SceneNode(UInt8[0x83, 0xa6, 0x6f, 0x62, 0x6a, 0x65, 0x63, 0x74, 0x84, 0xaa  …  0x73, 0x2f, 0x3c, 0x6f, 0x62, 0x6a, 0x65, 0x63, 0x74, 0x3e], UInt8[0x83, 0xa6, 0x6d, 0x61, 0x74, 0x72, 0x69, 0x78, 0xc7, 0x40  …  0x73, 0x2f, 0x3c, 0x6f, 0x62, 0x6a, 0x65, 0x63, 0x74, 0x3e], Dict{String, Vector{UInt8}}(), nothing, Dict{String, MeshCat.SceneTrees.SceneNode}()))))), Set{HTTP.WebSockets.WebSocket}(), ip\"127.0.0.1\", 8701))"
      ]
     },
     "execution_count": 8,
     "metadata": {},
     "output_type": "execute_result"
    }
   ],
   "source": [
    "animate_sim(model)"
   ]
  },
  {
   "cell_type": "markdown",
   "metadata": {},
   "source": [
    "After defining the `step_rule!` function we can also choose to create an interactive application (which currently works in Jupyter with WebIO installation) as "
   ]
  },
  {
   "cell_type": "code",
   "execution_count": 9,
   "metadata": {},
   "outputs": [
    {
     "name": "stderr",
     "output_type": "stream",
     "text": [
      "\u001b[36m\u001b[1m[ \u001b[22m\u001b[39m\u001b[36m\u001b[1mInfo: \u001b[22m\u001b[39mListening on: 127.0.0.1:8702, thread id: 1\n",
      "\u001b[36m\u001b[1m┌ \u001b[22m\u001b[39m\u001b[36m\u001b[1mInfo: \u001b[22m\u001b[39mMeshCat server started. You can open the visualizer by visiting the following URL in your browser:\n",
      "\u001b[36m\u001b[1m└ \u001b[22m\u001b[39mhttp://127.0.0.1:8702\n"
     ]
    },
    {
     "data": {
      "application/vnd.webio.node+json": {
       "children": [
        {
         "children": [
          {
           "children": [
            {
             "children": [
              {
               "children": [
                {
                 "children": [
                  {
                   "children": [
                    {
                     "children": [
                      "time"
                     ],
                     "instanceArgs": {
                      "namespace": "html",
                      "tag": "label"
                     },
                     "nodeType": "DOM",
                     "props": {
                      "className": "interact ",
                      "style": {
                       "padding": "5px 10px 0px 10px"
                      }
                     },
                     "type": "node"
                    }
                   ],
                   "instanceArgs": {
                    "namespace": "html",
                    "tag": "div"
                   },
                   "nodeType": "DOM",
                   "props": {
                    "className": "interact-flex-row-left"
                   },
                   "type": "node"
                  },
                  {
                   "children": [
                    {
                     "children": [],
                     "instanceArgs": {
                      "namespace": "html",
                      "tag": "input"
                     },
                     "nodeType": "DOM",
                     "props": {
                      "attributes": {
                       "data-bind": "numericValue: index, valueUpdate: 'input', event: {change: function (){this.changes(this.changes()+1)}}",
                       "orient": "horizontal",
                       "type": "range"
                      },
                      "className": "slider slider is-fullwidth",
                      "max": 200,
                      "min": 1,
                      "step": 1,
                      "style": {}
                     },
                     "type": "node"
                    }
                   ],
                   "instanceArgs": {
                    "namespace": "html",
                    "tag": "div"
                   },
                   "nodeType": "DOM",
                   "props": {
                    "className": "interact-flex-row-center"
                   },
                   "type": "node"
                  },
                  {
                   "children": [
                    {
                     "children": [],
                     "instanceArgs": {
                      "namespace": "html",
                      "tag": "p"
                     },
                     "nodeType": "DOM",
                     "props": {
                      "attributes": {
                       "data-bind": "text: formatted_val"
                      }
                     },
                     "type": "node"
                    }
                   ],
                   "instanceArgs": {
                    "namespace": "html",
                    "tag": "div"
                   },
                   "nodeType": "DOM",
                   "props": {
                    "className": "interact-flex-row-right"
                   },
                   "type": "node"
                  }
                 ],
                 "instanceArgs": {
                  "namespace": "html",
                  "tag": "div"
                 },
                 "nodeType": "DOM",
                 "props": {
                  "className": "interact-flex-row interact-widget"
                 },
                 "type": "node"
                }
               ],
               "instanceArgs": {
                "handlers": {
                 "changes": [
                  "(function (val){return (val!=this.model[\"changes\"]()) ? (this.valueFromJulia[\"changes\"]=true, this.model[\"changes\"](val)) : undefined})"
                 ],
                 "index": [
                  "(function (val){return (val!=this.model[\"index\"]()) ? (this.valueFromJulia[\"index\"]=true, this.model[\"index\"](val)) : undefined})"
                 ]
                },
                "id": "5112544354733393210",
                "imports": {
                 "data": [
                  {
                   "name": "knockout",
                   "type": "js",
                   "url": "/assetserver/727383f2a47bd31570b7da84eee7b022dd6d7c78-knockout.js"
                  },
                  {
                   "name": "knockout_punches",
                   "type": "js",
                   "url": "/assetserver/382b41b3b1bd9f26f75861d360bad7f8beea211f-knockout_punches.js"
                  },
                  {
                   "name": null,
                   "type": "js",
                   "url": "/assetserver/5ab20f1060420992a9b82a65b735dee4d81ef413-all.js"
                  },
                  {
                   "name": null,
                   "type": "css",
                   "url": "/assetserver/1cc0ed62837210b80a182cc3676512f895dab686-style.css"
                  },
                  {
                   "name": null,
                   "type": "css",
                   "url": "/assetserver/2eee816f616df3549d7044d45e744fbf8d42bfa1-bulma_confined.min.css"
                  }
                 ],
                 "type": "async_block"
                },
                "mount_callbacks": [
                 "function () {\n    var handler = (function (ko, koPunches) {\n    ko.punches.enableAll();\n    ko.bindingHandlers.numericValue = {\n        init: function(element, valueAccessor, allBindings, data, context) {\n            var stringified = ko.observable(ko.unwrap(valueAccessor()));\n            stringified.subscribe(function(value) {\n                var val = parseFloat(value);\n                if (!isNaN(val)) {\n                    valueAccessor()(val);\n                }\n            });\n            valueAccessor().subscribe(function(value) {\n                var str = JSON.stringify(value);\n                if ((str == \"0\") && ([\"-0\", \"-0.\"].indexOf(stringified()) >= 0))\n                     return;\n                 if ([\"null\", \"\"].indexOf(str) >= 0)\n                     return;\n                stringified(str);\n            });\n            ko.applyBindingsToNode(\n                element,\n                {\n                    value: stringified,\n                    valueUpdate: allBindings.get('valueUpdate'),\n                },\n                context,\n            );\n        }\n    };\n    var json_data = {\"formatted_vals\":[\"1\",\"2\",\"3\",\"4\",\"5\",\"6\",\"7\",\"8\",\"9\",\"10\",\"11\",\"12\",\"13\",\"14\",\"15\",\"16\",\"17\",\"18\",\"19\",\"20\",\"21\",\"22\",\"23\",\"24\",\"25\",\"26\",\"27\",\"28\",\"29\",\"30\",\"31\",\"32\",\"33\",\"34\",\"35\",\"36\",\"37\",\"38\",\"39\",\"40\",\"41\",\"42\",\"43\",\"44\",\"45\",\"46\",\"47\",\"48\",\"49\",\"50\",\"51\",\"52\",\"53\",\"54\",\"55\",\"56\",\"57\",\"58\",\"59\",\"60\",\"61\",\"62\",\"63\",\"64\",\"65\",\"66\",\"67\",\"68\",\"69\",\"70\",\"71\",\"72\",\"73\",\"74\",\"75\",\"76\",\"77\",\"78\",\"79\",\"80\",\"81\",\"82\",\"83\",\"84\",\"85\",\"86\",\"87\",\"88\",\"89\",\"90\",\"91\",\"92\",\"93\",\"94\",\"95\",\"96\",\"97\",\"98\",\"99\",\"100\",\"101\",\"102\",\"103\",\"104\",\"105\",\"106\",\"107\",\"108\",\"109\",\"110\",\"111\",\"112\",\"113\",\"114\",\"115\",\"116\",\"117\",\"118\",\"119\",\"120\",\"121\",\"122\",\"123\",\"124\",\"125\",\"126\",\"127\",\"128\",\"129\",\"130\",\"131\",\"132\",\"133\",\"134\",\"135\",\"136\",\"137\",\"138\",\"139\",\"140\",\"141\",\"142\",\"143\",\"144\",\"145\",\"146\",\"147\",\"148\",\"149\",\"150\",\"151\",\"152\",\"153\",\"154\",\"155\",\"156\",\"157\",\"158\",\"159\",\"160\",\"161\",\"162\",\"163\",\"164\",\"165\",\"166\",\"167\",\"168\",\"169\",\"170\",\"171\",\"172\",\"173\",\"174\",\"175\",\"176\",\"177\",\"178\",\"179\",\"180\",\"181\",\"182\",\"183\",\"184\",\"185\",\"186\",\"187\",\"188\",\"189\",\"190\",\"191\",\"192\",\"193\",\"194\",\"195\",\"196\",\"197\",\"198\",\"199\",\"200\"],\"changes\":WebIO.getval({\"name\":\"changes\",\"scope\":\"5112544354733393210\",\"id\":\"9707086538743638337\",\"type\":\"observable\"}),\"index\":WebIO.getval({\"name\":\"index\",\"scope\":\"5112544354733393210\",\"id\":\"17098102578537743131\",\"type\":\"observable\"})};\n    var self = this;\n    function AppViewModel() {\n        for (var key in json_data) {\n            var el = json_data[key];\n            this[key] = Array.isArray(el) ? ko.observableArray(el) : ko.observable(el);\n        }\n        \n        [this[\"formatted_val\"]=ko.computed(    function(){\n        return this.formatted_vals()[parseInt(this.index())-(1)];\n    }\n,this)]\n        [this[\"changes\"].subscribe((function (val){!(this.valueFromJulia[\"changes\"]) ? (WebIO.setval({\"name\":\"changes\",\"scope\":\"5112544354733393210\",\"id\":\"9707086538743638337\",\"type\":\"observable\"},val)) : undefined; return this.valueFromJulia[\"changes\"]=false}),self),this[\"index\"].subscribe((function (val){!(this.valueFromJulia[\"index\"]) ? (WebIO.setval({\"name\":\"index\",\"scope\":\"5112544354733393210\",\"id\":\"17098102578537743131\",\"type\":\"observable\"},val)) : undefined; return this.valueFromJulia[\"index\"]=false}),self)]\n        \n    }\n    self.model = new AppViewModel();\n    self.valueFromJulia = {};\n    for (var key in json_data) {\n        self.valueFromJulia[key] = false;\n    }\n    ko.applyBindings(self.model, self.dom);\n}\n);\n    (WebIO.importBlock({\"data\":[{\"name\":\"knockout\",\"type\":\"js\",\"url\":\"/assetserver/727383f2a47bd31570b7da84eee7b022dd6d7c78-knockout.js\"},{\"name\":\"knockout_punches\",\"type\":\"js\",\"url\":\"/assetserver/382b41b3b1bd9f26f75861d360bad7f8beea211f-knockout_punches.js\"}],\"type\":\"async_block\"})).then((imports) => handler.apply(this, imports));\n}\n"
                ],
                "observables": {
                 "changes": {
                  "id": "9707086538743638337",
                  "sync": false,
                  "value": 0
                 },
                 "index": {
                  "id": "17098102578537743131",
                  "sync": true,
                  "value": 1
                 }
                },
                "systemjs_options": null
               },
               "nodeType": "Scope",
               "props": {},
               "type": "node"
              }
             ],
             "instanceArgs": {
              "namespace": "html",
              "tag": "div"
             },
             "nodeType": "DOM",
             "props": {
              "className": "field interact-widget"
             },
             "type": "node"
            },
            {
             "children": [
              {
               "children": [
                {
                 "children": [
                  {
                   "children": [
                    {
                     "children": [
                      "scale"
                     ],
                     "instanceArgs": {
                      "namespace": "html",
                      "tag": "label"
                     },
                     "nodeType": "DOM",
                     "props": {
                      "className": "interact ",
                      "style": {
                       "padding": "5px 10px 0px 10px"
                      }
                     },
                     "type": "node"
                    }
                   ],
                   "instanceArgs": {
                    "namespace": "html",
                    "tag": "div"
                   },
                   "nodeType": "DOM",
                   "props": {
                    "className": "interact-flex-row-left"
                   },
                   "type": "node"
                  },
                  {
                   "children": [
                    {
                     "children": [],
                     "instanceArgs": {
                      "namespace": "html",
                      "tag": "input"
                     },
                     "nodeType": "DOM",
                     "props": {
                      "attributes": {
                       "data-bind": "numericValue: index, valueUpdate: 'input', event: {change: function (){this.changes(this.changes()+1)}}",
                       "orient": "horizontal",
                       "type": "range"
                      },
                      "className": "slider slider is-fullwidth",
                      "max": 20,
                      "min": 1,
                      "step": 1,
                      "style": {}
                     },
                     "type": "node"
                    }
                   ],
                   "instanceArgs": {
                    "namespace": "html",
                    "tag": "div"
                   },
                   "nodeType": "DOM",
                   "props": {
                    "className": "interact-flex-row-center"
                   },
                   "type": "node"
                  },
                  {
                   "children": [
                    {
                     "children": [],
                     "instanceArgs": {
                      "namespace": "html",
                      "tag": "p"
                     },
                     "nodeType": "DOM",
                     "props": {
                      "attributes": {
                       "data-bind": "text: formatted_val"
                      }
                     },
                     "type": "node"
                    }
                   ],
                   "instanceArgs": {
                    "namespace": "html",
                    "tag": "div"
                   },
                   "nodeType": "DOM",
                   "props": {
                    "className": "interact-flex-row-right"
                   },
                   "type": "node"
                  }
                 ],
                 "instanceArgs": {
                  "namespace": "html",
                  "tag": "div"
                 },
                 "nodeType": "DOM",
                 "props": {
                  "className": "interact-flex-row interact-widget"
                 },
                 "type": "node"
                }
               ],
               "instanceArgs": {
                "handlers": {
                 "changes": [
                  "(function (val){return (val!=this.model[\"changes\"]()) ? (this.valueFromJulia[\"changes\"]=true, this.model[\"changes\"](val)) : undefined})"
                 ],
                 "index": [
                  "(function (val){return (val!=this.model[\"index\"]()) ? (this.valueFromJulia[\"index\"]=true, this.model[\"index\"](val)) : undefined})"
                 ]
                },
                "id": "827457525681972731",
                "imports": {
                 "data": [
                  {
                   "name": "knockout",
                   "type": "js",
                   "url": "/assetserver/727383f2a47bd31570b7da84eee7b022dd6d7c78-knockout.js"
                  },
                  {
                   "name": "knockout_punches",
                   "type": "js",
                   "url": "/assetserver/382b41b3b1bd9f26f75861d360bad7f8beea211f-knockout_punches.js"
                  },
                  {
                   "name": null,
                   "type": "js",
                   "url": "/assetserver/5ab20f1060420992a9b82a65b735dee4d81ef413-all.js"
                  },
                  {
                   "name": null,
                   "type": "css",
                   "url": "/assetserver/1cc0ed62837210b80a182cc3676512f895dab686-style.css"
                  },
                  {
                   "name": null,
                   "type": "css",
                   "url": "/assetserver/2eee816f616df3549d7044d45e744fbf8d42bfa1-bulma_confined.min.css"
                  }
                 ],
                 "type": "async_block"
                },
                "mount_callbacks": [
                 "function () {\n    var handler = (function (ko, koPunches) {\n    ko.punches.enableAll();\n    ko.bindingHandlers.numericValue = {\n        init: function(element, valueAccessor, allBindings, data, context) {\n            var stringified = ko.observable(ko.unwrap(valueAccessor()));\n            stringified.subscribe(function(value) {\n                var val = parseFloat(value);\n                if (!isNaN(val)) {\n                    valueAccessor()(val);\n                }\n            });\n            valueAccessor().subscribe(function(value) {\n                var str = JSON.stringify(value);\n                if ((str == \"0\") && ([\"-0\", \"-0.\"].indexOf(stringified()) >= 0))\n                     return;\n                 if ([\"null\", \"\"].indexOf(str) >= 0)\n                     return;\n                stringified(str);\n            });\n            ko.applyBindingsToNode(\n                element,\n                {\n                    value: stringified,\n                    valueUpdate: allBindings.get('valueUpdate'),\n                },\n                context,\n            );\n        }\n    };\n    var json_data = {\"formatted_vals\":[\"0.1\",\"0.2\",\"0.3\",\"0.4\",\"0.5\",\"0.6\",\"0.7\",\"0.8\",\"0.9\",\"1.0\",\"1.1\",\"1.2\",\"1.3\",\"1.4\",\"1.5\",\"1.6\",\"1.7\",\"1.8\",\"1.9\",\"2.0\"],\"changes\":WebIO.getval({\"name\":\"changes\",\"scope\":\"827457525681972731\",\"id\":\"7155282783892366580\",\"type\":\"observable\"}),\"index\":WebIO.getval({\"name\":\"index\",\"scope\":\"827457525681972731\",\"id\":\"13553376805459890629\",\"type\":\"observable\"})};\n    var self = this;\n    function AppViewModel() {\n        for (var key in json_data) {\n            var el = json_data[key];\n            this[key] = Array.isArray(el) ? ko.observableArray(el) : ko.observable(el);\n        }\n        \n        [this[\"formatted_val\"]=ko.computed(    function(){\n        return this.formatted_vals()[parseInt(this.index())-(1)];\n    }\n,this)]\n        [this[\"changes\"].subscribe((function (val){!(this.valueFromJulia[\"changes\"]) ? (WebIO.setval({\"name\":\"changes\",\"scope\":\"827457525681972731\",\"id\":\"7155282783892366580\",\"type\":\"observable\"},val)) : undefined; return this.valueFromJulia[\"changes\"]=false}),self),this[\"index\"].subscribe((function (val){!(this.valueFromJulia[\"index\"]) ? (WebIO.setval({\"name\":\"index\",\"scope\":\"827457525681972731\",\"id\":\"13553376805459890629\",\"type\":\"observable\"},val)) : undefined; return this.valueFromJulia[\"index\"]=false}),self)]\n        \n    }\n    self.model = new AppViewModel();\n    self.valueFromJulia = {};\n    for (var key in json_data) {\n        self.valueFromJulia[key] = false;\n    }\n    ko.applyBindings(self.model, self.dom);\n}\n);\n    (WebIO.importBlock({\"data\":[{\"name\":\"knockout\",\"type\":\"js\",\"url\":\"/assetserver/727383f2a47bd31570b7da84eee7b022dd6d7c78-knockout.js\"},{\"name\":\"knockout_punches\",\"type\":\"js\",\"url\":\"/assetserver/382b41b3b1bd9f26f75861d360bad7f8beea211f-knockout_punches.js\"}],\"type\":\"async_block\"})).then((imports) => handler.apply(this, imports));\n}\n"
                ],
                "observables": {
                 "changes": {
                  "id": "7155282783892366580",
                  "sync": false,
                  "value": 0
                 },
                 "index": {
                  "id": "13553376805459890629",
                  "sync": true,
                  "value": 10
                 }
                },
                "systemjs_options": null
               },
               "nodeType": "Scope",
               "props": {},
               "type": "node"
              }
             ],
             "instanceArgs": {
              "namespace": "html",
              "tag": "div"
             },
             "nodeType": "DOM",
             "props": {
              "className": "field interact-widget"
             },
             "type": "node"
            },
            {
             "children": [],
             "instanceArgs": {
              "namespace": "html",
              "tag": "div"
             },
             "nodeType": "DOM",
             "props": {
              "style": {
               "display": "flex",
               "flex-direction": "column"
              }
             },
             "type": "node"
            },
            {
             "children": [
              {
               "children": [
                {
                 "children": [
                  {
                   "children": [
                    {
                     "children": [
                      {
                       "children": [
                        "min_alike"
                       ],
                       "instanceArgs": {
                        "namespace": "html",
                        "tag": "label"
                       },
                       "nodeType": "DOM",
                       "props": {
                        "className": "interact ",
                        "style": {
                         "padding": "5px 10px 0px 10px"
                        }
                       },
                       "type": "node"
                      }
                     ],
                     "instanceArgs": {
                      "namespace": "html",
                      "tag": "div"
                     },
                     "nodeType": "DOM",
                     "props": {
                      "className": "interact-flex-row-left"
                     },
                     "type": "node"
                    },
                    {
                     "children": [
                      {
                       "children": [],
                       "instanceArgs": {
                        "namespace": "html",
                        "tag": "input"
                       },
                       "nodeType": "DOM",
                       "props": {
                        "attributes": {
                         "data-bind": "numericValue: index, valueUpdate: 'input', event: {change: function (){this.changes(this.changes()+1)}}",
                         "orient": "horizontal",
                         "type": "range"
                        },
                        "className": "slider slider is-fullwidth",
                        "max": 12,
                        "min": 1,
                        "step": 1,
                        "style": {}
                       },
                       "type": "node"
                      }
                     ],
                     "instanceArgs": {
                      "namespace": "html",
                      "tag": "div"
                     },
                     "nodeType": "DOM",
                     "props": {
                      "className": "interact-flex-row-center"
                     },
                     "type": "node"
                    },
                    {
                     "children": [
                      {
                       "children": [],
                       "instanceArgs": {
                        "namespace": "html",
                        "tag": "p"
                       },
                       "nodeType": "DOM",
                       "props": {
                        "attributes": {
                         "data-bind": "text: formatted_val"
                        }
                       },
                       "type": "node"
                      }
                     ],
                     "instanceArgs": {
                      "namespace": "html",
                      "tag": "div"
                     },
                     "nodeType": "DOM",
                     "props": {
                      "className": "interact-flex-row-right"
                     },
                     "type": "node"
                    }
                   ],
                   "instanceArgs": {
                    "namespace": "html",
                    "tag": "div"
                   },
                   "nodeType": "DOM",
                   "props": {
                    "className": "interact-flex-row interact-widget"
                   },
                   "type": "node"
                  }
                 ],
                 "instanceArgs": {
                  "handlers": {
                   "changes": [
                    "(function (val){return (val!=this.model[\"changes\"]()) ? (this.valueFromJulia[\"changes\"]=true, this.model[\"changes\"](val)) : undefined})"
                   ],
                   "index": [
                    "(function (val){return (val!=this.model[\"index\"]()) ? (this.valueFromJulia[\"index\"]=true, this.model[\"index\"](val)) : undefined})"
                   ]
                  },
                  "id": "17730975702066225676",
                  "imports": {
                   "data": [
                    {
                     "name": "knockout",
                     "type": "js",
                     "url": "/assetserver/727383f2a47bd31570b7da84eee7b022dd6d7c78-knockout.js"
                    },
                    {
                     "name": "knockout_punches",
                     "type": "js",
                     "url": "/assetserver/382b41b3b1bd9f26f75861d360bad7f8beea211f-knockout_punches.js"
                    },
                    {
                     "name": null,
                     "type": "js",
                     "url": "/assetserver/5ab20f1060420992a9b82a65b735dee4d81ef413-all.js"
                    },
                    {
                     "name": null,
                     "type": "css",
                     "url": "/assetserver/1cc0ed62837210b80a182cc3676512f895dab686-style.css"
                    },
                    {
                     "name": null,
                     "type": "css",
                     "url": "/assetserver/2eee816f616df3549d7044d45e744fbf8d42bfa1-bulma_confined.min.css"
                    }
                   ],
                   "type": "async_block"
                  },
                  "mount_callbacks": [
                   "function () {\n    var handler = (function (ko, koPunches) {\n    ko.punches.enableAll();\n    ko.bindingHandlers.numericValue = {\n        init: function(element, valueAccessor, allBindings, data, context) {\n            var stringified = ko.observable(ko.unwrap(valueAccessor()));\n            stringified.subscribe(function(value) {\n                var val = parseFloat(value);\n                if (!isNaN(val)) {\n                    valueAccessor()(val);\n                }\n            });\n            valueAccessor().subscribe(function(value) {\n                var str = JSON.stringify(value);\n                if ((str == \"0\") && ([\"-0\", \"-0.\"].indexOf(stringified()) >= 0))\n                     return;\n                 if ([\"null\", \"\"].indexOf(str) >= 0)\n                     return;\n                stringified(str);\n            });\n            ko.applyBindingsToNode(\n                element,\n                {\n                    value: stringified,\n                    valueUpdate: allBindings.get('valueUpdate'),\n                },\n                context,\n            );\n        }\n    };\n    var json_data = {\"formatted_vals\":[\"1\",\"2\",\"3\",\"4\",\"5\",\"6\",\"7\",\"8\",\"9\",\"10\",\"11\",\"12\"],\"changes\":WebIO.getval({\"name\":\"changes\",\"scope\":\"17730975702066225676\",\"id\":\"5387277045240502324\",\"type\":\"observable\"}),\"index\":WebIO.getval({\"name\":\"index\",\"scope\":\"17730975702066225676\",\"id\":\"15235961013905408657\",\"type\":\"observable\"})};\n    var self = this;\n    function AppViewModel() {\n        for (var key in json_data) {\n            var el = json_data[key];\n            this[key] = Array.isArray(el) ? ko.observableArray(el) : ko.observable(el);\n        }\n        \n        [this[\"formatted_val\"]=ko.computed(    function(){\n        return this.formatted_vals()[parseInt(this.index())-(1)];\n    }\n,this)]\n        [this[\"changes\"].subscribe((function (val){!(this.valueFromJulia[\"changes\"]) ? (WebIO.setval({\"name\":\"changes\",\"scope\":\"17730975702066225676\",\"id\":\"5387277045240502324\",\"type\":\"observable\"},val)) : undefined; return this.valueFromJulia[\"changes\"]=false}),self),this[\"index\"].subscribe((function (val){!(this.valueFromJulia[\"index\"]) ? (WebIO.setval({\"name\":\"index\",\"scope\":\"17730975702066225676\",\"id\":\"15235961013905408657\",\"type\":\"observable\"},val)) : undefined; return this.valueFromJulia[\"index\"]=false}),self)]\n        \n    }\n    self.model = new AppViewModel();\n    self.valueFromJulia = {};\n    for (var key in json_data) {\n        self.valueFromJulia[key] = false;\n    }\n    ko.applyBindings(self.model, self.dom);\n}\n);\n    (WebIO.importBlock({\"data\":[{\"name\":\"knockout\",\"type\":\"js\",\"url\":\"/assetserver/727383f2a47bd31570b7da84eee7b022dd6d7c78-knockout.js\"},{\"name\":\"knockout_punches\",\"type\":\"js\",\"url\":\"/assetserver/382b41b3b1bd9f26f75861d360bad7f8beea211f-knockout_punches.js\"}],\"type\":\"async_block\"})).then((imports) => handler.apply(this, imports));\n}\n"
                  ],
                  "observables": {
                   "changes": {
                    "id": "5387277045240502324",
                    "sync": false,
                    "value": 0
                   },
                   "index": {
                    "id": "15235961013905408657",
                    "sync": true,
                    "value": 6
                   }
                  },
                  "systemjs_options": null
                 },
                 "nodeType": "Scope",
                 "props": {},
                 "type": "node"
                }
               ],
               "instanceArgs": {
                "namespace": "html",
                "tag": "div"
               },
               "nodeType": "DOM",
               "props": {
                "className": "field interact-widget"
               },
               "type": "node"
              }
             ],
             "instanceArgs": {
              "namespace": "html",
              "tag": "div"
             },
             "nodeType": "DOM",
             "props": {
              "style": {
               "display": "flex",
               "flex-direction": "column"
              }
             },
             "type": "node"
            },
            {
             "children": [
              {
               "children": [
                {
                 "children": [
                  {
                   "children": [],
                   "instanceArgs": {
                    "namespace": "html",
                    "tag": "div"
                   },
                   "nodeType": "DOM",
                   "props": {
                    "id": "container"
                   },
                   "type": "node"
                  }
                 ],
                 "instanceArgs": {
                  "handlers": {
                   "value": [
                    "(function (txt){return this.k.render(txt,this.container)})"
                   ]
                  },
                  "id": "456848532927861285",
                  "imports": {
                   "data": [
                    {
                     "name": null,
                     "type": "js",
                     "url": "/assetserver/dd22ed1bf1896c2748f3fe616ce0b838adc895c1-katex.min.js"
                    },
                    {
                     "name": null,
                     "type": "css",
                     "url": "/assetserver/46517a424aa5e6cffc1360d7e0848b601c584ee3-katex.min.css"
                    }
                   ],
                   "type": "async_block"
                  },
                  "mount_callbacks": [
                   "function () {\n    var handler = ((function (k){this.k=k; this.container=this.dom.querySelector(\"#container\"); return k.render(\"\\\\;\\\\;\",this.container)}));\n    (WebIO.importBlock({\"data\":[{\"name\":null,\"type\":\"js\",\"url\":\"/assetserver/dd22ed1bf1896c2748f3fe616ce0b838adc895c1-katex.min.js\"},{\"name\":null,\"type\":\"css\",\"url\":\"/assetserver/46517a424aa5e6cffc1360d7e0848b601c584ee3-katex.min.css\"}],\"type\":\"async_block\"})).then((imports) => handler.apply(this, imports));\n}\n"
                  ],
                  "observables": {
                   "value": {
                    "id": "3556972715381726054",
                    "sync": false,
                    "value": "\\;\\;"
                   }
                  },
                  "systemjs_options": null
                 },
                 "nodeType": "Scope",
                 "props": {},
                 "type": "node"
                }
               ],
               "instanceArgs": {
                "namespace": "html",
                "tag": "div"
               },
               "nodeType": "DOM",
               "props": {
                "className": "interact-widget"
               },
               "type": "node"
              },
              {
               "children": [
                {
                 "children": [
                  {
                   "children": [
                    "run"
                   ],
                   "instanceArgs": {
                    "namespace": "html",
                    "tag": "button"
                   },
                   "nodeType": "DOM",
                   "props": {
                    "attributes": {
                     "data-bind": "click: function (){this.clicks(this.clicks()+1)}, css: {'is-loading' : loading}"
                    },
                    "className": "is-medium button is-primary",
                    "style": {}
                   },
                   "type": "node"
                  }
                 ],
                 "instanceArgs": {
                  "handlers": {
                   "clicks": [
                    "(function (val){return (val!=this.model[\"clicks\"]()) ? (this.valueFromJulia[\"clicks\"]=true, this.model[\"clicks\"](val)) : undefined})"
                   ],
                   "loading": [
                    "(function (val){return (val!=this.model[\"loading\"]()) ? (this.valueFromJulia[\"loading\"]=true, this.model[\"loading\"](val)) : undefined})"
                   ]
                  },
                  "id": "8394736863804055434",
                  "imports": {
                   "data": [
                    {
                     "name": "knockout",
                     "type": "js",
                     "url": "/assetserver/727383f2a47bd31570b7da84eee7b022dd6d7c78-knockout.js"
                    },
                    {
                     "name": "knockout_punches",
                     "type": "js",
                     "url": "/assetserver/382b41b3b1bd9f26f75861d360bad7f8beea211f-knockout_punches.js"
                    },
                    {
                     "name": null,
                     "type": "js",
                     "url": "/assetserver/5ab20f1060420992a9b82a65b735dee4d81ef413-all.js"
                    },
                    {
                     "name": null,
                     "type": "css",
                     "url": "/assetserver/1cc0ed62837210b80a182cc3676512f895dab686-style.css"
                    },
                    {
                     "name": null,
                     "type": "css",
                     "url": "/assetserver/2eee816f616df3549d7044d45e744fbf8d42bfa1-bulma_confined.min.css"
                    }
                   ],
                   "type": "async_block"
                  },
                  "mount_callbacks": [
                   "function () {\n    var handler = (function (ko, koPunches) {\n    ko.punches.enableAll();\n    ko.bindingHandlers.numericValue = {\n        init: function(element, valueAccessor, allBindings, data, context) {\n            var stringified = ko.observable(ko.unwrap(valueAccessor()));\n            stringified.subscribe(function(value) {\n                var val = parseFloat(value);\n                if (!isNaN(val)) {\n                    valueAccessor()(val);\n                }\n            });\n            valueAccessor().subscribe(function(value) {\n                var str = JSON.stringify(value);\n                if ((str == \"0\") && ([\"-0\", \"-0.\"].indexOf(stringified()) >= 0))\n                     return;\n                 if ([\"null\", \"\"].indexOf(str) >= 0)\n                     return;\n                stringified(str);\n            });\n            ko.applyBindingsToNode(\n                element,\n                {\n                    value: stringified,\n                    valueUpdate: allBindings.get('valueUpdate'),\n                },\n                context,\n            );\n        }\n    };\n    var json_data = {\"loading\":WebIO.getval({\"name\":\"loading\",\"scope\":\"8394736863804055434\",\"id\":\"12622339386073332162\",\"type\":\"observable\"}),\"clicks\":WebIO.getval({\"name\":\"clicks\",\"scope\":\"8394736863804055434\",\"id\":\"10846557478153191981\",\"type\":\"observable\"})};\n    var self = this;\n    function AppViewModel() {\n        for (var key in json_data) {\n            var el = json_data[key];\n            this[key] = Array.isArray(el) ? ko.observableArray(el) : ko.observable(el);\n        }\n        \n        \n        [this[\"loading\"].subscribe((function (val){!(this.valueFromJulia[\"loading\"]) ? (WebIO.setval({\"name\":\"loading\",\"scope\":\"8394736863804055434\",\"id\":\"12622339386073332162\",\"type\":\"observable\"},val)) : undefined; return this.valueFromJulia[\"loading\"]=false}),self),this[\"clicks\"].subscribe((function (val){!(this.valueFromJulia[\"clicks\"]) ? (WebIO.setval({\"name\":\"clicks\",\"scope\":\"8394736863804055434\",\"id\":\"10846557478153191981\",\"type\":\"observable\"},val)) : undefined; return this.valueFromJulia[\"clicks\"]=false}),self)]\n        \n    }\n    self.model = new AppViewModel();\n    self.valueFromJulia = {};\n    for (var key in json_data) {\n        self.valueFromJulia[key] = false;\n    }\n    ko.applyBindings(self.model, self.dom);\n}\n);\n    (WebIO.importBlock({\"data\":[{\"name\":\"knockout\",\"type\":\"js\",\"url\":\"/assetserver/727383f2a47bd31570b7da84eee7b022dd6d7c78-knockout.js\"},{\"name\":\"knockout_punches\",\"type\":\"js\",\"url\":\"/assetserver/382b41b3b1bd9f26f75861d360bad7f8beea211f-knockout_punches.js\"}],\"type\":\"async_block\"})).then((imports) => handler.apply(this, imports));\n}\n"
                  ],
                  "observables": {
                   "clicks": {
                    "id": "10846557478153191981",
                    "sync": true,
                    "value": 0
                   },
                   "loading": {
                    "id": "12622339386073332162",
                    "sync": false,
                    "value": false
                   }
                  },
                  "systemjs_options": null
                 },
                 "nodeType": "Scope",
                 "props": {},
                 "type": "node"
                }
               ],
               "instanceArgs": {
                "namespace": "html",
                "tag": "div"
               },
               "nodeType": "DOM",
               "props": {
                "className": "field interact-widget"
               },
               "type": "node"
              },
              {
               "children": [
                {
                 "children": [
                  {
                   "children": [],
                   "instanceArgs": {
                    "namespace": "html",
                    "tag": "div"
                   },
                   "nodeType": "DOM",
                   "props": {
                    "id": "container"
                   },
                   "type": "node"
                  }
                 ],
                 "instanceArgs": {
                  "handlers": {
                   "value": [
                    "(function (txt){return this.k.render(txt,this.container)})"
                   ]
                  },
                  "id": "456848532927861285",
                  "imports": {
                   "data": [
                    {
                     "name": null,
                     "type": "js",
                     "url": "/assetserver/dd22ed1bf1896c2748f3fe616ce0b838adc895c1-katex.min.js"
                    },
                    {
                     "name": null,
                     "type": "css",
                     "url": "/assetserver/46517a424aa5e6cffc1360d7e0848b601c584ee3-katex.min.css"
                    }
                   ],
                   "type": "async_block"
                  },
                  "mount_callbacks": [
                   "function () {\n    var handler = ((function (k){this.k=k; this.container=this.dom.querySelector(\"#container\"); return k.render(\"\\\\;\\\\;\",this.container)}));\n    (WebIO.importBlock({\"data\":[{\"name\":null,\"type\":\"js\",\"url\":\"/assetserver/dd22ed1bf1896c2748f3fe616ce0b838adc895c1-katex.min.js\"},{\"name\":null,\"type\":\"css\",\"url\":\"/assetserver/46517a424aa5e6cffc1360d7e0848b601c584ee3-katex.min.css\"}],\"type\":\"async_block\"})).then((imports) => handler.apply(this, imports));\n}\n"
                  ],
                  "observables": {
                   "value": {
                    "id": "3556972715381726054",
                    "sync": false,
                    "value": "\\;\\;"
                   }
                  },
                  "systemjs_options": null
                 },
                 "nodeType": "Scope",
                 "props": {},
                 "type": "node"
                }
               ],
               "instanceArgs": {
                "namespace": "html",
                "tag": "div"
               },
               "nodeType": "DOM",
               "props": {
                "className": "interact-widget"
               },
               "type": "node"
              },
              {
               "children": [
                {
                 "children": [
                  {
                   "children": [
                    "stop"
                   ],
                   "instanceArgs": {
                    "namespace": "html",
                    "tag": "button"
                   },
                   "nodeType": "DOM",
                   "props": {
                    "attributes": {
                     "data-bind": "click: function (){this.clicks(this.clicks()+1)}, css: {'is-loading' : loading}"
                    },
                    "className": "is-medium button is-primary",
                    "style": {}
                   },
                   "type": "node"
                  }
                 ],
                 "instanceArgs": {
                  "handlers": {
                   "clicks": [
                    "(function (val){return (val!=this.model[\"clicks\"]()) ? (this.valueFromJulia[\"clicks\"]=true, this.model[\"clicks\"](val)) : undefined})"
                   ],
                   "loading": [
                    "(function (val){return (val!=this.model[\"loading\"]()) ? (this.valueFromJulia[\"loading\"]=true, this.model[\"loading\"](val)) : undefined})"
                   ]
                  },
                  "id": "382730035158362734",
                  "imports": {
                   "data": [
                    {
                     "name": "knockout",
                     "type": "js",
                     "url": "/assetserver/727383f2a47bd31570b7da84eee7b022dd6d7c78-knockout.js"
                    },
                    {
                     "name": "knockout_punches",
                     "type": "js",
                     "url": "/assetserver/382b41b3b1bd9f26f75861d360bad7f8beea211f-knockout_punches.js"
                    },
                    {
                     "name": null,
                     "type": "js",
                     "url": "/assetserver/5ab20f1060420992a9b82a65b735dee4d81ef413-all.js"
                    },
                    {
                     "name": null,
                     "type": "css",
                     "url": "/assetserver/1cc0ed62837210b80a182cc3676512f895dab686-style.css"
                    },
                    {
                     "name": null,
                     "type": "css",
                     "url": "/assetserver/2eee816f616df3549d7044d45e744fbf8d42bfa1-bulma_confined.min.css"
                    }
                   ],
                   "type": "async_block"
                  },
                  "mount_callbacks": [
                   "function () {\n    var handler = (function (ko, koPunches) {\n    ko.punches.enableAll();\n    ko.bindingHandlers.numericValue = {\n        init: function(element, valueAccessor, allBindings, data, context) {\n            var stringified = ko.observable(ko.unwrap(valueAccessor()));\n            stringified.subscribe(function(value) {\n                var val = parseFloat(value);\n                if (!isNaN(val)) {\n                    valueAccessor()(val);\n                }\n            });\n            valueAccessor().subscribe(function(value) {\n                var str = JSON.stringify(value);\n                if ((str == \"0\") && ([\"-0\", \"-0.\"].indexOf(stringified()) >= 0))\n                     return;\n                 if ([\"null\", \"\"].indexOf(str) >= 0)\n                     return;\n                stringified(str);\n            });\n            ko.applyBindingsToNode(\n                element,\n                {\n                    value: stringified,\n                    valueUpdate: allBindings.get('valueUpdate'),\n                },\n                context,\n            );\n        }\n    };\n    var json_data = {\"loading\":WebIO.getval({\"name\":\"loading\",\"scope\":\"382730035158362734\",\"id\":\"17838893324188257279\",\"type\":\"observable\"}),\"clicks\":WebIO.getval({\"name\":\"clicks\",\"scope\":\"382730035158362734\",\"id\":\"16861071382643076419\",\"type\":\"observable\"})};\n    var self = this;\n    function AppViewModel() {\n        for (var key in json_data) {\n            var el = json_data[key];\n            this[key] = Array.isArray(el) ? ko.observableArray(el) : ko.observable(el);\n        }\n        \n        \n        [this[\"loading\"].subscribe((function (val){!(this.valueFromJulia[\"loading\"]) ? (WebIO.setval({\"name\":\"loading\",\"scope\":\"382730035158362734\",\"id\":\"17838893324188257279\",\"type\":\"observable\"},val)) : undefined; return this.valueFromJulia[\"loading\"]=false}),self),this[\"clicks\"].subscribe((function (val){!(this.valueFromJulia[\"clicks\"]) ? (WebIO.setval({\"name\":\"clicks\",\"scope\":\"382730035158362734\",\"id\":\"16861071382643076419\",\"type\":\"observable\"},val)) : undefined; return this.valueFromJulia[\"clicks\"]=false}),self)]\n        \n    }\n    self.model = new AppViewModel();\n    self.valueFromJulia = {};\n    for (var key in json_data) {\n        self.valueFromJulia[key] = false;\n    }\n    ko.applyBindings(self.model, self.dom);\n}\n);\n    (WebIO.importBlock({\"data\":[{\"name\":\"knockout\",\"type\":\"js\",\"url\":\"/assetserver/727383f2a47bd31570b7da84eee7b022dd6d7c78-knockout.js\"},{\"name\":\"knockout_punches\",\"type\":\"js\",\"url\":\"/assetserver/382b41b3b1bd9f26f75861d360bad7f8beea211f-knockout_punches.js\"}],\"type\":\"async_block\"})).then((imports) => handler.apply(this, imports));\n}\n"
                  ],
                  "observables": {
                   "clicks": {
                    "id": "16861071382643076419",
                    "sync": true,
                    "value": 0
                   },
                   "loading": {
                    "id": "17838893324188257279",
                    "sync": false,
                    "value": false
                   }
                  },
                  "systemjs_options": null
                 },
                 "nodeType": "Scope",
                 "props": {},
                 "type": "node"
                }
               ],
               "instanceArgs": {
                "namespace": "html",
                "tag": "div"
               },
               "nodeType": "DOM",
               "props": {
                "className": "field interact-widget"
               },
               "type": "node"
              },
              {
               "children": [
                {
                 "children": [
                  {
                   "children": [],
                   "instanceArgs": {
                    "namespace": "html",
                    "tag": "div"
                   },
                   "nodeType": "DOM",
                   "props": {
                    "id": "container"
                   },
                   "type": "node"
                  }
                 ],
                 "instanceArgs": {
                  "handlers": {
                   "value": [
                    "(function (txt){return this.k.render(txt,this.container)})"
                   ]
                  },
                  "id": "456848532927861285",
                  "imports": {
                   "data": [
                    {
                     "name": null,
                     "type": "js",
                     "url": "/assetserver/dd22ed1bf1896c2748f3fe616ce0b838adc895c1-katex.min.js"
                    },
                    {
                     "name": null,
                     "type": "css",
                     "url": "/assetserver/46517a424aa5e6cffc1360d7e0848b601c584ee3-katex.min.css"
                    }
                   ],
                   "type": "async_block"
                  },
                  "mount_callbacks": [
                   "function () {\n    var handler = ((function (k){this.k=k; this.container=this.dom.querySelector(\"#container\"); return k.render(\"\\\\;\\\\;\",this.container)}));\n    (WebIO.importBlock({\"data\":[{\"name\":null,\"type\":\"js\",\"url\":\"/assetserver/dd22ed1bf1896c2748f3fe616ce0b838adc895c1-katex.min.js\"},{\"name\":null,\"type\":\"css\",\"url\":\"/assetserver/46517a424aa5e6cffc1360d7e0848b601c584ee3-katex.min.css\"}],\"type\":\"async_block\"})).then((imports) => handler.apply(this, imports));\n}\n"
                  ],
                  "observables": {
                   "value": {
                    "id": "3556972715381726054",
                    "sync": false,
                    "value": "\\;\\;"
                   }
                  },
                  "systemjs_options": null
                 },
                 "nodeType": "Scope",
                 "props": {},
                 "type": "node"
                }
               ],
               "instanceArgs": {
                "namespace": "html",
                "tag": "div"
               },
               "nodeType": "DOM",
               "props": {
                "className": "interact-widget"
               },
               "type": "node"
              },
              {
               "children": [
                {
                 "children": [
                  {
                   "children": [
                    "reset"
                   ],
                   "instanceArgs": {
                    "namespace": "html",
                    "tag": "button"
                   },
                   "nodeType": "DOM",
                   "props": {
                    "attributes": {
                     "data-bind": "click: function (){this.clicks(this.clicks()+1)}, css: {'is-loading' : loading}"
                    },
                    "className": "is-medium button is-primary",
                    "style": {}
                   },
                   "type": "node"
                  }
                 ],
                 "instanceArgs": {
                  "handlers": {
                   "clicks": [
                    "(function (val){return (val!=this.model[\"clicks\"]()) ? (this.valueFromJulia[\"clicks\"]=true, this.model[\"clicks\"](val)) : undefined})"
                   ],
                   "loading": [
                    "(function (val){return (val!=this.model[\"loading\"]()) ? (this.valueFromJulia[\"loading\"]=true, this.model[\"loading\"](val)) : undefined})"
                   ]
                  },
                  "id": "6056948752172439357",
                  "imports": {
                   "data": [
                    {
                     "name": "knockout",
                     "type": "js",
                     "url": "/assetserver/727383f2a47bd31570b7da84eee7b022dd6d7c78-knockout.js"
                    },
                    {
                     "name": "knockout_punches",
                     "type": "js",
                     "url": "/assetserver/382b41b3b1bd9f26f75861d360bad7f8beea211f-knockout_punches.js"
                    },
                    {
                     "name": null,
                     "type": "js",
                     "url": "/assetserver/5ab20f1060420992a9b82a65b735dee4d81ef413-all.js"
                    },
                    {
                     "name": null,
                     "type": "css",
                     "url": "/assetserver/1cc0ed62837210b80a182cc3676512f895dab686-style.css"
                    },
                    {
                     "name": null,
                     "type": "css",
                     "url": "/assetserver/2eee816f616df3549d7044d45e744fbf8d42bfa1-bulma_confined.min.css"
                    }
                   ],
                   "type": "async_block"
                  },
                  "mount_callbacks": [
                   "function () {\n    var handler = (function (ko, koPunches) {\n    ko.punches.enableAll();\n    ko.bindingHandlers.numericValue = {\n        init: function(element, valueAccessor, allBindings, data, context) {\n            var stringified = ko.observable(ko.unwrap(valueAccessor()));\n            stringified.subscribe(function(value) {\n                var val = parseFloat(value);\n                if (!isNaN(val)) {\n                    valueAccessor()(val);\n                }\n            });\n            valueAccessor().subscribe(function(value) {\n                var str = JSON.stringify(value);\n                if ((str == \"0\") && ([\"-0\", \"-0.\"].indexOf(stringified()) >= 0))\n                     return;\n                 if ([\"null\", \"\"].indexOf(str) >= 0)\n                     return;\n                stringified(str);\n            });\n            ko.applyBindingsToNode(\n                element,\n                {\n                    value: stringified,\n                    valueUpdate: allBindings.get('valueUpdate'),\n                },\n                context,\n            );\n        }\n    };\n    var json_data = {\"loading\":WebIO.getval({\"name\":\"loading\",\"scope\":\"6056948752172439357\",\"id\":\"2432278001235905778\",\"type\":\"observable\"}),\"clicks\":WebIO.getval({\"name\":\"clicks\",\"scope\":\"6056948752172439357\",\"id\":\"14241215273019987939\",\"type\":\"observable\"})};\n    var self = this;\n    function AppViewModel() {\n        for (var key in json_data) {\n            var el = json_data[key];\n            this[key] = Array.isArray(el) ? ko.observableArray(el) : ko.observable(el);\n        }\n        \n        \n        [this[\"loading\"].subscribe((function (val){!(this.valueFromJulia[\"loading\"]) ? (WebIO.setval({\"name\":\"loading\",\"scope\":\"6056948752172439357\",\"id\":\"2432278001235905778\",\"type\":\"observable\"},val)) : undefined; return this.valueFromJulia[\"loading\"]=false}),self),this[\"clicks\"].subscribe((function (val){!(this.valueFromJulia[\"clicks\"]) ? (WebIO.setval({\"name\":\"clicks\",\"scope\":\"6056948752172439357\",\"id\":\"14241215273019987939\",\"type\":\"observable\"},val)) : undefined; return this.valueFromJulia[\"clicks\"]=false}),self)]\n        \n    }\n    self.model = new AppViewModel();\n    self.valueFromJulia = {};\n    for (var key in json_data) {\n        self.valueFromJulia[key] = false;\n    }\n    ko.applyBindings(self.model, self.dom);\n}\n);\n    (WebIO.importBlock({\"data\":[{\"name\":\"knockout\",\"type\":\"js\",\"url\":\"/assetserver/727383f2a47bd31570b7da84eee7b022dd6d7c78-knockout.js\"},{\"name\":\"knockout_punches\",\"type\":\"js\",\"url\":\"/assetserver/382b41b3b1bd9f26f75861d360bad7f8beea211f-knockout_punches.js\"}],\"type\":\"async_block\"})).then((imports) => handler.apply(this, imports));\n}\n"
                  ],
                  "observables": {
                   "clicks": {
                    "id": "14241215273019987939",
                    "sync": true,
                    "value": 0
                   },
                   "loading": {
                    "id": "2432278001235905778",
                    "sync": false,
                    "value": false
                   }
                  },
                  "systemjs_options": null
                 },
                 "nodeType": "Scope",
                 "props": {},
                 "type": "node"
                }
               ],
               "instanceArgs": {
                "namespace": "html",
                "tag": "div"
               },
               "nodeType": "DOM",
               "props": {
                "className": "field interact-widget"
               },
               "type": "node"
              }
             ],
             "instanceArgs": {
              "namespace": "html",
              "tag": "div"
             },
             "nodeType": "DOM",
             "props": {
              "style": {
               "display": "flex",
               "flex-direction": "row"
              }
             },
             "type": "node"
            }
           ],
           "instanceArgs": {
            "namespace": "html",
            "tag": "div"
           },
           "nodeType": "DOM",
           "props": {
            "style": {
             "display": "flex",
             "flex-direction": "column"
            }
           },
           "type": "node"
          },
          {
           "children": [
            {
             "children": [],
             "instanceArgs": {
              "namespace": "html",
              "tag": "div"
             },
             "nodeType": "DOM",
             "props": {
              "className": "webio-observable",
              "setInnerHtml": "    <div style=\"height: 500px; width: 100%; overflow-x: auto; overflow-y: hidden; resize: both\">\n    <iframe src=\"http://127.0.0.1:8702\" style=\"width: 100%; height: 100%; border: none\"></iframe>\n    </div>\n"
             },
             "type": "node"
            }
           ],
           "instanceArgs": {
            "handlers": {
             "obs-output": [
              "function (value, scope) {\n    scope.setInnerHTML(value);\n}\n"
             ]
            },
            "id": "2423258541834111901",
            "imports": {
             "data": [],
             "type": "async_block"
            },
            "mount_callbacks": [],
            "observables": {
             "obs-output": {
              "id": "13601114752973093051",
              "sync": false,
              "value": "    <div style=\"height: 500px; width: 100%; overflow-x: auto; overflow-y: hidden; resize: both\">\n    <iframe src=\"http://127.0.0.1:8702\" style=\"width: 100%; height: 100%; border: none\"></iframe>\n    </div>\n"
             }
            },
            "systemjs_options": null
           },
           "nodeType": "Scope",
           "props": {},
           "type": "node"
          },
          {
           "children": [
            {
             "children": [
              {
               "children": [],
               "instanceArgs": {
                "namespace": "html",
                "tag": "div"
               },
               "nodeType": "DOM",
               "props": {
                "id": "container"
               },
               "type": "node"
              }
             ],
             "instanceArgs": {
              "handlers": {
               "value": [
                "(function (txt){return this.k.render(txt,this.container)})"
               ]
              },
              "id": "456848532927861285",
              "imports": {
               "data": [
                {
                 "name": null,
                 "type": "js",
                 "url": "/assetserver/dd22ed1bf1896c2748f3fe616ce0b838adc895c1-katex.min.js"
                },
                {
                 "name": null,
                 "type": "css",
                 "url": "/assetserver/46517a424aa5e6cffc1360d7e0848b601c584ee3-katex.min.css"
                }
               ],
               "type": "async_block"
              },
              "mount_callbacks": [
               "function () {\n    var handler = ((function (k){this.k=k; this.container=this.dom.querySelector(\"#container\"); return k.render(\"\\\\;\\\\;\",this.container)}));\n    (WebIO.importBlock({\"data\":[{\"name\":null,\"type\":\"js\",\"url\":\"/assetserver/dd22ed1bf1896c2748f3fe616ce0b838adc895c1-katex.min.js\"},{\"name\":null,\"type\":\"css\",\"url\":\"/assetserver/46517a424aa5e6cffc1360d7e0848b601c584ee3-katex.min.css\"}],\"type\":\"async_block\"})).then((imports) => handler.apply(this, imports));\n}\n"
              ],
              "observables": {
               "value": {
                "id": "3556972715381726054",
                "sync": false,
                "value": "\\;\\;"
               }
              },
              "systemjs_options": null
             },
             "nodeType": "Scope",
             "props": {},
             "type": "node"
            }
           ],
           "instanceArgs": {
            "namespace": "html",
            "tag": "div"
           },
           "nodeType": "DOM",
           "props": {
            "className": "interact-widget"
           },
           "type": "node"
          },
          {
           "children": [
            {
             "children": [
              {
               "children": [],
               "instanceArgs": {
                "namespace": "html",
                "tag": "div"
               },
               "nodeType": "DOM",
               "props": {
                "className": "webio-observable",
                "setInnerHtml": "<img src=\"data:image/png;base64,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\" />"
               },
               "type": "node"
              }
             ],
             "instanceArgs": {
              "handlers": {
               "obs-output": [
                "function (value, scope) {\n    scope.setInnerHTML(value);\n}\n"
               ]
              },
              "id": "12718002670013232806",
              "imports": {
               "data": [],
               "type": "async_block"
              },
              "mount_callbacks": [],
              "observables": {
               "obs-output": {
                "id": "11766936794281583334",
                "sync": false,
                "value": "<img src=\"data:image/png;base64,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\" />"
               }
              },
              "systemjs_options": null
             },
             "nodeType": "Scope",
             "props": {},
             "type": "node"
            }
           ],
           "instanceArgs": {
            "namespace": "html",
            "tag": "div"
           },
           "nodeType": "DOM",
           "props": {
            "style": {
             "display": "flex",
             "flex-direction": "column"
            }
           },
           "type": "node"
          }
         ],
         "instanceArgs": {
          "namespace": "html",
          "tag": "div"
         },
         "nodeType": "DOM",
         "props": {
          "style": {
           "display": "flex",
           "flex-direction": "row"
          }
         },
         "type": "node"
        }
       ],
       "instanceArgs": {
        "namespace": "html",
        "tag": "div"
       },
       "nodeType": "DOM",
       "props": {
        "style": {
         "display": "flex",
         "flex-direction": "column"
        }
       },
       "type": "node"
      },
      "text/html": [
       "<div\n",
       "    class=\"webio-mountpoint\"\n",
       "    data-webio-mountpoint=\"6315425194633859764\"\n",
       ">\n",
       "    <script>\n",
       "    (function(){\n",
       "    // Some integrations (namely, IJulia/Jupyter) use an alternate render pathway than\n",
       "    // just putting the html on the page. If WebIO isn't defined, then it's pretty likely\n",
       "    // that we're in one of those situations and the integration just isn't installed\n",
       "    // correctly.\n",
       "    if (typeof window.WebIO === \"undefined\") {\n",
       "        document\n",
       "            .querySelector('[data-webio-mountpoint=\"6315425194633859764\"]')\n",
       "            .innerHTML = (\n",
       "                '<div style=\"padding: 1em; background-color: #f8d6da; border: 1px solid #f5c6cb; font-weight: bold;\">' +\n",
       "                '<p><strong>WebIO not detected.</strong></p>' +\n",
       "                '<p>Please read ' +\n",
       "                '<a href=\"https://juliagizmos.github.io/WebIO.jl/latest/troubleshooting/not-detected/\" target=\"_blank\">the troubleshooting guide</a> ' +\n",
       "                'for more information on how to resolve this issue.</p>' +\n",
       "                '<p><a href=\"https://juliagizmos.github.io/WebIO.jl/latest/troubleshooting/not-detected/\" target=\"_blank\">https://juliagizmos.github.io/WebIO.jl/latest/troubleshooting/not-detected/</a></p>' +\n",
       "                '</div>'\n",
       "            );\n",
       "        return;\n",
       "    }\n",
       "    WebIO.mount(\n",
       "        document.querySelector('[data-webio-mountpoint=\"6315425194633859764\"]'),\n",
       "        {\"props\":{\"style\":{\"display\":\"flex\",\"flex-direction\":\"column\"}},\"nodeType\":\"DOM\",\"type\":\"node\",\"instanceArgs\":{\"namespace\":\"html\",\"tag\":\"div\"},\"children\":[{\"props\":{\"style\":{\"display\":\"flex\",\"flex-direction\":\"row\"}},\"nodeType\":\"DOM\",\"type\":\"node\",\"instanceArgs\":{\"namespace\":\"html\",\"tag\":\"div\"},\"children\":[{\"props\":{\"style\":{\"display\":\"flex\",\"flex-direction\":\"column\"}},\"nodeType\":\"DOM\",\"type\":\"node\",\"instanceArgs\":{\"namespace\":\"html\",\"tag\":\"div\"},\"children\":[{\"props\":{\"className\":\"field interact-widget\"},\"nodeType\":\"DOM\",\"type\":\"node\",\"instanceArgs\":{\"namespace\":\"html\",\"tag\":\"div\"},\"children\":[{\"props\":{},\"nodeType\":\"Scope\",\"type\":\"node\",\"instanceArgs\":{\"imports\":{\"data\":[{\"name\":\"knockout\",\"type\":\"js\",\"url\":\"\\/assetserver\\/727383f2a47bd31570b7da84eee7b022dd6d7c78-knockout.js\"},{\"name\":\"knockout_punches\",\"type\":\"js\",\"url\":\"\\/assetserver\\/382b41b3b1bd9f26f75861d360bad7f8beea211f-knockout_punches.js\"},{\"name\":null,\"type\":\"js\",\"url\":\"\\/assetserver\\/5ab20f1060420992a9b82a65b735dee4d81ef413-all.js\"},{\"name\":null,\"type\":\"css\",\"url\":\"\\/assetserver\\/1cc0ed62837210b80a182cc3676512f895dab686-style.css\"},{\"name\":null,\"type\":\"css\",\"url\":\"\\/assetserver\\/2eee816f616df3549d7044d45e744fbf8d42bfa1-bulma_confined.min.css\"}],\"type\":\"async_block\"},\"id\":\"5112544354733393210\",\"handlers\":{\"changes\":[\"(function (val){return (val!=this.model[\\\"changes\\\"]()) ? (this.valueFromJulia[\\\"changes\\\"]=true, this.model[\\\"changes\\\"](val)) : undefined})\"],\"index\":[\"(function (val){return (val!=this.model[\\\"index\\\"]()) ? (this.valueFromJulia[\\\"index\\\"]=true, this.model[\\\"index\\\"](val)) : undefined})\"]},\"systemjs_options\":null,\"mount_callbacks\":[\"function () {\\n    var handler = (function (ko, koPunches) {\\n    ko.punches.enableAll();\\n    ko.bindingHandlers.numericValue = {\\n        init: function(element, valueAccessor, allBindings, data, context) {\\n            var stringified = ko.observable(ko.unwrap(valueAccessor()));\\n            stringified.subscribe(function(value) {\\n                var val = parseFloat(value);\\n                if (!isNaN(val)) {\\n                    valueAccessor()(val);\\n                }\\n            });\\n            valueAccessor().subscribe(function(value) {\\n                var str = JSON.stringify(value);\\n                if ((str == \\\"0\\\") && ([\\\"-0\\\", \\\"-0.\\\"].indexOf(stringified()) >= 0))\\n                     return;\\n                 if ([\\\"null\\\", \\\"\\\"].indexOf(str) >= 0)\\n                     return;\\n                stringified(str);\\n            });\\n            ko.applyBindingsToNode(\\n                element,\\n                {\\n                    value: stringified,\\n                    valueUpdate: allBindings.get('valueUpdate'),\\n                },\\n                context,\\n            );\\n        }\\n    };\\n    var json_data = {\\\"formatted_vals\\\":[\\\"1\\\",\\\"2\\\",\\\"3\\\",\\\"4\\\",\\\"5\\\",\\\"6\\\",\\\"7\\\",\\\"8\\\",\\\"9\\\",\\\"10\\\",\\\"11\\\",\\\"12\\\",\\\"13\\\",\\\"14\\\",\\\"15\\\",\\\"16\\\",\\\"17\\\",\\\"18\\\",\\\"19\\\",\\\"20\\\",\\\"21\\\",\\\"22\\\",\\\"23\\\",\\\"24\\\",\\\"25\\\",\\\"26\\\",\\\"27\\\",\\\"28\\\",\\\"29\\\",\\\"30\\\",\\\"31\\\",\\\"32\\\",\\\"33\\\",\\\"34\\\",\\\"35\\\",\\\"36\\\",\\\"37\\\",\\\"38\\\",\\\"39\\\",\\\"40\\\",\\\"41\\\",\\\"42\\\",\\\"43\\\",\\\"44\\\",\\\"45\\\",\\\"46\\\",\\\"47\\\",\\\"48\\\",\\\"49\\\",\\\"50\\\",\\\"51\\\",\\\"52\\\",\\\"53\\\",\\\"54\\\",\\\"55\\\",\\\"56\\\",\\\"57\\\",\\\"58\\\",\\\"59\\\",\\\"60\\\",\\\"61\\\",\\\"62\\\",\\\"63\\\",\\\"64\\\",\\\"65\\\",\\\"66\\\",\\\"67\\\",\\\"68\\\",\\\"69\\\",\\\"70\\\",\\\"71\\\",\\\"72\\\",\\\"73\\\",\\\"74\\\",\\\"75\\\",\\\"76\\\",\\\"77\\\",\\\"78\\\",\\\"79\\\",\\\"80\\\",\\\"81\\\",\\\"82\\\",\\\"83\\\",\\\"84\\\",\\\"85\\\",\\\"86\\\",\\\"87\\\",\\\"88\\\",\\\"89\\\",\\\"90\\\",\\\"91\\\",\\\"92\\\",\\\"93\\\",\\\"94\\\",\\\"95\\\",\\\"96\\\",\\\"97\\\",\\\"98\\\",\\\"99\\\",\\\"100\\\",\\\"101\\\",\\\"102\\\",\\\"103\\\",\\\"104\\\",\\\"105\\\",\\\"106\\\",\\\"107\\\",\\\"108\\\",\\\"109\\\",\\\"110\\\",\\\"111\\\",\\\"112\\\",\\\"113\\\",\\\"114\\\",\\\"115\\\",\\\"116\\\",\\\"117\\\",\\\"118\\\",\\\"119\\\",\\\"120\\\",\\\"121\\\",\\\"122\\\",\\\"123\\\",\\\"124\\\",\\\"125\\\",\\\"126\\\",\\\"127\\\",\\\"128\\\",\\\"129\\\",\\\"130\\\",\\\"131\\\",\\\"132\\\",\\\"133\\\",\\\"134\\\",\\\"135\\\",\\\"136\\\",\\\"137\\\",\\\"138\\\",\\\"139\\\",\\\"140\\\",\\\"141\\\",\\\"142\\\",\\\"143\\\",\\\"144\\\",\\\"145\\\",\\\"146\\\",\\\"147\\\",\\\"148\\\",\\\"149\\\",\\\"150\\\",\\\"151\\\",\\\"152\\\",\\\"153\\\",\\\"154\\\",\\\"155\\\",\\\"156\\\",\\\"157\\\",\\\"158\\\",\\\"159\\\",\\\"160\\\",\\\"161\\\",\\\"162\\\",\\\"163\\\",\\\"164\\\",\\\"165\\\",\\\"166\\\",\\\"167\\\",\\\"168\\\",\\\"169\\\",\\\"170\\\",\\\"171\\\",\\\"172\\\",\\\"173\\\",\\\"174\\\",\\\"175\\\",\\\"176\\\",\\\"177\\\",\\\"178\\\",\\\"179\\\",\\\"180\\\",\\\"181\\\",\\\"182\\\",\\\"183\\\",\\\"184\\\",\\\"185\\\",\\\"186\\\",\\\"187\\\",\\\"188\\\",\\\"189\\\",\\\"190\\\",\\\"191\\\",\\\"192\\\",\\\"193\\\",\\\"194\\\",\\\"195\\\",\\\"196\\\",\\\"197\\\",\\\"198\\\",\\\"199\\\",\\\"200\\\"],\\\"changes\\\":WebIO.getval({\\\"name\\\":\\\"changes\\\",\\\"scope\\\":\\\"5112544354733393210\\\",\\\"id\\\":\\\"9707086538743638337\\\",\\\"type\\\":\\\"observable\\\"}),\\\"index\\\":WebIO.getval({\\\"name\\\":\\\"index\\\",\\\"scope\\\":\\\"5112544354733393210\\\",\\\"id\\\":\\\"17098102578537743131\\\",\\\"type\\\":\\\"observable\\\"})};\\n    var self = this;\\n    function AppViewModel() {\\n        for (var key in json_data) {\\n            var el = json_data[key];\\n            this[key] = Array.isArray(el) ? ko.observableArray(el) : ko.observable(el);\\n        }\\n        \\n        [this[\\\"formatted_val\\\"]=ko.computed(    function(){\\n        return this.formatted_vals()[parseInt(this.index())-(1)];\\n    }\\n,this)]\\n        [this[\\\"changes\\\"].subscribe((function (val){!(this.valueFromJulia[\\\"changes\\\"]) ? (WebIO.setval({\\\"name\\\":\\\"changes\\\",\\\"scope\\\":\\\"5112544354733393210\\\",\\\"id\\\":\\\"9707086538743638337\\\",\\\"type\\\":\\\"observable\\\"},val)) : undefined; return this.valueFromJulia[\\\"changes\\\"]=false}),self),this[\\\"index\\\"].subscribe((function (val){!(this.valueFromJulia[\\\"index\\\"]) ? (WebIO.setval({\\\"name\\\":\\\"index\\\",\\\"scope\\\":\\\"5112544354733393210\\\",\\\"id\\\":\\\"17098102578537743131\\\",\\\"type\\\":\\\"observable\\\"},val)) : undefined; return this.valueFromJulia[\\\"index\\\"]=false}),self)]\\n        \\n    }\\n    self.model = new AppViewModel();\\n    self.valueFromJulia = {};\\n    for (var key in json_data) {\\n        self.valueFromJulia[key] = false;\\n    }\\n    ko.applyBindings(self.model, self.dom);\\n}\\n);\\n    (WebIO.importBlock({\\\"data\\\":[{\\\"name\\\":\\\"knockout\\\",\\\"type\\\":\\\"js\\\",\\\"url\\\":\\\"\\/assetserver\\/727383f2a47bd31570b7da84eee7b022dd6d7c78-knockout.js\\\"},{\\\"name\\\":\\\"knockout_punches\\\",\\\"type\\\":\\\"js\\\",\\\"url\\\":\\\"\\/assetserver\\/382b41b3b1bd9f26f75861d360bad7f8beea211f-knockout_punches.js\\\"}],\\\"type\\\":\\\"async_block\\\"})).then((imports) => handler.apply(this, imports));\\n}\\n\"],\"observables\":{\"changes\":{\"sync\":false,\"id\":\"9707086538743638337\",\"value\":0},\"index\":{\"sync\":true,\"id\":\"17098102578537743131\",\"value\":1}}},\"children\":[{\"props\":{\"className\":\"interact-flex-row interact-widget\"},\"nodeType\":\"DOM\",\"type\":\"node\",\"instanceArgs\":{\"namespace\":\"html\",\"tag\":\"div\"},\"children\":[{\"props\":{\"className\":\"interact-flex-row-left\"},\"nodeType\":\"DOM\",\"type\":\"node\",\"instanceArgs\":{\"namespace\":\"html\",\"tag\":\"div\"},\"children\":[{\"props\":{\"className\":\"interact \",\"style\":{\"padding\":\"5px 10px 0px 10px\"}},\"nodeType\":\"DOM\",\"type\":\"node\",\"instanceArgs\":{\"namespace\":\"html\",\"tag\":\"label\"},\"children\":[\"time\"]}]},{\"props\":{\"className\":\"interact-flex-row-center\"},\"nodeType\":\"DOM\",\"type\":\"node\",\"instanceArgs\":{\"namespace\":\"html\",\"tag\":\"div\"},\"children\":[{\"props\":{\"max\":200,\"min\":1,\"attributes\":{\"type\":\"range\",\"data-bind\":\"numericValue: index, valueUpdate: 'input', event: {change: function (){this.changes(this.changes()+1)}}\",\"orient\":\"horizontal\"},\"step\":1,\"className\":\"slider slider is-fullwidth\",\"style\":{}},\"nodeType\":\"DOM\",\"type\":\"node\",\"instanceArgs\":{\"namespace\":\"html\",\"tag\":\"input\"},\"children\":[]}]},{\"props\":{\"className\":\"interact-flex-row-right\"},\"nodeType\":\"DOM\",\"type\":\"node\",\"instanceArgs\":{\"namespace\":\"html\",\"tag\":\"div\"},\"children\":[{\"props\":{\"attributes\":{\"data-bind\":\"text: formatted_val\"}},\"nodeType\":\"DOM\",\"type\":\"node\",\"instanceArgs\":{\"namespace\":\"html\",\"tag\":\"p\"},\"children\":[]}]}]}]}]},{\"props\":{\"className\":\"field interact-widget\"},\"nodeType\":\"DOM\",\"type\":\"node\",\"instanceArgs\":{\"namespace\":\"html\",\"tag\":\"div\"},\"children\":[{\"props\":{},\"nodeType\":\"Scope\",\"type\":\"node\",\"instanceArgs\":{\"imports\":{\"data\":[{\"name\":\"knockout\",\"type\":\"js\",\"url\":\"\\/assetserver\\/727383f2a47bd31570b7da84eee7b022dd6d7c78-knockout.js\"},{\"name\":\"knockout_punches\",\"type\":\"js\",\"url\":\"\\/assetserver\\/382b41b3b1bd9f26f75861d360bad7f8beea211f-knockout_punches.js\"},{\"name\":null,\"type\":\"js\",\"url\":\"\\/assetserver\\/5ab20f1060420992a9b82a65b735dee4d81ef413-all.js\"},{\"name\":null,\"type\":\"css\",\"url\":\"\\/assetserver\\/1cc0ed62837210b80a182cc3676512f895dab686-style.css\"},{\"name\":null,\"type\":\"css\",\"url\":\"\\/assetserver\\/2eee816f616df3549d7044d45e744fbf8d42bfa1-bulma_confined.min.css\"}],\"type\":\"async_block\"},\"id\":\"827457525681972731\",\"handlers\":{\"changes\":[\"(function (val){return (val!=this.model[\\\"changes\\\"]()) ? (this.valueFromJulia[\\\"changes\\\"]=true, this.model[\\\"changes\\\"](val)) : undefined})\"],\"index\":[\"(function (val){return (val!=this.model[\\\"index\\\"]()) ? (this.valueFromJulia[\\\"index\\\"]=true, this.model[\\\"index\\\"](val)) : undefined})\"]},\"systemjs_options\":null,\"mount_callbacks\":[\"function () {\\n    var handler = (function (ko, koPunches) {\\n    ko.punches.enableAll();\\n    ko.bindingHandlers.numericValue = {\\n        init: function(element, valueAccessor, allBindings, data, context) {\\n            var stringified = ko.observable(ko.unwrap(valueAccessor()));\\n            stringified.subscribe(function(value) {\\n                var val = parseFloat(value);\\n                if (!isNaN(val)) {\\n                    valueAccessor()(val);\\n                }\\n            });\\n            valueAccessor().subscribe(function(value) {\\n                var str = JSON.stringify(value);\\n                if ((str == \\\"0\\\") && ([\\\"-0\\\", \\\"-0.\\\"].indexOf(stringified()) >= 0))\\n                     return;\\n                 if ([\\\"null\\\", \\\"\\\"].indexOf(str) >= 0)\\n                     return;\\n                stringified(str);\\n            });\\n            ko.applyBindingsToNode(\\n                element,\\n                {\\n                    value: stringified,\\n                    valueUpdate: allBindings.get('valueUpdate'),\\n                },\\n                context,\\n            );\\n        }\\n    };\\n    var json_data = {\\\"formatted_vals\\\":[\\\"0.1\\\",\\\"0.2\\\",\\\"0.3\\\",\\\"0.4\\\",\\\"0.5\\\",\\\"0.6\\\",\\\"0.7\\\",\\\"0.8\\\",\\\"0.9\\\",\\\"1.0\\\",\\\"1.1\\\",\\\"1.2\\\",\\\"1.3\\\",\\\"1.4\\\",\\\"1.5\\\",\\\"1.6\\\",\\\"1.7\\\",\\\"1.8\\\",\\\"1.9\\\",\\\"2.0\\\"],\\\"changes\\\":WebIO.getval({\\\"name\\\":\\\"changes\\\",\\\"scope\\\":\\\"827457525681972731\\\",\\\"id\\\":\\\"7155282783892366580\\\",\\\"type\\\":\\\"observable\\\"}),\\\"index\\\":WebIO.getval({\\\"name\\\":\\\"index\\\",\\\"scope\\\":\\\"827457525681972731\\\",\\\"id\\\":\\\"13553376805459890629\\\",\\\"type\\\":\\\"observable\\\"})};\\n    var self = this;\\n    function AppViewModel() {\\n        for (var key in json_data) {\\n            var el = json_data[key];\\n            this[key] = Array.isArray(el) ? ko.observableArray(el) : ko.observable(el);\\n        }\\n        \\n        [this[\\\"formatted_val\\\"]=ko.computed(    function(){\\n        return this.formatted_vals()[parseInt(this.index())-(1)];\\n    }\\n,this)]\\n        [this[\\\"changes\\\"].subscribe((function (val){!(this.valueFromJulia[\\\"changes\\\"]) ? (WebIO.setval({\\\"name\\\":\\\"changes\\\",\\\"scope\\\":\\\"827457525681972731\\\",\\\"id\\\":\\\"7155282783892366580\\\",\\\"type\\\":\\\"observable\\\"},val)) : undefined; return this.valueFromJulia[\\\"changes\\\"]=false}),self),this[\\\"index\\\"].subscribe((function (val){!(this.valueFromJulia[\\\"index\\\"]) ? (WebIO.setval({\\\"name\\\":\\\"index\\\",\\\"scope\\\":\\\"827457525681972731\\\",\\\"id\\\":\\\"13553376805459890629\\\",\\\"type\\\":\\\"observable\\\"},val)) : undefined; return this.valueFromJulia[\\\"index\\\"]=false}),self)]\\n        \\n    }\\n    self.model = new AppViewModel();\\n    self.valueFromJulia = {};\\n    for (var key in json_data) {\\n        self.valueFromJulia[key] = false;\\n    }\\n    ko.applyBindings(self.model, self.dom);\\n}\\n);\\n    (WebIO.importBlock({\\\"data\\\":[{\\\"name\\\":\\\"knockout\\\",\\\"type\\\":\\\"js\\\",\\\"url\\\":\\\"\\/assetserver\\/727383f2a47bd31570b7da84eee7b022dd6d7c78-knockout.js\\\"},{\\\"name\\\":\\\"knockout_punches\\\",\\\"type\\\":\\\"js\\\",\\\"url\\\":\\\"\\/assetserver\\/382b41b3b1bd9f26f75861d360bad7f8beea211f-knockout_punches.js\\\"}],\\\"type\\\":\\\"async_block\\\"})).then((imports) => handler.apply(this, imports));\\n}\\n\"],\"observables\":{\"changes\":{\"sync\":false,\"id\":\"7155282783892366580\",\"value\":0},\"index\":{\"sync\":true,\"id\":\"13553376805459890629\",\"value\":10}}},\"children\":[{\"props\":{\"className\":\"interact-flex-row interact-widget\"},\"nodeType\":\"DOM\",\"type\":\"node\",\"instanceArgs\":{\"namespace\":\"html\",\"tag\":\"div\"},\"children\":[{\"props\":{\"className\":\"interact-flex-row-left\"},\"nodeType\":\"DOM\",\"type\":\"node\",\"instanceArgs\":{\"namespace\":\"html\",\"tag\":\"div\"},\"children\":[{\"props\":{\"className\":\"interact \",\"style\":{\"padding\":\"5px 10px 0px 10px\"}},\"nodeType\":\"DOM\",\"type\":\"node\",\"instanceArgs\":{\"namespace\":\"html\",\"tag\":\"label\"},\"children\":[\"scale\"]}]},{\"props\":{\"className\":\"interact-flex-row-center\"},\"nodeType\":\"DOM\",\"type\":\"node\",\"instanceArgs\":{\"namespace\":\"html\",\"tag\":\"div\"},\"children\":[{\"props\":{\"max\":20,\"min\":1,\"attributes\":{\"type\":\"range\",\"data-bind\":\"numericValue: index, valueUpdate: 'input', event: {change: function (){this.changes(this.changes()+1)}}\",\"orient\":\"horizontal\"},\"step\":1,\"className\":\"slider slider is-fullwidth\",\"style\":{}},\"nodeType\":\"DOM\",\"type\":\"node\",\"instanceArgs\":{\"namespace\":\"html\",\"tag\":\"input\"},\"children\":[]}]},{\"props\":{\"className\":\"interact-flex-row-right\"},\"nodeType\":\"DOM\",\"type\":\"node\",\"instanceArgs\":{\"namespace\":\"html\",\"tag\":\"div\"},\"children\":[{\"props\":{\"attributes\":{\"data-bind\":\"text: formatted_val\"}},\"nodeType\":\"DOM\",\"type\":\"node\",\"instanceArgs\":{\"namespace\":\"html\",\"tag\":\"p\"},\"children\":[]}]}]}]}]},{\"props\":{\"style\":{\"display\":\"flex\",\"flex-direction\":\"column\"}},\"nodeType\":\"DOM\",\"type\":\"node\",\"instanceArgs\":{\"namespace\":\"html\",\"tag\":\"div\"},\"children\":[]},{\"props\":{\"style\":{\"display\":\"flex\",\"flex-direction\":\"column\"}},\"nodeType\":\"DOM\",\"type\":\"node\",\"instanceArgs\":{\"namespace\":\"html\",\"tag\":\"div\"},\"children\":[{\"props\":{\"className\":\"field interact-widget\"},\"nodeType\":\"DOM\",\"type\":\"node\",\"instanceArgs\":{\"namespace\":\"html\",\"tag\":\"div\"},\"children\":[{\"props\":{},\"nodeType\":\"Scope\",\"type\":\"node\",\"instanceArgs\":{\"imports\":{\"data\":[{\"name\":\"knockout\",\"type\":\"js\",\"url\":\"\\/assetserver\\/727383f2a47bd31570b7da84eee7b022dd6d7c78-knockout.js\"},{\"name\":\"knockout_punches\",\"type\":\"js\",\"url\":\"\\/assetserver\\/382b41b3b1bd9f26f75861d360bad7f8beea211f-knockout_punches.js\"},{\"name\":null,\"type\":\"js\",\"url\":\"\\/assetserver\\/5ab20f1060420992a9b82a65b735dee4d81ef413-all.js\"},{\"name\":null,\"type\":\"css\",\"url\":\"\\/assetserver\\/1cc0ed62837210b80a182cc3676512f895dab686-style.css\"},{\"name\":null,\"type\":\"css\",\"url\":\"\\/assetserver\\/2eee816f616df3549d7044d45e744fbf8d42bfa1-bulma_confined.min.css\"}],\"type\":\"async_block\"},\"id\":\"17730975702066225676\",\"handlers\":{\"changes\":[\"(function (val){return (val!=this.model[\\\"changes\\\"]()) ? (this.valueFromJulia[\\\"changes\\\"]=true, this.model[\\\"changes\\\"](val)) : undefined})\"],\"index\":[\"(function (val){return (val!=this.model[\\\"index\\\"]()) ? (this.valueFromJulia[\\\"index\\\"]=true, this.model[\\\"index\\\"](val)) : undefined})\"]},\"systemjs_options\":null,\"mount_callbacks\":[\"function () {\\n    var handler = (function (ko, koPunches) {\\n    ko.punches.enableAll();\\n    ko.bindingHandlers.numericValue = {\\n        init: function(element, valueAccessor, allBindings, data, context) {\\n            var stringified = ko.observable(ko.unwrap(valueAccessor()));\\n            stringified.subscribe(function(value) {\\n                var val = parseFloat(value);\\n                if (!isNaN(val)) {\\n                    valueAccessor()(val);\\n                }\\n            });\\n            valueAccessor().subscribe(function(value) {\\n                var str = JSON.stringify(value);\\n                if ((str == \\\"0\\\") && ([\\\"-0\\\", \\\"-0.\\\"].indexOf(stringified()) >= 0))\\n                     return;\\n                 if ([\\\"null\\\", \\\"\\\"].indexOf(str) >= 0)\\n                     return;\\n                stringified(str);\\n            });\\n            ko.applyBindingsToNode(\\n                element,\\n                {\\n                    value: stringified,\\n                    valueUpdate: allBindings.get('valueUpdate'),\\n                },\\n                context,\\n            );\\n        }\\n    };\\n    var json_data = {\\\"formatted_vals\\\":[\\\"1\\\",\\\"2\\\",\\\"3\\\",\\\"4\\\",\\\"5\\\",\\\"6\\\",\\\"7\\\",\\\"8\\\",\\\"9\\\",\\\"10\\\",\\\"11\\\",\\\"12\\\"],\\\"changes\\\":WebIO.getval({\\\"name\\\":\\\"changes\\\",\\\"scope\\\":\\\"17730975702066225676\\\",\\\"id\\\":\\\"5387277045240502324\\\",\\\"type\\\":\\\"observable\\\"}),\\\"index\\\":WebIO.getval({\\\"name\\\":\\\"index\\\",\\\"scope\\\":\\\"17730975702066225676\\\",\\\"id\\\":\\\"15235961013905408657\\\",\\\"type\\\":\\\"observable\\\"})};\\n    var self = this;\\n    function AppViewModel() {\\n        for (var key in json_data) {\\n            var el = json_data[key];\\n            this[key] = Array.isArray(el) ? ko.observableArray(el) : ko.observable(el);\\n        }\\n        \\n        [this[\\\"formatted_val\\\"]=ko.computed(    function(){\\n        return this.formatted_vals()[parseInt(this.index())-(1)];\\n    }\\n,this)]\\n        [this[\\\"changes\\\"].subscribe((function (val){!(this.valueFromJulia[\\\"changes\\\"]) ? (WebIO.setval({\\\"name\\\":\\\"changes\\\",\\\"scope\\\":\\\"17730975702066225676\\\",\\\"id\\\":\\\"5387277045240502324\\\",\\\"type\\\":\\\"observable\\\"},val)) : undefined; return this.valueFromJulia[\\\"changes\\\"]=false}),self),this[\\\"index\\\"].subscribe((function (val){!(this.valueFromJulia[\\\"index\\\"]) ? (WebIO.setval({\\\"name\\\":\\\"index\\\",\\\"scope\\\":\\\"17730975702066225676\\\",\\\"id\\\":\\\"15235961013905408657\\\",\\\"type\\\":\\\"observable\\\"},val)) : undefined; return this.valueFromJulia[\\\"index\\\"]=false}),self)]\\n        \\n    }\\n    self.model = new AppViewModel();\\n    self.valueFromJulia = {};\\n    for (var key in json_data) {\\n        self.valueFromJulia[key] = false;\\n    }\\n    ko.applyBindings(self.model, self.dom);\\n}\\n);\\n    (WebIO.importBlock({\\\"data\\\":[{\\\"name\\\":\\\"knockout\\\",\\\"type\\\":\\\"js\\\",\\\"url\\\":\\\"\\/assetserver\\/727383f2a47bd31570b7da84eee7b022dd6d7c78-knockout.js\\\"},{\\\"name\\\":\\\"knockout_punches\\\",\\\"type\\\":\\\"js\\\",\\\"url\\\":\\\"\\/assetserver\\/382b41b3b1bd9f26f75861d360bad7f8beea211f-knockout_punches.js\\\"}],\\\"type\\\":\\\"async_block\\\"})).then((imports) => handler.apply(this, imports));\\n}\\n\"],\"observables\":{\"changes\":{\"sync\":false,\"id\":\"5387277045240502324\",\"value\":0},\"index\":{\"sync\":true,\"id\":\"15235961013905408657\",\"value\":6}}},\"children\":[{\"props\":{\"className\":\"interact-flex-row interact-widget\"},\"nodeType\":\"DOM\",\"type\":\"node\",\"instanceArgs\":{\"namespace\":\"html\",\"tag\":\"div\"},\"children\":[{\"props\":{\"className\":\"interact-flex-row-left\"},\"nodeType\":\"DOM\",\"type\":\"node\",\"instanceArgs\":{\"namespace\":\"html\",\"tag\":\"div\"},\"children\":[{\"props\":{\"className\":\"interact \",\"style\":{\"padding\":\"5px 10px 0px 10px\"}},\"nodeType\":\"DOM\",\"type\":\"node\",\"instanceArgs\":{\"namespace\":\"html\",\"tag\":\"label\"},\"children\":[\"min_alike\"]}]},{\"props\":{\"className\":\"interact-flex-row-center\"},\"nodeType\":\"DOM\",\"type\":\"node\",\"instanceArgs\":{\"namespace\":\"html\",\"tag\":\"div\"},\"children\":[{\"props\":{\"max\":12,\"min\":1,\"attributes\":{\"type\":\"range\",\"data-bind\":\"numericValue: index, valueUpdate: 'input', event: {change: function (){this.changes(this.changes()+1)}}\",\"orient\":\"horizontal\"},\"step\":1,\"className\":\"slider slider is-fullwidth\",\"style\":{}},\"nodeType\":\"DOM\",\"type\":\"node\",\"instanceArgs\":{\"namespace\":\"html\",\"tag\":\"input\"},\"children\":[]}]},{\"props\":{\"className\":\"interact-flex-row-right\"},\"nodeType\":\"DOM\",\"type\":\"node\",\"instanceArgs\":{\"namespace\":\"html\",\"tag\":\"div\"},\"children\":[{\"props\":{\"attributes\":{\"data-bind\":\"text: formatted_val\"}},\"nodeType\":\"DOM\",\"type\":\"node\",\"instanceArgs\":{\"namespace\":\"html\",\"tag\":\"p\"},\"children\":[]}]}]}]}]}]},{\"props\":{\"style\":{\"display\":\"flex\",\"flex-direction\":\"row\"}},\"nodeType\":\"DOM\",\"type\":\"node\",\"instanceArgs\":{\"namespace\":\"html\",\"tag\":\"div\"},\"children\":[{\"props\":{\"className\":\"interact-widget\"},\"nodeType\":\"DOM\",\"type\":\"node\",\"instanceArgs\":{\"namespace\":\"html\",\"tag\":\"div\"},\"children\":[{\"props\":{},\"nodeType\":\"Scope\",\"type\":\"node\",\"instanceArgs\":{\"imports\":{\"data\":[{\"name\":null,\"type\":\"js\",\"url\":\"\\/assetserver\\/dd22ed1bf1896c2748f3fe616ce0b838adc895c1-katex.min.js\"},{\"name\":null,\"type\":\"css\",\"url\":\"\\/assetserver\\/46517a424aa5e6cffc1360d7e0848b601c584ee3-katex.min.css\"}],\"type\":\"async_block\"},\"id\":\"456848532927861285\",\"handlers\":{\"value\":[\"(function (txt){return this.k.render(txt,this.container)})\"]},\"systemjs_options\":null,\"mount_callbacks\":[\"function () {\\n    var handler = ((function (k){this.k=k; this.container=this.dom.querySelector(\\\"#container\\\"); return k.render(\\\"\\\\\\\\;\\\\\\\\;\\\",this.container)}));\\n    (WebIO.importBlock({\\\"data\\\":[{\\\"name\\\":null,\\\"type\\\":\\\"js\\\",\\\"url\\\":\\\"\\/assetserver\\/dd22ed1bf1896c2748f3fe616ce0b838adc895c1-katex.min.js\\\"},{\\\"name\\\":null,\\\"type\\\":\\\"css\\\",\\\"url\\\":\\\"\\/assetserver\\/46517a424aa5e6cffc1360d7e0848b601c584ee3-katex.min.css\\\"}],\\\"type\\\":\\\"async_block\\\"})).then((imports) => handler.apply(this, imports));\\n}\\n\"],\"observables\":{\"value\":{\"sync\":false,\"id\":\"3556972715381726054\",\"value\":\"\\\\;\\\\;\"}}},\"children\":[{\"props\":{\"id\":\"container\"},\"nodeType\":\"DOM\",\"type\":\"node\",\"instanceArgs\":{\"namespace\":\"html\",\"tag\":\"div\"},\"children\":[]}]}]},{\"props\":{\"className\":\"field interact-widget\"},\"nodeType\":\"DOM\",\"type\":\"node\",\"instanceArgs\":{\"namespace\":\"html\",\"tag\":\"div\"},\"children\":[{\"props\":{},\"nodeType\":\"Scope\",\"type\":\"node\",\"instanceArgs\":{\"imports\":{\"data\":[{\"name\":\"knockout\",\"type\":\"js\",\"url\":\"\\/assetserver\\/727383f2a47bd31570b7da84eee7b022dd6d7c78-knockout.js\"},{\"name\":\"knockout_punches\",\"type\":\"js\",\"url\":\"\\/assetserver\\/382b41b3b1bd9f26f75861d360bad7f8beea211f-knockout_punches.js\"},{\"name\":null,\"type\":\"js\",\"url\":\"\\/assetserver\\/5ab20f1060420992a9b82a65b735dee4d81ef413-all.js\"},{\"name\":null,\"type\":\"css\",\"url\":\"\\/assetserver\\/1cc0ed62837210b80a182cc3676512f895dab686-style.css\"},{\"name\":null,\"type\":\"css\",\"url\":\"\\/assetserver\\/2eee816f616df3549d7044d45e744fbf8d42bfa1-bulma_confined.min.css\"}],\"type\":\"async_block\"},\"id\":\"8394736863804055434\",\"handlers\":{\"loading\":[\"(function (val){return (val!=this.model[\\\"loading\\\"]()) ? (this.valueFromJulia[\\\"loading\\\"]=true, this.model[\\\"loading\\\"](val)) : undefined})\"],\"clicks\":[\"(function (val){return (val!=this.model[\\\"clicks\\\"]()) ? (this.valueFromJulia[\\\"clicks\\\"]=true, this.model[\\\"clicks\\\"](val)) : undefined})\"]},\"systemjs_options\":null,\"mount_callbacks\":[\"function () {\\n    var handler = (function (ko, koPunches) {\\n    ko.punches.enableAll();\\n    ko.bindingHandlers.numericValue = {\\n        init: function(element, valueAccessor, allBindings, data, context) {\\n            var stringified = ko.observable(ko.unwrap(valueAccessor()));\\n            stringified.subscribe(function(value) {\\n                var val = parseFloat(value);\\n                if (!isNaN(val)) {\\n                    valueAccessor()(val);\\n                }\\n            });\\n            valueAccessor().subscribe(function(value) {\\n                var str = JSON.stringify(value);\\n                if ((str == \\\"0\\\") && ([\\\"-0\\\", \\\"-0.\\\"].indexOf(stringified()) >= 0))\\n                     return;\\n                 if ([\\\"null\\\", \\\"\\\"].indexOf(str) >= 0)\\n                     return;\\n                stringified(str);\\n            });\\n            ko.applyBindingsToNode(\\n                element,\\n                {\\n                    value: stringified,\\n                    valueUpdate: allBindings.get('valueUpdate'),\\n                },\\n                context,\\n            );\\n        }\\n    };\\n    var json_data = {\\\"loading\\\":WebIO.getval({\\\"name\\\":\\\"loading\\\",\\\"scope\\\":\\\"8394736863804055434\\\",\\\"id\\\":\\\"12622339386073332162\\\",\\\"type\\\":\\\"observable\\\"}),\\\"clicks\\\":WebIO.getval({\\\"name\\\":\\\"clicks\\\",\\\"scope\\\":\\\"8394736863804055434\\\",\\\"id\\\":\\\"10846557478153191981\\\",\\\"type\\\":\\\"observable\\\"})};\\n    var self = this;\\n    function AppViewModel() {\\n        for (var key in json_data) {\\n            var el = json_data[key];\\n            this[key] = Array.isArray(el) ? ko.observableArray(el) : ko.observable(el);\\n        }\\n        \\n        \\n        [this[\\\"loading\\\"].subscribe((function (val){!(this.valueFromJulia[\\\"loading\\\"]) ? (WebIO.setval({\\\"name\\\":\\\"loading\\\",\\\"scope\\\":\\\"8394736863804055434\\\",\\\"id\\\":\\\"12622339386073332162\\\",\\\"type\\\":\\\"observable\\\"},val)) : undefined; return this.valueFromJulia[\\\"loading\\\"]=false}),self),this[\\\"clicks\\\"].subscribe((function (val){!(this.valueFromJulia[\\\"clicks\\\"]) ? (WebIO.setval({\\\"name\\\":\\\"clicks\\\",\\\"scope\\\":\\\"8394736863804055434\\\",\\\"id\\\":\\\"10846557478153191981\\\",\\\"type\\\":\\\"observable\\\"},val)) : undefined; return this.valueFromJulia[\\\"clicks\\\"]=false}),self)]\\n        \\n    }\\n    self.model = new AppViewModel();\\n    self.valueFromJulia = {};\\n    for (var key in json_data) {\\n        self.valueFromJulia[key] = false;\\n    }\\n    ko.applyBindings(self.model, self.dom);\\n}\\n);\\n    (WebIO.importBlock({\\\"data\\\":[{\\\"name\\\":\\\"knockout\\\",\\\"type\\\":\\\"js\\\",\\\"url\\\":\\\"\\/assetserver\\/727383f2a47bd31570b7da84eee7b022dd6d7c78-knockout.js\\\"},{\\\"name\\\":\\\"knockout_punches\\\",\\\"type\\\":\\\"js\\\",\\\"url\\\":\\\"\\/assetserver\\/382b41b3b1bd9f26f75861d360bad7f8beea211f-knockout_punches.js\\\"}],\\\"type\\\":\\\"async_block\\\"})).then((imports) => handler.apply(this, imports));\\n}\\n\"],\"observables\":{\"loading\":{\"sync\":false,\"id\":\"12622339386073332162\",\"value\":false},\"clicks\":{\"sync\":true,\"id\":\"10846557478153191981\",\"value\":0}}},\"children\":[{\"props\":{\"attributes\":{\"data-bind\":\"click: function (){this.clicks(this.clicks()+1)}, css: {'is-loading' : loading}\"},\"className\":\"is-medium button is-primary\",\"style\":{}},\"nodeType\":\"DOM\",\"type\":\"node\",\"instanceArgs\":{\"namespace\":\"html\",\"tag\":\"button\"},\"children\":[\"run\"]}]}]},{\"props\":{\"className\":\"interact-widget\"},\"nodeType\":\"DOM\",\"type\":\"node\",\"instanceArgs\":{\"namespace\":\"html\",\"tag\":\"div\"},\"children\":[{\"props\":{},\"nodeType\":\"Scope\",\"type\":\"node\",\"instanceArgs\":{\"imports\":{\"data\":[{\"name\":null,\"type\":\"js\",\"url\":\"\\/assetserver\\/dd22ed1bf1896c2748f3fe616ce0b838adc895c1-katex.min.js\"},{\"name\":null,\"type\":\"css\",\"url\":\"\\/assetserver\\/46517a424aa5e6cffc1360d7e0848b601c584ee3-katex.min.css\"}],\"type\":\"async_block\"},\"id\":\"456848532927861285\",\"handlers\":{\"value\":[\"(function (txt){return this.k.render(txt,this.container)})\"]},\"systemjs_options\":null,\"mount_callbacks\":[\"function () {\\n    var handler = ((function (k){this.k=k; this.container=this.dom.querySelector(\\\"#container\\\"); return k.render(\\\"\\\\\\\\;\\\\\\\\;\\\",this.container)}));\\n    (WebIO.importBlock({\\\"data\\\":[{\\\"name\\\":null,\\\"type\\\":\\\"js\\\",\\\"url\\\":\\\"\\/assetserver\\/dd22ed1bf1896c2748f3fe616ce0b838adc895c1-katex.min.js\\\"},{\\\"name\\\":null,\\\"type\\\":\\\"css\\\",\\\"url\\\":\\\"\\/assetserver\\/46517a424aa5e6cffc1360d7e0848b601c584ee3-katex.min.css\\\"}],\\\"type\\\":\\\"async_block\\\"})).then((imports) => handler.apply(this, imports));\\n}\\n\"],\"observables\":{\"value\":{\"sync\":false,\"id\":\"3556972715381726054\",\"value\":\"\\\\;\\\\;\"}}},\"children\":[{\"props\":{\"id\":\"container\"},\"nodeType\":\"DOM\",\"type\":\"node\",\"instanceArgs\":{\"namespace\":\"html\",\"tag\":\"div\"},\"children\":[]}]}]},{\"props\":{\"className\":\"field interact-widget\"},\"nodeType\":\"DOM\",\"type\":\"node\",\"instanceArgs\":{\"namespace\":\"html\",\"tag\":\"div\"},\"children\":[{\"props\":{},\"nodeType\":\"Scope\",\"type\":\"node\",\"instanceArgs\":{\"imports\":{\"data\":[{\"name\":\"knockout\",\"type\":\"js\",\"url\":\"\\/assetserver\\/727383f2a47bd31570b7da84eee7b022dd6d7c78-knockout.js\"},{\"name\":\"knockout_punches\",\"type\":\"js\",\"url\":\"\\/assetserver\\/382b41b3b1bd9f26f75861d360bad7f8beea211f-knockout_punches.js\"},{\"name\":null,\"type\":\"js\",\"url\":\"\\/assetserver\\/5ab20f1060420992a9b82a65b735dee4d81ef413-all.js\"},{\"name\":null,\"type\":\"css\",\"url\":\"\\/assetserver\\/1cc0ed62837210b80a182cc3676512f895dab686-style.css\"},{\"name\":null,\"type\":\"css\",\"url\":\"\\/assetserver\\/2eee816f616df3549d7044d45e744fbf8d42bfa1-bulma_confined.min.css\"}],\"type\":\"async_block\"},\"id\":\"382730035158362734\",\"handlers\":{\"loading\":[\"(function (val){return (val!=this.model[\\\"loading\\\"]()) ? (this.valueFromJulia[\\\"loading\\\"]=true, this.model[\\\"loading\\\"](val)) : undefined})\"],\"clicks\":[\"(function (val){return (val!=this.model[\\\"clicks\\\"]()) ? (this.valueFromJulia[\\\"clicks\\\"]=true, this.model[\\\"clicks\\\"](val)) : undefined})\"]},\"systemjs_options\":null,\"mount_callbacks\":[\"function () {\\n    var handler = (function (ko, koPunches) {\\n    ko.punches.enableAll();\\n    ko.bindingHandlers.numericValue = {\\n        init: function(element, valueAccessor, allBindings, data, context) {\\n            var stringified = ko.observable(ko.unwrap(valueAccessor()));\\n            stringified.subscribe(function(value) {\\n                var val = parseFloat(value);\\n                if (!isNaN(val)) {\\n                    valueAccessor()(val);\\n                }\\n            });\\n            valueAccessor().subscribe(function(value) {\\n                var str = JSON.stringify(value);\\n                if ((str == \\\"0\\\") && ([\\\"-0\\\", \\\"-0.\\\"].indexOf(stringified()) >= 0))\\n                     return;\\n                 if ([\\\"null\\\", \\\"\\\"].indexOf(str) >= 0)\\n                     return;\\n                stringified(str);\\n            });\\n            ko.applyBindingsToNode(\\n                element,\\n                {\\n                    value: stringified,\\n                    valueUpdate: allBindings.get('valueUpdate'),\\n                },\\n                context,\\n            );\\n        }\\n    };\\n    var json_data = {\\\"loading\\\":WebIO.getval({\\\"name\\\":\\\"loading\\\",\\\"scope\\\":\\\"382730035158362734\\\",\\\"id\\\":\\\"17838893324188257279\\\",\\\"type\\\":\\\"observable\\\"}),\\\"clicks\\\":WebIO.getval({\\\"name\\\":\\\"clicks\\\",\\\"scope\\\":\\\"382730035158362734\\\",\\\"id\\\":\\\"16861071382643076419\\\",\\\"type\\\":\\\"observable\\\"})};\\n    var self = this;\\n    function AppViewModel() {\\n        for (var key in json_data) {\\n            var el = json_data[key];\\n            this[key] = Array.isArray(el) ? ko.observableArray(el) : ko.observable(el);\\n        }\\n        \\n        \\n        [this[\\\"loading\\\"].subscribe((function (val){!(this.valueFromJulia[\\\"loading\\\"]) ? (WebIO.setval({\\\"name\\\":\\\"loading\\\",\\\"scope\\\":\\\"382730035158362734\\\",\\\"id\\\":\\\"17838893324188257279\\\",\\\"type\\\":\\\"observable\\\"},val)) : undefined; return this.valueFromJulia[\\\"loading\\\"]=false}),self),this[\\\"clicks\\\"].subscribe((function (val){!(this.valueFromJulia[\\\"clicks\\\"]) ? (WebIO.setval({\\\"name\\\":\\\"clicks\\\",\\\"scope\\\":\\\"382730035158362734\\\",\\\"id\\\":\\\"16861071382643076419\\\",\\\"type\\\":\\\"observable\\\"},val)) : undefined; return this.valueFromJulia[\\\"clicks\\\"]=false}),self)]\\n        \\n    }\\n    self.model = new AppViewModel();\\n    self.valueFromJulia = {};\\n    for (var key in json_data) {\\n        self.valueFromJulia[key] = false;\\n    }\\n    ko.applyBindings(self.model, self.dom);\\n}\\n);\\n    (WebIO.importBlock({\\\"data\\\":[{\\\"name\\\":\\\"knockout\\\",\\\"type\\\":\\\"js\\\",\\\"url\\\":\\\"\\/assetserver\\/727383f2a47bd31570b7da84eee7b022dd6d7c78-knockout.js\\\"},{\\\"name\\\":\\\"knockout_punches\\\",\\\"type\\\":\\\"js\\\",\\\"url\\\":\\\"\\/assetserver\\/382b41b3b1bd9f26f75861d360bad7f8beea211f-knockout_punches.js\\\"}],\\\"type\\\":\\\"async_block\\\"})).then((imports) => handler.apply(this, imports));\\n}\\n\"],\"observables\":{\"loading\":{\"sync\":false,\"id\":\"17838893324188257279\",\"value\":false},\"clicks\":{\"sync\":true,\"id\":\"16861071382643076419\",\"value\":0}}},\"children\":[{\"props\":{\"attributes\":{\"data-bind\":\"click: function (){this.clicks(this.clicks()+1)}, css: {'is-loading' : loading}\"},\"className\":\"is-medium button is-primary\",\"style\":{}},\"nodeType\":\"DOM\",\"type\":\"node\",\"instanceArgs\":{\"namespace\":\"html\",\"tag\":\"button\"},\"children\":[\"stop\"]}]}]},{\"props\":{\"className\":\"interact-widget\"},\"nodeType\":\"DOM\",\"type\":\"node\",\"instanceArgs\":{\"namespace\":\"html\",\"tag\":\"div\"},\"children\":[{\"props\":{},\"nodeType\":\"Scope\",\"type\":\"node\",\"instanceArgs\":{\"imports\":{\"data\":[{\"name\":null,\"type\":\"js\",\"url\":\"\\/assetserver\\/dd22ed1bf1896c2748f3fe616ce0b838adc895c1-katex.min.js\"},{\"name\":null,\"type\":\"css\",\"url\":\"\\/assetserver\\/46517a424aa5e6cffc1360d7e0848b601c584ee3-katex.min.css\"}],\"type\":\"async_block\"},\"id\":\"456848532927861285\",\"handlers\":{\"value\":[\"(function (txt){return this.k.render(txt,this.container)})\"]},\"systemjs_options\":null,\"mount_callbacks\":[\"function () {\\n    var handler = ((function (k){this.k=k; this.container=this.dom.querySelector(\\\"#container\\\"); return k.render(\\\"\\\\\\\\;\\\\\\\\;\\\",this.container)}));\\n    (WebIO.importBlock({\\\"data\\\":[{\\\"name\\\":null,\\\"type\\\":\\\"js\\\",\\\"url\\\":\\\"\\/assetserver\\/dd22ed1bf1896c2748f3fe616ce0b838adc895c1-katex.min.js\\\"},{\\\"name\\\":null,\\\"type\\\":\\\"css\\\",\\\"url\\\":\\\"\\/assetserver\\/46517a424aa5e6cffc1360d7e0848b601c584ee3-katex.min.css\\\"}],\\\"type\\\":\\\"async_block\\\"})).then((imports) => handler.apply(this, imports));\\n}\\n\"],\"observables\":{\"value\":{\"sync\":false,\"id\":\"3556972715381726054\",\"value\":\"\\\\;\\\\;\"}}},\"children\":[{\"props\":{\"id\":\"container\"},\"nodeType\":\"DOM\",\"type\":\"node\",\"instanceArgs\":{\"namespace\":\"html\",\"tag\":\"div\"},\"children\":[]}]}]},{\"props\":{\"className\":\"field interact-widget\"},\"nodeType\":\"DOM\",\"type\":\"node\",\"instanceArgs\":{\"namespace\":\"html\",\"tag\":\"div\"},\"children\":[{\"props\":{},\"nodeType\":\"Scope\",\"type\":\"node\",\"instanceArgs\":{\"imports\":{\"data\":[{\"name\":\"knockout\",\"type\":\"js\",\"url\":\"\\/assetserver\\/727383f2a47bd31570b7da84eee7b022dd6d7c78-knockout.js\"},{\"name\":\"knockout_punches\",\"type\":\"js\",\"url\":\"\\/assetserver\\/382b41b3b1bd9f26f75861d360bad7f8beea211f-knockout_punches.js\"},{\"name\":null,\"type\":\"js\",\"url\":\"\\/assetserver\\/5ab20f1060420992a9b82a65b735dee4d81ef413-all.js\"},{\"name\":null,\"type\":\"css\",\"url\":\"\\/assetserver\\/1cc0ed62837210b80a182cc3676512f895dab686-style.css\"},{\"name\":null,\"type\":\"css\",\"url\":\"\\/assetserver\\/2eee816f616df3549d7044d45e744fbf8d42bfa1-bulma_confined.min.css\"}],\"type\":\"async_block\"},\"id\":\"6056948752172439357\",\"handlers\":{\"loading\":[\"(function (val){return (val!=this.model[\\\"loading\\\"]()) ? (this.valueFromJulia[\\\"loading\\\"]=true, this.model[\\\"loading\\\"](val)) : undefined})\"],\"clicks\":[\"(function (val){return (val!=this.model[\\\"clicks\\\"]()) ? (this.valueFromJulia[\\\"clicks\\\"]=true, this.model[\\\"clicks\\\"](val)) : undefined})\"]},\"systemjs_options\":null,\"mount_callbacks\":[\"function () {\\n    var handler = (function (ko, koPunches) {\\n    ko.punches.enableAll();\\n    ko.bindingHandlers.numericValue = {\\n        init: function(element, valueAccessor, allBindings, data, context) {\\n            var stringified = ko.observable(ko.unwrap(valueAccessor()));\\n            stringified.subscribe(function(value) {\\n                var val = parseFloat(value);\\n                if (!isNaN(val)) {\\n                    valueAccessor()(val);\\n                }\\n            });\\n            valueAccessor().subscribe(function(value) {\\n                var str = JSON.stringify(value);\\n                if ((str == \\\"0\\\") && ([\\\"-0\\\", \\\"-0.\\\"].indexOf(stringified()) >= 0))\\n                     return;\\n                 if ([\\\"null\\\", \\\"\\\"].indexOf(str) >= 0)\\n                     return;\\n                stringified(str);\\n            });\\n            ko.applyBindingsToNode(\\n                element,\\n                {\\n                    value: stringified,\\n                    valueUpdate: allBindings.get('valueUpdate'),\\n                },\\n                context,\\n            );\\n        }\\n    };\\n    var json_data = {\\\"loading\\\":WebIO.getval({\\\"name\\\":\\\"loading\\\",\\\"scope\\\":\\\"6056948752172439357\\\",\\\"id\\\":\\\"2432278001235905778\\\",\\\"type\\\":\\\"observable\\\"}),\\\"clicks\\\":WebIO.getval({\\\"name\\\":\\\"clicks\\\",\\\"scope\\\":\\\"6056948752172439357\\\",\\\"id\\\":\\\"14241215273019987939\\\",\\\"type\\\":\\\"observable\\\"})};\\n    var self = this;\\n    function AppViewModel() {\\n        for (var key in json_data) {\\n            var el = json_data[key];\\n            this[key] = Array.isArray(el) ? ko.observableArray(el) : ko.observable(el);\\n        }\\n        \\n        \\n        [this[\\\"loading\\\"].subscribe((function (val){!(this.valueFromJulia[\\\"loading\\\"]) ? (WebIO.setval({\\\"name\\\":\\\"loading\\\",\\\"scope\\\":\\\"6056948752172439357\\\",\\\"id\\\":\\\"2432278001235905778\\\",\\\"type\\\":\\\"observable\\\"},val)) : undefined; return this.valueFromJulia[\\\"loading\\\"]=false}),self),this[\\\"clicks\\\"].subscribe((function (val){!(this.valueFromJulia[\\\"clicks\\\"]) ? (WebIO.setval({\\\"name\\\":\\\"clicks\\\",\\\"scope\\\":\\\"6056948752172439357\\\",\\\"id\\\":\\\"14241215273019987939\\\",\\\"type\\\":\\\"observable\\\"},val)) : undefined; return this.valueFromJulia[\\\"clicks\\\"]=false}),self)]\\n        \\n    }\\n    self.model = new AppViewModel();\\n    self.valueFromJulia = {};\\n    for (var key in json_data) {\\n        self.valueFromJulia[key] = false;\\n    }\\n    ko.applyBindings(self.model, self.dom);\\n}\\n);\\n    (WebIO.importBlock({\\\"data\\\":[{\\\"name\\\":\\\"knockout\\\",\\\"type\\\":\\\"js\\\",\\\"url\\\":\\\"\\/assetserver\\/727383f2a47bd31570b7da84eee7b022dd6d7c78-knockout.js\\\"},{\\\"name\\\":\\\"knockout_punches\\\",\\\"type\\\":\\\"js\\\",\\\"url\\\":\\\"\\/assetserver\\/382b41b3b1bd9f26f75861d360bad7f8beea211f-knockout_punches.js\\\"}],\\\"type\\\":\\\"async_block\\\"})).then((imports) => handler.apply(this, imports));\\n}\\n\"],\"observables\":{\"loading\":{\"sync\":false,\"id\":\"2432278001235905778\",\"value\":false},\"clicks\":{\"sync\":true,\"id\":\"14241215273019987939\",\"value\":0}}},\"children\":[{\"props\":{\"attributes\":{\"data-bind\":\"click: function (){this.clicks(this.clicks()+1)}, css: {'is-loading' : loading}\"},\"className\":\"is-medium button is-primary\",\"style\":{}},\"nodeType\":\"DOM\",\"type\":\"node\",\"instanceArgs\":{\"namespace\":\"html\",\"tag\":\"button\"},\"children\":[\"reset\"]}]}]}]}]},{\"props\":{},\"nodeType\":\"Scope\",\"type\":\"node\",\"instanceArgs\":{\"imports\":{\"data\":[],\"type\":\"async_block\"},\"id\":\"17657437622002310463\",\"handlers\":{\"obs-output\":[\"function (value, scope) {\\n    scope.setInnerHTML(value);\\n}\\n\"]},\"systemjs_options\":null,\"mount_callbacks\":[],\"observables\":{\"obs-output\":{\"sync\":false,\"id\":\"5878528371710321281\",\"value\":\"    <div style=\\\"height: 500px; width: 100%; overflow-x: auto; overflow-y: hidden; resize: both\\\">\\n    <iframe src=\\\"http:\\/\\/127.0.0.1:8702\\\" style=\\\"width: 100%; height: 100%; border: none\\\"><\\/iframe>\\n    <\\/div>\\n\"}}},\"children\":[{\"props\":{\"className\":\"webio-observable\",\"setInnerHtml\":\"    <div style=\\\"height: 500px; width: 100%; overflow-x: auto; overflow-y: hidden; resize: both\\\">\\n    <iframe src=\\\"http:\\/\\/127.0.0.1:8702\\\" style=\\\"width: 100%; height: 100%; border: none\\\"><\\/iframe>\\n    <\\/div>\\n\"},\"nodeType\":\"DOM\",\"type\":\"node\",\"instanceArgs\":{\"namespace\":\"html\",\"tag\":\"div\"},\"children\":[]}]},{\"props\":{\"className\":\"interact-widget\"},\"nodeType\":\"DOM\",\"type\":\"node\",\"instanceArgs\":{\"namespace\":\"html\",\"tag\":\"div\"},\"children\":[{\"props\":{},\"nodeType\":\"Scope\",\"type\":\"node\",\"instanceArgs\":{\"imports\":{\"data\":[{\"name\":null,\"type\":\"js\",\"url\":\"\\/assetserver\\/dd22ed1bf1896c2748f3fe616ce0b838adc895c1-katex.min.js\"},{\"name\":null,\"type\":\"css\",\"url\":\"\\/assetserver\\/46517a424aa5e6cffc1360d7e0848b601c584ee3-katex.min.css\"}],\"type\":\"async_block\"},\"id\":\"456848532927861285\",\"handlers\":{\"value\":[\"(function (txt){return this.k.render(txt,this.container)})\"]},\"systemjs_options\":null,\"mount_callbacks\":[\"function () {\\n    var handler = ((function (k){this.k=k; this.container=this.dom.querySelector(\\\"#container\\\"); return k.render(\\\"\\\\\\\\;\\\\\\\\;\\\",this.container)}));\\n    (WebIO.importBlock({\\\"data\\\":[{\\\"name\\\":null,\\\"type\\\":\\\"js\\\",\\\"url\\\":\\\"\\/assetserver\\/dd22ed1bf1896c2748f3fe616ce0b838adc895c1-katex.min.js\\\"},{\\\"name\\\":null,\\\"type\\\":\\\"css\\\",\\\"url\\\":\\\"\\/assetserver\\/46517a424aa5e6cffc1360d7e0848b601c584ee3-katex.min.css\\\"}],\\\"type\\\":\\\"async_block\\\"})).then((imports) => handler.apply(this, imports));\\n}\\n\"],\"observables\":{\"value\":{\"sync\":false,\"id\":\"3556972715381726054\",\"value\":\"\\\\;\\\\;\"}}},\"children\":[{\"props\":{\"id\":\"container\"},\"nodeType\":\"DOM\",\"type\":\"node\",\"instanceArgs\":{\"namespace\":\"html\",\"tag\":\"div\"},\"children\":[]}]}]},{\"props\":{\"style\":{\"display\":\"flex\",\"flex-direction\":\"column\"}},\"nodeType\":\"DOM\",\"type\":\"node\",\"instanceArgs\":{\"namespace\":\"html\",\"tag\":\"div\"},\"children\":[{\"props\":{},\"nodeType\":\"Scope\",\"type\":\"node\",\"instanceArgs\":{\"imports\":{\"data\":[],\"type\":\"async_block\"},\"id\":\"9489676359797904553\",\"handlers\":{\"obs-output\":[\"function (value, scope) {\\n    scope.setInnerHTML(value);\\n}\\n\"]},\"systemjs_options\":null,\"mount_callbacks\":[],\"observables\":{\"obs-output\":{\"sync\":false,\"id\":\"8825923306712015784\",\"value\":\"<img src=\\\"data:image\\/png;base64,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\\\" \\/>\"}}},\"children\":[{\"props\":{\"className\":\"webio-observable\",\"setInnerHtml\":\"<img src=\\\"data:image\\/png;base64,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\\\" \\/>\"},\"nodeType\":\"DOM\",\"type\":\"node\",\"instanceArgs\":{\"namespace\":\"html\",\"tag\":\"div\"},\"children\":[]}]}]}]}]},\n",
       "        window,\n",
       "    );\n",
       "    })()\n",
       "    </script>\n",
       "</div>\n"
      ],
      "text/plain": [
       "WebIO.Node{WebIO.DOM}(WebIO.DOM(:html, :div), Any[WebIO.Node{WebIO.DOM}(WebIO.DOM(:html, :div), Any[WebIO.Node{WebIO.DOM}(WebIO.DOM(:html, :div), Any[WebIO.Node{WebIO.DOM}(WebIO.DOM(:html, :div), Any[WebIO.Scope(WebIO.Node{WebIO.DOM}(WebIO.DOM(:html, :div), Any[WebIO.Node{WebIO.DOM}(WebIO.DOM(:html, :div), Any[WebIO.Node{WebIO.DOM}(WebIO.DOM(:html, :label), Any[\"time\"], Dict{Symbol, Any}(:className => \"interact \", :style => Dict{Any, Any}(:padding => \"5px 10px 0px 10px\")))], Dict{Symbol, Any}(:className => \"interact-flex-row-left\")), WebIO.Node{WebIO.DOM}(WebIO.DOM(:html, :div), Any[WebIO.Node{WebIO.DOM}(WebIO.DOM(:html, :input), Any[], Dict{Symbol, Any}(:max => 200, :min => 1, :attributes => Dict{Any, Any}(:type => \"range\", Symbol(\"data-bind\") => \"numericValue: index, valueUpdate: 'input', event: {change: function (){this.changes(this.changes()+1)}}\", \"orient\" => \"horizontal\"), :step => 1, :className => \"slider slider is-fullwidth\", :style => Dict{Any, Any}()))], Dict{Symbol, Any}(:className => \"interact-flex-row-center\")), WebIO.Node{WebIO.DOM}(WebIO.DOM(:html, :div), Any[WebIO.Node{WebIO.DOM}(WebIO.DOM(:html, :p), Any[], Dict{Symbol, Any}(:attributes => Dict(\"data-bind\" => \"text: formatted_val\")))], Dict{Symbol, Any}(:className => \"interact-flex-row-right\"))], Dict{Symbol, Any}(:className => \"interact-flex-row interact-widget\")), Dict{String, Tuple{Observables.AbstractObservable, Union{Nothing, Bool}}}(\"changes\" => (Observable(0), nothing), \"index\" => (Observable(1), nothing)), Set{String}(), nothing, WebIO.Asset[WebIO.Asset(\"js\", \"knockout\", \"/home/dushya/.julia/packages/Knockout/HReiN/src/../assets/knockout.js\"), WebIO.Asset(\"js\", \"knockout_punches\", \"/home/dushya/.julia/packages/Knockout/HReiN/src/../assets/knockout_punches.js\"), WebIO.Asset(\"js\", nothing, \"/home/dushya/.julia/packages/InteractBase/LJXv3/src/../assets/all.js\"), WebIO.Asset(\"css\", nothing, \"/home/dushya/.julia/packages/InteractBase/LJXv3/src/../assets/style.css\"), WebIO.Asset(\"css\", nothing, \"/home/dushya/.julia/packages/Interact/PENUy/src/../assets/bulma_confined.min.css\")], Dict{Any, Any}(\"changes\" => Any[WebIO.JSString(\"(function (val){return (val!=this.model[\\\"changes\\\"]()) ? (this.valueFromJulia[\\\"changes\\\"]=true, this.model[\\\"changes\\\"](val)) : undefined})\")], \"index\" => Any[WebIO.JSString(\"(function (val){return (val!=this.model[\\\"index\\\"]()) ? (this.valueFromJulia[\\\"index\\\"]=true, this.model[\\\"index\\\"](val)) : undefined})\")]), WebIO.ConnectionPool(Channel{Any}(32), Set{WebIO.AbstractConnection}(), Base.GenericCondition{ReentrantLock}(Base.IntrusiveLinkedList{Task}(Task (runnable) @0x00007f2f17049460, Task (runnable) @0x00007f2f17049460), ReentrantLock(nothing, 0x00000000, 0x00, Base.GenericCondition{Base.Threads.SpinLock}(Base.IntrusiveLinkedList{Task}(nothing, nothing), Base.Threads.SpinLock(0)), (2, 139840316368656, 139841270654496)))), WebIO.JSString[WebIO.JSString(\"function () {\\n    var handler = (function (ko, koPunches) {\\n    ko.punches.enableAll();\\n    ko.bindingHandlers.numericValue = {\\n        init: function(element, valueAccessor, allBindings, data, context) {\\n            var stringified = ko.observable(ko.unwrap(valueAccessor()));\\n            stringified.subscribe(function(value) {\\n                var val = parseFloat(value);\\n                if (!isNaN(val)) {\\n                    valueAccessor()(val);\\n                }\\n            });\\n            valueAccessor().subscribe(function(value) {\\n                var str = JSON.stringify(value);\\n                if ((str == \\\"0\\\") && ([\\\"-0\\\", \\\"-0.\\\"].indexOf(stringified()) >= 0))\\n                     return;\\n                 if ([\\\"null\\\", \\\"\\\"].indexOf(str) >= 0)\\n                     return;\\n                stringified(str);\\n            });\\n            ko.applyBindingsToNode(\\n                element,\\n                {\\n                    value: stringified,\\n                    valueUpdate: allBindings.get('valueUpdate'),\\n                },\\n                context,\\n            );\\n        }\\n    };\\n    var json_data = {\\\"formatted_vals\\\":[\\\"1\\\",\\\"2\\\",\\\"3\\\",\\\"4\\\",\\\"5\\\",\\\"6\\\",\\\"7\\\",\\\"8\\\",\\\"9\\\",\\\"10\\\",\\\"11\\\",\\\"12\\\",\\\"13\\\",\\\"14\\\",\\\"15\\\",\\\"16\\\",\\\"17\\\",\\\"18\\\",\\\"19\\\",\\\"20\\\",\\\"21\\\",\\\"22\\\",\\\"23\\\",\\\"24\\\",\\\"25\\\",\\\"26\\\",\\\"27\\\",\\\"28\\\",\\\"29\\\",\\\"30\\\",\\\"31\\\",\\\"32\\\",\\\"33\\\",\\\"34\\\",\\\"35\\\",\\\"36\\\",\\\"37\\\",\\\"38\\\",\\\"39\\\",\\\"40\\\",\\\"41\\\",\\\"42\\\",\\\"43\\\",\\\"44\\\",\\\"45\\\",\\\"46\\\",\\\"47\\\",\\\"48\\\",\\\"49\\\",\\\"50\\\",\\\"51\\\",\\\"52\\\",\\\"53\\\",\\\"54\\\",\\\"55\\\",\\\"56\\\",\\\"57\\\",\\\"58\\\",\\\"59\\\",\\\"60\\\",\\\"61\\\",\\\"62\\\",\\\"63\\\",\\\"64\\\",\\\"65\\\",\\\"66\\\",\\\"67\\\",\\\"68\\\",\\\"69\\\",\\\"70\\\",\\\"71\\\",\\\"72\\\",\\\"73\\\",\\\"74\\\",\\\"75\\\",\\\"76\\\",\\\"77\\\",\\\"78\\\",\\\"79\\\",\\\"80\\\",\\\"81\\\",\\\"82\\\",\\\"83\\\",\\\"84\\\",\\\"85\\\",\\\"86\\\",\\\"87\\\",\\\"88\\\",\\\"89\\\",\\\"90\\\",\\\"91\\\",\\\"92\\\",\\\"93\\\",\\\"94\\\",\\\"95\\\",\\\"96\\\",\\\"97\\\",\\\"98\\\",\\\"99\\\",\\\"100\\\",\\\"101\\\",\\\"102\\\",\\\"103\\\",\\\"104\\\",\\\"105\\\",\\\"106\\\",\\\"107\\\",\\\"108\\\",\\\"109\\\",\\\"110\\\",\\\"111\\\",\\\"112\\\",\\\"113\\\",\\\"114\\\",\\\"115\\\",\\\"116\\\",\\\"117\\\",\\\"118\\\",\\\"119\\\",\\\"120\\\",\\\"121\\\",\\\"122\\\",\\\"123\\\",\\\"124\\\",\\\"125\\\",\\\"126\\\",\\\"127\\\",\\\"128\\\",\\\"129\\\",\\\"130\\\",\\\"131\\\",\\\"132\\\",\\\"133\\\",\\\"134\\\",\\\"135\\\",\\\"136\\\",\\\"137\\\",\\\"138\\\",\\\"139\\\",\\\"140\\\",\\\"141\\\",\\\"142\\\",\\\"143\\\",\\\"144\\\",\\\"145\\\",\\\"146\\\",\\\"147\\\",\\\"148\\\",\\\"149\\\",\\\"150\\\",\\\"151\\\",\\\"152\\\",\\\"153\\\",\\\"154\\\",\\\"155\\\",\\\"156\\\",\\\"157\\\",\\\"158\\\",\\\"159\\\",\\\"160\\\",\\\"161\\\",\\\"162\\\",\\\"163\\\",\\\"164\\\",\\\"165\\\",\\\"166\\\",\\\"167\\\",\\\"168\\\",\\\"169\\\",\\\"170\\\",\\\"171\\\",\\\"172\\\",\\\"173\\\",\\\"174\\\",\\\"175\\\",\\\"176\\\",\\\"177\\\",\\\"178\\\",\\\"179\\\",\\\"180\\\",\\\"181\\\",\\\"182\\\",\\\"183\\\",\\\"184\\\",\\\"185\\\",\\\"186\\\",\\\"187\\\",\\\"188\\\",\\\"189\\\",\\\"190\\\",\\\"191\\\",\\\"192\\\",\\\"193\\\",\\\"194\\\",\\\"195\\\",\\\"196\\\",\\\"197\\\",\\\"198\\\",\\\"199\\\",\\\"200\\\"],\\\"changes\\\":WebIO.getval({\\\"name\\\":\\\"changes\\\",\\\"scope\\\":\\\"5112544354733393210\\\",\\\"id\\\":\\\"9707086538743638337\\\",\\\"type\\\":\\\"observable\\\"}),\\\"index\\\":WebIO.getval({\\\"name\\\":\\\"index\\\",\\\"scope\\\":\\\"5112544354733393210\\\",\\\"id\\\":\\\"17098102578537743131\\\",\\\"type\\\":\\\"observable\\\"})};\\n    var self = this;\\n    function AppViewModel() {\\n        for (var key in json_data) {\\n            var el = json_data[key];\\n            this[key] = Array.isArray(el) ? ko.observableArray(el) : ko.observable(el);\\n        }\\n        \\n        [this[\\\"formatted_val\\\"]=ko.computed(    function(){\\n        return this.formatted_vals()[parseInt(this.index())-(1)];\\n    }\\n,this)]\\n        [this[\\\"changes\\\"].subscribe((function (val){!(this.valueFromJulia[\\\"changes\\\"]) ? (WebIO.setval({\\\"name\\\":\\\"changes\\\",\\\"scope\\\":\\\"5112544354733393210\\\",\\\"id\\\":\\\"9707086538743638337\\\",\\\"type\\\":\\\"observable\\\"},val)) : undefined; return this.valueFromJulia[\\\"changes\\\"]=false}),self),this[\\\"index\\\"].subscribe((function (val){!(this.valueFromJulia[\\\"index\\\"]) ? (WebIO.setval({\\\"name\\\":\\\"index\\\",\\\"scope\\\":\\\"5112544354733393210\\\",\\\"id\\\":\\\"17098102578537743131\\\",\\\"type\\\":\\\"observable\\\"},val)) : undefined; return this.valueFromJulia[\\\"index\\\"]=false}),self)]\\n        \\n    }\\n    self.model = new AppViewModel();\\n    self.valueFromJulia = {};\\n    for (var key in json_data) {\\n        self.valueFromJulia[key] = false;\\n    }\\n    ko.applyBindings(self.model, self.dom);\\n}\\n);\\n    (WebIO.importBlock({\\\"data\\\":[{\\\"name\\\":\\\"knockout\\\",\\\"type\\\":\\\"js\\\",\\\"url\\\":\\\"/assetserver/727383f2a47bd31570b7da84eee7b022dd6d7c78-knockout.js\\\"},{\\\"name\\\":\\\"knockout_punches\\\",\\\"type\\\":\\\"js\\\",\\\"url\\\":\\\"/assetserver/382b41b3b1bd9f26f75861d360bad7f8beea211f-knockout_punches.js\\\"}],\\\"type\\\":\\\"async_block\\\"})).then((imports) => handler.apply(this, imports));\\n}\\n\")])], Dict{Symbol, Any}(:className => \"field interact-widget\")), WebIO.Node{WebIO.DOM}(WebIO.DOM(:html, :div), Any[WebIO.Scope(WebIO.Node{WebIO.DOM}(WebIO.DOM(:html, :div), Any[WebIO.Node{WebIO.DOM}(WebIO.DOM(:html, :div), Any[WebIO.Node{WebIO.DOM}(WebIO.DOM(:html, :label), Any[\"scale\"], Dict{Symbol, Any}(:className => \"interact \", :style => Dict{Any, Any}(:padding => \"5px 10px 0px 10px\")))], Dict{Symbol, Any}(:className => \"interact-flex-row-left\")), WebIO.Node{WebIO.DOM}(WebIO.DOM(:html, :div), Any[WebIO.Node{WebIO.DOM}(WebIO.DOM(:html, :input), Any[], Dict{Symbol, Any}(:max => 20, :min => 1, :attributes => Dict{Any, Any}(:type => \"range\", Symbol(\"data-bind\") => \"numericValue: index, valueUpdate: 'input', event: {change: function (){this.changes(this.changes()+1)}}\", \"orient\" => \"horizontal\"), :step => 1, :className => \"slider slider is-fullwidth\", :style => Dict{Any, Any}()))], Dict{Symbol, Any}(:className => \"interact-flex-row-center\")), WebIO.Node{WebIO.DOM}(WebIO.DOM(:html, :div), Any[WebIO.Node{WebIO.DOM}(WebIO.DOM(:html, :p), Any[], Dict{Symbol, Any}(:attributes => Dict(\"data-bind\" => \"text: formatted_val\")))], Dict{Symbol, Any}(:className => \"interact-flex-row-right\"))], Dict{Symbol, Any}(:className => \"interact-flex-row interact-widget\")), Dict{String, Tuple{Observables.AbstractObservable, Union{Nothing, Bool}}}(\"changes\" => (Observable(0), nothing), \"index\" => (Observable{Any}(10), nothing)), Set{String}(), nothing, WebIO.Asset[WebIO.Asset(\"js\", \"knockout\", \"/home/dushya/.julia/packages/Knockout/HReiN/src/../assets/knockout.js\"), WebIO.Asset(\"js\", \"knockout_punches\", \"/home/dushya/.julia/packages/Knockout/HReiN/src/../assets/knockout_punches.js\"), WebIO.Asset(\"js\", nothing, \"/home/dushya/.julia/packages/InteractBase/LJXv3/src/../assets/all.js\"), WebIO.Asset(\"css\", nothing, \"/home/dushya/.julia/packages/InteractBase/LJXv3/src/../assets/style.css\"), WebIO.Asset(\"css\", nothing, \"/home/dushya/.julia/packages/Interact/PENUy/src/../assets/bulma_confined.min.css\")], Dict{Any, Any}(\"changes\" => Any[WebIO.JSString(\"(function (val){return (val!=this.model[\\\"changes\\\"]()) ? (this.valueFromJulia[\\\"changes\\\"]=true, this.model[\\\"changes\\\"](val)) : undefined})\")], \"index\" => Any[WebIO.JSString(\"(function (val){return (val!=this.model[\\\"index\\\"]()) ? (this.valueFromJulia[\\\"index\\\"]=true, this.model[\\\"index\\\"](val)) : undefined})\")]), WebIO.ConnectionPool(Channel{Any}(32), Set{WebIO.AbstractConnection}(), Base.GenericCondition{ReentrantLock}(Base.IntrusiveLinkedList{Task}(Task (runnable) @0x00007f2f1e3d5c30, Task (runnable) @0x00007f2f1e3d5c30), ReentrantLock(nothing, 0x00000000, 0x00, Base.GenericCondition{Base.Threads.SpinLock}(Base.IntrusiveLinkedList{Task}(nothing, nothing), Base.Threads.SpinLock(0)), (0, 0, 139779710648320)))), WebIO.JSString[WebIO.JSString(\"function () {\\n    var handler = (function (ko, koPunches) {\\n    ko.punches.enableAll();\\n    ko.bindingHandlers.numericValue = {\\n        init: function(element, valueAccessor, allBindings, data, context) {\\n            var stringified = ko.observable(ko.unwrap(valueAccessor()));\\n            stringified.subscribe(function(value) {\\n                var val = parseFloat(value);\\n                if (!isNaN(val)) {\\n                    valueAccessor()(val);\\n                }\\n            });\\n            valueAccessor().subscribe(function(value) {\\n                var str = JSON.stringify(value);\\n                if ((str == \\\"0\\\") && ([\\\"-0\\\", \\\"-0.\\\"].indexOf(stringified()) >= 0))\\n                     return;\\n                 if ([\\\"null\\\", \\\"\\\"].indexOf(str) >= 0)\\n                     return;\\n                stringified(str);\\n            });\\n            ko.applyBindingsToNode(\\n                element,\\n                {\\n                    value: stringified,\\n                    valueUpdate: allBindings.get('valueUpdate'),\\n                },\\n                context,\\n            );\\n        }\\n    };\\n    var json_data = {\\\"formatted_vals\\\":[\\\"0.1\\\",\\\"0.2\\\",\\\"0.3\\\",\\\"0.4\\\",\\\"0.5\\\",\\\"0.6\\\",\\\"0.7\\\",\\\"0.8\\\",\\\"0.9\\\",\\\"1.0\\\",\\\"1.1\\\",\\\"1.2\\\",\\\"1.3\\\",\\\"1.4\\\",\\\"1.5\\\",\\\"1.6\\\",\\\"1.7\\\",\\\"1.8\\\",\\\"1.9\\\",\\\"2.0\\\"],\\\"changes\\\":WebIO.getval({\\\"name\\\":\\\"changes\\\",\\\"scope\\\":\\\"827457525681972731\\\",\\\"id\\\":\\\"7155282783892366580\\\",\\\"type\\\":\\\"observable\\\"}),\\\"index\\\":WebIO.getval({\\\"name\\\":\\\"index\\\",\\\"scope\\\":\\\"827457525681972731\\\",\\\"id\\\":\\\"13553376805459890629\\\",\\\"type\\\":\\\"observable\\\"})};\\n    var self = this;\\n    function AppViewModel() {\\n        for (var key in json_data) {\\n            var el = json_data[key];\\n            this[key] = Array.isArray(el) ? ko.observableArray(el) : ko.observable(el);\\n        }\\n        \\n        [this[\\\"formatted_val\\\"]=ko.computed(    function(){\\n        return this.formatted_vals()[parseInt(this.index())-(1)];\\n    }\\n,this)]\\n        [this[\\\"changes\\\"].subscribe((function (val){!(this.valueFromJulia[\\\"changes\\\"]) ? (WebIO.setval({\\\"name\\\":\\\"changes\\\",\\\"scope\\\":\\\"827457525681972731\\\",\\\"id\\\":\\\"7155282783892366580\\\",\\\"type\\\":\\\"observable\\\"},val)) : undefined; return this.valueFromJulia[\\\"changes\\\"]=false}),self),this[\\\"index\\\"].subscribe((function (val){!(this.valueFromJulia[\\\"index\\\"]) ? (WebIO.setval({\\\"name\\\":\\\"index\\\",\\\"scope\\\":\\\"827457525681972731\\\",\\\"id\\\":\\\"13553376805459890629\\\",\\\"type\\\":\\\"observable\\\"},val)) : undefined; return this.valueFromJulia[\\\"index\\\"]=false}),self)]\\n        \\n    }\\n    self.model = new AppViewModel();\\n    self.valueFromJulia = {};\\n    for (var key in json_data) {\\n        self.valueFromJulia[key] = false;\\n    }\\n    ko.applyBindings(self.model, self.dom);\\n}\\n);\\n    (WebIO.importBlock({\\\"data\\\":[{\\\"name\\\":\\\"knockout\\\",\\\"type\\\":\\\"js\\\",\\\"url\\\":\\\"/assetserver/727383f2a47bd31570b7da84eee7b022dd6d7c78-knockout.js\\\"},{\\\"name\\\":\\\"knockout_punches\\\",\\\"type\\\":\\\"js\\\",\\\"url\\\":\\\"/assetserver/382b41b3b1bd9f26f75861d360bad7f8beea211f-knockout_punches.js\\\"}],\\\"type\\\":\\\"async_block\\\"})).then((imports) => handler.apply(this, imports));\\n}\\n\")])], Dict{Symbol, Any}(:className => \"field interact-widget\")), WebIO.Node{WebIO.DOM}(WebIO.DOM(:html, :div), Any[], Dict{Symbol, Any}(:style => Dict(\"display\" => \"flex\", \"flex-direction\" => \"column\"))), WebIO.Node{WebIO.DOM}(WebIO.DOM(:html, :div), Any[WebIO.Node{WebIO.DOM}(WebIO.DOM(:html, :div), Any[WebIO.Scope(WebIO.Node{WebIO.DOM}(WebIO.DOM(:html, :div), Any[WebIO.Node{WebIO.DOM}(WebIO.DOM(:html, :div), Any[WebIO.Node{WebIO.DOM}(WebIO.DOM(:html, :label), Any[\"min_alike\"], Dict{Symbol, Any}(:className => \"interact \", :style => Dict{Any, Any}(:padding => \"5px 10px 0px 10px\")))], Dict{Symbol, Any}(:className => \"interact-flex-row-left\")), WebIO.Node{WebIO.DOM}(WebIO.DOM(:html, :div), Any[WebIO.Node{WebIO.DOM}(WebIO.DOM(:html, :input), Any[], Dict{Symbol, Any}(:max => 12, :min => 1, :attributes => Dict{Any, Any}(:type => \"range\", Symbol(\"data-bind\") => \"numericValue: index, valueUpdate: 'input', event: {change: function (){this.changes(this.changes()+1)}}\", \"orient\" => \"horizontal\"), :step => 1, :className => \"slider slider is-fullwidth\", :style => Dict{Any, Any}()))], Dict{Symbol, Any}(:className => \"interact-flex-row-center\")), WebIO.Node{WebIO.DOM}(WebIO.DOM(:html, :div), Any[WebIO.Node{WebIO.DOM}(WebIO.DOM(:html, :p), Any[], Dict{Symbol, Any}(:attributes => Dict(\"data-bind\" => \"text: formatted_val\")))], Dict{Symbol, Any}(:className => \"interact-flex-row-right\"))], Dict{Symbol, Any}(:className => \"interact-flex-row interact-widget\")), Dict{String, Tuple{Observables.AbstractObservable, Union{Nothing, Bool}}}(\"changes\" => (Observable(0), nothing), \"index\" => (Observable(6), nothing)), Set{String}(), nothing, WebIO.Asset[WebIO.Asset(\"js\", \"knockout\", \"/home/dushya/.julia/packages/Knockout/HReiN/src/../assets/knockout.js\"), WebIO.Asset(\"js\", \"knockout_punches\", \"/home/dushya/.julia/packages/Knockout/HReiN/src/../assets/knockout_punches.js\"), WebIO.Asset(\"js\", nothing, \"/home/dushya/.julia/packages/InteractBase/LJXv3/src/../assets/all.js\"), WebIO.Asset(\"css\", nothing, \"/home/dushya/.julia/packages/InteractBase/LJXv3/src/../assets/style.css\"), WebIO.Asset(\"css\", nothing, \"/home/dushya/.julia/packages/Interact/PENUy/src/../assets/bulma_confined.min.css\")], Dict{Any, Any}(\"changes\" => Any[WebIO.JSString(\"(function (val){return (val!=this.model[\\\"changes\\\"]()) ? (this.valueFromJulia[\\\"changes\\\"]=true, this.model[\\\"changes\\\"](val)) : undefined})\")], \"index\" => Any[WebIO.JSString(\"(function (val){return (val!=this.model[\\\"index\\\"]()) ? (this.valueFromJulia[\\\"index\\\"]=true, this.model[\\\"index\\\"](val)) : undefined})\")]), WebIO.ConnectionPool(Channel{Any}(32), Set{WebIO.AbstractConnection}(), Base.GenericCondition{ReentrantLock}(Base.IntrusiveLinkedList{Task}(Task (runnable) @0x00007f2f183433a0, Task (runnable) @0x00007f2f183433a0), ReentrantLock(nothing, 0x00000000, 0x00, Base.GenericCondition{Base.Threads.SpinLock}(Base.IntrusiveLinkedList{Task}(nothing, nothing), Base.Threads.SpinLock(0)), (1, 139840504157328, 6)))), WebIO.JSString[WebIO.JSString(\"function () {\\n    var handler = (function (ko, koPunches) {\\n    ko.punches.enableAll();\\n    ko.bindingHandlers.numericValue = {\\n        init: function(element, valueAccessor, allBindings, data, context) {\\n            var stringified = ko.observable(ko.unwrap(valueAccessor()));\\n            stringified.subscribe(function(value) {\\n                var val = parseFloat(value);\\n                if (!isNaN(val)) {\\n                    valueAccessor()(val);\\n                }\\n            });\\n            valueAccessor().subscribe(function(value) {\\n                var str = JSON.stringify(value);\\n                if ((str == \\\"0\\\") && ([\\\"-0\\\", \\\"-0.\\\"].indexOf(stringified()) >= 0))\\n                     return;\\n                 if ([\\\"null\\\", \\\"\\\"].indexOf(str) >= 0)\\n                     return;\\n                stringified(str);\\n            });\\n            ko.applyBindingsToNode(\\n                element,\\n                {\\n                    value: stringified,\\n                    valueUpdate: allBindings.get('valueUpdate'),\\n                },\\n                context,\\n            );\\n        }\\n    };\\n    var json_data = {\\\"formatted_vals\\\":[\\\"1\\\",\\\"2\\\",\\\"3\\\",\\\"4\\\",\\\"5\\\",\\\"6\\\",\\\"7\\\",\\\"8\\\",\\\"9\\\",\\\"10\\\",\\\"11\\\",\\\"12\\\"],\\\"changes\\\":WebIO.getval({\\\"name\\\":\\\"changes\\\",\\\"scope\\\":\\\"17730975702066225676\\\",\\\"id\\\":\\\"5387277045240502324\\\",\\\"type\\\":\\\"observable\\\"}),\\\"index\\\":WebIO.getval({\\\"name\\\":\\\"index\\\",\\\"scope\\\":\\\"17730975702066225676\\\",\\\"id\\\":\\\"15235961013905408657\\\",\\\"type\\\":\\\"observable\\\"})};\\n    var self = this;\\n    function AppViewModel() {\\n        for (var key in json_data) {\\n            var el = json_data[key];\\n            this[key] = Array.isArray(el) ? ko.observableArray(el) : ko.observable(el);\\n        }\\n        \\n        [this[\\\"formatted_val\\\"]=ko.computed(    function(){\\n        return this.formatted_vals()[parseInt(this.index())-(1)];\\n    }\\n,this)]\\n        [this[\\\"changes\\\"].subscribe((function (val){!(this.valueFromJulia[\\\"changes\\\"]) ? (WebIO.setval({\\\"name\\\":\\\"changes\\\",\\\"scope\\\":\\\"17730975702066225676\\\",\\\"id\\\":\\\"5387277045240502324\\\",\\\"type\\\":\\\"observable\\\"},val)) : undefined; return this.valueFromJulia[\\\"changes\\\"]=false}),self),this[\\\"index\\\"].subscribe((function (val){!(this.valueFromJulia[\\\"index\\\"]) ? (WebIO.setval({\\\"name\\\":\\\"index\\\",\\\"scope\\\":\\\"17730975702066225676\\\",\\\"id\\\":\\\"15235961013905408657\\\",\\\"type\\\":\\\"observable\\\"},val)) : undefined; return this.valueFromJulia[\\\"index\\\"]=false}),self)]\\n        \\n    }\\n    self.model = new AppViewModel();\\n    self.valueFromJulia = {};\\n    for (var key in json_data) {\\n        self.valueFromJulia[key] = false;\\n    }\\n    ko.applyBindings(self.model, self.dom);\\n}\\n);\\n    (WebIO.importBlock({\\\"data\\\":[{\\\"name\\\":\\\"knockout\\\",\\\"type\\\":\\\"js\\\",\\\"url\\\":\\\"/assetserver/727383f2a47bd31570b7da84eee7b022dd6d7c78-knockout.js\\\"},{\\\"name\\\":\\\"knockout_punches\\\",\\\"type\\\":\\\"js\\\",\\\"url\\\":\\\"/assetserver/382b41b3b1bd9f26f75861d360bad7f8beea211f-knockout_punches.js\\\"}],\\\"type\\\":\\\"async_block\\\"})).then((imports) => handler.apply(this, imports));\\n}\\n\")])], Dict{Symbol, Any}(:className => \"field interact-widget\"))], Dict{Symbol, Any}(:style => Dict(\"display\" => \"flex\", \"flex-direction\" => \"column\"))), WebIO.Node{WebIO.DOM}(WebIO.DOM(:html, :div), Any[WebIO.Node{WebIO.DOM}(WebIO.DOM(:html, :div), Any[WebIO.Scope(WebIO.Node{WebIO.DOM}(WebIO.DOM(:html, :div), Any[], Dict{Symbol, Any}(:id => \"container\")), Dict{String, Tuple{Observables.AbstractObservable, Union{Nothing, Bool}}}(\"value\" => (Observable(\"\\\\;\\\\;\"), nothing)), Set{String}(), nothing, WebIO.Asset[WebIO.Asset(\"js\", nothing, \"/home/dushya/.julia/packages/InteractBase/LJXv3/src/../assets/katex.min.js\"), WebIO.Asset(\"css\", nothing, \"/home/dushya/.julia/packages/InteractBase/LJXv3/src/../assets/katex.min.css\")], Dict{Any, Any}(\"value\" => Any[WebIO.JSString(\"(function (txt){return this.k.render(txt,this.container)})\")]), WebIO.ConnectionPool(Channel{Any}(32), Set{WebIO.AbstractConnection}(), Base.GenericCondition{ReentrantLock}(Base.IntrusiveLinkedList{Task}(Task (runnable) @0x00007f2f16df9140, Task (runnable) @0x00007f2f16df9140), ReentrantLock(nothing, 0x00000000, 0x00, Base.GenericCondition{Base.Threads.SpinLock}(Base.IntrusiveLinkedList{Task}(nothing, nothing), Base.Threads.SpinLock(0)), (0, 139840227232912, 141733920768)))), WebIO.JSString[WebIO.JSString(\"function () {\\n    var handler = ((function (k){this.k=k; this.container=this.dom.querySelector(\\\"#container\\\"); return k.render(\\\"\\\\\\\\;\\\\\\\\;\\\",this.container)}));\\n    (WebIO.importBlock({\\\"data\\\":[{\\\"name\\\":null,\\\"type\\\":\\\"js\\\",\\\"url\\\":\\\"/assetserver/dd22ed1bf1896c2748f3fe616ce0b838adc895c1-katex.min.js\\\"},{\\\"name\\\":null,\\\"type\\\":\\\"css\\\",\\\"url\\\":\\\"/assetserver/46517a424aa5e6cffc1360d7e0848b601c584ee3-katex.min.css\\\"}],\\\"type\\\":\\\"async_block\\\"})).then((imports) => handler.apply(this, imports));\\n}\\n\")])], Dict{Symbol, Any}(:className => \"interact-widget\")), WebIO.Node{WebIO.DOM}(WebIO.DOM(:html, :div), Any[WebIO.Scope(WebIO.Node{WebIO.DOM}(WebIO.DOM(:html, :button), Any[\"run\"], Dict{Symbol, Any}(:attributes => Dict{Any, Any}(\"data-bind\" => \"click: function (){this.clicks(this.clicks()+1)}, css: {'is-loading' : loading}\"), :className => \"is-medium button is-primary\", :style => Dict{String, Any}())), Dict{String, Tuple{Observables.AbstractObservable, Union{Nothing, Bool}}}(\"loading\" => (Observable(false), nothing), \"clicks\" => (Observable(0), nothing)), Set{String}(), nothing, WebIO.Asset[WebIO.Asset(\"js\", \"knockout\", \"/home/dushya/.julia/packages/Knockout/HReiN/src/../assets/knockout.js\"), WebIO.Asset(\"js\", \"knockout_punches\", \"/home/dushya/.julia/packages/Knockout/HReiN/src/../assets/knockout_punches.js\"), WebIO.Asset(\"js\", nothing, \"/home/dushya/.julia/packages/InteractBase/LJXv3/src/../assets/all.js\"), WebIO.Asset(\"css\", nothing, \"/home/dushya/.julia/packages/InteractBase/LJXv3/src/../assets/style.css\"), WebIO.Asset(\"css\", nothing, \"/home/dushya/.julia/packages/Interact/PENUy/src/../assets/bulma_confined.min.css\")], Dict{Any, Any}(\"loading\" => Any[WebIO.JSString(\"(function (val){return (val!=this.model[\\\"loading\\\"]()) ? (this.valueFromJulia[\\\"loading\\\"]=true, this.model[\\\"loading\\\"](val)) : undefined})\")], \"clicks\" => Any[WebIO.JSString(\"(function (val){return (val!=this.model[\\\"clicks\\\"]()) ? (this.valueFromJulia[\\\"clicks\\\"]=true, this.model[\\\"clicks\\\"](val)) : undefined})\")]), WebIO.ConnectionPool(Channel{Any}(32), Set{WebIO.AbstractConnection}(), Base.GenericCondition{ReentrantLock}(Base.IntrusiveLinkedList{Task}(Task (runnable) @0x00007f2f559e5780, Task (runnable) @0x00007f2f559e5780), ReentrantLock(nothing, 0x00000000, 0x00, Base.GenericCondition{Base.Threads.SpinLock}(Base.IntrusiveLinkedList{Task}(nothing, nothing), Base.Threads.SpinLock(0)), (2, 139842232060880, 139842232063040)))), WebIO.JSString[WebIO.JSString(\"function () {\\n    var handler = (function (ko, koPunches) {\\n    ko.punches.enableAll();\\n    ko.bindingHandlers.numericValue = {\\n        init: function(element, valueAccessor, allBindings, data, context) {\\n            var stringified = ko.observable(ko.unwrap(valueAccessor()));\\n            stringified.subscribe(function(value) {\\n                var val = parseFloat(value);\\n                if (!isNaN(val)) {\\n                    valueAccessor()(val);\\n                }\\n            });\\n            valueAccessor().subscribe(function(value) {\\n                var str = JSON.stringify(value);\\n                if ((str == \\\"0\\\") && ([\\\"-0\\\", \\\"-0.\\\"].indexOf(stringified()) >= 0))\\n                     return;\\n                 if ([\\\"null\\\", \\\"\\\"].indexOf(str) >= 0)\\n                     return;\\n                stringified(str);\\n            });\\n            ko.applyBindingsToNode(\\n                element,\\n                {\\n                    value: stringified,\\n                    valueUpdate: allBindings.get('valueUpdate'),\\n                },\\n                context,\\n            );\\n        }\\n    };\\n    var json_data = {\\\"loading\\\":WebIO.getval({\\\"name\\\":\\\"loading\\\",\\\"scope\\\":\\\"8394736863804055434\\\",\\\"id\\\":\\\"12622339386073332162\\\",\\\"type\\\":\\\"observable\\\"}),\\\"clicks\\\":WebIO.getval({\\\"name\\\":\\\"clicks\\\",\\\"scope\\\":\\\"8394736863804055434\\\",\\\"id\\\":\\\"10846557478153191981\\\",\\\"type\\\":\\\"observable\\\"})};\\n    var self = this;\\n    function AppViewModel() {\\n        for (var key in json_data) {\\n            var el = json_data[key];\\n            this[key] = Array.isArray(el) ? ko.observableArray(el) : ko.observable(el);\\n        }\\n        \\n        \\n        [this[\\\"loading\\\"].subscribe((function (val){!(this.valueFromJulia[\\\"loading\\\"]) ? (WebIO.setval({\\\"name\\\":\\\"loading\\\",\\\"scope\\\":\\\"8394736863804055434\\\",\\\"id\\\":\\\"12622339386073332162\\\",\\\"type\\\":\\\"observable\\\"},val)) : undefined; return this.valueFromJulia[\\\"loading\\\"]=false}),self),this[\\\"clicks\\\"].subscribe((function (val){!(this.valueFromJulia[\\\"clicks\\\"]) ? (WebIO.setval({\\\"name\\\":\\\"clicks\\\",\\\"scope\\\":\\\"8394736863804055434\\\",\\\"id\\\":\\\"10846557478153191981\\\",\\\"type\\\":\\\"observable\\\"},val)) : undefined; return this.valueFromJulia[\\\"clicks\\\"]=false}),self)]\\n        \\n    }\\n    self.model = new AppViewModel();\\n    self.valueFromJulia = {};\\n    for (var key in json_data) {\\n        self.valueFromJulia[key] = false;\\n    }\\n    ko.applyBindings(self.model, self.dom);\\n}\\n);\\n    (WebIO.importBlock({\\\"data\\\":[{\\\"name\\\":\\\"knockout\\\",\\\"type\\\":\\\"js\\\",\\\"url\\\":\\\"/assetserver/727383f2a47bd31570b7da84eee7b022dd6d7c78-knockout.js\\\"},{\\\"name\\\":\\\"knockout_punches\\\",\\\"type\\\":\\\"js\\\",\\\"url\\\":\\\"/assetserver/382b41b3b1bd9f26f75861d360bad7f8beea211f-knockout_punches.js\\\"}],\\\"type\\\":\\\"async_block\\\"})).then((imports) => handler.apply(this, imports));\\n}\\n\")])], Dict{Symbol, Any}(:className => \"field interact-widget\")), WebIO.Node{WebIO.DOM}(WebIO.DOM(:html, :div), Any[WebIO.Scope(WebIO.Node{WebIO.DOM}(WebIO.DOM(:html, :div), Any[], Dict{Symbol, Any}(:id => \"container\")), Dict{String, Tuple{Observables.AbstractObservable, Union{Nothing, Bool}}}(\"value\" => (Observable(\"\\\\;\\\\;\"), nothing)), Set{String}(), nothing, WebIO.Asset[WebIO.Asset(\"js\", nothing, \"/home/dushya/.julia/packages/InteractBase/LJXv3/src/../assets/katex.min.js\"), WebIO.Asset(\"css\", nothing, \"/home/dushya/.julia/packages/InteractBase/LJXv3/src/../assets/katex.min.css\")], Dict{Any, Any}(\"value\" => Any[WebIO.JSString(\"(function (txt){return this.k.render(txt,this.container)})\")]), WebIO.ConnectionPool(Channel{Any}(32), Set{WebIO.AbstractConnection}(), Base.GenericCondition{ReentrantLock}(Base.IntrusiveLinkedList{Task}(Task (runnable) @0x00007f2f16df9140, Task (runnable) @0x00007f2f16df9140), ReentrantLock(nothing, 0x00000000, 0x00, Base.GenericCondition{Base.Threads.SpinLock}(Base.IntrusiveLinkedList{Task}(nothing, nothing), Base.Threads.SpinLock(0)), (0, 139840227232912, 141733920768)))), WebIO.JSString[WebIO.JSString(\"function () {\\n    var handler = ((function (k){this.k=k; this.container=this.dom.querySelector(\\\"#container\\\"); return k.render(\\\"\\\\\\\\;\\\\\\\\;\\\",this.container)}));\\n    (WebIO.importBlock({\\\"data\\\":[{\\\"name\\\":null,\\\"type\\\":\\\"js\\\",\\\"url\\\":\\\"/assetserver/dd22ed1bf1896c2748f3fe616ce0b838adc895c1-katex.min.js\\\"},{\\\"name\\\":null,\\\"type\\\":\\\"css\\\",\\\"url\\\":\\\"/assetserver/46517a424aa5e6cffc1360d7e0848b601c584ee3-katex.min.css\\\"}],\\\"type\\\":\\\"async_block\\\"})).then((imports) => handler.apply(this, imports));\\n}\\n\")])], Dict{Symbol, Any}(:className => \"interact-widget\")), WebIO.Node{WebIO.DOM}(WebIO.DOM(:html, :div), Any[WebIO.Scope(WebIO.Node{WebIO.DOM}(WebIO.DOM(:html, :button), Any[\"stop\"], Dict{Symbol, Any}(:attributes => Dict{Any, Any}(\"data-bind\" => \"click: function (){this.clicks(this.clicks()+1)}, css: {'is-loading' : loading}\"), :className => \"is-medium button is-primary\", :style => Dict{String, Any}())), Dict{String, Tuple{Observables.AbstractObservable, Union{Nothing, Bool}}}(\"loading\" => (Observable(false), nothing), \"clicks\" => (Observable(0), nothing)), Set{String}(), nothing, WebIO.Asset[WebIO.Asset(\"js\", \"knockout\", \"/home/dushya/.julia/packages/Knockout/HReiN/src/../assets/knockout.js\"), WebIO.Asset(\"js\", \"knockout_punches\", \"/home/dushya/.julia/packages/Knockout/HReiN/src/../assets/knockout_punches.js\"), WebIO.Asset(\"js\", nothing, \"/home/dushya/.julia/packages/InteractBase/LJXv3/src/../assets/all.js\"), WebIO.Asset(\"css\", nothing, \"/home/dushya/.julia/packages/InteractBase/LJXv3/src/../assets/style.css\"), WebIO.Asset(\"css\", nothing, \"/home/dushya/.julia/packages/Interact/PENUy/src/../assets/bulma_confined.min.css\")], Dict{Any, Any}(\"loading\" => Any[WebIO.JSString(\"(function (val){return (val!=this.model[\\\"loading\\\"]()) ? (this.valueFromJulia[\\\"loading\\\"]=true, this.model[\\\"loading\\\"](val)) : undefined})\")], \"clicks\" => Any[WebIO.JSString(\"(function (val){return (val!=this.model[\\\"clicks\\\"]()) ? (this.valueFromJulia[\\\"clicks\\\"]=true, this.model[\\\"clicks\\\"](val)) : undefined})\")]), WebIO.ConnectionPool(Channel{Any}(32), Set{WebIO.AbstractConnection}(), Base.GenericCondition{ReentrantLock}(Base.IntrusiveLinkedList{Task}(Task (runnable) @0x00007f2f9444eef0, Task (runnable) @0x00007f2f9444eef0), ReentrantLock(nothing, 0x00000000, 0x00, Base.GenericCondition{Base.Threads.SpinLock}(Base.IntrusiveLinkedList{Task}(nothing, nothing), Base.Threads.SpinLock(0)), (8, 139841233899984, 0)))), WebIO.JSString[WebIO.JSString(\"function () {\\n    var handler = (function (ko, koPunches) {\\n    ko.punches.enableAll();\\n    ko.bindingHandlers.numericValue = {\\n        init: function(element, valueAccessor, allBindings, data, context) {\\n            var stringified = ko.observable(ko.unwrap(valueAccessor()));\\n            stringified.subscribe(function(value) {\\n                var val = parseFloat(value);\\n                if (!isNaN(val)) {\\n                    valueAccessor()(val);\\n                }\\n            });\\n            valueAccessor().subscribe(function(value) {\\n                var str = JSON.stringify(value);\\n                if ((str == \\\"0\\\") && ([\\\"-0\\\", \\\"-0.\\\"].indexOf(stringified()) >= 0))\\n                     return;\\n                 if ([\\\"null\\\", \\\"\\\"].indexOf(str) >= 0)\\n                     return;\\n                stringified(str);\\n            });\\n            ko.applyBindingsToNode(\\n                element,\\n                {\\n                    value: stringified,\\n                    valueUpdate: allBindings.get('valueUpdate'),\\n                },\\n                context,\\n            );\\n        }\\n    };\\n    var json_data = {\\\"loading\\\":WebIO.getval({\\\"name\\\":\\\"loading\\\",\\\"scope\\\":\\\"382730035158362734\\\",\\\"id\\\":\\\"17838893324188257279\\\",\\\"type\\\":\\\"observable\\\"}),\\\"clicks\\\":WebIO.getval({\\\"name\\\":\\\"clicks\\\",\\\"scope\\\":\\\"382730035158362734\\\",\\\"id\\\":\\\"16861071382643076419\\\",\\\"type\\\":\\\"observable\\\"})};\\n    var self = this;\\n    function AppViewModel() {\\n        for (var key in json_data) {\\n            var el = json_data[key];\\n            this[key] = Array.isArray(el) ? ko.observableArray(el) : ko.observable(el);\\n        }\\n        \\n        \\n        [this[\\\"loading\\\"].subscribe((function (val){!(this.valueFromJulia[\\\"loading\\\"]) ? (WebIO.setval({\\\"name\\\":\\\"loading\\\",\\\"scope\\\":\\\"382730035158362734\\\",\\\"id\\\":\\\"17838893324188257279\\\",\\\"type\\\":\\\"observable\\\"},val)) : undefined; return this.valueFromJulia[\\\"loading\\\"]=false}),self),this[\\\"clicks\\\"].subscribe((function (val){!(this.valueFromJulia[\\\"clicks\\\"]) ? (WebIO.setval({\\\"name\\\":\\\"clicks\\\",\\\"scope\\\":\\\"382730035158362734\\\",\\\"id\\\":\\\"16861071382643076419\\\",\\\"type\\\":\\\"observable\\\"},val)) : undefined; return this.valueFromJulia[\\\"clicks\\\"]=false}),self)]\\n        \\n    }\\n    self.model = new AppViewModel();\\n    self.valueFromJulia = {};\\n    for (var key in json_data) {\\n        self.valueFromJulia[key] = false;\\n    }\\n    ko.applyBindings(self.model, self.dom);\\n}\\n);\\n    (WebIO.importBlock({\\\"data\\\":[{\\\"name\\\":\\\"knockout\\\",\\\"type\\\":\\\"js\\\",\\\"url\\\":\\\"/assetserver/727383f2a47bd31570b7da84eee7b022dd6d7c78-knockout.js\\\"},{\\\"name\\\":\\\"knockout_punches\\\",\\\"type\\\":\\\"js\\\",\\\"url\\\":\\\"/assetserver/382b41b3b1bd9f26f75861d360bad7f8beea211f-knockout_punches.js\\\"}],\\\"type\\\":\\\"async_block\\\"})).then((imports) => handler.apply(this, imports));\\n}\\n\")])], Dict{Symbol, Any}(:className => \"field interact-widget\")), WebIO.Node{WebIO.DOM}(WebIO.DOM(:html, :div), Any[WebIO.Scope(WebIO.Node{WebIO.DOM}(WebIO.DOM(:html, :div), Any[], Dict{Symbol, Any}(:id => \"container\")), Dict{String, Tuple{Observables.AbstractObservable, Union{Nothing, Bool}}}(\"value\" => (Observable(\"\\\\;\\\\;\"), nothing)), Set{String}(), nothing, WebIO.Asset[WebIO.Asset(\"js\", nothing, \"/home/dushya/.julia/packages/InteractBase/LJXv3/src/../assets/katex.min.js\"), WebIO.Asset(\"css\", nothing, \"/home/dushya/.julia/packages/InteractBase/LJXv3/src/../assets/katex.min.css\")], Dict{Any, Any}(\"value\" => Any[WebIO.JSString(\"(function (txt){return this.k.render(txt,this.container)})\")]), WebIO.ConnectionPool(Channel{Any}(32), Set{WebIO.AbstractConnection}(), Base.GenericCondition{ReentrantLock}(Base.IntrusiveLinkedList{Task}(Task (runnable) @0x00007f2f16df9140, Task (runnable) @0x00007f2f16df9140), ReentrantLock(nothing, 0x00000000, 0x00, Base.GenericCondition{Base.Threads.SpinLock}(Base.IntrusiveLinkedList{Task}(nothing, nothing), Base.Threads.SpinLock(0)), (0, 139840227232912, 141733920768)))), WebIO.JSString[WebIO.JSString(\"function () {\\n    var handler = ((function (k){this.k=k; this.container=this.dom.querySelector(\\\"#container\\\"); return k.render(\\\"\\\\\\\\;\\\\\\\\;\\\",this.container)}));\\n    (WebIO.importBlock({\\\"data\\\":[{\\\"name\\\":null,\\\"type\\\":\\\"js\\\",\\\"url\\\":\\\"/assetserver/dd22ed1bf1896c2748f3fe616ce0b838adc895c1-katex.min.js\\\"},{\\\"name\\\":null,\\\"type\\\":\\\"css\\\",\\\"url\\\":\\\"/assetserver/46517a424aa5e6cffc1360d7e0848b601c584ee3-katex.min.css\\\"}],\\\"type\\\":\\\"async_block\\\"})).then((imports) => handler.apply(this, imports));\\n}\\n\")])], Dict{Symbol, Any}(:className => \"interact-widget\")), WebIO.Node{WebIO.DOM}(WebIO.DOM(:html, :div), Any[WebIO.Scope(WebIO.Node{WebIO.DOM}(WebIO.DOM(:html, :button), Any[\"reset\"], Dict{Symbol, Any}(:attributes => Dict{Any, Any}(\"data-bind\" => \"click: function (){this.clicks(this.clicks()+1)}, css: {'is-loading' : loading}\"), :className => \"is-medium button is-primary\", :style => Dict{String, Any}())), Dict{String, Tuple{Observables.AbstractObservable, Union{Nothing, Bool}}}(\"loading\" => (Observable(false), nothing), \"clicks\" => (Observable(0), nothing)), Set{String}(), nothing, WebIO.Asset[WebIO.Asset(\"js\", \"knockout\", \"/home/dushya/.julia/packages/Knockout/HReiN/src/../assets/knockout.js\"), WebIO.Asset(\"js\", \"knockout_punches\", \"/home/dushya/.julia/packages/Knockout/HReiN/src/../assets/knockout_punches.js\"), WebIO.Asset(\"js\", nothing, \"/home/dushya/.julia/packages/InteractBase/LJXv3/src/../assets/all.js\"), WebIO.Asset(\"css\", nothing, \"/home/dushya/.julia/packages/InteractBase/LJXv3/src/../assets/style.css\"), WebIO.Asset(\"css\", nothing, \"/home/dushya/.julia/packages/Interact/PENUy/src/../assets/bulma_confined.min.css\")], Dict{Any, Any}(\"loading\" => Any[WebIO.JSString(\"(function (val){return (val!=this.model[\\\"loading\\\"]()) ? (this.valueFromJulia[\\\"loading\\\"]=true, this.model[\\\"loading\\\"](val)) : undefined})\")], \"clicks\" => Any[WebIO.JSString(\"(function (val){return (val!=this.model[\\\"clicks\\\"]()) ? (this.valueFromJulia[\\\"clicks\\\"]=true, this.model[\\\"clicks\\\"](val)) : undefined})\")]), WebIO.ConnectionPool(Channel{Any}(32), Set{WebIO.AbstractConnection}(), Base.GenericCondition{ReentrantLock}(Base.IntrusiveLinkedList{Task}(Task (runnable) @0x00007f2f944dd910, Task (runnable) @0x00007f2f944dd910), ReentrantLock(nothing, 0x00000000, 0x00, Base.GenericCondition{Base.Threads.SpinLock}(Base.IntrusiveLinkedList{Task}(nothing, nothing), Base.Threads.SpinLock(0)), (0, 139841233848784, 0)))), WebIO.JSString[WebIO.JSString(\"function () {\\n    var handler = (function (ko, koPunches) {\\n    ko.punches.enableAll();\\n    ko.bindingHandlers.numericValue = {\\n        init: function(element, valueAccessor, allBindings, data, context) {\\n            var stringified = ko.observable(ko.unwrap(valueAccessor()));\\n            stringified.subscribe(function(value) {\\n                var val = parseFloat(value);\\n                if (!isNaN(val)) {\\n                    valueAccessor()(val);\\n                }\\n            });\\n            valueAccessor().subscribe(function(value) {\\n                var str = JSON.stringify(value);\\n                if ((str == \\\"0\\\") && ([\\\"-0\\\", \\\"-0.\\\"].indexOf(stringified()) >= 0))\\n                     return;\\n                 if ([\\\"null\\\", \\\"\\\"].indexOf(str) >= 0)\\n                     return;\\n                stringified(str);\\n            });\\n            ko.applyBindingsToNode(\\n                element,\\n                {\\n                    value: stringified,\\n                    valueUpdate: allBindings.get('valueUpdate'),\\n                },\\n                context,\\n            );\\n        }\\n    };\\n    var json_data = {\\\"loading\\\":WebIO.getval({\\\"name\\\":\\\"loading\\\",\\\"scope\\\":\\\"6056948752172439357\\\",\\\"id\\\":\\\"2432278001235905778\\\",\\\"type\\\":\\\"observable\\\"}),\\\"clicks\\\":WebIO.getval({\\\"name\\\":\\\"clicks\\\",\\\"scope\\\":\\\"6056948752172439357\\\",\\\"id\\\":\\\"14241215273019987939\\\",\\\"type\\\":\\\"observable\\\"})};\\n    var self = this;\\n    function AppViewModel() {\\n        for (var key in json_data) {\\n            var el = json_data[key];\\n            this[key] = Array.isArray(el) ? ko.observableArray(el) : ko.observable(el);\\n        }\\n        \\n        \\n        [this[\\\"loading\\\"].subscribe((function (val){!(this.valueFromJulia[\\\"loading\\\"]) ? (WebIO.setval({\\\"name\\\":\\\"loading\\\",\\\"scope\\\":\\\"6056948752172439357\\\",\\\"id\\\":\\\"2432278001235905778\\\",\\\"type\\\":\\\"observable\\\"},val)) : undefined; return this.valueFromJulia[\\\"loading\\\"]=false}),self),this[\\\"clicks\\\"].subscribe((function (val){!(this.valueFromJulia[\\\"clicks\\\"]) ? (WebIO.setval({\\\"name\\\":\\\"clicks\\\",\\\"scope\\\":\\\"6056948752172439357\\\",\\\"id\\\":\\\"14241215273019987939\\\",\\\"type\\\":\\\"observable\\\"},val)) : undefined; return this.valueFromJulia[\\\"clicks\\\"]=false}),self)]\\n        \\n    }\\n    self.model = new AppViewModel();\\n    self.valueFromJulia = {};\\n    for (var key in json_data) {\\n        self.valueFromJulia[key] = false;\\n    }\\n    ko.applyBindings(self.model, self.dom);\\n}\\n);\\n    (WebIO.importBlock({\\\"data\\\":[{\\\"name\\\":\\\"knockout\\\",\\\"type\\\":\\\"js\\\",\\\"url\\\":\\\"/assetserver/727383f2a47bd31570b7da84eee7b022dd6d7c78-knockout.js\\\"},{\\\"name\\\":\\\"knockout_punches\\\",\\\"type\\\":\\\"js\\\",\\\"url\\\":\\\"/assetserver/382b41b3b1bd9f26f75861d360bad7f8beea211f-knockout_punches.js\\\"}],\\\"type\\\":\\\"async_block\\\"})).then((imports) => handler.apply(this, imports));\\n}\\n\")])], Dict{Symbol, Any}(:className => \"field interact-widget\"))], Dict{Symbol, Any}(:style => Dict(\"display\" => \"flex\", \"flex-direction\" => \"row\")))], Dict{Symbol, Any}(:style => Dict(\"display\" => \"flex\", \"flex-direction\" => \"column\"))), Observable(MeshCat.DisplayedVisualizer(MeshCat.CoreVisualizer(MeshCat.SceneTrees.SceneNode(nothing, nothing, Dict{String, Vector{UInt8}}(), nothing, Dict{String, MeshCat.SceneTrees.SceneNode}(\"meshcat\" => MeshCat.SceneTrees.SceneNode(nothing, UInt8[0x83, 0xa6, 0x6d, 0x61, 0x74, 0x72, 0x69, 0x78, 0xc7, 0x40  …  0x68, 0xa8, 0x2f, 0x6d, 0x65, 0x73, 0x68, 0x63, 0x61, 0x74], Dict{String, Vector{UInt8}}(), nothing, Dict{String, MeshCat.SceneTrees.SceneNode}(\"agents\" => MeshCat.SceneTrees.SceneNode(nothing, nothing, Dict{String, Vector{UInt8}}(), nothing, Dict{String, MeshCat.SceneTrees.SceneNode}(\"1\" => MeshCat.SceneTrees.SceneNode(nothing, UInt8[0x83, 0xa6, 0x6d, 0x61, 0x74, 0x72, 0x69, 0x78, 0xc7, 0x40  …  0x74, 0x2f, 0x61, 0x67, 0x65, 0x6e, 0x74, 0x73, 0x2f, 0x31], Dict{String, Vector{UInt8}}(\"scale\" => [0x84, 0xa8, 0x70, 0x72, 0x6f, 0x70, 0x65, 0x72, 0x74, 0x79  …  0x74, 0x2f, 0x61, 0x67, 0x65, 0x6e, 0x74, 0x73, 0x2f, 0x31]), nothing, Dict{String, MeshCat.SceneTrees.SceneNode}(\"(0.0N0f8, 1.0N0f8, 0.0N0f8, 1.0N0f8)\" => MeshCat.SceneTrees.SceneNode(UInt8[0x83, 0xa6, 0x6f, 0x62, 0x6a, 0x65, 0x63, 0x74, 0x84, 0xaa  …  0x2c, 0x20, 0x31, 0x2e, 0x30, 0x4e, 0x30, 0x66, 0x38, 0x29], nothing, Dict{String, Vector{UInt8}}(\"visible\" => [0x84, 0xa8, 0x70, 0x72, 0x6f, 0x70, 0x65, 0x72, 0x74, 0x79  …  0x2c, 0x20, 0x31, 0x2e, 0x30, 0x4e, 0x30, 0x66, 0x38, 0x29]), nothing, Dict{String, MeshCat.SceneTrees.SceneNode}()))), \"54\" => MeshCat.SceneTrees.SceneNode(nothing, UInt8[0x83, 0xa6, 0x6d, 0x61, 0x74, 0x72, 0x69, 0x78, 0xc7, 0x40  …  0x2f, 0x61, 0x67, 0x65, 0x6e, 0x74, 0x73, 0x2f, 0x35, 0x34], Dict{String, Vector{UInt8}}(\"scale\" => [0x84, 0xa8, 0x70, 0x72, 0x6f, 0x70, 0x65, 0x72, 0x74, 0x79  …  0x2f, 0x61, 0x67, 0x65, 0x6e, 0x74, 0x73, 0x2f, 0x35, 0x34]), nothing, Dict{String, MeshCat.SceneTrees.SceneNode}(\"(0.0N0f8, 1.0N0f8, 0.0N0f8, 1.0N0f8)\" => MeshCat.SceneTrees.SceneNode(UInt8[0x83, 0xa6, 0x6f, 0x62, 0x6a, 0x65, 0x63, 0x74, 0x84, 0xaa  …  0x2c, 0x20, 0x31, 0x2e, 0x30, 0x4e, 0x30, 0x66, 0x38, 0x29], nothing, Dict{String, Vector{UInt8}}(\"visible\" => [0x84, 0xa8, 0x70, 0x72, 0x6f, 0x70, 0x65, 0x72, 0x74, 0x79  …  0x2c, 0x20, 0x31, 0x2e, 0x30, 0x4e, 0x30, 0x66, 0x38, 0x29]), nothing, Dict{String, MeshCat.SceneTrees.SceneNode}()))), \"101\" => MeshCat.SceneTrees.SceneNode(nothing, UInt8[0x83, 0xa6, 0x6d, 0x61, 0x74, 0x72, 0x69, 0x78, 0xc7, 0x40  …  0x61, 0x67, 0x65, 0x6e, 0x74, 0x73, 0x2f, 0x31, 0x30, 0x31], Dict{String, Vector{UInt8}}(\"scale\" => [0x84, 0xa8, 0x70, 0x72, 0x6f, 0x70, 0x65, 0x72, 0x74, 0x79  …  0x61, 0x67, 0x65, 0x6e, 0x74, 0x73, 0x2f, 0x31, 0x30, 0x31]), nothing, Dict{String, MeshCat.SceneTrees.SceneNode}(\"(1.0N0f8, 0.0N0f8, 0.0N0f8, 1.0N0f8)\" => MeshCat.SceneTrees.SceneNode(UInt8[0x83, 0xa6, 0x6f, 0x62, 0x6a, 0x65, 0x63, 0x74, 0x84, 0xaa  …  0x2c, 0x20, 0x31, 0x2e, 0x30, 0x4e, 0x30, 0x66, 0x38, 0x29], nothing, Dict{String, Vector{UInt8}}(\"visible\" => [0x84, 0xa8, 0x70, 0x72, 0x6f, 0x70, 0x65, 0x72, 0x74, 0x79  …  0x2c, 0x20, 0x31, 0x2e, 0x30, 0x4e, 0x30, 0x66, 0x38, 0x29]), nothing, Dict{String, MeshCat.SceneTrees.SceneNode}()))), \"41\" => MeshCat.SceneTrees.SceneNode(nothing, UInt8[0x83, 0xa6, 0x6d, 0x61, 0x74, 0x72, 0x69, 0x78, 0xc7, 0x40  …  0x2f, 0x61, 0x67, 0x65, 0x6e, 0x74, 0x73, 0x2f, 0x34, 0x31], Dict{String, Vector{UInt8}}(\"scale\" => [0x84, 0xa8, 0x70, 0x72, 0x6f, 0x70, 0x65, 0x72, 0x74, 0x79  …  0x2f, 0x61, 0x67, 0x65, 0x6e, 0x74, 0x73, 0x2f, 0x34, 0x31]), nothing, Dict{String, MeshCat.SceneTrees.SceneNode}(\"(1.0N0f8, 0.0N0f8, 0.0N0f8, 1.0N0f8)\" => MeshCat.SceneTrees.SceneNode(UInt8[0x83, 0xa6, 0x6f, 0x62, 0x6a, 0x65, 0x63, 0x74, 0x84, 0xaa  …  0x2c, 0x20, 0x31, 0x2e, 0x30, 0x4e, 0x30, 0x66, 0x38, 0x29], nothing, Dict{String, Vector{UInt8}}(\"visible\" => [0x84, 0xa8, 0x70, 0x72, 0x6f, 0x70, 0x65, 0x72, 0x74, 0x79  …  0x2c, 0x20, 0x31, 0x2e, 0x30, 0x4e, 0x30, 0x66, 0x38, 0x29]), nothing, Dict{String, MeshCat.SceneTrees.SceneNode}()))), \"65\" => MeshCat.SceneTrees.SceneNode(nothing, UInt8[0x83, 0xa6, 0x6d, 0x61, 0x74, 0x72, 0x69, 0x78, 0xc7, 0x40  …  0x2f, 0x61, 0x67, 0x65, 0x6e, 0x74, 0x73, 0x2f, 0x36, 0x35], Dict{String, Vector{UInt8}}(\"scale\" => [0x84, 0xa8, 0x70, 0x72, 0x6f, 0x70, 0x65, 0x72, 0x74, 0x79  …  0x2f, 0x61, 0x67, 0x65, 0x6e, 0x74, 0x73, 0x2f, 0x36, 0x35]), nothing, Dict{String, MeshCat.SceneTrees.SceneNode}(\"(0.0N0f8, 1.0N0f8, 0.0N0f8, 1.0N0f8)\" => MeshCat.SceneTrees.SceneNode(UInt8[0x83, 0xa6, 0x6f, 0x62, 0x6a, 0x65, 0x63, 0x74, 0x84, 0xaa  …  0x2c, 0x20, 0x31, 0x2e, 0x30, 0x4e, 0x30, 0x66, 0x38, 0x29], nothing, Dict{String, Vector{UInt8}}(\"visible\" => [0x84, 0xa8, 0x70, 0x72, 0x6f, 0x70, 0x65, 0x72, 0x74, 0x79  …  0x2c, 0x20, 0x31, 0x2e, 0x30, 0x4e, 0x30, 0x66, 0x38, 0x29]), nothing, Dict{String, MeshCat.SceneTrees.SceneNode}()))), \"168\" => MeshCat.SceneTrees.SceneNode(nothing, UInt8[0x83, 0xa6, 0x6d, 0x61, 0x74, 0x72, 0x69, 0x78, 0xc7, 0x40  …  0x61, 0x67, 0x65, 0x6e, 0x74, 0x73, 0x2f, 0x31, 0x36, 0x38], Dict{String, Vector{UInt8}}(\"scale\" => [0x84, 0xa8, 0x70, 0x72, 0x6f, 0x70, 0x65, 0x72, 0x74, 0x79  …  0x61, 0x67, 0x65, 0x6e, 0x74, 0x73, 0x2f, 0x31, 0x36, 0x38]), nothing, Dict{String, MeshCat.SceneTrees.SceneNode}(\"(0.0N0f8, 1.0N0f8, 0.0N0f8, 1.0N0f8)\" => MeshCat.SceneTrees.SceneNode(UInt8[0x83, 0xa6, 0x6f, 0x62, 0x6a, 0x65, 0x63, 0x74, 0x84, 0xaa  …  0x2c, 0x20, 0x31, 0x2e, 0x30, 0x4e, 0x30, 0x66, 0x38, 0x29], nothing, Dict{String, Vector{UInt8}}(\"visible\" => [0x84, 0xa8, 0x70, 0x72, 0x6f, 0x70, 0x65, 0x72, 0x74, 0x79  …  0x2c, 0x20, 0x31, 0x2e, 0x30, 0x4e, 0x30, 0x66, 0x38, 0x29]), nothing, Dict{String, MeshCat.SceneTrees.SceneNode}()))), \"159\" => MeshCat.SceneTrees.SceneNode(nothing, UInt8[0x83, 0xa6, 0x6d, 0x61, 0x74, 0x72, 0x69, 0x78, 0xc7, 0x40  …  0x61, 0x67, 0x65, 0x6e, 0x74, 0x73, 0x2f, 0x31, 0x35, 0x39], Dict{String, Vector{UInt8}}(\"scale\" => [0x84, 0xa8, 0x70, 0x72, 0x6f, 0x70, 0x65, 0x72, 0x74, 0x79  …  0x61, 0x67, 0x65, 0x6e, 0x74, 0x73, 0x2f, 0x31, 0x35, 0x39]), nothing, Dict{String, MeshCat.SceneTrees.SceneNode}(\"(1.0N0f8, 0.0N0f8, 0.0N0f8, 1.0N0f8)\" => MeshCat.SceneTrees.SceneNode(UInt8[0x83, 0xa6, 0x6f, 0x62, 0x6a, 0x65, 0x63, 0x74, 0x84, 0xaa  …  0x2c, 0x20, 0x31, 0x2e, 0x30, 0x4e, 0x30, 0x66, 0x38, 0x29], nothing, Dict{String, Vector{UInt8}}(\"visible\" => [0x84, 0xa8, 0x70, 0x72, 0x6f, 0x70, 0x65, 0x72, 0x74, 0x79  …  0x2c, 0x20, 0x31, 0x2e, 0x30, 0x4e, 0x30, 0x66, 0x38, 0x29]), nothing, Dict{String, MeshCat.SceneTrees.SceneNode}()))), \"190\" => MeshCat.SceneTrees.SceneNode(nothing, UInt8[0x83, 0xa6, 0x6d, 0x61, 0x74, 0x72, 0x69, 0x78, 0xc7, 0x40  …  0x61, 0x67, 0x65, 0x6e, 0x74, 0x73, 0x2f, 0x31, 0x39, 0x30], Dict{String, Vector{UInt8}}(\"scale\" => [0x84, 0xa8, 0x70, 0x72, 0x6f, 0x70, 0x65, 0x72, 0x74, 0x79  …  0x61, 0x67, 0x65, 0x6e, 0x74, 0x73, 0x2f, 0x31, 0x39, 0x30]), nothing, Dict{String, MeshCat.SceneTrees.SceneNode}(\"(0.0N0f8, 1.0N0f8, 0.0N0f8, 1.0N0f8)\" => MeshCat.SceneTrees.SceneNode(UInt8[0x83, 0xa6, 0x6f, 0x62, 0x6a, 0x65, 0x63, 0x74, 0x84, 0xaa  …  0x2c, 0x20, 0x31, 0x2e, 0x30, 0x4e, 0x30, 0x66, 0x38, 0x29], nothing, Dict{String, Vector{UInt8}}(\"visible\" => [0x84, 0xa8, 0x70, 0x72, 0x6f, 0x70, 0x65, 0x72, 0x74, 0x79  …  0x2c, 0x20, 0x31, 0x2e, 0x30, 0x4e, 0x30, 0x66, 0x38, 0x29]), nothing, Dict{String, MeshCat.SceneTrees.SceneNode}()))), \"88\" => MeshCat.SceneTrees.SceneNode(nothing, UInt8[0x83, 0xa6, 0x6d, 0x61, 0x74, 0x72, 0x69, 0x78, 0xc7, 0x40  …  0x2f, 0x61, 0x67, 0x65, 0x6e, 0x74, 0x73, 0x2f, 0x38, 0x38], Dict{String, Vector{UInt8}}(\"scale\" => [0x84, 0xa8, 0x70, 0x72, 0x6f, 0x70, 0x65, 0x72, 0x74, 0x79  …  0x2f, 0x61, 0x67, 0x65, 0x6e, 0x74, 0x73, 0x2f, 0x38, 0x38]), nothing, Dict{String, MeshCat.SceneTrees.SceneNode}(\"(0.0N0f8, 1.0N0f8, 0.0N0f8, 1.0N0f8)\" => MeshCat.SceneTrees.SceneNode(UInt8[0x83, 0xa6, 0x6f, 0x62, 0x6a, 0x65, 0x63, 0x74, 0x84, 0xaa  …  0x2c, 0x20, 0x31, 0x2e, 0x30, 0x4e, 0x30, 0x66, 0x38, 0x29], nothing, Dict{String, Vector{UInt8}}(\"visible\" => [0x84, 0xa8, 0x70, 0x72, 0x6f, 0x70, 0x65, 0x72, 0x74, 0x79  …  0x2c, 0x20, 0x31, 0x2e, 0x30, 0x4e, 0x30, 0x66, 0x38, 0x29]), nothing, Dict{String, MeshCat.SceneTrees.SceneNode}()))), \"26\" => MeshCat.SceneTrees.SceneNode(nothing, UInt8[0x83, 0xa6, 0x6d, 0x61, 0x74, 0x72, 0x69, 0x78, 0xc7, 0x40  …  0x2f, 0x61, 0x67, 0x65, 0x6e, 0x74, 0x73, 0x2f, 0x32, 0x36], Dict{String, Vector{UInt8}}(\"scale\" => [0x84, 0xa8, 0x70, 0x72, 0x6f, 0x70, 0x65, 0x72, 0x74, 0x79  …  0x2f, 0x61, 0x67, 0x65, 0x6e, 0x74, 0x73, 0x2f, 0x32, 0x36]), nothing, Dict{String, MeshCat.SceneTrees.SceneNode}(\"(1.0N0f8, 0.0N0f8, 0.0N0f8, 1.0N0f8)\" => MeshCat.SceneTrees.SceneNode(UInt8[0x83, 0xa6, 0x6f, 0x62, 0x6a, 0x65, 0x63, 0x74, 0x84, 0xaa  …  0x2c, 0x20, 0x31, 0x2e, 0x30, 0x4e, 0x30, 0x66, 0x38, 0x29], nothing, Dict{String, Vector{UInt8}}(\"visible\" => [0x84, 0xa8, 0x70, 0x72, 0x6f, 0x70, 0x65, 0x72, 0x74, 0x79  …  0x2c, 0x20, 0x31, 0x2e, 0x30, 0x4e, 0x30, 0x66, 0x38, 0x29]), nothing, Dict{String, MeshCat.SceneTrees.SceneNode}())))…)), \"bbox_line_segments\" => MeshCat.SceneTrees.SceneNode(nothing, nothing, Dict{String, Vector{UInt8}}(), nothing, Dict{String, MeshCat.SceneTrees.SceneNode}(\"4\" => MeshCat.SceneTrees.SceneNode(UInt8[0x83, 0xa6, 0x6f, 0x62, 0x6a, 0x65, 0x63, 0x74, 0x84, 0xaa  …  0x73, 0x65, 0x67, 0x6d, 0x65, 0x6e, 0x74, 0x73, 0x2f, 0x34], nothing, Dict{String, Vector{UInt8}}(), nothing, Dict{String, MeshCat.SceneTrees.SceneNode}()), \"1\" => MeshCat.SceneTrees.SceneNode(UInt8[0x83, 0xa6, 0x6f, 0x62, 0x6a, 0x65, 0x63, 0x74, 0x84, 0xaa  …  0x73, 0x65, 0x67, 0x6d, 0x65, 0x6e, 0x74, 0x73, 0x2f, 0x31], nothing, Dict{String, Vector{UInt8}}(), nothing, Dict{String, MeshCat.SceneTrees.SceneNode}()), \"12\" => MeshCat.SceneTrees.SceneNode(UInt8[0x83, 0xa6, 0x6f, 0x62, 0x6a, 0x65, 0x63, 0x74, 0x84, 0xaa  …  0x65, 0x67, 0x6d, 0x65, 0x6e, 0x74, 0x73, 0x2f, 0x31, 0x32], nothing, Dict{String, Vector{UInt8}}(), nothing, Dict{String, MeshCat.SceneTrees.SceneNode}()), \"2\" => MeshCat.SceneTrees.SceneNode(UInt8[0x83, 0xa6, 0x6f, 0x62, 0x6a, 0x65, 0x63, 0x74, 0x84, 0xaa  …  0x73, 0x65, 0x67, 0x6d, 0x65, 0x6e, 0x74, 0x73, 0x2f, 0x32], nothing, Dict{String, Vector{UInt8}}(), nothing, Dict{String, MeshCat.SceneTrees.SceneNode}()), \"6\" => MeshCat.SceneTrees.SceneNode(UInt8[0x83, 0xa6, 0x6f, 0x62, 0x6a, 0x65, 0x63, 0x74, 0x84, 0xaa  …  0x73, 0x65, 0x67, 0x6d, 0x65, 0x6e, 0x74, 0x73, 0x2f, 0x36], nothing, Dict{String, Vector{UInt8}}(), nothing, Dict{String, MeshCat.SceneTrees.SceneNode}()), \"11\" => MeshCat.SceneTrees.SceneNode(UInt8[0x83, 0xa6, 0x6f, 0x62, 0x6a, 0x65, 0x63, 0x74, 0x84, 0xaa  …  0x65, 0x67, 0x6d, 0x65, 0x6e, 0x74, 0x73, 0x2f, 0x31, 0x31], nothing, Dict{String, Vector{UInt8}}(), nothing, Dict{String, MeshCat.SceneTrees.SceneNode}()), \"5\" => MeshCat.SceneTrees.SceneNode(UInt8[0x83, 0xa6, 0x6f, 0x62, 0x6a, 0x65, 0x63, 0x74, 0x84, 0xaa  …  0x73, 0x65, 0x67, 0x6d, 0x65, 0x6e, 0x74, 0x73, 0x2f, 0x35], nothing, Dict{String, Vector{UInt8}}(), nothing, Dict{String, MeshCat.SceneTrees.SceneNode}()), \"7\" => MeshCat.SceneTrees.SceneNode(UInt8[0x83, 0xa6, 0x6f, 0x62, 0x6a, 0x65, 0x63, 0x74, 0x84, 0xaa  …  0x73, 0x65, 0x67, 0x6d, 0x65, 0x6e, 0x74, 0x73, 0x2f, 0x37], nothing, Dict{String, Vector{UInt8}}(), nothing, Dict{String, MeshCat.SceneTrees.SceneNode}()), \"8\" => MeshCat.SceneTrees.SceneNode(UInt8[0x83, 0xa6, 0x6f, 0x62, 0x6a, 0x65, 0x63, 0x74, 0x84, 0xaa  …  0x73, 0x65, 0x67, 0x6d, 0x65, 0x6e, 0x74, 0x73, 0x2f, 0x38], nothing, Dict{String, Vector{UInt8}}(), nothing, Dict{String, MeshCat.SceneTrees.SceneNode}()), \"10\" => MeshCat.SceneTrees.SceneNode(UInt8[0x83, 0xa6, 0x6f, 0x62, 0x6a, 0x65, 0x63, 0x74, 0x84, 0xaa  …  0x65, 0x67, 0x6d, 0x65, 0x6e, 0x74, 0x73, 0x2f, 0x31, 0x30], nothing, Dict{String, Vector{UInt8}}(), nothing, Dict{String, MeshCat.SceneTrees.SceneNode}())…)))), \"Axes\" => MeshCat.SceneTrees.SceneNode(nothing, nothing, Dict{String, Vector{UInt8}}(), nothing, Dict{String, MeshCat.SceneTrees.SceneNode}(\"<object>\" => MeshCat.SceneTrees.SceneNode(UInt8[0x83, 0xa6, 0x6f, 0x62, 0x6a, 0x65, 0x63, 0x74, 0x84, 0xaa  …  0x73, 0x2f, 0x3c, 0x6f, 0x62, 0x6a, 0x65, 0x63, 0x74, 0x3e], UInt8[0x83, 0xa6, 0x6d, 0x61, 0x74, 0x72, 0x69, 0x78, 0xc7, 0x40  …  0x73, 0x2f, 0x3c, 0x6f, 0x62, 0x6a, 0x65, 0x63, 0x74, 0x3e], Dict{String, Vector{UInt8}}(), nothing, Dict{String, MeshCat.SceneTrees.SceneNode}()))))), Set{HTTP.WebSockets.WebSocket}(), ip\"127.0.0.1\", 8702))), WebIO.Node{WebIO.DOM}(WebIO.DOM(:html, :div), Any[WebIO.Scope(WebIO.Node{WebIO.DOM}(WebIO.DOM(:html, :div), Any[], Dict{Symbol, Any}(:id => \"container\")), Dict{String, Tuple{Observables.AbstractObservable, Union{Nothing, Bool}}}(\"value\" => (Observable(\"\\\\;\\\\;\"), nothing)), Set{String}(), nothing, WebIO.Asset[WebIO.Asset(\"js\", nothing, \"/home/dushya/.julia/packages/InteractBase/LJXv3/src/../assets/katex.min.js\"), WebIO.Asset(\"css\", nothing, \"/home/dushya/.julia/packages/InteractBase/LJXv3/src/../assets/katex.min.css\")], Dict{Any, Any}(\"value\" => Any[WebIO.JSString(\"(function (txt){return this.k.render(txt,this.container)})\")]), WebIO.ConnectionPool(Channel{Any}(32), Set{WebIO.AbstractConnection}(), Base.GenericCondition{ReentrantLock}(Base.IntrusiveLinkedList{Task}(Task (runnable) @0x00007f2f16df9140, Task (runnable) @0x00007f2f16df9140), ReentrantLock(nothing, 0x00000000, 0x00, Base.GenericCondition{Base.Threads.SpinLock}(Base.IntrusiveLinkedList{Task}(nothing, nothing), Base.Threads.SpinLock(0)), (0, 139840227232912, 141733920768)))), WebIO.JSString[WebIO.JSString(\"function () {\\n    var handler = ((function (k){this.k=k; this.container=this.dom.querySelector(\\\"#container\\\"); return k.render(\\\"\\\\\\\\;\\\\\\\\;\\\",this.container)}));\\n    (WebIO.importBlock({\\\"data\\\":[{\\\"name\\\":null,\\\"type\\\":\\\"js\\\",\\\"url\\\":\\\"/assetserver/dd22ed1bf1896c2748f3fe616ce0b838adc895c1-katex.min.js\\\"},{\\\"name\\\":null,\\\"type\\\":\\\"css\\\",\\\"url\\\":\\\"/assetserver/46517a424aa5e6cffc1360d7e0848b601c584ee3-katex.min.css\\\"}],\\\"type\\\":\\\"async_block\\\"})).then((imports) => handler.apply(this, imports));\\n}\\n\")])], Dict{Symbol, Any}(:className => \"interact-widget\")), WebIO.Node{WebIO.DOM}(WebIO.DOM(:html, :div), Any[Observable(Plot{Plots.GRBackend() n=2})], Dict{Symbol, Any}(:style => Dict(\"display\" => \"flex\", \"flex-direction\" => \"column\")))], Dict{Symbol, Any}(:style => Dict(\"display\" => \"flex\", \"flex-direction\" => \"row\")))], Dict{Symbol, Any}(:style => Dict(\"display\" => \"flex\", \"flex-direction\" => \"column\")))"
      ]
     },
     "execution_count": 9,
     "metadata": {
      "application/vnd.webio.node+json": {
       "kernelId": "07053bec-0dc5-4727-9fed-894b97799cbc"
      }
     },
     "output_type": "execute_result"
    }
   ],
   "source": [
    "create_interactive_app(model, initialiser= initialiser!,\n",
    "    step_rule=step_rule!,\n",
    "    model_controls=[(:min_alike, \"slider\", 1:12)], \n",
    "    agent_plots=Dict(\n",
    "        \"happy\"=> agent-> agent.mood == happy, \n",
    "        \"sad\"=> agent-> agent.mood == sad),\n",
    "    frames=200)   "
   ]
  },
  {
   "cell_type": "markdown",
   "metadata": {},
   "source": [
    "## Step 5: Fetch Data \n",
    "\n",
    "In this step we fetch data of number of happy and sad agents at each time step as a dataframe with following function. "
   ]
  },
  {
   "cell_type": "code",
   "execution_count": 10,
   "metadata": {
    "scrolled": true
   },
   "outputs": [
    {
     "data": {
      "image/png": "[encoded data removed]",
      "image/svg+xml": [
       "<?xml version=\"1.0\" encoding=\"utf-8\"?>\n",
       "<svg xmlns=\"http://www.w3.org/2000/svg\" xmlns:xlink=\"http://www.w3.org/1999/xlink\" width=\"600\" height=\"400\" viewBox=\"0 0 2400 1600\">\n",
       "<defs>\n",
       "  <clipPath id=\"clip780\">\n",
       "    <rect x=\"0\" y=\"0\" width=\"2400\" height=\"1600\"/>\n",
       "  </clipPath>\n",
       "</defs>\n",
       "<path clip-path=\"url(#clip780)\" d=\"M0 1600 L2400 1600 L2400 0 L0 0  Z\" fill=\"#ffffff\" fill-rule=\"evenodd\" fill-opacity=\"1\"/>\n",
       "<defs>\n",
       "  <clipPath id=\"clip781\">\n",
       "    <rect x=\"480\" y=\"0\" width=\"1681\" height=\"1600\"/>\n",
       "  </clipPath>\n",
       "</defs>\n",
       "<path clip-path=\"url(#clip780)\" d=\"M234.125 1423.18 L2352.76 1423.18 L2352.76 47.2441 L234.125 47.2441  Z\" fill=\"#ffffff\" fill-rule=\"evenodd\" fill-opacity=\"1\"/>\n",
       "<defs>\n",
       "  <clipPath id=\"clip782\">\n",
       "    <rect x=\"234\" y=\"47\" width=\"2120\" height=\"1377\"/>\n",
       "  </clipPath>\n",
       "</defs>\n",
       "<polyline clip-path=\"url(#clip782)\" style=\"stroke:#000000; stroke-linecap:round; stroke-linejoin:round; stroke-width:2; stroke-opacity:0.1; fill:none\" points=\"274.1,1423.18 274.1,47.2441 \"/>\n",
       "<polyline clip-path=\"url(#clip782)\" style=\"stroke:#000000; stroke-linecap:round; stroke-linejoin:round; stroke-width:2; stroke-opacity:0.1; fill:none\" points=\"773.777,1423.18 773.777,47.2441 \"/>\n",
       "<polyline clip-path=\"url(#clip782)\" style=\"stroke:#000000; stroke-linecap:round; stroke-linejoin:round; stroke-width:2; stroke-opacity:0.1; fill:none\" points=\"1273.45,1423.18 1273.45,47.2441 \"/>\n",
       "<polyline clip-path=\"url(#clip782)\" style=\"stroke:#000000; stroke-linecap:round; stroke-linejoin:round; stroke-width:2; stroke-opacity:0.1; fill:none\" points=\"1773.13,1423.18 1773.13,47.2441 \"/>\n",
       "<polyline clip-path=\"url(#clip782)\" style=\"stroke:#000000; stroke-linecap:round; stroke-linejoin:round; stroke-width:2; stroke-opacity:0.1; fill:none\" points=\"2272.81,1423.18 2272.81,47.2441 \"/>\n",
       "<polyline clip-path=\"url(#clip780)\" style=\"stroke:#000000; stroke-linecap:round; stroke-linejoin:round; stroke-width:4; stroke-opacity:1; fill:none\" points=\"234.125,1423.18 2352.76,1423.18 \"/>\n",
       "<polyline clip-path=\"url(#clip780)\" style=\"stroke:#000000; stroke-linecap:round; stroke-linejoin:round; stroke-width:4; stroke-opacity:1; fill:none\" points=\"274.1,1423.18 274.1,1404.28 \"/>\n",
       "<polyline clip-path=\"url(#clip780)\" style=\"stroke:#000000; stroke-linecap:round; stroke-linejoin:round; stroke-width:4; stroke-opacity:1; fill:none\" points=\"773.777,1423.18 773.777,1404.28 \"/>\n",
       "<polyline clip-path=\"url(#clip780)\" style=\"stroke:#000000; stroke-linecap:round; stroke-linejoin:round; stroke-width:4; stroke-opacity:1; fill:none\" points=\"1273.45,1423.18 1273.45,1404.28 \"/>\n",
       "<polyline clip-path=\"url(#clip780)\" style=\"stroke:#000000; stroke-linecap:round; stroke-linejoin:round; stroke-width:4; stroke-opacity:1; fill:none\" points=\"1773.13,1423.18 1773.13,1404.28 \"/>\n",
       "<polyline clip-path=\"url(#clip780)\" style=\"stroke:#000000; stroke-linecap:round; stroke-linejoin:round; stroke-width:4; stroke-opacity:1; fill:none\" points=\"2272.81,1423.18 2272.81,1404.28 \"/>\n",
       "<path clip-path=\"url(#clip780)\" d=\"M274.1 1454.1 Q270.489 1454.1 268.66 1457.66 Q266.854 1461.2 266.854 1468.33 Q266.854 1475.44 268.66 1479.01 Q270.489 1482.55 274.1 1482.55 Q277.734 1482.55 279.539 1479.01 Q281.368 1475.44 281.368 1468.33 Q281.368 1461.2 279.539 1457.66 Q277.734 1454.1 274.1 1454.1 M274.1 1450.39 Q279.91 1450.39 282.965 1455 Q286.044 1459.58 286.044 1468.33 Q286.044 1477.06 282.965 1481.67 Q279.91 1486.25 274.1 1486.25 Q268.289 1486.25 265.211 1481.67 Q262.155 1477.06 262.155 1468.33 Q262.155 1459.58 265.211 1455 Q268.289 1450.39 274.1 1450.39 Z\" fill=\"#000000\" fill-rule=\"nonzero\" fill-opacity=\"1\" /><path clip-path=\"url(#clip780)\" d=\"M753.048 1481.64 L769.367 1481.64 L769.367 1485.58 L747.423 1485.58 L747.423 1481.64 Q750.085 1478.89 754.668 1474.26 Q759.274 1469.61 760.455 1468.27 Q762.7 1465.74 763.58 1464.01 Q764.483 1462.25 764.483 1460.56 Q764.483 1457.8 762.538 1456.07 Q760.617 1454.33 757.515 1454.33 Q755.316 1454.33 752.862 1455.09 Q750.432 1455.86 747.654 1457.41 L747.654 1452.69 Q750.478 1451.55 752.932 1450.97 Q755.385 1450.39 757.423 1450.39 Q762.793 1450.39 765.987 1453.08 Q769.182 1455.77 769.182 1460.26 Q769.182 1462.39 768.372 1464.31 Q767.585 1466.2 765.478 1468.8 Q764.899 1469.47 761.798 1472.69 Q758.696 1475.88 753.048 1481.64 Z\" fill=\"#000000\" fill-rule=\"nonzero\" fill-opacity=\"1\" /><path clip-path=\"url(#clip780)\" d=\"M779.228 1451.02 L797.584 1451.02 L797.584 1454.96 L783.51 1454.96 L783.51 1463.43 Q784.529 1463.08 785.547 1462.92 Q786.566 1462.73 787.584 1462.73 Q793.371 1462.73 796.751 1465.9 Q800.131 1469.08 800.131 1474.49 Q800.131 1480.07 796.658 1483.17 Q793.186 1486.25 786.867 1486.25 Q784.691 1486.25 782.422 1485.88 Q780.177 1485.51 777.77 1484.77 L777.77 1480.07 Q779.853 1481.2 782.075 1481.76 Q784.297 1482.32 786.774 1482.32 Q790.779 1482.32 793.117 1480.21 Q795.455 1478.1 795.455 1474.49 Q795.455 1470.88 793.117 1468.77 Q790.779 1466.67 786.774 1466.67 Q784.899 1466.67 783.024 1467.08 Q781.172 1467.5 779.228 1468.38 L779.228 1451.02 Z\" fill=\"#000000\" fill-rule=\"nonzero\" fill-opacity=\"1\" /><path clip-path=\"url(#clip780)\" d=\"M1248.15 1451.02 L1266.51 1451.02 L1266.51 1454.96 L1252.44 1454.96 L1252.44 1463.43 Q1253.45 1463.08 1254.47 1462.92 Q1255.49 1462.73 1256.51 1462.73 Q1262.3 1462.73 1265.68 1465.9 Q1269.06 1469.08 1269.06 1474.49 Q1269.06 1480.07 1265.58 1483.17 Q1262.11 1486.25 1255.79 1486.25 Q1253.62 1486.25 1251.35 1485.88 Q1249.1 1485.51 1246.69 1484.77 L1246.69 1480.07 Q1248.78 1481.2 1251 1481.76 Q1253.22 1482.32 1255.7 1482.32 Q1259.7 1482.32 1262.04 1480.21 Q1264.38 1478.1 1264.38 1474.49 Q1264.38 1470.88 1262.04 1468.77 Q1259.7 1466.67 1255.7 1466.67 Q1253.82 1466.67 1251.95 1467.08 Q1250.1 1467.5 1248.15 1468.38 L1248.15 1451.02 Z\" fill=\"#000000\" fill-rule=\"nonzero\" fill-opacity=\"1\" /><path clip-path=\"url(#clip780)\" d=\"M1288.27 1454.1 Q1284.66 1454.1 1282.83 1457.66 Q1281.02 1461.2 1281.02 1468.33 Q1281.02 1475.44 1282.83 1479.01 Q1284.66 1482.55 1288.27 1482.55 Q1291.9 1482.55 1293.71 1479.01 Q1295.54 1475.44 1295.54 1468.33 Q1295.54 1461.2 1293.71 1457.66 Q1291.9 1454.1 1288.27 1454.1 M1288.27 1450.39 Q1294.08 1450.39 1297.13 1455 Q1300.21 1459.58 1300.21 1468.33 Q1300.21 1477.06 1297.13 1481.67 Q1294.08 1486.25 1288.27 1486.25 Q1282.46 1486.25 1279.38 1481.67 Q1276.32 1477.06 1276.32 1468.33 Q1276.32 1459.58 1279.38 1455 Q1282.46 1450.39 1288.27 1450.39 Z\" fill=\"#000000\" fill-rule=\"nonzero\" fill-opacity=\"1\" /><path clip-path=\"url(#clip780)\" d=\"M1746.98 1451.02 L1769.21 1451.02 L1769.21 1453.01 L1756.66 1485.58 L1751.78 1485.58 L1763.58 1454.96 L1746.98 1454.96 L1746.98 1451.02 Z\" fill=\"#000000\" fill-rule=\"nonzero\" fill-opacity=\"1\" /><path clip-path=\"url(#clip780)\" d=\"M1778.37 1451.02 L1796.73 1451.02 L1796.73 1454.96 L1782.66 1454.96 L1782.66 1463.43 Q1783.67 1463.08 1784.69 1462.92 Q1785.71 1462.73 1786.73 1462.73 Q1792.52 1462.73 1795.9 1465.9 Q1799.28 1469.08 1799.28 1474.49 Q1799.28 1480.07 1795.8 1483.17 Q1792.33 1486.25 1786.01 1486.25 Q1783.84 1486.25 1781.57 1485.88 Q1779.32 1485.51 1776.92 1484.77 L1776.92 1480.07 Q1779 1481.2 1781.22 1481.76 Q1783.44 1482.32 1785.92 1482.32 Q1789.92 1482.32 1792.26 1480.21 Q1794.6 1478.1 1794.6 1474.49 Q1794.6 1470.88 1792.26 1468.77 Q1789.92 1466.67 1785.92 1466.67 Q1784.04 1466.67 1782.17 1467.08 Q1780.32 1467.5 1778.37 1468.38 L1778.37 1451.02 Z\" fill=\"#000000\" fill-rule=\"nonzero\" fill-opacity=\"1\" /><path clip-path=\"url(#clip780)\" d=\"M2232.41 1481.64 L2240.05 1481.64 L2240.05 1455.28 L2231.74 1456.95 L2231.74 1452.69 L2240.01 1451.02 L2244.68 1451.02 L2244.68 1481.64 L2252.32 1481.64 L2252.32 1485.58 L2232.41 1485.58 L2232.41 1481.64 Z\" fill=\"#000000\" fill-rule=\"nonzero\" fill-opacity=\"1\" /><path clip-path=\"url(#clip780)\" d=\"M2271.77 1454.1 Q2268.15 1454.1 2266.33 1457.66 Q2264.52 1461.2 2264.52 1468.33 Q2264.52 1475.44 2266.33 1479.01 Q2268.15 1482.55 2271.77 1482.55 Q2275.4 1482.55 2277.21 1479.01 Q2279.03 1475.44 2279.03 1468.33 Q2279.03 1461.2 2277.21 1457.66 Q2275.4 1454.1 2271.77 1454.1 M2271.77 1450.39 Q2277.58 1450.39 2280.63 1455 Q2283.71 1459.58 2283.71 1468.33 Q2283.71 1477.06 2280.63 1481.67 Q2277.58 1486.25 2271.77 1486.25 Q2265.96 1486.25 2262.88 1481.67 Q2259.82 1477.06 2259.82 1468.33 Q2259.82 1459.58 2262.88 1455 Q2265.96 1450.39 2271.77 1450.39 Z\" fill=\"#000000\" fill-rule=\"nonzero\" fill-opacity=\"1\" /><path clip-path=\"url(#clip780)\" d=\"M2301.93 1454.1 Q2298.32 1454.1 2296.49 1457.66 Q2294.68 1461.2 2294.68 1468.33 Q2294.68 1475.44 2296.49 1479.01 Q2298.32 1482.55 2301.93 1482.55 Q2305.56 1482.55 2307.37 1479.01 Q2309.2 1475.44 2309.2 1468.33 Q2309.2 1461.2 2307.37 1457.66 Q2305.56 1454.1 2301.93 1454.1 M2301.93 1450.39 Q2307.74 1450.39 2310.79 1455 Q2313.87 1459.58 2313.87 1468.33 Q2313.87 1477.06 2310.79 1481.67 Q2307.74 1486.25 2301.93 1486.25 Q2296.12 1486.25 2293.04 1481.67 Q2289.98 1477.06 2289.98 1468.33 Q2289.98 1459.58 2293.04 1455 Q2296.12 1450.39 2301.93 1450.39 Z\" fill=\"#000000\" fill-rule=\"nonzero\" fill-opacity=\"1\" /><path clip-path=\"url(#clip780)\" d=\"M1230.48 1522.27 L1230.48 1532.4 L1242.55 1532.4 L1242.55 1536.95 L1230.48 1536.95 L1230.48 1556.3 Q1230.48 1560.66 1231.66 1561.9 Q1232.87 1563.14 1236.53 1563.14 L1242.55 1563.14 L1242.55 1568.04 L1236.53 1568.04 Q1229.75 1568.04 1227.17 1565.53 Q1224.6 1562.98 1224.6 1556.3 L1224.6 1536.95 L1220.3 1536.95 L1220.3 1532.4 L1224.6 1532.4 L1224.6 1522.27 L1230.48 1522.27 Z\" fill=\"#000000\" fill-rule=\"nonzero\" fill-opacity=\"1\" /><path clip-path=\"url(#clip780)\" d=\"M1250.25 1532.4 L1256.11 1532.4 L1256.11 1568.04 L1250.25 1568.04 L1250.25 1532.4 M1250.25 1518.52 L1256.11 1518.52 L1256.11 1525.93 L1250.25 1525.93 L1250.25 1518.52 Z\" fill=\"#000000\" fill-rule=\"nonzero\" fill-opacity=\"1\" /><path clip-path=\"url(#clip780)\" d=\"M1294.01 1533.76 L1294.01 1539.24 Q1291.53 1537.87 1289.02 1537.2 Q1286.53 1536.5 1283.99 1536.5 Q1278.29 1536.5 1275.14 1540.13 Q1271.99 1543.73 1271.99 1550.25 Q1271.99 1556.78 1275.14 1560.4 Q1278.29 1564 1283.99 1564 Q1286.53 1564 1289.02 1563.33 Q1291.53 1562.63 1294.01 1561.26 L1294.01 1566.68 Q1291.56 1567.82 1288.92 1568.39 Q1286.31 1568.97 1283.35 1568.97 Q1275.3 1568.97 1270.56 1563.91 Q1265.81 1558.85 1265.81 1550.25 Q1265.81 1541.53 1270.59 1536.53 Q1275.39 1531.54 1283.73 1531.54 Q1286.44 1531.54 1289.02 1532.11 Q1291.59 1532.65 1294.01 1533.76 Z\" fill=\"#000000\" fill-rule=\"nonzero\" fill-opacity=\"1\" /><path clip-path=\"url(#clip780)\" d=\"M1303.98 1518.52 L1309.86 1518.52 L1309.86 1547.77 L1327.34 1532.4 L1334.82 1532.4 L1315.91 1549.07 L1335.61 1568.04 L1327.97 1568.04 L1309.86 1550.63 L1309.86 1568.04 L1303.98 1568.04 L1303.98 1518.52 Z\" fill=\"#000000\" fill-rule=\"nonzero\" fill-opacity=\"1\" /><path clip-path=\"url(#clip780)\" d=\"M1364.67 1533.45 L1364.67 1538.98 Q1362.19 1537.71 1359.52 1537.07 Q1356.84 1536.44 1353.98 1536.44 Q1349.62 1536.44 1347.42 1537.77 Q1345.26 1539.11 1345.26 1541.79 Q1345.26 1543.82 1346.82 1545 Q1348.38 1546.15 1353.09 1547.2 L1355.09 1547.64 Q1361.33 1548.98 1363.94 1551.43 Q1366.58 1553.85 1366.58 1558.21 Q1366.58 1563.17 1362.64 1566.07 Q1358.72 1568.97 1351.85 1568.97 Q1348.98 1568.97 1345.86 1568.39 Q1342.77 1567.85 1339.34 1566.74 L1339.34 1560.69 Q1342.58 1562.38 1345.73 1563.24 Q1348.89 1564.07 1351.97 1564.07 Q1356.11 1564.07 1358.34 1562.66 Q1360.57 1561.23 1360.57 1558.65 Q1360.57 1556.27 1358.94 1554.99 Q1357.35 1553.72 1351.91 1552.54 L1349.87 1552.07 Q1344.43 1550.92 1342.01 1548.56 Q1339.59 1546.18 1339.59 1542.04 Q1339.59 1537.01 1343.16 1534.27 Q1346.72 1531.54 1353.28 1531.54 Q1356.52 1531.54 1359.39 1532.01 Q1362.25 1532.49 1364.67 1533.45 Z\" fill=\"#000000\" fill-rule=\"nonzero\" fill-opacity=\"1\" /><polyline clip-path=\"url(#clip782)\" style=\"stroke:#000000; stroke-linecap:round; stroke-linejoin:round; stroke-width:2; stroke-opacity:0.1; fill:none\" points=\"234.125,1384.24 2352.76,1384.24 \"/>\n",
       "<polyline clip-path=\"url(#clip782)\" style=\"stroke:#000000; stroke-linecap:round; stroke-linejoin:round; stroke-width:2; stroke-opacity:0.1; fill:none\" points=\"234.125,1059.73 2352.76,1059.73 \"/>\n",
       "<polyline clip-path=\"url(#clip782)\" style=\"stroke:#000000; stroke-linecap:round; stroke-linejoin:round; stroke-width:2; stroke-opacity:0.1; fill:none\" points=\"234.125,735.212 2352.76,735.212 \"/>\n",
       "<polyline clip-path=\"url(#clip782)\" style=\"stroke:#000000; stroke-linecap:round; stroke-linejoin:round; stroke-width:2; stroke-opacity:0.1; fill:none\" points=\"234.125,410.699 2352.76,410.699 \"/>\n",
       "<polyline clip-path=\"url(#clip782)\" style=\"stroke:#000000; stroke-linecap:round; stroke-linejoin:round; stroke-width:2; stroke-opacity:0.1; fill:none\" points=\"234.125,86.1857 2352.76,86.1857 \"/>\n",
       "<polyline clip-path=\"url(#clip780)\" style=\"stroke:#000000; stroke-linecap:round; stroke-linejoin:round; stroke-width:4; stroke-opacity:1; fill:none\" points=\"234.125,1423.18 234.125,47.2441 \"/>\n",
       "<polyline clip-path=\"url(#clip780)\" style=\"stroke:#000000; stroke-linecap:round; stroke-linejoin:round; stroke-width:4; stroke-opacity:1; fill:none\" points=\"234.125,1384.24 253.023,1384.24 \"/>\n",
       "<polyline clip-path=\"url(#clip780)\" style=\"stroke:#000000; stroke-linecap:round; stroke-linejoin:round; stroke-width:4; stroke-opacity:1; fill:none\" points=\"234.125,1059.73 253.023,1059.73 \"/>\n",
       "<polyline clip-path=\"url(#clip780)\" style=\"stroke:#000000; stroke-linecap:round; stroke-linejoin:round; stroke-width:4; stroke-opacity:1; fill:none\" points=\"234.125,735.212 253.023,735.212 \"/>\n",
       "<polyline clip-path=\"url(#clip780)\" style=\"stroke:#000000; stroke-linecap:round; stroke-linejoin:round; stroke-width:4; stroke-opacity:1; fill:none\" points=\"234.125,410.699 253.023,410.699 \"/>\n",
       "<polyline clip-path=\"url(#clip780)\" style=\"stroke:#000000; stroke-linecap:round; stroke-linejoin:round; stroke-width:4; stroke-opacity:1; fill:none\" points=\"234.125,86.1857 253.023,86.1857 \"/>\n",
       "<path clip-path=\"url(#clip780)\" d=\"M186.181 1370.04 Q182.57 1370.04 180.741 1373.6 Q178.936 1377.14 178.936 1384.27 Q178.936 1391.38 180.741 1394.94 Q182.57 1398.49 186.181 1398.49 Q189.815 1398.49 191.621 1394.94 Q193.45 1391.38 193.45 1384.27 Q193.45 1377.14 191.621 1373.6 Q189.815 1370.04 186.181 1370.04 M186.181 1366.33 Q191.991 1366.33 195.047 1370.94 Q198.125 1375.52 198.125 1384.27 Q198.125 1393 195.047 1397.61 Q191.991 1402.19 186.181 1402.19 Q180.371 1402.19 177.292 1397.61 Q174.237 1393 174.237 1384.27 Q174.237 1375.52 177.292 1370.94 Q180.371 1366.33 186.181 1366.33 Z\" fill=\"#000000\" fill-rule=\"nonzero\" fill-opacity=\"1\" /><path clip-path=\"url(#clip780)\" d=\"M146.066 1042.45 L164.422 1042.45 L164.422 1046.38 L150.348 1046.38 L150.348 1054.85 Q151.366 1054.51 152.385 1054.34 Q153.403 1054.16 154.422 1054.16 Q160.209 1054.16 163.589 1057.33 Q166.968 1060.5 166.968 1065.92 Q166.968 1071.5 163.496 1074.6 Q160.024 1077.68 153.704 1077.68 Q151.528 1077.68 149.26 1077.31 Q147.015 1076.94 144.607 1076.19 L144.607 1071.5 Q146.691 1072.63 148.913 1073.19 Q151.135 1073.74 153.612 1073.74 Q157.616 1073.74 159.954 1071.63 Q162.292 1069.53 162.292 1065.92 Q162.292 1062.31 159.954 1060.2 Q157.616 1058.09 153.612 1058.09 Q151.737 1058.09 149.862 1058.51 Q148.01 1058.93 146.066 1059.81 L146.066 1042.45 Z\" fill=\"#000000\" fill-rule=\"nonzero\" fill-opacity=\"1\" /><path clip-path=\"url(#clip780)\" d=\"M186.181 1045.52 Q182.57 1045.52 180.741 1049.09 Q178.936 1052.63 178.936 1059.76 Q178.936 1066.87 180.741 1070.43 Q182.57 1073.97 186.181 1073.97 Q189.815 1073.97 191.621 1070.43 Q193.45 1066.87 193.45 1059.76 Q193.45 1052.63 191.621 1049.09 Q189.815 1045.52 186.181 1045.52 M186.181 1041.82 Q191.991 1041.82 195.047 1046.43 Q198.125 1051.01 198.125 1059.76 Q198.125 1068.49 195.047 1073.09 Q191.991 1077.68 186.181 1077.68 Q180.371 1077.68 177.292 1073.09 Q174.237 1068.49 174.237 1059.76 Q174.237 1051.01 177.292 1046.43 Q180.371 1041.82 186.181 1041.82 Z\" fill=\"#000000\" fill-rule=\"nonzero\" fill-opacity=\"1\" /><path clip-path=\"url(#clip780)\" d=\"M116.668 748.557 L124.306 748.557 L124.306 722.191 L115.996 723.858 L115.996 719.599 L124.26 717.932 L128.936 717.932 L128.936 748.557 L136.575 748.557 L136.575 752.492 L116.668 752.492 L116.668 748.557 Z\" fill=\"#000000\" fill-rule=\"nonzero\" fill-opacity=\"1\" /><path clip-path=\"url(#clip780)\" d=\"M156.019 721.011 Q152.408 721.011 150.579 724.575 Q148.774 728.117 148.774 735.247 Q148.774 742.353 150.579 745.918 Q152.408 749.46 156.019 749.46 Q159.653 749.46 161.459 745.918 Q163.288 742.353 163.288 735.247 Q163.288 728.117 161.459 724.575 Q159.653 721.011 156.019 721.011 M156.019 717.307 Q161.829 717.307 164.885 721.913 Q167.964 726.497 167.964 735.247 Q167.964 743.973 164.885 748.58 Q161.829 753.163 156.019 753.163 Q150.209 753.163 147.13 748.58 Q144.075 743.973 144.075 735.247 Q144.075 726.497 147.13 721.913 Q150.209 717.307 156.019 717.307 Z\" fill=\"#000000\" fill-rule=\"nonzero\" fill-opacity=\"1\" /><path clip-path=\"url(#clip780)\" d=\"M186.181 721.011 Q182.57 721.011 180.741 724.575 Q178.936 728.117 178.936 735.247 Q178.936 742.353 180.741 745.918 Q182.57 749.46 186.181 749.46 Q189.815 749.46 191.621 745.918 Q193.45 742.353 193.45 735.247 Q193.45 728.117 191.621 724.575 Q189.815 721.011 186.181 721.011 M186.181 717.307 Q191.991 717.307 195.047 721.913 Q198.125 726.497 198.125 735.247 Q198.125 743.973 195.047 748.58 Q191.991 753.163 186.181 753.163 Q180.371 753.163 177.292 748.58 Q174.237 743.973 174.237 735.247 Q174.237 726.497 177.292 721.913 Q180.371 717.307 186.181 717.307 Z\" fill=\"#000000\" fill-rule=\"nonzero\" fill-opacity=\"1\" /><path clip-path=\"url(#clip780)\" d=\"M116.668 424.044 L124.306 424.044 L124.306 397.678 L115.996 399.345 L115.996 395.085 L124.26 393.419 L128.936 393.419 L128.936 424.044 L136.575 424.044 L136.575 427.979 L116.668 427.979 L116.668 424.044 Z\" fill=\"#000000\" fill-rule=\"nonzero\" fill-opacity=\"1\" /><path clip-path=\"url(#clip780)\" d=\"M146.066 393.419 L164.422 393.419 L164.422 397.354 L150.348 397.354 L150.348 405.826 Q151.366 405.479 152.385 405.317 Q153.403 405.132 154.422 405.132 Q160.209 405.132 163.589 408.303 Q166.968 411.474 166.968 416.891 Q166.968 422.47 163.496 425.571 Q160.024 428.65 153.704 428.65 Q151.528 428.65 149.26 428.28 Q147.015 427.909 144.607 427.169 L144.607 422.47 Q146.691 423.604 148.913 424.159 Q151.135 424.715 153.612 424.715 Q157.616 424.715 159.954 422.608 Q162.292 420.502 162.292 416.891 Q162.292 413.28 159.954 411.173 Q157.616 409.067 153.612 409.067 Q151.737 409.067 149.862 409.484 Q148.01 409.9 146.066 410.78 L146.066 393.419 Z\" fill=\"#000000\" fill-rule=\"nonzero\" fill-opacity=\"1\" /><path clip-path=\"url(#clip780)\" d=\"M186.181 396.498 Q182.57 396.498 180.741 400.062 Q178.936 403.604 178.936 410.734 Q178.936 417.84 180.741 421.405 Q182.57 424.946 186.181 424.946 Q189.815 424.946 191.621 421.405 Q193.45 417.84 193.45 410.734 Q193.45 403.604 191.621 400.062 Q189.815 396.498 186.181 396.498 M186.181 392.794 Q191.991 392.794 195.047 397.4 Q198.125 401.984 198.125 410.734 Q198.125 419.46 195.047 424.067 Q191.991 428.65 186.181 428.65 Q180.371 428.65 177.292 424.067 Q174.237 419.46 174.237 410.734 Q174.237 401.984 177.292 397.4 Q180.371 392.794 186.181 392.794 Z\" fill=\"#000000\" fill-rule=\"nonzero\" fill-opacity=\"1\" /><path clip-path=\"url(#clip780)\" d=\"M119.885 99.5305 L136.204 99.5305 L136.204 103.466 L114.26 103.466 L114.26 99.5305 Q116.922 96.7759 121.505 92.1463 Q126.112 87.4935 127.292 86.151 Q129.538 83.6278 130.417 81.8917 Q131.32 80.1325 131.32 78.4427 Q131.32 75.688 129.376 73.9519 Q127.455 72.2158 124.353 72.2158 Q122.154 72.2158 119.7 72.9797 Q117.269 73.7436 114.492 75.2945 L114.492 70.5723 Q117.316 69.4381 119.769 68.8594 Q122.223 68.2807 124.26 68.2807 Q129.63 68.2807 132.825 70.9658 Q136.019 73.651 136.019 78.1417 Q136.019 80.2714 135.209 82.1926 Q134.422 84.0908 132.316 86.6834 Q131.737 87.3546 128.635 90.5722 Q125.533 93.7667 119.885 99.5305 Z\" fill=\"#000000\" fill-rule=\"nonzero\" fill-opacity=\"1\" /><path clip-path=\"url(#clip780)\" d=\"M156.019 71.9844 Q152.408 71.9844 150.579 75.5492 Q148.774 79.0908 148.774 86.2204 Q148.774 93.3268 150.579 96.8916 Q152.408 100.433 156.019 100.433 Q159.653 100.433 161.459 96.8916 Q163.288 93.3268 163.288 86.2204 Q163.288 79.0908 161.459 75.5492 Q159.653 71.9844 156.019 71.9844 M156.019 68.2807 Q161.829 68.2807 164.885 72.8871 Q167.964 77.4704 167.964 86.2204 Q167.964 94.9472 164.885 99.5537 Q161.829 104.137 156.019 104.137 Q150.209 104.137 147.13 99.5537 Q144.075 94.9472 144.075 86.2204 Q144.075 77.4704 147.13 72.8871 Q150.209 68.2807 156.019 68.2807 Z\" fill=\"#000000\" fill-rule=\"nonzero\" fill-opacity=\"1\" /><path clip-path=\"url(#clip780)\" d=\"M186.181 71.9844 Q182.57 71.9844 180.741 75.5492 Q178.936 79.0908 178.936 86.2204 Q178.936 93.3268 180.741 96.8916 Q182.57 100.433 186.181 100.433 Q189.815 100.433 191.621 96.8916 Q193.45 93.3268 193.45 86.2204 Q193.45 79.0908 191.621 75.5492 Q189.815 71.9844 186.181 71.9844 M186.181 68.2807 Q191.991 68.2807 195.047 72.8871 Q198.125 77.4704 198.125 86.2204 Q198.125 94.9472 195.047 99.5537 Q191.991 104.137 186.181 104.137 Q180.371 104.137 177.292 99.5537 Q174.237 94.9472 174.237 86.2204 Q174.237 77.4704 177.292 72.8871 Q180.371 68.2807 186.181 68.2807 Z\" fill=\"#000000\" fill-rule=\"nonzero\" fill-opacity=\"1\" /><path clip-path=\"url(#clip780)\" d=\"M42.4881 991.273 L64.0042 991.273 L64.0042 997.129 L42.679 997.129 Q37.6183 997.129 35.1038 999.102 Q32.5894 1001.08 32.5894 1005.02 Q32.5894 1009.76 35.6131 1012.5 Q38.6368 1015.24 43.8567 1015.24 L64.0042 1015.24 L64.0042 1021.13 L28.3562 1021.13 L28.3562 1015.24 L33.8944 1015.24 Q30.6797 1013.14 29.0883 1010.31 Q27.4968 1007.44 27.4968 1003.72 Q27.4968 997.575 31.3163 994.424 Q35.1038 991.273 42.4881 991.273 Z\" fill=\"#000000\" fill-rule=\"nonzero\" fill-opacity=\"1\" /><path clip-path=\"url(#clip780)\" d=\"M49.9359 980.196 L28.3562 980.196 L28.3562 974.34 L49.7131 974.34 Q54.7739 974.34 57.3202 972.366 Q59.8346 970.393 59.8346 966.446 Q59.8346 961.704 56.8109 958.967 Q53.7872 956.197 48.5673 956.197 L28.3562 956.197 L28.3562 950.341 L64.0042 950.341 L64.0042 956.197 L58.5296 956.197 Q61.7762 958.33 63.3676 961.163 Q64.9272 963.964 64.9272 967.688 Q64.9272 973.83 61.1078 977.013 Q57.2883 980.196 49.9359 980.196 M27.4968 965.46 L27.4968 965.46 Z\" fill=\"#000000\" fill-rule=\"nonzero\" fill-opacity=\"1\" /><path clip-path=\"url(#clip780)\" d=\"M35.1993 910.524 Q31.2526 908.327 29.3747 905.272 Q27.4968 902.216 27.4968 898.079 Q27.4968 892.509 31.4117 889.485 Q35.2948 886.461 42.4881 886.461 L64.0042 886.461 L64.0042 892.349 L42.679 892.349 Q37.5546 892.349 35.072 894.164 Q32.5894 895.978 32.5894 899.702 Q32.5894 904.253 35.6131 906.895 Q38.6368 909.537 43.8567 909.537 L64.0042 909.537 L64.0042 915.425 L42.679 915.425 Q37.5228 915.425 35.072 917.239 Q32.5894 919.054 32.5894 922.841 Q32.5894 927.329 35.6449 929.971 Q38.6686 932.613 43.8567 932.613 L64.0042 932.613 L64.0042 938.501 L28.3562 938.501 L28.3562 932.613 L33.8944 932.613 Q30.616 930.607 29.0564 927.806 Q27.4968 925.006 27.4968 921.154 Q27.4968 917.271 29.4702 914.566 Q31.4436 911.828 35.1993 910.524 Z\" fill=\"#000000\" fill-rule=\"nonzero\" fill-opacity=\"1\" /><path clip-path=\"url(#clip780)\" d=\"M46.212 849.19 Q39.7508 849.19 36.0905 851.864 Q32.3984 854.505 32.3984 859.152 Q32.3984 863.799 36.0905 866.473 Q39.7508 869.115 46.212 869.115 Q52.6732 869.115 56.3653 866.473 Q60.0256 863.799 60.0256 859.152 Q60.0256 854.505 56.3653 851.864 Q52.6732 849.19 46.212 849.19 M33.7671 869.115 Q30.5842 867.269 29.0564 864.468 Q27.4968 861.635 27.4968 857.72 Q27.4968 851.227 32.6531 847.185 Q37.8093 843.111 46.212 843.111 Q54.6147 843.111 59.771 847.185 Q64.9272 851.227 64.9272 857.72 Q64.9272 861.635 63.3994 864.468 Q61.8398 867.269 58.657 869.115 L64.0042 869.115 L64.0042 875.003 L14.479 875.003 L14.479 869.115 L33.7671 869.115 Z\" fill=\"#000000\" fill-rule=\"nonzero\" fill-opacity=\"1\" /><path clip-path=\"url(#clip780)\" d=\"M44.7161 802.911 L47.5806 802.911 L47.5806 829.838 Q53.6281 829.456 56.8109 826.21 Q59.9619 822.931 59.9619 817.107 Q59.9619 813.733 59.1344 810.582 Q58.3069 807.399 56.6518 804.28 L62.1899 804.28 Q63.5267 807.431 64.227 810.741 Q64.9272 814.051 64.9272 817.457 Q64.9272 825.987 59.9619 830.984 Q54.9967 835.949 46.5303 835.949 Q37.7774 835.949 32.6531 831.239 Q27.4968 826.496 27.4968 818.475 Q27.4968 811.282 32.1438 807.113 Q36.7589 802.911 44.7161 802.911 M42.9973 808.768 Q38.1912 808.831 35.3266 811.473 Q32.4621 814.083 32.4621 818.412 Q32.4621 823.313 35.2312 826.273 Q38.0002 829.202 43.0292 829.647 L42.9973 808.768 Z\" fill=\"#000000\" fill-rule=\"nonzero\" fill-opacity=\"1\" /><path clip-path=\"url(#clip780)\" d=\"M33.8307 772.642 Q33.2578 773.629 33.0032 774.807 Q32.7167 775.952 32.7167 777.353 Q32.7167 782.318 35.9632 784.992 Q39.1779 787.634 45.2253 787.634 L64.0042 787.634 L64.0042 793.522 L28.3562 793.522 L28.3562 787.634 L33.8944 787.634 Q30.6479 785.788 29.0883 782.827 Q27.4968 779.867 27.4968 775.634 Q27.4968 775.029 27.5923 774.297 Q27.656 773.565 27.8151 772.674 L33.8307 772.642 Z\" fill=\"#000000\" fill-rule=\"nonzero\" fill-opacity=\"1\" /><path clip-path=\"url(#clip780)\" d=\"M32.4621 731.965 Q32.4621 736.676 36.1542 739.413 Q39.8145 742.151 46.212 742.151 Q52.6095 742.151 56.3017 739.445 Q59.9619 736.708 59.9619 731.965 Q59.9619 727.287 56.2698 724.549 Q52.5777 721.812 46.212 721.812 Q39.8781 721.812 36.186 724.549 Q32.4621 727.287 32.4621 731.965 M27.4968 731.965 Q27.4968 724.327 32.4621 719.966 Q37.4273 715.606 46.212 715.606 Q54.9649 715.606 59.9619 719.966 Q64.9272 724.327 64.9272 731.965 Q64.9272 739.636 59.9619 743.997 Q54.9649 748.325 46.212 748.325 Q37.4273 748.325 32.4621 743.997 Q27.4968 739.636 27.4968 731.965 Z\" fill=\"#000000\" fill-rule=\"nonzero\" fill-opacity=\"1\" /><path clip-path=\"url(#clip780)\" d=\"M14.479 687.851 L19.3487 687.851 L19.3487 693.453 Q19.3487 696.604 20.6219 697.845 Q21.895 699.055 25.2052 699.055 L28.3562 699.055 L28.3562 689.411 L32.9077 689.411 L32.9077 699.055 L64.0042 699.055 L64.0042 704.943 L32.9077 704.943 L32.9077 710.545 L28.3562 710.545 L28.3562 704.943 L25.8736 704.943 Q19.9216 704.943 17.2162 702.174 Q14.479 699.405 14.479 693.389 L14.479 687.851 Z\" fill=\"#000000\" fill-rule=\"nonzero\" fill-opacity=\"1\" /><path clip-path=\"url(#clip780)\" d=\"M46.0847 646.028 Q46.0847 653.126 47.7079 655.863 Q49.3312 658.601 53.2461 658.601 Q56.3653 658.601 58.2114 656.564 Q60.0256 654.495 60.0256 650.962 Q60.0256 646.092 56.5881 643.164 Q53.1188 640.204 47.3897 640.204 L46.0847 640.204 L46.0847 646.028 M43.6657 634.347 L64.0042 634.347 L64.0042 640.204 L58.5933 640.204 Q61.8398 642.209 63.3994 645.201 Q64.9272 648.193 64.9272 652.521 Q64.9272 657.996 61.8716 661.242 Q58.7843 664.457 53.6281 664.457 Q47.6125 664.457 44.5569 660.447 Q41.5014 656.405 41.5014 648.416 L41.5014 640.204 L40.9285 640.204 Q36.8862 640.204 34.6901 642.877 Q32.4621 645.519 32.4621 650.325 Q32.4621 653.381 33.1941 656.277 Q33.9262 659.174 35.3903 661.847 L29.9795 661.847 Q28.7381 658.633 28.1334 655.609 Q27.4968 652.585 27.4968 649.721 Q27.4968 641.986 31.5072 638.167 Q35.5176 634.347 43.6657 634.347 Z\" fill=\"#000000\" fill-rule=\"nonzero\" fill-opacity=\"1\" /><path clip-path=\"url(#clip780)\" d=\"M45.7664 598.827 Q39.4007 598.827 35.8996 601.468 Q32.3984 604.078 32.3984 608.821 Q32.3984 613.531 35.8996 616.173 Q39.4007 618.783 45.7664 618.783 Q52.1003 618.783 55.6014 616.173 Q59.1026 613.531 59.1026 608.821 Q59.1026 604.078 55.6014 601.468 Q52.1003 598.827 45.7664 598.827 M59.58 592.97 Q68.683 592.97 73.1071 597.012 Q77.5631 601.055 77.5631 609.394 Q77.5631 612.481 77.0857 615.218 Q76.6401 617.956 75.6852 620.534 L69.9879 620.534 Q71.3884 617.956 72.0568 615.441 Q72.7252 612.927 72.7252 610.317 Q72.7252 604.556 69.7015 601.691 Q66.7096 598.827 60.6303 598.827 L57.7339 598.827 Q60.885 600.641 62.4446 603.474 Q64.0042 606.306 64.0042 610.253 Q64.0042 616.81 59.0071 620.82 Q54.01 624.831 45.7664 624.831 Q37.491 624.831 32.4939 620.82 Q27.4968 616.81 27.4968 610.253 Q27.4968 606.306 29.0564 603.474 Q30.616 600.641 33.7671 598.827 L28.3562 598.827 L28.3562 592.97 L59.58 592.97 Z\" fill=\"#000000\" fill-rule=\"nonzero\" fill-opacity=\"1\" /><path clip-path=\"url(#clip780)\" d=\"M44.7161 550.416 L47.5806 550.416 L47.5806 577.342 Q53.6281 576.961 56.8109 573.714 Q59.9619 570.436 59.9619 564.611 Q59.9619 561.237 59.1344 558.086 Q58.3069 554.903 56.6518 551.784 L62.1899 551.784 Q63.5267 554.935 64.227 558.245 Q64.9272 561.555 64.9272 564.961 Q64.9272 573.491 59.9619 578.488 Q54.9967 583.454 46.5303 583.454 Q37.7774 583.454 32.6531 578.743 Q27.4968 574 27.4968 565.98 Q27.4968 558.786 32.1438 554.617 Q36.7589 550.416 44.7161 550.416 M42.9973 556.272 Q38.1912 556.336 35.3266 558.977 Q32.4621 561.587 32.4621 565.916 Q32.4621 570.818 35.2312 573.778 Q38.0002 576.706 43.0292 577.151 L42.9973 556.272 Z\" fill=\"#000000\" fill-rule=\"nonzero\" fill-opacity=\"1\" /><path clip-path=\"url(#clip780)\" d=\"M42.4881 511.171 L64.0042 511.171 L64.0042 517.027 L42.679 517.027 Q37.6183 517.027 35.1038 519.001 Q32.5894 520.974 32.5894 524.921 Q32.5894 529.663 35.6131 532.401 Q38.6368 535.138 43.8567 535.138 L64.0042 535.138 L64.0042 541.026 L28.3562 541.026 L28.3562 535.138 L33.8944 535.138 Q30.6797 533.037 29.0883 530.204 Q27.4968 527.34 27.4968 523.616 Q27.4968 517.473 31.3163 514.322 Q35.1038 511.171 42.4881 511.171 Z\" fill=\"#000000\" fill-rule=\"nonzero\" fill-opacity=\"1\" /><path clip-path=\"url(#clip780)\" d=\"M18.2347 493.697 L28.3562 493.697 L28.3562 481.634 L32.9077 481.634 L32.9077 493.697 L52.2594 493.697 Q56.6199 493.697 57.8613 492.519 Q59.1026 491.31 59.1026 487.65 L59.1026 481.634 L64.0042 481.634 L64.0042 487.65 Q64.0042 494.429 61.4897 497.007 Q58.9434 499.585 52.2594 499.585 L32.9077 499.585 L32.9077 503.882 L28.3562 503.882 L28.3562 499.585 L18.2347 499.585 L18.2347 493.697 Z\" fill=\"#000000\" fill-rule=\"nonzero\" fill-opacity=\"1\" /><path clip-path=\"url(#clip780)\" d=\"M29.4065 451.206 L34.9447 451.206 Q33.6716 453.689 33.035 456.362 Q32.3984 459.036 32.3984 461.9 Q32.3984 466.261 33.7352 468.457 Q35.072 470.621 37.7456 470.621 Q39.7826 470.621 40.9603 469.062 Q42.1061 467.502 43.1565 462.792 L43.6021 460.786 Q44.9389 454.548 47.3897 451.938 Q49.8086 449.296 54.1691 449.296 Q59.1344 449.296 62.0308 453.243 Q64.9272 457.158 64.9272 464.033 Q64.9272 466.897 64.3543 470.017 Q63.8132 473.104 62.6992 476.541 L56.6518 476.541 Q58.3387 473.295 59.198 470.144 Q60.0256 466.993 60.0256 463.906 Q60.0256 459.768 58.6251 457.54 Q57.1929 455.312 54.6147 455.312 Q52.2276 455.312 50.9545 456.935 Q49.6813 458.527 48.5037 463.969 L48.0262 466.006 Q46.8804 471.449 44.5251 473.868 Q42.138 476.287 38.0002 476.287 Q32.9713 476.287 30.2341 472.722 Q27.4968 469.157 27.4968 462.601 Q27.4968 459.354 27.9743 456.49 Q28.4517 453.625 29.4065 451.206 Z\" fill=\"#000000\" fill-rule=\"nonzero\" fill-opacity=\"1\" /><polyline clip-path=\"url(#clip782)\" style=\"stroke:#009af9; stroke-linecap:round; stroke-linejoin:round; stroke-width:4; stroke-opacity:1; fill:none\" points=\"294.087,1137.61 314.074,1033.76 334.061,793.624 354.048,702.761 374.035,605.407 394.022,585.936 414.009,553.485 433.996,488.582 453.983,449.64 473.97,417.189 493.957,345.796 513.945,345.796 533.932,280.894 553.919,274.403 573.906,254.933 593.893,209.501 613.88,196.52 633.867,190.03 653.854,183.54 673.841,151.088 693.828,138.108 713.815,131.618 733.802,131.618 753.79,125.127 773.777,131.618 793.764,131.618 813.751,125.127 833.738,125.127 853.725,125.127 873.712,105.656 893.699,99.1662 913.686,99.1662 933.673,99.1662 953.66,99.1662 973.647,99.1662 993.634,99.1662 1013.62,99.1662 1033.61,92.6759 1053.6,92.6759 1073.58,92.6759 1093.57,92.6759 1113.56,92.6759 1133.54,92.6759 1153.53,92.6759 1173.52,92.6759 1193.51,92.6759 1213.49,92.6759 1233.48,92.6759 1253.47,92.6759 1273.45,92.6759 1293.44,86.1857 1313.43,86.1857 1333.41,86.1857 1353.4,86.1857 1373.39,86.1857 1393.38,86.1857 1413.36,86.1857 1433.35,86.1857 1453.34,86.1857 1473.32,86.1857 1493.31,86.1857 1513.3,86.1857 1533.29,86.1857 1553.27,86.1857 1573.26,86.1857 1593.25,86.1857 1613.23,86.1857 1633.22,86.1857 1653.21,86.1857 1673.2,86.1857 1693.18,86.1857 1713.17,86.1857 1733.16,86.1857 1753.14,86.1857 1773.13,86.1857 1793.12,86.1857 1813.1,86.1857 1833.09,86.1857 1853.08,86.1857 1873.07,86.1857 1893.05,86.1857 1913.04,86.1857 1933.03,86.1857 1953.01,86.1857 1973,86.1857 1992.99,86.1857 2012.98,86.1857 2032.96,86.1857 2052.95,86.1857 2072.94,86.1857 2092.92,86.1857 2112.91,86.1857 2132.9,86.1857 2152.89,86.1857 2172.87,86.1857 2192.86,86.1857 2212.85,86.1857 2232.83,86.1857 2252.82,86.1857 2272.81,86.1857 2292.79,86.1857 \"/>\n",
       "<polyline clip-path=\"url(#clip782)\" style=\"stroke:#e26f46; stroke-linecap:round; stroke-linejoin:round; stroke-width:4; stroke-opacity:1; fill:none\" points=\"294.087,332.816 314.074,436.66 334.061,676.8 354.048,767.663 374.035,865.017 394.022,884.488 414.009,916.939 433.996,981.842 453.983,1020.78 473.97,1053.23 493.957,1124.63 513.945,1124.63 533.932,1189.53 553.919,1196.02 573.906,1215.49 593.893,1260.92 613.88,1273.9 633.867,1280.39 653.854,1286.88 673.841,1319.34 693.828,1332.32 713.815,1338.81 733.802,1338.81 753.79,1345.3 773.777,1338.81 793.764,1338.81 813.751,1345.3 833.738,1345.3 853.725,1345.3 873.712,1364.77 893.699,1371.26 913.686,1371.26 933.673,1371.26 953.66,1371.26 973.647,1371.26 993.634,1371.26 1013.62,1371.26 1033.61,1377.75 1053.6,1377.75 1073.58,1377.75 1093.57,1377.75 1113.56,1377.75 1133.54,1377.75 1153.53,1377.75 1173.52,1377.75 1193.51,1377.75 1213.49,1377.75 1233.48,1377.75 1253.47,1377.75 1273.45,1377.75 1293.44,1384.24 1313.43,1384.24 1333.41,1384.24 1353.4,1384.24 1373.39,1384.24 1393.38,1384.24 1413.36,1384.24 1433.35,1384.24 1453.34,1384.24 1473.32,1384.24 1493.31,1384.24 1513.3,1384.24 1533.29,1384.24 1553.27,1384.24 1573.26,1384.24 1593.25,1384.24 1613.23,1384.24 1633.22,1384.24 1653.21,1384.24 1673.2,1384.24 1693.18,1384.24 1713.17,1384.24 1733.16,1384.24 1753.14,1384.24 1773.13,1384.24 1793.12,1384.24 1813.1,1384.24 1833.09,1384.24 1853.08,1384.24 1873.07,1384.24 1893.05,1384.24 1913.04,1384.24 1933.03,1384.24 1953.01,1384.24 1973,1384.24 1992.99,1384.24 2012.98,1384.24 2032.96,1384.24 2052.95,1384.24 2072.94,1384.24 2092.92,1384.24 2112.91,1384.24 2132.9,1384.24 2152.89,1384.24 2172.87,1384.24 2192.86,1384.24 2212.85,1384.24 2232.83,1384.24 2252.82,1384.24 2272.81,1384.24 2292.79,1384.24 \"/>\n",
       "<path clip-path=\"url(#clip780)\" d=\"M1928.65 248.629 L2282.13 248.629 L2282.13 93.1086 L1928.65 93.1086  Z\" fill=\"#ffffff\" fill-rule=\"evenodd\" fill-opacity=\"1\"/>\n",
       "<polyline clip-path=\"url(#clip780)\" style=\"stroke:#000000; stroke-linecap:round; stroke-linejoin:round; stroke-width:4; stroke-opacity:1; fill:none\" points=\"1928.65,248.629 2282.13,248.629 2282.13,93.1086 1928.65,93.1086 1928.65,248.629 \"/>\n",
       "<polyline clip-path=\"url(#clip780)\" style=\"stroke:#009af9; stroke-linecap:round; stroke-linejoin:round; stroke-width:4; stroke-opacity:1; fill:none\" points=\"1952.19,144.949 2093.43,144.949 \"/>\n",
       "<path clip-path=\"url(#clip780)\" d=\"M2138.69 146.581 L2138.69 162.229 L2134.43 162.229 L2134.43 146.719 Q2134.43 143.039 2132.99 141.21 Q2131.56 139.382 2128.69 139.382 Q2125.24 139.382 2123.25 141.581 Q2121.26 143.78 2121.26 147.576 L2121.26 162.229 L2116.97 162.229 L2116.97 126.21 L2121.26 126.21 L2121.26 140.331 Q2122.79 137.993 2124.85 136.835 Q2126.93 135.678 2129.64 135.678 Q2134.1 135.678 2136.4 138.456 Q2138.69 141.21 2138.69 146.581 Z\" fill=\"#000000\" fill-rule=\"nonzero\" fill-opacity=\"1\" /><path clip-path=\"url(#clip780)\" d=\"M2158.97 149.196 Q2153.8 149.196 2151.81 150.377 Q2149.82 151.557 2149.82 154.405 Q2149.82 156.673 2151.3 158.016 Q2152.81 159.335 2155.38 159.335 Q2158.92 159.335 2161.05 156.835 Q2163.2 154.312 2163.2 150.145 L2163.2 149.196 L2158.97 149.196 M2167.46 147.437 L2167.46 162.229 L2163.2 162.229 L2163.2 158.293 Q2161.74 160.655 2159.57 161.789 Q2157.39 162.9 2154.24 162.9 Q2150.26 162.9 2147.9 160.678 Q2145.56 158.432 2145.56 154.682 Q2145.56 150.307 2148.48 148.085 Q2151.42 145.863 2157.23 145.863 L2163.2 145.863 L2163.2 145.446 Q2163.2 142.507 2161.26 140.909 Q2159.34 139.289 2155.84 139.289 Q2153.62 139.289 2151.51 139.821 Q2149.41 140.354 2147.46 141.419 L2147.46 137.483 Q2149.8 136.581 2152 136.141 Q2154.2 135.678 2156.28 135.678 Q2161.91 135.678 2164.68 138.594 Q2167.46 141.511 2167.46 147.437 Z\" fill=\"#000000\" fill-rule=\"nonzero\" fill-opacity=\"1\" /><path clip-path=\"url(#clip780)\" d=\"M2180.35 158.34 L2180.35 172.09 L2176.07 172.09 L2176.07 136.303 L2180.35 136.303 L2180.35 140.238 Q2181.7 137.923 2183.73 136.812 Q2185.79 135.678 2188.64 135.678 Q2193.36 135.678 2196.3 139.428 Q2199.27 143.178 2199.27 149.289 Q2199.27 155.4 2196.3 159.15 Q2193.36 162.9 2188.64 162.9 Q2185.79 162.9 2183.73 161.789 Q2181.7 160.655 2180.35 158.34 M2194.84 149.289 Q2194.84 144.59 2192.9 141.928 Q2190.98 139.243 2187.6 139.243 Q2184.22 139.243 2182.28 141.928 Q2180.35 144.59 2180.35 149.289 Q2180.35 153.988 2182.28 156.673 Q2184.22 159.335 2187.6 159.335 Q2190.98 159.335 2192.9 156.673 Q2194.84 153.988 2194.84 149.289 Z\" fill=\"#000000\" fill-rule=\"nonzero\" fill-opacity=\"1\" /><path clip-path=\"url(#clip780)\" d=\"M2210.45 158.34 L2210.45 172.09 L2206.16 172.09 L2206.16 136.303 L2210.45 136.303 L2210.45 140.238 Q2211.79 137.923 2213.83 136.812 Q2215.89 135.678 2218.73 135.678 Q2223.46 135.678 2226.4 139.428 Q2229.36 143.178 2229.36 149.289 Q2229.36 155.4 2226.4 159.15 Q2223.46 162.9 2218.73 162.9 Q2215.89 162.9 2213.83 161.789 Q2211.79 160.655 2210.45 158.34 M2224.94 149.289 Q2224.94 144.59 2222.99 141.928 Q2221.07 139.243 2217.69 139.243 Q2214.31 139.243 2212.37 141.928 Q2210.45 144.59 2210.45 149.289 Q2210.45 153.988 2212.37 156.673 Q2214.31 159.335 2217.69 159.335 Q2221.07 159.335 2222.99 156.673 Q2224.94 153.988 2224.94 149.289 Z\" fill=\"#000000\" fill-rule=\"nonzero\" fill-opacity=\"1\" /><path clip-path=\"url(#clip780)\" d=\"M2247.21 164.636 Q2245.4 169.266 2243.69 170.678 Q2241.97 172.09 2239.1 172.09 L2235.7 172.09 L2235.7 168.525 L2238.2 168.525 Q2239.96 168.525 2240.93 167.692 Q2241.9 166.858 2243.09 163.756 L2243.85 161.812 L2233.36 136.303 L2237.88 136.303 L2245.98 156.581 L2254.08 136.303 L2258.59 136.303 L2247.21 164.636 Z\" fill=\"#000000\" fill-rule=\"nonzero\" fill-opacity=\"1\" /><polyline clip-path=\"url(#clip780)\" style=\"stroke:#e26f46; stroke-linecap:round; stroke-linejoin:round; stroke-width:4; stroke-opacity:1; fill:none\" points=\"1952.19,196.789 2093.43,196.789 \"/>\n",
       "<path clip-path=\"url(#clip780)\" d=\"M2135.4 188.907 L2135.4 192.934 Q2133.6 192.009 2131.65 191.546 Q2129.71 191.083 2127.62 191.083 Q2124.45 191.083 2122.85 192.055 Q2121.28 193.027 2121.28 194.971 Q2121.28 196.453 2122.41 197.309 Q2123.55 198.143 2126.97 198.907 L2128.43 199.231 Q2132.97 200.203 2134.87 201.985 Q2136.79 203.745 2136.79 206.916 Q2136.79 210.527 2133.92 212.633 Q2131.07 214.74 2126.07 214.74 Q2123.99 214.74 2121.72 214.323 Q2119.47 213.93 2116.97 213.12 L2116.97 208.721 Q2119.34 209.948 2121.63 210.573 Q2123.92 211.175 2126.16 211.175 Q2129.17 211.175 2130.79 210.157 Q2132.41 209.115 2132.41 207.24 Q2132.41 205.504 2131.23 204.578 Q2130.08 203.652 2126.12 202.796 L2124.64 202.448 Q2120.68 201.615 2118.92 199.902 Q2117.16 198.166 2117.16 195.157 Q2117.16 191.499 2119.75 189.509 Q2122.35 187.518 2127.11 187.518 Q2129.47 187.518 2131.56 187.865 Q2133.64 188.212 2135.4 188.907 Z\" fill=\"#000000\" fill-rule=\"nonzero\" fill-opacity=\"1\" /><path clip-path=\"url(#clip780)\" d=\"M2155.35 201.036 Q2150.19 201.036 2148.2 202.217 Q2146.21 203.397 2146.21 206.245 Q2146.21 208.513 2147.69 209.856 Q2149.2 211.175 2151.77 211.175 Q2155.31 211.175 2157.44 208.675 Q2159.59 206.152 2159.59 201.985 L2159.59 201.036 L2155.35 201.036 M2163.85 199.277 L2163.85 214.069 L2159.59 214.069 L2159.59 210.133 Q2158.13 212.495 2155.96 213.629 Q2153.78 214.74 2150.63 214.74 Q2146.65 214.74 2144.29 212.518 Q2141.95 210.272 2141.95 206.522 Q2141.95 202.147 2144.87 199.925 Q2147.81 197.703 2153.62 197.703 L2159.59 197.703 L2159.59 197.286 Q2159.59 194.347 2157.65 192.749 Q2155.72 191.129 2152.23 191.129 Q2150.01 191.129 2147.9 191.661 Q2145.79 192.194 2143.85 193.259 L2143.85 189.323 Q2146.19 188.421 2148.39 187.981 Q2150.59 187.518 2152.67 187.518 Q2158.29 187.518 2161.07 190.434 Q2163.85 193.351 2163.85 199.277 Z\" fill=\"#000000\" fill-rule=\"nonzero\" fill-opacity=\"1\" /><path clip-path=\"url(#clip780)\" d=\"M2189.68 192.078 L2189.68 178.05 L2193.94 178.05 L2193.94 214.069 L2189.68 214.069 L2189.68 210.18 Q2188.34 212.495 2186.28 213.629 Q2184.24 214.74 2181.37 214.74 Q2176.67 214.74 2173.71 210.99 Q2170.77 207.24 2170.77 201.129 Q2170.77 195.018 2173.71 191.268 Q2176.67 187.518 2181.37 187.518 Q2184.24 187.518 2186.28 188.652 Q2188.34 189.763 2189.68 192.078 M2175.17 201.129 Q2175.17 205.828 2177.09 208.513 Q2179.03 211.175 2182.41 211.175 Q2185.79 211.175 2187.74 208.513 Q2189.68 205.828 2189.68 201.129 Q2189.68 196.43 2187.74 193.768 Q2185.79 191.083 2182.41 191.083 Q2179.03 191.083 2177.09 193.768 Q2175.17 196.43 2175.17 201.129 Z\" fill=\"#000000\" fill-rule=\"nonzero\" fill-opacity=\"1\" /></svg>\n"
      ],
      "text/html": [
       "<img src=\"data:image/png;base64,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\" />"
      ]
     },
     "metadata": {},
     "output_type": "display_data"
    },
    {
     "data": {
      "text/html": [
       "<div><div style = \"float: left;\"><span>101×2 DataFrame</span></div><div style = \"float: right;\"><span style = \"font-style: italic;\">76 rows omitted</span></div><div style = \"clear: both;\"></div></div><div class = \"data-frame\" style = \"overflow-x: scroll;\"><table class = \"data-frame\" style = \"margin-bottom: 6px;\"><thead><tr class = \"header\"><th class = \"rowNumber\" style = \"font-weight: bold; text-align: right;\">Row</th><th style = \"text-align: left;\">happy</th><th style = \"text-align: left;\">sad</th></tr><tr class = \"subheader headerLastRow\"><th class = \"rowNumber\" style = \"font-weight: bold; text-align: right;\"></th><th title = \"Int64\" style = \"text-align: left;\">Int64</th><th title = \"Int64\" style = \"text-align: left;\">Int64</th></tr></thead><tbody><tr><td class = \"rowNumber\" style = \"font-weight: bold; text-align: right;\">1</td><td style = \"text-align: right;\">38</td><td style = \"text-align: right;\">162</td></tr><tr><td class = \"rowNumber\" style = \"font-weight: bold; text-align: right;\">2</td><td style = \"text-align: right;\">54</td><td style = \"text-align: right;\">146</td></tr><tr><td class = \"rowNumber\" style = \"font-weight: bold; text-align: right;\">3</td><td style = \"text-align: right;\">91</td><td style = \"text-align: right;\">109</td></tr><tr><td class = \"rowNumber\" style = \"font-weight: bold; text-align: right;\">4</td><td style = \"text-align: right;\">105</td><td style = \"text-align: right;\">95</td></tr><tr><td class = \"rowNumber\" style = \"font-weight: bold; text-align: right;\">5</td><td style = \"text-align: right;\">120</td><td style = \"text-align: right;\">80</td></tr><tr><td class = \"rowNumber\" style = \"font-weight: bold; text-align: right;\">6</td><td style = \"text-align: right;\">123</td><td style = \"text-align: right;\">77</td></tr><tr><td class = \"rowNumber\" style = \"font-weight: bold; text-align: right;\">7</td><td style = \"text-align: right;\">128</td><td style = \"text-align: right;\">72</td></tr><tr><td class = \"rowNumber\" style = \"font-weight: bold; text-align: right;\">8</td><td style = \"text-align: right;\">138</td><td style = \"text-align: right;\">62</td></tr><tr><td class = \"rowNumber\" style = \"font-weight: bold; text-align: right;\">9</td><td style = \"text-align: right;\">144</td><td style = \"text-align: right;\">56</td></tr><tr><td class = \"rowNumber\" style = \"font-weight: bold; text-align: right;\">10</td><td style = \"text-align: right;\">149</td><td style = \"text-align: right;\">51</td></tr><tr><td class = \"rowNumber\" style = \"font-weight: bold; text-align: right;\">11</td><td style = \"text-align: right;\">160</td><td style = \"text-align: right;\">40</td></tr><tr><td class = \"rowNumber\" style = \"font-weight: bold; text-align: right;\">12</td><td style = \"text-align: right;\">160</td><td style = \"text-align: right;\">40</td></tr><tr><td class = \"rowNumber\" style = \"font-weight: bold; text-align: right;\">13</td><td style = \"text-align: right;\">170</td><td style = \"text-align: right;\">30</td></tr><tr><td style = \"text-align: right;\">&vellip;</td><td style = \"text-align: right;\">&vellip;</td><td style = \"text-align: right;\">&vellip;</td></tr><tr><td class = \"rowNumber\" style = \"font-weight: bold; text-align: right;\">90</td><td style = \"text-align: right;\">200</td><td style = \"text-align: right;\">0</td></tr><tr><td class = \"rowNumber\" style = \"font-weight: bold; text-align: right;\">91</td><td style = \"text-align: right;\">200</td><td style = \"text-align: right;\">0</td></tr><tr><td class = \"rowNumber\" style = \"font-weight: bold; text-align: right;\">92</td><td style = \"text-align: right;\">200</td><td style = \"text-align: right;\">0</td></tr><tr><td class = \"rowNumber\" style = \"font-weight: bold; text-align: right;\">93</td><td style = \"text-align: right;\">200</td><td style = \"text-align: right;\">0</td></tr><tr><td class = \"rowNumber\" style = \"font-weight: bold; text-align: right;\">94</td><td style = \"text-align: right;\">200</td><td style = \"text-align: right;\">0</td></tr><tr><td class = \"rowNumber\" style = \"font-weight: bold; text-align: right;\">95</td><td style = \"text-align: right;\">200</td><td style = \"text-align: right;\">0</td></tr><tr><td class = \"rowNumber\" style = \"font-weight: bold; text-align: right;\">96</td><td style = \"text-align: right;\">200</td><td style = \"text-align: right;\">0</td></tr><tr><td class = \"rowNumber\" style = \"font-weight: bold; text-align: right;\">97</td><td style = \"text-align: right;\">200</td><td style = \"text-align: right;\">0</td></tr><tr><td class = \"rowNumber\" style = \"font-weight: bold; text-align: right;\">98</td><td style = \"text-align: right;\">200</td><td style = \"text-align: right;\">0</td></tr><tr><td class = \"rowNumber\" style = \"font-weight: bold; text-align: right;\">99</td><td style = \"text-align: right;\">200</td><td style = \"text-align: right;\">0</td></tr><tr><td class = \"rowNumber\" style = \"font-weight: bold; text-align: right;\">100</td><td style = \"text-align: right;\">200</td><td style = \"text-align: right;\">0</td></tr><tr><td class = \"rowNumber\" style = \"font-weight: bold; text-align: right;\">101</td><td style = \"text-align: right;\">200</td><td style = \"text-align: right;\">0</td></tr></tbody></table></div>"
      ],
      "text/latex": [
       "\\begin{tabular}{r|cc}\n",
       "\t& happy & sad\\\\\n",
       "\t\\hline\n",
       "\t& Int64 & Int64\\\\\n",
       "\t\\hline\n",
       "\t1 & 38 & 162 \\\\\n",
       "\t2 & 54 & 146 \\\\\n",
       "\t3 & 91 & 109 \\\\\n",
       "\t4 & 105 & 95 \\\\\n",
       "\t5 & 120 & 80 \\\\\n",
       "\t6 & 123 & 77 \\\\\n",
       "\t7 & 128 & 72 \\\\\n",
       "\t8 & 138 & 62 \\\\\n",
       "\t9 & 144 & 56 \\\\\n",
       "\t10 & 149 & 51 \\\\\n",
       "\t11 & 160 & 40 \\\\\n",
       "\t12 & 160 & 40 \\\\\n",
       "\t13 & 170 & 30 \\\\\n",
       "\t14 & 171 & 29 \\\\\n",
       "\t15 & 174 & 26 \\\\\n",
       "\t16 & 181 & 19 \\\\\n",
       "\t17 & 183 & 17 \\\\\n",
       "\t18 & 184 & 16 \\\\\n",
       "\t19 & 185 & 15 \\\\\n",
       "\t20 & 190 & 10 \\\\\n",
       "\t21 & 192 & 8 \\\\\n",
       "\t22 & 193 & 7 \\\\\n",
       "\t23 & 193 & 7 \\\\\n",
       "\t24 & 194 & 6 \\\\\n",
       "\t25 & 193 & 7 \\\\\n",
       "\t26 & 193 & 7 \\\\\n",
       "\t27 & 194 & 6 \\\\\n",
       "\t28 & 194 & 6 \\\\\n",
       "\t29 & 194 & 6 \\\\\n",
       "\t30 & 197 & 3 \\\\\n",
       "\t$\\dots$ & $\\dots$ & $\\dots$ \\\\\n",
       "\\end{tabular}\n"
      ],
      "text/plain": [
       "\u001b[1m101×2 DataFrame\u001b[0m\n",
       "\u001b[1m Row \u001b[0m│\u001b[1m happy \u001b[0m\u001b[1m sad   \u001b[0m\n",
       "     │\u001b[90m Int64 \u001b[0m\u001b[90m Int64 \u001b[0m\n",
       "─────┼──────────────\n",
       "   1 │    38    162\n",
       "   2 │    54    146\n",
       "   3 │    91    109\n",
       "   4 │   105     95\n",
       "   5 │   120     80\n",
       "   6 │   123     77\n",
       "   7 │   128     72\n",
       "   8 │   138     62\n",
       "   9 │   144     56\n",
       "  10 │   149     51\n",
       "  11 │   160     40\n",
       "  ⋮  │   ⋮      ⋮\n",
       "  92 │   200      0\n",
       "  93 │   200      0\n",
       "  94 │   200      0\n",
       "  95 │   200      0\n",
       "  96 │   200      0\n",
       "  97 │   200      0\n",
       "  98 │   200      0\n",
       "  99 │   200      0\n",
       " 100 │   200      0\n",
       " 101 │   200      0\n",
       "\u001b[36m     80 rows omitted\u001b[0m"
      ]
     },
     "execution_count": 10,
     "metadata": {},
     "output_type": "execute_result"
    }
   ],
   "source": [
    "df = get_nums_agents(model, \n",
    "    agent-> agent.mood == happy, \n",
    "    agent-> agent.mood == sad,\n",
    "    labels=[\"happy\",\"sad\"], plot_result=true)"
   ]
  },
  {
   "cell_type": "markdown",
   "metadata": {},
   "source": [
    "Individual agent data recorded during model run can be obtained as "
   ]
  },
  {
   "cell_type": "code",
   "execution_count": 11,
   "metadata": {},
   "outputs": [
    {
     "data": {
      "text/html": [
       "<div><div style = \"float: left;\"><span>101×2 DataFrame</span></div><div style = \"float: right;\"><span style = \"font-style: italic;\">76 rows omitted</span></div><div style = \"clear: both;\"></div></div><div class = \"data-frame\" style = \"overflow-x: scroll;\"><table class = \"data-frame\" style = \"margin-bottom: 6px;\"><thead><tr class = \"header\"><th class = \"rowNumber\" style = \"font-weight: bold; text-align: right;\">Row</th><th style = \"text-align: left;\">mood</th><th style = \"text-align: left;\">pos</th></tr><tr class = \"subheader headerLastRow\"><th class = \"rowNumber\" style = \"font-weight: bold; text-align: right;\"></th><th title = \"agentsfeeling\" style = \"text-align: left;\">agentsfe…</th><th title = \"Vect{3, Int64}\" style = \"text-align: left;\">Vect…</th></tr></thead><tbody><tr><td class = \"rowNumber\" style = \"font-weight: bold; text-align: right;\">1</td><td style = \"text-align: left;\">happy</td><td style = \"text-align: left;\">(3, 6, 3)\\n</td></tr><tr><td class = \"rowNumber\" style = \"font-weight: bold; text-align: right;\">2</td><td style = \"text-align: left;\">happy</td><td style = \"text-align: left;\">(3, 6, 3)\\n</td></tr><tr><td class = \"rowNumber\" style = \"font-weight: bold; text-align: right;\">3</td><td style = \"text-align: left;\">happy</td><td style = \"text-align: left;\">(3, 6, 3)\\n</td></tr><tr><td class = \"rowNumber\" style = \"font-weight: bold; text-align: right;\">4</td><td style = \"text-align: left;\">happy</td><td style = \"text-align: left;\">(3, 6, 3)\\n</td></tr><tr><td class = \"rowNumber\" style = \"font-weight: bold; text-align: right;\">5</td><td style = \"text-align: left;\">happy</td><td style = \"text-align: left;\">(3, 6, 3)\\n</td></tr><tr><td class = \"rowNumber\" style = \"font-weight: bold; text-align: right;\">6</td><td style = \"text-align: left;\">sad</td><td style = \"text-align: left;\">(1, 6, 5)\\n</td></tr><tr><td class = \"rowNumber\" style = \"font-weight: bold; text-align: right;\">7</td><td style = \"text-align: left;\">sad</td><td style = \"text-align: left;\">(2, 3, 7)\\n</td></tr><tr><td class = \"rowNumber\" style = \"font-weight: bold; text-align: right;\">8</td><td style = \"text-align: left;\">sad</td><td style = \"text-align: left;\">(5, 4, 2)\\n</td></tr><tr><td class = \"rowNumber\" style = \"font-weight: bold; text-align: right;\">9</td><td style = \"text-align: left;\">sad</td><td style = \"text-align: left;\">(5, 1, 4)\\n</td></tr><tr><td class = \"rowNumber\" style = \"font-weight: bold; text-align: right;\">10</td><td style = \"text-align: left;\">sad</td><td style = \"text-align: left;\">(6, 7, 4)\\n</td></tr><tr><td class = \"rowNumber\" style = \"font-weight: bold; text-align: right;\">11</td><td style = \"text-align: left;\">happy</td><td style = \"text-align: left;\">(6, 7, 4)\\n</td></tr><tr><td class = \"rowNumber\" style = \"font-weight: bold; text-align: right;\">12</td><td style = \"text-align: left;\">happy</td><td style = \"text-align: left;\">(6, 7, 4)\\n</td></tr><tr><td class = \"rowNumber\" style = \"font-weight: bold; text-align: right;\">13</td><td style = \"text-align: left;\">happy</td><td style = \"text-align: left;\">(6, 7, 4)\\n</td></tr><tr><td style = \"text-align: right;\">&vellip;</td><td style = \"text-align: right;\">&vellip;</td><td style = \"text-align: right;\">&vellip;</td></tr><tr><td class = \"rowNumber\" style = \"font-weight: bold; text-align: right;\">90</td><td style = \"text-align: left;\">happy</td><td style = \"text-align: left;\">(6, 7, 4)\\n</td></tr><tr><td class = \"rowNumber\" style = \"font-weight: bold; text-align: right;\">91</td><td style = \"text-align: left;\">happy</td><td style = \"text-align: left;\">(6, 7, 4)\\n</td></tr><tr><td class = \"rowNumber\" style = \"font-weight: bold; text-align: right;\">92</td><td style = \"text-align: left;\">happy</td><td style = \"text-align: left;\">(6, 7, 4)\\n</td></tr><tr><td class = \"rowNumber\" style = \"font-weight: bold; text-align: right;\">93</td><td style = \"text-align: left;\">happy</td><td style = \"text-align: left;\">(6, 7, 4)\\n</td></tr><tr><td class = \"rowNumber\" style = \"font-weight: bold; text-align: right;\">94</td><td style = \"text-align: left;\">happy</td><td style = \"text-align: left;\">(6, 7, 4)\\n</td></tr><tr><td class = \"rowNumber\" style = \"font-weight: bold; text-align: right;\">95</td><td style = \"text-align: left;\">happy</td><td style = \"text-align: left;\">(6, 7, 4)\\n</td></tr><tr><td class = \"rowNumber\" style = \"font-weight: bold; text-align: right;\">96</td><td style = \"text-align: left;\">happy</td><td style = \"text-align: left;\">(6, 7, 4)\\n</td></tr><tr><td class = \"rowNumber\" style = \"font-weight: bold; text-align: right;\">97</td><td style = \"text-align: left;\">happy</td><td style = \"text-align: left;\">(6, 7, 4)\\n</td></tr><tr><td class = \"rowNumber\" style = \"font-weight: bold; text-align: right;\">98</td><td style = \"text-align: left;\">happy</td><td style = \"text-align: left;\">(6, 7, 4)\\n</td></tr><tr><td class = \"rowNumber\" style = \"font-weight: bold; text-align: right;\">99</td><td style = \"text-align: left;\">happy</td><td style = \"text-align: left;\">(6, 7, 4)\\n</td></tr><tr><td class = \"rowNumber\" style = \"font-weight: bold; text-align: right;\">100</td><td style = \"text-align: left;\">happy</td><td style = \"text-align: left;\">(6, 7, 4)\\n</td></tr><tr><td class = \"rowNumber\" style = \"font-weight: bold; text-align: right;\">101</td><td style = \"text-align: left;\">happy</td><td style = \"text-align: left;\">(6, 7, 4)\\n</td></tr></tbody></table></div>"
      ],
      "text/latex": [
       "\\begin{tabular}{r|cc}\n",
       "\t& mood & pos\\\\\n",
       "\t\\hline\n",
       "\t& agentsfe… & Vect…\\\\\n",
       "\t\\hline\n",
       "\t1 & happy & (3, 6, 3)\\textbackslash{}n \\\\\n",
       "\t2 & happy & (3, 6, 3)\\textbackslash{}n \\\\\n",
       "\t3 & happy & (3, 6, 3)\\textbackslash{}n \\\\\n",
       "\t4 & happy & (3, 6, 3)\\textbackslash{}n \\\\\n",
       "\t5 & happy & (3, 6, 3)\\textbackslash{}n \\\\\n",
       "\t6 & sad & (1, 6, 5)\\textbackslash{}n \\\\\n",
       "\t7 & sad & (2, 3, 7)\\textbackslash{}n \\\\\n",
       "\t8 & sad & (5, 4, 2)\\textbackslash{}n \\\\\n",
       "\t9 & sad & (5, 1, 4)\\textbackslash{}n \\\\\n",
       "\t10 & sad & (6, 7, 4)\\textbackslash{}n \\\\\n",
       "\t11 & happy & (6, 7, 4)\\textbackslash{}n \\\\\n",
       "\t12 & happy & (6, 7, 4)\\textbackslash{}n \\\\\n",
       "\t13 & happy & (6, 7, 4)\\textbackslash{}n \\\\\n",
       "\t14 & happy & (6, 7, 4)\\textbackslash{}n \\\\\n",
       "\t15 & happy & (6, 7, 4)\\textbackslash{}n \\\\\n",
       "\t16 & happy & (6, 7, 4)\\textbackslash{}n \\\\\n",
       "\t17 & happy & (6, 7, 4)\\textbackslash{}n \\\\\n",
       "\t18 & happy & (6, 7, 4)\\textbackslash{}n \\\\\n",
       "\t19 & happy & (6, 7, 4)\\textbackslash{}n \\\\\n",
       "\t20 & happy & (6, 7, 4)\\textbackslash{}n \\\\\n",
       "\t21 & happy & (6, 7, 4)\\textbackslash{}n \\\\\n",
       "\t22 & happy & (6, 7, 4)\\textbackslash{}n \\\\\n",
       "\t23 & happy & (6, 7, 4)\\textbackslash{}n \\\\\n",
       "\t24 & happy & (6, 7, 4)\\textbackslash{}n \\\\\n",
       "\t25 & happy & (6, 7, 4)\\textbackslash{}n \\\\\n",
       "\t26 & happy & (6, 7, 4)\\textbackslash{}n \\\\\n",
       "\t27 & happy & (6, 7, 4)\\textbackslash{}n \\\\\n",
       "\t28 & happy & (6, 7, 4)\\textbackslash{}n \\\\\n",
       "\t29 & happy & (6, 7, 4)\\textbackslash{}n \\\\\n",
       "\t30 & happy & (6, 7, 4)\\textbackslash{}n \\\\\n",
       "\t$\\dots$ & $\\dots$ & $\\dots$ \\\\\n",
       "\\end{tabular}\n"
      ],
      "text/plain": [
       "\u001b[1m101×2 DataFrame\u001b[0m\n",
       "\u001b[1m Row \u001b[0m│\u001b[1m mood      \u001b[0m\u001b[1m pos         \u001b[0m\n",
       "     │\u001b[90m agentsfe… \u001b[0m\u001b[90m Vect…       \u001b[0m\n",
       "─────┼────────────────────────\n",
       "   1 │ happy      (3, 6, 3)\\n\n",
       "   2 │ happy      (3, 6, 3)\\n\n",
       "   3 │ happy      (3, 6, 3)\\n\n",
       "   4 │ happy      (3, 6, 3)\\n\n",
       "   5 │ happy      (3, 6, 3)\\n\n",
       "   6 │ sad        (1, 6, 5)\\n\n",
       "   7 │ sad        (2, 3, 7)\\n\n",
       "   8 │ sad        (5, 4, 2)\\n\n",
       "   9 │ sad        (5, 1, 4)\\n\n",
       "  10 │ sad        (6, 7, 4)\\n\n",
       "  11 │ happy      (6, 7, 4)\\n\n",
       "  ⋮  │     ⋮           ⋮\n",
       "  92 │ happy      (6, 7, 4)\\n\n",
       "  93 │ happy      (6, 7, 4)\\n\n",
       "  94 │ happy      (6, 7, 4)\\n\n",
       "  95 │ happy      (6, 7, 4)\\n\n",
       "  96 │ happy      (6, 7, 4)\\n\n",
       "  97 │ happy      (6, 7, 4)\\n\n",
       "  98 │ happy      (6, 7, 4)\\n\n",
       "  99 │ happy      (6, 7, 4)\\n\n",
       " 100 │ happy      (6, 7, 4)\\n\n",
       " 101 │ happy      (6, 7, 4)\\n\n",
       "\u001b[36m               80 rows omitted\u001b[0m"
      ]
     },
     "execution_count": 11,
     "metadata": {},
     "output_type": "execute_result"
    }
   ],
   "source": [
    "df = get_agent_data(model.agents[1], model).record"
   ]
  },
  {
   "cell_type": "code",
   "execution_count": null,
   "metadata": {},
   "outputs": [],
   "source": []
  }
 ],
 "metadata": {
  "@webio": {
   "lastCommId": "66986aaaa51e40e9bad017f347797513",
   "lastKernelId": "5022096f-0ea8-4e96-83ec-42d69efec038"
  },
  "kernelspec": {
   "display_name": "Julia 1.9.2",
   "language": "julia",
   "name": "julia-1.9"
  },
  "language_info": {
   "file_extension": ".jl",
   "mimetype": "application/julia",
   "name": "julia",
   "version": "1.9.2"
  }
 },
 "nbformat": 4,
 "nbformat_minor": 4
}
