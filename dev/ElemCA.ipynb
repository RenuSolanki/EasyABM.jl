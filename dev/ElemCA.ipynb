{
 "cells": [
  {
   "cell_type": "code",
   "execution_count": null,
   "metadata": {},
   "outputs": [],
   "source": []
  },
  {
   "cell_type": "code",
   "execution_count": 1,
   "metadata": {},
   "outputs": [
    {
     "name": "stderr",
     "output_type": "stream",
     "text": [
      "\u001b[32m\u001b[1m  Activating\u001b[22m\u001b[39m project at `~/Documents/EasyABM`\n"
     ]
    },
    {
     "data": {
      "application/vnd.webio.node+json": {
       "children": [],
       "instanceArgs": {
        "namespace": "html",
        "tag": "div"
       },
       "nodeType": "DOM",
       "props": {},
       "type": "node"
      },
      "text/html": [
       "<div style=\"padding: 1em; background-color: #f8d6da; border: 1px solid #f5c6cb; font-weight: bold;\">\n",
       "<p>The WebIO Jupyter extension was not detected. See the\n",
       "<a href=\"https://juliagizmos.github.io/WebIO.jl/latest/providers/ijulia/\" target=\"_blank\">\n",
       "    WebIO Jupyter integration documentation\n",
       "</a>\n",
       "for more information.\n",
       "</div>\n"
      ],
      "text/plain": [
       "WebIO._IJuliaInit()"
      ]
     },
     "metadata": {
      "application/vnd.webio.node+json": {
       "kernelId": "7d5c546d-74e7-464e-bff1-af4b982db384"
      }
     },
     "output_type": "display_data"
    }
   ],
   "source": [
    "using Pkg, Revise\n",
    "Pkg.activate(joinpath(@__DIR__, \"../..\"))\n",
    "using EasyABM"
   ]
  },
  {
   "cell_type": "code",
   "execution_count": 2,
   "metadata": {},
   "outputs": [
    {
     "ename": "LoadError",
     "evalue": "ArgumentError: Package WebIO not found in current path.\n- Run `import Pkg; Pkg.add(\"WebIO\")` to install the WebIO package.",
     "output_type": "error",
     "traceback": [
      "ArgumentError: Package WebIO not found in current path.\n- Run `import Pkg; Pkg.add(\"WebIO\")` to install the WebIO package.",
      "",
      "Stacktrace:",
      " [1] macro expansion",
      "   @ ./loading.jl:1630 [inlined]",
      " [2] macro expansion",
      "   @ ./lock.jl:267 [inlined]",
      " [3] require(into::Module, mod::Symbol)",
      "   @ Base ./loading.jl:1611"
     ]
    }
   ],
   "source": [
    "using WebIO"
   ]
  },
  {
   "cell_type": "code",
   "execution_count": 2,
   "metadata": {},
   "outputs": [
    {
     "data": {
      "text/plain": [
       "EasyABM SpaceModel2D{EasyABM.StaticType, Int64, EasyABM.NPeriodicType}: In a EasyABM.StaticType model number of agents is fixed.\n"
      ]
     },
     "execution_count": 2,
     "metadata": {},
     "output_type": "execute_result"
    }
   ],
   "source": [
    "model = create_2d_model(size = (50,50), space_type=NPeriodic)"
   ]
  },
  {
   "cell_type": "code",
   "execution_count": 3,
   "metadata": {},
   "outputs": [],
   "source": [
    "function initialiser!(model)\n",
    "    for j in 1:model.size[2]\n",
    "        for i in 1:model.size[1]\n",
    "            model.patches[i,j].color = cl\"white\"\n",
    "            model.patches[i,j].val = 0\n",
    "        end\n",
    "    end\n",
    "    model.patches[25,1].color = cl\"black\"\n",
    "    model.patches[25,1].val = 1\n",
    "end\n",
    "\n",
    "init_model!(model, initialiser = initialiser!, props_to_record = Dict(\"patches\" => Set([:color,:val])))   "
   ]
  },
  {
   "cell_type": "code",
   "execution_count": 4,
   "metadata": {},
   "outputs": [
    {
     "data": {
      "text/plain": [
       "step_rule! (generic function with 1 method)"
      ]
     },
     "execution_count": 4,
     "metadata": {},
     "output_type": "execute_result"
    }
   ],
   "source": [
    "rules = Dict((1,1,1)=>0, (1,1,0)=>0, (1,0,1)=>0, (0,1,1)=>1, \n",
    "(1,0,0)=>1, (0,1,0)=>1, (0,0,1)=>1, (0,0,0)=>0) # rule 30\n",
    "\n",
    "\n",
    "function update_from_row_below(row, model)\n",
    "    for j in 2:(model.size[1]-1)\n",
    "        vals = (model.patches[j-1, row-1].val, \n",
    "                model.patches[j,   row-1].val, \n",
    "                model.patches[j+1, row-1].val)   \n",
    "        val = rules[vals]\n",
    "        model.patches[j, row].val = val\n",
    "        model.patches[j, row].color = val==0 ? cl\"white\" : cl\"black\"\n",
    "    end\n",
    "end\n",
    "\n",
    "function copy_to_row_below(row, model)\n",
    "    for j in 1:model.size[1]\n",
    "        model.patches[j, row-1].val = model.patches[j, row].val\n",
    "        model.patches[j, row-1].color = model.patches[j, row].color\n",
    "    end\n",
    "end\n",
    "\n",
    "function step_rule!(model)\n",
    "    if model.tick < model.size[1]\n",
    "        row = model.tick+1\n",
    "        update_from_row_below(row, model)      \n",
    "    else\n",
    "        for i in 2:model.size[1]\n",
    "            copy_to_row_below(i, model)\n",
    "        end\n",
    "        update_from_row_below(model.size[1], model)\n",
    "    end\n",
    "        \n",
    "end"
   ]
  },
  {
   "cell_type": "code",
   "execution_count": 5,
   "metadata": {},
   "outputs": [],
   "source": [
    "run_model!(model, steps = 200, step_rule = step_rule!)"
   ]
  },
  {
   "cell_type": "code",
   "execution_count": 6,
   "metadata": {},
   "outputs": [
    {
     "data": {
      "application/vnd.webio.node+json": {
       "children": [
        {
         "children": [
          {
           "children": [
            {
             "children": [
              {
               "children": [
                {
                 "children": [
                  {
                   "children": [
                    {
                     "children": [
                      "time"
                     ],
                     "instanceArgs": {
                      "namespace": "html",
                      "tag": "label"
                     },
                     "nodeType": "DOM",
                     "props": {
                      "className": "interact ",
                      "style": {
                       "padding": "5px 10px 0px 10px"
                      }
                     },
                     "type": "node"
                    }
                   ],
                   "instanceArgs": {
                    "namespace": "html",
                    "tag": "div"
                   },
                   "nodeType": "DOM",
                   "props": {
                    "className": "interact-flex-row-left"
                   },
                   "type": "node"
                  },
                  {
                   "children": [
                    {
                     "children": [],
                     "instanceArgs": {
                      "namespace": "html",
                      "tag": "input"
                     },
                     "nodeType": "DOM",
                     "props": {
                      "attributes": {
                       "data-bind": "numericValue: index, valueUpdate: 'input', event: {change: function (){this.changes(this.changes()+1)}}",
                       "orient": "horizontal",
                       "type": "range"
                      },
                      "className": "slider slider is-fullwidth",
                      "max": 201,
                      "min": 1,
                      "step": 1,
                      "style": {}
                     },
                     "type": "node"
                    }
                   ],
                   "instanceArgs": {
                    "namespace": "html",
                    "tag": "div"
                   },
                   "nodeType": "DOM",
                   "props": {
                    "className": "interact-flex-row-center"
                   },
                   "type": "node"
                  },
                  {
                   "children": [
                    {
                     "children": [],
                     "instanceArgs": {
                      "namespace": "html",
                      "tag": "p"
                     },
                     "nodeType": "DOM",
                     "props": {
                      "attributes": {
                       "data-bind": "text: formatted_val"
                      }
                     },
                     "type": "node"
                    }
                   ],
                   "instanceArgs": {
                    "namespace": "html",
                    "tag": "div"
                   },
                   "nodeType": "DOM",
                   "props": {
                    "className": "interact-flex-row-right"
                   },
                   "type": "node"
                  }
                 ],
                 "instanceArgs": {
                  "namespace": "html",
                  "tag": "div"
                 },
                 "nodeType": "DOM",
                 "props": {
                  "className": "interact-flex-row interact-widget"
                 },
                 "type": "node"
                }
               ],
               "instanceArgs": {
                "handlers": {
                 "changes": [
                  "(function (val){return (val!=this.model[\"changes\"]()) ? (this.valueFromJulia[\"changes\"]=true, this.model[\"changes\"](val)) : undefined})"
                 ],
                 "index": [
                  "(function (val){return (val!=this.model[\"index\"]()) ? (this.valueFromJulia[\"index\"]=true, this.model[\"index\"](val)) : undefined})"
                 ]
                },
                "id": "813324883923220585",
                "imports": {
                 "data": [
                  {
                   "name": "knockout",
                   "type": "js",
                   "url": "/assetserver/727383f2a47bd31570b7da84eee7b022dd6d7c78-knockout.js"
                  },
                  {
                   "name": "knockout_punches",
                   "type": "js",
                   "url": "/assetserver/382b41b3b1bd9f26f75861d360bad7f8beea211f-knockout_punches.js"
                  },
                  {
                   "name": null,
                   "type": "js",
                   "url": "/assetserver/5ab20f1060420992a9b82a65b735dee4d81ef413-all.js"
                  },
                  {
                   "name": null,
                   "type": "css",
                   "url": "/assetserver/1cc0ed62837210b80a182cc3676512f895dab686-style.css"
                  },
                  {
                   "name": null,
                   "type": "css",
                   "url": "/assetserver/2eee816f616df3549d7044d45e744fbf8d42bfa1-bulma_confined.min.css"
                  }
                 ],
                 "type": "async_block"
                },
                "mount_callbacks": [
                 "function () {\n    var handler = (function (ko, koPunches) {\n    ko.punches.enableAll();\n    ko.bindingHandlers.numericValue = {\n        init: function(element, valueAccessor, allBindings, data, context) {\n            var stringified = ko.observable(ko.unwrap(valueAccessor()));\n            stringified.subscribe(function(value) {\n                var val = parseFloat(value);\n                if (!isNaN(val)) {\n                    valueAccessor()(val);\n                }\n            });\n            valueAccessor().subscribe(function(value) {\n                var str = JSON.stringify(value);\n                if ((str == \"0\") && ([\"-0\", \"-0.\"].indexOf(stringified()) >= 0))\n                     return;\n                 if ([\"null\", \"\"].indexOf(str) >= 0)\n                     return;\n                stringified(str);\n            });\n            ko.applyBindingsToNode(\n                element,\n                {\n                    value: stringified,\n                    valueUpdate: allBindings.get('valueUpdate'),\n                },\n                context,\n            );\n        }\n    };\n    var json_data = {\"formatted_vals\":[\"1\",\"2\",\"3\",\"4\",\"5\",\"6\",\"7\",\"8\",\"9\",\"10\",\"11\",\"12\",\"13\",\"14\",\"15\",\"16\",\"17\",\"18\",\"19\",\"20\",\"21\",\"22\",\"23\",\"24\",\"25\",\"26\",\"27\",\"28\",\"29\",\"30\",\"31\",\"32\",\"33\",\"34\",\"35\",\"36\",\"37\",\"38\",\"39\",\"40\",\"41\",\"42\",\"43\",\"44\",\"45\",\"46\",\"47\",\"48\",\"49\",\"50\",\"51\",\"52\",\"53\",\"54\",\"55\",\"56\",\"57\",\"58\",\"59\",\"60\",\"61\",\"62\",\"63\",\"64\",\"65\",\"66\",\"67\",\"68\",\"69\",\"70\",\"71\",\"72\",\"73\",\"74\",\"75\",\"76\",\"77\",\"78\",\"79\",\"80\",\"81\",\"82\",\"83\",\"84\",\"85\",\"86\",\"87\",\"88\",\"89\",\"90\",\"91\",\"92\",\"93\",\"94\",\"95\",\"96\",\"97\",\"98\",\"99\",\"100\",\"101\",\"102\",\"103\",\"104\",\"105\",\"106\",\"107\",\"108\",\"109\",\"110\",\"111\",\"112\",\"113\",\"114\",\"115\",\"116\",\"117\",\"118\",\"119\",\"120\",\"121\",\"122\",\"123\",\"124\",\"125\",\"126\",\"127\",\"128\",\"129\",\"130\",\"131\",\"132\",\"133\",\"134\",\"135\",\"136\",\"137\",\"138\",\"139\",\"140\",\"141\",\"142\",\"143\",\"144\",\"145\",\"146\",\"147\",\"148\",\"149\",\"150\",\"151\",\"152\",\"153\",\"154\",\"155\",\"156\",\"157\",\"158\",\"159\",\"160\",\"161\",\"162\",\"163\",\"164\",\"165\",\"166\",\"167\",\"168\",\"169\",\"170\",\"171\",\"172\",\"173\",\"174\",\"175\",\"176\",\"177\",\"178\",\"179\",\"180\",\"181\",\"182\",\"183\",\"184\",\"185\",\"186\",\"187\",\"188\",\"189\",\"190\",\"191\",\"192\",\"193\",\"194\",\"195\",\"196\",\"197\",\"198\",\"199\",\"200\",\"201\"],\"changes\":WebIO.getval({\"name\":\"changes\",\"scope\":\"813324883923220585\",\"id\":\"12045950911232964837\",\"type\":\"observable\"}),\"index\":WebIO.getval({\"name\":\"index\",\"scope\":\"813324883923220585\",\"id\":\"15481014654652453677\",\"type\":\"observable\"})};\n    var self = this;\n    function AppViewModel() {\n        for (var key in json_data) {\n            var el = json_data[key];\n            this[key] = Array.isArray(el) ? ko.observableArray(el) : ko.observable(el);\n        }\n        \n        [this[\"formatted_val\"]=ko.computed(    function(){\n        return this.formatted_vals()[parseInt(this.index())-(1)];\n    }\n,this)]\n        [this[\"changes\"].subscribe((function (val){!(this.valueFromJulia[\"changes\"]) ? (WebIO.setval({\"name\":\"changes\",\"scope\":\"813324883923220585\",\"id\":\"12045950911232964837\",\"type\":\"observable\"},val)) : undefined; return this.valueFromJulia[\"changes\"]=false}),self),this[\"index\"].subscribe((function (val){!(this.valueFromJulia[\"index\"]) ? (WebIO.setval({\"name\":\"index\",\"scope\":\"813324883923220585\",\"id\":\"15481014654652453677\",\"type\":\"observable\"},val)) : undefined; return this.valueFromJulia[\"index\"]=false}),self)]\n        \n    }\n    self.model = new AppViewModel();\n    self.valueFromJulia = {};\n    for (var key in json_data) {\n        self.valueFromJulia[key] = false;\n    }\n    ko.applyBindings(self.model, self.dom);\n}\n);\n    (WebIO.importBlock({\"data\":[{\"name\":\"knockout\",\"type\":\"js\",\"url\":\"/assetserver/727383f2a47bd31570b7da84eee7b022dd6d7c78-knockout.js\"},{\"name\":\"knockout_punches\",\"type\":\"js\",\"url\":\"/assetserver/382b41b3b1bd9f26f75861d360bad7f8beea211f-knockout_punches.js\"}],\"type\":\"async_block\"})).then((imports) => handler.apply(this, imports));\n}\n"
                ],
                "observables": {
                 "changes": {
                  "id": "12045950911232964837",
                  "sync": false,
                  "value": 0
                 },
                 "index": {
                  "id": "15481014654652453677",
                  "sync": true,
                  "value": 101
                 }
                },
                "systemjs_options": null
               },
               "nodeType": "Scope",
               "props": {},
               "type": "node"
              }
             ],
             "instanceArgs": {
              "namespace": "html",
              "tag": "div"
             },
             "nodeType": "DOM",
             "props": {
              "className": "field interact-widget"
             },
             "type": "node"
            },
            {
             "children": [
              {
               "children": [
                {
                 "children": [
                  {
                   "children": [
                    {
                     "children": [
                      "scale"
                     ],
                     "instanceArgs": {
                      "namespace": "html",
                      "tag": "label"
                     },
                     "nodeType": "DOM",
                     "props": {
                      "className": "interact ",
                      "style": {
                       "padding": "5px 10px 0px 10px"
                      }
                     },
                     "type": "node"
                    }
                   ],
                   "instanceArgs": {
                    "namespace": "html",
                    "tag": "div"
                   },
                   "nodeType": "DOM",
                   "props": {
                    "className": "interact-flex-row-left"
                   },
                   "type": "node"
                  },
                  {
                   "children": [
                    {
                     "children": [],
                     "instanceArgs": {
                      "namespace": "html",
                      "tag": "input"
                     },
                     "nodeType": "DOM",
                     "props": {
                      "attributes": {
                       "data-bind": "numericValue: index, valueUpdate: 'input', event: {change: function (){this.changes(this.changes()+1)}}",
                       "orient": "horizontal",
                       "type": "range"
                      },
                      "className": "slider slider is-fullwidth",
                      "max": 20,
                      "min": 1,
                      "step": 1,
                      "style": {}
                     },
                     "type": "node"
                    }
                   ],
                   "instanceArgs": {
                    "namespace": "html",
                    "tag": "div"
                   },
                   "nodeType": "DOM",
                   "props": {
                    "className": "interact-flex-row-center"
                   },
                   "type": "node"
                  },
                  {
                   "children": [
                    {
                     "children": [],
                     "instanceArgs": {
                      "namespace": "html",
                      "tag": "p"
                     },
                     "nodeType": "DOM",
                     "props": {
                      "attributes": {
                       "data-bind": "text: formatted_val"
                      }
                     },
                     "type": "node"
                    }
                   ],
                   "instanceArgs": {
                    "namespace": "html",
                    "tag": "div"
                   },
                   "nodeType": "DOM",
                   "props": {
                    "className": "interact-flex-row-right"
                   },
                   "type": "node"
                  }
                 ],
                 "instanceArgs": {
                  "namespace": "html",
                  "tag": "div"
                 },
                 "nodeType": "DOM",
                 "props": {
                  "className": "interact-flex-row interact-widget"
                 },
                 "type": "node"
                }
               ],
               "instanceArgs": {
                "handlers": {
                 "changes": [
                  "(function (val){return (val!=this.model[\"changes\"]()) ? (this.valueFromJulia[\"changes\"]=true, this.model[\"changes\"](val)) : undefined})"
                 ],
                 "index": [
                  "(function (val){return (val!=this.model[\"index\"]()) ? (this.valueFromJulia[\"index\"]=true, this.model[\"index\"](val)) : undefined})"
                 ]
                },
                "id": "8829882013479105804",
                "imports": {
                 "data": [
                  {
                   "name": "knockout",
                   "type": "js",
                   "url": "/assetserver/727383f2a47bd31570b7da84eee7b022dd6d7c78-knockout.js"
                  },
                  {
                   "name": "knockout_punches",
                   "type": "js",
                   "url": "/assetserver/382b41b3b1bd9f26f75861d360bad7f8beea211f-knockout_punches.js"
                  },
                  {
                   "name": null,
                   "type": "js",
                   "url": "/assetserver/5ab20f1060420992a9b82a65b735dee4d81ef413-all.js"
                  },
                  {
                   "name": null,
                   "type": "css",
                   "url": "/assetserver/1cc0ed62837210b80a182cc3676512f895dab686-style.css"
                  },
                  {
                   "name": null,
                   "type": "css",
                   "url": "/assetserver/2eee816f616df3549d7044d45e744fbf8d42bfa1-bulma_confined.min.css"
                  }
                 ],
                 "type": "async_block"
                },
                "mount_callbacks": [
                 "function () {\n    var handler = (function (ko, koPunches) {\n    ko.punches.enableAll();\n    ko.bindingHandlers.numericValue = {\n        init: function(element, valueAccessor, allBindings, data, context) {\n            var stringified = ko.observable(ko.unwrap(valueAccessor()));\n            stringified.subscribe(function(value) {\n                var val = parseFloat(value);\n                if (!isNaN(val)) {\n                    valueAccessor()(val);\n                }\n            });\n            valueAccessor().subscribe(function(value) {\n                var str = JSON.stringify(value);\n                if ((str == \"0\") && ([\"-0\", \"-0.\"].indexOf(stringified()) >= 0))\n                     return;\n                 if ([\"null\", \"\"].indexOf(str) >= 0)\n                     return;\n                stringified(str);\n            });\n            ko.applyBindingsToNode(\n                element,\n                {\n                    value: stringified,\n                    valueUpdate: allBindings.get('valueUpdate'),\n                },\n                context,\n            );\n        }\n    };\n    var json_data = {\"formatted_vals\":[\"0.1\",\"0.2\",\"0.3\",\"0.4\",\"0.5\",\"0.6\",\"0.7\",\"0.8\",\"0.9\",\"1.0\",\"1.1\",\"1.2\",\"1.3\",\"1.4\",\"1.5\",\"1.6\",\"1.7\",\"1.8\",\"1.9\",\"2.0\"],\"changes\":WebIO.getval({\"name\":\"changes\",\"scope\":\"8829882013479105804\",\"id\":\"6964049269644712619\",\"type\":\"observable\"}),\"index\":WebIO.getval({\"name\":\"index\",\"scope\":\"8829882013479105804\",\"id\":\"11193889000114863645\",\"type\":\"observable\"})};\n    var self = this;\n    function AppViewModel() {\n        for (var key in json_data) {\n            var el = json_data[key];\n            this[key] = Array.isArray(el) ? ko.observableArray(el) : ko.observable(el);\n        }\n        \n        [this[\"formatted_val\"]=ko.computed(    function(){\n        return this.formatted_vals()[parseInt(this.index())-(1)];\n    }\n,this)]\n        [this[\"changes\"].subscribe((function (val){!(this.valueFromJulia[\"changes\"]) ? (WebIO.setval({\"name\":\"changes\",\"scope\":\"8829882013479105804\",\"id\":\"6964049269644712619\",\"type\":\"observable\"},val)) : undefined; return this.valueFromJulia[\"changes\"]=false}),self),this[\"index\"].subscribe((function (val){!(this.valueFromJulia[\"index\"]) ? (WebIO.setval({\"name\":\"index\",\"scope\":\"8829882013479105804\",\"id\":\"11193889000114863645\",\"type\":\"observable\"},val)) : undefined; return this.valueFromJulia[\"index\"]=false}),self)]\n        \n    }\n    self.model = new AppViewModel();\n    self.valueFromJulia = {};\n    for (var key in json_data) {\n        self.valueFromJulia[key] = false;\n    }\n    ko.applyBindings(self.model, self.dom);\n}\n);\n    (WebIO.importBlock({\"data\":[{\"name\":\"knockout\",\"type\":\"js\",\"url\":\"/assetserver/727383f2a47bd31570b7da84eee7b022dd6d7c78-knockout.js\"},{\"name\":\"knockout_punches\",\"type\":\"js\",\"url\":\"/assetserver/382b41b3b1bd9f26f75861d360bad7f8beea211f-knockout_punches.js\"}],\"type\":\"async_block\"})).then((imports) => handler.apply(this, imports));\n}\n"
                ],
                "observables": {
                 "changes": {
                  "id": "6964049269644712619",
                  "sync": false,
                  "value": 0
                 },
                 "index": {
                  "id": "11193889000114863645",
                  "sync": true,
                  "value": 10
                 }
                },
                "systemjs_options": null
               },
               "nodeType": "Scope",
               "props": {},
               "type": "node"
              }
             ],
             "instanceArgs": {
              "namespace": "html",
              "tag": "div"
             },
             "nodeType": "DOM",
             "props": {
              "className": "field interact-widget"
             },
             "type": "node"
            },
            {
             "children": [
              {
               "children": [
                {
                 "children": [
                  {
                   "children": [],
                   "instanceArgs": {
                    "namespace": "html",
                    "tag": "div"
                   },
                   "nodeType": "DOM",
                   "props": {
                    "id": "container"
                   },
                   "type": "node"
                  }
                 ],
                 "instanceArgs": {
                  "handlers": {
                   "value": [
                    "(function (txt){return this.k.render(txt,this.container)})"
                   ]
                  },
                  "id": "6183524942620423091",
                  "imports": {
                   "data": [
                    {
                     "name": null,
                     "type": "js",
                     "url": "/assetserver/dd22ed1bf1896c2748f3fe616ce0b838adc895c1-katex.min.js"
                    },
                    {
                     "name": null,
                     "type": "css",
                     "url": "/assetserver/46517a424aa5e6cffc1360d7e0848b601c584ee3-katex.min.css"
                    }
                   ],
                   "type": "async_block"
                  },
                  "mount_callbacks": [
                   "function () {\n    var handler = ((function (k){this.k=k; this.container=this.dom.querySelector(\"#container\"); return k.render(\"\\\\;\\\\;\",this.container)}));\n    (WebIO.importBlock({\"data\":[{\"name\":null,\"type\":\"js\",\"url\":\"/assetserver/dd22ed1bf1896c2748f3fe616ce0b838adc895c1-katex.min.js\"},{\"name\":null,\"type\":\"css\",\"url\":\"/assetserver/46517a424aa5e6cffc1360d7e0848b601c584ee3-katex.min.css\"}],\"type\":\"async_block\"})).then((imports) => handler.apply(this, imports));\n}\n"
                  ],
                  "observables": {
                   "value": {
                    "id": "3605702571801390892",
                    "sync": false,
                    "value": "\\;\\;"
                   }
                  },
                  "systemjs_options": null
                 },
                 "nodeType": "Scope",
                 "props": {},
                 "type": "node"
                }
               ],
               "instanceArgs": {
                "namespace": "html",
                "tag": "div"
               },
               "nodeType": "DOM",
               "props": {
                "className": "interact-widget"
               },
               "type": "node"
              },
              {
               "children": [
                {
                 "children": [
                  {
                   "children": [
                    "run"
                   ],
                   "instanceArgs": {
                    "namespace": "html",
                    "tag": "button"
                   },
                   "nodeType": "DOM",
                   "props": {
                    "attributes": {
                     "data-bind": "click: function (){this.clicks(this.clicks()+1)}, css: {'is-loading' : loading}"
                    },
                    "className": "is-medium button is-primary",
                    "style": {}
                   },
                   "type": "node"
                  }
                 ],
                 "instanceArgs": {
                  "handlers": {
                   "clicks": [
                    "(function (val){return (val!=this.model[\"clicks\"]()) ? (this.valueFromJulia[\"clicks\"]=true, this.model[\"clicks\"](val)) : undefined})"
                   ],
                   "loading": [
                    "(function (val){return (val!=this.model[\"loading\"]()) ? (this.valueFromJulia[\"loading\"]=true, this.model[\"loading\"](val)) : undefined})"
                   ]
                  },
                  "id": "11407949889234739934",
                  "imports": {
                   "data": [
                    {
                     "name": "knockout",
                     "type": "js",
                     "url": "/assetserver/727383f2a47bd31570b7da84eee7b022dd6d7c78-knockout.js"
                    },
                    {
                     "name": "knockout_punches",
                     "type": "js",
                     "url": "/assetserver/382b41b3b1bd9f26f75861d360bad7f8beea211f-knockout_punches.js"
                    },
                    {
                     "name": null,
                     "type": "js",
                     "url": "/assetserver/5ab20f1060420992a9b82a65b735dee4d81ef413-all.js"
                    },
                    {
                     "name": null,
                     "type": "css",
                     "url": "/assetserver/1cc0ed62837210b80a182cc3676512f895dab686-style.css"
                    },
                    {
                     "name": null,
                     "type": "css",
                     "url": "/assetserver/2eee816f616df3549d7044d45e744fbf8d42bfa1-bulma_confined.min.css"
                    }
                   ],
                   "type": "async_block"
                  },
                  "mount_callbacks": [
                   "function () {\n    var handler = (function (ko, koPunches) {\n    ko.punches.enableAll();\n    ko.bindingHandlers.numericValue = {\n        init: function(element, valueAccessor, allBindings, data, context) {\n            var stringified = ko.observable(ko.unwrap(valueAccessor()));\n            stringified.subscribe(function(value) {\n                var val = parseFloat(value);\n                if (!isNaN(val)) {\n                    valueAccessor()(val);\n                }\n            });\n            valueAccessor().subscribe(function(value) {\n                var str = JSON.stringify(value);\n                if ((str == \"0\") && ([\"-0\", \"-0.\"].indexOf(stringified()) >= 0))\n                     return;\n                 if ([\"null\", \"\"].indexOf(str) >= 0)\n                     return;\n                stringified(str);\n            });\n            ko.applyBindingsToNode(\n                element,\n                {\n                    value: stringified,\n                    valueUpdate: allBindings.get('valueUpdate'),\n                },\n                context,\n            );\n        }\n    };\n    var json_data = {\"loading\":WebIO.getval({\"name\":\"loading\",\"scope\":\"11407949889234739934\",\"id\":\"9586455112914911046\",\"type\":\"observable\"}),\"clicks\":WebIO.getval({\"name\":\"clicks\",\"scope\":\"11407949889234739934\",\"id\":\"17976761333877883342\",\"type\":\"observable\"})};\n    var self = this;\n    function AppViewModel() {\n        for (var key in json_data) {\n            var el = json_data[key];\n            this[key] = Array.isArray(el) ? ko.observableArray(el) : ko.observable(el);\n        }\n        \n        \n        [this[\"loading\"].subscribe((function (val){!(this.valueFromJulia[\"loading\"]) ? (WebIO.setval({\"name\":\"loading\",\"scope\":\"11407949889234739934\",\"id\":\"9586455112914911046\",\"type\":\"observable\"},val)) : undefined; return this.valueFromJulia[\"loading\"]=false}),self),this[\"clicks\"].subscribe((function (val){!(this.valueFromJulia[\"clicks\"]) ? (WebIO.setval({\"name\":\"clicks\",\"scope\":\"11407949889234739934\",\"id\":\"17976761333877883342\",\"type\":\"observable\"},val)) : undefined; return this.valueFromJulia[\"clicks\"]=false}),self)]\n        \n    }\n    self.model = new AppViewModel();\n    self.valueFromJulia = {};\n    for (var key in json_data) {\n        self.valueFromJulia[key] = false;\n    }\n    ko.applyBindings(self.model, self.dom);\n}\n);\n    (WebIO.importBlock({\"data\":[{\"name\":\"knockout\",\"type\":\"js\",\"url\":\"/assetserver/727383f2a47bd31570b7da84eee7b022dd6d7c78-knockout.js\"},{\"name\":\"knockout_punches\",\"type\":\"js\",\"url\":\"/assetserver/382b41b3b1bd9f26f75861d360bad7f8beea211f-knockout_punches.js\"}],\"type\":\"async_block\"})).then((imports) => handler.apply(this, imports));\n}\n"
                  ],
                  "observables": {
                   "clicks": {
                    "id": "17976761333877883342",
                    "sync": true,
                    "value": 0
                   },
                   "loading": {
                    "id": "9586455112914911046",
                    "sync": false,
                    "value": false
                   }
                  },
                  "systemjs_options": null
                 },
                 "nodeType": "Scope",
                 "props": {},
                 "type": "node"
                }
               ],
               "instanceArgs": {
                "namespace": "html",
                "tag": "div"
               },
               "nodeType": "DOM",
               "props": {
                "className": "field interact-widget"
               },
               "type": "node"
              },
              {
               "children": [
                {
                 "children": [
                  {
                   "children": [],
                   "instanceArgs": {
                    "namespace": "html",
                    "tag": "div"
                   },
                   "nodeType": "DOM",
                   "props": {
                    "id": "container"
                   },
                   "type": "node"
                  }
                 ],
                 "instanceArgs": {
                  "handlers": {
                   "value": [
                    "(function (txt){return this.k.render(txt,this.container)})"
                   ]
                  },
                  "id": "6183524942620423091",
                  "imports": {
                   "data": [
                    {
                     "name": null,
                     "type": "js",
                     "url": "/assetserver/dd22ed1bf1896c2748f3fe616ce0b838adc895c1-katex.min.js"
                    },
                    {
                     "name": null,
                     "type": "css",
                     "url": "/assetserver/46517a424aa5e6cffc1360d7e0848b601c584ee3-katex.min.css"
                    }
                   ],
                   "type": "async_block"
                  },
                  "mount_callbacks": [
                   "function () {\n    var handler = ((function (k){this.k=k; this.container=this.dom.querySelector(\"#container\"); return k.render(\"\\\\;\\\\;\",this.container)}));\n    (WebIO.importBlock({\"data\":[{\"name\":null,\"type\":\"js\",\"url\":\"/assetserver/dd22ed1bf1896c2748f3fe616ce0b838adc895c1-katex.min.js\"},{\"name\":null,\"type\":\"css\",\"url\":\"/assetserver/46517a424aa5e6cffc1360d7e0848b601c584ee3-katex.min.css\"}],\"type\":\"async_block\"})).then((imports) => handler.apply(this, imports));\n}\n"
                  ],
                  "observables": {
                   "value": {
                    "id": "3605702571801390892",
                    "sync": false,
                    "value": "\\;\\;"
                   }
                  },
                  "systemjs_options": null
                 },
                 "nodeType": "Scope",
                 "props": {},
                 "type": "node"
                }
               ],
               "instanceArgs": {
                "namespace": "html",
                "tag": "div"
               },
               "nodeType": "DOM",
               "props": {
                "className": "interact-widget"
               },
               "type": "node"
              },
              {
               "children": [
                {
                 "children": [
                  {
                   "children": [
                    "stop"
                   ],
                   "instanceArgs": {
                    "namespace": "html",
                    "tag": "button"
                   },
                   "nodeType": "DOM",
                   "props": {
                    "attributes": {
                     "data-bind": "click: function (){this.clicks(this.clicks()+1)}, css: {'is-loading' : loading}"
                    },
                    "className": "is-medium button is-primary",
                    "style": {}
                   },
                   "type": "node"
                  }
                 ],
                 "instanceArgs": {
                  "handlers": {
                   "clicks": [
                    "(function (val){return (val!=this.model[\"clicks\"]()) ? (this.valueFromJulia[\"clicks\"]=true, this.model[\"clicks\"](val)) : undefined})"
                   ],
                   "loading": [
                    "(function (val){return (val!=this.model[\"loading\"]()) ? (this.valueFromJulia[\"loading\"]=true, this.model[\"loading\"](val)) : undefined})"
                   ]
                  },
                  "id": "9636280036273835554",
                  "imports": {
                   "data": [
                    {
                     "name": "knockout",
                     "type": "js",
                     "url": "/assetserver/727383f2a47bd31570b7da84eee7b022dd6d7c78-knockout.js"
                    },
                    {
                     "name": "knockout_punches",
                     "type": "js",
                     "url": "/assetserver/382b41b3b1bd9f26f75861d360bad7f8beea211f-knockout_punches.js"
                    },
                    {
                     "name": null,
                     "type": "js",
                     "url": "/assetserver/5ab20f1060420992a9b82a65b735dee4d81ef413-all.js"
                    },
                    {
                     "name": null,
                     "type": "css",
                     "url": "/assetserver/1cc0ed62837210b80a182cc3676512f895dab686-style.css"
                    },
                    {
                     "name": null,
                     "type": "css",
                     "url": "/assetserver/2eee816f616df3549d7044d45e744fbf8d42bfa1-bulma_confined.min.css"
                    }
                   ],
                   "type": "async_block"
                  },
                  "mount_callbacks": [
                   "function () {\n    var handler = (function (ko, koPunches) {\n    ko.punches.enableAll();\n    ko.bindingHandlers.numericValue = {\n        init: function(element, valueAccessor, allBindings, data, context) {\n            var stringified = ko.observable(ko.unwrap(valueAccessor()));\n            stringified.subscribe(function(value) {\n                var val = parseFloat(value);\n                if (!isNaN(val)) {\n                    valueAccessor()(val);\n                }\n            });\n            valueAccessor().subscribe(function(value) {\n                var str = JSON.stringify(value);\n                if ((str == \"0\") && ([\"-0\", \"-0.\"].indexOf(stringified()) >= 0))\n                     return;\n                 if ([\"null\", \"\"].indexOf(str) >= 0)\n                     return;\n                stringified(str);\n            });\n            ko.applyBindingsToNode(\n                element,\n                {\n                    value: stringified,\n                    valueUpdate: allBindings.get('valueUpdate'),\n                },\n                context,\n            );\n        }\n    };\n    var json_data = {\"loading\":WebIO.getval({\"name\":\"loading\",\"scope\":\"9636280036273835554\",\"id\":\"3150235791935719209\",\"type\":\"observable\"}),\"clicks\":WebIO.getval({\"name\":\"clicks\",\"scope\":\"9636280036273835554\",\"id\":\"11655019046843114248\",\"type\":\"observable\"})};\n    var self = this;\n    function AppViewModel() {\n        for (var key in json_data) {\n            var el = json_data[key];\n            this[key] = Array.isArray(el) ? ko.observableArray(el) : ko.observable(el);\n        }\n        \n        \n        [this[\"loading\"].subscribe((function (val){!(this.valueFromJulia[\"loading\"]) ? (WebIO.setval({\"name\":\"loading\",\"scope\":\"9636280036273835554\",\"id\":\"3150235791935719209\",\"type\":\"observable\"},val)) : undefined; return this.valueFromJulia[\"loading\"]=false}),self),this[\"clicks\"].subscribe((function (val){!(this.valueFromJulia[\"clicks\"]) ? (WebIO.setval({\"name\":\"clicks\",\"scope\":\"9636280036273835554\",\"id\":\"11655019046843114248\",\"type\":\"observable\"},val)) : undefined; return this.valueFromJulia[\"clicks\"]=false}),self)]\n        \n    }\n    self.model = new AppViewModel();\n    self.valueFromJulia = {};\n    for (var key in json_data) {\n        self.valueFromJulia[key] = false;\n    }\n    ko.applyBindings(self.model, self.dom);\n}\n);\n    (WebIO.importBlock({\"data\":[{\"name\":\"knockout\",\"type\":\"js\",\"url\":\"/assetserver/727383f2a47bd31570b7da84eee7b022dd6d7c78-knockout.js\"},{\"name\":\"knockout_punches\",\"type\":\"js\",\"url\":\"/assetserver/382b41b3b1bd9f26f75861d360bad7f8beea211f-knockout_punches.js\"}],\"type\":\"async_block\"})).then((imports) => handler.apply(this, imports));\n}\n"
                  ],
                  "observables": {
                   "clicks": {
                    "id": "11655019046843114248",
                    "sync": true,
                    "value": 0
                   },
                   "loading": {
                    "id": "3150235791935719209",
                    "sync": false,
                    "value": false
                   }
                  },
                  "systemjs_options": null
                 },
                 "nodeType": "Scope",
                 "props": {},
                 "type": "node"
                }
               ],
               "instanceArgs": {
                "namespace": "html",
                "tag": "div"
               },
               "nodeType": "DOM",
               "props": {
                "className": "field interact-widget"
               },
               "type": "node"
              },
              {
               "children": [
                {
                 "children": [
                  {
                   "children": [],
                   "instanceArgs": {
                    "namespace": "html",
                    "tag": "div"
                   },
                   "nodeType": "DOM",
                   "props": {
                    "id": "container"
                   },
                   "type": "node"
                  }
                 ],
                 "instanceArgs": {
                  "handlers": {
                   "value": [
                    "(function (txt){return this.k.render(txt,this.container)})"
                   ]
                  },
                  "id": "6183524942620423091",
                  "imports": {
                   "data": [
                    {
                     "name": null,
                     "type": "js",
                     "url": "/assetserver/dd22ed1bf1896c2748f3fe616ce0b838adc895c1-katex.min.js"
                    },
                    {
                     "name": null,
                     "type": "css",
                     "url": "/assetserver/46517a424aa5e6cffc1360d7e0848b601c584ee3-katex.min.css"
                    }
                   ],
                   "type": "async_block"
                  },
                  "mount_callbacks": [
                   "function () {\n    var handler = ((function (k){this.k=k; this.container=this.dom.querySelector(\"#container\"); return k.render(\"\\\\;\\\\;\",this.container)}));\n    (WebIO.importBlock({\"data\":[{\"name\":null,\"type\":\"js\",\"url\":\"/assetserver/dd22ed1bf1896c2748f3fe616ce0b838adc895c1-katex.min.js\"},{\"name\":null,\"type\":\"css\",\"url\":\"/assetserver/46517a424aa5e6cffc1360d7e0848b601c584ee3-katex.min.css\"}],\"type\":\"async_block\"})).then((imports) => handler.apply(this, imports));\n}\n"
                  ],
                  "observables": {
                   "value": {
                    "id": "3605702571801390892",
                    "sync": false,
                    "value": "\\;\\;"
                   }
                  },
                  "systemjs_options": null
                 },
                 "nodeType": "Scope",
                 "props": {},
                 "type": "node"
                }
               ],
               "instanceArgs": {
                "namespace": "html",
                "tag": "div"
               },
               "nodeType": "DOM",
               "props": {
                "className": "interact-widget"
               },
               "type": "node"
              },
              {
               "children": [
                {
                 "children": [
                  {
                   "children": [
                    "save"
                   ],
                   "instanceArgs": {
                    "namespace": "html",
                    "tag": "button"
                   },
                   "nodeType": "DOM",
                   "props": {
                    "attributes": {
                     "data-bind": "click: function (){this.clicks(this.clicks()+1)}, css: {'is-loading' : loading}"
                    },
                    "className": "is-medium button is-primary",
                    "style": {}
                   },
                   "type": "node"
                  }
                 ],
                 "instanceArgs": {
                  "handlers": {
                   "clicks": [
                    "(function (val){return (val!=this.model[\"clicks\"]()) ? (this.valueFromJulia[\"clicks\"]=true, this.model[\"clicks\"](val)) : undefined})"
                   ],
                   "loading": [
                    "(function (val){return (val!=this.model[\"loading\"]()) ? (this.valueFromJulia[\"loading\"]=true, this.model[\"loading\"](val)) : undefined})"
                   ]
                  },
                  "id": "10491644336553845711",
                  "imports": {
                   "data": [
                    {
                     "name": "knockout",
                     "type": "js",
                     "url": "/assetserver/727383f2a47bd31570b7da84eee7b022dd6d7c78-knockout.js"
                    },
                    {
                     "name": "knockout_punches",
                     "type": "js",
                     "url": "/assetserver/382b41b3b1bd9f26f75861d360bad7f8beea211f-knockout_punches.js"
                    },
                    {
                     "name": null,
                     "type": "js",
                     "url": "/assetserver/5ab20f1060420992a9b82a65b735dee4d81ef413-all.js"
                    },
                    {
                     "name": null,
                     "type": "css",
                     "url": "/assetserver/1cc0ed62837210b80a182cc3676512f895dab686-style.css"
                    },
                    {
                     "name": null,
                     "type": "css",
                     "url": "/assetserver/2eee816f616df3549d7044d45e744fbf8d42bfa1-bulma_confined.min.css"
                    }
                   ],
                   "type": "async_block"
                  },
                  "mount_callbacks": [
                   "function () {\n    var handler = (function (ko, koPunches) {\n    ko.punches.enableAll();\n    ko.bindingHandlers.numericValue = {\n        init: function(element, valueAccessor, allBindings, data, context) {\n            var stringified = ko.observable(ko.unwrap(valueAccessor()));\n            stringified.subscribe(function(value) {\n                var val = parseFloat(value);\n                if (!isNaN(val)) {\n                    valueAccessor()(val);\n                }\n            });\n            valueAccessor().subscribe(function(value) {\n                var str = JSON.stringify(value);\n                if ((str == \"0\") && ([\"-0\", \"-0.\"].indexOf(stringified()) >= 0))\n                     return;\n                 if ([\"null\", \"\"].indexOf(str) >= 0)\n                     return;\n                stringified(str);\n            });\n            ko.applyBindingsToNode(\n                element,\n                {\n                    value: stringified,\n                    valueUpdate: allBindings.get('valueUpdate'),\n                },\n                context,\n            );\n        }\n    };\n    var json_data = {\"loading\":WebIO.getval({\"name\":\"loading\",\"scope\":\"10491644336553845711\",\"id\":\"16644443354811419671\",\"type\":\"observable\"}),\"clicks\":WebIO.getval({\"name\":\"clicks\",\"scope\":\"10491644336553845711\",\"id\":\"7326456125944862255\",\"type\":\"observable\"})};\n    var self = this;\n    function AppViewModel() {\n        for (var key in json_data) {\n            var el = json_data[key];\n            this[key] = Array.isArray(el) ? ko.observableArray(el) : ko.observable(el);\n        }\n        \n        \n        [this[\"loading\"].subscribe((function (val){!(this.valueFromJulia[\"loading\"]) ? (WebIO.setval({\"name\":\"loading\",\"scope\":\"10491644336553845711\",\"id\":\"16644443354811419671\",\"type\":\"observable\"},val)) : undefined; return this.valueFromJulia[\"loading\"]=false}),self),this[\"clicks\"].subscribe((function (val){!(this.valueFromJulia[\"clicks\"]) ? (WebIO.setval({\"name\":\"clicks\",\"scope\":\"10491644336553845711\",\"id\":\"7326456125944862255\",\"type\":\"observable\"},val)) : undefined; return this.valueFromJulia[\"clicks\"]=false}),self)]\n        \n    }\n    self.model = new AppViewModel();\n    self.valueFromJulia = {};\n    for (var key in json_data) {\n        self.valueFromJulia[key] = false;\n    }\n    ko.applyBindings(self.model, self.dom);\n}\n);\n    (WebIO.importBlock({\"data\":[{\"name\":\"knockout\",\"type\":\"js\",\"url\":\"/assetserver/727383f2a47bd31570b7da84eee7b022dd6d7c78-knockout.js\"},{\"name\":\"knockout_punches\",\"type\":\"js\",\"url\":\"/assetserver/382b41b3b1bd9f26f75861d360bad7f8beea211f-knockout_punches.js\"}],\"type\":\"async_block\"})).then((imports) => handler.apply(this, imports));\n}\n"
                  ],
                  "observables": {
                   "clicks": {
                    "id": "7326456125944862255",
                    "sync": true,
                    "value": 0
                   },
                   "loading": {
                    "id": "16644443354811419671",
                    "sync": false,
                    "value": false
                   }
                  },
                  "systemjs_options": null
                 },
                 "nodeType": "Scope",
                 "props": {},
                 "type": "node"
                }
               ],
               "instanceArgs": {
                "namespace": "html",
                "tag": "div"
               },
               "nodeType": "DOM",
               "props": {
                "className": "field interact-widget"
               },
               "type": "node"
              }
             ],
             "instanceArgs": {
              "namespace": "html",
              "tag": "div"
             },
             "nodeType": "DOM",
             "props": {
              "style": {
               "display": "flex",
               "flex-direction": "row"
              }
             },
             "type": "node"
            }
           ],
           "instanceArgs": {
            "namespace": "html",
            "tag": "div"
           },
           "nodeType": "DOM",
           "props": {
            "style": {
             "display": "flex",
             "flex-direction": "column"
            }
           },
           "type": "node"
          },
          {
           "children": [
            {
             "children": [
              {
               "children": [],
               "instanceArgs": {
                "namespace": "html",
                "tag": "div"
               },
               "nodeType": "DOM",
               "props": {
                "id": "container"
               },
               "type": "node"
              }
             ],
             "instanceArgs": {
              "handlers": {
               "value": [
                "(function (txt){return this.k.render(txt,this.container)})"
               ]
              },
              "id": "6183524942620423091",
              "imports": {
               "data": [
                {
                 "name": null,
                 "type": "js",
                 "url": "/assetserver/dd22ed1bf1896c2748f3fe616ce0b838adc895c1-katex.min.js"
                },
                {
                 "name": null,
                 "type": "css",
                 "url": "/assetserver/46517a424aa5e6cffc1360d7e0848b601c584ee3-katex.min.css"
                }
               ],
               "type": "async_block"
              },
              "mount_callbacks": [
               "function () {\n    var handler = ((function (k){this.k=k; this.container=this.dom.querySelector(\"#container\"); return k.render(\"\\\\;\\\\;\",this.container)}));\n    (WebIO.importBlock({\"data\":[{\"name\":null,\"type\":\"js\",\"url\":\"/assetserver/dd22ed1bf1896c2748f3fe616ce0b838adc895c1-katex.min.js\"},{\"name\":null,\"type\":\"css\",\"url\":\"/assetserver/46517a424aa5e6cffc1360d7e0848b601c584ee3-katex.min.css\"}],\"type\":\"async_block\"})).then((imports) => handler.apply(this, imports));\n}\n"
              ],
              "observables": {
               "value": {
                "id": "3605702571801390892",
                "sync": false,
                "value": "\\;\\;"
               }
              },
              "systemjs_options": null
             },
             "nodeType": "Scope",
             "props": {},
             "type": "node"
            }
           ],
           "instanceArgs": {
            "namespace": "html",
            "tag": "div"
           },
           "nodeType": "DOM",
           "props": {
            "className": "interact-widget"
           },
           "type": "node"
          },
          {
           "children": [
            {
             "children": [],
             "instanceArgs": {
              "namespace": "html",
              "tag": "div"
             },
             "nodeType": "DOM",
             "props": {
              "className": "webio-observable",
              "setInnerHtml": "<img src='data:image/png;base64,iVBORw0KGgoAAAANSUhEUgAAAa4AAAGuCAIAAABHl3XNAAAABmJLR0QA/wD/AP+gvaeTAAATPklEQVR4nO3d0ZEcN5IG4NyLM4AmyASaQBPowdgmT2gCPaBMoAezD/dASdWoA4qJSqDm+x4zctHomt6MUPEP4D/v7+8B8LH9T/UGAOoZhQBGIYBRCBBGIUAYhQBhFAKEUQgQRiFAGIUAYRQChFEIEEYhQBiFABHxv0Pd379///Tp07+KP3/+/Pbt2/fv3/9V//z585cvX/Trv60/IobWiYip64+uk7X/0frsfY7+fbO+1/9ttdPYKPz06dMff/zxr+Jff/31/fv3P//889j/9etX/fpv64+IoXUiYur6o+uMrh+N/Y/WZ+9z9O/b2ueFej//gQxgFAIYhQBhFAKEUQgQo/+C/PPnz+O/y7T+0frz58/69d/ZfyyerxOv/p0xcf3RdUbXj8b+R+uz9zn69x3d/0m939gohJV9+fLl69ev/yqO/l/iZJ1v37697D/JzbX2k7J+DOb+WvWsfY5KzDP+/mbkCvU/vz+K8nez84xZ9ax9zs5Xtuon++/nXSGAUQhgFAKEUQgQRiFAyBXq/wj9UZS/m51nzKpn7XN2vrJVP9l/P7lCnqMqp1aVZ5ydWxx9DrPzlVnP+SW5Qv3P6Y/JObXV8oy7nMM4O7fYWuflDlu8KwQwCgGMQoAwCgHCKAQIuUL9T+o/Fq/Vd8kzzs4tZj3/2bnF1jov99MiV8hzfLRz97LygKN5vazzHGP8/MR55Ar1P78/Nj93b3YeMCsXueC9z/28KwQwCgGMQoAwCgHCKAQIuUL9H6E/Nj93b3YeMCsXmfV8EnOa/eQKeY6nnrt3w73MKRLPWyzwPuLHjx8vi29vb8eV397e9Ou/s79qnazvlbX+7M9d7Tm06sfiCe8KAfyzCYBRCBBGIUAYhQAhV6j/Sf3H4j3rxPxz90r2n1Wf/RxO6v3kCnmOj3bu3uz9Z9XXyg82OK9Q//P7Y/9z90r2n1Wveg4vd9jiXSGAUQhgFAKEUQgQRiFAyBXq/wj9sf+5eyX7z6pXPYeX+2mRK+Q5Eu8jTjmXcMEcX9Z5gks9h9HzKF+SK9T/nP4oysHtnuObfa90a59Z9ZN99vOuEMAoBDAKAcIoBAijECDkCvU/qf9YvFYfzcHtnuPLymlWPYeTffaTK+Q5qnJwu+T4Eu+DHlqn6v7oMUNXha52761+/T39WfcIr3Y/8mr3Qa/2fI7FE94VAvhnEwCjECCMQoAwCgFCrlD/R+iPxc4lrNp/Vk6z6u8yus7L/bfIFfIcVXnAjXJ8Q/2t7ztqtfujX3Jeof7n9Mdi5xJm7X+1+6BX+7uc1Pt5VwhgFAIYhQBhFAKEUQgQcoX6n9R/LJ7X5fjO67v8XU7q/eQKWddJzm6pPOADcnwp6xeeF9m/+Ra5Qv3r9scmecCn5vhW+7tc+Nx+3hUCGIUARiFAGIUAYRQChFyh/pX7j8XzdaIoD/jUHN9qf5cLn9tPrpB1ZZ1bt1qOr1WfnU+cvX7VeZEp5Ar179cf4+fWLZXja9Wr8olZ60fReZFyhQA5jEIAoxDAKAQIoxAg5Ar179gf4+fWLZXja9Wr8olZ6x+L5/WsHKJcIQ+XmNebtcWIOM3rLXVO3w35x5LzIlPIFepftz8m5/Wq8o+rnTOY9bmx3nmR/bwrBDAKAYxCgDAKAcIoBAi5Qv0r9x+L1+qr5R9n5/JWyz+O7ifx+feTK2RdS51nd6LqnL7Z9xFXnRd54XsleB/x48ePl8W3t7fjym9vb/r1z+hfbZ+j9azvVfXcsuqzv9exeMK7QgD/bAJgFAKEUQgQRiFAyBXq37E/Jp8/ODuvV5XLG11/dJ3R+uzv9XKdFrlC1pV1nl1WTm32vcNZnzv7ucXk8yLn5gcbnFeof93+mHxO3y73Do9+bmxyvuENz62fd4UARiGAUQgQRiFAGIUAIVeof+X+Y/GedWKxe4dHP/dYPN9PVl4y63MTn1s/uULWNTv3d8O9wFONft+s9WP+uYr3kyvUv19/TM7fjdZn5wdH67vc73zDc+vnXSGAUQhgFAKEUQgQRiFAyBXq37E/JufvRuuz84Oj9arnX5XrPKn3kytkXRfuFx5af3ZurrXPrHrVuY0thbnO0a0eyRXqX7c/FjsXb3Y+cbS+2rmNrXphrrOfd4UARiGAUQgQRiFAGIUAIVeof+X+Y/G8vlpubnY963nOzvcV5jr7yRVynwu5tqXOxUu8B3nqfcpV+b5Wveo5DJEr1H9ffyTl2nbJzWV9r13ObWzVC59DP+8KAYxCAKMQIIxCgDAKAUKuUP+d/cfi+Tqxybl4s3OLWfuvykUWPod+coXc56Odi3fhvMWp9wJX5SJXew4vyRXqr++Pzc/Fm33eYix2b/LoOlH3HPp5VwhgFAIYhQBhFAKEUQgQcoX6V+iPzc/Fy/rc2c+nVZ+dizwWz+uJz6GfXCH3qcr3FZ6HuNS5ga36guc53k+uUP99/VGU71vtPMRd7lOOxXKLF+r9vCsEMAoBjEKAMAoBwigECLlC/Xf2H4vX6rPzjKP7r8rfZdWr8p435Cj7yRVyn6fed5x4Ht8W5wm26rPPc8z63JfkCvXX98fm9x239pO1z9XOE2zVV8uZvlyhxbtCAKMQwCgECKMQIIxCgJAr1L9Cf2x+33FrP1n7XO08wVZ9tZzpy/4WuUKu2z3fN1q/IRf5sr8la52s7zWq6nNfkivUf70/Ns/3jdarcpGz15mdc6z63GPnCe8KAYxCAKMQIIxCgDAKAUKuUP/v9B+L5+vEYvm+0XpVLnL2OrNzjlWfe2w+IVfIdVX32Cbet1uSBxx9bqPfd1TW98r63Jh8X/NLcoX68/sj7x7bLc71q3puVfnQqnuxLzy3ft4VAhiFAEYhQBiFAGEUAoRcof4Z/ZF3j+3s3NkWOb7Rfa6WT8zKgV54bv3kCrlu9vmAo/WqcxJHJd7/u0s+calc50tyhfqv98fk8wFH61XnJC54/+9S36vw/ut+3hUCGIUARiFAGIUAYRQChFyh/t/pPxZr67Nzjqs9t93ziaP7ubB+P7lCrsvKi83OncV4Xu/l+lkW/L5T84lV5zwOkSvUn98fi50nOFrf5bm19j9an51PHP3cxHMe+3lXCGAUAhiFAGEUAoRRCBByhfpn9Mdi5wmO1nd5bq39j9Zn5xNHPzfrub383Ba5Qq7LyovdkDubek7fqMT7f7PymykS84b3368tV6j/en8k5cWy1pmdc9zl/t/V7q2efb7hSb2fd4UARiGAUQgQRiFAGIUAIVeo/3f6j8XadWbnHGc/t1a9Kr+ZVc/6u1/YTz+5Qq7b6B7elPUvfO5S9//Ovrd6qfMHR8kV6s/vj03u4X3q/b9V91ZX/X5O6v28KwQwCgGMQoAwCgHCKAQIuUL9M/pjk3t4qz43is77a62TVa/6/ZzU+8kVct0D7uF95P2/o/usOudxqXur5Qr1X++Ph97DW/W5q+U3s9Yp/P30864QwCgEMAoBwigECKMQIOQK9f9O/7F4rT47n7jL566W38xap/D300+ukOtmn8cXm5yLV3UOYyQ9nxvus17/Hme5Qv35/ZGUv2vVFzwXb6n83S73Wcf8e5z7eVcIYBQCGIUAYRQChFEIEHKF+mf0R1L+rlVf8Fy8pfJ3WevPXifm3+PcT66Q6y7k3bY+F69VXy1/N6rq3MZIOr8yhVyh/uv9MflcwtXOxWvVd8nfVZ2HGEXnV778xBbvCgGMQgCjECCMQoAwCgFCrlD/7/Qfi+f13c/Fa9V3yd/Nzl1W/U5O6v3kCvlldt4t61y8UVXn5VXdm5x17/OoxPuX7ydXqP8fSs4l3OVcxV3uTR5dp7XPrHrhOZL9vCsEMAoBjEKAMAoBwigECLlC/X/vPxbP14nF7gXOys2tlr+r+jtm1Wc/z5N6P7lCfsnKec2+F3jU7LxeFN3XPPvcwKz6UvnBFrlC/f9/fyx2L/Bq9/xmrb/auYFZ9ao848sdtnhXCGAUAhiFAGEUAoRRCBByhfp7+mOxe4Fn5+xmn7u3Wm5xdr0qz/hyPy1yhfySlTurOl8v8XzAre9rvuF8xqXyjCnnXcoV6v+Hre8FbtV3uY+4tZ/RetX5jKvdQ/1yhRbvCgGMQgCjECCMQoAwCgFCrlD/3/uPxWv11c7Xm/25uzz/mHyeYFWe8WSf/eQK+aUqT7fa/by739d8w33KQ+tU3UM95n3Ejx8/Xhbf3t6OK7+9vel/Rv9qn5tVb+1n9+eftZ/VvtfoOsfiCe8KAfyzCYBRCBBGIUAYhQAhV6i/pz+Kzh9sfW5WPStvuNrzz9p/1jpVOceX+2+RK+SXG/JoS92H+9T7mmef8zjqwv3R9/9OnFeo/x+2OH9wdn335z/7nMeq+6Nb+zyp9/OuEMAoBDAKAcIoBAijECDkCvX/vf9YvGedmH8f7lJ5ydVyfK367O/Vqif+TvrJFfJL1b3DkXQf7mh9l/uaR13I8aWsX3VvsnuQ9d/UH5PvHa6qr5aXXC3HV3V/dGv9C5/bz7tCAKMQwCgECKMQIIxCgJAr1N/TH5PPAayqr5aXXC3HN/s53JBD7CdXyC9Zub8b7r2den/u7Lzkajm+UVnnCY4+56nnGMoV6v+HkvPmsnKOu+QlV8vxVeVPs/Z5sn4/7woBjEIAoxAgjEKAMAoBQq5Q/9/7j8Vr9ax8WdU6o+sfi+f11XJ8VfnTrH2erN9PrpBfZp83l5Wni6L7c2fn4LLyjCnn952Yfe6ke5D1L9ofSTm7je7P3TrPuEv+tFV3DzJADaMQwCgEMAoBwigECLlC/T39kZSzqzp3Lxa7Nzlr/WPx/HNXy5+26ol/x35yhU+WdW9vS2IOruT+3Kz6annG2arOkZxKrvDJ/VGUv9vl/tys+i55xtXypzc8t37eFQIYhQBGIUAYhQBhFAKEXOGz+4/F83Vics4uaz9VebdWfZc842r50xueWz+5wierym3dcI/wUvcs33B+38vPrbLaOZIp5Ao/Yn9Mzru16lXnEladz5hVX+13lbX/mP877OddIYBRCGAUAoRRCBBGIUDIFX7M/picd2vVq84lrDqfMau+2u8qa/8x/3fYT67wyarO72vVq3J8VeczZn3fUVnnVM6+93kpcoVP7o+i8/ta9aocX9X5jLPzj1XnVO6SYz3u8IR3hQBGIYBRCBBGIUAYhQAhV/js/mOxtl6V45uda6s612/0+WQ9h11yrMdNnpArfLLdz/Vb7TzB0XMDZ+cfbzgXsvXRKetn1VPOc5Qr/Ij9scm5fqudJ7jLuX6z97NajvXkufXzrhDAKAQwCgHCKAQIoxAg5Ao/Zn9scq7faucJ7nKu3+z9rJZjPXlu/eQKn+zk3LqUdaIoDzi6/xv2s1r+cYvvW3We40tyhU/uj03ycbP3X7WfrPVH67t83xvW6eddIYBRCGAUAoRRCBBGIUDIFT67/1jMXWd0/UjKwVXlK0f3k7X+aH2X73vDOv3kCp9sl3tvs87dW20/MTn3t9r3zcqrppw/OEqu8CP2xyb33lbd85u1n6x97v78C3Oj/bwrBDAKAYxCgDAKAcIoBAi5wo/ZH5vcezs77zZ7P1n73P35F+ZG+8kVPtkN599NNTvfN1pf7RzGqvudq+5rnvo7lCt8cn8UnX83u151D+9q5zC21hmtr5ZXHd3nyef2864QwCgEMAoBwigECKMQIOQKn91/LF6rz86vjdZnf99WveocwKq/b1VedXSfJ5/bT67wyVa7n3e0XnXfcdU5gFnrx+R7hC+czzi0fkmOVa7wI/bHYnm9Vr3q+1adA7ja9519PuMNz7+fd4UARiGAUQgQRiFAGIUAIVf4Mftjsbxeq171favOAVzt+2b9Hqpyiy/30yJX+GQL3s9bknfb5RzAUTfcR7zU3zFmPme5wif3xyb3887+vrufA7jafcSxSW7x5Qot3hUCGIUARiFAGIUAYRQChFzhs/uPxfN6VS5v9vfd/RzAqu+72t/xwj77yRXuZHb+qyqXN/te3VFVebpRhfcRD+1ztdziS3KFO/XHQ+/nnX2v7i7nAO5+H/FqucWXO2nxrhDAKAQwCgHCKAQIoxAg5Ar36j8Wz9eJTe7nzTqfbvbfpepzs/Y5uv9j8do+R9cZ3adc4YdTdT9vVZ4xNj8HcLbV7iOuyi2mkCt8Qn9Mvp83ivKMo5+72jmAu5xHuXtuUa4QIIdRCGAUAhiFAGEUAoRc4TP6Y/L9vMfitf3MziGudg5g1T5n7z8Wyy3KFW7vQl5vqqxcWEy+Zznruc0+93BU4XmUU39vN+RYf59c4Yq5sNn5wdH6avcsZ60/+rm7/B52+b3dsM9+3hUCGIUARiFAGIUAYRQChFxhbf+xeL5OJOUHR+tV5xJWPbfdfw+7/N5u2Gc/ucJKVfnBUaO5sNXOVYyicw9H7fLcRuuzz0lMIVe4Yn8U5QdH67ucq9iqf7TfQ9ZzG60XPod+3hUCGIUARiFAGIUAYRQChFzhmv1RlB8cre9yrmKr/tF+D1nPbbRe+Bz6/ef9/X3ofwDwPP4DGcAoBDAKAcIoBAijECCMQoAwCgHCKAQIoxAgjEKAMAoBwigECKMQIIxCgIj4L84voy7FCoH+AAAAAElFTkSuQmCC'></img>"
             },
             "type": "node"
            }
           ],
           "instanceArgs": {
            "handlers": {
             "obs-output": [
              "function (value, scope) {\n    scope.setInnerHTML(value);\n}\n"
             ]
            },
            "id": "5832790797878703979",
            "imports": {
             "data": [],
             "type": "async_block"
            },
            "mount_callbacks": [],
            "observables": {
             "obs-output": {
              "id": "1449495684948430231",
              "sync": false,
              "value": "<img src='data:image/png;base64,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'></img>"
             }
            },
            "systemjs_options": null
           },
           "nodeType": "Scope",
           "props": {},
           "type": "node"
          },
          {
           "children": [
            {
             "children": [
              {
               "children": [],
               "instanceArgs": {
                "namespace": "html",
                "tag": "div"
               },
               "nodeType": "DOM",
               "props": {
                "id": "container"
               },
               "type": "node"
              }
             ],
             "instanceArgs": {
              "handlers": {
               "value": [
                "(function (txt){return this.k.render(txt,this.container)})"
               ]
              },
              "id": "6183524942620423091",
              "imports": {
               "data": [
                {
                 "name": null,
                 "type": "js",
                 "url": "/assetserver/dd22ed1bf1896c2748f3fe616ce0b838adc895c1-katex.min.js"
                },
                {
                 "name": null,
                 "type": "css",
                 "url": "/assetserver/46517a424aa5e6cffc1360d7e0848b601c584ee3-katex.min.css"
                }
               ],
               "type": "async_block"
              },
              "mount_callbacks": [
               "function () {\n    var handler = ((function (k){this.k=k; this.container=this.dom.querySelector(\"#container\"); return k.render(\"\\\\;\\\\;\",this.container)}));\n    (WebIO.importBlock({\"data\":[{\"name\":null,\"type\":\"js\",\"url\":\"/assetserver/dd22ed1bf1896c2748f3fe616ce0b838adc895c1-katex.min.js\"},{\"name\":null,\"type\":\"css\",\"url\":\"/assetserver/46517a424aa5e6cffc1360d7e0848b601c584ee3-katex.min.css\"}],\"type\":\"async_block\"})).then((imports) => handler.apply(this, imports));\n}\n"
              ],
              "observables": {
               "value": {
                "id": "3605702571801390892",
                "sync": false,
                "value": "\\;\\;"
               }
              },
              "systemjs_options": null
             },
             "nodeType": "Scope",
             "props": {},
             "type": "node"
            }
           ],
           "instanceArgs": {
            "namespace": "html",
            "tag": "div"
           },
           "nodeType": "DOM",
           "props": {
            "className": "interact-widget"
           },
           "type": "node"
          },
          {
           "children": [],
           "instanceArgs": {
            "namespace": "html",
            "tag": "div"
           },
           "nodeType": "DOM",
           "props": {
            "style": {
             "display": "flex",
             "flex-direction": "column"
            }
           },
           "type": "node"
          }
         ],
         "instanceArgs": {
          "namespace": "html",
          "tag": "div"
         },
         "nodeType": "DOM",
         "props": {
          "style": {
           "display": "flex",
           "flex-direction": "row"
          }
         },
         "type": "node"
        }
       ],
       "instanceArgs": {
        "namespace": "html",
        "tag": "div"
       },
       "nodeType": "DOM",
       "props": {
        "style": {
         "display": "flex",
         "flex-direction": "column"
        }
       },
       "type": "node"
      },
      "text/html": [
       "<div\n",
       "    class=\"webio-mountpoint\"\n",
       "    data-webio-mountpoint=\"5494477517956951257\"\n",
       ">\n",
       "    <script>\n",
       "    (function(){\n",
       "    // Some integrations (namely, IJulia/Jupyter) use an alternate render pathway than\n",
       "    // just putting the html on the page. If WebIO isn't defined, then it's pretty likely\n",
       "    // that we're in one of those situations and the integration just isn't installed\n",
       "    // correctly.\n",
       "    if (typeof window.WebIO === \"undefined\") {\n",
       "        document\n",
       "            .querySelector('[data-webio-mountpoint=\"5494477517956951257\"]')\n",
       "            .innerHTML = (\n",
       "                '<div style=\"padding: 1em; background-color: #f8d6da; border: 1px solid #f5c6cb; font-weight: bold;\">' +\n",
       "                '<p><strong>WebIO not detected.</strong></p>' +\n",
       "                '<p>Please read ' +\n",
       "                '<a href=\"https://juliagizmos.github.io/WebIO.jl/latest/troubleshooting/not-detected/\" target=\"_blank\">the troubleshooting guide</a> ' +\n",
       "                'for more information on how to resolve this issue.</p>' +\n",
       "                '<p><a href=\"https://juliagizmos.github.io/WebIO.jl/latest/troubleshooting/not-detected/\" target=\"_blank\">https://juliagizmos.github.io/WebIO.jl/latest/troubleshooting/not-detected/</a></p>' +\n",
       "                '</div>'\n",
       "            );\n",
       "        return;\n",
       "    }\n",
       "    WebIO.mount(\n",
       "        document.querySelector('[data-webio-mountpoint=\"5494477517956951257\"]'),\n",
       "        {\"props\":{\"style\":{\"display\":\"flex\",\"flex-direction\":\"column\"}},\"nodeType\":\"DOM\",\"type\":\"node\",\"instanceArgs\":{\"namespace\":\"html\",\"tag\":\"div\"},\"children\":[{\"props\":{\"style\":{\"display\":\"flex\",\"flex-direction\":\"row\"}},\"nodeType\":\"DOM\",\"type\":\"node\",\"instanceArgs\":{\"namespace\":\"html\",\"tag\":\"div\"},\"children\":[{\"props\":{\"style\":{\"display\":\"flex\",\"flex-direction\":\"column\"}},\"nodeType\":\"DOM\",\"type\":\"node\",\"instanceArgs\":{\"namespace\":\"html\",\"tag\":\"div\"},\"children\":[{\"props\":{\"className\":\"field interact-widget\"},\"nodeType\":\"DOM\",\"type\":\"node\",\"instanceArgs\":{\"namespace\":\"html\",\"tag\":\"div\"},\"children\":[{\"props\":{},\"nodeType\":\"Scope\",\"type\":\"node\",\"instanceArgs\":{\"imports\":{\"data\":[{\"name\":\"knockout\",\"type\":\"js\",\"url\":\"\\/assetserver\\/727383f2a47bd31570b7da84eee7b022dd6d7c78-knockout.js\"},{\"name\":\"knockout_punches\",\"type\":\"js\",\"url\":\"\\/assetserver\\/382b41b3b1bd9f26f75861d360bad7f8beea211f-knockout_punches.js\"},{\"name\":null,\"type\":\"js\",\"url\":\"\\/assetserver\\/5ab20f1060420992a9b82a65b735dee4d81ef413-all.js\"},{\"name\":null,\"type\":\"css\",\"url\":\"\\/assetserver\\/1cc0ed62837210b80a182cc3676512f895dab686-style.css\"},{\"name\":null,\"type\":\"css\",\"url\":\"\\/assetserver\\/2eee816f616df3549d7044d45e744fbf8d42bfa1-bulma_confined.min.css\"}],\"type\":\"async_block\"},\"id\":\"813324883923220585\",\"handlers\":{\"changes\":[\"(function (val){return (val!=this.model[\\\"changes\\\"]()) ? (this.valueFromJulia[\\\"changes\\\"]=true, this.model[\\\"changes\\\"](val)) : undefined})\"],\"index\":[\"(function (val){return (val!=this.model[\\\"index\\\"]()) ? (this.valueFromJulia[\\\"index\\\"]=true, this.model[\\\"index\\\"](val)) : undefined})\"]},\"systemjs_options\":null,\"mount_callbacks\":[\"function () {\\n    var handler = (function (ko, koPunches) {\\n    ko.punches.enableAll();\\n    ko.bindingHandlers.numericValue = {\\n        init: function(element, valueAccessor, allBindings, data, context) {\\n            var stringified = ko.observable(ko.unwrap(valueAccessor()));\\n            stringified.subscribe(function(value) {\\n                var val = parseFloat(value);\\n                if (!isNaN(val)) {\\n                    valueAccessor()(val);\\n                }\\n            });\\n            valueAccessor().subscribe(function(value) {\\n                var str = JSON.stringify(value);\\n                if ((str == \\\"0\\\") && ([\\\"-0\\\", \\\"-0.\\\"].indexOf(stringified()) >= 0))\\n                     return;\\n                 if ([\\\"null\\\", \\\"\\\"].indexOf(str) >= 0)\\n                     return;\\n                stringified(str);\\n            });\\n            ko.applyBindingsToNode(\\n                element,\\n                {\\n                    value: stringified,\\n                    valueUpdate: allBindings.get('valueUpdate'),\\n                },\\n                context,\\n            );\\n        }\\n    };\\n    var json_data = {\\\"formatted_vals\\\":[\\\"1\\\",\\\"2\\\",\\\"3\\\",\\\"4\\\",\\\"5\\\",\\\"6\\\",\\\"7\\\",\\\"8\\\",\\\"9\\\",\\\"10\\\",\\\"11\\\",\\\"12\\\",\\\"13\\\",\\\"14\\\",\\\"15\\\",\\\"16\\\",\\\"17\\\",\\\"18\\\",\\\"19\\\",\\\"20\\\",\\\"21\\\",\\\"22\\\",\\\"23\\\",\\\"24\\\",\\\"25\\\",\\\"26\\\",\\\"27\\\",\\\"28\\\",\\\"29\\\",\\\"30\\\",\\\"31\\\",\\\"32\\\",\\\"33\\\",\\\"34\\\",\\\"35\\\",\\\"36\\\",\\\"37\\\",\\\"38\\\",\\\"39\\\",\\\"40\\\",\\\"41\\\",\\\"42\\\",\\\"43\\\",\\\"44\\\",\\\"45\\\",\\\"46\\\",\\\"47\\\",\\\"48\\\",\\\"49\\\",\\\"50\\\",\\\"51\\\",\\\"52\\\",\\\"53\\\",\\\"54\\\",\\\"55\\\",\\\"56\\\",\\\"57\\\",\\\"58\\\",\\\"59\\\",\\\"60\\\",\\\"61\\\",\\\"62\\\",\\\"63\\\",\\\"64\\\",\\\"65\\\",\\\"66\\\",\\\"67\\\",\\\"68\\\",\\\"69\\\",\\\"70\\\",\\\"71\\\",\\\"72\\\",\\\"73\\\",\\\"74\\\",\\\"75\\\",\\\"76\\\",\\\"77\\\",\\\"78\\\",\\\"79\\\",\\\"80\\\",\\\"81\\\",\\\"82\\\",\\\"83\\\",\\\"84\\\",\\\"85\\\",\\\"86\\\",\\\"87\\\",\\\"88\\\",\\\"89\\\",\\\"90\\\",\\\"91\\\",\\\"92\\\",\\\"93\\\",\\\"94\\\",\\\"95\\\",\\\"96\\\",\\\"97\\\",\\\"98\\\",\\\"99\\\",\\\"100\\\",\\\"101\\\",\\\"102\\\",\\\"103\\\",\\\"104\\\",\\\"105\\\",\\\"106\\\",\\\"107\\\",\\\"108\\\",\\\"109\\\",\\\"110\\\",\\\"111\\\",\\\"112\\\",\\\"113\\\",\\\"114\\\",\\\"115\\\",\\\"116\\\",\\\"117\\\",\\\"118\\\",\\\"119\\\",\\\"120\\\",\\\"121\\\",\\\"122\\\",\\\"123\\\",\\\"124\\\",\\\"125\\\",\\\"126\\\",\\\"127\\\",\\\"128\\\",\\\"129\\\",\\\"130\\\",\\\"131\\\",\\\"132\\\",\\\"133\\\",\\\"134\\\",\\\"135\\\",\\\"136\\\",\\\"137\\\",\\\"138\\\",\\\"139\\\",\\\"140\\\",\\\"141\\\",\\\"142\\\",\\\"143\\\",\\\"144\\\",\\\"145\\\",\\\"146\\\",\\\"147\\\",\\\"148\\\",\\\"149\\\",\\\"150\\\",\\\"151\\\",\\\"152\\\",\\\"153\\\",\\\"154\\\",\\\"155\\\",\\\"156\\\",\\\"157\\\",\\\"158\\\",\\\"159\\\",\\\"160\\\",\\\"161\\\",\\\"162\\\",\\\"163\\\",\\\"164\\\",\\\"165\\\",\\\"166\\\",\\\"167\\\",\\\"168\\\",\\\"169\\\",\\\"170\\\",\\\"171\\\",\\\"172\\\",\\\"173\\\",\\\"174\\\",\\\"175\\\",\\\"176\\\",\\\"177\\\",\\\"178\\\",\\\"179\\\",\\\"180\\\",\\\"181\\\",\\\"182\\\",\\\"183\\\",\\\"184\\\",\\\"185\\\",\\\"186\\\",\\\"187\\\",\\\"188\\\",\\\"189\\\",\\\"190\\\",\\\"191\\\",\\\"192\\\",\\\"193\\\",\\\"194\\\",\\\"195\\\",\\\"196\\\",\\\"197\\\",\\\"198\\\",\\\"199\\\",\\\"200\\\",\\\"201\\\"],\\\"changes\\\":WebIO.getval({\\\"name\\\":\\\"changes\\\",\\\"scope\\\":\\\"813324883923220585\\\",\\\"id\\\":\\\"12045950911232964837\\\",\\\"type\\\":\\\"observable\\\"}),\\\"index\\\":WebIO.getval({\\\"name\\\":\\\"index\\\",\\\"scope\\\":\\\"813324883923220585\\\",\\\"id\\\":\\\"15481014654652453677\\\",\\\"type\\\":\\\"observable\\\"})};\\n    var self = this;\\n    function AppViewModel() {\\n        for (var key in json_data) {\\n            var el = json_data[key];\\n            this[key] = Array.isArray(el) ? ko.observableArray(el) : ko.observable(el);\\n        }\\n        \\n        [this[\\\"formatted_val\\\"]=ko.computed(    function(){\\n        return this.formatted_vals()[parseInt(this.index())-(1)];\\n    }\\n,this)]\\n        [this[\\\"changes\\\"].subscribe((function (val){!(this.valueFromJulia[\\\"changes\\\"]) ? (WebIO.setval({\\\"name\\\":\\\"changes\\\",\\\"scope\\\":\\\"813324883923220585\\\",\\\"id\\\":\\\"12045950911232964837\\\",\\\"type\\\":\\\"observable\\\"},val)) : undefined; return this.valueFromJulia[\\\"changes\\\"]=false}),self),this[\\\"index\\\"].subscribe((function (val){!(this.valueFromJulia[\\\"index\\\"]) ? (WebIO.setval({\\\"name\\\":\\\"index\\\",\\\"scope\\\":\\\"813324883923220585\\\",\\\"id\\\":\\\"15481014654652453677\\\",\\\"type\\\":\\\"observable\\\"},val)) : undefined; return this.valueFromJulia[\\\"index\\\"]=false}),self)]\\n        \\n    }\\n    self.model = new AppViewModel();\\n    self.valueFromJulia = {};\\n    for (var key in json_data) {\\n        self.valueFromJulia[key] = false;\\n    }\\n    ko.applyBindings(self.model, self.dom);\\n}\\n);\\n    (WebIO.importBlock({\\\"data\\\":[{\\\"name\\\":\\\"knockout\\\",\\\"type\\\":\\\"js\\\",\\\"url\\\":\\\"\\/assetserver\\/727383f2a47bd31570b7da84eee7b022dd6d7c78-knockout.js\\\"},{\\\"name\\\":\\\"knockout_punches\\\",\\\"type\\\":\\\"js\\\",\\\"url\\\":\\\"\\/assetserver\\/382b41b3b1bd9f26f75861d360bad7f8beea211f-knockout_punches.js\\\"}],\\\"type\\\":\\\"async_block\\\"})).then((imports) => handler.apply(this, imports));\\n}\\n\"],\"observables\":{\"changes\":{\"sync\":false,\"id\":\"12045950911232964837\",\"value\":0},\"index\":{\"sync\":true,\"id\":\"15481014654652453677\",\"value\":101}}},\"children\":[{\"props\":{\"className\":\"interact-flex-row interact-widget\"},\"nodeType\":\"DOM\",\"type\":\"node\",\"instanceArgs\":{\"namespace\":\"html\",\"tag\":\"div\"},\"children\":[{\"props\":{\"className\":\"interact-flex-row-left\"},\"nodeType\":\"DOM\",\"type\":\"node\",\"instanceArgs\":{\"namespace\":\"html\",\"tag\":\"div\"},\"children\":[{\"props\":{\"className\":\"interact \",\"style\":{\"padding\":\"5px 10px 0px 10px\"}},\"nodeType\":\"DOM\",\"type\":\"node\",\"instanceArgs\":{\"namespace\":\"html\",\"tag\":\"label\"},\"children\":[\"time\"]}]},{\"props\":{\"className\":\"interact-flex-row-center\"},\"nodeType\":\"DOM\",\"type\":\"node\",\"instanceArgs\":{\"namespace\":\"html\",\"tag\":\"div\"},\"children\":[{\"props\":{\"max\":201,\"min\":1,\"attributes\":{\"type\":\"range\",\"data-bind\":\"numericValue: index, valueUpdate: 'input', event: {change: function (){this.changes(this.changes()+1)}}\",\"orient\":\"horizontal\"},\"step\":1,\"className\":\"slider slider is-fullwidth\",\"style\":{}},\"nodeType\":\"DOM\",\"type\":\"node\",\"instanceArgs\":{\"namespace\":\"html\",\"tag\":\"input\"},\"children\":[]}]},{\"props\":{\"className\":\"interact-flex-row-right\"},\"nodeType\":\"DOM\",\"type\":\"node\",\"instanceArgs\":{\"namespace\":\"html\",\"tag\":\"div\"},\"children\":[{\"props\":{\"attributes\":{\"data-bind\":\"text: formatted_val\"}},\"nodeType\":\"DOM\",\"type\":\"node\",\"instanceArgs\":{\"namespace\":\"html\",\"tag\":\"p\"},\"children\":[]}]}]}]}]},{\"props\":{\"className\":\"field interact-widget\"},\"nodeType\":\"DOM\",\"type\":\"node\",\"instanceArgs\":{\"namespace\":\"html\",\"tag\":\"div\"},\"children\":[{\"props\":{},\"nodeType\":\"Scope\",\"type\":\"node\",\"instanceArgs\":{\"imports\":{\"data\":[{\"name\":\"knockout\",\"type\":\"js\",\"url\":\"\\/assetserver\\/727383f2a47bd31570b7da84eee7b022dd6d7c78-knockout.js\"},{\"name\":\"knockout_punches\",\"type\":\"js\",\"url\":\"\\/assetserver\\/382b41b3b1bd9f26f75861d360bad7f8beea211f-knockout_punches.js\"},{\"name\":null,\"type\":\"js\",\"url\":\"\\/assetserver\\/5ab20f1060420992a9b82a65b735dee4d81ef413-all.js\"},{\"name\":null,\"type\":\"css\",\"url\":\"\\/assetserver\\/1cc0ed62837210b80a182cc3676512f895dab686-style.css\"},{\"name\":null,\"type\":\"css\",\"url\":\"\\/assetserver\\/2eee816f616df3549d7044d45e744fbf8d42bfa1-bulma_confined.min.css\"}],\"type\":\"async_block\"},\"id\":\"8829882013479105804\",\"handlers\":{\"changes\":[\"(function (val){return (val!=this.model[\\\"changes\\\"]()) ? (this.valueFromJulia[\\\"changes\\\"]=true, this.model[\\\"changes\\\"](val)) : undefined})\"],\"index\":[\"(function (val){return (val!=this.model[\\\"index\\\"]()) ? (this.valueFromJulia[\\\"index\\\"]=true, this.model[\\\"index\\\"](val)) : undefined})\"]},\"systemjs_options\":null,\"mount_callbacks\":[\"function () {\\n    var handler = (function (ko, koPunches) {\\n    ko.punches.enableAll();\\n    ko.bindingHandlers.numericValue = {\\n        init: function(element, valueAccessor, allBindings, data, context) {\\n            var stringified = ko.observable(ko.unwrap(valueAccessor()));\\n            stringified.subscribe(function(value) {\\n                var val = parseFloat(value);\\n                if (!isNaN(val)) {\\n                    valueAccessor()(val);\\n                }\\n            });\\n            valueAccessor().subscribe(function(value) {\\n                var str = JSON.stringify(value);\\n                if ((str == \\\"0\\\") && ([\\\"-0\\\", \\\"-0.\\\"].indexOf(stringified()) >= 0))\\n                     return;\\n                 if ([\\\"null\\\", \\\"\\\"].indexOf(str) >= 0)\\n                     return;\\n                stringified(str);\\n            });\\n            ko.applyBindingsToNode(\\n                element,\\n                {\\n                    value: stringified,\\n                    valueUpdate: allBindings.get('valueUpdate'),\\n                },\\n                context,\\n            );\\n        }\\n    };\\n    var json_data = {\\\"formatted_vals\\\":[\\\"0.1\\\",\\\"0.2\\\",\\\"0.3\\\",\\\"0.4\\\",\\\"0.5\\\",\\\"0.6\\\",\\\"0.7\\\",\\\"0.8\\\",\\\"0.9\\\",\\\"1.0\\\",\\\"1.1\\\",\\\"1.2\\\",\\\"1.3\\\",\\\"1.4\\\",\\\"1.5\\\",\\\"1.6\\\",\\\"1.7\\\",\\\"1.8\\\",\\\"1.9\\\",\\\"2.0\\\"],\\\"changes\\\":WebIO.getval({\\\"name\\\":\\\"changes\\\",\\\"scope\\\":\\\"8829882013479105804\\\",\\\"id\\\":\\\"6964049269644712619\\\",\\\"type\\\":\\\"observable\\\"}),\\\"index\\\":WebIO.getval({\\\"name\\\":\\\"index\\\",\\\"scope\\\":\\\"8829882013479105804\\\",\\\"id\\\":\\\"11193889000114863645\\\",\\\"type\\\":\\\"observable\\\"})};\\n    var self = this;\\n    function AppViewModel() {\\n        for (var key in json_data) {\\n            var el = json_data[key];\\n            this[key] = Array.isArray(el) ? ko.observableArray(el) : ko.observable(el);\\n        }\\n        \\n        [this[\\\"formatted_val\\\"]=ko.computed(    function(){\\n        return this.formatted_vals()[parseInt(this.index())-(1)];\\n    }\\n,this)]\\n        [this[\\\"changes\\\"].subscribe((function (val){!(this.valueFromJulia[\\\"changes\\\"]) ? (WebIO.setval({\\\"name\\\":\\\"changes\\\",\\\"scope\\\":\\\"8829882013479105804\\\",\\\"id\\\":\\\"6964049269644712619\\\",\\\"type\\\":\\\"observable\\\"},val)) : undefined; return this.valueFromJulia[\\\"changes\\\"]=false}),self),this[\\\"index\\\"].subscribe((function (val){!(this.valueFromJulia[\\\"index\\\"]) ? (WebIO.setval({\\\"name\\\":\\\"index\\\",\\\"scope\\\":\\\"8829882013479105804\\\",\\\"id\\\":\\\"11193889000114863645\\\",\\\"type\\\":\\\"observable\\\"},val)) : undefined; return this.valueFromJulia[\\\"index\\\"]=false}),self)]\\n        \\n    }\\n    self.model = new AppViewModel();\\n    self.valueFromJulia = {};\\n    for (var key in json_data) {\\n        self.valueFromJulia[key] = false;\\n    }\\n    ko.applyBindings(self.model, self.dom);\\n}\\n);\\n    (WebIO.importBlock({\\\"data\\\":[{\\\"name\\\":\\\"knockout\\\",\\\"type\\\":\\\"js\\\",\\\"url\\\":\\\"\\/assetserver\\/727383f2a47bd31570b7da84eee7b022dd6d7c78-knockout.js\\\"},{\\\"name\\\":\\\"knockout_punches\\\",\\\"type\\\":\\\"js\\\",\\\"url\\\":\\\"\\/assetserver\\/382b41b3b1bd9f26f75861d360bad7f8beea211f-knockout_punches.js\\\"}],\\\"type\\\":\\\"async_block\\\"})).then((imports) => handler.apply(this, imports));\\n}\\n\"],\"observables\":{\"changes\":{\"sync\":false,\"id\":\"6964049269644712619\",\"value\":0},\"index\":{\"sync\":true,\"id\":\"11193889000114863645\",\"value\":10}}},\"children\":[{\"props\":{\"className\":\"interact-flex-row interact-widget\"},\"nodeType\":\"DOM\",\"type\":\"node\",\"instanceArgs\":{\"namespace\":\"html\",\"tag\":\"div\"},\"children\":[{\"props\":{\"className\":\"interact-flex-row-left\"},\"nodeType\":\"DOM\",\"type\":\"node\",\"instanceArgs\":{\"namespace\":\"html\",\"tag\":\"div\"},\"children\":[{\"props\":{\"className\":\"interact \",\"style\":{\"padding\":\"5px 10px 0px 10px\"}},\"nodeType\":\"DOM\",\"type\":\"node\",\"instanceArgs\":{\"namespace\":\"html\",\"tag\":\"label\"},\"children\":[\"scale\"]}]},{\"props\":{\"className\":\"interact-flex-row-center\"},\"nodeType\":\"DOM\",\"type\":\"node\",\"instanceArgs\":{\"namespace\":\"html\",\"tag\":\"div\"},\"children\":[{\"props\":{\"max\":20,\"min\":1,\"attributes\":{\"type\":\"range\",\"data-bind\":\"numericValue: index, valueUpdate: 'input', event: {change: function (){this.changes(this.changes()+1)}}\",\"orient\":\"horizontal\"},\"step\":1,\"className\":\"slider slider is-fullwidth\",\"style\":{}},\"nodeType\":\"DOM\",\"type\":\"node\",\"instanceArgs\":{\"namespace\":\"html\",\"tag\":\"input\"},\"children\":[]}]},{\"props\":{\"className\":\"interact-flex-row-right\"},\"nodeType\":\"DOM\",\"type\":\"node\",\"instanceArgs\":{\"namespace\":\"html\",\"tag\":\"div\"},\"children\":[{\"props\":{\"attributes\":{\"data-bind\":\"text: formatted_val\"}},\"nodeType\":\"DOM\",\"type\":\"node\",\"instanceArgs\":{\"namespace\":\"html\",\"tag\":\"p\"},\"children\":[]}]}]}]}]},{\"props\":{\"style\":{\"display\":\"flex\",\"flex-direction\":\"row\"}},\"nodeType\":\"DOM\",\"type\":\"node\",\"instanceArgs\":{\"namespace\":\"html\",\"tag\":\"div\"},\"children\":[{\"props\":{\"className\":\"interact-widget\"},\"nodeType\":\"DOM\",\"type\":\"node\",\"instanceArgs\":{\"namespace\":\"html\",\"tag\":\"div\"},\"children\":[{\"props\":{},\"nodeType\":\"Scope\",\"type\":\"node\",\"instanceArgs\":{\"imports\":{\"data\":[{\"name\":null,\"type\":\"js\",\"url\":\"\\/assetserver\\/dd22ed1bf1896c2748f3fe616ce0b838adc895c1-katex.min.js\"},{\"name\":null,\"type\":\"css\",\"url\":\"\\/assetserver\\/46517a424aa5e6cffc1360d7e0848b601c584ee3-katex.min.css\"}],\"type\":\"async_block\"},\"id\":\"6183524942620423091\",\"handlers\":{\"value\":[\"(function (txt){return this.k.render(txt,this.container)})\"]},\"systemjs_options\":null,\"mount_callbacks\":[\"function () {\\n    var handler = ((function (k){this.k=k; this.container=this.dom.querySelector(\\\"#container\\\"); return k.render(\\\"\\\\\\\\;\\\\\\\\;\\\",this.container)}));\\n    (WebIO.importBlock({\\\"data\\\":[{\\\"name\\\":null,\\\"type\\\":\\\"js\\\",\\\"url\\\":\\\"\\/assetserver\\/dd22ed1bf1896c2748f3fe616ce0b838adc895c1-katex.min.js\\\"},{\\\"name\\\":null,\\\"type\\\":\\\"css\\\",\\\"url\\\":\\\"\\/assetserver\\/46517a424aa5e6cffc1360d7e0848b601c584ee3-katex.min.css\\\"}],\\\"type\\\":\\\"async_block\\\"})).then((imports) => handler.apply(this, imports));\\n}\\n\"],\"observables\":{\"value\":{\"sync\":false,\"id\":\"3605702571801390892\",\"value\":\"\\\\;\\\\;\"}}},\"children\":[{\"props\":{\"id\":\"container\"},\"nodeType\":\"DOM\",\"type\":\"node\",\"instanceArgs\":{\"namespace\":\"html\",\"tag\":\"div\"},\"children\":[]}]}]},{\"props\":{\"className\":\"field interact-widget\"},\"nodeType\":\"DOM\",\"type\":\"node\",\"instanceArgs\":{\"namespace\":\"html\",\"tag\":\"div\"},\"children\":[{\"props\":{},\"nodeType\":\"Scope\",\"type\":\"node\",\"instanceArgs\":{\"imports\":{\"data\":[{\"name\":\"knockout\",\"type\":\"js\",\"url\":\"\\/assetserver\\/727383f2a47bd31570b7da84eee7b022dd6d7c78-knockout.js\"},{\"name\":\"knockout_punches\",\"type\":\"js\",\"url\":\"\\/assetserver\\/382b41b3b1bd9f26f75861d360bad7f8beea211f-knockout_punches.js\"},{\"name\":null,\"type\":\"js\",\"url\":\"\\/assetserver\\/5ab20f1060420992a9b82a65b735dee4d81ef413-all.js\"},{\"name\":null,\"type\":\"css\",\"url\":\"\\/assetserver\\/1cc0ed62837210b80a182cc3676512f895dab686-style.css\"},{\"name\":null,\"type\":\"css\",\"url\":\"\\/assetserver\\/2eee816f616df3549d7044d45e744fbf8d42bfa1-bulma_confined.min.css\"}],\"type\":\"async_block\"},\"id\":\"11407949889234739934\",\"handlers\":{\"loading\":[\"(function (val){return (val!=this.model[\\\"loading\\\"]()) ? (this.valueFromJulia[\\\"loading\\\"]=true, this.model[\\\"loading\\\"](val)) : undefined})\"],\"clicks\":[\"(function (val){return (val!=this.model[\\\"clicks\\\"]()) ? (this.valueFromJulia[\\\"clicks\\\"]=true, this.model[\\\"clicks\\\"](val)) : undefined})\"]},\"systemjs_options\":null,\"mount_callbacks\":[\"function () {\\n    var handler = (function (ko, koPunches) {\\n    ko.punches.enableAll();\\n    ko.bindingHandlers.numericValue = {\\n        init: function(element, valueAccessor, allBindings, data, context) {\\n            var stringified = ko.observable(ko.unwrap(valueAccessor()));\\n            stringified.subscribe(function(value) {\\n                var val = parseFloat(value);\\n                if (!isNaN(val)) {\\n                    valueAccessor()(val);\\n                }\\n            });\\n            valueAccessor().subscribe(function(value) {\\n                var str = JSON.stringify(value);\\n                if ((str == \\\"0\\\") && ([\\\"-0\\\", \\\"-0.\\\"].indexOf(stringified()) >= 0))\\n                     return;\\n                 if ([\\\"null\\\", \\\"\\\"].indexOf(str) >= 0)\\n                     return;\\n                stringified(str);\\n            });\\n            ko.applyBindingsToNode(\\n                element,\\n                {\\n                    value: stringified,\\n                    valueUpdate: allBindings.get('valueUpdate'),\\n                },\\n                context,\\n            );\\n        }\\n    };\\n    var json_data = {\\\"loading\\\":WebIO.getval({\\\"name\\\":\\\"loading\\\",\\\"scope\\\":\\\"11407949889234739934\\\",\\\"id\\\":\\\"9586455112914911046\\\",\\\"type\\\":\\\"observable\\\"}),\\\"clicks\\\":WebIO.getval({\\\"name\\\":\\\"clicks\\\",\\\"scope\\\":\\\"11407949889234739934\\\",\\\"id\\\":\\\"17976761333877883342\\\",\\\"type\\\":\\\"observable\\\"})};\\n    var self = this;\\n    function AppViewModel() {\\n        for (var key in json_data) {\\n            var el = json_data[key];\\n            this[key] = Array.isArray(el) ? ko.observableArray(el) : ko.observable(el);\\n        }\\n        \\n        \\n        [this[\\\"loading\\\"].subscribe((function (val){!(this.valueFromJulia[\\\"loading\\\"]) ? (WebIO.setval({\\\"name\\\":\\\"loading\\\",\\\"scope\\\":\\\"11407949889234739934\\\",\\\"id\\\":\\\"9586455112914911046\\\",\\\"type\\\":\\\"observable\\\"},val)) : undefined; return this.valueFromJulia[\\\"loading\\\"]=false}),self),this[\\\"clicks\\\"].subscribe((function (val){!(this.valueFromJulia[\\\"clicks\\\"]) ? (WebIO.setval({\\\"name\\\":\\\"clicks\\\",\\\"scope\\\":\\\"11407949889234739934\\\",\\\"id\\\":\\\"17976761333877883342\\\",\\\"type\\\":\\\"observable\\\"},val)) : undefined; return this.valueFromJulia[\\\"clicks\\\"]=false}),self)]\\n        \\n    }\\n    self.model = new AppViewModel();\\n    self.valueFromJulia = {};\\n    for (var key in json_data) {\\n        self.valueFromJulia[key] = false;\\n    }\\n    ko.applyBindings(self.model, self.dom);\\n}\\n);\\n    (WebIO.importBlock({\\\"data\\\":[{\\\"name\\\":\\\"knockout\\\",\\\"type\\\":\\\"js\\\",\\\"url\\\":\\\"\\/assetserver\\/727383f2a47bd31570b7da84eee7b022dd6d7c78-knockout.js\\\"},{\\\"name\\\":\\\"knockout_punches\\\",\\\"type\\\":\\\"js\\\",\\\"url\\\":\\\"\\/assetserver\\/382b41b3b1bd9f26f75861d360bad7f8beea211f-knockout_punches.js\\\"}],\\\"type\\\":\\\"async_block\\\"})).then((imports) => handler.apply(this, imports));\\n}\\n\"],\"observables\":{\"loading\":{\"sync\":false,\"id\":\"9586455112914911046\",\"value\":false},\"clicks\":{\"sync\":true,\"id\":\"17976761333877883342\",\"value\":0}}},\"children\":[{\"props\":{\"attributes\":{\"data-bind\":\"click: function (){this.clicks(this.clicks()+1)}, css: {'is-loading' : loading}\"},\"className\":\"is-medium button is-primary\",\"style\":{}},\"nodeType\":\"DOM\",\"type\":\"node\",\"instanceArgs\":{\"namespace\":\"html\",\"tag\":\"button\"},\"children\":[\"run\"]}]}]},{\"props\":{\"className\":\"interact-widget\"},\"nodeType\":\"DOM\",\"type\":\"node\",\"instanceArgs\":{\"namespace\":\"html\",\"tag\":\"div\"},\"children\":[{\"props\":{},\"nodeType\":\"Scope\",\"type\":\"node\",\"instanceArgs\":{\"imports\":{\"data\":[{\"name\":null,\"type\":\"js\",\"url\":\"\\/assetserver\\/dd22ed1bf1896c2748f3fe616ce0b838adc895c1-katex.min.js\"},{\"name\":null,\"type\":\"css\",\"url\":\"\\/assetserver\\/46517a424aa5e6cffc1360d7e0848b601c584ee3-katex.min.css\"}],\"type\":\"async_block\"},\"id\":\"6183524942620423091\",\"handlers\":{\"value\":[\"(function (txt){return this.k.render(txt,this.container)})\"]},\"systemjs_options\":null,\"mount_callbacks\":[\"function () {\\n    var handler = ((function (k){this.k=k; this.container=this.dom.querySelector(\\\"#container\\\"); return k.render(\\\"\\\\\\\\;\\\\\\\\;\\\",this.container)}));\\n    (WebIO.importBlock({\\\"data\\\":[{\\\"name\\\":null,\\\"type\\\":\\\"js\\\",\\\"url\\\":\\\"\\/assetserver\\/dd22ed1bf1896c2748f3fe616ce0b838adc895c1-katex.min.js\\\"},{\\\"name\\\":null,\\\"type\\\":\\\"css\\\",\\\"url\\\":\\\"\\/assetserver\\/46517a424aa5e6cffc1360d7e0848b601c584ee3-katex.min.css\\\"}],\\\"type\\\":\\\"async_block\\\"})).then((imports) => handler.apply(this, imports));\\n}\\n\"],\"observables\":{\"value\":{\"sync\":false,\"id\":\"3605702571801390892\",\"value\":\"\\\\;\\\\;\"}}},\"children\":[{\"props\":{\"id\":\"container\"},\"nodeType\":\"DOM\",\"type\":\"node\",\"instanceArgs\":{\"namespace\":\"html\",\"tag\":\"div\"},\"children\":[]}]}]},{\"props\":{\"className\":\"field interact-widget\"},\"nodeType\":\"DOM\",\"type\":\"node\",\"instanceArgs\":{\"namespace\":\"html\",\"tag\":\"div\"},\"children\":[{\"props\":{},\"nodeType\":\"Scope\",\"type\":\"node\",\"instanceArgs\":{\"imports\":{\"data\":[{\"name\":\"knockout\",\"type\":\"js\",\"url\":\"\\/assetserver\\/727383f2a47bd31570b7da84eee7b022dd6d7c78-knockout.js\"},{\"name\":\"knockout_punches\",\"type\":\"js\",\"url\":\"\\/assetserver\\/382b41b3b1bd9f26f75861d360bad7f8beea211f-knockout_punches.js\"},{\"name\":null,\"type\":\"js\",\"url\":\"\\/assetserver\\/5ab20f1060420992a9b82a65b735dee4d81ef413-all.js\"},{\"name\":null,\"type\":\"css\",\"url\":\"\\/assetserver\\/1cc0ed62837210b80a182cc3676512f895dab686-style.css\"},{\"name\":null,\"type\":\"css\",\"url\":\"\\/assetserver\\/2eee816f616df3549d7044d45e744fbf8d42bfa1-bulma_confined.min.css\"}],\"type\":\"async_block\"},\"id\":\"9636280036273835554\",\"handlers\":{\"loading\":[\"(function (val){return (val!=this.model[\\\"loading\\\"]()) ? (this.valueFromJulia[\\\"loading\\\"]=true, this.model[\\\"loading\\\"](val)) : undefined})\"],\"clicks\":[\"(function (val){return (val!=this.model[\\\"clicks\\\"]()) ? (this.valueFromJulia[\\\"clicks\\\"]=true, this.model[\\\"clicks\\\"](val)) : undefined})\"]},\"systemjs_options\":null,\"mount_callbacks\":[\"function () {\\n    var handler = (function (ko, koPunches) {\\n    ko.punches.enableAll();\\n    ko.bindingHandlers.numericValue = {\\n        init: function(element, valueAccessor, allBindings, data, context) {\\n            var stringified = ko.observable(ko.unwrap(valueAccessor()));\\n            stringified.subscribe(function(value) {\\n                var val = parseFloat(value);\\n                if (!isNaN(val)) {\\n                    valueAccessor()(val);\\n                }\\n            });\\n            valueAccessor().subscribe(function(value) {\\n                var str = JSON.stringify(value);\\n                if ((str == \\\"0\\\") && ([\\\"-0\\\", \\\"-0.\\\"].indexOf(stringified()) >= 0))\\n                     return;\\n                 if ([\\\"null\\\", \\\"\\\"].indexOf(str) >= 0)\\n                     return;\\n                stringified(str);\\n            });\\n            ko.applyBindingsToNode(\\n                element,\\n                {\\n                    value: stringified,\\n                    valueUpdate: allBindings.get('valueUpdate'),\\n                },\\n                context,\\n            );\\n        }\\n    };\\n    var json_data = {\\\"loading\\\":WebIO.getval({\\\"name\\\":\\\"loading\\\",\\\"scope\\\":\\\"9636280036273835554\\\",\\\"id\\\":\\\"3150235791935719209\\\",\\\"type\\\":\\\"observable\\\"}),\\\"clicks\\\":WebIO.getval({\\\"name\\\":\\\"clicks\\\",\\\"scope\\\":\\\"9636280036273835554\\\",\\\"id\\\":\\\"11655019046843114248\\\",\\\"type\\\":\\\"observable\\\"})};\\n    var self = this;\\n    function AppViewModel() {\\n        for (var key in json_data) {\\n            var el = json_data[key];\\n            this[key] = Array.isArray(el) ? ko.observableArray(el) : ko.observable(el);\\n        }\\n        \\n        \\n        [this[\\\"loading\\\"].subscribe((function (val){!(this.valueFromJulia[\\\"loading\\\"]) ? (WebIO.setval({\\\"name\\\":\\\"loading\\\",\\\"scope\\\":\\\"9636280036273835554\\\",\\\"id\\\":\\\"3150235791935719209\\\",\\\"type\\\":\\\"observable\\\"},val)) : undefined; return this.valueFromJulia[\\\"loading\\\"]=false}),self),this[\\\"clicks\\\"].subscribe((function (val){!(this.valueFromJulia[\\\"clicks\\\"]) ? (WebIO.setval({\\\"name\\\":\\\"clicks\\\",\\\"scope\\\":\\\"9636280036273835554\\\",\\\"id\\\":\\\"11655019046843114248\\\",\\\"type\\\":\\\"observable\\\"},val)) : undefined; return this.valueFromJulia[\\\"clicks\\\"]=false}),self)]\\n        \\n    }\\n    self.model = new AppViewModel();\\n    self.valueFromJulia = {};\\n    for (var key in json_data) {\\n        self.valueFromJulia[key] = false;\\n    }\\n    ko.applyBindings(self.model, self.dom);\\n}\\n);\\n    (WebIO.importBlock({\\\"data\\\":[{\\\"name\\\":\\\"knockout\\\",\\\"type\\\":\\\"js\\\",\\\"url\\\":\\\"\\/assetserver\\/727383f2a47bd31570b7da84eee7b022dd6d7c78-knockout.js\\\"},{\\\"name\\\":\\\"knockout_punches\\\",\\\"type\\\":\\\"js\\\",\\\"url\\\":\\\"\\/assetserver\\/382b41b3b1bd9f26f75861d360bad7f8beea211f-knockout_punches.js\\\"}],\\\"type\\\":\\\"async_block\\\"})).then((imports) => handler.apply(this, imports));\\n}\\n\"],\"observables\":{\"loading\":{\"sync\":false,\"id\":\"3150235791935719209\",\"value\":false},\"clicks\":{\"sync\":true,\"id\":\"11655019046843114248\",\"value\":0}}},\"children\":[{\"props\":{\"attributes\":{\"data-bind\":\"click: function (){this.clicks(this.clicks()+1)}, css: {'is-loading' : loading}\"},\"className\":\"is-medium button is-primary\",\"style\":{}},\"nodeType\":\"DOM\",\"type\":\"node\",\"instanceArgs\":{\"namespace\":\"html\",\"tag\":\"button\"},\"children\":[\"stop\"]}]}]},{\"props\":{\"className\":\"interact-widget\"},\"nodeType\":\"DOM\",\"type\":\"node\",\"instanceArgs\":{\"namespace\":\"html\",\"tag\":\"div\"},\"children\":[{\"props\":{},\"nodeType\":\"Scope\",\"type\":\"node\",\"instanceArgs\":{\"imports\":{\"data\":[{\"name\":null,\"type\":\"js\",\"url\":\"\\/assetserver\\/dd22ed1bf1896c2748f3fe616ce0b838adc895c1-katex.min.js\"},{\"name\":null,\"type\":\"css\",\"url\":\"\\/assetserver\\/46517a424aa5e6cffc1360d7e0848b601c584ee3-katex.min.css\"}],\"type\":\"async_block\"},\"id\":\"6183524942620423091\",\"handlers\":{\"value\":[\"(function (txt){return this.k.render(txt,this.container)})\"]},\"systemjs_options\":null,\"mount_callbacks\":[\"function () {\\n    var handler = ((function (k){this.k=k; this.container=this.dom.querySelector(\\\"#container\\\"); return k.render(\\\"\\\\\\\\;\\\\\\\\;\\\",this.container)}));\\n    (WebIO.importBlock({\\\"data\\\":[{\\\"name\\\":null,\\\"type\\\":\\\"js\\\",\\\"url\\\":\\\"\\/assetserver\\/dd22ed1bf1896c2748f3fe616ce0b838adc895c1-katex.min.js\\\"},{\\\"name\\\":null,\\\"type\\\":\\\"css\\\",\\\"url\\\":\\\"\\/assetserver\\/46517a424aa5e6cffc1360d7e0848b601c584ee3-katex.min.css\\\"}],\\\"type\\\":\\\"async_block\\\"})).then((imports) => handler.apply(this, imports));\\n}\\n\"],\"observables\":{\"value\":{\"sync\":false,\"id\":\"3605702571801390892\",\"value\":\"\\\\;\\\\;\"}}},\"children\":[{\"props\":{\"id\":\"container\"},\"nodeType\":\"DOM\",\"type\":\"node\",\"instanceArgs\":{\"namespace\":\"html\",\"tag\":\"div\"},\"children\":[]}]}]},{\"props\":{\"className\":\"field interact-widget\"},\"nodeType\":\"DOM\",\"type\":\"node\",\"instanceArgs\":{\"namespace\":\"html\",\"tag\":\"div\"},\"children\":[{\"props\":{},\"nodeType\":\"Scope\",\"type\":\"node\",\"instanceArgs\":{\"imports\":{\"data\":[{\"name\":\"knockout\",\"type\":\"js\",\"url\":\"\\/assetserver\\/727383f2a47bd31570b7da84eee7b022dd6d7c78-knockout.js\"},{\"name\":\"knockout_punches\",\"type\":\"js\",\"url\":\"\\/assetserver\\/382b41b3b1bd9f26f75861d360bad7f8beea211f-knockout_punches.js\"},{\"name\":null,\"type\":\"js\",\"url\":\"\\/assetserver\\/5ab20f1060420992a9b82a65b735dee4d81ef413-all.js\"},{\"name\":null,\"type\":\"css\",\"url\":\"\\/assetserver\\/1cc0ed62837210b80a182cc3676512f895dab686-style.css\"},{\"name\":null,\"type\":\"css\",\"url\":\"\\/assetserver\\/2eee816f616df3549d7044d45e744fbf8d42bfa1-bulma_confined.min.css\"}],\"type\":\"async_block\"},\"id\":\"10491644336553845711\",\"handlers\":{\"loading\":[\"(function (val){return (val!=this.model[\\\"loading\\\"]()) ? (this.valueFromJulia[\\\"loading\\\"]=true, this.model[\\\"loading\\\"](val)) : undefined})\"],\"clicks\":[\"(function (val){return (val!=this.model[\\\"clicks\\\"]()) ? (this.valueFromJulia[\\\"clicks\\\"]=true, this.model[\\\"clicks\\\"](val)) : undefined})\"]},\"systemjs_options\":null,\"mount_callbacks\":[\"function () {\\n    var handler = (function (ko, koPunches) {\\n    ko.punches.enableAll();\\n    ko.bindingHandlers.numericValue = {\\n        init: function(element, valueAccessor, allBindings, data, context) {\\n            var stringified = ko.observable(ko.unwrap(valueAccessor()));\\n            stringified.subscribe(function(value) {\\n                var val = parseFloat(value);\\n                if (!isNaN(val)) {\\n                    valueAccessor()(val);\\n                }\\n            });\\n            valueAccessor().subscribe(function(value) {\\n                var str = JSON.stringify(value);\\n                if ((str == \\\"0\\\") && ([\\\"-0\\\", \\\"-0.\\\"].indexOf(stringified()) >= 0))\\n                     return;\\n                 if ([\\\"null\\\", \\\"\\\"].indexOf(str) >= 0)\\n                     return;\\n                stringified(str);\\n            });\\n            ko.applyBindingsToNode(\\n                element,\\n                {\\n                    value: stringified,\\n                    valueUpdate: allBindings.get('valueUpdate'),\\n                },\\n                context,\\n            );\\n        }\\n    };\\n    var json_data = {\\\"loading\\\":WebIO.getval({\\\"name\\\":\\\"loading\\\",\\\"scope\\\":\\\"10491644336553845711\\\",\\\"id\\\":\\\"16644443354811419671\\\",\\\"type\\\":\\\"observable\\\"}),\\\"clicks\\\":WebIO.getval({\\\"name\\\":\\\"clicks\\\",\\\"scope\\\":\\\"10491644336553845711\\\",\\\"id\\\":\\\"7326456125944862255\\\",\\\"type\\\":\\\"observable\\\"})};\\n    var self = this;\\n    function AppViewModel() {\\n        for (var key in json_data) {\\n            var el = json_data[key];\\n            this[key] = Array.isArray(el) ? ko.observableArray(el) : ko.observable(el);\\n        }\\n        \\n        \\n        [this[\\\"loading\\\"].subscribe((function (val){!(this.valueFromJulia[\\\"loading\\\"]) ? (WebIO.setval({\\\"name\\\":\\\"loading\\\",\\\"scope\\\":\\\"10491644336553845711\\\",\\\"id\\\":\\\"16644443354811419671\\\",\\\"type\\\":\\\"observable\\\"},val)) : undefined; return this.valueFromJulia[\\\"loading\\\"]=false}),self),this[\\\"clicks\\\"].subscribe((function (val){!(this.valueFromJulia[\\\"clicks\\\"]) ? (WebIO.setval({\\\"name\\\":\\\"clicks\\\",\\\"scope\\\":\\\"10491644336553845711\\\",\\\"id\\\":\\\"7326456125944862255\\\",\\\"type\\\":\\\"observable\\\"},val)) : undefined; return this.valueFromJulia[\\\"clicks\\\"]=false}),self)]\\n        \\n    }\\n    self.model = new AppViewModel();\\n    self.valueFromJulia = {};\\n    for (var key in json_data) {\\n        self.valueFromJulia[key] = false;\\n    }\\n    ko.applyBindings(self.model, self.dom);\\n}\\n);\\n    (WebIO.importBlock({\\\"data\\\":[{\\\"name\\\":\\\"knockout\\\",\\\"type\\\":\\\"js\\\",\\\"url\\\":\\\"\\/assetserver\\/727383f2a47bd31570b7da84eee7b022dd6d7c78-knockout.js\\\"},{\\\"name\\\":\\\"knockout_punches\\\",\\\"type\\\":\\\"js\\\",\\\"url\\\":\\\"\\/assetserver\\/382b41b3b1bd9f26f75861d360bad7f8beea211f-knockout_punches.js\\\"}],\\\"type\\\":\\\"async_block\\\"})).then((imports) => handler.apply(this, imports));\\n}\\n\"],\"observables\":{\"loading\":{\"sync\":false,\"id\":\"16644443354811419671\",\"value\":false},\"clicks\":{\"sync\":true,\"id\":\"7326456125944862255\",\"value\":0}}},\"children\":[{\"props\":{\"attributes\":{\"data-bind\":\"click: function (){this.clicks(this.clicks()+1)}, css: {'is-loading' : loading}\"},\"className\":\"is-medium button is-primary\",\"style\":{}},\"nodeType\":\"DOM\",\"type\":\"node\",\"instanceArgs\":{\"namespace\":\"html\",\"tag\":\"button\"},\"children\":[\"save\"]}]}]}]}]},{\"props\":{\"className\":\"interact-widget\"},\"nodeType\":\"DOM\",\"type\":\"node\",\"instanceArgs\":{\"namespace\":\"html\",\"tag\":\"div\"},\"children\":[{\"props\":{},\"nodeType\":\"Scope\",\"type\":\"node\",\"instanceArgs\":{\"imports\":{\"data\":[{\"name\":null,\"type\":\"js\",\"url\":\"\\/assetserver\\/dd22ed1bf1896c2748f3fe616ce0b838adc895c1-katex.min.js\"},{\"name\":null,\"type\":\"css\",\"url\":\"\\/assetserver\\/46517a424aa5e6cffc1360d7e0848b601c584ee3-katex.min.css\"}],\"type\":\"async_block\"},\"id\":\"6183524942620423091\",\"handlers\":{\"value\":[\"(function (txt){return this.k.render(txt,this.container)})\"]},\"systemjs_options\":null,\"mount_callbacks\":[\"function () {\\n    var handler = ((function (k){this.k=k; this.container=this.dom.querySelector(\\\"#container\\\"); return k.render(\\\"\\\\\\\\;\\\\\\\\;\\\",this.container)}));\\n    (WebIO.importBlock({\\\"data\\\":[{\\\"name\\\":null,\\\"type\\\":\\\"js\\\",\\\"url\\\":\\\"\\/assetserver\\/dd22ed1bf1896c2748f3fe616ce0b838adc895c1-katex.min.js\\\"},{\\\"name\\\":null,\\\"type\\\":\\\"css\\\",\\\"url\\\":\\\"\\/assetserver\\/46517a424aa5e6cffc1360d7e0848b601c584ee3-katex.min.css\\\"}],\\\"type\\\":\\\"async_block\\\"})).then((imports) => handler.apply(this, imports));\\n}\\n\"],\"observables\":{\"value\":{\"sync\":false,\"id\":\"3605702571801390892\",\"value\":\"\\\\;\\\\;\"}}},\"children\":[{\"props\":{\"id\":\"container\"},\"nodeType\":\"DOM\",\"type\":\"node\",\"instanceArgs\":{\"namespace\":\"html\",\"tag\":\"div\"},\"children\":[]}]}]},{\"props\":{},\"nodeType\":\"Scope\",\"type\":\"node\",\"instanceArgs\":{\"imports\":{\"data\":[],\"type\":\"async_block\"},\"id\":\"18382889885430433208\",\"handlers\":{\"obs-output\":[\"function (value, scope) {\\n    scope.setInnerHTML(value);\\n}\\n\"]},\"systemjs_options\":null,\"mount_callbacks\":[],\"observables\":{\"obs-output\":{\"sync\":false,\"id\":\"11640418009038995193\",\"value\":\"<img src='data:image\\/png;base64,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'><\\/img>\"}}},\"children\":[{\"props\":{\"className\":\"webio-observable\",\"setInnerHtml\":\"<img src='data:image\\/png;base64,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'><\\/img>\"},\"nodeType\":\"DOM\",\"type\":\"node\",\"instanceArgs\":{\"namespace\":\"html\",\"tag\":\"div\"},\"children\":[]}]},{\"props\":{\"className\":\"interact-widget\"},\"nodeType\":\"DOM\",\"type\":\"node\",\"instanceArgs\":{\"namespace\":\"html\",\"tag\":\"div\"},\"children\":[{\"props\":{},\"nodeType\":\"Scope\",\"type\":\"node\",\"instanceArgs\":{\"imports\":{\"data\":[{\"name\":null,\"type\":\"js\",\"url\":\"\\/assetserver\\/dd22ed1bf1896c2748f3fe616ce0b838adc895c1-katex.min.js\"},{\"name\":null,\"type\":\"css\",\"url\":\"\\/assetserver\\/46517a424aa5e6cffc1360d7e0848b601c584ee3-katex.min.css\"}],\"type\":\"async_block\"},\"id\":\"6183524942620423091\",\"handlers\":{\"value\":[\"(function (txt){return this.k.render(txt,this.container)})\"]},\"systemjs_options\":null,\"mount_callbacks\":[\"function () {\\n    var handler = ((function (k){this.k=k; this.container=this.dom.querySelector(\\\"#container\\\"); return k.render(\\\"\\\\\\\\;\\\\\\\\;\\\",this.container)}));\\n    (WebIO.importBlock({\\\"data\\\":[{\\\"name\\\":null,\\\"type\\\":\\\"js\\\",\\\"url\\\":\\\"\\/assetserver\\/dd22ed1bf1896c2748f3fe616ce0b838adc895c1-katex.min.js\\\"},{\\\"name\\\":null,\\\"type\\\":\\\"css\\\",\\\"url\\\":\\\"\\/assetserver\\/46517a424aa5e6cffc1360d7e0848b601c584ee3-katex.min.css\\\"}],\\\"type\\\":\\\"async_block\\\"})).then((imports) => handler.apply(this, imports));\\n}\\n\"],\"observables\":{\"value\":{\"sync\":false,\"id\":\"3605702571801390892\",\"value\":\"\\\\;\\\\;\"}}},\"children\":[{\"props\":{\"id\":\"container\"},\"nodeType\":\"DOM\",\"type\":\"node\",\"instanceArgs\":{\"namespace\":\"html\",\"tag\":\"div\"},\"children\":[]}]}]},{\"props\":{\"style\":{\"display\":\"flex\",\"flex-direction\":\"column\"}},\"nodeType\":\"DOM\",\"type\":\"node\",\"instanceArgs\":{\"namespace\":\"html\",\"tag\":\"div\"},\"children\":[]}]}]},\n",
       "        window,\n",
       "    );\n",
       "    })()\n",
       "    </script>\n",
       "</div>\n"
      ],
      "text/plain": [
       "WebIO.Node{WebIO.DOM}(WebIO.DOM(:html, :div), Any[WebIO.Node{WebIO.DOM}(WebIO.DOM(:html, :div), Any[WebIO.Node{WebIO.DOM}(WebIO.DOM(:html, :div), Any[WebIO.Node{WebIO.DOM}(WebIO.DOM(:html, :div), Any[WebIO.Scope(WebIO.Node{WebIO.DOM}(WebIO.DOM(:html, :div), Any[WebIO.Node{WebIO.DOM}(WebIO.DOM(:html, :div), Any[WebIO.Node{WebIO.DOM}(WebIO.DOM(:html, :label), Any[\"time\"], Dict{Symbol, Any}(:className => \"interact \", :style => Dict{Any, Any}(:padding => \"5px 10px 0px 10px\")))], Dict{Symbol, Any}(:className => \"interact-flex-row-left\")), WebIO.Node{WebIO.DOM}(WebIO.DOM(:html, :div), Any[WebIO.Node{WebIO.DOM}(WebIO.DOM(:html, :input), Any[], Dict{Symbol, Any}(:max => 201, :min => 1, :attributes => Dict{Any, Any}(:type => \"range\", Symbol(\"data-bind\") => \"numericValue: index, valueUpdate: 'input', event: {change: function (){this.changes(this.changes()+1)}}\", \"orient\" => \"horizontal\"), :step => 1, :className => \"slider slider is-fullwidth\", :style => Dict{Any, Any}()))], Dict{Symbol, Any}(:className => \"interact-flex-row-center\")), WebIO.Node{WebIO.DOM}(WebIO.DOM(:html, :div), Any[WebIO.Node{WebIO.DOM}(WebIO.DOM(:html, :p), Any[], Dict{Symbol, Any}(:attributes => Dict(\"data-bind\" => \"text: formatted_val\")))], Dict{Symbol, Any}(:className => \"interact-flex-row-right\"))], Dict{Symbol, Any}(:className => \"interact-flex-row interact-widget\")), Dict{String, Tuple{Observables.AbstractObservable, Union{Nothing, Bool}}}(\"changes\" => (Observable(0), nothing), \"index\" => (Observable(101), nothing)), Set{String}(), nothing, WebIO.Asset[WebIO.Asset(\"js\", \"knockout\", \"/home/dushya/.julia/packages/Knockout/HReiN/src/../assets/knockout.js\"), WebIO.Asset(\"js\", \"knockout_punches\", \"/home/dushya/.julia/packages/Knockout/HReiN/src/../assets/knockout_punches.js\"), WebIO.Asset(\"js\", nothing, \"/home/dushya/.julia/packages/InteractBase/LJXv3/src/../assets/all.js\"), WebIO.Asset(\"css\", nothing, \"/home/dushya/.julia/packages/InteractBase/LJXv3/src/../assets/style.css\"), WebIO.Asset(\"css\", nothing, \"/home/dushya/.julia/packages/Interact/PENUy/src/../assets/bulma_confined.min.css\")], Dict{Any, Any}(\"changes\" => Any[WebIO.JSString(\"(function (val){return (val!=this.model[\\\"changes\\\"]()) ? (this.valueFromJulia[\\\"changes\\\"]=true, this.model[\\\"changes\\\"](val)) : undefined})\")], \"index\" => Any[WebIO.JSString(\"(function (val){return (val!=this.model[\\\"index\\\"]()) ? (this.valueFromJulia[\\\"index\\\"]=true, this.model[\\\"index\\\"](val)) : undefined})\")]), WebIO.ConnectionPool(Channel{Any}(32), Set{WebIO.AbstractConnection}(), Base.GenericCondition{ReentrantLock}(Base.IntrusiveLinkedList{Task}(Task (runnable) @0x00007f41146ddf50, Task (runnable) @0x00007f41146ddf50), ReentrantLock(nothing, 0x00000000, 0x00, Base.GenericCondition{Base.Threads.SpinLock}(Base.IntrusiveLinkedList{Task}(nothing, nothing), Base.Threads.SpinLock(0)), (1, 139918364922272, 0)))), WebIO.JSString[WebIO.JSString(\"function () {\\n    var handler = (function (ko, koPunches) {\\n    ko.punches.enableAll();\\n    ko.bindingHandlers.numericValue = {\\n        init: function(element, valueAccessor, allBindings, data, context) {\\n            var stringified = ko.observable(ko.unwrap(valueAccessor()));\\n            stringified.subscribe(function(value) {\\n                var val = parseFloat(value);\\n                if (!isNaN(val)) {\\n                    valueAccessor()(val);\\n                }\\n            });\\n            valueAccessor().subscribe(function(value) {\\n                var str = JSON.stringify(value);\\n                if ((str == \\\"0\\\") && ([\\\"-0\\\", \\\"-0.\\\"].indexOf(stringified()) >= 0))\\n                     return;\\n                 if ([\\\"null\\\", \\\"\\\"].indexOf(str) >= 0)\\n                     return;\\n                stringified(str);\\n            });\\n            ko.applyBindingsToNode(\\n                element,\\n                {\\n                    value: stringified,\\n                    valueUpdate: allBindings.get('valueUpdate'),\\n                },\\n                context,\\n            );\\n        }\\n    };\\n    var json_data = {\\\"formatted_vals\\\":[\\\"1\\\",\\\"2\\\",\\\"3\\\",\\\"4\\\",\\\"5\\\",\\\"6\\\",\\\"7\\\",\\\"8\\\",\\\"9\\\",\\\"10\\\",\\\"11\\\",\\\"12\\\",\\\"13\\\",\\\"14\\\",\\\"15\\\",\\\"16\\\",\\\"17\\\",\\\"18\\\",\\\"19\\\",\\\"20\\\",\\\"21\\\",\\\"22\\\",\\\"23\\\",\\\"24\\\",\\\"25\\\",\\\"26\\\",\\\"27\\\",\\\"28\\\",\\\"29\\\",\\\"30\\\",\\\"31\\\",\\\"32\\\",\\\"33\\\",\\\"34\\\",\\\"35\\\",\\\"36\\\",\\\"37\\\",\\\"38\\\",\\\"39\\\",\\\"40\\\",\\\"41\\\",\\\"42\\\",\\\"43\\\",\\\"44\\\",\\\"45\\\",\\\"46\\\",\\\"47\\\",\\\"48\\\",\\\"49\\\",\\\"50\\\",\\\"51\\\",\\\"52\\\",\\\"53\\\",\\\"54\\\",\\\"55\\\",\\\"56\\\",\\\"57\\\",\\\"58\\\",\\\"59\\\",\\\"60\\\",\\\"61\\\",\\\"62\\\",\\\"63\\\",\\\"64\\\",\\\"65\\\",\\\"66\\\",\\\"67\\\",\\\"68\\\",\\\"69\\\",\\\"70\\\",\\\"71\\\",\\\"72\\\",\\\"73\\\",\\\"74\\\",\\\"75\\\",\\\"76\\\",\\\"77\\\",\\\"78\\\",\\\"79\\\",\\\"80\\\",\\\"81\\\",\\\"82\\\",\\\"83\\\",\\\"84\\\",\\\"85\\\",\\\"86\\\",\\\"87\\\",\\\"88\\\",\\\"89\\\",\\\"90\\\",\\\"91\\\",\\\"92\\\",\\\"93\\\",\\\"94\\\",\\\"95\\\",\\\"96\\\",\\\"97\\\",\\\"98\\\",\\\"99\\\",\\\"100\\\",\\\"101\\\",\\\"102\\\",\\\"103\\\",\\\"104\\\",\\\"105\\\",\\\"106\\\",\\\"107\\\",\\\"108\\\",\\\"109\\\",\\\"110\\\",\\\"111\\\",\\\"112\\\",\\\"113\\\",\\\"114\\\",\\\"115\\\",\\\"116\\\",\\\"117\\\",\\\"118\\\",\\\"119\\\",\\\"120\\\",\\\"121\\\",\\\"122\\\",\\\"123\\\",\\\"124\\\",\\\"125\\\",\\\"126\\\",\\\"127\\\",\\\"128\\\",\\\"129\\\",\\\"130\\\",\\\"131\\\",\\\"132\\\",\\\"133\\\",\\\"134\\\",\\\"135\\\",\\\"136\\\",\\\"137\\\",\\\"138\\\",\\\"139\\\",\\\"140\\\",\\\"141\\\",\\\"142\\\",\\\"143\\\",\\\"144\\\",\\\"145\\\",\\\"146\\\",\\\"147\\\",\\\"148\\\",\\\"149\\\",\\\"150\\\",\\\"151\\\",\\\"152\\\",\\\"153\\\",\\\"154\\\",\\\"155\\\",\\\"156\\\",\\\"157\\\",\\\"158\\\",\\\"159\\\",\\\"160\\\",\\\"161\\\",\\\"162\\\",\\\"163\\\",\\\"164\\\",\\\"165\\\",\\\"166\\\",\\\"167\\\",\\\"168\\\",\\\"169\\\",\\\"170\\\",\\\"171\\\",\\\"172\\\",\\\"173\\\",\\\"174\\\",\\\"175\\\",\\\"176\\\",\\\"177\\\",\\\"178\\\",\\\"179\\\",\\\"180\\\",\\\"181\\\",\\\"182\\\",\\\"183\\\",\\\"184\\\",\\\"185\\\",\\\"186\\\",\\\"187\\\",\\\"188\\\",\\\"189\\\",\\\"190\\\",\\\"191\\\",\\\"192\\\",\\\"193\\\",\\\"194\\\",\\\"195\\\",\\\"196\\\",\\\"197\\\",\\\"198\\\",\\\"199\\\",\\\"200\\\",\\\"201\\\"],\\\"changes\\\":WebIO.getval({\\\"name\\\":\\\"changes\\\",\\\"scope\\\":\\\"813324883923220585\\\",\\\"id\\\":\\\"12045950911232964837\\\",\\\"type\\\":\\\"observable\\\"}),\\\"index\\\":WebIO.getval({\\\"name\\\":\\\"index\\\",\\\"scope\\\":\\\"813324883923220585\\\",\\\"id\\\":\\\"15481014654652453677\\\",\\\"type\\\":\\\"observable\\\"})};\\n    var self = this;\\n    function AppViewModel() {\\n        for (var key in json_data) {\\n            var el = json_data[key];\\n            this[key] = Array.isArray(el) ? ko.observableArray(el) : ko.observable(el);\\n        }\\n        \\n        [this[\\\"formatted_val\\\"]=ko.computed(    function(){\\n        return this.formatted_vals()[parseInt(this.index())-(1)];\\n    }\\n,this)]\\n        [this[\\\"changes\\\"].subscribe((function (val){!(this.valueFromJulia[\\\"changes\\\"]) ? (WebIO.setval({\\\"name\\\":\\\"changes\\\",\\\"scope\\\":\\\"813324883923220585\\\",\\\"id\\\":\\\"12045950911232964837\\\",\\\"type\\\":\\\"observable\\\"},val)) : undefined; return this.valueFromJulia[\\\"changes\\\"]=false}),self),this[\\\"index\\\"].subscribe((function (val){!(this.valueFromJulia[\\\"index\\\"]) ? (WebIO.setval({\\\"name\\\":\\\"index\\\",\\\"scope\\\":\\\"813324883923220585\\\",\\\"id\\\":\\\"15481014654652453677\\\",\\\"type\\\":\\\"observable\\\"},val)) : undefined; return this.valueFromJulia[\\\"index\\\"]=false}),self)]\\n        \\n    }\\n    self.model = new AppViewModel();\\n    self.valueFromJulia = {};\\n    for (var key in json_data) {\\n        self.valueFromJulia[key] = false;\\n    }\\n    ko.applyBindings(self.model, self.dom);\\n}\\n);\\n    (WebIO.importBlock({\\\"data\\\":[{\\\"name\\\":\\\"knockout\\\",\\\"type\\\":\\\"js\\\",\\\"url\\\":\\\"/assetserver/727383f2a47bd31570b7da84eee7b022dd6d7c78-knockout.js\\\"},{\\\"name\\\":\\\"knockout_punches\\\",\\\"type\\\":\\\"js\\\",\\\"url\\\":\\\"/assetserver/382b41b3b1bd9f26f75861d360bad7f8beea211f-knockout_punches.js\\\"}],\\\"type\\\":\\\"async_block\\\"})).then((imports) => handler.apply(this, imports));\\n}\\n\")])], Dict{Symbol, Any}(:className => \"field interact-widget\")), WebIO.Node{WebIO.DOM}(WebIO.DOM(:html, :div), Any[WebIO.Scope(WebIO.Node{WebIO.DOM}(WebIO.DOM(:html, :div), Any[WebIO.Node{WebIO.DOM}(WebIO.DOM(:html, :div), Any[WebIO.Node{WebIO.DOM}(WebIO.DOM(:html, :label), Any[\"scale\"], Dict{Symbol, Any}(:className => \"interact \", :style => Dict{Any, Any}(:padding => \"5px 10px 0px 10px\")))], Dict{Symbol, Any}(:className => \"interact-flex-row-left\")), WebIO.Node{WebIO.DOM}(WebIO.DOM(:html, :div), Any[WebIO.Node{WebIO.DOM}(WebIO.DOM(:html, :input), Any[], Dict{Symbol, Any}(:max => 20, :min => 1, :attributes => Dict{Any, Any}(:type => \"range\", Symbol(\"data-bind\") => \"numericValue: index, valueUpdate: 'input', event: {change: function (){this.changes(this.changes()+1)}}\", \"orient\" => \"horizontal\"), :step => 1, :className => \"slider slider is-fullwidth\", :style => Dict{Any, Any}()))], Dict{Symbol, Any}(:className => \"interact-flex-row-center\")), WebIO.Node{WebIO.DOM}(WebIO.DOM(:html, :div), Any[WebIO.Node{WebIO.DOM}(WebIO.DOM(:html, :p), Any[], Dict{Symbol, Any}(:attributes => Dict(\"data-bind\" => \"text: formatted_val\")))], Dict{Symbol, Any}(:className => \"interact-flex-row-right\"))], Dict{Symbol, Any}(:className => \"interact-flex-row interact-widget\")), Dict{String, Tuple{Observables.AbstractObservable, Union{Nothing, Bool}}}(\"changes\" => (Observable(0), nothing), \"index\" => (Observable{Any}(10), nothing)), Set{String}(), nothing, WebIO.Asset[WebIO.Asset(\"js\", \"knockout\", \"/home/dushya/.julia/packages/Knockout/HReiN/src/../assets/knockout.js\"), WebIO.Asset(\"js\", \"knockout_punches\", \"/home/dushya/.julia/packages/Knockout/HReiN/src/../assets/knockout_punches.js\"), WebIO.Asset(\"js\", nothing, \"/home/dushya/.julia/packages/InteractBase/LJXv3/src/../assets/all.js\"), WebIO.Asset(\"css\", nothing, \"/home/dushya/.julia/packages/InteractBase/LJXv3/src/../assets/style.css\"), WebIO.Asset(\"css\", nothing, \"/home/dushya/.julia/packages/Interact/PENUy/src/../assets/bulma_confined.min.css\")], Dict{Any, Any}(\"changes\" => Any[WebIO.JSString(\"(function (val){return (val!=this.model[\\\"changes\\\"]()) ? (this.valueFromJulia[\\\"changes\\\"]=true, this.model[\\\"changes\\\"](val)) : undefined})\")], \"index\" => Any[WebIO.JSString(\"(function (val){return (val!=this.model[\\\"index\\\"]()) ? (this.valueFromJulia[\\\"index\\\"]=true, this.model[\\\"index\\\"](val)) : undefined})\")]), WebIO.ConnectionPool(Channel{Any}(32), Set{WebIO.AbstractConnection}(), Base.GenericCondition{ReentrantLock}(Base.IntrusiveLinkedList{Task}(Task (runnable) @0x00007f4153ec84c0, Task (runnable) @0x00007f4153ec84c0), ReentrantLock(nothing, 0x00000000, 0x00, Base.GenericCondition{Base.Threads.SpinLock}(Base.IntrusiveLinkedList{Task}(nothing, nothing), Base.Threads.SpinLock(0)), (8, 139917492435200, 139917492435552)))), WebIO.JSString[WebIO.JSString(\"function () {\\n    var handler = (function (ko, koPunches) {\\n    ko.punches.enableAll();\\n    ko.bindingHandlers.numericValue = {\\n        init: function(element, valueAccessor, allBindings, data, context) {\\n            var stringified = ko.observable(ko.unwrap(valueAccessor()));\\n            stringified.subscribe(function(value) {\\n                var val = parseFloat(value);\\n                if (!isNaN(val)) {\\n                    valueAccessor()(val);\\n                }\\n            });\\n            valueAccessor().subscribe(function(value) {\\n                var str = JSON.stringify(value);\\n                if ((str == \\\"0\\\") && ([\\\"-0\\\", \\\"-0.\\\"].indexOf(stringified()) >= 0))\\n                     return;\\n                 if ([\\\"null\\\", \\\"\\\"].indexOf(str) >= 0)\\n                     return;\\n                stringified(str);\\n            });\\n            ko.applyBindingsToNode(\\n                element,\\n                {\\n                    value: stringified,\\n                    valueUpdate: allBindings.get('valueUpdate'),\\n                },\\n                context,\\n            );\\n        }\\n    };\\n    var json_data = {\\\"formatted_vals\\\":[\\\"0.1\\\",\\\"0.2\\\",\\\"0.3\\\",\\\"0.4\\\",\\\"0.5\\\",\\\"0.6\\\",\\\"0.7\\\",\\\"0.8\\\",\\\"0.9\\\",\\\"1.0\\\",\\\"1.1\\\",\\\"1.2\\\",\\\"1.3\\\",\\\"1.4\\\",\\\"1.5\\\",\\\"1.6\\\",\\\"1.7\\\",\\\"1.8\\\",\\\"1.9\\\",\\\"2.0\\\"],\\\"changes\\\":WebIO.getval({\\\"name\\\":\\\"changes\\\",\\\"scope\\\":\\\"8829882013479105804\\\",\\\"id\\\":\\\"6964049269644712619\\\",\\\"type\\\":\\\"observable\\\"}),\\\"index\\\":WebIO.getval({\\\"name\\\":\\\"index\\\",\\\"scope\\\":\\\"8829882013479105804\\\",\\\"id\\\":\\\"11193889000114863645\\\",\\\"type\\\":\\\"observable\\\"})};\\n    var self = this;\\n    function AppViewModel() {\\n        for (var key in json_data) {\\n            var el = json_data[key];\\n            this[key] = Array.isArray(el) ? ko.observableArray(el) : ko.observable(el);\\n        }\\n        \\n        [this[\\\"formatted_val\\\"]=ko.computed(    function(){\\n        return this.formatted_vals()[parseInt(this.index())-(1)];\\n    }\\n,this)]\\n        [this[\\\"changes\\\"].subscribe((function (val){!(this.valueFromJulia[\\\"changes\\\"]) ? (WebIO.setval({\\\"name\\\":\\\"changes\\\",\\\"scope\\\":\\\"8829882013479105804\\\",\\\"id\\\":\\\"6964049269644712619\\\",\\\"type\\\":\\\"observable\\\"},val)) : undefined; return this.valueFromJulia[\\\"changes\\\"]=false}),self),this[\\\"index\\\"].subscribe((function (val){!(this.valueFromJulia[\\\"index\\\"]) ? (WebIO.setval({\\\"name\\\":\\\"index\\\",\\\"scope\\\":\\\"8829882013479105804\\\",\\\"id\\\":\\\"11193889000114863645\\\",\\\"type\\\":\\\"observable\\\"},val)) : undefined; return this.valueFromJulia[\\\"index\\\"]=false}),self)]\\n        \\n    }\\n    self.model = new AppViewModel();\\n    self.valueFromJulia = {};\\n    for (var key in json_data) {\\n        self.valueFromJulia[key] = false;\\n    }\\n    ko.applyBindings(self.model, self.dom);\\n}\\n);\\n    (WebIO.importBlock({\\\"data\\\":[{\\\"name\\\":\\\"knockout\\\",\\\"type\\\":\\\"js\\\",\\\"url\\\":\\\"/assetserver/727383f2a47bd31570b7da84eee7b022dd6d7c78-knockout.js\\\"},{\\\"name\\\":\\\"knockout_punches\\\",\\\"type\\\":\\\"js\\\",\\\"url\\\":\\\"/assetserver/382b41b3b1bd9f26f75861d360bad7f8beea211f-knockout_punches.js\\\"}],\\\"type\\\":\\\"async_block\\\"})).then((imports) => handler.apply(this, imports));\\n}\\n\")])], Dict{Symbol, Any}(:className => \"field interact-widget\")), WebIO.Node{WebIO.DOM}(WebIO.DOM(:html, :div), Any[WebIO.Node{WebIO.DOM}(WebIO.DOM(:html, :div), Any[WebIO.Scope(WebIO.Node{WebIO.DOM}(WebIO.DOM(:html, :div), Any[], Dict{Symbol, Any}(:id => \"container\")), Dict{String, Tuple{Observables.AbstractObservable, Union{Nothing, Bool}}}(\"value\" => (Observable(\"\\\\;\\\\;\"), nothing)), Set{String}(), nothing, WebIO.Asset[WebIO.Asset(\"js\", nothing, \"/home/dushya/.julia/packages/InteractBase/LJXv3/src/../assets/katex.min.js\"), WebIO.Asset(\"css\", nothing, \"/home/dushya/.julia/packages/InteractBase/LJXv3/src/../assets/katex.min.css\")], Dict{Any, Any}(\"value\" => Any[WebIO.JSString(\"(function (txt){return this.k.render(txt,this.container)})\")]), WebIO.ConnectionPool(Channel{Any}(32), Set{WebIO.AbstractConnection}(), Base.GenericCondition{ReentrantLock}(Base.IntrusiveLinkedList{Task}(Task (runnable) @0x00007f41882076c0, Task (runnable) @0x00007f41882076c0), ReentrantLock(nothing, 0x00000000, 0x00, Base.GenericCondition{Base.Threads.SpinLock}(Base.IntrusiveLinkedList{Task}(nothing, nothing), Base.Threads.SpinLock(0)), (8, 139919409179680, 0)))), WebIO.JSString[WebIO.JSString(\"function () {\\n    var handler = ((function (k){this.k=k; this.container=this.dom.querySelector(\\\"#container\\\"); return k.render(\\\"\\\\\\\\;\\\\\\\\;\\\",this.container)}));\\n    (WebIO.importBlock({\\\"data\\\":[{\\\"name\\\":null,\\\"type\\\":\\\"js\\\",\\\"url\\\":\\\"/assetserver/dd22ed1bf1896c2748f3fe616ce0b838adc895c1-katex.min.js\\\"},{\\\"name\\\":null,\\\"type\\\":\\\"css\\\",\\\"url\\\":\\\"/assetserver/46517a424aa5e6cffc1360d7e0848b601c584ee3-katex.min.css\\\"}],\\\"type\\\":\\\"async_block\\\"})).then((imports) => handler.apply(this, imports));\\n}\\n\")])], Dict{Symbol, Any}(:className => \"interact-widget\")), WebIO.Node{WebIO.DOM}(WebIO.DOM(:html, :div), Any[WebIO.Scope(WebIO.Node{WebIO.DOM}(WebIO.DOM(:html, :button), Any[\"run\"], Dict{Symbol, Any}(:attributes => Dict{Any, Any}(\"data-bind\" => \"click: function (){this.clicks(this.clicks()+1)}, css: {'is-loading' : loading}\"), :className => \"is-medium button is-primary\", :style => Dict{String, Any}())), Dict{String, Tuple{Observables.AbstractObservable, Union{Nothing, Bool}}}(\"loading\" => (Observable(false), nothing), \"clicks\" => (Observable(0), nothing)), Set{String}(), nothing, WebIO.Asset[WebIO.Asset(\"js\", \"knockout\", \"/home/dushya/.julia/packages/Knockout/HReiN/src/../assets/knockout.js\"), WebIO.Asset(\"js\", \"knockout_punches\", \"/home/dushya/.julia/packages/Knockout/HReiN/src/../assets/knockout_punches.js\"), WebIO.Asset(\"js\", nothing, \"/home/dushya/.julia/packages/InteractBase/LJXv3/src/../assets/all.js\"), WebIO.Asset(\"css\", nothing, \"/home/dushya/.julia/packages/InteractBase/LJXv3/src/../assets/style.css\"), WebIO.Asset(\"css\", nothing, \"/home/dushya/.julia/packages/Interact/PENUy/src/../assets/bulma_confined.min.css\")], Dict{Any, Any}(\"loading\" => Any[WebIO.JSString(\"(function (val){return (val!=this.model[\\\"loading\\\"]()) ? (this.valueFromJulia[\\\"loading\\\"]=true, this.model[\\\"loading\\\"](val)) : undefined})\")], \"clicks\" => Any[WebIO.JSString(\"(function (val){return (val!=this.model[\\\"clicks\\\"]()) ? (this.valueFromJulia[\\\"clicks\\\"]=true, this.model[\\\"clicks\\\"](val)) : undefined})\")]), WebIO.ConnectionPool(Channel{Any}(32), Set{WebIO.AbstractConnection}(), Base.GenericCondition{ReentrantLock}(Base.IntrusiveLinkedList{Task}(Task (runnable) @0x00007f4188c6ed60, Task (runnable) @0x00007f4188c6ed60), ReentrantLock(nothing, 0x00000000, 0x00, Base.GenericCondition{Base.Threads.SpinLock}(Base.IntrusiveLinkedList{Task}(nothing, nothing), Base.Threads.SpinLock(0)), (8, 0, 139779710648320)))), WebIO.JSString[WebIO.JSString(\"function () {\\n    var handler = (function (ko, koPunches) {\\n    ko.punches.enableAll();\\n    ko.bindingHandlers.numericValue = {\\n        init: function(element, valueAccessor, allBindings, data, context) {\\n            var stringified = ko.observable(ko.unwrap(valueAccessor()));\\n            stringified.subscribe(function(value) {\\n                var val = parseFloat(value);\\n                if (!isNaN(val)) {\\n                    valueAccessor()(val);\\n                }\\n            });\\n            valueAccessor().subscribe(function(value) {\\n                var str = JSON.stringify(value);\\n                if ((str == \\\"0\\\") && ([\\\"-0\\\", \\\"-0.\\\"].indexOf(stringified()) >= 0))\\n                     return;\\n                 if ([\\\"null\\\", \\\"\\\"].indexOf(str) >= 0)\\n                     return;\\n                stringified(str);\\n            });\\n            ko.applyBindingsToNode(\\n                element,\\n                {\\n                    value: stringified,\\n                    valueUpdate: allBindings.get('valueUpdate'),\\n                },\\n                context,\\n            );\\n        }\\n    };\\n    var json_data = {\\\"loading\\\":WebIO.getval({\\\"name\\\":\\\"loading\\\",\\\"scope\\\":\\\"11407949889234739934\\\",\\\"id\\\":\\\"9586455112914911046\\\",\\\"type\\\":\\\"observable\\\"}),\\\"clicks\\\":WebIO.getval({\\\"name\\\":\\\"clicks\\\",\\\"scope\\\":\\\"11407949889234739934\\\",\\\"id\\\":\\\"17976761333877883342\\\",\\\"type\\\":\\\"observable\\\"})};\\n    var self = this;\\n    function AppViewModel() {\\n        for (var key in json_data) {\\n            var el = json_data[key];\\n            this[key] = Array.isArray(el) ? ko.observableArray(el) : ko.observable(el);\\n        }\\n        \\n        \\n        [this[\\\"loading\\\"].subscribe((function (val){!(this.valueFromJulia[\\\"loading\\\"]) ? (WebIO.setval({\\\"name\\\":\\\"loading\\\",\\\"scope\\\":\\\"11407949889234739934\\\",\\\"id\\\":\\\"9586455112914911046\\\",\\\"type\\\":\\\"observable\\\"},val)) : undefined; return this.valueFromJulia[\\\"loading\\\"]=false}),self),this[\\\"clicks\\\"].subscribe((function (val){!(this.valueFromJulia[\\\"clicks\\\"]) ? (WebIO.setval({\\\"name\\\":\\\"clicks\\\",\\\"scope\\\":\\\"11407949889234739934\\\",\\\"id\\\":\\\"17976761333877883342\\\",\\\"type\\\":\\\"observable\\\"},val)) : undefined; return this.valueFromJulia[\\\"clicks\\\"]=false}),self)]\\n        \\n    }\\n    self.model = new AppViewModel();\\n    self.valueFromJulia = {};\\n    for (var key in json_data) {\\n        self.valueFromJulia[key] = false;\\n    }\\n    ko.applyBindings(self.model, self.dom);\\n}\\n);\\n    (WebIO.importBlock({\\\"data\\\":[{\\\"name\\\":\\\"knockout\\\",\\\"type\\\":\\\"js\\\",\\\"url\\\":\\\"/assetserver/727383f2a47bd31570b7da84eee7b022dd6d7c78-knockout.js\\\"},{\\\"name\\\":\\\"knockout_punches\\\",\\\"type\\\":\\\"js\\\",\\\"url\\\":\\\"/assetserver/382b41b3b1bd9f26f75861d360bad7f8beea211f-knockout_punches.js\\\"}],\\\"type\\\":\\\"async_block\\\"})).then((imports) => handler.apply(this, imports));\\n}\\n\")])], Dict{Symbol, Any}(:className => \"field interact-widget\")), WebIO.Node{WebIO.DOM}(WebIO.DOM(:html, :div), Any[WebIO.Scope(WebIO.Node{WebIO.DOM}(WebIO.DOM(:html, :div), Any[], Dict{Symbol, Any}(:id => \"container\")), Dict{String, Tuple{Observables.AbstractObservable, Union{Nothing, Bool}}}(\"value\" => (Observable(\"\\\\;\\\\;\"), nothing)), Set{String}(), nothing, WebIO.Asset[WebIO.Asset(\"js\", nothing, \"/home/dushya/.julia/packages/InteractBase/LJXv3/src/../assets/katex.min.js\"), WebIO.Asset(\"css\", nothing, \"/home/dushya/.julia/packages/InteractBase/LJXv3/src/../assets/katex.min.css\")], Dict{Any, Any}(\"value\" => Any[WebIO.JSString(\"(function (txt){return this.k.render(txt,this.container)})\")]), WebIO.ConnectionPool(Channel{Any}(32), Set{WebIO.AbstractConnection}(), Base.GenericCondition{ReentrantLock}(Base.IntrusiveLinkedList{Task}(Task (runnable) @0x00007f41882076c0, Task (runnable) @0x00007f41882076c0), ReentrantLock(nothing, 0x00000000, 0x00, Base.GenericCondition{Base.Threads.SpinLock}(Base.IntrusiveLinkedList{Task}(nothing, nothing), Base.Threads.SpinLock(0)), (8, 139919409179680, 0)))), WebIO.JSString[WebIO.JSString(\"function () {\\n    var handler = ((function (k){this.k=k; this.container=this.dom.querySelector(\\\"#container\\\"); return k.render(\\\"\\\\\\\\;\\\\\\\\;\\\",this.container)}));\\n    (WebIO.importBlock({\\\"data\\\":[{\\\"name\\\":null,\\\"type\\\":\\\"js\\\",\\\"url\\\":\\\"/assetserver/dd22ed1bf1896c2748f3fe616ce0b838adc895c1-katex.min.js\\\"},{\\\"name\\\":null,\\\"type\\\":\\\"css\\\",\\\"url\\\":\\\"/assetserver/46517a424aa5e6cffc1360d7e0848b601c584ee3-katex.min.css\\\"}],\\\"type\\\":\\\"async_block\\\"})).then((imports) => handler.apply(this, imports));\\n}\\n\")])], Dict{Symbol, Any}(:className => \"interact-widget\")), WebIO.Node{WebIO.DOM}(WebIO.DOM(:html, :div), Any[WebIO.Scope(WebIO.Node{WebIO.DOM}(WebIO.DOM(:html, :button), Any[\"stop\"], Dict{Symbol, Any}(:attributes => Dict{Any, Any}(\"data-bind\" => \"click: function (){this.clicks(this.clicks()+1)}, css: {'is-loading' : loading}\"), :className => \"is-medium button is-primary\", :style => Dict{String, Any}())), Dict{String, Tuple{Observables.AbstractObservable, Union{Nothing, Bool}}}(\"loading\" => (Observable(false), nothing), \"clicks\" => (Observable(0), nothing)), Set{String}(), nothing, WebIO.Asset[WebIO.Asset(\"js\", \"knockout\", \"/home/dushya/.julia/packages/Knockout/HReiN/src/../assets/knockout.js\"), WebIO.Asset(\"js\", \"knockout_punches\", \"/home/dushya/.julia/packages/Knockout/HReiN/src/../assets/knockout_punches.js\"), WebIO.Asset(\"js\", nothing, \"/home/dushya/.julia/packages/InteractBase/LJXv3/src/../assets/all.js\"), WebIO.Asset(\"css\", nothing, \"/home/dushya/.julia/packages/InteractBase/LJXv3/src/../assets/style.css\"), WebIO.Asset(\"css\", nothing, \"/home/dushya/.julia/packages/Interact/PENUy/src/../assets/bulma_confined.min.css\")], Dict{Any, Any}(\"loading\" => Any[WebIO.JSString(\"(function (val){return (val!=this.model[\\\"loading\\\"]()) ? (this.valueFromJulia[\\\"loading\\\"]=true, this.model[\\\"loading\\\"](val)) : undefined})\")], \"clicks\" => Any[WebIO.JSString(\"(function (val){return (val!=this.model[\\\"clicks\\\"]()) ? (this.valueFromJulia[\\\"clicks\\\"]=true, this.model[\\\"clicks\\\"](val)) : undefined})\")]), WebIO.ConnectionPool(Channel{Any}(32), Set{WebIO.AbstractConnection}(), Base.GenericCondition{ReentrantLock}(Base.IntrusiveLinkedList{Task}(Task (runnable) @0x00007f4154616d60, Task (runnable) @0x00007f4154616d60), ReentrantLock(nothing, 0x00000000, 0x00, Base.GenericCondition{Base.Threads.SpinLock}(Base.IntrusiveLinkedList{Task}(nothing, nothing), Base.Threads.SpinLock(0)), (0, 139919297085440, 0)))), WebIO.JSString[WebIO.JSString(\"function () {\\n    var handler = (function (ko, koPunches) {\\n    ko.punches.enableAll();\\n    ko.bindingHandlers.numericValue = {\\n        init: function(element, valueAccessor, allBindings, data, context) {\\n            var stringified = ko.observable(ko.unwrap(valueAccessor()));\\n            stringified.subscribe(function(value) {\\n                var val = parseFloat(value);\\n                if (!isNaN(val)) {\\n                    valueAccessor()(val);\\n                }\\n            });\\n            valueAccessor().subscribe(function(value) {\\n                var str = JSON.stringify(value);\\n                if ((str == \\\"0\\\") && ([\\\"-0\\\", \\\"-0.\\\"].indexOf(stringified()) >= 0))\\n                     return;\\n                 if ([\\\"null\\\", \\\"\\\"].indexOf(str) >= 0)\\n                     return;\\n                stringified(str);\\n            });\\n            ko.applyBindingsToNode(\\n                element,\\n                {\\n                    value: stringified,\\n                    valueUpdate: allBindings.get('valueUpdate'),\\n                },\\n                context,\\n            );\\n        }\\n    };\\n    var json_data = {\\\"loading\\\":WebIO.getval({\\\"name\\\":\\\"loading\\\",\\\"scope\\\":\\\"9636280036273835554\\\",\\\"id\\\":\\\"3150235791935719209\\\",\\\"type\\\":\\\"observable\\\"}),\\\"clicks\\\":WebIO.getval({\\\"name\\\":\\\"clicks\\\",\\\"scope\\\":\\\"9636280036273835554\\\",\\\"id\\\":\\\"11655019046843114248\\\",\\\"type\\\":\\\"observable\\\"})};\\n    var self = this;\\n    function AppViewModel() {\\n        for (var key in json_data) {\\n            var el = json_data[key];\\n            this[key] = Array.isArray(el) ? ko.observableArray(el) : ko.observable(el);\\n        }\\n        \\n        \\n        [this[\\\"loading\\\"].subscribe((function (val){!(this.valueFromJulia[\\\"loading\\\"]) ? (WebIO.setval({\\\"name\\\":\\\"loading\\\",\\\"scope\\\":\\\"9636280036273835554\\\",\\\"id\\\":\\\"3150235791935719209\\\",\\\"type\\\":\\\"observable\\\"},val)) : undefined; return this.valueFromJulia[\\\"loading\\\"]=false}),self),this[\\\"clicks\\\"].subscribe((function (val){!(this.valueFromJulia[\\\"clicks\\\"]) ? (WebIO.setval({\\\"name\\\":\\\"clicks\\\",\\\"scope\\\":\\\"9636280036273835554\\\",\\\"id\\\":\\\"11655019046843114248\\\",\\\"type\\\":\\\"observable\\\"},val)) : undefined; return this.valueFromJulia[\\\"clicks\\\"]=false}),self)]\\n        \\n    }\\n    self.model = new AppViewModel();\\n    self.valueFromJulia = {};\\n    for (var key in json_data) {\\n        self.valueFromJulia[key] = false;\\n    }\\n    ko.applyBindings(self.model, self.dom);\\n}\\n);\\n    (WebIO.importBlock({\\\"data\\\":[{\\\"name\\\":\\\"knockout\\\",\\\"type\\\":\\\"js\\\",\\\"url\\\":\\\"/assetserver/727383f2a47bd31570b7da84eee7b022dd6d7c78-knockout.js\\\"},{\\\"name\\\":\\\"knockout_punches\\\",\\\"type\\\":\\\"js\\\",\\\"url\\\":\\\"/assetserver/382b41b3b1bd9f26f75861d360bad7f8beea211f-knockout_punches.js\\\"}],\\\"type\\\":\\\"async_block\\\"})).then((imports) => handler.apply(this, imports));\\n}\\n\")])], Dict{Symbol, Any}(:className => \"field interact-widget\")), WebIO.Node{WebIO.DOM}(WebIO.DOM(:html, :div), Any[WebIO.Scope(WebIO.Node{WebIO.DOM}(WebIO.DOM(:html, :div), Any[], Dict{Symbol, Any}(:id => \"container\")), Dict{String, Tuple{Observables.AbstractObservable, Union{Nothing, Bool}}}(\"value\" => (Observable(\"\\\\;\\\\;\"), nothing)), Set{String}(), nothing, WebIO.Asset[WebIO.Asset(\"js\", nothing, \"/home/dushya/.julia/packages/InteractBase/LJXv3/src/../assets/katex.min.js\"), WebIO.Asset(\"css\", nothing, \"/home/dushya/.julia/packages/InteractBase/LJXv3/src/../assets/katex.min.css\")], Dict{Any, Any}(\"value\" => Any[WebIO.JSString(\"(function (txt){return this.k.render(txt,this.container)})\")]), WebIO.ConnectionPool(Channel{Any}(32), Set{WebIO.AbstractConnection}(), Base.GenericCondition{ReentrantLock}(Base.IntrusiveLinkedList{Task}(Task (runnable) @0x00007f41882076c0, Task (runnable) @0x00007f41882076c0), ReentrantLock(nothing, 0x00000000, 0x00, Base.GenericCondition{Base.Threads.SpinLock}(Base.IntrusiveLinkedList{Task}(nothing, nothing), Base.Threads.SpinLock(0)), (8, 139919409179680, 0)))), WebIO.JSString[WebIO.JSString(\"function () {\\n    var handler = ((function (k){this.k=k; this.container=this.dom.querySelector(\\\"#container\\\"); return k.render(\\\"\\\\\\\\;\\\\\\\\;\\\",this.container)}));\\n    (WebIO.importBlock({\\\"data\\\":[{\\\"name\\\":null,\\\"type\\\":\\\"js\\\",\\\"url\\\":\\\"/assetserver/dd22ed1bf1896c2748f3fe616ce0b838adc895c1-katex.min.js\\\"},{\\\"name\\\":null,\\\"type\\\":\\\"css\\\",\\\"url\\\":\\\"/assetserver/46517a424aa5e6cffc1360d7e0848b601c584ee3-katex.min.css\\\"}],\\\"type\\\":\\\"async_block\\\"})).then((imports) => handler.apply(this, imports));\\n}\\n\")])], Dict{Symbol, Any}(:className => \"interact-widget\")), WebIO.Node{WebIO.DOM}(WebIO.DOM(:html, :div), Any[WebIO.Scope(WebIO.Node{WebIO.DOM}(WebIO.DOM(:html, :button), Any[\"save\"], Dict{Symbol, Any}(:attributes => Dict{Any, Any}(\"data-bind\" => \"click: function (){this.clicks(this.clicks()+1)}, css: {'is-loading' : loading}\"), :className => \"is-medium button is-primary\", :style => Dict{String, Any}())), Dict{String, Tuple{Observables.AbstractObservable, Union{Nothing, Bool}}}(\"loading\" => (Observable(false), nothing), \"clicks\" => (Observable(0), nothing)), Set{String}(), nothing, WebIO.Asset[WebIO.Asset(\"js\", \"knockout\", \"/home/dushya/.julia/packages/Knockout/HReiN/src/../assets/knockout.js\"), WebIO.Asset(\"js\", \"knockout_punches\", \"/home/dushya/.julia/packages/Knockout/HReiN/src/../assets/knockout_punches.js\"), WebIO.Asset(\"js\", nothing, \"/home/dushya/.julia/packages/InteractBase/LJXv3/src/../assets/all.js\"), WebIO.Asset(\"css\", nothing, \"/home/dushya/.julia/packages/InteractBase/LJXv3/src/../assets/style.css\"), WebIO.Asset(\"css\", nothing, \"/home/dushya/.julia/packages/Interact/PENUy/src/../assets/bulma_confined.min.css\")], Dict{Any, Any}(\"loading\" => Any[WebIO.JSString(\"(function (val){return (val!=this.model[\\\"loading\\\"]()) ? (this.valueFromJulia[\\\"loading\\\"]=true, this.model[\\\"loading\\\"](val)) : undefined})\")], \"clicks\" => Any[WebIO.JSString(\"(function (val){return (val!=this.model[\\\"clicks\\\"]()) ? (this.valueFromJulia[\\\"clicks\\\"]=true, this.model[\\\"clicks\\\"](val)) : undefined})\")]), WebIO.ConnectionPool(Channel{Any}(32), Set{WebIO.AbstractConnection}(), Base.GenericCondition{ReentrantLock}(Base.IntrusiveLinkedList{Task}(Task (runnable) @0x00007f41543b95f0, Task (runnable) @0x00007f41543b95f0), ReentrantLock(nothing, 0x00000000, 0x00, Base.GenericCondition{Base.Threads.SpinLock}(Base.IntrusiveLinkedList{Task}(nothing, nothing), Base.Threads.SpinLock(0)), (8, 0, 141733920768)))), WebIO.JSString[WebIO.JSString(\"function () {\\n    var handler = (function (ko, koPunches) {\\n    ko.punches.enableAll();\\n    ko.bindingHandlers.numericValue = {\\n        init: function(element, valueAccessor, allBindings, data, context) {\\n            var stringified = ko.observable(ko.unwrap(valueAccessor()));\\n            stringified.subscribe(function(value) {\\n                var val = parseFloat(value);\\n                if (!isNaN(val)) {\\n                    valueAccessor()(val);\\n                }\\n            });\\n            valueAccessor().subscribe(function(value) {\\n                var str = JSON.stringify(value);\\n                if ((str == \\\"0\\\") && ([\\\"-0\\\", \\\"-0.\\\"].indexOf(stringified()) >= 0))\\n                     return;\\n                 if ([\\\"null\\\", \\\"\\\"].indexOf(str) >= 0)\\n                     return;\\n                stringified(str);\\n            });\\n            ko.applyBindingsToNode(\\n                element,\\n                {\\n                    value: stringified,\\n                    valueUpdate: allBindings.get('valueUpdate'),\\n                },\\n                context,\\n            );\\n        }\\n    };\\n    var json_data = {\\\"loading\\\":WebIO.getval({\\\"name\\\":\\\"loading\\\",\\\"scope\\\":\\\"10491644336553845711\\\",\\\"id\\\":\\\"16644443354811419671\\\",\\\"type\\\":\\\"observable\\\"}),\\\"clicks\\\":WebIO.getval({\\\"name\\\":\\\"clicks\\\",\\\"scope\\\":\\\"10491644336553845711\\\",\\\"id\\\":\\\"7326456125944862255\\\",\\\"type\\\":\\\"observable\\\"})};\\n    var self = this;\\n    function AppViewModel() {\\n        for (var key in json_data) {\\n            var el = json_data[key];\\n            this[key] = Array.isArray(el) ? ko.observableArray(el) : ko.observable(el);\\n        }\\n        \\n        \\n        [this[\\\"loading\\\"].subscribe((function (val){!(this.valueFromJulia[\\\"loading\\\"]) ? (WebIO.setval({\\\"name\\\":\\\"loading\\\",\\\"scope\\\":\\\"10491644336553845711\\\",\\\"id\\\":\\\"16644443354811419671\\\",\\\"type\\\":\\\"observable\\\"},val)) : undefined; return this.valueFromJulia[\\\"loading\\\"]=false}),self),this[\\\"clicks\\\"].subscribe((function (val){!(this.valueFromJulia[\\\"clicks\\\"]) ? (WebIO.setval({\\\"name\\\":\\\"clicks\\\",\\\"scope\\\":\\\"10491644336553845711\\\",\\\"id\\\":\\\"7326456125944862255\\\",\\\"type\\\":\\\"observable\\\"},val)) : undefined; return this.valueFromJulia[\\\"clicks\\\"]=false}),self)]\\n        \\n    }\\n    self.model = new AppViewModel();\\n    self.valueFromJulia = {};\\n    for (var key in json_data) {\\n        self.valueFromJulia[key] = false;\\n    }\\n    ko.applyBindings(self.model, self.dom);\\n}\\n);\\n    (WebIO.importBlock({\\\"data\\\":[{\\\"name\\\":\\\"knockout\\\",\\\"type\\\":\\\"js\\\",\\\"url\\\":\\\"/assetserver/727383f2a47bd31570b7da84eee7b022dd6d7c78-knockout.js\\\"},{\\\"name\\\":\\\"knockout_punches\\\",\\\"type\\\":\\\"js\\\",\\\"url\\\":\\\"/assetserver/382b41b3b1bd9f26f75861d360bad7f8beea211f-knockout_punches.js\\\"}],\\\"type\\\":\\\"async_block\\\"})).then((imports) => handler.apply(this, imports));\\n}\\n\")])], Dict{Symbol, Any}(:className => \"field interact-widget\"))], Dict{Symbol, Any}(:style => Dict(\"display\" => \"flex\", \"flex-direction\" => \"row\")))], Dict{Symbol, Any}(:style => Dict(\"display\" => \"flex\", \"flex-direction\" => \"column\"))), WebIO.Node{WebIO.DOM}(WebIO.DOM(:html, :div), Any[WebIO.Scope(WebIO.Node{WebIO.DOM}(WebIO.DOM(:html, :div), Any[], Dict{Symbol, Any}(:id => \"container\")), Dict{String, Tuple{Observables.AbstractObservable, Union{Nothing, Bool}}}(\"value\" => (Observable(\"\\\\;\\\\;\"), nothing)), Set{String}(), nothing, WebIO.Asset[WebIO.Asset(\"js\", nothing, \"/home/dushya/.julia/packages/InteractBase/LJXv3/src/../assets/katex.min.js\"), WebIO.Asset(\"css\", nothing, \"/home/dushya/.julia/packages/InteractBase/LJXv3/src/../assets/katex.min.css\")], Dict{Any, Any}(\"value\" => Any[WebIO.JSString(\"(function (txt){return this.k.render(txt,this.container)})\")]), WebIO.ConnectionPool(Channel{Any}(32), Set{WebIO.AbstractConnection}(), Base.GenericCondition{ReentrantLock}(Base.IntrusiveLinkedList{Task}(Task (runnable) @0x00007f41882076c0, Task (runnable) @0x00007f41882076c0), ReentrantLock(nothing, 0x00000000, 0x00, Base.GenericCondition{Base.Threads.SpinLock}(Base.IntrusiveLinkedList{Task}(nothing, nothing), Base.Threads.SpinLock(0)), (8, 139919409179680, 0)))), WebIO.JSString[WebIO.JSString(\"function () {\\n    var handler = ((function (k){this.k=k; this.container=this.dom.querySelector(\\\"#container\\\"); return k.render(\\\"\\\\\\\\;\\\\\\\\;\\\",this.container)}));\\n    (WebIO.importBlock({\\\"data\\\":[{\\\"name\\\":null,\\\"type\\\":\\\"js\\\",\\\"url\\\":\\\"/assetserver/dd22ed1bf1896c2748f3fe616ce0b838adc895c1-katex.min.js\\\"},{\\\"name\\\":null,\\\"type\\\":\\\"css\\\",\\\"url\\\":\\\"/assetserver/46517a424aa5e6cffc1360d7e0848b601c584ee3-katex.min.css\\\"}],\\\"type\\\":\\\"async_block\\\"})).then((imports) => handler.apply(this, imports));\\n}\\n\")])], Dict{Symbol, Any}(:className => \"interact-widget\")), Observable(Luxor.Drawing(430.0, 430.0, \"\", Cairo.CairoSurfaceBase{UInt32}(Ptr{Nothing} @0x0000000000000000, 430.0, 430.0), Cairo.CairoContext(Ptr{Nothing} @0x00000000036aa580, Cairo.CairoSurfaceBase{UInt32}(Ptr{Nothing} @0x0000000000000000, 430.0, 430.0), Ptr{Nothing} @0x0000000002aeb810), :png, 0.5, 0.5, 0.5, 0.5, IOBuffer(data=UInt8[...], readable=true, writable=true, seekable=true, append=false, size=5001, maxsize=Inf, ptr=5002, mark=-1), UInt8[0x89, 0x50, 0x4e, 0x47, 0x0d, 0x0a, 0x1a, 0x0a, 0x00, 0x00  …  0x00, 0x00, 0x49, 0x45, 0x4e, 0x44, 0xae, 0x42, 0x60, 0x82], false)), WebIO.Node{WebIO.DOM}(WebIO.DOM(:html, :div), Any[WebIO.Scope(WebIO.Node{WebIO.DOM}(WebIO.DOM(:html, :div), Any[], Dict{Symbol, Any}(:id => \"container\")), Dict{String, Tuple{Observables.AbstractObservable, Union{Nothing, Bool}}}(\"value\" => (Observable(\"\\\\;\\\\;\"), nothing)), Set{String}(), nothing, WebIO.Asset[WebIO.Asset(\"js\", nothing, \"/home/dushya/.julia/packages/InteractBase/LJXv3/src/../assets/katex.min.js\"), WebIO.Asset(\"css\", nothing, \"/home/dushya/.julia/packages/InteractBase/LJXv3/src/../assets/katex.min.css\")], Dict{Any, Any}(\"value\" => Any[WebIO.JSString(\"(function (txt){return this.k.render(txt,this.container)})\")]), WebIO.ConnectionPool(Channel{Any}(32), Set{WebIO.AbstractConnection}(), Base.GenericCondition{ReentrantLock}(Base.IntrusiveLinkedList{Task}(Task (runnable) @0x00007f41882076c0, Task (runnable) @0x00007f41882076c0), ReentrantLock(nothing, 0x00000000, 0x00, Base.GenericCondition{Base.Threads.SpinLock}(Base.IntrusiveLinkedList{Task}(nothing, nothing), Base.Threads.SpinLock(0)), (8, 139919409179680, 0)))), WebIO.JSString[WebIO.JSString(\"function () {\\n    var handler = ((function (k){this.k=k; this.container=this.dom.querySelector(\\\"#container\\\"); return k.render(\\\"\\\\\\\\;\\\\\\\\;\\\",this.container)}));\\n    (WebIO.importBlock({\\\"data\\\":[{\\\"name\\\":null,\\\"type\\\":\\\"js\\\",\\\"url\\\":\\\"/assetserver/dd22ed1bf1896c2748f3fe616ce0b838adc895c1-katex.min.js\\\"},{\\\"name\\\":null,\\\"type\\\":\\\"css\\\",\\\"url\\\":\\\"/assetserver/46517a424aa5e6cffc1360d7e0848b601c584ee3-katex.min.css\\\"}],\\\"type\\\":\\\"async_block\\\"})).then((imports) => handler.apply(this, imports));\\n}\\n\")])], Dict{Symbol, Any}(:className => \"interact-widget\")), WebIO.Node{WebIO.DOM}(WebIO.DOM(:html, :div), Any[], Dict{Symbol, Any}(:style => Dict(\"display\" => \"flex\", \"flex-direction\" => \"column\")))], Dict{Symbol, Any}(:style => Dict(\"display\" => \"flex\", \"flex-direction\" => \"row\")))], Dict{Symbol, Any}(:style => Dict(\"display\" => \"flex\", \"flex-direction\" => \"column\")))"
      ]
     },
     "execution_count": 6,
     "metadata": {
      "application/vnd.webio.node+json": {
       "kernelId": "afc15408-d67e-4b81-869a-2a27fa7e6fb9"
      }
     },
     "output_type": "execute_result"
    }
   ],
   "source": [
    "animate_sim(model, show_patches=true)"
   ]
  },
  {
   "cell_type": "code",
   "execution_count": 7,
   "metadata": {},
   "outputs": [
    {
     "data": {
      "image/png": "[encoded data removed]",
      "image/svg+xml": [
       "<?xml version=\"1.0\" encoding=\"utf-8\"?>\n",
       "<svg xmlns=\"http://www.w3.org/2000/svg\" xmlns:xlink=\"http://www.w3.org/1999/xlink\" width=\"600\" height=\"400\" viewBox=\"0 0 2400 1600\">\n",
       "<defs>\n",
       "  <clipPath id=\"clip650\">\n",
       "    <rect x=\"0\" y=\"0\" width=\"2400\" height=\"1600\"/>\n",
       "  </clipPath>\n",
       "</defs>\n",
       "<path clip-path=\"url(#clip650)\" d=\"M0 1600 L2400 1600 L2400 0 L0 0  Z\" fill=\"#ffffff\" fill-rule=\"evenodd\" fill-opacity=\"1\"/>\n",
       "<defs>\n",
       "  <clipPath id=\"clip651\">\n",
       "    <rect x=\"480\" y=\"0\" width=\"1681\" height=\"1600\"/>\n",
       "  </clipPath>\n",
       "</defs>\n",
       "<path clip-path=\"url(#clip650)\" d=\"M264.287 1423.18 L2352.76 1423.18 L2352.76 47.2441 L264.287 47.2441  Z\" fill=\"#ffffff\" fill-rule=\"evenodd\" fill-opacity=\"1\"/>\n",
       "<defs>\n",
       "  <clipPath id=\"clip652\">\n",
       "    <rect x=\"264\" y=\"47\" width=\"2089\" height=\"1377\"/>\n",
       "  </clipPath>\n",
       "</defs>\n",
       "<polyline clip-path=\"url(#clip652)\" style=\"stroke:#000000; stroke-linecap:round; stroke-linejoin:round; stroke-width:2; stroke-opacity:0.1; fill:none\" points=\"313.544,1423.18 313.544,47.2441 \"/>\n",
       "<polyline clip-path=\"url(#clip652)\" style=\"stroke:#000000; stroke-linecap:round; stroke-linejoin:round; stroke-width:2; stroke-opacity:0.1; fill:none\" points=\"806.107,1423.18 806.107,47.2441 \"/>\n",
       "<polyline clip-path=\"url(#clip652)\" style=\"stroke:#000000; stroke-linecap:round; stroke-linejoin:round; stroke-width:2; stroke-opacity:0.1; fill:none\" points=\"1298.67,1423.18 1298.67,47.2441 \"/>\n",
       "<polyline clip-path=\"url(#clip652)\" style=\"stroke:#000000; stroke-linecap:round; stroke-linejoin:round; stroke-width:2; stroke-opacity:0.1; fill:none\" points=\"1791.23,1423.18 1791.23,47.2441 \"/>\n",
       "<polyline clip-path=\"url(#clip652)\" style=\"stroke:#000000; stroke-linecap:round; stroke-linejoin:round; stroke-width:2; stroke-opacity:0.1; fill:none\" points=\"2283.8,1423.18 2283.8,47.2441 \"/>\n",
       "<polyline clip-path=\"url(#clip650)\" style=\"stroke:#000000; stroke-linecap:round; stroke-linejoin:round; stroke-width:4; stroke-opacity:1; fill:none\" points=\"264.287,1423.18 2352.76,1423.18 \"/>\n",
       "<polyline clip-path=\"url(#clip650)\" style=\"stroke:#000000; stroke-linecap:round; stroke-linejoin:round; stroke-width:4; stroke-opacity:1; fill:none\" points=\"313.544,1423.18 313.544,1404.28 \"/>\n",
       "<polyline clip-path=\"url(#clip650)\" style=\"stroke:#000000; stroke-linecap:round; stroke-linejoin:round; stroke-width:4; stroke-opacity:1; fill:none\" points=\"806.107,1423.18 806.107,1404.28 \"/>\n",
       "<polyline clip-path=\"url(#clip650)\" style=\"stroke:#000000; stroke-linecap:round; stroke-linejoin:round; stroke-width:4; stroke-opacity:1; fill:none\" points=\"1298.67,1423.18 1298.67,1404.28 \"/>\n",
       "<polyline clip-path=\"url(#clip650)\" style=\"stroke:#000000; stroke-linecap:round; stroke-linejoin:round; stroke-width:4; stroke-opacity:1; fill:none\" points=\"1791.23,1423.18 1791.23,1404.28 \"/>\n",
       "<polyline clip-path=\"url(#clip650)\" style=\"stroke:#000000; stroke-linecap:round; stroke-linejoin:round; stroke-width:4; stroke-opacity:1; fill:none\" points=\"2283.8,1423.18 2283.8,1404.28 \"/>\n",
       "<path clip-path=\"url(#clip650)\" d=\"M313.544 1454.1 Q309.933 1454.1 308.104 1457.66 Q306.298 1461.2 306.298 1468.33 Q306.298 1475.44 308.104 1479.01 Q309.933 1482.55 313.544 1482.55 Q317.178 1482.55 318.983 1479.01 Q320.812 1475.44 320.812 1468.33 Q320.812 1461.2 318.983 1457.66 Q317.178 1454.1 313.544 1454.1 M313.544 1450.39 Q319.354 1450.39 322.409 1455 Q325.488 1459.58 325.488 1468.33 Q325.488 1477.06 322.409 1481.67 Q319.354 1486.25 313.544 1486.25 Q307.734 1486.25 304.655 1481.67 Q301.599 1477.06 301.599 1468.33 Q301.599 1459.58 304.655 1455 Q307.734 1450.39 313.544 1450.39 Z\" fill=\"#000000\" fill-rule=\"nonzero\" fill-opacity=\"1\" /><path clip-path=\"url(#clip650)\" d=\"M780.806 1451.02 L799.163 1451.02 L799.163 1454.96 L785.089 1454.96 L785.089 1463.43 Q786.107 1463.08 787.126 1462.92 Q788.144 1462.73 789.163 1462.73 Q794.95 1462.73 798.329 1465.9 Q801.709 1469.08 801.709 1474.49 Q801.709 1480.07 798.237 1483.17 Q794.764 1486.25 788.445 1486.25 Q786.269 1486.25 784.001 1485.88 Q781.755 1485.51 779.348 1484.77 L779.348 1480.07 Q781.431 1481.2 783.653 1481.76 Q785.876 1482.32 788.352 1482.32 Q792.357 1482.32 794.695 1480.21 Q797.033 1478.1 797.033 1474.49 Q797.033 1470.88 794.695 1468.77 Q792.357 1466.67 788.352 1466.67 Q786.477 1466.67 784.602 1467.08 Q782.751 1467.5 780.806 1468.38 L780.806 1451.02 Z\" fill=\"#000000\" fill-rule=\"nonzero\" fill-opacity=\"1\" /><path clip-path=\"url(#clip650)\" d=\"M820.922 1454.1 Q817.311 1454.1 815.482 1457.66 Q813.676 1461.2 813.676 1468.33 Q813.676 1475.44 815.482 1479.01 Q817.311 1482.55 820.922 1482.55 Q824.556 1482.55 826.362 1479.01 Q828.19 1475.44 828.19 1468.33 Q828.19 1461.2 826.362 1457.66 Q824.556 1454.1 820.922 1454.1 M820.922 1450.39 Q826.732 1450.39 829.787 1455 Q832.866 1459.58 832.866 1468.33 Q832.866 1477.06 829.787 1481.67 Q826.732 1486.25 820.922 1486.25 Q815.112 1486.25 812.033 1481.67 Q808.977 1477.06 808.977 1468.33 Q808.977 1459.58 812.033 1455 Q815.112 1450.39 820.922 1450.39 Z\" fill=\"#000000\" fill-rule=\"nonzero\" fill-opacity=\"1\" /><path clip-path=\"url(#clip650)\" d=\"M1258.28 1481.64 L1265.92 1481.64 L1265.92 1455.28 L1257.61 1456.95 L1257.61 1452.69 L1265.87 1451.02 L1270.55 1451.02 L1270.55 1481.64 L1278.18 1481.64 L1278.18 1485.58 L1258.28 1485.58 L1258.28 1481.64 Z\" fill=\"#000000\" fill-rule=\"nonzero\" fill-opacity=\"1\" /><path clip-path=\"url(#clip650)\" d=\"M1297.63 1454.1 Q1294.02 1454.1 1292.19 1457.66 Q1290.38 1461.2 1290.38 1468.33 Q1290.38 1475.44 1292.19 1479.01 Q1294.02 1482.55 1297.63 1482.55 Q1301.26 1482.55 1303.07 1479.01 Q1304.9 1475.44 1304.9 1468.33 Q1304.9 1461.2 1303.07 1457.66 Q1301.26 1454.1 1297.63 1454.1 M1297.63 1450.39 Q1303.44 1450.39 1306.49 1455 Q1309.57 1459.58 1309.57 1468.33 Q1309.57 1477.06 1306.49 1481.67 Q1303.44 1486.25 1297.63 1486.25 Q1291.82 1486.25 1288.74 1481.67 Q1285.68 1477.06 1285.68 1468.33 Q1285.68 1459.58 1288.74 1455 Q1291.82 1450.39 1297.63 1450.39 Z\" fill=\"#000000\" fill-rule=\"nonzero\" fill-opacity=\"1\" /><path clip-path=\"url(#clip650)\" d=\"M1327.79 1454.1 Q1324.18 1454.1 1322.35 1457.66 Q1320.55 1461.2 1320.55 1468.33 Q1320.55 1475.44 1322.35 1479.01 Q1324.18 1482.55 1327.79 1482.55 Q1331.42 1482.55 1333.23 1479.01 Q1335.06 1475.44 1335.06 1468.33 Q1335.06 1461.2 1333.23 1457.66 Q1331.42 1454.1 1327.79 1454.1 M1327.79 1450.39 Q1333.6 1450.39 1336.66 1455 Q1339.73 1459.58 1339.73 1468.33 Q1339.73 1477.06 1336.66 1481.67 Q1333.6 1486.25 1327.79 1486.25 Q1321.98 1486.25 1318.9 1481.67 Q1315.85 1477.06 1315.85 1468.33 Q1315.85 1459.58 1318.9 1455 Q1321.98 1450.39 1327.79 1450.39 Z\" fill=\"#000000\" fill-rule=\"nonzero\" fill-opacity=\"1\" /><path clip-path=\"url(#clip650)\" d=\"M1750.84 1481.64 L1758.48 1481.64 L1758.48 1455.28 L1750.17 1456.95 L1750.17 1452.69 L1758.43 1451.02 L1763.11 1451.02 L1763.11 1481.64 L1770.75 1481.64 L1770.75 1485.58 L1750.84 1485.58 L1750.84 1481.64 Z\" fill=\"#000000\" fill-rule=\"nonzero\" fill-opacity=\"1\" /><path clip-path=\"url(#clip650)\" d=\"M1780.24 1451.02 L1798.59 1451.02 L1798.59 1454.96 L1784.52 1454.96 L1784.52 1463.43 Q1785.54 1463.08 1786.56 1462.92 Q1787.58 1462.73 1788.59 1462.73 Q1794.38 1462.73 1797.76 1465.9 Q1801.14 1469.08 1801.14 1474.49 Q1801.14 1480.07 1797.67 1483.17 Q1794.2 1486.25 1787.88 1486.25 Q1785.7 1486.25 1783.43 1485.88 Q1781.19 1485.51 1778.78 1484.77 L1778.78 1480.07 Q1780.86 1481.2 1783.09 1481.76 Q1785.31 1482.32 1787.78 1482.32 Q1791.79 1482.32 1794.13 1480.21 Q1796.47 1478.1 1796.47 1474.49 Q1796.47 1470.88 1794.13 1468.77 Q1791.79 1466.67 1787.78 1466.67 Q1785.91 1466.67 1784.03 1467.08 Q1782.18 1467.5 1780.24 1468.38 L1780.24 1451.02 Z\" fill=\"#000000\" fill-rule=\"nonzero\" fill-opacity=\"1\" /><path clip-path=\"url(#clip650)\" d=\"M1820.35 1454.1 Q1816.74 1454.1 1814.91 1457.66 Q1813.11 1461.2 1813.11 1468.33 Q1813.11 1475.44 1814.91 1479.01 Q1816.74 1482.55 1820.35 1482.55 Q1823.99 1482.55 1825.79 1479.01 Q1827.62 1475.44 1827.62 1468.33 Q1827.62 1461.2 1825.79 1457.66 Q1823.99 1454.1 1820.35 1454.1 M1820.35 1450.39 Q1826.16 1450.39 1829.22 1455 Q1832.3 1459.58 1832.3 1468.33 Q1832.3 1477.06 1829.22 1481.67 Q1826.16 1486.25 1820.35 1486.25 Q1814.54 1486.25 1811.47 1481.67 Q1808.41 1477.06 1808.41 1468.33 Q1808.41 1459.58 1811.47 1455 Q1814.54 1450.39 1820.35 1450.39 Z\" fill=\"#000000\" fill-rule=\"nonzero\" fill-opacity=\"1\" /><path clip-path=\"url(#clip650)\" d=\"M2247.49 1481.64 L2263.81 1481.64 L2263.81 1485.58 L2241.86 1485.58 L2241.86 1481.64 Q2244.53 1478.89 2249.11 1474.26 Q2253.72 1469.61 2254.9 1468.27 Q2257.14 1465.74 2258.02 1464.01 Q2258.92 1462.25 2258.92 1460.56 Q2258.92 1457.8 2256.98 1456.07 Q2255.06 1454.33 2251.96 1454.33 Q2249.76 1454.33 2247.3 1455.09 Q2244.87 1455.86 2242.1 1457.41 L2242.1 1452.69 Q2244.92 1451.55 2247.37 1450.97 Q2249.83 1450.39 2251.86 1450.39 Q2257.23 1450.39 2260.43 1453.08 Q2263.62 1455.77 2263.62 1460.26 Q2263.62 1462.39 2262.81 1464.31 Q2262.03 1466.2 2259.92 1468.8 Q2259.34 1469.47 2256.24 1472.69 Q2253.14 1475.88 2247.49 1481.64 Z\" fill=\"#000000\" fill-rule=\"nonzero\" fill-opacity=\"1\" /><path clip-path=\"url(#clip650)\" d=\"M2283.62 1454.1 Q2280.01 1454.1 2278.18 1457.66 Q2276.38 1461.2 2276.38 1468.33 Q2276.38 1475.44 2278.18 1479.01 Q2280.01 1482.55 2283.62 1482.55 Q2287.26 1482.55 2289.06 1479.01 Q2290.89 1475.44 2290.89 1468.33 Q2290.89 1461.2 2289.06 1457.66 Q2287.26 1454.1 2283.62 1454.1 M2283.62 1450.39 Q2289.43 1450.39 2292.49 1455 Q2295.57 1459.58 2295.57 1468.33 Q2295.57 1477.06 2292.49 1481.67 Q2289.43 1486.25 2283.62 1486.25 Q2277.81 1486.25 2274.73 1481.67 Q2271.68 1477.06 2271.68 1468.33 Q2271.68 1459.58 2274.73 1455 Q2277.81 1450.39 2283.62 1450.39 Z\" fill=\"#000000\" fill-rule=\"nonzero\" fill-opacity=\"1\" /><path clip-path=\"url(#clip650)\" d=\"M2313.79 1454.1 Q2310.17 1454.1 2308.35 1457.66 Q2306.54 1461.2 2306.54 1468.33 Q2306.54 1475.44 2308.35 1479.01 Q2310.17 1482.55 2313.79 1482.55 Q2317.42 1482.55 2319.23 1479.01 Q2321.05 1475.44 2321.05 1468.33 Q2321.05 1461.2 2319.23 1457.66 Q2317.42 1454.1 2313.79 1454.1 M2313.79 1450.39 Q2319.6 1450.39 2322.65 1455 Q2325.73 1459.58 2325.73 1468.33 Q2325.73 1477.06 2322.65 1481.67 Q2319.6 1486.25 2313.79 1486.25 Q2307.98 1486.25 2304.9 1481.67 Q2301.84 1477.06 2301.84 1468.33 Q2301.84 1459.58 2304.9 1455 Q2307.98 1450.39 2313.79 1450.39 Z\" fill=\"#000000\" fill-rule=\"nonzero\" fill-opacity=\"1\" /><path clip-path=\"url(#clip650)\" d=\"M1245.56 1522.27 L1245.56 1532.4 L1257.63 1532.4 L1257.63 1536.95 L1245.56 1536.95 L1245.56 1556.3 Q1245.56 1560.66 1246.74 1561.9 Q1247.95 1563.14 1251.61 1563.14 L1257.63 1563.14 L1257.63 1568.04 L1251.61 1568.04 Q1244.83 1568.04 1242.25 1565.53 Q1239.68 1562.98 1239.68 1556.3 L1239.68 1536.95 L1235.38 1536.95 L1235.38 1532.4 L1239.68 1532.4 L1239.68 1522.27 L1245.56 1522.27 Z\" fill=\"#000000\" fill-rule=\"nonzero\" fill-opacity=\"1\" /><path clip-path=\"url(#clip650)\" d=\"M1265.33 1532.4 L1271.19 1532.4 L1271.19 1568.04 L1265.33 1568.04 L1265.33 1532.4 M1265.33 1518.52 L1271.19 1518.52 L1271.19 1525.93 L1265.33 1525.93 L1265.33 1518.52 Z\" fill=\"#000000\" fill-rule=\"nonzero\" fill-opacity=\"1\" /><path clip-path=\"url(#clip650)\" d=\"M1309.09 1533.76 L1309.09 1539.24 Q1306.61 1537.87 1304.1 1537.2 Q1301.61 1536.5 1299.07 1536.5 Q1293.37 1536.5 1290.22 1540.13 Q1287.07 1543.73 1287.07 1550.25 Q1287.07 1556.78 1290.22 1560.4 Q1293.37 1564 1299.07 1564 Q1301.61 1564 1304.1 1563.33 Q1306.61 1562.63 1309.09 1561.26 L1309.09 1566.68 Q1306.64 1567.82 1304 1568.39 Q1301.39 1568.97 1298.43 1568.97 Q1290.38 1568.97 1285.64 1563.91 Q1280.89 1558.85 1280.89 1550.25 Q1280.89 1541.53 1285.67 1536.53 Q1290.47 1531.54 1298.81 1531.54 Q1301.52 1531.54 1304.1 1532.11 Q1306.68 1532.65 1309.09 1533.76 Z\" fill=\"#000000\" fill-rule=\"nonzero\" fill-opacity=\"1\" /><path clip-path=\"url(#clip650)\" d=\"M1319.06 1518.52 L1324.95 1518.52 L1324.95 1547.77 L1342.42 1532.4 L1349.9 1532.4 L1330.99 1549.07 L1350.69 1568.04 L1343.06 1568.04 L1324.95 1550.63 L1324.95 1568.04 L1319.06 1568.04 L1319.06 1518.52 Z\" fill=\"#000000\" fill-rule=\"nonzero\" fill-opacity=\"1\" /><path clip-path=\"url(#clip650)\" d=\"M1379.75 1533.45 L1379.75 1538.98 Q1377.27 1537.71 1374.6 1537.07 Q1371.92 1536.44 1369.06 1536.44 Q1364.7 1536.44 1362.5 1537.77 Q1360.34 1539.11 1360.34 1541.79 Q1360.34 1543.82 1361.9 1545 Q1363.46 1546.15 1368.17 1547.2 L1370.17 1547.64 Q1376.41 1548.98 1379.02 1551.43 Q1381.66 1553.85 1381.66 1558.21 Q1381.66 1563.17 1377.72 1566.07 Q1373.8 1568.97 1366.93 1568.97 Q1364.06 1568.97 1360.94 1568.39 Q1357.86 1567.85 1354.42 1566.74 L1354.42 1560.69 Q1357.66 1562.38 1360.82 1563.24 Q1363.97 1564.07 1367.05 1564.07 Q1371.19 1564.07 1373.42 1562.66 Q1375.65 1561.23 1375.65 1558.65 Q1375.65 1556.27 1374.02 1554.99 Q1372.43 1553.72 1366.99 1552.54 L1364.95 1552.07 Q1359.51 1550.92 1357.09 1548.56 Q1354.67 1546.18 1354.67 1542.04 Q1354.67 1537.01 1358.24 1534.27 Q1361.8 1531.54 1368.36 1531.54 Q1371.61 1531.54 1374.47 1532.01 Q1377.33 1532.49 1379.75 1533.45 Z\" fill=\"#000000\" fill-rule=\"nonzero\" fill-opacity=\"1\" /><polyline clip-path=\"url(#clip652)\" style=\"stroke:#000000; stroke-linecap:round; stroke-linejoin:round; stroke-width:2; stroke-opacity:0.1; fill:none\" points=\"264.287,1248.83 2352.76,1248.83 \"/>\n",
       "<polyline clip-path=\"url(#clip652)\" style=\"stroke:#000000; stroke-linecap:round; stroke-linejoin:round; stroke-width:2; stroke-opacity:0.1; fill:none\" points=\"264.287,1037.24 2352.76,1037.24 \"/>\n",
       "<polyline clip-path=\"url(#clip652)\" style=\"stroke:#000000; stroke-linecap:round; stroke-linejoin:round; stroke-width:2; stroke-opacity:0.1; fill:none\" points=\"264.287,825.663 2352.76,825.663 \"/>\n",
       "<polyline clip-path=\"url(#clip652)\" style=\"stroke:#000000; stroke-linecap:round; stroke-linejoin:round; stroke-width:2; stroke-opacity:0.1; fill:none\" points=\"264.287,614.082 2352.76,614.082 \"/>\n",
       "<polyline clip-path=\"url(#clip652)\" style=\"stroke:#000000; stroke-linecap:round; stroke-linejoin:round; stroke-width:2; stroke-opacity:0.1; fill:none\" points=\"264.287,402.5 2352.76,402.5 \"/>\n",
       "<polyline clip-path=\"url(#clip652)\" style=\"stroke:#000000; stroke-linecap:round; stroke-linejoin:round; stroke-width:2; stroke-opacity:0.1; fill:none\" points=\"264.287,190.919 2352.76,190.919 \"/>\n",
       "<polyline clip-path=\"url(#clip650)\" style=\"stroke:#000000; stroke-linecap:round; stroke-linejoin:round; stroke-width:4; stroke-opacity:1; fill:none\" points=\"264.287,1423.18 264.287,47.2441 \"/>\n",
       "<polyline clip-path=\"url(#clip650)\" style=\"stroke:#000000; stroke-linecap:round; stroke-linejoin:round; stroke-width:4; stroke-opacity:1; fill:none\" points=\"264.287,1248.83 283.185,1248.83 \"/>\n",
       "<polyline clip-path=\"url(#clip650)\" style=\"stroke:#000000; stroke-linecap:round; stroke-linejoin:round; stroke-width:4; stroke-opacity:1; fill:none\" points=\"264.287,1037.24 283.185,1037.24 \"/>\n",
       "<polyline clip-path=\"url(#clip650)\" style=\"stroke:#000000; stroke-linecap:round; stroke-linejoin:round; stroke-width:4; stroke-opacity:1; fill:none\" points=\"264.287,825.663 283.185,825.663 \"/>\n",
       "<polyline clip-path=\"url(#clip650)\" style=\"stroke:#000000; stroke-linecap:round; stroke-linejoin:round; stroke-width:4; stroke-opacity:1; fill:none\" points=\"264.287,614.082 283.185,614.082 \"/>\n",
       "<polyline clip-path=\"url(#clip650)\" style=\"stroke:#000000; stroke-linecap:round; stroke-linejoin:round; stroke-width:4; stroke-opacity:1; fill:none\" points=\"264.287,402.5 283.185,402.5 \"/>\n",
       "<polyline clip-path=\"url(#clip650)\" style=\"stroke:#000000; stroke-linecap:round; stroke-linejoin:round; stroke-width:4; stroke-opacity:1; fill:none\" points=\"264.287,190.919 283.185,190.919 \"/>\n",
       "<path clip-path=\"url(#clip650)\" d=\"M116.668 1262.17 L124.306 1262.17 L124.306 1235.81 L115.996 1237.47 L115.996 1233.21 L124.26 1231.55 L128.936 1231.55 L128.936 1262.17 L136.575 1262.17 L136.575 1266.11 L116.668 1266.11 L116.668 1262.17 Z\" fill=\"#000000\" fill-rule=\"nonzero\" fill-opacity=\"1\" /><path clip-path=\"url(#clip650)\" d=\"M158.866 1235.62 L147.061 1254.07 L158.866 1254.07 L158.866 1235.62 M157.64 1231.55 L163.519 1231.55 L163.519 1254.07 L168.45 1254.07 L168.45 1257.96 L163.519 1257.96 L163.519 1266.11 L158.866 1266.11 L158.866 1257.96 L143.265 1257.96 L143.265 1253.44 L157.64 1231.55 Z\" fill=\"#000000\" fill-rule=\"nonzero\" fill-opacity=\"1\" /><path clip-path=\"url(#clip650)\" d=\"M186.181 1234.62 Q182.57 1234.62 180.741 1238.19 Q178.936 1241.73 178.936 1248.86 Q178.936 1255.97 180.741 1259.53 Q182.57 1263.07 186.181 1263.07 Q189.815 1263.07 191.621 1259.53 Q193.45 1255.97 193.45 1248.86 Q193.45 1241.73 191.621 1238.19 Q189.815 1234.62 186.181 1234.62 M186.181 1230.92 Q191.991 1230.92 195.047 1235.53 Q198.125 1240.11 198.125 1248.86 Q198.125 1257.59 195.047 1262.19 Q191.991 1266.78 186.181 1266.78 Q180.371 1266.78 177.292 1262.19 Q174.237 1257.59 174.237 1248.86 Q174.237 1240.11 177.292 1235.53 Q180.371 1230.92 186.181 1230.92 Z\" fill=\"#000000\" fill-rule=\"nonzero\" fill-opacity=\"1\" /><path clip-path=\"url(#clip650)\" d=\"M216.343 1234.62 Q212.732 1234.62 210.903 1238.19 Q209.098 1241.73 209.098 1248.86 Q209.098 1255.97 210.903 1259.53 Q212.732 1263.07 216.343 1263.07 Q219.977 1263.07 221.783 1259.53 Q223.611 1255.97 223.611 1248.86 Q223.611 1241.73 221.783 1238.19 Q219.977 1234.62 216.343 1234.62 M216.343 1230.92 Q222.153 1230.92 225.209 1235.53 Q228.287 1240.11 228.287 1248.86 Q228.287 1257.59 225.209 1262.19 Q222.153 1266.78 216.343 1266.78 Q210.533 1266.78 207.454 1262.19 Q204.399 1257.59 204.399 1248.86 Q204.399 1240.11 207.454 1235.53 Q210.533 1230.92 216.343 1230.92 Z\" fill=\"#000000\" fill-rule=\"nonzero\" fill-opacity=\"1\" /><path clip-path=\"url(#clip650)\" d=\"M116.668 1050.59 L124.306 1050.59 L124.306 1024.22 L115.996 1025.89 L115.996 1021.63 L124.26 1019.96 L128.936 1019.96 L128.936 1050.59 L136.575 1050.59 L136.575 1054.52 L116.668 1054.52 L116.668 1050.59 Z\" fill=\"#000000\" fill-rule=\"nonzero\" fill-opacity=\"1\" /><path clip-path=\"url(#clip650)\" d=\"M156.598 1035.38 Q153.45 1035.38 151.598 1037.53 Q149.769 1039.69 149.769 1043.44 Q149.769 1047.16 151.598 1049.34 Q153.45 1051.49 156.598 1051.49 Q159.746 1051.49 161.575 1049.34 Q163.427 1047.16 163.427 1043.44 Q163.427 1039.69 161.575 1037.53 Q159.746 1035.38 156.598 1035.38 M165.88 1020.73 L165.88 1024.99 Q164.121 1024.15 162.315 1023.71 Q160.533 1023.27 158.774 1023.27 Q154.144 1023.27 151.691 1026.4 Q149.26 1029.52 148.913 1035.84 Q150.278 1033.83 152.339 1032.77 Q154.399 1031.68 156.876 1031.68 Q162.084 1031.68 165.093 1034.85 Q168.126 1038 168.126 1043.44 Q168.126 1048.76 164.977 1051.98 Q161.829 1055.2 156.598 1055.2 Q150.603 1055.2 147.431 1050.61 Q144.26 1046.01 144.26 1037.28 Q144.26 1029.08 148.149 1024.22 Q152.038 1019.34 158.589 1019.34 Q160.348 1019.34 162.13 1019.69 Q163.936 1020.03 165.88 1020.73 Z\" fill=\"#000000\" fill-rule=\"nonzero\" fill-opacity=\"1\" /><path clip-path=\"url(#clip650)\" d=\"M186.181 1023.04 Q182.57 1023.04 180.741 1026.61 Q178.936 1030.15 178.936 1037.28 Q178.936 1044.39 180.741 1047.95 Q182.57 1051.49 186.181 1051.49 Q189.815 1051.49 191.621 1047.95 Q193.45 1044.39 193.45 1037.28 Q193.45 1030.15 191.621 1026.61 Q189.815 1023.04 186.181 1023.04 M186.181 1019.34 Q191.991 1019.34 195.047 1023.95 Q198.125 1028.53 198.125 1037.28 Q198.125 1046.01 195.047 1050.61 Q191.991 1055.2 186.181 1055.2 Q180.371 1055.2 177.292 1050.61 Q174.237 1046.01 174.237 1037.28 Q174.237 1028.53 177.292 1023.95 Q180.371 1019.34 186.181 1019.34 Z\" fill=\"#000000\" fill-rule=\"nonzero\" fill-opacity=\"1\" /><path clip-path=\"url(#clip650)\" d=\"M216.343 1023.04 Q212.732 1023.04 210.903 1026.61 Q209.098 1030.15 209.098 1037.28 Q209.098 1044.39 210.903 1047.95 Q212.732 1051.49 216.343 1051.49 Q219.977 1051.49 221.783 1047.95 Q223.611 1044.39 223.611 1037.28 Q223.611 1030.15 221.783 1026.61 Q219.977 1023.04 216.343 1023.04 M216.343 1019.34 Q222.153 1019.34 225.209 1023.95 Q228.287 1028.53 228.287 1037.28 Q228.287 1046.01 225.209 1050.61 Q222.153 1055.2 216.343 1055.2 Q210.533 1055.2 207.454 1050.61 Q204.399 1046.01 204.399 1037.28 Q204.399 1028.53 207.454 1023.95 Q210.533 1019.34 216.343 1019.34 Z\" fill=\"#000000\" fill-rule=\"nonzero\" fill-opacity=\"1\" /><path clip-path=\"url(#clip650)\" d=\"M116.668 839.008 L124.306 839.008 L124.306 812.642 L115.996 814.309 L115.996 810.05 L124.26 808.383 L128.936 808.383 L128.936 839.008 L136.575 839.008 L136.575 842.943 L116.668 842.943 L116.668 839.008 Z\" fill=\"#000000\" fill-rule=\"nonzero\" fill-opacity=\"1\" /><path clip-path=\"url(#clip650)\" d=\"M156.019 826.531 Q152.686 826.531 150.765 828.314 Q148.866 830.096 148.866 833.221 Q148.866 836.346 150.765 838.128 Q152.686 839.911 156.019 839.911 Q159.353 839.911 161.274 838.128 Q163.195 836.323 163.195 833.221 Q163.195 830.096 161.274 828.314 Q159.376 826.531 156.019 826.531 M151.343 824.54 Q148.334 823.8 146.644 821.739 Q144.978 819.679 144.978 816.716 Q144.978 812.573 147.917 810.165 Q150.88 807.758 156.019 807.758 Q161.181 807.758 164.121 810.165 Q167.061 812.573 167.061 816.716 Q167.061 819.679 165.371 821.739 Q163.704 823.8 160.718 824.54 Q164.098 825.327 165.973 827.619 Q167.871 829.911 167.871 833.221 Q167.871 838.244 164.792 840.929 Q161.737 843.614 156.019 843.614 Q150.302 843.614 147.223 840.929 Q144.167 838.244 144.167 833.221 Q144.167 829.911 146.066 827.619 Q147.964 825.327 151.343 824.54 M149.63 817.156 Q149.63 819.841 151.297 821.346 Q152.987 822.851 156.019 822.851 Q159.028 822.851 160.718 821.346 Q162.431 819.841 162.431 817.156 Q162.431 814.471 160.718 812.966 Q159.028 811.462 156.019 811.462 Q152.987 811.462 151.297 812.966 Q149.63 814.471 149.63 817.156 Z\" fill=\"#000000\" fill-rule=\"nonzero\" fill-opacity=\"1\" /><path clip-path=\"url(#clip650)\" d=\"M186.181 811.462 Q182.57 811.462 180.741 815.027 Q178.936 818.568 178.936 825.698 Q178.936 832.804 180.741 836.369 Q182.57 839.911 186.181 839.911 Q189.815 839.911 191.621 836.369 Q193.45 832.804 193.45 825.698 Q193.45 818.568 191.621 815.027 Q189.815 811.462 186.181 811.462 M186.181 807.758 Q191.991 807.758 195.047 812.365 Q198.125 816.948 198.125 825.698 Q198.125 834.425 195.047 839.031 Q191.991 843.614 186.181 843.614 Q180.371 843.614 177.292 839.031 Q174.237 834.425 174.237 825.698 Q174.237 816.948 177.292 812.365 Q180.371 807.758 186.181 807.758 Z\" fill=\"#000000\" fill-rule=\"nonzero\" fill-opacity=\"1\" /><path clip-path=\"url(#clip650)\" d=\"M216.343 811.462 Q212.732 811.462 210.903 815.027 Q209.098 818.568 209.098 825.698 Q209.098 832.804 210.903 836.369 Q212.732 839.911 216.343 839.911 Q219.977 839.911 221.783 836.369 Q223.611 832.804 223.611 825.698 Q223.611 818.568 221.783 815.027 Q219.977 811.462 216.343 811.462 M216.343 807.758 Q222.153 807.758 225.209 812.365 Q228.287 816.948 228.287 825.698 Q228.287 834.425 225.209 839.031 Q222.153 843.614 216.343 843.614 Q210.533 843.614 207.454 839.031 Q204.399 834.425 204.399 825.698 Q204.399 816.948 207.454 812.365 Q210.533 807.758 216.343 807.758 Z\" fill=\"#000000\" fill-rule=\"nonzero\" fill-opacity=\"1\" /><path clip-path=\"url(#clip650)\" d=\"M119.885 627.426 L136.204 627.426 L136.204 631.362 L114.26 631.362 L114.26 627.426 Q116.922 624.672 121.505 620.042 Q126.112 615.389 127.292 614.047 Q129.538 611.524 130.417 609.788 Q131.32 608.028 131.32 606.339 Q131.32 603.584 129.376 601.848 Q127.455 600.112 124.353 600.112 Q122.154 600.112 119.7 600.876 Q117.269 601.639 114.492 603.19 L114.492 598.468 Q117.316 597.334 119.769 596.755 Q122.223 596.177 124.26 596.177 Q129.63 596.177 132.825 598.862 Q136.019 601.547 136.019 606.038 Q136.019 608.167 135.209 610.089 Q134.422 611.987 132.316 614.579 Q131.737 615.251 128.635 618.468 Q125.533 621.663 119.885 627.426 Z\" fill=\"#000000\" fill-rule=\"nonzero\" fill-opacity=\"1\" /><path clip-path=\"url(#clip650)\" d=\"M156.019 599.88 Q152.408 599.88 150.579 603.445 Q148.774 606.987 148.774 614.116 Q148.774 621.223 150.579 624.788 Q152.408 628.329 156.019 628.329 Q159.653 628.329 161.459 624.788 Q163.288 621.223 163.288 614.116 Q163.288 606.987 161.459 603.445 Q159.653 599.88 156.019 599.88 M156.019 596.177 Q161.829 596.177 164.885 600.783 Q167.964 605.366 167.964 614.116 Q167.964 622.843 164.885 627.45 Q161.829 632.033 156.019 632.033 Q150.209 632.033 147.13 627.45 Q144.075 622.843 144.075 614.116 Q144.075 605.366 147.13 600.783 Q150.209 596.177 156.019 596.177 Z\" fill=\"#000000\" fill-rule=\"nonzero\" fill-opacity=\"1\" /><path clip-path=\"url(#clip650)\" d=\"M186.181 599.88 Q182.57 599.88 180.741 603.445 Q178.936 606.987 178.936 614.116 Q178.936 621.223 180.741 624.788 Q182.57 628.329 186.181 628.329 Q189.815 628.329 191.621 624.788 Q193.45 621.223 193.45 614.116 Q193.45 606.987 191.621 603.445 Q189.815 599.88 186.181 599.88 M186.181 596.177 Q191.991 596.177 195.047 600.783 Q198.125 605.366 198.125 614.116 Q198.125 622.843 195.047 627.45 Q191.991 632.033 186.181 632.033 Q180.371 632.033 177.292 627.45 Q174.237 622.843 174.237 614.116 Q174.237 605.366 177.292 600.783 Q180.371 596.177 186.181 596.177 Z\" fill=\"#000000\" fill-rule=\"nonzero\" fill-opacity=\"1\" /><path clip-path=\"url(#clip650)\" d=\"M216.343 599.88 Q212.732 599.88 210.903 603.445 Q209.098 606.987 209.098 614.116 Q209.098 621.223 210.903 624.788 Q212.732 628.329 216.343 628.329 Q219.977 628.329 221.783 624.788 Q223.611 621.223 223.611 614.116 Q223.611 606.987 221.783 603.445 Q219.977 599.88 216.343 599.88 M216.343 596.177 Q222.153 596.177 225.209 600.783 Q228.287 605.366 228.287 614.116 Q228.287 622.843 225.209 627.45 Q222.153 632.033 216.343 632.033 Q210.533 632.033 207.454 627.45 Q204.399 622.843 204.399 614.116 Q204.399 605.366 207.454 600.783 Q210.533 596.177 216.343 596.177 Z\" fill=\"#000000\" fill-rule=\"nonzero\" fill-opacity=\"1\" /><path clip-path=\"url(#clip650)\" d=\"M119.885 415.845 L136.204 415.845 L136.204 419.78 L114.26 419.78 L114.26 415.845 Q116.922 413.09 121.505 408.461 Q126.112 403.808 127.292 402.465 Q129.538 399.942 130.417 398.206 Q131.32 396.447 131.32 394.757 Q131.32 392.002 129.376 390.266 Q127.455 388.53 124.353 388.53 Q122.154 388.53 119.7 389.294 Q117.269 390.058 114.492 391.609 L114.492 386.887 Q117.316 385.752 119.769 385.174 Q122.223 384.595 124.26 384.595 Q129.63 384.595 132.825 387.28 Q136.019 389.965 136.019 394.456 Q136.019 396.586 135.209 398.507 Q134.422 400.405 132.316 402.998 Q131.737 403.669 128.635 406.887 Q125.533 410.081 119.885 415.845 Z\" fill=\"#000000\" fill-rule=\"nonzero\" fill-opacity=\"1\" /><path clip-path=\"url(#clip650)\" d=\"M150.047 415.845 L166.366 415.845 L166.366 419.78 L144.422 419.78 L144.422 415.845 Q147.084 413.09 151.667 408.461 Q156.274 403.808 157.454 402.465 Q159.7 399.942 160.579 398.206 Q161.482 396.447 161.482 394.757 Q161.482 392.002 159.538 390.266 Q157.616 388.53 154.515 388.53 Q152.316 388.53 149.862 389.294 Q147.431 390.058 144.654 391.609 L144.654 386.887 Q147.478 385.752 149.931 385.174 Q152.385 384.595 154.422 384.595 Q159.792 384.595 162.987 387.28 Q166.181 389.965 166.181 394.456 Q166.181 396.586 165.371 398.507 Q164.584 400.405 162.477 402.998 Q161.899 403.669 158.797 406.887 Q155.695 410.081 150.047 415.845 Z\" fill=\"#000000\" fill-rule=\"nonzero\" fill-opacity=\"1\" /><path clip-path=\"url(#clip650)\" d=\"M186.181 388.299 Q182.57 388.299 180.741 391.864 Q178.936 395.405 178.936 402.535 Q178.936 409.641 180.741 413.206 Q182.57 416.748 186.181 416.748 Q189.815 416.748 191.621 413.206 Q193.45 409.641 193.45 402.535 Q193.45 395.405 191.621 391.864 Q189.815 388.299 186.181 388.299 M186.181 384.595 Q191.991 384.595 195.047 389.201 Q198.125 393.785 198.125 402.535 Q198.125 411.262 195.047 415.868 Q191.991 420.451 186.181 420.451 Q180.371 420.451 177.292 415.868 Q174.237 411.262 174.237 402.535 Q174.237 393.785 177.292 389.201 Q180.371 384.595 186.181 384.595 Z\" fill=\"#000000\" fill-rule=\"nonzero\" fill-opacity=\"1\" /><path clip-path=\"url(#clip650)\" d=\"M216.343 388.299 Q212.732 388.299 210.903 391.864 Q209.098 395.405 209.098 402.535 Q209.098 409.641 210.903 413.206 Q212.732 416.748 216.343 416.748 Q219.977 416.748 221.783 413.206 Q223.611 409.641 223.611 402.535 Q223.611 395.405 221.783 391.864 Q219.977 388.299 216.343 388.299 M216.343 384.595 Q222.153 384.595 225.209 389.201 Q228.287 393.785 228.287 402.535 Q228.287 411.262 225.209 415.868 Q222.153 420.451 216.343 420.451 Q210.533 420.451 207.454 415.868 Q204.399 411.262 204.399 402.535 Q204.399 393.785 207.454 389.201 Q210.533 384.595 216.343 384.595 Z\" fill=\"#000000\" fill-rule=\"nonzero\" fill-opacity=\"1\" /><path clip-path=\"url(#clip650)\" d=\"M119.885 204.263 L136.204 204.263 L136.204 208.199 L114.26 208.199 L114.26 204.263 Q116.922 201.509 121.505 196.879 Q126.112 192.226 127.292 190.884 Q129.538 188.361 130.417 186.625 Q131.32 184.865 131.32 183.176 Q131.32 180.421 129.376 178.685 Q127.455 176.949 124.353 176.949 Q122.154 176.949 119.7 177.713 Q117.269 178.476 114.492 180.027 L114.492 175.305 Q117.316 174.171 119.769 173.592 Q122.223 173.014 124.26 173.014 Q129.63 173.014 132.825 175.699 Q136.019 178.384 136.019 182.875 Q136.019 185.004 135.209 186.925 Q134.422 188.824 132.316 191.416 Q131.737 192.087 128.635 195.305 Q125.533 198.499 119.885 204.263 Z\" fill=\"#000000\" fill-rule=\"nonzero\" fill-opacity=\"1\" /><path clip-path=\"url(#clip650)\" d=\"M158.866 177.713 L147.061 196.162 L158.866 196.162 L158.866 177.713 M157.64 173.639 L163.519 173.639 L163.519 196.162 L168.45 196.162 L168.45 200.05 L163.519 200.05 L163.519 208.199 L158.866 208.199 L158.866 200.05 L143.265 200.05 L143.265 195.537 L157.64 173.639 Z\" fill=\"#000000\" fill-rule=\"nonzero\" fill-opacity=\"1\" /><path clip-path=\"url(#clip650)\" d=\"M186.181 176.717 Q182.57 176.717 180.741 180.282 Q178.936 183.824 178.936 190.953 Q178.936 198.06 180.741 201.624 Q182.57 205.166 186.181 205.166 Q189.815 205.166 191.621 201.624 Q193.45 198.06 193.45 190.953 Q193.45 183.824 191.621 180.282 Q189.815 176.717 186.181 176.717 M186.181 173.014 Q191.991 173.014 195.047 177.62 Q198.125 182.203 198.125 190.953 Q198.125 199.68 195.047 204.287 Q191.991 208.87 186.181 208.87 Q180.371 208.87 177.292 204.287 Q174.237 199.68 174.237 190.953 Q174.237 182.203 177.292 177.62 Q180.371 173.014 186.181 173.014 Z\" fill=\"#000000\" fill-rule=\"nonzero\" fill-opacity=\"1\" /><path clip-path=\"url(#clip650)\" d=\"M216.343 176.717 Q212.732 176.717 210.903 180.282 Q209.098 183.824 209.098 190.953 Q209.098 198.06 210.903 201.624 Q212.732 205.166 216.343 205.166 Q219.977 205.166 221.783 201.624 Q223.611 198.06 223.611 190.953 Q223.611 183.824 221.783 180.282 Q219.977 176.717 216.343 176.717 M216.343 173.014 Q222.153 173.014 225.209 177.62 Q228.287 182.203 228.287 190.953 Q228.287 199.68 225.209 204.287 Q222.153 208.87 216.343 208.87 Q210.533 208.87 207.454 204.287 Q204.399 199.68 204.399 190.953 Q204.399 182.203 207.454 177.62 Q210.533 173.014 216.343 173.014 Z\" fill=\"#000000\" fill-rule=\"nonzero\" fill-opacity=\"1\" /><path clip-path=\"url(#clip650)\" d=\"M42.4881 1009.19 L64.0042 1009.19 L64.0042 1015.05 L42.679 1015.05 Q37.6183 1015.05 35.1038 1017.02 Q32.5894 1019 32.5894 1022.94 Q32.5894 1027.68 35.6131 1030.42 Q38.6368 1033.16 43.8567 1033.16 L64.0042 1033.16 L64.0042 1039.05 L28.3562 1039.05 L28.3562 1033.16 L33.8944 1033.16 Q30.6797 1031.06 29.0883 1028.23 Q27.4968 1025.36 27.4968 1021.64 Q27.4968 1015.49 31.3163 1012.34 Q35.1038 1009.19 42.4881 1009.19 Z\" fill=\"#000000\" fill-rule=\"nonzero\" fill-opacity=\"1\" /><path clip-path=\"url(#clip650)\" d=\"M49.9359 998.116 L28.3562 998.116 L28.3562 992.259 L49.7131 992.259 Q54.7739 992.259 57.3202 990.286 Q59.8346 988.312 59.8346 984.366 Q59.8346 979.623 56.8109 976.886 Q53.7872 974.117 48.5673 974.117 L28.3562 974.117 L28.3562 968.26 L64.0042 968.26 L64.0042 974.117 L58.5296 974.117 Q61.7762 976.249 63.3676 979.082 Q64.9272 981.883 64.9272 985.607 Q64.9272 991.75 61.1078 994.933 Q57.2883 998.116 49.9359 998.116 M27.4968 983.379 L27.4968 983.379 Z\" fill=\"#000000\" fill-rule=\"nonzero\" fill-opacity=\"1\" /><path clip-path=\"url(#clip650)\" d=\"M35.1993 928.443 Q31.2526 926.247 29.3747 923.191 Q27.4968 920.136 27.4968 915.998 Q27.4968 910.428 31.4117 907.404 Q35.2948 904.381 42.4881 904.381 L64.0042 904.381 L64.0042 910.269 L42.679 910.269 Q37.5546 910.269 35.072 912.083 Q32.5894 913.897 32.5894 917.621 Q32.5894 922.173 35.6131 924.815 Q38.6368 927.456 43.8567 927.456 L64.0042 927.456 L64.0042 933.345 L42.679 933.345 Q37.5228 933.345 35.072 935.159 Q32.5894 936.973 32.5894 940.761 Q32.5894 945.248 35.6449 947.89 Q38.6686 950.532 43.8567 950.532 L64.0042 950.532 L64.0042 956.42 L28.3562 956.42 L28.3562 950.532 L33.8944 950.532 Q30.616 948.527 29.0564 945.726 Q27.4968 942.925 27.4968 939.074 Q27.4968 935.191 29.4702 932.485 Q31.4436 929.748 35.1993 928.443 Z\" fill=\"#000000\" fill-rule=\"nonzero\" fill-opacity=\"1\" /><path clip-path=\"url(#clip650)\" d=\"M46.212 867.109 Q39.7508 867.109 36.0905 869.783 Q32.3984 872.425 32.3984 877.072 Q32.3984 881.719 36.0905 884.392 Q39.7508 887.034 46.212 887.034 Q52.6732 887.034 56.3653 884.392 Q60.0256 881.719 60.0256 877.072 Q60.0256 872.425 56.3653 869.783 Q52.6732 867.109 46.212 867.109 M33.7671 887.034 Q30.5842 885.188 29.0564 882.387 Q27.4968 879.554 27.4968 875.639 Q27.4968 869.146 32.6531 865.104 Q37.8093 861.03 46.212 861.03 Q54.6147 861.03 59.771 865.104 Q64.9272 869.146 64.9272 875.639 Q64.9272 879.554 63.3994 882.387 Q61.8398 885.188 58.657 887.034 L64.0042 887.034 L64.0042 892.922 L14.479 892.922 L14.479 887.034 L33.7671 887.034 Z\" fill=\"#000000\" fill-rule=\"nonzero\" fill-opacity=\"1\" /><path clip-path=\"url(#clip650)\" d=\"M44.7161 820.831 L47.5806 820.831 L47.5806 847.758 Q53.6281 847.376 56.8109 844.129 Q59.9619 840.851 59.9619 835.026 Q59.9619 831.652 59.1344 828.501 Q58.3069 825.319 56.6518 822.199 L62.1899 822.199 Q63.5267 825.35 64.227 828.661 Q64.9272 831.971 64.9272 835.376 Q64.9272 843.906 59.9619 848.903 Q54.9967 853.869 46.5303 853.869 Q37.7774 853.869 32.6531 849.158 Q27.4968 844.416 27.4968 836.395 Q27.4968 829.202 32.1438 825.032 Q36.7589 820.831 44.7161 820.831 M42.9973 826.687 Q38.1912 826.751 35.3266 829.393 Q32.4621 832.003 32.4621 836.331 Q32.4621 841.233 35.2312 844.193 Q38.0002 847.121 43.0292 847.567 L42.9973 826.687 Z\" fill=\"#000000\" fill-rule=\"nonzero\" fill-opacity=\"1\" /><path clip-path=\"url(#clip650)\" d=\"M33.8307 790.562 Q33.2578 791.548 33.0032 792.726 Q32.7167 793.872 32.7167 795.272 Q32.7167 800.238 35.9632 802.911 Q39.1779 805.553 45.2253 805.553 L64.0042 805.553 L64.0042 811.441 L28.3562 811.441 L28.3562 805.553 L33.8944 805.553 Q30.6479 803.707 29.0883 800.747 Q27.4968 797.787 27.4968 793.554 Q27.4968 792.949 27.5923 792.217 Q27.656 791.485 27.8151 790.594 L33.8307 790.562 Z\" fill=\"#000000\" fill-rule=\"nonzero\" fill-opacity=\"1\" /><path clip-path=\"url(#clip650)\" d=\"M32.4621 749.885 Q32.4621 754.596 36.1542 757.333 Q39.8145 760.07 46.212 760.07 Q52.6095 760.07 56.3017 757.365 Q59.9619 754.627 59.9619 749.885 Q59.9619 745.206 56.2698 742.469 Q52.5777 739.732 46.212 739.732 Q39.8781 739.732 36.186 742.469 Q32.4621 745.206 32.4621 749.885 M27.4968 749.885 Q27.4968 742.246 32.4621 737.886 Q37.4273 733.525 46.212 733.525 Q54.9649 733.525 59.9619 737.886 Q64.9272 742.246 64.9272 749.885 Q64.9272 757.556 59.9619 761.916 Q54.9649 766.245 46.212 766.245 Q37.4273 766.245 32.4621 761.916 Q27.4968 757.556 27.4968 749.885 Z\" fill=\"#000000\" fill-rule=\"nonzero\" fill-opacity=\"1\" /><path clip-path=\"url(#clip650)\" d=\"M14.479 705.771 L19.3487 705.771 L19.3487 711.372 Q19.3487 714.523 20.6219 715.765 Q21.895 716.974 25.2052 716.974 L28.3562 716.974 L28.3562 707.33 L32.9077 707.33 L32.9077 716.974 L64.0042 716.974 L64.0042 722.862 L32.9077 722.862 L32.9077 728.464 L28.3562 728.464 L28.3562 722.862 L25.8736 722.862 Q19.9216 722.862 17.2162 720.093 Q14.479 717.324 14.479 711.309 L14.479 705.771 Z\" fill=\"#000000\" fill-rule=\"nonzero\" fill-opacity=\"1\" /><path clip-path=\"url(#clip650)\" d=\"M58.657 674.483 L77.5631 674.483 L77.5631 680.371 L28.3562 680.371 L28.3562 674.483 L33.7671 674.483 Q30.5842 672.637 29.0564 669.836 Q27.4968 667.003 27.4968 663.089 Q27.4968 656.595 32.6531 652.553 Q37.8093 648.479 46.212 648.479 Q54.6147 648.479 59.771 652.553 Q64.9272 656.595 64.9272 663.089 Q64.9272 667.003 63.3994 669.836 Q61.8398 672.637 58.657 674.483 M46.212 654.558 Q39.7508 654.558 36.0905 657.232 Q32.3984 659.874 32.3984 664.521 Q32.3984 669.168 36.0905 671.841 Q39.7508 674.483 46.212 674.483 Q52.6732 674.483 56.3653 671.841 Q60.0256 669.168 60.0256 664.521 Q60.0256 659.874 56.3653 657.232 Q52.6732 654.558 46.212 654.558 Z\" fill=\"#000000\" fill-rule=\"nonzero\" fill-opacity=\"1\" /><path clip-path=\"url(#clip650)\" d=\"M46.0847 622.571 Q46.0847 629.669 47.7079 632.406 Q49.3312 635.143 53.2461 635.143 Q56.3653 635.143 58.2114 633.106 Q60.0256 631.037 60.0256 627.504 Q60.0256 622.634 56.5881 619.706 Q53.1188 616.746 47.3897 616.746 L46.0847 616.746 L46.0847 622.571 M43.6657 610.89 L64.0042 610.89 L64.0042 616.746 L58.5933 616.746 Q61.8398 618.751 63.3994 621.743 Q64.9272 624.735 64.9272 629.064 Q64.9272 634.538 61.8716 637.785 Q58.7843 641 53.6281 641 Q47.6125 641 44.5569 636.989 Q41.5014 632.947 41.5014 624.958 L41.5014 616.746 L40.9285 616.746 Q36.8862 616.746 34.6901 619.42 Q32.4621 622.062 32.4621 626.868 Q32.4621 629.923 33.1941 632.82 Q33.9262 635.716 35.3903 638.39 L29.9795 638.39 Q28.7381 635.175 28.1334 632.151 Q27.4968 629.127 27.4968 626.263 Q27.4968 618.529 31.5072 614.709 Q35.5176 610.89 43.6657 610.89 Z\" fill=\"#000000\" fill-rule=\"nonzero\" fill-opacity=\"1\" /><path clip-path=\"url(#clip650)\" d=\"M18.2347 593.034 L28.3562 593.034 L28.3562 580.971 L32.9077 580.971 L32.9077 593.034 L52.2594 593.034 Q56.6199 593.034 57.8613 591.856 Q59.1026 590.647 59.1026 586.986 L59.1026 580.971 L64.0042 580.971 L64.0042 586.986 Q64.0042 593.766 61.4897 596.344 Q58.9434 598.922 52.2594 598.922 L32.9077 598.922 L32.9077 603.219 L28.3562 603.219 L28.3562 598.922 L18.2347 598.922 L18.2347 593.034 Z\" fill=\"#000000\" fill-rule=\"nonzero\" fill-opacity=\"1\" /><path clip-path=\"url(#clip650)\" d=\"M29.7248 547.615 L35.1993 547.615 Q33.8307 550.097 33.1623 552.612 Q32.4621 555.094 32.4621 557.641 Q32.4621 563.338 36.0905 566.489 Q39.6872 569.64 46.212 569.64 Q52.7369 569.64 56.3653 566.489 Q59.9619 563.338 59.9619 557.641 Q59.9619 555.094 59.2935 552.612 Q58.5933 550.097 57.2247 547.615 L62.6355 547.615 Q63.7814 550.065 64.3543 552.707 Q64.9272 555.317 64.9272 558.277 Q64.9272 566.33 59.8664 571.072 Q54.8057 575.815 46.212 575.815 Q37.491 575.815 32.4939 571.04 Q27.4968 566.234 27.4968 557.895 Q27.4968 555.19 28.0697 552.612 Q28.6108 550.034 29.7248 547.615 Z\" fill=\"#000000\" fill-rule=\"nonzero\" fill-opacity=\"1\" /><path clip-path=\"url(#clip650)\" d=\"M42.4881 507.797 L64.0042 507.797 L64.0042 513.654 L42.679 513.654 Q37.6183 513.654 35.1038 515.627 Q32.5894 517.6 32.5894 521.547 Q32.5894 526.289 35.6131 529.027 Q38.6368 531.764 43.8567 531.764 L64.0042 531.764 L64.0042 537.652 L14.479 537.652 L14.479 531.764 L33.8944 531.764 Q30.6797 529.663 29.0883 526.831 Q27.4968 523.966 27.4968 520.242 Q27.4968 514.099 31.3163 510.948 Q35.1038 507.797 42.4881 507.797 Z\" fill=\"#000000\" fill-rule=\"nonzero\" fill-opacity=\"1\" /><path clip-path=\"url(#clip650)\" d=\"M44.7161 465.624 L47.5806 465.624 L47.5806 492.551 Q53.6281 492.169 56.8109 488.923 Q59.9619 485.644 59.9619 479.82 Q59.9619 476.446 59.1344 473.295 Q58.3069 470.112 56.6518 466.993 L62.1899 466.993 Q63.5267 470.144 64.227 473.454 Q64.9272 476.764 64.9272 480.17 Q64.9272 488.7 59.9619 493.697 Q54.9967 498.662 46.5303 498.662 Q37.7774 498.662 32.6531 493.952 Q27.4968 489.209 27.4968 481.188 Q27.4968 473.995 32.1438 469.826 Q36.7589 465.624 44.7161 465.624 M42.9973 471.481 Q38.1912 471.544 35.3266 474.186 Q32.4621 476.796 32.4621 481.125 Q32.4621 486.026 35.2312 488.986 Q38.0002 491.915 43.0292 492.36 L42.9973 471.481 Z\" fill=\"#000000\" fill-rule=\"nonzero\" fill-opacity=\"1\" /><path clip-path=\"url(#clip650)\" d=\"M29.4065 433.287 L34.9447 433.287 Q33.6716 435.769 33.035 438.443 Q32.3984 441.116 32.3984 443.981 Q32.3984 448.341 33.7352 450.538 Q35.072 452.702 37.7456 452.702 Q39.7826 452.702 40.9603 451.142 Q42.1061 449.583 43.1565 444.872 L43.6021 442.867 Q44.9389 436.628 47.3897 434.019 Q49.8086 431.377 54.1691 431.377 Q59.1344 431.377 62.0308 435.324 Q64.9272 439.238 64.9272 446.113 Q64.9272 448.978 64.3543 452.097 Q63.8132 455.185 62.6992 458.622 L56.6518 458.622 Q58.3387 455.376 59.198 452.224 Q60.0256 449.073 60.0256 445.986 Q60.0256 441.848 58.6251 439.62 Q57.1929 437.392 54.6147 437.392 Q52.2276 437.392 50.9545 439.016 Q49.6813 440.607 48.5037 446.05 L48.0262 448.087 Q46.8804 453.529 44.5251 455.948 Q42.138 458.367 38.0002 458.367 Q32.9713 458.367 30.2341 454.803 Q27.4968 451.238 27.4968 444.681 Q27.4968 441.435 27.9743 438.57 Q28.4517 435.705 29.4065 433.287 Z\" fill=\"#000000\" fill-rule=\"nonzero\" fill-opacity=\"1\" /><polyline clip-path=\"url(#clip652)\" style=\"stroke:#009af9; stroke-linecap:round; stroke-linejoin:round; stroke-width:4; stroke-opacity:1; fill:none\" points=\"323.395,86.1857 333.246,89.3594 343.097,92.5331 352.949,98.8806 362.8,103.112 372.651,112.633 382.503,117.923 392.354,130.618 402.205,138.023 412.056,150.718 421.908,162.355 431.759,177.166 441.61,189.861 451.461,209.961 461.313,223.714 471.164,246.988 481.015,262.856 490.866,282.956 500.718,304.115 510.569,329.504 520.42,351.72 530.272,376.052 540.123,400.384 549.974,430.006 559.825,456.453 569.677,482.901 579.528,507.233 589.379,534.738 599.23,563.302 609.082,589.75 618.933,617.255 628.784,645.819 638.635,665.919 648.487,696.598 658.338,718.814 668.189,750.552 678.041,770.652 687.892,799.215 697.743,826.721 707.594,849.995 717.446,880.674 727.297,905.006 737.148,933.57 746.999,960.017 756.851,981.175 766.702,1007.62 776.553,1033.01 786.404,1061.58 796.256,1086.97 806.107,1111.3 815.958,1137.75 825.81,1155.73 835.661,1174.77 845.512,1194.87 855.363,1216.03 865.215,1236.13 875.066,1256.23 884.917,1271.04 894.768,1285.85 904.62,1300.66 914.471,1319.71 924.322,1329.23 934.173,1340.86 944.025,1344.04 953.876,1355.67 963.727,1356.73 973.579,1370.49 983.43,1373.66 993.281,1375.78 1003.13,1380.01 1012.98,1383.18 1022.83,1381.06 1032.69,1384.24 1042.54,1380.01 1052.39,1380.01 1062.24,1380.01 1072.09,1380.01 1081.94,1378.95 1091.79,1378.95 1101.65,1375.78 1111.5,1374.72 1121.35,1373.66 1131.2,1380.01 1141.05,1373.66 1150.9,1375.78 1160.75,1373.66 1170.6,1375.78 1180.46,1372.6 1190.31,1369.43 1200.16,1375.78 1210.01,1369.43 1219.86,1372.6 1229.71,1370.49 1239.56,1369.43 1249.41,1378.95 1259.27,1376.83 1269.12,1373.66 1278.97,1371.54 1288.82,1371.54 1298.67,1374.72 1308.52,1372.6 1318.37,1375.78 1328.22,1383.18 1338.08,1380.01 1347.93,1377.89 1357.78,1372.6 1367.63,1373.66 1377.48,1373.66 1387.33,1375.78 1397.18,1371.54 1407.03,1365.2 1416.89,1369.43 1426.74,1370.49 1436.59,1373.66 1446.44,1373.66 1456.29,1373.66 1466.14,1372.6 1475.99,1373.66 1485.84,1378.95 1495.7,1373.66 1505.55,1374.72 1515.4,1376.83 1525.25,1376.83 1535.1,1376.83 1544.95,1374.72 1554.8,1375.78 1564.65,1375.78 1574.51,1377.89 1584.36,1372.6 1594.21,1376.83 1604.06,1374.72 1613.91,1371.54 1623.76,1370.49 1633.61,1371.54 1643.46,1373.66 1653.32,1369.43 1663.17,1373.66 1673.02,1373.66 1682.87,1375.78 1692.72,1371.54 1702.57,1373.66 1712.42,1371.54 1722.27,1371.54 1732.13,1371.54 1741.98,1367.31 1751.83,1368.37 1761.68,1372.6 1771.53,1371.54 1781.38,1372.6 1791.23,1370.49 1801.08,1371.54 1810.94,1372.6 1820.79,1369.43 1830.64,1371.54 1840.49,1374.72 1850.34,1375.78 1860.19,1375.78 1870.04,1373.66 1879.9,1375.78 1889.75,1377.89 1899.6,1380.01 1909.45,1376.83 1919.3,1377.89 1929.15,1376.83 1939,1377.89 1948.85,1378.95 1958.71,1376.83 1968.56,1377.89 1978.41,1375.78 1988.26,1376.83 1998.11,1376.83 2007.96,1377.89 2017.81,1376.83 2027.66,1376.83 2037.52,1378.95 2047.37,1376.83 2057.22,1378.95 2067.07,1375.78 2076.92,1378.95 2086.77,1376.83 2096.62,1378.95 2106.47,1380.01 2116.33,1381.06 2126.18,1381.06 2136.03,1381.06 2145.88,1381.06 2155.73,1381.06 2165.58,1381.06 2175.43,1381.06 2185.28,1381.06 2195.14,1381.06 2204.99,1381.06 2214.84,1381.06 2224.69,1381.06 2234.54,1381.06 2244.39,1381.06 2254.24,1381.06 2264.09,1381.06 2273.95,1381.06 2283.8,1381.06 2293.65,1381.06 \"/>\n",
       "<path clip-path=\"url(#clip650)\" d=\"M1949.06 196.789 L2283.14 196.789 L2283.14 93.1086 L1949.06 93.1086  Z\" fill=\"#ffffff\" fill-rule=\"evenodd\" fill-opacity=\"1\"/>\n",
       "<polyline clip-path=\"url(#clip650)\" style=\"stroke:#000000; stroke-linecap:round; stroke-linejoin:round; stroke-width:4; stroke-opacity:1; fill:none\" points=\"1949.06,196.789 2283.14,196.789 2283.14,93.1086 1949.06,93.1086 1949.06,196.789 \"/>\n",
       "<polyline clip-path=\"url(#clip650)\" style=\"stroke:#009af9; stroke-linecap:round; stroke-linejoin:round; stroke-width:4; stroke-opacity:1; fill:none\" points=\"1972.27,144.949 2111.5,144.949 \"/>\n",
       "<path clip-path=\"url(#clip650)\" d=\"M2134.7 136.303 L2138.96 136.303 L2144.29 156.534 L2149.59 136.303 L2154.61 136.303 L2159.94 156.534 L2165.24 136.303 L2169.5 136.303 L2162.71 162.229 L2157.69 162.229 L2152.11 140.979 L2146.51 162.229 L2141.49 162.229 L2134.7 136.303 Z\" fill=\"#000000\" fill-rule=\"nonzero\" fill-opacity=\"1\" /><path clip-path=\"url(#clip650)\" d=\"M2197.5 146.581 L2197.5 162.229 L2193.25 162.229 L2193.25 146.719 Q2193.25 143.039 2191.81 141.21 Q2190.38 139.382 2187.5 139.382 Q2184.06 139.382 2182.07 141.581 Q2180.07 143.78 2180.07 147.576 L2180.07 162.229 L2175.79 162.229 L2175.79 126.21 L2180.07 126.21 L2180.07 140.331 Q2181.6 137.993 2183.66 136.835 Q2185.75 135.678 2188.45 135.678 Q2192.92 135.678 2195.21 138.456 Q2197.5 141.21 2197.5 146.581 Z\" fill=\"#000000\" fill-rule=\"nonzero\" fill-opacity=\"1\" /><path clip-path=\"url(#clip650)\" d=\"M2206 136.303 L2210.26 136.303 L2210.26 162.229 L2206 162.229 L2206 136.303 M2206 126.21 L2210.26 126.21 L2210.26 131.604 L2206 131.604 L2206 126.21 Z\" fill=\"#000000\" fill-rule=\"nonzero\" fill-opacity=\"1\" /><path clip-path=\"url(#clip650)\" d=\"M2223.38 128.942 L2223.38 136.303 L2232.16 136.303 L2232.16 139.613 L2223.38 139.613 L2223.38 153.687 Q2223.38 156.858 2224.24 157.761 Q2225.12 158.664 2227.78 158.664 L2232.16 158.664 L2232.16 162.229 L2227.78 162.229 Q2222.85 162.229 2220.98 160.4 Q2219.1 158.548 2219.1 153.687 L2219.1 139.613 L2215.98 139.613 L2215.98 136.303 L2219.1 136.303 L2219.1 128.942 L2223.38 128.942 Z\" fill=\"#000000\" fill-rule=\"nonzero\" fill-opacity=\"1\" /><path clip-path=\"url(#clip650)\" d=\"M2259.94 148.201 L2259.94 150.284 L2240.35 150.284 Q2240.63 154.682 2242.99 156.997 Q2245.37 159.289 2249.61 159.289 Q2252.06 159.289 2254.36 158.687 Q2256.67 158.085 2258.94 156.881 L2258.94 160.909 Q2256.65 161.881 2254.24 162.391 Q2251.83 162.9 2249.36 162.9 Q2243.15 162.9 2239.52 159.289 Q2235.91 155.678 2235.91 149.52 Q2235.91 143.155 2239.33 139.428 Q2242.78 135.678 2248.62 135.678 Q2253.85 135.678 2256.88 139.057 Q2259.94 142.414 2259.94 148.201 M2255.68 146.951 Q2255.63 143.456 2253.71 141.372 Q2251.81 139.289 2248.66 139.289 Q2245.1 139.289 2242.94 141.303 Q2240.81 143.317 2240.49 146.974 L2255.68 146.951 Z\" fill=\"#000000\" fill-rule=\"nonzero\" fill-opacity=\"1\" /></svg>\n"
      ],
      "text/html": [
       "<?xml version=\"1.0\" encoding=\"utf-8\"?>\n",
       "<svg xmlns=\"http://www.w3.org/2000/svg\" xmlns:xlink=\"http://www.w3.org/1999/xlink\" width=\"600\" height=\"400\" viewBox=\"0 0 2400 1600\">\n",
       "<defs>\n",
       "  <clipPath id=\"clip700\">\n",
       "    <rect x=\"0\" y=\"0\" width=\"2400\" height=\"1600\"/>\n",
       "  </clipPath>\n",
       "</defs>\n",
       "<path clip-path=\"url(#clip700)\" d=\"M0 1600 L2400 1600 L2400 0 L0 0  Z\" fill=\"#ffffff\" fill-rule=\"evenodd\" fill-opacity=\"1\"/>\n",
       "<defs>\n",
       "  <clipPath id=\"clip701\">\n",
       "    <rect x=\"480\" y=\"0\" width=\"1681\" height=\"1600\"/>\n",
       "  </clipPath>\n",
       "</defs>\n",
       "<path clip-path=\"url(#clip700)\" d=\"M264.287 1423.18 L2352.76 1423.18 L2352.76 47.2441 L264.287 47.2441  Z\" fill=\"#ffffff\" fill-rule=\"evenodd\" fill-opacity=\"1\"/>\n",
       "<defs>\n",
       "  <clipPath id=\"clip702\">\n",
       "    <rect x=\"264\" y=\"47\" width=\"2089\" height=\"1377\"/>\n",
       "  </clipPath>\n",
       "</defs>\n",
       "<polyline clip-path=\"url(#clip702)\" style=\"stroke:#000000; stroke-linecap:round; stroke-linejoin:round; stroke-width:2; stroke-opacity:0.1; fill:none\" points=\"313.544,1423.18 313.544,47.2441 \"/>\n",
       "<polyline clip-path=\"url(#clip702)\" style=\"stroke:#000000; stroke-linecap:round; stroke-linejoin:round; stroke-width:2; stroke-opacity:0.1; fill:none\" points=\"806.107,1423.18 806.107,47.2441 \"/>\n",
       "<polyline clip-path=\"url(#clip702)\" style=\"stroke:#000000; stroke-linecap:round; stroke-linejoin:round; stroke-width:2; stroke-opacity:0.1; fill:none\" points=\"1298.67,1423.18 1298.67,47.2441 \"/>\n",
       "<polyline clip-path=\"url(#clip702)\" style=\"stroke:#000000; stroke-linecap:round; stroke-linejoin:round; stroke-width:2; stroke-opacity:0.1; fill:none\" points=\"1791.23,1423.18 1791.23,47.2441 \"/>\n",
       "<polyline clip-path=\"url(#clip702)\" style=\"stroke:#000000; stroke-linecap:round; stroke-linejoin:round; stroke-width:2; stroke-opacity:0.1; fill:none\" points=\"2283.8,1423.18 2283.8,47.2441 \"/>\n",
       "<polyline clip-path=\"url(#clip700)\" style=\"stroke:#000000; stroke-linecap:round; stroke-linejoin:round; stroke-width:4; stroke-opacity:1; fill:none\" points=\"264.287,1423.18 2352.76,1423.18 \"/>\n",
       "<polyline clip-path=\"url(#clip700)\" style=\"stroke:#000000; stroke-linecap:round; stroke-linejoin:round; stroke-width:4; stroke-opacity:1; fill:none\" points=\"313.544,1423.18 313.544,1404.28 \"/>\n",
       "<polyline clip-path=\"url(#clip700)\" style=\"stroke:#000000; stroke-linecap:round; stroke-linejoin:round; stroke-width:4; stroke-opacity:1; fill:none\" points=\"806.107,1423.18 806.107,1404.28 \"/>\n",
       "<polyline clip-path=\"url(#clip700)\" style=\"stroke:#000000; stroke-linecap:round; stroke-linejoin:round; stroke-width:4; stroke-opacity:1; fill:none\" points=\"1298.67,1423.18 1298.67,1404.28 \"/>\n",
       "<polyline clip-path=\"url(#clip700)\" style=\"stroke:#000000; stroke-linecap:round; stroke-linejoin:round; stroke-width:4; stroke-opacity:1; fill:none\" points=\"1791.23,1423.18 1791.23,1404.28 \"/>\n",
       "<polyline clip-path=\"url(#clip700)\" style=\"stroke:#000000; stroke-linecap:round; stroke-linejoin:round; stroke-width:4; stroke-opacity:1; fill:none\" points=\"2283.8,1423.18 2283.8,1404.28 \"/>\n",
       "<path clip-path=\"url(#clip700)\" d=\"M313.544 1454.1 Q309.933 1454.1 308.104 1457.66 Q306.298 1461.2 306.298 1468.33 Q306.298 1475.44 308.104 1479.01 Q309.933 1482.55 313.544 1482.55 Q317.178 1482.55 318.983 1479.01 Q320.812 1475.44 320.812 1468.33 Q320.812 1461.2 318.983 1457.66 Q317.178 1454.1 313.544 1454.1 M313.544 1450.39 Q319.354 1450.39 322.409 1455 Q325.488 1459.58 325.488 1468.33 Q325.488 1477.06 322.409 1481.67 Q319.354 1486.25 313.544 1486.25 Q307.734 1486.25 304.655 1481.67 Q301.599 1477.06 301.599 1468.33 Q301.599 1459.58 304.655 1455 Q307.734 1450.39 313.544 1450.39 Z\" fill=\"#000000\" fill-rule=\"nonzero\" fill-opacity=\"1\" /><path clip-path=\"url(#clip700)\" d=\"M780.806 1451.02 L799.163 1451.02 L799.163 1454.96 L785.089 1454.96 L785.089 1463.43 Q786.107 1463.08 787.126 1462.92 Q788.144 1462.73 789.163 1462.73 Q794.95 1462.73 798.329 1465.9 Q801.709 1469.08 801.709 1474.49 Q801.709 1480.07 798.237 1483.17 Q794.764 1486.25 788.445 1486.25 Q786.269 1486.25 784.001 1485.88 Q781.755 1485.51 779.348 1484.77 L779.348 1480.07 Q781.431 1481.2 783.653 1481.76 Q785.876 1482.32 788.352 1482.32 Q792.357 1482.32 794.695 1480.21 Q797.033 1478.1 797.033 1474.49 Q797.033 1470.88 794.695 1468.77 Q792.357 1466.67 788.352 1466.67 Q786.477 1466.67 784.602 1467.08 Q782.751 1467.5 780.806 1468.38 L780.806 1451.02 Z\" fill=\"#000000\" fill-rule=\"nonzero\" fill-opacity=\"1\" /><path clip-path=\"url(#clip700)\" d=\"M820.922 1454.1 Q817.311 1454.1 815.482 1457.66 Q813.676 1461.2 813.676 1468.33 Q813.676 1475.44 815.482 1479.01 Q817.311 1482.55 820.922 1482.55 Q824.556 1482.55 826.362 1479.01 Q828.19 1475.44 828.19 1468.33 Q828.19 1461.2 826.362 1457.66 Q824.556 1454.1 820.922 1454.1 M820.922 1450.39 Q826.732 1450.39 829.787 1455 Q832.866 1459.58 832.866 1468.33 Q832.866 1477.06 829.787 1481.67 Q826.732 1486.25 820.922 1486.25 Q815.112 1486.25 812.033 1481.67 Q808.977 1477.06 808.977 1468.33 Q808.977 1459.58 812.033 1455 Q815.112 1450.39 820.922 1450.39 Z\" fill=\"#000000\" fill-rule=\"nonzero\" fill-opacity=\"1\" /><path clip-path=\"url(#clip700)\" d=\"M1258.28 1481.64 L1265.92 1481.64 L1265.92 1455.28 L1257.61 1456.95 L1257.61 1452.69 L1265.87 1451.02 L1270.55 1451.02 L1270.55 1481.64 L1278.18 1481.64 L1278.18 1485.58 L1258.28 1485.58 L1258.28 1481.64 Z\" fill=\"#000000\" fill-rule=\"nonzero\" fill-opacity=\"1\" /><path clip-path=\"url(#clip700)\" d=\"M1297.63 1454.1 Q1294.02 1454.1 1292.19 1457.66 Q1290.38 1461.2 1290.38 1468.33 Q1290.38 1475.44 1292.19 1479.01 Q1294.02 1482.55 1297.63 1482.55 Q1301.26 1482.55 1303.07 1479.01 Q1304.9 1475.44 1304.9 1468.33 Q1304.9 1461.2 1303.07 1457.66 Q1301.26 1454.1 1297.63 1454.1 M1297.63 1450.39 Q1303.44 1450.39 1306.49 1455 Q1309.57 1459.58 1309.57 1468.33 Q1309.57 1477.06 1306.49 1481.67 Q1303.44 1486.25 1297.63 1486.25 Q1291.82 1486.25 1288.74 1481.67 Q1285.68 1477.06 1285.68 1468.33 Q1285.68 1459.58 1288.74 1455 Q1291.82 1450.39 1297.63 1450.39 Z\" fill=\"#000000\" fill-rule=\"nonzero\" fill-opacity=\"1\" /><path clip-path=\"url(#clip700)\" d=\"M1327.79 1454.1 Q1324.18 1454.1 1322.35 1457.66 Q1320.55 1461.2 1320.55 1468.33 Q1320.55 1475.44 1322.35 1479.01 Q1324.18 1482.55 1327.79 1482.55 Q1331.42 1482.55 1333.23 1479.01 Q1335.06 1475.44 1335.06 1468.33 Q1335.06 1461.2 1333.23 1457.66 Q1331.42 1454.1 1327.79 1454.1 M1327.79 1450.39 Q1333.6 1450.39 1336.66 1455 Q1339.73 1459.58 1339.73 1468.33 Q1339.73 1477.06 1336.66 1481.67 Q1333.6 1486.25 1327.79 1486.25 Q1321.98 1486.25 1318.9 1481.67 Q1315.85 1477.06 1315.85 1468.33 Q1315.85 1459.58 1318.9 1455 Q1321.98 1450.39 1327.79 1450.39 Z\" fill=\"#000000\" fill-rule=\"nonzero\" fill-opacity=\"1\" /><path clip-path=\"url(#clip700)\" d=\"M1750.84 1481.64 L1758.48 1481.64 L1758.48 1455.28 L1750.17 1456.95 L1750.17 1452.69 L1758.43 1451.02 L1763.11 1451.02 L1763.11 1481.64 L1770.75 1481.64 L1770.75 1485.58 L1750.84 1485.58 L1750.84 1481.64 Z\" fill=\"#000000\" fill-rule=\"nonzero\" fill-opacity=\"1\" /><path clip-path=\"url(#clip700)\" d=\"M1780.24 1451.02 L1798.59 1451.02 L1798.59 1454.96 L1784.52 1454.96 L1784.52 1463.43 Q1785.54 1463.08 1786.56 1462.92 Q1787.58 1462.73 1788.59 1462.73 Q1794.38 1462.73 1797.76 1465.9 Q1801.14 1469.08 1801.14 1474.49 Q1801.14 1480.07 1797.67 1483.17 Q1794.2 1486.25 1787.88 1486.25 Q1785.7 1486.25 1783.43 1485.88 Q1781.19 1485.51 1778.78 1484.77 L1778.78 1480.07 Q1780.86 1481.2 1783.09 1481.76 Q1785.31 1482.32 1787.78 1482.32 Q1791.79 1482.32 1794.13 1480.21 Q1796.47 1478.1 1796.47 1474.49 Q1796.47 1470.88 1794.13 1468.77 Q1791.79 1466.67 1787.78 1466.67 Q1785.91 1466.67 1784.03 1467.08 Q1782.18 1467.5 1780.24 1468.38 L1780.24 1451.02 Z\" fill=\"#000000\" fill-rule=\"nonzero\" fill-opacity=\"1\" /><path clip-path=\"url(#clip700)\" d=\"M1820.35 1454.1 Q1816.74 1454.1 1814.91 1457.66 Q1813.11 1461.2 1813.11 1468.33 Q1813.11 1475.44 1814.91 1479.01 Q1816.74 1482.55 1820.35 1482.55 Q1823.99 1482.55 1825.79 1479.01 Q1827.62 1475.44 1827.62 1468.33 Q1827.62 1461.2 1825.79 1457.66 Q1823.99 1454.1 1820.35 1454.1 M1820.35 1450.39 Q1826.16 1450.39 1829.22 1455 Q1832.3 1459.58 1832.3 1468.33 Q1832.3 1477.06 1829.22 1481.67 Q1826.16 1486.25 1820.35 1486.25 Q1814.54 1486.25 1811.47 1481.67 Q1808.41 1477.06 1808.41 1468.33 Q1808.41 1459.58 1811.47 1455 Q1814.54 1450.39 1820.35 1450.39 Z\" fill=\"#000000\" fill-rule=\"nonzero\" fill-opacity=\"1\" /><path clip-path=\"url(#clip700)\" d=\"M2247.49 1481.64 L2263.81 1481.64 L2263.81 1485.58 L2241.86 1485.58 L2241.86 1481.64 Q2244.53 1478.89 2249.11 1474.26 Q2253.72 1469.61 2254.9 1468.27 Q2257.14 1465.74 2258.02 1464.01 Q2258.92 1462.25 2258.92 1460.56 Q2258.92 1457.8 2256.98 1456.07 Q2255.06 1454.33 2251.96 1454.33 Q2249.76 1454.33 2247.3 1455.09 Q2244.87 1455.86 2242.1 1457.41 L2242.1 1452.69 Q2244.92 1451.55 2247.37 1450.97 Q2249.83 1450.39 2251.86 1450.39 Q2257.23 1450.39 2260.43 1453.08 Q2263.62 1455.77 2263.62 1460.26 Q2263.62 1462.39 2262.81 1464.31 Q2262.03 1466.2 2259.92 1468.8 Q2259.34 1469.47 2256.24 1472.69 Q2253.14 1475.88 2247.49 1481.64 Z\" fill=\"#000000\" fill-rule=\"nonzero\" fill-opacity=\"1\" /><path clip-path=\"url(#clip700)\" d=\"M2283.62 1454.1 Q2280.01 1454.1 2278.18 1457.66 Q2276.38 1461.2 2276.38 1468.33 Q2276.38 1475.44 2278.18 1479.01 Q2280.01 1482.55 2283.62 1482.55 Q2287.26 1482.55 2289.06 1479.01 Q2290.89 1475.44 2290.89 1468.33 Q2290.89 1461.2 2289.06 1457.66 Q2287.26 1454.1 2283.62 1454.1 M2283.62 1450.39 Q2289.43 1450.39 2292.49 1455 Q2295.57 1459.58 2295.57 1468.33 Q2295.57 1477.06 2292.49 1481.67 Q2289.43 1486.25 2283.62 1486.25 Q2277.81 1486.25 2274.73 1481.67 Q2271.68 1477.06 2271.68 1468.33 Q2271.68 1459.58 2274.73 1455 Q2277.81 1450.39 2283.62 1450.39 Z\" fill=\"#000000\" fill-rule=\"nonzero\" fill-opacity=\"1\" /><path clip-path=\"url(#clip700)\" d=\"M2313.79 1454.1 Q2310.17 1454.1 2308.35 1457.66 Q2306.54 1461.2 2306.54 1468.33 Q2306.54 1475.44 2308.35 1479.01 Q2310.17 1482.55 2313.79 1482.55 Q2317.42 1482.55 2319.23 1479.01 Q2321.05 1475.44 2321.05 1468.33 Q2321.05 1461.2 2319.23 1457.66 Q2317.42 1454.1 2313.79 1454.1 M2313.79 1450.39 Q2319.6 1450.39 2322.65 1455 Q2325.73 1459.58 2325.73 1468.33 Q2325.73 1477.06 2322.65 1481.67 Q2319.6 1486.25 2313.79 1486.25 Q2307.98 1486.25 2304.9 1481.67 Q2301.84 1477.06 2301.84 1468.33 Q2301.84 1459.58 2304.9 1455 Q2307.98 1450.39 2313.79 1450.39 Z\" fill=\"#000000\" fill-rule=\"nonzero\" fill-opacity=\"1\" /><path clip-path=\"url(#clip700)\" d=\"M1245.56 1522.27 L1245.56 1532.4 L1257.63 1532.4 L1257.63 1536.95 L1245.56 1536.95 L1245.56 1556.3 Q1245.56 1560.66 1246.74 1561.9 Q1247.95 1563.14 1251.61 1563.14 L1257.63 1563.14 L1257.63 1568.04 L1251.61 1568.04 Q1244.83 1568.04 1242.25 1565.53 Q1239.68 1562.98 1239.68 1556.3 L1239.68 1536.95 L1235.38 1536.95 L1235.38 1532.4 L1239.68 1532.4 L1239.68 1522.27 L1245.56 1522.27 Z\" fill=\"#000000\" fill-rule=\"nonzero\" fill-opacity=\"1\" /><path clip-path=\"url(#clip700)\" d=\"M1265.33 1532.4 L1271.19 1532.4 L1271.19 1568.04 L1265.33 1568.04 L1265.33 1532.4 M1265.33 1518.52 L1271.19 1518.52 L1271.19 1525.93 L1265.33 1525.93 L1265.33 1518.52 Z\" fill=\"#000000\" fill-rule=\"nonzero\" fill-opacity=\"1\" /><path clip-path=\"url(#clip700)\" d=\"M1309.09 1533.76 L1309.09 1539.24 Q1306.61 1537.87 1304.1 1537.2 Q1301.61 1536.5 1299.07 1536.5 Q1293.37 1536.5 1290.22 1540.13 Q1287.07 1543.73 1287.07 1550.25 Q1287.07 1556.78 1290.22 1560.4 Q1293.37 1564 1299.07 1564 Q1301.61 1564 1304.1 1563.33 Q1306.61 1562.63 1309.09 1561.26 L1309.09 1566.68 Q1306.64 1567.82 1304 1568.39 Q1301.39 1568.97 1298.43 1568.97 Q1290.38 1568.97 1285.64 1563.91 Q1280.89 1558.85 1280.89 1550.25 Q1280.89 1541.53 1285.67 1536.53 Q1290.47 1531.54 1298.81 1531.54 Q1301.52 1531.54 1304.1 1532.11 Q1306.68 1532.65 1309.09 1533.76 Z\" fill=\"#000000\" fill-rule=\"nonzero\" fill-opacity=\"1\" /><path clip-path=\"url(#clip700)\" d=\"M1319.06 1518.52 L1324.95 1518.52 L1324.95 1547.77 L1342.42 1532.4 L1349.9 1532.4 L1330.99 1549.07 L1350.69 1568.04 L1343.06 1568.04 L1324.95 1550.63 L1324.95 1568.04 L1319.06 1568.04 L1319.06 1518.52 Z\" fill=\"#000000\" fill-rule=\"nonzero\" fill-opacity=\"1\" /><path clip-path=\"url(#clip700)\" d=\"M1379.75 1533.45 L1379.75 1538.98 Q1377.27 1537.71 1374.6 1537.07 Q1371.92 1536.44 1369.06 1536.44 Q1364.7 1536.44 1362.5 1537.77 Q1360.34 1539.11 1360.34 1541.79 Q1360.34 1543.82 1361.9 1545 Q1363.46 1546.15 1368.17 1547.2 L1370.17 1547.64 Q1376.41 1548.98 1379.02 1551.43 Q1381.66 1553.85 1381.66 1558.21 Q1381.66 1563.17 1377.72 1566.07 Q1373.8 1568.97 1366.93 1568.97 Q1364.06 1568.97 1360.94 1568.39 Q1357.86 1567.85 1354.42 1566.74 L1354.42 1560.69 Q1357.66 1562.38 1360.82 1563.24 Q1363.97 1564.07 1367.05 1564.07 Q1371.19 1564.07 1373.42 1562.66 Q1375.65 1561.23 1375.65 1558.65 Q1375.65 1556.27 1374.02 1554.99 Q1372.43 1553.72 1366.99 1552.54 L1364.95 1552.07 Q1359.51 1550.92 1357.09 1548.56 Q1354.67 1546.18 1354.67 1542.04 Q1354.67 1537.01 1358.24 1534.27 Q1361.8 1531.54 1368.36 1531.54 Q1371.61 1531.54 1374.47 1532.01 Q1377.33 1532.49 1379.75 1533.45 Z\" fill=\"#000000\" fill-rule=\"nonzero\" fill-opacity=\"1\" /><polyline clip-path=\"url(#clip702)\" style=\"stroke:#000000; stroke-linecap:round; stroke-linejoin:round; stroke-width:2; stroke-opacity:0.1; fill:none\" points=\"264.287,1248.83 2352.76,1248.83 \"/>\n",
       "<polyline clip-path=\"url(#clip702)\" style=\"stroke:#000000; stroke-linecap:round; stroke-linejoin:round; stroke-width:2; stroke-opacity:0.1; fill:none\" points=\"264.287,1037.24 2352.76,1037.24 \"/>\n",
       "<polyline clip-path=\"url(#clip702)\" style=\"stroke:#000000; stroke-linecap:round; stroke-linejoin:round; stroke-width:2; stroke-opacity:0.1; fill:none\" points=\"264.287,825.663 2352.76,825.663 \"/>\n",
       "<polyline clip-path=\"url(#clip702)\" style=\"stroke:#000000; stroke-linecap:round; stroke-linejoin:round; stroke-width:2; stroke-opacity:0.1; fill:none\" points=\"264.287,614.082 2352.76,614.082 \"/>\n",
       "<polyline clip-path=\"url(#clip702)\" style=\"stroke:#000000; stroke-linecap:round; stroke-linejoin:round; stroke-width:2; stroke-opacity:0.1; fill:none\" points=\"264.287,402.5 2352.76,402.5 \"/>\n",
       "<polyline clip-path=\"url(#clip702)\" style=\"stroke:#000000; stroke-linecap:round; stroke-linejoin:round; stroke-width:2; stroke-opacity:0.1; fill:none\" points=\"264.287,190.919 2352.76,190.919 \"/>\n",
       "<polyline clip-path=\"url(#clip700)\" style=\"stroke:#000000; stroke-linecap:round; stroke-linejoin:round; stroke-width:4; stroke-opacity:1; fill:none\" points=\"264.287,1423.18 264.287,47.2441 \"/>\n",
       "<polyline clip-path=\"url(#clip700)\" style=\"stroke:#000000; stroke-linecap:round; stroke-linejoin:round; stroke-width:4; stroke-opacity:1; fill:none\" points=\"264.287,1248.83 283.185,1248.83 \"/>\n",
       "<polyline clip-path=\"url(#clip700)\" style=\"stroke:#000000; stroke-linecap:round; stroke-linejoin:round; stroke-width:4; stroke-opacity:1; fill:none\" points=\"264.287,1037.24 283.185,1037.24 \"/>\n",
       "<polyline clip-path=\"url(#clip700)\" style=\"stroke:#000000; stroke-linecap:round; stroke-linejoin:round; stroke-width:4; stroke-opacity:1; fill:none\" points=\"264.287,825.663 283.185,825.663 \"/>\n",
       "<polyline clip-path=\"url(#clip700)\" style=\"stroke:#000000; stroke-linecap:round; stroke-linejoin:round; stroke-width:4; stroke-opacity:1; fill:none\" points=\"264.287,614.082 283.185,614.082 \"/>\n",
       "<polyline clip-path=\"url(#clip700)\" style=\"stroke:#000000; stroke-linecap:round; stroke-linejoin:round; stroke-width:4; stroke-opacity:1; fill:none\" points=\"264.287,402.5 283.185,402.5 \"/>\n",
       "<polyline clip-path=\"url(#clip700)\" style=\"stroke:#000000; stroke-linecap:round; stroke-linejoin:round; stroke-width:4; stroke-opacity:1; fill:none\" points=\"264.287,190.919 283.185,190.919 \"/>\n",
       "<path clip-path=\"url(#clip700)\" d=\"M116.668 1262.17 L124.306 1262.17 L124.306 1235.81 L115.996 1237.47 L115.996 1233.21 L124.26 1231.55 L128.936 1231.55 L128.936 1262.17 L136.575 1262.17 L136.575 1266.11 L116.668 1266.11 L116.668 1262.17 Z\" fill=\"#000000\" fill-rule=\"nonzero\" fill-opacity=\"1\" /><path clip-path=\"url(#clip700)\" d=\"M158.866 1235.62 L147.061 1254.07 L158.866 1254.07 L158.866 1235.62 M157.64 1231.55 L163.519 1231.55 L163.519 1254.07 L168.45 1254.07 L168.45 1257.96 L163.519 1257.96 L163.519 1266.11 L158.866 1266.11 L158.866 1257.96 L143.265 1257.96 L143.265 1253.44 L157.64 1231.55 Z\" fill=\"#000000\" fill-rule=\"nonzero\" fill-opacity=\"1\" /><path clip-path=\"url(#clip700)\" d=\"M186.181 1234.62 Q182.57 1234.62 180.741 1238.19 Q178.936 1241.73 178.936 1248.86 Q178.936 1255.97 180.741 1259.53 Q182.57 1263.07 186.181 1263.07 Q189.815 1263.07 191.621 1259.53 Q193.45 1255.97 193.45 1248.86 Q193.45 1241.73 191.621 1238.19 Q189.815 1234.62 186.181 1234.62 M186.181 1230.92 Q191.991 1230.92 195.047 1235.53 Q198.125 1240.11 198.125 1248.86 Q198.125 1257.59 195.047 1262.19 Q191.991 1266.78 186.181 1266.78 Q180.371 1266.78 177.292 1262.19 Q174.237 1257.59 174.237 1248.86 Q174.237 1240.11 177.292 1235.53 Q180.371 1230.92 186.181 1230.92 Z\" fill=\"#000000\" fill-rule=\"nonzero\" fill-opacity=\"1\" /><path clip-path=\"url(#clip700)\" d=\"M216.343 1234.62 Q212.732 1234.62 210.903 1238.19 Q209.098 1241.73 209.098 1248.86 Q209.098 1255.97 210.903 1259.53 Q212.732 1263.07 216.343 1263.07 Q219.977 1263.07 221.783 1259.53 Q223.611 1255.97 223.611 1248.86 Q223.611 1241.73 221.783 1238.19 Q219.977 1234.62 216.343 1234.62 M216.343 1230.92 Q222.153 1230.92 225.209 1235.53 Q228.287 1240.11 228.287 1248.86 Q228.287 1257.59 225.209 1262.19 Q222.153 1266.78 216.343 1266.78 Q210.533 1266.78 207.454 1262.19 Q204.399 1257.59 204.399 1248.86 Q204.399 1240.11 207.454 1235.53 Q210.533 1230.92 216.343 1230.92 Z\" fill=\"#000000\" fill-rule=\"nonzero\" fill-opacity=\"1\" /><path clip-path=\"url(#clip700)\" d=\"M116.668 1050.59 L124.306 1050.59 L124.306 1024.22 L115.996 1025.89 L115.996 1021.63 L124.26 1019.96 L128.936 1019.96 L128.936 1050.59 L136.575 1050.59 L136.575 1054.52 L116.668 1054.52 L116.668 1050.59 Z\" fill=\"#000000\" fill-rule=\"nonzero\" fill-opacity=\"1\" /><path clip-path=\"url(#clip700)\" d=\"M156.598 1035.38 Q153.45 1035.38 151.598 1037.53 Q149.769 1039.69 149.769 1043.44 Q149.769 1047.16 151.598 1049.34 Q153.45 1051.49 156.598 1051.49 Q159.746 1051.49 161.575 1049.34 Q163.427 1047.16 163.427 1043.44 Q163.427 1039.69 161.575 1037.53 Q159.746 1035.38 156.598 1035.38 M165.88 1020.73 L165.88 1024.99 Q164.121 1024.15 162.315 1023.71 Q160.533 1023.27 158.774 1023.27 Q154.144 1023.27 151.691 1026.4 Q149.26 1029.52 148.913 1035.84 Q150.278 1033.83 152.339 1032.77 Q154.399 1031.68 156.876 1031.68 Q162.084 1031.68 165.093 1034.85 Q168.126 1038 168.126 1043.44 Q168.126 1048.76 164.977 1051.98 Q161.829 1055.2 156.598 1055.2 Q150.603 1055.2 147.431 1050.61 Q144.26 1046.01 144.26 1037.28 Q144.26 1029.08 148.149 1024.22 Q152.038 1019.34 158.589 1019.34 Q160.348 1019.34 162.13 1019.69 Q163.936 1020.03 165.88 1020.73 Z\" fill=\"#000000\" fill-rule=\"nonzero\" fill-opacity=\"1\" /><path clip-path=\"url(#clip700)\" d=\"M186.181 1023.04 Q182.57 1023.04 180.741 1026.61 Q178.936 1030.15 178.936 1037.28 Q178.936 1044.39 180.741 1047.95 Q182.57 1051.49 186.181 1051.49 Q189.815 1051.49 191.621 1047.95 Q193.45 1044.39 193.45 1037.28 Q193.45 1030.15 191.621 1026.61 Q189.815 1023.04 186.181 1023.04 M186.181 1019.34 Q191.991 1019.34 195.047 1023.95 Q198.125 1028.53 198.125 1037.28 Q198.125 1046.01 195.047 1050.61 Q191.991 1055.2 186.181 1055.2 Q180.371 1055.2 177.292 1050.61 Q174.237 1046.01 174.237 1037.28 Q174.237 1028.53 177.292 1023.95 Q180.371 1019.34 186.181 1019.34 Z\" fill=\"#000000\" fill-rule=\"nonzero\" fill-opacity=\"1\" /><path clip-path=\"url(#clip700)\" d=\"M216.343 1023.04 Q212.732 1023.04 210.903 1026.61 Q209.098 1030.15 209.098 1037.28 Q209.098 1044.39 210.903 1047.95 Q212.732 1051.49 216.343 1051.49 Q219.977 1051.49 221.783 1047.95 Q223.611 1044.39 223.611 1037.28 Q223.611 1030.15 221.783 1026.61 Q219.977 1023.04 216.343 1023.04 M216.343 1019.34 Q222.153 1019.34 225.209 1023.95 Q228.287 1028.53 228.287 1037.28 Q228.287 1046.01 225.209 1050.61 Q222.153 1055.2 216.343 1055.2 Q210.533 1055.2 207.454 1050.61 Q204.399 1046.01 204.399 1037.28 Q204.399 1028.53 207.454 1023.95 Q210.533 1019.34 216.343 1019.34 Z\" fill=\"#000000\" fill-rule=\"nonzero\" fill-opacity=\"1\" /><path clip-path=\"url(#clip700)\" d=\"M116.668 839.008 L124.306 839.008 L124.306 812.642 L115.996 814.309 L115.996 810.05 L124.26 808.383 L128.936 808.383 L128.936 839.008 L136.575 839.008 L136.575 842.943 L116.668 842.943 L116.668 839.008 Z\" fill=\"#000000\" fill-rule=\"nonzero\" fill-opacity=\"1\" /><path clip-path=\"url(#clip700)\" d=\"M156.019 826.531 Q152.686 826.531 150.765 828.314 Q148.866 830.096 148.866 833.221 Q148.866 836.346 150.765 838.128 Q152.686 839.911 156.019 839.911 Q159.353 839.911 161.274 838.128 Q163.195 836.323 163.195 833.221 Q163.195 830.096 161.274 828.314 Q159.376 826.531 156.019 826.531 M151.343 824.54 Q148.334 823.8 146.644 821.739 Q144.978 819.679 144.978 816.716 Q144.978 812.573 147.917 810.165 Q150.88 807.758 156.019 807.758 Q161.181 807.758 164.121 810.165 Q167.061 812.573 167.061 816.716 Q167.061 819.679 165.371 821.739 Q163.704 823.8 160.718 824.54 Q164.098 825.327 165.973 827.619 Q167.871 829.911 167.871 833.221 Q167.871 838.244 164.792 840.929 Q161.737 843.614 156.019 843.614 Q150.302 843.614 147.223 840.929 Q144.167 838.244 144.167 833.221 Q144.167 829.911 146.066 827.619 Q147.964 825.327 151.343 824.54 M149.63 817.156 Q149.63 819.841 151.297 821.346 Q152.987 822.851 156.019 822.851 Q159.028 822.851 160.718 821.346 Q162.431 819.841 162.431 817.156 Q162.431 814.471 160.718 812.966 Q159.028 811.462 156.019 811.462 Q152.987 811.462 151.297 812.966 Q149.63 814.471 149.63 817.156 Z\" fill=\"#000000\" fill-rule=\"nonzero\" fill-opacity=\"1\" /><path clip-path=\"url(#clip700)\" d=\"M186.181 811.462 Q182.57 811.462 180.741 815.027 Q178.936 818.568 178.936 825.698 Q178.936 832.804 180.741 836.369 Q182.57 839.911 186.181 839.911 Q189.815 839.911 191.621 836.369 Q193.45 832.804 193.45 825.698 Q193.45 818.568 191.621 815.027 Q189.815 811.462 186.181 811.462 M186.181 807.758 Q191.991 807.758 195.047 812.365 Q198.125 816.948 198.125 825.698 Q198.125 834.425 195.047 839.031 Q191.991 843.614 186.181 843.614 Q180.371 843.614 177.292 839.031 Q174.237 834.425 174.237 825.698 Q174.237 816.948 177.292 812.365 Q180.371 807.758 186.181 807.758 Z\" fill=\"#000000\" fill-rule=\"nonzero\" fill-opacity=\"1\" /><path clip-path=\"url(#clip700)\" d=\"M216.343 811.462 Q212.732 811.462 210.903 815.027 Q209.098 818.568 209.098 825.698 Q209.098 832.804 210.903 836.369 Q212.732 839.911 216.343 839.911 Q219.977 839.911 221.783 836.369 Q223.611 832.804 223.611 825.698 Q223.611 818.568 221.783 815.027 Q219.977 811.462 216.343 811.462 M216.343 807.758 Q222.153 807.758 225.209 812.365 Q228.287 816.948 228.287 825.698 Q228.287 834.425 225.209 839.031 Q222.153 843.614 216.343 843.614 Q210.533 843.614 207.454 839.031 Q204.399 834.425 204.399 825.698 Q204.399 816.948 207.454 812.365 Q210.533 807.758 216.343 807.758 Z\" fill=\"#000000\" fill-rule=\"nonzero\" fill-opacity=\"1\" /><path clip-path=\"url(#clip700)\" d=\"M119.885 627.426 L136.204 627.426 L136.204 631.362 L114.26 631.362 L114.26 627.426 Q116.922 624.672 121.505 620.042 Q126.112 615.389 127.292 614.047 Q129.538 611.524 130.417 609.788 Q131.32 608.028 131.32 606.339 Q131.32 603.584 129.376 601.848 Q127.455 600.112 124.353 600.112 Q122.154 600.112 119.7 600.876 Q117.269 601.639 114.492 603.19 L114.492 598.468 Q117.316 597.334 119.769 596.755 Q122.223 596.177 124.26 596.177 Q129.63 596.177 132.825 598.862 Q136.019 601.547 136.019 606.038 Q136.019 608.167 135.209 610.089 Q134.422 611.987 132.316 614.579 Q131.737 615.251 128.635 618.468 Q125.533 621.663 119.885 627.426 Z\" fill=\"#000000\" fill-rule=\"nonzero\" fill-opacity=\"1\" /><path clip-path=\"url(#clip700)\" d=\"M156.019 599.88 Q152.408 599.88 150.579 603.445 Q148.774 606.987 148.774 614.116 Q148.774 621.223 150.579 624.788 Q152.408 628.329 156.019 628.329 Q159.653 628.329 161.459 624.788 Q163.288 621.223 163.288 614.116 Q163.288 606.987 161.459 603.445 Q159.653 599.88 156.019 599.88 M156.019 596.177 Q161.829 596.177 164.885 600.783 Q167.964 605.366 167.964 614.116 Q167.964 622.843 164.885 627.45 Q161.829 632.033 156.019 632.033 Q150.209 632.033 147.13 627.45 Q144.075 622.843 144.075 614.116 Q144.075 605.366 147.13 600.783 Q150.209 596.177 156.019 596.177 Z\" fill=\"#000000\" fill-rule=\"nonzero\" fill-opacity=\"1\" /><path clip-path=\"url(#clip700)\" d=\"M186.181 599.88 Q182.57 599.88 180.741 603.445 Q178.936 606.987 178.936 614.116 Q178.936 621.223 180.741 624.788 Q182.57 628.329 186.181 628.329 Q189.815 628.329 191.621 624.788 Q193.45 621.223 193.45 614.116 Q193.45 606.987 191.621 603.445 Q189.815 599.88 186.181 599.88 M186.181 596.177 Q191.991 596.177 195.047 600.783 Q198.125 605.366 198.125 614.116 Q198.125 622.843 195.047 627.45 Q191.991 632.033 186.181 632.033 Q180.371 632.033 177.292 627.45 Q174.237 622.843 174.237 614.116 Q174.237 605.366 177.292 600.783 Q180.371 596.177 186.181 596.177 Z\" fill=\"#000000\" fill-rule=\"nonzero\" fill-opacity=\"1\" /><path clip-path=\"url(#clip700)\" d=\"M216.343 599.88 Q212.732 599.88 210.903 603.445 Q209.098 606.987 209.098 614.116 Q209.098 621.223 210.903 624.788 Q212.732 628.329 216.343 628.329 Q219.977 628.329 221.783 624.788 Q223.611 621.223 223.611 614.116 Q223.611 606.987 221.783 603.445 Q219.977 599.88 216.343 599.88 M216.343 596.177 Q222.153 596.177 225.209 600.783 Q228.287 605.366 228.287 614.116 Q228.287 622.843 225.209 627.45 Q222.153 632.033 216.343 632.033 Q210.533 632.033 207.454 627.45 Q204.399 622.843 204.399 614.116 Q204.399 605.366 207.454 600.783 Q210.533 596.177 216.343 596.177 Z\" fill=\"#000000\" fill-rule=\"nonzero\" fill-opacity=\"1\" /><path clip-path=\"url(#clip700)\" d=\"M119.885 415.845 L136.204 415.845 L136.204 419.78 L114.26 419.78 L114.26 415.845 Q116.922 413.09 121.505 408.461 Q126.112 403.808 127.292 402.465 Q129.538 399.942 130.417 398.206 Q131.32 396.447 131.32 394.757 Q131.32 392.002 129.376 390.266 Q127.455 388.53 124.353 388.53 Q122.154 388.53 119.7 389.294 Q117.269 390.058 114.492 391.609 L114.492 386.887 Q117.316 385.752 119.769 385.174 Q122.223 384.595 124.26 384.595 Q129.63 384.595 132.825 387.28 Q136.019 389.965 136.019 394.456 Q136.019 396.586 135.209 398.507 Q134.422 400.405 132.316 402.998 Q131.737 403.669 128.635 406.887 Q125.533 410.081 119.885 415.845 Z\" fill=\"#000000\" fill-rule=\"nonzero\" fill-opacity=\"1\" /><path clip-path=\"url(#clip700)\" d=\"M150.047 415.845 L166.366 415.845 L166.366 419.78 L144.422 419.78 L144.422 415.845 Q147.084 413.09 151.667 408.461 Q156.274 403.808 157.454 402.465 Q159.7 399.942 160.579 398.206 Q161.482 396.447 161.482 394.757 Q161.482 392.002 159.538 390.266 Q157.616 388.53 154.515 388.53 Q152.316 388.53 149.862 389.294 Q147.431 390.058 144.654 391.609 L144.654 386.887 Q147.478 385.752 149.931 385.174 Q152.385 384.595 154.422 384.595 Q159.792 384.595 162.987 387.28 Q166.181 389.965 166.181 394.456 Q166.181 396.586 165.371 398.507 Q164.584 400.405 162.477 402.998 Q161.899 403.669 158.797 406.887 Q155.695 410.081 150.047 415.845 Z\" fill=\"#000000\" fill-rule=\"nonzero\" fill-opacity=\"1\" /><path clip-path=\"url(#clip700)\" d=\"M186.181 388.299 Q182.57 388.299 180.741 391.864 Q178.936 395.405 178.936 402.535 Q178.936 409.641 180.741 413.206 Q182.57 416.748 186.181 416.748 Q189.815 416.748 191.621 413.206 Q193.45 409.641 193.45 402.535 Q193.45 395.405 191.621 391.864 Q189.815 388.299 186.181 388.299 M186.181 384.595 Q191.991 384.595 195.047 389.201 Q198.125 393.785 198.125 402.535 Q198.125 411.262 195.047 415.868 Q191.991 420.451 186.181 420.451 Q180.371 420.451 177.292 415.868 Q174.237 411.262 174.237 402.535 Q174.237 393.785 177.292 389.201 Q180.371 384.595 186.181 384.595 Z\" fill=\"#000000\" fill-rule=\"nonzero\" fill-opacity=\"1\" /><path clip-path=\"url(#clip700)\" d=\"M216.343 388.299 Q212.732 388.299 210.903 391.864 Q209.098 395.405 209.098 402.535 Q209.098 409.641 210.903 413.206 Q212.732 416.748 216.343 416.748 Q219.977 416.748 221.783 413.206 Q223.611 409.641 223.611 402.535 Q223.611 395.405 221.783 391.864 Q219.977 388.299 216.343 388.299 M216.343 384.595 Q222.153 384.595 225.209 389.201 Q228.287 393.785 228.287 402.535 Q228.287 411.262 225.209 415.868 Q222.153 420.451 216.343 420.451 Q210.533 420.451 207.454 415.868 Q204.399 411.262 204.399 402.535 Q204.399 393.785 207.454 389.201 Q210.533 384.595 216.343 384.595 Z\" fill=\"#000000\" fill-rule=\"nonzero\" fill-opacity=\"1\" /><path clip-path=\"url(#clip700)\" d=\"M119.885 204.263 L136.204 204.263 L136.204 208.199 L114.26 208.199 L114.26 204.263 Q116.922 201.509 121.505 196.879 Q126.112 192.226 127.292 190.884 Q129.538 188.361 130.417 186.625 Q131.32 184.865 131.32 183.176 Q131.32 180.421 129.376 178.685 Q127.455 176.949 124.353 176.949 Q122.154 176.949 119.7 177.713 Q117.269 178.476 114.492 180.027 L114.492 175.305 Q117.316 174.171 119.769 173.592 Q122.223 173.014 124.26 173.014 Q129.63 173.014 132.825 175.699 Q136.019 178.384 136.019 182.875 Q136.019 185.004 135.209 186.925 Q134.422 188.824 132.316 191.416 Q131.737 192.087 128.635 195.305 Q125.533 198.499 119.885 204.263 Z\" fill=\"#000000\" fill-rule=\"nonzero\" fill-opacity=\"1\" /><path clip-path=\"url(#clip700)\" d=\"M158.866 177.713 L147.061 196.162 L158.866 196.162 L158.866 177.713 M157.64 173.639 L163.519 173.639 L163.519 196.162 L168.45 196.162 L168.45 200.05 L163.519 200.05 L163.519 208.199 L158.866 208.199 L158.866 200.05 L143.265 200.05 L143.265 195.537 L157.64 173.639 Z\" fill=\"#000000\" fill-rule=\"nonzero\" fill-opacity=\"1\" /><path clip-path=\"url(#clip700)\" d=\"M186.181 176.717 Q182.57 176.717 180.741 180.282 Q178.936 183.824 178.936 190.953 Q178.936 198.06 180.741 201.624 Q182.57 205.166 186.181 205.166 Q189.815 205.166 191.621 201.624 Q193.45 198.06 193.45 190.953 Q193.45 183.824 191.621 180.282 Q189.815 176.717 186.181 176.717 M186.181 173.014 Q191.991 173.014 195.047 177.62 Q198.125 182.203 198.125 190.953 Q198.125 199.68 195.047 204.287 Q191.991 208.87 186.181 208.87 Q180.371 208.87 177.292 204.287 Q174.237 199.68 174.237 190.953 Q174.237 182.203 177.292 177.62 Q180.371 173.014 186.181 173.014 Z\" fill=\"#000000\" fill-rule=\"nonzero\" fill-opacity=\"1\" /><path clip-path=\"url(#clip700)\" d=\"M216.343 176.717 Q212.732 176.717 210.903 180.282 Q209.098 183.824 209.098 190.953 Q209.098 198.06 210.903 201.624 Q212.732 205.166 216.343 205.166 Q219.977 205.166 221.783 201.624 Q223.611 198.06 223.611 190.953 Q223.611 183.824 221.783 180.282 Q219.977 176.717 216.343 176.717 M216.343 173.014 Q222.153 173.014 225.209 177.62 Q228.287 182.203 228.287 190.953 Q228.287 199.68 225.209 204.287 Q222.153 208.87 216.343 208.87 Q210.533 208.87 207.454 204.287 Q204.399 199.68 204.399 190.953 Q204.399 182.203 207.454 177.62 Q210.533 173.014 216.343 173.014 Z\" fill=\"#000000\" fill-rule=\"nonzero\" fill-opacity=\"1\" /><path clip-path=\"url(#clip700)\" d=\"M42.4881 1009.19 L64.0042 1009.19 L64.0042 1015.05 L42.679 1015.05 Q37.6183 1015.05 35.1038 1017.02 Q32.5894 1019 32.5894 1022.94 Q32.5894 1027.68 35.6131 1030.42 Q38.6368 1033.16 43.8567 1033.16 L64.0042 1033.16 L64.0042 1039.05 L28.3562 1039.05 L28.3562 1033.16 L33.8944 1033.16 Q30.6797 1031.06 29.0883 1028.23 Q27.4968 1025.36 27.4968 1021.64 Q27.4968 1015.49 31.3163 1012.34 Q35.1038 1009.19 42.4881 1009.19 Z\" fill=\"#000000\" fill-rule=\"nonzero\" fill-opacity=\"1\" /><path clip-path=\"url(#clip700)\" d=\"M49.9359 998.116 L28.3562 998.116 L28.3562 992.259 L49.7131 992.259 Q54.7739 992.259 57.3202 990.286 Q59.8346 988.312 59.8346 984.366 Q59.8346 979.623 56.8109 976.886 Q53.7872 974.117 48.5673 974.117 L28.3562 974.117 L28.3562 968.26 L64.0042 968.26 L64.0042 974.117 L58.5296 974.117 Q61.7762 976.249 63.3676 979.082 Q64.9272 981.883 64.9272 985.607 Q64.9272 991.75 61.1078 994.933 Q57.2883 998.116 49.9359 998.116 M27.4968 983.379 L27.4968 983.379 Z\" fill=\"#000000\" fill-rule=\"nonzero\" fill-opacity=\"1\" /><path clip-path=\"url(#clip700)\" d=\"M35.1993 928.443 Q31.2526 926.247 29.3747 923.191 Q27.4968 920.136 27.4968 915.998 Q27.4968 910.428 31.4117 907.404 Q35.2948 904.381 42.4881 904.381 L64.0042 904.381 L64.0042 910.269 L42.679 910.269 Q37.5546 910.269 35.072 912.083 Q32.5894 913.897 32.5894 917.621 Q32.5894 922.173 35.6131 924.815 Q38.6368 927.456 43.8567 927.456 L64.0042 927.456 L64.0042 933.345 L42.679 933.345 Q37.5228 933.345 35.072 935.159 Q32.5894 936.973 32.5894 940.761 Q32.5894 945.248 35.6449 947.89 Q38.6686 950.532 43.8567 950.532 L64.0042 950.532 L64.0042 956.42 L28.3562 956.42 L28.3562 950.532 L33.8944 950.532 Q30.616 948.527 29.0564 945.726 Q27.4968 942.925 27.4968 939.074 Q27.4968 935.191 29.4702 932.485 Q31.4436 929.748 35.1993 928.443 Z\" fill=\"#000000\" fill-rule=\"nonzero\" fill-opacity=\"1\" /><path clip-path=\"url(#clip700)\" d=\"M46.212 867.109 Q39.7508 867.109 36.0905 869.783 Q32.3984 872.425 32.3984 877.072 Q32.3984 881.719 36.0905 884.392 Q39.7508 887.034 46.212 887.034 Q52.6732 887.034 56.3653 884.392 Q60.0256 881.719 60.0256 877.072 Q60.0256 872.425 56.3653 869.783 Q52.6732 867.109 46.212 867.109 M33.7671 887.034 Q30.5842 885.188 29.0564 882.387 Q27.4968 879.554 27.4968 875.639 Q27.4968 869.146 32.6531 865.104 Q37.8093 861.03 46.212 861.03 Q54.6147 861.03 59.771 865.104 Q64.9272 869.146 64.9272 875.639 Q64.9272 879.554 63.3994 882.387 Q61.8398 885.188 58.657 887.034 L64.0042 887.034 L64.0042 892.922 L14.479 892.922 L14.479 887.034 L33.7671 887.034 Z\" fill=\"#000000\" fill-rule=\"nonzero\" fill-opacity=\"1\" /><path clip-path=\"url(#clip700)\" d=\"M44.7161 820.831 L47.5806 820.831 L47.5806 847.758 Q53.6281 847.376 56.8109 844.129 Q59.9619 840.851 59.9619 835.026 Q59.9619 831.652 59.1344 828.501 Q58.3069 825.319 56.6518 822.199 L62.1899 822.199 Q63.5267 825.35 64.227 828.661 Q64.9272 831.971 64.9272 835.376 Q64.9272 843.906 59.9619 848.903 Q54.9967 853.869 46.5303 853.869 Q37.7774 853.869 32.6531 849.158 Q27.4968 844.416 27.4968 836.395 Q27.4968 829.202 32.1438 825.032 Q36.7589 820.831 44.7161 820.831 M42.9973 826.687 Q38.1912 826.751 35.3266 829.393 Q32.4621 832.003 32.4621 836.331 Q32.4621 841.233 35.2312 844.193 Q38.0002 847.121 43.0292 847.567 L42.9973 826.687 Z\" fill=\"#000000\" fill-rule=\"nonzero\" fill-opacity=\"1\" /><path clip-path=\"url(#clip700)\" d=\"M33.8307 790.562 Q33.2578 791.548 33.0032 792.726 Q32.7167 793.872 32.7167 795.272 Q32.7167 800.238 35.9632 802.911 Q39.1779 805.553 45.2253 805.553 L64.0042 805.553 L64.0042 811.441 L28.3562 811.441 L28.3562 805.553 L33.8944 805.553 Q30.6479 803.707 29.0883 800.747 Q27.4968 797.787 27.4968 793.554 Q27.4968 792.949 27.5923 792.217 Q27.656 791.485 27.8151 790.594 L33.8307 790.562 Z\" fill=\"#000000\" fill-rule=\"nonzero\" fill-opacity=\"1\" /><path clip-path=\"url(#clip700)\" d=\"M32.4621 749.885 Q32.4621 754.596 36.1542 757.333 Q39.8145 760.07 46.212 760.07 Q52.6095 760.07 56.3017 757.365 Q59.9619 754.627 59.9619 749.885 Q59.9619 745.206 56.2698 742.469 Q52.5777 739.732 46.212 739.732 Q39.8781 739.732 36.186 742.469 Q32.4621 745.206 32.4621 749.885 M27.4968 749.885 Q27.4968 742.246 32.4621 737.886 Q37.4273 733.525 46.212 733.525 Q54.9649 733.525 59.9619 737.886 Q64.9272 742.246 64.9272 749.885 Q64.9272 757.556 59.9619 761.916 Q54.9649 766.245 46.212 766.245 Q37.4273 766.245 32.4621 761.916 Q27.4968 757.556 27.4968 749.885 Z\" fill=\"#000000\" fill-rule=\"nonzero\" fill-opacity=\"1\" /><path clip-path=\"url(#clip700)\" d=\"M14.479 705.771 L19.3487 705.771 L19.3487 711.372 Q19.3487 714.523 20.6219 715.765 Q21.895 716.974 25.2052 716.974 L28.3562 716.974 L28.3562 707.33 L32.9077 707.33 L32.9077 716.974 L64.0042 716.974 L64.0042 722.862 L32.9077 722.862 L32.9077 728.464 L28.3562 728.464 L28.3562 722.862 L25.8736 722.862 Q19.9216 722.862 17.2162 720.093 Q14.479 717.324 14.479 711.309 L14.479 705.771 Z\" fill=\"#000000\" fill-rule=\"nonzero\" fill-opacity=\"1\" /><path clip-path=\"url(#clip700)\" d=\"M58.657 674.483 L77.5631 674.483 L77.5631 680.371 L28.3562 680.371 L28.3562 674.483 L33.7671 674.483 Q30.5842 672.637 29.0564 669.836 Q27.4968 667.003 27.4968 663.089 Q27.4968 656.595 32.6531 652.553 Q37.8093 648.479 46.212 648.479 Q54.6147 648.479 59.771 652.553 Q64.9272 656.595 64.9272 663.089 Q64.9272 667.003 63.3994 669.836 Q61.8398 672.637 58.657 674.483 M46.212 654.558 Q39.7508 654.558 36.0905 657.232 Q32.3984 659.874 32.3984 664.521 Q32.3984 669.168 36.0905 671.841 Q39.7508 674.483 46.212 674.483 Q52.6732 674.483 56.3653 671.841 Q60.0256 669.168 60.0256 664.521 Q60.0256 659.874 56.3653 657.232 Q52.6732 654.558 46.212 654.558 Z\" fill=\"#000000\" fill-rule=\"nonzero\" fill-opacity=\"1\" /><path clip-path=\"url(#clip700)\" d=\"M46.0847 622.571 Q46.0847 629.669 47.7079 632.406 Q49.3312 635.143 53.2461 635.143 Q56.3653 635.143 58.2114 633.106 Q60.0256 631.037 60.0256 627.504 Q60.0256 622.634 56.5881 619.706 Q53.1188 616.746 47.3897 616.746 L46.0847 616.746 L46.0847 622.571 M43.6657 610.89 L64.0042 610.89 L64.0042 616.746 L58.5933 616.746 Q61.8398 618.751 63.3994 621.743 Q64.9272 624.735 64.9272 629.064 Q64.9272 634.538 61.8716 637.785 Q58.7843 641 53.6281 641 Q47.6125 641 44.5569 636.989 Q41.5014 632.947 41.5014 624.958 L41.5014 616.746 L40.9285 616.746 Q36.8862 616.746 34.6901 619.42 Q32.4621 622.062 32.4621 626.868 Q32.4621 629.923 33.1941 632.82 Q33.9262 635.716 35.3903 638.39 L29.9795 638.39 Q28.7381 635.175 28.1334 632.151 Q27.4968 629.127 27.4968 626.263 Q27.4968 618.529 31.5072 614.709 Q35.5176 610.89 43.6657 610.89 Z\" fill=\"#000000\" fill-rule=\"nonzero\" fill-opacity=\"1\" /><path clip-path=\"url(#clip700)\" d=\"M18.2347 593.034 L28.3562 593.034 L28.3562 580.971 L32.9077 580.971 L32.9077 593.034 L52.2594 593.034 Q56.6199 593.034 57.8613 591.856 Q59.1026 590.647 59.1026 586.986 L59.1026 580.971 L64.0042 580.971 L64.0042 586.986 Q64.0042 593.766 61.4897 596.344 Q58.9434 598.922 52.2594 598.922 L32.9077 598.922 L32.9077 603.219 L28.3562 603.219 L28.3562 598.922 L18.2347 598.922 L18.2347 593.034 Z\" fill=\"#000000\" fill-rule=\"nonzero\" fill-opacity=\"1\" /><path clip-path=\"url(#clip700)\" d=\"M29.7248 547.615 L35.1993 547.615 Q33.8307 550.097 33.1623 552.612 Q32.4621 555.094 32.4621 557.641 Q32.4621 563.338 36.0905 566.489 Q39.6872 569.64 46.212 569.64 Q52.7369 569.64 56.3653 566.489 Q59.9619 563.338 59.9619 557.641 Q59.9619 555.094 59.2935 552.612 Q58.5933 550.097 57.2247 547.615 L62.6355 547.615 Q63.7814 550.065 64.3543 552.707 Q64.9272 555.317 64.9272 558.277 Q64.9272 566.33 59.8664 571.072 Q54.8057 575.815 46.212 575.815 Q37.491 575.815 32.4939 571.04 Q27.4968 566.234 27.4968 557.895 Q27.4968 555.19 28.0697 552.612 Q28.6108 550.034 29.7248 547.615 Z\" fill=\"#000000\" fill-rule=\"nonzero\" fill-opacity=\"1\" /><path clip-path=\"url(#clip700)\" d=\"M42.4881 507.797 L64.0042 507.797 L64.0042 513.654 L42.679 513.654 Q37.6183 513.654 35.1038 515.627 Q32.5894 517.6 32.5894 521.547 Q32.5894 526.289 35.6131 529.027 Q38.6368 531.764 43.8567 531.764 L64.0042 531.764 L64.0042 537.652 L14.479 537.652 L14.479 531.764 L33.8944 531.764 Q30.6797 529.663 29.0883 526.831 Q27.4968 523.966 27.4968 520.242 Q27.4968 514.099 31.3163 510.948 Q35.1038 507.797 42.4881 507.797 Z\" fill=\"#000000\" fill-rule=\"nonzero\" fill-opacity=\"1\" /><path clip-path=\"url(#clip700)\" d=\"M44.7161 465.624 L47.5806 465.624 L47.5806 492.551 Q53.6281 492.169 56.8109 488.923 Q59.9619 485.644 59.9619 479.82 Q59.9619 476.446 59.1344 473.295 Q58.3069 470.112 56.6518 466.993 L62.1899 466.993 Q63.5267 470.144 64.227 473.454 Q64.9272 476.764 64.9272 480.17 Q64.9272 488.7 59.9619 493.697 Q54.9967 498.662 46.5303 498.662 Q37.7774 498.662 32.6531 493.952 Q27.4968 489.209 27.4968 481.188 Q27.4968 473.995 32.1438 469.826 Q36.7589 465.624 44.7161 465.624 M42.9973 471.481 Q38.1912 471.544 35.3266 474.186 Q32.4621 476.796 32.4621 481.125 Q32.4621 486.026 35.2312 488.986 Q38.0002 491.915 43.0292 492.36 L42.9973 471.481 Z\" fill=\"#000000\" fill-rule=\"nonzero\" fill-opacity=\"1\" /><path clip-path=\"url(#clip700)\" d=\"M29.4065 433.287 L34.9447 433.287 Q33.6716 435.769 33.035 438.443 Q32.3984 441.116 32.3984 443.981 Q32.3984 448.341 33.7352 450.538 Q35.072 452.702 37.7456 452.702 Q39.7826 452.702 40.9603 451.142 Q42.1061 449.583 43.1565 444.872 L43.6021 442.867 Q44.9389 436.628 47.3897 434.019 Q49.8086 431.377 54.1691 431.377 Q59.1344 431.377 62.0308 435.324 Q64.9272 439.238 64.9272 446.113 Q64.9272 448.978 64.3543 452.097 Q63.8132 455.185 62.6992 458.622 L56.6518 458.622 Q58.3387 455.376 59.198 452.224 Q60.0256 449.073 60.0256 445.986 Q60.0256 441.848 58.6251 439.62 Q57.1929 437.392 54.6147 437.392 Q52.2276 437.392 50.9545 439.016 Q49.6813 440.607 48.5037 446.05 L48.0262 448.087 Q46.8804 453.529 44.5251 455.948 Q42.138 458.367 38.0002 458.367 Q32.9713 458.367 30.2341 454.803 Q27.4968 451.238 27.4968 444.681 Q27.4968 441.435 27.9743 438.57 Q28.4517 435.705 29.4065 433.287 Z\" fill=\"#000000\" fill-rule=\"nonzero\" fill-opacity=\"1\" /><polyline clip-path=\"url(#clip702)\" style=\"stroke:#009af9; stroke-linecap:round; stroke-linejoin:round; stroke-width:4; stroke-opacity:1; fill:none\" points=\"323.395,86.1857 333.246,89.3594 343.097,92.5331 352.949,98.8806 362.8,103.112 372.651,112.633 382.503,117.923 392.354,130.618 402.205,138.023 412.056,150.718 421.908,162.355 431.759,177.166 441.61,189.861 451.461,209.961 461.313,223.714 471.164,246.988 481.015,262.856 490.866,282.956 500.718,304.115 510.569,329.504 520.42,351.72 530.272,376.052 540.123,400.384 549.974,430.006 559.825,456.453 569.677,482.901 579.528,507.233 589.379,534.738 599.23,563.302 609.082,589.75 618.933,617.255 628.784,645.819 638.635,665.919 648.487,696.598 658.338,718.814 668.189,750.552 678.041,770.652 687.892,799.215 697.743,826.721 707.594,849.995 717.446,880.674 727.297,905.006 737.148,933.57 746.999,960.017 756.851,981.175 766.702,1007.62 776.553,1033.01 786.404,1061.58 796.256,1086.97 806.107,1111.3 815.958,1137.75 825.81,1155.73 835.661,1174.77 845.512,1194.87 855.363,1216.03 865.215,1236.13 875.066,1256.23 884.917,1271.04 894.768,1285.85 904.62,1300.66 914.471,1319.71 924.322,1329.23 934.173,1340.86 944.025,1344.04 953.876,1355.67 963.727,1356.73 973.579,1370.49 983.43,1373.66 993.281,1375.78 1003.13,1380.01 1012.98,1383.18 1022.83,1381.06 1032.69,1384.24 1042.54,1380.01 1052.39,1380.01 1062.24,1380.01 1072.09,1380.01 1081.94,1378.95 1091.79,1378.95 1101.65,1375.78 1111.5,1374.72 1121.35,1373.66 1131.2,1380.01 1141.05,1373.66 1150.9,1375.78 1160.75,1373.66 1170.6,1375.78 1180.46,1372.6 1190.31,1369.43 1200.16,1375.78 1210.01,1369.43 1219.86,1372.6 1229.71,1370.49 1239.56,1369.43 1249.41,1378.95 1259.27,1376.83 1269.12,1373.66 1278.97,1371.54 1288.82,1371.54 1298.67,1374.72 1308.52,1372.6 1318.37,1375.78 1328.22,1383.18 1338.08,1380.01 1347.93,1377.89 1357.78,1372.6 1367.63,1373.66 1377.48,1373.66 1387.33,1375.78 1397.18,1371.54 1407.03,1365.2 1416.89,1369.43 1426.74,1370.49 1436.59,1373.66 1446.44,1373.66 1456.29,1373.66 1466.14,1372.6 1475.99,1373.66 1485.84,1378.95 1495.7,1373.66 1505.55,1374.72 1515.4,1376.83 1525.25,1376.83 1535.1,1376.83 1544.95,1374.72 1554.8,1375.78 1564.65,1375.78 1574.51,1377.89 1584.36,1372.6 1594.21,1376.83 1604.06,1374.72 1613.91,1371.54 1623.76,1370.49 1633.61,1371.54 1643.46,1373.66 1653.32,1369.43 1663.17,1373.66 1673.02,1373.66 1682.87,1375.78 1692.72,1371.54 1702.57,1373.66 1712.42,1371.54 1722.27,1371.54 1732.13,1371.54 1741.98,1367.31 1751.83,1368.37 1761.68,1372.6 1771.53,1371.54 1781.38,1372.6 1791.23,1370.49 1801.08,1371.54 1810.94,1372.6 1820.79,1369.43 1830.64,1371.54 1840.49,1374.72 1850.34,1375.78 1860.19,1375.78 1870.04,1373.66 1879.9,1375.78 1889.75,1377.89 1899.6,1380.01 1909.45,1376.83 1919.3,1377.89 1929.15,1376.83 1939,1377.89 1948.85,1378.95 1958.71,1376.83 1968.56,1377.89 1978.41,1375.78 1988.26,1376.83 1998.11,1376.83 2007.96,1377.89 2017.81,1376.83 2027.66,1376.83 2037.52,1378.95 2047.37,1376.83 2057.22,1378.95 2067.07,1375.78 2076.92,1378.95 2086.77,1376.83 2096.62,1378.95 2106.47,1380.01 2116.33,1381.06 2126.18,1381.06 2136.03,1381.06 2145.88,1381.06 2155.73,1381.06 2165.58,1381.06 2175.43,1381.06 2185.28,1381.06 2195.14,1381.06 2204.99,1381.06 2214.84,1381.06 2224.69,1381.06 2234.54,1381.06 2244.39,1381.06 2254.24,1381.06 2264.09,1381.06 2273.95,1381.06 2283.8,1381.06 2293.65,1381.06 \"/>\n",
       "<path clip-path=\"url(#clip700)\" d=\"M1949.06 196.789 L2283.14 196.789 L2283.14 93.1086 L1949.06 93.1086  Z\" fill=\"#ffffff\" fill-rule=\"evenodd\" fill-opacity=\"1\"/>\n",
       "<polyline clip-path=\"url(#clip700)\" style=\"stroke:#000000; stroke-linecap:round; stroke-linejoin:round; stroke-width:4; stroke-opacity:1; fill:none\" points=\"1949.06,196.789 2283.14,196.789 2283.14,93.1086 1949.06,93.1086 1949.06,196.789 \"/>\n",
       "<polyline clip-path=\"url(#clip700)\" style=\"stroke:#009af9; stroke-linecap:round; stroke-linejoin:round; stroke-width:4; stroke-opacity:1; fill:none\" points=\"1972.27,144.949 2111.5,144.949 \"/>\n",
       "<path clip-path=\"url(#clip700)\" d=\"M2134.7 136.303 L2138.96 136.303 L2144.29 156.534 L2149.59 136.303 L2154.61 136.303 L2159.94 156.534 L2165.24 136.303 L2169.5 136.303 L2162.71 162.229 L2157.69 162.229 L2152.11 140.979 L2146.51 162.229 L2141.49 162.229 L2134.7 136.303 Z\" fill=\"#000000\" fill-rule=\"nonzero\" fill-opacity=\"1\" /><path clip-path=\"url(#clip700)\" d=\"M2197.5 146.581 L2197.5 162.229 L2193.25 162.229 L2193.25 146.719 Q2193.25 143.039 2191.81 141.21 Q2190.38 139.382 2187.5 139.382 Q2184.06 139.382 2182.07 141.581 Q2180.07 143.78 2180.07 147.576 L2180.07 162.229 L2175.79 162.229 L2175.79 126.21 L2180.07 126.21 L2180.07 140.331 Q2181.6 137.993 2183.66 136.835 Q2185.75 135.678 2188.45 135.678 Q2192.92 135.678 2195.21 138.456 Q2197.5 141.21 2197.5 146.581 Z\" fill=\"#000000\" fill-rule=\"nonzero\" fill-opacity=\"1\" /><path clip-path=\"url(#clip700)\" d=\"M2206 136.303 L2210.26 136.303 L2210.26 162.229 L2206 162.229 L2206 136.303 M2206 126.21 L2210.26 126.21 L2210.26 131.604 L2206 131.604 L2206 126.21 Z\" fill=\"#000000\" fill-rule=\"nonzero\" fill-opacity=\"1\" /><path clip-path=\"url(#clip700)\" d=\"M2223.38 128.942 L2223.38 136.303 L2232.16 136.303 L2232.16 139.613 L2223.38 139.613 L2223.38 153.687 Q2223.38 156.858 2224.24 157.761 Q2225.12 158.664 2227.78 158.664 L2232.16 158.664 L2232.16 162.229 L2227.78 162.229 Q2222.85 162.229 2220.98 160.4 Q2219.1 158.548 2219.1 153.687 L2219.1 139.613 L2215.98 139.613 L2215.98 136.303 L2219.1 136.303 L2219.1 128.942 L2223.38 128.942 Z\" fill=\"#000000\" fill-rule=\"nonzero\" fill-opacity=\"1\" /><path clip-path=\"url(#clip700)\" d=\"M2259.94 148.201 L2259.94 150.284 L2240.35 150.284 Q2240.63 154.682 2242.99 156.997 Q2245.37 159.289 2249.61 159.289 Q2252.06 159.289 2254.36 158.687 Q2256.67 158.085 2258.94 156.881 L2258.94 160.909 Q2256.65 161.881 2254.24 162.391 Q2251.83 162.9 2249.36 162.9 Q2243.15 162.9 2239.52 159.289 Q2235.91 155.678 2235.91 149.52 Q2235.91 143.155 2239.33 139.428 Q2242.78 135.678 2248.62 135.678 Q2253.85 135.678 2256.88 139.057 Q2259.94 142.414 2259.94 148.201 M2255.68 146.951 Q2255.63 143.456 2253.71 141.372 Q2251.81 139.289 2248.66 139.289 Q2245.1 139.289 2242.94 141.303 Q2240.81 143.317 2240.49 146.974 L2255.68 146.951 Z\" fill=\"#000000\" fill-rule=\"nonzero\" fill-opacity=\"1\" /></svg>\n"
      ]
     },
     "metadata": {},
     "output_type": "display_data"
    },
    {
     "data": {
      "text/html": [
       "<div><div style = \"float: left;\"><span>201×1 DataFrame</span></div><div style = \"float: right;\"><span style = \"font-style: italic;\">176 rows omitted</span></div><div style = \"clear: both;\"></div></div><div class = \"data-frame\" style = \"overflow-x: scroll;\"><table class = \"data-frame\" style = \"margin-bottom: 6px;\"><thead><tr class = \"header\"><th class = \"rowNumber\" style = \"font-weight: bold; text-align: right;\">Row</th><th style = \"text-align: left;\">white</th></tr><tr class = \"subheader headerLastRow\"><th class = \"rowNumber\" style = \"font-weight: bold; text-align: right;\"></th><th title = \"Int64\" style = \"text-align: left;\">Int64</th></tr></thead><tbody><tr><td class = \"rowNumber\" style = \"font-weight: bold; text-align: right;\">1</td><td style = \"text-align: right;\">2499</td></tr><tr><td class = \"rowNumber\" style = \"font-weight: bold; text-align: right;\">2</td><td style = \"text-align: right;\">2496</td></tr><tr><td class = \"rowNumber\" style = \"font-weight: bold; text-align: right;\">3</td><td style = \"text-align: right;\">2493</td></tr><tr><td class = \"rowNumber\" style = \"font-weight: bold; text-align: right;\">4</td><td style = \"text-align: right;\">2487</td></tr><tr><td class = \"rowNumber\" style = \"font-weight: bold; text-align: right;\">5</td><td style = \"text-align: right;\">2483</td></tr><tr><td class = \"rowNumber\" style = \"font-weight: bold; text-align: right;\">6</td><td style = \"text-align: right;\">2474</td></tr><tr><td class = \"rowNumber\" style = \"font-weight: bold; text-align: right;\">7</td><td style = \"text-align: right;\">2469</td></tr><tr><td class = \"rowNumber\" style = \"font-weight: bold; text-align: right;\">8</td><td style = \"text-align: right;\">2457</td></tr><tr><td class = \"rowNumber\" style = \"font-weight: bold; text-align: right;\">9</td><td style = \"text-align: right;\">2450</td></tr><tr><td class = \"rowNumber\" style = \"font-weight: bold; text-align: right;\">10</td><td style = \"text-align: right;\">2438</td></tr><tr><td class = \"rowNumber\" style = \"font-weight: bold; text-align: right;\">11</td><td style = \"text-align: right;\">2427</td></tr><tr><td class = \"rowNumber\" style = \"font-weight: bold; text-align: right;\">12</td><td style = \"text-align: right;\">2413</td></tr><tr><td class = \"rowNumber\" style = \"font-weight: bold; text-align: right;\">13</td><td style = \"text-align: right;\">2401</td></tr><tr><td style = \"text-align: right;\">&vellip;</td><td style = \"text-align: right;\">&vellip;</td></tr><tr><td class = \"rowNumber\" style = \"font-weight: bold; text-align: right;\">190</td><td style = \"text-align: right;\">1275</td></tr><tr><td class = \"rowNumber\" style = \"font-weight: bold; text-align: right;\">191</td><td style = \"text-align: right;\">1275</td></tr><tr><td class = \"rowNumber\" style = \"font-weight: bold; text-align: right;\">192</td><td style = \"text-align: right;\">1275</td></tr><tr><td class = \"rowNumber\" style = \"font-weight: bold; text-align: right;\">193</td><td style = \"text-align: right;\">1275</td></tr><tr><td class = \"rowNumber\" style = \"font-weight: bold; text-align: right;\">194</td><td style = \"text-align: right;\">1275</td></tr><tr><td class = \"rowNumber\" style = \"font-weight: bold; text-align: right;\">195</td><td style = \"text-align: right;\">1275</td></tr><tr><td class = \"rowNumber\" style = \"font-weight: bold; text-align: right;\">196</td><td style = \"text-align: right;\">1275</td></tr><tr><td class = \"rowNumber\" style = \"font-weight: bold; text-align: right;\">197</td><td style = \"text-align: right;\">1275</td></tr><tr><td class = \"rowNumber\" style = \"font-weight: bold; text-align: right;\">198</td><td style = \"text-align: right;\">1275</td></tr><tr><td class = \"rowNumber\" style = \"font-weight: bold; text-align: right;\">199</td><td style = \"text-align: right;\">1275</td></tr><tr><td class = \"rowNumber\" style = \"font-weight: bold; text-align: right;\">200</td><td style = \"text-align: right;\">1275</td></tr><tr><td class = \"rowNumber\" style = \"font-weight: bold; text-align: right;\">201</td><td style = \"text-align: right;\">1275</td></tr></tbody></table></div>"
      ],
      "text/latex": [
       "\\begin{tabular}{r|c}\n",
       "\t& white\\\\\n",
       "\t\\hline\n",
       "\t& Int64\\\\\n",
       "\t\\hline\n",
       "\t1 & 2499 \\\\\n",
       "\t2 & 2496 \\\\\n",
       "\t3 & 2493 \\\\\n",
       "\t4 & 2487 \\\\\n",
       "\t5 & 2483 \\\\\n",
       "\t6 & 2474 \\\\\n",
       "\t7 & 2469 \\\\\n",
       "\t8 & 2457 \\\\\n",
       "\t9 & 2450 \\\\\n",
       "\t10 & 2438 \\\\\n",
       "\t11 & 2427 \\\\\n",
       "\t12 & 2413 \\\\\n",
       "\t13 & 2401 \\\\\n",
       "\t14 & 2382 \\\\\n",
       "\t15 & 2369 \\\\\n",
       "\t16 & 2347 \\\\\n",
       "\t17 & 2332 \\\\\n",
       "\t18 & 2313 \\\\\n",
       "\t19 & 2293 \\\\\n",
       "\t20 & 2269 \\\\\n",
       "\t21 & 2248 \\\\\n",
       "\t22 & 2225 \\\\\n",
       "\t23 & 2202 \\\\\n",
       "\t24 & 2174 \\\\\n",
       "\t25 & 2149 \\\\\n",
       "\t26 & 2124 \\\\\n",
       "\t27 & 2101 \\\\\n",
       "\t28 & 2075 \\\\\n",
       "\t29 & 2048 \\\\\n",
       "\t30 & 2023 \\\\\n",
       "\t$\\dots$ & $\\dots$ \\\\\n",
       "\\end{tabular}\n"
      ],
      "text/plain": [
       "\u001b[1m201×1 DataFrame\u001b[0m\n",
       "\u001b[1m Row \u001b[0m│\u001b[1m white \u001b[0m\n",
       "     │\u001b[90m Int64 \u001b[0m\n",
       "─────┼───────\n",
       "   1 │  2499\n",
       "   2 │  2496\n",
       "   3 │  2493\n",
       "   4 │  2487\n",
       "   5 │  2483\n",
       "   6 │  2474\n",
       "   7 │  2469\n",
       "   8 │  2457\n",
       "   9 │  2450\n",
       "  10 │  2438\n",
       "  11 │  2427\n",
       "  ⋮  │   ⋮\n",
       " 192 │  1275\n",
       " 193 │  1275\n",
       " 194 │  1275\n",
       " 195 │  1275\n",
       " 196 │  1275\n",
       " 197 │  1275\n",
       " 198 │  1275\n",
       " 199 │  1275\n",
       " 200 │  1275\n",
       " 201 │  1275\n",
       "\u001b[36m180 rows omitted\u001b[0m"
      ]
     },
     "execution_count": 7,
     "metadata": {},
     "output_type": "execute_result"
    }
   ],
   "source": [
    "df = get_nums_patches(model, \n",
    "    patch-> patch.color == cl\"white\", \n",
    "    labels=[\"white\"], plot_result=true)"
   ]
  },
  {
   "cell_type": "code",
   "execution_count": null,
   "metadata": {},
   "outputs": [],
   "source": []
  }
 ],
 "metadata": {
  "@webio": {
   "lastCommId": "3fb4b71cfe1343628b07ec9aef67dd18",
   "lastKernelId": "7d5c546d-74e7-464e-bff1-af4b982db384"
  },
  "kernelspec": {
   "display_name": "Julia 1.9.2",
   "language": "julia",
   "name": "julia-1.9"
  },
  "language_info": {
   "file_extension": ".jl",
   "mimetype": "application/julia",
   "name": "julia",
   "version": "1.9.2"
  }
 },
 "nbformat": 4,
 "nbformat_minor": 4
}
