{
 "cells": [
  {
   "cell_type": "markdown",
   "metadata": {},
   "source": [
    "# Flocking"
   ]
  },
  {
   "cell_type": "code",
   "execution_count": 1,
   "metadata": {
    "scrolled": true
   },
   "outputs": [
    {
     "name": "stderr",
     "output_type": "stream",
     "text": [
      "\u001b[32m\u001b[1m  Activating\u001b[22m\u001b[39m project at `~/Documents/EasyABM`\n"
     ]
    },
    {
     "data": {
      "application/vnd.webio.node+json": {
       "children": [],
       "instanceArgs": {
        "namespace": "html",
        "tag": "div"
       },
       "nodeType": "DOM",
       "props": {},
       "type": "node"
      },
      "text/html": [
       "<div style=\"padding: 1em; background-color: #f8d6da; border: 1px solid #f5c6cb; font-weight: bold;\">\n",
       "<p>The WebIO Jupyter extension was not detected. See the\n",
       "<a href=\"https://juliagizmos.github.io/WebIO.jl/latest/providers/ijulia/\" target=\"_blank\">\n",
       "    WebIO Jupyter integration documentation\n",
       "</a>\n",
       "for more information.\n",
       "</div>\n"
      ],
      "text/plain": [
       "WebIO._IJuliaInit()"
      ]
     },
     "metadata": {
      "application/vnd.webio.node+json": {
       "kernelId": "c34e0d57-021e-4ab6-a24e-77a7a60dce39"
      }
     },
     "output_type": "display_data"
    }
   ],
   "source": [
    "#First two lines are not needed if using installed version of EasyABM\n",
    "using Pkg, Revise\n",
    "Pkg.activate(joinpath(@__DIR__,\"../..\"))\n",
    "using EasyABM\n"
   ]
  },
  {
   "cell_type": "markdown",
   "metadata": {},
   "source": [
    "# Step 1: Create Agents and Model\n",
    "\n",
    "Lets create 100 agents with properties `shape`, `pos`, `vel` and `orientation` (The `orientation` property is used internally by EasyABM to draw the direction agent is facing). The position `pos` is only accepted as a Vect which is an inbuilt vector type in EasyABM. It is also recommended for both convenience as well as performance to use Vect type for any vectorial properties in the model such as velocity and forces. The `keeps_record_of` argument is set of properties that the agent will record during time evolution. The model is defined with properties:\n",
    "\n",
    "* `min_dis` : The distance between boids below which they start repelling each other.\n",
    "* `coh_fac` : The proportionality constant for the cohere force. \n",
    "* `sep_fac` : The proportionality constant for the separation force.\n",
    "* `aln_fac` : The proportionality constant for the alignment force.\n",
    "* `vis_range` : The visual range of boids.\n",
    "* `dt` : The proportionality constant between change in position and velocity.\n",
    "\n",
    "The argument `agents_type` is set to Static which means that the agents number will remain fixed during simulation."
   ]
  },
  {
   "cell_type": "code",
   "execution_count": 11,
   "metadata": {},
   "outputs": [
    {
     "data": {
      "text/plain": [
       "EasyABM SpaceModel2D{EasyABM.StaticType, Float64, EasyABM.PeriodicType}: In a EasyABM.StaticType model number of agents is fixed.\n"
      ]
     },
     "execution_count": 11,
     "metadata": {},
     "output_type": "execute_result"
    }
   ],
   "source": [
    "boids = con_2d_agents(100, shape = :arrow, pos = Vect(0.0,0.0), \n",
    "    vel=Vect(0.0,0.0), orientation = 0.0, keeps_record_of = Set([:pos, :vel, :orientation]))\n",
    "model = create_2d_model(boids,\n",
    "    agents_type=Static, space_type = Periodic, \n",
    "    min_dis = 0.3, coh_fac = 0.05, \n",
    "    sep_fac = 0.5, dt= 0.1, vis_range = 2.0, aln_fac = 0.35)"
   ]
  },
  {
   "cell_type": "markdown",
   "metadata": {},
   "source": [
    "\n",
    "## Step 2: Initialise the model\n",
    "\n",
    "In this step we set the positions, velocities and orientations of boids and initialise the model."
   ]
  },
  {
   "cell_type": "code",
   "execution_count": 12,
   "metadata": {},
   "outputs": [],
   "source": [
    "function initialiser!(model)\n",
    "    xdim, ydim = model.size\n",
    "    for boid in model.agents\n",
    "        boid.pos = Vect(rand()*xdim, rand()*ydim)\n",
    "        boid.orientation = rand()*2*3.14\n",
    "        boid.vel = vector_orientation(boid.orientation)\n",
    "    end\n",
    "end\n",
    "\n",
    "init_model!(model, initialiser = initialiser!)"
   ]
  },
  {
   "cell_type": "markdown",
   "metadata": {},
   "source": [
    "## Step 3: Defining the step_rule! and running the model\n",
    "\n",
    "In this step we implement the step logic of the flocking model in the `step_rule!` function and run the model for 200 steps. "
   ]
  },
  {
   "cell_type": "code",
   "execution_count": 13,
   "metadata": {},
   "outputs": [
    {
     "data": {
      "text/plain": [
       "1.0e-5"
      ]
     },
     "execution_count": 13,
     "metadata": {},
     "output_type": "execute_result"
    }
   ],
   "source": [
    "ep = 0.00001 # can declare it as const for efficiency"
   ]
  },
  {
   "cell_type": "code",
   "execution_count": 14,
   "metadata": {},
   "outputs": [],
   "source": [
    "function step_rule!(model)\n",
    "    dt = model.properties.dt\n",
    "    for boid in model.agents\n",
    "        nbrs = neighbors(boid, model, model.properties.vis_range)\n",
    "        coh_force = Vect(0.0,0.0) # For a Vect all coordinates must be of same type\n",
    "        sep_force = Vect(0.0,0.0) \n",
    "        aln_force = Vect(0.0,0.0)\n",
    "        num = 0\n",
    "        for nbr in nbrs\n",
    "            num+=1\n",
    "            vec = nbr.pos - boid.pos\n",
    "            coh_force += vec\n",
    "            if veclength(vec)< model.properties.min_dis\n",
    "                sep_force -= vec\n",
    "            end\n",
    "            aln_force += nbr.vel\n",
    "        end\n",
    "        aln_force = num>0 ? (aln_force / num - boid.vel) * model.properties.aln_fac : aln_force\n",
    "        num = max(1, num)\n",
    "        coh_force *= (model.properties.coh_fac / num)\n",
    "        sep_force *=  model.properties.sep_fac\n",
    "        boid.vel  += (coh_force + sep_force) + aln_force\n",
    "        boid.vel  /= (veclength(boid.vel)+ep)\n",
    "        boid.orientation = calculate_direction(boid.vel)\n",
    "        boid.pos += boid.vel*dt\n",
    "    end\n",
    "end\n",
    "\n",
    "run_model!(model, steps=500, step_rule = step_rule!)"
   ]
  },
  {
   "cell_type": "markdown",
   "metadata": {},
   "source": [
    "## Step 4: Visualisation"
   ]
  },
  {
   "cell_type": "markdown",
   "metadata": {},
   "source": [
    "In order to draw the model at a specific frame, say 4th, one can use following function"
   ]
  },
  {
   "cell_type": "code",
   "execution_count": 6,
   "metadata": {},
   "outputs": [
    {
     "data": {
      "image/png": "[encoded data removed]",
      "text/plain": []
     },
     "execution_count": 6,
     "metadata": {},
     "output_type": "execute_result"
    }
   ],
   "source": [
    "draw_frame(model, frame = 4 )"
   ]
  },
  {
   "cell_type": "markdown",
   "metadata": {},
   "source": [
    "If one wants to see the animation of the last model run, it can be done as "
   ]
  },
  {
   "cell_type": "code",
   "execution_count": 15,
   "metadata": {},
   "outputs": [
    {
     "data": {
      "application/vnd.webio.node+json": {
       "children": [
        {
         "children": [
          {
           "children": [
            {
             "children": [
              {
               "children": [
                {
                 "children": [
                  {
                   "children": [
                    {
                     "children": [
                      "time"
                     ],
                     "instanceArgs": {
                      "namespace": "html",
                      "tag": "label"
                     },
                     "nodeType": "DOM",
                     "props": {
                      "className": "interact ",
                      "style": {
                       "padding": "5px 10px 0px 10px"
                      }
                     },
                     "type": "node"
                    }
                   ],
                   "instanceArgs": {
                    "namespace": "html",
                    "tag": "div"
                   },
                   "nodeType": "DOM",
                   "props": {
                    "className": "interact-flex-row-left"
                   },
                   "type": "node"
                  },
                  {
                   "children": [
                    {
                     "children": [],
                     "instanceArgs": {
                      "namespace": "html",
                      "tag": "input"
                     },
                     "nodeType": "DOM",
                     "props": {
                      "attributes": {
                       "data-bind": "numericValue: index, valueUpdate: 'input', event: {change: function (){this.changes(this.changes()+1)}}",
                       "orient": "horizontal",
                       "type": "range"
                      },
                      "className": "slider slider is-fullwidth",
                      "max": 501,
                      "min": 1,
                      "step": 1,
                      "style": {}
                     },
                     "type": "node"
                    }
                   ],
                   "instanceArgs": {
                    "namespace": "html",
                    "tag": "div"
                   },
                   "nodeType": "DOM",
                   "props": {
                    "className": "interact-flex-row-center"
                   },
                   "type": "node"
                  },
                  {
                   "children": [
                    {
                     "children": [],
                     "instanceArgs": {
                      "namespace": "html",
                      "tag": "p"
                     },
                     "nodeType": "DOM",
                     "props": {
                      "attributes": {
                       "data-bind": "text: formatted_val"
                      }
                     },
                     "type": "node"
                    }
                   ],
                   "instanceArgs": {
                    "namespace": "html",
                    "tag": "div"
                   },
                   "nodeType": "DOM",
                   "props": {
                    "className": "interact-flex-row-right"
                   },
                   "type": "node"
                  }
                 ],
                 "instanceArgs": {
                  "namespace": "html",
                  "tag": "div"
                 },
                 "nodeType": "DOM",
                 "props": {
                  "className": "interact-flex-row interact-widget"
                 },
                 "type": "node"
                }
               ],
               "instanceArgs": {
                "handlers": {
                 "changes": [
                  "(function (val){return (val!=this.model[\"changes\"]()) ? (this.valueFromJulia[\"changes\"]=true, this.model[\"changes\"](val)) : undefined})"
                 ],
                 "index": [
                  "(function (val){return (val!=this.model[\"index\"]()) ? (this.valueFromJulia[\"index\"]=true, this.model[\"index\"](val)) : undefined})"
                 ]
                },
                "id": "17231953199742171087",
                "imports": {
                 "data": [
                  {
                   "name": "knockout",
                   "type": "js",
                   "url": "/assetserver/727383f2a47bd31570b7da84eee7b022dd6d7c78-knockout.js"
                  },
                  {
                   "name": "knockout_punches",
                   "type": "js",
                   "url": "/assetserver/382b41b3b1bd9f26f75861d360bad7f8beea211f-knockout_punches.js"
                  },
                  {
                   "name": null,
                   "type": "js",
                   "url": "/assetserver/5ab20f1060420992a9b82a65b735dee4d81ef413-all.js"
                  },
                  {
                   "name": null,
                   "type": "css",
                   "url": "/assetserver/1cc0ed62837210b80a182cc3676512f895dab686-style.css"
                  },
                  {
                   "name": null,
                   "type": "css",
                   "url": "/assetserver/2eee816f616df3549d7044d45e744fbf8d42bfa1-bulma_confined.min.css"
                  }
                 ],
                 "type": "async_block"
                },
                "mount_callbacks": [
                 "function () {\n    var handler = (function (ko, koPunches) {\n    ko.punches.enableAll();\n    ko.bindingHandlers.numericValue = {\n        init: function(element, valueAccessor, allBindings, data, context) {\n            var stringified = ko.observable(ko.unwrap(valueAccessor()));\n            stringified.subscribe(function(value) {\n                var val = parseFloat(value);\n                if (!isNaN(val)) {\n                    valueAccessor()(val);\n                }\n            });\n            valueAccessor().subscribe(function(value) {\n                var str = JSON.stringify(value);\n                if ((str == \"0\") && ([\"-0\", \"-0.\"].indexOf(stringified()) >= 0))\n                     return;\n                 if ([\"null\", \"\"].indexOf(str) >= 0)\n                     return;\n                stringified(str);\n            });\n            ko.applyBindingsToNode(\n                element,\n                {\n                    value: stringified,\n                    valueUpdate: allBindings.get('valueUpdate'),\n                },\n                context,\n            );\n        }\n    };\n    var json_data = {\"formatted_vals\":[\"1\",\"2\",\"3\",\"4\",\"5\",\"6\",\"7\",\"8\",\"9\",\"10\",\"11\",\"12\",\"13\",\"14\",\"15\",\"16\",\"17\",\"18\",\"19\",\"20\",\"21\",\"22\",\"23\",\"24\",\"25\",\"26\",\"27\",\"28\",\"29\",\"30\",\"31\",\"32\",\"33\",\"34\",\"35\",\"36\",\"37\",\"38\",\"39\",\"40\",\"41\",\"42\",\"43\",\"44\",\"45\",\"46\",\"47\",\"48\",\"49\",\"50\",\"51\",\"52\",\"53\",\"54\",\"55\",\"56\",\"57\",\"58\",\"59\",\"60\",\"61\",\"62\",\"63\",\"64\",\"65\",\"66\",\"67\",\"68\",\"69\",\"70\",\"71\",\"72\",\"73\",\"74\",\"75\",\"76\",\"77\",\"78\",\"79\",\"80\",\"81\",\"82\",\"83\",\"84\",\"85\",\"86\",\"87\",\"88\",\"89\",\"90\",\"91\",\"92\",\"93\",\"94\",\"95\",\"96\",\"97\",\"98\",\"99\",\"100\",\"101\",\"102\",\"103\",\"104\",\"105\",\"106\",\"107\",\"108\",\"109\",\"110\",\"111\",\"112\",\"113\",\"114\",\"115\",\"116\",\"117\",\"118\",\"119\",\"120\",\"121\",\"122\",\"123\",\"124\",\"125\",\"126\",\"127\",\"128\",\"129\",\"130\",\"131\",\"132\",\"133\",\"134\",\"135\",\"136\",\"137\",\"138\",\"139\",\"140\",\"141\",\"142\",\"143\",\"144\",\"145\",\"146\",\"147\",\"148\",\"149\",\"150\",\"151\",\"152\",\"153\",\"154\",\"155\",\"156\",\"157\",\"158\",\"159\",\"160\",\"161\",\"162\",\"163\",\"164\",\"165\",\"166\",\"167\",\"168\",\"169\",\"170\",\"171\",\"172\",\"173\",\"174\",\"175\",\"176\",\"177\",\"178\",\"179\",\"180\",\"181\",\"182\",\"183\",\"184\",\"185\",\"186\",\"187\",\"188\",\"189\",\"190\",\"191\",\"192\",\"193\",\"194\",\"195\",\"196\",\"197\",\"198\",\"199\",\"200\",\"201\",\"202\",\"203\",\"204\",\"205\",\"206\",\"207\",\"208\",\"209\",\"210\",\"211\",\"212\",\"213\",\"214\",\"215\",\"216\",\"217\",\"218\",\"219\",\"220\",\"221\",\"222\",\"223\",\"224\",\"225\",\"226\",\"227\",\"228\",\"229\",\"230\",\"231\",\"232\",\"233\",\"234\",\"235\",\"236\",\"237\",\"238\",\"239\",\"240\",\"241\",\"242\",\"243\",\"244\",\"245\",\"246\",\"247\",\"248\",\"249\",\"250\",\"251\",\"252\",\"253\",\"254\",\"255\",\"256\",\"257\",\"258\",\"259\",\"260\",\"261\",\"262\",\"263\",\"264\",\"265\",\"266\",\"267\",\"268\",\"269\",\"270\",\"271\",\"272\",\"273\",\"274\",\"275\",\"276\",\"277\",\"278\",\"279\",\"280\",\"281\",\"282\",\"283\",\"284\",\"285\",\"286\",\"287\",\"288\",\"289\",\"290\",\"291\",\"292\",\"293\",\"294\",\"295\",\"296\",\"297\",\"298\",\"299\",\"300\",\"301\",\"302\",\"303\",\"304\",\"305\",\"306\",\"307\",\"308\",\"309\",\"310\",\"311\",\"312\",\"313\",\"314\",\"315\",\"316\",\"317\",\"318\",\"319\",\"320\",\"321\",\"322\",\"323\",\"324\",\"325\",\"326\",\"327\",\"328\",\"329\",\"330\",\"331\",\"332\",\"333\",\"334\",\"335\",\"336\",\"337\",\"338\",\"339\",\"340\",\"341\",\"342\",\"343\",\"344\",\"345\",\"346\",\"347\",\"348\",\"349\",\"350\",\"351\",\"352\",\"353\",\"354\",\"355\",\"356\",\"357\",\"358\",\"359\",\"360\",\"361\",\"362\",\"363\",\"364\",\"365\",\"366\",\"367\",\"368\",\"369\",\"370\",\"371\",\"372\",\"373\",\"374\",\"375\",\"376\",\"377\",\"378\",\"379\",\"380\",\"381\",\"382\",\"383\",\"384\",\"385\",\"386\",\"387\",\"388\",\"389\",\"390\",\"391\",\"392\",\"393\",\"394\",\"395\",\"396\",\"397\",\"398\",\"399\",\"400\",\"401\",\"402\",\"403\",\"404\",\"405\",\"406\",\"407\",\"408\",\"409\",\"410\",\"411\",\"412\",\"413\",\"414\",\"415\",\"416\",\"417\",\"418\",\"419\",\"420\",\"421\",\"422\",\"423\",\"424\",\"425\",\"426\",\"427\",\"428\",\"429\",\"430\",\"431\",\"432\",\"433\",\"434\",\"435\",\"436\",\"437\",\"438\",\"439\",\"440\",\"441\",\"442\",\"443\",\"444\",\"445\",\"446\",\"447\",\"448\",\"449\",\"450\",\"451\",\"452\",\"453\",\"454\",\"455\",\"456\",\"457\",\"458\",\"459\",\"460\",\"461\",\"462\",\"463\",\"464\",\"465\",\"466\",\"467\",\"468\",\"469\",\"470\",\"471\",\"472\",\"473\",\"474\",\"475\",\"476\",\"477\",\"478\",\"479\",\"480\",\"481\",\"482\",\"483\",\"484\",\"485\",\"486\",\"487\",\"488\",\"489\",\"490\",\"491\",\"492\",\"493\",\"494\",\"495\",\"496\",\"497\",\"498\",\"499\",\"500\",\"501\"],\"changes\":WebIO.getval({\"name\":\"changes\",\"scope\":\"17231953199742171087\",\"id\":\"1060839023505695466\",\"type\":\"observable\"}),\"index\":WebIO.getval({\"name\":\"index\",\"scope\":\"17231953199742171087\",\"id\":\"1965990277613965676\",\"type\":\"observable\"})};\n    var self = this;\n    function AppViewModel() {\n        for (var key in json_data) {\n            var el = json_data[key];\n            this[key] = Array.isArray(el) ? ko.observableArray(el) : ko.observable(el);\n        }\n        \n        [this[\"formatted_val\"]=ko.computed(    function(){\n        return this.formatted_vals()[parseInt(this.index())-(1)];\n    }\n,this)]\n        [this[\"changes\"].subscribe((function (val){!(this.valueFromJulia[\"changes\"]) ? (WebIO.setval({\"name\":\"changes\",\"scope\":\"17231953199742171087\",\"id\":\"1060839023505695466\",\"type\":\"observable\"},val)) : undefined; return this.valueFromJulia[\"changes\"]=false}),self),this[\"index\"].subscribe((function (val){!(this.valueFromJulia[\"index\"]) ? (WebIO.setval({\"name\":\"index\",\"scope\":\"17231953199742171087\",\"id\":\"1965990277613965676\",\"type\":\"observable\"},val)) : undefined; return this.valueFromJulia[\"index\"]=false}),self)]\n        \n    }\n    self.model = new AppViewModel();\n    self.valueFromJulia = {};\n    for (var key in json_data) {\n        self.valueFromJulia[key] = false;\n    }\n    ko.applyBindings(self.model, self.dom);\n}\n);\n    (WebIO.importBlock({\"data\":[{\"name\":\"knockout\",\"type\":\"js\",\"url\":\"/assetserver/727383f2a47bd31570b7da84eee7b022dd6d7c78-knockout.js\"},{\"name\":\"knockout_punches\",\"type\":\"js\",\"url\":\"/assetserver/382b41b3b1bd9f26f75861d360bad7f8beea211f-knockout_punches.js\"}],\"type\":\"async_block\"})).then((imports) => handler.apply(this, imports));\n}\n"
                ],
                "observables": {
                 "changes": {
                  "id": "1060839023505695466",
                  "sync": false,
                  "value": 0
                 },
                 "index": {
                  "id": "1965990277613965676",
                  "sync": true,
                  "value": 251
                 }
                },
                "systemjs_options": null
               },
               "nodeType": "Scope",
               "props": {},
               "type": "node"
              }
             ],
             "instanceArgs": {
              "namespace": "html",
              "tag": "div"
             },
             "nodeType": "DOM",
             "props": {
              "className": "field interact-widget"
             },
             "type": "node"
            },
            {
             "children": [
              {
               "children": [
                {
                 "children": [
                  {
                   "children": [
                    {
                     "children": [
                      "scale"
                     ],
                     "instanceArgs": {
                      "namespace": "html",
                      "tag": "label"
                     },
                     "nodeType": "DOM",
                     "props": {
                      "className": "interact ",
                      "style": {
                       "padding": "5px 10px 0px 10px"
                      }
                     },
                     "type": "node"
                    }
                   ],
                   "instanceArgs": {
                    "namespace": "html",
                    "tag": "div"
                   },
                   "nodeType": "DOM",
                   "props": {
                    "className": "interact-flex-row-left"
                   },
                   "type": "node"
                  },
                  {
                   "children": [
                    {
                     "children": [],
                     "instanceArgs": {
                      "namespace": "html",
                      "tag": "input"
                     },
                     "nodeType": "DOM",
                     "props": {
                      "attributes": {
                       "data-bind": "numericValue: index, valueUpdate: 'input', event: {change: function (){this.changes(this.changes()+1)}}",
                       "orient": "horizontal",
                       "type": "range"
                      },
                      "className": "slider slider is-fullwidth",
                      "max": 20,
                      "min": 1,
                      "step": 1,
                      "style": {}
                     },
                     "type": "node"
                    }
                   ],
                   "instanceArgs": {
                    "namespace": "html",
                    "tag": "div"
                   },
                   "nodeType": "DOM",
                   "props": {
                    "className": "interact-flex-row-center"
                   },
                   "type": "node"
                  },
                  {
                   "children": [
                    {
                     "children": [],
                     "instanceArgs": {
                      "namespace": "html",
                      "tag": "p"
                     },
                     "nodeType": "DOM",
                     "props": {
                      "attributes": {
                       "data-bind": "text: formatted_val"
                      }
                     },
                     "type": "node"
                    }
                   ],
                   "instanceArgs": {
                    "namespace": "html",
                    "tag": "div"
                   },
                   "nodeType": "DOM",
                   "props": {
                    "className": "interact-flex-row-right"
                   },
                   "type": "node"
                  }
                 ],
                 "instanceArgs": {
                  "namespace": "html",
                  "tag": "div"
                 },
                 "nodeType": "DOM",
                 "props": {
                  "className": "interact-flex-row interact-widget"
                 },
                 "type": "node"
                }
               ],
               "instanceArgs": {
                "handlers": {
                 "changes": [
                  "(function (val){return (val!=this.model[\"changes\"]()) ? (this.valueFromJulia[\"changes\"]=true, this.model[\"changes\"](val)) : undefined})"
                 ],
                 "index": [
                  "(function (val){return (val!=this.model[\"index\"]()) ? (this.valueFromJulia[\"index\"]=true, this.model[\"index\"](val)) : undefined})"
                 ]
                },
                "id": "4786329490703390592",
                "imports": {
                 "data": [
                  {
                   "name": "knockout",
                   "type": "js",
                   "url": "/assetserver/727383f2a47bd31570b7da84eee7b022dd6d7c78-knockout.js"
                  },
                  {
                   "name": "knockout_punches",
                   "type": "js",
                   "url": "/assetserver/382b41b3b1bd9f26f75861d360bad7f8beea211f-knockout_punches.js"
                  },
                  {
                   "name": null,
                   "type": "js",
                   "url": "/assetserver/5ab20f1060420992a9b82a65b735dee4d81ef413-all.js"
                  },
                  {
                   "name": null,
                   "type": "css",
                   "url": "/assetserver/1cc0ed62837210b80a182cc3676512f895dab686-style.css"
                  },
                  {
                   "name": null,
                   "type": "css",
                   "url": "/assetserver/2eee816f616df3549d7044d45e744fbf8d42bfa1-bulma_confined.min.css"
                  }
                 ],
                 "type": "async_block"
                },
                "mount_callbacks": [
                 "function () {\n    var handler = (function (ko, koPunches) {\n    ko.punches.enableAll();\n    ko.bindingHandlers.numericValue = {\n        init: function(element, valueAccessor, allBindings, data, context) {\n            var stringified = ko.observable(ko.unwrap(valueAccessor()));\n            stringified.subscribe(function(value) {\n                var val = parseFloat(value);\n                if (!isNaN(val)) {\n                    valueAccessor()(val);\n                }\n            });\n            valueAccessor().subscribe(function(value) {\n                var str = JSON.stringify(value);\n                if ((str == \"0\") && ([\"-0\", \"-0.\"].indexOf(stringified()) >= 0))\n                     return;\n                 if ([\"null\", \"\"].indexOf(str) >= 0)\n                     return;\n                stringified(str);\n            });\n            ko.applyBindingsToNode(\n                element,\n                {\n                    value: stringified,\n                    valueUpdate: allBindings.get('valueUpdate'),\n                },\n                context,\n            );\n        }\n    };\n    var json_data = {\"formatted_vals\":[\"0.1\",\"0.2\",\"0.3\",\"0.4\",\"0.5\",\"0.6\",\"0.7\",\"0.8\",\"0.9\",\"1.0\",\"1.1\",\"1.2\",\"1.3\",\"1.4\",\"1.5\",\"1.6\",\"1.7\",\"1.8\",\"1.9\",\"2.0\"],\"changes\":WebIO.getval({\"name\":\"changes\",\"scope\":\"4786329490703390592\",\"id\":\"13533991677627978485\",\"type\":\"observable\"}),\"index\":WebIO.getval({\"name\":\"index\",\"scope\":\"4786329490703390592\",\"id\":\"1589105905076684854\",\"type\":\"observable\"})};\n    var self = this;\n    function AppViewModel() {\n        for (var key in json_data) {\n            var el = json_data[key];\n            this[key] = Array.isArray(el) ? ko.observableArray(el) : ko.observable(el);\n        }\n        \n        [this[\"formatted_val\"]=ko.computed(    function(){\n        return this.formatted_vals()[parseInt(this.index())-(1)];\n    }\n,this)]\n        [this[\"changes\"].subscribe((function (val){!(this.valueFromJulia[\"changes\"]) ? (WebIO.setval({\"name\":\"changes\",\"scope\":\"4786329490703390592\",\"id\":\"13533991677627978485\",\"type\":\"observable\"},val)) : undefined; return this.valueFromJulia[\"changes\"]=false}),self),this[\"index\"].subscribe((function (val){!(this.valueFromJulia[\"index\"]) ? (WebIO.setval({\"name\":\"index\",\"scope\":\"4786329490703390592\",\"id\":\"1589105905076684854\",\"type\":\"observable\"},val)) : undefined; return this.valueFromJulia[\"index\"]=false}),self)]\n        \n    }\n    self.model = new AppViewModel();\n    self.valueFromJulia = {};\n    for (var key in json_data) {\n        self.valueFromJulia[key] = false;\n    }\n    ko.applyBindings(self.model, self.dom);\n}\n);\n    (WebIO.importBlock({\"data\":[{\"name\":\"knockout\",\"type\":\"js\",\"url\":\"/assetserver/727383f2a47bd31570b7da84eee7b022dd6d7c78-knockout.js\"},{\"name\":\"knockout_punches\",\"type\":\"js\",\"url\":\"/assetserver/382b41b3b1bd9f26f75861d360bad7f8beea211f-knockout_punches.js\"}],\"type\":\"async_block\"})).then((imports) => handler.apply(this, imports));\n}\n"
                ],
                "observables": {
                 "changes": {
                  "id": "13533991677627978485",
                  "sync": false,
                  "value": 0
                 },
                 "index": {
                  "id": "1589105905076684854",
                  "sync": true,
                  "value": 10
                 }
                },
                "systemjs_options": null
               },
               "nodeType": "Scope",
               "props": {},
               "type": "node"
              }
             ],
             "instanceArgs": {
              "namespace": "html",
              "tag": "div"
             },
             "nodeType": "DOM",
             "props": {
              "className": "field interact-widget"
             },
             "type": "node"
            },
            {
             "children": [
              {
               "children": [
                {
                 "children": [
                  {
                   "children": [],
                   "instanceArgs": {
                    "namespace": "html",
                    "tag": "div"
                   },
                   "nodeType": "DOM",
                   "props": {
                    "id": "container"
                   },
                   "type": "node"
                  }
                 ],
                 "instanceArgs": {
                  "handlers": {
                   "value": [
                    "(function (txt){return this.k.render(txt,this.container)})"
                   ]
                  },
                  "id": "8062292069697084803",
                  "imports": {
                   "data": [
                    {
                     "name": null,
                     "type": "js",
                     "url": "/assetserver/dd22ed1bf1896c2748f3fe616ce0b838adc895c1-katex.min.js"
                    },
                    {
                     "name": null,
                     "type": "css",
                     "url": "/assetserver/46517a424aa5e6cffc1360d7e0848b601c584ee3-katex.min.css"
                    }
                   ],
                   "type": "async_block"
                  },
                  "mount_callbacks": [
                   "function () {\n    var handler = ((function (k){this.k=k; this.container=this.dom.querySelector(\"#container\"); return k.render(\"\\\\;\\\\;\",this.container)}));\n    (WebIO.importBlock({\"data\":[{\"name\":null,\"type\":\"js\",\"url\":\"/assetserver/dd22ed1bf1896c2748f3fe616ce0b838adc895c1-katex.min.js\"},{\"name\":null,\"type\":\"css\",\"url\":\"/assetserver/46517a424aa5e6cffc1360d7e0848b601c584ee3-katex.min.css\"}],\"type\":\"async_block\"})).then((imports) => handler.apply(this, imports));\n}\n"
                  ],
                  "observables": {
                   "value": {
                    "id": "16952965416982687109",
                    "sync": false,
                    "value": "\\;\\;"
                   }
                  },
                  "systemjs_options": null
                 },
                 "nodeType": "Scope",
                 "props": {},
                 "type": "node"
                }
               ],
               "instanceArgs": {
                "namespace": "html",
                "tag": "div"
               },
               "nodeType": "DOM",
               "props": {
                "className": "interact-widget"
               },
               "type": "node"
              },
              {
               "children": [
                {
                 "children": [
                  {
                   "children": [
                    "run"
                   ],
                   "instanceArgs": {
                    "namespace": "html",
                    "tag": "button"
                   },
                   "nodeType": "DOM",
                   "props": {
                    "attributes": {
                     "data-bind": "click: function (){this.clicks(this.clicks()+1)}, css: {'is-loading' : loading}"
                    },
                    "className": "is-medium button is-primary",
                    "style": {}
                   },
                   "type": "node"
                  }
                 ],
                 "instanceArgs": {
                  "handlers": {
                   "clicks": [
                    "(function (val){return (val!=this.model[\"clicks\"]()) ? (this.valueFromJulia[\"clicks\"]=true, this.model[\"clicks\"](val)) : undefined})"
                   ],
                   "loading": [
                    "(function (val){return (val!=this.model[\"loading\"]()) ? (this.valueFromJulia[\"loading\"]=true, this.model[\"loading\"](val)) : undefined})"
                   ]
                  },
                  "id": "4426932562851537276",
                  "imports": {
                   "data": [
                    {
                     "name": "knockout",
                     "type": "js",
                     "url": "/assetserver/727383f2a47bd31570b7da84eee7b022dd6d7c78-knockout.js"
                    },
                    {
                     "name": "knockout_punches",
                     "type": "js",
                     "url": "/assetserver/382b41b3b1bd9f26f75861d360bad7f8beea211f-knockout_punches.js"
                    },
                    {
                     "name": null,
                     "type": "js",
                     "url": "/assetserver/5ab20f1060420992a9b82a65b735dee4d81ef413-all.js"
                    },
                    {
                     "name": null,
                     "type": "css",
                     "url": "/assetserver/1cc0ed62837210b80a182cc3676512f895dab686-style.css"
                    },
                    {
                     "name": null,
                     "type": "css",
                     "url": "/assetserver/2eee816f616df3549d7044d45e744fbf8d42bfa1-bulma_confined.min.css"
                    }
                   ],
                   "type": "async_block"
                  },
                  "mount_callbacks": [
                   "function () {\n    var handler = (function (ko, koPunches) {\n    ko.punches.enableAll();\n    ko.bindingHandlers.numericValue = {\n        init: function(element, valueAccessor, allBindings, data, context) {\n            var stringified = ko.observable(ko.unwrap(valueAccessor()));\n            stringified.subscribe(function(value) {\n                var val = parseFloat(value);\n                if (!isNaN(val)) {\n                    valueAccessor()(val);\n                }\n            });\n            valueAccessor().subscribe(function(value) {\n                var str = JSON.stringify(value);\n                if ((str == \"0\") && ([\"-0\", \"-0.\"].indexOf(stringified()) >= 0))\n                     return;\n                 if ([\"null\", \"\"].indexOf(str) >= 0)\n                     return;\n                stringified(str);\n            });\n            ko.applyBindingsToNode(\n                element,\n                {\n                    value: stringified,\n                    valueUpdate: allBindings.get('valueUpdate'),\n                },\n                context,\n            );\n        }\n    };\n    var json_data = {\"loading\":WebIO.getval({\"name\":\"loading\",\"scope\":\"4426932562851537276\",\"id\":\"6481808451080734063\",\"type\":\"observable\"}),\"clicks\":WebIO.getval({\"name\":\"clicks\",\"scope\":\"4426932562851537276\",\"id\":\"6438746202865598985\",\"type\":\"observable\"})};\n    var self = this;\n    function AppViewModel() {\n        for (var key in json_data) {\n            var el = json_data[key];\n            this[key] = Array.isArray(el) ? ko.observableArray(el) : ko.observable(el);\n        }\n        \n        \n        [this[\"loading\"].subscribe((function (val){!(this.valueFromJulia[\"loading\"]) ? (WebIO.setval({\"name\":\"loading\",\"scope\":\"4426932562851537276\",\"id\":\"6481808451080734063\",\"type\":\"observable\"},val)) : undefined; return this.valueFromJulia[\"loading\"]=false}),self),this[\"clicks\"].subscribe((function (val){!(this.valueFromJulia[\"clicks\"]) ? (WebIO.setval({\"name\":\"clicks\",\"scope\":\"4426932562851537276\",\"id\":\"6438746202865598985\",\"type\":\"observable\"},val)) : undefined; return this.valueFromJulia[\"clicks\"]=false}),self)]\n        \n    }\n    self.model = new AppViewModel();\n    self.valueFromJulia = {};\n    for (var key in json_data) {\n        self.valueFromJulia[key] = false;\n    }\n    ko.applyBindings(self.model, self.dom);\n}\n);\n    (WebIO.importBlock({\"data\":[{\"name\":\"knockout\",\"type\":\"js\",\"url\":\"/assetserver/727383f2a47bd31570b7da84eee7b022dd6d7c78-knockout.js\"},{\"name\":\"knockout_punches\",\"type\":\"js\",\"url\":\"/assetserver/382b41b3b1bd9f26f75861d360bad7f8beea211f-knockout_punches.js\"}],\"type\":\"async_block\"})).then((imports) => handler.apply(this, imports));\n}\n"
                  ],
                  "observables": {
                   "clicks": {
                    "id": "6438746202865598985",
                    "sync": true,
                    "value": 0
                   },
                   "loading": {
                    "id": "6481808451080734063",
                    "sync": false,
                    "value": false
                   }
                  },
                  "systemjs_options": null
                 },
                 "nodeType": "Scope",
                 "props": {},
                 "type": "node"
                }
               ],
               "instanceArgs": {
                "namespace": "html",
                "tag": "div"
               },
               "nodeType": "DOM",
               "props": {
                "className": "field interact-widget"
               },
               "type": "node"
              },
              {
               "children": [
                {
                 "children": [
                  {
                   "children": [],
                   "instanceArgs": {
                    "namespace": "html",
                    "tag": "div"
                   },
                   "nodeType": "DOM",
                   "props": {
                    "id": "container"
                   },
                   "type": "node"
                  }
                 ],
                 "instanceArgs": {
                  "handlers": {
                   "value": [
                    "(function (txt){return this.k.render(txt,this.container)})"
                   ]
                  },
                  "id": "8062292069697084803",
                  "imports": {
                   "data": [
                    {
                     "name": null,
                     "type": "js",
                     "url": "/assetserver/dd22ed1bf1896c2748f3fe616ce0b838adc895c1-katex.min.js"
                    },
                    {
                     "name": null,
                     "type": "css",
                     "url": "/assetserver/46517a424aa5e6cffc1360d7e0848b601c584ee3-katex.min.css"
                    }
                   ],
                   "type": "async_block"
                  },
                  "mount_callbacks": [
                   "function () {\n    var handler = ((function (k){this.k=k; this.container=this.dom.querySelector(\"#container\"); return k.render(\"\\\\;\\\\;\",this.container)}));\n    (WebIO.importBlock({\"data\":[{\"name\":null,\"type\":\"js\",\"url\":\"/assetserver/dd22ed1bf1896c2748f3fe616ce0b838adc895c1-katex.min.js\"},{\"name\":null,\"type\":\"css\",\"url\":\"/assetserver/46517a424aa5e6cffc1360d7e0848b601c584ee3-katex.min.css\"}],\"type\":\"async_block\"})).then((imports) => handler.apply(this, imports));\n}\n"
                  ],
                  "observables": {
                   "value": {
                    "id": "16952965416982687109",
                    "sync": false,
                    "value": "\\;\\;"
                   }
                  },
                  "systemjs_options": null
                 },
                 "nodeType": "Scope",
                 "props": {},
                 "type": "node"
                }
               ],
               "instanceArgs": {
                "namespace": "html",
                "tag": "div"
               },
               "nodeType": "DOM",
               "props": {
                "className": "interact-widget"
               },
               "type": "node"
              },
              {
               "children": [
                {
                 "children": [
                  {
                   "children": [
                    "stop"
                   ],
                   "instanceArgs": {
                    "namespace": "html",
                    "tag": "button"
                   },
                   "nodeType": "DOM",
                   "props": {
                    "attributes": {
                     "data-bind": "click: function (){this.clicks(this.clicks()+1)}, css: {'is-loading' : loading}"
                    },
                    "className": "is-medium button is-primary",
                    "style": {}
                   },
                   "type": "node"
                  }
                 ],
                 "instanceArgs": {
                  "handlers": {
                   "clicks": [
                    "(function (val){return (val!=this.model[\"clicks\"]()) ? (this.valueFromJulia[\"clicks\"]=true, this.model[\"clicks\"](val)) : undefined})"
                   ],
                   "loading": [
                    "(function (val){return (val!=this.model[\"loading\"]()) ? (this.valueFromJulia[\"loading\"]=true, this.model[\"loading\"](val)) : undefined})"
                   ]
                  },
                  "id": "7025554394955427859",
                  "imports": {
                   "data": [
                    {
                     "name": "knockout",
                     "type": "js",
                     "url": "/assetserver/727383f2a47bd31570b7da84eee7b022dd6d7c78-knockout.js"
                    },
                    {
                     "name": "knockout_punches",
                     "type": "js",
                     "url": "/assetserver/382b41b3b1bd9f26f75861d360bad7f8beea211f-knockout_punches.js"
                    },
                    {
                     "name": null,
                     "type": "js",
                     "url": "/assetserver/5ab20f1060420992a9b82a65b735dee4d81ef413-all.js"
                    },
                    {
                     "name": null,
                     "type": "css",
                     "url": "/assetserver/1cc0ed62837210b80a182cc3676512f895dab686-style.css"
                    },
                    {
                     "name": null,
                     "type": "css",
                     "url": "/assetserver/2eee816f616df3549d7044d45e744fbf8d42bfa1-bulma_confined.min.css"
                    }
                   ],
                   "type": "async_block"
                  },
                  "mount_callbacks": [
                   "function () {\n    var handler = (function (ko, koPunches) {\n    ko.punches.enableAll();\n    ko.bindingHandlers.numericValue = {\n        init: function(element, valueAccessor, allBindings, data, context) {\n            var stringified = ko.observable(ko.unwrap(valueAccessor()));\n            stringified.subscribe(function(value) {\n                var val = parseFloat(value);\n                if (!isNaN(val)) {\n                    valueAccessor()(val);\n                }\n            });\n            valueAccessor().subscribe(function(value) {\n                var str = JSON.stringify(value);\n                if ((str == \"0\") && ([\"-0\", \"-0.\"].indexOf(stringified()) >= 0))\n                     return;\n                 if ([\"null\", \"\"].indexOf(str) >= 0)\n                     return;\n                stringified(str);\n            });\n            ko.applyBindingsToNode(\n                element,\n                {\n                    value: stringified,\n                    valueUpdate: allBindings.get('valueUpdate'),\n                },\n                context,\n            );\n        }\n    };\n    var json_data = {\"loading\":WebIO.getval({\"name\":\"loading\",\"scope\":\"7025554394955427859\",\"id\":\"6548549983738565475\",\"type\":\"observable\"}),\"clicks\":WebIO.getval({\"name\":\"clicks\",\"scope\":\"7025554394955427859\",\"id\":\"1473298779815518127\",\"type\":\"observable\"})};\n    var self = this;\n    function AppViewModel() {\n        for (var key in json_data) {\n            var el = json_data[key];\n            this[key] = Array.isArray(el) ? ko.observableArray(el) : ko.observable(el);\n        }\n        \n        \n        [this[\"loading\"].subscribe((function (val){!(this.valueFromJulia[\"loading\"]) ? (WebIO.setval({\"name\":\"loading\",\"scope\":\"7025554394955427859\",\"id\":\"6548549983738565475\",\"type\":\"observable\"},val)) : undefined; return this.valueFromJulia[\"loading\"]=false}),self),this[\"clicks\"].subscribe((function (val){!(this.valueFromJulia[\"clicks\"]) ? (WebIO.setval({\"name\":\"clicks\",\"scope\":\"7025554394955427859\",\"id\":\"1473298779815518127\",\"type\":\"observable\"},val)) : undefined; return this.valueFromJulia[\"clicks\"]=false}),self)]\n        \n    }\n    self.model = new AppViewModel();\n    self.valueFromJulia = {};\n    for (var key in json_data) {\n        self.valueFromJulia[key] = false;\n    }\n    ko.applyBindings(self.model, self.dom);\n}\n);\n    (WebIO.importBlock({\"data\":[{\"name\":\"knockout\",\"type\":\"js\",\"url\":\"/assetserver/727383f2a47bd31570b7da84eee7b022dd6d7c78-knockout.js\"},{\"name\":\"knockout_punches\",\"type\":\"js\",\"url\":\"/assetserver/382b41b3b1bd9f26f75861d360bad7f8beea211f-knockout_punches.js\"}],\"type\":\"async_block\"})).then((imports) => handler.apply(this, imports));\n}\n"
                  ],
                  "observables": {
                   "clicks": {
                    "id": "1473298779815518127",
                    "sync": true,
                    "value": 0
                   },
                   "loading": {
                    "id": "6548549983738565475",
                    "sync": false,
                    "value": false
                   }
                  },
                  "systemjs_options": null
                 },
                 "nodeType": "Scope",
                 "props": {},
                 "type": "node"
                }
               ],
               "instanceArgs": {
                "namespace": "html",
                "tag": "div"
               },
               "nodeType": "DOM",
               "props": {
                "className": "field interact-widget"
               },
               "type": "node"
              },
              {
               "children": [
                {
                 "children": [
                  {
                   "children": [],
                   "instanceArgs": {
                    "namespace": "html",
                    "tag": "div"
                   },
                   "nodeType": "DOM",
                   "props": {
                    "id": "container"
                   },
                   "type": "node"
                  }
                 ],
                 "instanceArgs": {
                  "handlers": {
                   "value": [
                    "(function (txt){return this.k.render(txt,this.container)})"
                   ]
                  },
                  "id": "8062292069697084803",
                  "imports": {
                   "data": [
                    {
                     "name": null,
                     "type": "js",
                     "url": "/assetserver/dd22ed1bf1896c2748f3fe616ce0b838adc895c1-katex.min.js"
                    },
                    {
                     "name": null,
                     "type": "css",
                     "url": "/assetserver/46517a424aa5e6cffc1360d7e0848b601c584ee3-katex.min.css"
                    }
                   ],
                   "type": "async_block"
                  },
                  "mount_callbacks": [
                   "function () {\n    var handler = ((function (k){this.k=k; this.container=this.dom.querySelector(\"#container\"); return k.render(\"\\\\;\\\\;\",this.container)}));\n    (WebIO.importBlock({\"data\":[{\"name\":null,\"type\":\"js\",\"url\":\"/assetserver/dd22ed1bf1896c2748f3fe616ce0b838adc895c1-katex.min.js\"},{\"name\":null,\"type\":\"css\",\"url\":\"/assetserver/46517a424aa5e6cffc1360d7e0848b601c584ee3-katex.min.css\"}],\"type\":\"async_block\"})).then((imports) => handler.apply(this, imports));\n}\n"
                  ],
                  "observables": {
                   "value": {
                    "id": "16952965416982687109",
                    "sync": false,
                    "value": "\\;\\;"
                   }
                  },
                  "systemjs_options": null
                 },
                 "nodeType": "Scope",
                 "props": {},
                 "type": "node"
                }
               ],
               "instanceArgs": {
                "namespace": "html",
                "tag": "div"
               },
               "nodeType": "DOM",
               "props": {
                "className": "interact-widget"
               },
               "type": "node"
              },
              {
               "children": [
                {
                 "children": [
                  {
                   "children": [
                    "save"
                   ],
                   "instanceArgs": {
                    "namespace": "html",
                    "tag": "button"
                   },
                   "nodeType": "DOM",
                   "props": {
                    "attributes": {
                     "data-bind": "click: function (){this.clicks(this.clicks()+1)}, css: {'is-loading' : loading}"
                    },
                    "className": "is-medium button is-primary",
                    "style": {}
                   },
                   "type": "node"
                  }
                 ],
                 "instanceArgs": {
                  "handlers": {
                   "clicks": [
                    "(function (val){return (val!=this.model[\"clicks\"]()) ? (this.valueFromJulia[\"clicks\"]=true, this.model[\"clicks\"](val)) : undefined})"
                   ],
                   "loading": [
                    "(function (val){return (val!=this.model[\"loading\"]()) ? (this.valueFromJulia[\"loading\"]=true, this.model[\"loading\"](val)) : undefined})"
                   ]
                  },
                  "id": "15402166312532734474",
                  "imports": {
                   "data": [
                    {
                     "name": "knockout",
                     "type": "js",
                     "url": "/assetserver/727383f2a47bd31570b7da84eee7b022dd6d7c78-knockout.js"
                    },
                    {
                     "name": "knockout_punches",
                     "type": "js",
                     "url": "/assetserver/382b41b3b1bd9f26f75861d360bad7f8beea211f-knockout_punches.js"
                    },
                    {
                     "name": null,
                     "type": "js",
                     "url": "/assetserver/5ab20f1060420992a9b82a65b735dee4d81ef413-all.js"
                    },
                    {
                     "name": null,
                     "type": "css",
                     "url": "/assetserver/1cc0ed62837210b80a182cc3676512f895dab686-style.css"
                    },
                    {
                     "name": null,
                     "type": "css",
                     "url": "/assetserver/2eee816f616df3549d7044d45e744fbf8d42bfa1-bulma_confined.min.css"
                    }
                   ],
                   "type": "async_block"
                  },
                  "mount_callbacks": [
                   "function () {\n    var handler = (function (ko, koPunches) {\n    ko.punches.enableAll();\n    ko.bindingHandlers.numericValue = {\n        init: function(element, valueAccessor, allBindings, data, context) {\n            var stringified = ko.observable(ko.unwrap(valueAccessor()));\n            stringified.subscribe(function(value) {\n                var val = parseFloat(value);\n                if (!isNaN(val)) {\n                    valueAccessor()(val);\n                }\n            });\n            valueAccessor().subscribe(function(value) {\n                var str = JSON.stringify(value);\n                if ((str == \"0\") && ([\"-0\", \"-0.\"].indexOf(stringified()) >= 0))\n                     return;\n                 if ([\"null\", \"\"].indexOf(str) >= 0)\n                     return;\n                stringified(str);\n            });\n            ko.applyBindingsToNode(\n                element,\n                {\n                    value: stringified,\n                    valueUpdate: allBindings.get('valueUpdate'),\n                },\n                context,\n            );\n        }\n    };\n    var json_data = {\"loading\":WebIO.getval({\"name\":\"loading\",\"scope\":\"15402166312532734474\",\"id\":\"13162370093716642188\",\"type\":\"observable\"}),\"clicks\":WebIO.getval({\"name\":\"clicks\",\"scope\":\"15402166312532734474\",\"id\":\"8925315879366182897\",\"type\":\"observable\"})};\n    var self = this;\n    function AppViewModel() {\n        for (var key in json_data) {\n            var el = json_data[key];\n            this[key] = Array.isArray(el) ? ko.observableArray(el) : ko.observable(el);\n        }\n        \n        \n        [this[\"loading\"].subscribe((function (val){!(this.valueFromJulia[\"loading\"]) ? (WebIO.setval({\"name\":\"loading\",\"scope\":\"15402166312532734474\",\"id\":\"13162370093716642188\",\"type\":\"observable\"},val)) : undefined; return this.valueFromJulia[\"loading\"]=false}),self),this[\"clicks\"].subscribe((function (val){!(this.valueFromJulia[\"clicks\"]) ? (WebIO.setval({\"name\":\"clicks\",\"scope\":\"15402166312532734474\",\"id\":\"8925315879366182897\",\"type\":\"observable\"},val)) : undefined; return this.valueFromJulia[\"clicks\"]=false}),self)]\n        \n    }\n    self.model = new AppViewModel();\n    self.valueFromJulia = {};\n    for (var key in json_data) {\n        self.valueFromJulia[key] = false;\n    }\n    ko.applyBindings(self.model, self.dom);\n}\n);\n    (WebIO.importBlock({\"data\":[{\"name\":\"knockout\",\"type\":\"js\",\"url\":\"/assetserver/727383f2a47bd31570b7da84eee7b022dd6d7c78-knockout.js\"},{\"name\":\"knockout_punches\",\"type\":\"js\",\"url\":\"/assetserver/382b41b3b1bd9f26f75861d360bad7f8beea211f-knockout_punches.js\"}],\"type\":\"async_block\"})).then((imports) => handler.apply(this, imports));\n}\n"
                  ],
                  "observables": {
                   "clicks": {
                    "id": "8925315879366182897",
                    "sync": true,
                    "value": 0
                   },
                   "loading": {
                    "id": "13162370093716642188",
                    "sync": false,
                    "value": false
                   }
                  },
                  "systemjs_options": null
                 },
                 "nodeType": "Scope",
                 "props": {},
                 "type": "node"
                }
               ],
               "instanceArgs": {
                "namespace": "html",
                "tag": "div"
               },
               "nodeType": "DOM",
               "props": {
                "className": "field interact-widget"
               },
               "type": "node"
              }
             ],
             "instanceArgs": {
              "namespace": "html",
              "tag": "div"
             },
             "nodeType": "DOM",
             "props": {
              "style": {
               "display": "flex",
               "flex-direction": "row"
              }
             },
             "type": "node"
            }
           ],
           "instanceArgs": {
            "namespace": "html",
            "tag": "div"
           },
           "nodeType": "DOM",
           "props": {
            "style": {
             "display": "flex",
             "flex-direction": "column"
            }
           },
           "type": "node"
          },
          {
           "children": [
            {
             "children": [
              {
               "children": [],
               "instanceArgs": {
                "namespace": "html",
                "tag": "div"
               },
               "nodeType": "DOM",
               "props": {
                "id": "container"
               },
               "type": "node"
              }
             ],
             "instanceArgs": {
              "handlers": {
               "value": [
                "(function (txt){return this.k.render(txt,this.container)})"
               ]
              },
              "id": "8062292069697084803",
              "imports": {
               "data": [
                {
                 "name": null,
                 "type": "js",
                 "url": "/assetserver/dd22ed1bf1896c2748f3fe616ce0b838adc895c1-katex.min.js"
                },
                {
                 "name": null,
                 "type": "css",
                 "url": "/assetserver/46517a424aa5e6cffc1360d7e0848b601c584ee3-katex.min.css"
                }
               ],
               "type": "async_block"
              },
              "mount_callbacks": [
               "function () {\n    var handler = ((function (k){this.k=k; this.container=this.dom.querySelector(\"#container\"); return k.render(\"\\\\;\\\\;\",this.container)}));\n    (WebIO.importBlock({\"data\":[{\"name\":null,\"type\":\"js\",\"url\":\"/assetserver/dd22ed1bf1896c2748f3fe616ce0b838adc895c1-katex.min.js\"},{\"name\":null,\"type\":\"css\",\"url\":\"/assetserver/46517a424aa5e6cffc1360d7e0848b601c584ee3-katex.min.css\"}],\"type\":\"async_block\"})).then((imports) => handler.apply(this, imports));\n}\n"
              ],
              "observables": {
               "value": {
                "id": "16952965416982687109",
                "sync": false,
                "value": "\\;\\;"
               }
              },
              "systemjs_options": null
             },
             "nodeType": "Scope",
             "props": {},
             "type": "node"
            }
           ],
           "instanceArgs": {
            "namespace": "html",
            "tag": "div"
           },
           "nodeType": "DOM",
           "props": {
            "className": "interact-widget"
           },
           "type": "node"
          },
          {
           "children": [
            {
             "children": [],
             "instanceArgs": {
              "namespace": "html",
              "tag": "div"
             },
             "nodeType": "DOM",
             "props": {
              "className": "webio-observable",
              "setInnerHtml": "<img src='data:image/png;base64,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'></img>"
             },
             "type": "node"
            }
           ],
           "instanceArgs": {
            "handlers": {
             "obs-output": [
              "function (value, scope) {\n    scope.setInnerHTML(value);\n}\n"
             ]
            },
            "id": "7627646857342922262",
            "imports": {
             "data": [],
             "type": "async_block"
            },
            "mount_callbacks": [],
            "observables": {
             "obs-output": {
              "id": "18012075443232127223",
              "sync": false,
              "value": "<img src='data:image/png;base64,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'></img>"
             }
            },
            "systemjs_options": null
           },
           "nodeType": "Scope",
           "props": {},
           "type": "node"
          },
          {
           "children": [
            {
             "children": [
              {
               "children": [],
               "instanceArgs": {
                "namespace": "html",
                "tag": "div"
               },
               "nodeType": "DOM",
               "props": {
                "id": "container"
               },
               "type": "node"
              }
             ],
             "instanceArgs": {
              "handlers": {
               "value": [
                "(function (txt){return this.k.render(txt,this.container)})"
               ]
              },
              "id": "8062292069697084803",
              "imports": {
               "data": [
                {
                 "name": null,
                 "type": "js",
                 "url": "/assetserver/dd22ed1bf1896c2748f3fe616ce0b838adc895c1-katex.min.js"
                },
                {
                 "name": null,
                 "type": "css",
                 "url": "/assetserver/46517a424aa5e6cffc1360d7e0848b601c584ee3-katex.min.css"
                }
               ],
               "type": "async_block"
              },
              "mount_callbacks": [
               "function () {\n    var handler = ((function (k){this.k=k; this.container=this.dom.querySelector(\"#container\"); return k.render(\"\\\\;\\\\;\",this.container)}));\n    (WebIO.importBlock({\"data\":[{\"name\":null,\"type\":\"js\",\"url\":\"/assetserver/dd22ed1bf1896c2748f3fe616ce0b838adc895c1-katex.min.js\"},{\"name\":null,\"type\":\"css\",\"url\":\"/assetserver/46517a424aa5e6cffc1360d7e0848b601c584ee3-katex.min.css\"}],\"type\":\"async_block\"})).then((imports) => handler.apply(this, imports));\n}\n"
              ],
              "observables": {
               "value": {
                "id": "16952965416982687109",
                "sync": false,
                "value": "\\;\\;"
               }
              },
              "systemjs_options": null
             },
             "nodeType": "Scope",
             "props": {},
             "type": "node"
            }
           ],
           "instanceArgs": {
            "namespace": "html",
            "tag": "div"
           },
           "nodeType": "DOM",
           "props": {
            "className": "interact-widget"
           },
           "type": "node"
          },
          {
           "children": [],
           "instanceArgs": {
            "namespace": "html",
            "tag": "div"
           },
           "nodeType": "DOM",
           "props": {
            "style": {
             "display": "flex",
             "flex-direction": "column"
            }
           },
           "type": "node"
          }
         ],
         "instanceArgs": {
          "namespace": "html",
          "tag": "div"
         },
         "nodeType": "DOM",
         "props": {
          "style": {
           "display": "flex",
           "flex-direction": "row"
          }
         },
         "type": "node"
        }
       ],
       "instanceArgs": {
        "namespace": "html",
        "tag": "div"
       },
       "nodeType": "DOM",
       "props": {
        "style": {
         "display": "flex",
         "flex-direction": "column"
        }
       },
       "type": "node"
      },
      "text/html": [
       "<div\n",
       "    class=\"webio-mountpoint\"\n",
       "    data-webio-mountpoint=\"4164764861470395863\"\n",
       ">\n",
       "    <script>\n",
       "    (function(){\n",
       "    // Some integrations (namely, IJulia/Jupyter) use an alternate render pathway than\n",
       "    // just putting the html on the page. If WebIO isn't defined, then it's pretty likely\n",
       "    // that we're in one of those situations and the integration just isn't installed\n",
       "    // correctly.\n",
       "    if (typeof window.WebIO === \"undefined\") {\n",
       "        document\n",
       "            .querySelector('[data-webio-mountpoint=\"4164764861470395863\"]')\n",
       "            .innerHTML = (\n",
       "                '<div style=\"padding: 1em; background-color: #f8d6da; border: 1px solid #f5c6cb; font-weight: bold;\">' +\n",
       "                '<p><strong>WebIO not detected.</strong></p>' +\n",
       "                '<p>Please read ' +\n",
       "                '<a href=\"https://juliagizmos.github.io/WebIO.jl/latest/troubleshooting/not-detected/\" target=\"_blank\">the troubleshooting guide</a> ' +\n",
       "                'for more information on how to resolve this issue.</p>' +\n",
       "                '<p><a href=\"https://juliagizmos.github.io/WebIO.jl/latest/troubleshooting/not-detected/\" target=\"_blank\">https://juliagizmos.github.io/WebIO.jl/latest/troubleshooting/not-detected/</a></p>' +\n",
       "                '</div>'\n",
       "            );\n",
       "        return;\n",
       "    }\n",
       "    WebIO.mount(\n",
       "        document.querySelector('[data-webio-mountpoint=\"4164764861470395863\"]'),\n",
       "        {\"props\":{\"style\":{\"display\":\"flex\",\"flex-direction\":\"column\"}},\"nodeType\":\"DOM\",\"type\":\"node\",\"instanceArgs\":{\"namespace\":\"html\",\"tag\":\"div\"},\"children\":[{\"props\":{\"style\":{\"display\":\"flex\",\"flex-direction\":\"row\"}},\"nodeType\":\"DOM\",\"type\":\"node\",\"instanceArgs\":{\"namespace\":\"html\",\"tag\":\"div\"},\"children\":[{\"props\":{\"style\":{\"display\":\"flex\",\"flex-direction\":\"column\"}},\"nodeType\":\"DOM\",\"type\":\"node\",\"instanceArgs\":{\"namespace\":\"html\",\"tag\":\"div\"},\"children\":[{\"props\":{\"className\":\"field interact-widget\"},\"nodeType\":\"DOM\",\"type\":\"node\",\"instanceArgs\":{\"namespace\":\"html\",\"tag\":\"div\"},\"children\":[{\"props\":{},\"nodeType\":\"Scope\",\"type\":\"node\",\"instanceArgs\":{\"imports\":{\"data\":[{\"name\":\"knockout\",\"type\":\"js\",\"url\":\"\\/assetserver\\/727383f2a47bd31570b7da84eee7b022dd6d7c78-knockout.js\"},{\"name\":\"knockout_punches\",\"type\":\"js\",\"url\":\"\\/assetserver\\/382b41b3b1bd9f26f75861d360bad7f8beea211f-knockout_punches.js\"},{\"name\":null,\"type\":\"js\",\"url\":\"\\/assetserver\\/5ab20f1060420992a9b82a65b735dee4d81ef413-all.js\"},{\"name\":null,\"type\":\"css\",\"url\":\"\\/assetserver\\/1cc0ed62837210b80a182cc3676512f895dab686-style.css\"},{\"name\":null,\"type\":\"css\",\"url\":\"\\/assetserver\\/2eee816f616df3549d7044d45e744fbf8d42bfa1-bulma_confined.min.css\"}],\"type\":\"async_block\"},\"id\":\"17231953199742171087\",\"handlers\":{\"changes\":[\"(function (val){return (val!=this.model[\\\"changes\\\"]()) ? (this.valueFromJulia[\\\"changes\\\"]=true, this.model[\\\"changes\\\"](val)) : undefined})\"],\"index\":[\"(function (val){return (val!=this.model[\\\"index\\\"]()) ? (this.valueFromJulia[\\\"index\\\"]=true, this.model[\\\"index\\\"](val)) : undefined})\"]},\"systemjs_options\":null,\"mount_callbacks\":[\"function () {\\n    var handler = (function (ko, koPunches) {\\n    ko.punches.enableAll();\\n    ko.bindingHandlers.numericValue = {\\n        init: function(element, valueAccessor, allBindings, data, context) {\\n            var stringified = ko.observable(ko.unwrap(valueAccessor()));\\n            stringified.subscribe(function(value) {\\n                var val = parseFloat(value);\\n                if (!isNaN(val)) {\\n                    valueAccessor()(val);\\n                }\\n            });\\n            valueAccessor().subscribe(function(value) {\\n                var str = JSON.stringify(value);\\n                if ((str == \\\"0\\\") && ([\\\"-0\\\", \\\"-0.\\\"].indexOf(stringified()) >= 0))\\n                     return;\\n                 if ([\\\"null\\\", \\\"\\\"].indexOf(str) >= 0)\\n                     return;\\n                stringified(str);\\n            });\\n            ko.applyBindingsToNode(\\n                element,\\n                {\\n                    value: stringified,\\n                    valueUpdate: allBindings.get('valueUpdate'),\\n                },\\n                context,\\n            );\\n        }\\n    };\\n    var json_data = {\\\"formatted_vals\\\":[\\\"1\\\",\\\"2\\\",\\\"3\\\",\\\"4\\\",\\\"5\\\",\\\"6\\\",\\\"7\\\",\\\"8\\\",\\\"9\\\",\\\"10\\\",\\\"11\\\",\\\"12\\\",\\\"13\\\",\\\"14\\\",\\\"15\\\",\\\"16\\\",\\\"17\\\",\\\"18\\\",\\\"19\\\",\\\"20\\\",\\\"21\\\",\\\"22\\\",\\\"23\\\",\\\"24\\\",\\\"25\\\",\\\"26\\\",\\\"27\\\",\\\"28\\\",\\\"29\\\",\\\"30\\\",\\\"31\\\",\\\"32\\\",\\\"33\\\",\\\"34\\\",\\\"35\\\",\\\"36\\\",\\\"37\\\",\\\"38\\\",\\\"39\\\",\\\"40\\\",\\\"41\\\",\\\"42\\\",\\\"43\\\",\\\"44\\\",\\\"45\\\",\\\"46\\\",\\\"47\\\",\\\"48\\\",\\\"49\\\",\\\"50\\\",\\\"51\\\",\\\"52\\\",\\\"53\\\",\\\"54\\\",\\\"55\\\",\\\"56\\\",\\\"57\\\",\\\"58\\\",\\\"59\\\",\\\"60\\\",\\\"61\\\",\\\"62\\\",\\\"63\\\",\\\"64\\\",\\\"65\\\",\\\"66\\\",\\\"67\\\",\\\"68\\\",\\\"69\\\",\\\"70\\\",\\\"71\\\",\\\"72\\\",\\\"73\\\",\\\"74\\\",\\\"75\\\",\\\"76\\\",\\\"77\\\",\\\"78\\\",\\\"79\\\",\\\"80\\\",\\\"81\\\",\\\"82\\\",\\\"83\\\",\\\"84\\\",\\\"85\\\",\\\"86\\\",\\\"87\\\",\\\"88\\\",\\\"89\\\",\\\"90\\\",\\\"91\\\",\\\"92\\\",\\\"93\\\",\\\"94\\\",\\\"95\\\",\\\"96\\\",\\\"97\\\",\\\"98\\\",\\\"99\\\",\\\"100\\\",\\\"101\\\",\\\"102\\\",\\\"103\\\",\\\"104\\\",\\\"105\\\",\\\"106\\\",\\\"107\\\",\\\"108\\\",\\\"109\\\",\\\"110\\\",\\\"111\\\",\\\"112\\\",\\\"113\\\",\\\"114\\\",\\\"115\\\",\\\"116\\\",\\\"117\\\",\\\"118\\\",\\\"119\\\",\\\"120\\\",\\\"121\\\",\\\"122\\\",\\\"123\\\",\\\"124\\\",\\\"125\\\",\\\"126\\\",\\\"127\\\",\\\"128\\\",\\\"129\\\",\\\"130\\\",\\\"131\\\",\\\"132\\\",\\\"133\\\",\\\"134\\\",\\\"135\\\",\\\"136\\\",\\\"137\\\",\\\"138\\\",\\\"139\\\",\\\"140\\\",\\\"141\\\",\\\"142\\\",\\\"143\\\",\\\"144\\\",\\\"145\\\",\\\"146\\\",\\\"147\\\",\\\"148\\\",\\\"149\\\",\\\"150\\\",\\\"151\\\",\\\"152\\\",\\\"153\\\",\\\"154\\\",\\\"155\\\",\\\"156\\\",\\\"157\\\",\\\"158\\\",\\\"159\\\",\\\"160\\\",\\\"161\\\",\\\"162\\\",\\\"163\\\",\\\"164\\\",\\\"165\\\",\\\"166\\\",\\\"167\\\",\\\"168\\\",\\\"169\\\",\\\"170\\\",\\\"171\\\",\\\"172\\\",\\\"173\\\",\\\"174\\\",\\\"175\\\",\\\"176\\\",\\\"177\\\",\\\"178\\\",\\\"179\\\",\\\"180\\\",\\\"181\\\",\\\"182\\\",\\\"183\\\",\\\"184\\\",\\\"185\\\",\\\"186\\\",\\\"187\\\",\\\"188\\\",\\\"189\\\",\\\"190\\\",\\\"191\\\",\\\"192\\\",\\\"193\\\",\\\"194\\\",\\\"195\\\",\\\"196\\\",\\\"197\\\",\\\"198\\\",\\\"199\\\",\\\"200\\\",\\\"201\\\",\\\"202\\\",\\\"203\\\",\\\"204\\\",\\\"205\\\",\\\"206\\\",\\\"207\\\",\\\"208\\\",\\\"209\\\",\\\"210\\\",\\\"211\\\",\\\"212\\\",\\\"213\\\",\\\"214\\\",\\\"215\\\",\\\"216\\\",\\\"217\\\",\\\"218\\\",\\\"219\\\",\\\"220\\\",\\\"221\\\",\\\"222\\\",\\\"223\\\",\\\"224\\\",\\\"225\\\",\\\"226\\\",\\\"227\\\",\\\"228\\\",\\\"229\\\",\\\"230\\\",\\\"231\\\",\\\"232\\\",\\\"233\\\",\\\"234\\\",\\\"235\\\",\\\"236\\\",\\\"237\\\",\\\"238\\\",\\\"239\\\",\\\"240\\\",\\\"241\\\",\\\"242\\\",\\\"243\\\",\\\"244\\\",\\\"245\\\",\\\"246\\\",\\\"247\\\",\\\"248\\\",\\\"249\\\",\\\"250\\\",\\\"251\\\",\\\"252\\\",\\\"253\\\",\\\"254\\\",\\\"255\\\",\\\"256\\\",\\\"257\\\",\\\"258\\\",\\\"259\\\",\\\"260\\\",\\\"261\\\",\\\"262\\\",\\\"263\\\",\\\"264\\\",\\\"265\\\",\\\"266\\\",\\\"267\\\",\\\"268\\\",\\\"269\\\",\\\"270\\\",\\\"271\\\",\\\"272\\\",\\\"273\\\",\\\"274\\\",\\\"275\\\",\\\"276\\\",\\\"277\\\",\\\"278\\\",\\\"279\\\",\\\"280\\\",\\\"281\\\",\\\"282\\\",\\\"283\\\",\\\"284\\\",\\\"285\\\",\\\"286\\\",\\\"287\\\",\\\"288\\\",\\\"289\\\",\\\"290\\\",\\\"291\\\",\\\"292\\\",\\\"293\\\",\\\"294\\\",\\\"295\\\",\\\"296\\\",\\\"297\\\",\\\"298\\\",\\\"299\\\",\\\"300\\\",\\\"301\\\",\\\"302\\\",\\\"303\\\",\\\"304\\\",\\\"305\\\",\\\"306\\\",\\\"307\\\",\\\"308\\\",\\\"309\\\",\\\"310\\\",\\\"311\\\",\\\"312\\\",\\\"313\\\",\\\"314\\\",\\\"315\\\",\\\"316\\\",\\\"317\\\",\\\"318\\\",\\\"319\\\",\\\"320\\\",\\\"321\\\",\\\"322\\\",\\\"323\\\",\\\"324\\\",\\\"325\\\",\\\"326\\\",\\\"327\\\",\\\"328\\\",\\\"329\\\",\\\"330\\\",\\\"331\\\",\\\"332\\\",\\\"333\\\",\\\"334\\\",\\\"335\\\",\\\"336\\\",\\\"337\\\",\\\"338\\\",\\\"339\\\",\\\"340\\\",\\\"341\\\",\\\"342\\\",\\\"343\\\",\\\"344\\\",\\\"345\\\",\\\"346\\\",\\\"347\\\",\\\"348\\\",\\\"349\\\",\\\"350\\\",\\\"351\\\",\\\"352\\\",\\\"353\\\",\\\"354\\\",\\\"355\\\",\\\"356\\\",\\\"357\\\",\\\"358\\\",\\\"359\\\",\\\"360\\\",\\\"361\\\",\\\"362\\\",\\\"363\\\",\\\"364\\\",\\\"365\\\",\\\"366\\\",\\\"367\\\",\\\"368\\\",\\\"369\\\",\\\"370\\\",\\\"371\\\",\\\"372\\\",\\\"373\\\",\\\"374\\\",\\\"375\\\",\\\"376\\\",\\\"377\\\",\\\"378\\\",\\\"379\\\",\\\"380\\\",\\\"381\\\",\\\"382\\\",\\\"383\\\",\\\"384\\\",\\\"385\\\",\\\"386\\\",\\\"387\\\",\\\"388\\\",\\\"389\\\",\\\"390\\\",\\\"391\\\",\\\"392\\\",\\\"393\\\",\\\"394\\\",\\\"395\\\",\\\"396\\\",\\\"397\\\",\\\"398\\\",\\\"399\\\",\\\"400\\\",\\\"401\\\",\\\"402\\\",\\\"403\\\",\\\"404\\\",\\\"405\\\",\\\"406\\\",\\\"407\\\",\\\"408\\\",\\\"409\\\",\\\"410\\\",\\\"411\\\",\\\"412\\\",\\\"413\\\",\\\"414\\\",\\\"415\\\",\\\"416\\\",\\\"417\\\",\\\"418\\\",\\\"419\\\",\\\"420\\\",\\\"421\\\",\\\"422\\\",\\\"423\\\",\\\"424\\\",\\\"425\\\",\\\"426\\\",\\\"427\\\",\\\"428\\\",\\\"429\\\",\\\"430\\\",\\\"431\\\",\\\"432\\\",\\\"433\\\",\\\"434\\\",\\\"435\\\",\\\"436\\\",\\\"437\\\",\\\"438\\\",\\\"439\\\",\\\"440\\\",\\\"441\\\",\\\"442\\\",\\\"443\\\",\\\"444\\\",\\\"445\\\",\\\"446\\\",\\\"447\\\",\\\"448\\\",\\\"449\\\",\\\"450\\\",\\\"451\\\",\\\"452\\\",\\\"453\\\",\\\"454\\\",\\\"455\\\",\\\"456\\\",\\\"457\\\",\\\"458\\\",\\\"459\\\",\\\"460\\\",\\\"461\\\",\\\"462\\\",\\\"463\\\",\\\"464\\\",\\\"465\\\",\\\"466\\\",\\\"467\\\",\\\"468\\\",\\\"469\\\",\\\"470\\\",\\\"471\\\",\\\"472\\\",\\\"473\\\",\\\"474\\\",\\\"475\\\",\\\"476\\\",\\\"477\\\",\\\"478\\\",\\\"479\\\",\\\"480\\\",\\\"481\\\",\\\"482\\\",\\\"483\\\",\\\"484\\\",\\\"485\\\",\\\"486\\\",\\\"487\\\",\\\"488\\\",\\\"489\\\",\\\"490\\\",\\\"491\\\",\\\"492\\\",\\\"493\\\",\\\"494\\\",\\\"495\\\",\\\"496\\\",\\\"497\\\",\\\"498\\\",\\\"499\\\",\\\"500\\\",\\\"501\\\"],\\\"changes\\\":WebIO.getval({\\\"name\\\":\\\"changes\\\",\\\"scope\\\":\\\"17231953199742171087\\\",\\\"id\\\":\\\"1060839023505695466\\\",\\\"type\\\":\\\"observable\\\"}),\\\"index\\\":WebIO.getval({\\\"name\\\":\\\"index\\\",\\\"scope\\\":\\\"17231953199742171087\\\",\\\"id\\\":\\\"1965990277613965676\\\",\\\"type\\\":\\\"observable\\\"})};\\n    var self = this;\\n    function AppViewModel() {\\n        for (var key in json_data) {\\n            var el = json_data[key];\\n            this[key] = Array.isArray(el) ? ko.observableArray(el) : ko.observable(el);\\n        }\\n        \\n        [this[\\\"formatted_val\\\"]=ko.computed(    function(){\\n        return this.formatted_vals()[parseInt(this.index())-(1)];\\n    }\\n,this)]\\n        [this[\\\"changes\\\"].subscribe((function (val){!(this.valueFromJulia[\\\"changes\\\"]) ? (WebIO.setval({\\\"name\\\":\\\"changes\\\",\\\"scope\\\":\\\"17231953199742171087\\\",\\\"id\\\":\\\"1060839023505695466\\\",\\\"type\\\":\\\"observable\\\"},val)) : undefined; return this.valueFromJulia[\\\"changes\\\"]=false}),self),this[\\\"index\\\"].subscribe((function (val){!(this.valueFromJulia[\\\"index\\\"]) ? (WebIO.setval({\\\"name\\\":\\\"index\\\",\\\"scope\\\":\\\"17231953199742171087\\\",\\\"id\\\":\\\"1965990277613965676\\\",\\\"type\\\":\\\"observable\\\"},val)) : undefined; return this.valueFromJulia[\\\"index\\\"]=false}),self)]\\n        \\n    }\\n    self.model = new AppViewModel();\\n    self.valueFromJulia = {};\\n    for (var key in json_data) {\\n        self.valueFromJulia[key] = false;\\n    }\\n    ko.applyBindings(self.model, self.dom);\\n}\\n);\\n    (WebIO.importBlock({\\\"data\\\":[{\\\"name\\\":\\\"knockout\\\",\\\"type\\\":\\\"js\\\",\\\"url\\\":\\\"\\/assetserver\\/727383f2a47bd31570b7da84eee7b022dd6d7c78-knockout.js\\\"},{\\\"name\\\":\\\"knockout_punches\\\",\\\"type\\\":\\\"js\\\",\\\"url\\\":\\\"\\/assetserver\\/382b41b3b1bd9f26f75861d360bad7f8beea211f-knockout_punches.js\\\"}],\\\"type\\\":\\\"async_block\\\"})).then((imports) => handler.apply(this, imports));\\n}\\n\"],\"observables\":{\"changes\":{\"sync\":false,\"id\":\"1060839023505695466\",\"value\":0},\"index\":{\"sync\":true,\"id\":\"1965990277613965676\",\"value\":251}}},\"children\":[{\"props\":{\"className\":\"interact-flex-row interact-widget\"},\"nodeType\":\"DOM\",\"type\":\"node\",\"instanceArgs\":{\"namespace\":\"html\",\"tag\":\"div\"},\"children\":[{\"props\":{\"className\":\"interact-flex-row-left\"},\"nodeType\":\"DOM\",\"type\":\"node\",\"instanceArgs\":{\"namespace\":\"html\",\"tag\":\"div\"},\"children\":[{\"props\":{\"className\":\"interact \",\"style\":{\"padding\":\"5px 10px 0px 10px\"}},\"nodeType\":\"DOM\",\"type\":\"node\",\"instanceArgs\":{\"namespace\":\"html\",\"tag\":\"label\"},\"children\":[\"time\"]}]},{\"props\":{\"className\":\"interact-flex-row-center\"},\"nodeType\":\"DOM\",\"type\":\"node\",\"instanceArgs\":{\"namespace\":\"html\",\"tag\":\"div\"},\"children\":[{\"props\":{\"max\":501,\"min\":1,\"attributes\":{\"type\":\"range\",\"data-bind\":\"numericValue: index, valueUpdate: 'input', event: {change: function (){this.changes(this.changes()+1)}}\",\"orient\":\"horizontal\"},\"step\":1,\"className\":\"slider slider is-fullwidth\",\"style\":{}},\"nodeType\":\"DOM\",\"type\":\"node\",\"instanceArgs\":{\"namespace\":\"html\",\"tag\":\"input\"},\"children\":[]}]},{\"props\":{\"className\":\"interact-flex-row-right\"},\"nodeType\":\"DOM\",\"type\":\"node\",\"instanceArgs\":{\"namespace\":\"html\",\"tag\":\"div\"},\"children\":[{\"props\":{\"attributes\":{\"data-bind\":\"text: formatted_val\"}},\"nodeType\":\"DOM\",\"type\":\"node\",\"instanceArgs\":{\"namespace\":\"html\",\"tag\":\"p\"},\"children\":[]}]}]}]}]},{\"props\":{\"className\":\"field interact-widget\"},\"nodeType\":\"DOM\",\"type\":\"node\",\"instanceArgs\":{\"namespace\":\"html\",\"tag\":\"div\"},\"children\":[{\"props\":{},\"nodeType\":\"Scope\",\"type\":\"node\",\"instanceArgs\":{\"imports\":{\"data\":[{\"name\":\"knockout\",\"type\":\"js\",\"url\":\"\\/assetserver\\/727383f2a47bd31570b7da84eee7b022dd6d7c78-knockout.js\"},{\"name\":\"knockout_punches\",\"type\":\"js\",\"url\":\"\\/assetserver\\/382b41b3b1bd9f26f75861d360bad7f8beea211f-knockout_punches.js\"},{\"name\":null,\"type\":\"js\",\"url\":\"\\/assetserver\\/5ab20f1060420992a9b82a65b735dee4d81ef413-all.js\"},{\"name\":null,\"type\":\"css\",\"url\":\"\\/assetserver\\/1cc0ed62837210b80a182cc3676512f895dab686-style.css\"},{\"name\":null,\"type\":\"css\",\"url\":\"\\/assetserver\\/2eee816f616df3549d7044d45e744fbf8d42bfa1-bulma_confined.min.css\"}],\"type\":\"async_block\"},\"id\":\"4786329490703390592\",\"handlers\":{\"changes\":[\"(function (val){return (val!=this.model[\\\"changes\\\"]()) ? (this.valueFromJulia[\\\"changes\\\"]=true, this.model[\\\"changes\\\"](val)) : undefined})\"],\"index\":[\"(function (val){return (val!=this.model[\\\"index\\\"]()) ? (this.valueFromJulia[\\\"index\\\"]=true, this.model[\\\"index\\\"](val)) : undefined})\"]},\"systemjs_options\":null,\"mount_callbacks\":[\"function () {\\n    var handler = (function (ko, koPunches) {\\n    ko.punches.enableAll();\\n    ko.bindingHandlers.numericValue = {\\n        init: function(element, valueAccessor, allBindings, data, context) {\\n            var stringified = ko.observable(ko.unwrap(valueAccessor()));\\n            stringified.subscribe(function(value) {\\n                var val = parseFloat(value);\\n                if (!isNaN(val)) {\\n                    valueAccessor()(val);\\n                }\\n            });\\n            valueAccessor().subscribe(function(value) {\\n                var str = JSON.stringify(value);\\n                if ((str == \\\"0\\\") && ([\\\"-0\\\", \\\"-0.\\\"].indexOf(stringified()) >= 0))\\n                     return;\\n                 if ([\\\"null\\\", \\\"\\\"].indexOf(str) >= 0)\\n                     return;\\n                stringified(str);\\n            });\\n            ko.applyBindingsToNode(\\n                element,\\n                {\\n                    value: stringified,\\n                    valueUpdate: allBindings.get('valueUpdate'),\\n                },\\n                context,\\n            );\\n        }\\n    };\\n    var json_data = {\\\"formatted_vals\\\":[\\\"0.1\\\",\\\"0.2\\\",\\\"0.3\\\",\\\"0.4\\\",\\\"0.5\\\",\\\"0.6\\\",\\\"0.7\\\",\\\"0.8\\\",\\\"0.9\\\",\\\"1.0\\\",\\\"1.1\\\",\\\"1.2\\\",\\\"1.3\\\",\\\"1.4\\\",\\\"1.5\\\",\\\"1.6\\\",\\\"1.7\\\",\\\"1.8\\\",\\\"1.9\\\",\\\"2.0\\\"],\\\"changes\\\":WebIO.getval({\\\"name\\\":\\\"changes\\\",\\\"scope\\\":\\\"4786329490703390592\\\",\\\"id\\\":\\\"13533991677627978485\\\",\\\"type\\\":\\\"observable\\\"}),\\\"index\\\":WebIO.getval({\\\"name\\\":\\\"index\\\",\\\"scope\\\":\\\"4786329490703390592\\\",\\\"id\\\":\\\"1589105905076684854\\\",\\\"type\\\":\\\"observable\\\"})};\\n    var self = this;\\n    function AppViewModel() {\\n        for (var key in json_data) {\\n            var el = json_data[key];\\n            this[key] = Array.isArray(el) ? ko.observableArray(el) : ko.observable(el);\\n        }\\n        \\n        [this[\\\"formatted_val\\\"]=ko.computed(    function(){\\n        return this.formatted_vals()[parseInt(this.index())-(1)];\\n    }\\n,this)]\\n        [this[\\\"changes\\\"].subscribe((function (val){!(this.valueFromJulia[\\\"changes\\\"]) ? (WebIO.setval({\\\"name\\\":\\\"changes\\\",\\\"scope\\\":\\\"4786329490703390592\\\",\\\"id\\\":\\\"13533991677627978485\\\",\\\"type\\\":\\\"observable\\\"},val)) : undefined; return this.valueFromJulia[\\\"changes\\\"]=false}),self),this[\\\"index\\\"].subscribe((function (val){!(this.valueFromJulia[\\\"index\\\"]) ? (WebIO.setval({\\\"name\\\":\\\"index\\\",\\\"scope\\\":\\\"4786329490703390592\\\",\\\"id\\\":\\\"1589105905076684854\\\",\\\"type\\\":\\\"observable\\\"},val)) : undefined; return this.valueFromJulia[\\\"index\\\"]=false}),self)]\\n        \\n    }\\n    self.model = new AppViewModel();\\n    self.valueFromJulia = {};\\n    for (var key in json_data) {\\n        self.valueFromJulia[key] = false;\\n    }\\n    ko.applyBindings(self.model, self.dom);\\n}\\n);\\n    (WebIO.importBlock({\\\"data\\\":[{\\\"name\\\":\\\"knockout\\\",\\\"type\\\":\\\"js\\\",\\\"url\\\":\\\"\\/assetserver\\/727383f2a47bd31570b7da84eee7b022dd6d7c78-knockout.js\\\"},{\\\"name\\\":\\\"knockout_punches\\\",\\\"type\\\":\\\"js\\\",\\\"url\\\":\\\"\\/assetserver\\/382b41b3b1bd9f26f75861d360bad7f8beea211f-knockout_punches.js\\\"}],\\\"type\\\":\\\"async_block\\\"})).then((imports) => handler.apply(this, imports));\\n}\\n\"],\"observables\":{\"changes\":{\"sync\":false,\"id\":\"13533991677627978485\",\"value\":0},\"index\":{\"sync\":true,\"id\":\"1589105905076684854\",\"value\":10}}},\"children\":[{\"props\":{\"className\":\"interact-flex-row interact-widget\"},\"nodeType\":\"DOM\",\"type\":\"node\",\"instanceArgs\":{\"namespace\":\"html\",\"tag\":\"div\"},\"children\":[{\"props\":{\"className\":\"interact-flex-row-left\"},\"nodeType\":\"DOM\",\"type\":\"node\",\"instanceArgs\":{\"namespace\":\"html\",\"tag\":\"div\"},\"children\":[{\"props\":{\"className\":\"interact \",\"style\":{\"padding\":\"5px 10px 0px 10px\"}},\"nodeType\":\"DOM\",\"type\":\"node\",\"instanceArgs\":{\"namespace\":\"html\",\"tag\":\"label\"},\"children\":[\"scale\"]}]},{\"props\":{\"className\":\"interact-flex-row-center\"},\"nodeType\":\"DOM\",\"type\":\"node\",\"instanceArgs\":{\"namespace\":\"html\",\"tag\":\"div\"},\"children\":[{\"props\":{\"max\":20,\"min\":1,\"attributes\":{\"type\":\"range\",\"data-bind\":\"numericValue: index, valueUpdate: 'input', event: {change: function (){this.changes(this.changes()+1)}}\",\"orient\":\"horizontal\"},\"step\":1,\"className\":\"slider slider is-fullwidth\",\"style\":{}},\"nodeType\":\"DOM\",\"type\":\"node\",\"instanceArgs\":{\"namespace\":\"html\",\"tag\":\"input\"},\"children\":[]}]},{\"props\":{\"className\":\"interact-flex-row-right\"},\"nodeType\":\"DOM\",\"type\":\"node\",\"instanceArgs\":{\"namespace\":\"html\",\"tag\":\"div\"},\"children\":[{\"props\":{\"attributes\":{\"data-bind\":\"text: formatted_val\"}},\"nodeType\":\"DOM\",\"type\":\"node\",\"instanceArgs\":{\"namespace\":\"html\",\"tag\":\"p\"},\"children\":[]}]}]}]}]},{\"props\":{\"style\":{\"display\":\"flex\",\"flex-direction\":\"row\"}},\"nodeType\":\"DOM\",\"type\":\"node\",\"instanceArgs\":{\"namespace\":\"html\",\"tag\":\"div\"},\"children\":[{\"props\":{\"className\":\"interact-widget\"},\"nodeType\":\"DOM\",\"type\":\"node\",\"instanceArgs\":{\"namespace\":\"html\",\"tag\":\"div\"},\"children\":[{\"props\":{},\"nodeType\":\"Scope\",\"type\":\"node\",\"instanceArgs\":{\"imports\":{\"data\":[{\"name\":null,\"type\":\"js\",\"url\":\"\\/assetserver\\/dd22ed1bf1896c2748f3fe616ce0b838adc895c1-katex.min.js\"},{\"name\":null,\"type\":\"css\",\"url\":\"\\/assetserver\\/46517a424aa5e6cffc1360d7e0848b601c584ee3-katex.min.css\"}],\"type\":\"async_block\"},\"id\":\"8062292069697084803\",\"handlers\":{\"value\":[\"(function (txt){return this.k.render(txt,this.container)})\"]},\"systemjs_options\":null,\"mount_callbacks\":[\"function () {\\n    var handler = ((function (k){this.k=k; this.container=this.dom.querySelector(\\\"#container\\\"); return k.render(\\\"\\\\\\\\;\\\\\\\\;\\\",this.container)}));\\n    (WebIO.importBlock({\\\"data\\\":[{\\\"name\\\":null,\\\"type\\\":\\\"js\\\",\\\"url\\\":\\\"\\/assetserver\\/dd22ed1bf1896c2748f3fe616ce0b838adc895c1-katex.min.js\\\"},{\\\"name\\\":null,\\\"type\\\":\\\"css\\\",\\\"url\\\":\\\"\\/assetserver\\/46517a424aa5e6cffc1360d7e0848b601c584ee3-katex.min.css\\\"}],\\\"type\\\":\\\"async_block\\\"})).then((imports) => handler.apply(this, imports));\\n}\\n\"],\"observables\":{\"value\":{\"sync\":false,\"id\":\"16952965416982687109\",\"value\":\"\\\\;\\\\;\"}}},\"children\":[{\"props\":{\"id\":\"container\"},\"nodeType\":\"DOM\",\"type\":\"node\",\"instanceArgs\":{\"namespace\":\"html\",\"tag\":\"div\"},\"children\":[]}]}]},{\"props\":{\"className\":\"field interact-widget\"},\"nodeType\":\"DOM\",\"type\":\"node\",\"instanceArgs\":{\"namespace\":\"html\",\"tag\":\"div\"},\"children\":[{\"props\":{},\"nodeType\":\"Scope\",\"type\":\"node\",\"instanceArgs\":{\"imports\":{\"data\":[{\"name\":\"knockout\",\"type\":\"js\",\"url\":\"\\/assetserver\\/727383f2a47bd31570b7da84eee7b022dd6d7c78-knockout.js\"},{\"name\":\"knockout_punches\",\"type\":\"js\",\"url\":\"\\/assetserver\\/382b41b3b1bd9f26f75861d360bad7f8beea211f-knockout_punches.js\"},{\"name\":null,\"type\":\"js\",\"url\":\"\\/assetserver\\/5ab20f1060420992a9b82a65b735dee4d81ef413-all.js\"},{\"name\":null,\"type\":\"css\",\"url\":\"\\/assetserver\\/1cc0ed62837210b80a182cc3676512f895dab686-style.css\"},{\"name\":null,\"type\":\"css\",\"url\":\"\\/assetserver\\/2eee816f616df3549d7044d45e744fbf8d42bfa1-bulma_confined.min.css\"}],\"type\":\"async_block\"},\"id\":\"4426932562851537276\",\"handlers\":{\"loading\":[\"(function (val){return (val!=this.model[\\\"loading\\\"]()) ? (this.valueFromJulia[\\\"loading\\\"]=true, this.model[\\\"loading\\\"](val)) : undefined})\"],\"clicks\":[\"(function (val){return (val!=this.model[\\\"clicks\\\"]()) ? (this.valueFromJulia[\\\"clicks\\\"]=true, this.model[\\\"clicks\\\"](val)) : undefined})\"]},\"systemjs_options\":null,\"mount_callbacks\":[\"function () {\\n    var handler = (function (ko, koPunches) {\\n    ko.punches.enableAll();\\n    ko.bindingHandlers.numericValue = {\\n        init: function(element, valueAccessor, allBindings, data, context) {\\n            var stringified = ko.observable(ko.unwrap(valueAccessor()));\\n            stringified.subscribe(function(value) {\\n                var val = parseFloat(value);\\n                if (!isNaN(val)) {\\n                    valueAccessor()(val);\\n                }\\n            });\\n            valueAccessor().subscribe(function(value) {\\n                var str = JSON.stringify(value);\\n                if ((str == \\\"0\\\") && ([\\\"-0\\\", \\\"-0.\\\"].indexOf(stringified()) >= 0))\\n                     return;\\n                 if ([\\\"null\\\", \\\"\\\"].indexOf(str) >= 0)\\n                     return;\\n                stringified(str);\\n            });\\n            ko.applyBindingsToNode(\\n                element,\\n                {\\n                    value: stringified,\\n                    valueUpdate: allBindings.get('valueUpdate'),\\n                },\\n                context,\\n            );\\n        }\\n    };\\n    var json_data = {\\\"loading\\\":WebIO.getval({\\\"name\\\":\\\"loading\\\",\\\"scope\\\":\\\"4426932562851537276\\\",\\\"id\\\":\\\"6481808451080734063\\\",\\\"type\\\":\\\"observable\\\"}),\\\"clicks\\\":WebIO.getval({\\\"name\\\":\\\"clicks\\\",\\\"scope\\\":\\\"4426932562851537276\\\",\\\"id\\\":\\\"6438746202865598985\\\",\\\"type\\\":\\\"observable\\\"})};\\n    var self = this;\\n    function AppViewModel() {\\n        for (var key in json_data) {\\n            var el = json_data[key];\\n            this[key] = Array.isArray(el) ? ko.observableArray(el) : ko.observable(el);\\n        }\\n        \\n        \\n        [this[\\\"loading\\\"].subscribe((function (val){!(this.valueFromJulia[\\\"loading\\\"]) ? (WebIO.setval({\\\"name\\\":\\\"loading\\\",\\\"scope\\\":\\\"4426932562851537276\\\",\\\"id\\\":\\\"6481808451080734063\\\",\\\"type\\\":\\\"observable\\\"},val)) : undefined; return this.valueFromJulia[\\\"loading\\\"]=false}),self),this[\\\"clicks\\\"].subscribe((function (val){!(this.valueFromJulia[\\\"clicks\\\"]) ? (WebIO.setval({\\\"name\\\":\\\"clicks\\\",\\\"scope\\\":\\\"4426932562851537276\\\",\\\"id\\\":\\\"6438746202865598985\\\",\\\"type\\\":\\\"observable\\\"},val)) : undefined; return this.valueFromJulia[\\\"clicks\\\"]=false}),self)]\\n        \\n    }\\n    self.model = new AppViewModel();\\n    self.valueFromJulia = {};\\n    for (var key in json_data) {\\n        self.valueFromJulia[key] = false;\\n    }\\n    ko.applyBindings(self.model, self.dom);\\n}\\n);\\n    (WebIO.importBlock({\\\"data\\\":[{\\\"name\\\":\\\"knockout\\\",\\\"type\\\":\\\"js\\\",\\\"url\\\":\\\"\\/assetserver\\/727383f2a47bd31570b7da84eee7b022dd6d7c78-knockout.js\\\"},{\\\"name\\\":\\\"knockout_punches\\\",\\\"type\\\":\\\"js\\\",\\\"url\\\":\\\"\\/assetserver\\/382b41b3b1bd9f26f75861d360bad7f8beea211f-knockout_punches.js\\\"}],\\\"type\\\":\\\"async_block\\\"})).then((imports) => handler.apply(this, imports));\\n}\\n\"],\"observables\":{\"loading\":{\"sync\":false,\"id\":\"6481808451080734063\",\"value\":false},\"clicks\":{\"sync\":true,\"id\":\"6438746202865598985\",\"value\":0}}},\"children\":[{\"props\":{\"attributes\":{\"data-bind\":\"click: function (){this.clicks(this.clicks()+1)}, css: {'is-loading' : loading}\"},\"className\":\"is-medium button is-primary\",\"style\":{}},\"nodeType\":\"DOM\",\"type\":\"node\",\"instanceArgs\":{\"namespace\":\"html\",\"tag\":\"button\"},\"children\":[\"run\"]}]}]},{\"props\":{\"className\":\"interact-widget\"},\"nodeType\":\"DOM\",\"type\":\"node\",\"instanceArgs\":{\"namespace\":\"html\",\"tag\":\"div\"},\"children\":[{\"props\":{},\"nodeType\":\"Scope\",\"type\":\"node\",\"instanceArgs\":{\"imports\":{\"data\":[{\"name\":null,\"type\":\"js\",\"url\":\"\\/assetserver\\/dd22ed1bf1896c2748f3fe616ce0b838adc895c1-katex.min.js\"},{\"name\":null,\"type\":\"css\",\"url\":\"\\/assetserver\\/46517a424aa5e6cffc1360d7e0848b601c584ee3-katex.min.css\"}],\"type\":\"async_block\"},\"id\":\"8062292069697084803\",\"handlers\":{\"value\":[\"(function (txt){return this.k.render(txt,this.container)})\"]},\"systemjs_options\":null,\"mount_callbacks\":[\"function () {\\n    var handler = ((function (k){this.k=k; this.container=this.dom.querySelector(\\\"#container\\\"); return k.render(\\\"\\\\\\\\;\\\\\\\\;\\\",this.container)}));\\n    (WebIO.importBlock({\\\"data\\\":[{\\\"name\\\":null,\\\"type\\\":\\\"js\\\",\\\"url\\\":\\\"\\/assetserver\\/dd22ed1bf1896c2748f3fe616ce0b838adc895c1-katex.min.js\\\"},{\\\"name\\\":null,\\\"type\\\":\\\"css\\\",\\\"url\\\":\\\"\\/assetserver\\/46517a424aa5e6cffc1360d7e0848b601c584ee3-katex.min.css\\\"}],\\\"type\\\":\\\"async_block\\\"})).then((imports) => handler.apply(this, imports));\\n}\\n\"],\"observables\":{\"value\":{\"sync\":false,\"id\":\"16952965416982687109\",\"value\":\"\\\\;\\\\;\"}}},\"children\":[{\"props\":{\"id\":\"container\"},\"nodeType\":\"DOM\",\"type\":\"node\",\"instanceArgs\":{\"namespace\":\"html\",\"tag\":\"div\"},\"children\":[]}]}]},{\"props\":{\"className\":\"field interact-widget\"},\"nodeType\":\"DOM\",\"type\":\"node\",\"instanceArgs\":{\"namespace\":\"html\",\"tag\":\"div\"},\"children\":[{\"props\":{},\"nodeType\":\"Scope\",\"type\":\"node\",\"instanceArgs\":{\"imports\":{\"data\":[{\"name\":\"knockout\",\"type\":\"js\",\"url\":\"\\/assetserver\\/727383f2a47bd31570b7da84eee7b022dd6d7c78-knockout.js\"},{\"name\":\"knockout_punches\",\"type\":\"js\",\"url\":\"\\/assetserver\\/382b41b3b1bd9f26f75861d360bad7f8beea211f-knockout_punches.js\"},{\"name\":null,\"type\":\"js\",\"url\":\"\\/assetserver\\/5ab20f1060420992a9b82a65b735dee4d81ef413-all.js\"},{\"name\":null,\"type\":\"css\",\"url\":\"\\/assetserver\\/1cc0ed62837210b80a182cc3676512f895dab686-style.css\"},{\"name\":null,\"type\":\"css\",\"url\":\"\\/assetserver\\/2eee816f616df3549d7044d45e744fbf8d42bfa1-bulma_confined.min.css\"}],\"type\":\"async_block\"},\"id\":\"7025554394955427859\",\"handlers\":{\"loading\":[\"(function (val){return (val!=this.model[\\\"loading\\\"]()) ? (this.valueFromJulia[\\\"loading\\\"]=true, this.model[\\\"loading\\\"](val)) : undefined})\"],\"clicks\":[\"(function (val){return (val!=this.model[\\\"clicks\\\"]()) ? (this.valueFromJulia[\\\"clicks\\\"]=true, this.model[\\\"clicks\\\"](val)) : undefined})\"]},\"systemjs_options\":null,\"mount_callbacks\":[\"function () {\\n    var handler = (function (ko, koPunches) {\\n    ko.punches.enableAll();\\n    ko.bindingHandlers.numericValue = {\\n        init: function(element, valueAccessor, allBindings, data, context) {\\n            var stringified = ko.observable(ko.unwrap(valueAccessor()));\\n            stringified.subscribe(function(value) {\\n                var val = parseFloat(value);\\n                if (!isNaN(val)) {\\n                    valueAccessor()(val);\\n                }\\n            });\\n            valueAccessor().subscribe(function(value) {\\n                var str = JSON.stringify(value);\\n                if ((str == \\\"0\\\") && ([\\\"-0\\\", \\\"-0.\\\"].indexOf(stringified()) >= 0))\\n                     return;\\n                 if ([\\\"null\\\", \\\"\\\"].indexOf(str) >= 0)\\n                     return;\\n                stringified(str);\\n            });\\n            ko.applyBindingsToNode(\\n                element,\\n                {\\n                    value: stringified,\\n                    valueUpdate: allBindings.get('valueUpdate'),\\n                },\\n                context,\\n            );\\n        }\\n    };\\n    var json_data = {\\\"loading\\\":WebIO.getval({\\\"name\\\":\\\"loading\\\",\\\"scope\\\":\\\"7025554394955427859\\\",\\\"id\\\":\\\"6548549983738565475\\\",\\\"type\\\":\\\"observable\\\"}),\\\"clicks\\\":WebIO.getval({\\\"name\\\":\\\"clicks\\\",\\\"scope\\\":\\\"7025554394955427859\\\",\\\"id\\\":\\\"1473298779815518127\\\",\\\"type\\\":\\\"observable\\\"})};\\n    var self = this;\\n    function AppViewModel() {\\n        for (var key in json_data) {\\n            var el = json_data[key];\\n            this[key] = Array.isArray(el) ? ko.observableArray(el) : ko.observable(el);\\n        }\\n        \\n        \\n        [this[\\\"loading\\\"].subscribe((function (val){!(this.valueFromJulia[\\\"loading\\\"]) ? (WebIO.setval({\\\"name\\\":\\\"loading\\\",\\\"scope\\\":\\\"7025554394955427859\\\",\\\"id\\\":\\\"6548549983738565475\\\",\\\"type\\\":\\\"observable\\\"},val)) : undefined; return this.valueFromJulia[\\\"loading\\\"]=false}),self),this[\\\"clicks\\\"].subscribe((function (val){!(this.valueFromJulia[\\\"clicks\\\"]) ? (WebIO.setval({\\\"name\\\":\\\"clicks\\\",\\\"scope\\\":\\\"7025554394955427859\\\",\\\"id\\\":\\\"1473298779815518127\\\",\\\"type\\\":\\\"observable\\\"},val)) : undefined; return this.valueFromJulia[\\\"clicks\\\"]=false}),self)]\\n        \\n    }\\n    self.model = new AppViewModel();\\n    self.valueFromJulia = {};\\n    for (var key in json_data) {\\n        self.valueFromJulia[key] = false;\\n    }\\n    ko.applyBindings(self.model, self.dom);\\n}\\n);\\n    (WebIO.importBlock({\\\"data\\\":[{\\\"name\\\":\\\"knockout\\\",\\\"type\\\":\\\"js\\\",\\\"url\\\":\\\"\\/assetserver\\/727383f2a47bd31570b7da84eee7b022dd6d7c78-knockout.js\\\"},{\\\"name\\\":\\\"knockout_punches\\\",\\\"type\\\":\\\"js\\\",\\\"url\\\":\\\"\\/assetserver\\/382b41b3b1bd9f26f75861d360bad7f8beea211f-knockout_punches.js\\\"}],\\\"type\\\":\\\"async_block\\\"})).then((imports) => handler.apply(this, imports));\\n}\\n\"],\"observables\":{\"loading\":{\"sync\":false,\"id\":\"6548549983738565475\",\"value\":false},\"clicks\":{\"sync\":true,\"id\":\"1473298779815518127\",\"value\":0}}},\"children\":[{\"props\":{\"attributes\":{\"data-bind\":\"click: function (){this.clicks(this.clicks()+1)}, css: {'is-loading' : loading}\"},\"className\":\"is-medium button is-primary\",\"style\":{}},\"nodeType\":\"DOM\",\"type\":\"node\",\"instanceArgs\":{\"namespace\":\"html\",\"tag\":\"button\"},\"children\":[\"stop\"]}]}]},{\"props\":{\"className\":\"interact-widget\"},\"nodeType\":\"DOM\",\"type\":\"node\",\"instanceArgs\":{\"namespace\":\"html\",\"tag\":\"div\"},\"children\":[{\"props\":{},\"nodeType\":\"Scope\",\"type\":\"node\",\"instanceArgs\":{\"imports\":{\"data\":[{\"name\":null,\"type\":\"js\",\"url\":\"\\/assetserver\\/dd22ed1bf1896c2748f3fe616ce0b838adc895c1-katex.min.js\"},{\"name\":null,\"type\":\"css\",\"url\":\"\\/assetserver\\/46517a424aa5e6cffc1360d7e0848b601c584ee3-katex.min.css\"}],\"type\":\"async_block\"},\"id\":\"8062292069697084803\",\"handlers\":{\"value\":[\"(function (txt){return this.k.render(txt,this.container)})\"]},\"systemjs_options\":null,\"mount_callbacks\":[\"function () {\\n    var handler = ((function (k){this.k=k; this.container=this.dom.querySelector(\\\"#container\\\"); return k.render(\\\"\\\\\\\\;\\\\\\\\;\\\",this.container)}));\\n    (WebIO.importBlock({\\\"data\\\":[{\\\"name\\\":null,\\\"type\\\":\\\"js\\\",\\\"url\\\":\\\"\\/assetserver\\/dd22ed1bf1896c2748f3fe616ce0b838adc895c1-katex.min.js\\\"},{\\\"name\\\":null,\\\"type\\\":\\\"css\\\",\\\"url\\\":\\\"\\/assetserver\\/46517a424aa5e6cffc1360d7e0848b601c584ee3-katex.min.css\\\"}],\\\"type\\\":\\\"async_block\\\"})).then((imports) => handler.apply(this, imports));\\n}\\n\"],\"observables\":{\"value\":{\"sync\":false,\"id\":\"16952965416982687109\",\"value\":\"\\\\;\\\\;\"}}},\"children\":[{\"props\":{\"id\":\"container\"},\"nodeType\":\"DOM\",\"type\":\"node\",\"instanceArgs\":{\"namespace\":\"html\",\"tag\":\"div\"},\"children\":[]}]}]},{\"props\":{\"className\":\"field interact-widget\"},\"nodeType\":\"DOM\",\"type\":\"node\",\"instanceArgs\":{\"namespace\":\"html\",\"tag\":\"div\"},\"children\":[{\"props\":{},\"nodeType\":\"Scope\",\"type\":\"node\",\"instanceArgs\":{\"imports\":{\"data\":[{\"name\":\"knockout\",\"type\":\"js\",\"url\":\"\\/assetserver\\/727383f2a47bd31570b7da84eee7b022dd6d7c78-knockout.js\"},{\"name\":\"knockout_punches\",\"type\":\"js\",\"url\":\"\\/assetserver\\/382b41b3b1bd9f26f75861d360bad7f8beea211f-knockout_punches.js\"},{\"name\":null,\"type\":\"js\",\"url\":\"\\/assetserver\\/5ab20f1060420992a9b82a65b735dee4d81ef413-all.js\"},{\"name\":null,\"type\":\"css\",\"url\":\"\\/assetserver\\/1cc0ed62837210b80a182cc3676512f895dab686-style.css\"},{\"name\":null,\"type\":\"css\",\"url\":\"\\/assetserver\\/2eee816f616df3549d7044d45e744fbf8d42bfa1-bulma_confined.min.css\"}],\"type\":\"async_block\"},\"id\":\"15402166312532734474\",\"handlers\":{\"loading\":[\"(function (val){return (val!=this.model[\\\"loading\\\"]()) ? (this.valueFromJulia[\\\"loading\\\"]=true, this.model[\\\"loading\\\"](val)) : undefined})\"],\"clicks\":[\"(function (val){return (val!=this.model[\\\"clicks\\\"]()) ? (this.valueFromJulia[\\\"clicks\\\"]=true, this.model[\\\"clicks\\\"](val)) : undefined})\"]},\"systemjs_options\":null,\"mount_callbacks\":[\"function () {\\n    var handler = (function (ko, koPunches) {\\n    ko.punches.enableAll();\\n    ko.bindingHandlers.numericValue = {\\n        init: function(element, valueAccessor, allBindings, data, context) {\\n            var stringified = ko.observable(ko.unwrap(valueAccessor()));\\n            stringified.subscribe(function(value) {\\n                var val = parseFloat(value);\\n                if (!isNaN(val)) {\\n                    valueAccessor()(val);\\n                }\\n            });\\n            valueAccessor().subscribe(function(value) {\\n                var str = JSON.stringify(value);\\n                if ((str == \\\"0\\\") && ([\\\"-0\\\", \\\"-0.\\\"].indexOf(stringified()) >= 0))\\n                     return;\\n                 if ([\\\"null\\\", \\\"\\\"].indexOf(str) >= 0)\\n                     return;\\n                stringified(str);\\n            });\\n            ko.applyBindingsToNode(\\n                element,\\n                {\\n                    value: stringified,\\n                    valueUpdate: allBindings.get('valueUpdate'),\\n                },\\n                context,\\n            );\\n        }\\n    };\\n    var json_data = {\\\"loading\\\":WebIO.getval({\\\"name\\\":\\\"loading\\\",\\\"scope\\\":\\\"15402166312532734474\\\",\\\"id\\\":\\\"13162370093716642188\\\",\\\"type\\\":\\\"observable\\\"}),\\\"clicks\\\":WebIO.getval({\\\"name\\\":\\\"clicks\\\",\\\"scope\\\":\\\"15402166312532734474\\\",\\\"id\\\":\\\"8925315879366182897\\\",\\\"type\\\":\\\"observable\\\"})};\\n    var self = this;\\n    function AppViewModel() {\\n        for (var key in json_data) {\\n            var el = json_data[key];\\n            this[key] = Array.isArray(el) ? ko.observableArray(el) : ko.observable(el);\\n        }\\n        \\n        \\n        [this[\\\"loading\\\"].subscribe((function (val){!(this.valueFromJulia[\\\"loading\\\"]) ? (WebIO.setval({\\\"name\\\":\\\"loading\\\",\\\"scope\\\":\\\"15402166312532734474\\\",\\\"id\\\":\\\"13162370093716642188\\\",\\\"type\\\":\\\"observable\\\"},val)) : undefined; return this.valueFromJulia[\\\"loading\\\"]=false}),self),this[\\\"clicks\\\"].subscribe((function (val){!(this.valueFromJulia[\\\"clicks\\\"]) ? (WebIO.setval({\\\"name\\\":\\\"clicks\\\",\\\"scope\\\":\\\"15402166312532734474\\\",\\\"id\\\":\\\"8925315879366182897\\\",\\\"type\\\":\\\"observable\\\"},val)) : undefined; return this.valueFromJulia[\\\"clicks\\\"]=false}),self)]\\n        \\n    }\\n    self.model = new AppViewModel();\\n    self.valueFromJulia = {};\\n    for (var key in json_data) {\\n        self.valueFromJulia[key] = false;\\n    }\\n    ko.applyBindings(self.model, self.dom);\\n}\\n);\\n    (WebIO.importBlock({\\\"data\\\":[{\\\"name\\\":\\\"knockout\\\",\\\"type\\\":\\\"js\\\",\\\"url\\\":\\\"\\/assetserver\\/727383f2a47bd31570b7da84eee7b022dd6d7c78-knockout.js\\\"},{\\\"name\\\":\\\"knockout_punches\\\",\\\"type\\\":\\\"js\\\",\\\"url\\\":\\\"\\/assetserver\\/382b41b3b1bd9f26f75861d360bad7f8beea211f-knockout_punches.js\\\"}],\\\"type\\\":\\\"async_block\\\"})).then((imports) => handler.apply(this, imports));\\n}\\n\"],\"observables\":{\"loading\":{\"sync\":false,\"id\":\"13162370093716642188\",\"value\":false},\"clicks\":{\"sync\":true,\"id\":\"8925315879366182897\",\"value\":0}}},\"children\":[{\"props\":{\"attributes\":{\"data-bind\":\"click: function (){this.clicks(this.clicks()+1)}, css: {'is-loading' : loading}\"},\"className\":\"is-medium button is-primary\",\"style\":{}},\"nodeType\":\"DOM\",\"type\":\"node\",\"instanceArgs\":{\"namespace\":\"html\",\"tag\":\"button\"},\"children\":[\"save\"]}]}]}]}]},{\"props\":{\"className\":\"interact-widget\"},\"nodeType\":\"DOM\",\"type\":\"node\",\"instanceArgs\":{\"namespace\":\"html\",\"tag\":\"div\"},\"children\":[{\"props\":{},\"nodeType\":\"Scope\",\"type\":\"node\",\"instanceArgs\":{\"imports\":{\"data\":[{\"name\":null,\"type\":\"js\",\"url\":\"\\/assetserver\\/dd22ed1bf1896c2748f3fe616ce0b838adc895c1-katex.min.js\"},{\"name\":null,\"type\":\"css\",\"url\":\"\\/assetserver\\/46517a424aa5e6cffc1360d7e0848b601c584ee3-katex.min.css\"}],\"type\":\"async_block\"},\"id\":\"8062292069697084803\",\"handlers\":{\"value\":[\"(function (txt){return this.k.render(txt,this.container)})\"]},\"systemjs_options\":null,\"mount_callbacks\":[\"function () {\\n    var handler = ((function (k){this.k=k; this.container=this.dom.querySelector(\\\"#container\\\"); return k.render(\\\"\\\\\\\\;\\\\\\\\;\\\",this.container)}));\\n    (WebIO.importBlock({\\\"data\\\":[{\\\"name\\\":null,\\\"type\\\":\\\"js\\\",\\\"url\\\":\\\"\\/assetserver\\/dd22ed1bf1896c2748f3fe616ce0b838adc895c1-katex.min.js\\\"},{\\\"name\\\":null,\\\"type\\\":\\\"css\\\",\\\"url\\\":\\\"\\/assetserver\\/46517a424aa5e6cffc1360d7e0848b601c584ee3-katex.min.css\\\"}],\\\"type\\\":\\\"async_block\\\"})).then((imports) => handler.apply(this, imports));\\n}\\n\"],\"observables\":{\"value\":{\"sync\":false,\"id\":\"16952965416982687109\",\"value\":\"\\\\;\\\\;\"}}},\"children\":[{\"props\":{\"id\":\"container\"},\"nodeType\":\"DOM\",\"type\":\"node\",\"instanceArgs\":{\"namespace\":\"html\",\"tag\":\"div\"},\"children\":[]}]}]},{\"props\":{},\"nodeType\":\"Scope\",\"type\":\"node\",\"instanceArgs\":{\"imports\":{\"data\":[],\"type\":\"async_block\"},\"id\":\"2282637916323920983\",\"handlers\":{\"obs-output\":[\"function (value, scope) {\\n    scope.setInnerHTML(value);\\n}\\n\"]},\"systemjs_options\":null,\"mount_callbacks\":[],\"observables\":{\"obs-output\":{\"sync\":false,\"id\":\"14677741816958848983\",\"value\":\"<img src='data:image\\/png;base64,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'><\\/img>\"}}},\"children\":[{\"props\":{\"className\":\"webio-observable\",\"setInnerHtml\":\"<img src='data:image\\/png;base64,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'><\\/img>\"},\"nodeType\":\"DOM\",\"type\":\"node\",\"instanceArgs\":{\"namespace\":\"html\",\"tag\":\"div\"},\"children\":[]}]},{\"props\":{\"className\":\"interact-widget\"},\"nodeType\":\"DOM\",\"type\":\"node\",\"instanceArgs\":{\"namespace\":\"html\",\"tag\":\"div\"},\"children\":[{\"props\":{},\"nodeType\":\"Scope\",\"type\":\"node\",\"instanceArgs\":{\"imports\":{\"data\":[{\"name\":null,\"type\":\"js\",\"url\":\"\\/assetserver\\/dd22ed1bf1896c2748f3fe616ce0b838adc895c1-katex.min.js\"},{\"name\":null,\"type\":\"css\",\"url\":\"\\/assetserver\\/46517a424aa5e6cffc1360d7e0848b601c584ee3-katex.min.css\"}],\"type\":\"async_block\"},\"id\":\"8062292069697084803\",\"handlers\":{\"value\":[\"(function (txt){return this.k.render(txt,this.container)})\"]},\"systemjs_options\":null,\"mount_callbacks\":[\"function () {\\n    var handler = ((function (k){this.k=k; this.container=this.dom.querySelector(\\\"#container\\\"); return k.render(\\\"\\\\\\\\;\\\\\\\\;\\\",this.container)}));\\n    (WebIO.importBlock({\\\"data\\\":[{\\\"name\\\":null,\\\"type\\\":\\\"js\\\",\\\"url\\\":\\\"\\/assetserver\\/dd22ed1bf1896c2748f3fe616ce0b838adc895c1-katex.min.js\\\"},{\\\"name\\\":null,\\\"type\\\":\\\"css\\\",\\\"url\\\":\\\"\\/assetserver\\/46517a424aa5e6cffc1360d7e0848b601c584ee3-katex.min.css\\\"}],\\\"type\\\":\\\"async_block\\\"})).then((imports) => handler.apply(this, imports));\\n}\\n\"],\"observables\":{\"value\":{\"sync\":false,\"id\":\"16952965416982687109\",\"value\":\"\\\\;\\\\;\"}}},\"children\":[{\"props\":{\"id\":\"container\"},\"nodeType\":\"DOM\",\"type\":\"node\",\"instanceArgs\":{\"namespace\":\"html\",\"tag\":\"div\"},\"children\":[]}]}]},{\"props\":{\"style\":{\"display\":\"flex\",\"flex-direction\":\"column\"}},\"nodeType\":\"DOM\",\"type\":\"node\",\"instanceArgs\":{\"namespace\":\"html\",\"tag\":\"div\"},\"children\":[]}]}]},\n",
       "        window,\n",
       "    );\n",
       "    })()\n",
       "    </script>\n",
       "</div>\n"
      ],
      "text/plain": [
       "WebIO.Node{WebIO.DOM}(WebIO.DOM(:html, :div), Any[WebIO.Node{WebIO.DOM}(WebIO.DOM(:html, :div), Any[WebIO.Node{WebIO.DOM}(WebIO.DOM(:html, :div), Any[WebIO.Node{WebIO.DOM}(WebIO.DOM(:html, :div), Any[WebIO.Scope(WebIO.Node{WebIO.DOM}(WebIO.DOM(:html, :div), Any[WebIO.Node{WebIO.DOM}(WebIO.DOM(:html, :div), Any[WebIO.Node{WebIO.DOM}(WebIO.DOM(:html, :label), Any[\"time\"], Dict{Symbol, Any}(:className => \"interact \", :style => Dict{Any, Any}(:padding => \"5px 10px 0px 10px\")))], Dict{Symbol, Any}(:className => \"interact-flex-row-left\")), WebIO.Node{WebIO.DOM}(WebIO.DOM(:html, :div), Any[WebIO.Node{WebIO.DOM}(WebIO.DOM(:html, :input), Any[], Dict{Symbol, Any}(:max => 501, :min => 1, :attributes => Dict{Any, Any}(:type => \"range\", Symbol(\"data-bind\") => \"numericValue: index, valueUpdate: 'input', event: {change: function (){this.changes(this.changes()+1)}}\", \"orient\" => \"horizontal\"), :step => 1, :className => \"slider slider is-fullwidth\", :style => Dict{Any, Any}()))], Dict{Symbol, Any}(:className => \"interact-flex-row-center\")), WebIO.Node{WebIO.DOM}(WebIO.DOM(:html, :div), Any[WebIO.Node{WebIO.DOM}(WebIO.DOM(:html, :p), Any[], Dict{Symbol, Any}(:attributes => Dict(\"data-bind\" => \"text: formatted_val\")))], Dict{Symbol, Any}(:className => \"interact-flex-row-right\"))], Dict{Symbol, Any}(:className => \"interact-flex-row interact-widget\")), Dict{String, Tuple{Observables.AbstractObservable, Union{Nothing, Bool}}}(\"changes\" => (Observable(0), nothing), \"index\" => (Observable(251), nothing)), Set{String}(), nothing, WebIO.Asset[WebIO.Asset(\"js\", \"knockout\", \"/home/dushya/.julia/packages/Knockout/HReiN/src/../assets/knockout.js\"), WebIO.Asset(\"js\", \"knockout_punches\", \"/home/dushya/.julia/packages/Knockout/HReiN/src/../assets/knockout_punches.js\"), WebIO.Asset(\"js\", nothing, \"/home/dushya/.julia/packages/InteractBase/LJXv3/src/../assets/all.js\"), WebIO.Asset(\"css\", nothing, \"/home/dushya/.julia/packages/InteractBase/LJXv3/src/../assets/style.css\"), WebIO.Asset(\"css\", nothing, \"/home/dushya/.julia/packages/Interact/PENUy/src/../assets/bulma_confined.min.css\")], Dict{Any, Any}(\"changes\" => Any[WebIO.JSString(\"(function (val){return (val!=this.model[\\\"changes\\\"]()) ? (this.valueFromJulia[\\\"changes\\\"]=true, this.model[\\\"changes\\\"](val)) : undefined})\")], \"index\" => Any[WebIO.JSString(\"(function (val){return (val!=this.model[\\\"index\\\"]()) ? (this.valueFromJulia[\\\"index\\\"]=true, this.model[\\\"index\\\"](val)) : undefined})\")]), WebIO.ConnectionPool(Channel{Any}(32), Set{WebIO.AbstractConnection}(), Base.GenericCondition{ReentrantLock}(Base.IntrusiveLinkedList{Task}(Task (runnable) @0x00007febdc358010, Task (runnable) @0x00007febdc358010), ReentrantLock(nothing, 0x00000000, 0x00, Base.GenericCondition{Base.Threads.SpinLock}(Base.IntrusiveLinkedList{Task}(nothing, nothing), Base.Threads.SpinLock(0)), (174, 27074856171368496, 140653197581296)))), WebIO.JSString[WebIO.JSString(\"function () {\\n    var handler = (function (ko, koPunches) {\\n    ko.punches.enableAll();\\n    ko.bindingHandlers.numericValue = {\\n        init: function(element, valueAccessor, allBindings, data, context) {\\n            var stringified = ko.observable(ko.unwrap(valueAccessor()));\\n            stringified.subscribe(function(value) {\\n                var val = parseFloat(value);\\n                if (!isNaN(val)) {\\n                    valueAccessor()(val);\\n                }\\n            });\\n            valueAccessor().subscribe(function(value) {\\n                var str = JSON.stringify(value);\\n                if ((str == \\\"0\\\") && ([\\\"-0\\\", \\\"-0.\\\"].indexOf(stringified()) >= 0))\\n                     return;\\n                 if ([\\\"null\\\", \\\"\\\"].indexOf(str) >= 0)\\n                     return;\\n                stringified(str);\\n            });\\n            ko.applyBindingsToNode(\\n                element,\\n                {\\n                    value: stringified,\\n                    valueUpdate: allBindings.get('valueUpdate'),\\n                },\\n                context,\\n            );\\n        }\\n    };\\n    var json_data = {\\\"formatted_vals\\\":[\\\"1\\\",\\\"2\\\",\\\"3\\\",\\\"4\\\",\\\"5\\\",\\\"6\\\",\\\"7\\\",\\\"8\\\",\\\"9\\\",\\\"10\\\",\\\"11\\\",\\\"12\\\",\\\"13\\\",\\\"14\\\",\\\"15\\\",\\\"16\\\",\\\"17\\\",\\\"18\\\",\\\"19\\\",\\\"20\\\",\\\"21\\\",\\\"22\\\",\\\"23\\\",\\\"24\\\",\\\"25\\\",\\\"26\\\",\\\"27\\\",\\\"28\\\",\\\"29\\\",\\\"30\\\",\\\"31\\\",\\\"32\\\",\\\"33\\\",\\\"34\\\",\\\"35\\\",\\\"36\\\",\\\"37\\\",\\\"38\\\",\\\"39\\\",\\\"40\\\",\\\"41\\\",\\\"42\\\",\\\"43\\\",\\\"44\\\",\\\"45\\\",\\\"46\\\",\\\"47\\\",\\\"48\\\",\\\"49\\\",\\\"50\\\",\\\"51\\\",\\\"52\\\",\\\"53\\\",\\\"54\\\",\\\"55\\\",\\\"56\\\",\\\"57\\\",\\\"58\\\",\\\"59\\\",\\\"60\\\",\\\"61\\\",\\\"62\\\",\\\"63\\\",\\\"64\\\",\\\"65\\\",\\\"66\\\",\\\"67\\\",\\\"68\\\",\\\"69\\\",\\\"70\\\",\\\"71\\\",\\\"72\\\",\\\"73\\\",\\\"74\\\",\\\"75\\\",\\\"76\\\",\\\"77\\\",\\\"78\\\",\\\"79\\\",\\\"80\\\",\\\"81\\\",\\\"82\\\",\\\"83\\\",\\\"84\\\",\\\"85\\\",\\\"86\\\",\\\"87\\\",\\\"88\\\",\\\"89\\\",\\\"90\\\",\\\"91\\\",\\\"92\\\",\\\"93\\\",\\\"94\\\",\\\"95\\\",\\\"96\\\",\\\"97\\\",\\\"98\\\",\\\"99\\\",\\\"100\\\",\\\"101\\\",\\\"102\\\",\\\"103\\\",\\\"104\\\",\\\"105\\\",\\\"106\\\",\\\"107\\\",\\\"108\\\",\\\"109\\\",\\\"110\\\",\\\"111\\\",\\\"112\\\",\\\"113\\\",\\\"114\\\",\\\"115\\\",\\\"116\\\",\\\"117\\\",\\\"118\\\",\\\"119\\\",\\\"120\\\",\\\"121\\\",\\\"122\\\",\\\"123\\\",\\\"124\\\",\\\"125\\\",\\\"126\\\",\\\"127\\\",\\\"128\\\",\\\"129\\\",\\\"130\\\",\\\"131\\\",\\\"132\\\",\\\"133\\\",\\\"134\\\",\\\"135\\\",\\\"136\\\",\\\"137\\\",\\\"138\\\",\\\"139\\\",\\\"140\\\",\\\"141\\\",\\\"142\\\",\\\"143\\\",\\\"144\\\",\\\"145\\\",\\\"146\\\",\\\"147\\\",\\\"148\\\",\\\"149\\\",\\\"150\\\",\\\"151\\\",\\\"152\\\",\\\"153\\\",\\\"154\\\",\\\"155\\\",\\\"156\\\",\\\"157\\\",\\\"158\\\",\\\"159\\\",\\\"160\\\",\\\"161\\\",\\\"162\\\",\\\"163\\\",\\\"164\\\",\\\"165\\\",\\\"166\\\",\\\"167\\\",\\\"168\\\",\\\"169\\\",\\\"170\\\",\\\"171\\\",\\\"172\\\",\\\"173\\\",\\\"174\\\",\\\"175\\\",\\\"176\\\",\\\"177\\\",\\\"178\\\",\\\"179\\\",\\\"180\\\",\\\"181\\\",\\\"182\\\",\\\"183\\\",\\\"184\\\",\\\"185\\\",\\\"186\\\",\\\"187\\\",\\\"188\\\",\\\"189\\\",\\\"190\\\",\\\"191\\\",\\\"192\\\",\\\"193\\\",\\\"194\\\",\\\"195\\\",\\\"196\\\",\\\"197\\\",\\\"198\\\",\\\"199\\\",\\\"200\\\",\\\"201\\\",\\\"202\\\",\\\"203\\\",\\\"204\\\",\\\"205\\\",\\\"206\\\",\\\"207\\\",\\\"208\\\",\\\"209\\\",\\\"210\\\",\\\"211\\\",\\\"212\\\",\\\"213\\\",\\\"214\\\",\\\"215\\\",\\\"216\\\",\\\"217\\\",\\\"218\\\",\\\"219\\\",\\\"220\\\",\\\"221\\\",\\\"222\\\",\\\"223\\\",\\\"224\\\",\\\"225\\\",\\\"226\\\",\\\"227\\\",\\\"228\\\",\\\"229\\\",\\\"230\\\",\\\"231\\\",\\\"232\\\",\\\"233\\\",\\\"234\\\",\\\"235\\\",\\\"236\\\",\\\"237\\\",\\\"238\\\",\\\"239\\\",\\\"240\\\",\\\"241\\\",\\\"242\\\",\\\"243\\\",\\\"244\\\",\\\"245\\\",\\\"246\\\",\\\"247\\\",\\\"248\\\",\\\"249\\\",\\\"250\\\",\\\"251\\\",\\\"252\\\",\\\"253\\\",\\\"254\\\",\\\"255\\\",\\\"256\\\",\\\"257\\\",\\\"258\\\",\\\"259\\\",\\\"260\\\",\\\"261\\\",\\\"262\\\",\\\"263\\\",\\\"264\\\",\\\"265\\\",\\\"266\\\",\\\"267\\\",\\\"268\\\",\\\"269\\\",\\\"270\\\",\\\"271\\\",\\\"272\\\",\\\"273\\\",\\\"274\\\",\\\"275\\\",\\\"276\\\",\\\"277\\\",\\\"278\\\",\\\"279\\\",\\\"280\\\",\\\"281\\\",\\\"282\\\",\\\"283\\\",\\\"284\\\",\\\"285\\\",\\\"286\\\",\\\"287\\\",\\\"288\\\",\\\"289\\\",\\\"290\\\",\\\"291\\\",\\\"292\\\",\\\"293\\\",\\\"294\\\",\\\"295\\\",\\\"296\\\",\\\"297\\\",\\\"298\\\",\\\"299\\\",\\\"300\\\",\\\"301\\\",\\\"302\\\",\\\"303\\\",\\\"304\\\",\\\"305\\\",\\\"306\\\",\\\"307\\\",\\\"308\\\",\\\"309\\\",\\\"310\\\",\\\"311\\\",\\\"312\\\",\\\"313\\\",\\\"314\\\",\\\"315\\\",\\\"316\\\",\\\"317\\\",\\\"318\\\",\\\"319\\\",\\\"320\\\",\\\"321\\\",\\\"322\\\",\\\"323\\\",\\\"324\\\",\\\"325\\\",\\\"326\\\",\\\"327\\\",\\\"328\\\",\\\"329\\\",\\\"330\\\",\\\"331\\\",\\\"332\\\",\\\"333\\\",\\\"334\\\",\\\"335\\\",\\\"336\\\",\\\"337\\\",\\\"338\\\",\\\"339\\\",\\\"340\\\",\\\"341\\\",\\\"342\\\",\\\"343\\\",\\\"344\\\",\\\"345\\\",\\\"346\\\",\\\"347\\\",\\\"348\\\",\\\"349\\\",\\\"350\\\",\\\"351\\\",\\\"352\\\",\\\"353\\\",\\\"354\\\",\\\"355\\\",\\\"356\\\",\\\"357\\\",\\\"358\\\",\\\"359\\\",\\\"360\\\",\\\"361\\\",\\\"362\\\",\\\"363\\\",\\\"364\\\",\\\"365\\\",\\\"366\\\",\\\"367\\\",\\\"368\\\",\\\"369\\\",\\\"370\\\",\\\"371\\\",\\\"372\\\",\\\"373\\\",\\\"374\\\",\\\"375\\\",\\\"376\\\",\\\"377\\\",\\\"378\\\",\\\"379\\\",\\\"380\\\",\\\"381\\\",\\\"382\\\",\\\"383\\\",\\\"384\\\",\\\"385\\\",\\\"386\\\",\\\"387\\\",\\\"388\\\",\\\"389\\\",\\\"390\\\",\\\"391\\\",\\\"392\\\",\\\"393\\\",\\\"394\\\",\\\"395\\\",\\\"396\\\",\\\"397\\\",\\\"398\\\",\\\"399\\\",\\\"400\\\",\\\"401\\\",\\\"402\\\",\\\"403\\\",\\\"404\\\",\\\"405\\\",\\\"406\\\",\\\"407\\\",\\\"408\\\",\\\"409\\\",\\\"410\\\",\\\"411\\\",\\\"412\\\",\\\"413\\\",\\\"414\\\",\\\"415\\\",\\\"416\\\",\\\"417\\\",\\\"418\\\",\\\"419\\\",\\\"420\\\",\\\"421\\\",\\\"422\\\",\\\"423\\\",\\\"424\\\",\\\"425\\\",\\\"426\\\",\\\"427\\\",\\\"428\\\",\\\"429\\\",\\\"430\\\",\\\"431\\\",\\\"432\\\",\\\"433\\\",\\\"434\\\",\\\"435\\\",\\\"436\\\",\\\"437\\\",\\\"438\\\",\\\"439\\\",\\\"440\\\",\\\"441\\\",\\\"442\\\",\\\"443\\\",\\\"444\\\",\\\"445\\\",\\\"446\\\",\\\"447\\\",\\\"448\\\",\\\"449\\\",\\\"450\\\",\\\"451\\\",\\\"452\\\",\\\"453\\\",\\\"454\\\",\\\"455\\\",\\\"456\\\",\\\"457\\\",\\\"458\\\",\\\"459\\\",\\\"460\\\",\\\"461\\\",\\\"462\\\",\\\"463\\\",\\\"464\\\",\\\"465\\\",\\\"466\\\",\\\"467\\\",\\\"468\\\",\\\"469\\\",\\\"470\\\",\\\"471\\\",\\\"472\\\",\\\"473\\\",\\\"474\\\",\\\"475\\\",\\\"476\\\",\\\"477\\\",\\\"478\\\",\\\"479\\\",\\\"480\\\",\\\"481\\\",\\\"482\\\",\\\"483\\\",\\\"484\\\",\\\"485\\\",\\\"486\\\",\\\"487\\\",\\\"488\\\",\\\"489\\\",\\\"490\\\",\\\"491\\\",\\\"492\\\",\\\"493\\\",\\\"494\\\",\\\"495\\\",\\\"496\\\",\\\"497\\\",\\\"498\\\",\\\"499\\\",\\\"500\\\",\\\"501\\\"],\\\"changes\\\":WebIO.getval({\\\"name\\\":\\\"changes\\\",\\\"scope\\\":\\\"17231953199742171087\\\",\\\"id\\\":\\\"1060839023505695466\\\",\\\"type\\\":\\\"observable\\\"}),\\\"index\\\":WebIO.getval({\\\"name\\\":\\\"index\\\",\\\"scope\\\":\\\"17231953199742171087\\\",\\\"id\\\":\\\"1965990277613965676\\\",\\\"type\\\":\\\"observable\\\"})};\\n    var self = this;\\n    function AppViewModel() {\\n        for (var key in json_data) {\\n            var el = json_data[key];\\n            this[key] = Array.isArray(el) ? ko.observableArray(el) : ko.observable(el);\\n        }\\n        \\n        [this[\\\"formatted_val\\\"]=ko.computed(    function(){\\n        return this.formatted_vals()[parseInt(this.index())-(1)];\\n    }\\n,this)]\\n        [this[\\\"changes\\\"].subscribe((function (val){!(this.valueFromJulia[\\\"changes\\\"]) ? (WebIO.setval({\\\"name\\\":\\\"changes\\\",\\\"scope\\\":\\\"17231953199742171087\\\",\\\"id\\\":\\\"1060839023505695466\\\",\\\"type\\\":\\\"observable\\\"},val)) : undefined; return this.valueFromJulia[\\\"changes\\\"]=false}),self),this[\\\"index\\\"].subscribe((function (val){!(this.valueFromJulia[\\\"index\\\"]) ? (WebIO.setval({\\\"name\\\":\\\"index\\\",\\\"scope\\\":\\\"17231953199742171087\\\",\\\"id\\\":\\\"1965990277613965676\\\",\\\"type\\\":\\\"observable\\\"},val)) : undefined; return this.valueFromJulia[\\\"index\\\"]=false}),self)]\\n        \\n    }\\n    self.model = new AppViewModel();\\n    self.valueFromJulia = {};\\n    for (var key in json_data) {\\n        self.valueFromJulia[key] = false;\\n    }\\n    ko.applyBindings(self.model, self.dom);\\n}\\n);\\n    (WebIO.importBlock({\\\"data\\\":[{\\\"name\\\":\\\"knockout\\\",\\\"type\\\":\\\"js\\\",\\\"url\\\":\\\"/assetserver/727383f2a47bd31570b7da84eee7b022dd6d7c78-knockout.js\\\"},{\\\"name\\\":\\\"knockout_punches\\\",\\\"type\\\":\\\"js\\\",\\\"url\\\":\\\"/assetserver/382b41b3b1bd9f26f75861d360bad7f8beea211f-knockout_punches.js\\\"}],\\\"type\\\":\\\"async_block\\\"})).then((imports) => handler.apply(this, imports));\\n}\\n\")])], Dict{Symbol, Any}(:className => \"field interact-widget\")), WebIO.Node{WebIO.DOM}(WebIO.DOM(:html, :div), Any[WebIO.Scope(WebIO.Node{WebIO.DOM}(WebIO.DOM(:html, :div), Any[WebIO.Node{WebIO.DOM}(WebIO.DOM(:html, :div), Any[WebIO.Node{WebIO.DOM}(WebIO.DOM(:html, :label), Any[\"scale\"], Dict{Symbol, Any}(:className => \"interact \", :style => Dict{Any, Any}(:padding => \"5px 10px 0px 10px\")))], Dict{Symbol, Any}(:className => \"interact-flex-row-left\")), WebIO.Node{WebIO.DOM}(WebIO.DOM(:html, :div), Any[WebIO.Node{WebIO.DOM}(WebIO.DOM(:html, :input), Any[], Dict{Symbol, Any}(:max => 20, :min => 1, :attributes => Dict{Any, Any}(:type => \"range\", Symbol(\"data-bind\") => \"numericValue: index, valueUpdate: 'input', event: {change: function (){this.changes(this.changes()+1)}}\", \"orient\" => \"horizontal\"), :step => 1, :className => \"slider slider is-fullwidth\", :style => Dict{Any, Any}()))], Dict{Symbol, Any}(:className => \"interact-flex-row-center\")), WebIO.Node{WebIO.DOM}(WebIO.DOM(:html, :div), Any[WebIO.Node{WebIO.DOM}(WebIO.DOM(:html, :p), Any[], Dict{Symbol, Any}(:attributes => Dict(\"data-bind\" => \"text: formatted_val\")))], Dict{Symbol, Any}(:className => \"interact-flex-row-right\"))], Dict{Symbol, Any}(:className => \"interact-flex-row interact-widget\")), Dict{String, Tuple{Observables.AbstractObservable, Union{Nothing, Bool}}}(\"changes\" => (Observable(0), nothing), \"index\" => (Observable{Any}(10), nothing)), Set{String}(), nothing, WebIO.Asset[WebIO.Asset(\"js\", \"knockout\", \"/home/dushya/.julia/packages/Knockout/HReiN/src/../assets/knockout.js\"), WebIO.Asset(\"js\", \"knockout_punches\", \"/home/dushya/.julia/packages/Knockout/HReiN/src/../assets/knockout_punches.js\"), WebIO.Asset(\"js\", nothing, \"/home/dushya/.julia/packages/InteractBase/LJXv3/src/../assets/all.js\"), WebIO.Asset(\"css\", nothing, \"/home/dushya/.julia/packages/InteractBase/LJXv3/src/../assets/style.css\"), WebIO.Asset(\"css\", nothing, \"/home/dushya/.julia/packages/Interact/PENUy/src/../assets/bulma_confined.min.css\")], Dict{Any, Any}(\"changes\" => Any[WebIO.JSString(\"(function (val){return (val!=this.model[\\\"changes\\\"]()) ? (this.valueFromJulia[\\\"changes\\\"]=true, this.model[\\\"changes\\\"](val)) : undefined})\")], \"index\" => Any[WebIO.JSString(\"(function (val){return (val!=this.model[\\\"index\\\"]()) ? (this.valueFromJulia[\\\"index\\\"]=true, this.model[\\\"index\\\"](val)) : undefined})\")]), WebIO.ConnectionPool(Channel{Any}(32), Set{WebIO.AbstractConnection}(), Base.GenericCondition{ReentrantLock}(Base.IntrusiveLinkedList{Task}(Task (runnable) @0x00007febdc35a8b0, Task (runnable) @0x00007febdc35a8b0), ReentrantLock(nothing, 0x00000000, 0x00, Base.GenericCondition{Base.Threads.SpinLock}(Base.IntrusiveLinkedList{Task}(nothing, nothing), Base.Threads.SpinLock(0)), (174, 140653038915232, 42)))), WebIO.JSString[WebIO.JSString(\"function () {\\n    var handler = (function (ko, koPunches) {\\n    ko.punches.enableAll();\\n    ko.bindingHandlers.numericValue = {\\n        init: function(element, valueAccessor, allBindings, data, context) {\\n            var stringified = ko.observable(ko.unwrap(valueAccessor()));\\n            stringified.subscribe(function(value) {\\n                var val = parseFloat(value);\\n                if (!isNaN(val)) {\\n                    valueAccessor()(val);\\n                }\\n            });\\n            valueAccessor().subscribe(function(value) {\\n                var str = JSON.stringify(value);\\n                if ((str == \\\"0\\\") && ([\\\"-0\\\", \\\"-0.\\\"].indexOf(stringified()) >= 0))\\n                     return;\\n                 if ([\\\"null\\\", \\\"\\\"].indexOf(str) >= 0)\\n                     return;\\n                stringified(str);\\n            });\\n            ko.applyBindingsToNode(\\n                element,\\n                {\\n                    value: stringified,\\n                    valueUpdate: allBindings.get('valueUpdate'),\\n                },\\n                context,\\n            );\\n        }\\n    };\\n    var json_data = {\\\"formatted_vals\\\":[\\\"0.1\\\",\\\"0.2\\\",\\\"0.3\\\",\\\"0.4\\\",\\\"0.5\\\",\\\"0.6\\\",\\\"0.7\\\",\\\"0.8\\\",\\\"0.9\\\",\\\"1.0\\\",\\\"1.1\\\",\\\"1.2\\\",\\\"1.3\\\",\\\"1.4\\\",\\\"1.5\\\",\\\"1.6\\\",\\\"1.7\\\",\\\"1.8\\\",\\\"1.9\\\",\\\"2.0\\\"],\\\"changes\\\":WebIO.getval({\\\"name\\\":\\\"changes\\\",\\\"scope\\\":\\\"4786329490703390592\\\",\\\"id\\\":\\\"13533991677627978485\\\",\\\"type\\\":\\\"observable\\\"}),\\\"index\\\":WebIO.getval({\\\"name\\\":\\\"index\\\",\\\"scope\\\":\\\"4786329490703390592\\\",\\\"id\\\":\\\"1589105905076684854\\\",\\\"type\\\":\\\"observable\\\"})};\\n    var self = this;\\n    function AppViewModel() {\\n        for (var key in json_data) {\\n            var el = json_data[key];\\n            this[key] = Array.isArray(el) ? ko.observableArray(el) : ko.observable(el);\\n        }\\n        \\n        [this[\\\"formatted_val\\\"]=ko.computed(    function(){\\n        return this.formatted_vals()[parseInt(this.index())-(1)];\\n    }\\n,this)]\\n        [this[\\\"changes\\\"].subscribe((function (val){!(this.valueFromJulia[\\\"changes\\\"]) ? (WebIO.setval({\\\"name\\\":\\\"changes\\\",\\\"scope\\\":\\\"4786329490703390592\\\",\\\"id\\\":\\\"13533991677627978485\\\",\\\"type\\\":\\\"observable\\\"},val)) : undefined; return this.valueFromJulia[\\\"changes\\\"]=false}),self),this[\\\"index\\\"].subscribe((function (val){!(this.valueFromJulia[\\\"index\\\"]) ? (WebIO.setval({\\\"name\\\":\\\"index\\\",\\\"scope\\\":\\\"4786329490703390592\\\",\\\"id\\\":\\\"1589105905076684854\\\",\\\"type\\\":\\\"observable\\\"},val)) : undefined; return this.valueFromJulia[\\\"index\\\"]=false}),self)]\\n        \\n    }\\n    self.model = new AppViewModel();\\n    self.valueFromJulia = {};\\n    for (var key in json_data) {\\n        self.valueFromJulia[key] = false;\\n    }\\n    ko.applyBindings(self.model, self.dom);\\n}\\n);\\n    (WebIO.importBlock({\\\"data\\\":[{\\\"name\\\":\\\"knockout\\\",\\\"type\\\":\\\"js\\\",\\\"url\\\":\\\"/assetserver/727383f2a47bd31570b7da84eee7b022dd6d7c78-knockout.js\\\"},{\\\"name\\\":\\\"knockout_punches\\\",\\\"type\\\":\\\"js\\\",\\\"url\\\":\\\"/assetserver/382b41b3b1bd9f26f75861d360bad7f8beea211f-knockout_punches.js\\\"}],\\\"type\\\":\\\"async_block\\\"})).then((imports) => handler.apply(this, imports));\\n}\\n\")])], Dict{Symbol, Any}(:className => \"field interact-widget\")), WebIO.Node{WebIO.DOM}(WebIO.DOM(:html, :div), Any[WebIO.Node{WebIO.DOM}(WebIO.DOM(:html, :div), Any[WebIO.Scope(WebIO.Node{WebIO.DOM}(WebIO.DOM(:html, :div), Any[], Dict{Symbol, Any}(:id => \"container\")), Dict{String, Tuple{Observables.AbstractObservable, Union{Nothing, Bool}}}(\"value\" => (Observable(\"\\\\;\\\\;\"), nothing)), Set{String}(), nothing, WebIO.Asset[WebIO.Asset(\"js\", nothing, \"/home/dushya/.julia/packages/InteractBase/LJXv3/src/../assets/katex.min.js\"), WebIO.Asset(\"css\", nothing, \"/home/dushya/.julia/packages/InteractBase/LJXv3/src/../assets/katex.min.css\")], Dict{Any, Any}(\"value\" => Any[WebIO.JSString(\"(function (txt){return this.k.render(txt,this.container)})\")]), WebIO.ConnectionPool(Channel{Any}(32), Set{WebIO.AbstractConnection}(), Base.GenericCondition{ReentrantLock}(Base.IntrusiveLinkedList{Task}(Task (runnable) @0x00007febeb6552d0, Task (runnable) @0x00007febeb6552d0), ReentrantLock(nothing, 0x00000000, 0x00, Base.GenericCondition{Base.Threads.SpinLock}(Base.IntrusiveLinkedList{Task}(nothing, nothing), Base.Threads.SpinLock(0)), (1, 140650987826256, 0)))), WebIO.JSString[WebIO.JSString(\"function () {\\n    var handler = ((function (k){this.k=k; this.container=this.dom.querySelector(\\\"#container\\\"); return k.render(\\\"\\\\\\\\;\\\\\\\\;\\\",this.container)}));\\n    (WebIO.importBlock({\\\"data\\\":[{\\\"name\\\":null,\\\"type\\\":\\\"js\\\",\\\"url\\\":\\\"/assetserver/dd22ed1bf1896c2748f3fe616ce0b838adc895c1-katex.min.js\\\"},{\\\"name\\\":null,\\\"type\\\":\\\"css\\\",\\\"url\\\":\\\"/assetserver/46517a424aa5e6cffc1360d7e0848b601c584ee3-katex.min.css\\\"}],\\\"type\\\":\\\"async_block\\\"})).then((imports) => handler.apply(this, imports));\\n}\\n\")])], Dict{Symbol, Any}(:className => \"interact-widget\")), WebIO.Node{WebIO.DOM}(WebIO.DOM(:html, :div), Any[WebIO.Scope(WebIO.Node{WebIO.DOM}(WebIO.DOM(:html, :button), Any[\"run\"], Dict{Symbol, Any}(:attributes => Dict{Any, Any}(\"data-bind\" => \"click: function (){this.clicks(this.clicks()+1)}, css: {'is-loading' : loading}\"), :className => \"is-medium button is-primary\", :style => Dict{String, Any}())), Dict{String, Tuple{Observables.AbstractObservable, Union{Nothing, Bool}}}(\"loading\" => (Observable(false), nothing), \"clicks\" => (Observable(0), nothing)), Set{String}(), nothing, WebIO.Asset[WebIO.Asset(\"js\", \"knockout\", \"/home/dushya/.julia/packages/Knockout/HReiN/src/../assets/knockout.js\"), WebIO.Asset(\"js\", \"knockout_punches\", \"/home/dushya/.julia/packages/Knockout/HReiN/src/../assets/knockout_punches.js\"), WebIO.Asset(\"js\", nothing, \"/home/dushya/.julia/packages/InteractBase/LJXv3/src/../assets/all.js\"), WebIO.Asset(\"css\", nothing, \"/home/dushya/.julia/packages/InteractBase/LJXv3/src/../assets/style.css\"), WebIO.Asset(\"css\", nothing, \"/home/dushya/.julia/packages/Interact/PENUy/src/../assets/bulma_confined.min.css\")], Dict{Any, Any}(\"loading\" => Any[WebIO.JSString(\"(function (val){return (val!=this.model[\\\"loading\\\"]()) ? (this.valueFromJulia[\\\"loading\\\"]=true, this.model[\\\"loading\\\"](val)) : undefined})\")], \"clicks\" => Any[WebIO.JSString(\"(function (val){return (val!=this.model[\\\"clicks\\\"]()) ? (this.valueFromJulia[\\\"clicks\\\"]=true, this.model[\\\"clicks\\\"](val)) : undefined})\")]), WebIO.ConnectionPool(Channel{Any}(32), Set{WebIO.AbstractConnection}(), Base.GenericCondition{ReentrantLock}(Base.IntrusiveLinkedList{Task}(Task (runnable) @0x00007febdd0a39e0, Task (runnable) @0x00007febdd0a39e0), ReentrantLock(nothing, 0x00000000, 0x00, Base.GenericCondition{Base.Threads.SpinLock}(Base.IntrusiveLinkedList{Task}(nothing, nothing), Base.Threads.SpinLock(0)), (1, -1, 140653197550960)))), WebIO.JSString[WebIO.JSString(\"function () {\\n    var handler = (function (ko, koPunches) {\\n    ko.punches.enableAll();\\n    ko.bindingHandlers.numericValue = {\\n        init: function(element, valueAccessor, allBindings, data, context) {\\n            var stringified = ko.observable(ko.unwrap(valueAccessor()));\\n            stringified.subscribe(function(value) {\\n                var val = parseFloat(value);\\n                if (!isNaN(val)) {\\n                    valueAccessor()(val);\\n                }\\n            });\\n            valueAccessor().subscribe(function(value) {\\n                var str = JSON.stringify(value);\\n                if ((str == \\\"0\\\") && ([\\\"-0\\\", \\\"-0.\\\"].indexOf(stringified()) >= 0))\\n                     return;\\n                 if ([\\\"null\\\", \\\"\\\"].indexOf(str) >= 0)\\n                     return;\\n                stringified(str);\\n            });\\n            ko.applyBindingsToNode(\\n                element,\\n                {\\n                    value: stringified,\\n                    valueUpdate: allBindings.get('valueUpdate'),\\n                },\\n                context,\\n            );\\n        }\\n    };\\n    var json_data = {\\\"loading\\\":WebIO.getval({\\\"name\\\":\\\"loading\\\",\\\"scope\\\":\\\"4426932562851537276\\\",\\\"id\\\":\\\"6481808451080734063\\\",\\\"type\\\":\\\"observable\\\"}),\\\"clicks\\\":WebIO.getval({\\\"name\\\":\\\"clicks\\\",\\\"scope\\\":\\\"4426932562851537276\\\",\\\"id\\\":\\\"6438746202865598985\\\",\\\"type\\\":\\\"observable\\\"})};\\n    var self = this;\\n    function AppViewModel() {\\n        for (var key in json_data) {\\n            var el = json_data[key];\\n            this[key] = Array.isArray(el) ? ko.observableArray(el) : ko.observable(el);\\n        }\\n        \\n        \\n        [this[\\\"loading\\\"].subscribe((function (val){!(this.valueFromJulia[\\\"loading\\\"]) ? (WebIO.setval({\\\"name\\\":\\\"loading\\\",\\\"scope\\\":\\\"4426932562851537276\\\",\\\"id\\\":\\\"6481808451080734063\\\",\\\"type\\\":\\\"observable\\\"},val)) : undefined; return this.valueFromJulia[\\\"loading\\\"]=false}),self),this[\\\"clicks\\\"].subscribe((function (val){!(this.valueFromJulia[\\\"clicks\\\"]) ? (WebIO.setval({\\\"name\\\":\\\"clicks\\\",\\\"scope\\\":\\\"4426932562851537276\\\",\\\"id\\\":\\\"6438746202865598985\\\",\\\"type\\\":\\\"observable\\\"},val)) : undefined; return this.valueFromJulia[\\\"clicks\\\"]=false}),self)]\\n        \\n    }\\n    self.model = new AppViewModel();\\n    self.valueFromJulia = {};\\n    for (var key in json_data) {\\n        self.valueFromJulia[key] = false;\\n    }\\n    ko.applyBindings(self.model, self.dom);\\n}\\n);\\n    (WebIO.importBlock({\\\"data\\\":[{\\\"name\\\":\\\"knockout\\\",\\\"type\\\":\\\"js\\\",\\\"url\\\":\\\"/assetserver/727383f2a47bd31570b7da84eee7b022dd6d7c78-knockout.js\\\"},{\\\"name\\\":\\\"knockout_punches\\\",\\\"type\\\":\\\"js\\\",\\\"url\\\":\\\"/assetserver/382b41b3b1bd9f26f75861d360bad7f8beea211f-knockout_punches.js\\\"}],\\\"type\\\":\\\"async_block\\\"})).then((imports) => handler.apply(this, imports));\\n}\\n\")])], Dict{Symbol, Any}(:className => \"field interact-widget\")), WebIO.Node{WebIO.DOM}(WebIO.DOM(:html, :div), Any[WebIO.Scope(WebIO.Node{WebIO.DOM}(WebIO.DOM(:html, :div), Any[], Dict{Symbol, Any}(:id => \"container\")), Dict{String, Tuple{Observables.AbstractObservable, Union{Nothing, Bool}}}(\"value\" => (Observable(\"\\\\;\\\\;\"), nothing)), Set{String}(), nothing, WebIO.Asset[WebIO.Asset(\"js\", nothing, \"/home/dushya/.julia/packages/InteractBase/LJXv3/src/../assets/katex.min.js\"), WebIO.Asset(\"css\", nothing, \"/home/dushya/.julia/packages/InteractBase/LJXv3/src/../assets/katex.min.css\")], Dict{Any, Any}(\"value\" => Any[WebIO.JSString(\"(function (txt){return this.k.render(txt,this.container)})\")]), WebIO.ConnectionPool(Channel{Any}(32), Set{WebIO.AbstractConnection}(), Base.GenericCondition{ReentrantLock}(Base.IntrusiveLinkedList{Task}(Task (runnable) @0x00007febeb6552d0, Task (runnable) @0x00007febeb6552d0), ReentrantLock(nothing, 0x00000000, 0x00, Base.GenericCondition{Base.Threads.SpinLock}(Base.IntrusiveLinkedList{Task}(nothing, nothing), Base.Threads.SpinLock(0)), (1, 140650987826256, 0)))), WebIO.JSString[WebIO.JSString(\"function () {\\n    var handler = ((function (k){this.k=k; this.container=this.dom.querySelector(\\\"#container\\\"); return k.render(\\\"\\\\\\\\;\\\\\\\\;\\\",this.container)}));\\n    (WebIO.importBlock({\\\"data\\\":[{\\\"name\\\":null,\\\"type\\\":\\\"js\\\",\\\"url\\\":\\\"/assetserver/dd22ed1bf1896c2748f3fe616ce0b838adc895c1-katex.min.js\\\"},{\\\"name\\\":null,\\\"type\\\":\\\"css\\\",\\\"url\\\":\\\"/assetserver/46517a424aa5e6cffc1360d7e0848b601c584ee3-katex.min.css\\\"}],\\\"type\\\":\\\"async_block\\\"})).then((imports) => handler.apply(this, imports));\\n}\\n\")])], Dict{Symbol, Any}(:className => \"interact-widget\")), WebIO.Node{WebIO.DOM}(WebIO.DOM(:html, :div), Any[WebIO.Scope(WebIO.Node{WebIO.DOM}(WebIO.DOM(:html, :button), Any[\"stop\"], Dict{Symbol, Any}(:attributes => Dict{Any, Any}(\"data-bind\" => \"click: function (){this.clicks(this.clicks()+1)}, css: {'is-loading' : loading}\"), :className => \"is-medium button is-primary\", :style => Dict{String, Any}())), Dict{String, Tuple{Observables.AbstractObservable, Union{Nothing, Bool}}}(\"loading\" => (Observable(false), nothing), \"clicks\" => (Observable(0), nothing)), Set{String}(), nothing, WebIO.Asset[WebIO.Asset(\"js\", \"knockout\", \"/home/dushya/.julia/packages/Knockout/HReiN/src/../assets/knockout.js\"), WebIO.Asset(\"js\", \"knockout_punches\", \"/home/dushya/.julia/packages/Knockout/HReiN/src/../assets/knockout_punches.js\"), WebIO.Asset(\"js\", nothing, \"/home/dushya/.julia/packages/InteractBase/LJXv3/src/../assets/all.js\"), WebIO.Asset(\"css\", nothing, \"/home/dushya/.julia/packages/InteractBase/LJXv3/src/../assets/style.css\"), WebIO.Asset(\"css\", nothing, \"/home/dushya/.julia/packages/Interact/PENUy/src/../assets/bulma_confined.min.css\")], Dict{Any, Any}(\"loading\" => Any[WebIO.JSString(\"(function (val){return (val!=this.model[\\\"loading\\\"]()) ? (this.valueFromJulia[\\\"loading\\\"]=true, this.model[\\\"loading\\\"](val)) : undefined})\")], \"clicks\" => Any[WebIO.JSString(\"(function (val){return (val!=this.model[\\\"clicks\\\"]()) ? (this.valueFromJulia[\\\"clicks\\\"]=true, this.model[\\\"clicks\\\"](val)) : undefined})\")]), WebIO.ConnectionPool(Channel{Any}(32), Set{WebIO.AbstractConnection}(), Base.GenericCondition{ReentrantLock}(Base.IntrusiveLinkedList{Task}(Task (runnable) @0x00007febdd6f2590, Task (runnable) @0x00007febdd6f2590), ReentrantLock(nothing, 0x00000000, 0x00, Base.GenericCondition{Base.Threads.SpinLock}(Base.IntrusiveLinkedList{Task}(nothing, nothing), Base.Threads.SpinLock(0)), (0, 140653052771344, 140653053940800)))), WebIO.JSString[WebIO.JSString(\"function () {\\n    var handler = (function (ko, koPunches) {\\n    ko.punches.enableAll();\\n    ko.bindingHandlers.numericValue = {\\n        init: function(element, valueAccessor, allBindings, data, context) {\\n            var stringified = ko.observable(ko.unwrap(valueAccessor()));\\n            stringified.subscribe(function(value) {\\n                var val = parseFloat(value);\\n                if (!isNaN(val)) {\\n                    valueAccessor()(val);\\n                }\\n            });\\n            valueAccessor().subscribe(function(value) {\\n                var str = JSON.stringify(value);\\n                if ((str == \\\"0\\\") && ([\\\"-0\\\", \\\"-0.\\\"].indexOf(stringified()) >= 0))\\n                     return;\\n                 if ([\\\"null\\\", \\\"\\\"].indexOf(str) >= 0)\\n                     return;\\n                stringified(str);\\n            });\\n            ko.applyBindingsToNode(\\n                element,\\n                {\\n                    value: stringified,\\n                    valueUpdate: allBindings.get('valueUpdate'),\\n                },\\n                context,\\n            );\\n        }\\n    };\\n    var json_data = {\\\"loading\\\":WebIO.getval({\\\"name\\\":\\\"loading\\\",\\\"scope\\\":\\\"7025554394955427859\\\",\\\"id\\\":\\\"6548549983738565475\\\",\\\"type\\\":\\\"observable\\\"}),\\\"clicks\\\":WebIO.getval({\\\"name\\\":\\\"clicks\\\",\\\"scope\\\":\\\"7025554394955427859\\\",\\\"id\\\":\\\"1473298779815518127\\\",\\\"type\\\":\\\"observable\\\"})};\\n    var self = this;\\n    function AppViewModel() {\\n        for (var key in json_data) {\\n            var el = json_data[key];\\n            this[key] = Array.isArray(el) ? ko.observableArray(el) : ko.observable(el);\\n        }\\n        \\n        \\n        [this[\\\"loading\\\"].subscribe((function (val){!(this.valueFromJulia[\\\"loading\\\"]) ? (WebIO.setval({\\\"name\\\":\\\"loading\\\",\\\"scope\\\":\\\"7025554394955427859\\\",\\\"id\\\":\\\"6548549983738565475\\\",\\\"type\\\":\\\"observable\\\"},val)) : undefined; return this.valueFromJulia[\\\"loading\\\"]=false}),self),this[\\\"clicks\\\"].subscribe((function (val){!(this.valueFromJulia[\\\"clicks\\\"]) ? (WebIO.setval({\\\"name\\\":\\\"clicks\\\",\\\"scope\\\":\\\"7025554394955427859\\\",\\\"id\\\":\\\"1473298779815518127\\\",\\\"type\\\":\\\"observable\\\"},val)) : undefined; return this.valueFromJulia[\\\"clicks\\\"]=false}),self)]\\n        \\n    }\\n    self.model = new AppViewModel();\\n    self.valueFromJulia = {};\\n    for (var key in json_data) {\\n        self.valueFromJulia[key] = false;\\n    }\\n    ko.applyBindings(self.model, self.dom);\\n}\\n);\\n    (WebIO.importBlock({\\\"data\\\":[{\\\"name\\\":\\\"knockout\\\",\\\"type\\\":\\\"js\\\",\\\"url\\\":\\\"/assetserver/727383f2a47bd31570b7da84eee7b022dd6d7c78-knockout.js\\\"},{\\\"name\\\":\\\"knockout_punches\\\",\\\"type\\\":\\\"js\\\",\\\"url\\\":\\\"/assetserver/382b41b3b1bd9f26f75861d360bad7f8beea211f-knockout_punches.js\\\"}],\\\"type\\\":\\\"async_block\\\"})).then((imports) => handler.apply(this, imports));\\n}\\n\")])], Dict{Symbol, Any}(:className => \"field interact-widget\")), WebIO.Node{WebIO.DOM}(WebIO.DOM(:html, :div), Any[WebIO.Scope(WebIO.Node{WebIO.DOM}(WebIO.DOM(:html, :div), Any[], Dict{Symbol, Any}(:id => \"container\")), Dict{String, Tuple{Observables.AbstractObservable, Union{Nothing, Bool}}}(\"value\" => (Observable(\"\\\\;\\\\;\"), nothing)), Set{String}(), nothing, WebIO.Asset[WebIO.Asset(\"js\", nothing, \"/home/dushya/.julia/packages/InteractBase/LJXv3/src/../assets/katex.min.js\"), WebIO.Asset(\"css\", nothing, \"/home/dushya/.julia/packages/InteractBase/LJXv3/src/../assets/katex.min.css\")], Dict{Any, Any}(\"value\" => Any[WebIO.JSString(\"(function (txt){return this.k.render(txt,this.container)})\")]), WebIO.ConnectionPool(Channel{Any}(32), Set{WebIO.AbstractConnection}(), Base.GenericCondition{ReentrantLock}(Base.IntrusiveLinkedList{Task}(Task (runnable) @0x00007febeb6552d0, Task (runnable) @0x00007febeb6552d0), ReentrantLock(nothing, 0x00000000, 0x00, Base.GenericCondition{Base.Threads.SpinLock}(Base.IntrusiveLinkedList{Task}(nothing, nothing), Base.Threads.SpinLock(0)), (1, 140650987826256, 0)))), WebIO.JSString[WebIO.JSString(\"function () {\\n    var handler = ((function (k){this.k=k; this.container=this.dom.querySelector(\\\"#container\\\"); return k.render(\\\"\\\\\\\\;\\\\\\\\;\\\",this.container)}));\\n    (WebIO.importBlock({\\\"data\\\":[{\\\"name\\\":null,\\\"type\\\":\\\"js\\\",\\\"url\\\":\\\"/assetserver/dd22ed1bf1896c2748f3fe616ce0b838adc895c1-katex.min.js\\\"},{\\\"name\\\":null,\\\"type\\\":\\\"css\\\",\\\"url\\\":\\\"/assetserver/46517a424aa5e6cffc1360d7e0848b601c584ee3-katex.min.css\\\"}],\\\"type\\\":\\\"async_block\\\"})).then((imports) => handler.apply(this, imports));\\n}\\n\")])], Dict{Symbol, Any}(:className => \"interact-widget\")), WebIO.Node{WebIO.DOM}(WebIO.DOM(:html, :div), Any[WebIO.Scope(WebIO.Node{WebIO.DOM}(WebIO.DOM(:html, :button), Any[\"save\"], Dict{Symbol, Any}(:attributes => Dict{Any, Any}(\"data-bind\" => \"click: function (){this.clicks(this.clicks()+1)}, css: {'is-loading' : loading}\"), :className => \"is-medium button is-primary\", :style => Dict{String, Any}())), Dict{String, Tuple{Observables.AbstractObservable, Union{Nothing, Bool}}}(\"loading\" => (Observable(false), nothing), \"clicks\" => (Observable(0), nothing)), Set{String}(), nothing, WebIO.Asset[WebIO.Asset(\"js\", \"knockout\", \"/home/dushya/.julia/packages/Knockout/HReiN/src/../assets/knockout.js\"), WebIO.Asset(\"js\", \"knockout_punches\", \"/home/dushya/.julia/packages/Knockout/HReiN/src/../assets/knockout_punches.js\"), WebIO.Asset(\"js\", nothing, \"/home/dushya/.julia/packages/InteractBase/LJXv3/src/../assets/all.js\"), WebIO.Asset(\"css\", nothing, \"/home/dushya/.julia/packages/InteractBase/LJXv3/src/../assets/style.css\"), WebIO.Asset(\"css\", nothing, \"/home/dushya/.julia/packages/Interact/PENUy/src/../assets/bulma_confined.min.css\")], Dict{Any, Any}(\"loading\" => Any[WebIO.JSString(\"(function (val){return (val!=this.model[\\\"loading\\\"]()) ? (this.valueFromJulia[\\\"loading\\\"]=true, this.model[\\\"loading\\\"](val)) : undefined})\")], \"clicks\" => Any[WebIO.JSString(\"(function (val){return (val!=this.model[\\\"clicks\\\"]()) ? (this.valueFromJulia[\\\"clicks\\\"]=true, this.model[\\\"clicks\\\"](val)) : undefined})\")]), WebIO.ConnectionPool(Channel{Any}(32), Set{WebIO.AbstractConnection}(), Base.GenericCondition{ReentrantLock}(Base.IntrusiveLinkedList{Task}(Task (runnable) @0x00007febdd750e20, Task (runnable) @0x00007febdd750e20), ReentrantLock(nothing, 0x00000000, 0x00, Base.GenericCondition{Base.Threads.SpinLock}(Base.IntrusiveLinkedList{Task}(nothing, nothing), Base.Threads.SpinLock(0)), (1, -1, 140653197459456)))), WebIO.JSString[WebIO.JSString(\"function () {\\n    var handler = (function (ko, koPunches) {\\n    ko.punches.enableAll();\\n    ko.bindingHandlers.numericValue = {\\n        init: function(element, valueAccessor, allBindings, data, context) {\\n            var stringified = ko.observable(ko.unwrap(valueAccessor()));\\n            stringified.subscribe(function(value) {\\n                var val = parseFloat(value);\\n                if (!isNaN(val)) {\\n                    valueAccessor()(val);\\n                }\\n            });\\n            valueAccessor().subscribe(function(value) {\\n                var str = JSON.stringify(value);\\n                if ((str == \\\"0\\\") && ([\\\"-0\\\", \\\"-0.\\\"].indexOf(stringified()) >= 0))\\n                     return;\\n                 if ([\\\"null\\\", \\\"\\\"].indexOf(str) >= 0)\\n                     return;\\n                stringified(str);\\n            });\\n            ko.applyBindingsToNode(\\n                element,\\n                {\\n                    value: stringified,\\n                    valueUpdate: allBindings.get('valueUpdate'),\\n                },\\n                context,\\n            );\\n        }\\n    };\\n    var json_data = {\\\"loading\\\":WebIO.getval({\\\"name\\\":\\\"loading\\\",\\\"scope\\\":\\\"15402166312532734474\\\",\\\"id\\\":\\\"13162370093716642188\\\",\\\"type\\\":\\\"observable\\\"}),\\\"clicks\\\":WebIO.getval({\\\"name\\\":\\\"clicks\\\",\\\"scope\\\":\\\"15402166312532734474\\\",\\\"id\\\":\\\"8925315879366182897\\\",\\\"type\\\":\\\"observable\\\"})};\\n    var self = this;\\n    function AppViewModel() {\\n        for (var key in json_data) {\\n            var el = json_data[key];\\n            this[key] = Array.isArray(el) ? ko.observableArray(el) : ko.observable(el);\\n        }\\n        \\n        \\n        [this[\\\"loading\\\"].subscribe((function (val){!(this.valueFromJulia[\\\"loading\\\"]) ? (WebIO.setval({\\\"name\\\":\\\"loading\\\",\\\"scope\\\":\\\"15402166312532734474\\\",\\\"id\\\":\\\"13162370093716642188\\\",\\\"type\\\":\\\"observable\\\"},val)) : undefined; return this.valueFromJulia[\\\"loading\\\"]=false}),self),this[\\\"clicks\\\"].subscribe((function (val){!(this.valueFromJulia[\\\"clicks\\\"]) ? (WebIO.setval({\\\"name\\\":\\\"clicks\\\",\\\"scope\\\":\\\"15402166312532734474\\\",\\\"id\\\":\\\"8925315879366182897\\\",\\\"type\\\":\\\"observable\\\"},val)) : undefined; return this.valueFromJulia[\\\"clicks\\\"]=false}),self)]\\n        \\n    }\\n    self.model = new AppViewModel();\\n    self.valueFromJulia = {};\\n    for (var key in json_data) {\\n        self.valueFromJulia[key] = false;\\n    }\\n    ko.applyBindings(self.model, self.dom);\\n}\\n);\\n    (WebIO.importBlock({\\\"data\\\":[{\\\"name\\\":\\\"knockout\\\",\\\"type\\\":\\\"js\\\",\\\"url\\\":\\\"/assetserver/727383f2a47bd31570b7da84eee7b022dd6d7c78-knockout.js\\\"},{\\\"name\\\":\\\"knockout_punches\\\",\\\"type\\\":\\\"js\\\",\\\"url\\\":\\\"/assetserver/382b41b3b1bd9f26f75861d360bad7f8beea211f-knockout_punches.js\\\"}],\\\"type\\\":\\\"async_block\\\"})).then((imports) => handler.apply(this, imports));\\n}\\n\")])], Dict{Symbol, Any}(:className => \"field interact-widget\"))], Dict{Symbol, Any}(:style => Dict(\"display\" => \"flex\", \"flex-direction\" => \"row\")))], Dict{Symbol, Any}(:style => Dict(\"display\" => \"flex\", \"flex-direction\" => \"column\"))), WebIO.Node{WebIO.DOM}(WebIO.DOM(:html, :div), Any[WebIO.Scope(WebIO.Node{WebIO.DOM}(WebIO.DOM(:html, :div), Any[], Dict{Symbol, Any}(:id => \"container\")), Dict{String, Tuple{Observables.AbstractObservable, Union{Nothing, Bool}}}(\"value\" => (Observable(\"\\\\;\\\\;\"), nothing)), Set{String}(), nothing, WebIO.Asset[WebIO.Asset(\"js\", nothing, \"/home/dushya/.julia/packages/InteractBase/LJXv3/src/../assets/katex.min.js\"), WebIO.Asset(\"css\", nothing, \"/home/dushya/.julia/packages/InteractBase/LJXv3/src/../assets/katex.min.css\")], Dict{Any, Any}(\"value\" => Any[WebIO.JSString(\"(function (txt){return this.k.render(txt,this.container)})\")]), WebIO.ConnectionPool(Channel{Any}(32), Set{WebIO.AbstractConnection}(), Base.GenericCondition{ReentrantLock}(Base.IntrusiveLinkedList{Task}(Task (runnable) @0x00007febeb6552d0, Task (runnable) @0x00007febeb6552d0), ReentrantLock(nothing, 0x00000000, 0x00, Base.GenericCondition{Base.Threads.SpinLock}(Base.IntrusiveLinkedList{Task}(nothing, nothing), Base.Threads.SpinLock(0)), (1, 140650987826256, 0)))), WebIO.JSString[WebIO.JSString(\"function () {\\n    var handler = ((function (k){this.k=k; this.container=this.dom.querySelector(\\\"#container\\\"); return k.render(\\\"\\\\\\\\;\\\\\\\\;\\\",this.container)}));\\n    (WebIO.importBlock({\\\"data\\\":[{\\\"name\\\":null,\\\"type\\\":\\\"js\\\",\\\"url\\\":\\\"/assetserver/dd22ed1bf1896c2748f3fe616ce0b838adc895c1-katex.min.js\\\"},{\\\"name\\\":null,\\\"type\\\":\\\"css\\\",\\\"url\\\":\\\"/assetserver/46517a424aa5e6cffc1360d7e0848b601c584ee3-katex.min.css\\\"}],\\\"type\\\":\\\"async_block\\\"})).then((imports) => handler.apply(this, imports));\\n}\\n\")])], Dict{Symbol, Any}(:className => \"interact-widget\")), Observable(Luxor.Drawing(430.0, 430.0, \"\", Cairo.CairoSurfaceBase{UInt32}(Ptr{Nothing} @0x0000000000000000, 430.0, 430.0), Cairo.CairoContext(Ptr{Nothing} @0x000000000609a460, Cairo.CairoSurfaceBase{UInt32}(Ptr{Nothing} @0x0000000000000000, 430.0, 430.0), Ptr{Nothing} @0x0000000005a8a6d0), :png, 0.0, 0.0, 0.0, 1.0, IOBuffer(data=UInt8[...], readable=true, writable=true, seekable=true, append=false, size=18090, maxsize=Inf, ptr=18091, mark=-1), UInt8[0x89, 0x50, 0x4e, 0x47, 0x0d, 0x0a, 0x1a, 0x0a, 0x00, 0x00  …  0x00, 0x00, 0x49, 0x45, 0x4e, 0x44, 0xae, 0x42, 0x60, 0x82], false)), WebIO.Node{WebIO.DOM}(WebIO.DOM(:html, :div), Any[WebIO.Scope(WebIO.Node{WebIO.DOM}(WebIO.DOM(:html, :div), Any[], Dict{Symbol, Any}(:id => \"container\")), Dict{String, Tuple{Observables.AbstractObservable, Union{Nothing, Bool}}}(\"value\" => (Observable(\"\\\\;\\\\;\"), nothing)), Set{String}(), nothing, WebIO.Asset[WebIO.Asset(\"js\", nothing, \"/home/dushya/.julia/packages/InteractBase/LJXv3/src/../assets/katex.min.js\"), WebIO.Asset(\"css\", nothing, \"/home/dushya/.julia/packages/InteractBase/LJXv3/src/../assets/katex.min.css\")], Dict{Any, Any}(\"value\" => Any[WebIO.JSString(\"(function (txt){return this.k.render(txt,this.container)})\")]), WebIO.ConnectionPool(Channel{Any}(32), Set{WebIO.AbstractConnection}(), Base.GenericCondition{ReentrantLock}(Base.IntrusiveLinkedList{Task}(Task (runnable) @0x00007febeb6552d0, Task (runnable) @0x00007febeb6552d0), ReentrantLock(nothing, 0x00000000, 0x00, Base.GenericCondition{Base.Threads.SpinLock}(Base.IntrusiveLinkedList{Task}(nothing, nothing), Base.Threads.SpinLock(0)), (1, 140650987826256, 0)))), WebIO.JSString[WebIO.JSString(\"function () {\\n    var handler = ((function (k){this.k=k; this.container=this.dom.querySelector(\\\"#container\\\"); return k.render(\\\"\\\\\\\\;\\\\\\\\;\\\",this.container)}));\\n    (WebIO.importBlock({\\\"data\\\":[{\\\"name\\\":null,\\\"type\\\":\\\"js\\\",\\\"url\\\":\\\"/assetserver/dd22ed1bf1896c2748f3fe616ce0b838adc895c1-katex.min.js\\\"},{\\\"name\\\":null,\\\"type\\\":\\\"css\\\",\\\"url\\\":\\\"/assetserver/46517a424aa5e6cffc1360d7e0848b601c584ee3-katex.min.css\\\"}],\\\"type\\\":\\\"async_block\\\"})).then((imports) => handler.apply(this, imports));\\n}\\n\")])], Dict{Symbol, Any}(:className => \"interact-widget\")), WebIO.Node{WebIO.DOM}(WebIO.DOM(:html, :div), Any[], Dict{Symbol, Any}(:style => Dict(\"display\" => \"flex\", \"flex-direction\" => \"column\")))], Dict{Symbol, Any}(:style => Dict(\"display\" => \"flex\", \"flex-direction\" => \"row\")))], Dict{Symbol, Any}(:style => Dict(\"display\" => \"flex\", \"flex-direction\" => \"column\")))"
      ]
     },
     "execution_count": 15,
     "metadata": {
      "application/vnd.webio.node+json": {
       "kernelId": "c34e0d57-021e-4ab6-a24e-77a7a60dce39"
      }
     },
     "output_type": "execute_result"
    },
    {
     "name": "stdout",
     "output_type": "stream",
     "text": [
      "Saving animation as gif....\n"
     ]
    },
    {
     "name": "stderr",
     "output_type": "stream",
     "text": [
      "\u001b[36m\u001b[1m┌ \u001b[22m\u001b[39m\u001b[36m\u001b[1mInfo: \u001b[22m\u001b[39mFrames for animation \"movie_abm\" are being stored in directory: \n",
      "\u001b[36m\u001b[1m└ \u001b[22m\u001b[39m\t /tmp/jl_X3DWDN\n",
      "\u001b[36m\u001b[1m┌ \u001b[22m\u001b[39m\u001b[36m\u001b[1mInfo: \u001b[22m\u001b[39m... 501 frames saved in directory:\n",
      "\u001b[36m\u001b[1m└ \u001b[22m\u001b[39m\t /tmp/jl_X3DWDN\n"
     ]
    },
    {
     "name": "stdout",
     "output_type": "stream",
     "text": [
      "Animation saved at /home/dushya/.julia/scratchspaces/2ab8e4d3-e1e9-4248-86a3-8419d2d242e9/abm_anims/anim_2d.gif\n"
     ]
    },
    {
     "name": "stderr",
     "output_type": "stream",
     "text": [
      "\u001b[36m\u001b[1m[ \u001b[22m\u001b[39m\u001b[36m\u001b[1mInfo: \u001b[22m\u001b[39mGIF is: /home/dushya/.julia/scratchspaces/2ab8e4d3-e1e9-4248-86a3-8419d2d242e9/abm_anims/anim_2d.gif\n"
     ]
    }
   ],
   "source": [
    "animate_sim(model)"
   ]
  },
  {
   "cell_type": "markdown",
   "metadata": {},
   "source": [
    "After defining the `step_rule!` function we can also choose to create an interactive application (which currently works in Jupyter with WebIO installation) as "
   ]
  },
  {
   "cell_type": "code",
   "execution_count": 8,
   "metadata": {},
   "outputs": [
    {
     "data": {
      "application/vnd.webio.node+json": {
       "children": [
        {
         "children": [
          {
           "children": [
            {
             "children": [
              {
               "children": [
                {
                 "children": [
                  {
                   "children": [
                    {
                     "children": [
                      "time"
                     ],
                     "instanceArgs": {
                      "namespace": "html",
                      "tag": "label"
                     },
                     "nodeType": "DOM",
                     "props": {
                      "className": "interact ",
                      "style": {
                       "padding": "5px 10px 0px 10px"
                      }
                     },
                     "type": "node"
                    }
                   ],
                   "instanceArgs": {
                    "namespace": "html",
                    "tag": "div"
                   },
                   "nodeType": "DOM",
                   "props": {
                    "className": "interact-flex-row-left"
                   },
                   "type": "node"
                  },
                  {
                   "children": [
                    {
                     "children": [],
                     "instanceArgs": {
                      "namespace": "html",
                      "tag": "input"
                     },
                     "nodeType": "DOM",
                     "props": {
                      "attributes": {
                       "data-bind": "numericValue: index, valueUpdate: 'input', event: {change: function (){this.changes(this.changes()+1)}}",
                       "orient": "horizontal",
                       "type": "range"
                      },
                      "className": "slider slider is-fullwidth",
                      "max": 400,
                      "min": 1,
                      "step": 1,
                      "style": {}
                     },
                     "type": "node"
                    }
                   ],
                   "instanceArgs": {
                    "namespace": "html",
                    "tag": "div"
                   },
                   "nodeType": "DOM",
                   "props": {
                    "className": "interact-flex-row-center"
                   },
                   "type": "node"
                  },
                  {
                   "children": [
                    {
                     "children": [],
                     "instanceArgs": {
                      "namespace": "html",
                      "tag": "p"
                     },
                     "nodeType": "DOM",
                     "props": {
                      "attributes": {
                       "data-bind": "text: formatted_val"
                      }
                     },
                     "type": "node"
                    }
                   ],
                   "instanceArgs": {
                    "namespace": "html",
                    "tag": "div"
                   },
                   "nodeType": "DOM",
                   "props": {
                    "className": "interact-flex-row-right"
                   },
                   "type": "node"
                  }
                 ],
                 "instanceArgs": {
                  "namespace": "html",
                  "tag": "div"
                 },
                 "nodeType": "DOM",
                 "props": {
                  "className": "interact-flex-row interact-widget"
                 },
                 "type": "node"
                }
               ],
               "instanceArgs": {
                "handlers": {
                 "changes": [
                  "(function (val){return (val!=this.model[\"changes\"]()) ? (this.valueFromJulia[\"changes\"]=true, this.model[\"changes\"](val)) : undefined})"
                 ],
                 "index": [
                  "(function (val){return (val!=this.model[\"index\"]()) ? (this.valueFromJulia[\"index\"]=true, this.model[\"index\"](val)) : undefined})"
                 ]
                },
                "id": "8746307638663650372",
                "imports": {
                 "data": [
                  {
                   "name": "knockout",
                   "type": "js",
                   "url": "/assetserver/727383f2a47bd31570b7da84eee7b022dd6d7c78-knockout.js"
                  },
                  {
                   "name": "knockout_punches",
                   "type": "js",
                   "url": "/assetserver/382b41b3b1bd9f26f75861d360bad7f8beea211f-knockout_punches.js"
                  },
                  {
                   "name": null,
                   "type": "js",
                   "url": "/assetserver/5ab20f1060420992a9b82a65b735dee4d81ef413-all.js"
                  },
                  {
                   "name": null,
                   "type": "css",
                   "url": "/assetserver/1cc0ed62837210b80a182cc3676512f895dab686-style.css"
                  },
                  {
                   "name": null,
                   "type": "css",
                   "url": "/assetserver/2eee816f616df3549d7044d45e744fbf8d42bfa1-bulma_confined.min.css"
                  }
                 ],
                 "type": "async_block"
                },
                "mount_callbacks": [
                 "function () {\n    var handler = (function (ko, koPunches) {\n    ko.punches.enableAll();\n    ko.bindingHandlers.numericValue = {\n        init: function(element, valueAccessor, allBindings, data, context) {\n            var stringified = ko.observable(ko.unwrap(valueAccessor()));\n            stringified.subscribe(function(value) {\n                var val = parseFloat(value);\n                if (!isNaN(val)) {\n                    valueAccessor()(val);\n                }\n            });\n            valueAccessor().subscribe(function(value) {\n                var str = JSON.stringify(value);\n                if ((str == \"0\") && ([\"-0\", \"-0.\"].indexOf(stringified()) >= 0))\n                     return;\n                 if ([\"null\", \"\"].indexOf(str) >= 0)\n                     return;\n                stringified(str);\n            });\n            ko.applyBindingsToNode(\n                element,\n                {\n                    value: stringified,\n                    valueUpdate: allBindings.get('valueUpdate'),\n                },\n                context,\n            );\n        }\n    };\n    var json_data = {\"formatted_vals\":[\"1\",\"2\",\"3\",\"4\",\"5\",\"6\",\"7\",\"8\",\"9\",\"10\",\"11\",\"12\",\"13\",\"14\",\"15\",\"16\",\"17\",\"18\",\"19\",\"20\",\"21\",\"22\",\"23\",\"24\",\"25\",\"26\",\"27\",\"28\",\"29\",\"30\",\"31\",\"32\",\"33\",\"34\",\"35\",\"36\",\"37\",\"38\",\"39\",\"40\",\"41\",\"42\",\"43\",\"44\",\"45\",\"46\",\"47\",\"48\",\"49\",\"50\",\"51\",\"52\",\"53\",\"54\",\"55\",\"56\",\"57\",\"58\",\"59\",\"60\",\"61\",\"62\",\"63\",\"64\",\"65\",\"66\",\"67\",\"68\",\"69\",\"70\",\"71\",\"72\",\"73\",\"74\",\"75\",\"76\",\"77\",\"78\",\"79\",\"80\",\"81\",\"82\",\"83\",\"84\",\"85\",\"86\",\"87\",\"88\",\"89\",\"90\",\"91\",\"92\",\"93\",\"94\",\"95\",\"96\",\"97\",\"98\",\"99\",\"100\",\"101\",\"102\",\"103\",\"104\",\"105\",\"106\",\"107\",\"108\",\"109\",\"110\",\"111\",\"112\",\"113\",\"114\",\"115\",\"116\",\"117\",\"118\",\"119\",\"120\",\"121\",\"122\",\"123\",\"124\",\"125\",\"126\",\"127\",\"128\",\"129\",\"130\",\"131\",\"132\",\"133\",\"134\",\"135\",\"136\",\"137\",\"138\",\"139\",\"140\",\"141\",\"142\",\"143\",\"144\",\"145\",\"146\",\"147\",\"148\",\"149\",\"150\",\"151\",\"152\",\"153\",\"154\",\"155\",\"156\",\"157\",\"158\",\"159\",\"160\",\"161\",\"162\",\"163\",\"164\",\"165\",\"166\",\"167\",\"168\",\"169\",\"170\",\"171\",\"172\",\"173\",\"174\",\"175\",\"176\",\"177\",\"178\",\"179\",\"180\",\"181\",\"182\",\"183\",\"184\",\"185\",\"186\",\"187\",\"188\",\"189\",\"190\",\"191\",\"192\",\"193\",\"194\",\"195\",\"196\",\"197\",\"198\",\"199\",\"200\",\"201\",\"202\",\"203\",\"204\",\"205\",\"206\",\"207\",\"208\",\"209\",\"210\",\"211\",\"212\",\"213\",\"214\",\"215\",\"216\",\"217\",\"218\",\"219\",\"220\",\"221\",\"222\",\"223\",\"224\",\"225\",\"226\",\"227\",\"228\",\"229\",\"230\",\"231\",\"232\",\"233\",\"234\",\"235\",\"236\",\"237\",\"238\",\"239\",\"240\",\"241\",\"242\",\"243\",\"244\",\"245\",\"246\",\"247\",\"248\",\"249\",\"250\",\"251\",\"252\",\"253\",\"254\",\"255\",\"256\",\"257\",\"258\",\"259\",\"260\",\"261\",\"262\",\"263\",\"264\",\"265\",\"266\",\"267\",\"268\",\"269\",\"270\",\"271\",\"272\",\"273\",\"274\",\"275\",\"276\",\"277\",\"278\",\"279\",\"280\",\"281\",\"282\",\"283\",\"284\",\"285\",\"286\",\"287\",\"288\",\"289\",\"290\",\"291\",\"292\",\"293\",\"294\",\"295\",\"296\",\"297\",\"298\",\"299\",\"300\",\"301\",\"302\",\"303\",\"304\",\"305\",\"306\",\"307\",\"308\",\"309\",\"310\",\"311\",\"312\",\"313\",\"314\",\"315\",\"316\",\"317\",\"318\",\"319\",\"320\",\"321\",\"322\",\"323\",\"324\",\"325\",\"326\",\"327\",\"328\",\"329\",\"330\",\"331\",\"332\",\"333\",\"334\",\"335\",\"336\",\"337\",\"338\",\"339\",\"340\",\"341\",\"342\",\"343\",\"344\",\"345\",\"346\",\"347\",\"348\",\"349\",\"350\",\"351\",\"352\",\"353\",\"354\",\"355\",\"356\",\"357\",\"358\",\"359\",\"360\",\"361\",\"362\",\"363\",\"364\",\"365\",\"366\",\"367\",\"368\",\"369\",\"370\",\"371\",\"372\",\"373\",\"374\",\"375\",\"376\",\"377\",\"378\",\"379\",\"380\",\"381\",\"382\",\"383\",\"384\",\"385\",\"386\",\"387\",\"388\",\"389\",\"390\",\"391\",\"392\",\"393\",\"394\",\"395\",\"396\",\"397\",\"398\",\"399\",\"400\"],\"changes\":WebIO.getval({\"name\":\"changes\",\"scope\":\"8746307638663650372\",\"id\":\"1515802111544610454\",\"type\":\"observable\"}),\"index\":WebIO.getval({\"name\":\"index\",\"scope\":\"8746307638663650372\",\"id\":\"6222358758526903392\",\"type\":\"observable\"})};\n    var self = this;\n    function AppViewModel() {\n        for (var key in json_data) {\n            var el = json_data[key];\n            this[key] = Array.isArray(el) ? ko.observableArray(el) : ko.observable(el);\n        }\n        \n        [this[\"formatted_val\"]=ko.computed(    function(){\n        return this.formatted_vals()[parseInt(this.index())-(1)];\n    }\n,this)]\n        [this[\"changes\"].subscribe((function (val){!(this.valueFromJulia[\"changes\"]) ? (WebIO.setval({\"name\":\"changes\",\"scope\":\"8746307638663650372\",\"id\":\"1515802111544610454\",\"type\":\"observable\"},val)) : undefined; return this.valueFromJulia[\"changes\"]=false}),self),this[\"index\"].subscribe((function (val){!(this.valueFromJulia[\"index\"]) ? (WebIO.setval({\"name\":\"index\",\"scope\":\"8746307638663650372\",\"id\":\"6222358758526903392\",\"type\":\"observable\"},val)) : undefined; return this.valueFromJulia[\"index\"]=false}),self)]\n        \n    }\n    self.model = new AppViewModel();\n    self.valueFromJulia = {};\n    for (var key in json_data) {\n        self.valueFromJulia[key] = false;\n    }\n    ko.applyBindings(self.model, self.dom);\n}\n);\n    (WebIO.importBlock({\"data\":[{\"name\":\"knockout\",\"type\":\"js\",\"url\":\"/assetserver/727383f2a47bd31570b7da84eee7b022dd6d7c78-knockout.js\"},{\"name\":\"knockout_punches\",\"type\":\"js\",\"url\":\"/assetserver/382b41b3b1bd9f26f75861d360bad7f8beea211f-knockout_punches.js\"}],\"type\":\"async_block\"})).then((imports) => handler.apply(this, imports));\n}\n"
                ],
                "observables": {
                 "changes": {
                  "id": "1515802111544610454",
                  "sync": false,
                  "value": 0
                 },
                 "index": {
                  "id": "6222358758526903392",
                  "sync": true,
                  "value": 1
                 }
                },
                "systemjs_options": null
               },
               "nodeType": "Scope",
               "props": {},
               "type": "node"
              }
             ],
             "instanceArgs": {
              "namespace": "html",
              "tag": "div"
             },
             "nodeType": "DOM",
             "props": {
              "className": "field interact-widget"
             },
             "type": "node"
            },
            {
             "children": [
              {
               "children": [
                {
                 "children": [
                  {
                   "children": [
                    {
                     "children": [
                      "scale"
                     ],
                     "instanceArgs": {
                      "namespace": "html",
                      "tag": "label"
                     },
                     "nodeType": "DOM",
                     "props": {
                      "className": "interact ",
                      "style": {
                       "padding": "5px 10px 0px 10px"
                      }
                     },
                     "type": "node"
                    }
                   ],
                   "instanceArgs": {
                    "namespace": "html",
                    "tag": "div"
                   },
                   "nodeType": "DOM",
                   "props": {
                    "className": "interact-flex-row-left"
                   },
                   "type": "node"
                  },
                  {
                   "children": [
                    {
                     "children": [],
                     "instanceArgs": {
                      "namespace": "html",
                      "tag": "input"
                     },
                     "nodeType": "DOM",
                     "props": {
                      "attributes": {
                       "data-bind": "numericValue: index, valueUpdate: 'input', event: {change: function (){this.changes(this.changes()+1)}}",
                       "orient": "horizontal",
                       "type": "range"
                      },
                      "className": "slider slider is-fullwidth",
                      "max": 20,
                      "min": 1,
                      "step": 1,
                      "style": {}
                     },
                     "type": "node"
                    }
                   ],
                   "instanceArgs": {
                    "namespace": "html",
                    "tag": "div"
                   },
                   "nodeType": "DOM",
                   "props": {
                    "className": "interact-flex-row-center"
                   },
                   "type": "node"
                  },
                  {
                   "children": [
                    {
                     "children": [],
                     "instanceArgs": {
                      "namespace": "html",
                      "tag": "p"
                     },
                     "nodeType": "DOM",
                     "props": {
                      "attributes": {
                       "data-bind": "text: formatted_val"
                      }
                     },
                     "type": "node"
                    }
                   ],
                   "instanceArgs": {
                    "namespace": "html",
                    "tag": "div"
                   },
                   "nodeType": "DOM",
                   "props": {
                    "className": "interact-flex-row-right"
                   },
                   "type": "node"
                  }
                 ],
                 "instanceArgs": {
                  "namespace": "html",
                  "tag": "div"
                 },
                 "nodeType": "DOM",
                 "props": {
                  "className": "interact-flex-row interact-widget"
                 },
                 "type": "node"
                }
               ],
               "instanceArgs": {
                "handlers": {
                 "changes": [
                  "(function (val){return (val!=this.model[\"changes\"]()) ? (this.valueFromJulia[\"changes\"]=true, this.model[\"changes\"](val)) : undefined})"
                 ],
                 "index": [
                  "(function (val){return (val!=this.model[\"index\"]()) ? (this.valueFromJulia[\"index\"]=true, this.model[\"index\"](val)) : undefined})"
                 ]
                },
                "id": "4237237236618048101",
                "imports": {
                 "data": [
                  {
                   "name": "knockout",
                   "type": "js",
                   "url": "/assetserver/727383f2a47bd31570b7da84eee7b022dd6d7c78-knockout.js"
                  },
                  {
                   "name": "knockout_punches",
                   "type": "js",
                   "url": "/assetserver/382b41b3b1bd9f26f75861d360bad7f8beea211f-knockout_punches.js"
                  },
                  {
                   "name": null,
                   "type": "js",
                   "url": "/assetserver/5ab20f1060420992a9b82a65b735dee4d81ef413-all.js"
                  },
                  {
                   "name": null,
                   "type": "css",
                   "url": "/assetserver/1cc0ed62837210b80a182cc3676512f895dab686-style.css"
                  },
                  {
                   "name": null,
                   "type": "css",
                   "url": "/assetserver/2eee816f616df3549d7044d45e744fbf8d42bfa1-bulma_confined.min.css"
                  }
                 ],
                 "type": "async_block"
                },
                "mount_callbacks": [
                 "function () {\n    var handler = (function (ko, koPunches) {\n    ko.punches.enableAll();\n    ko.bindingHandlers.numericValue = {\n        init: function(element, valueAccessor, allBindings, data, context) {\n            var stringified = ko.observable(ko.unwrap(valueAccessor()));\n            stringified.subscribe(function(value) {\n                var val = parseFloat(value);\n                if (!isNaN(val)) {\n                    valueAccessor()(val);\n                }\n            });\n            valueAccessor().subscribe(function(value) {\n                var str = JSON.stringify(value);\n                if ((str == \"0\") && ([\"-0\", \"-0.\"].indexOf(stringified()) >= 0))\n                     return;\n                 if ([\"null\", \"\"].indexOf(str) >= 0)\n                     return;\n                stringified(str);\n            });\n            ko.applyBindingsToNode(\n                element,\n                {\n                    value: stringified,\n                    valueUpdate: allBindings.get('valueUpdate'),\n                },\n                context,\n            );\n        }\n    };\n    var json_data = {\"formatted_vals\":[\"0.1\",\"0.2\",\"0.3\",\"0.4\",\"0.5\",\"0.6\",\"0.7\",\"0.8\",\"0.9\",\"1.0\",\"1.1\",\"1.2\",\"1.3\",\"1.4\",\"1.5\",\"1.6\",\"1.7\",\"1.8\",\"1.9\",\"2.0\"],\"changes\":WebIO.getval({\"name\":\"changes\",\"scope\":\"4237237236618048101\",\"id\":\"6365504458734167159\",\"type\":\"observable\"}),\"index\":WebIO.getval({\"name\":\"index\",\"scope\":\"4237237236618048101\",\"id\":\"4441055223113963627\",\"type\":\"observable\"})};\n    var self = this;\n    function AppViewModel() {\n        for (var key in json_data) {\n            var el = json_data[key];\n            this[key] = Array.isArray(el) ? ko.observableArray(el) : ko.observable(el);\n        }\n        \n        [this[\"formatted_val\"]=ko.computed(    function(){\n        return this.formatted_vals()[parseInt(this.index())-(1)];\n    }\n,this)]\n        [this[\"changes\"].subscribe((function (val){!(this.valueFromJulia[\"changes\"]) ? (WebIO.setval({\"name\":\"changes\",\"scope\":\"4237237236618048101\",\"id\":\"6365504458734167159\",\"type\":\"observable\"},val)) : undefined; return this.valueFromJulia[\"changes\"]=false}),self),this[\"index\"].subscribe((function (val){!(this.valueFromJulia[\"index\"]) ? (WebIO.setval({\"name\":\"index\",\"scope\":\"4237237236618048101\",\"id\":\"4441055223113963627\",\"type\":\"observable\"},val)) : undefined; return this.valueFromJulia[\"index\"]=false}),self)]\n        \n    }\n    self.model = new AppViewModel();\n    self.valueFromJulia = {};\n    for (var key in json_data) {\n        self.valueFromJulia[key] = false;\n    }\n    ko.applyBindings(self.model, self.dom);\n}\n);\n    (WebIO.importBlock({\"data\":[{\"name\":\"knockout\",\"type\":\"js\",\"url\":\"/assetserver/727383f2a47bd31570b7da84eee7b022dd6d7c78-knockout.js\"},{\"name\":\"knockout_punches\",\"type\":\"js\",\"url\":\"/assetserver/382b41b3b1bd9f26f75861d360bad7f8beea211f-knockout_punches.js\"}],\"type\":\"async_block\"})).then((imports) => handler.apply(this, imports));\n}\n"
                ],
                "observables": {
                 "changes": {
                  "id": "6365504458734167159",
                  "sync": false,
                  "value": 0
                 },
                 "index": {
                  "id": "4441055223113963627",
                  "sync": true,
                  "value": 10
                 }
                },
                "systemjs_options": null
               },
               "nodeType": "Scope",
               "props": {},
               "type": "node"
              }
             ],
             "instanceArgs": {
              "namespace": "html",
              "tag": "div"
             },
             "nodeType": "DOM",
             "props": {
              "className": "field interact-widget"
             },
             "type": "node"
            },
            {
             "children": [],
             "instanceArgs": {
              "namespace": "html",
              "tag": "div"
             },
             "nodeType": "DOM",
             "props": {
              "style": {
               "display": "flex",
               "flex-direction": "column"
              }
             },
             "type": "node"
            },
            {
             "children": [
              {
               "children": [
                {
                 "children": [
                  {
                   "children": [
                    {
                     "children": [
                      {
                       "children": [
                        "min_dis"
                       ],
                       "instanceArgs": {
                        "namespace": "html",
                        "tag": "label"
                       },
                       "nodeType": "DOM",
                       "props": {
                        "className": "interact ",
                        "style": {
                         "padding": "5px 10px 0px 10px"
                        }
                       },
                       "type": "node"
                      }
                     ],
                     "instanceArgs": {
                      "namespace": "html",
                      "tag": "div"
                     },
                     "nodeType": "DOM",
                     "props": {
                      "className": "interact-flex-row-left"
                     },
                     "type": "node"
                    },
                    {
                     "children": [
                      {
                       "children": [],
                       "instanceArgs": {
                        "namespace": "html",
                        "tag": "input"
                       },
                       "nodeType": "DOM",
                       "props": {
                        "attributes": {
                         "data-bind": "numericValue: index, valueUpdate: 'input', event: {change: function (){this.changes(this.changes()+1)}}",
                         "orient": "horizontal",
                         "type": "range"
                        },
                        "className": "slider slider is-fullwidth",
                        "max": 10,
                        "min": 1,
                        "step": 1,
                        "style": {}
                       },
                       "type": "node"
                      }
                     ],
                     "instanceArgs": {
                      "namespace": "html",
                      "tag": "div"
                     },
                     "nodeType": "DOM",
                     "props": {
                      "className": "interact-flex-row-center"
                     },
                     "type": "node"
                    },
                    {
                     "children": [
                      {
                       "children": [],
                       "instanceArgs": {
                        "namespace": "html",
                        "tag": "p"
                       },
                       "nodeType": "DOM",
                       "props": {
                        "attributes": {
                         "data-bind": "text: formatted_val"
                        }
                       },
                       "type": "node"
                      }
                     ],
                     "instanceArgs": {
                      "namespace": "html",
                      "tag": "div"
                     },
                     "nodeType": "DOM",
                     "props": {
                      "className": "interact-flex-row-right"
                     },
                     "type": "node"
                    }
                   ],
                   "instanceArgs": {
                    "namespace": "html",
                    "tag": "div"
                   },
                   "nodeType": "DOM",
                   "props": {
                    "className": "interact-flex-row interact-widget"
                   },
                   "type": "node"
                  }
                 ],
                 "instanceArgs": {
                  "handlers": {
                   "changes": [
                    "(function (val){return (val!=this.model[\"changes\"]()) ? (this.valueFromJulia[\"changes\"]=true, this.model[\"changes\"](val)) : undefined})"
                   ],
                   "index": [
                    "(function (val){return (val!=this.model[\"index\"]()) ? (this.valueFromJulia[\"index\"]=true, this.model[\"index\"](val)) : undefined})"
                   ]
                  },
                  "id": "12257853980028683361",
                  "imports": {
                   "data": [
                    {
                     "name": "knockout",
                     "type": "js",
                     "url": "/assetserver/727383f2a47bd31570b7da84eee7b022dd6d7c78-knockout.js"
                    },
                    {
                     "name": "knockout_punches",
                     "type": "js",
                     "url": "/assetserver/382b41b3b1bd9f26f75861d360bad7f8beea211f-knockout_punches.js"
                    },
                    {
                     "name": null,
                     "type": "js",
                     "url": "/assetserver/5ab20f1060420992a9b82a65b735dee4d81ef413-all.js"
                    },
                    {
                     "name": null,
                     "type": "css",
                     "url": "/assetserver/1cc0ed62837210b80a182cc3676512f895dab686-style.css"
                    },
                    {
                     "name": null,
                     "type": "css",
                     "url": "/assetserver/2eee816f616df3549d7044d45e744fbf8d42bfa1-bulma_confined.min.css"
                    }
                   ],
                   "type": "async_block"
                  },
                  "mount_callbacks": [
                   "function () {\n    var handler = (function (ko, koPunches) {\n    ko.punches.enableAll();\n    ko.bindingHandlers.numericValue = {\n        init: function(element, valueAccessor, allBindings, data, context) {\n            var stringified = ko.observable(ko.unwrap(valueAccessor()));\n            stringified.subscribe(function(value) {\n                var val = parseFloat(value);\n                if (!isNaN(val)) {\n                    valueAccessor()(val);\n                }\n            });\n            valueAccessor().subscribe(function(value) {\n                var str = JSON.stringify(value);\n                if ((str == \"0\") && ([\"-0\", \"-0.\"].indexOf(stringified()) >= 0))\n                     return;\n                 if ([\"null\", \"\"].indexOf(str) >= 0)\n                     return;\n                stringified(str);\n            });\n            ko.applyBindingsToNode(\n                element,\n                {\n                    value: stringified,\n                    valueUpdate: allBindings.get('valueUpdate'),\n                },\n                context,\n            );\n        }\n    };\n    var json_data = {\"formatted_vals\":[\"0.01\",\"0.11\",\"0.21\",\"0.31\",\"0.41\",\"0.51\",\"0.61\",\"0.71\",\"0.81\",\"0.91\"],\"changes\":WebIO.getval({\"name\":\"changes\",\"scope\":\"12257853980028683361\",\"id\":\"3391842899601830590\",\"type\":\"observable\"}),\"index\":WebIO.getval({\"name\":\"index\",\"scope\":\"12257853980028683361\",\"id\":\"14145847105715862798\",\"type\":\"observable\"})};\n    var self = this;\n    function AppViewModel() {\n        for (var key in json_data) {\n            var el = json_data[key];\n            this[key] = Array.isArray(el) ? ko.observableArray(el) : ko.observable(el);\n        }\n        \n        [this[\"formatted_val\"]=ko.computed(    function(){\n        return this.formatted_vals()[parseInt(this.index())-(1)];\n    }\n,this)]\n        [this[\"changes\"].subscribe((function (val){!(this.valueFromJulia[\"changes\"]) ? (WebIO.setval({\"name\":\"changes\",\"scope\":\"12257853980028683361\",\"id\":\"3391842899601830590\",\"type\":\"observable\"},val)) : undefined; return this.valueFromJulia[\"changes\"]=false}),self),this[\"index\"].subscribe((function (val){!(this.valueFromJulia[\"index\"]) ? (WebIO.setval({\"name\":\"index\",\"scope\":\"12257853980028683361\",\"id\":\"14145847105715862798\",\"type\":\"observable\"},val)) : undefined; return this.valueFromJulia[\"index\"]=false}),self)]\n        \n    }\n    self.model = new AppViewModel();\n    self.valueFromJulia = {};\n    for (var key in json_data) {\n        self.valueFromJulia[key] = false;\n    }\n    ko.applyBindings(self.model, self.dom);\n}\n);\n    (WebIO.importBlock({\"data\":[{\"name\":\"knockout\",\"type\":\"js\",\"url\":\"/assetserver/727383f2a47bd31570b7da84eee7b022dd6d7c78-knockout.js\"},{\"name\":\"knockout_punches\",\"type\":\"js\",\"url\":\"/assetserver/382b41b3b1bd9f26f75861d360bad7f8beea211f-knockout_punches.js\"}],\"type\":\"async_block\"})).then((imports) => handler.apply(this, imports));\n}\n"
                  ],
                  "observables": {
                   "changes": {
                    "id": "3391842899601830590",
                    "sync": false,
                    "value": 0
                   },
                   "index": {
                    "id": "14145847105715862798",
                    "sync": true,
                    "value": 5
                   }
                  },
                  "systemjs_options": null
                 },
                 "nodeType": "Scope",
                 "props": {},
                 "type": "node"
                }
               ],
               "instanceArgs": {
                "namespace": "html",
                "tag": "div"
               },
               "nodeType": "DOM",
               "props": {
                "className": "field interact-widget"
               },
               "type": "node"
              },
              {
               "children": [
                {
                 "children": [
                  {
                   "children": [
                    {
                     "children": [
                      {
                       "children": [
                        "coh_fac"
                       ],
                       "instanceArgs": {
                        "namespace": "html",
                        "tag": "label"
                       },
                       "nodeType": "DOM",
                       "props": {
                        "className": "interact ",
                        "style": {
                         "padding": "5px 10px 0px 10px"
                        }
                       },
                       "type": "node"
                      }
                     ],
                     "instanceArgs": {
                      "namespace": "html",
                      "tag": "div"
                     },
                     "nodeType": "DOM",
                     "props": {
                      "className": "interact-flex-row-left"
                     },
                     "type": "node"
                    },
                    {
                     "children": [
                      {
                       "children": [],
                       "instanceArgs": {
                        "namespace": "html",
                        "tag": "input"
                       },
                       "nodeType": "DOM",
                       "props": {
                        "attributes": {
                         "data-bind": "numericValue: index, valueUpdate: 'input', event: {change: function (){this.changes(this.changes()+1)}}",
                         "orient": "horizontal",
                         "type": "range"
                        },
                        "className": "slider slider is-fullwidth",
                        "max": 100,
                        "min": 1,
                        "step": 1,
                        "style": {}
                       },
                       "type": "node"
                      }
                     ],
                     "instanceArgs": {
                      "namespace": "html",
                      "tag": "div"
                     },
                     "nodeType": "DOM",
                     "props": {
                      "className": "interact-flex-row-center"
                     },
                     "type": "node"
                    },
                    {
                     "children": [
                      {
                       "children": [],
                       "instanceArgs": {
                        "namespace": "html",
                        "tag": "p"
                       },
                       "nodeType": "DOM",
                       "props": {
                        "attributes": {
                         "data-bind": "text: formatted_val"
                        }
                       },
                       "type": "node"
                      }
                     ],
                     "instanceArgs": {
                      "namespace": "html",
                      "tag": "div"
                     },
                     "nodeType": "DOM",
                     "props": {
                      "className": "interact-flex-row-right"
                     },
                     "type": "node"
                    }
                   ],
                   "instanceArgs": {
                    "namespace": "html",
                    "tag": "div"
                   },
                   "nodeType": "DOM",
                   "props": {
                    "className": "interact-flex-row interact-widget"
                   },
                   "type": "node"
                  }
                 ],
                 "instanceArgs": {
                  "handlers": {
                   "changes": [
                    "(function (val){return (val!=this.model[\"changes\"]()) ? (this.valueFromJulia[\"changes\"]=true, this.model[\"changes\"](val)) : undefined})"
                   ],
                   "index": [
                    "(function (val){return (val!=this.model[\"index\"]()) ? (this.valueFromJulia[\"index\"]=true, this.model[\"index\"](val)) : undefined})"
                   ]
                  },
                  "id": "5446039455320707730",
                  "imports": {
                   "data": [
                    {
                     "name": "knockout",
                     "type": "js",
                     "url": "/assetserver/727383f2a47bd31570b7da84eee7b022dd6d7c78-knockout.js"
                    },
                    {
                     "name": "knockout_punches",
                     "type": "js",
                     "url": "/assetserver/382b41b3b1bd9f26f75861d360bad7f8beea211f-knockout_punches.js"
                    },
                    {
                     "name": null,
                     "type": "js",
                     "url": "/assetserver/5ab20f1060420992a9b82a65b735dee4d81ef413-all.js"
                    },
                    {
                     "name": null,
                     "type": "css",
                     "url": "/assetserver/1cc0ed62837210b80a182cc3676512f895dab686-style.css"
                    },
                    {
                     "name": null,
                     "type": "css",
                     "url": "/assetserver/2eee816f616df3549d7044d45e744fbf8d42bfa1-bulma_confined.min.css"
                    }
                   ],
                   "type": "async_block"
                  },
                  "mount_callbacks": [
                   "function () {\n    var handler = (function (ko, koPunches) {\n    ko.punches.enableAll();\n    ko.bindingHandlers.numericValue = {\n        init: function(element, valueAccessor, allBindings, data, context) {\n            var stringified = ko.observable(ko.unwrap(valueAccessor()));\n            stringified.subscribe(function(value) {\n                var val = parseFloat(value);\n                if (!isNaN(val)) {\n                    valueAccessor()(val);\n                }\n            });\n            valueAccessor().subscribe(function(value) {\n                var str = JSON.stringify(value);\n                if ((str == \"0\") && ([\"-0\", \"-0.\"].indexOf(stringified()) >= 0))\n                     return;\n                 if ([\"null\", \"\"].indexOf(str) >= 0)\n                     return;\n                stringified(str);\n            });\n            ko.applyBindingsToNode(\n                element,\n                {\n                    value: stringified,\n                    valueUpdate: allBindings.get('valueUpdate'),\n                },\n                context,\n            );\n        }\n    };\n    var json_data = {\"formatted_vals\":[\"0.01\",\"0.02\",\"0.03\",\"0.04\",\"0.05\",\"0.06\",\"0.07\",\"0.08\",\"0.09\",\"0.1\",\"0.11\",\"0.12\",\"0.13\",\"0.14\",\"0.15\",\"0.16\",\"0.17\",\"0.18\",\"0.19\",\"0.2\",\"0.21\",\"0.22\",\"0.23\",\"0.24\",\"0.25\",\"0.26\",\"0.27\",\"0.28\",\"0.29\",\"0.3\",\"0.31\",\"0.32\",\"0.33\",\"0.34\",\"0.35\",\"0.36\",\"0.37\",\"0.38\",\"0.39\",\"0.4\",\"0.41\",\"0.42\",\"0.43\",\"0.44\",\"0.45\",\"0.46\",\"0.47\",\"0.48\",\"0.49\",\"0.5\",\"0.51\",\"0.52\",\"0.53\",\"0.54\",\"0.55\",\"0.56\",\"0.57\",\"0.58\",\"0.59\",\"0.6\",\"0.61\",\"0.62\",\"0.63\",\"0.64\",\"0.65\",\"0.66\",\"0.67\",\"0.68\",\"0.69\",\"0.7\",\"0.71\",\"0.72\",\"0.73\",\"0.74\",\"0.75\",\"0.76\",\"0.77\",\"0.78\",\"0.79\",\"0.8\",\"0.81\",\"0.82\",\"0.83\",\"0.84\",\"0.85\",\"0.86\",\"0.87\",\"0.88\",\"0.89\",\"0.9\",\"0.91\",\"0.92\",\"0.93\",\"0.94\",\"0.95\",\"0.96\",\"0.97\",\"0.98\",\"0.99\",\"1.0\"],\"changes\":WebIO.getval({\"name\":\"changes\",\"scope\":\"5446039455320707730\",\"id\":\"9336408801338083863\",\"type\":\"observable\"}),\"index\":WebIO.getval({\"name\":\"index\",\"scope\":\"5446039455320707730\",\"id\":\"2296160853133512702\",\"type\":\"observable\"})};\n    var self = this;\n    function AppViewModel() {\n        for (var key in json_data) {\n            var el = json_data[key];\n            this[key] = Array.isArray(el) ? ko.observableArray(el) : ko.observable(el);\n        }\n        \n        [this[\"formatted_val\"]=ko.computed(    function(){\n        return this.formatted_vals()[parseInt(this.index())-(1)];\n    }\n,this)]\n        [this[\"changes\"].subscribe((function (val){!(this.valueFromJulia[\"changes\"]) ? (WebIO.setval({\"name\":\"changes\",\"scope\":\"5446039455320707730\",\"id\":\"9336408801338083863\",\"type\":\"observable\"},val)) : undefined; return this.valueFromJulia[\"changes\"]=false}),self),this[\"index\"].subscribe((function (val){!(this.valueFromJulia[\"index\"]) ? (WebIO.setval({\"name\":\"index\",\"scope\":\"5446039455320707730\",\"id\":\"2296160853133512702\",\"type\":\"observable\"},val)) : undefined; return this.valueFromJulia[\"index\"]=false}),self)]\n        \n    }\n    self.model = new AppViewModel();\n    self.valueFromJulia = {};\n    for (var key in json_data) {\n        self.valueFromJulia[key] = false;\n    }\n    ko.applyBindings(self.model, self.dom);\n}\n);\n    (WebIO.importBlock({\"data\":[{\"name\":\"knockout\",\"type\":\"js\",\"url\":\"/assetserver/727383f2a47bd31570b7da84eee7b022dd6d7c78-knockout.js\"},{\"name\":\"knockout_punches\",\"type\":\"js\",\"url\":\"/assetserver/382b41b3b1bd9f26f75861d360bad7f8beea211f-knockout_punches.js\"}],\"type\":\"async_block\"})).then((imports) => handler.apply(this, imports));\n}\n"
                  ],
                  "observables": {
                   "changes": {
                    "id": "9336408801338083863",
                    "sync": false,
                    "value": 0
                   },
                   "index": {
                    "id": "2296160853133512702",
                    "sync": true,
                    "value": 50
                   }
                  },
                  "systemjs_options": null
                 },
                 "nodeType": "Scope",
                 "props": {},
                 "type": "node"
                }
               ],
               "instanceArgs": {
                "namespace": "html",
                "tag": "div"
               },
               "nodeType": "DOM",
               "props": {
                "className": "field interact-widget"
               },
               "type": "node"
              },
              {
               "children": [
                {
                 "children": [
                  {
                   "children": [
                    {
                     "children": [
                      {
                       "children": [
                        "sep_fac"
                       ],
                       "instanceArgs": {
                        "namespace": "html",
                        "tag": "label"
                       },
                       "nodeType": "DOM",
                       "props": {
                        "className": "interact ",
                        "style": {
                         "padding": "5px 10px 0px 10px"
                        }
                       },
                       "type": "node"
                      }
                     ],
                     "instanceArgs": {
                      "namespace": "html",
                      "tag": "div"
                     },
                     "nodeType": "DOM",
                     "props": {
                      "className": "interact-flex-row-left"
                     },
                     "type": "node"
                    },
                    {
                     "children": [
                      {
                       "children": [],
                       "instanceArgs": {
                        "namespace": "html",
                        "tag": "input"
                       },
                       "nodeType": "DOM",
                       "props": {
                        "attributes": {
                         "data-bind": "numericValue: index, valueUpdate: 'input', event: {change: function (){this.changes(this.changes()+1)}}",
                         "orient": "horizontal",
                         "type": "range"
                        },
                        "className": "slider slider is-fullwidth",
                        "max": 100,
                        "min": 1,
                        "step": 1,
                        "style": {}
                       },
                       "type": "node"
                      }
                     ],
                     "instanceArgs": {
                      "namespace": "html",
                      "tag": "div"
                     },
                     "nodeType": "DOM",
                     "props": {
                      "className": "interact-flex-row-center"
                     },
                     "type": "node"
                    },
                    {
                     "children": [
                      {
                       "children": [],
                       "instanceArgs": {
                        "namespace": "html",
                        "tag": "p"
                       },
                       "nodeType": "DOM",
                       "props": {
                        "attributes": {
                         "data-bind": "text: formatted_val"
                        }
                       },
                       "type": "node"
                      }
                     ],
                     "instanceArgs": {
                      "namespace": "html",
                      "tag": "div"
                     },
                     "nodeType": "DOM",
                     "props": {
                      "className": "interact-flex-row-right"
                     },
                     "type": "node"
                    }
                   ],
                   "instanceArgs": {
                    "namespace": "html",
                    "tag": "div"
                   },
                   "nodeType": "DOM",
                   "props": {
                    "className": "interact-flex-row interact-widget"
                   },
                   "type": "node"
                  }
                 ],
                 "instanceArgs": {
                  "handlers": {
                   "changes": [
                    "(function (val){return (val!=this.model[\"changes\"]()) ? (this.valueFromJulia[\"changes\"]=true, this.model[\"changes\"](val)) : undefined})"
                   ],
                   "index": [
                    "(function (val){return (val!=this.model[\"index\"]()) ? (this.valueFromJulia[\"index\"]=true, this.model[\"index\"](val)) : undefined})"
                   ]
                  },
                  "id": "3404355705012955363",
                  "imports": {
                   "data": [
                    {
                     "name": "knockout",
                     "type": "js",
                     "url": "/assetserver/727383f2a47bd31570b7da84eee7b022dd6d7c78-knockout.js"
                    },
                    {
                     "name": "knockout_punches",
                     "type": "js",
                     "url": "/assetserver/382b41b3b1bd9f26f75861d360bad7f8beea211f-knockout_punches.js"
                    },
                    {
                     "name": null,
                     "type": "js",
                     "url": "/assetserver/5ab20f1060420992a9b82a65b735dee4d81ef413-all.js"
                    },
                    {
                     "name": null,
                     "type": "css",
                     "url": "/assetserver/1cc0ed62837210b80a182cc3676512f895dab686-style.css"
                    },
                    {
                     "name": null,
                     "type": "css",
                     "url": "/assetserver/2eee816f616df3549d7044d45e744fbf8d42bfa1-bulma_confined.min.css"
                    }
                   ],
                   "type": "async_block"
                  },
                  "mount_callbacks": [
                   "function () {\n    var handler = (function (ko, koPunches) {\n    ko.punches.enableAll();\n    ko.bindingHandlers.numericValue = {\n        init: function(element, valueAccessor, allBindings, data, context) {\n            var stringified = ko.observable(ko.unwrap(valueAccessor()));\n            stringified.subscribe(function(value) {\n                var val = parseFloat(value);\n                if (!isNaN(val)) {\n                    valueAccessor()(val);\n                }\n            });\n            valueAccessor().subscribe(function(value) {\n                var str = JSON.stringify(value);\n                if ((str == \"0\") && ([\"-0\", \"-0.\"].indexOf(stringified()) >= 0))\n                     return;\n                 if ([\"null\", \"\"].indexOf(str) >= 0)\n                     return;\n                stringified(str);\n            });\n            ko.applyBindingsToNode(\n                element,\n                {\n                    value: stringified,\n                    valueUpdate: allBindings.get('valueUpdate'),\n                },\n                context,\n            );\n        }\n    };\n    var json_data = {\"formatted_vals\":[\"0.01\",\"0.02\",\"0.03\",\"0.04\",\"0.05\",\"0.06\",\"0.07\",\"0.08\",\"0.09\",\"0.1\",\"0.11\",\"0.12\",\"0.13\",\"0.14\",\"0.15\",\"0.16\",\"0.17\",\"0.18\",\"0.19\",\"0.2\",\"0.21\",\"0.22\",\"0.23\",\"0.24\",\"0.25\",\"0.26\",\"0.27\",\"0.28\",\"0.29\",\"0.3\",\"0.31\",\"0.32\",\"0.33\",\"0.34\",\"0.35\",\"0.36\",\"0.37\",\"0.38\",\"0.39\",\"0.4\",\"0.41\",\"0.42\",\"0.43\",\"0.44\",\"0.45\",\"0.46\",\"0.47\",\"0.48\",\"0.49\",\"0.5\",\"0.51\",\"0.52\",\"0.53\",\"0.54\",\"0.55\",\"0.56\",\"0.57\",\"0.58\",\"0.59\",\"0.6\",\"0.61\",\"0.62\",\"0.63\",\"0.64\",\"0.65\",\"0.66\",\"0.67\",\"0.68\",\"0.69\",\"0.7\",\"0.71\",\"0.72\",\"0.73\",\"0.74\",\"0.75\",\"0.76\",\"0.77\",\"0.78\",\"0.79\",\"0.8\",\"0.81\",\"0.82\",\"0.83\",\"0.84\",\"0.85\",\"0.86\",\"0.87\",\"0.88\",\"0.89\",\"0.9\",\"0.91\",\"0.92\",\"0.93\",\"0.94\",\"0.95\",\"0.96\",\"0.97\",\"0.98\",\"0.99\",\"1.0\"],\"changes\":WebIO.getval({\"name\":\"changes\",\"scope\":\"3404355705012955363\",\"id\":\"6651515142230765482\",\"type\":\"observable\"}),\"index\":WebIO.getval({\"name\":\"index\",\"scope\":\"3404355705012955363\",\"id\":\"11305185395856533466\",\"type\":\"observable\"})};\n    var self = this;\n    function AppViewModel() {\n        for (var key in json_data) {\n            var el = json_data[key];\n            this[key] = Array.isArray(el) ? ko.observableArray(el) : ko.observable(el);\n        }\n        \n        [this[\"formatted_val\"]=ko.computed(    function(){\n        return this.formatted_vals()[parseInt(this.index())-(1)];\n    }\n,this)]\n        [this[\"changes\"].subscribe((function (val){!(this.valueFromJulia[\"changes\"]) ? (WebIO.setval({\"name\":\"changes\",\"scope\":\"3404355705012955363\",\"id\":\"6651515142230765482\",\"type\":\"observable\"},val)) : undefined; return this.valueFromJulia[\"changes\"]=false}),self),this[\"index\"].subscribe((function (val){!(this.valueFromJulia[\"index\"]) ? (WebIO.setval({\"name\":\"index\",\"scope\":\"3404355705012955363\",\"id\":\"11305185395856533466\",\"type\":\"observable\"},val)) : undefined; return this.valueFromJulia[\"index\"]=false}),self)]\n        \n    }\n    self.model = new AppViewModel();\n    self.valueFromJulia = {};\n    for (var key in json_data) {\n        self.valueFromJulia[key] = false;\n    }\n    ko.applyBindings(self.model, self.dom);\n}\n);\n    (WebIO.importBlock({\"data\":[{\"name\":\"knockout\",\"type\":\"js\",\"url\":\"/assetserver/727383f2a47bd31570b7da84eee7b022dd6d7c78-knockout.js\"},{\"name\":\"knockout_punches\",\"type\":\"js\",\"url\":\"/assetserver/382b41b3b1bd9f26f75861d360bad7f8beea211f-knockout_punches.js\"}],\"type\":\"async_block\"})).then((imports) => handler.apply(this, imports));\n}\n"
                  ],
                  "observables": {
                   "changes": {
                    "id": "6651515142230765482",
                    "sync": false,
                    "value": 0
                   },
                   "index": {
                    "id": "11305185395856533466",
                    "sync": true,
                    "value": 50
                   }
                  },
                  "systemjs_options": null
                 },
                 "nodeType": "Scope",
                 "props": {},
                 "type": "node"
                }
               ],
               "instanceArgs": {
                "namespace": "html",
                "tag": "div"
               },
               "nodeType": "DOM",
               "props": {
                "className": "field interact-widget"
               },
               "type": "node"
              },
              {
               "children": [
                {
                 "children": [
                  {
                   "children": [
                    {
                     "children": [
                      {
                       "children": [
                        "aln_fac"
                       ],
                       "instanceArgs": {
                        "namespace": "html",
                        "tag": "label"
                       },
                       "nodeType": "DOM",
                       "props": {
                        "className": "interact ",
                        "style": {
                         "padding": "5px 10px 0px 10px"
                        }
                       },
                       "type": "node"
                      }
                     ],
                     "instanceArgs": {
                      "namespace": "html",
                      "tag": "div"
                     },
                     "nodeType": "DOM",
                     "props": {
                      "className": "interact-flex-row-left"
                     },
                     "type": "node"
                    },
                    {
                     "children": [
                      {
                       "children": [],
                       "instanceArgs": {
                        "namespace": "html",
                        "tag": "input"
                       },
                       "nodeType": "DOM",
                       "props": {
                        "attributes": {
                         "data-bind": "numericValue: index, valueUpdate: 'input', event: {change: function (){this.changes(this.changes()+1)}}",
                         "orient": "horizontal",
                         "type": "range"
                        },
                        "className": "slider slider is-fullwidth",
                        "max": 100,
                        "min": 1,
                        "step": 1,
                        "style": {}
                       },
                       "type": "node"
                      }
                     ],
                     "instanceArgs": {
                      "namespace": "html",
                      "tag": "div"
                     },
                     "nodeType": "DOM",
                     "props": {
                      "className": "interact-flex-row-center"
                     },
                     "type": "node"
                    },
                    {
                     "children": [
                      {
                       "children": [],
                       "instanceArgs": {
                        "namespace": "html",
                        "tag": "p"
                       },
                       "nodeType": "DOM",
                       "props": {
                        "attributes": {
                         "data-bind": "text: formatted_val"
                        }
                       },
                       "type": "node"
                      }
                     ],
                     "instanceArgs": {
                      "namespace": "html",
                      "tag": "div"
                     },
                     "nodeType": "DOM",
                     "props": {
                      "className": "interact-flex-row-right"
                     },
                     "type": "node"
                    }
                   ],
                   "instanceArgs": {
                    "namespace": "html",
                    "tag": "div"
                   },
                   "nodeType": "DOM",
                   "props": {
                    "className": "interact-flex-row interact-widget"
                   },
                   "type": "node"
                  }
                 ],
                 "instanceArgs": {
                  "handlers": {
                   "changes": [
                    "(function (val){return (val!=this.model[\"changes\"]()) ? (this.valueFromJulia[\"changes\"]=true, this.model[\"changes\"](val)) : undefined})"
                   ],
                   "index": [
                    "(function (val){return (val!=this.model[\"index\"]()) ? (this.valueFromJulia[\"index\"]=true, this.model[\"index\"](val)) : undefined})"
                   ]
                  },
                  "id": "7133436002514717978",
                  "imports": {
                   "data": [
                    {
                     "name": "knockout",
                     "type": "js",
                     "url": "/assetserver/727383f2a47bd31570b7da84eee7b022dd6d7c78-knockout.js"
                    },
                    {
                     "name": "knockout_punches",
                     "type": "js",
                     "url": "/assetserver/382b41b3b1bd9f26f75861d360bad7f8beea211f-knockout_punches.js"
                    },
                    {
                     "name": null,
                     "type": "js",
                     "url": "/assetserver/5ab20f1060420992a9b82a65b735dee4d81ef413-all.js"
                    },
                    {
                     "name": null,
                     "type": "css",
                     "url": "/assetserver/1cc0ed62837210b80a182cc3676512f895dab686-style.css"
                    },
                    {
                     "name": null,
                     "type": "css",
                     "url": "/assetserver/2eee816f616df3549d7044d45e744fbf8d42bfa1-bulma_confined.min.css"
                    }
                   ],
                   "type": "async_block"
                  },
                  "mount_callbacks": [
                   "function () {\n    var handler = (function (ko, koPunches) {\n    ko.punches.enableAll();\n    ko.bindingHandlers.numericValue = {\n        init: function(element, valueAccessor, allBindings, data, context) {\n            var stringified = ko.observable(ko.unwrap(valueAccessor()));\n            stringified.subscribe(function(value) {\n                var val = parseFloat(value);\n                if (!isNaN(val)) {\n                    valueAccessor()(val);\n                }\n            });\n            valueAccessor().subscribe(function(value) {\n                var str = JSON.stringify(value);\n                if ((str == \"0\") && ([\"-0\", \"-0.\"].indexOf(stringified()) >= 0))\n                     return;\n                 if ([\"null\", \"\"].indexOf(str) >= 0)\n                     return;\n                stringified(str);\n            });\n            ko.applyBindingsToNode(\n                element,\n                {\n                    value: stringified,\n                    valueUpdate: allBindings.get('valueUpdate'),\n                },\n                context,\n            );\n        }\n    };\n    var json_data = {\"formatted_vals\":[\"0.01\",\"0.02\",\"0.03\",\"0.04\",\"0.05\",\"0.06\",\"0.07\",\"0.08\",\"0.09\",\"0.1\",\"0.11\",\"0.12\",\"0.13\",\"0.14\",\"0.15\",\"0.16\",\"0.17\",\"0.18\",\"0.19\",\"0.2\",\"0.21\",\"0.22\",\"0.23\",\"0.24\",\"0.25\",\"0.26\",\"0.27\",\"0.28\",\"0.29\",\"0.3\",\"0.31\",\"0.32\",\"0.33\",\"0.34\",\"0.35\",\"0.36\",\"0.37\",\"0.38\",\"0.39\",\"0.4\",\"0.41\",\"0.42\",\"0.43\",\"0.44\",\"0.45\",\"0.46\",\"0.47\",\"0.48\",\"0.49\",\"0.5\",\"0.51\",\"0.52\",\"0.53\",\"0.54\",\"0.55\",\"0.56\",\"0.57\",\"0.58\",\"0.59\",\"0.6\",\"0.61\",\"0.62\",\"0.63\",\"0.64\",\"0.65\",\"0.66\",\"0.67\",\"0.68\",\"0.69\",\"0.7\",\"0.71\",\"0.72\",\"0.73\",\"0.74\",\"0.75\",\"0.76\",\"0.77\",\"0.78\",\"0.79\",\"0.8\",\"0.81\",\"0.82\",\"0.83\",\"0.84\",\"0.85\",\"0.86\",\"0.87\",\"0.88\",\"0.89\",\"0.9\",\"0.91\",\"0.92\",\"0.93\",\"0.94\",\"0.95\",\"0.96\",\"0.97\",\"0.98\",\"0.99\",\"1.0\"],\"changes\":WebIO.getval({\"name\":\"changes\",\"scope\":\"7133436002514717978\",\"id\":\"7978947125813570428\",\"type\":\"observable\"}),\"index\":WebIO.getval({\"name\":\"index\",\"scope\":\"7133436002514717978\",\"id\":\"939425956942780760\",\"type\":\"observable\"})};\n    var self = this;\n    function AppViewModel() {\n        for (var key in json_data) {\n            var el = json_data[key];\n            this[key] = Array.isArray(el) ? ko.observableArray(el) : ko.observable(el);\n        }\n        \n        [this[\"formatted_val\"]=ko.computed(    function(){\n        return this.formatted_vals()[parseInt(this.index())-(1)];\n    }\n,this)]\n        [this[\"changes\"].subscribe((function (val){!(this.valueFromJulia[\"changes\"]) ? (WebIO.setval({\"name\":\"changes\",\"scope\":\"7133436002514717978\",\"id\":\"7978947125813570428\",\"type\":\"observable\"},val)) : undefined; return this.valueFromJulia[\"changes\"]=false}),self),this[\"index\"].subscribe((function (val){!(this.valueFromJulia[\"index\"]) ? (WebIO.setval({\"name\":\"index\",\"scope\":\"7133436002514717978\",\"id\":\"939425956942780760\",\"type\":\"observable\"},val)) : undefined; return this.valueFromJulia[\"index\"]=false}),self)]\n        \n    }\n    self.model = new AppViewModel();\n    self.valueFromJulia = {};\n    for (var key in json_data) {\n        self.valueFromJulia[key] = false;\n    }\n    ko.applyBindings(self.model, self.dom);\n}\n);\n    (WebIO.importBlock({\"data\":[{\"name\":\"knockout\",\"type\":\"js\",\"url\":\"/assetserver/727383f2a47bd31570b7da84eee7b022dd6d7c78-knockout.js\"},{\"name\":\"knockout_punches\",\"type\":\"js\",\"url\":\"/assetserver/382b41b3b1bd9f26f75861d360bad7f8beea211f-knockout_punches.js\"}],\"type\":\"async_block\"})).then((imports) => handler.apply(this, imports));\n}\n"
                  ],
                  "observables": {
                   "changes": {
                    "id": "7978947125813570428",
                    "sync": false,
                    "value": 0
                   },
                   "index": {
                    "id": "939425956942780760",
                    "sync": true,
                    "value": 50
                   }
                  },
                  "systemjs_options": null
                 },
                 "nodeType": "Scope",
                 "props": {},
                 "type": "node"
                }
               ],
               "instanceArgs": {
                "namespace": "html",
                "tag": "div"
               },
               "nodeType": "DOM",
               "props": {
                "className": "field interact-widget"
               },
               "type": "node"
              },
              {
               "children": [
                {
                 "children": [
                  {
                   "children": [
                    {
                     "children": [
                      {
                       "children": [
                        "vis_range"
                       ],
                       "instanceArgs": {
                        "namespace": "html",
                        "tag": "label"
                       },
                       "nodeType": "DOM",
                       "props": {
                        "className": "interact ",
                        "style": {
                         "padding": "5px 10px 0px 10px"
                        }
                       },
                       "type": "node"
                      }
                     ],
                     "instanceArgs": {
                      "namespace": "html",
                      "tag": "div"
                     },
                     "nodeType": "DOM",
                     "props": {
                      "className": "interact-flex-row-left"
                     },
                     "type": "node"
                    },
                    {
                     "children": [
                      {
                       "children": [],
                       "instanceArgs": {
                        "namespace": "html",
                        "tag": "input"
                       },
                       "nodeType": "DOM",
                       "props": {
                        "attributes": {
                         "data-bind": "numericValue: index, valueUpdate: 'input', event: {change: function (){this.changes(this.changes()+1)}}",
                         "orient": "horizontal",
                         "type": "range"
                        },
                        "className": "slider slider is-fullwidth",
                        "max": 8,
                        "min": 1,
                        "step": 1,
                        "style": {}
                       },
                       "type": "node"
                      }
                     ],
                     "instanceArgs": {
                      "namespace": "html",
                      "tag": "div"
                     },
                     "nodeType": "DOM",
                     "props": {
                      "className": "interact-flex-row-center"
                     },
                     "type": "node"
                    },
                    {
                     "children": [
                      {
                       "children": [],
                       "instanceArgs": {
                        "namespace": "html",
                        "tag": "p"
                       },
                       "nodeType": "DOM",
                       "props": {
                        "attributes": {
                         "data-bind": "text: formatted_val"
                        }
                       },
                       "type": "node"
                      }
                     ],
                     "instanceArgs": {
                      "namespace": "html",
                      "tag": "div"
                     },
                     "nodeType": "DOM",
                     "props": {
                      "className": "interact-flex-row-right"
                     },
                     "type": "node"
                    }
                   ],
                   "instanceArgs": {
                    "namespace": "html",
                    "tag": "div"
                   },
                   "nodeType": "DOM",
                   "props": {
                    "className": "interact-flex-row interact-widget"
                   },
                   "type": "node"
                  }
                 ],
                 "instanceArgs": {
                  "handlers": {
                   "changes": [
                    "(function (val){return (val!=this.model[\"changes\"]()) ? (this.valueFromJulia[\"changes\"]=true, this.model[\"changes\"](val)) : undefined})"
                   ],
                   "index": [
                    "(function (val){return (val!=this.model[\"index\"]()) ? (this.valueFromJulia[\"index\"]=true, this.model[\"index\"](val)) : undefined})"
                   ]
                  },
                  "id": "2028373784752530003",
                  "imports": {
                   "data": [
                    {
                     "name": "knockout",
                     "type": "js",
                     "url": "/assetserver/727383f2a47bd31570b7da84eee7b022dd6d7c78-knockout.js"
                    },
                    {
                     "name": "knockout_punches",
                     "type": "js",
                     "url": "/assetserver/382b41b3b1bd9f26f75861d360bad7f8beea211f-knockout_punches.js"
                    },
                    {
                     "name": null,
                     "type": "js",
                     "url": "/assetserver/5ab20f1060420992a9b82a65b735dee4d81ef413-all.js"
                    },
                    {
                     "name": null,
                     "type": "css",
                     "url": "/assetserver/1cc0ed62837210b80a182cc3676512f895dab686-style.css"
                    },
                    {
                     "name": null,
                     "type": "css",
                     "url": "/assetserver/2eee816f616df3549d7044d45e744fbf8d42bfa1-bulma_confined.min.css"
                    }
                   ],
                   "type": "async_block"
                  },
                  "mount_callbacks": [
                   "function () {\n    var handler = (function (ko, koPunches) {\n    ko.punches.enableAll();\n    ko.bindingHandlers.numericValue = {\n        init: function(element, valueAccessor, allBindings, data, context) {\n            var stringified = ko.observable(ko.unwrap(valueAccessor()));\n            stringified.subscribe(function(value) {\n                var val = parseFloat(value);\n                if (!isNaN(val)) {\n                    valueAccessor()(val);\n                }\n            });\n            valueAccessor().subscribe(function(value) {\n                var str = JSON.stringify(value);\n                if ((str == \"0\") && ([\"-0\", \"-0.\"].indexOf(stringified()) >= 0))\n                     return;\n                 if ([\"null\", \"\"].indexOf(str) >= 0)\n                     return;\n                stringified(str);\n            });\n            ko.applyBindingsToNode(\n                element,\n                {\n                    value: stringified,\n                    valueUpdate: allBindings.get('valueUpdate'),\n                },\n                context,\n            );\n        }\n    };\n    var json_data = {\"formatted_vals\":[\"0.5\",\"1.0\",\"1.5\",\"2.0\",\"2.5\",\"3.0\",\"3.5\",\"4.0\"],\"changes\":WebIO.getval({\"name\":\"changes\",\"scope\":\"2028373784752530003\",\"id\":\"10078438309862646267\",\"type\":\"observable\"}),\"index\":WebIO.getval({\"name\":\"index\",\"scope\":\"2028373784752530003\",\"id\":\"12542504509499345197\",\"type\":\"observable\"})};\n    var self = this;\n    function AppViewModel() {\n        for (var key in json_data) {\n            var el = json_data[key];\n            this[key] = Array.isArray(el) ? ko.observableArray(el) : ko.observable(el);\n        }\n        \n        [this[\"formatted_val\"]=ko.computed(    function(){\n        return this.formatted_vals()[parseInt(this.index())-(1)];\n    }\n,this)]\n        [this[\"changes\"].subscribe((function (val){!(this.valueFromJulia[\"changes\"]) ? (WebIO.setval({\"name\":\"changes\",\"scope\":\"2028373784752530003\",\"id\":\"10078438309862646267\",\"type\":\"observable\"},val)) : undefined; return this.valueFromJulia[\"changes\"]=false}),self),this[\"index\"].subscribe((function (val){!(this.valueFromJulia[\"index\"]) ? (WebIO.setval({\"name\":\"index\",\"scope\":\"2028373784752530003\",\"id\":\"12542504509499345197\",\"type\":\"observable\"},val)) : undefined; return this.valueFromJulia[\"index\"]=false}),self)]\n        \n    }\n    self.model = new AppViewModel();\n    self.valueFromJulia = {};\n    for (var key in json_data) {\n        self.valueFromJulia[key] = false;\n    }\n    ko.applyBindings(self.model, self.dom);\n}\n);\n    (WebIO.importBlock({\"data\":[{\"name\":\"knockout\",\"type\":\"js\",\"url\":\"/assetserver/727383f2a47bd31570b7da84eee7b022dd6d7c78-knockout.js\"},{\"name\":\"knockout_punches\",\"type\":\"js\",\"url\":\"/assetserver/382b41b3b1bd9f26f75861d360bad7f8beea211f-knockout_punches.js\"}],\"type\":\"async_block\"})).then((imports) => handler.apply(this, imports));\n}\n"
                  ],
                  "observables": {
                   "changes": {
                    "id": "10078438309862646267",
                    "sync": false,
                    "value": 0
                   },
                   "index": {
                    "id": "12542504509499345197",
                    "sync": true,
                    "value": 4
                   }
                  },
                  "systemjs_options": null
                 },
                 "nodeType": "Scope",
                 "props": {},
                 "type": "node"
                }
               ],
               "instanceArgs": {
                "namespace": "html",
                "tag": "div"
               },
               "nodeType": "DOM",
               "props": {
                "className": "field interact-widget"
               },
               "type": "node"
              }
             ],
             "instanceArgs": {
              "namespace": "html",
              "tag": "div"
             },
             "nodeType": "DOM",
             "props": {
              "style": {
               "display": "flex",
               "flex-direction": "column"
              }
             },
             "type": "node"
            },
            {
             "children": [
              {
               "children": [
                {
                 "children": [
                  {
                   "children": [],
                   "instanceArgs": {
                    "namespace": "html",
                    "tag": "div"
                   },
                   "nodeType": "DOM",
                   "props": {
                    "id": "container"
                   },
                   "type": "node"
                  }
                 ],
                 "instanceArgs": {
                  "handlers": {
                   "value": [
                    "(function (txt){return this.k.render(txt,this.container)})"
                   ]
                  },
                  "id": "2237905486978684187",
                  "imports": {
                   "data": [
                    {
                     "name": null,
                     "type": "js",
                     "url": "/assetserver/dd22ed1bf1896c2748f3fe616ce0b838adc895c1-katex.min.js"
                    },
                    {
                     "name": null,
                     "type": "css",
                     "url": "/assetserver/46517a424aa5e6cffc1360d7e0848b601c584ee3-katex.min.css"
                    }
                   ],
                   "type": "async_block"
                  },
                  "mount_callbacks": [
                   "function () {\n    var handler = ((function (k){this.k=k; this.container=this.dom.querySelector(\"#container\"); return k.render(\"\\\\;\\\\;\",this.container)}));\n    (WebIO.importBlock({\"data\":[{\"name\":null,\"type\":\"js\",\"url\":\"/assetserver/dd22ed1bf1896c2748f3fe616ce0b838adc895c1-katex.min.js\"},{\"name\":null,\"type\":\"css\",\"url\":\"/assetserver/46517a424aa5e6cffc1360d7e0848b601c584ee3-katex.min.css\"}],\"type\":\"async_block\"})).then((imports) => handler.apply(this, imports));\n}\n"
                  ],
                  "observables": {
                   "value": {
                    "id": "11742944188247469914",
                    "sync": false,
                    "value": "\\;\\;"
                   }
                  },
                  "systemjs_options": null
                 },
                 "nodeType": "Scope",
                 "props": {},
                 "type": "node"
                }
               ],
               "instanceArgs": {
                "namespace": "html",
                "tag": "div"
               },
               "nodeType": "DOM",
               "props": {
                "className": "interact-widget"
               },
               "type": "node"
              },
              {
               "children": [
                {
                 "children": [
                  {
                   "children": [
                    "run"
                   ],
                   "instanceArgs": {
                    "namespace": "html",
                    "tag": "button"
                   },
                   "nodeType": "DOM",
                   "props": {
                    "attributes": {
                     "data-bind": "click: function (){this.clicks(this.clicks()+1)}, css: {'is-loading' : loading}"
                    },
                    "className": "is-medium button is-primary",
                    "style": {}
                   },
                   "type": "node"
                  }
                 ],
                 "instanceArgs": {
                  "handlers": {
                   "clicks": [
                    "(function (val){return (val!=this.model[\"clicks\"]()) ? (this.valueFromJulia[\"clicks\"]=true, this.model[\"clicks\"](val)) : undefined})"
                   ],
                   "loading": [
                    "(function (val){return (val!=this.model[\"loading\"]()) ? (this.valueFromJulia[\"loading\"]=true, this.model[\"loading\"](val)) : undefined})"
                   ]
                  },
                  "id": "2928077452663894263",
                  "imports": {
                   "data": [
                    {
                     "name": "knockout",
                     "type": "js",
                     "url": "/assetserver/727383f2a47bd31570b7da84eee7b022dd6d7c78-knockout.js"
                    },
                    {
                     "name": "knockout_punches",
                     "type": "js",
                     "url": "/assetserver/382b41b3b1bd9f26f75861d360bad7f8beea211f-knockout_punches.js"
                    },
                    {
                     "name": null,
                     "type": "js",
                     "url": "/assetserver/5ab20f1060420992a9b82a65b735dee4d81ef413-all.js"
                    },
                    {
                     "name": null,
                     "type": "css",
                     "url": "/assetserver/1cc0ed62837210b80a182cc3676512f895dab686-style.css"
                    },
                    {
                     "name": null,
                     "type": "css",
                     "url": "/assetserver/2eee816f616df3549d7044d45e744fbf8d42bfa1-bulma_confined.min.css"
                    }
                   ],
                   "type": "async_block"
                  },
                  "mount_callbacks": [
                   "function () {\n    var handler = (function (ko, koPunches) {\n    ko.punches.enableAll();\n    ko.bindingHandlers.numericValue = {\n        init: function(element, valueAccessor, allBindings, data, context) {\n            var stringified = ko.observable(ko.unwrap(valueAccessor()));\n            stringified.subscribe(function(value) {\n                var val = parseFloat(value);\n                if (!isNaN(val)) {\n                    valueAccessor()(val);\n                }\n            });\n            valueAccessor().subscribe(function(value) {\n                var str = JSON.stringify(value);\n                if ((str == \"0\") && ([\"-0\", \"-0.\"].indexOf(stringified()) >= 0))\n                     return;\n                 if ([\"null\", \"\"].indexOf(str) >= 0)\n                     return;\n                stringified(str);\n            });\n            ko.applyBindingsToNode(\n                element,\n                {\n                    value: stringified,\n                    valueUpdate: allBindings.get('valueUpdate'),\n                },\n                context,\n            );\n        }\n    };\n    var json_data = {\"loading\":WebIO.getval({\"name\":\"loading\",\"scope\":\"2928077452663894263\",\"id\":\"1276883144041200722\",\"type\":\"observable\"}),\"clicks\":WebIO.getval({\"name\":\"clicks\",\"scope\":\"2928077452663894263\",\"id\":\"8390091486119135520\",\"type\":\"observable\"})};\n    var self = this;\n    function AppViewModel() {\n        for (var key in json_data) {\n            var el = json_data[key];\n            this[key] = Array.isArray(el) ? ko.observableArray(el) : ko.observable(el);\n        }\n        \n        \n        [this[\"loading\"].subscribe((function (val){!(this.valueFromJulia[\"loading\"]) ? (WebIO.setval({\"name\":\"loading\",\"scope\":\"2928077452663894263\",\"id\":\"1276883144041200722\",\"type\":\"observable\"},val)) : undefined; return this.valueFromJulia[\"loading\"]=false}),self),this[\"clicks\"].subscribe((function (val){!(this.valueFromJulia[\"clicks\"]) ? (WebIO.setval({\"name\":\"clicks\",\"scope\":\"2928077452663894263\",\"id\":\"8390091486119135520\",\"type\":\"observable\"},val)) : undefined; return this.valueFromJulia[\"clicks\"]=false}),self)]\n        \n    }\n    self.model = new AppViewModel();\n    self.valueFromJulia = {};\n    for (var key in json_data) {\n        self.valueFromJulia[key] = false;\n    }\n    ko.applyBindings(self.model, self.dom);\n}\n);\n    (WebIO.importBlock({\"data\":[{\"name\":\"knockout\",\"type\":\"js\",\"url\":\"/assetserver/727383f2a47bd31570b7da84eee7b022dd6d7c78-knockout.js\"},{\"name\":\"knockout_punches\",\"type\":\"js\",\"url\":\"/assetserver/382b41b3b1bd9f26f75861d360bad7f8beea211f-knockout_punches.js\"}],\"type\":\"async_block\"})).then((imports) => handler.apply(this, imports));\n}\n"
                  ],
                  "observables": {
                   "clicks": {
                    "id": "8390091486119135520",
                    "sync": true,
                    "value": 0
                   },
                   "loading": {
                    "id": "1276883144041200722",
                    "sync": false,
                    "value": false
                   }
                  },
                  "systemjs_options": null
                 },
                 "nodeType": "Scope",
                 "props": {},
                 "type": "node"
                }
               ],
               "instanceArgs": {
                "namespace": "html",
                "tag": "div"
               },
               "nodeType": "DOM",
               "props": {
                "className": "field interact-widget"
               },
               "type": "node"
              },
              {
               "children": [
                {
                 "children": [
                  {
                   "children": [],
                   "instanceArgs": {
                    "namespace": "html",
                    "tag": "div"
                   },
                   "nodeType": "DOM",
                   "props": {
                    "id": "container"
                   },
                   "type": "node"
                  }
                 ],
                 "instanceArgs": {
                  "handlers": {
                   "value": [
                    "(function (txt){return this.k.render(txt,this.container)})"
                   ]
                  },
                  "id": "2237905486978684187",
                  "imports": {
                   "data": [
                    {
                     "name": null,
                     "type": "js",
                     "url": "/assetserver/dd22ed1bf1896c2748f3fe616ce0b838adc895c1-katex.min.js"
                    },
                    {
                     "name": null,
                     "type": "css",
                     "url": "/assetserver/46517a424aa5e6cffc1360d7e0848b601c584ee3-katex.min.css"
                    }
                   ],
                   "type": "async_block"
                  },
                  "mount_callbacks": [
                   "function () {\n    var handler = ((function (k){this.k=k; this.container=this.dom.querySelector(\"#container\"); return k.render(\"\\\\;\\\\;\",this.container)}));\n    (WebIO.importBlock({\"data\":[{\"name\":null,\"type\":\"js\",\"url\":\"/assetserver/dd22ed1bf1896c2748f3fe616ce0b838adc895c1-katex.min.js\"},{\"name\":null,\"type\":\"css\",\"url\":\"/assetserver/46517a424aa5e6cffc1360d7e0848b601c584ee3-katex.min.css\"}],\"type\":\"async_block\"})).then((imports) => handler.apply(this, imports));\n}\n"
                  ],
                  "observables": {
                   "value": {
                    "id": "11742944188247469914",
                    "sync": false,
                    "value": "\\;\\;"
                   }
                  },
                  "systemjs_options": null
                 },
                 "nodeType": "Scope",
                 "props": {},
                 "type": "node"
                }
               ],
               "instanceArgs": {
                "namespace": "html",
                "tag": "div"
               },
               "nodeType": "DOM",
               "props": {
                "className": "interact-widget"
               },
               "type": "node"
              },
              {
               "children": [
                {
                 "children": [
                  {
                   "children": [
                    "stop"
                   ],
                   "instanceArgs": {
                    "namespace": "html",
                    "tag": "button"
                   },
                   "nodeType": "DOM",
                   "props": {
                    "attributes": {
                     "data-bind": "click: function (){this.clicks(this.clicks()+1)}, css: {'is-loading' : loading}"
                    },
                    "className": "is-medium button is-primary",
                    "style": {}
                   },
                   "type": "node"
                  }
                 ],
                 "instanceArgs": {
                  "handlers": {
                   "clicks": [
                    "(function (val){return (val!=this.model[\"clicks\"]()) ? (this.valueFromJulia[\"clicks\"]=true, this.model[\"clicks\"](val)) : undefined})"
                   ],
                   "loading": [
                    "(function (val){return (val!=this.model[\"loading\"]()) ? (this.valueFromJulia[\"loading\"]=true, this.model[\"loading\"](val)) : undefined})"
                   ]
                  },
                  "id": "10587971008092242619",
                  "imports": {
                   "data": [
                    {
                     "name": "knockout",
                     "type": "js",
                     "url": "/assetserver/727383f2a47bd31570b7da84eee7b022dd6d7c78-knockout.js"
                    },
                    {
                     "name": "knockout_punches",
                     "type": "js",
                     "url": "/assetserver/382b41b3b1bd9f26f75861d360bad7f8beea211f-knockout_punches.js"
                    },
                    {
                     "name": null,
                     "type": "js",
                     "url": "/assetserver/5ab20f1060420992a9b82a65b735dee4d81ef413-all.js"
                    },
                    {
                     "name": null,
                     "type": "css",
                     "url": "/assetserver/1cc0ed62837210b80a182cc3676512f895dab686-style.css"
                    },
                    {
                     "name": null,
                     "type": "css",
                     "url": "/assetserver/2eee816f616df3549d7044d45e744fbf8d42bfa1-bulma_confined.min.css"
                    }
                   ],
                   "type": "async_block"
                  },
                  "mount_callbacks": [
                   "function () {\n    var handler = (function (ko, koPunches) {\n    ko.punches.enableAll();\n    ko.bindingHandlers.numericValue = {\n        init: function(element, valueAccessor, allBindings, data, context) {\n            var stringified = ko.observable(ko.unwrap(valueAccessor()));\n            stringified.subscribe(function(value) {\n                var val = parseFloat(value);\n                if (!isNaN(val)) {\n                    valueAccessor()(val);\n                }\n            });\n            valueAccessor().subscribe(function(value) {\n                var str = JSON.stringify(value);\n                if ((str == \"0\") && ([\"-0\", \"-0.\"].indexOf(stringified()) >= 0))\n                     return;\n                 if ([\"null\", \"\"].indexOf(str) >= 0)\n                     return;\n                stringified(str);\n            });\n            ko.applyBindingsToNode(\n                element,\n                {\n                    value: stringified,\n                    valueUpdate: allBindings.get('valueUpdate'),\n                },\n                context,\n            );\n        }\n    };\n    var json_data = {\"loading\":WebIO.getval({\"name\":\"loading\",\"scope\":\"10587971008092242619\",\"id\":\"646155095254376215\",\"type\":\"observable\"}),\"clicks\":WebIO.getval({\"name\":\"clicks\",\"scope\":\"10587971008092242619\",\"id\":\"8697393303913021736\",\"type\":\"observable\"})};\n    var self = this;\n    function AppViewModel() {\n        for (var key in json_data) {\n            var el = json_data[key];\n            this[key] = Array.isArray(el) ? ko.observableArray(el) : ko.observable(el);\n        }\n        \n        \n        [this[\"loading\"].subscribe((function (val){!(this.valueFromJulia[\"loading\"]) ? (WebIO.setval({\"name\":\"loading\",\"scope\":\"10587971008092242619\",\"id\":\"646155095254376215\",\"type\":\"observable\"},val)) : undefined; return this.valueFromJulia[\"loading\"]=false}),self),this[\"clicks\"].subscribe((function (val){!(this.valueFromJulia[\"clicks\"]) ? (WebIO.setval({\"name\":\"clicks\",\"scope\":\"10587971008092242619\",\"id\":\"8697393303913021736\",\"type\":\"observable\"},val)) : undefined; return this.valueFromJulia[\"clicks\"]=false}),self)]\n        \n    }\n    self.model = new AppViewModel();\n    self.valueFromJulia = {};\n    for (var key in json_data) {\n        self.valueFromJulia[key] = false;\n    }\n    ko.applyBindings(self.model, self.dom);\n}\n);\n    (WebIO.importBlock({\"data\":[{\"name\":\"knockout\",\"type\":\"js\",\"url\":\"/assetserver/727383f2a47bd31570b7da84eee7b022dd6d7c78-knockout.js\"},{\"name\":\"knockout_punches\",\"type\":\"js\",\"url\":\"/assetserver/382b41b3b1bd9f26f75861d360bad7f8beea211f-knockout_punches.js\"}],\"type\":\"async_block\"})).then((imports) => handler.apply(this, imports));\n}\n"
                  ],
                  "observables": {
                   "clicks": {
                    "id": "8697393303913021736",
                    "sync": true,
                    "value": 0
                   },
                   "loading": {
                    "id": "646155095254376215",
                    "sync": false,
                    "value": false
                   }
                  },
                  "systemjs_options": null
                 },
                 "nodeType": "Scope",
                 "props": {},
                 "type": "node"
                }
               ],
               "instanceArgs": {
                "namespace": "html",
                "tag": "div"
               },
               "nodeType": "DOM",
               "props": {
                "className": "field interact-widget"
               },
               "type": "node"
              },
              {
               "children": [
                {
                 "children": [
                  {
                   "children": [],
                   "instanceArgs": {
                    "namespace": "html",
                    "tag": "div"
                   },
                   "nodeType": "DOM",
                   "props": {
                    "id": "container"
                   },
                   "type": "node"
                  }
                 ],
                 "instanceArgs": {
                  "handlers": {
                   "value": [
                    "(function (txt){return this.k.render(txt,this.container)})"
                   ]
                  },
                  "id": "2237905486978684187",
                  "imports": {
                   "data": [
                    {
                     "name": null,
                     "type": "js",
                     "url": "/assetserver/dd22ed1bf1896c2748f3fe616ce0b838adc895c1-katex.min.js"
                    },
                    {
                     "name": null,
                     "type": "css",
                     "url": "/assetserver/46517a424aa5e6cffc1360d7e0848b601c584ee3-katex.min.css"
                    }
                   ],
                   "type": "async_block"
                  },
                  "mount_callbacks": [
                   "function () {\n    var handler = ((function (k){this.k=k; this.container=this.dom.querySelector(\"#container\"); return k.render(\"\\\\;\\\\;\",this.container)}));\n    (WebIO.importBlock({\"data\":[{\"name\":null,\"type\":\"js\",\"url\":\"/assetserver/dd22ed1bf1896c2748f3fe616ce0b838adc895c1-katex.min.js\"},{\"name\":null,\"type\":\"css\",\"url\":\"/assetserver/46517a424aa5e6cffc1360d7e0848b601c584ee3-katex.min.css\"}],\"type\":\"async_block\"})).then((imports) => handler.apply(this, imports));\n}\n"
                  ],
                  "observables": {
                   "value": {
                    "id": "11742944188247469914",
                    "sync": false,
                    "value": "\\;\\;"
                   }
                  },
                  "systemjs_options": null
                 },
                 "nodeType": "Scope",
                 "props": {},
                 "type": "node"
                }
               ],
               "instanceArgs": {
                "namespace": "html",
                "tag": "div"
               },
               "nodeType": "DOM",
               "props": {
                "className": "interact-widget"
               },
               "type": "node"
              },
              {
               "children": [
                {
                 "children": [
                  {
                   "children": [
                    "reset"
                   ],
                   "instanceArgs": {
                    "namespace": "html",
                    "tag": "button"
                   },
                   "nodeType": "DOM",
                   "props": {
                    "attributes": {
                     "data-bind": "click: function (){this.clicks(this.clicks()+1)}, css: {'is-loading' : loading}"
                    },
                    "className": "is-medium button is-primary",
                    "style": {}
                   },
                   "type": "node"
                  }
                 ],
                 "instanceArgs": {
                  "handlers": {
                   "clicks": [
                    "(function (val){return (val!=this.model[\"clicks\"]()) ? (this.valueFromJulia[\"clicks\"]=true, this.model[\"clicks\"](val)) : undefined})"
                   ],
                   "loading": [
                    "(function (val){return (val!=this.model[\"loading\"]()) ? (this.valueFromJulia[\"loading\"]=true, this.model[\"loading\"](val)) : undefined})"
                   ]
                  },
                  "id": "3799604427850947112",
                  "imports": {
                   "data": [
                    {
                     "name": "knockout",
                     "type": "js",
                     "url": "/assetserver/727383f2a47bd31570b7da84eee7b022dd6d7c78-knockout.js"
                    },
                    {
                     "name": "knockout_punches",
                     "type": "js",
                     "url": "/assetserver/382b41b3b1bd9f26f75861d360bad7f8beea211f-knockout_punches.js"
                    },
                    {
                     "name": null,
                     "type": "js",
                     "url": "/assetserver/5ab20f1060420992a9b82a65b735dee4d81ef413-all.js"
                    },
                    {
                     "name": null,
                     "type": "css",
                     "url": "/assetserver/1cc0ed62837210b80a182cc3676512f895dab686-style.css"
                    },
                    {
                     "name": null,
                     "type": "css",
                     "url": "/assetserver/2eee816f616df3549d7044d45e744fbf8d42bfa1-bulma_confined.min.css"
                    }
                   ],
                   "type": "async_block"
                  },
                  "mount_callbacks": [
                   "function () {\n    var handler = (function (ko, koPunches) {\n    ko.punches.enableAll();\n    ko.bindingHandlers.numericValue = {\n        init: function(element, valueAccessor, allBindings, data, context) {\n            var stringified = ko.observable(ko.unwrap(valueAccessor()));\n            stringified.subscribe(function(value) {\n                var val = parseFloat(value);\n                if (!isNaN(val)) {\n                    valueAccessor()(val);\n                }\n            });\n            valueAccessor().subscribe(function(value) {\n                var str = JSON.stringify(value);\n                if ((str == \"0\") && ([\"-0\", \"-0.\"].indexOf(stringified()) >= 0))\n                     return;\n                 if ([\"null\", \"\"].indexOf(str) >= 0)\n                     return;\n                stringified(str);\n            });\n            ko.applyBindingsToNode(\n                element,\n                {\n                    value: stringified,\n                    valueUpdate: allBindings.get('valueUpdate'),\n                },\n                context,\n            );\n        }\n    };\n    var json_data = {\"loading\":WebIO.getval({\"name\":\"loading\",\"scope\":\"3799604427850947112\",\"id\":\"2200832967505118946\",\"type\":\"observable\"}),\"clicks\":WebIO.getval({\"name\":\"clicks\",\"scope\":\"3799604427850947112\",\"id\":\"5885449822031143807\",\"type\":\"observable\"})};\n    var self = this;\n    function AppViewModel() {\n        for (var key in json_data) {\n            var el = json_data[key];\n            this[key] = Array.isArray(el) ? ko.observableArray(el) : ko.observable(el);\n        }\n        \n        \n        [this[\"loading\"].subscribe((function (val){!(this.valueFromJulia[\"loading\"]) ? (WebIO.setval({\"name\":\"loading\",\"scope\":\"3799604427850947112\",\"id\":\"2200832967505118946\",\"type\":\"observable\"},val)) : undefined; return this.valueFromJulia[\"loading\"]=false}),self),this[\"clicks\"].subscribe((function (val){!(this.valueFromJulia[\"clicks\"]) ? (WebIO.setval({\"name\":\"clicks\",\"scope\":\"3799604427850947112\",\"id\":\"5885449822031143807\",\"type\":\"observable\"},val)) : undefined; return this.valueFromJulia[\"clicks\"]=false}),self)]\n        \n    }\n    self.model = new AppViewModel();\n    self.valueFromJulia = {};\n    for (var key in json_data) {\n        self.valueFromJulia[key] = false;\n    }\n    ko.applyBindings(self.model, self.dom);\n}\n);\n    (WebIO.importBlock({\"data\":[{\"name\":\"knockout\",\"type\":\"js\",\"url\":\"/assetserver/727383f2a47bd31570b7da84eee7b022dd6d7c78-knockout.js\"},{\"name\":\"knockout_punches\",\"type\":\"js\",\"url\":\"/assetserver/382b41b3b1bd9f26f75861d360bad7f8beea211f-knockout_punches.js\"}],\"type\":\"async_block\"})).then((imports) => handler.apply(this, imports));\n}\n"
                  ],
                  "observables": {
                   "clicks": {
                    "id": "5885449822031143807",
                    "sync": true,
                    "value": 0
                   },
                   "loading": {
                    "id": "2200832967505118946",
                    "sync": false,
                    "value": false
                   }
                  },
                  "systemjs_options": null
                 },
                 "nodeType": "Scope",
                 "props": {},
                 "type": "node"
                }
               ],
               "instanceArgs": {
                "namespace": "html",
                "tag": "div"
               },
               "nodeType": "DOM",
               "props": {
                "className": "field interact-widget"
               },
               "type": "node"
              },
              {
               "children": [
                {
                 "children": [
                  {
                   "children": [],
                   "instanceArgs": {
                    "namespace": "html",
                    "tag": "div"
                   },
                   "nodeType": "DOM",
                   "props": {
                    "id": "container"
                   },
                   "type": "node"
                  }
                 ],
                 "instanceArgs": {
                  "handlers": {
                   "value": [
                    "(function (txt){return this.k.render(txt,this.container)})"
                   ]
                  },
                  "id": "2237905486978684187",
                  "imports": {
                   "data": [
                    {
                     "name": null,
                     "type": "js",
                     "url": "/assetserver/dd22ed1bf1896c2748f3fe616ce0b838adc895c1-katex.min.js"
                    },
                    {
                     "name": null,
                     "type": "css",
                     "url": "/assetserver/46517a424aa5e6cffc1360d7e0848b601c584ee3-katex.min.css"
                    }
                   ],
                   "type": "async_block"
                  },
                  "mount_callbacks": [
                   "function () {\n    var handler = ((function (k){this.k=k; this.container=this.dom.querySelector(\"#container\"); return k.render(\"\\\\;\\\\;\",this.container)}));\n    (WebIO.importBlock({\"data\":[{\"name\":null,\"type\":\"js\",\"url\":\"/assetserver/dd22ed1bf1896c2748f3fe616ce0b838adc895c1-katex.min.js\"},{\"name\":null,\"type\":\"css\",\"url\":\"/assetserver/46517a424aa5e6cffc1360d7e0848b601c584ee3-katex.min.css\"}],\"type\":\"async_block\"})).then((imports) => handler.apply(this, imports));\n}\n"
                  ],
                  "observables": {
                   "value": {
                    "id": "11742944188247469914",
                    "sync": false,
                    "value": "\\;\\;"
                   }
                  },
                  "systemjs_options": null
                 },
                 "nodeType": "Scope",
                 "props": {},
                 "type": "node"
                }
               ],
               "instanceArgs": {
                "namespace": "html",
                "tag": "div"
               },
               "nodeType": "DOM",
               "props": {
                "className": "interact-widget"
               },
               "type": "node"
              },
              {
               "children": [
                {
                 "children": [
                  {
                   "children": [
                    "save"
                   ],
                   "instanceArgs": {
                    "namespace": "html",
                    "tag": "button"
                   },
                   "nodeType": "DOM",
                   "props": {
                    "attributes": {
                     "data-bind": "click: function (){this.clicks(this.clicks()+1)}, css: {'is-loading' : loading}"
                    },
                    "className": "is-medium button is-primary",
                    "style": {}
                   },
                   "type": "node"
                  }
                 ],
                 "instanceArgs": {
                  "handlers": {
                   "clicks": [
                    "(function (val){return (val!=this.model[\"clicks\"]()) ? (this.valueFromJulia[\"clicks\"]=true, this.model[\"clicks\"](val)) : undefined})"
                   ],
                   "loading": [
                    "(function (val){return (val!=this.model[\"loading\"]()) ? (this.valueFromJulia[\"loading\"]=true, this.model[\"loading\"](val)) : undefined})"
                   ]
                  },
                  "id": "6043610289983087438",
                  "imports": {
                   "data": [
                    {
                     "name": "knockout",
                     "type": "js",
                     "url": "/assetserver/727383f2a47bd31570b7da84eee7b022dd6d7c78-knockout.js"
                    },
                    {
                     "name": "knockout_punches",
                     "type": "js",
                     "url": "/assetserver/382b41b3b1bd9f26f75861d360bad7f8beea211f-knockout_punches.js"
                    },
                    {
                     "name": null,
                     "type": "js",
                     "url": "/assetserver/5ab20f1060420992a9b82a65b735dee4d81ef413-all.js"
                    },
                    {
                     "name": null,
                     "type": "css",
                     "url": "/assetserver/1cc0ed62837210b80a182cc3676512f895dab686-style.css"
                    },
                    {
                     "name": null,
                     "type": "css",
                     "url": "/assetserver/2eee816f616df3549d7044d45e744fbf8d42bfa1-bulma_confined.min.css"
                    }
                   ],
                   "type": "async_block"
                  },
                  "mount_callbacks": [
                   "function () {\n    var handler = (function (ko, koPunches) {\n    ko.punches.enableAll();\n    ko.bindingHandlers.numericValue = {\n        init: function(element, valueAccessor, allBindings, data, context) {\n            var stringified = ko.observable(ko.unwrap(valueAccessor()));\n            stringified.subscribe(function(value) {\n                var val = parseFloat(value);\n                if (!isNaN(val)) {\n                    valueAccessor()(val);\n                }\n            });\n            valueAccessor().subscribe(function(value) {\n                var str = JSON.stringify(value);\n                if ((str == \"0\") && ([\"-0\", \"-0.\"].indexOf(stringified()) >= 0))\n                     return;\n                 if ([\"null\", \"\"].indexOf(str) >= 0)\n                     return;\n                stringified(str);\n            });\n            ko.applyBindingsToNode(\n                element,\n                {\n                    value: stringified,\n                    valueUpdate: allBindings.get('valueUpdate'),\n                },\n                context,\n            );\n        }\n    };\n    var json_data = {\"loading\":WebIO.getval({\"name\":\"loading\",\"scope\":\"6043610289983087438\",\"id\":\"12513624496733151371\",\"type\":\"observable\"}),\"clicks\":WebIO.getval({\"name\":\"clicks\",\"scope\":\"6043610289983087438\",\"id\":\"5883580828349962945\",\"type\":\"observable\"})};\n    var self = this;\n    function AppViewModel() {\n        for (var key in json_data) {\n            var el = json_data[key];\n            this[key] = Array.isArray(el) ? ko.observableArray(el) : ko.observable(el);\n        }\n        \n        \n        [this[\"loading\"].subscribe((function (val){!(this.valueFromJulia[\"loading\"]) ? (WebIO.setval({\"name\":\"loading\",\"scope\":\"6043610289983087438\",\"id\":\"12513624496733151371\",\"type\":\"observable\"},val)) : undefined; return this.valueFromJulia[\"loading\"]=false}),self),this[\"clicks\"].subscribe((function (val){!(this.valueFromJulia[\"clicks\"]) ? (WebIO.setval({\"name\":\"clicks\",\"scope\":\"6043610289983087438\",\"id\":\"5883580828349962945\",\"type\":\"observable\"},val)) : undefined; return this.valueFromJulia[\"clicks\"]=false}),self)]\n        \n    }\n    self.model = new AppViewModel();\n    self.valueFromJulia = {};\n    for (var key in json_data) {\n        self.valueFromJulia[key] = false;\n    }\n    ko.applyBindings(self.model, self.dom);\n}\n);\n    (WebIO.importBlock({\"data\":[{\"name\":\"knockout\",\"type\":\"js\",\"url\":\"/assetserver/727383f2a47bd31570b7da84eee7b022dd6d7c78-knockout.js\"},{\"name\":\"knockout_punches\",\"type\":\"js\",\"url\":\"/assetserver/382b41b3b1bd9f26f75861d360bad7f8beea211f-knockout_punches.js\"}],\"type\":\"async_block\"})).then((imports) => handler.apply(this, imports));\n}\n"
                  ],
                  "observables": {
                   "clicks": {
                    "id": "5883580828349962945",
                    "sync": true,
                    "value": 0
                   },
                   "loading": {
                    "id": "12513624496733151371",
                    "sync": false,
                    "value": false
                   }
                  },
                  "systemjs_options": null
                 },
                 "nodeType": "Scope",
                 "props": {},
                 "type": "node"
                }
               ],
               "instanceArgs": {
                "namespace": "html",
                "tag": "div"
               },
               "nodeType": "DOM",
               "props": {
                "className": "field interact-widget"
               },
               "type": "node"
              }
             ],
             "instanceArgs": {
              "namespace": "html",
              "tag": "div"
             },
             "nodeType": "DOM",
             "props": {
              "style": {
               "display": "flex",
               "flex-direction": "row"
              }
             },
             "type": "node"
            }
           ],
           "instanceArgs": {
            "namespace": "html",
            "tag": "div"
           },
           "nodeType": "DOM",
           "props": {
            "style": {
             "display": "flex",
             "flex-direction": "column"
            }
           },
           "type": "node"
          },
          {
           "children": [
            {
             "children": [
              {
               "children": [],
               "instanceArgs": {
                "namespace": "html",
                "tag": "div"
               },
               "nodeType": "DOM",
               "props": {
                "id": "container"
               },
               "type": "node"
              }
             ],
             "instanceArgs": {
              "handlers": {
               "value": [
                "(function (txt){return this.k.render(txt,this.container)})"
               ]
              },
              "id": "2237905486978684187",
              "imports": {
               "data": [
                {
                 "name": null,
                 "type": "js",
                 "url": "/assetserver/dd22ed1bf1896c2748f3fe616ce0b838adc895c1-katex.min.js"
                },
                {
                 "name": null,
                 "type": "css",
                 "url": "/assetserver/46517a424aa5e6cffc1360d7e0848b601c584ee3-katex.min.css"
                }
               ],
               "type": "async_block"
              },
              "mount_callbacks": [
               "function () {\n    var handler = ((function (k){this.k=k; this.container=this.dom.querySelector(\"#container\"); return k.render(\"\\\\;\\\\;\",this.container)}));\n    (WebIO.importBlock({\"data\":[{\"name\":null,\"type\":\"js\",\"url\":\"/assetserver/dd22ed1bf1896c2748f3fe616ce0b838adc895c1-katex.min.js\"},{\"name\":null,\"type\":\"css\",\"url\":\"/assetserver/46517a424aa5e6cffc1360d7e0848b601c584ee3-katex.min.css\"}],\"type\":\"async_block\"})).then((imports) => handler.apply(this, imports));\n}\n"
              ],
              "observables": {
               "value": {
                "id": "11742944188247469914",
                "sync": false,
                "value": "\\;\\;"
               }
              },
              "systemjs_options": null
             },
             "nodeType": "Scope",
             "props": {},
             "type": "node"
            }
           ],
           "instanceArgs": {
            "namespace": "html",
            "tag": "div"
           },
           "nodeType": "DOM",
           "props": {
            "className": "interact-widget"
           },
           "type": "node"
          },
          {
           "children": [
            {
             "children": [],
             "instanceArgs": {
              "namespace": "html",
              "tag": "div"
             },
             "nodeType": "DOM",
             "props": {
              "className": "webio-observable",
              "setInnerHtml": "<img src='data:image/png;base64,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'></img>"
             },
             "type": "node"
            }
           ],
           "instanceArgs": {
            "handlers": {
             "obs-output": [
              "function (value, scope) {\n    scope.setInnerHTML(value);\n}\n"
             ]
            },
            "id": "10924932012337121494",
            "imports": {
             "data": [],
             "type": "async_block"
            },
            "mount_callbacks": [],
            "observables": {
             "obs-output": {
              "id": "17718635723088499680",
              "sync": false,
              "value": "<img src='data:image/png;base64,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'></img>"
             }
            },
            "systemjs_options": null
           },
           "nodeType": "Scope",
           "props": {},
           "type": "node"
          },
          {
           "children": [
            {
             "children": [
              {
               "children": [],
               "instanceArgs": {
                "namespace": "html",
                "tag": "div"
               },
               "nodeType": "DOM",
               "props": {
                "id": "container"
               },
               "type": "node"
              }
             ],
             "instanceArgs": {
              "handlers": {
               "value": [
                "(function (txt){return this.k.render(txt,this.container)})"
               ]
              },
              "id": "2237905486978684187",
              "imports": {
               "data": [
                {
                 "name": null,
                 "type": "js",
                 "url": "/assetserver/dd22ed1bf1896c2748f3fe616ce0b838adc895c1-katex.min.js"
                },
                {
                 "name": null,
                 "type": "css",
                 "url": "/assetserver/46517a424aa5e6cffc1360d7e0848b601c584ee3-katex.min.css"
                }
               ],
               "type": "async_block"
              },
              "mount_callbacks": [
               "function () {\n    var handler = ((function (k){this.k=k; this.container=this.dom.querySelector(\"#container\"); return k.render(\"\\\\;\\\\;\",this.container)}));\n    (WebIO.importBlock({\"data\":[{\"name\":null,\"type\":\"js\",\"url\":\"/assetserver/dd22ed1bf1896c2748f3fe616ce0b838adc895c1-katex.min.js\"},{\"name\":null,\"type\":\"css\",\"url\":\"/assetserver/46517a424aa5e6cffc1360d7e0848b601c584ee3-katex.min.css\"}],\"type\":\"async_block\"})).then((imports) => handler.apply(this, imports));\n}\n"
              ],
              "observables": {
               "value": {
                "id": "11742944188247469914",
                "sync": false,
                "value": "\\;\\;"
               }
              },
              "systemjs_options": null
             },
             "nodeType": "Scope",
             "props": {},
             "type": "node"
            }
           ],
           "instanceArgs": {
            "namespace": "html",
            "tag": "div"
           },
           "nodeType": "DOM",
           "props": {
            "className": "interact-widget"
           },
           "type": "node"
          },
          {
           "children": [],
           "instanceArgs": {
            "namespace": "html",
            "tag": "div"
           },
           "nodeType": "DOM",
           "props": {
            "style": {
             "display": "flex",
             "flex-direction": "column"
            }
           },
           "type": "node"
          }
         ],
         "instanceArgs": {
          "namespace": "html",
          "tag": "div"
         },
         "nodeType": "DOM",
         "props": {
          "style": {
           "display": "flex",
           "flex-direction": "row"
          }
         },
         "type": "node"
        }
       ],
       "instanceArgs": {
        "namespace": "html",
        "tag": "div"
       },
       "nodeType": "DOM",
       "props": {
        "style": {
         "display": "flex",
         "flex-direction": "column"
        }
       },
       "type": "node"
      },
      "text/html": [
       "<div\n",
       "    class=\"webio-mountpoint\"\n",
       "    data-webio-mountpoint=\"8491831975349931637\"\n",
       ">\n",
       "    <script>\n",
       "    (function(){\n",
       "    // Some integrations (namely, IJulia/Jupyter) use an alternate render pathway than\n",
       "    // just putting the html on the page. If WebIO isn't defined, then it's pretty likely\n",
       "    // that we're in one of those situations and the integration just isn't installed\n",
       "    // correctly.\n",
       "    if (typeof window.WebIO === \"undefined\") {\n",
       "        document\n",
       "            .querySelector('[data-webio-mountpoint=\"8491831975349931637\"]')\n",
       "            .innerHTML = (\n",
       "                '<div style=\"padding: 1em; background-color: #f8d6da; border: 1px solid #f5c6cb; font-weight: bold;\">' +\n",
       "                '<p><strong>WebIO not detected.</strong></p>' +\n",
       "                '<p>Please read ' +\n",
       "                '<a href=\"https://juliagizmos.github.io/WebIO.jl/latest/troubleshooting/not-detected/\" target=\"_blank\">the troubleshooting guide</a> ' +\n",
       "                'for more information on how to resolve this issue.</p>' +\n",
       "                '<p><a href=\"https://juliagizmos.github.io/WebIO.jl/latest/troubleshooting/not-detected/\" target=\"_blank\">https://juliagizmos.github.io/WebIO.jl/latest/troubleshooting/not-detected/</a></p>' +\n",
       "                '</div>'\n",
       "            );\n",
       "        return;\n",
       "    }\n",
       "    WebIO.mount(\n",
       "        document.querySelector('[data-webio-mountpoint=\"8491831975349931637\"]'),\n",
       "        {\"props\":{\"style\":{\"display\":\"flex\",\"flex-direction\":\"column\"}},\"nodeType\":\"DOM\",\"type\":\"node\",\"instanceArgs\":{\"namespace\":\"html\",\"tag\":\"div\"},\"children\":[{\"props\":{\"style\":{\"display\":\"flex\",\"flex-direction\":\"row\"}},\"nodeType\":\"DOM\",\"type\":\"node\",\"instanceArgs\":{\"namespace\":\"html\",\"tag\":\"div\"},\"children\":[{\"props\":{\"style\":{\"display\":\"flex\",\"flex-direction\":\"column\"}},\"nodeType\":\"DOM\",\"type\":\"node\",\"instanceArgs\":{\"namespace\":\"html\",\"tag\":\"div\"},\"children\":[{\"props\":{\"className\":\"field interact-widget\"},\"nodeType\":\"DOM\",\"type\":\"node\",\"instanceArgs\":{\"namespace\":\"html\",\"tag\":\"div\"},\"children\":[{\"props\":{},\"nodeType\":\"Scope\",\"type\":\"node\",\"instanceArgs\":{\"imports\":{\"data\":[{\"name\":\"knockout\",\"type\":\"js\",\"url\":\"\\/assetserver\\/727383f2a47bd31570b7da84eee7b022dd6d7c78-knockout.js\"},{\"name\":\"knockout_punches\",\"type\":\"js\",\"url\":\"\\/assetserver\\/382b41b3b1bd9f26f75861d360bad7f8beea211f-knockout_punches.js\"},{\"name\":null,\"type\":\"js\",\"url\":\"\\/assetserver\\/5ab20f1060420992a9b82a65b735dee4d81ef413-all.js\"},{\"name\":null,\"type\":\"css\",\"url\":\"\\/assetserver\\/1cc0ed62837210b80a182cc3676512f895dab686-style.css\"},{\"name\":null,\"type\":\"css\",\"url\":\"\\/assetserver\\/2eee816f616df3549d7044d45e744fbf8d42bfa1-bulma_confined.min.css\"}],\"type\":\"async_block\"},\"id\":\"8746307638663650372\",\"handlers\":{\"changes\":[\"(function (val){return (val!=this.model[\\\"changes\\\"]()) ? (this.valueFromJulia[\\\"changes\\\"]=true, this.model[\\\"changes\\\"](val)) : undefined})\"],\"index\":[\"(function (val){return (val!=this.model[\\\"index\\\"]()) ? (this.valueFromJulia[\\\"index\\\"]=true, this.model[\\\"index\\\"](val)) : undefined})\"]},\"systemjs_options\":null,\"mount_callbacks\":[\"function () {\\n    var handler = (function (ko, koPunches) {\\n    ko.punches.enableAll();\\n    ko.bindingHandlers.numericValue = {\\n        init: function(element, valueAccessor, allBindings, data, context) {\\n            var stringified = ko.observable(ko.unwrap(valueAccessor()));\\n            stringified.subscribe(function(value) {\\n                var val = parseFloat(value);\\n                if (!isNaN(val)) {\\n                    valueAccessor()(val);\\n                }\\n            });\\n            valueAccessor().subscribe(function(value) {\\n                var str = JSON.stringify(value);\\n                if ((str == \\\"0\\\") && ([\\\"-0\\\", \\\"-0.\\\"].indexOf(stringified()) >= 0))\\n                     return;\\n                 if ([\\\"null\\\", \\\"\\\"].indexOf(str) >= 0)\\n                     return;\\n                stringified(str);\\n            });\\n            ko.applyBindingsToNode(\\n                element,\\n                {\\n                    value: stringified,\\n                    valueUpdate: allBindings.get('valueUpdate'),\\n                },\\n                context,\\n            );\\n        }\\n    };\\n    var json_data = {\\\"formatted_vals\\\":[\\\"1\\\",\\\"2\\\",\\\"3\\\",\\\"4\\\",\\\"5\\\",\\\"6\\\",\\\"7\\\",\\\"8\\\",\\\"9\\\",\\\"10\\\",\\\"11\\\",\\\"12\\\",\\\"13\\\",\\\"14\\\",\\\"15\\\",\\\"16\\\",\\\"17\\\",\\\"18\\\",\\\"19\\\",\\\"20\\\",\\\"21\\\",\\\"22\\\",\\\"23\\\",\\\"24\\\",\\\"25\\\",\\\"26\\\",\\\"27\\\",\\\"28\\\",\\\"29\\\",\\\"30\\\",\\\"31\\\",\\\"32\\\",\\\"33\\\",\\\"34\\\",\\\"35\\\",\\\"36\\\",\\\"37\\\",\\\"38\\\",\\\"39\\\",\\\"40\\\",\\\"41\\\",\\\"42\\\",\\\"43\\\",\\\"44\\\",\\\"45\\\",\\\"46\\\",\\\"47\\\",\\\"48\\\",\\\"49\\\",\\\"50\\\",\\\"51\\\",\\\"52\\\",\\\"53\\\",\\\"54\\\",\\\"55\\\",\\\"56\\\",\\\"57\\\",\\\"58\\\",\\\"59\\\",\\\"60\\\",\\\"61\\\",\\\"62\\\",\\\"63\\\",\\\"64\\\",\\\"65\\\",\\\"66\\\",\\\"67\\\",\\\"68\\\",\\\"69\\\",\\\"70\\\",\\\"71\\\",\\\"72\\\",\\\"73\\\",\\\"74\\\",\\\"75\\\",\\\"76\\\",\\\"77\\\",\\\"78\\\",\\\"79\\\",\\\"80\\\",\\\"81\\\",\\\"82\\\",\\\"83\\\",\\\"84\\\",\\\"85\\\",\\\"86\\\",\\\"87\\\",\\\"88\\\",\\\"89\\\",\\\"90\\\",\\\"91\\\",\\\"92\\\",\\\"93\\\",\\\"94\\\",\\\"95\\\",\\\"96\\\",\\\"97\\\",\\\"98\\\",\\\"99\\\",\\\"100\\\",\\\"101\\\",\\\"102\\\",\\\"103\\\",\\\"104\\\",\\\"105\\\",\\\"106\\\",\\\"107\\\",\\\"108\\\",\\\"109\\\",\\\"110\\\",\\\"111\\\",\\\"112\\\",\\\"113\\\",\\\"114\\\",\\\"115\\\",\\\"116\\\",\\\"117\\\",\\\"118\\\",\\\"119\\\",\\\"120\\\",\\\"121\\\",\\\"122\\\",\\\"123\\\",\\\"124\\\",\\\"125\\\",\\\"126\\\",\\\"127\\\",\\\"128\\\",\\\"129\\\",\\\"130\\\",\\\"131\\\",\\\"132\\\",\\\"133\\\",\\\"134\\\",\\\"135\\\",\\\"136\\\",\\\"137\\\",\\\"138\\\",\\\"139\\\",\\\"140\\\",\\\"141\\\",\\\"142\\\",\\\"143\\\",\\\"144\\\",\\\"145\\\",\\\"146\\\",\\\"147\\\",\\\"148\\\",\\\"149\\\",\\\"150\\\",\\\"151\\\",\\\"152\\\",\\\"153\\\",\\\"154\\\",\\\"155\\\",\\\"156\\\",\\\"157\\\",\\\"158\\\",\\\"159\\\",\\\"160\\\",\\\"161\\\",\\\"162\\\",\\\"163\\\",\\\"164\\\",\\\"165\\\",\\\"166\\\",\\\"167\\\",\\\"168\\\",\\\"169\\\",\\\"170\\\",\\\"171\\\",\\\"172\\\",\\\"173\\\",\\\"174\\\",\\\"175\\\",\\\"176\\\",\\\"177\\\",\\\"178\\\",\\\"179\\\",\\\"180\\\",\\\"181\\\",\\\"182\\\",\\\"183\\\",\\\"184\\\",\\\"185\\\",\\\"186\\\",\\\"187\\\",\\\"188\\\",\\\"189\\\",\\\"190\\\",\\\"191\\\",\\\"192\\\",\\\"193\\\",\\\"194\\\",\\\"195\\\",\\\"196\\\",\\\"197\\\",\\\"198\\\",\\\"199\\\",\\\"200\\\",\\\"201\\\",\\\"202\\\",\\\"203\\\",\\\"204\\\",\\\"205\\\",\\\"206\\\",\\\"207\\\",\\\"208\\\",\\\"209\\\",\\\"210\\\",\\\"211\\\",\\\"212\\\",\\\"213\\\",\\\"214\\\",\\\"215\\\",\\\"216\\\",\\\"217\\\",\\\"218\\\",\\\"219\\\",\\\"220\\\",\\\"221\\\",\\\"222\\\",\\\"223\\\",\\\"224\\\",\\\"225\\\",\\\"226\\\",\\\"227\\\",\\\"228\\\",\\\"229\\\",\\\"230\\\",\\\"231\\\",\\\"232\\\",\\\"233\\\",\\\"234\\\",\\\"235\\\",\\\"236\\\",\\\"237\\\",\\\"238\\\",\\\"239\\\",\\\"240\\\",\\\"241\\\",\\\"242\\\",\\\"243\\\",\\\"244\\\",\\\"245\\\",\\\"246\\\",\\\"247\\\",\\\"248\\\",\\\"249\\\",\\\"250\\\",\\\"251\\\",\\\"252\\\",\\\"253\\\",\\\"254\\\",\\\"255\\\",\\\"256\\\",\\\"257\\\",\\\"258\\\",\\\"259\\\",\\\"260\\\",\\\"261\\\",\\\"262\\\",\\\"263\\\",\\\"264\\\",\\\"265\\\",\\\"266\\\",\\\"267\\\",\\\"268\\\",\\\"269\\\",\\\"270\\\",\\\"271\\\",\\\"272\\\",\\\"273\\\",\\\"274\\\",\\\"275\\\",\\\"276\\\",\\\"277\\\",\\\"278\\\",\\\"279\\\",\\\"280\\\",\\\"281\\\",\\\"282\\\",\\\"283\\\",\\\"284\\\",\\\"285\\\",\\\"286\\\",\\\"287\\\",\\\"288\\\",\\\"289\\\",\\\"290\\\",\\\"291\\\",\\\"292\\\",\\\"293\\\",\\\"294\\\",\\\"295\\\",\\\"296\\\",\\\"297\\\",\\\"298\\\",\\\"299\\\",\\\"300\\\",\\\"301\\\",\\\"302\\\",\\\"303\\\",\\\"304\\\",\\\"305\\\",\\\"306\\\",\\\"307\\\",\\\"308\\\",\\\"309\\\",\\\"310\\\",\\\"311\\\",\\\"312\\\",\\\"313\\\",\\\"314\\\",\\\"315\\\",\\\"316\\\",\\\"317\\\",\\\"318\\\",\\\"319\\\",\\\"320\\\",\\\"321\\\",\\\"322\\\",\\\"323\\\",\\\"324\\\",\\\"325\\\",\\\"326\\\",\\\"327\\\",\\\"328\\\",\\\"329\\\",\\\"330\\\",\\\"331\\\",\\\"332\\\",\\\"333\\\",\\\"334\\\",\\\"335\\\",\\\"336\\\",\\\"337\\\",\\\"338\\\",\\\"339\\\",\\\"340\\\",\\\"341\\\",\\\"342\\\",\\\"343\\\",\\\"344\\\",\\\"345\\\",\\\"346\\\",\\\"347\\\",\\\"348\\\",\\\"349\\\",\\\"350\\\",\\\"351\\\",\\\"352\\\",\\\"353\\\",\\\"354\\\",\\\"355\\\",\\\"356\\\",\\\"357\\\",\\\"358\\\",\\\"359\\\",\\\"360\\\",\\\"361\\\",\\\"362\\\",\\\"363\\\",\\\"364\\\",\\\"365\\\",\\\"366\\\",\\\"367\\\",\\\"368\\\",\\\"369\\\",\\\"370\\\",\\\"371\\\",\\\"372\\\",\\\"373\\\",\\\"374\\\",\\\"375\\\",\\\"376\\\",\\\"377\\\",\\\"378\\\",\\\"379\\\",\\\"380\\\",\\\"381\\\",\\\"382\\\",\\\"383\\\",\\\"384\\\",\\\"385\\\",\\\"386\\\",\\\"387\\\",\\\"388\\\",\\\"389\\\",\\\"390\\\",\\\"391\\\",\\\"392\\\",\\\"393\\\",\\\"394\\\",\\\"395\\\",\\\"396\\\",\\\"397\\\",\\\"398\\\",\\\"399\\\",\\\"400\\\"],\\\"changes\\\":WebIO.getval({\\\"name\\\":\\\"changes\\\",\\\"scope\\\":\\\"8746307638663650372\\\",\\\"id\\\":\\\"1515802111544610454\\\",\\\"type\\\":\\\"observable\\\"}),\\\"index\\\":WebIO.getval({\\\"name\\\":\\\"index\\\",\\\"scope\\\":\\\"8746307638663650372\\\",\\\"id\\\":\\\"6222358758526903392\\\",\\\"type\\\":\\\"observable\\\"})};\\n    var self = this;\\n    function AppViewModel() {\\n        for (var key in json_data) {\\n            var el = json_data[key];\\n            this[key] = Array.isArray(el) ? ko.observableArray(el) : ko.observable(el);\\n        }\\n        \\n        [this[\\\"formatted_val\\\"]=ko.computed(    function(){\\n        return this.formatted_vals()[parseInt(this.index())-(1)];\\n    }\\n,this)]\\n        [this[\\\"changes\\\"].subscribe((function (val){!(this.valueFromJulia[\\\"changes\\\"]) ? (WebIO.setval({\\\"name\\\":\\\"changes\\\",\\\"scope\\\":\\\"8746307638663650372\\\",\\\"id\\\":\\\"1515802111544610454\\\",\\\"type\\\":\\\"observable\\\"},val)) : undefined; return this.valueFromJulia[\\\"changes\\\"]=false}),self),this[\\\"index\\\"].subscribe((function (val){!(this.valueFromJulia[\\\"index\\\"]) ? (WebIO.setval({\\\"name\\\":\\\"index\\\",\\\"scope\\\":\\\"8746307638663650372\\\",\\\"id\\\":\\\"6222358758526903392\\\",\\\"type\\\":\\\"observable\\\"},val)) : undefined; return this.valueFromJulia[\\\"index\\\"]=false}),self)]\\n        \\n    }\\n    self.model = new AppViewModel();\\n    self.valueFromJulia = {};\\n    for (var key in json_data) {\\n        self.valueFromJulia[key] = false;\\n    }\\n    ko.applyBindings(self.model, self.dom);\\n}\\n);\\n    (WebIO.importBlock({\\\"data\\\":[{\\\"name\\\":\\\"knockout\\\",\\\"type\\\":\\\"js\\\",\\\"url\\\":\\\"\\/assetserver\\/727383f2a47bd31570b7da84eee7b022dd6d7c78-knockout.js\\\"},{\\\"name\\\":\\\"knockout_punches\\\",\\\"type\\\":\\\"js\\\",\\\"url\\\":\\\"\\/assetserver\\/382b41b3b1bd9f26f75861d360bad7f8beea211f-knockout_punches.js\\\"}],\\\"type\\\":\\\"async_block\\\"})).then((imports) => handler.apply(this, imports));\\n}\\n\"],\"observables\":{\"changes\":{\"sync\":false,\"id\":\"1515802111544610454\",\"value\":0},\"index\":{\"sync\":true,\"id\":\"6222358758526903392\",\"value\":1}}},\"children\":[{\"props\":{\"className\":\"interact-flex-row interact-widget\"},\"nodeType\":\"DOM\",\"type\":\"node\",\"instanceArgs\":{\"namespace\":\"html\",\"tag\":\"div\"},\"children\":[{\"props\":{\"className\":\"interact-flex-row-left\"},\"nodeType\":\"DOM\",\"type\":\"node\",\"instanceArgs\":{\"namespace\":\"html\",\"tag\":\"div\"},\"children\":[{\"props\":{\"className\":\"interact \",\"style\":{\"padding\":\"5px 10px 0px 10px\"}},\"nodeType\":\"DOM\",\"type\":\"node\",\"instanceArgs\":{\"namespace\":\"html\",\"tag\":\"label\"},\"children\":[\"time\"]}]},{\"props\":{\"className\":\"interact-flex-row-center\"},\"nodeType\":\"DOM\",\"type\":\"node\",\"instanceArgs\":{\"namespace\":\"html\",\"tag\":\"div\"},\"children\":[{\"props\":{\"max\":400,\"min\":1,\"attributes\":{\"type\":\"range\",\"data-bind\":\"numericValue: index, valueUpdate: 'input', event: {change: function (){this.changes(this.changes()+1)}}\",\"orient\":\"horizontal\"},\"step\":1,\"className\":\"slider slider is-fullwidth\",\"style\":{}},\"nodeType\":\"DOM\",\"type\":\"node\",\"instanceArgs\":{\"namespace\":\"html\",\"tag\":\"input\"},\"children\":[]}]},{\"props\":{\"className\":\"interact-flex-row-right\"},\"nodeType\":\"DOM\",\"type\":\"node\",\"instanceArgs\":{\"namespace\":\"html\",\"tag\":\"div\"},\"children\":[{\"props\":{\"attributes\":{\"data-bind\":\"text: formatted_val\"}},\"nodeType\":\"DOM\",\"type\":\"node\",\"instanceArgs\":{\"namespace\":\"html\",\"tag\":\"p\"},\"children\":[]}]}]}]}]},{\"props\":{\"className\":\"field interact-widget\"},\"nodeType\":\"DOM\",\"type\":\"node\",\"instanceArgs\":{\"namespace\":\"html\",\"tag\":\"div\"},\"children\":[{\"props\":{},\"nodeType\":\"Scope\",\"type\":\"node\",\"instanceArgs\":{\"imports\":{\"data\":[{\"name\":\"knockout\",\"type\":\"js\",\"url\":\"\\/assetserver\\/727383f2a47bd31570b7da84eee7b022dd6d7c78-knockout.js\"},{\"name\":\"knockout_punches\",\"type\":\"js\",\"url\":\"\\/assetserver\\/382b41b3b1bd9f26f75861d360bad7f8beea211f-knockout_punches.js\"},{\"name\":null,\"type\":\"js\",\"url\":\"\\/assetserver\\/5ab20f1060420992a9b82a65b735dee4d81ef413-all.js\"},{\"name\":null,\"type\":\"css\",\"url\":\"\\/assetserver\\/1cc0ed62837210b80a182cc3676512f895dab686-style.css\"},{\"name\":null,\"type\":\"css\",\"url\":\"\\/assetserver\\/2eee816f616df3549d7044d45e744fbf8d42bfa1-bulma_confined.min.css\"}],\"type\":\"async_block\"},\"id\":\"4237237236618048101\",\"handlers\":{\"changes\":[\"(function (val){return (val!=this.model[\\\"changes\\\"]()) ? (this.valueFromJulia[\\\"changes\\\"]=true, this.model[\\\"changes\\\"](val)) : undefined})\"],\"index\":[\"(function (val){return (val!=this.model[\\\"index\\\"]()) ? (this.valueFromJulia[\\\"index\\\"]=true, this.model[\\\"index\\\"](val)) : undefined})\"]},\"systemjs_options\":null,\"mount_callbacks\":[\"function () {\\n    var handler = (function (ko, koPunches) {\\n    ko.punches.enableAll();\\n    ko.bindingHandlers.numericValue = {\\n        init: function(element, valueAccessor, allBindings, data, context) {\\n            var stringified = ko.observable(ko.unwrap(valueAccessor()));\\n            stringified.subscribe(function(value) {\\n                var val = parseFloat(value);\\n                if (!isNaN(val)) {\\n                    valueAccessor()(val);\\n                }\\n            });\\n            valueAccessor().subscribe(function(value) {\\n                var str = JSON.stringify(value);\\n                if ((str == \\\"0\\\") && ([\\\"-0\\\", \\\"-0.\\\"].indexOf(stringified()) >= 0))\\n                     return;\\n                 if ([\\\"null\\\", \\\"\\\"].indexOf(str) >= 0)\\n                     return;\\n                stringified(str);\\n            });\\n            ko.applyBindingsToNode(\\n                element,\\n                {\\n                    value: stringified,\\n                    valueUpdate: allBindings.get('valueUpdate'),\\n                },\\n                context,\\n            );\\n        }\\n    };\\n    var json_data = {\\\"formatted_vals\\\":[\\\"0.1\\\",\\\"0.2\\\",\\\"0.3\\\",\\\"0.4\\\",\\\"0.5\\\",\\\"0.6\\\",\\\"0.7\\\",\\\"0.8\\\",\\\"0.9\\\",\\\"1.0\\\",\\\"1.1\\\",\\\"1.2\\\",\\\"1.3\\\",\\\"1.4\\\",\\\"1.5\\\",\\\"1.6\\\",\\\"1.7\\\",\\\"1.8\\\",\\\"1.9\\\",\\\"2.0\\\"],\\\"changes\\\":WebIO.getval({\\\"name\\\":\\\"changes\\\",\\\"scope\\\":\\\"4237237236618048101\\\",\\\"id\\\":\\\"6365504458734167159\\\",\\\"type\\\":\\\"observable\\\"}),\\\"index\\\":WebIO.getval({\\\"name\\\":\\\"index\\\",\\\"scope\\\":\\\"4237237236618048101\\\",\\\"id\\\":\\\"4441055223113963627\\\",\\\"type\\\":\\\"observable\\\"})};\\n    var self = this;\\n    function AppViewModel() {\\n        for (var key in json_data) {\\n            var el = json_data[key];\\n            this[key] = Array.isArray(el) ? ko.observableArray(el) : ko.observable(el);\\n        }\\n        \\n        [this[\\\"formatted_val\\\"]=ko.computed(    function(){\\n        return this.formatted_vals()[parseInt(this.index())-(1)];\\n    }\\n,this)]\\n        [this[\\\"changes\\\"].subscribe((function (val){!(this.valueFromJulia[\\\"changes\\\"]) ? (WebIO.setval({\\\"name\\\":\\\"changes\\\",\\\"scope\\\":\\\"4237237236618048101\\\",\\\"id\\\":\\\"6365504458734167159\\\",\\\"type\\\":\\\"observable\\\"},val)) : undefined; return this.valueFromJulia[\\\"changes\\\"]=false}),self),this[\\\"index\\\"].subscribe((function (val){!(this.valueFromJulia[\\\"index\\\"]) ? (WebIO.setval({\\\"name\\\":\\\"index\\\",\\\"scope\\\":\\\"4237237236618048101\\\",\\\"id\\\":\\\"4441055223113963627\\\",\\\"type\\\":\\\"observable\\\"},val)) : undefined; return this.valueFromJulia[\\\"index\\\"]=false}),self)]\\n        \\n    }\\n    self.model = new AppViewModel();\\n    self.valueFromJulia = {};\\n    for (var key in json_data) {\\n        self.valueFromJulia[key] = false;\\n    }\\n    ko.applyBindings(self.model, self.dom);\\n}\\n);\\n    (WebIO.importBlock({\\\"data\\\":[{\\\"name\\\":\\\"knockout\\\",\\\"type\\\":\\\"js\\\",\\\"url\\\":\\\"\\/assetserver\\/727383f2a47bd31570b7da84eee7b022dd6d7c78-knockout.js\\\"},{\\\"name\\\":\\\"knockout_punches\\\",\\\"type\\\":\\\"js\\\",\\\"url\\\":\\\"\\/assetserver\\/382b41b3b1bd9f26f75861d360bad7f8beea211f-knockout_punches.js\\\"}],\\\"type\\\":\\\"async_block\\\"})).then((imports) => handler.apply(this, imports));\\n}\\n\"],\"observables\":{\"changes\":{\"sync\":false,\"id\":\"6365504458734167159\",\"value\":0},\"index\":{\"sync\":true,\"id\":\"4441055223113963627\",\"value\":10}}},\"children\":[{\"props\":{\"className\":\"interact-flex-row interact-widget\"},\"nodeType\":\"DOM\",\"type\":\"node\",\"instanceArgs\":{\"namespace\":\"html\",\"tag\":\"div\"},\"children\":[{\"props\":{\"className\":\"interact-flex-row-left\"},\"nodeType\":\"DOM\",\"type\":\"node\",\"instanceArgs\":{\"namespace\":\"html\",\"tag\":\"div\"},\"children\":[{\"props\":{\"className\":\"interact \",\"style\":{\"padding\":\"5px 10px 0px 10px\"}},\"nodeType\":\"DOM\",\"type\":\"node\",\"instanceArgs\":{\"namespace\":\"html\",\"tag\":\"label\"},\"children\":[\"scale\"]}]},{\"props\":{\"className\":\"interact-flex-row-center\"},\"nodeType\":\"DOM\",\"type\":\"node\",\"instanceArgs\":{\"namespace\":\"html\",\"tag\":\"div\"},\"children\":[{\"props\":{\"max\":20,\"min\":1,\"attributes\":{\"type\":\"range\",\"data-bind\":\"numericValue: index, valueUpdate: 'input', event: {change: function (){this.changes(this.changes()+1)}}\",\"orient\":\"horizontal\"},\"step\":1,\"className\":\"slider slider is-fullwidth\",\"style\":{}},\"nodeType\":\"DOM\",\"type\":\"node\",\"instanceArgs\":{\"namespace\":\"html\",\"tag\":\"input\"},\"children\":[]}]},{\"props\":{\"className\":\"interact-flex-row-right\"},\"nodeType\":\"DOM\",\"type\":\"node\",\"instanceArgs\":{\"namespace\":\"html\",\"tag\":\"div\"},\"children\":[{\"props\":{\"attributes\":{\"data-bind\":\"text: formatted_val\"}},\"nodeType\":\"DOM\",\"type\":\"node\",\"instanceArgs\":{\"namespace\":\"html\",\"tag\":\"p\"},\"children\":[]}]}]}]}]},{\"props\":{\"style\":{\"display\":\"flex\",\"flex-direction\":\"column\"}},\"nodeType\":\"DOM\",\"type\":\"node\",\"instanceArgs\":{\"namespace\":\"html\",\"tag\":\"div\"},\"children\":[]},{\"props\":{\"style\":{\"display\":\"flex\",\"flex-direction\":\"column\"}},\"nodeType\":\"DOM\",\"type\":\"node\",\"instanceArgs\":{\"namespace\":\"html\",\"tag\":\"div\"},\"children\":[{\"props\":{\"className\":\"field interact-widget\"},\"nodeType\":\"DOM\",\"type\":\"node\",\"instanceArgs\":{\"namespace\":\"html\",\"tag\":\"div\"},\"children\":[{\"props\":{},\"nodeType\":\"Scope\",\"type\":\"node\",\"instanceArgs\":{\"imports\":{\"data\":[{\"name\":\"knockout\",\"type\":\"js\",\"url\":\"\\/assetserver\\/727383f2a47bd31570b7da84eee7b022dd6d7c78-knockout.js\"},{\"name\":\"knockout_punches\",\"type\":\"js\",\"url\":\"\\/assetserver\\/382b41b3b1bd9f26f75861d360bad7f8beea211f-knockout_punches.js\"},{\"name\":null,\"type\":\"js\",\"url\":\"\\/assetserver\\/5ab20f1060420992a9b82a65b735dee4d81ef413-all.js\"},{\"name\":null,\"type\":\"css\",\"url\":\"\\/assetserver\\/1cc0ed62837210b80a182cc3676512f895dab686-style.css\"},{\"name\":null,\"type\":\"css\",\"url\":\"\\/assetserver\\/2eee816f616df3549d7044d45e744fbf8d42bfa1-bulma_confined.min.css\"}],\"type\":\"async_block\"},\"id\":\"12257853980028683361\",\"handlers\":{\"changes\":[\"(function (val){return (val!=this.model[\\\"changes\\\"]()) ? (this.valueFromJulia[\\\"changes\\\"]=true, this.model[\\\"changes\\\"](val)) : undefined})\"],\"index\":[\"(function (val){return (val!=this.model[\\\"index\\\"]()) ? (this.valueFromJulia[\\\"index\\\"]=true, this.model[\\\"index\\\"](val)) : undefined})\"]},\"systemjs_options\":null,\"mount_callbacks\":[\"function () {\\n    var handler = (function (ko, koPunches) {\\n    ko.punches.enableAll();\\n    ko.bindingHandlers.numericValue = {\\n        init: function(element, valueAccessor, allBindings, data, context) {\\n            var stringified = ko.observable(ko.unwrap(valueAccessor()));\\n            stringified.subscribe(function(value) {\\n                var val = parseFloat(value);\\n                if (!isNaN(val)) {\\n                    valueAccessor()(val);\\n                }\\n            });\\n            valueAccessor().subscribe(function(value) {\\n                var str = JSON.stringify(value);\\n                if ((str == \\\"0\\\") && ([\\\"-0\\\", \\\"-0.\\\"].indexOf(stringified()) >= 0))\\n                     return;\\n                 if ([\\\"null\\\", \\\"\\\"].indexOf(str) >= 0)\\n                     return;\\n                stringified(str);\\n            });\\n            ko.applyBindingsToNode(\\n                element,\\n                {\\n                    value: stringified,\\n                    valueUpdate: allBindings.get('valueUpdate'),\\n                },\\n                context,\\n            );\\n        }\\n    };\\n    var json_data = {\\\"formatted_vals\\\":[\\\"0.01\\\",\\\"0.11\\\",\\\"0.21\\\",\\\"0.31\\\",\\\"0.41\\\",\\\"0.51\\\",\\\"0.61\\\",\\\"0.71\\\",\\\"0.81\\\",\\\"0.91\\\"],\\\"changes\\\":WebIO.getval({\\\"name\\\":\\\"changes\\\",\\\"scope\\\":\\\"12257853980028683361\\\",\\\"id\\\":\\\"3391842899601830590\\\",\\\"type\\\":\\\"observable\\\"}),\\\"index\\\":WebIO.getval({\\\"name\\\":\\\"index\\\",\\\"scope\\\":\\\"12257853980028683361\\\",\\\"id\\\":\\\"14145847105715862798\\\",\\\"type\\\":\\\"observable\\\"})};\\n    var self = this;\\n    function AppViewModel() {\\n        for (var key in json_data) {\\n            var el = json_data[key];\\n            this[key] = Array.isArray(el) ? ko.observableArray(el) : ko.observable(el);\\n        }\\n        \\n        [this[\\\"formatted_val\\\"]=ko.computed(    function(){\\n        return this.formatted_vals()[parseInt(this.index())-(1)];\\n    }\\n,this)]\\n        [this[\\\"changes\\\"].subscribe((function (val){!(this.valueFromJulia[\\\"changes\\\"]) ? (WebIO.setval({\\\"name\\\":\\\"changes\\\",\\\"scope\\\":\\\"12257853980028683361\\\",\\\"id\\\":\\\"3391842899601830590\\\",\\\"type\\\":\\\"observable\\\"},val)) : undefined; return this.valueFromJulia[\\\"changes\\\"]=false}),self),this[\\\"index\\\"].subscribe((function (val){!(this.valueFromJulia[\\\"index\\\"]) ? (WebIO.setval({\\\"name\\\":\\\"index\\\",\\\"scope\\\":\\\"12257853980028683361\\\",\\\"id\\\":\\\"14145847105715862798\\\",\\\"type\\\":\\\"observable\\\"},val)) : undefined; return this.valueFromJulia[\\\"index\\\"]=false}),self)]\\n        \\n    }\\n    self.model = new AppViewModel();\\n    self.valueFromJulia = {};\\n    for (var key in json_data) {\\n        self.valueFromJulia[key] = false;\\n    }\\n    ko.applyBindings(self.model, self.dom);\\n}\\n);\\n    (WebIO.importBlock({\\\"data\\\":[{\\\"name\\\":\\\"knockout\\\",\\\"type\\\":\\\"js\\\",\\\"url\\\":\\\"\\/assetserver\\/727383f2a47bd31570b7da84eee7b022dd6d7c78-knockout.js\\\"},{\\\"name\\\":\\\"knockout_punches\\\",\\\"type\\\":\\\"js\\\",\\\"url\\\":\\\"\\/assetserver\\/382b41b3b1bd9f26f75861d360bad7f8beea211f-knockout_punches.js\\\"}],\\\"type\\\":\\\"async_block\\\"})).then((imports) => handler.apply(this, imports));\\n}\\n\"],\"observables\":{\"changes\":{\"sync\":false,\"id\":\"3391842899601830590\",\"value\":0},\"index\":{\"sync\":true,\"id\":\"14145847105715862798\",\"value\":5}}},\"children\":[{\"props\":{\"className\":\"interact-flex-row interact-widget\"},\"nodeType\":\"DOM\",\"type\":\"node\",\"instanceArgs\":{\"namespace\":\"html\",\"tag\":\"div\"},\"children\":[{\"props\":{\"className\":\"interact-flex-row-left\"},\"nodeType\":\"DOM\",\"type\":\"node\",\"instanceArgs\":{\"namespace\":\"html\",\"tag\":\"div\"},\"children\":[{\"props\":{\"className\":\"interact \",\"style\":{\"padding\":\"5px 10px 0px 10px\"}},\"nodeType\":\"DOM\",\"type\":\"node\",\"instanceArgs\":{\"namespace\":\"html\",\"tag\":\"label\"},\"children\":[\"min_dis\"]}]},{\"props\":{\"className\":\"interact-flex-row-center\"},\"nodeType\":\"DOM\",\"type\":\"node\",\"instanceArgs\":{\"namespace\":\"html\",\"tag\":\"div\"},\"children\":[{\"props\":{\"max\":10,\"min\":1,\"attributes\":{\"type\":\"range\",\"data-bind\":\"numericValue: index, valueUpdate: 'input', event: {change: function (){this.changes(this.changes()+1)}}\",\"orient\":\"horizontal\"},\"step\":1,\"className\":\"slider slider is-fullwidth\",\"style\":{}},\"nodeType\":\"DOM\",\"type\":\"node\",\"instanceArgs\":{\"namespace\":\"html\",\"tag\":\"input\"},\"children\":[]}]},{\"props\":{\"className\":\"interact-flex-row-right\"},\"nodeType\":\"DOM\",\"type\":\"node\",\"instanceArgs\":{\"namespace\":\"html\",\"tag\":\"div\"},\"children\":[{\"props\":{\"attributes\":{\"data-bind\":\"text: formatted_val\"}},\"nodeType\":\"DOM\",\"type\":\"node\",\"instanceArgs\":{\"namespace\":\"html\",\"tag\":\"p\"},\"children\":[]}]}]}]}]},{\"props\":{\"className\":\"field interact-widget\"},\"nodeType\":\"DOM\",\"type\":\"node\",\"instanceArgs\":{\"namespace\":\"html\",\"tag\":\"div\"},\"children\":[{\"props\":{},\"nodeType\":\"Scope\",\"type\":\"node\",\"instanceArgs\":{\"imports\":{\"data\":[{\"name\":\"knockout\",\"type\":\"js\",\"url\":\"\\/assetserver\\/727383f2a47bd31570b7da84eee7b022dd6d7c78-knockout.js\"},{\"name\":\"knockout_punches\",\"type\":\"js\",\"url\":\"\\/assetserver\\/382b41b3b1bd9f26f75861d360bad7f8beea211f-knockout_punches.js\"},{\"name\":null,\"type\":\"js\",\"url\":\"\\/assetserver\\/5ab20f1060420992a9b82a65b735dee4d81ef413-all.js\"},{\"name\":null,\"type\":\"css\",\"url\":\"\\/assetserver\\/1cc0ed62837210b80a182cc3676512f895dab686-style.css\"},{\"name\":null,\"type\":\"css\",\"url\":\"\\/assetserver\\/2eee816f616df3549d7044d45e744fbf8d42bfa1-bulma_confined.min.css\"}],\"type\":\"async_block\"},\"id\":\"5446039455320707730\",\"handlers\":{\"changes\":[\"(function (val){return (val!=this.model[\\\"changes\\\"]()) ? (this.valueFromJulia[\\\"changes\\\"]=true, this.model[\\\"changes\\\"](val)) : undefined})\"],\"index\":[\"(function (val){return (val!=this.model[\\\"index\\\"]()) ? (this.valueFromJulia[\\\"index\\\"]=true, this.model[\\\"index\\\"](val)) : undefined})\"]},\"systemjs_options\":null,\"mount_callbacks\":[\"function () {\\n    var handler = (function (ko, koPunches) {\\n    ko.punches.enableAll();\\n    ko.bindingHandlers.numericValue = {\\n        init: function(element, valueAccessor, allBindings, data, context) {\\n            var stringified = ko.observable(ko.unwrap(valueAccessor()));\\n            stringified.subscribe(function(value) {\\n                var val = parseFloat(value);\\n                if (!isNaN(val)) {\\n                    valueAccessor()(val);\\n                }\\n            });\\n            valueAccessor().subscribe(function(value) {\\n                var str = JSON.stringify(value);\\n                if ((str == \\\"0\\\") && ([\\\"-0\\\", \\\"-0.\\\"].indexOf(stringified()) >= 0))\\n                     return;\\n                 if ([\\\"null\\\", \\\"\\\"].indexOf(str) >= 0)\\n                     return;\\n                stringified(str);\\n            });\\n            ko.applyBindingsToNode(\\n                element,\\n                {\\n                    value: stringified,\\n                    valueUpdate: allBindings.get('valueUpdate'),\\n                },\\n                context,\\n            );\\n        }\\n    };\\n    var json_data = {\\\"formatted_vals\\\":[\\\"0.01\\\",\\\"0.02\\\",\\\"0.03\\\",\\\"0.04\\\",\\\"0.05\\\",\\\"0.06\\\",\\\"0.07\\\",\\\"0.08\\\",\\\"0.09\\\",\\\"0.1\\\",\\\"0.11\\\",\\\"0.12\\\",\\\"0.13\\\",\\\"0.14\\\",\\\"0.15\\\",\\\"0.16\\\",\\\"0.17\\\",\\\"0.18\\\",\\\"0.19\\\",\\\"0.2\\\",\\\"0.21\\\",\\\"0.22\\\",\\\"0.23\\\",\\\"0.24\\\",\\\"0.25\\\",\\\"0.26\\\",\\\"0.27\\\",\\\"0.28\\\",\\\"0.29\\\",\\\"0.3\\\",\\\"0.31\\\",\\\"0.32\\\",\\\"0.33\\\",\\\"0.34\\\",\\\"0.35\\\",\\\"0.36\\\",\\\"0.37\\\",\\\"0.38\\\",\\\"0.39\\\",\\\"0.4\\\",\\\"0.41\\\",\\\"0.42\\\",\\\"0.43\\\",\\\"0.44\\\",\\\"0.45\\\",\\\"0.46\\\",\\\"0.47\\\",\\\"0.48\\\",\\\"0.49\\\",\\\"0.5\\\",\\\"0.51\\\",\\\"0.52\\\",\\\"0.53\\\",\\\"0.54\\\",\\\"0.55\\\",\\\"0.56\\\",\\\"0.57\\\",\\\"0.58\\\",\\\"0.59\\\",\\\"0.6\\\",\\\"0.61\\\",\\\"0.62\\\",\\\"0.63\\\",\\\"0.64\\\",\\\"0.65\\\",\\\"0.66\\\",\\\"0.67\\\",\\\"0.68\\\",\\\"0.69\\\",\\\"0.7\\\",\\\"0.71\\\",\\\"0.72\\\",\\\"0.73\\\",\\\"0.74\\\",\\\"0.75\\\",\\\"0.76\\\",\\\"0.77\\\",\\\"0.78\\\",\\\"0.79\\\",\\\"0.8\\\",\\\"0.81\\\",\\\"0.82\\\",\\\"0.83\\\",\\\"0.84\\\",\\\"0.85\\\",\\\"0.86\\\",\\\"0.87\\\",\\\"0.88\\\",\\\"0.89\\\",\\\"0.9\\\",\\\"0.91\\\",\\\"0.92\\\",\\\"0.93\\\",\\\"0.94\\\",\\\"0.95\\\",\\\"0.96\\\",\\\"0.97\\\",\\\"0.98\\\",\\\"0.99\\\",\\\"1.0\\\"],\\\"changes\\\":WebIO.getval({\\\"name\\\":\\\"changes\\\",\\\"scope\\\":\\\"5446039455320707730\\\",\\\"id\\\":\\\"9336408801338083863\\\",\\\"type\\\":\\\"observable\\\"}),\\\"index\\\":WebIO.getval({\\\"name\\\":\\\"index\\\",\\\"scope\\\":\\\"5446039455320707730\\\",\\\"id\\\":\\\"2296160853133512702\\\",\\\"type\\\":\\\"observable\\\"})};\\n    var self = this;\\n    function AppViewModel() {\\n        for (var key in json_data) {\\n            var el = json_data[key];\\n            this[key] = Array.isArray(el) ? ko.observableArray(el) : ko.observable(el);\\n        }\\n        \\n        [this[\\\"formatted_val\\\"]=ko.computed(    function(){\\n        return this.formatted_vals()[parseInt(this.index())-(1)];\\n    }\\n,this)]\\n        [this[\\\"changes\\\"].subscribe((function (val){!(this.valueFromJulia[\\\"changes\\\"]) ? (WebIO.setval({\\\"name\\\":\\\"changes\\\",\\\"scope\\\":\\\"5446039455320707730\\\",\\\"id\\\":\\\"9336408801338083863\\\",\\\"type\\\":\\\"observable\\\"},val)) : undefined; return this.valueFromJulia[\\\"changes\\\"]=false}),self),this[\\\"index\\\"].subscribe((function (val){!(this.valueFromJulia[\\\"index\\\"]) ? (WebIO.setval({\\\"name\\\":\\\"index\\\",\\\"scope\\\":\\\"5446039455320707730\\\",\\\"id\\\":\\\"2296160853133512702\\\",\\\"type\\\":\\\"observable\\\"},val)) : undefined; return this.valueFromJulia[\\\"index\\\"]=false}),self)]\\n        \\n    }\\n    self.model = new AppViewModel();\\n    self.valueFromJulia = {};\\n    for (var key in json_data) {\\n        self.valueFromJulia[key] = false;\\n    }\\n    ko.applyBindings(self.model, self.dom);\\n}\\n);\\n    (WebIO.importBlock({\\\"data\\\":[{\\\"name\\\":\\\"knockout\\\",\\\"type\\\":\\\"js\\\",\\\"url\\\":\\\"\\/assetserver\\/727383f2a47bd31570b7da84eee7b022dd6d7c78-knockout.js\\\"},{\\\"name\\\":\\\"knockout_punches\\\",\\\"type\\\":\\\"js\\\",\\\"url\\\":\\\"\\/assetserver\\/382b41b3b1bd9f26f75861d360bad7f8beea211f-knockout_punches.js\\\"}],\\\"type\\\":\\\"async_block\\\"})).then((imports) => handler.apply(this, imports));\\n}\\n\"],\"observables\":{\"changes\":{\"sync\":false,\"id\":\"9336408801338083863\",\"value\":0},\"index\":{\"sync\":true,\"id\":\"2296160853133512702\",\"value\":50}}},\"children\":[{\"props\":{\"className\":\"interact-flex-row interact-widget\"},\"nodeType\":\"DOM\",\"type\":\"node\",\"instanceArgs\":{\"namespace\":\"html\",\"tag\":\"div\"},\"children\":[{\"props\":{\"className\":\"interact-flex-row-left\"},\"nodeType\":\"DOM\",\"type\":\"node\",\"instanceArgs\":{\"namespace\":\"html\",\"tag\":\"div\"},\"children\":[{\"props\":{\"className\":\"interact \",\"style\":{\"padding\":\"5px 10px 0px 10px\"}},\"nodeType\":\"DOM\",\"type\":\"node\",\"instanceArgs\":{\"namespace\":\"html\",\"tag\":\"label\"},\"children\":[\"coh_fac\"]}]},{\"props\":{\"className\":\"interact-flex-row-center\"},\"nodeType\":\"DOM\",\"type\":\"node\",\"instanceArgs\":{\"namespace\":\"html\",\"tag\":\"div\"},\"children\":[{\"props\":{\"max\":100,\"min\":1,\"attributes\":{\"type\":\"range\",\"data-bind\":\"numericValue: index, valueUpdate: 'input', event: {change: function (){this.changes(this.changes()+1)}}\",\"orient\":\"horizontal\"},\"step\":1,\"className\":\"slider slider is-fullwidth\",\"style\":{}},\"nodeType\":\"DOM\",\"type\":\"node\",\"instanceArgs\":{\"namespace\":\"html\",\"tag\":\"input\"},\"children\":[]}]},{\"props\":{\"className\":\"interact-flex-row-right\"},\"nodeType\":\"DOM\",\"type\":\"node\",\"instanceArgs\":{\"namespace\":\"html\",\"tag\":\"div\"},\"children\":[{\"props\":{\"attributes\":{\"data-bind\":\"text: formatted_val\"}},\"nodeType\":\"DOM\",\"type\":\"node\",\"instanceArgs\":{\"namespace\":\"html\",\"tag\":\"p\"},\"children\":[]}]}]}]}]},{\"props\":{\"className\":\"field interact-widget\"},\"nodeType\":\"DOM\",\"type\":\"node\",\"instanceArgs\":{\"namespace\":\"html\",\"tag\":\"div\"},\"children\":[{\"props\":{},\"nodeType\":\"Scope\",\"type\":\"node\",\"instanceArgs\":{\"imports\":{\"data\":[{\"name\":\"knockout\",\"type\":\"js\",\"url\":\"\\/assetserver\\/727383f2a47bd31570b7da84eee7b022dd6d7c78-knockout.js\"},{\"name\":\"knockout_punches\",\"type\":\"js\",\"url\":\"\\/assetserver\\/382b41b3b1bd9f26f75861d360bad7f8beea211f-knockout_punches.js\"},{\"name\":null,\"type\":\"js\",\"url\":\"\\/assetserver\\/5ab20f1060420992a9b82a65b735dee4d81ef413-all.js\"},{\"name\":null,\"type\":\"css\",\"url\":\"\\/assetserver\\/1cc0ed62837210b80a182cc3676512f895dab686-style.css\"},{\"name\":null,\"type\":\"css\",\"url\":\"\\/assetserver\\/2eee816f616df3549d7044d45e744fbf8d42bfa1-bulma_confined.min.css\"}],\"type\":\"async_block\"},\"id\":\"3404355705012955363\",\"handlers\":{\"changes\":[\"(function (val){return (val!=this.model[\\\"changes\\\"]()) ? (this.valueFromJulia[\\\"changes\\\"]=true, this.model[\\\"changes\\\"](val)) : undefined})\"],\"index\":[\"(function (val){return (val!=this.model[\\\"index\\\"]()) ? (this.valueFromJulia[\\\"index\\\"]=true, this.model[\\\"index\\\"](val)) : undefined})\"]},\"systemjs_options\":null,\"mount_callbacks\":[\"function () {\\n    var handler = (function (ko, koPunches) {\\n    ko.punches.enableAll();\\n    ko.bindingHandlers.numericValue = {\\n        init: function(element, valueAccessor, allBindings, data, context) {\\n            var stringified = ko.observable(ko.unwrap(valueAccessor()));\\n            stringified.subscribe(function(value) {\\n                var val = parseFloat(value);\\n                if (!isNaN(val)) {\\n                    valueAccessor()(val);\\n                }\\n            });\\n            valueAccessor().subscribe(function(value) {\\n                var str = JSON.stringify(value);\\n                if ((str == \\\"0\\\") && ([\\\"-0\\\", \\\"-0.\\\"].indexOf(stringified()) >= 0))\\n                     return;\\n                 if ([\\\"null\\\", \\\"\\\"].indexOf(str) >= 0)\\n                     return;\\n                stringified(str);\\n            });\\n            ko.applyBindingsToNode(\\n                element,\\n                {\\n                    value: stringified,\\n                    valueUpdate: allBindings.get('valueUpdate'),\\n                },\\n                context,\\n            );\\n        }\\n    };\\n    var json_data = {\\\"formatted_vals\\\":[\\\"0.01\\\",\\\"0.02\\\",\\\"0.03\\\",\\\"0.04\\\",\\\"0.05\\\",\\\"0.06\\\",\\\"0.07\\\",\\\"0.08\\\",\\\"0.09\\\",\\\"0.1\\\",\\\"0.11\\\",\\\"0.12\\\",\\\"0.13\\\",\\\"0.14\\\",\\\"0.15\\\",\\\"0.16\\\",\\\"0.17\\\",\\\"0.18\\\",\\\"0.19\\\",\\\"0.2\\\",\\\"0.21\\\",\\\"0.22\\\",\\\"0.23\\\",\\\"0.24\\\",\\\"0.25\\\",\\\"0.26\\\",\\\"0.27\\\",\\\"0.28\\\",\\\"0.29\\\",\\\"0.3\\\",\\\"0.31\\\",\\\"0.32\\\",\\\"0.33\\\",\\\"0.34\\\",\\\"0.35\\\",\\\"0.36\\\",\\\"0.37\\\",\\\"0.38\\\",\\\"0.39\\\",\\\"0.4\\\",\\\"0.41\\\",\\\"0.42\\\",\\\"0.43\\\",\\\"0.44\\\",\\\"0.45\\\",\\\"0.46\\\",\\\"0.47\\\",\\\"0.48\\\",\\\"0.49\\\",\\\"0.5\\\",\\\"0.51\\\",\\\"0.52\\\",\\\"0.53\\\",\\\"0.54\\\",\\\"0.55\\\",\\\"0.56\\\",\\\"0.57\\\",\\\"0.58\\\",\\\"0.59\\\",\\\"0.6\\\",\\\"0.61\\\",\\\"0.62\\\",\\\"0.63\\\",\\\"0.64\\\",\\\"0.65\\\",\\\"0.66\\\",\\\"0.67\\\",\\\"0.68\\\",\\\"0.69\\\",\\\"0.7\\\",\\\"0.71\\\",\\\"0.72\\\",\\\"0.73\\\",\\\"0.74\\\",\\\"0.75\\\",\\\"0.76\\\",\\\"0.77\\\",\\\"0.78\\\",\\\"0.79\\\",\\\"0.8\\\",\\\"0.81\\\",\\\"0.82\\\",\\\"0.83\\\",\\\"0.84\\\",\\\"0.85\\\",\\\"0.86\\\",\\\"0.87\\\",\\\"0.88\\\",\\\"0.89\\\",\\\"0.9\\\",\\\"0.91\\\",\\\"0.92\\\",\\\"0.93\\\",\\\"0.94\\\",\\\"0.95\\\",\\\"0.96\\\",\\\"0.97\\\",\\\"0.98\\\",\\\"0.99\\\",\\\"1.0\\\"],\\\"changes\\\":WebIO.getval({\\\"name\\\":\\\"changes\\\",\\\"scope\\\":\\\"3404355705012955363\\\",\\\"id\\\":\\\"6651515142230765482\\\",\\\"type\\\":\\\"observable\\\"}),\\\"index\\\":WebIO.getval({\\\"name\\\":\\\"index\\\",\\\"scope\\\":\\\"3404355705012955363\\\",\\\"id\\\":\\\"11305185395856533466\\\",\\\"type\\\":\\\"observable\\\"})};\\n    var self = this;\\n    function AppViewModel() {\\n        for (var key in json_data) {\\n            var el = json_data[key];\\n            this[key] = Array.isArray(el) ? ko.observableArray(el) : ko.observable(el);\\n        }\\n        \\n        [this[\\\"formatted_val\\\"]=ko.computed(    function(){\\n        return this.formatted_vals()[parseInt(this.index())-(1)];\\n    }\\n,this)]\\n        [this[\\\"changes\\\"].subscribe((function (val){!(this.valueFromJulia[\\\"changes\\\"]) ? (WebIO.setval({\\\"name\\\":\\\"changes\\\",\\\"scope\\\":\\\"3404355705012955363\\\",\\\"id\\\":\\\"6651515142230765482\\\",\\\"type\\\":\\\"observable\\\"},val)) : undefined; return this.valueFromJulia[\\\"changes\\\"]=false}),self),this[\\\"index\\\"].subscribe((function (val){!(this.valueFromJulia[\\\"index\\\"]) ? (WebIO.setval({\\\"name\\\":\\\"index\\\",\\\"scope\\\":\\\"3404355705012955363\\\",\\\"id\\\":\\\"11305185395856533466\\\",\\\"type\\\":\\\"observable\\\"},val)) : undefined; return this.valueFromJulia[\\\"index\\\"]=false}),self)]\\n        \\n    }\\n    self.model = new AppViewModel();\\n    self.valueFromJulia = {};\\n    for (var key in json_data) {\\n        self.valueFromJulia[key] = false;\\n    }\\n    ko.applyBindings(self.model, self.dom);\\n}\\n);\\n    (WebIO.importBlock({\\\"data\\\":[{\\\"name\\\":\\\"knockout\\\",\\\"type\\\":\\\"js\\\",\\\"url\\\":\\\"\\/assetserver\\/727383f2a47bd31570b7da84eee7b022dd6d7c78-knockout.js\\\"},{\\\"name\\\":\\\"knockout_punches\\\",\\\"type\\\":\\\"js\\\",\\\"url\\\":\\\"\\/assetserver\\/382b41b3b1bd9f26f75861d360bad7f8beea211f-knockout_punches.js\\\"}],\\\"type\\\":\\\"async_block\\\"})).then((imports) => handler.apply(this, imports));\\n}\\n\"],\"observables\":{\"changes\":{\"sync\":false,\"id\":\"6651515142230765482\",\"value\":0},\"index\":{\"sync\":true,\"id\":\"11305185395856533466\",\"value\":50}}},\"children\":[{\"props\":{\"className\":\"interact-flex-row interact-widget\"},\"nodeType\":\"DOM\",\"type\":\"node\",\"instanceArgs\":{\"namespace\":\"html\",\"tag\":\"div\"},\"children\":[{\"props\":{\"className\":\"interact-flex-row-left\"},\"nodeType\":\"DOM\",\"type\":\"node\",\"instanceArgs\":{\"namespace\":\"html\",\"tag\":\"div\"},\"children\":[{\"props\":{\"className\":\"interact \",\"style\":{\"padding\":\"5px 10px 0px 10px\"}},\"nodeType\":\"DOM\",\"type\":\"node\",\"instanceArgs\":{\"namespace\":\"html\",\"tag\":\"label\"},\"children\":[\"sep_fac\"]}]},{\"props\":{\"className\":\"interact-flex-row-center\"},\"nodeType\":\"DOM\",\"type\":\"node\",\"instanceArgs\":{\"namespace\":\"html\",\"tag\":\"div\"},\"children\":[{\"props\":{\"max\":100,\"min\":1,\"attributes\":{\"type\":\"range\",\"data-bind\":\"numericValue: index, valueUpdate: 'input', event: {change: function (){this.changes(this.changes()+1)}}\",\"orient\":\"horizontal\"},\"step\":1,\"className\":\"slider slider is-fullwidth\",\"style\":{}},\"nodeType\":\"DOM\",\"type\":\"node\",\"instanceArgs\":{\"namespace\":\"html\",\"tag\":\"input\"},\"children\":[]}]},{\"props\":{\"className\":\"interact-flex-row-right\"},\"nodeType\":\"DOM\",\"type\":\"node\",\"instanceArgs\":{\"namespace\":\"html\",\"tag\":\"div\"},\"children\":[{\"props\":{\"attributes\":{\"data-bind\":\"text: formatted_val\"}},\"nodeType\":\"DOM\",\"type\":\"node\",\"instanceArgs\":{\"namespace\":\"html\",\"tag\":\"p\"},\"children\":[]}]}]}]}]},{\"props\":{\"className\":\"field interact-widget\"},\"nodeType\":\"DOM\",\"type\":\"node\",\"instanceArgs\":{\"namespace\":\"html\",\"tag\":\"div\"},\"children\":[{\"props\":{},\"nodeType\":\"Scope\",\"type\":\"node\",\"instanceArgs\":{\"imports\":{\"data\":[{\"name\":\"knockout\",\"type\":\"js\",\"url\":\"\\/assetserver\\/727383f2a47bd31570b7da84eee7b022dd6d7c78-knockout.js\"},{\"name\":\"knockout_punches\",\"type\":\"js\",\"url\":\"\\/assetserver\\/382b41b3b1bd9f26f75861d360bad7f8beea211f-knockout_punches.js\"},{\"name\":null,\"type\":\"js\",\"url\":\"\\/assetserver\\/5ab20f1060420992a9b82a65b735dee4d81ef413-all.js\"},{\"name\":null,\"type\":\"css\",\"url\":\"\\/assetserver\\/1cc0ed62837210b80a182cc3676512f895dab686-style.css\"},{\"name\":null,\"type\":\"css\",\"url\":\"\\/assetserver\\/2eee816f616df3549d7044d45e744fbf8d42bfa1-bulma_confined.min.css\"}],\"type\":\"async_block\"},\"id\":\"7133436002514717978\",\"handlers\":{\"changes\":[\"(function (val){return (val!=this.model[\\\"changes\\\"]()) ? (this.valueFromJulia[\\\"changes\\\"]=true, this.model[\\\"changes\\\"](val)) : undefined})\"],\"index\":[\"(function (val){return (val!=this.model[\\\"index\\\"]()) ? (this.valueFromJulia[\\\"index\\\"]=true, this.model[\\\"index\\\"](val)) : undefined})\"]},\"systemjs_options\":null,\"mount_callbacks\":[\"function () {\\n    var handler = (function (ko, koPunches) {\\n    ko.punches.enableAll();\\n    ko.bindingHandlers.numericValue = {\\n        init: function(element, valueAccessor, allBindings, data, context) {\\n            var stringified = ko.observable(ko.unwrap(valueAccessor()));\\n            stringified.subscribe(function(value) {\\n                var val = parseFloat(value);\\n                if (!isNaN(val)) {\\n                    valueAccessor()(val);\\n                }\\n            });\\n            valueAccessor().subscribe(function(value) {\\n                var str = JSON.stringify(value);\\n                if ((str == \\\"0\\\") && ([\\\"-0\\\", \\\"-0.\\\"].indexOf(stringified()) >= 0))\\n                     return;\\n                 if ([\\\"null\\\", \\\"\\\"].indexOf(str) >= 0)\\n                     return;\\n                stringified(str);\\n            });\\n            ko.applyBindingsToNode(\\n                element,\\n                {\\n                    value: stringified,\\n                    valueUpdate: allBindings.get('valueUpdate'),\\n                },\\n                context,\\n            );\\n        }\\n    };\\n    var json_data = {\\\"formatted_vals\\\":[\\\"0.01\\\",\\\"0.02\\\",\\\"0.03\\\",\\\"0.04\\\",\\\"0.05\\\",\\\"0.06\\\",\\\"0.07\\\",\\\"0.08\\\",\\\"0.09\\\",\\\"0.1\\\",\\\"0.11\\\",\\\"0.12\\\",\\\"0.13\\\",\\\"0.14\\\",\\\"0.15\\\",\\\"0.16\\\",\\\"0.17\\\",\\\"0.18\\\",\\\"0.19\\\",\\\"0.2\\\",\\\"0.21\\\",\\\"0.22\\\",\\\"0.23\\\",\\\"0.24\\\",\\\"0.25\\\",\\\"0.26\\\",\\\"0.27\\\",\\\"0.28\\\",\\\"0.29\\\",\\\"0.3\\\",\\\"0.31\\\",\\\"0.32\\\",\\\"0.33\\\",\\\"0.34\\\",\\\"0.35\\\",\\\"0.36\\\",\\\"0.37\\\",\\\"0.38\\\",\\\"0.39\\\",\\\"0.4\\\",\\\"0.41\\\",\\\"0.42\\\",\\\"0.43\\\",\\\"0.44\\\",\\\"0.45\\\",\\\"0.46\\\",\\\"0.47\\\",\\\"0.48\\\",\\\"0.49\\\",\\\"0.5\\\",\\\"0.51\\\",\\\"0.52\\\",\\\"0.53\\\",\\\"0.54\\\",\\\"0.55\\\",\\\"0.56\\\",\\\"0.57\\\",\\\"0.58\\\",\\\"0.59\\\",\\\"0.6\\\",\\\"0.61\\\",\\\"0.62\\\",\\\"0.63\\\",\\\"0.64\\\",\\\"0.65\\\",\\\"0.66\\\",\\\"0.67\\\",\\\"0.68\\\",\\\"0.69\\\",\\\"0.7\\\",\\\"0.71\\\",\\\"0.72\\\",\\\"0.73\\\",\\\"0.74\\\",\\\"0.75\\\",\\\"0.76\\\",\\\"0.77\\\",\\\"0.78\\\",\\\"0.79\\\",\\\"0.8\\\",\\\"0.81\\\",\\\"0.82\\\",\\\"0.83\\\",\\\"0.84\\\",\\\"0.85\\\",\\\"0.86\\\",\\\"0.87\\\",\\\"0.88\\\",\\\"0.89\\\",\\\"0.9\\\",\\\"0.91\\\",\\\"0.92\\\",\\\"0.93\\\",\\\"0.94\\\",\\\"0.95\\\",\\\"0.96\\\",\\\"0.97\\\",\\\"0.98\\\",\\\"0.99\\\",\\\"1.0\\\"],\\\"changes\\\":WebIO.getval({\\\"name\\\":\\\"changes\\\",\\\"scope\\\":\\\"7133436002514717978\\\",\\\"id\\\":\\\"7978947125813570428\\\",\\\"type\\\":\\\"observable\\\"}),\\\"index\\\":WebIO.getval({\\\"name\\\":\\\"index\\\",\\\"scope\\\":\\\"7133436002514717978\\\",\\\"id\\\":\\\"939425956942780760\\\",\\\"type\\\":\\\"observable\\\"})};\\n    var self = this;\\n    function AppViewModel() {\\n        for (var key in json_data) {\\n            var el = json_data[key];\\n            this[key] = Array.isArray(el) ? ko.observableArray(el) : ko.observable(el);\\n        }\\n        \\n        [this[\\\"formatted_val\\\"]=ko.computed(    function(){\\n        return this.formatted_vals()[parseInt(this.index())-(1)];\\n    }\\n,this)]\\n        [this[\\\"changes\\\"].subscribe((function (val){!(this.valueFromJulia[\\\"changes\\\"]) ? (WebIO.setval({\\\"name\\\":\\\"changes\\\",\\\"scope\\\":\\\"7133436002514717978\\\",\\\"id\\\":\\\"7978947125813570428\\\",\\\"type\\\":\\\"observable\\\"},val)) : undefined; return this.valueFromJulia[\\\"changes\\\"]=false}),self),this[\\\"index\\\"].subscribe((function (val){!(this.valueFromJulia[\\\"index\\\"]) ? (WebIO.setval({\\\"name\\\":\\\"index\\\",\\\"scope\\\":\\\"7133436002514717978\\\",\\\"id\\\":\\\"939425956942780760\\\",\\\"type\\\":\\\"observable\\\"},val)) : undefined; return this.valueFromJulia[\\\"index\\\"]=false}),self)]\\n        \\n    }\\n    self.model = new AppViewModel();\\n    self.valueFromJulia = {};\\n    for (var key in json_data) {\\n        self.valueFromJulia[key] = false;\\n    }\\n    ko.applyBindings(self.model, self.dom);\\n}\\n);\\n    (WebIO.importBlock({\\\"data\\\":[{\\\"name\\\":\\\"knockout\\\",\\\"type\\\":\\\"js\\\",\\\"url\\\":\\\"\\/assetserver\\/727383f2a47bd31570b7da84eee7b022dd6d7c78-knockout.js\\\"},{\\\"name\\\":\\\"knockout_punches\\\",\\\"type\\\":\\\"js\\\",\\\"url\\\":\\\"\\/assetserver\\/382b41b3b1bd9f26f75861d360bad7f8beea211f-knockout_punches.js\\\"}],\\\"type\\\":\\\"async_block\\\"})).then((imports) => handler.apply(this, imports));\\n}\\n\"],\"observables\":{\"changes\":{\"sync\":false,\"id\":\"7978947125813570428\",\"value\":0},\"index\":{\"sync\":true,\"id\":\"939425956942780760\",\"value\":50}}},\"children\":[{\"props\":{\"className\":\"interact-flex-row interact-widget\"},\"nodeType\":\"DOM\",\"type\":\"node\",\"instanceArgs\":{\"namespace\":\"html\",\"tag\":\"div\"},\"children\":[{\"props\":{\"className\":\"interact-flex-row-left\"},\"nodeType\":\"DOM\",\"type\":\"node\",\"instanceArgs\":{\"namespace\":\"html\",\"tag\":\"div\"},\"children\":[{\"props\":{\"className\":\"interact \",\"style\":{\"padding\":\"5px 10px 0px 10px\"}},\"nodeType\":\"DOM\",\"type\":\"node\",\"instanceArgs\":{\"namespace\":\"html\",\"tag\":\"label\"},\"children\":[\"aln_fac\"]}]},{\"props\":{\"className\":\"interact-flex-row-center\"},\"nodeType\":\"DOM\",\"type\":\"node\",\"instanceArgs\":{\"namespace\":\"html\",\"tag\":\"div\"},\"children\":[{\"props\":{\"max\":100,\"min\":1,\"attributes\":{\"type\":\"range\",\"data-bind\":\"numericValue: index, valueUpdate: 'input', event: {change: function (){this.changes(this.changes()+1)}}\",\"orient\":\"horizontal\"},\"step\":1,\"className\":\"slider slider is-fullwidth\",\"style\":{}},\"nodeType\":\"DOM\",\"type\":\"node\",\"instanceArgs\":{\"namespace\":\"html\",\"tag\":\"input\"},\"children\":[]}]},{\"props\":{\"className\":\"interact-flex-row-right\"},\"nodeType\":\"DOM\",\"type\":\"node\",\"instanceArgs\":{\"namespace\":\"html\",\"tag\":\"div\"},\"children\":[{\"props\":{\"attributes\":{\"data-bind\":\"text: formatted_val\"}},\"nodeType\":\"DOM\",\"type\":\"node\",\"instanceArgs\":{\"namespace\":\"html\",\"tag\":\"p\"},\"children\":[]}]}]}]}]},{\"props\":{\"className\":\"field interact-widget\"},\"nodeType\":\"DOM\",\"type\":\"node\",\"instanceArgs\":{\"namespace\":\"html\",\"tag\":\"div\"},\"children\":[{\"props\":{},\"nodeType\":\"Scope\",\"type\":\"node\",\"instanceArgs\":{\"imports\":{\"data\":[{\"name\":\"knockout\",\"type\":\"js\",\"url\":\"\\/assetserver\\/727383f2a47bd31570b7da84eee7b022dd6d7c78-knockout.js\"},{\"name\":\"knockout_punches\",\"type\":\"js\",\"url\":\"\\/assetserver\\/382b41b3b1bd9f26f75861d360bad7f8beea211f-knockout_punches.js\"},{\"name\":null,\"type\":\"js\",\"url\":\"\\/assetserver\\/5ab20f1060420992a9b82a65b735dee4d81ef413-all.js\"},{\"name\":null,\"type\":\"css\",\"url\":\"\\/assetserver\\/1cc0ed62837210b80a182cc3676512f895dab686-style.css\"},{\"name\":null,\"type\":\"css\",\"url\":\"\\/assetserver\\/2eee816f616df3549d7044d45e744fbf8d42bfa1-bulma_confined.min.css\"}],\"type\":\"async_block\"},\"id\":\"2028373784752530003\",\"handlers\":{\"changes\":[\"(function (val){return (val!=this.model[\\\"changes\\\"]()) ? (this.valueFromJulia[\\\"changes\\\"]=true, this.model[\\\"changes\\\"](val)) : undefined})\"],\"index\":[\"(function (val){return (val!=this.model[\\\"index\\\"]()) ? (this.valueFromJulia[\\\"index\\\"]=true, this.model[\\\"index\\\"](val)) : undefined})\"]},\"systemjs_options\":null,\"mount_callbacks\":[\"function () {\\n    var handler = (function (ko, koPunches) {\\n    ko.punches.enableAll();\\n    ko.bindingHandlers.numericValue = {\\n        init: function(element, valueAccessor, allBindings, data, context) {\\n            var stringified = ko.observable(ko.unwrap(valueAccessor()));\\n            stringified.subscribe(function(value) {\\n                var val = parseFloat(value);\\n                if (!isNaN(val)) {\\n                    valueAccessor()(val);\\n                }\\n            });\\n            valueAccessor().subscribe(function(value) {\\n                var str = JSON.stringify(value);\\n                if ((str == \\\"0\\\") && ([\\\"-0\\\", \\\"-0.\\\"].indexOf(stringified()) >= 0))\\n                     return;\\n                 if ([\\\"null\\\", \\\"\\\"].indexOf(str) >= 0)\\n                     return;\\n                stringified(str);\\n            });\\n            ko.applyBindingsToNode(\\n                element,\\n                {\\n                    value: stringified,\\n                    valueUpdate: allBindings.get('valueUpdate'),\\n                },\\n                context,\\n            );\\n        }\\n    };\\n    var json_data = {\\\"formatted_vals\\\":[\\\"0.5\\\",\\\"1.0\\\",\\\"1.5\\\",\\\"2.0\\\",\\\"2.5\\\",\\\"3.0\\\",\\\"3.5\\\",\\\"4.0\\\"],\\\"changes\\\":WebIO.getval({\\\"name\\\":\\\"changes\\\",\\\"scope\\\":\\\"2028373784752530003\\\",\\\"id\\\":\\\"10078438309862646267\\\",\\\"type\\\":\\\"observable\\\"}),\\\"index\\\":WebIO.getval({\\\"name\\\":\\\"index\\\",\\\"scope\\\":\\\"2028373784752530003\\\",\\\"id\\\":\\\"12542504509499345197\\\",\\\"type\\\":\\\"observable\\\"})};\\n    var self = this;\\n    function AppViewModel() {\\n        for (var key in json_data) {\\n            var el = json_data[key];\\n            this[key] = Array.isArray(el) ? ko.observableArray(el) : ko.observable(el);\\n        }\\n        \\n        [this[\\\"formatted_val\\\"]=ko.computed(    function(){\\n        return this.formatted_vals()[parseInt(this.index())-(1)];\\n    }\\n,this)]\\n        [this[\\\"changes\\\"].subscribe((function (val){!(this.valueFromJulia[\\\"changes\\\"]) ? (WebIO.setval({\\\"name\\\":\\\"changes\\\",\\\"scope\\\":\\\"2028373784752530003\\\",\\\"id\\\":\\\"10078438309862646267\\\",\\\"type\\\":\\\"observable\\\"},val)) : undefined; return this.valueFromJulia[\\\"changes\\\"]=false}),self),this[\\\"index\\\"].subscribe((function (val){!(this.valueFromJulia[\\\"index\\\"]) ? (WebIO.setval({\\\"name\\\":\\\"index\\\",\\\"scope\\\":\\\"2028373784752530003\\\",\\\"id\\\":\\\"12542504509499345197\\\",\\\"type\\\":\\\"observable\\\"},val)) : undefined; return this.valueFromJulia[\\\"index\\\"]=false}),self)]\\n        \\n    }\\n    self.model = new AppViewModel();\\n    self.valueFromJulia = {};\\n    for (var key in json_data) {\\n        self.valueFromJulia[key] = false;\\n    }\\n    ko.applyBindings(self.model, self.dom);\\n}\\n);\\n    (WebIO.importBlock({\\\"data\\\":[{\\\"name\\\":\\\"knockout\\\",\\\"type\\\":\\\"js\\\",\\\"url\\\":\\\"\\/assetserver\\/727383f2a47bd31570b7da84eee7b022dd6d7c78-knockout.js\\\"},{\\\"name\\\":\\\"knockout_punches\\\",\\\"type\\\":\\\"js\\\",\\\"url\\\":\\\"\\/assetserver\\/382b41b3b1bd9f26f75861d360bad7f8beea211f-knockout_punches.js\\\"}],\\\"type\\\":\\\"async_block\\\"})).then((imports) => handler.apply(this, imports));\\n}\\n\"],\"observables\":{\"changes\":{\"sync\":false,\"id\":\"10078438309862646267\",\"value\":0},\"index\":{\"sync\":true,\"id\":\"12542504509499345197\",\"value\":4}}},\"children\":[{\"props\":{\"className\":\"interact-flex-row interact-widget\"},\"nodeType\":\"DOM\",\"type\":\"node\",\"instanceArgs\":{\"namespace\":\"html\",\"tag\":\"div\"},\"children\":[{\"props\":{\"className\":\"interact-flex-row-left\"},\"nodeType\":\"DOM\",\"type\":\"node\",\"instanceArgs\":{\"namespace\":\"html\",\"tag\":\"div\"},\"children\":[{\"props\":{\"className\":\"interact \",\"style\":{\"padding\":\"5px 10px 0px 10px\"}},\"nodeType\":\"DOM\",\"type\":\"node\",\"instanceArgs\":{\"namespace\":\"html\",\"tag\":\"label\"},\"children\":[\"vis_range\"]}]},{\"props\":{\"className\":\"interact-flex-row-center\"},\"nodeType\":\"DOM\",\"type\":\"node\",\"instanceArgs\":{\"namespace\":\"html\",\"tag\":\"div\"},\"children\":[{\"props\":{\"max\":8,\"min\":1,\"attributes\":{\"type\":\"range\",\"data-bind\":\"numericValue: index, valueUpdate: 'input', event: {change: function (){this.changes(this.changes()+1)}}\",\"orient\":\"horizontal\"},\"step\":1,\"className\":\"slider slider is-fullwidth\",\"style\":{}},\"nodeType\":\"DOM\",\"type\":\"node\",\"instanceArgs\":{\"namespace\":\"html\",\"tag\":\"input\"},\"children\":[]}]},{\"props\":{\"className\":\"interact-flex-row-right\"},\"nodeType\":\"DOM\",\"type\":\"node\",\"instanceArgs\":{\"namespace\":\"html\",\"tag\":\"div\"},\"children\":[{\"props\":{\"attributes\":{\"data-bind\":\"text: formatted_val\"}},\"nodeType\":\"DOM\",\"type\":\"node\",\"instanceArgs\":{\"namespace\":\"html\",\"tag\":\"p\"},\"children\":[]}]}]}]}]}]},{\"props\":{\"style\":{\"display\":\"flex\",\"flex-direction\":\"row\"}},\"nodeType\":\"DOM\",\"type\":\"node\",\"instanceArgs\":{\"namespace\":\"html\",\"tag\":\"div\"},\"children\":[{\"props\":{\"className\":\"interact-widget\"},\"nodeType\":\"DOM\",\"type\":\"node\",\"instanceArgs\":{\"namespace\":\"html\",\"tag\":\"div\"},\"children\":[{\"props\":{},\"nodeType\":\"Scope\",\"type\":\"node\",\"instanceArgs\":{\"imports\":{\"data\":[{\"name\":null,\"type\":\"js\",\"url\":\"\\/assetserver\\/dd22ed1bf1896c2748f3fe616ce0b838adc895c1-katex.min.js\"},{\"name\":null,\"type\":\"css\",\"url\":\"\\/assetserver\\/46517a424aa5e6cffc1360d7e0848b601c584ee3-katex.min.css\"}],\"type\":\"async_block\"},\"id\":\"2237905486978684187\",\"handlers\":{\"value\":[\"(function (txt){return this.k.render(txt,this.container)})\"]},\"systemjs_options\":null,\"mount_callbacks\":[\"function () {\\n    var handler = ((function (k){this.k=k; this.container=this.dom.querySelector(\\\"#container\\\"); return k.render(\\\"\\\\\\\\;\\\\\\\\;\\\",this.container)}));\\n    (WebIO.importBlock({\\\"data\\\":[{\\\"name\\\":null,\\\"type\\\":\\\"js\\\",\\\"url\\\":\\\"\\/assetserver\\/dd22ed1bf1896c2748f3fe616ce0b838adc895c1-katex.min.js\\\"},{\\\"name\\\":null,\\\"type\\\":\\\"css\\\",\\\"url\\\":\\\"\\/assetserver\\/46517a424aa5e6cffc1360d7e0848b601c584ee3-katex.min.css\\\"}],\\\"type\\\":\\\"async_block\\\"})).then((imports) => handler.apply(this, imports));\\n}\\n\"],\"observables\":{\"value\":{\"sync\":false,\"id\":\"11742944188247469914\",\"value\":\"\\\\;\\\\;\"}}},\"children\":[{\"props\":{\"id\":\"container\"},\"nodeType\":\"DOM\",\"type\":\"node\",\"instanceArgs\":{\"namespace\":\"html\",\"tag\":\"div\"},\"children\":[]}]}]},{\"props\":{\"className\":\"field interact-widget\"},\"nodeType\":\"DOM\",\"type\":\"node\",\"instanceArgs\":{\"namespace\":\"html\",\"tag\":\"div\"},\"children\":[{\"props\":{},\"nodeType\":\"Scope\",\"type\":\"node\",\"instanceArgs\":{\"imports\":{\"data\":[{\"name\":\"knockout\",\"type\":\"js\",\"url\":\"\\/assetserver\\/727383f2a47bd31570b7da84eee7b022dd6d7c78-knockout.js\"},{\"name\":\"knockout_punches\",\"type\":\"js\",\"url\":\"\\/assetserver\\/382b41b3b1bd9f26f75861d360bad7f8beea211f-knockout_punches.js\"},{\"name\":null,\"type\":\"js\",\"url\":\"\\/assetserver\\/5ab20f1060420992a9b82a65b735dee4d81ef413-all.js\"},{\"name\":null,\"type\":\"css\",\"url\":\"\\/assetserver\\/1cc0ed62837210b80a182cc3676512f895dab686-style.css\"},{\"name\":null,\"type\":\"css\",\"url\":\"\\/assetserver\\/2eee816f616df3549d7044d45e744fbf8d42bfa1-bulma_confined.min.css\"}],\"type\":\"async_block\"},\"id\":\"2928077452663894263\",\"handlers\":{\"loading\":[\"(function (val){return (val!=this.model[\\\"loading\\\"]()) ? (this.valueFromJulia[\\\"loading\\\"]=true, this.model[\\\"loading\\\"](val)) : undefined})\"],\"clicks\":[\"(function (val){return (val!=this.model[\\\"clicks\\\"]()) ? (this.valueFromJulia[\\\"clicks\\\"]=true, this.model[\\\"clicks\\\"](val)) : undefined})\"]},\"systemjs_options\":null,\"mount_callbacks\":[\"function () {\\n    var handler = (function (ko, koPunches) {\\n    ko.punches.enableAll();\\n    ko.bindingHandlers.numericValue = {\\n        init: function(element, valueAccessor, allBindings, data, context) {\\n            var stringified = ko.observable(ko.unwrap(valueAccessor()));\\n            stringified.subscribe(function(value) {\\n                var val = parseFloat(value);\\n                if (!isNaN(val)) {\\n                    valueAccessor()(val);\\n                }\\n            });\\n            valueAccessor().subscribe(function(value) {\\n                var str = JSON.stringify(value);\\n                if ((str == \\\"0\\\") && ([\\\"-0\\\", \\\"-0.\\\"].indexOf(stringified()) >= 0))\\n                     return;\\n                 if ([\\\"null\\\", \\\"\\\"].indexOf(str) >= 0)\\n                     return;\\n                stringified(str);\\n            });\\n            ko.applyBindingsToNode(\\n                element,\\n                {\\n                    value: stringified,\\n                    valueUpdate: allBindings.get('valueUpdate'),\\n                },\\n                context,\\n            );\\n        }\\n    };\\n    var json_data = {\\\"loading\\\":WebIO.getval({\\\"name\\\":\\\"loading\\\",\\\"scope\\\":\\\"2928077452663894263\\\",\\\"id\\\":\\\"1276883144041200722\\\",\\\"type\\\":\\\"observable\\\"}),\\\"clicks\\\":WebIO.getval({\\\"name\\\":\\\"clicks\\\",\\\"scope\\\":\\\"2928077452663894263\\\",\\\"id\\\":\\\"8390091486119135520\\\",\\\"type\\\":\\\"observable\\\"})};\\n    var self = this;\\n    function AppViewModel() {\\n        for (var key in json_data) {\\n            var el = json_data[key];\\n            this[key] = Array.isArray(el) ? ko.observableArray(el) : ko.observable(el);\\n        }\\n        \\n        \\n        [this[\\\"loading\\\"].subscribe((function (val){!(this.valueFromJulia[\\\"loading\\\"]) ? (WebIO.setval({\\\"name\\\":\\\"loading\\\",\\\"scope\\\":\\\"2928077452663894263\\\",\\\"id\\\":\\\"1276883144041200722\\\",\\\"type\\\":\\\"observable\\\"},val)) : undefined; return this.valueFromJulia[\\\"loading\\\"]=false}),self),this[\\\"clicks\\\"].subscribe((function (val){!(this.valueFromJulia[\\\"clicks\\\"]) ? (WebIO.setval({\\\"name\\\":\\\"clicks\\\",\\\"scope\\\":\\\"2928077452663894263\\\",\\\"id\\\":\\\"8390091486119135520\\\",\\\"type\\\":\\\"observable\\\"},val)) : undefined; return this.valueFromJulia[\\\"clicks\\\"]=false}),self)]\\n        \\n    }\\n    self.model = new AppViewModel();\\n    self.valueFromJulia = {};\\n    for (var key in json_data) {\\n        self.valueFromJulia[key] = false;\\n    }\\n    ko.applyBindings(self.model, self.dom);\\n}\\n);\\n    (WebIO.importBlock({\\\"data\\\":[{\\\"name\\\":\\\"knockout\\\",\\\"type\\\":\\\"js\\\",\\\"url\\\":\\\"\\/assetserver\\/727383f2a47bd31570b7da84eee7b022dd6d7c78-knockout.js\\\"},{\\\"name\\\":\\\"knockout_punches\\\",\\\"type\\\":\\\"js\\\",\\\"url\\\":\\\"\\/assetserver\\/382b41b3b1bd9f26f75861d360bad7f8beea211f-knockout_punches.js\\\"}],\\\"type\\\":\\\"async_block\\\"})).then((imports) => handler.apply(this, imports));\\n}\\n\"],\"observables\":{\"loading\":{\"sync\":false,\"id\":\"1276883144041200722\",\"value\":false},\"clicks\":{\"sync\":true,\"id\":\"8390091486119135520\",\"value\":0}}},\"children\":[{\"props\":{\"attributes\":{\"data-bind\":\"click: function (){this.clicks(this.clicks()+1)}, css: {'is-loading' : loading}\"},\"className\":\"is-medium button is-primary\",\"style\":{}},\"nodeType\":\"DOM\",\"type\":\"node\",\"instanceArgs\":{\"namespace\":\"html\",\"tag\":\"button\"},\"children\":[\"run\"]}]}]},{\"props\":{\"className\":\"interact-widget\"},\"nodeType\":\"DOM\",\"type\":\"node\",\"instanceArgs\":{\"namespace\":\"html\",\"tag\":\"div\"},\"children\":[{\"props\":{},\"nodeType\":\"Scope\",\"type\":\"node\",\"instanceArgs\":{\"imports\":{\"data\":[{\"name\":null,\"type\":\"js\",\"url\":\"\\/assetserver\\/dd22ed1bf1896c2748f3fe616ce0b838adc895c1-katex.min.js\"},{\"name\":null,\"type\":\"css\",\"url\":\"\\/assetserver\\/46517a424aa5e6cffc1360d7e0848b601c584ee3-katex.min.css\"}],\"type\":\"async_block\"},\"id\":\"2237905486978684187\",\"handlers\":{\"value\":[\"(function (txt){return this.k.render(txt,this.container)})\"]},\"systemjs_options\":null,\"mount_callbacks\":[\"function () {\\n    var handler = ((function (k){this.k=k; this.container=this.dom.querySelector(\\\"#container\\\"); return k.render(\\\"\\\\\\\\;\\\\\\\\;\\\",this.container)}));\\n    (WebIO.importBlock({\\\"data\\\":[{\\\"name\\\":null,\\\"type\\\":\\\"js\\\",\\\"url\\\":\\\"\\/assetserver\\/dd22ed1bf1896c2748f3fe616ce0b838adc895c1-katex.min.js\\\"},{\\\"name\\\":null,\\\"type\\\":\\\"css\\\",\\\"url\\\":\\\"\\/assetserver\\/46517a424aa5e6cffc1360d7e0848b601c584ee3-katex.min.css\\\"}],\\\"type\\\":\\\"async_block\\\"})).then((imports) => handler.apply(this, imports));\\n}\\n\"],\"observables\":{\"value\":{\"sync\":false,\"id\":\"11742944188247469914\",\"value\":\"\\\\;\\\\;\"}}},\"children\":[{\"props\":{\"id\":\"container\"},\"nodeType\":\"DOM\",\"type\":\"node\",\"instanceArgs\":{\"namespace\":\"html\",\"tag\":\"div\"},\"children\":[]}]}]},{\"props\":{\"className\":\"field interact-widget\"},\"nodeType\":\"DOM\",\"type\":\"node\",\"instanceArgs\":{\"namespace\":\"html\",\"tag\":\"div\"},\"children\":[{\"props\":{},\"nodeType\":\"Scope\",\"type\":\"node\",\"instanceArgs\":{\"imports\":{\"data\":[{\"name\":\"knockout\",\"type\":\"js\",\"url\":\"\\/assetserver\\/727383f2a47bd31570b7da84eee7b022dd6d7c78-knockout.js\"},{\"name\":\"knockout_punches\",\"type\":\"js\",\"url\":\"\\/assetserver\\/382b41b3b1bd9f26f75861d360bad7f8beea211f-knockout_punches.js\"},{\"name\":null,\"type\":\"js\",\"url\":\"\\/assetserver\\/5ab20f1060420992a9b82a65b735dee4d81ef413-all.js\"},{\"name\":null,\"type\":\"css\",\"url\":\"\\/assetserver\\/1cc0ed62837210b80a182cc3676512f895dab686-style.css\"},{\"name\":null,\"type\":\"css\",\"url\":\"\\/assetserver\\/2eee816f616df3549d7044d45e744fbf8d42bfa1-bulma_confined.min.css\"}],\"type\":\"async_block\"},\"id\":\"10587971008092242619\",\"handlers\":{\"loading\":[\"(function (val){return (val!=this.model[\\\"loading\\\"]()) ? (this.valueFromJulia[\\\"loading\\\"]=true, this.model[\\\"loading\\\"](val)) : undefined})\"],\"clicks\":[\"(function (val){return (val!=this.model[\\\"clicks\\\"]()) ? (this.valueFromJulia[\\\"clicks\\\"]=true, this.model[\\\"clicks\\\"](val)) : undefined})\"]},\"systemjs_options\":null,\"mount_callbacks\":[\"function () {\\n    var handler = (function (ko, koPunches) {\\n    ko.punches.enableAll();\\n    ko.bindingHandlers.numericValue = {\\n        init: function(element, valueAccessor, allBindings, data, context) {\\n            var stringified = ko.observable(ko.unwrap(valueAccessor()));\\n            stringified.subscribe(function(value) {\\n                var val = parseFloat(value);\\n                if (!isNaN(val)) {\\n                    valueAccessor()(val);\\n                }\\n            });\\n            valueAccessor().subscribe(function(value) {\\n                var str = JSON.stringify(value);\\n                if ((str == \\\"0\\\") && ([\\\"-0\\\", \\\"-0.\\\"].indexOf(stringified()) >= 0))\\n                     return;\\n                 if ([\\\"null\\\", \\\"\\\"].indexOf(str) >= 0)\\n                     return;\\n                stringified(str);\\n            });\\n            ko.applyBindingsToNode(\\n                element,\\n                {\\n                    value: stringified,\\n                    valueUpdate: allBindings.get('valueUpdate'),\\n                },\\n                context,\\n            );\\n        }\\n    };\\n    var json_data = {\\\"loading\\\":WebIO.getval({\\\"name\\\":\\\"loading\\\",\\\"scope\\\":\\\"10587971008092242619\\\",\\\"id\\\":\\\"646155095254376215\\\",\\\"type\\\":\\\"observable\\\"}),\\\"clicks\\\":WebIO.getval({\\\"name\\\":\\\"clicks\\\",\\\"scope\\\":\\\"10587971008092242619\\\",\\\"id\\\":\\\"8697393303913021736\\\",\\\"type\\\":\\\"observable\\\"})};\\n    var self = this;\\n    function AppViewModel() {\\n        for (var key in json_data) {\\n            var el = json_data[key];\\n            this[key] = Array.isArray(el) ? ko.observableArray(el) : ko.observable(el);\\n        }\\n        \\n        \\n        [this[\\\"loading\\\"].subscribe((function (val){!(this.valueFromJulia[\\\"loading\\\"]) ? (WebIO.setval({\\\"name\\\":\\\"loading\\\",\\\"scope\\\":\\\"10587971008092242619\\\",\\\"id\\\":\\\"646155095254376215\\\",\\\"type\\\":\\\"observable\\\"},val)) : undefined; return this.valueFromJulia[\\\"loading\\\"]=false}),self),this[\\\"clicks\\\"].subscribe((function (val){!(this.valueFromJulia[\\\"clicks\\\"]) ? (WebIO.setval({\\\"name\\\":\\\"clicks\\\",\\\"scope\\\":\\\"10587971008092242619\\\",\\\"id\\\":\\\"8697393303913021736\\\",\\\"type\\\":\\\"observable\\\"},val)) : undefined; return this.valueFromJulia[\\\"clicks\\\"]=false}),self)]\\n        \\n    }\\n    self.model = new AppViewModel();\\n    self.valueFromJulia = {};\\n    for (var key in json_data) {\\n        self.valueFromJulia[key] = false;\\n    }\\n    ko.applyBindings(self.model, self.dom);\\n}\\n);\\n    (WebIO.importBlock({\\\"data\\\":[{\\\"name\\\":\\\"knockout\\\",\\\"type\\\":\\\"js\\\",\\\"url\\\":\\\"\\/assetserver\\/727383f2a47bd31570b7da84eee7b022dd6d7c78-knockout.js\\\"},{\\\"name\\\":\\\"knockout_punches\\\",\\\"type\\\":\\\"js\\\",\\\"url\\\":\\\"\\/assetserver\\/382b41b3b1bd9f26f75861d360bad7f8beea211f-knockout_punches.js\\\"}],\\\"type\\\":\\\"async_block\\\"})).then((imports) => handler.apply(this, imports));\\n}\\n\"],\"observables\":{\"loading\":{\"sync\":false,\"id\":\"646155095254376215\",\"value\":false},\"clicks\":{\"sync\":true,\"id\":\"8697393303913021736\",\"value\":0}}},\"children\":[{\"props\":{\"attributes\":{\"data-bind\":\"click: function (){this.clicks(this.clicks()+1)}, css: {'is-loading' : loading}\"},\"className\":\"is-medium button is-primary\",\"style\":{}},\"nodeType\":\"DOM\",\"type\":\"node\",\"instanceArgs\":{\"namespace\":\"html\",\"tag\":\"button\"},\"children\":[\"stop\"]}]}]},{\"props\":{\"className\":\"interact-widget\"},\"nodeType\":\"DOM\",\"type\":\"node\",\"instanceArgs\":{\"namespace\":\"html\",\"tag\":\"div\"},\"children\":[{\"props\":{},\"nodeType\":\"Scope\",\"type\":\"node\",\"instanceArgs\":{\"imports\":{\"data\":[{\"name\":null,\"type\":\"js\",\"url\":\"\\/assetserver\\/dd22ed1bf1896c2748f3fe616ce0b838adc895c1-katex.min.js\"},{\"name\":null,\"type\":\"css\",\"url\":\"\\/assetserver\\/46517a424aa5e6cffc1360d7e0848b601c584ee3-katex.min.css\"}],\"type\":\"async_block\"},\"id\":\"2237905486978684187\",\"handlers\":{\"value\":[\"(function (txt){return this.k.render(txt,this.container)})\"]},\"systemjs_options\":null,\"mount_callbacks\":[\"function () {\\n    var handler = ((function (k){this.k=k; this.container=this.dom.querySelector(\\\"#container\\\"); return k.render(\\\"\\\\\\\\;\\\\\\\\;\\\",this.container)}));\\n    (WebIO.importBlock({\\\"data\\\":[{\\\"name\\\":null,\\\"type\\\":\\\"js\\\",\\\"url\\\":\\\"\\/assetserver\\/dd22ed1bf1896c2748f3fe616ce0b838adc895c1-katex.min.js\\\"},{\\\"name\\\":null,\\\"type\\\":\\\"css\\\",\\\"url\\\":\\\"\\/assetserver\\/46517a424aa5e6cffc1360d7e0848b601c584ee3-katex.min.css\\\"}],\\\"type\\\":\\\"async_block\\\"})).then((imports) => handler.apply(this, imports));\\n}\\n\"],\"observables\":{\"value\":{\"sync\":false,\"id\":\"11742944188247469914\",\"value\":\"\\\\;\\\\;\"}}},\"children\":[{\"props\":{\"id\":\"container\"},\"nodeType\":\"DOM\",\"type\":\"node\",\"instanceArgs\":{\"namespace\":\"html\",\"tag\":\"div\"},\"children\":[]}]}]},{\"props\":{\"className\":\"field interact-widget\"},\"nodeType\":\"DOM\",\"type\":\"node\",\"instanceArgs\":{\"namespace\":\"html\",\"tag\":\"div\"},\"children\":[{\"props\":{},\"nodeType\":\"Scope\",\"type\":\"node\",\"instanceArgs\":{\"imports\":{\"data\":[{\"name\":\"knockout\",\"type\":\"js\",\"url\":\"\\/assetserver\\/727383f2a47bd31570b7da84eee7b022dd6d7c78-knockout.js\"},{\"name\":\"knockout_punches\",\"type\":\"js\",\"url\":\"\\/assetserver\\/382b41b3b1bd9f26f75861d360bad7f8beea211f-knockout_punches.js\"},{\"name\":null,\"type\":\"js\",\"url\":\"\\/assetserver\\/5ab20f1060420992a9b82a65b735dee4d81ef413-all.js\"},{\"name\":null,\"type\":\"css\",\"url\":\"\\/assetserver\\/1cc0ed62837210b80a182cc3676512f895dab686-style.css\"},{\"name\":null,\"type\":\"css\",\"url\":\"\\/assetserver\\/2eee816f616df3549d7044d45e744fbf8d42bfa1-bulma_confined.min.css\"}],\"type\":\"async_block\"},\"id\":\"3799604427850947112\",\"handlers\":{\"loading\":[\"(function (val){return (val!=this.model[\\\"loading\\\"]()) ? (this.valueFromJulia[\\\"loading\\\"]=true, this.model[\\\"loading\\\"](val)) : undefined})\"],\"clicks\":[\"(function (val){return (val!=this.model[\\\"clicks\\\"]()) ? (this.valueFromJulia[\\\"clicks\\\"]=true, this.model[\\\"clicks\\\"](val)) : undefined})\"]},\"systemjs_options\":null,\"mount_callbacks\":[\"function () {\\n    var handler = (function (ko, koPunches) {\\n    ko.punches.enableAll();\\n    ko.bindingHandlers.numericValue = {\\n        init: function(element, valueAccessor, allBindings, data, context) {\\n            var stringified = ko.observable(ko.unwrap(valueAccessor()));\\n            stringified.subscribe(function(value) {\\n                var val = parseFloat(value);\\n                if (!isNaN(val)) {\\n                    valueAccessor()(val);\\n                }\\n            });\\n            valueAccessor().subscribe(function(value) {\\n                var str = JSON.stringify(value);\\n                if ((str == \\\"0\\\") && ([\\\"-0\\\", \\\"-0.\\\"].indexOf(stringified()) >= 0))\\n                     return;\\n                 if ([\\\"null\\\", \\\"\\\"].indexOf(str) >= 0)\\n                     return;\\n                stringified(str);\\n            });\\n            ko.applyBindingsToNode(\\n                element,\\n                {\\n                    value: stringified,\\n                    valueUpdate: allBindings.get('valueUpdate'),\\n                },\\n                context,\\n            );\\n        }\\n    };\\n    var json_data = {\\\"loading\\\":WebIO.getval({\\\"name\\\":\\\"loading\\\",\\\"scope\\\":\\\"3799604427850947112\\\",\\\"id\\\":\\\"2200832967505118946\\\",\\\"type\\\":\\\"observable\\\"}),\\\"clicks\\\":WebIO.getval({\\\"name\\\":\\\"clicks\\\",\\\"scope\\\":\\\"3799604427850947112\\\",\\\"id\\\":\\\"5885449822031143807\\\",\\\"type\\\":\\\"observable\\\"})};\\n    var self = this;\\n    function AppViewModel() {\\n        for (var key in json_data) {\\n            var el = json_data[key];\\n            this[key] = Array.isArray(el) ? ko.observableArray(el) : ko.observable(el);\\n        }\\n        \\n        \\n        [this[\\\"loading\\\"].subscribe((function (val){!(this.valueFromJulia[\\\"loading\\\"]) ? (WebIO.setval({\\\"name\\\":\\\"loading\\\",\\\"scope\\\":\\\"3799604427850947112\\\",\\\"id\\\":\\\"2200832967505118946\\\",\\\"type\\\":\\\"observable\\\"},val)) : undefined; return this.valueFromJulia[\\\"loading\\\"]=false}),self),this[\\\"clicks\\\"].subscribe((function (val){!(this.valueFromJulia[\\\"clicks\\\"]) ? (WebIO.setval({\\\"name\\\":\\\"clicks\\\",\\\"scope\\\":\\\"3799604427850947112\\\",\\\"id\\\":\\\"5885449822031143807\\\",\\\"type\\\":\\\"observable\\\"},val)) : undefined; return this.valueFromJulia[\\\"clicks\\\"]=false}),self)]\\n        \\n    }\\n    self.model = new AppViewModel();\\n    self.valueFromJulia = {};\\n    for (var key in json_data) {\\n        self.valueFromJulia[key] = false;\\n    }\\n    ko.applyBindings(self.model, self.dom);\\n}\\n);\\n    (WebIO.importBlock({\\\"data\\\":[{\\\"name\\\":\\\"knockout\\\",\\\"type\\\":\\\"js\\\",\\\"url\\\":\\\"\\/assetserver\\/727383f2a47bd31570b7da84eee7b022dd6d7c78-knockout.js\\\"},{\\\"name\\\":\\\"knockout_punches\\\",\\\"type\\\":\\\"js\\\",\\\"url\\\":\\\"\\/assetserver\\/382b41b3b1bd9f26f75861d360bad7f8beea211f-knockout_punches.js\\\"}],\\\"type\\\":\\\"async_block\\\"})).then((imports) => handler.apply(this, imports));\\n}\\n\"],\"observables\":{\"loading\":{\"sync\":false,\"id\":\"2200832967505118946\",\"value\":false},\"clicks\":{\"sync\":true,\"id\":\"5885449822031143807\",\"value\":0}}},\"children\":[{\"props\":{\"attributes\":{\"data-bind\":\"click: function (){this.clicks(this.clicks()+1)}, css: {'is-loading' : loading}\"},\"className\":\"is-medium button is-primary\",\"style\":{}},\"nodeType\":\"DOM\",\"type\":\"node\",\"instanceArgs\":{\"namespace\":\"html\",\"tag\":\"button\"},\"children\":[\"reset\"]}]}]},{\"props\":{\"className\":\"interact-widget\"},\"nodeType\":\"DOM\",\"type\":\"node\",\"instanceArgs\":{\"namespace\":\"html\",\"tag\":\"div\"},\"children\":[{\"props\":{},\"nodeType\":\"Scope\",\"type\":\"node\",\"instanceArgs\":{\"imports\":{\"data\":[{\"name\":null,\"type\":\"js\",\"url\":\"\\/assetserver\\/dd22ed1bf1896c2748f3fe616ce0b838adc895c1-katex.min.js\"},{\"name\":null,\"type\":\"css\",\"url\":\"\\/assetserver\\/46517a424aa5e6cffc1360d7e0848b601c584ee3-katex.min.css\"}],\"type\":\"async_block\"},\"id\":\"2237905486978684187\",\"handlers\":{\"value\":[\"(function (txt){return this.k.render(txt,this.container)})\"]},\"systemjs_options\":null,\"mount_callbacks\":[\"function () {\\n    var handler = ((function (k){this.k=k; this.container=this.dom.querySelector(\\\"#container\\\"); return k.render(\\\"\\\\\\\\;\\\\\\\\;\\\",this.container)}));\\n    (WebIO.importBlock({\\\"data\\\":[{\\\"name\\\":null,\\\"type\\\":\\\"js\\\",\\\"url\\\":\\\"\\/assetserver\\/dd22ed1bf1896c2748f3fe616ce0b838adc895c1-katex.min.js\\\"},{\\\"name\\\":null,\\\"type\\\":\\\"css\\\",\\\"url\\\":\\\"\\/assetserver\\/46517a424aa5e6cffc1360d7e0848b601c584ee3-katex.min.css\\\"}],\\\"type\\\":\\\"async_block\\\"})).then((imports) => handler.apply(this, imports));\\n}\\n\"],\"observables\":{\"value\":{\"sync\":false,\"id\":\"11742944188247469914\",\"value\":\"\\\\;\\\\;\"}}},\"children\":[{\"props\":{\"id\":\"container\"},\"nodeType\":\"DOM\",\"type\":\"node\",\"instanceArgs\":{\"namespace\":\"html\",\"tag\":\"div\"},\"children\":[]}]}]},{\"props\":{\"className\":\"field interact-widget\"},\"nodeType\":\"DOM\",\"type\":\"node\",\"instanceArgs\":{\"namespace\":\"html\",\"tag\":\"div\"},\"children\":[{\"props\":{},\"nodeType\":\"Scope\",\"type\":\"node\",\"instanceArgs\":{\"imports\":{\"data\":[{\"name\":\"knockout\",\"type\":\"js\",\"url\":\"\\/assetserver\\/727383f2a47bd31570b7da84eee7b022dd6d7c78-knockout.js\"},{\"name\":\"knockout_punches\",\"type\":\"js\",\"url\":\"\\/assetserver\\/382b41b3b1bd9f26f75861d360bad7f8beea211f-knockout_punches.js\"},{\"name\":null,\"type\":\"js\",\"url\":\"\\/assetserver\\/5ab20f1060420992a9b82a65b735dee4d81ef413-all.js\"},{\"name\":null,\"type\":\"css\",\"url\":\"\\/assetserver\\/1cc0ed62837210b80a182cc3676512f895dab686-style.css\"},{\"name\":null,\"type\":\"css\",\"url\":\"\\/assetserver\\/2eee816f616df3549d7044d45e744fbf8d42bfa1-bulma_confined.min.css\"}],\"type\":\"async_block\"},\"id\":\"6043610289983087438\",\"handlers\":{\"loading\":[\"(function (val){return (val!=this.model[\\\"loading\\\"]()) ? (this.valueFromJulia[\\\"loading\\\"]=true, this.model[\\\"loading\\\"](val)) : undefined})\"],\"clicks\":[\"(function (val){return (val!=this.model[\\\"clicks\\\"]()) ? (this.valueFromJulia[\\\"clicks\\\"]=true, this.model[\\\"clicks\\\"](val)) : undefined})\"]},\"systemjs_options\":null,\"mount_callbacks\":[\"function () {\\n    var handler = (function (ko, koPunches) {\\n    ko.punches.enableAll();\\n    ko.bindingHandlers.numericValue = {\\n        init: function(element, valueAccessor, allBindings, data, context) {\\n            var stringified = ko.observable(ko.unwrap(valueAccessor()));\\n            stringified.subscribe(function(value) {\\n                var val = parseFloat(value);\\n                if (!isNaN(val)) {\\n                    valueAccessor()(val);\\n                }\\n            });\\n            valueAccessor().subscribe(function(value) {\\n                var str = JSON.stringify(value);\\n                if ((str == \\\"0\\\") && ([\\\"-0\\\", \\\"-0.\\\"].indexOf(stringified()) >= 0))\\n                     return;\\n                 if ([\\\"null\\\", \\\"\\\"].indexOf(str) >= 0)\\n                     return;\\n                stringified(str);\\n            });\\n            ko.applyBindingsToNode(\\n                element,\\n                {\\n                    value: stringified,\\n                    valueUpdate: allBindings.get('valueUpdate'),\\n                },\\n                context,\\n            );\\n        }\\n    };\\n    var json_data = {\\\"loading\\\":WebIO.getval({\\\"name\\\":\\\"loading\\\",\\\"scope\\\":\\\"6043610289983087438\\\",\\\"id\\\":\\\"12513624496733151371\\\",\\\"type\\\":\\\"observable\\\"}),\\\"clicks\\\":WebIO.getval({\\\"name\\\":\\\"clicks\\\",\\\"scope\\\":\\\"6043610289983087438\\\",\\\"id\\\":\\\"5883580828349962945\\\",\\\"type\\\":\\\"observable\\\"})};\\n    var self = this;\\n    function AppViewModel() {\\n        for (var key in json_data) {\\n            var el = json_data[key];\\n            this[key] = Array.isArray(el) ? ko.observableArray(el) : ko.observable(el);\\n        }\\n        \\n        \\n        [this[\\\"loading\\\"].subscribe((function (val){!(this.valueFromJulia[\\\"loading\\\"]) ? (WebIO.setval({\\\"name\\\":\\\"loading\\\",\\\"scope\\\":\\\"6043610289983087438\\\",\\\"id\\\":\\\"12513624496733151371\\\",\\\"type\\\":\\\"observable\\\"},val)) : undefined; return this.valueFromJulia[\\\"loading\\\"]=false}),self),this[\\\"clicks\\\"].subscribe((function (val){!(this.valueFromJulia[\\\"clicks\\\"]) ? (WebIO.setval({\\\"name\\\":\\\"clicks\\\",\\\"scope\\\":\\\"6043610289983087438\\\",\\\"id\\\":\\\"5883580828349962945\\\",\\\"type\\\":\\\"observable\\\"},val)) : undefined; return this.valueFromJulia[\\\"clicks\\\"]=false}),self)]\\n        \\n    }\\n    self.model = new AppViewModel();\\n    self.valueFromJulia = {};\\n    for (var key in json_data) {\\n        self.valueFromJulia[key] = false;\\n    }\\n    ko.applyBindings(self.model, self.dom);\\n}\\n);\\n    (WebIO.importBlock({\\\"data\\\":[{\\\"name\\\":\\\"knockout\\\",\\\"type\\\":\\\"js\\\",\\\"url\\\":\\\"\\/assetserver\\/727383f2a47bd31570b7da84eee7b022dd6d7c78-knockout.js\\\"},{\\\"name\\\":\\\"knockout_punches\\\",\\\"type\\\":\\\"js\\\",\\\"url\\\":\\\"\\/assetserver\\/382b41b3b1bd9f26f75861d360bad7f8beea211f-knockout_punches.js\\\"}],\\\"type\\\":\\\"async_block\\\"})).then((imports) => handler.apply(this, imports));\\n}\\n\"],\"observables\":{\"loading\":{\"sync\":false,\"id\":\"12513624496733151371\",\"value\":false},\"clicks\":{\"sync\":true,\"id\":\"5883580828349962945\",\"value\":0}}},\"children\":[{\"props\":{\"attributes\":{\"data-bind\":\"click: function (){this.clicks(this.clicks()+1)}, css: {'is-loading' : loading}\"},\"className\":\"is-medium button is-primary\",\"style\":{}},\"nodeType\":\"DOM\",\"type\":\"node\",\"instanceArgs\":{\"namespace\":\"html\",\"tag\":\"button\"},\"children\":[\"save\"]}]}]}]}]},{\"props\":{\"className\":\"interact-widget\"},\"nodeType\":\"DOM\",\"type\":\"node\",\"instanceArgs\":{\"namespace\":\"html\",\"tag\":\"div\"},\"children\":[{\"props\":{},\"nodeType\":\"Scope\",\"type\":\"node\",\"instanceArgs\":{\"imports\":{\"data\":[{\"name\":null,\"type\":\"js\",\"url\":\"\\/assetserver\\/dd22ed1bf1896c2748f3fe616ce0b838adc895c1-katex.min.js\"},{\"name\":null,\"type\":\"css\",\"url\":\"\\/assetserver\\/46517a424aa5e6cffc1360d7e0848b601c584ee3-katex.min.css\"}],\"type\":\"async_block\"},\"id\":\"2237905486978684187\",\"handlers\":{\"value\":[\"(function (txt){return this.k.render(txt,this.container)})\"]},\"systemjs_options\":null,\"mount_callbacks\":[\"function () {\\n    var handler = ((function (k){this.k=k; this.container=this.dom.querySelector(\\\"#container\\\"); return k.render(\\\"\\\\\\\\;\\\\\\\\;\\\",this.container)}));\\n    (WebIO.importBlock({\\\"data\\\":[{\\\"name\\\":null,\\\"type\\\":\\\"js\\\",\\\"url\\\":\\\"\\/assetserver\\/dd22ed1bf1896c2748f3fe616ce0b838adc895c1-katex.min.js\\\"},{\\\"name\\\":null,\\\"type\\\":\\\"css\\\",\\\"url\\\":\\\"\\/assetserver\\/46517a424aa5e6cffc1360d7e0848b601c584ee3-katex.min.css\\\"}],\\\"type\\\":\\\"async_block\\\"})).then((imports) => handler.apply(this, imports));\\n}\\n\"],\"observables\":{\"value\":{\"sync\":false,\"id\":\"11742944188247469914\",\"value\":\"\\\\;\\\\;\"}}},\"children\":[{\"props\":{\"id\":\"container\"},\"nodeType\":\"DOM\",\"type\":\"node\",\"instanceArgs\":{\"namespace\":\"html\",\"tag\":\"div\"},\"children\":[]}]}]},{\"props\":{},\"nodeType\":\"Scope\",\"type\":\"node\",\"instanceArgs\":{\"imports\":{\"data\":[],\"type\":\"async_block\"},\"id\":\"13812000066500296932\",\"handlers\":{\"obs-output\":[\"function (value, scope) {\\n    scope.setInnerHTML(value);\\n}\\n\"]},\"systemjs_options\":null,\"mount_callbacks\":[],\"observables\":{\"obs-output\":{\"sync\":false,\"id\":\"17712823990240006869\",\"value\":\"<img src='data:image\\/png;base64,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'><\\/img>\"}}},\"children\":[{\"props\":{\"className\":\"webio-observable\",\"setInnerHtml\":\"<img src='data:image\\/png;base64,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'><\\/img>\"},\"nodeType\":\"DOM\",\"type\":\"node\",\"instanceArgs\":{\"namespace\":\"html\",\"tag\":\"div\"},\"children\":[]}]},{\"props\":{\"className\":\"interact-widget\"},\"nodeType\":\"DOM\",\"type\":\"node\",\"instanceArgs\":{\"namespace\":\"html\",\"tag\":\"div\"},\"children\":[{\"props\":{},\"nodeType\":\"Scope\",\"type\":\"node\",\"instanceArgs\":{\"imports\":{\"data\":[{\"name\":null,\"type\":\"js\",\"url\":\"\\/assetserver\\/dd22ed1bf1896c2748f3fe616ce0b838adc895c1-katex.min.js\"},{\"name\":null,\"type\":\"css\",\"url\":\"\\/assetserver\\/46517a424aa5e6cffc1360d7e0848b601c584ee3-katex.min.css\"}],\"type\":\"async_block\"},\"id\":\"2237905486978684187\",\"handlers\":{\"value\":[\"(function (txt){return this.k.render(txt,this.container)})\"]},\"systemjs_options\":null,\"mount_callbacks\":[\"function () {\\n    var handler = ((function (k){this.k=k; this.container=this.dom.querySelector(\\\"#container\\\"); return k.render(\\\"\\\\\\\\;\\\\\\\\;\\\",this.container)}));\\n    (WebIO.importBlock({\\\"data\\\":[{\\\"name\\\":null,\\\"type\\\":\\\"js\\\",\\\"url\\\":\\\"\\/assetserver\\/dd22ed1bf1896c2748f3fe616ce0b838adc895c1-katex.min.js\\\"},{\\\"name\\\":null,\\\"type\\\":\\\"css\\\",\\\"url\\\":\\\"\\/assetserver\\/46517a424aa5e6cffc1360d7e0848b601c584ee3-katex.min.css\\\"}],\\\"type\\\":\\\"async_block\\\"})).then((imports) => handler.apply(this, imports));\\n}\\n\"],\"observables\":{\"value\":{\"sync\":false,\"id\":\"11742944188247469914\",\"value\":\"\\\\;\\\\;\"}}},\"children\":[{\"props\":{\"id\":\"container\"},\"nodeType\":\"DOM\",\"type\":\"node\",\"instanceArgs\":{\"namespace\":\"html\",\"tag\":\"div\"},\"children\":[]}]}]},{\"props\":{\"style\":{\"display\":\"flex\",\"flex-direction\":\"column\"}},\"nodeType\":\"DOM\",\"type\":\"node\",\"instanceArgs\":{\"namespace\":\"html\",\"tag\":\"div\"},\"children\":[]}]}]},\n",
       "        window,\n",
       "    );\n",
       "    })()\n",
       "    </script>\n",
       "</div>\n"
      ],
      "text/plain": [
       "WebIO.Node{WebIO.DOM}(WebIO.DOM(:html, :div), Any[WebIO.Node{WebIO.DOM}(WebIO.DOM(:html, :div), Any[WebIO.Node{WebIO.DOM}(WebIO.DOM(:html, :div), Any[WebIO.Node{WebIO.DOM}(WebIO.DOM(:html, :div), Any[WebIO.Scope(WebIO.Node{WebIO.DOM}(WebIO.DOM(:html, :div), Any[WebIO.Node{WebIO.DOM}(WebIO.DOM(:html, :div), Any[WebIO.Node{WebIO.DOM}(WebIO.DOM(:html, :label), Any[\"time\"], Dict{Symbol, Any}(:className => \"interact \", :style => Dict{Any, Any}(:padding => \"5px 10px 0px 10px\")))], Dict{Symbol, Any}(:className => \"interact-flex-row-left\")), WebIO.Node{WebIO.DOM}(WebIO.DOM(:html, :div), Any[WebIO.Node{WebIO.DOM}(WebIO.DOM(:html, :input), Any[], Dict{Symbol, Any}(:max => 400, :min => 1, :attributes => Dict{Any, Any}(:type => \"range\", Symbol(\"data-bind\") => \"numericValue: index, valueUpdate: 'input', event: {change: function (){this.changes(this.changes()+1)}}\", \"orient\" => \"horizontal\"), :step => 1, :className => \"slider slider is-fullwidth\", :style => Dict{Any, Any}()))], Dict{Symbol, Any}(:className => \"interact-flex-row-center\")), WebIO.Node{WebIO.DOM}(WebIO.DOM(:html, :div), Any[WebIO.Node{WebIO.DOM}(WebIO.DOM(:html, :p), Any[], Dict{Symbol, Any}(:attributes => Dict(\"data-bind\" => \"text: formatted_val\")))], Dict{Symbol, Any}(:className => \"interact-flex-row-right\"))], Dict{Symbol, Any}(:className => \"interact-flex-row interact-widget\")), Dict{String, Tuple{Observables.AbstractObservable, Union{Nothing, Bool}}}(\"changes\" => (Observable(0), nothing), \"index\" => (Observable(1), nothing)), Set{String}(), nothing, WebIO.Asset[WebIO.Asset(\"js\", \"knockout\", \"/home/dushya/.julia/packages/Knockout/HReiN/src/../assets/knockout.js\"), WebIO.Asset(\"js\", \"knockout_punches\", \"/home/dushya/.julia/packages/Knockout/HReiN/src/../assets/knockout_punches.js\"), WebIO.Asset(\"js\", nothing, \"/home/dushya/.julia/packages/InteractBase/LJXv3/src/../assets/all.js\"), WebIO.Asset(\"css\", nothing, \"/home/dushya/.julia/packages/InteractBase/LJXv3/src/../assets/style.css\"), WebIO.Asset(\"css\", nothing, \"/home/dushya/.julia/packages/Interact/PENUy/src/../assets/bulma_confined.min.css\")], Dict{Any, Any}(\"changes\" => Any[WebIO.JSString(\"(function (val){return (val!=this.model[\\\"changes\\\"]()) ? (this.valueFromJulia[\\\"changes\\\"]=true, this.model[\\\"changes\\\"](val)) : undefined})\")], \"index\" => Any[WebIO.JSString(\"(function (val){return (val!=this.model[\\\"index\\\"]()) ? (this.valueFromJulia[\\\"index\\\"]=true, this.model[\\\"index\\\"](val)) : undefined})\")]), WebIO.ConnectionPool(Channel{Any}(32), Set{WebIO.AbstractConnection}(), Base.GenericCondition{ReentrantLock}(Base.IntrusiveLinkedList{Task}(Task (runnable) @0x00007fec1c0f6ef0, Task (runnable) @0x00007fec1c0f6ef0), ReentrantLock(nothing, 0x00000000, 0x00, Base.GenericCondition{Base.Threads.SpinLock}(Base.IntrusiveLinkedList{Task}(nothing, nothing), Base.Threads.SpinLock(0)), (0, 0, 413254885399)))), WebIO.JSString[WebIO.JSString(\"function () {\\n    var handler = (function (ko, koPunches) {\\n    ko.punches.enableAll();\\n    ko.bindingHandlers.numericValue = {\\n        init: function(element, valueAccessor, allBindings, data, context) {\\n            var stringified = ko.observable(ko.unwrap(valueAccessor()));\\n            stringified.subscribe(function(value) {\\n                var val = parseFloat(value);\\n                if (!isNaN(val)) {\\n                    valueAccessor()(val);\\n                }\\n            });\\n            valueAccessor().subscribe(function(value) {\\n                var str = JSON.stringify(value);\\n                if ((str == \\\"0\\\") && ([\\\"-0\\\", \\\"-0.\\\"].indexOf(stringified()) >= 0))\\n                     return;\\n                 if ([\\\"null\\\", \\\"\\\"].indexOf(str) >= 0)\\n                     return;\\n                stringified(str);\\n            });\\n            ko.applyBindingsToNode(\\n                element,\\n                {\\n                    value: stringified,\\n                    valueUpdate: allBindings.get('valueUpdate'),\\n                },\\n                context,\\n            );\\n        }\\n    };\\n    var json_data = {\\\"formatted_vals\\\":[\\\"1\\\",\\\"2\\\",\\\"3\\\",\\\"4\\\",\\\"5\\\",\\\"6\\\",\\\"7\\\",\\\"8\\\",\\\"9\\\",\\\"10\\\",\\\"11\\\",\\\"12\\\",\\\"13\\\",\\\"14\\\",\\\"15\\\",\\\"16\\\",\\\"17\\\",\\\"18\\\",\\\"19\\\",\\\"20\\\",\\\"21\\\",\\\"22\\\",\\\"23\\\",\\\"24\\\",\\\"25\\\",\\\"26\\\",\\\"27\\\",\\\"28\\\",\\\"29\\\",\\\"30\\\",\\\"31\\\",\\\"32\\\",\\\"33\\\",\\\"34\\\",\\\"35\\\",\\\"36\\\",\\\"37\\\",\\\"38\\\",\\\"39\\\",\\\"40\\\",\\\"41\\\",\\\"42\\\",\\\"43\\\",\\\"44\\\",\\\"45\\\",\\\"46\\\",\\\"47\\\",\\\"48\\\",\\\"49\\\",\\\"50\\\",\\\"51\\\",\\\"52\\\",\\\"53\\\",\\\"54\\\",\\\"55\\\",\\\"56\\\",\\\"57\\\",\\\"58\\\",\\\"59\\\",\\\"60\\\",\\\"61\\\",\\\"62\\\",\\\"63\\\",\\\"64\\\",\\\"65\\\",\\\"66\\\",\\\"67\\\",\\\"68\\\",\\\"69\\\",\\\"70\\\",\\\"71\\\",\\\"72\\\",\\\"73\\\",\\\"74\\\",\\\"75\\\",\\\"76\\\",\\\"77\\\",\\\"78\\\",\\\"79\\\",\\\"80\\\",\\\"81\\\",\\\"82\\\",\\\"83\\\",\\\"84\\\",\\\"85\\\",\\\"86\\\",\\\"87\\\",\\\"88\\\",\\\"89\\\",\\\"90\\\",\\\"91\\\",\\\"92\\\",\\\"93\\\",\\\"94\\\",\\\"95\\\",\\\"96\\\",\\\"97\\\",\\\"98\\\",\\\"99\\\",\\\"100\\\",\\\"101\\\",\\\"102\\\",\\\"103\\\",\\\"104\\\",\\\"105\\\",\\\"106\\\",\\\"107\\\",\\\"108\\\",\\\"109\\\",\\\"110\\\",\\\"111\\\",\\\"112\\\",\\\"113\\\",\\\"114\\\",\\\"115\\\",\\\"116\\\",\\\"117\\\",\\\"118\\\",\\\"119\\\",\\\"120\\\",\\\"121\\\",\\\"122\\\",\\\"123\\\",\\\"124\\\",\\\"125\\\",\\\"126\\\",\\\"127\\\",\\\"128\\\",\\\"129\\\",\\\"130\\\",\\\"131\\\",\\\"132\\\",\\\"133\\\",\\\"134\\\",\\\"135\\\",\\\"136\\\",\\\"137\\\",\\\"138\\\",\\\"139\\\",\\\"140\\\",\\\"141\\\",\\\"142\\\",\\\"143\\\",\\\"144\\\",\\\"145\\\",\\\"146\\\",\\\"147\\\",\\\"148\\\",\\\"149\\\",\\\"150\\\",\\\"151\\\",\\\"152\\\",\\\"153\\\",\\\"154\\\",\\\"155\\\",\\\"156\\\",\\\"157\\\",\\\"158\\\",\\\"159\\\",\\\"160\\\",\\\"161\\\",\\\"162\\\",\\\"163\\\",\\\"164\\\",\\\"165\\\",\\\"166\\\",\\\"167\\\",\\\"168\\\",\\\"169\\\",\\\"170\\\",\\\"171\\\",\\\"172\\\",\\\"173\\\",\\\"174\\\",\\\"175\\\",\\\"176\\\",\\\"177\\\",\\\"178\\\",\\\"179\\\",\\\"180\\\",\\\"181\\\",\\\"182\\\",\\\"183\\\",\\\"184\\\",\\\"185\\\",\\\"186\\\",\\\"187\\\",\\\"188\\\",\\\"189\\\",\\\"190\\\",\\\"191\\\",\\\"192\\\",\\\"193\\\",\\\"194\\\",\\\"195\\\",\\\"196\\\",\\\"197\\\",\\\"198\\\",\\\"199\\\",\\\"200\\\",\\\"201\\\",\\\"202\\\",\\\"203\\\",\\\"204\\\",\\\"205\\\",\\\"206\\\",\\\"207\\\",\\\"208\\\",\\\"209\\\",\\\"210\\\",\\\"211\\\",\\\"212\\\",\\\"213\\\",\\\"214\\\",\\\"215\\\",\\\"216\\\",\\\"217\\\",\\\"218\\\",\\\"219\\\",\\\"220\\\",\\\"221\\\",\\\"222\\\",\\\"223\\\",\\\"224\\\",\\\"225\\\",\\\"226\\\",\\\"227\\\",\\\"228\\\",\\\"229\\\",\\\"230\\\",\\\"231\\\",\\\"232\\\",\\\"233\\\",\\\"234\\\",\\\"235\\\",\\\"236\\\",\\\"237\\\",\\\"238\\\",\\\"239\\\",\\\"240\\\",\\\"241\\\",\\\"242\\\",\\\"243\\\",\\\"244\\\",\\\"245\\\",\\\"246\\\",\\\"247\\\",\\\"248\\\",\\\"249\\\",\\\"250\\\",\\\"251\\\",\\\"252\\\",\\\"253\\\",\\\"254\\\",\\\"255\\\",\\\"256\\\",\\\"257\\\",\\\"258\\\",\\\"259\\\",\\\"260\\\",\\\"261\\\",\\\"262\\\",\\\"263\\\",\\\"264\\\",\\\"265\\\",\\\"266\\\",\\\"267\\\",\\\"268\\\",\\\"269\\\",\\\"270\\\",\\\"271\\\",\\\"272\\\",\\\"273\\\",\\\"274\\\",\\\"275\\\",\\\"276\\\",\\\"277\\\",\\\"278\\\",\\\"279\\\",\\\"280\\\",\\\"281\\\",\\\"282\\\",\\\"283\\\",\\\"284\\\",\\\"285\\\",\\\"286\\\",\\\"287\\\",\\\"288\\\",\\\"289\\\",\\\"290\\\",\\\"291\\\",\\\"292\\\",\\\"293\\\",\\\"294\\\",\\\"295\\\",\\\"296\\\",\\\"297\\\",\\\"298\\\",\\\"299\\\",\\\"300\\\",\\\"301\\\",\\\"302\\\",\\\"303\\\",\\\"304\\\",\\\"305\\\",\\\"306\\\",\\\"307\\\",\\\"308\\\",\\\"309\\\",\\\"310\\\",\\\"311\\\",\\\"312\\\",\\\"313\\\",\\\"314\\\",\\\"315\\\",\\\"316\\\",\\\"317\\\",\\\"318\\\",\\\"319\\\",\\\"320\\\",\\\"321\\\",\\\"322\\\",\\\"323\\\",\\\"324\\\",\\\"325\\\",\\\"326\\\",\\\"327\\\",\\\"328\\\",\\\"329\\\",\\\"330\\\",\\\"331\\\",\\\"332\\\",\\\"333\\\",\\\"334\\\",\\\"335\\\",\\\"336\\\",\\\"337\\\",\\\"338\\\",\\\"339\\\",\\\"340\\\",\\\"341\\\",\\\"342\\\",\\\"343\\\",\\\"344\\\",\\\"345\\\",\\\"346\\\",\\\"347\\\",\\\"348\\\",\\\"349\\\",\\\"350\\\",\\\"351\\\",\\\"352\\\",\\\"353\\\",\\\"354\\\",\\\"355\\\",\\\"356\\\",\\\"357\\\",\\\"358\\\",\\\"359\\\",\\\"360\\\",\\\"361\\\",\\\"362\\\",\\\"363\\\",\\\"364\\\",\\\"365\\\",\\\"366\\\",\\\"367\\\",\\\"368\\\",\\\"369\\\",\\\"370\\\",\\\"371\\\",\\\"372\\\",\\\"373\\\",\\\"374\\\",\\\"375\\\",\\\"376\\\",\\\"377\\\",\\\"378\\\",\\\"379\\\",\\\"380\\\",\\\"381\\\",\\\"382\\\",\\\"383\\\",\\\"384\\\",\\\"385\\\",\\\"386\\\",\\\"387\\\",\\\"388\\\",\\\"389\\\",\\\"390\\\",\\\"391\\\",\\\"392\\\",\\\"393\\\",\\\"394\\\",\\\"395\\\",\\\"396\\\",\\\"397\\\",\\\"398\\\",\\\"399\\\",\\\"400\\\"],\\\"changes\\\":WebIO.getval({\\\"name\\\":\\\"changes\\\",\\\"scope\\\":\\\"8746307638663650372\\\",\\\"id\\\":\\\"1515802111544610454\\\",\\\"type\\\":\\\"observable\\\"}),\\\"index\\\":WebIO.getval({\\\"name\\\":\\\"index\\\",\\\"scope\\\":\\\"8746307638663650372\\\",\\\"id\\\":\\\"6222358758526903392\\\",\\\"type\\\":\\\"observable\\\"})};\\n    var self = this;\\n    function AppViewModel() {\\n        for (var key in json_data) {\\n            var el = json_data[key];\\n            this[key] = Array.isArray(el) ? ko.observableArray(el) : ko.observable(el);\\n        }\\n        \\n        [this[\\\"formatted_val\\\"]=ko.computed(    function(){\\n        return this.formatted_vals()[parseInt(this.index())-(1)];\\n    }\\n,this)]\\n        [this[\\\"changes\\\"].subscribe((function (val){!(this.valueFromJulia[\\\"changes\\\"]) ? (WebIO.setval({\\\"name\\\":\\\"changes\\\",\\\"scope\\\":\\\"8746307638663650372\\\",\\\"id\\\":\\\"1515802111544610454\\\",\\\"type\\\":\\\"observable\\\"},val)) : undefined; return this.valueFromJulia[\\\"changes\\\"]=false}),self),this[\\\"index\\\"].subscribe((function (val){!(this.valueFromJulia[\\\"index\\\"]) ? (WebIO.setval({\\\"name\\\":\\\"index\\\",\\\"scope\\\":\\\"8746307638663650372\\\",\\\"id\\\":\\\"6222358758526903392\\\",\\\"type\\\":\\\"observable\\\"},val)) : undefined; return this.valueFromJulia[\\\"index\\\"]=false}),self)]\\n        \\n    }\\n    self.model = new AppViewModel();\\n    self.valueFromJulia = {};\\n    for (var key in json_data) {\\n        self.valueFromJulia[key] = false;\\n    }\\n    ko.applyBindings(self.model, self.dom);\\n}\\n);\\n    (WebIO.importBlock({\\\"data\\\":[{\\\"name\\\":\\\"knockout\\\",\\\"type\\\":\\\"js\\\",\\\"url\\\":\\\"/assetserver/727383f2a47bd31570b7da84eee7b022dd6d7c78-knockout.js\\\"},{\\\"name\\\":\\\"knockout_punches\\\",\\\"type\\\":\\\"js\\\",\\\"url\\\":\\\"/assetserver/382b41b3b1bd9f26f75861d360bad7f8beea211f-knockout_punches.js\\\"}],\\\"type\\\":\\\"async_block\\\"})).then((imports) => handler.apply(this, imports));\\n}\\n\")])], Dict{Symbol, Any}(:className => \"field interact-widget\")), WebIO.Node{WebIO.DOM}(WebIO.DOM(:html, :div), Any[WebIO.Scope(WebIO.Node{WebIO.DOM}(WebIO.DOM(:html, :div), Any[WebIO.Node{WebIO.DOM}(WebIO.DOM(:html, :div), Any[WebIO.Node{WebIO.DOM}(WebIO.DOM(:html, :label), Any[\"scale\"], Dict{Symbol, Any}(:className => \"interact \", :style => Dict{Any, Any}(:padding => \"5px 10px 0px 10px\")))], Dict{Symbol, Any}(:className => \"interact-flex-row-left\")), WebIO.Node{WebIO.DOM}(WebIO.DOM(:html, :div), Any[WebIO.Node{WebIO.DOM}(WebIO.DOM(:html, :input), Any[], Dict{Symbol, Any}(:max => 20, :min => 1, :attributes => Dict{Any, Any}(:type => \"range\", Symbol(\"data-bind\") => \"numericValue: index, valueUpdate: 'input', event: {change: function (){this.changes(this.changes()+1)}}\", \"orient\" => \"horizontal\"), :step => 1, :className => \"slider slider is-fullwidth\", :style => Dict{Any, Any}()))], Dict{Symbol, Any}(:className => \"interact-flex-row-center\")), WebIO.Node{WebIO.DOM}(WebIO.DOM(:html, :div), Any[WebIO.Node{WebIO.DOM}(WebIO.DOM(:html, :p), Any[], Dict{Symbol, Any}(:attributes => Dict(\"data-bind\" => \"text: formatted_val\")))], Dict{Symbol, Any}(:className => \"interact-flex-row-right\"))], Dict{Symbol, Any}(:className => \"interact-flex-row interact-widget\")), Dict{String, Tuple{Observables.AbstractObservable, Union{Nothing, Bool}}}(\"changes\" => (Observable(0), nothing), \"index\" => (Observable{Any}(10), nothing)), Set{String}(), nothing, WebIO.Asset[WebIO.Asset(\"js\", \"knockout\", \"/home/dushya/.julia/packages/Knockout/HReiN/src/../assets/knockout.js\"), WebIO.Asset(\"js\", \"knockout_punches\", \"/home/dushya/.julia/packages/Knockout/HReiN/src/../assets/knockout_punches.js\"), WebIO.Asset(\"js\", nothing, \"/home/dushya/.julia/packages/InteractBase/LJXv3/src/../assets/all.js\"), WebIO.Asset(\"css\", nothing, \"/home/dushya/.julia/packages/InteractBase/LJXv3/src/../assets/style.css\"), WebIO.Asset(\"css\", nothing, \"/home/dushya/.julia/packages/Interact/PENUy/src/../assets/bulma_confined.min.css\")], Dict{Any, Any}(\"changes\" => Any[WebIO.JSString(\"(function (val){return (val!=this.model[\\\"changes\\\"]()) ? (this.valueFromJulia[\\\"changes\\\"]=true, this.model[\\\"changes\\\"](val)) : undefined})\")], \"index\" => Any[WebIO.JSString(\"(function (val){return (val!=this.model[\\\"index\\\"]()) ? (this.valueFromJulia[\\\"index\\\"]=true, this.model[\\\"index\\\"](val)) : undefined})\")]), WebIO.ConnectionPool(Channel{Any}(32), Set{WebIO.AbstractConnection}(), Base.GenericCondition{ReentrantLock}(Base.IntrusiveLinkedList{Task}(Task (runnable) @0x00007fec1c115910, Task (runnable) @0x00007fec1c115910), ReentrantLock(nothing, 0x00000000, 0x00, Base.GenericCondition{Base.Threads.SpinLock}(Base.IntrusiveLinkedList{Task}(nothing, nothing), Base.Threads.SpinLock(0)), (1, 140653079412360, 139779710648320)))), WebIO.JSString[WebIO.JSString(\"function () {\\n    var handler = (function (ko, koPunches) {\\n    ko.punches.enableAll();\\n    ko.bindingHandlers.numericValue = {\\n        init: function(element, valueAccessor, allBindings, data, context) {\\n            var stringified = ko.observable(ko.unwrap(valueAccessor()));\\n            stringified.subscribe(function(value) {\\n                var val = parseFloat(value);\\n                if (!isNaN(val)) {\\n                    valueAccessor()(val);\\n                }\\n            });\\n            valueAccessor().subscribe(function(value) {\\n                var str = JSON.stringify(value);\\n                if ((str == \\\"0\\\") && ([\\\"-0\\\", \\\"-0.\\\"].indexOf(stringified()) >= 0))\\n                     return;\\n                 if ([\\\"null\\\", \\\"\\\"].indexOf(str) >= 0)\\n                     return;\\n                stringified(str);\\n            });\\n            ko.applyBindingsToNode(\\n                element,\\n                {\\n                    value: stringified,\\n                    valueUpdate: allBindings.get('valueUpdate'),\\n                },\\n                context,\\n            );\\n        }\\n    };\\n    var json_data = {\\\"formatted_vals\\\":[\\\"0.1\\\",\\\"0.2\\\",\\\"0.3\\\",\\\"0.4\\\",\\\"0.5\\\",\\\"0.6\\\",\\\"0.7\\\",\\\"0.8\\\",\\\"0.9\\\",\\\"1.0\\\",\\\"1.1\\\",\\\"1.2\\\",\\\"1.3\\\",\\\"1.4\\\",\\\"1.5\\\",\\\"1.6\\\",\\\"1.7\\\",\\\"1.8\\\",\\\"1.9\\\",\\\"2.0\\\"],\\\"changes\\\":WebIO.getval({\\\"name\\\":\\\"changes\\\",\\\"scope\\\":\\\"4237237236618048101\\\",\\\"id\\\":\\\"6365504458734167159\\\",\\\"type\\\":\\\"observable\\\"}),\\\"index\\\":WebIO.getval({\\\"name\\\":\\\"index\\\",\\\"scope\\\":\\\"4237237236618048101\\\",\\\"id\\\":\\\"4441055223113963627\\\",\\\"type\\\":\\\"observable\\\"})};\\n    var self = this;\\n    function AppViewModel() {\\n        for (var key in json_data) {\\n            var el = json_data[key];\\n            this[key] = Array.isArray(el) ? ko.observableArray(el) : ko.observable(el);\\n        }\\n        \\n        [this[\\\"formatted_val\\\"]=ko.computed(    function(){\\n        return this.formatted_vals()[parseInt(this.index())-(1)];\\n    }\\n,this)]\\n        [this[\\\"changes\\\"].subscribe((function (val){!(this.valueFromJulia[\\\"changes\\\"]) ? (WebIO.setval({\\\"name\\\":\\\"changes\\\",\\\"scope\\\":\\\"4237237236618048101\\\",\\\"id\\\":\\\"6365504458734167159\\\",\\\"type\\\":\\\"observable\\\"},val)) : undefined; return this.valueFromJulia[\\\"changes\\\"]=false}),self),this[\\\"index\\\"].subscribe((function (val){!(this.valueFromJulia[\\\"index\\\"]) ? (WebIO.setval({\\\"name\\\":\\\"index\\\",\\\"scope\\\":\\\"4237237236618048101\\\",\\\"id\\\":\\\"4441055223113963627\\\",\\\"type\\\":\\\"observable\\\"},val)) : undefined; return this.valueFromJulia[\\\"index\\\"]=false}),self)]\\n        \\n    }\\n    self.model = new AppViewModel();\\n    self.valueFromJulia = {};\\n    for (var key in json_data) {\\n        self.valueFromJulia[key] = false;\\n    }\\n    ko.applyBindings(self.model, self.dom);\\n}\\n);\\n    (WebIO.importBlock({\\\"data\\\":[{\\\"name\\\":\\\"knockout\\\",\\\"type\\\":\\\"js\\\",\\\"url\\\":\\\"/assetserver/727383f2a47bd31570b7da84eee7b022dd6d7c78-knockout.js\\\"},{\\\"name\\\":\\\"knockout_punches\\\",\\\"type\\\":\\\"js\\\",\\\"url\\\":\\\"/assetserver/382b41b3b1bd9f26f75861d360bad7f8beea211f-knockout_punches.js\\\"}],\\\"type\\\":\\\"async_block\\\"})).then((imports) => handler.apply(this, imports));\\n}\\n\")])], Dict{Symbol, Any}(:className => \"field interact-widget\")), WebIO.Node{WebIO.DOM}(WebIO.DOM(:html, :div), Any[], Dict{Symbol, Any}(:style => Dict(\"display\" => \"flex\", \"flex-direction\" => \"column\"))), WebIO.Node{WebIO.DOM}(WebIO.DOM(:html, :div), Any[WebIO.Node{WebIO.DOM}(WebIO.DOM(:html, :div), Any[WebIO.Scope(WebIO.Node{WebIO.DOM}(WebIO.DOM(:html, :div), Any[WebIO.Node{WebIO.DOM}(WebIO.DOM(:html, :div), Any[WebIO.Node{WebIO.DOM}(WebIO.DOM(:html, :label), Any[\"min_dis\"], Dict{Symbol, Any}(:className => \"interact \", :style => Dict{Any, Any}(:padding => \"5px 10px 0px 10px\")))], Dict{Symbol, Any}(:className => \"interact-flex-row-left\")), WebIO.Node{WebIO.DOM}(WebIO.DOM(:html, :div), Any[WebIO.Node{WebIO.DOM}(WebIO.DOM(:html, :input), Any[], Dict{Symbol, Any}(:max => 10, :min => 1, :attributes => Dict{Any, Any}(:type => \"range\", Symbol(\"data-bind\") => \"numericValue: index, valueUpdate: 'input', event: {change: function (){this.changes(this.changes()+1)}}\", \"orient\" => \"horizontal\"), :step => 1, :className => \"slider slider is-fullwidth\", :style => Dict{Any, Any}()))], Dict{Symbol, Any}(:className => \"interact-flex-row-center\")), WebIO.Node{WebIO.DOM}(WebIO.DOM(:html, :div), Any[WebIO.Node{WebIO.DOM}(WebIO.DOM(:html, :p), Any[], Dict{Symbol, Any}(:attributes => Dict(\"data-bind\" => \"text: formatted_val\")))], Dict{Symbol, Any}(:className => \"interact-flex-row-right\"))], Dict{Symbol, Any}(:className => \"interact-flex-row interact-widget\")), Dict{String, Tuple{Observables.AbstractObservable, Union{Nothing, Bool}}}(\"changes\" => (Observable(0), nothing), \"index\" => (Observable{Any}(5), nothing)), Set{String}(), nothing, WebIO.Asset[WebIO.Asset(\"js\", \"knockout\", \"/home/dushya/.julia/packages/Knockout/HReiN/src/../assets/knockout.js\"), WebIO.Asset(\"js\", \"knockout_punches\", \"/home/dushya/.julia/packages/Knockout/HReiN/src/../assets/knockout_punches.js\"), WebIO.Asset(\"js\", nothing, \"/home/dushya/.julia/packages/InteractBase/LJXv3/src/../assets/all.js\"), WebIO.Asset(\"css\", nothing, \"/home/dushya/.julia/packages/InteractBase/LJXv3/src/../assets/style.css\"), WebIO.Asset(\"css\", nothing, \"/home/dushya/.julia/packages/Interact/PENUy/src/../assets/bulma_confined.min.css\")], Dict{Any, Any}(\"changes\" => Any[WebIO.JSString(\"(function (val){return (val!=this.model[\\\"changes\\\"]()) ? (this.valueFromJulia[\\\"changes\\\"]=true, this.model[\\\"changes\\\"](val)) : undefined})\")], \"index\" => Any[WebIO.JSString(\"(function (val){return (val!=this.model[\\\"index\\\"]()) ? (this.valueFromJulia[\\\"index\\\"]=true, this.model[\\\"index\\\"](val)) : undefined})\")]), WebIO.ConnectionPool(Channel{Any}(32), Set{WebIO.AbstractConnection}(), Base.GenericCondition{ReentrantLock}(Base.IntrusiveLinkedList{Task}(Task (runnable) @0x00007fec1c123080, Task (runnable) @0x00007fec1c123080), ReentrantLock(nothing, 0x00000000, 0x00, Base.GenericCondition{Base.Threads.SpinLock}(Base.IntrusiveLinkedList{Task}(nothing, nothing), Base.Threads.SpinLock(0)), (0, 0, 141733920768)))), WebIO.JSString[WebIO.JSString(\"function () {\\n    var handler = (function (ko, koPunches) {\\n    ko.punches.enableAll();\\n    ko.bindingHandlers.numericValue = {\\n        init: function(element, valueAccessor, allBindings, data, context) {\\n            var stringified = ko.observable(ko.unwrap(valueAccessor()));\\n            stringified.subscribe(function(value) {\\n                var val = parseFloat(value);\\n                if (!isNaN(val)) {\\n                    valueAccessor()(val);\\n                }\\n            });\\n            valueAccessor().subscribe(function(value) {\\n                var str = JSON.stringify(value);\\n                if ((str == \\\"0\\\") && ([\\\"-0\\\", \\\"-0.\\\"].indexOf(stringified()) >= 0))\\n                     return;\\n                 if ([\\\"null\\\", \\\"\\\"].indexOf(str) >= 0)\\n                     return;\\n                stringified(str);\\n            });\\n            ko.applyBindingsToNode(\\n                element,\\n                {\\n                    value: stringified,\\n                    valueUpdate: allBindings.get('valueUpdate'),\\n                },\\n                context,\\n            );\\n        }\\n    };\\n    var json_data = {\\\"formatted_vals\\\":[\\\"0.01\\\",\\\"0.11\\\",\\\"0.21\\\",\\\"0.31\\\",\\\"0.41\\\",\\\"0.51\\\",\\\"0.61\\\",\\\"0.71\\\",\\\"0.81\\\",\\\"0.91\\\"],\\\"changes\\\":WebIO.getval({\\\"name\\\":\\\"changes\\\",\\\"scope\\\":\\\"12257853980028683361\\\",\\\"id\\\":\\\"3391842899601830590\\\",\\\"type\\\":\\\"observable\\\"}),\\\"index\\\":WebIO.getval({\\\"name\\\":\\\"index\\\",\\\"scope\\\":\\\"12257853980028683361\\\",\\\"id\\\":\\\"14145847105715862798\\\",\\\"type\\\":\\\"observable\\\"})};\\n    var self = this;\\n    function AppViewModel() {\\n        for (var key in json_data) {\\n            var el = json_data[key];\\n            this[key] = Array.isArray(el) ? ko.observableArray(el) : ko.observable(el);\\n        }\\n        \\n        [this[\\\"formatted_val\\\"]=ko.computed(    function(){\\n        return this.formatted_vals()[parseInt(this.index())-(1)];\\n    }\\n,this)]\\n        [this[\\\"changes\\\"].subscribe((function (val){!(this.valueFromJulia[\\\"changes\\\"]) ? (WebIO.setval({\\\"name\\\":\\\"changes\\\",\\\"scope\\\":\\\"12257853980028683361\\\",\\\"id\\\":\\\"3391842899601830590\\\",\\\"type\\\":\\\"observable\\\"},val)) : undefined; return this.valueFromJulia[\\\"changes\\\"]=false}),self),this[\\\"index\\\"].subscribe((function (val){!(this.valueFromJulia[\\\"index\\\"]) ? (WebIO.setval({\\\"name\\\":\\\"index\\\",\\\"scope\\\":\\\"12257853980028683361\\\",\\\"id\\\":\\\"14145847105715862798\\\",\\\"type\\\":\\\"observable\\\"},val)) : undefined; return this.valueFromJulia[\\\"index\\\"]=false}),self)]\\n        \\n    }\\n    self.model = new AppViewModel();\\n    self.valueFromJulia = {};\\n    for (var key in json_data) {\\n        self.valueFromJulia[key] = false;\\n    }\\n    ko.applyBindings(self.model, self.dom);\\n}\\n);\\n    (WebIO.importBlock({\\\"data\\\":[{\\\"name\\\":\\\"knockout\\\",\\\"type\\\":\\\"js\\\",\\\"url\\\":\\\"/assetserver/727383f2a47bd31570b7da84eee7b022dd6d7c78-knockout.js\\\"},{\\\"name\\\":\\\"knockout_punches\\\",\\\"type\\\":\\\"js\\\",\\\"url\\\":\\\"/assetserver/382b41b3b1bd9f26f75861d360bad7f8beea211f-knockout_punches.js\\\"}],\\\"type\\\":\\\"async_block\\\"})).then((imports) => handler.apply(this, imports));\\n}\\n\")])], Dict{Symbol, Any}(:className => \"field interact-widget\")), WebIO.Node{WebIO.DOM}(WebIO.DOM(:html, :div), Any[WebIO.Scope(WebIO.Node{WebIO.DOM}(WebIO.DOM(:html, :div), Any[WebIO.Node{WebIO.DOM}(WebIO.DOM(:html, :div), Any[WebIO.Node{WebIO.DOM}(WebIO.DOM(:html, :label), Any[\"coh_fac\"], Dict{Symbol, Any}(:className => \"interact \", :style => Dict{Any, Any}(:padding => \"5px 10px 0px 10px\")))], Dict{Symbol, Any}(:className => \"interact-flex-row-left\")), WebIO.Node{WebIO.DOM}(WebIO.DOM(:html, :div), Any[WebIO.Node{WebIO.DOM}(WebIO.DOM(:html, :input), Any[], Dict{Symbol, Any}(:max => 100, :min => 1, :attributes => Dict{Any, Any}(:type => \"range\", Symbol(\"data-bind\") => \"numericValue: index, valueUpdate: 'input', event: {change: function (){this.changes(this.changes()+1)}}\", \"orient\" => \"horizontal\"), :step => 1, :className => \"slider slider is-fullwidth\", :style => Dict{Any, Any}()))], Dict{Symbol, Any}(:className => \"interact-flex-row-center\")), WebIO.Node{WebIO.DOM}(WebIO.DOM(:html, :div), Any[WebIO.Node{WebIO.DOM}(WebIO.DOM(:html, :p), Any[], Dict{Symbol, Any}(:attributes => Dict(\"data-bind\" => \"text: formatted_val\")))], Dict{Symbol, Any}(:className => \"interact-flex-row-right\"))], Dict{Symbol, Any}(:className => \"interact-flex-row interact-widget\")), Dict{String, Tuple{Observables.AbstractObservable, Union{Nothing, Bool}}}(\"changes\" => (Observable(0), nothing), \"index\" => (Observable{Any}(50), nothing)), Set{String}(), nothing, WebIO.Asset[WebIO.Asset(\"js\", \"knockout\", \"/home/dushya/.julia/packages/Knockout/HReiN/src/../assets/knockout.js\"), WebIO.Asset(\"js\", \"knockout_punches\", \"/home/dushya/.julia/packages/Knockout/HReiN/src/../assets/knockout_punches.js\"), WebIO.Asset(\"js\", nothing, \"/home/dushya/.julia/packages/InteractBase/LJXv3/src/../assets/all.js\"), WebIO.Asset(\"css\", nothing, \"/home/dushya/.julia/packages/InteractBase/LJXv3/src/../assets/style.css\"), WebIO.Asset(\"css\", nothing, \"/home/dushya/.julia/packages/Interact/PENUy/src/../assets/bulma_confined.min.css\")], Dict{Any, Any}(\"changes\" => Any[WebIO.JSString(\"(function (val){return (val!=this.model[\\\"changes\\\"]()) ? (this.valueFromJulia[\\\"changes\\\"]=true, this.model[\\\"changes\\\"](val)) : undefined})\")], \"index\" => Any[WebIO.JSString(\"(function (val){return (val!=this.model[\\\"index\\\"]()) ? (this.valueFromJulia[\\\"index\\\"]=true, this.model[\\\"index\\\"](val)) : undefined})\")]), WebIO.ConnectionPool(Channel{Any}(32), Set{WebIO.AbstractConnection}(), Base.GenericCondition{ReentrantLock}(Base.IntrusiveLinkedList{Task}(Task (runnable) @0x00007fec1c145c30, Task (runnable) @0x00007fec1c145c30), ReentrantLock(nothing, 0x00000000, 0x00, Base.GenericCondition{Base.Threads.SpinLock}(Base.IntrusiveLinkedList{Task}(nothing, nothing), Base.Threads.SpinLock(0)), (0, 0, 141733920768)))), WebIO.JSString[WebIO.JSString(\"function () {\\n    var handler = (function (ko, koPunches) {\\n    ko.punches.enableAll();\\n    ko.bindingHandlers.numericValue = {\\n        init: function(element, valueAccessor, allBindings, data, context) {\\n            var stringified = ko.observable(ko.unwrap(valueAccessor()));\\n            stringified.subscribe(function(value) {\\n                var val = parseFloat(value);\\n                if (!isNaN(val)) {\\n                    valueAccessor()(val);\\n                }\\n            });\\n            valueAccessor().subscribe(function(value) {\\n                var str = JSON.stringify(value);\\n                if ((str == \\\"0\\\") && ([\\\"-0\\\", \\\"-0.\\\"].indexOf(stringified()) >= 0))\\n                     return;\\n                 if ([\\\"null\\\", \\\"\\\"].indexOf(str) >= 0)\\n                     return;\\n                stringified(str);\\n            });\\n            ko.applyBindingsToNode(\\n                element,\\n                {\\n                    value: stringified,\\n                    valueUpdate: allBindings.get('valueUpdate'),\\n                },\\n                context,\\n            );\\n        }\\n    };\\n    var json_data = {\\\"formatted_vals\\\":[\\\"0.01\\\",\\\"0.02\\\",\\\"0.03\\\",\\\"0.04\\\",\\\"0.05\\\",\\\"0.06\\\",\\\"0.07\\\",\\\"0.08\\\",\\\"0.09\\\",\\\"0.1\\\",\\\"0.11\\\",\\\"0.12\\\",\\\"0.13\\\",\\\"0.14\\\",\\\"0.15\\\",\\\"0.16\\\",\\\"0.17\\\",\\\"0.18\\\",\\\"0.19\\\",\\\"0.2\\\",\\\"0.21\\\",\\\"0.22\\\",\\\"0.23\\\",\\\"0.24\\\",\\\"0.25\\\",\\\"0.26\\\",\\\"0.27\\\",\\\"0.28\\\",\\\"0.29\\\",\\\"0.3\\\",\\\"0.31\\\",\\\"0.32\\\",\\\"0.33\\\",\\\"0.34\\\",\\\"0.35\\\",\\\"0.36\\\",\\\"0.37\\\",\\\"0.38\\\",\\\"0.39\\\",\\\"0.4\\\",\\\"0.41\\\",\\\"0.42\\\",\\\"0.43\\\",\\\"0.44\\\",\\\"0.45\\\",\\\"0.46\\\",\\\"0.47\\\",\\\"0.48\\\",\\\"0.49\\\",\\\"0.5\\\",\\\"0.51\\\",\\\"0.52\\\",\\\"0.53\\\",\\\"0.54\\\",\\\"0.55\\\",\\\"0.56\\\",\\\"0.57\\\",\\\"0.58\\\",\\\"0.59\\\",\\\"0.6\\\",\\\"0.61\\\",\\\"0.62\\\",\\\"0.63\\\",\\\"0.64\\\",\\\"0.65\\\",\\\"0.66\\\",\\\"0.67\\\",\\\"0.68\\\",\\\"0.69\\\",\\\"0.7\\\",\\\"0.71\\\",\\\"0.72\\\",\\\"0.73\\\",\\\"0.74\\\",\\\"0.75\\\",\\\"0.76\\\",\\\"0.77\\\",\\\"0.78\\\",\\\"0.79\\\",\\\"0.8\\\",\\\"0.81\\\",\\\"0.82\\\",\\\"0.83\\\",\\\"0.84\\\",\\\"0.85\\\",\\\"0.86\\\",\\\"0.87\\\",\\\"0.88\\\",\\\"0.89\\\",\\\"0.9\\\",\\\"0.91\\\",\\\"0.92\\\",\\\"0.93\\\",\\\"0.94\\\",\\\"0.95\\\",\\\"0.96\\\",\\\"0.97\\\",\\\"0.98\\\",\\\"0.99\\\",\\\"1.0\\\"],\\\"changes\\\":WebIO.getval({\\\"name\\\":\\\"changes\\\",\\\"scope\\\":\\\"5446039455320707730\\\",\\\"id\\\":\\\"9336408801338083863\\\",\\\"type\\\":\\\"observable\\\"}),\\\"index\\\":WebIO.getval({\\\"name\\\":\\\"index\\\",\\\"scope\\\":\\\"5446039455320707730\\\",\\\"id\\\":\\\"2296160853133512702\\\",\\\"type\\\":\\\"observable\\\"})};\\n    var self = this;\\n    function AppViewModel() {\\n        for (var key in json_data) {\\n            var el = json_data[key];\\n            this[key] = Array.isArray(el) ? ko.observableArray(el) : ko.observable(el);\\n        }\\n        \\n        [this[\\\"formatted_val\\\"]=ko.computed(    function(){\\n        return this.formatted_vals()[parseInt(this.index())-(1)];\\n    }\\n,this)]\\n        [this[\\\"changes\\\"].subscribe((function (val){!(this.valueFromJulia[\\\"changes\\\"]) ? (WebIO.setval({\\\"name\\\":\\\"changes\\\",\\\"scope\\\":\\\"5446039455320707730\\\",\\\"id\\\":\\\"9336408801338083863\\\",\\\"type\\\":\\\"observable\\\"},val)) : undefined; return this.valueFromJulia[\\\"changes\\\"]=false}),self),this[\\\"index\\\"].subscribe((function (val){!(this.valueFromJulia[\\\"index\\\"]) ? (WebIO.setval({\\\"name\\\":\\\"index\\\",\\\"scope\\\":\\\"5446039455320707730\\\",\\\"id\\\":\\\"2296160853133512702\\\",\\\"type\\\":\\\"observable\\\"},val)) : undefined; return this.valueFromJulia[\\\"index\\\"]=false}),self)]\\n        \\n    }\\n    self.model = new AppViewModel();\\n    self.valueFromJulia = {};\\n    for (var key in json_data) {\\n        self.valueFromJulia[key] = false;\\n    }\\n    ko.applyBindings(self.model, self.dom);\\n}\\n);\\n    (WebIO.importBlock({\\\"data\\\":[{\\\"name\\\":\\\"knockout\\\",\\\"type\\\":\\\"js\\\",\\\"url\\\":\\\"/assetserver/727383f2a47bd31570b7da84eee7b022dd6d7c78-knockout.js\\\"},{\\\"name\\\":\\\"knockout_punches\\\",\\\"type\\\":\\\"js\\\",\\\"url\\\":\\\"/assetserver/382b41b3b1bd9f26f75861d360bad7f8beea211f-knockout_punches.js\\\"}],\\\"type\\\":\\\"async_block\\\"})).then((imports) => handler.apply(this, imports));\\n}\\n\")])], Dict{Symbol, Any}(:className => \"field interact-widget\")), WebIO.Node{WebIO.DOM}(WebIO.DOM(:html, :div), Any[WebIO.Scope(WebIO.Node{WebIO.DOM}(WebIO.DOM(:html, :div), Any[WebIO.Node{WebIO.DOM}(WebIO.DOM(:html, :div), Any[WebIO.Node{WebIO.DOM}(WebIO.DOM(:html, :label), Any[\"sep_fac\"], Dict{Symbol, Any}(:className => \"interact \", :style => Dict{Any, Any}(:padding => \"5px 10px 0px 10px\")))], Dict{Symbol, Any}(:className => \"interact-flex-row-left\")), WebIO.Node{WebIO.DOM}(WebIO.DOM(:html, :div), Any[WebIO.Node{WebIO.DOM}(WebIO.DOM(:html, :input), Any[], Dict{Symbol, Any}(:max => 100, :min => 1, :attributes => Dict{Any, Any}(:type => \"range\", Symbol(\"data-bind\") => \"numericValue: index, valueUpdate: 'input', event: {change: function (){this.changes(this.changes()+1)}}\", \"orient\" => \"horizontal\"), :step => 1, :className => \"slider slider is-fullwidth\", :style => Dict{Any, Any}()))], Dict{Symbol, Any}(:className => \"interact-flex-row-center\")), WebIO.Node{WebIO.DOM}(WebIO.DOM(:html, :div), Any[WebIO.Node{WebIO.DOM}(WebIO.DOM(:html, :p), Any[], Dict{Symbol, Any}(:attributes => Dict(\"data-bind\" => \"text: formatted_val\")))], Dict{Symbol, Any}(:className => \"interact-flex-row-right\"))], Dict{Symbol, Any}(:className => \"interact-flex-row interact-widget\")), Dict{String, Tuple{Observables.AbstractObservable, Union{Nothing, Bool}}}(\"changes\" => (Observable(0), nothing), \"index\" => (Observable{Any}(50), nothing)), Set{String}(), nothing, WebIO.Asset[WebIO.Asset(\"js\", \"knockout\", \"/home/dushya/.julia/packages/Knockout/HReiN/src/../assets/knockout.js\"), WebIO.Asset(\"js\", \"knockout_punches\", \"/home/dushya/.julia/packages/Knockout/HReiN/src/../assets/knockout_punches.js\"), WebIO.Asset(\"js\", nothing, \"/home/dushya/.julia/packages/InteractBase/LJXv3/src/../assets/all.js\"), WebIO.Asset(\"css\", nothing, \"/home/dushya/.julia/packages/InteractBase/LJXv3/src/../assets/style.css\"), WebIO.Asset(\"css\", nothing, \"/home/dushya/.julia/packages/Interact/PENUy/src/../assets/bulma_confined.min.css\")], Dict{Any, Any}(\"changes\" => Any[WebIO.JSString(\"(function (val){return (val!=this.model[\\\"changes\\\"]()) ? (this.valueFromJulia[\\\"changes\\\"]=true, this.model[\\\"changes\\\"](val)) : undefined})\")], \"index\" => Any[WebIO.JSString(\"(function (val){return (val!=this.model[\\\"index\\\"]()) ? (this.valueFromJulia[\\\"index\\\"]=true, this.model[\\\"index\\\"](val)) : undefined})\")]), WebIO.ConnectionPool(Channel{Any}(32), Set{WebIO.AbstractConnection}(), Base.GenericCondition{ReentrantLock}(Base.IntrusiveLinkedList{Task}(Task (runnable) @0x00007fec1f1247e0, Task (runnable) @0x00007fec1f1247e0), ReentrantLock(nothing, 0x00000000, 0x00, Base.GenericCondition{Base.Threads.SpinLock}(Base.IntrusiveLinkedList{Task}(nothing, nothing), Base.Threads.SpinLock(0)), (0, 0, 141733920768)))), WebIO.JSString[WebIO.JSString(\"function () {\\n    var handler = (function (ko, koPunches) {\\n    ko.punches.enableAll();\\n    ko.bindingHandlers.numericValue = {\\n        init: function(element, valueAccessor, allBindings, data, context) {\\n            var stringified = ko.observable(ko.unwrap(valueAccessor()));\\n            stringified.subscribe(function(value) {\\n                var val = parseFloat(value);\\n                if (!isNaN(val)) {\\n                    valueAccessor()(val);\\n                }\\n            });\\n            valueAccessor().subscribe(function(value) {\\n                var str = JSON.stringify(value);\\n                if ((str == \\\"0\\\") && ([\\\"-0\\\", \\\"-0.\\\"].indexOf(stringified()) >= 0))\\n                     return;\\n                 if ([\\\"null\\\", \\\"\\\"].indexOf(str) >= 0)\\n                     return;\\n                stringified(str);\\n            });\\n            ko.applyBindingsToNode(\\n                element,\\n                {\\n                    value: stringified,\\n                    valueUpdate: allBindings.get('valueUpdate'),\\n                },\\n                context,\\n            );\\n        }\\n    };\\n    var json_data = {\\\"formatted_vals\\\":[\\\"0.01\\\",\\\"0.02\\\",\\\"0.03\\\",\\\"0.04\\\",\\\"0.05\\\",\\\"0.06\\\",\\\"0.07\\\",\\\"0.08\\\",\\\"0.09\\\",\\\"0.1\\\",\\\"0.11\\\",\\\"0.12\\\",\\\"0.13\\\",\\\"0.14\\\",\\\"0.15\\\",\\\"0.16\\\",\\\"0.17\\\",\\\"0.18\\\",\\\"0.19\\\",\\\"0.2\\\",\\\"0.21\\\",\\\"0.22\\\",\\\"0.23\\\",\\\"0.24\\\",\\\"0.25\\\",\\\"0.26\\\",\\\"0.27\\\",\\\"0.28\\\",\\\"0.29\\\",\\\"0.3\\\",\\\"0.31\\\",\\\"0.32\\\",\\\"0.33\\\",\\\"0.34\\\",\\\"0.35\\\",\\\"0.36\\\",\\\"0.37\\\",\\\"0.38\\\",\\\"0.39\\\",\\\"0.4\\\",\\\"0.41\\\",\\\"0.42\\\",\\\"0.43\\\",\\\"0.44\\\",\\\"0.45\\\",\\\"0.46\\\",\\\"0.47\\\",\\\"0.48\\\",\\\"0.49\\\",\\\"0.5\\\",\\\"0.51\\\",\\\"0.52\\\",\\\"0.53\\\",\\\"0.54\\\",\\\"0.55\\\",\\\"0.56\\\",\\\"0.57\\\",\\\"0.58\\\",\\\"0.59\\\",\\\"0.6\\\",\\\"0.61\\\",\\\"0.62\\\",\\\"0.63\\\",\\\"0.64\\\",\\\"0.65\\\",\\\"0.66\\\",\\\"0.67\\\",\\\"0.68\\\",\\\"0.69\\\",\\\"0.7\\\",\\\"0.71\\\",\\\"0.72\\\",\\\"0.73\\\",\\\"0.74\\\",\\\"0.75\\\",\\\"0.76\\\",\\\"0.77\\\",\\\"0.78\\\",\\\"0.79\\\",\\\"0.8\\\",\\\"0.81\\\",\\\"0.82\\\",\\\"0.83\\\",\\\"0.84\\\",\\\"0.85\\\",\\\"0.86\\\",\\\"0.87\\\",\\\"0.88\\\",\\\"0.89\\\",\\\"0.9\\\",\\\"0.91\\\",\\\"0.92\\\",\\\"0.93\\\",\\\"0.94\\\",\\\"0.95\\\",\\\"0.96\\\",\\\"0.97\\\",\\\"0.98\\\",\\\"0.99\\\",\\\"1.0\\\"],\\\"changes\\\":WebIO.getval({\\\"name\\\":\\\"changes\\\",\\\"scope\\\":\\\"3404355705012955363\\\",\\\"id\\\":\\\"6651515142230765482\\\",\\\"type\\\":\\\"observable\\\"}),\\\"index\\\":WebIO.getval({\\\"name\\\":\\\"index\\\",\\\"scope\\\":\\\"3404355705012955363\\\",\\\"id\\\":\\\"11305185395856533466\\\",\\\"type\\\":\\\"observable\\\"})};\\n    var self = this;\\n    function AppViewModel() {\\n        for (var key in json_data) {\\n            var el = json_data[key];\\n            this[key] = Array.isArray(el) ? ko.observableArray(el) : ko.observable(el);\\n        }\\n        \\n        [this[\\\"formatted_val\\\"]=ko.computed(    function(){\\n        return this.formatted_vals()[parseInt(this.index())-(1)];\\n    }\\n,this)]\\n        [this[\\\"changes\\\"].subscribe((function (val){!(this.valueFromJulia[\\\"changes\\\"]) ? (WebIO.setval({\\\"name\\\":\\\"changes\\\",\\\"scope\\\":\\\"3404355705012955363\\\",\\\"id\\\":\\\"6651515142230765482\\\",\\\"type\\\":\\\"observable\\\"},val)) : undefined; return this.valueFromJulia[\\\"changes\\\"]=false}),self),this[\\\"index\\\"].subscribe((function (val){!(this.valueFromJulia[\\\"index\\\"]) ? (WebIO.setval({\\\"name\\\":\\\"index\\\",\\\"scope\\\":\\\"3404355705012955363\\\",\\\"id\\\":\\\"11305185395856533466\\\",\\\"type\\\":\\\"observable\\\"},val)) : undefined; return this.valueFromJulia[\\\"index\\\"]=false}),self)]\\n        \\n    }\\n    self.model = new AppViewModel();\\n    self.valueFromJulia = {};\\n    for (var key in json_data) {\\n        self.valueFromJulia[key] = false;\\n    }\\n    ko.applyBindings(self.model, self.dom);\\n}\\n);\\n    (WebIO.importBlock({\\\"data\\\":[{\\\"name\\\":\\\"knockout\\\",\\\"type\\\":\\\"js\\\",\\\"url\\\":\\\"/assetserver/727383f2a47bd31570b7da84eee7b022dd6d7c78-knockout.js\\\"},{\\\"name\\\":\\\"knockout_punches\\\",\\\"type\\\":\\\"js\\\",\\\"url\\\":\\\"/assetserver/382b41b3b1bd9f26f75861d360bad7f8beea211f-knockout_punches.js\\\"}],\\\"type\\\":\\\"async_block\\\"})).then((imports) => handler.apply(this, imports));\\n}\\n\")])], Dict{Symbol, Any}(:className => \"field interact-widget\")), WebIO.Node{WebIO.DOM}(WebIO.DOM(:html, :div), Any[WebIO.Scope(WebIO.Node{WebIO.DOM}(WebIO.DOM(:html, :div), Any[WebIO.Node{WebIO.DOM}(WebIO.DOM(:html, :div), Any[WebIO.Node{WebIO.DOM}(WebIO.DOM(:html, :label), Any[\"aln_fac\"], Dict{Symbol, Any}(:className => \"interact \", :style => Dict{Any, Any}(:padding => \"5px 10px 0px 10px\")))], Dict{Symbol, Any}(:className => \"interact-flex-row-left\")), WebIO.Node{WebIO.DOM}(WebIO.DOM(:html, :div), Any[WebIO.Node{WebIO.DOM}(WebIO.DOM(:html, :input), Any[], Dict{Symbol, Any}(:max => 100, :min => 1, :attributes => Dict{Any, Any}(:type => \"range\", Symbol(\"data-bind\") => \"numericValue: index, valueUpdate: 'input', event: {change: function (){this.changes(this.changes()+1)}}\", \"orient\" => \"horizontal\"), :step => 1, :className => \"slider slider is-fullwidth\", :style => Dict{Any, Any}()))], Dict{Symbol, Any}(:className => \"interact-flex-row-center\")), WebIO.Node{WebIO.DOM}(WebIO.DOM(:html, :div), Any[WebIO.Node{WebIO.DOM}(WebIO.DOM(:html, :p), Any[], Dict{Symbol, Any}(:attributes => Dict(\"data-bind\" => \"text: formatted_val\")))], Dict{Symbol, Any}(:className => \"interact-flex-row-right\"))], Dict{Symbol, Any}(:className => \"interact-flex-row interact-widget\")), Dict{String, Tuple{Observables.AbstractObservable, Union{Nothing, Bool}}}(\"changes\" => (Observable(0), nothing), \"index\" => (Observable{Any}(50), nothing)), Set{String}(), nothing, WebIO.Asset[WebIO.Asset(\"js\", \"knockout\", \"/home/dushya/.julia/packages/Knockout/HReiN/src/../assets/knockout.js\"), WebIO.Asset(\"js\", \"knockout_punches\", \"/home/dushya/.julia/packages/Knockout/HReiN/src/../assets/knockout_punches.js\"), WebIO.Asset(\"js\", nothing, \"/home/dushya/.julia/packages/InteractBase/LJXv3/src/../assets/all.js\"), WebIO.Asset(\"css\", nothing, \"/home/dushya/.julia/packages/InteractBase/LJXv3/src/../assets/style.css\"), WebIO.Asset(\"css\", nothing, \"/home/dushya/.julia/packages/Interact/PENUy/src/../assets/bulma_confined.min.css\")], Dict{Any, Any}(\"changes\" => Any[WebIO.JSString(\"(function (val){return (val!=this.model[\\\"changes\\\"]()) ? (this.valueFromJulia[\\\"changes\\\"]=true, this.model[\\\"changes\\\"](val)) : undefined})\")], \"index\" => Any[WebIO.JSString(\"(function (val){return (val!=this.model[\\\"index\\\"]()) ? (this.valueFromJulia[\\\"index\\\"]=true, this.model[\\\"index\\\"](val)) : undefined})\")]), WebIO.ConnectionPool(Channel{Any}(32), Set{WebIO.AbstractConnection}(), Base.GenericCondition{ReentrantLock}(Base.IntrusiveLinkedList{Task}(Task (runnable) @0x00007fec1f127080, Task (runnable) @0x00007fec1f127080), ReentrantLock(nothing, 0x00000000, 0x00, Base.GenericCondition{Base.Threads.SpinLock}(Base.IntrusiveLinkedList{Task}(nothing, nothing), Base.Threads.SpinLock(0)), (1, 140653197521136, 139779710648320)))), WebIO.JSString[WebIO.JSString(\"function () {\\n    var handler = (function (ko, koPunches) {\\n    ko.punches.enableAll();\\n    ko.bindingHandlers.numericValue = {\\n        init: function(element, valueAccessor, allBindings, data, context) {\\n            var stringified = ko.observable(ko.unwrap(valueAccessor()));\\n            stringified.subscribe(function(value) {\\n                var val = parseFloat(value);\\n                if (!isNaN(val)) {\\n                    valueAccessor()(val);\\n                }\\n            });\\n            valueAccessor().subscribe(function(value) {\\n                var str = JSON.stringify(value);\\n                if ((str == \\\"0\\\") && ([\\\"-0\\\", \\\"-0.\\\"].indexOf(stringified()) >= 0))\\n                     return;\\n                 if ([\\\"null\\\", \\\"\\\"].indexOf(str) >= 0)\\n                     return;\\n                stringified(str);\\n            });\\n            ko.applyBindingsToNode(\\n                element,\\n                {\\n                    value: stringified,\\n                    valueUpdate: allBindings.get('valueUpdate'),\\n                },\\n                context,\\n            );\\n        }\\n    };\\n    var json_data = {\\\"formatted_vals\\\":[\\\"0.01\\\",\\\"0.02\\\",\\\"0.03\\\",\\\"0.04\\\",\\\"0.05\\\",\\\"0.06\\\",\\\"0.07\\\",\\\"0.08\\\",\\\"0.09\\\",\\\"0.1\\\",\\\"0.11\\\",\\\"0.12\\\",\\\"0.13\\\",\\\"0.14\\\",\\\"0.15\\\",\\\"0.16\\\",\\\"0.17\\\",\\\"0.18\\\",\\\"0.19\\\",\\\"0.2\\\",\\\"0.21\\\",\\\"0.22\\\",\\\"0.23\\\",\\\"0.24\\\",\\\"0.25\\\",\\\"0.26\\\",\\\"0.27\\\",\\\"0.28\\\",\\\"0.29\\\",\\\"0.3\\\",\\\"0.31\\\",\\\"0.32\\\",\\\"0.33\\\",\\\"0.34\\\",\\\"0.35\\\",\\\"0.36\\\",\\\"0.37\\\",\\\"0.38\\\",\\\"0.39\\\",\\\"0.4\\\",\\\"0.41\\\",\\\"0.42\\\",\\\"0.43\\\",\\\"0.44\\\",\\\"0.45\\\",\\\"0.46\\\",\\\"0.47\\\",\\\"0.48\\\",\\\"0.49\\\",\\\"0.5\\\",\\\"0.51\\\",\\\"0.52\\\",\\\"0.53\\\",\\\"0.54\\\",\\\"0.55\\\",\\\"0.56\\\",\\\"0.57\\\",\\\"0.58\\\",\\\"0.59\\\",\\\"0.6\\\",\\\"0.61\\\",\\\"0.62\\\",\\\"0.63\\\",\\\"0.64\\\",\\\"0.65\\\",\\\"0.66\\\",\\\"0.67\\\",\\\"0.68\\\",\\\"0.69\\\",\\\"0.7\\\",\\\"0.71\\\",\\\"0.72\\\",\\\"0.73\\\",\\\"0.74\\\",\\\"0.75\\\",\\\"0.76\\\",\\\"0.77\\\",\\\"0.78\\\",\\\"0.79\\\",\\\"0.8\\\",\\\"0.81\\\",\\\"0.82\\\",\\\"0.83\\\",\\\"0.84\\\",\\\"0.85\\\",\\\"0.86\\\",\\\"0.87\\\",\\\"0.88\\\",\\\"0.89\\\",\\\"0.9\\\",\\\"0.91\\\",\\\"0.92\\\",\\\"0.93\\\",\\\"0.94\\\",\\\"0.95\\\",\\\"0.96\\\",\\\"0.97\\\",\\\"0.98\\\",\\\"0.99\\\",\\\"1.0\\\"],\\\"changes\\\":WebIO.getval({\\\"name\\\":\\\"changes\\\",\\\"scope\\\":\\\"7133436002514717978\\\",\\\"id\\\":\\\"7978947125813570428\\\",\\\"type\\\":\\\"observable\\\"}),\\\"index\\\":WebIO.getval({\\\"name\\\":\\\"index\\\",\\\"scope\\\":\\\"7133436002514717978\\\",\\\"id\\\":\\\"939425956942780760\\\",\\\"type\\\":\\\"observable\\\"})};\\n    var self = this;\\n    function AppViewModel() {\\n        for (var key in json_data) {\\n            var el = json_data[key];\\n            this[key] = Array.isArray(el) ? ko.observableArray(el) : ko.observable(el);\\n        }\\n        \\n        [this[\\\"formatted_val\\\"]=ko.computed(    function(){\\n        return this.formatted_vals()[parseInt(this.index())-(1)];\\n    }\\n,this)]\\n        [this[\\\"changes\\\"].subscribe((function (val){!(this.valueFromJulia[\\\"changes\\\"]) ? (WebIO.setval({\\\"name\\\":\\\"changes\\\",\\\"scope\\\":\\\"7133436002514717978\\\",\\\"id\\\":\\\"7978947125813570428\\\",\\\"type\\\":\\\"observable\\\"},val)) : undefined; return this.valueFromJulia[\\\"changes\\\"]=false}),self),this[\\\"index\\\"].subscribe((function (val){!(this.valueFromJulia[\\\"index\\\"]) ? (WebIO.setval({\\\"name\\\":\\\"index\\\",\\\"scope\\\":\\\"7133436002514717978\\\",\\\"id\\\":\\\"939425956942780760\\\",\\\"type\\\":\\\"observable\\\"},val)) : undefined; return this.valueFromJulia[\\\"index\\\"]=false}),self)]\\n        \\n    }\\n    self.model = new AppViewModel();\\n    self.valueFromJulia = {};\\n    for (var key in json_data) {\\n        self.valueFromJulia[key] = false;\\n    }\\n    ko.applyBindings(self.model, self.dom);\\n}\\n);\\n    (WebIO.importBlock({\\\"data\\\":[{\\\"name\\\":\\\"knockout\\\",\\\"type\\\":\\\"js\\\",\\\"url\\\":\\\"/assetserver/727383f2a47bd31570b7da84eee7b022dd6d7c78-knockout.js\\\"},{\\\"name\\\":\\\"knockout_punches\\\",\\\"type\\\":\\\"js\\\",\\\"url\\\":\\\"/assetserver/382b41b3b1bd9f26f75861d360bad7f8beea211f-knockout_punches.js\\\"}],\\\"type\\\":\\\"async_block\\\"})).then((imports) => handler.apply(this, imports));\\n}\\n\")])], Dict{Symbol, Any}(:className => \"field interact-widget\")), WebIO.Node{WebIO.DOM}(WebIO.DOM(:html, :div), Any[WebIO.Scope(WebIO.Node{WebIO.DOM}(WebIO.DOM(:html, :div), Any[WebIO.Node{WebIO.DOM}(WebIO.DOM(:html, :div), Any[WebIO.Node{WebIO.DOM}(WebIO.DOM(:html, :label), Any[\"vis_range\"], Dict{Symbol, Any}(:className => \"interact \", :style => Dict{Any, Any}(:padding => \"5px 10px 0px 10px\")))], Dict{Symbol, Any}(:className => \"interact-flex-row-left\")), WebIO.Node{WebIO.DOM}(WebIO.DOM(:html, :div), Any[WebIO.Node{WebIO.DOM}(WebIO.DOM(:html, :input), Any[], Dict{Symbol, Any}(:max => 8, :min => 1, :attributes => Dict{Any, Any}(:type => \"range\", Symbol(\"data-bind\") => \"numericValue: index, valueUpdate: 'input', event: {change: function (){this.changes(this.changes()+1)}}\", \"orient\" => \"horizontal\"), :step => 1, :className => \"slider slider is-fullwidth\", :style => Dict{Any, Any}()))], Dict{Symbol, Any}(:className => \"interact-flex-row-center\")), WebIO.Node{WebIO.DOM}(WebIO.DOM(:html, :div), Any[WebIO.Node{WebIO.DOM}(WebIO.DOM(:html, :p), Any[], Dict{Symbol, Any}(:attributes => Dict(\"data-bind\" => \"text: formatted_val\")))], Dict{Symbol, Any}(:className => \"interact-flex-row-right\"))], Dict{Symbol, Any}(:className => \"interact-flex-row interact-widget\")), Dict{String, Tuple{Observables.AbstractObservable, Union{Nothing, Bool}}}(\"changes\" => (Observable(0), nothing), \"index\" => (Observable{Any}(4), nothing)), Set{String}(), nothing, WebIO.Asset[WebIO.Asset(\"js\", \"knockout\", \"/home/dushya/.julia/packages/Knockout/HReiN/src/../assets/knockout.js\"), WebIO.Asset(\"js\", \"knockout_punches\", \"/home/dushya/.julia/packages/Knockout/HReiN/src/../assets/knockout_punches.js\"), WebIO.Asset(\"js\", nothing, \"/home/dushya/.julia/packages/InteractBase/LJXv3/src/../assets/all.js\"), WebIO.Asset(\"css\", nothing, \"/home/dushya/.julia/packages/InteractBase/LJXv3/src/../assets/style.css\"), WebIO.Asset(\"css\", nothing, \"/home/dushya/.julia/packages/Interact/PENUy/src/../assets/bulma_confined.min.css\")], Dict{Any, Any}(\"changes\" => Any[WebIO.JSString(\"(function (val){return (val!=this.model[\\\"changes\\\"]()) ? (this.valueFromJulia[\\\"changes\\\"]=true, this.model[\\\"changes\\\"](val)) : undefined})\")], \"index\" => Any[WebIO.JSString(\"(function (val){return (val!=this.model[\\\"index\\\"]()) ? (this.valueFromJulia[\\\"index\\\"]=true, this.model[\\\"index\\\"](val)) : undefined})\")]), WebIO.ConnectionPool(Channel{Any}(32), Set{WebIO.AbstractConnection}(), Base.GenericCondition{ReentrantLock}(Base.IntrusiveLinkedList{Task}(Task (runnable) @0x00007fec5c76d780, Task (runnable) @0x00007fec5c76d780), ReentrantLock(nothing, 0x00000000, 0x00, Base.GenericCondition{Base.Threads.SpinLock}(Base.IntrusiveLinkedList{Task}(nothing, nothing), Base.Threads.SpinLock(0)), (1, 140652975381328, 139779710648320)))), WebIO.JSString[WebIO.JSString(\"function () {\\n    var handler = (function (ko, koPunches) {\\n    ko.punches.enableAll();\\n    ko.bindingHandlers.numericValue = {\\n        init: function(element, valueAccessor, allBindings, data, context) {\\n            var stringified = ko.observable(ko.unwrap(valueAccessor()));\\n            stringified.subscribe(function(value) {\\n                var val = parseFloat(value);\\n                if (!isNaN(val)) {\\n                    valueAccessor()(val);\\n                }\\n            });\\n            valueAccessor().subscribe(function(value) {\\n                var str = JSON.stringify(value);\\n                if ((str == \\\"0\\\") && ([\\\"-0\\\", \\\"-0.\\\"].indexOf(stringified()) >= 0))\\n                     return;\\n                 if ([\\\"null\\\", \\\"\\\"].indexOf(str) >= 0)\\n                     return;\\n                stringified(str);\\n            });\\n            ko.applyBindingsToNode(\\n                element,\\n                {\\n                    value: stringified,\\n                    valueUpdate: allBindings.get('valueUpdate'),\\n                },\\n                context,\\n            );\\n        }\\n    };\\n    var json_data = {\\\"formatted_vals\\\":[\\\"0.5\\\",\\\"1.0\\\",\\\"1.5\\\",\\\"2.0\\\",\\\"2.5\\\",\\\"3.0\\\",\\\"3.5\\\",\\\"4.0\\\"],\\\"changes\\\":WebIO.getval({\\\"name\\\":\\\"changes\\\",\\\"scope\\\":\\\"2028373784752530003\\\",\\\"id\\\":\\\"10078438309862646267\\\",\\\"type\\\":\\\"observable\\\"}),\\\"index\\\":WebIO.getval({\\\"name\\\":\\\"index\\\",\\\"scope\\\":\\\"2028373784752530003\\\",\\\"id\\\":\\\"12542504509499345197\\\",\\\"type\\\":\\\"observable\\\"})};\\n    var self = this;\\n    function AppViewModel() {\\n        for (var key in json_data) {\\n            var el = json_data[key];\\n            this[key] = Array.isArray(el) ? ko.observableArray(el) : ko.observable(el);\\n        }\\n        \\n        [this[\\\"formatted_val\\\"]=ko.computed(    function(){\\n        return this.formatted_vals()[parseInt(this.index())-(1)];\\n    }\\n,this)]\\n        [this[\\\"changes\\\"].subscribe((function (val){!(this.valueFromJulia[\\\"changes\\\"]) ? (WebIO.setval({\\\"name\\\":\\\"changes\\\",\\\"scope\\\":\\\"2028373784752530003\\\",\\\"id\\\":\\\"10078438309862646267\\\",\\\"type\\\":\\\"observable\\\"},val)) : undefined; return this.valueFromJulia[\\\"changes\\\"]=false}),self),this[\\\"index\\\"].subscribe((function (val){!(this.valueFromJulia[\\\"index\\\"]) ? (WebIO.setval({\\\"name\\\":\\\"index\\\",\\\"scope\\\":\\\"2028373784752530003\\\",\\\"id\\\":\\\"12542504509499345197\\\",\\\"type\\\":\\\"observable\\\"},val)) : undefined; return this.valueFromJulia[\\\"index\\\"]=false}),self)]\\n        \\n    }\\n    self.model = new AppViewModel();\\n    self.valueFromJulia = {};\\n    for (var key in json_data) {\\n        self.valueFromJulia[key] = false;\\n    }\\n    ko.applyBindings(self.model, self.dom);\\n}\\n);\\n    (WebIO.importBlock({\\\"data\\\":[{\\\"name\\\":\\\"knockout\\\",\\\"type\\\":\\\"js\\\",\\\"url\\\":\\\"/assetserver/727383f2a47bd31570b7da84eee7b022dd6d7c78-knockout.js\\\"},{\\\"name\\\":\\\"knockout_punches\\\",\\\"type\\\":\\\"js\\\",\\\"url\\\":\\\"/assetserver/382b41b3b1bd9f26f75861d360bad7f8beea211f-knockout_punches.js\\\"}],\\\"type\\\":\\\"async_block\\\"})).then((imports) => handler.apply(this, imports));\\n}\\n\")])], Dict{Symbol, Any}(:className => \"field interact-widget\"))], Dict{Symbol, Any}(:style => Dict(\"display\" => \"flex\", \"flex-direction\" => \"column\"))), WebIO.Node{WebIO.DOM}(WebIO.DOM(:html, :div), Any[WebIO.Node{WebIO.DOM}(WebIO.DOM(:html, :div), Any[WebIO.Scope(WebIO.Node{WebIO.DOM}(WebIO.DOM(:html, :div), Any[], Dict{Symbol, Any}(:id => \"container\")), Dict{String, Tuple{Observables.AbstractObservable, Union{Nothing, Bool}}}(\"value\" => (Observable(\"\\\\;\\\\;\"), nothing)), Set{String}(), nothing, WebIO.Asset[WebIO.Asset(\"js\", nothing, \"/home/dushya/.julia/packages/InteractBase/LJXv3/src/../assets/katex.min.js\"), WebIO.Asset(\"css\", nothing, \"/home/dushya/.julia/packages/InteractBase/LJXv3/src/../assets/katex.min.css\")], Dict{Any, Any}(\"value\" => Any[WebIO.JSString(\"(function (txt){return this.k.render(txt,this.container)})\")]), WebIO.ConnectionPool(Channel{Any}(32), Set{WebIO.AbstractConnection}(), Base.GenericCondition{ReentrantLock}(Base.IntrusiveLinkedList{Task}(Task (runnable) @0x00007febece3d5f0, Task (runnable) @0x00007febece3d5f0), ReentrantLock(nothing, 0x00000000, 0x00, Base.GenericCondition{Base.Threads.SpinLock}(Base.IntrusiveLinkedList{Task}(nothing, nothing), Base.Threads.SpinLock(0)), (8, 140651297029632, 140651297029392)))), WebIO.JSString[WebIO.JSString(\"function () {\\n    var handler = ((function (k){this.k=k; this.container=this.dom.querySelector(\\\"#container\\\"); return k.render(\\\"\\\\\\\\;\\\\\\\\;\\\",this.container)}));\\n    (WebIO.importBlock({\\\"data\\\":[{\\\"name\\\":null,\\\"type\\\":\\\"js\\\",\\\"url\\\":\\\"/assetserver/dd22ed1bf1896c2748f3fe616ce0b838adc895c1-katex.min.js\\\"},{\\\"name\\\":null,\\\"type\\\":\\\"css\\\",\\\"url\\\":\\\"/assetserver/46517a424aa5e6cffc1360d7e0848b601c584ee3-katex.min.css\\\"}],\\\"type\\\":\\\"async_block\\\"})).then((imports) => handler.apply(this, imports));\\n}\\n\")])], Dict{Symbol, Any}(:className => \"interact-widget\")), WebIO.Node{WebIO.DOM}(WebIO.DOM(:html, :div), Any[WebIO.Scope(WebIO.Node{WebIO.DOM}(WebIO.DOM(:html, :button), Any[\"run\"], Dict{Symbol, Any}(:attributes => Dict{Any, Any}(\"data-bind\" => \"click: function (){this.clicks(this.clicks()+1)}, css: {'is-loading' : loading}\"), :className => \"is-medium button is-primary\", :style => Dict{String, Any}())), Dict{String, Tuple{Observables.AbstractObservable, Union{Nothing, Bool}}}(\"loading\" => (Observable(false), nothing), \"clicks\" => (Observable(0), nothing)), Set{String}(), nothing, WebIO.Asset[WebIO.Asset(\"js\", \"knockout\", \"/home/dushya/.julia/packages/Knockout/HReiN/src/../assets/knockout.js\"), WebIO.Asset(\"js\", \"knockout_punches\", \"/home/dushya/.julia/packages/Knockout/HReiN/src/../assets/knockout_punches.js\"), WebIO.Asset(\"js\", nothing, \"/home/dushya/.julia/packages/InteractBase/LJXv3/src/../assets/all.js\"), WebIO.Asset(\"css\", nothing, \"/home/dushya/.julia/packages/InteractBase/LJXv3/src/../assets/style.css\"), WebIO.Asset(\"css\", nothing, \"/home/dushya/.julia/packages/Interact/PENUy/src/../assets/bulma_confined.min.css\")], Dict{Any, Any}(\"loading\" => Any[WebIO.JSString(\"(function (val){return (val!=this.model[\\\"loading\\\"]()) ? (this.valueFromJulia[\\\"loading\\\"]=true, this.model[\\\"loading\\\"](val)) : undefined})\")], \"clicks\" => Any[WebIO.JSString(\"(function (val){return (val!=this.model[\\\"clicks\\\"]()) ? (this.valueFromJulia[\\\"clicks\\\"]=true, this.model[\\\"clicks\\\"](val)) : undefined})\")]), WebIO.ConnectionPool(Channel{Any}(32), Set{WebIO.AbstractConnection}(), Base.GenericCondition{ReentrantLock}(Base.IntrusiveLinkedList{Task}(Task (runnable) @0x00007fec5c7ace20, Task (runnable) @0x00007fec5c7ace20), ReentrantLock(nothing, 0x00000000, 0x00, Base.GenericCondition{Base.Threads.SpinLock}(Base.IntrusiveLinkedList{Task}(nothing, nothing), Base.Threads.SpinLock(0)), (0, 0, 141733920768)))), WebIO.JSString[WebIO.JSString(\"function () {\\n    var handler = (function (ko, koPunches) {\\n    ko.punches.enableAll();\\n    ko.bindingHandlers.numericValue = {\\n        init: function(element, valueAccessor, allBindings, data, context) {\\n            var stringified = ko.observable(ko.unwrap(valueAccessor()));\\n            stringified.subscribe(function(value) {\\n                var val = parseFloat(value);\\n                if (!isNaN(val)) {\\n                    valueAccessor()(val);\\n                }\\n            });\\n            valueAccessor().subscribe(function(value) {\\n                var str = JSON.stringify(value);\\n                if ((str == \\\"0\\\") && ([\\\"-0\\\", \\\"-0.\\\"].indexOf(stringified()) >= 0))\\n                     return;\\n                 if ([\\\"null\\\", \\\"\\\"].indexOf(str) >= 0)\\n                     return;\\n                stringified(str);\\n            });\\n            ko.applyBindingsToNode(\\n                element,\\n                {\\n                    value: stringified,\\n                    valueUpdate: allBindings.get('valueUpdate'),\\n                },\\n                context,\\n            );\\n        }\\n    };\\n    var json_data = {\\\"loading\\\":WebIO.getval({\\\"name\\\":\\\"loading\\\",\\\"scope\\\":\\\"2928077452663894263\\\",\\\"id\\\":\\\"1276883144041200722\\\",\\\"type\\\":\\\"observable\\\"}),\\\"clicks\\\":WebIO.getval({\\\"name\\\":\\\"clicks\\\",\\\"scope\\\":\\\"2928077452663894263\\\",\\\"id\\\":\\\"8390091486119135520\\\",\\\"type\\\":\\\"observable\\\"})};\\n    var self = this;\\n    function AppViewModel() {\\n        for (var key in json_data) {\\n            var el = json_data[key];\\n            this[key] = Array.isArray(el) ? ko.observableArray(el) : ko.observable(el);\\n        }\\n        \\n        \\n        [this[\\\"loading\\\"].subscribe((function (val){!(this.valueFromJulia[\\\"loading\\\"]) ? (WebIO.setval({\\\"name\\\":\\\"loading\\\",\\\"scope\\\":\\\"2928077452663894263\\\",\\\"id\\\":\\\"1276883144041200722\\\",\\\"type\\\":\\\"observable\\\"},val)) : undefined; return this.valueFromJulia[\\\"loading\\\"]=false}),self),this[\\\"clicks\\\"].subscribe((function (val){!(this.valueFromJulia[\\\"clicks\\\"]) ? (WebIO.setval({\\\"name\\\":\\\"clicks\\\",\\\"scope\\\":\\\"2928077452663894263\\\",\\\"id\\\":\\\"8390091486119135520\\\",\\\"type\\\":\\\"observable\\\"},val)) : undefined; return this.valueFromJulia[\\\"clicks\\\"]=false}),self)]\\n        \\n    }\\n    self.model = new AppViewModel();\\n    self.valueFromJulia = {};\\n    for (var key in json_data) {\\n        self.valueFromJulia[key] = false;\\n    }\\n    ko.applyBindings(self.model, self.dom);\\n}\\n);\\n    (WebIO.importBlock({\\\"data\\\":[{\\\"name\\\":\\\"knockout\\\",\\\"type\\\":\\\"js\\\",\\\"url\\\":\\\"/assetserver/727383f2a47bd31570b7da84eee7b022dd6d7c78-knockout.js\\\"},{\\\"name\\\":\\\"knockout_punches\\\",\\\"type\\\":\\\"js\\\",\\\"url\\\":\\\"/assetserver/382b41b3b1bd9f26f75861d360bad7f8beea211f-knockout_punches.js\\\"}],\\\"type\\\":\\\"async_block\\\"})).then((imports) => handler.apply(this, imports));\\n}\\n\")])], Dict{Symbol, Any}(:className => \"field interact-widget\")), WebIO.Node{WebIO.DOM}(WebIO.DOM(:html, :div), Any[WebIO.Scope(WebIO.Node{WebIO.DOM}(WebIO.DOM(:html, :div), Any[], Dict{Symbol, Any}(:id => \"container\")), Dict{String, Tuple{Observables.AbstractObservable, Union{Nothing, Bool}}}(\"value\" => (Observable(\"\\\\;\\\\;\"), nothing)), Set{String}(), nothing, WebIO.Asset[WebIO.Asset(\"js\", nothing, \"/home/dushya/.julia/packages/InteractBase/LJXv3/src/../assets/katex.min.js\"), WebIO.Asset(\"css\", nothing, \"/home/dushya/.julia/packages/InteractBase/LJXv3/src/../assets/katex.min.css\")], Dict{Any, Any}(\"value\" => Any[WebIO.JSString(\"(function (txt){return this.k.render(txt,this.container)})\")]), WebIO.ConnectionPool(Channel{Any}(32), Set{WebIO.AbstractConnection}(), Base.GenericCondition{ReentrantLock}(Base.IntrusiveLinkedList{Task}(Task (runnable) @0x00007febece3d5f0, Task (runnable) @0x00007febece3d5f0), ReentrantLock(nothing, 0x00000000, 0x00, Base.GenericCondition{Base.Threads.SpinLock}(Base.IntrusiveLinkedList{Task}(nothing, nothing), Base.Threads.SpinLock(0)), (8, 140651297029632, 140651297029392)))), WebIO.JSString[WebIO.JSString(\"function () {\\n    var handler = ((function (k){this.k=k; this.container=this.dom.querySelector(\\\"#container\\\"); return k.render(\\\"\\\\\\\\;\\\\\\\\;\\\",this.container)}));\\n    (WebIO.importBlock({\\\"data\\\":[{\\\"name\\\":null,\\\"type\\\":\\\"js\\\",\\\"url\\\":\\\"/assetserver/dd22ed1bf1896c2748f3fe616ce0b838adc895c1-katex.min.js\\\"},{\\\"name\\\":null,\\\"type\\\":\\\"css\\\",\\\"url\\\":\\\"/assetserver/46517a424aa5e6cffc1360d7e0848b601c584ee3-katex.min.css\\\"}],\\\"type\\\":\\\"async_block\\\"})).then((imports) => handler.apply(this, imports));\\n}\\n\")])], Dict{Symbol, Any}(:className => \"interact-widget\")), WebIO.Node{WebIO.DOM}(WebIO.DOM(:html, :div), Any[WebIO.Scope(WebIO.Node{WebIO.DOM}(WebIO.DOM(:html, :button), Any[\"stop\"], Dict{Symbol, Any}(:attributes => Dict{Any, Any}(\"data-bind\" => \"click: function (){this.clicks(this.clicks()+1)}, css: {'is-loading' : loading}\"), :className => \"is-medium button is-primary\", :style => Dict{String, Any}())), Dict{String, Tuple{Observables.AbstractObservable, Union{Nothing, Bool}}}(\"loading\" => (Observable(false), nothing), \"clicks\" => (Observable(0), nothing)), Set{String}(), nothing, WebIO.Asset[WebIO.Asset(\"js\", \"knockout\", \"/home/dushya/.julia/packages/Knockout/HReiN/src/../assets/knockout.js\"), WebIO.Asset(\"js\", \"knockout_punches\", \"/home/dushya/.julia/packages/Knockout/HReiN/src/../assets/knockout_punches.js\"), WebIO.Asset(\"js\", nothing, \"/home/dushya/.julia/packages/InteractBase/LJXv3/src/../assets/all.js\"), WebIO.Asset(\"css\", nothing, \"/home/dushya/.julia/packages/InteractBase/LJXv3/src/../assets/style.css\"), WebIO.Asset(\"css\", nothing, \"/home/dushya/.julia/packages/Interact/PENUy/src/../assets/bulma_confined.min.css\")], Dict{Any, Any}(\"loading\" => Any[WebIO.JSString(\"(function (val){return (val!=this.model[\\\"loading\\\"]()) ? (this.valueFromJulia[\\\"loading\\\"]=true, this.model[\\\"loading\\\"](val)) : undefined})\")], \"clicks\" => Any[WebIO.JSString(\"(function (val){return (val!=this.model[\\\"clicks\\\"]()) ? (this.valueFromJulia[\\\"clicks\\\"]=true, this.model[\\\"clicks\\\"](val)) : undefined})\")]), WebIO.ConnectionPool(Channel{Any}(32), Set{WebIO.AbstractConnection}(), Base.GenericCondition{ReentrantLock}(Base.IntrusiveLinkedList{Task}(Task (runnable) @0x00007fec5c870330, Task (runnable) @0x00007fec5c870330), ReentrantLock(nothing, 0x00000000, 0x00, Base.GenericCondition{Base.Threads.SpinLock}(Base.IntrusiveLinkedList{Task}(nothing, nothing), Base.Threads.SpinLock(0)), (1, 140651037256624, 139779710648320)))), WebIO.JSString[WebIO.JSString(\"function () {\\n    var handler = (function (ko, koPunches) {\\n    ko.punches.enableAll();\\n    ko.bindingHandlers.numericValue = {\\n        init: function(element, valueAccessor, allBindings, data, context) {\\n            var stringified = ko.observable(ko.unwrap(valueAccessor()));\\n            stringified.subscribe(function(value) {\\n                var val = parseFloat(value);\\n                if (!isNaN(val)) {\\n                    valueAccessor()(val);\\n                }\\n            });\\n            valueAccessor().subscribe(function(value) {\\n                var str = JSON.stringify(value);\\n                if ((str == \\\"0\\\") && ([\\\"-0\\\", \\\"-0.\\\"].indexOf(stringified()) >= 0))\\n                     return;\\n                 if ([\\\"null\\\", \\\"\\\"].indexOf(str) >= 0)\\n                     return;\\n                stringified(str);\\n            });\\n            ko.applyBindingsToNode(\\n                element,\\n                {\\n                    value: stringified,\\n                    valueUpdate: allBindings.get('valueUpdate'),\\n                },\\n                context,\\n            );\\n        }\\n    };\\n    var json_data = {\\\"loading\\\":WebIO.getval({\\\"name\\\":\\\"loading\\\",\\\"scope\\\":\\\"10587971008092242619\\\",\\\"id\\\":\\\"646155095254376215\\\",\\\"type\\\":\\\"observable\\\"}),\\\"clicks\\\":WebIO.getval({\\\"name\\\":\\\"clicks\\\",\\\"scope\\\":\\\"10587971008092242619\\\",\\\"id\\\":\\\"8697393303913021736\\\",\\\"type\\\":\\\"observable\\\"})};\\n    var self = this;\\n    function AppViewModel() {\\n        for (var key in json_data) {\\n            var el = json_data[key];\\n            this[key] = Array.isArray(el) ? ko.observableArray(el) : ko.observable(el);\\n        }\\n        \\n        \\n        [this[\\\"loading\\\"].subscribe((function (val){!(this.valueFromJulia[\\\"loading\\\"]) ? (WebIO.setval({\\\"name\\\":\\\"loading\\\",\\\"scope\\\":\\\"10587971008092242619\\\",\\\"id\\\":\\\"646155095254376215\\\",\\\"type\\\":\\\"observable\\\"},val)) : undefined; return this.valueFromJulia[\\\"loading\\\"]=false}),self),this[\\\"clicks\\\"].subscribe((function (val){!(this.valueFromJulia[\\\"clicks\\\"]) ? (WebIO.setval({\\\"name\\\":\\\"clicks\\\",\\\"scope\\\":\\\"10587971008092242619\\\",\\\"id\\\":\\\"8697393303913021736\\\",\\\"type\\\":\\\"observable\\\"},val)) : undefined; return this.valueFromJulia[\\\"clicks\\\"]=false}),self)]\\n        \\n    }\\n    self.model = new AppViewModel();\\n    self.valueFromJulia = {};\\n    for (var key in json_data) {\\n        self.valueFromJulia[key] = false;\\n    }\\n    ko.applyBindings(self.model, self.dom);\\n}\\n);\\n    (WebIO.importBlock({\\\"data\\\":[{\\\"name\\\":\\\"knockout\\\",\\\"type\\\":\\\"js\\\",\\\"url\\\":\\\"/assetserver/727383f2a47bd31570b7da84eee7b022dd6d7c78-knockout.js\\\"},{\\\"name\\\":\\\"knockout_punches\\\",\\\"type\\\":\\\"js\\\",\\\"url\\\":\\\"/assetserver/382b41b3b1bd9f26f75861d360bad7f8beea211f-knockout_punches.js\\\"}],\\\"type\\\":\\\"async_block\\\"})).then((imports) => handler.apply(this, imports));\\n}\\n\")])], Dict{Symbol, Any}(:className => \"field interact-widget\")), WebIO.Node{WebIO.DOM}(WebIO.DOM(:html, :div), Any[WebIO.Scope(WebIO.Node{WebIO.DOM}(WebIO.DOM(:html, :div), Any[], Dict{Symbol, Any}(:id => \"container\")), Dict{String, Tuple{Observables.AbstractObservable, Union{Nothing, Bool}}}(\"value\" => (Observable(\"\\\\;\\\\;\"), nothing)), Set{String}(), nothing, WebIO.Asset[WebIO.Asset(\"js\", nothing, \"/home/dushya/.julia/packages/InteractBase/LJXv3/src/../assets/katex.min.js\"), WebIO.Asset(\"css\", nothing, \"/home/dushya/.julia/packages/InteractBase/LJXv3/src/../assets/katex.min.css\")], Dict{Any, Any}(\"value\" => Any[WebIO.JSString(\"(function (txt){return this.k.render(txt,this.container)})\")]), WebIO.ConnectionPool(Channel{Any}(32), Set{WebIO.AbstractConnection}(), Base.GenericCondition{ReentrantLock}(Base.IntrusiveLinkedList{Task}(Task (runnable) @0x00007febece3d5f0, Task (runnable) @0x00007febece3d5f0), ReentrantLock(nothing, 0x00000000, 0x00, Base.GenericCondition{Base.Threads.SpinLock}(Base.IntrusiveLinkedList{Task}(nothing, nothing), Base.Threads.SpinLock(0)), (8, 140651297029632, 140651297029392)))), WebIO.JSString[WebIO.JSString(\"function () {\\n    var handler = ((function (k){this.k=k; this.container=this.dom.querySelector(\\\"#container\\\"); return k.render(\\\"\\\\\\\\;\\\\\\\\;\\\",this.container)}));\\n    (WebIO.importBlock({\\\"data\\\":[{\\\"name\\\":null,\\\"type\\\":\\\"js\\\",\\\"url\\\":\\\"/assetserver/dd22ed1bf1896c2748f3fe616ce0b838adc895c1-katex.min.js\\\"},{\\\"name\\\":null,\\\"type\\\":\\\"css\\\",\\\"url\\\":\\\"/assetserver/46517a424aa5e6cffc1360d7e0848b601c584ee3-katex.min.css\\\"}],\\\"type\\\":\\\"async_block\\\"})).then((imports) => handler.apply(this, imports));\\n}\\n\")])], Dict{Symbol, Any}(:className => \"interact-widget\")), WebIO.Node{WebIO.DOM}(WebIO.DOM(:html, :div), Any[WebIO.Scope(WebIO.Node{WebIO.DOM}(WebIO.DOM(:html, :button), Any[\"reset\"], Dict{Symbol, Any}(:attributes => Dict{Any, Any}(\"data-bind\" => \"click: function (){this.clicks(this.clicks()+1)}, css: {'is-loading' : loading}\"), :className => \"is-medium button is-primary\", :style => Dict{String, Any}())), Dict{String, Tuple{Observables.AbstractObservable, Union{Nothing, Bool}}}(\"loading\" => (Observable(false), nothing), \"clicks\" => (Observable(0), nothing)), Set{String}(), nothing, WebIO.Asset[WebIO.Asset(\"js\", \"knockout\", \"/home/dushya/.julia/packages/Knockout/HReiN/src/../assets/knockout.js\"), WebIO.Asset(\"js\", \"knockout_punches\", \"/home/dushya/.julia/packages/Knockout/HReiN/src/../assets/knockout_punches.js\"), WebIO.Asset(\"js\", nothing, \"/home/dushya/.julia/packages/InteractBase/LJXv3/src/../assets/all.js\"), WebIO.Asset(\"css\", nothing, \"/home/dushya/.julia/packages/InteractBase/LJXv3/src/../assets/style.css\"), WebIO.Asset(\"css\", nothing, \"/home/dushya/.julia/packages/Interact/PENUy/src/../assets/bulma_confined.min.css\")], Dict{Any, Any}(\"loading\" => Any[WebIO.JSString(\"(function (val){return (val!=this.model[\\\"loading\\\"]()) ? (this.valueFromJulia[\\\"loading\\\"]=true, this.model[\\\"loading\\\"](val)) : undefined})\")], \"clicks\" => Any[WebIO.JSString(\"(function (val){return (val!=this.model[\\\"clicks\\\"]()) ? (this.valueFromJulia[\\\"clicks\\\"]=true, this.model[\\\"clicks\\\"](val)) : undefined})\")]), WebIO.ConnectionPool(Channel{Any}(32), Set{WebIO.AbstractConnection}(), Base.GenericCondition{ReentrantLock}(Base.IntrusiveLinkedList{Task}(Task (runnable) @0x00007fec5c9215f0, Task (runnable) @0x00007fec5c9215f0), ReentrantLock(nothing, 0x00000000, 0x00, Base.GenericCondition{Base.Threads.SpinLock}(Base.IntrusiveLinkedList{Task}(nothing, nothing), Base.Threads.SpinLock(0)), (8, 0, 141733920768)))), WebIO.JSString[WebIO.JSString(\"function () {\\n    var handler = (function (ko, koPunches) {\\n    ko.punches.enableAll();\\n    ko.bindingHandlers.numericValue = {\\n        init: function(element, valueAccessor, allBindings, data, context) {\\n            var stringified = ko.observable(ko.unwrap(valueAccessor()));\\n            stringified.subscribe(function(value) {\\n                var val = parseFloat(value);\\n                if (!isNaN(val)) {\\n                    valueAccessor()(val);\\n                }\\n            });\\n            valueAccessor().subscribe(function(value) {\\n                var str = JSON.stringify(value);\\n                if ((str == \\\"0\\\") && ([\\\"-0\\\", \\\"-0.\\\"].indexOf(stringified()) >= 0))\\n                     return;\\n                 if ([\\\"null\\\", \\\"\\\"].indexOf(str) >= 0)\\n                     return;\\n                stringified(str);\\n            });\\n            ko.applyBindingsToNode(\\n                element,\\n                {\\n                    value: stringified,\\n                    valueUpdate: allBindings.get('valueUpdate'),\\n                },\\n                context,\\n            );\\n        }\\n    };\\n    var json_data = {\\\"loading\\\":WebIO.getval({\\\"name\\\":\\\"loading\\\",\\\"scope\\\":\\\"3799604427850947112\\\",\\\"id\\\":\\\"2200832967505118946\\\",\\\"type\\\":\\\"observable\\\"}),\\\"clicks\\\":WebIO.getval({\\\"name\\\":\\\"clicks\\\",\\\"scope\\\":\\\"3799604427850947112\\\",\\\"id\\\":\\\"5885449822031143807\\\",\\\"type\\\":\\\"observable\\\"})};\\n    var self = this;\\n    function AppViewModel() {\\n        for (var key in json_data) {\\n            var el = json_data[key];\\n            this[key] = Array.isArray(el) ? ko.observableArray(el) : ko.observable(el);\\n        }\\n        \\n        \\n        [this[\\\"loading\\\"].subscribe((function (val){!(this.valueFromJulia[\\\"loading\\\"]) ? (WebIO.setval({\\\"name\\\":\\\"loading\\\",\\\"scope\\\":\\\"3799604427850947112\\\",\\\"id\\\":\\\"2200832967505118946\\\",\\\"type\\\":\\\"observable\\\"},val)) : undefined; return this.valueFromJulia[\\\"loading\\\"]=false}),self),this[\\\"clicks\\\"].subscribe((function (val){!(this.valueFromJulia[\\\"clicks\\\"]) ? (WebIO.setval({\\\"name\\\":\\\"clicks\\\",\\\"scope\\\":\\\"3799604427850947112\\\",\\\"id\\\":\\\"5885449822031143807\\\",\\\"type\\\":\\\"observable\\\"},val)) : undefined; return this.valueFromJulia[\\\"clicks\\\"]=false}),self)]\\n        \\n    }\\n    self.model = new AppViewModel();\\n    self.valueFromJulia = {};\\n    for (var key in json_data) {\\n        self.valueFromJulia[key] = false;\\n    }\\n    ko.applyBindings(self.model, self.dom);\\n}\\n);\\n    (WebIO.importBlock({\\\"data\\\":[{\\\"name\\\":\\\"knockout\\\",\\\"type\\\":\\\"js\\\",\\\"url\\\":\\\"/assetserver/727383f2a47bd31570b7da84eee7b022dd6d7c78-knockout.js\\\"},{\\\"name\\\":\\\"knockout_punches\\\",\\\"type\\\":\\\"js\\\",\\\"url\\\":\\\"/assetserver/382b41b3b1bd9f26f75861d360bad7f8beea211f-knockout_punches.js\\\"}],\\\"type\\\":\\\"async_block\\\"})).then((imports) => handler.apply(this, imports));\\n}\\n\")])], Dict{Symbol, Any}(:className => \"field interact-widget\")), WebIO.Node{WebIO.DOM}(WebIO.DOM(:html, :div), Any[WebIO.Scope(WebIO.Node{WebIO.DOM}(WebIO.DOM(:html, :div), Any[], Dict{Symbol, Any}(:id => \"container\")), Dict{String, Tuple{Observables.AbstractObservable, Union{Nothing, Bool}}}(\"value\" => (Observable(\"\\\\;\\\\;\"), nothing)), Set{String}(), nothing, WebIO.Asset[WebIO.Asset(\"js\", nothing, \"/home/dushya/.julia/packages/InteractBase/LJXv3/src/../assets/katex.min.js\"), WebIO.Asset(\"css\", nothing, \"/home/dushya/.julia/packages/InteractBase/LJXv3/src/../assets/katex.min.css\")], Dict{Any, Any}(\"value\" => Any[WebIO.JSString(\"(function (txt){return this.k.render(txt,this.container)})\")]), WebIO.ConnectionPool(Channel{Any}(32), Set{WebIO.AbstractConnection}(), Base.GenericCondition{ReentrantLock}(Base.IntrusiveLinkedList{Task}(Task (runnable) @0x00007febece3d5f0, Task (runnable) @0x00007febece3d5f0), ReentrantLock(nothing, 0x00000000, 0x00, Base.GenericCondition{Base.Threads.SpinLock}(Base.IntrusiveLinkedList{Task}(nothing, nothing), Base.Threads.SpinLock(0)), (8, 140651297029632, 140651297029392)))), WebIO.JSString[WebIO.JSString(\"function () {\\n    var handler = ((function (k){this.k=k; this.container=this.dom.querySelector(\\\"#container\\\"); return k.render(\\\"\\\\\\\\;\\\\\\\\;\\\",this.container)}));\\n    (WebIO.importBlock({\\\"data\\\":[{\\\"name\\\":null,\\\"type\\\":\\\"js\\\",\\\"url\\\":\\\"/assetserver/dd22ed1bf1896c2748f3fe616ce0b838adc895c1-katex.min.js\\\"},{\\\"name\\\":null,\\\"type\\\":\\\"css\\\",\\\"url\\\":\\\"/assetserver/46517a424aa5e6cffc1360d7e0848b601c584ee3-katex.min.css\\\"}],\\\"type\\\":\\\"async_block\\\"})).then((imports) => handler.apply(this, imports));\\n}\\n\")])], Dict{Symbol, Any}(:className => \"interact-widget\")), WebIO.Node{WebIO.DOM}(WebIO.DOM(:html, :div), Any[WebIO.Scope(WebIO.Node{WebIO.DOM}(WebIO.DOM(:html, :button), Any[\"save\"], Dict{Symbol, Any}(:attributes => Dict{Any, Any}(\"data-bind\" => \"click: function (){this.clicks(this.clicks()+1)}, css: {'is-loading' : loading}\"), :className => \"is-medium button is-primary\", :style => Dict{String, Any}())), Dict{String, Tuple{Observables.AbstractObservable, Union{Nothing, Bool}}}(\"loading\" => (Observable(false), nothing), \"clicks\" => (Observable(0), nothing)), Set{String}(), nothing, WebIO.Asset[WebIO.Asset(\"js\", \"knockout\", \"/home/dushya/.julia/packages/Knockout/HReiN/src/../assets/knockout.js\"), WebIO.Asset(\"js\", \"knockout_punches\", \"/home/dushya/.julia/packages/Knockout/HReiN/src/../assets/knockout_punches.js\"), WebIO.Asset(\"js\", nothing, \"/home/dushya/.julia/packages/InteractBase/LJXv3/src/../assets/all.js\"), WebIO.Asset(\"css\", nothing, \"/home/dushya/.julia/packages/InteractBase/LJXv3/src/../assets/style.css\"), WebIO.Asset(\"css\", nothing, \"/home/dushya/.julia/packages/Interact/PENUy/src/../assets/bulma_confined.min.css\")], Dict{Any, Any}(\"loading\" => Any[WebIO.JSString(\"(function (val){return (val!=this.model[\\\"loading\\\"]()) ? (this.valueFromJulia[\\\"loading\\\"]=true, this.model[\\\"loading\\\"](val)) : undefined})\")], \"clicks\" => Any[WebIO.JSString(\"(function (val){return (val!=this.model[\\\"clicks\\\"]()) ? (this.valueFromJulia[\\\"clicks\\\"]=true, this.model[\\\"clicks\\\"](val)) : undefined})\")]), WebIO.ConnectionPool(Channel{Any}(32), Set{WebIO.AbstractConnection}(), Base.GenericCondition{ReentrantLock}(Base.IntrusiveLinkedList{Task}(Task (runnable) @0x00007fec5c9c0c90, Task (runnable) @0x00007fec5c9c0c90), ReentrantLock(nothing, 0x00000000, 0x00, Base.GenericCondition{Base.Threads.SpinLock}(Base.IntrusiveLinkedList{Task}(nothing, nothing), Base.Threads.SpinLock(0)), (8, 0, 139779710648320)))), WebIO.JSString[WebIO.JSString(\"function () {\\n    var handler = (function (ko, koPunches) {\\n    ko.punches.enableAll();\\n    ko.bindingHandlers.numericValue = {\\n        init: function(element, valueAccessor, allBindings, data, context) {\\n            var stringified = ko.observable(ko.unwrap(valueAccessor()));\\n            stringified.subscribe(function(value) {\\n                var val = parseFloat(value);\\n                if (!isNaN(val)) {\\n                    valueAccessor()(val);\\n                }\\n            });\\n            valueAccessor().subscribe(function(value) {\\n                var str = JSON.stringify(value);\\n                if ((str == \\\"0\\\") && ([\\\"-0\\\", \\\"-0.\\\"].indexOf(stringified()) >= 0))\\n                     return;\\n                 if ([\\\"null\\\", \\\"\\\"].indexOf(str) >= 0)\\n                     return;\\n                stringified(str);\\n            });\\n            ko.applyBindingsToNode(\\n                element,\\n                {\\n                    value: stringified,\\n                    valueUpdate: allBindings.get('valueUpdate'),\\n                },\\n                context,\\n            );\\n        }\\n    };\\n    var json_data = {\\\"loading\\\":WebIO.getval({\\\"name\\\":\\\"loading\\\",\\\"scope\\\":\\\"6043610289983087438\\\",\\\"id\\\":\\\"12513624496733151371\\\",\\\"type\\\":\\\"observable\\\"}),\\\"clicks\\\":WebIO.getval({\\\"name\\\":\\\"clicks\\\",\\\"scope\\\":\\\"6043610289983087438\\\",\\\"id\\\":\\\"5883580828349962945\\\",\\\"type\\\":\\\"observable\\\"})};\\n    var self = this;\\n    function AppViewModel() {\\n        for (var key in json_data) {\\n            var el = json_data[key];\\n            this[key] = Array.isArray(el) ? ko.observableArray(el) : ko.observable(el);\\n        }\\n        \\n        \\n        [this[\\\"loading\\\"].subscribe((function (val){!(this.valueFromJulia[\\\"loading\\\"]) ? (WebIO.setval({\\\"name\\\":\\\"loading\\\",\\\"scope\\\":\\\"6043610289983087438\\\",\\\"id\\\":\\\"12513624496733151371\\\",\\\"type\\\":\\\"observable\\\"},val)) : undefined; return this.valueFromJulia[\\\"loading\\\"]=false}),self),this[\\\"clicks\\\"].subscribe((function (val){!(this.valueFromJulia[\\\"clicks\\\"]) ? (WebIO.setval({\\\"name\\\":\\\"clicks\\\",\\\"scope\\\":\\\"6043610289983087438\\\",\\\"id\\\":\\\"5883580828349962945\\\",\\\"type\\\":\\\"observable\\\"},val)) : undefined; return this.valueFromJulia[\\\"clicks\\\"]=false}),self)]\\n        \\n    }\\n    self.model = new AppViewModel();\\n    self.valueFromJulia = {};\\n    for (var key in json_data) {\\n        self.valueFromJulia[key] = false;\\n    }\\n    ko.applyBindings(self.model, self.dom);\\n}\\n);\\n    (WebIO.importBlock({\\\"data\\\":[{\\\"name\\\":\\\"knockout\\\",\\\"type\\\":\\\"js\\\",\\\"url\\\":\\\"/assetserver/727383f2a47bd31570b7da84eee7b022dd6d7c78-knockout.js\\\"},{\\\"name\\\":\\\"knockout_punches\\\",\\\"type\\\":\\\"js\\\",\\\"url\\\":\\\"/assetserver/382b41b3b1bd9f26f75861d360bad7f8beea211f-knockout_punches.js\\\"}],\\\"type\\\":\\\"async_block\\\"})).then((imports) => handler.apply(this, imports));\\n}\\n\")])], Dict{Symbol, Any}(:className => \"field interact-widget\"))], Dict{Symbol, Any}(:style => Dict(\"display\" => \"flex\", \"flex-direction\" => \"row\")))], Dict{Symbol, Any}(:style => Dict(\"display\" => \"flex\", \"flex-direction\" => \"column\"))), WebIO.Node{WebIO.DOM}(WebIO.DOM(:html, :div), Any[WebIO.Scope(WebIO.Node{WebIO.DOM}(WebIO.DOM(:html, :div), Any[], Dict{Symbol, Any}(:id => \"container\")), Dict{String, Tuple{Observables.AbstractObservable, Union{Nothing, Bool}}}(\"value\" => (Observable(\"\\\\;\\\\;\"), nothing)), Set{String}(), nothing, WebIO.Asset[WebIO.Asset(\"js\", nothing, \"/home/dushya/.julia/packages/InteractBase/LJXv3/src/../assets/katex.min.js\"), WebIO.Asset(\"css\", nothing, \"/home/dushya/.julia/packages/InteractBase/LJXv3/src/../assets/katex.min.css\")], Dict{Any, Any}(\"value\" => Any[WebIO.JSString(\"(function (txt){return this.k.render(txt,this.container)})\")]), WebIO.ConnectionPool(Channel{Any}(32), Set{WebIO.AbstractConnection}(), Base.GenericCondition{ReentrantLock}(Base.IntrusiveLinkedList{Task}(Task (runnable) @0x00007febece3d5f0, Task (runnable) @0x00007febece3d5f0), ReentrantLock(nothing, 0x00000000, 0x00, Base.GenericCondition{Base.Threads.SpinLock}(Base.IntrusiveLinkedList{Task}(nothing, nothing), Base.Threads.SpinLock(0)), (8, 140651297029632, 140651297029392)))), WebIO.JSString[WebIO.JSString(\"function () {\\n    var handler = ((function (k){this.k=k; this.container=this.dom.querySelector(\\\"#container\\\"); return k.render(\\\"\\\\\\\\;\\\\\\\\;\\\",this.container)}));\\n    (WebIO.importBlock({\\\"data\\\":[{\\\"name\\\":null,\\\"type\\\":\\\"js\\\",\\\"url\\\":\\\"/assetserver/dd22ed1bf1896c2748f3fe616ce0b838adc895c1-katex.min.js\\\"},{\\\"name\\\":null,\\\"type\\\":\\\"css\\\",\\\"url\\\":\\\"/assetserver/46517a424aa5e6cffc1360d7e0848b601c584ee3-katex.min.css\\\"}],\\\"type\\\":\\\"async_block\\\"})).then((imports) => handler.apply(this, imports));\\n}\\n\")])], Dict{Symbol, Any}(:className => \"interact-widget\")), Observable(Luxor.Drawing(430.0, 430.0, \"\", Cairo.CairoSurfaceBase{UInt32}(Ptr{Nothing} @0x0000000000000000, 430.0, 430.0), Cairo.CairoContext(Ptr{Nothing} @0x0000000005a473c0, Cairo.CairoSurfaceBase{UInt32}(Ptr{Nothing} @0x0000000000000000, 430.0, 430.0), Ptr{Nothing} @0x0000000005e50710), :png, 0.0, 0.0, 0.0, 1.0, IOBuffer(data=UInt8[...], readable=true, writable=true, seekable=true, append=false, size=23022, maxsize=Inf, ptr=23023, mark=-1), UInt8[0x89, 0x50, 0x4e, 0x47, 0x0d, 0x0a, 0x1a, 0x0a, 0x00, 0x00  …  0x00, 0x00, 0x49, 0x45, 0x4e, 0x44, 0xae, 0x42, 0x60, 0x82], false)), WebIO.Node{WebIO.DOM}(WebIO.DOM(:html, :div), Any[WebIO.Scope(WebIO.Node{WebIO.DOM}(WebIO.DOM(:html, :div), Any[], Dict{Symbol, Any}(:id => \"container\")), Dict{String, Tuple{Observables.AbstractObservable, Union{Nothing, Bool}}}(\"value\" => (Observable(\"\\\\;\\\\;\"), nothing)), Set{String}(), nothing, WebIO.Asset[WebIO.Asset(\"js\", nothing, \"/home/dushya/.julia/packages/InteractBase/LJXv3/src/../assets/katex.min.js\"), WebIO.Asset(\"css\", nothing, \"/home/dushya/.julia/packages/InteractBase/LJXv3/src/../assets/katex.min.css\")], Dict{Any, Any}(\"value\" => Any[WebIO.JSString(\"(function (txt){return this.k.render(txt,this.container)})\")]), WebIO.ConnectionPool(Channel{Any}(32), Set{WebIO.AbstractConnection}(), Base.GenericCondition{ReentrantLock}(Base.IntrusiveLinkedList{Task}(Task (runnable) @0x00007febece3d5f0, Task (runnable) @0x00007febece3d5f0), ReentrantLock(nothing, 0x00000000, 0x00, Base.GenericCondition{Base.Threads.SpinLock}(Base.IntrusiveLinkedList{Task}(nothing, nothing), Base.Threads.SpinLock(0)), (8, 140651297029632, 140651297029392)))), WebIO.JSString[WebIO.JSString(\"function () {\\n    var handler = ((function (k){this.k=k; this.container=this.dom.querySelector(\\\"#container\\\"); return k.render(\\\"\\\\\\\\;\\\\\\\\;\\\",this.container)}));\\n    (WebIO.importBlock({\\\"data\\\":[{\\\"name\\\":null,\\\"type\\\":\\\"js\\\",\\\"url\\\":\\\"/assetserver/dd22ed1bf1896c2748f3fe616ce0b838adc895c1-katex.min.js\\\"},{\\\"name\\\":null,\\\"type\\\":\\\"css\\\",\\\"url\\\":\\\"/assetserver/46517a424aa5e6cffc1360d7e0848b601c584ee3-katex.min.css\\\"}],\\\"type\\\":\\\"async_block\\\"})).then((imports) => handler.apply(this, imports));\\n}\\n\")])], Dict{Symbol, Any}(:className => \"interact-widget\")), WebIO.Node{WebIO.DOM}(WebIO.DOM(:html, :div), Any[], Dict{Symbol, Any}(:style => Dict(\"display\" => \"flex\", \"flex-direction\" => \"column\")))], Dict{Symbol, Any}(:style => Dict(\"display\" => \"flex\", \"flex-direction\" => \"row\")))], Dict{Symbol, Any}(:style => Dict(\"display\" => \"flex\", \"flex-direction\" => \"column\")))"
      ]
     },
     "execution_count": 8,
     "metadata": {
      "application/vnd.webio.node+json": {
       "kernelId": "c34e0d57-021e-4ab6-a24e-77a7a60dce39"
      }
     },
     "output_type": "execute_result"
    }
   ],
   "source": [
    "create_interactive_app(model, initialiser= initialiser!,\n",
    "    step_rule= step_rule!,\n",
    "    model_controls=[(:min_dis, \"slider\", 0.01:0.1:1.0),\n",
    "        (:coh_fac, \"slider\", 0.01:0.01:1.0),\n",
    "        (:sep_fac, \"slider\", 0.01:0.01:1.0),\n",
    "        (:aln_fac, \"slider\", 0.01:0.01:1.0),\n",
    "        (:vis_range, \"slider\", 0.5:0.5:4.0)], frames=400) "
   ]
  },
  {
   "cell_type": "markdown",
   "metadata": {},
   "source": [
    "## Step 5: Fetch Data \n",
    "\n",
    "It is easy to fetch any data recorded during simulation. For example, the data of average velocity of agents at each time step can be obtained as - "
   ]
  },
  {
   "cell_type": "code",
   "execution_count": 9,
   "metadata": {},
   "outputs": [
    {
     "data": {
      "text/html": [
       "<div><div style = \"float: left;\"><span>201×1 DataFrame</span></div><div style = \"float: right;\"><span style = \"font-style: italic;\">176 rows omitted</span></div><div style = \"clear: both;\"></div></div><div class = \"data-frame\" style = \"overflow-x: scroll;\"><table class = \"data-frame\" style = \"margin-bottom: 6px;\"><thead><tr class = \"header\"><th class = \"rowNumber\" style = \"font-weight: bold; text-align: right;\">Row</th><th style = \"text-align: left;\">average velocity</th></tr><tr class = \"subheader headerLastRow\"><th class = \"rowNumber\" style = \"font-weight: bold; text-align: right;\"></th><th title = \"Vect{2, Float64}\" style = \"text-align: left;\">Vect…</th></tr></thead><tbody><tr><td class = \"rowNumber\" style = \"font-weight: bold; text-align: right;\">1</td><td style = \"text-align: left;\">(-0.00116143, -0.0202515)\\n</td></tr><tr><td class = \"rowNumber\" style = \"font-weight: bold; text-align: right;\">2</td><td style = \"text-align: left;\">(0.00233828, -0.00621131)\\n</td></tr><tr><td class = \"rowNumber\" style = \"font-weight: bold; text-align: right;\">3</td><td style = \"text-align: left;\">(0.0169712, 0.00974195)\\n</td></tr><tr><td class = \"rowNumber\" style = \"font-weight: bold; text-align: right;\">4</td><td style = \"text-align: left;\">(0.0254857, 0.02854)\\n</td></tr><tr><td class = \"rowNumber\" style = \"font-weight: bold; text-align: right;\">5</td><td style = \"text-align: left;\">(0.0186902, 0.0490723)\\n</td></tr><tr><td class = \"rowNumber\" style = \"font-weight: bold; text-align: right;\">6</td><td style = \"text-align: left;\">(0.00892061, 0.0619153)\\n</td></tr><tr><td class = \"rowNumber\" style = \"font-weight: bold; text-align: right;\">7</td><td style = \"text-align: left;\">(0.0159589, 0.0714141)\\n</td></tr><tr><td class = \"rowNumber\" style = \"font-weight: bold; text-align: right;\">8</td><td style = \"text-align: left;\">(0.0226493, 0.0673239)\\n</td></tr><tr><td class = \"rowNumber\" style = \"font-weight: bold; text-align: right;\">9</td><td style = \"text-align: left;\">(0.0327211, 0.048465)\\n</td></tr><tr><td class = \"rowNumber\" style = \"font-weight: bold; text-align: right;\">10</td><td style = \"text-align: left;\">(0.0368611, 0.0298345)\\n</td></tr><tr><td class = \"rowNumber\" style = \"font-weight: bold; text-align: right;\">11</td><td style = \"text-align: left;\">(0.0363303, 0.0139772)\\n</td></tr><tr><td class = \"rowNumber\" style = \"font-weight: bold; text-align: right;\">12</td><td style = \"text-align: left;\">(0.0292562, 0.00282587)\\n</td></tr><tr><td class = \"rowNumber\" style = \"font-weight: bold; text-align: right;\">13</td><td style = \"text-align: left;\">(0.0223352, -0.000618778)\\n</td></tr><tr><td style = \"text-align: right;\">&vellip;</td><td style = \"text-align: right;\">&vellip;</td></tr><tr><td class = \"rowNumber\" style = \"font-weight: bold; text-align: right;\">190</td><td style = \"text-align: left;\">(-0.32692, 0.497308)\\n</td></tr><tr><td class = \"rowNumber\" style = \"font-weight: bold; text-align: right;\">191</td><td style = \"text-align: left;\">(-0.325955, 0.472406)\\n</td></tr><tr><td class = \"rowNumber\" style = \"font-weight: bold; text-align: right;\">192</td><td style = \"text-align: left;\">(-0.328779, 0.443155)\\n</td></tr><tr><td class = \"rowNumber\" style = \"font-weight: bold; text-align: right;\">193</td><td style = \"text-align: left;\">(-0.328285, 0.409223)\\n</td></tr><tr><td class = \"rowNumber\" style = \"font-weight: bold; text-align: right;\">194</td><td style = \"text-align: left;\">(-0.329735, 0.377645)\\n</td></tr><tr><td class = \"rowNumber\" style = \"font-weight: bold; text-align: right;\">195</td><td style = \"text-align: left;\">(-0.33574, 0.364322)\\n</td></tr><tr><td class = \"rowNumber\" style = \"font-weight: bold; text-align: right;\">196</td><td style = \"text-align: left;\">(-0.33846, 0.355443)\\n</td></tr><tr><td class = \"rowNumber\" style = \"font-weight: bold; text-align: right;\">197</td><td style = \"text-align: left;\">(-0.345453, 0.353793)\\n</td></tr><tr><td class = \"rowNumber\" style = \"font-weight: bold; text-align: right;\">198</td><td style = \"text-align: left;\">(-0.352579, 0.355414)\\n</td></tr><tr><td class = \"rowNumber\" style = \"font-weight: bold; text-align: right;\">199</td><td style = \"text-align: left;\">(-0.368572, 0.363248)\\n</td></tr><tr><td class = \"rowNumber\" style = \"font-weight: bold; text-align: right;\">200</td><td style = \"text-align: left;\">(-0.392044, 0.377888)\\n</td></tr><tr><td class = \"rowNumber\" style = \"font-weight: bold; text-align: right;\">201</td><td style = \"text-align: left;\">(-0.41996, 0.406898)\\n</td></tr></tbody></table></div>"
      ],
      "text/latex": [
       "\\begin{tabular}{r|c}\n",
       "\t& average velocity\\\\\n",
       "\t\\hline\n",
       "\t& Vect…\\\\\n",
       "\t\\hline\n",
       "\t1 & (-0.00116143, -0.0202515)\\textbackslash{}n \\\\\n",
       "\t2 & (0.00233828, -0.00621131)\\textbackslash{}n \\\\\n",
       "\t3 & (0.0169712, 0.00974195)\\textbackslash{}n \\\\\n",
       "\t4 & (0.0254857, 0.02854)\\textbackslash{}n \\\\\n",
       "\t5 & (0.0186902, 0.0490723)\\textbackslash{}n \\\\\n",
       "\t6 & (0.00892061, 0.0619153)\\textbackslash{}n \\\\\n",
       "\t7 & (0.0159589, 0.0714141)\\textbackslash{}n \\\\\n",
       "\t8 & (0.0226493, 0.0673239)\\textbackslash{}n \\\\\n",
       "\t9 & (0.0327211, 0.048465)\\textbackslash{}n \\\\\n",
       "\t10 & (0.0368611, 0.0298345)\\textbackslash{}n \\\\\n",
       "\t11 & (0.0363303, 0.0139772)\\textbackslash{}n \\\\\n",
       "\t12 & (0.0292562, 0.00282587)\\textbackslash{}n \\\\\n",
       "\t13 & (0.0223352, -0.000618778)\\textbackslash{}n \\\\\n",
       "\t14 & (0.0120629, 0.00051217)\\textbackslash{}n \\\\\n",
       "\t15 & (-0.000590972, 0.00880533)\\textbackslash{}n \\\\\n",
       "\t16 & (-0.0153894, 0.016403)\\textbackslash{}n \\\\\n",
       "\t17 & (-0.0370946, 0.0260254)\\textbackslash{}n \\\\\n",
       "\t18 & (-0.0663528, 0.0353326)\\textbackslash{}n \\\\\n",
       "\t19 & (-0.0959312, 0.0425624)\\textbackslash{}n \\\\\n",
       "\t20 & (-0.117732, 0.0521151)\\textbackslash{}n \\\\\n",
       "\t21 & (-0.140352, 0.0634554)\\textbackslash{}n \\\\\n",
       "\t22 & (-0.164323, 0.0734082)\\textbackslash{}n \\\\\n",
       "\t23 & (-0.191225, 0.0805921)\\textbackslash{}n \\\\\n",
       "\t24 & (-0.22494, 0.0883241)\\textbackslash{}n \\\\\n",
       "\t25 & (-0.257857, 0.105394)\\textbackslash{}n \\\\\n",
       "\t26 & (-0.291798, 0.118929)\\textbackslash{}n \\\\\n",
       "\t27 & (-0.315813, 0.137545)\\textbackslash{}n \\\\\n",
       "\t28 & (-0.338136, 0.149654)\\textbackslash{}n \\\\\n",
       "\t29 & (-0.359997, 0.156232)\\textbackslash{}n \\\\\n",
       "\t30 & (-0.375963, 0.1712)\\textbackslash{}n \\\\\n",
       "\t$\\dots$ & $\\dots$ \\\\\n",
       "\\end{tabular}\n"
      ],
      "text/plain": [
       "\u001b[1m201×1 DataFrame\u001b[0m\n",
       "\u001b[1m Row \u001b[0m│\u001b[1m average velocity            \u001b[0m\n",
       "     │\u001b[90m Vect{2, Float64}            \u001b[0m\n",
       "─────┼─────────────────────────────\n",
       "   1 │ (-0.00116143, -0.0202515)\\n\n",
       "   2 │ (0.00233828, -0.00621131)\\n\n",
       "   3 │ (0.0169712, 0.00974195)\\n\n",
       "   4 │ (0.0254857, 0.02854)\\n\n",
       "   5 │ (0.0186902, 0.0490723)\\n\n",
       "   6 │ (0.00892061, 0.0619153)\\n\n",
       "   7 │ (0.0159589, 0.0714141)\\n\n",
       "   8 │ (0.0226493, 0.0673239)\\n\n",
       "   9 │ (0.0327211, 0.048465)\\n\n",
       "  10 │ (0.0368611, 0.0298345)\\n\n",
       "  11 │ (0.0363303, 0.0139772)\\n\n",
       "  ⋮  │              ⋮\n",
       " 192 │ (-0.328779, 0.443155)\\n\n",
       " 193 │ (-0.328285, 0.409223)\\n\n",
       " 194 │ (-0.329735, 0.377645)\\n\n",
       " 195 │ (-0.33574, 0.364322)\\n\n",
       " 196 │ (-0.33846, 0.355443)\\n\n",
       " 197 │ (-0.345453, 0.353793)\\n\n",
       " 198 │ (-0.352579, 0.355414)\\n\n",
       " 199 │ (-0.368572, 0.363248)\\n\n",
       " 200 │ (-0.392044, 0.377888)\\n\n",
       " 201 │ (-0.41996, 0.406898)\\n\n",
       "\u001b[36m                   180 rows omitted\u001b[0m"
      ]
     },
     "execution_count": 9,
     "metadata": {},
     "output_type": "execute_result"
    }
   ],
   "source": [
    "df = get_agents_avg_props(model, agent -> agent.vel, labels = [\"average velocity\"])"
   ]
  },
  {
   "cell_type": "markdown",
   "metadata": {},
   "source": [
    "Individual agent data recorded during model run can be obtained as "
   ]
  },
  {
   "cell_type": "code",
   "execution_count": 10,
   "metadata": {},
   "outputs": [
    {
     "data": {
      "text/html": [
       "<div><div style = \"float: left;\"><span>201×3 DataFrame</span></div><div style = \"float: right;\"><span style = \"font-style: italic;\">176 rows omitted</span></div><div style = \"clear: both;\"></div></div><div class = \"data-frame\" style = \"overflow-x: scroll;\"><table class = \"data-frame\" style = \"margin-bottom: 6px;\"><thead><tr class = \"header\"><th class = \"rowNumber\" style = \"font-weight: bold; text-align: right;\">Row</th><th style = \"text-align: left;\">orientation</th><th style = \"text-align: left;\">pos</th><th style = \"text-align: left;\">vel</th></tr><tr class = \"subheader headerLastRow\"><th class = \"rowNumber\" style = \"font-weight: bold; text-align: right;\"></th><th title = \"Float64\" style = \"text-align: left;\">Float64</th><th title = \"Vect{2, Float64}\" style = \"text-align: left;\">Vect…</th><th title = \"Vect{2, Float64}\" style = \"text-align: left;\">Vect…</th></tr></thead><tbody><tr><td class = \"rowNumber\" style = \"font-weight: bold; text-align: right;\">1</td><td style = \"text-align: right;\">5.62081</td><td style = \"text-align: left;\">(3.39709, 1.33964)\\n</td><td style = \"text-align: left;\">(0.614991, 0.788534)\\n</td></tr><tr><td class = \"rowNumber\" style = \"font-weight: bold; text-align: right;\">2</td><td style = \"text-align: right;\">5.68692</td><td style = \"text-align: left;\">(3.45324, 1.42238)\\n</td><td style = \"text-align: left;\">(0.561545, 0.82743)\\n</td></tr><tr><td class = \"rowNumber\" style = \"font-weight: bold; text-align: right;\">3</td><td style = \"text-align: right;\">5.7206</td><td style = \"text-align: left;\">(3.50658, 1.50697)\\n</td><td style = \"text-align: left;\">(0.533372, 0.845866)\\n</td></tr><tr><td class = \"rowNumber\" style = \"font-weight: bold; text-align: right;\">4</td><td style = \"text-align: right;\">5.76011</td><td style = \"text-align: left;\">(3.55654, 1.5936)\\n</td><td style = \"text-align: left;\">(0.499537, 0.866278)\\n</td></tr><tr><td class = \"rowNumber\" style = \"font-weight: bold; text-align: right;\">5</td><td style = \"text-align: right;\">5.82213</td><td style = \"text-align: left;\">(3.60102, 1.68315)\\n</td><td style = \"text-align: left;\">(0.444884, 0.895575)\\n</td></tr><tr><td class = \"rowNumber\" style = \"font-weight: bold; text-align: right;\">6</td><td style = \"text-align: right;\">5.91995</td><td style = \"text-align: left;\">(3.63655, 1.77663)\\n</td><td style = \"text-align: left;\">(0.355298, 0.934741)\\n</td></tr><tr><td class = \"rowNumber\" style = \"font-weight: bold; text-align: right;\">7</td><td style = \"text-align: right;\">5.97815</td><td style = \"text-align: left;\">(3.66659, 1.87201)\\n</td><td style = \"text-align: left;\">(0.300319, 0.953827)\\n</td></tr><tr><td class = \"rowNumber\" style = \"font-weight: bold; text-align: right;\">8</td><td style = \"text-align: right;\">6.03209</td><td style = \"text-align: left;\">(3.69143, 1.96887)\\n</td><td style = \"text-align: left;\">(0.248465, 0.96863)\\n</td></tr><tr><td class = \"rowNumber\" style = \"font-weight: bold; text-align: right;\">9</td><td style = \"text-align: right;\">6.06889</td><td style = \"text-align: left;\">(3.7127, 2.06659)\\n</td><td style = \"text-align: left;\">(0.212658, 0.977116)\\n</td></tr><tr><td class = \"rowNumber\" style = \"font-weight: bold; text-align: right;\">10</td><td style = \"text-align: right;\">6.09077</td><td style = \"text-align: left;\">(3.73182, 2.16474)\\n</td><td style = \"text-align: left;\">(0.191231, 0.981535)\\n</td></tr><tr><td class = \"rowNumber\" style = \"font-weight: bold; text-align: right;\">11</td><td style = \"text-align: right;\">6.10211</td><td style = \"text-align: left;\">(3.74983, 2.2631)\\n</td><td style = \"text-align: left;\">(0.180082, 0.983641)\\n</td></tr><tr><td class = \"rowNumber\" style = \"font-weight: bold; text-align: right;\">12</td><td style = \"text-align: right;\">6.10817</td><td style = \"text-align: left;\">(3.76724, 2.36158)\\n</td><td style = \"text-align: left;\">(0.174126, 0.984713)\\n</td></tr><tr><td class = \"rowNumber\" style = \"font-weight: bold; text-align: right;\">13</td><td style = \"text-align: right;\">6.11328</td><td style = \"text-align: left;\">(3.78415, 2.46013)\\n</td><td style = \"text-align: left;\">(0.16909, 0.985591)\\n</td></tr><tr><td style = \"text-align: right;\">&vellip;</td><td style = \"text-align: right;\">&vellip;</td><td style = \"text-align: right;\">&vellip;</td><td style = \"text-align: right;\">&vellip;</td></tr><tr><td class = \"rowNumber\" style = \"font-weight: bold; text-align: right;\">190</td><td style = \"text-align: right;\">5.65564</td><td style = \"text-align: left;\">(1.70931, 7.83248)\\n</td><td style = \"text-align: left;\">(0.587155, 0.809462)\\n</td></tr><tr><td class = \"rowNumber\" style = \"font-weight: bold; text-align: right;\">191</td><td style = \"text-align: right;\">5.63912</td><td style = \"text-align: left;\">(1.76936, 7.91245)\\n</td><td style = \"text-align: left;\">(0.600442, 0.799657)\\n</td></tr><tr><td class = \"rowNumber\" style = \"font-weight: bold; text-align: right;\">192</td><td style = \"text-align: right;\">5.53924</td><td style = \"text-align: left;\">(1.83707, 7.98603)\\n</td><td style = \"text-align: left;\">(0.677193, 0.735794)\\n</td></tr><tr><td class = \"rowNumber\" style = \"font-weight: bold; text-align: right;\">193</td><td style = \"text-align: right;\">5.54295</td><td style = \"text-align: left;\">(1.90452, 8.05986)\\n</td><td style = \"text-align: left;\">(0.674454, 0.738304)\\n</td></tr><tr><td class = \"rowNumber\" style = \"font-weight: bold; text-align: right;\">194</td><td style = \"text-align: right;\">5.54572</td><td style = \"text-align: left;\">(1.97176, 8.13387)\\n</td><td style = \"text-align: left;\">(0.672404, 0.740171)\\n</td></tr><tr><td class = \"rowNumber\" style = \"font-weight: bold; text-align: right;\">195</td><td style = \"text-align: right;\">5.55501</td><td style = \"text-align: left;\">(2.03831, 8.20851)\\n</td><td style = \"text-align: left;\">(0.665502, 0.746383)\\n</td></tr><tr><td class = \"rowNumber\" style = \"font-weight: bold; text-align: right;\">196</td><td style = \"text-align: right;\">5.56489</td><td style = \"text-align: left;\">(2.10412, 8.2838)\\n</td><td style = \"text-align: left;\">(0.658099, 0.752918)\\n</td></tr><tr><td class = \"rowNumber\" style = \"font-weight: bold; text-align: right;\">197</td><td style = \"text-align: right;\">5.5102</td><td style = \"text-align: left;\">(2.17395, 8.35539)\\n</td><td style = \"text-align: left;\">(0.698272, 0.71582)\\n</td></tr><tr><td class = \"rowNumber\" style = \"font-weight: bold; text-align: right;\">198</td><td style = \"text-align: right;\">5.57345</td><td style = \"text-align: left;\">(2.23911, 8.43124)\\n</td><td style = \"text-align: left;\">(0.651627, 0.758525)\\n</td></tr><tr><td class = \"rowNumber\" style = \"font-weight: bold; text-align: right;\">199</td><td style = \"text-align: right;\">5.65314</td><td style = \"text-align: left;\">(2.29803, 8.51204)\\n</td><td style = \"text-align: left;\">(0.589172, 0.807993)\\n</td></tr><tr><td class = \"rowNumber\" style = \"font-weight: bold; text-align: right;\">200</td><td style = \"text-align: right;\">5.63536</td><td style = \"text-align: left;\">(2.35837, 8.59178)\\n</td><td style = \"text-align: left;\">(0.603445, 0.797391)\\n</td></tr><tr><td class = \"rowNumber\" style = \"font-weight: bold; text-align: right;\">201</td><td style = \"text-align: right;\">5.77245</td><td style = \"text-align: left;\">(2.40725, 8.67901)\\n</td><td style = \"text-align: left;\">(0.488813, 0.872374)\\n</td></tr></tbody></table></div>"
      ],
      "text/latex": [
       "\\begin{tabular}{r|ccc}\n",
       "\t& orientation & pos & vel\\\\\n",
       "\t\\hline\n",
       "\t& Float64 & Vect… & Vect…\\\\\n",
       "\t\\hline\n",
       "\t1 & 5.62081 & (3.39709, 1.33964)\\textbackslash{}n & (0.614991, 0.788534)\\textbackslash{}n \\\\\n",
       "\t2 & 5.68692 & (3.45324, 1.42238)\\textbackslash{}n & (0.561545, 0.82743)\\textbackslash{}n \\\\\n",
       "\t3 & 5.7206 & (3.50658, 1.50697)\\textbackslash{}n & (0.533372, 0.845866)\\textbackslash{}n \\\\\n",
       "\t4 & 5.76011 & (3.55654, 1.5936)\\textbackslash{}n & (0.499537, 0.866278)\\textbackslash{}n \\\\\n",
       "\t5 & 5.82213 & (3.60102, 1.68315)\\textbackslash{}n & (0.444884, 0.895575)\\textbackslash{}n \\\\\n",
       "\t6 & 5.91995 & (3.63655, 1.77663)\\textbackslash{}n & (0.355298, 0.934741)\\textbackslash{}n \\\\\n",
       "\t7 & 5.97815 & (3.66659, 1.87201)\\textbackslash{}n & (0.300319, 0.953827)\\textbackslash{}n \\\\\n",
       "\t8 & 6.03209 & (3.69143, 1.96887)\\textbackslash{}n & (0.248465, 0.96863)\\textbackslash{}n \\\\\n",
       "\t9 & 6.06889 & (3.7127, 2.06659)\\textbackslash{}n & (0.212658, 0.977116)\\textbackslash{}n \\\\\n",
       "\t10 & 6.09077 & (3.73182, 2.16474)\\textbackslash{}n & (0.191231, 0.981535)\\textbackslash{}n \\\\\n",
       "\t11 & 6.10211 & (3.74983, 2.2631)\\textbackslash{}n & (0.180082, 0.983641)\\textbackslash{}n \\\\\n",
       "\t12 & 6.10817 & (3.76724, 2.36158)\\textbackslash{}n & (0.174126, 0.984713)\\textbackslash{}n \\\\\n",
       "\t13 & 6.11328 & (3.78415, 2.46013)\\textbackslash{}n & (0.16909, 0.985591)\\textbackslash{}n \\\\\n",
       "\t14 & 6.11921 & (3.80048, 2.55879)\\textbackslash{}n & (0.163241, 0.986576)\\textbackslash{}n \\\\\n",
       "\t15 & 6.1275 & (3.81598, 2.65758)\\textbackslash{}n & (0.15506, 0.987895)\\textbackslash{}n \\\\\n",
       "\t16 & 6.13752 & (3.8305, 2.75652)\\textbackslash{}n & (0.145149, 0.9894)\\textbackslash{}n \\\\\n",
       "\t17 & 6.15021 & (3.84375, 2.85564)\\textbackslash{}n & (0.132579, 0.991162)\\textbackslash{}n \\\\\n",
       "\t18 & 6.16516 & (3.85553, 2.95494)\\textbackslash{}n & (0.117748, 0.993034)\\textbackslash{}n \\\\\n",
       "\t19 & 6.18917 & (3.86492, 3.0545)\\textbackslash{}n & (0.0938806, 0.995574)\\textbackslash{}n \\\\\n",
       "\t20 & 6.22207 & (3.87102, 3.15431)\\textbackslash{}n & (0.0610721, 0.998123)\\textbackslash{}n \\\\\n",
       "\t21 & 6.26138 & (3.8732, 3.25429)\\textbackslash{}n & (0.0218074, 0.999752)\\textbackslash{}n \\\\\n",
       "\t22 & 0.0226422 & (3.87094, 3.35426)\\textbackslash{}n & (-0.0226401, 0.999734)\\textbackslash{}n \\\\\n",
       "\t23 & 0.0705878 & (3.86389, 3.45401)\\textbackslash{}n & (-0.0705285, 0.9975)\\textbackslash{}n \\\\\n",
       "\t24 & 0.118338 & (3.85208, 3.55331)\\textbackslash{}n & (-0.118061, 0.992996)\\textbackslash{}n \\\\\n",
       "\t25 & 0.169274 & (3.83524, 3.65188)\\textbackslash{}n & (-0.168465, 0.985698)\\textbackslash{}n \\\\\n",
       "\t26 & 0.222495 & (3.81317, 3.74941)\\textbackslash{}n & (-0.220662, 0.97534)\\textbackslash{}n \\\\\n",
       "\t27 & 0.279167 & (3.78561, 3.84554)\\textbackslash{}n & (-0.275553, 0.961276)\\textbackslash{}n \\\\\n",
       "\t28 & 0.330331 & (3.75318, 3.94013)\\textbackslash{}n & (-0.324353, 0.945926)\\textbackslash{}n \\\\\n",
       "\t29 & 0.384676 & (3.71565, 4.03282)\\textbackslash{}n & (-0.375255, 0.926911)\\textbackslash{}n \\\\\n",
       "\t30 & 0.438439 & (3.6732, 4.12336)\\textbackslash{}n & (-0.424523, 0.905406)\\textbackslash{}n \\\\\n",
       "\t$\\dots$ & $\\dots$ & $\\dots$ & $\\dots$ \\\\\n",
       "\\end{tabular}\n"
      ],
      "text/plain": [
       "\u001b[1m201×3 DataFrame\u001b[0m\n",
       "\u001b[1m Row \u001b[0m│\u001b[1m orientation \u001b[0m\u001b[1m pos                  \u001b[0m\u001b[1m vel                    \u001b[0m\n",
       "     │\u001b[90m Float64     \u001b[0m\u001b[90m Vect…                \u001b[0m\u001b[90m Vect…                  \u001b[0m\n",
       "─────┼───────────────────────────────────────────────────────────\n",
       "   1 │     5.62081  (3.39709, 1.33964)\\n  (0.614991, 0.788534)\\n\n",
       "   2 │     5.68692  (3.45324, 1.42238)\\n  (0.561545, 0.82743)\\n\n",
       "   3 │     5.7206   (3.50658, 1.50697)\\n  (0.533372, 0.845866)\\n\n",
       "   4 │     5.76011  (3.55654, 1.5936)\\n   (0.499537, 0.866278)\\n\n",
       "   5 │     5.82213  (3.60102, 1.68315)\\n  (0.444884, 0.895575)\\n\n",
       "   6 │     5.91995  (3.63655, 1.77663)\\n  (0.355298, 0.934741)\\n\n",
       "   7 │     5.97815  (3.66659, 1.87201)\\n  (0.300319, 0.953827)\\n\n",
       "   8 │     6.03209  (3.69143, 1.96887)\\n  (0.248465, 0.96863)\\n\n",
       "   9 │     6.06889  (3.7127, 2.06659)\\n   (0.212658, 0.977116)\\n\n",
       "  10 │     6.09077  (3.73182, 2.16474)\\n  (0.191231, 0.981535)\\n\n",
       "  11 │     6.10211  (3.74983, 2.2631)\\n   (0.180082, 0.983641)\\n\n",
       "  ⋮  │      ⋮                ⋮                      ⋮\n",
       " 192 │     5.53924  (1.83707, 7.98603)\\n  (0.677193, 0.735794)\\n\n",
       " 193 │     5.54295  (1.90452, 8.05986)\\n  (0.674454, 0.738304)\\n\n",
       " 194 │     5.54572  (1.97176, 8.13387)\\n  (0.672404, 0.740171)\\n\n",
       " 195 │     5.55501  (2.03831, 8.20851)\\n  (0.665502, 0.746383)\\n\n",
       " 196 │     5.56489  (2.10412, 8.2838)\\n   (0.658099, 0.752918)\\n\n",
       " 197 │     5.5102   (2.17395, 8.35539)\\n  (0.698272, 0.71582)\\n\n",
       " 198 │     5.57345  (2.23911, 8.43124)\\n  (0.651627, 0.758525)\\n\n",
       " 199 │     5.65314  (2.29803, 8.51204)\\n  (0.589172, 0.807993)\\n\n",
       " 200 │     5.63536  (2.35837, 8.59178)\\n  (0.603445, 0.797391)\\n\n",
       " 201 │     5.77245  (2.40725, 8.67901)\\n  (0.488813, 0.872374)\\n\n",
       "\u001b[36m                                                 180 rows omitted\u001b[0m"
      ]
     },
     "execution_count": 10,
     "metadata": {},
     "output_type": "execute_result"
    }
   ],
   "source": [
    "df = get_agent_data(model.agents[1], model).record"
   ]
  },
  {
   "cell_type": "code",
   "execution_count": null,
   "metadata": {},
   "outputs": [],
   "source": []
  }
 ],
 "metadata": {
  "@webio": {
   "lastCommId": "71888e1ca47f4565bf59e4046844483c",
   "lastKernelId": "c34e0d57-021e-4ab6-a24e-77a7a60dce39"
  },
  "kernelspec": {
   "display_name": "Julia 1.9.2",
   "language": "julia",
   "name": "julia-1.9"
  },
  "language_info": {
   "file_extension": ".jl",
   "mimetype": "application/julia",
   "name": "julia",
   "version": "1.9.2"
  }
 },
 "nbformat": 4,
 "nbformat_minor": 4
}
