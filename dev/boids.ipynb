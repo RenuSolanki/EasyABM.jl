{
 "cells": [
  {
   "cell_type": "markdown",
   "metadata": {},
   "source": [
    "# Flocking"
   ]
  },
  {
   "cell_type": "code",
   "execution_count": 1,
   "metadata": {},
   "outputs": [
    {
     "name": "stderr",
     "output_type": "stream",
     "text": [
      "\u001b[32m\u001b[1m  Activating\u001b[22m\u001b[39m project at `~/Documents/EasyABM`\n"
     ]
    },
    {
     "data": {
      "application/vnd.webio.node+json": {
       "children": [],
       "instanceArgs": {
        "namespace": "html",
        "tag": "div"
       },
       "nodeType": "DOM",
       "props": {},
       "type": "node"
      },
      "text/html": [
       "<div style=\"padding: 1em; background-color: #f8d6da; border: 1px solid #f5c6cb; font-weight: bold;\">\n",
       "<p>The WebIO Jupyter extension was not detected. See the\n",
       "<a href=\"https://juliagizmos.github.io/WebIO.jl/latest/providers/ijulia/\" target=\"_blank\">\n",
       "    WebIO Jupyter integration documentation\n",
       "</a>\n",
       "for more information.\n",
       "</div>\n"
      ],
      "text/plain": [
       "WebIO._IJuliaInit()"
      ]
     },
     "metadata": {
      "application/vnd.webio.node+json": {
       "kernelId": "aba03b9f-c64e-42cc-8de7-ff0618cf3734"
      }
     },
     "output_type": "display_data"
    }
   ],
   "source": [
    "#First two lines are not needed if using installed version of EasyABM\n",
    "using Pkg, Revise\n",
    "Pkg.activate(joinpath(@__DIR__,\"../..\"))\n",
    "using EasyABM\n"
   ]
  },
  {
   "cell_type": "markdown",
   "metadata": {},
   "source": [
    "# Step 1: Create Agents and Model\n",
    "\n",
    "Lets create 100 agents with properties `shape`, `pos`, `vel` and `orientation` (The `orientation` property is used internally by EasyABM to draw the direction agent is facing). The position `pos` is only accepted as a Vect which is an inbuilt vector type in EasyABM. It is also recommended for both convenience as well as performance to use Vect type for any vectorial properties in the model such as velocity and forces. The `keeps_record_of` argument is set of properties that the agent will record during time evolution. The model is defined with parameters:\n",
    "\n",
    "* `min_dis` : The distance between boids below which they start repelling each other.\n",
    "* `coh_fac` : The proportionality constant for the cohere force. \n",
    "* `sep_fac` : The proportionality constant for the separation force.\n",
    "* `aln_fac` : The proportionality constant for the alignment force.\n",
    "* `vis_range` : The visual range of boids.\n",
    "* `dt` : The proportionality constant between change in position and velocity.\n",
    "\n",
    "The argument `agents_type` is set to Static which means that the agents number will remain fixed during simulation."
   ]
  },
  {
   "cell_type": "code",
   "execution_count": 2,
   "metadata": {},
   "outputs": [
    {
     "data": {
      "text/plain": [
       "EasyABM SpaceModel2D{EasyABM.StaticType, Float64, EasyABM.PeriodicType}: In a EasyABM.StaticType model number of agents is fixed.\n"
      ]
     },
     "execution_count": 2,
     "metadata": {},
     "output_type": "execute_result"
    }
   ],
   "source": [
    "boids = con_2d_agents(100, shape = :arrow, pos = Vect(0.0,0.0), \n",
    "    vel=Vect(0.0,0.0), orientation = 0.0, keeps_record_of = Set([:pos, :vel, :orientation]))\n",
    "model = create_2d_model(boids,\n",
    "    agents_type=Static, space_type = Periodic, \n",
    "    min_dis = 0.3, coh_fac = 0.05, \n",
    "    sep_fac = 0.5, dt= 0.1, vis_range = 2.0, aln_fac = 0.35)"
   ]
  },
  {
   "cell_type": "markdown",
   "metadata": {},
   "source": [
    "\n",
    "## Step 2: Initialise the model\n",
    "\n",
    "In this step we set the positions, velocities and orientations of boids and initialise the model."
   ]
  },
  {
   "cell_type": "code",
   "execution_count": 3,
   "metadata": {},
   "outputs": [],
   "source": [
    "function initialiser!(model)\n",
    "    xdim, ydim = model.size\n",
    "    for boid in model.agents\n",
    "        boid.pos = Vect(rand()*xdim, rand()*ydim)\n",
    "        boid.orientation = rand()*2*3.14\n",
    "        boid.vel = Vect(-sin(boid.orientation), cos(boid.orientation))\n",
    "    end\n",
    "end\n",
    "\n",
    "init_model!(model, initialiser = initialiser!)"
   ]
  },
  {
   "cell_type": "markdown",
   "metadata": {},
   "source": [
    "## Step 3: Defining the step_rule! and running the model\n",
    "\n",
    "In this step we implement the step logic of the flocking model in the `step_rule!` function and run the model for 200 steps. "
   ]
  },
  {
   "cell_type": "code",
   "execution_count": 4,
   "metadata": {},
   "outputs": [
    {
     "data": {
      "text/plain": [
       "1.0e-5"
      ]
     },
     "execution_count": 4,
     "metadata": {},
     "output_type": "execute_result"
    }
   ],
   "source": [
    "ep = 0.00001 # can declare it as const for efficiency"
   ]
  },
  {
   "cell_type": "code",
   "execution_count": 5,
   "metadata": {},
   "outputs": [],
   "source": [
    "function step_rule!(model)\n",
    "    dt = model.parameters.dt\n",
    "    for boid in model.agents\n",
    "        nbrs = neighbors(boid, model, model.parameters.vis_range)\n",
    "        coh_force = Vect(0.0,0.0) # For a Vect all coordinates must be of same type\n",
    "        sep_force = Vect(0.0,0.0) \n",
    "        aln_force = Vect(0.0,0.0)\n",
    "        num = 0\n",
    "        for nbr in nbrs\n",
    "            num+=1\n",
    "            vec = nbr.pos - boid.pos\n",
    "            coh_force += vec\n",
    "            if veclength(vec)< model.parameters.min_dis\n",
    "                sep_force -= vec\n",
    "            end\n",
    "            aln_force += nbr.vel\n",
    "        end\n",
    "        aln_force = num>0 ? (aln_force / num - boid.vel) * model.parameters.aln_fac : aln_force\n",
    "        num = max(1, num)\n",
    "        coh_force *= (model.parameters.coh_fac / num)\n",
    "        sep_force *=  model.parameters.sep_fac\n",
    "        boid.vel  += (coh_force + sep_force) + aln_force\n",
    "        boid.vel  /= (veclength(boid.vel)+ep)\n",
    "        boid.orientation = calculate_direction(boid.vel)\n",
    "        boid.pos += boid.vel*dt\n",
    "    end\n",
    "end\n",
    "\n",
    "run_model!(model, steps=200, step_rule = step_rule!)"
   ]
  },
  {
   "cell_type": "markdown",
   "metadata": {},
   "source": [
    "## Step 4: Visualisation"
   ]
  },
  {
   "cell_type": "markdown",
   "metadata": {},
   "source": [
    "In order to draw the model at a specific frame, say 4th, one can use following function"
   ]
  },
  {
   "cell_type": "code",
   "execution_count": 6,
   "metadata": {},
   "outputs": [
    {
     "data": {
      "image/png": "[encoded data removed]",
      "text/plain": []
     },
     "execution_count": 6,
     "metadata": {},
     "output_type": "execute_result"
    }
   ],
   "source": [
    "draw_frame(model, frame = 4 )"
   ]
  },
  {
   "cell_type": "markdown",
   "metadata": {},
   "source": [
    "If one wants to see the animation of the last model run, it can be done as "
   ]
  },
  {
   "cell_type": "code",
   "execution_count": 6,
   "metadata": {},
   "outputs": [
    {
     "data": {
      "application/vnd.webio.node+json": {
       "children": [
        {
         "children": [
          {
           "children": [
            {
             "children": [
              {
               "children": [
                {
                 "children": [
                  {
                   "children": [
                    {
                     "children": [
                      "time"
                     ],
                     "instanceArgs": {
                      "namespace": "html",
                      "tag": "label"
                     },
                     "nodeType": "DOM",
                     "props": {
                      "className": "interact ",
                      "style": {
                       "padding": "5px 10px 0px 10px"
                      }
                     },
                     "type": "node"
                    }
                   ],
                   "instanceArgs": {
                    "namespace": "html",
                    "tag": "div"
                   },
                   "nodeType": "DOM",
                   "props": {
                    "className": "interact-flex-row-left"
                   },
                   "type": "node"
                  },
                  {
                   "children": [
                    {
                     "children": [],
                     "instanceArgs": {
                      "namespace": "html",
                      "tag": "input"
                     },
                     "nodeType": "DOM",
                     "props": {
                      "attributes": {
                       "data-bind": "numericValue: index, valueUpdate: 'input', event: {change: function (){this.changes(this.changes()+1)}}",
                       "orient": "horizontal",
                       "type": "range"
                      },
                      "className": "slider slider is-fullwidth",
                      "max": 201,
                      "min": 1,
                      "step": 1,
                      "style": {}
                     },
                     "type": "node"
                    }
                   ],
                   "instanceArgs": {
                    "namespace": "html",
                    "tag": "div"
                   },
                   "nodeType": "DOM",
                   "props": {
                    "className": "interact-flex-row-center"
                   },
                   "type": "node"
                  },
                  {
                   "children": [
                    {
                     "children": [],
                     "instanceArgs": {
                      "namespace": "html",
                      "tag": "p"
                     },
                     "nodeType": "DOM",
                     "props": {
                      "attributes": {
                       "data-bind": "text: formatted_val"
                      }
                     },
                     "type": "node"
                    }
                   ],
                   "instanceArgs": {
                    "namespace": "html",
                    "tag": "div"
                   },
                   "nodeType": "DOM",
                   "props": {
                    "className": "interact-flex-row-right"
                   },
                   "type": "node"
                  }
                 ],
                 "instanceArgs": {
                  "namespace": "html",
                  "tag": "div"
                 },
                 "nodeType": "DOM",
                 "props": {
                  "className": "interact-flex-row interact-widget"
                 },
                 "type": "node"
                }
               ],
               "instanceArgs": {
                "handlers": {
                 "changes": [
                  "(function (val){return (val!=this.model[\"changes\"]()) ? (this.valueFromJulia[\"changes\"]=true, this.model[\"changes\"](val)) : undefined})"
                 ],
                 "index": [
                  "(function (val){return (val!=this.model[\"index\"]()) ? (this.valueFromJulia[\"index\"]=true, this.model[\"index\"](val)) : undefined})"
                 ]
                },
                "id": "8531897873138331408",
                "imports": {
                 "data": [
                  {
                   "name": "knockout",
                   "type": "js",
                   "url": "/assetserver/727383f2a47bd31570b7da84eee7b022dd6d7c78-knockout.js"
                  },
                  {
                   "name": "knockout_punches",
                   "type": "js",
                   "url": "/assetserver/382b41b3b1bd9f26f75861d360bad7f8beea211f-knockout_punches.js"
                  },
                  {
                   "name": null,
                   "type": "js",
                   "url": "/assetserver/5ab20f1060420992a9b82a65b735dee4d81ef413-all.js"
                  },
                  {
                   "name": null,
                   "type": "css",
                   "url": "/assetserver/1cc0ed62837210b80a182cc3676512f895dab686-style.css"
                  },
                  {
                   "name": null,
                   "type": "css",
                   "url": "/assetserver/2eee816f616df3549d7044d45e744fbf8d42bfa1-bulma_confined.min.css"
                  }
                 ],
                 "type": "async_block"
                },
                "mount_callbacks": [
                 "function () {\n    var handler = (function (ko, koPunches) {\n    ko.punches.enableAll();\n    ko.bindingHandlers.numericValue = {\n        init: function(element, valueAccessor, allBindings, data, context) {\n            var stringified = ko.observable(ko.unwrap(valueAccessor()));\n            stringified.subscribe(function(value) {\n                var val = parseFloat(value);\n                if (!isNaN(val)) {\n                    valueAccessor()(val);\n                }\n            });\n            valueAccessor().subscribe(function(value) {\n                var str = JSON.stringify(value);\n                if ((str == \"0\") && ([\"-0\", \"-0.\"].indexOf(stringified()) >= 0))\n                     return;\n                 if ([\"null\", \"\"].indexOf(str) >= 0)\n                     return;\n                stringified(str);\n            });\n            ko.applyBindingsToNode(\n                element,\n                {\n                    value: stringified,\n                    valueUpdate: allBindings.get('valueUpdate'),\n                },\n                context,\n            );\n        }\n    };\n    var json_data = {\"formatted_vals\":[\"1\",\"2\",\"3\",\"4\",\"5\",\"6\",\"7\",\"8\",\"9\",\"10\",\"11\",\"12\",\"13\",\"14\",\"15\",\"16\",\"17\",\"18\",\"19\",\"20\",\"21\",\"22\",\"23\",\"24\",\"25\",\"26\",\"27\",\"28\",\"29\",\"30\",\"31\",\"32\",\"33\",\"34\",\"35\",\"36\",\"37\",\"38\",\"39\",\"40\",\"41\",\"42\",\"43\",\"44\",\"45\",\"46\",\"47\",\"48\",\"49\",\"50\",\"51\",\"52\",\"53\",\"54\",\"55\",\"56\",\"57\",\"58\",\"59\",\"60\",\"61\",\"62\",\"63\",\"64\",\"65\",\"66\",\"67\",\"68\",\"69\",\"70\",\"71\",\"72\",\"73\",\"74\",\"75\",\"76\",\"77\",\"78\",\"79\",\"80\",\"81\",\"82\",\"83\",\"84\",\"85\",\"86\",\"87\",\"88\",\"89\",\"90\",\"91\",\"92\",\"93\",\"94\",\"95\",\"96\",\"97\",\"98\",\"99\",\"100\",\"101\",\"102\",\"103\",\"104\",\"105\",\"106\",\"107\",\"108\",\"109\",\"110\",\"111\",\"112\",\"113\",\"114\",\"115\",\"116\",\"117\",\"118\",\"119\",\"120\",\"121\",\"122\",\"123\",\"124\",\"125\",\"126\",\"127\",\"128\",\"129\",\"130\",\"131\",\"132\",\"133\",\"134\",\"135\",\"136\",\"137\",\"138\",\"139\",\"140\",\"141\",\"142\",\"143\",\"144\",\"145\",\"146\",\"147\",\"148\",\"149\",\"150\",\"151\",\"152\",\"153\",\"154\",\"155\",\"156\",\"157\",\"158\",\"159\",\"160\",\"161\",\"162\",\"163\",\"164\",\"165\",\"166\",\"167\",\"168\",\"169\",\"170\",\"171\",\"172\",\"173\",\"174\",\"175\",\"176\",\"177\",\"178\",\"179\",\"180\",\"181\",\"182\",\"183\",\"184\",\"185\",\"186\",\"187\",\"188\",\"189\",\"190\",\"191\",\"192\",\"193\",\"194\",\"195\",\"196\",\"197\",\"198\",\"199\",\"200\",\"201\"],\"changes\":WebIO.getval({\"name\":\"changes\",\"scope\":\"8531897873138331408\",\"id\":\"7710823025016951784\",\"type\":\"observable\"}),\"index\":WebIO.getval({\"name\":\"index\",\"scope\":\"8531897873138331408\",\"id\":\"10821016406235879473\",\"type\":\"observable\"})};\n    var self = this;\n    function AppViewModel() {\n        for (var key in json_data) {\n            var el = json_data[key];\n            this[key] = Array.isArray(el) ? ko.observableArray(el) : ko.observable(el);\n        }\n        \n        [this[\"formatted_val\"]=ko.computed(    function(){\n        return this.formatted_vals()[parseInt(this.index())-(1)];\n    }\n,this)]\n        [this[\"changes\"].subscribe((function (val){!(this.valueFromJulia[\"changes\"]) ? (WebIO.setval({\"name\":\"changes\",\"scope\":\"8531897873138331408\",\"id\":\"7710823025016951784\",\"type\":\"observable\"},val)) : undefined; return this.valueFromJulia[\"changes\"]=false}),self),this[\"index\"].subscribe((function (val){!(this.valueFromJulia[\"index\"]) ? (WebIO.setval({\"name\":\"index\",\"scope\":\"8531897873138331408\",\"id\":\"10821016406235879473\",\"type\":\"observable\"},val)) : undefined; return this.valueFromJulia[\"index\"]=false}),self)]\n        \n    }\n    self.model = new AppViewModel();\n    self.valueFromJulia = {};\n    for (var key in json_data) {\n        self.valueFromJulia[key] = false;\n    }\n    ko.applyBindings(self.model, self.dom);\n}\n);\n    (WebIO.importBlock({\"data\":[{\"name\":\"knockout\",\"type\":\"js\",\"url\":\"/assetserver/727383f2a47bd31570b7da84eee7b022dd6d7c78-knockout.js\"},{\"name\":\"knockout_punches\",\"type\":\"js\",\"url\":\"/assetserver/382b41b3b1bd9f26f75861d360bad7f8beea211f-knockout_punches.js\"}],\"type\":\"async_block\"})).then((imports) => handler.apply(this, imports));\n}\n"
                ],
                "observables": {
                 "changes": {
                  "id": "7710823025016951784",
                  "sync": false,
                  "value": 0
                 },
                 "index": {
                  "id": "10821016406235879473",
                  "sync": true,
                  "value": 101
                 }
                },
                "systemjs_options": null
               },
               "nodeType": "Scope",
               "props": {},
               "type": "node"
              }
             ],
             "instanceArgs": {
              "namespace": "html",
              "tag": "div"
             },
             "nodeType": "DOM",
             "props": {
              "className": "field interact-widget"
             },
             "type": "node"
            },
            {
             "children": [
              {
               "children": [
                {
                 "children": [
                  {
                   "children": [
                    {
                     "children": [
                      "scale"
                     ],
                     "instanceArgs": {
                      "namespace": "html",
                      "tag": "label"
                     },
                     "nodeType": "DOM",
                     "props": {
                      "className": "interact ",
                      "style": {
                       "padding": "5px 10px 0px 10px"
                      }
                     },
                     "type": "node"
                    }
                   ],
                   "instanceArgs": {
                    "namespace": "html",
                    "tag": "div"
                   },
                   "nodeType": "DOM",
                   "props": {
                    "className": "interact-flex-row-left"
                   },
                   "type": "node"
                  },
                  {
                   "children": [
                    {
                     "children": [],
                     "instanceArgs": {
                      "namespace": "html",
                      "tag": "input"
                     },
                     "nodeType": "DOM",
                     "props": {
                      "attributes": {
                       "data-bind": "numericValue: index, valueUpdate: 'input', event: {change: function (){this.changes(this.changes()+1)}}",
                       "orient": "horizontal",
                       "type": "range"
                      },
                      "className": "slider slider is-fullwidth",
                      "max": 20,
                      "min": 1,
                      "step": 1,
                      "style": {}
                     },
                     "type": "node"
                    }
                   ],
                   "instanceArgs": {
                    "namespace": "html",
                    "tag": "div"
                   },
                   "nodeType": "DOM",
                   "props": {
                    "className": "interact-flex-row-center"
                   },
                   "type": "node"
                  },
                  {
                   "children": [
                    {
                     "children": [],
                     "instanceArgs": {
                      "namespace": "html",
                      "tag": "p"
                     },
                     "nodeType": "DOM",
                     "props": {
                      "attributes": {
                       "data-bind": "text: formatted_val"
                      }
                     },
                     "type": "node"
                    }
                   ],
                   "instanceArgs": {
                    "namespace": "html",
                    "tag": "div"
                   },
                   "nodeType": "DOM",
                   "props": {
                    "className": "interact-flex-row-right"
                   },
                   "type": "node"
                  }
                 ],
                 "instanceArgs": {
                  "namespace": "html",
                  "tag": "div"
                 },
                 "nodeType": "DOM",
                 "props": {
                  "className": "interact-flex-row interact-widget"
                 },
                 "type": "node"
                }
               ],
               "instanceArgs": {
                "handlers": {
                 "changes": [
                  "(function (val){return (val!=this.model[\"changes\"]()) ? (this.valueFromJulia[\"changes\"]=true, this.model[\"changes\"](val)) : undefined})"
                 ],
                 "index": [
                  "(function (val){return (val!=this.model[\"index\"]()) ? (this.valueFromJulia[\"index\"]=true, this.model[\"index\"](val)) : undefined})"
                 ]
                },
                "id": "18432843449332872455",
                "imports": {
                 "data": [
                  {
                   "name": "knockout",
                   "type": "js",
                   "url": "/assetserver/727383f2a47bd31570b7da84eee7b022dd6d7c78-knockout.js"
                  },
                  {
                   "name": "knockout_punches",
                   "type": "js",
                   "url": "/assetserver/382b41b3b1bd9f26f75861d360bad7f8beea211f-knockout_punches.js"
                  },
                  {
                   "name": null,
                   "type": "js",
                   "url": "/assetserver/5ab20f1060420992a9b82a65b735dee4d81ef413-all.js"
                  },
                  {
                   "name": null,
                   "type": "css",
                   "url": "/assetserver/1cc0ed62837210b80a182cc3676512f895dab686-style.css"
                  },
                  {
                   "name": null,
                   "type": "css",
                   "url": "/assetserver/2eee816f616df3549d7044d45e744fbf8d42bfa1-bulma_confined.min.css"
                  }
                 ],
                 "type": "async_block"
                },
                "mount_callbacks": [
                 "function () {\n    var handler = (function (ko, koPunches) {\n    ko.punches.enableAll();\n    ko.bindingHandlers.numericValue = {\n        init: function(element, valueAccessor, allBindings, data, context) {\n            var stringified = ko.observable(ko.unwrap(valueAccessor()));\n            stringified.subscribe(function(value) {\n                var val = parseFloat(value);\n                if (!isNaN(val)) {\n                    valueAccessor()(val);\n                }\n            });\n            valueAccessor().subscribe(function(value) {\n                var str = JSON.stringify(value);\n                if ((str == \"0\") && ([\"-0\", \"-0.\"].indexOf(stringified()) >= 0))\n                     return;\n                 if ([\"null\", \"\"].indexOf(str) >= 0)\n                     return;\n                stringified(str);\n            });\n            ko.applyBindingsToNode(\n                element,\n                {\n                    value: stringified,\n                    valueUpdate: allBindings.get('valueUpdate'),\n                },\n                context,\n            );\n        }\n    };\n    var json_data = {\"formatted_vals\":[\"0.1\",\"0.2\",\"0.3\",\"0.4\",\"0.5\",\"0.6\",\"0.7\",\"0.8\",\"0.9\",\"1.0\",\"1.1\",\"1.2\",\"1.3\",\"1.4\",\"1.5\",\"1.6\",\"1.7\",\"1.8\",\"1.9\",\"2.0\"],\"changes\":WebIO.getval({\"name\":\"changes\",\"scope\":\"18432843449332872455\",\"id\":\"2939760826023590905\",\"type\":\"observable\"}),\"index\":WebIO.getval({\"name\":\"index\",\"scope\":\"18432843449332872455\",\"id\":\"1487071829290982137\",\"type\":\"observable\"})};\n    var self = this;\n    function AppViewModel() {\n        for (var key in json_data) {\n            var el = json_data[key];\n            this[key] = Array.isArray(el) ? ko.observableArray(el) : ko.observable(el);\n        }\n        \n        [this[\"formatted_val\"]=ko.computed(    function(){\n        return this.formatted_vals()[parseInt(this.index())-(1)];\n    }\n,this)]\n        [this[\"changes\"].subscribe((function (val){!(this.valueFromJulia[\"changes\"]) ? (WebIO.setval({\"name\":\"changes\",\"scope\":\"18432843449332872455\",\"id\":\"2939760826023590905\",\"type\":\"observable\"},val)) : undefined; return this.valueFromJulia[\"changes\"]=false}),self),this[\"index\"].subscribe((function (val){!(this.valueFromJulia[\"index\"]) ? (WebIO.setval({\"name\":\"index\",\"scope\":\"18432843449332872455\",\"id\":\"1487071829290982137\",\"type\":\"observable\"},val)) : undefined; return this.valueFromJulia[\"index\"]=false}),self)]\n        \n    }\n    self.model = new AppViewModel();\n    self.valueFromJulia = {};\n    for (var key in json_data) {\n        self.valueFromJulia[key] = false;\n    }\n    ko.applyBindings(self.model, self.dom);\n}\n);\n    (WebIO.importBlock({\"data\":[{\"name\":\"knockout\",\"type\":\"js\",\"url\":\"/assetserver/727383f2a47bd31570b7da84eee7b022dd6d7c78-knockout.js\"},{\"name\":\"knockout_punches\",\"type\":\"js\",\"url\":\"/assetserver/382b41b3b1bd9f26f75861d360bad7f8beea211f-knockout_punches.js\"}],\"type\":\"async_block\"})).then((imports) => handler.apply(this, imports));\n}\n"
                ],
                "observables": {
                 "changes": {
                  "id": "2939760826023590905",
                  "sync": false,
                  "value": 0
                 },
                 "index": {
                  "id": "1487071829290982137",
                  "sync": true,
                  "value": 10
                 }
                },
                "systemjs_options": null
               },
               "nodeType": "Scope",
               "props": {},
               "type": "node"
              }
             ],
             "instanceArgs": {
              "namespace": "html",
              "tag": "div"
             },
             "nodeType": "DOM",
             "props": {
              "className": "field interact-widget"
             },
             "type": "node"
            },
            {
             "children": [
              {
               "children": [
                {
                 "children": [
                  {
                   "children": [],
                   "instanceArgs": {
                    "namespace": "html",
                    "tag": "div"
                   },
                   "nodeType": "DOM",
                   "props": {
                    "id": "container"
                   },
                   "type": "node"
                  }
                 ],
                 "instanceArgs": {
                  "handlers": {
                   "value": [
                    "(function (txt){return this.k.render(txt,this.container)})"
                   ]
                  },
                  "id": "3133797942135946531",
                  "imports": {
                   "data": [
                    {
                     "name": null,
                     "type": "js",
                     "url": "/assetserver/dd22ed1bf1896c2748f3fe616ce0b838adc895c1-katex.min.js"
                    },
                    {
                     "name": null,
                     "type": "css",
                     "url": "/assetserver/46517a424aa5e6cffc1360d7e0848b601c584ee3-katex.min.css"
                    }
                   ],
                   "type": "async_block"
                  },
                  "mount_callbacks": [
                   "function () {\n    var handler = ((function (k){this.k=k; this.container=this.dom.querySelector(\"#container\"); return k.render(\"\\\\;\\\\;\",this.container)}));\n    (WebIO.importBlock({\"data\":[{\"name\":null,\"type\":\"js\",\"url\":\"/assetserver/dd22ed1bf1896c2748f3fe616ce0b838adc895c1-katex.min.js\"},{\"name\":null,\"type\":\"css\",\"url\":\"/assetserver/46517a424aa5e6cffc1360d7e0848b601c584ee3-katex.min.css\"}],\"type\":\"async_block\"})).then((imports) => handler.apply(this, imports));\n}\n"
                  ],
                  "observables": {
                   "value": {
                    "id": "2413065949803472263",
                    "sync": false,
                    "value": "\\;\\;"
                   }
                  },
                  "systemjs_options": null
                 },
                 "nodeType": "Scope",
                 "props": {},
                 "type": "node"
                }
               ],
               "instanceArgs": {
                "namespace": "html",
                "tag": "div"
               },
               "nodeType": "DOM",
               "props": {
                "className": "interact-widget"
               },
               "type": "node"
              },
              {
               "children": [
                {
                 "children": [
                  {
                   "children": [
                    "run"
                   ],
                   "instanceArgs": {
                    "namespace": "html",
                    "tag": "button"
                   },
                   "nodeType": "DOM",
                   "props": {
                    "attributes": {
                     "data-bind": "click: function (){this.clicks(this.clicks()+1)}, css: {'is-loading' : loading}"
                    },
                    "className": "is-medium button is-primary",
                    "style": {}
                   },
                   "type": "node"
                  }
                 ],
                 "instanceArgs": {
                  "handlers": {
                   "clicks": [
                    "(function (val){return (val!=this.model[\"clicks\"]()) ? (this.valueFromJulia[\"clicks\"]=true, this.model[\"clicks\"](val)) : undefined})"
                   ],
                   "loading": [
                    "(function (val){return (val!=this.model[\"loading\"]()) ? (this.valueFromJulia[\"loading\"]=true, this.model[\"loading\"](val)) : undefined})"
                   ]
                  },
                  "id": "5604566927796644593",
                  "imports": {
                   "data": [
                    {
                     "name": "knockout",
                     "type": "js",
                     "url": "/assetserver/727383f2a47bd31570b7da84eee7b022dd6d7c78-knockout.js"
                    },
                    {
                     "name": "knockout_punches",
                     "type": "js",
                     "url": "/assetserver/382b41b3b1bd9f26f75861d360bad7f8beea211f-knockout_punches.js"
                    },
                    {
                     "name": null,
                     "type": "js",
                     "url": "/assetserver/5ab20f1060420992a9b82a65b735dee4d81ef413-all.js"
                    },
                    {
                     "name": null,
                     "type": "css",
                     "url": "/assetserver/1cc0ed62837210b80a182cc3676512f895dab686-style.css"
                    },
                    {
                     "name": null,
                     "type": "css",
                     "url": "/assetserver/2eee816f616df3549d7044d45e744fbf8d42bfa1-bulma_confined.min.css"
                    }
                   ],
                   "type": "async_block"
                  },
                  "mount_callbacks": [
                   "function () {\n    var handler = (function (ko, koPunches) {\n    ko.punches.enableAll();\n    ko.bindingHandlers.numericValue = {\n        init: function(element, valueAccessor, allBindings, data, context) {\n            var stringified = ko.observable(ko.unwrap(valueAccessor()));\n            stringified.subscribe(function(value) {\n                var val = parseFloat(value);\n                if (!isNaN(val)) {\n                    valueAccessor()(val);\n                }\n            });\n            valueAccessor().subscribe(function(value) {\n                var str = JSON.stringify(value);\n                if ((str == \"0\") && ([\"-0\", \"-0.\"].indexOf(stringified()) >= 0))\n                     return;\n                 if ([\"null\", \"\"].indexOf(str) >= 0)\n                     return;\n                stringified(str);\n            });\n            ko.applyBindingsToNode(\n                element,\n                {\n                    value: stringified,\n                    valueUpdate: allBindings.get('valueUpdate'),\n                },\n                context,\n            );\n        }\n    };\n    var json_data = {\"loading\":WebIO.getval({\"name\":\"loading\",\"scope\":\"5604566927796644593\",\"id\":\"1755048428814747432\",\"type\":\"observable\"}),\"clicks\":WebIO.getval({\"name\":\"clicks\",\"scope\":\"5604566927796644593\",\"id\":\"17716531452895064607\",\"type\":\"observable\"})};\n    var self = this;\n    function AppViewModel() {\n        for (var key in json_data) {\n            var el = json_data[key];\n            this[key] = Array.isArray(el) ? ko.observableArray(el) : ko.observable(el);\n        }\n        \n        \n        [this[\"loading\"].subscribe((function (val){!(this.valueFromJulia[\"loading\"]) ? (WebIO.setval({\"name\":\"loading\",\"scope\":\"5604566927796644593\",\"id\":\"1755048428814747432\",\"type\":\"observable\"},val)) : undefined; return this.valueFromJulia[\"loading\"]=false}),self),this[\"clicks\"].subscribe((function (val){!(this.valueFromJulia[\"clicks\"]) ? (WebIO.setval({\"name\":\"clicks\",\"scope\":\"5604566927796644593\",\"id\":\"17716531452895064607\",\"type\":\"observable\"},val)) : undefined; return this.valueFromJulia[\"clicks\"]=false}),self)]\n        \n    }\n    self.model = new AppViewModel();\n    self.valueFromJulia = {};\n    for (var key in json_data) {\n        self.valueFromJulia[key] = false;\n    }\n    ko.applyBindings(self.model, self.dom);\n}\n);\n    (WebIO.importBlock({\"data\":[{\"name\":\"knockout\",\"type\":\"js\",\"url\":\"/assetserver/727383f2a47bd31570b7da84eee7b022dd6d7c78-knockout.js\"},{\"name\":\"knockout_punches\",\"type\":\"js\",\"url\":\"/assetserver/382b41b3b1bd9f26f75861d360bad7f8beea211f-knockout_punches.js\"}],\"type\":\"async_block\"})).then((imports) => handler.apply(this, imports));\n}\n"
                  ],
                  "observables": {
                   "clicks": {
                    "id": "17716531452895064607",
                    "sync": true,
                    "value": 0
                   },
                   "loading": {
                    "id": "1755048428814747432",
                    "sync": false,
                    "value": false
                   }
                  },
                  "systemjs_options": null
                 },
                 "nodeType": "Scope",
                 "props": {},
                 "type": "node"
                }
               ],
               "instanceArgs": {
                "namespace": "html",
                "tag": "div"
               },
               "nodeType": "DOM",
               "props": {
                "className": "field interact-widget"
               },
               "type": "node"
              },
              {
               "children": [
                {
                 "children": [
                  {
                   "children": [],
                   "instanceArgs": {
                    "namespace": "html",
                    "tag": "div"
                   },
                   "nodeType": "DOM",
                   "props": {
                    "id": "container"
                   },
                   "type": "node"
                  }
                 ],
                 "instanceArgs": {
                  "handlers": {
                   "value": [
                    "(function (txt){return this.k.render(txt,this.container)})"
                   ]
                  },
                  "id": "3133797942135946531",
                  "imports": {
                   "data": [
                    {
                     "name": null,
                     "type": "js",
                     "url": "/assetserver/dd22ed1bf1896c2748f3fe616ce0b838adc895c1-katex.min.js"
                    },
                    {
                     "name": null,
                     "type": "css",
                     "url": "/assetserver/46517a424aa5e6cffc1360d7e0848b601c584ee3-katex.min.css"
                    }
                   ],
                   "type": "async_block"
                  },
                  "mount_callbacks": [
                   "function () {\n    var handler = ((function (k){this.k=k; this.container=this.dom.querySelector(\"#container\"); return k.render(\"\\\\;\\\\;\",this.container)}));\n    (WebIO.importBlock({\"data\":[{\"name\":null,\"type\":\"js\",\"url\":\"/assetserver/dd22ed1bf1896c2748f3fe616ce0b838adc895c1-katex.min.js\"},{\"name\":null,\"type\":\"css\",\"url\":\"/assetserver/46517a424aa5e6cffc1360d7e0848b601c584ee3-katex.min.css\"}],\"type\":\"async_block\"})).then((imports) => handler.apply(this, imports));\n}\n"
                  ],
                  "observables": {
                   "value": {
                    "id": "2413065949803472263",
                    "sync": false,
                    "value": "\\;\\;"
                   }
                  },
                  "systemjs_options": null
                 },
                 "nodeType": "Scope",
                 "props": {},
                 "type": "node"
                }
               ],
               "instanceArgs": {
                "namespace": "html",
                "tag": "div"
               },
               "nodeType": "DOM",
               "props": {
                "className": "interact-widget"
               },
               "type": "node"
              },
              {
               "children": [
                {
                 "children": [
                  {
                   "children": [
                    "stop"
                   ],
                   "instanceArgs": {
                    "namespace": "html",
                    "tag": "button"
                   },
                   "nodeType": "DOM",
                   "props": {
                    "attributes": {
                     "data-bind": "click: function (){this.clicks(this.clicks()+1)}, css: {'is-loading' : loading}"
                    },
                    "className": "is-medium button is-primary",
                    "style": {}
                   },
                   "type": "node"
                  }
                 ],
                 "instanceArgs": {
                  "handlers": {
                   "clicks": [
                    "(function (val){return (val!=this.model[\"clicks\"]()) ? (this.valueFromJulia[\"clicks\"]=true, this.model[\"clicks\"](val)) : undefined})"
                   ],
                   "loading": [
                    "(function (val){return (val!=this.model[\"loading\"]()) ? (this.valueFromJulia[\"loading\"]=true, this.model[\"loading\"](val)) : undefined})"
                   ]
                  },
                  "id": "7862820841381978741",
                  "imports": {
                   "data": [
                    {
                     "name": "knockout",
                     "type": "js",
                     "url": "/assetserver/727383f2a47bd31570b7da84eee7b022dd6d7c78-knockout.js"
                    },
                    {
                     "name": "knockout_punches",
                     "type": "js",
                     "url": "/assetserver/382b41b3b1bd9f26f75861d360bad7f8beea211f-knockout_punches.js"
                    },
                    {
                     "name": null,
                     "type": "js",
                     "url": "/assetserver/5ab20f1060420992a9b82a65b735dee4d81ef413-all.js"
                    },
                    {
                     "name": null,
                     "type": "css",
                     "url": "/assetserver/1cc0ed62837210b80a182cc3676512f895dab686-style.css"
                    },
                    {
                     "name": null,
                     "type": "css",
                     "url": "/assetserver/2eee816f616df3549d7044d45e744fbf8d42bfa1-bulma_confined.min.css"
                    }
                   ],
                   "type": "async_block"
                  },
                  "mount_callbacks": [
                   "function () {\n    var handler = (function (ko, koPunches) {\n    ko.punches.enableAll();\n    ko.bindingHandlers.numericValue = {\n        init: function(element, valueAccessor, allBindings, data, context) {\n            var stringified = ko.observable(ko.unwrap(valueAccessor()));\n            stringified.subscribe(function(value) {\n                var val = parseFloat(value);\n                if (!isNaN(val)) {\n                    valueAccessor()(val);\n                }\n            });\n            valueAccessor().subscribe(function(value) {\n                var str = JSON.stringify(value);\n                if ((str == \"0\") && ([\"-0\", \"-0.\"].indexOf(stringified()) >= 0))\n                     return;\n                 if ([\"null\", \"\"].indexOf(str) >= 0)\n                     return;\n                stringified(str);\n            });\n            ko.applyBindingsToNode(\n                element,\n                {\n                    value: stringified,\n                    valueUpdate: allBindings.get('valueUpdate'),\n                },\n                context,\n            );\n        }\n    };\n    var json_data = {\"loading\":WebIO.getval({\"name\":\"loading\",\"scope\":\"7862820841381978741\",\"id\":\"8891495569947539537\",\"type\":\"observable\"}),\"clicks\":WebIO.getval({\"name\":\"clicks\",\"scope\":\"7862820841381978741\",\"id\":\"2045255202651643214\",\"type\":\"observable\"})};\n    var self = this;\n    function AppViewModel() {\n        for (var key in json_data) {\n            var el = json_data[key];\n            this[key] = Array.isArray(el) ? ko.observableArray(el) : ko.observable(el);\n        }\n        \n        \n        [this[\"loading\"].subscribe((function (val){!(this.valueFromJulia[\"loading\"]) ? (WebIO.setval({\"name\":\"loading\",\"scope\":\"7862820841381978741\",\"id\":\"8891495569947539537\",\"type\":\"observable\"},val)) : undefined; return this.valueFromJulia[\"loading\"]=false}),self),this[\"clicks\"].subscribe((function (val){!(this.valueFromJulia[\"clicks\"]) ? (WebIO.setval({\"name\":\"clicks\",\"scope\":\"7862820841381978741\",\"id\":\"2045255202651643214\",\"type\":\"observable\"},val)) : undefined; return this.valueFromJulia[\"clicks\"]=false}),self)]\n        \n    }\n    self.model = new AppViewModel();\n    self.valueFromJulia = {};\n    for (var key in json_data) {\n        self.valueFromJulia[key] = false;\n    }\n    ko.applyBindings(self.model, self.dom);\n}\n);\n    (WebIO.importBlock({\"data\":[{\"name\":\"knockout\",\"type\":\"js\",\"url\":\"/assetserver/727383f2a47bd31570b7da84eee7b022dd6d7c78-knockout.js\"},{\"name\":\"knockout_punches\",\"type\":\"js\",\"url\":\"/assetserver/382b41b3b1bd9f26f75861d360bad7f8beea211f-knockout_punches.js\"}],\"type\":\"async_block\"})).then((imports) => handler.apply(this, imports));\n}\n"
                  ],
                  "observables": {
                   "clicks": {
                    "id": "2045255202651643214",
                    "sync": true,
                    "value": 0
                   },
                   "loading": {
                    "id": "8891495569947539537",
                    "sync": false,
                    "value": false
                   }
                  },
                  "systemjs_options": null
                 },
                 "nodeType": "Scope",
                 "props": {},
                 "type": "node"
                }
               ],
               "instanceArgs": {
                "namespace": "html",
                "tag": "div"
               },
               "nodeType": "DOM",
               "props": {
                "className": "field interact-widget"
               },
               "type": "node"
              },
              {
               "children": [
                {
                 "children": [
                  {
                   "children": [],
                   "instanceArgs": {
                    "namespace": "html",
                    "tag": "div"
                   },
                   "nodeType": "DOM",
                   "props": {
                    "id": "container"
                   },
                   "type": "node"
                  }
                 ],
                 "instanceArgs": {
                  "handlers": {
                   "value": [
                    "(function (txt){return this.k.render(txt,this.container)})"
                   ]
                  },
                  "id": "3133797942135946531",
                  "imports": {
                   "data": [
                    {
                     "name": null,
                     "type": "js",
                     "url": "/assetserver/dd22ed1bf1896c2748f3fe616ce0b838adc895c1-katex.min.js"
                    },
                    {
                     "name": null,
                     "type": "css",
                     "url": "/assetserver/46517a424aa5e6cffc1360d7e0848b601c584ee3-katex.min.css"
                    }
                   ],
                   "type": "async_block"
                  },
                  "mount_callbacks": [
                   "function () {\n    var handler = ((function (k){this.k=k; this.container=this.dom.querySelector(\"#container\"); return k.render(\"\\\\;\\\\;\",this.container)}));\n    (WebIO.importBlock({\"data\":[{\"name\":null,\"type\":\"js\",\"url\":\"/assetserver/dd22ed1bf1896c2748f3fe616ce0b838adc895c1-katex.min.js\"},{\"name\":null,\"type\":\"css\",\"url\":\"/assetserver/46517a424aa5e6cffc1360d7e0848b601c584ee3-katex.min.css\"}],\"type\":\"async_block\"})).then((imports) => handler.apply(this, imports));\n}\n"
                  ],
                  "observables": {
                   "value": {
                    "id": "2413065949803472263",
                    "sync": false,
                    "value": "\\;\\;"
                   }
                  },
                  "systemjs_options": null
                 },
                 "nodeType": "Scope",
                 "props": {},
                 "type": "node"
                }
               ],
               "instanceArgs": {
                "namespace": "html",
                "tag": "div"
               },
               "nodeType": "DOM",
               "props": {
                "className": "interact-widget"
               },
               "type": "node"
              },
              {
               "children": [
                {
                 "children": [
                  {
                   "children": [
                    "save"
                   ],
                   "instanceArgs": {
                    "namespace": "html",
                    "tag": "button"
                   },
                   "nodeType": "DOM",
                   "props": {
                    "attributes": {
                     "data-bind": "click: function (){this.clicks(this.clicks()+1)}, css: {'is-loading' : loading}"
                    },
                    "className": "is-medium button is-primary",
                    "style": {}
                   },
                   "type": "node"
                  }
                 ],
                 "instanceArgs": {
                  "handlers": {
                   "clicks": [
                    "(function (val){return (val!=this.model[\"clicks\"]()) ? (this.valueFromJulia[\"clicks\"]=true, this.model[\"clicks\"](val)) : undefined})"
                   ],
                   "loading": [
                    "(function (val){return (val!=this.model[\"loading\"]()) ? (this.valueFromJulia[\"loading\"]=true, this.model[\"loading\"](val)) : undefined})"
                   ]
                  },
                  "id": "12855457338016837478",
                  "imports": {
                   "data": [
                    {
                     "name": "knockout",
                     "type": "js",
                     "url": "/assetserver/727383f2a47bd31570b7da84eee7b022dd6d7c78-knockout.js"
                    },
                    {
                     "name": "knockout_punches",
                     "type": "js",
                     "url": "/assetserver/382b41b3b1bd9f26f75861d360bad7f8beea211f-knockout_punches.js"
                    },
                    {
                     "name": null,
                     "type": "js",
                     "url": "/assetserver/5ab20f1060420992a9b82a65b735dee4d81ef413-all.js"
                    },
                    {
                     "name": null,
                     "type": "css",
                     "url": "/assetserver/1cc0ed62837210b80a182cc3676512f895dab686-style.css"
                    },
                    {
                     "name": null,
                     "type": "css",
                     "url": "/assetserver/2eee816f616df3549d7044d45e744fbf8d42bfa1-bulma_confined.min.css"
                    }
                   ],
                   "type": "async_block"
                  },
                  "mount_callbacks": [
                   "function () {\n    var handler = (function (ko, koPunches) {\n    ko.punches.enableAll();\n    ko.bindingHandlers.numericValue = {\n        init: function(element, valueAccessor, allBindings, data, context) {\n            var stringified = ko.observable(ko.unwrap(valueAccessor()));\n            stringified.subscribe(function(value) {\n                var val = parseFloat(value);\n                if (!isNaN(val)) {\n                    valueAccessor()(val);\n                }\n            });\n            valueAccessor().subscribe(function(value) {\n                var str = JSON.stringify(value);\n                if ((str == \"0\") && ([\"-0\", \"-0.\"].indexOf(stringified()) >= 0))\n                     return;\n                 if ([\"null\", \"\"].indexOf(str) >= 0)\n                     return;\n                stringified(str);\n            });\n            ko.applyBindingsToNode(\n                element,\n                {\n                    value: stringified,\n                    valueUpdate: allBindings.get('valueUpdate'),\n                },\n                context,\n            );\n        }\n    };\n    var json_data = {\"loading\":WebIO.getval({\"name\":\"loading\",\"scope\":\"12855457338016837478\",\"id\":\"14558442741969963743\",\"type\":\"observable\"}),\"clicks\":WebIO.getval({\"name\":\"clicks\",\"scope\":\"12855457338016837478\",\"id\":\"16691338663028872541\",\"type\":\"observable\"})};\n    var self = this;\n    function AppViewModel() {\n        for (var key in json_data) {\n            var el = json_data[key];\n            this[key] = Array.isArray(el) ? ko.observableArray(el) : ko.observable(el);\n        }\n        \n        \n        [this[\"loading\"].subscribe((function (val){!(this.valueFromJulia[\"loading\"]) ? (WebIO.setval({\"name\":\"loading\",\"scope\":\"12855457338016837478\",\"id\":\"14558442741969963743\",\"type\":\"observable\"},val)) : undefined; return this.valueFromJulia[\"loading\"]=false}),self),this[\"clicks\"].subscribe((function (val){!(this.valueFromJulia[\"clicks\"]) ? (WebIO.setval({\"name\":\"clicks\",\"scope\":\"12855457338016837478\",\"id\":\"16691338663028872541\",\"type\":\"observable\"},val)) : undefined; return this.valueFromJulia[\"clicks\"]=false}),self)]\n        \n    }\n    self.model = new AppViewModel();\n    self.valueFromJulia = {};\n    for (var key in json_data) {\n        self.valueFromJulia[key] = false;\n    }\n    ko.applyBindings(self.model, self.dom);\n}\n);\n    (WebIO.importBlock({\"data\":[{\"name\":\"knockout\",\"type\":\"js\",\"url\":\"/assetserver/727383f2a47bd31570b7da84eee7b022dd6d7c78-knockout.js\"},{\"name\":\"knockout_punches\",\"type\":\"js\",\"url\":\"/assetserver/382b41b3b1bd9f26f75861d360bad7f8beea211f-knockout_punches.js\"}],\"type\":\"async_block\"})).then((imports) => handler.apply(this, imports));\n}\n"
                  ],
                  "observables": {
                   "clicks": {
                    "id": "16691338663028872541",
                    "sync": true,
                    "value": 0
                   },
                   "loading": {
                    "id": "14558442741969963743",
                    "sync": false,
                    "value": false
                   }
                  },
                  "systemjs_options": null
                 },
                 "nodeType": "Scope",
                 "props": {},
                 "type": "node"
                }
               ],
               "instanceArgs": {
                "namespace": "html",
                "tag": "div"
               },
               "nodeType": "DOM",
               "props": {
                "className": "field interact-widget"
               },
               "type": "node"
              }
             ],
             "instanceArgs": {
              "namespace": "html",
              "tag": "div"
             },
             "nodeType": "DOM",
             "props": {
              "style": {
               "display": "flex",
               "flex-direction": "row"
              }
             },
             "type": "node"
            }
           ],
           "instanceArgs": {
            "namespace": "html",
            "tag": "div"
           },
           "nodeType": "DOM",
           "props": {
            "style": {
             "display": "flex",
             "flex-direction": "column"
            }
           },
           "type": "node"
          },
          {
           "children": [
            {
             "children": [
              {
               "children": [],
               "instanceArgs": {
                "namespace": "html",
                "tag": "div"
               },
               "nodeType": "DOM",
               "props": {
                "id": "container"
               },
               "type": "node"
              }
             ],
             "instanceArgs": {
              "handlers": {
               "value": [
                "(function (txt){return this.k.render(txt,this.container)})"
               ]
              },
              "id": "3133797942135946531",
              "imports": {
               "data": [
                {
                 "name": null,
                 "type": "js",
                 "url": "/assetserver/dd22ed1bf1896c2748f3fe616ce0b838adc895c1-katex.min.js"
                },
                {
                 "name": null,
                 "type": "css",
                 "url": "/assetserver/46517a424aa5e6cffc1360d7e0848b601c584ee3-katex.min.css"
                }
               ],
               "type": "async_block"
              },
              "mount_callbacks": [
               "function () {\n    var handler = ((function (k){this.k=k; this.container=this.dom.querySelector(\"#container\"); return k.render(\"\\\\;\\\\;\",this.container)}));\n    (WebIO.importBlock({\"data\":[{\"name\":null,\"type\":\"js\",\"url\":\"/assetserver/dd22ed1bf1896c2748f3fe616ce0b838adc895c1-katex.min.js\"},{\"name\":null,\"type\":\"css\",\"url\":\"/assetserver/46517a424aa5e6cffc1360d7e0848b601c584ee3-katex.min.css\"}],\"type\":\"async_block\"})).then((imports) => handler.apply(this, imports));\n}\n"
              ],
              "observables": {
               "value": {
                "id": "2413065949803472263",
                "sync": false,
                "value": "\\;\\;"
               }
              },
              "systemjs_options": null
             },
             "nodeType": "Scope",
             "props": {},
             "type": "node"
            }
           ],
           "instanceArgs": {
            "namespace": "html",
            "tag": "div"
           },
           "nodeType": "DOM",
           "props": {
            "className": "interact-widget"
           },
           "type": "node"
          },
          {
           "children": [
            {
             "children": [],
             "instanceArgs": {
              "namespace": "html",
              "tag": "div"
             },
             "nodeType": "DOM",
             "props": {
              "className": "webio-observable",
              "setInnerHtml": "<img src='data:image/png;base64,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'></img>"
             },
             "type": "node"
            }
           ],
           "instanceArgs": {
            "handlers": {
             "obs-output": [
              "function (value, scope) {\n    scope.setInnerHTML(value);\n}\n"
             ]
            },
            "id": "5402331613055654326",
            "imports": {
             "data": [],
             "type": "async_block"
            },
            "mount_callbacks": [],
            "observables": {
             "obs-output": {
              "id": "14640654113458991028",
              "sync": false,
              "value": "<img src='data:image/png;base64,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'></img>"
             }
            },
            "systemjs_options": null
           },
           "nodeType": "Scope",
           "props": {},
           "type": "node"
          },
          {
           "children": [
            {
             "children": [
              {
               "children": [],
               "instanceArgs": {
                "namespace": "html",
                "tag": "div"
               },
               "nodeType": "DOM",
               "props": {
                "id": "container"
               },
               "type": "node"
              }
             ],
             "instanceArgs": {
              "handlers": {
               "value": [
                "(function (txt){return this.k.render(txt,this.container)})"
               ]
              },
              "id": "3133797942135946531",
              "imports": {
               "data": [
                {
                 "name": null,
                 "type": "js",
                 "url": "/assetserver/dd22ed1bf1896c2748f3fe616ce0b838adc895c1-katex.min.js"
                },
                {
                 "name": null,
                 "type": "css",
                 "url": "/assetserver/46517a424aa5e6cffc1360d7e0848b601c584ee3-katex.min.css"
                }
               ],
               "type": "async_block"
              },
              "mount_callbacks": [
               "function () {\n    var handler = ((function (k){this.k=k; this.container=this.dom.querySelector(\"#container\"); return k.render(\"\\\\;\\\\;\",this.container)}));\n    (WebIO.importBlock({\"data\":[{\"name\":null,\"type\":\"js\",\"url\":\"/assetserver/dd22ed1bf1896c2748f3fe616ce0b838adc895c1-katex.min.js\"},{\"name\":null,\"type\":\"css\",\"url\":\"/assetserver/46517a424aa5e6cffc1360d7e0848b601c584ee3-katex.min.css\"}],\"type\":\"async_block\"})).then((imports) => handler.apply(this, imports));\n}\n"
              ],
              "observables": {
               "value": {
                "id": "2413065949803472263",
                "sync": false,
                "value": "\\;\\;"
               }
              },
              "systemjs_options": null
             },
             "nodeType": "Scope",
             "props": {},
             "type": "node"
            }
           ],
           "instanceArgs": {
            "namespace": "html",
            "tag": "div"
           },
           "nodeType": "DOM",
           "props": {
            "className": "interact-widget"
           },
           "type": "node"
          },
          {
           "children": [],
           "instanceArgs": {
            "namespace": "html",
            "tag": "div"
           },
           "nodeType": "DOM",
           "props": {
            "style": {
             "display": "flex",
             "flex-direction": "column"
            }
           },
           "type": "node"
          }
         ],
         "instanceArgs": {
          "namespace": "html",
          "tag": "div"
         },
         "nodeType": "DOM",
         "props": {
          "style": {
           "display": "flex",
           "flex-direction": "row"
          }
         },
         "type": "node"
        }
       ],
       "instanceArgs": {
        "namespace": "html",
        "tag": "div"
       },
       "nodeType": "DOM",
       "props": {
        "style": {
         "display": "flex",
         "flex-direction": "column"
        }
       },
       "type": "node"
      },
      "text/html": [
       "<div\n",
       "    class=\"webio-mountpoint\"\n",
       "    data-webio-mountpoint=\"7151602110645925697\"\n",
       ">\n",
       "    <script>\n",
       "    (function(){\n",
       "    // Some integrations (namely, IJulia/Jupyter) use an alternate render pathway than\n",
       "    // just putting the html on the page. If WebIO isn't defined, then it's pretty likely\n",
       "    // that we're in one of those situations and the integration just isn't installed\n",
       "    // correctly.\n",
       "    if (typeof window.WebIO === \"undefined\") {\n",
       "        document\n",
       "            .querySelector('[data-webio-mountpoint=\"7151602110645925697\"]')\n",
       "            .innerHTML = (\n",
       "                '<div style=\"padding: 1em; background-color: #f8d6da; border: 1px solid #f5c6cb; font-weight: bold;\">' +\n",
       "                '<p><strong>WebIO not detected.</strong></p>' +\n",
       "                '<p>Please read ' +\n",
       "                '<a href=\"https://juliagizmos.github.io/WebIO.jl/latest/troubleshooting/not-detected/\" target=\"_blank\">the troubleshooting guide</a> ' +\n",
       "                'for more information on how to resolve this issue.</p>' +\n",
       "                '<p><a href=\"https://juliagizmos.github.io/WebIO.jl/latest/troubleshooting/not-detected/\" target=\"_blank\">https://juliagizmos.github.io/WebIO.jl/latest/troubleshooting/not-detected/</a></p>' +\n",
       "                '</div>'\n",
       "            );\n",
       "        return;\n",
       "    }\n",
       "    WebIO.mount(\n",
       "        document.querySelector('[data-webio-mountpoint=\"7151602110645925697\"]'),\n",
       "        {\"props\":{\"style\":{\"display\":\"flex\",\"flex-direction\":\"column\"}},\"nodeType\":\"DOM\",\"type\":\"node\",\"instanceArgs\":{\"namespace\":\"html\",\"tag\":\"div\"},\"children\":[{\"props\":{\"style\":{\"display\":\"flex\",\"flex-direction\":\"row\"}},\"nodeType\":\"DOM\",\"type\":\"node\",\"instanceArgs\":{\"namespace\":\"html\",\"tag\":\"div\"},\"children\":[{\"props\":{\"style\":{\"display\":\"flex\",\"flex-direction\":\"column\"}},\"nodeType\":\"DOM\",\"type\":\"node\",\"instanceArgs\":{\"namespace\":\"html\",\"tag\":\"div\"},\"children\":[{\"props\":{\"className\":\"field interact-widget\"},\"nodeType\":\"DOM\",\"type\":\"node\",\"instanceArgs\":{\"namespace\":\"html\",\"tag\":\"div\"},\"children\":[{\"props\":{},\"nodeType\":\"Scope\",\"type\":\"node\",\"instanceArgs\":{\"imports\":{\"data\":[{\"name\":\"knockout\",\"type\":\"js\",\"url\":\"\\/assetserver\\/727383f2a47bd31570b7da84eee7b022dd6d7c78-knockout.js\"},{\"name\":\"knockout_punches\",\"type\":\"js\",\"url\":\"\\/assetserver\\/382b41b3b1bd9f26f75861d360bad7f8beea211f-knockout_punches.js\"},{\"name\":null,\"type\":\"js\",\"url\":\"\\/assetserver\\/5ab20f1060420992a9b82a65b735dee4d81ef413-all.js\"},{\"name\":null,\"type\":\"css\",\"url\":\"\\/assetserver\\/1cc0ed62837210b80a182cc3676512f895dab686-style.css\"},{\"name\":null,\"type\":\"css\",\"url\":\"\\/assetserver\\/2eee816f616df3549d7044d45e744fbf8d42bfa1-bulma_confined.min.css\"}],\"type\":\"async_block\"},\"id\":\"8531897873138331408\",\"handlers\":{\"changes\":[\"(function (val){return (val!=this.model[\\\"changes\\\"]()) ? (this.valueFromJulia[\\\"changes\\\"]=true, this.model[\\\"changes\\\"](val)) : undefined})\"],\"index\":[\"(function (val){return (val!=this.model[\\\"index\\\"]()) ? (this.valueFromJulia[\\\"index\\\"]=true, this.model[\\\"index\\\"](val)) : undefined})\"]},\"systemjs_options\":null,\"mount_callbacks\":[\"function () {\\n    var handler = (function (ko, koPunches) {\\n    ko.punches.enableAll();\\n    ko.bindingHandlers.numericValue = {\\n        init: function(element, valueAccessor, allBindings, data, context) {\\n            var stringified = ko.observable(ko.unwrap(valueAccessor()));\\n            stringified.subscribe(function(value) {\\n                var val = parseFloat(value);\\n                if (!isNaN(val)) {\\n                    valueAccessor()(val);\\n                }\\n            });\\n            valueAccessor().subscribe(function(value) {\\n                var str = JSON.stringify(value);\\n                if ((str == \\\"0\\\") && ([\\\"-0\\\", \\\"-0.\\\"].indexOf(stringified()) >= 0))\\n                     return;\\n                 if ([\\\"null\\\", \\\"\\\"].indexOf(str) >= 0)\\n                     return;\\n                stringified(str);\\n            });\\n            ko.applyBindingsToNode(\\n                element,\\n                {\\n                    value: stringified,\\n                    valueUpdate: allBindings.get('valueUpdate'),\\n                },\\n                context,\\n            );\\n        }\\n    };\\n    var json_data = {\\\"formatted_vals\\\":[\\\"1\\\",\\\"2\\\",\\\"3\\\",\\\"4\\\",\\\"5\\\",\\\"6\\\",\\\"7\\\",\\\"8\\\",\\\"9\\\",\\\"10\\\",\\\"11\\\",\\\"12\\\",\\\"13\\\",\\\"14\\\",\\\"15\\\",\\\"16\\\",\\\"17\\\",\\\"18\\\",\\\"19\\\",\\\"20\\\",\\\"21\\\",\\\"22\\\",\\\"23\\\",\\\"24\\\",\\\"25\\\",\\\"26\\\",\\\"27\\\",\\\"28\\\",\\\"29\\\",\\\"30\\\",\\\"31\\\",\\\"32\\\",\\\"33\\\",\\\"34\\\",\\\"35\\\",\\\"36\\\",\\\"37\\\",\\\"38\\\",\\\"39\\\",\\\"40\\\",\\\"41\\\",\\\"42\\\",\\\"43\\\",\\\"44\\\",\\\"45\\\",\\\"46\\\",\\\"47\\\",\\\"48\\\",\\\"49\\\",\\\"50\\\",\\\"51\\\",\\\"52\\\",\\\"53\\\",\\\"54\\\",\\\"55\\\",\\\"56\\\",\\\"57\\\",\\\"58\\\",\\\"59\\\",\\\"60\\\",\\\"61\\\",\\\"62\\\",\\\"63\\\",\\\"64\\\",\\\"65\\\",\\\"66\\\",\\\"67\\\",\\\"68\\\",\\\"69\\\",\\\"70\\\",\\\"71\\\",\\\"72\\\",\\\"73\\\",\\\"74\\\",\\\"75\\\",\\\"76\\\",\\\"77\\\",\\\"78\\\",\\\"79\\\",\\\"80\\\",\\\"81\\\",\\\"82\\\",\\\"83\\\",\\\"84\\\",\\\"85\\\",\\\"86\\\",\\\"87\\\",\\\"88\\\",\\\"89\\\",\\\"90\\\",\\\"91\\\",\\\"92\\\",\\\"93\\\",\\\"94\\\",\\\"95\\\",\\\"96\\\",\\\"97\\\",\\\"98\\\",\\\"99\\\",\\\"100\\\",\\\"101\\\",\\\"102\\\",\\\"103\\\",\\\"104\\\",\\\"105\\\",\\\"106\\\",\\\"107\\\",\\\"108\\\",\\\"109\\\",\\\"110\\\",\\\"111\\\",\\\"112\\\",\\\"113\\\",\\\"114\\\",\\\"115\\\",\\\"116\\\",\\\"117\\\",\\\"118\\\",\\\"119\\\",\\\"120\\\",\\\"121\\\",\\\"122\\\",\\\"123\\\",\\\"124\\\",\\\"125\\\",\\\"126\\\",\\\"127\\\",\\\"128\\\",\\\"129\\\",\\\"130\\\",\\\"131\\\",\\\"132\\\",\\\"133\\\",\\\"134\\\",\\\"135\\\",\\\"136\\\",\\\"137\\\",\\\"138\\\",\\\"139\\\",\\\"140\\\",\\\"141\\\",\\\"142\\\",\\\"143\\\",\\\"144\\\",\\\"145\\\",\\\"146\\\",\\\"147\\\",\\\"148\\\",\\\"149\\\",\\\"150\\\",\\\"151\\\",\\\"152\\\",\\\"153\\\",\\\"154\\\",\\\"155\\\",\\\"156\\\",\\\"157\\\",\\\"158\\\",\\\"159\\\",\\\"160\\\",\\\"161\\\",\\\"162\\\",\\\"163\\\",\\\"164\\\",\\\"165\\\",\\\"166\\\",\\\"167\\\",\\\"168\\\",\\\"169\\\",\\\"170\\\",\\\"171\\\",\\\"172\\\",\\\"173\\\",\\\"174\\\",\\\"175\\\",\\\"176\\\",\\\"177\\\",\\\"178\\\",\\\"179\\\",\\\"180\\\",\\\"181\\\",\\\"182\\\",\\\"183\\\",\\\"184\\\",\\\"185\\\",\\\"186\\\",\\\"187\\\",\\\"188\\\",\\\"189\\\",\\\"190\\\",\\\"191\\\",\\\"192\\\",\\\"193\\\",\\\"194\\\",\\\"195\\\",\\\"196\\\",\\\"197\\\",\\\"198\\\",\\\"199\\\",\\\"200\\\",\\\"201\\\"],\\\"changes\\\":WebIO.getval({\\\"name\\\":\\\"changes\\\",\\\"scope\\\":\\\"8531897873138331408\\\",\\\"id\\\":\\\"7710823025016951784\\\",\\\"type\\\":\\\"observable\\\"}),\\\"index\\\":WebIO.getval({\\\"name\\\":\\\"index\\\",\\\"scope\\\":\\\"8531897873138331408\\\",\\\"id\\\":\\\"10821016406235879473\\\",\\\"type\\\":\\\"observable\\\"})};\\n    var self = this;\\n    function AppViewModel() {\\n        for (var key in json_data) {\\n            var el = json_data[key];\\n            this[key] = Array.isArray(el) ? ko.observableArray(el) : ko.observable(el);\\n        }\\n        \\n        [this[\\\"formatted_val\\\"]=ko.computed(    function(){\\n        return this.formatted_vals()[parseInt(this.index())-(1)];\\n    }\\n,this)]\\n        [this[\\\"changes\\\"].subscribe((function (val){!(this.valueFromJulia[\\\"changes\\\"]) ? (WebIO.setval({\\\"name\\\":\\\"changes\\\",\\\"scope\\\":\\\"8531897873138331408\\\",\\\"id\\\":\\\"7710823025016951784\\\",\\\"type\\\":\\\"observable\\\"},val)) : undefined; return this.valueFromJulia[\\\"changes\\\"]=false}),self),this[\\\"index\\\"].subscribe((function (val){!(this.valueFromJulia[\\\"index\\\"]) ? (WebIO.setval({\\\"name\\\":\\\"index\\\",\\\"scope\\\":\\\"8531897873138331408\\\",\\\"id\\\":\\\"10821016406235879473\\\",\\\"type\\\":\\\"observable\\\"},val)) : undefined; return this.valueFromJulia[\\\"index\\\"]=false}),self)]\\n        \\n    }\\n    self.model = new AppViewModel();\\n    self.valueFromJulia = {};\\n    for (var key in json_data) {\\n        self.valueFromJulia[key] = false;\\n    }\\n    ko.applyBindings(self.model, self.dom);\\n}\\n);\\n    (WebIO.importBlock({\\\"data\\\":[{\\\"name\\\":\\\"knockout\\\",\\\"type\\\":\\\"js\\\",\\\"url\\\":\\\"\\/assetserver\\/727383f2a47bd31570b7da84eee7b022dd6d7c78-knockout.js\\\"},{\\\"name\\\":\\\"knockout_punches\\\",\\\"type\\\":\\\"js\\\",\\\"url\\\":\\\"\\/assetserver\\/382b41b3b1bd9f26f75861d360bad7f8beea211f-knockout_punches.js\\\"}],\\\"type\\\":\\\"async_block\\\"})).then((imports) => handler.apply(this, imports));\\n}\\n\"],\"observables\":{\"changes\":{\"sync\":false,\"id\":\"7710823025016951784\",\"value\":0},\"index\":{\"sync\":true,\"id\":\"10821016406235879473\",\"value\":101}}},\"children\":[{\"props\":{\"className\":\"interact-flex-row interact-widget\"},\"nodeType\":\"DOM\",\"type\":\"node\",\"instanceArgs\":{\"namespace\":\"html\",\"tag\":\"div\"},\"children\":[{\"props\":{\"className\":\"interact-flex-row-left\"},\"nodeType\":\"DOM\",\"type\":\"node\",\"instanceArgs\":{\"namespace\":\"html\",\"tag\":\"div\"},\"children\":[{\"props\":{\"className\":\"interact \",\"style\":{\"padding\":\"5px 10px 0px 10px\"}},\"nodeType\":\"DOM\",\"type\":\"node\",\"instanceArgs\":{\"namespace\":\"html\",\"tag\":\"label\"},\"children\":[\"time\"]}]},{\"props\":{\"className\":\"interact-flex-row-center\"},\"nodeType\":\"DOM\",\"type\":\"node\",\"instanceArgs\":{\"namespace\":\"html\",\"tag\":\"div\"},\"children\":[{\"props\":{\"max\":201,\"min\":1,\"attributes\":{\"type\":\"range\",\"data-bind\":\"numericValue: index, valueUpdate: 'input', event: {change: function (){this.changes(this.changes()+1)}}\",\"orient\":\"horizontal\"},\"step\":1,\"className\":\"slider slider is-fullwidth\",\"style\":{}},\"nodeType\":\"DOM\",\"type\":\"node\",\"instanceArgs\":{\"namespace\":\"html\",\"tag\":\"input\"},\"children\":[]}]},{\"props\":{\"className\":\"interact-flex-row-right\"},\"nodeType\":\"DOM\",\"type\":\"node\",\"instanceArgs\":{\"namespace\":\"html\",\"tag\":\"div\"},\"children\":[{\"props\":{\"attributes\":{\"data-bind\":\"text: formatted_val\"}},\"nodeType\":\"DOM\",\"type\":\"node\",\"instanceArgs\":{\"namespace\":\"html\",\"tag\":\"p\"},\"children\":[]}]}]}]}]},{\"props\":{\"className\":\"field interact-widget\"},\"nodeType\":\"DOM\",\"type\":\"node\",\"instanceArgs\":{\"namespace\":\"html\",\"tag\":\"div\"},\"children\":[{\"props\":{},\"nodeType\":\"Scope\",\"type\":\"node\",\"instanceArgs\":{\"imports\":{\"data\":[{\"name\":\"knockout\",\"type\":\"js\",\"url\":\"\\/assetserver\\/727383f2a47bd31570b7da84eee7b022dd6d7c78-knockout.js\"},{\"name\":\"knockout_punches\",\"type\":\"js\",\"url\":\"\\/assetserver\\/382b41b3b1bd9f26f75861d360bad7f8beea211f-knockout_punches.js\"},{\"name\":null,\"type\":\"js\",\"url\":\"\\/assetserver\\/5ab20f1060420992a9b82a65b735dee4d81ef413-all.js\"},{\"name\":null,\"type\":\"css\",\"url\":\"\\/assetserver\\/1cc0ed62837210b80a182cc3676512f895dab686-style.css\"},{\"name\":null,\"type\":\"css\",\"url\":\"\\/assetserver\\/2eee816f616df3549d7044d45e744fbf8d42bfa1-bulma_confined.min.css\"}],\"type\":\"async_block\"},\"id\":\"18432843449332872455\",\"handlers\":{\"changes\":[\"(function (val){return (val!=this.model[\\\"changes\\\"]()) ? (this.valueFromJulia[\\\"changes\\\"]=true, this.model[\\\"changes\\\"](val)) : undefined})\"],\"index\":[\"(function (val){return (val!=this.model[\\\"index\\\"]()) ? (this.valueFromJulia[\\\"index\\\"]=true, this.model[\\\"index\\\"](val)) : undefined})\"]},\"systemjs_options\":null,\"mount_callbacks\":[\"function () {\\n    var handler = (function (ko, koPunches) {\\n    ko.punches.enableAll();\\n    ko.bindingHandlers.numericValue = {\\n        init: function(element, valueAccessor, allBindings, data, context) {\\n            var stringified = ko.observable(ko.unwrap(valueAccessor()));\\n            stringified.subscribe(function(value) {\\n                var val = parseFloat(value);\\n                if (!isNaN(val)) {\\n                    valueAccessor()(val);\\n                }\\n            });\\n            valueAccessor().subscribe(function(value) {\\n                var str = JSON.stringify(value);\\n                if ((str == \\\"0\\\") && ([\\\"-0\\\", \\\"-0.\\\"].indexOf(stringified()) >= 0))\\n                     return;\\n                 if ([\\\"null\\\", \\\"\\\"].indexOf(str) >= 0)\\n                     return;\\n                stringified(str);\\n            });\\n            ko.applyBindingsToNode(\\n                element,\\n                {\\n                    value: stringified,\\n                    valueUpdate: allBindings.get('valueUpdate'),\\n                },\\n                context,\\n            );\\n        }\\n    };\\n    var json_data = {\\\"formatted_vals\\\":[\\\"0.1\\\",\\\"0.2\\\",\\\"0.3\\\",\\\"0.4\\\",\\\"0.5\\\",\\\"0.6\\\",\\\"0.7\\\",\\\"0.8\\\",\\\"0.9\\\",\\\"1.0\\\",\\\"1.1\\\",\\\"1.2\\\",\\\"1.3\\\",\\\"1.4\\\",\\\"1.5\\\",\\\"1.6\\\",\\\"1.7\\\",\\\"1.8\\\",\\\"1.9\\\",\\\"2.0\\\"],\\\"changes\\\":WebIO.getval({\\\"name\\\":\\\"changes\\\",\\\"scope\\\":\\\"18432843449332872455\\\",\\\"id\\\":\\\"2939760826023590905\\\",\\\"type\\\":\\\"observable\\\"}),\\\"index\\\":WebIO.getval({\\\"name\\\":\\\"index\\\",\\\"scope\\\":\\\"18432843449332872455\\\",\\\"id\\\":\\\"1487071829290982137\\\",\\\"type\\\":\\\"observable\\\"})};\\n    var self = this;\\n    function AppViewModel() {\\n        for (var key in json_data) {\\n            var el = json_data[key];\\n            this[key] = Array.isArray(el) ? ko.observableArray(el) : ko.observable(el);\\n        }\\n        \\n        [this[\\\"formatted_val\\\"]=ko.computed(    function(){\\n        return this.formatted_vals()[parseInt(this.index())-(1)];\\n    }\\n,this)]\\n        [this[\\\"changes\\\"].subscribe((function (val){!(this.valueFromJulia[\\\"changes\\\"]) ? (WebIO.setval({\\\"name\\\":\\\"changes\\\",\\\"scope\\\":\\\"18432843449332872455\\\",\\\"id\\\":\\\"2939760826023590905\\\",\\\"type\\\":\\\"observable\\\"},val)) : undefined; return this.valueFromJulia[\\\"changes\\\"]=false}),self),this[\\\"index\\\"].subscribe((function (val){!(this.valueFromJulia[\\\"index\\\"]) ? (WebIO.setval({\\\"name\\\":\\\"index\\\",\\\"scope\\\":\\\"18432843449332872455\\\",\\\"id\\\":\\\"1487071829290982137\\\",\\\"type\\\":\\\"observable\\\"},val)) : undefined; return this.valueFromJulia[\\\"index\\\"]=false}),self)]\\n        \\n    }\\n    self.model = new AppViewModel();\\n    self.valueFromJulia = {};\\n    for (var key in json_data) {\\n        self.valueFromJulia[key] = false;\\n    }\\n    ko.applyBindings(self.model, self.dom);\\n}\\n);\\n    (WebIO.importBlock({\\\"data\\\":[{\\\"name\\\":\\\"knockout\\\",\\\"type\\\":\\\"js\\\",\\\"url\\\":\\\"\\/assetserver\\/727383f2a47bd31570b7da84eee7b022dd6d7c78-knockout.js\\\"},{\\\"name\\\":\\\"knockout_punches\\\",\\\"type\\\":\\\"js\\\",\\\"url\\\":\\\"\\/assetserver\\/382b41b3b1bd9f26f75861d360bad7f8beea211f-knockout_punches.js\\\"}],\\\"type\\\":\\\"async_block\\\"})).then((imports) => handler.apply(this, imports));\\n}\\n\"],\"observables\":{\"changes\":{\"sync\":false,\"id\":\"2939760826023590905\",\"value\":0},\"index\":{\"sync\":true,\"id\":\"1487071829290982137\",\"value\":10}}},\"children\":[{\"props\":{\"className\":\"interact-flex-row interact-widget\"},\"nodeType\":\"DOM\",\"type\":\"node\",\"instanceArgs\":{\"namespace\":\"html\",\"tag\":\"div\"},\"children\":[{\"props\":{\"className\":\"interact-flex-row-left\"},\"nodeType\":\"DOM\",\"type\":\"node\",\"instanceArgs\":{\"namespace\":\"html\",\"tag\":\"div\"},\"children\":[{\"props\":{\"className\":\"interact \",\"style\":{\"padding\":\"5px 10px 0px 10px\"}},\"nodeType\":\"DOM\",\"type\":\"node\",\"instanceArgs\":{\"namespace\":\"html\",\"tag\":\"label\"},\"children\":[\"scale\"]}]},{\"props\":{\"className\":\"interact-flex-row-center\"},\"nodeType\":\"DOM\",\"type\":\"node\",\"instanceArgs\":{\"namespace\":\"html\",\"tag\":\"div\"},\"children\":[{\"props\":{\"max\":20,\"min\":1,\"attributes\":{\"type\":\"range\",\"data-bind\":\"numericValue: index, valueUpdate: 'input', event: {change: function (){this.changes(this.changes()+1)}}\",\"orient\":\"horizontal\"},\"step\":1,\"className\":\"slider slider is-fullwidth\",\"style\":{}},\"nodeType\":\"DOM\",\"type\":\"node\",\"instanceArgs\":{\"namespace\":\"html\",\"tag\":\"input\"},\"children\":[]}]},{\"props\":{\"className\":\"interact-flex-row-right\"},\"nodeType\":\"DOM\",\"type\":\"node\",\"instanceArgs\":{\"namespace\":\"html\",\"tag\":\"div\"},\"children\":[{\"props\":{\"attributes\":{\"data-bind\":\"text: formatted_val\"}},\"nodeType\":\"DOM\",\"type\":\"node\",\"instanceArgs\":{\"namespace\":\"html\",\"tag\":\"p\"},\"children\":[]}]}]}]}]},{\"props\":{\"style\":{\"display\":\"flex\",\"flex-direction\":\"row\"}},\"nodeType\":\"DOM\",\"type\":\"node\",\"instanceArgs\":{\"namespace\":\"html\",\"tag\":\"div\"},\"children\":[{\"props\":{\"className\":\"interact-widget\"},\"nodeType\":\"DOM\",\"type\":\"node\",\"instanceArgs\":{\"namespace\":\"html\",\"tag\":\"div\"},\"children\":[{\"props\":{},\"nodeType\":\"Scope\",\"type\":\"node\",\"instanceArgs\":{\"imports\":{\"data\":[{\"name\":null,\"type\":\"js\",\"url\":\"\\/assetserver\\/dd22ed1bf1896c2748f3fe616ce0b838adc895c1-katex.min.js\"},{\"name\":null,\"type\":\"css\",\"url\":\"\\/assetserver\\/46517a424aa5e6cffc1360d7e0848b601c584ee3-katex.min.css\"}],\"type\":\"async_block\"},\"id\":\"3133797942135946531\",\"handlers\":{\"value\":[\"(function (txt){return this.k.render(txt,this.container)})\"]},\"systemjs_options\":null,\"mount_callbacks\":[\"function () {\\n    var handler = ((function (k){this.k=k; this.container=this.dom.querySelector(\\\"#container\\\"); return k.render(\\\"\\\\\\\\;\\\\\\\\;\\\",this.container)}));\\n    (WebIO.importBlock({\\\"data\\\":[{\\\"name\\\":null,\\\"type\\\":\\\"js\\\",\\\"url\\\":\\\"\\/assetserver\\/dd22ed1bf1896c2748f3fe616ce0b838adc895c1-katex.min.js\\\"},{\\\"name\\\":null,\\\"type\\\":\\\"css\\\",\\\"url\\\":\\\"\\/assetserver\\/46517a424aa5e6cffc1360d7e0848b601c584ee3-katex.min.css\\\"}],\\\"type\\\":\\\"async_block\\\"})).then((imports) => handler.apply(this, imports));\\n}\\n\"],\"observables\":{\"value\":{\"sync\":false,\"id\":\"2413065949803472263\",\"value\":\"\\\\;\\\\;\"}}},\"children\":[{\"props\":{\"id\":\"container\"},\"nodeType\":\"DOM\",\"type\":\"node\",\"instanceArgs\":{\"namespace\":\"html\",\"tag\":\"div\"},\"children\":[]}]}]},{\"props\":{\"className\":\"field interact-widget\"},\"nodeType\":\"DOM\",\"type\":\"node\",\"instanceArgs\":{\"namespace\":\"html\",\"tag\":\"div\"},\"children\":[{\"props\":{},\"nodeType\":\"Scope\",\"type\":\"node\",\"instanceArgs\":{\"imports\":{\"data\":[{\"name\":\"knockout\",\"type\":\"js\",\"url\":\"\\/assetserver\\/727383f2a47bd31570b7da84eee7b022dd6d7c78-knockout.js\"},{\"name\":\"knockout_punches\",\"type\":\"js\",\"url\":\"\\/assetserver\\/382b41b3b1bd9f26f75861d360bad7f8beea211f-knockout_punches.js\"},{\"name\":null,\"type\":\"js\",\"url\":\"\\/assetserver\\/5ab20f1060420992a9b82a65b735dee4d81ef413-all.js\"},{\"name\":null,\"type\":\"css\",\"url\":\"\\/assetserver\\/1cc0ed62837210b80a182cc3676512f895dab686-style.css\"},{\"name\":null,\"type\":\"css\",\"url\":\"\\/assetserver\\/2eee816f616df3549d7044d45e744fbf8d42bfa1-bulma_confined.min.css\"}],\"type\":\"async_block\"},\"id\":\"5604566927796644593\",\"handlers\":{\"loading\":[\"(function (val){return (val!=this.model[\\\"loading\\\"]()) ? (this.valueFromJulia[\\\"loading\\\"]=true, this.model[\\\"loading\\\"](val)) : undefined})\"],\"clicks\":[\"(function (val){return (val!=this.model[\\\"clicks\\\"]()) ? (this.valueFromJulia[\\\"clicks\\\"]=true, this.model[\\\"clicks\\\"](val)) : undefined})\"]},\"systemjs_options\":null,\"mount_callbacks\":[\"function () {\\n    var handler = (function (ko, koPunches) {\\n    ko.punches.enableAll();\\n    ko.bindingHandlers.numericValue = {\\n        init: function(element, valueAccessor, allBindings, data, context) {\\n            var stringified = ko.observable(ko.unwrap(valueAccessor()));\\n            stringified.subscribe(function(value) {\\n                var val = parseFloat(value);\\n                if (!isNaN(val)) {\\n                    valueAccessor()(val);\\n                }\\n            });\\n            valueAccessor().subscribe(function(value) {\\n                var str = JSON.stringify(value);\\n                if ((str == \\\"0\\\") && ([\\\"-0\\\", \\\"-0.\\\"].indexOf(stringified()) >= 0))\\n                     return;\\n                 if ([\\\"null\\\", \\\"\\\"].indexOf(str) >= 0)\\n                     return;\\n                stringified(str);\\n            });\\n            ko.applyBindingsToNode(\\n                element,\\n                {\\n                    value: stringified,\\n                    valueUpdate: allBindings.get('valueUpdate'),\\n                },\\n                context,\\n            );\\n        }\\n    };\\n    var json_data = {\\\"loading\\\":WebIO.getval({\\\"name\\\":\\\"loading\\\",\\\"scope\\\":\\\"5604566927796644593\\\",\\\"id\\\":\\\"1755048428814747432\\\",\\\"type\\\":\\\"observable\\\"}),\\\"clicks\\\":WebIO.getval({\\\"name\\\":\\\"clicks\\\",\\\"scope\\\":\\\"5604566927796644593\\\",\\\"id\\\":\\\"17716531452895064607\\\",\\\"type\\\":\\\"observable\\\"})};\\n    var self = this;\\n    function AppViewModel() {\\n        for (var key in json_data) {\\n            var el = json_data[key];\\n            this[key] = Array.isArray(el) ? ko.observableArray(el) : ko.observable(el);\\n        }\\n        \\n        \\n        [this[\\\"loading\\\"].subscribe((function (val){!(this.valueFromJulia[\\\"loading\\\"]) ? (WebIO.setval({\\\"name\\\":\\\"loading\\\",\\\"scope\\\":\\\"5604566927796644593\\\",\\\"id\\\":\\\"1755048428814747432\\\",\\\"type\\\":\\\"observable\\\"},val)) : undefined; return this.valueFromJulia[\\\"loading\\\"]=false}),self),this[\\\"clicks\\\"].subscribe((function (val){!(this.valueFromJulia[\\\"clicks\\\"]) ? (WebIO.setval({\\\"name\\\":\\\"clicks\\\",\\\"scope\\\":\\\"5604566927796644593\\\",\\\"id\\\":\\\"17716531452895064607\\\",\\\"type\\\":\\\"observable\\\"},val)) : undefined; return this.valueFromJulia[\\\"clicks\\\"]=false}),self)]\\n        \\n    }\\n    self.model = new AppViewModel();\\n    self.valueFromJulia = {};\\n    for (var key in json_data) {\\n        self.valueFromJulia[key] = false;\\n    }\\n    ko.applyBindings(self.model, self.dom);\\n}\\n);\\n    (WebIO.importBlock({\\\"data\\\":[{\\\"name\\\":\\\"knockout\\\",\\\"type\\\":\\\"js\\\",\\\"url\\\":\\\"\\/assetserver\\/727383f2a47bd31570b7da84eee7b022dd6d7c78-knockout.js\\\"},{\\\"name\\\":\\\"knockout_punches\\\",\\\"type\\\":\\\"js\\\",\\\"url\\\":\\\"\\/assetserver\\/382b41b3b1bd9f26f75861d360bad7f8beea211f-knockout_punches.js\\\"}],\\\"type\\\":\\\"async_block\\\"})).then((imports) => handler.apply(this, imports));\\n}\\n\"],\"observables\":{\"loading\":{\"sync\":false,\"id\":\"1755048428814747432\",\"value\":false},\"clicks\":{\"sync\":true,\"id\":\"17716531452895064607\",\"value\":0}}},\"children\":[{\"props\":{\"attributes\":{\"data-bind\":\"click: function (){this.clicks(this.clicks()+1)}, css: {'is-loading' : loading}\"},\"className\":\"is-medium button is-primary\",\"style\":{}},\"nodeType\":\"DOM\",\"type\":\"node\",\"instanceArgs\":{\"namespace\":\"html\",\"tag\":\"button\"},\"children\":[\"run\"]}]}]},{\"props\":{\"className\":\"interact-widget\"},\"nodeType\":\"DOM\",\"type\":\"node\",\"instanceArgs\":{\"namespace\":\"html\",\"tag\":\"div\"},\"children\":[{\"props\":{},\"nodeType\":\"Scope\",\"type\":\"node\",\"instanceArgs\":{\"imports\":{\"data\":[{\"name\":null,\"type\":\"js\",\"url\":\"\\/assetserver\\/dd22ed1bf1896c2748f3fe616ce0b838adc895c1-katex.min.js\"},{\"name\":null,\"type\":\"css\",\"url\":\"\\/assetserver\\/46517a424aa5e6cffc1360d7e0848b601c584ee3-katex.min.css\"}],\"type\":\"async_block\"},\"id\":\"3133797942135946531\",\"handlers\":{\"value\":[\"(function (txt){return this.k.render(txt,this.container)})\"]},\"systemjs_options\":null,\"mount_callbacks\":[\"function () {\\n    var handler = ((function (k){this.k=k; this.container=this.dom.querySelector(\\\"#container\\\"); return k.render(\\\"\\\\\\\\;\\\\\\\\;\\\",this.container)}));\\n    (WebIO.importBlock({\\\"data\\\":[{\\\"name\\\":null,\\\"type\\\":\\\"js\\\",\\\"url\\\":\\\"\\/assetserver\\/dd22ed1bf1896c2748f3fe616ce0b838adc895c1-katex.min.js\\\"},{\\\"name\\\":null,\\\"type\\\":\\\"css\\\",\\\"url\\\":\\\"\\/assetserver\\/46517a424aa5e6cffc1360d7e0848b601c584ee3-katex.min.css\\\"}],\\\"type\\\":\\\"async_block\\\"})).then((imports) => handler.apply(this, imports));\\n}\\n\"],\"observables\":{\"value\":{\"sync\":false,\"id\":\"2413065949803472263\",\"value\":\"\\\\;\\\\;\"}}},\"children\":[{\"props\":{\"id\":\"container\"},\"nodeType\":\"DOM\",\"type\":\"node\",\"instanceArgs\":{\"namespace\":\"html\",\"tag\":\"div\"},\"children\":[]}]}]},{\"props\":{\"className\":\"field interact-widget\"},\"nodeType\":\"DOM\",\"type\":\"node\",\"instanceArgs\":{\"namespace\":\"html\",\"tag\":\"div\"},\"children\":[{\"props\":{},\"nodeType\":\"Scope\",\"type\":\"node\",\"instanceArgs\":{\"imports\":{\"data\":[{\"name\":\"knockout\",\"type\":\"js\",\"url\":\"\\/assetserver\\/727383f2a47bd31570b7da84eee7b022dd6d7c78-knockout.js\"},{\"name\":\"knockout_punches\",\"type\":\"js\",\"url\":\"\\/assetserver\\/382b41b3b1bd9f26f75861d360bad7f8beea211f-knockout_punches.js\"},{\"name\":null,\"type\":\"js\",\"url\":\"\\/assetserver\\/5ab20f1060420992a9b82a65b735dee4d81ef413-all.js\"},{\"name\":null,\"type\":\"css\",\"url\":\"\\/assetserver\\/1cc0ed62837210b80a182cc3676512f895dab686-style.css\"},{\"name\":null,\"type\":\"css\",\"url\":\"\\/assetserver\\/2eee816f616df3549d7044d45e744fbf8d42bfa1-bulma_confined.min.css\"}],\"type\":\"async_block\"},\"id\":\"7862820841381978741\",\"handlers\":{\"loading\":[\"(function (val){return (val!=this.model[\\\"loading\\\"]()) ? (this.valueFromJulia[\\\"loading\\\"]=true, this.model[\\\"loading\\\"](val)) : undefined})\"],\"clicks\":[\"(function (val){return (val!=this.model[\\\"clicks\\\"]()) ? (this.valueFromJulia[\\\"clicks\\\"]=true, this.model[\\\"clicks\\\"](val)) : undefined})\"]},\"systemjs_options\":null,\"mount_callbacks\":[\"function () {\\n    var handler = (function (ko, koPunches) {\\n    ko.punches.enableAll();\\n    ko.bindingHandlers.numericValue = {\\n        init: function(element, valueAccessor, allBindings, data, context) {\\n            var stringified = ko.observable(ko.unwrap(valueAccessor()));\\n            stringified.subscribe(function(value) {\\n                var val = parseFloat(value);\\n                if (!isNaN(val)) {\\n                    valueAccessor()(val);\\n                }\\n            });\\n            valueAccessor().subscribe(function(value) {\\n                var str = JSON.stringify(value);\\n                if ((str == \\\"0\\\") && ([\\\"-0\\\", \\\"-0.\\\"].indexOf(stringified()) >= 0))\\n                     return;\\n                 if ([\\\"null\\\", \\\"\\\"].indexOf(str) >= 0)\\n                     return;\\n                stringified(str);\\n            });\\n            ko.applyBindingsToNode(\\n                element,\\n                {\\n                    value: stringified,\\n                    valueUpdate: allBindings.get('valueUpdate'),\\n                },\\n                context,\\n            );\\n        }\\n    };\\n    var json_data = {\\\"loading\\\":WebIO.getval({\\\"name\\\":\\\"loading\\\",\\\"scope\\\":\\\"7862820841381978741\\\",\\\"id\\\":\\\"8891495569947539537\\\",\\\"type\\\":\\\"observable\\\"}),\\\"clicks\\\":WebIO.getval({\\\"name\\\":\\\"clicks\\\",\\\"scope\\\":\\\"7862820841381978741\\\",\\\"id\\\":\\\"2045255202651643214\\\",\\\"type\\\":\\\"observable\\\"})};\\n    var self = this;\\n    function AppViewModel() {\\n        for (var key in json_data) {\\n            var el = json_data[key];\\n            this[key] = Array.isArray(el) ? ko.observableArray(el) : ko.observable(el);\\n        }\\n        \\n        \\n        [this[\\\"loading\\\"].subscribe((function (val){!(this.valueFromJulia[\\\"loading\\\"]) ? (WebIO.setval({\\\"name\\\":\\\"loading\\\",\\\"scope\\\":\\\"7862820841381978741\\\",\\\"id\\\":\\\"8891495569947539537\\\",\\\"type\\\":\\\"observable\\\"},val)) : undefined; return this.valueFromJulia[\\\"loading\\\"]=false}),self),this[\\\"clicks\\\"].subscribe((function (val){!(this.valueFromJulia[\\\"clicks\\\"]) ? (WebIO.setval({\\\"name\\\":\\\"clicks\\\",\\\"scope\\\":\\\"7862820841381978741\\\",\\\"id\\\":\\\"2045255202651643214\\\",\\\"type\\\":\\\"observable\\\"},val)) : undefined; return this.valueFromJulia[\\\"clicks\\\"]=false}),self)]\\n        \\n    }\\n    self.model = new AppViewModel();\\n    self.valueFromJulia = {};\\n    for (var key in json_data) {\\n        self.valueFromJulia[key] = false;\\n    }\\n    ko.applyBindings(self.model, self.dom);\\n}\\n);\\n    (WebIO.importBlock({\\\"data\\\":[{\\\"name\\\":\\\"knockout\\\",\\\"type\\\":\\\"js\\\",\\\"url\\\":\\\"\\/assetserver\\/727383f2a47bd31570b7da84eee7b022dd6d7c78-knockout.js\\\"},{\\\"name\\\":\\\"knockout_punches\\\",\\\"type\\\":\\\"js\\\",\\\"url\\\":\\\"\\/assetserver\\/382b41b3b1bd9f26f75861d360bad7f8beea211f-knockout_punches.js\\\"}],\\\"type\\\":\\\"async_block\\\"})).then((imports) => handler.apply(this, imports));\\n}\\n\"],\"observables\":{\"loading\":{\"sync\":false,\"id\":\"8891495569947539537\",\"value\":false},\"clicks\":{\"sync\":true,\"id\":\"2045255202651643214\",\"value\":0}}},\"children\":[{\"props\":{\"attributes\":{\"data-bind\":\"click: function (){this.clicks(this.clicks()+1)}, css: {'is-loading' : loading}\"},\"className\":\"is-medium button is-primary\",\"style\":{}},\"nodeType\":\"DOM\",\"type\":\"node\",\"instanceArgs\":{\"namespace\":\"html\",\"tag\":\"button\"},\"children\":[\"stop\"]}]}]},{\"props\":{\"className\":\"interact-widget\"},\"nodeType\":\"DOM\",\"type\":\"node\",\"instanceArgs\":{\"namespace\":\"html\",\"tag\":\"div\"},\"children\":[{\"props\":{},\"nodeType\":\"Scope\",\"type\":\"node\",\"instanceArgs\":{\"imports\":{\"data\":[{\"name\":null,\"type\":\"js\",\"url\":\"\\/assetserver\\/dd22ed1bf1896c2748f3fe616ce0b838adc895c1-katex.min.js\"},{\"name\":null,\"type\":\"css\",\"url\":\"\\/assetserver\\/46517a424aa5e6cffc1360d7e0848b601c584ee3-katex.min.css\"}],\"type\":\"async_block\"},\"id\":\"3133797942135946531\",\"handlers\":{\"value\":[\"(function (txt){return this.k.render(txt,this.container)})\"]},\"systemjs_options\":null,\"mount_callbacks\":[\"function () {\\n    var handler = ((function (k){this.k=k; this.container=this.dom.querySelector(\\\"#container\\\"); return k.render(\\\"\\\\\\\\;\\\\\\\\;\\\",this.container)}));\\n    (WebIO.importBlock({\\\"data\\\":[{\\\"name\\\":null,\\\"type\\\":\\\"js\\\",\\\"url\\\":\\\"\\/assetserver\\/dd22ed1bf1896c2748f3fe616ce0b838adc895c1-katex.min.js\\\"},{\\\"name\\\":null,\\\"type\\\":\\\"css\\\",\\\"url\\\":\\\"\\/assetserver\\/46517a424aa5e6cffc1360d7e0848b601c584ee3-katex.min.css\\\"}],\\\"type\\\":\\\"async_block\\\"})).then((imports) => handler.apply(this, imports));\\n}\\n\"],\"observables\":{\"value\":{\"sync\":false,\"id\":\"2413065949803472263\",\"value\":\"\\\\;\\\\;\"}}},\"children\":[{\"props\":{\"id\":\"container\"},\"nodeType\":\"DOM\",\"type\":\"node\",\"instanceArgs\":{\"namespace\":\"html\",\"tag\":\"div\"},\"children\":[]}]}]},{\"props\":{\"className\":\"field interact-widget\"},\"nodeType\":\"DOM\",\"type\":\"node\",\"instanceArgs\":{\"namespace\":\"html\",\"tag\":\"div\"},\"children\":[{\"props\":{},\"nodeType\":\"Scope\",\"type\":\"node\",\"instanceArgs\":{\"imports\":{\"data\":[{\"name\":\"knockout\",\"type\":\"js\",\"url\":\"\\/assetserver\\/727383f2a47bd31570b7da84eee7b022dd6d7c78-knockout.js\"},{\"name\":\"knockout_punches\",\"type\":\"js\",\"url\":\"\\/assetserver\\/382b41b3b1bd9f26f75861d360bad7f8beea211f-knockout_punches.js\"},{\"name\":null,\"type\":\"js\",\"url\":\"\\/assetserver\\/5ab20f1060420992a9b82a65b735dee4d81ef413-all.js\"},{\"name\":null,\"type\":\"css\",\"url\":\"\\/assetserver\\/1cc0ed62837210b80a182cc3676512f895dab686-style.css\"},{\"name\":null,\"type\":\"css\",\"url\":\"\\/assetserver\\/2eee816f616df3549d7044d45e744fbf8d42bfa1-bulma_confined.min.css\"}],\"type\":\"async_block\"},\"id\":\"12855457338016837478\",\"handlers\":{\"loading\":[\"(function (val){return (val!=this.model[\\\"loading\\\"]()) ? (this.valueFromJulia[\\\"loading\\\"]=true, this.model[\\\"loading\\\"](val)) : undefined})\"],\"clicks\":[\"(function (val){return (val!=this.model[\\\"clicks\\\"]()) ? (this.valueFromJulia[\\\"clicks\\\"]=true, this.model[\\\"clicks\\\"](val)) : undefined})\"]},\"systemjs_options\":null,\"mount_callbacks\":[\"function () {\\n    var handler = (function (ko, koPunches) {\\n    ko.punches.enableAll();\\n    ko.bindingHandlers.numericValue = {\\n        init: function(element, valueAccessor, allBindings, data, context) {\\n            var stringified = ko.observable(ko.unwrap(valueAccessor()));\\n            stringified.subscribe(function(value) {\\n                var val = parseFloat(value);\\n                if (!isNaN(val)) {\\n                    valueAccessor()(val);\\n                }\\n            });\\n            valueAccessor().subscribe(function(value) {\\n                var str = JSON.stringify(value);\\n                if ((str == \\\"0\\\") && ([\\\"-0\\\", \\\"-0.\\\"].indexOf(stringified()) >= 0))\\n                     return;\\n                 if ([\\\"null\\\", \\\"\\\"].indexOf(str) >= 0)\\n                     return;\\n                stringified(str);\\n            });\\n            ko.applyBindingsToNode(\\n                element,\\n                {\\n                    value: stringified,\\n                    valueUpdate: allBindings.get('valueUpdate'),\\n                },\\n                context,\\n            );\\n        }\\n    };\\n    var json_data = {\\\"loading\\\":WebIO.getval({\\\"name\\\":\\\"loading\\\",\\\"scope\\\":\\\"12855457338016837478\\\",\\\"id\\\":\\\"14558442741969963743\\\",\\\"type\\\":\\\"observable\\\"}),\\\"clicks\\\":WebIO.getval({\\\"name\\\":\\\"clicks\\\",\\\"scope\\\":\\\"12855457338016837478\\\",\\\"id\\\":\\\"16691338663028872541\\\",\\\"type\\\":\\\"observable\\\"})};\\n    var self = this;\\n    function AppViewModel() {\\n        for (var key in json_data) {\\n            var el = json_data[key];\\n            this[key] = Array.isArray(el) ? ko.observableArray(el) : ko.observable(el);\\n        }\\n        \\n        \\n        [this[\\\"loading\\\"].subscribe((function (val){!(this.valueFromJulia[\\\"loading\\\"]) ? (WebIO.setval({\\\"name\\\":\\\"loading\\\",\\\"scope\\\":\\\"12855457338016837478\\\",\\\"id\\\":\\\"14558442741969963743\\\",\\\"type\\\":\\\"observable\\\"},val)) : undefined; return this.valueFromJulia[\\\"loading\\\"]=false}),self),this[\\\"clicks\\\"].subscribe((function (val){!(this.valueFromJulia[\\\"clicks\\\"]) ? (WebIO.setval({\\\"name\\\":\\\"clicks\\\",\\\"scope\\\":\\\"12855457338016837478\\\",\\\"id\\\":\\\"16691338663028872541\\\",\\\"type\\\":\\\"observable\\\"},val)) : undefined; return this.valueFromJulia[\\\"clicks\\\"]=false}),self)]\\n        \\n    }\\n    self.model = new AppViewModel();\\n    self.valueFromJulia = {};\\n    for (var key in json_data) {\\n        self.valueFromJulia[key] = false;\\n    }\\n    ko.applyBindings(self.model, self.dom);\\n}\\n);\\n    (WebIO.importBlock({\\\"data\\\":[{\\\"name\\\":\\\"knockout\\\",\\\"type\\\":\\\"js\\\",\\\"url\\\":\\\"\\/assetserver\\/727383f2a47bd31570b7da84eee7b022dd6d7c78-knockout.js\\\"},{\\\"name\\\":\\\"knockout_punches\\\",\\\"type\\\":\\\"js\\\",\\\"url\\\":\\\"\\/assetserver\\/382b41b3b1bd9f26f75861d360bad7f8beea211f-knockout_punches.js\\\"}],\\\"type\\\":\\\"async_block\\\"})).then((imports) => handler.apply(this, imports));\\n}\\n\"],\"observables\":{\"loading\":{\"sync\":false,\"id\":\"14558442741969963743\",\"value\":false},\"clicks\":{\"sync\":true,\"id\":\"16691338663028872541\",\"value\":0}}},\"children\":[{\"props\":{\"attributes\":{\"data-bind\":\"click: function (){this.clicks(this.clicks()+1)}, css: {'is-loading' : loading}\"},\"className\":\"is-medium button is-primary\",\"style\":{}},\"nodeType\":\"DOM\",\"type\":\"node\",\"instanceArgs\":{\"namespace\":\"html\",\"tag\":\"button\"},\"children\":[\"save\"]}]}]}]}]},{\"props\":{\"className\":\"interact-widget\"},\"nodeType\":\"DOM\",\"type\":\"node\",\"instanceArgs\":{\"namespace\":\"html\",\"tag\":\"div\"},\"children\":[{\"props\":{},\"nodeType\":\"Scope\",\"type\":\"node\",\"instanceArgs\":{\"imports\":{\"data\":[{\"name\":null,\"type\":\"js\",\"url\":\"\\/assetserver\\/dd22ed1bf1896c2748f3fe616ce0b838adc895c1-katex.min.js\"},{\"name\":null,\"type\":\"css\",\"url\":\"\\/assetserver\\/46517a424aa5e6cffc1360d7e0848b601c584ee3-katex.min.css\"}],\"type\":\"async_block\"},\"id\":\"3133797942135946531\",\"handlers\":{\"value\":[\"(function (txt){return this.k.render(txt,this.container)})\"]},\"systemjs_options\":null,\"mount_callbacks\":[\"function () {\\n    var handler = ((function (k){this.k=k; this.container=this.dom.querySelector(\\\"#container\\\"); return k.render(\\\"\\\\\\\\;\\\\\\\\;\\\",this.container)}));\\n    (WebIO.importBlock({\\\"data\\\":[{\\\"name\\\":null,\\\"type\\\":\\\"js\\\",\\\"url\\\":\\\"\\/assetserver\\/dd22ed1bf1896c2748f3fe616ce0b838adc895c1-katex.min.js\\\"},{\\\"name\\\":null,\\\"type\\\":\\\"css\\\",\\\"url\\\":\\\"\\/assetserver\\/46517a424aa5e6cffc1360d7e0848b601c584ee3-katex.min.css\\\"}],\\\"type\\\":\\\"async_block\\\"})).then((imports) => handler.apply(this, imports));\\n}\\n\"],\"observables\":{\"value\":{\"sync\":false,\"id\":\"2413065949803472263\",\"value\":\"\\\\;\\\\;\"}}},\"children\":[{\"props\":{\"id\":\"container\"},\"nodeType\":\"DOM\",\"type\":\"node\",\"instanceArgs\":{\"namespace\":\"html\",\"tag\":\"div\"},\"children\":[]}]}]},{\"props\":{},\"nodeType\":\"Scope\",\"type\":\"node\",\"instanceArgs\":{\"imports\":{\"data\":[],\"type\":\"async_block\"},\"id\":\"12134225218158953840\",\"handlers\":{\"obs-output\":[\"function (value, scope) {\\n    scope.setInnerHTML(value);\\n}\\n\"]},\"systemjs_options\":null,\"mount_callbacks\":[],\"observables\":{\"obs-output\":{\"sync\":false,\"id\":\"1635177885880196086\",\"value\":\"<img src='data:image\\/png;base64,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'><\\/img>\"}}},\"children\":[{\"props\":{\"className\":\"webio-observable\",\"setInnerHtml\":\"<img src='data:image\\/png;base64,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'><\\/img>\"},\"nodeType\":\"DOM\",\"type\":\"node\",\"instanceArgs\":{\"namespace\":\"html\",\"tag\":\"div\"},\"children\":[]}]},{\"props\":{\"className\":\"interact-widget\"},\"nodeType\":\"DOM\",\"type\":\"node\",\"instanceArgs\":{\"namespace\":\"html\",\"tag\":\"div\"},\"children\":[{\"props\":{},\"nodeType\":\"Scope\",\"type\":\"node\",\"instanceArgs\":{\"imports\":{\"data\":[{\"name\":null,\"type\":\"js\",\"url\":\"\\/assetserver\\/dd22ed1bf1896c2748f3fe616ce0b838adc895c1-katex.min.js\"},{\"name\":null,\"type\":\"css\",\"url\":\"\\/assetserver\\/46517a424aa5e6cffc1360d7e0848b601c584ee3-katex.min.css\"}],\"type\":\"async_block\"},\"id\":\"3133797942135946531\",\"handlers\":{\"value\":[\"(function (txt){return this.k.render(txt,this.container)})\"]},\"systemjs_options\":null,\"mount_callbacks\":[\"function () {\\n    var handler = ((function (k){this.k=k; this.container=this.dom.querySelector(\\\"#container\\\"); return k.render(\\\"\\\\\\\\;\\\\\\\\;\\\",this.container)}));\\n    (WebIO.importBlock({\\\"data\\\":[{\\\"name\\\":null,\\\"type\\\":\\\"js\\\",\\\"url\\\":\\\"\\/assetserver\\/dd22ed1bf1896c2748f3fe616ce0b838adc895c1-katex.min.js\\\"},{\\\"name\\\":null,\\\"type\\\":\\\"css\\\",\\\"url\\\":\\\"\\/assetserver\\/46517a424aa5e6cffc1360d7e0848b601c584ee3-katex.min.css\\\"}],\\\"type\\\":\\\"async_block\\\"})).then((imports) => handler.apply(this, imports));\\n}\\n\"],\"observables\":{\"value\":{\"sync\":false,\"id\":\"2413065949803472263\",\"value\":\"\\\\;\\\\;\"}}},\"children\":[{\"props\":{\"id\":\"container\"},\"nodeType\":\"DOM\",\"type\":\"node\",\"instanceArgs\":{\"namespace\":\"html\",\"tag\":\"div\"},\"children\":[]}]}]},{\"props\":{\"style\":{\"display\":\"flex\",\"flex-direction\":\"column\"}},\"nodeType\":\"DOM\",\"type\":\"node\",\"instanceArgs\":{\"namespace\":\"html\",\"tag\":\"div\"},\"children\":[]}]}]},\n",
       "        window,\n",
       "    );\n",
       "    })()\n",
       "    </script>\n",
       "</div>\n"
      ],
      "text/plain": [
       "WebIO.Node{WebIO.DOM}(WebIO.DOM(:html, :div), Any[WebIO.Node{WebIO.DOM}(WebIO.DOM(:html, :div), Any[WebIO.Node{WebIO.DOM}(WebIO.DOM(:html, :div), Any[WebIO.Node{WebIO.DOM}(WebIO.DOM(:html, :div), Any[WebIO.Scope(WebIO.Node{WebIO.DOM}(WebIO.DOM(:html, :div), Any[WebIO.Node{WebIO.DOM}(WebIO.DOM(:html, :div), Any[WebIO.Node{WebIO.DOM}(WebIO.DOM(:html, :label), Any[\"time\"], Dict{Symbol, Any}(:className => \"interact \", :style => Dict{Any, Any}(:padding => \"5px 10px 0px 10px\")))], Dict{Symbol, Any}(:className => \"interact-flex-row-left\")), WebIO.Node{WebIO.DOM}(WebIO.DOM(:html, :div), Any[WebIO.Node{WebIO.DOM}(WebIO.DOM(:html, :input), Any[], Dict{Symbol, Any}(:max => 201, :min => 1, :attributes => Dict{Any, Any}(:type => \"range\", Symbol(\"data-bind\") => \"numericValue: index, valueUpdate: 'input', event: {change: function (){this.changes(this.changes()+1)}}\", \"orient\" => \"horizontal\"), :step => 1, :className => \"slider slider is-fullwidth\", :style => Dict{Any, Any}()))], Dict{Symbol, Any}(:className => \"interact-flex-row-center\")), WebIO.Node{WebIO.DOM}(WebIO.DOM(:html, :div), Any[WebIO.Node{WebIO.DOM}(WebIO.DOM(:html, :p), Any[], Dict{Symbol, Any}(:attributes => Dict(\"data-bind\" => \"text: formatted_val\")))], Dict{Symbol, Any}(:className => \"interact-flex-row-right\"))], Dict{Symbol, Any}(:className => \"interact-flex-row interact-widget\")), Dict{String, Tuple{Observables.AbstractObservable, Union{Nothing, Bool}}}(\"changes\" => (Observable(0), nothing), \"index\" => (Observable(101), nothing)), Set{String}(), nothing, WebIO.Asset[WebIO.Asset(\"js\", \"knockout\", \"/home/dushya/.julia/packages/Knockout/HReiN/src/../assets/knockout.js\"), WebIO.Asset(\"js\", \"knockout_punches\", \"/home/dushya/.julia/packages/Knockout/HReiN/src/../assets/knockout_punches.js\"), WebIO.Asset(\"js\", nothing, \"/home/dushya/.julia/packages/InteractBase/LJXv3/src/../assets/all.js\"), WebIO.Asset(\"css\", nothing, \"/home/dushya/.julia/packages/InteractBase/LJXv3/src/../assets/style.css\"), WebIO.Asset(\"css\", nothing, \"/home/dushya/.julia/packages/Interact/PENUy/src/../assets/bulma_confined.min.css\")], Dict{Any, Any}(\"changes\" => Any[WebIO.JSString(\"(function (val){return (val!=this.model[\\\"changes\\\"]()) ? (this.valueFromJulia[\\\"changes\\\"]=true, this.model[\\\"changes\\\"](val)) : undefined})\")], \"index\" => Any[WebIO.JSString(\"(function (val){return (val!=this.model[\\\"index\\\"]()) ? (this.valueFromJulia[\\\"index\\\"]=true, this.model[\\\"index\\\"](val)) : undefined})\")]), WebIO.ConnectionPool(Channel{Any}(32), Set{WebIO.AbstractConnection}(), Base.GenericCondition{ReentrantLock}(Base.IntrusiveLinkedList{Task}(Task (runnable) @0x00007f43de72f530, Task (runnable) @0x00007f43de72f530), ReentrantLock(nothing, 0x00000000, 0x00, Base.GenericCondition{Base.Threads.SpinLock}(Base.IntrusiveLinkedList{Task}(nothing, nothing), Base.Threads.SpinLock(0)), (0, 139931266639088, 139931266651200)))), WebIO.JSString[WebIO.JSString(\"function () {\\n    var handler = (function (ko, koPunches) {\\n    ko.punches.enableAll();\\n    ko.bindingHandlers.numericValue = {\\n        init: function(element, valueAccessor, allBindings, data, context) {\\n            var stringified = ko.observable(ko.unwrap(valueAccessor()));\\n            stringified.subscribe(function(value) {\\n                var val = parseFloat(value);\\n                if (!isNaN(val)) {\\n                    valueAccessor()(val);\\n                }\\n            });\\n            valueAccessor().subscribe(function(value) {\\n                var str = JSON.stringify(value);\\n                if ((str == \\\"0\\\") && ([\\\"-0\\\", \\\"-0.\\\"].indexOf(stringified()) >= 0))\\n                     return;\\n                 if ([\\\"null\\\", \\\"\\\"].indexOf(str) >= 0)\\n                     return;\\n                stringified(str);\\n            });\\n            ko.applyBindingsToNode(\\n                element,\\n                {\\n                    value: stringified,\\n                    valueUpdate: allBindings.get('valueUpdate'),\\n                },\\n                context,\\n            );\\n        }\\n    };\\n    var json_data = {\\\"formatted_vals\\\":[\\\"1\\\",\\\"2\\\",\\\"3\\\",\\\"4\\\",\\\"5\\\",\\\"6\\\",\\\"7\\\",\\\"8\\\",\\\"9\\\",\\\"10\\\",\\\"11\\\",\\\"12\\\",\\\"13\\\",\\\"14\\\",\\\"15\\\",\\\"16\\\",\\\"17\\\",\\\"18\\\",\\\"19\\\",\\\"20\\\",\\\"21\\\",\\\"22\\\",\\\"23\\\",\\\"24\\\",\\\"25\\\",\\\"26\\\",\\\"27\\\",\\\"28\\\",\\\"29\\\",\\\"30\\\",\\\"31\\\",\\\"32\\\",\\\"33\\\",\\\"34\\\",\\\"35\\\",\\\"36\\\",\\\"37\\\",\\\"38\\\",\\\"39\\\",\\\"40\\\",\\\"41\\\",\\\"42\\\",\\\"43\\\",\\\"44\\\",\\\"45\\\",\\\"46\\\",\\\"47\\\",\\\"48\\\",\\\"49\\\",\\\"50\\\",\\\"51\\\",\\\"52\\\",\\\"53\\\",\\\"54\\\",\\\"55\\\",\\\"56\\\",\\\"57\\\",\\\"58\\\",\\\"59\\\",\\\"60\\\",\\\"61\\\",\\\"62\\\",\\\"63\\\",\\\"64\\\",\\\"65\\\",\\\"66\\\",\\\"67\\\",\\\"68\\\",\\\"69\\\",\\\"70\\\",\\\"71\\\",\\\"72\\\",\\\"73\\\",\\\"74\\\",\\\"75\\\",\\\"76\\\",\\\"77\\\",\\\"78\\\",\\\"79\\\",\\\"80\\\",\\\"81\\\",\\\"82\\\",\\\"83\\\",\\\"84\\\",\\\"85\\\",\\\"86\\\",\\\"87\\\",\\\"88\\\",\\\"89\\\",\\\"90\\\",\\\"91\\\",\\\"92\\\",\\\"93\\\",\\\"94\\\",\\\"95\\\",\\\"96\\\",\\\"97\\\",\\\"98\\\",\\\"99\\\",\\\"100\\\",\\\"101\\\",\\\"102\\\",\\\"103\\\",\\\"104\\\",\\\"105\\\",\\\"106\\\",\\\"107\\\",\\\"108\\\",\\\"109\\\",\\\"110\\\",\\\"111\\\",\\\"112\\\",\\\"113\\\",\\\"114\\\",\\\"115\\\",\\\"116\\\",\\\"117\\\",\\\"118\\\",\\\"119\\\",\\\"120\\\",\\\"121\\\",\\\"122\\\",\\\"123\\\",\\\"124\\\",\\\"125\\\",\\\"126\\\",\\\"127\\\",\\\"128\\\",\\\"129\\\",\\\"130\\\",\\\"131\\\",\\\"132\\\",\\\"133\\\",\\\"134\\\",\\\"135\\\",\\\"136\\\",\\\"137\\\",\\\"138\\\",\\\"139\\\",\\\"140\\\",\\\"141\\\",\\\"142\\\",\\\"143\\\",\\\"144\\\",\\\"145\\\",\\\"146\\\",\\\"147\\\",\\\"148\\\",\\\"149\\\",\\\"150\\\",\\\"151\\\",\\\"152\\\",\\\"153\\\",\\\"154\\\",\\\"155\\\",\\\"156\\\",\\\"157\\\",\\\"158\\\",\\\"159\\\",\\\"160\\\",\\\"161\\\",\\\"162\\\",\\\"163\\\",\\\"164\\\",\\\"165\\\",\\\"166\\\",\\\"167\\\",\\\"168\\\",\\\"169\\\",\\\"170\\\",\\\"171\\\",\\\"172\\\",\\\"173\\\",\\\"174\\\",\\\"175\\\",\\\"176\\\",\\\"177\\\",\\\"178\\\",\\\"179\\\",\\\"180\\\",\\\"181\\\",\\\"182\\\",\\\"183\\\",\\\"184\\\",\\\"185\\\",\\\"186\\\",\\\"187\\\",\\\"188\\\",\\\"189\\\",\\\"190\\\",\\\"191\\\",\\\"192\\\",\\\"193\\\",\\\"194\\\",\\\"195\\\",\\\"196\\\",\\\"197\\\",\\\"198\\\",\\\"199\\\",\\\"200\\\",\\\"201\\\"],\\\"changes\\\":WebIO.getval({\\\"name\\\":\\\"changes\\\",\\\"scope\\\":\\\"8531897873138331408\\\",\\\"id\\\":\\\"7710823025016951784\\\",\\\"type\\\":\\\"observable\\\"}),\\\"index\\\":WebIO.getval({\\\"name\\\":\\\"index\\\",\\\"scope\\\":\\\"8531897873138331408\\\",\\\"id\\\":\\\"10821016406235879473\\\",\\\"type\\\":\\\"observable\\\"})};\\n    var self = this;\\n    function AppViewModel() {\\n        for (var key in json_data) {\\n            var el = json_data[key];\\n            this[key] = Array.isArray(el) ? ko.observableArray(el) : ko.observable(el);\\n        }\\n        \\n        [this[\\\"formatted_val\\\"]=ko.computed(    function(){\\n        return this.formatted_vals()[parseInt(this.index())-(1)];\\n    }\\n,this)]\\n        [this[\\\"changes\\\"].subscribe((function (val){!(this.valueFromJulia[\\\"changes\\\"]) ? (WebIO.setval({\\\"name\\\":\\\"changes\\\",\\\"scope\\\":\\\"8531897873138331408\\\",\\\"id\\\":\\\"7710823025016951784\\\",\\\"type\\\":\\\"observable\\\"},val)) : undefined; return this.valueFromJulia[\\\"changes\\\"]=false}),self),this[\\\"index\\\"].subscribe((function (val){!(this.valueFromJulia[\\\"index\\\"]) ? (WebIO.setval({\\\"name\\\":\\\"index\\\",\\\"scope\\\":\\\"8531897873138331408\\\",\\\"id\\\":\\\"10821016406235879473\\\",\\\"type\\\":\\\"observable\\\"},val)) : undefined; return this.valueFromJulia[\\\"index\\\"]=false}),self)]\\n        \\n    }\\n    self.model = new AppViewModel();\\n    self.valueFromJulia = {};\\n    for (var key in json_data) {\\n        self.valueFromJulia[key] = false;\\n    }\\n    ko.applyBindings(self.model, self.dom);\\n}\\n);\\n    (WebIO.importBlock({\\\"data\\\":[{\\\"name\\\":\\\"knockout\\\",\\\"type\\\":\\\"js\\\",\\\"url\\\":\\\"/assetserver/727383f2a47bd31570b7da84eee7b022dd6d7c78-knockout.js\\\"},{\\\"name\\\":\\\"knockout_punches\\\",\\\"type\\\":\\\"js\\\",\\\"url\\\":\\\"/assetserver/382b41b3b1bd9f26f75861d360bad7f8beea211f-knockout_punches.js\\\"}],\\\"type\\\":\\\"async_block\\\"})).then((imports) => handler.apply(this, imports));\\n}\\n\")])], Dict{Symbol, Any}(:className => \"field interact-widget\")), WebIO.Node{WebIO.DOM}(WebIO.DOM(:html, :div), Any[WebIO.Scope(WebIO.Node{WebIO.DOM}(WebIO.DOM(:html, :div), Any[WebIO.Node{WebIO.DOM}(WebIO.DOM(:html, :div), Any[WebIO.Node{WebIO.DOM}(WebIO.DOM(:html, :label), Any[\"scale\"], Dict{Symbol, Any}(:className => \"interact \", :style => Dict{Any, Any}(:padding => \"5px 10px 0px 10px\")))], Dict{Symbol, Any}(:className => \"interact-flex-row-left\")), WebIO.Node{WebIO.DOM}(WebIO.DOM(:html, :div), Any[WebIO.Node{WebIO.DOM}(WebIO.DOM(:html, :input), Any[], Dict{Symbol, Any}(:max => 20, :min => 1, :attributes => Dict{Any, Any}(:type => \"range\", Symbol(\"data-bind\") => \"numericValue: index, valueUpdate: 'input', event: {change: function (){this.changes(this.changes()+1)}}\", \"orient\" => \"horizontal\"), :step => 1, :className => \"slider slider is-fullwidth\", :style => Dict{Any, Any}()))], Dict{Symbol, Any}(:className => \"interact-flex-row-center\")), WebIO.Node{WebIO.DOM}(WebIO.DOM(:html, :div), Any[WebIO.Node{WebIO.DOM}(WebIO.DOM(:html, :p), Any[], Dict{Symbol, Any}(:attributes => Dict(\"data-bind\" => \"text: formatted_val\")))], Dict{Symbol, Any}(:className => \"interact-flex-row-right\"))], Dict{Symbol, Any}(:className => \"interact-flex-row interact-widget\")), Dict{String, Tuple{Observables.AbstractObservable, Union{Nothing, Bool}}}(\"changes\" => (Observable(0), nothing), \"index\" => (Observable{Any}(10), nothing)), Set{String}(), nothing, WebIO.Asset[WebIO.Asset(\"js\", \"knockout\", \"/home/dushya/.julia/packages/Knockout/HReiN/src/../assets/knockout.js\"), WebIO.Asset(\"js\", \"knockout_punches\", \"/home/dushya/.julia/packages/Knockout/HReiN/src/../assets/knockout_punches.js\"), WebIO.Asset(\"js\", nothing, \"/home/dushya/.julia/packages/InteractBase/LJXv3/src/../assets/all.js\"), WebIO.Asset(\"css\", nothing, \"/home/dushya/.julia/packages/InteractBase/LJXv3/src/../assets/style.css\"), WebIO.Asset(\"css\", nothing, \"/home/dushya/.julia/packages/Interact/PENUy/src/../assets/bulma_confined.min.css\")], Dict{Any, Any}(\"changes\" => Any[WebIO.JSString(\"(function (val){return (val!=this.model[\\\"changes\\\"]()) ? (this.valueFromJulia[\\\"changes\\\"]=true, this.model[\\\"changes\\\"](val)) : undefined})\")], \"index\" => Any[WebIO.JSString(\"(function (val){return (val!=this.model[\\\"index\\\"]()) ? (this.valueFromJulia[\\\"index\\\"]=true, this.model[\\\"index\\\"](val)) : undefined})\")]), WebIO.ConnectionPool(Channel{Any}(32), Set{WebIO.AbstractConnection}(), Base.GenericCondition{ReentrantLock}(Base.IntrusiveLinkedList{Task}(Task (runnable) @0x00007f43decd68b0, Task (runnable) @0x00007f43decd68b0), ReentrantLock(nothing, 0x00000000, 0x00, Base.GenericCondition{Base.Threads.SpinLock}(Base.IntrusiveLinkedList{Task}(nothing, nothing), Base.Threads.SpinLock(0)), (0, 139931410235648, 139930521463040)))), WebIO.JSString[WebIO.JSString(\"function () {\\n    var handler = (function (ko, koPunches) {\\n    ko.punches.enableAll();\\n    ko.bindingHandlers.numericValue = {\\n        init: function(element, valueAccessor, allBindings, data, context) {\\n            var stringified = ko.observable(ko.unwrap(valueAccessor()));\\n            stringified.subscribe(function(value) {\\n                var val = parseFloat(value);\\n                if (!isNaN(val)) {\\n                    valueAccessor()(val);\\n                }\\n            });\\n            valueAccessor().subscribe(function(value) {\\n                var str = JSON.stringify(value);\\n                if ((str == \\\"0\\\") && ([\\\"-0\\\", \\\"-0.\\\"].indexOf(stringified()) >= 0))\\n                     return;\\n                 if ([\\\"null\\\", \\\"\\\"].indexOf(str) >= 0)\\n                     return;\\n                stringified(str);\\n            });\\n            ko.applyBindingsToNode(\\n                element,\\n                {\\n                    value: stringified,\\n                    valueUpdate: allBindings.get('valueUpdate'),\\n                },\\n                context,\\n            );\\n        }\\n    };\\n    var json_data = {\\\"formatted_vals\\\":[\\\"0.1\\\",\\\"0.2\\\",\\\"0.3\\\",\\\"0.4\\\",\\\"0.5\\\",\\\"0.6\\\",\\\"0.7\\\",\\\"0.8\\\",\\\"0.9\\\",\\\"1.0\\\",\\\"1.1\\\",\\\"1.2\\\",\\\"1.3\\\",\\\"1.4\\\",\\\"1.5\\\",\\\"1.6\\\",\\\"1.7\\\",\\\"1.8\\\",\\\"1.9\\\",\\\"2.0\\\"],\\\"changes\\\":WebIO.getval({\\\"name\\\":\\\"changes\\\",\\\"scope\\\":\\\"18432843449332872455\\\",\\\"id\\\":\\\"2939760826023590905\\\",\\\"type\\\":\\\"observable\\\"}),\\\"index\\\":WebIO.getval({\\\"name\\\":\\\"index\\\",\\\"scope\\\":\\\"18432843449332872455\\\",\\\"id\\\":\\\"1487071829290982137\\\",\\\"type\\\":\\\"observable\\\"})};\\n    var self = this;\\n    function AppViewModel() {\\n        for (var key in json_data) {\\n            var el = json_data[key];\\n            this[key] = Array.isArray(el) ? ko.observableArray(el) : ko.observable(el);\\n        }\\n        \\n        [this[\\\"formatted_val\\\"]=ko.computed(    function(){\\n        return this.formatted_vals()[parseInt(this.index())-(1)];\\n    }\\n,this)]\\n        [this[\\\"changes\\\"].subscribe((function (val){!(this.valueFromJulia[\\\"changes\\\"]) ? (WebIO.setval({\\\"name\\\":\\\"changes\\\",\\\"scope\\\":\\\"18432843449332872455\\\",\\\"id\\\":\\\"2939760826023590905\\\",\\\"type\\\":\\\"observable\\\"},val)) : undefined; return this.valueFromJulia[\\\"changes\\\"]=false}),self),this[\\\"index\\\"].subscribe((function (val){!(this.valueFromJulia[\\\"index\\\"]) ? (WebIO.setval({\\\"name\\\":\\\"index\\\",\\\"scope\\\":\\\"18432843449332872455\\\",\\\"id\\\":\\\"1487071829290982137\\\",\\\"type\\\":\\\"observable\\\"},val)) : undefined; return this.valueFromJulia[\\\"index\\\"]=false}),self)]\\n        \\n    }\\n    self.model = new AppViewModel();\\n    self.valueFromJulia = {};\\n    for (var key in json_data) {\\n        self.valueFromJulia[key] = false;\\n    }\\n    ko.applyBindings(self.model, self.dom);\\n}\\n);\\n    (WebIO.importBlock({\\\"data\\\":[{\\\"name\\\":\\\"knockout\\\",\\\"type\\\":\\\"js\\\",\\\"url\\\":\\\"/assetserver/727383f2a47bd31570b7da84eee7b022dd6d7c78-knockout.js\\\"},{\\\"name\\\":\\\"knockout_punches\\\",\\\"type\\\":\\\"js\\\",\\\"url\\\":\\\"/assetserver/382b41b3b1bd9f26f75861d360bad7f8beea211f-knockout_punches.js\\\"}],\\\"type\\\":\\\"async_block\\\"})).then((imports) => handler.apply(this, imports));\\n}\\n\")])], Dict{Symbol, Any}(:className => \"field interact-widget\")), WebIO.Node{WebIO.DOM}(WebIO.DOM(:html, :div), Any[WebIO.Node{WebIO.DOM}(WebIO.DOM(:html, :div), Any[WebIO.Scope(WebIO.Node{WebIO.DOM}(WebIO.DOM(:html, :div), Any[], Dict{Symbol, Any}(:id => \"container\")), Dict{String, Tuple{Observables.AbstractObservable, Union{Nothing, Bool}}}(\"value\" => (Observable(\"\\\\;\\\\;\"), nothing)), Set{String}(), nothing, WebIO.Asset[WebIO.Asset(\"js\", nothing, \"/home/dushya/.julia/packages/InteractBase/LJXv3/src/../assets/katex.min.js\"), WebIO.Asset(\"css\", nothing, \"/home/dushya/.julia/packages/InteractBase/LJXv3/src/../assets/katex.min.css\")], Dict{Any, Any}(\"value\" => Any[WebIO.JSString(\"(function (txt){return this.k.render(txt,this.container)})\")]), WebIO.ConnectionPool(Channel{Any}(32), Set{WebIO.AbstractConnection}(), Base.GenericCondition{ReentrantLock}(Base.IntrusiveLinkedList{Task}(Task (runnable) @0x00007f43de6ed140, Task (runnable) @0x00007f43de6ed140), ReentrantLock(nothing, 0x00000000, 0x00, Base.GenericCondition{Base.Threads.SpinLock}(Base.IntrusiveLinkedList{Task}(nothing, nothing), Base.Threads.SpinLock(0)), (8, 139930522172352, 139931266636688)))), WebIO.JSString[WebIO.JSString(\"function () {\\n    var handler = ((function (k){this.k=k; this.container=this.dom.querySelector(\\\"#container\\\"); return k.render(\\\"\\\\\\\\;\\\\\\\\;\\\",this.container)}));\\n    (WebIO.importBlock({\\\"data\\\":[{\\\"name\\\":null,\\\"type\\\":\\\"js\\\",\\\"url\\\":\\\"/assetserver/dd22ed1bf1896c2748f3fe616ce0b838adc895c1-katex.min.js\\\"},{\\\"name\\\":null,\\\"type\\\":\\\"css\\\",\\\"url\\\":\\\"/assetserver/46517a424aa5e6cffc1360d7e0848b601c584ee3-katex.min.css\\\"}],\\\"type\\\":\\\"async_block\\\"})).then((imports) => handler.apply(this, imports));\\n}\\n\")])], Dict{Symbol, Any}(:className => \"interact-widget\")), WebIO.Node{WebIO.DOM}(WebIO.DOM(:html, :div), Any[WebIO.Scope(WebIO.Node{WebIO.DOM}(WebIO.DOM(:html, :button), Any[\"run\"], Dict{Symbol, Any}(:attributes => Dict{Any, Any}(\"data-bind\" => \"click: function (){this.clicks(this.clicks()+1)}, css: {'is-loading' : loading}\"), :className => \"is-medium button is-primary\", :style => Dict{String, Any}())), Dict{String, Tuple{Observables.AbstractObservable, Union{Nothing, Bool}}}(\"loading\" => (Observable(false), nothing), \"clicks\" => (Observable(0), nothing)), Set{String}(), nothing, WebIO.Asset[WebIO.Asset(\"js\", \"knockout\", \"/home/dushya/.julia/packages/Knockout/HReiN/src/../assets/knockout.js\"), WebIO.Asset(\"js\", \"knockout_punches\", \"/home/dushya/.julia/packages/Knockout/HReiN/src/../assets/knockout_punches.js\"), WebIO.Asset(\"js\", nothing, \"/home/dushya/.julia/packages/InteractBase/LJXv3/src/../assets/all.js\"), WebIO.Asset(\"css\", nothing, \"/home/dushya/.julia/packages/InteractBase/LJXv3/src/../assets/style.css\"), WebIO.Asset(\"css\", nothing, \"/home/dushya/.julia/packages/Interact/PENUy/src/../assets/bulma_confined.min.css\")], Dict{Any, Any}(\"loading\" => Any[WebIO.JSString(\"(function (val){return (val!=this.model[\\\"loading\\\"]()) ? (this.valueFromJulia[\\\"loading\\\"]=true, this.model[\\\"loading\\\"](val)) : undefined})\")], \"clicks\" => Any[WebIO.JSString(\"(function (val){return (val!=this.model[\\\"clicks\\\"]()) ? (this.valueFromJulia[\\\"clicks\\\"]=true, this.model[\\\"clicks\\\"](val)) : undefined})\")]), WebIO.ConnectionPool(Channel{Any}(32), Set{WebIO.AbstractConnection}(), Base.GenericCondition{ReentrantLock}(Base.IntrusiveLinkedList{Task}(Task (runnable) @0x00007f43df4212d0, Task (runnable) @0x00007f43df4212d0), ReentrantLock(nothing, 0x00000000, 0x00, Base.GenericCondition{Base.Threads.SpinLock}(Base.IntrusiveLinkedList{Task}(nothing, nothing), Base.Threads.SpinLock(0)), (4, 139637976752128, 139931408184576)))), WebIO.JSString[WebIO.JSString(\"function () {\\n    var handler = (function (ko, koPunches) {\\n    ko.punches.enableAll();\\n    ko.bindingHandlers.numericValue = {\\n        init: function(element, valueAccessor, allBindings, data, context) {\\n            var stringified = ko.observable(ko.unwrap(valueAccessor()));\\n            stringified.subscribe(function(value) {\\n                var val = parseFloat(value);\\n                if (!isNaN(val)) {\\n                    valueAccessor()(val);\\n                }\\n            });\\n            valueAccessor().subscribe(function(value) {\\n                var str = JSON.stringify(value);\\n                if ((str == \\\"0\\\") && ([\\\"-0\\\", \\\"-0.\\\"].indexOf(stringified()) >= 0))\\n                     return;\\n                 if ([\\\"null\\\", \\\"\\\"].indexOf(str) >= 0)\\n                     return;\\n                stringified(str);\\n            });\\n            ko.applyBindingsToNode(\\n                element,\\n                {\\n                    value: stringified,\\n                    valueUpdate: allBindings.get('valueUpdate'),\\n                },\\n                context,\\n            );\\n        }\\n    };\\n    var json_data = {\\\"loading\\\":WebIO.getval({\\\"name\\\":\\\"loading\\\",\\\"scope\\\":\\\"5604566927796644593\\\",\\\"id\\\":\\\"1755048428814747432\\\",\\\"type\\\":\\\"observable\\\"}),\\\"clicks\\\":WebIO.getval({\\\"name\\\":\\\"clicks\\\",\\\"scope\\\":\\\"5604566927796644593\\\",\\\"id\\\":\\\"17716531452895064607\\\",\\\"type\\\":\\\"observable\\\"})};\\n    var self = this;\\n    function AppViewModel() {\\n        for (var key in json_data) {\\n            var el = json_data[key];\\n            this[key] = Array.isArray(el) ? ko.observableArray(el) : ko.observable(el);\\n        }\\n        \\n        \\n        [this[\\\"loading\\\"].subscribe((function (val){!(this.valueFromJulia[\\\"loading\\\"]) ? (WebIO.setval({\\\"name\\\":\\\"loading\\\",\\\"scope\\\":\\\"5604566927796644593\\\",\\\"id\\\":\\\"1755048428814747432\\\",\\\"type\\\":\\\"observable\\\"},val)) : undefined; return this.valueFromJulia[\\\"loading\\\"]=false}),self),this[\\\"clicks\\\"].subscribe((function (val){!(this.valueFromJulia[\\\"clicks\\\"]) ? (WebIO.setval({\\\"name\\\":\\\"clicks\\\",\\\"scope\\\":\\\"5604566927796644593\\\",\\\"id\\\":\\\"17716531452895064607\\\",\\\"type\\\":\\\"observable\\\"},val)) : undefined; return this.valueFromJulia[\\\"clicks\\\"]=false}),self)]\\n        \\n    }\\n    self.model = new AppViewModel();\\n    self.valueFromJulia = {};\\n    for (var key in json_data) {\\n        self.valueFromJulia[key] = false;\\n    }\\n    ko.applyBindings(self.model, self.dom);\\n}\\n);\\n    (WebIO.importBlock({\\\"data\\\":[{\\\"name\\\":\\\"knockout\\\",\\\"type\\\":\\\"js\\\",\\\"url\\\":\\\"/assetserver/727383f2a47bd31570b7da84eee7b022dd6d7c78-knockout.js\\\"},{\\\"name\\\":\\\"knockout_punches\\\",\\\"type\\\":\\\"js\\\",\\\"url\\\":\\\"/assetserver/382b41b3b1bd9f26f75861d360bad7f8beea211f-knockout_punches.js\\\"}],\\\"type\\\":\\\"async_block\\\"})).then((imports) => handler.apply(this, imports));\\n}\\n\")])], Dict{Symbol, Any}(:className => \"field interact-widget\")), WebIO.Node{WebIO.DOM}(WebIO.DOM(:html, :div), Any[WebIO.Scope(WebIO.Node{WebIO.DOM}(WebIO.DOM(:html, :div), Any[], Dict{Symbol, Any}(:id => \"container\")), Dict{String, Tuple{Observables.AbstractObservable, Union{Nothing, Bool}}}(\"value\" => (Observable(\"\\\\;\\\\;\"), nothing)), Set{String}(), nothing, WebIO.Asset[WebIO.Asset(\"js\", nothing, \"/home/dushya/.julia/packages/InteractBase/LJXv3/src/../assets/katex.min.js\"), WebIO.Asset(\"css\", nothing, \"/home/dushya/.julia/packages/InteractBase/LJXv3/src/../assets/katex.min.css\")], Dict{Any, Any}(\"value\" => Any[WebIO.JSString(\"(function (txt){return this.k.render(txt,this.container)})\")]), WebIO.ConnectionPool(Channel{Any}(32), Set{WebIO.AbstractConnection}(), Base.GenericCondition{ReentrantLock}(Base.IntrusiveLinkedList{Task}(Task (runnable) @0x00007f43de6ed140, Task (runnable) @0x00007f43de6ed140), ReentrantLock(nothing, 0x00000000, 0x00, Base.GenericCondition{Base.Threads.SpinLock}(Base.IntrusiveLinkedList{Task}(nothing, nothing), Base.Threads.SpinLock(0)), (8, 139930522172352, 139931266636688)))), WebIO.JSString[WebIO.JSString(\"function () {\\n    var handler = ((function (k){this.k=k; this.container=this.dom.querySelector(\\\"#container\\\"); return k.render(\\\"\\\\\\\\;\\\\\\\\;\\\",this.container)}));\\n    (WebIO.importBlock({\\\"data\\\":[{\\\"name\\\":null,\\\"type\\\":\\\"js\\\",\\\"url\\\":\\\"/assetserver/dd22ed1bf1896c2748f3fe616ce0b838adc895c1-katex.min.js\\\"},{\\\"name\\\":null,\\\"type\\\":\\\"css\\\",\\\"url\\\":\\\"/assetserver/46517a424aa5e6cffc1360d7e0848b601c584ee3-katex.min.css\\\"}],\\\"type\\\":\\\"async_block\\\"})).then((imports) => handler.apply(this, imports));\\n}\\n\")])], Dict{Symbol, Any}(:className => \"interact-widget\")), WebIO.Node{WebIO.DOM}(WebIO.DOM(:html, :div), Any[WebIO.Scope(WebIO.Node{WebIO.DOM}(WebIO.DOM(:html, :button), Any[\"stop\"], Dict{Symbol, Any}(:attributes => Dict{Any, Any}(\"data-bind\" => \"click: function (){this.clicks(this.clicks()+1)}, css: {'is-loading' : loading}\"), :className => \"is-medium button is-primary\", :style => Dict{String, Any}())), Dict{String, Tuple{Observables.AbstractObservable, Union{Nothing, Bool}}}(\"loading\" => (Observable(false), nothing), \"clicks\" => (Observable(0), nothing)), Set{String}(), nothing, WebIO.Asset[WebIO.Asset(\"js\", \"knockout\", \"/home/dushya/.julia/packages/Knockout/HReiN/src/../assets/knockout.js\"), WebIO.Asset(\"js\", \"knockout_punches\", \"/home/dushya/.julia/packages/Knockout/HReiN/src/../assets/knockout_punches.js\"), WebIO.Asset(\"js\", nothing, \"/home/dushya/.julia/packages/InteractBase/LJXv3/src/../assets/all.js\"), WebIO.Asset(\"css\", nothing, \"/home/dushya/.julia/packages/InteractBase/LJXv3/src/../assets/style.css\"), WebIO.Asset(\"css\", nothing, \"/home/dushya/.julia/packages/Interact/PENUy/src/../assets/bulma_confined.min.css\")], Dict{Any, Any}(\"loading\" => Any[WebIO.JSString(\"(function (val){return (val!=this.model[\\\"loading\\\"]()) ? (this.valueFromJulia[\\\"loading\\\"]=true, this.model[\\\"loading\\\"](val)) : undefined})\")], \"clicks\" => Any[WebIO.JSString(\"(function (val){return (val!=this.model[\\\"clicks\\\"]()) ? (this.valueFromJulia[\\\"clicks\\\"]=true, this.model[\\\"clicks\\\"](val)) : undefined})\")]), WebIO.ConnectionPool(Channel{Any}(32), Set{WebIO.AbstractConnection}(), Base.GenericCondition{ReentrantLock}(Base.IntrusiveLinkedList{Task}(Task (runnable) @0x00007f43de2a1dc0, Task (runnable) @0x00007f43de2a1dc0), ReentrantLock(nothing, 0x00000000, 0x00, Base.GenericCondition{Base.Threads.SpinLock}(Base.IntrusiveLinkedList{Task}(nothing, nothing), Base.Threads.SpinLock(0)), (2, 139931402133552, 139931402134480)))), WebIO.JSString[WebIO.JSString(\"function () {\\n    var handler = (function (ko, koPunches) {\\n    ko.punches.enableAll();\\n    ko.bindingHandlers.numericValue = {\\n        init: function(element, valueAccessor, allBindings, data, context) {\\n            var stringified = ko.observable(ko.unwrap(valueAccessor()));\\n            stringified.subscribe(function(value) {\\n                var val = parseFloat(value);\\n                if (!isNaN(val)) {\\n                    valueAccessor()(val);\\n                }\\n            });\\n            valueAccessor().subscribe(function(value) {\\n                var str = JSON.stringify(value);\\n                if ((str == \\\"0\\\") && ([\\\"-0\\\", \\\"-0.\\\"].indexOf(stringified()) >= 0))\\n                     return;\\n                 if ([\\\"null\\\", \\\"\\\"].indexOf(str) >= 0)\\n                     return;\\n                stringified(str);\\n            });\\n            ko.applyBindingsToNode(\\n                element,\\n                {\\n                    value: stringified,\\n                    valueUpdate: allBindings.get('valueUpdate'),\\n                },\\n                context,\\n            );\\n        }\\n    };\\n    var json_data = {\\\"loading\\\":WebIO.getval({\\\"name\\\":\\\"loading\\\",\\\"scope\\\":\\\"7862820841381978741\\\",\\\"id\\\":\\\"8891495569947539537\\\",\\\"type\\\":\\\"observable\\\"}),\\\"clicks\\\":WebIO.getval({\\\"name\\\":\\\"clicks\\\",\\\"scope\\\":\\\"7862820841381978741\\\",\\\"id\\\":\\\"2045255202651643214\\\",\\\"type\\\":\\\"observable\\\"})};\\n    var self = this;\\n    function AppViewModel() {\\n        for (var key in json_data) {\\n            var el = json_data[key];\\n            this[key] = Array.isArray(el) ? ko.observableArray(el) : ko.observable(el);\\n        }\\n        \\n        \\n        [this[\\\"loading\\\"].subscribe((function (val){!(this.valueFromJulia[\\\"loading\\\"]) ? (WebIO.setval({\\\"name\\\":\\\"loading\\\",\\\"scope\\\":\\\"7862820841381978741\\\",\\\"id\\\":\\\"8891495569947539537\\\",\\\"type\\\":\\\"observable\\\"},val)) : undefined; return this.valueFromJulia[\\\"loading\\\"]=false}),self),this[\\\"clicks\\\"].subscribe((function (val){!(this.valueFromJulia[\\\"clicks\\\"]) ? (WebIO.setval({\\\"name\\\":\\\"clicks\\\",\\\"scope\\\":\\\"7862820841381978741\\\",\\\"id\\\":\\\"2045255202651643214\\\",\\\"type\\\":\\\"observable\\\"},val)) : undefined; return this.valueFromJulia[\\\"clicks\\\"]=false}),self)]\\n        \\n    }\\n    self.model = new AppViewModel();\\n    self.valueFromJulia = {};\\n    for (var key in json_data) {\\n        self.valueFromJulia[key] = false;\\n    }\\n    ko.applyBindings(self.model, self.dom);\\n}\\n);\\n    (WebIO.importBlock({\\\"data\\\":[{\\\"name\\\":\\\"knockout\\\",\\\"type\\\":\\\"js\\\",\\\"url\\\":\\\"/assetserver/727383f2a47bd31570b7da84eee7b022dd6d7c78-knockout.js\\\"},{\\\"name\\\":\\\"knockout_punches\\\",\\\"type\\\":\\\"js\\\",\\\"url\\\":\\\"/assetserver/382b41b3b1bd9f26f75861d360bad7f8beea211f-knockout_punches.js\\\"}],\\\"type\\\":\\\"async_block\\\"})).then((imports) => handler.apply(this, imports));\\n}\\n\")])], Dict{Symbol, Any}(:className => \"field interact-widget\")), WebIO.Node{WebIO.DOM}(WebIO.DOM(:html, :div), Any[WebIO.Scope(WebIO.Node{WebIO.DOM}(WebIO.DOM(:html, :div), Any[], Dict{Symbol, Any}(:id => \"container\")), Dict{String, Tuple{Observables.AbstractObservable, Union{Nothing, Bool}}}(\"value\" => (Observable(\"\\\\;\\\\;\"), nothing)), Set{String}(), nothing, WebIO.Asset[WebIO.Asset(\"js\", nothing, \"/home/dushya/.julia/packages/InteractBase/LJXv3/src/../assets/katex.min.js\"), WebIO.Asset(\"css\", nothing, \"/home/dushya/.julia/packages/InteractBase/LJXv3/src/../assets/katex.min.css\")], Dict{Any, Any}(\"value\" => Any[WebIO.JSString(\"(function (txt){return this.k.render(txt,this.container)})\")]), WebIO.ConnectionPool(Channel{Any}(32), Set{WebIO.AbstractConnection}(), Base.GenericCondition{ReentrantLock}(Base.IntrusiveLinkedList{Task}(Task (runnable) @0x00007f43de6ed140, Task (runnable) @0x00007f43de6ed140), ReentrantLock(nothing, 0x00000000, 0x00, Base.GenericCondition{Base.Threads.SpinLock}(Base.IntrusiveLinkedList{Task}(nothing, nothing), Base.Threads.SpinLock(0)), (8, 139930522172352, 139931266636688)))), WebIO.JSString[WebIO.JSString(\"function () {\\n    var handler = ((function (k){this.k=k; this.container=this.dom.querySelector(\\\"#container\\\"); return k.render(\\\"\\\\\\\\;\\\\\\\\;\\\",this.container)}));\\n    (WebIO.importBlock({\\\"data\\\":[{\\\"name\\\":null,\\\"type\\\":\\\"js\\\",\\\"url\\\":\\\"/assetserver/dd22ed1bf1896c2748f3fe616ce0b838adc895c1-katex.min.js\\\"},{\\\"name\\\":null,\\\"type\\\":\\\"css\\\",\\\"url\\\":\\\"/assetserver/46517a424aa5e6cffc1360d7e0848b601c584ee3-katex.min.css\\\"}],\\\"type\\\":\\\"async_block\\\"})).then((imports) => handler.apply(this, imports));\\n}\\n\")])], Dict{Symbol, Any}(:className => \"interact-widget\")), WebIO.Node{WebIO.DOM}(WebIO.DOM(:html, :div), Any[WebIO.Scope(WebIO.Node{WebIO.DOM}(WebIO.DOM(:html, :button), Any[\"save\"], Dict{Symbol, Any}(:attributes => Dict{Any, Any}(\"data-bind\" => \"click: function (){this.clicks(this.clicks()+1)}, css: {'is-loading' : loading}\"), :className => \"is-medium button is-primary\", :style => Dict{String, Any}())), Dict{String, Tuple{Observables.AbstractObservable, Union{Nothing, Bool}}}(\"loading\" => (Observable(false), nothing), \"clicks\" => (Observable(0), nothing)), Set{String}(), nothing, WebIO.Asset[WebIO.Asset(\"js\", \"knockout\", \"/home/dushya/.julia/packages/Knockout/HReiN/src/../assets/knockout.js\"), WebIO.Asset(\"js\", \"knockout_punches\", \"/home/dushya/.julia/packages/Knockout/HReiN/src/../assets/knockout_punches.js\"), WebIO.Asset(\"js\", nothing, \"/home/dushya/.julia/packages/InteractBase/LJXv3/src/../assets/all.js\"), WebIO.Asset(\"css\", nothing, \"/home/dushya/.julia/packages/InteractBase/LJXv3/src/../assets/style.css\"), WebIO.Asset(\"css\", nothing, \"/home/dushya/.julia/packages/Interact/PENUy/src/../assets/bulma_confined.min.css\")], Dict{Any, Any}(\"loading\" => Any[WebIO.JSString(\"(function (val){return (val!=this.model[\\\"loading\\\"]()) ? (this.valueFromJulia[\\\"loading\\\"]=true, this.model[\\\"loading\\\"](val)) : undefined})\")], \"clicks\" => Any[WebIO.JSString(\"(function (val){return (val!=this.model[\\\"clicks\\\"]()) ? (this.valueFromJulia[\\\"clicks\\\"]=true, this.model[\\\"clicks\\\"](val)) : undefined})\")]), WebIO.ConnectionPool(Channel{Any}(32), Set{WebIO.AbstractConnection}(), Base.GenericCondition{ReentrantLock}(Base.IntrusiveLinkedList{Task}(Task (runnable) @0x00007f43de17c650, Task (runnable) @0x00007f43de17c650), ReentrantLock(nothing, 0x00000000, 0x00, Base.GenericCondition{Base.Threads.SpinLock}(Base.IntrusiveLinkedList{Task}(nothing, nothing), Base.Threads.SpinLock(0)), (3, 0, 139779710648320)))), WebIO.JSString[WebIO.JSString(\"function () {\\n    var handler = (function (ko, koPunches) {\\n    ko.punches.enableAll();\\n    ko.bindingHandlers.numericValue = {\\n        init: function(element, valueAccessor, allBindings, data, context) {\\n            var stringified = ko.observable(ko.unwrap(valueAccessor()));\\n            stringified.subscribe(function(value) {\\n                var val = parseFloat(value);\\n                if (!isNaN(val)) {\\n                    valueAccessor()(val);\\n                }\\n            });\\n            valueAccessor().subscribe(function(value) {\\n                var str = JSON.stringify(value);\\n                if ((str == \\\"0\\\") && ([\\\"-0\\\", \\\"-0.\\\"].indexOf(stringified()) >= 0))\\n                     return;\\n                 if ([\\\"null\\\", \\\"\\\"].indexOf(str) >= 0)\\n                     return;\\n                stringified(str);\\n            });\\n            ko.applyBindingsToNode(\\n                element,\\n                {\\n                    value: stringified,\\n                    valueUpdate: allBindings.get('valueUpdate'),\\n                },\\n                context,\\n            );\\n        }\\n    };\\n    var json_data = {\\\"loading\\\":WebIO.getval({\\\"name\\\":\\\"loading\\\",\\\"scope\\\":\\\"12855457338016837478\\\",\\\"id\\\":\\\"14558442741969963743\\\",\\\"type\\\":\\\"observable\\\"}),\\\"clicks\\\":WebIO.getval({\\\"name\\\":\\\"clicks\\\",\\\"scope\\\":\\\"12855457338016837478\\\",\\\"id\\\":\\\"16691338663028872541\\\",\\\"type\\\":\\\"observable\\\"})};\\n    var self = this;\\n    function AppViewModel() {\\n        for (var key in json_data) {\\n            var el = json_data[key];\\n            this[key] = Array.isArray(el) ? ko.observableArray(el) : ko.observable(el);\\n        }\\n        \\n        \\n        [this[\\\"loading\\\"].subscribe((function (val){!(this.valueFromJulia[\\\"loading\\\"]) ? (WebIO.setval({\\\"name\\\":\\\"loading\\\",\\\"scope\\\":\\\"12855457338016837478\\\",\\\"id\\\":\\\"14558442741969963743\\\",\\\"type\\\":\\\"observable\\\"},val)) : undefined; return this.valueFromJulia[\\\"loading\\\"]=false}),self),this[\\\"clicks\\\"].subscribe((function (val){!(this.valueFromJulia[\\\"clicks\\\"]) ? (WebIO.setval({\\\"name\\\":\\\"clicks\\\",\\\"scope\\\":\\\"12855457338016837478\\\",\\\"id\\\":\\\"16691338663028872541\\\",\\\"type\\\":\\\"observable\\\"},val)) : undefined; return this.valueFromJulia[\\\"clicks\\\"]=false}),self)]\\n        \\n    }\\n    self.model = new AppViewModel();\\n    self.valueFromJulia = {};\\n    for (var key in json_data) {\\n        self.valueFromJulia[key] = false;\\n    }\\n    ko.applyBindings(self.model, self.dom);\\n}\\n);\\n    (WebIO.importBlock({\\\"data\\\":[{\\\"name\\\":\\\"knockout\\\",\\\"type\\\":\\\"js\\\",\\\"url\\\":\\\"/assetserver/727383f2a47bd31570b7da84eee7b022dd6d7c78-knockout.js\\\"},{\\\"name\\\":\\\"knockout_punches\\\",\\\"type\\\":\\\"js\\\",\\\"url\\\":\\\"/assetserver/382b41b3b1bd9f26f75861d360bad7f8beea211f-knockout_punches.js\\\"}],\\\"type\\\":\\\"async_block\\\"})).then((imports) => handler.apply(this, imports));\\n}\\n\")])], Dict{Symbol, Any}(:className => \"field interact-widget\"))], Dict{Symbol, Any}(:style => Dict(\"display\" => \"flex\", \"flex-direction\" => \"row\")))], Dict{Symbol, Any}(:style => Dict(\"display\" => \"flex\", \"flex-direction\" => \"column\"))), WebIO.Node{WebIO.DOM}(WebIO.DOM(:html, :div), Any[WebIO.Scope(WebIO.Node{WebIO.DOM}(WebIO.DOM(:html, :div), Any[], Dict{Symbol, Any}(:id => \"container\")), Dict{String, Tuple{Observables.AbstractObservable, Union{Nothing, Bool}}}(\"value\" => (Observable(\"\\\\;\\\\;\"), nothing)), Set{String}(), nothing, WebIO.Asset[WebIO.Asset(\"js\", nothing, \"/home/dushya/.julia/packages/InteractBase/LJXv3/src/../assets/katex.min.js\"), WebIO.Asset(\"css\", nothing, \"/home/dushya/.julia/packages/InteractBase/LJXv3/src/../assets/katex.min.css\")], Dict{Any, Any}(\"value\" => Any[WebIO.JSString(\"(function (txt){return this.k.render(txt,this.container)})\")]), WebIO.ConnectionPool(Channel{Any}(32), Set{WebIO.AbstractConnection}(), Base.GenericCondition{ReentrantLock}(Base.IntrusiveLinkedList{Task}(Task (runnable) @0x00007f43de6ed140, Task (runnable) @0x00007f43de6ed140), ReentrantLock(nothing, 0x00000000, 0x00, Base.GenericCondition{Base.Threads.SpinLock}(Base.IntrusiveLinkedList{Task}(nothing, nothing), Base.Threads.SpinLock(0)), (8, 139930522172352, 139931266636688)))), WebIO.JSString[WebIO.JSString(\"function () {\\n    var handler = ((function (k){this.k=k; this.container=this.dom.querySelector(\\\"#container\\\"); return k.render(\\\"\\\\\\\\;\\\\\\\\;\\\",this.container)}));\\n    (WebIO.importBlock({\\\"data\\\":[{\\\"name\\\":null,\\\"type\\\":\\\"js\\\",\\\"url\\\":\\\"/assetserver/dd22ed1bf1896c2748f3fe616ce0b838adc895c1-katex.min.js\\\"},{\\\"name\\\":null,\\\"type\\\":\\\"css\\\",\\\"url\\\":\\\"/assetserver/46517a424aa5e6cffc1360d7e0848b601c584ee3-katex.min.css\\\"}],\\\"type\\\":\\\"async_block\\\"})).then((imports) => handler.apply(this, imports));\\n}\\n\")])], Dict{Symbol, Any}(:className => \"interact-widget\")), Observable(Luxor.Drawing(430.0, 430.0, \"\", Cairo.CairoSurfaceBase{UInt32}(Ptr{Nothing} @0x0000000000000000, 430.0, 430.0), Cairo.CairoContext(Ptr{Nothing} @0x0000000004f36e90, Cairo.CairoSurfaceBase{UInt32}(Ptr{Nothing} @0x0000000000000000, 430.0, 430.0), Ptr{Nothing} @0x00000000051b6810), :png, 0.0, 0.0, 0.0, 1.0, IOBuffer(data=UInt8[...], readable=true, writable=true, seekable=true, append=false, size=21687, maxsize=Inf, ptr=21688, mark=-1), UInt8[0x89, 0x50, 0x4e, 0x47, 0x0d, 0x0a, 0x1a, 0x0a, 0x00, 0x00  …  0x00, 0x00, 0x49, 0x45, 0x4e, 0x44, 0xae, 0x42, 0x60, 0x82], false)), WebIO.Node{WebIO.DOM}(WebIO.DOM(:html, :div), Any[WebIO.Scope(WebIO.Node{WebIO.DOM}(WebIO.DOM(:html, :div), Any[], Dict{Symbol, Any}(:id => \"container\")), Dict{String, Tuple{Observables.AbstractObservable, Union{Nothing, Bool}}}(\"value\" => (Observable(\"\\\\;\\\\;\"), nothing)), Set{String}(), nothing, WebIO.Asset[WebIO.Asset(\"js\", nothing, \"/home/dushya/.julia/packages/InteractBase/LJXv3/src/../assets/katex.min.js\"), WebIO.Asset(\"css\", nothing, \"/home/dushya/.julia/packages/InteractBase/LJXv3/src/../assets/katex.min.css\")], Dict{Any, Any}(\"value\" => Any[WebIO.JSString(\"(function (txt){return this.k.render(txt,this.container)})\")]), WebIO.ConnectionPool(Channel{Any}(32), Set{WebIO.AbstractConnection}(), Base.GenericCondition{ReentrantLock}(Base.IntrusiveLinkedList{Task}(Task (runnable) @0x00007f43de6ed140, Task (runnable) @0x00007f43de6ed140), ReentrantLock(nothing, 0x00000000, 0x00, Base.GenericCondition{Base.Threads.SpinLock}(Base.IntrusiveLinkedList{Task}(nothing, nothing), Base.Threads.SpinLock(0)), (8, 139930522172352, 139931266636688)))), WebIO.JSString[WebIO.JSString(\"function () {\\n    var handler = ((function (k){this.k=k; this.container=this.dom.querySelector(\\\"#container\\\"); return k.render(\\\"\\\\\\\\;\\\\\\\\;\\\",this.container)}));\\n    (WebIO.importBlock({\\\"data\\\":[{\\\"name\\\":null,\\\"type\\\":\\\"js\\\",\\\"url\\\":\\\"/assetserver/dd22ed1bf1896c2748f3fe616ce0b838adc895c1-katex.min.js\\\"},{\\\"name\\\":null,\\\"type\\\":\\\"css\\\",\\\"url\\\":\\\"/assetserver/46517a424aa5e6cffc1360d7e0848b601c584ee3-katex.min.css\\\"}],\\\"type\\\":\\\"async_block\\\"})).then((imports) => handler.apply(this, imports));\\n}\\n\")])], Dict{Symbol, Any}(:className => \"interact-widget\")), WebIO.Node{WebIO.DOM}(WebIO.DOM(:html, :div), Any[], Dict{Symbol, Any}(:style => Dict(\"display\" => \"flex\", \"flex-direction\" => \"column\")))], Dict{Symbol, Any}(:style => Dict(\"display\" => \"flex\", \"flex-direction\" => \"row\")))], Dict{Symbol, Any}(:style => Dict(\"display\" => \"flex\", \"flex-direction\" => \"column\")))"
      ]
     },
     "execution_count": 6,
     "metadata": {
      "application/vnd.webio.node+json": {
       "kernelId": "aba03b9f-c64e-42cc-8de7-ff0618cf3734"
      }
     },
     "output_type": "execute_result"
    }
   ],
   "source": [
    "animate_sim(model)"
   ]
  },
  {
   "cell_type": "markdown",
   "metadata": {},
   "source": [
    "After defining the `step_rule!` function we can also choose to create an interactive application (which currently works in Jupyter with WebIO installation) as "
   ]
  },
  {
   "cell_type": "code",
   "execution_count": 8,
   "metadata": {},
   "outputs": [
    {
     "data": {
      "application/vnd.webio.node+json": {
       "children": [
        {
         "children": [
          {
           "children": [
            {
             "children": [
              {
               "children": [
                {
                 "children": [
                  {
                   "children": [
                    {
                     "children": [
                      "time"
                     ],
                     "instanceArgs": {
                      "namespace": "html",
                      "tag": "label"
                     },
                     "nodeType": "DOM",
                     "props": {
                      "className": "interact ",
                      "style": {
                       "padding": "5px 10px 0px 10px"
                      }
                     },
                     "type": "node"
                    }
                   ],
                   "instanceArgs": {
                    "namespace": "html",
                    "tag": "div"
                   },
                   "nodeType": "DOM",
                   "props": {
                    "className": "interact-flex-row-left"
                   },
                   "type": "node"
                  },
                  {
                   "children": [
                    {
                     "children": [],
                     "instanceArgs": {
                      "namespace": "html",
                      "tag": "input"
                     },
                     "nodeType": "DOM",
                     "props": {
                      "attributes": {
                       "data-bind": "numericValue: index, valueUpdate: 'input', event: {change: function (){this.changes(this.changes()+1)}}",
                       "orient": "horizontal",
                       "type": "range"
                      },
                      "className": "slider slider is-fullwidth",
                      "max": 400,
                      "min": 1,
                      "step": 1,
                      "style": {}
                     },
                     "type": "node"
                    }
                   ],
                   "instanceArgs": {
                    "namespace": "html",
                    "tag": "div"
                   },
                   "nodeType": "DOM",
                   "props": {
                    "className": "interact-flex-row-center"
                   },
                   "type": "node"
                  },
                  {
                   "children": [
                    {
                     "children": [],
                     "instanceArgs": {
                      "namespace": "html",
                      "tag": "p"
                     },
                     "nodeType": "DOM",
                     "props": {
                      "attributes": {
                       "data-bind": "text: formatted_val"
                      }
                     },
                     "type": "node"
                    }
                   ],
                   "instanceArgs": {
                    "namespace": "html",
                    "tag": "div"
                   },
                   "nodeType": "DOM",
                   "props": {
                    "className": "interact-flex-row-right"
                   },
                   "type": "node"
                  }
                 ],
                 "instanceArgs": {
                  "namespace": "html",
                  "tag": "div"
                 },
                 "nodeType": "DOM",
                 "props": {
                  "className": "interact-flex-row interact-widget"
                 },
                 "type": "node"
                }
               ],
               "instanceArgs": {
                "handlers": {
                 "changes": [
                  "(function (val){return (val!=this.model[\"changes\"]()) ? (this.valueFromJulia[\"changes\"]=true, this.model[\"changes\"](val)) : undefined})"
                 ],
                 "index": [
                  "(function (val){return (val!=this.model[\"index\"]()) ? (this.valueFromJulia[\"index\"]=true, this.model[\"index\"](val)) : undefined})"
                 ]
                },
                "id": "14454081385394510836",
                "imports": {
                 "data": [
                  {
                   "name": "knockout",
                   "type": "js",
                   "url": "/assetserver/727383f2a47bd31570b7da84eee7b022dd6d7c78-knockout.js"
                  },
                  {
                   "name": "knockout_punches",
                   "type": "js",
                   "url": "/assetserver/382b41b3b1bd9f26f75861d360bad7f8beea211f-knockout_punches.js"
                  },
                  {
                   "name": null,
                   "type": "js",
                   "url": "/assetserver/5ab20f1060420992a9b82a65b735dee4d81ef413-all.js"
                  },
                  {
                   "name": null,
                   "type": "css",
                   "url": "/assetserver/1cc0ed62837210b80a182cc3676512f895dab686-style.css"
                  },
                  {
                   "name": null,
                   "type": "css",
                   "url": "/assetserver/2eee816f616df3549d7044d45e744fbf8d42bfa1-bulma_confined.min.css"
                  }
                 ],
                 "type": "async_block"
                },
                "mount_callbacks": [
                 "function () {\n    var handler = (function (ko, koPunches) {\n    ko.punches.enableAll();\n    ko.bindingHandlers.numericValue = {\n        init: function(element, valueAccessor, allBindings, data, context) {\n            var stringified = ko.observable(ko.unwrap(valueAccessor()));\n            stringified.subscribe(function(value) {\n                var val = parseFloat(value);\n                if (!isNaN(val)) {\n                    valueAccessor()(val);\n                }\n            });\n            valueAccessor().subscribe(function(value) {\n                var str = JSON.stringify(value);\n                if ((str == \"0\") && ([\"-0\", \"-0.\"].indexOf(stringified()) >= 0))\n                     return;\n                 if ([\"null\", \"\"].indexOf(str) >= 0)\n                     return;\n                stringified(str);\n            });\n            ko.applyBindingsToNode(\n                element,\n                {\n                    value: stringified,\n                    valueUpdate: allBindings.get('valueUpdate'),\n                },\n                context,\n            );\n        }\n    };\n    var json_data = {\"formatted_vals\":[\"1\",\"2\",\"3\",\"4\",\"5\",\"6\",\"7\",\"8\",\"9\",\"10\",\"11\",\"12\",\"13\",\"14\",\"15\",\"16\",\"17\",\"18\",\"19\",\"20\",\"21\",\"22\",\"23\",\"24\",\"25\",\"26\",\"27\",\"28\",\"29\",\"30\",\"31\",\"32\",\"33\",\"34\",\"35\",\"36\",\"37\",\"38\",\"39\",\"40\",\"41\",\"42\",\"43\",\"44\",\"45\",\"46\",\"47\",\"48\",\"49\",\"50\",\"51\",\"52\",\"53\",\"54\",\"55\",\"56\",\"57\",\"58\",\"59\",\"60\",\"61\",\"62\",\"63\",\"64\",\"65\",\"66\",\"67\",\"68\",\"69\",\"70\",\"71\",\"72\",\"73\",\"74\",\"75\",\"76\",\"77\",\"78\",\"79\",\"80\",\"81\",\"82\",\"83\",\"84\",\"85\",\"86\",\"87\",\"88\",\"89\",\"90\",\"91\",\"92\",\"93\",\"94\",\"95\",\"96\",\"97\",\"98\",\"99\",\"100\",\"101\",\"102\",\"103\",\"104\",\"105\",\"106\",\"107\",\"108\",\"109\",\"110\",\"111\",\"112\",\"113\",\"114\",\"115\",\"116\",\"117\",\"118\",\"119\",\"120\",\"121\",\"122\",\"123\",\"124\",\"125\",\"126\",\"127\",\"128\",\"129\",\"130\",\"131\",\"132\",\"133\",\"134\",\"135\",\"136\",\"137\",\"138\",\"139\",\"140\",\"141\",\"142\",\"143\",\"144\",\"145\",\"146\",\"147\",\"148\",\"149\",\"150\",\"151\",\"152\",\"153\",\"154\",\"155\",\"156\",\"157\",\"158\",\"159\",\"160\",\"161\",\"162\",\"163\",\"164\",\"165\",\"166\",\"167\",\"168\",\"169\",\"170\",\"171\",\"172\",\"173\",\"174\",\"175\",\"176\",\"177\",\"178\",\"179\",\"180\",\"181\",\"182\",\"183\",\"184\",\"185\",\"186\",\"187\",\"188\",\"189\",\"190\",\"191\",\"192\",\"193\",\"194\",\"195\",\"196\",\"197\",\"198\",\"199\",\"200\",\"201\",\"202\",\"203\",\"204\",\"205\",\"206\",\"207\",\"208\",\"209\",\"210\",\"211\",\"212\",\"213\",\"214\",\"215\",\"216\",\"217\",\"218\",\"219\",\"220\",\"221\",\"222\",\"223\",\"224\",\"225\",\"226\",\"227\",\"228\",\"229\",\"230\",\"231\",\"232\",\"233\",\"234\",\"235\",\"236\",\"237\",\"238\",\"239\",\"240\",\"241\",\"242\",\"243\",\"244\",\"245\",\"246\",\"247\",\"248\",\"249\",\"250\",\"251\",\"252\",\"253\",\"254\",\"255\",\"256\",\"257\",\"258\",\"259\",\"260\",\"261\",\"262\",\"263\",\"264\",\"265\",\"266\",\"267\",\"268\",\"269\",\"270\",\"271\",\"272\",\"273\",\"274\",\"275\",\"276\",\"277\",\"278\",\"279\",\"280\",\"281\",\"282\",\"283\",\"284\",\"285\",\"286\",\"287\",\"288\",\"289\",\"290\",\"291\",\"292\",\"293\",\"294\",\"295\",\"296\",\"297\",\"298\",\"299\",\"300\",\"301\",\"302\",\"303\",\"304\",\"305\",\"306\",\"307\",\"308\",\"309\",\"310\",\"311\",\"312\",\"313\",\"314\",\"315\",\"316\",\"317\",\"318\",\"319\",\"320\",\"321\",\"322\",\"323\",\"324\",\"325\",\"326\",\"327\",\"328\",\"329\",\"330\",\"331\",\"332\",\"333\",\"334\",\"335\",\"336\",\"337\",\"338\",\"339\",\"340\",\"341\",\"342\",\"343\",\"344\",\"345\",\"346\",\"347\",\"348\",\"349\",\"350\",\"351\",\"352\",\"353\",\"354\",\"355\",\"356\",\"357\",\"358\",\"359\",\"360\",\"361\",\"362\",\"363\",\"364\",\"365\",\"366\",\"367\",\"368\",\"369\",\"370\",\"371\",\"372\",\"373\",\"374\",\"375\",\"376\",\"377\",\"378\",\"379\",\"380\",\"381\",\"382\",\"383\",\"384\",\"385\",\"386\",\"387\",\"388\",\"389\",\"390\",\"391\",\"392\",\"393\",\"394\",\"395\",\"396\",\"397\",\"398\",\"399\",\"400\"],\"changes\":WebIO.getval({\"name\":\"changes\",\"scope\":\"14454081385394510836\",\"id\":\"4257139202994103411\",\"type\":\"observable\"}),\"index\":WebIO.getval({\"name\":\"index\",\"scope\":\"14454081385394510836\",\"id\":\"3763133531109475514\",\"type\":\"observable\"})};\n    var self = this;\n    function AppViewModel() {\n        for (var key in json_data) {\n            var el = json_data[key];\n            this[key] = Array.isArray(el) ? ko.observableArray(el) : ko.observable(el);\n        }\n        \n        [this[\"formatted_val\"]=ko.computed(    function(){\n        return this.formatted_vals()[parseInt(this.index())-(1)];\n    }\n,this)]\n        [this[\"changes\"].subscribe((function (val){!(this.valueFromJulia[\"changes\"]) ? (WebIO.setval({\"name\":\"changes\",\"scope\":\"14454081385394510836\",\"id\":\"4257139202994103411\",\"type\":\"observable\"},val)) : undefined; return this.valueFromJulia[\"changes\"]=false}),self),this[\"index\"].subscribe((function (val){!(this.valueFromJulia[\"index\"]) ? (WebIO.setval({\"name\":\"index\",\"scope\":\"14454081385394510836\",\"id\":\"3763133531109475514\",\"type\":\"observable\"},val)) : undefined; return this.valueFromJulia[\"index\"]=false}),self)]\n        \n    }\n    self.model = new AppViewModel();\n    self.valueFromJulia = {};\n    for (var key in json_data) {\n        self.valueFromJulia[key] = false;\n    }\n    ko.applyBindings(self.model, self.dom);\n}\n);\n    (WebIO.importBlock({\"data\":[{\"name\":\"knockout\",\"type\":\"js\",\"url\":\"/assetserver/727383f2a47bd31570b7da84eee7b022dd6d7c78-knockout.js\"},{\"name\":\"knockout_punches\",\"type\":\"js\",\"url\":\"/assetserver/382b41b3b1bd9f26f75861d360bad7f8beea211f-knockout_punches.js\"}],\"type\":\"async_block\"})).then((imports) => handler.apply(this, imports));\n}\n"
                ],
                "observables": {
                 "changes": {
                  "id": "4257139202994103411",
                  "sync": false,
                  "value": 0
                 },
                 "index": {
                  "id": "3763133531109475514",
                  "sync": true,
                  "value": 1
                 }
                },
                "systemjs_options": null
               },
               "nodeType": "Scope",
               "props": {},
               "type": "node"
              }
             ],
             "instanceArgs": {
              "namespace": "html",
              "tag": "div"
             },
             "nodeType": "DOM",
             "props": {
              "className": "field interact-widget"
             },
             "type": "node"
            },
            {
             "children": [
              {
               "children": [
                {
                 "children": [
                  {
                   "children": [
                    {
                     "children": [
                      "scale"
                     ],
                     "instanceArgs": {
                      "namespace": "html",
                      "tag": "label"
                     },
                     "nodeType": "DOM",
                     "props": {
                      "className": "interact ",
                      "style": {
                       "padding": "5px 10px 0px 10px"
                      }
                     },
                     "type": "node"
                    }
                   ],
                   "instanceArgs": {
                    "namespace": "html",
                    "tag": "div"
                   },
                   "nodeType": "DOM",
                   "props": {
                    "className": "interact-flex-row-left"
                   },
                   "type": "node"
                  },
                  {
                   "children": [
                    {
                     "children": [],
                     "instanceArgs": {
                      "namespace": "html",
                      "tag": "input"
                     },
                     "nodeType": "DOM",
                     "props": {
                      "attributes": {
                       "data-bind": "numericValue: index, valueUpdate: 'input', event: {change: function (){this.changes(this.changes()+1)}}",
                       "orient": "horizontal",
                       "type": "range"
                      },
                      "className": "slider slider is-fullwidth",
                      "max": 20,
                      "min": 1,
                      "step": 1,
                      "style": {}
                     },
                     "type": "node"
                    }
                   ],
                   "instanceArgs": {
                    "namespace": "html",
                    "tag": "div"
                   },
                   "nodeType": "DOM",
                   "props": {
                    "className": "interact-flex-row-center"
                   },
                   "type": "node"
                  },
                  {
                   "children": [
                    {
                     "children": [],
                     "instanceArgs": {
                      "namespace": "html",
                      "tag": "p"
                     },
                     "nodeType": "DOM",
                     "props": {
                      "attributes": {
                       "data-bind": "text: formatted_val"
                      }
                     },
                     "type": "node"
                    }
                   ],
                   "instanceArgs": {
                    "namespace": "html",
                    "tag": "div"
                   },
                   "nodeType": "DOM",
                   "props": {
                    "className": "interact-flex-row-right"
                   },
                   "type": "node"
                  }
                 ],
                 "instanceArgs": {
                  "namespace": "html",
                  "tag": "div"
                 },
                 "nodeType": "DOM",
                 "props": {
                  "className": "interact-flex-row interact-widget"
                 },
                 "type": "node"
                }
               ],
               "instanceArgs": {
                "handlers": {
                 "changes": [
                  "(function (val){return (val!=this.model[\"changes\"]()) ? (this.valueFromJulia[\"changes\"]=true, this.model[\"changes\"](val)) : undefined})"
                 ],
                 "index": [
                  "(function (val){return (val!=this.model[\"index\"]()) ? (this.valueFromJulia[\"index\"]=true, this.model[\"index\"](val)) : undefined})"
                 ]
                },
                "id": "17884626374392431139",
                "imports": {
                 "data": [
                  {
                   "name": "knockout",
                   "type": "js",
                   "url": "/assetserver/727383f2a47bd31570b7da84eee7b022dd6d7c78-knockout.js"
                  },
                  {
                   "name": "knockout_punches",
                   "type": "js",
                   "url": "/assetserver/382b41b3b1bd9f26f75861d360bad7f8beea211f-knockout_punches.js"
                  },
                  {
                   "name": null,
                   "type": "js",
                   "url": "/assetserver/5ab20f1060420992a9b82a65b735dee4d81ef413-all.js"
                  },
                  {
                   "name": null,
                   "type": "css",
                   "url": "/assetserver/1cc0ed62837210b80a182cc3676512f895dab686-style.css"
                  },
                  {
                   "name": null,
                   "type": "css",
                   "url": "/assetserver/2eee816f616df3549d7044d45e744fbf8d42bfa1-bulma_confined.min.css"
                  }
                 ],
                 "type": "async_block"
                },
                "mount_callbacks": [
                 "function () {\n    var handler = (function (ko, koPunches) {\n    ko.punches.enableAll();\n    ko.bindingHandlers.numericValue = {\n        init: function(element, valueAccessor, allBindings, data, context) {\n            var stringified = ko.observable(ko.unwrap(valueAccessor()));\n            stringified.subscribe(function(value) {\n                var val = parseFloat(value);\n                if (!isNaN(val)) {\n                    valueAccessor()(val);\n                }\n            });\n            valueAccessor().subscribe(function(value) {\n                var str = JSON.stringify(value);\n                if ((str == \"0\") && ([\"-0\", \"-0.\"].indexOf(stringified()) >= 0))\n                     return;\n                 if ([\"null\", \"\"].indexOf(str) >= 0)\n                     return;\n                stringified(str);\n            });\n            ko.applyBindingsToNode(\n                element,\n                {\n                    value: stringified,\n                    valueUpdate: allBindings.get('valueUpdate'),\n                },\n                context,\n            );\n        }\n    };\n    var json_data = {\"formatted_vals\":[\"0.1\",\"0.2\",\"0.3\",\"0.4\",\"0.5\",\"0.6\",\"0.7\",\"0.8\",\"0.9\",\"1.0\",\"1.1\",\"1.2\",\"1.3\",\"1.4\",\"1.5\",\"1.6\",\"1.7\",\"1.8\",\"1.9\",\"2.0\"],\"changes\":WebIO.getval({\"name\":\"changes\",\"scope\":\"17884626374392431139\",\"id\":\"17380165746979222786\",\"type\":\"observable\"}),\"index\":WebIO.getval({\"name\":\"index\",\"scope\":\"17884626374392431139\",\"id\":\"10775394748698588142\",\"type\":\"observable\"})};\n    var self = this;\n    function AppViewModel() {\n        for (var key in json_data) {\n            var el = json_data[key];\n            this[key] = Array.isArray(el) ? ko.observableArray(el) : ko.observable(el);\n        }\n        \n        [this[\"formatted_val\"]=ko.computed(    function(){\n        return this.formatted_vals()[parseInt(this.index())-(1)];\n    }\n,this)]\n        [this[\"changes\"].subscribe((function (val){!(this.valueFromJulia[\"changes\"]) ? (WebIO.setval({\"name\":\"changes\",\"scope\":\"17884626374392431139\",\"id\":\"17380165746979222786\",\"type\":\"observable\"},val)) : undefined; return this.valueFromJulia[\"changes\"]=false}),self),this[\"index\"].subscribe((function (val){!(this.valueFromJulia[\"index\"]) ? (WebIO.setval({\"name\":\"index\",\"scope\":\"17884626374392431139\",\"id\":\"10775394748698588142\",\"type\":\"observable\"},val)) : undefined; return this.valueFromJulia[\"index\"]=false}),self)]\n        \n    }\n    self.model = new AppViewModel();\n    self.valueFromJulia = {};\n    for (var key in json_data) {\n        self.valueFromJulia[key] = false;\n    }\n    ko.applyBindings(self.model, self.dom);\n}\n);\n    (WebIO.importBlock({\"data\":[{\"name\":\"knockout\",\"type\":\"js\",\"url\":\"/assetserver/727383f2a47bd31570b7da84eee7b022dd6d7c78-knockout.js\"},{\"name\":\"knockout_punches\",\"type\":\"js\",\"url\":\"/assetserver/382b41b3b1bd9f26f75861d360bad7f8beea211f-knockout_punches.js\"}],\"type\":\"async_block\"})).then((imports) => handler.apply(this, imports));\n}\n"
                ],
                "observables": {
                 "changes": {
                  "id": "17380165746979222786",
                  "sync": false,
                  "value": 0
                 },
                 "index": {
                  "id": "10775394748698588142",
                  "sync": true,
                  "value": 10
                 }
                },
                "systemjs_options": null
               },
               "nodeType": "Scope",
               "props": {},
               "type": "node"
              }
             ],
             "instanceArgs": {
              "namespace": "html",
              "tag": "div"
             },
             "nodeType": "DOM",
             "props": {
              "className": "field interact-widget"
             },
             "type": "node"
            },
            {
             "children": [],
             "instanceArgs": {
              "namespace": "html",
              "tag": "div"
             },
             "nodeType": "DOM",
             "props": {
              "style": {
               "display": "flex",
               "flex-direction": "column"
              }
             },
             "type": "node"
            },
            {
             "children": [
              {
               "children": [
                {
                 "children": [
                  {
                   "children": [
                    {
                     "children": [
                      {
                       "children": [
                        "min_dis"
                       ],
                       "instanceArgs": {
                        "namespace": "html",
                        "tag": "label"
                       },
                       "nodeType": "DOM",
                       "props": {
                        "className": "interact ",
                        "style": {
                         "padding": "5px 10px 0px 10px"
                        }
                       },
                       "type": "node"
                      }
                     ],
                     "instanceArgs": {
                      "namespace": "html",
                      "tag": "div"
                     },
                     "nodeType": "DOM",
                     "props": {
                      "className": "interact-flex-row-left"
                     },
                     "type": "node"
                    },
                    {
                     "children": [
                      {
                       "children": [],
                       "instanceArgs": {
                        "namespace": "html",
                        "tag": "input"
                       },
                       "nodeType": "DOM",
                       "props": {
                        "attributes": {
                         "data-bind": "numericValue: index, valueUpdate: 'input', event: {change: function (){this.changes(this.changes()+1)}}",
                         "orient": "horizontal",
                         "type": "range"
                        },
                        "className": "slider slider is-fullwidth",
                        "max": 10,
                        "min": 1,
                        "step": 1,
                        "style": {}
                       },
                       "type": "node"
                      }
                     ],
                     "instanceArgs": {
                      "namespace": "html",
                      "tag": "div"
                     },
                     "nodeType": "DOM",
                     "props": {
                      "className": "interact-flex-row-center"
                     },
                     "type": "node"
                    },
                    {
                     "children": [
                      {
                       "children": [],
                       "instanceArgs": {
                        "namespace": "html",
                        "tag": "p"
                       },
                       "nodeType": "DOM",
                       "props": {
                        "attributes": {
                         "data-bind": "text: formatted_val"
                        }
                       },
                       "type": "node"
                      }
                     ],
                     "instanceArgs": {
                      "namespace": "html",
                      "tag": "div"
                     },
                     "nodeType": "DOM",
                     "props": {
                      "className": "interact-flex-row-right"
                     },
                     "type": "node"
                    }
                   ],
                   "instanceArgs": {
                    "namespace": "html",
                    "tag": "div"
                   },
                   "nodeType": "DOM",
                   "props": {
                    "className": "interact-flex-row interact-widget"
                   },
                   "type": "node"
                  }
                 ],
                 "instanceArgs": {
                  "handlers": {
                   "changes": [
                    "(function (val){return (val!=this.model[\"changes\"]()) ? (this.valueFromJulia[\"changes\"]=true, this.model[\"changes\"](val)) : undefined})"
                   ],
                   "index": [
                    "(function (val){return (val!=this.model[\"index\"]()) ? (this.valueFromJulia[\"index\"]=true, this.model[\"index\"](val)) : undefined})"
                   ]
                  },
                  "id": "13478211100280388559",
                  "imports": {
                   "data": [
                    {
                     "name": "knockout",
                     "type": "js",
                     "url": "/assetserver/727383f2a47bd31570b7da84eee7b022dd6d7c78-knockout.js"
                    },
                    {
                     "name": "knockout_punches",
                     "type": "js",
                     "url": "/assetserver/382b41b3b1bd9f26f75861d360bad7f8beea211f-knockout_punches.js"
                    },
                    {
                     "name": null,
                     "type": "js",
                     "url": "/assetserver/5ab20f1060420992a9b82a65b735dee4d81ef413-all.js"
                    },
                    {
                     "name": null,
                     "type": "css",
                     "url": "/assetserver/1cc0ed62837210b80a182cc3676512f895dab686-style.css"
                    },
                    {
                     "name": null,
                     "type": "css",
                     "url": "/assetserver/2eee816f616df3549d7044d45e744fbf8d42bfa1-bulma_confined.min.css"
                    }
                   ],
                   "type": "async_block"
                  },
                  "mount_callbacks": [
                   "function () {\n    var handler = (function (ko, koPunches) {\n    ko.punches.enableAll();\n    ko.bindingHandlers.numericValue = {\n        init: function(element, valueAccessor, allBindings, data, context) {\n            var stringified = ko.observable(ko.unwrap(valueAccessor()));\n            stringified.subscribe(function(value) {\n                var val = parseFloat(value);\n                if (!isNaN(val)) {\n                    valueAccessor()(val);\n                }\n            });\n            valueAccessor().subscribe(function(value) {\n                var str = JSON.stringify(value);\n                if ((str == \"0\") && ([\"-0\", \"-0.\"].indexOf(stringified()) >= 0))\n                     return;\n                 if ([\"null\", \"\"].indexOf(str) >= 0)\n                     return;\n                stringified(str);\n            });\n            ko.applyBindingsToNode(\n                element,\n                {\n                    value: stringified,\n                    valueUpdate: allBindings.get('valueUpdate'),\n                },\n                context,\n            );\n        }\n    };\n    var json_data = {\"formatted_vals\":[\"0.01\",\"0.11\",\"0.21\",\"0.31\",\"0.41\",\"0.51\",\"0.61\",\"0.71\",\"0.81\",\"0.91\"],\"changes\":WebIO.getval({\"name\":\"changes\",\"scope\":\"13478211100280388559\",\"id\":\"3441468999072348406\",\"type\":\"observable\"}),\"index\":WebIO.getval({\"name\":\"index\",\"scope\":\"13478211100280388559\",\"id\":\"7532262856772079327\",\"type\":\"observable\"})};\n    var self = this;\n    function AppViewModel() {\n        for (var key in json_data) {\n            var el = json_data[key];\n            this[key] = Array.isArray(el) ? ko.observableArray(el) : ko.observable(el);\n        }\n        \n        [this[\"formatted_val\"]=ko.computed(    function(){\n        return this.formatted_vals()[parseInt(this.index())-(1)];\n    }\n,this)]\n        [this[\"changes\"].subscribe((function (val){!(this.valueFromJulia[\"changes\"]) ? (WebIO.setval({\"name\":\"changes\",\"scope\":\"13478211100280388559\",\"id\":\"3441468999072348406\",\"type\":\"observable\"},val)) : undefined; return this.valueFromJulia[\"changes\"]=false}),self),this[\"index\"].subscribe((function (val){!(this.valueFromJulia[\"index\"]) ? (WebIO.setval({\"name\":\"index\",\"scope\":\"13478211100280388559\",\"id\":\"7532262856772079327\",\"type\":\"observable\"},val)) : undefined; return this.valueFromJulia[\"index\"]=false}),self)]\n        \n    }\n    self.model = new AppViewModel();\n    self.valueFromJulia = {};\n    for (var key in json_data) {\n        self.valueFromJulia[key] = false;\n    }\n    ko.applyBindings(self.model, self.dom);\n}\n);\n    (WebIO.importBlock({\"data\":[{\"name\":\"knockout\",\"type\":\"js\",\"url\":\"/assetserver/727383f2a47bd31570b7da84eee7b022dd6d7c78-knockout.js\"},{\"name\":\"knockout_punches\",\"type\":\"js\",\"url\":\"/assetserver/382b41b3b1bd9f26f75861d360bad7f8beea211f-knockout_punches.js\"}],\"type\":\"async_block\"})).then((imports) => handler.apply(this, imports));\n}\n"
                  ],
                  "observables": {
                   "changes": {
                    "id": "3441468999072348406",
                    "sync": false,
                    "value": 0
                   },
                   "index": {
                    "id": "7532262856772079327",
                    "sync": true,
                    "value": 5
                   }
                  },
                  "systemjs_options": null
                 },
                 "nodeType": "Scope",
                 "props": {},
                 "type": "node"
                }
               ],
               "instanceArgs": {
                "namespace": "html",
                "tag": "div"
               },
               "nodeType": "DOM",
               "props": {
                "className": "field interact-widget"
               },
               "type": "node"
              },
              {
               "children": [
                {
                 "children": [
                  {
                   "children": [
                    {
                     "children": [
                      {
                       "children": [
                        "coh_fac"
                       ],
                       "instanceArgs": {
                        "namespace": "html",
                        "tag": "label"
                       },
                       "nodeType": "DOM",
                       "props": {
                        "className": "interact ",
                        "style": {
                         "padding": "5px 10px 0px 10px"
                        }
                       },
                       "type": "node"
                      }
                     ],
                     "instanceArgs": {
                      "namespace": "html",
                      "tag": "div"
                     },
                     "nodeType": "DOM",
                     "props": {
                      "className": "interact-flex-row-left"
                     },
                     "type": "node"
                    },
                    {
                     "children": [
                      {
                       "children": [],
                       "instanceArgs": {
                        "namespace": "html",
                        "tag": "input"
                       },
                       "nodeType": "DOM",
                       "props": {
                        "attributes": {
                         "data-bind": "numericValue: index, valueUpdate: 'input', event: {change: function (){this.changes(this.changes()+1)}}",
                         "orient": "horizontal",
                         "type": "range"
                        },
                        "className": "slider slider is-fullwidth",
                        "max": 100,
                        "min": 1,
                        "step": 1,
                        "style": {}
                       },
                       "type": "node"
                      }
                     ],
                     "instanceArgs": {
                      "namespace": "html",
                      "tag": "div"
                     },
                     "nodeType": "DOM",
                     "props": {
                      "className": "interact-flex-row-center"
                     },
                     "type": "node"
                    },
                    {
                     "children": [
                      {
                       "children": [],
                       "instanceArgs": {
                        "namespace": "html",
                        "tag": "p"
                       },
                       "nodeType": "DOM",
                       "props": {
                        "attributes": {
                         "data-bind": "text: formatted_val"
                        }
                       },
                       "type": "node"
                      }
                     ],
                     "instanceArgs": {
                      "namespace": "html",
                      "tag": "div"
                     },
                     "nodeType": "DOM",
                     "props": {
                      "className": "interact-flex-row-right"
                     },
                     "type": "node"
                    }
                   ],
                   "instanceArgs": {
                    "namespace": "html",
                    "tag": "div"
                   },
                   "nodeType": "DOM",
                   "props": {
                    "className": "interact-flex-row interact-widget"
                   },
                   "type": "node"
                  }
                 ],
                 "instanceArgs": {
                  "handlers": {
                   "changes": [
                    "(function (val){return (val!=this.model[\"changes\"]()) ? (this.valueFromJulia[\"changes\"]=true, this.model[\"changes\"](val)) : undefined})"
                   ],
                   "index": [
                    "(function (val){return (val!=this.model[\"index\"]()) ? (this.valueFromJulia[\"index\"]=true, this.model[\"index\"](val)) : undefined})"
                   ]
                  },
                  "id": "14668879760894981148",
                  "imports": {
                   "data": [
                    {
                     "name": "knockout",
                     "type": "js",
                     "url": "/assetserver/727383f2a47bd31570b7da84eee7b022dd6d7c78-knockout.js"
                    },
                    {
                     "name": "knockout_punches",
                     "type": "js",
                     "url": "/assetserver/382b41b3b1bd9f26f75861d360bad7f8beea211f-knockout_punches.js"
                    },
                    {
                     "name": null,
                     "type": "js",
                     "url": "/assetserver/5ab20f1060420992a9b82a65b735dee4d81ef413-all.js"
                    },
                    {
                     "name": null,
                     "type": "css",
                     "url": "/assetserver/1cc0ed62837210b80a182cc3676512f895dab686-style.css"
                    },
                    {
                     "name": null,
                     "type": "css",
                     "url": "/assetserver/2eee816f616df3549d7044d45e744fbf8d42bfa1-bulma_confined.min.css"
                    }
                   ],
                   "type": "async_block"
                  },
                  "mount_callbacks": [
                   "function () {\n    var handler = (function (ko, koPunches) {\n    ko.punches.enableAll();\n    ko.bindingHandlers.numericValue = {\n        init: function(element, valueAccessor, allBindings, data, context) {\n            var stringified = ko.observable(ko.unwrap(valueAccessor()));\n            stringified.subscribe(function(value) {\n                var val = parseFloat(value);\n                if (!isNaN(val)) {\n                    valueAccessor()(val);\n                }\n            });\n            valueAccessor().subscribe(function(value) {\n                var str = JSON.stringify(value);\n                if ((str == \"0\") && ([\"-0\", \"-0.\"].indexOf(stringified()) >= 0))\n                     return;\n                 if ([\"null\", \"\"].indexOf(str) >= 0)\n                     return;\n                stringified(str);\n            });\n            ko.applyBindingsToNode(\n                element,\n                {\n                    value: stringified,\n                    valueUpdate: allBindings.get('valueUpdate'),\n                },\n                context,\n            );\n        }\n    };\n    var json_data = {\"formatted_vals\":[\"0.01\",\"0.02\",\"0.03\",\"0.04\",\"0.05\",\"0.06\",\"0.07\",\"0.08\",\"0.09\",\"0.1\",\"0.11\",\"0.12\",\"0.13\",\"0.14\",\"0.15\",\"0.16\",\"0.17\",\"0.18\",\"0.19\",\"0.2\",\"0.21\",\"0.22\",\"0.23\",\"0.24\",\"0.25\",\"0.26\",\"0.27\",\"0.28\",\"0.29\",\"0.3\",\"0.31\",\"0.32\",\"0.33\",\"0.34\",\"0.35\",\"0.36\",\"0.37\",\"0.38\",\"0.39\",\"0.4\",\"0.41\",\"0.42\",\"0.43\",\"0.44\",\"0.45\",\"0.46\",\"0.47\",\"0.48\",\"0.49\",\"0.5\",\"0.51\",\"0.52\",\"0.53\",\"0.54\",\"0.55\",\"0.56\",\"0.57\",\"0.58\",\"0.59\",\"0.6\",\"0.61\",\"0.62\",\"0.63\",\"0.64\",\"0.65\",\"0.66\",\"0.67\",\"0.68\",\"0.69\",\"0.7\",\"0.71\",\"0.72\",\"0.73\",\"0.74\",\"0.75\",\"0.76\",\"0.77\",\"0.78\",\"0.79\",\"0.8\",\"0.81\",\"0.82\",\"0.83\",\"0.84\",\"0.85\",\"0.86\",\"0.87\",\"0.88\",\"0.89\",\"0.9\",\"0.91\",\"0.92\",\"0.93\",\"0.94\",\"0.95\",\"0.96\",\"0.97\",\"0.98\",\"0.99\",\"1.0\"],\"changes\":WebIO.getval({\"name\":\"changes\",\"scope\":\"14668879760894981148\",\"id\":\"8891173662849935234\",\"type\":\"observable\"}),\"index\":WebIO.getval({\"name\":\"index\",\"scope\":\"14668879760894981148\",\"id\":\"4021340093117662090\",\"type\":\"observable\"})};\n    var self = this;\n    function AppViewModel() {\n        for (var key in json_data) {\n            var el = json_data[key];\n            this[key] = Array.isArray(el) ? ko.observableArray(el) : ko.observable(el);\n        }\n        \n        [this[\"formatted_val\"]=ko.computed(    function(){\n        return this.formatted_vals()[parseInt(this.index())-(1)];\n    }\n,this)]\n        [this[\"changes\"].subscribe((function (val){!(this.valueFromJulia[\"changes\"]) ? (WebIO.setval({\"name\":\"changes\",\"scope\":\"14668879760894981148\",\"id\":\"8891173662849935234\",\"type\":\"observable\"},val)) : undefined; return this.valueFromJulia[\"changes\"]=false}),self),this[\"index\"].subscribe((function (val){!(this.valueFromJulia[\"index\"]) ? (WebIO.setval({\"name\":\"index\",\"scope\":\"14668879760894981148\",\"id\":\"4021340093117662090\",\"type\":\"observable\"},val)) : undefined; return this.valueFromJulia[\"index\"]=false}),self)]\n        \n    }\n    self.model = new AppViewModel();\n    self.valueFromJulia = {};\n    for (var key in json_data) {\n        self.valueFromJulia[key] = false;\n    }\n    ko.applyBindings(self.model, self.dom);\n}\n);\n    (WebIO.importBlock({\"data\":[{\"name\":\"knockout\",\"type\":\"js\",\"url\":\"/assetserver/727383f2a47bd31570b7da84eee7b022dd6d7c78-knockout.js\"},{\"name\":\"knockout_punches\",\"type\":\"js\",\"url\":\"/assetserver/382b41b3b1bd9f26f75861d360bad7f8beea211f-knockout_punches.js\"}],\"type\":\"async_block\"})).then((imports) => handler.apply(this, imports));\n}\n"
                  ],
                  "observables": {
                   "changes": {
                    "id": "8891173662849935234",
                    "sync": false,
                    "value": 0
                   },
                   "index": {
                    "id": "4021340093117662090",
                    "sync": true,
                    "value": 50
                   }
                  },
                  "systemjs_options": null
                 },
                 "nodeType": "Scope",
                 "props": {},
                 "type": "node"
                }
               ],
               "instanceArgs": {
                "namespace": "html",
                "tag": "div"
               },
               "nodeType": "DOM",
               "props": {
                "className": "field interact-widget"
               },
               "type": "node"
              },
              {
               "children": [
                {
                 "children": [
                  {
                   "children": [
                    {
                     "children": [
                      {
                       "children": [
                        "sep_fac"
                       ],
                       "instanceArgs": {
                        "namespace": "html",
                        "tag": "label"
                       },
                       "nodeType": "DOM",
                       "props": {
                        "className": "interact ",
                        "style": {
                         "padding": "5px 10px 0px 10px"
                        }
                       },
                       "type": "node"
                      }
                     ],
                     "instanceArgs": {
                      "namespace": "html",
                      "tag": "div"
                     },
                     "nodeType": "DOM",
                     "props": {
                      "className": "interact-flex-row-left"
                     },
                     "type": "node"
                    },
                    {
                     "children": [
                      {
                       "children": [],
                       "instanceArgs": {
                        "namespace": "html",
                        "tag": "input"
                       },
                       "nodeType": "DOM",
                       "props": {
                        "attributes": {
                         "data-bind": "numericValue: index, valueUpdate: 'input', event: {change: function (){this.changes(this.changes()+1)}}",
                         "orient": "horizontal",
                         "type": "range"
                        },
                        "className": "slider slider is-fullwidth",
                        "max": 100,
                        "min": 1,
                        "step": 1,
                        "style": {}
                       },
                       "type": "node"
                      }
                     ],
                     "instanceArgs": {
                      "namespace": "html",
                      "tag": "div"
                     },
                     "nodeType": "DOM",
                     "props": {
                      "className": "interact-flex-row-center"
                     },
                     "type": "node"
                    },
                    {
                     "children": [
                      {
                       "children": [],
                       "instanceArgs": {
                        "namespace": "html",
                        "tag": "p"
                       },
                       "nodeType": "DOM",
                       "props": {
                        "attributes": {
                         "data-bind": "text: formatted_val"
                        }
                       },
                       "type": "node"
                      }
                     ],
                     "instanceArgs": {
                      "namespace": "html",
                      "tag": "div"
                     },
                     "nodeType": "DOM",
                     "props": {
                      "className": "interact-flex-row-right"
                     },
                     "type": "node"
                    }
                   ],
                   "instanceArgs": {
                    "namespace": "html",
                    "tag": "div"
                   },
                   "nodeType": "DOM",
                   "props": {
                    "className": "interact-flex-row interact-widget"
                   },
                   "type": "node"
                  }
                 ],
                 "instanceArgs": {
                  "handlers": {
                   "changes": [
                    "(function (val){return (val!=this.model[\"changes\"]()) ? (this.valueFromJulia[\"changes\"]=true, this.model[\"changes\"](val)) : undefined})"
                   ],
                   "index": [
                    "(function (val){return (val!=this.model[\"index\"]()) ? (this.valueFromJulia[\"index\"]=true, this.model[\"index\"](val)) : undefined})"
                   ]
                  },
                  "id": "7489018589941826594",
                  "imports": {
                   "data": [
                    {
                     "name": "knockout",
                     "type": "js",
                     "url": "/assetserver/727383f2a47bd31570b7da84eee7b022dd6d7c78-knockout.js"
                    },
                    {
                     "name": "knockout_punches",
                     "type": "js",
                     "url": "/assetserver/382b41b3b1bd9f26f75861d360bad7f8beea211f-knockout_punches.js"
                    },
                    {
                     "name": null,
                     "type": "js",
                     "url": "/assetserver/5ab20f1060420992a9b82a65b735dee4d81ef413-all.js"
                    },
                    {
                     "name": null,
                     "type": "css",
                     "url": "/assetserver/1cc0ed62837210b80a182cc3676512f895dab686-style.css"
                    },
                    {
                     "name": null,
                     "type": "css",
                     "url": "/assetserver/2eee816f616df3549d7044d45e744fbf8d42bfa1-bulma_confined.min.css"
                    }
                   ],
                   "type": "async_block"
                  },
                  "mount_callbacks": [
                   "function () {\n    var handler = (function (ko, koPunches) {\n    ko.punches.enableAll();\n    ko.bindingHandlers.numericValue = {\n        init: function(element, valueAccessor, allBindings, data, context) {\n            var stringified = ko.observable(ko.unwrap(valueAccessor()));\n            stringified.subscribe(function(value) {\n                var val = parseFloat(value);\n                if (!isNaN(val)) {\n                    valueAccessor()(val);\n                }\n            });\n            valueAccessor().subscribe(function(value) {\n                var str = JSON.stringify(value);\n                if ((str == \"0\") && ([\"-0\", \"-0.\"].indexOf(stringified()) >= 0))\n                     return;\n                 if ([\"null\", \"\"].indexOf(str) >= 0)\n                     return;\n                stringified(str);\n            });\n            ko.applyBindingsToNode(\n                element,\n                {\n                    value: stringified,\n                    valueUpdate: allBindings.get('valueUpdate'),\n                },\n                context,\n            );\n        }\n    };\n    var json_data = {\"formatted_vals\":[\"0.01\",\"0.02\",\"0.03\",\"0.04\",\"0.05\",\"0.06\",\"0.07\",\"0.08\",\"0.09\",\"0.1\",\"0.11\",\"0.12\",\"0.13\",\"0.14\",\"0.15\",\"0.16\",\"0.17\",\"0.18\",\"0.19\",\"0.2\",\"0.21\",\"0.22\",\"0.23\",\"0.24\",\"0.25\",\"0.26\",\"0.27\",\"0.28\",\"0.29\",\"0.3\",\"0.31\",\"0.32\",\"0.33\",\"0.34\",\"0.35\",\"0.36\",\"0.37\",\"0.38\",\"0.39\",\"0.4\",\"0.41\",\"0.42\",\"0.43\",\"0.44\",\"0.45\",\"0.46\",\"0.47\",\"0.48\",\"0.49\",\"0.5\",\"0.51\",\"0.52\",\"0.53\",\"0.54\",\"0.55\",\"0.56\",\"0.57\",\"0.58\",\"0.59\",\"0.6\",\"0.61\",\"0.62\",\"0.63\",\"0.64\",\"0.65\",\"0.66\",\"0.67\",\"0.68\",\"0.69\",\"0.7\",\"0.71\",\"0.72\",\"0.73\",\"0.74\",\"0.75\",\"0.76\",\"0.77\",\"0.78\",\"0.79\",\"0.8\",\"0.81\",\"0.82\",\"0.83\",\"0.84\",\"0.85\",\"0.86\",\"0.87\",\"0.88\",\"0.89\",\"0.9\",\"0.91\",\"0.92\",\"0.93\",\"0.94\",\"0.95\",\"0.96\",\"0.97\",\"0.98\",\"0.99\",\"1.0\"],\"changes\":WebIO.getval({\"name\":\"changes\",\"scope\":\"7489018589941826594\",\"id\":\"11616407531716219145\",\"type\":\"observable\"}),\"index\":WebIO.getval({\"name\":\"index\",\"scope\":\"7489018589941826594\",\"id\":\"14746755384135944275\",\"type\":\"observable\"})};\n    var self = this;\n    function AppViewModel() {\n        for (var key in json_data) {\n            var el = json_data[key];\n            this[key] = Array.isArray(el) ? ko.observableArray(el) : ko.observable(el);\n        }\n        \n        [this[\"formatted_val\"]=ko.computed(    function(){\n        return this.formatted_vals()[parseInt(this.index())-(1)];\n    }\n,this)]\n        [this[\"changes\"].subscribe((function (val){!(this.valueFromJulia[\"changes\"]) ? (WebIO.setval({\"name\":\"changes\",\"scope\":\"7489018589941826594\",\"id\":\"11616407531716219145\",\"type\":\"observable\"},val)) : undefined; return this.valueFromJulia[\"changes\"]=false}),self),this[\"index\"].subscribe((function (val){!(this.valueFromJulia[\"index\"]) ? (WebIO.setval({\"name\":\"index\",\"scope\":\"7489018589941826594\",\"id\":\"14746755384135944275\",\"type\":\"observable\"},val)) : undefined; return this.valueFromJulia[\"index\"]=false}),self)]\n        \n    }\n    self.model = new AppViewModel();\n    self.valueFromJulia = {};\n    for (var key in json_data) {\n        self.valueFromJulia[key] = false;\n    }\n    ko.applyBindings(self.model, self.dom);\n}\n);\n    (WebIO.importBlock({\"data\":[{\"name\":\"knockout\",\"type\":\"js\",\"url\":\"/assetserver/727383f2a47bd31570b7da84eee7b022dd6d7c78-knockout.js\"},{\"name\":\"knockout_punches\",\"type\":\"js\",\"url\":\"/assetserver/382b41b3b1bd9f26f75861d360bad7f8beea211f-knockout_punches.js\"}],\"type\":\"async_block\"})).then((imports) => handler.apply(this, imports));\n}\n"
                  ],
                  "observables": {
                   "changes": {
                    "id": "11616407531716219145",
                    "sync": false,
                    "value": 0
                   },
                   "index": {
                    "id": "14746755384135944275",
                    "sync": true,
                    "value": 50
                   }
                  },
                  "systemjs_options": null
                 },
                 "nodeType": "Scope",
                 "props": {},
                 "type": "node"
                }
               ],
               "instanceArgs": {
                "namespace": "html",
                "tag": "div"
               },
               "nodeType": "DOM",
               "props": {
                "className": "field interact-widget"
               },
               "type": "node"
              },
              {
               "children": [
                {
                 "children": [
                  {
                   "children": [
                    {
                     "children": [
                      {
                       "children": [
                        "aln_fac"
                       ],
                       "instanceArgs": {
                        "namespace": "html",
                        "tag": "label"
                       },
                       "nodeType": "DOM",
                       "props": {
                        "className": "interact ",
                        "style": {
                         "padding": "5px 10px 0px 10px"
                        }
                       },
                       "type": "node"
                      }
                     ],
                     "instanceArgs": {
                      "namespace": "html",
                      "tag": "div"
                     },
                     "nodeType": "DOM",
                     "props": {
                      "className": "interact-flex-row-left"
                     },
                     "type": "node"
                    },
                    {
                     "children": [
                      {
                       "children": [],
                       "instanceArgs": {
                        "namespace": "html",
                        "tag": "input"
                       },
                       "nodeType": "DOM",
                       "props": {
                        "attributes": {
                         "data-bind": "numericValue: index, valueUpdate: 'input', event: {change: function (){this.changes(this.changes()+1)}}",
                         "orient": "horizontal",
                         "type": "range"
                        },
                        "className": "slider slider is-fullwidth",
                        "max": 100,
                        "min": 1,
                        "step": 1,
                        "style": {}
                       },
                       "type": "node"
                      }
                     ],
                     "instanceArgs": {
                      "namespace": "html",
                      "tag": "div"
                     },
                     "nodeType": "DOM",
                     "props": {
                      "className": "interact-flex-row-center"
                     },
                     "type": "node"
                    },
                    {
                     "children": [
                      {
                       "children": [],
                       "instanceArgs": {
                        "namespace": "html",
                        "tag": "p"
                       },
                       "nodeType": "DOM",
                       "props": {
                        "attributes": {
                         "data-bind": "text: formatted_val"
                        }
                       },
                       "type": "node"
                      }
                     ],
                     "instanceArgs": {
                      "namespace": "html",
                      "tag": "div"
                     },
                     "nodeType": "DOM",
                     "props": {
                      "className": "interact-flex-row-right"
                     },
                     "type": "node"
                    }
                   ],
                   "instanceArgs": {
                    "namespace": "html",
                    "tag": "div"
                   },
                   "nodeType": "DOM",
                   "props": {
                    "className": "interact-flex-row interact-widget"
                   },
                   "type": "node"
                  }
                 ],
                 "instanceArgs": {
                  "handlers": {
                   "changes": [
                    "(function (val){return (val!=this.model[\"changes\"]()) ? (this.valueFromJulia[\"changes\"]=true, this.model[\"changes\"](val)) : undefined})"
                   ],
                   "index": [
                    "(function (val){return (val!=this.model[\"index\"]()) ? (this.valueFromJulia[\"index\"]=true, this.model[\"index\"](val)) : undefined})"
                   ]
                  },
                  "id": "13122251597967125135",
                  "imports": {
                   "data": [
                    {
                     "name": "knockout",
                     "type": "js",
                     "url": "/assetserver/727383f2a47bd31570b7da84eee7b022dd6d7c78-knockout.js"
                    },
                    {
                     "name": "knockout_punches",
                     "type": "js",
                     "url": "/assetserver/382b41b3b1bd9f26f75861d360bad7f8beea211f-knockout_punches.js"
                    },
                    {
                     "name": null,
                     "type": "js",
                     "url": "/assetserver/5ab20f1060420992a9b82a65b735dee4d81ef413-all.js"
                    },
                    {
                     "name": null,
                     "type": "css",
                     "url": "/assetserver/1cc0ed62837210b80a182cc3676512f895dab686-style.css"
                    },
                    {
                     "name": null,
                     "type": "css",
                     "url": "/assetserver/2eee816f616df3549d7044d45e744fbf8d42bfa1-bulma_confined.min.css"
                    }
                   ],
                   "type": "async_block"
                  },
                  "mount_callbacks": [
                   "function () {\n    var handler = (function (ko, koPunches) {\n    ko.punches.enableAll();\n    ko.bindingHandlers.numericValue = {\n        init: function(element, valueAccessor, allBindings, data, context) {\n            var stringified = ko.observable(ko.unwrap(valueAccessor()));\n            stringified.subscribe(function(value) {\n                var val = parseFloat(value);\n                if (!isNaN(val)) {\n                    valueAccessor()(val);\n                }\n            });\n            valueAccessor().subscribe(function(value) {\n                var str = JSON.stringify(value);\n                if ((str == \"0\") && ([\"-0\", \"-0.\"].indexOf(stringified()) >= 0))\n                     return;\n                 if ([\"null\", \"\"].indexOf(str) >= 0)\n                     return;\n                stringified(str);\n            });\n            ko.applyBindingsToNode(\n                element,\n                {\n                    value: stringified,\n                    valueUpdate: allBindings.get('valueUpdate'),\n                },\n                context,\n            );\n        }\n    };\n    var json_data = {\"formatted_vals\":[\"0.01\",\"0.02\",\"0.03\",\"0.04\",\"0.05\",\"0.06\",\"0.07\",\"0.08\",\"0.09\",\"0.1\",\"0.11\",\"0.12\",\"0.13\",\"0.14\",\"0.15\",\"0.16\",\"0.17\",\"0.18\",\"0.19\",\"0.2\",\"0.21\",\"0.22\",\"0.23\",\"0.24\",\"0.25\",\"0.26\",\"0.27\",\"0.28\",\"0.29\",\"0.3\",\"0.31\",\"0.32\",\"0.33\",\"0.34\",\"0.35\",\"0.36\",\"0.37\",\"0.38\",\"0.39\",\"0.4\",\"0.41\",\"0.42\",\"0.43\",\"0.44\",\"0.45\",\"0.46\",\"0.47\",\"0.48\",\"0.49\",\"0.5\",\"0.51\",\"0.52\",\"0.53\",\"0.54\",\"0.55\",\"0.56\",\"0.57\",\"0.58\",\"0.59\",\"0.6\",\"0.61\",\"0.62\",\"0.63\",\"0.64\",\"0.65\",\"0.66\",\"0.67\",\"0.68\",\"0.69\",\"0.7\",\"0.71\",\"0.72\",\"0.73\",\"0.74\",\"0.75\",\"0.76\",\"0.77\",\"0.78\",\"0.79\",\"0.8\",\"0.81\",\"0.82\",\"0.83\",\"0.84\",\"0.85\",\"0.86\",\"0.87\",\"0.88\",\"0.89\",\"0.9\",\"0.91\",\"0.92\",\"0.93\",\"0.94\",\"0.95\",\"0.96\",\"0.97\",\"0.98\",\"0.99\",\"1.0\"],\"changes\":WebIO.getval({\"name\":\"changes\",\"scope\":\"13122251597967125135\",\"id\":\"525239491390459444\",\"type\":\"observable\"}),\"index\":WebIO.getval({\"name\":\"index\",\"scope\":\"13122251597967125135\",\"id\":\"4228401149455001096\",\"type\":\"observable\"})};\n    var self = this;\n    function AppViewModel() {\n        for (var key in json_data) {\n            var el = json_data[key];\n            this[key] = Array.isArray(el) ? ko.observableArray(el) : ko.observable(el);\n        }\n        \n        [this[\"formatted_val\"]=ko.computed(    function(){\n        return this.formatted_vals()[parseInt(this.index())-(1)];\n    }\n,this)]\n        [this[\"changes\"].subscribe((function (val){!(this.valueFromJulia[\"changes\"]) ? (WebIO.setval({\"name\":\"changes\",\"scope\":\"13122251597967125135\",\"id\":\"525239491390459444\",\"type\":\"observable\"},val)) : undefined; return this.valueFromJulia[\"changes\"]=false}),self),this[\"index\"].subscribe((function (val){!(this.valueFromJulia[\"index\"]) ? (WebIO.setval({\"name\":\"index\",\"scope\":\"13122251597967125135\",\"id\":\"4228401149455001096\",\"type\":\"observable\"},val)) : undefined; return this.valueFromJulia[\"index\"]=false}),self)]\n        \n    }\n    self.model = new AppViewModel();\n    self.valueFromJulia = {};\n    for (var key in json_data) {\n        self.valueFromJulia[key] = false;\n    }\n    ko.applyBindings(self.model, self.dom);\n}\n);\n    (WebIO.importBlock({\"data\":[{\"name\":\"knockout\",\"type\":\"js\",\"url\":\"/assetserver/727383f2a47bd31570b7da84eee7b022dd6d7c78-knockout.js\"},{\"name\":\"knockout_punches\",\"type\":\"js\",\"url\":\"/assetserver/382b41b3b1bd9f26f75861d360bad7f8beea211f-knockout_punches.js\"}],\"type\":\"async_block\"})).then((imports) => handler.apply(this, imports));\n}\n"
                  ],
                  "observables": {
                   "changes": {
                    "id": "525239491390459444",
                    "sync": false,
                    "value": 0
                   },
                   "index": {
                    "id": "4228401149455001096",
                    "sync": true,
                    "value": 50
                   }
                  },
                  "systemjs_options": null
                 },
                 "nodeType": "Scope",
                 "props": {},
                 "type": "node"
                }
               ],
               "instanceArgs": {
                "namespace": "html",
                "tag": "div"
               },
               "nodeType": "DOM",
               "props": {
                "className": "field interact-widget"
               },
               "type": "node"
              },
              {
               "children": [
                {
                 "children": [
                  {
                   "children": [
                    {
                     "children": [
                      {
                       "children": [
                        "vis_range"
                       ],
                       "instanceArgs": {
                        "namespace": "html",
                        "tag": "label"
                       },
                       "nodeType": "DOM",
                       "props": {
                        "className": "interact ",
                        "style": {
                         "padding": "5px 10px 0px 10px"
                        }
                       },
                       "type": "node"
                      }
                     ],
                     "instanceArgs": {
                      "namespace": "html",
                      "tag": "div"
                     },
                     "nodeType": "DOM",
                     "props": {
                      "className": "interact-flex-row-left"
                     },
                     "type": "node"
                    },
                    {
                     "children": [
                      {
                       "children": [],
                       "instanceArgs": {
                        "namespace": "html",
                        "tag": "input"
                       },
                       "nodeType": "DOM",
                       "props": {
                        "attributes": {
                         "data-bind": "numericValue: index, valueUpdate: 'input', event: {change: function (){this.changes(this.changes()+1)}}",
                         "orient": "horizontal",
                         "type": "range"
                        },
                        "className": "slider slider is-fullwidth",
                        "max": 8,
                        "min": 1,
                        "step": 1,
                        "style": {}
                       },
                       "type": "node"
                      }
                     ],
                     "instanceArgs": {
                      "namespace": "html",
                      "tag": "div"
                     },
                     "nodeType": "DOM",
                     "props": {
                      "className": "interact-flex-row-center"
                     },
                     "type": "node"
                    },
                    {
                     "children": [
                      {
                       "children": [],
                       "instanceArgs": {
                        "namespace": "html",
                        "tag": "p"
                       },
                       "nodeType": "DOM",
                       "props": {
                        "attributes": {
                         "data-bind": "text: formatted_val"
                        }
                       },
                       "type": "node"
                      }
                     ],
                     "instanceArgs": {
                      "namespace": "html",
                      "tag": "div"
                     },
                     "nodeType": "DOM",
                     "props": {
                      "className": "interact-flex-row-right"
                     },
                     "type": "node"
                    }
                   ],
                   "instanceArgs": {
                    "namespace": "html",
                    "tag": "div"
                   },
                   "nodeType": "DOM",
                   "props": {
                    "className": "interact-flex-row interact-widget"
                   },
                   "type": "node"
                  }
                 ],
                 "instanceArgs": {
                  "handlers": {
                   "changes": [
                    "(function (val){return (val!=this.model[\"changes\"]()) ? (this.valueFromJulia[\"changes\"]=true, this.model[\"changes\"](val)) : undefined})"
                   ],
                   "index": [
                    "(function (val){return (val!=this.model[\"index\"]()) ? (this.valueFromJulia[\"index\"]=true, this.model[\"index\"](val)) : undefined})"
                   ]
                  },
                  "id": "15684245330477928458",
                  "imports": {
                   "data": [
                    {
                     "name": "knockout",
                     "type": "js",
                     "url": "/assetserver/727383f2a47bd31570b7da84eee7b022dd6d7c78-knockout.js"
                    },
                    {
                     "name": "knockout_punches",
                     "type": "js",
                     "url": "/assetserver/382b41b3b1bd9f26f75861d360bad7f8beea211f-knockout_punches.js"
                    },
                    {
                     "name": null,
                     "type": "js",
                     "url": "/assetserver/5ab20f1060420992a9b82a65b735dee4d81ef413-all.js"
                    },
                    {
                     "name": null,
                     "type": "css",
                     "url": "/assetserver/1cc0ed62837210b80a182cc3676512f895dab686-style.css"
                    },
                    {
                     "name": null,
                     "type": "css",
                     "url": "/assetserver/2eee816f616df3549d7044d45e744fbf8d42bfa1-bulma_confined.min.css"
                    }
                   ],
                   "type": "async_block"
                  },
                  "mount_callbacks": [
                   "function () {\n    var handler = (function (ko, koPunches) {\n    ko.punches.enableAll();\n    ko.bindingHandlers.numericValue = {\n        init: function(element, valueAccessor, allBindings, data, context) {\n            var stringified = ko.observable(ko.unwrap(valueAccessor()));\n            stringified.subscribe(function(value) {\n                var val = parseFloat(value);\n                if (!isNaN(val)) {\n                    valueAccessor()(val);\n                }\n            });\n            valueAccessor().subscribe(function(value) {\n                var str = JSON.stringify(value);\n                if ((str == \"0\") && ([\"-0\", \"-0.\"].indexOf(stringified()) >= 0))\n                     return;\n                 if ([\"null\", \"\"].indexOf(str) >= 0)\n                     return;\n                stringified(str);\n            });\n            ko.applyBindingsToNode(\n                element,\n                {\n                    value: stringified,\n                    valueUpdate: allBindings.get('valueUpdate'),\n                },\n                context,\n            );\n        }\n    };\n    var json_data = {\"formatted_vals\":[\"0.5\",\"1.0\",\"1.5\",\"2.0\",\"2.5\",\"3.0\",\"3.5\",\"4.0\"],\"changes\":WebIO.getval({\"name\":\"changes\",\"scope\":\"15684245330477928458\",\"id\":\"7689752358333221143\",\"type\":\"observable\"}),\"index\":WebIO.getval({\"name\":\"index\",\"scope\":\"15684245330477928458\",\"id\":\"857375997661356389\",\"type\":\"observable\"})};\n    var self = this;\n    function AppViewModel() {\n        for (var key in json_data) {\n            var el = json_data[key];\n            this[key] = Array.isArray(el) ? ko.observableArray(el) : ko.observable(el);\n        }\n        \n        [this[\"formatted_val\"]=ko.computed(    function(){\n        return this.formatted_vals()[parseInt(this.index())-(1)];\n    }\n,this)]\n        [this[\"changes\"].subscribe((function (val){!(this.valueFromJulia[\"changes\"]) ? (WebIO.setval({\"name\":\"changes\",\"scope\":\"15684245330477928458\",\"id\":\"7689752358333221143\",\"type\":\"observable\"},val)) : undefined; return this.valueFromJulia[\"changes\"]=false}),self),this[\"index\"].subscribe((function (val){!(this.valueFromJulia[\"index\"]) ? (WebIO.setval({\"name\":\"index\",\"scope\":\"15684245330477928458\",\"id\":\"857375997661356389\",\"type\":\"observable\"},val)) : undefined; return this.valueFromJulia[\"index\"]=false}),self)]\n        \n    }\n    self.model = new AppViewModel();\n    self.valueFromJulia = {};\n    for (var key in json_data) {\n        self.valueFromJulia[key] = false;\n    }\n    ko.applyBindings(self.model, self.dom);\n}\n);\n    (WebIO.importBlock({\"data\":[{\"name\":\"knockout\",\"type\":\"js\",\"url\":\"/assetserver/727383f2a47bd31570b7da84eee7b022dd6d7c78-knockout.js\"},{\"name\":\"knockout_punches\",\"type\":\"js\",\"url\":\"/assetserver/382b41b3b1bd9f26f75861d360bad7f8beea211f-knockout_punches.js\"}],\"type\":\"async_block\"})).then((imports) => handler.apply(this, imports));\n}\n"
                  ],
                  "observables": {
                   "changes": {
                    "id": "7689752358333221143",
                    "sync": false,
                    "value": 0
                   },
                   "index": {
                    "id": "857375997661356389",
                    "sync": true,
                    "value": 4
                   }
                  },
                  "systemjs_options": null
                 },
                 "nodeType": "Scope",
                 "props": {},
                 "type": "node"
                }
               ],
               "instanceArgs": {
                "namespace": "html",
                "tag": "div"
               },
               "nodeType": "DOM",
               "props": {
                "className": "field interact-widget"
               },
               "type": "node"
              }
             ],
             "instanceArgs": {
              "namespace": "html",
              "tag": "div"
             },
             "nodeType": "DOM",
             "props": {
              "style": {
               "display": "flex",
               "flex-direction": "column"
              }
             },
             "type": "node"
            },
            {
             "children": [
              {
               "children": [
                {
                 "children": [
                  {
                   "children": [],
                   "instanceArgs": {
                    "namespace": "html",
                    "tag": "div"
                   },
                   "nodeType": "DOM",
                   "props": {
                    "id": "container"
                   },
                   "type": "node"
                  }
                 ],
                 "instanceArgs": {
                  "handlers": {
                   "value": [
                    "(function (txt){return this.k.render(txt,this.container)})"
                   ]
                  },
                  "id": "2774265128865158009",
                  "imports": {
                   "data": [
                    {
                     "name": null,
                     "type": "js",
                     "url": "/assetserver/dd22ed1bf1896c2748f3fe616ce0b838adc895c1-katex.min.js"
                    },
                    {
                     "name": null,
                     "type": "css",
                     "url": "/assetserver/46517a424aa5e6cffc1360d7e0848b601c584ee3-katex.min.css"
                    }
                   ],
                   "type": "async_block"
                  },
                  "mount_callbacks": [
                   "function () {\n    var handler = ((function (k){this.k=k; this.container=this.dom.querySelector(\"#container\"); return k.render(\"\\\\;\\\\;\",this.container)}));\n    (WebIO.importBlock({\"data\":[{\"name\":null,\"type\":\"js\",\"url\":\"/assetserver/dd22ed1bf1896c2748f3fe616ce0b838adc895c1-katex.min.js\"},{\"name\":null,\"type\":\"css\",\"url\":\"/assetserver/46517a424aa5e6cffc1360d7e0848b601c584ee3-katex.min.css\"}],\"type\":\"async_block\"})).then((imports) => handler.apply(this, imports));\n}\n"
                  ],
                  "observables": {
                   "value": {
                    "id": "17879683240592963617",
                    "sync": false,
                    "value": "\\;\\;"
                   }
                  },
                  "systemjs_options": null
                 },
                 "nodeType": "Scope",
                 "props": {},
                 "type": "node"
                }
               ],
               "instanceArgs": {
                "namespace": "html",
                "tag": "div"
               },
               "nodeType": "DOM",
               "props": {
                "className": "interact-widget"
               },
               "type": "node"
              },
              {
               "children": [
                {
                 "children": [
                  {
                   "children": [
                    "run"
                   ],
                   "instanceArgs": {
                    "namespace": "html",
                    "tag": "button"
                   },
                   "nodeType": "DOM",
                   "props": {
                    "attributes": {
                     "data-bind": "click: function (){this.clicks(this.clicks()+1)}, css: {'is-loading' : loading}"
                    },
                    "className": "is-medium button is-primary",
                    "style": {}
                   },
                   "type": "node"
                  }
                 ],
                 "instanceArgs": {
                  "handlers": {
                   "clicks": [
                    "(function (val){return (val!=this.model[\"clicks\"]()) ? (this.valueFromJulia[\"clicks\"]=true, this.model[\"clicks\"](val)) : undefined})"
                   ],
                   "loading": [
                    "(function (val){return (val!=this.model[\"loading\"]()) ? (this.valueFromJulia[\"loading\"]=true, this.model[\"loading\"](val)) : undefined})"
                   ]
                  },
                  "id": "10029748186320817412",
                  "imports": {
                   "data": [
                    {
                     "name": "knockout",
                     "type": "js",
                     "url": "/assetserver/727383f2a47bd31570b7da84eee7b022dd6d7c78-knockout.js"
                    },
                    {
                     "name": "knockout_punches",
                     "type": "js",
                     "url": "/assetserver/382b41b3b1bd9f26f75861d360bad7f8beea211f-knockout_punches.js"
                    },
                    {
                     "name": null,
                     "type": "js",
                     "url": "/assetserver/5ab20f1060420992a9b82a65b735dee4d81ef413-all.js"
                    },
                    {
                     "name": null,
                     "type": "css",
                     "url": "/assetserver/1cc0ed62837210b80a182cc3676512f895dab686-style.css"
                    },
                    {
                     "name": null,
                     "type": "css",
                     "url": "/assetserver/2eee816f616df3549d7044d45e744fbf8d42bfa1-bulma_confined.min.css"
                    }
                   ],
                   "type": "async_block"
                  },
                  "mount_callbacks": [
                   "function () {\n    var handler = (function (ko, koPunches) {\n    ko.punches.enableAll();\n    ko.bindingHandlers.numericValue = {\n        init: function(element, valueAccessor, allBindings, data, context) {\n            var stringified = ko.observable(ko.unwrap(valueAccessor()));\n            stringified.subscribe(function(value) {\n                var val = parseFloat(value);\n                if (!isNaN(val)) {\n                    valueAccessor()(val);\n                }\n            });\n            valueAccessor().subscribe(function(value) {\n                var str = JSON.stringify(value);\n                if ((str == \"0\") && ([\"-0\", \"-0.\"].indexOf(stringified()) >= 0))\n                     return;\n                 if ([\"null\", \"\"].indexOf(str) >= 0)\n                     return;\n                stringified(str);\n            });\n            ko.applyBindingsToNode(\n                element,\n                {\n                    value: stringified,\n                    valueUpdate: allBindings.get('valueUpdate'),\n                },\n                context,\n            );\n        }\n    };\n    var json_data = {\"loading\":WebIO.getval({\"name\":\"loading\",\"scope\":\"10029748186320817412\",\"id\":\"10053157321475173228\",\"type\":\"observable\"}),\"clicks\":WebIO.getval({\"name\":\"clicks\",\"scope\":\"10029748186320817412\",\"id\":\"3432344521436927254\",\"type\":\"observable\"})};\n    var self = this;\n    function AppViewModel() {\n        for (var key in json_data) {\n            var el = json_data[key];\n            this[key] = Array.isArray(el) ? ko.observableArray(el) : ko.observable(el);\n        }\n        \n        \n        [this[\"loading\"].subscribe((function (val){!(this.valueFromJulia[\"loading\"]) ? (WebIO.setval({\"name\":\"loading\",\"scope\":\"10029748186320817412\",\"id\":\"10053157321475173228\",\"type\":\"observable\"},val)) : undefined; return this.valueFromJulia[\"loading\"]=false}),self),this[\"clicks\"].subscribe((function (val){!(this.valueFromJulia[\"clicks\"]) ? (WebIO.setval({\"name\":\"clicks\",\"scope\":\"10029748186320817412\",\"id\":\"3432344521436927254\",\"type\":\"observable\"},val)) : undefined; return this.valueFromJulia[\"clicks\"]=false}),self)]\n        \n    }\n    self.model = new AppViewModel();\n    self.valueFromJulia = {};\n    for (var key in json_data) {\n        self.valueFromJulia[key] = false;\n    }\n    ko.applyBindings(self.model, self.dom);\n}\n);\n    (WebIO.importBlock({\"data\":[{\"name\":\"knockout\",\"type\":\"js\",\"url\":\"/assetserver/727383f2a47bd31570b7da84eee7b022dd6d7c78-knockout.js\"},{\"name\":\"knockout_punches\",\"type\":\"js\",\"url\":\"/assetserver/382b41b3b1bd9f26f75861d360bad7f8beea211f-knockout_punches.js\"}],\"type\":\"async_block\"})).then((imports) => handler.apply(this, imports));\n}\n"
                  ],
                  "observables": {
                   "clicks": {
                    "id": "3432344521436927254",
                    "sync": true,
                    "value": 0
                   },
                   "loading": {
                    "id": "10053157321475173228",
                    "sync": false,
                    "value": false
                   }
                  },
                  "systemjs_options": null
                 },
                 "nodeType": "Scope",
                 "props": {},
                 "type": "node"
                }
               ],
               "instanceArgs": {
                "namespace": "html",
                "tag": "div"
               },
               "nodeType": "DOM",
               "props": {
                "className": "field interact-widget"
               },
               "type": "node"
              },
              {
               "children": [
                {
                 "children": [
                  {
                   "children": [],
                   "instanceArgs": {
                    "namespace": "html",
                    "tag": "div"
                   },
                   "nodeType": "DOM",
                   "props": {
                    "id": "container"
                   },
                   "type": "node"
                  }
                 ],
                 "instanceArgs": {
                  "handlers": {
                   "value": [
                    "(function (txt){return this.k.render(txt,this.container)})"
                   ]
                  },
                  "id": "2774265128865158009",
                  "imports": {
                   "data": [
                    {
                     "name": null,
                     "type": "js",
                     "url": "/assetserver/dd22ed1bf1896c2748f3fe616ce0b838adc895c1-katex.min.js"
                    },
                    {
                     "name": null,
                     "type": "css",
                     "url": "/assetserver/46517a424aa5e6cffc1360d7e0848b601c584ee3-katex.min.css"
                    }
                   ],
                   "type": "async_block"
                  },
                  "mount_callbacks": [
                   "function () {\n    var handler = ((function (k){this.k=k; this.container=this.dom.querySelector(\"#container\"); return k.render(\"\\\\;\\\\;\",this.container)}));\n    (WebIO.importBlock({\"data\":[{\"name\":null,\"type\":\"js\",\"url\":\"/assetserver/dd22ed1bf1896c2748f3fe616ce0b838adc895c1-katex.min.js\"},{\"name\":null,\"type\":\"css\",\"url\":\"/assetserver/46517a424aa5e6cffc1360d7e0848b601c584ee3-katex.min.css\"}],\"type\":\"async_block\"})).then((imports) => handler.apply(this, imports));\n}\n"
                  ],
                  "observables": {
                   "value": {
                    "id": "17879683240592963617",
                    "sync": false,
                    "value": "\\;\\;"
                   }
                  },
                  "systemjs_options": null
                 },
                 "nodeType": "Scope",
                 "props": {},
                 "type": "node"
                }
               ],
               "instanceArgs": {
                "namespace": "html",
                "tag": "div"
               },
               "nodeType": "DOM",
               "props": {
                "className": "interact-widget"
               },
               "type": "node"
              },
              {
               "children": [
                {
                 "children": [
                  {
                   "children": [
                    "stop"
                   ],
                   "instanceArgs": {
                    "namespace": "html",
                    "tag": "button"
                   },
                   "nodeType": "DOM",
                   "props": {
                    "attributes": {
                     "data-bind": "click: function (){this.clicks(this.clicks()+1)}, css: {'is-loading' : loading}"
                    },
                    "className": "is-medium button is-primary",
                    "style": {}
                   },
                   "type": "node"
                  }
                 ],
                 "instanceArgs": {
                  "handlers": {
                   "clicks": [
                    "(function (val){return (val!=this.model[\"clicks\"]()) ? (this.valueFromJulia[\"clicks\"]=true, this.model[\"clicks\"](val)) : undefined})"
                   ],
                   "loading": [
                    "(function (val){return (val!=this.model[\"loading\"]()) ? (this.valueFromJulia[\"loading\"]=true, this.model[\"loading\"](val)) : undefined})"
                   ]
                  },
                  "id": "15356498856311490485",
                  "imports": {
                   "data": [
                    {
                     "name": "knockout",
                     "type": "js",
                     "url": "/assetserver/727383f2a47bd31570b7da84eee7b022dd6d7c78-knockout.js"
                    },
                    {
                     "name": "knockout_punches",
                     "type": "js",
                     "url": "/assetserver/382b41b3b1bd9f26f75861d360bad7f8beea211f-knockout_punches.js"
                    },
                    {
                     "name": null,
                     "type": "js",
                     "url": "/assetserver/5ab20f1060420992a9b82a65b735dee4d81ef413-all.js"
                    },
                    {
                     "name": null,
                     "type": "css",
                     "url": "/assetserver/1cc0ed62837210b80a182cc3676512f895dab686-style.css"
                    },
                    {
                     "name": null,
                     "type": "css",
                     "url": "/assetserver/2eee816f616df3549d7044d45e744fbf8d42bfa1-bulma_confined.min.css"
                    }
                   ],
                   "type": "async_block"
                  },
                  "mount_callbacks": [
                   "function () {\n    var handler = (function (ko, koPunches) {\n    ko.punches.enableAll();\n    ko.bindingHandlers.numericValue = {\n        init: function(element, valueAccessor, allBindings, data, context) {\n            var stringified = ko.observable(ko.unwrap(valueAccessor()));\n            stringified.subscribe(function(value) {\n                var val = parseFloat(value);\n                if (!isNaN(val)) {\n                    valueAccessor()(val);\n                }\n            });\n            valueAccessor().subscribe(function(value) {\n                var str = JSON.stringify(value);\n                if ((str == \"0\") && ([\"-0\", \"-0.\"].indexOf(stringified()) >= 0))\n                     return;\n                 if ([\"null\", \"\"].indexOf(str) >= 0)\n                     return;\n                stringified(str);\n            });\n            ko.applyBindingsToNode(\n                element,\n                {\n                    value: stringified,\n                    valueUpdate: allBindings.get('valueUpdate'),\n                },\n                context,\n            );\n        }\n    };\n    var json_data = {\"loading\":WebIO.getval({\"name\":\"loading\",\"scope\":\"15356498856311490485\",\"id\":\"164972454818796620\",\"type\":\"observable\"}),\"clicks\":WebIO.getval({\"name\":\"clicks\",\"scope\":\"15356498856311490485\",\"id\":\"8787308030594596998\",\"type\":\"observable\"})};\n    var self = this;\n    function AppViewModel() {\n        for (var key in json_data) {\n            var el = json_data[key];\n            this[key] = Array.isArray(el) ? ko.observableArray(el) : ko.observable(el);\n        }\n        \n        \n        [this[\"loading\"].subscribe((function (val){!(this.valueFromJulia[\"loading\"]) ? (WebIO.setval({\"name\":\"loading\",\"scope\":\"15356498856311490485\",\"id\":\"164972454818796620\",\"type\":\"observable\"},val)) : undefined; return this.valueFromJulia[\"loading\"]=false}),self),this[\"clicks\"].subscribe((function (val){!(this.valueFromJulia[\"clicks\"]) ? (WebIO.setval({\"name\":\"clicks\",\"scope\":\"15356498856311490485\",\"id\":\"8787308030594596998\",\"type\":\"observable\"},val)) : undefined; return this.valueFromJulia[\"clicks\"]=false}),self)]\n        \n    }\n    self.model = new AppViewModel();\n    self.valueFromJulia = {};\n    for (var key in json_data) {\n        self.valueFromJulia[key] = false;\n    }\n    ko.applyBindings(self.model, self.dom);\n}\n);\n    (WebIO.importBlock({\"data\":[{\"name\":\"knockout\",\"type\":\"js\",\"url\":\"/assetserver/727383f2a47bd31570b7da84eee7b022dd6d7c78-knockout.js\"},{\"name\":\"knockout_punches\",\"type\":\"js\",\"url\":\"/assetserver/382b41b3b1bd9f26f75861d360bad7f8beea211f-knockout_punches.js\"}],\"type\":\"async_block\"})).then((imports) => handler.apply(this, imports));\n}\n"
                  ],
                  "observables": {
                   "clicks": {
                    "id": "8787308030594596998",
                    "sync": true,
                    "value": 0
                   },
                   "loading": {
                    "id": "164972454818796620",
                    "sync": false,
                    "value": false
                   }
                  },
                  "systemjs_options": null
                 },
                 "nodeType": "Scope",
                 "props": {},
                 "type": "node"
                }
               ],
               "instanceArgs": {
                "namespace": "html",
                "tag": "div"
               },
               "nodeType": "DOM",
               "props": {
                "className": "field interact-widget"
               },
               "type": "node"
              },
              {
               "children": [
                {
                 "children": [
                  {
                   "children": [],
                   "instanceArgs": {
                    "namespace": "html",
                    "tag": "div"
                   },
                   "nodeType": "DOM",
                   "props": {
                    "id": "container"
                   },
                   "type": "node"
                  }
                 ],
                 "instanceArgs": {
                  "handlers": {
                   "value": [
                    "(function (txt){return this.k.render(txt,this.container)})"
                   ]
                  },
                  "id": "2774265128865158009",
                  "imports": {
                   "data": [
                    {
                     "name": null,
                     "type": "js",
                     "url": "/assetserver/dd22ed1bf1896c2748f3fe616ce0b838adc895c1-katex.min.js"
                    },
                    {
                     "name": null,
                     "type": "css",
                     "url": "/assetserver/46517a424aa5e6cffc1360d7e0848b601c584ee3-katex.min.css"
                    }
                   ],
                   "type": "async_block"
                  },
                  "mount_callbacks": [
                   "function () {\n    var handler = ((function (k){this.k=k; this.container=this.dom.querySelector(\"#container\"); return k.render(\"\\\\;\\\\;\",this.container)}));\n    (WebIO.importBlock({\"data\":[{\"name\":null,\"type\":\"js\",\"url\":\"/assetserver/dd22ed1bf1896c2748f3fe616ce0b838adc895c1-katex.min.js\"},{\"name\":null,\"type\":\"css\",\"url\":\"/assetserver/46517a424aa5e6cffc1360d7e0848b601c584ee3-katex.min.css\"}],\"type\":\"async_block\"})).then((imports) => handler.apply(this, imports));\n}\n"
                  ],
                  "observables": {
                   "value": {
                    "id": "17879683240592963617",
                    "sync": false,
                    "value": "\\;\\;"
                   }
                  },
                  "systemjs_options": null
                 },
                 "nodeType": "Scope",
                 "props": {},
                 "type": "node"
                }
               ],
               "instanceArgs": {
                "namespace": "html",
                "tag": "div"
               },
               "nodeType": "DOM",
               "props": {
                "className": "interact-widget"
               },
               "type": "node"
              },
              {
               "children": [
                {
                 "children": [
                  {
                   "children": [
                    "reset"
                   ],
                   "instanceArgs": {
                    "namespace": "html",
                    "tag": "button"
                   },
                   "nodeType": "DOM",
                   "props": {
                    "attributes": {
                     "data-bind": "click: function (){this.clicks(this.clicks()+1)}, css: {'is-loading' : loading}"
                    },
                    "className": "is-medium button is-primary",
                    "style": {}
                   },
                   "type": "node"
                  }
                 ],
                 "instanceArgs": {
                  "handlers": {
                   "clicks": [
                    "(function (val){return (val!=this.model[\"clicks\"]()) ? (this.valueFromJulia[\"clicks\"]=true, this.model[\"clicks\"](val)) : undefined})"
                   ],
                   "loading": [
                    "(function (val){return (val!=this.model[\"loading\"]()) ? (this.valueFromJulia[\"loading\"]=true, this.model[\"loading\"](val)) : undefined})"
                   ]
                  },
                  "id": "2080414177635771918",
                  "imports": {
                   "data": [
                    {
                     "name": "knockout",
                     "type": "js",
                     "url": "/assetserver/727383f2a47bd31570b7da84eee7b022dd6d7c78-knockout.js"
                    },
                    {
                     "name": "knockout_punches",
                     "type": "js",
                     "url": "/assetserver/382b41b3b1bd9f26f75861d360bad7f8beea211f-knockout_punches.js"
                    },
                    {
                     "name": null,
                     "type": "js",
                     "url": "/assetserver/5ab20f1060420992a9b82a65b735dee4d81ef413-all.js"
                    },
                    {
                     "name": null,
                     "type": "css",
                     "url": "/assetserver/1cc0ed62837210b80a182cc3676512f895dab686-style.css"
                    },
                    {
                     "name": null,
                     "type": "css",
                     "url": "/assetserver/2eee816f616df3549d7044d45e744fbf8d42bfa1-bulma_confined.min.css"
                    }
                   ],
                   "type": "async_block"
                  },
                  "mount_callbacks": [
                   "function () {\n    var handler = (function (ko, koPunches) {\n    ko.punches.enableAll();\n    ko.bindingHandlers.numericValue = {\n        init: function(element, valueAccessor, allBindings, data, context) {\n            var stringified = ko.observable(ko.unwrap(valueAccessor()));\n            stringified.subscribe(function(value) {\n                var val = parseFloat(value);\n                if (!isNaN(val)) {\n                    valueAccessor()(val);\n                }\n            });\n            valueAccessor().subscribe(function(value) {\n                var str = JSON.stringify(value);\n                if ((str == \"0\") && ([\"-0\", \"-0.\"].indexOf(stringified()) >= 0))\n                     return;\n                 if ([\"null\", \"\"].indexOf(str) >= 0)\n                     return;\n                stringified(str);\n            });\n            ko.applyBindingsToNode(\n                element,\n                {\n                    value: stringified,\n                    valueUpdate: allBindings.get('valueUpdate'),\n                },\n                context,\n            );\n        }\n    };\n    var json_data = {\"loading\":WebIO.getval({\"name\":\"loading\",\"scope\":\"2080414177635771918\",\"id\":\"7928567909752923932\",\"type\":\"observable\"}),\"clicks\":WebIO.getval({\"name\":\"clicks\",\"scope\":\"2080414177635771918\",\"id\":\"4635594356740232917\",\"type\":\"observable\"})};\n    var self = this;\n    function AppViewModel() {\n        for (var key in json_data) {\n            var el = json_data[key];\n            this[key] = Array.isArray(el) ? ko.observableArray(el) : ko.observable(el);\n        }\n        \n        \n        [this[\"loading\"].subscribe((function (val){!(this.valueFromJulia[\"loading\"]) ? (WebIO.setval({\"name\":\"loading\",\"scope\":\"2080414177635771918\",\"id\":\"7928567909752923932\",\"type\":\"observable\"},val)) : undefined; return this.valueFromJulia[\"loading\"]=false}),self),this[\"clicks\"].subscribe((function (val){!(this.valueFromJulia[\"clicks\"]) ? (WebIO.setval({\"name\":\"clicks\",\"scope\":\"2080414177635771918\",\"id\":\"4635594356740232917\",\"type\":\"observable\"},val)) : undefined; return this.valueFromJulia[\"clicks\"]=false}),self)]\n        \n    }\n    self.model = new AppViewModel();\n    self.valueFromJulia = {};\n    for (var key in json_data) {\n        self.valueFromJulia[key] = false;\n    }\n    ko.applyBindings(self.model, self.dom);\n}\n);\n    (WebIO.importBlock({\"data\":[{\"name\":\"knockout\",\"type\":\"js\",\"url\":\"/assetserver/727383f2a47bd31570b7da84eee7b022dd6d7c78-knockout.js\"},{\"name\":\"knockout_punches\",\"type\":\"js\",\"url\":\"/assetserver/382b41b3b1bd9f26f75861d360bad7f8beea211f-knockout_punches.js\"}],\"type\":\"async_block\"})).then((imports) => handler.apply(this, imports));\n}\n"
                  ],
                  "observables": {
                   "clicks": {
                    "id": "4635594356740232917",
                    "sync": true,
                    "value": 0
                   },
                   "loading": {
                    "id": "7928567909752923932",
                    "sync": false,
                    "value": false
                   }
                  },
                  "systemjs_options": null
                 },
                 "nodeType": "Scope",
                 "props": {},
                 "type": "node"
                }
               ],
               "instanceArgs": {
                "namespace": "html",
                "tag": "div"
               },
               "nodeType": "DOM",
               "props": {
                "className": "field interact-widget"
               },
               "type": "node"
              },
              {
               "children": [
                {
                 "children": [
                  {
                   "children": [],
                   "instanceArgs": {
                    "namespace": "html",
                    "tag": "div"
                   },
                   "nodeType": "DOM",
                   "props": {
                    "id": "container"
                   },
                   "type": "node"
                  }
                 ],
                 "instanceArgs": {
                  "handlers": {
                   "value": [
                    "(function (txt){return this.k.render(txt,this.container)})"
                   ]
                  },
                  "id": "2774265128865158009",
                  "imports": {
                   "data": [
                    {
                     "name": null,
                     "type": "js",
                     "url": "/assetserver/dd22ed1bf1896c2748f3fe616ce0b838adc895c1-katex.min.js"
                    },
                    {
                     "name": null,
                     "type": "css",
                     "url": "/assetserver/46517a424aa5e6cffc1360d7e0848b601c584ee3-katex.min.css"
                    }
                   ],
                   "type": "async_block"
                  },
                  "mount_callbacks": [
                   "function () {\n    var handler = ((function (k){this.k=k; this.container=this.dom.querySelector(\"#container\"); return k.render(\"\\\\;\\\\;\",this.container)}));\n    (WebIO.importBlock({\"data\":[{\"name\":null,\"type\":\"js\",\"url\":\"/assetserver/dd22ed1bf1896c2748f3fe616ce0b838adc895c1-katex.min.js\"},{\"name\":null,\"type\":\"css\",\"url\":\"/assetserver/46517a424aa5e6cffc1360d7e0848b601c584ee3-katex.min.css\"}],\"type\":\"async_block\"})).then((imports) => handler.apply(this, imports));\n}\n"
                  ],
                  "observables": {
                   "value": {
                    "id": "17879683240592963617",
                    "sync": false,
                    "value": "\\;\\;"
                   }
                  },
                  "systemjs_options": null
                 },
                 "nodeType": "Scope",
                 "props": {},
                 "type": "node"
                }
               ],
               "instanceArgs": {
                "namespace": "html",
                "tag": "div"
               },
               "nodeType": "DOM",
               "props": {
                "className": "interact-widget"
               },
               "type": "node"
              },
              {
               "children": [
                {
                 "children": [
                  {
                   "children": [
                    "save"
                   ],
                   "instanceArgs": {
                    "namespace": "html",
                    "tag": "button"
                   },
                   "nodeType": "DOM",
                   "props": {
                    "attributes": {
                     "data-bind": "click: function (){this.clicks(this.clicks()+1)}, css: {'is-loading' : loading}"
                    },
                    "className": "is-medium button is-primary",
                    "style": {}
                   },
                   "type": "node"
                  }
                 ],
                 "instanceArgs": {
                  "handlers": {
                   "clicks": [
                    "(function (val){return (val!=this.model[\"clicks\"]()) ? (this.valueFromJulia[\"clicks\"]=true, this.model[\"clicks\"](val)) : undefined})"
                   ],
                   "loading": [
                    "(function (val){return (val!=this.model[\"loading\"]()) ? (this.valueFromJulia[\"loading\"]=true, this.model[\"loading\"](val)) : undefined})"
                   ]
                  },
                  "id": "10252604126630065060",
                  "imports": {
                   "data": [
                    {
                     "name": "knockout",
                     "type": "js",
                     "url": "/assetserver/727383f2a47bd31570b7da84eee7b022dd6d7c78-knockout.js"
                    },
                    {
                     "name": "knockout_punches",
                     "type": "js",
                     "url": "/assetserver/382b41b3b1bd9f26f75861d360bad7f8beea211f-knockout_punches.js"
                    },
                    {
                     "name": null,
                     "type": "js",
                     "url": "/assetserver/5ab20f1060420992a9b82a65b735dee4d81ef413-all.js"
                    },
                    {
                     "name": null,
                     "type": "css",
                     "url": "/assetserver/1cc0ed62837210b80a182cc3676512f895dab686-style.css"
                    },
                    {
                     "name": null,
                     "type": "css",
                     "url": "/assetserver/2eee816f616df3549d7044d45e744fbf8d42bfa1-bulma_confined.min.css"
                    }
                   ],
                   "type": "async_block"
                  },
                  "mount_callbacks": [
                   "function () {\n    var handler = (function (ko, koPunches) {\n    ko.punches.enableAll();\n    ko.bindingHandlers.numericValue = {\n        init: function(element, valueAccessor, allBindings, data, context) {\n            var stringified = ko.observable(ko.unwrap(valueAccessor()));\n            stringified.subscribe(function(value) {\n                var val = parseFloat(value);\n                if (!isNaN(val)) {\n                    valueAccessor()(val);\n                }\n            });\n            valueAccessor().subscribe(function(value) {\n                var str = JSON.stringify(value);\n                if ((str == \"0\") && ([\"-0\", \"-0.\"].indexOf(stringified()) >= 0))\n                     return;\n                 if ([\"null\", \"\"].indexOf(str) >= 0)\n                     return;\n                stringified(str);\n            });\n            ko.applyBindingsToNode(\n                element,\n                {\n                    value: stringified,\n                    valueUpdate: allBindings.get('valueUpdate'),\n                },\n                context,\n            );\n        }\n    };\n    var json_data = {\"loading\":WebIO.getval({\"name\":\"loading\",\"scope\":\"10252604126630065060\",\"id\":\"16187448258225772225\",\"type\":\"observable\"}),\"clicks\":WebIO.getval({\"name\":\"clicks\",\"scope\":\"10252604126630065060\",\"id\":\"17101002317241049864\",\"type\":\"observable\"})};\n    var self = this;\n    function AppViewModel() {\n        for (var key in json_data) {\n            var el = json_data[key];\n            this[key] = Array.isArray(el) ? ko.observableArray(el) : ko.observable(el);\n        }\n        \n        \n        [this[\"loading\"].subscribe((function (val){!(this.valueFromJulia[\"loading\"]) ? (WebIO.setval({\"name\":\"loading\",\"scope\":\"10252604126630065060\",\"id\":\"16187448258225772225\",\"type\":\"observable\"},val)) : undefined; return this.valueFromJulia[\"loading\"]=false}),self),this[\"clicks\"].subscribe((function (val){!(this.valueFromJulia[\"clicks\"]) ? (WebIO.setval({\"name\":\"clicks\",\"scope\":\"10252604126630065060\",\"id\":\"17101002317241049864\",\"type\":\"observable\"},val)) : undefined; return this.valueFromJulia[\"clicks\"]=false}),self)]\n        \n    }\n    self.model = new AppViewModel();\n    self.valueFromJulia = {};\n    for (var key in json_data) {\n        self.valueFromJulia[key] = false;\n    }\n    ko.applyBindings(self.model, self.dom);\n}\n);\n    (WebIO.importBlock({\"data\":[{\"name\":\"knockout\",\"type\":\"js\",\"url\":\"/assetserver/727383f2a47bd31570b7da84eee7b022dd6d7c78-knockout.js\"},{\"name\":\"knockout_punches\",\"type\":\"js\",\"url\":\"/assetserver/382b41b3b1bd9f26f75861d360bad7f8beea211f-knockout_punches.js\"}],\"type\":\"async_block\"})).then((imports) => handler.apply(this, imports));\n}\n"
                  ],
                  "observables": {
                   "clicks": {
                    "id": "17101002317241049864",
                    "sync": true,
                    "value": 0
                   },
                   "loading": {
                    "id": "16187448258225772225",
                    "sync": false,
                    "value": false
                   }
                  },
                  "systemjs_options": null
                 },
                 "nodeType": "Scope",
                 "props": {},
                 "type": "node"
                }
               ],
               "instanceArgs": {
                "namespace": "html",
                "tag": "div"
               },
               "nodeType": "DOM",
               "props": {
                "className": "field interact-widget"
               },
               "type": "node"
              }
             ],
             "instanceArgs": {
              "namespace": "html",
              "tag": "div"
             },
             "nodeType": "DOM",
             "props": {
              "style": {
               "display": "flex",
               "flex-direction": "row"
              }
             },
             "type": "node"
            }
           ],
           "instanceArgs": {
            "namespace": "html",
            "tag": "div"
           },
           "nodeType": "DOM",
           "props": {
            "style": {
             "display": "flex",
             "flex-direction": "column"
            }
           },
           "type": "node"
          },
          {
           "children": [
            {
             "children": [
              {
               "children": [],
               "instanceArgs": {
                "namespace": "html",
                "tag": "div"
               },
               "nodeType": "DOM",
               "props": {
                "id": "container"
               },
               "type": "node"
              }
             ],
             "instanceArgs": {
              "handlers": {
               "value": [
                "(function (txt){return this.k.render(txt,this.container)})"
               ]
              },
              "id": "2774265128865158009",
              "imports": {
               "data": [
                {
                 "name": null,
                 "type": "js",
                 "url": "/assetserver/dd22ed1bf1896c2748f3fe616ce0b838adc895c1-katex.min.js"
                },
                {
                 "name": null,
                 "type": "css",
                 "url": "/assetserver/46517a424aa5e6cffc1360d7e0848b601c584ee3-katex.min.css"
                }
               ],
               "type": "async_block"
              },
              "mount_callbacks": [
               "function () {\n    var handler = ((function (k){this.k=k; this.container=this.dom.querySelector(\"#container\"); return k.render(\"\\\\;\\\\;\",this.container)}));\n    (WebIO.importBlock({\"data\":[{\"name\":null,\"type\":\"js\",\"url\":\"/assetserver/dd22ed1bf1896c2748f3fe616ce0b838adc895c1-katex.min.js\"},{\"name\":null,\"type\":\"css\",\"url\":\"/assetserver/46517a424aa5e6cffc1360d7e0848b601c584ee3-katex.min.css\"}],\"type\":\"async_block\"})).then((imports) => handler.apply(this, imports));\n}\n"
              ],
              "observables": {
               "value": {
                "id": "17879683240592963617",
                "sync": false,
                "value": "\\;\\;"
               }
              },
              "systemjs_options": null
             },
             "nodeType": "Scope",
             "props": {},
             "type": "node"
            }
           ],
           "instanceArgs": {
            "namespace": "html",
            "tag": "div"
           },
           "nodeType": "DOM",
           "props": {
            "className": "interact-widget"
           },
           "type": "node"
          },
          {
           "children": [
            {
             "children": [],
             "instanceArgs": {
              "namespace": "html",
              "tag": "div"
             },
             "nodeType": "DOM",
             "props": {
              "className": "webio-observable",
              "setInnerHtml": "<img src='data:image/png;base64,iVBORw0KGgoAAAANSUhEUgAAAa4AAAGuCAIAAABHl3XNAAAABmJLR0QA/wD/AP+gvaeTAAAgAElEQVR4nOzdd1wUx/sH8M/RQRGx9y72XoOgsWDXqBGNMWCL2EF/GtFEoyZG0WgUO1iiYgVjInbFFiE2FOyo2MWCClKkw/7+4L4cd+zBAXs7e3fP+3UvX3ezezuPx/EwO7szI+M4DoQQYtiMWAdACCHsUSokhBBKhYQQQqmQEEJAqZAQQkCpkBBCQKmQEEJAqZAQQkCpkBBCQKmQEEJAqZAQQkCpkBBCQKmQEEJAqZAYhIQE1hEQqaNUSPRdYCAuXmQdBJE6SoVEr6Wl4Ycf8PEj6ziI1FEqJHptxQo8fIgPH1jHQaSOUiHRX1FRWLoUALUKSYEoFRL9NXs2EhMBSoWkYJQKiZ4KCcHevfLnlApJQSgVEn2UlYXp05GzhBn1FZKCUCok+sjHB6GhipfUKtQV79+zqllGi38SfRMbCzs7pZZg1ap49YpdQERjQ4bA0hJbtsDSUuSaTUSujxCtmz9f9YyYTpB1wps3OHIE6el4+hQHD6JSJTErpxNkol/u3oWPj2phaio+f2YRDSkMX1+kpwPApUto21api0P7KBUS/TJ1KjIyeMqpYShxmZn480/Fy6goODpi927R6qdUSPTI/v04f55/E105kbgjR/D8uVJJSgpcXDBnDrKyRKhfB1Mhx2HfPtZBEOlJToanp9qtlAolLm+3BgCOw7JlGD5chP4NHUyFq1bh229x8CDrOIjEGBvDzw9LlqB/f5Qpo7qVTpCl7NkznDzJv0kmg40Nf6eHoHTtCvLdu/jpJ3Acxo1Dy5aoU4d1QHySkmBpCZmMdRwGxswMjo5wdJS/fPIEwcEICUFwMO7fp1ahpPn68p8F16oFX184OYkQgk7dV5iSgg4dcOuW/GWLFrh0Sfz7j9TKysJ//8HPD+XLY/Fi1tGQXN6+RUoKatViHQfhk56OmjXx5o1SoUyG8eOxYgWsrcWJQqdahbNmKfIggJs3MWsW1q9nF9D/3L0LPz/s2IG3b9G4scg3AZCCiXuHGimcgwdV82Dduti8GV27ihmF7rQKT5xA377IG62fH777jkVAwMuXOHgQ27cjPFxeYm6OK1fQogWbeAjRRd264dw5+XMTE0yejCVLUKKEyFHoSCqMjkaLFnj7lmdTyZK4ehWNGokXzKdPCAyEnx/OnFFNzWvWYNo08SIhRNc9eIBGjeS/R02bYts2tGvHJBBdOEHOvkjCmwcBJCZi2DBcuQIrK+2GkZqKU6fg54dDh5CWxrNDr16YOlW7MRCiZ3x8wHEwNcX//R9++QVmZqwC0YVW4dOnGDcO//6LzEy1+4werXSruuB278aUKYiLU7tDxYq4eRMVK2oxBkL0THIyqlVDjRrYtg2tWrGNRRdSYbaYGBw5goAAnDrF3yjbtg1jxhT6sByHu3fRtGkBuyUkoF07PHjAv1UmQ2Ag+vcvdO2ESBbHaf2GMH9/PH2KWbNgbKzdijSgO6kwR2wsDh9GQABOn0ZqqqLcwgL//Ve4vy0pKXBzQ0gIHj2CUUF3m9+6hY4dkZzMs8ndHd7ehaiXEOlbu1brHd9paQzPiFXoYCrMkZSEM2cQEIC//5YvYVG/PkJDUaqURm9//RqDBuHaNQA4eRI9exb8lk2bMGmSamGTJrh2TUK3NxJSfP/8gyVLcPUq6zjEo4MD73JYWWHAAOzciehoBAbCxQVv32L8eI3eGxaGjh3leRDApk0avWviRPTooVrIcVi0CEFB8vmFCNF10dGYMIF1EGLT5VZhXsnJOH4czZqhfv38dtu3D2PHKp3qmpjg2TNUrVpwFWfPont3/k3lyuHOHbpyQnQbx2HAABw9inbtqFWosywtMWRIfnmQ47BwIb79VrXLLyMDW7ZoVEXecf45xo2jPEh03qZNOHqUdRAM6FcqzF9SEgYOxKJFPENWAGzZotHsF+ruXqxVC/PnFys87YmMZB0B0RGPH2P2bPlzA5tPxJBSoZUVXF1Rtiz/1levNPpjqC4V+vqKP1RII3fvol07HD/OOg4ieRkZ+O47+RVIw2NIqRCAszPu3MHXX/Nv1eTiCW8qHD1anHmECu31a/Tti0+f4O6OlBTW0RBpW7IEly+zDoIZA0uFACpVwoEDCAxElSqqm06eLPhcMm8qLFcOy5cLFp6AEhLQrx9evACAyEiJBkkk4sYNA59ZzvBSYbYBA3DnDtzclAo5Dlu3FvBGCwvVO+PXrEH58gKHV3zp6Rg6VDFlDoAlS/DwIbuAiISlpMDVVfVuMOorNBS2tvDxwbFjqF5dUbhli9IIFl6576bu3RsjRmglvOLgOEyYgFOnlApTU2nWHMJv9mzcvcs6CMaklwp37cKdO+JV16cP7tyBu7t84N2HD/j77wLeknOObGUliYlj81q0iH9yilOn8NdfokdDpC0oCOvWsQ6CPSmlwvh4uLjAxQX794tab6lS8PbG+fOwswM0uHiS0ypcvFiKi6vs2YNfflG7ddo0xMeLGA2Rtk+fMHYs/+1lBkYyqfDyZbRujV27ACAggEEAjo4ID4enJ4KDCzhZyG4Vtm0Ld3dxQiuEc+cwZkx+3+w3b/JLlMTQbN+uOpm+oZJAKszIwMKFcHDA48fykgcP2PRcWFrCywsXLyI4OL/drKxgYgIfHynMLKTk5k0MGsQ/gxkAGxsMGICVK5mtf0AkaPp0REfD3x8uLqoLKhnYZRPWs1g/e4bvvkNIiGr5gQNo0oRFQMAXX6Bjx/x2sLLCzJlo3VqsgP7nr79gYYF+/fi3vn6NAQNUT35LlkTHjujRA506oUMHmJqKECbRMba2cHaGszNSUhAcjMOH4e+vdtJ4/VWk6Rg4Dp8+ITERiYn4/BmfPiEhAZ8/IzERcXFISJCXOzrC1TW/4wQEwM0Nnz7xbGrWTGlxO0mZOBErV4o6tiQ2FnPmwNcX336L3bt5doiPR+fOuHkTAEqUwBdfUPojRZeZieBg3LvHMyWd/ipMKvzlF6xfj8+f8flzAXsaG+OXXzB3bgFtbF9fTJum9oTu/n00bKhpbGKKi4ONjXjVHT6MiRPx+jUAlCmDd+9gotyWT0/H8OFISJCnv/btpTMdJiG6ojCp8L//0KlTwbuVK4fduzWaCRVAaCiGDcPTpzybfvsNP/6oaWx66f17zJwJPz+lwuBg1Z9CSgpMTFTzIyFS9uIFatRgHYSSwlw2sbdHgwYF7NOuHUJDNc2DANq2RVgYhgzh2WTgd8AFBKBJE9U8CPDMGWFhQXmQ6JInT9C0KU6eZB2HkkJeQR45Mr+tbm4IDkbNmoU7po0NDhzA6tWqvVo3biiuKRsUjoOrK4YNw/v3PFsNci45UmiXLrGOQL0ZM5CQAGdnXL/OOhSFQqZCV1f+5ZCsrbFvH3x8ithLJZPBwwNBQapTJBw8WJSj6TqZDDNnolYt/q23bslnWCBEnUuXsHkz6yDUCApCYCAAJCSgd2+1q0iKrpCpsGZNODqqFjZsiEuXMHx4cWPp3Bnh4ejVS1FisOfILVrg2jV068a/9cQJcaMpnnfvsGIF6yAMzKJFiIhgHQSfjAxMn654+eEDnJzw8iW7gHLhCmvrVg5QPEaO5BITC32QfGRlcV5enLExB3AyGff8uZAH1y3p6Zynp9Knnf0YOJB1ZJpJTeVWr+ZsbDhTUy4piXU0BuPGDU4m40qXZh0HnxUreL7PTZtyMTGsI+MKnwrj4jgrKw7gzM251au1EBLHcRx39ixXqRIHcKtWaasKXeHjw5mZKX11SpTgkpNZh1WQwECuTh1FzCEhrAMyGIMHyz/zN29Yh6Ls3TvOxoYnFQJcx47c589soyv8wLtSpTB4MKpXx/nz8PDQQjsVANC1K0JD4eBguOfIOdzccO4cKlVSlHz+jAsX2AVUkOvX0aULBg7EkyeKQgOeHllU9+/j0CHFc0mZMwdxcfybLl/GN99otLiQ1hRpDPLcuQgPL2B0WvFVrYpz5+DkRMPFYW+P0FC0b68oOXaMXTTqvX6NCRPQoQP+/Vd105UrLAIyPL/9hqws+XNJpcLr17Fjh9qtnTrBxYX/kqxYdGEd5MxMyU18wERqKiZOxPbtAFCnjhTvNHJ3x9q1/Jtq1sSzZ6IGY4CePEGDBoq21bRpWLOGaUD/w3Gwt+c5M5DJ0K8f5szRaOyGlklgZpoCUR7MZm6OP/+Ejw9MTPDkiXTuQlDw9sasWfybnj+Xjx0k2uPlpXSOKZ1W4c6dqnnQ1BQuLrh9G4cPSyEPQjdSIcnNzQ1Hj8LWVor3Wstk+P13eHnxb716VdxoDMyrV9i5U6lEIqkwIUFpBG2JEnB3R2Qkdu5kNvsUH0qFOqhnT1y7Jt0brT09sWEDT78PdRdq1cqVqsvyREVJYsbyX3+VnxCUK4cFC/D8Oby9pTYAGbrRV0h4paTAwoJ1EOrt2YPRo5UWUevaFWfPsgtIr338iFq1eFZzv3oV7dqxCOh/IiPRtCkqVcKMGRg/nn8ZcWmgVqHOknIeBPDttzh4UGl1wKtX2d4toc/++IMnD0IC58hbtsDXF5GR8PCQch4EtQqJdl24gIEDFadpN2+ieXOmAemj+HjUrMk/BfKcOVi6VPSAcuE4XVkYgFqFRJu6dMGZMyhXTv6Sugu1Ye1a/jwICbQKdSQPglIh0bq2bfHvv6hWDaBUqB0dOsDLC+PGoXNnpVFJkEAq1B10gkxE8ewZnJxgYYHbt1mHou8SEvDokfzx5Am2bGE7ikNXUCokYnn7Fn364MIFlCrFOhRCVFEqJCKKiUFKiuoEvYRIAKVCQgihyyaCKHA1VEKItFEqFMLSpThzhnUQJF9paUhJYR0EkS5KhULo2BG9e2PZMtZxEDU+f8bIkbREKskHpUIhdO8OMzPMmYPvvkNyMutoiLKYGDg54dMnSoUkH5QKhWBpia5dAWD3bjg4SGXOmIwMxYTGEvfggdLEDYWSkJDf1ufPYW+PS5ckMime3P37OvOjMRiUCgXSr5/8yY0baNsW58+zDCbb5csIDmYdhGamTkW3bnj3rijvnTZNbTa8dw+OjvI5bu3tix6e4K5fx2+/sQ6CKKFUKJD+/RXDLd+/h5MT+7nUg4KwezfjGDTx9CnOnkVwMNq2Lcr0rnFx+OornksiV66gSxf5GrtGRujQQYBQhVKyJBYuxKlTrOMgCpQKBVK9Opo1U7zMyICHByZMQFoas5BOn0ZAgOp0nhK0dav8bPHVK3TpIl+8RXN2djh3DsOGKZ1iHzmCbt3w4YP8ZbNmsLERJlpBlCyJrCy4uCAqinUoRI5SoXByzpFz+PqiWze8fcsgmIQEXLuG2FgcP86gds1lZipNQ5+SgjFjMGFCIboO69cHgMOHMXq0PKX6+WHIECQlKfZp1gxDhmD1aoSGSmLOxJIlASA6GkOHsvxjSXJjuAazvgkO5l/uumpV7vJlsYP55x957UOHil11oQQG8n9onTtz795pdIQLFxTvGjOGW7WKMzJSPdr69YrnJUpwnTpxnp5cYCAXF6fl/54at28r4pk5k00MRBmlQuFkZHDlyvH/Ypubc1u3ihrMlCnyqi0suNhYUasulIED+T8xgKtenbt2reAjvHmj9gg5jwcP+MtNTbkvvuAuXtT+/1PZ06eKGGQy7sABsQMgedAJsnCMjdG7N/+m1FT8/beotxyePi1/kpKCgwfFq7dQ3r7N7/z95Us4Oqqu4pZXpUoF9ANWqQI7O/7Z5NPT8eoVWrXSIFZBZZ8gZ+M4jBkjxaVcDQylQkHl7S4EYGMDHx8cPqy00IdWvXqFhw8VLyV7HXnbtgL6BFNSMGoUJkwooIOvbt38tmbfRlOmDP/WVatQokT+YQovdyoEkJCAYcPo5ny2KBUKqk8fmJoqlfTujTt34OYmahgnTyq9PH8er16JGoCGTp7U6M+Dry/690dsrNodGjbM7+0ODoCaVNi9O77+uuAABGdhofo9uXULHh4MIiH/Q0ORBGVjA3t7XLggf758OcaPZ7C8Q1CQ0susLOzdix9+EDuMAmV/UCkpiIlBbGx+j5cvMXAgNm5E06Y8x7Gzy6+W7HEmeVOhqSnWrhXk/1EUJUqoLkiyeTPs7TF6NJt4DB6lQqH164cLF9CrFzZvRvXqDALgOJ7lhnfvlmIqzGZhgSpVNJrPVd1gtXxSobk5WrQAAFtb1U3Tp6NRIw1jFF7JkjxrM02ahJYt0bIli4AMHZ0gC+2rr7BlC06cYJMHAYSHIzpatfDmTdy5wyIaQalboyOfVJiRgXv3gDytwkqV8NNPwkVWeCrdhdlSUjBsmGKtVCIig0+FR48K/M2zs8O4cUIesLByrh2r2LNH3DhEZGfH3wtRsSK+/hpNmgB5UuHKlYzHn1hb85c/eYJt28QNhQAGnQqTk+HhgZUr9W3VIXWpcPduvZ0NxdpaddHL5s2xYweiorB/v3xurtwnyA4OGDFC1AjzytsqbNwYCxYgMhLTp7MIyNAZal/h1atwccHDh/r2FzglBSEh/JtevEBwMDp3FrjGly+ZdQXkZmeHN28AoFUrzJ2LoUNV24k5rUJjY6xbx36p8pxUWLYsvv4aLi7yK92EEcNLhRkZWLkS8+cjPR1WVhg6lHVAgrp6FeXLw9QUpUvD3BxWVrC2hpkZbGxgYSH8jPZZWZg8GYcPC3zYIrCzQ0YGPD0xYAD/DjmtwilT5BdS2CpXDs7OcHFB796qN9YQFgxsxbunT+HqqpjF77vv4OfHNCAdt307vv8eqakwNmYcSXx8AR0dQUFwckKFCnjwAKVLixWWehzHvmVKctF+X2Fiotar0NDOnWjeXGk201Gj2EWj+5KTsWABMjPx/j3rUFBwh2/2CbKXlyTyIEB5UGq0nAo5Dj//XIj9tXTDR3Q0vvoKo0Yp5eWqVeWz8JOiWbFCvnRBdiedxJUpg7Zt6Y8fUUfLqTAyEhs24P17ZGUVsFhwZibmzIGDg/BrCp84gZYtERioWu7qyv60TrKWLsWtW/ntEB2NFSvkz3UlFW7cqPbORGLwtPzNuHwZqanYsQP79yMsTO1uCQkYNAjLliEuDnv3ClZ7UhI8PNCnD//vqqurYBXpn5Ur0aIF2raFry//NAHz5inux9SJVFiqFNq2ZR0Eka7iXTbp1QvW1qhTB3Xrok4d1KmDGjWULodNnoyNG1G3LszMMHs2//jKyEgMHIj79+UvW7bML2lq7t49DByIx4/5t3bogMuXBahFL2VkwNxccRNi6dJwdYWHB+rUkZfcv4/mzRWzxfz6K+bNYxAnIcIp3s006en46y/VQltbeVqsUwdHjgCQ5yPerPTvvxg6VKnfPTwc166hXbtiBQbAzg5Dh2L5cvDmeuozykd2h0aOT5+wZg3WrUO3bnBzw+DB+L//U5o1SydahYTkr1gTv06bVvAEwrnntX/yROntPj6cqSnPnmPGFCuq3P7+m7OxUT2+mRn34YNgVeif8HC1P8TSpbmdO1ULBw9mHTEhxVW8vsLs0Z0asrVF7dry55mZmDhR7Wo++/blNzldoQwahKtXVWd2GjgQZcsKc3y9pG5dKmNj+Plh9WrVcmoVEt1XvFTIO3mcOpGRiufGxhgwQO2AreRk7NhRrMBys7PDpUv45htFCZ0d5y/vxDbZVq3Cu3e4cUO1nFIh0X3FToXq7hS1tka9ekolKSlKvzP9+uH2bbi58R9h0yb+Pr6iKVkSe/fCxwdmZqhQAb16CXZkvfTuHU/h2LH4/nssWsSz6c0bIX9YhLBQvFRoY4OqVVULS5aEpyeeP0dCguomlVFu2Yt+XLjAM9/cgwc4f75YseXl5obz5zFrFg35LEDeVqGjIzZuxLJlePmSZ/+0NME6NEi21FTWERicYt9XmPscuUQJuLsjMhJeXoiJ4Wlc7NrFcwRHR4SHw9NT9YbnjRuLG1teX3wh3cmcpUMlFdaujb/+wocPinuq83r9WttBGZC3b7F4MesgDI5AqdDMDG5uePQI3t6oWBEA/1RRt2/j0SOecktLeHkhOBiNGysK//6bfsHYyP03zNoagYEoXx5lyuDECfzxB0aMUO36gBa6C1NS8PAhTp3C5s2YNw8uLhgxQu31HH3y7BkcHcVbHJH8T7En6WrTBlOm4McfVdemUHfdY8sWLFvGv6ljR4SH448/8PPPSEtDRga2baN7dxnISYXGxtizR/7XzsICDg6KOfXi43HrFq5fx/XrCA4ueipMTUVUFJ48wZMneP0ab97Inz97pnRvY+PGOH5cdX5W/RMRAScnvHolwH21pJC0M0lXejqsrfn7O8qVw8uXsLDI7+23b+P773H1KqpXx9OnNFJYbNWqISoKAFav1nRFyvT0QvfApqaiWTP+swQVnTvj0CGpzCijPWFh6NUL799DJsOHD2oXbibaoZ0xyFu2qO33/fABBw8W8PZmzRASgtWrERODY8cEj47kh+Pkg3/GjCnEyrxFuBJlbo4hQwrebfBgnDih/3nw2jU4Ock/+Xr1KA+KTwupMD09v07fEyfQvXvBBzExgYcHbt3CgwcChkYKFhuLtDQ4OGDTJq3X5e4OM7P8dpg2DQcO6H/H2YUL6N4dHz/KX7ZvzzQaA6WFVBgRgWbNULMm/9ayZeXXVTRRpw5mzRIqLqKR6GjUqoWDBwtIUoKoUkXtcksyGRYswJo1+j+t1tGj6NNH6c4z6ihkQZsT+qemIjIS9+7h7l35vxER2L1baeAHkZrwcJiZKV3K16o7d9C8ueod2mZm2LYNI0eKFAND+/fDxUV1+GlICOztGQVkuMRd2+TzZ6SlKS3DSEjv3jh5UvGyZEkEBKB3b3YBiWXXLowZozTHDwATE8TH63+fgPSIe/ZRogTlQaJq5kzF80qVcOGCQeTBDRswapRqHgTQtCnlQSb0vSOGSJ+TE1q1AoB69XDxIlq3Zh2Q9i1bhilTlG6czEHXTBihVEgkYMYMdOiA//7jGceif2JicPq02q206gAjBrYOMpGm9HRkZBjWiWFQEGbO5FlLKzxcEivWGx5KhYQwkpWFXbvg6akYW21lhbg4mBR7OCwpPDpBJoQRIyO4uiIyEgsWyFvErVpRHmSFWoWESMCrV/j1V1hb5zcTGtEmSoWESEZamhiDfPRMVpYgQ5LoBJkQyaA8WATqJv0rJEqFhBBddvAg9u0r/mEoFRJCdBnHYdIkvHpVzMNQKiSEaOzOHa0sOlQcWVn49AljxxZz2UVdSIWrV/MPUSKEiCMrC0FBGDAAzZtj7VrW0SjLzoCnT2Pz5uIcRhdSYXg4Ro5UnciIED3w77/YtQtxcazjUC8xEb6+aNoUTk44cgQcV/xTUYHltJP+7/8QGVnkw+hCKuzQAfv2YdAgJCezDoUQQd26BRcXlC0LBwd4e8sn9JeIp08xZw5q1sSECbh/X1GekID4eHZh5ZFzXvz5M0aPRmZm0Q6jC6mwY0cAOHYMvXpJ+u8nIYWVPUlXZiZCQjB9OipXludElaWoxXfvHho2xLJliInh2SqphmHuLsKQEKxaVbTD6EIqbNYMJUoAwMWL6NZNWn85CSkOlfkKc3JitWoYPpxlF3njxli3Tu1WSaVClU9p3jzcvl2Ew+hCKjQxUcxhd+MGOnfGy5dMAyJEIOp6wNPTMXAg43Vdxo9XmlU3N0mlQpULx6mpGDUKaWmFPYwupEIAHToonkdEwNFRo/VzCZG4vLNYZxs2TBJLuyxfjq+/5imXcioEEBaG334r7GF0MBUCeP4cjo4ID2cUDSEC4e3jr127mPeFCMbICH5+PGtORUWxiEYN3m6EJUtw5UqhDqObqRDAu3fo2hUhISyiIUQgeVuFJibYtQulSrGIho+lJQ4dQv36SoUSbxUCyMjA6NGFuudER1Jh9eqoWlW18NMn9OyptFgaIbolbyr8+WfJrfxZrhyOH0f58ooS6adCAI8fY/9+zQ+jI6kQfA1DAElJGDgQBw6IHg0hQlBJhQ4O+PFHRqHkq25d/PUXzM3lLyWVClVOkEuUQP/+2LED0dEYPVrzw+h4KgSQloYFC/Dpk7jRECKE3KnQxgZ+fjA2ZhdNvhwdsXMnZDIAiInB58+sA/qf7FZhjRpwc0NgIGJicPgwXF1RunShDqM7s4fzpkJbW3h6Yvp0xd8rQnRI7ptpNm5ErVrMItHEsGF49Ajz5gFAVBTs7FgHBACYNQv29mjZspiH0Z1U2LYtTEwUf0VNTDB2LBYvVurCIES35HyfR4/GiBFMQ9HMTz8hKgobN+LVK6mkwsmTBTmM7qTCEiXQpAlu3gSAHj2wahWaNmUdEyHFk50K69aFtzfrUDTm7Y3Hj6XVXSgE3ekrBNChAxo2xJEjOH2a8iDRBxkZkrt7pkCmpggIQJkyrOMQmE4t8/TqFSpXlm6/MpGa1FQcPAhTUwwdyjoUNUaORNOmmDuXdRxEh06QAVSrxjoCoiMiIrB9O7ZtQ8mSuHWLdTTqffEFJk1iHQQBdKxVSEj+kpNx5Ah8fREUBABGRjh7Fl26sA5LPY6T355CWNOpViEh6ly/Dl9f7N2LhARFoYeHpPMgQHlQOqhVSHTZp0/w98fGjTxzczRogLAwWFqyCMsAfP01SpZE7dqoVUv+b9WqMNHhppUOh04MV1YW/vsPfn7YtQtJSTw7GBlhyxbKg1r06RMOHlQqMTVFuXKoUgV16ig9atbUiUudlAqJDlq6VD7mQZ2ZM+HgIFY0Bql5c5w9q1SSno43b/DmDa5fVyo3M8OXX2LDBtStK2aAhaVT9xUSks3TE19+qXZrw4ZYtEi8YAxTs2Ya7VahAn75BYGBEs+DYNMqvHJF3rcdGwsAqanyc5y4OGRlIS1NPtI7IQEZGcjMhKsrOndmECeRrM2b4eeHzp3x9KnqJhMT7NhBp8ZaV2AqLFsWP/wAd3dd+VmwuGwyYACOHNFoz3LlsG0bBgzQckBEp8TGomxZlCuH0aOxfr1qX+FPP2HxYkaRGZLkZFhb88/CXeyZG5AAACAASURBVLIkpkzB3LmwsRE9rKJjcYI8fLhGuzVtinPnKA8SVTdugOPw/j1+/131l61x4wL6EIlQLC1Rr55qoZUV3N3x+DG8vHQrD4LNCfJXX8HSsuC5tu/cQbNmqFwZbdrAwQGdOqF1a1hZiRIikbDcvfJv3iieZ58aW1iIH5GBatYMDx7In5uZYfRoLFyIypWZxlR0LFqF1tbo00fTnd+8wZEjmDMHjo6wsUGTJnB1hbc3goORmqrNKIlUhYXxl9eoATMzcUPRAMfh99/57/jRddndhUZGcHbG/fvw8dHdPAhmV5A1PEdWkZGBe/fg54cFC3DggLSW3SKiuXGDv/zJE7RqhWHD8OyZqPHk7/FjzJ6N+vXh68vfs6a7WrbEiBG4fx/+/qhTh3U0xcVotElSEipWRGKiosTcHG5uWLu2gDfWr49x4zBhQmFn6yZ6IjERNjb86z3msLLCtGmYM0cSX5K9e/Htt/LnjRtj+XL068c0IMKPUavQygr9+yteNmiAy5fh7q52fyMj9OiBwEA8eABPT0l8xQkTN24UkAcBJCVh2TLUrYtly5CSIkpY6l27pnh+7x7694eTk6QnyzFU7G6xzjlHdnFBaChatkSVKjy72djA3R2RkTh9GgMG0PB1Aej0qHN1HYU5KlVCmzYYOBDffguOU8pETOQNICgIrVrB1RVv37IIiPBjN/CuTx9Ur46lSzFypLzEygqlSiE+Xv6yYUNMnIjvv0eJEqxi1EM//4yWLTFkCOs4iir78rGtLSpXlg93zf2kZk2ULMk6xFwyM/lzd1YW/PzQvDlmzRI9JsKP6cw0CQmwtlYqadgQjx6hb194eKBHD0Zh6a+ffsKSJWjSBLduwUg3x1x++AAbG5iaso5DM7duoUULnnKZDCtW4P/+T/SAiFpMp2NQyYMA5s/Hl1+ialUW0eg1jsOMGfK1hO7eRUBAES/iM1euHOsICoP39NzICD4++P570aMh+aH5Cg0Ax8HdHevWKUrs7HD3rk7PLqcbJk6Ej49SibExtm7FqFGMAiJq6eZZEtEcx2HqVKU8CODhQ+zbxyggQ3L1qtJLMzP4+1MelCYDSIV+fqwjYCczE2PHYsMGnk2LFinWIyfakJKCO3cUL62scPiwDl+wkpqHD7FgAR49Eup4BpAK583D8+esg2AhMxNjxmD7dv6tkZHYuVPUeAxNWBjS0+XPbWxw6hR69mQakF74+BG+vnBwQMOG+OUXREcLdWB9T4WfPuHFC6xcyToO0WVmYtSoAlrEv/yCtDSxAjI8OddMbG1x8iQ6dWIajSRxHObOxcePBe+ZnIyAAAwYgMqVMWECQkLkt8cKN7hb31Ph3bsAsHmz0hQmei8tDUOHYvfuAnZ7+RJ//y1KQMXQpQscHODhgYAAvHvHOprCyE6FlSrhwgV06MA6GkmSyWBlhaZN1U5gmpmJoCC4uqJCBQwbhiNHFA3tbNnTPAsSi55fQd68GW5uADB3LpYsYR2NKNLSMGwYDh3i2VS5Mpo0QePG8n9btpTWDcm8+vbF8eOKl9mTtmU/HB0lPQSzYUMkJyMoCPXrsw5Fwl69Qq1ayMrC+PFYuVLxhbx+HTt3Yv/+Av7+7d6tGOJdPPp+O8X9+/In69dj9mxJ/+YIIjUVzs44fBgAbG0VWa92bRw6hC1bdG/kYqVKSi+zJ23LbkQYG6NBA0VmbN9eKpN0ZWYiMREyGYKDUb16UY5w9SrKl0ft2kJHJj3VquHLL3HmDHx9cfo0VqxAeDh278aTJxq9nU6QNXXvnvxJfDz/hVQ9c+QIevfGuXP48AExMQgOho8PPDywfz+2bZPfYq1bVFJhbpmZ8knbpk+HoyPKlMF33zE+iQ4OxtixSExEXBzOny9iHgRQpw7atsXevYIGJ1VjxsifPH2KYcMQHY2ZM+HsjFKlCn6vgBNBcvqtenUOkD/KluUSE1kHxMKaNfJPwNycCwtjHU0heXsrfoL5PDp14vz9ubQ0ZnGePs3Z23MAt3GjMAfs1YsDOBcX/f/SJiVxpUsr/TSbNePCwrj0dC40lPPy4nr04ExM+H/uS5cKFYVep8KEBE4mU/rg1qxhHZPorl3jzM0Vn0Djxtznz6xjKoz9+/PLgNbWnJsbd+sWs/AyM7nAQK5tW8XHm54uzJG3bZMfs2FD7uZNYY4pWW5uqj9ZCwvOy4vLyJDvEB/PBQZybm5c7dpKu82fL1QIep0Kr1xR/XyrV+dSU1mHJaLYWK5OHdUPYfJk1mEVxoUL/EnQzo7z8uJiYpgFlpbG7djBNWyoFNXJk4IdPy6Os7BQ5IXVq5W2entzBw8KVhdzly7x/5Tt7blHj1R3fvyY8/HhnJ05W1tu5kyhQtDrVPjnnzwf7p9/sg5LLFlZ3JAh/N+wf/5hHZzGHjxQitzIiOvfnzt9msvKYhZSSgrn46PU95L9+OorgSsaNEjp+EOGKFJ/06by0+eEBIErZaVRI/7vaqlSnI8P/1syMrg3b4SqX69T4ezZPJ9sgwZcZibryESxcqXa88py5bioKNbxaSYuTh5zxYqcpyf37BnLYOLjudWrucqVeT5SMzPuwQOBq9u7V7WWGjW4kBDu4UNFSa1a3MWLAtfLxLJl+fWEbN6s7fr1OhX278//sQYEsI5M+65c4czM8vtuOTnpzJ+EHj24PXsY92y8f88tWMDZ2qr9PIU7U1P4/JkrWVK1IhMTrnt31RJPT5aXjATx5g3/tRETE87LS4T69ToV5u0my360bMny9EoEHz9yNWqo/aU1MuLs7bk//tD/S5MC2rxZ9RJc7kf58lxsrFbq/eab/P6e5X60b889fKiVGETTt6/qf6pCBe7sWXEq199U+PkzZ2Sk9ntz4gTr+LQmK4v76iv+DNipE7d6NffqFesQddOSJWq/TkLdQJPX339rmgoBzspK9eqKbgkIUPrvODhwr1+LVrn+DrwLC0Pr1vLnZcqgXj3Uq4f69eVPGjWCjQ3T+LRm2TLMmaN4aWSEL76AszOcnfkX0iKamz0bv/+uWti4MW7e1NY8uKmpqFgRcXGFeMvgwfD11bHpvrOlpaFqVXz4AABubli3TtSVG0RLumJ79IjbvZu7coX7+JF1KCK6dIkzNeUAzthY3gYU8e+q/svK4saPV22LCXgDDa/RowvRMMx+VKzIHTmi3ai0ZOpUztKSyW0e+tsqNEAxMWjXDpUrw9kZw4fnN2SNFFlmJr79Fv7+8pcDB/LPfCGgEyfQp0+h3yWTYfx4rFoFKystxKQ1ERHIyEDTpuLXTKlQjzx4gPLlUaYM6zj0XVoavvoKJ07AzAy3b8POTrvVZWSgalX5HKVmZmjbVpEpEhL4pyLPypKfUzdpgt9+o+VzNUGpkJDCS0pCr17o0AErVohR3aRJ2LQJDRti3z7+1URJsen7JF2E5MjIQMWKkMlgY4PSpVGqlNKjdGnY2KgWVqrEf4JpZYVDh8RbS3r4cKSlYe1aHTvb1SnUKiy8T58wezbq1EGXLmjXjpbQFFhwMBo1QtmyWjl4nz44cULTnZ2dsXYtKlbUSiREYigVFsm9e3BwQGwsrKxgb49OneDgAEdHmJuzjkz3de+O8+fRqhV69ECPHnBwgIWFYAdXudNInfr1sX49nJwEq5dIHqXCorpwAb16ITVVUWJlhVat4OCAHj0oLRbdgAFKK11YWqJTJ3labN26uLNwX7mCjh3z28HSErNnY+5c+vEZGkqFxbBvH779FrwfIKXFIhs+XHGrigo3N/j4FOvgGRkoWxbx8fxb+/fH2rWoVatYVRDdpO8T+mvVN9/gt9/4NyUlISQEy5bByUm+zhTRkLorA6VK4eefi3twExP+RTirVoW/Pw4fpjxosCgVFs/cuZg6Nb8drK0NZaU9oahLhcuWoWpVAY7/5ZdKL01N4e6OiAg4OwtwcKKzKBUW2+rVGDRI7dZFi4T5BTYcvKmwY0fBGte5U2HnzggLg7e3DiyCSrSMUmGxGRtjzx7+zvimTQtoM5K88qZCMzNs3SrYTXxt2sDGBmXKwMcH58+jSRNhDkt0HKVCIVha4vBh1ZW/ZTKxp9bQD5aWqiU//ojGjQU7vrExVq1CZCTc3HRvVWiiNZQKBVKuHI4fR/nyipKxY9GlC7uAdJZKq7BBA3h6ClzFmDGwtRX4mETHUSoUTt26OHJE/ptcpgyWLmUdkG7KnQqNjLBli5C3WBOiBqVCQbVvj717YWyMpUuVWohEc7lToZsbHBzYhUIMCI2fFdrAgThwAAMHso5DZ+WkwsqVqWVNREOpUAvyubeGFCgnFa5fj9KlmYZCDAidIBOJyU6F/ftj8GDWoRADQqmQSIyVFUqVwsaNrOMghoVSIZEYKyt4eaFaNdZxEMNCM9MQiUlJgZmZeBNEEwKAWoVEciwsKA9KRVISjh3D27ciVffuHf+Ud6KgViEhRI30dFhYICsLtrZo3Bht2sgfjRsLOWYxNRWnTsHPD//8g48fYW0t2JELg1IhIUS9ypV5WoU2NmjaVJEZGzUqYkP+7l34+WHbNrx/Ly959YrVTE6UCnXcf//B3p51EER/tWuH0NAC9ilVCq1aoXVrtG6Nr7/mmVBDxevXCAjA9u0ID1fddP8+GjYserTFQJ0yOu7ECbi6IimJdRxET2lyKT8+Hpcv48MHtGhRcB6MikKDBpg+nScPZh+KEUqFOm7wYPj5oVMnREayDoXoo+rVC9ihYkUsWIBXr7BzJ5o1K/iAVati0ya1WykVkiJq1Qp16iA8HG3a4MAB1tEQvZNPz12rVvDxwbNnWLgQ5coV4pgjR2LCBP5NlApJ0WUPUIuPx7Bh8PBAejrrgIgeyXuCbGSE/v1x+jRu3ICbWxGnUPP2Rrt2POUJCUU5mhAoFeq+IUPkTzgOa9age3e8fs00IKJHcp8gW1vD3R2PH+PwYfToUazDmpvjr7942pLUKiRF17EjqlRRvLx4ES1b4vRpdgERPZLdKqxTB15eePEC3t6CrY9avTr27YOxsVIhpUJSdEZGqtOCvX+PPn2wcCGyshjFRPRF1aoIDMSjR/D0FH7OtO7dMX++UgmdIJNiyTufVWYmFi3CwIGIiWERENEX5uYYMECLQyHnz0efPoqX1CokxfLll/yX8I4eRcuWuHxZ9IAI0YyREXbvRp068pfUKiTFYmKC/v35N718iV698OyZqPEQojlbWxw8KL83m1qFpLhyriOraNQI584J1tVNiDa0aAFvb4BlKqQxyPoiNRUVKih9k2QyjB+PP/5AiRLswiJEY+PG4ebNgoc8awe1CvWFublS93OFCggMhI8P5UGiM9avR716rCqnVqEe8ffH8OEAYGuLe/dQqRLrgAxAZib27YOlJSpUQMWKqFKF/vYUy/v3rBYQp1SoRz5+RJUqSEsDgLNn0bUr64AMQ2QkBgxARIT8pYUFbG1RpQoqV1Y8yXlZrRpsbJiGS/hRKtQXnz9j8GDFIJOuXXH2LNOADElMDIYOxblzGu38zz/46istB1SQjAyY0BroSordV0iZVAo+fULPnkqD7c6dw7//sgvIwJQpg1OnMGVKwXtWqYK+fbUfUL4yM/HLL4xjkJ5ip8K1a9GkCSZMQEAADWxgIyYGPXviv/9UyxcvZhGNoTIxwbp18PEpoLU1cSJMTcWKiQ/HYcIE/mlTDVuxU6G1Ne7dg68vhg1D+fKKtPjxoxDhkYK8fYsuXXDtGs+m06cREiJ6QIbNzQ1HjqjtDTQ1xbhx4gaUx/z52LqV7jPNq9ipMPdPPStLkRYrVECHDgyH0RiKpUtx547arb/9JmIoBADQqxeCg1G7Ns+mr79WmkNIfD4+8q8EpcI8ip0KS5XiL8/KQpcurNbxMyDe3jhzBq1b8289fpy/wUi0qmlTXLuGLl1UyydPZhHN/wQGKnozKRXmIWirMLdq1fDzz8U9ONFEt24IDYW/P//3m3oMmShbFidPYtQoRUmTJnBwYBbP5csYMQKZmfKXlArz0Foq9PZGyZLFPTjRkEwGZ2fcuwcvL9V2emAgq5FMhs7cHNu3Y/Vq+QxXU6cKuYx6ody7h759lZZF5D1/N2zFvq/w3TueUQ29euHEiWIdlhTZhw/49Vds2ICMDHnJkCH46y+mMRm2Y8cwfjzu31fbm6RVUVGwt8eLF4qSUqUQF8cgEmkrdipMSVFd+dTcHLduwc6uWIclxRQRgZ9/RkAAAMhkCA9H8+asYzJgsbGwtWVQb1wcOnfGrVtKhS1a0M00eRX7BNnCAubmSiU//kh5kL2GDeHvj6AgtGoFjqNLyYwxyYPJyRgwQDUPgjoK+QkxM03uZn+9epg9W4BjEkF07y6/onLtWn733BB1OA4nTiidXeqKrCy4uODiRZ5N1FHIR+hU6O1dxHVRiZYYGcHZGXfuIDWVdSg6JT0dAQFo3x59+iAsjHU0hTd9utoO4po1xQ1FNwgxJDvnIvKwYezHVxJeVlZo04Z1EDoiMRFbt+KPPxSNwadPmQZUeHFxSEyEmZl8miIVdILMR4hWYXYqtLbGH38IcDRCWImOxsKFqFkT06crnRTrXCq0scG2bXjxAgsWoEwZ1a10gsxHuFS4aBGqVhXgaNIxezaiolgHQcTy66+oUQOLFvHMKvLkCYuAiq1iRSxciOfPsXo1atRQlFOrkI9AqbBpU0ydKsChpCM4GCtWoFcvmm7HUIwYoXa8gE6vF1iyJDw8EBkJf3+0a4cyZWjuWF4CpcJ16xhPPSSszExMnQqOw9276NsXiYmsAyLaV68eDh/mn45f506Q8zI1hbMzrlzByZOsQ5EoIWaxjohAw4ZCBCMZmzZh0iTFyx49cPQozMzYBUTEcvQoBg1SDNTJER3Nas0NIg4hWoV6lgdjYzF/vlJJUBDGjEFWFqOAiIj69cOff/IMFtaDhiHJFy3+mcfChfjwQbVwzx5Mm8YiGiK6777jmc6HUqG+o1So7P59bNzIv2nDBhq+Zih+/BHTpyuVUCrUd5QKlc2YgfR0tVvnzcPatSJGQ9hZuRLDhileUirUd5QKc7l5s+Cp/WbMoAmvDIKREfz84OQkf0mpUN/ROsh5PHmC4GBcv46QEISF8VwtMTNDYCB69WIRHBFXfDy+/BJhYahXD48esY5GL7x7h0OHYGsLY2OUKgUzM5QoASsrmJvD2homJihdmskct5QK85WQgCtX5JkxOBifPsnLra1x7hyN6jUI0dFwcMCzZ0hOhrEx62h0X0ICypbNrxsKgJERbGzkWdLeHt7ePMMHhUapUGOZmYiIQEiIPDNGR+PiRa3cSPTuHa5dA8dhwADhD06K4PFjdOqEa9dQvTrrUPRC5878s4epsLTE7Nn48UdxbumlVFhUUVGIikL79gIcKiEBN2/i+nX54/59cBw8PLB6tQAH1w+nTqFnT5YBhIbCyEjtyoKkUH79teA14Dp3hq8vGjQQJSBAmEm6DFPVqkWffiI9HQ8fyrsjg4MREcHTI1m5cjED1K7Ll9Gxo3h19eoFd3esWiVfMkl8bduyqVcv9eyZXyosXRrLlmH8eJF7DCkViuXJE5w7h2vXcPUq7twpoK8E4Fk8SzpOnUJgoHipcP16AFizBlFR2LkTVlYi1Uu0pG1blCnDP9FJ//7YtInJHFd0M41YqlaFqSkuX0ZYWMF5EECVKtqPqUjS0uDujo8fRaru/XscOCB//tdf6NQJr15pvdKXL3H6tNZrMVjGxujWTbWwcmX89RcOH2Y11x+lQrGYm8PVFeHhCA2Fi0vBE/lI9gR55Uo8eCDe3GWbNiElRfEyPBwdO+LGDe1W+uEDZszgmZSBCCXnhk0AMhnc3BARgSFD8ntL7q+BFlAqFF2bNti5Ey9ewMsrvz+A0mwVRkVhyRIAIrUKMzLg68sTQ5cuCAzUYr0fPuDuXfj4aLEKA5dzW279+jh7Fj4+BS8S7eyM/fu1GBJHGEpN5fz9uR49OEDpYW7OZWWxDo7PN9/II6xdW4zq/P1VP5mch7Ex5+WlrXr37OEAztaWe/9eW1WQxo05T08uJUWjnQ8d4gDO1JQ7cUJL4VAqlIbQUM7NjbO0lP+e16zJOiA+Fy9yMpk8wlKlxKixc2e1qTD7MX48l5YmfL1r1siPP3my8Acn2eLjNd0zNZWzs5P/RKytudBQbYRDJ8jS0KYNfHzw7Bm8vFCjhhTPjnNm9s6WkKDRxZ/iuHOn4BtxN29Gv36KUUD5SEvD+fOaVp1z+u/jg5s3NX0XKRRra033XLECDx/KnyckoHdvPHggeDiUCqWkQgV4euLxY/ntI5Kyfr1SUuA4xMZqt8Y7d9C9O5o0KWDQ1enT6NSp4OkSjh2Dv7+mVeekQpU/AER8UVFYulSp5MMH9OmDN2+ErYdGmxANREejQQPVxtf9++JNYJ6aio8f8eYNXr+W/xsbq3j54gVsbHDwIN6/x9df8x/B2Rnh4ZpOqTBiBPbtU7z094ezswD/C1IEI0dizx6e8mbNcOECbG2FqodSoS548EDMEUg8vv8eW7eqFgYHo1MnFtHkkZGB6Gi8fYsBA/DkCczNVXeIj0elSkhOxpMnGq0C7OSEoCDFy+rVcf8+/wpQRKtCQuDoqLZV3qULTpyAhYUgVdEJsrSFh2PYMBw8yDKG69fx55885dJZFtXEBFWq4OVLvH7N37144ACSkwHgzBmNDqiyosPLl/j992JHSQopMxPTpqnNg6amqFmTZ+2NoqJUKFUhIRgwAK1a4b//4OHBLIysLEyZwr/ElWgDTjSUPaXu0aM8m3bvlj/RcAxJ3l+w5ct1ezVkXeTri7AwnvKSJeHujshI7NiBatUEq04bl6VJsVy8yPXvr7hfxM+PZTBbtqi9kWXlSpaBqUhL42xtOYCrU0d1U1QUZ2wsj7lsWS4zs+CjWVjw/H+dnbUROOEXE8OVK6f6IyhfnluwgPvwQRsVUqtQSoKD0b07HB1x5Ii8pGVLfPsty5CCgtT2kUnnBBnAqVPyK9pPniAiQmnT7t3IzJQ///iRv6GRW2Ii/xivgAAamCye+fOV2ua1a2P1ajx7hoULUbasNiqkVCgNQUHo2BGOjjh7Vql8xQpm01Jl27sXcXG4cwc+PnBxUZq7VFKpMPeCM4cPK23KOTvOVmA6y6f7iQYmiyP3qMcWLbBjBx4+hIeHViclolTIFMfh8GG0bw8nJ1y5orr1q6/QvTuLsJQZG6NJE7i5yYdOR0Rg61aMHl2IW2S1LSNDKf3l7i68d0/1Huncl4Z5qesDrVsXrVvj5cuixUgKYepUZGSgUycEBiIsDK6uMNH6dII0XyE7/v5YvBi3b/NvNTXFsmXiBqSZBg3QoAHGjmUdRy5nzyo15YKD8fGj/DTKz09155AQJCXl1754/17+xMQEdnZwcECnTujSBTVrChs14efvj5IlcfkyOnQQs1pKhexERKjNgwAmTmR8L6EOUVmONTMTp05hxAhwnNKd0tlSUhAcnN/yAGXKYOlSdOqEtm1haSl8tCR/ffoorUAtFrrFmqk5c/ibfqVL49EjlCsnekA6KDMTVaogOlqpcORI7NqFf/9Fly48b5k1i+4TJCqor5CppUsxcSJP+U8/UR7U1IULqnkQwPHjyMhQvWCSgy4EkzwoFTIlk2HDBtV+t9q1MW0ao4CUxccjMbEob8xevkocKmfH2WJi8O+//JsA3LqFt2+1GhTROZQKWZPJ4OurNNrfy4tnFK340tMxbBgWLSr0G9PS4OaGQYMQGamFsJRlZeHvv/k3bd4Ma2vY2vL093Gc6k1LxODRZRMJMDbGrl1ITMTx4+jQQRKToHAcJkzAyZM4cwbffYcWLQrx3t9+w717ADBwIP77D6VLaylGAAgOVjtZ061bSjN3xccjLQ3x8UhORkpKARN/EcNDl00kIykJffti8WI4OLAOBViwAL/8In/u4IB//9V0UdqICLRsidRU+ctevXDkiBZvCps3Dxs2AEBWFuLiVLc+fow6dbRVNdEvlAqlJC0NZmasgwC2bcO4cUol27dj1KiC35iVhc6dERKiVDh9OlatEjI8TaSnIzERJUsWvLIgIQAoFRJVZ8+iTx+kpSkVli2LBw8KHvu5Zg3/JDobNmDSJMEiJEQLKBWSXG7fhqMjz5kmgEmT5Kei6rx4gaZNkZDAs8nUFMePS2IQIdEVMTGwtdW0W0YIdAWZ/E9UFPr25c+DAHx8cPlyfm+fNIk/DwJIT4ezM54/L26ExEBcu4aZM8XMg6BUSBQ+f4aTk9r7eLKyMHWqYrYrFXv24Ngx/k1mZnB2hr8/atQQJk6ixzgO3t7o1Alt2ohcM50gE2XR0fjzT3h789+ksn49Jk9WLfz4EY0b8wz5qFwZrq6YMkVpai9C1ImPx7hxOHAARkZ4+VLkJXApFRI+qanYvx/Ll+PuXaXyUqUQEYHKlZUKR43Czp1KJW3awN0dI0bQBVyiqRs34OyMJ08AwMGh4CWwhUYnyISPuTlcXeWLsvfvr+i1iY/HnDlKe549q5gIy9oabm64dQuhoXB1pTxINOXrC3t7eR4E1K7gqk3UKiQauHUL69fDzw/JyZDJcOYMunYFgKQkNG+Ox4/RoAHGjIGbm4Dr0hKDkJAANzeludRkMjx9Kv7skJQKicaio7FhA9avR4UKCA+HqSlmz8b9+/DwQPfuIl/vI/rg3j04O8uHaebo0KGAexW0g1IhKaTkZPj5oXJl9O+P9+9RoQLrgIhu2rkTkyYhKUm1fPly/PCD+OFQKiSEiCs5Ge7u2LKFf2tkJOrWFTcggGamIYSIKiYGjo6qJ8U5WrdmkgdBV5AJIaIqUwaLF6sdzz50qLjRKNAJMiFEdO/eYfRonDihWh4RwWp1M2oVEkJEV7Eijh3D6tVKs9I1b85wlUdKhYQQFmQyeHjg+nU0ayYvYXFndQ5KhYQQdpo2xZUrcHcHWHYUgvoKCSGScPYsunVjRc7s2QAAF7NJREFUWD+lQkIIoRNkQgihVEgIIaBUSAghoFRICCGgVEgIIaBUSAghoFRICCGgVEgIIaBUSAghoFRICCGgVEgIIaBUSAghoFRICCGgVEgIIaBUSAghoFRICCGgVEgIIaBUSAgh0J9UGByM7dtZByGEz59ZR0CIIdKLVHj2LPr0wfz5SEtjHUqxpaaiRw/s3ImMDNahEGJAdD8V/vMP+vZFYiJevcKuXayjKbYyZTBoEEaNgp0dvL2RlMQ6IEIMgo6veLdzJ8aNUzSg6tZFRARMTJjGVGyZmWjTBjdvAkD58pg8Ge7uKFOGdViE6DNdbhV6e2P0aKUTycePceAAu4AEYmyMdesgkwHA+/dYtAg1a8LDAy9esI6MqJeUhMRE1kGQotPZVLhsGaZPR94m7a+/IiuLRUCCcnDAsGGKl4mJWLMG9erB1RV37rALi/DJykJAAJo0wcmTrEMhRaeDqZDjMHEi5szh33rvHg4fFjcg7VixAiVKKJWkp8PPD82awcFBT/6PeuDMGbRti2HD8OwZQkNZR0OKTgdToUyG4cPRsqXaHZYsETEaralWDXPn8m8KCcHAgbC3R1CQuDGRXCIiMGwYevRAWJi85No1pgGRYhElFaamCnzArl1x/Tp27EClSjxbr17Vkxwxaxbq11e79c4d2NqKGA35nw8f4OGBZs0QEKBUHhqqD50zRRATg02bdL2rVJRU+Ouvwh/TyAiuroiMxIIFsLBQ3frbb8LXKD5zc/z+O/8mU1MEBKBNG3EDMnhJSVi2DHXrYs0anhs/4+IQGckiLHauX8eECaheHYmJKFmSdTTFw4mgShXu3DktHv/FC87FhZPJOEDxuHhRizWKqU8fpf8XwBkZcfv2sQ7LwGRmcv7+XM2aqj8LlceuXawDFUVsLOfjwzVrJv9fd+jAZWSwjqm4tJ8KY2I4gOvdW+sVXb7MffGF4kvZt6/WaxTHw4ecubnS79uqVaxjMjCnT3MtWhSQBLMf06ezjlXLQkM5NzfOykrxXzY35+7cYR2WALSfCi9ckH9k169rva6sLM7fn6tRQ15jaKjWaxTHrFmKb968eayj0RFJSVxUFBcaygUGcjt2cF5enLs75+LC9ejBdejA/fuvRgd5944bMUKjJJj96NRJy/8rRlSagbkfS5fy7L97N5eeLnqUxaL90SYbNmDKFAAYMQJ79mi3rmxJSVi+HMuXo18/1Y5tHZWQgAYN8OYNXF2xfbv87muSm48PwsLw9i2io/H2Ld69UztmsU4dBAaiSZNCHDw1FR8/4s0bvH7N8++7d4qrJVZWiIvT+fFOuV2/Dl9f7NrF/3m2aoUrV2BqqlQYE4Ny5VC/PhYvhrOzOGEKQOvJdvJk+V8PY2MuMlLr1eV4+ZIbNYq7e1e8GrVq+3ZuwACd+0srniVLNGq12dtz794JXHVyMhcZya1ezXXpwvXowX36JPDxWfn0iWvSJL8P09ycu32b543Hjin26dqVu3FD9NCLQvupsHNnxecyZYrWq1ORnCx2jVqSlaU//xdteP+es7AoIA+OGCH8Z3jnDufpyVWsKK9i7FiBj8/WmjX5fZ6LF/O/a+FCpd1kMs7ZmXv2TNzQC037qbBsWcWHYmHBvXmj9RqJYRo5Mr/f2xkzhKzr5Utu9WqeaynDhglZixSMH8//ebZsyaWl8b+lXz+e/a2sOE9PLi5O3OgLQcupMCpK9ROZP1+7NRKDFRycXyo0M+OcnbnTp7msrOJWNG8eZ2TEX0ufPkL8T6QkLU3pxC77YWKS31XQnDZy3sesWSKGXjhavsU679wB69fr+l3pRKI6dULr1mq3pqUhIABOTmjWDBs2FOtLOG0aKlfm36R/k5CbmsLfH9WrKxXOn6/2o372DO/e8W+aOBHLlgkcnnBET4UxMdiyRbuVEvHFxkpiCvEJEwre5+5drFuHzMyi11KhAgICVC+bZtPLP/MVK+LQIVhZyV+2aKF2dDyAq1f5yz09sWEDjKQ76YGWI7t7l6dw5UpJ/NoQoTx8CHt7/PNPfvsIPg6d13ffKcZld+jAv0/ZsggMhI1NsSr64gssXsxTrpepEECrVvD1BQATE2zdyv9nIBvvnBSenvDykvhNYKK3CgG8eoV9+7RbLxHNsWNo3x4REdi8Wak8MRHBwfD2hqsrevZETIwYwVhZwcUFMhkWLMDgwTw7ZI/drldPgLp++IGnCn1NhQBGjsSsWfjppwJGvqukQpkMf/wBLy+thiYMLfZDZmVx1tb8vaeNGnGZmVqsmoggK4vz8lJcQJDJuKNHuR07OHd3rk0bRXnVqtyTJ+JFFRHBHTzIcRw3cybPF8/HR8i6YmO5OnWUjl+qlJDHl5qMDC41Nb8dMjOVfuWNjbktW8QKrri0mQqfPFF7IUkm44KCtFg10bbERG7o0ALu4wO48uWZ3eX+3XeqwcycKXwt4eGcpaWiCiMjAa5Q667bt5Uu2fv7sw6oELQ5Quj2bQAwN0fVqqhTR+nRoIHOT+ljyF69Qvv2ePOmgN1Kl8bJk2jcWJSY8lC5jtmrl1YuX7ZogVWrMHGi/GVWFlJSYGkpfEU6Ieeaibk59u3DoEFMoykcbaZCe3u8fYuKFbVYBRFfcDCGDlV7w0QOKysEBqJVK1Fi4pM7wkaNsH8/jI21UtGECbh0CTt2yF8mJhpuKszuKCxRAv/8gx49WEdTONq8bFKuHOVBPVSmDGrWLGAfMzMcOABHR1ECUiMnFQpyyTh/69cr5nfQ4ysnBbp6FaVL4/RpncuD0Mm1TQhbjRvj0iX4+Kht+xgbY9cu9OkjbljKsrLw8SMg6CXjfJQogYMHUaoUYMCpMCUF0dE4fx5ffME6lKKgVEgKz8gIbm64fVt1EEK2nj3ZT8304YN8wv1169C1qxg12tnJ77wz2FT47h3OnEGLFqzjKCJKhaSo6tZF166KQQg5btxgfwt99tnxrFlwcxOv0uHDMXmy4abCmjVhZ8c6iKLT/tStRI+VKoWEBJ5yf3/GDcOgIKxciSNHtHWpRJ3UVLx4kd86hUSqKBWSouI4mJgoLXcpkyH76+TkhFOnWMUFAGFhqFtX3nlHiAYoFZKiSkpCiRJqtx46hIEDRYyGSEl2VpH2oGMV1FdIiiqfTjEjIwQHixgKkZi5c7FzJ+sgCodSISkqdanQ1hbnzyMqCunp4gZEpMHLC8uW4ccfdesKEqVCUlS8X3SZDH/+CUdH7NoF6nsxQDt24McfAeD1ayxfzjqaQqBUSIqKNxXOmYOvvgIAmQxmZiJHRBj7+2+MG6f4E7hiBZ4/ZxpQIVAqJEWVd/L6Ll3wyy8sQiESEBSEESOUpgdPTpa3EHUBpUJSVCqtwooVsWePXq2GTjR3+TIGD+aZq3zvXl25gEapkBRV7lRoZIRdu1ClCrtoCDu3b6NvX/4OE47D9OlKN59KFaVCNZKT2dQbFITISDZVF1bur/7ixbo4GQkRwOPH6NkTsbFqd7h+HXv2iBhQEVEqzOPSJQwYgCVLGFSdmorJk9GrV8GzAUpBTl9h377w9GQaCmEkKgo9euDt2/z2qVABly5pdLSsLIY3YFHPTi6XLmHJEhw5AgDm5gwCWLoUjx4BQL9+OH9e6hN9Z7cKq1fHjh1SXtSRaMuHD+jZE8+eqZabmMDODg4O6NQJbdqgcWNNh538+itmzMhvOT1tooF3AJSTYLZGjXDvnqgxvHiBRo2QlCR/2b07jh2T9P0oP/wAb2+cPw97e9ahENElJKBbN4SGyl9Wrow2bRTprwjzeJ87BycnpKSwuvJm8KkwbxLMZmqKxERRM9HAgTh8WKlk5Ej4+Ul3IOekSWjSBFOnso6DiC4tDcOH4/17tGmDNm3QuTNq1SrWAd++RatWiI1FSoowERaeYafCy5fh4KB0J1Rud++Kt0TRyZPo3ZunfN48/PqrSDEU1uHDGDCAdRCEheRkmJoK1nzLyEC3brh4EWXL4sMHYY5ZeIbdxdOxI7ZuVdvPdf++SGGkpsLdnX/T4sVYu1akMAqL8qDBsrQU8jT2p59w8SKA/CY60j7WqfDRI8ydi7AwZgGMGgVfX/6TUNH6Cpctw8OHarf+3//hxg2RIiFEZEeP4vff5c8NMRWmpSEgAE5OaNAAMTEsl4gEMG4cVq3iKRenVfjihdr1eU1N4eyM//5D69ZiREKIyF68wKhRijHLTG+ZEP1izaNH2LoV27bh/XsAqFpVKwt1F5aHBxISMH++UqE4qXDaNMVV4xzW1hgzBrNm8a+jRIgeSE/HN9/IFybMxrRVKFYqTEvDoUPw9cWZM0pzN23ejNKlRYohf/PmITlZ6c7qiAhkZmp3cYyTJxEYqFRSuTLc3DB9ulQ+FkK0ZMYM1Vuv9TwVPnyIbdsUzcDcxo5lvFquit9+Q0aGYpK1lBQ8e4a6dbVVncrVkpYtMWMGRoxgdYspIeLx98f69aqF+pkKU1MRGMjTDMxRpQpWrNBW7UXm5YWEBGzcKH95/74WU2H21RKZDN27w92dLsgSQ/HoEcaP5ynXz77CkSPx11/57eDjA1tbbdVeZDIZ1q9HRgY2bwaAe/fQv79WKnrxAqtXw8UFnp5o0kQrVRAiQSkp+P/27j04pisO4Pg32UmECh1k1KsesyYlDy1S9YpEm2malhrMlCBR1GCKVtPyTwmdqfhDx9SQTpSSZEox0TIefRAVj4ohOoqMRglRwUjDhoTK3v6RO2K3N7ib3b13N7/P5I+bc3fP/jrR35w995zfeecdbt/WuOWfo8KsLE6e5Px57bupqZ5KMY0XEEBmJlVVbNzowScnpaWcOcNzz3mqfyHMadasBhfP+WcqbNOGvDwGDdKoddyhA1984anPdQuLhZwcHjzwYCocOtRTPTdlnn7MJRqvrtJ1Xp5GfUP/TIVAdDQ5OYwZ4zxXuGoVbdp48HPdwmIhN1dd9GTaXcDCSZ8+VFTQsSM9ejj8dO8uf0SzSEggIYG332bMGOdbhs4Ven4P8sKFDrtoJ0wgN9ezn+hG7t1rKTxt7FjtGerQUBIT2bzZ6wGJBkydyrp1zo2jR7Nli1EF3zz/qYsXM3aseh0Wpr2vw7Tcu9dSeFpkpHa7zcbrr3s3FNGw2lrnIkx18vJITOTKFa8HBN5IhXUH49b9G83MJCzM458omqyoKO329u2ZMEFHP0uWsGxZgyWLRCMdPKixyrjO3r1s2eLdaFReGYu2bMm2bcyYoTE7IIQbNTQqnDePkBAd/WzdyoIFxMY+rkyGcNm2bdrtbduycycffODdaFRNu16h8DO1tYSGOh/R1aoVpaU6NjJeukTXrup18+YsWsTHH8uJBe7UowcXLjg39u3L1q10796onq9eJSiIdu1ceKv8gYUfsVjo1cu5ccYMfRu6Hy1pXl2tDg/rzpwRjXfihEYenDSJgwcblQftdrKziYzUnoV8CpIKhX9xmi4MCtJ95MDOnc4thw7x4ossW+YT5/mandO345AQvv6a7GxXjkN5qKiIQYNITaWigv37XetDUqHwL07ThSkp+gqdVVdr/7909y4LFjBsmM+cUm1aj6ZCq5WjR5k61fXebt1i7lxiYjh6VG3Jz3etJ0mFwr88OioMCGDePH1v/+UXjfKRDx08SJ8+Mjx0XUkJp0+r1yNGcOwY0dGu97ZjB5GRfPmlw7P+y5cb3O/7WJIKhX959Oi1kSN1H9T1/2/HTuqGh4mJXLqkN7TH2b/f+WmPX8rLA7BYWLSI7793vShnSQmJiYwcSVmZxl2XBoaSCoUfqarim29o21b99ZNP9L1dUZ6cCuv8/DNRUWRlaReg08tuZ+pUBg3i8mU39GZm27YRFsaePaSnu/hQvqaG9HSiovjxxwZf41IqlK0Uwo9kZFBUREQEBw4wZIjus+orKkhOrt+t3KIFzZqp1xYLrVrVvzI0VN2GdOUKnTs3Nuzdu/nrL4BXXmH7dvr1a2yH5lReTnAwJ0/SsaOLPeTnM2sWxcVPfpl+sq5Q+IuyMsLDsVoZOpRVq9i+3Weq4SYlsXu3ev3MM+TmMmqUoQF5Rnk5bdu6WKT96lXmzycn52lfX1xMeLiuT/CRUeFPP9GzZ2OXXwr/tmABd+9SXk5kJC+8wJtvGh3Q0zl/3uG73p07jB7NwoWkpxsWkoe4XJ1TUThyhJgYwsOx2fjnH2w2bt/GZsNm49YtKiux2fj33/q35OfrTYU+MiqMieHCBbZuJS7Ond2ePk1+vu51Z8KETpwgJga7ncBA8vM5f5533zU6pqfz0Ufa5TvHj2fdOn37BZu4mho1P1ZW0ro1Vquud/tCKiwsZMAAgOBgvvrKbf/Ez50jLg6bjZIS2rd3T5/CKLGxFBSo1yUldOlCcLChAT2d6mo6d6aiQvtubCy7dhlb0LTp8IUnyKtXqxf37zNlCnPnumFV159/Eh/P1atUVbF0aWN7E8basqU+DwK3b/tGHgS+/bbBPNihA7NnSx70GtOPCm/epHNnamocGt94g02bHJ7o6VJSQlxcfVm04GDOnqVHj0bFKYxy/z4REQ6bQHbtMtehso/Rvz/Hjzs3BgQwcSIrVvhAsXc/YvpR4dq1znkQ2L2bIUO4eNGVDktLSUhwKA95/z6LF7scoDDYihXOm+HKyw0KRacjRzTyoNXK3r1kZ0se9DJzp0K7naws7VunTjFwoO6Ct5cuER+vkUNzc/n9dxcCFAa7cYPPP3du9JVU6HQmelAQ8+fzxx/ExxsUUJNm7lS4Z0+D2wm7dWP9ejp10tHb5cvEx2sUCALsdj791JUIhbHS07l1y7nx2jX1orLSy+HocOOGwzEsAwdSVERGRv2ibuFd5k6FDx+YPCowkOnTOXVK32kVZWXEx6tr+jXt2MGvv+qOUBiouJg1azTaH44KJ08279RHVpY689OiBRkZFBQQEWF0TE2bYloXLyoWiwIOP1FRym+/6e6qrEyxWp27+v/PsGHu/68QnpOUpP13jItTFEXZs0cBJSBAWbvW6ED/58EDpWtXBZSkJKW01OhohKIoiol3m6xe7VB7JyiIefNYskT3Oolr10hI0C4zFxREz57060e/fkRE0LdvowIW3rRvH7t2ad8qL6e6mlmzABSF6dNp146RI70Z3RNs305NDRs2kJJidChCZdZUeO8e69fX/zp4MGvWaNRqf6Lr1xk+nLNn1V9btyYysj73RUbK1IyvateOpUspLKSw0PnpWXk5GRn1kyG1tYwfz7596kJ9M7hzhzNn5BmxqZh1XeGGDUyeDNCqFUuWMHu2KyV9rl9n4kSaNVMTX+/e9O5dX3dE+I2//+b4cfXn8GEqKggJcV6DFRbG4cN6N2OJpsOsqXDAAAoLSUoiM5Pnn3exk7odqaJJqa1l+HAOHNC4ZbVy+LCcxC00mTJTFBVRWsqGDezc6XoeBMmDTdEPP2jnQaCkhBEjHlevXzRhppwrvHlTZlKEK+7c4cMPG7wbEkJUFJWVtGjhxZiEbzBlKnztNaMjEL7ps8+0jxwJC2PKFObMcb1+svB3Zp0rFEKvc+eIjubePYdGq5X33+e992QkKB5PZtM8qaqKadPIzpb5KW+YOdMhDw4ezObNFBczd67kQfFEMir0sIIC4uMJDWXECFJSePVVWc3jERs3kpwMEBTEqFGkpfHyy0bHJHyJpELPS0tj+XL1OjycceNITZVzWtzJZqNXL2w2Jk8mLY0uXYwOSPgeSYWed+8eAwY4FAELDGTgQFJSSE6mZUvjIvMXK1ditzNtmtR8Fi6TVOgVp0/Tv79GDdrmzXnrLSZNIikJi8WIyIQQIKnQe5YvJy2twbvdujFpEjNn0qGDF2MSQqgkFXqL3U5CAvv2NfiCnj05dozWrb0YkxBCJanQi65cITpa+4Sz5s05dIiXXvJ6TEIIkHWFXtWpEytXat/KzJQ8KISBJBV6V3Iy48Y5N86cSWqqEdEIIVTyBdnrKivp06d+q2xMDAUFUkFWCGPJqNDrnn2WnBy1gFibNnz3neRBIQwnqdAIsbHMmUNgILm5su1ECDOQL8gGqalh0yb10AIhhNEkFQohhHxBFkIISYVCCIGkQiGEQFKhEEIgqVAIIZBUKIQQSCoUQggkFQohBPAfYhJOQxoM30gAAAAASUVORK5CYII='></img>"
             },
             "type": "node"
            }
           ],
           "instanceArgs": {
            "handlers": {
             "obs-output": [
              "function (value, scope) {\n    scope.setInnerHTML(value);\n}\n"
             ]
            },
            "id": "10145090233264385422",
            "imports": {
             "data": [],
             "type": "async_block"
            },
            "mount_callbacks": [],
            "observables": {
             "obs-output": {
              "id": "14264299416273329624",
              "sync": false,
              "value": "<img src='data:image/png;base64,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'></img>"
             }
            },
            "systemjs_options": null
           },
           "nodeType": "Scope",
           "props": {},
           "type": "node"
          },
          {
           "children": [
            {
             "children": [
              {
               "children": [],
               "instanceArgs": {
                "namespace": "html",
                "tag": "div"
               },
               "nodeType": "DOM",
               "props": {
                "id": "container"
               },
               "type": "node"
              }
             ],
             "instanceArgs": {
              "handlers": {
               "value": [
                "(function (txt){return this.k.render(txt,this.container)})"
               ]
              },
              "id": "2774265128865158009",
              "imports": {
               "data": [
                {
                 "name": null,
                 "type": "js",
                 "url": "/assetserver/dd22ed1bf1896c2748f3fe616ce0b838adc895c1-katex.min.js"
                },
                {
                 "name": null,
                 "type": "css",
                 "url": "/assetserver/46517a424aa5e6cffc1360d7e0848b601c584ee3-katex.min.css"
                }
               ],
               "type": "async_block"
              },
              "mount_callbacks": [
               "function () {\n    var handler = ((function (k){this.k=k; this.container=this.dom.querySelector(\"#container\"); return k.render(\"\\\\;\\\\;\",this.container)}));\n    (WebIO.importBlock({\"data\":[{\"name\":null,\"type\":\"js\",\"url\":\"/assetserver/dd22ed1bf1896c2748f3fe616ce0b838adc895c1-katex.min.js\"},{\"name\":null,\"type\":\"css\",\"url\":\"/assetserver/46517a424aa5e6cffc1360d7e0848b601c584ee3-katex.min.css\"}],\"type\":\"async_block\"})).then((imports) => handler.apply(this, imports));\n}\n"
              ],
              "observables": {
               "value": {
                "id": "17879683240592963617",
                "sync": false,
                "value": "\\;\\;"
               }
              },
              "systemjs_options": null
             },
             "nodeType": "Scope",
             "props": {},
             "type": "node"
            }
           ],
           "instanceArgs": {
            "namespace": "html",
            "tag": "div"
           },
           "nodeType": "DOM",
           "props": {
            "className": "interact-widget"
           },
           "type": "node"
          },
          {
           "children": [],
           "instanceArgs": {
            "namespace": "html",
            "tag": "div"
           },
           "nodeType": "DOM",
           "props": {
            "style": {
             "display": "flex",
             "flex-direction": "column"
            }
           },
           "type": "node"
          }
         ],
         "instanceArgs": {
          "namespace": "html",
          "tag": "div"
         },
         "nodeType": "DOM",
         "props": {
          "style": {
           "display": "flex",
           "flex-direction": "row"
          }
         },
         "type": "node"
        }
       ],
       "instanceArgs": {
        "namespace": "html",
        "tag": "div"
       },
       "nodeType": "DOM",
       "props": {
        "style": {
         "display": "flex",
         "flex-direction": "column"
        }
       },
       "type": "node"
      },
      "text/html": [
       "<div\n",
       "    class=\"webio-mountpoint\"\n",
       "    data-webio-mountpoint=\"13634164179437490783\"\n",
       ">\n",
       "    <script>\n",
       "    (function(){\n",
       "    // Some integrations (namely, IJulia/Jupyter) use an alternate render pathway than\n",
       "    // just putting the html on the page. If WebIO isn't defined, then it's pretty likely\n",
       "    // that we're in one of those situations and the integration just isn't installed\n",
       "    // correctly.\n",
       "    if (typeof window.WebIO === \"undefined\") {\n",
       "        document\n",
       "            .querySelector('[data-webio-mountpoint=\"13634164179437490783\"]')\n",
       "            .innerHTML = (\n",
       "                '<div style=\"padding: 1em; background-color: #f8d6da; border: 1px solid #f5c6cb; font-weight: bold;\">' +\n",
       "                '<p><strong>WebIO not detected.</strong></p>' +\n",
       "                '<p>Please read ' +\n",
       "                '<a href=\"https://juliagizmos.github.io/WebIO.jl/latest/troubleshooting/not-detected/\" target=\"_blank\">the troubleshooting guide</a> ' +\n",
       "                'for more information on how to resolve this issue.</p>' +\n",
       "                '<p><a href=\"https://juliagizmos.github.io/WebIO.jl/latest/troubleshooting/not-detected/\" target=\"_blank\">https://juliagizmos.github.io/WebIO.jl/latest/troubleshooting/not-detected/</a></p>' +\n",
       "                '</div>'\n",
       "            );\n",
       "        return;\n",
       "    }\n",
       "    WebIO.mount(\n",
       "        document.querySelector('[data-webio-mountpoint=\"13634164179437490783\"]'),\n",
       "        {\"props\":{\"style\":{\"display\":\"flex\",\"flex-direction\":\"column\"}},\"nodeType\":\"DOM\",\"type\":\"node\",\"instanceArgs\":{\"namespace\":\"html\",\"tag\":\"div\"},\"children\":[{\"props\":{\"style\":{\"display\":\"flex\",\"flex-direction\":\"row\"}},\"nodeType\":\"DOM\",\"type\":\"node\",\"instanceArgs\":{\"namespace\":\"html\",\"tag\":\"div\"},\"children\":[{\"props\":{\"style\":{\"display\":\"flex\",\"flex-direction\":\"column\"}},\"nodeType\":\"DOM\",\"type\":\"node\",\"instanceArgs\":{\"namespace\":\"html\",\"tag\":\"div\"},\"children\":[{\"props\":{\"className\":\"field interact-widget\"},\"nodeType\":\"DOM\",\"type\":\"node\",\"instanceArgs\":{\"namespace\":\"html\",\"tag\":\"div\"},\"children\":[{\"props\":{},\"nodeType\":\"Scope\",\"type\":\"node\",\"instanceArgs\":{\"imports\":{\"data\":[{\"name\":\"knockout\",\"type\":\"js\",\"url\":\"\\/assetserver\\/727383f2a47bd31570b7da84eee7b022dd6d7c78-knockout.js\"},{\"name\":\"knockout_punches\",\"type\":\"js\",\"url\":\"\\/assetserver\\/382b41b3b1bd9f26f75861d360bad7f8beea211f-knockout_punches.js\"},{\"name\":null,\"type\":\"js\",\"url\":\"\\/assetserver\\/5ab20f1060420992a9b82a65b735dee4d81ef413-all.js\"},{\"name\":null,\"type\":\"css\",\"url\":\"\\/assetserver\\/1cc0ed62837210b80a182cc3676512f895dab686-style.css\"},{\"name\":null,\"type\":\"css\",\"url\":\"\\/assetserver\\/2eee816f616df3549d7044d45e744fbf8d42bfa1-bulma_confined.min.css\"}],\"type\":\"async_block\"},\"id\":\"14454081385394510836\",\"handlers\":{\"changes\":[\"(function (val){return (val!=this.model[\\\"changes\\\"]()) ? (this.valueFromJulia[\\\"changes\\\"]=true, this.model[\\\"changes\\\"](val)) : undefined})\"],\"index\":[\"(function (val){return (val!=this.model[\\\"index\\\"]()) ? (this.valueFromJulia[\\\"index\\\"]=true, this.model[\\\"index\\\"](val)) : undefined})\"]},\"systemjs_options\":null,\"mount_callbacks\":[\"function () {\\n    var handler = (function (ko, koPunches) {\\n    ko.punches.enableAll();\\n    ko.bindingHandlers.numericValue = {\\n        init: function(element, valueAccessor, allBindings, data, context) {\\n            var stringified = ko.observable(ko.unwrap(valueAccessor()));\\n            stringified.subscribe(function(value) {\\n                var val = parseFloat(value);\\n                if (!isNaN(val)) {\\n                    valueAccessor()(val);\\n                }\\n            });\\n            valueAccessor().subscribe(function(value) {\\n                var str = JSON.stringify(value);\\n                if ((str == \\\"0\\\") && ([\\\"-0\\\", \\\"-0.\\\"].indexOf(stringified()) >= 0))\\n                     return;\\n                 if ([\\\"null\\\", \\\"\\\"].indexOf(str) >= 0)\\n                     return;\\n                stringified(str);\\n            });\\n            ko.applyBindingsToNode(\\n                element,\\n                {\\n                    value: stringified,\\n                    valueUpdate: allBindings.get('valueUpdate'),\\n                },\\n                context,\\n            );\\n        }\\n    };\\n    var json_data = {\\\"formatted_vals\\\":[\\\"1\\\",\\\"2\\\",\\\"3\\\",\\\"4\\\",\\\"5\\\",\\\"6\\\",\\\"7\\\",\\\"8\\\",\\\"9\\\",\\\"10\\\",\\\"11\\\",\\\"12\\\",\\\"13\\\",\\\"14\\\",\\\"15\\\",\\\"16\\\",\\\"17\\\",\\\"18\\\",\\\"19\\\",\\\"20\\\",\\\"21\\\",\\\"22\\\",\\\"23\\\",\\\"24\\\",\\\"25\\\",\\\"26\\\",\\\"27\\\",\\\"28\\\",\\\"29\\\",\\\"30\\\",\\\"31\\\",\\\"32\\\",\\\"33\\\",\\\"34\\\",\\\"35\\\",\\\"36\\\",\\\"37\\\",\\\"38\\\",\\\"39\\\",\\\"40\\\",\\\"41\\\",\\\"42\\\",\\\"43\\\",\\\"44\\\",\\\"45\\\",\\\"46\\\",\\\"47\\\",\\\"48\\\",\\\"49\\\",\\\"50\\\",\\\"51\\\",\\\"52\\\",\\\"53\\\",\\\"54\\\",\\\"55\\\",\\\"56\\\",\\\"57\\\",\\\"58\\\",\\\"59\\\",\\\"60\\\",\\\"61\\\",\\\"62\\\",\\\"63\\\",\\\"64\\\",\\\"65\\\",\\\"66\\\",\\\"67\\\",\\\"68\\\",\\\"69\\\",\\\"70\\\",\\\"71\\\",\\\"72\\\",\\\"73\\\",\\\"74\\\",\\\"75\\\",\\\"76\\\",\\\"77\\\",\\\"78\\\",\\\"79\\\",\\\"80\\\",\\\"81\\\",\\\"82\\\",\\\"83\\\",\\\"84\\\",\\\"85\\\",\\\"86\\\",\\\"87\\\",\\\"88\\\",\\\"89\\\",\\\"90\\\",\\\"91\\\",\\\"92\\\",\\\"93\\\",\\\"94\\\",\\\"95\\\",\\\"96\\\",\\\"97\\\",\\\"98\\\",\\\"99\\\",\\\"100\\\",\\\"101\\\",\\\"102\\\",\\\"103\\\",\\\"104\\\",\\\"105\\\",\\\"106\\\",\\\"107\\\",\\\"108\\\",\\\"109\\\",\\\"110\\\",\\\"111\\\",\\\"112\\\",\\\"113\\\",\\\"114\\\",\\\"115\\\",\\\"116\\\",\\\"117\\\",\\\"118\\\",\\\"119\\\",\\\"120\\\",\\\"121\\\",\\\"122\\\",\\\"123\\\",\\\"124\\\",\\\"125\\\",\\\"126\\\",\\\"127\\\",\\\"128\\\",\\\"129\\\",\\\"130\\\",\\\"131\\\",\\\"132\\\",\\\"133\\\",\\\"134\\\",\\\"135\\\",\\\"136\\\",\\\"137\\\",\\\"138\\\",\\\"139\\\",\\\"140\\\",\\\"141\\\",\\\"142\\\",\\\"143\\\",\\\"144\\\",\\\"145\\\",\\\"146\\\",\\\"147\\\",\\\"148\\\",\\\"149\\\",\\\"150\\\",\\\"151\\\",\\\"152\\\",\\\"153\\\",\\\"154\\\",\\\"155\\\",\\\"156\\\",\\\"157\\\",\\\"158\\\",\\\"159\\\",\\\"160\\\",\\\"161\\\",\\\"162\\\",\\\"163\\\",\\\"164\\\",\\\"165\\\",\\\"166\\\",\\\"167\\\",\\\"168\\\",\\\"169\\\",\\\"170\\\",\\\"171\\\",\\\"172\\\",\\\"173\\\",\\\"174\\\",\\\"175\\\",\\\"176\\\",\\\"177\\\",\\\"178\\\",\\\"179\\\",\\\"180\\\",\\\"181\\\",\\\"182\\\",\\\"183\\\",\\\"184\\\",\\\"185\\\",\\\"186\\\",\\\"187\\\",\\\"188\\\",\\\"189\\\",\\\"190\\\",\\\"191\\\",\\\"192\\\",\\\"193\\\",\\\"194\\\",\\\"195\\\",\\\"196\\\",\\\"197\\\",\\\"198\\\",\\\"199\\\",\\\"200\\\",\\\"201\\\",\\\"202\\\",\\\"203\\\",\\\"204\\\",\\\"205\\\",\\\"206\\\",\\\"207\\\",\\\"208\\\",\\\"209\\\",\\\"210\\\",\\\"211\\\",\\\"212\\\",\\\"213\\\",\\\"214\\\",\\\"215\\\",\\\"216\\\",\\\"217\\\",\\\"218\\\",\\\"219\\\",\\\"220\\\",\\\"221\\\",\\\"222\\\",\\\"223\\\",\\\"224\\\",\\\"225\\\",\\\"226\\\",\\\"227\\\",\\\"228\\\",\\\"229\\\",\\\"230\\\",\\\"231\\\",\\\"232\\\",\\\"233\\\",\\\"234\\\",\\\"235\\\",\\\"236\\\",\\\"237\\\",\\\"238\\\",\\\"239\\\",\\\"240\\\",\\\"241\\\",\\\"242\\\",\\\"243\\\",\\\"244\\\",\\\"245\\\",\\\"246\\\",\\\"247\\\",\\\"248\\\",\\\"249\\\",\\\"250\\\",\\\"251\\\",\\\"252\\\",\\\"253\\\",\\\"254\\\",\\\"255\\\",\\\"256\\\",\\\"257\\\",\\\"258\\\",\\\"259\\\",\\\"260\\\",\\\"261\\\",\\\"262\\\",\\\"263\\\",\\\"264\\\",\\\"265\\\",\\\"266\\\",\\\"267\\\",\\\"268\\\",\\\"269\\\",\\\"270\\\",\\\"271\\\",\\\"272\\\",\\\"273\\\",\\\"274\\\",\\\"275\\\",\\\"276\\\",\\\"277\\\",\\\"278\\\",\\\"279\\\",\\\"280\\\",\\\"281\\\",\\\"282\\\",\\\"283\\\",\\\"284\\\",\\\"285\\\",\\\"286\\\",\\\"287\\\",\\\"288\\\",\\\"289\\\",\\\"290\\\",\\\"291\\\",\\\"292\\\",\\\"293\\\",\\\"294\\\",\\\"295\\\",\\\"296\\\",\\\"297\\\",\\\"298\\\",\\\"299\\\",\\\"300\\\",\\\"301\\\",\\\"302\\\",\\\"303\\\",\\\"304\\\",\\\"305\\\",\\\"306\\\",\\\"307\\\",\\\"308\\\",\\\"309\\\",\\\"310\\\",\\\"311\\\",\\\"312\\\",\\\"313\\\",\\\"314\\\",\\\"315\\\",\\\"316\\\",\\\"317\\\",\\\"318\\\",\\\"319\\\",\\\"320\\\",\\\"321\\\",\\\"322\\\",\\\"323\\\",\\\"324\\\",\\\"325\\\",\\\"326\\\",\\\"327\\\",\\\"328\\\",\\\"329\\\",\\\"330\\\",\\\"331\\\",\\\"332\\\",\\\"333\\\",\\\"334\\\",\\\"335\\\",\\\"336\\\",\\\"337\\\",\\\"338\\\",\\\"339\\\",\\\"340\\\",\\\"341\\\",\\\"342\\\",\\\"343\\\",\\\"344\\\",\\\"345\\\",\\\"346\\\",\\\"347\\\",\\\"348\\\",\\\"349\\\",\\\"350\\\",\\\"351\\\",\\\"352\\\",\\\"353\\\",\\\"354\\\",\\\"355\\\",\\\"356\\\",\\\"357\\\",\\\"358\\\",\\\"359\\\",\\\"360\\\",\\\"361\\\",\\\"362\\\",\\\"363\\\",\\\"364\\\",\\\"365\\\",\\\"366\\\",\\\"367\\\",\\\"368\\\",\\\"369\\\",\\\"370\\\",\\\"371\\\",\\\"372\\\",\\\"373\\\",\\\"374\\\",\\\"375\\\",\\\"376\\\",\\\"377\\\",\\\"378\\\",\\\"379\\\",\\\"380\\\",\\\"381\\\",\\\"382\\\",\\\"383\\\",\\\"384\\\",\\\"385\\\",\\\"386\\\",\\\"387\\\",\\\"388\\\",\\\"389\\\",\\\"390\\\",\\\"391\\\",\\\"392\\\",\\\"393\\\",\\\"394\\\",\\\"395\\\",\\\"396\\\",\\\"397\\\",\\\"398\\\",\\\"399\\\",\\\"400\\\"],\\\"changes\\\":WebIO.getval({\\\"name\\\":\\\"changes\\\",\\\"scope\\\":\\\"14454081385394510836\\\",\\\"id\\\":\\\"4257139202994103411\\\",\\\"type\\\":\\\"observable\\\"}),\\\"index\\\":WebIO.getval({\\\"name\\\":\\\"index\\\",\\\"scope\\\":\\\"14454081385394510836\\\",\\\"id\\\":\\\"3763133531109475514\\\",\\\"type\\\":\\\"observable\\\"})};\\n    var self = this;\\n    function AppViewModel() {\\n        for (var key in json_data) {\\n            var el = json_data[key];\\n            this[key] = Array.isArray(el) ? ko.observableArray(el) : ko.observable(el);\\n        }\\n        \\n        [this[\\\"formatted_val\\\"]=ko.computed(    function(){\\n        return this.formatted_vals()[parseInt(this.index())-(1)];\\n    }\\n,this)]\\n        [this[\\\"changes\\\"].subscribe((function (val){!(this.valueFromJulia[\\\"changes\\\"]) ? (WebIO.setval({\\\"name\\\":\\\"changes\\\",\\\"scope\\\":\\\"14454081385394510836\\\",\\\"id\\\":\\\"4257139202994103411\\\",\\\"type\\\":\\\"observable\\\"},val)) : undefined; return this.valueFromJulia[\\\"changes\\\"]=false}),self),this[\\\"index\\\"].subscribe((function (val){!(this.valueFromJulia[\\\"index\\\"]) ? (WebIO.setval({\\\"name\\\":\\\"index\\\",\\\"scope\\\":\\\"14454081385394510836\\\",\\\"id\\\":\\\"3763133531109475514\\\",\\\"type\\\":\\\"observable\\\"},val)) : undefined; return this.valueFromJulia[\\\"index\\\"]=false}),self)]\\n        \\n    }\\n    self.model = new AppViewModel();\\n    self.valueFromJulia = {};\\n    for (var key in json_data) {\\n        self.valueFromJulia[key] = false;\\n    }\\n    ko.applyBindings(self.model, self.dom);\\n}\\n);\\n    (WebIO.importBlock({\\\"data\\\":[{\\\"name\\\":\\\"knockout\\\",\\\"type\\\":\\\"js\\\",\\\"url\\\":\\\"\\/assetserver\\/727383f2a47bd31570b7da84eee7b022dd6d7c78-knockout.js\\\"},{\\\"name\\\":\\\"knockout_punches\\\",\\\"type\\\":\\\"js\\\",\\\"url\\\":\\\"\\/assetserver\\/382b41b3b1bd9f26f75861d360bad7f8beea211f-knockout_punches.js\\\"}],\\\"type\\\":\\\"async_block\\\"})).then((imports) => handler.apply(this, imports));\\n}\\n\"],\"observables\":{\"changes\":{\"sync\":false,\"id\":\"4257139202994103411\",\"value\":0},\"index\":{\"sync\":true,\"id\":\"3763133531109475514\",\"value\":1}}},\"children\":[{\"props\":{\"className\":\"interact-flex-row interact-widget\"},\"nodeType\":\"DOM\",\"type\":\"node\",\"instanceArgs\":{\"namespace\":\"html\",\"tag\":\"div\"},\"children\":[{\"props\":{\"className\":\"interact-flex-row-left\"},\"nodeType\":\"DOM\",\"type\":\"node\",\"instanceArgs\":{\"namespace\":\"html\",\"tag\":\"div\"},\"children\":[{\"props\":{\"className\":\"interact \",\"style\":{\"padding\":\"5px 10px 0px 10px\"}},\"nodeType\":\"DOM\",\"type\":\"node\",\"instanceArgs\":{\"namespace\":\"html\",\"tag\":\"label\"},\"children\":[\"time\"]}]},{\"props\":{\"className\":\"interact-flex-row-center\"},\"nodeType\":\"DOM\",\"type\":\"node\",\"instanceArgs\":{\"namespace\":\"html\",\"tag\":\"div\"},\"children\":[{\"props\":{\"max\":400,\"min\":1,\"attributes\":{\"type\":\"range\",\"data-bind\":\"numericValue: index, valueUpdate: 'input', event: {change: function (){this.changes(this.changes()+1)}}\",\"orient\":\"horizontal\"},\"step\":1,\"className\":\"slider slider is-fullwidth\",\"style\":{}},\"nodeType\":\"DOM\",\"type\":\"node\",\"instanceArgs\":{\"namespace\":\"html\",\"tag\":\"input\"},\"children\":[]}]},{\"props\":{\"className\":\"interact-flex-row-right\"},\"nodeType\":\"DOM\",\"type\":\"node\",\"instanceArgs\":{\"namespace\":\"html\",\"tag\":\"div\"},\"children\":[{\"props\":{\"attributes\":{\"data-bind\":\"text: formatted_val\"}},\"nodeType\":\"DOM\",\"type\":\"node\",\"instanceArgs\":{\"namespace\":\"html\",\"tag\":\"p\"},\"children\":[]}]}]}]}]},{\"props\":{\"className\":\"field interact-widget\"},\"nodeType\":\"DOM\",\"type\":\"node\",\"instanceArgs\":{\"namespace\":\"html\",\"tag\":\"div\"},\"children\":[{\"props\":{},\"nodeType\":\"Scope\",\"type\":\"node\",\"instanceArgs\":{\"imports\":{\"data\":[{\"name\":\"knockout\",\"type\":\"js\",\"url\":\"\\/assetserver\\/727383f2a47bd31570b7da84eee7b022dd6d7c78-knockout.js\"},{\"name\":\"knockout_punches\",\"type\":\"js\",\"url\":\"\\/assetserver\\/382b41b3b1bd9f26f75861d360bad7f8beea211f-knockout_punches.js\"},{\"name\":null,\"type\":\"js\",\"url\":\"\\/assetserver\\/5ab20f1060420992a9b82a65b735dee4d81ef413-all.js\"},{\"name\":null,\"type\":\"css\",\"url\":\"\\/assetserver\\/1cc0ed62837210b80a182cc3676512f895dab686-style.css\"},{\"name\":null,\"type\":\"css\",\"url\":\"\\/assetserver\\/2eee816f616df3549d7044d45e744fbf8d42bfa1-bulma_confined.min.css\"}],\"type\":\"async_block\"},\"id\":\"17884626374392431139\",\"handlers\":{\"changes\":[\"(function (val){return (val!=this.model[\\\"changes\\\"]()) ? (this.valueFromJulia[\\\"changes\\\"]=true, this.model[\\\"changes\\\"](val)) : undefined})\"],\"index\":[\"(function (val){return (val!=this.model[\\\"index\\\"]()) ? (this.valueFromJulia[\\\"index\\\"]=true, this.model[\\\"index\\\"](val)) : undefined})\"]},\"systemjs_options\":null,\"mount_callbacks\":[\"function () {\\n    var handler = (function (ko, koPunches) {\\n    ko.punches.enableAll();\\n    ko.bindingHandlers.numericValue = {\\n        init: function(element, valueAccessor, allBindings, data, context) {\\n            var stringified = ko.observable(ko.unwrap(valueAccessor()));\\n            stringified.subscribe(function(value) {\\n                var val = parseFloat(value);\\n                if (!isNaN(val)) {\\n                    valueAccessor()(val);\\n                }\\n            });\\n            valueAccessor().subscribe(function(value) {\\n                var str = JSON.stringify(value);\\n                if ((str == \\\"0\\\") && ([\\\"-0\\\", \\\"-0.\\\"].indexOf(stringified()) >= 0))\\n                     return;\\n                 if ([\\\"null\\\", \\\"\\\"].indexOf(str) >= 0)\\n                     return;\\n                stringified(str);\\n            });\\n            ko.applyBindingsToNode(\\n                element,\\n                {\\n                    value: stringified,\\n                    valueUpdate: allBindings.get('valueUpdate'),\\n                },\\n                context,\\n            );\\n        }\\n    };\\n    var json_data = {\\\"formatted_vals\\\":[\\\"0.1\\\",\\\"0.2\\\",\\\"0.3\\\",\\\"0.4\\\",\\\"0.5\\\",\\\"0.6\\\",\\\"0.7\\\",\\\"0.8\\\",\\\"0.9\\\",\\\"1.0\\\",\\\"1.1\\\",\\\"1.2\\\",\\\"1.3\\\",\\\"1.4\\\",\\\"1.5\\\",\\\"1.6\\\",\\\"1.7\\\",\\\"1.8\\\",\\\"1.9\\\",\\\"2.0\\\"],\\\"changes\\\":WebIO.getval({\\\"name\\\":\\\"changes\\\",\\\"scope\\\":\\\"17884626374392431139\\\",\\\"id\\\":\\\"17380165746979222786\\\",\\\"type\\\":\\\"observable\\\"}),\\\"index\\\":WebIO.getval({\\\"name\\\":\\\"index\\\",\\\"scope\\\":\\\"17884626374392431139\\\",\\\"id\\\":\\\"10775394748698588142\\\",\\\"type\\\":\\\"observable\\\"})};\\n    var self = this;\\n    function AppViewModel() {\\n        for (var key in json_data) {\\n            var el = json_data[key];\\n            this[key] = Array.isArray(el) ? ko.observableArray(el) : ko.observable(el);\\n        }\\n        \\n        [this[\\\"formatted_val\\\"]=ko.computed(    function(){\\n        return this.formatted_vals()[parseInt(this.index())-(1)];\\n    }\\n,this)]\\n        [this[\\\"changes\\\"].subscribe((function (val){!(this.valueFromJulia[\\\"changes\\\"]) ? (WebIO.setval({\\\"name\\\":\\\"changes\\\",\\\"scope\\\":\\\"17884626374392431139\\\",\\\"id\\\":\\\"17380165746979222786\\\",\\\"type\\\":\\\"observable\\\"},val)) : undefined; return this.valueFromJulia[\\\"changes\\\"]=false}),self),this[\\\"index\\\"].subscribe((function (val){!(this.valueFromJulia[\\\"index\\\"]) ? (WebIO.setval({\\\"name\\\":\\\"index\\\",\\\"scope\\\":\\\"17884626374392431139\\\",\\\"id\\\":\\\"10775394748698588142\\\",\\\"type\\\":\\\"observable\\\"},val)) : undefined; return this.valueFromJulia[\\\"index\\\"]=false}),self)]\\n        \\n    }\\n    self.model = new AppViewModel();\\n    self.valueFromJulia = {};\\n    for (var key in json_data) {\\n        self.valueFromJulia[key] = false;\\n    }\\n    ko.applyBindings(self.model, self.dom);\\n}\\n);\\n    (WebIO.importBlock({\\\"data\\\":[{\\\"name\\\":\\\"knockout\\\",\\\"type\\\":\\\"js\\\",\\\"url\\\":\\\"\\/assetserver\\/727383f2a47bd31570b7da84eee7b022dd6d7c78-knockout.js\\\"},{\\\"name\\\":\\\"knockout_punches\\\",\\\"type\\\":\\\"js\\\",\\\"url\\\":\\\"\\/assetserver\\/382b41b3b1bd9f26f75861d360bad7f8beea211f-knockout_punches.js\\\"}],\\\"type\\\":\\\"async_block\\\"})).then((imports) => handler.apply(this, imports));\\n}\\n\"],\"observables\":{\"changes\":{\"sync\":false,\"id\":\"17380165746979222786\",\"value\":0},\"index\":{\"sync\":true,\"id\":\"10775394748698588142\",\"value\":10}}},\"children\":[{\"props\":{\"className\":\"interact-flex-row interact-widget\"},\"nodeType\":\"DOM\",\"type\":\"node\",\"instanceArgs\":{\"namespace\":\"html\",\"tag\":\"div\"},\"children\":[{\"props\":{\"className\":\"interact-flex-row-left\"},\"nodeType\":\"DOM\",\"type\":\"node\",\"instanceArgs\":{\"namespace\":\"html\",\"tag\":\"div\"},\"children\":[{\"props\":{\"className\":\"interact \",\"style\":{\"padding\":\"5px 10px 0px 10px\"}},\"nodeType\":\"DOM\",\"type\":\"node\",\"instanceArgs\":{\"namespace\":\"html\",\"tag\":\"label\"},\"children\":[\"scale\"]}]},{\"props\":{\"className\":\"interact-flex-row-center\"},\"nodeType\":\"DOM\",\"type\":\"node\",\"instanceArgs\":{\"namespace\":\"html\",\"tag\":\"div\"},\"children\":[{\"props\":{\"max\":20,\"min\":1,\"attributes\":{\"type\":\"range\",\"data-bind\":\"numericValue: index, valueUpdate: 'input', event: {change: function (){this.changes(this.changes()+1)}}\",\"orient\":\"horizontal\"},\"step\":1,\"className\":\"slider slider is-fullwidth\",\"style\":{}},\"nodeType\":\"DOM\",\"type\":\"node\",\"instanceArgs\":{\"namespace\":\"html\",\"tag\":\"input\"},\"children\":[]}]},{\"props\":{\"className\":\"interact-flex-row-right\"},\"nodeType\":\"DOM\",\"type\":\"node\",\"instanceArgs\":{\"namespace\":\"html\",\"tag\":\"div\"},\"children\":[{\"props\":{\"attributes\":{\"data-bind\":\"text: formatted_val\"}},\"nodeType\":\"DOM\",\"type\":\"node\",\"instanceArgs\":{\"namespace\":\"html\",\"tag\":\"p\"},\"children\":[]}]}]}]}]},{\"props\":{\"style\":{\"display\":\"flex\",\"flex-direction\":\"column\"}},\"nodeType\":\"DOM\",\"type\":\"node\",\"instanceArgs\":{\"namespace\":\"html\",\"tag\":\"div\"},\"children\":[]},{\"props\":{\"style\":{\"display\":\"flex\",\"flex-direction\":\"column\"}},\"nodeType\":\"DOM\",\"type\":\"node\",\"instanceArgs\":{\"namespace\":\"html\",\"tag\":\"div\"},\"children\":[{\"props\":{\"className\":\"field interact-widget\"},\"nodeType\":\"DOM\",\"type\":\"node\",\"instanceArgs\":{\"namespace\":\"html\",\"tag\":\"div\"},\"children\":[{\"props\":{},\"nodeType\":\"Scope\",\"type\":\"node\",\"instanceArgs\":{\"imports\":{\"data\":[{\"name\":\"knockout\",\"type\":\"js\",\"url\":\"\\/assetserver\\/727383f2a47bd31570b7da84eee7b022dd6d7c78-knockout.js\"},{\"name\":\"knockout_punches\",\"type\":\"js\",\"url\":\"\\/assetserver\\/382b41b3b1bd9f26f75861d360bad7f8beea211f-knockout_punches.js\"},{\"name\":null,\"type\":\"js\",\"url\":\"\\/assetserver\\/5ab20f1060420992a9b82a65b735dee4d81ef413-all.js\"},{\"name\":null,\"type\":\"css\",\"url\":\"\\/assetserver\\/1cc0ed62837210b80a182cc3676512f895dab686-style.css\"},{\"name\":null,\"type\":\"css\",\"url\":\"\\/assetserver\\/2eee816f616df3549d7044d45e744fbf8d42bfa1-bulma_confined.min.css\"}],\"type\":\"async_block\"},\"id\":\"13478211100280388559\",\"handlers\":{\"changes\":[\"(function (val){return (val!=this.model[\\\"changes\\\"]()) ? (this.valueFromJulia[\\\"changes\\\"]=true, this.model[\\\"changes\\\"](val)) : undefined})\"],\"index\":[\"(function (val){return (val!=this.model[\\\"index\\\"]()) ? (this.valueFromJulia[\\\"index\\\"]=true, this.model[\\\"index\\\"](val)) : undefined})\"]},\"systemjs_options\":null,\"mount_callbacks\":[\"function () {\\n    var handler = (function (ko, koPunches) {\\n    ko.punches.enableAll();\\n    ko.bindingHandlers.numericValue = {\\n        init: function(element, valueAccessor, allBindings, data, context) {\\n            var stringified = ko.observable(ko.unwrap(valueAccessor()));\\n            stringified.subscribe(function(value) {\\n                var val = parseFloat(value);\\n                if (!isNaN(val)) {\\n                    valueAccessor()(val);\\n                }\\n            });\\n            valueAccessor().subscribe(function(value) {\\n                var str = JSON.stringify(value);\\n                if ((str == \\\"0\\\") && ([\\\"-0\\\", \\\"-0.\\\"].indexOf(stringified()) >= 0))\\n                     return;\\n                 if ([\\\"null\\\", \\\"\\\"].indexOf(str) >= 0)\\n                     return;\\n                stringified(str);\\n            });\\n            ko.applyBindingsToNode(\\n                element,\\n                {\\n                    value: stringified,\\n                    valueUpdate: allBindings.get('valueUpdate'),\\n                },\\n                context,\\n            );\\n        }\\n    };\\n    var json_data = {\\\"formatted_vals\\\":[\\\"0.01\\\",\\\"0.11\\\",\\\"0.21\\\",\\\"0.31\\\",\\\"0.41\\\",\\\"0.51\\\",\\\"0.61\\\",\\\"0.71\\\",\\\"0.81\\\",\\\"0.91\\\"],\\\"changes\\\":WebIO.getval({\\\"name\\\":\\\"changes\\\",\\\"scope\\\":\\\"13478211100280388559\\\",\\\"id\\\":\\\"3441468999072348406\\\",\\\"type\\\":\\\"observable\\\"}),\\\"index\\\":WebIO.getval({\\\"name\\\":\\\"index\\\",\\\"scope\\\":\\\"13478211100280388559\\\",\\\"id\\\":\\\"7532262856772079327\\\",\\\"type\\\":\\\"observable\\\"})};\\n    var self = this;\\n    function AppViewModel() {\\n        for (var key in json_data) {\\n            var el = json_data[key];\\n            this[key] = Array.isArray(el) ? ko.observableArray(el) : ko.observable(el);\\n        }\\n        \\n        [this[\\\"formatted_val\\\"]=ko.computed(    function(){\\n        return this.formatted_vals()[parseInt(this.index())-(1)];\\n    }\\n,this)]\\n        [this[\\\"changes\\\"].subscribe((function (val){!(this.valueFromJulia[\\\"changes\\\"]) ? (WebIO.setval({\\\"name\\\":\\\"changes\\\",\\\"scope\\\":\\\"13478211100280388559\\\",\\\"id\\\":\\\"3441468999072348406\\\",\\\"type\\\":\\\"observable\\\"},val)) : undefined; return this.valueFromJulia[\\\"changes\\\"]=false}),self),this[\\\"index\\\"].subscribe((function (val){!(this.valueFromJulia[\\\"index\\\"]) ? (WebIO.setval({\\\"name\\\":\\\"index\\\",\\\"scope\\\":\\\"13478211100280388559\\\",\\\"id\\\":\\\"7532262856772079327\\\",\\\"type\\\":\\\"observable\\\"},val)) : undefined; return this.valueFromJulia[\\\"index\\\"]=false}),self)]\\n        \\n    }\\n    self.model = new AppViewModel();\\n    self.valueFromJulia = {};\\n    for (var key in json_data) {\\n        self.valueFromJulia[key] = false;\\n    }\\n    ko.applyBindings(self.model, self.dom);\\n}\\n);\\n    (WebIO.importBlock({\\\"data\\\":[{\\\"name\\\":\\\"knockout\\\",\\\"type\\\":\\\"js\\\",\\\"url\\\":\\\"\\/assetserver\\/727383f2a47bd31570b7da84eee7b022dd6d7c78-knockout.js\\\"},{\\\"name\\\":\\\"knockout_punches\\\",\\\"type\\\":\\\"js\\\",\\\"url\\\":\\\"\\/assetserver\\/382b41b3b1bd9f26f75861d360bad7f8beea211f-knockout_punches.js\\\"}],\\\"type\\\":\\\"async_block\\\"})).then((imports) => handler.apply(this, imports));\\n}\\n\"],\"observables\":{\"changes\":{\"sync\":false,\"id\":\"3441468999072348406\",\"value\":0},\"index\":{\"sync\":true,\"id\":\"7532262856772079327\",\"value\":5}}},\"children\":[{\"props\":{\"className\":\"interact-flex-row interact-widget\"},\"nodeType\":\"DOM\",\"type\":\"node\",\"instanceArgs\":{\"namespace\":\"html\",\"tag\":\"div\"},\"children\":[{\"props\":{\"className\":\"interact-flex-row-left\"},\"nodeType\":\"DOM\",\"type\":\"node\",\"instanceArgs\":{\"namespace\":\"html\",\"tag\":\"div\"},\"children\":[{\"props\":{\"className\":\"interact \",\"style\":{\"padding\":\"5px 10px 0px 10px\"}},\"nodeType\":\"DOM\",\"type\":\"node\",\"instanceArgs\":{\"namespace\":\"html\",\"tag\":\"label\"},\"children\":[\"min_dis\"]}]},{\"props\":{\"className\":\"interact-flex-row-center\"},\"nodeType\":\"DOM\",\"type\":\"node\",\"instanceArgs\":{\"namespace\":\"html\",\"tag\":\"div\"},\"children\":[{\"props\":{\"max\":10,\"min\":1,\"attributes\":{\"type\":\"range\",\"data-bind\":\"numericValue: index, valueUpdate: 'input', event: {change: function (){this.changes(this.changes()+1)}}\",\"orient\":\"horizontal\"},\"step\":1,\"className\":\"slider slider is-fullwidth\",\"style\":{}},\"nodeType\":\"DOM\",\"type\":\"node\",\"instanceArgs\":{\"namespace\":\"html\",\"tag\":\"input\"},\"children\":[]}]},{\"props\":{\"className\":\"interact-flex-row-right\"},\"nodeType\":\"DOM\",\"type\":\"node\",\"instanceArgs\":{\"namespace\":\"html\",\"tag\":\"div\"},\"children\":[{\"props\":{\"attributes\":{\"data-bind\":\"text: formatted_val\"}},\"nodeType\":\"DOM\",\"type\":\"node\",\"instanceArgs\":{\"namespace\":\"html\",\"tag\":\"p\"},\"children\":[]}]}]}]}]},{\"props\":{\"className\":\"field interact-widget\"},\"nodeType\":\"DOM\",\"type\":\"node\",\"instanceArgs\":{\"namespace\":\"html\",\"tag\":\"div\"},\"children\":[{\"props\":{},\"nodeType\":\"Scope\",\"type\":\"node\",\"instanceArgs\":{\"imports\":{\"data\":[{\"name\":\"knockout\",\"type\":\"js\",\"url\":\"\\/assetserver\\/727383f2a47bd31570b7da84eee7b022dd6d7c78-knockout.js\"},{\"name\":\"knockout_punches\",\"type\":\"js\",\"url\":\"\\/assetserver\\/382b41b3b1bd9f26f75861d360bad7f8beea211f-knockout_punches.js\"},{\"name\":null,\"type\":\"js\",\"url\":\"\\/assetserver\\/5ab20f1060420992a9b82a65b735dee4d81ef413-all.js\"},{\"name\":null,\"type\":\"css\",\"url\":\"\\/assetserver\\/1cc0ed62837210b80a182cc3676512f895dab686-style.css\"},{\"name\":null,\"type\":\"css\",\"url\":\"\\/assetserver\\/2eee816f616df3549d7044d45e744fbf8d42bfa1-bulma_confined.min.css\"}],\"type\":\"async_block\"},\"id\":\"14668879760894981148\",\"handlers\":{\"changes\":[\"(function (val){return (val!=this.model[\\\"changes\\\"]()) ? (this.valueFromJulia[\\\"changes\\\"]=true, this.model[\\\"changes\\\"](val)) : undefined})\"],\"index\":[\"(function (val){return (val!=this.model[\\\"index\\\"]()) ? (this.valueFromJulia[\\\"index\\\"]=true, this.model[\\\"index\\\"](val)) : undefined})\"]},\"systemjs_options\":null,\"mount_callbacks\":[\"function () {\\n    var handler = (function (ko, koPunches) {\\n    ko.punches.enableAll();\\n    ko.bindingHandlers.numericValue = {\\n        init: function(element, valueAccessor, allBindings, data, context) {\\n            var stringified = ko.observable(ko.unwrap(valueAccessor()));\\n            stringified.subscribe(function(value) {\\n                var val = parseFloat(value);\\n                if (!isNaN(val)) {\\n                    valueAccessor()(val);\\n                }\\n            });\\n            valueAccessor().subscribe(function(value) {\\n                var str = JSON.stringify(value);\\n                if ((str == \\\"0\\\") && ([\\\"-0\\\", \\\"-0.\\\"].indexOf(stringified()) >= 0))\\n                     return;\\n                 if ([\\\"null\\\", \\\"\\\"].indexOf(str) >= 0)\\n                     return;\\n                stringified(str);\\n            });\\n            ko.applyBindingsToNode(\\n                element,\\n                {\\n                    value: stringified,\\n                    valueUpdate: allBindings.get('valueUpdate'),\\n                },\\n                context,\\n            );\\n        }\\n    };\\n    var json_data = {\\\"formatted_vals\\\":[\\\"0.01\\\",\\\"0.02\\\",\\\"0.03\\\",\\\"0.04\\\",\\\"0.05\\\",\\\"0.06\\\",\\\"0.07\\\",\\\"0.08\\\",\\\"0.09\\\",\\\"0.1\\\",\\\"0.11\\\",\\\"0.12\\\",\\\"0.13\\\",\\\"0.14\\\",\\\"0.15\\\",\\\"0.16\\\",\\\"0.17\\\",\\\"0.18\\\",\\\"0.19\\\",\\\"0.2\\\",\\\"0.21\\\",\\\"0.22\\\",\\\"0.23\\\",\\\"0.24\\\",\\\"0.25\\\",\\\"0.26\\\",\\\"0.27\\\",\\\"0.28\\\",\\\"0.29\\\",\\\"0.3\\\",\\\"0.31\\\",\\\"0.32\\\",\\\"0.33\\\",\\\"0.34\\\",\\\"0.35\\\",\\\"0.36\\\",\\\"0.37\\\",\\\"0.38\\\",\\\"0.39\\\",\\\"0.4\\\",\\\"0.41\\\",\\\"0.42\\\",\\\"0.43\\\",\\\"0.44\\\",\\\"0.45\\\",\\\"0.46\\\",\\\"0.47\\\",\\\"0.48\\\",\\\"0.49\\\",\\\"0.5\\\",\\\"0.51\\\",\\\"0.52\\\",\\\"0.53\\\",\\\"0.54\\\",\\\"0.55\\\",\\\"0.56\\\",\\\"0.57\\\",\\\"0.58\\\",\\\"0.59\\\",\\\"0.6\\\",\\\"0.61\\\",\\\"0.62\\\",\\\"0.63\\\",\\\"0.64\\\",\\\"0.65\\\",\\\"0.66\\\",\\\"0.67\\\",\\\"0.68\\\",\\\"0.69\\\",\\\"0.7\\\",\\\"0.71\\\",\\\"0.72\\\",\\\"0.73\\\",\\\"0.74\\\",\\\"0.75\\\",\\\"0.76\\\",\\\"0.77\\\",\\\"0.78\\\",\\\"0.79\\\",\\\"0.8\\\",\\\"0.81\\\",\\\"0.82\\\",\\\"0.83\\\",\\\"0.84\\\",\\\"0.85\\\",\\\"0.86\\\",\\\"0.87\\\",\\\"0.88\\\",\\\"0.89\\\",\\\"0.9\\\",\\\"0.91\\\",\\\"0.92\\\",\\\"0.93\\\",\\\"0.94\\\",\\\"0.95\\\",\\\"0.96\\\",\\\"0.97\\\",\\\"0.98\\\",\\\"0.99\\\",\\\"1.0\\\"],\\\"changes\\\":WebIO.getval({\\\"name\\\":\\\"changes\\\",\\\"scope\\\":\\\"14668879760894981148\\\",\\\"id\\\":\\\"8891173662849935234\\\",\\\"type\\\":\\\"observable\\\"}),\\\"index\\\":WebIO.getval({\\\"name\\\":\\\"index\\\",\\\"scope\\\":\\\"14668879760894981148\\\",\\\"id\\\":\\\"4021340093117662090\\\",\\\"type\\\":\\\"observable\\\"})};\\n    var self = this;\\n    function AppViewModel() {\\n        for (var key in json_data) {\\n            var el = json_data[key];\\n            this[key] = Array.isArray(el) ? ko.observableArray(el) : ko.observable(el);\\n        }\\n        \\n        [this[\\\"formatted_val\\\"]=ko.computed(    function(){\\n        return this.formatted_vals()[parseInt(this.index())-(1)];\\n    }\\n,this)]\\n        [this[\\\"changes\\\"].subscribe((function (val){!(this.valueFromJulia[\\\"changes\\\"]) ? (WebIO.setval({\\\"name\\\":\\\"changes\\\",\\\"scope\\\":\\\"14668879760894981148\\\",\\\"id\\\":\\\"8891173662849935234\\\",\\\"type\\\":\\\"observable\\\"},val)) : undefined; return this.valueFromJulia[\\\"changes\\\"]=false}),self),this[\\\"index\\\"].subscribe((function (val){!(this.valueFromJulia[\\\"index\\\"]) ? (WebIO.setval({\\\"name\\\":\\\"index\\\",\\\"scope\\\":\\\"14668879760894981148\\\",\\\"id\\\":\\\"4021340093117662090\\\",\\\"type\\\":\\\"observable\\\"},val)) : undefined; return this.valueFromJulia[\\\"index\\\"]=false}),self)]\\n        \\n    }\\n    self.model = new AppViewModel();\\n    self.valueFromJulia = {};\\n    for (var key in json_data) {\\n        self.valueFromJulia[key] = false;\\n    }\\n    ko.applyBindings(self.model, self.dom);\\n}\\n);\\n    (WebIO.importBlock({\\\"data\\\":[{\\\"name\\\":\\\"knockout\\\",\\\"type\\\":\\\"js\\\",\\\"url\\\":\\\"\\/assetserver\\/727383f2a47bd31570b7da84eee7b022dd6d7c78-knockout.js\\\"},{\\\"name\\\":\\\"knockout_punches\\\",\\\"type\\\":\\\"js\\\",\\\"url\\\":\\\"\\/assetserver\\/382b41b3b1bd9f26f75861d360bad7f8beea211f-knockout_punches.js\\\"}],\\\"type\\\":\\\"async_block\\\"})).then((imports) => handler.apply(this, imports));\\n}\\n\"],\"observables\":{\"changes\":{\"sync\":false,\"id\":\"8891173662849935234\",\"value\":0},\"index\":{\"sync\":true,\"id\":\"4021340093117662090\",\"value\":50}}},\"children\":[{\"props\":{\"className\":\"interact-flex-row interact-widget\"},\"nodeType\":\"DOM\",\"type\":\"node\",\"instanceArgs\":{\"namespace\":\"html\",\"tag\":\"div\"},\"children\":[{\"props\":{\"className\":\"interact-flex-row-left\"},\"nodeType\":\"DOM\",\"type\":\"node\",\"instanceArgs\":{\"namespace\":\"html\",\"tag\":\"div\"},\"children\":[{\"props\":{\"className\":\"interact \",\"style\":{\"padding\":\"5px 10px 0px 10px\"}},\"nodeType\":\"DOM\",\"type\":\"node\",\"instanceArgs\":{\"namespace\":\"html\",\"tag\":\"label\"},\"children\":[\"coh_fac\"]}]},{\"props\":{\"className\":\"interact-flex-row-center\"},\"nodeType\":\"DOM\",\"type\":\"node\",\"instanceArgs\":{\"namespace\":\"html\",\"tag\":\"div\"},\"children\":[{\"props\":{\"max\":100,\"min\":1,\"attributes\":{\"type\":\"range\",\"data-bind\":\"numericValue: index, valueUpdate: 'input', event: {change: function (){this.changes(this.changes()+1)}}\",\"orient\":\"horizontal\"},\"step\":1,\"className\":\"slider slider is-fullwidth\",\"style\":{}},\"nodeType\":\"DOM\",\"type\":\"node\",\"instanceArgs\":{\"namespace\":\"html\",\"tag\":\"input\"},\"children\":[]}]},{\"props\":{\"className\":\"interact-flex-row-right\"},\"nodeType\":\"DOM\",\"type\":\"node\",\"instanceArgs\":{\"namespace\":\"html\",\"tag\":\"div\"},\"children\":[{\"props\":{\"attributes\":{\"data-bind\":\"text: formatted_val\"}},\"nodeType\":\"DOM\",\"type\":\"node\",\"instanceArgs\":{\"namespace\":\"html\",\"tag\":\"p\"},\"children\":[]}]}]}]}]},{\"props\":{\"className\":\"field interact-widget\"},\"nodeType\":\"DOM\",\"type\":\"node\",\"instanceArgs\":{\"namespace\":\"html\",\"tag\":\"div\"},\"children\":[{\"props\":{},\"nodeType\":\"Scope\",\"type\":\"node\",\"instanceArgs\":{\"imports\":{\"data\":[{\"name\":\"knockout\",\"type\":\"js\",\"url\":\"\\/assetserver\\/727383f2a47bd31570b7da84eee7b022dd6d7c78-knockout.js\"},{\"name\":\"knockout_punches\",\"type\":\"js\",\"url\":\"\\/assetserver\\/382b41b3b1bd9f26f75861d360bad7f8beea211f-knockout_punches.js\"},{\"name\":null,\"type\":\"js\",\"url\":\"\\/assetserver\\/5ab20f1060420992a9b82a65b735dee4d81ef413-all.js\"},{\"name\":null,\"type\":\"css\",\"url\":\"\\/assetserver\\/1cc0ed62837210b80a182cc3676512f895dab686-style.css\"},{\"name\":null,\"type\":\"css\",\"url\":\"\\/assetserver\\/2eee816f616df3549d7044d45e744fbf8d42bfa1-bulma_confined.min.css\"}],\"type\":\"async_block\"},\"id\":\"7489018589941826594\",\"handlers\":{\"changes\":[\"(function (val){return (val!=this.model[\\\"changes\\\"]()) ? (this.valueFromJulia[\\\"changes\\\"]=true, this.model[\\\"changes\\\"](val)) : undefined})\"],\"index\":[\"(function (val){return (val!=this.model[\\\"index\\\"]()) ? (this.valueFromJulia[\\\"index\\\"]=true, this.model[\\\"index\\\"](val)) : undefined})\"]},\"systemjs_options\":null,\"mount_callbacks\":[\"function () {\\n    var handler = (function (ko, koPunches) {\\n    ko.punches.enableAll();\\n    ko.bindingHandlers.numericValue = {\\n        init: function(element, valueAccessor, allBindings, data, context) {\\n            var stringified = ko.observable(ko.unwrap(valueAccessor()));\\n            stringified.subscribe(function(value) {\\n                var val = parseFloat(value);\\n                if (!isNaN(val)) {\\n                    valueAccessor()(val);\\n                }\\n            });\\n            valueAccessor().subscribe(function(value) {\\n                var str = JSON.stringify(value);\\n                if ((str == \\\"0\\\") && ([\\\"-0\\\", \\\"-0.\\\"].indexOf(stringified()) >= 0))\\n                     return;\\n                 if ([\\\"null\\\", \\\"\\\"].indexOf(str) >= 0)\\n                     return;\\n                stringified(str);\\n            });\\n            ko.applyBindingsToNode(\\n                element,\\n                {\\n                    value: stringified,\\n                    valueUpdate: allBindings.get('valueUpdate'),\\n                },\\n                context,\\n            );\\n        }\\n    };\\n    var json_data = {\\\"formatted_vals\\\":[\\\"0.01\\\",\\\"0.02\\\",\\\"0.03\\\",\\\"0.04\\\",\\\"0.05\\\",\\\"0.06\\\",\\\"0.07\\\",\\\"0.08\\\",\\\"0.09\\\",\\\"0.1\\\",\\\"0.11\\\",\\\"0.12\\\",\\\"0.13\\\",\\\"0.14\\\",\\\"0.15\\\",\\\"0.16\\\",\\\"0.17\\\",\\\"0.18\\\",\\\"0.19\\\",\\\"0.2\\\",\\\"0.21\\\",\\\"0.22\\\",\\\"0.23\\\",\\\"0.24\\\",\\\"0.25\\\",\\\"0.26\\\",\\\"0.27\\\",\\\"0.28\\\",\\\"0.29\\\",\\\"0.3\\\",\\\"0.31\\\",\\\"0.32\\\",\\\"0.33\\\",\\\"0.34\\\",\\\"0.35\\\",\\\"0.36\\\",\\\"0.37\\\",\\\"0.38\\\",\\\"0.39\\\",\\\"0.4\\\",\\\"0.41\\\",\\\"0.42\\\",\\\"0.43\\\",\\\"0.44\\\",\\\"0.45\\\",\\\"0.46\\\",\\\"0.47\\\",\\\"0.48\\\",\\\"0.49\\\",\\\"0.5\\\",\\\"0.51\\\",\\\"0.52\\\",\\\"0.53\\\",\\\"0.54\\\",\\\"0.55\\\",\\\"0.56\\\",\\\"0.57\\\",\\\"0.58\\\",\\\"0.59\\\",\\\"0.6\\\",\\\"0.61\\\",\\\"0.62\\\",\\\"0.63\\\",\\\"0.64\\\",\\\"0.65\\\",\\\"0.66\\\",\\\"0.67\\\",\\\"0.68\\\",\\\"0.69\\\",\\\"0.7\\\",\\\"0.71\\\",\\\"0.72\\\",\\\"0.73\\\",\\\"0.74\\\",\\\"0.75\\\",\\\"0.76\\\",\\\"0.77\\\",\\\"0.78\\\",\\\"0.79\\\",\\\"0.8\\\",\\\"0.81\\\",\\\"0.82\\\",\\\"0.83\\\",\\\"0.84\\\",\\\"0.85\\\",\\\"0.86\\\",\\\"0.87\\\",\\\"0.88\\\",\\\"0.89\\\",\\\"0.9\\\",\\\"0.91\\\",\\\"0.92\\\",\\\"0.93\\\",\\\"0.94\\\",\\\"0.95\\\",\\\"0.96\\\",\\\"0.97\\\",\\\"0.98\\\",\\\"0.99\\\",\\\"1.0\\\"],\\\"changes\\\":WebIO.getval({\\\"name\\\":\\\"changes\\\",\\\"scope\\\":\\\"7489018589941826594\\\",\\\"id\\\":\\\"11616407531716219145\\\",\\\"type\\\":\\\"observable\\\"}),\\\"index\\\":WebIO.getval({\\\"name\\\":\\\"index\\\",\\\"scope\\\":\\\"7489018589941826594\\\",\\\"id\\\":\\\"14746755384135944275\\\",\\\"type\\\":\\\"observable\\\"})};\\n    var self = this;\\n    function AppViewModel() {\\n        for (var key in json_data) {\\n            var el = json_data[key];\\n            this[key] = Array.isArray(el) ? ko.observableArray(el) : ko.observable(el);\\n        }\\n        \\n        [this[\\\"formatted_val\\\"]=ko.computed(    function(){\\n        return this.formatted_vals()[parseInt(this.index())-(1)];\\n    }\\n,this)]\\n        [this[\\\"changes\\\"].subscribe((function (val){!(this.valueFromJulia[\\\"changes\\\"]) ? (WebIO.setval({\\\"name\\\":\\\"changes\\\",\\\"scope\\\":\\\"7489018589941826594\\\",\\\"id\\\":\\\"11616407531716219145\\\",\\\"type\\\":\\\"observable\\\"},val)) : undefined; return this.valueFromJulia[\\\"changes\\\"]=false}),self),this[\\\"index\\\"].subscribe((function (val){!(this.valueFromJulia[\\\"index\\\"]) ? (WebIO.setval({\\\"name\\\":\\\"index\\\",\\\"scope\\\":\\\"7489018589941826594\\\",\\\"id\\\":\\\"14746755384135944275\\\",\\\"type\\\":\\\"observable\\\"},val)) : undefined; return this.valueFromJulia[\\\"index\\\"]=false}),self)]\\n        \\n    }\\n    self.model = new AppViewModel();\\n    self.valueFromJulia = {};\\n    for (var key in json_data) {\\n        self.valueFromJulia[key] = false;\\n    }\\n    ko.applyBindings(self.model, self.dom);\\n}\\n);\\n    (WebIO.importBlock({\\\"data\\\":[{\\\"name\\\":\\\"knockout\\\",\\\"type\\\":\\\"js\\\",\\\"url\\\":\\\"\\/assetserver\\/727383f2a47bd31570b7da84eee7b022dd6d7c78-knockout.js\\\"},{\\\"name\\\":\\\"knockout_punches\\\",\\\"type\\\":\\\"js\\\",\\\"url\\\":\\\"\\/assetserver\\/382b41b3b1bd9f26f75861d360bad7f8beea211f-knockout_punches.js\\\"}],\\\"type\\\":\\\"async_block\\\"})).then((imports) => handler.apply(this, imports));\\n}\\n\"],\"observables\":{\"changes\":{\"sync\":false,\"id\":\"11616407531716219145\",\"value\":0},\"index\":{\"sync\":true,\"id\":\"14746755384135944275\",\"value\":50}}},\"children\":[{\"props\":{\"className\":\"interact-flex-row interact-widget\"},\"nodeType\":\"DOM\",\"type\":\"node\",\"instanceArgs\":{\"namespace\":\"html\",\"tag\":\"div\"},\"children\":[{\"props\":{\"className\":\"interact-flex-row-left\"},\"nodeType\":\"DOM\",\"type\":\"node\",\"instanceArgs\":{\"namespace\":\"html\",\"tag\":\"div\"},\"children\":[{\"props\":{\"className\":\"interact \",\"style\":{\"padding\":\"5px 10px 0px 10px\"}},\"nodeType\":\"DOM\",\"type\":\"node\",\"instanceArgs\":{\"namespace\":\"html\",\"tag\":\"label\"},\"children\":[\"sep_fac\"]}]},{\"props\":{\"className\":\"interact-flex-row-center\"},\"nodeType\":\"DOM\",\"type\":\"node\",\"instanceArgs\":{\"namespace\":\"html\",\"tag\":\"div\"},\"children\":[{\"props\":{\"max\":100,\"min\":1,\"attributes\":{\"type\":\"range\",\"data-bind\":\"numericValue: index, valueUpdate: 'input', event: {change: function (){this.changes(this.changes()+1)}}\",\"orient\":\"horizontal\"},\"step\":1,\"className\":\"slider slider is-fullwidth\",\"style\":{}},\"nodeType\":\"DOM\",\"type\":\"node\",\"instanceArgs\":{\"namespace\":\"html\",\"tag\":\"input\"},\"children\":[]}]},{\"props\":{\"className\":\"interact-flex-row-right\"},\"nodeType\":\"DOM\",\"type\":\"node\",\"instanceArgs\":{\"namespace\":\"html\",\"tag\":\"div\"},\"children\":[{\"props\":{\"attributes\":{\"data-bind\":\"text: formatted_val\"}},\"nodeType\":\"DOM\",\"type\":\"node\",\"instanceArgs\":{\"namespace\":\"html\",\"tag\":\"p\"},\"children\":[]}]}]}]}]},{\"props\":{\"className\":\"field interact-widget\"},\"nodeType\":\"DOM\",\"type\":\"node\",\"instanceArgs\":{\"namespace\":\"html\",\"tag\":\"div\"},\"children\":[{\"props\":{},\"nodeType\":\"Scope\",\"type\":\"node\",\"instanceArgs\":{\"imports\":{\"data\":[{\"name\":\"knockout\",\"type\":\"js\",\"url\":\"\\/assetserver\\/727383f2a47bd31570b7da84eee7b022dd6d7c78-knockout.js\"},{\"name\":\"knockout_punches\",\"type\":\"js\",\"url\":\"\\/assetserver\\/382b41b3b1bd9f26f75861d360bad7f8beea211f-knockout_punches.js\"},{\"name\":null,\"type\":\"js\",\"url\":\"\\/assetserver\\/5ab20f1060420992a9b82a65b735dee4d81ef413-all.js\"},{\"name\":null,\"type\":\"css\",\"url\":\"\\/assetserver\\/1cc0ed62837210b80a182cc3676512f895dab686-style.css\"},{\"name\":null,\"type\":\"css\",\"url\":\"\\/assetserver\\/2eee816f616df3549d7044d45e744fbf8d42bfa1-bulma_confined.min.css\"}],\"type\":\"async_block\"},\"id\":\"13122251597967125135\",\"handlers\":{\"changes\":[\"(function (val){return (val!=this.model[\\\"changes\\\"]()) ? (this.valueFromJulia[\\\"changes\\\"]=true, this.model[\\\"changes\\\"](val)) : undefined})\"],\"index\":[\"(function (val){return (val!=this.model[\\\"index\\\"]()) ? (this.valueFromJulia[\\\"index\\\"]=true, this.model[\\\"index\\\"](val)) : undefined})\"]},\"systemjs_options\":null,\"mount_callbacks\":[\"function () {\\n    var handler = (function (ko, koPunches) {\\n    ko.punches.enableAll();\\n    ko.bindingHandlers.numericValue = {\\n        init: function(element, valueAccessor, allBindings, data, context) {\\n            var stringified = ko.observable(ko.unwrap(valueAccessor()));\\n            stringified.subscribe(function(value) {\\n                var val = parseFloat(value);\\n                if (!isNaN(val)) {\\n                    valueAccessor()(val);\\n                }\\n            });\\n            valueAccessor().subscribe(function(value) {\\n                var str = JSON.stringify(value);\\n                if ((str == \\\"0\\\") && ([\\\"-0\\\", \\\"-0.\\\"].indexOf(stringified()) >= 0))\\n                     return;\\n                 if ([\\\"null\\\", \\\"\\\"].indexOf(str) >= 0)\\n                     return;\\n                stringified(str);\\n            });\\n            ko.applyBindingsToNode(\\n                element,\\n                {\\n                    value: stringified,\\n                    valueUpdate: allBindings.get('valueUpdate'),\\n                },\\n                context,\\n            );\\n        }\\n    };\\n    var json_data = {\\\"formatted_vals\\\":[\\\"0.01\\\",\\\"0.02\\\",\\\"0.03\\\",\\\"0.04\\\",\\\"0.05\\\",\\\"0.06\\\",\\\"0.07\\\",\\\"0.08\\\",\\\"0.09\\\",\\\"0.1\\\",\\\"0.11\\\",\\\"0.12\\\",\\\"0.13\\\",\\\"0.14\\\",\\\"0.15\\\",\\\"0.16\\\",\\\"0.17\\\",\\\"0.18\\\",\\\"0.19\\\",\\\"0.2\\\",\\\"0.21\\\",\\\"0.22\\\",\\\"0.23\\\",\\\"0.24\\\",\\\"0.25\\\",\\\"0.26\\\",\\\"0.27\\\",\\\"0.28\\\",\\\"0.29\\\",\\\"0.3\\\",\\\"0.31\\\",\\\"0.32\\\",\\\"0.33\\\",\\\"0.34\\\",\\\"0.35\\\",\\\"0.36\\\",\\\"0.37\\\",\\\"0.38\\\",\\\"0.39\\\",\\\"0.4\\\",\\\"0.41\\\",\\\"0.42\\\",\\\"0.43\\\",\\\"0.44\\\",\\\"0.45\\\",\\\"0.46\\\",\\\"0.47\\\",\\\"0.48\\\",\\\"0.49\\\",\\\"0.5\\\",\\\"0.51\\\",\\\"0.52\\\",\\\"0.53\\\",\\\"0.54\\\",\\\"0.55\\\",\\\"0.56\\\",\\\"0.57\\\",\\\"0.58\\\",\\\"0.59\\\",\\\"0.6\\\",\\\"0.61\\\",\\\"0.62\\\",\\\"0.63\\\",\\\"0.64\\\",\\\"0.65\\\",\\\"0.66\\\",\\\"0.67\\\",\\\"0.68\\\",\\\"0.69\\\",\\\"0.7\\\",\\\"0.71\\\",\\\"0.72\\\",\\\"0.73\\\",\\\"0.74\\\",\\\"0.75\\\",\\\"0.76\\\",\\\"0.77\\\",\\\"0.78\\\",\\\"0.79\\\",\\\"0.8\\\",\\\"0.81\\\",\\\"0.82\\\",\\\"0.83\\\",\\\"0.84\\\",\\\"0.85\\\",\\\"0.86\\\",\\\"0.87\\\",\\\"0.88\\\",\\\"0.89\\\",\\\"0.9\\\",\\\"0.91\\\",\\\"0.92\\\",\\\"0.93\\\",\\\"0.94\\\",\\\"0.95\\\",\\\"0.96\\\",\\\"0.97\\\",\\\"0.98\\\",\\\"0.99\\\",\\\"1.0\\\"],\\\"changes\\\":WebIO.getval({\\\"name\\\":\\\"changes\\\",\\\"scope\\\":\\\"13122251597967125135\\\",\\\"id\\\":\\\"525239491390459444\\\",\\\"type\\\":\\\"observable\\\"}),\\\"index\\\":WebIO.getval({\\\"name\\\":\\\"index\\\",\\\"scope\\\":\\\"13122251597967125135\\\",\\\"id\\\":\\\"4228401149455001096\\\",\\\"type\\\":\\\"observable\\\"})};\\n    var self = this;\\n    function AppViewModel() {\\n        for (var key in json_data) {\\n            var el = json_data[key];\\n            this[key] = Array.isArray(el) ? ko.observableArray(el) : ko.observable(el);\\n        }\\n        \\n        [this[\\\"formatted_val\\\"]=ko.computed(    function(){\\n        return this.formatted_vals()[parseInt(this.index())-(1)];\\n    }\\n,this)]\\n        [this[\\\"changes\\\"].subscribe((function (val){!(this.valueFromJulia[\\\"changes\\\"]) ? (WebIO.setval({\\\"name\\\":\\\"changes\\\",\\\"scope\\\":\\\"13122251597967125135\\\",\\\"id\\\":\\\"525239491390459444\\\",\\\"type\\\":\\\"observable\\\"},val)) : undefined; return this.valueFromJulia[\\\"changes\\\"]=false}),self),this[\\\"index\\\"].subscribe((function (val){!(this.valueFromJulia[\\\"index\\\"]) ? (WebIO.setval({\\\"name\\\":\\\"index\\\",\\\"scope\\\":\\\"13122251597967125135\\\",\\\"id\\\":\\\"4228401149455001096\\\",\\\"type\\\":\\\"observable\\\"},val)) : undefined; return this.valueFromJulia[\\\"index\\\"]=false}),self)]\\n        \\n    }\\n    self.model = new AppViewModel();\\n    self.valueFromJulia = {};\\n    for (var key in json_data) {\\n        self.valueFromJulia[key] = false;\\n    }\\n    ko.applyBindings(self.model, self.dom);\\n}\\n);\\n    (WebIO.importBlock({\\\"data\\\":[{\\\"name\\\":\\\"knockout\\\",\\\"type\\\":\\\"js\\\",\\\"url\\\":\\\"\\/assetserver\\/727383f2a47bd31570b7da84eee7b022dd6d7c78-knockout.js\\\"},{\\\"name\\\":\\\"knockout_punches\\\",\\\"type\\\":\\\"js\\\",\\\"url\\\":\\\"\\/assetserver\\/382b41b3b1bd9f26f75861d360bad7f8beea211f-knockout_punches.js\\\"}],\\\"type\\\":\\\"async_block\\\"})).then((imports) => handler.apply(this, imports));\\n}\\n\"],\"observables\":{\"changes\":{\"sync\":false,\"id\":\"525239491390459444\",\"value\":0},\"index\":{\"sync\":true,\"id\":\"4228401149455001096\",\"value\":50}}},\"children\":[{\"props\":{\"className\":\"interact-flex-row interact-widget\"},\"nodeType\":\"DOM\",\"type\":\"node\",\"instanceArgs\":{\"namespace\":\"html\",\"tag\":\"div\"},\"children\":[{\"props\":{\"className\":\"interact-flex-row-left\"},\"nodeType\":\"DOM\",\"type\":\"node\",\"instanceArgs\":{\"namespace\":\"html\",\"tag\":\"div\"},\"children\":[{\"props\":{\"className\":\"interact \",\"style\":{\"padding\":\"5px 10px 0px 10px\"}},\"nodeType\":\"DOM\",\"type\":\"node\",\"instanceArgs\":{\"namespace\":\"html\",\"tag\":\"label\"},\"children\":[\"aln_fac\"]}]},{\"props\":{\"className\":\"interact-flex-row-center\"},\"nodeType\":\"DOM\",\"type\":\"node\",\"instanceArgs\":{\"namespace\":\"html\",\"tag\":\"div\"},\"children\":[{\"props\":{\"max\":100,\"min\":1,\"attributes\":{\"type\":\"range\",\"data-bind\":\"numericValue: index, valueUpdate: 'input', event: {change: function (){this.changes(this.changes()+1)}}\",\"orient\":\"horizontal\"},\"step\":1,\"className\":\"slider slider is-fullwidth\",\"style\":{}},\"nodeType\":\"DOM\",\"type\":\"node\",\"instanceArgs\":{\"namespace\":\"html\",\"tag\":\"input\"},\"children\":[]}]},{\"props\":{\"className\":\"interact-flex-row-right\"},\"nodeType\":\"DOM\",\"type\":\"node\",\"instanceArgs\":{\"namespace\":\"html\",\"tag\":\"div\"},\"children\":[{\"props\":{\"attributes\":{\"data-bind\":\"text: formatted_val\"}},\"nodeType\":\"DOM\",\"type\":\"node\",\"instanceArgs\":{\"namespace\":\"html\",\"tag\":\"p\"},\"children\":[]}]}]}]}]},{\"props\":{\"className\":\"field interact-widget\"},\"nodeType\":\"DOM\",\"type\":\"node\",\"instanceArgs\":{\"namespace\":\"html\",\"tag\":\"div\"},\"children\":[{\"props\":{},\"nodeType\":\"Scope\",\"type\":\"node\",\"instanceArgs\":{\"imports\":{\"data\":[{\"name\":\"knockout\",\"type\":\"js\",\"url\":\"\\/assetserver\\/727383f2a47bd31570b7da84eee7b022dd6d7c78-knockout.js\"},{\"name\":\"knockout_punches\",\"type\":\"js\",\"url\":\"\\/assetserver\\/382b41b3b1bd9f26f75861d360bad7f8beea211f-knockout_punches.js\"},{\"name\":null,\"type\":\"js\",\"url\":\"\\/assetserver\\/5ab20f1060420992a9b82a65b735dee4d81ef413-all.js\"},{\"name\":null,\"type\":\"css\",\"url\":\"\\/assetserver\\/1cc0ed62837210b80a182cc3676512f895dab686-style.css\"},{\"name\":null,\"type\":\"css\",\"url\":\"\\/assetserver\\/2eee816f616df3549d7044d45e744fbf8d42bfa1-bulma_confined.min.css\"}],\"type\":\"async_block\"},\"id\":\"15684245330477928458\",\"handlers\":{\"changes\":[\"(function (val){return (val!=this.model[\\\"changes\\\"]()) ? (this.valueFromJulia[\\\"changes\\\"]=true, this.model[\\\"changes\\\"](val)) : undefined})\"],\"index\":[\"(function (val){return (val!=this.model[\\\"index\\\"]()) ? (this.valueFromJulia[\\\"index\\\"]=true, this.model[\\\"index\\\"](val)) : undefined})\"]},\"systemjs_options\":null,\"mount_callbacks\":[\"function () {\\n    var handler = (function (ko, koPunches) {\\n    ko.punches.enableAll();\\n    ko.bindingHandlers.numericValue = {\\n        init: function(element, valueAccessor, allBindings, data, context) {\\n            var stringified = ko.observable(ko.unwrap(valueAccessor()));\\n            stringified.subscribe(function(value) {\\n                var val = parseFloat(value);\\n                if (!isNaN(val)) {\\n                    valueAccessor()(val);\\n                }\\n            });\\n            valueAccessor().subscribe(function(value) {\\n                var str = JSON.stringify(value);\\n                if ((str == \\\"0\\\") && ([\\\"-0\\\", \\\"-0.\\\"].indexOf(stringified()) >= 0))\\n                     return;\\n                 if ([\\\"null\\\", \\\"\\\"].indexOf(str) >= 0)\\n                     return;\\n                stringified(str);\\n            });\\n            ko.applyBindingsToNode(\\n                element,\\n                {\\n                    value: stringified,\\n                    valueUpdate: allBindings.get('valueUpdate'),\\n                },\\n                context,\\n            );\\n        }\\n    };\\n    var json_data = {\\\"formatted_vals\\\":[\\\"0.5\\\",\\\"1.0\\\",\\\"1.5\\\",\\\"2.0\\\",\\\"2.5\\\",\\\"3.0\\\",\\\"3.5\\\",\\\"4.0\\\"],\\\"changes\\\":WebIO.getval({\\\"name\\\":\\\"changes\\\",\\\"scope\\\":\\\"15684245330477928458\\\",\\\"id\\\":\\\"7689752358333221143\\\",\\\"type\\\":\\\"observable\\\"}),\\\"index\\\":WebIO.getval({\\\"name\\\":\\\"index\\\",\\\"scope\\\":\\\"15684245330477928458\\\",\\\"id\\\":\\\"857375997661356389\\\",\\\"type\\\":\\\"observable\\\"})};\\n    var self = this;\\n    function AppViewModel() {\\n        for (var key in json_data) {\\n            var el = json_data[key];\\n            this[key] = Array.isArray(el) ? ko.observableArray(el) : ko.observable(el);\\n        }\\n        \\n        [this[\\\"formatted_val\\\"]=ko.computed(    function(){\\n        return this.formatted_vals()[parseInt(this.index())-(1)];\\n    }\\n,this)]\\n        [this[\\\"changes\\\"].subscribe((function (val){!(this.valueFromJulia[\\\"changes\\\"]) ? (WebIO.setval({\\\"name\\\":\\\"changes\\\",\\\"scope\\\":\\\"15684245330477928458\\\",\\\"id\\\":\\\"7689752358333221143\\\",\\\"type\\\":\\\"observable\\\"},val)) : undefined; return this.valueFromJulia[\\\"changes\\\"]=false}),self),this[\\\"index\\\"].subscribe((function (val){!(this.valueFromJulia[\\\"index\\\"]) ? (WebIO.setval({\\\"name\\\":\\\"index\\\",\\\"scope\\\":\\\"15684245330477928458\\\",\\\"id\\\":\\\"857375997661356389\\\",\\\"type\\\":\\\"observable\\\"},val)) : undefined; return this.valueFromJulia[\\\"index\\\"]=false}),self)]\\n        \\n    }\\n    self.model = new AppViewModel();\\n    self.valueFromJulia = {};\\n    for (var key in json_data) {\\n        self.valueFromJulia[key] = false;\\n    }\\n    ko.applyBindings(self.model, self.dom);\\n}\\n);\\n    (WebIO.importBlock({\\\"data\\\":[{\\\"name\\\":\\\"knockout\\\",\\\"type\\\":\\\"js\\\",\\\"url\\\":\\\"\\/assetserver\\/727383f2a47bd31570b7da84eee7b022dd6d7c78-knockout.js\\\"},{\\\"name\\\":\\\"knockout_punches\\\",\\\"type\\\":\\\"js\\\",\\\"url\\\":\\\"\\/assetserver\\/382b41b3b1bd9f26f75861d360bad7f8beea211f-knockout_punches.js\\\"}],\\\"type\\\":\\\"async_block\\\"})).then((imports) => handler.apply(this, imports));\\n}\\n\"],\"observables\":{\"changes\":{\"sync\":false,\"id\":\"7689752358333221143\",\"value\":0},\"index\":{\"sync\":true,\"id\":\"857375997661356389\",\"value\":4}}},\"children\":[{\"props\":{\"className\":\"interact-flex-row interact-widget\"},\"nodeType\":\"DOM\",\"type\":\"node\",\"instanceArgs\":{\"namespace\":\"html\",\"tag\":\"div\"},\"children\":[{\"props\":{\"className\":\"interact-flex-row-left\"},\"nodeType\":\"DOM\",\"type\":\"node\",\"instanceArgs\":{\"namespace\":\"html\",\"tag\":\"div\"},\"children\":[{\"props\":{\"className\":\"interact \",\"style\":{\"padding\":\"5px 10px 0px 10px\"}},\"nodeType\":\"DOM\",\"type\":\"node\",\"instanceArgs\":{\"namespace\":\"html\",\"tag\":\"label\"},\"children\":[\"vis_range\"]}]},{\"props\":{\"className\":\"interact-flex-row-center\"},\"nodeType\":\"DOM\",\"type\":\"node\",\"instanceArgs\":{\"namespace\":\"html\",\"tag\":\"div\"},\"children\":[{\"props\":{\"max\":8,\"min\":1,\"attributes\":{\"type\":\"range\",\"data-bind\":\"numericValue: index, valueUpdate: 'input', event: {change: function (){this.changes(this.changes()+1)}}\",\"orient\":\"horizontal\"},\"step\":1,\"className\":\"slider slider is-fullwidth\",\"style\":{}},\"nodeType\":\"DOM\",\"type\":\"node\",\"instanceArgs\":{\"namespace\":\"html\",\"tag\":\"input\"},\"children\":[]}]},{\"props\":{\"className\":\"interact-flex-row-right\"},\"nodeType\":\"DOM\",\"type\":\"node\",\"instanceArgs\":{\"namespace\":\"html\",\"tag\":\"div\"},\"children\":[{\"props\":{\"attributes\":{\"data-bind\":\"text: formatted_val\"}},\"nodeType\":\"DOM\",\"type\":\"node\",\"instanceArgs\":{\"namespace\":\"html\",\"tag\":\"p\"},\"children\":[]}]}]}]}]}]},{\"props\":{\"style\":{\"display\":\"flex\",\"flex-direction\":\"row\"}},\"nodeType\":\"DOM\",\"type\":\"node\",\"instanceArgs\":{\"namespace\":\"html\",\"tag\":\"div\"},\"children\":[{\"props\":{\"className\":\"interact-widget\"},\"nodeType\":\"DOM\",\"type\":\"node\",\"instanceArgs\":{\"namespace\":\"html\",\"tag\":\"div\"},\"children\":[{\"props\":{},\"nodeType\":\"Scope\",\"type\":\"node\",\"instanceArgs\":{\"imports\":{\"data\":[{\"name\":null,\"type\":\"js\",\"url\":\"\\/assetserver\\/dd22ed1bf1896c2748f3fe616ce0b838adc895c1-katex.min.js\"},{\"name\":null,\"type\":\"css\",\"url\":\"\\/assetserver\\/46517a424aa5e6cffc1360d7e0848b601c584ee3-katex.min.css\"}],\"type\":\"async_block\"},\"id\":\"2774265128865158009\",\"handlers\":{\"value\":[\"(function (txt){return this.k.render(txt,this.container)})\"]},\"systemjs_options\":null,\"mount_callbacks\":[\"function () {\\n    var handler = ((function (k){this.k=k; this.container=this.dom.querySelector(\\\"#container\\\"); return k.render(\\\"\\\\\\\\;\\\\\\\\;\\\",this.container)}));\\n    (WebIO.importBlock({\\\"data\\\":[{\\\"name\\\":null,\\\"type\\\":\\\"js\\\",\\\"url\\\":\\\"\\/assetserver\\/dd22ed1bf1896c2748f3fe616ce0b838adc895c1-katex.min.js\\\"},{\\\"name\\\":null,\\\"type\\\":\\\"css\\\",\\\"url\\\":\\\"\\/assetserver\\/46517a424aa5e6cffc1360d7e0848b601c584ee3-katex.min.css\\\"}],\\\"type\\\":\\\"async_block\\\"})).then((imports) => handler.apply(this, imports));\\n}\\n\"],\"observables\":{\"value\":{\"sync\":false,\"id\":\"17879683240592963617\",\"value\":\"\\\\;\\\\;\"}}},\"children\":[{\"props\":{\"id\":\"container\"},\"nodeType\":\"DOM\",\"type\":\"node\",\"instanceArgs\":{\"namespace\":\"html\",\"tag\":\"div\"},\"children\":[]}]}]},{\"props\":{\"className\":\"field interact-widget\"},\"nodeType\":\"DOM\",\"type\":\"node\",\"instanceArgs\":{\"namespace\":\"html\",\"tag\":\"div\"},\"children\":[{\"props\":{},\"nodeType\":\"Scope\",\"type\":\"node\",\"instanceArgs\":{\"imports\":{\"data\":[{\"name\":\"knockout\",\"type\":\"js\",\"url\":\"\\/assetserver\\/727383f2a47bd31570b7da84eee7b022dd6d7c78-knockout.js\"},{\"name\":\"knockout_punches\",\"type\":\"js\",\"url\":\"\\/assetserver\\/382b41b3b1bd9f26f75861d360bad7f8beea211f-knockout_punches.js\"},{\"name\":null,\"type\":\"js\",\"url\":\"\\/assetserver\\/5ab20f1060420992a9b82a65b735dee4d81ef413-all.js\"},{\"name\":null,\"type\":\"css\",\"url\":\"\\/assetserver\\/1cc0ed62837210b80a182cc3676512f895dab686-style.css\"},{\"name\":null,\"type\":\"css\",\"url\":\"\\/assetserver\\/2eee816f616df3549d7044d45e744fbf8d42bfa1-bulma_confined.min.css\"}],\"type\":\"async_block\"},\"id\":\"10029748186320817412\",\"handlers\":{\"loading\":[\"(function (val){return (val!=this.model[\\\"loading\\\"]()) ? (this.valueFromJulia[\\\"loading\\\"]=true, this.model[\\\"loading\\\"](val)) : undefined})\"],\"clicks\":[\"(function (val){return (val!=this.model[\\\"clicks\\\"]()) ? (this.valueFromJulia[\\\"clicks\\\"]=true, this.model[\\\"clicks\\\"](val)) : undefined})\"]},\"systemjs_options\":null,\"mount_callbacks\":[\"function () {\\n    var handler = (function (ko, koPunches) {\\n    ko.punches.enableAll();\\n    ko.bindingHandlers.numericValue = {\\n        init: function(element, valueAccessor, allBindings, data, context) {\\n            var stringified = ko.observable(ko.unwrap(valueAccessor()));\\n            stringified.subscribe(function(value) {\\n                var val = parseFloat(value);\\n                if (!isNaN(val)) {\\n                    valueAccessor()(val);\\n                }\\n            });\\n            valueAccessor().subscribe(function(value) {\\n                var str = JSON.stringify(value);\\n                if ((str == \\\"0\\\") && ([\\\"-0\\\", \\\"-0.\\\"].indexOf(stringified()) >= 0))\\n                     return;\\n                 if ([\\\"null\\\", \\\"\\\"].indexOf(str) >= 0)\\n                     return;\\n                stringified(str);\\n            });\\n            ko.applyBindingsToNode(\\n                element,\\n                {\\n                    value: stringified,\\n                    valueUpdate: allBindings.get('valueUpdate'),\\n                },\\n                context,\\n            );\\n        }\\n    };\\n    var json_data = {\\\"loading\\\":WebIO.getval({\\\"name\\\":\\\"loading\\\",\\\"scope\\\":\\\"10029748186320817412\\\",\\\"id\\\":\\\"10053157321475173228\\\",\\\"type\\\":\\\"observable\\\"}),\\\"clicks\\\":WebIO.getval({\\\"name\\\":\\\"clicks\\\",\\\"scope\\\":\\\"10029748186320817412\\\",\\\"id\\\":\\\"3432344521436927254\\\",\\\"type\\\":\\\"observable\\\"})};\\n    var self = this;\\n    function AppViewModel() {\\n        for (var key in json_data) {\\n            var el = json_data[key];\\n            this[key] = Array.isArray(el) ? ko.observableArray(el) : ko.observable(el);\\n        }\\n        \\n        \\n        [this[\\\"loading\\\"].subscribe((function (val){!(this.valueFromJulia[\\\"loading\\\"]) ? (WebIO.setval({\\\"name\\\":\\\"loading\\\",\\\"scope\\\":\\\"10029748186320817412\\\",\\\"id\\\":\\\"10053157321475173228\\\",\\\"type\\\":\\\"observable\\\"},val)) : undefined; return this.valueFromJulia[\\\"loading\\\"]=false}),self),this[\\\"clicks\\\"].subscribe((function (val){!(this.valueFromJulia[\\\"clicks\\\"]) ? (WebIO.setval({\\\"name\\\":\\\"clicks\\\",\\\"scope\\\":\\\"10029748186320817412\\\",\\\"id\\\":\\\"3432344521436927254\\\",\\\"type\\\":\\\"observable\\\"},val)) : undefined; return this.valueFromJulia[\\\"clicks\\\"]=false}),self)]\\n        \\n    }\\n    self.model = new AppViewModel();\\n    self.valueFromJulia = {};\\n    for (var key in json_data) {\\n        self.valueFromJulia[key] = false;\\n    }\\n    ko.applyBindings(self.model, self.dom);\\n}\\n);\\n    (WebIO.importBlock({\\\"data\\\":[{\\\"name\\\":\\\"knockout\\\",\\\"type\\\":\\\"js\\\",\\\"url\\\":\\\"\\/assetserver\\/727383f2a47bd31570b7da84eee7b022dd6d7c78-knockout.js\\\"},{\\\"name\\\":\\\"knockout_punches\\\",\\\"type\\\":\\\"js\\\",\\\"url\\\":\\\"\\/assetserver\\/382b41b3b1bd9f26f75861d360bad7f8beea211f-knockout_punches.js\\\"}],\\\"type\\\":\\\"async_block\\\"})).then((imports) => handler.apply(this, imports));\\n}\\n\"],\"observables\":{\"loading\":{\"sync\":false,\"id\":\"10053157321475173228\",\"value\":false},\"clicks\":{\"sync\":true,\"id\":\"3432344521436927254\",\"value\":0}}},\"children\":[{\"props\":{\"attributes\":{\"data-bind\":\"click: function (){this.clicks(this.clicks()+1)}, css: {'is-loading' : loading}\"},\"className\":\"is-medium button is-primary\",\"style\":{}},\"nodeType\":\"DOM\",\"type\":\"node\",\"instanceArgs\":{\"namespace\":\"html\",\"tag\":\"button\"},\"children\":[\"run\"]}]}]},{\"props\":{\"className\":\"interact-widget\"},\"nodeType\":\"DOM\",\"type\":\"node\",\"instanceArgs\":{\"namespace\":\"html\",\"tag\":\"div\"},\"children\":[{\"props\":{},\"nodeType\":\"Scope\",\"type\":\"node\",\"instanceArgs\":{\"imports\":{\"data\":[{\"name\":null,\"type\":\"js\",\"url\":\"\\/assetserver\\/dd22ed1bf1896c2748f3fe616ce0b838adc895c1-katex.min.js\"},{\"name\":null,\"type\":\"css\",\"url\":\"\\/assetserver\\/46517a424aa5e6cffc1360d7e0848b601c584ee3-katex.min.css\"}],\"type\":\"async_block\"},\"id\":\"2774265128865158009\",\"handlers\":{\"value\":[\"(function (txt){return this.k.render(txt,this.container)})\"]},\"systemjs_options\":null,\"mount_callbacks\":[\"function () {\\n    var handler = ((function (k){this.k=k; this.container=this.dom.querySelector(\\\"#container\\\"); return k.render(\\\"\\\\\\\\;\\\\\\\\;\\\",this.container)}));\\n    (WebIO.importBlock({\\\"data\\\":[{\\\"name\\\":null,\\\"type\\\":\\\"js\\\",\\\"url\\\":\\\"\\/assetserver\\/dd22ed1bf1896c2748f3fe616ce0b838adc895c1-katex.min.js\\\"},{\\\"name\\\":null,\\\"type\\\":\\\"css\\\",\\\"url\\\":\\\"\\/assetserver\\/46517a424aa5e6cffc1360d7e0848b601c584ee3-katex.min.css\\\"}],\\\"type\\\":\\\"async_block\\\"})).then((imports) => handler.apply(this, imports));\\n}\\n\"],\"observables\":{\"value\":{\"sync\":false,\"id\":\"17879683240592963617\",\"value\":\"\\\\;\\\\;\"}}},\"children\":[{\"props\":{\"id\":\"container\"},\"nodeType\":\"DOM\",\"type\":\"node\",\"instanceArgs\":{\"namespace\":\"html\",\"tag\":\"div\"},\"children\":[]}]}]},{\"props\":{\"className\":\"field interact-widget\"},\"nodeType\":\"DOM\",\"type\":\"node\",\"instanceArgs\":{\"namespace\":\"html\",\"tag\":\"div\"},\"children\":[{\"props\":{},\"nodeType\":\"Scope\",\"type\":\"node\",\"instanceArgs\":{\"imports\":{\"data\":[{\"name\":\"knockout\",\"type\":\"js\",\"url\":\"\\/assetserver\\/727383f2a47bd31570b7da84eee7b022dd6d7c78-knockout.js\"},{\"name\":\"knockout_punches\",\"type\":\"js\",\"url\":\"\\/assetserver\\/382b41b3b1bd9f26f75861d360bad7f8beea211f-knockout_punches.js\"},{\"name\":null,\"type\":\"js\",\"url\":\"\\/assetserver\\/5ab20f1060420992a9b82a65b735dee4d81ef413-all.js\"},{\"name\":null,\"type\":\"css\",\"url\":\"\\/assetserver\\/1cc0ed62837210b80a182cc3676512f895dab686-style.css\"},{\"name\":null,\"type\":\"css\",\"url\":\"\\/assetserver\\/2eee816f616df3549d7044d45e744fbf8d42bfa1-bulma_confined.min.css\"}],\"type\":\"async_block\"},\"id\":\"15356498856311490485\",\"handlers\":{\"loading\":[\"(function (val){return (val!=this.model[\\\"loading\\\"]()) ? (this.valueFromJulia[\\\"loading\\\"]=true, this.model[\\\"loading\\\"](val)) : undefined})\"],\"clicks\":[\"(function (val){return (val!=this.model[\\\"clicks\\\"]()) ? (this.valueFromJulia[\\\"clicks\\\"]=true, this.model[\\\"clicks\\\"](val)) : undefined})\"]},\"systemjs_options\":null,\"mount_callbacks\":[\"function () {\\n    var handler = (function (ko, koPunches) {\\n    ko.punches.enableAll();\\n    ko.bindingHandlers.numericValue = {\\n        init: function(element, valueAccessor, allBindings, data, context) {\\n            var stringified = ko.observable(ko.unwrap(valueAccessor()));\\n            stringified.subscribe(function(value) {\\n                var val = parseFloat(value);\\n                if (!isNaN(val)) {\\n                    valueAccessor()(val);\\n                }\\n            });\\n            valueAccessor().subscribe(function(value) {\\n                var str = JSON.stringify(value);\\n                if ((str == \\\"0\\\") && ([\\\"-0\\\", \\\"-0.\\\"].indexOf(stringified()) >= 0))\\n                     return;\\n                 if ([\\\"null\\\", \\\"\\\"].indexOf(str) >= 0)\\n                     return;\\n                stringified(str);\\n            });\\n            ko.applyBindingsToNode(\\n                element,\\n                {\\n                    value: stringified,\\n                    valueUpdate: allBindings.get('valueUpdate'),\\n                },\\n                context,\\n            );\\n        }\\n    };\\n    var json_data = {\\\"loading\\\":WebIO.getval({\\\"name\\\":\\\"loading\\\",\\\"scope\\\":\\\"15356498856311490485\\\",\\\"id\\\":\\\"164972454818796620\\\",\\\"type\\\":\\\"observable\\\"}),\\\"clicks\\\":WebIO.getval({\\\"name\\\":\\\"clicks\\\",\\\"scope\\\":\\\"15356498856311490485\\\",\\\"id\\\":\\\"8787308030594596998\\\",\\\"type\\\":\\\"observable\\\"})};\\n    var self = this;\\n    function AppViewModel() {\\n        for (var key in json_data) {\\n            var el = json_data[key];\\n            this[key] = Array.isArray(el) ? ko.observableArray(el) : ko.observable(el);\\n        }\\n        \\n        \\n        [this[\\\"loading\\\"].subscribe((function (val){!(this.valueFromJulia[\\\"loading\\\"]) ? (WebIO.setval({\\\"name\\\":\\\"loading\\\",\\\"scope\\\":\\\"15356498856311490485\\\",\\\"id\\\":\\\"164972454818796620\\\",\\\"type\\\":\\\"observable\\\"},val)) : undefined; return this.valueFromJulia[\\\"loading\\\"]=false}),self),this[\\\"clicks\\\"].subscribe((function (val){!(this.valueFromJulia[\\\"clicks\\\"]) ? (WebIO.setval({\\\"name\\\":\\\"clicks\\\",\\\"scope\\\":\\\"15356498856311490485\\\",\\\"id\\\":\\\"8787308030594596998\\\",\\\"type\\\":\\\"observable\\\"},val)) : undefined; return this.valueFromJulia[\\\"clicks\\\"]=false}),self)]\\n        \\n    }\\n    self.model = new AppViewModel();\\n    self.valueFromJulia = {};\\n    for (var key in json_data) {\\n        self.valueFromJulia[key] = false;\\n    }\\n    ko.applyBindings(self.model, self.dom);\\n}\\n);\\n    (WebIO.importBlock({\\\"data\\\":[{\\\"name\\\":\\\"knockout\\\",\\\"type\\\":\\\"js\\\",\\\"url\\\":\\\"\\/assetserver\\/727383f2a47bd31570b7da84eee7b022dd6d7c78-knockout.js\\\"},{\\\"name\\\":\\\"knockout_punches\\\",\\\"type\\\":\\\"js\\\",\\\"url\\\":\\\"\\/assetserver\\/382b41b3b1bd9f26f75861d360bad7f8beea211f-knockout_punches.js\\\"}],\\\"type\\\":\\\"async_block\\\"})).then((imports) => handler.apply(this, imports));\\n}\\n\"],\"observables\":{\"loading\":{\"sync\":false,\"id\":\"164972454818796620\",\"value\":false},\"clicks\":{\"sync\":true,\"id\":\"8787308030594596998\",\"value\":0}}},\"children\":[{\"props\":{\"attributes\":{\"data-bind\":\"click: function (){this.clicks(this.clicks()+1)}, css: {'is-loading' : loading}\"},\"className\":\"is-medium button is-primary\",\"style\":{}},\"nodeType\":\"DOM\",\"type\":\"node\",\"instanceArgs\":{\"namespace\":\"html\",\"tag\":\"button\"},\"children\":[\"stop\"]}]}]},{\"props\":{\"className\":\"interact-widget\"},\"nodeType\":\"DOM\",\"type\":\"node\",\"instanceArgs\":{\"namespace\":\"html\",\"tag\":\"div\"},\"children\":[{\"props\":{},\"nodeType\":\"Scope\",\"type\":\"node\",\"instanceArgs\":{\"imports\":{\"data\":[{\"name\":null,\"type\":\"js\",\"url\":\"\\/assetserver\\/dd22ed1bf1896c2748f3fe616ce0b838adc895c1-katex.min.js\"},{\"name\":null,\"type\":\"css\",\"url\":\"\\/assetserver\\/46517a424aa5e6cffc1360d7e0848b601c584ee3-katex.min.css\"}],\"type\":\"async_block\"},\"id\":\"2774265128865158009\",\"handlers\":{\"value\":[\"(function (txt){return this.k.render(txt,this.container)})\"]},\"systemjs_options\":null,\"mount_callbacks\":[\"function () {\\n    var handler = ((function (k){this.k=k; this.container=this.dom.querySelector(\\\"#container\\\"); return k.render(\\\"\\\\\\\\;\\\\\\\\;\\\",this.container)}));\\n    (WebIO.importBlock({\\\"data\\\":[{\\\"name\\\":null,\\\"type\\\":\\\"js\\\",\\\"url\\\":\\\"\\/assetserver\\/dd22ed1bf1896c2748f3fe616ce0b838adc895c1-katex.min.js\\\"},{\\\"name\\\":null,\\\"type\\\":\\\"css\\\",\\\"url\\\":\\\"\\/assetserver\\/46517a424aa5e6cffc1360d7e0848b601c584ee3-katex.min.css\\\"}],\\\"type\\\":\\\"async_block\\\"})).then((imports) => handler.apply(this, imports));\\n}\\n\"],\"observables\":{\"value\":{\"sync\":false,\"id\":\"17879683240592963617\",\"value\":\"\\\\;\\\\;\"}}},\"children\":[{\"props\":{\"id\":\"container\"},\"nodeType\":\"DOM\",\"type\":\"node\",\"instanceArgs\":{\"namespace\":\"html\",\"tag\":\"div\"},\"children\":[]}]}]},{\"props\":{\"className\":\"field interact-widget\"},\"nodeType\":\"DOM\",\"type\":\"node\",\"instanceArgs\":{\"namespace\":\"html\",\"tag\":\"div\"},\"children\":[{\"props\":{},\"nodeType\":\"Scope\",\"type\":\"node\",\"instanceArgs\":{\"imports\":{\"data\":[{\"name\":\"knockout\",\"type\":\"js\",\"url\":\"\\/assetserver\\/727383f2a47bd31570b7da84eee7b022dd6d7c78-knockout.js\"},{\"name\":\"knockout_punches\",\"type\":\"js\",\"url\":\"\\/assetserver\\/382b41b3b1bd9f26f75861d360bad7f8beea211f-knockout_punches.js\"},{\"name\":null,\"type\":\"js\",\"url\":\"\\/assetserver\\/5ab20f1060420992a9b82a65b735dee4d81ef413-all.js\"},{\"name\":null,\"type\":\"css\",\"url\":\"\\/assetserver\\/1cc0ed62837210b80a182cc3676512f895dab686-style.css\"},{\"name\":null,\"type\":\"css\",\"url\":\"\\/assetserver\\/2eee816f616df3549d7044d45e744fbf8d42bfa1-bulma_confined.min.css\"}],\"type\":\"async_block\"},\"id\":\"2080414177635771918\",\"handlers\":{\"loading\":[\"(function (val){return (val!=this.model[\\\"loading\\\"]()) ? (this.valueFromJulia[\\\"loading\\\"]=true, this.model[\\\"loading\\\"](val)) : undefined})\"],\"clicks\":[\"(function (val){return (val!=this.model[\\\"clicks\\\"]()) ? (this.valueFromJulia[\\\"clicks\\\"]=true, this.model[\\\"clicks\\\"](val)) : undefined})\"]},\"systemjs_options\":null,\"mount_callbacks\":[\"function () {\\n    var handler = (function (ko, koPunches) {\\n    ko.punches.enableAll();\\n    ko.bindingHandlers.numericValue = {\\n        init: function(element, valueAccessor, allBindings, data, context) {\\n            var stringified = ko.observable(ko.unwrap(valueAccessor()));\\n            stringified.subscribe(function(value) {\\n                var val = parseFloat(value);\\n                if (!isNaN(val)) {\\n                    valueAccessor()(val);\\n                }\\n            });\\n            valueAccessor().subscribe(function(value) {\\n                var str = JSON.stringify(value);\\n                if ((str == \\\"0\\\") && ([\\\"-0\\\", \\\"-0.\\\"].indexOf(stringified()) >= 0))\\n                     return;\\n                 if ([\\\"null\\\", \\\"\\\"].indexOf(str) >= 0)\\n                     return;\\n                stringified(str);\\n            });\\n            ko.applyBindingsToNode(\\n                element,\\n                {\\n                    value: stringified,\\n                    valueUpdate: allBindings.get('valueUpdate'),\\n                },\\n                context,\\n            );\\n        }\\n    };\\n    var json_data = {\\\"loading\\\":WebIO.getval({\\\"name\\\":\\\"loading\\\",\\\"scope\\\":\\\"2080414177635771918\\\",\\\"id\\\":\\\"7928567909752923932\\\",\\\"type\\\":\\\"observable\\\"}),\\\"clicks\\\":WebIO.getval({\\\"name\\\":\\\"clicks\\\",\\\"scope\\\":\\\"2080414177635771918\\\",\\\"id\\\":\\\"4635594356740232917\\\",\\\"type\\\":\\\"observable\\\"})};\\n    var self = this;\\n    function AppViewModel() {\\n        for (var key in json_data) {\\n            var el = json_data[key];\\n            this[key] = Array.isArray(el) ? ko.observableArray(el) : ko.observable(el);\\n        }\\n        \\n        \\n        [this[\\\"loading\\\"].subscribe((function (val){!(this.valueFromJulia[\\\"loading\\\"]) ? (WebIO.setval({\\\"name\\\":\\\"loading\\\",\\\"scope\\\":\\\"2080414177635771918\\\",\\\"id\\\":\\\"7928567909752923932\\\",\\\"type\\\":\\\"observable\\\"},val)) : undefined; return this.valueFromJulia[\\\"loading\\\"]=false}),self),this[\\\"clicks\\\"].subscribe((function (val){!(this.valueFromJulia[\\\"clicks\\\"]) ? (WebIO.setval({\\\"name\\\":\\\"clicks\\\",\\\"scope\\\":\\\"2080414177635771918\\\",\\\"id\\\":\\\"4635594356740232917\\\",\\\"type\\\":\\\"observable\\\"},val)) : undefined; return this.valueFromJulia[\\\"clicks\\\"]=false}),self)]\\n        \\n    }\\n    self.model = new AppViewModel();\\n    self.valueFromJulia = {};\\n    for (var key in json_data) {\\n        self.valueFromJulia[key] = false;\\n    }\\n    ko.applyBindings(self.model, self.dom);\\n}\\n);\\n    (WebIO.importBlock({\\\"data\\\":[{\\\"name\\\":\\\"knockout\\\",\\\"type\\\":\\\"js\\\",\\\"url\\\":\\\"\\/assetserver\\/727383f2a47bd31570b7da84eee7b022dd6d7c78-knockout.js\\\"},{\\\"name\\\":\\\"knockout_punches\\\",\\\"type\\\":\\\"js\\\",\\\"url\\\":\\\"\\/assetserver\\/382b41b3b1bd9f26f75861d360bad7f8beea211f-knockout_punches.js\\\"}],\\\"type\\\":\\\"async_block\\\"})).then((imports) => handler.apply(this, imports));\\n}\\n\"],\"observables\":{\"loading\":{\"sync\":false,\"id\":\"7928567909752923932\",\"value\":false},\"clicks\":{\"sync\":true,\"id\":\"4635594356740232917\",\"value\":0}}},\"children\":[{\"props\":{\"attributes\":{\"data-bind\":\"click: function (){this.clicks(this.clicks()+1)}, css: {'is-loading' : loading}\"},\"className\":\"is-medium button is-primary\",\"style\":{}},\"nodeType\":\"DOM\",\"type\":\"node\",\"instanceArgs\":{\"namespace\":\"html\",\"tag\":\"button\"},\"children\":[\"reset\"]}]}]},{\"props\":{\"className\":\"interact-widget\"},\"nodeType\":\"DOM\",\"type\":\"node\",\"instanceArgs\":{\"namespace\":\"html\",\"tag\":\"div\"},\"children\":[{\"props\":{},\"nodeType\":\"Scope\",\"type\":\"node\",\"instanceArgs\":{\"imports\":{\"data\":[{\"name\":null,\"type\":\"js\",\"url\":\"\\/assetserver\\/dd22ed1bf1896c2748f3fe616ce0b838adc895c1-katex.min.js\"},{\"name\":null,\"type\":\"css\",\"url\":\"\\/assetserver\\/46517a424aa5e6cffc1360d7e0848b601c584ee3-katex.min.css\"}],\"type\":\"async_block\"},\"id\":\"2774265128865158009\",\"handlers\":{\"value\":[\"(function (txt){return this.k.render(txt,this.container)})\"]},\"systemjs_options\":null,\"mount_callbacks\":[\"function () {\\n    var handler = ((function (k){this.k=k; this.container=this.dom.querySelector(\\\"#container\\\"); return k.render(\\\"\\\\\\\\;\\\\\\\\;\\\",this.container)}));\\n    (WebIO.importBlock({\\\"data\\\":[{\\\"name\\\":null,\\\"type\\\":\\\"js\\\",\\\"url\\\":\\\"\\/assetserver\\/dd22ed1bf1896c2748f3fe616ce0b838adc895c1-katex.min.js\\\"},{\\\"name\\\":null,\\\"type\\\":\\\"css\\\",\\\"url\\\":\\\"\\/assetserver\\/46517a424aa5e6cffc1360d7e0848b601c584ee3-katex.min.css\\\"}],\\\"type\\\":\\\"async_block\\\"})).then((imports) => handler.apply(this, imports));\\n}\\n\"],\"observables\":{\"value\":{\"sync\":false,\"id\":\"17879683240592963617\",\"value\":\"\\\\;\\\\;\"}}},\"children\":[{\"props\":{\"id\":\"container\"},\"nodeType\":\"DOM\",\"type\":\"node\",\"instanceArgs\":{\"namespace\":\"html\",\"tag\":\"div\"},\"children\":[]}]}]},{\"props\":{\"className\":\"field interact-widget\"},\"nodeType\":\"DOM\",\"type\":\"node\",\"instanceArgs\":{\"namespace\":\"html\",\"tag\":\"div\"},\"children\":[{\"props\":{},\"nodeType\":\"Scope\",\"type\":\"node\",\"instanceArgs\":{\"imports\":{\"data\":[{\"name\":\"knockout\",\"type\":\"js\",\"url\":\"\\/assetserver\\/727383f2a47bd31570b7da84eee7b022dd6d7c78-knockout.js\"},{\"name\":\"knockout_punches\",\"type\":\"js\",\"url\":\"\\/assetserver\\/382b41b3b1bd9f26f75861d360bad7f8beea211f-knockout_punches.js\"},{\"name\":null,\"type\":\"js\",\"url\":\"\\/assetserver\\/5ab20f1060420992a9b82a65b735dee4d81ef413-all.js\"},{\"name\":null,\"type\":\"css\",\"url\":\"\\/assetserver\\/1cc0ed62837210b80a182cc3676512f895dab686-style.css\"},{\"name\":null,\"type\":\"css\",\"url\":\"\\/assetserver\\/2eee816f616df3549d7044d45e744fbf8d42bfa1-bulma_confined.min.css\"}],\"type\":\"async_block\"},\"id\":\"10252604126630065060\",\"handlers\":{\"loading\":[\"(function (val){return (val!=this.model[\\\"loading\\\"]()) ? (this.valueFromJulia[\\\"loading\\\"]=true, this.model[\\\"loading\\\"](val)) : undefined})\"],\"clicks\":[\"(function (val){return (val!=this.model[\\\"clicks\\\"]()) ? (this.valueFromJulia[\\\"clicks\\\"]=true, this.model[\\\"clicks\\\"](val)) : undefined})\"]},\"systemjs_options\":null,\"mount_callbacks\":[\"function () {\\n    var handler = (function (ko, koPunches) {\\n    ko.punches.enableAll();\\n    ko.bindingHandlers.numericValue = {\\n        init: function(element, valueAccessor, allBindings, data, context) {\\n            var stringified = ko.observable(ko.unwrap(valueAccessor()));\\n            stringified.subscribe(function(value) {\\n                var val = parseFloat(value);\\n                if (!isNaN(val)) {\\n                    valueAccessor()(val);\\n                }\\n            });\\n            valueAccessor().subscribe(function(value) {\\n                var str = JSON.stringify(value);\\n                if ((str == \\\"0\\\") && ([\\\"-0\\\", \\\"-0.\\\"].indexOf(stringified()) >= 0))\\n                     return;\\n                 if ([\\\"null\\\", \\\"\\\"].indexOf(str) >= 0)\\n                     return;\\n                stringified(str);\\n            });\\n            ko.applyBindingsToNode(\\n                element,\\n                {\\n                    value: stringified,\\n                    valueUpdate: allBindings.get('valueUpdate'),\\n                },\\n                context,\\n            );\\n        }\\n    };\\n    var json_data = {\\\"loading\\\":WebIO.getval({\\\"name\\\":\\\"loading\\\",\\\"scope\\\":\\\"10252604126630065060\\\",\\\"id\\\":\\\"16187448258225772225\\\",\\\"type\\\":\\\"observable\\\"}),\\\"clicks\\\":WebIO.getval({\\\"name\\\":\\\"clicks\\\",\\\"scope\\\":\\\"10252604126630065060\\\",\\\"id\\\":\\\"17101002317241049864\\\",\\\"type\\\":\\\"observable\\\"})};\\n    var self = this;\\n    function AppViewModel() {\\n        for (var key in json_data) {\\n            var el = json_data[key];\\n            this[key] = Array.isArray(el) ? ko.observableArray(el) : ko.observable(el);\\n        }\\n        \\n        \\n        [this[\\\"loading\\\"].subscribe((function (val){!(this.valueFromJulia[\\\"loading\\\"]) ? (WebIO.setval({\\\"name\\\":\\\"loading\\\",\\\"scope\\\":\\\"10252604126630065060\\\",\\\"id\\\":\\\"16187448258225772225\\\",\\\"type\\\":\\\"observable\\\"},val)) : undefined; return this.valueFromJulia[\\\"loading\\\"]=false}),self),this[\\\"clicks\\\"].subscribe((function (val){!(this.valueFromJulia[\\\"clicks\\\"]) ? (WebIO.setval({\\\"name\\\":\\\"clicks\\\",\\\"scope\\\":\\\"10252604126630065060\\\",\\\"id\\\":\\\"17101002317241049864\\\",\\\"type\\\":\\\"observable\\\"},val)) : undefined; return this.valueFromJulia[\\\"clicks\\\"]=false}),self)]\\n        \\n    }\\n    self.model = new AppViewModel();\\n    self.valueFromJulia = {};\\n    for (var key in json_data) {\\n        self.valueFromJulia[key] = false;\\n    }\\n    ko.applyBindings(self.model, self.dom);\\n}\\n);\\n    (WebIO.importBlock({\\\"data\\\":[{\\\"name\\\":\\\"knockout\\\",\\\"type\\\":\\\"js\\\",\\\"url\\\":\\\"\\/assetserver\\/727383f2a47bd31570b7da84eee7b022dd6d7c78-knockout.js\\\"},{\\\"name\\\":\\\"knockout_punches\\\",\\\"type\\\":\\\"js\\\",\\\"url\\\":\\\"\\/assetserver\\/382b41b3b1bd9f26f75861d360bad7f8beea211f-knockout_punches.js\\\"}],\\\"type\\\":\\\"async_block\\\"})).then((imports) => handler.apply(this, imports));\\n}\\n\"],\"observables\":{\"loading\":{\"sync\":false,\"id\":\"16187448258225772225\",\"value\":false},\"clicks\":{\"sync\":true,\"id\":\"17101002317241049864\",\"value\":0}}},\"children\":[{\"props\":{\"attributes\":{\"data-bind\":\"click: function (){this.clicks(this.clicks()+1)}, css: {'is-loading' : loading}\"},\"className\":\"is-medium button is-primary\",\"style\":{}},\"nodeType\":\"DOM\",\"type\":\"node\",\"instanceArgs\":{\"namespace\":\"html\",\"tag\":\"button\"},\"children\":[\"save\"]}]}]}]}]},{\"props\":{\"className\":\"interact-widget\"},\"nodeType\":\"DOM\",\"type\":\"node\",\"instanceArgs\":{\"namespace\":\"html\",\"tag\":\"div\"},\"children\":[{\"props\":{},\"nodeType\":\"Scope\",\"type\":\"node\",\"instanceArgs\":{\"imports\":{\"data\":[{\"name\":null,\"type\":\"js\",\"url\":\"\\/assetserver\\/dd22ed1bf1896c2748f3fe616ce0b838adc895c1-katex.min.js\"},{\"name\":null,\"type\":\"css\",\"url\":\"\\/assetserver\\/46517a424aa5e6cffc1360d7e0848b601c584ee3-katex.min.css\"}],\"type\":\"async_block\"},\"id\":\"2774265128865158009\",\"handlers\":{\"value\":[\"(function (txt){return this.k.render(txt,this.container)})\"]},\"systemjs_options\":null,\"mount_callbacks\":[\"function () {\\n    var handler = ((function (k){this.k=k; this.container=this.dom.querySelector(\\\"#container\\\"); return k.render(\\\"\\\\\\\\;\\\\\\\\;\\\",this.container)}));\\n    (WebIO.importBlock({\\\"data\\\":[{\\\"name\\\":null,\\\"type\\\":\\\"js\\\",\\\"url\\\":\\\"\\/assetserver\\/dd22ed1bf1896c2748f3fe616ce0b838adc895c1-katex.min.js\\\"},{\\\"name\\\":null,\\\"type\\\":\\\"css\\\",\\\"url\\\":\\\"\\/assetserver\\/46517a424aa5e6cffc1360d7e0848b601c584ee3-katex.min.css\\\"}],\\\"type\\\":\\\"async_block\\\"})).then((imports) => handler.apply(this, imports));\\n}\\n\"],\"observables\":{\"value\":{\"sync\":false,\"id\":\"17879683240592963617\",\"value\":\"\\\\;\\\\;\"}}},\"children\":[{\"props\":{\"id\":\"container\"},\"nodeType\":\"DOM\",\"type\":\"node\",\"instanceArgs\":{\"namespace\":\"html\",\"tag\":\"div\"},\"children\":[]}]}]},{\"props\":{},\"nodeType\":\"Scope\",\"type\":\"node\",\"instanceArgs\":{\"imports\":{\"data\":[],\"type\":\"async_block\"},\"id\":\"4654014054394404005\",\"handlers\":{\"obs-output\":[\"function (value, scope) {\\n    scope.setInnerHTML(value);\\n}\\n\"]},\"systemjs_options\":null,\"mount_callbacks\":[],\"observables\":{\"obs-output\":{\"sync\":false,\"id\":\"12509461659751816393\",\"value\":\"<img src='data:image\\/png;base64,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'><\\/img>\"}}},\"children\":[{\"props\":{\"className\":\"webio-observable\",\"setInnerHtml\":\"<img src='data:image\\/png;base64,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'><\\/img>\"},\"nodeType\":\"DOM\",\"type\":\"node\",\"instanceArgs\":{\"namespace\":\"html\",\"tag\":\"div\"},\"children\":[]}]},{\"props\":{\"className\":\"interact-widget\"},\"nodeType\":\"DOM\",\"type\":\"node\",\"instanceArgs\":{\"namespace\":\"html\",\"tag\":\"div\"},\"children\":[{\"props\":{},\"nodeType\":\"Scope\",\"type\":\"node\",\"instanceArgs\":{\"imports\":{\"data\":[{\"name\":null,\"type\":\"js\",\"url\":\"\\/assetserver\\/dd22ed1bf1896c2748f3fe616ce0b838adc895c1-katex.min.js\"},{\"name\":null,\"type\":\"css\",\"url\":\"\\/assetserver\\/46517a424aa5e6cffc1360d7e0848b601c584ee3-katex.min.css\"}],\"type\":\"async_block\"},\"id\":\"2774265128865158009\",\"handlers\":{\"value\":[\"(function (txt){return this.k.render(txt,this.container)})\"]},\"systemjs_options\":null,\"mount_callbacks\":[\"function () {\\n    var handler = ((function (k){this.k=k; this.container=this.dom.querySelector(\\\"#container\\\"); return k.render(\\\"\\\\\\\\;\\\\\\\\;\\\",this.container)}));\\n    (WebIO.importBlock({\\\"data\\\":[{\\\"name\\\":null,\\\"type\\\":\\\"js\\\",\\\"url\\\":\\\"\\/assetserver\\/dd22ed1bf1896c2748f3fe616ce0b838adc895c1-katex.min.js\\\"},{\\\"name\\\":null,\\\"type\\\":\\\"css\\\",\\\"url\\\":\\\"\\/assetserver\\/46517a424aa5e6cffc1360d7e0848b601c584ee3-katex.min.css\\\"}],\\\"type\\\":\\\"async_block\\\"})).then((imports) => handler.apply(this, imports));\\n}\\n\"],\"observables\":{\"value\":{\"sync\":false,\"id\":\"17879683240592963617\",\"value\":\"\\\\;\\\\;\"}}},\"children\":[{\"props\":{\"id\":\"container\"},\"nodeType\":\"DOM\",\"type\":\"node\",\"instanceArgs\":{\"namespace\":\"html\",\"tag\":\"div\"},\"children\":[]}]}]},{\"props\":{\"style\":{\"display\":\"flex\",\"flex-direction\":\"column\"}},\"nodeType\":\"DOM\",\"type\":\"node\",\"instanceArgs\":{\"namespace\":\"html\",\"tag\":\"div\"},\"children\":[]}]}]},\n",
       "        window,\n",
       "    );\n",
       "    })()\n",
       "    </script>\n",
       "</div>\n"
      ],
      "text/plain": [
       "WebIO.Node{WebIO.DOM}(WebIO.DOM(:html, :div), Any[WebIO.Node{WebIO.DOM}(WebIO.DOM(:html, :div), Any[WebIO.Node{WebIO.DOM}(WebIO.DOM(:html, :div), Any[WebIO.Node{WebIO.DOM}(WebIO.DOM(:html, :div), Any[WebIO.Scope(WebIO.Node{WebIO.DOM}(WebIO.DOM(:html, :div), Any[WebIO.Node{WebIO.DOM}(WebIO.DOM(:html, :div), Any[WebIO.Node{WebIO.DOM}(WebIO.DOM(:html, :label), Any[\"time\"], Dict{Symbol, Any}(:className => \"interact \", :style => Dict{Any, Any}(:padding => \"5px 10px 0px 10px\")))], Dict{Symbol, Any}(:className => \"interact-flex-row-left\")), WebIO.Node{WebIO.DOM}(WebIO.DOM(:html, :div), Any[WebIO.Node{WebIO.DOM}(WebIO.DOM(:html, :input), Any[], Dict{Symbol, Any}(:max => 400, :min => 1, :attributes => Dict{Any, Any}(:type => \"range\", Symbol(\"data-bind\") => \"numericValue: index, valueUpdate: 'input', event: {change: function (){this.changes(this.changes()+1)}}\", \"orient\" => \"horizontal\"), :step => 1, :className => \"slider slider is-fullwidth\", :style => Dict{Any, Any}()))], Dict{Symbol, Any}(:className => \"interact-flex-row-center\")), WebIO.Node{WebIO.DOM}(WebIO.DOM(:html, :div), Any[WebIO.Node{WebIO.DOM}(WebIO.DOM(:html, :p), Any[], Dict{Symbol, Any}(:attributes => Dict(\"data-bind\" => \"text: formatted_val\")))], Dict{Symbol, Any}(:className => \"interact-flex-row-right\"))], Dict{Symbol, Any}(:className => \"interact-flex-row interact-widget\")), Dict{String, Tuple{Observables.AbstractObservable, Union{Nothing, Bool}}}(\"changes\" => (Observable(0), nothing), \"index\" => (Observable(1), nothing)), Set{String}(), nothing, WebIO.Asset[WebIO.Asset(\"js\", \"knockout\", \"/home/dushya/.julia/packages/Knockout/HReiN/src/../assets/knockout.js\"), WebIO.Asset(\"js\", \"knockout_punches\", \"/home/dushya/.julia/packages/Knockout/HReiN/src/../assets/knockout_punches.js\"), WebIO.Asset(\"js\", nothing, \"/home/dushya/.julia/packages/InteractBase/LJXv3/src/../assets/all.js\"), WebIO.Asset(\"css\", nothing, \"/home/dushya/.julia/packages/InteractBase/LJXv3/src/../assets/style.css\"), WebIO.Asset(\"css\", nothing, \"/home/dushya/.julia/packages/Interact/PENUy/src/../assets/bulma_confined.min.css\")], Dict{Any, Any}(\"changes\" => Any[WebIO.JSString(\"(function (val){return (val!=this.model[\\\"changes\\\"]()) ? (this.valueFromJulia[\\\"changes\\\"]=true, this.model[\\\"changes\\\"](val)) : undefined})\")], \"index\" => Any[WebIO.JSString(\"(function (val){return (val!=this.model[\\\"index\\\"]()) ? (this.valueFromJulia[\\\"index\\\"]=true, this.model[\\\"index\\\"](val)) : undefined})\")]), WebIO.ConnectionPool(Channel{Any}(32), Set{WebIO.AbstractConnection}(), Base.GenericCondition{ReentrantLock}(Base.IntrusiveLinkedList{Task}(Task (runnable) @0x00007f76391333a0, Task (runnable) @0x00007f76391333a0), ReentrantLock(nothing, 0x00000000, 0x00, Base.GenericCondition{Base.Threads.SpinLock}(Base.IntrusiveLinkedList{Task}(nothing, nothing), Base.Threads.SpinLock(0)), (8, 0, 139779710648320)))), WebIO.JSString[WebIO.JSString(\"function () {\\n    var handler = (function (ko, koPunches) {\\n    ko.punches.enableAll();\\n    ko.bindingHandlers.numericValue = {\\n        init: function(element, valueAccessor, allBindings, data, context) {\\n            var stringified = ko.observable(ko.unwrap(valueAccessor()));\\n            stringified.subscribe(function(value) {\\n                var val = parseFloat(value);\\n                if (!isNaN(val)) {\\n                    valueAccessor()(val);\\n                }\\n            });\\n            valueAccessor().subscribe(function(value) {\\n                var str = JSON.stringify(value);\\n                if ((str == \\\"0\\\") && ([\\\"-0\\\", \\\"-0.\\\"].indexOf(stringified()) >= 0))\\n                     return;\\n                 if ([\\\"null\\\", \\\"\\\"].indexOf(str) >= 0)\\n                     return;\\n                stringified(str);\\n            });\\n            ko.applyBindingsToNode(\\n                element,\\n                {\\n                    value: stringified,\\n                    valueUpdate: allBindings.get('valueUpdate'),\\n                },\\n                context,\\n            );\\n        }\\n    };\\n    var json_data = {\\\"formatted_vals\\\":[\\\"1\\\",\\\"2\\\",\\\"3\\\",\\\"4\\\",\\\"5\\\",\\\"6\\\",\\\"7\\\",\\\"8\\\",\\\"9\\\",\\\"10\\\",\\\"11\\\",\\\"12\\\",\\\"13\\\",\\\"14\\\",\\\"15\\\",\\\"16\\\",\\\"17\\\",\\\"18\\\",\\\"19\\\",\\\"20\\\",\\\"21\\\",\\\"22\\\",\\\"23\\\",\\\"24\\\",\\\"25\\\",\\\"26\\\",\\\"27\\\",\\\"28\\\",\\\"29\\\",\\\"30\\\",\\\"31\\\",\\\"32\\\",\\\"33\\\",\\\"34\\\",\\\"35\\\",\\\"36\\\",\\\"37\\\",\\\"38\\\",\\\"39\\\",\\\"40\\\",\\\"41\\\",\\\"42\\\",\\\"43\\\",\\\"44\\\",\\\"45\\\",\\\"46\\\",\\\"47\\\",\\\"48\\\",\\\"49\\\",\\\"50\\\",\\\"51\\\",\\\"52\\\",\\\"53\\\",\\\"54\\\",\\\"55\\\",\\\"56\\\",\\\"57\\\",\\\"58\\\",\\\"59\\\",\\\"60\\\",\\\"61\\\",\\\"62\\\",\\\"63\\\",\\\"64\\\",\\\"65\\\",\\\"66\\\",\\\"67\\\",\\\"68\\\",\\\"69\\\",\\\"70\\\",\\\"71\\\",\\\"72\\\",\\\"73\\\",\\\"74\\\",\\\"75\\\",\\\"76\\\",\\\"77\\\",\\\"78\\\",\\\"79\\\",\\\"80\\\",\\\"81\\\",\\\"82\\\",\\\"83\\\",\\\"84\\\",\\\"85\\\",\\\"86\\\",\\\"87\\\",\\\"88\\\",\\\"89\\\",\\\"90\\\",\\\"91\\\",\\\"92\\\",\\\"93\\\",\\\"94\\\",\\\"95\\\",\\\"96\\\",\\\"97\\\",\\\"98\\\",\\\"99\\\",\\\"100\\\",\\\"101\\\",\\\"102\\\",\\\"103\\\",\\\"104\\\",\\\"105\\\",\\\"106\\\",\\\"107\\\",\\\"108\\\",\\\"109\\\",\\\"110\\\",\\\"111\\\",\\\"112\\\",\\\"113\\\",\\\"114\\\",\\\"115\\\",\\\"116\\\",\\\"117\\\",\\\"118\\\",\\\"119\\\",\\\"120\\\",\\\"121\\\",\\\"122\\\",\\\"123\\\",\\\"124\\\",\\\"125\\\",\\\"126\\\",\\\"127\\\",\\\"128\\\",\\\"129\\\",\\\"130\\\",\\\"131\\\",\\\"132\\\",\\\"133\\\",\\\"134\\\",\\\"135\\\",\\\"136\\\",\\\"137\\\",\\\"138\\\",\\\"139\\\",\\\"140\\\",\\\"141\\\",\\\"142\\\",\\\"143\\\",\\\"144\\\",\\\"145\\\",\\\"146\\\",\\\"147\\\",\\\"148\\\",\\\"149\\\",\\\"150\\\",\\\"151\\\",\\\"152\\\",\\\"153\\\",\\\"154\\\",\\\"155\\\",\\\"156\\\",\\\"157\\\",\\\"158\\\",\\\"159\\\",\\\"160\\\",\\\"161\\\",\\\"162\\\",\\\"163\\\",\\\"164\\\",\\\"165\\\",\\\"166\\\",\\\"167\\\",\\\"168\\\",\\\"169\\\",\\\"170\\\",\\\"171\\\",\\\"172\\\",\\\"173\\\",\\\"174\\\",\\\"175\\\",\\\"176\\\",\\\"177\\\",\\\"178\\\",\\\"179\\\",\\\"180\\\",\\\"181\\\",\\\"182\\\",\\\"183\\\",\\\"184\\\",\\\"185\\\",\\\"186\\\",\\\"187\\\",\\\"188\\\",\\\"189\\\",\\\"190\\\",\\\"191\\\",\\\"192\\\",\\\"193\\\",\\\"194\\\",\\\"195\\\",\\\"196\\\",\\\"197\\\",\\\"198\\\",\\\"199\\\",\\\"200\\\",\\\"201\\\",\\\"202\\\",\\\"203\\\",\\\"204\\\",\\\"205\\\",\\\"206\\\",\\\"207\\\",\\\"208\\\",\\\"209\\\",\\\"210\\\",\\\"211\\\",\\\"212\\\",\\\"213\\\",\\\"214\\\",\\\"215\\\",\\\"216\\\",\\\"217\\\",\\\"218\\\",\\\"219\\\",\\\"220\\\",\\\"221\\\",\\\"222\\\",\\\"223\\\",\\\"224\\\",\\\"225\\\",\\\"226\\\",\\\"227\\\",\\\"228\\\",\\\"229\\\",\\\"230\\\",\\\"231\\\",\\\"232\\\",\\\"233\\\",\\\"234\\\",\\\"235\\\",\\\"236\\\",\\\"237\\\",\\\"238\\\",\\\"239\\\",\\\"240\\\",\\\"241\\\",\\\"242\\\",\\\"243\\\",\\\"244\\\",\\\"245\\\",\\\"246\\\",\\\"247\\\",\\\"248\\\",\\\"249\\\",\\\"250\\\",\\\"251\\\",\\\"252\\\",\\\"253\\\",\\\"254\\\",\\\"255\\\",\\\"256\\\",\\\"257\\\",\\\"258\\\",\\\"259\\\",\\\"260\\\",\\\"261\\\",\\\"262\\\",\\\"263\\\",\\\"264\\\",\\\"265\\\",\\\"266\\\",\\\"267\\\",\\\"268\\\",\\\"269\\\",\\\"270\\\",\\\"271\\\",\\\"272\\\",\\\"273\\\",\\\"274\\\",\\\"275\\\",\\\"276\\\",\\\"277\\\",\\\"278\\\",\\\"279\\\",\\\"280\\\",\\\"281\\\",\\\"282\\\",\\\"283\\\",\\\"284\\\",\\\"285\\\",\\\"286\\\",\\\"287\\\",\\\"288\\\",\\\"289\\\",\\\"290\\\",\\\"291\\\",\\\"292\\\",\\\"293\\\",\\\"294\\\",\\\"295\\\",\\\"296\\\",\\\"297\\\",\\\"298\\\",\\\"299\\\",\\\"300\\\",\\\"301\\\",\\\"302\\\",\\\"303\\\",\\\"304\\\",\\\"305\\\",\\\"306\\\",\\\"307\\\",\\\"308\\\",\\\"309\\\",\\\"310\\\",\\\"311\\\",\\\"312\\\",\\\"313\\\",\\\"314\\\",\\\"315\\\",\\\"316\\\",\\\"317\\\",\\\"318\\\",\\\"319\\\",\\\"320\\\",\\\"321\\\",\\\"322\\\",\\\"323\\\",\\\"324\\\",\\\"325\\\",\\\"326\\\",\\\"327\\\",\\\"328\\\",\\\"329\\\",\\\"330\\\",\\\"331\\\",\\\"332\\\",\\\"333\\\",\\\"334\\\",\\\"335\\\",\\\"336\\\",\\\"337\\\",\\\"338\\\",\\\"339\\\",\\\"340\\\",\\\"341\\\",\\\"342\\\",\\\"343\\\",\\\"344\\\",\\\"345\\\",\\\"346\\\",\\\"347\\\",\\\"348\\\",\\\"349\\\",\\\"350\\\",\\\"351\\\",\\\"352\\\",\\\"353\\\",\\\"354\\\",\\\"355\\\",\\\"356\\\",\\\"357\\\",\\\"358\\\",\\\"359\\\",\\\"360\\\",\\\"361\\\",\\\"362\\\",\\\"363\\\",\\\"364\\\",\\\"365\\\",\\\"366\\\",\\\"367\\\",\\\"368\\\",\\\"369\\\",\\\"370\\\",\\\"371\\\",\\\"372\\\",\\\"373\\\",\\\"374\\\",\\\"375\\\",\\\"376\\\",\\\"377\\\",\\\"378\\\",\\\"379\\\",\\\"380\\\",\\\"381\\\",\\\"382\\\",\\\"383\\\",\\\"384\\\",\\\"385\\\",\\\"386\\\",\\\"387\\\",\\\"388\\\",\\\"389\\\",\\\"390\\\",\\\"391\\\",\\\"392\\\",\\\"393\\\",\\\"394\\\",\\\"395\\\",\\\"396\\\",\\\"397\\\",\\\"398\\\",\\\"399\\\",\\\"400\\\"],\\\"changes\\\":WebIO.getval({\\\"name\\\":\\\"changes\\\",\\\"scope\\\":\\\"14454081385394510836\\\",\\\"id\\\":\\\"4257139202994103411\\\",\\\"type\\\":\\\"observable\\\"}),\\\"index\\\":WebIO.getval({\\\"name\\\":\\\"index\\\",\\\"scope\\\":\\\"14454081385394510836\\\",\\\"id\\\":\\\"3763133531109475514\\\",\\\"type\\\":\\\"observable\\\"})};\\n    var self = this;\\n    function AppViewModel() {\\n        for (var key in json_data) {\\n            var el = json_data[key];\\n            this[key] = Array.isArray(el) ? ko.observableArray(el) : ko.observable(el);\\n        }\\n        \\n        [this[\\\"formatted_val\\\"]=ko.computed(    function(){\\n        return this.formatted_vals()[parseInt(this.index())-(1)];\\n    }\\n,this)]\\n        [this[\\\"changes\\\"].subscribe((function (val){!(this.valueFromJulia[\\\"changes\\\"]) ? (WebIO.setval({\\\"name\\\":\\\"changes\\\",\\\"scope\\\":\\\"14454081385394510836\\\",\\\"id\\\":\\\"4257139202994103411\\\",\\\"type\\\":\\\"observable\\\"},val)) : undefined; return this.valueFromJulia[\\\"changes\\\"]=false}),self),this[\\\"index\\\"].subscribe((function (val){!(this.valueFromJulia[\\\"index\\\"]) ? (WebIO.setval({\\\"name\\\":\\\"index\\\",\\\"scope\\\":\\\"14454081385394510836\\\",\\\"id\\\":\\\"3763133531109475514\\\",\\\"type\\\":\\\"observable\\\"},val)) : undefined; return this.valueFromJulia[\\\"index\\\"]=false}),self)]\\n        \\n    }\\n    self.model = new AppViewModel();\\n    self.valueFromJulia = {};\\n    for (var key in json_data) {\\n        self.valueFromJulia[key] = false;\\n    }\\n    ko.applyBindings(self.model, self.dom);\\n}\\n);\\n    (WebIO.importBlock({\\\"data\\\":[{\\\"name\\\":\\\"knockout\\\",\\\"type\\\":\\\"js\\\",\\\"url\\\":\\\"/assetserver/727383f2a47bd31570b7da84eee7b022dd6d7c78-knockout.js\\\"},{\\\"name\\\":\\\"knockout_punches\\\",\\\"type\\\":\\\"js\\\",\\\"url\\\":\\\"/assetserver/382b41b3b1bd9f26f75861d360bad7f8beea211f-knockout_punches.js\\\"}],\\\"type\\\":\\\"async_block\\\"})).then((imports) => handler.apply(this, imports));\\n}\\n\")])], Dict{Symbol, Any}(:className => \"field interact-widget\")), WebIO.Node{WebIO.DOM}(WebIO.DOM(:html, :div), Any[WebIO.Scope(WebIO.Node{WebIO.DOM}(WebIO.DOM(:html, :div), Any[WebIO.Node{WebIO.DOM}(WebIO.DOM(:html, :div), Any[WebIO.Node{WebIO.DOM}(WebIO.DOM(:html, :label), Any[\"scale\"], Dict{Symbol, Any}(:className => \"interact \", :style => Dict{Any, Any}(:padding => \"5px 10px 0px 10px\")))], Dict{Symbol, Any}(:className => \"interact-flex-row-left\")), WebIO.Node{WebIO.DOM}(WebIO.DOM(:html, :div), Any[WebIO.Node{WebIO.DOM}(WebIO.DOM(:html, :input), Any[], Dict{Symbol, Any}(:max => 20, :min => 1, :attributes => Dict{Any, Any}(:type => \"range\", Symbol(\"data-bind\") => \"numericValue: index, valueUpdate: 'input', event: {change: function (){this.changes(this.changes()+1)}}\", \"orient\" => \"horizontal\"), :step => 1, :className => \"slider slider is-fullwidth\", :style => Dict{Any, Any}()))], Dict{Symbol, Any}(:className => \"interact-flex-row-center\")), WebIO.Node{WebIO.DOM}(WebIO.DOM(:html, :div), Any[WebIO.Node{WebIO.DOM}(WebIO.DOM(:html, :p), Any[], Dict{Symbol, Any}(:attributes => Dict(\"data-bind\" => \"text: formatted_val\")))], Dict{Symbol, Any}(:className => \"interact-flex-row-right\"))], Dict{Symbol, Any}(:className => \"interact-flex-row interact-widget\")), Dict{String, Tuple{Observables.AbstractObservable, Union{Nothing, Bool}}}(\"changes\" => (Observable(0), nothing), \"index\" => (Observable{Any}(10), nothing)), Set{String}(), nothing, WebIO.Asset[WebIO.Asset(\"js\", \"knockout\", \"/home/dushya/.julia/packages/Knockout/HReiN/src/../assets/knockout.js\"), WebIO.Asset(\"js\", \"knockout_punches\", \"/home/dushya/.julia/packages/Knockout/HReiN/src/../assets/knockout_punches.js\"), WebIO.Asset(\"js\", nothing, \"/home/dushya/.julia/packages/InteractBase/LJXv3/src/../assets/all.js\"), WebIO.Asset(\"css\", nothing, \"/home/dushya/.julia/packages/InteractBase/LJXv3/src/../assets/style.css\"), WebIO.Asset(\"css\", nothing, \"/home/dushya/.julia/packages/Interact/PENUy/src/../assets/bulma_confined.min.css\")], Dict{Any, Any}(\"changes\" => Any[WebIO.JSString(\"(function (val){return (val!=this.model[\\\"changes\\\"]()) ? (this.valueFromJulia[\\\"changes\\\"]=true, this.model[\\\"changes\\\"](val)) : undefined})\")], \"index\" => Any[WebIO.JSString(\"(function (val){return (val!=this.model[\\\"index\\\"]()) ? (this.valueFromJulia[\\\"index\\\"]=true, this.model[\\\"index\\\"](val)) : undefined})\")]), WebIO.ConnectionPool(Channel{Any}(32), Set{WebIO.AbstractConnection}(), Base.GenericCondition{ReentrantLock}(Base.IntrusiveLinkedList{Task}(Task (runnable) @0x00007f763918ddc0, Task (runnable) @0x00007f763918ddc0), ReentrantLock(nothing, 0x00000000, 0x00, Base.GenericCondition{Base.Threads.SpinLock}(Base.IntrusiveLinkedList{Task}(nothing, nothing), Base.Threads.SpinLock(0)), (8, 0, 139779710648320)))), WebIO.JSString[WebIO.JSString(\"function () {\\n    var handler = (function (ko, koPunches) {\\n    ko.punches.enableAll();\\n    ko.bindingHandlers.numericValue = {\\n        init: function(element, valueAccessor, allBindings, data, context) {\\n            var stringified = ko.observable(ko.unwrap(valueAccessor()));\\n            stringified.subscribe(function(value) {\\n                var val = parseFloat(value);\\n                if (!isNaN(val)) {\\n                    valueAccessor()(val);\\n                }\\n            });\\n            valueAccessor().subscribe(function(value) {\\n                var str = JSON.stringify(value);\\n                if ((str == \\\"0\\\") && ([\\\"-0\\\", \\\"-0.\\\"].indexOf(stringified()) >= 0))\\n                     return;\\n                 if ([\\\"null\\\", \\\"\\\"].indexOf(str) >= 0)\\n                     return;\\n                stringified(str);\\n            });\\n            ko.applyBindingsToNode(\\n                element,\\n                {\\n                    value: stringified,\\n                    valueUpdate: allBindings.get('valueUpdate'),\\n                },\\n                context,\\n            );\\n        }\\n    };\\n    var json_data = {\\\"formatted_vals\\\":[\\\"0.1\\\",\\\"0.2\\\",\\\"0.3\\\",\\\"0.4\\\",\\\"0.5\\\",\\\"0.6\\\",\\\"0.7\\\",\\\"0.8\\\",\\\"0.9\\\",\\\"1.0\\\",\\\"1.1\\\",\\\"1.2\\\",\\\"1.3\\\",\\\"1.4\\\",\\\"1.5\\\",\\\"1.6\\\",\\\"1.7\\\",\\\"1.8\\\",\\\"1.9\\\",\\\"2.0\\\"],\\\"changes\\\":WebIO.getval({\\\"name\\\":\\\"changes\\\",\\\"scope\\\":\\\"17884626374392431139\\\",\\\"id\\\":\\\"17380165746979222786\\\",\\\"type\\\":\\\"observable\\\"}),\\\"index\\\":WebIO.getval({\\\"name\\\":\\\"index\\\",\\\"scope\\\":\\\"17884626374392431139\\\",\\\"id\\\":\\\"10775394748698588142\\\",\\\"type\\\":\\\"observable\\\"})};\\n    var self = this;\\n    function AppViewModel() {\\n        for (var key in json_data) {\\n            var el = json_data[key];\\n            this[key] = Array.isArray(el) ? ko.observableArray(el) : ko.observable(el);\\n        }\\n        \\n        [this[\\\"formatted_val\\\"]=ko.computed(    function(){\\n        return this.formatted_vals()[parseInt(this.index())-(1)];\\n    }\\n,this)]\\n        [this[\\\"changes\\\"].subscribe((function (val){!(this.valueFromJulia[\\\"changes\\\"]) ? (WebIO.setval({\\\"name\\\":\\\"changes\\\",\\\"scope\\\":\\\"17884626374392431139\\\",\\\"id\\\":\\\"17380165746979222786\\\",\\\"type\\\":\\\"observable\\\"},val)) : undefined; return this.valueFromJulia[\\\"changes\\\"]=false}),self),this[\\\"index\\\"].subscribe((function (val){!(this.valueFromJulia[\\\"index\\\"]) ? (WebIO.setval({\\\"name\\\":\\\"index\\\",\\\"scope\\\":\\\"17884626374392431139\\\",\\\"id\\\":\\\"10775394748698588142\\\",\\\"type\\\":\\\"observable\\\"},val)) : undefined; return this.valueFromJulia[\\\"index\\\"]=false}),self)]\\n        \\n    }\\n    self.model = new AppViewModel();\\n    self.valueFromJulia = {};\\n    for (var key in json_data) {\\n        self.valueFromJulia[key] = false;\\n    }\\n    ko.applyBindings(self.model, self.dom);\\n}\\n);\\n    (WebIO.importBlock({\\\"data\\\":[{\\\"name\\\":\\\"knockout\\\",\\\"type\\\":\\\"js\\\",\\\"url\\\":\\\"/assetserver/727383f2a47bd31570b7da84eee7b022dd6d7c78-knockout.js\\\"},{\\\"name\\\":\\\"knockout_punches\\\",\\\"type\\\":\\\"js\\\",\\\"url\\\":\\\"/assetserver/382b41b3b1bd9f26f75861d360bad7f8beea211f-knockout_punches.js\\\"}],\\\"type\\\":\\\"async_block\\\"})).then((imports) => handler.apply(this, imports));\\n}\\n\")])], Dict{Symbol, Any}(:className => \"field interact-widget\")), WebIO.Node{WebIO.DOM}(WebIO.DOM(:html, :div), Any[], Dict{Symbol, Any}(:style => Dict(\"display\" => \"flex\", \"flex-direction\" => \"column\"))), WebIO.Node{WebIO.DOM}(WebIO.DOM(:html, :div), Any[WebIO.Node{WebIO.DOM}(WebIO.DOM(:html, :div), Any[WebIO.Scope(WebIO.Node{WebIO.DOM}(WebIO.DOM(:html, :div), Any[WebIO.Node{WebIO.DOM}(WebIO.DOM(:html, :div), Any[WebIO.Node{WebIO.DOM}(WebIO.DOM(:html, :label), Any[\"min_dis\"], Dict{Symbol, Any}(:className => \"interact \", :style => Dict{Any, Any}(:padding => \"5px 10px 0px 10px\")))], Dict{Symbol, Any}(:className => \"interact-flex-row-left\")), WebIO.Node{WebIO.DOM}(WebIO.DOM(:html, :div), Any[WebIO.Node{WebIO.DOM}(WebIO.DOM(:html, :input), Any[], Dict{Symbol, Any}(:max => 10, :min => 1, :attributes => Dict{Any, Any}(:type => \"range\", Symbol(\"data-bind\") => \"numericValue: index, valueUpdate: 'input', event: {change: function (){this.changes(this.changes()+1)}}\", \"orient\" => \"horizontal\"), :step => 1, :className => \"slider slider is-fullwidth\", :style => Dict{Any, Any}()))], Dict{Symbol, Any}(:className => \"interact-flex-row-center\")), WebIO.Node{WebIO.DOM}(WebIO.DOM(:html, :div), Any[WebIO.Node{WebIO.DOM}(WebIO.DOM(:html, :p), Any[], Dict{Symbol, Any}(:attributes => Dict(\"data-bind\" => \"text: formatted_val\")))], Dict{Symbol, Any}(:className => \"interact-flex-row-right\"))], Dict{Symbol, Any}(:className => \"interact-flex-row interact-widget\")), Dict{String, Tuple{Observables.AbstractObservable, Union{Nothing, Bool}}}(\"changes\" => (Observable(0), nothing), \"index\" => (Observable{Any}(5), nothing)), Set{String}(), nothing, WebIO.Asset[WebIO.Asset(\"js\", \"knockout\", \"/home/dushya/.julia/packages/Knockout/HReiN/src/../assets/knockout.js\"), WebIO.Asset(\"js\", \"knockout_punches\", \"/home/dushya/.julia/packages/Knockout/HReiN/src/../assets/knockout_punches.js\"), WebIO.Asset(\"js\", nothing, \"/home/dushya/.julia/packages/InteractBase/LJXv3/src/../assets/all.js\"), WebIO.Asset(\"css\", nothing, \"/home/dushya/.julia/packages/InteractBase/LJXv3/src/../assets/style.css\"), WebIO.Asset(\"css\", nothing, \"/home/dushya/.julia/packages/Interact/PENUy/src/../assets/bulma_confined.min.css\")], Dict{Any, Any}(\"changes\" => Any[WebIO.JSString(\"(function (val){return (val!=this.model[\\\"changes\\\"]()) ? (this.valueFromJulia[\\\"changes\\\"]=true, this.model[\\\"changes\\\"](val)) : undefined})\")], \"index\" => Any[WebIO.JSString(\"(function (val){return (val!=this.model[\\\"index\\\"]()) ? (this.valueFromJulia[\\\"index\\\"]=true, this.model[\\\"index\\\"](val)) : undefined})\")]), WebIO.ConnectionPool(Channel{Any}(32), Set{WebIO.AbstractConnection}(), Base.GenericCondition{ReentrantLock}(Base.IntrusiveLinkedList{Task}(Task (runnable) @0x00007f7639274330, Task (runnable) @0x00007f7639274330), ReentrantLock(nothing, 0x00000000, 0x00, Base.GenericCondition{Base.Threads.SpinLock}(Base.IntrusiveLinkedList{Task}(nothing, nothing), Base.Threads.SpinLock(0)), (8, 0, 141733920768)))), WebIO.JSString[WebIO.JSString(\"function () {\\n    var handler = (function (ko, koPunches) {\\n    ko.punches.enableAll();\\n    ko.bindingHandlers.numericValue = {\\n        init: function(element, valueAccessor, allBindings, data, context) {\\n            var stringified = ko.observable(ko.unwrap(valueAccessor()));\\n            stringified.subscribe(function(value) {\\n                var val = parseFloat(value);\\n                if (!isNaN(val)) {\\n                    valueAccessor()(val);\\n                }\\n            });\\n            valueAccessor().subscribe(function(value) {\\n                var str = JSON.stringify(value);\\n                if ((str == \\\"0\\\") && ([\\\"-0\\\", \\\"-0.\\\"].indexOf(stringified()) >= 0))\\n                     return;\\n                 if ([\\\"null\\\", \\\"\\\"].indexOf(str) >= 0)\\n                     return;\\n                stringified(str);\\n            });\\n            ko.applyBindingsToNode(\\n                element,\\n                {\\n                    value: stringified,\\n                    valueUpdate: allBindings.get('valueUpdate'),\\n                },\\n                context,\\n            );\\n        }\\n    };\\n    var json_data = {\\\"formatted_vals\\\":[\\\"0.01\\\",\\\"0.11\\\",\\\"0.21\\\",\\\"0.31\\\",\\\"0.41\\\",\\\"0.51\\\",\\\"0.61\\\",\\\"0.71\\\",\\\"0.81\\\",\\\"0.91\\\"],\\\"changes\\\":WebIO.getval({\\\"name\\\":\\\"changes\\\",\\\"scope\\\":\\\"13478211100280388559\\\",\\\"id\\\":\\\"3441468999072348406\\\",\\\"type\\\":\\\"observable\\\"}),\\\"index\\\":WebIO.getval({\\\"name\\\":\\\"index\\\",\\\"scope\\\":\\\"13478211100280388559\\\",\\\"id\\\":\\\"7532262856772079327\\\",\\\"type\\\":\\\"observable\\\"})};\\n    var self = this;\\n    function AppViewModel() {\\n        for (var key in json_data) {\\n            var el = json_data[key];\\n            this[key] = Array.isArray(el) ? ko.observableArray(el) : ko.observable(el);\\n        }\\n        \\n        [this[\\\"formatted_val\\\"]=ko.computed(    function(){\\n        return this.formatted_vals()[parseInt(this.index())-(1)];\\n    }\\n,this)]\\n        [this[\\\"changes\\\"].subscribe((function (val){!(this.valueFromJulia[\\\"changes\\\"]) ? (WebIO.setval({\\\"name\\\":\\\"changes\\\",\\\"scope\\\":\\\"13478211100280388559\\\",\\\"id\\\":\\\"3441468999072348406\\\",\\\"type\\\":\\\"observable\\\"},val)) : undefined; return this.valueFromJulia[\\\"changes\\\"]=false}),self),this[\\\"index\\\"].subscribe((function (val){!(this.valueFromJulia[\\\"index\\\"]) ? (WebIO.setval({\\\"name\\\":\\\"index\\\",\\\"scope\\\":\\\"13478211100280388559\\\",\\\"id\\\":\\\"7532262856772079327\\\",\\\"type\\\":\\\"observable\\\"},val)) : undefined; return this.valueFromJulia[\\\"index\\\"]=false}),self)]\\n        \\n    }\\n    self.model = new AppViewModel();\\n    self.valueFromJulia = {};\\n    for (var key in json_data) {\\n        self.valueFromJulia[key] = false;\\n    }\\n    ko.applyBindings(self.model, self.dom);\\n}\\n);\\n    (WebIO.importBlock({\\\"data\\\":[{\\\"name\\\":\\\"knockout\\\",\\\"type\\\":\\\"js\\\",\\\"url\\\":\\\"/assetserver/727383f2a47bd31570b7da84eee7b022dd6d7c78-knockout.js\\\"},{\\\"name\\\":\\\"knockout_punches\\\",\\\"type\\\":\\\"js\\\",\\\"url\\\":\\\"/assetserver/382b41b3b1bd9f26f75861d360bad7f8beea211f-knockout_punches.js\\\"}],\\\"type\\\":\\\"async_block\\\"})).then((imports) => handler.apply(this, imports));\\n}\\n\")])], Dict{Symbol, Any}(:className => \"field interact-widget\")), WebIO.Node{WebIO.DOM}(WebIO.DOM(:html, :div), Any[WebIO.Scope(WebIO.Node{WebIO.DOM}(WebIO.DOM(:html, :div), Any[WebIO.Node{WebIO.DOM}(WebIO.DOM(:html, :div), Any[WebIO.Node{WebIO.DOM}(WebIO.DOM(:html, :label), Any[\"coh_fac\"], Dict{Symbol, Any}(:className => \"interact \", :style => Dict{Any, Any}(:padding => \"5px 10px 0px 10px\")))], Dict{Symbol, Any}(:className => \"interact-flex-row-left\")), WebIO.Node{WebIO.DOM}(WebIO.DOM(:html, :div), Any[WebIO.Node{WebIO.DOM}(WebIO.DOM(:html, :input), Any[], Dict{Symbol, Any}(:max => 100, :min => 1, :attributes => Dict{Any, Any}(:type => \"range\", Symbol(\"data-bind\") => \"numericValue: index, valueUpdate: 'input', event: {change: function (){this.changes(this.changes()+1)}}\", \"orient\" => \"horizontal\"), :step => 1, :className => \"slider slider is-fullwidth\", :style => Dict{Any, Any}()))], Dict{Symbol, Any}(:className => \"interact-flex-row-center\")), WebIO.Node{WebIO.DOM}(WebIO.DOM(:html, :div), Any[WebIO.Node{WebIO.DOM}(WebIO.DOM(:html, :p), Any[], Dict{Symbol, Any}(:attributes => Dict(\"data-bind\" => \"text: formatted_val\")))], Dict{Symbol, Any}(:className => \"interact-flex-row-right\"))], Dict{Symbol, Any}(:className => \"interact-flex-row interact-widget\")), Dict{String, Tuple{Observables.AbstractObservable, Union{Nothing, Bool}}}(\"changes\" => (Observable(0), nothing), \"index\" => (Observable{Any}(50), nothing)), Set{String}(), nothing, WebIO.Asset[WebIO.Asset(\"js\", \"knockout\", \"/home/dushya/.julia/packages/Knockout/HReiN/src/../assets/knockout.js\"), WebIO.Asset(\"js\", \"knockout_punches\", \"/home/dushya/.julia/packages/Knockout/HReiN/src/../assets/knockout_punches.js\"), WebIO.Asset(\"js\", nothing, \"/home/dushya/.julia/packages/InteractBase/LJXv3/src/../assets/all.js\"), WebIO.Asset(\"css\", nothing, \"/home/dushya/.julia/packages/InteractBase/LJXv3/src/../assets/style.css\"), WebIO.Asset(\"css\", nothing, \"/home/dushya/.julia/packages/Interact/PENUy/src/../assets/bulma_confined.min.css\")], Dict{Any, Any}(\"changes\" => Any[WebIO.JSString(\"(function (val){return (val!=this.model[\\\"changes\\\"]()) ? (this.valueFromJulia[\\\"changes\\\"]=true, this.model[\\\"changes\\\"](val)) : undefined})\")], \"index\" => Any[WebIO.JSString(\"(function (val){return (val!=this.model[\\\"index\\\"]()) ? (this.valueFromJulia[\\\"index\\\"]=true, this.model[\\\"index\\\"](val)) : undefined})\")]), WebIO.ConnectionPool(Channel{Any}(32), Set{WebIO.AbstractConnection}(), Base.GenericCondition{ReentrantLock}(Base.IntrusiveLinkedList{Task}(Task (runnable) @0x00007f7639276ef0, Task (runnable) @0x00007f7639276ef0), ReentrantLock(nothing, 0x00000000, 0x00, Base.GenericCondition{Base.Threads.SpinLock}(Base.IntrusiveLinkedList{Task}(nothing, nothing), Base.Threads.SpinLock(0)), (0, 0, 141733920768)))), WebIO.JSString[WebIO.JSString(\"function () {\\n    var handler = (function (ko, koPunches) {\\n    ko.punches.enableAll();\\n    ko.bindingHandlers.numericValue = {\\n        init: function(element, valueAccessor, allBindings, data, context) {\\n            var stringified = ko.observable(ko.unwrap(valueAccessor()));\\n            stringified.subscribe(function(value) {\\n                var val = parseFloat(value);\\n                if (!isNaN(val)) {\\n                    valueAccessor()(val);\\n                }\\n            });\\n            valueAccessor().subscribe(function(value) {\\n                var str = JSON.stringify(value);\\n                if ((str == \\\"0\\\") && ([\\\"-0\\\", \\\"-0.\\\"].indexOf(stringified()) >= 0))\\n                     return;\\n                 if ([\\\"null\\\", \\\"\\\"].indexOf(str) >= 0)\\n                     return;\\n                stringified(str);\\n            });\\n            ko.applyBindingsToNode(\\n                element,\\n                {\\n                    value: stringified,\\n                    valueUpdate: allBindings.get('valueUpdate'),\\n                },\\n                context,\\n            );\\n        }\\n    };\\n    var json_data = {\\\"formatted_vals\\\":[\\\"0.01\\\",\\\"0.02\\\",\\\"0.03\\\",\\\"0.04\\\",\\\"0.05\\\",\\\"0.06\\\",\\\"0.07\\\",\\\"0.08\\\",\\\"0.09\\\",\\\"0.1\\\",\\\"0.11\\\",\\\"0.12\\\",\\\"0.13\\\",\\\"0.14\\\",\\\"0.15\\\",\\\"0.16\\\",\\\"0.17\\\",\\\"0.18\\\",\\\"0.19\\\",\\\"0.2\\\",\\\"0.21\\\",\\\"0.22\\\",\\\"0.23\\\",\\\"0.24\\\",\\\"0.25\\\",\\\"0.26\\\",\\\"0.27\\\",\\\"0.28\\\",\\\"0.29\\\",\\\"0.3\\\",\\\"0.31\\\",\\\"0.32\\\",\\\"0.33\\\",\\\"0.34\\\",\\\"0.35\\\",\\\"0.36\\\",\\\"0.37\\\",\\\"0.38\\\",\\\"0.39\\\",\\\"0.4\\\",\\\"0.41\\\",\\\"0.42\\\",\\\"0.43\\\",\\\"0.44\\\",\\\"0.45\\\",\\\"0.46\\\",\\\"0.47\\\",\\\"0.48\\\",\\\"0.49\\\",\\\"0.5\\\",\\\"0.51\\\",\\\"0.52\\\",\\\"0.53\\\",\\\"0.54\\\",\\\"0.55\\\",\\\"0.56\\\",\\\"0.57\\\",\\\"0.58\\\",\\\"0.59\\\",\\\"0.6\\\",\\\"0.61\\\",\\\"0.62\\\",\\\"0.63\\\",\\\"0.64\\\",\\\"0.65\\\",\\\"0.66\\\",\\\"0.67\\\",\\\"0.68\\\",\\\"0.69\\\",\\\"0.7\\\",\\\"0.71\\\",\\\"0.72\\\",\\\"0.73\\\",\\\"0.74\\\",\\\"0.75\\\",\\\"0.76\\\",\\\"0.77\\\",\\\"0.78\\\",\\\"0.79\\\",\\\"0.8\\\",\\\"0.81\\\",\\\"0.82\\\",\\\"0.83\\\",\\\"0.84\\\",\\\"0.85\\\",\\\"0.86\\\",\\\"0.87\\\",\\\"0.88\\\",\\\"0.89\\\",\\\"0.9\\\",\\\"0.91\\\",\\\"0.92\\\",\\\"0.93\\\",\\\"0.94\\\",\\\"0.95\\\",\\\"0.96\\\",\\\"0.97\\\",\\\"0.98\\\",\\\"0.99\\\",\\\"1.0\\\"],\\\"changes\\\":WebIO.getval({\\\"name\\\":\\\"changes\\\",\\\"scope\\\":\\\"14668879760894981148\\\",\\\"id\\\":\\\"8891173662849935234\\\",\\\"type\\\":\\\"observable\\\"}),\\\"index\\\":WebIO.getval({\\\"name\\\":\\\"index\\\",\\\"scope\\\":\\\"14668879760894981148\\\",\\\"id\\\":\\\"4021340093117662090\\\",\\\"type\\\":\\\"observable\\\"})};\\n    var self = this;\\n    function AppViewModel() {\\n        for (var key in json_data) {\\n            var el = json_data[key];\\n            this[key] = Array.isArray(el) ? ko.observableArray(el) : ko.observable(el);\\n        }\\n        \\n        [this[\\\"formatted_val\\\"]=ko.computed(    function(){\\n        return this.formatted_vals()[parseInt(this.index())-(1)];\\n    }\\n,this)]\\n        [this[\\\"changes\\\"].subscribe((function (val){!(this.valueFromJulia[\\\"changes\\\"]) ? (WebIO.setval({\\\"name\\\":\\\"changes\\\",\\\"scope\\\":\\\"14668879760894981148\\\",\\\"id\\\":\\\"8891173662849935234\\\",\\\"type\\\":\\\"observable\\\"},val)) : undefined; return this.valueFromJulia[\\\"changes\\\"]=false}),self),this[\\\"index\\\"].subscribe((function (val){!(this.valueFromJulia[\\\"index\\\"]) ? (WebIO.setval({\\\"name\\\":\\\"index\\\",\\\"scope\\\":\\\"14668879760894981148\\\",\\\"id\\\":\\\"4021340093117662090\\\",\\\"type\\\":\\\"observable\\\"},val)) : undefined; return this.valueFromJulia[\\\"index\\\"]=false}),self)]\\n        \\n    }\\n    self.model = new AppViewModel();\\n    self.valueFromJulia = {};\\n    for (var key in json_data) {\\n        self.valueFromJulia[key] = false;\\n    }\\n    ko.applyBindings(self.model, self.dom);\\n}\\n);\\n    (WebIO.importBlock({\\\"data\\\":[{\\\"name\\\":\\\"knockout\\\",\\\"type\\\":\\\"js\\\",\\\"url\\\":\\\"/assetserver/727383f2a47bd31570b7da84eee7b022dd6d7c78-knockout.js\\\"},{\\\"name\\\":\\\"knockout_punches\\\",\\\"type\\\":\\\"js\\\",\\\"url\\\":\\\"/assetserver/382b41b3b1bd9f26f75861d360bad7f8beea211f-knockout_punches.js\\\"}],\\\"type\\\":\\\"async_block\\\"})).then((imports) => handler.apply(this, imports));\\n}\\n\")])], Dict{Symbol, Any}(:className => \"field interact-widget\")), WebIO.Node{WebIO.DOM}(WebIO.DOM(:html, :div), Any[WebIO.Scope(WebIO.Node{WebIO.DOM}(WebIO.DOM(:html, :div), Any[WebIO.Node{WebIO.DOM}(WebIO.DOM(:html, :div), Any[WebIO.Node{WebIO.DOM}(WebIO.DOM(:html, :label), Any[\"sep_fac\"], Dict{Symbol, Any}(:className => \"interact \", :style => Dict{Any, Any}(:padding => \"5px 10px 0px 10px\")))], Dict{Symbol, Any}(:className => \"interact-flex-row-left\")), WebIO.Node{WebIO.DOM}(WebIO.DOM(:html, :div), Any[WebIO.Node{WebIO.DOM}(WebIO.DOM(:html, :input), Any[], Dict{Symbol, Any}(:max => 100, :min => 1, :attributes => Dict{Any, Any}(:type => \"range\", Symbol(\"data-bind\") => \"numericValue: index, valueUpdate: 'input', event: {change: function (){this.changes(this.changes()+1)}}\", \"orient\" => \"horizontal\"), :step => 1, :className => \"slider slider is-fullwidth\", :style => Dict{Any, Any}()))], Dict{Symbol, Any}(:className => \"interact-flex-row-center\")), WebIO.Node{WebIO.DOM}(WebIO.DOM(:html, :div), Any[WebIO.Node{WebIO.DOM}(WebIO.DOM(:html, :p), Any[], Dict{Symbol, Any}(:attributes => Dict(\"data-bind\" => \"text: formatted_val\")))], Dict{Symbol, Any}(:className => \"interact-flex-row-right\"))], Dict{Symbol, Any}(:className => \"interact-flex-row interact-widget\")), Dict{String, Tuple{Observables.AbstractObservable, Union{Nothing, Bool}}}(\"changes\" => (Observable(0), nothing), \"index\" => (Observable{Any}(50), nothing)), Set{String}(), nothing, WebIO.Asset[WebIO.Asset(\"js\", \"knockout\", \"/home/dushya/.julia/packages/Knockout/HReiN/src/../assets/knockout.js\"), WebIO.Asset(\"js\", \"knockout_punches\", \"/home/dushya/.julia/packages/Knockout/HReiN/src/../assets/knockout_punches.js\"), WebIO.Asset(\"js\", nothing, \"/home/dushya/.julia/packages/InteractBase/LJXv3/src/../assets/all.js\"), WebIO.Asset(\"css\", nothing, \"/home/dushya/.julia/packages/InteractBase/LJXv3/src/../assets/style.css\"), WebIO.Asset(\"css\", nothing, \"/home/dushya/.julia/packages/Interact/PENUy/src/../assets/bulma_confined.min.css\")], Dict{Any, Any}(\"changes\" => Any[WebIO.JSString(\"(function (val){return (val!=this.model[\\\"changes\\\"]()) ? (this.valueFromJulia[\\\"changes\\\"]=true, this.model[\\\"changes\\\"](val)) : undefined})\")], \"index\" => Any[WebIO.JSString(\"(function (val){return (val!=this.model[\\\"index\\\"]()) ? (this.valueFromJulia[\\\"index\\\"]=true, this.model[\\\"index\\\"](val)) : undefined})\")]), WebIO.ConnectionPool(Channel{Any}(32), Set{WebIO.AbstractConnection}(), Base.GenericCondition{ReentrantLock}(Base.IntrusiveLinkedList{Task}(Task (runnable) @0x00007f76392d9910, Task (runnable) @0x00007f76392d9910), ReentrantLock(nothing, 0x00000000, 0x00, Base.GenericCondition{Base.Threads.SpinLock}(Base.IntrusiveLinkedList{Task}(nothing, nothing), Base.Threads.SpinLock(0)), (8, 0, 139779710648320)))), WebIO.JSString[WebIO.JSString(\"function () {\\n    var handler = (function (ko, koPunches) {\\n    ko.punches.enableAll();\\n    ko.bindingHandlers.numericValue = {\\n        init: function(element, valueAccessor, allBindings, data, context) {\\n            var stringified = ko.observable(ko.unwrap(valueAccessor()));\\n            stringified.subscribe(function(value) {\\n                var val = parseFloat(value);\\n                if (!isNaN(val)) {\\n                    valueAccessor()(val);\\n                }\\n            });\\n            valueAccessor().subscribe(function(value) {\\n                var str = JSON.stringify(value);\\n                if ((str == \\\"0\\\") && ([\\\"-0\\\", \\\"-0.\\\"].indexOf(stringified()) >= 0))\\n                     return;\\n                 if ([\\\"null\\\", \\\"\\\"].indexOf(str) >= 0)\\n                     return;\\n                stringified(str);\\n            });\\n            ko.applyBindingsToNode(\\n                element,\\n                {\\n                    value: stringified,\\n                    valueUpdate: allBindings.get('valueUpdate'),\\n                },\\n                context,\\n            );\\n        }\\n    };\\n    var json_data = {\\\"formatted_vals\\\":[\\\"0.01\\\",\\\"0.02\\\",\\\"0.03\\\",\\\"0.04\\\",\\\"0.05\\\",\\\"0.06\\\",\\\"0.07\\\",\\\"0.08\\\",\\\"0.09\\\",\\\"0.1\\\",\\\"0.11\\\",\\\"0.12\\\",\\\"0.13\\\",\\\"0.14\\\",\\\"0.15\\\",\\\"0.16\\\",\\\"0.17\\\",\\\"0.18\\\",\\\"0.19\\\",\\\"0.2\\\",\\\"0.21\\\",\\\"0.22\\\",\\\"0.23\\\",\\\"0.24\\\",\\\"0.25\\\",\\\"0.26\\\",\\\"0.27\\\",\\\"0.28\\\",\\\"0.29\\\",\\\"0.3\\\",\\\"0.31\\\",\\\"0.32\\\",\\\"0.33\\\",\\\"0.34\\\",\\\"0.35\\\",\\\"0.36\\\",\\\"0.37\\\",\\\"0.38\\\",\\\"0.39\\\",\\\"0.4\\\",\\\"0.41\\\",\\\"0.42\\\",\\\"0.43\\\",\\\"0.44\\\",\\\"0.45\\\",\\\"0.46\\\",\\\"0.47\\\",\\\"0.48\\\",\\\"0.49\\\",\\\"0.5\\\",\\\"0.51\\\",\\\"0.52\\\",\\\"0.53\\\",\\\"0.54\\\",\\\"0.55\\\",\\\"0.56\\\",\\\"0.57\\\",\\\"0.58\\\",\\\"0.59\\\",\\\"0.6\\\",\\\"0.61\\\",\\\"0.62\\\",\\\"0.63\\\",\\\"0.64\\\",\\\"0.65\\\",\\\"0.66\\\",\\\"0.67\\\",\\\"0.68\\\",\\\"0.69\\\",\\\"0.7\\\",\\\"0.71\\\",\\\"0.72\\\",\\\"0.73\\\",\\\"0.74\\\",\\\"0.75\\\",\\\"0.76\\\",\\\"0.77\\\",\\\"0.78\\\",\\\"0.79\\\",\\\"0.8\\\",\\\"0.81\\\",\\\"0.82\\\",\\\"0.83\\\",\\\"0.84\\\",\\\"0.85\\\",\\\"0.86\\\",\\\"0.87\\\",\\\"0.88\\\",\\\"0.89\\\",\\\"0.9\\\",\\\"0.91\\\",\\\"0.92\\\",\\\"0.93\\\",\\\"0.94\\\",\\\"0.95\\\",\\\"0.96\\\",\\\"0.97\\\",\\\"0.98\\\",\\\"0.99\\\",\\\"1.0\\\"],\\\"changes\\\":WebIO.getval({\\\"name\\\":\\\"changes\\\",\\\"scope\\\":\\\"7489018589941826594\\\",\\\"id\\\":\\\"11616407531716219145\\\",\\\"type\\\":\\\"observable\\\"}),\\\"index\\\":WebIO.getval({\\\"name\\\":\\\"index\\\",\\\"scope\\\":\\\"7489018589941826594\\\",\\\"id\\\":\\\"14746755384135944275\\\",\\\"type\\\":\\\"observable\\\"})};\\n    var self = this;\\n    function AppViewModel() {\\n        for (var key in json_data) {\\n            var el = json_data[key];\\n            this[key] = Array.isArray(el) ? ko.observableArray(el) : ko.observable(el);\\n        }\\n        \\n        [this[\\\"formatted_val\\\"]=ko.computed(    function(){\\n        return this.formatted_vals()[parseInt(this.index())-(1)];\\n    }\\n,this)]\\n        [this[\\\"changes\\\"].subscribe((function (val){!(this.valueFromJulia[\\\"changes\\\"]) ? (WebIO.setval({\\\"name\\\":\\\"changes\\\",\\\"scope\\\":\\\"7489018589941826594\\\",\\\"id\\\":\\\"11616407531716219145\\\",\\\"type\\\":\\\"observable\\\"},val)) : undefined; return this.valueFromJulia[\\\"changes\\\"]=false}),self),this[\\\"index\\\"].subscribe((function (val){!(this.valueFromJulia[\\\"index\\\"]) ? (WebIO.setval({\\\"name\\\":\\\"index\\\",\\\"scope\\\":\\\"7489018589941826594\\\",\\\"id\\\":\\\"14746755384135944275\\\",\\\"type\\\":\\\"observable\\\"},val)) : undefined; return this.valueFromJulia[\\\"index\\\"]=false}),self)]\\n        \\n    }\\n    self.model = new AppViewModel();\\n    self.valueFromJulia = {};\\n    for (var key in json_data) {\\n        self.valueFromJulia[key] = false;\\n    }\\n    ko.applyBindings(self.model, self.dom);\\n}\\n);\\n    (WebIO.importBlock({\\\"data\\\":[{\\\"name\\\":\\\"knockout\\\",\\\"type\\\":\\\"js\\\",\\\"url\\\":\\\"/assetserver/727383f2a47bd31570b7da84eee7b022dd6d7c78-knockout.js\\\"},{\\\"name\\\":\\\"knockout_punches\\\",\\\"type\\\":\\\"js\\\",\\\"url\\\":\\\"/assetserver/382b41b3b1bd9f26f75861d360bad7f8beea211f-knockout_punches.js\\\"}],\\\"type\\\":\\\"async_block\\\"})).then((imports) => handler.apply(this, imports));\\n}\\n\")])], Dict{Symbol, Any}(:className => \"field interact-widget\")), WebIO.Node{WebIO.DOM}(WebIO.DOM(:html, :div), Any[WebIO.Scope(WebIO.Node{WebIO.DOM}(WebIO.DOM(:html, :div), Any[WebIO.Node{WebIO.DOM}(WebIO.DOM(:html, :div), Any[WebIO.Node{WebIO.DOM}(WebIO.DOM(:html, :label), Any[\"aln_fac\"], Dict{Symbol, Any}(:className => \"interact \", :style => Dict{Any, Any}(:padding => \"5px 10px 0px 10px\")))], Dict{Symbol, Any}(:className => \"interact-flex-row-left\")), WebIO.Node{WebIO.DOM}(WebIO.DOM(:html, :div), Any[WebIO.Node{WebIO.DOM}(WebIO.DOM(:html, :input), Any[], Dict{Symbol, Any}(:max => 100, :min => 1, :attributes => Dict{Any, Any}(:type => \"range\", Symbol(\"data-bind\") => \"numericValue: index, valueUpdate: 'input', event: {change: function (){this.changes(this.changes()+1)}}\", \"orient\" => \"horizontal\"), :step => 1, :className => \"slider slider is-fullwidth\", :style => Dict{Any, Any}()))], Dict{Symbol, Any}(:className => \"interact-flex-row-center\")), WebIO.Node{WebIO.DOM}(WebIO.DOM(:html, :div), Any[WebIO.Node{WebIO.DOM}(WebIO.DOM(:html, :p), Any[], Dict{Symbol, Any}(:attributes => Dict(\"data-bind\" => \"text: formatted_val\")))], Dict{Symbol, Any}(:className => \"interact-flex-row-right\"))], Dict{Symbol, Any}(:className => \"interact-flex-row interact-widget\")), Dict{String, Tuple{Observables.AbstractObservable, Union{Nothing, Bool}}}(\"changes\" => (Observable(0), nothing), \"index\" => (Observable{Any}(50), nothing)), Set{String}(), nothing, WebIO.Asset[WebIO.Asset(\"js\", \"knockout\", \"/home/dushya/.julia/packages/Knockout/HReiN/src/../assets/knockout.js\"), WebIO.Asset(\"js\", \"knockout_punches\", \"/home/dushya/.julia/packages/Knockout/HReiN/src/../assets/knockout_punches.js\"), WebIO.Asset(\"js\", nothing, \"/home/dushya/.julia/packages/InteractBase/LJXv3/src/../assets/all.js\"), WebIO.Asset(\"css\", nothing, \"/home/dushya/.julia/packages/InteractBase/LJXv3/src/../assets/style.css\"), WebIO.Asset(\"css\", nothing, \"/home/dushya/.julia/packages/Interact/PENUy/src/../assets/bulma_confined.min.css\")], Dict{Any, Any}(\"changes\" => Any[WebIO.JSString(\"(function (val){return (val!=this.model[\\\"changes\\\"]()) ? (this.valueFromJulia[\\\"changes\\\"]=true, this.model[\\\"changes\\\"](val)) : undefined})\")], \"index\" => Any[WebIO.JSString(\"(function (val){return (val!=this.model[\\\"index\\\"]()) ? (this.valueFromJulia[\\\"index\\\"]=true, this.model[\\\"index\\\"](val)) : undefined})\")]), WebIO.ConnectionPool(Channel{Any}(32), Set{WebIO.AbstractConnection}(), Base.GenericCondition{ReentrantLock}(Base.IntrusiveLinkedList{Task}(Task (runnable) @0x00007f76393244c0, Task (runnable) @0x00007f76393244c0), ReentrantLock(nothing, 0x00000000, 0x00, Base.GenericCondition{Base.Threads.SpinLock}(Base.IntrusiveLinkedList{Task}(nothing, nothing), Base.Threads.SpinLock(0)), (8, 0, 139779710648320)))), WebIO.JSString[WebIO.JSString(\"function () {\\n    var handler = (function (ko, koPunches) {\\n    ko.punches.enableAll();\\n    ko.bindingHandlers.numericValue = {\\n        init: function(element, valueAccessor, allBindings, data, context) {\\n            var stringified = ko.observable(ko.unwrap(valueAccessor()));\\n            stringified.subscribe(function(value) {\\n                var val = parseFloat(value);\\n                if (!isNaN(val)) {\\n                    valueAccessor()(val);\\n                }\\n            });\\n            valueAccessor().subscribe(function(value) {\\n                var str = JSON.stringify(value);\\n                if ((str == \\\"0\\\") && ([\\\"-0\\\", \\\"-0.\\\"].indexOf(stringified()) >= 0))\\n                     return;\\n                 if ([\\\"null\\\", \\\"\\\"].indexOf(str) >= 0)\\n                     return;\\n                stringified(str);\\n            });\\n            ko.applyBindingsToNode(\\n                element,\\n                {\\n                    value: stringified,\\n                    valueUpdate: allBindings.get('valueUpdate'),\\n                },\\n                context,\\n            );\\n        }\\n    };\\n    var json_data = {\\\"formatted_vals\\\":[\\\"0.01\\\",\\\"0.02\\\",\\\"0.03\\\",\\\"0.04\\\",\\\"0.05\\\",\\\"0.06\\\",\\\"0.07\\\",\\\"0.08\\\",\\\"0.09\\\",\\\"0.1\\\",\\\"0.11\\\",\\\"0.12\\\",\\\"0.13\\\",\\\"0.14\\\",\\\"0.15\\\",\\\"0.16\\\",\\\"0.17\\\",\\\"0.18\\\",\\\"0.19\\\",\\\"0.2\\\",\\\"0.21\\\",\\\"0.22\\\",\\\"0.23\\\",\\\"0.24\\\",\\\"0.25\\\",\\\"0.26\\\",\\\"0.27\\\",\\\"0.28\\\",\\\"0.29\\\",\\\"0.3\\\",\\\"0.31\\\",\\\"0.32\\\",\\\"0.33\\\",\\\"0.34\\\",\\\"0.35\\\",\\\"0.36\\\",\\\"0.37\\\",\\\"0.38\\\",\\\"0.39\\\",\\\"0.4\\\",\\\"0.41\\\",\\\"0.42\\\",\\\"0.43\\\",\\\"0.44\\\",\\\"0.45\\\",\\\"0.46\\\",\\\"0.47\\\",\\\"0.48\\\",\\\"0.49\\\",\\\"0.5\\\",\\\"0.51\\\",\\\"0.52\\\",\\\"0.53\\\",\\\"0.54\\\",\\\"0.55\\\",\\\"0.56\\\",\\\"0.57\\\",\\\"0.58\\\",\\\"0.59\\\",\\\"0.6\\\",\\\"0.61\\\",\\\"0.62\\\",\\\"0.63\\\",\\\"0.64\\\",\\\"0.65\\\",\\\"0.66\\\",\\\"0.67\\\",\\\"0.68\\\",\\\"0.69\\\",\\\"0.7\\\",\\\"0.71\\\",\\\"0.72\\\",\\\"0.73\\\",\\\"0.74\\\",\\\"0.75\\\",\\\"0.76\\\",\\\"0.77\\\",\\\"0.78\\\",\\\"0.79\\\",\\\"0.8\\\",\\\"0.81\\\",\\\"0.82\\\",\\\"0.83\\\",\\\"0.84\\\",\\\"0.85\\\",\\\"0.86\\\",\\\"0.87\\\",\\\"0.88\\\",\\\"0.89\\\",\\\"0.9\\\",\\\"0.91\\\",\\\"0.92\\\",\\\"0.93\\\",\\\"0.94\\\",\\\"0.95\\\",\\\"0.96\\\",\\\"0.97\\\",\\\"0.98\\\",\\\"0.99\\\",\\\"1.0\\\"],\\\"changes\\\":WebIO.getval({\\\"name\\\":\\\"changes\\\",\\\"scope\\\":\\\"13122251597967125135\\\",\\\"id\\\":\\\"525239491390459444\\\",\\\"type\\\":\\\"observable\\\"}),\\\"index\\\":WebIO.getval({\\\"name\\\":\\\"index\\\",\\\"scope\\\":\\\"13122251597967125135\\\",\\\"id\\\":\\\"4228401149455001096\\\",\\\"type\\\":\\\"observable\\\"})};\\n    var self = this;\\n    function AppViewModel() {\\n        for (var key in json_data) {\\n            var el = json_data[key];\\n            this[key] = Array.isArray(el) ? ko.observableArray(el) : ko.observable(el);\\n        }\\n        \\n        [this[\\\"formatted_val\\\"]=ko.computed(    function(){\\n        return this.formatted_vals()[parseInt(this.index())-(1)];\\n    }\\n,this)]\\n        [this[\\\"changes\\\"].subscribe((function (val){!(this.valueFromJulia[\\\"changes\\\"]) ? (WebIO.setval({\\\"name\\\":\\\"changes\\\",\\\"scope\\\":\\\"13122251597967125135\\\",\\\"id\\\":\\\"525239491390459444\\\",\\\"type\\\":\\\"observable\\\"},val)) : undefined; return this.valueFromJulia[\\\"changes\\\"]=false}),self),this[\\\"index\\\"].subscribe((function (val){!(this.valueFromJulia[\\\"index\\\"]) ? (WebIO.setval({\\\"name\\\":\\\"index\\\",\\\"scope\\\":\\\"13122251597967125135\\\",\\\"id\\\":\\\"4228401149455001096\\\",\\\"type\\\":\\\"observable\\\"},val)) : undefined; return this.valueFromJulia[\\\"index\\\"]=false}),self)]\\n        \\n    }\\n    self.model = new AppViewModel();\\n    self.valueFromJulia = {};\\n    for (var key in json_data) {\\n        self.valueFromJulia[key] = false;\\n    }\\n    ko.applyBindings(self.model, self.dom);\\n}\\n);\\n    (WebIO.importBlock({\\\"data\\\":[{\\\"name\\\":\\\"knockout\\\",\\\"type\\\":\\\"js\\\",\\\"url\\\":\\\"/assetserver/727383f2a47bd31570b7da84eee7b022dd6d7c78-knockout.js\\\"},{\\\"name\\\":\\\"knockout_punches\\\",\\\"type\\\":\\\"js\\\",\\\"url\\\":\\\"/assetserver/382b41b3b1bd9f26f75861d360bad7f8beea211f-knockout_punches.js\\\"}],\\\"type\\\":\\\"async_block\\\"})).then((imports) => handler.apply(this, imports));\\n}\\n\")])], Dict{Symbol, Any}(:className => \"field interact-widget\")), WebIO.Node{WebIO.DOM}(WebIO.DOM(:html, :div), Any[WebIO.Scope(WebIO.Node{WebIO.DOM}(WebIO.DOM(:html, :div), Any[WebIO.Node{WebIO.DOM}(WebIO.DOM(:html, :div), Any[WebIO.Node{WebIO.DOM}(WebIO.DOM(:html, :label), Any[\"vis_range\"], Dict{Symbol, Any}(:className => \"interact \", :style => Dict{Any, Any}(:padding => \"5px 10px 0px 10px\")))], Dict{Symbol, Any}(:className => \"interact-flex-row-left\")), WebIO.Node{WebIO.DOM}(WebIO.DOM(:html, :div), Any[WebIO.Node{WebIO.DOM}(WebIO.DOM(:html, :input), Any[], Dict{Symbol, Any}(:max => 8, :min => 1, :attributes => Dict{Any, Any}(:type => \"range\", Symbol(\"data-bind\") => \"numericValue: index, valueUpdate: 'input', event: {change: function (){this.changes(this.changes()+1)}}\", \"orient\" => \"horizontal\"), :step => 1, :className => \"slider slider is-fullwidth\", :style => Dict{Any, Any}()))], Dict{Symbol, Any}(:className => \"interact-flex-row-center\")), WebIO.Node{WebIO.DOM}(WebIO.DOM(:html, :div), Any[WebIO.Node{WebIO.DOM}(WebIO.DOM(:html, :p), Any[], Dict{Symbol, Any}(:attributes => Dict(\"data-bind\" => \"text: formatted_val\")))], Dict{Symbol, Any}(:className => \"interact-flex-row-right\"))], Dict{Symbol, Any}(:className => \"interact-flex-row interact-widget\")), Dict{String, Tuple{Observables.AbstractObservable, Union{Nothing, Bool}}}(\"changes\" => (Observable(0), nothing), \"index\" => (Observable{Any}(4), nothing)), Set{String}(), nothing, WebIO.Asset[WebIO.Asset(\"js\", \"knockout\", \"/home/dushya/.julia/packages/Knockout/HReiN/src/../assets/knockout.js\"), WebIO.Asset(\"js\", \"knockout_punches\", \"/home/dushya/.julia/packages/Knockout/HReiN/src/../assets/knockout_punches.js\"), WebIO.Asset(\"js\", nothing, \"/home/dushya/.julia/packages/InteractBase/LJXv3/src/../assets/all.js\"), WebIO.Asset(\"css\", nothing, \"/home/dushya/.julia/packages/InteractBase/LJXv3/src/../assets/style.css\"), WebIO.Asset(\"css\", nothing, \"/home/dushya/.julia/packages/Interact/PENUy/src/../assets/bulma_confined.min.css\")], Dict{Any, Any}(\"changes\" => Any[WebIO.JSString(\"(function (val){return (val!=this.model[\\\"changes\\\"]()) ? (this.valueFromJulia[\\\"changes\\\"]=true, this.model[\\\"changes\\\"](val)) : undefined})\")], \"index\" => Any[WebIO.JSString(\"(function (val){return (val!=this.model[\\\"index\\\"]()) ? (this.valueFromJulia[\\\"index\\\"]=true, this.model[\\\"index\\\"](val)) : undefined})\")]), WebIO.ConnectionPool(Channel{Any}(32), Set{WebIO.AbstractConnection}(), Base.GenericCondition{ReentrantLock}(Base.IntrusiveLinkedList{Task}(Task (runnable) @0x00007f76393c8330, Task (runnable) @0x00007f76393c8330), ReentrantLock(nothing, 0x00000000, 0x00, Base.GenericCondition{Base.Threads.SpinLock}(Base.IntrusiveLinkedList{Task}(nothing, nothing), Base.Threads.SpinLock(0)), (0, 0, 139779710648320)))), WebIO.JSString[WebIO.JSString(\"function () {\\n    var handler = (function (ko, koPunches) {\\n    ko.punches.enableAll();\\n    ko.bindingHandlers.numericValue = {\\n        init: function(element, valueAccessor, allBindings, data, context) {\\n            var stringified = ko.observable(ko.unwrap(valueAccessor()));\\n            stringified.subscribe(function(value) {\\n                var val = parseFloat(value);\\n                if (!isNaN(val)) {\\n                    valueAccessor()(val);\\n                }\\n            });\\n            valueAccessor().subscribe(function(value) {\\n                var str = JSON.stringify(value);\\n                if ((str == \\\"0\\\") && ([\\\"-0\\\", \\\"-0.\\\"].indexOf(stringified()) >= 0))\\n                     return;\\n                 if ([\\\"null\\\", \\\"\\\"].indexOf(str) >= 0)\\n                     return;\\n                stringified(str);\\n            });\\n            ko.applyBindingsToNode(\\n                element,\\n                {\\n                    value: stringified,\\n                    valueUpdate: allBindings.get('valueUpdate'),\\n                },\\n                context,\\n            );\\n        }\\n    };\\n    var json_data = {\\\"formatted_vals\\\":[\\\"0.5\\\",\\\"1.0\\\",\\\"1.5\\\",\\\"2.0\\\",\\\"2.5\\\",\\\"3.0\\\",\\\"3.5\\\",\\\"4.0\\\"],\\\"changes\\\":WebIO.getval({\\\"name\\\":\\\"changes\\\",\\\"scope\\\":\\\"15684245330477928458\\\",\\\"id\\\":\\\"7689752358333221143\\\",\\\"type\\\":\\\"observable\\\"}),\\\"index\\\":WebIO.getval({\\\"name\\\":\\\"index\\\",\\\"scope\\\":\\\"15684245330477928458\\\",\\\"id\\\":\\\"857375997661356389\\\",\\\"type\\\":\\\"observable\\\"})};\\n    var self = this;\\n    function AppViewModel() {\\n        for (var key in json_data) {\\n            var el = json_data[key];\\n            this[key] = Array.isArray(el) ? ko.observableArray(el) : ko.observable(el);\\n        }\\n        \\n        [this[\\\"formatted_val\\\"]=ko.computed(    function(){\\n        return this.formatted_vals()[parseInt(this.index())-(1)];\\n    }\\n,this)]\\n        [this[\\\"changes\\\"].subscribe((function (val){!(this.valueFromJulia[\\\"changes\\\"]) ? (WebIO.setval({\\\"name\\\":\\\"changes\\\",\\\"scope\\\":\\\"15684245330477928458\\\",\\\"id\\\":\\\"7689752358333221143\\\",\\\"type\\\":\\\"observable\\\"},val)) : undefined; return this.valueFromJulia[\\\"changes\\\"]=false}),self),this[\\\"index\\\"].subscribe((function (val){!(this.valueFromJulia[\\\"index\\\"]) ? (WebIO.setval({\\\"name\\\":\\\"index\\\",\\\"scope\\\":\\\"15684245330477928458\\\",\\\"id\\\":\\\"857375997661356389\\\",\\\"type\\\":\\\"observable\\\"},val)) : undefined; return this.valueFromJulia[\\\"index\\\"]=false}),self)]\\n        \\n    }\\n    self.model = new AppViewModel();\\n    self.valueFromJulia = {};\\n    for (var key in json_data) {\\n        self.valueFromJulia[key] = false;\\n    }\\n    ko.applyBindings(self.model, self.dom);\\n}\\n);\\n    (WebIO.importBlock({\\\"data\\\":[{\\\"name\\\":\\\"knockout\\\",\\\"type\\\":\\\"js\\\",\\\"url\\\":\\\"/assetserver/727383f2a47bd31570b7da84eee7b022dd6d7c78-knockout.js\\\"},{\\\"name\\\":\\\"knockout_punches\\\",\\\"type\\\":\\\"js\\\",\\\"url\\\":\\\"/assetserver/382b41b3b1bd9f26f75861d360bad7f8beea211f-knockout_punches.js\\\"}],\\\"type\\\":\\\"async_block\\\"})).then((imports) => handler.apply(this, imports));\\n}\\n\")])], Dict{Symbol, Any}(:className => \"field interact-widget\"))], Dict{Symbol, Any}(:style => Dict(\"display\" => \"flex\", \"flex-direction\" => \"column\"))), WebIO.Node{WebIO.DOM}(WebIO.DOM(:html, :div), Any[WebIO.Node{WebIO.DOM}(WebIO.DOM(:html, :div), Any[WebIO.Scope(WebIO.Node{WebIO.DOM}(WebIO.DOM(:html, :div), Any[], Dict{Symbol, Any}(:id => \"container\")), Dict{String, Tuple{Observables.AbstractObservable, Union{Nothing, Bool}}}(\"value\" => (Observable(\"\\\\;\\\\;\"), nothing)), Set{String}(), nothing, WebIO.Asset[WebIO.Asset(\"js\", nothing, \"/home/dushya/.julia/packages/InteractBase/LJXv3/src/../assets/katex.min.js\"), WebIO.Asset(\"css\", nothing, \"/home/dushya/.julia/packages/InteractBase/LJXv3/src/../assets/katex.min.css\")], Dict{Any, Any}(\"value\" => Any[WebIO.JSString(\"(function (txt){return this.k.render(txt,this.container)})\")]), WebIO.ConnectionPool(Channel{Any}(32), Set{WebIO.AbstractConnection}(), Base.GenericCondition{ReentrantLock}(Base.IntrusiveLinkedList{Task}(Task (runnable) @0x00007f7639602ef0, Task (runnable) @0x00007f7639602ef0), ReentrantLock(nothing, 0x00000000, 0x00, Base.GenericCondition{Base.Threads.SpinLock}(Base.IntrusiveLinkedList{Task}(nothing, nothing), Base.Threads.SpinLock(0)), (8, 0, 139779710648320)))), WebIO.JSString[WebIO.JSString(\"function () {\\n    var handler = ((function (k){this.k=k; this.container=this.dom.querySelector(\\\"#container\\\"); return k.render(\\\"\\\\\\\\;\\\\\\\\;\\\",this.container)}));\\n    (WebIO.importBlock({\\\"data\\\":[{\\\"name\\\":null,\\\"type\\\":\\\"js\\\",\\\"url\\\":\\\"/assetserver/dd22ed1bf1896c2748f3fe616ce0b838adc895c1-katex.min.js\\\"},{\\\"name\\\":null,\\\"type\\\":\\\"css\\\",\\\"url\\\":\\\"/assetserver/46517a424aa5e6cffc1360d7e0848b601c584ee3-katex.min.css\\\"}],\\\"type\\\":\\\"async_block\\\"})).then((imports) => handler.apply(this, imports));\\n}\\n\")])], Dict{Symbol, Any}(:className => \"interact-widget\")), WebIO.Node{WebIO.DOM}(WebIO.DOM(:html, :div), Any[WebIO.Scope(WebIO.Node{WebIO.DOM}(WebIO.DOM(:html, :button), Any[\"run\"], Dict{Symbol, Any}(:attributes => Dict{Any, Any}(\"data-bind\" => \"click: function (){this.clicks(this.clicks()+1)}, css: {'is-loading' : loading}\"), :className => \"is-medium button is-primary\", :style => Dict{String, Any}())), Dict{String, Tuple{Observables.AbstractObservable, Union{Nothing, Bool}}}(\"loading\" => (Observable(false), nothing), \"clicks\" => (Observable(0), nothing)), Set{String}(), nothing, WebIO.Asset[WebIO.Asset(\"js\", \"knockout\", \"/home/dushya/.julia/packages/Knockout/HReiN/src/../assets/knockout.js\"), WebIO.Asset(\"js\", \"knockout_punches\", \"/home/dushya/.julia/packages/Knockout/HReiN/src/../assets/knockout_punches.js\"), WebIO.Asset(\"js\", nothing, \"/home/dushya/.julia/packages/InteractBase/LJXv3/src/../assets/all.js\"), WebIO.Asset(\"css\", nothing, \"/home/dushya/.julia/packages/InteractBase/LJXv3/src/../assets/style.css\"), WebIO.Asset(\"css\", nothing, \"/home/dushya/.julia/packages/Interact/PENUy/src/../assets/bulma_confined.min.css\")], Dict{Any, Any}(\"loading\" => Any[WebIO.JSString(\"(function (val){return (val!=this.model[\\\"loading\\\"]()) ? (this.valueFromJulia[\\\"loading\\\"]=true, this.model[\\\"loading\\\"](val)) : undefined})\")], \"clicks\" => Any[WebIO.JSString(\"(function (val){return (val!=this.model[\\\"clicks\\\"]()) ? (this.valueFromJulia[\\\"clicks\\\"]=true, this.model[\\\"clicks\\\"](val)) : undefined})\")]), WebIO.ConnectionPool(Channel{Any}(32), Set{WebIO.AbstractConnection}(), Base.GenericCondition{ReentrantLock}(Base.IntrusiveLinkedList{Task}(Task (runnable) @0x00007f76393caef0, Task (runnable) @0x00007f76393caef0), ReentrantLock(nothing, 0x00000000, 0x00, Base.GenericCondition{Base.Threads.SpinLock}(Base.IntrusiveLinkedList{Task}(nothing, nothing), Base.Threads.SpinLock(0)), (8, 0, 141733920768)))), WebIO.JSString[WebIO.JSString(\"function () {\\n    var handler = (function (ko, koPunches) {\\n    ko.punches.enableAll();\\n    ko.bindingHandlers.numericValue = {\\n        init: function(element, valueAccessor, allBindings, data, context) {\\n            var stringified = ko.observable(ko.unwrap(valueAccessor()));\\n            stringified.subscribe(function(value) {\\n                var val = parseFloat(value);\\n                if (!isNaN(val)) {\\n                    valueAccessor()(val);\\n                }\\n            });\\n            valueAccessor().subscribe(function(value) {\\n                var str = JSON.stringify(value);\\n                if ((str == \\\"0\\\") && ([\\\"-0\\\", \\\"-0.\\\"].indexOf(stringified()) >= 0))\\n                     return;\\n                 if ([\\\"null\\\", \\\"\\\"].indexOf(str) >= 0)\\n                     return;\\n                stringified(str);\\n            });\\n            ko.applyBindingsToNode(\\n                element,\\n                {\\n                    value: stringified,\\n                    valueUpdate: allBindings.get('valueUpdate'),\\n                },\\n                context,\\n            );\\n        }\\n    };\\n    var json_data = {\\\"loading\\\":WebIO.getval({\\\"name\\\":\\\"loading\\\",\\\"scope\\\":\\\"10029748186320817412\\\",\\\"id\\\":\\\"10053157321475173228\\\",\\\"type\\\":\\\"observable\\\"}),\\\"clicks\\\":WebIO.getval({\\\"name\\\":\\\"clicks\\\",\\\"scope\\\":\\\"10029748186320817412\\\",\\\"id\\\":\\\"3432344521436927254\\\",\\\"type\\\":\\\"observable\\\"})};\\n    var self = this;\\n    function AppViewModel() {\\n        for (var key in json_data) {\\n            var el = json_data[key];\\n            this[key] = Array.isArray(el) ? ko.observableArray(el) : ko.observable(el);\\n        }\\n        \\n        \\n        [this[\\\"loading\\\"].subscribe((function (val){!(this.valueFromJulia[\\\"loading\\\"]) ? (WebIO.setval({\\\"name\\\":\\\"loading\\\",\\\"scope\\\":\\\"10029748186320817412\\\",\\\"id\\\":\\\"10053157321475173228\\\",\\\"type\\\":\\\"observable\\\"},val)) : undefined; return this.valueFromJulia[\\\"loading\\\"]=false}),self),this[\\\"clicks\\\"].subscribe((function (val){!(this.valueFromJulia[\\\"clicks\\\"]) ? (WebIO.setval({\\\"name\\\":\\\"clicks\\\",\\\"scope\\\":\\\"10029748186320817412\\\",\\\"id\\\":\\\"3432344521436927254\\\",\\\"type\\\":\\\"observable\\\"},val)) : undefined; return this.valueFromJulia[\\\"clicks\\\"]=false}),self)]\\n        \\n    }\\n    self.model = new AppViewModel();\\n    self.valueFromJulia = {};\\n    for (var key in json_data) {\\n        self.valueFromJulia[key] = false;\\n    }\\n    ko.applyBindings(self.model, self.dom);\\n}\\n);\\n    (WebIO.importBlock({\\\"data\\\":[{\\\"name\\\":\\\"knockout\\\",\\\"type\\\":\\\"js\\\",\\\"url\\\":\\\"/assetserver/727383f2a47bd31570b7da84eee7b022dd6d7c78-knockout.js\\\"},{\\\"name\\\":\\\"knockout_punches\\\",\\\"type\\\":\\\"js\\\",\\\"url\\\":\\\"/assetserver/382b41b3b1bd9f26f75861d360bad7f8beea211f-knockout_punches.js\\\"}],\\\"type\\\":\\\"async_block\\\"})).then((imports) => handler.apply(this, imports));\\n}\\n\")])], Dict{Symbol, Any}(:className => \"field interact-widget\")), WebIO.Node{WebIO.DOM}(WebIO.DOM(:html, :div), Any[WebIO.Scope(WebIO.Node{WebIO.DOM}(WebIO.DOM(:html, :div), Any[], Dict{Symbol, Any}(:id => \"container\")), Dict{String, Tuple{Observables.AbstractObservable, Union{Nothing, Bool}}}(\"value\" => (Observable(\"\\\\;\\\\;\"), nothing)), Set{String}(), nothing, WebIO.Asset[WebIO.Asset(\"js\", nothing, \"/home/dushya/.julia/packages/InteractBase/LJXv3/src/../assets/katex.min.js\"), WebIO.Asset(\"css\", nothing, \"/home/dushya/.julia/packages/InteractBase/LJXv3/src/../assets/katex.min.css\")], Dict{Any, Any}(\"value\" => Any[WebIO.JSString(\"(function (txt){return this.k.render(txt,this.container)})\")]), WebIO.ConnectionPool(Channel{Any}(32), Set{WebIO.AbstractConnection}(), Base.GenericCondition{ReentrantLock}(Base.IntrusiveLinkedList{Task}(Task (runnable) @0x00007f7639602ef0, Task (runnable) @0x00007f7639602ef0), ReentrantLock(nothing, 0x00000000, 0x00, Base.GenericCondition{Base.Threads.SpinLock}(Base.IntrusiveLinkedList{Task}(nothing, nothing), Base.Threads.SpinLock(0)), (8, 0, 139779710648320)))), WebIO.JSString[WebIO.JSString(\"function () {\\n    var handler = ((function (k){this.k=k; this.container=this.dom.querySelector(\\\"#container\\\"); return k.render(\\\"\\\\\\\\;\\\\\\\\;\\\",this.container)}));\\n    (WebIO.importBlock({\\\"data\\\":[{\\\"name\\\":null,\\\"type\\\":\\\"js\\\",\\\"url\\\":\\\"/assetserver/dd22ed1bf1896c2748f3fe616ce0b838adc895c1-katex.min.js\\\"},{\\\"name\\\":null,\\\"type\\\":\\\"css\\\",\\\"url\\\":\\\"/assetserver/46517a424aa5e6cffc1360d7e0848b601c584ee3-katex.min.css\\\"}],\\\"type\\\":\\\"async_block\\\"})).then((imports) => handler.apply(this, imports));\\n}\\n\")])], Dict{Symbol, Any}(:className => \"interact-widget\")), WebIO.Node{WebIO.DOM}(WebIO.DOM(:html, :div), Any[WebIO.Scope(WebIO.Node{WebIO.DOM}(WebIO.DOM(:html, :button), Any[\"stop\"], Dict{Symbol, Any}(:attributes => Dict{Any, Any}(\"data-bind\" => \"click: function (){this.clicks(this.clicks()+1)}, css: {'is-loading' : loading}\"), :className => \"is-medium button is-primary\", :style => Dict{String, Any}())), Dict{String, Tuple{Observables.AbstractObservable, Union{Nothing, Bool}}}(\"loading\" => (Observable(false), nothing), \"clicks\" => (Observable(0), nothing)), Set{String}(), nothing, WebIO.Asset[WebIO.Asset(\"js\", \"knockout\", \"/home/dushya/.julia/packages/Knockout/HReiN/src/../assets/knockout.js\"), WebIO.Asset(\"js\", \"knockout_punches\", \"/home/dushya/.julia/packages/Knockout/HReiN/src/../assets/knockout_punches.js\"), WebIO.Asset(\"js\", nothing, \"/home/dushya/.julia/packages/InteractBase/LJXv3/src/../assets/all.js\"), WebIO.Asset(\"css\", nothing, \"/home/dushya/.julia/packages/InteractBase/LJXv3/src/../assets/style.css\"), WebIO.Asset(\"css\", nothing, \"/home/dushya/.julia/packages/Interact/PENUy/src/../assets/bulma_confined.min.css\")], Dict{Any, Any}(\"loading\" => Any[WebIO.JSString(\"(function (val){return (val!=this.model[\\\"loading\\\"]()) ? (this.valueFromJulia[\\\"loading\\\"]=true, this.model[\\\"loading\\\"](val)) : undefined})\")], \"clicks\" => Any[WebIO.JSString(\"(function (val){return (val!=this.model[\\\"clicks\\\"]()) ? (this.valueFromJulia[\\\"clicks\\\"]=true, this.model[\\\"clicks\\\"](val)) : undefined})\")]), WebIO.ConnectionPool(Channel{Any}(32), Set{WebIO.AbstractConnection}(), Base.GenericCondition{ReentrantLock}(Base.IntrusiveLinkedList{Task}(Task (runnable) @0x00007f7639421aa0, Task (runnable) @0x00007f7639421aa0), ReentrantLock(nothing, 0x00000000, 0x00, Base.GenericCondition{Base.Threads.SpinLock}(Base.IntrusiveLinkedList{Task}(nothing, nothing), Base.Threads.SpinLock(0)), (8, 140146632552640, 140146632585440)))), WebIO.JSString[WebIO.JSString(\"function () {\\n    var handler = (function (ko, koPunches) {\\n    ko.punches.enableAll();\\n    ko.bindingHandlers.numericValue = {\\n        init: function(element, valueAccessor, allBindings, data, context) {\\n            var stringified = ko.observable(ko.unwrap(valueAccessor()));\\n            stringified.subscribe(function(value) {\\n                var val = parseFloat(value);\\n                if (!isNaN(val)) {\\n                    valueAccessor()(val);\\n                }\\n            });\\n            valueAccessor().subscribe(function(value) {\\n                var str = JSON.stringify(value);\\n                if ((str == \\\"0\\\") && ([\\\"-0\\\", \\\"-0.\\\"].indexOf(stringified()) >= 0))\\n                     return;\\n                 if ([\\\"null\\\", \\\"\\\"].indexOf(str) >= 0)\\n                     return;\\n                stringified(str);\\n            });\\n            ko.applyBindingsToNode(\\n                element,\\n                {\\n                    value: stringified,\\n                    valueUpdate: allBindings.get('valueUpdate'),\\n                },\\n                context,\\n            );\\n        }\\n    };\\n    var json_data = {\\\"loading\\\":WebIO.getval({\\\"name\\\":\\\"loading\\\",\\\"scope\\\":\\\"15356498856311490485\\\",\\\"id\\\":\\\"164972454818796620\\\",\\\"type\\\":\\\"observable\\\"}),\\\"clicks\\\":WebIO.getval({\\\"name\\\":\\\"clicks\\\",\\\"scope\\\":\\\"15356498856311490485\\\",\\\"id\\\":\\\"8787308030594596998\\\",\\\"type\\\":\\\"observable\\\"})};\\n    var self = this;\\n    function AppViewModel() {\\n        for (var key in json_data) {\\n            var el = json_data[key];\\n            this[key] = Array.isArray(el) ? ko.observableArray(el) : ko.observable(el);\\n        }\\n        \\n        \\n        [this[\\\"loading\\\"].subscribe((function (val){!(this.valueFromJulia[\\\"loading\\\"]) ? (WebIO.setval({\\\"name\\\":\\\"loading\\\",\\\"scope\\\":\\\"15356498856311490485\\\",\\\"id\\\":\\\"164972454818796620\\\",\\\"type\\\":\\\"observable\\\"},val)) : undefined; return this.valueFromJulia[\\\"loading\\\"]=false}),self),this[\\\"clicks\\\"].subscribe((function (val){!(this.valueFromJulia[\\\"clicks\\\"]) ? (WebIO.setval({\\\"name\\\":\\\"clicks\\\",\\\"scope\\\":\\\"15356498856311490485\\\",\\\"id\\\":\\\"8787308030594596998\\\",\\\"type\\\":\\\"observable\\\"},val)) : undefined; return this.valueFromJulia[\\\"clicks\\\"]=false}),self)]\\n        \\n    }\\n    self.model = new AppViewModel();\\n    self.valueFromJulia = {};\\n    for (var key in json_data) {\\n        self.valueFromJulia[key] = false;\\n    }\\n    ko.applyBindings(self.model, self.dom);\\n}\\n);\\n    (WebIO.importBlock({\\\"data\\\":[{\\\"name\\\":\\\"knockout\\\",\\\"type\\\":\\\"js\\\",\\\"url\\\":\\\"/assetserver/727383f2a47bd31570b7da84eee7b022dd6d7c78-knockout.js\\\"},{\\\"name\\\":\\\"knockout_punches\\\",\\\"type\\\":\\\"js\\\",\\\"url\\\":\\\"/assetserver/382b41b3b1bd9f26f75861d360bad7f8beea211f-knockout_punches.js\\\"}],\\\"type\\\":\\\"async_block\\\"})).then((imports) => handler.apply(this, imports));\\n}\\n\")])], Dict{Symbol, Any}(:className => \"field interact-widget\")), WebIO.Node{WebIO.DOM}(WebIO.DOM(:html, :div), Any[WebIO.Scope(WebIO.Node{WebIO.DOM}(WebIO.DOM(:html, :div), Any[], Dict{Symbol, Any}(:id => \"container\")), Dict{String, Tuple{Observables.AbstractObservable, Union{Nothing, Bool}}}(\"value\" => (Observable(\"\\\\;\\\\;\"), nothing)), Set{String}(), nothing, WebIO.Asset[WebIO.Asset(\"js\", nothing, \"/home/dushya/.julia/packages/InteractBase/LJXv3/src/../assets/katex.min.js\"), WebIO.Asset(\"css\", nothing, \"/home/dushya/.julia/packages/InteractBase/LJXv3/src/../assets/katex.min.css\")], Dict{Any, Any}(\"value\" => Any[WebIO.JSString(\"(function (txt){return this.k.render(txt,this.container)})\")]), WebIO.ConnectionPool(Channel{Any}(32), Set{WebIO.AbstractConnection}(), Base.GenericCondition{ReentrantLock}(Base.IntrusiveLinkedList{Task}(Task (runnable) @0x00007f7639602ef0, Task (runnable) @0x00007f7639602ef0), ReentrantLock(nothing, 0x00000000, 0x00, Base.GenericCondition{Base.Threads.SpinLock}(Base.IntrusiveLinkedList{Task}(nothing, nothing), Base.Threads.SpinLock(0)), (8, 0, 139779710648320)))), WebIO.JSString[WebIO.JSString(\"function () {\\n    var handler = ((function (k){this.k=k; this.container=this.dom.querySelector(\\\"#container\\\"); return k.render(\\\"\\\\\\\\;\\\\\\\\;\\\",this.container)}));\\n    (WebIO.importBlock({\\\"data\\\":[{\\\"name\\\":null,\\\"type\\\":\\\"js\\\",\\\"url\\\":\\\"/assetserver/dd22ed1bf1896c2748f3fe616ce0b838adc895c1-katex.min.js\\\"},{\\\"name\\\":null,\\\"type\\\":\\\"css\\\",\\\"url\\\":\\\"/assetserver/46517a424aa5e6cffc1360d7e0848b601c584ee3-katex.min.css\\\"}],\\\"type\\\":\\\"async_block\\\"})).then((imports) => handler.apply(this, imports));\\n}\\n\")])], Dict{Symbol, Any}(:className => \"interact-widget\")), WebIO.Node{WebIO.DOM}(WebIO.DOM(:html, :div), Any[WebIO.Scope(WebIO.Node{WebIO.DOM}(WebIO.DOM(:html, :button), Any[\"reset\"], Dict{Symbol, Any}(:attributes => Dict{Any, Any}(\"data-bind\" => \"click: function (){this.clicks(this.clicks()+1)}, css: {'is-loading' : loading}\"), :className => \"is-medium button is-primary\", :style => Dict{String, Any}())), Dict{String, Tuple{Observables.AbstractObservable, Union{Nothing, Bool}}}(\"loading\" => (Observable(false), nothing), \"clicks\" => (Observable(0), nothing)), Set{String}(), nothing, WebIO.Asset[WebIO.Asset(\"js\", \"knockout\", \"/home/dushya/.julia/packages/Knockout/HReiN/src/../assets/knockout.js\"), WebIO.Asset(\"js\", \"knockout_punches\", \"/home/dushya/.julia/packages/Knockout/HReiN/src/../assets/knockout_punches.js\"), WebIO.Asset(\"js\", nothing, \"/home/dushya/.julia/packages/InteractBase/LJXv3/src/../assets/all.js\"), WebIO.Asset(\"css\", nothing, \"/home/dushya/.julia/packages/InteractBase/LJXv3/src/../assets/style.css\"), WebIO.Asset(\"css\", nothing, \"/home/dushya/.julia/packages/Interact/PENUy/src/../assets/bulma_confined.min.css\")], Dict{Any, Any}(\"loading\" => Any[WebIO.JSString(\"(function (val){return (val!=this.model[\\\"loading\\\"]()) ? (this.valueFromJulia[\\\"loading\\\"]=true, this.model[\\\"loading\\\"](val)) : undefined})\")], \"clicks\" => Any[WebIO.JSString(\"(function (val){return (val!=this.model[\\\"clicks\\\"]()) ? (this.valueFromJulia[\\\"clicks\\\"]=true, this.model[\\\"clicks\\\"](val)) : undefined})\")]), WebIO.ConnectionPool(Channel{Any}(32), Set{WebIO.AbstractConnection}(), Base.GenericCondition{ReentrantLock}(Base.IntrusiveLinkedList{Task}(Task (runnable) @0x00007f7639464650, Task (runnable) @0x00007f7639464650), ReentrantLock(nothing, 0x00000000, 0x00, Base.GenericCondition{Base.Threads.SpinLock}(Base.IntrusiveLinkedList{Task}(nothing, nothing), Base.Threads.SpinLock(0)), (0, 0, 139779710648320)))), WebIO.JSString[WebIO.JSString(\"function () {\\n    var handler = (function (ko, koPunches) {\\n    ko.punches.enableAll();\\n    ko.bindingHandlers.numericValue = {\\n        init: function(element, valueAccessor, allBindings, data, context) {\\n            var stringified = ko.observable(ko.unwrap(valueAccessor()));\\n            stringified.subscribe(function(value) {\\n                var val = parseFloat(value);\\n                if (!isNaN(val)) {\\n                    valueAccessor()(val);\\n                }\\n            });\\n            valueAccessor().subscribe(function(value) {\\n                var str = JSON.stringify(value);\\n                if ((str == \\\"0\\\") && ([\\\"-0\\\", \\\"-0.\\\"].indexOf(stringified()) >= 0))\\n                     return;\\n                 if ([\\\"null\\\", \\\"\\\"].indexOf(str) >= 0)\\n                     return;\\n                stringified(str);\\n            });\\n            ko.applyBindingsToNode(\\n                element,\\n                {\\n                    value: stringified,\\n                    valueUpdate: allBindings.get('valueUpdate'),\\n                },\\n                context,\\n            );\\n        }\\n    };\\n    var json_data = {\\\"loading\\\":WebIO.getval({\\\"name\\\":\\\"loading\\\",\\\"scope\\\":\\\"2080414177635771918\\\",\\\"id\\\":\\\"7928567909752923932\\\",\\\"type\\\":\\\"observable\\\"}),\\\"clicks\\\":WebIO.getval({\\\"name\\\":\\\"clicks\\\",\\\"scope\\\":\\\"2080414177635771918\\\",\\\"id\\\":\\\"4635594356740232917\\\",\\\"type\\\":\\\"observable\\\"})};\\n    var self = this;\\n    function AppViewModel() {\\n        for (var key in json_data) {\\n            var el = json_data[key];\\n            this[key] = Array.isArray(el) ? ko.observableArray(el) : ko.observable(el);\\n        }\\n        \\n        \\n        [this[\\\"loading\\\"].subscribe((function (val){!(this.valueFromJulia[\\\"loading\\\"]) ? (WebIO.setval({\\\"name\\\":\\\"loading\\\",\\\"scope\\\":\\\"2080414177635771918\\\",\\\"id\\\":\\\"7928567909752923932\\\",\\\"type\\\":\\\"observable\\\"},val)) : undefined; return this.valueFromJulia[\\\"loading\\\"]=false}),self),this[\\\"clicks\\\"].subscribe((function (val){!(this.valueFromJulia[\\\"clicks\\\"]) ? (WebIO.setval({\\\"name\\\":\\\"clicks\\\",\\\"scope\\\":\\\"2080414177635771918\\\",\\\"id\\\":\\\"4635594356740232917\\\",\\\"type\\\":\\\"observable\\\"},val)) : undefined; return this.valueFromJulia[\\\"clicks\\\"]=false}),self)]\\n        \\n    }\\n    self.model = new AppViewModel();\\n    self.valueFromJulia = {};\\n    for (var key in json_data) {\\n        self.valueFromJulia[key] = false;\\n    }\\n    ko.applyBindings(self.model, self.dom);\\n}\\n);\\n    (WebIO.importBlock({\\\"data\\\":[{\\\"name\\\":\\\"knockout\\\",\\\"type\\\":\\\"js\\\",\\\"url\\\":\\\"/assetserver/727383f2a47bd31570b7da84eee7b022dd6d7c78-knockout.js\\\"},{\\\"name\\\":\\\"knockout_punches\\\",\\\"type\\\":\\\"js\\\",\\\"url\\\":\\\"/assetserver/382b41b3b1bd9f26f75861d360bad7f8beea211f-knockout_punches.js\\\"}],\\\"type\\\":\\\"async_block\\\"})).then((imports) => handler.apply(this, imports));\\n}\\n\")])], Dict{Symbol, Any}(:className => \"field interact-widget\")), WebIO.Node{WebIO.DOM}(WebIO.DOM(:html, :div), Any[WebIO.Scope(WebIO.Node{WebIO.DOM}(WebIO.DOM(:html, :div), Any[], Dict{Symbol, Any}(:id => \"container\")), Dict{String, Tuple{Observables.AbstractObservable, Union{Nothing, Bool}}}(\"value\" => (Observable(\"\\\\;\\\\;\"), nothing)), Set{String}(), nothing, WebIO.Asset[WebIO.Asset(\"js\", nothing, \"/home/dushya/.julia/packages/InteractBase/LJXv3/src/../assets/katex.min.js\"), WebIO.Asset(\"css\", nothing, \"/home/dushya/.julia/packages/InteractBase/LJXv3/src/../assets/katex.min.css\")], Dict{Any, Any}(\"value\" => Any[WebIO.JSString(\"(function (txt){return this.k.render(txt,this.container)})\")]), WebIO.ConnectionPool(Channel{Any}(32), Set{WebIO.AbstractConnection}(), Base.GenericCondition{ReentrantLock}(Base.IntrusiveLinkedList{Task}(Task (runnable) @0x00007f7639602ef0, Task (runnable) @0x00007f7639602ef0), ReentrantLock(nothing, 0x00000000, 0x00, Base.GenericCondition{Base.Threads.SpinLock}(Base.IntrusiveLinkedList{Task}(nothing, nothing), Base.Threads.SpinLock(0)), (8, 0, 139779710648320)))), WebIO.JSString[WebIO.JSString(\"function () {\\n    var handler = ((function (k){this.k=k; this.container=this.dom.querySelector(\\\"#container\\\"); return k.render(\\\"\\\\\\\\;\\\\\\\\;\\\",this.container)}));\\n    (WebIO.importBlock({\\\"data\\\":[{\\\"name\\\":null,\\\"type\\\":\\\"js\\\",\\\"url\\\":\\\"/assetserver/dd22ed1bf1896c2748f3fe616ce0b838adc895c1-katex.min.js\\\"},{\\\"name\\\":null,\\\"type\\\":\\\"css\\\",\\\"url\\\":\\\"/assetserver/46517a424aa5e6cffc1360d7e0848b601c584ee3-katex.min.css\\\"}],\\\"type\\\":\\\"async_block\\\"})).then((imports) => handler.apply(this, imports));\\n}\\n\")])], Dict{Symbol, Any}(:className => \"interact-widget\")), WebIO.Node{WebIO.DOM}(WebIO.DOM(:html, :div), Any[WebIO.Scope(WebIO.Node{WebIO.DOM}(WebIO.DOM(:html, :button), Any[\"save\"], Dict{Symbol, Any}(:attributes => Dict{Any, Any}(\"data-bind\" => \"click: function (){this.clicks(this.clicks()+1)}, css: {'is-loading' : loading}\"), :className => \"is-medium button is-primary\", :style => Dict{String, Any}())), Dict{String, Tuple{Observables.AbstractObservable, Union{Nothing, Bool}}}(\"loading\" => (Observable(false), nothing), \"clicks\" => (Observable(0), nothing)), Set{String}(), nothing, WebIO.Asset[WebIO.Asset(\"js\", \"knockout\", \"/home/dushya/.julia/packages/Knockout/HReiN/src/../assets/knockout.js\"), WebIO.Asset(\"js\", \"knockout_punches\", \"/home/dushya/.julia/packages/Knockout/HReiN/src/../assets/knockout_punches.js\"), WebIO.Asset(\"js\", nothing, \"/home/dushya/.julia/packages/InteractBase/LJXv3/src/../assets/all.js\"), WebIO.Asset(\"css\", nothing, \"/home/dushya/.julia/packages/InteractBase/LJXv3/src/../assets/style.css\"), WebIO.Asset(\"css\", nothing, \"/home/dushya/.julia/packages/Interact/PENUy/src/../assets/bulma_confined.min.css\")], Dict{Any, Any}(\"loading\" => Any[WebIO.JSString(\"(function (val){return (val!=this.model[\\\"loading\\\"]()) ? (this.valueFromJulia[\\\"loading\\\"]=true, this.model[\\\"loading\\\"](val)) : undefined})\")], \"clicks\" => Any[WebIO.JSString(\"(function (val){return (val!=this.model[\\\"clicks\\\"]()) ? (this.valueFromJulia[\\\"clicks\\\"]=true, this.model[\\\"clicks\\\"](val)) : undefined})\")]), WebIO.ConnectionPool(Channel{Any}(32), Set{WebIO.AbstractConnection}(), Base.GenericCondition{ReentrantLock}(Base.IntrusiveLinkedList{Task}(Task (runnable) @0x00007f7639467080, Task (runnable) @0x00007f7639467080), ReentrantLock(nothing, 0x00000000, 0x00, Base.GenericCondition{Base.Threads.SpinLock}(Base.IntrusiveLinkedList{Task}(nothing, nothing), Base.Threads.SpinLock(0)), (8, 0, 139779710648320)))), WebIO.JSString[WebIO.JSString(\"function () {\\n    var handler = (function (ko, koPunches) {\\n    ko.punches.enableAll();\\n    ko.bindingHandlers.numericValue = {\\n        init: function(element, valueAccessor, allBindings, data, context) {\\n            var stringified = ko.observable(ko.unwrap(valueAccessor()));\\n            stringified.subscribe(function(value) {\\n                var val = parseFloat(value);\\n                if (!isNaN(val)) {\\n                    valueAccessor()(val);\\n                }\\n            });\\n            valueAccessor().subscribe(function(value) {\\n                var str = JSON.stringify(value);\\n                if ((str == \\\"0\\\") && ([\\\"-0\\\", \\\"-0.\\\"].indexOf(stringified()) >= 0))\\n                     return;\\n                 if ([\\\"null\\\", \\\"\\\"].indexOf(str) >= 0)\\n                     return;\\n                stringified(str);\\n            });\\n            ko.applyBindingsToNode(\\n                element,\\n                {\\n                    value: stringified,\\n                    valueUpdate: allBindings.get('valueUpdate'),\\n                },\\n                context,\\n            );\\n        }\\n    };\\n    var json_data = {\\\"loading\\\":WebIO.getval({\\\"name\\\":\\\"loading\\\",\\\"scope\\\":\\\"10252604126630065060\\\",\\\"id\\\":\\\"16187448258225772225\\\",\\\"type\\\":\\\"observable\\\"}),\\\"clicks\\\":WebIO.getval({\\\"name\\\":\\\"clicks\\\",\\\"scope\\\":\\\"10252604126630065060\\\",\\\"id\\\":\\\"17101002317241049864\\\",\\\"type\\\":\\\"observable\\\"})};\\n    var self = this;\\n    function AppViewModel() {\\n        for (var key in json_data) {\\n            var el = json_data[key];\\n            this[key] = Array.isArray(el) ? ko.observableArray(el) : ko.observable(el);\\n        }\\n        \\n        \\n        [this[\\\"loading\\\"].subscribe((function (val){!(this.valueFromJulia[\\\"loading\\\"]) ? (WebIO.setval({\\\"name\\\":\\\"loading\\\",\\\"scope\\\":\\\"10252604126630065060\\\",\\\"id\\\":\\\"16187448258225772225\\\",\\\"type\\\":\\\"observable\\\"},val)) : undefined; return this.valueFromJulia[\\\"loading\\\"]=false}),self),this[\\\"clicks\\\"].subscribe((function (val){!(this.valueFromJulia[\\\"clicks\\\"]) ? (WebIO.setval({\\\"name\\\":\\\"clicks\\\",\\\"scope\\\":\\\"10252604126630065060\\\",\\\"id\\\":\\\"17101002317241049864\\\",\\\"type\\\":\\\"observable\\\"},val)) : undefined; return this.valueFromJulia[\\\"clicks\\\"]=false}),self)]\\n        \\n    }\\n    self.model = new AppViewModel();\\n    self.valueFromJulia = {};\\n    for (var key in json_data) {\\n        self.valueFromJulia[key] = false;\\n    }\\n    ko.applyBindings(self.model, self.dom);\\n}\\n);\\n    (WebIO.importBlock({\\\"data\\\":[{\\\"name\\\":\\\"knockout\\\",\\\"type\\\":\\\"js\\\",\\\"url\\\":\\\"/assetserver/727383f2a47bd31570b7da84eee7b022dd6d7c78-knockout.js\\\"},{\\\"name\\\":\\\"knockout_punches\\\",\\\"type\\\":\\\"js\\\",\\\"url\\\":\\\"/assetserver/382b41b3b1bd9f26f75861d360bad7f8beea211f-knockout_punches.js\\\"}],\\\"type\\\":\\\"async_block\\\"})).then((imports) => handler.apply(this, imports));\\n}\\n\")])], Dict{Symbol, Any}(:className => \"field interact-widget\"))], Dict{Symbol, Any}(:style => Dict(\"display\" => \"flex\", \"flex-direction\" => \"row\")))], Dict{Symbol, Any}(:style => Dict(\"display\" => \"flex\", \"flex-direction\" => \"column\"))), WebIO.Node{WebIO.DOM}(WebIO.DOM(:html, :div), Any[WebIO.Scope(WebIO.Node{WebIO.DOM}(WebIO.DOM(:html, :div), Any[], Dict{Symbol, Any}(:id => \"container\")), Dict{String, Tuple{Observables.AbstractObservable, Union{Nothing, Bool}}}(\"value\" => (Observable(\"\\\\;\\\\;\"), nothing)), Set{String}(), nothing, WebIO.Asset[WebIO.Asset(\"js\", nothing, \"/home/dushya/.julia/packages/InteractBase/LJXv3/src/../assets/katex.min.js\"), WebIO.Asset(\"css\", nothing, \"/home/dushya/.julia/packages/InteractBase/LJXv3/src/../assets/katex.min.css\")], Dict{Any, Any}(\"value\" => Any[WebIO.JSString(\"(function (txt){return this.k.render(txt,this.container)})\")]), WebIO.ConnectionPool(Channel{Any}(32), Set{WebIO.AbstractConnection}(), Base.GenericCondition{ReentrantLock}(Base.IntrusiveLinkedList{Task}(Task (runnable) @0x00007f7639602ef0, Task (runnable) @0x00007f7639602ef0), ReentrantLock(nothing, 0x00000000, 0x00, Base.GenericCondition{Base.Threads.SpinLock}(Base.IntrusiveLinkedList{Task}(nothing, nothing), Base.Threads.SpinLock(0)), (8, 0, 139779710648320)))), WebIO.JSString[WebIO.JSString(\"function () {\\n    var handler = ((function (k){this.k=k; this.container=this.dom.querySelector(\\\"#container\\\"); return k.render(\\\"\\\\\\\\;\\\\\\\\;\\\",this.container)}));\\n    (WebIO.importBlock({\\\"data\\\":[{\\\"name\\\":null,\\\"type\\\":\\\"js\\\",\\\"url\\\":\\\"/assetserver/dd22ed1bf1896c2748f3fe616ce0b838adc895c1-katex.min.js\\\"},{\\\"name\\\":null,\\\"type\\\":\\\"css\\\",\\\"url\\\":\\\"/assetserver/46517a424aa5e6cffc1360d7e0848b601c584ee3-katex.min.css\\\"}],\\\"type\\\":\\\"async_block\\\"})).then((imports) => handler.apply(this, imports));\\n}\\n\")])], Dict{Symbol, Any}(:className => \"interact-widget\")), Observable(Luxor.Drawing(430.0, 430.0, \"\", Cairo.CairoSurfaceBase{UInt32}(Ptr{Nothing} @0x0000000000000000, 430.0, 430.0), Cairo.CairoContext(Ptr{Nothing} @0x0000000005173790, Cairo.CairoSurfaceBase{UInt32}(Ptr{Nothing} @0x0000000000000000, 430.0, 430.0), Ptr{Nothing} @0x0000000003a41990), :png, 0.0, 0.0, 0.0, 1.0, IOBuffer(data=UInt8[...], readable=true, writable=true, seekable=true, append=false, size=22550, maxsize=Inf, ptr=22551, mark=-1), UInt8[0x89, 0x50, 0x4e, 0x47, 0x0d, 0x0a, 0x1a, 0x0a, 0x00, 0x00  …  0x00, 0x00, 0x49, 0x45, 0x4e, 0x44, 0xae, 0x42, 0x60, 0x82], false)), WebIO.Node{WebIO.DOM}(WebIO.DOM(:html, :div), Any[WebIO.Scope(WebIO.Node{WebIO.DOM}(WebIO.DOM(:html, :div), Any[], Dict{Symbol, Any}(:id => \"container\")), Dict{String, Tuple{Observables.AbstractObservable, Union{Nothing, Bool}}}(\"value\" => (Observable(\"\\\\;\\\\;\"), nothing)), Set{String}(), nothing, WebIO.Asset[WebIO.Asset(\"js\", nothing, \"/home/dushya/.julia/packages/InteractBase/LJXv3/src/../assets/katex.min.js\"), WebIO.Asset(\"css\", nothing, \"/home/dushya/.julia/packages/InteractBase/LJXv3/src/../assets/katex.min.css\")], Dict{Any, Any}(\"value\" => Any[WebIO.JSString(\"(function (txt){return this.k.render(txt,this.container)})\")]), WebIO.ConnectionPool(Channel{Any}(32), Set{WebIO.AbstractConnection}(), Base.GenericCondition{ReentrantLock}(Base.IntrusiveLinkedList{Task}(Task (runnable) @0x00007f7639602ef0, Task (runnable) @0x00007f7639602ef0), ReentrantLock(nothing, 0x00000000, 0x00, Base.GenericCondition{Base.Threads.SpinLock}(Base.IntrusiveLinkedList{Task}(nothing, nothing), Base.Threads.SpinLock(0)), (8, 0, 139779710648320)))), WebIO.JSString[WebIO.JSString(\"function () {\\n    var handler = ((function (k){this.k=k; this.container=this.dom.querySelector(\\\"#container\\\"); return k.render(\\\"\\\\\\\\;\\\\\\\\;\\\",this.container)}));\\n    (WebIO.importBlock({\\\"data\\\":[{\\\"name\\\":null,\\\"type\\\":\\\"js\\\",\\\"url\\\":\\\"/assetserver/dd22ed1bf1896c2748f3fe616ce0b838adc895c1-katex.min.js\\\"},{\\\"name\\\":null,\\\"type\\\":\\\"css\\\",\\\"url\\\":\\\"/assetserver/46517a424aa5e6cffc1360d7e0848b601c584ee3-katex.min.css\\\"}],\\\"type\\\":\\\"async_block\\\"})).then((imports) => handler.apply(this, imports));\\n}\\n\")])], Dict{Symbol, Any}(:className => \"interact-widget\")), WebIO.Node{WebIO.DOM}(WebIO.DOM(:html, :div), Any[], Dict{Symbol, Any}(:style => Dict(\"display\" => \"flex\", \"flex-direction\" => \"column\")))], Dict{Symbol, Any}(:style => Dict(\"display\" => \"flex\", \"flex-direction\" => \"row\")))], Dict{Symbol, Any}(:style => Dict(\"display\" => \"flex\", \"flex-direction\" => \"column\")))"
      ]
     },
     "execution_count": 8,
     "metadata": {
      "application/vnd.webio.node+json": {
       "kernelId": null
      }
     },
     "output_type": "execute_result"
    }
   ],
   "source": [
    "create_interactive_app(model, initialiser= initialiser!,\n",
    "    step_rule= step_rule!,\n",
    "    model_controls=[(:min_dis, \"slider\", 0.01:0.1:1.0),\n",
    "        (:coh_fac, \"slider\", 0.01:0.01:1.0),\n",
    "        (:sep_fac, \"slider\", 0.01:0.01:1.0),\n",
    "        (:aln_fac, \"slider\", 0.01:0.01:1.0),\n",
    "        (:vis_range, \"slider\", 0.5:0.5:4.0)], frames=400) "
   ]
  },
  {
   "cell_type": "markdown",
   "metadata": {},
   "source": [
    "## Step 5: Fetch Data \n",
    "\n",
    "It is easy to fetch any data recorded during simulation. For example, the data of average velocity of agents at each time step can be obtained as - "
   ]
  },
  {
   "cell_type": "code",
   "execution_count": 9,
   "metadata": {},
   "outputs": [
    {
     "data": {
      "text/html": [
       "<div><div style = \"float: left;\"><span>401×1 DataFrame</span></div><div style = \"float: right;\"><span style = \"font-style: italic;\">376 rows omitted</span></div><div style = \"clear: both;\"></div></div><div class = \"data-frame\" style = \"overflow-x: scroll;\"><table class = \"data-frame\" style = \"margin-bottom: 6px;\"><thead><tr class = \"header\"><th class = \"rowNumber\" style = \"font-weight: bold; text-align: right;\">Row</th><th style = \"text-align: left;\">average velocity</th></tr><tr class = \"subheader headerLastRow\"><th class = \"rowNumber\" style = \"font-weight: bold; text-align: right;\"></th><th title = \"Vect{2, Float64}\" style = \"text-align: left;\">Vect…</th></tr></thead><tbody><tr><td class = \"rowNumber\" style = \"font-weight: bold; text-align: right;\">1</td><td style = \"text-align: left;\">(0.0872812, 0.0117416)\\n</td></tr><tr><td class = \"rowNumber\" style = \"font-weight: bold; text-align: right;\">2</td><td style = \"text-align: left;\">(0.073381, 0.0644119)\\n</td></tr><tr><td class = \"rowNumber\" style = \"font-weight: bold; text-align: right;\">3</td><td style = \"text-align: left;\">(0.118291, 0.0865665)\\n</td></tr><tr><td class = \"rowNumber\" style = \"font-weight: bold; text-align: right;\">4</td><td style = \"text-align: left;\">(0.170172, 0.109632)\\n</td></tr><tr><td class = \"rowNumber\" style = \"font-weight: bold; text-align: right;\">5</td><td style = \"text-align: left;\">(0.218308, 0.11966)\\n</td></tr><tr><td class = \"rowNumber\" style = \"font-weight: bold; text-align: right;\">6</td><td style = \"text-align: left;\">(0.250271, 0.128839)\\n</td></tr><tr><td class = \"rowNumber\" style = \"font-weight: bold; text-align: right;\">7</td><td style = \"text-align: left;\">(0.281741, 0.145696)\\n</td></tr><tr><td class = \"rowNumber\" style = \"font-weight: bold; text-align: right;\">8</td><td style = \"text-align: left;\">(0.298553, 0.150001)\\n</td></tr><tr><td class = \"rowNumber\" style = \"font-weight: bold; text-align: right;\">9</td><td style = \"text-align: left;\">(0.313225, 0.163758)\\n</td></tr><tr><td class = \"rowNumber\" style = \"font-weight: bold; text-align: right;\">10</td><td style = \"text-align: left;\">(0.329381, 0.18078)\\n</td></tr><tr><td class = \"rowNumber\" style = \"font-weight: bold; text-align: right;\">11</td><td style = \"text-align: left;\">(0.335971, 0.196454)\\n</td></tr><tr><td class = \"rowNumber\" style = \"font-weight: bold; text-align: right;\">12</td><td style = \"text-align: left;\">(0.323481, 0.225902)\\n</td></tr><tr><td class = \"rowNumber\" style = \"font-weight: bold; text-align: right;\">13</td><td style = \"text-align: left;\">(0.323858, 0.259148)\\n</td></tr><tr><td style = \"text-align: right;\">&vellip;</td><td style = \"text-align: right;\">&vellip;</td></tr><tr><td class = \"rowNumber\" style = \"font-weight: bold; text-align: right;\">390</td><td style = \"text-align: left;\">(0.486203, 0.496561)\\n</td></tr><tr><td class = \"rowNumber\" style = \"font-weight: bold; text-align: right;\">391</td><td style = \"text-align: left;\">(0.524477, 0.47081)\\n</td></tr><tr><td class = \"rowNumber\" style = \"font-weight: bold; text-align: right;\">392</td><td style = \"text-align: left;\">(0.526647, 0.479109)\\n</td></tr><tr><td class = \"rowNumber\" style = \"font-weight: bold; text-align: right;\">393</td><td style = \"text-align: left;\">(0.538947, 0.459547)\\n</td></tr><tr><td class = \"rowNumber\" style = \"font-weight: bold; text-align: right;\">394</td><td style = \"text-align: left;\">(0.60126, 0.403054)\\n</td></tr><tr><td class = \"rowNumber\" style = \"font-weight: bold; text-align: right;\">395</td><td style = \"text-align: left;\">(0.732644, 0.246102)\\n</td></tr><tr><td class = \"rowNumber\" style = \"font-weight: bold; text-align: right;\">396</td><td style = \"text-align: left;\">(0.815318, 0.139605)\\n</td></tr><tr><td class = \"rowNumber\" style = \"font-weight: bold; text-align: right;\">397</td><td style = \"text-align: left;\">(0.893733, 0.0569745)\\n</td></tr><tr><td class = \"rowNumber\" style = \"font-weight: bold; text-align: right;\">398</td><td style = \"text-align: left;\">(0.77217, -0.169509)\\n</td></tr><tr><td class = \"rowNumber\" style = \"font-weight: bold; text-align: right;\">399</td><td style = \"text-align: left;\">(0.631929, -0.314916)\\n</td></tr><tr><td class = \"rowNumber\" style = \"font-weight: bold; text-align: right;\">400</td><td style = \"text-align: left;\">(0.531879, -0.38776)\\n</td></tr><tr><td class = \"rowNumber\" style = \"font-weight: bold; text-align: right;\">401</td><td style = \"text-align: left;\">(0.419224, -0.46404)\\n</td></tr></tbody></table></div>"
      ],
      "text/latex": [
       "\\begin{tabular}{r|c}\n",
       "\t& average velocity\\\\\n",
       "\t\\hline\n",
       "\t& Vect…\\\\\n",
       "\t\\hline\n",
       "\t1 & (0.0872812, 0.0117416)\\textbackslash{}n \\\\\n",
       "\t2 & (0.073381, 0.0644119)\\textbackslash{}n \\\\\n",
       "\t3 & (0.118291, 0.0865665)\\textbackslash{}n \\\\\n",
       "\t4 & (0.170172, 0.109632)\\textbackslash{}n \\\\\n",
       "\t5 & (0.218308, 0.11966)\\textbackslash{}n \\\\\n",
       "\t6 & (0.250271, 0.128839)\\textbackslash{}n \\\\\n",
       "\t7 & (0.281741, 0.145696)\\textbackslash{}n \\\\\n",
       "\t8 & (0.298553, 0.150001)\\textbackslash{}n \\\\\n",
       "\t9 & (0.313225, 0.163758)\\textbackslash{}n \\\\\n",
       "\t10 & (0.329381, 0.18078)\\textbackslash{}n \\\\\n",
       "\t11 & (0.335971, 0.196454)\\textbackslash{}n \\\\\n",
       "\t12 & (0.323481, 0.225902)\\textbackslash{}n \\\\\n",
       "\t13 & (0.323858, 0.259148)\\textbackslash{}n \\\\\n",
       "\t14 & (0.324251, 0.282265)\\textbackslash{}n \\\\\n",
       "\t15 & (0.325828, 0.302066)\\textbackslash{}n \\\\\n",
       "\t16 & (0.328323, 0.326242)\\textbackslash{}n \\\\\n",
       "\t17 & (0.332111, 0.34894)\\textbackslash{}n \\\\\n",
       "\t18 & (0.335975, 0.36059)\\textbackslash{}n \\\\\n",
       "\t19 & (0.337119, 0.372285)\\textbackslash{}n \\\\\n",
       "\t20 & (0.332597, 0.399774)\\textbackslash{}n \\\\\n",
       "\t21 & (0.310794, 0.429237)\\textbackslash{}n \\\\\n",
       "\t22 & (0.298112, 0.483882)\\textbackslash{}n \\\\\n",
       "\t23 & (0.294824, 0.508653)\\textbackslash{}n \\\\\n",
       "\t24 & (0.269481, 0.522925)\\textbackslash{}n \\\\\n",
       "\t25 & (0.233453, 0.545831)\\textbackslash{}n \\\\\n",
       "\t26 & (0.217303, 0.562831)\\textbackslash{}n \\\\\n",
       "\t27 & (0.202774, 0.57589)\\textbackslash{}n \\\\\n",
       "\t28 & (0.189159, 0.588635)\\textbackslash{}n \\\\\n",
       "\t29 & (0.145034, 0.577302)\\textbackslash{}n \\\\\n",
       "\t30 & (0.0880529, 0.558995)\\textbackslash{}n \\\\\n",
       "\t$\\dots$ & $\\dots$ \\\\\n",
       "\\end{tabular}\n"
      ],
      "text/plain": [
       "\u001b[1m401×1 DataFrame\u001b[0m\n",
       "\u001b[1m Row \u001b[0m│\u001b[1m average velocity         \u001b[0m\n",
       "     │\u001b[90m Vect{2, Float64}         \u001b[0m\n",
       "─────┼──────────────────────────\n",
       "   1 │ (0.0872812, 0.0117416)\\n\n",
       "   2 │ (0.073381, 0.0644119)\\n\n",
       "   3 │ (0.118291, 0.0865665)\\n\n",
       "   4 │ (0.170172, 0.109632)\\n\n",
       "   5 │ (0.218308, 0.11966)\\n\n",
       "   6 │ (0.250271, 0.128839)\\n\n",
       "   7 │ (0.281741, 0.145696)\\n\n",
       "   8 │ (0.298553, 0.150001)\\n\n",
       "   9 │ (0.313225, 0.163758)\\n\n",
       "  10 │ (0.329381, 0.18078)\\n\n",
       "  11 │ (0.335971, 0.196454)\\n\n",
       "  ⋮  │            ⋮\n",
       " 392 │ (0.526647, 0.479109)\\n\n",
       " 393 │ (0.538947, 0.459547)\\n\n",
       " 394 │ (0.60126, 0.403054)\\n\n",
       " 395 │ (0.732644, 0.246102)\\n\n",
       " 396 │ (0.815318, 0.139605)\\n\n",
       " 397 │ (0.893733, 0.0569745)\\n\n",
       " 398 │ (0.77217, -0.169509)\\n\n",
       " 399 │ (0.631929, -0.314916)\\n\n",
       " 400 │ (0.531879, -0.38776)\\n\n",
       " 401 │ (0.419224, -0.46404)\\n\n",
       "\u001b[36m                380 rows omitted\u001b[0m"
      ]
     },
     "execution_count": 9,
     "metadata": {},
     "output_type": "execute_result"
    }
   ],
   "source": [
    "df = get_agents_avg_props(model, agent -> agent.vel, labels = [\"average velocity\"])"
   ]
  },
  {
   "cell_type": "markdown",
   "metadata": {},
   "source": [
    "Individual agent data recorded during model run can be obtained as "
   ]
  },
  {
   "cell_type": "code",
   "execution_count": 10,
   "metadata": {},
   "outputs": [
    {
     "data": {
      "text/html": [
       "<div><div style = \"float: left;\"><span>401×3 DataFrame</span></div><div style = \"float: right;\"><span style = \"font-style: italic;\">376 rows omitted</span></div><div style = \"clear: both;\"></div></div><div class = \"data-frame\" style = \"overflow-x: scroll;\"><table class = \"data-frame\" style = \"margin-bottom: 6px;\"><thead><tr class = \"header\"><th class = \"rowNumber\" style = \"font-weight: bold; text-align: right;\">Row</th><th style = \"text-align: left;\">orientation</th><th style = \"text-align: left;\">pos</th><th style = \"text-align: left;\">vel</th></tr><tr class = \"subheader headerLastRow\"><th class = \"rowNumber\" style = \"font-weight: bold; text-align: right;\"></th><th title = \"Float64\" style = \"text-align: left;\">Float64</th><th title = \"Vect{2, Float64}\" style = \"text-align: left;\">Vect…</th><th title = \"Vect{2, Float64}\" style = \"text-align: left;\">Vect…</th></tr></thead><tbody><tr><td class = \"rowNumber\" style = \"font-weight: bold; text-align: right;\">1</td><td style = \"text-align: right;\">2.63366</td><td style = \"text-align: left;\">(6.86476, 6.13213)\\n</td><td style = \"text-align: left;\">(-0.486368, -0.873754)\\n</td></tr><tr><td class = \"rowNumber\" style = \"font-weight: bold; text-align: right;\">2</td><td style = \"text-align: right;\">2.95695</td><td style = \"text-align: left;\">(6.8464, 6.03384)\\n</td><td style = \"text-align: left;\">(-0.183592, -0.98297)\\n</td></tr><tr><td class = \"rowNumber\" style = \"font-weight: bold; text-align: right;\">3</td><td style = \"text-align: right;\">3.40284</td><td style = \"text-align: left;\">(6.87223, 5.93723)\\n</td><td style = \"text-align: left;\">(0.258281, -0.966049)\\n</td></tr><tr><td class = \"rowNumber\" style = \"font-weight: bold; text-align: right;\">4</td><td style = \"text-align: right;\">3.91856</td><td style = \"text-align: left;\">(6.94234, 5.86593)\\n</td><td style = \"text-align: left;\">(0.701108, -0.71303)\\n</td></tr><tr><td class = \"rowNumber\" style = \"font-weight: bold; text-align: right;\">5</td><td style = \"text-align: right;\">4.22084</td><td style = \"text-align: left;\">(7.0305, 5.81873)\\n</td><td style = \"text-align: left;\">(0.881588, -0.471986)\\n</td></tr><tr><td class = \"rowNumber\" style = \"font-weight: bold; text-align: right;\">6</td><td style = \"text-align: right;\">4.44185</td><td style = \"text-align: left;\">(7.12686, 5.792)\\n</td><td style = \"text-align: left;\">(0.963612, -0.267251)\\n</td></tr><tr><td class = \"rowNumber\" style = \"font-weight: bold; text-align: right;\">7</td><td style = \"text-align: right;\">4.52449</td><td style = \"text-align: left;\">(7.2251, 5.77333)\\n</td><td style = \"text-align: left;\">(0.982385, -0.186795)\\n</td></tr><tr><td class = \"rowNumber\" style = \"font-weight: bold; text-align: right;\">8</td><td style = \"text-align: right;\">4.51876</td><td style = \"text-align: left;\">(7.32323, 5.75408)\\n</td><td style = \"text-align: left;\">(0.981299, -0.192418)\\n</td></tr><tr><td class = \"rowNumber\" style = \"font-weight: bold; text-align: right;\">9</td><td style = \"text-align: right;\">4.81596</td><td style = \"text-align: left;\">(7.42269, 5.76442)\\n</td><td style = \"text-align: left;\">(0.994624, 0.103384)\\n</td></tr><tr><td class = \"rowNumber\" style = \"font-weight: bold; text-align: right;\">10</td><td style = \"text-align: right;\">5.12688</td><td style = \"text-align: left;\">(7.51423, 5.80469)\\n</td><td style = \"text-align: left;\">(0.915307, 0.402714)\\n</td></tr><tr><td class = \"rowNumber\" style = \"font-weight: bold; text-align: right;\">11</td><td style = \"text-align: right;\">5.23993</td><td style = \"text-align: left;\">(7.60063, 5.85503)\\n</td><td style = \"text-align: left;\">(0.864031, 0.5034)\\n</td></tr><tr><td class = \"rowNumber\" style = \"font-weight: bold; text-align: right;\">12</td><td style = \"text-align: right;\">5.50428</td><td style = \"text-align: left;\">(7.67088, 5.9262)\\n</td><td style = \"text-align: left;\">(0.702486, 0.711669)\\n</td></tr><tr><td class = \"rowNumber\" style = \"font-weight: bold; text-align: right;\">13</td><td style = \"text-align: right;\">0.117186</td><td style = \"text-align: left;\">(7.65919, 6.02551)\\n</td><td style = \"text-align: left;\">(-0.116915, 0.993116)\\n</td></tr><tr><td style = \"text-align: right;\">&vellip;</td><td style = \"text-align: right;\">&vellip;</td><td style = \"text-align: right;\">&vellip;</td><td style = \"text-align: right;\">&vellip;</td></tr><tr><td class = \"rowNumber\" style = \"font-weight: bold; text-align: right;\">390</td><td style = \"text-align: right;\">5.6802</td><td style = \"text-align: left;\">(3.10816, 9.17807)\\n</td><td style = \"text-align: left;\">(0.567103, 0.823641)\\n</td></tr><tr><td class = \"rowNumber\" style = \"font-weight: bold; text-align: right;\">391</td><td style = \"text-align: right;\">5.58968</td><td style = \"text-align: left;\">(3.17209, 9.25497)\\n</td><td style = \"text-align: left;\">(0.63923, 0.769009)\\n</td></tr><tr><td class = \"rowNumber\" style = \"font-weight: bold; text-align: right;\">392</td><td style = \"text-align: right;\">5.69047</td><td style = \"text-align: left;\">(3.22795, 9.33791)\\n</td><td style = \"text-align: left;\">(0.558613, 0.829422)\\n</td></tr><tr><td class = \"rowNumber\" style = \"font-weight: bold; text-align: right;\">393</td><td style = \"text-align: right;\">5.74681</td><td style = \"text-align: left;\">(3.27905, 9.42387)\\n</td><td style = \"text-align: left;\">(0.51102, 0.859563)\\n</td></tr><tr><td class = \"rowNumber\" style = \"font-weight: bold; text-align: right;\">394</td><td style = \"text-align: right;\">5.38265</td><td style = \"text-align: left;\">(3.35741, 9.48599)\\n</td><td style = \"text-align: left;\">(0.783657, 0.621183)\\n</td></tr><tr><td class = \"rowNumber\" style = \"font-weight: bold; text-align: right;\">395</td><td style = \"text-align: right;\">5.34048</td><td style = \"text-align: left;\">(3.43833, 9.54475)\\n</td><td style = \"text-align: left;\">(0.809148, 0.587596)\\n</td></tr><tr><td class = \"rowNumber\" style = \"font-weight: bold; text-align: right;\">396</td><td style = \"text-align: right;\">5.3075</td><td style = \"text-align: left;\">(3.52114, 9.60081)\\n</td><td style = \"text-align: left;\">(0.828082, 0.560597)\\n</td></tr><tr><td class = \"rowNumber\" style = \"font-weight: bold; text-align: right;\">397</td><td style = \"text-align: right;\">4.64773</td><td style = \"text-align: left;\">(3.62093, 9.59435)\\n</td><td style = \"text-align: left;\">(0.997905, -0.0646088)\\n</td></tr><tr><td class = \"rowNumber\" style = \"font-weight: bold; text-align: right;\">398</td><td style = \"text-align: right;\">4.67505</td><td style = \"text-align: left;\">(3.72086, 9.59061)\\n</td><td style = \"text-align: left;\">(0.999297, -0.0373315)\\n</td></tr><tr><td class = \"rowNumber\" style = \"font-weight: bold; text-align: right;\">399</td><td style = \"text-align: right;\">4.39498</td><td style = \"text-align: left;\">(3.81586, 9.5594)\\n</td><td style = \"text-align: left;\">(0.950043, -0.312101)\\n</td></tr><tr><td class = \"rowNumber\" style = \"font-weight: bold; text-align: right;\">400</td><td style = \"text-align: right;\">4.0016</td><td style = \"text-align: left;\">(3.89165, 9.49416)\\n</td><td style = \"text-align: left;\">(0.75784, -0.65243)\\n</td></tr><tr><td class = \"rowNumber\" style = \"font-weight: bold; text-align: right;\">401</td><td style = \"text-align: right;\">3.56062</td><td style = \"text-align: left;\">(3.93233, 9.40281)\\n</td><td style = \"text-align: left;\">(0.406866, -0.913481)\\n</td></tr></tbody></table></div>"
      ],
      "text/latex": [
       "\\begin{tabular}{r|ccc}\n",
       "\t& orientation & pos & vel\\\\\n",
       "\t\\hline\n",
       "\t& Float64 & Vect… & Vect…\\\\\n",
       "\t\\hline\n",
       "\t1 & 2.63366 & (6.86476, 6.13213)\\textbackslash{}n & (-0.486368, -0.873754)\\textbackslash{}n \\\\\n",
       "\t2 & 2.95695 & (6.8464, 6.03384)\\textbackslash{}n & (-0.183592, -0.98297)\\textbackslash{}n \\\\\n",
       "\t3 & 3.40284 & (6.87223, 5.93723)\\textbackslash{}n & (0.258281, -0.966049)\\textbackslash{}n \\\\\n",
       "\t4 & 3.91856 & (6.94234, 5.86593)\\textbackslash{}n & (0.701108, -0.71303)\\textbackslash{}n \\\\\n",
       "\t5 & 4.22084 & (7.0305, 5.81873)\\textbackslash{}n & (0.881588, -0.471986)\\textbackslash{}n \\\\\n",
       "\t6 & 4.44185 & (7.12686, 5.792)\\textbackslash{}n & (0.963612, -0.267251)\\textbackslash{}n \\\\\n",
       "\t7 & 4.52449 & (7.2251, 5.77333)\\textbackslash{}n & (0.982385, -0.186795)\\textbackslash{}n \\\\\n",
       "\t8 & 4.51876 & (7.32323, 5.75408)\\textbackslash{}n & (0.981299, -0.192418)\\textbackslash{}n \\\\\n",
       "\t9 & 4.81596 & (7.42269, 5.76442)\\textbackslash{}n & (0.994624, 0.103384)\\textbackslash{}n \\\\\n",
       "\t10 & 5.12688 & (7.51423, 5.80469)\\textbackslash{}n & (0.915307, 0.402714)\\textbackslash{}n \\\\\n",
       "\t11 & 5.23993 & (7.60063, 5.85503)\\textbackslash{}n & (0.864031, 0.5034)\\textbackslash{}n \\\\\n",
       "\t12 & 5.50428 & (7.67088, 5.9262)\\textbackslash{}n & (0.702486, 0.711669)\\textbackslash{}n \\\\\n",
       "\t13 & 0.117186 & (7.65919, 6.02551)\\textbackslash{}n & (-0.116915, 0.993116)\\textbackslash{}n \\\\\n",
       "\t14 & 0.594601 & (7.60317, 6.10835)\\textbackslash{}n & (-0.560171, 0.82836)\\textbackslash{}n \\\\\n",
       "\t15 & 0.898658 & (7.52492, 6.17061)\\textbackslash{}n & (-0.782482, 0.622652)\\textbackslash{}n \\\\\n",
       "\t16 & 0.955112 & (7.44328, 6.22836)\\textbackslash{}n & (-0.81637, 0.577511)\\textbackslash{}n \\\\\n",
       "\t17 & 0.42588 & (7.40197, 6.31943)\\textbackslash{}n & (-0.413118, 0.910667)\\textbackslash{}n \\\\\n",
       "\t18 & 0.241649 & (7.37804, 6.41652)\\textbackslash{}n & (-0.239302, 0.970936)\\textbackslash{}n \\\\\n",
       "\t19 & 0.179621 & (7.36018, 6.51491)\\textbackslash{}n & (-0.178655, 0.983903)\\textbackslash{}n \\\\\n",
       "\t20 & 0.225992 & (7.33777, 6.61237)\\textbackslash{}n & (-0.224072, 0.974563)\\textbackslash{}n \\\\\n",
       "\t21 & 0.205706 & (7.31734, 6.71026)\\textbackslash{}n & (-0.204256, 0.978909)\\textbackslash{}n \\\\\n",
       "\t22 & 0.166762 & (7.30074, 6.80887)\\textbackslash{}n & (-0.165989, 0.98612)\\textbackslash{}n \\\\\n",
       "\t23 & 0.105612 & (7.2902, 6.90832)\\textbackslash{}n & (-0.105415, 0.994421)\\textbackslash{}n \\\\\n",
       "\t24 & 0.239267 & (7.2665, 7.00547)\\textbackslash{}n & (-0.236989, 0.971504)\\textbackslash{}n \\\\\n",
       "\t25 & 0.34081 & (7.23308, 7.09971)\\textbackslash{}n & (-0.334248, 0.942477)\\textbackslash{}n \\\\\n",
       "\t26 & 0.435316 & (7.19091, 7.19039)\\textbackslash{}n & (-0.421694, 0.90673)\\textbackslash{}n \\\\\n",
       "\t27 & 0.508643 & (7.14221, 7.27773)\\textbackslash{}n & (-0.486989, 0.8734)\\textbackslash{}n \\\\\n",
       "\t28 & 0.584439 & (7.08704, 7.36113)\\textbackslash{}n & (-0.551727, 0.834014)\\textbackslash{}n \\\\\n",
       "\t29 & 0.943327 & (7.00609, 7.41984)\\textbackslash{}n & (-0.809507, 0.587092)\\textbackslash{}n \\\\\n",
       "\t30 & 0.539803 & (6.95469, 7.50562)\\textbackslash{}n & (-0.513961, 0.8578)\\textbackslash{}n \\\\\n",
       "\t$\\dots$ & $\\dots$ & $\\dots$ & $\\dots$ \\\\\n",
       "\\end{tabular}\n"
      ],
      "text/plain": [
       "\u001b[1m401×3 DataFrame\u001b[0m\n",
       "\u001b[1m Row \u001b[0m│\u001b[1m orientation \u001b[0m\u001b[1m pos                  \u001b[0m\u001b[1m vel                      \u001b[0m\n",
       "     │\u001b[90m Float64     \u001b[0m\u001b[90m Vect…                \u001b[0m\u001b[90m Vect…                    \u001b[0m\n",
       "─────┼─────────────────────────────────────────────────────────────\n",
       "   1 │    2.63366   (6.86476, 6.13213)\\n  (-0.486368, -0.873754)\\n\n",
       "   2 │    2.95695   (6.8464, 6.03384)\\n   (-0.183592, -0.98297)\\n\n",
       "   3 │    3.40284   (6.87223, 5.93723)\\n  (0.258281, -0.966049)\\n\n",
       "   4 │    3.91856   (6.94234, 5.86593)\\n  (0.701108, -0.71303)\\n\n",
       "   5 │    4.22084   (7.0305, 5.81873)\\n   (0.881588, -0.471986)\\n\n",
       "   6 │    4.44185   (7.12686, 5.792)\\n    (0.963612, -0.267251)\\n\n",
       "   7 │    4.52449   (7.2251, 5.77333)\\n   (0.982385, -0.186795)\\n\n",
       "   8 │    4.51876   (7.32323, 5.75408)\\n  (0.981299, -0.192418)\\n\n",
       "   9 │    4.81596   (7.42269, 5.76442)\\n  (0.994624, 0.103384)\\n\n",
       "  10 │    5.12688   (7.51423, 5.80469)\\n  (0.915307, 0.402714)\\n\n",
       "  11 │    5.23993   (7.60063, 5.85503)\\n  (0.864031, 0.5034)\\n\n",
       "  ⋮  │      ⋮                ⋮                       ⋮\n",
       " 392 │    5.69047   (3.22795, 9.33791)\\n  (0.558613, 0.829422)\\n\n",
       " 393 │    5.74681   (3.27905, 9.42387)\\n  (0.51102, 0.859563)\\n\n",
       " 394 │    5.38265   (3.35741, 9.48599)\\n  (0.783657, 0.621183)\\n\n",
       " 395 │    5.34048   (3.43833, 9.54475)\\n  (0.809148, 0.587596)\\n\n",
       " 396 │    5.3075    (3.52114, 9.60081)\\n  (0.828082, 0.560597)\\n\n",
       " 397 │    4.64773   (3.62093, 9.59435)\\n  (0.997905, -0.0646088)\\n\n",
       " 398 │    4.67505   (3.72086, 9.59061)\\n  (0.999297, -0.0373315)\\n\n",
       " 399 │    4.39498   (3.81586, 9.5594)\\n   (0.950043, -0.312101)\\n\n",
       " 400 │    4.0016    (3.89165, 9.49416)\\n  (0.75784, -0.65243)\\n\n",
       " 401 │    3.56062   (3.93233, 9.40281)\\n  (0.406866, -0.913481)\\n\n",
       "\u001b[36m                                                   380 rows omitted\u001b[0m"
      ]
     },
     "execution_count": 10,
     "metadata": {},
     "output_type": "execute_result"
    }
   ],
   "source": [
    "df = get_agent_data(model.agents[1], model).record"
   ]
  },
  {
   "cell_type": "code",
   "execution_count": null,
   "metadata": {},
   "outputs": [],
   "source": []
  }
 ],
 "metadata": {
  "@webio": {
   "lastCommId": "55786e6c39ad4b9c875435aa20777fd7",
   "lastKernelId": "aba03b9f-c64e-42cc-8de7-ff0618cf3734"
  },
  "kernelspec": {
   "display_name": "Julia 1.9.2",
   "language": "julia",
   "name": "julia-1.9"
  },
  "language_info": {
   "file_extension": ".jl",
   "mimetype": "application/julia",
   "name": "julia",
   "version": "1.9.2"
  }
 },
 "nbformat": 4,
 "nbformat_minor": 4
}
