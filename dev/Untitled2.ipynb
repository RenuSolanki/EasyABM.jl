{
 "cells": [
  {
   "cell_type": "code",
   "execution_count": 1,
   "metadata": {},
   "outputs": [
    {
     "name": "stderr",
     "output_type": "stream",
     "text": [
      "\u001b[32m\u001b[1m  Activating\u001b[22m\u001b[39m project at `~/Documents/EasyABM`\n",
      "\u001b[36m\u001b[1m[ \u001b[22m\u001b[39m\u001b[36m\u001b[1mInfo: \u001b[22m\u001b[39mPrecompiling EasyABM [2ab8e4d3-e1e9-4248-86a3-8419d2d242e9]\n"
     ]
    },
    {
     "data": {
      "application/vnd.webio.node+json": {
       "children": [],
       "instanceArgs": {
        "namespace": "html",
        "tag": "div"
       },
       "nodeType": "DOM",
       "props": {},
       "type": "node"
      },
      "text/html": [
       "<div style=\"padding: 1em; background-color: #f8d6da; border: 1px solid #f5c6cb; font-weight: bold;\">\n",
       "<p>The WebIO Jupyter extension was not detected. See the\n",
       "<a href=\"https://juliagizmos.github.io/WebIO.jl/latest/providers/ijulia/\" target=\"_blank\">\n",
       "    WebIO Jupyter integration documentation\n",
       "</a>\n",
       "for more information.\n",
       "</div>\n"
      ],
      "text/plain": [
       "WebIO._IJuliaInit()"
      ]
     },
     "metadata": {
      "application/vnd.webio.node+json": {
       "kernelId": "53be1c7a-c4aa-4764-b565-bdcd338f5fe4"
      }
     },
     "output_type": "display_data"
    }
   ],
   "source": [
    "using Pkg, Revise\n",
    "Pkg.activate(joinpath(@__DIR__, \"../..\"))\n",
    "using EasyABM"
   ]
  },
  {
   "cell_type": "code",
   "execution_count": 2,
   "metadata": {},
   "outputs": [
    {
     "data": {
      "text/plain": [
       "SimplePropGraph\n",
       "vertices: [1, 2]\n",
       "edges: \n",
       "1<==>2\n"
      ]
     },
     "execution_count": 2,
     "metadata": {},
     "output_type": "execute_result"
    }
   ],
   "source": [
    "gr = graph_from_dict(Dict(\n",
    "    \"num_nodes\"=>2,\n",
    "    \"edges\"=>[(1,2)]\n",
    "))"
   ]
  },
  {
   "cell_type": "code",
   "execution_count": 3,
   "metadata": {},
   "outputs": [
    {
     "data": {
      "text/plain": [
       "EasyABM GraphModel{Static, Static, EasyABM.SimG}: In a {Static, Static} model both graph topology and agents number is fixed.\n"
      ]
     },
     "execution_count": 3,
     "metadata": {},
     "output_type": "execute_result"
    }
   ],
   "source": [
    "model = create_graph_model(gr, gravity = 9.0, dt=0.1, len= 4.0)"
   ]
  },
  {
   "cell_type": "code",
   "execution_count": 4,
   "metadata": {},
   "outputs": [
    {
     "data": {
      "text/plain": [
       "initialiser! (generic function with 1 method)"
      ]
     },
     "execution_count": 4,
     "metadata": {},
     "output_type": "execute_result"
    }
   ],
   "source": [
    "function initialiser!(model)\n",
    "len = model.parameters.len\n",
    "theta = 30*pi/180\n",
    "pos1 = Vect(5.0, 8.0)\n",
    "pos2 = pos1 + Vect(len*sin(theta), -len*cos(theta))\n",
    "model.graph.nodesprops[1].pos = pos1\n",
    "model.graph.nodesprops[1].size = 0.1\n",
    "#model.graph.nodesprops[2].size = 0.1\n",
    "model.graph.nodesprops[2].pos = pos2\n",
    "model.graph.nodesprops[2].ang_vel = 0.0\n",
    "model.graph.nodesprops[2].angle = theta\n",
    "model.graph.nodesprops[2].color = cl\"blue\"\n",
    "end"
   ]
  },
  {
   "cell_type": "code",
   "execution_count": 5,
   "metadata": {},
   "outputs": [],
   "source": [
    "init_model!(model, initialiser= initialiser!, \n",
    "    props_to_record = Dict(\"nodes\"=>Set([:pos]))) "
   ]
  },
  {
   "cell_type": "code",
   "execution_count": 7,
   "metadata": {
    "scrolled": true
   },
   "outputs": [
    {
     "data": {
      "image/png": "[encoded data removed]",
      "text/plain": []
     },
     "execution_count": 7,
     "metadata": {},
     "output_type": "execute_result"
    }
   ],
   "source": [
    "draw_graph(model.graph)"
   ]
  },
  {
   "cell_type": "code",
   "execution_count": 8,
   "metadata": {},
   "outputs": [
    {
     "data": {
      "text/plain": [
       "step_rule! (generic function with 1 method)"
      ]
     },
     "execution_count": 8,
     "metadata": {},
     "output_type": "execute_result"
    }
   ],
   "source": [
    "function step_rule!(model)\n",
    "    len = model.parameters.len\n",
    "    dt = model.parameters.dt\n",
    "    gravity = model.parameters.gravity\n",
    "    peg = model.graph.nodesprops[1].pos\n",
    "    model.graph.nodesprops[2].angle += model.graph.nodesprops[2].ang_vel*dt\n",
    "    theta =  model.graph.nodesprops[2].angle\n",
    "    model.graph.nodesprops[2].ang_vel += -gravity*sin(theta)*dt/len\n",
    "    model.graph.nodesprops[2].pos = peg + Vect(len*sin(theta), -len*cos(theta))    \n",
    "end"
   ]
  },
  {
   "cell_type": "code",
   "execution_count": 9,
   "metadata": {},
   "outputs": [],
   "source": [
    "run_model!(model, steps = 600, step_rule = step_rule!)"
   ]
  },
  {
   "cell_type": "code",
   "execution_count": 10,
   "metadata": {},
   "outputs": [
    {
     "data": {
      "application/vnd.webio.node+json": {
       "children": [
        {
         "children": [
          {
           "children": [
            {
             "children": [
              {
               "children": [
                {
                 "children": [
                  {
                   "children": [
                    {
                     "children": [
                      "time"
                     ],
                     "instanceArgs": {
                      "namespace": "html",
                      "tag": "label"
                     },
                     "nodeType": "DOM",
                     "props": {
                      "className": "interact ",
                      "style": {
                       "padding": "5px 10px 0px 10px"
                      }
                     },
                     "type": "node"
                    }
                   ],
                   "instanceArgs": {
                    "namespace": "html",
                    "tag": "div"
                   },
                   "nodeType": "DOM",
                   "props": {
                    "className": "interact-flex-row-left"
                   },
                   "type": "node"
                  },
                  {
                   "children": [
                    {
                     "children": [],
                     "instanceArgs": {
                      "namespace": "html",
                      "tag": "input"
                     },
                     "nodeType": "DOM",
                     "props": {
                      "attributes": {
                       "data-bind": "numericValue: index, valueUpdate: 'input', event: {change: function (){this.changes(this.changes()+1)}}",
                       "orient": "horizontal",
                       "type": "range"
                      },
                      "className": "slider slider is-fullwidth",
                      "max": 601,
                      "min": 1,
                      "step": 1,
                      "style": {}
                     },
                     "type": "node"
                    }
                   ],
                   "instanceArgs": {
                    "namespace": "html",
                    "tag": "div"
                   },
                   "nodeType": "DOM",
                   "props": {
                    "className": "interact-flex-row-center"
                   },
                   "type": "node"
                  },
                  {
                   "children": [
                    {
                     "children": [],
                     "instanceArgs": {
                      "namespace": "html",
                      "tag": "p"
                     },
                     "nodeType": "DOM",
                     "props": {
                      "attributes": {
                       "data-bind": "text: formatted_val"
                      }
                     },
                     "type": "node"
                    }
                   ],
                   "instanceArgs": {
                    "namespace": "html",
                    "tag": "div"
                   },
                   "nodeType": "DOM",
                   "props": {
                    "className": "interact-flex-row-right"
                   },
                   "type": "node"
                  }
                 ],
                 "instanceArgs": {
                  "namespace": "html",
                  "tag": "div"
                 },
                 "nodeType": "DOM",
                 "props": {
                  "className": "interact-flex-row interact-widget"
                 },
                 "type": "node"
                }
               ],
               "instanceArgs": {
                "handlers": {
                 "changes": [
                  "(function (val){return (val!=this.model[\"changes\"]()) ? (this.valueFromJulia[\"changes\"]=true, this.model[\"changes\"](val)) : undefined})"
                 ],
                 "index": [
                  "(function (val){return (val!=this.model[\"index\"]()) ? (this.valueFromJulia[\"index\"]=true, this.model[\"index\"](val)) : undefined})"
                 ]
                },
                "id": "17389130361217973988",
                "imports": {
                 "data": [
                  {
                   "name": "knockout",
                   "type": "js",
                   "url": "/assetserver/727383f2a47bd31570b7da84eee7b022dd6d7c78-knockout.js"
                  },
                  {
                   "name": "knockout_punches",
                   "type": "js",
                   "url": "/assetserver/382b41b3b1bd9f26f75861d360bad7f8beea211f-knockout_punches.js"
                  },
                  {
                   "name": null,
                   "type": "js",
                   "url": "/assetserver/5ab20f1060420992a9b82a65b735dee4d81ef413-all.js"
                  },
                  {
                   "name": null,
                   "type": "css",
                   "url": "/assetserver/1cc0ed62837210b80a182cc3676512f895dab686-style.css"
                  },
                  {
                   "name": null,
                   "type": "css",
                   "url": "/assetserver/2eee816f616df3549d7044d45e744fbf8d42bfa1-bulma_confined.min.css"
                  }
                 ],
                 "type": "async_block"
                },
                "mount_callbacks": [
                 "function () {\n    var handler = (function (ko, koPunches) {\n    ko.punches.enableAll();\n    ko.bindingHandlers.numericValue = {\n        init: function(element, valueAccessor, allBindings, data, context) {\n            var stringified = ko.observable(ko.unwrap(valueAccessor()));\n            stringified.subscribe(function(value) {\n                var val = parseFloat(value);\n                if (!isNaN(val)) {\n                    valueAccessor()(val);\n                }\n            });\n            valueAccessor().subscribe(function(value) {\n                var str = JSON.stringify(value);\n                if ((str == \"0\") && ([\"-0\", \"-0.\"].indexOf(stringified()) >= 0))\n                     return;\n                 if ([\"null\", \"\"].indexOf(str) >= 0)\n                     return;\n                stringified(str);\n            });\n            ko.applyBindingsToNode(\n                element,\n                {\n                    value: stringified,\n                    valueUpdate: allBindings.get('valueUpdate'),\n                },\n                context,\n            );\n        }\n    };\n    var json_data = {\"formatted_vals\":[\"1\",\"2\",\"3\",\"4\",\"5\",\"6\",\"7\",\"8\",\"9\",\"10\",\"11\",\"12\",\"13\",\"14\",\"15\",\"16\",\"17\",\"18\",\"19\",\"20\",\"21\",\"22\",\"23\",\"24\",\"25\",\"26\",\"27\",\"28\",\"29\",\"30\",\"31\",\"32\",\"33\",\"34\",\"35\",\"36\",\"37\",\"38\",\"39\",\"40\",\"41\",\"42\",\"43\",\"44\",\"45\",\"46\",\"47\",\"48\",\"49\",\"50\",\"51\",\"52\",\"53\",\"54\",\"55\",\"56\",\"57\",\"58\",\"59\",\"60\",\"61\",\"62\",\"63\",\"64\",\"65\",\"66\",\"67\",\"68\",\"69\",\"70\",\"71\",\"72\",\"73\",\"74\",\"75\",\"76\",\"77\",\"78\",\"79\",\"80\",\"81\",\"82\",\"83\",\"84\",\"85\",\"86\",\"87\",\"88\",\"89\",\"90\",\"91\",\"92\",\"93\",\"94\",\"95\",\"96\",\"97\",\"98\",\"99\",\"100\",\"101\",\"102\",\"103\",\"104\",\"105\",\"106\",\"107\",\"108\",\"109\",\"110\",\"111\",\"112\",\"113\",\"114\",\"115\",\"116\",\"117\",\"118\",\"119\",\"120\",\"121\",\"122\",\"123\",\"124\",\"125\",\"126\",\"127\",\"128\",\"129\",\"130\",\"131\",\"132\",\"133\",\"134\",\"135\",\"136\",\"137\",\"138\",\"139\",\"140\",\"141\",\"142\",\"143\",\"144\",\"145\",\"146\",\"147\",\"148\",\"149\",\"150\",\"151\",\"152\",\"153\",\"154\",\"155\",\"156\",\"157\",\"158\",\"159\",\"160\",\"161\",\"162\",\"163\",\"164\",\"165\",\"166\",\"167\",\"168\",\"169\",\"170\",\"171\",\"172\",\"173\",\"174\",\"175\",\"176\",\"177\",\"178\",\"179\",\"180\",\"181\",\"182\",\"183\",\"184\",\"185\",\"186\",\"187\",\"188\",\"189\",\"190\",\"191\",\"192\",\"193\",\"194\",\"195\",\"196\",\"197\",\"198\",\"199\",\"200\",\"201\",\"202\",\"203\",\"204\",\"205\",\"206\",\"207\",\"208\",\"209\",\"210\",\"211\",\"212\",\"213\",\"214\",\"215\",\"216\",\"217\",\"218\",\"219\",\"220\",\"221\",\"222\",\"223\",\"224\",\"225\",\"226\",\"227\",\"228\",\"229\",\"230\",\"231\",\"232\",\"233\",\"234\",\"235\",\"236\",\"237\",\"238\",\"239\",\"240\",\"241\",\"242\",\"243\",\"244\",\"245\",\"246\",\"247\",\"248\",\"249\",\"250\",\"251\",\"252\",\"253\",\"254\",\"255\",\"256\",\"257\",\"258\",\"259\",\"260\",\"261\",\"262\",\"263\",\"264\",\"265\",\"266\",\"267\",\"268\",\"269\",\"270\",\"271\",\"272\",\"273\",\"274\",\"275\",\"276\",\"277\",\"278\",\"279\",\"280\",\"281\",\"282\",\"283\",\"284\",\"285\",\"286\",\"287\",\"288\",\"289\",\"290\",\"291\",\"292\",\"293\",\"294\",\"295\",\"296\",\"297\",\"298\",\"299\",\"300\",\"301\",\"302\",\"303\",\"304\",\"305\",\"306\",\"307\",\"308\",\"309\",\"310\",\"311\",\"312\",\"313\",\"314\",\"315\",\"316\",\"317\",\"318\",\"319\",\"320\",\"321\",\"322\",\"323\",\"324\",\"325\",\"326\",\"327\",\"328\",\"329\",\"330\",\"331\",\"332\",\"333\",\"334\",\"335\",\"336\",\"337\",\"338\",\"339\",\"340\",\"341\",\"342\",\"343\",\"344\",\"345\",\"346\",\"347\",\"348\",\"349\",\"350\",\"351\",\"352\",\"353\",\"354\",\"355\",\"356\",\"357\",\"358\",\"359\",\"360\",\"361\",\"362\",\"363\",\"364\",\"365\",\"366\",\"367\",\"368\",\"369\",\"370\",\"371\",\"372\",\"373\",\"374\",\"375\",\"376\",\"377\",\"378\",\"379\",\"380\",\"381\",\"382\",\"383\",\"384\",\"385\",\"386\",\"387\",\"388\",\"389\",\"390\",\"391\",\"392\",\"393\",\"394\",\"395\",\"396\",\"397\",\"398\",\"399\",\"400\",\"401\",\"402\",\"403\",\"404\",\"405\",\"406\",\"407\",\"408\",\"409\",\"410\",\"411\",\"412\",\"413\",\"414\",\"415\",\"416\",\"417\",\"418\",\"419\",\"420\",\"421\",\"422\",\"423\",\"424\",\"425\",\"426\",\"427\",\"428\",\"429\",\"430\",\"431\",\"432\",\"433\",\"434\",\"435\",\"436\",\"437\",\"438\",\"439\",\"440\",\"441\",\"442\",\"443\",\"444\",\"445\",\"446\",\"447\",\"448\",\"449\",\"450\",\"451\",\"452\",\"453\",\"454\",\"455\",\"456\",\"457\",\"458\",\"459\",\"460\",\"461\",\"462\",\"463\",\"464\",\"465\",\"466\",\"467\",\"468\",\"469\",\"470\",\"471\",\"472\",\"473\",\"474\",\"475\",\"476\",\"477\",\"478\",\"479\",\"480\",\"481\",\"482\",\"483\",\"484\",\"485\",\"486\",\"487\",\"488\",\"489\",\"490\",\"491\",\"492\",\"493\",\"494\",\"495\",\"496\",\"497\",\"498\",\"499\",\"500\",\"501\",\"502\",\"503\",\"504\",\"505\",\"506\",\"507\",\"508\",\"509\",\"510\",\"511\",\"512\",\"513\",\"514\",\"515\",\"516\",\"517\",\"518\",\"519\",\"520\",\"521\",\"522\",\"523\",\"524\",\"525\",\"526\",\"527\",\"528\",\"529\",\"530\",\"531\",\"532\",\"533\",\"534\",\"535\",\"536\",\"537\",\"538\",\"539\",\"540\",\"541\",\"542\",\"543\",\"544\",\"545\",\"546\",\"547\",\"548\",\"549\",\"550\",\"551\",\"552\",\"553\",\"554\",\"555\",\"556\",\"557\",\"558\",\"559\",\"560\",\"561\",\"562\",\"563\",\"564\",\"565\",\"566\",\"567\",\"568\",\"569\",\"570\",\"571\",\"572\",\"573\",\"574\",\"575\",\"576\",\"577\",\"578\",\"579\",\"580\",\"581\",\"582\",\"583\",\"584\",\"585\",\"586\",\"587\",\"588\",\"589\",\"590\",\"591\",\"592\",\"593\",\"594\",\"595\",\"596\",\"597\",\"598\",\"599\",\"600\",\"601\"],\"changes\":WebIO.getval({\"name\":\"changes\",\"scope\":\"17389130361217973988\",\"id\":\"11022049370538200319\",\"type\":\"observable\"}),\"index\":WebIO.getval({\"name\":\"index\",\"scope\":\"17389130361217973988\",\"id\":\"15898118760340774691\",\"type\":\"observable\"})};\n    var self = this;\n    function AppViewModel() {\n        for (var key in json_data) {\n            var el = json_data[key];\n            this[key] = Array.isArray(el) ? ko.observableArray(el) : ko.observable(el);\n        }\n        \n        [this[\"formatted_val\"]=ko.computed(    function(){\n        return this.formatted_vals()[parseInt(this.index())-(1)];\n    }\n,this)]\n        [this[\"changes\"].subscribe((function (val){!(this.valueFromJulia[\"changes\"]) ? (WebIO.setval({\"name\":\"changes\",\"scope\":\"17389130361217973988\",\"id\":\"11022049370538200319\",\"type\":\"observable\"},val)) : undefined; return this.valueFromJulia[\"changes\"]=false}),self),this[\"index\"].subscribe((function (val){!(this.valueFromJulia[\"index\"]) ? (WebIO.setval({\"name\":\"index\",\"scope\":\"17389130361217973988\",\"id\":\"15898118760340774691\",\"type\":\"observable\"},val)) : undefined; return this.valueFromJulia[\"index\"]=false}),self)]\n        \n    }\n    self.model = new AppViewModel();\n    self.valueFromJulia = {};\n    for (var key in json_data) {\n        self.valueFromJulia[key] = false;\n    }\n    ko.applyBindings(self.model, self.dom);\n}\n);\n    (WebIO.importBlock({\"data\":[{\"name\":\"knockout\",\"type\":\"js\",\"url\":\"/assetserver/727383f2a47bd31570b7da84eee7b022dd6d7c78-knockout.js\"},{\"name\":\"knockout_punches\",\"type\":\"js\",\"url\":\"/assetserver/382b41b3b1bd9f26f75861d360bad7f8beea211f-knockout_punches.js\"}],\"type\":\"async_block\"})).then((imports) => handler.apply(this, imports));\n}\n"
                ],
                "observables": {
                 "changes": {
                  "id": "11022049370538200319",
                  "sync": false,
                  "value": 0
                 },
                 "index": {
                  "id": "15898118760340774691",
                  "sync": true,
                  "value": 301
                 }
                },
                "systemjs_options": null
               },
               "nodeType": "Scope",
               "props": {},
               "type": "node"
              }
             ],
             "instanceArgs": {
              "namespace": "html",
              "tag": "div"
             },
             "nodeType": "DOM",
             "props": {
              "className": "field interact-widget"
             },
             "type": "node"
            },
            {
             "children": [
              {
               "children": [
                {
                 "children": [
                  {
                   "children": [
                    {
                     "children": [
                      "scale"
                     ],
                     "instanceArgs": {
                      "namespace": "html",
                      "tag": "label"
                     },
                     "nodeType": "DOM",
                     "props": {
                      "className": "interact ",
                      "style": {
                       "padding": "5px 10px 0px 10px"
                      }
                     },
                     "type": "node"
                    }
                   ],
                   "instanceArgs": {
                    "namespace": "html",
                    "tag": "div"
                   },
                   "nodeType": "DOM",
                   "props": {
                    "className": "interact-flex-row-left"
                   },
                   "type": "node"
                  },
                  {
                   "children": [
                    {
                     "children": [],
                     "instanceArgs": {
                      "namespace": "html",
                      "tag": "input"
                     },
                     "nodeType": "DOM",
                     "props": {
                      "attributes": {
                       "data-bind": "numericValue: index, valueUpdate: 'input', event: {change: function (){this.changes(this.changes()+1)}}",
                       "orient": "horizontal",
                       "type": "range"
                      },
                      "className": "slider slider is-fullwidth",
                      "max": 20,
                      "min": 1,
                      "step": 1,
                      "style": {}
                     },
                     "type": "node"
                    }
                   ],
                   "instanceArgs": {
                    "namespace": "html",
                    "tag": "div"
                   },
                   "nodeType": "DOM",
                   "props": {
                    "className": "interact-flex-row-center"
                   },
                   "type": "node"
                  },
                  {
                   "children": [
                    {
                     "children": [],
                     "instanceArgs": {
                      "namespace": "html",
                      "tag": "p"
                     },
                     "nodeType": "DOM",
                     "props": {
                      "attributes": {
                       "data-bind": "text: formatted_val"
                      }
                     },
                     "type": "node"
                    }
                   ],
                   "instanceArgs": {
                    "namespace": "html",
                    "tag": "div"
                   },
                   "nodeType": "DOM",
                   "props": {
                    "className": "interact-flex-row-right"
                   },
                   "type": "node"
                  }
                 ],
                 "instanceArgs": {
                  "namespace": "html",
                  "tag": "div"
                 },
                 "nodeType": "DOM",
                 "props": {
                  "className": "interact-flex-row interact-widget"
                 },
                 "type": "node"
                }
               ],
               "instanceArgs": {
                "handlers": {
                 "changes": [
                  "(function (val){return (val!=this.model[\"changes\"]()) ? (this.valueFromJulia[\"changes\"]=true, this.model[\"changes\"](val)) : undefined})"
                 ],
                 "index": [
                  "(function (val){return (val!=this.model[\"index\"]()) ? (this.valueFromJulia[\"index\"]=true, this.model[\"index\"](val)) : undefined})"
                 ]
                },
                "id": "16798210148035089453",
                "imports": {
                 "data": [
                  {
                   "name": "knockout",
                   "type": "js",
                   "url": "/assetserver/727383f2a47bd31570b7da84eee7b022dd6d7c78-knockout.js"
                  },
                  {
                   "name": "knockout_punches",
                   "type": "js",
                   "url": "/assetserver/382b41b3b1bd9f26f75861d360bad7f8beea211f-knockout_punches.js"
                  },
                  {
                   "name": null,
                   "type": "js",
                   "url": "/assetserver/5ab20f1060420992a9b82a65b735dee4d81ef413-all.js"
                  },
                  {
                   "name": null,
                   "type": "css",
                   "url": "/assetserver/1cc0ed62837210b80a182cc3676512f895dab686-style.css"
                  },
                  {
                   "name": null,
                   "type": "css",
                   "url": "/assetserver/2eee816f616df3549d7044d45e744fbf8d42bfa1-bulma_confined.min.css"
                  }
                 ],
                 "type": "async_block"
                },
                "mount_callbacks": [
                 "function () {\n    var handler = (function (ko, koPunches) {\n    ko.punches.enableAll();\n    ko.bindingHandlers.numericValue = {\n        init: function(element, valueAccessor, allBindings, data, context) {\n            var stringified = ko.observable(ko.unwrap(valueAccessor()));\n            stringified.subscribe(function(value) {\n                var val = parseFloat(value);\n                if (!isNaN(val)) {\n                    valueAccessor()(val);\n                }\n            });\n            valueAccessor().subscribe(function(value) {\n                var str = JSON.stringify(value);\n                if ((str == \"0\") && ([\"-0\", \"-0.\"].indexOf(stringified()) >= 0))\n                     return;\n                 if ([\"null\", \"\"].indexOf(str) >= 0)\n                     return;\n                stringified(str);\n            });\n            ko.applyBindingsToNode(\n                element,\n                {\n                    value: stringified,\n                    valueUpdate: allBindings.get('valueUpdate'),\n                },\n                context,\n            );\n        }\n    };\n    var json_data = {\"formatted_vals\":[\"0.1\",\"0.2\",\"0.3\",\"0.4\",\"0.5\",\"0.6\",\"0.7\",\"0.8\",\"0.9\",\"1.0\",\"1.1\",\"1.2\",\"1.3\",\"1.4\",\"1.5\",\"1.6\",\"1.7\",\"1.8\",\"1.9\",\"2.0\"],\"changes\":WebIO.getval({\"name\":\"changes\",\"scope\":\"16798210148035089453\",\"id\":\"12177779730730897326\",\"type\":\"observable\"}),\"index\":WebIO.getval({\"name\":\"index\",\"scope\":\"16798210148035089453\",\"id\":\"16422701882610944173\",\"type\":\"observable\"})};\n    var self = this;\n    function AppViewModel() {\n        for (var key in json_data) {\n            var el = json_data[key];\n            this[key] = Array.isArray(el) ? ko.observableArray(el) : ko.observable(el);\n        }\n        \n        [this[\"formatted_val\"]=ko.computed(    function(){\n        return this.formatted_vals()[parseInt(this.index())-(1)];\n    }\n,this)]\n        [this[\"changes\"].subscribe((function (val){!(this.valueFromJulia[\"changes\"]) ? (WebIO.setval({\"name\":\"changes\",\"scope\":\"16798210148035089453\",\"id\":\"12177779730730897326\",\"type\":\"observable\"},val)) : undefined; return this.valueFromJulia[\"changes\"]=false}),self),this[\"index\"].subscribe((function (val){!(this.valueFromJulia[\"index\"]) ? (WebIO.setval({\"name\":\"index\",\"scope\":\"16798210148035089453\",\"id\":\"16422701882610944173\",\"type\":\"observable\"},val)) : undefined; return this.valueFromJulia[\"index\"]=false}),self)]\n        \n    }\n    self.model = new AppViewModel();\n    self.valueFromJulia = {};\n    for (var key in json_data) {\n        self.valueFromJulia[key] = false;\n    }\n    ko.applyBindings(self.model, self.dom);\n}\n);\n    (WebIO.importBlock({\"data\":[{\"name\":\"knockout\",\"type\":\"js\",\"url\":\"/assetserver/727383f2a47bd31570b7da84eee7b022dd6d7c78-knockout.js\"},{\"name\":\"knockout_punches\",\"type\":\"js\",\"url\":\"/assetserver/382b41b3b1bd9f26f75861d360bad7f8beea211f-knockout_punches.js\"}],\"type\":\"async_block\"})).then((imports) => handler.apply(this, imports));\n}\n"
                ],
                "observables": {
                 "changes": {
                  "id": "12177779730730897326",
                  "sync": false,
                  "value": 0
                 },
                 "index": {
                  "id": "16422701882610944173",
                  "sync": true,
                  "value": 10
                 }
                },
                "systemjs_options": null
               },
               "nodeType": "Scope",
               "props": {},
               "type": "node"
              }
             ],
             "instanceArgs": {
              "namespace": "html",
              "tag": "div"
             },
             "nodeType": "DOM",
             "props": {
              "className": "field interact-widget"
             },
             "type": "node"
            },
            {
             "children": [
              {
               "children": [
                {
                 "children": [
                  {
                   "children": [],
                   "instanceArgs": {
                    "namespace": "html",
                    "tag": "div"
                   },
                   "nodeType": "DOM",
                   "props": {
                    "id": "container"
                   },
                   "type": "node"
                  }
                 ],
                 "instanceArgs": {
                  "handlers": {
                   "value": [
                    "(function (txt){return this.k.render(txt,this.container)})"
                   ]
                  },
                  "id": "7432350938806071197",
                  "imports": {
                   "data": [
                    {
                     "name": null,
                     "type": "js",
                     "url": "/assetserver/dd22ed1bf1896c2748f3fe616ce0b838adc895c1-katex.min.js"
                    },
                    {
                     "name": null,
                     "type": "css",
                     "url": "/assetserver/46517a424aa5e6cffc1360d7e0848b601c584ee3-katex.min.css"
                    }
                   ],
                   "type": "async_block"
                  },
                  "mount_callbacks": [
                   "function () {\n    var handler = ((function (k){this.k=k; this.container=this.dom.querySelector(\"#container\"); return k.render(\"\\\\;\\\\;\",this.container)}));\n    (WebIO.importBlock({\"data\":[{\"name\":null,\"type\":\"js\",\"url\":\"/assetserver/dd22ed1bf1896c2748f3fe616ce0b838adc895c1-katex.min.js\"},{\"name\":null,\"type\":\"css\",\"url\":\"/assetserver/46517a424aa5e6cffc1360d7e0848b601c584ee3-katex.min.css\"}],\"type\":\"async_block\"})).then((imports) => handler.apply(this, imports));\n}\n"
                  ],
                  "observables": {
                   "value": {
                    "id": "2019483736889337957",
                    "sync": false,
                    "value": "\\;\\;"
                   }
                  },
                  "systemjs_options": null
                 },
                 "nodeType": "Scope",
                 "props": {},
                 "type": "node"
                }
               ],
               "instanceArgs": {
                "namespace": "html",
                "tag": "div"
               },
               "nodeType": "DOM",
               "props": {
                "className": "interact-widget"
               },
               "type": "node"
              },
              {
               "children": [
                {
                 "children": [
                  {
                   "children": [
                    "run"
                   ],
                   "instanceArgs": {
                    "namespace": "html",
                    "tag": "button"
                   },
                   "nodeType": "DOM",
                   "props": {
                    "attributes": {
                     "data-bind": "click: function (){this.clicks(this.clicks()+1)}, css: {'is-loading' : loading}"
                    },
                    "className": "is-medium button is-primary",
                    "style": {}
                   },
                   "type": "node"
                  }
                 ],
                 "instanceArgs": {
                  "handlers": {
                   "clicks": [
                    "(function (val){return (val!=this.model[\"clicks\"]()) ? (this.valueFromJulia[\"clicks\"]=true, this.model[\"clicks\"](val)) : undefined})"
                   ],
                   "loading": [
                    "(function (val){return (val!=this.model[\"loading\"]()) ? (this.valueFromJulia[\"loading\"]=true, this.model[\"loading\"](val)) : undefined})"
                   ]
                  },
                  "id": "14127188900002982303",
                  "imports": {
                   "data": [
                    {
                     "name": "knockout",
                     "type": "js",
                     "url": "/assetserver/727383f2a47bd31570b7da84eee7b022dd6d7c78-knockout.js"
                    },
                    {
                     "name": "knockout_punches",
                     "type": "js",
                     "url": "/assetserver/382b41b3b1bd9f26f75861d360bad7f8beea211f-knockout_punches.js"
                    },
                    {
                     "name": null,
                     "type": "js",
                     "url": "/assetserver/5ab20f1060420992a9b82a65b735dee4d81ef413-all.js"
                    },
                    {
                     "name": null,
                     "type": "css",
                     "url": "/assetserver/1cc0ed62837210b80a182cc3676512f895dab686-style.css"
                    },
                    {
                     "name": null,
                     "type": "css",
                     "url": "/assetserver/2eee816f616df3549d7044d45e744fbf8d42bfa1-bulma_confined.min.css"
                    }
                   ],
                   "type": "async_block"
                  },
                  "mount_callbacks": [
                   "function () {\n    var handler = (function (ko, koPunches) {\n    ko.punches.enableAll();\n    ko.bindingHandlers.numericValue = {\n        init: function(element, valueAccessor, allBindings, data, context) {\n            var stringified = ko.observable(ko.unwrap(valueAccessor()));\n            stringified.subscribe(function(value) {\n                var val = parseFloat(value);\n                if (!isNaN(val)) {\n                    valueAccessor()(val);\n                }\n            });\n            valueAccessor().subscribe(function(value) {\n                var str = JSON.stringify(value);\n                if ((str == \"0\") && ([\"-0\", \"-0.\"].indexOf(stringified()) >= 0))\n                     return;\n                 if ([\"null\", \"\"].indexOf(str) >= 0)\n                     return;\n                stringified(str);\n            });\n            ko.applyBindingsToNode(\n                element,\n                {\n                    value: stringified,\n                    valueUpdate: allBindings.get('valueUpdate'),\n                },\n                context,\n            );\n        }\n    };\n    var json_data = {\"loading\":WebIO.getval({\"name\":\"loading\",\"scope\":\"14127188900002982303\",\"id\":\"7438403378802749590\",\"type\":\"observable\"}),\"clicks\":WebIO.getval({\"name\":\"clicks\",\"scope\":\"14127188900002982303\",\"id\":\"13760782673656901908\",\"type\":\"observable\"})};\n    var self = this;\n    function AppViewModel() {\n        for (var key in json_data) {\n            var el = json_data[key];\n            this[key] = Array.isArray(el) ? ko.observableArray(el) : ko.observable(el);\n        }\n        \n        \n        [this[\"loading\"].subscribe((function (val){!(this.valueFromJulia[\"loading\"]) ? (WebIO.setval({\"name\":\"loading\",\"scope\":\"14127188900002982303\",\"id\":\"7438403378802749590\",\"type\":\"observable\"},val)) : undefined; return this.valueFromJulia[\"loading\"]=false}),self),this[\"clicks\"].subscribe((function (val){!(this.valueFromJulia[\"clicks\"]) ? (WebIO.setval({\"name\":\"clicks\",\"scope\":\"14127188900002982303\",\"id\":\"13760782673656901908\",\"type\":\"observable\"},val)) : undefined; return this.valueFromJulia[\"clicks\"]=false}),self)]\n        \n    }\n    self.model = new AppViewModel();\n    self.valueFromJulia = {};\n    for (var key in json_data) {\n        self.valueFromJulia[key] = false;\n    }\n    ko.applyBindings(self.model, self.dom);\n}\n);\n    (WebIO.importBlock({\"data\":[{\"name\":\"knockout\",\"type\":\"js\",\"url\":\"/assetserver/727383f2a47bd31570b7da84eee7b022dd6d7c78-knockout.js\"},{\"name\":\"knockout_punches\",\"type\":\"js\",\"url\":\"/assetserver/382b41b3b1bd9f26f75861d360bad7f8beea211f-knockout_punches.js\"}],\"type\":\"async_block\"})).then((imports) => handler.apply(this, imports));\n}\n"
                  ],
                  "observables": {
                   "clicks": {
                    "id": "13760782673656901908",
                    "sync": true,
                    "value": 0
                   },
                   "loading": {
                    "id": "7438403378802749590",
                    "sync": false,
                    "value": false
                   }
                  },
                  "systemjs_options": null
                 },
                 "nodeType": "Scope",
                 "props": {},
                 "type": "node"
                }
               ],
               "instanceArgs": {
                "namespace": "html",
                "tag": "div"
               },
               "nodeType": "DOM",
               "props": {
                "className": "field interact-widget"
               },
               "type": "node"
              },
              {
               "children": [
                {
                 "children": [
                  {
                   "children": [],
                   "instanceArgs": {
                    "namespace": "html",
                    "tag": "div"
                   },
                   "nodeType": "DOM",
                   "props": {
                    "id": "container"
                   },
                   "type": "node"
                  }
                 ],
                 "instanceArgs": {
                  "handlers": {
                   "value": [
                    "(function (txt){return this.k.render(txt,this.container)})"
                   ]
                  },
                  "id": "7432350938806071197",
                  "imports": {
                   "data": [
                    {
                     "name": null,
                     "type": "js",
                     "url": "/assetserver/dd22ed1bf1896c2748f3fe616ce0b838adc895c1-katex.min.js"
                    },
                    {
                     "name": null,
                     "type": "css",
                     "url": "/assetserver/46517a424aa5e6cffc1360d7e0848b601c584ee3-katex.min.css"
                    }
                   ],
                   "type": "async_block"
                  },
                  "mount_callbacks": [
                   "function () {\n    var handler = ((function (k){this.k=k; this.container=this.dom.querySelector(\"#container\"); return k.render(\"\\\\;\\\\;\",this.container)}));\n    (WebIO.importBlock({\"data\":[{\"name\":null,\"type\":\"js\",\"url\":\"/assetserver/dd22ed1bf1896c2748f3fe616ce0b838adc895c1-katex.min.js\"},{\"name\":null,\"type\":\"css\",\"url\":\"/assetserver/46517a424aa5e6cffc1360d7e0848b601c584ee3-katex.min.css\"}],\"type\":\"async_block\"})).then((imports) => handler.apply(this, imports));\n}\n"
                  ],
                  "observables": {
                   "value": {
                    "id": "2019483736889337957",
                    "sync": false,
                    "value": "\\;\\;"
                   }
                  },
                  "systemjs_options": null
                 },
                 "nodeType": "Scope",
                 "props": {},
                 "type": "node"
                }
               ],
               "instanceArgs": {
                "namespace": "html",
                "tag": "div"
               },
               "nodeType": "DOM",
               "props": {
                "className": "interact-widget"
               },
               "type": "node"
              },
              {
               "children": [
                {
                 "children": [
                  {
                   "children": [
                    "stop"
                   ],
                   "instanceArgs": {
                    "namespace": "html",
                    "tag": "button"
                   },
                   "nodeType": "DOM",
                   "props": {
                    "attributes": {
                     "data-bind": "click: function (){this.clicks(this.clicks()+1)}, css: {'is-loading' : loading}"
                    },
                    "className": "is-medium button is-primary",
                    "style": {}
                   },
                   "type": "node"
                  }
                 ],
                 "instanceArgs": {
                  "handlers": {
                   "clicks": [
                    "(function (val){return (val!=this.model[\"clicks\"]()) ? (this.valueFromJulia[\"clicks\"]=true, this.model[\"clicks\"](val)) : undefined})"
                   ],
                   "loading": [
                    "(function (val){return (val!=this.model[\"loading\"]()) ? (this.valueFromJulia[\"loading\"]=true, this.model[\"loading\"](val)) : undefined})"
                   ]
                  },
                  "id": "5763325727150945512",
                  "imports": {
                   "data": [
                    {
                     "name": "knockout",
                     "type": "js",
                     "url": "/assetserver/727383f2a47bd31570b7da84eee7b022dd6d7c78-knockout.js"
                    },
                    {
                     "name": "knockout_punches",
                     "type": "js",
                     "url": "/assetserver/382b41b3b1bd9f26f75861d360bad7f8beea211f-knockout_punches.js"
                    },
                    {
                     "name": null,
                     "type": "js",
                     "url": "/assetserver/5ab20f1060420992a9b82a65b735dee4d81ef413-all.js"
                    },
                    {
                     "name": null,
                     "type": "css",
                     "url": "/assetserver/1cc0ed62837210b80a182cc3676512f895dab686-style.css"
                    },
                    {
                     "name": null,
                     "type": "css",
                     "url": "/assetserver/2eee816f616df3549d7044d45e744fbf8d42bfa1-bulma_confined.min.css"
                    }
                   ],
                   "type": "async_block"
                  },
                  "mount_callbacks": [
                   "function () {\n    var handler = (function (ko, koPunches) {\n    ko.punches.enableAll();\n    ko.bindingHandlers.numericValue = {\n        init: function(element, valueAccessor, allBindings, data, context) {\n            var stringified = ko.observable(ko.unwrap(valueAccessor()));\n            stringified.subscribe(function(value) {\n                var val = parseFloat(value);\n                if (!isNaN(val)) {\n                    valueAccessor()(val);\n                }\n            });\n            valueAccessor().subscribe(function(value) {\n                var str = JSON.stringify(value);\n                if ((str == \"0\") && ([\"-0\", \"-0.\"].indexOf(stringified()) >= 0))\n                     return;\n                 if ([\"null\", \"\"].indexOf(str) >= 0)\n                     return;\n                stringified(str);\n            });\n            ko.applyBindingsToNode(\n                element,\n                {\n                    value: stringified,\n                    valueUpdate: allBindings.get('valueUpdate'),\n                },\n                context,\n            );\n        }\n    };\n    var json_data = {\"loading\":WebIO.getval({\"name\":\"loading\",\"scope\":\"5763325727150945512\",\"id\":\"15102463312342509603\",\"type\":\"observable\"}),\"clicks\":WebIO.getval({\"name\":\"clicks\",\"scope\":\"5763325727150945512\",\"id\":\"4349330505519181502\",\"type\":\"observable\"})};\n    var self = this;\n    function AppViewModel() {\n        for (var key in json_data) {\n            var el = json_data[key];\n            this[key] = Array.isArray(el) ? ko.observableArray(el) : ko.observable(el);\n        }\n        \n        \n        [this[\"loading\"].subscribe((function (val){!(this.valueFromJulia[\"loading\"]) ? (WebIO.setval({\"name\":\"loading\",\"scope\":\"5763325727150945512\",\"id\":\"15102463312342509603\",\"type\":\"observable\"},val)) : undefined; return this.valueFromJulia[\"loading\"]=false}),self),this[\"clicks\"].subscribe((function (val){!(this.valueFromJulia[\"clicks\"]) ? (WebIO.setval({\"name\":\"clicks\",\"scope\":\"5763325727150945512\",\"id\":\"4349330505519181502\",\"type\":\"observable\"},val)) : undefined; return this.valueFromJulia[\"clicks\"]=false}),self)]\n        \n    }\n    self.model = new AppViewModel();\n    self.valueFromJulia = {};\n    for (var key in json_data) {\n        self.valueFromJulia[key] = false;\n    }\n    ko.applyBindings(self.model, self.dom);\n}\n);\n    (WebIO.importBlock({\"data\":[{\"name\":\"knockout\",\"type\":\"js\",\"url\":\"/assetserver/727383f2a47bd31570b7da84eee7b022dd6d7c78-knockout.js\"},{\"name\":\"knockout_punches\",\"type\":\"js\",\"url\":\"/assetserver/382b41b3b1bd9f26f75861d360bad7f8beea211f-knockout_punches.js\"}],\"type\":\"async_block\"})).then((imports) => handler.apply(this, imports));\n}\n"
                  ],
                  "observables": {
                   "clicks": {
                    "id": "4349330505519181502",
                    "sync": true,
                    "value": 0
                   },
                   "loading": {
                    "id": "15102463312342509603",
                    "sync": false,
                    "value": false
                   }
                  },
                  "systemjs_options": null
                 },
                 "nodeType": "Scope",
                 "props": {},
                 "type": "node"
                }
               ],
               "instanceArgs": {
                "namespace": "html",
                "tag": "div"
               },
               "nodeType": "DOM",
               "props": {
                "className": "field interact-widget"
               },
               "type": "node"
              },
              {
               "children": [
                {
                 "children": [
                  {
                   "children": [],
                   "instanceArgs": {
                    "namespace": "html",
                    "tag": "div"
                   },
                   "nodeType": "DOM",
                   "props": {
                    "id": "container"
                   },
                   "type": "node"
                  }
                 ],
                 "instanceArgs": {
                  "handlers": {
                   "value": [
                    "(function (txt){return this.k.render(txt,this.container)})"
                   ]
                  },
                  "id": "7432350938806071197",
                  "imports": {
                   "data": [
                    {
                     "name": null,
                     "type": "js",
                     "url": "/assetserver/dd22ed1bf1896c2748f3fe616ce0b838adc895c1-katex.min.js"
                    },
                    {
                     "name": null,
                     "type": "css",
                     "url": "/assetserver/46517a424aa5e6cffc1360d7e0848b601c584ee3-katex.min.css"
                    }
                   ],
                   "type": "async_block"
                  },
                  "mount_callbacks": [
                   "function () {\n    var handler = ((function (k){this.k=k; this.container=this.dom.querySelector(\"#container\"); return k.render(\"\\\\;\\\\;\",this.container)}));\n    (WebIO.importBlock({\"data\":[{\"name\":null,\"type\":\"js\",\"url\":\"/assetserver/dd22ed1bf1896c2748f3fe616ce0b838adc895c1-katex.min.js\"},{\"name\":null,\"type\":\"css\",\"url\":\"/assetserver/46517a424aa5e6cffc1360d7e0848b601c584ee3-katex.min.css\"}],\"type\":\"async_block\"})).then((imports) => handler.apply(this, imports));\n}\n"
                  ],
                  "observables": {
                   "value": {
                    "id": "2019483736889337957",
                    "sync": false,
                    "value": "\\;\\;"
                   }
                  },
                  "systemjs_options": null
                 },
                 "nodeType": "Scope",
                 "props": {},
                 "type": "node"
                }
               ],
               "instanceArgs": {
                "namespace": "html",
                "tag": "div"
               },
               "nodeType": "DOM",
               "props": {
                "className": "interact-widget"
               },
               "type": "node"
              },
              {
               "children": [
                {
                 "children": [
                  {
                   "children": [
                    "save"
                   ],
                   "instanceArgs": {
                    "namespace": "html",
                    "tag": "button"
                   },
                   "nodeType": "DOM",
                   "props": {
                    "attributes": {
                     "data-bind": "click: function (){this.clicks(this.clicks()+1)}, css: {'is-loading' : loading}"
                    },
                    "className": "is-medium button is-primary",
                    "style": {}
                   },
                   "type": "node"
                  }
                 ],
                 "instanceArgs": {
                  "handlers": {
                   "clicks": [
                    "(function (val){return (val!=this.model[\"clicks\"]()) ? (this.valueFromJulia[\"clicks\"]=true, this.model[\"clicks\"](val)) : undefined})"
                   ],
                   "loading": [
                    "(function (val){return (val!=this.model[\"loading\"]()) ? (this.valueFromJulia[\"loading\"]=true, this.model[\"loading\"](val)) : undefined})"
                   ]
                  },
                  "id": "16086116833600981377",
                  "imports": {
                   "data": [
                    {
                     "name": "knockout",
                     "type": "js",
                     "url": "/assetserver/727383f2a47bd31570b7da84eee7b022dd6d7c78-knockout.js"
                    },
                    {
                     "name": "knockout_punches",
                     "type": "js",
                     "url": "/assetserver/382b41b3b1bd9f26f75861d360bad7f8beea211f-knockout_punches.js"
                    },
                    {
                     "name": null,
                     "type": "js",
                     "url": "/assetserver/5ab20f1060420992a9b82a65b735dee4d81ef413-all.js"
                    },
                    {
                     "name": null,
                     "type": "css",
                     "url": "/assetserver/1cc0ed62837210b80a182cc3676512f895dab686-style.css"
                    },
                    {
                     "name": null,
                     "type": "css",
                     "url": "/assetserver/2eee816f616df3549d7044d45e744fbf8d42bfa1-bulma_confined.min.css"
                    }
                   ],
                   "type": "async_block"
                  },
                  "mount_callbacks": [
                   "function () {\n    var handler = (function (ko, koPunches) {\n    ko.punches.enableAll();\n    ko.bindingHandlers.numericValue = {\n        init: function(element, valueAccessor, allBindings, data, context) {\n            var stringified = ko.observable(ko.unwrap(valueAccessor()));\n            stringified.subscribe(function(value) {\n                var val = parseFloat(value);\n                if (!isNaN(val)) {\n                    valueAccessor()(val);\n                }\n            });\n            valueAccessor().subscribe(function(value) {\n                var str = JSON.stringify(value);\n                if ((str == \"0\") && ([\"-0\", \"-0.\"].indexOf(stringified()) >= 0))\n                     return;\n                 if ([\"null\", \"\"].indexOf(str) >= 0)\n                     return;\n                stringified(str);\n            });\n            ko.applyBindingsToNode(\n                element,\n                {\n                    value: stringified,\n                    valueUpdate: allBindings.get('valueUpdate'),\n                },\n                context,\n            );\n        }\n    };\n    var json_data = {\"loading\":WebIO.getval({\"name\":\"loading\",\"scope\":\"16086116833600981377\",\"id\":\"17671725763756650091\",\"type\":\"observable\"}),\"clicks\":WebIO.getval({\"name\":\"clicks\",\"scope\":\"16086116833600981377\",\"id\":\"5606975105226550989\",\"type\":\"observable\"})};\n    var self = this;\n    function AppViewModel() {\n        for (var key in json_data) {\n            var el = json_data[key];\n            this[key] = Array.isArray(el) ? ko.observableArray(el) : ko.observable(el);\n        }\n        \n        \n        [this[\"loading\"].subscribe((function (val){!(this.valueFromJulia[\"loading\"]) ? (WebIO.setval({\"name\":\"loading\",\"scope\":\"16086116833600981377\",\"id\":\"17671725763756650091\",\"type\":\"observable\"},val)) : undefined; return this.valueFromJulia[\"loading\"]=false}),self),this[\"clicks\"].subscribe((function (val){!(this.valueFromJulia[\"clicks\"]) ? (WebIO.setval({\"name\":\"clicks\",\"scope\":\"16086116833600981377\",\"id\":\"5606975105226550989\",\"type\":\"observable\"},val)) : undefined; return this.valueFromJulia[\"clicks\"]=false}),self)]\n        \n    }\n    self.model = new AppViewModel();\n    self.valueFromJulia = {};\n    for (var key in json_data) {\n        self.valueFromJulia[key] = false;\n    }\n    ko.applyBindings(self.model, self.dom);\n}\n);\n    (WebIO.importBlock({\"data\":[{\"name\":\"knockout\",\"type\":\"js\",\"url\":\"/assetserver/727383f2a47bd31570b7da84eee7b022dd6d7c78-knockout.js\"},{\"name\":\"knockout_punches\",\"type\":\"js\",\"url\":\"/assetserver/382b41b3b1bd9f26f75861d360bad7f8beea211f-knockout_punches.js\"}],\"type\":\"async_block\"})).then((imports) => handler.apply(this, imports));\n}\n"
                  ],
                  "observables": {
                   "clicks": {
                    "id": "5606975105226550989",
                    "sync": true,
                    "value": 0
                   },
                   "loading": {
                    "id": "17671725763756650091",
                    "sync": false,
                    "value": false
                   }
                  },
                  "systemjs_options": null
                 },
                 "nodeType": "Scope",
                 "props": {},
                 "type": "node"
                }
               ],
               "instanceArgs": {
                "namespace": "html",
                "tag": "div"
               },
               "nodeType": "DOM",
               "props": {
                "className": "field interact-widget"
               },
               "type": "node"
              }
             ],
             "instanceArgs": {
              "namespace": "html",
              "tag": "div"
             },
             "nodeType": "DOM",
             "props": {
              "style": {
               "display": "flex",
               "flex-direction": "row"
              }
             },
             "type": "node"
            }
           ],
           "instanceArgs": {
            "namespace": "html",
            "tag": "div"
           },
           "nodeType": "DOM",
           "props": {
            "style": {
             "display": "flex",
             "flex-direction": "column"
            }
           },
           "type": "node"
          },
          {
           "children": [
            {
             "children": [
              {
               "children": [],
               "instanceArgs": {
                "namespace": "html",
                "tag": "div"
               },
               "nodeType": "DOM",
               "props": {
                "id": "container"
               },
               "type": "node"
              }
             ],
             "instanceArgs": {
              "handlers": {
               "value": [
                "(function (txt){return this.k.render(txt,this.container)})"
               ]
              },
              "id": "7432350938806071197",
              "imports": {
               "data": [
                {
                 "name": null,
                 "type": "js",
                 "url": "/assetserver/dd22ed1bf1896c2748f3fe616ce0b838adc895c1-katex.min.js"
                },
                {
                 "name": null,
                 "type": "css",
                 "url": "/assetserver/46517a424aa5e6cffc1360d7e0848b601c584ee3-katex.min.css"
                }
               ],
               "type": "async_block"
              },
              "mount_callbacks": [
               "function () {\n    var handler = ((function (k){this.k=k; this.container=this.dom.querySelector(\"#container\"); return k.render(\"\\\\;\\\\;\",this.container)}));\n    (WebIO.importBlock({\"data\":[{\"name\":null,\"type\":\"js\",\"url\":\"/assetserver/dd22ed1bf1896c2748f3fe616ce0b838adc895c1-katex.min.js\"},{\"name\":null,\"type\":\"css\",\"url\":\"/assetserver/46517a424aa5e6cffc1360d7e0848b601c584ee3-katex.min.css\"}],\"type\":\"async_block\"})).then((imports) => handler.apply(this, imports));\n}\n"
              ],
              "observables": {
               "value": {
                "id": "2019483736889337957",
                "sync": false,
                "value": "\\;\\;"
               }
              },
              "systemjs_options": null
             },
             "nodeType": "Scope",
             "props": {},
             "type": "node"
            }
           ],
           "instanceArgs": {
            "namespace": "html",
            "tag": "div"
           },
           "nodeType": "DOM",
           "props": {
            "className": "interact-widget"
           },
           "type": "node"
          },
          {
           "children": [
            {
             "children": [],
             "instanceArgs": {
              "namespace": "html",
              "tag": "div"
             },
             "nodeType": "DOM",
             "props": {
              "className": "webio-observable",
              "setInnerHtml": "<img src='data:image/png;base64,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'></img>"
             },
             "type": "node"
            }
           ],
           "instanceArgs": {
            "handlers": {
             "obs-output": [
              "function (value, scope) {\n    scope.setInnerHTML(value);\n}\n"
             ]
            },
            "id": "9491640075215857870",
            "imports": {
             "data": [],
             "type": "async_block"
            },
            "mount_callbacks": [],
            "observables": {
             "obs-output": {
              "id": "9151036426077236187",
              "sync": false,
              "value": "<img src='data:image/png;base64,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'></img>"
             }
            },
            "systemjs_options": null
           },
           "nodeType": "Scope",
           "props": {},
           "type": "node"
          },
          {
           "children": [
            {
             "children": [
              {
               "children": [],
               "instanceArgs": {
                "namespace": "html",
                "tag": "div"
               },
               "nodeType": "DOM",
               "props": {
                "id": "container"
               },
               "type": "node"
              }
             ],
             "instanceArgs": {
              "handlers": {
               "value": [
                "(function (txt){return this.k.render(txt,this.container)})"
               ]
              },
              "id": "7432350938806071197",
              "imports": {
               "data": [
                {
                 "name": null,
                 "type": "js",
                 "url": "/assetserver/dd22ed1bf1896c2748f3fe616ce0b838adc895c1-katex.min.js"
                },
                {
                 "name": null,
                 "type": "css",
                 "url": "/assetserver/46517a424aa5e6cffc1360d7e0848b601c584ee3-katex.min.css"
                }
               ],
               "type": "async_block"
              },
              "mount_callbacks": [
               "function () {\n    var handler = ((function (k){this.k=k; this.container=this.dom.querySelector(\"#container\"); return k.render(\"\\\\;\\\\;\",this.container)}));\n    (WebIO.importBlock({\"data\":[{\"name\":null,\"type\":\"js\",\"url\":\"/assetserver/dd22ed1bf1896c2748f3fe616ce0b838adc895c1-katex.min.js\"},{\"name\":null,\"type\":\"css\",\"url\":\"/assetserver/46517a424aa5e6cffc1360d7e0848b601c584ee3-katex.min.css\"}],\"type\":\"async_block\"})).then((imports) => handler.apply(this, imports));\n}\n"
              ],
              "observables": {
               "value": {
                "id": "2019483736889337957",
                "sync": false,
                "value": "\\;\\;"
               }
              },
              "systemjs_options": null
             },
             "nodeType": "Scope",
             "props": {},
             "type": "node"
            }
           ],
           "instanceArgs": {
            "namespace": "html",
            "tag": "div"
           },
           "nodeType": "DOM",
           "props": {
            "className": "interact-widget"
           },
           "type": "node"
          },
          {
           "children": [],
           "instanceArgs": {
            "namespace": "html",
            "tag": "div"
           },
           "nodeType": "DOM",
           "props": {
            "style": {
             "display": "flex",
             "flex-direction": "column"
            }
           },
           "type": "node"
          }
         ],
         "instanceArgs": {
          "namespace": "html",
          "tag": "div"
         },
         "nodeType": "DOM",
         "props": {
          "style": {
           "display": "flex",
           "flex-direction": "row"
          }
         },
         "type": "node"
        }
       ],
       "instanceArgs": {
        "namespace": "html",
        "tag": "div"
       },
       "nodeType": "DOM",
       "props": {
        "style": {
         "display": "flex",
         "flex-direction": "column"
        }
       },
       "type": "node"
      },
      "text/html": [
       "<div\n",
       "    class=\"webio-mountpoint\"\n",
       "    data-webio-mountpoint=\"1554901050041393701\"\n",
       ">\n",
       "    <script>\n",
       "    (function(){\n",
       "    // Some integrations (namely, IJulia/Jupyter) use an alternate render pathway than\n",
       "    // just putting the html on the page. If WebIO isn't defined, then it's pretty likely\n",
       "    // that we're in one of those situations and the integration just isn't installed\n",
       "    // correctly.\n",
       "    if (typeof window.WebIO === \"undefined\") {\n",
       "        document\n",
       "            .querySelector('[data-webio-mountpoint=\"1554901050041393701\"]')\n",
       "            .innerHTML = (\n",
       "                '<div style=\"padding: 1em; background-color: #f8d6da; border: 1px solid #f5c6cb; font-weight: bold;\">' +\n",
       "                '<p><strong>WebIO not detected.</strong></p>' +\n",
       "                '<p>Please read ' +\n",
       "                '<a href=\"https://juliagizmos.github.io/WebIO.jl/latest/troubleshooting/not-detected/\" target=\"_blank\">the troubleshooting guide</a> ' +\n",
       "                'for more information on how to resolve this issue.</p>' +\n",
       "                '<p><a href=\"https://juliagizmos.github.io/WebIO.jl/latest/troubleshooting/not-detected/\" target=\"_blank\">https://juliagizmos.github.io/WebIO.jl/latest/troubleshooting/not-detected/</a></p>' +\n",
       "                '</div>'\n",
       "            );\n",
       "        return;\n",
       "    }\n",
       "    WebIO.mount(\n",
       "        document.querySelector('[data-webio-mountpoint=\"1554901050041393701\"]'),\n",
       "        {\"props\":{\"style\":{\"display\":\"flex\",\"flex-direction\":\"column\"}},\"nodeType\":\"DOM\",\"type\":\"node\",\"instanceArgs\":{\"namespace\":\"html\",\"tag\":\"div\"},\"children\":[{\"props\":{\"style\":{\"display\":\"flex\",\"flex-direction\":\"row\"}},\"nodeType\":\"DOM\",\"type\":\"node\",\"instanceArgs\":{\"namespace\":\"html\",\"tag\":\"div\"},\"children\":[{\"props\":{\"style\":{\"display\":\"flex\",\"flex-direction\":\"column\"}},\"nodeType\":\"DOM\",\"type\":\"node\",\"instanceArgs\":{\"namespace\":\"html\",\"tag\":\"div\"},\"children\":[{\"props\":{\"className\":\"field interact-widget\"},\"nodeType\":\"DOM\",\"type\":\"node\",\"instanceArgs\":{\"namespace\":\"html\",\"tag\":\"div\"},\"children\":[{\"props\":{},\"nodeType\":\"Scope\",\"type\":\"node\",\"instanceArgs\":{\"imports\":{\"data\":[{\"name\":\"knockout\",\"type\":\"js\",\"url\":\"\\/assetserver\\/727383f2a47bd31570b7da84eee7b022dd6d7c78-knockout.js\"},{\"name\":\"knockout_punches\",\"type\":\"js\",\"url\":\"\\/assetserver\\/382b41b3b1bd9f26f75861d360bad7f8beea211f-knockout_punches.js\"},{\"name\":null,\"type\":\"js\",\"url\":\"\\/assetserver\\/5ab20f1060420992a9b82a65b735dee4d81ef413-all.js\"},{\"name\":null,\"type\":\"css\",\"url\":\"\\/assetserver\\/1cc0ed62837210b80a182cc3676512f895dab686-style.css\"},{\"name\":null,\"type\":\"css\",\"url\":\"\\/assetserver\\/2eee816f616df3549d7044d45e744fbf8d42bfa1-bulma_confined.min.css\"}],\"type\":\"async_block\"},\"id\":\"17389130361217973988\",\"handlers\":{\"changes\":[\"(function (val){return (val!=this.model[\\\"changes\\\"]()) ? (this.valueFromJulia[\\\"changes\\\"]=true, this.model[\\\"changes\\\"](val)) : undefined})\"],\"index\":[\"(function (val){return (val!=this.model[\\\"index\\\"]()) ? (this.valueFromJulia[\\\"index\\\"]=true, this.model[\\\"index\\\"](val)) : undefined})\"]},\"systemjs_options\":null,\"mount_callbacks\":[\"function () {\\n    var handler = (function (ko, koPunches) {\\n    ko.punches.enableAll();\\n    ko.bindingHandlers.numericValue = {\\n        init: function(element, valueAccessor, allBindings, data, context) {\\n            var stringified = ko.observable(ko.unwrap(valueAccessor()));\\n            stringified.subscribe(function(value) {\\n                var val = parseFloat(value);\\n                if (!isNaN(val)) {\\n                    valueAccessor()(val);\\n                }\\n            });\\n            valueAccessor().subscribe(function(value) {\\n                var str = JSON.stringify(value);\\n                if ((str == \\\"0\\\") && ([\\\"-0\\\", \\\"-0.\\\"].indexOf(stringified()) >= 0))\\n                     return;\\n                 if ([\\\"null\\\", \\\"\\\"].indexOf(str) >= 0)\\n                     return;\\n                stringified(str);\\n            });\\n            ko.applyBindingsToNode(\\n                element,\\n                {\\n                    value: stringified,\\n                    valueUpdate: allBindings.get('valueUpdate'),\\n                },\\n                context,\\n            );\\n        }\\n    };\\n    var json_data = {\\\"formatted_vals\\\":[\\\"1\\\",\\\"2\\\",\\\"3\\\",\\\"4\\\",\\\"5\\\",\\\"6\\\",\\\"7\\\",\\\"8\\\",\\\"9\\\",\\\"10\\\",\\\"11\\\",\\\"12\\\",\\\"13\\\",\\\"14\\\",\\\"15\\\",\\\"16\\\",\\\"17\\\",\\\"18\\\",\\\"19\\\",\\\"20\\\",\\\"21\\\",\\\"22\\\",\\\"23\\\",\\\"24\\\",\\\"25\\\",\\\"26\\\",\\\"27\\\",\\\"28\\\",\\\"29\\\",\\\"30\\\",\\\"31\\\",\\\"32\\\",\\\"33\\\",\\\"34\\\",\\\"35\\\",\\\"36\\\",\\\"37\\\",\\\"38\\\",\\\"39\\\",\\\"40\\\",\\\"41\\\",\\\"42\\\",\\\"43\\\",\\\"44\\\",\\\"45\\\",\\\"46\\\",\\\"47\\\",\\\"48\\\",\\\"49\\\",\\\"50\\\",\\\"51\\\",\\\"52\\\",\\\"53\\\",\\\"54\\\",\\\"55\\\",\\\"56\\\",\\\"57\\\",\\\"58\\\",\\\"59\\\",\\\"60\\\",\\\"61\\\",\\\"62\\\",\\\"63\\\",\\\"64\\\",\\\"65\\\",\\\"66\\\",\\\"67\\\",\\\"68\\\",\\\"69\\\",\\\"70\\\",\\\"71\\\",\\\"72\\\",\\\"73\\\",\\\"74\\\",\\\"75\\\",\\\"76\\\",\\\"77\\\",\\\"78\\\",\\\"79\\\",\\\"80\\\",\\\"81\\\",\\\"82\\\",\\\"83\\\",\\\"84\\\",\\\"85\\\",\\\"86\\\",\\\"87\\\",\\\"88\\\",\\\"89\\\",\\\"90\\\",\\\"91\\\",\\\"92\\\",\\\"93\\\",\\\"94\\\",\\\"95\\\",\\\"96\\\",\\\"97\\\",\\\"98\\\",\\\"99\\\",\\\"100\\\",\\\"101\\\",\\\"102\\\",\\\"103\\\",\\\"104\\\",\\\"105\\\",\\\"106\\\",\\\"107\\\",\\\"108\\\",\\\"109\\\",\\\"110\\\",\\\"111\\\",\\\"112\\\",\\\"113\\\",\\\"114\\\",\\\"115\\\",\\\"116\\\",\\\"117\\\",\\\"118\\\",\\\"119\\\",\\\"120\\\",\\\"121\\\",\\\"122\\\",\\\"123\\\",\\\"124\\\",\\\"125\\\",\\\"126\\\",\\\"127\\\",\\\"128\\\",\\\"129\\\",\\\"130\\\",\\\"131\\\",\\\"132\\\",\\\"133\\\",\\\"134\\\",\\\"135\\\",\\\"136\\\",\\\"137\\\",\\\"138\\\",\\\"139\\\",\\\"140\\\",\\\"141\\\",\\\"142\\\",\\\"143\\\",\\\"144\\\",\\\"145\\\",\\\"146\\\",\\\"147\\\",\\\"148\\\",\\\"149\\\",\\\"150\\\",\\\"151\\\",\\\"152\\\",\\\"153\\\",\\\"154\\\",\\\"155\\\",\\\"156\\\",\\\"157\\\",\\\"158\\\",\\\"159\\\",\\\"160\\\",\\\"161\\\",\\\"162\\\",\\\"163\\\",\\\"164\\\",\\\"165\\\",\\\"166\\\",\\\"167\\\",\\\"168\\\",\\\"169\\\",\\\"170\\\",\\\"171\\\",\\\"172\\\",\\\"173\\\",\\\"174\\\",\\\"175\\\",\\\"176\\\",\\\"177\\\",\\\"178\\\",\\\"179\\\",\\\"180\\\",\\\"181\\\",\\\"182\\\",\\\"183\\\",\\\"184\\\",\\\"185\\\",\\\"186\\\",\\\"187\\\",\\\"188\\\",\\\"189\\\",\\\"190\\\",\\\"191\\\",\\\"192\\\",\\\"193\\\",\\\"194\\\",\\\"195\\\",\\\"196\\\",\\\"197\\\",\\\"198\\\",\\\"199\\\",\\\"200\\\",\\\"201\\\",\\\"202\\\",\\\"203\\\",\\\"204\\\",\\\"205\\\",\\\"206\\\",\\\"207\\\",\\\"208\\\",\\\"209\\\",\\\"210\\\",\\\"211\\\",\\\"212\\\",\\\"213\\\",\\\"214\\\",\\\"215\\\",\\\"216\\\",\\\"217\\\",\\\"218\\\",\\\"219\\\",\\\"220\\\",\\\"221\\\",\\\"222\\\",\\\"223\\\",\\\"224\\\",\\\"225\\\",\\\"226\\\",\\\"227\\\",\\\"228\\\",\\\"229\\\",\\\"230\\\",\\\"231\\\",\\\"232\\\",\\\"233\\\",\\\"234\\\",\\\"235\\\",\\\"236\\\",\\\"237\\\",\\\"238\\\",\\\"239\\\",\\\"240\\\",\\\"241\\\",\\\"242\\\",\\\"243\\\",\\\"244\\\",\\\"245\\\",\\\"246\\\",\\\"247\\\",\\\"248\\\",\\\"249\\\",\\\"250\\\",\\\"251\\\",\\\"252\\\",\\\"253\\\",\\\"254\\\",\\\"255\\\",\\\"256\\\",\\\"257\\\",\\\"258\\\",\\\"259\\\",\\\"260\\\",\\\"261\\\",\\\"262\\\",\\\"263\\\",\\\"264\\\",\\\"265\\\",\\\"266\\\",\\\"267\\\",\\\"268\\\",\\\"269\\\",\\\"270\\\",\\\"271\\\",\\\"272\\\",\\\"273\\\",\\\"274\\\",\\\"275\\\",\\\"276\\\",\\\"277\\\",\\\"278\\\",\\\"279\\\",\\\"280\\\",\\\"281\\\",\\\"282\\\",\\\"283\\\",\\\"284\\\",\\\"285\\\",\\\"286\\\",\\\"287\\\",\\\"288\\\",\\\"289\\\",\\\"290\\\",\\\"291\\\",\\\"292\\\",\\\"293\\\",\\\"294\\\",\\\"295\\\",\\\"296\\\",\\\"297\\\",\\\"298\\\",\\\"299\\\",\\\"300\\\",\\\"301\\\",\\\"302\\\",\\\"303\\\",\\\"304\\\",\\\"305\\\",\\\"306\\\",\\\"307\\\",\\\"308\\\",\\\"309\\\",\\\"310\\\",\\\"311\\\",\\\"312\\\",\\\"313\\\",\\\"314\\\",\\\"315\\\",\\\"316\\\",\\\"317\\\",\\\"318\\\",\\\"319\\\",\\\"320\\\",\\\"321\\\",\\\"322\\\",\\\"323\\\",\\\"324\\\",\\\"325\\\",\\\"326\\\",\\\"327\\\",\\\"328\\\",\\\"329\\\",\\\"330\\\",\\\"331\\\",\\\"332\\\",\\\"333\\\",\\\"334\\\",\\\"335\\\",\\\"336\\\",\\\"337\\\",\\\"338\\\",\\\"339\\\",\\\"340\\\",\\\"341\\\",\\\"342\\\",\\\"343\\\",\\\"344\\\",\\\"345\\\",\\\"346\\\",\\\"347\\\",\\\"348\\\",\\\"349\\\",\\\"350\\\",\\\"351\\\",\\\"352\\\",\\\"353\\\",\\\"354\\\",\\\"355\\\",\\\"356\\\",\\\"357\\\",\\\"358\\\",\\\"359\\\",\\\"360\\\",\\\"361\\\",\\\"362\\\",\\\"363\\\",\\\"364\\\",\\\"365\\\",\\\"366\\\",\\\"367\\\",\\\"368\\\",\\\"369\\\",\\\"370\\\",\\\"371\\\",\\\"372\\\",\\\"373\\\",\\\"374\\\",\\\"375\\\",\\\"376\\\",\\\"377\\\",\\\"378\\\",\\\"379\\\",\\\"380\\\",\\\"381\\\",\\\"382\\\",\\\"383\\\",\\\"384\\\",\\\"385\\\",\\\"386\\\",\\\"387\\\",\\\"388\\\",\\\"389\\\",\\\"390\\\",\\\"391\\\",\\\"392\\\",\\\"393\\\",\\\"394\\\",\\\"395\\\",\\\"396\\\",\\\"397\\\",\\\"398\\\",\\\"399\\\",\\\"400\\\",\\\"401\\\",\\\"402\\\",\\\"403\\\",\\\"404\\\",\\\"405\\\",\\\"406\\\",\\\"407\\\",\\\"408\\\",\\\"409\\\",\\\"410\\\",\\\"411\\\",\\\"412\\\",\\\"413\\\",\\\"414\\\",\\\"415\\\",\\\"416\\\",\\\"417\\\",\\\"418\\\",\\\"419\\\",\\\"420\\\",\\\"421\\\",\\\"422\\\",\\\"423\\\",\\\"424\\\",\\\"425\\\",\\\"426\\\",\\\"427\\\",\\\"428\\\",\\\"429\\\",\\\"430\\\",\\\"431\\\",\\\"432\\\",\\\"433\\\",\\\"434\\\",\\\"435\\\",\\\"436\\\",\\\"437\\\",\\\"438\\\",\\\"439\\\",\\\"440\\\",\\\"441\\\",\\\"442\\\",\\\"443\\\",\\\"444\\\",\\\"445\\\",\\\"446\\\",\\\"447\\\",\\\"448\\\",\\\"449\\\",\\\"450\\\",\\\"451\\\",\\\"452\\\",\\\"453\\\",\\\"454\\\",\\\"455\\\",\\\"456\\\",\\\"457\\\",\\\"458\\\",\\\"459\\\",\\\"460\\\",\\\"461\\\",\\\"462\\\",\\\"463\\\",\\\"464\\\",\\\"465\\\",\\\"466\\\",\\\"467\\\",\\\"468\\\",\\\"469\\\",\\\"470\\\",\\\"471\\\",\\\"472\\\",\\\"473\\\",\\\"474\\\",\\\"475\\\",\\\"476\\\",\\\"477\\\",\\\"478\\\",\\\"479\\\",\\\"480\\\",\\\"481\\\",\\\"482\\\",\\\"483\\\",\\\"484\\\",\\\"485\\\",\\\"486\\\",\\\"487\\\",\\\"488\\\",\\\"489\\\",\\\"490\\\",\\\"491\\\",\\\"492\\\",\\\"493\\\",\\\"494\\\",\\\"495\\\",\\\"496\\\",\\\"497\\\",\\\"498\\\",\\\"499\\\",\\\"500\\\",\\\"501\\\",\\\"502\\\",\\\"503\\\",\\\"504\\\",\\\"505\\\",\\\"506\\\",\\\"507\\\",\\\"508\\\",\\\"509\\\",\\\"510\\\",\\\"511\\\",\\\"512\\\",\\\"513\\\",\\\"514\\\",\\\"515\\\",\\\"516\\\",\\\"517\\\",\\\"518\\\",\\\"519\\\",\\\"520\\\",\\\"521\\\",\\\"522\\\",\\\"523\\\",\\\"524\\\",\\\"525\\\",\\\"526\\\",\\\"527\\\",\\\"528\\\",\\\"529\\\",\\\"530\\\",\\\"531\\\",\\\"532\\\",\\\"533\\\",\\\"534\\\",\\\"535\\\",\\\"536\\\",\\\"537\\\",\\\"538\\\",\\\"539\\\",\\\"540\\\",\\\"541\\\",\\\"542\\\",\\\"543\\\",\\\"544\\\",\\\"545\\\",\\\"546\\\",\\\"547\\\",\\\"548\\\",\\\"549\\\",\\\"550\\\",\\\"551\\\",\\\"552\\\",\\\"553\\\",\\\"554\\\",\\\"555\\\",\\\"556\\\",\\\"557\\\",\\\"558\\\",\\\"559\\\",\\\"560\\\",\\\"561\\\",\\\"562\\\",\\\"563\\\",\\\"564\\\",\\\"565\\\",\\\"566\\\",\\\"567\\\",\\\"568\\\",\\\"569\\\",\\\"570\\\",\\\"571\\\",\\\"572\\\",\\\"573\\\",\\\"574\\\",\\\"575\\\",\\\"576\\\",\\\"577\\\",\\\"578\\\",\\\"579\\\",\\\"580\\\",\\\"581\\\",\\\"582\\\",\\\"583\\\",\\\"584\\\",\\\"585\\\",\\\"586\\\",\\\"587\\\",\\\"588\\\",\\\"589\\\",\\\"590\\\",\\\"591\\\",\\\"592\\\",\\\"593\\\",\\\"594\\\",\\\"595\\\",\\\"596\\\",\\\"597\\\",\\\"598\\\",\\\"599\\\",\\\"600\\\",\\\"601\\\"],\\\"changes\\\":WebIO.getval({\\\"name\\\":\\\"changes\\\",\\\"scope\\\":\\\"17389130361217973988\\\",\\\"id\\\":\\\"11022049370538200319\\\",\\\"type\\\":\\\"observable\\\"}),\\\"index\\\":WebIO.getval({\\\"name\\\":\\\"index\\\",\\\"scope\\\":\\\"17389130361217973988\\\",\\\"id\\\":\\\"15898118760340774691\\\",\\\"type\\\":\\\"observable\\\"})};\\n    var self = this;\\n    function AppViewModel() {\\n        for (var key in json_data) {\\n            var el = json_data[key];\\n            this[key] = Array.isArray(el) ? ko.observableArray(el) : ko.observable(el);\\n        }\\n        \\n        [this[\\\"formatted_val\\\"]=ko.computed(    function(){\\n        return this.formatted_vals()[parseInt(this.index())-(1)];\\n    }\\n,this)]\\n        [this[\\\"changes\\\"].subscribe((function (val){!(this.valueFromJulia[\\\"changes\\\"]) ? (WebIO.setval({\\\"name\\\":\\\"changes\\\",\\\"scope\\\":\\\"17389130361217973988\\\",\\\"id\\\":\\\"11022049370538200319\\\",\\\"type\\\":\\\"observable\\\"},val)) : undefined; return this.valueFromJulia[\\\"changes\\\"]=false}),self),this[\\\"index\\\"].subscribe((function (val){!(this.valueFromJulia[\\\"index\\\"]) ? (WebIO.setval({\\\"name\\\":\\\"index\\\",\\\"scope\\\":\\\"17389130361217973988\\\",\\\"id\\\":\\\"15898118760340774691\\\",\\\"type\\\":\\\"observable\\\"},val)) : undefined; return this.valueFromJulia[\\\"index\\\"]=false}),self)]\\n        \\n    }\\n    self.model = new AppViewModel();\\n    self.valueFromJulia = {};\\n    for (var key in json_data) {\\n        self.valueFromJulia[key] = false;\\n    }\\n    ko.applyBindings(self.model, self.dom);\\n}\\n);\\n    (WebIO.importBlock({\\\"data\\\":[{\\\"name\\\":\\\"knockout\\\",\\\"type\\\":\\\"js\\\",\\\"url\\\":\\\"\\/assetserver\\/727383f2a47bd31570b7da84eee7b022dd6d7c78-knockout.js\\\"},{\\\"name\\\":\\\"knockout_punches\\\",\\\"type\\\":\\\"js\\\",\\\"url\\\":\\\"\\/assetserver\\/382b41b3b1bd9f26f75861d360bad7f8beea211f-knockout_punches.js\\\"}],\\\"type\\\":\\\"async_block\\\"})).then((imports) => handler.apply(this, imports));\\n}\\n\"],\"observables\":{\"changes\":{\"sync\":false,\"id\":\"11022049370538200319\",\"value\":0},\"index\":{\"sync\":true,\"id\":\"15898118760340774691\",\"value\":301}}},\"children\":[{\"props\":{\"className\":\"interact-flex-row interact-widget\"},\"nodeType\":\"DOM\",\"type\":\"node\",\"instanceArgs\":{\"namespace\":\"html\",\"tag\":\"div\"},\"children\":[{\"props\":{\"className\":\"interact-flex-row-left\"},\"nodeType\":\"DOM\",\"type\":\"node\",\"instanceArgs\":{\"namespace\":\"html\",\"tag\":\"div\"},\"children\":[{\"props\":{\"className\":\"interact \",\"style\":{\"padding\":\"5px 10px 0px 10px\"}},\"nodeType\":\"DOM\",\"type\":\"node\",\"instanceArgs\":{\"namespace\":\"html\",\"tag\":\"label\"},\"children\":[\"time\"]}]},{\"props\":{\"className\":\"interact-flex-row-center\"},\"nodeType\":\"DOM\",\"type\":\"node\",\"instanceArgs\":{\"namespace\":\"html\",\"tag\":\"div\"},\"children\":[{\"props\":{\"max\":601,\"min\":1,\"attributes\":{\"type\":\"range\",\"data-bind\":\"numericValue: index, valueUpdate: 'input', event: {change: function (){this.changes(this.changes()+1)}}\",\"orient\":\"horizontal\"},\"step\":1,\"className\":\"slider slider is-fullwidth\",\"style\":{}},\"nodeType\":\"DOM\",\"type\":\"node\",\"instanceArgs\":{\"namespace\":\"html\",\"tag\":\"input\"},\"children\":[]}]},{\"props\":{\"className\":\"interact-flex-row-right\"},\"nodeType\":\"DOM\",\"type\":\"node\",\"instanceArgs\":{\"namespace\":\"html\",\"tag\":\"div\"},\"children\":[{\"props\":{\"attributes\":{\"data-bind\":\"text: formatted_val\"}},\"nodeType\":\"DOM\",\"type\":\"node\",\"instanceArgs\":{\"namespace\":\"html\",\"tag\":\"p\"},\"children\":[]}]}]}]}]},{\"props\":{\"className\":\"field interact-widget\"},\"nodeType\":\"DOM\",\"type\":\"node\",\"instanceArgs\":{\"namespace\":\"html\",\"tag\":\"div\"},\"children\":[{\"props\":{},\"nodeType\":\"Scope\",\"type\":\"node\",\"instanceArgs\":{\"imports\":{\"data\":[{\"name\":\"knockout\",\"type\":\"js\",\"url\":\"\\/assetserver\\/727383f2a47bd31570b7da84eee7b022dd6d7c78-knockout.js\"},{\"name\":\"knockout_punches\",\"type\":\"js\",\"url\":\"\\/assetserver\\/382b41b3b1bd9f26f75861d360bad7f8beea211f-knockout_punches.js\"},{\"name\":null,\"type\":\"js\",\"url\":\"\\/assetserver\\/5ab20f1060420992a9b82a65b735dee4d81ef413-all.js\"},{\"name\":null,\"type\":\"css\",\"url\":\"\\/assetserver\\/1cc0ed62837210b80a182cc3676512f895dab686-style.css\"},{\"name\":null,\"type\":\"css\",\"url\":\"\\/assetserver\\/2eee816f616df3549d7044d45e744fbf8d42bfa1-bulma_confined.min.css\"}],\"type\":\"async_block\"},\"id\":\"16798210148035089453\",\"handlers\":{\"changes\":[\"(function (val){return (val!=this.model[\\\"changes\\\"]()) ? (this.valueFromJulia[\\\"changes\\\"]=true, this.model[\\\"changes\\\"](val)) : undefined})\"],\"index\":[\"(function (val){return (val!=this.model[\\\"index\\\"]()) ? (this.valueFromJulia[\\\"index\\\"]=true, this.model[\\\"index\\\"](val)) : undefined})\"]},\"systemjs_options\":null,\"mount_callbacks\":[\"function () {\\n    var handler = (function (ko, koPunches) {\\n    ko.punches.enableAll();\\n    ko.bindingHandlers.numericValue = {\\n        init: function(element, valueAccessor, allBindings, data, context) {\\n            var stringified = ko.observable(ko.unwrap(valueAccessor()));\\n            stringified.subscribe(function(value) {\\n                var val = parseFloat(value);\\n                if (!isNaN(val)) {\\n                    valueAccessor()(val);\\n                }\\n            });\\n            valueAccessor().subscribe(function(value) {\\n                var str = JSON.stringify(value);\\n                if ((str == \\\"0\\\") && ([\\\"-0\\\", \\\"-0.\\\"].indexOf(stringified()) >= 0))\\n                     return;\\n                 if ([\\\"null\\\", \\\"\\\"].indexOf(str) >= 0)\\n                     return;\\n                stringified(str);\\n            });\\n            ko.applyBindingsToNode(\\n                element,\\n                {\\n                    value: stringified,\\n                    valueUpdate: allBindings.get('valueUpdate'),\\n                },\\n                context,\\n            );\\n        }\\n    };\\n    var json_data = {\\\"formatted_vals\\\":[\\\"0.1\\\",\\\"0.2\\\",\\\"0.3\\\",\\\"0.4\\\",\\\"0.5\\\",\\\"0.6\\\",\\\"0.7\\\",\\\"0.8\\\",\\\"0.9\\\",\\\"1.0\\\",\\\"1.1\\\",\\\"1.2\\\",\\\"1.3\\\",\\\"1.4\\\",\\\"1.5\\\",\\\"1.6\\\",\\\"1.7\\\",\\\"1.8\\\",\\\"1.9\\\",\\\"2.0\\\"],\\\"changes\\\":WebIO.getval({\\\"name\\\":\\\"changes\\\",\\\"scope\\\":\\\"16798210148035089453\\\",\\\"id\\\":\\\"12177779730730897326\\\",\\\"type\\\":\\\"observable\\\"}),\\\"index\\\":WebIO.getval({\\\"name\\\":\\\"index\\\",\\\"scope\\\":\\\"16798210148035089453\\\",\\\"id\\\":\\\"16422701882610944173\\\",\\\"type\\\":\\\"observable\\\"})};\\n    var self = this;\\n    function AppViewModel() {\\n        for (var key in json_data) {\\n            var el = json_data[key];\\n            this[key] = Array.isArray(el) ? ko.observableArray(el) : ko.observable(el);\\n        }\\n        \\n        [this[\\\"formatted_val\\\"]=ko.computed(    function(){\\n        return this.formatted_vals()[parseInt(this.index())-(1)];\\n    }\\n,this)]\\n        [this[\\\"changes\\\"].subscribe((function (val){!(this.valueFromJulia[\\\"changes\\\"]) ? (WebIO.setval({\\\"name\\\":\\\"changes\\\",\\\"scope\\\":\\\"16798210148035089453\\\",\\\"id\\\":\\\"12177779730730897326\\\",\\\"type\\\":\\\"observable\\\"},val)) : undefined; return this.valueFromJulia[\\\"changes\\\"]=false}),self),this[\\\"index\\\"].subscribe((function (val){!(this.valueFromJulia[\\\"index\\\"]) ? (WebIO.setval({\\\"name\\\":\\\"index\\\",\\\"scope\\\":\\\"16798210148035089453\\\",\\\"id\\\":\\\"16422701882610944173\\\",\\\"type\\\":\\\"observable\\\"},val)) : undefined; return this.valueFromJulia[\\\"index\\\"]=false}),self)]\\n        \\n    }\\n    self.model = new AppViewModel();\\n    self.valueFromJulia = {};\\n    for (var key in json_data) {\\n        self.valueFromJulia[key] = false;\\n    }\\n    ko.applyBindings(self.model, self.dom);\\n}\\n);\\n    (WebIO.importBlock({\\\"data\\\":[{\\\"name\\\":\\\"knockout\\\",\\\"type\\\":\\\"js\\\",\\\"url\\\":\\\"\\/assetserver\\/727383f2a47bd31570b7da84eee7b022dd6d7c78-knockout.js\\\"},{\\\"name\\\":\\\"knockout_punches\\\",\\\"type\\\":\\\"js\\\",\\\"url\\\":\\\"\\/assetserver\\/382b41b3b1bd9f26f75861d360bad7f8beea211f-knockout_punches.js\\\"}],\\\"type\\\":\\\"async_block\\\"})).then((imports) => handler.apply(this, imports));\\n}\\n\"],\"observables\":{\"changes\":{\"sync\":false,\"id\":\"12177779730730897326\",\"value\":0},\"index\":{\"sync\":true,\"id\":\"16422701882610944173\",\"value\":10}}},\"children\":[{\"props\":{\"className\":\"interact-flex-row interact-widget\"},\"nodeType\":\"DOM\",\"type\":\"node\",\"instanceArgs\":{\"namespace\":\"html\",\"tag\":\"div\"},\"children\":[{\"props\":{\"className\":\"interact-flex-row-left\"},\"nodeType\":\"DOM\",\"type\":\"node\",\"instanceArgs\":{\"namespace\":\"html\",\"tag\":\"div\"},\"children\":[{\"props\":{\"className\":\"interact \",\"style\":{\"padding\":\"5px 10px 0px 10px\"}},\"nodeType\":\"DOM\",\"type\":\"node\",\"instanceArgs\":{\"namespace\":\"html\",\"tag\":\"label\"},\"children\":[\"scale\"]}]},{\"props\":{\"className\":\"interact-flex-row-center\"},\"nodeType\":\"DOM\",\"type\":\"node\",\"instanceArgs\":{\"namespace\":\"html\",\"tag\":\"div\"},\"children\":[{\"props\":{\"max\":20,\"min\":1,\"attributes\":{\"type\":\"range\",\"data-bind\":\"numericValue: index, valueUpdate: 'input', event: {change: function (){this.changes(this.changes()+1)}}\",\"orient\":\"horizontal\"},\"step\":1,\"className\":\"slider slider is-fullwidth\",\"style\":{}},\"nodeType\":\"DOM\",\"type\":\"node\",\"instanceArgs\":{\"namespace\":\"html\",\"tag\":\"input\"},\"children\":[]}]},{\"props\":{\"className\":\"interact-flex-row-right\"},\"nodeType\":\"DOM\",\"type\":\"node\",\"instanceArgs\":{\"namespace\":\"html\",\"tag\":\"div\"},\"children\":[{\"props\":{\"attributes\":{\"data-bind\":\"text: formatted_val\"}},\"nodeType\":\"DOM\",\"type\":\"node\",\"instanceArgs\":{\"namespace\":\"html\",\"tag\":\"p\"},\"children\":[]}]}]}]}]},{\"props\":{\"style\":{\"display\":\"flex\",\"flex-direction\":\"row\"}},\"nodeType\":\"DOM\",\"type\":\"node\",\"instanceArgs\":{\"namespace\":\"html\",\"tag\":\"div\"},\"children\":[{\"props\":{\"className\":\"interact-widget\"},\"nodeType\":\"DOM\",\"type\":\"node\",\"instanceArgs\":{\"namespace\":\"html\",\"tag\":\"div\"},\"children\":[{\"props\":{},\"nodeType\":\"Scope\",\"type\":\"node\",\"instanceArgs\":{\"imports\":{\"data\":[{\"name\":null,\"type\":\"js\",\"url\":\"\\/assetserver\\/dd22ed1bf1896c2748f3fe616ce0b838adc895c1-katex.min.js\"},{\"name\":null,\"type\":\"css\",\"url\":\"\\/assetserver\\/46517a424aa5e6cffc1360d7e0848b601c584ee3-katex.min.css\"}],\"type\":\"async_block\"},\"id\":\"7432350938806071197\",\"handlers\":{\"value\":[\"(function (txt){return this.k.render(txt,this.container)})\"]},\"systemjs_options\":null,\"mount_callbacks\":[\"function () {\\n    var handler = ((function (k){this.k=k; this.container=this.dom.querySelector(\\\"#container\\\"); return k.render(\\\"\\\\\\\\;\\\\\\\\;\\\",this.container)}));\\n    (WebIO.importBlock({\\\"data\\\":[{\\\"name\\\":null,\\\"type\\\":\\\"js\\\",\\\"url\\\":\\\"\\/assetserver\\/dd22ed1bf1896c2748f3fe616ce0b838adc895c1-katex.min.js\\\"},{\\\"name\\\":null,\\\"type\\\":\\\"css\\\",\\\"url\\\":\\\"\\/assetserver\\/46517a424aa5e6cffc1360d7e0848b601c584ee3-katex.min.css\\\"}],\\\"type\\\":\\\"async_block\\\"})).then((imports) => handler.apply(this, imports));\\n}\\n\"],\"observables\":{\"value\":{\"sync\":false,\"id\":\"2019483736889337957\",\"value\":\"\\\\;\\\\;\"}}},\"children\":[{\"props\":{\"id\":\"container\"},\"nodeType\":\"DOM\",\"type\":\"node\",\"instanceArgs\":{\"namespace\":\"html\",\"tag\":\"div\"},\"children\":[]}]}]},{\"props\":{\"className\":\"field interact-widget\"},\"nodeType\":\"DOM\",\"type\":\"node\",\"instanceArgs\":{\"namespace\":\"html\",\"tag\":\"div\"},\"children\":[{\"props\":{},\"nodeType\":\"Scope\",\"type\":\"node\",\"instanceArgs\":{\"imports\":{\"data\":[{\"name\":\"knockout\",\"type\":\"js\",\"url\":\"\\/assetserver\\/727383f2a47bd31570b7da84eee7b022dd6d7c78-knockout.js\"},{\"name\":\"knockout_punches\",\"type\":\"js\",\"url\":\"\\/assetserver\\/382b41b3b1bd9f26f75861d360bad7f8beea211f-knockout_punches.js\"},{\"name\":null,\"type\":\"js\",\"url\":\"\\/assetserver\\/5ab20f1060420992a9b82a65b735dee4d81ef413-all.js\"},{\"name\":null,\"type\":\"css\",\"url\":\"\\/assetserver\\/1cc0ed62837210b80a182cc3676512f895dab686-style.css\"},{\"name\":null,\"type\":\"css\",\"url\":\"\\/assetserver\\/2eee816f616df3549d7044d45e744fbf8d42bfa1-bulma_confined.min.css\"}],\"type\":\"async_block\"},\"id\":\"14127188900002982303\",\"handlers\":{\"loading\":[\"(function (val){return (val!=this.model[\\\"loading\\\"]()) ? (this.valueFromJulia[\\\"loading\\\"]=true, this.model[\\\"loading\\\"](val)) : undefined})\"],\"clicks\":[\"(function (val){return (val!=this.model[\\\"clicks\\\"]()) ? (this.valueFromJulia[\\\"clicks\\\"]=true, this.model[\\\"clicks\\\"](val)) : undefined})\"]},\"systemjs_options\":null,\"mount_callbacks\":[\"function () {\\n    var handler = (function (ko, koPunches) {\\n    ko.punches.enableAll();\\n    ko.bindingHandlers.numericValue = {\\n        init: function(element, valueAccessor, allBindings, data, context) {\\n            var stringified = ko.observable(ko.unwrap(valueAccessor()));\\n            stringified.subscribe(function(value) {\\n                var val = parseFloat(value);\\n                if (!isNaN(val)) {\\n                    valueAccessor()(val);\\n                }\\n            });\\n            valueAccessor().subscribe(function(value) {\\n                var str = JSON.stringify(value);\\n                if ((str == \\\"0\\\") && ([\\\"-0\\\", \\\"-0.\\\"].indexOf(stringified()) >= 0))\\n                     return;\\n                 if ([\\\"null\\\", \\\"\\\"].indexOf(str) >= 0)\\n                     return;\\n                stringified(str);\\n            });\\n            ko.applyBindingsToNode(\\n                element,\\n                {\\n                    value: stringified,\\n                    valueUpdate: allBindings.get('valueUpdate'),\\n                },\\n                context,\\n            );\\n        }\\n    };\\n    var json_data = {\\\"loading\\\":WebIO.getval({\\\"name\\\":\\\"loading\\\",\\\"scope\\\":\\\"14127188900002982303\\\",\\\"id\\\":\\\"7438403378802749590\\\",\\\"type\\\":\\\"observable\\\"}),\\\"clicks\\\":WebIO.getval({\\\"name\\\":\\\"clicks\\\",\\\"scope\\\":\\\"14127188900002982303\\\",\\\"id\\\":\\\"13760782673656901908\\\",\\\"type\\\":\\\"observable\\\"})};\\n    var self = this;\\n    function AppViewModel() {\\n        for (var key in json_data) {\\n            var el = json_data[key];\\n            this[key] = Array.isArray(el) ? ko.observableArray(el) : ko.observable(el);\\n        }\\n        \\n        \\n        [this[\\\"loading\\\"].subscribe((function (val){!(this.valueFromJulia[\\\"loading\\\"]) ? (WebIO.setval({\\\"name\\\":\\\"loading\\\",\\\"scope\\\":\\\"14127188900002982303\\\",\\\"id\\\":\\\"7438403378802749590\\\",\\\"type\\\":\\\"observable\\\"},val)) : undefined; return this.valueFromJulia[\\\"loading\\\"]=false}),self),this[\\\"clicks\\\"].subscribe((function (val){!(this.valueFromJulia[\\\"clicks\\\"]) ? (WebIO.setval({\\\"name\\\":\\\"clicks\\\",\\\"scope\\\":\\\"14127188900002982303\\\",\\\"id\\\":\\\"13760782673656901908\\\",\\\"type\\\":\\\"observable\\\"},val)) : undefined; return this.valueFromJulia[\\\"clicks\\\"]=false}),self)]\\n        \\n    }\\n    self.model = new AppViewModel();\\n    self.valueFromJulia = {};\\n    for (var key in json_data) {\\n        self.valueFromJulia[key] = false;\\n    }\\n    ko.applyBindings(self.model, self.dom);\\n}\\n);\\n    (WebIO.importBlock({\\\"data\\\":[{\\\"name\\\":\\\"knockout\\\",\\\"type\\\":\\\"js\\\",\\\"url\\\":\\\"\\/assetserver\\/727383f2a47bd31570b7da84eee7b022dd6d7c78-knockout.js\\\"},{\\\"name\\\":\\\"knockout_punches\\\",\\\"type\\\":\\\"js\\\",\\\"url\\\":\\\"\\/assetserver\\/382b41b3b1bd9f26f75861d360bad7f8beea211f-knockout_punches.js\\\"}],\\\"type\\\":\\\"async_block\\\"})).then((imports) => handler.apply(this, imports));\\n}\\n\"],\"observables\":{\"loading\":{\"sync\":false,\"id\":\"7438403378802749590\",\"value\":false},\"clicks\":{\"sync\":true,\"id\":\"13760782673656901908\",\"value\":0}}},\"children\":[{\"props\":{\"attributes\":{\"data-bind\":\"click: function (){this.clicks(this.clicks()+1)}, css: {'is-loading' : loading}\"},\"className\":\"is-medium button is-primary\",\"style\":{}},\"nodeType\":\"DOM\",\"type\":\"node\",\"instanceArgs\":{\"namespace\":\"html\",\"tag\":\"button\"},\"children\":[\"run\"]}]}]},{\"props\":{\"className\":\"interact-widget\"},\"nodeType\":\"DOM\",\"type\":\"node\",\"instanceArgs\":{\"namespace\":\"html\",\"tag\":\"div\"},\"children\":[{\"props\":{},\"nodeType\":\"Scope\",\"type\":\"node\",\"instanceArgs\":{\"imports\":{\"data\":[{\"name\":null,\"type\":\"js\",\"url\":\"\\/assetserver\\/dd22ed1bf1896c2748f3fe616ce0b838adc895c1-katex.min.js\"},{\"name\":null,\"type\":\"css\",\"url\":\"\\/assetserver\\/46517a424aa5e6cffc1360d7e0848b601c584ee3-katex.min.css\"}],\"type\":\"async_block\"},\"id\":\"7432350938806071197\",\"handlers\":{\"value\":[\"(function (txt){return this.k.render(txt,this.container)})\"]},\"systemjs_options\":null,\"mount_callbacks\":[\"function () {\\n    var handler = ((function (k){this.k=k; this.container=this.dom.querySelector(\\\"#container\\\"); return k.render(\\\"\\\\\\\\;\\\\\\\\;\\\",this.container)}));\\n    (WebIO.importBlock({\\\"data\\\":[{\\\"name\\\":null,\\\"type\\\":\\\"js\\\",\\\"url\\\":\\\"\\/assetserver\\/dd22ed1bf1896c2748f3fe616ce0b838adc895c1-katex.min.js\\\"},{\\\"name\\\":null,\\\"type\\\":\\\"css\\\",\\\"url\\\":\\\"\\/assetserver\\/46517a424aa5e6cffc1360d7e0848b601c584ee3-katex.min.css\\\"}],\\\"type\\\":\\\"async_block\\\"})).then((imports) => handler.apply(this, imports));\\n}\\n\"],\"observables\":{\"value\":{\"sync\":false,\"id\":\"2019483736889337957\",\"value\":\"\\\\;\\\\;\"}}},\"children\":[{\"props\":{\"id\":\"container\"},\"nodeType\":\"DOM\",\"type\":\"node\",\"instanceArgs\":{\"namespace\":\"html\",\"tag\":\"div\"},\"children\":[]}]}]},{\"props\":{\"className\":\"field interact-widget\"},\"nodeType\":\"DOM\",\"type\":\"node\",\"instanceArgs\":{\"namespace\":\"html\",\"tag\":\"div\"},\"children\":[{\"props\":{},\"nodeType\":\"Scope\",\"type\":\"node\",\"instanceArgs\":{\"imports\":{\"data\":[{\"name\":\"knockout\",\"type\":\"js\",\"url\":\"\\/assetserver\\/727383f2a47bd31570b7da84eee7b022dd6d7c78-knockout.js\"},{\"name\":\"knockout_punches\",\"type\":\"js\",\"url\":\"\\/assetserver\\/382b41b3b1bd9f26f75861d360bad7f8beea211f-knockout_punches.js\"},{\"name\":null,\"type\":\"js\",\"url\":\"\\/assetserver\\/5ab20f1060420992a9b82a65b735dee4d81ef413-all.js\"},{\"name\":null,\"type\":\"css\",\"url\":\"\\/assetserver\\/1cc0ed62837210b80a182cc3676512f895dab686-style.css\"},{\"name\":null,\"type\":\"css\",\"url\":\"\\/assetserver\\/2eee816f616df3549d7044d45e744fbf8d42bfa1-bulma_confined.min.css\"}],\"type\":\"async_block\"},\"id\":\"5763325727150945512\",\"handlers\":{\"loading\":[\"(function (val){return (val!=this.model[\\\"loading\\\"]()) ? (this.valueFromJulia[\\\"loading\\\"]=true, this.model[\\\"loading\\\"](val)) : undefined})\"],\"clicks\":[\"(function (val){return (val!=this.model[\\\"clicks\\\"]()) ? (this.valueFromJulia[\\\"clicks\\\"]=true, this.model[\\\"clicks\\\"](val)) : undefined})\"]},\"systemjs_options\":null,\"mount_callbacks\":[\"function () {\\n    var handler = (function (ko, koPunches) {\\n    ko.punches.enableAll();\\n    ko.bindingHandlers.numericValue = {\\n        init: function(element, valueAccessor, allBindings, data, context) {\\n            var stringified = ko.observable(ko.unwrap(valueAccessor()));\\n            stringified.subscribe(function(value) {\\n                var val = parseFloat(value);\\n                if (!isNaN(val)) {\\n                    valueAccessor()(val);\\n                }\\n            });\\n            valueAccessor().subscribe(function(value) {\\n                var str = JSON.stringify(value);\\n                if ((str == \\\"0\\\") && ([\\\"-0\\\", \\\"-0.\\\"].indexOf(stringified()) >= 0))\\n                     return;\\n                 if ([\\\"null\\\", \\\"\\\"].indexOf(str) >= 0)\\n                     return;\\n                stringified(str);\\n            });\\n            ko.applyBindingsToNode(\\n                element,\\n                {\\n                    value: stringified,\\n                    valueUpdate: allBindings.get('valueUpdate'),\\n                },\\n                context,\\n            );\\n        }\\n    };\\n    var json_data = {\\\"loading\\\":WebIO.getval({\\\"name\\\":\\\"loading\\\",\\\"scope\\\":\\\"5763325727150945512\\\",\\\"id\\\":\\\"15102463312342509603\\\",\\\"type\\\":\\\"observable\\\"}),\\\"clicks\\\":WebIO.getval({\\\"name\\\":\\\"clicks\\\",\\\"scope\\\":\\\"5763325727150945512\\\",\\\"id\\\":\\\"4349330505519181502\\\",\\\"type\\\":\\\"observable\\\"})};\\n    var self = this;\\n    function AppViewModel() {\\n        for (var key in json_data) {\\n            var el = json_data[key];\\n            this[key] = Array.isArray(el) ? ko.observableArray(el) : ko.observable(el);\\n        }\\n        \\n        \\n        [this[\\\"loading\\\"].subscribe((function (val){!(this.valueFromJulia[\\\"loading\\\"]) ? (WebIO.setval({\\\"name\\\":\\\"loading\\\",\\\"scope\\\":\\\"5763325727150945512\\\",\\\"id\\\":\\\"15102463312342509603\\\",\\\"type\\\":\\\"observable\\\"},val)) : undefined; return this.valueFromJulia[\\\"loading\\\"]=false}),self),this[\\\"clicks\\\"].subscribe((function (val){!(this.valueFromJulia[\\\"clicks\\\"]) ? (WebIO.setval({\\\"name\\\":\\\"clicks\\\",\\\"scope\\\":\\\"5763325727150945512\\\",\\\"id\\\":\\\"4349330505519181502\\\",\\\"type\\\":\\\"observable\\\"},val)) : undefined; return this.valueFromJulia[\\\"clicks\\\"]=false}),self)]\\n        \\n    }\\n    self.model = new AppViewModel();\\n    self.valueFromJulia = {};\\n    for (var key in json_data) {\\n        self.valueFromJulia[key] = false;\\n    }\\n    ko.applyBindings(self.model, self.dom);\\n}\\n);\\n    (WebIO.importBlock({\\\"data\\\":[{\\\"name\\\":\\\"knockout\\\",\\\"type\\\":\\\"js\\\",\\\"url\\\":\\\"\\/assetserver\\/727383f2a47bd31570b7da84eee7b022dd6d7c78-knockout.js\\\"},{\\\"name\\\":\\\"knockout_punches\\\",\\\"type\\\":\\\"js\\\",\\\"url\\\":\\\"\\/assetserver\\/382b41b3b1bd9f26f75861d360bad7f8beea211f-knockout_punches.js\\\"}],\\\"type\\\":\\\"async_block\\\"})).then((imports) => handler.apply(this, imports));\\n}\\n\"],\"observables\":{\"loading\":{\"sync\":false,\"id\":\"15102463312342509603\",\"value\":false},\"clicks\":{\"sync\":true,\"id\":\"4349330505519181502\",\"value\":0}}},\"children\":[{\"props\":{\"attributes\":{\"data-bind\":\"click: function (){this.clicks(this.clicks()+1)}, css: {'is-loading' : loading}\"},\"className\":\"is-medium button is-primary\",\"style\":{}},\"nodeType\":\"DOM\",\"type\":\"node\",\"instanceArgs\":{\"namespace\":\"html\",\"tag\":\"button\"},\"children\":[\"stop\"]}]}]},{\"props\":{\"className\":\"interact-widget\"},\"nodeType\":\"DOM\",\"type\":\"node\",\"instanceArgs\":{\"namespace\":\"html\",\"tag\":\"div\"},\"children\":[{\"props\":{},\"nodeType\":\"Scope\",\"type\":\"node\",\"instanceArgs\":{\"imports\":{\"data\":[{\"name\":null,\"type\":\"js\",\"url\":\"\\/assetserver\\/dd22ed1bf1896c2748f3fe616ce0b838adc895c1-katex.min.js\"},{\"name\":null,\"type\":\"css\",\"url\":\"\\/assetserver\\/46517a424aa5e6cffc1360d7e0848b601c584ee3-katex.min.css\"}],\"type\":\"async_block\"},\"id\":\"7432350938806071197\",\"handlers\":{\"value\":[\"(function (txt){return this.k.render(txt,this.container)})\"]},\"systemjs_options\":null,\"mount_callbacks\":[\"function () {\\n    var handler = ((function (k){this.k=k; this.container=this.dom.querySelector(\\\"#container\\\"); return k.render(\\\"\\\\\\\\;\\\\\\\\;\\\",this.container)}));\\n    (WebIO.importBlock({\\\"data\\\":[{\\\"name\\\":null,\\\"type\\\":\\\"js\\\",\\\"url\\\":\\\"\\/assetserver\\/dd22ed1bf1896c2748f3fe616ce0b838adc895c1-katex.min.js\\\"},{\\\"name\\\":null,\\\"type\\\":\\\"css\\\",\\\"url\\\":\\\"\\/assetserver\\/46517a424aa5e6cffc1360d7e0848b601c584ee3-katex.min.css\\\"}],\\\"type\\\":\\\"async_block\\\"})).then((imports) => handler.apply(this, imports));\\n}\\n\"],\"observables\":{\"value\":{\"sync\":false,\"id\":\"2019483736889337957\",\"value\":\"\\\\;\\\\;\"}}},\"children\":[{\"props\":{\"id\":\"container\"},\"nodeType\":\"DOM\",\"type\":\"node\",\"instanceArgs\":{\"namespace\":\"html\",\"tag\":\"div\"},\"children\":[]}]}]},{\"props\":{\"className\":\"field interact-widget\"},\"nodeType\":\"DOM\",\"type\":\"node\",\"instanceArgs\":{\"namespace\":\"html\",\"tag\":\"div\"},\"children\":[{\"props\":{},\"nodeType\":\"Scope\",\"type\":\"node\",\"instanceArgs\":{\"imports\":{\"data\":[{\"name\":\"knockout\",\"type\":\"js\",\"url\":\"\\/assetserver\\/727383f2a47bd31570b7da84eee7b022dd6d7c78-knockout.js\"},{\"name\":\"knockout_punches\",\"type\":\"js\",\"url\":\"\\/assetserver\\/382b41b3b1bd9f26f75861d360bad7f8beea211f-knockout_punches.js\"},{\"name\":null,\"type\":\"js\",\"url\":\"\\/assetserver\\/5ab20f1060420992a9b82a65b735dee4d81ef413-all.js\"},{\"name\":null,\"type\":\"css\",\"url\":\"\\/assetserver\\/1cc0ed62837210b80a182cc3676512f895dab686-style.css\"},{\"name\":null,\"type\":\"css\",\"url\":\"\\/assetserver\\/2eee816f616df3549d7044d45e744fbf8d42bfa1-bulma_confined.min.css\"}],\"type\":\"async_block\"},\"id\":\"16086116833600981377\",\"handlers\":{\"loading\":[\"(function (val){return (val!=this.model[\\\"loading\\\"]()) ? (this.valueFromJulia[\\\"loading\\\"]=true, this.model[\\\"loading\\\"](val)) : undefined})\"],\"clicks\":[\"(function (val){return (val!=this.model[\\\"clicks\\\"]()) ? (this.valueFromJulia[\\\"clicks\\\"]=true, this.model[\\\"clicks\\\"](val)) : undefined})\"]},\"systemjs_options\":null,\"mount_callbacks\":[\"function () {\\n    var handler = (function (ko, koPunches) {\\n    ko.punches.enableAll();\\n    ko.bindingHandlers.numericValue = {\\n        init: function(element, valueAccessor, allBindings, data, context) {\\n            var stringified = ko.observable(ko.unwrap(valueAccessor()));\\n            stringified.subscribe(function(value) {\\n                var val = parseFloat(value);\\n                if (!isNaN(val)) {\\n                    valueAccessor()(val);\\n                }\\n            });\\n            valueAccessor().subscribe(function(value) {\\n                var str = JSON.stringify(value);\\n                if ((str == \\\"0\\\") && ([\\\"-0\\\", \\\"-0.\\\"].indexOf(stringified()) >= 0))\\n                     return;\\n                 if ([\\\"null\\\", \\\"\\\"].indexOf(str) >= 0)\\n                     return;\\n                stringified(str);\\n            });\\n            ko.applyBindingsToNode(\\n                element,\\n                {\\n                    value: stringified,\\n                    valueUpdate: allBindings.get('valueUpdate'),\\n                },\\n                context,\\n            );\\n        }\\n    };\\n    var json_data = {\\\"loading\\\":WebIO.getval({\\\"name\\\":\\\"loading\\\",\\\"scope\\\":\\\"16086116833600981377\\\",\\\"id\\\":\\\"17671725763756650091\\\",\\\"type\\\":\\\"observable\\\"}),\\\"clicks\\\":WebIO.getval({\\\"name\\\":\\\"clicks\\\",\\\"scope\\\":\\\"16086116833600981377\\\",\\\"id\\\":\\\"5606975105226550989\\\",\\\"type\\\":\\\"observable\\\"})};\\n    var self = this;\\n    function AppViewModel() {\\n        for (var key in json_data) {\\n            var el = json_data[key];\\n            this[key] = Array.isArray(el) ? ko.observableArray(el) : ko.observable(el);\\n        }\\n        \\n        \\n        [this[\\\"loading\\\"].subscribe((function (val){!(this.valueFromJulia[\\\"loading\\\"]) ? (WebIO.setval({\\\"name\\\":\\\"loading\\\",\\\"scope\\\":\\\"16086116833600981377\\\",\\\"id\\\":\\\"17671725763756650091\\\",\\\"type\\\":\\\"observable\\\"},val)) : undefined; return this.valueFromJulia[\\\"loading\\\"]=false}),self),this[\\\"clicks\\\"].subscribe((function (val){!(this.valueFromJulia[\\\"clicks\\\"]) ? (WebIO.setval({\\\"name\\\":\\\"clicks\\\",\\\"scope\\\":\\\"16086116833600981377\\\",\\\"id\\\":\\\"5606975105226550989\\\",\\\"type\\\":\\\"observable\\\"},val)) : undefined; return this.valueFromJulia[\\\"clicks\\\"]=false}),self)]\\n        \\n    }\\n    self.model = new AppViewModel();\\n    self.valueFromJulia = {};\\n    for (var key in json_data) {\\n        self.valueFromJulia[key] = false;\\n    }\\n    ko.applyBindings(self.model, self.dom);\\n}\\n);\\n    (WebIO.importBlock({\\\"data\\\":[{\\\"name\\\":\\\"knockout\\\",\\\"type\\\":\\\"js\\\",\\\"url\\\":\\\"\\/assetserver\\/727383f2a47bd31570b7da84eee7b022dd6d7c78-knockout.js\\\"},{\\\"name\\\":\\\"knockout_punches\\\",\\\"type\\\":\\\"js\\\",\\\"url\\\":\\\"\\/assetserver\\/382b41b3b1bd9f26f75861d360bad7f8beea211f-knockout_punches.js\\\"}],\\\"type\\\":\\\"async_block\\\"})).then((imports) => handler.apply(this, imports));\\n}\\n\"],\"observables\":{\"loading\":{\"sync\":false,\"id\":\"17671725763756650091\",\"value\":false},\"clicks\":{\"sync\":true,\"id\":\"5606975105226550989\",\"value\":0}}},\"children\":[{\"props\":{\"attributes\":{\"data-bind\":\"click: function (){this.clicks(this.clicks()+1)}, css: {'is-loading' : loading}\"},\"className\":\"is-medium button is-primary\",\"style\":{}},\"nodeType\":\"DOM\",\"type\":\"node\",\"instanceArgs\":{\"namespace\":\"html\",\"tag\":\"button\"},\"children\":[\"save\"]}]}]}]}]},{\"props\":{\"className\":\"interact-widget\"},\"nodeType\":\"DOM\",\"type\":\"node\",\"instanceArgs\":{\"namespace\":\"html\",\"tag\":\"div\"},\"children\":[{\"props\":{},\"nodeType\":\"Scope\",\"type\":\"node\",\"instanceArgs\":{\"imports\":{\"data\":[{\"name\":null,\"type\":\"js\",\"url\":\"\\/assetserver\\/dd22ed1bf1896c2748f3fe616ce0b838adc895c1-katex.min.js\"},{\"name\":null,\"type\":\"css\",\"url\":\"\\/assetserver\\/46517a424aa5e6cffc1360d7e0848b601c584ee3-katex.min.css\"}],\"type\":\"async_block\"},\"id\":\"7432350938806071197\",\"handlers\":{\"value\":[\"(function (txt){return this.k.render(txt,this.container)})\"]},\"systemjs_options\":null,\"mount_callbacks\":[\"function () {\\n    var handler = ((function (k){this.k=k; this.container=this.dom.querySelector(\\\"#container\\\"); return k.render(\\\"\\\\\\\\;\\\\\\\\;\\\",this.container)}));\\n    (WebIO.importBlock({\\\"data\\\":[{\\\"name\\\":null,\\\"type\\\":\\\"js\\\",\\\"url\\\":\\\"\\/assetserver\\/dd22ed1bf1896c2748f3fe616ce0b838adc895c1-katex.min.js\\\"},{\\\"name\\\":null,\\\"type\\\":\\\"css\\\",\\\"url\\\":\\\"\\/assetserver\\/46517a424aa5e6cffc1360d7e0848b601c584ee3-katex.min.css\\\"}],\\\"type\\\":\\\"async_block\\\"})).then((imports) => handler.apply(this, imports));\\n}\\n\"],\"observables\":{\"value\":{\"sync\":false,\"id\":\"2019483736889337957\",\"value\":\"\\\\;\\\\;\"}}},\"children\":[{\"props\":{\"id\":\"container\"},\"nodeType\":\"DOM\",\"type\":\"node\",\"instanceArgs\":{\"namespace\":\"html\",\"tag\":\"div\"},\"children\":[]}]}]},{\"props\":{},\"nodeType\":\"Scope\",\"type\":\"node\",\"instanceArgs\":{\"imports\":{\"data\":[],\"type\":\"async_block\"},\"id\":\"15930533520701026308\",\"handlers\":{\"obs-output\":[\"function (value, scope) {\\n    scope.setInnerHTML(value);\\n}\\n\"]},\"systemjs_options\":null,\"mount_callbacks\":[],\"observables\":{\"obs-output\":{\"sync\":false,\"id\":\"11197537564188449549\",\"value\":\"<img src='data:image\\/png;base64,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'><\\/img>\"}}},\"children\":[{\"props\":{\"className\":\"webio-observable\",\"setInnerHtml\":\"<img src='data:image\\/png;base64,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'><\\/img>\"},\"nodeType\":\"DOM\",\"type\":\"node\",\"instanceArgs\":{\"namespace\":\"html\",\"tag\":\"div\"},\"children\":[]}]},{\"props\":{\"className\":\"interact-widget\"},\"nodeType\":\"DOM\",\"type\":\"node\",\"instanceArgs\":{\"namespace\":\"html\",\"tag\":\"div\"},\"children\":[{\"props\":{},\"nodeType\":\"Scope\",\"type\":\"node\",\"instanceArgs\":{\"imports\":{\"data\":[{\"name\":null,\"type\":\"js\",\"url\":\"\\/assetserver\\/dd22ed1bf1896c2748f3fe616ce0b838adc895c1-katex.min.js\"},{\"name\":null,\"type\":\"css\",\"url\":\"\\/assetserver\\/46517a424aa5e6cffc1360d7e0848b601c584ee3-katex.min.css\"}],\"type\":\"async_block\"},\"id\":\"7432350938806071197\",\"handlers\":{\"value\":[\"(function (txt){return this.k.render(txt,this.container)})\"]},\"systemjs_options\":null,\"mount_callbacks\":[\"function () {\\n    var handler = ((function (k){this.k=k; this.container=this.dom.querySelector(\\\"#container\\\"); return k.render(\\\"\\\\\\\\;\\\\\\\\;\\\",this.container)}));\\n    (WebIO.importBlock({\\\"data\\\":[{\\\"name\\\":null,\\\"type\\\":\\\"js\\\",\\\"url\\\":\\\"\\/assetserver\\/dd22ed1bf1896c2748f3fe616ce0b838adc895c1-katex.min.js\\\"},{\\\"name\\\":null,\\\"type\\\":\\\"css\\\",\\\"url\\\":\\\"\\/assetserver\\/46517a424aa5e6cffc1360d7e0848b601c584ee3-katex.min.css\\\"}],\\\"type\\\":\\\"async_block\\\"})).then((imports) => handler.apply(this, imports));\\n}\\n\"],\"observables\":{\"value\":{\"sync\":false,\"id\":\"2019483736889337957\",\"value\":\"\\\\;\\\\;\"}}},\"children\":[{\"props\":{\"id\":\"container\"},\"nodeType\":\"DOM\",\"type\":\"node\",\"instanceArgs\":{\"namespace\":\"html\",\"tag\":\"div\"},\"children\":[]}]}]},{\"props\":{\"style\":{\"display\":\"flex\",\"flex-direction\":\"column\"}},\"nodeType\":\"DOM\",\"type\":\"node\",\"instanceArgs\":{\"namespace\":\"html\",\"tag\":\"div\"},\"children\":[]}]}]},\n",
       "        window,\n",
       "    );\n",
       "    })()\n",
       "    </script>\n",
       "</div>\n"
      ],
      "text/plain": [
       "WebIO.Node{WebIO.DOM}(WebIO.DOM(:html, :div), Any[WebIO.Node{WebIO.DOM}(WebIO.DOM(:html, :div), Any[WebIO.Node{WebIO.DOM}(WebIO.DOM(:html, :div), Any[WebIO.Node{WebIO.DOM}(WebIO.DOM(:html, :div), Any[WebIO.Scope(WebIO.Node{WebIO.DOM}(WebIO.DOM(:html, :div), Any[WebIO.Node{WebIO.DOM}(WebIO.DOM(:html, :div), Any[WebIO.Node{WebIO.DOM}(WebIO.DOM(:html, :label), Any[\"time\"], Dict{Symbol, Any}(:className => \"interact \", :style => Dict{Any, Any}(:padding => \"5px 10px 0px 10px\")))], Dict{Symbol, Any}(:className => \"interact-flex-row-left\")), WebIO.Node{WebIO.DOM}(WebIO.DOM(:html, :div), Any[WebIO.Node{WebIO.DOM}(WebIO.DOM(:html, :input), Any[], Dict{Symbol, Any}(:max => 601, :min => 1, :attributes => Dict{Any, Any}(:type => \"range\", Symbol(\"data-bind\") => \"numericValue: index, valueUpdate: 'input', event: {change: function (){this.changes(this.changes()+1)}}\", \"orient\" => \"horizontal\"), :step => 1, :className => \"slider slider is-fullwidth\", :style => Dict{Any, Any}()))], Dict{Symbol, Any}(:className => \"interact-flex-row-center\")), WebIO.Node{WebIO.DOM}(WebIO.DOM(:html, :div), Any[WebIO.Node{WebIO.DOM}(WebIO.DOM(:html, :p), Any[], Dict{Symbol, Any}(:attributes => Dict(\"data-bind\" => \"text: formatted_val\")))], Dict{Symbol, Any}(:className => \"interact-flex-row-right\"))], Dict{Symbol, Any}(:className => \"interact-flex-row interact-widget\")), Dict{String, Tuple{Observables.AbstractObservable, Union{Nothing, Bool}}}(\"changes\" => (Observable(0), nothing), \"index\" => (Observable(301), nothing)), Set{String}(), nothing, WebIO.Asset[WebIO.Asset(\"js\", \"knockout\", \"/home/dushya/.julia/packages/Knockout/HReiN/src/../assets/knockout.js\"), WebIO.Asset(\"js\", \"knockout_punches\", \"/home/dushya/.julia/packages/Knockout/HReiN/src/../assets/knockout_punches.js\"), WebIO.Asset(\"js\", nothing, \"/home/dushya/.julia/packages/InteractBase/LJXv3/src/../assets/all.js\"), WebIO.Asset(\"css\", nothing, \"/home/dushya/.julia/packages/InteractBase/LJXv3/src/../assets/style.css\"), WebIO.Asset(\"css\", nothing, \"/home/dushya/.julia/packages/Interact/PENUy/src/../assets/bulma_confined.min.css\")], Dict{Any, Any}(\"changes\" => Any[WebIO.JSString(\"(function (val){return (val!=this.model[\\\"changes\\\"]()) ? (this.valueFromJulia[\\\"changes\\\"]=true, this.model[\\\"changes\\\"](val)) : undefined})\")], \"index\" => Any[WebIO.JSString(\"(function (val){return (val!=this.model[\\\"index\\\"]()) ? (this.valueFromJulia[\\\"index\\\"]=true, this.model[\\\"index\\\"](val)) : undefined})\")]), WebIO.ConnectionPool(Channel{Any}(32), Set{WebIO.AbstractConnection}(), Base.GenericCondition{ReentrantLock}(Base.IntrusiveLinkedList{Task}(Task (runnable) @0x00007faf6cb89aa0, Task (runnable) @0x00007faf6cb89aa0), ReentrantLock(nothing, 0x00000000, 0x00, Base.GenericCondition{Base.Threads.SpinLock}(Base.IntrusiveLinkedList{Task}(nothing, nothing), Base.Threads.SpinLock(0)), (0, 0, 414981722190)))), WebIO.JSString[WebIO.JSString(\"function () {\\n    var handler = (function (ko, koPunches) {\\n    ko.punches.enableAll();\\n    ko.bindingHandlers.numericValue = {\\n        init: function(element, valueAccessor, allBindings, data, context) {\\n            var stringified = ko.observable(ko.unwrap(valueAccessor()));\\n            stringified.subscribe(function(value) {\\n                var val = parseFloat(value);\\n                if (!isNaN(val)) {\\n                    valueAccessor()(val);\\n                }\\n            });\\n            valueAccessor().subscribe(function(value) {\\n                var str = JSON.stringify(value);\\n                if ((str == \\\"0\\\") && ([\\\"-0\\\", \\\"-0.\\\"].indexOf(stringified()) >= 0))\\n                     return;\\n                 if ([\\\"null\\\", \\\"\\\"].indexOf(str) >= 0)\\n                     return;\\n                stringified(str);\\n            });\\n            ko.applyBindingsToNode(\\n                element,\\n                {\\n                    value: stringified,\\n                    valueUpdate: allBindings.get('valueUpdate'),\\n                },\\n                context,\\n            );\\n        }\\n    };\\n    var json_data = {\\\"formatted_vals\\\":[\\\"1\\\",\\\"2\\\",\\\"3\\\",\\\"4\\\",\\\"5\\\",\\\"6\\\",\\\"7\\\",\\\"8\\\",\\\"9\\\",\\\"10\\\",\\\"11\\\",\\\"12\\\",\\\"13\\\",\\\"14\\\",\\\"15\\\",\\\"16\\\",\\\"17\\\",\\\"18\\\",\\\"19\\\",\\\"20\\\",\\\"21\\\",\\\"22\\\",\\\"23\\\",\\\"24\\\",\\\"25\\\",\\\"26\\\",\\\"27\\\",\\\"28\\\",\\\"29\\\",\\\"30\\\",\\\"31\\\",\\\"32\\\",\\\"33\\\",\\\"34\\\",\\\"35\\\",\\\"36\\\",\\\"37\\\",\\\"38\\\",\\\"39\\\",\\\"40\\\",\\\"41\\\",\\\"42\\\",\\\"43\\\",\\\"44\\\",\\\"45\\\",\\\"46\\\",\\\"47\\\",\\\"48\\\",\\\"49\\\",\\\"50\\\",\\\"51\\\",\\\"52\\\",\\\"53\\\",\\\"54\\\",\\\"55\\\",\\\"56\\\",\\\"57\\\",\\\"58\\\",\\\"59\\\",\\\"60\\\",\\\"61\\\",\\\"62\\\",\\\"63\\\",\\\"64\\\",\\\"65\\\",\\\"66\\\",\\\"67\\\",\\\"68\\\",\\\"69\\\",\\\"70\\\",\\\"71\\\",\\\"72\\\",\\\"73\\\",\\\"74\\\",\\\"75\\\",\\\"76\\\",\\\"77\\\",\\\"78\\\",\\\"79\\\",\\\"80\\\",\\\"81\\\",\\\"82\\\",\\\"83\\\",\\\"84\\\",\\\"85\\\",\\\"86\\\",\\\"87\\\",\\\"88\\\",\\\"89\\\",\\\"90\\\",\\\"91\\\",\\\"92\\\",\\\"93\\\",\\\"94\\\",\\\"95\\\",\\\"96\\\",\\\"97\\\",\\\"98\\\",\\\"99\\\",\\\"100\\\",\\\"101\\\",\\\"102\\\",\\\"103\\\",\\\"104\\\",\\\"105\\\",\\\"106\\\",\\\"107\\\",\\\"108\\\",\\\"109\\\",\\\"110\\\",\\\"111\\\",\\\"112\\\",\\\"113\\\",\\\"114\\\",\\\"115\\\",\\\"116\\\",\\\"117\\\",\\\"118\\\",\\\"119\\\",\\\"120\\\",\\\"121\\\",\\\"122\\\",\\\"123\\\",\\\"124\\\",\\\"125\\\",\\\"126\\\",\\\"127\\\",\\\"128\\\",\\\"129\\\",\\\"130\\\",\\\"131\\\",\\\"132\\\",\\\"133\\\",\\\"134\\\",\\\"135\\\",\\\"136\\\",\\\"137\\\",\\\"138\\\",\\\"139\\\",\\\"140\\\",\\\"141\\\",\\\"142\\\",\\\"143\\\",\\\"144\\\",\\\"145\\\",\\\"146\\\",\\\"147\\\",\\\"148\\\",\\\"149\\\",\\\"150\\\",\\\"151\\\",\\\"152\\\",\\\"153\\\",\\\"154\\\",\\\"155\\\",\\\"156\\\",\\\"157\\\",\\\"158\\\",\\\"159\\\",\\\"160\\\",\\\"161\\\",\\\"162\\\",\\\"163\\\",\\\"164\\\",\\\"165\\\",\\\"166\\\",\\\"167\\\",\\\"168\\\",\\\"169\\\",\\\"170\\\",\\\"171\\\",\\\"172\\\",\\\"173\\\",\\\"174\\\",\\\"175\\\",\\\"176\\\",\\\"177\\\",\\\"178\\\",\\\"179\\\",\\\"180\\\",\\\"181\\\",\\\"182\\\",\\\"183\\\",\\\"184\\\",\\\"185\\\",\\\"186\\\",\\\"187\\\",\\\"188\\\",\\\"189\\\",\\\"190\\\",\\\"191\\\",\\\"192\\\",\\\"193\\\",\\\"194\\\",\\\"195\\\",\\\"196\\\",\\\"197\\\",\\\"198\\\",\\\"199\\\",\\\"200\\\",\\\"201\\\",\\\"202\\\",\\\"203\\\",\\\"204\\\",\\\"205\\\",\\\"206\\\",\\\"207\\\",\\\"208\\\",\\\"209\\\",\\\"210\\\",\\\"211\\\",\\\"212\\\",\\\"213\\\",\\\"214\\\",\\\"215\\\",\\\"216\\\",\\\"217\\\",\\\"218\\\",\\\"219\\\",\\\"220\\\",\\\"221\\\",\\\"222\\\",\\\"223\\\",\\\"224\\\",\\\"225\\\",\\\"226\\\",\\\"227\\\",\\\"228\\\",\\\"229\\\",\\\"230\\\",\\\"231\\\",\\\"232\\\",\\\"233\\\",\\\"234\\\",\\\"235\\\",\\\"236\\\",\\\"237\\\",\\\"238\\\",\\\"239\\\",\\\"240\\\",\\\"241\\\",\\\"242\\\",\\\"243\\\",\\\"244\\\",\\\"245\\\",\\\"246\\\",\\\"247\\\",\\\"248\\\",\\\"249\\\",\\\"250\\\",\\\"251\\\",\\\"252\\\",\\\"253\\\",\\\"254\\\",\\\"255\\\",\\\"256\\\",\\\"257\\\",\\\"258\\\",\\\"259\\\",\\\"260\\\",\\\"261\\\",\\\"262\\\",\\\"263\\\",\\\"264\\\",\\\"265\\\",\\\"266\\\",\\\"267\\\",\\\"268\\\",\\\"269\\\",\\\"270\\\",\\\"271\\\",\\\"272\\\",\\\"273\\\",\\\"274\\\",\\\"275\\\",\\\"276\\\",\\\"277\\\",\\\"278\\\",\\\"279\\\",\\\"280\\\",\\\"281\\\",\\\"282\\\",\\\"283\\\",\\\"284\\\",\\\"285\\\",\\\"286\\\",\\\"287\\\",\\\"288\\\",\\\"289\\\",\\\"290\\\",\\\"291\\\",\\\"292\\\",\\\"293\\\",\\\"294\\\",\\\"295\\\",\\\"296\\\",\\\"297\\\",\\\"298\\\",\\\"299\\\",\\\"300\\\",\\\"301\\\",\\\"302\\\",\\\"303\\\",\\\"304\\\",\\\"305\\\",\\\"306\\\",\\\"307\\\",\\\"308\\\",\\\"309\\\",\\\"310\\\",\\\"311\\\",\\\"312\\\",\\\"313\\\",\\\"314\\\",\\\"315\\\",\\\"316\\\",\\\"317\\\",\\\"318\\\",\\\"319\\\",\\\"320\\\",\\\"321\\\",\\\"322\\\",\\\"323\\\",\\\"324\\\",\\\"325\\\",\\\"326\\\",\\\"327\\\",\\\"328\\\",\\\"329\\\",\\\"330\\\",\\\"331\\\",\\\"332\\\",\\\"333\\\",\\\"334\\\",\\\"335\\\",\\\"336\\\",\\\"337\\\",\\\"338\\\",\\\"339\\\",\\\"340\\\",\\\"341\\\",\\\"342\\\",\\\"343\\\",\\\"344\\\",\\\"345\\\",\\\"346\\\",\\\"347\\\",\\\"348\\\",\\\"349\\\",\\\"350\\\",\\\"351\\\",\\\"352\\\",\\\"353\\\",\\\"354\\\",\\\"355\\\",\\\"356\\\",\\\"357\\\",\\\"358\\\",\\\"359\\\",\\\"360\\\",\\\"361\\\",\\\"362\\\",\\\"363\\\",\\\"364\\\",\\\"365\\\",\\\"366\\\",\\\"367\\\",\\\"368\\\",\\\"369\\\",\\\"370\\\",\\\"371\\\",\\\"372\\\",\\\"373\\\",\\\"374\\\",\\\"375\\\",\\\"376\\\",\\\"377\\\",\\\"378\\\",\\\"379\\\",\\\"380\\\",\\\"381\\\",\\\"382\\\",\\\"383\\\",\\\"384\\\",\\\"385\\\",\\\"386\\\",\\\"387\\\",\\\"388\\\",\\\"389\\\",\\\"390\\\",\\\"391\\\",\\\"392\\\",\\\"393\\\",\\\"394\\\",\\\"395\\\",\\\"396\\\",\\\"397\\\",\\\"398\\\",\\\"399\\\",\\\"400\\\",\\\"401\\\",\\\"402\\\",\\\"403\\\",\\\"404\\\",\\\"405\\\",\\\"406\\\",\\\"407\\\",\\\"408\\\",\\\"409\\\",\\\"410\\\",\\\"411\\\",\\\"412\\\",\\\"413\\\",\\\"414\\\",\\\"415\\\",\\\"416\\\",\\\"417\\\",\\\"418\\\",\\\"419\\\",\\\"420\\\",\\\"421\\\",\\\"422\\\",\\\"423\\\",\\\"424\\\",\\\"425\\\",\\\"426\\\",\\\"427\\\",\\\"428\\\",\\\"429\\\",\\\"430\\\",\\\"431\\\",\\\"432\\\",\\\"433\\\",\\\"434\\\",\\\"435\\\",\\\"436\\\",\\\"437\\\",\\\"438\\\",\\\"439\\\",\\\"440\\\",\\\"441\\\",\\\"442\\\",\\\"443\\\",\\\"444\\\",\\\"445\\\",\\\"446\\\",\\\"447\\\",\\\"448\\\",\\\"449\\\",\\\"450\\\",\\\"451\\\",\\\"452\\\",\\\"453\\\",\\\"454\\\",\\\"455\\\",\\\"456\\\",\\\"457\\\",\\\"458\\\",\\\"459\\\",\\\"460\\\",\\\"461\\\",\\\"462\\\",\\\"463\\\",\\\"464\\\",\\\"465\\\",\\\"466\\\",\\\"467\\\",\\\"468\\\",\\\"469\\\",\\\"470\\\",\\\"471\\\",\\\"472\\\",\\\"473\\\",\\\"474\\\",\\\"475\\\",\\\"476\\\",\\\"477\\\",\\\"478\\\",\\\"479\\\",\\\"480\\\",\\\"481\\\",\\\"482\\\",\\\"483\\\",\\\"484\\\",\\\"485\\\",\\\"486\\\",\\\"487\\\",\\\"488\\\",\\\"489\\\",\\\"490\\\",\\\"491\\\",\\\"492\\\",\\\"493\\\",\\\"494\\\",\\\"495\\\",\\\"496\\\",\\\"497\\\",\\\"498\\\",\\\"499\\\",\\\"500\\\",\\\"501\\\",\\\"502\\\",\\\"503\\\",\\\"504\\\",\\\"505\\\",\\\"506\\\",\\\"507\\\",\\\"508\\\",\\\"509\\\",\\\"510\\\",\\\"511\\\",\\\"512\\\",\\\"513\\\",\\\"514\\\",\\\"515\\\",\\\"516\\\",\\\"517\\\",\\\"518\\\",\\\"519\\\",\\\"520\\\",\\\"521\\\",\\\"522\\\",\\\"523\\\",\\\"524\\\",\\\"525\\\",\\\"526\\\",\\\"527\\\",\\\"528\\\",\\\"529\\\",\\\"530\\\",\\\"531\\\",\\\"532\\\",\\\"533\\\",\\\"534\\\",\\\"535\\\",\\\"536\\\",\\\"537\\\",\\\"538\\\",\\\"539\\\",\\\"540\\\",\\\"541\\\",\\\"542\\\",\\\"543\\\",\\\"544\\\",\\\"545\\\",\\\"546\\\",\\\"547\\\",\\\"548\\\",\\\"549\\\",\\\"550\\\",\\\"551\\\",\\\"552\\\",\\\"553\\\",\\\"554\\\",\\\"555\\\",\\\"556\\\",\\\"557\\\",\\\"558\\\",\\\"559\\\",\\\"560\\\",\\\"561\\\",\\\"562\\\",\\\"563\\\",\\\"564\\\",\\\"565\\\",\\\"566\\\",\\\"567\\\",\\\"568\\\",\\\"569\\\",\\\"570\\\",\\\"571\\\",\\\"572\\\",\\\"573\\\",\\\"574\\\",\\\"575\\\",\\\"576\\\",\\\"577\\\",\\\"578\\\",\\\"579\\\",\\\"580\\\",\\\"581\\\",\\\"582\\\",\\\"583\\\",\\\"584\\\",\\\"585\\\",\\\"586\\\",\\\"587\\\",\\\"588\\\",\\\"589\\\",\\\"590\\\",\\\"591\\\",\\\"592\\\",\\\"593\\\",\\\"594\\\",\\\"595\\\",\\\"596\\\",\\\"597\\\",\\\"598\\\",\\\"599\\\",\\\"600\\\",\\\"601\\\"],\\\"changes\\\":WebIO.getval({\\\"name\\\":\\\"changes\\\",\\\"scope\\\":\\\"17389130361217973988\\\",\\\"id\\\":\\\"11022049370538200319\\\",\\\"type\\\":\\\"observable\\\"}),\\\"index\\\":WebIO.getval({\\\"name\\\":\\\"index\\\",\\\"scope\\\":\\\"17389130361217973988\\\",\\\"id\\\":\\\"15898118760340774691\\\",\\\"type\\\":\\\"observable\\\"})};\\n    var self = this;\\n    function AppViewModel() {\\n        for (var key in json_data) {\\n            var el = json_data[key];\\n            this[key] = Array.isArray(el) ? ko.observableArray(el) : ko.observable(el);\\n        }\\n        \\n        [this[\\\"formatted_val\\\"]=ko.computed(    function(){\\n        return this.formatted_vals()[parseInt(this.index())-(1)];\\n    }\\n,this)]\\n        [this[\\\"changes\\\"].subscribe((function (val){!(this.valueFromJulia[\\\"changes\\\"]) ? (WebIO.setval({\\\"name\\\":\\\"changes\\\",\\\"scope\\\":\\\"17389130361217973988\\\",\\\"id\\\":\\\"11022049370538200319\\\",\\\"type\\\":\\\"observable\\\"},val)) : undefined; return this.valueFromJulia[\\\"changes\\\"]=false}),self),this[\\\"index\\\"].subscribe((function (val){!(this.valueFromJulia[\\\"index\\\"]) ? (WebIO.setval({\\\"name\\\":\\\"index\\\",\\\"scope\\\":\\\"17389130361217973988\\\",\\\"id\\\":\\\"15898118760340774691\\\",\\\"type\\\":\\\"observable\\\"},val)) : undefined; return this.valueFromJulia[\\\"index\\\"]=false}),self)]\\n        \\n    }\\n    self.model = new AppViewModel();\\n    self.valueFromJulia = {};\\n    for (var key in json_data) {\\n        self.valueFromJulia[key] = false;\\n    }\\n    ko.applyBindings(self.model, self.dom);\\n}\\n);\\n    (WebIO.importBlock({\\\"data\\\":[{\\\"name\\\":\\\"knockout\\\",\\\"type\\\":\\\"js\\\",\\\"url\\\":\\\"/assetserver/727383f2a47bd31570b7da84eee7b022dd6d7c78-knockout.js\\\"},{\\\"name\\\":\\\"knockout_punches\\\",\\\"type\\\":\\\"js\\\",\\\"url\\\":\\\"/assetserver/382b41b3b1bd9f26f75861d360bad7f8beea211f-knockout_punches.js\\\"}],\\\"type\\\":\\\"async_block\\\"})).then((imports) => handler.apply(this, imports));\\n}\\n\")])], Dict{Symbol, Any}(:className => \"field interact-widget\")), WebIO.Node{WebIO.DOM}(WebIO.DOM(:html, :div), Any[WebIO.Scope(WebIO.Node{WebIO.DOM}(WebIO.DOM(:html, :div), Any[WebIO.Node{WebIO.DOM}(WebIO.DOM(:html, :div), Any[WebIO.Node{WebIO.DOM}(WebIO.DOM(:html, :label), Any[\"scale\"], Dict{Symbol, Any}(:className => \"interact \", :style => Dict{Any, Any}(:padding => \"5px 10px 0px 10px\")))], Dict{Symbol, Any}(:className => \"interact-flex-row-left\")), WebIO.Node{WebIO.DOM}(WebIO.DOM(:html, :div), Any[WebIO.Node{WebIO.DOM}(WebIO.DOM(:html, :input), Any[], Dict{Symbol, Any}(:max => 20, :min => 1, :attributes => Dict{Any, Any}(:type => \"range\", Symbol(\"data-bind\") => \"numericValue: index, valueUpdate: 'input', event: {change: function (){this.changes(this.changes()+1)}}\", \"orient\" => \"horizontal\"), :step => 1, :className => \"slider slider is-fullwidth\", :style => Dict{Any, Any}()))], Dict{Symbol, Any}(:className => \"interact-flex-row-center\")), WebIO.Node{WebIO.DOM}(WebIO.DOM(:html, :div), Any[WebIO.Node{WebIO.DOM}(WebIO.DOM(:html, :p), Any[], Dict{Symbol, Any}(:attributes => Dict(\"data-bind\" => \"text: formatted_val\")))], Dict{Symbol, Any}(:className => \"interact-flex-row-right\"))], Dict{Symbol, Any}(:className => \"interact-flex-row interact-widget\")), Dict{String, Tuple{Observables.AbstractObservable, Union{Nothing, Bool}}}(\"changes\" => (Observable(0), nothing), \"index\" => (Observable{Any}(10), nothing)), Set{String}(), nothing, WebIO.Asset[WebIO.Asset(\"js\", \"knockout\", \"/home/dushya/.julia/packages/Knockout/HReiN/src/../assets/knockout.js\"), WebIO.Asset(\"js\", \"knockout_punches\", \"/home/dushya/.julia/packages/Knockout/HReiN/src/../assets/knockout_punches.js\"), WebIO.Asset(\"js\", nothing, \"/home/dushya/.julia/packages/InteractBase/LJXv3/src/../assets/all.js\"), WebIO.Asset(\"css\", nothing, \"/home/dushya/.julia/packages/InteractBase/LJXv3/src/../assets/style.css\"), WebIO.Asset(\"css\", nothing, \"/home/dushya/.julia/packages/Interact/PENUy/src/../assets/bulma_confined.min.css\")], Dict{Any, Any}(\"changes\" => Any[WebIO.JSString(\"(function (val){return (val!=this.model[\\\"changes\\\"]()) ? (this.valueFromJulia[\\\"changes\\\"]=true, this.model[\\\"changes\\\"](val)) : undefined})\")], \"index\" => Any[WebIO.JSString(\"(function (val){return (val!=this.model[\\\"index\\\"]()) ? (this.valueFromJulia[\\\"index\\\"]=true, this.model[\\\"index\\\"](val)) : undefined})\")]), WebIO.ConnectionPool(Channel{Any}(32), Set{WebIO.AbstractConnection}(), Base.GenericCondition{ReentrantLock}(Base.IntrusiveLinkedList{Task}(Task (runnable) @0x00007faf6cde9140, Task (runnable) @0x00007faf6cde9140), ReentrantLock(nothing, 0x00000000, 0x00, Base.GenericCondition{Base.Threads.SpinLock}(Base.IntrusiveLinkedList{Task}(nothing, nothing), Base.Threads.SpinLock(0)), (2, 140393176962112, 140391424488832)))), WebIO.JSString[WebIO.JSString(\"function () {\\n    var handler = (function (ko, koPunches) {\\n    ko.punches.enableAll();\\n    ko.bindingHandlers.numericValue = {\\n        init: function(element, valueAccessor, allBindings, data, context) {\\n            var stringified = ko.observable(ko.unwrap(valueAccessor()));\\n            stringified.subscribe(function(value) {\\n                var val = parseFloat(value);\\n                if (!isNaN(val)) {\\n                    valueAccessor()(val);\\n                }\\n            });\\n            valueAccessor().subscribe(function(value) {\\n                var str = JSON.stringify(value);\\n                if ((str == \\\"0\\\") && ([\\\"-0\\\", \\\"-0.\\\"].indexOf(stringified()) >= 0))\\n                     return;\\n                 if ([\\\"null\\\", \\\"\\\"].indexOf(str) >= 0)\\n                     return;\\n                stringified(str);\\n            });\\n            ko.applyBindingsToNode(\\n                element,\\n                {\\n                    value: stringified,\\n                    valueUpdate: allBindings.get('valueUpdate'),\\n                },\\n                context,\\n            );\\n        }\\n    };\\n    var json_data = {\\\"formatted_vals\\\":[\\\"0.1\\\",\\\"0.2\\\",\\\"0.3\\\",\\\"0.4\\\",\\\"0.5\\\",\\\"0.6\\\",\\\"0.7\\\",\\\"0.8\\\",\\\"0.9\\\",\\\"1.0\\\",\\\"1.1\\\",\\\"1.2\\\",\\\"1.3\\\",\\\"1.4\\\",\\\"1.5\\\",\\\"1.6\\\",\\\"1.7\\\",\\\"1.8\\\",\\\"1.9\\\",\\\"2.0\\\"],\\\"changes\\\":WebIO.getval({\\\"name\\\":\\\"changes\\\",\\\"scope\\\":\\\"16798210148035089453\\\",\\\"id\\\":\\\"12177779730730897326\\\",\\\"type\\\":\\\"observable\\\"}),\\\"index\\\":WebIO.getval({\\\"name\\\":\\\"index\\\",\\\"scope\\\":\\\"16798210148035089453\\\",\\\"id\\\":\\\"16422701882610944173\\\",\\\"type\\\":\\\"observable\\\"})};\\n    var self = this;\\n    function AppViewModel() {\\n        for (var key in json_data) {\\n            var el = json_data[key];\\n            this[key] = Array.isArray(el) ? ko.observableArray(el) : ko.observable(el);\\n        }\\n        \\n        [this[\\\"formatted_val\\\"]=ko.computed(    function(){\\n        return this.formatted_vals()[parseInt(this.index())-(1)];\\n    }\\n,this)]\\n        [this[\\\"changes\\\"].subscribe((function (val){!(this.valueFromJulia[\\\"changes\\\"]) ? (WebIO.setval({\\\"name\\\":\\\"changes\\\",\\\"scope\\\":\\\"16798210148035089453\\\",\\\"id\\\":\\\"12177779730730897326\\\",\\\"type\\\":\\\"observable\\\"},val)) : undefined; return this.valueFromJulia[\\\"changes\\\"]=false}),self),this[\\\"index\\\"].subscribe((function (val){!(this.valueFromJulia[\\\"index\\\"]) ? (WebIO.setval({\\\"name\\\":\\\"index\\\",\\\"scope\\\":\\\"16798210148035089453\\\",\\\"id\\\":\\\"16422701882610944173\\\",\\\"type\\\":\\\"observable\\\"},val)) : undefined; return this.valueFromJulia[\\\"index\\\"]=false}),self)]\\n        \\n    }\\n    self.model = new AppViewModel();\\n    self.valueFromJulia = {};\\n    for (var key in json_data) {\\n        self.valueFromJulia[key] = false;\\n    }\\n    ko.applyBindings(self.model, self.dom);\\n}\\n);\\n    (WebIO.importBlock({\\\"data\\\":[{\\\"name\\\":\\\"knockout\\\",\\\"type\\\":\\\"js\\\",\\\"url\\\":\\\"/assetserver/727383f2a47bd31570b7da84eee7b022dd6d7c78-knockout.js\\\"},{\\\"name\\\":\\\"knockout_punches\\\",\\\"type\\\":\\\"js\\\",\\\"url\\\":\\\"/assetserver/382b41b3b1bd9f26f75861d360bad7f8beea211f-knockout_punches.js\\\"}],\\\"type\\\":\\\"async_block\\\"})).then((imports) => handler.apply(this, imports));\\n}\\n\")])], Dict{Symbol, Any}(:className => \"field interact-widget\")), WebIO.Node{WebIO.DOM}(WebIO.DOM(:html, :div), Any[WebIO.Node{WebIO.DOM}(WebIO.DOM(:html, :div), Any[WebIO.Scope(WebIO.Node{WebIO.DOM}(WebIO.DOM(:html, :div), Any[], Dict{Symbol, Any}(:id => \"container\")), Dict{String, Tuple{Observables.AbstractObservable, Union{Nothing, Bool}}}(\"value\" => (Observable(\"\\\\;\\\\;\"), nothing)), Set{String}(), nothing, WebIO.Asset[WebIO.Asset(\"js\", nothing, \"/home/dushya/.julia/packages/InteractBase/LJXv3/src/../assets/katex.min.js\"), WebIO.Asset(\"css\", nothing, \"/home/dushya/.julia/packages/InteractBase/LJXv3/src/../assets/katex.min.css\")], Dict{Any, Any}(\"value\" => Any[WebIO.JSString(\"(function (txt){return this.k.render(txt,this.container)})\")]), WebIO.ConnectionPool(Channel{Any}(32), Set{WebIO.AbstractConnection}(), Base.GenericCondition{ReentrantLock}(Base.IntrusiveLinkedList{Task}(Task (runnable) @0x00007fafdcdf7080, Task (runnable) @0x00007fafdcdf7080), ReentrantLock(nothing, 0x00000000, 0x00, Base.GenericCondition{Base.Threads.SpinLock}(Base.IntrusiveLinkedList{Task}(nothing, nothing), Base.Threads.SpinLock(0)), (2, 140393320575072, 140393287722784)))), WebIO.JSString[WebIO.JSString(\"function () {\\n    var handler = ((function (k){this.k=k; this.container=this.dom.querySelector(\\\"#container\\\"); return k.render(\\\"\\\\\\\\;\\\\\\\\;\\\",this.container)}));\\n    (WebIO.importBlock({\\\"data\\\":[{\\\"name\\\":null,\\\"type\\\":\\\"js\\\",\\\"url\\\":\\\"/assetserver/dd22ed1bf1896c2748f3fe616ce0b838adc895c1-katex.min.js\\\"},{\\\"name\\\":null,\\\"type\\\":\\\"css\\\",\\\"url\\\":\\\"/assetserver/46517a424aa5e6cffc1360d7e0848b601c584ee3-katex.min.css\\\"}],\\\"type\\\":\\\"async_block\\\"})).then((imports) => handler.apply(this, imports));\\n}\\n\")])], Dict{Symbol, Any}(:className => \"interact-widget\")), WebIO.Node{WebIO.DOM}(WebIO.DOM(:html, :div), Any[WebIO.Scope(WebIO.Node{WebIO.DOM}(WebIO.DOM(:html, :button), Any[\"run\"], Dict{Symbol, Any}(:attributes => Dict{Any, Any}(\"data-bind\" => \"click: function (){this.clicks(this.clicks()+1)}, css: {'is-loading' : loading}\"), :className => \"is-medium button is-primary\", :style => Dict{String, Any}())), Dict{String, Tuple{Observables.AbstractObservable, Union{Nothing, Bool}}}(\"loading\" => (Observable(false), nothing), \"clicks\" => (Observable(0), nothing)), Set{String}(), nothing, WebIO.Asset[WebIO.Asset(\"js\", \"knockout\", \"/home/dushya/.julia/packages/Knockout/HReiN/src/../assets/knockout.js\"), WebIO.Asset(\"js\", \"knockout_punches\", \"/home/dushya/.julia/packages/Knockout/HReiN/src/../assets/knockout_punches.js\"), WebIO.Asset(\"js\", nothing, \"/home/dushya/.julia/packages/InteractBase/LJXv3/src/../assets/all.js\"), WebIO.Asset(\"css\", nothing, \"/home/dushya/.julia/packages/InteractBase/LJXv3/src/../assets/style.css\"), WebIO.Asset(\"css\", nothing, \"/home/dushya/.julia/packages/Interact/PENUy/src/../assets/bulma_confined.min.css\")], Dict{Any, Any}(\"loading\" => Any[WebIO.JSString(\"(function (val){return (val!=this.model[\\\"loading\\\"]()) ? (this.valueFromJulia[\\\"loading\\\"]=true, this.model[\\\"loading\\\"](val)) : undefined})\")], \"clicks\" => Any[WebIO.JSString(\"(function (val){return (val!=this.model[\\\"clicks\\\"]()) ? (this.valueFromJulia[\\\"clicks\\\"]=true, this.model[\\\"clicks\\\"](val)) : undefined})\")]), WebIO.ConnectionPool(Channel{Any}(32), Set{WebIO.AbstractConnection}(), Base.GenericCondition{ReentrantLock}(Base.IntrusiveLinkedList{Task}(Task (runnable) @0x00007fafdda7f210, Task (runnable) @0x00007fafdda7f210), ReentrantLock(nothing, 0x00000000, 0x00, Base.GenericCondition{Base.Threads.SpinLock}(Base.IntrusiveLinkedList{Task}(nothing, nothing), Base.Threads.SpinLock(0)), (2, 140393300305840, 140392478898224)))), WebIO.JSString[WebIO.JSString(\"function () {\\n    var handler = (function (ko, koPunches) {\\n    ko.punches.enableAll();\\n    ko.bindingHandlers.numericValue = {\\n        init: function(element, valueAccessor, allBindings, data, context) {\\n            var stringified = ko.observable(ko.unwrap(valueAccessor()));\\n            stringified.subscribe(function(value) {\\n                var val = parseFloat(value);\\n                if (!isNaN(val)) {\\n                    valueAccessor()(val);\\n                }\\n            });\\n            valueAccessor().subscribe(function(value) {\\n                var str = JSON.stringify(value);\\n                if ((str == \\\"0\\\") && ([\\\"-0\\\", \\\"-0.\\\"].indexOf(stringified()) >= 0))\\n                     return;\\n                 if ([\\\"null\\\", \\\"\\\"].indexOf(str) >= 0)\\n                     return;\\n                stringified(str);\\n            });\\n            ko.applyBindingsToNode(\\n                element,\\n                {\\n                    value: stringified,\\n                    valueUpdate: allBindings.get('valueUpdate'),\\n                },\\n                context,\\n            );\\n        }\\n    };\\n    var json_data = {\\\"loading\\\":WebIO.getval({\\\"name\\\":\\\"loading\\\",\\\"scope\\\":\\\"14127188900002982303\\\",\\\"id\\\":\\\"7438403378802749590\\\",\\\"type\\\":\\\"observable\\\"}),\\\"clicks\\\":WebIO.getval({\\\"name\\\":\\\"clicks\\\",\\\"scope\\\":\\\"14127188900002982303\\\",\\\"id\\\":\\\"13760782673656901908\\\",\\\"type\\\":\\\"observable\\\"})};\\n    var self = this;\\n    function AppViewModel() {\\n        for (var key in json_data) {\\n            var el = json_data[key];\\n            this[key] = Array.isArray(el) ? ko.observableArray(el) : ko.observable(el);\\n        }\\n        \\n        \\n        [this[\\\"loading\\\"].subscribe((function (val){!(this.valueFromJulia[\\\"loading\\\"]) ? (WebIO.setval({\\\"name\\\":\\\"loading\\\",\\\"scope\\\":\\\"14127188900002982303\\\",\\\"id\\\":\\\"7438403378802749590\\\",\\\"type\\\":\\\"observable\\\"},val)) : undefined; return this.valueFromJulia[\\\"loading\\\"]=false}),self),this[\\\"clicks\\\"].subscribe((function (val){!(this.valueFromJulia[\\\"clicks\\\"]) ? (WebIO.setval({\\\"name\\\":\\\"clicks\\\",\\\"scope\\\":\\\"14127188900002982303\\\",\\\"id\\\":\\\"13760782673656901908\\\",\\\"type\\\":\\\"observable\\\"},val)) : undefined; return this.valueFromJulia[\\\"clicks\\\"]=false}),self)]\\n        \\n    }\\n    self.model = new AppViewModel();\\n    self.valueFromJulia = {};\\n    for (var key in json_data) {\\n        self.valueFromJulia[key] = false;\\n    }\\n    ko.applyBindings(self.model, self.dom);\\n}\\n);\\n    (WebIO.importBlock({\\\"data\\\":[{\\\"name\\\":\\\"knockout\\\",\\\"type\\\":\\\"js\\\",\\\"url\\\":\\\"/assetserver/727383f2a47bd31570b7da84eee7b022dd6d7c78-knockout.js\\\"},{\\\"name\\\":\\\"knockout_punches\\\",\\\"type\\\":\\\"js\\\",\\\"url\\\":\\\"/assetserver/382b41b3b1bd9f26f75861d360bad7f8beea211f-knockout_punches.js\\\"}],\\\"type\\\":\\\"async_block\\\"})).then((imports) => handler.apply(this, imports));\\n}\\n\")])], Dict{Symbol, Any}(:className => \"field interact-widget\")), WebIO.Node{WebIO.DOM}(WebIO.DOM(:html, :div), Any[WebIO.Scope(WebIO.Node{WebIO.DOM}(WebIO.DOM(:html, :div), Any[], Dict{Symbol, Any}(:id => \"container\")), Dict{String, Tuple{Observables.AbstractObservable, Union{Nothing, Bool}}}(\"value\" => (Observable(\"\\\\;\\\\;\"), nothing)), Set{String}(), nothing, WebIO.Asset[WebIO.Asset(\"js\", nothing, \"/home/dushya/.julia/packages/InteractBase/LJXv3/src/../assets/katex.min.js\"), WebIO.Asset(\"css\", nothing, \"/home/dushya/.julia/packages/InteractBase/LJXv3/src/../assets/katex.min.css\")], Dict{Any, Any}(\"value\" => Any[WebIO.JSString(\"(function (txt){return this.k.render(txt,this.container)})\")]), WebIO.ConnectionPool(Channel{Any}(32), Set{WebIO.AbstractConnection}(), Base.GenericCondition{ReentrantLock}(Base.IntrusiveLinkedList{Task}(Task (runnable) @0x00007fafdcdf7080, Task (runnable) @0x00007fafdcdf7080), ReentrantLock(nothing, 0x00000000, 0x00, Base.GenericCondition{Base.Threads.SpinLock}(Base.IntrusiveLinkedList{Task}(nothing, nothing), Base.Threads.SpinLock(0)), (2, 140393320575072, 140393287722784)))), WebIO.JSString[WebIO.JSString(\"function () {\\n    var handler = ((function (k){this.k=k; this.container=this.dom.querySelector(\\\"#container\\\"); return k.render(\\\"\\\\\\\\;\\\\\\\\;\\\",this.container)}));\\n    (WebIO.importBlock({\\\"data\\\":[{\\\"name\\\":null,\\\"type\\\":\\\"js\\\",\\\"url\\\":\\\"/assetserver/dd22ed1bf1896c2748f3fe616ce0b838adc895c1-katex.min.js\\\"},{\\\"name\\\":null,\\\"type\\\":\\\"css\\\",\\\"url\\\":\\\"/assetserver/46517a424aa5e6cffc1360d7e0848b601c584ee3-katex.min.css\\\"}],\\\"type\\\":\\\"async_block\\\"})).then((imports) => handler.apply(this, imports));\\n}\\n\")])], Dict{Symbol, Any}(:className => \"interact-widget\")), WebIO.Node{WebIO.DOM}(WebIO.DOM(:html, :div), Any[WebIO.Scope(WebIO.Node{WebIO.DOM}(WebIO.DOM(:html, :button), Any[\"stop\"], Dict{Symbol, Any}(:attributes => Dict{Any, Any}(\"data-bind\" => \"click: function (){this.clicks(this.clicks()+1)}, css: {'is-loading' : loading}\"), :className => \"is-medium button is-primary\", :style => Dict{String, Any}())), Dict{String, Tuple{Observables.AbstractObservable, Union{Nothing, Bool}}}(\"loading\" => (Observable(false), nothing), \"clicks\" => (Observable(0), nothing)), Set{String}(), nothing, WebIO.Asset[WebIO.Asset(\"js\", \"knockout\", \"/home/dushya/.julia/packages/Knockout/HReiN/src/../assets/knockout.js\"), WebIO.Asset(\"js\", \"knockout_punches\", \"/home/dushya/.julia/packages/Knockout/HReiN/src/../assets/knockout_punches.js\"), WebIO.Asset(\"js\", nothing, \"/home/dushya/.julia/packages/InteractBase/LJXv3/src/../assets/all.js\"), WebIO.Asset(\"css\", nothing, \"/home/dushya/.julia/packages/InteractBase/LJXv3/src/../assets/style.css\"), WebIO.Asset(\"css\", nothing, \"/home/dushya/.julia/packages/Interact/PENUy/src/../assets/bulma_confined.min.css\")], Dict{Any, Any}(\"loading\" => Any[WebIO.JSString(\"(function (val){return (val!=this.model[\\\"loading\\\"]()) ? (this.valueFromJulia[\\\"loading\\\"]=true, this.model[\\\"loading\\\"](val)) : undefined})\")], \"clicks\" => Any[WebIO.JSString(\"(function (val){return (val!=this.model[\\\"clicks\\\"]()) ? (this.valueFromJulia[\\\"clicks\\\"]=true, this.model[\\\"clicks\\\"](val)) : undefined})\")]), WebIO.ConnectionPool(Channel{Any}(32), Set{WebIO.AbstractConnection}(), Base.GenericCondition{ReentrantLock}(Base.IntrusiveLinkedList{Task}(Task (runnable) @0x00007faf6dd2ad60, Task (runnable) @0x00007faf6dd2ad60), ReentrantLock(nothing, 0x00000000, 0x00, Base.GenericCondition{Base.Threads.SpinLock}(Base.IntrusiveLinkedList{Task}(nothing, nothing), Base.Threads.SpinLock(0)), (0, 0, 141733920768)))), WebIO.JSString[WebIO.JSString(\"function () {\\n    var handler = (function (ko, koPunches) {\\n    ko.punches.enableAll();\\n    ko.bindingHandlers.numericValue = {\\n        init: function(element, valueAccessor, allBindings, data, context) {\\n            var stringified = ko.observable(ko.unwrap(valueAccessor()));\\n            stringified.subscribe(function(value) {\\n                var val = parseFloat(value);\\n                if (!isNaN(val)) {\\n                    valueAccessor()(val);\\n                }\\n            });\\n            valueAccessor().subscribe(function(value) {\\n                var str = JSON.stringify(value);\\n                if ((str == \\\"0\\\") && ([\\\"-0\\\", \\\"-0.\\\"].indexOf(stringified()) >= 0))\\n                     return;\\n                 if ([\\\"null\\\", \\\"\\\"].indexOf(str) >= 0)\\n                     return;\\n                stringified(str);\\n            });\\n            ko.applyBindingsToNode(\\n                element,\\n                {\\n                    value: stringified,\\n                    valueUpdate: allBindings.get('valueUpdate'),\\n                },\\n                context,\\n            );\\n        }\\n    };\\n    var json_data = {\\\"loading\\\":WebIO.getval({\\\"name\\\":\\\"loading\\\",\\\"scope\\\":\\\"5763325727150945512\\\",\\\"id\\\":\\\"15102463312342509603\\\",\\\"type\\\":\\\"observable\\\"}),\\\"clicks\\\":WebIO.getval({\\\"name\\\":\\\"clicks\\\",\\\"scope\\\":\\\"5763325727150945512\\\",\\\"id\\\":\\\"4349330505519181502\\\",\\\"type\\\":\\\"observable\\\"})};\\n    var self = this;\\n    function AppViewModel() {\\n        for (var key in json_data) {\\n            var el = json_data[key];\\n            this[key] = Array.isArray(el) ? ko.observableArray(el) : ko.observable(el);\\n        }\\n        \\n        \\n        [this[\\\"loading\\\"].subscribe((function (val){!(this.valueFromJulia[\\\"loading\\\"]) ? (WebIO.setval({\\\"name\\\":\\\"loading\\\",\\\"scope\\\":\\\"5763325727150945512\\\",\\\"id\\\":\\\"15102463312342509603\\\",\\\"type\\\":\\\"observable\\\"},val)) : undefined; return this.valueFromJulia[\\\"loading\\\"]=false}),self),this[\\\"clicks\\\"].subscribe((function (val){!(this.valueFromJulia[\\\"clicks\\\"]) ? (WebIO.setval({\\\"name\\\":\\\"clicks\\\",\\\"scope\\\":\\\"5763325727150945512\\\",\\\"id\\\":\\\"4349330505519181502\\\",\\\"type\\\":\\\"observable\\\"},val)) : undefined; return this.valueFromJulia[\\\"clicks\\\"]=false}),self)]\\n        \\n    }\\n    self.model = new AppViewModel();\\n    self.valueFromJulia = {};\\n    for (var key in json_data) {\\n        self.valueFromJulia[key] = false;\\n    }\\n    ko.applyBindings(self.model, self.dom);\\n}\\n);\\n    (WebIO.importBlock({\\\"data\\\":[{\\\"name\\\":\\\"knockout\\\",\\\"type\\\":\\\"js\\\",\\\"url\\\":\\\"/assetserver/727383f2a47bd31570b7da84eee7b022dd6d7c78-knockout.js\\\"},{\\\"name\\\":\\\"knockout_punches\\\",\\\"type\\\":\\\"js\\\",\\\"url\\\":\\\"/assetserver/382b41b3b1bd9f26f75861d360bad7f8beea211f-knockout_punches.js\\\"}],\\\"type\\\":\\\"async_block\\\"})).then((imports) => handler.apply(this, imports));\\n}\\n\")])], Dict{Symbol, Any}(:className => \"field interact-widget\")), WebIO.Node{WebIO.DOM}(WebIO.DOM(:html, :div), Any[WebIO.Scope(WebIO.Node{WebIO.DOM}(WebIO.DOM(:html, :div), Any[], Dict{Symbol, Any}(:id => \"container\")), Dict{String, Tuple{Observables.AbstractObservable, Union{Nothing, Bool}}}(\"value\" => (Observable(\"\\\\;\\\\;\"), nothing)), Set{String}(), nothing, WebIO.Asset[WebIO.Asset(\"js\", nothing, \"/home/dushya/.julia/packages/InteractBase/LJXv3/src/../assets/katex.min.js\"), WebIO.Asset(\"css\", nothing, \"/home/dushya/.julia/packages/InteractBase/LJXv3/src/../assets/katex.min.css\")], Dict{Any, Any}(\"value\" => Any[WebIO.JSString(\"(function (txt){return this.k.render(txt,this.container)})\")]), WebIO.ConnectionPool(Channel{Any}(32), Set{WebIO.AbstractConnection}(), Base.GenericCondition{ReentrantLock}(Base.IntrusiveLinkedList{Task}(Task (runnable) @0x00007fafdcdf7080, Task (runnable) @0x00007fafdcdf7080), ReentrantLock(nothing, 0x00000000, 0x00, Base.GenericCondition{Base.Threads.SpinLock}(Base.IntrusiveLinkedList{Task}(nothing, nothing), Base.Threads.SpinLock(0)), (2, 140393320575072, 140393287722784)))), WebIO.JSString[WebIO.JSString(\"function () {\\n    var handler = ((function (k){this.k=k; this.container=this.dom.querySelector(\\\"#container\\\"); return k.render(\\\"\\\\\\\\;\\\\\\\\;\\\",this.container)}));\\n    (WebIO.importBlock({\\\"data\\\":[{\\\"name\\\":null,\\\"type\\\":\\\"js\\\",\\\"url\\\":\\\"/assetserver/dd22ed1bf1896c2748f3fe616ce0b838adc895c1-katex.min.js\\\"},{\\\"name\\\":null,\\\"type\\\":\\\"css\\\",\\\"url\\\":\\\"/assetserver/46517a424aa5e6cffc1360d7e0848b601c584ee3-katex.min.css\\\"}],\\\"type\\\":\\\"async_block\\\"})).then((imports) => handler.apply(this, imports));\\n}\\n\")])], Dict{Symbol, Any}(:className => \"interact-widget\")), WebIO.Node{WebIO.DOM}(WebIO.DOM(:html, :div), Any[WebIO.Scope(WebIO.Node{WebIO.DOM}(WebIO.DOM(:html, :button), Any[\"save\"], Dict{Symbol, Any}(:attributes => Dict{Any, Any}(\"data-bind\" => \"click: function (){this.clicks(this.clicks()+1)}, css: {'is-loading' : loading}\"), :className => \"is-medium button is-primary\", :style => Dict{String, Any}())), Dict{String, Tuple{Observables.AbstractObservable, Union{Nothing, Bool}}}(\"loading\" => (Observable(false), nothing), \"clicks\" => (Observable(0), nothing)), Set{String}(), nothing, WebIO.Asset[WebIO.Asset(\"js\", \"knockout\", \"/home/dushya/.julia/packages/Knockout/HReiN/src/../assets/knockout.js\"), WebIO.Asset(\"js\", \"knockout_punches\", \"/home/dushya/.julia/packages/Knockout/HReiN/src/../assets/knockout_punches.js\"), WebIO.Asset(\"js\", nothing, \"/home/dushya/.julia/packages/InteractBase/LJXv3/src/../assets/all.js\"), WebIO.Asset(\"css\", nothing, \"/home/dushya/.julia/packages/InteractBase/LJXv3/src/../assets/style.css\"), WebIO.Asset(\"css\", nothing, \"/home/dushya/.julia/packages/Interact/PENUy/src/../assets/bulma_confined.min.css\")], Dict{Any, Any}(\"loading\" => Any[WebIO.JSString(\"(function (val){return (val!=this.model[\\\"loading\\\"]()) ? (this.valueFromJulia[\\\"loading\\\"]=true, this.model[\\\"loading\\\"](val)) : undefined})\")], \"clicks\" => Any[WebIO.JSString(\"(function (val){return (val!=this.model[\\\"clicks\\\"]()) ? (this.valueFromJulia[\\\"clicks\\\"]=true, this.model[\\\"clicks\\\"](val)) : undefined})\")]), WebIO.ConnectionPool(Channel{Any}(32), Set{WebIO.AbstractConnection}(), Base.GenericCondition{ReentrantLock}(Base.IntrusiveLinkedList{Task}(Task (runnable) @0x00007faf6dca15f0, Task (runnable) @0x00007faf6dca15f0), ReentrantLock(nothing, 0x00000000, 0x00, Base.GenericCondition{Base.Threads.SpinLock}(Base.IntrusiveLinkedList{Task}(nothing, nothing), Base.Threads.SpinLock(0)), (0, 96, 4294967297)))), WebIO.JSString[WebIO.JSString(\"function () {\\n    var handler = (function (ko, koPunches) {\\n    ko.punches.enableAll();\\n    ko.bindingHandlers.numericValue = {\\n        init: function(element, valueAccessor, allBindings, data, context) {\\n            var stringified = ko.observable(ko.unwrap(valueAccessor()));\\n            stringified.subscribe(function(value) {\\n                var val = parseFloat(value);\\n                if (!isNaN(val)) {\\n                    valueAccessor()(val);\\n                }\\n            });\\n            valueAccessor().subscribe(function(value) {\\n                var str = JSON.stringify(value);\\n                if ((str == \\\"0\\\") && ([\\\"-0\\\", \\\"-0.\\\"].indexOf(stringified()) >= 0))\\n                     return;\\n                 if ([\\\"null\\\", \\\"\\\"].indexOf(str) >= 0)\\n                     return;\\n                stringified(str);\\n            });\\n            ko.applyBindingsToNode(\\n                element,\\n                {\\n                    value: stringified,\\n                    valueUpdate: allBindings.get('valueUpdate'),\\n                },\\n                context,\\n            );\\n        }\\n    };\\n    var json_data = {\\\"loading\\\":WebIO.getval({\\\"name\\\":\\\"loading\\\",\\\"scope\\\":\\\"16086116833600981377\\\",\\\"id\\\":\\\"17671725763756650091\\\",\\\"type\\\":\\\"observable\\\"}),\\\"clicks\\\":WebIO.getval({\\\"name\\\":\\\"clicks\\\",\\\"scope\\\":\\\"16086116833600981377\\\",\\\"id\\\":\\\"5606975105226550989\\\",\\\"type\\\":\\\"observable\\\"})};\\n    var self = this;\\n    function AppViewModel() {\\n        for (var key in json_data) {\\n            var el = json_data[key];\\n            this[key] = Array.isArray(el) ? ko.observableArray(el) : ko.observable(el);\\n        }\\n        \\n        \\n        [this[\\\"loading\\\"].subscribe((function (val){!(this.valueFromJulia[\\\"loading\\\"]) ? (WebIO.setval({\\\"name\\\":\\\"loading\\\",\\\"scope\\\":\\\"16086116833600981377\\\",\\\"id\\\":\\\"17671725763756650091\\\",\\\"type\\\":\\\"observable\\\"},val)) : undefined; return this.valueFromJulia[\\\"loading\\\"]=false}),self),this[\\\"clicks\\\"].subscribe((function (val){!(this.valueFromJulia[\\\"clicks\\\"]) ? (WebIO.setval({\\\"name\\\":\\\"clicks\\\",\\\"scope\\\":\\\"16086116833600981377\\\",\\\"id\\\":\\\"5606975105226550989\\\",\\\"type\\\":\\\"observable\\\"},val)) : undefined; return this.valueFromJulia[\\\"clicks\\\"]=false}),self)]\\n        \\n    }\\n    self.model = new AppViewModel();\\n    self.valueFromJulia = {};\\n    for (var key in json_data) {\\n        self.valueFromJulia[key] = false;\\n    }\\n    ko.applyBindings(self.model, self.dom);\\n}\\n);\\n    (WebIO.importBlock({\\\"data\\\":[{\\\"name\\\":\\\"knockout\\\",\\\"type\\\":\\\"js\\\",\\\"url\\\":\\\"/assetserver/727383f2a47bd31570b7da84eee7b022dd6d7c78-knockout.js\\\"},{\\\"name\\\":\\\"knockout_punches\\\",\\\"type\\\":\\\"js\\\",\\\"url\\\":\\\"/assetserver/382b41b3b1bd9f26f75861d360bad7f8beea211f-knockout_punches.js\\\"}],\\\"type\\\":\\\"async_block\\\"})).then((imports) => handler.apply(this, imports));\\n}\\n\")])], Dict{Symbol, Any}(:className => \"field interact-widget\"))], Dict{Symbol, Any}(:style => Dict(\"display\" => \"flex\", \"flex-direction\" => \"row\")))], Dict{Symbol, Any}(:style => Dict(\"display\" => \"flex\", \"flex-direction\" => \"column\"))), WebIO.Node{WebIO.DOM}(WebIO.DOM(:html, :div), Any[WebIO.Scope(WebIO.Node{WebIO.DOM}(WebIO.DOM(:html, :div), Any[], Dict{Symbol, Any}(:id => \"container\")), Dict{String, Tuple{Observables.AbstractObservable, Union{Nothing, Bool}}}(\"value\" => (Observable(\"\\\\;\\\\;\"), nothing)), Set{String}(), nothing, WebIO.Asset[WebIO.Asset(\"js\", nothing, \"/home/dushya/.julia/packages/InteractBase/LJXv3/src/../assets/katex.min.js\"), WebIO.Asset(\"css\", nothing, \"/home/dushya/.julia/packages/InteractBase/LJXv3/src/../assets/katex.min.css\")], Dict{Any, Any}(\"value\" => Any[WebIO.JSString(\"(function (txt){return this.k.render(txt,this.container)})\")]), WebIO.ConnectionPool(Channel{Any}(32), Set{WebIO.AbstractConnection}(), Base.GenericCondition{ReentrantLock}(Base.IntrusiveLinkedList{Task}(Task (runnable) @0x00007fafdcdf7080, Task (runnable) @0x00007fafdcdf7080), ReentrantLock(nothing, 0x00000000, 0x00, Base.GenericCondition{Base.Threads.SpinLock}(Base.IntrusiveLinkedList{Task}(nothing, nothing), Base.Threads.SpinLock(0)), (2, 140393320575072, 140393287722784)))), WebIO.JSString[WebIO.JSString(\"function () {\\n    var handler = ((function (k){this.k=k; this.container=this.dom.querySelector(\\\"#container\\\"); return k.render(\\\"\\\\\\\\;\\\\\\\\;\\\",this.container)}));\\n    (WebIO.importBlock({\\\"data\\\":[{\\\"name\\\":null,\\\"type\\\":\\\"js\\\",\\\"url\\\":\\\"/assetserver/dd22ed1bf1896c2748f3fe616ce0b838adc895c1-katex.min.js\\\"},{\\\"name\\\":null,\\\"type\\\":\\\"css\\\",\\\"url\\\":\\\"/assetserver/46517a424aa5e6cffc1360d7e0848b601c584ee3-katex.min.css\\\"}],\\\"type\\\":\\\"async_block\\\"})).then((imports) => handler.apply(this, imports));\\n}\\n\")])], Dict{Symbol, Any}(:className => \"interact-widget\")), Observable(Luxor.Drawing(430.0, 430.0, \"\", Cairo.CairoSurfaceBase{UInt32}(Ptr{Nothing} @0x0000000000000000, 430.0, 430.0), Cairo.CairoContext(Ptr{Nothing} @0x00000000042ff8d0, Cairo.CairoSurfaceBase{UInt32}(Ptr{Nothing} @0x0000000000000000, 430.0, 430.0), Ptr{Nothing} @0x000000000438e990), :png, 0.0, 0.0, 0.0, 1.0, IOBuffer(data=UInt8[...], readable=true, writable=true, seekable=true, append=false, size=4289, maxsize=Inf, ptr=4290, mark=-1), UInt8[0x89, 0x50, 0x4e, 0x47, 0x0d, 0x0a, 0x1a, 0x0a, 0x00, 0x00  …  0x00, 0x00, 0x49, 0x45, 0x4e, 0x44, 0xae, 0x42, 0x60, 0x82], false)), WebIO.Node{WebIO.DOM}(WebIO.DOM(:html, :div), Any[WebIO.Scope(WebIO.Node{WebIO.DOM}(WebIO.DOM(:html, :div), Any[], Dict{Symbol, Any}(:id => \"container\")), Dict{String, Tuple{Observables.AbstractObservable, Union{Nothing, Bool}}}(\"value\" => (Observable(\"\\\\;\\\\;\"), nothing)), Set{String}(), nothing, WebIO.Asset[WebIO.Asset(\"js\", nothing, \"/home/dushya/.julia/packages/InteractBase/LJXv3/src/../assets/katex.min.js\"), WebIO.Asset(\"css\", nothing, \"/home/dushya/.julia/packages/InteractBase/LJXv3/src/../assets/katex.min.css\")], Dict{Any, Any}(\"value\" => Any[WebIO.JSString(\"(function (txt){return this.k.render(txt,this.container)})\")]), WebIO.ConnectionPool(Channel{Any}(32), Set{WebIO.AbstractConnection}(), Base.GenericCondition{ReentrantLock}(Base.IntrusiveLinkedList{Task}(Task (runnable) @0x00007fafdcdf7080, Task (runnable) @0x00007fafdcdf7080), ReentrantLock(nothing, 0x00000000, 0x00, Base.GenericCondition{Base.Threads.SpinLock}(Base.IntrusiveLinkedList{Task}(nothing, nothing), Base.Threads.SpinLock(0)), (2, 140393320575072, 140393287722784)))), WebIO.JSString[WebIO.JSString(\"function () {\\n    var handler = ((function (k){this.k=k; this.container=this.dom.querySelector(\\\"#container\\\"); return k.render(\\\"\\\\\\\\;\\\\\\\\;\\\",this.container)}));\\n    (WebIO.importBlock({\\\"data\\\":[{\\\"name\\\":null,\\\"type\\\":\\\"js\\\",\\\"url\\\":\\\"/assetserver/dd22ed1bf1896c2748f3fe616ce0b838adc895c1-katex.min.js\\\"},{\\\"name\\\":null,\\\"type\\\":\\\"css\\\",\\\"url\\\":\\\"/assetserver/46517a424aa5e6cffc1360d7e0848b601c584ee3-katex.min.css\\\"}],\\\"type\\\":\\\"async_block\\\"})).then((imports) => handler.apply(this, imports));\\n}\\n\")])], Dict{Symbol, Any}(:className => \"interact-widget\")), WebIO.Node{WebIO.DOM}(WebIO.DOM(:html, :div), Any[], Dict{Symbol, Any}(:style => Dict(\"display\" => \"flex\", \"flex-direction\" => \"column\")))], Dict{Symbol, Any}(:style => Dict(\"display\" => \"flex\", \"flex-direction\" => \"row\")))], Dict{Symbol, Any}(:style => Dict(\"display\" => \"flex\", \"flex-direction\" => \"column\")))"
      ]
     },
     "execution_count": 10,
     "metadata": {
      "application/vnd.webio.node+json": {
       "kernelId": "53be1c7a-c4aa-4764-b565-bdcd338f5fe4"
      }
     },
     "output_type": "execute_result"
    }
   ],
   "source": [
    "animate_sim(model, tail = (5, node->true))"
   ]
  },
  {
   "cell_type": "code",
   "execution_count": null,
   "metadata": {},
   "outputs": [],
   "source": []
  }
 ],
 "metadata": {
  "@webio": {
   "lastCommId": "257e9dea003e4939b070ac92c93a0e26",
   "lastKernelId": "53be1c7a-c4aa-4764-b565-bdcd338f5fe4"
  },
  "kernelspec": {
   "display_name": "Julia 1.9.2",
   "language": "julia",
   "name": "julia-1.9"
  },
  "language_info": {
   "file_extension": ".jl",
   "mimetype": "application/julia",
   "name": "julia",
   "version": "1.9.2"
  }
 },
 "nbformat": 4,
 "nbformat_minor": 4
}
