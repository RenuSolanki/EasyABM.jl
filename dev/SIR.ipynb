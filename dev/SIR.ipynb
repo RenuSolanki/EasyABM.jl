{
 "cells": [
  {
   "cell_type": "markdown",
   "metadata": {},
   "source": [
    "# SIR model\n",
    "\n",
    "In the agent-based modeling approach an epidemiological model, like SIR model can have a large number of parameters depending upon the requirements. Below we will implement a basic SIR model in EasyABM."
   ]
  },
  {
   "cell_type": "code",
   "execution_count": null,
   "metadata": {
    "scrolled": true
   },
   "outputs": [],
   "source": [
    "using Pkg, Revise\n",
    "Pkg.activate(joinpath(@__DIR__, \"..\"))\n",
    "using EasyABM"
   ]
  },
  {
   "cell_type": "markdown",
   "metadata": {},
   "source": [
    "## Step 1: Create Agents and Model\n",
    "\n",
    "In our SIR model there will be four type of agents - agentS (susceptible), agentI (infectious), agentR (recovered) and agentD (dead). We assume that the recovered agents become immune and do not get infected again. We create 500 2d agents all of type agentS (later in the initilisation step will set the type of some agents to be agentI). The `not_well_since` property of an agent is the time since the agent got infected. Our model has parameters `initially_sick` (number of agents initially sick), `sickness_duration` (duration of sickness), `infection_prob` (probability of infection when an infected agent comes in contact with a susceptible agent) and `death_prob` (the probability of death from infection). "
   ]
  },
  {
   "cell_type": "code",
   "execution_count": null,
   "metadata": {},
   "outputs": [],
   "source": [
    "@enum AgentType begin\n",
    "    agentS=1\n",
    "    agentI=2\n",
    "    agentR=3\n",
    "    agentD=4\n",
    "end"
   ]
  },
  {
   "cell_type": "code",
   "execution_count": null,
   "metadata": {},
   "outputs": [],
   "source": [
    "agents = grid_2d_agents(500, color=:green, \n",
    "            atype = agentS, not_well_since = 0, \n",
    "            keeps_record_of = [:atype, :color, :pos]);\n",
    "model = create_2d_model(agents, grid_size=(50,50), \n",
    "            space_type = Periodic,\n",
    "            agents_type = Mortal,\n",
    "            initially_sick = 10, \n",
    "            sickness_duration = 21, infection_prob = 0.8, \n",
    "            death_prob=0.05);"
   ]
  },
  {
   "cell_type": "markdown",
   "metadata": {},
   "source": [
    "## Step 2: Initialise the model\n",
    "\n",
    "In the second step we initialise the agents by defining `initialiser!` function and sending it as an argument to `init_model!`. In the `initialiser!` function we set first `initially_sick` number of agents to be of type agentI and set their color to `:red`. All other agents are set to be of type agentS with color `:green`. We also set each agents position at the center of a randomly selected patch.  \n"
   ]
  },
  {
   "cell_type": "code",
   "execution_count": null,
   "metadata": {},
   "outputs": [],
   "source": [
    "function initialiser!(model)\n",
    "    for (i,agent) in enumerate(model.agents)\n",
    "        if i<=model.parameters.initially_sick\n",
    "            agent.atype = agentI\n",
    "            agent.color = :red\n",
    "        else \n",
    "            agent.atype = agentS\n",
    "            agent.color = :green\n",
    "        end\n",
    "        agent.not_well_since = 0 \n",
    "        x = rand(1:model.size[1])\n",
    "        y = rand(1:model.size[2])\n",
    "        agent.pos = Vect(x, y) # center of a random patch\n",
    "    end\n",
    "end\n",
    "init_model!(model, initialiser = initialiser!)"
   ]
  },
  {
   "cell_type": "markdown",
   "metadata": {},
   "source": [
    "## Step 3: Run the model\n",
    "\n",
    "In this step we implement the step logic of the SIR model in the `step_rule!` function and run the model for 100 steps."
   ]
  },
  {
   "cell_type": "code",
   "execution_count": null,
   "metadata": {
    "scrolled": true
   },
   "outputs": [],
   "source": [
    "function die_or_recover(agent, death_prob)\n",
    "    if rand()<death_prob\n",
    "        agent.atype = agentD\n",
    "        agent.color = :black\n",
    "    else\n",
    "        agent.atype = agentR\n",
    "        agent.color = :yellow\n",
    "    end\n",
    "    agent.not_well_since = 0 \n",
    "end\n",
    "\n",
    "function infect_neighbors(agent, nbrs, infection_prob)\n",
    "    for nbr in nbrs\n",
    "        if (nbr.atype ==agentS) && (rand()< infection_prob)\n",
    "            nbr.atype = agentI\n",
    "            nbr.not_well_since = 0\n",
    "            nbr.color = :red\n",
    "        end\n",
    "    end\n",
    "end\n",
    "\n",
    "function change_position(agent)\n",
    "    dx =rand(-1:1)\n",
    "    dy =rand(-1:1)\n",
    "    agent.pos += Vect(dx,dy)\n",
    "end\n",
    "\n",
    "function step_rule!(model)\n",
    "    parameters = model.parameters\n",
    "    for agent in model.agents\n",
    "        nbrs = grid_neighbors(agent, model, 1) #immediate neighbors on grid\n",
    "        if agent.atype == agentI\n",
    "             agent.not_well_since +=1\n",
    "            if agent.not_well_since > parameters.sickness_duration\n",
    "                die_or_recover(agent, parameters.death_prob)\n",
    "            elseif agent.not_well_since>1\n",
    "                infect_neighbors(agent, nbrs, parameters.infection_prob)\n",
    "            end   \n",
    "        end\n",
    "        if agent.atype !=agentD\n",
    "            change_position(agent)\n",
    "        end   \n",
    "    end\n",
    "end\n"
   ]
  },
  {
   "cell_type": "code",
   "execution_count": null,
   "metadata": {},
   "outputs": [],
   "source": [
    "run_model!(model, steps = 100, step_rule = step_rule! )"
   ]
  },
  {
   "cell_type": "markdown",
   "metadata": {},
   "source": [
    "If one wants to see the animation of the model run, it can be done as "
   ]
  },
  {
   "cell_type": "code",
   "execution_count": null,
   "metadata": {
    "scrolled": true
   },
   "outputs": [],
   "source": [
    "animate_sim(model, \n",
    "agent_plots = Dict(\"Susceptible\"=> ag -> ag.atype == agentS ? 1 : 0, \n",
    "        \"Infected\" => ag -> ag.atype == agentI ? 1 : 0,\n",
    "        \"Recovered\" => ag -> ag.atype == agentR ? 1 : 0\n",
    "        )\n",
    ")"
   ]
  },
  {
   "cell_type": "markdown",
   "metadata": {},
   "source": [
    "![png](assets/SIR/SIRAnim1.png)"
   ]
  },
  {
   "cell_type": "markdown",
   "metadata": {},
   "source": [
    "After defining the `step_rule!` function we can also choose to create an interactive application (which currently works in Jupyter with WebIO installation) as "
   ]
  },
  {
   "cell_type": "code",
   "execution_count": null,
   "metadata": {
    "scrolled": true
   },
   "outputs": [],
   "source": [
    "create_interactive_app(model, initialiser= initialiser!,\n",
    "    step_rule= step_rule!,\n",
    "    model_controls=[(:initially_sick, :s, 1:500), \n",
    "        (:sickness_duration, :s, 5:25),\n",
    "        (:infection_prob, :s, 0.01:0.01:1.0),\n",
    "        (:death_prob, :s, 0.01:0.01:0.1)\n",
    "        ],\n",
    "    agent_plots = Dict(\"Susceptible\"=> ag -> ag.atype == agentS ? 1 : 0, \n",
    "        \"Infected\" => ag -> ag.atype == agentI ? 1 : 0,\n",
    "        \"Recovered\" => ag -> ag.atype == agentR ? 1 : 0\n",
    "        ),\n",
    "    plots_only = false,\n",
    "    frames=70) "
   ]
  },
  {
   "cell_type": "markdown",
   "metadata": {},
   "source": [
    "![png](assets/SIR/SIRIntApp.png)"
   ]
  },
  {
   "cell_type": "markdown",
   "metadata": {},
   "source": [
    "## Step 4: Fetch Data \n",
    "\n",
    "The following line of code fetches data of average number of susceptible, infectious and recovered agents. \n",
    "The function `get_agents_avg_props` averages over all agents the values returned by functions sent to it as arguments. "
   ]
  },
  {
   "cell_type": "code",
   "execution_count": null,
   "metadata": {},
   "outputs": [],
   "source": [
    "df = get_agents_avg_props(model, ag -> ag.atype == agentS ? 1 : 0, \n",
    "    ag -> ag.atype == agentI ? 1 : 0,\n",
    "    ag -> ag.atype == agentR ? 1 : 0,\n",
    "    labels = [\"Susceptible\", \"Infected\", \"Recovered\"],\n",
    "    plot_result = true\n",
    ")"
   ]
  },
  {
   "cell_type": "markdown",
   "metadata": {},
   "source": [
    "![png](assets/SIR/SIRPlot1.png)"
   ]
  }
 ],
 "metadata": {
  "@webio": {
   "lastCommId": "626bd26076564398856312792645a11a",
   "lastKernelId": "0c02f99f-a36f-4a7c-b6bb-0ead58a72826"
  },
  "kernelspec": {
   "display_name": "Julia 1.7.2",
   "language": "julia",
   "name": "julia-1.7"
  },
  "language_info": {
   "file_extension": ".jl",
   "mimetype": "application/julia",
   "name": "julia",
   "version": "1.7.2"
  }
 },
 "nbformat": 4,
 "nbformat_minor": 4
}
