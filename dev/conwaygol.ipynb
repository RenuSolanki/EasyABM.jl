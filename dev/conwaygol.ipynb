{
 "cells": [
  {
   "cell_type": "markdown",
   "metadata": {},
   "source": [
    "# Conway's Game of Life"
   ]
  },
  {
   "cell_type": "code",
   "execution_count": 1,
   "metadata": {},
   "outputs": [
    {
     "name": "stderr",
     "output_type": "stream",
     "text": [
      "\u001b[32m\u001b[1m  Activating\u001b[22m\u001b[39m project at `~/Documents/EasyABM`\n"
     ]
    },
    {
     "data": {
      "application/vnd.webio.node+json": {
       "children": [],
       "instanceArgs": {
        "namespace": "html",
        "tag": "div"
       },
       "nodeType": "DOM",
       "props": {},
       "type": "node"
      },
      "text/html": [
       "<div style=\"padding: 1em; background-color: #f8d6da; border: 1px solid #f5c6cb; font-weight: bold;\">\n",
       "<p>The WebIO Jupyter extension was not detected. See the\n",
       "<a href=\"https://juliagizmos.github.io/WebIO.jl/latest/providers/ijulia/\" target=\"_blank\">\n",
       "    WebIO Jupyter integration documentation\n",
       "</a>\n",
       "for more information.\n",
       "</div>\n"
      ],
      "text/plain": [
       "WebIO._IJuliaInit()"
      ]
     },
     "metadata": {
      "application/vnd.webio.node+json": {
       "kernelId": "6ba02987-e8fc-455e-89e8-ff28cbbe679c"
      }
     },
     "output_type": "display_data"
    }
   ],
   "source": [
    "using Pkg, Revise\n",
    "Pkg.activate(joinpath(@__DIR__, \"../..\"))\n",
    "using EasyABM"
   ]
  },
  {
   "cell_type": "markdown",
   "metadata": {},
   "source": [
    "## Step 1: Create Agents and Model\n",
    "\n",
    "We work with only patches in this model. The size of the \n",
    "grid in the model created is 20x20 and `alive_percent` is the fraction of patches that are live initially."
   ]
  },
  {
   "cell_type": "code",
   "execution_count": 27,
   "metadata": {},
   "outputs": [
    {
     "data": {
      "text/plain": [
       "EasyABM SpaceModel2D{EasyABM.StaticType, Int64, EasyABM.PeriodicType}: In a EasyABM.StaticType model number of agents is fixed.\n"
      ]
     },
     "execution_count": 27,
     "metadata": {},
     "output_type": "execute_result"
    }
   ],
   "source": [
    "model = create_2d_model(size = (30,30), alive_percent = 0.3, space_type = Periodic)"
   ]
  },
  {
   "cell_type": "markdown",
   "metadata": {},
   "source": [
    "## Step 2: Initialise the model\n",
    "\n",
    "In the second step we initialise the patches by defining `initialiser!` function and sending it as an argument to `init_model!`. In the `initialiser!` function we randomly set patches to be either of color `cl\"green\"` or `cl\"white\"` (a named color, say \"green\", can be defined in EasyABM as `cl\"green\"` or as `Col(\"green\")` or more generally as `Col(0,1,0)` or `Col(0,1,0,1)`). The patches with green color have their `is_alive` property set to true and the patches with white color have their `is_alive` property set to false. We specify the patch properties `color` and `is_alive` that we want to be recorded during time evolution in the `props_to_record` argument to the `init_model!` "
   ]
  },
  {
   "cell_type": "code",
   "execution_count": 28,
   "metadata": {},
   "outputs": [],
   "source": [
    "function initialiser!(model)\n",
    "    for j in 1:model.size[2]\n",
    "        for i in 1:model.size[1]\n",
    "            if rand()<model.properties.alive_percent\n",
    "                model.patches[i,j].color = cl\"green\"\n",
    "                model.patches[i,j].is_alive = true\n",
    "            else\n",
    "                model.patches[i,j].color = cl\"white\"\n",
    "                model.patches[i,j].is_alive = false\n",
    "            end\n",
    "        end\n",
    "    end\n",
    "end\n",
    "\n",
    "init_model!(model, initialiser = initialiser!, \n",
    "    props_to_record=Dict(\"patches\"=>Set([:color, :is_alive])))"
   ]
  },
  {
   "cell_type": "markdown",
   "metadata": {},
   "source": [
    "## Step 3: Defining the step_rule! and running the model\n",
    "\n",
    "In this step we implement the step logic of the Conway's Game of Life in the `step_rule!` function and run the model for 100 steps. \n",
    "Since Conway's model requires all patches to be updated at the same time, in the `step_rule!` function we first compute the `is_alive` \n",
    "property for all patches and then apply it to patches."
   ]
  },
  {
   "cell_type": "code",
   "execution_count": 29,
   "metadata": {},
   "outputs": [
    {
     "data": {
      "text/plain": [
       "step_rule! (generic function with 1 method)"
      ]
     },
     "execution_count": 29,
     "metadata": {},
     "output_type": "execute_result"
    }
   ],
   "source": [
    "function calculate_vals(model)\n",
    "    vals = [false for i in 1:model.size[1], j in 1:model.size[2]]\n",
    "    for j in 1:model.size[2]\n",
    "        for i in 1:model.size[1]\n",
    "            patch = model.patches[i,j]\n",
    "            nbrs = neighbor_patches_moore((i,j), model, 1)\n",
    "            num_alive = 0\n",
    "            for nbr in nbrs\n",
    "                num_alive+= model.patches[nbr...].is_alive\n",
    "            end\n",
    "            condition1 = patch.is_alive && ((num_alive == 2) || (num_alive == 3))\n",
    "            condition2 = !(patch.is_alive) && (num_alive == 3)\n",
    "            if condition1 || condition2\n",
    "                vals[i,j] = true\n",
    "            end\n",
    "        end\n",
    "    end\n",
    "    return vals\n",
    "end\n",
    "\n",
    "function apply_vals!(model, vals)\n",
    "    for j in 1:model.size[2]\n",
    "        for i in 1:model.size[1]\n",
    "            is_alive = vals[i,j]\n",
    "            model.patches[i,j].is_alive = is_alive\n",
    "            model.patches[i,j].color = is_alive ? cl\"green\" : cl\"white\"\n",
    "        end\n",
    "    end       \n",
    "end\n",
    "\n",
    "\n",
    "function step_rule!(model)\n",
    "    vals = calculate_vals(model)\n",
    "    apply_vals!(model, vals)\n",
    "end"
   ]
  },
  {
   "cell_type": "code",
   "execution_count": 30,
   "metadata": {},
   "outputs": [],
   "source": [
    "run_model!(model, steps = 200, step_rule = step_rule!)"
   ]
  },
  {
   "cell_type": "markdown",
   "metadata": {},
   "source": [
    "In order to draw the model at a specific frame, say 4th, one can use `draw_frame(model, frame = 4, show_patches=true)`. If one wants to see the animation of the model run, it can be done as "
   ]
  },
  {
   "cell_type": "code",
   "execution_count": 31,
   "metadata": {},
   "outputs": [
    {
     "data": {
      "application/vnd.webio.node+json": {
       "children": [
        {
         "children": [
          {
           "children": [
            {
             "children": [
              {
               "children": [
                {
                 "children": [
                  {
                   "children": [
                    {
                     "children": [
                      "time"
                     ],
                     "instanceArgs": {
                      "namespace": "html",
                      "tag": "label"
                     },
                     "nodeType": "DOM",
                     "props": {
                      "className": "interact ",
                      "style": {
                       "padding": "5px 10px 0px 10px"
                      }
                     },
                     "type": "node"
                    }
                   ],
                   "instanceArgs": {
                    "namespace": "html",
                    "tag": "div"
                   },
                   "nodeType": "DOM",
                   "props": {
                    "className": "interact-flex-row-left"
                   },
                   "type": "node"
                  },
                  {
                   "children": [
                    {
                     "children": [],
                     "instanceArgs": {
                      "namespace": "html",
                      "tag": "input"
                     },
                     "nodeType": "DOM",
                     "props": {
                      "attributes": {
                       "data-bind": "numericValue: index, valueUpdate: 'input', event: {change: function (){this.changes(this.changes()+1)}}",
                       "orient": "horizontal",
                       "type": "range"
                      },
                      "className": "slider slider is-fullwidth",
                      "max": 201,
                      "min": 1,
                      "step": 1,
                      "style": {}
                     },
                     "type": "node"
                    }
                   ],
                   "instanceArgs": {
                    "namespace": "html",
                    "tag": "div"
                   },
                   "nodeType": "DOM",
                   "props": {
                    "className": "interact-flex-row-center"
                   },
                   "type": "node"
                  },
                  {
                   "children": [
                    {
                     "children": [],
                     "instanceArgs": {
                      "namespace": "html",
                      "tag": "p"
                     },
                     "nodeType": "DOM",
                     "props": {
                      "attributes": {
                       "data-bind": "text: formatted_val"
                      }
                     },
                     "type": "node"
                    }
                   ],
                   "instanceArgs": {
                    "namespace": "html",
                    "tag": "div"
                   },
                   "nodeType": "DOM",
                   "props": {
                    "className": "interact-flex-row-right"
                   },
                   "type": "node"
                  }
                 ],
                 "instanceArgs": {
                  "namespace": "html",
                  "tag": "div"
                 },
                 "nodeType": "DOM",
                 "props": {
                  "className": "interact-flex-row interact-widget"
                 },
                 "type": "node"
                }
               ],
               "instanceArgs": {
                "handlers": {
                 "changes": [
                  "(function (val){return (val!=this.model[\"changes\"]()) ? (this.valueFromJulia[\"changes\"]=true, this.model[\"changes\"](val)) : undefined})"
                 ],
                 "index": [
                  "(function (val){return (val!=this.model[\"index\"]()) ? (this.valueFromJulia[\"index\"]=true, this.model[\"index\"](val)) : undefined})"
                 ]
                },
                "id": "12008007231901756509",
                "imports": {
                 "data": [
                  {
                   "name": "knockout",
                   "type": "js",
                   "url": "/assetserver/727383f2a47bd31570b7da84eee7b022dd6d7c78-knockout.js"
                  },
                  {
                   "name": "knockout_punches",
                   "type": "js",
                   "url": "/assetserver/382b41b3b1bd9f26f75861d360bad7f8beea211f-knockout_punches.js"
                  },
                  {
                   "name": null,
                   "type": "js",
                   "url": "/assetserver/5ab20f1060420992a9b82a65b735dee4d81ef413-all.js"
                  },
                  {
                   "name": null,
                   "type": "css",
                   "url": "/assetserver/1cc0ed62837210b80a182cc3676512f895dab686-style.css"
                  },
                  {
                   "name": null,
                   "type": "css",
                   "url": "/assetserver/2eee816f616df3549d7044d45e744fbf8d42bfa1-bulma_confined.min.css"
                  }
                 ],
                 "type": "async_block"
                },
                "mount_callbacks": [
                 "function () {\n    var handler = (function (ko, koPunches) {\n    ko.punches.enableAll();\n    ko.bindingHandlers.numericValue = {\n        init: function(element, valueAccessor, allBindings, data, context) {\n            var stringified = ko.observable(ko.unwrap(valueAccessor()));\n            stringified.subscribe(function(value) {\n                var val = parseFloat(value);\n                if (!isNaN(val)) {\n                    valueAccessor()(val);\n                }\n            });\n            valueAccessor().subscribe(function(value) {\n                var str = JSON.stringify(value);\n                if ((str == \"0\") && ([\"-0\", \"-0.\"].indexOf(stringified()) >= 0))\n                     return;\n                 if ([\"null\", \"\"].indexOf(str) >= 0)\n                     return;\n                stringified(str);\n            });\n            ko.applyBindingsToNode(\n                element,\n                {\n                    value: stringified,\n                    valueUpdate: allBindings.get('valueUpdate'),\n                },\n                context,\n            );\n        }\n    };\n    var json_data = {\"formatted_vals\":[\"1\",\"2\",\"3\",\"4\",\"5\",\"6\",\"7\",\"8\",\"9\",\"10\",\"11\",\"12\",\"13\",\"14\",\"15\",\"16\",\"17\",\"18\",\"19\",\"20\",\"21\",\"22\",\"23\",\"24\",\"25\",\"26\",\"27\",\"28\",\"29\",\"30\",\"31\",\"32\",\"33\",\"34\",\"35\",\"36\",\"37\",\"38\",\"39\",\"40\",\"41\",\"42\",\"43\",\"44\",\"45\",\"46\",\"47\",\"48\",\"49\",\"50\",\"51\",\"52\",\"53\",\"54\",\"55\",\"56\",\"57\",\"58\",\"59\",\"60\",\"61\",\"62\",\"63\",\"64\",\"65\",\"66\",\"67\",\"68\",\"69\",\"70\",\"71\",\"72\",\"73\",\"74\",\"75\",\"76\",\"77\",\"78\",\"79\",\"80\",\"81\",\"82\",\"83\",\"84\",\"85\",\"86\",\"87\",\"88\",\"89\",\"90\",\"91\",\"92\",\"93\",\"94\",\"95\",\"96\",\"97\",\"98\",\"99\",\"100\",\"101\",\"102\",\"103\",\"104\",\"105\",\"106\",\"107\",\"108\",\"109\",\"110\",\"111\",\"112\",\"113\",\"114\",\"115\",\"116\",\"117\",\"118\",\"119\",\"120\",\"121\",\"122\",\"123\",\"124\",\"125\",\"126\",\"127\",\"128\",\"129\",\"130\",\"131\",\"132\",\"133\",\"134\",\"135\",\"136\",\"137\",\"138\",\"139\",\"140\",\"141\",\"142\",\"143\",\"144\",\"145\",\"146\",\"147\",\"148\",\"149\",\"150\",\"151\",\"152\",\"153\",\"154\",\"155\",\"156\",\"157\",\"158\",\"159\",\"160\",\"161\",\"162\",\"163\",\"164\",\"165\",\"166\",\"167\",\"168\",\"169\",\"170\",\"171\",\"172\",\"173\",\"174\",\"175\",\"176\",\"177\",\"178\",\"179\",\"180\",\"181\",\"182\",\"183\",\"184\",\"185\",\"186\",\"187\",\"188\",\"189\",\"190\",\"191\",\"192\",\"193\",\"194\",\"195\",\"196\",\"197\",\"198\",\"199\",\"200\",\"201\"],\"changes\":WebIO.getval({\"name\":\"changes\",\"scope\":\"12008007231901756509\",\"id\":\"6837662095372793174\",\"type\":\"observable\"}),\"index\":WebIO.getval({\"name\":\"index\",\"scope\":\"12008007231901756509\",\"id\":\"16786068803048499830\",\"type\":\"observable\"})};\n    var self = this;\n    function AppViewModel() {\n        for (var key in json_data) {\n            var el = json_data[key];\n            this[key] = Array.isArray(el) ? ko.observableArray(el) : ko.observable(el);\n        }\n        \n        [this[\"formatted_val\"]=ko.computed(    function(){\n        return this.formatted_vals()[parseInt(this.index())-(1)];\n    }\n,this)]\n        [this[\"changes\"].subscribe((function (val){!(this.valueFromJulia[\"changes\"]) ? (WebIO.setval({\"name\":\"changes\",\"scope\":\"12008007231901756509\",\"id\":\"6837662095372793174\",\"type\":\"observable\"},val)) : undefined; return this.valueFromJulia[\"changes\"]=false}),self),this[\"index\"].subscribe((function (val){!(this.valueFromJulia[\"index\"]) ? (WebIO.setval({\"name\":\"index\",\"scope\":\"12008007231901756509\",\"id\":\"16786068803048499830\",\"type\":\"observable\"},val)) : undefined; return this.valueFromJulia[\"index\"]=false}),self)]\n        \n    }\n    self.model = new AppViewModel();\n    self.valueFromJulia = {};\n    for (var key in json_data) {\n        self.valueFromJulia[key] = false;\n    }\n    ko.applyBindings(self.model, self.dom);\n}\n);\n    (WebIO.importBlock({\"data\":[{\"name\":\"knockout\",\"type\":\"js\",\"url\":\"/assetserver/727383f2a47bd31570b7da84eee7b022dd6d7c78-knockout.js\"},{\"name\":\"knockout_punches\",\"type\":\"js\",\"url\":\"/assetserver/382b41b3b1bd9f26f75861d360bad7f8beea211f-knockout_punches.js\"}],\"type\":\"async_block\"})).then((imports) => handler.apply(this, imports));\n}\n"
                ],
                "observables": {
                 "changes": {
                  "id": "6837662095372793174",
                  "sync": false,
                  "value": 0
                 },
                 "index": {
                  "id": "16786068803048499830",
                  "sync": true,
                  "value": 101
                 }
                },
                "systemjs_options": null
               },
               "nodeType": "Scope",
               "props": {},
               "type": "node"
              }
             ],
             "instanceArgs": {
              "namespace": "html",
              "tag": "div"
             },
             "nodeType": "DOM",
             "props": {
              "className": "field interact-widget"
             },
             "type": "node"
            },
            {
             "children": [
              {
               "children": [
                {
                 "children": [
                  {
                   "children": [
                    {
                     "children": [
                      "scale"
                     ],
                     "instanceArgs": {
                      "namespace": "html",
                      "tag": "label"
                     },
                     "nodeType": "DOM",
                     "props": {
                      "className": "interact ",
                      "style": {
                       "padding": "5px 10px 0px 10px"
                      }
                     },
                     "type": "node"
                    }
                   ],
                   "instanceArgs": {
                    "namespace": "html",
                    "tag": "div"
                   },
                   "nodeType": "DOM",
                   "props": {
                    "className": "interact-flex-row-left"
                   },
                   "type": "node"
                  },
                  {
                   "children": [
                    {
                     "children": [],
                     "instanceArgs": {
                      "namespace": "html",
                      "tag": "input"
                     },
                     "nodeType": "DOM",
                     "props": {
                      "attributes": {
                       "data-bind": "numericValue: index, valueUpdate: 'input', event: {change: function (){this.changes(this.changes()+1)}}",
                       "orient": "horizontal",
                       "type": "range"
                      },
                      "className": "slider slider is-fullwidth",
                      "max": 20,
                      "min": 1,
                      "step": 1,
                      "style": {}
                     },
                     "type": "node"
                    }
                   ],
                   "instanceArgs": {
                    "namespace": "html",
                    "tag": "div"
                   },
                   "nodeType": "DOM",
                   "props": {
                    "className": "interact-flex-row-center"
                   },
                   "type": "node"
                  },
                  {
                   "children": [
                    {
                     "children": [],
                     "instanceArgs": {
                      "namespace": "html",
                      "tag": "p"
                     },
                     "nodeType": "DOM",
                     "props": {
                      "attributes": {
                       "data-bind": "text: formatted_val"
                      }
                     },
                     "type": "node"
                    }
                   ],
                   "instanceArgs": {
                    "namespace": "html",
                    "tag": "div"
                   },
                   "nodeType": "DOM",
                   "props": {
                    "className": "interact-flex-row-right"
                   },
                   "type": "node"
                  }
                 ],
                 "instanceArgs": {
                  "namespace": "html",
                  "tag": "div"
                 },
                 "nodeType": "DOM",
                 "props": {
                  "className": "interact-flex-row interact-widget"
                 },
                 "type": "node"
                }
               ],
               "instanceArgs": {
                "handlers": {
                 "changes": [
                  "(function (val){return (val!=this.model[\"changes\"]()) ? (this.valueFromJulia[\"changes\"]=true, this.model[\"changes\"](val)) : undefined})"
                 ],
                 "index": [
                  "(function (val){return (val!=this.model[\"index\"]()) ? (this.valueFromJulia[\"index\"]=true, this.model[\"index\"](val)) : undefined})"
                 ]
                },
                "id": "9767575980857167281",
                "imports": {
                 "data": [
                  {
                   "name": "knockout",
                   "type": "js",
                   "url": "/assetserver/727383f2a47bd31570b7da84eee7b022dd6d7c78-knockout.js"
                  },
                  {
                   "name": "knockout_punches",
                   "type": "js",
                   "url": "/assetserver/382b41b3b1bd9f26f75861d360bad7f8beea211f-knockout_punches.js"
                  },
                  {
                   "name": null,
                   "type": "js",
                   "url": "/assetserver/5ab20f1060420992a9b82a65b735dee4d81ef413-all.js"
                  },
                  {
                   "name": null,
                   "type": "css",
                   "url": "/assetserver/1cc0ed62837210b80a182cc3676512f895dab686-style.css"
                  },
                  {
                   "name": null,
                   "type": "css",
                   "url": "/assetserver/2eee816f616df3549d7044d45e744fbf8d42bfa1-bulma_confined.min.css"
                  }
                 ],
                 "type": "async_block"
                },
                "mount_callbacks": [
                 "function () {\n    var handler = (function (ko, koPunches) {\n    ko.punches.enableAll();\n    ko.bindingHandlers.numericValue = {\n        init: function(element, valueAccessor, allBindings, data, context) {\n            var stringified = ko.observable(ko.unwrap(valueAccessor()));\n            stringified.subscribe(function(value) {\n                var val = parseFloat(value);\n                if (!isNaN(val)) {\n                    valueAccessor()(val);\n                }\n            });\n            valueAccessor().subscribe(function(value) {\n                var str = JSON.stringify(value);\n                if ((str == \"0\") && ([\"-0\", \"-0.\"].indexOf(stringified()) >= 0))\n                     return;\n                 if ([\"null\", \"\"].indexOf(str) >= 0)\n                     return;\n                stringified(str);\n            });\n            ko.applyBindingsToNode(\n                element,\n                {\n                    value: stringified,\n                    valueUpdate: allBindings.get('valueUpdate'),\n                },\n                context,\n            );\n        }\n    };\n    var json_data = {\"formatted_vals\":[\"0.1\",\"0.2\",\"0.3\",\"0.4\",\"0.5\",\"0.6\",\"0.7\",\"0.8\",\"0.9\",\"1.0\",\"1.1\",\"1.2\",\"1.3\",\"1.4\",\"1.5\",\"1.6\",\"1.7\",\"1.8\",\"1.9\",\"2.0\"],\"changes\":WebIO.getval({\"name\":\"changes\",\"scope\":\"9767575980857167281\",\"id\":\"16001604779247079443\",\"type\":\"observable\"}),\"index\":WebIO.getval({\"name\":\"index\",\"scope\":\"9767575980857167281\",\"id\":\"11575940638526460723\",\"type\":\"observable\"})};\n    var self = this;\n    function AppViewModel() {\n        for (var key in json_data) {\n            var el = json_data[key];\n            this[key] = Array.isArray(el) ? ko.observableArray(el) : ko.observable(el);\n        }\n        \n        [this[\"formatted_val\"]=ko.computed(    function(){\n        return this.formatted_vals()[parseInt(this.index())-(1)];\n    }\n,this)]\n        [this[\"changes\"].subscribe((function (val){!(this.valueFromJulia[\"changes\"]) ? (WebIO.setval({\"name\":\"changes\",\"scope\":\"9767575980857167281\",\"id\":\"16001604779247079443\",\"type\":\"observable\"},val)) : undefined; return this.valueFromJulia[\"changes\"]=false}),self),this[\"index\"].subscribe((function (val){!(this.valueFromJulia[\"index\"]) ? (WebIO.setval({\"name\":\"index\",\"scope\":\"9767575980857167281\",\"id\":\"11575940638526460723\",\"type\":\"observable\"},val)) : undefined; return this.valueFromJulia[\"index\"]=false}),self)]\n        \n    }\n    self.model = new AppViewModel();\n    self.valueFromJulia = {};\n    for (var key in json_data) {\n        self.valueFromJulia[key] = false;\n    }\n    ko.applyBindings(self.model, self.dom);\n}\n);\n    (WebIO.importBlock({\"data\":[{\"name\":\"knockout\",\"type\":\"js\",\"url\":\"/assetserver/727383f2a47bd31570b7da84eee7b022dd6d7c78-knockout.js\"},{\"name\":\"knockout_punches\",\"type\":\"js\",\"url\":\"/assetserver/382b41b3b1bd9f26f75861d360bad7f8beea211f-knockout_punches.js\"}],\"type\":\"async_block\"})).then((imports) => handler.apply(this, imports));\n}\n"
                ],
                "observables": {
                 "changes": {
                  "id": "16001604779247079443",
                  "sync": false,
                  "value": 0
                 },
                 "index": {
                  "id": "11575940638526460723",
                  "sync": true,
                  "value": 10
                 }
                },
                "systemjs_options": null
               },
               "nodeType": "Scope",
               "props": {},
               "type": "node"
              }
             ],
             "instanceArgs": {
              "namespace": "html",
              "tag": "div"
             },
             "nodeType": "DOM",
             "props": {
              "className": "field interact-widget"
             },
             "type": "node"
            },
            {
             "children": [
              {
               "children": [
                {
                 "children": [
                  {
                   "children": [],
                   "instanceArgs": {
                    "namespace": "html",
                    "tag": "div"
                   },
                   "nodeType": "DOM",
                   "props": {
                    "id": "container"
                   },
                   "type": "node"
                  }
                 ],
                 "instanceArgs": {
                  "handlers": {
                   "value": [
                    "(function (txt){return this.k.render(txt,this.container)})"
                   ]
                  },
                  "id": "2086703565183697438",
                  "imports": {
                   "data": [
                    {
                     "name": null,
                     "type": "js",
                     "url": "/assetserver/dd22ed1bf1896c2748f3fe616ce0b838adc895c1-katex.min.js"
                    },
                    {
                     "name": null,
                     "type": "css",
                     "url": "/assetserver/46517a424aa5e6cffc1360d7e0848b601c584ee3-katex.min.css"
                    }
                   ],
                   "type": "async_block"
                  },
                  "mount_callbacks": [
                   "function () {\n    var handler = ((function (k){this.k=k; this.container=this.dom.querySelector(\"#container\"); return k.render(\"\\\\;\\\\;\",this.container)}));\n    (WebIO.importBlock({\"data\":[{\"name\":null,\"type\":\"js\",\"url\":\"/assetserver/dd22ed1bf1896c2748f3fe616ce0b838adc895c1-katex.min.js\"},{\"name\":null,\"type\":\"css\",\"url\":\"/assetserver/46517a424aa5e6cffc1360d7e0848b601c584ee3-katex.min.css\"}],\"type\":\"async_block\"})).then((imports) => handler.apply(this, imports));\n}\n"
                  ],
                  "observables": {
                   "value": {
                    "id": "18105459312910058881",
                    "sync": false,
                    "value": "\\;\\;"
                   }
                  },
                  "systemjs_options": null
                 },
                 "nodeType": "Scope",
                 "props": {},
                 "type": "node"
                }
               ],
               "instanceArgs": {
                "namespace": "html",
                "tag": "div"
               },
               "nodeType": "DOM",
               "props": {
                "className": "interact-widget"
               },
               "type": "node"
              },
              {
               "children": [
                {
                 "children": [
                  {
                   "children": [
                    "run"
                   ],
                   "instanceArgs": {
                    "namespace": "html",
                    "tag": "button"
                   },
                   "nodeType": "DOM",
                   "props": {
                    "attributes": {
                     "data-bind": "click: function (){this.clicks(this.clicks()+1)}, css: {'is-loading' : loading}"
                    },
                    "className": "is-medium button is-primary",
                    "style": {}
                   },
                   "type": "node"
                  }
                 ],
                 "instanceArgs": {
                  "handlers": {
                   "clicks": [
                    "(function (val){return (val!=this.model[\"clicks\"]()) ? (this.valueFromJulia[\"clicks\"]=true, this.model[\"clicks\"](val)) : undefined})"
                   ],
                   "loading": [
                    "(function (val){return (val!=this.model[\"loading\"]()) ? (this.valueFromJulia[\"loading\"]=true, this.model[\"loading\"](val)) : undefined})"
                   ]
                  },
                  "id": "6717458495521379259",
                  "imports": {
                   "data": [
                    {
                     "name": "knockout",
                     "type": "js",
                     "url": "/assetserver/727383f2a47bd31570b7da84eee7b022dd6d7c78-knockout.js"
                    },
                    {
                     "name": "knockout_punches",
                     "type": "js",
                     "url": "/assetserver/382b41b3b1bd9f26f75861d360bad7f8beea211f-knockout_punches.js"
                    },
                    {
                     "name": null,
                     "type": "js",
                     "url": "/assetserver/5ab20f1060420992a9b82a65b735dee4d81ef413-all.js"
                    },
                    {
                     "name": null,
                     "type": "css",
                     "url": "/assetserver/1cc0ed62837210b80a182cc3676512f895dab686-style.css"
                    },
                    {
                     "name": null,
                     "type": "css",
                     "url": "/assetserver/2eee816f616df3549d7044d45e744fbf8d42bfa1-bulma_confined.min.css"
                    }
                   ],
                   "type": "async_block"
                  },
                  "mount_callbacks": [
                   "function () {\n    var handler = (function (ko, koPunches) {\n    ko.punches.enableAll();\n    ko.bindingHandlers.numericValue = {\n        init: function(element, valueAccessor, allBindings, data, context) {\n            var stringified = ko.observable(ko.unwrap(valueAccessor()));\n            stringified.subscribe(function(value) {\n                var val = parseFloat(value);\n                if (!isNaN(val)) {\n                    valueAccessor()(val);\n                }\n            });\n            valueAccessor().subscribe(function(value) {\n                var str = JSON.stringify(value);\n                if ((str == \"0\") && ([\"-0\", \"-0.\"].indexOf(stringified()) >= 0))\n                     return;\n                 if ([\"null\", \"\"].indexOf(str) >= 0)\n                     return;\n                stringified(str);\n            });\n            ko.applyBindingsToNode(\n                element,\n                {\n                    value: stringified,\n                    valueUpdate: allBindings.get('valueUpdate'),\n                },\n                context,\n            );\n        }\n    };\n    var json_data = {\"loading\":WebIO.getval({\"name\":\"loading\",\"scope\":\"6717458495521379259\",\"id\":\"5323040231127277094\",\"type\":\"observable\"}),\"clicks\":WebIO.getval({\"name\":\"clicks\",\"scope\":\"6717458495521379259\",\"id\":\"1539567646910878034\",\"type\":\"observable\"})};\n    var self = this;\n    function AppViewModel() {\n        for (var key in json_data) {\n            var el = json_data[key];\n            this[key] = Array.isArray(el) ? ko.observableArray(el) : ko.observable(el);\n        }\n        \n        \n        [this[\"loading\"].subscribe((function (val){!(this.valueFromJulia[\"loading\"]) ? (WebIO.setval({\"name\":\"loading\",\"scope\":\"6717458495521379259\",\"id\":\"5323040231127277094\",\"type\":\"observable\"},val)) : undefined; return this.valueFromJulia[\"loading\"]=false}),self),this[\"clicks\"].subscribe((function (val){!(this.valueFromJulia[\"clicks\"]) ? (WebIO.setval({\"name\":\"clicks\",\"scope\":\"6717458495521379259\",\"id\":\"1539567646910878034\",\"type\":\"observable\"},val)) : undefined; return this.valueFromJulia[\"clicks\"]=false}),self)]\n        \n    }\n    self.model = new AppViewModel();\n    self.valueFromJulia = {};\n    for (var key in json_data) {\n        self.valueFromJulia[key] = false;\n    }\n    ko.applyBindings(self.model, self.dom);\n}\n);\n    (WebIO.importBlock({\"data\":[{\"name\":\"knockout\",\"type\":\"js\",\"url\":\"/assetserver/727383f2a47bd31570b7da84eee7b022dd6d7c78-knockout.js\"},{\"name\":\"knockout_punches\",\"type\":\"js\",\"url\":\"/assetserver/382b41b3b1bd9f26f75861d360bad7f8beea211f-knockout_punches.js\"}],\"type\":\"async_block\"})).then((imports) => handler.apply(this, imports));\n}\n"
                  ],
                  "observables": {
                   "clicks": {
                    "id": "1539567646910878034",
                    "sync": true,
                    "value": 0
                   },
                   "loading": {
                    "id": "5323040231127277094",
                    "sync": false,
                    "value": false
                   }
                  },
                  "systemjs_options": null
                 },
                 "nodeType": "Scope",
                 "props": {},
                 "type": "node"
                }
               ],
               "instanceArgs": {
                "namespace": "html",
                "tag": "div"
               },
               "nodeType": "DOM",
               "props": {
                "className": "field interact-widget"
               },
               "type": "node"
              },
              {
               "children": [
                {
                 "children": [
                  {
                   "children": [],
                   "instanceArgs": {
                    "namespace": "html",
                    "tag": "div"
                   },
                   "nodeType": "DOM",
                   "props": {
                    "id": "container"
                   },
                   "type": "node"
                  }
                 ],
                 "instanceArgs": {
                  "handlers": {
                   "value": [
                    "(function (txt){return this.k.render(txt,this.container)})"
                   ]
                  },
                  "id": "2086703565183697438",
                  "imports": {
                   "data": [
                    {
                     "name": null,
                     "type": "js",
                     "url": "/assetserver/dd22ed1bf1896c2748f3fe616ce0b838adc895c1-katex.min.js"
                    },
                    {
                     "name": null,
                     "type": "css",
                     "url": "/assetserver/46517a424aa5e6cffc1360d7e0848b601c584ee3-katex.min.css"
                    }
                   ],
                   "type": "async_block"
                  },
                  "mount_callbacks": [
                   "function () {\n    var handler = ((function (k){this.k=k; this.container=this.dom.querySelector(\"#container\"); return k.render(\"\\\\;\\\\;\",this.container)}));\n    (WebIO.importBlock({\"data\":[{\"name\":null,\"type\":\"js\",\"url\":\"/assetserver/dd22ed1bf1896c2748f3fe616ce0b838adc895c1-katex.min.js\"},{\"name\":null,\"type\":\"css\",\"url\":\"/assetserver/46517a424aa5e6cffc1360d7e0848b601c584ee3-katex.min.css\"}],\"type\":\"async_block\"})).then((imports) => handler.apply(this, imports));\n}\n"
                  ],
                  "observables": {
                   "value": {
                    "id": "18105459312910058881",
                    "sync": false,
                    "value": "\\;\\;"
                   }
                  },
                  "systemjs_options": null
                 },
                 "nodeType": "Scope",
                 "props": {},
                 "type": "node"
                }
               ],
               "instanceArgs": {
                "namespace": "html",
                "tag": "div"
               },
               "nodeType": "DOM",
               "props": {
                "className": "interact-widget"
               },
               "type": "node"
              },
              {
               "children": [
                {
                 "children": [
                  {
                   "children": [
                    "stop"
                   ],
                   "instanceArgs": {
                    "namespace": "html",
                    "tag": "button"
                   },
                   "nodeType": "DOM",
                   "props": {
                    "attributes": {
                     "data-bind": "click: function (){this.clicks(this.clicks()+1)}, css: {'is-loading' : loading}"
                    },
                    "className": "is-medium button is-primary",
                    "style": {}
                   },
                   "type": "node"
                  }
                 ],
                 "instanceArgs": {
                  "handlers": {
                   "clicks": [
                    "(function (val){return (val!=this.model[\"clicks\"]()) ? (this.valueFromJulia[\"clicks\"]=true, this.model[\"clicks\"](val)) : undefined})"
                   ],
                   "loading": [
                    "(function (val){return (val!=this.model[\"loading\"]()) ? (this.valueFromJulia[\"loading\"]=true, this.model[\"loading\"](val)) : undefined})"
                   ]
                  },
                  "id": "10279188027219030521",
                  "imports": {
                   "data": [
                    {
                     "name": "knockout",
                     "type": "js",
                     "url": "/assetserver/727383f2a47bd31570b7da84eee7b022dd6d7c78-knockout.js"
                    },
                    {
                     "name": "knockout_punches",
                     "type": "js",
                     "url": "/assetserver/382b41b3b1bd9f26f75861d360bad7f8beea211f-knockout_punches.js"
                    },
                    {
                     "name": null,
                     "type": "js",
                     "url": "/assetserver/5ab20f1060420992a9b82a65b735dee4d81ef413-all.js"
                    },
                    {
                     "name": null,
                     "type": "css",
                     "url": "/assetserver/1cc0ed62837210b80a182cc3676512f895dab686-style.css"
                    },
                    {
                     "name": null,
                     "type": "css",
                     "url": "/assetserver/2eee816f616df3549d7044d45e744fbf8d42bfa1-bulma_confined.min.css"
                    }
                   ],
                   "type": "async_block"
                  },
                  "mount_callbacks": [
                   "function () {\n    var handler = (function (ko, koPunches) {\n    ko.punches.enableAll();\n    ko.bindingHandlers.numericValue = {\n        init: function(element, valueAccessor, allBindings, data, context) {\n            var stringified = ko.observable(ko.unwrap(valueAccessor()));\n            stringified.subscribe(function(value) {\n                var val = parseFloat(value);\n                if (!isNaN(val)) {\n                    valueAccessor()(val);\n                }\n            });\n            valueAccessor().subscribe(function(value) {\n                var str = JSON.stringify(value);\n                if ((str == \"0\") && ([\"-0\", \"-0.\"].indexOf(stringified()) >= 0))\n                     return;\n                 if ([\"null\", \"\"].indexOf(str) >= 0)\n                     return;\n                stringified(str);\n            });\n            ko.applyBindingsToNode(\n                element,\n                {\n                    value: stringified,\n                    valueUpdate: allBindings.get('valueUpdate'),\n                },\n                context,\n            );\n        }\n    };\n    var json_data = {\"loading\":WebIO.getval({\"name\":\"loading\",\"scope\":\"10279188027219030521\",\"id\":\"2232367738274803611\",\"type\":\"observable\"}),\"clicks\":WebIO.getval({\"name\":\"clicks\",\"scope\":\"10279188027219030521\",\"id\":\"3943688257825763836\",\"type\":\"observable\"})};\n    var self = this;\n    function AppViewModel() {\n        for (var key in json_data) {\n            var el = json_data[key];\n            this[key] = Array.isArray(el) ? ko.observableArray(el) : ko.observable(el);\n        }\n        \n        \n        [this[\"loading\"].subscribe((function (val){!(this.valueFromJulia[\"loading\"]) ? (WebIO.setval({\"name\":\"loading\",\"scope\":\"10279188027219030521\",\"id\":\"2232367738274803611\",\"type\":\"observable\"},val)) : undefined; return this.valueFromJulia[\"loading\"]=false}),self),this[\"clicks\"].subscribe((function (val){!(this.valueFromJulia[\"clicks\"]) ? (WebIO.setval({\"name\":\"clicks\",\"scope\":\"10279188027219030521\",\"id\":\"3943688257825763836\",\"type\":\"observable\"},val)) : undefined; return this.valueFromJulia[\"clicks\"]=false}),self)]\n        \n    }\n    self.model = new AppViewModel();\n    self.valueFromJulia = {};\n    for (var key in json_data) {\n        self.valueFromJulia[key] = false;\n    }\n    ko.applyBindings(self.model, self.dom);\n}\n);\n    (WebIO.importBlock({\"data\":[{\"name\":\"knockout\",\"type\":\"js\",\"url\":\"/assetserver/727383f2a47bd31570b7da84eee7b022dd6d7c78-knockout.js\"},{\"name\":\"knockout_punches\",\"type\":\"js\",\"url\":\"/assetserver/382b41b3b1bd9f26f75861d360bad7f8beea211f-knockout_punches.js\"}],\"type\":\"async_block\"})).then((imports) => handler.apply(this, imports));\n}\n"
                  ],
                  "observables": {
                   "clicks": {
                    "id": "3943688257825763836",
                    "sync": true,
                    "value": 0
                   },
                   "loading": {
                    "id": "2232367738274803611",
                    "sync": false,
                    "value": false
                   }
                  },
                  "systemjs_options": null
                 },
                 "nodeType": "Scope",
                 "props": {},
                 "type": "node"
                }
               ],
               "instanceArgs": {
                "namespace": "html",
                "tag": "div"
               },
               "nodeType": "DOM",
               "props": {
                "className": "field interact-widget"
               },
               "type": "node"
              },
              {
               "children": [
                {
                 "children": [
                  {
                   "children": [],
                   "instanceArgs": {
                    "namespace": "html",
                    "tag": "div"
                   },
                   "nodeType": "DOM",
                   "props": {
                    "id": "container"
                   },
                   "type": "node"
                  }
                 ],
                 "instanceArgs": {
                  "handlers": {
                   "value": [
                    "(function (txt){return this.k.render(txt,this.container)})"
                   ]
                  },
                  "id": "2086703565183697438",
                  "imports": {
                   "data": [
                    {
                     "name": null,
                     "type": "js",
                     "url": "/assetserver/dd22ed1bf1896c2748f3fe616ce0b838adc895c1-katex.min.js"
                    },
                    {
                     "name": null,
                     "type": "css",
                     "url": "/assetserver/46517a424aa5e6cffc1360d7e0848b601c584ee3-katex.min.css"
                    }
                   ],
                   "type": "async_block"
                  },
                  "mount_callbacks": [
                   "function () {\n    var handler = ((function (k){this.k=k; this.container=this.dom.querySelector(\"#container\"); return k.render(\"\\\\;\\\\;\",this.container)}));\n    (WebIO.importBlock({\"data\":[{\"name\":null,\"type\":\"js\",\"url\":\"/assetserver/dd22ed1bf1896c2748f3fe616ce0b838adc895c1-katex.min.js\"},{\"name\":null,\"type\":\"css\",\"url\":\"/assetserver/46517a424aa5e6cffc1360d7e0848b601c584ee3-katex.min.css\"}],\"type\":\"async_block\"})).then((imports) => handler.apply(this, imports));\n}\n"
                  ],
                  "observables": {
                   "value": {
                    "id": "18105459312910058881",
                    "sync": false,
                    "value": "\\;\\;"
                   }
                  },
                  "systemjs_options": null
                 },
                 "nodeType": "Scope",
                 "props": {},
                 "type": "node"
                }
               ],
               "instanceArgs": {
                "namespace": "html",
                "tag": "div"
               },
               "nodeType": "DOM",
               "props": {
                "className": "interact-widget"
               },
               "type": "node"
              },
              {
               "children": [
                {
                 "children": [
                  {
                   "children": [
                    "save"
                   ],
                   "instanceArgs": {
                    "namespace": "html",
                    "tag": "button"
                   },
                   "nodeType": "DOM",
                   "props": {
                    "attributes": {
                     "data-bind": "click: function (){this.clicks(this.clicks()+1)}, css: {'is-loading' : loading}"
                    },
                    "className": "is-medium button is-primary",
                    "style": {}
                   },
                   "type": "node"
                  }
                 ],
                 "instanceArgs": {
                  "handlers": {
                   "clicks": [
                    "(function (val){return (val!=this.model[\"clicks\"]()) ? (this.valueFromJulia[\"clicks\"]=true, this.model[\"clicks\"](val)) : undefined})"
                   ],
                   "loading": [
                    "(function (val){return (val!=this.model[\"loading\"]()) ? (this.valueFromJulia[\"loading\"]=true, this.model[\"loading\"](val)) : undefined})"
                   ]
                  },
                  "id": "887994708745106789",
                  "imports": {
                   "data": [
                    {
                     "name": "knockout",
                     "type": "js",
                     "url": "/assetserver/727383f2a47bd31570b7da84eee7b022dd6d7c78-knockout.js"
                    },
                    {
                     "name": "knockout_punches",
                     "type": "js",
                     "url": "/assetserver/382b41b3b1bd9f26f75861d360bad7f8beea211f-knockout_punches.js"
                    },
                    {
                     "name": null,
                     "type": "js",
                     "url": "/assetserver/5ab20f1060420992a9b82a65b735dee4d81ef413-all.js"
                    },
                    {
                     "name": null,
                     "type": "css",
                     "url": "/assetserver/1cc0ed62837210b80a182cc3676512f895dab686-style.css"
                    },
                    {
                     "name": null,
                     "type": "css",
                     "url": "/assetserver/2eee816f616df3549d7044d45e744fbf8d42bfa1-bulma_confined.min.css"
                    }
                   ],
                   "type": "async_block"
                  },
                  "mount_callbacks": [
                   "function () {\n    var handler = (function (ko, koPunches) {\n    ko.punches.enableAll();\n    ko.bindingHandlers.numericValue = {\n        init: function(element, valueAccessor, allBindings, data, context) {\n            var stringified = ko.observable(ko.unwrap(valueAccessor()));\n            stringified.subscribe(function(value) {\n                var val = parseFloat(value);\n                if (!isNaN(val)) {\n                    valueAccessor()(val);\n                }\n            });\n            valueAccessor().subscribe(function(value) {\n                var str = JSON.stringify(value);\n                if ((str == \"0\") && ([\"-0\", \"-0.\"].indexOf(stringified()) >= 0))\n                     return;\n                 if ([\"null\", \"\"].indexOf(str) >= 0)\n                     return;\n                stringified(str);\n            });\n            ko.applyBindingsToNode(\n                element,\n                {\n                    value: stringified,\n                    valueUpdate: allBindings.get('valueUpdate'),\n                },\n                context,\n            );\n        }\n    };\n    var json_data = {\"loading\":WebIO.getval({\"name\":\"loading\",\"scope\":\"887994708745106789\",\"id\":\"1481915588420642041\",\"type\":\"observable\"}),\"clicks\":WebIO.getval({\"name\":\"clicks\",\"scope\":\"887994708745106789\",\"id\":\"13656681281695087677\",\"type\":\"observable\"})};\n    var self = this;\n    function AppViewModel() {\n        for (var key in json_data) {\n            var el = json_data[key];\n            this[key] = Array.isArray(el) ? ko.observableArray(el) : ko.observable(el);\n        }\n        \n        \n        [this[\"loading\"].subscribe((function (val){!(this.valueFromJulia[\"loading\"]) ? (WebIO.setval({\"name\":\"loading\",\"scope\":\"887994708745106789\",\"id\":\"1481915588420642041\",\"type\":\"observable\"},val)) : undefined; return this.valueFromJulia[\"loading\"]=false}),self),this[\"clicks\"].subscribe((function (val){!(this.valueFromJulia[\"clicks\"]) ? (WebIO.setval({\"name\":\"clicks\",\"scope\":\"887994708745106789\",\"id\":\"13656681281695087677\",\"type\":\"observable\"},val)) : undefined; return this.valueFromJulia[\"clicks\"]=false}),self)]\n        \n    }\n    self.model = new AppViewModel();\n    self.valueFromJulia = {};\n    for (var key in json_data) {\n        self.valueFromJulia[key] = false;\n    }\n    ko.applyBindings(self.model, self.dom);\n}\n);\n    (WebIO.importBlock({\"data\":[{\"name\":\"knockout\",\"type\":\"js\",\"url\":\"/assetserver/727383f2a47bd31570b7da84eee7b022dd6d7c78-knockout.js\"},{\"name\":\"knockout_punches\",\"type\":\"js\",\"url\":\"/assetserver/382b41b3b1bd9f26f75861d360bad7f8beea211f-knockout_punches.js\"}],\"type\":\"async_block\"})).then((imports) => handler.apply(this, imports));\n}\n"
                  ],
                  "observables": {
                   "clicks": {
                    "id": "13656681281695087677",
                    "sync": true,
                    "value": 0
                   },
                   "loading": {
                    "id": "1481915588420642041",
                    "sync": false,
                    "value": false
                   }
                  },
                  "systemjs_options": null
                 },
                 "nodeType": "Scope",
                 "props": {},
                 "type": "node"
                }
               ],
               "instanceArgs": {
                "namespace": "html",
                "tag": "div"
               },
               "nodeType": "DOM",
               "props": {
                "className": "field interact-widget"
               },
               "type": "node"
              }
             ],
             "instanceArgs": {
              "namespace": "html",
              "tag": "div"
             },
             "nodeType": "DOM",
             "props": {
              "style": {
               "display": "flex",
               "flex-direction": "row"
              }
             },
             "type": "node"
            }
           ],
           "instanceArgs": {
            "namespace": "html",
            "tag": "div"
           },
           "nodeType": "DOM",
           "props": {
            "style": {
             "display": "flex",
             "flex-direction": "column"
            }
           },
           "type": "node"
          },
          {
           "children": [
            {
             "children": [
              {
               "children": [],
               "instanceArgs": {
                "namespace": "html",
                "tag": "div"
               },
               "nodeType": "DOM",
               "props": {
                "id": "container"
               },
               "type": "node"
              }
             ],
             "instanceArgs": {
              "handlers": {
               "value": [
                "(function (txt){return this.k.render(txt,this.container)})"
               ]
              },
              "id": "2086703565183697438",
              "imports": {
               "data": [
                {
                 "name": null,
                 "type": "js",
                 "url": "/assetserver/dd22ed1bf1896c2748f3fe616ce0b838adc895c1-katex.min.js"
                },
                {
                 "name": null,
                 "type": "css",
                 "url": "/assetserver/46517a424aa5e6cffc1360d7e0848b601c584ee3-katex.min.css"
                }
               ],
               "type": "async_block"
              },
              "mount_callbacks": [
               "function () {\n    var handler = ((function (k){this.k=k; this.container=this.dom.querySelector(\"#container\"); return k.render(\"\\\\;\\\\;\",this.container)}));\n    (WebIO.importBlock({\"data\":[{\"name\":null,\"type\":\"js\",\"url\":\"/assetserver/dd22ed1bf1896c2748f3fe616ce0b838adc895c1-katex.min.js\"},{\"name\":null,\"type\":\"css\",\"url\":\"/assetserver/46517a424aa5e6cffc1360d7e0848b601c584ee3-katex.min.css\"}],\"type\":\"async_block\"})).then((imports) => handler.apply(this, imports));\n}\n"
              ],
              "observables": {
               "value": {
                "id": "18105459312910058881",
                "sync": false,
                "value": "\\;\\;"
               }
              },
              "systemjs_options": null
             },
             "nodeType": "Scope",
             "props": {},
             "type": "node"
            }
           ],
           "instanceArgs": {
            "namespace": "html",
            "tag": "div"
           },
           "nodeType": "DOM",
           "props": {
            "className": "interact-widget"
           },
           "type": "node"
          },
          {
           "children": [
            {
             "children": [],
             "instanceArgs": {
              "namespace": "html",
              "tag": "div"
             },
             "nodeType": "DOM",
             "props": {
              "className": "webio-observable",
              "setInnerHtml": "<img src='data:image/png;base64,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'></img>"
             },
             "type": "node"
            }
           ],
           "instanceArgs": {
            "handlers": {
             "obs-output": [
              "function (value, scope) {\n    scope.setInnerHTML(value);\n}\n"
             ]
            },
            "id": "13891057990562454961",
            "imports": {
             "data": [],
             "type": "async_block"
            },
            "mount_callbacks": [],
            "observables": {
             "obs-output": {
              "id": "17850719453082464938",
              "sync": false,
              "value": "<img src='data:image/png;base64,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'></img>"
             }
            },
            "systemjs_options": null
           },
           "nodeType": "Scope",
           "props": {},
           "type": "node"
          },
          {
           "children": [
            {
             "children": [
              {
               "children": [],
               "instanceArgs": {
                "namespace": "html",
                "tag": "div"
               },
               "nodeType": "DOM",
               "props": {
                "id": "container"
               },
               "type": "node"
              }
             ],
             "instanceArgs": {
              "handlers": {
               "value": [
                "(function (txt){return this.k.render(txt,this.container)})"
               ]
              },
              "id": "2086703565183697438",
              "imports": {
               "data": [
                {
                 "name": null,
                 "type": "js",
                 "url": "/assetserver/dd22ed1bf1896c2748f3fe616ce0b838adc895c1-katex.min.js"
                },
                {
                 "name": null,
                 "type": "css",
                 "url": "/assetserver/46517a424aa5e6cffc1360d7e0848b601c584ee3-katex.min.css"
                }
               ],
               "type": "async_block"
              },
              "mount_callbacks": [
               "function () {\n    var handler = ((function (k){this.k=k; this.container=this.dom.querySelector(\"#container\"); return k.render(\"\\\\;\\\\;\",this.container)}));\n    (WebIO.importBlock({\"data\":[{\"name\":null,\"type\":\"js\",\"url\":\"/assetserver/dd22ed1bf1896c2748f3fe616ce0b838adc895c1-katex.min.js\"},{\"name\":null,\"type\":\"css\",\"url\":\"/assetserver/46517a424aa5e6cffc1360d7e0848b601c584ee3-katex.min.css\"}],\"type\":\"async_block\"})).then((imports) => handler.apply(this, imports));\n}\n"
              ],
              "observables": {
               "value": {
                "id": "18105459312910058881",
                "sync": false,
                "value": "\\;\\;"
               }
              },
              "systemjs_options": null
             },
             "nodeType": "Scope",
             "props": {},
             "type": "node"
            }
           ],
           "instanceArgs": {
            "namespace": "html",
            "tag": "div"
           },
           "nodeType": "DOM",
           "props": {
            "className": "interact-widget"
           },
           "type": "node"
          },
          {
           "children": [],
           "instanceArgs": {
            "namespace": "html",
            "tag": "div"
           },
           "nodeType": "DOM",
           "props": {
            "style": {
             "display": "flex",
             "flex-direction": "column"
            }
           },
           "type": "node"
          }
         ],
         "instanceArgs": {
          "namespace": "html",
          "tag": "div"
         },
         "nodeType": "DOM",
         "props": {
          "style": {
           "display": "flex",
           "flex-direction": "row"
          }
         },
         "type": "node"
        }
       ],
       "instanceArgs": {
        "namespace": "html",
        "tag": "div"
       },
       "nodeType": "DOM",
       "props": {
        "style": {
         "display": "flex",
         "flex-direction": "column"
        }
       },
       "type": "node"
      },
      "text/html": [
       "<div\n",
       "    class=\"webio-mountpoint\"\n",
       "    data-webio-mountpoint=\"3265997443764174916\"\n",
       ">\n",
       "    <script>\n",
       "    (function(){\n",
       "    // Some integrations (namely, IJulia/Jupyter) use an alternate render pathway than\n",
       "    // just putting the html on the page. If WebIO isn't defined, then it's pretty likely\n",
       "    // that we're in one of those situations and the integration just isn't installed\n",
       "    // correctly.\n",
       "    if (typeof window.WebIO === \"undefined\") {\n",
       "        document\n",
       "            .querySelector('[data-webio-mountpoint=\"3265997443764174916\"]')\n",
       "            .innerHTML = (\n",
       "                '<div style=\"padding: 1em; background-color: #f8d6da; border: 1px solid #f5c6cb; font-weight: bold;\">' +\n",
       "                '<p><strong>WebIO not detected.</strong></p>' +\n",
       "                '<p>Please read ' +\n",
       "                '<a href=\"https://juliagizmos.github.io/WebIO.jl/latest/troubleshooting/not-detected/\" target=\"_blank\">the troubleshooting guide</a> ' +\n",
       "                'for more information on how to resolve this issue.</p>' +\n",
       "                '<p><a href=\"https://juliagizmos.github.io/WebIO.jl/latest/troubleshooting/not-detected/\" target=\"_blank\">https://juliagizmos.github.io/WebIO.jl/latest/troubleshooting/not-detected/</a></p>' +\n",
       "                '</div>'\n",
       "            );\n",
       "        return;\n",
       "    }\n",
       "    WebIO.mount(\n",
       "        document.querySelector('[data-webio-mountpoint=\"3265997443764174916\"]'),\n",
       "        {\"props\":{\"style\":{\"display\":\"flex\",\"flex-direction\":\"column\"}},\"nodeType\":\"DOM\",\"type\":\"node\",\"instanceArgs\":{\"namespace\":\"html\",\"tag\":\"div\"},\"children\":[{\"props\":{\"style\":{\"display\":\"flex\",\"flex-direction\":\"row\"}},\"nodeType\":\"DOM\",\"type\":\"node\",\"instanceArgs\":{\"namespace\":\"html\",\"tag\":\"div\"},\"children\":[{\"props\":{\"style\":{\"display\":\"flex\",\"flex-direction\":\"column\"}},\"nodeType\":\"DOM\",\"type\":\"node\",\"instanceArgs\":{\"namespace\":\"html\",\"tag\":\"div\"},\"children\":[{\"props\":{\"className\":\"field interact-widget\"},\"nodeType\":\"DOM\",\"type\":\"node\",\"instanceArgs\":{\"namespace\":\"html\",\"tag\":\"div\"},\"children\":[{\"props\":{},\"nodeType\":\"Scope\",\"type\":\"node\",\"instanceArgs\":{\"imports\":{\"data\":[{\"name\":\"knockout\",\"type\":\"js\",\"url\":\"\\/assetserver\\/727383f2a47bd31570b7da84eee7b022dd6d7c78-knockout.js\"},{\"name\":\"knockout_punches\",\"type\":\"js\",\"url\":\"\\/assetserver\\/382b41b3b1bd9f26f75861d360bad7f8beea211f-knockout_punches.js\"},{\"name\":null,\"type\":\"js\",\"url\":\"\\/assetserver\\/5ab20f1060420992a9b82a65b735dee4d81ef413-all.js\"},{\"name\":null,\"type\":\"css\",\"url\":\"\\/assetserver\\/1cc0ed62837210b80a182cc3676512f895dab686-style.css\"},{\"name\":null,\"type\":\"css\",\"url\":\"\\/assetserver\\/2eee816f616df3549d7044d45e744fbf8d42bfa1-bulma_confined.min.css\"}],\"type\":\"async_block\"},\"id\":\"12008007231901756509\",\"handlers\":{\"changes\":[\"(function (val){return (val!=this.model[\\\"changes\\\"]()) ? (this.valueFromJulia[\\\"changes\\\"]=true, this.model[\\\"changes\\\"](val)) : undefined})\"],\"index\":[\"(function (val){return (val!=this.model[\\\"index\\\"]()) ? (this.valueFromJulia[\\\"index\\\"]=true, this.model[\\\"index\\\"](val)) : undefined})\"]},\"systemjs_options\":null,\"mount_callbacks\":[\"function () {\\n    var handler = (function (ko, koPunches) {\\n    ko.punches.enableAll();\\n    ko.bindingHandlers.numericValue = {\\n        init: function(element, valueAccessor, allBindings, data, context) {\\n            var stringified = ko.observable(ko.unwrap(valueAccessor()));\\n            stringified.subscribe(function(value) {\\n                var val = parseFloat(value);\\n                if (!isNaN(val)) {\\n                    valueAccessor()(val);\\n                }\\n            });\\n            valueAccessor().subscribe(function(value) {\\n                var str = JSON.stringify(value);\\n                if ((str == \\\"0\\\") && ([\\\"-0\\\", \\\"-0.\\\"].indexOf(stringified()) >= 0))\\n                     return;\\n                 if ([\\\"null\\\", \\\"\\\"].indexOf(str) >= 0)\\n                     return;\\n                stringified(str);\\n            });\\n            ko.applyBindingsToNode(\\n                element,\\n                {\\n                    value: stringified,\\n                    valueUpdate: allBindings.get('valueUpdate'),\\n                },\\n                context,\\n            );\\n        }\\n    };\\n    var json_data = {\\\"formatted_vals\\\":[\\\"1\\\",\\\"2\\\",\\\"3\\\",\\\"4\\\",\\\"5\\\",\\\"6\\\",\\\"7\\\",\\\"8\\\",\\\"9\\\",\\\"10\\\",\\\"11\\\",\\\"12\\\",\\\"13\\\",\\\"14\\\",\\\"15\\\",\\\"16\\\",\\\"17\\\",\\\"18\\\",\\\"19\\\",\\\"20\\\",\\\"21\\\",\\\"22\\\",\\\"23\\\",\\\"24\\\",\\\"25\\\",\\\"26\\\",\\\"27\\\",\\\"28\\\",\\\"29\\\",\\\"30\\\",\\\"31\\\",\\\"32\\\",\\\"33\\\",\\\"34\\\",\\\"35\\\",\\\"36\\\",\\\"37\\\",\\\"38\\\",\\\"39\\\",\\\"40\\\",\\\"41\\\",\\\"42\\\",\\\"43\\\",\\\"44\\\",\\\"45\\\",\\\"46\\\",\\\"47\\\",\\\"48\\\",\\\"49\\\",\\\"50\\\",\\\"51\\\",\\\"52\\\",\\\"53\\\",\\\"54\\\",\\\"55\\\",\\\"56\\\",\\\"57\\\",\\\"58\\\",\\\"59\\\",\\\"60\\\",\\\"61\\\",\\\"62\\\",\\\"63\\\",\\\"64\\\",\\\"65\\\",\\\"66\\\",\\\"67\\\",\\\"68\\\",\\\"69\\\",\\\"70\\\",\\\"71\\\",\\\"72\\\",\\\"73\\\",\\\"74\\\",\\\"75\\\",\\\"76\\\",\\\"77\\\",\\\"78\\\",\\\"79\\\",\\\"80\\\",\\\"81\\\",\\\"82\\\",\\\"83\\\",\\\"84\\\",\\\"85\\\",\\\"86\\\",\\\"87\\\",\\\"88\\\",\\\"89\\\",\\\"90\\\",\\\"91\\\",\\\"92\\\",\\\"93\\\",\\\"94\\\",\\\"95\\\",\\\"96\\\",\\\"97\\\",\\\"98\\\",\\\"99\\\",\\\"100\\\",\\\"101\\\",\\\"102\\\",\\\"103\\\",\\\"104\\\",\\\"105\\\",\\\"106\\\",\\\"107\\\",\\\"108\\\",\\\"109\\\",\\\"110\\\",\\\"111\\\",\\\"112\\\",\\\"113\\\",\\\"114\\\",\\\"115\\\",\\\"116\\\",\\\"117\\\",\\\"118\\\",\\\"119\\\",\\\"120\\\",\\\"121\\\",\\\"122\\\",\\\"123\\\",\\\"124\\\",\\\"125\\\",\\\"126\\\",\\\"127\\\",\\\"128\\\",\\\"129\\\",\\\"130\\\",\\\"131\\\",\\\"132\\\",\\\"133\\\",\\\"134\\\",\\\"135\\\",\\\"136\\\",\\\"137\\\",\\\"138\\\",\\\"139\\\",\\\"140\\\",\\\"141\\\",\\\"142\\\",\\\"143\\\",\\\"144\\\",\\\"145\\\",\\\"146\\\",\\\"147\\\",\\\"148\\\",\\\"149\\\",\\\"150\\\",\\\"151\\\",\\\"152\\\",\\\"153\\\",\\\"154\\\",\\\"155\\\",\\\"156\\\",\\\"157\\\",\\\"158\\\",\\\"159\\\",\\\"160\\\",\\\"161\\\",\\\"162\\\",\\\"163\\\",\\\"164\\\",\\\"165\\\",\\\"166\\\",\\\"167\\\",\\\"168\\\",\\\"169\\\",\\\"170\\\",\\\"171\\\",\\\"172\\\",\\\"173\\\",\\\"174\\\",\\\"175\\\",\\\"176\\\",\\\"177\\\",\\\"178\\\",\\\"179\\\",\\\"180\\\",\\\"181\\\",\\\"182\\\",\\\"183\\\",\\\"184\\\",\\\"185\\\",\\\"186\\\",\\\"187\\\",\\\"188\\\",\\\"189\\\",\\\"190\\\",\\\"191\\\",\\\"192\\\",\\\"193\\\",\\\"194\\\",\\\"195\\\",\\\"196\\\",\\\"197\\\",\\\"198\\\",\\\"199\\\",\\\"200\\\",\\\"201\\\"],\\\"changes\\\":WebIO.getval({\\\"name\\\":\\\"changes\\\",\\\"scope\\\":\\\"12008007231901756509\\\",\\\"id\\\":\\\"6837662095372793174\\\",\\\"type\\\":\\\"observable\\\"}),\\\"index\\\":WebIO.getval({\\\"name\\\":\\\"index\\\",\\\"scope\\\":\\\"12008007231901756509\\\",\\\"id\\\":\\\"16786068803048499830\\\",\\\"type\\\":\\\"observable\\\"})};\\n    var self = this;\\n    function AppViewModel() {\\n        for (var key in json_data) {\\n            var el = json_data[key];\\n            this[key] = Array.isArray(el) ? ko.observableArray(el) : ko.observable(el);\\n        }\\n        \\n        [this[\\\"formatted_val\\\"]=ko.computed(    function(){\\n        return this.formatted_vals()[parseInt(this.index())-(1)];\\n    }\\n,this)]\\n        [this[\\\"changes\\\"].subscribe((function (val){!(this.valueFromJulia[\\\"changes\\\"]) ? (WebIO.setval({\\\"name\\\":\\\"changes\\\",\\\"scope\\\":\\\"12008007231901756509\\\",\\\"id\\\":\\\"6837662095372793174\\\",\\\"type\\\":\\\"observable\\\"},val)) : undefined; return this.valueFromJulia[\\\"changes\\\"]=false}),self),this[\\\"index\\\"].subscribe((function (val){!(this.valueFromJulia[\\\"index\\\"]) ? (WebIO.setval({\\\"name\\\":\\\"index\\\",\\\"scope\\\":\\\"12008007231901756509\\\",\\\"id\\\":\\\"16786068803048499830\\\",\\\"type\\\":\\\"observable\\\"},val)) : undefined; return this.valueFromJulia[\\\"index\\\"]=false}),self)]\\n        \\n    }\\n    self.model = new AppViewModel();\\n    self.valueFromJulia = {};\\n    for (var key in json_data) {\\n        self.valueFromJulia[key] = false;\\n    }\\n    ko.applyBindings(self.model, self.dom);\\n}\\n);\\n    (WebIO.importBlock({\\\"data\\\":[{\\\"name\\\":\\\"knockout\\\",\\\"type\\\":\\\"js\\\",\\\"url\\\":\\\"\\/assetserver\\/727383f2a47bd31570b7da84eee7b022dd6d7c78-knockout.js\\\"},{\\\"name\\\":\\\"knockout_punches\\\",\\\"type\\\":\\\"js\\\",\\\"url\\\":\\\"\\/assetserver\\/382b41b3b1bd9f26f75861d360bad7f8beea211f-knockout_punches.js\\\"}],\\\"type\\\":\\\"async_block\\\"})).then((imports) => handler.apply(this, imports));\\n}\\n\"],\"observables\":{\"changes\":{\"sync\":false,\"id\":\"6837662095372793174\",\"value\":0},\"index\":{\"sync\":true,\"id\":\"16786068803048499830\",\"value\":101}}},\"children\":[{\"props\":{\"className\":\"interact-flex-row interact-widget\"},\"nodeType\":\"DOM\",\"type\":\"node\",\"instanceArgs\":{\"namespace\":\"html\",\"tag\":\"div\"},\"children\":[{\"props\":{\"className\":\"interact-flex-row-left\"},\"nodeType\":\"DOM\",\"type\":\"node\",\"instanceArgs\":{\"namespace\":\"html\",\"tag\":\"div\"},\"children\":[{\"props\":{\"className\":\"interact \",\"style\":{\"padding\":\"5px 10px 0px 10px\"}},\"nodeType\":\"DOM\",\"type\":\"node\",\"instanceArgs\":{\"namespace\":\"html\",\"tag\":\"label\"},\"children\":[\"time\"]}]},{\"props\":{\"className\":\"interact-flex-row-center\"},\"nodeType\":\"DOM\",\"type\":\"node\",\"instanceArgs\":{\"namespace\":\"html\",\"tag\":\"div\"},\"children\":[{\"props\":{\"max\":201,\"min\":1,\"attributes\":{\"type\":\"range\",\"data-bind\":\"numericValue: index, valueUpdate: 'input', event: {change: function (){this.changes(this.changes()+1)}}\",\"orient\":\"horizontal\"},\"step\":1,\"className\":\"slider slider is-fullwidth\",\"style\":{}},\"nodeType\":\"DOM\",\"type\":\"node\",\"instanceArgs\":{\"namespace\":\"html\",\"tag\":\"input\"},\"children\":[]}]},{\"props\":{\"className\":\"interact-flex-row-right\"},\"nodeType\":\"DOM\",\"type\":\"node\",\"instanceArgs\":{\"namespace\":\"html\",\"tag\":\"div\"},\"children\":[{\"props\":{\"attributes\":{\"data-bind\":\"text: formatted_val\"}},\"nodeType\":\"DOM\",\"type\":\"node\",\"instanceArgs\":{\"namespace\":\"html\",\"tag\":\"p\"},\"children\":[]}]}]}]}]},{\"props\":{\"className\":\"field interact-widget\"},\"nodeType\":\"DOM\",\"type\":\"node\",\"instanceArgs\":{\"namespace\":\"html\",\"tag\":\"div\"},\"children\":[{\"props\":{},\"nodeType\":\"Scope\",\"type\":\"node\",\"instanceArgs\":{\"imports\":{\"data\":[{\"name\":\"knockout\",\"type\":\"js\",\"url\":\"\\/assetserver\\/727383f2a47bd31570b7da84eee7b022dd6d7c78-knockout.js\"},{\"name\":\"knockout_punches\",\"type\":\"js\",\"url\":\"\\/assetserver\\/382b41b3b1bd9f26f75861d360bad7f8beea211f-knockout_punches.js\"},{\"name\":null,\"type\":\"js\",\"url\":\"\\/assetserver\\/5ab20f1060420992a9b82a65b735dee4d81ef413-all.js\"},{\"name\":null,\"type\":\"css\",\"url\":\"\\/assetserver\\/1cc0ed62837210b80a182cc3676512f895dab686-style.css\"},{\"name\":null,\"type\":\"css\",\"url\":\"\\/assetserver\\/2eee816f616df3549d7044d45e744fbf8d42bfa1-bulma_confined.min.css\"}],\"type\":\"async_block\"},\"id\":\"9767575980857167281\",\"handlers\":{\"changes\":[\"(function (val){return (val!=this.model[\\\"changes\\\"]()) ? (this.valueFromJulia[\\\"changes\\\"]=true, this.model[\\\"changes\\\"](val)) : undefined})\"],\"index\":[\"(function (val){return (val!=this.model[\\\"index\\\"]()) ? (this.valueFromJulia[\\\"index\\\"]=true, this.model[\\\"index\\\"](val)) : undefined})\"]},\"systemjs_options\":null,\"mount_callbacks\":[\"function () {\\n    var handler = (function (ko, koPunches) {\\n    ko.punches.enableAll();\\n    ko.bindingHandlers.numericValue = {\\n        init: function(element, valueAccessor, allBindings, data, context) {\\n            var stringified = ko.observable(ko.unwrap(valueAccessor()));\\n            stringified.subscribe(function(value) {\\n                var val = parseFloat(value);\\n                if (!isNaN(val)) {\\n                    valueAccessor()(val);\\n                }\\n            });\\n            valueAccessor().subscribe(function(value) {\\n                var str = JSON.stringify(value);\\n                if ((str == \\\"0\\\") && ([\\\"-0\\\", \\\"-0.\\\"].indexOf(stringified()) >= 0))\\n                     return;\\n                 if ([\\\"null\\\", \\\"\\\"].indexOf(str) >= 0)\\n                     return;\\n                stringified(str);\\n            });\\n            ko.applyBindingsToNode(\\n                element,\\n                {\\n                    value: stringified,\\n                    valueUpdate: allBindings.get('valueUpdate'),\\n                },\\n                context,\\n            );\\n        }\\n    };\\n    var json_data = {\\\"formatted_vals\\\":[\\\"0.1\\\",\\\"0.2\\\",\\\"0.3\\\",\\\"0.4\\\",\\\"0.5\\\",\\\"0.6\\\",\\\"0.7\\\",\\\"0.8\\\",\\\"0.9\\\",\\\"1.0\\\",\\\"1.1\\\",\\\"1.2\\\",\\\"1.3\\\",\\\"1.4\\\",\\\"1.5\\\",\\\"1.6\\\",\\\"1.7\\\",\\\"1.8\\\",\\\"1.9\\\",\\\"2.0\\\"],\\\"changes\\\":WebIO.getval({\\\"name\\\":\\\"changes\\\",\\\"scope\\\":\\\"9767575980857167281\\\",\\\"id\\\":\\\"16001604779247079443\\\",\\\"type\\\":\\\"observable\\\"}),\\\"index\\\":WebIO.getval({\\\"name\\\":\\\"index\\\",\\\"scope\\\":\\\"9767575980857167281\\\",\\\"id\\\":\\\"11575940638526460723\\\",\\\"type\\\":\\\"observable\\\"})};\\n    var self = this;\\n    function AppViewModel() {\\n        for (var key in json_data) {\\n            var el = json_data[key];\\n            this[key] = Array.isArray(el) ? ko.observableArray(el) : ko.observable(el);\\n        }\\n        \\n        [this[\\\"formatted_val\\\"]=ko.computed(    function(){\\n        return this.formatted_vals()[parseInt(this.index())-(1)];\\n    }\\n,this)]\\n        [this[\\\"changes\\\"].subscribe((function (val){!(this.valueFromJulia[\\\"changes\\\"]) ? (WebIO.setval({\\\"name\\\":\\\"changes\\\",\\\"scope\\\":\\\"9767575980857167281\\\",\\\"id\\\":\\\"16001604779247079443\\\",\\\"type\\\":\\\"observable\\\"},val)) : undefined; return this.valueFromJulia[\\\"changes\\\"]=false}),self),this[\\\"index\\\"].subscribe((function (val){!(this.valueFromJulia[\\\"index\\\"]) ? (WebIO.setval({\\\"name\\\":\\\"index\\\",\\\"scope\\\":\\\"9767575980857167281\\\",\\\"id\\\":\\\"11575940638526460723\\\",\\\"type\\\":\\\"observable\\\"},val)) : undefined; return this.valueFromJulia[\\\"index\\\"]=false}),self)]\\n        \\n    }\\n    self.model = new AppViewModel();\\n    self.valueFromJulia = {};\\n    for (var key in json_data) {\\n        self.valueFromJulia[key] = false;\\n    }\\n    ko.applyBindings(self.model, self.dom);\\n}\\n);\\n    (WebIO.importBlock({\\\"data\\\":[{\\\"name\\\":\\\"knockout\\\",\\\"type\\\":\\\"js\\\",\\\"url\\\":\\\"\\/assetserver\\/727383f2a47bd31570b7da84eee7b022dd6d7c78-knockout.js\\\"},{\\\"name\\\":\\\"knockout_punches\\\",\\\"type\\\":\\\"js\\\",\\\"url\\\":\\\"\\/assetserver\\/382b41b3b1bd9f26f75861d360bad7f8beea211f-knockout_punches.js\\\"}],\\\"type\\\":\\\"async_block\\\"})).then((imports) => handler.apply(this, imports));\\n}\\n\"],\"observables\":{\"changes\":{\"sync\":false,\"id\":\"16001604779247079443\",\"value\":0},\"index\":{\"sync\":true,\"id\":\"11575940638526460723\",\"value\":10}}},\"children\":[{\"props\":{\"className\":\"interact-flex-row interact-widget\"},\"nodeType\":\"DOM\",\"type\":\"node\",\"instanceArgs\":{\"namespace\":\"html\",\"tag\":\"div\"},\"children\":[{\"props\":{\"className\":\"interact-flex-row-left\"},\"nodeType\":\"DOM\",\"type\":\"node\",\"instanceArgs\":{\"namespace\":\"html\",\"tag\":\"div\"},\"children\":[{\"props\":{\"className\":\"interact \",\"style\":{\"padding\":\"5px 10px 0px 10px\"}},\"nodeType\":\"DOM\",\"type\":\"node\",\"instanceArgs\":{\"namespace\":\"html\",\"tag\":\"label\"},\"children\":[\"scale\"]}]},{\"props\":{\"className\":\"interact-flex-row-center\"},\"nodeType\":\"DOM\",\"type\":\"node\",\"instanceArgs\":{\"namespace\":\"html\",\"tag\":\"div\"},\"children\":[{\"props\":{\"max\":20,\"min\":1,\"attributes\":{\"type\":\"range\",\"data-bind\":\"numericValue: index, valueUpdate: 'input', event: {change: function (){this.changes(this.changes()+1)}}\",\"orient\":\"horizontal\"},\"step\":1,\"className\":\"slider slider is-fullwidth\",\"style\":{}},\"nodeType\":\"DOM\",\"type\":\"node\",\"instanceArgs\":{\"namespace\":\"html\",\"tag\":\"input\"},\"children\":[]}]},{\"props\":{\"className\":\"interact-flex-row-right\"},\"nodeType\":\"DOM\",\"type\":\"node\",\"instanceArgs\":{\"namespace\":\"html\",\"tag\":\"div\"},\"children\":[{\"props\":{\"attributes\":{\"data-bind\":\"text: formatted_val\"}},\"nodeType\":\"DOM\",\"type\":\"node\",\"instanceArgs\":{\"namespace\":\"html\",\"tag\":\"p\"},\"children\":[]}]}]}]}]},{\"props\":{\"style\":{\"display\":\"flex\",\"flex-direction\":\"row\"}},\"nodeType\":\"DOM\",\"type\":\"node\",\"instanceArgs\":{\"namespace\":\"html\",\"tag\":\"div\"},\"children\":[{\"props\":{\"className\":\"interact-widget\"},\"nodeType\":\"DOM\",\"type\":\"node\",\"instanceArgs\":{\"namespace\":\"html\",\"tag\":\"div\"},\"children\":[{\"props\":{},\"nodeType\":\"Scope\",\"type\":\"node\",\"instanceArgs\":{\"imports\":{\"data\":[{\"name\":null,\"type\":\"js\",\"url\":\"\\/assetserver\\/dd22ed1bf1896c2748f3fe616ce0b838adc895c1-katex.min.js\"},{\"name\":null,\"type\":\"css\",\"url\":\"\\/assetserver\\/46517a424aa5e6cffc1360d7e0848b601c584ee3-katex.min.css\"}],\"type\":\"async_block\"},\"id\":\"2086703565183697438\",\"handlers\":{\"value\":[\"(function (txt){return this.k.render(txt,this.container)})\"]},\"systemjs_options\":null,\"mount_callbacks\":[\"function () {\\n    var handler = ((function (k){this.k=k; this.container=this.dom.querySelector(\\\"#container\\\"); return k.render(\\\"\\\\\\\\;\\\\\\\\;\\\",this.container)}));\\n    (WebIO.importBlock({\\\"data\\\":[{\\\"name\\\":null,\\\"type\\\":\\\"js\\\",\\\"url\\\":\\\"\\/assetserver\\/dd22ed1bf1896c2748f3fe616ce0b838adc895c1-katex.min.js\\\"},{\\\"name\\\":null,\\\"type\\\":\\\"css\\\",\\\"url\\\":\\\"\\/assetserver\\/46517a424aa5e6cffc1360d7e0848b601c584ee3-katex.min.css\\\"}],\\\"type\\\":\\\"async_block\\\"})).then((imports) => handler.apply(this, imports));\\n}\\n\"],\"observables\":{\"value\":{\"sync\":false,\"id\":\"18105459312910058881\",\"value\":\"\\\\;\\\\;\"}}},\"children\":[{\"props\":{\"id\":\"container\"},\"nodeType\":\"DOM\",\"type\":\"node\",\"instanceArgs\":{\"namespace\":\"html\",\"tag\":\"div\"},\"children\":[]}]}]},{\"props\":{\"className\":\"field interact-widget\"},\"nodeType\":\"DOM\",\"type\":\"node\",\"instanceArgs\":{\"namespace\":\"html\",\"tag\":\"div\"},\"children\":[{\"props\":{},\"nodeType\":\"Scope\",\"type\":\"node\",\"instanceArgs\":{\"imports\":{\"data\":[{\"name\":\"knockout\",\"type\":\"js\",\"url\":\"\\/assetserver\\/727383f2a47bd31570b7da84eee7b022dd6d7c78-knockout.js\"},{\"name\":\"knockout_punches\",\"type\":\"js\",\"url\":\"\\/assetserver\\/382b41b3b1bd9f26f75861d360bad7f8beea211f-knockout_punches.js\"},{\"name\":null,\"type\":\"js\",\"url\":\"\\/assetserver\\/5ab20f1060420992a9b82a65b735dee4d81ef413-all.js\"},{\"name\":null,\"type\":\"css\",\"url\":\"\\/assetserver\\/1cc0ed62837210b80a182cc3676512f895dab686-style.css\"},{\"name\":null,\"type\":\"css\",\"url\":\"\\/assetserver\\/2eee816f616df3549d7044d45e744fbf8d42bfa1-bulma_confined.min.css\"}],\"type\":\"async_block\"},\"id\":\"6717458495521379259\",\"handlers\":{\"loading\":[\"(function (val){return (val!=this.model[\\\"loading\\\"]()) ? (this.valueFromJulia[\\\"loading\\\"]=true, this.model[\\\"loading\\\"](val)) : undefined})\"],\"clicks\":[\"(function (val){return (val!=this.model[\\\"clicks\\\"]()) ? (this.valueFromJulia[\\\"clicks\\\"]=true, this.model[\\\"clicks\\\"](val)) : undefined})\"]},\"systemjs_options\":null,\"mount_callbacks\":[\"function () {\\n    var handler = (function (ko, koPunches) {\\n    ko.punches.enableAll();\\n    ko.bindingHandlers.numericValue = {\\n        init: function(element, valueAccessor, allBindings, data, context) {\\n            var stringified = ko.observable(ko.unwrap(valueAccessor()));\\n            stringified.subscribe(function(value) {\\n                var val = parseFloat(value);\\n                if (!isNaN(val)) {\\n                    valueAccessor()(val);\\n                }\\n            });\\n            valueAccessor().subscribe(function(value) {\\n                var str = JSON.stringify(value);\\n                if ((str == \\\"0\\\") && ([\\\"-0\\\", \\\"-0.\\\"].indexOf(stringified()) >= 0))\\n                     return;\\n                 if ([\\\"null\\\", \\\"\\\"].indexOf(str) >= 0)\\n                     return;\\n                stringified(str);\\n            });\\n            ko.applyBindingsToNode(\\n                element,\\n                {\\n                    value: stringified,\\n                    valueUpdate: allBindings.get('valueUpdate'),\\n                },\\n                context,\\n            );\\n        }\\n    };\\n    var json_data = {\\\"loading\\\":WebIO.getval({\\\"name\\\":\\\"loading\\\",\\\"scope\\\":\\\"6717458495521379259\\\",\\\"id\\\":\\\"5323040231127277094\\\",\\\"type\\\":\\\"observable\\\"}),\\\"clicks\\\":WebIO.getval({\\\"name\\\":\\\"clicks\\\",\\\"scope\\\":\\\"6717458495521379259\\\",\\\"id\\\":\\\"1539567646910878034\\\",\\\"type\\\":\\\"observable\\\"})};\\n    var self = this;\\n    function AppViewModel() {\\n        for (var key in json_data) {\\n            var el = json_data[key];\\n            this[key] = Array.isArray(el) ? ko.observableArray(el) : ko.observable(el);\\n        }\\n        \\n        \\n        [this[\\\"loading\\\"].subscribe((function (val){!(this.valueFromJulia[\\\"loading\\\"]) ? (WebIO.setval({\\\"name\\\":\\\"loading\\\",\\\"scope\\\":\\\"6717458495521379259\\\",\\\"id\\\":\\\"5323040231127277094\\\",\\\"type\\\":\\\"observable\\\"},val)) : undefined; return this.valueFromJulia[\\\"loading\\\"]=false}),self),this[\\\"clicks\\\"].subscribe((function (val){!(this.valueFromJulia[\\\"clicks\\\"]) ? (WebIO.setval({\\\"name\\\":\\\"clicks\\\",\\\"scope\\\":\\\"6717458495521379259\\\",\\\"id\\\":\\\"1539567646910878034\\\",\\\"type\\\":\\\"observable\\\"},val)) : undefined; return this.valueFromJulia[\\\"clicks\\\"]=false}),self)]\\n        \\n    }\\n    self.model = new AppViewModel();\\n    self.valueFromJulia = {};\\n    for (var key in json_data) {\\n        self.valueFromJulia[key] = false;\\n    }\\n    ko.applyBindings(self.model, self.dom);\\n}\\n);\\n    (WebIO.importBlock({\\\"data\\\":[{\\\"name\\\":\\\"knockout\\\",\\\"type\\\":\\\"js\\\",\\\"url\\\":\\\"\\/assetserver\\/727383f2a47bd31570b7da84eee7b022dd6d7c78-knockout.js\\\"},{\\\"name\\\":\\\"knockout_punches\\\",\\\"type\\\":\\\"js\\\",\\\"url\\\":\\\"\\/assetserver\\/382b41b3b1bd9f26f75861d360bad7f8beea211f-knockout_punches.js\\\"}],\\\"type\\\":\\\"async_block\\\"})).then((imports) => handler.apply(this, imports));\\n}\\n\"],\"observables\":{\"loading\":{\"sync\":false,\"id\":\"5323040231127277094\",\"value\":false},\"clicks\":{\"sync\":true,\"id\":\"1539567646910878034\",\"value\":0}}},\"children\":[{\"props\":{\"attributes\":{\"data-bind\":\"click: function (){this.clicks(this.clicks()+1)}, css: {'is-loading' : loading}\"},\"className\":\"is-medium button is-primary\",\"style\":{}},\"nodeType\":\"DOM\",\"type\":\"node\",\"instanceArgs\":{\"namespace\":\"html\",\"tag\":\"button\"},\"children\":[\"run\"]}]}]},{\"props\":{\"className\":\"interact-widget\"},\"nodeType\":\"DOM\",\"type\":\"node\",\"instanceArgs\":{\"namespace\":\"html\",\"tag\":\"div\"},\"children\":[{\"props\":{},\"nodeType\":\"Scope\",\"type\":\"node\",\"instanceArgs\":{\"imports\":{\"data\":[{\"name\":null,\"type\":\"js\",\"url\":\"\\/assetserver\\/dd22ed1bf1896c2748f3fe616ce0b838adc895c1-katex.min.js\"},{\"name\":null,\"type\":\"css\",\"url\":\"\\/assetserver\\/46517a424aa5e6cffc1360d7e0848b601c584ee3-katex.min.css\"}],\"type\":\"async_block\"},\"id\":\"2086703565183697438\",\"handlers\":{\"value\":[\"(function (txt){return this.k.render(txt,this.container)})\"]},\"systemjs_options\":null,\"mount_callbacks\":[\"function () {\\n    var handler = ((function (k){this.k=k; this.container=this.dom.querySelector(\\\"#container\\\"); return k.render(\\\"\\\\\\\\;\\\\\\\\;\\\",this.container)}));\\n    (WebIO.importBlock({\\\"data\\\":[{\\\"name\\\":null,\\\"type\\\":\\\"js\\\",\\\"url\\\":\\\"\\/assetserver\\/dd22ed1bf1896c2748f3fe616ce0b838adc895c1-katex.min.js\\\"},{\\\"name\\\":null,\\\"type\\\":\\\"css\\\",\\\"url\\\":\\\"\\/assetserver\\/46517a424aa5e6cffc1360d7e0848b601c584ee3-katex.min.css\\\"}],\\\"type\\\":\\\"async_block\\\"})).then((imports) => handler.apply(this, imports));\\n}\\n\"],\"observables\":{\"value\":{\"sync\":false,\"id\":\"18105459312910058881\",\"value\":\"\\\\;\\\\;\"}}},\"children\":[{\"props\":{\"id\":\"container\"},\"nodeType\":\"DOM\",\"type\":\"node\",\"instanceArgs\":{\"namespace\":\"html\",\"tag\":\"div\"},\"children\":[]}]}]},{\"props\":{\"className\":\"field interact-widget\"},\"nodeType\":\"DOM\",\"type\":\"node\",\"instanceArgs\":{\"namespace\":\"html\",\"tag\":\"div\"},\"children\":[{\"props\":{},\"nodeType\":\"Scope\",\"type\":\"node\",\"instanceArgs\":{\"imports\":{\"data\":[{\"name\":\"knockout\",\"type\":\"js\",\"url\":\"\\/assetserver\\/727383f2a47bd31570b7da84eee7b022dd6d7c78-knockout.js\"},{\"name\":\"knockout_punches\",\"type\":\"js\",\"url\":\"\\/assetserver\\/382b41b3b1bd9f26f75861d360bad7f8beea211f-knockout_punches.js\"},{\"name\":null,\"type\":\"js\",\"url\":\"\\/assetserver\\/5ab20f1060420992a9b82a65b735dee4d81ef413-all.js\"},{\"name\":null,\"type\":\"css\",\"url\":\"\\/assetserver\\/1cc0ed62837210b80a182cc3676512f895dab686-style.css\"},{\"name\":null,\"type\":\"css\",\"url\":\"\\/assetserver\\/2eee816f616df3549d7044d45e744fbf8d42bfa1-bulma_confined.min.css\"}],\"type\":\"async_block\"},\"id\":\"10279188027219030521\",\"handlers\":{\"loading\":[\"(function (val){return (val!=this.model[\\\"loading\\\"]()) ? (this.valueFromJulia[\\\"loading\\\"]=true, this.model[\\\"loading\\\"](val)) : undefined})\"],\"clicks\":[\"(function (val){return (val!=this.model[\\\"clicks\\\"]()) ? (this.valueFromJulia[\\\"clicks\\\"]=true, this.model[\\\"clicks\\\"](val)) : undefined})\"]},\"systemjs_options\":null,\"mount_callbacks\":[\"function () {\\n    var handler = (function (ko, koPunches) {\\n    ko.punches.enableAll();\\n    ko.bindingHandlers.numericValue = {\\n        init: function(element, valueAccessor, allBindings, data, context) {\\n            var stringified = ko.observable(ko.unwrap(valueAccessor()));\\n            stringified.subscribe(function(value) {\\n                var val = parseFloat(value);\\n                if (!isNaN(val)) {\\n                    valueAccessor()(val);\\n                }\\n            });\\n            valueAccessor().subscribe(function(value) {\\n                var str = JSON.stringify(value);\\n                if ((str == \\\"0\\\") && ([\\\"-0\\\", \\\"-0.\\\"].indexOf(stringified()) >= 0))\\n                     return;\\n                 if ([\\\"null\\\", \\\"\\\"].indexOf(str) >= 0)\\n                     return;\\n                stringified(str);\\n            });\\n            ko.applyBindingsToNode(\\n                element,\\n                {\\n                    value: stringified,\\n                    valueUpdate: allBindings.get('valueUpdate'),\\n                },\\n                context,\\n            );\\n        }\\n    };\\n    var json_data = {\\\"loading\\\":WebIO.getval({\\\"name\\\":\\\"loading\\\",\\\"scope\\\":\\\"10279188027219030521\\\",\\\"id\\\":\\\"2232367738274803611\\\",\\\"type\\\":\\\"observable\\\"}),\\\"clicks\\\":WebIO.getval({\\\"name\\\":\\\"clicks\\\",\\\"scope\\\":\\\"10279188027219030521\\\",\\\"id\\\":\\\"3943688257825763836\\\",\\\"type\\\":\\\"observable\\\"})};\\n    var self = this;\\n    function AppViewModel() {\\n        for (var key in json_data) {\\n            var el = json_data[key];\\n            this[key] = Array.isArray(el) ? ko.observableArray(el) : ko.observable(el);\\n        }\\n        \\n        \\n        [this[\\\"loading\\\"].subscribe((function (val){!(this.valueFromJulia[\\\"loading\\\"]) ? (WebIO.setval({\\\"name\\\":\\\"loading\\\",\\\"scope\\\":\\\"10279188027219030521\\\",\\\"id\\\":\\\"2232367738274803611\\\",\\\"type\\\":\\\"observable\\\"},val)) : undefined; return this.valueFromJulia[\\\"loading\\\"]=false}),self),this[\\\"clicks\\\"].subscribe((function (val){!(this.valueFromJulia[\\\"clicks\\\"]) ? (WebIO.setval({\\\"name\\\":\\\"clicks\\\",\\\"scope\\\":\\\"10279188027219030521\\\",\\\"id\\\":\\\"3943688257825763836\\\",\\\"type\\\":\\\"observable\\\"},val)) : undefined; return this.valueFromJulia[\\\"clicks\\\"]=false}),self)]\\n        \\n    }\\n    self.model = new AppViewModel();\\n    self.valueFromJulia = {};\\n    for (var key in json_data) {\\n        self.valueFromJulia[key] = false;\\n    }\\n    ko.applyBindings(self.model, self.dom);\\n}\\n);\\n    (WebIO.importBlock({\\\"data\\\":[{\\\"name\\\":\\\"knockout\\\",\\\"type\\\":\\\"js\\\",\\\"url\\\":\\\"\\/assetserver\\/727383f2a47bd31570b7da84eee7b022dd6d7c78-knockout.js\\\"},{\\\"name\\\":\\\"knockout_punches\\\",\\\"type\\\":\\\"js\\\",\\\"url\\\":\\\"\\/assetserver\\/382b41b3b1bd9f26f75861d360bad7f8beea211f-knockout_punches.js\\\"}],\\\"type\\\":\\\"async_block\\\"})).then((imports) => handler.apply(this, imports));\\n}\\n\"],\"observables\":{\"loading\":{\"sync\":false,\"id\":\"2232367738274803611\",\"value\":false},\"clicks\":{\"sync\":true,\"id\":\"3943688257825763836\",\"value\":0}}},\"children\":[{\"props\":{\"attributes\":{\"data-bind\":\"click: function (){this.clicks(this.clicks()+1)}, css: {'is-loading' : loading}\"},\"className\":\"is-medium button is-primary\",\"style\":{}},\"nodeType\":\"DOM\",\"type\":\"node\",\"instanceArgs\":{\"namespace\":\"html\",\"tag\":\"button\"},\"children\":[\"stop\"]}]}]},{\"props\":{\"className\":\"interact-widget\"},\"nodeType\":\"DOM\",\"type\":\"node\",\"instanceArgs\":{\"namespace\":\"html\",\"tag\":\"div\"},\"children\":[{\"props\":{},\"nodeType\":\"Scope\",\"type\":\"node\",\"instanceArgs\":{\"imports\":{\"data\":[{\"name\":null,\"type\":\"js\",\"url\":\"\\/assetserver\\/dd22ed1bf1896c2748f3fe616ce0b838adc895c1-katex.min.js\"},{\"name\":null,\"type\":\"css\",\"url\":\"\\/assetserver\\/46517a424aa5e6cffc1360d7e0848b601c584ee3-katex.min.css\"}],\"type\":\"async_block\"},\"id\":\"2086703565183697438\",\"handlers\":{\"value\":[\"(function (txt){return this.k.render(txt,this.container)})\"]},\"systemjs_options\":null,\"mount_callbacks\":[\"function () {\\n    var handler = ((function (k){this.k=k; this.container=this.dom.querySelector(\\\"#container\\\"); return k.render(\\\"\\\\\\\\;\\\\\\\\;\\\",this.container)}));\\n    (WebIO.importBlock({\\\"data\\\":[{\\\"name\\\":null,\\\"type\\\":\\\"js\\\",\\\"url\\\":\\\"\\/assetserver\\/dd22ed1bf1896c2748f3fe616ce0b838adc895c1-katex.min.js\\\"},{\\\"name\\\":null,\\\"type\\\":\\\"css\\\",\\\"url\\\":\\\"\\/assetserver\\/46517a424aa5e6cffc1360d7e0848b601c584ee3-katex.min.css\\\"}],\\\"type\\\":\\\"async_block\\\"})).then((imports) => handler.apply(this, imports));\\n}\\n\"],\"observables\":{\"value\":{\"sync\":false,\"id\":\"18105459312910058881\",\"value\":\"\\\\;\\\\;\"}}},\"children\":[{\"props\":{\"id\":\"container\"},\"nodeType\":\"DOM\",\"type\":\"node\",\"instanceArgs\":{\"namespace\":\"html\",\"tag\":\"div\"},\"children\":[]}]}]},{\"props\":{\"className\":\"field interact-widget\"},\"nodeType\":\"DOM\",\"type\":\"node\",\"instanceArgs\":{\"namespace\":\"html\",\"tag\":\"div\"},\"children\":[{\"props\":{},\"nodeType\":\"Scope\",\"type\":\"node\",\"instanceArgs\":{\"imports\":{\"data\":[{\"name\":\"knockout\",\"type\":\"js\",\"url\":\"\\/assetserver\\/727383f2a47bd31570b7da84eee7b022dd6d7c78-knockout.js\"},{\"name\":\"knockout_punches\",\"type\":\"js\",\"url\":\"\\/assetserver\\/382b41b3b1bd9f26f75861d360bad7f8beea211f-knockout_punches.js\"},{\"name\":null,\"type\":\"js\",\"url\":\"\\/assetserver\\/5ab20f1060420992a9b82a65b735dee4d81ef413-all.js\"},{\"name\":null,\"type\":\"css\",\"url\":\"\\/assetserver\\/1cc0ed62837210b80a182cc3676512f895dab686-style.css\"},{\"name\":null,\"type\":\"css\",\"url\":\"\\/assetserver\\/2eee816f616df3549d7044d45e744fbf8d42bfa1-bulma_confined.min.css\"}],\"type\":\"async_block\"},\"id\":\"887994708745106789\",\"handlers\":{\"loading\":[\"(function (val){return (val!=this.model[\\\"loading\\\"]()) ? (this.valueFromJulia[\\\"loading\\\"]=true, this.model[\\\"loading\\\"](val)) : undefined})\"],\"clicks\":[\"(function (val){return (val!=this.model[\\\"clicks\\\"]()) ? (this.valueFromJulia[\\\"clicks\\\"]=true, this.model[\\\"clicks\\\"](val)) : undefined})\"]},\"systemjs_options\":null,\"mount_callbacks\":[\"function () {\\n    var handler = (function (ko, koPunches) {\\n    ko.punches.enableAll();\\n    ko.bindingHandlers.numericValue = {\\n        init: function(element, valueAccessor, allBindings, data, context) {\\n            var stringified = ko.observable(ko.unwrap(valueAccessor()));\\n            stringified.subscribe(function(value) {\\n                var val = parseFloat(value);\\n                if (!isNaN(val)) {\\n                    valueAccessor()(val);\\n                }\\n            });\\n            valueAccessor().subscribe(function(value) {\\n                var str = JSON.stringify(value);\\n                if ((str == \\\"0\\\") && ([\\\"-0\\\", \\\"-0.\\\"].indexOf(stringified()) >= 0))\\n                     return;\\n                 if ([\\\"null\\\", \\\"\\\"].indexOf(str) >= 0)\\n                     return;\\n                stringified(str);\\n            });\\n            ko.applyBindingsToNode(\\n                element,\\n                {\\n                    value: stringified,\\n                    valueUpdate: allBindings.get('valueUpdate'),\\n                },\\n                context,\\n            );\\n        }\\n    };\\n    var json_data = {\\\"loading\\\":WebIO.getval({\\\"name\\\":\\\"loading\\\",\\\"scope\\\":\\\"887994708745106789\\\",\\\"id\\\":\\\"1481915588420642041\\\",\\\"type\\\":\\\"observable\\\"}),\\\"clicks\\\":WebIO.getval({\\\"name\\\":\\\"clicks\\\",\\\"scope\\\":\\\"887994708745106789\\\",\\\"id\\\":\\\"13656681281695087677\\\",\\\"type\\\":\\\"observable\\\"})};\\n    var self = this;\\n    function AppViewModel() {\\n        for (var key in json_data) {\\n            var el = json_data[key];\\n            this[key] = Array.isArray(el) ? ko.observableArray(el) : ko.observable(el);\\n        }\\n        \\n        \\n        [this[\\\"loading\\\"].subscribe((function (val){!(this.valueFromJulia[\\\"loading\\\"]) ? (WebIO.setval({\\\"name\\\":\\\"loading\\\",\\\"scope\\\":\\\"887994708745106789\\\",\\\"id\\\":\\\"1481915588420642041\\\",\\\"type\\\":\\\"observable\\\"},val)) : undefined; return this.valueFromJulia[\\\"loading\\\"]=false}),self),this[\\\"clicks\\\"].subscribe((function (val){!(this.valueFromJulia[\\\"clicks\\\"]) ? (WebIO.setval({\\\"name\\\":\\\"clicks\\\",\\\"scope\\\":\\\"887994708745106789\\\",\\\"id\\\":\\\"13656681281695087677\\\",\\\"type\\\":\\\"observable\\\"},val)) : undefined; return this.valueFromJulia[\\\"clicks\\\"]=false}),self)]\\n        \\n    }\\n    self.model = new AppViewModel();\\n    self.valueFromJulia = {};\\n    for (var key in json_data) {\\n        self.valueFromJulia[key] = false;\\n    }\\n    ko.applyBindings(self.model, self.dom);\\n}\\n);\\n    (WebIO.importBlock({\\\"data\\\":[{\\\"name\\\":\\\"knockout\\\",\\\"type\\\":\\\"js\\\",\\\"url\\\":\\\"\\/assetserver\\/727383f2a47bd31570b7da84eee7b022dd6d7c78-knockout.js\\\"},{\\\"name\\\":\\\"knockout_punches\\\",\\\"type\\\":\\\"js\\\",\\\"url\\\":\\\"\\/assetserver\\/382b41b3b1bd9f26f75861d360bad7f8beea211f-knockout_punches.js\\\"}],\\\"type\\\":\\\"async_block\\\"})).then((imports) => handler.apply(this, imports));\\n}\\n\"],\"observables\":{\"loading\":{\"sync\":false,\"id\":\"1481915588420642041\",\"value\":false},\"clicks\":{\"sync\":true,\"id\":\"13656681281695087677\",\"value\":0}}},\"children\":[{\"props\":{\"attributes\":{\"data-bind\":\"click: function (){this.clicks(this.clicks()+1)}, css: {'is-loading' : loading}\"},\"className\":\"is-medium button is-primary\",\"style\":{}},\"nodeType\":\"DOM\",\"type\":\"node\",\"instanceArgs\":{\"namespace\":\"html\",\"tag\":\"button\"},\"children\":[\"save\"]}]}]}]}]},{\"props\":{\"className\":\"interact-widget\"},\"nodeType\":\"DOM\",\"type\":\"node\",\"instanceArgs\":{\"namespace\":\"html\",\"tag\":\"div\"},\"children\":[{\"props\":{},\"nodeType\":\"Scope\",\"type\":\"node\",\"instanceArgs\":{\"imports\":{\"data\":[{\"name\":null,\"type\":\"js\",\"url\":\"\\/assetserver\\/dd22ed1bf1896c2748f3fe616ce0b838adc895c1-katex.min.js\"},{\"name\":null,\"type\":\"css\",\"url\":\"\\/assetserver\\/46517a424aa5e6cffc1360d7e0848b601c584ee3-katex.min.css\"}],\"type\":\"async_block\"},\"id\":\"2086703565183697438\",\"handlers\":{\"value\":[\"(function (txt){return this.k.render(txt,this.container)})\"]},\"systemjs_options\":null,\"mount_callbacks\":[\"function () {\\n    var handler = ((function (k){this.k=k; this.container=this.dom.querySelector(\\\"#container\\\"); return k.render(\\\"\\\\\\\\;\\\\\\\\;\\\",this.container)}));\\n    (WebIO.importBlock({\\\"data\\\":[{\\\"name\\\":null,\\\"type\\\":\\\"js\\\",\\\"url\\\":\\\"\\/assetserver\\/dd22ed1bf1896c2748f3fe616ce0b838adc895c1-katex.min.js\\\"},{\\\"name\\\":null,\\\"type\\\":\\\"css\\\",\\\"url\\\":\\\"\\/assetserver\\/46517a424aa5e6cffc1360d7e0848b601c584ee3-katex.min.css\\\"}],\\\"type\\\":\\\"async_block\\\"})).then((imports) => handler.apply(this, imports));\\n}\\n\"],\"observables\":{\"value\":{\"sync\":false,\"id\":\"18105459312910058881\",\"value\":\"\\\\;\\\\;\"}}},\"children\":[{\"props\":{\"id\":\"container\"},\"nodeType\":\"DOM\",\"type\":\"node\",\"instanceArgs\":{\"namespace\":\"html\",\"tag\":\"div\"},\"children\":[]}]}]},{\"props\":{},\"nodeType\":\"Scope\",\"type\":\"node\",\"instanceArgs\":{\"imports\":{\"data\":[],\"type\":\"async_block\"},\"id\":\"811483083125268427\",\"handlers\":{\"obs-output\":[\"function (value, scope) {\\n    scope.setInnerHTML(value);\\n}\\n\"]},\"systemjs_options\":null,\"mount_callbacks\":[],\"observables\":{\"obs-output\":{\"sync\":false,\"id\":\"16023532238713696204\",\"value\":\"<img src='data:image\\/png;base64,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'><\\/img>\"}}},\"children\":[{\"props\":{\"className\":\"webio-observable\",\"setInnerHtml\":\"<img src='data:image\\/png;base64,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'><\\/img>\"},\"nodeType\":\"DOM\",\"type\":\"node\",\"instanceArgs\":{\"namespace\":\"html\",\"tag\":\"div\"},\"children\":[]}]},{\"props\":{\"className\":\"interact-widget\"},\"nodeType\":\"DOM\",\"type\":\"node\",\"instanceArgs\":{\"namespace\":\"html\",\"tag\":\"div\"},\"children\":[{\"props\":{},\"nodeType\":\"Scope\",\"type\":\"node\",\"instanceArgs\":{\"imports\":{\"data\":[{\"name\":null,\"type\":\"js\",\"url\":\"\\/assetserver\\/dd22ed1bf1896c2748f3fe616ce0b838adc895c1-katex.min.js\"},{\"name\":null,\"type\":\"css\",\"url\":\"\\/assetserver\\/46517a424aa5e6cffc1360d7e0848b601c584ee3-katex.min.css\"}],\"type\":\"async_block\"},\"id\":\"2086703565183697438\",\"handlers\":{\"value\":[\"(function (txt){return this.k.render(txt,this.container)})\"]},\"systemjs_options\":null,\"mount_callbacks\":[\"function () {\\n    var handler = ((function (k){this.k=k; this.container=this.dom.querySelector(\\\"#container\\\"); return k.render(\\\"\\\\\\\\;\\\\\\\\;\\\",this.container)}));\\n    (WebIO.importBlock({\\\"data\\\":[{\\\"name\\\":null,\\\"type\\\":\\\"js\\\",\\\"url\\\":\\\"\\/assetserver\\/dd22ed1bf1896c2748f3fe616ce0b838adc895c1-katex.min.js\\\"},{\\\"name\\\":null,\\\"type\\\":\\\"css\\\",\\\"url\\\":\\\"\\/assetserver\\/46517a424aa5e6cffc1360d7e0848b601c584ee3-katex.min.css\\\"}],\\\"type\\\":\\\"async_block\\\"})).then((imports) => handler.apply(this, imports));\\n}\\n\"],\"observables\":{\"value\":{\"sync\":false,\"id\":\"18105459312910058881\",\"value\":\"\\\\;\\\\;\"}}},\"children\":[{\"props\":{\"id\":\"container\"},\"nodeType\":\"DOM\",\"type\":\"node\",\"instanceArgs\":{\"namespace\":\"html\",\"tag\":\"div\"},\"children\":[]}]}]},{\"props\":{\"style\":{\"display\":\"flex\",\"flex-direction\":\"column\"}},\"nodeType\":\"DOM\",\"type\":\"node\",\"instanceArgs\":{\"namespace\":\"html\",\"tag\":\"div\"},\"children\":[]}]}]},\n",
       "        window,\n",
       "    );\n",
       "    })()\n",
       "    </script>\n",
       "</div>\n"
      ],
      "text/plain": [
       "WebIO.Node{WebIO.DOM}(WebIO.DOM(:html, :div), Any[WebIO.Node{WebIO.DOM}(WebIO.DOM(:html, :div), Any[WebIO.Node{WebIO.DOM}(WebIO.DOM(:html, :div), Any[WebIO.Node{WebIO.DOM}(WebIO.DOM(:html, :div), Any[WebIO.Scope(WebIO.Node{WebIO.DOM}(WebIO.DOM(:html, :div), Any[WebIO.Node{WebIO.DOM}(WebIO.DOM(:html, :div), Any[WebIO.Node{WebIO.DOM}(WebIO.DOM(:html, :label), Any[\"time\"], Dict{Symbol, Any}(:className => \"interact \", :style => Dict{Any, Any}(:padding => \"5px 10px 0px 10px\")))], Dict{Symbol, Any}(:className => \"interact-flex-row-left\")), WebIO.Node{WebIO.DOM}(WebIO.DOM(:html, :div), Any[WebIO.Node{WebIO.DOM}(WebIO.DOM(:html, :input), Any[], Dict{Symbol, Any}(:max => 201, :min => 1, :attributes => Dict{Any, Any}(:type => \"range\", Symbol(\"data-bind\") => \"numericValue: index, valueUpdate: 'input', event: {change: function (){this.changes(this.changes()+1)}}\", \"orient\" => \"horizontal\"), :step => 1, :className => \"slider slider is-fullwidth\", :style => Dict{Any, Any}()))], Dict{Symbol, Any}(:className => \"interact-flex-row-center\")), WebIO.Node{WebIO.DOM}(WebIO.DOM(:html, :div), Any[WebIO.Node{WebIO.DOM}(WebIO.DOM(:html, :p), Any[], Dict{Symbol, Any}(:attributes => Dict(\"data-bind\" => \"text: formatted_val\")))], Dict{Symbol, Any}(:className => \"interact-flex-row-right\"))], Dict{Symbol, Any}(:className => \"interact-flex-row interact-widget\")), Dict{String, Tuple{Observables.AbstractObservable, Union{Nothing, Bool}}}(\"changes\" => (Observable(0), nothing), \"index\" => (Observable(101), nothing)), Set{String}(), nothing, WebIO.Asset[WebIO.Asset(\"js\", \"knockout\", \"/home/dushya/.julia/packages/Knockout/HReiN/src/../assets/knockout.js\"), WebIO.Asset(\"js\", \"knockout_punches\", \"/home/dushya/.julia/packages/Knockout/HReiN/src/../assets/knockout_punches.js\"), WebIO.Asset(\"js\", nothing, \"/home/dushya/.julia/packages/InteractBase/LJXv3/src/../assets/all.js\"), WebIO.Asset(\"css\", nothing, \"/home/dushya/.julia/packages/InteractBase/LJXv3/src/../assets/style.css\"), WebIO.Asset(\"css\", nothing, \"/home/dushya/.julia/packages/Interact/PENUy/src/../assets/bulma_confined.min.css\")], Dict{Any, Any}(\"changes\" => Any[WebIO.JSString(\"(function (val){return (val!=this.model[\\\"changes\\\"]()) ? (this.valueFromJulia[\\\"changes\\\"]=true, this.model[\\\"changes\\\"](val)) : undefined})\")], \"index\" => Any[WebIO.JSString(\"(function (val){return (val!=this.model[\\\"index\\\"]()) ? (this.valueFromJulia[\\\"index\\\"]=true, this.model[\\\"index\\\"](val)) : undefined})\")]), WebIO.ConnectionPool(Channel{Any}(32), Set{WebIO.AbstractConnection}(), Base.GenericCondition{ReentrantLock}(Base.IntrusiveLinkedList{Task}(Task (runnable) @0x00007fcb373ad5f0, Task (runnable) @0x00007fcb373ad5f0), ReentrantLock(nothing, 0x00000000, 0x00, Base.GenericCondition{Base.Threads.SpinLock}(Base.IntrusiveLinkedList{Task}(nothing, nothing), Base.Threads.SpinLock(0)), (8, 140512823070752, 140512953272464)))), WebIO.JSString[WebIO.JSString(\"function () {\\n    var handler = (function (ko, koPunches) {\\n    ko.punches.enableAll();\\n    ko.bindingHandlers.numericValue = {\\n        init: function(element, valueAccessor, allBindings, data, context) {\\n            var stringified = ko.observable(ko.unwrap(valueAccessor()));\\n            stringified.subscribe(function(value) {\\n                var val = parseFloat(value);\\n                if (!isNaN(val)) {\\n                    valueAccessor()(val);\\n                }\\n            });\\n            valueAccessor().subscribe(function(value) {\\n                var str = JSON.stringify(value);\\n                if ((str == \\\"0\\\") && ([\\\"-0\\\", \\\"-0.\\\"].indexOf(stringified()) >= 0))\\n                     return;\\n                 if ([\\\"null\\\", \\\"\\\"].indexOf(str) >= 0)\\n                     return;\\n                stringified(str);\\n            });\\n            ko.applyBindingsToNode(\\n                element,\\n                {\\n                    value: stringified,\\n                    valueUpdate: allBindings.get('valueUpdate'),\\n                },\\n                context,\\n            );\\n        }\\n    };\\n    var json_data = {\\\"formatted_vals\\\":[\\\"1\\\",\\\"2\\\",\\\"3\\\",\\\"4\\\",\\\"5\\\",\\\"6\\\",\\\"7\\\",\\\"8\\\",\\\"9\\\",\\\"10\\\",\\\"11\\\",\\\"12\\\",\\\"13\\\",\\\"14\\\",\\\"15\\\",\\\"16\\\",\\\"17\\\",\\\"18\\\",\\\"19\\\",\\\"20\\\",\\\"21\\\",\\\"22\\\",\\\"23\\\",\\\"24\\\",\\\"25\\\",\\\"26\\\",\\\"27\\\",\\\"28\\\",\\\"29\\\",\\\"30\\\",\\\"31\\\",\\\"32\\\",\\\"33\\\",\\\"34\\\",\\\"35\\\",\\\"36\\\",\\\"37\\\",\\\"38\\\",\\\"39\\\",\\\"40\\\",\\\"41\\\",\\\"42\\\",\\\"43\\\",\\\"44\\\",\\\"45\\\",\\\"46\\\",\\\"47\\\",\\\"48\\\",\\\"49\\\",\\\"50\\\",\\\"51\\\",\\\"52\\\",\\\"53\\\",\\\"54\\\",\\\"55\\\",\\\"56\\\",\\\"57\\\",\\\"58\\\",\\\"59\\\",\\\"60\\\",\\\"61\\\",\\\"62\\\",\\\"63\\\",\\\"64\\\",\\\"65\\\",\\\"66\\\",\\\"67\\\",\\\"68\\\",\\\"69\\\",\\\"70\\\",\\\"71\\\",\\\"72\\\",\\\"73\\\",\\\"74\\\",\\\"75\\\",\\\"76\\\",\\\"77\\\",\\\"78\\\",\\\"79\\\",\\\"80\\\",\\\"81\\\",\\\"82\\\",\\\"83\\\",\\\"84\\\",\\\"85\\\",\\\"86\\\",\\\"87\\\",\\\"88\\\",\\\"89\\\",\\\"90\\\",\\\"91\\\",\\\"92\\\",\\\"93\\\",\\\"94\\\",\\\"95\\\",\\\"96\\\",\\\"97\\\",\\\"98\\\",\\\"99\\\",\\\"100\\\",\\\"101\\\",\\\"102\\\",\\\"103\\\",\\\"104\\\",\\\"105\\\",\\\"106\\\",\\\"107\\\",\\\"108\\\",\\\"109\\\",\\\"110\\\",\\\"111\\\",\\\"112\\\",\\\"113\\\",\\\"114\\\",\\\"115\\\",\\\"116\\\",\\\"117\\\",\\\"118\\\",\\\"119\\\",\\\"120\\\",\\\"121\\\",\\\"122\\\",\\\"123\\\",\\\"124\\\",\\\"125\\\",\\\"126\\\",\\\"127\\\",\\\"128\\\",\\\"129\\\",\\\"130\\\",\\\"131\\\",\\\"132\\\",\\\"133\\\",\\\"134\\\",\\\"135\\\",\\\"136\\\",\\\"137\\\",\\\"138\\\",\\\"139\\\",\\\"140\\\",\\\"141\\\",\\\"142\\\",\\\"143\\\",\\\"144\\\",\\\"145\\\",\\\"146\\\",\\\"147\\\",\\\"148\\\",\\\"149\\\",\\\"150\\\",\\\"151\\\",\\\"152\\\",\\\"153\\\",\\\"154\\\",\\\"155\\\",\\\"156\\\",\\\"157\\\",\\\"158\\\",\\\"159\\\",\\\"160\\\",\\\"161\\\",\\\"162\\\",\\\"163\\\",\\\"164\\\",\\\"165\\\",\\\"166\\\",\\\"167\\\",\\\"168\\\",\\\"169\\\",\\\"170\\\",\\\"171\\\",\\\"172\\\",\\\"173\\\",\\\"174\\\",\\\"175\\\",\\\"176\\\",\\\"177\\\",\\\"178\\\",\\\"179\\\",\\\"180\\\",\\\"181\\\",\\\"182\\\",\\\"183\\\",\\\"184\\\",\\\"185\\\",\\\"186\\\",\\\"187\\\",\\\"188\\\",\\\"189\\\",\\\"190\\\",\\\"191\\\",\\\"192\\\",\\\"193\\\",\\\"194\\\",\\\"195\\\",\\\"196\\\",\\\"197\\\",\\\"198\\\",\\\"199\\\",\\\"200\\\",\\\"201\\\"],\\\"changes\\\":WebIO.getval({\\\"name\\\":\\\"changes\\\",\\\"scope\\\":\\\"12008007231901756509\\\",\\\"id\\\":\\\"6837662095372793174\\\",\\\"type\\\":\\\"observable\\\"}),\\\"index\\\":WebIO.getval({\\\"name\\\":\\\"index\\\",\\\"scope\\\":\\\"12008007231901756509\\\",\\\"id\\\":\\\"16786068803048499830\\\",\\\"type\\\":\\\"observable\\\"})};\\n    var self = this;\\n    function AppViewModel() {\\n        for (var key in json_data) {\\n            var el = json_data[key];\\n            this[key] = Array.isArray(el) ? ko.observableArray(el) : ko.observable(el);\\n        }\\n        \\n        [this[\\\"formatted_val\\\"]=ko.computed(    function(){\\n        return this.formatted_vals()[parseInt(this.index())-(1)];\\n    }\\n,this)]\\n        [this[\\\"changes\\\"].subscribe((function (val){!(this.valueFromJulia[\\\"changes\\\"]) ? (WebIO.setval({\\\"name\\\":\\\"changes\\\",\\\"scope\\\":\\\"12008007231901756509\\\",\\\"id\\\":\\\"6837662095372793174\\\",\\\"type\\\":\\\"observable\\\"},val)) : undefined; return this.valueFromJulia[\\\"changes\\\"]=false}),self),this[\\\"index\\\"].subscribe((function (val){!(this.valueFromJulia[\\\"index\\\"]) ? (WebIO.setval({\\\"name\\\":\\\"index\\\",\\\"scope\\\":\\\"12008007231901756509\\\",\\\"id\\\":\\\"16786068803048499830\\\",\\\"type\\\":\\\"observable\\\"},val)) : undefined; return this.valueFromJulia[\\\"index\\\"]=false}),self)]\\n        \\n    }\\n    self.model = new AppViewModel();\\n    self.valueFromJulia = {};\\n    for (var key in json_data) {\\n        self.valueFromJulia[key] = false;\\n    }\\n    ko.applyBindings(self.model, self.dom);\\n}\\n);\\n    (WebIO.importBlock({\\\"data\\\":[{\\\"name\\\":\\\"knockout\\\",\\\"type\\\":\\\"js\\\",\\\"url\\\":\\\"/assetserver/727383f2a47bd31570b7da84eee7b022dd6d7c78-knockout.js\\\"},{\\\"name\\\":\\\"knockout_punches\\\",\\\"type\\\":\\\"js\\\",\\\"url\\\":\\\"/assetserver/382b41b3b1bd9f26f75861d360bad7f8beea211f-knockout_punches.js\\\"}],\\\"type\\\":\\\"async_block\\\"})).then((imports) => handler.apply(this, imports));\\n}\\n\")])], Dict{Symbol, Any}(:className => \"field interact-widget\")), WebIO.Node{WebIO.DOM}(WebIO.DOM(:html, :div), Any[WebIO.Scope(WebIO.Node{WebIO.DOM}(WebIO.DOM(:html, :div), Any[WebIO.Node{WebIO.DOM}(WebIO.DOM(:html, :div), Any[WebIO.Node{WebIO.DOM}(WebIO.DOM(:html, :label), Any[\"scale\"], Dict{Symbol, Any}(:className => \"interact \", :style => Dict{Any, Any}(:padding => \"5px 10px 0px 10px\")))], Dict{Symbol, Any}(:className => \"interact-flex-row-left\")), WebIO.Node{WebIO.DOM}(WebIO.DOM(:html, :div), Any[WebIO.Node{WebIO.DOM}(WebIO.DOM(:html, :input), Any[], Dict{Symbol, Any}(:max => 20, :min => 1, :attributes => Dict{Any, Any}(:type => \"range\", Symbol(\"data-bind\") => \"numericValue: index, valueUpdate: 'input', event: {change: function (){this.changes(this.changes()+1)}}\", \"orient\" => \"horizontal\"), :step => 1, :className => \"slider slider is-fullwidth\", :style => Dict{Any, Any}()))], Dict{Symbol, Any}(:className => \"interact-flex-row-center\")), WebIO.Node{WebIO.DOM}(WebIO.DOM(:html, :div), Any[WebIO.Node{WebIO.DOM}(WebIO.DOM(:html, :p), Any[], Dict{Symbol, Any}(:attributes => Dict(\"data-bind\" => \"text: formatted_val\")))], Dict{Symbol, Any}(:className => \"interact-flex-row-right\"))], Dict{Symbol, Any}(:className => \"interact-flex-row interact-widget\")), Dict{String, Tuple{Observables.AbstractObservable, Union{Nothing, Bool}}}(\"changes\" => (Observable(0), nothing), \"index\" => (Observable{Any}(10), nothing)), Set{String}(), nothing, WebIO.Asset[WebIO.Asset(\"js\", \"knockout\", \"/home/dushya/.julia/packages/Knockout/HReiN/src/../assets/knockout.js\"), WebIO.Asset(\"js\", \"knockout_punches\", \"/home/dushya/.julia/packages/Knockout/HReiN/src/../assets/knockout_punches.js\"), WebIO.Asset(\"js\", nothing, \"/home/dushya/.julia/packages/InteractBase/LJXv3/src/../assets/all.js\"), WebIO.Asset(\"css\", nothing, \"/home/dushya/.julia/packages/InteractBase/LJXv3/src/../assets/style.css\"), WebIO.Asset(\"css\", nothing, \"/home/dushya/.julia/packages/Interact/PENUy/src/../assets/bulma_confined.min.css\")], Dict{Any, Any}(\"changes\" => Any[WebIO.JSString(\"(function (val){return (val!=this.model[\\\"changes\\\"]()) ? (this.valueFromJulia[\\\"changes\\\"]=true, this.model[\\\"changes\\\"](val)) : undefined})\")], \"index\" => Any[WebIO.JSString(\"(function (val){return (val!=this.model[\\\"index\\\"]()) ? (this.valueFromJulia[\\\"index\\\"]=true, this.model[\\\"index\\\"](val)) : undefined})\")]), WebIO.ConnectionPool(Channel{Any}(32), Set{WebIO.AbstractConnection}(), Base.GenericCondition{ReentrantLock}(Base.IntrusiveLinkedList{Task}(Task (runnable) @0x00007fcb373afd00, Task (runnable) @0x00007fcb373afd00), ReentrantLock(nothing, 0x00000000, 0x00, Base.GenericCondition{Base.Threads.SpinLock}(Base.IntrusiveLinkedList{Task}(nothing, nothing), Base.Threads.SpinLock(0)), (1, 140510774196704, 140512946110416)))), WebIO.JSString[WebIO.JSString(\"function () {\\n    var handler = (function (ko, koPunches) {\\n    ko.punches.enableAll();\\n    ko.bindingHandlers.numericValue = {\\n        init: function(element, valueAccessor, allBindings, data, context) {\\n            var stringified = ko.observable(ko.unwrap(valueAccessor()));\\n            stringified.subscribe(function(value) {\\n                var val = parseFloat(value);\\n                if (!isNaN(val)) {\\n                    valueAccessor()(val);\\n                }\\n            });\\n            valueAccessor().subscribe(function(value) {\\n                var str = JSON.stringify(value);\\n                if ((str == \\\"0\\\") && ([\\\"-0\\\", \\\"-0.\\\"].indexOf(stringified()) >= 0))\\n                     return;\\n                 if ([\\\"null\\\", \\\"\\\"].indexOf(str) >= 0)\\n                     return;\\n                stringified(str);\\n            });\\n            ko.applyBindingsToNode(\\n                element,\\n                {\\n                    value: stringified,\\n                    valueUpdate: allBindings.get('valueUpdate'),\\n                },\\n                context,\\n            );\\n        }\\n    };\\n    var json_data = {\\\"formatted_vals\\\":[\\\"0.1\\\",\\\"0.2\\\",\\\"0.3\\\",\\\"0.4\\\",\\\"0.5\\\",\\\"0.6\\\",\\\"0.7\\\",\\\"0.8\\\",\\\"0.9\\\",\\\"1.0\\\",\\\"1.1\\\",\\\"1.2\\\",\\\"1.3\\\",\\\"1.4\\\",\\\"1.5\\\",\\\"1.6\\\",\\\"1.7\\\",\\\"1.8\\\",\\\"1.9\\\",\\\"2.0\\\"],\\\"changes\\\":WebIO.getval({\\\"name\\\":\\\"changes\\\",\\\"scope\\\":\\\"9767575980857167281\\\",\\\"id\\\":\\\"16001604779247079443\\\",\\\"type\\\":\\\"observable\\\"}),\\\"index\\\":WebIO.getval({\\\"name\\\":\\\"index\\\",\\\"scope\\\":\\\"9767575980857167281\\\",\\\"id\\\":\\\"11575940638526460723\\\",\\\"type\\\":\\\"observable\\\"})};\\n    var self = this;\\n    function AppViewModel() {\\n        for (var key in json_data) {\\n            var el = json_data[key];\\n            this[key] = Array.isArray(el) ? ko.observableArray(el) : ko.observable(el);\\n        }\\n        \\n        [this[\\\"formatted_val\\\"]=ko.computed(    function(){\\n        return this.formatted_vals()[parseInt(this.index())-(1)];\\n    }\\n,this)]\\n        [this[\\\"changes\\\"].subscribe((function (val){!(this.valueFromJulia[\\\"changes\\\"]) ? (WebIO.setval({\\\"name\\\":\\\"changes\\\",\\\"scope\\\":\\\"9767575980857167281\\\",\\\"id\\\":\\\"16001604779247079443\\\",\\\"type\\\":\\\"observable\\\"},val)) : undefined; return this.valueFromJulia[\\\"changes\\\"]=false}),self),this[\\\"index\\\"].subscribe((function (val){!(this.valueFromJulia[\\\"index\\\"]) ? (WebIO.setval({\\\"name\\\":\\\"index\\\",\\\"scope\\\":\\\"9767575980857167281\\\",\\\"id\\\":\\\"11575940638526460723\\\",\\\"type\\\":\\\"observable\\\"},val)) : undefined; return this.valueFromJulia[\\\"index\\\"]=false}),self)]\\n        \\n    }\\n    self.model = new AppViewModel();\\n    self.valueFromJulia = {};\\n    for (var key in json_data) {\\n        self.valueFromJulia[key] = false;\\n    }\\n    ko.applyBindings(self.model, self.dom);\\n}\\n);\\n    (WebIO.importBlock({\\\"data\\\":[{\\\"name\\\":\\\"knockout\\\",\\\"type\\\":\\\"js\\\",\\\"url\\\":\\\"/assetserver/727383f2a47bd31570b7da84eee7b022dd6d7c78-knockout.js\\\"},{\\\"name\\\":\\\"knockout_punches\\\",\\\"type\\\":\\\"js\\\",\\\"url\\\":\\\"/assetserver/382b41b3b1bd9f26f75861d360bad7f8beea211f-knockout_punches.js\\\"}],\\\"type\\\":\\\"async_block\\\"})).then((imports) => handler.apply(this, imports));\\n}\\n\")])], Dict{Symbol, Any}(:className => \"field interact-widget\")), WebIO.Node{WebIO.DOM}(WebIO.DOM(:html, :div), Any[WebIO.Node{WebIO.DOM}(WebIO.DOM(:html, :div), Any[WebIO.Scope(WebIO.Node{WebIO.DOM}(WebIO.DOM(:html, :div), Any[], Dict{Symbol, Any}(:id => \"container\")), Dict{String, Tuple{Observables.AbstractObservable, Union{Nothing, Bool}}}(\"value\" => (Observable(\"\\\\;\\\\;\"), nothing)), Set{String}(), nothing, WebIO.Asset[WebIO.Asset(\"js\", nothing, \"/home/dushya/.julia/packages/InteractBase/LJXv3/src/../assets/katex.min.js\"), WebIO.Asset(\"css\", nothing, \"/home/dushya/.julia/packages/InteractBase/LJXv3/src/../assets/katex.min.css\")], Dict{Any, Any}(\"value\" => Any[WebIO.JSString(\"(function (txt){return this.k.render(txt,this.container)})\")]), WebIO.ConnectionPool(Channel{Any}(32), Set{WebIO.AbstractConnection}(), Base.GenericCondition{ReentrantLock}(Base.IntrusiveLinkedList{Task}(Task (runnable) @0x00007fcb373c4650, Task (runnable) @0x00007fcb373c4650), ReentrantLock(nothing, 0x00000000, 0x00, Base.GenericCondition{Base.Threads.SpinLock}(Base.IntrusiveLinkedList{Task}(nothing, nothing), Base.Threads.SpinLock(0)), (8, 140512827857360, 140512827857008)))), WebIO.JSString[WebIO.JSString(\"function () {\\n    var handler = ((function (k){this.k=k; this.container=this.dom.querySelector(\\\"#container\\\"); return k.render(\\\"\\\\\\\\;\\\\\\\\;\\\",this.container)}));\\n    (WebIO.importBlock({\\\"data\\\":[{\\\"name\\\":null,\\\"type\\\":\\\"js\\\",\\\"url\\\":\\\"/assetserver/dd22ed1bf1896c2748f3fe616ce0b838adc895c1-katex.min.js\\\"},{\\\"name\\\":null,\\\"type\\\":\\\"css\\\",\\\"url\\\":\\\"/assetserver/46517a424aa5e6cffc1360d7e0848b601c584ee3-katex.min.css\\\"}],\\\"type\\\":\\\"async_block\\\"})).then((imports) => handler.apply(this, imports));\\n}\\n\")])], Dict{Symbol, Any}(:className => \"interact-widget\")), WebIO.Node{WebIO.DOM}(WebIO.DOM(:html, :div), Any[WebIO.Scope(WebIO.Node{WebIO.DOM}(WebIO.DOM(:html, :button), Any[\"run\"], Dict{Symbol, Any}(:attributes => Dict{Any, Any}(\"data-bind\" => \"click: function (){this.clicks(this.clicks()+1)}, css: {'is-loading' : loading}\"), :className => \"is-medium button is-primary\", :style => Dict{String, Any}())), Dict{String, Tuple{Observables.AbstractObservable, Union{Nothing, Bool}}}(\"loading\" => (Observable(false), nothing), \"clicks\" => (Observable(0), nothing)), Set{String}(), nothing, WebIO.Asset[WebIO.Asset(\"js\", \"knockout\", \"/home/dushya/.julia/packages/Knockout/HReiN/src/../assets/knockout.js\"), WebIO.Asset(\"js\", \"knockout_punches\", \"/home/dushya/.julia/packages/Knockout/HReiN/src/../assets/knockout_punches.js\"), WebIO.Asset(\"js\", nothing, \"/home/dushya/.julia/packages/InteractBase/LJXv3/src/../assets/all.js\"), WebIO.Asset(\"css\", nothing, \"/home/dushya/.julia/packages/InteractBase/LJXv3/src/../assets/style.css\"), WebIO.Asset(\"css\", nothing, \"/home/dushya/.julia/packages/Interact/PENUy/src/../assets/bulma_confined.min.css\")], Dict{Any, Any}(\"loading\" => Any[WebIO.JSString(\"(function (val){return (val!=this.model[\\\"loading\\\"]()) ? (this.valueFromJulia[\\\"loading\\\"]=true, this.model[\\\"loading\\\"](val)) : undefined})\")], \"clicks\" => Any[WebIO.JSString(\"(function (val){return (val!=this.model[\\\"clicks\\\"]()) ? (this.valueFromJulia[\\\"clicks\\\"]=true, this.model[\\\"clicks\\\"](val)) : undefined})\")]), WebIO.ConnectionPool(Channel{Any}(32), Set{WebIO.AbstractConnection}(), Base.GenericCondition{ReentrantLock}(Base.IntrusiveLinkedList{Task}(Task (runnable) @0x00007fcb373b8e20, Task (runnable) @0x00007fcb373b8e20), ReentrantLock(nothing, 0x00000000, 0x00, Base.GenericCondition{Base.Threads.SpinLock}(Base.IntrusiveLinkedList{Task}(nothing, nothing), Base.Threads.SpinLock(0)), (8, 140510729877344, 140512946336464)))), WebIO.JSString[WebIO.JSString(\"function () {\\n    var handler = (function (ko, koPunches) {\\n    ko.punches.enableAll();\\n    ko.bindingHandlers.numericValue = {\\n        init: function(element, valueAccessor, allBindings, data, context) {\\n            var stringified = ko.observable(ko.unwrap(valueAccessor()));\\n            stringified.subscribe(function(value) {\\n                var val = parseFloat(value);\\n                if (!isNaN(val)) {\\n                    valueAccessor()(val);\\n                }\\n            });\\n            valueAccessor().subscribe(function(value) {\\n                var str = JSON.stringify(value);\\n                if ((str == \\\"0\\\") && ([\\\"-0\\\", \\\"-0.\\\"].indexOf(stringified()) >= 0))\\n                     return;\\n                 if ([\\\"null\\\", \\\"\\\"].indexOf(str) >= 0)\\n                     return;\\n                stringified(str);\\n            });\\n            ko.applyBindingsToNode(\\n                element,\\n                {\\n                    value: stringified,\\n                    valueUpdate: allBindings.get('valueUpdate'),\\n                },\\n                context,\\n            );\\n        }\\n    };\\n    var json_data = {\\\"loading\\\":WebIO.getval({\\\"name\\\":\\\"loading\\\",\\\"scope\\\":\\\"6717458495521379259\\\",\\\"id\\\":\\\"5323040231127277094\\\",\\\"type\\\":\\\"observable\\\"}),\\\"clicks\\\":WebIO.getval({\\\"name\\\":\\\"clicks\\\",\\\"scope\\\":\\\"6717458495521379259\\\",\\\"id\\\":\\\"1539567646910878034\\\",\\\"type\\\":\\\"observable\\\"})};\\n    var self = this;\\n    function AppViewModel() {\\n        for (var key in json_data) {\\n            var el = json_data[key];\\n            this[key] = Array.isArray(el) ? ko.observableArray(el) : ko.observable(el);\\n        }\\n        \\n        \\n        [this[\\\"loading\\\"].subscribe((function (val){!(this.valueFromJulia[\\\"loading\\\"]) ? (WebIO.setval({\\\"name\\\":\\\"loading\\\",\\\"scope\\\":\\\"6717458495521379259\\\",\\\"id\\\":\\\"5323040231127277094\\\",\\\"type\\\":\\\"observable\\\"},val)) : undefined; return this.valueFromJulia[\\\"loading\\\"]=false}),self),this[\\\"clicks\\\"].subscribe((function (val){!(this.valueFromJulia[\\\"clicks\\\"]) ? (WebIO.setval({\\\"name\\\":\\\"clicks\\\",\\\"scope\\\":\\\"6717458495521379259\\\",\\\"id\\\":\\\"1539567646910878034\\\",\\\"type\\\":\\\"observable\\\"},val)) : undefined; return this.valueFromJulia[\\\"clicks\\\"]=false}),self)]\\n        \\n    }\\n    self.model = new AppViewModel();\\n    self.valueFromJulia = {};\\n    for (var key in json_data) {\\n        self.valueFromJulia[key] = false;\\n    }\\n    ko.applyBindings(self.model, self.dom);\\n}\\n);\\n    (WebIO.importBlock({\\\"data\\\":[{\\\"name\\\":\\\"knockout\\\",\\\"type\\\":\\\"js\\\",\\\"url\\\":\\\"/assetserver/727383f2a47bd31570b7da84eee7b022dd6d7c78-knockout.js\\\"},{\\\"name\\\":\\\"knockout_punches\\\",\\\"type\\\":\\\"js\\\",\\\"url\\\":\\\"/assetserver/382b41b3b1bd9f26f75861d360bad7f8beea211f-knockout_punches.js\\\"}],\\\"type\\\":\\\"async_block\\\"})).then((imports) => handler.apply(this, imports));\\n}\\n\")])], Dict{Symbol, Any}(:className => \"field interact-widget\")), WebIO.Node{WebIO.DOM}(WebIO.DOM(:html, :div), Any[WebIO.Scope(WebIO.Node{WebIO.DOM}(WebIO.DOM(:html, :div), Any[], Dict{Symbol, Any}(:id => \"container\")), Dict{String, Tuple{Observables.AbstractObservable, Union{Nothing, Bool}}}(\"value\" => (Observable(\"\\\\;\\\\;\"), nothing)), Set{String}(), nothing, WebIO.Asset[WebIO.Asset(\"js\", nothing, \"/home/dushya/.julia/packages/InteractBase/LJXv3/src/../assets/katex.min.js\"), WebIO.Asset(\"css\", nothing, \"/home/dushya/.julia/packages/InteractBase/LJXv3/src/../assets/katex.min.css\")], Dict{Any, Any}(\"value\" => Any[WebIO.JSString(\"(function (txt){return this.k.render(txt,this.container)})\")]), WebIO.ConnectionPool(Channel{Any}(32), Set{WebIO.AbstractConnection}(), Base.GenericCondition{ReentrantLock}(Base.IntrusiveLinkedList{Task}(Task (runnable) @0x00007fcb373c4650, Task (runnable) @0x00007fcb373c4650), ReentrantLock(nothing, 0x00000000, 0x00, Base.GenericCondition{Base.Threads.SpinLock}(Base.IntrusiveLinkedList{Task}(nothing, nothing), Base.Threads.SpinLock(0)), (8, 140512827857360, 140512827857008)))), WebIO.JSString[WebIO.JSString(\"function () {\\n    var handler = ((function (k){this.k=k; this.container=this.dom.querySelector(\\\"#container\\\"); return k.render(\\\"\\\\\\\\;\\\\\\\\;\\\",this.container)}));\\n    (WebIO.importBlock({\\\"data\\\":[{\\\"name\\\":null,\\\"type\\\":\\\"js\\\",\\\"url\\\":\\\"/assetserver/dd22ed1bf1896c2748f3fe616ce0b838adc895c1-katex.min.js\\\"},{\\\"name\\\":null,\\\"type\\\":\\\"css\\\",\\\"url\\\":\\\"/assetserver/46517a424aa5e6cffc1360d7e0848b601c584ee3-katex.min.css\\\"}],\\\"type\\\":\\\"async_block\\\"})).then((imports) => handler.apply(this, imports));\\n}\\n\")])], Dict{Symbol, Any}(:className => \"interact-widget\")), WebIO.Node{WebIO.DOM}(WebIO.DOM(:html, :div), Any[WebIO.Scope(WebIO.Node{WebIO.DOM}(WebIO.DOM(:html, :button), Any[\"stop\"], Dict{Symbol, Any}(:attributes => Dict{Any, Any}(\"data-bind\" => \"click: function (){this.clicks(this.clicks()+1)}, css: {'is-loading' : loading}\"), :className => \"is-medium button is-primary\", :style => Dict{String, Any}())), Dict{String, Tuple{Observables.AbstractObservable, Union{Nothing, Bool}}}(\"loading\" => (Observable(false), nothing), \"clicks\" => (Observable(0), nothing)), Set{String}(), nothing, WebIO.Asset[WebIO.Asset(\"js\", \"knockout\", \"/home/dushya/.julia/packages/Knockout/HReiN/src/../assets/knockout.js\"), WebIO.Asset(\"js\", \"knockout_punches\", \"/home/dushya/.julia/packages/Knockout/HReiN/src/../assets/knockout_punches.js\"), WebIO.Asset(\"js\", nothing, \"/home/dushya/.julia/packages/InteractBase/LJXv3/src/../assets/all.js\"), WebIO.Asset(\"css\", nothing, \"/home/dushya/.julia/packages/InteractBase/LJXv3/src/../assets/style.css\"), WebIO.Asset(\"css\", nothing, \"/home/dushya/.julia/packages/Interact/PENUy/src/../assets/bulma_confined.min.css\")], Dict{Any, Any}(\"loading\" => Any[WebIO.JSString(\"(function (val){return (val!=this.model[\\\"loading\\\"]()) ? (this.valueFromJulia[\\\"loading\\\"]=true, this.model[\\\"loading\\\"](val)) : undefined})\")], \"clicks\" => Any[WebIO.JSString(\"(function (val){return (val!=this.model[\\\"clicks\\\"]()) ? (this.valueFromJulia[\\\"clicks\\\"]=true, this.model[\\\"clicks\\\"](val)) : undefined})\")]), WebIO.ConnectionPool(Channel{Any}(32), Set{WebIO.AbstractConnection}(), Base.GenericCondition{ReentrantLock}(Base.IntrusiveLinkedList{Task}(Task (runnable) @0x00007fcb373bb530, Task (runnable) @0x00007fcb373bb530), ReentrantLock(nothing, 0x00000000, 0x00, Base.GenericCondition{Base.Threads.SpinLock}(Base.IntrusiveLinkedList{Task}(nothing, nothing), Base.Threads.SpinLock(0)), (8, 140511851579392, 140512827872144)))), WebIO.JSString[WebIO.JSString(\"function () {\\n    var handler = (function (ko, koPunches) {\\n    ko.punches.enableAll();\\n    ko.bindingHandlers.numericValue = {\\n        init: function(element, valueAccessor, allBindings, data, context) {\\n            var stringified = ko.observable(ko.unwrap(valueAccessor()));\\n            stringified.subscribe(function(value) {\\n                var val = parseFloat(value);\\n                if (!isNaN(val)) {\\n                    valueAccessor()(val);\\n                }\\n            });\\n            valueAccessor().subscribe(function(value) {\\n                var str = JSON.stringify(value);\\n                if ((str == \\\"0\\\") && ([\\\"-0\\\", \\\"-0.\\\"].indexOf(stringified()) >= 0))\\n                     return;\\n                 if ([\\\"null\\\", \\\"\\\"].indexOf(str) >= 0)\\n                     return;\\n                stringified(str);\\n            });\\n            ko.applyBindingsToNode(\\n                element,\\n                {\\n                    value: stringified,\\n                    valueUpdate: allBindings.get('valueUpdate'),\\n                },\\n                context,\\n            );\\n        }\\n    };\\n    var json_data = {\\\"loading\\\":WebIO.getval({\\\"name\\\":\\\"loading\\\",\\\"scope\\\":\\\"10279188027219030521\\\",\\\"id\\\":\\\"2232367738274803611\\\",\\\"type\\\":\\\"observable\\\"}),\\\"clicks\\\":WebIO.getval({\\\"name\\\":\\\"clicks\\\",\\\"scope\\\":\\\"10279188027219030521\\\",\\\"id\\\":\\\"3943688257825763836\\\",\\\"type\\\":\\\"observable\\\"})};\\n    var self = this;\\n    function AppViewModel() {\\n        for (var key in json_data) {\\n            var el = json_data[key];\\n            this[key] = Array.isArray(el) ? ko.observableArray(el) : ko.observable(el);\\n        }\\n        \\n        \\n        [this[\\\"loading\\\"].subscribe((function (val){!(this.valueFromJulia[\\\"loading\\\"]) ? (WebIO.setval({\\\"name\\\":\\\"loading\\\",\\\"scope\\\":\\\"10279188027219030521\\\",\\\"id\\\":\\\"2232367738274803611\\\",\\\"type\\\":\\\"observable\\\"},val)) : undefined; return this.valueFromJulia[\\\"loading\\\"]=false}),self),this[\\\"clicks\\\"].subscribe((function (val){!(this.valueFromJulia[\\\"clicks\\\"]) ? (WebIO.setval({\\\"name\\\":\\\"clicks\\\",\\\"scope\\\":\\\"10279188027219030521\\\",\\\"id\\\":\\\"3943688257825763836\\\",\\\"type\\\":\\\"observable\\\"},val)) : undefined; return this.valueFromJulia[\\\"clicks\\\"]=false}),self)]\\n        \\n    }\\n    self.model = new AppViewModel();\\n    self.valueFromJulia = {};\\n    for (var key in json_data) {\\n        self.valueFromJulia[key] = false;\\n    }\\n    ko.applyBindings(self.model, self.dom);\\n}\\n);\\n    (WebIO.importBlock({\\\"data\\\":[{\\\"name\\\":\\\"knockout\\\",\\\"type\\\":\\\"js\\\",\\\"url\\\":\\\"/assetserver/727383f2a47bd31570b7da84eee7b022dd6d7c78-knockout.js\\\"},{\\\"name\\\":\\\"knockout_punches\\\",\\\"type\\\":\\\"js\\\",\\\"url\\\":\\\"/assetserver/382b41b3b1bd9f26f75861d360bad7f8beea211f-knockout_punches.js\\\"}],\\\"type\\\":\\\"async_block\\\"})).then((imports) => handler.apply(this, imports));\\n}\\n\")])], Dict{Symbol, Any}(:className => \"field interact-widget\")), WebIO.Node{WebIO.DOM}(WebIO.DOM(:html, :div), Any[WebIO.Scope(WebIO.Node{WebIO.DOM}(WebIO.DOM(:html, :div), Any[], Dict{Symbol, Any}(:id => \"container\")), Dict{String, Tuple{Observables.AbstractObservable, Union{Nothing, Bool}}}(\"value\" => (Observable(\"\\\\;\\\\;\"), nothing)), Set{String}(), nothing, WebIO.Asset[WebIO.Asset(\"js\", nothing, \"/home/dushya/.julia/packages/InteractBase/LJXv3/src/../assets/katex.min.js\"), WebIO.Asset(\"css\", nothing, \"/home/dushya/.julia/packages/InteractBase/LJXv3/src/../assets/katex.min.css\")], Dict{Any, Any}(\"value\" => Any[WebIO.JSString(\"(function (txt){return this.k.render(txt,this.container)})\")]), WebIO.ConnectionPool(Channel{Any}(32), Set{WebIO.AbstractConnection}(), Base.GenericCondition{ReentrantLock}(Base.IntrusiveLinkedList{Task}(Task (runnable) @0x00007fcb373c4650, Task (runnable) @0x00007fcb373c4650), ReentrantLock(nothing, 0x00000000, 0x00, Base.GenericCondition{Base.Threads.SpinLock}(Base.IntrusiveLinkedList{Task}(nothing, nothing), Base.Threads.SpinLock(0)), (8, 140512827857360, 140512827857008)))), WebIO.JSString[WebIO.JSString(\"function () {\\n    var handler = ((function (k){this.k=k; this.container=this.dom.querySelector(\\\"#container\\\"); return k.render(\\\"\\\\\\\\;\\\\\\\\;\\\",this.container)}));\\n    (WebIO.importBlock({\\\"data\\\":[{\\\"name\\\":null,\\\"type\\\":\\\"js\\\",\\\"url\\\":\\\"/assetserver/dd22ed1bf1896c2748f3fe616ce0b838adc895c1-katex.min.js\\\"},{\\\"name\\\":null,\\\"type\\\":\\\"css\\\",\\\"url\\\":\\\"/assetserver/46517a424aa5e6cffc1360d7e0848b601c584ee3-katex.min.css\\\"}],\\\"type\\\":\\\"async_block\\\"})).then((imports) => handler.apply(this, imports));\\n}\\n\")])], Dict{Symbol, Any}(:className => \"interact-widget\")), WebIO.Node{WebIO.DOM}(WebIO.DOM(:html, :div), Any[WebIO.Scope(WebIO.Node{WebIO.DOM}(WebIO.DOM(:html, :button), Any[\"save\"], Dict{Symbol, Any}(:attributes => Dict{Any, Any}(\"data-bind\" => \"click: function (){this.clicks(this.clicks()+1)}, css: {'is-loading' : loading}\"), :className => \"is-medium button is-primary\", :style => Dict{String, Any}())), Dict{String, Tuple{Observables.AbstractObservable, Union{Nothing, Bool}}}(\"loading\" => (Observable(false), nothing), \"clicks\" => (Observable(0), nothing)), Set{String}(), nothing, WebIO.Asset[WebIO.Asset(\"js\", \"knockout\", \"/home/dushya/.julia/packages/Knockout/HReiN/src/../assets/knockout.js\"), WebIO.Asset(\"js\", \"knockout_punches\", \"/home/dushya/.julia/packages/Knockout/HReiN/src/../assets/knockout_punches.js\"), WebIO.Asset(\"js\", nothing, \"/home/dushya/.julia/packages/InteractBase/LJXv3/src/../assets/all.js\"), WebIO.Asset(\"css\", nothing, \"/home/dushya/.julia/packages/InteractBase/LJXv3/src/../assets/style.css\"), WebIO.Asset(\"css\", nothing, \"/home/dushya/.julia/packages/Interact/PENUy/src/../assets/bulma_confined.min.css\")], Dict{Any, Any}(\"loading\" => Any[WebIO.JSString(\"(function (val){return (val!=this.model[\\\"loading\\\"]()) ? (this.valueFromJulia[\\\"loading\\\"]=true, this.model[\\\"loading\\\"](val)) : undefined})\")], \"clicks\" => Any[WebIO.JSString(\"(function (val){return (val!=this.model[\\\"clicks\\\"]()) ? (this.valueFromJulia[\\\"clicks\\\"]=true, this.model[\\\"clicks\\\"](val)) : undefined})\")]), WebIO.ConnectionPool(Channel{Any}(32), Set{WebIO.AbstractConnection}(), Base.GenericCondition{ReentrantLock}(Base.IntrusiveLinkedList{Task}(Task (runnable) @0x00007fcb373c1dc0, Task (runnable) @0x00007fcb373c1dc0), ReentrantLock(nothing, 0x00000000, 0x00, Base.GenericCondition{Base.Threads.SpinLock}(Base.IntrusiveLinkedList{Task}(nothing, nothing), Base.Threads.SpinLock(0)), (8, 526336, 139779710648320)))), WebIO.JSString[WebIO.JSString(\"function () {\\n    var handler = (function (ko, koPunches) {\\n    ko.punches.enableAll();\\n    ko.bindingHandlers.numericValue = {\\n        init: function(element, valueAccessor, allBindings, data, context) {\\n            var stringified = ko.observable(ko.unwrap(valueAccessor()));\\n            stringified.subscribe(function(value) {\\n                var val = parseFloat(value);\\n                if (!isNaN(val)) {\\n                    valueAccessor()(val);\\n                }\\n            });\\n            valueAccessor().subscribe(function(value) {\\n                var str = JSON.stringify(value);\\n                if ((str == \\\"0\\\") && ([\\\"-0\\\", \\\"-0.\\\"].indexOf(stringified()) >= 0))\\n                     return;\\n                 if ([\\\"null\\\", \\\"\\\"].indexOf(str) >= 0)\\n                     return;\\n                stringified(str);\\n            });\\n            ko.applyBindingsToNode(\\n                element,\\n                {\\n                    value: stringified,\\n                    valueUpdate: allBindings.get('valueUpdate'),\\n                },\\n                context,\\n            );\\n        }\\n    };\\n    var json_data = {\\\"loading\\\":WebIO.getval({\\\"name\\\":\\\"loading\\\",\\\"scope\\\":\\\"887994708745106789\\\",\\\"id\\\":\\\"1481915588420642041\\\",\\\"type\\\":\\\"observable\\\"}),\\\"clicks\\\":WebIO.getval({\\\"name\\\":\\\"clicks\\\",\\\"scope\\\":\\\"887994708745106789\\\",\\\"id\\\":\\\"13656681281695087677\\\",\\\"type\\\":\\\"observable\\\"})};\\n    var self = this;\\n    function AppViewModel() {\\n        for (var key in json_data) {\\n            var el = json_data[key];\\n            this[key] = Array.isArray(el) ? ko.observableArray(el) : ko.observable(el);\\n        }\\n        \\n        \\n        [this[\\\"loading\\\"].subscribe((function (val){!(this.valueFromJulia[\\\"loading\\\"]) ? (WebIO.setval({\\\"name\\\":\\\"loading\\\",\\\"scope\\\":\\\"887994708745106789\\\",\\\"id\\\":\\\"1481915588420642041\\\",\\\"type\\\":\\\"observable\\\"},val)) : undefined; return this.valueFromJulia[\\\"loading\\\"]=false}),self),this[\\\"clicks\\\"].subscribe((function (val){!(this.valueFromJulia[\\\"clicks\\\"]) ? (WebIO.setval({\\\"name\\\":\\\"clicks\\\",\\\"scope\\\":\\\"887994708745106789\\\",\\\"id\\\":\\\"13656681281695087677\\\",\\\"type\\\":\\\"observable\\\"},val)) : undefined; return this.valueFromJulia[\\\"clicks\\\"]=false}),self)]\\n        \\n    }\\n    self.model = new AppViewModel();\\n    self.valueFromJulia = {};\\n    for (var key in json_data) {\\n        self.valueFromJulia[key] = false;\\n    }\\n    ko.applyBindings(self.model, self.dom);\\n}\\n);\\n    (WebIO.importBlock({\\\"data\\\":[{\\\"name\\\":\\\"knockout\\\",\\\"type\\\":\\\"js\\\",\\\"url\\\":\\\"/assetserver/727383f2a47bd31570b7da84eee7b022dd6d7c78-knockout.js\\\"},{\\\"name\\\":\\\"knockout_punches\\\",\\\"type\\\":\\\"js\\\",\\\"url\\\":\\\"/assetserver/382b41b3b1bd9f26f75861d360bad7f8beea211f-knockout_punches.js\\\"}],\\\"type\\\":\\\"async_block\\\"})).then((imports) => handler.apply(this, imports));\\n}\\n\")])], Dict{Symbol, Any}(:className => \"field interact-widget\"))], Dict{Symbol, Any}(:style => Dict(\"display\" => \"flex\", \"flex-direction\" => \"row\")))], Dict{Symbol, Any}(:style => Dict(\"display\" => \"flex\", \"flex-direction\" => \"column\"))), WebIO.Node{WebIO.DOM}(WebIO.DOM(:html, :div), Any[WebIO.Scope(WebIO.Node{WebIO.DOM}(WebIO.DOM(:html, :div), Any[], Dict{Symbol, Any}(:id => \"container\")), Dict{String, Tuple{Observables.AbstractObservable, Union{Nothing, Bool}}}(\"value\" => (Observable(\"\\\\;\\\\;\"), nothing)), Set{String}(), nothing, WebIO.Asset[WebIO.Asset(\"js\", nothing, \"/home/dushya/.julia/packages/InteractBase/LJXv3/src/../assets/katex.min.js\"), WebIO.Asset(\"css\", nothing, \"/home/dushya/.julia/packages/InteractBase/LJXv3/src/../assets/katex.min.css\")], Dict{Any, Any}(\"value\" => Any[WebIO.JSString(\"(function (txt){return this.k.render(txt,this.container)})\")]), WebIO.ConnectionPool(Channel{Any}(32), Set{WebIO.AbstractConnection}(), Base.GenericCondition{ReentrantLock}(Base.IntrusiveLinkedList{Task}(Task (runnable) @0x00007fcb373c4650, Task (runnable) @0x00007fcb373c4650), ReentrantLock(nothing, 0x00000000, 0x00, Base.GenericCondition{Base.Threads.SpinLock}(Base.IntrusiveLinkedList{Task}(nothing, nothing), Base.Threads.SpinLock(0)), (8, 140512827857360, 140512827857008)))), WebIO.JSString[WebIO.JSString(\"function () {\\n    var handler = ((function (k){this.k=k; this.container=this.dom.querySelector(\\\"#container\\\"); return k.render(\\\"\\\\\\\\;\\\\\\\\;\\\",this.container)}));\\n    (WebIO.importBlock({\\\"data\\\":[{\\\"name\\\":null,\\\"type\\\":\\\"js\\\",\\\"url\\\":\\\"/assetserver/dd22ed1bf1896c2748f3fe616ce0b838adc895c1-katex.min.js\\\"},{\\\"name\\\":null,\\\"type\\\":\\\"css\\\",\\\"url\\\":\\\"/assetserver/46517a424aa5e6cffc1360d7e0848b601c584ee3-katex.min.css\\\"}],\\\"type\\\":\\\"async_block\\\"})).then((imports) => handler.apply(this, imports));\\n}\\n\")])], Dict{Symbol, Any}(:className => \"interact-widget\")), Observable(Luxor.Drawing(430.0, 430.0, \"\", Cairo.CairoSurfaceBase{UInt32}(Ptr{Nothing} @0x0000000000000000, 430.0, 430.0), Cairo.CairoContext(Ptr{Nothing} @0x0000000005c46c10, Cairo.CairoSurfaceBase{UInt32}(Ptr{Nothing} @0x0000000000000000, 430.0, 430.0), Ptr{Nothing} @0x0000000006633980), :png, 0.5, 0.5, 0.5, 0.5, IOBuffer(data=UInt8[...], readable=true, writable=true, seekable=true, append=false, size=5997, maxsize=Inf, ptr=5998, mark=-1), UInt8[0x89, 0x50, 0x4e, 0x47, 0x0d, 0x0a, 0x1a, 0x0a, 0x00, 0x00  …  0x00, 0x00, 0x49, 0x45, 0x4e, 0x44, 0xae, 0x42, 0x60, 0x82], false)), WebIO.Node{WebIO.DOM}(WebIO.DOM(:html, :div), Any[WebIO.Scope(WebIO.Node{WebIO.DOM}(WebIO.DOM(:html, :div), Any[], Dict{Symbol, Any}(:id => \"container\")), Dict{String, Tuple{Observables.AbstractObservable, Union{Nothing, Bool}}}(\"value\" => (Observable(\"\\\\;\\\\;\"), nothing)), Set{String}(), nothing, WebIO.Asset[WebIO.Asset(\"js\", nothing, \"/home/dushya/.julia/packages/InteractBase/LJXv3/src/../assets/katex.min.js\"), WebIO.Asset(\"css\", nothing, \"/home/dushya/.julia/packages/InteractBase/LJXv3/src/../assets/katex.min.css\")], Dict{Any, Any}(\"value\" => Any[WebIO.JSString(\"(function (txt){return this.k.render(txt,this.container)})\")]), WebIO.ConnectionPool(Channel{Any}(32), Set{WebIO.AbstractConnection}(), Base.GenericCondition{ReentrantLock}(Base.IntrusiveLinkedList{Task}(Task (runnable) @0x00007fcb373c4650, Task (runnable) @0x00007fcb373c4650), ReentrantLock(nothing, 0x00000000, 0x00, Base.GenericCondition{Base.Threads.SpinLock}(Base.IntrusiveLinkedList{Task}(nothing, nothing), Base.Threads.SpinLock(0)), (8, 140512827857360, 140512827857008)))), WebIO.JSString[WebIO.JSString(\"function () {\\n    var handler = ((function (k){this.k=k; this.container=this.dom.querySelector(\\\"#container\\\"); return k.render(\\\"\\\\\\\\;\\\\\\\\;\\\",this.container)}));\\n    (WebIO.importBlock({\\\"data\\\":[{\\\"name\\\":null,\\\"type\\\":\\\"js\\\",\\\"url\\\":\\\"/assetserver/dd22ed1bf1896c2748f3fe616ce0b838adc895c1-katex.min.js\\\"},{\\\"name\\\":null,\\\"type\\\":\\\"css\\\",\\\"url\\\":\\\"/assetserver/46517a424aa5e6cffc1360d7e0848b601c584ee3-katex.min.css\\\"}],\\\"type\\\":\\\"async_block\\\"})).then((imports) => handler.apply(this, imports));\\n}\\n\")])], Dict{Symbol, Any}(:className => \"interact-widget\")), WebIO.Node{WebIO.DOM}(WebIO.DOM(:html, :div), Any[], Dict{Symbol, Any}(:style => Dict(\"display\" => \"flex\", \"flex-direction\" => \"column\")))], Dict{Symbol, Any}(:style => Dict(\"display\" => \"flex\", \"flex-direction\" => \"row\")))], Dict{Symbol, Any}(:style => Dict(\"display\" => \"flex\", \"flex-direction\" => \"column\")))"
      ]
     },
     "execution_count": 31,
     "metadata": {
      "application/vnd.webio.node+json": {
       "kernelId": "6ba02987-e8fc-455e-89e8-ff28cbbe679c"
      }
     },
     "output_type": "execute_result"
    },
    {
     "name": "stdout",
     "output_type": "stream",
     "text": [
      "Saving animation as gif....\n"
     ]
    },
    {
     "name": "stderr",
     "output_type": "stream",
     "text": [
      "\u001b[36m\u001b[1m┌ \u001b[22m\u001b[39m\u001b[36m\u001b[1mInfo: \u001b[22m\u001b[39mFrames for animation \"movie_abm\" are being stored in directory: \n",
      "\u001b[36m\u001b[1m└ \u001b[22m\u001b[39m\t /tmp/jl_K34VET\n",
      "\u001b[36m\u001b[1m┌ \u001b[22m\u001b[39m\u001b[36m\u001b[1mInfo: \u001b[22m\u001b[39m... 201 frames saved in directory:\n",
      "\u001b[36m\u001b[1m└ \u001b[22m\u001b[39m\t /tmp/jl_K34VET\n"
     ]
    },
    {
     "name": "stdout",
     "output_type": "stream",
     "text": [
      "Animation saved at /home/dushya/.julia/scratchspaces/2ab8e4d3-e1e9-4248-86a3-8419d2d242e9/abm_anims/anim_2d.gif\n"
     ]
    },
    {
     "name": "stderr",
     "output_type": "stream",
     "text": [
      "\u001b[36m\u001b[1m[ \u001b[22m\u001b[39m\u001b[36m\u001b[1mInfo: \u001b[22m\u001b[39mGIF is: /home/dushya/.julia/scratchspaces/2ab8e4d3-e1e9-4248-86a3-8419d2d242e9/abm_anims/anim_2d.gif\n"
     ]
    }
   ],
   "source": [
    "animate_sim(model, show_patches=true)"
   ]
  },
  {
   "cell_type": "markdown",
   "metadata": {},
   "source": [
    "After defining the `step_rule!` function we can also choose to create an interactive application (which currently works in Jupyter with WebIO installation) as "
   ]
  },
  {
   "cell_type": "code",
   "execution_count": 7,
   "metadata": {},
   "outputs": [
    {
     "data": {
      "application/vnd.webio.node+json": {
       "children": [
        {
         "children": [
          {
           "children": [
            {
             "children": [
              {
               "children": [
                {
                 "children": [
                  {
                   "children": [
                    {
                     "children": [
                      "time"
                     ],
                     "instanceArgs": {
                      "namespace": "html",
                      "tag": "label"
                     },
                     "nodeType": "DOM",
                     "props": {
                      "className": "interact ",
                      "style": {
                       "padding": "5px 10px 0px 10px"
                      }
                     },
                     "type": "node"
                    }
                   ],
                   "instanceArgs": {
                    "namespace": "html",
                    "tag": "div"
                   },
                   "nodeType": "DOM",
                   "props": {
                    "className": "interact-flex-row-left"
                   },
                   "type": "node"
                  },
                  {
                   "children": [
                    {
                     "children": [],
                     "instanceArgs": {
                      "namespace": "html",
                      "tag": "input"
                     },
                     "nodeType": "DOM",
                     "props": {
                      "attributes": {
                       "data-bind": "numericValue: index, valueUpdate: 'input', event: {change: function (){this.changes(this.changes()+1)}}",
                       "orient": "horizontal",
                       "type": "range"
                      },
                      "className": "slider slider is-fullwidth",
                      "max": 200,
                      "min": 1,
                      "step": 1,
                      "style": {}
                     },
                     "type": "node"
                    }
                   ],
                   "instanceArgs": {
                    "namespace": "html",
                    "tag": "div"
                   },
                   "nodeType": "DOM",
                   "props": {
                    "className": "interact-flex-row-center"
                   },
                   "type": "node"
                  },
                  {
                   "children": [
                    {
                     "children": [],
                     "instanceArgs": {
                      "namespace": "html",
                      "tag": "p"
                     },
                     "nodeType": "DOM",
                     "props": {
                      "attributes": {
                       "data-bind": "text: formatted_val"
                      }
                     },
                     "type": "node"
                    }
                   ],
                   "instanceArgs": {
                    "namespace": "html",
                    "tag": "div"
                   },
                   "nodeType": "DOM",
                   "props": {
                    "className": "interact-flex-row-right"
                   },
                   "type": "node"
                  }
                 ],
                 "instanceArgs": {
                  "namespace": "html",
                  "tag": "div"
                 },
                 "nodeType": "DOM",
                 "props": {
                  "className": "interact-flex-row interact-widget"
                 },
                 "type": "node"
                }
               ],
               "instanceArgs": {
                "handlers": {
                 "changes": [
                  "(function (val){return (val!=this.model[\"changes\"]()) ? (this.valueFromJulia[\"changes\"]=true, this.model[\"changes\"](val)) : undefined})"
                 ],
                 "index": [
                  "(function (val){return (val!=this.model[\"index\"]()) ? (this.valueFromJulia[\"index\"]=true, this.model[\"index\"](val)) : undefined})"
                 ]
                },
                "id": "17653855721163561022",
                "imports": {
                 "data": [
                  {
                   "name": "knockout",
                   "type": "js",
                   "url": "/assetserver/727383f2a47bd31570b7da84eee7b022dd6d7c78-knockout.js"
                  },
                  {
                   "name": "knockout_punches",
                   "type": "js",
                   "url": "/assetserver/382b41b3b1bd9f26f75861d360bad7f8beea211f-knockout_punches.js"
                  },
                  {
                   "name": null,
                   "type": "js",
                   "url": "/assetserver/5ab20f1060420992a9b82a65b735dee4d81ef413-all.js"
                  },
                  {
                   "name": null,
                   "type": "css",
                   "url": "/assetserver/1cc0ed62837210b80a182cc3676512f895dab686-style.css"
                  },
                  {
                   "name": null,
                   "type": "css",
                   "url": "/assetserver/2eee816f616df3549d7044d45e744fbf8d42bfa1-bulma_confined.min.css"
                  }
                 ],
                 "type": "async_block"
                },
                "mount_callbacks": [
                 "function () {\n    var handler = (function (ko, koPunches) {\n    ko.punches.enableAll();\n    ko.bindingHandlers.numericValue = {\n        init: function(element, valueAccessor, allBindings, data, context) {\n            var stringified = ko.observable(ko.unwrap(valueAccessor()));\n            stringified.subscribe(function(value) {\n                var val = parseFloat(value);\n                if (!isNaN(val)) {\n                    valueAccessor()(val);\n                }\n            });\n            valueAccessor().subscribe(function(value) {\n                var str = JSON.stringify(value);\n                if ((str == \"0\") && ([\"-0\", \"-0.\"].indexOf(stringified()) >= 0))\n                     return;\n                 if ([\"null\", \"\"].indexOf(str) >= 0)\n                     return;\n                stringified(str);\n            });\n            ko.applyBindingsToNode(\n                element,\n                {\n                    value: stringified,\n                    valueUpdate: allBindings.get('valueUpdate'),\n                },\n                context,\n            );\n        }\n    };\n    var json_data = {\"formatted_vals\":[\"1\",\"2\",\"3\",\"4\",\"5\",\"6\",\"7\",\"8\",\"9\",\"10\",\"11\",\"12\",\"13\",\"14\",\"15\",\"16\",\"17\",\"18\",\"19\",\"20\",\"21\",\"22\",\"23\",\"24\",\"25\",\"26\",\"27\",\"28\",\"29\",\"30\",\"31\",\"32\",\"33\",\"34\",\"35\",\"36\",\"37\",\"38\",\"39\",\"40\",\"41\",\"42\",\"43\",\"44\",\"45\",\"46\",\"47\",\"48\",\"49\",\"50\",\"51\",\"52\",\"53\",\"54\",\"55\",\"56\",\"57\",\"58\",\"59\",\"60\",\"61\",\"62\",\"63\",\"64\",\"65\",\"66\",\"67\",\"68\",\"69\",\"70\",\"71\",\"72\",\"73\",\"74\",\"75\",\"76\",\"77\",\"78\",\"79\",\"80\",\"81\",\"82\",\"83\",\"84\",\"85\",\"86\",\"87\",\"88\",\"89\",\"90\",\"91\",\"92\",\"93\",\"94\",\"95\",\"96\",\"97\",\"98\",\"99\",\"100\",\"101\",\"102\",\"103\",\"104\",\"105\",\"106\",\"107\",\"108\",\"109\",\"110\",\"111\",\"112\",\"113\",\"114\",\"115\",\"116\",\"117\",\"118\",\"119\",\"120\",\"121\",\"122\",\"123\",\"124\",\"125\",\"126\",\"127\",\"128\",\"129\",\"130\",\"131\",\"132\",\"133\",\"134\",\"135\",\"136\",\"137\",\"138\",\"139\",\"140\",\"141\",\"142\",\"143\",\"144\",\"145\",\"146\",\"147\",\"148\",\"149\",\"150\",\"151\",\"152\",\"153\",\"154\",\"155\",\"156\",\"157\",\"158\",\"159\",\"160\",\"161\",\"162\",\"163\",\"164\",\"165\",\"166\",\"167\",\"168\",\"169\",\"170\",\"171\",\"172\",\"173\",\"174\",\"175\",\"176\",\"177\",\"178\",\"179\",\"180\",\"181\",\"182\",\"183\",\"184\",\"185\",\"186\",\"187\",\"188\",\"189\",\"190\",\"191\",\"192\",\"193\",\"194\",\"195\",\"196\",\"197\",\"198\",\"199\",\"200\"],\"changes\":WebIO.getval({\"name\":\"changes\",\"scope\":\"17653855721163561022\",\"id\":\"4184109925903621321\",\"type\":\"observable\"}),\"index\":WebIO.getval({\"name\":\"index\",\"scope\":\"17653855721163561022\",\"id\":\"156966682548846287\",\"type\":\"observable\"})};\n    var self = this;\n    function AppViewModel() {\n        for (var key in json_data) {\n            var el = json_data[key];\n            this[key] = Array.isArray(el) ? ko.observableArray(el) : ko.observable(el);\n        }\n        \n        [this[\"formatted_val\"]=ko.computed(    function(){\n        return this.formatted_vals()[parseInt(this.index())-(1)];\n    }\n,this)]\n        [this[\"changes\"].subscribe((function (val){!(this.valueFromJulia[\"changes\"]) ? (WebIO.setval({\"name\":\"changes\",\"scope\":\"17653855721163561022\",\"id\":\"4184109925903621321\",\"type\":\"observable\"},val)) : undefined; return this.valueFromJulia[\"changes\"]=false}),self),this[\"index\"].subscribe((function (val){!(this.valueFromJulia[\"index\"]) ? (WebIO.setval({\"name\":\"index\",\"scope\":\"17653855721163561022\",\"id\":\"156966682548846287\",\"type\":\"observable\"},val)) : undefined; return this.valueFromJulia[\"index\"]=false}),self)]\n        \n    }\n    self.model = new AppViewModel();\n    self.valueFromJulia = {};\n    for (var key in json_data) {\n        self.valueFromJulia[key] = false;\n    }\n    ko.applyBindings(self.model, self.dom);\n}\n);\n    (WebIO.importBlock({\"data\":[{\"name\":\"knockout\",\"type\":\"js\",\"url\":\"/assetserver/727383f2a47bd31570b7da84eee7b022dd6d7c78-knockout.js\"},{\"name\":\"knockout_punches\",\"type\":\"js\",\"url\":\"/assetserver/382b41b3b1bd9f26f75861d360bad7f8beea211f-knockout_punches.js\"}],\"type\":\"async_block\"})).then((imports) => handler.apply(this, imports));\n}\n"
                ],
                "observables": {
                 "changes": {
                  "id": "4184109925903621321",
                  "sync": false,
                  "value": 0
                 },
                 "index": {
                  "id": "156966682548846287",
                  "sync": true,
                  "value": 1
                 }
                },
                "systemjs_options": null
               },
               "nodeType": "Scope",
               "props": {},
               "type": "node"
              }
             ],
             "instanceArgs": {
              "namespace": "html",
              "tag": "div"
             },
             "nodeType": "DOM",
             "props": {
              "className": "field interact-widget"
             },
             "type": "node"
            },
            {
             "children": [
              {
               "children": [
                {
                 "children": [
                  {
                   "children": [
                    {
                     "children": [
                      "scale"
                     ],
                     "instanceArgs": {
                      "namespace": "html",
                      "tag": "label"
                     },
                     "nodeType": "DOM",
                     "props": {
                      "className": "interact ",
                      "style": {
                       "padding": "5px 10px 0px 10px"
                      }
                     },
                     "type": "node"
                    }
                   ],
                   "instanceArgs": {
                    "namespace": "html",
                    "tag": "div"
                   },
                   "nodeType": "DOM",
                   "props": {
                    "className": "interact-flex-row-left"
                   },
                   "type": "node"
                  },
                  {
                   "children": [
                    {
                     "children": [],
                     "instanceArgs": {
                      "namespace": "html",
                      "tag": "input"
                     },
                     "nodeType": "DOM",
                     "props": {
                      "attributes": {
                       "data-bind": "numericValue: index, valueUpdate: 'input', event: {change: function (){this.changes(this.changes()+1)}}",
                       "orient": "horizontal",
                       "type": "range"
                      },
                      "className": "slider slider is-fullwidth",
                      "max": 20,
                      "min": 1,
                      "step": 1,
                      "style": {}
                     },
                     "type": "node"
                    }
                   ],
                   "instanceArgs": {
                    "namespace": "html",
                    "tag": "div"
                   },
                   "nodeType": "DOM",
                   "props": {
                    "className": "interact-flex-row-center"
                   },
                   "type": "node"
                  },
                  {
                   "children": [
                    {
                     "children": [],
                     "instanceArgs": {
                      "namespace": "html",
                      "tag": "p"
                     },
                     "nodeType": "DOM",
                     "props": {
                      "attributes": {
                       "data-bind": "text: formatted_val"
                      }
                     },
                     "type": "node"
                    }
                   ],
                   "instanceArgs": {
                    "namespace": "html",
                    "tag": "div"
                   },
                   "nodeType": "DOM",
                   "props": {
                    "className": "interact-flex-row-right"
                   },
                   "type": "node"
                  }
                 ],
                 "instanceArgs": {
                  "namespace": "html",
                  "tag": "div"
                 },
                 "nodeType": "DOM",
                 "props": {
                  "className": "interact-flex-row interact-widget"
                 },
                 "type": "node"
                }
               ],
               "instanceArgs": {
                "handlers": {
                 "changes": [
                  "(function (val){return (val!=this.model[\"changes\"]()) ? (this.valueFromJulia[\"changes\"]=true, this.model[\"changes\"](val)) : undefined})"
                 ],
                 "index": [
                  "(function (val){return (val!=this.model[\"index\"]()) ? (this.valueFromJulia[\"index\"]=true, this.model[\"index\"](val)) : undefined})"
                 ]
                },
                "id": "16787435809986244967",
                "imports": {
                 "data": [
                  {
                   "name": "knockout",
                   "type": "js",
                   "url": "/assetserver/727383f2a47bd31570b7da84eee7b022dd6d7c78-knockout.js"
                  },
                  {
                   "name": "knockout_punches",
                   "type": "js",
                   "url": "/assetserver/382b41b3b1bd9f26f75861d360bad7f8beea211f-knockout_punches.js"
                  },
                  {
                   "name": null,
                   "type": "js",
                   "url": "/assetserver/5ab20f1060420992a9b82a65b735dee4d81ef413-all.js"
                  },
                  {
                   "name": null,
                   "type": "css",
                   "url": "/assetserver/1cc0ed62837210b80a182cc3676512f895dab686-style.css"
                  },
                  {
                   "name": null,
                   "type": "css",
                   "url": "/assetserver/2eee816f616df3549d7044d45e744fbf8d42bfa1-bulma_confined.min.css"
                  }
                 ],
                 "type": "async_block"
                },
                "mount_callbacks": [
                 "function () {\n    var handler = (function (ko, koPunches) {\n    ko.punches.enableAll();\n    ko.bindingHandlers.numericValue = {\n        init: function(element, valueAccessor, allBindings, data, context) {\n            var stringified = ko.observable(ko.unwrap(valueAccessor()));\n            stringified.subscribe(function(value) {\n                var val = parseFloat(value);\n                if (!isNaN(val)) {\n                    valueAccessor()(val);\n                }\n            });\n            valueAccessor().subscribe(function(value) {\n                var str = JSON.stringify(value);\n                if ((str == \"0\") && ([\"-0\", \"-0.\"].indexOf(stringified()) >= 0))\n                     return;\n                 if ([\"null\", \"\"].indexOf(str) >= 0)\n                     return;\n                stringified(str);\n            });\n            ko.applyBindingsToNode(\n                element,\n                {\n                    value: stringified,\n                    valueUpdate: allBindings.get('valueUpdate'),\n                },\n                context,\n            );\n        }\n    };\n    var json_data = {\"formatted_vals\":[\"0.1\",\"0.2\",\"0.3\",\"0.4\",\"0.5\",\"0.6\",\"0.7\",\"0.8\",\"0.9\",\"1.0\",\"1.1\",\"1.2\",\"1.3\",\"1.4\",\"1.5\",\"1.6\",\"1.7\",\"1.8\",\"1.9\",\"2.0\"],\"changes\":WebIO.getval({\"name\":\"changes\",\"scope\":\"16787435809986244967\",\"id\":\"2858633279866112160\",\"type\":\"observable\"}),\"index\":WebIO.getval({\"name\":\"index\",\"scope\":\"16787435809986244967\",\"id\":\"1145686618606966017\",\"type\":\"observable\"})};\n    var self = this;\n    function AppViewModel() {\n        for (var key in json_data) {\n            var el = json_data[key];\n            this[key] = Array.isArray(el) ? ko.observableArray(el) : ko.observable(el);\n        }\n        \n        [this[\"formatted_val\"]=ko.computed(    function(){\n        return this.formatted_vals()[parseInt(this.index())-(1)];\n    }\n,this)]\n        [this[\"changes\"].subscribe((function (val){!(this.valueFromJulia[\"changes\"]) ? (WebIO.setval({\"name\":\"changes\",\"scope\":\"16787435809986244967\",\"id\":\"2858633279866112160\",\"type\":\"observable\"},val)) : undefined; return this.valueFromJulia[\"changes\"]=false}),self),this[\"index\"].subscribe((function (val){!(this.valueFromJulia[\"index\"]) ? (WebIO.setval({\"name\":\"index\",\"scope\":\"16787435809986244967\",\"id\":\"1145686618606966017\",\"type\":\"observable\"},val)) : undefined; return this.valueFromJulia[\"index\"]=false}),self)]\n        \n    }\n    self.model = new AppViewModel();\n    self.valueFromJulia = {};\n    for (var key in json_data) {\n        self.valueFromJulia[key] = false;\n    }\n    ko.applyBindings(self.model, self.dom);\n}\n);\n    (WebIO.importBlock({\"data\":[{\"name\":\"knockout\",\"type\":\"js\",\"url\":\"/assetserver/727383f2a47bd31570b7da84eee7b022dd6d7c78-knockout.js\"},{\"name\":\"knockout_punches\",\"type\":\"js\",\"url\":\"/assetserver/382b41b3b1bd9f26f75861d360bad7f8beea211f-knockout_punches.js\"}],\"type\":\"async_block\"})).then((imports) => handler.apply(this, imports));\n}\n"
                ],
                "observables": {
                 "changes": {
                  "id": "2858633279866112160",
                  "sync": false,
                  "value": 0
                 },
                 "index": {
                  "id": "1145686618606966017",
                  "sync": true,
                  "value": 10
                 }
                },
                "systemjs_options": null
               },
               "nodeType": "Scope",
               "props": {},
               "type": "node"
              }
             ],
             "instanceArgs": {
              "namespace": "html",
              "tag": "div"
             },
             "nodeType": "DOM",
             "props": {
              "className": "field interact-widget"
             },
             "type": "node"
            },
            {
             "children": [],
             "instanceArgs": {
              "namespace": "html",
              "tag": "div"
             },
             "nodeType": "DOM",
             "props": {
              "style": {
               "display": "flex",
               "flex-direction": "column"
              }
             },
             "type": "node"
            },
            {
             "children": [
              {
               "children": [
                {
                 "children": [
                  {
                   "children": [
                    {
                     "children": [
                      {
                       "children": [
                        "alive_percent"
                       ],
                       "instanceArgs": {
                        "namespace": "html",
                        "tag": "label"
                       },
                       "nodeType": "DOM",
                       "props": {
                        "className": "interact ",
                        "style": {
                         "padding": "5px 10px 0px 10px"
                        }
                       },
                       "type": "node"
                      }
                     ],
                     "instanceArgs": {
                      "namespace": "html",
                      "tag": "div"
                     },
                     "nodeType": "DOM",
                     "props": {
                      "className": "interact-flex-row-left"
                     },
                     "type": "node"
                    },
                    {
                     "children": [
                      {
                       "children": [],
                       "instanceArgs": {
                        "namespace": "html",
                        "tag": "input"
                       },
                       "nodeType": "DOM",
                       "props": {
                        "attributes": {
                         "data-bind": "numericValue: index, valueUpdate: 'input', event: {change: function (){this.changes(this.changes()+1)}}",
                         "orient": "horizontal",
                         "type": "range"
                        },
                        "className": "slider slider is-fullwidth",
                        "max": 101,
                        "min": 1,
                        "step": 1,
                        "style": {}
                       },
                       "type": "node"
                      }
                     ],
                     "instanceArgs": {
                      "namespace": "html",
                      "tag": "div"
                     },
                     "nodeType": "DOM",
                     "props": {
                      "className": "interact-flex-row-center"
                     },
                     "type": "node"
                    },
                    {
                     "children": [
                      {
                       "children": [],
                       "instanceArgs": {
                        "namespace": "html",
                        "tag": "p"
                       },
                       "nodeType": "DOM",
                       "props": {
                        "attributes": {
                         "data-bind": "text: formatted_val"
                        }
                       },
                       "type": "node"
                      }
                     ],
                     "instanceArgs": {
                      "namespace": "html",
                      "tag": "div"
                     },
                     "nodeType": "DOM",
                     "props": {
                      "className": "interact-flex-row-right"
                     },
                     "type": "node"
                    }
                   ],
                   "instanceArgs": {
                    "namespace": "html",
                    "tag": "div"
                   },
                   "nodeType": "DOM",
                   "props": {
                    "className": "interact-flex-row interact-widget"
                   },
                   "type": "node"
                  }
                 ],
                 "instanceArgs": {
                  "handlers": {
                   "changes": [
                    "(function (val){return (val!=this.model[\"changes\"]()) ? (this.valueFromJulia[\"changes\"]=true, this.model[\"changes\"](val)) : undefined})"
                   ],
                   "index": [
                    "(function (val){return (val!=this.model[\"index\"]()) ? (this.valueFromJulia[\"index\"]=true, this.model[\"index\"](val)) : undefined})"
                   ]
                  },
                  "id": "17937667682054112389",
                  "imports": {
                   "data": [
                    {
                     "name": "knockout",
                     "type": "js",
                     "url": "/assetserver/727383f2a47bd31570b7da84eee7b022dd6d7c78-knockout.js"
                    },
                    {
                     "name": "knockout_punches",
                     "type": "js",
                     "url": "/assetserver/382b41b3b1bd9f26f75861d360bad7f8beea211f-knockout_punches.js"
                    },
                    {
                     "name": null,
                     "type": "js",
                     "url": "/assetserver/5ab20f1060420992a9b82a65b735dee4d81ef413-all.js"
                    },
                    {
                     "name": null,
                     "type": "css",
                     "url": "/assetserver/1cc0ed62837210b80a182cc3676512f895dab686-style.css"
                    },
                    {
                     "name": null,
                     "type": "css",
                     "url": "/assetserver/2eee816f616df3549d7044d45e744fbf8d42bfa1-bulma_confined.min.css"
                    }
                   ],
                   "type": "async_block"
                  },
                  "mount_callbacks": [
                   "function () {\n    var handler = (function (ko, koPunches) {\n    ko.punches.enableAll();\n    ko.bindingHandlers.numericValue = {\n        init: function(element, valueAccessor, allBindings, data, context) {\n            var stringified = ko.observable(ko.unwrap(valueAccessor()));\n            stringified.subscribe(function(value) {\n                var val = parseFloat(value);\n                if (!isNaN(val)) {\n                    valueAccessor()(val);\n                }\n            });\n            valueAccessor().subscribe(function(value) {\n                var str = JSON.stringify(value);\n                if ((str == \"0\") && ([\"-0\", \"-0.\"].indexOf(stringified()) >= 0))\n                     return;\n                 if ([\"null\", \"\"].indexOf(str) >= 0)\n                     return;\n                stringified(str);\n            });\n            ko.applyBindingsToNode(\n                element,\n                {\n                    value: stringified,\n                    valueUpdate: allBindings.get('valueUpdate'),\n                },\n                context,\n            );\n        }\n    };\n    var json_data = {\"formatted_vals\":[\"0.0\",\"0.01\",\"0.02\",\"0.03\",\"0.04\",\"0.05\",\"0.06\",\"0.07\",\"0.08\",\"0.09\",\"0.1\",\"0.11\",\"0.12\",\"0.13\",\"0.14\",\"0.15\",\"0.16\",\"0.17\",\"0.18\",\"0.19\",\"0.2\",\"0.21\",\"0.22\",\"0.23\",\"0.24\",\"0.25\",\"0.26\",\"0.27\",\"0.28\",\"0.29\",\"0.3\",\"0.31\",\"0.32\",\"0.33\",\"0.34\",\"0.35\",\"0.36\",\"0.37\",\"0.38\",\"0.39\",\"0.4\",\"0.41\",\"0.42\",\"0.43\",\"0.44\",\"0.45\",\"0.46\",\"0.47\",\"0.48\",\"0.49\",\"0.5\",\"0.51\",\"0.52\",\"0.53\",\"0.54\",\"0.55\",\"0.56\",\"0.57\",\"0.58\",\"0.59\",\"0.6\",\"0.61\",\"0.62\",\"0.63\",\"0.64\",\"0.65\",\"0.66\",\"0.67\",\"0.68\",\"0.69\",\"0.7\",\"0.71\",\"0.72\",\"0.73\",\"0.74\",\"0.75\",\"0.76\",\"0.77\",\"0.78\",\"0.79\",\"0.8\",\"0.81\",\"0.82\",\"0.83\",\"0.84\",\"0.85\",\"0.86\",\"0.87\",\"0.88\",\"0.89\",\"0.9\",\"0.91\",\"0.92\",\"0.93\",\"0.94\",\"0.95\",\"0.96\",\"0.97\",\"0.98\",\"0.99\",\"1.0\"],\"changes\":WebIO.getval({\"name\":\"changes\",\"scope\":\"17937667682054112389\",\"id\":\"6782760257242168347\",\"type\":\"observable\"}),\"index\":WebIO.getval({\"name\":\"index\",\"scope\":\"17937667682054112389\",\"id\":\"7676206220077387296\",\"type\":\"observable\"})};\n    var self = this;\n    function AppViewModel() {\n        for (var key in json_data) {\n            var el = json_data[key];\n            this[key] = Array.isArray(el) ? ko.observableArray(el) : ko.observable(el);\n        }\n        \n        [this[\"formatted_val\"]=ko.computed(    function(){\n        return this.formatted_vals()[parseInt(this.index())-(1)];\n    }\n,this)]\n        [this[\"changes\"].subscribe((function (val){!(this.valueFromJulia[\"changes\"]) ? (WebIO.setval({\"name\":\"changes\",\"scope\":\"17937667682054112389\",\"id\":\"6782760257242168347\",\"type\":\"observable\"},val)) : undefined; return this.valueFromJulia[\"changes\"]=false}),self),this[\"index\"].subscribe((function (val){!(this.valueFromJulia[\"index\"]) ? (WebIO.setval({\"name\":\"index\",\"scope\":\"17937667682054112389\",\"id\":\"7676206220077387296\",\"type\":\"observable\"},val)) : undefined; return this.valueFromJulia[\"index\"]=false}),self)]\n        \n    }\n    self.model = new AppViewModel();\n    self.valueFromJulia = {};\n    for (var key in json_data) {\n        self.valueFromJulia[key] = false;\n    }\n    ko.applyBindings(self.model, self.dom);\n}\n);\n    (WebIO.importBlock({\"data\":[{\"name\":\"knockout\",\"type\":\"js\",\"url\":\"/assetserver/727383f2a47bd31570b7da84eee7b022dd6d7c78-knockout.js\"},{\"name\":\"knockout_punches\",\"type\":\"js\",\"url\":\"/assetserver/382b41b3b1bd9f26f75861d360bad7f8beea211f-knockout_punches.js\"}],\"type\":\"async_block\"})).then((imports) => handler.apply(this, imports));\n}\n"
                  ],
                  "observables": {
                   "changes": {
                    "id": "6782760257242168347",
                    "sync": false,
                    "value": 0
                   },
                   "index": {
                    "id": "7676206220077387296",
                    "sync": true,
                    "value": 51
                   }
                  },
                  "systemjs_options": null
                 },
                 "nodeType": "Scope",
                 "props": {},
                 "type": "node"
                }
               ],
               "instanceArgs": {
                "namespace": "html",
                "tag": "div"
               },
               "nodeType": "DOM",
               "props": {
                "className": "field interact-widget"
               },
               "type": "node"
              }
             ],
             "instanceArgs": {
              "namespace": "html",
              "tag": "div"
             },
             "nodeType": "DOM",
             "props": {
              "style": {
               "display": "flex",
               "flex-direction": "column"
              }
             },
             "type": "node"
            },
            {
             "children": [
              {
               "children": [
                {
                 "children": [
                  {
                   "children": [],
                   "instanceArgs": {
                    "namespace": "html",
                    "tag": "div"
                   },
                   "nodeType": "DOM",
                   "props": {
                    "id": "container"
                   },
                   "type": "node"
                  }
                 ],
                 "instanceArgs": {
                  "handlers": {
                   "value": [
                    "(function (txt){return this.k.render(txt,this.container)})"
                   ]
                  },
                  "id": "11707340677385435333",
                  "imports": {
                   "data": [
                    {
                     "name": null,
                     "type": "js",
                     "url": "/assetserver/dd22ed1bf1896c2748f3fe616ce0b838adc895c1-katex.min.js"
                    },
                    {
                     "name": null,
                     "type": "css",
                     "url": "/assetserver/46517a424aa5e6cffc1360d7e0848b601c584ee3-katex.min.css"
                    }
                   ],
                   "type": "async_block"
                  },
                  "mount_callbacks": [
                   "function () {\n    var handler = ((function (k){this.k=k; this.container=this.dom.querySelector(\"#container\"); return k.render(\"\\\\;\\\\;\",this.container)}));\n    (WebIO.importBlock({\"data\":[{\"name\":null,\"type\":\"js\",\"url\":\"/assetserver/dd22ed1bf1896c2748f3fe616ce0b838adc895c1-katex.min.js\"},{\"name\":null,\"type\":\"css\",\"url\":\"/assetserver/46517a424aa5e6cffc1360d7e0848b601c584ee3-katex.min.css\"}],\"type\":\"async_block\"})).then((imports) => handler.apply(this, imports));\n}\n"
                  ],
                  "observables": {
                   "value": {
                    "id": "4337611500463232905",
                    "sync": false,
                    "value": "\\;\\;"
                   }
                  },
                  "systemjs_options": null
                 },
                 "nodeType": "Scope",
                 "props": {},
                 "type": "node"
                }
               ],
               "instanceArgs": {
                "namespace": "html",
                "tag": "div"
               },
               "nodeType": "DOM",
               "props": {
                "className": "interact-widget"
               },
               "type": "node"
              },
              {
               "children": [
                {
                 "children": [
                  {
                   "children": [
                    "run"
                   ],
                   "instanceArgs": {
                    "namespace": "html",
                    "tag": "button"
                   },
                   "nodeType": "DOM",
                   "props": {
                    "attributes": {
                     "data-bind": "click: function (){this.clicks(this.clicks()+1)}, css: {'is-loading' : loading}"
                    },
                    "className": "is-medium button is-primary",
                    "style": {}
                   },
                   "type": "node"
                  }
                 ],
                 "instanceArgs": {
                  "handlers": {
                   "clicks": [
                    "(function (val){return (val!=this.model[\"clicks\"]()) ? (this.valueFromJulia[\"clicks\"]=true, this.model[\"clicks\"](val)) : undefined})"
                   ],
                   "loading": [
                    "(function (val){return (val!=this.model[\"loading\"]()) ? (this.valueFromJulia[\"loading\"]=true, this.model[\"loading\"](val)) : undefined})"
                   ]
                  },
                  "id": "7856102146880889326",
                  "imports": {
                   "data": [
                    {
                     "name": "knockout",
                     "type": "js",
                     "url": "/assetserver/727383f2a47bd31570b7da84eee7b022dd6d7c78-knockout.js"
                    },
                    {
                     "name": "knockout_punches",
                     "type": "js",
                     "url": "/assetserver/382b41b3b1bd9f26f75861d360bad7f8beea211f-knockout_punches.js"
                    },
                    {
                     "name": null,
                     "type": "js",
                     "url": "/assetserver/5ab20f1060420992a9b82a65b735dee4d81ef413-all.js"
                    },
                    {
                     "name": null,
                     "type": "css",
                     "url": "/assetserver/1cc0ed62837210b80a182cc3676512f895dab686-style.css"
                    },
                    {
                     "name": null,
                     "type": "css",
                     "url": "/assetserver/2eee816f616df3549d7044d45e744fbf8d42bfa1-bulma_confined.min.css"
                    }
                   ],
                   "type": "async_block"
                  },
                  "mount_callbacks": [
                   "function () {\n    var handler = (function (ko, koPunches) {\n    ko.punches.enableAll();\n    ko.bindingHandlers.numericValue = {\n        init: function(element, valueAccessor, allBindings, data, context) {\n            var stringified = ko.observable(ko.unwrap(valueAccessor()));\n            stringified.subscribe(function(value) {\n                var val = parseFloat(value);\n                if (!isNaN(val)) {\n                    valueAccessor()(val);\n                }\n            });\n            valueAccessor().subscribe(function(value) {\n                var str = JSON.stringify(value);\n                if ((str == \"0\") && ([\"-0\", \"-0.\"].indexOf(stringified()) >= 0))\n                     return;\n                 if ([\"null\", \"\"].indexOf(str) >= 0)\n                     return;\n                stringified(str);\n            });\n            ko.applyBindingsToNode(\n                element,\n                {\n                    value: stringified,\n                    valueUpdate: allBindings.get('valueUpdate'),\n                },\n                context,\n            );\n        }\n    };\n    var json_data = {\"loading\":WebIO.getval({\"name\":\"loading\",\"scope\":\"7856102146880889326\",\"id\":\"7510031881806389873\",\"type\":\"observable\"}),\"clicks\":WebIO.getval({\"name\":\"clicks\",\"scope\":\"7856102146880889326\",\"id\":\"11675374771607529071\",\"type\":\"observable\"})};\n    var self = this;\n    function AppViewModel() {\n        for (var key in json_data) {\n            var el = json_data[key];\n            this[key] = Array.isArray(el) ? ko.observableArray(el) : ko.observable(el);\n        }\n        \n        \n        [this[\"loading\"].subscribe((function (val){!(this.valueFromJulia[\"loading\"]) ? (WebIO.setval({\"name\":\"loading\",\"scope\":\"7856102146880889326\",\"id\":\"7510031881806389873\",\"type\":\"observable\"},val)) : undefined; return this.valueFromJulia[\"loading\"]=false}),self),this[\"clicks\"].subscribe((function (val){!(this.valueFromJulia[\"clicks\"]) ? (WebIO.setval({\"name\":\"clicks\",\"scope\":\"7856102146880889326\",\"id\":\"11675374771607529071\",\"type\":\"observable\"},val)) : undefined; return this.valueFromJulia[\"clicks\"]=false}),self)]\n        \n    }\n    self.model = new AppViewModel();\n    self.valueFromJulia = {};\n    for (var key in json_data) {\n        self.valueFromJulia[key] = false;\n    }\n    ko.applyBindings(self.model, self.dom);\n}\n);\n    (WebIO.importBlock({\"data\":[{\"name\":\"knockout\",\"type\":\"js\",\"url\":\"/assetserver/727383f2a47bd31570b7da84eee7b022dd6d7c78-knockout.js\"},{\"name\":\"knockout_punches\",\"type\":\"js\",\"url\":\"/assetserver/382b41b3b1bd9f26f75861d360bad7f8beea211f-knockout_punches.js\"}],\"type\":\"async_block\"})).then((imports) => handler.apply(this, imports));\n}\n"
                  ],
                  "observables": {
                   "clicks": {
                    "id": "11675374771607529071",
                    "sync": true,
                    "value": 0
                   },
                   "loading": {
                    "id": "7510031881806389873",
                    "sync": false,
                    "value": false
                   }
                  },
                  "systemjs_options": null
                 },
                 "nodeType": "Scope",
                 "props": {},
                 "type": "node"
                }
               ],
               "instanceArgs": {
                "namespace": "html",
                "tag": "div"
               },
               "nodeType": "DOM",
               "props": {
                "className": "field interact-widget"
               },
               "type": "node"
              },
              {
               "children": [
                {
                 "children": [
                  {
                   "children": [],
                   "instanceArgs": {
                    "namespace": "html",
                    "tag": "div"
                   },
                   "nodeType": "DOM",
                   "props": {
                    "id": "container"
                   },
                   "type": "node"
                  }
                 ],
                 "instanceArgs": {
                  "handlers": {
                   "value": [
                    "(function (txt){return this.k.render(txt,this.container)})"
                   ]
                  },
                  "id": "11707340677385435333",
                  "imports": {
                   "data": [
                    {
                     "name": null,
                     "type": "js",
                     "url": "/assetserver/dd22ed1bf1896c2748f3fe616ce0b838adc895c1-katex.min.js"
                    },
                    {
                     "name": null,
                     "type": "css",
                     "url": "/assetserver/46517a424aa5e6cffc1360d7e0848b601c584ee3-katex.min.css"
                    }
                   ],
                   "type": "async_block"
                  },
                  "mount_callbacks": [
                   "function () {\n    var handler = ((function (k){this.k=k; this.container=this.dom.querySelector(\"#container\"); return k.render(\"\\\\;\\\\;\",this.container)}));\n    (WebIO.importBlock({\"data\":[{\"name\":null,\"type\":\"js\",\"url\":\"/assetserver/dd22ed1bf1896c2748f3fe616ce0b838adc895c1-katex.min.js\"},{\"name\":null,\"type\":\"css\",\"url\":\"/assetserver/46517a424aa5e6cffc1360d7e0848b601c584ee3-katex.min.css\"}],\"type\":\"async_block\"})).then((imports) => handler.apply(this, imports));\n}\n"
                  ],
                  "observables": {
                   "value": {
                    "id": "4337611500463232905",
                    "sync": false,
                    "value": "\\;\\;"
                   }
                  },
                  "systemjs_options": null
                 },
                 "nodeType": "Scope",
                 "props": {},
                 "type": "node"
                }
               ],
               "instanceArgs": {
                "namespace": "html",
                "tag": "div"
               },
               "nodeType": "DOM",
               "props": {
                "className": "interact-widget"
               },
               "type": "node"
              },
              {
               "children": [
                {
                 "children": [
                  {
                   "children": [
                    "stop"
                   ],
                   "instanceArgs": {
                    "namespace": "html",
                    "tag": "button"
                   },
                   "nodeType": "DOM",
                   "props": {
                    "attributes": {
                     "data-bind": "click: function (){this.clicks(this.clicks()+1)}, css: {'is-loading' : loading}"
                    },
                    "className": "is-medium button is-primary",
                    "style": {}
                   },
                   "type": "node"
                  }
                 ],
                 "instanceArgs": {
                  "handlers": {
                   "clicks": [
                    "(function (val){return (val!=this.model[\"clicks\"]()) ? (this.valueFromJulia[\"clicks\"]=true, this.model[\"clicks\"](val)) : undefined})"
                   ],
                   "loading": [
                    "(function (val){return (val!=this.model[\"loading\"]()) ? (this.valueFromJulia[\"loading\"]=true, this.model[\"loading\"](val)) : undefined})"
                   ]
                  },
                  "id": "17441485007210243482",
                  "imports": {
                   "data": [
                    {
                     "name": "knockout",
                     "type": "js",
                     "url": "/assetserver/727383f2a47bd31570b7da84eee7b022dd6d7c78-knockout.js"
                    },
                    {
                     "name": "knockout_punches",
                     "type": "js",
                     "url": "/assetserver/382b41b3b1bd9f26f75861d360bad7f8beea211f-knockout_punches.js"
                    },
                    {
                     "name": null,
                     "type": "js",
                     "url": "/assetserver/5ab20f1060420992a9b82a65b735dee4d81ef413-all.js"
                    },
                    {
                     "name": null,
                     "type": "css",
                     "url": "/assetserver/1cc0ed62837210b80a182cc3676512f895dab686-style.css"
                    },
                    {
                     "name": null,
                     "type": "css",
                     "url": "/assetserver/2eee816f616df3549d7044d45e744fbf8d42bfa1-bulma_confined.min.css"
                    }
                   ],
                   "type": "async_block"
                  },
                  "mount_callbacks": [
                   "function () {\n    var handler = (function (ko, koPunches) {\n    ko.punches.enableAll();\n    ko.bindingHandlers.numericValue = {\n        init: function(element, valueAccessor, allBindings, data, context) {\n            var stringified = ko.observable(ko.unwrap(valueAccessor()));\n            stringified.subscribe(function(value) {\n                var val = parseFloat(value);\n                if (!isNaN(val)) {\n                    valueAccessor()(val);\n                }\n            });\n            valueAccessor().subscribe(function(value) {\n                var str = JSON.stringify(value);\n                if ((str == \"0\") && ([\"-0\", \"-0.\"].indexOf(stringified()) >= 0))\n                     return;\n                 if ([\"null\", \"\"].indexOf(str) >= 0)\n                     return;\n                stringified(str);\n            });\n            ko.applyBindingsToNode(\n                element,\n                {\n                    value: stringified,\n                    valueUpdate: allBindings.get('valueUpdate'),\n                },\n                context,\n            );\n        }\n    };\n    var json_data = {\"loading\":WebIO.getval({\"name\":\"loading\",\"scope\":\"17441485007210243482\",\"id\":\"1675111558121309977\",\"type\":\"observable\"}),\"clicks\":WebIO.getval({\"name\":\"clicks\",\"scope\":\"17441485007210243482\",\"id\":\"10934485591896696490\",\"type\":\"observable\"})};\n    var self = this;\n    function AppViewModel() {\n        for (var key in json_data) {\n            var el = json_data[key];\n            this[key] = Array.isArray(el) ? ko.observableArray(el) : ko.observable(el);\n        }\n        \n        \n        [this[\"loading\"].subscribe((function (val){!(this.valueFromJulia[\"loading\"]) ? (WebIO.setval({\"name\":\"loading\",\"scope\":\"17441485007210243482\",\"id\":\"1675111558121309977\",\"type\":\"observable\"},val)) : undefined; return this.valueFromJulia[\"loading\"]=false}),self),this[\"clicks\"].subscribe((function (val){!(this.valueFromJulia[\"clicks\"]) ? (WebIO.setval({\"name\":\"clicks\",\"scope\":\"17441485007210243482\",\"id\":\"10934485591896696490\",\"type\":\"observable\"},val)) : undefined; return this.valueFromJulia[\"clicks\"]=false}),self)]\n        \n    }\n    self.model = new AppViewModel();\n    self.valueFromJulia = {};\n    for (var key in json_data) {\n        self.valueFromJulia[key] = false;\n    }\n    ko.applyBindings(self.model, self.dom);\n}\n);\n    (WebIO.importBlock({\"data\":[{\"name\":\"knockout\",\"type\":\"js\",\"url\":\"/assetserver/727383f2a47bd31570b7da84eee7b022dd6d7c78-knockout.js\"},{\"name\":\"knockout_punches\",\"type\":\"js\",\"url\":\"/assetserver/382b41b3b1bd9f26f75861d360bad7f8beea211f-knockout_punches.js\"}],\"type\":\"async_block\"})).then((imports) => handler.apply(this, imports));\n}\n"
                  ],
                  "observables": {
                   "clicks": {
                    "id": "10934485591896696490",
                    "sync": true,
                    "value": 0
                   },
                   "loading": {
                    "id": "1675111558121309977",
                    "sync": false,
                    "value": false
                   }
                  },
                  "systemjs_options": null
                 },
                 "nodeType": "Scope",
                 "props": {},
                 "type": "node"
                }
               ],
               "instanceArgs": {
                "namespace": "html",
                "tag": "div"
               },
               "nodeType": "DOM",
               "props": {
                "className": "field interact-widget"
               },
               "type": "node"
              },
              {
               "children": [
                {
                 "children": [
                  {
                   "children": [],
                   "instanceArgs": {
                    "namespace": "html",
                    "tag": "div"
                   },
                   "nodeType": "DOM",
                   "props": {
                    "id": "container"
                   },
                   "type": "node"
                  }
                 ],
                 "instanceArgs": {
                  "handlers": {
                   "value": [
                    "(function (txt){return this.k.render(txt,this.container)})"
                   ]
                  },
                  "id": "11707340677385435333",
                  "imports": {
                   "data": [
                    {
                     "name": null,
                     "type": "js",
                     "url": "/assetserver/dd22ed1bf1896c2748f3fe616ce0b838adc895c1-katex.min.js"
                    },
                    {
                     "name": null,
                     "type": "css",
                     "url": "/assetserver/46517a424aa5e6cffc1360d7e0848b601c584ee3-katex.min.css"
                    }
                   ],
                   "type": "async_block"
                  },
                  "mount_callbacks": [
                   "function () {\n    var handler = ((function (k){this.k=k; this.container=this.dom.querySelector(\"#container\"); return k.render(\"\\\\;\\\\;\",this.container)}));\n    (WebIO.importBlock({\"data\":[{\"name\":null,\"type\":\"js\",\"url\":\"/assetserver/dd22ed1bf1896c2748f3fe616ce0b838adc895c1-katex.min.js\"},{\"name\":null,\"type\":\"css\",\"url\":\"/assetserver/46517a424aa5e6cffc1360d7e0848b601c584ee3-katex.min.css\"}],\"type\":\"async_block\"})).then((imports) => handler.apply(this, imports));\n}\n"
                  ],
                  "observables": {
                   "value": {
                    "id": "4337611500463232905",
                    "sync": false,
                    "value": "\\;\\;"
                   }
                  },
                  "systemjs_options": null
                 },
                 "nodeType": "Scope",
                 "props": {},
                 "type": "node"
                }
               ],
               "instanceArgs": {
                "namespace": "html",
                "tag": "div"
               },
               "nodeType": "DOM",
               "props": {
                "className": "interact-widget"
               },
               "type": "node"
              },
              {
               "children": [
                {
                 "children": [
                  {
                   "children": [
                    "reset"
                   ],
                   "instanceArgs": {
                    "namespace": "html",
                    "tag": "button"
                   },
                   "nodeType": "DOM",
                   "props": {
                    "attributes": {
                     "data-bind": "click: function (){this.clicks(this.clicks()+1)}, css: {'is-loading' : loading}"
                    },
                    "className": "is-medium button is-primary",
                    "style": {}
                   },
                   "type": "node"
                  }
                 ],
                 "instanceArgs": {
                  "handlers": {
                   "clicks": [
                    "(function (val){return (val!=this.model[\"clicks\"]()) ? (this.valueFromJulia[\"clicks\"]=true, this.model[\"clicks\"](val)) : undefined})"
                   ],
                   "loading": [
                    "(function (val){return (val!=this.model[\"loading\"]()) ? (this.valueFromJulia[\"loading\"]=true, this.model[\"loading\"](val)) : undefined})"
                   ]
                  },
                  "id": "16196049457643463297",
                  "imports": {
                   "data": [
                    {
                     "name": "knockout",
                     "type": "js",
                     "url": "/assetserver/727383f2a47bd31570b7da84eee7b022dd6d7c78-knockout.js"
                    },
                    {
                     "name": "knockout_punches",
                     "type": "js",
                     "url": "/assetserver/382b41b3b1bd9f26f75861d360bad7f8beea211f-knockout_punches.js"
                    },
                    {
                     "name": null,
                     "type": "js",
                     "url": "/assetserver/5ab20f1060420992a9b82a65b735dee4d81ef413-all.js"
                    },
                    {
                     "name": null,
                     "type": "css",
                     "url": "/assetserver/1cc0ed62837210b80a182cc3676512f895dab686-style.css"
                    },
                    {
                     "name": null,
                     "type": "css",
                     "url": "/assetserver/2eee816f616df3549d7044d45e744fbf8d42bfa1-bulma_confined.min.css"
                    }
                   ],
                   "type": "async_block"
                  },
                  "mount_callbacks": [
                   "function () {\n    var handler = (function (ko, koPunches) {\n    ko.punches.enableAll();\n    ko.bindingHandlers.numericValue = {\n        init: function(element, valueAccessor, allBindings, data, context) {\n            var stringified = ko.observable(ko.unwrap(valueAccessor()));\n            stringified.subscribe(function(value) {\n                var val = parseFloat(value);\n                if (!isNaN(val)) {\n                    valueAccessor()(val);\n                }\n            });\n            valueAccessor().subscribe(function(value) {\n                var str = JSON.stringify(value);\n                if ((str == \"0\") && ([\"-0\", \"-0.\"].indexOf(stringified()) >= 0))\n                     return;\n                 if ([\"null\", \"\"].indexOf(str) >= 0)\n                     return;\n                stringified(str);\n            });\n            ko.applyBindingsToNode(\n                element,\n                {\n                    value: stringified,\n                    valueUpdate: allBindings.get('valueUpdate'),\n                },\n                context,\n            );\n        }\n    };\n    var json_data = {\"loading\":WebIO.getval({\"name\":\"loading\",\"scope\":\"16196049457643463297\",\"id\":\"9231105458712155610\",\"type\":\"observable\"}),\"clicks\":WebIO.getval({\"name\":\"clicks\",\"scope\":\"16196049457643463297\",\"id\":\"7407928384920302326\",\"type\":\"observable\"})};\n    var self = this;\n    function AppViewModel() {\n        for (var key in json_data) {\n            var el = json_data[key];\n            this[key] = Array.isArray(el) ? ko.observableArray(el) : ko.observable(el);\n        }\n        \n        \n        [this[\"loading\"].subscribe((function (val){!(this.valueFromJulia[\"loading\"]) ? (WebIO.setval({\"name\":\"loading\",\"scope\":\"16196049457643463297\",\"id\":\"9231105458712155610\",\"type\":\"observable\"},val)) : undefined; return this.valueFromJulia[\"loading\"]=false}),self),this[\"clicks\"].subscribe((function (val){!(this.valueFromJulia[\"clicks\"]) ? (WebIO.setval({\"name\":\"clicks\",\"scope\":\"16196049457643463297\",\"id\":\"7407928384920302326\",\"type\":\"observable\"},val)) : undefined; return this.valueFromJulia[\"clicks\"]=false}),self)]\n        \n    }\n    self.model = new AppViewModel();\n    self.valueFromJulia = {};\n    for (var key in json_data) {\n        self.valueFromJulia[key] = false;\n    }\n    ko.applyBindings(self.model, self.dom);\n}\n);\n    (WebIO.importBlock({\"data\":[{\"name\":\"knockout\",\"type\":\"js\",\"url\":\"/assetserver/727383f2a47bd31570b7da84eee7b022dd6d7c78-knockout.js\"},{\"name\":\"knockout_punches\",\"type\":\"js\",\"url\":\"/assetserver/382b41b3b1bd9f26f75861d360bad7f8beea211f-knockout_punches.js\"}],\"type\":\"async_block\"})).then((imports) => handler.apply(this, imports));\n}\n"
                  ],
                  "observables": {
                   "clicks": {
                    "id": "7407928384920302326",
                    "sync": true,
                    "value": 0
                   },
                   "loading": {
                    "id": "9231105458712155610",
                    "sync": false,
                    "value": false
                   }
                  },
                  "systemjs_options": null
                 },
                 "nodeType": "Scope",
                 "props": {},
                 "type": "node"
                }
               ],
               "instanceArgs": {
                "namespace": "html",
                "tag": "div"
               },
               "nodeType": "DOM",
               "props": {
                "className": "field interact-widget"
               },
               "type": "node"
              },
              {
               "children": [
                {
                 "children": [
                  {
                   "children": [],
                   "instanceArgs": {
                    "namespace": "html",
                    "tag": "div"
                   },
                   "nodeType": "DOM",
                   "props": {
                    "id": "container"
                   },
                   "type": "node"
                  }
                 ],
                 "instanceArgs": {
                  "handlers": {
                   "value": [
                    "(function (txt){return this.k.render(txt,this.container)})"
                   ]
                  },
                  "id": "11707340677385435333",
                  "imports": {
                   "data": [
                    {
                     "name": null,
                     "type": "js",
                     "url": "/assetserver/dd22ed1bf1896c2748f3fe616ce0b838adc895c1-katex.min.js"
                    },
                    {
                     "name": null,
                     "type": "css",
                     "url": "/assetserver/46517a424aa5e6cffc1360d7e0848b601c584ee3-katex.min.css"
                    }
                   ],
                   "type": "async_block"
                  },
                  "mount_callbacks": [
                   "function () {\n    var handler = ((function (k){this.k=k; this.container=this.dom.querySelector(\"#container\"); return k.render(\"\\\\;\\\\;\",this.container)}));\n    (WebIO.importBlock({\"data\":[{\"name\":null,\"type\":\"js\",\"url\":\"/assetserver/dd22ed1bf1896c2748f3fe616ce0b838adc895c1-katex.min.js\"},{\"name\":null,\"type\":\"css\",\"url\":\"/assetserver/46517a424aa5e6cffc1360d7e0848b601c584ee3-katex.min.css\"}],\"type\":\"async_block\"})).then((imports) => handler.apply(this, imports));\n}\n"
                  ],
                  "observables": {
                   "value": {
                    "id": "4337611500463232905",
                    "sync": false,
                    "value": "\\;\\;"
                   }
                  },
                  "systemjs_options": null
                 },
                 "nodeType": "Scope",
                 "props": {},
                 "type": "node"
                }
               ],
               "instanceArgs": {
                "namespace": "html",
                "tag": "div"
               },
               "nodeType": "DOM",
               "props": {
                "className": "interact-widget"
               },
               "type": "node"
              },
              {
               "children": [
                {
                 "children": [
                  {
                   "children": [
                    "save"
                   ],
                   "instanceArgs": {
                    "namespace": "html",
                    "tag": "button"
                   },
                   "nodeType": "DOM",
                   "props": {
                    "attributes": {
                     "data-bind": "click: function (){this.clicks(this.clicks()+1)}, css: {'is-loading' : loading}"
                    },
                    "className": "is-medium button is-primary",
                    "style": {}
                   },
                   "type": "node"
                  }
                 ],
                 "instanceArgs": {
                  "handlers": {
                   "clicks": [
                    "(function (val){return (val!=this.model[\"clicks\"]()) ? (this.valueFromJulia[\"clicks\"]=true, this.model[\"clicks\"](val)) : undefined})"
                   ],
                   "loading": [
                    "(function (val){return (val!=this.model[\"loading\"]()) ? (this.valueFromJulia[\"loading\"]=true, this.model[\"loading\"](val)) : undefined})"
                   ]
                  },
                  "id": "8992575799879132230",
                  "imports": {
                   "data": [
                    {
                     "name": "knockout",
                     "type": "js",
                     "url": "/assetserver/727383f2a47bd31570b7da84eee7b022dd6d7c78-knockout.js"
                    },
                    {
                     "name": "knockout_punches",
                     "type": "js",
                     "url": "/assetserver/382b41b3b1bd9f26f75861d360bad7f8beea211f-knockout_punches.js"
                    },
                    {
                     "name": null,
                     "type": "js",
                     "url": "/assetserver/5ab20f1060420992a9b82a65b735dee4d81ef413-all.js"
                    },
                    {
                     "name": null,
                     "type": "css",
                     "url": "/assetserver/1cc0ed62837210b80a182cc3676512f895dab686-style.css"
                    },
                    {
                     "name": null,
                     "type": "css",
                     "url": "/assetserver/2eee816f616df3549d7044d45e744fbf8d42bfa1-bulma_confined.min.css"
                    }
                   ],
                   "type": "async_block"
                  },
                  "mount_callbacks": [
                   "function () {\n    var handler = (function (ko, koPunches) {\n    ko.punches.enableAll();\n    ko.bindingHandlers.numericValue = {\n        init: function(element, valueAccessor, allBindings, data, context) {\n            var stringified = ko.observable(ko.unwrap(valueAccessor()));\n            stringified.subscribe(function(value) {\n                var val = parseFloat(value);\n                if (!isNaN(val)) {\n                    valueAccessor()(val);\n                }\n            });\n            valueAccessor().subscribe(function(value) {\n                var str = JSON.stringify(value);\n                if ((str == \"0\") && ([\"-0\", \"-0.\"].indexOf(stringified()) >= 0))\n                     return;\n                 if ([\"null\", \"\"].indexOf(str) >= 0)\n                     return;\n                stringified(str);\n            });\n            ko.applyBindingsToNode(\n                element,\n                {\n                    value: stringified,\n                    valueUpdate: allBindings.get('valueUpdate'),\n                },\n                context,\n            );\n        }\n    };\n    var json_data = {\"loading\":WebIO.getval({\"name\":\"loading\",\"scope\":\"8992575799879132230\",\"id\":\"3341824279397370376\",\"type\":\"observable\"}),\"clicks\":WebIO.getval({\"name\":\"clicks\",\"scope\":\"8992575799879132230\",\"id\":\"12531169169877611052\",\"type\":\"observable\"})};\n    var self = this;\n    function AppViewModel() {\n        for (var key in json_data) {\n            var el = json_data[key];\n            this[key] = Array.isArray(el) ? ko.observableArray(el) : ko.observable(el);\n        }\n        \n        \n        [this[\"loading\"].subscribe((function (val){!(this.valueFromJulia[\"loading\"]) ? (WebIO.setval({\"name\":\"loading\",\"scope\":\"8992575799879132230\",\"id\":\"3341824279397370376\",\"type\":\"observable\"},val)) : undefined; return this.valueFromJulia[\"loading\"]=false}),self),this[\"clicks\"].subscribe((function (val){!(this.valueFromJulia[\"clicks\"]) ? (WebIO.setval({\"name\":\"clicks\",\"scope\":\"8992575799879132230\",\"id\":\"12531169169877611052\",\"type\":\"observable\"},val)) : undefined; return this.valueFromJulia[\"clicks\"]=false}),self)]\n        \n    }\n    self.model = new AppViewModel();\n    self.valueFromJulia = {};\n    for (var key in json_data) {\n        self.valueFromJulia[key] = false;\n    }\n    ko.applyBindings(self.model, self.dom);\n}\n);\n    (WebIO.importBlock({\"data\":[{\"name\":\"knockout\",\"type\":\"js\",\"url\":\"/assetserver/727383f2a47bd31570b7da84eee7b022dd6d7c78-knockout.js\"},{\"name\":\"knockout_punches\",\"type\":\"js\",\"url\":\"/assetserver/382b41b3b1bd9f26f75861d360bad7f8beea211f-knockout_punches.js\"}],\"type\":\"async_block\"})).then((imports) => handler.apply(this, imports));\n}\n"
                  ],
                  "observables": {
                   "clicks": {
                    "id": "12531169169877611052",
                    "sync": true,
                    "value": 0
                   },
                   "loading": {
                    "id": "3341824279397370376",
                    "sync": false,
                    "value": false
                   }
                  },
                  "systemjs_options": null
                 },
                 "nodeType": "Scope",
                 "props": {},
                 "type": "node"
                }
               ],
               "instanceArgs": {
                "namespace": "html",
                "tag": "div"
               },
               "nodeType": "DOM",
               "props": {
                "className": "field interact-widget"
               },
               "type": "node"
              }
             ],
             "instanceArgs": {
              "namespace": "html",
              "tag": "div"
             },
             "nodeType": "DOM",
             "props": {
              "style": {
               "display": "flex",
               "flex-direction": "row"
              }
             },
             "type": "node"
            }
           ],
           "instanceArgs": {
            "namespace": "html",
            "tag": "div"
           },
           "nodeType": "DOM",
           "props": {
            "style": {
             "display": "flex",
             "flex-direction": "column"
            }
           },
           "type": "node"
          },
          {
           "children": [
            {
             "children": [
              {
               "children": [],
               "instanceArgs": {
                "namespace": "html",
                "tag": "div"
               },
               "nodeType": "DOM",
               "props": {
                "id": "container"
               },
               "type": "node"
              }
             ],
             "instanceArgs": {
              "handlers": {
               "value": [
                "(function (txt){return this.k.render(txt,this.container)})"
               ]
              },
              "id": "11707340677385435333",
              "imports": {
               "data": [
                {
                 "name": null,
                 "type": "js",
                 "url": "/assetserver/dd22ed1bf1896c2748f3fe616ce0b838adc895c1-katex.min.js"
                },
                {
                 "name": null,
                 "type": "css",
                 "url": "/assetserver/46517a424aa5e6cffc1360d7e0848b601c584ee3-katex.min.css"
                }
               ],
               "type": "async_block"
              },
              "mount_callbacks": [
               "function () {\n    var handler = ((function (k){this.k=k; this.container=this.dom.querySelector(\"#container\"); return k.render(\"\\\\;\\\\;\",this.container)}));\n    (WebIO.importBlock({\"data\":[{\"name\":null,\"type\":\"js\",\"url\":\"/assetserver/dd22ed1bf1896c2748f3fe616ce0b838adc895c1-katex.min.js\"},{\"name\":null,\"type\":\"css\",\"url\":\"/assetserver/46517a424aa5e6cffc1360d7e0848b601c584ee3-katex.min.css\"}],\"type\":\"async_block\"})).then((imports) => handler.apply(this, imports));\n}\n"
              ],
              "observables": {
               "value": {
                "id": "4337611500463232905",
                "sync": false,
                "value": "\\;\\;"
               }
              },
              "systemjs_options": null
             },
             "nodeType": "Scope",
             "props": {},
             "type": "node"
            }
           ],
           "instanceArgs": {
            "namespace": "html",
            "tag": "div"
           },
           "nodeType": "DOM",
           "props": {
            "className": "interact-widget"
           },
           "type": "node"
          },
          {
           "children": [
            {
             "children": [],
             "instanceArgs": {
              "namespace": "html",
              "tag": "div"
             },
             "nodeType": "DOM",
             "props": {
              "className": "webio-observable",
              "setInnerHtml": "<img src='data:image/png;base64,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'></img>"
             },
             "type": "node"
            }
           ],
           "instanceArgs": {
            "handlers": {
             "obs-output": [
              "function (value, scope) {\n    scope.setInnerHTML(value);\n}\n"
             ]
            },
            "id": "11663498039890885194",
            "imports": {
             "data": [],
             "type": "async_block"
            },
            "mount_callbacks": [],
            "observables": {
             "obs-output": {
              "id": "10290873167022063701",
              "sync": false,
              "value": "<img src='data:image/png;base64,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'></img>"
             }
            },
            "systemjs_options": null
           },
           "nodeType": "Scope",
           "props": {},
           "type": "node"
          },
          {
           "children": [
            {
             "children": [
              {
               "children": [],
               "instanceArgs": {
                "namespace": "html",
                "tag": "div"
               },
               "nodeType": "DOM",
               "props": {
                "id": "container"
               },
               "type": "node"
              }
             ],
             "instanceArgs": {
              "handlers": {
               "value": [
                "(function (txt){return this.k.render(txt,this.container)})"
               ]
              },
              "id": "11707340677385435333",
              "imports": {
               "data": [
                {
                 "name": null,
                 "type": "js",
                 "url": "/assetserver/dd22ed1bf1896c2748f3fe616ce0b838adc895c1-katex.min.js"
                },
                {
                 "name": null,
                 "type": "css",
                 "url": "/assetserver/46517a424aa5e6cffc1360d7e0848b601c584ee3-katex.min.css"
                }
               ],
               "type": "async_block"
              },
              "mount_callbacks": [
               "function () {\n    var handler = ((function (k){this.k=k; this.container=this.dom.querySelector(\"#container\"); return k.render(\"\\\\;\\\\;\",this.container)}));\n    (WebIO.importBlock({\"data\":[{\"name\":null,\"type\":\"js\",\"url\":\"/assetserver/dd22ed1bf1896c2748f3fe616ce0b838adc895c1-katex.min.js\"},{\"name\":null,\"type\":\"css\",\"url\":\"/assetserver/46517a424aa5e6cffc1360d7e0848b601c584ee3-katex.min.css\"}],\"type\":\"async_block\"})).then((imports) => handler.apply(this, imports));\n}\n"
              ],
              "observables": {
               "value": {
                "id": "4337611500463232905",
                "sync": false,
                "value": "\\;\\;"
               }
              },
              "systemjs_options": null
             },
             "nodeType": "Scope",
             "props": {},
             "type": "node"
            }
           ],
           "instanceArgs": {
            "namespace": "html",
            "tag": "div"
           },
           "nodeType": "DOM",
           "props": {
            "className": "interact-widget"
           },
           "type": "node"
          },
          {
           "children": [],
           "instanceArgs": {
            "namespace": "html",
            "tag": "div"
           },
           "nodeType": "DOM",
           "props": {
            "style": {
             "display": "flex",
             "flex-direction": "column"
            }
           },
           "type": "node"
          }
         ],
         "instanceArgs": {
          "namespace": "html",
          "tag": "div"
         },
         "nodeType": "DOM",
         "props": {
          "style": {
           "display": "flex",
           "flex-direction": "row"
          }
         },
         "type": "node"
        }
       ],
       "instanceArgs": {
        "namespace": "html",
        "tag": "div"
       },
       "nodeType": "DOM",
       "props": {
        "style": {
         "display": "flex",
         "flex-direction": "column"
        }
       },
       "type": "node"
      },
      "text/html": [
       "<div\n",
       "    class=\"webio-mountpoint\"\n",
       "    data-webio-mountpoint=\"14282552905180132730\"\n",
       ">\n",
       "    <script>\n",
       "    (function(){\n",
       "    // Some integrations (namely, IJulia/Jupyter) use an alternate render pathway than\n",
       "    // just putting the html on the page. If WebIO isn't defined, then it's pretty likely\n",
       "    // that we're in one of those situations and the integration just isn't installed\n",
       "    // correctly.\n",
       "    if (typeof window.WebIO === \"undefined\") {\n",
       "        document\n",
       "            .querySelector('[data-webio-mountpoint=\"14282552905180132730\"]')\n",
       "            .innerHTML = (\n",
       "                '<div style=\"padding: 1em; background-color: #f8d6da; border: 1px solid #f5c6cb; font-weight: bold;\">' +\n",
       "                '<p><strong>WebIO not detected.</strong></p>' +\n",
       "                '<p>Please read ' +\n",
       "                '<a href=\"https://juliagizmos.github.io/WebIO.jl/latest/troubleshooting/not-detected/\" target=\"_blank\">the troubleshooting guide</a> ' +\n",
       "                'for more information on how to resolve this issue.</p>' +\n",
       "                '<p><a href=\"https://juliagizmos.github.io/WebIO.jl/latest/troubleshooting/not-detected/\" target=\"_blank\">https://juliagizmos.github.io/WebIO.jl/latest/troubleshooting/not-detected/</a></p>' +\n",
       "                '</div>'\n",
       "            );\n",
       "        return;\n",
       "    }\n",
       "    WebIO.mount(\n",
       "        document.querySelector('[data-webio-mountpoint=\"14282552905180132730\"]'),\n",
       "        {\"props\":{\"style\":{\"display\":\"flex\",\"flex-direction\":\"column\"}},\"nodeType\":\"DOM\",\"type\":\"node\",\"instanceArgs\":{\"namespace\":\"html\",\"tag\":\"div\"},\"children\":[{\"props\":{\"style\":{\"display\":\"flex\",\"flex-direction\":\"row\"}},\"nodeType\":\"DOM\",\"type\":\"node\",\"instanceArgs\":{\"namespace\":\"html\",\"tag\":\"div\"},\"children\":[{\"props\":{\"style\":{\"display\":\"flex\",\"flex-direction\":\"column\"}},\"nodeType\":\"DOM\",\"type\":\"node\",\"instanceArgs\":{\"namespace\":\"html\",\"tag\":\"div\"},\"children\":[{\"props\":{\"className\":\"field interact-widget\"},\"nodeType\":\"DOM\",\"type\":\"node\",\"instanceArgs\":{\"namespace\":\"html\",\"tag\":\"div\"},\"children\":[{\"props\":{},\"nodeType\":\"Scope\",\"type\":\"node\",\"instanceArgs\":{\"imports\":{\"data\":[{\"name\":\"knockout\",\"type\":\"js\",\"url\":\"\\/assetserver\\/727383f2a47bd31570b7da84eee7b022dd6d7c78-knockout.js\"},{\"name\":\"knockout_punches\",\"type\":\"js\",\"url\":\"\\/assetserver\\/382b41b3b1bd9f26f75861d360bad7f8beea211f-knockout_punches.js\"},{\"name\":null,\"type\":\"js\",\"url\":\"\\/assetserver\\/5ab20f1060420992a9b82a65b735dee4d81ef413-all.js\"},{\"name\":null,\"type\":\"css\",\"url\":\"\\/assetserver\\/1cc0ed62837210b80a182cc3676512f895dab686-style.css\"},{\"name\":null,\"type\":\"css\",\"url\":\"\\/assetserver\\/2eee816f616df3549d7044d45e744fbf8d42bfa1-bulma_confined.min.css\"}],\"type\":\"async_block\"},\"id\":\"17653855721163561022\",\"handlers\":{\"changes\":[\"(function (val){return (val!=this.model[\\\"changes\\\"]()) ? (this.valueFromJulia[\\\"changes\\\"]=true, this.model[\\\"changes\\\"](val)) : undefined})\"],\"index\":[\"(function (val){return (val!=this.model[\\\"index\\\"]()) ? (this.valueFromJulia[\\\"index\\\"]=true, this.model[\\\"index\\\"](val)) : undefined})\"]},\"systemjs_options\":null,\"mount_callbacks\":[\"function () {\\n    var handler = (function (ko, koPunches) {\\n    ko.punches.enableAll();\\n    ko.bindingHandlers.numericValue = {\\n        init: function(element, valueAccessor, allBindings, data, context) {\\n            var stringified = ko.observable(ko.unwrap(valueAccessor()));\\n            stringified.subscribe(function(value) {\\n                var val = parseFloat(value);\\n                if (!isNaN(val)) {\\n                    valueAccessor()(val);\\n                }\\n            });\\n            valueAccessor().subscribe(function(value) {\\n                var str = JSON.stringify(value);\\n                if ((str == \\\"0\\\") && ([\\\"-0\\\", \\\"-0.\\\"].indexOf(stringified()) >= 0))\\n                     return;\\n                 if ([\\\"null\\\", \\\"\\\"].indexOf(str) >= 0)\\n                     return;\\n                stringified(str);\\n            });\\n            ko.applyBindingsToNode(\\n                element,\\n                {\\n                    value: stringified,\\n                    valueUpdate: allBindings.get('valueUpdate'),\\n                },\\n                context,\\n            );\\n        }\\n    };\\n    var json_data = {\\\"formatted_vals\\\":[\\\"1\\\",\\\"2\\\",\\\"3\\\",\\\"4\\\",\\\"5\\\",\\\"6\\\",\\\"7\\\",\\\"8\\\",\\\"9\\\",\\\"10\\\",\\\"11\\\",\\\"12\\\",\\\"13\\\",\\\"14\\\",\\\"15\\\",\\\"16\\\",\\\"17\\\",\\\"18\\\",\\\"19\\\",\\\"20\\\",\\\"21\\\",\\\"22\\\",\\\"23\\\",\\\"24\\\",\\\"25\\\",\\\"26\\\",\\\"27\\\",\\\"28\\\",\\\"29\\\",\\\"30\\\",\\\"31\\\",\\\"32\\\",\\\"33\\\",\\\"34\\\",\\\"35\\\",\\\"36\\\",\\\"37\\\",\\\"38\\\",\\\"39\\\",\\\"40\\\",\\\"41\\\",\\\"42\\\",\\\"43\\\",\\\"44\\\",\\\"45\\\",\\\"46\\\",\\\"47\\\",\\\"48\\\",\\\"49\\\",\\\"50\\\",\\\"51\\\",\\\"52\\\",\\\"53\\\",\\\"54\\\",\\\"55\\\",\\\"56\\\",\\\"57\\\",\\\"58\\\",\\\"59\\\",\\\"60\\\",\\\"61\\\",\\\"62\\\",\\\"63\\\",\\\"64\\\",\\\"65\\\",\\\"66\\\",\\\"67\\\",\\\"68\\\",\\\"69\\\",\\\"70\\\",\\\"71\\\",\\\"72\\\",\\\"73\\\",\\\"74\\\",\\\"75\\\",\\\"76\\\",\\\"77\\\",\\\"78\\\",\\\"79\\\",\\\"80\\\",\\\"81\\\",\\\"82\\\",\\\"83\\\",\\\"84\\\",\\\"85\\\",\\\"86\\\",\\\"87\\\",\\\"88\\\",\\\"89\\\",\\\"90\\\",\\\"91\\\",\\\"92\\\",\\\"93\\\",\\\"94\\\",\\\"95\\\",\\\"96\\\",\\\"97\\\",\\\"98\\\",\\\"99\\\",\\\"100\\\",\\\"101\\\",\\\"102\\\",\\\"103\\\",\\\"104\\\",\\\"105\\\",\\\"106\\\",\\\"107\\\",\\\"108\\\",\\\"109\\\",\\\"110\\\",\\\"111\\\",\\\"112\\\",\\\"113\\\",\\\"114\\\",\\\"115\\\",\\\"116\\\",\\\"117\\\",\\\"118\\\",\\\"119\\\",\\\"120\\\",\\\"121\\\",\\\"122\\\",\\\"123\\\",\\\"124\\\",\\\"125\\\",\\\"126\\\",\\\"127\\\",\\\"128\\\",\\\"129\\\",\\\"130\\\",\\\"131\\\",\\\"132\\\",\\\"133\\\",\\\"134\\\",\\\"135\\\",\\\"136\\\",\\\"137\\\",\\\"138\\\",\\\"139\\\",\\\"140\\\",\\\"141\\\",\\\"142\\\",\\\"143\\\",\\\"144\\\",\\\"145\\\",\\\"146\\\",\\\"147\\\",\\\"148\\\",\\\"149\\\",\\\"150\\\",\\\"151\\\",\\\"152\\\",\\\"153\\\",\\\"154\\\",\\\"155\\\",\\\"156\\\",\\\"157\\\",\\\"158\\\",\\\"159\\\",\\\"160\\\",\\\"161\\\",\\\"162\\\",\\\"163\\\",\\\"164\\\",\\\"165\\\",\\\"166\\\",\\\"167\\\",\\\"168\\\",\\\"169\\\",\\\"170\\\",\\\"171\\\",\\\"172\\\",\\\"173\\\",\\\"174\\\",\\\"175\\\",\\\"176\\\",\\\"177\\\",\\\"178\\\",\\\"179\\\",\\\"180\\\",\\\"181\\\",\\\"182\\\",\\\"183\\\",\\\"184\\\",\\\"185\\\",\\\"186\\\",\\\"187\\\",\\\"188\\\",\\\"189\\\",\\\"190\\\",\\\"191\\\",\\\"192\\\",\\\"193\\\",\\\"194\\\",\\\"195\\\",\\\"196\\\",\\\"197\\\",\\\"198\\\",\\\"199\\\",\\\"200\\\"],\\\"changes\\\":WebIO.getval({\\\"name\\\":\\\"changes\\\",\\\"scope\\\":\\\"17653855721163561022\\\",\\\"id\\\":\\\"4184109925903621321\\\",\\\"type\\\":\\\"observable\\\"}),\\\"index\\\":WebIO.getval({\\\"name\\\":\\\"index\\\",\\\"scope\\\":\\\"17653855721163561022\\\",\\\"id\\\":\\\"156966682548846287\\\",\\\"type\\\":\\\"observable\\\"})};\\n    var self = this;\\n    function AppViewModel() {\\n        for (var key in json_data) {\\n            var el = json_data[key];\\n            this[key] = Array.isArray(el) ? ko.observableArray(el) : ko.observable(el);\\n        }\\n        \\n        [this[\\\"formatted_val\\\"]=ko.computed(    function(){\\n        return this.formatted_vals()[parseInt(this.index())-(1)];\\n    }\\n,this)]\\n        [this[\\\"changes\\\"].subscribe((function (val){!(this.valueFromJulia[\\\"changes\\\"]) ? (WebIO.setval({\\\"name\\\":\\\"changes\\\",\\\"scope\\\":\\\"17653855721163561022\\\",\\\"id\\\":\\\"4184109925903621321\\\",\\\"type\\\":\\\"observable\\\"},val)) : undefined; return this.valueFromJulia[\\\"changes\\\"]=false}),self),this[\\\"index\\\"].subscribe((function (val){!(this.valueFromJulia[\\\"index\\\"]) ? (WebIO.setval({\\\"name\\\":\\\"index\\\",\\\"scope\\\":\\\"17653855721163561022\\\",\\\"id\\\":\\\"156966682548846287\\\",\\\"type\\\":\\\"observable\\\"},val)) : undefined; return this.valueFromJulia[\\\"index\\\"]=false}),self)]\\n        \\n    }\\n    self.model = new AppViewModel();\\n    self.valueFromJulia = {};\\n    for (var key in json_data) {\\n        self.valueFromJulia[key] = false;\\n    }\\n    ko.applyBindings(self.model, self.dom);\\n}\\n);\\n    (WebIO.importBlock({\\\"data\\\":[{\\\"name\\\":\\\"knockout\\\",\\\"type\\\":\\\"js\\\",\\\"url\\\":\\\"\\/assetserver\\/727383f2a47bd31570b7da84eee7b022dd6d7c78-knockout.js\\\"},{\\\"name\\\":\\\"knockout_punches\\\",\\\"type\\\":\\\"js\\\",\\\"url\\\":\\\"\\/assetserver\\/382b41b3b1bd9f26f75861d360bad7f8beea211f-knockout_punches.js\\\"}],\\\"type\\\":\\\"async_block\\\"})).then((imports) => handler.apply(this, imports));\\n}\\n\"],\"observables\":{\"changes\":{\"sync\":false,\"id\":\"4184109925903621321\",\"value\":0},\"index\":{\"sync\":true,\"id\":\"156966682548846287\",\"value\":1}}},\"children\":[{\"props\":{\"className\":\"interact-flex-row interact-widget\"},\"nodeType\":\"DOM\",\"type\":\"node\",\"instanceArgs\":{\"namespace\":\"html\",\"tag\":\"div\"},\"children\":[{\"props\":{\"className\":\"interact-flex-row-left\"},\"nodeType\":\"DOM\",\"type\":\"node\",\"instanceArgs\":{\"namespace\":\"html\",\"tag\":\"div\"},\"children\":[{\"props\":{\"className\":\"interact \",\"style\":{\"padding\":\"5px 10px 0px 10px\"}},\"nodeType\":\"DOM\",\"type\":\"node\",\"instanceArgs\":{\"namespace\":\"html\",\"tag\":\"label\"},\"children\":[\"time\"]}]},{\"props\":{\"className\":\"interact-flex-row-center\"},\"nodeType\":\"DOM\",\"type\":\"node\",\"instanceArgs\":{\"namespace\":\"html\",\"tag\":\"div\"},\"children\":[{\"props\":{\"max\":200,\"min\":1,\"attributes\":{\"type\":\"range\",\"data-bind\":\"numericValue: index, valueUpdate: 'input', event: {change: function (){this.changes(this.changes()+1)}}\",\"orient\":\"horizontal\"},\"step\":1,\"className\":\"slider slider is-fullwidth\",\"style\":{}},\"nodeType\":\"DOM\",\"type\":\"node\",\"instanceArgs\":{\"namespace\":\"html\",\"tag\":\"input\"},\"children\":[]}]},{\"props\":{\"className\":\"interact-flex-row-right\"},\"nodeType\":\"DOM\",\"type\":\"node\",\"instanceArgs\":{\"namespace\":\"html\",\"tag\":\"div\"},\"children\":[{\"props\":{\"attributes\":{\"data-bind\":\"text: formatted_val\"}},\"nodeType\":\"DOM\",\"type\":\"node\",\"instanceArgs\":{\"namespace\":\"html\",\"tag\":\"p\"},\"children\":[]}]}]}]}]},{\"props\":{\"className\":\"field interact-widget\"},\"nodeType\":\"DOM\",\"type\":\"node\",\"instanceArgs\":{\"namespace\":\"html\",\"tag\":\"div\"},\"children\":[{\"props\":{},\"nodeType\":\"Scope\",\"type\":\"node\",\"instanceArgs\":{\"imports\":{\"data\":[{\"name\":\"knockout\",\"type\":\"js\",\"url\":\"\\/assetserver\\/727383f2a47bd31570b7da84eee7b022dd6d7c78-knockout.js\"},{\"name\":\"knockout_punches\",\"type\":\"js\",\"url\":\"\\/assetserver\\/382b41b3b1bd9f26f75861d360bad7f8beea211f-knockout_punches.js\"},{\"name\":null,\"type\":\"js\",\"url\":\"\\/assetserver\\/5ab20f1060420992a9b82a65b735dee4d81ef413-all.js\"},{\"name\":null,\"type\":\"css\",\"url\":\"\\/assetserver\\/1cc0ed62837210b80a182cc3676512f895dab686-style.css\"},{\"name\":null,\"type\":\"css\",\"url\":\"\\/assetserver\\/2eee816f616df3549d7044d45e744fbf8d42bfa1-bulma_confined.min.css\"}],\"type\":\"async_block\"},\"id\":\"16787435809986244967\",\"handlers\":{\"changes\":[\"(function (val){return (val!=this.model[\\\"changes\\\"]()) ? (this.valueFromJulia[\\\"changes\\\"]=true, this.model[\\\"changes\\\"](val)) : undefined})\"],\"index\":[\"(function (val){return (val!=this.model[\\\"index\\\"]()) ? (this.valueFromJulia[\\\"index\\\"]=true, this.model[\\\"index\\\"](val)) : undefined})\"]},\"systemjs_options\":null,\"mount_callbacks\":[\"function () {\\n    var handler = (function (ko, koPunches) {\\n    ko.punches.enableAll();\\n    ko.bindingHandlers.numericValue = {\\n        init: function(element, valueAccessor, allBindings, data, context) {\\n            var stringified = ko.observable(ko.unwrap(valueAccessor()));\\n            stringified.subscribe(function(value) {\\n                var val = parseFloat(value);\\n                if (!isNaN(val)) {\\n                    valueAccessor()(val);\\n                }\\n            });\\n            valueAccessor().subscribe(function(value) {\\n                var str = JSON.stringify(value);\\n                if ((str == \\\"0\\\") && ([\\\"-0\\\", \\\"-0.\\\"].indexOf(stringified()) >= 0))\\n                     return;\\n                 if ([\\\"null\\\", \\\"\\\"].indexOf(str) >= 0)\\n                     return;\\n                stringified(str);\\n            });\\n            ko.applyBindingsToNode(\\n                element,\\n                {\\n                    value: stringified,\\n                    valueUpdate: allBindings.get('valueUpdate'),\\n                },\\n                context,\\n            );\\n        }\\n    };\\n    var json_data = {\\\"formatted_vals\\\":[\\\"0.1\\\",\\\"0.2\\\",\\\"0.3\\\",\\\"0.4\\\",\\\"0.5\\\",\\\"0.6\\\",\\\"0.7\\\",\\\"0.8\\\",\\\"0.9\\\",\\\"1.0\\\",\\\"1.1\\\",\\\"1.2\\\",\\\"1.3\\\",\\\"1.4\\\",\\\"1.5\\\",\\\"1.6\\\",\\\"1.7\\\",\\\"1.8\\\",\\\"1.9\\\",\\\"2.0\\\"],\\\"changes\\\":WebIO.getval({\\\"name\\\":\\\"changes\\\",\\\"scope\\\":\\\"16787435809986244967\\\",\\\"id\\\":\\\"2858633279866112160\\\",\\\"type\\\":\\\"observable\\\"}),\\\"index\\\":WebIO.getval({\\\"name\\\":\\\"index\\\",\\\"scope\\\":\\\"16787435809986244967\\\",\\\"id\\\":\\\"1145686618606966017\\\",\\\"type\\\":\\\"observable\\\"})};\\n    var self = this;\\n    function AppViewModel() {\\n        for (var key in json_data) {\\n            var el = json_data[key];\\n            this[key] = Array.isArray(el) ? ko.observableArray(el) : ko.observable(el);\\n        }\\n        \\n        [this[\\\"formatted_val\\\"]=ko.computed(    function(){\\n        return this.formatted_vals()[parseInt(this.index())-(1)];\\n    }\\n,this)]\\n        [this[\\\"changes\\\"].subscribe((function (val){!(this.valueFromJulia[\\\"changes\\\"]) ? (WebIO.setval({\\\"name\\\":\\\"changes\\\",\\\"scope\\\":\\\"16787435809986244967\\\",\\\"id\\\":\\\"2858633279866112160\\\",\\\"type\\\":\\\"observable\\\"},val)) : undefined; return this.valueFromJulia[\\\"changes\\\"]=false}),self),this[\\\"index\\\"].subscribe((function (val){!(this.valueFromJulia[\\\"index\\\"]) ? (WebIO.setval({\\\"name\\\":\\\"index\\\",\\\"scope\\\":\\\"16787435809986244967\\\",\\\"id\\\":\\\"1145686618606966017\\\",\\\"type\\\":\\\"observable\\\"},val)) : undefined; return this.valueFromJulia[\\\"index\\\"]=false}),self)]\\n        \\n    }\\n    self.model = new AppViewModel();\\n    self.valueFromJulia = {};\\n    for (var key in json_data) {\\n        self.valueFromJulia[key] = false;\\n    }\\n    ko.applyBindings(self.model, self.dom);\\n}\\n);\\n    (WebIO.importBlock({\\\"data\\\":[{\\\"name\\\":\\\"knockout\\\",\\\"type\\\":\\\"js\\\",\\\"url\\\":\\\"\\/assetserver\\/727383f2a47bd31570b7da84eee7b022dd6d7c78-knockout.js\\\"},{\\\"name\\\":\\\"knockout_punches\\\",\\\"type\\\":\\\"js\\\",\\\"url\\\":\\\"\\/assetserver\\/382b41b3b1bd9f26f75861d360bad7f8beea211f-knockout_punches.js\\\"}],\\\"type\\\":\\\"async_block\\\"})).then((imports) => handler.apply(this, imports));\\n}\\n\"],\"observables\":{\"changes\":{\"sync\":false,\"id\":\"2858633279866112160\",\"value\":0},\"index\":{\"sync\":true,\"id\":\"1145686618606966017\",\"value\":10}}},\"children\":[{\"props\":{\"className\":\"interact-flex-row interact-widget\"},\"nodeType\":\"DOM\",\"type\":\"node\",\"instanceArgs\":{\"namespace\":\"html\",\"tag\":\"div\"},\"children\":[{\"props\":{\"className\":\"interact-flex-row-left\"},\"nodeType\":\"DOM\",\"type\":\"node\",\"instanceArgs\":{\"namespace\":\"html\",\"tag\":\"div\"},\"children\":[{\"props\":{\"className\":\"interact \",\"style\":{\"padding\":\"5px 10px 0px 10px\"}},\"nodeType\":\"DOM\",\"type\":\"node\",\"instanceArgs\":{\"namespace\":\"html\",\"tag\":\"label\"},\"children\":[\"scale\"]}]},{\"props\":{\"className\":\"interact-flex-row-center\"},\"nodeType\":\"DOM\",\"type\":\"node\",\"instanceArgs\":{\"namespace\":\"html\",\"tag\":\"div\"},\"children\":[{\"props\":{\"max\":20,\"min\":1,\"attributes\":{\"type\":\"range\",\"data-bind\":\"numericValue: index, valueUpdate: 'input', event: {change: function (){this.changes(this.changes()+1)}}\",\"orient\":\"horizontal\"},\"step\":1,\"className\":\"slider slider is-fullwidth\",\"style\":{}},\"nodeType\":\"DOM\",\"type\":\"node\",\"instanceArgs\":{\"namespace\":\"html\",\"tag\":\"input\"},\"children\":[]}]},{\"props\":{\"className\":\"interact-flex-row-right\"},\"nodeType\":\"DOM\",\"type\":\"node\",\"instanceArgs\":{\"namespace\":\"html\",\"tag\":\"div\"},\"children\":[{\"props\":{\"attributes\":{\"data-bind\":\"text: formatted_val\"}},\"nodeType\":\"DOM\",\"type\":\"node\",\"instanceArgs\":{\"namespace\":\"html\",\"tag\":\"p\"},\"children\":[]}]}]}]}]},{\"props\":{\"style\":{\"display\":\"flex\",\"flex-direction\":\"column\"}},\"nodeType\":\"DOM\",\"type\":\"node\",\"instanceArgs\":{\"namespace\":\"html\",\"tag\":\"div\"},\"children\":[]},{\"props\":{\"style\":{\"display\":\"flex\",\"flex-direction\":\"column\"}},\"nodeType\":\"DOM\",\"type\":\"node\",\"instanceArgs\":{\"namespace\":\"html\",\"tag\":\"div\"},\"children\":[{\"props\":{\"className\":\"field interact-widget\"},\"nodeType\":\"DOM\",\"type\":\"node\",\"instanceArgs\":{\"namespace\":\"html\",\"tag\":\"div\"},\"children\":[{\"props\":{},\"nodeType\":\"Scope\",\"type\":\"node\",\"instanceArgs\":{\"imports\":{\"data\":[{\"name\":\"knockout\",\"type\":\"js\",\"url\":\"\\/assetserver\\/727383f2a47bd31570b7da84eee7b022dd6d7c78-knockout.js\"},{\"name\":\"knockout_punches\",\"type\":\"js\",\"url\":\"\\/assetserver\\/382b41b3b1bd9f26f75861d360bad7f8beea211f-knockout_punches.js\"},{\"name\":null,\"type\":\"js\",\"url\":\"\\/assetserver\\/5ab20f1060420992a9b82a65b735dee4d81ef413-all.js\"},{\"name\":null,\"type\":\"css\",\"url\":\"\\/assetserver\\/1cc0ed62837210b80a182cc3676512f895dab686-style.css\"},{\"name\":null,\"type\":\"css\",\"url\":\"\\/assetserver\\/2eee816f616df3549d7044d45e744fbf8d42bfa1-bulma_confined.min.css\"}],\"type\":\"async_block\"},\"id\":\"17937667682054112389\",\"handlers\":{\"changes\":[\"(function (val){return (val!=this.model[\\\"changes\\\"]()) ? (this.valueFromJulia[\\\"changes\\\"]=true, this.model[\\\"changes\\\"](val)) : undefined})\"],\"index\":[\"(function (val){return (val!=this.model[\\\"index\\\"]()) ? (this.valueFromJulia[\\\"index\\\"]=true, this.model[\\\"index\\\"](val)) : undefined})\"]},\"systemjs_options\":null,\"mount_callbacks\":[\"function () {\\n    var handler = (function (ko, koPunches) {\\n    ko.punches.enableAll();\\n    ko.bindingHandlers.numericValue = {\\n        init: function(element, valueAccessor, allBindings, data, context) {\\n            var stringified = ko.observable(ko.unwrap(valueAccessor()));\\n            stringified.subscribe(function(value) {\\n                var val = parseFloat(value);\\n                if (!isNaN(val)) {\\n                    valueAccessor()(val);\\n                }\\n            });\\n            valueAccessor().subscribe(function(value) {\\n                var str = JSON.stringify(value);\\n                if ((str == \\\"0\\\") && ([\\\"-0\\\", \\\"-0.\\\"].indexOf(stringified()) >= 0))\\n                     return;\\n                 if ([\\\"null\\\", \\\"\\\"].indexOf(str) >= 0)\\n                     return;\\n                stringified(str);\\n            });\\n            ko.applyBindingsToNode(\\n                element,\\n                {\\n                    value: stringified,\\n                    valueUpdate: allBindings.get('valueUpdate'),\\n                },\\n                context,\\n            );\\n        }\\n    };\\n    var json_data = {\\\"formatted_vals\\\":[\\\"0.0\\\",\\\"0.01\\\",\\\"0.02\\\",\\\"0.03\\\",\\\"0.04\\\",\\\"0.05\\\",\\\"0.06\\\",\\\"0.07\\\",\\\"0.08\\\",\\\"0.09\\\",\\\"0.1\\\",\\\"0.11\\\",\\\"0.12\\\",\\\"0.13\\\",\\\"0.14\\\",\\\"0.15\\\",\\\"0.16\\\",\\\"0.17\\\",\\\"0.18\\\",\\\"0.19\\\",\\\"0.2\\\",\\\"0.21\\\",\\\"0.22\\\",\\\"0.23\\\",\\\"0.24\\\",\\\"0.25\\\",\\\"0.26\\\",\\\"0.27\\\",\\\"0.28\\\",\\\"0.29\\\",\\\"0.3\\\",\\\"0.31\\\",\\\"0.32\\\",\\\"0.33\\\",\\\"0.34\\\",\\\"0.35\\\",\\\"0.36\\\",\\\"0.37\\\",\\\"0.38\\\",\\\"0.39\\\",\\\"0.4\\\",\\\"0.41\\\",\\\"0.42\\\",\\\"0.43\\\",\\\"0.44\\\",\\\"0.45\\\",\\\"0.46\\\",\\\"0.47\\\",\\\"0.48\\\",\\\"0.49\\\",\\\"0.5\\\",\\\"0.51\\\",\\\"0.52\\\",\\\"0.53\\\",\\\"0.54\\\",\\\"0.55\\\",\\\"0.56\\\",\\\"0.57\\\",\\\"0.58\\\",\\\"0.59\\\",\\\"0.6\\\",\\\"0.61\\\",\\\"0.62\\\",\\\"0.63\\\",\\\"0.64\\\",\\\"0.65\\\",\\\"0.66\\\",\\\"0.67\\\",\\\"0.68\\\",\\\"0.69\\\",\\\"0.7\\\",\\\"0.71\\\",\\\"0.72\\\",\\\"0.73\\\",\\\"0.74\\\",\\\"0.75\\\",\\\"0.76\\\",\\\"0.77\\\",\\\"0.78\\\",\\\"0.79\\\",\\\"0.8\\\",\\\"0.81\\\",\\\"0.82\\\",\\\"0.83\\\",\\\"0.84\\\",\\\"0.85\\\",\\\"0.86\\\",\\\"0.87\\\",\\\"0.88\\\",\\\"0.89\\\",\\\"0.9\\\",\\\"0.91\\\",\\\"0.92\\\",\\\"0.93\\\",\\\"0.94\\\",\\\"0.95\\\",\\\"0.96\\\",\\\"0.97\\\",\\\"0.98\\\",\\\"0.99\\\",\\\"1.0\\\"],\\\"changes\\\":WebIO.getval({\\\"name\\\":\\\"changes\\\",\\\"scope\\\":\\\"17937667682054112389\\\",\\\"id\\\":\\\"6782760257242168347\\\",\\\"type\\\":\\\"observable\\\"}),\\\"index\\\":WebIO.getval({\\\"name\\\":\\\"index\\\",\\\"scope\\\":\\\"17937667682054112389\\\",\\\"id\\\":\\\"7676206220077387296\\\",\\\"type\\\":\\\"observable\\\"})};\\n    var self = this;\\n    function AppViewModel() {\\n        for (var key in json_data) {\\n            var el = json_data[key];\\n            this[key] = Array.isArray(el) ? ko.observableArray(el) : ko.observable(el);\\n        }\\n        \\n        [this[\\\"formatted_val\\\"]=ko.computed(    function(){\\n        return this.formatted_vals()[parseInt(this.index())-(1)];\\n    }\\n,this)]\\n        [this[\\\"changes\\\"].subscribe((function (val){!(this.valueFromJulia[\\\"changes\\\"]) ? (WebIO.setval({\\\"name\\\":\\\"changes\\\",\\\"scope\\\":\\\"17937667682054112389\\\",\\\"id\\\":\\\"6782760257242168347\\\",\\\"type\\\":\\\"observable\\\"},val)) : undefined; return this.valueFromJulia[\\\"changes\\\"]=false}),self),this[\\\"index\\\"].subscribe((function (val){!(this.valueFromJulia[\\\"index\\\"]) ? (WebIO.setval({\\\"name\\\":\\\"index\\\",\\\"scope\\\":\\\"17937667682054112389\\\",\\\"id\\\":\\\"7676206220077387296\\\",\\\"type\\\":\\\"observable\\\"},val)) : undefined; return this.valueFromJulia[\\\"index\\\"]=false}),self)]\\n        \\n    }\\n    self.model = new AppViewModel();\\n    self.valueFromJulia = {};\\n    for (var key in json_data) {\\n        self.valueFromJulia[key] = false;\\n    }\\n    ko.applyBindings(self.model, self.dom);\\n}\\n);\\n    (WebIO.importBlock({\\\"data\\\":[{\\\"name\\\":\\\"knockout\\\",\\\"type\\\":\\\"js\\\",\\\"url\\\":\\\"\\/assetserver\\/727383f2a47bd31570b7da84eee7b022dd6d7c78-knockout.js\\\"},{\\\"name\\\":\\\"knockout_punches\\\",\\\"type\\\":\\\"js\\\",\\\"url\\\":\\\"\\/assetserver\\/382b41b3b1bd9f26f75861d360bad7f8beea211f-knockout_punches.js\\\"}],\\\"type\\\":\\\"async_block\\\"})).then((imports) => handler.apply(this, imports));\\n}\\n\"],\"observables\":{\"changes\":{\"sync\":false,\"id\":\"6782760257242168347\",\"value\":0},\"index\":{\"sync\":true,\"id\":\"7676206220077387296\",\"value\":51}}},\"children\":[{\"props\":{\"className\":\"interact-flex-row interact-widget\"},\"nodeType\":\"DOM\",\"type\":\"node\",\"instanceArgs\":{\"namespace\":\"html\",\"tag\":\"div\"},\"children\":[{\"props\":{\"className\":\"interact-flex-row-left\"},\"nodeType\":\"DOM\",\"type\":\"node\",\"instanceArgs\":{\"namespace\":\"html\",\"tag\":\"div\"},\"children\":[{\"props\":{\"className\":\"interact \",\"style\":{\"padding\":\"5px 10px 0px 10px\"}},\"nodeType\":\"DOM\",\"type\":\"node\",\"instanceArgs\":{\"namespace\":\"html\",\"tag\":\"label\"},\"children\":[\"alive_percent\"]}]},{\"props\":{\"className\":\"interact-flex-row-center\"},\"nodeType\":\"DOM\",\"type\":\"node\",\"instanceArgs\":{\"namespace\":\"html\",\"tag\":\"div\"},\"children\":[{\"props\":{\"max\":101,\"min\":1,\"attributes\":{\"type\":\"range\",\"data-bind\":\"numericValue: index, valueUpdate: 'input', event: {change: function (){this.changes(this.changes()+1)}}\",\"orient\":\"horizontal\"},\"step\":1,\"className\":\"slider slider is-fullwidth\",\"style\":{}},\"nodeType\":\"DOM\",\"type\":\"node\",\"instanceArgs\":{\"namespace\":\"html\",\"tag\":\"input\"},\"children\":[]}]},{\"props\":{\"className\":\"interact-flex-row-right\"},\"nodeType\":\"DOM\",\"type\":\"node\",\"instanceArgs\":{\"namespace\":\"html\",\"tag\":\"div\"},\"children\":[{\"props\":{\"attributes\":{\"data-bind\":\"text: formatted_val\"}},\"nodeType\":\"DOM\",\"type\":\"node\",\"instanceArgs\":{\"namespace\":\"html\",\"tag\":\"p\"},\"children\":[]}]}]}]}]}]},{\"props\":{\"style\":{\"display\":\"flex\",\"flex-direction\":\"row\"}},\"nodeType\":\"DOM\",\"type\":\"node\",\"instanceArgs\":{\"namespace\":\"html\",\"tag\":\"div\"},\"children\":[{\"props\":{\"className\":\"interact-widget\"},\"nodeType\":\"DOM\",\"type\":\"node\",\"instanceArgs\":{\"namespace\":\"html\",\"tag\":\"div\"},\"children\":[{\"props\":{},\"nodeType\":\"Scope\",\"type\":\"node\",\"instanceArgs\":{\"imports\":{\"data\":[{\"name\":null,\"type\":\"js\",\"url\":\"\\/assetserver\\/dd22ed1bf1896c2748f3fe616ce0b838adc895c1-katex.min.js\"},{\"name\":null,\"type\":\"css\",\"url\":\"\\/assetserver\\/46517a424aa5e6cffc1360d7e0848b601c584ee3-katex.min.css\"}],\"type\":\"async_block\"},\"id\":\"11707340677385435333\",\"handlers\":{\"value\":[\"(function (txt){return this.k.render(txt,this.container)})\"]},\"systemjs_options\":null,\"mount_callbacks\":[\"function () {\\n    var handler = ((function (k){this.k=k; this.container=this.dom.querySelector(\\\"#container\\\"); return k.render(\\\"\\\\\\\\;\\\\\\\\;\\\",this.container)}));\\n    (WebIO.importBlock({\\\"data\\\":[{\\\"name\\\":null,\\\"type\\\":\\\"js\\\",\\\"url\\\":\\\"\\/assetserver\\/dd22ed1bf1896c2748f3fe616ce0b838adc895c1-katex.min.js\\\"},{\\\"name\\\":null,\\\"type\\\":\\\"css\\\",\\\"url\\\":\\\"\\/assetserver\\/46517a424aa5e6cffc1360d7e0848b601c584ee3-katex.min.css\\\"}],\\\"type\\\":\\\"async_block\\\"})).then((imports) => handler.apply(this, imports));\\n}\\n\"],\"observables\":{\"value\":{\"sync\":false,\"id\":\"4337611500463232905\",\"value\":\"\\\\;\\\\;\"}}},\"children\":[{\"props\":{\"id\":\"container\"},\"nodeType\":\"DOM\",\"type\":\"node\",\"instanceArgs\":{\"namespace\":\"html\",\"tag\":\"div\"},\"children\":[]}]}]},{\"props\":{\"className\":\"field interact-widget\"},\"nodeType\":\"DOM\",\"type\":\"node\",\"instanceArgs\":{\"namespace\":\"html\",\"tag\":\"div\"},\"children\":[{\"props\":{},\"nodeType\":\"Scope\",\"type\":\"node\",\"instanceArgs\":{\"imports\":{\"data\":[{\"name\":\"knockout\",\"type\":\"js\",\"url\":\"\\/assetserver\\/727383f2a47bd31570b7da84eee7b022dd6d7c78-knockout.js\"},{\"name\":\"knockout_punches\",\"type\":\"js\",\"url\":\"\\/assetserver\\/382b41b3b1bd9f26f75861d360bad7f8beea211f-knockout_punches.js\"},{\"name\":null,\"type\":\"js\",\"url\":\"\\/assetserver\\/5ab20f1060420992a9b82a65b735dee4d81ef413-all.js\"},{\"name\":null,\"type\":\"css\",\"url\":\"\\/assetserver\\/1cc0ed62837210b80a182cc3676512f895dab686-style.css\"},{\"name\":null,\"type\":\"css\",\"url\":\"\\/assetserver\\/2eee816f616df3549d7044d45e744fbf8d42bfa1-bulma_confined.min.css\"}],\"type\":\"async_block\"},\"id\":\"7856102146880889326\",\"handlers\":{\"loading\":[\"(function (val){return (val!=this.model[\\\"loading\\\"]()) ? (this.valueFromJulia[\\\"loading\\\"]=true, this.model[\\\"loading\\\"](val)) : undefined})\"],\"clicks\":[\"(function (val){return (val!=this.model[\\\"clicks\\\"]()) ? (this.valueFromJulia[\\\"clicks\\\"]=true, this.model[\\\"clicks\\\"](val)) : undefined})\"]},\"systemjs_options\":null,\"mount_callbacks\":[\"function () {\\n    var handler = (function (ko, koPunches) {\\n    ko.punches.enableAll();\\n    ko.bindingHandlers.numericValue = {\\n        init: function(element, valueAccessor, allBindings, data, context) {\\n            var stringified = ko.observable(ko.unwrap(valueAccessor()));\\n            stringified.subscribe(function(value) {\\n                var val = parseFloat(value);\\n                if (!isNaN(val)) {\\n                    valueAccessor()(val);\\n                }\\n            });\\n            valueAccessor().subscribe(function(value) {\\n                var str = JSON.stringify(value);\\n                if ((str == \\\"0\\\") && ([\\\"-0\\\", \\\"-0.\\\"].indexOf(stringified()) >= 0))\\n                     return;\\n                 if ([\\\"null\\\", \\\"\\\"].indexOf(str) >= 0)\\n                     return;\\n                stringified(str);\\n            });\\n            ko.applyBindingsToNode(\\n                element,\\n                {\\n                    value: stringified,\\n                    valueUpdate: allBindings.get('valueUpdate'),\\n                },\\n                context,\\n            );\\n        }\\n    };\\n    var json_data = {\\\"loading\\\":WebIO.getval({\\\"name\\\":\\\"loading\\\",\\\"scope\\\":\\\"7856102146880889326\\\",\\\"id\\\":\\\"7510031881806389873\\\",\\\"type\\\":\\\"observable\\\"}),\\\"clicks\\\":WebIO.getval({\\\"name\\\":\\\"clicks\\\",\\\"scope\\\":\\\"7856102146880889326\\\",\\\"id\\\":\\\"11675374771607529071\\\",\\\"type\\\":\\\"observable\\\"})};\\n    var self = this;\\n    function AppViewModel() {\\n        for (var key in json_data) {\\n            var el = json_data[key];\\n            this[key] = Array.isArray(el) ? ko.observableArray(el) : ko.observable(el);\\n        }\\n        \\n        \\n        [this[\\\"loading\\\"].subscribe((function (val){!(this.valueFromJulia[\\\"loading\\\"]) ? (WebIO.setval({\\\"name\\\":\\\"loading\\\",\\\"scope\\\":\\\"7856102146880889326\\\",\\\"id\\\":\\\"7510031881806389873\\\",\\\"type\\\":\\\"observable\\\"},val)) : undefined; return this.valueFromJulia[\\\"loading\\\"]=false}),self),this[\\\"clicks\\\"].subscribe((function (val){!(this.valueFromJulia[\\\"clicks\\\"]) ? (WebIO.setval({\\\"name\\\":\\\"clicks\\\",\\\"scope\\\":\\\"7856102146880889326\\\",\\\"id\\\":\\\"11675374771607529071\\\",\\\"type\\\":\\\"observable\\\"},val)) : undefined; return this.valueFromJulia[\\\"clicks\\\"]=false}),self)]\\n        \\n    }\\n    self.model = new AppViewModel();\\n    self.valueFromJulia = {};\\n    for (var key in json_data) {\\n        self.valueFromJulia[key] = false;\\n    }\\n    ko.applyBindings(self.model, self.dom);\\n}\\n);\\n    (WebIO.importBlock({\\\"data\\\":[{\\\"name\\\":\\\"knockout\\\",\\\"type\\\":\\\"js\\\",\\\"url\\\":\\\"\\/assetserver\\/727383f2a47bd31570b7da84eee7b022dd6d7c78-knockout.js\\\"},{\\\"name\\\":\\\"knockout_punches\\\",\\\"type\\\":\\\"js\\\",\\\"url\\\":\\\"\\/assetserver\\/382b41b3b1bd9f26f75861d360bad7f8beea211f-knockout_punches.js\\\"}],\\\"type\\\":\\\"async_block\\\"})).then((imports) => handler.apply(this, imports));\\n}\\n\"],\"observables\":{\"loading\":{\"sync\":false,\"id\":\"7510031881806389873\",\"value\":false},\"clicks\":{\"sync\":true,\"id\":\"11675374771607529071\",\"value\":0}}},\"children\":[{\"props\":{\"attributes\":{\"data-bind\":\"click: function (){this.clicks(this.clicks()+1)}, css: {'is-loading' : loading}\"},\"className\":\"is-medium button is-primary\",\"style\":{}},\"nodeType\":\"DOM\",\"type\":\"node\",\"instanceArgs\":{\"namespace\":\"html\",\"tag\":\"button\"},\"children\":[\"run\"]}]}]},{\"props\":{\"className\":\"interact-widget\"},\"nodeType\":\"DOM\",\"type\":\"node\",\"instanceArgs\":{\"namespace\":\"html\",\"tag\":\"div\"},\"children\":[{\"props\":{},\"nodeType\":\"Scope\",\"type\":\"node\",\"instanceArgs\":{\"imports\":{\"data\":[{\"name\":null,\"type\":\"js\",\"url\":\"\\/assetserver\\/dd22ed1bf1896c2748f3fe616ce0b838adc895c1-katex.min.js\"},{\"name\":null,\"type\":\"css\",\"url\":\"\\/assetserver\\/46517a424aa5e6cffc1360d7e0848b601c584ee3-katex.min.css\"}],\"type\":\"async_block\"},\"id\":\"11707340677385435333\",\"handlers\":{\"value\":[\"(function (txt){return this.k.render(txt,this.container)})\"]},\"systemjs_options\":null,\"mount_callbacks\":[\"function () {\\n    var handler = ((function (k){this.k=k; this.container=this.dom.querySelector(\\\"#container\\\"); return k.render(\\\"\\\\\\\\;\\\\\\\\;\\\",this.container)}));\\n    (WebIO.importBlock({\\\"data\\\":[{\\\"name\\\":null,\\\"type\\\":\\\"js\\\",\\\"url\\\":\\\"\\/assetserver\\/dd22ed1bf1896c2748f3fe616ce0b838adc895c1-katex.min.js\\\"},{\\\"name\\\":null,\\\"type\\\":\\\"css\\\",\\\"url\\\":\\\"\\/assetserver\\/46517a424aa5e6cffc1360d7e0848b601c584ee3-katex.min.css\\\"}],\\\"type\\\":\\\"async_block\\\"})).then((imports) => handler.apply(this, imports));\\n}\\n\"],\"observables\":{\"value\":{\"sync\":false,\"id\":\"4337611500463232905\",\"value\":\"\\\\;\\\\;\"}}},\"children\":[{\"props\":{\"id\":\"container\"},\"nodeType\":\"DOM\",\"type\":\"node\",\"instanceArgs\":{\"namespace\":\"html\",\"tag\":\"div\"},\"children\":[]}]}]},{\"props\":{\"className\":\"field interact-widget\"},\"nodeType\":\"DOM\",\"type\":\"node\",\"instanceArgs\":{\"namespace\":\"html\",\"tag\":\"div\"},\"children\":[{\"props\":{},\"nodeType\":\"Scope\",\"type\":\"node\",\"instanceArgs\":{\"imports\":{\"data\":[{\"name\":\"knockout\",\"type\":\"js\",\"url\":\"\\/assetserver\\/727383f2a47bd31570b7da84eee7b022dd6d7c78-knockout.js\"},{\"name\":\"knockout_punches\",\"type\":\"js\",\"url\":\"\\/assetserver\\/382b41b3b1bd9f26f75861d360bad7f8beea211f-knockout_punches.js\"},{\"name\":null,\"type\":\"js\",\"url\":\"\\/assetserver\\/5ab20f1060420992a9b82a65b735dee4d81ef413-all.js\"},{\"name\":null,\"type\":\"css\",\"url\":\"\\/assetserver\\/1cc0ed62837210b80a182cc3676512f895dab686-style.css\"},{\"name\":null,\"type\":\"css\",\"url\":\"\\/assetserver\\/2eee816f616df3549d7044d45e744fbf8d42bfa1-bulma_confined.min.css\"}],\"type\":\"async_block\"},\"id\":\"17441485007210243482\",\"handlers\":{\"loading\":[\"(function (val){return (val!=this.model[\\\"loading\\\"]()) ? (this.valueFromJulia[\\\"loading\\\"]=true, this.model[\\\"loading\\\"](val)) : undefined})\"],\"clicks\":[\"(function (val){return (val!=this.model[\\\"clicks\\\"]()) ? (this.valueFromJulia[\\\"clicks\\\"]=true, this.model[\\\"clicks\\\"](val)) : undefined})\"]},\"systemjs_options\":null,\"mount_callbacks\":[\"function () {\\n    var handler = (function (ko, koPunches) {\\n    ko.punches.enableAll();\\n    ko.bindingHandlers.numericValue = {\\n        init: function(element, valueAccessor, allBindings, data, context) {\\n            var stringified = ko.observable(ko.unwrap(valueAccessor()));\\n            stringified.subscribe(function(value) {\\n                var val = parseFloat(value);\\n                if (!isNaN(val)) {\\n                    valueAccessor()(val);\\n                }\\n            });\\n            valueAccessor().subscribe(function(value) {\\n                var str = JSON.stringify(value);\\n                if ((str == \\\"0\\\") && ([\\\"-0\\\", \\\"-0.\\\"].indexOf(stringified()) >= 0))\\n                     return;\\n                 if ([\\\"null\\\", \\\"\\\"].indexOf(str) >= 0)\\n                     return;\\n                stringified(str);\\n            });\\n            ko.applyBindingsToNode(\\n                element,\\n                {\\n                    value: stringified,\\n                    valueUpdate: allBindings.get('valueUpdate'),\\n                },\\n                context,\\n            );\\n        }\\n    };\\n    var json_data = {\\\"loading\\\":WebIO.getval({\\\"name\\\":\\\"loading\\\",\\\"scope\\\":\\\"17441485007210243482\\\",\\\"id\\\":\\\"1675111558121309977\\\",\\\"type\\\":\\\"observable\\\"}),\\\"clicks\\\":WebIO.getval({\\\"name\\\":\\\"clicks\\\",\\\"scope\\\":\\\"17441485007210243482\\\",\\\"id\\\":\\\"10934485591896696490\\\",\\\"type\\\":\\\"observable\\\"})};\\n    var self = this;\\n    function AppViewModel() {\\n        for (var key in json_data) {\\n            var el = json_data[key];\\n            this[key] = Array.isArray(el) ? ko.observableArray(el) : ko.observable(el);\\n        }\\n        \\n        \\n        [this[\\\"loading\\\"].subscribe((function (val){!(this.valueFromJulia[\\\"loading\\\"]) ? (WebIO.setval({\\\"name\\\":\\\"loading\\\",\\\"scope\\\":\\\"17441485007210243482\\\",\\\"id\\\":\\\"1675111558121309977\\\",\\\"type\\\":\\\"observable\\\"},val)) : undefined; return this.valueFromJulia[\\\"loading\\\"]=false}),self),this[\\\"clicks\\\"].subscribe((function (val){!(this.valueFromJulia[\\\"clicks\\\"]) ? (WebIO.setval({\\\"name\\\":\\\"clicks\\\",\\\"scope\\\":\\\"17441485007210243482\\\",\\\"id\\\":\\\"10934485591896696490\\\",\\\"type\\\":\\\"observable\\\"},val)) : undefined; return this.valueFromJulia[\\\"clicks\\\"]=false}),self)]\\n        \\n    }\\n    self.model = new AppViewModel();\\n    self.valueFromJulia = {};\\n    for (var key in json_data) {\\n        self.valueFromJulia[key] = false;\\n    }\\n    ko.applyBindings(self.model, self.dom);\\n}\\n);\\n    (WebIO.importBlock({\\\"data\\\":[{\\\"name\\\":\\\"knockout\\\",\\\"type\\\":\\\"js\\\",\\\"url\\\":\\\"\\/assetserver\\/727383f2a47bd31570b7da84eee7b022dd6d7c78-knockout.js\\\"},{\\\"name\\\":\\\"knockout_punches\\\",\\\"type\\\":\\\"js\\\",\\\"url\\\":\\\"\\/assetserver\\/382b41b3b1bd9f26f75861d360bad7f8beea211f-knockout_punches.js\\\"}],\\\"type\\\":\\\"async_block\\\"})).then((imports) => handler.apply(this, imports));\\n}\\n\"],\"observables\":{\"loading\":{\"sync\":false,\"id\":\"1675111558121309977\",\"value\":false},\"clicks\":{\"sync\":true,\"id\":\"10934485591896696490\",\"value\":0}}},\"children\":[{\"props\":{\"attributes\":{\"data-bind\":\"click: function (){this.clicks(this.clicks()+1)}, css: {'is-loading' : loading}\"},\"className\":\"is-medium button is-primary\",\"style\":{}},\"nodeType\":\"DOM\",\"type\":\"node\",\"instanceArgs\":{\"namespace\":\"html\",\"tag\":\"button\"},\"children\":[\"stop\"]}]}]},{\"props\":{\"className\":\"interact-widget\"},\"nodeType\":\"DOM\",\"type\":\"node\",\"instanceArgs\":{\"namespace\":\"html\",\"tag\":\"div\"},\"children\":[{\"props\":{},\"nodeType\":\"Scope\",\"type\":\"node\",\"instanceArgs\":{\"imports\":{\"data\":[{\"name\":null,\"type\":\"js\",\"url\":\"\\/assetserver\\/dd22ed1bf1896c2748f3fe616ce0b838adc895c1-katex.min.js\"},{\"name\":null,\"type\":\"css\",\"url\":\"\\/assetserver\\/46517a424aa5e6cffc1360d7e0848b601c584ee3-katex.min.css\"}],\"type\":\"async_block\"},\"id\":\"11707340677385435333\",\"handlers\":{\"value\":[\"(function (txt){return this.k.render(txt,this.container)})\"]},\"systemjs_options\":null,\"mount_callbacks\":[\"function () {\\n    var handler = ((function (k){this.k=k; this.container=this.dom.querySelector(\\\"#container\\\"); return k.render(\\\"\\\\\\\\;\\\\\\\\;\\\",this.container)}));\\n    (WebIO.importBlock({\\\"data\\\":[{\\\"name\\\":null,\\\"type\\\":\\\"js\\\",\\\"url\\\":\\\"\\/assetserver\\/dd22ed1bf1896c2748f3fe616ce0b838adc895c1-katex.min.js\\\"},{\\\"name\\\":null,\\\"type\\\":\\\"css\\\",\\\"url\\\":\\\"\\/assetserver\\/46517a424aa5e6cffc1360d7e0848b601c584ee3-katex.min.css\\\"}],\\\"type\\\":\\\"async_block\\\"})).then((imports) => handler.apply(this, imports));\\n}\\n\"],\"observables\":{\"value\":{\"sync\":false,\"id\":\"4337611500463232905\",\"value\":\"\\\\;\\\\;\"}}},\"children\":[{\"props\":{\"id\":\"container\"},\"nodeType\":\"DOM\",\"type\":\"node\",\"instanceArgs\":{\"namespace\":\"html\",\"tag\":\"div\"},\"children\":[]}]}]},{\"props\":{\"className\":\"field interact-widget\"},\"nodeType\":\"DOM\",\"type\":\"node\",\"instanceArgs\":{\"namespace\":\"html\",\"tag\":\"div\"},\"children\":[{\"props\":{},\"nodeType\":\"Scope\",\"type\":\"node\",\"instanceArgs\":{\"imports\":{\"data\":[{\"name\":\"knockout\",\"type\":\"js\",\"url\":\"\\/assetserver\\/727383f2a47bd31570b7da84eee7b022dd6d7c78-knockout.js\"},{\"name\":\"knockout_punches\",\"type\":\"js\",\"url\":\"\\/assetserver\\/382b41b3b1bd9f26f75861d360bad7f8beea211f-knockout_punches.js\"},{\"name\":null,\"type\":\"js\",\"url\":\"\\/assetserver\\/5ab20f1060420992a9b82a65b735dee4d81ef413-all.js\"},{\"name\":null,\"type\":\"css\",\"url\":\"\\/assetserver\\/1cc0ed62837210b80a182cc3676512f895dab686-style.css\"},{\"name\":null,\"type\":\"css\",\"url\":\"\\/assetserver\\/2eee816f616df3549d7044d45e744fbf8d42bfa1-bulma_confined.min.css\"}],\"type\":\"async_block\"},\"id\":\"16196049457643463297\",\"handlers\":{\"loading\":[\"(function (val){return (val!=this.model[\\\"loading\\\"]()) ? (this.valueFromJulia[\\\"loading\\\"]=true, this.model[\\\"loading\\\"](val)) : undefined})\"],\"clicks\":[\"(function (val){return (val!=this.model[\\\"clicks\\\"]()) ? (this.valueFromJulia[\\\"clicks\\\"]=true, this.model[\\\"clicks\\\"](val)) : undefined})\"]},\"systemjs_options\":null,\"mount_callbacks\":[\"function () {\\n    var handler = (function (ko, koPunches) {\\n    ko.punches.enableAll();\\n    ko.bindingHandlers.numericValue = {\\n        init: function(element, valueAccessor, allBindings, data, context) {\\n            var stringified = ko.observable(ko.unwrap(valueAccessor()));\\n            stringified.subscribe(function(value) {\\n                var val = parseFloat(value);\\n                if (!isNaN(val)) {\\n                    valueAccessor()(val);\\n                }\\n            });\\n            valueAccessor().subscribe(function(value) {\\n                var str = JSON.stringify(value);\\n                if ((str == \\\"0\\\") && ([\\\"-0\\\", \\\"-0.\\\"].indexOf(stringified()) >= 0))\\n                     return;\\n                 if ([\\\"null\\\", \\\"\\\"].indexOf(str) >= 0)\\n                     return;\\n                stringified(str);\\n            });\\n            ko.applyBindingsToNode(\\n                element,\\n                {\\n                    value: stringified,\\n                    valueUpdate: allBindings.get('valueUpdate'),\\n                },\\n                context,\\n            );\\n        }\\n    };\\n    var json_data = {\\\"loading\\\":WebIO.getval({\\\"name\\\":\\\"loading\\\",\\\"scope\\\":\\\"16196049457643463297\\\",\\\"id\\\":\\\"9231105458712155610\\\",\\\"type\\\":\\\"observable\\\"}),\\\"clicks\\\":WebIO.getval({\\\"name\\\":\\\"clicks\\\",\\\"scope\\\":\\\"16196049457643463297\\\",\\\"id\\\":\\\"7407928384920302326\\\",\\\"type\\\":\\\"observable\\\"})};\\n    var self = this;\\n    function AppViewModel() {\\n        for (var key in json_data) {\\n            var el = json_data[key];\\n            this[key] = Array.isArray(el) ? ko.observableArray(el) : ko.observable(el);\\n        }\\n        \\n        \\n        [this[\\\"loading\\\"].subscribe((function (val){!(this.valueFromJulia[\\\"loading\\\"]) ? (WebIO.setval({\\\"name\\\":\\\"loading\\\",\\\"scope\\\":\\\"16196049457643463297\\\",\\\"id\\\":\\\"9231105458712155610\\\",\\\"type\\\":\\\"observable\\\"},val)) : undefined; return this.valueFromJulia[\\\"loading\\\"]=false}),self),this[\\\"clicks\\\"].subscribe((function (val){!(this.valueFromJulia[\\\"clicks\\\"]) ? (WebIO.setval({\\\"name\\\":\\\"clicks\\\",\\\"scope\\\":\\\"16196049457643463297\\\",\\\"id\\\":\\\"7407928384920302326\\\",\\\"type\\\":\\\"observable\\\"},val)) : undefined; return this.valueFromJulia[\\\"clicks\\\"]=false}),self)]\\n        \\n    }\\n    self.model = new AppViewModel();\\n    self.valueFromJulia = {};\\n    for (var key in json_data) {\\n        self.valueFromJulia[key] = false;\\n    }\\n    ko.applyBindings(self.model, self.dom);\\n}\\n);\\n    (WebIO.importBlock({\\\"data\\\":[{\\\"name\\\":\\\"knockout\\\",\\\"type\\\":\\\"js\\\",\\\"url\\\":\\\"\\/assetserver\\/727383f2a47bd31570b7da84eee7b022dd6d7c78-knockout.js\\\"},{\\\"name\\\":\\\"knockout_punches\\\",\\\"type\\\":\\\"js\\\",\\\"url\\\":\\\"\\/assetserver\\/382b41b3b1bd9f26f75861d360bad7f8beea211f-knockout_punches.js\\\"}],\\\"type\\\":\\\"async_block\\\"})).then((imports) => handler.apply(this, imports));\\n}\\n\"],\"observables\":{\"loading\":{\"sync\":false,\"id\":\"9231105458712155610\",\"value\":false},\"clicks\":{\"sync\":true,\"id\":\"7407928384920302326\",\"value\":0}}},\"children\":[{\"props\":{\"attributes\":{\"data-bind\":\"click: function (){this.clicks(this.clicks()+1)}, css: {'is-loading' : loading}\"},\"className\":\"is-medium button is-primary\",\"style\":{}},\"nodeType\":\"DOM\",\"type\":\"node\",\"instanceArgs\":{\"namespace\":\"html\",\"tag\":\"button\"},\"children\":[\"reset\"]}]}]},{\"props\":{\"className\":\"interact-widget\"},\"nodeType\":\"DOM\",\"type\":\"node\",\"instanceArgs\":{\"namespace\":\"html\",\"tag\":\"div\"},\"children\":[{\"props\":{},\"nodeType\":\"Scope\",\"type\":\"node\",\"instanceArgs\":{\"imports\":{\"data\":[{\"name\":null,\"type\":\"js\",\"url\":\"\\/assetserver\\/dd22ed1bf1896c2748f3fe616ce0b838adc895c1-katex.min.js\"},{\"name\":null,\"type\":\"css\",\"url\":\"\\/assetserver\\/46517a424aa5e6cffc1360d7e0848b601c584ee3-katex.min.css\"}],\"type\":\"async_block\"},\"id\":\"11707340677385435333\",\"handlers\":{\"value\":[\"(function (txt){return this.k.render(txt,this.container)})\"]},\"systemjs_options\":null,\"mount_callbacks\":[\"function () {\\n    var handler = ((function (k){this.k=k; this.container=this.dom.querySelector(\\\"#container\\\"); return k.render(\\\"\\\\\\\\;\\\\\\\\;\\\",this.container)}));\\n    (WebIO.importBlock({\\\"data\\\":[{\\\"name\\\":null,\\\"type\\\":\\\"js\\\",\\\"url\\\":\\\"\\/assetserver\\/dd22ed1bf1896c2748f3fe616ce0b838adc895c1-katex.min.js\\\"},{\\\"name\\\":null,\\\"type\\\":\\\"css\\\",\\\"url\\\":\\\"\\/assetserver\\/46517a424aa5e6cffc1360d7e0848b601c584ee3-katex.min.css\\\"}],\\\"type\\\":\\\"async_block\\\"})).then((imports) => handler.apply(this, imports));\\n}\\n\"],\"observables\":{\"value\":{\"sync\":false,\"id\":\"4337611500463232905\",\"value\":\"\\\\;\\\\;\"}}},\"children\":[{\"props\":{\"id\":\"container\"},\"nodeType\":\"DOM\",\"type\":\"node\",\"instanceArgs\":{\"namespace\":\"html\",\"tag\":\"div\"},\"children\":[]}]}]},{\"props\":{\"className\":\"field interact-widget\"},\"nodeType\":\"DOM\",\"type\":\"node\",\"instanceArgs\":{\"namespace\":\"html\",\"tag\":\"div\"},\"children\":[{\"props\":{},\"nodeType\":\"Scope\",\"type\":\"node\",\"instanceArgs\":{\"imports\":{\"data\":[{\"name\":\"knockout\",\"type\":\"js\",\"url\":\"\\/assetserver\\/727383f2a47bd31570b7da84eee7b022dd6d7c78-knockout.js\"},{\"name\":\"knockout_punches\",\"type\":\"js\",\"url\":\"\\/assetserver\\/382b41b3b1bd9f26f75861d360bad7f8beea211f-knockout_punches.js\"},{\"name\":null,\"type\":\"js\",\"url\":\"\\/assetserver\\/5ab20f1060420992a9b82a65b735dee4d81ef413-all.js\"},{\"name\":null,\"type\":\"css\",\"url\":\"\\/assetserver\\/1cc0ed62837210b80a182cc3676512f895dab686-style.css\"},{\"name\":null,\"type\":\"css\",\"url\":\"\\/assetserver\\/2eee816f616df3549d7044d45e744fbf8d42bfa1-bulma_confined.min.css\"}],\"type\":\"async_block\"},\"id\":\"8992575799879132230\",\"handlers\":{\"loading\":[\"(function (val){return (val!=this.model[\\\"loading\\\"]()) ? (this.valueFromJulia[\\\"loading\\\"]=true, this.model[\\\"loading\\\"](val)) : undefined})\"],\"clicks\":[\"(function (val){return (val!=this.model[\\\"clicks\\\"]()) ? (this.valueFromJulia[\\\"clicks\\\"]=true, this.model[\\\"clicks\\\"](val)) : undefined})\"]},\"systemjs_options\":null,\"mount_callbacks\":[\"function () {\\n    var handler = (function (ko, koPunches) {\\n    ko.punches.enableAll();\\n    ko.bindingHandlers.numericValue = {\\n        init: function(element, valueAccessor, allBindings, data, context) {\\n            var stringified = ko.observable(ko.unwrap(valueAccessor()));\\n            stringified.subscribe(function(value) {\\n                var val = parseFloat(value);\\n                if (!isNaN(val)) {\\n                    valueAccessor()(val);\\n                }\\n            });\\n            valueAccessor().subscribe(function(value) {\\n                var str = JSON.stringify(value);\\n                if ((str == \\\"0\\\") && ([\\\"-0\\\", \\\"-0.\\\"].indexOf(stringified()) >= 0))\\n                     return;\\n                 if ([\\\"null\\\", \\\"\\\"].indexOf(str) >= 0)\\n                     return;\\n                stringified(str);\\n            });\\n            ko.applyBindingsToNode(\\n                element,\\n                {\\n                    value: stringified,\\n                    valueUpdate: allBindings.get('valueUpdate'),\\n                },\\n                context,\\n            );\\n        }\\n    };\\n    var json_data = {\\\"loading\\\":WebIO.getval({\\\"name\\\":\\\"loading\\\",\\\"scope\\\":\\\"8992575799879132230\\\",\\\"id\\\":\\\"3341824279397370376\\\",\\\"type\\\":\\\"observable\\\"}),\\\"clicks\\\":WebIO.getval({\\\"name\\\":\\\"clicks\\\",\\\"scope\\\":\\\"8992575799879132230\\\",\\\"id\\\":\\\"12531169169877611052\\\",\\\"type\\\":\\\"observable\\\"})};\\n    var self = this;\\n    function AppViewModel() {\\n        for (var key in json_data) {\\n            var el = json_data[key];\\n            this[key] = Array.isArray(el) ? ko.observableArray(el) : ko.observable(el);\\n        }\\n        \\n        \\n        [this[\\\"loading\\\"].subscribe((function (val){!(this.valueFromJulia[\\\"loading\\\"]) ? (WebIO.setval({\\\"name\\\":\\\"loading\\\",\\\"scope\\\":\\\"8992575799879132230\\\",\\\"id\\\":\\\"3341824279397370376\\\",\\\"type\\\":\\\"observable\\\"},val)) : undefined; return this.valueFromJulia[\\\"loading\\\"]=false}),self),this[\\\"clicks\\\"].subscribe((function (val){!(this.valueFromJulia[\\\"clicks\\\"]) ? (WebIO.setval({\\\"name\\\":\\\"clicks\\\",\\\"scope\\\":\\\"8992575799879132230\\\",\\\"id\\\":\\\"12531169169877611052\\\",\\\"type\\\":\\\"observable\\\"},val)) : undefined; return this.valueFromJulia[\\\"clicks\\\"]=false}),self)]\\n        \\n    }\\n    self.model = new AppViewModel();\\n    self.valueFromJulia = {};\\n    for (var key in json_data) {\\n        self.valueFromJulia[key] = false;\\n    }\\n    ko.applyBindings(self.model, self.dom);\\n}\\n);\\n    (WebIO.importBlock({\\\"data\\\":[{\\\"name\\\":\\\"knockout\\\",\\\"type\\\":\\\"js\\\",\\\"url\\\":\\\"\\/assetserver\\/727383f2a47bd31570b7da84eee7b022dd6d7c78-knockout.js\\\"},{\\\"name\\\":\\\"knockout_punches\\\",\\\"type\\\":\\\"js\\\",\\\"url\\\":\\\"\\/assetserver\\/382b41b3b1bd9f26f75861d360bad7f8beea211f-knockout_punches.js\\\"}],\\\"type\\\":\\\"async_block\\\"})).then((imports) => handler.apply(this, imports));\\n}\\n\"],\"observables\":{\"loading\":{\"sync\":false,\"id\":\"3341824279397370376\",\"value\":false},\"clicks\":{\"sync\":true,\"id\":\"12531169169877611052\",\"value\":0}}},\"children\":[{\"props\":{\"attributes\":{\"data-bind\":\"click: function (){this.clicks(this.clicks()+1)}, css: {'is-loading' : loading}\"},\"className\":\"is-medium button is-primary\",\"style\":{}},\"nodeType\":\"DOM\",\"type\":\"node\",\"instanceArgs\":{\"namespace\":\"html\",\"tag\":\"button\"},\"children\":[\"save\"]}]}]}]}]},{\"props\":{\"className\":\"interact-widget\"},\"nodeType\":\"DOM\",\"type\":\"node\",\"instanceArgs\":{\"namespace\":\"html\",\"tag\":\"div\"},\"children\":[{\"props\":{},\"nodeType\":\"Scope\",\"type\":\"node\",\"instanceArgs\":{\"imports\":{\"data\":[{\"name\":null,\"type\":\"js\",\"url\":\"\\/assetserver\\/dd22ed1bf1896c2748f3fe616ce0b838adc895c1-katex.min.js\"},{\"name\":null,\"type\":\"css\",\"url\":\"\\/assetserver\\/46517a424aa5e6cffc1360d7e0848b601c584ee3-katex.min.css\"}],\"type\":\"async_block\"},\"id\":\"11707340677385435333\",\"handlers\":{\"value\":[\"(function (txt){return this.k.render(txt,this.container)})\"]},\"systemjs_options\":null,\"mount_callbacks\":[\"function () {\\n    var handler = ((function (k){this.k=k; this.container=this.dom.querySelector(\\\"#container\\\"); return k.render(\\\"\\\\\\\\;\\\\\\\\;\\\",this.container)}));\\n    (WebIO.importBlock({\\\"data\\\":[{\\\"name\\\":null,\\\"type\\\":\\\"js\\\",\\\"url\\\":\\\"\\/assetserver\\/dd22ed1bf1896c2748f3fe616ce0b838adc895c1-katex.min.js\\\"},{\\\"name\\\":null,\\\"type\\\":\\\"css\\\",\\\"url\\\":\\\"\\/assetserver\\/46517a424aa5e6cffc1360d7e0848b601c584ee3-katex.min.css\\\"}],\\\"type\\\":\\\"async_block\\\"})).then((imports) => handler.apply(this, imports));\\n}\\n\"],\"observables\":{\"value\":{\"sync\":false,\"id\":\"4337611500463232905\",\"value\":\"\\\\;\\\\;\"}}},\"children\":[{\"props\":{\"id\":\"container\"},\"nodeType\":\"DOM\",\"type\":\"node\",\"instanceArgs\":{\"namespace\":\"html\",\"tag\":\"div\"},\"children\":[]}]}]},{\"props\":{},\"nodeType\":\"Scope\",\"type\":\"node\",\"instanceArgs\":{\"imports\":{\"data\":[],\"type\":\"async_block\"},\"id\":\"3787314200533603538\",\"handlers\":{\"obs-output\":[\"function (value, scope) {\\n    scope.setInnerHTML(value);\\n}\\n\"]},\"systemjs_options\":null,\"mount_callbacks\":[],\"observables\":{\"obs-output\":{\"sync\":false,\"id\":\"4388040588393174467\",\"value\":\"<img src='data:image\\/png;base64,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'><\\/img>\"}}},\"children\":[{\"props\":{\"className\":\"webio-observable\",\"setInnerHtml\":\"<img src='data:image\\/png;base64,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'><\\/img>\"},\"nodeType\":\"DOM\",\"type\":\"node\",\"instanceArgs\":{\"namespace\":\"html\",\"tag\":\"div\"},\"children\":[]}]},{\"props\":{\"className\":\"interact-widget\"},\"nodeType\":\"DOM\",\"type\":\"node\",\"instanceArgs\":{\"namespace\":\"html\",\"tag\":\"div\"},\"children\":[{\"props\":{},\"nodeType\":\"Scope\",\"type\":\"node\",\"instanceArgs\":{\"imports\":{\"data\":[{\"name\":null,\"type\":\"js\",\"url\":\"\\/assetserver\\/dd22ed1bf1896c2748f3fe616ce0b838adc895c1-katex.min.js\"},{\"name\":null,\"type\":\"css\",\"url\":\"\\/assetserver\\/46517a424aa5e6cffc1360d7e0848b601c584ee3-katex.min.css\"}],\"type\":\"async_block\"},\"id\":\"11707340677385435333\",\"handlers\":{\"value\":[\"(function (txt){return this.k.render(txt,this.container)})\"]},\"systemjs_options\":null,\"mount_callbacks\":[\"function () {\\n    var handler = ((function (k){this.k=k; this.container=this.dom.querySelector(\\\"#container\\\"); return k.render(\\\"\\\\\\\\;\\\\\\\\;\\\",this.container)}));\\n    (WebIO.importBlock({\\\"data\\\":[{\\\"name\\\":null,\\\"type\\\":\\\"js\\\",\\\"url\\\":\\\"\\/assetserver\\/dd22ed1bf1896c2748f3fe616ce0b838adc895c1-katex.min.js\\\"},{\\\"name\\\":null,\\\"type\\\":\\\"css\\\",\\\"url\\\":\\\"\\/assetserver\\/46517a424aa5e6cffc1360d7e0848b601c584ee3-katex.min.css\\\"}],\\\"type\\\":\\\"async_block\\\"})).then((imports) => handler.apply(this, imports));\\n}\\n\"],\"observables\":{\"value\":{\"sync\":false,\"id\":\"4337611500463232905\",\"value\":\"\\\\;\\\\;\"}}},\"children\":[{\"props\":{\"id\":\"container\"},\"nodeType\":\"DOM\",\"type\":\"node\",\"instanceArgs\":{\"namespace\":\"html\",\"tag\":\"div\"},\"children\":[]}]}]},{\"props\":{\"style\":{\"display\":\"flex\",\"flex-direction\":\"column\"}},\"nodeType\":\"DOM\",\"type\":\"node\",\"instanceArgs\":{\"namespace\":\"html\",\"tag\":\"div\"},\"children\":[]}]}]},\n",
       "        window,\n",
       "    );\n",
       "    })()\n",
       "    </script>\n",
       "</div>\n"
      ],
      "text/plain": [
       "WebIO.Node{WebIO.DOM}(WebIO.DOM(:html, :div), Any[WebIO.Node{WebIO.DOM}(WebIO.DOM(:html, :div), Any[WebIO.Node{WebIO.DOM}(WebIO.DOM(:html, :div), Any[WebIO.Node{WebIO.DOM}(WebIO.DOM(:html, :div), Any[WebIO.Scope(WebIO.Node{WebIO.DOM}(WebIO.DOM(:html, :div), Any[WebIO.Node{WebIO.DOM}(WebIO.DOM(:html, :div), Any[WebIO.Node{WebIO.DOM}(WebIO.DOM(:html, :label), Any[\"time\"], Dict{Symbol, Any}(:className => \"interact \", :style => Dict{Any, Any}(:padding => \"5px 10px 0px 10px\")))], Dict{Symbol, Any}(:className => \"interact-flex-row-left\")), WebIO.Node{WebIO.DOM}(WebIO.DOM(:html, :div), Any[WebIO.Node{WebIO.DOM}(WebIO.DOM(:html, :input), Any[], Dict{Symbol, Any}(:max => 200, :min => 1, :attributes => Dict{Any, Any}(:type => \"range\", Symbol(\"data-bind\") => \"numericValue: index, valueUpdate: 'input', event: {change: function (){this.changes(this.changes()+1)}}\", \"orient\" => \"horizontal\"), :step => 1, :className => \"slider slider is-fullwidth\", :style => Dict{Any, Any}()))], Dict{Symbol, Any}(:className => \"interact-flex-row-center\")), WebIO.Node{WebIO.DOM}(WebIO.DOM(:html, :div), Any[WebIO.Node{WebIO.DOM}(WebIO.DOM(:html, :p), Any[], Dict{Symbol, Any}(:attributes => Dict(\"data-bind\" => \"text: formatted_val\")))], Dict{Symbol, Any}(:className => \"interact-flex-row-right\"))], Dict{Symbol, Any}(:className => \"interact-flex-row interact-widget\")), Dict{String, Tuple{Observables.AbstractObservable, Union{Nothing, Bool}}}(\"changes\" => (Observable(0), nothing), \"index\" => (Observable(1), nothing)), Set{String}(), nothing, WebIO.Asset[WebIO.Asset(\"js\", \"knockout\", \"/home/dushya/.julia/packages/Knockout/HReiN/src/../assets/knockout.js\"), WebIO.Asset(\"js\", \"knockout_punches\", \"/home/dushya/.julia/packages/Knockout/HReiN/src/../assets/knockout_punches.js\"), WebIO.Asset(\"js\", nothing, \"/home/dushya/.julia/packages/InteractBase/LJXv3/src/../assets/all.js\"), WebIO.Asset(\"css\", nothing, \"/home/dushya/.julia/packages/InteractBase/LJXv3/src/../assets/style.css\"), WebIO.Asset(\"css\", nothing, \"/home/dushya/.julia/packages/Interact/PENUy/src/../assets/bulma_confined.min.css\")], Dict{Any, Any}(\"changes\" => Any[WebIO.JSString(\"(function (val){return (val!=this.model[\\\"changes\\\"]()) ? (this.valueFromJulia[\\\"changes\\\"]=true, this.model[\\\"changes\\\"](val)) : undefined})\")], \"index\" => Any[WebIO.JSString(\"(function (val){return (val!=this.model[\\\"index\\\"]()) ? (this.valueFromJulia[\\\"index\\\"]=true, this.model[\\\"index\\\"](val)) : undefined})\")]), WebIO.ConnectionPool(Channel{Any}(32), Set{WebIO.AbstractConnection}(), Base.GenericCondition{ReentrantLock}(Base.IntrusiveLinkedList{Task}(Task (runnable) @0x00007fcbb7b60fb0, Task (runnable) @0x00007fcbb7b60fb0), ReentrantLock(nothing, 0x00000000, 0x00, Base.GenericCondition{Base.Threads.SpinLock}(Base.IntrusiveLinkedList{Task}(nothing, nothing), Base.Threads.SpinLock(0)), (8, 0, 416307975904)))), WebIO.JSString[WebIO.JSString(\"function () {\\n    var handler = (function (ko, koPunches) {\\n    ko.punches.enableAll();\\n    ko.bindingHandlers.numericValue = {\\n        init: function(element, valueAccessor, allBindings, data, context) {\\n            var stringified = ko.observable(ko.unwrap(valueAccessor()));\\n            stringified.subscribe(function(value) {\\n                var val = parseFloat(value);\\n                if (!isNaN(val)) {\\n                    valueAccessor()(val);\\n                }\\n            });\\n            valueAccessor().subscribe(function(value) {\\n                var str = JSON.stringify(value);\\n                if ((str == \\\"0\\\") && ([\\\"-0\\\", \\\"-0.\\\"].indexOf(stringified()) >= 0))\\n                     return;\\n                 if ([\\\"null\\\", \\\"\\\"].indexOf(str) >= 0)\\n                     return;\\n                stringified(str);\\n            });\\n            ko.applyBindingsToNode(\\n                element,\\n                {\\n                    value: stringified,\\n                    valueUpdate: allBindings.get('valueUpdate'),\\n                },\\n                context,\\n            );\\n        }\\n    };\\n    var json_data = {\\\"formatted_vals\\\":[\\\"1\\\",\\\"2\\\",\\\"3\\\",\\\"4\\\",\\\"5\\\",\\\"6\\\",\\\"7\\\",\\\"8\\\",\\\"9\\\",\\\"10\\\",\\\"11\\\",\\\"12\\\",\\\"13\\\",\\\"14\\\",\\\"15\\\",\\\"16\\\",\\\"17\\\",\\\"18\\\",\\\"19\\\",\\\"20\\\",\\\"21\\\",\\\"22\\\",\\\"23\\\",\\\"24\\\",\\\"25\\\",\\\"26\\\",\\\"27\\\",\\\"28\\\",\\\"29\\\",\\\"30\\\",\\\"31\\\",\\\"32\\\",\\\"33\\\",\\\"34\\\",\\\"35\\\",\\\"36\\\",\\\"37\\\",\\\"38\\\",\\\"39\\\",\\\"40\\\",\\\"41\\\",\\\"42\\\",\\\"43\\\",\\\"44\\\",\\\"45\\\",\\\"46\\\",\\\"47\\\",\\\"48\\\",\\\"49\\\",\\\"50\\\",\\\"51\\\",\\\"52\\\",\\\"53\\\",\\\"54\\\",\\\"55\\\",\\\"56\\\",\\\"57\\\",\\\"58\\\",\\\"59\\\",\\\"60\\\",\\\"61\\\",\\\"62\\\",\\\"63\\\",\\\"64\\\",\\\"65\\\",\\\"66\\\",\\\"67\\\",\\\"68\\\",\\\"69\\\",\\\"70\\\",\\\"71\\\",\\\"72\\\",\\\"73\\\",\\\"74\\\",\\\"75\\\",\\\"76\\\",\\\"77\\\",\\\"78\\\",\\\"79\\\",\\\"80\\\",\\\"81\\\",\\\"82\\\",\\\"83\\\",\\\"84\\\",\\\"85\\\",\\\"86\\\",\\\"87\\\",\\\"88\\\",\\\"89\\\",\\\"90\\\",\\\"91\\\",\\\"92\\\",\\\"93\\\",\\\"94\\\",\\\"95\\\",\\\"96\\\",\\\"97\\\",\\\"98\\\",\\\"99\\\",\\\"100\\\",\\\"101\\\",\\\"102\\\",\\\"103\\\",\\\"104\\\",\\\"105\\\",\\\"106\\\",\\\"107\\\",\\\"108\\\",\\\"109\\\",\\\"110\\\",\\\"111\\\",\\\"112\\\",\\\"113\\\",\\\"114\\\",\\\"115\\\",\\\"116\\\",\\\"117\\\",\\\"118\\\",\\\"119\\\",\\\"120\\\",\\\"121\\\",\\\"122\\\",\\\"123\\\",\\\"124\\\",\\\"125\\\",\\\"126\\\",\\\"127\\\",\\\"128\\\",\\\"129\\\",\\\"130\\\",\\\"131\\\",\\\"132\\\",\\\"133\\\",\\\"134\\\",\\\"135\\\",\\\"136\\\",\\\"137\\\",\\\"138\\\",\\\"139\\\",\\\"140\\\",\\\"141\\\",\\\"142\\\",\\\"143\\\",\\\"144\\\",\\\"145\\\",\\\"146\\\",\\\"147\\\",\\\"148\\\",\\\"149\\\",\\\"150\\\",\\\"151\\\",\\\"152\\\",\\\"153\\\",\\\"154\\\",\\\"155\\\",\\\"156\\\",\\\"157\\\",\\\"158\\\",\\\"159\\\",\\\"160\\\",\\\"161\\\",\\\"162\\\",\\\"163\\\",\\\"164\\\",\\\"165\\\",\\\"166\\\",\\\"167\\\",\\\"168\\\",\\\"169\\\",\\\"170\\\",\\\"171\\\",\\\"172\\\",\\\"173\\\",\\\"174\\\",\\\"175\\\",\\\"176\\\",\\\"177\\\",\\\"178\\\",\\\"179\\\",\\\"180\\\",\\\"181\\\",\\\"182\\\",\\\"183\\\",\\\"184\\\",\\\"185\\\",\\\"186\\\",\\\"187\\\",\\\"188\\\",\\\"189\\\",\\\"190\\\",\\\"191\\\",\\\"192\\\",\\\"193\\\",\\\"194\\\",\\\"195\\\",\\\"196\\\",\\\"197\\\",\\\"198\\\",\\\"199\\\",\\\"200\\\"],\\\"changes\\\":WebIO.getval({\\\"name\\\":\\\"changes\\\",\\\"scope\\\":\\\"17653855721163561022\\\",\\\"id\\\":\\\"4184109925903621321\\\",\\\"type\\\":\\\"observable\\\"}),\\\"index\\\":WebIO.getval({\\\"name\\\":\\\"index\\\",\\\"scope\\\":\\\"17653855721163561022\\\",\\\"id\\\":\\\"156966682548846287\\\",\\\"type\\\":\\\"observable\\\"})};\\n    var self = this;\\n    function AppViewModel() {\\n        for (var key in json_data) {\\n            var el = json_data[key];\\n            this[key] = Array.isArray(el) ? ko.observableArray(el) : ko.observable(el);\\n        }\\n        \\n        [this[\\\"formatted_val\\\"]=ko.computed(    function(){\\n        return this.formatted_vals()[parseInt(this.index())-(1)];\\n    }\\n,this)]\\n        [this[\\\"changes\\\"].subscribe((function (val){!(this.valueFromJulia[\\\"changes\\\"]) ? (WebIO.setval({\\\"name\\\":\\\"changes\\\",\\\"scope\\\":\\\"17653855721163561022\\\",\\\"id\\\":\\\"4184109925903621321\\\",\\\"type\\\":\\\"observable\\\"},val)) : undefined; return this.valueFromJulia[\\\"changes\\\"]=false}),self),this[\\\"index\\\"].subscribe((function (val){!(this.valueFromJulia[\\\"index\\\"]) ? (WebIO.setval({\\\"name\\\":\\\"index\\\",\\\"scope\\\":\\\"17653855721163561022\\\",\\\"id\\\":\\\"156966682548846287\\\",\\\"type\\\":\\\"observable\\\"},val)) : undefined; return this.valueFromJulia[\\\"index\\\"]=false}),self)]\\n        \\n    }\\n    self.model = new AppViewModel();\\n    self.valueFromJulia = {};\\n    for (var key in json_data) {\\n        self.valueFromJulia[key] = false;\\n    }\\n    ko.applyBindings(self.model, self.dom);\\n}\\n);\\n    (WebIO.importBlock({\\\"data\\\":[{\\\"name\\\":\\\"knockout\\\",\\\"type\\\":\\\"js\\\",\\\"url\\\":\\\"/assetserver/727383f2a47bd31570b7da84eee7b022dd6d7c78-knockout.js\\\"},{\\\"name\\\":\\\"knockout_punches\\\",\\\"type\\\":\\\"js\\\",\\\"url\\\":\\\"/assetserver/382b41b3b1bd9f26f75861d360bad7f8beea211f-knockout_punches.js\\\"}],\\\"type\\\":\\\"async_block\\\"})).then((imports) => handler.apply(this, imports));\\n}\\n\")])], Dict{Symbol, Any}(:className => \"field interact-widget\")), WebIO.Node{WebIO.DOM}(WebIO.DOM(:html, :div), Any[WebIO.Scope(WebIO.Node{WebIO.DOM}(WebIO.DOM(:html, :div), Any[WebIO.Node{WebIO.DOM}(WebIO.DOM(:html, :div), Any[WebIO.Node{WebIO.DOM}(WebIO.DOM(:html, :label), Any[\"scale\"], Dict{Symbol, Any}(:className => \"interact \", :style => Dict{Any, Any}(:padding => \"5px 10px 0px 10px\")))], Dict{Symbol, Any}(:className => \"interact-flex-row-left\")), WebIO.Node{WebIO.DOM}(WebIO.DOM(:html, :div), Any[WebIO.Node{WebIO.DOM}(WebIO.DOM(:html, :input), Any[], Dict{Symbol, Any}(:max => 20, :min => 1, :attributes => Dict{Any, Any}(:type => \"range\", Symbol(\"data-bind\") => \"numericValue: index, valueUpdate: 'input', event: {change: function (){this.changes(this.changes()+1)}}\", \"orient\" => \"horizontal\"), :step => 1, :className => \"slider slider is-fullwidth\", :style => Dict{Any, Any}()))], Dict{Symbol, Any}(:className => \"interact-flex-row-center\")), WebIO.Node{WebIO.DOM}(WebIO.DOM(:html, :div), Any[WebIO.Node{WebIO.DOM}(WebIO.DOM(:html, :p), Any[], Dict{Symbol, Any}(:attributes => Dict(\"data-bind\" => \"text: formatted_val\")))], Dict{Symbol, Any}(:className => \"interact-flex-row-right\"))], Dict{Symbol, Any}(:className => \"interact-flex-row interact-widget\")), Dict{String, Tuple{Observables.AbstractObservable, Union{Nothing, Bool}}}(\"changes\" => (Observable(0), nothing), \"index\" => (Observable{Any}(10), nothing)), Set{String}(), nothing, WebIO.Asset[WebIO.Asset(\"js\", \"knockout\", \"/home/dushya/.julia/packages/Knockout/HReiN/src/../assets/knockout.js\"), WebIO.Asset(\"js\", \"knockout_punches\", \"/home/dushya/.julia/packages/Knockout/HReiN/src/../assets/knockout_punches.js\"), WebIO.Asset(\"js\", nothing, \"/home/dushya/.julia/packages/InteractBase/LJXv3/src/../assets/all.js\"), WebIO.Asset(\"css\", nothing, \"/home/dushya/.julia/packages/InteractBase/LJXv3/src/../assets/style.css\"), WebIO.Asset(\"css\", nothing, \"/home/dushya/.julia/packages/Interact/PENUy/src/../assets/bulma_confined.min.css\")], Dict{Any, Any}(\"changes\" => Any[WebIO.JSString(\"(function (val){return (val!=this.model[\\\"changes\\\"]()) ? (this.valueFromJulia[\\\"changes\\\"]=true, this.model[\\\"changes\\\"](val)) : undefined})\")], \"index\" => Any[WebIO.JSString(\"(function (val){return (val!=this.model[\\\"index\\\"]()) ? (this.valueFromJulia[\\\"index\\\"]=true, this.model[\\\"index\\\"](val)) : undefined})\")]), WebIO.ConnectionPool(Channel{Any}(32), Set{WebIO.AbstractConnection}(), Base.GenericCondition{ReentrantLock}(Base.IntrusiveLinkedList{Task}(Task (runnable) @0x00007fcbb7bcc010, Task (runnable) @0x00007fcbb7bcc010), ReentrantLock(nothing, 0x00000000, 0x00, Base.GenericCondition{Base.Threads.SpinLock}(Base.IntrusiveLinkedList{Task}(nothing, nothing), Base.Threads.SpinLock(0)), (0, 140512971453616, 140512942050320)))), WebIO.JSString[WebIO.JSString(\"function () {\\n    var handler = (function (ko, koPunches) {\\n    ko.punches.enableAll();\\n    ko.bindingHandlers.numericValue = {\\n        init: function(element, valueAccessor, allBindings, data, context) {\\n            var stringified = ko.observable(ko.unwrap(valueAccessor()));\\n            stringified.subscribe(function(value) {\\n                var val = parseFloat(value);\\n                if (!isNaN(val)) {\\n                    valueAccessor()(val);\\n                }\\n            });\\n            valueAccessor().subscribe(function(value) {\\n                var str = JSON.stringify(value);\\n                if ((str == \\\"0\\\") && ([\\\"-0\\\", \\\"-0.\\\"].indexOf(stringified()) >= 0))\\n                     return;\\n                 if ([\\\"null\\\", \\\"\\\"].indexOf(str) >= 0)\\n                     return;\\n                stringified(str);\\n            });\\n            ko.applyBindingsToNode(\\n                element,\\n                {\\n                    value: stringified,\\n                    valueUpdate: allBindings.get('valueUpdate'),\\n                },\\n                context,\\n            );\\n        }\\n    };\\n    var json_data = {\\\"formatted_vals\\\":[\\\"0.1\\\",\\\"0.2\\\",\\\"0.3\\\",\\\"0.4\\\",\\\"0.5\\\",\\\"0.6\\\",\\\"0.7\\\",\\\"0.8\\\",\\\"0.9\\\",\\\"1.0\\\",\\\"1.1\\\",\\\"1.2\\\",\\\"1.3\\\",\\\"1.4\\\",\\\"1.5\\\",\\\"1.6\\\",\\\"1.7\\\",\\\"1.8\\\",\\\"1.9\\\",\\\"2.0\\\"],\\\"changes\\\":WebIO.getval({\\\"name\\\":\\\"changes\\\",\\\"scope\\\":\\\"16787435809986244967\\\",\\\"id\\\":\\\"2858633279866112160\\\",\\\"type\\\":\\\"observable\\\"}),\\\"index\\\":WebIO.getval({\\\"name\\\":\\\"index\\\",\\\"scope\\\":\\\"16787435809986244967\\\",\\\"id\\\":\\\"1145686618606966017\\\",\\\"type\\\":\\\"observable\\\"})};\\n    var self = this;\\n    function AppViewModel() {\\n        for (var key in json_data) {\\n            var el = json_data[key];\\n            this[key] = Array.isArray(el) ? ko.observableArray(el) : ko.observable(el);\\n        }\\n        \\n        [this[\\\"formatted_val\\\"]=ko.computed(    function(){\\n        return this.formatted_vals()[parseInt(this.index())-(1)];\\n    }\\n,this)]\\n        [this[\\\"changes\\\"].subscribe((function (val){!(this.valueFromJulia[\\\"changes\\\"]) ? (WebIO.setval({\\\"name\\\":\\\"changes\\\",\\\"scope\\\":\\\"16787435809986244967\\\",\\\"id\\\":\\\"2858633279866112160\\\",\\\"type\\\":\\\"observable\\\"},val)) : undefined; return this.valueFromJulia[\\\"changes\\\"]=false}),self),this[\\\"index\\\"].subscribe((function (val){!(this.valueFromJulia[\\\"index\\\"]) ? (WebIO.setval({\\\"name\\\":\\\"index\\\",\\\"scope\\\":\\\"16787435809986244967\\\",\\\"id\\\":\\\"1145686618606966017\\\",\\\"type\\\":\\\"observable\\\"},val)) : undefined; return this.valueFromJulia[\\\"index\\\"]=false}),self)]\\n        \\n    }\\n    self.model = new AppViewModel();\\n    self.valueFromJulia = {};\\n    for (var key in json_data) {\\n        self.valueFromJulia[key] = false;\\n    }\\n    ko.applyBindings(self.model, self.dom);\\n}\\n);\\n    (WebIO.importBlock({\\\"data\\\":[{\\\"name\\\":\\\"knockout\\\",\\\"type\\\":\\\"js\\\",\\\"url\\\":\\\"/assetserver/727383f2a47bd31570b7da84eee7b022dd6d7c78-knockout.js\\\"},{\\\"name\\\":\\\"knockout_punches\\\",\\\"type\\\":\\\"js\\\",\\\"url\\\":\\\"/assetserver/382b41b3b1bd9f26f75861d360bad7f8beea211f-knockout_punches.js\\\"}],\\\"type\\\":\\\"async_block\\\"})).then((imports) => handler.apply(this, imports));\\n}\\n\")])], Dict{Symbol, Any}(:className => \"field interact-widget\")), WebIO.Node{WebIO.DOM}(WebIO.DOM(:html, :div), Any[], Dict{Symbol, Any}(:style => Dict(\"display\" => \"flex\", \"flex-direction\" => \"column\"))), WebIO.Node{WebIO.DOM}(WebIO.DOM(:html, :div), Any[WebIO.Node{WebIO.DOM}(WebIO.DOM(:html, :div), Any[WebIO.Scope(WebIO.Node{WebIO.DOM}(WebIO.DOM(:html, :div), Any[WebIO.Node{WebIO.DOM}(WebIO.DOM(:html, :div), Any[WebIO.Node{WebIO.DOM}(WebIO.DOM(:html, :label), Any[\"alive_percent\"], Dict{Symbol, Any}(:className => \"interact \", :style => Dict{Any, Any}(:padding => \"5px 10px 0px 10px\")))], Dict{Symbol, Any}(:className => \"interact-flex-row-left\")), WebIO.Node{WebIO.DOM}(WebIO.DOM(:html, :div), Any[WebIO.Node{WebIO.DOM}(WebIO.DOM(:html, :input), Any[], Dict{Symbol, Any}(:max => 101, :min => 1, :attributes => Dict{Any, Any}(:type => \"range\", Symbol(\"data-bind\") => \"numericValue: index, valueUpdate: 'input', event: {change: function (){this.changes(this.changes()+1)}}\", \"orient\" => \"horizontal\"), :step => 1, :className => \"slider slider is-fullwidth\", :style => Dict{Any, Any}()))], Dict{Symbol, Any}(:className => \"interact-flex-row-center\")), WebIO.Node{WebIO.DOM}(WebIO.DOM(:html, :div), Any[WebIO.Node{WebIO.DOM}(WebIO.DOM(:html, :p), Any[], Dict{Symbol, Any}(:attributes => Dict(\"data-bind\" => \"text: formatted_val\")))], Dict{Symbol, Any}(:className => \"interact-flex-row-right\"))], Dict{Symbol, Any}(:className => \"interact-flex-row interact-widget\")), Dict{String, Tuple{Observables.AbstractObservable, Union{Nothing, Bool}}}(\"changes\" => (Observable(0), nothing), \"index\" => (Observable{Any}(51), nothing)), Set{String}(), nothing, WebIO.Asset[WebIO.Asset(\"js\", \"knockout\", \"/home/dushya/.julia/packages/Knockout/HReiN/src/../assets/knockout.js\"), WebIO.Asset(\"js\", \"knockout_punches\", \"/home/dushya/.julia/packages/Knockout/HReiN/src/../assets/knockout_punches.js\"), WebIO.Asset(\"js\", nothing, \"/home/dushya/.julia/packages/InteractBase/LJXv3/src/../assets/all.js\"), WebIO.Asset(\"css\", nothing, \"/home/dushya/.julia/packages/InteractBase/LJXv3/src/../assets/style.css\"), WebIO.Asset(\"css\", nothing, \"/home/dushya/.julia/packages/Interact/PENUy/src/../assets/bulma_confined.min.css\")], Dict{Any, Any}(\"changes\" => Any[WebIO.JSString(\"(function (val){return (val!=this.model[\\\"changes\\\"]()) ? (this.valueFromJulia[\\\"changes\\\"]=true, this.model[\\\"changes\\\"](val)) : undefined})\")], \"index\" => Any[WebIO.JSString(\"(function (val){return (val!=this.model[\\\"index\\\"]()) ? (this.valueFromJulia[\\\"index\\\"]=true, this.model[\\\"index\\\"](val)) : undefined})\")]), WebIO.ConnectionPool(Channel{Any}(32), Set{WebIO.AbstractConnection}(), Base.GenericCondition{ReentrantLock}(Base.IntrusiveLinkedList{Task}(Task (runnable) @0x00007fcbb7c352d0, Task (runnable) @0x00007fcbb7c352d0), ReentrantLock(nothing, 0x00000000, 0x00, Base.GenericCondition{Base.Threads.SpinLock}(Base.IntrusiveLinkedList{Task}(nothing, nothing), Base.Threads.SpinLock(0)), (0, 140511845860352, 141733920768)))), WebIO.JSString[WebIO.JSString(\"function () {\\n    var handler = (function (ko, koPunches) {\\n    ko.punches.enableAll();\\n    ko.bindingHandlers.numericValue = {\\n        init: function(element, valueAccessor, allBindings, data, context) {\\n            var stringified = ko.observable(ko.unwrap(valueAccessor()));\\n            stringified.subscribe(function(value) {\\n                var val = parseFloat(value);\\n                if (!isNaN(val)) {\\n                    valueAccessor()(val);\\n                }\\n            });\\n            valueAccessor().subscribe(function(value) {\\n                var str = JSON.stringify(value);\\n                if ((str == \\\"0\\\") && ([\\\"-0\\\", \\\"-0.\\\"].indexOf(stringified()) >= 0))\\n                     return;\\n                 if ([\\\"null\\\", \\\"\\\"].indexOf(str) >= 0)\\n                     return;\\n                stringified(str);\\n            });\\n            ko.applyBindingsToNode(\\n                element,\\n                {\\n                    value: stringified,\\n                    valueUpdate: allBindings.get('valueUpdate'),\\n                },\\n                context,\\n            );\\n        }\\n    };\\n    var json_data = {\\\"formatted_vals\\\":[\\\"0.0\\\",\\\"0.01\\\",\\\"0.02\\\",\\\"0.03\\\",\\\"0.04\\\",\\\"0.05\\\",\\\"0.06\\\",\\\"0.07\\\",\\\"0.08\\\",\\\"0.09\\\",\\\"0.1\\\",\\\"0.11\\\",\\\"0.12\\\",\\\"0.13\\\",\\\"0.14\\\",\\\"0.15\\\",\\\"0.16\\\",\\\"0.17\\\",\\\"0.18\\\",\\\"0.19\\\",\\\"0.2\\\",\\\"0.21\\\",\\\"0.22\\\",\\\"0.23\\\",\\\"0.24\\\",\\\"0.25\\\",\\\"0.26\\\",\\\"0.27\\\",\\\"0.28\\\",\\\"0.29\\\",\\\"0.3\\\",\\\"0.31\\\",\\\"0.32\\\",\\\"0.33\\\",\\\"0.34\\\",\\\"0.35\\\",\\\"0.36\\\",\\\"0.37\\\",\\\"0.38\\\",\\\"0.39\\\",\\\"0.4\\\",\\\"0.41\\\",\\\"0.42\\\",\\\"0.43\\\",\\\"0.44\\\",\\\"0.45\\\",\\\"0.46\\\",\\\"0.47\\\",\\\"0.48\\\",\\\"0.49\\\",\\\"0.5\\\",\\\"0.51\\\",\\\"0.52\\\",\\\"0.53\\\",\\\"0.54\\\",\\\"0.55\\\",\\\"0.56\\\",\\\"0.57\\\",\\\"0.58\\\",\\\"0.59\\\",\\\"0.6\\\",\\\"0.61\\\",\\\"0.62\\\",\\\"0.63\\\",\\\"0.64\\\",\\\"0.65\\\",\\\"0.66\\\",\\\"0.67\\\",\\\"0.68\\\",\\\"0.69\\\",\\\"0.7\\\",\\\"0.71\\\",\\\"0.72\\\",\\\"0.73\\\",\\\"0.74\\\",\\\"0.75\\\",\\\"0.76\\\",\\\"0.77\\\",\\\"0.78\\\",\\\"0.79\\\",\\\"0.8\\\",\\\"0.81\\\",\\\"0.82\\\",\\\"0.83\\\",\\\"0.84\\\",\\\"0.85\\\",\\\"0.86\\\",\\\"0.87\\\",\\\"0.88\\\",\\\"0.89\\\",\\\"0.9\\\",\\\"0.91\\\",\\\"0.92\\\",\\\"0.93\\\",\\\"0.94\\\",\\\"0.95\\\",\\\"0.96\\\",\\\"0.97\\\",\\\"0.98\\\",\\\"0.99\\\",\\\"1.0\\\"],\\\"changes\\\":WebIO.getval({\\\"name\\\":\\\"changes\\\",\\\"scope\\\":\\\"17937667682054112389\\\",\\\"id\\\":\\\"6782760257242168347\\\",\\\"type\\\":\\\"observable\\\"}),\\\"index\\\":WebIO.getval({\\\"name\\\":\\\"index\\\",\\\"scope\\\":\\\"17937667682054112389\\\",\\\"id\\\":\\\"7676206220077387296\\\",\\\"type\\\":\\\"observable\\\"})};\\n    var self = this;\\n    function AppViewModel() {\\n        for (var key in json_data) {\\n            var el = json_data[key];\\n            this[key] = Array.isArray(el) ? ko.observableArray(el) : ko.observable(el);\\n        }\\n        \\n        [this[\\\"formatted_val\\\"]=ko.computed(    function(){\\n        return this.formatted_vals()[parseInt(this.index())-(1)];\\n    }\\n,this)]\\n        [this[\\\"changes\\\"].subscribe((function (val){!(this.valueFromJulia[\\\"changes\\\"]) ? (WebIO.setval({\\\"name\\\":\\\"changes\\\",\\\"scope\\\":\\\"17937667682054112389\\\",\\\"id\\\":\\\"6782760257242168347\\\",\\\"type\\\":\\\"observable\\\"},val)) : undefined; return this.valueFromJulia[\\\"changes\\\"]=false}),self),this[\\\"index\\\"].subscribe((function (val){!(this.valueFromJulia[\\\"index\\\"]) ? (WebIO.setval({\\\"name\\\":\\\"index\\\",\\\"scope\\\":\\\"17937667682054112389\\\",\\\"id\\\":\\\"7676206220077387296\\\",\\\"type\\\":\\\"observable\\\"},val)) : undefined; return this.valueFromJulia[\\\"index\\\"]=false}),self)]\\n        \\n    }\\n    self.model = new AppViewModel();\\n    self.valueFromJulia = {};\\n    for (var key in json_data) {\\n        self.valueFromJulia[key] = false;\\n    }\\n    ko.applyBindings(self.model, self.dom);\\n}\\n);\\n    (WebIO.importBlock({\\\"data\\\":[{\\\"name\\\":\\\"knockout\\\",\\\"type\\\":\\\"js\\\",\\\"url\\\":\\\"/assetserver/727383f2a47bd31570b7da84eee7b022dd6d7c78-knockout.js\\\"},{\\\"name\\\":\\\"knockout_punches\\\",\\\"type\\\":\\\"js\\\",\\\"url\\\":\\\"/assetserver/382b41b3b1bd9f26f75861d360bad7f8beea211f-knockout_punches.js\\\"}],\\\"type\\\":\\\"async_block\\\"})).then((imports) => handler.apply(this, imports));\\n}\\n\")])], Dict{Symbol, Any}(:className => \"field interact-widget\"))], Dict{Symbol, Any}(:style => Dict(\"display\" => \"flex\", \"flex-direction\" => \"column\"))), WebIO.Node{WebIO.DOM}(WebIO.DOM(:html, :div), Any[WebIO.Node{WebIO.DOM}(WebIO.DOM(:html, :div), Any[WebIO.Scope(WebIO.Node{WebIO.DOM}(WebIO.DOM(:html, :div), Any[], Dict{Symbol, Any}(:id => \"container\")), Dict{String, Tuple{Observables.AbstractObservable, Union{Nothing, Bool}}}(\"value\" => (Observable(\"\\\\;\\\\;\"), nothing)), Set{String}(), nothing, WebIO.Asset[WebIO.Asset(\"js\", nothing, \"/home/dushya/.julia/packages/InteractBase/LJXv3/src/../assets/katex.min.js\"), WebIO.Asset(\"css\", nothing, \"/home/dushya/.julia/packages/InteractBase/LJXv3/src/../assets/katex.min.css\")], Dict{Any, Any}(\"value\" => Any[WebIO.JSString(\"(function (txt){return this.k.render(txt,this.container)})\")]), WebIO.ConnectionPool(Channel{Any}(32), Set{WebIO.AbstractConnection}(), Base.GenericCondition{ReentrantLock}(Base.IntrusiveLinkedList{Task}(Task (runnable) @0x00007fcb460d4010, Task (runnable) @0x00007fcb460d4010), ReentrantLock(nothing, 0x00000000, 0x00, Base.GenericCondition{Base.Threads.SpinLock}(Base.IntrusiveLinkedList{Task}(nothing, nothing), Base.Threads.SpinLock(0)), (0, 0, 137438953472)))), WebIO.JSString[WebIO.JSString(\"function () {\\n    var handler = ((function (k){this.k=k; this.container=this.dom.querySelector(\\\"#container\\\"); return k.render(\\\"\\\\\\\\;\\\\\\\\;\\\",this.container)}));\\n    (WebIO.importBlock({\\\"data\\\":[{\\\"name\\\":null,\\\"type\\\":\\\"js\\\",\\\"url\\\":\\\"/assetserver/dd22ed1bf1896c2748f3fe616ce0b838adc895c1-katex.min.js\\\"},{\\\"name\\\":null,\\\"type\\\":\\\"css\\\",\\\"url\\\":\\\"/assetserver/46517a424aa5e6cffc1360d7e0848b601c584ee3-katex.min.css\\\"}],\\\"type\\\":\\\"async_block\\\"})).then((imports) => handler.apply(this, imports));\\n}\\n\")])], Dict{Symbol, Any}(:className => \"interact-widget\")), WebIO.Node{WebIO.DOM}(WebIO.DOM(:html, :div), Any[WebIO.Scope(WebIO.Node{WebIO.DOM}(WebIO.DOM(:html, :button), Any[\"run\"], Dict{Symbol, Any}(:attributes => Dict{Any, Any}(\"data-bind\" => \"click: function (){this.clicks(this.clicks()+1)}, css: {'is-loading' : loading}\"), :className => \"is-medium button is-primary\", :style => Dict{String, Any}())), Dict{String, Tuple{Observables.AbstractObservable, Union{Nothing, Bool}}}(\"loading\" => (Observable(false), nothing), \"clicks\" => (Observable(0), nothing)), Set{String}(), nothing, WebIO.Asset[WebIO.Asset(\"js\", \"knockout\", \"/home/dushya/.julia/packages/Knockout/HReiN/src/../assets/knockout.js\"), WebIO.Asset(\"js\", \"knockout_punches\", \"/home/dushya/.julia/packages/Knockout/HReiN/src/../assets/knockout_punches.js\"), WebIO.Asset(\"js\", nothing, \"/home/dushya/.julia/packages/InteractBase/LJXv3/src/../assets/all.js\"), WebIO.Asset(\"css\", nothing, \"/home/dushya/.julia/packages/InteractBase/LJXv3/src/../assets/style.css\"), WebIO.Asset(\"css\", nothing, \"/home/dushya/.julia/packages/Interact/PENUy/src/../assets/bulma_confined.min.css\")], Dict{Any, Any}(\"loading\" => Any[WebIO.JSString(\"(function (val){return (val!=this.model[\\\"loading\\\"]()) ? (this.valueFromJulia[\\\"loading\\\"]=true, this.model[\\\"loading\\\"](val)) : undefined})\")], \"clicks\" => Any[WebIO.JSString(\"(function (val){return (val!=this.model[\\\"clicks\\\"]()) ? (this.valueFromJulia[\\\"clicks\\\"]=true, this.model[\\\"clicks\\\"](val)) : undefined})\")]), WebIO.ConnectionPool(Channel{Any}(32), Set{WebIO.AbstractConnection}(), Base.GenericCondition{ReentrantLock}(Base.IntrusiveLinkedList{Task}(Task (runnable) @0x00007fcbb7c37b70, Task (runnable) @0x00007fcbb7c37b70), ReentrantLock(nothing, 0x00000000, 0x00, Base.GenericCondition{Base.Threads.SpinLock}(Base.IntrusiveLinkedList{Task}(nothing, nothing), Base.Threads.SpinLock(0)), (8, 140512971452800, 140511854445072)))), WebIO.JSString[WebIO.JSString(\"function () {\\n    var handler = (function (ko, koPunches) {\\n    ko.punches.enableAll();\\n    ko.bindingHandlers.numericValue = {\\n        init: function(element, valueAccessor, allBindings, data, context) {\\n            var stringified = ko.observable(ko.unwrap(valueAccessor()));\\n            stringified.subscribe(function(value) {\\n                var val = parseFloat(value);\\n                if (!isNaN(val)) {\\n                    valueAccessor()(val);\\n                }\\n            });\\n            valueAccessor().subscribe(function(value) {\\n                var str = JSON.stringify(value);\\n                if ((str == \\\"0\\\") && ([\\\"-0\\\", \\\"-0.\\\"].indexOf(stringified()) >= 0))\\n                     return;\\n                 if ([\\\"null\\\", \\\"\\\"].indexOf(str) >= 0)\\n                     return;\\n                stringified(str);\\n            });\\n            ko.applyBindingsToNode(\\n                element,\\n                {\\n                    value: stringified,\\n                    valueUpdate: allBindings.get('valueUpdate'),\\n                },\\n                context,\\n            );\\n        }\\n    };\\n    var json_data = {\\\"loading\\\":WebIO.getval({\\\"name\\\":\\\"loading\\\",\\\"scope\\\":\\\"7856102146880889326\\\",\\\"id\\\":\\\"7510031881806389873\\\",\\\"type\\\":\\\"observable\\\"}),\\\"clicks\\\":WebIO.getval({\\\"name\\\":\\\"clicks\\\",\\\"scope\\\":\\\"7856102146880889326\\\",\\\"id\\\":\\\"11675374771607529071\\\",\\\"type\\\":\\\"observable\\\"})};\\n    var self = this;\\n    function AppViewModel() {\\n        for (var key in json_data) {\\n            var el = json_data[key];\\n            this[key] = Array.isArray(el) ? ko.observableArray(el) : ko.observable(el);\\n        }\\n        \\n        \\n        [this[\\\"loading\\\"].subscribe((function (val){!(this.valueFromJulia[\\\"loading\\\"]) ? (WebIO.setval({\\\"name\\\":\\\"loading\\\",\\\"scope\\\":\\\"7856102146880889326\\\",\\\"id\\\":\\\"7510031881806389873\\\",\\\"type\\\":\\\"observable\\\"},val)) : undefined; return this.valueFromJulia[\\\"loading\\\"]=false}),self),this[\\\"clicks\\\"].subscribe((function (val){!(this.valueFromJulia[\\\"clicks\\\"]) ? (WebIO.setval({\\\"name\\\":\\\"clicks\\\",\\\"scope\\\":\\\"7856102146880889326\\\",\\\"id\\\":\\\"11675374771607529071\\\",\\\"type\\\":\\\"observable\\\"},val)) : undefined; return this.valueFromJulia[\\\"clicks\\\"]=false}),self)]\\n        \\n    }\\n    self.model = new AppViewModel();\\n    self.valueFromJulia = {};\\n    for (var key in json_data) {\\n        self.valueFromJulia[key] = false;\\n    }\\n    ko.applyBindings(self.model, self.dom);\\n}\\n);\\n    (WebIO.importBlock({\\\"data\\\":[{\\\"name\\\":\\\"knockout\\\",\\\"type\\\":\\\"js\\\",\\\"url\\\":\\\"/assetserver/727383f2a47bd31570b7da84eee7b022dd6d7c78-knockout.js\\\"},{\\\"name\\\":\\\"knockout_punches\\\",\\\"type\\\":\\\"js\\\",\\\"url\\\":\\\"/assetserver/382b41b3b1bd9f26f75861d360bad7f8beea211f-knockout_punches.js\\\"}],\\\"type\\\":\\\"async_block\\\"})).then((imports) => handler.apply(this, imports));\\n}\\n\")])], Dict{Symbol, Any}(:className => \"field interact-widget\")), WebIO.Node{WebIO.DOM}(WebIO.DOM(:html, :div), Any[WebIO.Scope(WebIO.Node{WebIO.DOM}(WebIO.DOM(:html, :div), Any[], Dict{Symbol, Any}(:id => \"container\")), Dict{String, Tuple{Observables.AbstractObservable, Union{Nothing, Bool}}}(\"value\" => (Observable(\"\\\\;\\\\;\"), nothing)), Set{String}(), nothing, WebIO.Asset[WebIO.Asset(\"js\", nothing, \"/home/dushya/.julia/packages/InteractBase/LJXv3/src/../assets/katex.min.js\"), WebIO.Asset(\"css\", nothing, \"/home/dushya/.julia/packages/InteractBase/LJXv3/src/../assets/katex.min.css\")], Dict{Any, Any}(\"value\" => Any[WebIO.JSString(\"(function (txt){return this.k.render(txt,this.container)})\")]), WebIO.ConnectionPool(Channel{Any}(32), Set{WebIO.AbstractConnection}(), Base.GenericCondition{ReentrantLock}(Base.IntrusiveLinkedList{Task}(Task (runnable) @0x00007fcb460d4010, Task (runnable) @0x00007fcb460d4010), ReentrantLock(nothing, 0x00000000, 0x00, Base.GenericCondition{Base.Threads.SpinLock}(Base.IntrusiveLinkedList{Task}(nothing, nothing), Base.Threads.SpinLock(0)), (0, 0, 137438953472)))), WebIO.JSString[WebIO.JSString(\"function () {\\n    var handler = ((function (k){this.k=k; this.container=this.dom.querySelector(\\\"#container\\\"); return k.render(\\\"\\\\\\\\;\\\\\\\\;\\\",this.container)}));\\n    (WebIO.importBlock({\\\"data\\\":[{\\\"name\\\":null,\\\"type\\\":\\\"js\\\",\\\"url\\\":\\\"/assetserver/dd22ed1bf1896c2748f3fe616ce0b838adc895c1-katex.min.js\\\"},{\\\"name\\\":null,\\\"type\\\":\\\"css\\\",\\\"url\\\":\\\"/assetserver/46517a424aa5e6cffc1360d7e0848b601c584ee3-katex.min.css\\\"}],\\\"type\\\":\\\"async_block\\\"})).then((imports) => handler.apply(this, imports));\\n}\\n\")])], Dict{Symbol, Any}(:className => \"interact-widget\")), WebIO.Node{WebIO.DOM}(WebIO.DOM(:html, :div), Any[WebIO.Scope(WebIO.Node{WebIO.DOM}(WebIO.DOM(:html, :button), Any[\"stop\"], Dict{Symbol, Any}(:attributes => Dict{Any, Any}(\"data-bind\" => \"click: function (){this.clicks(this.clicks()+1)}, css: {'is-loading' : loading}\"), :className => \"is-medium button is-primary\", :style => Dict{String, Any}())), Dict{String, Tuple{Observables.AbstractObservable, Union{Nothing, Bool}}}(\"loading\" => (Observable(false), nothing), \"clicks\" => (Observable(0), nothing)), Set{String}(), nothing, WebIO.Asset[WebIO.Asset(\"js\", \"knockout\", \"/home/dushya/.julia/packages/Knockout/HReiN/src/../assets/knockout.js\"), WebIO.Asset(\"js\", \"knockout_punches\", \"/home/dushya/.julia/packages/Knockout/HReiN/src/../assets/knockout_punches.js\"), WebIO.Asset(\"js\", nothing, \"/home/dushya/.julia/packages/InteractBase/LJXv3/src/../assets/all.js\"), WebIO.Asset(\"css\", nothing, \"/home/dushya/.julia/packages/InteractBase/LJXv3/src/../assets/style.css\"), WebIO.Asset(\"css\", nothing, \"/home/dushya/.julia/packages/Interact/PENUy/src/../assets/bulma_confined.min.css\")], Dict{Any, Any}(\"loading\" => Any[WebIO.JSString(\"(function (val){return (val!=this.model[\\\"loading\\\"]()) ? (this.valueFromJulia[\\\"loading\\\"]=true, this.model[\\\"loading\\\"](val)) : undefined})\")], \"clicks\" => Any[WebIO.JSString(\"(function (val){return (val!=this.model[\\\"clicks\\\"]()) ? (this.valueFromJulia[\\\"clicks\\\"]=true, this.model[\\\"clicks\\\"](val)) : undefined})\")]), WebIO.ConnectionPool(Channel{Any}(32), Set{WebIO.AbstractConnection}(), Base.GenericCondition{ReentrantLock}(Base.IntrusiveLinkedList{Task}(Task (runnable) @0x00007fcbb7d52720, Task (runnable) @0x00007fcbb7d52720), ReentrantLock(nothing, 0x00000000, 0x00, Base.GenericCondition{Base.Threads.SpinLock}(Base.IntrusiveLinkedList{Task}(nothing, nothing), Base.Threads.SpinLock(0)), (0, 140512742761120, 140512942515680)))), WebIO.JSString[WebIO.JSString(\"function () {\\n    var handler = (function (ko, koPunches) {\\n    ko.punches.enableAll();\\n    ko.bindingHandlers.numericValue = {\\n        init: function(element, valueAccessor, allBindings, data, context) {\\n            var stringified = ko.observable(ko.unwrap(valueAccessor()));\\n            stringified.subscribe(function(value) {\\n                var val = parseFloat(value);\\n                if (!isNaN(val)) {\\n                    valueAccessor()(val);\\n                }\\n            });\\n            valueAccessor().subscribe(function(value) {\\n                var str = JSON.stringify(value);\\n                if ((str == \\\"0\\\") && ([\\\"-0\\\", \\\"-0.\\\"].indexOf(stringified()) >= 0))\\n                     return;\\n                 if ([\\\"null\\\", \\\"\\\"].indexOf(str) >= 0)\\n                     return;\\n                stringified(str);\\n            });\\n            ko.applyBindingsToNode(\\n                element,\\n                {\\n                    value: stringified,\\n                    valueUpdate: allBindings.get('valueUpdate'),\\n                },\\n                context,\\n            );\\n        }\\n    };\\n    var json_data = {\\\"loading\\\":WebIO.getval({\\\"name\\\":\\\"loading\\\",\\\"scope\\\":\\\"17441485007210243482\\\",\\\"id\\\":\\\"1675111558121309977\\\",\\\"type\\\":\\\"observable\\\"}),\\\"clicks\\\":WebIO.getval({\\\"name\\\":\\\"clicks\\\",\\\"scope\\\":\\\"17441485007210243482\\\",\\\"id\\\":\\\"10934485591896696490\\\",\\\"type\\\":\\\"observable\\\"})};\\n    var self = this;\\n    function AppViewModel() {\\n        for (var key in json_data) {\\n            var el = json_data[key];\\n            this[key] = Array.isArray(el) ? ko.observableArray(el) : ko.observable(el);\\n        }\\n        \\n        \\n        [this[\\\"loading\\\"].subscribe((function (val){!(this.valueFromJulia[\\\"loading\\\"]) ? (WebIO.setval({\\\"name\\\":\\\"loading\\\",\\\"scope\\\":\\\"17441485007210243482\\\",\\\"id\\\":\\\"1675111558121309977\\\",\\\"type\\\":\\\"observable\\\"},val)) : undefined; return this.valueFromJulia[\\\"loading\\\"]=false}),self),this[\\\"clicks\\\"].subscribe((function (val){!(this.valueFromJulia[\\\"clicks\\\"]) ? (WebIO.setval({\\\"name\\\":\\\"clicks\\\",\\\"scope\\\":\\\"17441485007210243482\\\",\\\"id\\\":\\\"10934485591896696490\\\",\\\"type\\\":\\\"observable\\\"},val)) : undefined; return this.valueFromJulia[\\\"clicks\\\"]=false}),self)]\\n        \\n    }\\n    self.model = new AppViewModel();\\n    self.valueFromJulia = {};\\n    for (var key in json_data) {\\n        self.valueFromJulia[key] = false;\\n    }\\n    ko.applyBindings(self.model, self.dom);\\n}\\n);\\n    (WebIO.importBlock({\\\"data\\\":[{\\\"name\\\":\\\"knockout\\\",\\\"type\\\":\\\"js\\\",\\\"url\\\":\\\"/assetserver/727383f2a47bd31570b7da84eee7b022dd6d7c78-knockout.js\\\"},{\\\"name\\\":\\\"knockout_punches\\\",\\\"type\\\":\\\"js\\\",\\\"url\\\":\\\"/assetserver/382b41b3b1bd9f26f75861d360bad7f8beea211f-knockout_punches.js\\\"}],\\\"type\\\":\\\"async_block\\\"})).then((imports) => handler.apply(this, imports));\\n}\\n\")])], Dict{Symbol, Any}(:className => \"field interact-widget\")), WebIO.Node{WebIO.DOM}(WebIO.DOM(:html, :div), Any[WebIO.Scope(WebIO.Node{WebIO.DOM}(WebIO.DOM(:html, :div), Any[], Dict{Symbol, Any}(:id => \"container\")), Dict{String, Tuple{Observables.AbstractObservable, Union{Nothing, Bool}}}(\"value\" => (Observable(\"\\\\;\\\\;\"), nothing)), Set{String}(), nothing, WebIO.Asset[WebIO.Asset(\"js\", nothing, \"/home/dushya/.julia/packages/InteractBase/LJXv3/src/../assets/katex.min.js\"), WebIO.Asset(\"css\", nothing, \"/home/dushya/.julia/packages/InteractBase/LJXv3/src/../assets/katex.min.css\")], Dict{Any, Any}(\"value\" => Any[WebIO.JSString(\"(function (txt){return this.k.render(txt,this.container)})\")]), WebIO.ConnectionPool(Channel{Any}(32), Set{WebIO.AbstractConnection}(), Base.GenericCondition{ReentrantLock}(Base.IntrusiveLinkedList{Task}(Task (runnable) @0x00007fcb460d4010, Task (runnable) @0x00007fcb460d4010), ReentrantLock(nothing, 0x00000000, 0x00, Base.GenericCondition{Base.Threads.SpinLock}(Base.IntrusiveLinkedList{Task}(nothing, nothing), Base.Threads.SpinLock(0)), (0, 0, 137438953472)))), WebIO.JSString[WebIO.JSString(\"function () {\\n    var handler = ((function (k){this.k=k; this.container=this.dom.querySelector(\\\"#container\\\"); return k.render(\\\"\\\\\\\\;\\\\\\\\;\\\",this.container)}));\\n    (WebIO.importBlock({\\\"data\\\":[{\\\"name\\\":null,\\\"type\\\":\\\"js\\\",\\\"url\\\":\\\"/assetserver/dd22ed1bf1896c2748f3fe616ce0b838adc895c1-katex.min.js\\\"},{\\\"name\\\":null,\\\"type\\\":\\\"css\\\",\\\"url\\\":\\\"/assetserver/46517a424aa5e6cffc1360d7e0848b601c584ee3-katex.min.css\\\"}],\\\"type\\\":\\\"async_block\\\"})).then((imports) => handler.apply(this, imports));\\n}\\n\")])], Dict{Symbol, Any}(:className => \"interact-widget\")), WebIO.Node{WebIO.DOM}(WebIO.DOM(:html, :div), Any[WebIO.Scope(WebIO.Node{WebIO.DOM}(WebIO.DOM(:html, :button), Any[\"reset\"], Dict{Symbol, Any}(:attributes => Dict{Any, Any}(\"data-bind\" => \"click: function (){this.clicks(this.clicks()+1)}, css: {'is-loading' : loading}\"), :className => \"is-medium button is-primary\", :style => Dict{String, Any}())), Dict{String, Tuple{Observables.AbstractObservable, Union{Nothing, Bool}}}(\"loading\" => (Observable(false), nothing), \"clicks\" => (Observable(0), nothing)), Set{String}(), nothing, WebIO.Asset[WebIO.Asset(\"js\", \"knockout\", \"/home/dushya/.julia/packages/Knockout/HReiN/src/../assets/knockout.js\"), WebIO.Asset(\"js\", \"knockout_punches\", \"/home/dushya/.julia/packages/Knockout/HReiN/src/../assets/knockout_punches.js\"), WebIO.Asset(\"js\", nothing, \"/home/dushya/.julia/packages/InteractBase/LJXv3/src/../assets/all.js\"), WebIO.Asset(\"css\", nothing, \"/home/dushya/.julia/packages/InteractBase/LJXv3/src/../assets/style.css\"), WebIO.Asset(\"css\", nothing, \"/home/dushya/.julia/packages/Interact/PENUy/src/../assets/bulma_confined.min.css\")], Dict{Any, Any}(\"loading\" => Any[WebIO.JSString(\"(function (val){return (val!=this.model[\\\"loading\\\"]()) ? (this.valueFromJulia[\\\"loading\\\"]=true, this.model[\\\"loading\\\"](val)) : undefined})\")], \"clicks\" => Any[WebIO.JSString(\"(function (val){return (val!=this.model[\\\"clicks\\\"]()) ? (this.valueFromJulia[\\\"clicks\\\"]=true, this.model[\\\"clicks\\\"](val)) : undefined})\")]), WebIO.ConnectionPool(Channel{Any}(32), Set{WebIO.AbstractConnection}(), Base.GenericCondition{ReentrantLock}(Base.IntrusiveLinkedList{Task}(Task (runnable) @0x00007fcbb7dc12d0, Task (runnable) @0x00007fcbb7dc12d0), ReentrantLock(nothing, 0x00000000, 0x00, Base.GenericCondition{Base.Threads.SpinLock}(Base.IntrusiveLinkedList{Task}(nothing, nothing), Base.Threads.SpinLock(0)), (0, 140511050066784, 140511854501232)))), WebIO.JSString[WebIO.JSString(\"function () {\\n    var handler = (function (ko, koPunches) {\\n    ko.punches.enableAll();\\n    ko.bindingHandlers.numericValue = {\\n        init: function(element, valueAccessor, allBindings, data, context) {\\n            var stringified = ko.observable(ko.unwrap(valueAccessor()));\\n            stringified.subscribe(function(value) {\\n                var val = parseFloat(value);\\n                if (!isNaN(val)) {\\n                    valueAccessor()(val);\\n                }\\n            });\\n            valueAccessor().subscribe(function(value) {\\n                var str = JSON.stringify(value);\\n                if ((str == \\\"0\\\") && ([\\\"-0\\\", \\\"-0.\\\"].indexOf(stringified()) >= 0))\\n                     return;\\n                 if ([\\\"null\\\", \\\"\\\"].indexOf(str) >= 0)\\n                     return;\\n                stringified(str);\\n            });\\n            ko.applyBindingsToNode(\\n                element,\\n                {\\n                    value: stringified,\\n                    valueUpdate: allBindings.get('valueUpdate'),\\n                },\\n                context,\\n            );\\n        }\\n    };\\n    var json_data = {\\\"loading\\\":WebIO.getval({\\\"name\\\":\\\"loading\\\",\\\"scope\\\":\\\"16196049457643463297\\\",\\\"id\\\":\\\"9231105458712155610\\\",\\\"type\\\":\\\"observable\\\"}),\\\"clicks\\\":WebIO.getval({\\\"name\\\":\\\"clicks\\\",\\\"scope\\\":\\\"16196049457643463297\\\",\\\"id\\\":\\\"7407928384920302326\\\",\\\"type\\\":\\\"observable\\\"})};\\n    var self = this;\\n    function AppViewModel() {\\n        for (var key in json_data) {\\n            var el = json_data[key];\\n            this[key] = Array.isArray(el) ? ko.observableArray(el) : ko.observable(el);\\n        }\\n        \\n        \\n        [this[\\\"loading\\\"].subscribe((function (val){!(this.valueFromJulia[\\\"loading\\\"]) ? (WebIO.setval({\\\"name\\\":\\\"loading\\\",\\\"scope\\\":\\\"16196049457643463297\\\",\\\"id\\\":\\\"9231105458712155610\\\",\\\"type\\\":\\\"observable\\\"},val)) : undefined; return this.valueFromJulia[\\\"loading\\\"]=false}),self),this[\\\"clicks\\\"].subscribe((function (val){!(this.valueFromJulia[\\\"clicks\\\"]) ? (WebIO.setval({\\\"name\\\":\\\"clicks\\\",\\\"scope\\\":\\\"16196049457643463297\\\",\\\"id\\\":\\\"7407928384920302326\\\",\\\"type\\\":\\\"observable\\\"},val)) : undefined; return this.valueFromJulia[\\\"clicks\\\"]=false}),self)]\\n        \\n    }\\n    self.model = new AppViewModel();\\n    self.valueFromJulia = {};\\n    for (var key in json_data) {\\n        self.valueFromJulia[key] = false;\\n    }\\n    ko.applyBindings(self.model, self.dom);\\n}\\n);\\n    (WebIO.importBlock({\\\"data\\\":[{\\\"name\\\":\\\"knockout\\\",\\\"type\\\":\\\"js\\\",\\\"url\\\":\\\"/assetserver/727383f2a47bd31570b7da84eee7b022dd6d7c78-knockout.js\\\"},{\\\"name\\\":\\\"knockout_punches\\\",\\\"type\\\":\\\"js\\\",\\\"url\\\":\\\"/assetserver/382b41b3b1bd9f26f75861d360bad7f8beea211f-knockout_punches.js\\\"}],\\\"type\\\":\\\"async_block\\\"})).then((imports) => handler.apply(this, imports));\\n}\\n\")])], Dict{Symbol, Any}(:className => \"field interact-widget\")), WebIO.Node{WebIO.DOM}(WebIO.DOM(:html, :div), Any[WebIO.Scope(WebIO.Node{WebIO.DOM}(WebIO.DOM(:html, :div), Any[], Dict{Symbol, Any}(:id => \"container\")), Dict{String, Tuple{Observables.AbstractObservable, Union{Nothing, Bool}}}(\"value\" => (Observable(\"\\\\;\\\\;\"), nothing)), Set{String}(), nothing, WebIO.Asset[WebIO.Asset(\"js\", nothing, \"/home/dushya/.julia/packages/InteractBase/LJXv3/src/../assets/katex.min.js\"), WebIO.Asset(\"css\", nothing, \"/home/dushya/.julia/packages/InteractBase/LJXv3/src/../assets/katex.min.css\")], Dict{Any, Any}(\"value\" => Any[WebIO.JSString(\"(function (txt){return this.k.render(txt,this.container)})\")]), WebIO.ConnectionPool(Channel{Any}(32), Set{WebIO.AbstractConnection}(), Base.GenericCondition{ReentrantLock}(Base.IntrusiveLinkedList{Task}(Task (runnable) @0x00007fcb460d4010, Task (runnable) @0x00007fcb460d4010), ReentrantLock(nothing, 0x00000000, 0x00, Base.GenericCondition{Base.Threads.SpinLock}(Base.IntrusiveLinkedList{Task}(nothing, nothing), Base.Threads.SpinLock(0)), (0, 0, 137438953472)))), WebIO.JSString[WebIO.JSString(\"function () {\\n    var handler = ((function (k){this.k=k; this.container=this.dom.querySelector(\\\"#container\\\"); return k.render(\\\"\\\\\\\\;\\\\\\\\;\\\",this.container)}));\\n    (WebIO.importBlock({\\\"data\\\":[{\\\"name\\\":null,\\\"type\\\":\\\"js\\\",\\\"url\\\":\\\"/assetserver/dd22ed1bf1896c2748f3fe616ce0b838adc895c1-katex.min.js\\\"},{\\\"name\\\":null,\\\"type\\\":\\\"css\\\",\\\"url\\\":\\\"/assetserver/46517a424aa5e6cffc1360d7e0848b601c584ee3-katex.min.css\\\"}],\\\"type\\\":\\\"async_block\\\"})).then((imports) => handler.apply(this, imports));\\n}\\n\")])], Dict{Symbol, Any}(:className => \"interact-widget\")), WebIO.Node{WebIO.DOM}(WebIO.DOM(:html, :div), Any[WebIO.Scope(WebIO.Node{WebIO.DOM}(WebIO.DOM(:html, :button), Any[\"save\"], Dict{Symbol, Any}(:attributes => Dict{Any, Any}(\"data-bind\" => \"click: function (){this.clicks(this.clicks()+1)}, css: {'is-loading' : loading}\"), :className => \"is-medium button is-primary\", :style => Dict{String, Any}())), Dict{String, Tuple{Observables.AbstractObservable, Union{Nothing, Bool}}}(\"loading\" => (Observable(false), nothing), \"clicks\" => (Observable(0), nothing)), Set{String}(), nothing, WebIO.Asset[WebIO.Asset(\"js\", \"knockout\", \"/home/dushya/.julia/packages/Knockout/HReiN/src/../assets/knockout.js\"), WebIO.Asset(\"js\", \"knockout_punches\", \"/home/dushya/.julia/packages/Knockout/HReiN/src/../assets/knockout_punches.js\"), WebIO.Asset(\"js\", nothing, \"/home/dushya/.julia/packages/InteractBase/LJXv3/src/../assets/all.js\"), WebIO.Asset(\"css\", nothing, \"/home/dushya/.julia/packages/InteractBase/LJXv3/src/../assets/style.css\"), WebIO.Asset(\"css\", nothing, \"/home/dushya/.julia/packages/Interact/PENUy/src/../assets/bulma_confined.min.css\")], Dict{Any, Any}(\"loading\" => Any[WebIO.JSString(\"(function (val){return (val!=this.model[\\\"loading\\\"]()) ? (this.valueFromJulia[\\\"loading\\\"]=true, this.model[\\\"loading\\\"](val)) : undefined})\")], \"clicks\" => Any[WebIO.JSString(\"(function (val){return (val!=this.model[\\\"clicks\\\"]()) ? (this.valueFromJulia[\\\"clicks\\\"]=true, this.model[\\\"clicks\\\"](val)) : undefined})\")]), WebIO.ConnectionPool(Channel{Any}(32), Set{WebIO.AbstractConnection}(), Base.GenericCondition{ReentrantLock}(Base.IntrusiveLinkedList{Task}(Task (runnable) @0x00007fcbb7e347e0, Task (runnable) @0x00007fcbb7e347e0), ReentrantLock(nothing, 0x00000000, 0x00, Base.GenericCondition{Base.Threads.SpinLock}(Base.IntrusiveLinkedList{Task}(nothing, nothing), Base.Threads.SpinLock(0)), (0, 0, 141733920768)))), WebIO.JSString[WebIO.JSString(\"function () {\\n    var handler = (function (ko, koPunches) {\\n    ko.punches.enableAll();\\n    ko.bindingHandlers.numericValue = {\\n        init: function(element, valueAccessor, allBindings, data, context) {\\n            var stringified = ko.observable(ko.unwrap(valueAccessor()));\\n            stringified.subscribe(function(value) {\\n                var val = parseFloat(value);\\n                if (!isNaN(val)) {\\n                    valueAccessor()(val);\\n                }\\n            });\\n            valueAccessor().subscribe(function(value) {\\n                var str = JSON.stringify(value);\\n                if ((str == \\\"0\\\") && ([\\\"-0\\\", \\\"-0.\\\"].indexOf(stringified()) >= 0))\\n                     return;\\n                 if ([\\\"null\\\", \\\"\\\"].indexOf(str) >= 0)\\n                     return;\\n                stringified(str);\\n            });\\n            ko.applyBindingsToNode(\\n                element,\\n                {\\n                    value: stringified,\\n                    valueUpdate: allBindings.get('valueUpdate'),\\n                },\\n                context,\\n            );\\n        }\\n    };\\n    var json_data = {\\\"loading\\\":WebIO.getval({\\\"name\\\":\\\"loading\\\",\\\"scope\\\":\\\"8992575799879132230\\\",\\\"id\\\":\\\"3341824279397370376\\\",\\\"type\\\":\\\"observable\\\"}),\\\"clicks\\\":WebIO.getval({\\\"name\\\":\\\"clicks\\\",\\\"scope\\\":\\\"8992575799879132230\\\",\\\"id\\\":\\\"12531169169877611052\\\",\\\"type\\\":\\\"observable\\\"})};\\n    var self = this;\\n    function AppViewModel() {\\n        for (var key in json_data) {\\n            var el = json_data[key];\\n            this[key] = Array.isArray(el) ? ko.observableArray(el) : ko.observable(el);\\n        }\\n        \\n        \\n        [this[\\\"loading\\\"].subscribe((function (val){!(this.valueFromJulia[\\\"loading\\\"]) ? (WebIO.setval({\\\"name\\\":\\\"loading\\\",\\\"scope\\\":\\\"8992575799879132230\\\",\\\"id\\\":\\\"3341824279397370376\\\",\\\"type\\\":\\\"observable\\\"},val)) : undefined; return this.valueFromJulia[\\\"loading\\\"]=false}),self),this[\\\"clicks\\\"].subscribe((function (val){!(this.valueFromJulia[\\\"clicks\\\"]) ? (WebIO.setval({\\\"name\\\":\\\"clicks\\\",\\\"scope\\\":\\\"8992575799879132230\\\",\\\"id\\\":\\\"12531169169877611052\\\",\\\"type\\\":\\\"observable\\\"},val)) : undefined; return this.valueFromJulia[\\\"clicks\\\"]=false}),self)]\\n        \\n    }\\n    self.model = new AppViewModel();\\n    self.valueFromJulia = {};\\n    for (var key in json_data) {\\n        self.valueFromJulia[key] = false;\\n    }\\n    ko.applyBindings(self.model, self.dom);\\n}\\n);\\n    (WebIO.importBlock({\\\"data\\\":[{\\\"name\\\":\\\"knockout\\\",\\\"type\\\":\\\"js\\\",\\\"url\\\":\\\"/assetserver/727383f2a47bd31570b7da84eee7b022dd6d7c78-knockout.js\\\"},{\\\"name\\\":\\\"knockout_punches\\\",\\\"type\\\":\\\"js\\\",\\\"url\\\":\\\"/assetserver/382b41b3b1bd9f26f75861d360bad7f8beea211f-knockout_punches.js\\\"}],\\\"type\\\":\\\"async_block\\\"})).then((imports) => handler.apply(this, imports));\\n}\\n\")])], Dict{Symbol, Any}(:className => \"field interact-widget\"))], Dict{Symbol, Any}(:style => Dict(\"display\" => \"flex\", \"flex-direction\" => \"row\")))], Dict{Symbol, Any}(:style => Dict(\"display\" => \"flex\", \"flex-direction\" => \"column\"))), WebIO.Node{WebIO.DOM}(WebIO.DOM(:html, :div), Any[WebIO.Scope(WebIO.Node{WebIO.DOM}(WebIO.DOM(:html, :div), Any[], Dict{Symbol, Any}(:id => \"container\")), Dict{String, Tuple{Observables.AbstractObservable, Union{Nothing, Bool}}}(\"value\" => (Observable(\"\\\\;\\\\;\"), nothing)), Set{String}(), nothing, WebIO.Asset[WebIO.Asset(\"js\", nothing, \"/home/dushya/.julia/packages/InteractBase/LJXv3/src/../assets/katex.min.js\"), WebIO.Asset(\"css\", nothing, \"/home/dushya/.julia/packages/InteractBase/LJXv3/src/../assets/katex.min.css\")], Dict{Any, Any}(\"value\" => Any[WebIO.JSString(\"(function (txt){return this.k.render(txt,this.container)})\")]), WebIO.ConnectionPool(Channel{Any}(32), Set{WebIO.AbstractConnection}(), Base.GenericCondition{ReentrantLock}(Base.IntrusiveLinkedList{Task}(Task (runnable) @0x00007fcb460d4010, Task (runnable) @0x00007fcb460d4010), ReentrantLock(nothing, 0x00000000, 0x00, Base.GenericCondition{Base.Threads.SpinLock}(Base.IntrusiveLinkedList{Task}(nothing, nothing), Base.Threads.SpinLock(0)), (0, 0, 137438953472)))), WebIO.JSString[WebIO.JSString(\"function () {\\n    var handler = ((function (k){this.k=k; this.container=this.dom.querySelector(\\\"#container\\\"); return k.render(\\\"\\\\\\\\;\\\\\\\\;\\\",this.container)}));\\n    (WebIO.importBlock({\\\"data\\\":[{\\\"name\\\":null,\\\"type\\\":\\\"js\\\",\\\"url\\\":\\\"/assetserver/dd22ed1bf1896c2748f3fe616ce0b838adc895c1-katex.min.js\\\"},{\\\"name\\\":null,\\\"type\\\":\\\"css\\\",\\\"url\\\":\\\"/assetserver/46517a424aa5e6cffc1360d7e0848b601c584ee3-katex.min.css\\\"}],\\\"type\\\":\\\"async_block\\\"})).then((imports) => handler.apply(this, imports));\\n}\\n\")])], Dict{Symbol, Any}(:className => \"interact-widget\")), Observable(Luxor.Drawing(430.0, 430.0, \"\", Cairo.CairoSurfaceBase{UInt32}(Ptr{Nothing} @0x0000000000000000, 430.0, 430.0), Cairo.CairoContext(Ptr{Nothing} @0x000000000573b350, Cairo.CairoSurfaceBase{UInt32}(Ptr{Nothing} @0x0000000000000000, 430.0, 430.0), Ptr{Nothing} @0x00000000042c6920), :png, 0.5, 0.5, 0.5, 0.5, IOBuffer(data=UInt8[...], readable=true, writable=true, seekable=true, append=false, size=2987, maxsize=Inf, ptr=2988, mark=-1), UInt8[0x89, 0x50, 0x4e, 0x47, 0x0d, 0x0a, 0x1a, 0x0a, 0x00, 0x00  …  0x00, 0x00, 0x49, 0x45, 0x4e, 0x44, 0xae, 0x42, 0x60, 0x82], false)), WebIO.Node{WebIO.DOM}(WebIO.DOM(:html, :div), Any[WebIO.Scope(WebIO.Node{WebIO.DOM}(WebIO.DOM(:html, :div), Any[], Dict{Symbol, Any}(:id => \"container\")), Dict{String, Tuple{Observables.AbstractObservable, Union{Nothing, Bool}}}(\"value\" => (Observable(\"\\\\;\\\\;\"), nothing)), Set{String}(), nothing, WebIO.Asset[WebIO.Asset(\"js\", nothing, \"/home/dushya/.julia/packages/InteractBase/LJXv3/src/../assets/katex.min.js\"), WebIO.Asset(\"css\", nothing, \"/home/dushya/.julia/packages/InteractBase/LJXv3/src/../assets/katex.min.css\")], Dict{Any, Any}(\"value\" => Any[WebIO.JSString(\"(function (txt){return this.k.render(txt,this.container)})\")]), WebIO.ConnectionPool(Channel{Any}(32), Set{WebIO.AbstractConnection}(), Base.GenericCondition{ReentrantLock}(Base.IntrusiveLinkedList{Task}(Task (runnable) @0x00007fcb460d4010, Task (runnable) @0x00007fcb460d4010), ReentrantLock(nothing, 0x00000000, 0x00, Base.GenericCondition{Base.Threads.SpinLock}(Base.IntrusiveLinkedList{Task}(nothing, nothing), Base.Threads.SpinLock(0)), (0, 0, 137438953472)))), WebIO.JSString[WebIO.JSString(\"function () {\\n    var handler = ((function (k){this.k=k; this.container=this.dom.querySelector(\\\"#container\\\"); return k.render(\\\"\\\\\\\\;\\\\\\\\;\\\",this.container)}));\\n    (WebIO.importBlock({\\\"data\\\":[{\\\"name\\\":null,\\\"type\\\":\\\"js\\\",\\\"url\\\":\\\"/assetserver/dd22ed1bf1896c2748f3fe616ce0b838adc895c1-katex.min.js\\\"},{\\\"name\\\":null,\\\"type\\\":\\\"css\\\",\\\"url\\\":\\\"/assetserver/46517a424aa5e6cffc1360d7e0848b601c584ee3-katex.min.css\\\"}],\\\"type\\\":\\\"async_block\\\"})).then((imports) => handler.apply(this, imports));\\n}\\n\")])], Dict{Symbol, Any}(:className => \"interact-widget\")), WebIO.Node{WebIO.DOM}(WebIO.DOM(:html, :div), Any[], Dict{Symbol, Any}(:style => Dict(\"display\" => \"flex\", \"flex-direction\" => \"column\")))], Dict{Symbol, Any}(:style => Dict(\"display\" => \"flex\", \"flex-direction\" => \"row\")))], Dict{Symbol, Any}(:style => Dict(\"display\" => \"flex\", \"flex-direction\" => \"column\")))"
      ]
     },
     "execution_count": 7,
     "metadata": {
      "application/vnd.webio.node+json": {
       "kernelId": "6ba02987-e8fc-455e-89e8-ff28cbbe679c"
      }
     },
     "output_type": "execute_result"
    }
   ],
   "source": [
    "create_interactive_app(model, initialiser= initialiser!,\n",
    "    props_to_record=Dict(\"patches\"=>Set([:color, :is_alive])),\n",
    "    step_rule= step_rule!,\n",
    "    model_controls=[\n",
    "        (:alive_percent, \"slider\", 0:0.01:1.0)\n",
    "        ], \n",
    "    frames=200, show_patches=true) "
   ]
  },
  {
   "cell_type": "markdown",
   "metadata": {},
   "source": [
    "## Step 4: Fetch Data \n",
    "\n",
    "We can fetch the data of number alive patches as follows."
   ]
  },
  {
   "cell_type": "code",
   "execution_count": 8,
   "metadata": {},
   "outputs": [
    {
     "data": {
      "image/png": "[encoded data removed]",
      "image/svg+xml": [
       "<?xml version=\"1.0\" encoding=\"utf-8\"?>\n",
       "<svg xmlns=\"http://www.w3.org/2000/svg\" xmlns:xlink=\"http://www.w3.org/1999/xlink\" width=\"600\" height=\"400\" viewBox=\"0 0 2400 1600\">\n",
       "<defs>\n",
       "  <clipPath id=\"clip340\">\n",
       "    <rect x=\"0\" y=\"0\" width=\"2400\" height=\"1600\"/>\n",
       "  </clipPath>\n",
       "</defs>\n",
       "<path clip-path=\"url(#clip340)\" d=\"M0 1600 L2400 1600 L2400 0 L0 0  Z\" fill=\"#ffffff\" fill-rule=\"evenodd\" fill-opacity=\"1\"/>\n",
       "<defs>\n",
       "  <clipPath id=\"clip341\">\n",
       "    <rect x=\"480\" y=\"0\" width=\"1681\" height=\"1600\"/>\n",
       "  </clipPath>\n",
       "</defs>\n",
       "<path clip-path=\"url(#clip340)\" d=\"M232.389 1423.18 L2352.76 1423.18 L2352.76 47.2441 L232.389 47.2441  Z\" fill=\"#ffffff\" fill-rule=\"evenodd\" fill-opacity=\"1\"/>\n",
       "<defs>\n",
       "  <clipPath id=\"clip342\">\n",
       "    <rect x=\"232\" y=\"47\" width=\"2121\" height=\"1377\"/>\n",
       "  </clipPath>\n",
       "</defs>\n",
       "<polyline clip-path=\"url(#clip342)\" style=\"stroke:#000000; stroke-linecap:round; stroke-linejoin:round; stroke-width:2; stroke-opacity:0.1; fill:none\" points=\"272.396,1423.18 272.396,47.2441 \"/>\n",
       "<polyline clip-path=\"url(#clip342)\" style=\"stroke:#000000; stroke-linecap:round; stroke-linejoin:round; stroke-width:2; stroke-opacity:0.1; fill:none\" points=\"772.483,1423.18 772.483,47.2441 \"/>\n",
       "<polyline clip-path=\"url(#clip342)\" style=\"stroke:#000000; stroke-linecap:round; stroke-linejoin:round; stroke-width:2; stroke-opacity:0.1; fill:none\" points=\"1272.57,1423.18 1272.57,47.2441 \"/>\n",
       "<polyline clip-path=\"url(#clip342)\" style=\"stroke:#000000; stroke-linecap:round; stroke-linejoin:round; stroke-width:2; stroke-opacity:0.1; fill:none\" points=\"1772.66,1423.18 1772.66,47.2441 \"/>\n",
       "<polyline clip-path=\"url(#clip342)\" style=\"stroke:#000000; stroke-linecap:round; stroke-linejoin:round; stroke-width:2; stroke-opacity:0.1; fill:none\" points=\"2272.74,1423.18 2272.74,47.2441 \"/>\n",
       "<polyline clip-path=\"url(#clip340)\" style=\"stroke:#000000; stroke-linecap:round; stroke-linejoin:round; stroke-width:4; stroke-opacity:1; fill:none\" points=\"232.389,1423.18 2352.76,1423.18 \"/>\n",
       "<polyline clip-path=\"url(#clip340)\" style=\"stroke:#000000; stroke-linecap:round; stroke-linejoin:round; stroke-width:4; stroke-opacity:1; fill:none\" points=\"272.396,1423.18 272.396,1404.28 \"/>\n",
       "<polyline clip-path=\"url(#clip340)\" style=\"stroke:#000000; stroke-linecap:round; stroke-linejoin:round; stroke-width:4; stroke-opacity:1; fill:none\" points=\"772.483,1423.18 772.483,1404.28 \"/>\n",
       "<polyline clip-path=\"url(#clip340)\" style=\"stroke:#000000; stroke-linecap:round; stroke-linejoin:round; stroke-width:4; stroke-opacity:1; fill:none\" points=\"1272.57,1423.18 1272.57,1404.28 \"/>\n",
       "<polyline clip-path=\"url(#clip340)\" style=\"stroke:#000000; stroke-linecap:round; stroke-linejoin:round; stroke-width:4; stroke-opacity:1; fill:none\" points=\"1772.66,1423.18 1772.66,1404.28 \"/>\n",
       "<polyline clip-path=\"url(#clip340)\" style=\"stroke:#000000; stroke-linecap:round; stroke-linejoin:round; stroke-width:4; stroke-opacity:1; fill:none\" points=\"2272.74,1423.18 2272.74,1404.28 \"/>\n",
       "<path clip-path=\"url(#clip340)\" d=\"M272.396 1454.1 Q268.785 1454.1 266.956 1457.66 Q265.151 1461.2 265.151 1468.33 Q265.151 1475.44 266.956 1479.01 Q268.785 1482.55 272.396 1482.55 Q276.031 1482.55 277.836 1479.01 Q279.665 1475.44 279.665 1468.33 Q279.665 1461.2 277.836 1457.66 Q276.031 1454.1 272.396 1454.1 M272.396 1450.39 Q278.206 1450.39 281.262 1455 Q284.341 1459.58 284.341 1468.33 Q284.341 1477.06 281.262 1481.67 Q278.206 1486.25 272.396 1486.25 Q266.586 1486.25 263.507 1481.67 Q260.452 1477.06 260.452 1468.33 Q260.452 1459.58 263.507 1455 Q266.586 1450.39 272.396 1450.39 Z\" fill=\"#000000\" fill-rule=\"nonzero\" fill-opacity=\"1\" /><path clip-path=\"url(#clip340)\" d=\"M751.754 1481.64 L768.073 1481.64 L768.073 1485.58 L746.129 1485.58 L746.129 1481.64 Q748.791 1478.89 753.374 1474.26 Q757.98 1469.61 759.161 1468.27 Q761.406 1465.74 762.286 1464.01 Q763.189 1462.25 763.189 1460.56 Q763.189 1457.8 761.244 1456.07 Q759.323 1454.33 756.221 1454.33 Q754.022 1454.33 751.568 1455.09 Q749.138 1455.86 746.36 1457.41 L746.36 1452.69 Q749.184 1451.55 751.638 1450.97 Q754.092 1450.39 756.129 1450.39 Q761.499 1450.39 764.693 1453.08 Q767.888 1455.77 767.888 1460.26 Q767.888 1462.39 767.078 1464.31 Q766.291 1466.2 764.184 1468.8 Q763.605 1469.47 760.504 1472.69 Q757.402 1475.88 751.754 1481.64 Z\" fill=\"#000000\" fill-rule=\"nonzero\" fill-opacity=\"1\" /><path clip-path=\"url(#clip340)\" d=\"M777.934 1451.02 L796.29 1451.02 L796.29 1454.96 L782.216 1454.96 L782.216 1463.43 Q783.235 1463.08 784.253 1462.92 Q785.272 1462.73 786.291 1462.73 Q792.078 1462.73 795.457 1465.9 Q798.837 1469.08 798.837 1474.49 Q798.837 1480.07 795.365 1483.17 Q791.892 1486.25 785.573 1486.25 Q783.397 1486.25 781.129 1485.88 Q778.883 1485.51 776.476 1484.77 L776.476 1480.07 Q778.559 1481.2 780.781 1481.76 Q783.003 1482.32 785.48 1482.32 Q789.485 1482.32 791.823 1480.21 Q794.161 1478.1 794.161 1474.49 Q794.161 1470.88 791.823 1468.77 Q789.485 1466.67 785.48 1466.67 Q783.605 1466.67 781.73 1467.08 Q779.879 1467.5 777.934 1468.38 L777.934 1451.02 Z\" fill=\"#000000\" fill-rule=\"nonzero\" fill-opacity=\"1\" /><path clip-path=\"url(#clip340)\" d=\"M1247.27 1451.02 L1265.62 1451.02 L1265.62 1454.96 L1251.55 1454.96 L1251.55 1463.43 Q1252.57 1463.08 1253.59 1462.92 Q1254.61 1462.73 1255.62 1462.73 Q1261.41 1462.73 1264.79 1465.9 Q1268.17 1469.08 1268.17 1474.49 Q1268.17 1480.07 1264.7 1483.17 Q1261.23 1486.25 1254.91 1486.25 Q1252.73 1486.25 1250.46 1485.88 Q1248.22 1485.51 1245.81 1484.77 L1245.81 1480.07 Q1247.89 1481.2 1250.12 1481.76 Q1252.34 1482.32 1254.81 1482.32 Q1258.82 1482.32 1261.16 1480.21 Q1263.5 1478.1 1263.5 1474.49 Q1263.5 1470.88 1261.16 1468.77 Q1258.82 1466.67 1254.81 1466.67 Q1252.94 1466.67 1251.06 1467.08 Q1249.21 1467.5 1247.27 1468.38 L1247.27 1451.02 Z\" fill=\"#000000\" fill-rule=\"nonzero\" fill-opacity=\"1\" /><path clip-path=\"url(#clip340)\" d=\"M1287.38 1454.1 Q1283.77 1454.1 1281.94 1457.66 Q1280.14 1461.2 1280.14 1468.33 Q1280.14 1475.44 1281.94 1479.01 Q1283.77 1482.55 1287.38 1482.55 Q1291.02 1482.55 1292.82 1479.01 Q1294.65 1475.44 1294.65 1468.33 Q1294.65 1461.2 1292.82 1457.66 Q1291.02 1454.1 1287.38 1454.1 M1287.38 1450.39 Q1293.19 1450.39 1296.25 1455 Q1299.33 1459.58 1299.33 1468.33 Q1299.33 1477.06 1296.25 1481.67 Q1293.19 1486.25 1287.38 1486.25 Q1281.57 1486.25 1278.5 1481.67 Q1275.44 1477.06 1275.44 1468.33 Q1275.44 1459.58 1278.5 1455 Q1281.57 1450.39 1287.38 1450.39 Z\" fill=\"#000000\" fill-rule=\"nonzero\" fill-opacity=\"1\" /><path clip-path=\"url(#clip340)\" d=\"M1746.51 1451.02 L1768.73 1451.02 L1768.73 1453.01 L1756.19 1485.58 L1751.3 1485.58 L1763.11 1454.96 L1746.51 1454.96 L1746.51 1451.02 Z\" fill=\"#000000\" fill-rule=\"nonzero\" fill-opacity=\"1\" /><path clip-path=\"url(#clip340)\" d=\"M1777.9 1451.02 L1796.26 1451.02 L1796.26 1454.96 L1782.18 1454.96 L1782.18 1463.43 Q1783.2 1463.08 1784.22 1462.92 Q1785.24 1462.73 1786.26 1462.73 Q1792.04 1462.73 1795.42 1465.9 Q1798.8 1469.08 1798.8 1474.49 Q1798.8 1480.07 1795.33 1483.17 Q1791.86 1486.25 1785.54 1486.25 Q1783.36 1486.25 1781.09 1485.88 Q1778.85 1485.51 1776.44 1484.77 L1776.44 1480.07 Q1778.52 1481.2 1780.75 1481.76 Q1782.97 1482.32 1785.44 1482.32 Q1789.45 1482.32 1791.79 1480.21 Q1794.13 1478.1 1794.13 1474.49 Q1794.13 1470.88 1791.79 1468.77 Q1789.45 1466.67 1785.44 1466.67 Q1783.57 1466.67 1781.69 1467.08 Q1779.84 1467.5 1777.9 1468.38 L1777.9 1451.02 Z\" fill=\"#000000\" fill-rule=\"nonzero\" fill-opacity=\"1\" /><path clip-path=\"url(#clip340)\" d=\"M2232.35 1481.64 L2239.99 1481.64 L2239.99 1455.28 L2231.68 1456.95 L2231.68 1452.69 L2239.94 1451.02 L2244.62 1451.02 L2244.62 1481.64 L2252.26 1481.64 L2252.26 1485.58 L2232.35 1485.58 L2232.35 1481.64 Z\" fill=\"#000000\" fill-rule=\"nonzero\" fill-opacity=\"1\" /><path clip-path=\"url(#clip340)\" d=\"M2271.7 1454.1 Q2268.09 1454.1 2266.26 1457.66 Q2264.46 1461.2 2264.46 1468.33 Q2264.46 1475.44 2266.26 1479.01 Q2268.09 1482.55 2271.7 1482.55 Q2275.33 1482.55 2277.14 1479.01 Q2278.97 1475.44 2278.97 1468.33 Q2278.97 1461.2 2277.14 1457.66 Q2275.33 1454.1 2271.7 1454.1 M2271.7 1450.39 Q2277.51 1450.39 2280.57 1455 Q2283.64 1459.58 2283.64 1468.33 Q2283.64 1477.06 2280.57 1481.67 Q2277.51 1486.25 2271.7 1486.25 Q2265.89 1486.25 2262.81 1481.67 Q2259.76 1477.06 2259.76 1468.33 Q2259.76 1459.58 2262.81 1455 Q2265.89 1450.39 2271.7 1450.39 Z\" fill=\"#000000\" fill-rule=\"nonzero\" fill-opacity=\"1\" /><path clip-path=\"url(#clip340)\" d=\"M2301.86 1454.1 Q2298.25 1454.1 2296.42 1457.66 Q2294.62 1461.2 2294.62 1468.33 Q2294.62 1475.44 2296.42 1479.01 Q2298.25 1482.55 2301.86 1482.55 Q2305.5 1482.55 2307.3 1479.01 Q2309.13 1475.44 2309.13 1468.33 Q2309.13 1461.2 2307.3 1457.66 Q2305.5 1454.1 2301.86 1454.1 M2301.86 1450.39 Q2307.67 1450.39 2310.73 1455 Q2313.81 1459.58 2313.81 1468.33 Q2313.81 1477.06 2310.73 1481.67 Q2307.67 1486.25 2301.86 1486.25 Q2296.05 1486.25 2292.97 1481.67 Q2289.92 1477.06 2289.92 1468.33 Q2289.92 1459.58 2292.97 1455 Q2296.05 1450.39 2301.86 1450.39 Z\" fill=\"#000000\" fill-rule=\"nonzero\" fill-opacity=\"1\" /><path clip-path=\"url(#clip340)\" d=\"M1229.62 1522.27 L1229.62 1532.4 L1241.68 1532.4 L1241.68 1536.95 L1229.62 1536.95 L1229.62 1556.3 Q1229.62 1560.66 1230.79 1561.9 Q1232 1563.14 1235.66 1563.14 L1241.68 1563.14 L1241.68 1568.04 L1235.66 1568.04 Q1228.88 1568.04 1226.31 1565.53 Q1223.73 1562.98 1223.73 1556.3 L1223.73 1536.95 L1219.43 1536.95 L1219.43 1532.4 L1223.73 1532.4 L1223.73 1522.27 L1229.62 1522.27 Z\" fill=\"#000000\" fill-rule=\"nonzero\" fill-opacity=\"1\" /><path clip-path=\"url(#clip340)\" d=\"M1249.38 1532.4 L1255.24 1532.4 L1255.24 1568.04 L1249.38 1568.04 L1249.38 1532.4 M1249.38 1518.52 L1255.24 1518.52 L1255.24 1525.93 L1249.38 1525.93 L1249.38 1518.52 Z\" fill=\"#000000\" fill-rule=\"nonzero\" fill-opacity=\"1\" /><path clip-path=\"url(#clip340)\" d=\"M1293.15 1533.76 L1293.15 1539.24 Q1290.66 1537.87 1288.15 1537.2 Q1285.67 1536.5 1283.12 1536.5 Q1277.42 1536.5 1274.27 1540.13 Q1271.12 1543.73 1271.12 1550.25 Q1271.12 1556.78 1274.27 1560.4 Q1277.42 1564 1283.12 1564 Q1285.67 1564 1288.15 1563.33 Q1290.66 1562.63 1293.15 1561.26 L1293.15 1566.68 Q1290.69 1567.82 1288.05 1568.39 Q1285.44 1568.97 1282.48 1568.97 Q1274.43 1568.97 1269.69 1563.91 Q1264.95 1558.85 1264.95 1550.25 Q1264.95 1541.53 1269.72 1536.53 Q1274.53 1531.54 1282.86 1531.54 Q1285.57 1531.54 1288.15 1532.11 Q1290.73 1532.65 1293.15 1533.76 Z\" fill=\"#000000\" fill-rule=\"nonzero\" fill-opacity=\"1\" /><path clip-path=\"url(#clip340)\" d=\"M1303.11 1518.52 L1309 1518.52 L1309 1547.77 L1326.47 1532.4 L1333.95 1532.4 L1315.04 1549.07 L1334.75 1568.04 L1327.11 1568.04 L1309 1550.63 L1309 1568.04 L1303.11 1568.04 L1303.11 1518.52 Z\" fill=\"#000000\" fill-rule=\"nonzero\" fill-opacity=\"1\" /><path clip-path=\"url(#clip340)\" d=\"M1363.8 1533.45 L1363.8 1538.98 Q1361.32 1537.71 1358.65 1537.07 Q1355.98 1536.44 1353.11 1536.44 Q1348.75 1536.44 1346.55 1537.77 Q1344.39 1539.11 1344.39 1541.79 Q1344.39 1543.82 1345.95 1545 Q1347.51 1546.15 1352.22 1547.2 L1354.22 1547.64 Q1360.46 1548.98 1363.07 1551.43 Q1365.71 1553.85 1365.71 1558.21 Q1365.71 1563.17 1361.77 1566.07 Q1357.85 1568.97 1350.98 1568.97 Q1348.11 1568.97 1344.99 1568.39 Q1341.91 1567.85 1338.47 1566.74 L1338.47 1560.69 Q1341.72 1562.38 1344.87 1563.24 Q1348.02 1564.07 1351.11 1564.07 Q1355.24 1564.07 1357.47 1562.66 Q1359.7 1561.23 1359.7 1558.65 Q1359.7 1556.27 1358.08 1554.99 Q1356.48 1553.72 1351.04 1552.54 L1349 1552.07 Q1343.56 1550.92 1341.14 1548.56 Q1338.72 1546.18 1338.72 1542.04 Q1338.72 1537.01 1342.29 1534.27 Q1345.85 1531.54 1352.41 1531.54 Q1355.66 1531.54 1358.52 1532.01 Q1361.39 1532.49 1363.8 1533.45 Z\" fill=\"#000000\" fill-rule=\"nonzero\" fill-opacity=\"1\" /><polyline clip-path=\"url(#clip342)\" style=\"stroke:#000000; stroke-linecap:round; stroke-linejoin:round; stroke-width:2; stroke-opacity:0.1; fill:none\" points=\"232.389,1207.8 2352.76,1207.8 \"/>\n",
       "<polyline clip-path=\"url(#clip342)\" style=\"stroke:#000000; stroke-linecap:round; stroke-linejoin:round; stroke-width:2; stroke-opacity:0.1; fill:none\" points=\"232.389,892.743 2352.76,892.743 \"/>\n",
       "<polyline clip-path=\"url(#clip342)\" style=\"stroke:#000000; stroke-linecap:round; stroke-linejoin:round; stroke-width:2; stroke-opacity:0.1; fill:none\" points=\"232.389,577.681 2352.76,577.681 \"/>\n",
       "<polyline clip-path=\"url(#clip342)\" style=\"stroke:#000000; stroke-linecap:round; stroke-linejoin:round; stroke-width:2; stroke-opacity:0.1; fill:none\" points=\"232.389,262.62 2352.76,262.62 \"/>\n",
       "<polyline clip-path=\"url(#clip340)\" style=\"stroke:#000000; stroke-linecap:round; stroke-linejoin:round; stroke-width:4; stroke-opacity:1; fill:none\" points=\"232.389,1423.18 232.389,47.2441 \"/>\n",
       "<polyline clip-path=\"url(#clip340)\" style=\"stroke:#000000; stroke-linecap:round; stroke-linejoin:round; stroke-width:4; stroke-opacity:1; fill:none\" points=\"232.389,1207.8 251.287,1207.8 \"/>\n",
       "<polyline clip-path=\"url(#clip340)\" style=\"stroke:#000000; stroke-linecap:round; stroke-linejoin:round; stroke-width:4; stroke-opacity:1; fill:none\" points=\"232.389,892.743 251.287,892.743 \"/>\n",
       "<polyline clip-path=\"url(#clip340)\" style=\"stroke:#000000; stroke-linecap:round; stroke-linejoin:round; stroke-width:4; stroke-opacity:1; fill:none\" points=\"232.389,577.681 251.287,577.681 \"/>\n",
       "<polyline clip-path=\"url(#clip340)\" style=\"stroke:#000000; stroke-linecap:round; stroke-linejoin:round; stroke-width:4; stroke-opacity:1; fill:none\" points=\"232.389,262.62 251.287,262.62 \"/>\n",
       "<path clip-path=\"url(#clip340)\" d=\"M144.329 1190.52 L162.686 1190.52 L162.686 1194.46 L148.612 1194.46 L148.612 1202.93 Q149.63 1202.58 150.649 1202.42 Q151.667 1202.24 152.686 1202.24 Q158.473 1202.24 161.852 1205.41 Q165.232 1208.58 165.232 1214 Q165.232 1219.57 161.76 1222.68 Q158.288 1225.76 151.968 1225.76 Q149.792 1225.76 147.524 1225.38 Q145.279 1225.01 142.871 1224.27 L142.871 1219.57 Q144.954 1220.71 147.177 1221.26 Q149.399 1221.82 151.876 1221.82 Q155.88 1221.82 158.218 1219.71 Q160.556 1217.61 160.556 1214 Q160.556 1210.38 158.218 1208.28 Q155.88 1206.17 151.876 1206.17 Q150.001 1206.17 148.126 1206.59 Q146.274 1207.01 144.329 1207.88 L144.329 1190.52 Z\" fill=\"#000000\" fill-rule=\"nonzero\" fill-opacity=\"1\" /><path clip-path=\"url(#clip340)\" d=\"M184.445 1193.6 Q180.834 1193.6 179.005 1197.17 Q177.2 1200.71 177.2 1207.84 Q177.2 1214.95 179.005 1218.51 Q180.834 1222.05 184.445 1222.05 Q188.079 1222.05 189.885 1218.51 Q191.713 1214.95 191.713 1207.84 Q191.713 1200.71 189.885 1197.17 Q188.079 1193.6 184.445 1193.6 M184.445 1189.9 Q190.255 1189.9 193.311 1194.51 Q196.389 1199.09 196.389 1207.84 Q196.389 1216.57 193.311 1221.17 Q190.255 1225.76 184.445 1225.76 Q178.635 1225.76 175.556 1221.17 Q172.501 1216.57 172.501 1207.84 Q172.501 1199.09 175.556 1194.51 Q178.635 1189.9 184.445 1189.9 Z\" fill=\"#000000\" fill-rule=\"nonzero\" fill-opacity=\"1\" /><path clip-path=\"url(#clip340)\" d=\"M144.098 875.463 L166.32 875.463 L166.32 877.453 L153.774 910.023 L148.89 910.023 L160.695 879.398 L144.098 879.398 L144.098 875.463 Z\" fill=\"#000000\" fill-rule=\"nonzero\" fill-opacity=\"1\" /><path clip-path=\"url(#clip340)\" d=\"M175.487 875.463 L193.843 875.463 L193.843 879.398 L179.769 879.398 L179.769 887.87 Q180.788 887.523 181.806 887.361 Q182.825 887.176 183.843 887.176 Q189.63 887.176 193.01 890.347 Q196.389 893.518 196.389 898.935 Q196.389 904.513 192.917 907.615 Q189.445 910.694 183.126 910.694 Q180.95 910.694 178.681 910.324 Q176.436 909.953 174.028 909.212 L174.028 904.513 Q176.112 905.648 178.334 906.203 Q180.556 906.759 183.033 906.759 Q187.038 906.759 189.375 904.652 Q191.713 902.546 191.713 898.935 Q191.713 895.324 189.375 893.217 Q187.038 891.111 183.033 891.111 Q181.158 891.111 179.283 891.527 Q177.431 891.944 175.487 892.824 L175.487 875.463 Z\" fill=\"#000000\" fill-rule=\"nonzero\" fill-opacity=\"1\" /><path clip-path=\"url(#clip340)\" d=\"M114.931 591.026 L122.57 591.026 L122.57 564.661 L114.26 566.327 L114.26 562.068 L122.524 560.401 L127.2 560.401 L127.2 591.026 L134.839 591.026 L134.839 594.961 L114.931 594.961 L114.931 591.026 Z\" fill=\"#000000\" fill-rule=\"nonzero\" fill-opacity=\"1\" /><path clip-path=\"url(#clip340)\" d=\"M154.283 563.48 Q150.672 563.48 148.843 567.045 Q147.038 570.586 147.038 577.716 Q147.038 584.822 148.843 588.387 Q150.672 591.929 154.283 591.929 Q157.917 591.929 159.723 588.387 Q161.552 584.822 161.552 577.716 Q161.552 570.586 159.723 567.045 Q157.917 563.48 154.283 563.48 M154.283 559.776 Q160.093 559.776 163.149 564.383 Q166.227 568.966 166.227 577.716 Q166.227 586.443 163.149 591.049 Q160.093 595.633 154.283 595.633 Q148.473 595.633 145.394 591.049 Q142.339 586.443 142.339 577.716 Q142.339 568.966 145.394 564.383 Q148.473 559.776 154.283 559.776 Z\" fill=\"#000000\" fill-rule=\"nonzero\" fill-opacity=\"1\" /><path clip-path=\"url(#clip340)\" d=\"M184.445 563.48 Q180.834 563.48 179.005 567.045 Q177.2 570.586 177.2 577.716 Q177.2 584.822 179.005 588.387 Q180.834 591.929 184.445 591.929 Q188.079 591.929 189.885 588.387 Q191.713 584.822 191.713 577.716 Q191.713 570.586 189.885 567.045 Q188.079 563.48 184.445 563.48 M184.445 559.776 Q190.255 559.776 193.311 564.383 Q196.389 568.966 196.389 577.716 Q196.389 586.443 193.311 591.049 Q190.255 595.633 184.445 595.633 Q178.635 595.633 175.556 591.049 Q172.501 586.443 172.501 577.716 Q172.501 568.966 175.556 564.383 Q178.635 559.776 184.445 559.776 Z\" fill=\"#000000\" fill-rule=\"nonzero\" fill-opacity=\"1\" /><path clip-path=\"url(#clip340)\" d=\"M115.927 275.965 L123.566 275.965 L123.566 249.599 L115.256 251.266 L115.256 247.007 L123.519 245.34 L128.195 245.34 L128.195 275.965 L135.834 275.965 L135.834 279.9 L115.927 279.9 L115.927 275.965 Z\" fill=\"#000000\" fill-rule=\"nonzero\" fill-opacity=\"1\" /><path clip-path=\"url(#clip340)\" d=\"M149.306 275.965 L165.626 275.965 L165.626 279.9 L143.681 279.9 L143.681 275.965 Q146.343 273.21 150.927 268.581 Q155.533 263.928 156.714 262.585 Q158.959 260.062 159.839 258.326 Q160.741 256.567 160.741 254.877 Q160.741 252.122 158.797 250.386 Q156.876 248.65 153.774 248.65 Q151.575 248.65 149.121 249.414 Q146.691 250.178 143.913 251.729 L143.913 247.007 Q146.737 245.872 149.191 245.294 Q151.644 244.715 153.681 244.715 Q159.052 244.715 162.246 247.4 Q165.44 250.085 165.44 254.576 Q165.44 256.706 164.63 258.627 Q163.843 260.525 161.737 263.118 Q161.158 263.789 158.056 267.007 Q154.954 270.201 149.306 275.965 Z\" fill=\"#000000\" fill-rule=\"nonzero\" fill-opacity=\"1\" /><path clip-path=\"url(#clip340)\" d=\"M175.487 245.34 L193.843 245.34 L193.843 249.275 L179.769 249.275 L179.769 257.747 Q180.788 257.4 181.806 257.238 Q182.825 257.053 183.843 257.053 Q189.63 257.053 193.01 260.224 Q196.389 263.395 196.389 268.812 Q196.389 274.391 192.917 277.493 Q189.445 280.571 183.126 280.571 Q180.95 280.571 178.681 280.201 Q176.436 279.831 174.028 279.09 L174.028 274.391 Q176.112 275.525 178.334 276.081 Q180.556 276.636 183.033 276.636 Q187.038 276.636 189.375 274.53 Q191.713 272.423 191.713 268.812 Q191.713 265.201 189.375 263.095 Q187.038 260.988 183.033 260.988 Q181.158 260.988 179.283 261.405 Q177.431 261.821 175.487 262.701 L175.487 245.34 Z\" fill=\"#000000\" fill-rule=\"nonzero\" fill-opacity=\"1\" /><path clip-path=\"url(#clip340)\" d=\"M42.4881 1009.19 L64.0042 1009.19 L64.0042 1015.05 L42.679 1015.05 Q37.6183 1015.05 35.1038 1017.02 Q32.5894 1019 32.5894 1022.94 Q32.5894 1027.68 35.6131 1030.42 Q38.6368 1033.16 43.8567 1033.16 L64.0042 1033.16 L64.0042 1039.05 L28.3562 1039.05 L28.3562 1033.16 L33.8944 1033.16 Q30.6797 1031.06 29.0883 1028.23 Q27.4968 1025.36 27.4968 1021.64 Q27.4968 1015.49 31.3163 1012.34 Q35.1038 1009.19 42.4881 1009.19 Z\" fill=\"#000000\" fill-rule=\"nonzero\" fill-opacity=\"1\" /><path clip-path=\"url(#clip340)\" d=\"M49.9359 998.116 L28.3562 998.116 L28.3562 992.259 L49.7131 992.259 Q54.7739 992.259 57.3202 990.286 Q59.8346 988.312 59.8346 984.366 Q59.8346 979.623 56.8109 976.886 Q53.7872 974.117 48.5673 974.117 L28.3562 974.117 L28.3562 968.26 L64.0042 968.26 L64.0042 974.117 L58.5296 974.117 Q61.7762 976.249 63.3676 979.082 Q64.9272 981.883 64.9272 985.607 Q64.9272 991.75 61.1078 994.933 Q57.2883 998.116 49.9359 998.116 M27.4968 983.379 L27.4968 983.379 Z\" fill=\"#000000\" fill-rule=\"nonzero\" fill-opacity=\"1\" /><path clip-path=\"url(#clip340)\" d=\"M35.1993 928.443 Q31.2526 926.247 29.3747 923.191 Q27.4968 920.136 27.4968 915.998 Q27.4968 910.428 31.4117 907.404 Q35.2948 904.381 42.4881 904.381 L64.0042 904.381 L64.0042 910.269 L42.679 910.269 Q37.5546 910.269 35.072 912.083 Q32.5894 913.897 32.5894 917.621 Q32.5894 922.173 35.6131 924.815 Q38.6368 927.456 43.8567 927.456 L64.0042 927.456 L64.0042 933.345 L42.679 933.345 Q37.5228 933.345 35.072 935.159 Q32.5894 936.973 32.5894 940.761 Q32.5894 945.248 35.6449 947.89 Q38.6686 950.532 43.8567 950.532 L64.0042 950.532 L64.0042 956.42 L28.3562 956.42 L28.3562 950.532 L33.8944 950.532 Q30.616 948.527 29.0564 945.726 Q27.4968 942.925 27.4968 939.074 Q27.4968 935.191 29.4702 932.485 Q31.4436 929.748 35.1993 928.443 Z\" fill=\"#000000\" fill-rule=\"nonzero\" fill-opacity=\"1\" /><path clip-path=\"url(#clip340)\" d=\"M46.212 867.109 Q39.7508 867.109 36.0905 869.783 Q32.3984 872.425 32.3984 877.072 Q32.3984 881.719 36.0905 884.392 Q39.7508 887.034 46.212 887.034 Q52.6732 887.034 56.3653 884.392 Q60.0256 881.719 60.0256 877.072 Q60.0256 872.425 56.3653 869.783 Q52.6732 867.109 46.212 867.109 M33.7671 887.034 Q30.5842 885.188 29.0564 882.387 Q27.4968 879.554 27.4968 875.639 Q27.4968 869.146 32.6531 865.104 Q37.8093 861.03 46.212 861.03 Q54.6147 861.03 59.771 865.104 Q64.9272 869.146 64.9272 875.639 Q64.9272 879.554 63.3994 882.387 Q61.8398 885.188 58.657 887.034 L64.0042 887.034 L64.0042 892.922 L14.479 892.922 L14.479 887.034 L33.7671 887.034 Z\" fill=\"#000000\" fill-rule=\"nonzero\" fill-opacity=\"1\" /><path clip-path=\"url(#clip340)\" d=\"M44.7161 820.831 L47.5806 820.831 L47.5806 847.758 Q53.6281 847.376 56.8109 844.129 Q59.9619 840.851 59.9619 835.026 Q59.9619 831.652 59.1344 828.501 Q58.3069 825.319 56.6518 822.199 L62.1899 822.199 Q63.5267 825.35 64.227 828.661 Q64.9272 831.971 64.9272 835.376 Q64.9272 843.906 59.9619 848.903 Q54.9967 853.869 46.5303 853.869 Q37.7774 853.869 32.6531 849.158 Q27.4968 844.416 27.4968 836.395 Q27.4968 829.202 32.1438 825.032 Q36.7589 820.831 44.7161 820.831 M42.9973 826.687 Q38.1912 826.751 35.3266 829.393 Q32.4621 832.003 32.4621 836.331 Q32.4621 841.233 35.2312 844.193 Q38.0002 847.121 43.0292 847.567 L42.9973 826.687 Z\" fill=\"#000000\" fill-rule=\"nonzero\" fill-opacity=\"1\" /><path clip-path=\"url(#clip340)\" d=\"M33.8307 790.562 Q33.2578 791.548 33.0032 792.726 Q32.7167 793.872 32.7167 795.272 Q32.7167 800.238 35.9632 802.911 Q39.1779 805.553 45.2253 805.553 L64.0042 805.553 L64.0042 811.441 L28.3562 811.441 L28.3562 805.553 L33.8944 805.553 Q30.6479 803.707 29.0883 800.747 Q27.4968 797.787 27.4968 793.554 Q27.4968 792.949 27.5923 792.217 Q27.656 791.485 27.8151 790.594 L33.8307 790.562 Z\" fill=\"#000000\" fill-rule=\"nonzero\" fill-opacity=\"1\" /><path clip-path=\"url(#clip340)\" d=\"M32.4621 749.885 Q32.4621 754.596 36.1542 757.333 Q39.8145 760.07 46.212 760.07 Q52.6095 760.07 56.3017 757.365 Q59.9619 754.627 59.9619 749.885 Q59.9619 745.206 56.2698 742.469 Q52.5777 739.732 46.212 739.732 Q39.8781 739.732 36.186 742.469 Q32.4621 745.206 32.4621 749.885 M27.4968 749.885 Q27.4968 742.246 32.4621 737.886 Q37.4273 733.525 46.212 733.525 Q54.9649 733.525 59.9619 737.886 Q64.9272 742.246 64.9272 749.885 Q64.9272 757.556 59.9619 761.916 Q54.9649 766.245 46.212 766.245 Q37.4273 766.245 32.4621 761.916 Q27.4968 757.556 27.4968 749.885 Z\" fill=\"#000000\" fill-rule=\"nonzero\" fill-opacity=\"1\" /><path clip-path=\"url(#clip340)\" d=\"M14.479 705.771 L19.3487 705.771 L19.3487 711.372 Q19.3487 714.523 20.6219 715.765 Q21.895 716.974 25.2052 716.974 L28.3562 716.974 L28.3562 707.33 L32.9077 707.33 L32.9077 716.974 L64.0042 716.974 L64.0042 722.862 L32.9077 722.862 L32.9077 728.464 L28.3562 728.464 L28.3562 722.862 L25.8736 722.862 Q19.9216 722.862 17.2162 720.093 Q14.479 717.324 14.479 711.309 L14.479 705.771 Z\" fill=\"#000000\" fill-rule=\"nonzero\" fill-opacity=\"1\" /><path clip-path=\"url(#clip340)\" d=\"M58.657 674.483 L77.5631 674.483 L77.5631 680.371 L28.3562 680.371 L28.3562 674.483 L33.7671 674.483 Q30.5842 672.637 29.0564 669.836 Q27.4968 667.003 27.4968 663.089 Q27.4968 656.595 32.6531 652.553 Q37.8093 648.479 46.212 648.479 Q54.6147 648.479 59.771 652.553 Q64.9272 656.595 64.9272 663.089 Q64.9272 667.003 63.3994 669.836 Q61.8398 672.637 58.657 674.483 M46.212 654.558 Q39.7508 654.558 36.0905 657.232 Q32.3984 659.874 32.3984 664.521 Q32.3984 669.168 36.0905 671.841 Q39.7508 674.483 46.212 674.483 Q52.6732 674.483 56.3653 671.841 Q60.0256 669.168 60.0256 664.521 Q60.0256 659.874 56.3653 657.232 Q52.6732 654.558 46.212 654.558 Z\" fill=\"#000000\" fill-rule=\"nonzero\" fill-opacity=\"1\" /><path clip-path=\"url(#clip340)\" d=\"M46.0847 622.571 Q46.0847 629.669 47.7079 632.406 Q49.3312 635.143 53.2461 635.143 Q56.3653 635.143 58.2114 633.106 Q60.0256 631.037 60.0256 627.504 Q60.0256 622.634 56.5881 619.706 Q53.1188 616.746 47.3897 616.746 L46.0847 616.746 L46.0847 622.571 M43.6657 610.89 L64.0042 610.89 L64.0042 616.746 L58.5933 616.746 Q61.8398 618.751 63.3994 621.743 Q64.9272 624.735 64.9272 629.064 Q64.9272 634.538 61.8716 637.785 Q58.7843 641 53.6281 641 Q47.6125 641 44.5569 636.989 Q41.5014 632.947 41.5014 624.958 L41.5014 616.746 L40.9285 616.746 Q36.8862 616.746 34.6901 619.42 Q32.4621 622.062 32.4621 626.868 Q32.4621 629.923 33.1941 632.82 Q33.9262 635.716 35.3903 638.39 L29.9795 638.39 Q28.7381 635.175 28.1334 632.151 Q27.4968 629.127 27.4968 626.263 Q27.4968 618.529 31.5072 614.709 Q35.5176 610.89 43.6657 610.89 Z\" fill=\"#000000\" fill-rule=\"nonzero\" fill-opacity=\"1\" /><path clip-path=\"url(#clip340)\" d=\"M18.2347 593.034 L28.3562 593.034 L28.3562 580.971 L32.9077 580.971 L32.9077 593.034 L52.2594 593.034 Q56.6199 593.034 57.8613 591.856 Q59.1026 590.647 59.1026 586.986 L59.1026 580.971 L64.0042 580.971 L64.0042 586.986 Q64.0042 593.766 61.4897 596.344 Q58.9434 598.922 52.2594 598.922 L32.9077 598.922 L32.9077 603.219 L28.3562 603.219 L28.3562 598.922 L18.2347 598.922 L18.2347 593.034 Z\" fill=\"#000000\" fill-rule=\"nonzero\" fill-opacity=\"1\" /><path clip-path=\"url(#clip340)\" d=\"M29.7248 547.615 L35.1993 547.615 Q33.8307 550.097 33.1623 552.612 Q32.4621 555.094 32.4621 557.641 Q32.4621 563.338 36.0905 566.489 Q39.6872 569.64 46.212 569.64 Q52.7369 569.64 56.3653 566.489 Q59.9619 563.338 59.9619 557.641 Q59.9619 555.094 59.2935 552.612 Q58.5933 550.097 57.2247 547.615 L62.6355 547.615 Q63.7814 550.065 64.3543 552.707 Q64.9272 555.317 64.9272 558.277 Q64.9272 566.33 59.8664 571.072 Q54.8057 575.815 46.212 575.815 Q37.491 575.815 32.4939 571.04 Q27.4968 566.234 27.4968 557.895 Q27.4968 555.19 28.0697 552.612 Q28.6108 550.034 29.7248 547.615 Z\" fill=\"#000000\" fill-rule=\"nonzero\" fill-opacity=\"1\" /><path clip-path=\"url(#clip340)\" d=\"M42.4881 507.797 L64.0042 507.797 L64.0042 513.654 L42.679 513.654 Q37.6183 513.654 35.1038 515.627 Q32.5894 517.6 32.5894 521.547 Q32.5894 526.289 35.6131 529.027 Q38.6368 531.764 43.8567 531.764 L64.0042 531.764 L64.0042 537.652 L14.479 537.652 L14.479 531.764 L33.8944 531.764 Q30.6797 529.663 29.0883 526.831 Q27.4968 523.966 27.4968 520.242 Q27.4968 514.099 31.3163 510.948 Q35.1038 507.797 42.4881 507.797 Z\" fill=\"#000000\" fill-rule=\"nonzero\" fill-opacity=\"1\" /><path clip-path=\"url(#clip340)\" d=\"M44.7161 465.624 L47.5806 465.624 L47.5806 492.551 Q53.6281 492.169 56.8109 488.923 Q59.9619 485.644 59.9619 479.82 Q59.9619 476.446 59.1344 473.295 Q58.3069 470.112 56.6518 466.993 L62.1899 466.993 Q63.5267 470.144 64.227 473.454 Q64.9272 476.764 64.9272 480.17 Q64.9272 488.7 59.9619 493.697 Q54.9967 498.662 46.5303 498.662 Q37.7774 498.662 32.6531 493.952 Q27.4968 489.209 27.4968 481.188 Q27.4968 473.995 32.1438 469.826 Q36.7589 465.624 44.7161 465.624 M42.9973 471.481 Q38.1912 471.544 35.3266 474.186 Q32.4621 476.796 32.4621 481.125 Q32.4621 486.026 35.2312 488.986 Q38.0002 491.915 43.0292 492.36 L42.9973 471.481 Z\" fill=\"#000000\" fill-rule=\"nonzero\" fill-opacity=\"1\" /><path clip-path=\"url(#clip340)\" d=\"M29.4065 433.287 L34.9447 433.287 Q33.6716 435.769 33.035 438.443 Q32.3984 441.116 32.3984 443.981 Q32.3984 448.341 33.7352 450.538 Q35.072 452.702 37.7456 452.702 Q39.7826 452.702 40.9603 451.142 Q42.1061 449.583 43.1565 444.872 L43.6021 442.867 Q44.9389 436.628 47.3897 434.019 Q49.8086 431.377 54.1691 431.377 Q59.1344 431.377 62.0308 435.324 Q64.9272 439.238 64.9272 446.113 Q64.9272 448.978 64.3543 452.097 Q63.8132 455.185 62.6992 458.622 L56.6518 458.622 Q58.3387 455.376 59.198 452.224 Q60.0256 449.073 60.0256 445.986 Q60.0256 441.848 58.6251 439.62 Q57.1929 437.392 54.6147 437.392 Q52.2276 437.392 50.9545 439.016 Q49.6813 440.607 48.5037 446.05 L48.0262 448.087 Q46.8804 453.529 44.5251 455.948 Q42.138 458.367 38.0002 458.367 Q32.9713 458.367 30.2341 454.803 Q27.4968 451.238 27.4968 444.681 Q27.4968 441.435 27.9743 438.57 Q28.4517 435.705 29.4065 433.287 Z\" fill=\"#000000\" fill-rule=\"nonzero\" fill-opacity=\"1\" /><polyline clip-path=\"url(#clip342)\" style=\"stroke:#009af9; stroke-linecap:round; stroke-linejoin:round; stroke-width:4; stroke-opacity:1; fill:none\" points=\"292.4,86.1857 312.403,86.1857 332.407,237.415 352.41,149.198 372.414,111.391 392.417,338.235 412.42,678.501 432.424,665.898 452.427,703.706 472.431,829.73 492.434,968.357 512.438,804.525 532.441,766.718 552.445,791.923 572.448,880.14 592.452,892.743 612.455,842.333 632.459,892.743 652.462,955.755 672.465,1006.16 692.469,804.525 712.472,1031.37 732.476,955.755 752.479,1182.6 772.483,1132.19 792.486,1182.6 812.49,1018.77 832.493,1106.98 852.497,930.55 872.5,1069.18 892.503,930.55 912.507,1056.57 932.51,943.152 952.514,1056.57 972.517,1081.78 992.521,1094.38 1012.52,930.55 1032.53,1081.78 1052.53,1144.79 1072.53,1144.79 1092.54,1233.01 1112.54,1321.23 1132.54,1233.01 1152.55,1157.39 1172.55,1182.6 1192.56,1233.01 1212.56,1220.41 1232.56,1106.98 1252.57,1106.98 1272.57,1170 1292.57,1043.97 1312.58,1170 1332.58,1081.78 1352.58,1094.38 1372.59,1069.18 1392.59,1031.37 1412.59,1132.19 1432.6,1018.77 1452.6,1144.79 1472.6,1170 1492.61,1170 1512.61,1245.61 1532.61,1283.42 1552.62,1132.19 1572.62,1207.8 1592.62,1346.43 1612.63,1384.24 1632.63,1359.03 1652.63,1321.23 1672.64,1359.03 1692.64,1283.42 1712.65,1296.02 1732.65,1119.59 1752.65,1220.41 1772.66,1069.18 1792.66,1220.41 1812.66,1132.19 1832.67,1043.97 1852.67,1043.97 1872.67,1031.37 1892.68,1094.38 1912.68,880.14 1932.68,1094.38 1952.69,1069.18 1972.69,930.55 1992.69,930.55 2012.7,1144.79 2032.7,1195.2 2052.7,1220.41 2072.71,1094.38 2092.71,867.538 2112.71,955.755 2132.72,854.935 2152.72,1056.57 2172.72,1056.57 2192.73,1132.19 2212.73,1106.98 2232.74,1006.16 2252.74,1018.77 2272.74,980.96 2292.75,1031.37 \"/>\n",
       "<path clip-path=\"url(#clip340)\" d=\"M1956.94 196.789 L2282.08 196.789 L2282.08 93.1086 L1956.94 93.1086  Z\" fill=\"#ffffff\" fill-rule=\"evenodd\" fill-opacity=\"1\"/>\n",
       "<polyline clip-path=\"url(#clip340)\" style=\"stroke:#000000; stroke-linecap:round; stroke-linejoin:round; stroke-width:4; stroke-opacity:1; fill:none\" points=\"1956.94,196.789 2282.08,196.789 2282.08,93.1086 1956.94,93.1086 1956.94,196.789 \"/>\n",
       "<polyline clip-path=\"url(#clip340)\" style=\"stroke:#009af9; stroke-linecap:round; stroke-linejoin:round; stroke-width:4; stroke-opacity:1; fill:none\" points=\"1980.5,144.949 2121.86,144.949 \"/>\n",
       "<path clip-path=\"url(#clip340)\" d=\"M2161.25 132.275 L2154.91 149.474 L2167.62 149.474 L2161.25 132.275 M2158.61 127.669 L2163.91 127.669 L2177.08 162.229 L2172.22 162.229 L2169.07 153.363 L2153.49 153.363 L2150.35 162.229 L2145.42 162.229 L2158.61 127.669 Z\" fill=\"#000000\" fill-rule=\"nonzero\" fill-opacity=\"1\" /><path clip-path=\"url(#clip340)\" d=\"M2181.94 126.21 L2186.2 126.21 L2186.2 162.229 L2181.94 162.229 L2181.94 126.21 Z\" fill=\"#000000\" fill-rule=\"nonzero\" fill-opacity=\"1\" /><path clip-path=\"url(#clip340)\" d=\"M2195.11 136.303 L2199.37 136.303 L2199.37 162.229 L2195.11 162.229 L2195.11 136.303 M2195.11 126.21 L2199.37 126.21 L2199.37 131.604 L2195.11 131.604 L2195.11 126.21 Z\" fill=\"#000000\" fill-rule=\"nonzero\" fill-opacity=\"1\" /><path clip-path=\"url(#clip340)\" d=\"M2205.23 136.303 L2209.74 136.303 L2217.85 158.062 L2225.95 136.303 L2230.46 136.303 L2220.74 162.229 L2214.95 162.229 L2205.23 136.303 Z\" fill=\"#000000\" fill-rule=\"nonzero\" fill-opacity=\"1\" /><path clip-path=\"url(#clip340)\" d=\"M2258.52 148.201 L2258.52 150.284 L2238.93 150.284 Q2239.21 154.682 2241.57 156.997 Q2243.96 159.289 2248.19 159.289 Q2250.65 159.289 2252.94 158.687 Q2255.25 158.085 2257.52 156.881 L2257.52 160.909 Q2255.23 161.881 2252.82 162.391 Q2250.42 162.9 2247.94 162.9 Q2241.74 162.9 2238.1 159.289 Q2234.49 155.678 2234.49 149.52 Q2234.49 143.155 2237.92 139.428 Q2241.36 135.678 2247.2 135.678 Q2252.43 135.678 2255.46 139.057 Q2258.52 142.414 2258.52 148.201 M2254.26 146.951 Q2254.21 143.456 2252.29 141.372 Q2250.39 139.289 2247.24 139.289 Q2243.68 139.289 2241.53 141.303 Q2239.4 143.317 2239.07 146.974 L2254.26 146.951 Z\" fill=\"#000000\" fill-rule=\"nonzero\" fill-opacity=\"1\" /></svg>\n"
      ],
      "text/html": [
       "<img src=\"data:image/png;base64,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\" />"
      ]
     },
     "metadata": {},
     "output_type": "display_data"
    },
    {
     "data": {
      "text/html": [
       "<div><div style = \"float: left;\"><span>101×1 DataFrame</span></div><div style = \"float: right;\"><span style = \"font-style: italic;\">76 rows omitted</span></div><div style = \"clear: both;\"></div></div><div class = \"data-frame\" style = \"overflow-x: scroll;\"><table class = \"data-frame\" style = \"margin-bottom: 6px;\"><thead><tr class = \"header\"><th class = \"rowNumber\" style = \"font-weight: bold; text-align: right;\">Row</th><th style = \"text-align: left;\">Alive</th></tr><tr class = \"subheader headerLastRow\"><th class = \"rowNumber\" style = \"font-weight: bold; text-align: right;\"></th><th title = \"Int64\" style = \"text-align: left;\">Int64</th></tr></thead><tbody><tr><td class = \"rowNumber\" style = \"font-weight: bold; text-align: right;\">1</td><td style = \"text-align: right;\">139</td></tr><tr><td class = \"rowNumber\" style = \"font-weight: bold; text-align: right;\">2</td><td style = \"text-align: right;\">139</td></tr><tr><td class = \"rowNumber\" style = \"font-weight: bold; text-align: right;\">3</td><td style = \"text-align: right;\">127</td></tr><tr><td class = \"rowNumber\" style = \"font-weight: bold; text-align: right;\">4</td><td style = \"text-align: right;\">134</td></tr><tr><td class = \"rowNumber\" style = \"font-weight: bold; text-align: right;\">5</td><td style = \"text-align: right;\">137</td></tr><tr><td class = \"rowNumber\" style = \"font-weight: bold; text-align: right;\">6</td><td style = \"text-align: right;\">119</td></tr><tr><td class = \"rowNumber\" style = \"font-weight: bold; text-align: right;\">7</td><td style = \"text-align: right;\">92</td></tr><tr><td class = \"rowNumber\" style = \"font-weight: bold; text-align: right;\">8</td><td style = \"text-align: right;\">93</td></tr><tr><td class = \"rowNumber\" style = \"font-weight: bold; text-align: right;\">9</td><td style = \"text-align: right;\">90</td></tr><tr><td class = \"rowNumber\" style = \"font-weight: bold; text-align: right;\">10</td><td style = \"text-align: right;\">80</td></tr><tr><td class = \"rowNumber\" style = \"font-weight: bold; text-align: right;\">11</td><td style = \"text-align: right;\">69</td></tr><tr><td class = \"rowNumber\" style = \"font-weight: bold; text-align: right;\">12</td><td style = \"text-align: right;\">82</td></tr><tr><td class = \"rowNumber\" style = \"font-weight: bold; text-align: right;\">13</td><td style = \"text-align: right;\">85</td></tr><tr><td style = \"text-align: right;\">&vellip;</td><td style = \"text-align: right;\">&vellip;</td></tr><tr><td class = \"rowNumber\" style = \"font-weight: bold; text-align: right;\">90</td><td style = \"text-align: right;\">59</td></tr><tr><td class = \"rowNumber\" style = \"font-weight: bold; text-align: right;\">91</td><td style = \"text-align: right;\">77</td></tr><tr><td class = \"rowNumber\" style = \"font-weight: bold; text-align: right;\">92</td><td style = \"text-align: right;\">70</td></tr><tr><td class = \"rowNumber\" style = \"font-weight: bold; text-align: right;\">93</td><td style = \"text-align: right;\">78</td></tr><tr><td class = \"rowNumber\" style = \"font-weight: bold; text-align: right;\">94</td><td style = \"text-align: right;\">62</td></tr><tr><td class = \"rowNumber\" style = \"font-weight: bold; text-align: right;\">95</td><td style = \"text-align: right;\">62</td></tr><tr><td class = \"rowNumber\" style = \"font-weight: bold; text-align: right;\">96</td><td style = \"text-align: right;\">56</td></tr><tr><td class = \"rowNumber\" style = \"font-weight: bold; text-align: right;\">97</td><td style = \"text-align: right;\">58</td></tr><tr><td class = \"rowNumber\" style = \"font-weight: bold; text-align: right;\">98</td><td style = \"text-align: right;\">66</td></tr><tr><td class = \"rowNumber\" style = \"font-weight: bold; text-align: right;\">99</td><td style = \"text-align: right;\">65</td></tr><tr><td class = \"rowNumber\" style = \"font-weight: bold; text-align: right;\">100</td><td style = \"text-align: right;\">68</td></tr><tr><td class = \"rowNumber\" style = \"font-weight: bold; text-align: right;\">101</td><td style = \"text-align: right;\">64</td></tr></tbody></table></div>"
      ],
      "text/latex": [
       "\\begin{tabular}{r|c}\n",
       "\t& Alive\\\\\n",
       "\t\\hline\n",
       "\t& Int64\\\\\n",
       "\t\\hline\n",
       "\t1 & 139 \\\\\n",
       "\t2 & 139 \\\\\n",
       "\t3 & 127 \\\\\n",
       "\t4 & 134 \\\\\n",
       "\t5 & 137 \\\\\n",
       "\t6 & 119 \\\\\n",
       "\t7 & 92 \\\\\n",
       "\t8 & 93 \\\\\n",
       "\t9 & 90 \\\\\n",
       "\t10 & 80 \\\\\n",
       "\t11 & 69 \\\\\n",
       "\t12 & 82 \\\\\n",
       "\t13 & 85 \\\\\n",
       "\t14 & 83 \\\\\n",
       "\t15 & 76 \\\\\n",
       "\t16 & 75 \\\\\n",
       "\t17 & 79 \\\\\n",
       "\t18 & 75 \\\\\n",
       "\t19 & 70 \\\\\n",
       "\t20 & 66 \\\\\n",
       "\t21 & 82 \\\\\n",
       "\t22 & 64 \\\\\n",
       "\t23 & 70 \\\\\n",
       "\t24 & 52 \\\\\n",
       "\t25 & 56 \\\\\n",
       "\t26 & 52 \\\\\n",
       "\t27 & 65 \\\\\n",
       "\t28 & 58 \\\\\n",
       "\t29 & 72 \\\\\n",
       "\t30 & 61 \\\\\n",
       "\t$\\dots$ & $\\dots$ \\\\\n",
       "\\end{tabular}\n"
      ],
      "text/plain": [
       "\u001b[1m101×1 DataFrame\u001b[0m\n",
       "\u001b[1m Row \u001b[0m│\u001b[1m Alive \u001b[0m\n",
       "     │\u001b[90m Int64 \u001b[0m\n",
       "─────┼───────\n",
       "   1 │   139\n",
       "   2 │   139\n",
       "   3 │   127\n",
       "   4 │   134\n",
       "   5 │   137\n",
       "   6 │   119\n",
       "   7 │    92\n",
       "   8 │    93\n",
       "   9 │    90\n",
       "  10 │    80\n",
       "  11 │    69\n",
       "  ⋮  │   ⋮\n",
       "  92 │    70\n",
       "  93 │    78\n",
       "  94 │    62\n",
       "  95 │    62\n",
       "  96 │    56\n",
       "  97 │    58\n",
       "  98 │    66\n",
       "  99 │    65\n",
       " 100 │    68\n",
       " 101 │    64\n",
       "\u001b[36m80 rows omitted\u001b[0m"
      ]
     },
     "execution_count": 8,
     "metadata": {},
     "output_type": "execute_result"
    }
   ],
   "source": [
    "df = get_nums_patches(model, patch-> patch.is_alive, labels=[\"Alive\"], \n",
    "    plot_result = true)"
   ]
  },
  {
   "cell_type": "markdown",
   "metadata": {},
   "source": [
    "![png](assets/CGOL/CGOLPlot1.png)"
   ]
  }
 ],
 "metadata": {
  "@webio": {
   "lastCommId": "31c870f1ca474ef18e17162169d10d51",
   "lastKernelId": "6ba02987-e8fc-455e-89e8-ff28cbbe679c"
  },
  "kernelspec": {
   "display_name": "Julia 1.9.2",
   "language": "julia",
   "name": "julia-1.9"
  },
  "language_info": {
   "file_extension": ".jl",
   "mimetype": "application/julia",
   "name": "julia",
   "version": "1.9.2"
  }
 },
 "nbformat": 4,
 "nbformat_minor": 4
}
