{
 "cells": [
  {
   "cell_type": "markdown",
   "metadata": {},
   "source": [
    "# Conway's Game of Life"
   ]
  },
  {
   "cell_type": "code",
   "execution_count": null,
   "metadata": {},
   "outputs": [],
   "source": [
    "using Pkg, Revise\n",
    "Pkg.activate(joinpath(@__DIR__, \"..\"))\n",
    "using EasyABM"
   ]
  },
  {
   "cell_type": "markdown",
   "metadata": {},
   "source": [
    "## Step 1: Create Agents and Model\n",
    "\n",
    "We work with only patches in this model. The size of the \n",
    "grid in the model created is 20x20 and `alive_percent` is the fraction of patches that are live initially."
   ]
  },
  {
   "cell_type": "code",
   "execution_count": null,
   "metadata": {},
   "outputs": [],
   "source": [
    "model = create_2d_model(grid_size = (20,20), alive_percent = 0.4, space_type = Periodic)"
   ]
  },
  {
   "cell_type": "markdown",
   "metadata": {},
   "source": [
    "## Step 2: Initialise the model\n",
    "\n",
    "In the second step we initialise the agents by defining `initialiser!` function and sending it as an argument to `init_model!`. In the `initialiser!` function we randomly set patches to be either of color `:green` or `:white`. The patches with green color have their \n",
    "`is_alive` property set to true and the patches with white color have their `is_alive` property set to false. We specify the patch properties\n",
    "`color` and `is_alive` that we want to be recorded during time evolution in the `props_to_record` argument to the `init_model!` function."
   ]
  },
  {
   "cell_type": "code",
   "execution_count": null,
   "metadata": {},
   "outputs": [],
   "source": [
    "function initialiser!(model)\n",
    "    for j in 1:model.size[2]\n",
    "        for i in 1:model.size[1]\n",
    "            if rand()<model.parameters.alive_percent\n",
    "                model.patches[i,j].color = :green\n",
    "                model.patches[i,j].is_alive = true\n",
    "            else\n",
    "                model.patches[i,j].color = :white\n",
    "                model.patches[i,j].is_alive = false\n",
    "            end\n",
    "        end\n",
    "    end\n",
    "end"
   ]
  },
  {
   "cell_type": "code",
   "execution_count": null,
   "metadata": {},
   "outputs": [],
   "source": [
    "init_model!(model, initialiser = initialiser!, \n",
    "    props_to_record=Dict(\"patches\"=>[:color, :is_alive]))"
   ]
  },
  {
   "cell_type": "markdown",
   "metadata": {},
   "source": [
    "## Step 3: Run the model\n",
    "\n",
    "In this step we implement the step logic of the Conway's Game of Life in the `step_rule!` function and run the model for 100 steps. \n",
    "Since Conway's model requires all patches to be updated at the same time, in the `step_rule!` function we first compute the `is_alive` \n",
    "property for all patches and then apply it to patches."
   ]
  },
  {
   "cell_type": "code",
   "execution_count": null,
   "metadata": {},
   "outputs": [],
   "source": [
    "function calculate_vals(model)\n",
    "    vals = [false for i in 1:model.size[1], j in 1:model.size[2]]\n",
    "    for j in 1:model.size[2]\n",
    "        for i in 1:model.size[1]\n",
    "            patch = model.patches[i,j]\n",
    "            nbrs = neighbor_patches((i,j), model, 1)\n",
    "            num_alive = 0\n",
    "            for nbr in nbrs\n",
    "                num_alive+= model.patches[nbr...].is_alive\n",
    "            end\n",
    "            condition1 = patch.is_alive && ((num_alive == 2) || (num_alive == 3))\n",
    "            condition2 = patch.is_alive && (num_alive == 3)\n",
    "            if condition1 || condition2\n",
    "                vals[i,j] = true\n",
    "            end\n",
    "        end\n",
    "    end\n",
    "    return vals\n",
    "end\n",
    "\n",
    "function apply_vals!(model, vals)\n",
    "    for j in 1:model.size[2]\n",
    "        for i in 1:model.size[1]\n",
    "            is_alive = vals[i,j]\n",
    "            model.patches[i,j].is_alive = is_alive\n",
    "            model.patches[i,j].color = is_alive ? :green : :white\n",
    "        end\n",
    "    end       \n",
    "end\n",
    "\n",
    "\n",
    "function step_rule!(model)\n",
    "    vals = calculate_vals(model)\n",
    "    apply_vals!(model, vals)\n",
    "end"
   ]
  },
  {
   "cell_type": "code",
   "execution_count": null,
   "metadata": {},
   "outputs": [],
   "source": [
    "run_model!(model, steps = 100, step_rule = step_rule!)"
   ]
  },
  {
   "cell_type": "markdown",
   "metadata": {},
   "source": [
    "If one wants to see the animation of the model run, it can be done as "
   ]
  },
  {
   "cell_type": "code",
   "execution_count": null,
   "metadata": {},
   "outputs": [],
   "source": [
    "animate_sim(model, show_grid=true)"
   ]
  },
  {
   "cell_type": "markdown",
   "metadata": {},
   "source": [
    "![png](assets/CGOL/CGOLAnim1.png)\n"
   ]
  },
  {
   "cell_type": "markdown",
   "metadata": {},
   "source": [
    "After defining the `step_rule!` function we can also choose to create an interactive application (which currently works in Jupyter with WebIO installation) as "
   ]
  },
  {
   "cell_type": "code",
   "execution_count": null,
   "metadata": {},
   "outputs": [],
   "source": [
    "create_interactive_app(model, initialiser= initialiser!,\n",
    "    step_rule= step_rule!,\n",
    "    model_controls=[\n",
    "        (:alive_percent, :s, 0:0.01:1.0)\n",
    "        ], \n",
    "    frames=200, show_grid=true) "
   ]
  },
  {
   "cell_type": "markdown",
   "metadata": {},
   "source": [
    "![png](assets/CGOL/CGOLIntApp.png)"
   ]
  },
  {
   "cell_type": "markdown",
   "metadata": {},
   "source": [
    "## Step 4: Fetch Data \n",
    "\n",
    "We can fetch the data of number alive patches as follows."
   ]
  },
  {
   "cell_type": "code",
   "execution_count": null,
   "metadata": {},
   "outputs": [],
   "source": [
    "df = get_nums_patches(model, patch-> patch.is_alive, labels=[\"Alive\"], \n",
    "    plot_result = true)"
   ]
  },
  {
   "cell_type": "markdown",
   "metadata": {},
   "source": [
    "![png](assets/CGOL/CGOLPlot1.png)"
   ]
  }
 ],
 "metadata": {
  "@webio": {
   "lastCommId": "c3dd30513df6436880312b3cab3067e3",
   "lastKernelId": "89840259-7b49-496f-8ab0-ad4301983bd7"
  },
  "kernelspec": {
   "display_name": "Julia 1.7.2",
   "language": "julia",
   "name": "julia-1.7"
  },
  "language_info": {
   "file_extension": ".jl",
   "mimetype": "application/julia",
   "name": "julia",
   "version": "1.7.2"
  }
 },
 "nbformat": 4,
 "nbformat_minor": 4
}
