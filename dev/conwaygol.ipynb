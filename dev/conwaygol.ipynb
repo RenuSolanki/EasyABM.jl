{
 "cells": [
  {
   "cell_type": "markdown",
   "metadata": {},
   "source": [
    "# Conway's Game of Life"
   ]
  },
  {
   "cell_type": "code",
   "execution_count": 1,
   "metadata": {},
   "outputs": [
    {
     "name": "stderr",
     "output_type": "stream",
     "text": [
      "\u001b[32m\u001b[1m  Activating\u001b[22m\u001b[39m project at `~/Documents/EasyABM`\n"
     ]
    },
    {
     "data": {
      "application/vnd.webio.node+json": {
       "children": [],
       "instanceArgs": {
        "namespace": "html",
        "tag": "div"
       },
       "nodeType": "DOM",
       "props": {},
       "type": "node"
      },
      "text/html": [
       "<div style=\"padding: 1em; background-color: #f8d6da; border: 1px solid #f5c6cb; font-weight: bold;\">\n",
       "<p>The WebIO Jupyter extension was not detected. See the\n",
       "<a href=\"https://juliagizmos.github.io/WebIO.jl/latest/providers/ijulia/\" target=\"_blank\">\n",
       "    WebIO Jupyter integration documentation\n",
       "</a>\n",
       "for more information.\n",
       "</div>\n"
      ],
      "text/plain": [
       "WebIO._IJuliaInit()"
      ]
     },
     "metadata": {
      "application/vnd.webio.node+json": {
       "kernelId": "3fdd8fc6-43ce-4dfa-aceb-ece79a5e55f8"
      }
     },
     "output_type": "display_data"
    }
   ],
   "source": [
    "using Pkg, Revise\n",
    "Pkg.activate(joinpath(@__DIR__, \"../..\"))\n",
    "using EasyABM"
   ]
  },
  {
   "cell_type": "markdown",
   "metadata": {},
   "source": [
    "## Step 1: Create Agents and Model\n",
    "\n",
    "We work with only patches in this model. The size of the \n",
    "grid in the model created is 20x20 and `alive_percent` is the fraction of patches that are live initially."
   ]
  },
  {
   "cell_type": "code",
   "execution_count": 2,
   "metadata": {},
   "outputs": [
    {
     "data": {
      "text/plain": [
       "EasyABM SpaceModel2D{EasyABM.StaticType, Int64, EasyABM.PeriodicType}: In a EasyABM.StaticType model number of agents is fixed.\n"
      ]
     },
     "execution_count": 2,
     "metadata": {},
     "output_type": "execute_result"
    }
   ],
   "source": [
    "model = create_2d_model(size = (20,20), alive_percent = 0.4, space_type = Periodic)"
   ]
  },
  {
   "cell_type": "markdown",
   "metadata": {},
   "source": [
    "## Step 2: Initialise the model\n",
    "\n",
    "In the second step we initialise the patches by defining `initialiser!` function and sending it as an argument to `init_model!`. In the `initialiser!` function we randomly set patches to be either of color `cl\"green\"` or `cl\"white\"` (a named color, say \"green\", can be defined in EasyABM as `cl\"green\"` or as `Col(\"green\")` or more generally as `Col(0,1,0)` or `Col(0,1,0,1)`). The patches with green color have their `is_alive` property set to true and the patches with white color have their `is_alive` property set to false. We specify the patch properties `color` and `is_alive` that we want to be recorded during time evolution in the `props_to_record` argument to the `init_model!` "
   ]
  },
  {
   "cell_type": "code",
   "execution_count": 3,
   "metadata": {},
   "outputs": [],
   "source": [
    "function initialiser!(model)\n",
    "    for j in 1:model.size[2]\n",
    "        for i in 1:model.size[1]\n",
    "            if rand()<model.properties.alive_percent\n",
    "                model.patches[i,j].color = cl\"green\"\n",
    "                model.patches[i,j].is_alive = true\n",
    "            else\n",
    "                model.patches[i,j].color = cl\"white\"\n",
    "                model.patches[i,j].is_alive = false\n",
    "            end\n",
    "        end\n",
    "    end\n",
    "end\n",
    "\n",
    "init_model!(model, initialiser = initialiser!, \n",
    "    props_to_record=Dict(\"patches\"=>Set([:color, :is_alive])))"
   ]
  },
  {
   "cell_type": "markdown",
   "metadata": {},
   "source": [
    "## Step 3: Defining the step_rule! and running the model\n",
    "\n",
    "In this step we implement the step logic of the Conway's Game of Life in the `step_rule!` function and run the model for 100 steps. \n",
    "Since Conway's model requires all patches to be updated at the same time, in the `step_rule!` function we first compute the `is_alive` \n",
    "property for all patches and then apply it to patches."
   ]
  },
  {
   "cell_type": "code",
   "execution_count": 4,
   "metadata": {},
   "outputs": [
    {
     "data": {
      "text/plain": [
       "step_rule! (generic function with 1 method)"
      ]
     },
     "execution_count": 4,
     "metadata": {},
     "output_type": "execute_result"
    }
   ],
   "source": [
    "function calculate_vals(model)\n",
    "    vals = [false for i in 1:model.size[1], j in 1:model.size[2]]\n",
    "    for j in 1:model.size[2]\n",
    "        for i in 1:model.size[1]\n",
    "            patch = model.patches[i,j]\n",
    "            nbrs = neighbor_patches_moore((i,j), model, 1)\n",
    "            num_alive = 0\n",
    "            for nbr in nbrs\n",
    "                num_alive+= model.patches[nbr...].is_alive\n",
    "            end\n",
    "            condition1 = patch.is_alive && ((num_alive == 2) || (num_alive == 3))\n",
    "            condition2 = !(patch.is_alive) && (num_alive == 3)\n",
    "            if condition1 || condition2\n",
    "                vals[i,j] = true\n",
    "            end\n",
    "        end\n",
    "    end\n",
    "    return vals\n",
    "end\n",
    "\n",
    "function apply_vals!(model, vals)\n",
    "    for j in 1:model.size[2]\n",
    "        for i in 1:model.size[1]\n",
    "            is_alive = vals[i,j]\n",
    "            model.patches[i,j].is_alive = is_alive\n",
    "            model.patches[i,j].color = is_alive ? cl\"green\" : cl\"white\"\n",
    "        end\n",
    "    end       \n",
    "end\n",
    "\n",
    "\n",
    "function step_rule!(model)\n",
    "    vals = calculate_vals(model)\n",
    "    apply_vals!(model, vals)\n",
    "end"
   ]
  },
  {
   "cell_type": "code",
   "execution_count": 5,
   "metadata": {},
   "outputs": [],
   "source": [
    "run_model!(model, steps = 100, step_rule = step_rule!)"
   ]
  },
  {
   "cell_type": "markdown",
   "metadata": {},
   "source": [
    "In order to draw the model at a specific frame, say 4th, one can use `draw_frame(model, frame = 4, show_patches=true)`. If one wants to see the animation of the model run, it can be done as "
   ]
  },
  {
   "cell_type": "code",
   "execution_count": 6,
   "metadata": {},
   "outputs": [
    {
     "data": {
      "application/vnd.webio.node+json": {
       "children": [
        {
         "children": [
          {
           "children": [
            {
             "children": [
              {
               "children": [
                {
                 "children": [
                  {
                   "children": [
                    {
                     "children": [
                      "time"
                     ],
                     "instanceArgs": {
                      "namespace": "html",
                      "tag": "label"
                     },
                     "nodeType": "DOM",
                     "props": {
                      "className": "interact ",
                      "style": {
                       "padding": "5px 10px 0px 10px"
                      }
                     },
                     "type": "node"
                    }
                   ],
                   "instanceArgs": {
                    "namespace": "html",
                    "tag": "div"
                   },
                   "nodeType": "DOM",
                   "props": {
                    "className": "interact-flex-row-left"
                   },
                   "type": "node"
                  },
                  {
                   "children": [
                    {
                     "children": [],
                     "instanceArgs": {
                      "namespace": "html",
                      "tag": "input"
                     },
                     "nodeType": "DOM",
                     "props": {
                      "attributes": {
                       "data-bind": "numericValue: index, valueUpdate: 'input', event: {change: function (){this.changes(this.changes()+1)}}",
                       "orient": "horizontal",
                       "type": "range"
                      },
                      "className": "slider slider is-fullwidth",
                      "max": 101,
                      "min": 1,
                      "step": 1,
                      "style": {}
                     },
                     "type": "node"
                    }
                   ],
                   "instanceArgs": {
                    "namespace": "html",
                    "tag": "div"
                   },
                   "nodeType": "DOM",
                   "props": {
                    "className": "interact-flex-row-center"
                   },
                   "type": "node"
                  },
                  {
                   "children": [
                    {
                     "children": [],
                     "instanceArgs": {
                      "namespace": "html",
                      "tag": "p"
                     },
                     "nodeType": "DOM",
                     "props": {
                      "attributes": {
                       "data-bind": "text: formatted_val"
                      }
                     },
                     "type": "node"
                    }
                   ],
                   "instanceArgs": {
                    "namespace": "html",
                    "tag": "div"
                   },
                   "nodeType": "DOM",
                   "props": {
                    "className": "interact-flex-row-right"
                   },
                   "type": "node"
                  }
                 ],
                 "instanceArgs": {
                  "namespace": "html",
                  "tag": "div"
                 },
                 "nodeType": "DOM",
                 "props": {
                  "className": "interact-flex-row interact-widget"
                 },
                 "type": "node"
                }
               ],
               "instanceArgs": {
                "handlers": {
                 "changes": [
                  "(function (val){return (val!=this.model[\"changes\"]()) ? (this.valueFromJulia[\"changes\"]=true, this.model[\"changes\"](val)) : undefined})"
                 ],
                 "index": [
                  "(function (val){return (val!=this.model[\"index\"]()) ? (this.valueFromJulia[\"index\"]=true, this.model[\"index\"](val)) : undefined})"
                 ]
                },
                "id": "8835275317108146432",
                "imports": {
                 "data": [
                  {
                   "name": "knockout",
                   "type": "js",
                   "url": "/assetserver/727383f2a47bd31570b7da84eee7b022dd6d7c78-knockout.js"
                  },
                  {
                   "name": "knockout_punches",
                   "type": "js",
                   "url": "/assetserver/382b41b3b1bd9f26f75861d360bad7f8beea211f-knockout_punches.js"
                  },
                  {
                   "name": null,
                   "type": "js",
                   "url": "/assetserver/5ab20f1060420992a9b82a65b735dee4d81ef413-all.js"
                  },
                  {
                   "name": null,
                   "type": "css",
                   "url": "/assetserver/1cc0ed62837210b80a182cc3676512f895dab686-style.css"
                  },
                  {
                   "name": null,
                   "type": "css",
                   "url": "/assetserver/2eee816f616df3549d7044d45e744fbf8d42bfa1-bulma_confined.min.css"
                  }
                 ],
                 "type": "async_block"
                },
                "mount_callbacks": [
                 "function () {\n    var handler = (function (ko, koPunches) {\n    ko.punches.enableAll();\n    ko.bindingHandlers.numericValue = {\n        init: function(element, valueAccessor, allBindings, data, context) {\n            var stringified = ko.observable(ko.unwrap(valueAccessor()));\n            stringified.subscribe(function(value) {\n                var val = parseFloat(value);\n                if (!isNaN(val)) {\n                    valueAccessor()(val);\n                }\n            });\n            valueAccessor().subscribe(function(value) {\n                var str = JSON.stringify(value);\n                if ((str == \"0\") && ([\"-0\", \"-0.\"].indexOf(stringified()) >= 0))\n                     return;\n                 if ([\"null\", \"\"].indexOf(str) >= 0)\n                     return;\n                stringified(str);\n            });\n            ko.applyBindingsToNode(\n                element,\n                {\n                    value: stringified,\n                    valueUpdate: allBindings.get('valueUpdate'),\n                },\n                context,\n            );\n        }\n    };\n    var json_data = {\"formatted_vals\":[\"1\",\"2\",\"3\",\"4\",\"5\",\"6\",\"7\",\"8\",\"9\",\"10\",\"11\",\"12\",\"13\",\"14\",\"15\",\"16\",\"17\",\"18\",\"19\",\"20\",\"21\",\"22\",\"23\",\"24\",\"25\",\"26\",\"27\",\"28\",\"29\",\"30\",\"31\",\"32\",\"33\",\"34\",\"35\",\"36\",\"37\",\"38\",\"39\",\"40\",\"41\",\"42\",\"43\",\"44\",\"45\",\"46\",\"47\",\"48\",\"49\",\"50\",\"51\",\"52\",\"53\",\"54\",\"55\",\"56\",\"57\",\"58\",\"59\",\"60\",\"61\",\"62\",\"63\",\"64\",\"65\",\"66\",\"67\",\"68\",\"69\",\"70\",\"71\",\"72\",\"73\",\"74\",\"75\",\"76\",\"77\",\"78\",\"79\",\"80\",\"81\",\"82\",\"83\",\"84\",\"85\",\"86\",\"87\",\"88\",\"89\",\"90\",\"91\",\"92\",\"93\",\"94\",\"95\",\"96\",\"97\",\"98\",\"99\",\"100\",\"101\"],\"changes\":WebIO.getval({\"name\":\"changes\",\"scope\":\"8835275317108146432\",\"id\":\"14722837102688461182\",\"type\":\"observable\"}),\"index\":WebIO.getval({\"name\":\"index\",\"scope\":\"8835275317108146432\",\"id\":\"12641080691164456648\",\"type\":\"observable\"})};\n    var self = this;\n    function AppViewModel() {\n        for (var key in json_data) {\n            var el = json_data[key];\n            this[key] = Array.isArray(el) ? ko.observableArray(el) : ko.observable(el);\n        }\n        \n        [this[\"formatted_val\"]=ko.computed(    function(){\n        return this.formatted_vals()[parseInt(this.index())-(1)];\n    }\n,this)]\n        [this[\"changes\"].subscribe((function (val){!(this.valueFromJulia[\"changes\"]) ? (WebIO.setval({\"name\":\"changes\",\"scope\":\"8835275317108146432\",\"id\":\"14722837102688461182\",\"type\":\"observable\"},val)) : undefined; return this.valueFromJulia[\"changes\"]=false}),self),this[\"index\"].subscribe((function (val){!(this.valueFromJulia[\"index\"]) ? (WebIO.setval({\"name\":\"index\",\"scope\":\"8835275317108146432\",\"id\":\"12641080691164456648\",\"type\":\"observable\"},val)) : undefined; return this.valueFromJulia[\"index\"]=false}),self)]\n        \n    }\n    self.model = new AppViewModel();\n    self.valueFromJulia = {};\n    for (var key in json_data) {\n        self.valueFromJulia[key] = false;\n    }\n    ko.applyBindings(self.model, self.dom);\n}\n);\n    (WebIO.importBlock({\"data\":[{\"name\":\"knockout\",\"type\":\"js\",\"url\":\"/assetserver/727383f2a47bd31570b7da84eee7b022dd6d7c78-knockout.js\"},{\"name\":\"knockout_punches\",\"type\":\"js\",\"url\":\"/assetserver/382b41b3b1bd9f26f75861d360bad7f8beea211f-knockout_punches.js\"}],\"type\":\"async_block\"})).then((imports) => handler.apply(this, imports));\n}\n"
                ],
                "observables": {
                 "changes": {
                  "id": "14722837102688461182",
                  "sync": false,
                  "value": 0
                 },
                 "index": {
                  "id": "12641080691164456648",
                  "sync": true,
                  "value": 51
                 }
                },
                "systemjs_options": null
               },
               "nodeType": "Scope",
               "props": {},
               "type": "node"
              }
             ],
             "instanceArgs": {
              "namespace": "html",
              "tag": "div"
             },
             "nodeType": "DOM",
             "props": {
              "className": "field interact-widget"
             },
             "type": "node"
            },
            {
             "children": [
              {
               "children": [
                {
                 "children": [
                  {
                   "children": [
                    {
                     "children": [
                      "scale"
                     ],
                     "instanceArgs": {
                      "namespace": "html",
                      "tag": "label"
                     },
                     "nodeType": "DOM",
                     "props": {
                      "className": "interact ",
                      "style": {
                       "padding": "5px 10px 0px 10px"
                      }
                     },
                     "type": "node"
                    }
                   ],
                   "instanceArgs": {
                    "namespace": "html",
                    "tag": "div"
                   },
                   "nodeType": "DOM",
                   "props": {
                    "className": "interact-flex-row-left"
                   },
                   "type": "node"
                  },
                  {
                   "children": [
                    {
                     "children": [],
                     "instanceArgs": {
                      "namespace": "html",
                      "tag": "input"
                     },
                     "nodeType": "DOM",
                     "props": {
                      "attributes": {
                       "data-bind": "numericValue: index, valueUpdate: 'input', event: {change: function (){this.changes(this.changes()+1)}}",
                       "orient": "horizontal",
                       "type": "range"
                      },
                      "className": "slider slider is-fullwidth",
                      "max": 20,
                      "min": 1,
                      "step": 1,
                      "style": {}
                     },
                     "type": "node"
                    }
                   ],
                   "instanceArgs": {
                    "namespace": "html",
                    "tag": "div"
                   },
                   "nodeType": "DOM",
                   "props": {
                    "className": "interact-flex-row-center"
                   },
                   "type": "node"
                  },
                  {
                   "children": [
                    {
                     "children": [],
                     "instanceArgs": {
                      "namespace": "html",
                      "tag": "p"
                     },
                     "nodeType": "DOM",
                     "props": {
                      "attributes": {
                       "data-bind": "text: formatted_val"
                      }
                     },
                     "type": "node"
                    }
                   ],
                   "instanceArgs": {
                    "namespace": "html",
                    "tag": "div"
                   },
                   "nodeType": "DOM",
                   "props": {
                    "className": "interact-flex-row-right"
                   },
                   "type": "node"
                  }
                 ],
                 "instanceArgs": {
                  "namespace": "html",
                  "tag": "div"
                 },
                 "nodeType": "DOM",
                 "props": {
                  "className": "interact-flex-row interact-widget"
                 },
                 "type": "node"
                }
               ],
               "instanceArgs": {
                "handlers": {
                 "changes": [
                  "(function (val){return (val!=this.model[\"changes\"]()) ? (this.valueFromJulia[\"changes\"]=true, this.model[\"changes\"](val)) : undefined})"
                 ],
                 "index": [
                  "(function (val){return (val!=this.model[\"index\"]()) ? (this.valueFromJulia[\"index\"]=true, this.model[\"index\"](val)) : undefined})"
                 ]
                },
                "id": "11553010555561663587",
                "imports": {
                 "data": [
                  {
                   "name": "knockout",
                   "type": "js",
                   "url": "/assetserver/727383f2a47bd31570b7da84eee7b022dd6d7c78-knockout.js"
                  },
                  {
                   "name": "knockout_punches",
                   "type": "js",
                   "url": "/assetserver/382b41b3b1bd9f26f75861d360bad7f8beea211f-knockout_punches.js"
                  },
                  {
                   "name": null,
                   "type": "js",
                   "url": "/assetserver/5ab20f1060420992a9b82a65b735dee4d81ef413-all.js"
                  },
                  {
                   "name": null,
                   "type": "css",
                   "url": "/assetserver/1cc0ed62837210b80a182cc3676512f895dab686-style.css"
                  },
                  {
                   "name": null,
                   "type": "css",
                   "url": "/assetserver/2eee816f616df3549d7044d45e744fbf8d42bfa1-bulma_confined.min.css"
                  }
                 ],
                 "type": "async_block"
                },
                "mount_callbacks": [
                 "function () {\n    var handler = (function (ko, koPunches) {\n    ko.punches.enableAll();\n    ko.bindingHandlers.numericValue = {\n        init: function(element, valueAccessor, allBindings, data, context) {\n            var stringified = ko.observable(ko.unwrap(valueAccessor()));\n            stringified.subscribe(function(value) {\n                var val = parseFloat(value);\n                if (!isNaN(val)) {\n                    valueAccessor()(val);\n                }\n            });\n            valueAccessor().subscribe(function(value) {\n                var str = JSON.stringify(value);\n                if ((str == \"0\") && ([\"-0\", \"-0.\"].indexOf(stringified()) >= 0))\n                     return;\n                 if ([\"null\", \"\"].indexOf(str) >= 0)\n                     return;\n                stringified(str);\n            });\n            ko.applyBindingsToNode(\n                element,\n                {\n                    value: stringified,\n                    valueUpdate: allBindings.get('valueUpdate'),\n                },\n                context,\n            );\n        }\n    };\n    var json_data = {\"formatted_vals\":[\"0.1\",\"0.2\",\"0.3\",\"0.4\",\"0.5\",\"0.6\",\"0.7\",\"0.8\",\"0.9\",\"1.0\",\"1.1\",\"1.2\",\"1.3\",\"1.4\",\"1.5\",\"1.6\",\"1.7\",\"1.8\",\"1.9\",\"2.0\"],\"changes\":WebIO.getval({\"name\":\"changes\",\"scope\":\"11553010555561663587\",\"id\":\"11169293875387547182\",\"type\":\"observable\"}),\"index\":WebIO.getval({\"name\":\"index\",\"scope\":\"11553010555561663587\",\"id\":\"432459323161294713\",\"type\":\"observable\"})};\n    var self = this;\n    function AppViewModel() {\n        for (var key in json_data) {\n            var el = json_data[key];\n            this[key] = Array.isArray(el) ? ko.observableArray(el) : ko.observable(el);\n        }\n        \n        [this[\"formatted_val\"]=ko.computed(    function(){\n        return this.formatted_vals()[parseInt(this.index())-(1)];\n    }\n,this)]\n        [this[\"changes\"].subscribe((function (val){!(this.valueFromJulia[\"changes\"]) ? (WebIO.setval({\"name\":\"changes\",\"scope\":\"11553010555561663587\",\"id\":\"11169293875387547182\",\"type\":\"observable\"},val)) : undefined; return this.valueFromJulia[\"changes\"]=false}),self),this[\"index\"].subscribe((function (val){!(this.valueFromJulia[\"index\"]) ? (WebIO.setval({\"name\":\"index\",\"scope\":\"11553010555561663587\",\"id\":\"432459323161294713\",\"type\":\"observable\"},val)) : undefined; return this.valueFromJulia[\"index\"]=false}),self)]\n        \n    }\n    self.model = new AppViewModel();\n    self.valueFromJulia = {};\n    for (var key in json_data) {\n        self.valueFromJulia[key] = false;\n    }\n    ko.applyBindings(self.model, self.dom);\n}\n);\n    (WebIO.importBlock({\"data\":[{\"name\":\"knockout\",\"type\":\"js\",\"url\":\"/assetserver/727383f2a47bd31570b7da84eee7b022dd6d7c78-knockout.js\"},{\"name\":\"knockout_punches\",\"type\":\"js\",\"url\":\"/assetserver/382b41b3b1bd9f26f75861d360bad7f8beea211f-knockout_punches.js\"}],\"type\":\"async_block\"})).then((imports) => handler.apply(this, imports));\n}\n"
                ],
                "observables": {
                 "changes": {
                  "id": "11169293875387547182",
                  "sync": false,
                  "value": 0
                 },
                 "index": {
                  "id": "432459323161294713",
                  "sync": true,
                  "value": 10
                 }
                },
                "systemjs_options": null
               },
               "nodeType": "Scope",
               "props": {},
               "type": "node"
              }
             ],
             "instanceArgs": {
              "namespace": "html",
              "tag": "div"
             },
             "nodeType": "DOM",
             "props": {
              "className": "field interact-widget"
             },
             "type": "node"
            },
            {
             "children": [
              {
               "children": [
                {
                 "children": [
                  {
                   "children": [],
                   "instanceArgs": {
                    "namespace": "html",
                    "tag": "div"
                   },
                   "nodeType": "DOM",
                   "props": {
                    "id": "container"
                   },
                   "type": "node"
                  }
                 ],
                 "instanceArgs": {
                  "handlers": {
                   "value": [
                    "(function (txt){return this.k.render(txt,this.container)})"
                   ]
                  },
                  "id": "11747508774643960410",
                  "imports": {
                   "data": [
                    {
                     "name": null,
                     "type": "js",
                     "url": "/assetserver/dd22ed1bf1896c2748f3fe616ce0b838adc895c1-katex.min.js"
                    },
                    {
                     "name": null,
                     "type": "css",
                     "url": "/assetserver/46517a424aa5e6cffc1360d7e0848b601c584ee3-katex.min.css"
                    }
                   ],
                   "type": "async_block"
                  },
                  "mount_callbacks": [
                   "function () {\n    var handler = ((function (k){this.k=k; this.container=this.dom.querySelector(\"#container\"); return k.render(\"\\\\;\\\\;\",this.container)}));\n    (WebIO.importBlock({\"data\":[{\"name\":null,\"type\":\"js\",\"url\":\"/assetserver/dd22ed1bf1896c2748f3fe616ce0b838adc895c1-katex.min.js\"},{\"name\":null,\"type\":\"css\",\"url\":\"/assetserver/46517a424aa5e6cffc1360d7e0848b601c584ee3-katex.min.css\"}],\"type\":\"async_block\"})).then((imports) => handler.apply(this, imports));\n}\n"
                  ],
                  "observables": {
                   "value": {
                    "id": "138037137159223386",
                    "sync": false,
                    "value": "\\;\\;"
                   }
                  },
                  "systemjs_options": null
                 },
                 "nodeType": "Scope",
                 "props": {},
                 "type": "node"
                }
               ],
               "instanceArgs": {
                "namespace": "html",
                "tag": "div"
               },
               "nodeType": "DOM",
               "props": {
                "className": "interact-widget"
               },
               "type": "node"
              },
              {
               "children": [
                {
                 "children": [
                  {
                   "children": [
                    "run"
                   ],
                   "instanceArgs": {
                    "namespace": "html",
                    "tag": "button"
                   },
                   "nodeType": "DOM",
                   "props": {
                    "attributes": {
                     "data-bind": "click: function (){this.clicks(this.clicks()+1)}, css: {'is-loading' : loading}"
                    },
                    "className": "is-medium button is-primary",
                    "style": {}
                   },
                   "type": "node"
                  }
                 ],
                 "instanceArgs": {
                  "handlers": {
                   "clicks": [
                    "(function (val){return (val!=this.model[\"clicks\"]()) ? (this.valueFromJulia[\"clicks\"]=true, this.model[\"clicks\"](val)) : undefined})"
                   ],
                   "loading": [
                    "(function (val){return (val!=this.model[\"loading\"]()) ? (this.valueFromJulia[\"loading\"]=true, this.model[\"loading\"](val)) : undefined})"
                   ]
                  },
                  "id": "12155287748704894298",
                  "imports": {
                   "data": [
                    {
                     "name": "knockout",
                     "type": "js",
                     "url": "/assetserver/727383f2a47bd31570b7da84eee7b022dd6d7c78-knockout.js"
                    },
                    {
                     "name": "knockout_punches",
                     "type": "js",
                     "url": "/assetserver/382b41b3b1bd9f26f75861d360bad7f8beea211f-knockout_punches.js"
                    },
                    {
                     "name": null,
                     "type": "js",
                     "url": "/assetserver/5ab20f1060420992a9b82a65b735dee4d81ef413-all.js"
                    },
                    {
                     "name": null,
                     "type": "css",
                     "url": "/assetserver/1cc0ed62837210b80a182cc3676512f895dab686-style.css"
                    },
                    {
                     "name": null,
                     "type": "css",
                     "url": "/assetserver/2eee816f616df3549d7044d45e744fbf8d42bfa1-bulma_confined.min.css"
                    }
                   ],
                   "type": "async_block"
                  },
                  "mount_callbacks": [
                   "function () {\n    var handler = (function (ko, koPunches) {\n    ko.punches.enableAll();\n    ko.bindingHandlers.numericValue = {\n        init: function(element, valueAccessor, allBindings, data, context) {\n            var stringified = ko.observable(ko.unwrap(valueAccessor()));\n            stringified.subscribe(function(value) {\n                var val = parseFloat(value);\n                if (!isNaN(val)) {\n                    valueAccessor()(val);\n                }\n            });\n            valueAccessor().subscribe(function(value) {\n                var str = JSON.stringify(value);\n                if ((str == \"0\") && ([\"-0\", \"-0.\"].indexOf(stringified()) >= 0))\n                     return;\n                 if ([\"null\", \"\"].indexOf(str) >= 0)\n                     return;\n                stringified(str);\n            });\n            ko.applyBindingsToNode(\n                element,\n                {\n                    value: stringified,\n                    valueUpdate: allBindings.get('valueUpdate'),\n                },\n                context,\n            );\n        }\n    };\n    var json_data = {\"loading\":WebIO.getval({\"name\":\"loading\",\"scope\":\"12155287748704894298\",\"id\":\"17681882914295651126\",\"type\":\"observable\"}),\"clicks\":WebIO.getval({\"name\":\"clicks\",\"scope\":\"12155287748704894298\",\"id\":\"12285493452989962445\",\"type\":\"observable\"})};\n    var self = this;\n    function AppViewModel() {\n        for (var key in json_data) {\n            var el = json_data[key];\n            this[key] = Array.isArray(el) ? ko.observableArray(el) : ko.observable(el);\n        }\n        \n        \n        [this[\"loading\"].subscribe((function (val){!(this.valueFromJulia[\"loading\"]) ? (WebIO.setval({\"name\":\"loading\",\"scope\":\"12155287748704894298\",\"id\":\"17681882914295651126\",\"type\":\"observable\"},val)) : undefined; return this.valueFromJulia[\"loading\"]=false}),self),this[\"clicks\"].subscribe((function (val){!(this.valueFromJulia[\"clicks\"]) ? (WebIO.setval({\"name\":\"clicks\",\"scope\":\"12155287748704894298\",\"id\":\"12285493452989962445\",\"type\":\"observable\"},val)) : undefined; return this.valueFromJulia[\"clicks\"]=false}),self)]\n        \n    }\n    self.model = new AppViewModel();\n    self.valueFromJulia = {};\n    for (var key in json_data) {\n        self.valueFromJulia[key] = false;\n    }\n    ko.applyBindings(self.model, self.dom);\n}\n);\n    (WebIO.importBlock({\"data\":[{\"name\":\"knockout\",\"type\":\"js\",\"url\":\"/assetserver/727383f2a47bd31570b7da84eee7b022dd6d7c78-knockout.js\"},{\"name\":\"knockout_punches\",\"type\":\"js\",\"url\":\"/assetserver/382b41b3b1bd9f26f75861d360bad7f8beea211f-knockout_punches.js\"}],\"type\":\"async_block\"})).then((imports) => handler.apply(this, imports));\n}\n"
                  ],
                  "observables": {
                   "clicks": {
                    "id": "12285493452989962445",
                    "sync": true,
                    "value": 0
                   },
                   "loading": {
                    "id": "17681882914295651126",
                    "sync": false,
                    "value": false
                   }
                  },
                  "systemjs_options": null
                 },
                 "nodeType": "Scope",
                 "props": {},
                 "type": "node"
                }
               ],
               "instanceArgs": {
                "namespace": "html",
                "tag": "div"
               },
               "nodeType": "DOM",
               "props": {
                "className": "field interact-widget"
               },
               "type": "node"
              },
              {
               "children": [
                {
                 "children": [
                  {
                   "children": [],
                   "instanceArgs": {
                    "namespace": "html",
                    "tag": "div"
                   },
                   "nodeType": "DOM",
                   "props": {
                    "id": "container"
                   },
                   "type": "node"
                  }
                 ],
                 "instanceArgs": {
                  "handlers": {
                   "value": [
                    "(function (txt){return this.k.render(txt,this.container)})"
                   ]
                  },
                  "id": "11747508774643960410",
                  "imports": {
                   "data": [
                    {
                     "name": null,
                     "type": "js",
                     "url": "/assetserver/dd22ed1bf1896c2748f3fe616ce0b838adc895c1-katex.min.js"
                    },
                    {
                     "name": null,
                     "type": "css",
                     "url": "/assetserver/46517a424aa5e6cffc1360d7e0848b601c584ee3-katex.min.css"
                    }
                   ],
                   "type": "async_block"
                  },
                  "mount_callbacks": [
                   "function () {\n    var handler = ((function (k){this.k=k; this.container=this.dom.querySelector(\"#container\"); return k.render(\"\\\\;\\\\;\",this.container)}));\n    (WebIO.importBlock({\"data\":[{\"name\":null,\"type\":\"js\",\"url\":\"/assetserver/dd22ed1bf1896c2748f3fe616ce0b838adc895c1-katex.min.js\"},{\"name\":null,\"type\":\"css\",\"url\":\"/assetserver/46517a424aa5e6cffc1360d7e0848b601c584ee3-katex.min.css\"}],\"type\":\"async_block\"})).then((imports) => handler.apply(this, imports));\n}\n"
                  ],
                  "observables": {
                   "value": {
                    "id": "138037137159223386",
                    "sync": false,
                    "value": "\\;\\;"
                   }
                  },
                  "systemjs_options": null
                 },
                 "nodeType": "Scope",
                 "props": {},
                 "type": "node"
                }
               ],
               "instanceArgs": {
                "namespace": "html",
                "tag": "div"
               },
               "nodeType": "DOM",
               "props": {
                "className": "interact-widget"
               },
               "type": "node"
              },
              {
               "children": [
                {
                 "children": [
                  {
                   "children": [
                    "stop"
                   ],
                   "instanceArgs": {
                    "namespace": "html",
                    "tag": "button"
                   },
                   "nodeType": "DOM",
                   "props": {
                    "attributes": {
                     "data-bind": "click: function (){this.clicks(this.clicks()+1)}, css: {'is-loading' : loading}"
                    },
                    "className": "is-medium button is-primary",
                    "style": {}
                   },
                   "type": "node"
                  }
                 ],
                 "instanceArgs": {
                  "handlers": {
                   "clicks": [
                    "(function (val){return (val!=this.model[\"clicks\"]()) ? (this.valueFromJulia[\"clicks\"]=true, this.model[\"clicks\"](val)) : undefined})"
                   ],
                   "loading": [
                    "(function (val){return (val!=this.model[\"loading\"]()) ? (this.valueFromJulia[\"loading\"]=true, this.model[\"loading\"](val)) : undefined})"
                   ]
                  },
                  "id": "3785921934773877749",
                  "imports": {
                   "data": [
                    {
                     "name": "knockout",
                     "type": "js",
                     "url": "/assetserver/727383f2a47bd31570b7da84eee7b022dd6d7c78-knockout.js"
                    },
                    {
                     "name": "knockout_punches",
                     "type": "js",
                     "url": "/assetserver/382b41b3b1bd9f26f75861d360bad7f8beea211f-knockout_punches.js"
                    },
                    {
                     "name": null,
                     "type": "js",
                     "url": "/assetserver/5ab20f1060420992a9b82a65b735dee4d81ef413-all.js"
                    },
                    {
                     "name": null,
                     "type": "css",
                     "url": "/assetserver/1cc0ed62837210b80a182cc3676512f895dab686-style.css"
                    },
                    {
                     "name": null,
                     "type": "css",
                     "url": "/assetserver/2eee816f616df3549d7044d45e744fbf8d42bfa1-bulma_confined.min.css"
                    }
                   ],
                   "type": "async_block"
                  },
                  "mount_callbacks": [
                   "function () {\n    var handler = (function (ko, koPunches) {\n    ko.punches.enableAll();\n    ko.bindingHandlers.numericValue = {\n        init: function(element, valueAccessor, allBindings, data, context) {\n            var stringified = ko.observable(ko.unwrap(valueAccessor()));\n            stringified.subscribe(function(value) {\n                var val = parseFloat(value);\n                if (!isNaN(val)) {\n                    valueAccessor()(val);\n                }\n            });\n            valueAccessor().subscribe(function(value) {\n                var str = JSON.stringify(value);\n                if ((str == \"0\") && ([\"-0\", \"-0.\"].indexOf(stringified()) >= 0))\n                     return;\n                 if ([\"null\", \"\"].indexOf(str) >= 0)\n                     return;\n                stringified(str);\n            });\n            ko.applyBindingsToNode(\n                element,\n                {\n                    value: stringified,\n                    valueUpdate: allBindings.get('valueUpdate'),\n                },\n                context,\n            );\n        }\n    };\n    var json_data = {\"loading\":WebIO.getval({\"name\":\"loading\",\"scope\":\"3785921934773877749\",\"id\":\"17376490473594588585\",\"type\":\"observable\"}),\"clicks\":WebIO.getval({\"name\":\"clicks\",\"scope\":\"3785921934773877749\",\"id\":\"10659046344338799579\",\"type\":\"observable\"})};\n    var self = this;\n    function AppViewModel() {\n        for (var key in json_data) {\n            var el = json_data[key];\n            this[key] = Array.isArray(el) ? ko.observableArray(el) : ko.observable(el);\n        }\n        \n        \n        [this[\"loading\"].subscribe((function (val){!(this.valueFromJulia[\"loading\"]) ? (WebIO.setval({\"name\":\"loading\",\"scope\":\"3785921934773877749\",\"id\":\"17376490473594588585\",\"type\":\"observable\"},val)) : undefined; return this.valueFromJulia[\"loading\"]=false}),self),this[\"clicks\"].subscribe((function (val){!(this.valueFromJulia[\"clicks\"]) ? (WebIO.setval({\"name\":\"clicks\",\"scope\":\"3785921934773877749\",\"id\":\"10659046344338799579\",\"type\":\"observable\"},val)) : undefined; return this.valueFromJulia[\"clicks\"]=false}),self)]\n        \n    }\n    self.model = new AppViewModel();\n    self.valueFromJulia = {};\n    for (var key in json_data) {\n        self.valueFromJulia[key] = false;\n    }\n    ko.applyBindings(self.model, self.dom);\n}\n);\n    (WebIO.importBlock({\"data\":[{\"name\":\"knockout\",\"type\":\"js\",\"url\":\"/assetserver/727383f2a47bd31570b7da84eee7b022dd6d7c78-knockout.js\"},{\"name\":\"knockout_punches\",\"type\":\"js\",\"url\":\"/assetserver/382b41b3b1bd9f26f75861d360bad7f8beea211f-knockout_punches.js\"}],\"type\":\"async_block\"})).then((imports) => handler.apply(this, imports));\n}\n"
                  ],
                  "observables": {
                   "clicks": {
                    "id": "10659046344338799579",
                    "sync": true,
                    "value": 0
                   },
                   "loading": {
                    "id": "17376490473594588585",
                    "sync": false,
                    "value": false
                   }
                  },
                  "systemjs_options": null
                 },
                 "nodeType": "Scope",
                 "props": {},
                 "type": "node"
                }
               ],
               "instanceArgs": {
                "namespace": "html",
                "tag": "div"
               },
               "nodeType": "DOM",
               "props": {
                "className": "field interact-widget"
               },
               "type": "node"
              },
              {
               "children": [
                {
                 "children": [
                  {
                   "children": [],
                   "instanceArgs": {
                    "namespace": "html",
                    "tag": "div"
                   },
                   "nodeType": "DOM",
                   "props": {
                    "id": "container"
                   },
                   "type": "node"
                  }
                 ],
                 "instanceArgs": {
                  "handlers": {
                   "value": [
                    "(function (txt){return this.k.render(txt,this.container)})"
                   ]
                  },
                  "id": "11747508774643960410",
                  "imports": {
                   "data": [
                    {
                     "name": null,
                     "type": "js",
                     "url": "/assetserver/dd22ed1bf1896c2748f3fe616ce0b838adc895c1-katex.min.js"
                    },
                    {
                     "name": null,
                     "type": "css",
                     "url": "/assetserver/46517a424aa5e6cffc1360d7e0848b601c584ee3-katex.min.css"
                    }
                   ],
                   "type": "async_block"
                  },
                  "mount_callbacks": [
                   "function () {\n    var handler = ((function (k){this.k=k; this.container=this.dom.querySelector(\"#container\"); return k.render(\"\\\\;\\\\;\",this.container)}));\n    (WebIO.importBlock({\"data\":[{\"name\":null,\"type\":\"js\",\"url\":\"/assetserver/dd22ed1bf1896c2748f3fe616ce0b838adc895c1-katex.min.js\"},{\"name\":null,\"type\":\"css\",\"url\":\"/assetserver/46517a424aa5e6cffc1360d7e0848b601c584ee3-katex.min.css\"}],\"type\":\"async_block\"})).then((imports) => handler.apply(this, imports));\n}\n"
                  ],
                  "observables": {
                   "value": {
                    "id": "138037137159223386",
                    "sync": false,
                    "value": "\\;\\;"
                   }
                  },
                  "systemjs_options": null
                 },
                 "nodeType": "Scope",
                 "props": {},
                 "type": "node"
                }
               ],
               "instanceArgs": {
                "namespace": "html",
                "tag": "div"
               },
               "nodeType": "DOM",
               "props": {
                "className": "interact-widget"
               },
               "type": "node"
              },
              {
               "children": [
                {
                 "children": [
                  {
                   "children": [
                    "save"
                   ],
                   "instanceArgs": {
                    "namespace": "html",
                    "tag": "button"
                   },
                   "nodeType": "DOM",
                   "props": {
                    "attributes": {
                     "data-bind": "click: function (){this.clicks(this.clicks()+1)}, css: {'is-loading' : loading}"
                    },
                    "className": "is-medium button is-primary",
                    "style": {}
                   },
                   "type": "node"
                  }
                 ],
                 "instanceArgs": {
                  "handlers": {
                   "clicks": [
                    "(function (val){return (val!=this.model[\"clicks\"]()) ? (this.valueFromJulia[\"clicks\"]=true, this.model[\"clicks\"](val)) : undefined})"
                   ],
                   "loading": [
                    "(function (val){return (val!=this.model[\"loading\"]()) ? (this.valueFromJulia[\"loading\"]=true, this.model[\"loading\"](val)) : undefined})"
                   ]
                  },
                  "id": "9265408616907984050",
                  "imports": {
                   "data": [
                    {
                     "name": "knockout",
                     "type": "js",
                     "url": "/assetserver/727383f2a47bd31570b7da84eee7b022dd6d7c78-knockout.js"
                    },
                    {
                     "name": "knockout_punches",
                     "type": "js",
                     "url": "/assetserver/382b41b3b1bd9f26f75861d360bad7f8beea211f-knockout_punches.js"
                    },
                    {
                     "name": null,
                     "type": "js",
                     "url": "/assetserver/5ab20f1060420992a9b82a65b735dee4d81ef413-all.js"
                    },
                    {
                     "name": null,
                     "type": "css",
                     "url": "/assetserver/1cc0ed62837210b80a182cc3676512f895dab686-style.css"
                    },
                    {
                     "name": null,
                     "type": "css",
                     "url": "/assetserver/2eee816f616df3549d7044d45e744fbf8d42bfa1-bulma_confined.min.css"
                    }
                   ],
                   "type": "async_block"
                  },
                  "mount_callbacks": [
                   "function () {\n    var handler = (function (ko, koPunches) {\n    ko.punches.enableAll();\n    ko.bindingHandlers.numericValue = {\n        init: function(element, valueAccessor, allBindings, data, context) {\n            var stringified = ko.observable(ko.unwrap(valueAccessor()));\n            stringified.subscribe(function(value) {\n                var val = parseFloat(value);\n                if (!isNaN(val)) {\n                    valueAccessor()(val);\n                }\n            });\n            valueAccessor().subscribe(function(value) {\n                var str = JSON.stringify(value);\n                if ((str == \"0\") && ([\"-0\", \"-0.\"].indexOf(stringified()) >= 0))\n                     return;\n                 if ([\"null\", \"\"].indexOf(str) >= 0)\n                     return;\n                stringified(str);\n            });\n            ko.applyBindingsToNode(\n                element,\n                {\n                    value: stringified,\n                    valueUpdate: allBindings.get('valueUpdate'),\n                },\n                context,\n            );\n        }\n    };\n    var json_data = {\"loading\":WebIO.getval({\"name\":\"loading\",\"scope\":\"9265408616907984050\",\"id\":\"13207220549675278170\",\"type\":\"observable\"}),\"clicks\":WebIO.getval({\"name\":\"clicks\",\"scope\":\"9265408616907984050\",\"id\":\"11848683111808335726\",\"type\":\"observable\"})};\n    var self = this;\n    function AppViewModel() {\n        for (var key in json_data) {\n            var el = json_data[key];\n            this[key] = Array.isArray(el) ? ko.observableArray(el) : ko.observable(el);\n        }\n        \n        \n        [this[\"loading\"].subscribe((function (val){!(this.valueFromJulia[\"loading\"]) ? (WebIO.setval({\"name\":\"loading\",\"scope\":\"9265408616907984050\",\"id\":\"13207220549675278170\",\"type\":\"observable\"},val)) : undefined; return this.valueFromJulia[\"loading\"]=false}),self),this[\"clicks\"].subscribe((function (val){!(this.valueFromJulia[\"clicks\"]) ? (WebIO.setval({\"name\":\"clicks\",\"scope\":\"9265408616907984050\",\"id\":\"11848683111808335726\",\"type\":\"observable\"},val)) : undefined; return this.valueFromJulia[\"clicks\"]=false}),self)]\n        \n    }\n    self.model = new AppViewModel();\n    self.valueFromJulia = {};\n    for (var key in json_data) {\n        self.valueFromJulia[key] = false;\n    }\n    ko.applyBindings(self.model, self.dom);\n}\n);\n    (WebIO.importBlock({\"data\":[{\"name\":\"knockout\",\"type\":\"js\",\"url\":\"/assetserver/727383f2a47bd31570b7da84eee7b022dd6d7c78-knockout.js\"},{\"name\":\"knockout_punches\",\"type\":\"js\",\"url\":\"/assetserver/382b41b3b1bd9f26f75861d360bad7f8beea211f-knockout_punches.js\"}],\"type\":\"async_block\"})).then((imports) => handler.apply(this, imports));\n}\n"
                  ],
                  "observables": {
                   "clicks": {
                    "id": "11848683111808335726",
                    "sync": true,
                    "value": 0
                   },
                   "loading": {
                    "id": "13207220549675278170",
                    "sync": false,
                    "value": false
                   }
                  },
                  "systemjs_options": null
                 },
                 "nodeType": "Scope",
                 "props": {},
                 "type": "node"
                }
               ],
               "instanceArgs": {
                "namespace": "html",
                "tag": "div"
               },
               "nodeType": "DOM",
               "props": {
                "className": "field interact-widget"
               },
               "type": "node"
              }
             ],
             "instanceArgs": {
              "namespace": "html",
              "tag": "div"
             },
             "nodeType": "DOM",
             "props": {
              "style": {
               "display": "flex",
               "flex-direction": "row"
              }
             },
             "type": "node"
            }
           ],
           "instanceArgs": {
            "namespace": "html",
            "tag": "div"
           },
           "nodeType": "DOM",
           "props": {
            "style": {
             "display": "flex",
             "flex-direction": "column"
            }
           },
           "type": "node"
          },
          {
           "children": [
            {
             "children": [
              {
               "children": [],
               "instanceArgs": {
                "namespace": "html",
                "tag": "div"
               },
               "nodeType": "DOM",
               "props": {
                "id": "container"
               },
               "type": "node"
              }
             ],
             "instanceArgs": {
              "handlers": {
               "value": [
                "(function (txt){return this.k.render(txt,this.container)})"
               ]
              },
              "id": "11747508774643960410",
              "imports": {
               "data": [
                {
                 "name": null,
                 "type": "js",
                 "url": "/assetserver/dd22ed1bf1896c2748f3fe616ce0b838adc895c1-katex.min.js"
                },
                {
                 "name": null,
                 "type": "css",
                 "url": "/assetserver/46517a424aa5e6cffc1360d7e0848b601c584ee3-katex.min.css"
                }
               ],
               "type": "async_block"
              },
              "mount_callbacks": [
               "function () {\n    var handler = ((function (k){this.k=k; this.container=this.dom.querySelector(\"#container\"); return k.render(\"\\\\;\\\\;\",this.container)}));\n    (WebIO.importBlock({\"data\":[{\"name\":null,\"type\":\"js\",\"url\":\"/assetserver/dd22ed1bf1896c2748f3fe616ce0b838adc895c1-katex.min.js\"},{\"name\":null,\"type\":\"css\",\"url\":\"/assetserver/46517a424aa5e6cffc1360d7e0848b601c584ee3-katex.min.css\"}],\"type\":\"async_block\"})).then((imports) => handler.apply(this, imports));\n}\n"
              ],
              "observables": {
               "value": {
                "id": "138037137159223386",
                "sync": false,
                "value": "\\;\\;"
               }
              },
              "systemjs_options": null
             },
             "nodeType": "Scope",
             "props": {},
             "type": "node"
            }
           ],
           "instanceArgs": {
            "namespace": "html",
            "tag": "div"
           },
           "nodeType": "DOM",
           "props": {
            "className": "interact-widget"
           },
           "type": "node"
          },
          {
           "children": [
            {
             "children": [],
             "instanceArgs": {
              "namespace": "html",
              "tag": "div"
             },
             "nodeType": "DOM",
             "props": {
              "className": "webio-observable",
              "setInnerHtml": "<img src='data:image/png;base64,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'></img>"
             },
             "type": "node"
            }
           ],
           "instanceArgs": {
            "handlers": {
             "obs-output": [
              "function (value, scope) {\n    scope.setInnerHTML(value);\n}\n"
             ]
            },
            "id": "3225220179647238212",
            "imports": {
             "data": [],
             "type": "async_block"
            },
            "mount_callbacks": [],
            "observables": {
             "obs-output": {
              "id": "12608379295475766954",
              "sync": false,
              "value": "<img src='data:image/png;base64,iVBORw0KGgoAAAANSUhEUgAAAa4AAAGuCAIAAABHl3XNAAAABmJLR0QA/wD/AP+gvaeTAAAIxElEQVR4nO3dwXWjCBpG0VdzJgBCcAiEQAgKxaE4BWdCCIRQIZCBe6EzPbOqEdAWxr53re9IvfA71Sz4f318fATws/3r7B8AcD4pBJBCACkESAoBkkKApBAgKQRICgGSQoCkECApBEgKAZJCgOrfmz79trwtw7Lja8Z1rHZvp6ZhGHZs13WtbG1tT9zOzad043V8ffzz21K4DMv7y/vGn1TV76rd21u3l5eXPdPfvytbW9sTt0vndGMT/4MMIIUAUgiQFAIkhQBJIUBSCJAUAiSFAEkhQFIIkBQCJIUASSFAUgiQFAIkhQBtfYv1uI5b3w3732Gb3yv793Ztvb9Hd6v7i8htbW1P3I6d041Nn9+Wwqnp1m3T5G5trY5sgYu6RDe2pXAYhsvdVbC1tf2x28d5VggghQBSCJAUAiSFAEkhQFIIkBQCJIUASSFAUgiQFAIkhQBJIUBSCJAUAiSFANWvj4+Pxz+9LMswDDu+5n4bwdbW1vZp23HccN7EvwoB3DaxtbX9vtvH+VchgBQCSCFAUgiQFAIkhQBJIUBSCJAUAiSFAEkhQFIIkBQCJIUASSFAUgiQFALktomtre133W66bbLthf7AuebmpWXHcGysTtlOTTuGT+a2ia3tlbZLy/vL+45tv6tO2d66uW0CcAFSCCCFAFIIkBQCJIUASSFAUgiQFAIkhQBJIUBSCJAUAiSFAEkhQFIIkBQC5LaJre21tnPzMux6sf46Vqdspya3TYB/0tR067ZjuLZWZ22/PrdNbG1tv+32cZ4VAkghgBQCJIUASSFAUgiQFAIkhQBJIUBSCJAUAiSFAEkhQFIIkBQCJIUASSFAbpvY2tp+1+0n3jaZm5d2nXpprHZvp6YdQ+DqjjTnnp0HbUvhMizvL+8bf1JVv6t2b2/drnhXwdbW9uB26VBzHudZIYAUAkghQFIIkBQCJIUASSFAUgiQFAIkhQBJIUBSCJAUAiSFAEkhQFIIkBQCtPW2ydvytgy7Xq69jtXu7dR0ubsKtra2x7dz8+5uvI6vj39+2wv9j5iabt12DNfWf/zHAPyv5902cZ/E1tZ269ZtE4DnkUIAKQSQQoCkECApBEgKAZJCgKQQICkESAoBkkKApBAgKQRICgGSQoCkEKBn3jZxn8TW1nbr9oveNnGfBM41Ny/tSkNjtXs7Ne0Y3h38zc+xLYXDMFzuNoKt7XfaHrz1ccptorN+8yaeFQJIIYAUAiSFAEkhQFIIkBQCJIUASSFAUgiQFAIkhQBJIUBSCJAUAiSFAEkhQFvfYr2u6/0dvFvd7xvY2toe3I6NW9/PfDeuY21+t/Pf27X9f/tn/eZNn9+WQuBcR+4Lzc27v/es+yRPu6fktomt7U/Znnhj5JSbKps+71khgBQCSCFAUgiQFAIkhQBJIUBSCJAUAiSFAEkhQFIIkBQCJIUASSFAUgiQFAJUvz4+Ph7/9LIswzDs+Jr7PQdbW9sTt3PzMux6Kf86Vqdsp6bd/73juOGWgNsm8FOcdRflafdJjnDbxNbW9v9vj9xFOXifxG0TgCeRQgApBJBCgKQQICkESAoBkkKApBAgKQRICgGSQoCkECApBEgKAZJCgKQQILdNbG1tH9keuYty5D5JB36z2ybAP+wS90mOcNvE1tb2224f51khgBQCSCFAUgiQFAIkhQBJIUBSCJAUAiSFAEkhQFIIkBQCJIUASSFAUgiQFALktomtre133X7ibZO5eWnXqZfGqWnHEOAJtqVwGZb3l/c93/O7W7cr3kawtbW97vZxnhUCSCGAFAIkhQBJIUBSCJAUAiSFAEkhQFIIkBQCJIUASSFAUgiQFAIkhQBJIUBbb5u8LW/LsOuF/us4NV3uNoKtre11t5942+QId1GAL+t5t00qd1FsbW2fuX2cZ4UAUggghQBJIUBSCJAUAiSFAEkhQFIIkBQCJIUASSFAUgiQFAIkhQBJIUBSCNAzb5tU7qLY2to+bfuJt02mplu3jT+pam2dm3cM79xFgZ/pyN/+2KelcBiG3XcGltxFsbW13bY92I3HeVYIIIUAUgiQFAIkhQBJIUBSCJAUAiSFAEkhQFIIkBQCJIUASSFAUgiQFAIkhQBtvW2yLMvuOwNzs7sotra2m7ZHuvE6vj7++W0v9D/CXRRgqyPd2PT559026bz7Bu6i2Nr+zO3jPCsEkEIAKQRICgGSQoCkECApBEgKAZJCgKQQICkESAoBkkKApBAgKQRICgGSQoCeedukk+4b5C6Kre2P3I7j+Pjnn3fb5Ah3UYBPdY3bJke27qLY2v7Y7eM8KwSQQgApBEgKAZJCgKQQICkESAoBkkKApBAgKQRICgGSQoCkECApBEgKAZJCgK5y2+TI1l0UW9ufuf2it02O3Ampjmx3O3JT5cj3Ak/2vNsmZ90YObJ1n8TW9tLbx3lWCCCFAFIIkBQCJIUASSFAUgiQFAIkhQBJIUBSCJAUAiSFAEkhQFIIkBQCJIUAPfO2yVk3Ro5s3Sextb3u9hNvmxy8T7LbwRsj7pMAf7Ythctwzn0SN0ZsbW13bB/nWSGAFAJIIUBSCJAUAiSFAEkhQFIIkBQCJIUASSFAUgiQFAIkhQBJIUBSCJAUArT1tsnb8ubGiK2t7SW2n3jb5MiNkbl5x/DuyE2VqWn39wLHHbyJtHu76aTSthQOw7D7zsCSuyi2tj9xe9bf/iaeFQJIIYAUAiSFAEkhQFIIkBQCJIUASSFAUgiQFAIkhQBJIUBSCJAUAiSFAEkhQFvfYr2u6/19tlut6zo2bn2v7N39Lsru7dr+39x/3t9ra2t7ub/9TZ/3r0IAt03+ML3mHQlb26+2ddsE4BqkEEAKAaQQICkESAoBkkKApBAgKQRICgGSQoCkECApBEgKAZJCgKQQICkEyG2TP7joHQlb26+2vcRtk18fHx97vgfgG/E/yABSCCCFAEkhQFIIkBQCJIUASSFAUgiQFAIkhQBJIUBSCJAUAlR/AcK0ZoSWOAFLAAAAAElFTkSuQmCC'></img>"
             }
            },
            "systemjs_options": null
           },
           "nodeType": "Scope",
           "props": {},
           "type": "node"
          },
          {
           "children": [
            {
             "children": [
              {
               "children": [],
               "instanceArgs": {
                "namespace": "html",
                "tag": "div"
               },
               "nodeType": "DOM",
               "props": {
                "id": "container"
               },
               "type": "node"
              }
             ],
             "instanceArgs": {
              "handlers": {
               "value": [
                "(function (txt){return this.k.render(txt,this.container)})"
               ]
              },
              "id": "11747508774643960410",
              "imports": {
               "data": [
                {
                 "name": null,
                 "type": "js",
                 "url": "/assetserver/dd22ed1bf1896c2748f3fe616ce0b838adc895c1-katex.min.js"
                },
                {
                 "name": null,
                 "type": "css",
                 "url": "/assetserver/46517a424aa5e6cffc1360d7e0848b601c584ee3-katex.min.css"
                }
               ],
               "type": "async_block"
              },
              "mount_callbacks": [
               "function () {\n    var handler = ((function (k){this.k=k; this.container=this.dom.querySelector(\"#container\"); return k.render(\"\\\\;\\\\;\",this.container)}));\n    (WebIO.importBlock({\"data\":[{\"name\":null,\"type\":\"js\",\"url\":\"/assetserver/dd22ed1bf1896c2748f3fe616ce0b838adc895c1-katex.min.js\"},{\"name\":null,\"type\":\"css\",\"url\":\"/assetserver/46517a424aa5e6cffc1360d7e0848b601c584ee3-katex.min.css\"}],\"type\":\"async_block\"})).then((imports) => handler.apply(this, imports));\n}\n"
              ],
              "observables": {
               "value": {
                "id": "138037137159223386",
                "sync": false,
                "value": "\\;\\;"
               }
              },
              "systemjs_options": null
             },
             "nodeType": "Scope",
             "props": {},
             "type": "node"
            }
           ],
           "instanceArgs": {
            "namespace": "html",
            "tag": "div"
           },
           "nodeType": "DOM",
           "props": {
            "className": "interact-widget"
           },
           "type": "node"
          },
          {
           "children": [],
           "instanceArgs": {
            "namespace": "html",
            "tag": "div"
           },
           "nodeType": "DOM",
           "props": {
            "style": {
             "display": "flex",
             "flex-direction": "column"
            }
           },
           "type": "node"
          }
         ],
         "instanceArgs": {
          "namespace": "html",
          "tag": "div"
         },
         "nodeType": "DOM",
         "props": {
          "style": {
           "display": "flex",
           "flex-direction": "row"
          }
         },
         "type": "node"
        }
       ],
       "instanceArgs": {
        "namespace": "html",
        "tag": "div"
       },
       "nodeType": "DOM",
       "props": {
        "style": {
         "display": "flex",
         "flex-direction": "column"
        }
       },
       "type": "node"
      },
      "text/html": [
       "<div\n",
       "    class=\"webio-mountpoint\"\n",
       "    data-webio-mountpoint=\"1739974468897437673\"\n",
       ">\n",
       "    <script>\n",
       "    (function(){\n",
       "    // Some integrations (namely, IJulia/Jupyter) use an alternate render pathway than\n",
       "    // just putting the html on the page. If WebIO isn't defined, then it's pretty likely\n",
       "    // that we're in one of those situations and the integration just isn't installed\n",
       "    // correctly.\n",
       "    if (typeof window.WebIO === \"undefined\") {\n",
       "        document\n",
       "            .querySelector('[data-webio-mountpoint=\"1739974468897437673\"]')\n",
       "            .innerHTML = (\n",
       "                '<div style=\"padding: 1em; background-color: #f8d6da; border: 1px solid #f5c6cb; font-weight: bold;\">' +\n",
       "                '<p><strong>WebIO not detected.</strong></p>' +\n",
       "                '<p>Please read ' +\n",
       "                '<a href=\"https://juliagizmos.github.io/WebIO.jl/latest/troubleshooting/not-detected/\" target=\"_blank\">the troubleshooting guide</a> ' +\n",
       "                'for more information on how to resolve this issue.</p>' +\n",
       "                '<p><a href=\"https://juliagizmos.github.io/WebIO.jl/latest/troubleshooting/not-detected/\" target=\"_blank\">https://juliagizmos.github.io/WebIO.jl/latest/troubleshooting/not-detected/</a></p>' +\n",
       "                '</div>'\n",
       "            );\n",
       "        return;\n",
       "    }\n",
       "    WebIO.mount(\n",
       "        document.querySelector('[data-webio-mountpoint=\"1739974468897437673\"]'),\n",
       "        {\"props\":{\"style\":{\"display\":\"flex\",\"flex-direction\":\"column\"}},\"nodeType\":\"DOM\",\"type\":\"node\",\"instanceArgs\":{\"namespace\":\"html\",\"tag\":\"div\"},\"children\":[{\"props\":{\"style\":{\"display\":\"flex\",\"flex-direction\":\"row\"}},\"nodeType\":\"DOM\",\"type\":\"node\",\"instanceArgs\":{\"namespace\":\"html\",\"tag\":\"div\"},\"children\":[{\"props\":{\"style\":{\"display\":\"flex\",\"flex-direction\":\"column\"}},\"nodeType\":\"DOM\",\"type\":\"node\",\"instanceArgs\":{\"namespace\":\"html\",\"tag\":\"div\"},\"children\":[{\"props\":{\"className\":\"field interact-widget\"},\"nodeType\":\"DOM\",\"type\":\"node\",\"instanceArgs\":{\"namespace\":\"html\",\"tag\":\"div\"},\"children\":[{\"props\":{},\"nodeType\":\"Scope\",\"type\":\"node\",\"instanceArgs\":{\"imports\":{\"data\":[{\"name\":\"knockout\",\"type\":\"js\",\"url\":\"\\/assetserver\\/727383f2a47bd31570b7da84eee7b022dd6d7c78-knockout.js\"},{\"name\":\"knockout_punches\",\"type\":\"js\",\"url\":\"\\/assetserver\\/382b41b3b1bd9f26f75861d360bad7f8beea211f-knockout_punches.js\"},{\"name\":null,\"type\":\"js\",\"url\":\"\\/assetserver\\/5ab20f1060420992a9b82a65b735dee4d81ef413-all.js\"},{\"name\":null,\"type\":\"css\",\"url\":\"\\/assetserver\\/1cc0ed62837210b80a182cc3676512f895dab686-style.css\"},{\"name\":null,\"type\":\"css\",\"url\":\"\\/assetserver\\/2eee816f616df3549d7044d45e744fbf8d42bfa1-bulma_confined.min.css\"}],\"type\":\"async_block\"},\"id\":\"8835275317108146432\",\"handlers\":{\"changes\":[\"(function (val){return (val!=this.model[\\\"changes\\\"]()) ? (this.valueFromJulia[\\\"changes\\\"]=true, this.model[\\\"changes\\\"](val)) : undefined})\"],\"index\":[\"(function (val){return (val!=this.model[\\\"index\\\"]()) ? (this.valueFromJulia[\\\"index\\\"]=true, this.model[\\\"index\\\"](val)) : undefined})\"]},\"systemjs_options\":null,\"mount_callbacks\":[\"function () {\\n    var handler = (function (ko, koPunches) {\\n    ko.punches.enableAll();\\n    ko.bindingHandlers.numericValue = {\\n        init: function(element, valueAccessor, allBindings, data, context) {\\n            var stringified = ko.observable(ko.unwrap(valueAccessor()));\\n            stringified.subscribe(function(value) {\\n                var val = parseFloat(value);\\n                if (!isNaN(val)) {\\n                    valueAccessor()(val);\\n                }\\n            });\\n            valueAccessor().subscribe(function(value) {\\n                var str = JSON.stringify(value);\\n                if ((str == \\\"0\\\") && ([\\\"-0\\\", \\\"-0.\\\"].indexOf(stringified()) >= 0))\\n                     return;\\n                 if ([\\\"null\\\", \\\"\\\"].indexOf(str) >= 0)\\n                     return;\\n                stringified(str);\\n            });\\n            ko.applyBindingsToNode(\\n                element,\\n                {\\n                    value: stringified,\\n                    valueUpdate: allBindings.get('valueUpdate'),\\n                },\\n                context,\\n            );\\n        }\\n    };\\n    var json_data = {\\\"formatted_vals\\\":[\\\"1\\\",\\\"2\\\",\\\"3\\\",\\\"4\\\",\\\"5\\\",\\\"6\\\",\\\"7\\\",\\\"8\\\",\\\"9\\\",\\\"10\\\",\\\"11\\\",\\\"12\\\",\\\"13\\\",\\\"14\\\",\\\"15\\\",\\\"16\\\",\\\"17\\\",\\\"18\\\",\\\"19\\\",\\\"20\\\",\\\"21\\\",\\\"22\\\",\\\"23\\\",\\\"24\\\",\\\"25\\\",\\\"26\\\",\\\"27\\\",\\\"28\\\",\\\"29\\\",\\\"30\\\",\\\"31\\\",\\\"32\\\",\\\"33\\\",\\\"34\\\",\\\"35\\\",\\\"36\\\",\\\"37\\\",\\\"38\\\",\\\"39\\\",\\\"40\\\",\\\"41\\\",\\\"42\\\",\\\"43\\\",\\\"44\\\",\\\"45\\\",\\\"46\\\",\\\"47\\\",\\\"48\\\",\\\"49\\\",\\\"50\\\",\\\"51\\\",\\\"52\\\",\\\"53\\\",\\\"54\\\",\\\"55\\\",\\\"56\\\",\\\"57\\\",\\\"58\\\",\\\"59\\\",\\\"60\\\",\\\"61\\\",\\\"62\\\",\\\"63\\\",\\\"64\\\",\\\"65\\\",\\\"66\\\",\\\"67\\\",\\\"68\\\",\\\"69\\\",\\\"70\\\",\\\"71\\\",\\\"72\\\",\\\"73\\\",\\\"74\\\",\\\"75\\\",\\\"76\\\",\\\"77\\\",\\\"78\\\",\\\"79\\\",\\\"80\\\",\\\"81\\\",\\\"82\\\",\\\"83\\\",\\\"84\\\",\\\"85\\\",\\\"86\\\",\\\"87\\\",\\\"88\\\",\\\"89\\\",\\\"90\\\",\\\"91\\\",\\\"92\\\",\\\"93\\\",\\\"94\\\",\\\"95\\\",\\\"96\\\",\\\"97\\\",\\\"98\\\",\\\"99\\\",\\\"100\\\",\\\"101\\\"],\\\"changes\\\":WebIO.getval({\\\"name\\\":\\\"changes\\\",\\\"scope\\\":\\\"8835275317108146432\\\",\\\"id\\\":\\\"14722837102688461182\\\",\\\"type\\\":\\\"observable\\\"}),\\\"index\\\":WebIO.getval({\\\"name\\\":\\\"index\\\",\\\"scope\\\":\\\"8835275317108146432\\\",\\\"id\\\":\\\"12641080691164456648\\\",\\\"type\\\":\\\"observable\\\"})};\\n    var self = this;\\n    function AppViewModel() {\\n        for (var key in json_data) {\\n            var el = json_data[key];\\n            this[key] = Array.isArray(el) ? ko.observableArray(el) : ko.observable(el);\\n        }\\n        \\n        [this[\\\"formatted_val\\\"]=ko.computed(    function(){\\n        return this.formatted_vals()[parseInt(this.index())-(1)];\\n    }\\n,this)]\\n        [this[\\\"changes\\\"].subscribe((function (val){!(this.valueFromJulia[\\\"changes\\\"]) ? (WebIO.setval({\\\"name\\\":\\\"changes\\\",\\\"scope\\\":\\\"8835275317108146432\\\",\\\"id\\\":\\\"14722837102688461182\\\",\\\"type\\\":\\\"observable\\\"},val)) : undefined; return this.valueFromJulia[\\\"changes\\\"]=false}),self),this[\\\"index\\\"].subscribe((function (val){!(this.valueFromJulia[\\\"index\\\"]) ? (WebIO.setval({\\\"name\\\":\\\"index\\\",\\\"scope\\\":\\\"8835275317108146432\\\",\\\"id\\\":\\\"12641080691164456648\\\",\\\"type\\\":\\\"observable\\\"},val)) : undefined; return this.valueFromJulia[\\\"index\\\"]=false}),self)]\\n        \\n    }\\n    self.model = new AppViewModel();\\n    self.valueFromJulia = {};\\n    for (var key in json_data) {\\n        self.valueFromJulia[key] = false;\\n    }\\n    ko.applyBindings(self.model, self.dom);\\n}\\n);\\n    (WebIO.importBlock({\\\"data\\\":[{\\\"name\\\":\\\"knockout\\\",\\\"type\\\":\\\"js\\\",\\\"url\\\":\\\"\\/assetserver\\/727383f2a47bd31570b7da84eee7b022dd6d7c78-knockout.js\\\"},{\\\"name\\\":\\\"knockout_punches\\\",\\\"type\\\":\\\"js\\\",\\\"url\\\":\\\"\\/assetserver\\/382b41b3b1bd9f26f75861d360bad7f8beea211f-knockout_punches.js\\\"}],\\\"type\\\":\\\"async_block\\\"})).then((imports) => handler.apply(this, imports));\\n}\\n\"],\"observables\":{\"changes\":{\"sync\":false,\"id\":\"14722837102688461182\",\"value\":0},\"index\":{\"sync\":true,\"id\":\"12641080691164456648\",\"value\":51}}},\"children\":[{\"props\":{\"className\":\"interact-flex-row interact-widget\"},\"nodeType\":\"DOM\",\"type\":\"node\",\"instanceArgs\":{\"namespace\":\"html\",\"tag\":\"div\"},\"children\":[{\"props\":{\"className\":\"interact-flex-row-left\"},\"nodeType\":\"DOM\",\"type\":\"node\",\"instanceArgs\":{\"namespace\":\"html\",\"tag\":\"div\"},\"children\":[{\"props\":{\"className\":\"interact \",\"style\":{\"padding\":\"5px 10px 0px 10px\"}},\"nodeType\":\"DOM\",\"type\":\"node\",\"instanceArgs\":{\"namespace\":\"html\",\"tag\":\"label\"},\"children\":[\"time\"]}]},{\"props\":{\"className\":\"interact-flex-row-center\"},\"nodeType\":\"DOM\",\"type\":\"node\",\"instanceArgs\":{\"namespace\":\"html\",\"tag\":\"div\"},\"children\":[{\"props\":{\"max\":101,\"min\":1,\"attributes\":{\"type\":\"range\",\"data-bind\":\"numericValue: index, valueUpdate: 'input', event: {change: function (){this.changes(this.changes()+1)}}\",\"orient\":\"horizontal\"},\"step\":1,\"className\":\"slider slider is-fullwidth\",\"style\":{}},\"nodeType\":\"DOM\",\"type\":\"node\",\"instanceArgs\":{\"namespace\":\"html\",\"tag\":\"input\"},\"children\":[]}]},{\"props\":{\"className\":\"interact-flex-row-right\"},\"nodeType\":\"DOM\",\"type\":\"node\",\"instanceArgs\":{\"namespace\":\"html\",\"tag\":\"div\"},\"children\":[{\"props\":{\"attributes\":{\"data-bind\":\"text: formatted_val\"}},\"nodeType\":\"DOM\",\"type\":\"node\",\"instanceArgs\":{\"namespace\":\"html\",\"tag\":\"p\"},\"children\":[]}]}]}]}]},{\"props\":{\"className\":\"field interact-widget\"},\"nodeType\":\"DOM\",\"type\":\"node\",\"instanceArgs\":{\"namespace\":\"html\",\"tag\":\"div\"},\"children\":[{\"props\":{},\"nodeType\":\"Scope\",\"type\":\"node\",\"instanceArgs\":{\"imports\":{\"data\":[{\"name\":\"knockout\",\"type\":\"js\",\"url\":\"\\/assetserver\\/727383f2a47bd31570b7da84eee7b022dd6d7c78-knockout.js\"},{\"name\":\"knockout_punches\",\"type\":\"js\",\"url\":\"\\/assetserver\\/382b41b3b1bd9f26f75861d360bad7f8beea211f-knockout_punches.js\"},{\"name\":null,\"type\":\"js\",\"url\":\"\\/assetserver\\/5ab20f1060420992a9b82a65b735dee4d81ef413-all.js\"},{\"name\":null,\"type\":\"css\",\"url\":\"\\/assetserver\\/1cc0ed62837210b80a182cc3676512f895dab686-style.css\"},{\"name\":null,\"type\":\"css\",\"url\":\"\\/assetserver\\/2eee816f616df3549d7044d45e744fbf8d42bfa1-bulma_confined.min.css\"}],\"type\":\"async_block\"},\"id\":\"11553010555561663587\",\"handlers\":{\"changes\":[\"(function (val){return (val!=this.model[\\\"changes\\\"]()) ? (this.valueFromJulia[\\\"changes\\\"]=true, this.model[\\\"changes\\\"](val)) : undefined})\"],\"index\":[\"(function (val){return (val!=this.model[\\\"index\\\"]()) ? (this.valueFromJulia[\\\"index\\\"]=true, this.model[\\\"index\\\"](val)) : undefined})\"]},\"systemjs_options\":null,\"mount_callbacks\":[\"function () {\\n    var handler = (function (ko, koPunches) {\\n    ko.punches.enableAll();\\n    ko.bindingHandlers.numericValue = {\\n        init: function(element, valueAccessor, allBindings, data, context) {\\n            var stringified = ko.observable(ko.unwrap(valueAccessor()));\\n            stringified.subscribe(function(value) {\\n                var val = parseFloat(value);\\n                if (!isNaN(val)) {\\n                    valueAccessor()(val);\\n                }\\n            });\\n            valueAccessor().subscribe(function(value) {\\n                var str = JSON.stringify(value);\\n                if ((str == \\\"0\\\") && ([\\\"-0\\\", \\\"-0.\\\"].indexOf(stringified()) >= 0))\\n                     return;\\n                 if ([\\\"null\\\", \\\"\\\"].indexOf(str) >= 0)\\n                     return;\\n                stringified(str);\\n            });\\n            ko.applyBindingsToNode(\\n                element,\\n                {\\n                    value: stringified,\\n                    valueUpdate: allBindings.get('valueUpdate'),\\n                },\\n                context,\\n            );\\n        }\\n    };\\n    var json_data = {\\\"formatted_vals\\\":[\\\"0.1\\\",\\\"0.2\\\",\\\"0.3\\\",\\\"0.4\\\",\\\"0.5\\\",\\\"0.6\\\",\\\"0.7\\\",\\\"0.8\\\",\\\"0.9\\\",\\\"1.0\\\",\\\"1.1\\\",\\\"1.2\\\",\\\"1.3\\\",\\\"1.4\\\",\\\"1.5\\\",\\\"1.6\\\",\\\"1.7\\\",\\\"1.8\\\",\\\"1.9\\\",\\\"2.0\\\"],\\\"changes\\\":WebIO.getval({\\\"name\\\":\\\"changes\\\",\\\"scope\\\":\\\"11553010555561663587\\\",\\\"id\\\":\\\"11169293875387547182\\\",\\\"type\\\":\\\"observable\\\"}),\\\"index\\\":WebIO.getval({\\\"name\\\":\\\"index\\\",\\\"scope\\\":\\\"11553010555561663587\\\",\\\"id\\\":\\\"432459323161294713\\\",\\\"type\\\":\\\"observable\\\"})};\\n    var self = this;\\n    function AppViewModel() {\\n        for (var key in json_data) {\\n            var el = json_data[key];\\n            this[key] = Array.isArray(el) ? ko.observableArray(el) : ko.observable(el);\\n        }\\n        \\n        [this[\\\"formatted_val\\\"]=ko.computed(    function(){\\n        return this.formatted_vals()[parseInt(this.index())-(1)];\\n    }\\n,this)]\\n        [this[\\\"changes\\\"].subscribe((function (val){!(this.valueFromJulia[\\\"changes\\\"]) ? (WebIO.setval({\\\"name\\\":\\\"changes\\\",\\\"scope\\\":\\\"11553010555561663587\\\",\\\"id\\\":\\\"11169293875387547182\\\",\\\"type\\\":\\\"observable\\\"},val)) : undefined; return this.valueFromJulia[\\\"changes\\\"]=false}),self),this[\\\"index\\\"].subscribe((function (val){!(this.valueFromJulia[\\\"index\\\"]) ? (WebIO.setval({\\\"name\\\":\\\"index\\\",\\\"scope\\\":\\\"11553010555561663587\\\",\\\"id\\\":\\\"432459323161294713\\\",\\\"type\\\":\\\"observable\\\"},val)) : undefined; return this.valueFromJulia[\\\"index\\\"]=false}),self)]\\n        \\n    }\\n    self.model = new AppViewModel();\\n    self.valueFromJulia = {};\\n    for (var key in json_data) {\\n        self.valueFromJulia[key] = false;\\n    }\\n    ko.applyBindings(self.model, self.dom);\\n}\\n);\\n    (WebIO.importBlock({\\\"data\\\":[{\\\"name\\\":\\\"knockout\\\",\\\"type\\\":\\\"js\\\",\\\"url\\\":\\\"\\/assetserver\\/727383f2a47bd31570b7da84eee7b022dd6d7c78-knockout.js\\\"},{\\\"name\\\":\\\"knockout_punches\\\",\\\"type\\\":\\\"js\\\",\\\"url\\\":\\\"\\/assetserver\\/382b41b3b1bd9f26f75861d360bad7f8beea211f-knockout_punches.js\\\"}],\\\"type\\\":\\\"async_block\\\"})).then((imports) => handler.apply(this, imports));\\n}\\n\"],\"observables\":{\"changes\":{\"sync\":false,\"id\":\"11169293875387547182\",\"value\":0},\"index\":{\"sync\":true,\"id\":\"432459323161294713\",\"value\":10}}},\"children\":[{\"props\":{\"className\":\"interact-flex-row interact-widget\"},\"nodeType\":\"DOM\",\"type\":\"node\",\"instanceArgs\":{\"namespace\":\"html\",\"tag\":\"div\"},\"children\":[{\"props\":{\"className\":\"interact-flex-row-left\"},\"nodeType\":\"DOM\",\"type\":\"node\",\"instanceArgs\":{\"namespace\":\"html\",\"tag\":\"div\"},\"children\":[{\"props\":{\"className\":\"interact \",\"style\":{\"padding\":\"5px 10px 0px 10px\"}},\"nodeType\":\"DOM\",\"type\":\"node\",\"instanceArgs\":{\"namespace\":\"html\",\"tag\":\"label\"},\"children\":[\"scale\"]}]},{\"props\":{\"className\":\"interact-flex-row-center\"},\"nodeType\":\"DOM\",\"type\":\"node\",\"instanceArgs\":{\"namespace\":\"html\",\"tag\":\"div\"},\"children\":[{\"props\":{\"max\":20,\"min\":1,\"attributes\":{\"type\":\"range\",\"data-bind\":\"numericValue: index, valueUpdate: 'input', event: {change: function (){this.changes(this.changes()+1)}}\",\"orient\":\"horizontal\"},\"step\":1,\"className\":\"slider slider is-fullwidth\",\"style\":{}},\"nodeType\":\"DOM\",\"type\":\"node\",\"instanceArgs\":{\"namespace\":\"html\",\"tag\":\"input\"},\"children\":[]}]},{\"props\":{\"className\":\"interact-flex-row-right\"},\"nodeType\":\"DOM\",\"type\":\"node\",\"instanceArgs\":{\"namespace\":\"html\",\"tag\":\"div\"},\"children\":[{\"props\":{\"attributes\":{\"data-bind\":\"text: formatted_val\"}},\"nodeType\":\"DOM\",\"type\":\"node\",\"instanceArgs\":{\"namespace\":\"html\",\"tag\":\"p\"},\"children\":[]}]}]}]}]},{\"props\":{\"style\":{\"display\":\"flex\",\"flex-direction\":\"row\"}},\"nodeType\":\"DOM\",\"type\":\"node\",\"instanceArgs\":{\"namespace\":\"html\",\"tag\":\"div\"},\"children\":[{\"props\":{\"className\":\"interact-widget\"},\"nodeType\":\"DOM\",\"type\":\"node\",\"instanceArgs\":{\"namespace\":\"html\",\"tag\":\"div\"},\"children\":[{\"props\":{},\"nodeType\":\"Scope\",\"type\":\"node\",\"instanceArgs\":{\"imports\":{\"data\":[{\"name\":null,\"type\":\"js\",\"url\":\"\\/assetserver\\/dd22ed1bf1896c2748f3fe616ce0b838adc895c1-katex.min.js\"},{\"name\":null,\"type\":\"css\",\"url\":\"\\/assetserver\\/46517a424aa5e6cffc1360d7e0848b601c584ee3-katex.min.css\"}],\"type\":\"async_block\"},\"id\":\"11747508774643960410\",\"handlers\":{\"value\":[\"(function (txt){return this.k.render(txt,this.container)})\"]},\"systemjs_options\":null,\"mount_callbacks\":[\"function () {\\n    var handler = ((function (k){this.k=k; this.container=this.dom.querySelector(\\\"#container\\\"); return k.render(\\\"\\\\\\\\;\\\\\\\\;\\\",this.container)}));\\n    (WebIO.importBlock({\\\"data\\\":[{\\\"name\\\":null,\\\"type\\\":\\\"js\\\",\\\"url\\\":\\\"\\/assetserver\\/dd22ed1bf1896c2748f3fe616ce0b838adc895c1-katex.min.js\\\"},{\\\"name\\\":null,\\\"type\\\":\\\"css\\\",\\\"url\\\":\\\"\\/assetserver\\/46517a424aa5e6cffc1360d7e0848b601c584ee3-katex.min.css\\\"}],\\\"type\\\":\\\"async_block\\\"})).then((imports) => handler.apply(this, imports));\\n}\\n\"],\"observables\":{\"value\":{\"sync\":false,\"id\":\"138037137159223386\",\"value\":\"\\\\;\\\\;\"}}},\"children\":[{\"props\":{\"id\":\"container\"},\"nodeType\":\"DOM\",\"type\":\"node\",\"instanceArgs\":{\"namespace\":\"html\",\"tag\":\"div\"},\"children\":[]}]}]},{\"props\":{\"className\":\"field interact-widget\"},\"nodeType\":\"DOM\",\"type\":\"node\",\"instanceArgs\":{\"namespace\":\"html\",\"tag\":\"div\"},\"children\":[{\"props\":{},\"nodeType\":\"Scope\",\"type\":\"node\",\"instanceArgs\":{\"imports\":{\"data\":[{\"name\":\"knockout\",\"type\":\"js\",\"url\":\"\\/assetserver\\/727383f2a47bd31570b7da84eee7b022dd6d7c78-knockout.js\"},{\"name\":\"knockout_punches\",\"type\":\"js\",\"url\":\"\\/assetserver\\/382b41b3b1bd9f26f75861d360bad7f8beea211f-knockout_punches.js\"},{\"name\":null,\"type\":\"js\",\"url\":\"\\/assetserver\\/5ab20f1060420992a9b82a65b735dee4d81ef413-all.js\"},{\"name\":null,\"type\":\"css\",\"url\":\"\\/assetserver\\/1cc0ed62837210b80a182cc3676512f895dab686-style.css\"},{\"name\":null,\"type\":\"css\",\"url\":\"\\/assetserver\\/2eee816f616df3549d7044d45e744fbf8d42bfa1-bulma_confined.min.css\"}],\"type\":\"async_block\"},\"id\":\"12155287748704894298\",\"handlers\":{\"loading\":[\"(function (val){return (val!=this.model[\\\"loading\\\"]()) ? (this.valueFromJulia[\\\"loading\\\"]=true, this.model[\\\"loading\\\"](val)) : undefined})\"],\"clicks\":[\"(function (val){return (val!=this.model[\\\"clicks\\\"]()) ? (this.valueFromJulia[\\\"clicks\\\"]=true, this.model[\\\"clicks\\\"](val)) : undefined})\"]},\"systemjs_options\":null,\"mount_callbacks\":[\"function () {\\n    var handler = (function (ko, koPunches) {\\n    ko.punches.enableAll();\\n    ko.bindingHandlers.numericValue = {\\n        init: function(element, valueAccessor, allBindings, data, context) {\\n            var stringified = ko.observable(ko.unwrap(valueAccessor()));\\n            stringified.subscribe(function(value) {\\n                var val = parseFloat(value);\\n                if (!isNaN(val)) {\\n                    valueAccessor()(val);\\n                }\\n            });\\n            valueAccessor().subscribe(function(value) {\\n                var str = JSON.stringify(value);\\n                if ((str == \\\"0\\\") && ([\\\"-0\\\", \\\"-0.\\\"].indexOf(stringified()) >= 0))\\n                     return;\\n                 if ([\\\"null\\\", \\\"\\\"].indexOf(str) >= 0)\\n                     return;\\n                stringified(str);\\n            });\\n            ko.applyBindingsToNode(\\n                element,\\n                {\\n                    value: stringified,\\n                    valueUpdate: allBindings.get('valueUpdate'),\\n                },\\n                context,\\n            );\\n        }\\n    };\\n    var json_data = {\\\"loading\\\":WebIO.getval({\\\"name\\\":\\\"loading\\\",\\\"scope\\\":\\\"12155287748704894298\\\",\\\"id\\\":\\\"17681882914295651126\\\",\\\"type\\\":\\\"observable\\\"}),\\\"clicks\\\":WebIO.getval({\\\"name\\\":\\\"clicks\\\",\\\"scope\\\":\\\"12155287748704894298\\\",\\\"id\\\":\\\"12285493452989962445\\\",\\\"type\\\":\\\"observable\\\"})};\\n    var self = this;\\n    function AppViewModel() {\\n        for (var key in json_data) {\\n            var el = json_data[key];\\n            this[key] = Array.isArray(el) ? ko.observableArray(el) : ko.observable(el);\\n        }\\n        \\n        \\n        [this[\\\"loading\\\"].subscribe((function (val){!(this.valueFromJulia[\\\"loading\\\"]) ? (WebIO.setval({\\\"name\\\":\\\"loading\\\",\\\"scope\\\":\\\"12155287748704894298\\\",\\\"id\\\":\\\"17681882914295651126\\\",\\\"type\\\":\\\"observable\\\"},val)) : undefined; return this.valueFromJulia[\\\"loading\\\"]=false}),self),this[\\\"clicks\\\"].subscribe((function (val){!(this.valueFromJulia[\\\"clicks\\\"]) ? (WebIO.setval({\\\"name\\\":\\\"clicks\\\",\\\"scope\\\":\\\"12155287748704894298\\\",\\\"id\\\":\\\"12285493452989962445\\\",\\\"type\\\":\\\"observable\\\"},val)) : undefined; return this.valueFromJulia[\\\"clicks\\\"]=false}),self)]\\n        \\n    }\\n    self.model = new AppViewModel();\\n    self.valueFromJulia = {};\\n    for (var key in json_data) {\\n        self.valueFromJulia[key] = false;\\n    }\\n    ko.applyBindings(self.model, self.dom);\\n}\\n);\\n    (WebIO.importBlock({\\\"data\\\":[{\\\"name\\\":\\\"knockout\\\",\\\"type\\\":\\\"js\\\",\\\"url\\\":\\\"\\/assetserver\\/727383f2a47bd31570b7da84eee7b022dd6d7c78-knockout.js\\\"},{\\\"name\\\":\\\"knockout_punches\\\",\\\"type\\\":\\\"js\\\",\\\"url\\\":\\\"\\/assetserver\\/382b41b3b1bd9f26f75861d360bad7f8beea211f-knockout_punches.js\\\"}],\\\"type\\\":\\\"async_block\\\"})).then((imports) => handler.apply(this, imports));\\n}\\n\"],\"observables\":{\"loading\":{\"sync\":false,\"id\":\"17681882914295651126\",\"value\":false},\"clicks\":{\"sync\":true,\"id\":\"12285493452989962445\",\"value\":0}}},\"children\":[{\"props\":{\"attributes\":{\"data-bind\":\"click: function (){this.clicks(this.clicks()+1)}, css: {'is-loading' : loading}\"},\"className\":\"is-medium button is-primary\",\"style\":{}},\"nodeType\":\"DOM\",\"type\":\"node\",\"instanceArgs\":{\"namespace\":\"html\",\"tag\":\"button\"},\"children\":[\"run\"]}]}]},{\"props\":{\"className\":\"interact-widget\"},\"nodeType\":\"DOM\",\"type\":\"node\",\"instanceArgs\":{\"namespace\":\"html\",\"tag\":\"div\"},\"children\":[{\"props\":{},\"nodeType\":\"Scope\",\"type\":\"node\",\"instanceArgs\":{\"imports\":{\"data\":[{\"name\":null,\"type\":\"js\",\"url\":\"\\/assetserver\\/dd22ed1bf1896c2748f3fe616ce0b838adc895c1-katex.min.js\"},{\"name\":null,\"type\":\"css\",\"url\":\"\\/assetserver\\/46517a424aa5e6cffc1360d7e0848b601c584ee3-katex.min.css\"}],\"type\":\"async_block\"},\"id\":\"11747508774643960410\",\"handlers\":{\"value\":[\"(function (txt){return this.k.render(txt,this.container)})\"]},\"systemjs_options\":null,\"mount_callbacks\":[\"function () {\\n    var handler = ((function (k){this.k=k; this.container=this.dom.querySelector(\\\"#container\\\"); return k.render(\\\"\\\\\\\\;\\\\\\\\;\\\",this.container)}));\\n    (WebIO.importBlock({\\\"data\\\":[{\\\"name\\\":null,\\\"type\\\":\\\"js\\\",\\\"url\\\":\\\"\\/assetserver\\/dd22ed1bf1896c2748f3fe616ce0b838adc895c1-katex.min.js\\\"},{\\\"name\\\":null,\\\"type\\\":\\\"css\\\",\\\"url\\\":\\\"\\/assetserver\\/46517a424aa5e6cffc1360d7e0848b601c584ee3-katex.min.css\\\"}],\\\"type\\\":\\\"async_block\\\"})).then((imports) => handler.apply(this, imports));\\n}\\n\"],\"observables\":{\"value\":{\"sync\":false,\"id\":\"138037137159223386\",\"value\":\"\\\\;\\\\;\"}}},\"children\":[{\"props\":{\"id\":\"container\"},\"nodeType\":\"DOM\",\"type\":\"node\",\"instanceArgs\":{\"namespace\":\"html\",\"tag\":\"div\"},\"children\":[]}]}]},{\"props\":{\"className\":\"field interact-widget\"},\"nodeType\":\"DOM\",\"type\":\"node\",\"instanceArgs\":{\"namespace\":\"html\",\"tag\":\"div\"},\"children\":[{\"props\":{},\"nodeType\":\"Scope\",\"type\":\"node\",\"instanceArgs\":{\"imports\":{\"data\":[{\"name\":\"knockout\",\"type\":\"js\",\"url\":\"\\/assetserver\\/727383f2a47bd31570b7da84eee7b022dd6d7c78-knockout.js\"},{\"name\":\"knockout_punches\",\"type\":\"js\",\"url\":\"\\/assetserver\\/382b41b3b1bd9f26f75861d360bad7f8beea211f-knockout_punches.js\"},{\"name\":null,\"type\":\"js\",\"url\":\"\\/assetserver\\/5ab20f1060420992a9b82a65b735dee4d81ef413-all.js\"},{\"name\":null,\"type\":\"css\",\"url\":\"\\/assetserver\\/1cc0ed62837210b80a182cc3676512f895dab686-style.css\"},{\"name\":null,\"type\":\"css\",\"url\":\"\\/assetserver\\/2eee816f616df3549d7044d45e744fbf8d42bfa1-bulma_confined.min.css\"}],\"type\":\"async_block\"},\"id\":\"3785921934773877749\",\"handlers\":{\"loading\":[\"(function (val){return (val!=this.model[\\\"loading\\\"]()) ? (this.valueFromJulia[\\\"loading\\\"]=true, this.model[\\\"loading\\\"](val)) : undefined})\"],\"clicks\":[\"(function (val){return (val!=this.model[\\\"clicks\\\"]()) ? (this.valueFromJulia[\\\"clicks\\\"]=true, this.model[\\\"clicks\\\"](val)) : undefined})\"]},\"systemjs_options\":null,\"mount_callbacks\":[\"function () {\\n    var handler = (function (ko, koPunches) {\\n    ko.punches.enableAll();\\n    ko.bindingHandlers.numericValue = {\\n        init: function(element, valueAccessor, allBindings, data, context) {\\n            var stringified = ko.observable(ko.unwrap(valueAccessor()));\\n            stringified.subscribe(function(value) {\\n                var val = parseFloat(value);\\n                if (!isNaN(val)) {\\n                    valueAccessor()(val);\\n                }\\n            });\\n            valueAccessor().subscribe(function(value) {\\n                var str = JSON.stringify(value);\\n                if ((str == \\\"0\\\") && ([\\\"-0\\\", \\\"-0.\\\"].indexOf(stringified()) >= 0))\\n                     return;\\n                 if ([\\\"null\\\", \\\"\\\"].indexOf(str) >= 0)\\n                     return;\\n                stringified(str);\\n            });\\n            ko.applyBindingsToNode(\\n                element,\\n                {\\n                    value: stringified,\\n                    valueUpdate: allBindings.get('valueUpdate'),\\n                },\\n                context,\\n            );\\n        }\\n    };\\n    var json_data = {\\\"loading\\\":WebIO.getval({\\\"name\\\":\\\"loading\\\",\\\"scope\\\":\\\"3785921934773877749\\\",\\\"id\\\":\\\"17376490473594588585\\\",\\\"type\\\":\\\"observable\\\"}),\\\"clicks\\\":WebIO.getval({\\\"name\\\":\\\"clicks\\\",\\\"scope\\\":\\\"3785921934773877749\\\",\\\"id\\\":\\\"10659046344338799579\\\",\\\"type\\\":\\\"observable\\\"})};\\n    var self = this;\\n    function AppViewModel() {\\n        for (var key in json_data) {\\n            var el = json_data[key];\\n            this[key] = Array.isArray(el) ? ko.observableArray(el) : ko.observable(el);\\n        }\\n        \\n        \\n        [this[\\\"loading\\\"].subscribe((function (val){!(this.valueFromJulia[\\\"loading\\\"]) ? (WebIO.setval({\\\"name\\\":\\\"loading\\\",\\\"scope\\\":\\\"3785921934773877749\\\",\\\"id\\\":\\\"17376490473594588585\\\",\\\"type\\\":\\\"observable\\\"},val)) : undefined; return this.valueFromJulia[\\\"loading\\\"]=false}),self),this[\\\"clicks\\\"].subscribe((function (val){!(this.valueFromJulia[\\\"clicks\\\"]) ? (WebIO.setval({\\\"name\\\":\\\"clicks\\\",\\\"scope\\\":\\\"3785921934773877749\\\",\\\"id\\\":\\\"10659046344338799579\\\",\\\"type\\\":\\\"observable\\\"},val)) : undefined; return this.valueFromJulia[\\\"clicks\\\"]=false}),self)]\\n        \\n    }\\n    self.model = new AppViewModel();\\n    self.valueFromJulia = {};\\n    for (var key in json_data) {\\n        self.valueFromJulia[key] = false;\\n    }\\n    ko.applyBindings(self.model, self.dom);\\n}\\n);\\n    (WebIO.importBlock({\\\"data\\\":[{\\\"name\\\":\\\"knockout\\\",\\\"type\\\":\\\"js\\\",\\\"url\\\":\\\"\\/assetserver\\/727383f2a47bd31570b7da84eee7b022dd6d7c78-knockout.js\\\"},{\\\"name\\\":\\\"knockout_punches\\\",\\\"type\\\":\\\"js\\\",\\\"url\\\":\\\"\\/assetserver\\/382b41b3b1bd9f26f75861d360bad7f8beea211f-knockout_punches.js\\\"}],\\\"type\\\":\\\"async_block\\\"})).then((imports) => handler.apply(this, imports));\\n}\\n\"],\"observables\":{\"loading\":{\"sync\":false,\"id\":\"17376490473594588585\",\"value\":false},\"clicks\":{\"sync\":true,\"id\":\"10659046344338799579\",\"value\":0}}},\"children\":[{\"props\":{\"attributes\":{\"data-bind\":\"click: function (){this.clicks(this.clicks()+1)}, css: {'is-loading' : loading}\"},\"className\":\"is-medium button is-primary\",\"style\":{}},\"nodeType\":\"DOM\",\"type\":\"node\",\"instanceArgs\":{\"namespace\":\"html\",\"tag\":\"button\"},\"children\":[\"stop\"]}]}]},{\"props\":{\"className\":\"interact-widget\"},\"nodeType\":\"DOM\",\"type\":\"node\",\"instanceArgs\":{\"namespace\":\"html\",\"tag\":\"div\"},\"children\":[{\"props\":{},\"nodeType\":\"Scope\",\"type\":\"node\",\"instanceArgs\":{\"imports\":{\"data\":[{\"name\":null,\"type\":\"js\",\"url\":\"\\/assetserver\\/dd22ed1bf1896c2748f3fe616ce0b838adc895c1-katex.min.js\"},{\"name\":null,\"type\":\"css\",\"url\":\"\\/assetserver\\/46517a424aa5e6cffc1360d7e0848b601c584ee3-katex.min.css\"}],\"type\":\"async_block\"},\"id\":\"11747508774643960410\",\"handlers\":{\"value\":[\"(function (txt){return this.k.render(txt,this.container)})\"]},\"systemjs_options\":null,\"mount_callbacks\":[\"function () {\\n    var handler = ((function (k){this.k=k; this.container=this.dom.querySelector(\\\"#container\\\"); return k.render(\\\"\\\\\\\\;\\\\\\\\;\\\",this.container)}));\\n    (WebIO.importBlock({\\\"data\\\":[{\\\"name\\\":null,\\\"type\\\":\\\"js\\\",\\\"url\\\":\\\"\\/assetserver\\/dd22ed1bf1896c2748f3fe616ce0b838adc895c1-katex.min.js\\\"},{\\\"name\\\":null,\\\"type\\\":\\\"css\\\",\\\"url\\\":\\\"\\/assetserver\\/46517a424aa5e6cffc1360d7e0848b601c584ee3-katex.min.css\\\"}],\\\"type\\\":\\\"async_block\\\"})).then((imports) => handler.apply(this, imports));\\n}\\n\"],\"observables\":{\"value\":{\"sync\":false,\"id\":\"138037137159223386\",\"value\":\"\\\\;\\\\;\"}}},\"children\":[{\"props\":{\"id\":\"container\"},\"nodeType\":\"DOM\",\"type\":\"node\",\"instanceArgs\":{\"namespace\":\"html\",\"tag\":\"div\"},\"children\":[]}]}]},{\"props\":{\"className\":\"field interact-widget\"},\"nodeType\":\"DOM\",\"type\":\"node\",\"instanceArgs\":{\"namespace\":\"html\",\"tag\":\"div\"},\"children\":[{\"props\":{},\"nodeType\":\"Scope\",\"type\":\"node\",\"instanceArgs\":{\"imports\":{\"data\":[{\"name\":\"knockout\",\"type\":\"js\",\"url\":\"\\/assetserver\\/727383f2a47bd31570b7da84eee7b022dd6d7c78-knockout.js\"},{\"name\":\"knockout_punches\",\"type\":\"js\",\"url\":\"\\/assetserver\\/382b41b3b1bd9f26f75861d360bad7f8beea211f-knockout_punches.js\"},{\"name\":null,\"type\":\"js\",\"url\":\"\\/assetserver\\/5ab20f1060420992a9b82a65b735dee4d81ef413-all.js\"},{\"name\":null,\"type\":\"css\",\"url\":\"\\/assetserver\\/1cc0ed62837210b80a182cc3676512f895dab686-style.css\"},{\"name\":null,\"type\":\"css\",\"url\":\"\\/assetserver\\/2eee816f616df3549d7044d45e744fbf8d42bfa1-bulma_confined.min.css\"}],\"type\":\"async_block\"},\"id\":\"9265408616907984050\",\"handlers\":{\"loading\":[\"(function (val){return (val!=this.model[\\\"loading\\\"]()) ? (this.valueFromJulia[\\\"loading\\\"]=true, this.model[\\\"loading\\\"](val)) : undefined})\"],\"clicks\":[\"(function (val){return (val!=this.model[\\\"clicks\\\"]()) ? (this.valueFromJulia[\\\"clicks\\\"]=true, this.model[\\\"clicks\\\"](val)) : undefined})\"]},\"systemjs_options\":null,\"mount_callbacks\":[\"function () {\\n    var handler = (function (ko, koPunches) {\\n    ko.punches.enableAll();\\n    ko.bindingHandlers.numericValue = {\\n        init: function(element, valueAccessor, allBindings, data, context) {\\n            var stringified = ko.observable(ko.unwrap(valueAccessor()));\\n            stringified.subscribe(function(value) {\\n                var val = parseFloat(value);\\n                if (!isNaN(val)) {\\n                    valueAccessor()(val);\\n                }\\n            });\\n            valueAccessor().subscribe(function(value) {\\n                var str = JSON.stringify(value);\\n                if ((str == \\\"0\\\") && ([\\\"-0\\\", \\\"-0.\\\"].indexOf(stringified()) >= 0))\\n                     return;\\n                 if ([\\\"null\\\", \\\"\\\"].indexOf(str) >= 0)\\n                     return;\\n                stringified(str);\\n            });\\n            ko.applyBindingsToNode(\\n                element,\\n                {\\n                    value: stringified,\\n                    valueUpdate: allBindings.get('valueUpdate'),\\n                },\\n                context,\\n            );\\n        }\\n    };\\n    var json_data = {\\\"loading\\\":WebIO.getval({\\\"name\\\":\\\"loading\\\",\\\"scope\\\":\\\"9265408616907984050\\\",\\\"id\\\":\\\"13207220549675278170\\\",\\\"type\\\":\\\"observable\\\"}),\\\"clicks\\\":WebIO.getval({\\\"name\\\":\\\"clicks\\\",\\\"scope\\\":\\\"9265408616907984050\\\",\\\"id\\\":\\\"11848683111808335726\\\",\\\"type\\\":\\\"observable\\\"})};\\n    var self = this;\\n    function AppViewModel() {\\n        for (var key in json_data) {\\n            var el = json_data[key];\\n            this[key] = Array.isArray(el) ? ko.observableArray(el) : ko.observable(el);\\n        }\\n        \\n        \\n        [this[\\\"loading\\\"].subscribe((function (val){!(this.valueFromJulia[\\\"loading\\\"]) ? (WebIO.setval({\\\"name\\\":\\\"loading\\\",\\\"scope\\\":\\\"9265408616907984050\\\",\\\"id\\\":\\\"13207220549675278170\\\",\\\"type\\\":\\\"observable\\\"},val)) : undefined; return this.valueFromJulia[\\\"loading\\\"]=false}),self),this[\\\"clicks\\\"].subscribe((function (val){!(this.valueFromJulia[\\\"clicks\\\"]) ? (WebIO.setval({\\\"name\\\":\\\"clicks\\\",\\\"scope\\\":\\\"9265408616907984050\\\",\\\"id\\\":\\\"11848683111808335726\\\",\\\"type\\\":\\\"observable\\\"},val)) : undefined; return this.valueFromJulia[\\\"clicks\\\"]=false}),self)]\\n        \\n    }\\n    self.model = new AppViewModel();\\n    self.valueFromJulia = {};\\n    for (var key in json_data) {\\n        self.valueFromJulia[key] = false;\\n    }\\n    ko.applyBindings(self.model, self.dom);\\n}\\n);\\n    (WebIO.importBlock({\\\"data\\\":[{\\\"name\\\":\\\"knockout\\\",\\\"type\\\":\\\"js\\\",\\\"url\\\":\\\"\\/assetserver\\/727383f2a47bd31570b7da84eee7b022dd6d7c78-knockout.js\\\"},{\\\"name\\\":\\\"knockout_punches\\\",\\\"type\\\":\\\"js\\\",\\\"url\\\":\\\"\\/assetserver\\/382b41b3b1bd9f26f75861d360bad7f8beea211f-knockout_punches.js\\\"}],\\\"type\\\":\\\"async_block\\\"})).then((imports) => handler.apply(this, imports));\\n}\\n\"],\"observables\":{\"loading\":{\"sync\":false,\"id\":\"13207220549675278170\",\"value\":false},\"clicks\":{\"sync\":true,\"id\":\"11848683111808335726\",\"value\":0}}},\"children\":[{\"props\":{\"attributes\":{\"data-bind\":\"click: function (){this.clicks(this.clicks()+1)}, css: {'is-loading' : loading}\"},\"className\":\"is-medium button is-primary\",\"style\":{}},\"nodeType\":\"DOM\",\"type\":\"node\",\"instanceArgs\":{\"namespace\":\"html\",\"tag\":\"button\"},\"children\":[\"save\"]}]}]}]}]},{\"props\":{\"className\":\"interact-widget\"},\"nodeType\":\"DOM\",\"type\":\"node\",\"instanceArgs\":{\"namespace\":\"html\",\"tag\":\"div\"},\"children\":[{\"props\":{},\"nodeType\":\"Scope\",\"type\":\"node\",\"instanceArgs\":{\"imports\":{\"data\":[{\"name\":null,\"type\":\"js\",\"url\":\"\\/assetserver\\/dd22ed1bf1896c2748f3fe616ce0b838adc895c1-katex.min.js\"},{\"name\":null,\"type\":\"css\",\"url\":\"\\/assetserver\\/46517a424aa5e6cffc1360d7e0848b601c584ee3-katex.min.css\"}],\"type\":\"async_block\"},\"id\":\"11747508774643960410\",\"handlers\":{\"value\":[\"(function (txt){return this.k.render(txt,this.container)})\"]},\"systemjs_options\":null,\"mount_callbacks\":[\"function () {\\n    var handler = ((function (k){this.k=k; this.container=this.dom.querySelector(\\\"#container\\\"); return k.render(\\\"\\\\\\\\;\\\\\\\\;\\\",this.container)}));\\n    (WebIO.importBlock({\\\"data\\\":[{\\\"name\\\":null,\\\"type\\\":\\\"js\\\",\\\"url\\\":\\\"\\/assetserver\\/dd22ed1bf1896c2748f3fe616ce0b838adc895c1-katex.min.js\\\"},{\\\"name\\\":null,\\\"type\\\":\\\"css\\\",\\\"url\\\":\\\"\\/assetserver\\/46517a424aa5e6cffc1360d7e0848b601c584ee3-katex.min.css\\\"}],\\\"type\\\":\\\"async_block\\\"})).then((imports) => handler.apply(this, imports));\\n}\\n\"],\"observables\":{\"value\":{\"sync\":false,\"id\":\"138037137159223386\",\"value\":\"\\\\;\\\\;\"}}},\"children\":[{\"props\":{\"id\":\"container\"},\"nodeType\":\"DOM\",\"type\":\"node\",\"instanceArgs\":{\"namespace\":\"html\",\"tag\":\"div\"},\"children\":[]}]}]},{\"props\":{},\"nodeType\":\"Scope\",\"type\":\"node\",\"instanceArgs\":{\"imports\":{\"data\":[],\"type\":\"async_block\"},\"id\":\"4571990412554323470\",\"handlers\":{\"obs-output\":[\"function (value, scope) {\\n    scope.setInnerHTML(value);\\n}\\n\"]},\"systemjs_options\":null,\"mount_callbacks\":[],\"observables\":{\"obs-output\":{\"sync\":false,\"id\":\"4556328897597542718\",\"value\":\"<img src='data:image\\/png;base64,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'><\\/img>\"}}},\"children\":[{\"props\":{\"className\":\"webio-observable\",\"setInnerHtml\":\"<img src='data:image\\/png;base64,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'><\\/img>\"},\"nodeType\":\"DOM\",\"type\":\"node\",\"instanceArgs\":{\"namespace\":\"html\",\"tag\":\"div\"},\"children\":[]}]},{\"props\":{\"className\":\"interact-widget\"},\"nodeType\":\"DOM\",\"type\":\"node\",\"instanceArgs\":{\"namespace\":\"html\",\"tag\":\"div\"},\"children\":[{\"props\":{},\"nodeType\":\"Scope\",\"type\":\"node\",\"instanceArgs\":{\"imports\":{\"data\":[{\"name\":null,\"type\":\"js\",\"url\":\"\\/assetserver\\/dd22ed1bf1896c2748f3fe616ce0b838adc895c1-katex.min.js\"},{\"name\":null,\"type\":\"css\",\"url\":\"\\/assetserver\\/46517a424aa5e6cffc1360d7e0848b601c584ee3-katex.min.css\"}],\"type\":\"async_block\"},\"id\":\"11747508774643960410\",\"handlers\":{\"value\":[\"(function (txt){return this.k.render(txt,this.container)})\"]},\"systemjs_options\":null,\"mount_callbacks\":[\"function () {\\n    var handler = ((function (k){this.k=k; this.container=this.dom.querySelector(\\\"#container\\\"); return k.render(\\\"\\\\\\\\;\\\\\\\\;\\\",this.container)}));\\n    (WebIO.importBlock({\\\"data\\\":[{\\\"name\\\":null,\\\"type\\\":\\\"js\\\",\\\"url\\\":\\\"\\/assetserver\\/dd22ed1bf1896c2748f3fe616ce0b838adc895c1-katex.min.js\\\"},{\\\"name\\\":null,\\\"type\\\":\\\"css\\\",\\\"url\\\":\\\"\\/assetserver\\/46517a424aa5e6cffc1360d7e0848b601c584ee3-katex.min.css\\\"}],\\\"type\\\":\\\"async_block\\\"})).then((imports) => handler.apply(this, imports));\\n}\\n\"],\"observables\":{\"value\":{\"sync\":false,\"id\":\"138037137159223386\",\"value\":\"\\\\;\\\\;\"}}},\"children\":[{\"props\":{\"id\":\"container\"},\"nodeType\":\"DOM\",\"type\":\"node\",\"instanceArgs\":{\"namespace\":\"html\",\"tag\":\"div\"},\"children\":[]}]}]},{\"props\":{\"style\":{\"display\":\"flex\",\"flex-direction\":\"column\"}},\"nodeType\":\"DOM\",\"type\":\"node\",\"instanceArgs\":{\"namespace\":\"html\",\"tag\":\"div\"},\"children\":[]}]}]},\n",
       "        window,\n",
       "    );\n",
       "    })()\n",
       "    </script>\n",
       "</div>\n"
      ],
      "text/plain": [
       "WebIO.Node{WebIO.DOM}(WebIO.DOM(:html, :div), Any[WebIO.Node{WebIO.DOM}(WebIO.DOM(:html, :div), Any[WebIO.Node{WebIO.DOM}(WebIO.DOM(:html, :div), Any[WebIO.Node{WebIO.DOM}(WebIO.DOM(:html, :div), Any[WebIO.Scope(WebIO.Node{WebIO.DOM}(WebIO.DOM(:html, :div), Any[WebIO.Node{WebIO.DOM}(WebIO.DOM(:html, :div), Any[WebIO.Node{WebIO.DOM}(WebIO.DOM(:html, :label), Any[\"time\"], Dict{Symbol, Any}(:className => \"interact \", :style => Dict{Any, Any}(:padding => \"5px 10px 0px 10px\")))], Dict{Symbol, Any}(:className => \"interact-flex-row-left\")), WebIO.Node{WebIO.DOM}(WebIO.DOM(:html, :div), Any[WebIO.Node{WebIO.DOM}(WebIO.DOM(:html, :input), Any[], Dict{Symbol, Any}(:max => 101, :min => 1, :attributes => Dict{Any, Any}(:type => \"range\", Symbol(\"data-bind\") => \"numericValue: index, valueUpdate: 'input', event: {change: function (){this.changes(this.changes()+1)}}\", \"orient\" => \"horizontal\"), :step => 1, :className => \"slider slider is-fullwidth\", :style => Dict{Any, Any}()))], Dict{Symbol, Any}(:className => \"interact-flex-row-center\")), WebIO.Node{WebIO.DOM}(WebIO.DOM(:html, :div), Any[WebIO.Node{WebIO.DOM}(WebIO.DOM(:html, :p), Any[], Dict{Symbol, Any}(:attributes => Dict(\"data-bind\" => \"text: formatted_val\")))], Dict{Symbol, Any}(:className => \"interact-flex-row-right\"))], Dict{Symbol, Any}(:className => \"interact-flex-row interact-widget\")), Dict{String, Tuple{Observables.AbstractObservable, Union{Nothing, Bool}}}(\"changes\" => (Observable(0), nothing), \"index\" => (Observable(51), nothing)), Set{String}(), nothing, WebIO.Asset[WebIO.Asset(\"js\", \"knockout\", \"/home/dushya/.julia/packages/Knockout/HReiN/src/../assets/knockout.js\"), WebIO.Asset(\"js\", \"knockout_punches\", \"/home/dushya/.julia/packages/Knockout/HReiN/src/../assets/knockout_punches.js\"), WebIO.Asset(\"js\", nothing, \"/home/dushya/.julia/packages/InteractBase/LJXv3/src/../assets/all.js\"), WebIO.Asset(\"css\", nothing, \"/home/dushya/.julia/packages/InteractBase/LJXv3/src/../assets/style.css\"), WebIO.Asset(\"css\", nothing, \"/home/dushya/.julia/packages/Interact/PENUy/src/../assets/bulma_confined.min.css\")], Dict{Any, Any}(\"changes\" => Any[WebIO.JSString(\"(function (val){return (val!=this.model[\\\"changes\\\"]()) ? (this.valueFromJulia[\\\"changes\\\"]=true, this.model[\\\"changes\\\"](val)) : undefined})\")], \"index\" => Any[WebIO.JSString(\"(function (val){return (val!=this.model[\\\"index\\\"]()) ? (this.valueFromJulia[\\\"index\\\"]=true, this.model[\\\"index\\\"](val)) : undefined})\")]), WebIO.ConnectionPool(Channel{Any}(32), Set{WebIO.AbstractConnection}(), Base.GenericCondition{ReentrantLock}(Base.IntrusiveLinkedList{Task}(Task (runnable) @0x00007f11b77239e0, Task (runnable) @0x00007f11b77239e0), ReentrantLock(nothing, 0x00000000, 0x00, Base.GenericCondition{Base.Threads.SpinLock}(Base.IntrusiveLinkedList{Task}(nothing, nothing), Base.Threads.SpinLock(0)), (0, 139714759883728, 139714798621760)))), WebIO.JSString[WebIO.JSString(\"function () {\\n    var handler = (function (ko, koPunches) {\\n    ko.punches.enableAll();\\n    ko.bindingHandlers.numericValue = {\\n        init: function(element, valueAccessor, allBindings, data, context) {\\n            var stringified = ko.observable(ko.unwrap(valueAccessor()));\\n            stringified.subscribe(function(value) {\\n                var val = parseFloat(value);\\n                if (!isNaN(val)) {\\n                    valueAccessor()(val);\\n                }\\n            });\\n            valueAccessor().subscribe(function(value) {\\n                var str = JSON.stringify(value);\\n                if ((str == \\\"0\\\") && ([\\\"-0\\\", \\\"-0.\\\"].indexOf(stringified()) >= 0))\\n                     return;\\n                 if ([\\\"null\\\", \\\"\\\"].indexOf(str) >= 0)\\n                     return;\\n                stringified(str);\\n            });\\n            ko.applyBindingsToNode(\\n                element,\\n                {\\n                    value: stringified,\\n                    valueUpdate: allBindings.get('valueUpdate'),\\n                },\\n                context,\\n            );\\n        }\\n    };\\n    var json_data = {\\\"formatted_vals\\\":[\\\"1\\\",\\\"2\\\",\\\"3\\\",\\\"4\\\",\\\"5\\\",\\\"6\\\",\\\"7\\\",\\\"8\\\",\\\"9\\\",\\\"10\\\",\\\"11\\\",\\\"12\\\",\\\"13\\\",\\\"14\\\",\\\"15\\\",\\\"16\\\",\\\"17\\\",\\\"18\\\",\\\"19\\\",\\\"20\\\",\\\"21\\\",\\\"22\\\",\\\"23\\\",\\\"24\\\",\\\"25\\\",\\\"26\\\",\\\"27\\\",\\\"28\\\",\\\"29\\\",\\\"30\\\",\\\"31\\\",\\\"32\\\",\\\"33\\\",\\\"34\\\",\\\"35\\\",\\\"36\\\",\\\"37\\\",\\\"38\\\",\\\"39\\\",\\\"40\\\",\\\"41\\\",\\\"42\\\",\\\"43\\\",\\\"44\\\",\\\"45\\\",\\\"46\\\",\\\"47\\\",\\\"48\\\",\\\"49\\\",\\\"50\\\",\\\"51\\\",\\\"52\\\",\\\"53\\\",\\\"54\\\",\\\"55\\\",\\\"56\\\",\\\"57\\\",\\\"58\\\",\\\"59\\\",\\\"60\\\",\\\"61\\\",\\\"62\\\",\\\"63\\\",\\\"64\\\",\\\"65\\\",\\\"66\\\",\\\"67\\\",\\\"68\\\",\\\"69\\\",\\\"70\\\",\\\"71\\\",\\\"72\\\",\\\"73\\\",\\\"74\\\",\\\"75\\\",\\\"76\\\",\\\"77\\\",\\\"78\\\",\\\"79\\\",\\\"80\\\",\\\"81\\\",\\\"82\\\",\\\"83\\\",\\\"84\\\",\\\"85\\\",\\\"86\\\",\\\"87\\\",\\\"88\\\",\\\"89\\\",\\\"90\\\",\\\"91\\\",\\\"92\\\",\\\"93\\\",\\\"94\\\",\\\"95\\\",\\\"96\\\",\\\"97\\\",\\\"98\\\",\\\"99\\\",\\\"100\\\",\\\"101\\\"],\\\"changes\\\":WebIO.getval({\\\"name\\\":\\\"changes\\\",\\\"scope\\\":\\\"8835275317108146432\\\",\\\"id\\\":\\\"14722837102688461182\\\",\\\"type\\\":\\\"observable\\\"}),\\\"index\\\":WebIO.getval({\\\"name\\\":\\\"index\\\",\\\"scope\\\":\\\"8835275317108146432\\\",\\\"id\\\":\\\"12641080691164456648\\\",\\\"type\\\":\\\"observable\\\"})};\\n    var self = this;\\n    function AppViewModel() {\\n        for (var key in json_data) {\\n            var el = json_data[key];\\n            this[key] = Array.isArray(el) ? ko.observableArray(el) : ko.observable(el);\\n        }\\n        \\n        [this[\\\"formatted_val\\\"]=ko.computed(    function(){\\n        return this.formatted_vals()[parseInt(this.index())-(1)];\\n    }\\n,this)]\\n        [this[\\\"changes\\\"].subscribe((function (val){!(this.valueFromJulia[\\\"changes\\\"]) ? (WebIO.setval({\\\"name\\\":\\\"changes\\\",\\\"scope\\\":\\\"8835275317108146432\\\",\\\"id\\\":\\\"14722837102688461182\\\",\\\"type\\\":\\\"observable\\\"},val)) : undefined; return this.valueFromJulia[\\\"changes\\\"]=false}),self),this[\\\"index\\\"].subscribe((function (val){!(this.valueFromJulia[\\\"index\\\"]) ? (WebIO.setval({\\\"name\\\":\\\"index\\\",\\\"scope\\\":\\\"8835275317108146432\\\",\\\"id\\\":\\\"12641080691164456648\\\",\\\"type\\\":\\\"observable\\\"},val)) : undefined; return this.valueFromJulia[\\\"index\\\"]=false}),self)]\\n        \\n    }\\n    self.model = new AppViewModel();\\n    self.valueFromJulia = {};\\n    for (var key in json_data) {\\n        self.valueFromJulia[key] = false;\\n    }\\n    ko.applyBindings(self.model, self.dom);\\n}\\n);\\n    (WebIO.importBlock({\\\"data\\\":[{\\\"name\\\":\\\"knockout\\\",\\\"type\\\":\\\"js\\\",\\\"url\\\":\\\"/assetserver/727383f2a47bd31570b7da84eee7b022dd6d7c78-knockout.js\\\"},{\\\"name\\\":\\\"knockout_punches\\\",\\\"type\\\":\\\"js\\\",\\\"url\\\":\\\"/assetserver/382b41b3b1bd9f26f75861d360bad7f8beea211f-knockout_punches.js\\\"}],\\\"type\\\":\\\"async_block\\\"})).then((imports) => handler.apply(this, imports));\\n}\\n\")])], Dict{Symbol, Any}(:className => \"field interact-widget\")), WebIO.Node{WebIO.DOM}(WebIO.DOM(:html, :div), Any[WebIO.Scope(WebIO.Node{WebIO.DOM}(WebIO.DOM(:html, :div), Any[WebIO.Node{WebIO.DOM}(WebIO.DOM(:html, :div), Any[WebIO.Node{WebIO.DOM}(WebIO.DOM(:html, :label), Any[\"scale\"], Dict{Symbol, Any}(:className => \"interact \", :style => Dict{Any, Any}(:padding => \"5px 10px 0px 10px\")))], Dict{Symbol, Any}(:className => \"interact-flex-row-left\")), WebIO.Node{WebIO.DOM}(WebIO.DOM(:html, :div), Any[WebIO.Node{WebIO.DOM}(WebIO.DOM(:html, :input), Any[], Dict{Symbol, Any}(:max => 20, :min => 1, :attributes => Dict{Any, Any}(:type => \"range\", Symbol(\"data-bind\") => \"numericValue: index, valueUpdate: 'input', event: {change: function (){this.changes(this.changes()+1)}}\", \"orient\" => \"horizontal\"), :step => 1, :className => \"slider slider is-fullwidth\", :style => Dict{Any, Any}()))], Dict{Symbol, Any}(:className => \"interact-flex-row-center\")), WebIO.Node{WebIO.DOM}(WebIO.DOM(:html, :div), Any[WebIO.Node{WebIO.DOM}(WebIO.DOM(:html, :p), Any[], Dict{Symbol, Any}(:attributes => Dict(\"data-bind\" => \"text: formatted_val\")))], Dict{Symbol, Any}(:className => \"interact-flex-row-right\"))], Dict{Symbol, Any}(:className => \"interact-flex-row interact-widget\")), Dict{String, Tuple{Observables.AbstractObservable, Union{Nothing, Bool}}}(\"changes\" => (Observable(0), nothing), \"index\" => (Observable{Any}(10), nothing)), Set{String}(), nothing, WebIO.Asset[WebIO.Asset(\"js\", \"knockout\", \"/home/dushya/.julia/packages/Knockout/HReiN/src/../assets/knockout.js\"), WebIO.Asset(\"js\", \"knockout_punches\", \"/home/dushya/.julia/packages/Knockout/HReiN/src/../assets/knockout_punches.js\"), WebIO.Asset(\"js\", nothing, \"/home/dushya/.julia/packages/InteractBase/LJXv3/src/../assets/all.js\"), WebIO.Asset(\"css\", nothing, \"/home/dushya/.julia/packages/InteractBase/LJXv3/src/../assets/style.css\"), WebIO.Asset(\"css\", nothing, \"/home/dushya/.julia/packages/Interact/PENUy/src/../assets/bulma_confined.min.css\")], Dict{Any, Any}(\"changes\" => Any[WebIO.JSString(\"(function (val){return (val!=this.model[\\\"changes\\\"]()) ? (this.valueFromJulia[\\\"changes\\\"]=true, this.model[\\\"changes\\\"](val)) : undefined})\")], \"index\" => Any[WebIO.JSString(\"(function (val){return (val!=this.model[\\\"index\\\"]()) ? (this.valueFromJulia[\\\"index\\\"]=true, this.model[\\\"index\\\"](val)) : undefined})\")]), WebIO.ConnectionPool(Channel{Any}(32), Set{WebIO.AbstractConnection}(), Base.GenericCondition{ReentrantLock}(Base.IntrusiveLinkedList{Task}(Task (runnable) @0x00007f11b70b5f50, Task (runnable) @0x00007f11b70b5f50), ReentrantLock(nothing, 0x00000000, 0x00, Base.GenericCondition{Base.Threads.SpinLock}(Base.IntrusiveLinkedList{Task}(nothing, nothing), Base.Threads.SpinLock(0)), (1, 0, 0)))), WebIO.JSString[WebIO.JSString(\"function () {\\n    var handler = (function (ko, koPunches) {\\n    ko.punches.enableAll();\\n    ko.bindingHandlers.numericValue = {\\n        init: function(element, valueAccessor, allBindings, data, context) {\\n            var stringified = ko.observable(ko.unwrap(valueAccessor()));\\n            stringified.subscribe(function(value) {\\n                var val = parseFloat(value);\\n                if (!isNaN(val)) {\\n                    valueAccessor()(val);\\n                }\\n            });\\n            valueAccessor().subscribe(function(value) {\\n                var str = JSON.stringify(value);\\n                if ((str == \\\"0\\\") && ([\\\"-0\\\", \\\"-0.\\\"].indexOf(stringified()) >= 0))\\n                     return;\\n                 if ([\\\"null\\\", \\\"\\\"].indexOf(str) >= 0)\\n                     return;\\n                stringified(str);\\n            });\\n            ko.applyBindingsToNode(\\n                element,\\n                {\\n                    value: stringified,\\n                    valueUpdate: allBindings.get('valueUpdate'),\\n                },\\n                context,\\n            );\\n        }\\n    };\\n    var json_data = {\\\"formatted_vals\\\":[\\\"0.1\\\",\\\"0.2\\\",\\\"0.3\\\",\\\"0.4\\\",\\\"0.5\\\",\\\"0.6\\\",\\\"0.7\\\",\\\"0.8\\\",\\\"0.9\\\",\\\"1.0\\\",\\\"1.1\\\",\\\"1.2\\\",\\\"1.3\\\",\\\"1.4\\\",\\\"1.5\\\",\\\"1.6\\\",\\\"1.7\\\",\\\"1.8\\\",\\\"1.9\\\",\\\"2.0\\\"],\\\"changes\\\":WebIO.getval({\\\"name\\\":\\\"changes\\\",\\\"scope\\\":\\\"11553010555561663587\\\",\\\"id\\\":\\\"11169293875387547182\\\",\\\"type\\\":\\\"observable\\\"}),\\\"index\\\":WebIO.getval({\\\"name\\\":\\\"index\\\",\\\"scope\\\":\\\"11553010555561663587\\\",\\\"id\\\":\\\"432459323161294713\\\",\\\"type\\\":\\\"observable\\\"})};\\n    var self = this;\\n    function AppViewModel() {\\n        for (var key in json_data) {\\n            var el = json_data[key];\\n            this[key] = Array.isArray(el) ? ko.observableArray(el) : ko.observable(el);\\n        }\\n        \\n        [this[\\\"formatted_val\\\"]=ko.computed(    function(){\\n        return this.formatted_vals()[parseInt(this.index())-(1)];\\n    }\\n,this)]\\n        [this[\\\"changes\\\"].subscribe((function (val){!(this.valueFromJulia[\\\"changes\\\"]) ? (WebIO.setval({\\\"name\\\":\\\"changes\\\",\\\"scope\\\":\\\"11553010555561663587\\\",\\\"id\\\":\\\"11169293875387547182\\\",\\\"type\\\":\\\"observable\\\"},val)) : undefined; return this.valueFromJulia[\\\"changes\\\"]=false}),self),this[\\\"index\\\"].subscribe((function (val){!(this.valueFromJulia[\\\"index\\\"]) ? (WebIO.setval({\\\"name\\\":\\\"index\\\",\\\"scope\\\":\\\"11553010555561663587\\\",\\\"id\\\":\\\"432459323161294713\\\",\\\"type\\\":\\\"observable\\\"},val)) : undefined; return this.valueFromJulia[\\\"index\\\"]=false}),self)]\\n        \\n    }\\n    self.model = new AppViewModel();\\n    self.valueFromJulia = {};\\n    for (var key in json_data) {\\n        self.valueFromJulia[key] = false;\\n    }\\n    ko.applyBindings(self.model, self.dom);\\n}\\n);\\n    (WebIO.importBlock({\\\"data\\\":[{\\\"name\\\":\\\"knockout\\\",\\\"type\\\":\\\"js\\\",\\\"url\\\":\\\"/assetserver/727383f2a47bd31570b7da84eee7b022dd6d7c78-knockout.js\\\"},{\\\"name\\\":\\\"knockout_punches\\\",\\\"type\\\":\\\"js\\\",\\\"url\\\":\\\"/assetserver/382b41b3b1bd9f26f75861d360bad7f8beea211f-knockout_punches.js\\\"}],\\\"type\\\":\\\"async_block\\\"})).then((imports) => handler.apply(this, imports));\\n}\\n\")])], Dict{Symbol, Any}(:className => \"field interact-widget\")), WebIO.Node{WebIO.DOM}(WebIO.DOM(:html, :div), Any[WebIO.Node{WebIO.DOM}(WebIO.DOM(:html, :div), Any[WebIO.Scope(WebIO.Node{WebIO.DOM}(WebIO.DOM(:html, :div), Any[], Dict{Symbol, Any}(:id => \"container\")), Dict{String, Tuple{Observables.AbstractObservable, Union{Nothing, Bool}}}(\"value\" => (Observable(\"\\\\;\\\\;\"), nothing)), Set{String}(), nothing, WebIO.Asset[WebIO.Asset(\"js\", nothing, \"/home/dushya/.julia/packages/InteractBase/LJXv3/src/../assets/katex.min.js\"), WebIO.Asset(\"css\", nothing, \"/home/dushya/.julia/packages/InteractBase/LJXv3/src/../assets/katex.min.css\")], Dict{Any, Any}(\"value\" => Any[WebIO.JSString(\"(function (txt){return this.k.render(txt,this.container)})\")]), WebIO.ConnectionPool(Channel{Any}(32), Set{WebIO.AbstractConnection}(), Base.GenericCondition{ReentrantLock}(Base.IntrusiveLinkedList{Task}(Task (runnable) @0x00007f11b6969460, Task (runnable) @0x00007f11b6969460), ReentrantLock(nothing, 0x00000000, 0x00, Base.GenericCondition{Base.Threads.SpinLock}(Base.IntrusiveLinkedList{Task}(nothing, nothing), Base.Threads.SpinLock(0)), (139714713727216, 139714798621760, 0)))), WebIO.JSString[WebIO.JSString(\"function () {\\n    var handler = ((function (k){this.k=k; this.container=this.dom.querySelector(\\\"#container\\\"); return k.render(\\\"\\\\\\\\;\\\\\\\\;\\\",this.container)}));\\n    (WebIO.importBlock({\\\"data\\\":[{\\\"name\\\":null,\\\"type\\\":\\\"js\\\",\\\"url\\\":\\\"/assetserver/dd22ed1bf1896c2748f3fe616ce0b838adc895c1-katex.min.js\\\"},{\\\"name\\\":null,\\\"type\\\":\\\"css\\\",\\\"url\\\":\\\"/assetserver/46517a424aa5e6cffc1360d7e0848b601c584ee3-katex.min.css\\\"}],\\\"type\\\":\\\"async_block\\\"})).then((imports) => handler.apply(this, imports));\\n}\\n\")])], Dict{Symbol, Any}(:className => \"interact-widget\")), WebIO.Node{WebIO.DOM}(WebIO.DOM(:html, :div), Any[WebIO.Scope(WebIO.Node{WebIO.DOM}(WebIO.DOM(:html, :button), Any[\"run\"], Dict{Symbol, Any}(:attributes => Dict{Any, Any}(\"data-bind\" => \"click: function (){this.clicks(this.clicks()+1)}, css: {'is-loading' : loading}\"), :className => \"is-medium button is-primary\", :style => Dict{String, Any}())), Dict{String, Tuple{Observables.AbstractObservable, Union{Nothing, Bool}}}(\"loading\" => (Observable(false), nothing), \"clicks\" => (Observable(0), nothing)), Set{String}(), nothing, WebIO.Asset[WebIO.Asset(\"js\", \"knockout\", \"/home/dushya/.julia/packages/Knockout/HReiN/src/../assets/knockout.js\"), WebIO.Asset(\"js\", \"knockout_punches\", \"/home/dushya/.julia/packages/Knockout/HReiN/src/../assets/knockout_punches.js\"), WebIO.Asset(\"js\", nothing, \"/home/dushya/.julia/packages/InteractBase/LJXv3/src/../assets/all.js\"), WebIO.Asset(\"css\", nothing, \"/home/dushya/.julia/packages/InteractBase/LJXv3/src/../assets/style.css\"), WebIO.Asset(\"css\", nothing, \"/home/dushya/.julia/packages/Interact/PENUy/src/../assets/bulma_confined.min.css\")], Dict{Any, Any}(\"loading\" => Any[WebIO.JSString(\"(function (val){return (val!=this.model[\\\"loading\\\"]()) ? (this.valueFromJulia[\\\"loading\\\"]=true, this.model[\\\"loading\\\"](val)) : undefined})\")], \"clicks\" => Any[WebIO.JSString(\"(function (val){return (val!=this.model[\\\"clicks\\\"]()) ? (this.valueFromJulia[\\\"clicks\\\"]=true, this.model[\\\"clicks\\\"](val)) : undefined})\")]), WebIO.ConnectionPool(Channel{Any}(32), Set{WebIO.AbstractConnection}(), Base.GenericCondition{ReentrantLock}(Base.IntrusiveLinkedList{Task}(Task (runnable) @0x00007f11b764b080, Task (runnable) @0x00007f11b764b080), ReentrantLock(nothing, 0x00000000, 0x00, Base.GenericCondition{Base.Threads.SpinLock}(Base.IntrusiveLinkedList{Task}(nothing, nothing), Base.Threads.SpinLock(0)), (0, 0, 140070163647263)))), WebIO.JSString[WebIO.JSString(\"function () {\\n    var handler = (function (ko, koPunches) {\\n    ko.punches.enableAll();\\n    ko.bindingHandlers.numericValue = {\\n        init: function(element, valueAccessor, allBindings, data, context) {\\n            var stringified = ko.observable(ko.unwrap(valueAccessor()));\\n            stringified.subscribe(function(value) {\\n                var val = parseFloat(value);\\n                if (!isNaN(val)) {\\n                    valueAccessor()(val);\\n                }\\n            });\\n            valueAccessor().subscribe(function(value) {\\n                var str = JSON.stringify(value);\\n                if ((str == \\\"0\\\") && ([\\\"-0\\\", \\\"-0.\\\"].indexOf(stringified()) >= 0))\\n                     return;\\n                 if ([\\\"null\\\", \\\"\\\"].indexOf(str) >= 0)\\n                     return;\\n                stringified(str);\\n            });\\n            ko.applyBindingsToNode(\\n                element,\\n                {\\n                    value: stringified,\\n                    valueUpdate: allBindings.get('valueUpdate'),\\n                },\\n                context,\\n            );\\n        }\\n    };\\n    var json_data = {\\\"loading\\\":WebIO.getval({\\\"name\\\":\\\"loading\\\",\\\"scope\\\":\\\"12155287748704894298\\\",\\\"id\\\":\\\"17681882914295651126\\\",\\\"type\\\":\\\"observable\\\"}),\\\"clicks\\\":WebIO.getval({\\\"name\\\":\\\"clicks\\\",\\\"scope\\\":\\\"12155287748704894298\\\",\\\"id\\\":\\\"12285493452989962445\\\",\\\"type\\\":\\\"observable\\\"})};\\n    var self = this;\\n    function AppViewModel() {\\n        for (var key in json_data) {\\n            var el = json_data[key];\\n            this[key] = Array.isArray(el) ? ko.observableArray(el) : ko.observable(el);\\n        }\\n        \\n        \\n        [this[\\\"loading\\\"].subscribe((function (val){!(this.valueFromJulia[\\\"loading\\\"]) ? (WebIO.setval({\\\"name\\\":\\\"loading\\\",\\\"scope\\\":\\\"12155287748704894298\\\",\\\"id\\\":\\\"17681882914295651126\\\",\\\"type\\\":\\\"observable\\\"},val)) : undefined; return this.valueFromJulia[\\\"loading\\\"]=false}),self),this[\\\"clicks\\\"].subscribe((function (val){!(this.valueFromJulia[\\\"clicks\\\"]) ? (WebIO.setval({\\\"name\\\":\\\"clicks\\\",\\\"scope\\\":\\\"12155287748704894298\\\",\\\"id\\\":\\\"12285493452989962445\\\",\\\"type\\\":\\\"observable\\\"},val)) : undefined; return this.valueFromJulia[\\\"clicks\\\"]=false}),self)]\\n        \\n    }\\n    self.model = new AppViewModel();\\n    self.valueFromJulia = {};\\n    for (var key in json_data) {\\n        self.valueFromJulia[key] = false;\\n    }\\n    ko.applyBindings(self.model, self.dom);\\n}\\n);\\n    (WebIO.importBlock({\\\"data\\\":[{\\\"name\\\":\\\"knockout\\\",\\\"type\\\":\\\"js\\\",\\\"url\\\":\\\"/assetserver/727383f2a47bd31570b7da84eee7b022dd6d7c78-knockout.js\\\"},{\\\"name\\\":\\\"knockout_punches\\\",\\\"type\\\":\\\"js\\\",\\\"url\\\":\\\"/assetserver/382b41b3b1bd9f26f75861d360bad7f8beea211f-knockout_punches.js\\\"}],\\\"type\\\":\\\"async_block\\\"})).then((imports) => handler.apply(this, imports));\\n}\\n\")])], Dict{Symbol, Any}(:className => \"field interact-widget\")), WebIO.Node{WebIO.DOM}(WebIO.DOM(:html, :div), Any[WebIO.Scope(WebIO.Node{WebIO.DOM}(WebIO.DOM(:html, :div), Any[], Dict{Symbol, Any}(:id => \"container\")), Dict{String, Tuple{Observables.AbstractObservable, Union{Nothing, Bool}}}(\"value\" => (Observable(\"\\\\;\\\\;\"), nothing)), Set{String}(), nothing, WebIO.Asset[WebIO.Asset(\"js\", nothing, \"/home/dushya/.julia/packages/InteractBase/LJXv3/src/../assets/katex.min.js\"), WebIO.Asset(\"css\", nothing, \"/home/dushya/.julia/packages/InteractBase/LJXv3/src/../assets/katex.min.css\")], Dict{Any, Any}(\"value\" => Any[WebIO.JSString(\"(function (txt){return this.k.render(txt,this.container)})\")]), WebIO.ConnectionPool(Channel{Any}(32), Set{WebIO.AbstractConnection}(), Base.GenericCondition{ReentrantLock}(Base.IntrusiveLinkedList{Task}(Task (runnable) @0x00007f11b6969460, Task (runnable) @0x00007f11b6969460), ReentrantLock(nothing, 0x00000000, 0x00, Base.GenericCondition{Base.Threads.SpinLock}(Base.IntrusiveLinkedList{Task}(nothing, nothing), Base.Threads.SpinLock(0)), (139714713727216, 139714798621760, 0)))), WebIO.JSString[WebIO.JSString(\"function () {\\n    var handler = ((function (k){this.k=k; this.container=this.dom.querySelector(\\\"#container\\\"); return k.render(\\\"\\\\\\\\;\\\\\\\\;\\\",this.container)}));\\n    (WebIO.importBlock({\\\"data\\\":[{\\\"name\\\":null,\\\"type\\\":\\\"js\\\",\\\"url\\\":\\\"/assetserver/dd22ed1bf1896c2748f3fe616ce0b838adc895c1-katex.min.js\\\"},{\\\"name\\\":null,\\\"type\\\":\\\"css\\\",\\\"url\\\":\\\"/assetserver/46517a424aa5e6cffc1360d7e0848b601c584ee3-katex.min.css\\\"}],\\\"type\\\":\\\"async_block\\\"})).then((imports) => handler.apply(this, imports));\\n}\\n\")])], Dict{Symbol, Any}(:className => \"interact-widget\")), WebIO.Node{WebIO.DOM}(WebIO.DOM(:html, :div), Any[WebIO.Scope(WebIO.Node{WebIO.DOM}(WebIO.DOM(:html, :button), Any[\"stop\"], Dict{Symbol, Any}(:attributes => Dict{Any, Any}(\"data-bind\" => \"click: function (){this.clicks(this.clicks()+1)}, css: {'is-loading' : loading}\"), :className => \"is-medium button is-primary\", :style => Dict{String, Any}())), Dict{String, Tuple{Observables.AbstractObservable, Union{Nothing, Bool}}}(\"loading\" => (Observable(false), nothing), \"clicks\" => (Observable(0), nothing)), Set{String}(), nothing, WebIO.Asset[WebIO.Asset(\"js\", \"knockout\", \"/home/dushya/.julia/packages/Knockout/HReiN/src/../assets/knockout.js\"), WebIO.Asset(\"js\", \"knockout_punches\", \"/home/dushya/.julia/packages/Knockout/HReiN/src/../assets/knockout_punches.js\"), WebIO.Asset(\"js\", nothing, \"/home/dushya/.julia/packages/InteractBase/LJXv3/src/../assets/all.js\"), WebIO.Asset(\"css\", nothing, \"/home/dushya/.julia/packages/InteractBase/LJXv3/src/../assets/style.css\"), WebIO.Asset(\"css\", nothing, \"/home/dushya/.julia/packages/Interact/PENUy/src/../assets/bulma_confined.min.css\")], Dict{Any, Any}(\"loading\" => Any[WebIO.JSString(\"(function (val){return (val!=this.model[\\\"loading\\\"]()) ? (this.valueFromJulia[\\\"loading\\\"]=true, this.model[\\\"loading\\\"](val)) : undefined})\")], \"clicks\" => Any[WebIO.JSString(\"(function (val){return (val!=this.model[\\\"clicks\\\"]()) ? (this.valueFromJulia[\\\"clicks\\\"]=true, this.model[\\\"clicks\\\"](val)) : undefined})\")]), WebIO.ConnectionPool(Channel{Any}(32), Set{WebIO.AbstractConnection}(), Base.GenericCondition{ReentrantLock}(Base.IntrusiveLinkedList{Task}(Task (runnable) @0x00007f11e9ab0c90, Task (runnable) @0x00007f11e9ab0c90), ReentrantLock(nothing, 0x00000000, 0x00, Base.GenericCondition{Base.Threads.SpinLock}(Base.IntrusiveLinkedList{Task}(nothing, nothing), Base.Threads.SpinLock(0)), (0, 139714884695376, 0)))), WebIO.JSString[WebIO.JSString(\"function () {\\n    var handler = (function (ko, koPunches) {\\n    ko.punches.enableAll();\\n    ko.bindingHandlers.numericValue = {\\n        init: function(element, valueAccessor, allBindings, data, context) {\\n            var stringified = ko.observable(ko.unwrap(valueAccessor()));\\n            stringified.subscribe(function(value) {\\n                var val = parseFloat(value);\\n                if (!isNaN(val)) {\\n                    valueAccessor()(val);\\n                }\\n            });\\n            valueAccessor().subscribe(function(value) {\\n                var str = JSON.stringify(value);\\n                if ((str == \\\"0\\\") && ([\\\"-0\\\", \\\"-0.\\\"].indexOf(stringified()) >= 0))\\n                     return;\\n                 if ([\\\"null\\\", \\\"\\\"].indexOf(str) >= 0)\\n                     return;\\n                stringified(str);\\n            });\\n            ko.applyBindingsToNode(\\n                element,\\n                {\\n                    value: stringified,\\n                    valueUpdate: allBindings.get('valueUpdate'),\\n                },\\n                context,\\n            );\\n        }\\n    };\\n    var json_data = {\\\"loading\\\":WebIO.getval({\\\"name\\\":\\\"loading\\\",\\\"scope\\\":\\\"3785921934773877749\\\",\\\"id\\\":\\\"17376490473594588585\\\",\\\"type\\\":\\\"observable\\\"}),\\\"clicks\\\":WebIO.getval({\\\"name\\\":\\\"clicks\\\",\\\"scope\\\":\\\"3785921934773877749\\\",\\\"id\\\":\\\"10659046344338799579\\\",\\\"type\\\":\\\"observable\\\"})};\\n    var self = this;\\n    function AppViewModel() {\\n        for (var key in json_data) {\\n            var el = json_data[key];\\n            this[key] = Array.isArray(el) ? ko.observableArray(el) : ko.observable(el);\\n        }\\n        \\n        \\n        [this[\\\"loading\\\"].subscribe((function (val){!(this.valueFromJulia[\\\"loading\\\"]) ? (WebIO.setval({\\\"name\\\":\\\"loading\\\",\\\"scope\\\":\\\"3785921934773877749\\\",\\\"id\\\":\\\"17376490473594588585\\\",\\\"type\\\":\\\"observable\\\"},val)) : undefined; return this.valueFromJulia[\\\"loading\\\"]=false}),self),this[\\\"clicks\\\"].subscribe((function (val){!(this.valueFromJulia[\\\"clicks\\\"]) ? (WebIO.setval({\\\"name\\\":\\\"clicks\\\",\\\"scope\\\":\\\"3785921934773877749\\\",\\\"id\\\":\\\"10659046344338799579\\\",\\\"type\\\":\\\"observable\\\"},val)) : undefined; return this.valueFromJulia[\\\"clicks\\\"]=false}),self)]\\n        \\n    }\\n    self.model = new AppViewModel();\\n    self.valueFromJulia = {};\\n    for (var key in json_data) {\\n        self.valueFromJulia[key] = false;\\n    }\\n    ko.applyBindings(self.model, self.dom);\\n}\\n);\\n    (WebIO.importBlock({\\\"data\\\":[{\\\"name\\\":\\\"knockout\\\",\\\"type\\\":\\\"js\\\",\\\"url\\\":\\\"/assetserver/727383f2a47bd31570b7da84eee7b022dd6d7c78-knockout.js\\\"},{\\\"name\\\":\\\"knockout_punches\\\",\\\"type\\\":\\\"js\\\",\\\"url\\\":\\\"/assetserver/382b41b3b1bd9f26f75861d360bad7f8beea211f-knockout_punches.js\\\"}],\\\"type\\\":\\\"async_block\\\"})).then((imports) => handler.apply(this, imports));\\n}\\n\")])], Dict{Symbol, Any}(:className => \"field interact-widget\")), WebIO.Node{WebIO.DOM}(WebIO.DOM(:html, :div), Any[WebIO.Scope(WebIO.Node{WebIO.DOM}(WebIO.DOM(:html, :div), Any[], Dict{Symbol, Any}(:id => \"container\")), Dict{String, Tuple{Observables.AbstractObservable, Union{Nothing, Bool}}}(\"value\" => (Observable(\"\\\\;\\\\;\"), nothing)), Set{String}(), nothing, WebIO.Asset[WebIO.Asset(\"js\", nothing, \"/home/dushya/.julia/packages/InteractBase/LJXv3/src/../assets/katex.min.js\"), WebIO.Asset(\"css\", nothing, \"/home/dushya/.julia/packages/InteractBase/LJXv3/src/../assets/katex.min.css\")], Dict{Any, Any}(\"value\" => Any[WebIO.JSString(\"(function (txt){return this.k.render(txt,this.container)})\")]), WebIO.ConnectionPool(Channel{Any}(32), Set{WebIO.AbstractConnection}(), Base.GenericCondition{ReentrantLock}(Base.IntrusiveLinkedList{Task}(Task (runnable) @0x00007f11b6969460, Task (runnable) @0x00007f11b6969460), ReentrantLock(nothing, 0x00000000, 0x00, Base.GenericCondition{Base.Threads.SpinLock}(Base.IntrusiveLinkedList{Task}(nothing, nothing), Base.Threads.SpinLock(0)), (139714713727216, 139714798621760, 0)))), WebIO.JSString[WebIO.JSString(\"function () {\\n    var handler = ((function (k){this.k=k; this.container=this.dom.querySelector(\\\"#container\\\"); return k.render(\\\"\\\\\\\\;\\\\\\\\;\\\",this.container)}));\\n    (WebIO.importBlock({\\\"data\\\":[{\\\"name\\\":null,\\\"type\\\":\\\"js\\\",\\\"url\\\":\\\"/assetserver/dd22ed1bf1896c2748f3fe616ce0b838adc895c1-katex.min.js\\\"},{\\\"name\\\":null,\\\"type\\\":\\\"css\\\",\\\"url\\\":\\\"/assetserver/46517a424aa5e6cffc1360d7e0848b601c584ee3-katex.min.css\\\"}],\\\"type\\\":\\\"async_block\\\"})).then((imports) => handler.apply(this, imports));\\n}\\n\")])], Dict{Symbol, Any}(:className => \"interact-widget\")), WebIO.Node{WebIO.DOM}(WebIO.DOM(:html, :div), Any[WebIO.Scope(WebIO.Node{WebIO.DOM}(WebIO.DOM(:html, :button), Any[\"save\"], Dict{Symbol, Any}(:attributes => Dict{Any, Any}(\"data-bind\" => \"click: function (){this.clicks(this.clicks()+1)}, css: {'is-loading' : loading}\"), :className => \"is-medium button is-primary\", :style => Dict{String, Any}())), Dict{String, Tuple{Observables.AbstractObservable, Union{Nothing, Bool}}}(\"loading\" => (Observable(false), nothing), \"clicks\" => (Observable(0), nothing)), Set{String}(), nothing, WebIO.Asset[WebIO.Asset(\"js\", \"knockout\", \"/home/dushya/.julia/packages/Knockout/HReiN/src/../assets/knockout.js\"), WebIO.Asset(\"js\", \"knockout_punches\", \"/home/dushya/.julia/packages/Knockout/HReiN/src/../assets/knockout_punches.js\"), WebIO.Asset(\"js\", nothing, \"/home/dushya/.julia/packages/InteractBase/LJXv3/src/../assets/all.js\"), WebIO.Asset(\"css\", nothing, \"/home/dushya/.julia/packages/InteractBase/LJXv3/src/../assets/style.css\"), WebIO.Asset(\"css\", nothing, \"/home/dushya/.julia/packages/Interact/PENUy/src/../assets/bulma_confined.min.css\")], Dict{Any, Any}(\"loading\" => Any[WebIO.JSString(\"(function (val){return (val!=this.model[\\\"loading\\\"]()) ? (this.valueFromJulia[\\\"loading\\\"]=true, this.model[\\\"loading\\\"](val)) : undefined})\")], \"clicks\" => Any[WebIO.JSString(\"(function (val){return (val!=this.model[\\\"clicks\\\"]()) ? (this.valueFromJulia[\\\"clicks\\\"]=true, this.model[\\\"clicks\\\"](val)) : undefined})\")]), WebIO.ConnectionPool(Channel{Any}(32), Set{WebIO.AbstractConnection}(), Base.GenericCondition{ReentrantLock}(Base.IntrusiveLinkedList{Task}(Task (runnable) @0x00007f11e9ab3b70, Task (runnable) @0x00007f11e9ab3b70), ReentrantLock(nothing, 0x00000000, 0x00, Base.GenericCondition{Base.Threads.SpinLock}(Base.IntrusiveLinkedList{Task}(nothing, nothing), Base.Threads.SpinLock(0)), (1, 139714798621760, 1)))), WebIO.JSString[WebIO.JSString(\"function () {\\n    var handler = (function (ko, koPunches) {\\n    ko.punches.enableAll();\\n    ko.bindingHandlers.numericValue = {\\n        init: function(element, valueAccessor, allBindings, data, context) {\\n            var stringified = ko.observable(ko.unwrap(valueAccessor()));\\n            stringified.subscribe(function(value) {\\n                var val = parseFloat(value);\\n                if (!isNaN(val)) {\\n                    valueAccessor()(val);\\n                }\\n            });\\n            valueAccessor().subscribe(function(value) {\\n                var str = JSON.stringify(value);\\n                if ((str == \\\"0\\\") && ([\\\"-0\\\", \\\"-0.\\\"].indexOf(stringified()) >= 0))\\n                     return;\\n                 if ([\\\"null\\\", \\\"\\\"].indexOf(str) >= 0)\\n                     return;\\n                stringified(str);\\n            });\\n            ko.applyBindingsToNode(\\n                element,\\n                {\\n                    value: stringified,\\n                    valueUpdate: allBindings.get('valueUpdate'),\\n                },\\n                context,\\n            );\\n        }\\n    };\\n    var json_data = {\\\"loading\\\":WebIO.getval({\\\"name\\\":\\\"loading\\\",\\\"scope\\\":\\\"9265408616907984050\\\",\\\"id\\\":\\\"13207220549675278170\\\",\\\"type\\\":\\\"observable\\\"}),\\\"clicks\\\":WebIO.getval({\\\"name\\\":\\\"clicks\\\",\\\"scope\\\":\\\"9265408616907984050\\\",\\\"id\\\":\\\"11848683111808335726\\\",\\\"type\\\":\\\"observable\\\"})};\\n    var self = this;\\n    function AppViewModel() {\\n        for (var key in json_data) {\\n            var el = json_data[key];\\n            this[key] = Array.isArray(el) ? ko.observableArray(el) : ko.observable(el);\\n        }\\n        \\n        \\n        [this[\\\"loading\\\"].subscribe((function (val){!(this.valueFromJulia[\\\"loading\\\"]) ? (WebIO.setval({\\\"name\\\":\\\"loading\\\",\\\"scope\\\":\\\"9265408616907984050\\\",\\\"id\\\":\\\"13207220549675278170\\\",\\\"type\\\":\\\"observable\\\"},val)) : undefined; return this.valueFromJulia[\\\"loading\\\"]=false}),self),this[\\\"clicks\\\"].subscribe((function (val){!(this.valueFromJulia[\\\"clicks\\\"]) ? (WebIO.setval({\\\"name\\\":\\\"clicks\\\",\\\"scope\\\":\\\"9265408616907984050\\\",\\\"id\\\":\\\"11848683111808335726\\\",\\\"type\\\":\\\"observable\\\"},val)) : undefined; return this.valueFromJulia[\\\"clicks\\\"]=false}),self)]\\n        \\n    }\\n    self.model = new AppViewModel();\\n    self.valueFromJulia = {};\\n    for (var key in json_data) {\\n        self.valueFromJulia[key] = false;\\n    }\\n    ko.applyBindings(self.model, self.dom);\\n}\\n);\\n    (WebIO.importBlock({\\\"data\\\":[{\\\"name\\\":\\\"knockout\\\",\\\"type\\\":\\\"js\\\",\\\"url\\\":\\\"/assetserver/727383f2a47bd31570b7da84eee7b022dd6d7c78-knockout.js\\\"},{\\\"name\\\":\\\"knockout_punches\\\",\\\"type\\\":\\\"js\\\",\\\"url\\\":\\\"/assetserver/382b41b3b1bd9f26f75861d360bad7f8beea211f-knockout_punches.js\\\"}],\\\"type\\\":\\\"async_block\\\"})).then((imports) => handler.apply(this, imports));\\n}\\n\")])], Dict{Symbol, Any}(:className => \"field interact-widget\"))], Dict{Symbol, Any}(:style => Dict(\"display\" => \"flex\", \"flex-direction\" => \"row\")))], Dict{Symbol, Any}(:style => Dict(\"display\" => \"flex\", \"flex-direction\" => \"column\"))), WebIO.Node{WebIO.DOM}(WebIO.DOM(:html, :div), Any[WebIO.Scope(WebIO.Node{WebIO.DOM}(WebIO.DOM(:html, :div), Any[], Dict{Symbol, Any}(:id => \"container\")), Dict{String, Tuple{Observables.AbstractObservable, Union{Nothing, Bool}}}(\"value\" => (Observable(\"\\\\;\\\\;\"), nothing)), Set{String}(), nothing, WebIO.Asset[WebIO.Asset(\"js\", nothing, \"/home/dushya/.julia/packages/InteractBase/LJXv3/src/../assets/katex.min.js\"), WebIO.Asset(\"css\", nothing, \"/home/dushya/.julia/packages/InteractBase/LJXv3/src/../assets/katex.min.css\")], Dict{Any, Any}(\"value\" => Any[WebIO.JSString(\"(function (txt){return this.k.render(txt,this.container)})\")]), WebIO.ConnectionPool(Channel{Any}(32), Set{WebIO.AbstractConnection}(), Base.GenericCondition{ReentrantLock}(Base.IntrusiveLinkedList{Task}(Task (runnable) @0x00007f11b6969460, Task (runnable) @0x00007f11b6969460), ReentrantLock(nothing, 0x00000000, 0x00, Base.GenericCondition{Base.Threads.SpinLock}(Base.IntrusiveLinkedList{Task}(nothing, nothing), Base.Threads.SpinLock(0)), (139714713727216, 139714798621760, 0)))), WebIO.JSString[WebIO.JSString(\"function () {\\n    var handler = ((function (k){this.k=k; this.container=this.dom.querySelector(\\\"#container\\\"); return k.render(\\\"\\\\\\\\;\\\\\\\\;\\\",this.container)}));\\n    (WebIO.importBlock({\\\"data\\\":[{\\\"name\\\":null,\\\"type\\\":\\\"js\\\",\\\"url\\\":\\\"/assetserver/dd22ed1bf1896c2748f3fe616ce0b838adc895c1-katex.min.js\\\"},{\\\"name\\\":null,\\\"type\\\":\\\"css\\\",\\\"url\\\":\\\"/assetserver/46517a424aa5e6cffc1360d7e0848b601c584ee3-katex.min.css\\\"}],\\\"type\\\":\\\"async_block\\\"})).then((imports) => handler.apply(this, imports));\\n}\\n\")])], Dict{Symbol, Any}(:className => \"interact-widget\")), Observable(Luxor.Drawing(430.0, 430.0, \"\", Cairo.CairoSurfaceBase{UInt32}(Ptr{Nothing} @0x0000000000000000, 430.0, 430.0), Cairo.CairoContext(Ptr{Nothing} @0x00000000043355e0, Cairo.CairoSurfaceBase{UInt32}(Ptr{Nothing} @0x0000000000000000, 430.0, 430.0), Ptr{Nothing} @0x0000000003c51010), :png, 0.5, 0.5, 0.5, 0.5, IOBuffer(data=UInt8[...], readable=true, writable=true, seekable=true, append=false, size=2319, maxsize=Inf, ptr=2320, mark=-1), UInt8[0x89, 0x50, 0x4e, 0x47, 0x0d, 0x0a, 0x1a, 0x0a, 0x00, 0x00  …  0x00, 0x00, 0x49, 0x45, 0x4e, 0x44, 0xae, 0x42, 0x60, 0x82], false)), WebIO.Node{WebIO.DOM}(WebIO.DOM(:html, :div), Any[WebIO.Scope(WebIO.Node{WebIO.DOM}(WebIO.DOM(:html, :div), Any[], Dict{Symbol, Any}(:id => \"container\")), Dict{String, Tuple{Observables.AbstractObservable, Union{Nothing, Bool}}}(\"value\" => (Observable(\"\\\\;\\\\;\"), nothing)), Set{String}(), nothing, WebIO.Asset[WebIO.Asset(\"js\", nothing, \"/home/dushya/.julia/packages/InteractBase/LJXv3/src/../assets/katex.min.js\"), WebIO.Asset(\"css\", nothing, \"/home/dushya/.julia/packages/InteractBase/LJXv3/src/../assets/katex.min.css\")], Dict{Any, Any}(\"value\" => Any[WebIO.JSString(\"(function (txt){return this.k.render(txt,this.container)})\")]), WebIO.ConnectionPool(Channel{Any}(32), Set{WebIO.AbstractConnection}(), Base.GenericCondition{ReentrantLock}(Base.IntrusiveLinkedList{Task}(Task (runnable) @0x00007f11b6969460, Task (runnable) @0x00007f11b6969460), ReentrantLock(nothing, 0x00000000, 0x00, Base.GenericCondition{Base.Threads.SpinLock}(Base.IntrusiveLinkedList{Task}(nothing, nothing), Base.Threads.SpinLock(0)), (139714713727216, 139714798621760, 0)))), WebIO.JSString[WebIO.JSString(\"function () {\\n    var handler = ((function (k){this.k=k; this.container=this.dom.querySelector(\\\"#container\\\"); return k.render(\\\"\\\\\\\\;\\\\\\\\;\\\",this.container)}));\\n    (WebIO.importBlock({\\\"data\\\":[{\\\"name\\\":null,\\\"type\\\":\\\"js\\\",\\\"url\\\":\\\"/assetserver/dd22ed1bf1896c2748f3fe616ce0b838adc895c1-katex.min.js\\\"},{\\\"name\\\":null,\\\"type\\\":\\\"css\\\",\\\"url\\\":\\\"/assetserver/46517a424aa5e6cffc1360d7e0848b601c584ee3-katex.min.css\\\"}],\\\"type\\\":\\\"async_block\\\"})).then((imports) => handler.apply(this, imports));\\n}\\n\")])], Dict{Symbol, Any}(:className => \"interact-widget\")), WebIO.Node{WebIO.DOM}(WebIO.DOM(:html, :div), Any[], Dict{Symbol, Any}(:style => Dict(\"display\" => \"flex\", \"flex-direction\" => \"column\")))], Dict{Symbol, Any}(:style => Dict(\"display\" => \"flex\", \"flex-direction\" => \"row\")))], Dict{Symbol, Any}(:style => Dict(\"display\" => \"flex\", \"flex-direction\" => \"column\")))"
      ]
     },
     "execution_count": 6,
     "metadata": {
      "application/vnd.webio.node+json": {
       "kernelId": "3fdd8fc6-43ce-4dfa-aceb-ece79a5e55f8"
      }
     },
     "output_type": "execute_result"
    }
   ],
   "source": [
    "animate_sim(model, show_patches=true)"
   ]
  },
  {
   "cell_type": "markdown",
   "metadata": {},
   "source": [
    "After defining the `step_rule!` function we can also choose to create an interactive application (which currently works in Jupyter with WebIO installation) as "
   ]
  },
  {
   "cell_type": "code",
   "execution_count": 7,
   "metadata": {},
   "outputs": [
    {
     "data": {
      "application/vnd.webio.node+json": {
       "children": [
        {
         "children": [
          {
           "children": [
            {
             "children": [
              {
               "children": [
                {
                 "children": [
                  {
                   "children": [
                    {
                     "children": [
                      "time"
                     ],
                     "instanceArgs": {
                      "namespace": "html",
                      "tag": "label"
                     },
                     "nodeType": "DOM",
                     "props": {
                      "className": "interact ",
                      "style": {
                       "padding": "5px 10px 0px 10px"
                      }
                     },
                     "type": "node"
                    }
                   ],
                   "instanceArgs": {
                    "namespace": "html",
                    "tag": "div"
                   },
                   "nodeType": "DOM",
                   "props": {
                    "className": "interact-flex-row-left"
                   },
                   "type": "node"
                  },
                  {
                   "children": [
                    {
                     "children": [],
                     "instanceArgs": {
                      "namespace": "html",
                      "tag": "input"
                     },
                     "nodeType": "DOM",
                     "props": {
                      "attributes": {
                       "data-bind": "numericValue: index, valueUpdate: 'input', event: {change: function (){this.changes(this.changes()+1)}}",
                       "orient": "horizontal",
                       "type": "range"
                      },
                      "className": "slider slider is-fullwidth",
                      "max": 200,
                      "min": 1,
                      "step": 1,
                      "style": {}
                     },
                     "type": "node"
                    }
                   ],
                   "instanceArgs": {
                    "namespace": "html",
                    "tag": "div"
                   },
                   "nodeType": "DOM",
                   "props": {
                    "className": "interact-flex-row-center"
                   },
                   "type": "node"
                  },
                  {
                   "children": [
                    {
                     "children": [],
                     "instanceArgs": {
                      "namespace": "html",
                      "tag": "p"
                     },
                     "nodeType": "DOM",
                     "props": {
                      "attributes": {
                       "data-bind": "text: formatted_val"
                      }
                     },
                     "type": "node"
                    }
                   ],
                   "instanceArgs": {
                    "namespace": "html",
                    "tag": "div"
                   },
                   "nodeType": "DOM",
                   "props": {
                    "className": "interact-flex-row-right"
                   },
                   "type": "node"
                  }
                 ],
                 "instanceArgs": {
                  "namespace": "html",
                  "tag": "div"
                 },
                 "nodeType": "DOM",
                 "props": {
                  "className": "interact-flex-row interact-widget"
                 },
                 "type": "node"
                }
               ],
               "instanceArgs": {
                "handlers": {
                 "changes": [
                  "(function (val){return (val!=this.model[\"changes\"]()) ? (this.valueFromJulia[\"changes\"]=true, this.model[\"changes\"](val)) : undefined})"
                 ],
                 "index": [
                  "(function (val){return (val!=this.model[\"index\"]()) ? (this.valueFromJulia[\"index\"]=true, this.model[\"index\"](val)) : undefined})"
                 ]
                },
                "id": "13929540055898980135",
                "imports": {
                 "data": [
                  {
                   "name": "knockout",
                   "type": "js",
                   "url": "/assetserver/727383f2a47bd31570b7da84eee7b022dd6d7c78-knockout.js"
                  },
                  {
                   "name": "knockout_punches",
                   "type": "js",
                   "url": "/assetserver/382b41b3b1bd9f26f75861d360bad7f8beea211f-knockout_punches.js"
                  },
                  {
                   "name": null,
                   "type": "js",
                   "url": "/assetserver/5ab20f1060420992a9b82a65b735dee4d81ef413-all.js"
                  },
                  {
                   "name": null,
                   "type": "css",
                   "url": "/assetserver/1cc0ed62837210b80a182cc3676512f895dab686-style.css"
                  },
                  {
                   "name": null,
                   "type": "css",
                   "url": "/assetserver/2eee816f616df3549d7044d45e744fbf8d42bfa1-bulma_confined.min.css"
                  }
                 ],
                 "type": "async_block"
                },
                "mount_callbacks": [
                 "function () {\n    var handler = (function (ko, koPunches) {\n    ko.punches.enableAll();\n    ko.bindingHandlers.numericValue = {\n        init: function(element, valueAccessor, allBindings, data, context) {\n            var stringified = ko.observable(ko.unwrap(valueAccessor()));\n            stringified.subscribe(function(value) {\n                var val = parseFloat(value);\n                if (!isNaN(val)) {\n                    valueAccessor()(val);\n                }\n            });\n            valueAccessor().subscribe(function(value) {\n                var str = JSON.stringify(value);\n                if ((str == \"0\") && ([\"-0\", \"-0.\"].indexOf(stringified()) >= 0))\n                     return;\n                 if ([\"null\", \"\"].indexOf(str) >= 0)\n                     return;\n                stringified(str);\n            });\n            ko.applyBindingsToNode(\n                element,\n                {\n                    value: stringified,\n                    valueUpdate: allBindings.get('valueUpdate'),\n                },\n                context,\n            );\n        }\n    };\n    var json_data = {\"formatted_vals\":[\"1\",\"2\",\"3\",\"4\",\"5\",\"6\",\"7\",\"8\",\"9\",\"10\",\"11\",\"12\",\"13\",\"14\",\"15\",\"16\",\"17\",\"18\",\"19\",\"20\",\"21\",\"22\",\"23\",\"24\",\"25\",\"26\",\"27\",\"28\",\"29\",\"30\",\"31\",\"32\",\"33\",\"34\",\"35\",\"36\",\"37\",\"38\",\"39\",\"40\",\"41\",\"42\",\"43\",\"44\",\"45\",\"46\",\"47\",\"48\",\"49\",\"50\",\"51\",\"52\",\"53\",\"54\",\"55\",\"56\",\"57\",\"58\",\"59\",\"60\",\"61\",\"62\",\"63\",\"64\",\"65\",\"66\",\"67\",\"68\",\"69\",\"70\",\"71\",\"72\",\"73\",\"74\",\"75\",\"76\",\"77\",\"78\",\"79\",\"80\",\"81\",\"82\",\"83\",\"84\",\"85\",\"86\",\"87\",\"88\",\"89\",\"90\",\"91\",\"92\",\"93\",\"94\",\"95\",\"96\",\"97\",\"98\",\"99\",\"100\",\"101\",\"102\",\"103\",\"104\",\"105\",\"106\",\"107\",\"108\",\"109\",\"110\",\"111\",\"112\",\"113\",\"114\",\"115\",\"116\",\"117\",\"118\",\"119\",\"120\",\"121\",\"122\",\"123\",\"124\",\"125\",\"126\",\"127\",\"128\",\"129\",\"130\",\"131\",\"132\",\"133\",\"134\",\"135\",\"136\",\"137\",\"138\",\"139\",\"140\",\"141\",\"142\",\"143\",\"144\",\"145\",\"146\",\"147\",\"148\",\"149\",\"150\",\"151\",\"152\",\"153\",\"154\",\"155\",\"156\",\"157\",\"158\",\"159\",\"160\",\"161\",\"162\",\"163\",\"164\",\"165\",\"166\",\"167\",\"168\",\"169\",\"170\",\"171\",\"172\",\"173\",\"174\",\"175\",\"176\",\"177\",\"178\",\"179\",\"180\",\"181\",\"182\",\"183\",\"184\",\"185\",\"186\",\"187\",\"188\",\"189\",\"190\",\"191\",\"192\",\"193\",\"194\",\"195\",\"196\",\"197\",\"198\",\"199\",\"200\"],\"changes\":WebIO.getval({\"name\":\"changes\",\"scope\":\"13929540055898980135\",\"id\":\"4126274384684236316\",\"type\":\"observable\"}),\"index\":WebIO.getval({\"name\":\"index\",\"scope\":\"13929540055898980135\",\"id\":\"8925349742571500128\",\"type\":\"observable\"})};\n    var self = this;\n    function AppViewModel() {\n        for (var key in json_data) {\n            var el = json_data[key];\n            this[key] = Array.isArray(el) ? ko.observableArray(el) : ko.observable(el);\n        }\n        \n        [this[\"formatted_val\"]=ko.computed(    function(){\n        return this.formatted_vals()[parseInt(this.index())-(1)];\n    }\n,this)]\n        [this[\"changes\"].subscribe((function (val){!(this.valueFromJulia[\"changes\"]) ? (WebIO.setval({\"name\":\"changes\",\"scope\":\"13929540055898980135\",\"id\":\"4126274384684236316\",\"type\":\"observable\"},val)) : undefined; return this.valueFromJulia[\"changes\"]=false}),self),this[\"index\"].subscribe((function (val){!(this.valueFromJulia[\"index\"]) ? (WebIO.setval({\"name\":\"index\",\"scope\":\"13929540055898980135\",\"id\":\"8925349742571500128\",\"type\":\"observable\"},val)) : undefined; return this.valueFromJulia[\"index\"]=false}),self)]\n        \n    }\n    self.model = new AppViewModel();\n    self.valueFromJulia = {};\n    for (var key in json_data) {\n        self.valueFromJulia[key] = false;\n    }\n    ko.applyBindings(self.model, self.dom);\n}\n);\n    (WebIO.importBlock({\"data\":[{\"name\":\"knockout\",\"type\":\"js\",\"url\":\"/assetserver/727383f2a47bd31570b7da84eee7b022dd6d7c78-knockout.js\"},{\"name\":\"knockout_punches\",\"type\":\"js\",\"url\":\"/assetserver/382b41b3b1bd9f26f75861d360bad7f8beea211f-knockout_punches.js\"}],\"type\":\"async_block\"})).then((imports) => handler.apply(this, imports));\n}\n"
                ],
                "observables": {
                 "changes": {
                  "id": "4126274384684236316",
                  "sync": false,
                  "value": 0
                 },
                 "index": {
                  "id": "8925349742571500128",
                  "sync": true,
                  "value": 1
                 }
                },
                "systemjs_options": null
               },
               "nodeType": "Scope",
               "props": {},
               "type": "node"
              }
             ],
             "instanceArgs": {
              "namespace": "html",
              "tag": "div"
             },
             "nodeType": "DOM",
             "props": {
              "className": "field interact-widget"
             },
             "type": "node"
            },
            {
             "children": [
              {
               "children": [
                {
                 "children": [
                  {
                   "children": [
                    {
                     "children": [
                      "scale"
                     ],
                     "instanceArgs": {
                      "namespace": "html",
                      "tag": "label"
                     },
                     "nodeType": "DOM",
                     "props": {
                      "className": "interact ",
                      "style": {
                       "padding": "5px 10px 0px 10px"
                      }
                     },
                     "type": "node"
                    }
                   ],
                   "instanceArgs": {
                    "namespace": "html",
                    "tag": "div"
                   },
                   "nodeType": "DOM",
                   "props": {
                    "className": "interact-flex-row-left"
                   },
                   "type": "node"
                  },
                  {
                   "children": [
                    {
                     "children": [],
                     "instanceArgs": {
                      "namespace": "html",
                      "tag": "input"
                     },
                     "nodeType": "DOM",
                     "props": {
                      "attributes": {
                       "data-bind": "numericValue: index, valueUpdate: 'input', event: {change: function (){this.changes(this.changes()+1)}}",
                       "orient": "horizontal",
                       "type": "range"
                      },
                      "className": "slider slider is-fullwidth",
                      "max": 20,
                      "min": 1,
                      "step": 1,
                      "style": {}
                     },
                     "type": "node"
                    }
                   ],
                   "instanceArgs": {
                    "namespace": "html",
                    "tag": "div"
                   },
                   "nodeType": "DOM",
                   "props": {
                    "className": "interact-flex-row-center"
                   },
                   "type": "node"
                  },
                  {
                   "children": [
                    {
                     "children": [],
                     "instanceArgs": {
                      "namespace": "html",
                      "tag": "p"
                     },
                     "nodeType": "DOM",
                     "props": {
                      "attributes": {
                       "data-bind": "text: formatted_val"
                      }
                     },
                     "type": "node"
                    }
                   ],
                   "instanceArgs": {
                    "namespace": "html",
                    "tag": "div"
                   },
                   "nodeType": "DOM",
                   "props": {
                    "className": "interact-flex-row-right"
                   },
                   "type": "node"
                  }
                 ],
                 "instanceArgs": {
                  "namespace": "html",
                  "tag": "div"
                 },
                 "nodeType": "DOM",
                 "props": {
                  "className": "interact-flex-row interact-widget"
                 },
                 "type": "node"
                }
               ],
               "instanceArgs": {
                "handlers": {
                 "changes": [
                  "(function (val){return (val!=this.model[\"changes\"]()) ? (this.valueFromJulia[\"changes\"]=true, this.model[\"changes\"](val)) : undefined})"
                 ],
                 "index": [
                  "(function (val){return (val!=this.model[\"index\"]()) ? (this.valueFromJulia[\"index\"]=true, this.model[\"index\"](val)) : undefined})"
                 ]
                },
                "id": "4098630680547849542",
                "imports": {
                 "data": [
                  {
                   "name": "knockout",
                   "type": "js",
                   "url": "/assetserver/727383f2a47bd31570b7da84eee7b022dd6d7c78-knockout.js"
                  },
                  {
                   "name": "knockout_punches",
                   "type": "js",
                   "url": "/assetserver/382b41b3b1bd9f26f75861d360bad7f8beea211f-knockout_punches.js"
                  },
                  {
                   "name": null,
                   "type": "js",
                   "url": "/assetserver/5ab20f1060420992a9b82a65b735dee4d81ef413-all.js"
                  },
                  {
                   "name": null,
                   "type": "css",
                   "url": "/assetserver/1cc0ed62837210b80a182cc3676512f895dab686-style.css"
                  },
                  {
                   "name": null,
                   "type": "css",
                   "url": "/assetserver/2eee816f616df3549d7044d45e744fbf8d42bfa1-bulma_confined.min.css"
                  }
                 ],
                 "type": "async_block"
                },
                "mount_callbacks": [
                 "function () {\n    var handler = (function (ko, koPunches) {\n    ko.punches.enableAll();\n    ko.bindingHandlers.numericValue = {\n        init: function(element, valueAccessor, allBindings, data, context) {\n            var stringified = ko.observable(ko.unwrap(valueAccessor()));\n            stringified.subscribe(function(value) {\n                var val = parseFloat(value);\n                if (!isNaN(val)) {\n                    valueAccessor()(val);\n                }\n            });\n            valueAccessor().subscribe(function(value) {\n                var str = JSON.stringify(value);\n                if ((str == \"0\") && ([\"-0\", \"-0.\"].indexOf(stringified()) >= 0))\n                     return;\n                 if ([\"null\", \"\"].indexOf(str) >= 0)\n                     return;\n                stringified(str);\n            });\n            ko.applyBindingsToNode(\n                element,\n                {\n                    value: stringified,\n                    valueUpdate: allBindings.get('valueUpdate'),\n                },\n                context,\n            );\n        }\n    };\n    var json_data = {\"formatted_vals\":[\"0.1\",\"0.2\",\"0.3\",\"0.4\",\"0.5\",\"0.6\",\"0.7\",\"0.8\",\"0.9\",\"1.0\",\"1.1\",\"1.2\",\"1.3\",\"1.4\",\"1.5\",\"1.6\",\"1.7\",\"1.8\",\"1.9\",\"2.0\"],\"changes\":WebIO.getval({\"name\":\"changes\",\"scope\":\"4098630680547849542\",\"id\":\"9922395135587663537\",\"type\":\"observable\"}),\"index\":WebIO.getval({\"name\":\"index\",\"scope\":\"4098630680547849542\",\"id\":\"2127553864422558442\",\"type\":\"observable\"})};\n    var self = this;\n    function AppViewModel() {\n        for (var key in json_data) {\n            var el = json_data[key];\n            this[key] = Array.isArray(el) ? ko.observableArray(el) : ko.observable(el);\n        }\n        \n        [this[\"formatted_val\"]=ko.computed(    function(){\n        return this.formatted_vals()[parseInt(this.index())-(1)];\n    }\n,this)]\n        [this[\"changes\"].subscribe((function (val){!(this.valueFromJulia[\"changes\"]) ? (WebIO.setval({\"name\":\"changes\",\"scope\":\"4098630680547849542\",\"id\":\"9922395135587663537\",\"type\":\"observable\"},val)) : undefined; return this.valueFromJulia[\"changes\"]=false}),self),this[\"index\"].subscribe((function (val){!(this.valueFromJulia[\"index\"]) ? (WebIO.setval({\"name\":\"index\",\"scope\":\"4098630680547849542\",\"id\":\"2127553864422558442\",\"type\":\"observable\"},val)) : undefined; return this.valueFromJulia[\"index\"]=false}),self)]\n        \n    }\n    self.model = new AppViewModel();\n    self.valueFromJulia = {};\n    for (var key in json_data) {\n        self.valueFromJulia[key] = false;\n    }\n    ko.applyBindings(self.model, self.dom);\n}\n);\n    (WebIO.importBlock({\"data\":[{\"name\":\"knockout\",\"type\":\"js\",\"url\":\"/assetserver/727383f2a47bd31570b7da84eee7b022dd6d7c78-knockout.js\"},{\"name\":\"knockout_punches\",\"type\":\"js\",\"url\":\"/assetserver/382b41b3b1bd9f26f75861d360bad7f8beea211f-knockout_punches.js\"}],\"type\":\"async_block\"})).then((imports) => handler.apply(this, imports));\n}\n"
                ],
                "observables": {
                 "changes": {
                  "id": "9922395135587663537",
                  "sync": false,
                  "value": 0
                 },
                 "index": {
                  "id": "2127553864422558442",
                  "sync": true,
                  "value": 10
                 }
                },
                "systemjs_options": null
               },
               "nodeType": "Scope",
               "props": {},
               "type": "node"
              }
             ],
             "instanceArgs": {
              "namespace": "html",
              "tag": "div"
             },
             "nodeType": "DOM",
             "props": {
              "className": "field interact-widget"
             },
             "type": "node"
            },
            {
             "children": [],
             "instanceArgs": {
              "namespace": "html",
              "tag": "div"
             },
             "nodeType": "DOM",
             "props": {
              "style": {
               "display": "flex",
               "flex-direction": "column"
              }
             },
             "type": "node"
            },
            {
             "children": [
              {
               "children": [
                {
                 "children": [
                  {
                   "children": [
                    {
                     "children": [
                      {
                       "children": [
                        "alive_percent"
                       ],
                       "instanceArgs": {
                        "namespace": "html",
                        "tag": "label"
                       },
                       "nodeType": "DOM",
                       "props": {
                        "className": "interact ",
                        "style": {
                         "padding": "5px 10px 0px 10px"
                        }
                       },
                       "type": "node"
                      }
                     ],
                     "instanceArgs": {
                      "namespace": "html",
                      "tag": "div"
                     },
                     "nodeType": "DOM",
                     "props": {
                      "className": "interact-flex-row-left"
                     },
                     "type": "node"
                    },
                    {
                     "children": [
                      {
                       "children": [],
                       "instanceArgs": {
                        "namespace": "html",
                        "tag": "input"
                       },
                       "nodeType": "DOM",
                       "props": {
                        "attributes": {
                         "data-bind": "numericValue: index, valueUpdate: 'input', event: {change: function (){this.changes(this.changes()+1)}}",
                         "orient": "horizontal",
                         "type": "range"
                        },
                        "className": "slider slider is-fullwidth",
                        "max": 101,
                        "min": 1,
                        "step": 1,
                        "style": {}
                       },
                       "type": "node"
                      }
                     ],
                     "instanceArgs": {
                      "namespace": "html",
                      "tag": "div"
                     },
                     "nodeType": "DOM",
                     "props": {
                      "className": "interact-flex-row-center"
                     },
                     "type": "node"
                    },
                    {
                     "children": [
                      {
                       "children": [],
                       "instanceArgs": {
                        "namespace": "html",
                        "tag": "p"
                       },
                       "nodeType": "DOM",
                       "props": {
                        "attributes": {
                         "data-bind": "text: formatted_val"
                        }
                       },
                       "type": "node"
                      }
                     ],
                     "instanceArgs": {
                      "namespace": "html",
                      "tag": "div"
                     },
                     "nodeType": "DOM",
                     "props": {
                      "className": "interact-flex-row-right"
                     },
                     "type": "node"
                    }
                   ],
                   "instanceArgs": {
                    "namespace": "html",
                    "tag": "div"
                   },
                   "nodeType": "DOM",
                   "props": {
                    "className": "interact-flex-row interact-widget"
                   },
                   "type": "node"
                  }
                 ],
                 "instanceArgs": {
                  "handlers": {
                   "changes": [
                    "(function (val){return (val!=this.model[\"changes\"]()) ? (this.valueFromJulia[\"changes\"]=true, this.model[\"changes\"](val)) : undefined})"
                   ],
                   "index": [
                    "(function (val){return (val!=this.model[\"index\"]()) ? (this.valueFromJulia[\"index\"]=true, this.model[\"index\"](val)) : undefined})"
                   ]
                  },
                  "id": "8757623566880724266",
                  "imports": {
                   "data": [
                    {
                     "name": "knockout",
                     "type": "js",
                     "url": "/assetserver/727383f2a47bd31570b7da84eee7b022dd6d7c78-knockout.js"
                    },
                    {
                     "name": "knockout_punches",
                     "type": "js",
                     "url": "/assetserver/382b41b3b1bd9f26f75861d360bad7f8beea211f-knockout_punches.js"
                    },
                    {
                     "name": null,
                     "type": "js",
                     "url": "/assetserver/5ab20f1060420992a9b82a65b735dee4d81ef413-all.js"
                    },
                    {
                     "name": null,
                     "type": "css",
                     "url": "/assetserver/1cc0ed62837210b80a182cc3676512f895dab686-style.css"
                    },
                    {
                     "name": null,
                     "type": "css",
                     "url": "/assetserver/2eee816f616df3549d7044d45e744fbf8d42bfa1-bulma_confined.min.css"
                    }
                   ],
                   "type": "async_block"
                  },
                  "mount_callbacks": [
                   "function () {\n    var handler = (function (ko, koPunches) {\n    ko.punches.enableAll();\n    ko.bindingHandlers.numericValue = {\n        init: function(element, valueAccessor, allBindings, data, context) {\n            var stringified = ko.observable(ko.unwrap(valueAccessor()));\n            stringified.subscribe(function(value) {\n                var val = parseFloat(value);\n                if (!isNaN(val)) {\n                    valueAccessor()(val);\n                }\n            });\n            valueAccessor().subscribe(function(value) {\n                var str = JSON.stringify(value);\n                if ((str == \"0\") && ([\"-0\", \"-0.\"].indexOf(stringified()) >= 0))\n                     return;\n                 if ([\"null\", \"\"].indexOf(str) >= 0)\n                     return;\n                stringified(str);\n            });\n            ko.applyBindingsToNode(\n                element,\n                {\n                    value: stringified,\n                    valueUpdate: allBindings.get('valueUpdate'),\n                },\n                context,\n            );\n        }\n    };\n    var json_data = {\"formatted_vals\":[\"0.0\",\"0.01\",\"0.02\",\"0.03\",\"0.04\",\"0.05\",\"0.06\",\"0.07\",\"0.08\",\"0.09\",\"0.1\",\"0.11\",\"0.12\",\"0.13\",\"0.14\",\"0.15\",\"0.16\",\"0.17\",\"0.18\",\"0.19\",\"0.2\",\"0.21\",\"0.22\",\"0.23\",\"0.24\",\"0.25\",\"0.26\",\"0.27\",\"0.28\",\"0.29\",\"0.3\",\"0.31\",\"0.32\",\"0.33\",\"0.34\",\"0.35\",\"0.36\",\"0.37\",\"0.38\",\"0.39\",\"0.4\",\"0.41\",\"0.42\",\"0.43\",\"0.44\",\"0.45\",\"0.46\",\"0.47\",\"0.48\",\"0.49\",\"0.5\",\"0.51\",\"0.52\",\"0.53\",\"0.54\",\"0.55\",\"0.56\",\"0.57\",\"0.58\",\"0.59\",\"0.6\",\"0.61\",\"0.62\",\"0.63\",\"0.64\",\"0.65\",\"0.66\",\"0.67\",\"0.68\",\"0.69\",\"0.7\",\"0.71\",\"0.72\",\"0.73\",\"0.74\",\"0.75\",\"0.76\",\"0.77\",\"0.78\",\"0.79\",\"0.8\",\"0.81\",\"0.82\",\"0.83\",\"0.84\",\"0.85\",\"0.86\",\"0.87\",\"0.88\",\"0.89\",\"0.9\",\"0.91\",\"0.92\",\"0.93\",\"0.94\",\"0.95\",\"0.96\",\"0.97\",\"0.98\",\"0.99\",\"1.0\"],\"changes\":WebIO.getval({\"name\":\"changes\",\"scope\":\"8757623566880724266\",\"id\":\"10435363678651030749\",\"type\":\"observable\"}),\"index\":WebIO.getval({\"name\":\"index\",\"scope\":\"8757623566880724266\",\"id\":\"5415885749527549360\",\"type\":\"observable\"})};\n    var self = this;\n    function AppViewModel() {\n        for (var key in json_data) {\n            var el = json_data[key];\n            this[key] = Array.isArray(el) ? ko.observableArray(el) : ko.observable(el);\n        }\n        \n        [this[\"formatted_val\"]=ko.computed(    function(){\n        return this.formatted_vals()[parseInt(this.index())-(1)];\n    }\n,this)]\n        [this[\"changes\"].subscribe((function (val){!(this.valueFromJulia[\"changes\"]) ? (WebIO.setval({\"name\":\"changes\",\"scope\":\"8757623566880724266\",\"id\":\"10435363678651030749\",\"type\":\"observable\"},val)) : undefined; return this.valueFromJulia[\"changes\"]=false}),self),this[\"index\"].subscribe((function (val){!(this.valueFromJulia[\"index\"]) ? (WebIO.setval({\"name\":\"index\",\"scope\":\"8757623566880724266\",\"id\":\"5415885749527549360\",\"type\":\"observable\"},val)) : undefined; return this.valueFromJulia[\"index\"]=false}),self)]\n        \n    }\n    self.model = new AppViewModel();\n    self.valueFromJulia = {};\n    for (var key in json_data) {\n        self.valueFromJulia[key] = false;\n    }\n    ko.applyBindings(self.model, self.dom);\n}\n);\n    (WebIO.importBlock({\"data\":[{\"name\":\"knockout\",\"type\":\"js\",\"url\":\"/assetserver/727383f2a47bd31570b7da84eee7b022dd6d7c78-knockout.js\"},{\"name\":\"knockout_punches\",\"type\":\"js\",\"url\":\"/assetserver/382b41b3b1bd9f26f75861d360bad7f8beea211f-knockout_punches.js\"}],\"type\":\"async_block\"})).then((imports) => handler.apply(this, imports));\n}\n"
                  ],
                  "observables": {
                   "changes": {
                    "id": "10435363678651030749",
                    "sync": false,
                    "value": 0
                   },
                   "index": {
                    "id": "5415885749527549360",
                    "sync": true,
                    "value": 51
                   }
                  },
                  "systemjs_options": null
                 },
                 "nodeType": "Scope",
                 "props": {},
                 "type": "node"
                }
               ],
               "instanceArgs": {
                "namespace": "html",
                "tag": "div"
               },
               "nodeType": "DOM",
               "props": {
                "className": "field interact-widget"
               },
               "type": "node"
              }
             ],
             "instanceArgs": {
              "namespace": "html",
              "tag": "div"
             },
             "nodeType": "DOM",
             "props": {
              "style": {
               "display": "flex",
               "flex-direction": "column"
              }
             },
             "type": "node"
            },
            {
             "children": [
              {
               "children": [
                {
                 "children": [
                  {
                   "children": [],
                   "instanceArgs": {
                    "namespace": "html",
                    "tag": "div"
                   },
                   "nodeType": "DOM",
                   "props": {
                    "id": "container"
                   },
                   "type": "node"
                  }
                 ],
                 "instanceArgs": {
                  "handlers": {
                   "value": [
                    "(function (txt){return this.k.render(txt,this.container)})"
                   ]
                  },
                  "id": "5160917430158370871",
                  "imports": {
                   "data": [
                    {
                     "name": null,
                     "type": "js",
                     "url": "/assetserver/dd22ed1bf1896c2748f3fe616ce0b838adc895c1-katex.min.js"
                    },
                    {
                     "name": null,
                     "type": "css",
                     "url": "/assetserver/46517a424aa5e6cffc1360d7e0848b601c584ee3-katex.min.css"
                    }
                   ],
                   "type": "async_block"
                  },
                  "mount_callbacks": [
                   "function () {\n    var handler = ((function (k){this.k=k; this.container=this.dom.querySelector(\"#container\"); return k.render(\"\\\\;\\\\;\",this.container)}));\n    (WebIO.importBlock({\"data\":[{\"name\":null,\"type\":\"js\",\"url\":\"/assetserver/dd22ed1bf1896c2748f3fe616ce0b838adc895c1-katex.min.js\"},{\"name\":null,\"type\":\"css\",\"url\":\"/assetserver/46517a424aa5e6cffc1360d7e0848b601c584ee3-katex.min.css\"}],\"type\":\"async_block\"})).then((imports) => handler.apply(this, imports));\n}\n"
                  ],
                  "observables": {
                   "value": {
                    "id": "6534056085859816778",
                    "sync": false,
                    "value": "\\;\\;"
                   }
                  },
                  "systemjs_options": null
                 },
                 "nodeType": "Scope",
                 "props": {},
                 "type": "node"
                }
               ],
               "instanceArgs": {
                "namespace": "html",
                "tag": "div"
               },
               "nodeType": "DOM",
               "props": {
                "className": "interact-widget"
               },
               "type": "node"
              },
              {
               "children": [
                {
                 "children": [
                  {
                   "children": [
                    "run"
                   ],
                   "instanceArgs": {
                    "namespace": "html",
                    "tag": "button"
                   },
                   "nodeType": "DOM",
                   "props": {
                    "attributes": {
                     "data-bind": "click: function (){this.clicks(this.clicks()+1)}, css: {'is-loading' : loading}"
                    },
                    "className": "is-medium button is-primary",
                    "style": {}
                   },
                   "type": "node"
                  }
                 ],
                 "instanceArgs": {
                  "handlers": {
                   "clicks": [
                    "(function (val){return (val!=this.model[\"clicks\"]()) ? (this.valueFromJulia[\"clicks\"]=true, this.model[\"clicks\"](val)) : undefined})"
                   ],
                   "loading": [
                    "(function (val){return (val!=this.model[\"loading\"]()) ? (this.valueFromJulia[\"loading\"]=true, this.model[\"loading\"](val)) : undefined})"
                   ]
                  },
                  "id": "2448338418110054499",
                  "imports": {
                   "data": [
                    {
                     "name": "knockout",
                     "type": "js",
                     "url": "/assetserver/727383f2a47bd31570b7da84eee7b022dd6d7c78-knockout.js"
                    },
                    {
                     "name": "knockout_punches",
                     "type": "js",
                     "url": "/assetserver/382b41b3b1bd9f26f75861d360bad7f8beea211f-knockout_punches.js"
                    },
                    {
                     "name": null,
                     "type": "js",
                     "url": "/assetserver/5ab20f1060420992a9b82a65b735dee4d81ef413-all.js"
                    },
                    {
                     "name": null,
                     "type": "css",
                     "url": "/assetserver/1cc0ed62837210b80a182cc3676512f895dab686-style.css"
                    },
                    {
                     "name": null,
                     "type": "css",
                     "url": "/assetserver/2eee816f616df3549d7044d45e744fbf8d42bfa1-bulma_confined.min.css"
                    }
                   ],
                   "type": "async_block"
                  },
                  "mount_callbacks": [
                   "function () {\n    var handler = (function (ko, koPunches) {\n    ko.punches.enableAll();\n    ko.bindingHandlers.numericValue = {\n        init: function(element, valueAccessor, allBindings, data, context) {\n            var stringified = ko.observable(ko.unwrap(valueAccessor()));\n            stringified.subscribe(function(value) {\n                var val = parseFloat(value);\n                if (!isNaN(val)) {\n                    valueAccessor()(val);\n                }\n            });\n            valueAccessor().subscribe(function(value) {\n                var str = JSON.stringify(value);\n                if ((str == \"0\") && ([\"-0\", \"-0.\"].indexOf(stringified()) >= 0))\n                     return;\n                 if ([\"null\", \"\"].indexOf(str) >= 0)\n                     return;\n                stringified(str);\n            });\n            ko.applyBindingsToNode(\n                element,\n                {\n                    value: stringified,\n                    valueUpdate: allBindings.get('valueUpdate'),\n                },\n                context,\n            );\n        }\n    };\n    var json_data = {\"loading\":WebIO.getval({\"name\":\"loading\",\"scope\":\"2448338418110054499\",\"id\":\"16120370462721398524\",\"type\":\"observable\"}),\"clicks\":WebIO.getval({\"name\":\"clicks\",\"scope\":\"2448338418110054499\",\"id\":\"10434984609133191015\",\"type\":\"observable\"})};\n    var self = this;\n    function AppViewModel() {\n        for (var key in json_data) {\n            var el = json_data[key];\n            this[key] = Array.isArray(el) ? ko.observableArray(el) : ko.observable(el);\n        }\n        \n        \n        [this[\"loading\"].subscribe((function (val){!(this.valueFromJulia[\"loading\"]) ? (WebIO.setval({\"name\":\"loading\",\"scope\":\"2448338418110054499\",\"id\":\"16120370462721398524\",\"type\":\"observable\"},val)) : undefined; return this.valueFromJulia[\"loading\"]=false}),self),this[\"clicks\"].subscribe((function (val){!(this.valueFromJulia[\"clicks\"]) ? (WebIO.setval({\"name\":\"clicks\",\"scope\":\"2448338418110054499\",\"id\":\"10434984609133191015\",\"type\":\"observable\"},val)) : undefined; return this.valueFromJulia[\"clicks\"]=false}),self)]\n        \n    }\n    self.model = new AppViewModel();\n    self.valueFromJulia = {};\n    for (var key in json_data) {\n        self.valueFromJulia[key] = false;\n    }\n    ko.applyBindings(self.model, self.dom);\n}\n);\n    (WebIO.importBlock({\"data\":[{\"name\":\"knockout\",\"type\":\"js\",\"url\":\"/assetserver/727383f2a47bd31570b7da84eee7b022dd6d7c78-knockout.js\"},{\"name\":\"knockout_punches\",\"type\":\"js\",\"url\":\"/assetserver/382b41b3b1bd9f26f75861d360bad7f8beea211f-knockout_punches.js\"}],\"type\":\"async_block\"})).then((imports) => handler.apply(this, imports));\n}\n"
                  ],
                  "observables": {
                   "clicks": {
                    "id": "10434984609133191015",
                    "sync": true,
                    "value": 0
                   },
                   "loading": {
                    "id": "16120370462721398524",
                    "sync": false,
                    "value": false
                   }
                  },
                  "systemjs_options": null
                 },
                 "nodeType": "Scope",
                 "props": {},
                 "type": "node"
                }
               ],
               "instanceArgs": {
                "namespace": "html",
                "tag": "div"
               },
               "nodeType": "DOM",
               "props": {
                "className": "field interact-widget"
               },
               "type": "node"
              },
              {
               "children": [
                {
                 "children": [
                  {
                   "children": [],
                   "instanceArgs": {
                    "namespace": "html",
                    "tag": "div"
                   },
                   "nodeType": "DOM",
                   "props": {
                    "id": "container"
                   },
                   "type": "node"
                  }
                 ],
                 "instanceArgs": {
                  "handlers": {
                   "value": [
                    "(function (txt){return this.k.render(txt,this.container)})"
                   ]
                  },
                  "id": "5160917430158370871",
                  "imports": {
                   "data": [
                    {
                     "name": null,
                     "type": "js",
                     "url": "/assetserver/dd22ed1bf1896c2748f3fe616ce0b838adc895c1-katex.min.js"
                    },
                    {
                     "name": null,
                     "type": "css",
                     "url": "/assetserver/46517a424aa5e6cffc1360d7e0848b601c584ee3-katex.min.css"
                    }
                   ],
                   "type": "async_block"
                  },
                  "mount_callbacks": [
                   "function () {\n    var handler = ((function (k){this.k=k; this.container=this.dom.querySelector(\"#container\"); return k.render(\"\\\\;\\\\;\",this.container)}));\n    (WebIO.importBlock({\"data\":[{\"name\":null,\"type\":\"js\",\"url\":\"/assetserver/dd22ed1bf1896c2748f3fe616ce0b838adc895c1-katex.min.js\"},{\"name\":null,\"type\":\"css\",\"url\":\"/assetserver/46517a424aa5e6cffc1360d7e0848b601c584ee3-katex.min.css\"}],\"type\":\"async_block\"})).then((imports) => handler.apply(this, imports));\n}\n"
                  ],
                  "observables": {
                   "value": {
                    "id": "6534056085859816778",
                    "sync": false,
                    "value": "\\;\\;"
                   }
                  },
                  "systemjs_options": null
                 },
                 "nodeType": "Scope",
                 "props": {},
                 "type": "node"
                }
               ],
               "instanceArgs": {
                "namespace": "html",
                "tag": "div"
               },
               "nodeType": "DOM",
               "props": {
                "className": "interact-widget"
               },
               "type": "node"
              },
              {
               "children": [
                {
                 "children": [
                  {
                   "children": [
                    "stop"
                   ],
                   "instanceArgs": {
                    "namespace": "html",
                    "tag": "button"
                   },
                   "nodeType": "DOM",
                   "props": {
                    "attributes": {
                     "data-bind": "click: function (){this.clicks(this.clicks()+1)}, css: {'is-loading' : loading}"
                    },
                    "className": "is-medium button is-primary",
                    "style": {}
                   },
                   "type": "node"
                  }
                 ],
                 "instanceArgs": {
                  "handlers": {
                   "clicks": [
                    "(function (val){return (val!=this.model[\"clicks\"]()) ? (this.valueFromJulia[\"clicks\"]=true, this.model[\"clicks\"](val)) : undefined})"
                   ],
                   "loading": [
                    "(function (val){return (val!=this.model[\"loading\"]()) ? (this.valueFromJulia[\"loading\"]=true, this.model[\"loading\"](val)) : undefined})"
                   ]
                  },
                  "id": "15845275790707751715",
                  "imports": {
                   "data": [
                    {
                     "name": "knockout",
                     "type": "js",
                     "url": "/assetserver/727383f2a47bd31570b7da84eee7b022dd6d7c78-knockout.js"
                    },
                    {
                     "name": "knockout_punches",
                     "type": "js",
                     "url": "/assetserver/382b41b3b1bd9f26f75861d360bad7f8beea211f-knockout_punches.js"
                    },
                    {
                     "name": null,
                     "type": "js",
                     "url": "/assetserver/5ab20f1060420992a9b82a65b735dee4d81ef413-all.js"
                    },
                    {
                     "name": null,
                     "type": "css",
                     "url": "/assetserver/1cc0ed62837210b80a182cc3676512f895dab686-style.css"
                    },
                    {
                     "name": null,
                     "type": "css",
                     "url": "/assetserver/2eee816f616df3549d7044d45e744fbf8d42bfa1-bulma_confined.min.css"
                    }
                   ],
                   "type": "async_block"
                  },
                  "mount_callbacks": [
                   "function () {\n    var handler = (function (ko, koPunches) {\n    ko.punches.enableAll();\n    ko.bindingHandlers.numericValue = {\n        init: function(element, valueAccessor, allBindings, data, context) {\n            var stringified = ko.observable(ko.unwrap(valueAccessor()));\n            stringified.subscribe(function(value) {\n                var val = parseFloat(value);\n                if (!isNaN(val)) {\n                    valueAccessor()(val);\n                }\n            });\n            valueAccessor().subscribe(function(value) {\n                var str = JSON.stringify(value);\n                if ((str == \"0\") && ([\"-0\", \"-0.\"].indexOf(stringified()) >= 0))\n                     return;\n                 if ([\"null\", \"\"].indexOf(str) >= 0)\n                     return;\n                stringified(str);\n            });\n            ko.applyBindingsToNode(\n                element,\n                {\n                    value: stringified,\n                    valueUpdate: allBindings.get('valueUpdate'),\n                },\n                context,\n            );\n        }\n    };\n    var json_data = {\"loading\":WebIO.getval({\"name\":\"loading\",\"scope\":\"15845275790707751715\",\"id\":\"12298944416942724773\",\"type\":\"observable\"}),\"clicks\":WebIO.getval({\"name\":\"clicks\",\"scope\":\"15845275790707751715\",\"id\":\"7529240390082541530\",\"type\":\"observable\"})};\n    var self = this;\n    function AppViewModel() {\n        for (var key in json_data) {\n            var el = json_data[key];\n            this[key] = Array.isArray(el) ? ko.observableArray(el) : ko.observable(el);\n        }\n        \n        \n        [this[\"loading\"].subscribe((function (val){!(this.valueFromJulia[\"loading\"]) ? (WebIO.setval({\"name\":\"loading\",\"scope\":\"15845275790707751715\",\"id\":\"12298944416942724773\",\"type\":\"observable\"},val)) : undefined; return this.valueFromJulia[\"loading\"]=false}),self),this[\"clicks\"].subscribe((function (val){!(this.valueFromJulia[\"clicks\"]) ? (WebIO.setval({\"name\":\"clicks\",\"scope\":\"15845275790707751715\",\"id\":\"7529240390082541530\",\"type\":\"observable\"},val)) : undefined; return this.valueFromJulia[\"clicks\"]=false}),self)]\n        \n    }\n    self.model = new AppViewModel();\n    self.valueFromJulia = {};\n    for (var key in json_data) {\n        self.valueFromJulia[key] = false;\n    }\n    ko.applyBindings(self.model, self.dom);\n}\n);\n    (WebIO.importBlock({\"data\":[{\"name\":\"knockout\",\"type\":\"js\",\"url\":\"/assetserver/727383f2a47bd31570b7da84eee7b022dd6d7c78-knockout.js\"},{\"name\":\"knockout_punches\",\"type\":\"js\",\"url\":\"/assetserver/382b41b3b1bd9f26f75861d360bad7f8beea211f-knockout_punches.js\"}],\"type\":\"async_block\"})).then((imports) => handler.apply(this, imports));\n}\n"
                  ],
                  "observables": {
                   "clicks": {
                    "id": "7529240390082541530",
                    "sync": true,
                    "value": 0
                   },
                   "loading": {
                    "id": "12298944416942724773",
                    "sync": false,
                    "value": false
                   }
                  },
                  "systemjs_options": null
                 },
                 "nodeType": "Scope",
                 "props": {},
                 "type": "node"
                }
               ],
               "instanceArgs": {
                "namespace": "html",
                "tag": "div"
               },
               "nodeType": "DOM",
               "props": {
                "className": "field interact-widget"
               },
               "type": "node"
              },
              {
               "children": [
                {
                 "children": [
                  {
                   "children": [],
                   "instanceArgs": {
                    "namespace": "html",
                    "tag": "div"
                   },
                   "nodeType": "DOM",
                   "props": {
                    "id": "container"
                   },
                   "type": "node"
                  }
                 ],
                 "instanceArgs": {
                  "handlers": {
                   "value": [
                    "(function (txt){return this.k.render(txt,this.container)})"
                   ]
                  },
                  "id": "5160917430158370871",
                  "imports": {
                   "data": [
                    {
                     "name": null,
                     "type": "js",
                     "url": "/assetserver/dd22ed1bf1896c2748f3fe616ce0b838adc895c1-katex.min.js"
                    },
                    {
                     "name": null,
                     "type": "css",
                     "url": "/assetserver/46517a424aa5e6cffc1360d7e0848b601c584ee3-katex.min.css"
                    }
                   ],
                   "type": "async_block"
                  },
                  "mount_callbacks": [
                   "function () {\n    var handler = ((function (k){this.k=k; this.container=this.dom.querySelector(\"#container\"); return k.render(\"\\\\;\\\\;\",this.container)}));\n    (WebIO.importBlock({\"data\":[{\"name\":null,\"type\":\"js\",\"url\":\"/assetserver/dd22ed1bf1896c2748f3fe616ce0b838adc895c1-katex.min.js\"},{\"name\":null,\"type\":\"css\",\"url\":\"/assetserver/46517a424aa5e6cffc1360d7e0848b601c584ee3-katex.min.css\"}],\"type\":\"async_block\"})).then((imports) => handler.apply(this, imports));\n}\n"
                  ],
                  "observables": {
                   "value": {
                    "id": "6534056085859816778",
                    "sync": false,
                    "value": "\\;\\;"
                   }
                  },
                  "systemjs_options": null
                 },
                 "nodeType": "Scope",
                 "props": {},
                 "type": "node"
                }
               ],
               "instanceArgs": {
                "namespace": "html",
                "tag": "div"
               },
               "nodeType": "DOM",
               "props": {
                "className": "interact-widget"
               },
               "type": "node"
              },
              {
               "children": [
                {
                 "children": [
                  {
                   "children": [
                    "reset"
                   ],
                   "instanceArgs": {
                    "namespace": "html",
                    "tag": "button"
                   },
                   "nodeType": "DOM",
                   "props": {
                    "attributes": {
                     "data-bind": "click: function (){this.clicks(this.clicks()+1)}, css: {'is-loading' : loading}"
                    },
                    "className": "is-medium button is-primary",
                    "style": {}
                   },
                   "type": "node"
                  }
                 ],
                 "instanceArgs": {
                  "handlers": {
                   "clicks": [
                    "(function (val){return (val!=this.model[\"clicks\"]()) ? (this.valueFromJulia[\"clicks\"]=true, this.model[\"clicks\"](val)) : undefined})"
                   ],
                   "loading": [
                    "(function (val){return (val!=this.model[\"loading\"]()) ? (this.valueFromJulia[\"loading\"]=true, this.model[\"loading\"](val)) : undefined})"
                   ]
                  },
                  "id": "7083948473823172168",
                  "imports": {
                   "data": [
                    {
                     "name": "knockout",
                     "type": "js",
                     "url": "/assetserver/727383f2a47bd31570b7da84eee7b022dd6d7c78-knockout.js"
                    },
                    {
                     "name": "knockout_punches",
                     "type": "js",
                     "url": "/assetserver/382b41b3b1bd9f26f75861d360bad7f8beea211f-knockout_punches.js"
                    },
                    {
                     "name": null,
                     "type": "js",
                     "url": "/assetserver/5ab20f1060420992a9b82a65b735dee4d81ef413-all.js"
                    },
                    {
                     "name": null,
                     "type": "css",
                     "url": "/assetserver/1cc0ed62837210b80a182cc3676512f895dab686-style.css"
                    },
                    {
                     "name": null,
                     "type": "css",
                     "url": "/assetserver/2eee816f616df3549d7044d45e744fbf8d42bfa1-bulma_confined.min.css"
                    }
                   ],
                   "type": "async_block"
                  },
                  "mount_callbacks": [
                   "function () {\n    var handler = (function (ko, koPunches) {\n    ko.punches.enableAll();\n    ko.bindingHandlers.numericValue = {\n        init: function(element, valueAccessor, allBindings, data, context) {\n            var stringified = ko.observable(ko.unwrap(valueAccessor()));\n            stringified.subscribe(function(value) {\n                var val = parseFloat(value);\n                if (!isNaN(val)) {\n                    valueAccessor()(val);\n                }\n            });\n            valueAccessor().subscribe(function(value) {\n                var str = JSON.stringify(value);\n                if ((str == \"0\") && ([\"-0\", \"-0.\"].indexOf(stringified()) >= 0))\n                     return;\n                 if ([\"null\", \"\"].indexOf(str) >= 0)\n                     return;\n                stringified(str);\n            });\n            ko.applyBindingsToNode(\n                element,\n                {\n                    value: stringified,\n                    valueUpdate: allBindings.get('valueUpdate'),\n                },\n                context,\n            );\n        }\n    };\n    var json_data = {\"loading\":WebIO.getval({\"name\":\"loading\",\"scope\":\"7083948473823172168\",\"id\":\"16431930551614108564\",\"type\":\"observable\"}),\"clicks\":WebIO.getval({\"name\":\"clicks\",\"scope\":\"7083948473823172168\",\"id\":\"10328807453396430252\",\"type\":\"observable\"})};\n    var self = this;\n    function AppViewModel() {\n        for (var key in json_data) {\n            var el = json_data[key];\n            this[key] = Array.isArray(el) ? ko.observableArray(el) : ko.observable(el);\n        }\n        \n        \n        [this[\"loading\"].subscribe((function (val){!(this.valueFromJulia[\"loading\"]) ? (WebIO.setval({\"name\":\"loading\",\"scope\":\"7083948473823172168\",\"id\":\"16431930551614108564\",\"type\":\"observable\"},val)) : undefined; return this.valueFromJulia[\"loading\"]=false}),self),this[\"clicks\"].subscribe((function (val){!(this.valueFromJulia[\"clicks\"]) ? (WebIO.setval({\"name\":\"clicks\",\"scope\":\"7083948473823172168\",\"id\":\"10328807453396430252\",\"type\":\"observable\"},val)) : undefined; return this.valueFromJulia[\"clicks\"]=false}),self)]\n        \n    }\n    self.model = new AppViewModel();\n    self.valueFromJulia = {};\n    for (var key in json_data) {\n        self.valueFromJulia[key] = false;\n    }\n    ko.applyBindings(self.model, self.dom);\n}\n);\n    (WebIO.importBlock({\"data\":[{\"name\":\"knockout\",\"type\":\"js\",\"url\":\"/assetserver/727383f2a47bd31570b7da84eee7b022dd6d7c78-knockout.js\"},{\"name\":\"knockout_punches\",\"type\":\"js\",\"url\":\"/assetserver/382b41b3b1bd9f26f75861d360bad7f8beea211f-knockout_punches.js\"}],\"type\":\"async_block\"})).then((imports) => handler.apply(this, imports));\n}\n"
                  ],
                  "observables": {
                   "clicks": {
                    "id": "10328807453396430252",
                    "sync": true,
                    "value": 0
                   },
                   "loading": {
                    "id": "16431930551614108564",
                    "sync": false,
                    "value": false
                   }
                  },
                  "systemjs_options": null
                 },
                 "nodeType": "Scope",
                 "props": {},
                 "type": "node"
                }
               ],
               "instanceArgs": {
                "namespace": "html",
                "tag": "div"
               },
               "nodeType": "DOM",
               "props": {
                "className": "field interact-widget"
               },
               "type": "node"
              },
              {
               "children": [
                {
                 "children": [
                  {
                   "children": [],
                   "instanceArgs": {
                    "namespace": "html",
                    "tag": "div"
                   },
                   "nodeType": "DOM",
                   "props": {
                    "id": "container"
                   },
                   "type": "node"
                  }
                 ],
                 "instanceArgs": {
                  "handlers": {
                   "value": [
                    "(function (txt){return this.k.render(txt,this.container)})"
                   ]
                  },
                  "id": "5160917430158370871",
                  "imports": {
                   "data": [
                    {
                     "name": null,
                     "type": "js",
                     "url": "/assetserver/dd22ed1bf1896c2748f3fe616ce0b838adc895c1-katex.min.js"
                    },
                    {
                     "name": null,
                     "type": "css",
                     "url": "/assetserver/46517a424aa5e6cffc1360d7e0848b601c584ee3-katex.min.css"
                    }
                   ],
                   "type": "async_block"
                  },
                  "mount_callbacks": [
                   "function () {\n    var handler = ((function (k){this.k=k; this.container=this.dom.querySelector(\"#container\"); return k.render(\"\\\\;\\\\;\",this.container)}));\n    (WebIO.importBlock({\"data\":[{\"name\":null,\"type\":\"js\",\"url\":\"/assetserver/dd22ed1bf1896c2748f3fe616ce0b838adc895c1-katex.min.js\"},{\"name\":null,\"type\":\"css\",\"url\":\"/assetserver/46517a424aa5e6cffc1360d7e0848b601c584ee3-katex.min.css\"}],\"type\":\"async_block\"})).then((imports) => handler.apply(this, imports));\n}\n"
                  ],
                  "observables": {
                   "value": {
                    "id": "6534056085859816778",
                    "sync": false,
                    "value": "\\;\\;"
                   }
                  },
                  "systemjs_options": null
                 },
                 "nodeType": "Scope",
                 "props": {},
                 "type": "node"
                }
               ],
               "instanceArgs": {
                "namespace": "html",
                "tag": "div"
               },
               "nodeType": "DOM",
               "props": {
                "className": "interact-widget"
               },
               "type": "node"
              },
              {
               "children": [
                {
                 "children": [
                  {
                   "children": [
                    "save"
                   ],
                   "instanceArgs": {
                    "namespace": "html",
                    "tag": "button"
                   },
                   "nodeType": "DOM",
                   "props": {
                    "attributes": {
                     "data-bind": "click: function (){this.clicks(this.clicks()+1)}, css: {'is-loading' : loading}"
                    },
                    "className": "is-medium button is-primary",
                    "style": {}
                   },
                   "type": "node"
                  }
                 ],
                 "instanceArgs": {
                  "handlers": {
                   "clicks": [
                    "(function (val){return (val!=this.model[\"clicks\"]()) ? (this.valueFromJulia[\"clicks\"]=true, this.model[\"clicks\"](val)) : undefined})"
                   ],
                   "loading": [
                    "(function (val){return (val!=this.model[\"loading\"]()) ? (this.valueFromJulia[\"loading\"]=true, this.model[\"loading\"](val)) : undefined})"
                   ]
                  },
                  "id": "2475623436957572116",
                  "imports": {
                   "data": [
                    {
                     "name": "knockout",
                     "type": "js",
                     "url": "/assetserver/727383f2a47bd31570b7da84eee7b022dd6d7c78-knockout.js"
                    },
                    {
                     "name": "knockout_punches",
                     "type": "js",
                     "url": "/assetserver/382b41b3b1bd9f26f75861d360bad7f8beea211f-knockout_punches.js"
                    },
                    {
                     "name": null,
                     "type": "js",
                     "url": "/assetserver/5ab20f1060420992a9b82a65b735dee4d81ef413-all.js"
                    },
                    {
                     "name": null,
                     "type": "css",
                     "url": "/assetserver/1cc0ed62837210b80a182cc3676512f895dab686-style.css"
                    },
                    {
                     "name": null,
                     "type": "css",
                     "url": "/assetserver/2eee816f616df3549d7044d45e744fbf8d42bfa1-bulma_confined.min.css"
                    }
                   ],
                   "type": "async_block"
                  },
                  "mount_callbacks": [
                   "function () {\n    var handler = (function (ko, koPunches) {\n    ko.punches.enableAll();\n    ko.bindingHandlers.numericValue = {\n        init: function(element, valueAccessor, allBindings, data, context) {\n            var stringified = ko.observable(ko.unwrap(valueAccessor()));\n            stringified.subscribe(function(value) {\n                var val = parseFloat(value);\n                if (!isNaN(val)) {\n                    valueAccessor()(val);\n                }\n            });\n            valueAccessor().subscribe(function(value) {\n                var str = JSON.stringify(value);\n                if ((str == \"0\") && ([\"-0\", \"-0.\"].indexOf(stringified()) >= 0))\n                     return;\n                 if ([\"null\", \"\"].indexOf(str) >= 0)\n                     return;\n                stringified(str);\n            });\n            ko.applyBindingsToNode(\n                element,\n                {\n                    value: stringified,\n                    valueUpdate: allBindings.get('valueUpdate'),\n                },\n                context,\n            );\n        }\n    };\n    var json_data = {\"loading\":WebIO.getval({\"name\":\"loading\",\"scope\":\"2475623436957572116\",\"id\":\"771028028324613882\",\"type\":\"observable\"}),\"clicks\":WebIO.getval({\"name\":\"clicks\",\"scope\":\"2475623436957572116\",\"id\":\"3583906171996889860\",\"type\":\"observable\"})};\n    var self = this;\n    function AppViewModel() {\n        for (var key in json_data) {\n            var el = json_data[key];\n            this[key] = Array.isArray(el) ? ko.observableArray(el) : ko.observable(el);\n        }\n        \n        \n        [this[\"loading\"].subscribe((function (val){!(this.valueFromJulia[\"loading\"]) ? (WebIO.setval({\"name\":\"loading\",\"scope\":\"2475623436957572116\",\"id\":\"771028028324613882\",\"type\":\"observable\"},val)) : undefined; return this.valueFromJulia[\"loading\"]=false}),self),this[\"clicks\"].subscribe((function (val){!(this.valueFromJulia[\"clicks\"]) ? (WebIO.setval({\"name\":\"clicks\",\"scope\":\"2475623436957572116\",\"id\":\"3583906171996889860\",\"type\":\"observable\"},val)) : undefined; return this.valueFromJulia[\"clicks\"]=false}),self)]\n        \n    }\n    self.model = new AppViewModel();\n    self.valueFromJulia = {};\n    for (var key in json_data) {\n        self.valueFromJulia[key] = false;\n    }\n    ko.applyBindings(self.model, self.dom);\n}\n);\n    (WebIO.importBlock({\"data\":[{\"name\":\"knockout\",\"type\":\"js\",\"url\":\"/assetserver/727383f2a47bd31570b7da84eee7b022dd6d7c78-knockout.js\"},{\"name\":\"knockout_punches\",\"type\":\"js\",\"url\":\"/assetserver/382b41b3b1bd9f26f75861d360bad7f8beea211f-knockout_punches.js\"}],\"type\":\"async_block\"})).then((imports) => handler.apply(this, imports));\n}\n"
                  ],
                  "observables": {
                   "clicks": {
                    "id": "3583906171996889860",
                    "sync": true,
                    "value": 0
                   },
                   "loading": {
                    "id": "771028028324613882",
                    "sync": false,
                    "value": false
                   }
                  },
                  "systemjs_options": null
                 },
                 "nodeType": "Scope",
                 "props": {},
                 "type": "node"
                }
               ],
               "instanceArgs": {
                "namespace": "html",
                "tag": "div"
               },
               "nodeType": "DOM",
               "props": {
                "className": "field interact-widget"
               },
               "type": "node"
              }
             ],
             "instanceArgs": {
              "namespace": "html",
              "tag": "div"
             },
             "nodeType": "DOM",
             "props": {
              "style": {
               "display": "flex",
               "flex-direction": "row"
              }
             },
             "type": "node"
            }
           ],
           "instanceArgs": {
            "namespace": "html",
            "tag": "div"
           },
           "nodeType": "DOM",
           "props": {
            "style": {
             "display": "flex",
             "flex-direction": "column"
            }
           },
           "type": "node"
          },
          {
           "children": [
            {
             "children": [
              {
               "children": [],
               "instanceArgs": {
                "namespace": "html",
                "tag": "div"
               },
               "nodeType": "DOM",
               "props": {
                "id": "container"
               },
               "type": "node"
              }
             ],
             "instanceArgs": {
              "handlers": {
               "value": [
                "(function (txt){return this.k.render(txt,this.container)})"
               ]
              },
              "id": "5160917430158370871",
              "imports": {
               "data": [
                {
                 "name": null,
                 "type": "js",
                 "url": "/assetserver/dd22ed1bf1896c2748f3fe616ce0b838adc895c1-katex.min.js"
                },
                {
                 "name": null,
                 "type": "css",
                 "url": "/assetserver/46517a424aa5e6cffc1360d7e0848b601c584ee3-katex.min.css"
                }
               ],
               "type": "async_block"
              },
              "mount_callbacks": [
               "function () {\n    var handler = ((function (k){this.k=k; this.container=this.dom.querySelector(\"#container\"); return k.render(\"\\\\;\\\\;\",this.container)}));\n    (WebIO.importBlock({\"data\":[{\"name\":null,\"type\":\"js\",\"url\":\"/assetserver/dd22ed1bf1896c2748f3fe616ce0b838adc895c1-katex.min.js\"},{\"name\":null,\"type\":\"css\",\"url\":\"/assetserver/46517a424aa5e6cffc1360d7e0848b601c584ee3-katex.min.css\"}],\"type\":\"async_block\"})).then((imports) => handler.apply(this, imports));\n}\n"
              ],
              "observables": {
               "value": {
                "id": "6534056085859816778",
                "sync": false,
                "value": "\\;\\;"
               }
              },
              "systemjs_options": null
             },
             "nodeType": "Scope",
             "props": {},
             "type": "node"
            }
           ],
           "instanceArgs": {
            "namespace": "html",
            "tag": "div"
           },
           "nodeType": "DOM",
           "props": {
            "className": "interact-widget"
           },
           "type": "node"
          },
          {
           "children": [
            {
             "children": [],
             "instanceArgs": {
              "namespace": "html",
              "tag": "div"
             },
             "nodeType": "DOM",
             "props": {
              "className": "webio-observable",
              "setInnerHtml": "<img src='data:image/png;base64,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'></img>"
             },
             "type": "node"
            }
           ],
           "instanceArgs": {
            "handlers": {
             "obs-output": [
              "function (value, scope) {\n    scope.setInnerHTML(value);\n}\n"
             ]
            },
            "id": "367515236476407828",
            "imports": {
             "data": [],
             "type": "async_block"
            },
            "mount_callbacks": [],
            "observables": {
             "obs-output": {
              "id": "10904503420459480517",
              "sync": false,
              "value": "<img src='data:image/png;base64,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'></img>"
             }
            },
            "systemjs_options": null
           },
           "nodeType": "Scope",
           "props": {},
           "type": "node"
          },
          {
           "children": [
            {
             "children": [
              {
               "children": [],
               "instanceArgs": {
                "namespace": "html",
                "tag": "div"
               },
               "nodeType": "DOM",
               "props": {
                "id": "container"
               },
               "type": "node"
              }
             ],
             "instanceArgs": {
              "handlers": {
               "value": [
                "(function (txt){return this.k.render(txt,this.container)})"
               ]
              },
              "id": "5160917430158370871",
              "imports": {
               "data": [
                {
                 "name": null,
                 "type": "js",
                 "url": "/assetserver/dd22ed1bf1896c2748f3fe616ce0b838adc895c1-katex.min.js"
                },
                {
                 "name": null,
                 "type": "css",
                 "url": "/assetserver/46517a424aa5e6cffc1360d7e0848b601c584ee3-katex.min.css"
                }
               ],
               "type": "async_block"
              },
              "mount_callbacks": [
               "function () {\n    var handler = ((function (k){this.k=k; this.container=this.dom.querySelector(\"#container\"); return k.render(\"\\\\;\\\\;\",this.container)}));\n    (WebIO.importBlock({\"data\":[{\"name\":null,\"type\":\"js\",\"url\":\"/assetserver/dd22ed1bf1896c2748f3fe616ce0b838adc895c1-katex.min.js\"},{\"name\":null,\"type\":\"css\",\"url\":\"/assetserver/46517a424aa5e6cffc1360d7e0848b601c584ee3-katex.min.css\"}],\"type\":\"async_block\"})).then((imports) => handler.apply(this, imports));\n}\n"
              ],
              "observables": {
               "value": {
                "id": "6534056085859816778",
                "sync": false,
                "value": "\\;\\;"
               }
              },
              "systemjs_options": null
             },
             "nodeType": "Scope",
             "props": {},
             "type": "node"
            }
           ],
           "instanceArgs": {
            "namespace": "html",
            "tag": "div"
           },
           "nodeType": "DOM",
           "props": {
            "className": "interact-widget"
           },
           "type": "node"
          },
          {
           "children": [],
           "instanceArgs": {
            "namespace": "html",
            "tag": "div"
           },
           "nodeType": "DOM",
           "props": {
            "style": {
             "display": "flex",
             "flex-direction": "column"
            }
           },
           "type": "node"
          }
         ],
         "instanceArgs": {
          "namespace": "html",
          "tag": "div"
         },
         "nodeType": "DOM",
         "props": {
          "style": {
           "display": "flex",
           "flex-direction": "row"
          }
         },
         "type": "node"
        }
       ],
       "instanceArgs": {
        "namespace": "html",
        "tag": "div"
       },
       "nodeType": "DOM",
       "props": {
        "style": {
         "display": "flex",
         "flex-direction": "column"
        }
       },
       "type": "node"
      },
      "text/html": [
       "<div\n",
       "    class=\"webio-mountpoint\"\n",
       "    data-webio-mountpoint=\"13201197491889550273\"\n",
       ">\n",
       "    <script>\n",
       "    (function(){\n",
       "    // Some integrations (namely, IJulia/Jupyter) use an alternate render pathway than\n",
       "    // just putting the html on the page. If WebIO isn't defined, then it's pretty likely\n",
       "    // that we're in one of those situations and the integration just isn't installed\n",
       "    // correctly.\n",
       "    if (typeof window.WebIO === \"undefined\") {\n",
       "        document\n",
       "            .querySelector('[data-webio-mountpoint=\"13201197491889550273\"]')\n",
       "            .innerHTML = (\n",
       "                '<div style=\"padding: 1em; background-color: #f8d6da; border: 1px solid #f5c6cb; font-weight: bold;\">' +\n",
       "                '<p><strong>WebIO not detected.</strong></p>' +\n",
       "                '<p>Please read ' +\n",
       "                '<a href=\"https://juliagizmos.github.io/WebIO.jl/latest/troubleshooting/not-detected/\" target=\"_blank\">the troubleshooting guide</a> ' +\n",
       "                'for more information on how to resolve this issue.</p>' +\n",
       "                '<p><a href=\"https://juliagizmos.github.io/WebIO.jl/latest/troubleshooting/not-detected/\" target=\"_blank\">https://juliagizmos.github.io/WebIO.jl/latest/troubleshooting/not-detected/</a></p>' +\n",
       "                '</div>'\n",
       "            );\n",
       "        return;\n",
       "    }\n",
       "    WebIO.mount(\n",
       "        document.querySelector('[data-webio-mountpoint=\"13201197491889550273\"]'),\n",
       "        {\"props\":{\"style\":{\"display\":\"flex\",\"flex-direction\":\"column\"}},\"nodeType\":\"DOM\",\"type\":\"node\",\"instanceArgs\":{\"namespace\":\"html\",\"tag\":\"div\"},\"children\":[{\"props\":{\"style\":{\"display\":\"flex\",\"flex-direction\":\"row\"}},\"nodeType\":\"DOM\",\"type\":\"node\",\"instanceArgs\":{\"namespace\":\"html\",\"tag\":\"div\"},\"children\":[{\"props\":{\"style\":{\"display\":\"flex\",\"flex-direction\":\"column\"}},\"nodeType\":\"DOM\",\"type\":\"node\",\"instanceArgs\":{\"namespace\":\"html\",\"tag\":\"div\"},\"children\":[{\"props\":{\"className\":\"field interact-widget\"},\"nodeType\":\"DOM\",\"type\":\"node\",\"instanceArgs\":{\"namespace\":\"html\",\"tag\":\"div\"},\"children\":[{\"props\":{},\"nodeType\":\"Scope\",\"type\":\"node\",\"instanceArgs\":{\"imports\":{\"data\":[{\"name\":\"knockout\",\"type\":\"js\",\"url\":\"\\/assetserver\\/727383f2a47bd31570b7da84eee7b022dd6d7c78-knockout.js\"},{\"name\":\"knockout_punches\",\"type\":\"js\",\"url\":\"\\/assetserver\\/382b41b3b1bd9f26f75861d360bad7f8beea211f-knockout_punches.js\"},{\"name\":null,\"type\":\"js\",\"url\":\"\\/assetserver\\/5ab20f1060420992a9b82a65b735dee4d81ef413-all.js\"},{\"name\":null,\"type\":\"css\",\"url\":\"\\/assetserver\\/1cc0ed62837210b80a182cc3676512f895dab686-style.css\"},{\"name\":null,\"type\":\"css\",\"url\":\"\\/assetserver\\/2eee816f616df3549d7044d45e744fbf8d42bfa1-bulma_confined.min.css\"}],\"type\":\"async_block\"},\"id\":\"13929540055898980135\",\"handlers\":{\"changes\":[\"(function (val){return (val!=this.model[\\\"changes\\\"]()) ? (this.valueFromJulia[\\\"changes\\\"]=true, this.model[\\\"changes\\\"](val)) : undefined})\"],\"index\":[\"(function (val){return (val!=this.model[\\\"index\\\"]()) ? (this.valueFromJulia[\\\"index\\\"]=true, this.model[\\\"index\\\"](val)) : undefined})\"]},\"systemjs_options\":null,\"mount_callbacks\":[\"function () {\\n    var handler = (function (ko, koPunches) {\\n    ko.punches.enableAll();\\n    ko.bindingHandlers.numericValue = {\\n        init: function(element, valueAccessor, allBindings, data, context) {\\n            var stringified = ko.observable(ko.unwrap(valueAccessor()));\\n            stringified.subscribe(function(value) {\\n                var val = parseFloat(value);\\n                if (!isNaN(val)) {\\n                    valueAccessor()(val);\\n                }\\n            });\\n            valueAccessor().subscribe(function(value) {\\n                var str = JSON.stringify(value);\\n                if ((str == \\\"0\\\") && ([\\\"-0\\\", \\\"-0.\\\"].indexOf(stringified()) >= 0))\\n                     return;\\n                 if ([\\\"null\\\", \\\"\\\"].indexOf(str) >= 0)\\n                     return;\\n                stringified(str);\\n            });\\n            ko.applyBindingsToNode(\\n                element,\\n                {\\n                    value: stringified,\\n                    valueUpdate: allBindings.get('valueUpdate'),\\n                },\\n                context,\\n            );\\n        }\\n    };\\n    var json_data = {\\\"formatted_vals\\\":[\\\"1\\\",\\\"2\\\",\\\"3\\\",\\\"4\\\",\\\"5\\\",\\\"6\\\",\\\"7\\\",\\\"8\\\",\\\"9\\\",\\\"10\\\",\\\"11\\\",\\\"12\\\",\\\"13\\\",\\\"14\\\",\\\"15\\\",\\\"16\\\",\\\"17\\\",\\\"18\\\",\\\"19\\\",\\\"20\\\",\\\"21\\\",\\\"22\\\",\\\"23\\\",\\\"24\\\",\\\"25\\\",\\\"26\\\",\\\"27\\\",\\\"28\\\",\\\"29\\\",\\\"30\\\",\\\"31\\\",\\\"32\\\",\\\"33\\\",\\\"34\\\",\\\"35\\\",\\\"36\\\",\\\"37\\\",\\\"38\\\",\\\"39\\\",\\\"40\\\",\\\"41\\\",\\\"42\\\",\\\"43\\\",\\\"44\\\",\\\"45\\\",\\\"46\\\",\\\"47\\\",\\\"48\\\",\\\"49\\\",\\\"50\\\",\\\"51\\\",\\\"52\\\",\\\"53\\\",\\\"54\\\",\\\"55\\\",\\\"56\\\",\\\"57\\\",\\\"58\\\",\\\"59\\\",\\\"60\\\",\\\"61\\\",\\\"62\\\",\\\"63\\\",\\\"64\\\",\\\"65\\\",\\\"66\\\",\\\"67\\\",\\\"68\\\",\\\"69\\\",\\\"70\\\",\\\"71\\\",\\\"72\\\",\\\"73\\\",\\\"74\\\",\\\"75\\\",\\\"76\\\",\\\"77\\\",\\\"78\\\",\\\"79\\\",\\\"80\\\",\\\"81\\\",\\\"82\\\",\\\"83\\\",\\\"84\\\",\\\"85\\\",\\\"86\\\",\\\"87\\\",\\\"88\\\",\\\"89\\\",\\\"90\\\",\\\"91\\\",\\\"92\\\",\\\"93\\\",\\\"94\\\",\\\"95\\\",\\\"96\\\",\\\"97\\\",\\\"98\\\",\\\"99\\\",\\\"100\\\",\\\"101\\\",\\\"102\\\",\\\"103\\\",\\\"104\\\",\\\"105\\\",\\\"106\\\",\\\"107\\\",\\\"108\\\",\\\"109\\\",\\\"110\\\",\\\"111\\\",\\\"112\\\",\\\"113\\\",\\\"114\\\",\\\"115\\\",\\\"116\\\",\\\"117\\\",\\\"118\\\",\\\"119\\\",\\\"120\\\",\\\"121\\\",\\\"122\\\",\\\"123\\\",\\\"124\\\",\\\"125\\\",\\\"126\\\",\\\"127\\\",\\\"128\\\",\\\"129\\\",\\\"130\\\",\\\"131\\\",\\\"132\\\",\\\"133\\\",\\\"134\\\",\\\"135\\\",\\\"136\\\",\\\"137\\\",\\\"138\\\",\\\"139\\\",\\\"140\\\",\\\"141\\\",\\\"142\\\",\\\"143\\\",\\\"144\\\",\\\"145\\\",\\\"146\\\",\\\"147\\\",\\\"148\\\",\\\"149\\\",\\\"150\\\",\\\"151\\\",\\\"152\\\",\\\"153\\\",\\\"154\\\",\\\"155\\\",\\\"156\\\",\\\"157\\\",\\\"158\\\",\\\"159\\\",\\\"160\\\",\\\"161\\\",\\\"162\\\",\\\"163\\\",\\\"164\\\",\\\"165\\\",\\\"166\\\",\\\"167\\\",\\\"168\\\",\\\"169\\\",\\\"170\\\",\\\"171\\\",\\\"172\\\",\\\"173\\\",\\\"174\\\",\\\"175\\\",\\\"176\\\",\\\"177\\\",\\\"178\\\",\\\"179\\\",\\\"180\\\",\\\"181\\\",\\\"182\\\",\\\"183\\\",\\\"184\\\",\\\"185\\\",\\\"186\\\",\\\"187\\\",\\\"188\\\",\\\"189\\\",\\\"190\\\",\\\"191\\\",\\\"192\\\",\\\"193\\\",\\\"194\\\",\\\"195\\\",\\\"196\\\",\\\"197\\\",\\\"198\\\",\\\"199\\\",\\\"200\\\"],\\\"changes\\\":WebIO.getval({\\\"name\\\":\\\"changes\\\",\\\"scope\\\":\\\"13929540055898980135\\\",\\\"id\\\":\\\"4126274384684236316\\\",\\\"type\\\":\\\"observable\\\"}),\\\"index\\\":WebIO.getval({\\\"name\\\":\\\"index\\\",\\\"scope\\\":\\\"13929540055898980135\\\",\\\"id\\\":\\\"8925349742571500128\\\",\\\"type\\\":\\\"observable\\\"})};\\n    var self = this;\\n    function AppViewModel() {\\n        for (var key in json_data) {\\n            var el = json_data[key];\\n            this[key] = Array.isArray(el) ? ko.observableArray(el) : ko.observable(el);\\n        }\\n        \\n        [this[\\\"formatted_val\\\"]=ko.computed(    function(){\\n        return this.formatted_vals()[parseInt(this.index())-(1)];\\n    }\\n,this)]\\n        [this[\\\"changes\\\"].subscribe((function (val){!(this.valueFromJulia[\\\"changes\\\"]) ? (WebIO.setval({\\\"name\\\":\\\"changes\\\",\\\"scope\\\":\\\"13929540055898980135\\\",\\\"id\\\":\\\"4126274384684236316\\\",\\\"type\\\":\\\"observable\\\"},val)) : undefined; return this.valueFromJulia[\\\"changes\\\"]=false}),self),this[\\\"index\\\"].subscribe((function (val){!(this.valueFromJulia[\\\"index\\\"]) ? (WebIO.setval({\\\"name\\\":\\\"index\\\",\\\"scope\\\":\\\"13929540055898980135\\\",\\\"id\\\":\\\"8925349742571500128\\\",\\\"type\\\":\\\"observable\\\"},val)) : undefined; return this.valueFromJulia[\\\"index\\\"]=false}),self)]\\n        \\n    }\\n    self.model = new AppViewModel();\\n    self.valueFromJulia = {};\\n    for (var key in json_data) {\\n        self.valueFromJulia[key] = false;\\n    }\\n    ko.applyBindings(self.model, self.dom);\\n}\\n);\\n    (WebIO.importBlock({\\\"data\\\":[{\\\"name\\\":\\\"knockout\\\",\\\"type\\\":\\\"js\\\",\\\"url\\\":\\\"\\/assetserver\\/727383f2a47bd31570b7da84eee7b022dd6d7c78-knockout.js\\\"},{\\\"name\\\":\\\"knockout_punches\\\",\\\"type\\\":\\\"js\\\",\\\"url\\\":\\\"\\/assetserver\\/382b41b3b1bd9f26f75861d360bad7f8beea211f-knockout_punches.js\\\"}],\\\"type\\\":\\\"async_block\\\"})).then((imports) => handler.apply(this, imports));\\n}\\n\"],\"observables\":{\"changes\":{\"sync\":false,\"id\":\"4126274384684236316\",\"value\":0},\"index\":{\"sync\":true,\"id\":\"8925349742571500128\",\"value\":1}}},\"children\":[{\"props\":{\"className\":\"interact-flex-row interact-widget\"},\"nodeType\":\"DOM\",\"type\":\"node\",\"instanceArgs\":{\"namespace\":\"html\",\"tag\":\"div\"},\"children\":[{\"props\":{\"className\":\"interact-flex-row-left\"},\"nodeType\":\"DOM\",\"type\":\"node\",\"instanceArgs\":{\"namespace\":\"html\",\"tag\":\"div\"},\"children\":[{\"props\":{\"className\":\"interact \",\"style\":{\"padding\":\"5px 10px 0px 10px\"}},\"nodeType\":\"DOM\",\"type\":\"node\",\"instanceArgs\":{\"namespace\":\"html\",\"tag\":\"label\"},\"children\":[\"time\"]}]},{\"props\":{\"className\":\"interact-flex-row-center\"},\"nodeType\":\"DOM\",\"type\":\"node\",\"instanceArgs\":{\"namespace\":\"html\",\"tag\":\"div\"},\"children\":[{\"props\":{\"max\":200,\"min\":1,\"attributes\":{\"type\":\"range\",\"data-bind\":\"numericValue: index, valueUpdate: 'input', event: {change: function (){this.changes(this.changes()+1)}}\",\"orient\":\"horizontal\"},\"step\":1,\"className\":\"slider slider is-fullwidth\",\"style\":{}},\"nodeType\":\"DOM\",\"type\":\"node\",\"instanceArgs\":{\"namespace\":\"html\",\"tag\":\"input\"},\"children\":[]}]},{\"props\":{\"className\":\"interact-flex-row-right\"},\"nodeType\":\"DOM\",\"type\":\"node\",\"instanceArgs\":{\"namespace\":\"html\",\"tag\":\"div\"},\"children\":[{\"props\":{\"attributes\":{\"data-bind\":\"text: formatted_val\"}},\"nodeType\":\"DOM\",\"type\":\"node\",\"instanceArgs\":{\"namespace\":\"html\",\"tag\":\"p\"},\"children\":[]}]}]}]}]},{\"props\":{\"className\":\"field interact-widget\"},\"nodeType\":\"DOM\",\"type\":\"node\",\"instanceArgs\":{\"namespace\":\"html\",\"tag\":\"div\"},\"children\":[{\"props\":{},\"nodeType\":\"Scope\",\"type\":\"node\",\"instanceArgs\":{\"imports\":{\"data\":[{\"name\":\"knockout\",\"type\":\"js\",\"url\":\"\\/assetserver\\/727383f2a47bd31570b7da84eee7b022dd6d7c78-knockout.js\"},{\"name\":\"knockout_punches\",\"type\":\"js\",\"url\":\"\\/assetserver\\/382b41b3b1bd9f26f75861d360bad7f8beea211f-knockout_punches.js\"},{\"name\":null,\"type\":\"js\",\"url\":\"\\/assetserver\\/5ab20f1060420992a9b82a65b735dee4d81ef413-all.js\"},{\"name\":null,\"type\":\"css\",\"url\":\"\\/assetserver\\/1cc0ed62837210b80a182cc3676512f895dab686-style.css\"},{\"name\":null,\"type\":\"css\",\"url\":\"\\/assetserver\\/2eee816f616df3549d7044d45e744fbf8d42bfa1-bulma_confined.min.css\"}],\"type\":\"async_block\"},\"id\":\"4098630680547849542\",\"handlers\":{\"changes\":[\"(function (val){return (val!=this.model[\\\"changes\\\"]()) ? (this.valueFromJulia[\\\"changes\\\"]=true, this.model[\\\"changes\\\"](val)) : undefined})\"],\"index\":[\"(function (val){return (val!=this.model[\\\"index\\\"]()) ? (this.valueFromJulia[\\\"index\\\"]=true, this.model[\\\"index\\\"](val)) : undefined})\"]},\"systemjs_options\":null,\"mount_callbacks\":[\"function () {\\n    var handler = (function (ko, koPunches) {\\n    ko.punches.enableAll();\\n    ko.bindingHandlers.numericValue = {\\n        init: function(element, valueAccessor, allBindings, data, context) {\\n            var stringified = ko.observable(ko.unwrap(valueAccessor()));\\n            stringified.subscribe(function(value) {\\n                var val = parseFloat(value);\\n                if (!isNaN(val)) {\\n                    valueAccessor()(val);\\n                }\\n            });\\n            valueAccessor().subscribe(function(value) {\\n                var str = JSON.stringify(value);\\n                if ((str == \\\"0\\\") && ([\\\"-0\\\", \\\"-0.\\\"].indexOf(stringified()) >= 0))\\n                     return;\\n                 if ([\\\"null\\\", \\\"\\\"].indexOf(str) >= 0)\\n                     return;\\n                stringified(str);\\n            });\\n            ko.applyBindingsToNode(\\n                element,\\n                {\\n                    value: stringified,\\n                    valueUpdate: allBindings.get('valueUpdate'),\\n                },\\n                context,\\n            );\\n        }\\n    };\\n    var json_data = {\\\"formatted_vals\\\":[\\\"0.1\\\",\\\"0.2\\\",\\\"0.3\\\",\\\"0.4\\\",\\\"0.5\\\",\\\"0.6\\\",\\\"0.7\\\",\\\"0.8\\\",\\\"0.9\\\",\\\"1.0\\\",\\\"1.1\\\",\\\"1.2\\\",\\\"1.3\\\",\\\"1.4\\\",\\\"1.5\\\",\\\"1.6\\\",\\\"1.7\\\",\\\"1.8\\\",\\\"1.9\\\",\\\"2.0\\\"],\\\"changes\\\":WebIO.getval({\\\"name\\\":\\\"changes\\\",\\\"scope\\\":\\\"4098630680547849542\\\",\\\"id\\\":\\\"9922395135587663537\\\",\\\"type\\\":\\\"observable\\\"}),\\\"index\\\":WebIO.getval({\\\"name\\\":\\\"index\\\",\\\"scope\\\":\\\"4098630680547849542\\\",\\\"id\\\":\\\"2127553864422558442\\\",\\\"type\\\":\\\"observable\\\"})};\\n    var self = this;\\n    function AppViewModel() {\\n        for (var key in json_data) {\\n            var el = json_data[key];\\n            this[key] = Array.isArray(el) ? ko.observableArray(el) : ko.observable(el);\\n        }\\n        \\n        [this[\\\"formatted_val\\\"]=ko.computed(    function(){\\n        return this.formatted_vals()[parseInt(this.index())-(1)];\\n    }\\n,this)]\\n        [this[\\\"changes\\\"].subscribe((function (val){!(this.valueFromJulia[\\\"changes\\\"]) ? (WebIO.setval({\\\"name\\\":\\\"changes\\\",\\\"scope\\\":\\\"4098630680547849542\\\",\\\"id\\\":\\\"9922395135587663537\\\",\\\"type\\\":\\\"observable\\\"},val)) : undefined; return this.valueFromJulia[\\\"changes\\\"]=false}),self),this[\\\"index\\\"].subscribe((function (val){!(this.valueFromJulia[\\\"index\\\"]) ? (WebIO.setval({\\\"name\\\":\\\"index\\\",\\\"scope\\\":\\\"4098630680547849542\\\",\\\"id\\\":\\\"2127553864422558442\\\",\\\"type\\\":\\\"observable\\\"},val)) : undefined; return this.valueFromJulia[\\\"index\\\"]=false}),self)]\\n        \\n    }\\n    self.model = new AppViewModel();\\n    self.valueFromJulia = {};\\n    for (var key in json_data) {\\n        self.valueFromJulia[key] = false;\\n    }\\n    ko.applyBindings(self.model, self.dom);\\n}\\n);\\n    (WebIO.importBlock({\\\"data\\\":[{\\\"name\\\":\\\"knockout\\\",\\\"type\\\":\\\"js\\\",\\\"url\\\":\\\"\\/assetserver\\/727383f2a47bd31570b7da84eee7b022dd6d7c78-knockout.js\\\"},{\\\"name\\\":\\\"knockout_punches\\\",\\\"type\\\":\\\"js\\\",\\\"url\\\":\\\"\\/assetserver\\/382b41b3b1bd9f26f75861d360bad7f8beea211f-knockout_punches.js\\\"}],\\\"type\\\":\\\"async_block\\\"})).then((imports) => handler.apply(this, imports));\\n}\\n\"],\"observables\":{\"changes\":{\"sync\":false,\"id\":\"9922395135587663537\",\"value\":0},\"index\":{\"sync\":true,\"id\":\"2127553864422558442\",\"value\":10}}},\"children\":[{\"props\":{\"className\":\"interact-flex-row interact-widget\"},\"nodeType\":\"DOM\",\"type\":\"node\",\"instanceArgs\":{\"namespace\":\"html\",\"tag\":\"div\"},\"children\":[{\"props\":{\"className\":\"interact-flex-row-left\"},\"nodeType\":\"DOM\",\"type\":\"node\",\"instanceArgs\":{\"namespace\":\"html\",\"tag\":\"div\"},\"children\":[{\"props\":{\"className\":\"interact \",\"style\":{\"padding\":\"5px 10px 0px 10px\"}},\"nodeType\":\"DOM\",\"type\":\"node\",\"instanceArgs\":{\"namespace\":\"html\",\"tag\":\"label\"},\"children\":[\"scale\"]}]},{\"props\":{\"className\":\"interact-flex-row-center\"},\"nodeType\":\"DOM\",\"type\":\"node\",\"instanceArgs\":{\"namespace\":\"html\",\"tag\":\"div\"},\"children\":[{\"props\":{\"max\":20,\"min\":1,\"attributes\":{\"type\":\"range\",\"data-bind\":\"numericValue: index, valueUpdate: 'input', event: {change: function (){this.changes(this.changes()+1)}}\",\"orient\":\"horizontal\"},\"step\":1,\"className\":\"slider slider is-fullwidth\",\"style\":{}},\"nodeType\":\"DOM\",\"type\":\"node\",\"instanceArgs\":{\"namespace\":\"html\",\"tag\":\"input\"},\"children\":[]}]},{\"props\":{\"className\":\"interact-flex-row-right\"},\"nodeType\":\"DOM\",\"type\":\"node\",\"instanceArgs\":{\"namespace\":\"html\",\"tag\":\"div\"},\"children\":[{\"props\":{\"attributes\":{\"data-bind\":\"text: formatted_val\"}},\"nodeType\":\"DOM\",\"type\":\"node\",\"instanceArgs\":{\"namespace\":\"html\",\"tag\":\"p\"},\"children\":[]}]}]}]}]},{\"props\":{\"style\":{\"display\":\"flex\",\"flex-direction\":\"column\"}},\"nodeType\":\"DOM\",\"type\":\"node\",\"instanceArgs\":{\"namespace\":\"html\",\"tag\":\"div\"},\"children\":[]},{\"props\":{\"style\":{\"display\":\"flex\",\"flex-direction\":\"column\"}},\"nodeType\":\"DOM\",\"type\":\"node\",\"instanceArgs\":{\"namespace\":\"html\",\"tag\":\"div\"},\"children\":[{\"props\":{\"className\":\"field interact-widget\"},\"nodeType\":\"DOM\",\"type\":\"node\",\"instanceArgs\":{\"namespace\":\"html\",\"tag\":\"div\"},\"children\":[{\"props\":{},\"nodeType\":\"Scope\",\"type\":\"node\",\"instanceArgs\":{\"imports\":{\"data\":[{\"name\":\"knockout\",\"type\":\"js\",\"url\":\"\\/assetserver\\/727383f2a47bd31570b7da84eee7b022dd6d7c78-knockout.js\"},{\"name\":\"knockout_punches\",\"type\":\"js\",\"url\":\"\\/assetserver\\/382b41b3b1bd9f26f75861d360bad7f8beea211f-knockout_punches.js\"},{\"name\":null,\"type\":\"js\",\"url\":\"\\/assetserver\\/5ab20f1060420992a9b82a65b735dee4d81ef413-all.js\"},{\"name\":null,\"type\":\"css\",\"url\":\"\\/assetserver\\/1cc0ed62837210b80a182cc3676512f895dab686-style.css\"},{\"name\":null,\"type\":\"css\",\"url\":\"\\/assetserver\\/2eee816f616df3549d7044d45e744fbf8d42bfa1-bulma_confined.min.css\"}],\"type\":\"async_block\"},\"id\":\"8757623566880724266\",\"handlers\":{\"changes\":[\"(function (val){return (val!=this.model[\\\"changes\\\"]()) ? (this.valueFromJulia[\\\"changes\\\"]=true, this.model[\\\"changes\\\"](val)) : undefined})\"],\"index\":[\"(function (val){return (val!=this.model[\\\"index\\\"]()) ? (this.valueFromJulia[\\\"index\\\"]=true, this.model[\\\"index\\\"](val)) : undefined})\"]},\"systemjs_options\":null,\"mount_callbacks\":[\"function () {\\n    var handler = (function (ko, koPunches) {\\n    ko.punches.enableAll();\\n    ko.bindingHandlers.numericValue = {\\n        init: function(element, valueAccessor, allBindings, data, context) {\\n            var stringified = ko.observable(ko.unwrap(valueAccessor()));\\n            stringified.subscribe(function(value) {\\n                var val = parseFloat(value);\\n                if (!isNaN(val)) {\\n                    valueAccessor()(val);\\n                }\\n            });\\n            valueAccessor().subscribe(function(value) {\\n                var str = JSON.stringify(value);\\n                if ((str == \\\"0\\\") && ([\\\"-0\\\", \\\"-0.\\\"].indexOf(stringified()) >= 0))\\n                     return;\\n                 if ([\\\"null\\\", \\\"\\\"].indexOf(str) >= 0)\\n                     return;\\n                stringified(str);\\n            });\\n            ko.applyBindingsToNode(\\n                element,\\n                {\\n                    value: stringified,\\n                    valueUpdate: allBindings.get('valueUpdate'),\\n                },\\n                context,\\n            );\\n        }\\n    };\\n    var json_data = {\\\"formatted_vals\\\":[\\\"0.0\\\",\\\"0.01\\\",\\\"0.02\\\",\\\"0.03\\\",\\\"0.04\\\",\\\"0.05\\\",\\\"0.06\\\",\\\"0.07\\\",\\\"0.08\\\",\\\"0.09\\\",\\\"0.1\\\",\\\"0.11\\\",\\\"0.12\\\",\\\"0.13\\\",\\\"0.14\\\",\\\"0.15\\\",\\\"0.16\\\",\\\"0.17\\\",\\\"0.18\\\",\\\"0.19\\\",\\\"0.2\\\",\\\"0.21\\\",\\\"0.22\\\",\\\"0.23\\\",\\\"0.24\\\",\\\"0.25\\\",\\\"0.26\\\",\\\"0.27\\\",\\\"0.28\\\",\\\"0.29\\\",\\\"0.3\\\",\\\"0.31\\\",\\\"0.32\\\",\\\"0.33\\\",\\\"0.34\\\",\\\"0.35\\\",\\\"0.36\\\",\\\"0.37\\\",\\\"0.38\\\",\\\"0.39\\\",\\\"0.4\\\",\\\"0.41\\\",\\\"0.42\\\",\\\"0.43\\\",\\\"0.44\\\",\\\"0.45\\\",\\\"0.46\\\",\\\"0.47\\\",\\\"0.48\\\",\\\"0.49\\\",\\\"0.5\\\",\\\"0.51\\\",\\\"0.52\\\",\\\"0.53\\\",\\\"0.54\\\",\\\"0.55\\\",\\\"0.56\\\",\\\"0.57\\\",\\\"0.58\\\",\\\"0.59\\\",\\\"0.6\\\",\\\"0.61\\\",\\\"0.62\\\",\\\"0.63\\\",\\\"0.64\\\",\\\"0.65\\\",\\\"0.66\\\",\\\"0.67\\\",\\\"0.68\\\",\\\"0.69\\\",\\\"0.7\\\",\\\"0.71\\\",\\\"0.72\\\",\\\"0.73\\\",\\\"0.74\\\",\\\"0.75\\\",\\\"0.76\\\",\\\"0.77\\\",\\\"0.78\\\",\\\"0.79\\\",\\\"0.8\\\",\\\"0.81\\\",\\\"0.82\\\",\\\"0.83\\\",\\\"0.84\\\",\\\"0.85\\\",\\\"0.86\\\",\\\"0.87\\\",\\\"0.88\\\",\\\"0.89\\\",\\\"0.9\\\",\\\"0.91\\\",\\\"0.92\\\",\\\"0.93\\\",\\\"0.94\\\",\\\"0.95\\\",\\\"0.96\\\",\\\"0.97\\\",\\\"0.98\\\",\\\"0.99\\\",\\\"1.0\\\"],\\\"changes\\\":WebIO.getval({\\\"name\\\":\\\"changes\\\",\\\"scope\\\":\\\"8757623566880724266\\\",\\\"id\\\":\\\"10435363678651030749\\\",\\\"type\\\":\\\"observable\\\"}),\\\"index\\\":WebIO.getval({\\\"name\\\":\\\"index\\\",\\\"scope\\\":\\\"8757623566880724266\\\",\\\"id\\\":\\\"5415885749527549360\\\",\\\"type\\\":\\\"observable\\\"})};\\n    var self = this;\\n    function AppViewModel() {\\n        for (var key in json_data) {\\n            var el = json_data[key];\\n            this[key] = Array.isArray(el) ? ko.observableArray(el) : ko.observable(el);\\n        }\\n        \\n        [this[\\\"formatted_val\\\"]=ko.computed(    function(){\\n        return this.formatted_vals()[parseInt(this.index())-(1)];\\n    }\\n,this)]\\n        [this[\\\"changes\\\"].subscribe((function (val){!(this.valueFromJulia[\\\"changes\\\"]) ? (WebIO.setval({\\\"name\\\":\\\"changes\\\",\\\"scope\\\":\\\"8757623566880724266\\\",\\\"id\\\":\\\"10435363678651030749\\\",\\\"type\\\":\\\"observable\\\"},val)) : undefined; return this.valueFromJulia[\\\"changes\\\"]=false}),self),this[\\\"index\\\"].subscribe((function (val){!(this.valueFromJulia[\\\"index\\\"]) ? (WebIO.setval({\\\"name\\\":\\\"index\\\",\\\"scope\\\":\\\"8757623566880724266\\\",\\\"id\\\":\\\"5415885749527549360\\\",\\\"type\\\":\\\"observable\\\"},val)) : undefined; return this.valueFromJulia[\\\"index\\\"]=false}),self)]\\n        \\n    }\\n    self.model = new AppViewModel();\\n    self.valueFromJulia = {};\\n    for (var key in json_data) {\\n        self.valueFromJulia[key] = false;\\n    }\\n    ko.applyBindings(self.model, self.dom);\\n}\\n);\\n    (WebIO.importBlock({\\\"data\\\":[{\\\"name\\\":\\\"knockout\\\",\\\"type\\\":\\\"js\\\",\\\"url\\\":\\\"\\/assetserver\\/727383f2a47bd31570b7da84eee7b022dd6d7c78-knockout.js\\\"},{\\\"name\\\":\\\"knockout_punches\\\",\\\"type\\\":\\\"js\\\",\\\"url\\\":\\\"\\/assetserver\\/382b41b3b1bd9f26f75861d360bad7f8beea211f-knockout_punches.js\\\"}],\\\"type\\\":\\\"async_block\\\"})).then((imports) => handler.apply(this, imports));\\n}\\n\"],\"observables\":{\"changes\":{\"sync\":false,\"id\":\"10435363678651030749\",\"value\":0},\"index\":{\"sync\":true,\"id\":\"5415885749527549360\",\"value\":51}}},\"children\":[{\"props\":{\"className\":\"interact-flex-row interact-widget\"},\"nodeType\":\"DOM\",\"type\":\"node\",\"instanceArgs\":{\"namespace\":\"html\",\"tag\":\"div\"},\"children\":[{\"props\":{\"className\":\"interact-flex-row-left\"},\"nodeType\":\"DOM\",\"type\":\"node\",\"instanceArgs\":{\"namespace\":\"html\",\"tag\":\"div\"},\"children\":[{\"props\":{\"className\":\"interact \",\"style\":{\"padding\":\"5px 10px 0px 10px\"}},\"nodeType\":\"DOM\",\"type\":\"node\",\"instanceArgs\":{\"namespace\":\"html\",\"tag\":\"label\"},\"children\":[\"alive_percent\"]}]},{\"props\":{\"className\":\"interact-flex-row-center\"},\"nodeType\":\"DOM\",\"type\":\"node\",\"instanceArgs\":{\"namespace\":\"html\",\"tag\":\"div\"},\"children\":[{\"props\":{\"max\":101,\"min\":1,\"attributes\":{\"type\":\"range\",\"data-bind\":\"numericValue: index, valueUpdate: 'input', event: {change: function (){this.changes(this.changes()+1)}}\",\"orient\":\"horizontal\"},\"step\":1,\"className\":\"slider slider is-fullwidth\",\"style\":{}},\"nodeType\":\"DOM\",\"type\":\"node\",\"instanceArgs\":{\"namespace\":\"html\",\"tag\":\"input\"},\"children\":[]}]},{\"props\":{\"className\":\"interact-flex-row-right\"},\"nodeType\":\"DOM\",\"type\":\"node\",\"instanceArgs\":{\"namespace\":\"html\",\"tag\":\"div\"},\"children\":[{\"props\":{\"attributes\":{\"data-bind\":\"text: formatted_val\"}},\"nodeType\":\"DOM\",\"type\":\"node\",\"instanceArgs\":{\"namespace\":\"html\",\"tag\":\"p\"},\"children\":[]}]}]}]}]}]},{\"props\":{\"style\":{\"display\":\"flex\",\"flex-direction\":\"row\"}},\"nodeType\":\"DOM\",\"type\":\"node\",\"instanceArgs\":{\"namespace\":\"html\",\"tag\":\"div\"},\"children\":[{\"props\":{\"className\":\"interact-widget\"},\"nodeType\":\"DOM\",\"type\":\"node\",\"instanceArgs\":{\"namespace\":\"html\",\"tag\":\"div\"},\"children\":[{\"props\":{},\"nodeType\":\"Scope\",\"type\":\"node\",\"instanceArgs\":{\"imports\":{\"data\":[{\"name\":null,\"type\":\"js\",\"url\":\"\\/assetserver\\/dd22ed1bf1896c2748f3fe616ce0b838adc895c1-katex.min.js\"},{\"name\":null,\"type\":\"css\",\"url\":\"\\/assetserver\\/46517a424aa5e6cffc1360d7e0848b601c584ee3-katex.min.css\"}],\"type\":\"async_block\"},\"id\":\"5160917430158370871\",\"handlers\":{\"value\":[\"(function (txt){return this.k.render(txt,this.container)})\"]},\"systemjs_options\":null,\"mount_callbacks\":[\"function () {\\n    var handler = ((function (k){this.k=k; this.container=this.dom.querySelector(\\\"#container\\\"); return k.render(\\\"\\\\\\\\;\\\\\\\\;\\\",this.container)}));\\n    (WebIO.importBlock({\\\"data\\\":[{\\\"name\\\":null,\\\"type\\\":\\\"js\\\",\\\"url\\\":\\\"\\/assetserver\\/dd22ed1bf1896c2748f3fe616ce0b838adc895c1-katex.min.js\\\"},{\\\"name\\\":null,\\\"type\\\":\\\"css\\\",\\\"url\\\":\\\"\\/assetserver\\/46517a424aa5e6cffc1360d7e0848b601c584ee3-katex.min.css\\\"}],\\\"type\\\":\\\"async_block\\\"})).then((imports) => handler.apply(this, imports));\\n}\\n\"],\"observables\":{\"value\":{\"sync\":false,\"id\":\"6534056085859816778\",\"value\":\"\\\\;\\\\;\"}}},\"children\":[{\"props\":{\"id\":\"container\"},\"nodeType\":\"DOM\",\"type\":\"node\",\"instanceArgs\":{\"namespace\":\"html\",\"tag\":\"div\"},\"children\":[]}]}]},{\"props\":{\"className\":\"field interact-widget\"},\"nodeType\":\"DOM\",\"type\":\"node\",\"instanceArgs\":{\"namespace\":\"html\",\"tag\":\"div\"},\"children\":[{\"props\":{},\"nodeType\":\"Scope\",\"type\":\"node\",\"instanceArgs\":{\"imports\":{\"data\":[{\"name\":\"knockout\",\"type\":\"js\",\"url\":\"\\/assetserver\\/727383f2a47bd31570b7da84eee7b022dd6d7c78-knockout.js\"},{\"name\":\"knockout_punches\",\"type\":\"js\",\"url\":\"\\/assetserver\\/382b41b3b1bd9f26f75861d360bad7f8beea211f-knockout_punches.js\"},{\"name\":null,\"type\":\"js\",\"url\":\"\\/assetserver\\/5ab20f1060420992a9b82a65b735dee4d81ef413-all.js\"},{\"name\":null,\"type\":\"css\",\"url\":\"\\/assetserver\\/1cc0ed62837210b80a182cc3676512f895dab686-style.css\"},{\"name\":null,\"type\":\"css\",\"url\":\"\\/assetserver\\/2eee816f616df3549d7044d45e744fbf8d42bfa1-bulma_confined.min.css\"}],\"type\":\"async_block\"},\"id\":\"2448338418110054499\",\"handlers\":{\"loading\":[\"(function (val){return (val!=this.model[\\\"loading\\\"]()) ? (this.valueFromJulia[\\\"loading\\\"]=true, this.model[\\\"loading\\\"](val)) : undefined})\"],\"clicks\":[\"(function (val){return (val!=this.model[\\\"clicks\\\"]()) ? (this.valueFromJulia[\\\"clicks\\\"]=true, this.model[\\\"clicks\\\"](val)) : undefined})\"]},\"systemjs_options\":null,\"mount_callbacks\":[\"function () {\\n    var handler = (function (ko, koPunches) {\\n    ko.punches.enableAll();\\n    ko.bindingHandlers.numericValue = {\\n        init: function(element, valueAccessor, allBindings, data, context) {\\n            var stringified = ko.observable(ko.unwrap(valueAccessor()));\\n            stringified.subscribe(function(value) {\\n                var val = parseFloat(value);\\n                if (!isNaN(val)) {\\n                    valueAccessor()(val);\\n                }\\n            });\\n            valueAccessor().subscribe(function(value) {\\n                var str = JSON.stringify(value);\\n                if ((str == \\\"0\\\") && ([\\\"-0\\\", \\\"-0.\\\"].indexOf(stringified()) >= 0))\\n                     return;\\n                 if ([\\\"null\\\", \\\"\\\"].indexOf(str) >= 0)\\n                     return;\\n                stringified(str);\\n            });\\n            ko.applyBindingsToNode(\\n                element,\\n                {\\n                    value: stringified,\\n                    valueUpdate: allBindings.get('valueUpdate'),\\n                },\\n                context,\\n            );\\n        }\\n    };\\n    var json_data = {\\\"loading\\\":WebIO.getval({\\\"name\\\":\\\"loading\\\",\\\"scope\\\":\\\"2448338418110054499\\\",\\\"id\\\":\\\"16120370462721398524\\\",\\\"type\\\":\\\"observable\\\"}),\\\"clicks\\\":WebIO.getval({\\\"name\\\":\\\"clicks\\\",\\\"scope\\\":\\\"2448338418110054499\\\",\\\"id\\\":\\\"10434984609133191015\\\",\\\"type\\\":\\\"observable\\\"})};\\n    var self = this;\\n    function AppViewModel() {\\n        for (var key in json_data) {\\n            var el = json_data[key];\\n            this[key] = Array.isArray(el) ? ko.observableArray(el) : ko.observable(el);\\n        }\\n        \\n        \\n        [this[\\\"loading\\\"].subscribe((function (val){!(this.valueFromJulia[\\\"loading\\\"]) ? (WebIO.setval({\\\"name\\\":\\\"loading\\\",\\\"scope\\\":\\\"2448338418110054499\\\",\\\"id\\\":\\\"16120370462721398524\\\",\\\"type\\\":\\\"observable\\\"},val)) : undefined; return this.valueFromJulia[\\\"loading\\\"]=false}),self),this[\\\"clicks\\\"].subscribe((function (val){!(this.valueFromJulia[\\\"clicks\\\"]) ? (WebIO.setval({\\\"name\\\":\\\"clicks\\\",\\\"scope\\\":\\\"2448338418110054499\\\",\\\"id\\\":\\\"10434984609133191015\\\",\\\"type\\\":\\\"observable\\\"},val)) : undefined; return this.valueFromJulia[\\\"clicks\\\"]=false}),self)]\\n        \\n    }\\n    self.model = new AppViewModel();\\n    self.valueFromJulia = {};\\n    for (var key in json_data) {\\n        self.valueFromJulia[key] = false;\\n    }\\n    ko.applyBindings(self.model, self.dom);\\n}\\n);\\n    (WebIO.importBlock({\\\"data\\\":[{\\\"name\\\":\\\"knockout\\\",\\\"type\\\":\\\"js\\\",\\\"url\\\":\\\"\\/assetserver\\/727383f2a47bd31570b7da84eee7b022dd6d7c78-knockout.js\\\"},{\\\"name\\\":\\\"knockout_punches\\\",\\\"type\\\":\\\"js\\\",\\\"url\\\":\\\"\\/assetserver\\/382b41b3b1bd9f26f75861d360bad7f8beea211f-knockout_punches.js\\\"}],\\\"type\\\":\\\"async_block\\\"})).then((imports) => handler.apply(this, imports));\\n}\\n\"],\"observables\":{\"loading\":{\"sync\":false,\"id\":\"16120370462721398524\",\"value\":false},\"clicks\":{\"sync\":true,\"id\":\"10434984609133191015\",\"value\":0}}},\"children\":[{\"props\":{\"attributes\":{\"data-bind\":\"click: function (){this.clicks(this.clicks()+1)}, css: {'is-loading' : loading}\"},\"className\":\"is-medium button is-primary\",\"style\":{}},\"nodeType\":\"DOM\",\"type\":\"node\",\"instanceArgs\":{\"namespace\":\"html\",\"tag\":\"button\"},\"children\":[\"run\"]}]}]},{\"props\":{\"className\":\"interact-widget\"},\"nodeType\":\"DOM\",\"type\":\"node\",\"instanceArgs\":{\"namespace\":\"html\",\"tag\":\"div\"},\"children\":[{\"props\":{},\"nodeType\":\"Scope\",\"type\":\"node\",\"instanceArgs\":{\"imports\":{\"data\":[{\"name\":null,\"type\":\"js\",\"url\":\"\\/assetserver\\/dd22ed1bf1896c2748f3fe616ce0b838adc895c1-katex.min.js\"},{\"name\":null,\"type\":\"css\",\"url\":\"\\/assetserver\\/46517a424aa5e6cffc1360d7e0848b601c584ee3-katex.min.css\"}],\"type\":\"async_block\"},\"id\":\"5160917430158370871\",\"handlers\":{\"value\":[\"(function (txt){return this.k.render(txt,this.container)})\"]},\"systemjs_options\":null,\"mount_callbacks\":[\"function () {\\n    var handler = ((function (k){this.k=k; this.container=this.dom.querySelector(\\\"#container\\\"); return k.render(\\\"\\\\\\\\;\\\\\\\\;\\\",this.container)}));\\n    (WebIO.importBlock({\\\"data\\\":[{\\\"name\\\":null,\\\"type\\\":\\\"js\\\",\\\"url\\\":\\\"\\/assetserver\\/dd22ed1bf1896c2748f3fe616ce0b838adc895c1-katex.min.js\\\"},{\\\"name\\\":null,\\\"type\\\":\\\"css\\\",\\\"url\\\":\\\"\\/assetserver\\/46517a424aa5e6cffc1360d7e0848b601c584ee3-katex.min.css\\\"}],\\\"type\\\":\\\"async_block\\\"})).then((imports) => handler.apply(this, imports));\\n}\\n\"],\"observables\":{\"value\":{\"sync\":false,\"id\":\"6534056085859816778\",\"value\":\"\\\\;\\\\;\"}}},\"children\":[{\"props\":{\"id\":\"container\"},\"nodeType\":\"DOM\",\"type\":\"node\",\"instanceArgs\":{\"namespace\":\"html\",\"tag\":\"div\"},\"children\":[]}]}]},{\"props\":{\"className\":\"field interact-widget\"},\"nodeType\":\"DOM\",\"type\":\"node\",\"instanceArgs\":{\"namespace\":\"html\",\"tag\":\"div\"},\"children\":[{\"props\":{},\"nodeType\":\"Scope\",\"type\":\"node\",\"instanceArgs\":{\"imports\":{\"data\":[{\"name\":\"knockout\",\"type\":\"js\",\"url\":\"\\/assetserver\\/727383f2a47bd31570b7da84eee7b022dd6d7c78-knockout.js\"},{\"name\":\"knockout_punches\",\"type\":\"js\",\"url\":\"\\/assetserver\\/382b41b3b1bd9f26f75861d360bad7f8beea211f-knockout_punches.js\"},{\"name\":null,\"type\":\"js\",\"url\":\"\\/assetserver\\/5ab20f1060420992a9b82a65b735dee4d81ef413-all.js\"},{\"name\":null,\"type\":\"css\",\"url\":\"\\/assetserver\\/1cc0ed62837210b80a182cc3676512f895dab686-style.css\"},{\"name\":null,\"type\":\"css\",\"url\":\"\\/assetserver\\/2eee816f616df3549d7044d45e744fbf8d42bfa1-bulma_confined.min.css\"}],\"type\":\"async_block\"},\"id\":\"15845275790707751715\",\"handlers\":{\"loading\":[\"(function (val){return (val!=this.model[\\\"loading\\\"]()) ? (this.valueFromJulia[\\\"loading\\\"]=true, this.model[\\\"loading\\\"](val)) : undefined})\"],\"clicks\":[\"(function (val){return (val!=this.model[\\\"clicks\\\"]()) ? (this.valueFromJulia[\\\"clicks\\\"]=true, this.model[\\\"clicks\\\"](val)) : undefined})\"]},\"systemjs_options\":null,\"mount_callbacks\":[\"function () {\\n    var handler = (function (ko, koPunches) {\\n    ko.punches.enableAll();\\n    ko.bindingHandlers.numericValue = {\\n        init: function(element, valueAccessor, allBindings, data, context) {\\n            var stringified = ko.observable(ko.unwrap(valueAccessor()));\\n            stringified.subscribe(function(value) {\\n                var val = parseFloat(value);\\n                if (!isNaN(val)) {\\n                    valueAccessor()(val);\\n                }\\n            });\\n            valueAccessor().subscribe(function(value) {\\n                var str = JSON.stringify(value);\\n                if ((str == \\\"0\\\") && ([\\\"-0\\\", \\\"-0.\\\"].indexOf(stringified()) >= 0))\\n                     return;\\n                 if ([\\\"null\\\", \\\"\\\"].indexOf(str) >= 0)\\n                     return;\\n                stringified(str);\\n            });\\n            ko.applyBindingsToNode(\\n                element,\\n                {\\n                    value: stringified,\\n                    valueUpdate: allBindings.get('valueUpdate'),\\n                },\\n                context,\\n            );\\n        }\\n    };\\n    var json_data = {\\\"loading\\\":WebIO.getval({\\\"name\\\":\\\"loading\\\",\\\"scope\\\":\\\"15845275790707751715\\\",\\\"id\\\":\\\"12298944416942724773\\\",\\\"type\\\":\\\"observable\\\"}),\\\"clicks\\\":WebIO.getval({\\\"name\\\":\\\"clicks\\\",\\\"scope\\\":\\\"15845275790707751715\\\",\\\"id\\\":\\\"7529240390082541530\\\",\\\"type\\\":\\\"observable\\\"})};\\n    var self = this;\\n    function AppViewModel() {\\n        for (var key in json_data) {\\n            var el = json_data[key];\\n            this[key] = Array.isArray(el) ? ko.observableArray(el) : ko.observable(el);\\n        }\\n        \\n        \\n        [this[\\\"loading\\\"].subscribe((function (val){!(this.valueFromJulia[\\\"loading\\\"]) ? (WebIO.setval({\\\"name\\\":\\\"loading\\\",\\\"scope\\\":\\\"15845275790707751715\\\",\\\"id\\\":\\\"12298944416942724773\\\",\\\"type\\\":\\\"observable\\\"},val)) : undefined; return this.valueFromJulia[\\\"loading\\\"]=false}),self),this[\\\"clicks\\\"].subscribe((function (val){!(this.valueFromJulia[\\\"clicks\\\"]) ? (WebIO.setval({\\\"name\\\":\\\"clicks\\\",\\\"scope\\\":\\\"15845275790707751715\\\",\\\"id\\\":\\\"7529240390082541530\\\",\\\"type\\\":\\\"observable\\\"},val)) : undefined; return this.valueFromJulia[\\\"clicks\\\"]=false}),self)]\\n        \\n    }\\n    self.model = new AppViewModel();\\n    self.valueFromJulia = {};\\n    for (var key in json_data) {\\n        self.valueFromJulia[key] = false;\\n    }\\n    ko.applyBindings(self.model, self.dom);\\n}\\n);\\n    (WebIO.importBlock({\\\"data\\\":[{\\\"name\\\":\\\"knockout\\\",\\\"type\\\":\\\"js\\\",\\\"url\\\":\\\"\\/assetserver\\/727383f2a47bd31570b7da84eee7b022dd6d7c78-knockout.js\\\"},{\\\"name\\\":\\\"knockout_punches\\\",\\\"type\\\":\\\"js\\\",\\\"url\\\":\\\"\\/assetserver\\/382b41b3b1bd9f26f75861d360bad7f8beea211f-knockout_punches.js\\\"}],\\\"type\\\":\\\"async_block\\\"})).then((imports) => handler.apply(this, imports));\\n}\\n\"],\"observables\":{\"loading\":{\"sync\":false,\"id\":\"12298944416942724773\",\"value\":false},\"clicks\":{\"sync\":true,\"id\":\"7529240390082541530\",\"value\":0}}},\"children\":[{\"props\":{\"attributes\":{\"data-bind\":\"click: function (){this.clicks(this.clicks()+1)}, css: {'is-loading' : loading}\"},\"className\":\"is-medium button is-primary\",\"style\":{}},\"nodeType\":\"DOM\",\"type\":\"node\",\"instanceArgs\":{\"namespace\":\"html\",\"tag\":\"button\"},\"children\":[\"stop\"]}]}]},{\"props\":{\"className\":\"interact-widget\"},\"nodeType\":\"DOM\",\"type\":\"node\",\"instanceArgs\":{\"namespace\":\"html\",\"tag\":\"div\"},\"children\":[{\"props\":{},\"nodeType\":\"Scope\",\"type\":\"node\",\"instanceArgs\":{\"imports\":{\"data\":[{\"name\":null,\"type\":\"js\",\"url\":\"\\/assetserver\\/dd22ed1bf1896c2748f3fe616ce0b838adc895c1-katex.min.js\"},{\"name\":null,\"type\":\"css\",\"url\":\"\\/assetserver\\/46517a424aa5e6cffc1360d7e0848b601c584ee3-katex.min.css\"}],\"type\":\"async_block\"},\"id\":\"5160917430158370871\",\"handlers\":{\"value\":[\"(function (txt){return this.k.render(txt,this.container)})\"]},\"systemjs_options\":null,\"mount_callbacks\":[\"function () {\\n    var handler = ((function (k){this.k=k; this.container=this.dom.querySelector(\\\"#container\\\"); return k.render(\\\"\\\\\\\\;\\\\\\\\;\\\",this.container)}));\\n    (WebIO.importBlock({\\\"data\\\":[{\\\"name\\\":null,\\\"type\\\":\\\"js\\\",\\\"url\\\":\\\"\\/assetserver\\/dd22ed1bf1896c2748f3fe616ce0b838adc895c1-katex.min.js\\\"},{\\\"name\\\":null,\\\"type\\\":\\\"css\\\",\\\"url\\\":\\\"\\/assetserver\\/46517a424aa5e6cffc1360d7e0848b601c584ee3-katex.min.css\\\"}],\\\"type\\\":\\\"async_block\\\"})).then((imports) => handler.apply(this, imports));\\n}\\n\"],\"observables\":{\"value\":{\"sync\":false,\"id\":\"6534056085859816778\",\"value\":\"\\\\;\\\\;\"}}},\"children\":[{\"props\":{\"id\":\"container\"},\"nodeType\":\"DOM\",\"type\":\"node\",\"instanceArgs\":{\"namespace\":\"html\",\"tag\":\"div\"},\"children\":[]}]}]},{\"props\":{\"className\":\"field interact-widget\"},\"nodeType\":\"DOM\",\"type\":\"node\",\"instanceArgs\":{\"namespace\":\"html\",\"tag\":\"div\"},\"children\":[{\"props\":{},\"nodeType\":\"Scope\",\"type\":\"node\",\"instanceArgs\":{\"imports\":{\"data\":[{\"name\":\"knockout\",\"type\":\"js\",\"url\":\"\\/assetserver\\/727383f2a47bd31570b7da84eee7b022dd6d7c78-knockout.js\"},{\"name\":\"knockout_punches\",\"type\":\"js\",\"url\":\"\\/assetserver\\/382b41b3b1bd9f26f75861d360bad7f8beea211f-knockout_punches.js\"},{\"name\":null,\"type\":\"js\",\"url\":\"\\/assetserver\\/5ab20f1060420992a9b82a65b735dee4d81ef413-all.js\"},{\"name\":null,\"type\":\"css\",\"url\":\"\\/assetserver\\/1cc0ed62837210b80a182cc3676512f895dab686-style.css\"},{\"name\":null,\"type\":\"css\",\"url\":\"\\/assetserver\\/2eee816f616df3549d7044d45e744fbf8d42bfa1-bulma_confined.min.css\"}],\"type\":\"async_block\"},\"id\":\"7083948473823172168\",\"handlers\":{\"loading\":[\"(function (val){return (val!=this.model[\\\"loading\\\"]()) ? (this.valueFromJulia[\\\"loading\\\"]=true, this.model[\\\"loading\\\"](val)) : undefined})\"],\"clicks\":[\"(function (val){return (val!=this.model[\\\"clicks\\\"]()) ? (this.valueFromJulia[\\\"clicks\\\"]=true, this.model[\\\"clicks\\\"](val)) : undefined})\"]},\"systemjs_options\":null,\"mount_callbacks\":[\"function () {\\n    var handler = (function (ko, koPunches) {\\n    ko.punches.enableAll();\\n    ko.bindingHandlers.numericValue = {\\n        init: function(element, valueAccessor, allBindings, data, context) {\\n            var stringified = ko.observable(ko.unwrap(valueAccessor()));\\n            stringified.subscribe(function(value) {\\n                var val = parseFloat(value);\\n                if (!isNaN(val)) {\\n                    valueAccessor()(val);\\n                }\\n            });\\n            valueAccessor().subscribe(function(value) {\\n                var str = JSON.stringify(value);\\n                if ((str == \\\"0\\\") && ([\\\"-0\\\", \\\"-0.\\\"].indexOf(stringified()) >= 0))\\n                     return;\\n                 if ([\\\"null\\\", \\\"\\\"].indexOf(str) >= 0)\\n                     return;\\n                stringified(str);\\n            });\\n            ko.applyBindingsToNode(\\n                element,\\n                {\\n                    value: stringified,\\n                    valueUpdate: allBindings.get('valueUpdate'),\\n                },\\n                context,\\n            );\\n        }\\n    };\\n    var json_data = {\\\"loading\\\":WebIO.getval({\\\"name\\\":\\\"loading\\\",\\\"scope\\\":\\\"7083948473823172168\\\",\\\"id\\\":\\\"16431930551614108564\\\",\\\"type\\\":\\\"observable\\\"}),\\\"clicks\\\":WebIO.getval({\\\"name\\\":\\\"clicks\\\",\\\"scope\\\":\\\"7083948473823172168\\\",\\\"id\\\":\\\"10328807453396430252\\\",\\\"type\\\":\\\"observable\\\"})};\\n    var self = this;\\n    function AppViewModel() {\\n        for (var key in json_data) {\\n            var el = json_data[key];\\n            this[key] = Array.isArray(el) ? ko.observableArray(el) : ko.observable(el);\\n        }\\n        \\n        \\n        [this[\\\"loading\\\"].subscribe((function (val){!(this.valueFromJulia[\\\"loading\\\"]) ? (WebIO.setval({\\\"name\\\":\\\"loading\\\",\\\"scope\\\":\\\"7083948473823172168\\\",\\\"id\\\":\\\"16431930551614108564\\\",\\\"type\\\":\\\"observable\\\"},val)) : undefined; return this.valueFromJulia[\\\"loading\\\"]=false}),self),this[\\\"clicks\\\"].subscribe((function (val){!(this.valueFromJulia[\\\"clicks\\\"]) ? (WebIO.setval({\\\"name\\\":\\\"clicks\\\",\\\"scope\\\":\\\"7083948473823172168\\\",\\\"id\\\":\\\"10328807453396430252\\\",\\\"type\\\":\\\"observable\\\"},val)) : undefined; return this.valueFromJulia[\\\"clicks\\\"]=false}),self)]\\n        \\n    }\\n    self.model = new AppViewModel();\\n    self.valueFromJulia = {};\\n    for (var key in json_data) {\\n        self.valueFromJulia[key] = false;\\n    }\\n    ko.applyBindings(self.model, self.dom);\\n}\\n);\\n    (WebIO.importBlock({\\\"data\\\":[{\\\"name\\\":\\\"knockout\\\",\\\"type\\\":\\\"js\\\",\\\"url\\\":\\\"\\/assetserver\\/727383f2a47bd31570b7da84eee7b022dd6d7c78-knockout.js\\\"},{\\\"name\\\":\\\"knockout_punches\\\",\\\"type\\\":\\\"js\\\",\\\"url\\\":\\\"\\/assetserver\\/382b41b3b1bd9f26f75861d360bad7f8beea211f-knockout_punches.js\\\"}],\\\"type\\\":\\\"async_block\\\"})).then((imports) => handler.apply(this, imports));\\n}\\n\"],\"observables\":{\"loading\":{\"sync\":false,\"id\":\"16431930551614108564\",\"value\":false},\"clicks\":{\"sync\":true,\"id\":\"10328807453396430252\",\"value\":0}}},\"children\":[{\"props\":{\"attributes\":{\"data-bind\":\"click: function (){this.clicks(this.clicks()+1)}, css: {'is-loading' : loading}\"},\"className\":\"is-medium button is-primary\",\"style\":{}},\"nodeType\":\"DOM\",\"type\":\"node\",\"instanceArgs\":{\"namespace\":\"html\",\"tag\":\"button\"},\"children\":[\"reset\"]}]}]},{\"props\":{\"className\":\"interact-widget\"},\"nodeType\":\"DOM\",\"type\":\"node\",\"instanceArgs\":{\"namespace\":\"html\",\"tag\":\"div\"},\"children\":[{\"props\":{},\"nodeType\":\"Scope\",\"type\":\"node\",\"instanceArgs\":{\"imports\":{\"data\":[{\"name\":null,\"type\":\"js\",\"url\":\"\\/assetserver\\/dd22ed1bf1896c2748f3fe616ce0b838adc895c1-katex.min.js\"},{\"name\":null,\"type\":\"css\",\"url\":\"\\/assetserver\\/46517a424aa5e6cffc1360d7e0848b601c584ee3-katex.min.css\"}],\"type\":\"async_block\"},\"id\":\"5160917430158370871\",\"handlers\":{\"value\":[\"(function (txt){return this.k.render(txt,this.container)})\"]},\"systemjs_options\":null,\"mount_callbacks\":[\"function () {\\n    var handler = ((function (k){this.k=k; this.container=this.dom.querySelector(\\\"#container\\\"); return k.render(\\\"\\\\\\\\;\\\\\\\\;\\\",this.container)}));\\n    (WebIO.importBlock({\\\"data\\\":[{\\\"name\\\":null,\\\"type\\\":\\\"js\\\",\\\"url\\\":\\\"\\/assetserver\\/dd22ed1bf1896c2748f3fe616ce0b838adc895c1-katex.min.js\\\"},{\\\"name\\\":null,\\\"type\\\":\\\"css\\\",\\\"url\\\":\\\"\\/assetserver\\/46517a424aa5e6cffc1360d7e0848b601c584ee3-katex.min.css\\\"}],\\\"type\\\":\\\"async_block\\\"})).then((imports) => handler.apply(this, imports));\\n}\\n\"],\"observables\":{\"value\":{\"sync\":false,\"id\":\"6534056085859816778\",\"value\":\"\\\\;\\\\;\"}}},\"children\":[{\"props\":{\"id\":\"container\"},\"nodeType\":\"DOM\",\"type\":\"node\",\"instanceArgs\":{\"namespace\":\"html\",\"tag\":\"div\"},\"children\":[]}]}]},{\"props\":{\"className\":\"field interact-widget\"},\"nodeType\":\"DOM\",\"type\":\"node\",\"instanceArgs\":{\"namespace\":\"html\",\"tag\":\"div\"},\"children\":[{\"props\":{},\"nodeType\":\"Scope\",\"type\":\"node\",\"instanceArgs\":{\"imports\":{\"data\":[{\"name\":\"knockout\",\"type\":\"js\",\"url\":\"\\/assetserver\\/727383f2a47bd31570b7da84eee7b022dd6d7c78-knockout.js\"},{\"name\":\"knockout_punches\",\"type\":\"js\",\"url\":\"\\/assetserver\\/382b41b3b1bd9f26f75861d360bad7f8beea211f-knockout_punches.js\"},{\"name\":null,\"type\":\"js\",\"url\":\"\\/assetserver\\/5ab20f1060420992a9b82a65b735dee4d81ef413-all.js\"},{\"name\":null,\"type\":\"css\",\"url\":\"\\/assetserver\\/1cc0ed62837210b80a182cc3676512f895dab686-style.css\"},{\"name\":null,\"type\":\"css\",\"url\":\"\\/assetserver\\/2eee816f616df3549d7044d45e744fbf8d42bfa1-bulma_confined.min.css\"}],\"type\":\"async_block\"},\"id\":\"2475623436957572116\",\"handlers\":{\"loading\":[\"(function (val){return (val!=this.model[\\\"loading\\\"]()) ? (this.valueFromJulia[\\\"loading\\\"]=true, this.model[\\\"loading\\\"](val)) : undefined})\"],\"clicks\":[\"(function (val){return (val!=this.model[\\\"clicks\\\"]()) ? (this.valueFromJulia[\\\"clicks\\\"]=true, this.model[\\\"clicks\\\"](val)) : undefined})\"]},\"systemjs_options\":null,\"mount_callbacks\":[\"function () {\\n    var handler = (function (ko, koPunches) {\\n    ko.punches.enableAll();\\n    ko.bindingHandlers.numericValue = {\\n        init: function(element, valueAccessor, allBindings, data, context) {\\n            var stringified = ko.observable(ko.unwrap(valueAccessor()));\\n            stringified.subscribe(function(value) {\\n                var val = parseFloat(value);\\n                if (!isNaN(val)) {\\n                    valueAccessor()(val);\\n                }\\n            });\\n            valueAccessor().subscribe(function(value) {\\n                var str = JSON.stringify(value);\\n                if ((str == \\\"0\\\") && ([\\\"-0\\\", \\\"-0.\\\"].indexOf(stringified()) >= 0))\\n                     return;\\n                 if ([\\\"null\\\", \\\"\\\"].indexOf(str) >= 0)\\n                     return;\\n                stringified(str);\\n            });\\n            ko.applyBindingsToNode(\\n                element,\\n                {\\n                    value: stringified,\\n                    valueUpdate: allBindings.get('valueUpdate'),\\n                },\\n                context,\\n            );\\n        }\\n    };\\n    var json_data = {\\\"loading\\\":WebIO.getval({\\\"name\\\":\\\"loading\\\",\\\"scope\\\":\\\"2475623436957572116\\\",\\\"id\\\":\\\"771028028324613882\\\",\\\"type\\\":\\\"observable\\\"}),\\\"clicks\\\":WebIO.getval({\\\"name\\\":\\\"clicks\\\",\\\"scope\\\":\\\"2475623436957572116\\\",\\\"id\\\":\\\"3583906171996889860\\\",\\\"type\\\":\\\"observable\\\"})};\\n    var self = this;\\n    function AppViewModel() {\\n        for (var key in json_data) {\\n            var el = json_data[key];\\n            this[key] = Array.isArray(el) ? ko.observableArray(el) : ko.observable(el);\\n        }\\n        \\n        \\n        [this[\\\"loading\\\"].subscribe((function (val){!(this.valueFromJulia[\\\"loading\\\"]) ? (WebIO.setval({\\\"name\\\":\\\"loading\\\",\\\"scope\\\":\\\"2475623436957572116\\\",\\\"id\\\":\\\"771028028324613882\\\",\\\"type\\\":\\\"observable\\\"},val)) : undefined; return this.valueFromJulia[\\\"loading\\\"]=false}),self),this[\\\"clicks\\\"].subscribe((function (val){!(this.valueFromJulia[\\\"clicks\\\"]) ? (WebIO.setval({\\\"name\\\":\\\"clicks\\\",\\\"scope\\\":\\\"2475623436957572116\\\",\\\"id\\\":\\\"3583906171996889860\\\",\\\"type\\\":\\\"observable\\\"},val)) : undefined; return this.valueFromJulia[\\\"clicks\\\"]=false}),self)]\\n        \\n    }\\n    self.model = new AppViewModel();\\n    self.valueFromJulia = {};\\n    for (var key in json_data) {\\n        self.valueFromJulia[key] = false;\\n    }\\n    ko.applyBindings(self.model, self.dom);\\n}\\n);\\n    (WebIO.importBlock({\\\"data\\\":[{\\\"name\\\":\\\"knockout\\\",\\\"type\\\":\\\"js\\\",\\\"url\\\":\\\"\\/assetserver\\/727383f2a47bd31570b7da84eee7b022dd6d7c78-knockout.js\\\"},{\\\"name\\\":\\\"knockout_punches\\\",\\\"type\\\":\\\"js\\\",\\\"url\\\":\\\"\\/assetserver\\/382b41b3b1bd9f26f75861d360bad7f8beea211f-knockout_punches.js\\\"}],\\\"type\\\":\\\"async_block\\\"})).then((imports) => handler.apply(this, imports));\\n}\\n\"],\"observables\":{\"loading\":{\"sync\":false,\"id\":\"771028028324613882\",\"value\":false},\"clicks\":{\"sync\":true,\"id\":\"3583906171996889860\",\"value\":0}}},\"children\":[{\"props\":{\"attributes\":{\"data-bind\":\"click: function (){this.clicks(this.clicks()+1)}, css: {'is-loading' : loading}\"},\"className\":\"is-medium button is-primary\",\"style\":{}},\"nodeType\":\"DOM\",\"type\":\"node\",\"instanceArgs\":{\"namespace\":\"html\",\"tag\":\"button\"},\"children\":[\"save\"]}]}]}]}]},{\"props\":{\"className\":\"interact-widget\"},\"nodeType\":\"DOM\",\"type\":\"node\",\"instanceArgs\":{\"namespace\":\"html\",\"tag\":\"div\"},\"children\":[{\"props\":{},\"nodeType\":\"Scope\",\"type\":\"node\",\"instanceArgs\":{\"imports\":{\"data\":[{\"name\":null,\"type\":\"js\",\"url\":\"\\/assetserver\\/dd22ed1bf1896c2748f3fe616ce0b838adc895c1-katex.min.js\"},{\"name\":null,\"type\":\"css\",\"url\":\"\\/assetserver\\/46517a424aa5e6cffc1360d7e0848b601c584ee3-katex.min.css\"}],\"type\":\"async_block\"},\"id\":\"5160917430158370871\",\"handlers\":{\"value\":[\"(function (txt){return this.k.render(txt,this.container)})\"]},\"systemjs_options\":null,\"mount_callbacks\":[\"function () {\\n    var handler = ((function (k){this.k=k; this.container=this.dom.querySelector(\\\"#container\\\"); return k.render(\\\"\\\\\\\\;\\\\\\\\;\\\",this.container)}));\\n    (WebIO.importBlock({\\\"data\\\":[{\\\"name\\\":null,\\\"type\\\":\\\"js\\\",\\\"url\\\":\\\"\\/assetserver\\/dd22ed1bf1896c2748f3fe616ce0b838adc895c1-katex.min.js\\\"},{\\\"name\\\":null,\\\"type\\\":\\\"css\\\",\\\"url\\\":\\\"\\/assetserver\\/46517a424aa5e6cffc1360d7e0848b601c584ee3-katex.min.css\\\"}],\\\"type\\\":\\\"async_block\\\"})).then((imports) => handler.apply(this, imports));\\n}\\n\"],\"observables\":{\"value\":{\"sync\":false,\"id\":\"6534056085859816778\",\"value\":\"\\\\;\\\\;\"}}},\"children\":[{\"props\":{\"id\":\"container\"},\"nodeType\":\"DOM\",\"type\":\"node\",\"instanceArgs\":{\"namespace\":\"html\",\"tag\":\"div\"},\"children\":[]}]}]},{\"props\":{},\"nodeType\":\"Scope\",\"type\":\"node\",\"instanceArgs\":{\"imports\":{\"data\":[],\"type\":\"async_block\"},\"id\":\"7626154394880950773\",\"handlers\":{\"obs-output\":[\"function (value, scope) {\\n    scope.setInnerHTML(value);\\n}\\n\"]},\"systemjs_options\":null,\"mount_callbacks\":[],\"observables\":{\"obs-output\":{\"sync\":false,\"id\":\"13751193505611435674\",\"value\":\"<img src='data:image\\/png;base64,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'><\\/img>\"}}},\"children\":[{\"props\":{\"className\":\"webio-observable\",\"setInnerHtml\":\"<img src='data:image\\/png;base64,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'><\\/img>\"},\"nodeType\":\"DOM\",\"type\":\"node\",\"instanceArgs\":{\"namespace\":\"html\",\"tag\":\"div\"},\"children\":[]}]},{\"props\":{\"className\":\"interact-widget\"},\"nodeType\":\"DOM\",\"type\":\"node\",\"instanceArgs\":{\"namespace\":\"html\",\"tag\":\"div\"},\"children\":[{\"props\":{},\"nodeType\":\"Scope\",\"type\":\"node\",\"instanceArgs\":{\"imports\":{\"data\":[{\"name\":null,\"type\":\"js\",\"url\":\"\\/assetserver\\/dd22ed1bf1896c2748f3fe616ce0b838adc895c1-katex.min.js\"},{\"name\":null,\"type\":\"css\",\"url\":\"\\/assetserver\\/46517a424aa5e6cffc1360d7e0848b601c584ee3-katex.min.css\"}],\"type\":\"async_block\"},\"id\":\"5160917430158370871\",\"handlers\":{\"value\":[\"(function (txt){return this.k.render(txt,this.container)})\"]},\"systemjs_options\":null,\"mount_callbacks\":[\"function () {\\n    var handler = ((function (k){this.k=k; this.container=this.dom.querySelector(\\\"#container\\\"); return k.render(\\\"\\\\\\\\;\\\\\\\\;\\\",this.container)}));\\n    (WebIO.importBlock({\\\"data\\\":[{\\\"name\\\":null,\\\"type\\\":\\\"js\\\",\\\"url\\\":\\\"\\/assetserver\\/dd22ed1bf1896c2748f3fe616ce0b838adc895c1-katex.min.js\\\"},{\\\"name\\\":null,\\\"type\\\":\\\"css\\\",\\\"url\\\":\\\"\\/assetserver\\/46517a424aa5e6cffc1360d7e0848b601c584ee3-katex.min.css\\\"}],\\\"type\\\":\\\"async_block\\\"})).then((imports) => handler.apply(this, imports));\\n}\\n\"],\"observables\":{\"value\":{\"sync\":false,\"id\":\"6534056085859816778\",\"value\":\"\\\\;\\\\;\"}}},\"children\":[{\"props\":{\"id\":\"container\"},\"nodeType\":\"DOM\",\"type\":\"node\",\"instanceArgs\":{\"namespace\":\"html\",\"tag\":\"div\"},\"children\":[]}]}]},{\"props\":{\"style\":{\"display\":\"flex\",\"flex-direction\":\"column\"}},\"nodeType\":\"DOM\",\"type\":\"node\",\"instanceArgs\":{\"namespace\":\"html\",\"tag\":\"div\"},\"children\":[]}]}]},\n",
       "        window,\n",
       "    );\n",
       "    })()\n",
       "    </script>\n",
       "</div>\n"
      ],
      "text/plain": [
       "WebIO.Node{WebIO.DOM}(WebIO.DOM(:html, :div), Any[WebIO.Node{WebIO.DOM}(WebIO.DOM(:html, :div), Any[WebIO.Node{WebIO.DOM}(WebIO.DOM(:html, :div), Any[WebIO.Node{WebIO.DOM}(WebIO.DOM(:html, :div), Any[WebIO.Scope(WebIO.Node{WebIO.DOM}(WebIO.DOM(:html, :div), Any[WebIO.Node{WebIO.DOM}(WebIO.DOM(:html, :div), Any[WebIO.Node{WebIO.DOM}(WebIO.DOM(:html, :label), Any[\"time\"], Dict{Symbol, Any}(:className => \"interact \", :style => Dict{Any, Any}(:padding => \"5px 10px 0px 10px\")))], Dict{Symbol, Any}(:className => \"interact-flex-row-left\")), WebIO.Node{WebIO.DOM}(WebIO.DOM(:html, :div), Any[WebIO.Node{WebIO.DOM}(WebIO.DOM(:html, :input), Any[], Dict{Symbol, Any}(:max => 200, :min => 1, :attributes => Dict{Any, Any}(:type => \"range\", Symbol(\"data-bind\") => \"numericValue: index, valueUpdate: 'input', event: {change: function (){this.changes(this.changes()+1)}}\", \"orient\" => \"horizontal\"), :step => 1, :className => \"slider slider is-fullwidth\", :style => Dict{Any, Any}()))], Dict{Symbol, Any}(:className => \"interact-flex-row-center\")), WebIO.Node{WebIO.DOM}(WebIO.DOM(:html, :div), Any[WebIO.Node{WebIO.DOM}(WebIO.DOM(:html, :p), Any[], Dict{Symbol, Any}(:attributes => Dict(\"data-bind\" => \"text: formatted_val\")))], Dict{Symbol, Any}(:className => \"interact-flex-row-right\"))], Dict{Symbol, Any}(:className => \"interact-flex-row interact-widget\")), Dict{String, Tuple{Observables.AbstractObservable, Union{Nothing, Bool}}}(\"changes\" => (Observable(0), nothing), \"index\" => (Observable(1), nothing)), Set{String}(), nothing, WebIO.Asset[WebIO.Asset(\"js\", \"knockout\", \"/home/dushya/.julia/packages/Knockout/HReiN/src/../assets/knockout.js\"), WebIO.Asset(\"js\", \"knockout_punches\", \"/home/dushya/.julia/packages/Knockout/HReiN/src/../assets/knockout_punches.js\"), WebIO.Asset(\"js\", nothing, \"/home/dushya/.julia/packages/InteractBase/LJXv3/src/../assets/all.js\"), WebIO.Asset(\"css\", nothing, \"/home/dushya/.julia/packages/InteractBase/LJXv3/src/../assets/style.css\"), WebIO.Asset(\"css\", nothing, \"/home/dushya/.julia/packages/Interact/PENUy/src/../assets/bulma_confined.min.css\")], Dict{Any, Any}(\"changes\" => Any[WebIO.JSString(\"(function (val){return (val!=this.model[\\\"changes\\\"]()) ? (this.valueFromJulia[\\\"changes\\\"]=true, this.model[\\\"changes\\\"](val)) : undefined})\")], \"index\" => Any[WebIO.JSString(\"(function (val){return (val!=this.model[\\\"index\\\"]()) ? (this.valueFromJulia[\\\"index\\\"]=true, this.model[\\\"index\\\"](val)) : undefined})\")]), WebIO.ConnectionPool(Channel{Any}(32), Set{WebIO.AbstractConnection}(), Base.GenericCondition{ReentrantLock}(Base.IntrusiveLinkedList{Task}(Task (runnable) @0x00007f11e93e2d60, Task (runnable) @0x00007f11e93e2d60), ReentrantLock(nothing, 0x00000000, 0x00, Base.GenericCondition{Base.Threads.SpinLock}(Base.IntrusiveLinkedList{Task}(nothing, nothing), Base.Threads.SpinLock(0)), (8, 0, 139779710648320)))), WebIO.JSString[WebIO.JSString(\"function () {\\n    var handler = (function (ko, koPunches) {\\n    ko.punches.enableAll();\\n    ko.bindingHandlers.numericValue = {\\n        init: function(element, valueAccessor, allBindings, data, context) {\\n            var stringified = ko.observable(ko.unwrap(valueAccessor()));\\n            stringified.subscribe(function(value) {\\n                var val = parseFloat(value);\\n                if (!isNaN(val)) {\\n                    valueAccessor()(val);\\n                }\\n            });\\n            valueAccessor().subscribe(function(value) {\\n                var str = JSON.stringify(value);\\n                if ((str == \\\"0\\\") && ([\\\"-0\\\", \\\"-0.\\\"].indexOf(stringified()) >= 0))\\n                     return;\\n                 if ([\\\"null\\\", \\\"\\\"].indexOf(str) >= 0)\\n                     return;\\n                stringified(str);\\n            });\\n            ko.applyBindingsToNode(\\n                element,\\n                {\\n                    value: stringified,\\n                    valueUpdate: allBindings.get('valueUpdate'),\\n                },\\n                context,\\n            );\\n        }\\n    };\\n    var json_data = {\\\"formatted_vals\\\":[\\\"1\\\",\\\"2\\\",\\\"3\\\",\\\"4\\\",\\\"5\\\",\\\"6\\\",\\\"7\\\",\\\"8\\\",\\\"9\\\",\\\"10\\\",\\\"11\\\",\\\"12\\\",\\\"13\\\",\\\"14\\\",\\\"15\\\",\\\"16\\\",\\\"17\\\",\\\"18\\\",\\\"19\\\",\\\"20\\\",\\\"21\\\",\\\"22\\\",\\\"23\\\",\\\"24\\\",\\\"25\\\",\\\"26\\\",\\\"27\\\",\\\"28\\\",\\\"29\\\",\\\"30\\\",\\\"31\\\",\\\"32\\\",\\\"33\\\",\\\"34\\\",\\\"35\\\",\\\"36\\\",\\\"37\\\",\\\"38\\\",\\\"39\\\",\\\"40\\\",\\\"41\\\",\\\"42\\\",\\\"43\\\",\\\"44\\\",\\\"45\\\",\\\"46\\\",\\\"47\\\",\\\"48\\\",\\\"49\\\",\\\"50\\\",\\\"51\\\",\\\"52\\\",\\\"53\\\",\\\"54\\\",\\\"55\\\",\\\"56\\\",\\\"57\\\",\\\"58\\\",\\\"59\\\",\\\"60\\\",\\\"61\\\",\\\"62\\\",\\\"63\\\",\\\"64\\\",\\\"65\\\",\\\"66\\\",\\\"67\\\",\\\"68\\\",\\\"69\\\",\\\"70\\\",\\\"71\\\",\\\"72\\\",\\\"73\\\",\\\"74\\\",\\\"75\\\",\\\"76\\\",\\\"77\\\",\\\"78\\\",\\\"79\\\",\\\"80\\\",\\\"81\\\",\\\"82\\\",\\\"83\\\",\\\"84\\\",\\\"85\\\",\\\"86\\\",\\\"87\\\",\\\"88\\\",\\\"89\\\",\\\"90\\\",\\\"91\\\",\\\"92\\\",\\\"93\\\",\\\"94\\\",\\\"95\\\",\\\"96\\\",\\\"97\\\",\\\"98\\\",\\\"99\\\",\\\"100\\\",\\\"101\\\",\\\"102\\\",\\\"103\\\",\\\"104\\\",\\\"105\\\",\\\"106\\\",\\\"107\\\",\\\"108\\\",\\\"109\\\",\\\"110\\\",\\\"111\\\",\\\"112\\\",\\\"113\\\",\\\"114\\\",\\\"115\\\",\\\"116\\\",\\\"117\\\",\\\"118\\\",\\\"119\\\",\\\"120\\\",\\\"121\\\",\\\"122\\\",\\\"123\\\",\\\"124\\\",\\\"125\\\",\\\"126\\\",\\\"127\\\",\\\"128\\\",\\\"129\\\",\\\"130\\\",\\\"131\\\",\\\"132\\\",\\\"133\\\",\\\"134\\\",\\\"135\\\",\\\"136\\\",\\\"137\\\",\\\"138\\\",\\\"139\\\",\\\"140\\\",\\\"141\\\",\\\"142\\\",\\\"143\\\",\\\"144\\\",\\\"145\\\",\\\"146\\\",\\\"147\\\",\\\"148\\\",\\\"149\\\",\\\"150\\\",\\\"151\\\",\\\"152\\\",\\\"153\\\",\\\"154\\\",\\\"155\\\",\\\"156\\\",\\\"157\\\",\\\"158\\\",\\\"159\\\",\\\"160\\\",\\\"161\\\",\\\"162\\\",\\\"163\\\",\\\"164\\\",\\\"165\\\",\\\"166\\\",\\\"167\\\",\\\"168\\\",\\\"169\\\",\\\"170\\\",\\\"171\\\",\\\"172\\\",\\\"173\\\",\\\"174\\\",\\\"175\\\",\\\"176\\\",\\\"177\\\",\\\"178\\\",\\\"179\\\",\\\"180\\\",\\\"181\\\",\\\"182\\\",\\\"183\\\",\\\"184\\\",\\\"185\\\",\\\"186\\\",\\\"187\\\",\\\"188\\\",\\\"189\\\",\\\"190\\\",\\\"191\\\",\\\"192\\\",\\\"193\\\",\\\"194\\\",\\\"195\\\",\\\"196\\\",\\\"197\\\",\\\"198\\\",\\\"199\\\",\\\"200\\\"],\\\"changes\\\":WebIO.getval({\\\"name\\\":\\\"changes\\\",\\\"scope\\\":\\\"13929540055898980135\\\",\\\"id\\\":\\\"4126274384684236316\\\",\\\"type\\\":\\\"observable\\\"}),\\\"index\\\":WebIO.getval({\\\"name\\\":\\\"index\\\",\\\"scope\\\":\\\"13929540055898980135\\\",\\\"id\\\":\\\"8925349742571500128\\\",\\\"type\\\":\\\"observable\\\"})};\\n    var self = this;\\n    function AppViewModel() {\\n        for (var key in json_data) {\\n            var el = json_data[key];\\n            this[key] = Array.isArray(el) ? ko.observableArray(el) : ko.observable(el);\\n        }\\n        \\n        [this[\\\"formatted_val\\\"]=ko.computed(    function(){\\n        return this.formatted_vals()[parseInt(this.index())-(1)];\\n    }\\n,this)]\\n        [this[\\\"changes\\\"].subscribe((function (val){!(this.valueFromJulia[\\\"changes\\\"]) ? (WebIO.setval({\\\"name\\\":\\\"changes\\\",\\\"scope\\\":\\\"13929540055898980135\\\",\\\"id\\\":\\\"4126274384684236316\\\",\\\"type\\\":\\\"observable\\\"},val)) : undefined; return this.valueFromJulia[\\\"changes\\\"]=false}),self),this[\\\"index\\\"].subscribe((function (val){!(this.valueFromJulia[\\\"index\\\"]) ? (WebIO.setval({\\\"name\\\":\\\"index\\\",\\\"scope\\\":\\\"13929540055898980135\\\",\\\"id\\\":\\\"8925349742571500128\\\",\\\"type\\\":\\\"observable\\\"},val)) : undefined; return this.valueFromJulia[\\\"index\\\"]=false}),self)]\\n        \\n    }\\n    self.model = new AppViewModel();\\n    self.valueFromJulia = {};\\n    for (var key in json_data) {\\n        self.valueFromJulia[key] = false;\\n    }\\n    ko.applyBindings(self.model, self.dom);\\n}\\n);\\n    (WebIO.importBlock({\\\"data\\\":[{\\\"name\\\":\\\"knockout\\\",\\\"type\\\":\\\"js\\\",\\\"url\\\":\\\"/assetserver/727383f2a47bd31570b7da84eee7b022dd6d7c78-knockout.js\\\"},{\\\"name\\\":\\\"knockout_punches\\\",\\\"type\\\":\\\"js\\\",\\\"url\\\":\\\"/assetserver/382b41b3b1bd9f26f75861d360bad7f8beea211f-knockout_punches.js\\\"}],\\\"type\\\":\\\"async_block\\\"})).then((imports) => handler.apply(this, imports));\\n}\\n\")])], Dict{Symbol, Any}(:className => \"field interact-widget\")), WebIO.Node{WebIO.DOM}(WebIO.DOM(:html, :div), Any[WebIO.Scope(WebIO.Node{WebIO.DOM}(WebIO.DOM(:html, :div), Any[WebIO.Node{WebIO.DOM}(WebIO.DOM(:html, :div), Any[WebIO.Node{WebIO.DOM}(WebIO.DOM(:html, :label), Any[\"scale\"], Dict{Symbol, Any}(:className => \"interact \", :style => Dict{Any, Any}(:padding => \"5px 10px 0px 10px\")))], Dict{Symbol, Any}(:className => \"interact-flex-row-left\")), WebIO.Node{WebIO.DOM}(WebIO.DOM(:html, :div), Any[WebIO.Node{WebIO.DOM}(WebIO.DOM(:html, :input), Any[], Dict{Symbol, Any}(:max => 20, :min => 1, :attributes => Dict{Any, Any}(:type => \"range\", Symbol(\"data-bind\") => \"numericValue: index, valueUpdate: 'input', event: {change: function (){this.changes(this.changes()+1)}}\", \"orient\" => \"horizontal\"), :step => 1, :className => \"slider slider is-fullwidth\", :style => Dict{Any, Any}()))], Dict{Symbol, Any}(:className => \"interact-flex-row-center\")), WebIO.Node{WebIO.DOM}(WebIO.DOM(:html, :div), Any[WebIO.Node{WebIO.DOM}(WebIO.DOM(:html, :p), Any[], Dict{Symbol, Any}(:attributes => Dict(\"data-bind\" => \"text: formatted_val\")))], Dict{Symbol, Any}(:className => \"interact-flex-row-right\"))], Dict{Symbol, Any}(:className => \"interact-flex-row interact-widget\")), Dict{String, Tuple{Observables.AbstractObservable, Union{Nothing, Bool}}}(\"changes\" => (Observable(0), nothing), \"index\" => (Observable{Any}(10), nothing)), Set{String}(), nothing, WebIO.Asset[WebIO.Asset(\"js\", \"knockout\", \"/home/dushya/.julia/packages/Knockout/HReiN/src/../assets/knockout.js\"), WebIO.Asset(\"js\", \"knockout_punches\", \"/home/dushya/.julia/packages/Knockout/HReiN/src/../assets/knockout_punches.js\"), WebIO.Asset(\"js\", nothing, \"/home/dushya/.julia/packages/InteractBase/LJXv3/src/../assets/all.js\"), WebIO.Asset(\"css\", nothing, \"/home/dushya/.julia/packages/InteractBase/LJXv3/src/../assets/style.css\"), WebIO.Asset(\"css\", nothing, \"/home/dushya/.julia/packages/Interact/PENUy/src/../assets/bulma_confined.min.css\")], Dict{Any, Any}(\"changes\" => Any[WebIO.JSString(\"(function (val){return (val!=this.model[\\\"changes\\\"]()) ? (this.valueFromJulia[\\\"changes\\\"]=true, this.model[\\\"changes\\\"](val)) : undefined})\")], \"index\" => Any[WebIO.JSString(\"(function (val){return (val!=this.model[\\\"index\\\"]()) ? (this.valueFromJulia[\\\"index\\\"]=true, this.model[\\\"index\\\"](val)) : undefined})\")]), WebIO.ConnectionPool(Channel{Any}(32), Set{WebIO.AbstractConnection}(), Base.GenericCondition{ReentrantLock}(Base.IntrusiveLinkedList{Task}(Task (runnable) @0x00007f11e947d5f0, Task (runnable) @0x00007f11e947d5f0), ReentrantLock(nothing, 0x00000000, 0x00, Base.GenericCondition{Base.Threads.SpinLock}(Base.IntrusiveLinkedList{Task}(nothing, nothing), Base.Threads.SpinLock(0)), (0, 139714798621696, 139779710648320)))), WebIO.JSString[WebIO.JSString(\"function () {\\n    var handler = (function (ko, koPunches) {\\n    ko.punches.enableAll();\\n    ko.bindingHandlers.numericValue = {\\n        init: function(element, valueAccessor, allBindings, data, context) {\\n            var stringified = ko.observable(ko.unwrap(valueAccessor()));\\n            stringified.subscribe(function(value) {\\n                var val = parseFloat(value);\\n                if (!isNaN(val)) {\\n                    valueAccessor()(val);\\n                }\\n            });\\n            valueAccessor().subscribe(function(value) {\\n                var str = JSON.stringify(value);\\n                if ((str == \\\"0\\\") && ([\\\"-0\\\", \\\"-0.\\\"].indexOf(stringified()) >= 0))\\n                     return;\\n                 if ([\\\"null\\\", \\\"\\\"].indexOf(str) >= 0)\\n                     return;\\n                stringified(str);\\n            });\\n            ko.applyBindingsToNode(\\n                element,\\n                {\\n                    value: stringified,\\n                    valueUpdate: allBindings.get('valueUpdate'),\\n                },\\n                context,\\n            );\\n        }\\n    };\\n    var json_data = {\\\"formatted_vals\\\":[\\\"0.1\\\",\\\"0.2\\\",\\\"0.3\\\",\\\"0.4\\\",\\\"0.5\\\",\\\"0.6\\\",\\\"0.7\\\",\\\"0.8\\\",\\\"0.9\\\",\\\"1.0\\\",\\\"1.1\\\",\\\"1.2\\\",\\\"1.3\\\",\\\"1.4\\\",\\\"1.5\\\",\\\"1.6\\\",\\\"1.7\\\",\\\"1.8\\\",\\\"1.9\\\",\\\"2.0\\\"],\\\"changes\\\":WebIO.getval({\\\"name\\\":\\\"changes\\\",\\\"scope\\\":\\\"4098630680547849542\\\",\\\"id\\\":\\\"9922395135587663537\\\",\\\"type\\\":\\\"observable\\\"}),\\\"index\\\":WebIO.getval({\\\"name\\\":\\\"index\\\",\\\"scope\\\":\\\"4098630680547849542\\\",\\\"id\\\":\\\"2127553864422558442\\\",\\\"type\\\":\\\"observable\\\"})};\\n    var self = this;\\n    function AppViewModel() {\\n        for (var key in json_data) {\\n            var el = json_data[key];\\n            this[key] = Array.isArray(el) ? ko.observableArray(el) : ko.observable(el);\\n        }\\n        \\n        [this[\\\"formatted_val\\\"]=ko.computed(    function(){\\n        return this.formatted_vals()[parseInt(this.index())-(1)];\\n    }\\n,this)]\\n        [this[\\\"changes\\\"].subscribe((function (val){!(this.valueFromJulia[\\\"changes\\\"]) ? (WebIO.setval({\\\"name\\\":\\\"changes\\\",\\\"scope\\\":\\\"4098630680547849542\\\",\\\"id\\\":\\\"9922395135587663537\\\",\\\"type\\\":\\\"observable\\\"},val)) : undefined; return this.valueFromJulia[\\\"changes\\\"]=false}),self),this[\\\"index\\\"].subscribe((function (val){!(this.valueFromJulia[\\\"index\\\"]) ? (WebIO.setval({\\\"name\\\":\\\"index\\\",\\\"scope\\\":\\\"4098630680547849542\\\",\\\"id\\\":\\\"2127553864422558442\\\",\\\"type\\\":\\\"observable\\\"},val)) : undefined; return this.valueFromJulia[\\\"index\\\"]=false}),self)]\\n        \\n    }\\n    self.model = new AppViewModel();\\n    self.valueFromJulia = {};\\n    for (var key in json_data) {\\n        self.valueFromJulia[key] = false;\\n    }\\n    ko.applyBindings(self.model, self.dom);\\n}\\n);\\n    (WebIO.importBlock({\\\"data\\\":[{\\\"name\\\":\\\"knockout\\\",\\\"type\\\":\\\"js\\\",\\\"url\\\":\\\"/assetserver/727383f2a47bd31570b7da84eee7b022dd6d7c78-knockout.js\\\"},{\\\"name\\\":\\\"knockout_punches\\\",\\\"type\\\":\\\"js\\\",\\\"url\\\":\\\"/assetserver/382b41b3b1bd9f26f75861d360bad7f8beea211f-knockout_punches.js\\\"}],\\\"type\\\":\\\"async_block\\\"})).then((imports) => handler.apply(this, imports));\\n}\\n\")])], Dict{Symbol, Any}(:className => \"field interact-widget\")), WebIO.Node{WebIO.DOM}(WebIO.DOM(:html, :div), Any[], Dict{Symbol, Any}(:style => Dict(\"display\" => \"flex\", \"flex-direction\" => \"column\"))), WebIO.Node{WebIO.DOM}(WebIO.DOM(:html, :div), Any[WebIO.Node{WebIO.DOM}(WebIO.DOM(:html, :div), Any[WebIO.Scope(WebIO.Node{WebIO.DOM}(WebIO.DOM(:html, :div), Any[WebIO.Node{WebIO.DOM}(WebIO.DOM(:html, :div), Any[WebIO.Node{WebIO.DOM}(WebIO.DOM(:html, :label), Any[\"alive_percent\"], Dict{Symbol, Any}(:className => \"interact \", :style => Dict{Any, Any}(:padding => \"5px 10px 0px 10px\")))], Dict{Symbol, Any}(:className => \"interact-flex-row-left\")), WebIO.Node{WebIO.DOM}(WebIO.DOM(:html, :div), Any[WebIO.Node{WebIO.DOM}(WebIO.DOM(:html, :input), Any[], Dict{Symbol, Any}(:max => 101, :min => 1, :attributes => Dict{Any, Any}(:type => \"range\", Symbol(\"data-bind\") => \"numericValue: index, valueUpdate: 'input', event: {change: function (){this.changes(this.changes()+1)}}\", \"orient\" => \"horizontal\"), :step => 1, :className => \"slider slider is-fullwidth\", :style => Dict{Any, Any}()))], Dict{Symbol, Any}(:className => \"interact-flex-row-center\")), WebIO.Node{WebIO.DOM}(WebIO.DOM(:html, :div), Any[WebIO.Node{WebIO.DOM}(WebIO.DOM(:html, :p), Any[], Dict{Symbol, Any}(:attributes => Dict(\"data-bind\" => \"text: formatted_val\")))], Dict{Symbol, Any}(:className => \"interact-flex-row-right\"))], Dict{Symbol, Any}(:className => \"interact-flex-row interact-widget\")), Dict{String, Tuple{Observables.AbstractObservable, Union{Nothing, Bool}}}(\"changes\" => (Observable(0), nothing), \"index\" => (Observable{Any}(51), nothing)), Set{String}(), nothing, WebIO.Asset[WebIO.Asset(\"js\", \"knockout\", \"/home/dushya/.julia/packages/Knockout/HReiN/src/../assets/knockout.js\"), WebIO.Asset(\"js\", \"knockout_punches\", \"/home/dushya/.julia/packages/Knockout/HReiN/src/../assets/knockout_punches.js\"), WebIO.Asset(\"js\", nothing, \"/home/dushya/.julia/packages/InteractBase/LJXv3/src/../assets/all.js\"), WebIO.Asset(\"css\", nothing, \"/home/dushya/.julia/packages/InteractBase/LJXv3/src/../assets/style.css\"), WebIO.Asset(\"css\", nothing, \"/home/dushya/.julia/packages/Interact/PENUy/src/../assets/bulma_confined.min.css\")], Dict{Any, Any}(\"changes\" => Any[WebIO.JSString(\"(function (val){return (val!=this.model[\\\"changes\\\"]()) ? (this.valueFromJulia[\\\"changes\\\"]=true, this.model[\\\"changes\\\"](val)) : undefined})\")], \"index\" => Any[WebIO.JSString(\"(function (val){return (val!=this.model[\\\"index\\\"]()) ? (this.valueFromJulia[\\\"index\\\"]=true, this.model[\\\"index\\\"](val)) : undefined})\")]), WebIO.ConnectionPool(Channel{Any}(32), Set{WebIO.AbstractConnection}(), Base.GenericCondition{ReentrantLock}(Base.IntrusiveLinkedList{Task}(Task (runnable) @0x00007f11e95e3210, Task (runnable) @0x00007f11e95e3210), ReentrantLock(nothing, 0x00000000, 0x00, Base.GenericCondition{Base.Threads.SpinLock}(Base.IntrusiveLinkedList{Task}(nothing, nothing), Base.Threads.SpinLock(0)), (2, 139714897490048, 139714897489600)))), WebIO.JSString[WebIO.JSString(\"function () {\\n    var handler = (function (ko, koPunches) {\\n    ko.punches.enableAll();\\n    ko.bindingHandlers.numericValue = {\\n        init: function(element, valueAccessor, allBindings, data, context) {\\n            var stringified = ko.observable(ko.unwrap(valueAccessor()));\\n            stringified.subscribe(function(value) {\\n                var val = parseFloat(value);\\n                if (!isNaN(val)) {\\n                    valueAccessor()(val);\\n                }\\n            });\\n            valueAccessor().subscribe(function(value) {\\n                var str = JSON.stringify(value);\\n                if ((str == \\\"0\\\") && ([\\\"-0\\\", \\\"-0.\\\"].indexOf(stringified()) >= 0))\\n                     return;\\n                 if ([\\\"null\\\", \\\"\\\"].indexOf(str) >= 0)\\n                     return;\\n                stringified(str);\\n            });\\n            ko.applyBindingsToNode(\\n                element,\\n                {\\n                    value: stringified,\\n                    valueUpdate: allBindings.get('valueUpdate'),\\n                },\\n                context,\\n            );\\n        }\\n    };\\n    var json_data = {\\\"formatted_vals\\\":[\\\"0.0\\\",\\\"0.01\\\",\\\"0.02\\\",\\\"0.03\\\",\\\"0.04\\\",\\\"0.05\\\",\\\"0.06\\\",\\\"0.07\\\",\\\"0.08\\\",\\\"0.09\\\",\\\"0.1\\\",\\\"0.11\\\",\\\"0.12\\\",\\\"0.13\\\",\\\"0.14\\\",\\\"0.15\\\",\\\"0.16\\\",\\\"0.17\\\",\\\"0.18\\\",\\\"0.19\\\",\\\"0.2\\\",\\\"0.21\\\",\\\"0.22\\\",\\\"0.23\\\",\\\"0.24\\\",\\\"0.25\\\",\\\"0.26\\\",\\\"0.27\\\",\\\"0.28\\\",\\\"0.29\\\",\\\"0.3\\\",\\\"0.31\\\",\\\"0.32\\\",\\\"0.33\\\",\\\"0.34\\\",\\\"0.35\\\",\\\"0.36\\\",\\\"0.37\\\",\\\"0.38\\\",\\\"0.39\\\",\\\"0.4\\\",\\\"0.41\\\",\\\"0.42\\\",\\\"0.43\\\",\\\"0.44\\\",\\\"0.45\\\",\\\"0.46\\\",\\\"0.47\\\",\\\"0.48\\\",\\\"0.49\\\",\\\"0.5\\\",\\\"0.51\\\",\\\"0.52\\\",\\\"0.53\\\",\\\"0.54\\\",\\\"0.55\\\",\\\"0.56\\\",\\\"0.57\\\",\\\"0.58\\\",\\\"0.59\\\",\\\"0.6\\\",\\\"0.61\\\",\\\"0.62\\\",\\\"0.63\\\",\\\"0.64\\\",\\\"0.65\\\",\\\"0.66\\\",\\\"0.67\\\",\\\"0.68\\\",\\\"0.69\\\",\\\"0.7\\\",\\\"0.71\\\",\\\"0.72\\\",\\\"0.73\\\",\\\"0.74\\\",\\\"0.75\\\",\\\"0.76\\\",\\\"0.77\\\",\\\"0.78\\\",\\\"0.79\\\",\\\"0.8\\\",\\\"0.81\\\",\\\"0.82\\\",\\\"0.83\\\",\\\"0.84\\\",\\\"0.85\\\",\\\"0.86\\\",\\\"0.87\\\",\\\"0.88\\\",\\\"0.89\\\",\\\"0.9\\\",\\\"0.91\\\",\\\"0.92\\\",\\\"0.93\\\",\\\"0.94\\\",\\\"0.95\\\",\\\"0.96\\\",\\\"0.97\\\",\\\"0.98\\\",\\\"0.99\\\",\\\"1.0\\\"],\\\"changes\\\":WebIO.getval({\\\"name\\\":\\\"changes\\\",\\\"scope\\\":\\\"8757623566880724266\\\",\\\"id\\\":\\\"10435363678651030749\\\",\\\"type\\\":\\\"observable\\\"}),\\\"index\\\":WebIO.getval({\\\"name\\\":\\\"index\\\",\\\"scope\\\":\\\"8757623566880724266\\\",\\\"id\\\":\\\"5415885749527549360\\\",\\\"type\\\":\\\"observable\\\"})};\\n    var self = this;\\n    function AppViewModel() {\\n        for (var key in json_data) {\\n            var el = json_data[key];\\n            this[key] = Array.isArray(el) ? ko.observableArray(el) : ko.observable(el);\\n        }\\n        \\n        [this[\\\"formatted_val\\\"]=ko.computed(    function(){\\n        return this.formatted_vals()[parseInt(this.index())-(1)];\\n    }\\n,this)]\\n        [this[\\\"changes\\\"].subscribe((function (val){!(this.valueFromJulia[\\\"changes\\\"]) ? (WebIO.setval({\\\"name\\\":\\\"changes\\\",\\\"scope\\\":\\\"8757623566880724266\\\",\\\"id\\\":\\\"10435363678651030749\\\",\\\"type\\\":\\\"observable\\\"},val)) : undefined; return this.valueFromJulia[\\\"changes\\\"]=false}),self),this[\\\"index\\\"].subscribe((function (val){!(this.valueFromJulia[\\\"index\\\"]) ? (WebIO.setval({\\\"name\\\":\\\"index\\\",\\\"scope\\\":\\\"8757623566880724266\\\",\\\"id\\\":\\\"5415885749527549360\\\",\\\"type\\\":\\\"observable\\\"},val)) : undefined; return this.valueFromJulia[\\\"index\\\"]=false}),self)]\\n        \\n    }\\n    self.model = new AppViewModel();\\n    self.valueFromJulia = {};\\n    for (var key in json_data) {\\n        self.valueFromJulia[key] = false;\\n    }\\n    ko.applyBindings(self.model, self.dom);\\n}\\n);\\n    (WebIO.importBlock({\\\"data\\\":[{\\\"name\\\":\\\"knockout\\\",\\\"type\\\":\\\"js\\\",\\\"url\\\":\\\"/assetserver/727383f2a47bd31570b7da84eee7b022dd6d7c78-knockout.js\\\"},{\\\"name\\\":\\\"knockout_punches\\\",\\\"type\\\":\\\"js\\\",\\\"url\\\":\\\"/assetserver/382b41b3b1bd9f26f75861d360bad7f8beea211f-knockout_punches.js\\\"}],\\\"type\\\":\\\"async_block\\\"})).then((imports) => handler.apply(this, imports));\\n}\\n\")])], Dict{Symbol, Any}(:className => \"field interact-widget\"))], Dict{Symbol, Any}(:style => Dict(\"display\" => \"flex\", \"flex-direction\" => \"column\"))), WebIO.Node{WebIO.DOM}(WebIO.DOM(:html, :div), Any[WebIO.Node{WebIO.DOM}(WebIO.DOM(:html, :div), Any[WebIO.Scope(WebIO.Node{WebIO.DOM}(WebIO.DOM(:html, :div), Any[], Dict{Symbol, Any}(:id => \"container\")), Dict{String, Tuple{Observables.AbstractObservable, Union{Nothing, Bool}}}(\"value\" => (Observable(\"\\\\;\\\\;\"), nothing)), Set{String}(), nothing, WebIO.Asset[WebIO.Asset(\"js\", nothing, \"/home/dushya/.julia/packages/InteractBase/LJXv3/src/../assets/katex.min.js\"), WebIO.Asset(\"css\", nothing, \"/home/dushya/.julia/packages/InteractBase/LJXv3/src/../assets/katex.min.css\")], Dict{Any, Any}(\"value\" => Any[WebIO.JSString(\"(function (txt){return this.k.render(txt,this.container)})\")]), WebIO.ConnectionPool(Channel{Any}(32), Set{WebIO.AbstractConnection}(), Base.GenericCondition{ReentrantLock}(Base.IntrusiveLinkedList{Task}(Task (runnable) @0x00007f11e8c18e20, Task (runnable) @0x00007f11e8c18e20), ReentrantLock(nothing, 0x00000000, 0x00, Base.GenericCondition{Base.Threads.SpinLock}(Base.IntrusiveLinkedList{Task}(nothing, nothing), Base.Threads.SpinLock(0)), (1, 139714087419904, 139712934518832)))), WebIO.JSString[WebIO.JSString(\"function () {\\n    var handler = ((function (k){this.k=k; this.container=this.dom.querySelector(\\\"#container\\\"); return k.render(\\\"\\\\\\\\;\\\\\\\\;\\\",this.container)}));\\n    (WebIO.importBlock({\\\"data\\\":[{\\\"name\\\":null,\\\"type\\\":\\\"js\\\",\\\"url\\\":\\\"/assetserver/dd22ed1bf1896c2748f3fe616ce0b838adc895c1-katex.min.js\\\"},{\\\"name\\\":null,\\\"type\\\":\\\"css\\\",\\\"url\\\":\\\"/assetserver/46517a424aa5e6cffc1360d7e0848b601c584ee3-katex.min.css\\\"}],\\\"type\\\":\\\"async_block\\\"})).then((imports) => handler.apply(this, imports));\\n}\\n\")])], Dict{Symbol, Any}(:className => \"interact-widget\")), WebIO.Node{WebIO.DOM}(WebIO.DOM(:html, :div), Any[WebIO.Scope(WebIO.Node{WebIO.DOM}(WebIO.DOM(:html, :button), Any[\"run\"], Dict{Symbol, Any}(:attributes => Dict{Any, Any}(\"data-bind\" => \"click: function (){this.clicks(this.clicks()+1)}, css: {'is-loading' : loading}\"), :className => \"is-medium button is-primary\", :style => Dict{String, Any}())), Dict{String, Tuple{Observables.AbstractObservable, Union{Nothing, Bool}}}(\"loading\" => (Observable(false), nothing), \"clicks\" => (Observable(0), nothing)), Set{String}(), nothing, WebIO.Asset[WebIO.Asset(\"js\", \"knockout\", \"/home/dushya/.julia/packages/Knockout/HReiN/src/../assets/knockout.js\"), WebIO.Asset(\"js\", \"knockout_punches\", \"/home/dushya/.julia/packages/Knockout/HReiN/src/../assets/knockout_punches.js\"), WebIO.Asset(\"js\", nothing, \"/home/dushya/.julia/packages/InteractBase/LJXv3/src/../assets/all.js\"), WebIO.Asset(\"css\", nothing, \"/home/dushya/.julia/packages/InteractBase/LJXv3/src/../assets/style.css\"), WebIO.Asset(\"css\", nothing, \"/home/dushya/.julia/packages/Interact/PENUy/src/../assets/bulma_confined.min.css\")], Dict{Any, Any}(\"loading\" => Any[WebIO.JSString(\"(function (val){return (val!=this.model[\\\"loading\\\"]()) ? (this.valueFromJulia[\\\"loading\\\"]=true, this.model[\\\"loading\\\"](val)) : undefined})\")], \"clicks\" => Any[WebIO.JSString(\"(function (val){return (val!=this.model[\\\"clicks\\\"]()) ? (this.valueFromJulia[\\\"clicks\\\"]=true, this.model[\\\"clicks\\\"](val)) : undefined})\")]), WebIO.ConnectionPool(Channel{Any}(32), Set{WebIO.AbstractConnection}(), Base.GenericCondition{ReentrantLock}(Base.IntrusiveLinkedList{Task}(Task (runnable) @0x00007f11e9641dc0, Task (runnable) @0x00007f11e9641dc0), ReentrantLock(nothing, 0x00000000, 0x00, Base.GenericCondition{Base.Threads.SpinLock}(Base.IntrusiveLinkedList{Task}(nothing, nothing), Base.Threads.SpinLock(0)), (0, 0, 4294967297)))), WebIO.JSString[WebIO.JSString(\"function () {\\n    var handler = (function (ko, koPunches) {\\n    ko.punches.enableAll();\\n    ko.bindingHandlers.numericValue = {\\n        init: function(element, valueAccessor, allBindings, data, context) {\\n            var stringified = ko.observable(ko.unwrap(valueAccessor()));\\n            stringified.subscribe(function(value) {\\n                var val = parseFloat(value);\\n                if (!isNaN(val)) {\\n                    valueAccessor()(val);\\n                }\\n            });\\n            valueAccessor().subscribe(function(value) {\\n                var str = JSON.stringify(value);\\n                if ((str == \\\"0\\\") && ([\\\"-0\\\", \\\"-0.\\\"].indexOf(stringified()) >= 0))\\n                     return;\\n                 if ([\\\"null\\\", \\\"\\\"].indexOf(str) >= 0)\\n                     return;\\n                stringified(str);\\n            });\\n            ko.applyBindingsToNode(\\n                element,\\n                {\\n                    value: stringified,\\n                    valueUpdate: allBindings.get('valueUpdate'),\\n                },\\n                context,\\n            );\\n        }\\n    };\\n    var json_data = {\\\"loading\\\":WebIO.getval({\\\"name\\\":\\\"loading\\\",\\\"scope\\\":\\\"2448338418110054499\\\",\\\"id\\\":\\\"16120370462721398524\\\",\\\"type\\\":\\\"observable\\\"}),\\\"clicks\\\":WebIO.getval({\\\"name\\\":\\\"clicks\\\",\\\"scope\\\":\\\"2448338418110054499\\\",\\\"id\\\":\\\"10434984609133191015\\\",\\\"type\\\":\\\"observable\\\"})};\\n    var self = this;\\n    function AppViewModel() {\\n        for (var key in json_data) {\\n            var el = json_data[key];\\n            this[key] = Array.isArray(el) ? ko.observableArray(el) : ko.observable(el);\\n        }\\n        \\n        \\n        [this[\\\"loading\\\"].subscribe((function (val){!(this.valueFromJulia[\\\"loading\\\"]) ? (WebIO.setval({\\\"name\\\":\\\"loading\\\",\\\"scope\\\":\\\"2448338418110054499\\\",\\\"id\\\":\\\"16120370462721398524\\\",\\\"type\\\":\\\"observable\\\"},val)) : undefined; return this.valueFromJulia[\\\"loading\\\"]=false}),self),this[\\\"clicks\\\"].subscribe((function (val){!(this.valueFromJulia[\\\"clicks\\\"]) ? (WebIO.setval({\\\"name\\\":\\\"clicks\\\",\\\"scope\\\":\\\"2448338418110054499\\\",\\\"id\\\":\\\"10434984609133191015\\\",\\\"type\\\":\\\"observable\\\"},val)) : undefined; return this.valueFromJulia[\\\"clicks\\\"]=false}),self)]\\n        \\n    }\\n    self.model = new AppViewModel();\\n    self.valueFromJulia = {};\\n    for (var key in json_data) {\\n        self.valueFromJulia[key] = false;\\n    }\\n    ko.applyBindings(self.model, self.dom);\\n}\\n);\\n    (WebIO.importBlock({\\\"data\\\":[{\\\"name\\\":\\\"knockout\\\",\\\"type\\\":\\\"js\\\",\\\"url\\\":\\\"/assetserver/727383f2a47bd31570b7da84eee7b022dd6d7c78-knockout.js\\\"},{\\\"name\\\":\\\"knockout_punches\\\",\\\"type\\\":\\\"js\\\",\\\"url\\\":\\\"/assetserver/382b41b3b1bd9f26f75861d360bad7f8beea211f-knockout_punches.js\\\"}],\\\"type\\\":\\\"async_block\\\"})).then((imports) => handler.apply(this, imports));\\n}\\n\")])], Dict{Symbol, Any}(:className => \"field interact-widget\")), WebIO.Node{WebIO.DOM}(WebIO.DOM(:html, :div), Any[WebIO.Scope(WebIO.Node{WebIO.DOM}(WebIO.DOM(:html, :div), Any[], Dict{Symbol, Any}(:id => \"container\")), Dict{String, Tuple{Observables.AbstractObservable, Union{Nothing, Bool}}}(\"value\" => (Observable(\"\\\\;\\\\;\"), nothing)), Set{String}(), nothing, WebIO.Asset[WebIO.Asset(\"js\", nothing, \"/home/dushya/.julia/packages/InteractBase/LJXv3/src/../assets/katex.min.js\"), WebIO.Asset(\"css\", nothing, \"/home/dushya/.julia/packages/InteractBase/LJXv3/src/../assets/katex.min.css\")], Dict{Any, Any}(\"value\" => Any[WebIO.JSString(\"(function (txt){return this.k.render(txt,this.container)})\")]), WebIO.ConnectionPool(Channel{Any}(32), Set{WebIO.AbstractConnection}(), Base.GenericCondition{ReentrantLock}(Base.IntrusiveLinkedList{Task}(Task (runnable) @0x00007f11e8c18e20, Task (runnable) @0x00007f11e8c18e20), ReentrantLock(nothing, 0x00000000, 0x00, Base.GenericCondition{Base.Threads.SpinLock}(Base.IntrusiveLinkedList{Task}(nothing, nothing), Base.Threads.SpinLock(0)), (1, 139714087419904, 139712934518832)))), WebIO.JSString[WebIO.JSString(\"function () {\\n    var handler = ((function (k){this.k=k; this.container=this.dom.querySelector(\\\"#container\\\"); return k.render(\\\"\\\\\\\\;\\\\\\\\;\\\",this.container)}));\\n    (WebIO.importBlock({\\\"data\\\":[{\\\"name\\\":null,\\\"type\\\":\\\"js\\\",\\\"url\\\":\\\"/assetserver/dd22ed1bf1896c2748f3fe616ce0b838adc895c1-katex.min.js\\\"},{\\\"name\\\":null,\\\"type\\\":\\\"css\\\",\\\"url\\\":\\\"/assetserver/46517a424aa5e6cffc1360d7e0848b601c584ee3-katex.min.css\\\"}],\\\"type\\\":\\\"async_block\\\"})).then((imports) => handler.apply(this, imports));\\n}\\n\")])], Dict{Symbol, Any}(:className => \"interact-widget\")), WebIO.Node{WebIO.DOM}(WebIO.DOM(:html, :div), Any[WebIO.Scope(WebIO.Node{WebIO.DOM}(WebIO.DOM(:html, :button), Any[\"stop\"], Dict{Symbol, Any}(:attributes => Dict{Any, Any}(\"data-bind\" => \"click: function (){this.clicks(this.clicks()+1)}, css: {'is-loading' : loading}\"), :className => \"is-medium button is-primary\", :style => Dict{String, Any}())), Dict{String, Tuple{Observables.AbstractObservable, Union{Nothing, Bool}}}(\"loading\" => (Observable(false), nothing), \"clicks\" => (Observable(0), nothing)), Set{String}(), nothing, WebIO.Asset[WebIO.Asset(\"js\", \"knockout\", \"/home/dushya/.julia/packages/Knockout/HReiN/src/../assets/knockout.js\"), WebIO.Asset(\"js\", \"knockout_punches\", \"/home/dushya/.julia/packages/Knockout/HReiN/src/../assets/knockout_punches.js\"), WebIO.Asset(\"js\", nothing, \"/home/dushya/.julia/packages/InteractBase/LJXv3/src/../assets/all.js\"), WebIO.Asset(\"css\", nothing, \"/home/dushya/.julia/packages/InteractBase/LJXv3/src/../assets/style.css\"), WebIO.Asset(\"css\", nothing, \"/home/dushya/.julia/packages/Interact/PENUy/src/../assets/bulma_confined.min.css\")], Dict{Any, Any}(\"loading\" => Any[WebIO.JSString(\"(function (val){return (val!=this.model[\\\"loading\\\"]()) ? (this.valueFromJulia[\\\"loading\\\"]=true, this.model[\\\"loading\\\"](val)) : undefined})\")], \"clicks\" => Any[WebIO.JSString(\"(function (val){return (val!=this.model[\\\"clicks\\\"]()) ? (this.valueFromJulia[\\\"clicks\\\"]=true, this.model[\\\"clicks\\\"](val)) : undefined})\")]), WebIO.ConnectionPool(Channel{Any}(32), Set{WebIO.AbstractConnection}(), Base.GenericCondition{ReentrantLock}(Base.IntrusiveLinkedList{Task}(Task (runnable) @0x00007f11e9895910, Task (runnable) @0x00007f11e9895910), ReentrantLock(nothing, 0x00000000, 0x00, Base.GenericCondition{Base.Threads.SpinLock}(Base.IntrusiveLinkedList{Task}(nothing, nothing), Base.Threads.SpinLock(0)), (8, 0, 139779710648320)))), WebIO.JSString[WebIO.JSString(\"function () {\\n    var handler = (function (ko, koPunches) {\\n    ko.punches.enableAll();\\n    ko.bindingHandlers.numericValue = {\\n        init: function(element, valueAccessor, allBindings, data, context) {\\n            var stringified = ko.observable(ko.unwrap(valueAccessor()));\\n            stringified.subscribe(function(value) {\\n                var val = parseFloat(value);\\n                if (!isNaN(val)) {\\n                    valueAccessor()(val);\\n                }\\n            });\\n            valueAccessor().subscribe(function(value) {\\n                var str = JSON.stringify(value);\\n                if ((str == \\\"0\\\") && ([\\\"-0\\\", \\\"-0.\\\"].indexOf(stringified()) >= 0))\\n                     return;\\n                 if ([\\\"null\\\", \\\"\\\"].indexOf(str) >= 0)\\n                     return;\\n                stringified(str);\\n            });\\n            ko.applyBindingsToNode(\\n                element,\\n                {\\n                    value: stringified,\\n                    valueUpdate: allBindings.get('valueUpdate'),\\n                },\\n                context,\\n            );\\n        }\\n    };\\n    var json_data = {\\\"loading\\\":WebIO.getval({\\\"name\\\":\\\"loading\\\",\\\"scope\\\":\\\"15845275790707751715\\\",\\\"id\\\":\\\"12298944416942724773\\\",\\\"type\\\":\\\"observable\\\"}),\\\"clicks\\\":WebIO.getval({\\\"name\\\":\\\"clicks\\\",\\\"scope\\\":\\\"15845275790707751715\\\",\\\"id\\\":\\\"7529240390082541530\\\",\\\"type\\\":\\\"observable\\\"})};\\n    var self = this;\\n    function AppViewModel() {\\n        for (var key in json_data) {\\n            var el = json_data[key];\\n            this[key] = Array.isArray(el) ? ko.observableArray(el) : ko.observable(el);\\n        }\\n        \\n        \\n        [this[\\\"loading\\\"].subscribe((function (val){!(this.valueFromJulia[\\\"loading\\\"]) ? (WebIO.setval({\\\"name\\\":\\\"loading\\\",\\\"scope\\\":\\\"15845275790707751715\\\",\\\"id\\\":\\\"12298944416942724773\\\",\\\"type\\\":\\\"observable\\\"},val)) : undefined; return this.valueFromJulia[\\\"loading\\\"]=false}),self),this[\\\"clicks\\\"].subscribe((function (val){!(this.valueFromJulia[\\\"clicks\\\"]) ? (WebIO.setval({\\\"name\\\":\\\"clicks\\\",\\\"scope\\\":\\\"15845275790707751715\\\",\\\"id\\\":\\\"7529240390082541530\\\",\\\"type\\\":\\\"observable\\\"},val)) : undefined; return this.valueFromJulia[\\\"clicks\\\"]=false}),self)]\\n        \\n    }\\n    self.model = new AppViewModel();\\n    self.valueFromJulia = {};\\n    for (var key in json_data) {\\n        self.valueFromJulia[key] = false;\\n    }\\n    ko.applyBindings(self.model, self.dom);\\n}\\n);\\n    (WebIO.importBlock({\\\"data\\\":[{\\\"name\\\":\\\"knockout\\\",\\\"type\\\":\\\"js\\\",\\\"url\\\":\\\"/assetserver/727383f2a47bd31570b7da84eee7b022dd6d7c78-knockout.js\\\"},{\\\"name\\\":\\\"knockout_punches\\\",\\\"type\\\":\\\"js\\\",\\\"url\\\":\\\"/assetserver/382b41b3b1bd9f26f75861d360bad7f8beea211f-knockout_punches.js\\\"}],\\\"type\\\":\\\"async_block\\\"})).then((imports) => handler.apply(this, imports));\\n}\\n\")])], Dict{Symbol, Any}(:className => \"field interact-widget\")), WebIO.Node{WebIO.DOM}(WebIO.DOM(:html, :div), Any[WebIO.Scope(WebIO.Node{WebIO.DOM}(WebIO.DOM(:html, :div), Any[], Dict{Symbol, Any}(:id => \"container\")), Dict{String, Tuple{Observables.AbstractObservable, Union{Nothing, Bool}}}(\"value\" => (Observable(\"\\\\;\\\\;\"), nothing)), Set{String}(), nothing, WebIO.Asset[WebIO.Asset(\"js\", nothing, \"/home/dushya/.julia/packages/InteractBase/LJXv3/src/../assets/katex.min.js\"), WebIO.Asset(\"css\", nothing, \"/home/dushya/.julia/packages/InteractBase/LJXv3/src/../assets/katex.min.css\")], Dict{Any, Any}(\"value\" => Any[WebIO.JSString(\"(function (txt){return this.k.render(txt,this.container)})\")]), WebIO.ConnectionPool(Channel{Any}(32), Set{WebIO.AbstractConnection}(), Base.GenericCondition{ReentrantLock}(Base.IntrusiveLinkedList{Task}(Task (runnable) @0x00007f11e8c18e20, Task (runnable) @0x00007f11e8c18e20), ReentrantLock(nothing, 0x00000000, 0x00, Base.GenericCondition{Base.Threads.SpinLock}(Base.IntrusiveLinkedList{Task}(nothing, nothing), Base.Threads.SpinLock(0)), (1, 139714087419904, 139712934518832)))), WebIO.JSString[WebIO.JSString(\"function () {\\n    var handler = ((function (k){this.k=k; this.container=this.dom.querySelector(\\\"#container\\\"); return k.render(\\\"\\\\\\\\;\\\\\\\\;\\\",this.container)}));\\n    (WebIO.importBlock({\\\"data\\\":[{\\\"name\\\":null,\\\"type\\\":\\\"js\\\",\\\"url\\\":\\\"/assetserver/dd22ed1bf1896c2748f3fe616ce0b838adc895c1-katex.min.js\\\"},{\\\"name\\\":null,\\\"type\\\":\\\"css\\\",\\\"url\\\":\\\"/assetserver/46517a424aa5e6cffc1360d7e0848b601c584ee3-katex.min.css\\\"}],\\\"type\\\":\\\"async_block\\\"})).then((imports) => handler.apply(this, imports));\\n}\\n\")])], Dict{Symbol, Any}(:className => \"interact-widget\")), WebIO.Node{WebIO.DOM}(WebIO.DOM(:html, :div), Any[WebIO.Scope(WebIO.Node{WebIO.DOM}(WebIO.DOM(:html, :button), Any[\"reset\"], Dict{Symbol, Any}(:attributes => Dict{Any, Any}(\"data-bind\" => \"click: function (){this.clicks(this.clicks()+1)}, css: {'is-loading' : loading}\"), :className => \"is-medium button is-primary\", :style => Dict{String, Any}())), Dict{String, Tuple{Observables.AbstractObservable, Union{Nothing, Bool}}}(\"loading\" => (Observable(false), nothing), \"clicks\" => (Observable(0), nothing)), Set{String}(), nothing, WebIO.Asset[WebIO.Asset(\"js\", \"knockout\", \"/home/dushya/.julia/packages/Knockout/HReiN/src/../assets/knockout.js\"), WebIO.Asset(\"js\", \"knockout_punches\", \"/home/dushya/.julia/packages/Knockout/HReiN/src/../assets/knockout_punches.js\"), WebIO.Asset(\"js\", nothing, \"/home/dushya/.julia/packages/InteractBase/LJXv3/src/../assets/all.js\"), WebIO.Asset(\"css\", nothing, \"/home/dushya/.julia/packages/InteractBase/LJXv3/src/../assets/style.css\"), WebIO.Asset(\"css\", nothing, \"/home/dushya/.julia/packages/Interact/PENUy/src/../assets/bulma_confined.min.css\")], Dict{Any, Any}(\"loading\" => Any[WebIO.JSString(\"(function (val){return (val!=this.model[\\\"loading\\\"]()) ? (this.valueFromJulia[\\\"loading\\\"]=true, this.model[\\\"loading\\\"](val)) : undefined})\")], \"clicks\" => Any[WebIO.JSString(\"(function (val){return (val!=this.model[\\\"clicks\\\"]()) ? (this.valueFromJulia[\\\"clicks\\\"]=true, this.model[\\\"clicks\\\"](val)) : undefined})\")]), WebIO.ConnectionPool(Channel{Any}(32), Set{WebIO.AbstractConnection}(), Base.GenericCondition{ReentrantLock}(Base.IntrusiveLinkedList{Task}(Task (runnable) @0x00007f11e99307e0, Task (runnable) @0x00007f11e99307e0), ReentrantLock(nothing, 0x00000000, 0x00, Base.GenericCondition{Base.Threads.SpinLock}(Base.IntrusiveLinkedList{Task}(nothing, nothing), Base.Threads.SpinLock(0)), (8, 139714721725376, 139714721725376)))), WebIO.JSString[WebIO.JSString(\"function () {\\n    var handler = (function (ko, koPunches) {\\n    ko.punches.enableAll();\\n    ko.bindingHandlers.numericValue = {\\n        init: function(element, valueAccessor, allBindings, data, context) {\\n            var stringified = ko.observable(ko.unwrap(valueAccessor()));\\n            stringified.subscribe(function(value) {\\n                var val = parseFloat(value);\\n                if (!isNaN(val)) {\\n                    valueAccessor()(val);\\n                }\\n            });\\n            valueAccessor().subscribe(function(value) {\\n                var str = JSON.stringify(value);\\n                if ((str == \\\"0\\\") && ([\\\"-0\\\", \\\"-0.\\\"].indexOf(stringified()) >= 0))\\n                     return;\\n                 if ([\\\"null\\\", \\\"\\\"].indexOf(str) >= 0)\\n                     return;\\n                stringified(str);\\n            });\\n            ko.applyBindingsToNode(\\n                element,\\n                {\\n                    value: stringified,\\n                    valueUpdate: allBindings.get('valueUpdate'),\\n                },\\n                context,\\n            );\\n        }\\n    };\\n    var json_data = {\\\"loading\\\":WebIO.getval({\\\"name\\\":\\\"loading\\\",\\\"scope\\\":\\\"7083948473823172168\\\",\\\"id\\\":\\\"16431930551614108564\\\",\\\"type\\\":\\\"observable\\\"}),\\\"clicks\\\":WebIO.getval({\\\"name\\\":\\\"clicks\\\",\\\"scope\\\":\\\"7083948473823172168\\\",\\\"id\\\":\\\"10328807453396430252\\\",\\\"type\\\":\\\"observable\\\"})};\\n    var self = this;\\n    function AppViewModel() {\\n        for (var key in json_data) {\\n            var el = json_data[key];\\n            this[key] = Array.isArray(el) ? ko.observableArray(el) : ko.observable(el);\\n        }\\n        \\n        \\n        [this[\\\"loading\\\"].subscribe((function (val){!(this.valueFromJulia[\\\"loading\\\"]) ? (WebIO.setval({\\\"name\\\":\\\"loading\\\",\\\"scope\\\":\\\"7083948473823172168\\\",\\\"id\\\":\\\"16431930551614108564\\\",\\\"type\\\":\\\"observable\\\"},val)) : undefined; return this.valueFromJulia[\\\"loading\\\"]=false}),self),this[\\\"clicks\\\"].subscribe((function (val){!(this.valueFromJulia[\\\"clicks\\\"]) ? (WebIO.setval({\\\"name\\\":\\\"clicks\\\",\\\"scope\\\":\\\"7083948473823172168\\\",\\\"id\\\":\\\"10328807453396430252\\\",\\\"type\\\":\\\"observable\\\"},val)) : undefined; return this.valueFromJulia[\\\"clicks\\\"]=false}),self)]\\n        \\n    }\\n    self.model = new AppViewModel();\\n    self.valueFromJulia = {};\\n    for (var key in json_data) {\\n        self.valueFromJulia[key] = false;\\n    }\\n    ko.applyBindings(self.model, self.dom);\\n}\\n);\\n    (WebIO.importBlock({\\\"data\\\":[{\\\"name\\\":\\\"knockout\\\",\\\"type\\\":\\\"js\\\",\\\"url\\\":\\\"/assetserver/727383f2a47bd31570b7da84eee7b022dd6d7c78-knockout.js\\\"},{\\\"name\\\":\\\"knockout_punches\\\",\\\"type\\\":\\\"js\\\",\\\"url\\\":\\\"/assetserver/382b41b3b1bd9f26f75861d360bad7f8beea211f-knockout_punches.js\\\"}],\\\"type\\\":\\\"async_block\\\"})).then((imports) => handler.apply(this, imports));\\n}\\n\")])], Dict{Symbol, Any}(:className => \"field interact-widget\")), WebIO.Node{WebIO.DOM}(WebIO.DOM(:html, :div), Any[WebIO.Scope(WebIO.Node{WebIO.DOM}(WebIO.DOM(:html, :div), Any[], Dict{Symbol, Any}(:id => \"container\")), Dict{String, Tuple{Observables.AbstractObservable, Union{Nothing, Bool}}}(\"value\" => (Observable(\"\\\\;\\\\;\"), nothing)), Set{String}(), nothing, WebIO.Asset[WebIO.Asset(\"js\", nothing, \"/home/dushya/.julia/packages/InteractBase/LJXv3/src/../assets/katex.min.js\"), WebIO.Asset(\"css\", nothing, \"/home/dushya/.julia/packages/InteractBase/LJXv3/src/../assets/katex.min.css\")], Dict{Any, Any}(\"value\" => Any[WebIO.JSString(\"(function (txt){return this.k.render(txt,this.container)})\")]), WebIO.ConnectionPool(Channel{Any}(32), Set{WebIO.AbstractConnection}(), Base.GenericCondition{ReentrantLock}(Base.IntrusiveLinkedList{Task}(Task (runnable) @0x00007f11e8c18e20, Task (runnable) @0x00007f11e8c18e20), ReentrantLock(nothing, 0x00000000, 0x00, Base.GenericCondition{Base.Threads.SpinLock}(Base.IntrusiveLinkedList{Task}(nothing, nothing), Base.Threads.SpinLock(0)), (1, 139714087419904, 139712934518832)))), WebIO.JSString[WebIO.JSString(\"function () {\\n    var handler = ((function (k){this.k=k; this.container=this.dom.querySelector(\\\"#container\\\"); return k.render(\\\"\\\\\\\\;\\\\\\\\;\\\",this.container)}));\\n    (WebIO.importBlock({\\\"data\\\":[{\\\"name\\\":null,\\\"type\\\":\\\"js\\\",\\\"url\\\":\\\"/assetserver/dd22ed1bf1896c2748f3fe616ce0b838adc895c1-katex.min.js\\\"},{\\\"name\\\":null,\\\"type\\\":\\\"css\\\",\\\"url\\\":\\\"/assetserver/46517a424aa5e6cffc1360d7e0848b601c584ee3-katex.min.css\\\"}],\\\"type\\\":\\\"async_block\\\"})).then((imports) => handler.apply(this, imports));\\n}\\n\")])], Dict{Symbol, Any}(:className => \"interact-widget\")), WebIO.Node{WebIO.DOM}(WebIO.DOM(:html, :div), Any[WebIO.Scope(WebIO.Node{WebIO.DOM}(WebIO.DOM(:html, :button), Any[\"save\"], Dict{Symbol, Any}(:attributes => Dict{Any, Any}(\"data-bind\" => \"click: function (){this.clicks(this.clicks()+1)}, css: {'is-loading' : loading}\"), :className => \"is-medium button is-primary\", :style => Dict{String, Any}())), Dict{String, Tuple{Observables.AbstractObservable, Union{Nothing, Bool}}}(\"loading\" => (Observable(false), nothing), \"clicks\" => (Observable(0), nothing)), Set{String}(), nothing, WebIO.Asset[WebIO.Asset(\"js\", \"knockout\", \"/home/dushya/.julia/packages/Knockout/HReiN/src/../assets/knockout.js\"), WebIO.Asset(\"js\", \"knockout_punches\", \"/home/dushya/.julia/packages/Knockout/HReiN/src/../assets/knockout_punches.js\"), WebIO.Asset(\"js\", nothing, \"/home/dushya/.julia/packages/InteractBase/LJXv3/src/../assets/all.js\"), WebIO.Asset(\"css\", nothing, \"/home/dushya/.julia/packages/InteractBase/LJXv3/src/../assets/style.css\"), WebIO.Asset(\"css\", nothing, \"/home/dushya/.julia/packages/Interact/PENUy/src/../assets/bulma_confined.min.css\")], Dict{Any, Any}(\"loading\" => Any[WebIO.JSString(\"(function (val){return (val!=this.model[\\\"loading\\\"]()) ? (this.valueFromJulia[\\\"loading\\\"]=true, this.model[\\\"loading\\\"](val)) : undefined})\")], \"clicks\" => Any[WebIO.JSString(\"(function (val){return (val!=this.model[\\\"clicks\\\"]()) ? (this.valueFromJulia[\\\"clicks\\\"]=true, this.model[\\\"clicks\\\"](val)) : undefined})\")]), WebIO.ConnectionPool(Channel{Any}(32), Set{WebIO.AbstractConnection}(), Base.GenericCondition{ReentrantLock}(Base.IntrusiveLinkedList{Task}(Task (runnable) @0x00007f11e99b8e20, Task (runnable) @0x00007f11e99b8e20), ReentrantLock(nothing, 0x00000000, 0x00, Base.GenericCondition{Base.Threads.SpinLock}(Base.IntrusiveLinkedList{Task}(nothing, nothing), Base.Threads.SpinLock(0)), (0, 0, 141733920768)))), WebIO.JSString[WebIO.JSString(\"function () {\\n    var handler = (function (ko, koPunches) {\\n    ko.punches.enableAll();\\n    ko.bindingHandlers.numericValue = {\\n        init: function(element, valueAccessor, allBindings, data, context) {\\n            var stringified = ko.observable(ko.unwrap(valueAccessor()));\\n            stringified.subscribe(function(value) {\\n                var val = parseFloat(value);\\n                if (!isNaN(val)) {\\n                    valueAccessor()(val);\\n                }\\n            });\\n            valueAccessor().subscribe(function(value) {\\n                var str = JSON.stringify(value);\\n                if ((str == \\\"0\\\") && ([\\\"-0\\\", \\\"-0.\\\"].indexOf(stringified()) >= 0))\\n                     return;\\n                 if ([\\\"null\\\", \\\"\\\"].indexOf(str) >= 0)\\n                     return;\\n                stringified(str);\\n            });\\n            ko.applyBindingsToNode(\\n                element,\\n                {\\n                    value: stringified,\\n                    valueUpdate: allBindings.get('valueUpdate'),\\n                },\\n                context,\\n            );\\n        }\\n    };\\n    var json_data = {\\\"loading\\\":WebIO.getval({\\\"name\\\":\\\"loading\\\",\\\"scope\\\":\\\"2475623436957572116\\\",\\\"id\\\":\\\"771028028324613882\\\",\\\"type\\\":\\\"observable\\\"}),\\\"clicks\\\":WebIO.getval({\\\"name\\\":\\\"clicks\\\",\\\"scope\\\":\\\"2475623436957572116\\\",\\\"id\\\":\\\"3583906171996889860\\\",\\\"type\\\":\\\"observable\\\"})};\\n    var self = this;\\n    function AppViewModel() {\\n        for (var key in json_data) {\\n            var el = json_data[key];\\n            this[key] = Array.isArray(el) ? ko.observableArray(el) : ko.observable(el);\\n        }\\n        \\n        \\n        [this[\\\"loading\\\"].subscribe((function (val){!(this.valueFromJulia[\\\"loading\\\"]) ? (WebIO.setval({\\\"name\\\":\\\"loading\\\",\\\"scope\\\":\\\"2475623436957572116\\\",\\\"id\\\":\\\"771028028324613882\\\",\\\"type\\\":\\\"observable\\\"},val)) : undefined; return this.valueFromJulia[\\\"loading\\\"]=false}),self),this[\\\"clicks\\\"].subscribe((function (val){!(this.valueFromJulia[\\\"clicks\\\"]) ? (WebIO.setval({\\\"name\\\":\\\"clicks\\\",\\\"scope\\\":\\\"2475623436957572116\\\",\\\"id\\\":\\\"3583906171996889860\\\",\\\"type\\\":\\\"observable\\\"},val)) : undefined; return this.valueFromJulia[\\\"clicks\\\"]=false}),self)]\\n        \\n    }\\n    self.model = new AppViewModel();\\n    self.valueFromJulia = {};\\n    for (var key in json_data) {\\n        self.valueFromJulia[key] = false;\\n    }\\n    ko.applyBindings(self.model, self.dom);\\n}\\n);\\n    (WebIO.importBlock({\\\"data\\\":[{\\\"name\\\":\\\"knockout\\\",\\\"type\\\":\\\"js\\\",\\\"url\\\":\\\"/assetserver/727383f2a47bd31570b7da84eee7b022dd6d7c78-knockout.js\\\"},{\\\"name\\\":\\\"knockout_punches\\\",\\\"type\\\":\\\"js\\\",\\\"url\\\":\\\"/assetserver/382b41b3b1bd9f26f75861d360bad7f8beea211f-knockout_punches.js\\\"}],\\\"type\\\":\\\"async_block\\\"})).then((imports) => handler.apply(this, imports));\\n}\\n\")])], Dict{Symbol, Any}(:className => \"field interact-widget\"))], Dict{Symbol, Any}(:style => Dict(\"display\" => \"flex\", \"flex-direction\" => \"row\")))], Dict{Symbol, Any}(:style => Dict(\"display\" => \"flex\", \"flex-direction\" => \"column\"))), WebIO.Node{WebIO.DOM}(WebIO.DOM(:html, :div), Any[WebIO.Scope(WebIO.Node{WebIO.DOM}(WebIO.DOM(:html, :div), Any[], Dict{Symbol, Any}(:id => \"container\")), Dict{String, Tuple{Observables.AbstractObservable, Union{Nothing, Bool}}}(\"value\" => (Observable(\"\\\\;\\\\;\"), nothing)), Set{String}(), nothing, WebIO.Asset[WebIO.Asset(\"js\", nothing, \"/home/dushya/.julia/packages/InteractBase/LJXv3/src/../assets/katex.min.js\"), WebIO.Asset(\"css\", nothing, \"/home/dushya/.julia/packages/InteractBase/LJXv3/src/../assets/katex.min.css\")], Dict{Any, Any}(\"value\" => Any[WebIO.JSString(\"(function (txt){return this.k.render(txt,this.container)})\")]), WebIO.ConnectionPool(Channel{Any}(32), Set{WebIO.AbstractConnection}(), Base.GenericCondition{ReentrantLock}(Base.IntrusiveLinkedList{Task}(Task (runnable) @0x00007f11e8c18e20, Task (runnable) @0x00007f11e8c18e20), ReentrantLock(nothing, 0x00000000, 0x00, Base.GenericCondition{Base.Threads.SpinLock}(Base.IntrusiveLinkedList{Task}(nothing, nothing), Base.Threads.SpinLock(0)), (1, 139714087419904, 139712934518832)))), WebIO.JSString[WebIO.JSString(\"function () {\\n    var handler = ((function (k){this.k=k; this.container=this.dom.querySelector(\\\"#container\\\"); return k.render(\\\"\\\\\\\\;\\\\\\\\;\\\",this.container)}));\\n    (WebIO.importBlock({\\\"data\\\":[{\\\"name\\\":null,\\\"type\\\":\\\"js\\\",\\\"url\\\":\\\"/assetserver/dd22ed1bf1896c2748f3fe616ce0b838adc895c1-katex.min.js\\\"},{\\\"name\\\":null,\\\"type\\\":\\\"css\\\",\\\"url\\\":\\\"/assetserver/46517a424aa5e6cffc1360d7e0848b601c584ee3-katex.min.css\\\"}],\\\"type\\\":\\\"async_block\\\"})).then((imports) => handler.apply(this, imports));\\n}\\n\")])], Dict{Symbol, Any}(:className => \"interact-widget\")), Observable(Luxor.Drawing(430.0, 430.0, \"\", Cairo.CairoSurfaceBase{UInt32}(Ptr{Nothing} @0x0000000000000000, 430.0, 430.0), Cairo.CairoContext(Ptr{Nothing} @0x00000000051607c0, Cairo.CairoSurfaceBase{UInt32}(Ptr{Nothing} @0x0000000000000000, 430.0, 430.0), Ptr{Nothing} @0x0000000003c510d0), :png, 0.5, 0.5, 0.5, 0.5, IOBuffer(data=UInt8[...], readable=true, writable=true, seekable=true, append=false, size=2913, maxsize=Inf, ptr=2914, mark=-1), UInt8[0x89, 0x50, 0x4e, 0x47, 0x0d, 0x0a, 0x1a, 0x0a, 0x00, 0x00  …  0x00, 0x00, 0x49, 0x45, 0x4e, 0x44, 0xae, 0x42, 0x60, 0x82], false)), WebIO.Node{WebIO.DOM}(WebIO.DOM(:html, :div), Any[WebIO.Scope(WebIO.Node{WebIO.DOM}(WebIO.DOM(:html, :div), Any[], Dict{Symbol, Any}(:id => \"container\")), Dict{String, Tuple{Observables.AbstractObservable, Union{Nothing, Bool}}}(\"value\" => (Observable(\"\\\\;\\\\;\"), nothing)), Set{String}(), nothing, WebIO.Asset[WebIO.Asset(\"js\", nothing, \"/home/dushya/.julia/packages/InteractBase/LJXv3/src/../assets/katex.min.js\"), WebIO.Asset(\"css\", nothing, \"/home/dushya/.julia/packages/InteractBase/LJXv3/src/../assets/katex.min.css\")], Dict{Any, Any}(\"value\" => Any[WebIO.JSString(\"(function (txt){return this.k.render(txt,this.container)})\")]), WebIO.ConnectionPool(Channel{Any}(32), Set{WebIO.AbstractConnection}(), Base.GenericCondition{ReentrantLock}(Base.IntrusiveLinkedList{Task}(Task (runnable) @0x00007f11e8c18e20, Task (runnable) @0x00007f11e8c18e20), ReentrantLock(nothing, 0x00000000, 0x00, Base.GenericCondition{Base.Threads.SpinLock}(Base.IntrusiveLinkedList{Task}(nothing, nothing), Base.Threads.SpinLock(0)), (1, 139714087419904, 139712934518832)))), WebIO.JSString[WebIO.JSString(\"function () {\\n    var handler = ((function (k){this.k=k; this.container=this.dom.querySelector(\\\"#container\\\"); return k.render(\\\"\\\\\\\\;\\\\\\\\;\\\",this.container)}));\\n    (WebIO.importBlock({\\\"data\\\":[{\\\"name\\\":null,\\\"type\\\":\\\"js\\\",\\\"url\\\":\\\"/assetserver/dd22ed1bf1896c2748f3fe616ce0b838adc895c1-katex.min.js\\\"},{\\\"name\\\":null,\\\"type\\\":\\\"css\\\",\\\"url\\\":\\\"/assetserver/46517a424aa5e6cffc1360d7e0848b601c584ee3-katex.min.css\\\"}],\\\"type\\\":\\\"async_block\\\"})).then((imports) => handler.apply(this, imports));\\n}\\n\")])], Dict{Symbol, Any}(:className => \"interact-widget\")), WebIO.Node{WebIO.DOM}(WebIO.DOM(:html, :div), Any[], Dict{Symbol, Any}(:style => Dict(\"display\" => \"flex\", \"flex-direction\" => \"column\")))], Dict{Symbol, Any}(:style => Dict(\"display\" => \"flex\", \"flex-direction\" => \"row\")))], Dict{Symbol, Any}(:style => Dict(\"display\" => \"flex\", \"flex-direction\" => \"column\")))"
      ]
     },
     "execution_count": 7,
     "metadata": {
      "application/vnd.webio.node+json": {
       "kernelId": "3fdd8fc6-43ce-4dfa-aceb-ece79a5e55f8"
      }
     },
     "output_type": "execute_result"
    }
   ],
   "source": [
    "create_interactive_app(model, initialiser= initialiser!,\n",
    "    props_to_record=Dict(\"patches\"=>Set([:color, :is_alive])),\n",
    "    step_rule= step_rule!,\n",
    "    model_controls=[\n",
    "        (:alive_percent, \"slider\", 0:0.01:1.0)\n",
    "        ], \n",
    "    frames=200, show_patches=true) "
   ]
  },
  {
   "cell_type": "markdown",
   "metadata": {},
   "source": [
    "## Step 4: Fetch Data \n",
    "\n",
    "We can fetch the data of number alive patches as follows."
   ]
  },
  {
   "cell_type": "code",
   "execution_count": 8,
   "metadata": {},
   "outputs": [
    {
     "data": {
      "image/png": "[encoded data removed]",
      "image/svg+xml": [
       "<?xml version=\"1.0\" encoding=\"utf-8\"?>\n",
       "<svg xmlns=\"http://www.w3.org/2000/svg\" xmlns:xlink=\"http://www.w3.org/1999/xlink\" width=\"600\" height=\"400\" viewBox=\"0 0 2400 1600\">\n",
       "<defs>\n",
       "  <clipPath id=\"clip220\">\n",
       "    <rect x=\"0\" y=\"0\" width=\"2400\" height=\"1600\"/>\n",
       "  </clipPath>\n",
       "</defs>\n",
       "<path clip-path=\"url(#clip220)\" d=\"M0 1600 L2400 1600 L2400 0 L0 0  Z\" fill=\"#ffffff\" fill-rule=\"evenodd\" fill-opacity=\"1\"/>\n",
       "<defs>\n",
       "  <clipPath id=\"clip221\">\n",
       "    <rect x=\"480\" y=\"0\" width=\"1681\" height=\"1600\"/>\n",
       "  </clipPath>\n",
       "</defs>\n",
       "<path clip-path=\"url(#clip220)\" d=\"M234.125 1423.18 L2352.76 1423.18 L2352.76 47.2441 L234.125 47.2441  Z\" fill=\"#ffffff\" fill-rule=\"evenodd\" fill-opacity=\"1\"/>\n",
       "<defs>\n",
       "  <clipPath id=\"clip222\">\n",
       "    <rect x=\"234\" y=\"47\" width=\"2120\" height=\"1377\"/>\n",
       "  </clipPath>\n",
       "</defs>\n",
       "<polyline clip-path=\"url(#clip222)\" style=\"stroke:#000000; stroke-linecap:round; stroke-linejoin:round; stroke-width:2; stroke-opacity:0.1; fill:none\" points=\"284.093,1423.18 284.093,47.2441 \"/>\n",
       "<polyline clip-path=\"url(#clip222)\" style=\"stroke:#000000; stroke-linecap:round; stroke-linejoin:round; stroke-width:2; stroke-opacity:0.1; fill:none\" points=\"783.77,1423.18 783.77,47.2441 \"/>\n",
       "<polyline clip-path=\"url(#clip222)\" style=\"stroke:#000000; stroke-linecap:round; stroke-linejoin:round; stroke-width:2; stroke-opacity:0.1; fill:none\" points=\"1283.45,1423.18 1283.45,47.2441 \"/>\n",
       "<polyline clip-path=\"url(#clip222)\" style=\"stroke:#000000; stroke-linecap:round; stroke-linejoin:round; stroke-width:2; stroke-opacity:0.1; fill:none\" points=\"1783.12,1423.18 1783.12,47.2441 \"/>\n",
       "<polyline clip-path=\"url(#clip222)\" style=\"stroke:#000000; stroke-linecap:round; stroke-linejoin:round; stroke-width:2; stroke-opacity:0.1; fill:none\" points=\"2282.8,1423.18 2282.8,47.2441 \"/>\n",
       "<polyline clip-path=\"url(#clip220)\" style=\"stroke:#000000; stroke-linecap:round; stroke-linejoin:round; stroke-width:4; stroke-opacity:1; fill:none\" points=\"234.125,1423.18 2352.76,1423.18 \"/>\n",
       "<polyline clip-path=\"url(#clip220)\" style=\"stroke:#000000; stroke-linecap:round; stroke-linejoin:round; stroke-width:4; stroke-opacity:1; fill:none\" points=\"284.093,1423.18 284.093,1404.28 \"/>\n",
       "<polyline clip-path=\"url(#clip220)\" style=\"stroke:#000000; stroke-linecap:round; stroke-linejoin:round; stroke-width:4; stroke-opacity:1; fill:none\" points=\"783.77,1423.18 783.77,1404.28 \"/>\n",
       "<polyline clip-path=\"url(#clip220)\" style=\"stroke:#000000; stroke-linecap:round; stroke-linejoin:round; stroke-width:4; stroke-opacity:1; fill:none\" points=\"1283.45,1423.18 1283.45,1404.28 \"/>\n",
       "<polyline clip-path=\"url(#clip220)\" style=\"stroke:#000000; stroke-linecap:round; stroke-linejoin:round; stroke-width:4; stroke-opacity:1; fill:none\" points=\"1783.12,1423.18 1783.12,1404.28 \"/>\n",
       "<polyline clip-path=\"url(#clip220)\" style=\"stroke:#000000; stroke-linecap:round; stroke-linejoin:round; stroke-width:4; stroke-opacity:1; fill:none\" points=\"2282.8,1423.18 2282.8,1404.28 \"/>\n",
       "<path clip-path=\"url(#clip220)\" d=\"M284.093 1454.1 Q280.482 1454.1 278.653 1457.66 Q276.848 1461.2 276.848 1468.33 Q276.848 1475.44 278.653 1479.01 Q280.482 1482.55 284.093 1482.55 Q287.727 1482.55 289.533 1479.01 Q291.362 1475.44 291.362 1468.33 Q291.362 1461.2 289.533 1457.66 Q287.727 1454.1 284.093 1454.1 M284.093 1450.39 Q289.903 1450.39 292.959 1455 Q296.038 1459.58 296.038 1468.33 Q296.038 1477.06 292.959 1481.67 Q289.903 1486.25 284.093 1486.25 Q278.283 1486.25 275.204 1481.67 Q272.149 1477.06 272.149 1468.33 Q272.149 1459.58 275.204 1455 Q278.283 1450.39 284.093 1450.39 Z\" fill=\"#000000\" fill-rule=\"nonzero\" fill-opacity=\"1\" /><path clip-path=\"url(#clip220)\" d=\"M758.469 1451.02 L776.826 1451.02 L776.826 1454.96 L762.752 1454.96 L762.752 1463.43 Q763.77 1463.08 764.789 1462.92 Q765.807 1462.73 766.826 1462.73 Q772.613 1462.73 775.992 1465.9 Q779.372 1469.08 779.372 1474.49 Q779.372 1480.07 775.9 1483.17 Q772.428 1486.25 766.108 1486.25 Q763.932 1486.25 761.664 1485.88 Q759.418 1485.51 757.011 1484.77 L757.011 1480.07 Q759.094 1481.2 761.317 1481.76 Q763.539 1482.32 766.016 1482.32 Q770.02 1482.32 772.358 1480.21 Q774.696 1478.1 774.696 1474.49 Q774.696 1470.88 772.358 1468.77 Q770.02 1466.67 766.016 1466.67 Q764.141 1466.67 762.266 1467.08 Q760.414 1467.5 758.469 1468.38 L758.469 1451.02 Z\" fill=\"#000000\" fill-rule=\"nonzero\" fill-opacity=\"1\" /><path clip-path=\"url(#clip220)\" d=\"M798.585 1454.1 Q794.974 1454.1 793.145 1457.66 Q791.34 1461.2 791.34 1468.33 Q791.34 1475.44 793.145 1479.01 Q794.974 1482.55 798.585 1482.55 Q802.219 1482.55 804.025 1479.01 Q805.853 1475.44 805.853 1468.33 Q805.853 1461.2 804.025 1457.66 Q802.219 1454.1 798.585 1454.1 M798.585 1450.39 Q804.395 1450.39 807.451 1455 Q810.529 1459.58 810.529 1468.33 Q810.529 1477.06 807.451 1481.67 Q804.395 1486.25 798.585 1486.25 Q792.775 1486.25 789.696 1481.67 Q786.64 1477.06 786.64 1468.33 Q786.64 1459.58 789.696 1455 Q792.775 1450.39 798.585 1450.39 Z\" fill=\"#000000\" fill-rule=\"nonzero\" fill-opacity=\"1\" /><path clip-path=\"url(#clip220)\" d=\"M1243.05 1481.64 L1250.69 1481.64 L1250.69 1455.28 L1242.38 1456.95 L1242.38 1452.69 L1250.65 1451.02 L1255.32 1451.02 L1255.32 1481.64 L1262.96 1481.64 L1262.96 1485.58 L1243.05 1485.58 L1243.05 1481.64 Z\" fill=\"#000000\" fill-rule=\"nonzero\" fill-opacity=\"1\" /><path clip-path=\"url(#clip220)\" d=\"M1282.41 1454.1 Q1278.79 1454.1 1276.97 1457.66 Q1275.16 1461.2 1275.16 1468.33 Q1275.16 1475.44 1276.97 1479.01 Q1278.79 1482.55 1282.41 1482.55 Q1286.04 1482.55 1287.85 1479.01 Q1289.67 1475.44 1289.67 1468.33 Q1289.67 1461.2 1287.85 1457.66 Q1286.04 1454.1 1282.41 1454.1 M1282.41 1450.39 Q1288.22 1450.39 1291.27 1455 Q1294.35 1459.58 1294.35 1468.33 Q1294.35 1477.06 1291.27 1481.67 Q1288.22 1486.25 1282.41 1486.25 Q1276.6 1486.25 1273.52 1481.67 Q1270.46 1477.06 1270.46 1468.33 Q1270.46 1459.58 1273.52 1455 Q1276.6 1450.39 1282.41 1450.39 Z\" fill=\"#000000\" fill-rule=\"nonzero\" fill-opacity=\"1\" /><path clip-path=\"url(#clip220)\" d=\"M1312.57 1454.1 Q1308.96 1454.1 1307.13 1457.66 Q1305.32 1461.2 1305.32 1468.33 Q1305.32 1475.44 1307.13 1479.01 Q1308.96 1482.55 1312.57 1482.55 Q1316.2 1482.55 1318.01 1479.01 Q1319.84 1475.44 1319.84 1468.33 Q1319.84 1461.2 1318.01 1457.66 Q1316.2 1454.1 1312.57 1454.1 M1312.57 1450.39 Q1318.38 1450.39 1321.43 1455 Q1324.51 1459.58 1324.51 1468.33 Q1324.51 1477.06 1321.43 1481.67 Q1318.38 1486.25 1312.57 1486.25 Q1306.76 1486.25 1303.68 1481.67 Q1300.62 1477.06 1300.62 1468.33 Q1300.62 1459.58 1303.68 1455 Q1306.76 1450.39 1312.57 1450.39 Z\" fill=\"#000000\" fill-rule=\"nonzero\" fill-opacity=\"1\" /><path clip-path=\"url(#clip220)\" d=\"M1742.73 1481.64 L1750.37 1481.64 L1750.37 1455.28 L1742.06 1456.95 L1742.06 1452.69 L1750.32 1451.02 L1755 1451.02 L1755 1481.64 L1762.64 1481.64 L1762.64 1485.58 L1742.73 1485.58 L1742.73 1481.64 Z\" fill=\"#000000\" fill-rule=\"nonzero\" fill-opacity=\"1\" /><path clip-path=\"url(#clip220)\" d=\"M1772.13 1451.02 L1790.49 1451.02 L1790.49 1454.96 L1776.41 1454.96 L1776.41 1463.43 Q1777.43 1463.08 1778.45 1462.92 Q1779.47 1462.73 1780.49 1462.73 Q1786.27 1462.73 1789.65 1465.9 Q1793.03 1469.08 1793.03 1474.49 Q1793.03 1480.07 1789.56 1483.17 Q1786.09 1486.25 1779.77 1486.25 Q1777.59 1486.25 1775.32 1485.88 Q1773.08 1485.51 1770.67 1484.77 L1770.67 1480.07 Q1772.75 1481.2 1774.98 1481.76 Q1777.2 1482.32 1779.68 1482.32 Q1783.68 1482.32 1786.02 1480.21 Q1788.36 1478.1 1788.36 1474.49 Q1788.36 1470.88 1786.02 1468.77 Q1783.68 1466.67 1779.68 1466.67 Q1777.8 1466.67 1775.93 1467.08 Q1774.07 1467.5 1772.13 1468.38 L1772.13 1451.02 Z\" fill=\"#000000\" fill-rule=\"nonzero\" fill-opacity=\"1\" /><path clip-path=\"url(#clip220)\" d=\"M1812.24 1454.1 Q1808.63 1454.1 1806.8 1457.66 Q1805 1461.2 1805 1468.33 Q1805 1475.44 1806.8 1479.01 Q1808.63 1482.55 1812.24 1482.55 Q1815.88 1482.55 1817.68 1479.01 Q1819.51 1475.44 1819.51 1468.33 Q1819.51 1461.2 1817.68 1457.66 Q1815.88 1454.1 1812.24 1454.1 M1812.24 1450.39 Q1818.05 1450.39 1821.11 1455 Q1824.19 1459.58 1824.19 1468.33 Q1824.19 1477.06 1821.11 1481.67 Q1818.05 1486.25 1812.24 1486.25 Q1806.43 1486.25 1803.36 1481.67 Q1800.3 1477.06 1800.3 1468.33 Q1800.3 1459.58 1803.36 1455 Q1806.43 1450.39 1812.24 1450.39 Z\" fill=\"#000000\" fill-rule=\"nonzero\" fill-opacity=\"1\" /><path clip-path=\"url(#clip220)\" d=\"M2246.49 1481.64 L2262.81 1481.64 L2262.81 1485.58 L2240.87 1485.58 L2240.87 1481.64 Q2243.53 1478.89 2248.11 1474.26 Q2252.72 1469.61 2253.9 1468.27 Q2256.15 1465.74 2257.03 1464.01 Q2257.93 1462.25 2257.93 1460.56 Q2257.93 1457.8 2255.98 1456.07 Q2254.06 1454.33 2250.96 1454.33 Q2248.76 1454.33 2246.31 1455.09 Q2243.88 1455.86 2241.1 1457.41 L2241.1 1452.69 Q2243.92 1451.55 2246.38 1450.97 Q2248.83 1450.39 2250.87 1450.39 Q2256.24 1450.39 2259.43 1453.08 Q2262.63 1455.77 2262.63 1460.26 Q2262.63 1462.39 2261.82 1464.31 Q2261.03 1466.2 2258.92 1468.8 Q2258.35 1469.47 2255.24 1472.69 Q2252.14 1475.88 2246.49 1481.64 Z\" fill=\"#000000\" fill-rule=\"nonzero\" fill-opacity=\"1\" /><path clip-path=\"url(#clip220)\" d=\"M2282.63 1454.1 Q2279.02 1454.1 2277.19 1457.66 Q2275.38 1461.2 2275.38 1468.33 Q2275.38 1475.44 2277.19 1479.01 Q2279.02 1482.55 2282.63 1482.55 Q2286.26 1482.55 2288.07 1479.01 Q2289.9 1475.44 2289.9 1468.33 Q2289.9 1461.2 2288.07 1457.66 Q2286.26 1454.1 2282.63 1454.1 M2282.63 1450.39 Q2288.44 1450.39 2291.49 1455 Q2294.57 1459.58 2294.57 1468.33 Q2294.57 1477.06 2291.49 1481.67 Q2288.44 1486.25 2282.63 1486.25 Q2276.82 1486.25 2273.74 1481.67 Q2270.68 1477.06 2270.68 1468.33 Q2270.68 1459.58 2273.74 1455 Q2276.82 1450.39 2282.63 1450.39 Z\" fill=\"#000000\" fill-rule=\"nonzero\" fill-opacity=\"1\" /><path clip-path=\"url(#clip220)\" d=\"M2312.79 1454.1 Q2309.18 1454.1 2307.35 1457.66 Q2305.54 1461.2 2305.54 1468.33 Q2305.54 1475.44 2307.35 1479.01 Q2309.18 1482.55 2312.79 1482.55 Q2316.42 1482.55 2318.23 1479.01 Q2320.06 1475.44 2320.06 1468.33 Q2320.06 1461.2 2318.23 1457.66 Q2316.42 1454.1 2312.79 1454.1 M2312.79 1450.39 Q2318.6 1450.39 2321.66 1455 Q2324.73 1459.58 2324.73 1468.33 Q2324.73 1477.06 2321.66 1481.67 Q2318.6 1486.25 2312.79 1486.25 Q2306.98 1486.25 2303.9 1481.67 Q2300.85 1477.06 2300.85 1468.33 Q2300.85 1459.58 2303.9 1455 Q2306.98 1450.39 2312.79 1450.39 Z\" fill=\"#000000\" fill-rule=\"nonzero\" fill-opacity=\"1\" /><path clip-path=\"url(#clip220)\" d=\"M1230.48 1522.27 L1230.48 1532.4 L1242.55 1532.4 L1242.55 1536.95 L1230.48 1536.95 L1230.48 1556.3 Q1230.48 1560.66 1231.66 1561.9 Q1232.87 1563.14 1236.53 1563.14 L1242.55 1563.14 L1242.55 1568.04 L1236.53 1568.04 Q1229.75 1568.04 1227.17 1565.53 Q1224.6 1562.98 1224.6 1556.3 L1224.6 1536.95 L1220.3 1536.95 L1220.3 1532.4 L1224.6 1532.4 L1224.6 1522.27 L1230.48 1522.27 Z\" fill=\"#000000\" fill-rule=\"nonzero\" fill-opacity=\"1\" /><path clip-path=\"url(#clip220)\" d=\"M1250.25 1532.4 L1256.11 1532.4 L1256.11 1568.04 L1250.25 1568.04 L1250.25 1532.4 M1250.25 1518.52 L1256.11 1518.52 L1256.11 1525.93 L1250.25 1525.93 L1250.25 1518.52 Z\" fill=\"#000000\" fill-rule=\"nonzero\" fill-opacity=\"1\" /><path clip-path=\"url(#clip220)\" d=\"M1294.01 1533.76 L1294.01 1539.24 Q1291.53 1537.87 1289.02 1537.2 Q1286.53 1536.5 1283.99 1536.5 Q1278.29 1536.5 1275.14 1540.13 Q1271.99 1543.73 1271.99 1550.25 Q1271.99 1556.78 1275.14 1560.4 Q1278.29 1564 1283.99 1564 Q1286.53 1564 1289.02 1563.33 Q1291.53 1562.63 1294.01 1561.26 L1294.01 1566.68 Q1291.56 1567.82 1288.92 1568.39 Q1286.31 1568.97 1283.35 1568.97 Q1275.3 1568.97 1270.56 1563.91 Q1265.81 1558.85 1265.81 1550.25 Q1265.81 1541.53 1270.59 1536.53 Q1275.39 1531.54 1283.73 1531.54 Q1286.44 1531.54 1289.02 1532.11 Q1291.59 1532.65 1294.01 1533.76 Z\" fill=\"#000000\" fill-rule=\"nonzero\" fill-opacity=\"1\" /><path clip-path=\"url(#clip220)\" d=\"M1303.98 1518.52 L1309.86 1518.52 L1309.86 1547.77 L1327.34 1532.4 L1334.82 1532.4 L1315.91 1549.07 L1335.61 1568.04 L1327.97 1568.04 L1309.86 1550.63 L1309.86 1568.04 L1303.98 1568.04 L1303.98 1518.52 Z\" fill=\"#000000\" fill-rule=\"nonzero\" fill-opacity=\"1\" /><path clip-path=\"url(#clip220)\" d=\"M1364.67 1533.45 L1364.67 1538.98 Q1362.19 1537.71 1359.52 1537.07 Q1356.84 1536.44 1353.98 1536.44 Q1349.62 1536.44 1347.42 1537.77 Q1345.26 1539.11 1345.26 1541.79 Q1345.26 1543.82 1346.82 1545 Q1348.38 1546.15 1353.09 1547.2 L1355.09 1547.64 Q1361.33 1548.98 1363.94 1551.43 Q1366.58 1553.85 1366.58 1558.21 Q1366.58 1563.17 1362.64 1566.07 Q1358.72 1568.97 1351.85 1568.97 Q1348.98 1568.97 1345.86 1568.39 Q1342.77 1567.85 1339.34 1566.74 L1339.34 1560.69 Q1342.58 1562.38 1345.73 1563.24 Q1348.89 1564.07 1351.97 1564.07 Q1356.11 1564.07 1358.34 1562.66 Q1360.57 1561.23 1360.57 1558.65 Q1360.57 1556.27 1358.94 1554.99 Q1357.35 1553.72 1351.91 1552.54 L1349.87 1552.07 Q1344.43 1550.92 1342.01 1548.56 Q1339.59 1546.18 1339.59 1542.04 Q1339.59 1537.01 1343.16 1534.27 Q1346.72 1531.54 1353.28 1531.54 Q1356.52 1531.54 1359.39 1532.01 Q1362.25 1532.49 1364.67 1533.45 Z\" fill=\"#000000\" fill-rule=\"nonzero\" fill-opacity=\"1\" /><polyline clip-path=\"url(#clip222)\" style=\"stroke:#000000; stroke-linecap:round; stroke-linejoin:round; stroke-width:2; stroke-opacity:0.1; fill:none\" points=\"234.125,1155.57 2352.76,1155.57 \"/>\n",
       "<polyline clip-path=\"url(#clip222)\" style=\"stroke:#000000; stroke-linecap:round; stroke-linejoin:round; stroke-width:2; stroke-opacity:0.1; fill:none\" points=\"234.125,819.283 2352.76,819.283 \"/>\n",
       "<polyline clip-path=\"url(#clip222)\" style=\"stroke:#000000; stroke-linecap:round; stroke-linejoin:round; stroke-width:2; stroke-opacity:0.1; fill:none\" points=\"234.125,483 2352.76,483 \"/>\n",
       "<polyline clip-path=\"url(#clip222)\" style=\"stroke:#000000; stroke-linecap:round; stroke-linejoin:round; stroke-width:2; stroke-opacity:0.1; fill:none\" points=\"234.125,146.717 2352.76,146.717 \"/>\n",
       "<polyline clip-path=\"url(#clip220)\" style=\"stroke:#000000; stroke-linecap:round; stroke-linejoin:round; stroke-width:4; stroke-opacity:1; fill:none\" points=\"234.125,1423.18 234.125,47.2441 \"/>\n",
       "<polyline clip-path=\"url(#clip220)\" style=\"stroke:#000000; stroke-linecap:round; stroke-linejoin:round; stroke-width:4; stroke-opacity:1; fill:none\" points=\"234.125,1155.57 253.023,1155.57 \"/>\n",
       "<polyline clip-path=\"url(#clip220)\" style=\"stroke:#000000; stroke-linecap:round; stroke-linejoin:round; stroke-width:4; stroke-opacity:1; fill:none\" points=\"234.125,819.283 253.023,819.283 \"/>\n",
       "<polyline clip-path=\"url(#clip220)\" style=\"stroke:#000000; stroke-linecap:round; stroke-linejoin:round; stroke-width:4; stroke-opacity:1; fill:none\" points=\"234.125,483 253.023,483 \"/>\n",
       "<polyline clip-path=\"url(#clip220)\" style=\"stroke:#000000; stroke-linecap:round; stroke-linejoin:round; stroke-width:4; stroke-opacity:1; fill:none\" points=\"234.125,146.717 253.023,146.717 \"/>\n",
       "<path clip-path=\"url(#clip220)\" d=\"M146.066 1138.29 L164.422 1138.29 L164.422 1142.22 L150.348 1142.22 L150.348 1150.69 Q151.366 1150.35 152.385 1150.18 Q153.403 1150 154.422 1150 Q160.209 1150 163.589 1153.17 Q166.968 1156.34 166.968 1161.76 Q166.968 1167.34 163.496 1170.44 Q160.024 1173.52 153.704 1173.52 Q151.528 1173.52 149.26 1173.15 Q147.015 1172.78 144.607 1172.04 L144.607 1167.34 Q146.691 1168.47 148.913 1169.03 Q151.135 1169.58 153.612 1169.58 Q157.616 1169.58 159.954 1167.48 Q162.292 1165.37 162.292 1161.76 Q162.292 1158.15 159.954 1156.04 Q157.616 1153.93 153.612 1153.93 Q151.737 1153.93 149.862 1154.35 Q148.01 1154.77 146.066 1155.65 L146.066 1138.29 Z\" fill=\"#000000\" fill-rule=\"nonzero\" fill-opacity=\"1\" /><path clip-path=\"url(#clip220)\" d=\"M186.181 1141.36 Q182.57 1141.36 180.741 1144.93 Q178.936 1148.47 178.936 1155.6 Q178.936 1162.71 180.741 1166.27 Q182.57 1169.81 186.181 1169.81 Q189.815 1169.81 191.621 1166.27 Q193.45 1162.71 193.45 1155.6 Q193.45 1148.47 191.621 1144.93 Q189.815 1141.36 186.181 1141.36 M186.181 1137.66 Q191.991 1137.66 195.047 1142.27 Q198.125 1146.85 198.125 1155.6 Q198.125 1164.33 195.047 1168.93 Q191.991 1173.52 186.181 1173.52 Q180.371 1173.52 177.292 1168.93 Q174.237 1164.33 174.237 1155.6 Q174.237 1146.85 177.292 1142.27 Q180.371 1137.66 186.181 1137.66 Z\" fill=\"#000000\" fill-rule=\"nonzero\" fill-opacity=\"1\" /><path clip-path=\"url(#clip220)\" d=\"M116.668 832.628 L124.306 832.628 L124.306 806.262 L115.996 807.929 L115.996 803.669 L124.26 802.003 L128.936 802.003 L128.936 832.628 L136.575 832.628 L136.575 836.563 L116.668 836.563 L116.668 832.628 Z\" fill=\"#000000\" fill-rule=\"nonzero\" fill-opacity=\"1\" /><path clip-path=\"url(#clip220)\" d=\"M156.019 805.081 Q152.408 805.081 150.579 808.646 Q148.774 812.188 148.774 819.317 Q148.774 826.424 150.579 829.989 Q152.408 833.53 156.019 833.53 Q159.653 833.53 161.459 829.989 Q163.288 826.424 163.288 819.317 Q163.288 812.188 161.459 808.646 Q159.653 805.081 156.019 805.081 M156.019 801.378 Q161.829 801.378 164.885 805.984 Q167.964 810.568 167.964 819.317 Q167.964 828.044 164.885 832.651 Q161.829 837.234 156.019 837.234 Q150.209 837.234 147.13 832.651 Q144.075 828.044 144.075 819.317 Q144.075 810.568 147.13 805.984 Q150.209 801.378 156.019 801.378 Z\" fill=\"#000000\" fill-rule=\"nonzero\" fill-opacity=\"1\" /><path clip-path=\"url(#clip220)\" d=\"M186.181 805.081 Q182.57 805.081 180.741 808.646 Q178.936 812.188 178.936 819.317 Q178.936 826.424 180.741 829.989 Q182.57 833.53 186.181 833.53 Q189.815 833.53 191.621 829.989 Q193.45 826.424 193.45 819.317 Q193.45 812.188 191.621 808.646 Q189.815 805.081 186.181 805.081 M186.181 801.378 Q191.991 801.378 195.047 805.984 Q198.125 810.568 198.125 819.317 Q198.125 828.044 195.047 832.651 Q191.991 837.234 186.181 837.234 Q180.371 837.234 177.292 832.651 Q174.237 828.044 174.237 819.317 Q174.237 810.568 177.292 805.984 Q180.371 801.378 186.181 801.378 Z\" fill=\"#000000\" fill-rule=\"nonzero\" fill-opacity=\"1\" /><path clip-path=\"url(#clip220)\" d=\"M116.668 496.345 L124.306 496.345 L124.306 469.979 L115.996 471.646 L115.996 467.386 L124.26 465.72 L128.936 465.72 L128.936 496.345 L136.575 496.345 L136.575 500.28 L116.668 500.28 L116.668 496.345 Z\" fill=\"#000000\" fill-rule=\"nonzero\" fill-opacity=\"1\" /><path clip-path=\"url(#clip220)\" d=\"M146.066 465.72 L164.422 465.72 L164.422 469.655 L150.348 469.655 L150.348 478.127 Q151.366 477.78 152.385 477.618 Q153.403 477.433 154.422 477.433 Q160.209 477.433 163.589 480.604 Q166.968 483.775 166.968 489.192 Q166.968 494.77 163.496 497.872 Q160.024 500.951 153.704 500.951 Q151.528 500.951 149.26 500.581 Q147.015 500.21 144.607 499.469 L144.607 494.77 Q146.691 495.905 148.913 496.46 Q151.135 497.016 153.612 497.016 Q157.616 497.016 159.954 494.909 Q162.292 492.803 162.292 489.192 Q162.292 485.581 159.954 483.474 Q157.616 481.368 153.612 481.368 Q151.737 481.368 149.862 481.784 Q148.01 482.201 146.066 483.081 L146.066 465.72 Z\" fill=\"#000000\" fill-rule=\"nonzero\" fill-opacity=\"1\" /><path clip-path=\"url(#clip220)\" d=\"M186.181 468.798 Q182.57 468.798 180.741 472.363 Q178.936 475.905 178.936 483.034 Q178.936 490.141 180.741 493.706 Q182.57 497.247 186.181 497.247 Q189.815 497.247 191.621 493.706 Q193.45 490.141 193.45 483.034 Q193.45 475.905 191.621 472.363 Q189.815 468.798 186.181 468.798 M186.181 465.095 Q191.991 465.095 195.047 469.701 Q198.125 474.284 198.125 483.034 Q198.125 491.761 195.047 496.368 Q191.991 500.951 186.181 500.951 Q180.371 500.951 177.292 496.368 Q174.237 491.761 174.237 483.034 Q174.237 474.284 177.292 469.701 Q180.371 465.095 186.181 465.095 Z\" fill=\"#000000\" fill-rule=\"nonzero\" fill-opacity=\"1\" /><path clip-path=\"url(#clip220)\" d=\"M119.885 160.061 L136.204 160.061 L136.204 163.997 L114.26 163.997 L114.26 160.061 Q116.922 157.307 121.505 152.677 Q126.112 148.024 127.292 146.682 Q129.538 144.159 130.417 142.423 Q131.32 140.663 131.32 138.974 Q131.32 136.219 129.376 134.483 Q127.455 132.747 124.353 132.747 Q122.154 132.747 119.7 133.511 Q117.269 134.275 114.492 135.825 L114.492 131.103 Q117.316 129.969 119.769 129.39 Q122.223 128.812 124.26 128.812 Q129.63 128.812 132.825 131.497 Q136.019 134.182 136.019 138.673 Q136.019 140.802 135.209 142.724 Q134.422 144.622 132.316 147.214 Q131.737 147.886 128.635 151.103 Q125.533 154.298 119.885 160.061 Z\" fill=\"#000000\" fill-rule=\"nonzero\" fill-opacity=\"1\" /><path clip-path=\"url(#clip220)\" d=\"M156.019 132.515 Q152.408 132.515 150.579 136.08 Q148.774 139.622 148.774 146.751 Q148.774 153.858 150.579 157.423 Q152.408 160.964 156.019 160.964 Q159.653 160.964 161.459 157.423 Q163.288 153.858 163.288 146.751 Q163.288 139.622 161.459 136.08 Q159.653 132.515 156.019 132.515 M156.019 128.812 Q161.829 128.812 164.885 133.418 Q167.964 138.001 167.964 146.751 Q167.964 155.478 164.885 160.085 Q161.829 164.668 156.019 164.668 Q150.209 164.668 147.13 160.085 Q144.075 155.478 144.075 146.751 Q144.075 138.001 147.13 133.418 Q150.209 128.812 156.019 128.812 Z\" fill=\"#000000\" fill-rule=\"nonzero\" fill-opacity=\"1\" /><path clip-path=\"url(#clip220)\" d=\"M186.181 132.515 Q182.57 132.515 180.741 136.08 Q178.936 139.622 178.936 146.751 Q178.936 153.858 180.741 157.423 Q182.57 160.964 186.181 160.964 Q189.815 160.964 191.621 157.423 Q193.45 153.858 193.45 146.751 Q193.45 139.622 191.621 136.08 Q189.815 132.515 186.181 132.515 M186.181 128.812 Q191.991 128.812 195.047 133.418 Q198.125 138.001 198.125 146.751 Q198.125 155.478 195.047 160.085 Q191.991 164.668 186.181 164.668 Q180.371 164.668 177.292 160.085 Q174.237 155.478 174.237 146.751 Q174.237 138.001 177.292 133.418 Q180.371 128.812 186.181 128.812 Z\" fill=\"#000000\" fill-rule=\"nonzero\" fill-opacity=\"1\" /><path clip-path=\"url(#clip220)\" d=\"M42.4881 1009.19 L64.0042 1009.19 L64.0042 1015.05 L42.679 1015.05 Q37.6183 1015.05 35.1038 1017.02 Q32.5894 1019 32.5894 1022.94 Q32.5894 1027.68 35.6131 1030.42 Q38.6368 1033.16 43.8567 1033.16 L64.0042 1033.16 L64.0042 1039.05 L28.3562 1039.05 L28.3562 1033.16 L33.8944 1033.16 Q30.6797 1031.06 29.0883 1028.23 Q27.4968 1025.36 27.4968 1021.64 Q27.4968 1015.49 31.3163 1012.34 Q35.1038 1009.19 42.4881 1009.19 Z\" fill=\"#000000\" fill-rule=\"nonzero\" fill-opacity=\"1\" /><path clip-path=\"url(#clip220)\" d=\"M49.9359 998.116 L28.3562 998.116 L28.3562 992.259 L49.7131 992.259 Q54.7739 992.259 57.3202 990.286 Q59.8346 988.312 59.8346 984.366 Q59.8346 979.623 56.8109 976.886 Q53.7872 974.117 48.5673 974.117 L28.3562 974.117 L28.3562 968.26 L64.0042 968.26 L64.0042 974.117 L58.5296 974.117 Q61.7762 976.249 63.3676 979.082 Q64.9272 981.883 64.9272 985.607 Q64.9272 991.75 61.1078 994.933 Q57.2883 998.116 49.9359 998.116 M27.4968 983.379 L27.4968 983.379 Z\" fill=\"#000000\" fill-rule=\"nonzero\" fill-opacity=\"1\" /><path clip-path=\"url(#clip220)\" d=\"M35.1993 928.443 Q31.2526 926.247 29.3747 923.191 Q27.4968 920.136 27.4968 915.998 Q27.4968 910.428 31.4117 907.404 Q35.2948 904.381 42.4881 904.381 L64.0042 904.381 L64.0042 910.269 L42.679 910.269 Q37.5546 910.269 35.072 912.083 Q32.5894 913.897 32.5894 917.621 Q32.5894 922.173 35.6131 924.815 Q38.6368 927.456 43.8567 927.456 L64.0042 927.456 L64.0042 933.345 L42.679 933.345 Q37.5228 933.345 35.072 935.159 Q32.5894 936.973 32.5894 940.761 Q32.5894 945.248 35.6449 947.89 Q38.6686 950.532 43.8567 950.532 L64.0042 950.532 L64.0042 956.42 L28.3562 956.42 L28.3562 950.532 L33.8944 950.532 Q30.616 948.527 29.0564 945.726 Q27.4968 942.925 27.4968 939.074 Q27.4968 935.191 29.4702 932.485 Q31.4436 929.748 35.1993 928.443 Z\" fill=\"#000000\" fill-rule=\"nonzero\" fill-opacity=\"1\" /><path clip-path=\"url(#clip220)\" d=\"M46.212 867.109 Q39.7508 867.109 36.0905 869.783 Q32.3984 872.425 32.3984 877.072 Q32.3984 881.719 36.0905 884.392 Q39.7508 887.034 46.212 887.034 Q52.6732 887.034 56.3653 884.392 Q60.0256 881.719 60.0256 877.072 Q60.0256 872.425 56.3653 869.783 Q52.6732 867.109 46.212 867.109 M33.7671 887.034 Q30.5842 885.188 29.0564 882.387 Q27.4968 879.554 27.4968 875.639 Q27.4968 869.146 32.6531 865.104 Q37.8093 861.03 46.212 861.03 Q54.6147 861.03 59.771 865.104 Q64.9272 869.146 64.9272 875.639 Q64.9272 879.554 63.3994 882.387 Q61.8398 885.188 58.657 887.034 L64.0042 887.034 L64.0042 892.922 L14.479 892.922 L14.479 887.034 L33.7671 887.034 Z\" fill=\"#000000\" fill-rule=\"nonzero\" fill-opacity=\"1\" /><path clip-path=\"url(#clip220)\" d=\"M44.7161 820.831 L47.5806 820.831 L47.5806 847.758 Q53.6281 847.376 56.8109 844.129 Q59.9619 840.851 59.9619 835.026 Q59.9619 831.652 59.1344 828.501 Q58.3069 825.319 56.6518 822.199 L62.1899 822.199 Q63.5267 825.35 64.227 828.661 Q64.9272 831.971 64.9272 835.376 Q64.9272 843.906 59.9619 848.903 Q54.9967 853.869 46.5303 853.869 Q37.7774 853.869 32.6531 849.158 Q27.4968 844.416 27.4968 836.395 Q27.4968 829.202 32.1438 825.032 Q36.7589 820.831 44.7161 820.831 M42.9973 826.687 Q38.1912 826.751 35.3266 829.393 Q32.4621 832.003 32.4621 836.331 Q32.4621 841.233 35.2312 844.193 Q38.0002 847.121 43.0292 847.567 L42.9973 826.687 Z\" fill=\"#000000\" fill-rule=\"nonzero\" fill-opacity=\"1\" /><path clip-path=\"url(#clip220)\" d=\"M33.8307 790.562 Q33.2578 791.548 33.0032 792.726 Q32.7167 793.872 32.7167 795.272 Q32.7167 800.238 35.9632 802.911 Q39.1779 805.553 45.2253 805.553 L64.0042 805.553 L64.0042 811.441 L28.3562 811.441 L28.3562 805.553 L33.8944 805.553 Q30.6479 803.707 29.0883 800.747 Q27.4968 797.787 27.4968 793.554 Q27.4968 792.949 27.5923 792.217 Q27.656 791.485 27.8151 790.594 L33.8307 790.562 Z\" fill=\"#000000\" fill-rule=\"nonzero\" fill-opacity=\"1\" /><path clip-path=\"url(#clip220)\" d=\"M32.4621 749.885 Q32.4621 754.596 36.1542 757.333 Q39.8145 760.07 46.212 760.07 Q52.6095 760.07 56.3017 757.365 Q59.9619 754.627 59.9619 749.885 Q59.9619 745.206 56.2698 742.469 Q52.5777 739.732 46.212 739.732 Q39.8781 739.732 36.186 742.469 Q32.4621 745.206 32.4621 749.885 M27.4968 749.885 Q27.4968 742.246 32.4621 737.886 Q37.4273 733.525 46.212 733.525 Q54.9649 733.525 59.9619 737.886 Q64.9272 742.246 64.9272 749.885 Q64.9272 757.556 59.9619 761.916 Q54.9649 766.245 46.212 766.245 Q37.4273 766.245 32.4621 761.916 Q27.4968 757.556 27.4968 749.885 Z\" fill=\"#000000\" fill-rule=\"nonzero\" fill-opacity=\"1\" /><path clip-path=\"url(#clip220)\" d=\"M14.479 705.771 L19.3487 705.771 L19.3487 711.372 Q19.3487 714.523 20.6219 715.765 Q21.895 716.974 25.2052 716.974 L28.3562 716.974 L28.3562 707.33 L32.9077 707.33 L32.9077 716.974 L64.0042 716.974 L64.0042 722.862 L32.9077 722.862 L32.9077 728.464 L28.3562 728.464 L28.3562 722.862 L25.8736 722.862 Q19.9216 722.862 17.2162 720.093 Q14.479 717.324 14.479 711.309 L14.479 705.771 Z\" fill=\"#000000\" fill-rule=\"nonzero\" fill-opacity=\"1\" /><path clip-path=\"url(#clip220)\" d=\"M58.657 674.483 L77.5631 674.483 L77.5631 680.371 L28.3562 680.371 L28.3562 674.483 L33.7671 674.483 Q30.5842 672.637 29.0564 669.836 Q27.4968 667.003 27.4968 663.089 Q27.4968 656.595 32.6531 652.553 Q37.8093 648.479 46.212 648.479 Q54.6147 648.479 59.771 652.553 Q64.9272 656.595 64.9272 663.089 Q64.9272 667.003 63.3994 669.836 Q61.8398 672.637 58.657 674.483 M46.212 654.558 Q39.7508 654.558 36.0905 657.232 Q32.3984 659.874 32.3984 664.521 Q32.3984 669.168 36.0905 671.841 Q39.7508 674.483 46.212 674.483 Q52.6732 674.483 56.3653 671.841 Q60.0256 669.168 60.0256 664.521 Q60.0256 659.874 56.3653 657.232 Q52.6732 654.558 46.212 654.558 Z\" fill=\"#000000\" fill-rule=\"nonzero\" fill-opacity=\"1\" /><path clip-path=\"url(#clip220)\" d=\"M46.0847 622.571 Q46.0847 629.669 47.7079 632.406 Q49.3312 635.143 53.2461 635.143 Q56.3653 635.143 58.2114 633.106 Q60.0256 631.037 60.0256 627.504 Q60.0256 622.634 56.5881 619.706 Q53.1188 616.746 47.3897 616.746 L46.0847 616.746 L46.0847 622.571 M43.6657 610.89 L64.0042 610.89 L64.0042 616.746 L58.5933 616.746 Q61.8398 618.751 63.3994 621.743 Q64.9272 624.735 64.9272 629.064 Q64.9272 634.538 61.8716 637.785 Q58.7843 641 53.6281 641 Q47.6125 641 44.5569 636.989 Q41.5014 632.947 41.5014 624.958 L41.5014 616.746 L40.9285 616.746 Q36.8862 616.746 34.6901 619.42 Q32.4621 622.062 32.4621 626.868 Q32.4621 629.923 33.1941 632.82 Q33.9262 635.716 35.3903 638.39 L29.9795 638.39 Q28.7381 635.175 28.1334 632.151 Q27.4968 629.127 27.4968 626.263 Q27.4968 618.529 31.5072 614.709 Q35.5176 610.89 43.6657 610.89 Z\" fill=\"#000000\" fill-rule=\"nonzero\" fill-opacity=\"1\" /><path clip-path=\"url(#clip220)\" d=\"M18.2347 593.034 L28.3562 593.034 L28.3562 580.971 L32.9077 580.971 L32.9077 593.034 L52.2594 593.034 Q56.6199 593.034 57.8613 591.856 Q59.1026 590.647 59.1026 586.986 L59.1026 580.971 L64.0042 580.971 L64.0042 586.986 Q64.0042 593.766 61.4897 596.344 Q58.9434 598.922 52.2594 598.922 L32.9077 598.922 L32.9077 603.219 L28.3562 603.219 L28.3562 598.922 L18.2347 598.922 L18.2347 593.034 Z\" fill=\"#000000\" fill-rule=\"nonzero\" fill-opacity=\"1\" /><path clip-path=\"url(#clip220)\" d=\"M29.7248 547.615 L35.1993 547.615 Q33.8307 550.097 33.1623 552.612 Q32.4621 555.094 32.4621 557.641 Q32.4621 563.338 36.0905 566.489 Q39.6872 569.64 46.212 569.64 Q52.7369 569.64 56.3653 566.489 Q59.9619 563.338 59.9619 557.641 Q59.9619 555.094 59.2935 552.612 Q58.5933 550.097 57.2247 547.615 L62.6355 547.615 Q63.7814 550.065 64.3543 552.707 Q64.9272 555.317 64.9272 558.277 Q64.9272 566.33 59.8664 571.072 Q54.8057 575.815 46.212 575.815 Q37.491 575.815 32.4939 571.04 Q27.4968 566.234 27.4968 557.895 Q27.4968 555.19 28.0697 552.612 Q28.6108 550.034 29.7248 547.615 Z\" fill=\"#000000\" fill-rule=\"nonzero\" fill-opacity=\"1\" /><path clip-path=\"url(#clip220)\" d=\"M42.4881 507.797 L64.0042 507.797 L64.0042 513.654 L42.679 513.654 Q37.6183 513.654 35.1038 515.627 Q32.5894 517.6 32.5894 521.547 Q32.5894 526.289 35.6131 529.027 Q38.6368 531.764 43.8567 531.764 L64.0042 531.764 L64.0042 537.652 L14.479 537.652 L14.479 531.764 L33.8944 531.764 Q30.6797 529.663 29.0883 526.831 Q27.4968 523.966 27.4968 520.242 Q27.4968 514.099 31.3163 510.948 Q35.1038 507.797 42.4881 507.797 Z\" fill=\"#000000\" fill-rule=\"nonzero\" fill-opacity=\"1\" /><path clip-path=\"url(#clip220)\" d=\"M44.7161 465.624 L47.5806 465.624 L47.5806 492.551 Q53.6281 492.169 56.8109 488.923 Q59.9619 485.644 59.9619 479.82 Q59.9619 476.446 59.1344 473.295 Q58.3069 470.112 56.6518 466.993 L62.1899 466.993 Q63.5267 470.144 64.227 473.454 Q64.9272 476.764 64.9272 480.17 Q64.9272 488.7 59.9619 493.697 Q54.9967 498.662 46.5303 498.662 Q37.7774 498.662 32.6531 493.952 Q27.4968 489.209 27.4968 481.188 Q27.4968 473.995 32.1438 469.826 Q36.7589 465.624 44.7161 465.624 M42.9973 471.481 Q38.1912 471.544 35.3266 474.186 Q32.4621 476.796 32.4621 481.125 Q32.4621 486.026 35.2312 488.986 Q38.0002 491.915 43.0292 492.36 L42.9973 471.481 Z\" fill=\"#000000\" fill-rule=\"nonzero\" fill-opacity=\"1\" /><path clip-path=\"url(#clip220)\" d=\"M29.4065 433.287 L34.9447 433.287 Q33.6716 435.769 33.035 438.443 Q32.3984 441.116 32.3984 443.981 Q32.3984 448.341 33.7352 450.538 Q35.072 452.702 37.7456 452.702 Q39.7826 452.702 40.9603 451.142 Q42.1061 449.583 43.1565 444.872 L43.6021 442.867 Q44.9389 436.628 47.3897 434.019 Q49.8086 431.377 54.1691 431.377 Q59.1344 431.377 62.0308 435.324 Q64.9272 439.238 64.9272 446.113 Q64.9272 448.978 64.3543 452.097 Q63.8132 455.185 62.6992 458.622 L56.6518 458.622 Q58.3387 455.376 59.198 452.224 Q60.0256 449.073 60.0256 445.986 Q60.0256 441.848 58.6251 439.62 Q57.1929 437.392 54.6147 437.392 Q52.2276 437.392 50.9545 439.016 Q49.6813 440.607 48.5037 446.05 L48.0262 448.087 Q46.8804 453.529 44.5251 455.948 Q42.138 458.367 38.0002 458.367 Q32.9713 458.367 30.2341 454.803 Q27.4968 451.238 27.4968 444.681 Q27.4968 441.435 27.9743 438.57 Q28.4517 435.705 29.4065 433.287 Z\" fill=\"#000000\" fill-rule=\"nonzero\" fill-opacity=\"1\" /><polyline clip-path=\"url(#clip222)\" style=\"stroke:#009af9; stroke-linecap:round; stroke-linejoin:round; stroke-width:4; stroke-opacity:1; fill:none\" points=\"294.087,86.1857 304.08,873.088 314.074,899.991 324.067,799.106 334.061,933.619 344.054,826.008 354.048,953.796 364.041,1007.6 374.035,1034.5 384.029,1041.23 394.022,1021.05 404.016,1095.03 414.009,1047.96 424.003,1068.13 433.996,1068.13 443.99,1088.31 453.983,1007.6 463.977,1121.94 473.97,1169.02 483.964,1162.29 493.957,1182.47 503.951,1202.65 513.945,1209.37 523.938,1216.1 533.932,1202.65 543.925,1249.73 553.919,1276.63 563.912,1249.73 573.906,1195.92 583.899,1155.57 593.893,1142.11 603.886,1068.13 613.88,1108.49 623.874,1095.03 633.867,1081.58 643.861,1047.96 653.854,1068.13 663.848,1041.23 673.841,947.07 683.835,1041.23 693.828,947.07 703.822,994.15 713.815,1000.88 723.809,1041.23 733.802,1108.49 743.796,1115.21 753.79,1121.94 763.783,1128.66 773.777,1162.29 783.77,1216.1 793.764,1175.74 803.757,1195.92 813.751,1195.92 823.744,1162.29 833.738,1269.9 843.731,1263.18 853.725,1310.26 863.718,1323.71 873.712,1323.71 883.706,1330.43 893.699,1316.98 903.693,1337.16 913.686,1296.8 923.68,1330.43 933.673,1283.35 943.667,1296.8 953.66,1263.18 963.654,1216.1 973.647,1216.1 983.641,1148.84 993.634,1195.92 1003.63,1182.47 1013.62,1155.57 1023.62,1216.1 1033.61,1222.82 1043.6,1155.57 1053.6,1216.1 1063.59,1135.39 1073.58,1155.57 1083.58,1155.57 1093.57,1155.57 1103.56,1142.11 1113.56,1148.84 1123.55,1088.31 1133.54,1169.02 1143.54,1216.1 1153.53,1175.74 1163.52,1216.1 1173.52,1169.02 1183.51,1195.92 1193.51,1249.73 1203.5,1296.8 1213.49,1222.82 1223.49,1290.08 1233.48,1269.9 1243.47,1243 1253.47,1269.9 1263.46,1263.18 1273.45,1263.18 1283.45,1249.73 1293.44,1189.19 1303.43,1195.92 1313.43,1290.08 1323.42,1350.61 1333.41,1370.79 1343.41,1350.61 1353.4,1337.16 1363.4,1310.26 1373.39,1343.88 1383.38,1316.98 1393.38,1364.06 1403.37,1384.24 1413.36,1370.79 1423.36,1370.79 1433.35,1370.79 1443.34,1370.79 1453.34,1370.79 1463.33,1370.79 1473.32,1370.79 1483.32,1370.79 1493.31,1370.79 1503.31,1370.79 1513.3,1370.79 1523.29,1370.79 1533.29,1370.79 1543.28,1370.79 1553.27,1370.79 1563.27,1370.79 1573.26,1370.79 1583.25,1370.79 1593.25,1370.79 1603.24,1370.79 1613.23,1370.79 1623.23,1370.79 1633.22,1370.79 1643.21,1370.79 1653.21,1370.79 1663.2,1370.79 1673.2,1370.79 1683.19,1370.79 1693.18,1370.79 1703.18,1370.79 1713.17,1370.79 1723.16,1370.79 1733.16,1370.79 1743.15,1370.79 1753.14,1370.79 1763.14,1370.79 1773.13,1370.79 1783.12,1370.79 1793.12,1370.79 1803.11,1370.79 1813.1,1370.79 1823.1,1370.79 1833.09,1370.79 1843.09,1370.79 1853.08,1370.79 1863.07,1370.79 1873.07,1370.79 1883.06,1370.79 1893.05,1370.79 1903.05,1370.79 1913.04,1370.79 1923.03,1370.79 1933.03,1370.79 1943.02,1370.79 1953.01,1370.79 1963.01,1370.79 1973,1370.79 1982.99,1370.79 1992.99,1370.79 2002.98,1370.79 2012.98,1370.79 2022.97,1370.79 2032.96,1370.79 2042.96,1370.79 2052.95,1370.79 2062.94,1370.79 2072.94,1370.79 2082.93,1370.79 2092.92,1370.79 2102.92,1370.79 2112.91,1370.79 2122.9,1370.79 2132.9,1370.79 2142.89,1370.79 2152.89,1370.79 2162.88,1370.79 2172.87,1370.79 2182.87,1370.79 2192.86,1370.79 2202.85,1370.79 2212.85,1370.79 2222.84,1370.79 2232.83,1370.79 2242.83,1370.79 2252.82,1370.79 2262.81,1370.79 2272.81,1370.79 2282.8,1370.79 2292.79,1370.79 \"/>\n",
       "<path clip-path=\"url(#clip220)\" d=\"M1957.17 196.789 L2282.13 196.789 L2282.13 93.1086 L1957.17 93.1086  Z\" fill=\"#ffffff\" fill-rule=\"evenodd\" fill-opacity=\"1\"/>\n",
       "<polyline clip-path=\"url(#clip220)\" style=\"stroke:#000000; stroke-linecap:round; stroke-linejoin:round; stroke-width:4; stroke-opacity:1; fill:none\" points=\"1957.17,196.789 2282.13,196.789 2282.13,93.1086 1957.17,93.1086 1957.17,196.789 \"/>\n",
       "<polyline clip-path=\"url(#clip220)\" style=\"stroke:#009af9; stroke-linecap:round; stroke-linejoin:round; stroke-width:4; stroke-opacity:1; fill:none\" points=\"1980.71,144.949 2121.95,144.949 \"/>\n",
       "<path clip-path=\"url(#clip220)\" d=\"M2161.33 132.275 L2154.98 149.474 L2167.69 149.474 L2161.33 132.275 M2158.69 127.669 L2163.99 127.669 L2177.16 162.229 L2172.3 162.229 L2169.15 153.363 L2153.57 153.363 L2150.42 162.229 L2145.49 162.229 L2158.69 127.669 Z\" fill=\"#000000\" fill-rule=\"nonzero\" fill-opacity=\"1\" /><path clip-path=\"url(#clip220)\" d=\"M2182.02 126.21 L2186.28 126.21 L2186.28 162.229 L2182.02 162.229 L2182.02 126.21 Z\" fill=\"#000000\" fill-rule=\"nonzero\" fill-opacity=\"1\" /><path clip-path=\"url(#clip220)\" d=\"M2195.19 136.303 L2199.45 136.303 L2199.45 162.229 L2195.19 162.229 L2195.19 136.303 M2195.19 126.21 L2199.45 126.21 L2199.45 131.604 L2195.19 131.604 L2195.19 126.21 Z\" fill=\"#000000\" fill-rule=\"nonzero\" fill-opacity=\"1\" /><path clip-path=\"url(#clip220)\" d=\"M2205.31 136.303 L2209.82 136.303 L2217.92 158.062 L2226.03 136.303 L2230.54 136.303 L2220.82 162.229 L2215.03 162.229 L2205.31 136.303 Z\" fill=\"#000000\" fill-rule=\"nonzero\" fill-opacity=\"1\" /><path clip-path=\"url(#clip220)\" d=\"M2258.59 148.201 L2258.59 150.284 L2239.01 150.284 Q2239.29 154.682 2241.65 156.997 Q2244.03 159.289 2248.27 159.289 Q2250.72 159.289 2253.02 158.687 Q2255.33 158.085 2257.6 156.881 L2257.6 160.909 Q2255.31 161.881 2252.9 162.391 Q2250.49 162.9 2248.02 162.9 Q2241.81 162.9 2238.18 159.289 Q2234.57 155.678 2234.57 149.52 Q2234.57 143.155 2237.99 139.428 Q2241.44 135.678 2247.28 135.678 Q2252.51 135.678 2255.54 139.057 Q2258.59 142.414 2258.59 148.201 M2254.34 146.951 Q2254.29 143.456 2252.37 141.372 Q2250.47 139.289 2247.32 139.289 Q2243.76 139.289 2241.6 141.303 Q2239.47 143.317 2239.15 146.974 L2254.34 146.951 Z\" fill=\"#000000\" fill-rule=\"nonzero\" fill-opacity=\"1\" /></svg>\n"
      ],
      "text/html": [
       "<img src=\"data:image/png;base64,iVBORw0KGgoAAAANSUhEUgAAAlgAAAGQCAIAAAD9V4nPAAAABmJLR0QA/wD/AP+gvaeTAAAgAElEQVR4nOzdeXxTVfo/8OfcmzRp031faAulFGjZ931RFlFUEAQRAVcYQR0dGXSQUXT8jTrqDOqMywjjIOI+KH4REJBNZF8KQlkLLaU7XWjatE1z7/n9cUtaSpquuWmTz/sPXslNSJ6kaT49yz2Hcc4JAADAXQnOLgAAAMCZEIQAAODWEIQAAODWEIQAAODWEIQAAODWEIQAAODWEIQAAODWEIQAAODWEIQAAODWEIQAAODW2lkQLl68WJZl+/fhnGPdOPXJsoy3XX14252iwW8hcARJkhz0yKx9/RZ5enoWFRXp9Xo79zGbzZxznU6nWlVARBUVFaIoarVaZxfiXkwmk06nE0XR2YW4l9LSUoPBwBhzdiHuxWg0+vj4OOKR21mLEAAAoHUhCAEAwK0hCAEAwK0hCAEAwK0hCAEAwK0hCAEAwK0hCAEAwK0hCAEAwK25chD2/c4itafVAgAAwAk0zi7Agc4U8yqZsOYGALgYWZaPHz/ubiu9ybI8cOBARzyyKwehyAgtQgBwPcnJyaNGjerWrZuzC1FVcnJyWVmZI5bPdOUg1Ahkca8/mADALUiSlJiYePDgQWcXoiovLy8HNYJdeYwQLUIAAGgQghAAANwaghAAANyaKwehRmAWGUkIAAD2uHIQokUIAAANQhACAIBbc+kgFEjC6RMAAGoxm81FRUW1j+zbt2/Hjh1ElJubu2rVKifV1QCHBOGVK1defPHFiRMnjhs37uWXXy4rK7Pe9PXXX48fP378+PFff/219WBhYeGiRYuGDx/+yCOPZGVltVYZGkYWtAgBANTypz/9KTAw8MCBA9YjW7Zs+e6774goNzd35cqVzivNHocE4f79+4uLi5955pmlS5du2rTpscceU47v2LHj8ccff+aZZ/7whz8sXLhw+/btyvE5c+YUFRW9++67er1+ypQprVUGukYBAFRTVVX12WefTZ069T//+c/Nt/bq1Wvfvn0NPkhFRYUTlo7jDrZ7924fHx/l8j333LN8+XLl8iuvvDJ16lTO+blz53Q6XXFxMee8qqoqMDBw37599T2aXq8vLy+3/4yVlZUVFRWc897/q0oukFvlVUCDysvLzWazs6twO2VlZRaLxdlVuB2j0SjLzvxuOXjw4MCBA51YgE3r1q3r16/f+fPn/fz8ysrKlIPLly9/8sknOefHjh3r378/5/z1119fuHCh9X899NBDK1as4JyfOnVqyJAhnTt3joyMfOmll25+fE9PT5PJ5IjKHb7EWkpKSlxcnHI5OTnZ2jocMmTIJ598QkQnTpzo2rWrn58fEWk0mv79+x87dmzIkCEtf2qMEQKAm6iQaE+OSj1gfh40MITdfPyTTz6ZO3dufHx8UlLSunXrHnjggdq3WiwWZfhw2rRp/fv3f/PNN728vEpKSr755puXX365srJyypQpf/3rX6dPn15SUjJmzJiBAwfecccd6rwixwbhpUuXXnjhhc8//1y5mpeXFxAQoFwODAzMyckhotzcXOtB5Xhubm59D2g2m4cMGcJY9c9g7NixL7/88s334ZybzWYme5SUVRp1CEM1VFRUiKKo1WqdXYh7URriIvZYUVdZWZksy9YvIvUpDaPaR1JL+BsnJHWePVjPvhhb9yOXm5u7bdu2jz/+mIjmzZv3ySef1AlCq/j4+F69en333XezZ8/+8ssvhw8fHh0d/euvv5aUlPj7+2/bto2I+vTps3Xr1puD0Gg0WiyWJlWr1+sb/F5yYBBeuXJl3Lhxy5cvnzBhgnLEx8fHZDIpl8vKypRWoK+vr/WgctzX17e+x9RqtR988IGHh4dyNSYmxsfHp859lCDU6XQeGovO08PHx2kfVrei1WoRhOoTRVGn0yEIVcYYMxgMTgxCLy+vOs+eFMC2TnLmJgqffvqpwWB48cUXiaikpGTHjh2XLl3q1KmTzTvPmzdv9erVs2fPXr169RNPPEFEeXl5kiR98803yh20Wm3Pnj1v/o8+Pj6enp6tXryj3rjs7Oxbb7318ccfV16kIjY2NjU1dezYsUR04cKF2NhY5eClS5dkWRYEgYhSU1MffPDB+h6WMda3b1+9Xt+YGtA1CgCgjk8++WTBggW9e/dWrhYUFPz3v/+9ucdOMWPGjGeeeWbHjh2nTp26++67iahr165ms/mtt966uW2jAocEYV5e3vjx4+fOnbt48eLax2fNmrVq1aq5c+cyxlatWjVr1iwiGjZsmMFg+Oabb2bOnLlz586cnJxJkya1ShmYNQoAoIJ9+/ZlZma+8MIL1uaaXq9/8sknX3rpJZv39/X1nTJlyuzZs2fOnOnl5UVEiYmJkydPnjZt2h//+EdPT88jR45069Zt4sSJ6tTvkCD84osvTp06tWzZsmXLlilHSkpKfHx85s+fv23btk6dOjHG+vXrt2DBAiISRXHlypUPPPDAq6++mp2d/fHHHyvvS8vhPEIAABUYjcZ33nmndqflxIkT77///ry8vKFDhyqnkoeFhT388MPWOzz77LNRUVFz5syxHlmzZs1//vOf//73v5WVlUlJSd27d1etflZnxFUF2dnZRBQREVH7oNlsvnLlSkREhP3+X09Pz6KiIvtdo9YxwombLM/2EidEYYxQDZgs4xQmkwljhOorLS117hjhoUOHFi1a5IYb8xYUFLSnMUI76kSgwsPDw3qWRWvBGCEAADTIpdcaxRghAAA0xJWDUMOYRfWOXwAAaF9cOQjRNQoAAA1y6SBE1ygAADQEQQgAAG7NmUvyOBrOIwQAV1VYWGhdkMxNSJKjFlN15SDEGCEAuKSYmJj+/fu7WxBOnz5dp9M54pFdOgjRNQoArigsLOyrr75ydhVqMxqNypLUrQ5jhAAA4NZcOQg1AlnQNQoAAHa5chCiRQgAAA1CEAIAgFtDEAIAgFtz5SDEGCEAADTIlYMQLUIAAGgQghAAANyaawchk7ANEwAA2OXaQYgWIQAANMCVgxCTZQAAoEGuHIRoEQIAQIMQhAAA4NYQhAAA4NZcOQgxRggAAA1y5SBEixAAABqEIAQAALfm0kEokISuUQAAsMuVg1DDyIIWIQAA2OXKQYiuUQAAaBCCEAAA3JpLByHGCAEAoCGuHIQYIwQAgAa5chCiaxQAABrk0kEoMElGEgIAgD0uHYRoEQIAQENcOQgxRggAAA1y5SDErFEAAGiQSwchukYBAKAhCEIAAHBrrhyEGCMEAIAGuXIQYowQAAAa5NJBiK5RAABoCIIQAADcmisHoUYgC7pGAQDALlcOQrQIAQCgQQhCAABwawhCAABwa64chBgjBACABrlyEKJFCAAADXLtIGQSRxICAIA9rh2EaBECAEADXDkIMUYIAAANcuUgRIsQAAAahCAEAAC3hiAEAAC35spBiDFCAABokCsHochIRosQAADscuUgJCKGLAQAALtcPAg1jCwIQgAAqJ+LB6EokIRhQgAAqJ+rByEmjgIAgF0IQgAAcGsuHoQYIwQAAPtcPAgxRggAAPa5ehCiaxQAAOxqVBBKkpSZmSnL7a9thS0JAQDAPttB+Morr3z00UfK5dOnT8fFxXXo0CE6Ovrw4cMq1tYKsMoaAADYZyMIZVl+6623QkNDlauLFy+WJOnDDz/s2rXro48+yttVAwtdowAAYJ/m5kNFRUVGo7F79+5EVFJSsm3bthUrVixYsGDcuHHx8fFZWVlRUVGq19lMCEIAALDPdouQiDQaDRHt2LHDbDZPnDiRiKKjo4koOztb3QpbBEEIAAD22QjC4OBgPz+/TZs2EdGnn34aHx8fFxdHRFlZWUQUEBCgcoktgTFCAACwz0YQMsaefvrpZ555JiYmZt26dYsWLVKO79y508fHJyYmRt0KWwQtQgAAsM/GGCERLV++vFu3bocPH+7fv/99992nHMzJyXnmmWe0Wq2K5bUUghAAAOxj7WsWqKenZ1FRkV6vt3Mfs9nMOdfpdEQ0eL3lvWHioBCmVoHuq6KiQhTF9vV3kgswmUw6nU4URWcX4l5KS0sNBgNj+GJRldFo9PHxccQj224RElFlZeWGDRtSUlJKS0vfeOMNIjp48KCvr2+3bt0a87g7duw4cuTIhQsXFi9eHB8frxzcuHHj+vXrrfd54403/P39iUh5iuTk5G7duv3pT38KDAxs0WuqBWOEAABgn+0T6jMyMvr06TN9+vQ333xz7dq1ysFvv/32wQcfbOTj/uEPfzhz5syaNWtycnKsB48ePXr27Nn+11lbDw899NCxY8eeeuqprKyse+65p/mv5iboGgUAAPtstwgfffRRIjp58mR+fv4DDzygHLz33nvfeuut4uJipRln37Fjx4iodvtPkZSUNH/+/NpH0tPTf/jhh6ysrKCgoFGjRoWGhh45cqR///7NeDE3QxACAIB9NlqEpaWl27Zt+8c//pGUlFS7Ezw+Pp5znpGR0ZLnO3DgwGOPPbZ8+fL09HTlyNGjRxMSEoKCgohIp9MNHDiwFRdyQxACAIB9NlqEJSUlsizffJqE2WwmIovF0uwn69at27333hsWFrZnz54ePXrs378/KSkpJyen9qBgcHBw7d7UOqqqqm677TZBqM7vESNGLFmy5OY6OedVVVVExLjWWGYuLcU4ocNhsoxTmEymqqoqTJZRWVlZGecck2VUVlZW1oz3XK/XK+vD2GHj5pCQEB8fn3379iUmJtY+vnnzZo1GY5350gzTp09XLjz44INms/mdd97597//bTAYKisrrfcxmUwGg6G+RxBFccmSJR4eHsrV+Ph4b2/vOvepPWvUQ2Px0Ht4e+Pz6nAajQZBqD5BEDBr1Ckwa1R9nPObv/BbhY0g1Gq1c+fOff7550NCQpRnraqqWr9+/bPPPnvfffe11uzVbt26HTx4kIiio6PT09Otf16lpaVZRyVvJgjCLbfcYv/0idqub8OEzysAANhmu8H4t7/97cKFC3fffbfSovT19a2oqBg8ePC7777bkidLT0+PjY0losLCwi+//HLWrFlENGLECEEQfvzxx8mTJx86dCgtLW3SpEkteZbaMEYIAAD22Q5CLy+vTZs2bdmyZcuWLdnZ2cp8znvuuafxPTDDhg07c+ZMcXHx7bffrtFoDh8+HBcXN2XKlNLS0uDg4JSUlIkTJ/7hD38gIq1W+89//vPBBx9MSko6derUihUrWvGUSZxHCAAA9jlqZZmSkhJJkqxX/fz8BEGQJOnChQtGozE2NjYkJKT2/a9du3b+/PmOHTsGBwfbedimrixz33Zpakc2M8726ZLQijBZximwsoxTYGUZp3DCyjKK8vLyioqK2kcaufuEr6/vzQdFUezatavN+/v5+Q0YMKAxj9wk6BoFAAD7bDeV8vLy5s+fHxoa6uXlFXgjletrIQQhAADYZ7tFOGPGjIMHD86ZMycpKanxUzTbIBFjhAAAYJeNIDSZTHv27Pn3v//98MMPq19Q69KgRQgAAHbZ6BotLy+XJKlPnz7qV9Pq0DUKAAD22QjCoKCggQMH7t27V/1qWp0okISuUQAAqF9N16jZbC4rK1Muv/POO3PmzNFqtRMnTvTz86v9Hxo5a7SNEBlZ0CIEAID61QTh2rVr6wwK/u53v7v5P7SvHe0xRggAAPbVBOGwYcM++ugjJ5biCBgjBAAA+2qCsGvXrvWd7d5+YYwQAADss31CvclkMhqNdQ6WlZWVlpY6vqTWhDFCAACwz3YQjh8/fvny5XUOfvTRR71798YYIQAAuBIbQVhZWbl///677767zvEpU6ZcvHgxIyNDlcJahygwSUYSAgBAvWwEYUFBgSzLdXaHICLlSG5urhp1tRJMlgEAAPtsBGFAQIBGo/ntt9/qHD9+/DgR2d8mqa1BEAIAgH02gtDT03PcuHHPPffchQsXrAezsrJ+//vf9+jRo1OnTiqW11Iiw6LbAABgj+3dJ1asWDFixIikpKSRI0dGR0dnZ2f/8ssvjLFt27apXF8LaQS0CAEAwB7bs0a7du169OjRRx55JCMjY/369efPn7/vvvuOHj06ZMgQletrIXSNAgCAffXuUB8dHf3++++rWYojIAgBAMA+2y3CGTNmpKSk1DmYkpIyfvx4x5fUmjBGCAAA9tkOwt27dxcXF9c5WFxc/PPPPzu+pNaEMUIAALDPdhDalJaWdvPJhW0cukYBAMC+G8YI//e//3344YdEVFRU9PTTT9feibCsrOzYsWN33nmn2gW2DIIQAADsa2yLMDw8fMmSJUpMtiMYIwQAAPtuaBFOmzZt2rRpRDRhwoS33nqrV69eTqqq1WCMEAAA7LN9+sSWLVtUrsNB0DUKAAD21XseIRHl5eWlpqaWlZXVPjhu3DgHl9SaEIQAAGCf7SDMzc29//77t2/ffvNN7Ws/QowRAgCAfbYny8yfPz8lJWXt2rWTJ09++OGHN2/e/NRTT/n7+69Zs0bl+lpIIzCpXSU3AACozEaLUJblrVu3rly58v7779+6dWt4ePjEiRMnTpzYuXPn1157bfbs2Ywx9QttHnSNAgCAfTZahPn5+eXl5f379ycivV5fUlKiHH/ggQdSUlLOnz+vaoEtgyAEAAD7bAShv78/Y+zatWtEFBkZeebMGeV4eXm59d/2QhRIwhghAADUz0YQ6nS6pKSkQ4cOEdGkSZN27Njxt7/9bevWrY8++qifn1+XLl1UL7L5NIwsaBECAED9bM8aff755/Pz84lowIABTzzxxPPPP885NxgMq1at8vLyUrfCFkHXKAAA2McaczpEQUHBpUuXEhISfH19VajJDk9Pz6KiIr1eb+c+ZrOZc67T6YjoQB7//X5p/132TpeEVlFRUSGKolardXYh7sVkMul0OlEUnV2IeyktLTUYDO1o2qBrMBqNPj4+jnjkRiVEUFBQUFCQI57e0TBGCAAA9tUbhOnp6e+8887x48czMzPDw8N79OixcOHCxMRENYtrOYwRAgCAffVuzNuzZ89//etflZWVPXv2JKJPPvmkb9++3333nbrltRTGCAEAwD4bLULO+SOPPJKQkPD999936NBBOXj16tXZs2c/+uijkyZNsj9E16agaxQAAOyz0SLMzc29cOHCihUrrClIRMHBwR988EFhYWFKSoqK5bUUWoQAAGCfjSD09vYWRfHmCaLKEadPHG0SjBECAIB9toPwnnvu+cc//lHnzIoVK1YMHTo0Pj5erdpaAVqEAABgn+1Zo2PGjFm2bFmfPn2mTJkSGRmZm5u7efPm5OTkpUuX/vvf/1buM2rUqG7duqlYanNgjBAAAOyzHYSvvPJKUVFRUVHRiRMnah//85//bL388ccft4MgRIsQAADssh2EZ8+eleUGWlLtYq01DWMW7EcIAAD1sx2Efn5+KtfhIOgaBQAA+2yfUO8y0DUKAAD2IQgBAMCtuXgQ4jxCAACwz8WDEGOEAABgX00QHj58+O9//7ty+cSJE6WlpU4qqTWhaxQAAOyrCcKTJ0+uXLlSuTxhwoQ6ZxC2UyIjmROiEAAA6lMThKGhoTk5OeXl5U6sxhEERjKSEAAA6lFzHuHQoUMFQejSpUuXLl2Kioqefvppm2cTbt26VcXyWoHSOyoyZ9cBAABtUk2LMCAgYM+ePVOnTm0XS8Y0HubLAACAHTesLNOtW7f33nuPiMLDw1esWDFs2DAnVdWacAYFAADYYXuJtQMHDoSFhalcioNg4igAANhhOwhjY2MlSdq0adPx48evXLkSHh7eo0eP22+/3cPDQ+X6Wg5BCAAAdtgOwoKCgsmTJ+/fv5+IPD09lamkiYmJGzdujI2NVbXAFsMYIQAA2GF7ZZmFCxeePHnyww8/LC4uNplMpaWln3/+eUFBwZw5c1Sur+WwExMAANhho0VYXl7+/ffff/DBBw8//LByxGAwzJo1KyAgYNKkSVeuXOnQoYO6RbYIukYBAMAOGy3CwsJCs9k8aNCgOseHDBlCRNnZ2WrU1XrQNQoAAHbYCMKgoCCdTvfLL7/UOa4ciYqKUqOu1oMWIQAA2GGja1Sv18+cOfPZZ581mUwzZsyIjIzMy8vbsGHDn/70p3HjxkVGRqpfZUvgPEIAALDD9qzR9957LzMzc/HixYsXL7YeHDBgwKeffqpWYa0GLUIAALDDdhD6+vpu27bt119/3b1797Vr1wwGw9ChQ2+55RZBaH/7F2KMEAAA7LAdhIrhw4cPHz5ctVIcBC1CAACwo/218JoKY4QAAGCH6wchukYBAMAONwhCdI0CAED9EIQAAODWbASh2Wz+5ptvLl26pH41joAxQgAAsMNGEF69enXGjBk5OTnqV+MIGCMEAAA7bARhSEiIr69vfn6++tU4Qp0W4eYr/Id0BCMAAFSzcR6hVqtdsmTJX/7ylxEjRgQGBjbvcY8fP37kyJH8/PzZs2fX3q3iwIED//3vf4nowQcfHDx4sHKwsrLy/fffT05O7tq16+9//3uDwdC8J7VJYCTXCsKfrsgSp7va2aaKAADgKLZPqC8uLs7IyOjUqdPw4cOjoqJqLyjz0UcfNeZx77rrrv79+2/atGn48OHWIExOTh4/fvyrr77KGJswYcLOnTv79u1LRAsWLEhLS1u4cOGaNWt+/fXXH3/8scWvq4ZGYBaZEzHlaraJRNaKDw8AAO2b7SDcvXu3wWAwGAxnz549e/ZsMx43PT2diEJCQmofXLFixfz585966ikiysjIWLFixerVqzMzM7/44ov09PTw8PDJkyeHhoaePHmyR48ezXhSm+rMGs0ycS97y+kAAIB7sZ0JBw4ccMST7du37+2331Yujx07VknEQ4cOxcfHh4eHE5GXl9egQYP27dvnuCDMNpG/R2s9NgAAtHuqNo5ycnKCg4OVy8HBwcoevzk5OUFBQdb7hISE2Nn7t6qq6r777hNFUbk6ePDgJ554os59zGYz51ySpOrrssZUIZlM1WGYU661yGQymVrnJcF1FRUVoihqtVpnF+JeTCaTJEnW3whQh8lkYowxhlEWVZWXlzfjo+7h4aHRNJB09d6clpb28ccfnzp1ymw2b9y4kYi++OILf3//SZMmNbUOK51OZzablcuVlZWenp5EpNfrq6qqrPeprKzU6/X1PYIoitOnT/fwqG7Tde/e/eY7C4LAOdfpdMpVD40saES9nhGRsYoqJKmwkuw8BTQbglB9sizrdDoEocosFoter0cQqqyqqqoZX92N2TTJdhDu379/4sSJOp0uJibGekJhRkbGyy+/3JIg7NChQ0ZGhvXRlEk0tQ8S0eXLl2fMmFHfIwiCMH36dPvvhRKE1hevEbhMTLmaW8E7+bA0I5dI0ApERCtOymaZlvRy/RV2HE24ztmFuBe87U6hvOcIQpU57qNu+0Eff/zxwYMHp6amvvXWW9aDd9xxx9mzZ3Nzc5v9ZFOnTl27di3nnHO+du3aqVOnEtHIkSMrKyt37NhBRKdOnTp37lxLsvZmtccIM00U5UUBOiqsrD5yvoRfMmLhGQAA92WjRVhYWJicnLx3714fH5/af/LExsYSUVZWVlhYWIOPe9ttt50/f76oqGjmzJl6vf7nn3/u2LHjokWLvv322+HDhzPGSktLlf3udTrd22+/PWPGjBEjRuzbt+/VV18NCAhovRd4QxBmm3iEF8stp4JKHubJiCjHRAL+qgMAcGM2glAZxrv5rPaCggIianDUUbFy5UrrcCARRUVFEVFgYODhw4f3799PREOGDLGOJ82dO/eWW245derU22+/HRcX15zXUT+NQJbrK8lkmyjSizLKqKCi+khuOdeiVwkAwI3ZSLXQ0NCwsLAffvihV69etVuEa9eu9fb27tq1a2Met/ZqMrVptdqRI0favH99/6WFbm4RBumooLL6FPuccvLEPAMAADdmIwgFQXj22WeXLVtWVVUVHR0ty3JycvJXX3319ttvL1myxDpjs72oHYRZJuoXTEG6mhZhjon7YJ4jAIAbs93PuXjx4sLCwtdee005saFv376CIDzyyCMvvfSSuuW1gtpdozkmHu4pBOl5QSURUZmFJE4FlVSzAhsAALgZ20HIGHvttdeefPLJnTt3ZmVlBQYGjho1Kj4+XuXiWkWdFmGUgYJ0rKCCE1G2iXcwsLxyfs2M5WYAANyUvZkvkZGR999/v2qlOMiNQcgjvFiQnp8vISLKMVG4F8mcXa3g/h5oEwIAuKN6g9BoNK5ZsyY5OTkzMzM8PLxHjx5z5syxLpDWjliDUOkI9dXWjBHmlPMwT2aW+NUKivd1bpkAAOActk8dSElJ6dGjx6JFizZs2JCTk7Nly5Znn322e/fu+/btU7m+lrMGYVYZj/RiRBSkZwWVnIhyyynck4L1dLXC/mMAAIDLsh2Ec+fOFQRh7969WVlZR44cycjIOH78eIcOHWbOnGmxWFQusYVEgUkyJ6LscorwIqKaFmFuOQ/zZMF6drUCi8sAALgpG0GYn59/5MiRDz74YOjQodaDPXv2XL16dUZGxqlTp1QsrxWEe1KqkYgox8QjbmoRhiktwkr7jwEAAC7LRhAqC77ExMTUOa4ssdbutheY1knYmCEbqyjTRJHXW4SFlcSJsk0U4UXB+upJpAAA4IZsBKG/v/8tt9zy2Wef1Tm+Zs2arl27duvWTZXCWk2QjkaFC99ekrOvtwi1AulFKjFXT5YJ1mGMEADAfdXMGs3KykpJSVEuz5s37+mnnz59+vTUqVMjIiLy8vI2b968fv36119/vT1u+DKvC3vnlBxtYD0Dq48ovaPKZJlMTJYBAHBjNUH4008/Pfzww7Vv+/7777///vvaRxYtWrRw4UKVSms9d8QIC/ZIWSaa16U6xYN1VFBBeeU81JMF6ym/Qrb/CAAA4KpqgvCuu+46fPiwE0txHA+B7ussvHdKjry+o0agjs6XcE8N6UUK1lMBJssAALirmiAMCgoKCgpyYl5S944AACAASURBVCkONa+L8N4pOdyzevmYID07XVy9JSFOnwAAcGftb8CvefoHs9WjxUBd9dUgHZ0qonBPIqJAHRWba5ZhAwAAt2J7ibXy8vL33ntv/fr16enpJpOp9k2FhYWqFNb65napSf0gPf2UyQcEMyISGflpqaiSgvXOKw4AAJzEdhA+9NBD33zzzdixY6dOnXrzVvUuIEjHLhnl26Ore0qV3tFgPdbdBgBwOzaC0GQyffvttytWrHjyySfVL0gdQXqyyGQdMsRyowAAbsvGGKHZbJYkafjw4epXo5ogHSOqHiMkpUVYiUFCAAB3ZHtlmWHDhu3atUv9alSjDAeGe9W0CPPLnVkPAAA4i+0xwtWrV0+fPr2iomL8+PGBgYG1b4qLi1OlMMcK0hHd0CLEutsAAG7KdhCKoujr67t06dKlS5fWuYlzV+hCDNIzIgqznlaoY7nlrvC6AACgqWwH4T333HPlypXly5fHx8d7eHioXJMKfLQ0PIyFXD9fIlhPp4qcWhAAADiJjSDMz89PTk5et27d1KlT1S9INXvurHntwXrC4jIAAO7JxmQZLy8vURSjoqLUr8ZZgvUMY4QAAO7JRhAaDIaZM2fevB+hC3O3LQktMs3fI1mvVsn02C+SnfsDALgw22OEI0eOfOGFF1JTUydMmODp6Vn7pvnz56tSmKrcbd3tTBP/+Iz8jyGiQUNElFnGV56Vl/UVYr2xtg4AuB3bQbh8+fLCwsKNGzdu3Lixzk0uGYT+OqqUqMxCBtvvh6vJMhERZZXxLn7MevVAHkcQAoAbsv3Ff+DAAUlyo74yRpQUwE4W8sGhbpEEV8o4EWWaqItfzdWD+XyGK5wjCgDQNLaDMDY2VuU6nK53IEt2oyAkIsos40RMudorkB3Md6POYQAAK3fZj7BBvYPY8QJ3SYKsMq4TKfP6/lpZJn5XLEsu4BbZqWUBADiD7RZh165d8/Pzbd7UfvcjtK9PEPvqorvkwBUT9Q1imWXVwX+ljKbEsmgDO1XMewe6RZsYAMDKdhDOmTOntLTUerW0tPSXX365dOnSY489plZhausVyE4UcpmT4AZBkFnGB4UwpYOUiDJNPMogDAplB/IQhADgdmwH4bJly+ockWX50UcfLSgocHxJzuHvQcF6llpSPZHStWWW0fxu7EC+bL0aZaBBIexQPp/fzbmlAQCorbFjhIIgPP/882vWrMnOznZoQU7UJ5AlF7r+MCEnyi7nA0NYZln11ZxyHunFBoWwA5gvAwDupwmTZXQ6nSzLubm5jqvGuXoHkTvMlymoIC+ROvuw/AoucbpaQQYN6UXqFcguGbmxytn1AQCoq7FBmJOTs2TJEq1W26VLF4cW5ER9gthxN2gRZpp4lIFpBArUUV45ZZbxKC9GRFqBegWyo1dd/x0AAKitUbNGq6qqSktLNRrNa6+9ZjAY1KpNbb0DWbLLjoHWyCqjSC8ioigvdqWM51dQ5PUf6chw9mqy1NVfE+5p5wEAAFxKo2aNarXaDh063HrrrfHx8WoV5gQdfVhpFS+orN6/3lUpLUIiijKwTBPPLyelRUhEf+kvvnpM6rOu6p2h4sw4nGMKAG6hsbNG3QEj6hXIkgv4rZGuPHE0s4yilBahgTLLKL+CR11vEWoFerm/eHesMOZHy+3Rgo/WiWUCAKgEf/XfoE8QS27xfJn/l9ymT8yvaRF6scwynllW0yJU9AtmA4LZnhwMFgKAW6h3t4UdO3Z8//336enpZWVltY9v3brV8VU5zfgo4fXj0rM9m//3QX4FLTssPZXUdptTmWX87liBiKIMtD1LaRHWfb2jI4RdOfKkaNEZBQIAqMr2N/4LL7xwyy23fPbZZ3l5eSoX5Fy3dWCpJfzsteY3htKMnIhyy9tucyqjjKINRNdbhBml1VdrGx3BdmW33ZcAANCKbLQIZVlesWLFI4888v7773t4eKhfkxNpBJrVWVh7QX6l/w2NofTSxu7Vl17KiSivnOJ9HVJhy2WV8UgvZbIMZZoor5xHGuq+tCGh7GQRL60i77bargUAaC02WoT5+fkmk+l3v/udu6WgYl6C8Ol5LtdqDp0o5J2/spRZGvXf00qJiPLa6n73FRKVWShIT0QUZWDppbxcosCbZsnqReofzPbmtdFXAQDQimwEYXBwcEhISE5OjvrVtAW9A5m/B+2uNVXk1WOyxOliSaNSId3IRUa55Q6rr2Uyy3ikF1MagL5a0jCyXq1jdDjbmdWmZ/0AALQKG0EoiuLf/va3l156yYWXFbVvbhdh9fnqDEgp5rty5DER7KKxUUGYVsoTA1heWw3CK2XUodaIYJSBdahngYTREcJuTBwFADdge9boxo0b09PT4+Pje/Xq5e3tXfsm1541qpgdL3T/tmp9Ors7VnjlqPxsTzHLxFNLGvV/04w0OJTltdXJMlmmG0YEo7wo1NP22OfQUHa8kJdZyFDvzGIAAFdQ73kCffv2HTZsWJ0UdBNhnrRhguaPB+V7tkk7s+WF3YXOPo1tEaaX8kEhrO12jZqqz6ZXRBlY7au1eWqobxDbl9tGEx0AoLXY/mv/66+/VrmOtmZYGEueqnnhsHRbB9FbS3G+bGNGwwNmBZWkEaiLH/s8tY2Orh29ysdG1DQBx0SwgPrXkxsWxvbn8XFRrrzODgAAur3q5aWhfwypPomisw9dNNbc9N9z8rwEG1vZpxt5rDcL1VPbGSM8lM/1IvUMZERUUkWbMuT3htWcEvFQgr2lA7r5se1ZaBECgIvDEmuN0tGHXS7lEiciyijjD+2Wvk+z0eZLK+UdvVmoZxsaI1x+VFqwR1Iuf3NRHhspNH5J8QQ/dq5xc2UBANovBGGj6EUK0bMrZZyIDuTxUE/6yzH55ohIL6WOPhSko5IqqmoDnaMmC+3J4VcraUsmJ6JPz8vzujShnzPBj51rwSI7AADtAoKwseJ8q3tHD+Tx3yeJIqP/S6+bdWlGHuvNBEZBOspvA+fUb82UB4aw5f2E5UekNCM/XcwnRTfhJx6sJ0aUX+G4AgEAnA9B2FidfVhqCSeiQ1f5wBC2tI/wyk2NwrRS6uhDRBTm2SZOJfwxg98RI8yME4rM9PBuaVZnwaOJP/AuaBQCgKtDEDZWnC9LLeESp6NX+cAQNqWjYJHpmf3SG8flD09XNw2VyTJEFOJJeWo1pJILeEqxjaziRBsz+ORoJjJa1kfYkc3ndWnyjzvBF0EIAC4OQdhYcT500UgpRTzKwPw9iBF9NELUi1Rk5m//Jm/M4HR9sgwRhXky1Tag+PC0vOKkjQHJY1e5t4a6+DEiuq+z8K9hYr/gJp8IgWFCAHB5OH2isTr7sosl8v48PjikOk4Gh7LBoSIR9Q+WXzwiDQ3VcE7KaXlhnuqdQZFq5JdLbRz/v8v8zpjqUkVGCxOb80dPFz/65lJLqgMAaOvQImysOB+WauTKAGGdm6Z1FCok+uiM3NGn+qZQvXotwosldMnIs011j/+YId8e09Kfb1e0CAHA1SEIGytYTzKnLVf4oJuCUGC0rI/wl2NSTRCq1SK0yJRp4hOi2K7sG3pHd2XzLBONCGvpojBd/FhqCbdxpggAgKtAEDZBnA/LLee9g2yky4w4IdabxV5fmTXUk6mzJWF6KY/wYuOjhF21dorIr6AHdkr/GSVqW/zjNWgoQMcyypCEDThWwLNMeJcA2iUEYRN09mV9gpjNMxAERh+NEO/vXH2baqusXTRSZx8aHcF2ZVd/C3Oiebssc+LZhFZaIzTBl85da5VHcmUvH5W/uoggBGiXEIRNEO9Lg0PrTZeR4WzI9VvDPFXamze1hMf5sl6BLLecK8/45gm5xEyv9Bdb6ykwcbQxUop5WuP2JwGAtgazRptgcS+RN+67LtST5VdwTuTojRsuGnlnHyYwGhEu7M6ROxjY33+TDk3RaFrvLxwEYYMqJLpYwtNLsU0HQLuEFmETBOkoWN+oe+pF0gl0zezggohSSyjOl4hodDj7Lo3P2i59PFKMNrTmN3KCHzuPpbftOnuNawRCixCgnUIQOkqYlxpnUFw08jgfRkSjI9gXqfK0TuzOFp8yUUeCH50uJkwctSOliI8MZ+mleI8A2iUEoaOoM1/mYgnv7MuIqE8Qe6mf8NrAVhsatOrsy+J8aPSPlgtoF9YjpZiPCBNkTsWO7wMAgFaHIHQUFXYlzK8gjUD+HkREIqPl/cSmrqndGCKjrZM093YShv1gee8UWoY2pBRRYgDF+qBRCNAuIQgdJczx626nXm8OOprA6KkkYe9dmq8vybf8aLmEwbAbpRTzRH/W0ZthmBCgPUIQOkqEV/VGvo5jHSBUR7wv23WH5s4YYfB6y4en0TSsZpYpvZR38WMdfSjN6OxqAKDpEISO0i+IHbnq4CAsoc6+Dn2GugRGf+gp/HKnZvV5ecImC9ZSIaJz13hHb+YhUKw3ukYB2iUEoaMMCmGH8ht52mEzparbIrTq6sf23KmJ82FvHLex/ZO7SSniiQGMiDp6U5qtbUAAoI1DEDpKqCf5erALjjwV/aJaY4Q3ExktShR+zHDlBtC6NPlAXsMvMKWYJ/oTEXX0wRghQLuk6soyx44dO3TokPXq7NmzDQYDEcmyvGbNmuPHjyckJDzyyCNarVbNqhxnUAg7mM+VrXEdIdVIcT4OeuyG9QpkVTKdLubd/V1zRZU153lOubzvrgZ+R1KK6J6OjAhdowDtlaotwh9//PHDDz+8eJ0kScrxp5566r333ktISPjyyy8feOABNUtyKCUIHfTgp4p4WRXv0KqLyDTV5Bi24bLLfvWnlfLTxXxLpo0XyImm/yzN2iFdraCU4uqu0WA9mWUqqVK9UABoGbXXGh06dOjrr79e+0heXt6qVavOnj0bExMza9asyMjIc+fOJSQkqFyYIwwKYd9ccsgomslCM7dLK4aKglMbY5OjhdePS3/s1XY72K+UcW8tU061bKr0Uv7qAPHlo9KEqLq/Jm//Jmeb+Igw1nudpbCSd73e6I/1ZulG3jPQNZvIAK5K7a+wM2fOvPHGG2vWrDEaq2ea79+/PzY2NiYmhoj8/PwGDBjwyy+/qFyVg/QLZicLudkBUfjkXql/MJvXxckJNDaSHS/khZXOrcKePx2S/5XSnB/ANTNZZHq8u1BYSdtubBTuz+NvnZC+GCu+MUj8dpz4ZJKgu76eT0dvSkPvKEB7o2qLMDQ0NC4uzmg0rlq1aunSpfv374+KisrJyQkJCbHeJywsLCsrq75HsFgsjz/+uChWf/H079//oYceqnMfs9nMOeeOnbDZKCJRZx/xUHZl/6DWLOa7y+zXXGHPbVJFhfO74UaGiRsuVc7oyCsqKkRRtHZ3txFnioTiSlZRccPSZ+UW+ui88HT3ugG5IYNivFmvAE5E54ooxiBWVVY8l8Se2MtHhNb8BH/KZP8cJIVqpIoK6utLfXuR9QcR7SVcKJIqQtX77FVUVHDOrb8RoA7l084Ymv6qqqioaMYMEq1W2+AviKpBOH/+/Pnz5yuX77zzzjfffHPFihVarbb2t2dVVZWHR709WYyxfv36Wd+L7t273/y+KCnYRmbcDArlR4vEIeGt+QvzZRp/qS8FeLWJFzg5mm/OEmd3YZIkiaLYRt52qwtG+YqJ6lT1bQb/8zH+VJJWd+Nvx6eXeO9A6h/KiCizgnf04Vqt9v4uRAKvkGp+gnfFsjuibbfFO/rwK+Wk1ar3/ajVahvzew6tS3nbEYQqU972pv4vQWi458xp+xEOHz587969RBQREZGZmWk9npmZGRkZWd//EkXxscce0+vtbYYkimLb+Rt5cKj8Sw7PN4tP7JUGh7CWD6fJnH7NrfpopLZtvD6aHMtfOGIRRI14nc27LT8qJfix+zur2pebV04CkxmjzHIhxrvmO2vNBYvMKbVUqDOYd77E4iEy5SVcNsmdfLjyeh7s2thnjPOTDxWo+tmz/7aDgyjvOYJQZY77qKv6xVRRUb34psVi2bhxY48ePYho1KhRJSUlBw4cIKKLFy+ePHly4sSJalblUIND2KYMuc+6qmgDvXFcKmrxcNpvRTzEk4V7tkZxrSHKwDw1LL2h8+fWXuAnC9XurD53jSf4sUEhwoFac3czy/iRq/z2aJZSfEM9FpkulvCUouqD6aU8tumLFSiTZeq7lRNdxggiQNujaotw6NCh4eHhwcHB+/fv9/PzW7JkCRF5eXm9+uqrU6ZMuf3227dt2/bcc8+FhoaqWZVDJQaw8VHCsz2FfsGsxEwrTkov92/RXzS7svnoVu1obbnegXS8kIeH1XuHM8X8QgnPLVe77HMlPMGPdfVjB/P4vZ2qD665wKd1EiK8yJp5irRSHuLJ0kq5WSYPgdKMNLTpH8N4X3a+hMucbM7m/a2QD/8/S/b9Wu+21X8M4O5UbRFu2rTpiSeeuP3229esWXPw4EF/f3/l+KJFi7Zt2zZu3LjvvvvupZdeUrMkRxMZrR0r9gtmRLS0j/D+abmFW9btyuajI9pYEAax5ILqyxaZ3j118yQU3tGH5Th+m+I6rrcIbzib89Pz8rwuQnd/llJc586U5E+x3uz8NU5Ki9C7ye9zoI5C9Ozs9eWEyi304emad+NAHi+tom8dc0YNADSbqkEYHh5+xx13zJo1a8iQIXUGMJOSkmbNmtWvXz8161FZZ182OUa4OScajxPtzpHbWhD2CWLHr3d7Hi3gv98n/XTlhszbcFl+OEHIcfw2xXWcu0YJfjQwhB0r4BInIjqYzy2choaxpABWp0WopGaif3WXaZqRd2zWOq61c3dPLn9yn2S8Prf3YD4fF8VWn0cQArQtbfdUaJe0tLfwz1PSteY2Ck8W8gAdi/RqW0HYO5AdL6j+6t+VzeN92SvHaqYBF1XSsat8VmeW64Qg5Al+zM+DOhjYqSJORP84KT/YRWBECX7sUukNp3hWB2EApRSRsYoqJAqxNyWrXrWDcFe2bJFpT0711YP5/JX+4qkijiVJAdoUBKGquvix2zoI7zW3Ubgrh49pY81BIor3ZXkVXEn3ndnyawOFokraev0k9J+uyKMjhFhvll/O1dzDUOZ00ci7+DK6Hk6rz8snCvjTPQQiUnZNOl9rSfTaLcLm9YsqBoWyg9eX6t6ZzUeFs105MhGVWSi1hA8IZjPjhDUXWv+NUL/BDeAyEIRqW9ZXePeU1LwVKdvgTBkiEhj1DGAni5nEaW8uHxMhLOsrWBuFGzL45BimFcjXgwpUXIPmcikP1jEvDRHRoBD2+QX5jwekr28Vva7PD7P2giqUftTEAJZSxNOM1LG5q5n3DWKni3mFRCYLHS/kz/cWd2VzIjpylfcKZFqB5iUIn55v5T8JThbxDp9XPXdQqmhb6xkAtA8IQrUl+LEJHYR/Nr1R2DYHCBW9g9jxQkoupGhvFqynmXFCfjk9/qv0/CFpY4Z8RzQjonBPlqvifJlzJZTgV315UCjbkc1fGygmBdS8e0ovqMJkoauVPMabdfVjqUZ+oaT5LUK9SN382bECvi+P9wliYyPZySJeWkUH8/mgUEZEA4KZTqS9ua35Vpws5LdEsktGGvC95SL6XQGaCEHoBMv6CO+ckkqb2ChMM3IPgTl3u4n69A5kvxWz3TmkNFhFRqtHix29WYAHe3uwGGVgRBTuRTkm9UpSujqVy32D2GdjxEe63vBpr90ivFDC43yYyEgvUgcD+zlLbt5MGcWgEHYwj+/KlkeHM71I/YPZ3jx+MI8PCql+zMkxbGd2a8ZVSjEfFsa+vlXsF8Q2u/QmkQCOgCB0gm7+7NZIYcGemvmEiiwTv/0ni1TP99jxQt4nSIXqmqN3EDtRSLtzyNpgHRzKnustPNdbeCih+jMW5qnqGRS1g1BkNDu+7kc9sdbE0dp3TvRn27N4R+/mP7UyJLkrm4+OEIhodDjbmSUfyK8Jwt6BLLmgdYOQEv0ZEXX1Z5kmBCFA0yAIneOjEaKXhnqvs+y43jKQON2/Q9pyhZ8utv1FllzAe7fV/X16BbKzJWxvPo0Kr/cTFe5Jak4cPXetgS2RlV5Qi6zcuaYfNSmATBZqdtcoEQ0KZXty+dECPiyMEdGYSOHbNF5WxTv7Vj9m7RNOWkVKUfWeiFFelFnWig8M4BYQhM7ho6WPR4r/GibO2yk9tU8qs9ArRyWtQPd1Furby/d4AfUJaqNBaNBQpBeF6ym0/rXfwr1YjoqNlXPXKMHX3h2UXtALJZxuahESUUu6Rrv5seJK3jOAGTRERENC2OVSPjCkZmHKBD+WVcab2jdeH7NMaaXV9UcZ0CIEaDIEoTNNimYnpmlKzJT0rWXVOf7ZGM2QWpPv6zhe2HZbhETUK4CPjrB3hzBVWoT78/gbx+U3jsvZJt6poTBL9K8+5+/cteoTLYgoMYB5auwleoMERgNDmPVEF08NDQph1n5RIhIZJQawE63UKLxQQrHezEMgIooyoEUI0GRO230CFP4e9N/R4sYMHqynME8aFML+c9bGhNJiM12tqOlba4MWdeOBenvlhXuynHKHL6ry12TZS0MdfeitwaKmoT/zFiYKc3daLhp57RZhjwD2z2FiC9/oP/URY2uNMr7UT6wz6Kj0jip9py2UUsyVViwRdTCwzDK0CAGaBkHYJtweXTON4tw1brKQ140/mROFvGcgs7mUcxsxNITb3yAl3FONk74P5suHp2gaObd2QhQ7NlW7YI/EicKuNwG1Aj2c0NKeklsjmZ2rdONyPIrCSnr2gPTJqCavyZ5SRIkB1Zd9tcSJjFXkg3W9ARoNXaNti06kpAB29GrdP+rb8kyZRgpz/HmE6aVcZE07wyTCi36YICbfo/ZfhL0DWfKNXaOnivjaC3JV09vMp6+RtUVIyjAhGoUATYEgbHPq7JagSC7gbXamTCMF66m4kprxRd94+/P44NDmvEvRqp+d2TuInSzktU+VSS3hVTI1YxnSU0W89kIBkV6UqeL5mgAuAEHY5gwKtRGExwvbfRAKjIL1LL/CgY2VQ7XO1WvjfLQU7lU9Z1WhrAhzrqRpj2OR6VIpJdQ6UQTDhABNhSBsc25uEVpkOlPMewS0j694Oxw9cfRgPh/YToKQbjqt/qKRgnR0tp6zSOuTWsqiDUxfa2AxyouuYOIoQFMgCNucBD9WbOb5FTVHzlzjMd7Mq/1PbHLoKmsWmZIL2lMQ9gm6Yb7MxRI+oYNwvqRuEL53Sv61/oVJTxdTd78bjkQZWBZOJQRoCgRhm8OIBgbf0Cg81v4HCBXhjlxl7WQRj/Fmvu1ntmTvQKq9vsyFEn5bB3bu2g3vj1mmV45Jf/+t3pHV0yVCUsANR6IMaBECNA2CsC0aFibszKr57tubywcEu0IQOrRr9FC76hcloj5B7Nj1FqGxikwWGhXOzl274T4/XpY7+bDtWbLNHazMMm24wvoH33AwygtjhABNgyBsi2Z1Zp+nVk8pNMv0v0vyPR3b01d8fRzaIjyQzwe3qyCM8WZElFHGieiikcf5shhvVlh5w9Jrq8/zhd2F26OFL1NtNAqfPyhFePK7Ym541VEGwiprAE2CIGyLEvxYB0P1Ju//ly73DGQNrhbWLoR5OnCM8EBeu5kyajUwRFBW1Est4XE+TGAU51MzlbSgknbnyNM6CfMShNXn6wbhxgz+vzT+76Fyndcc5skKK8ni8DV8AFwHgrCNevD6d9/q83xuFxf5MYV7sdxybpbp1WNy627IZ6yitFLes72tOWCdIXzRSHE+REQJfjXDhGsvyHdECz5aujWSZZvoVBE3Wej5Q9L4TZbxmyzzdlm+vEUM9Kj7NoqMQvQsW8UdrwDau/Y/E9FFzYwTlh6qOndN2JMrfz62/cwAsSvck85e4wO/t1wzU6aJjYlo8nJi9dmWKQ8LZdr29gfDoBD212SZiC6WVJ8Un+BH1mHCT8/Lrw8UiUhk9EA8W3ZYTinmA0PYc71EIgrxpN6BzGSrha0svR1tUOtlALRzCMI2KlBH46KE+7ZLd8UI3i6SgxRlYJ4i+2MvoYsve/xXqRUfecNlfkdMe4tBooEh7OhVLnFKLeF3xghElOBXvXn94as8v4Juub5I6YMJwh0/SW8OEqZ2bPhlXp8v087axwDOgiBsu+Z1Ee7cYnl7SKs1m5zOR0upMzVEVCmRzbXFm0fmtDFDXtqn/X2Y/T0owoulFPFUI3X2JSLq4sv+fUYmoleOykt6CdZl1rv6sQszGvsCowxYZQ2gCdrfH9Hu47YObGkfYXS4C/5drxMpMaDm5IEWOnKVB+pYW96jyo5BIWxvHs8s47HeStcoO3eNH73KjxbwR7o289cTZ1AANAmCsO3SCPT/BohteeullrC5tnjjVUj0xwOSMjdyw2V5ckx7fZsGhbL/XZLDPJlOJCIK9SSZ09P7pSW9BH1z+wLQIgRoEgQhOEcLg/DIVf7Wb/KyIxIRbcholwOEisEhbHsWV6aMKhL82IUS/lhzm4OEnZgAmqj9DauAaxgcyl4+2vyT3Q7m8/s6C59f4F185XQjH9as3Zfagt5BTCNQ7X7dvkFsThfBswW/mh28KAOrrAE0GoIQnCPBjxVW8vwKCtE39r+cKOS9rp8peDCf3x7NFnYXbt1oubeToGmvDULyEKhPEIurFYQfjmjp9KhOPizbxMst1JI0BXAf7fb7A9o5RjQwhB1qdO9oSjEf+L2l5PryY8o6MiPD2b+Gib/r3r4/xo93F8ZHtWaLVmlinr2G3lGARmnf3yDQrg0KYQfzG9s7ujOLm2X66YpMRPkVVFTJld1oH+smjGznE2vndRFafVH1RH+W0sStDQHcFoIQnKZJ82V25fAhoezHy5yub8DbvtPPwRIDWEoRghCgURCE4DRDQoUDeTynERszcaJd2fLfBombrsgyp4N5crtbX1tlif6UUtzAfX63R/ohHYtzAyAIwXlCPempJHH2Dotc+H9LOwAAEI1JREFUT9PlkrH6hrPF3EvDRoazME92IJ8fzOeD2+00UXUkNdQiLKqk1eflry7W3Ce3nMotjq8MoO1BEIIzLesrENGryTbaJf85J3f9xqJk4c5sPjqCEdHkaLbhsnwonw8MwUfXnnhfdrmMV9a/nuvXl+RBIeynK7J1w6YpWy03b/YE4A7wbQLOJDL6bIzmo9PyI7ulBXukFw5LxWYiolNF/PmD0r2dhNeOy0S0K4crS81NjhFWnpW9tSzc07mFt3VageJ87E0cXX1Ofq632NGH7c3jRHSmmO/P4y1Z4gCg/UIQgpNFeNHG28TBoax/MCuooF7/s3yXJs/cLr05WHxvmLjukpxeyndly2MiGBENDmUyJwwQNkaif729o+eu8bRSPiGK3RHNNlyWiejT8/L4KHYgD0EI7ggn3ILz9Q5kva+fKb8jmz+8WxodzuZ1EYhoQXfhkd2Sh8A6+jAiEhndGSP0am8b8DpFYgDVdwbFp+fl+zsLGoEmxwjzdkmvD6TPLvAfJogjN1hKqsjXVbb9AmgkBCG0LWMj2Nl7NeL1pHumh9jpq6p7am3C99EIl12IvHUl+rOvL9kIQpnTmgt8wwSRiAaEsGIz//isHOpJfYJYnyB2OJ9bN0EEcBPoGoU2x0MgaxAG6+mvA8RZnWs+qNpat4Id9Z1K+K8UOcabegYyImJEt0cLfzwgKe3vFq6EDtBOIQihrXsySbitA6KvyRL8WFopN984D/TIVf5qsrR6dM1yppNjWKVEyp8agxGE4JYQhACuyUOgjt7sXK2JoyVVdN926Z/DxDifmj8sJnUQPh8rBuuJ0CIEd4UgBHBZPQJuWNb8D/ul8VHs3k43/NbrRJp2/UhHH1Ylc+xlCO4GQQjgsh5KEN46ISsL96SW8O/T5L8ObGCPp0Eh7AAaheBmEIQALmtSNPPW0ro0mYheTZaf6iH6ezTwXwaFCOgdBXeDIARwZS/2E/9yTL5Qwjdclp9Kavj3fVAITqsHt4MgBHBld0QzD4Hu3CIt7C402BwkopHhLKWYY1NfcCs4oR7Axb3YT3hgh/R0j0b9sntp6PdJ4qvH5DVjRCI6WcQf/UWyYC3uG8myhyDUv6I5OIYkeYiihYimxArKev2tBUEI4OLujBFO38sCdI29/xNJQvxXVeeuCVEGNuNnaUE3YUQ4zuO8gclU6enpybA5tLpMpkovLw8i6mBo5XceQQjg+iK9mvDF4aulJ5PEvybLjNGQUPb7HhhAqau0lBsMDEGoMqNR9vFxyHuOIASAup5KEuK+qgrzZIem4CsCXB8+5QBQl58H/WeU2NWPGfANAW4AH3MAsOHuWPSIgrvAZx0AANwaghAAANyaCwZhamrqmTNnnF2F2zl16lR6erqzq3A7R48ezcnJcXYVbmffvn3FxcXOrsLt7Ny5s7y83BGP7IJB+L///e+LL75wdhVuZ/Xq1evXr3d2FW7n/fff//nnn51dhdt588039+/f7+wq3M6LL76YkpLiiEd2wSDkHKtDOQfeeafA2w7QQi4YhAAAAI2HIAQAALfG2le/ilarHTVqlCDYy+9Lly5JkhQfH69aVUBE586d0+v1MTExzi7EvZw8eTIoKCgiIsLZhbiXY8eOxcTEBAUFObsQ93LgwIHExEQfH58m/a+pU6cuXLjQ/n3a2Qn1n376aUhIiP37XLt2TZKkwMBAdUoCxdWrVz08PHx9fZ1diHvJzc318fHx8vJydiHuJTMzMyQkxMOjEftaQetJT0/v0KGDKIpN+l+dOnVq8D7trEUIAADQujBGCAAAbg1BCAAAbg1BCAAAbg1BCAAAbq2dzRptkNFo3Lx5syzLt912m5+fn7PLcVlZWVm11zoaNGiQdb7omTNn9u3b16lTp9GjR2ML71ZRUVHx22+/WSyWoUOH1j5+8uTJQ4cOxcfHjxw50nqwsrJy8+bNRqNx/PjxYWFhqhfrOkwm04kTJ7Rabf/+/a0Ht2/fLsuycjkyMjIxMVG5XFZWtnnzZrPZPHHiRExZbzZZlo8cOXL69Ong4OCxY8d6enpabzp79uzevXvrfLFUVVVt2bKloKDg1ltvjYqKav4TcxeSm5vbsWPHu+66a9q0aR06dLhy5YqzK3JZq1atCgkJGXfdmTNnlOOff/55cHDwggULEhMTH3roIecW6RrWrl3r4eERFBSUlJRU+/jKlStDQ0MXLFiQkJDwxBNPKAfLysr69es3ZsyYuXPnBgUFHT9+3Bklu4J3333Xw8MjMDBwzJgxtY/r9fqRI0cqH/s333xTOVhYWJiQkDBp0qSZM2eGh4dfvHjRGSW7gqlTpyYlJc2dO3fEiBExMTGXL19Wjn/55ZfBwcHz589XblUOms3mESNGDBs27KGHHgoMDNy3b1+zn9elgvDFF1+cOnWqcnnOnDmLFy92bj0ubNWqVVOmTKlzUJKkjh07rl+/nnNeUFDg5+d38uRJZ1TnUvLz84uLi7/55pvaQWg2m8PDw7dt28Y5z8nJ8fLyUr58V65cOXDgQIvFwjlfunTpvffe66yy27ucnJySkpIPPvjg5iDMzMysc+fXXnvttttuUy7Pnz9/4cKFKlXpci5cuGC9PGnSJOU7XJKkuLi4devWcc4LCwv9/f2Vv/C+/vrrxMREs9nMOX/jjTcmTpzY7Od1qTHCDRs2TJ8+Xbk8bdq0DRs2OLce13bt2rXNmzcfPXpUkiTlyMmTJ/Py8iZNmkREgYGBY8eOxY+g5YKDg2/u5D98+HBVVdXYsWOJKCwsbNiwYT/++CMRbdiwYerUqcoZx9OnT8f732xhYWH1rWBy8ODB7du3FxQUWI9s2LBh2rRpymW87S3RuXNn6+WIiAiz2UxEp0+fzs7Onjx5MhEFBATccsstyju8YcOGu+66S6vVEtH06dO3bt1aWVnZvOd1qSDMzMy0dhNHRUVduXLFufW4MMZYUVHR+++/P3369AEDBihb4mVmZoaFhSmfSyKKiorKzMx0apkuKzMzMzIy0rrWYFRUVFZWFt30K1BeXl5YWOi0Kl1RcHDwxx9/vHz58k6dOn322WfKwTpve3Z2tnUcEZrn7Nmz69ate/DBB4koMzMzNDT05i+WOm+7LMvZ2dnNezqXCkJJkqxfDaIoWlsq0Ormzp177NixH3744ezZs1FRUX/+85+JSJKk2rNjRFG0WCzOq9GV1fdW1/kVICL8CFpXWlrajz/+uHv37jVr1ixYsODatWt009suyzKCsCVycnLuuuuul156qW/fvtS4T7sgCIyxZn/aXSoIIyIi8vLylMu5ubmRkZHOrceFWZf702q19957b3JyMhFFRERcvXqVX1+0Lzc3F4tBO0jtjzrVeqvr/Apotdrg4GDnlOiirJ/8u+++mzF29uxZuultDw0N1WhcbUK+avLz88eNG/fAAw88/fTTyhHli8X6t4XNT3teXh7nvNnf+S4VhGPGjPnpp5+Uy1u2bBkzZoxTy3EXR44ciY6OJqIePXp4eHjs27ePiMxm886dO5VBLGh1/fr1Uyb3E5HJZNqzZ4/yVo8ZM2bL/2/vfkOa6uI4gP9sJuvOVmmRLV05S0cjFmKDVSb9Jc2kWssgc0J/FuSrFUGCJgQRKxLphaA4W2hRYaZbkFNYZUqpRNILRbbUChyxxchWi6b3eXFh7NF8nid5ys37/bxyZ8frObJ7v7v3nnuOzcbVsdlsWVlZ/7xUC8zYwMDA169fuU/+tm3bQv/tOPLMmNfrzc7Ozs7O5i4ycdatW8cwTFdXF/39wDLp065SqWY8+/ycmnTb4XBs3Ljx1KlTMTExN27c6OzsVCgUs92ouYkbr7xixYpXr15ZrVa73c49a2U0Gqurq8+cOWOz2fx+v91un+2WRjyHw3H16tWhoaHe3l6tVpuWlmYwGIiorKzs/v37er3eYrEwDGOxWIjI4/Eolcrc3NxVq1YZjcbGxsbt27fPdg8i0uvXr6uqqvr7+x0Ox759+zIyMk6ePGmxWBoaGjZs2DA2NlZXV6fVaisrK4no3bt36enpOp1OLBZfv37dbrenp6fPdg8iUl5e3vPnz7VaLfdy/fr1xcXFRHTt2rWqqqri4uK2tjafz/fkyZOoqKgvX74olcotW7YoFAqj0WgymfLy8mb2d+dUEBKR0+m8ffs2y7JHjhxJTU2d7ebMWT09PXa7/dOnT4mJiRqNJvQSqNVq7erqkkqlOp0u9HlYmBmXy9XS0hJ8KZFIuOFzRNTU1NTd3S2TyXQ6XXBJoNHR0Vu3bvl8vv379+NwPGPDw8PBsw0iSklJ2bFjh9vtbmlpcTqdDMOo1erQLxkjIyP19fWBQECr1Qafsodf9fDhw9Br/lKpdM+ePdzPjx496uzsTEpKKioqCh5Y3G73zZs3vV7v3r17J0038UvmWhACAAD8Etw/AAAAXkMQAgAAryEIAQCA1xCEAADAawhCAADgNQQhAADwGoIQIAL09/ebzeZ/ncGSZdnq6uq+vr4/0yqAuQFBCBB27t69+/Tp09CS1tbWoqKiHz9+/PMvsiyr1+sfP378O1sHMNcgCAHCTllZmdlsDi3ZtGnTpUuXMJUzwO+A/QogAqhUKpVKNalwYmLC7XYvWLBguiVkf+r79+9er3fJkiXBWdkAeA5nhADhZc2aNU6ns6GhIS4uLi4u7vTp00RUU1MTXLCbiAKBwMWLFxMSEpYvXy4Wi6VSaWNj49RNBQIBvV6flJTU0dFBRG/evMnMzBQKhQkJCUKhUKlUvn///k92DSA84YwQILzU1tYWFBQoFIpz584RETehuc/nc7lcwZmBT5w4UV9ff/bsWY1GEx0d3d3d7ff7J23H5/Pl5+f39vZardaMjAwiOnTo0NKlS589e8atot7e3o71YwEIQQgQbrKyshiGkUgkO3fu/GmFvr4+s9l84cKFy5cvcyVTV5lwuVy5ubler7ejo2Pt2rVE9Pnz58HBwZKSkszMTCKSyWSbN2/+nf0AiBgIQoAI097eTkTHjx+frsLAwIBarZZIJC9fvoyPj+cKxWJxSkpKaWnp6OjogQMH0tLS/lBzAcIe7hECRBi3201EK1eunK5CU1PT8PBwSUlJMAU5VqtVqVSWl5fL5XKZTFZRUYFV2AAIQQgQcRYvXkxEoeuXTnL+/HmdTqfRaJqbm0PL5XK5xWLxeDytra0qlcpgMEx6SAOAnxCEAGEnNjb227dv0727detWIrp37950FQQCgclkKigoOHz48NTRpCKRaPfu3Xfu3Fm2bNmLFy/+rzYDRC7cIwQIOwqFoq2trbm5OTExMT4+fvXq1aHvqtXqnJyc8vJykUh08ODBmJiYnp6eQCCQk5MTrDNv3ryampqFCxfm5+ebTKbCwsKhoaHKysqjR4/K5fLo6OgHDx54PJ6po2wA+IgFgDDz9u3bXbt2LVq0iIiOHTvGsmxFRQUR+f1+rsLY2FhhYaFAIOD2YoZh6urqWJYdHx8noitXrgQ3VVpaKhAIamtrR0ZGUlNTgzu+UCg0GAzj4+Oz0T+A8BLF4m45QNhjWXZiYiKYfByv1zs4OMgwTHJyskgk+i/b+fjx44cPH+bPn5+cnBwbG/t7GgsQYRCEAADAaxgsAwAAvIYgBAAAXkMQAgAAryEIAQCA1xCEAADAawhCAADgtb8A7GB+oeewhhQAAAAASUVORK5CYII=\" />"
      ]
     },
     "metadata": {},
     "output_type": "display_data"
    },
    {
     "data": {
      "text/html": [
       "<div><div style = \"float: left;\"><span>201×1 DataFrame</span></div><div style = \"float: right;\"><span style = \"font-style: italic;\">176 rows omitted</span></div><div style = \"clear: both;\"></div></div><div class = \"data-frame\" style = \"overflow-x: scroll;\"><table class = \"data-frame\" style = \"margin-bottom: 6px;\"><thead><tr class = \"header\"><th class = \"rowNumber\" style = \"font-weight: bold; text-align: right;\">Row</th><th style = \"text-align: left;\">Alive</th></tr><tr class = \"subheader headerLastRow\"><th class = \"rowNumber\" style = \"font-weight: bold; text-align: right;\"></th><th title = \"Int64\" style = \"text-align: left;\">Int64</th></tr></thead><tbody><tr><td class = \"rowNumber\" style = \"font-weight: bold; text-align: right;\">1</td><td style = \"text-align: right;\">209</td></tr><tr><td class = \"rowNumber\" style = \"font-weight: bold; text-align: right;\">2</td><td style = \"text-align: right;\">92</td></tr><tr><td class = \"rowNumber\" style = \"font-weight: bold; text-align: right;\">3</td><td style = \"text-align: right;\">88</td></tr><tr><td class = \"rowNumber\" style = \"font-weight: bold; text-align: right;\">4</td><td style = \"text-align: right;\">103</td></tr><tr><td class = \"rowNumber\" style = \"font-weight: bold; text-align: right;\">5</td><td style = \"text-align: right;\">83</td></tr><tr><td class = \"rowNumber\" style = \"font-weight: bold; text-align: right;\">6</td><td style = \"text-align: right;\">99</td></tr><tr><td class = \"rowNumber\" style = \"font-weight: bold; text-align: right;\">7</td><td style = \"text-align: right;\">80</td></tr><tr><td class = \"rowNumber\" style = \"font-weight: bold; text-align: right;\">8</td><td style = \"text-align: right;\">72</td></tr><tr><td class = \"rowNumber\" style = \"font-weight: bold; text-align: right;\">9</td><td style = \"text-align: right;\">68</td></tr><tr><td class = \"rowNumber\" style = \"font-weight: bold; text-align: right;\">10</td><td style = \"text-align: right;\">67</td></tr><tr><td class = \"rowNumber\" style = \"font-weight: bold; text-align: right;\">11</td><td style = \"text-align: right;\">70</td></tr><tr><td class = \"rowNumber\" style = \"font-weight: bold; text-align: right;\">12</td><td style = \"text-align: right;\">59</td></tr><tr><td class = \"rowNumber\" style = \"font-weight: bold; text-align: right;\">13</td><td style = \"text-align: right;\">66</td></tr><tr><td style = \"text-align: right;\">&vellip;</td><td style = \"text-align: right;\">&vellip;</td></tr><tr><td class = \"rowNumber\" style = \"font-weight: bold; text-align: right;\">190</td><td style = \"text-align: right;\">18</td></tr><tr><td class = \"rowNumber\" style = \"font-weight: bold; text-align: right;\">191</td><td style = \"text-align: right;\">18</td></tr><tr><td class = \"rowNumber\" style = \"font-weight: bold; text-align: right;\">192</td><td style = \"text-align: right;\">18</td></tr><tr><td class = \"rowNumber\" style = \"font-weight: bold; text-align: right;\">193</td><td style = \"text-align: right;\">18</td></tr><tr><td class = \"rowNumber\" style = \"font-weight: bold; text-align: right;\">194</td><td style = \"text-align: right;\">18</td></tr><tr><td class = \"rowNumber\" style = \"font-weight: bold; text-align: right;\">195</td><td style = \"text-align: right;\">18</td></tr><tr><td class = \"rowNumber\" style = \"font-weight: bold; text-align: right;\">196</td><td style = \"text-align: right;\">18</td></tr><tr><td class = \"rowNumber\" style = \"font-weight: bold; text-align: right;\">197</td><td style = \"text-align: right;\">18</td></tr><tr><td class = \"rowNumber\" style = \"font-weight: bold; text-align: right;\">198</td><td style = \"text-align: right;\">18</td></tr><tr><td class = \"rowNumber\" style = \"font-weight: bold; text-align: right;\">199</td><td style = \"text-align: right;\">18</td></tr><tr><td class = \"rowNumber\" style = \"font-weight: bold; text-align: right;\">200</td><td style = \"text-align: right;\">18</td></tr><tr><td class = \"rowNumber\" style = \"font-weight: bold; text-align: right;\">201</td><td style = \"text-align: right;\">18</td></tr></tbody></table></div>"
      ],
      "text/latex": [
       "\\begin{tabular}{r|c}\n",
       "\t& Alive\\\\\n",
       "\t\\hline\n",
       "\t& Int64\\\\\n",
       "\t\\hline\n",
       "\t1 & 209 \\\\\n",
       "\t2 & 92 \\\\\n",
       "\t3 & 88 \\\\\n",
       "\t4 & 103 \\\\\n",
       "\t5 & 83 \\\\\n",
       "\t6 & 99 \\\\\n",
       "\t7 & 80 \\\\\n",
       "\t8 & 72 \\\\\n",
       "\t9 & 68 \\\\\n",
       "\t10 & 67 \\\\\n",
       "\t11 & 70 \\\\\n",
       "\t12 & 59 \\\\\n",
       "\t13 & 66 \\\\\n",
       "\t14 & 63 \\\\\n",
       "\t15 & 63 \\\\\n",
       "\t16 & 60 \\\\\n",
       "\t17 & 72 \\\\\n",
       "\t18 & 55 \\\\\n",
       "\t19 & 48 \\\\\n",
       "\t20 & 49 \\\\\n",
       "\t21 & 46 \\\\\n",
       "\t22 & 43 \\\\\n",
       "\t23 & 42 \\\\\n",
       "\t24 & 41 \\\\\n",
       "\t25 & 43 \\\\\n",
       "\t26 & 36 \\\\\n",
       "\t27 & 32 \\\\\n",
       "\t28 & 36 \\\\\n",
       "\t29 & 44 \\\\\n",
       "\t30 & 50 \\\\\n",
       "\t$\\dots$ & $\\dots$ \\\\\n",
       "\\end{tabular}\n"
      ],
      "text/plain": [
       "\u001b[1m201×1 DataFrame\u001b[0m\n",
       "\u001b[1m Row \u001b[0m│\u001b[1m Alive \u001b[0m\n",
       "     │\u001b[90m Int64 \u001b[0m\n",
       "─────┼───────\n",
       "   1 │   209\n",
       "   2 │    92\n",
       "   3 │    88\n",
       "   4 │   103\n",
       "   5 │    83\n",
       "   6 │    99\n",
       "   7 │    80\n",
       "   8 │    72\n",
       "   9 │    68\n",
       "  10 │    67\n",
       "  11 │    70\n",
       "  ⋮  │   ⋮\n",
       " 192 │    18\n",
       " 193 │    18\n",
       " 194 │    18\n",
       " 195 │    18\n",
       " 196 │    18\n",
       " 197 │    18\n",
       " 198 │    18\n",
       " 199 │    18\n",
       " 200 │    18\n",
       " 201 │    18\n",
       "\u001b[36m180 rows omitted\u001b[0m"
      ]
     },
     "execution_count": 8,
     "metadata": {},
     "output_type": "execute_result"
    }
   ],
   "source": [
    "df = get_nums_patches(model, patch-> patch.is_alive, labels=[\"Alive\"], \n",
    "    plot_result = true)"
   ]
  },
  {
   "cell_type": "markdown",
   "metadata": {},
   "source": [
    "![png](assets/CGOL/CGOLPlot1.png)"
   ]
  }
 ],
 "metadata": {
  "@webio": {
   "lastCommId": "25df9fa6b7f84d9f8025820561870c06",
   "lastKernelId": "3fdd8fc6-43ce-4dfa-aceb-ece79a5e55f8"
  },
  "kernelspec": {
   "display_name": "Julia 1.9.2",
   "language": "julia",
   "name": "julia-1.9"
  },
  "language_info": {
   "file_extension": ".jl",
   "mimetype": "application/julia",
   "name": "julia",
   "version": "1.9.2"
  }
 },
 "nbformat": 4,
 "nbformat_minor": 4
}
