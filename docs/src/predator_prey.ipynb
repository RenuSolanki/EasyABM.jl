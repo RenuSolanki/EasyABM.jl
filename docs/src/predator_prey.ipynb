{
 "cells": [
  {
   "cell_type": "markdown",
   "metadata": {},
   "source": [
    "# Predator-prey model"
   ]
  },
  {
   "cell_type": "code",
   "execution_count": 1,
   "metadata": {},
   "outputs": [
    {
     "name": "stderr",
     "output_type": "stream",
     "text": [
      "\u001b[32m\u001b[1m  Activating\u001b[22m\u001b[39m project at `~/Documents/EasyABM`\n"
     ]
    },
    {
     "data": {
      "application/vnd.webio.node+json": {
       "children": [],
       "instanceArgs": {
        "namespace": "html",
        "tag": "div"
       },
       "nodeType": "DOM",
       "props": {},
       "type": "node"
      },
      "text/html": [
       "<div style=\"padding: 1em; background-color: #f8d6da; border: 1px solid #f5c6cb; font-weight: bold;\">\n",
       "<p>The WebIO Jupyter extension was not detected. See the\n",
       "<a href=\"https://juliagizmos.github.io/WebIO.jl/latest/providers/ijulia/\" target=\"_blank\">\n",
       "    WebIO Jupyter integration documentation\n",
       "</a>\n",
       "for more information.\n",
       "</div>\n"
      ],
      "text/plain": [
       "WebIO._IJuliaInit()"
      ]
     },
     "metadata": {
      "application/vnd.webio.node+json": {
       "kernelId": "1af7d208-d09e-48de-8444-b75606197f70"
      }
     },
     "output_type": "display_data"
    }
   ],
   "source": [
    "#don't need first two lines if using installed version of EasyABM\n",
    "using Pkg, Revise\n",
    "Pkg.activate(joinpath(@__DIR__, \"../..\"))\n",
    "using EasyABM"
   ]
  },
  {
   "cell_type": "markdown",
   "metadata": {},
   "source": [
    "## Step 1: Create Agents and Model\n",
    "\n",
    "We create 200 agents all of type `sheep` to begin with. Our model properties are \n",
    "\n",
    "* `max_energy` : The maximum energy that an agent (sheep or wolf) can have. \n",
    "* `wolf_birth_rate` : Probability of a wolf agent to reproduce once its energy is greater than max_energy/2.  \n",
    "* `sheep_birth_rate` : Probability of a sheep agent to reproduce once its energy is greater than max_energy/2. \n",
    "* `wolves_kill_ability` : The probability of a wolf to kill a neighboring sheep.\n",
    "* `grass_grow_prob` : The probability of one unit of grass growing on a patch at a given timestep.\n",
    "* `max_grass` : Max grass a patch can have.\n",
    "* `initial_wolf_percent` : The percent of agents which are wolf initially. "
   ]
  },
  {
   "cell_type": "code",
   "execution_count": 2,
   "metadata": {},
   "outputs": [
    {
     "data": {
      "text/plain": [
       "EasyABM SpaceModel2D{EasyABM.MortalType, Int64, EasyABM.NPeriodicType}: In a EasyABM.MortalType model agents can take birth or die.\n"
      ]
     },
     "execution_count": 2,
     "metadata": {},
     "output_type": "execute_result"
    }
   ],
   "source": [
    "@enum agenttype sheep wolf\n",
    "agents = grid_2d_agents(200, pos = Vect(1,1), color = cl\"white\", atype = sheep, \n",
    "    energy = 10.0, keeps_record_of=Set([:pos, :energy ]))\n",
    "model = create_2d_model(agents, \n",
    "    size = (20,20), #space size\n",
    "    agents_type = Mortal, # agents are mortal, can take birth or die\n",
    "    space_type = NPeriodic, # nonperiodic space\n",
    "    #below are all the model properties\n",
    "    max_energy = 50, \n",
    "    wolf_birth_rate = 0.01,\n",
    "    sheep_birth_rate = 0.1,\n",
    "    wolves_kill_ability = 0.2,\n",
    "    max_grass = 5,\n",
    "    initial_wolf_percent = 0.2,\n",
    "    grass_grow_prob = 0.2)"
   ]
  },
  {
   "cell_type": "markdown",
   "metadata": {},
   "source": [
    "## Step 2: Initialise the model\n",
    "\n",
    "In the second step we initialise the patches and agents by defining `initialiser!` function and sending it as an argument to `init_model!`. In the `initialiser!` function we randomly set amount of grass and accordingly color of each patch. We also set a fraction `initial_wolf_percent` of agents to be of type wolf. We set color of sheeps to white and that of wolves to black. We also randomly set the energy and positions of agents. In the `init_model!` function through argument `props_to_record` we tell EasyABM to record the color property of patches during model run."
   ]
  },
  {
   "cell_type": "code",
   "execution_count": 3,
   "metadata": {},
   "outputs": [],
   "source": [
    "function initialiser!(model)\n",
    "    max_grass = model.properties.max_grass\n",
    "    for j in 1:model.size[2]\n",
    "        for i in 1:model.size[1]\n",
    "            grass = rand(1:max_grass)\n",
    "            model.patches[i,j].grass = grass\n",
    "            hf = Int(ceil(max_grass/2))\n",
    "            model.patches[i,j].color = grass > hf ? cl\"green\" : (grass > 0 ? cl\"blue\" : cl\"grey\")\n",
    "        end\n",
    "    end\n",
    "    for agent in model.agents\n",
    "        if rand()< model.properties.initial_wolf_percent \n",
    "            agent.atype = wolf\n",
    "            agent.color = cl\"black\"\n",
    "        else\n",
    "            agent.atype = sheep\n",
    "            agent.color = cl\"white\"\n",
    "        end\n",
    "        agent.energy = rand(1:model.properties.max_energy)+0.0\n",
    "        agent.pos = Vect(rand(1:model.size[1]), rand(1:model.size[2]))\n",
    "    end\n",
    "            \n",
    "end\n",
    "\n",
    "init_model!(model, initialiser = initialiser!, props_to_record = Dict(\"patches\"=>Set([:color])))\n"
   ]
  },
  {
   "cell_type": "markdown",
   "metadata": {},
   "source": [
    "## Step 3: Defining the step_rule! and running the model\n",
    "\n",
    "In this step we implement the step logic of the predator prey model in the `step_rule!` function and run the model for 100 steps. "
   ]
  },
  {
   "cell_type": "code",
   "execution_count": 4,
   "metadata": {},
   "outputs": [],
   "source": [
    "function change_pos!(agent)\n",
    "    dx = rand(-1:1)\n",
    "    dy = rand(-1:1)\n",
    "    agent.pos += Vect(dx, dy)\n",
    "end\n",
    "\n",
    "function reproduce!(agent, model)\n",
    "    new_agent = create_similar(agent)\n",
    "    agent.energy = agent.energy/2\n",
    "    new_agent.energy = agent.energy\n",
    "    add_agent!(new_agent, model)\n",
    "end\n",
    "\n",
    "function eat_sheep!(wolf, sheep, model)\n",
    "    kill_agent!(sheep, model) \n",
    "    wolf.energy+=1\n",
    "end\n",
    "\n",
    "\n",
    "function act_asa_wolf!(agent, model)\n",
    "    if !(is_alive(agent))\n",
    "        return\n",
    "    end\n",
    "    energy = agent.energy\n",
    "    if energy > 0.5*model.properties.max_energy\n",
    "        if rand()<model.properties.wolf_birth_rate\n",
    "            reproduce!(agent, model)\n",
    "        end\n",
    "    elseif energy > 0 \n",
    "        nbrs = collect(neighbors_moore(agent, model, 1))\n",
    "        n = length(nbrs)\n",
    "        if n>0\n",
    "            nbr = nbrs[rand(1:n)]\n",
    "            if (nbr.atype == sheep)&&(is_alive(nbr))\n",
    "                ability = model.properties.wolves_kill_ability\n",
    "                (rand()<ability)&&(eat_sheep!(agent, nbr, model))\n",
    "            end\n",
    "        end\n",
    "        change_pos!(agent)\n",
    "    else\n",
    "        kill_agent!(agent, model)\n",
    "    end\n",
    "end\n",
    "\n",
    "function act_asa_sheep!(agent, model)\n",
    "    if !(is_alive(agent))\n",
    "        return\n",
    "    end\n",
    "    energy = agent.energy\n",
    "    if energy >0.5* model.properties.max_energy\n",
    "        if rand()<model.properties.sheep_birth_rate\n",
    "            reproduce!(agent, model)\n",
    "        end\n",
    "        change_pos!(agent)\n",
    "    elseif energy > 0 \n",
    "        patch = get_grid_loc(agent)\n",
    "        grass = model.patches[patch...].grass\n",
    "        if grass>0\n",
    "            model.patches[patch...].grass-=1\n",
    "            agent.energy +=1\n",
    "        end\n",
    "        change_pos!(agent)\n",
    "    else\n",
    "        kill_agent!(agent, model)\n",
    "    end\n",
    "end\n",
    "\n",
    "\n",
    "\n",
    "function step_rule!(model)\n",
    "    if model.max_id>800 # use some upper bound on max agents to avoid system hang\n",
    "        return\n",
    "    end\n",
    "    for agent in model.agents\n",
    "        if agent.atype == wolf\n",
    "            act_asa_wolf!(agent,model)\n",
    "        end\n",
    "        if agent.atype == sheep\n",
    "            act_asa_sheep!(agent, model)\n",
    "        end\n",
    "    end\n",
    "    for j in 1:model.size[2]\n",
    "        for i in 1:model.size[1]\n",
    "            patch = model.patches[i,j]\n",
    "            grass = patch.grass\n",
    "            max_grass = model.properties.max_grass \n",
    "            if grass < max_grass\n",
    "                if rand()<model.properties.grass_grow_prob\n",
    "                    patch.grass+=1\n",
    "                    hf = Int(ceil(max_grass/2))\n",
    "                    patch.color = grass > hf ? cl\"green\" : (grass > 0 ? cl\"yellow\" : cl\"grey\")\n",
    "                end\n",
    "            end\n",
    "        end\n",
    "    end\n",
    "end\n",
    "\n",
    "run_model!(model, steps=100, step_rule = step_rule! )"
   ]
  },
  {
   "cell_type": "markdown",
   "metadata": {},
   "source": [
    "## Step 4: Visualisation"
   ]
  },
  {
   "cell_type": "markdown",
   "metadata": {},
   "source": [
    "In order to draw the model at a specific frame, say 4th, one can use"
   ]
  },
  {
   "cell_type": "code",
   "execution_count": 5,
   "metadata": {},
   "outputs": [
    {
     "data": {
      "image/png": "[encoded data removed]",
      "text/plain": []
     },
     "execution_count": 5,
     "metadata": {},
     "output_type": "execute_result"
    }
   ],
   "source": [
    "draw_frame(model, frame = 4, show_patches=true)"
   ]
  },
  {
   "cell_type": "markdown",
   "metadata": {},
   "source": [
    " If one wants to see the animation of the model run, it can be done as "
   ]
  },
  {
   "cell_type": "code",
   "execution_count": 6,
   "metadata": {},
   "outputs": [
    {
     "data": {
      "application/vnd.webio.node+json": {
       "children": [
        {
         "children": [
          {
           "children": [
            {
             "children": [
              {
               "children": [
                {
                 "children": [
                  {
                   "children": [
                    {
                     "children": [
                      "time"
                     ],
                     "instanceArgs": {
                      "namespace": "html",
                      "tag": "label"
                     },
                     "nodeType": "DOM",
                     "props": {
                      "className": "interact ",
                      "style": {
                       "padding": "5px 10px 0px 10px"
                      }
                     },
                     "type": "node"
                    }
                   ],
                   "instanceArgs": {
                    "namespace": "html",
                    "tag": "div"
                   },
                   "nodeType": "DOM",
                   "props": {
                    "className": "interact-flex-row-left"
                   },
                   "type": "node"
                  },
                  {
                   "children": [
                    {
                     "children": [],
                     "instanceArgs": {
                      "namespace": "html",
                      "tag": "input"
                     },
                     "nodeType": "DOM",
                     "props": {
                      "attributes": {
                       "data-bind": "numericValue: index, valueUpdate: 'input', event: {change: function (){this.changes(this.changes()+1)}}",
                       "orient": "horizontal",
                       "type": "range"
                      },
                      "className": "slider slider is-fullwidth",
                      "max": 101,
                      "min": 1,
                      "step": 1,
                      "style": {}
                     },
                     "type": "node"
                    }
                   ],
                   "instanceArgs": {
                    "namespace": "html",
                    "tag": "div"
                   },
                   "nodeType": "DOM",
                   "props": {
                    "className": "interact-flex-row-center"
                   },
                   "type": "node"
                  },
                  {
                   "children": [
                    {
                     "children": [],
                     "instanceArgs": {
                      "namespace": "html",
                      "tag": "p"
                     },
                     "nodeType": "DOM",
                     "props": {
                      "attributes": {
                       "data-bind": "text: formatted_val"
                      }
                     },
                     "type": "node"
                    }
                   ],
                   "instanceArgs": {
                    "namespace": "html",
                    "tag": "div"
                   },
                   "nodeType": "DOM",
                   "props": {
                    "className": "interact-flex-row-right"
                   },
                   "type": "node"
                  }
                 ],
                 "instanceArgs": {
                  "namespace": "html",
                  "tag": "div"
                 },
                 "nodeType": "DOM",
                 "props": {
                  "className": "interact-flex-row interact-widget"
                 },
                 "type": "node"
                }
               ],
               "instanceArgs": {
                "handlers": {
                 "changes": [
                  "(function (val){return (val!=this.model[\"changes\"]()) ? (this.valueFromJulia[\"changes\"]=true, this.model[\"changes\"](val)) : undefined})"
                 ],
                 "index": [
                  "(function (val){return (val!=this.model[\"index\"]()) ? (this.valueFromJulia[\"index\"]=true, this.model[\"index\"](val)) : undefined})"
                 ]
                },
                "id": "13693191764264467997",
                "imports": {
                 "data": [
                  {
                   "name": "knockout",
                   "type": "js",
                   "url": "/assetserver/727383f2a47bd31570b7da84eee7b022dd6d7c78-knockout.js"
                  },
                  {
                   "name": "knockout_punches",
                   "type": "js",
                   "url": "/assetserver/382b41b3b1bd9f26f75861d360bad7f8beea211f-knockout_punches.js"
                  },
                  {
                   "name": null,
                   "type": "js",
                   "url": "/assetserver/5ab20f1060420992a9b82a65b735dee4d81ef413-all.js"
                  },
                  {
                   "name": null,
                   "type": "css",
                   "url": "/assetserver/1cc0ed62837210b80a182cc3676512f895dab686-style.css"
                  },
                  {
                   "name": null,
                   "type": "css",
                   "url": "/assetserver/2eee816f616df3549d7044d45e744fbf8d42bfa1-bulma_confined.min.css"
                  }
                 ],
                 "type": "async_block"
                },
                "mount_callbacks": [
                 "function () {\n    var handler = (function (ko, koPunches) {\n    ko.punches.enableAll();\n    ko.bindingHandlers.numericValue = {\n        init: function(element, valueAccessor, allBindings, data, context) {\n            var stringified = ko.observable(ko.unwrap(valueAccessor()));\n            stringified.subscribe(function(value) {\n                var val = parseFloat(value);\n                if (!isNaN(val)) {\n                    valueAccessor()(val);\n                }\n            });\n            valueAccessor().subscribe(function(value) {\n                var str = JSON.stringify(value);\n                if ((str == \"0\") && ([\"-0\", \"-0.\"].indexOf(stringified()) >= 0))\n                     return;\n                 if ([\"null\", \"\"].indexOf(str) >= 0)\n                     return;\n                stringified(str);\n            });\n            ko.applyBindingsToNode(\n                element,\n                {\n                    value: stringified,\n                    valueUpdate: allBindings.get('valueUpdate'),\n                },\n                context,\n            );\n        }\n    };\n    var json_data = {\"formatted_vals\":[\"1\",\"2\",\"3\",\"4\",\"5\",\"6\",\"7\",\"8\",\"9\",\"10\",\"11\",\"12\",\"13\",\"14\",\"15\",\"16\",\"17\",\"18\",\"19\",\"20\",\"21\",\"22\",\"23\",\"24\",\"25\",\"26\",\"27\",\"28\",\"29\",\"30\",\"31\",\"32\",\"33\",\"34\",\"35\",\"36\",\"37\",\"38\",\"39\",\"40\",\"41\",\"42\",\"43\",\"44\",\"45\",\"46\",\"47\",\"48\",\"49\",\"50\",\"51\",\"52\",\"53\",\"54\",\"55\",\"56\",\"57\",\"58\",\"59\",\"60\",\"61\",\"62\",\"63\",\"64\",\"65\",\"66\",\"67\",\"68\",\"69\",\"70\",\"71\",\"72\",\"73\",\"74\",\"75\",\"76\",\"77\",\"78\",\"79\",\"80\",\"81\",\"82\",\"83\",\"84\",\"85\",\"86\",\"87\",\"88\",\"89\",\"90\",\"91\",\"92\",\"93\",\"94\",\"95\",\"96\",\"97\",\"98\",\"99\",\"100\",\"101\"],\"changes\":WebIO.getval({\"name\":\"changes\",\"scope\":\"13693191764264467997\",\"id\":\"13657043337347474306\",\"type\":\"observable\"}),\"index\":WebIO.getval({\"name\":\"index\",\"scope\":\"13693191764264467997\",\"id\":\"7000693937198718537\",\"type\":\"observable\"})};\n    var self = this;\n    function AppViewModel() {\n        for (var key in json_data) {\n            var el = json_data[key];\n            this[key] = Array.isArray(el) ? ko.observableArray(el) : ko.observable(el);\n        }\n        \n        [this[\"formatted_val\"]=ko.computed(    function(){\n        return this.formatted_vals()[parseInt(this.index())-(1)];\n    }\n,this)]\n        [this[\"changes\"].subscribe((function (val){!(this.valueFromJulia[\"changes\"]) ? (WebIO.setval({\"name\":\"changes\",\"scope\":\"13693191764264467997\",\"id\":\"13657043337347474306\",\"type\":\"observable\"},val)) : undefined; return this.valueFromJulia[\"changes\"]=false}),self),this[\"index\"].subscribe((function (val){!(this.valueFromJulia[\"index\"]) ? (WebIO.setval({\"name\":\"index\",\"scope\":\"13693191764264467997\",\"id\":\"7000693937198718537\",\"type\":\"observable\"},val)) : undefined; return this.valueFromJulia[\"index\"]=false}),self)]\n        \n    }\n    self.model = new AppViewModel();\n    self.valueFromJulia = {};\n    for (var key in json_data) {\n        self.valueFromJulia[key] = false;\n    }\n    ko.applyBindings(self.model, self.dom);\n}\n);\n    (WebIO.importBlock({\"data\":[{\"name\":\"knockout\",\"type\":\"js\",\"url\":\"/assetserver/727383f2a47bd31570b7da84eee7b022dd6d7c78-knockout.js\"},{\"name\":\"knockout_punches\",\"type\":\"js\",\"url\":\"/assetserver/382b41b3b1bd9f26f75861d360bad7f8beea211f-knockout_punches.js\"}],\"type\":\"async_block\"})).then((imports) => handler.apply(this, imports));\n}\n"
                ],
                "observables": {
                 "changes": {
                  "id": "13657043337347474306",
                  "sync": false,
                  "value": 0
                 },
                 "index": {
                  "id": "7000693937198718537",
                  "sync": true,
                  "value": 51
                 }
                },
                "systemjs_options": null
               },
               "nodeType": "Scope",
               "props": {},
               "type": "node"
              }
             ],
             "instanceArgs": {
              "namespace": "html",
              "tag": "div"
             },
             "nodeType": "DOM",
             "props": {
              "className": "field interact-widget"
             },
             "type": "node"
            },
            {
             "children": [
              {
               "children": [
                {
                 "children": [
                  {
                   "children": [
                    {
                     "children": [
                      "scale"
                     ],
                     "instanceArgs": {
                      "namespace": "html",
                      "tag": "label"
                     },
                     "nodeType": "DOM",
                     "props": {
                      "className": "interact ",
                      "style": {
                       "padding": "5px 10px 0px 10px"
                      }
                     },
                     "type": "node"
                    }
                   ],
                   "instanceArgs": {
                    "namespace": "html",
                    "tag": "div"
                   },
                   "nodeType": "DOM",
                   "props": {
                    "className": "interact-flex-row-left"
                   },
                   "type": "node"
                  },
                  {
                   "children": [
                    {
                     "children": [],
                     "instanceArgs": {
                      "namespace": "html",
                      "tag": "input"
                     },
                     "nodeType": "DOM",
                     "props": {
                      "attributes": {
                       "data-bind": "numericValue: index, valueUpdate: 'input', event: {change: function (){this.changes(this.changes()+1)}}",
                       "orient": "horizontal",
                       "type": "range"
                      },
                      "className": "slider slider is-fullwidth",
                      "max": 20,
                      "min": 1,
                      "step": 1,
                      "style": {}
                     },
                     "type": "node"
                    }
                   ],
                   "instanceArgs": {
                    "namespace": "html",
                    "tag": "div"
                   },
                   "nodeType": "DOM",
                   "props": {
                    "className": "interact-flex-row-center"
                   },
                   "type": "node"
                  },
                  {
                   "children": [
                    {
                     "children": [],
                     "instanceArgs": {
                      "namespace": "html",
                      "tag": "p"
                     },
                     "nodeType": "DOM",
                     "props": {
                      "attributes": {
                       "data-bind": "text: formatted_val"
                      }
                     },
                     "type": "node"
                    }
                   ],
                   "instanceArgs": {
                    "namespace": "html",
                    "tag": "div"
                   },
                   "nodeType": "DOM",
                   "props": {
                    "className": "interact-flex-row-right"
                   },
                   "type": "node"
                  }
                 ],
                 "instanceArgs": {
                  "namespace": "html",
                  "tag": "div"
                 },
                 "nodeType": "DOM",
                 "props": {
                  "className": "interact-flex-row interact-widget"
                 },
                 "type": "node"
                }
               ],
               "instanceArgs": {
                "handlers": {
                 "changes": [
                  "(function (val){return (val!=this.model[\"changes\"]()) ? (this.valueFromJulia[\"changes\"]=true, this.model[\"changes\"](val)) : undefined})"
                 ],
                 "index": [
                  "(function (val){return (val!=this.model[\"index\"]()) ? (this.valueFromJulia[\"index\"]=true, this.model[\"index\"](val)) : undefined})"
                 ]
                },
                "id": "7777155395366762195",
                "imports": {
                 "data": [
                  {
                   "name": "knockout",
                   "type": "js",
                   "url": "/assetserver/727383f2a47bd31570b7da84eee7b022dd6d7c78-knockout.js"
                  },
                  {
                   "name": "knockout_punches",
                   "type": "js",
                   "url": "/assetserver/382b41b3b1bd9f26f75861d360bad7f8beea211f-knockout_punches.js"
                  },
                  {
                   "name": null,
                   "type": "js",
                   "url": "/assetserver/5ab20f1060420992a9b82a65b735dee4d81ef413-all.js"
                  },
                  {
                   "name": null,
                   "type": "css",
                   "url": "/assetserver/1cc0ed62837210b80a182cc3676512f895dab686-style.css"
                  },
                  {
                   "name": null,
                   "type": "css",
                   "url": "/assetserver/2eee816f616df3549d7044d45e744fbf8d42bfa1-bulma_confined.min.css"
                  }
                 ],
                 "type": "async_block"
                },
                "mount_callbacks": [
                 "function () {\n    var handler = (function (ko, koPunches) {\n    ko.punches.enableAll();\n    ko.bindingHandlers.numericValue = {\n        init: function(element, valueAccessor, allBindings, data, context) {\n            var stringified = ko.observable(ko.unwrap(valueAccessor()));\n            stringified.subscribe(function(value) {\n                var val = parseFloat(value);\n                if (!isNaN(val)) {\n                    valueAccessor()(val);\n                }\n            });\n            valueAccessor().subscribe(function(value) {\n                var str = JSON.stringify(value);\n                if ((str == \"0\") && ([\"-0\", \"-0.\"].indexOf(stringified()) >= 0))\n                     return;\n                 if ([\"null\", \"\"].indexOf(str) >= 0)\n                     return;\n                stringified(str);\n            });\n            ko.applyBindingsToNode(\n                element,\n                {\n                    value: stringified,\n                    valueUpdate: allBindings.get('valueUpdate'),\n                },\n                context,\n            );\n        }\n    };\n    var json_data = {\"formatted_vals\":[\"0.1\",\"0.2\",\"0.3\",\"0.4\",\"0.5\",\"0.6\",\"0.7\",\"0.8\",\"0.9\",\"1.0\",\"1.1\",\"1.2\",\"1.3\",\"1.4\",\"1.5\",\"1.6\",\"1.7\",\"1.8\",\"1.9\",\"2.0\"],\"changes\":WebIO.getval({\"name\":\"changes\",\"scope\":\"7777155395366762195\",\"id\":\"1618825750075013330\",\"type\":\"observable\"}),\"index\":WebIO.getval({\"name\":\"index\",\"scope\":\"7777155395366762195\",\"id\":\"11448133287972189656\",\"type\":\"observable\"})};\n    var self = this;\n    function AppViewModel() {\n        for (var key in json_data) {\n            var el = json_data[key];\n            this[key] = Array.isArray(el) ? ko.observableArray(el) : ko.observable(el);\n        }\n        \n        [this[\"formatted_val\"]=ko.computed(    function(){\n        return this.formatted_vals()[parseInt(this.index())-(1)];\n    }\n,this)]\n        [this[\"changes\"].subscribe((function (val){!(this.valueFromJulia[\"changes\"]) ? (WebIO.setval({\"name\":\"changes\",\"scope\":\"7777155395366762195\",\"id\":\"1618825750075013330\",\"type\":\"observable\"},val)) : undefined; return this.valueFromJulia[\"changes\"]=false}),self),this[\"index\"].subscribe((function (val){!(this.valueFromJulia[\"index\"]) ? (WebIO.setval({\"name\":\"index\",\"scope\":\"7777155395366762195\",\"id\":\"11448133287972189656\",\"type\":\"observable\"},val)) : undefined; return this.valueFromJulia[\"index\"]=false}),self)]\n        \n    }\n    self.model = new AppViewModel();\n    self.valueFromJulia = {};\n    for (var key in json_data) {\n        self.valueFromJulia[key] = false;\n    }\n    ko.applyBindings(self.model, self.dom);\n}\n);\n    (WebIO.importBlock({\"data\":[{\"name\":\"knockout\",\"type\":\"js\",\"url\":\"/assetserver/727383f2a47bd31570b7da84eee7b022dd6d7c78-knockout.js\"},{\"name\":\"knockout_punches\",\"type\":\"js\",\"url\":\"/assetserver/382b41b3b1bd9f26f75861d360bad7f8beea211f-knockout_punches.js\"}],\"type\":\"async_block\"})).then((imports) => handler.apply(this, imports));\n}\n"
                ],
                "observables": {
                 "changes": {
                  "id": "1618825750075013330",
                  "sync": false,
                  "value": 0
                 },
                 "index": {
                  "id": "11448133287972189656",
                  "sync": true,
                  "value": 10
                 }
                },
                "systemjs_options": null
               },
               "nodeType": "Scope",
               "props": {},
               "type": "node"
              }
             ],
             "instanceArgs": {
              "namespace": "html",
              "tag": "div"
             },
             "nodeType": "DOM",
             "props": {
              "className": "field interact-widget"
             },
             "type": "node"
            },
            {
             "children": [
              {
               "children": [
                {
                 "children": [
                  {
                   "children": [],
                   "instanceArgs": {
                    "namespace": "html",
                    "tag": "div"
                   },
                   "nodeType": "DOM",
                   "props": {
                    "id": "container"
                   },
                   "type": "node"
                  }
                 ],
                 "instanceArgs": {
                  "handlers": {
                   "value": [
                    "(function (txt){return this.k.render(txt,this.container)})"
                   ]
                  },
                  "id": "3946609360029318114",
                  "imports": {
                   "data": [
                    {
                     "name": null,
                     "type": "js",
                     "url": "/assetserver/dd22ed1bf1896c2748f3fe616ce0b838adc895c1-katex.min.js"
                    },
                    {
                     "name": null,
                     "type": "css",
                     "url": "/assetserver/46517a424aa5e6cffc1360d7e0848b601c584ee3-katex.min.css"
                    }
                   ],
                   "type": "async_block"
                  },
                  "mount_callbacks": [
                   "function () {\n    var handler = ((function (k){this.k=k; this.container=this.dom.querySelector(\"#container\"); return k.render(\"\\\\;\\\\;\",this.container)}));\n    (WebIO.importBlock({\"data\":[{\"name\":null,\"type\":\"js\",\"url\":\"/assetserver/dd22ed1bf1896c2748f3fe616ce0b838adc895c1-katex.min.js\"},{\"name\":null,\"type\":\"css\",\"url\":\"/assetserver/46517a424aa5e6cffc1360d7e0848b601c584ee3-katex.min.css\"}],\"type\":\"async_block\"})).then((imports) => handler.apply(this, imports));\n}\n"
                  ],
                  "observables": {
                   "value": {
                    "id": "4259256243133893168",
                    "sync": false,
                    "value": "\\;\\;"
                   }
                  },
                  "systemjs_options": null
                 },
                 "nodeType": "Scope",
                 "props": {},
                 "type": "node"
                }
               ],
               "instanceArgs": {
                "namespace": "html",
                "tag": "div"
               },
               "nodeType": "DOM",
               "props": {
                "className": "interact-widget"
               },
               "type": "node"
              },
              {
               "children": [
                {
                 "children": [
                  {
                   "children": [
                    "run"
                   ],
                   "instanceArgs": {
                    "namespace": "html",
                    "tag": "button"
                   },
                   "nodeType": "DOM",
                   "props": {
                    "attributes": {
                     "data-bind": "click: function (){this.clicks(this.clicks()+1)}, css: {'is-loading' : loading}"
                    },
                    "className": "is-medium button is-primary",
                    "style": {}
                   },
                   "type": "node"
                  }
                 ],
                 "instanceArgs": {
                  "handlers": {
                   "clicks": [
                    "(function (val){return (val!=this.model[\"clicks\"]()) ? (this.valueFromJulia[\"clicks\"]=true, this.model[\"clicks\"](val)) : undefined})"
                   ],
                   "loading": [
                    "(function (val){return (val!=this.model[\"loading\"]()) ? (this.valueFromJulia[\"loading\"]=true, this.model[\"loading\"](val)) : undefined})"
                   ]
                  },
                  "id": "16754735631927482691",
                  "imports": {
                   "data": [
                    {
                     "name": "knockout",
                     "type": "js",
                     "url": "/assetserver/727383f2a47bd31570b7da84eee7b022dd6d7c78-knockout.js"
                    },
                    {
                     "name": "knockout_punches",
                     "type": "js",
                     "url": "/assetserver/382b41b3b1bd9f26f75861d360bad7f8beea211f-knockout_punches.js"
                    },
                    {
                     "name": null,
                     "type": "js",
                     "url": "/assetserver/5ab20f1060420992a9b82a65b735dee4d81ef413-all.js"
                    },
                    {
                     "name": null,
                     "type": "css",
                     "url": "/assetserver/1cc0ed62837210b80a182cc3676512f895dab686-style.css"
                    },
                    {
                     "name": null,
                     "type": "css",
                     "url": "/assetserver/2eee816f616df3549d7044d45e744fbf8d42bfa1-bulma_confined.min.css"
                    }
                   ],
                   "type": "async_block"
                  },
                  "mount_callbacks": [
                   "function () {\n    var handler = (function (ko, koPunches) {\n    ko.punches.enableAll();\n    ko.bindingHandlers.numericValue = {\n        init: function(element, valueAccessor, allBindings, data, context) {\n            var stringified = ko.observable(ko.unwrap(valueAccessor()));\n            stringified.subscribe(function(value) {\n                var val = parseFloat(value);\n                if (!isNaN(val)) {\n                    valueAccessor()(val);\n                }\n            });\n            valueAccessor().subscribe(function(value) {\n                var str = JSON.stringify(value);\n                if ((str == \"0\") && ([\"-0\", \"-0.\"].indexOf(stringified()) >= 0))\n                     return;\n                 if ([\"null\", \"\"].indexOf(str) >= 0)\n                     return;\n                stringified(str);\n            });\n            ko.applyBindingsToNode(\n                element,\n                {\n                    value: stringified,\n                    valueUpdate: allBindings.get('valueUpdate'),\n                },\n                context,\n            );\n        }\n    };\n    var json_data = {\"loading\":WebIO.getval({\"name\":\"loading\",\"scope\":\"16754735631927482691\",\"id\":\"12176001550604526024\",\"type\":\"observable\"}),\"clicks\":WebIO.getval({\"name\":\"clicks\",\"scope\":\"16754735631927482691\",\"id\":\"16502556942689838282\",\"type\":\"observable\"})};\n    var self = this;\n    function AppViewModel() {\n        for (var key in json_data) {\n            var el = json_data[key];\n            this[key] = Array.isArray(el) ? ko.observableArray(el) : ko.observable(el);\n        }\n        \n        \n        [this[\"loading\"].subscribe((function (val){!(this.valueFromJulia[\"loading\"]) ? (WebIO.setval({\"name\":\"loading\",\"scope\":\"16754735631927482691\",\"id\":\"12176001550604526024\",\"type\":\"observable\"},val)) : undefined; return this.valueFromJulia[\"loading\"]=false}),self),this[\"clicks\"].subscribe((function (val){!(this.valueFromJulia[\"clicks\"]) ? (WebIO.setval({\"name\":\"clicks\",\"scope\":\"16754735631927482691\",\"id\":\"16502556942689838282\",\"type\":\"observable\"},val)) : undefined; return this.valueFromJulia[\"clicks\"]=false}),self)]\n        \n    }\n    self.model = new AppViewModel();\n    self.valueFromJulia = {};\n    for (var key in json_data) {\n        self.valueFromJulia[key] = false;\n    }\n    ko.applyBindings(self.model, self.dom);\n}\n);\n    (WebIO.importBlock({\"data\":[{\"name\":\"knockout\",\"type\":\"js\",\"url\":\"/assetserver/727383f2a47bd31570b7da84eee7b022dd6d7c78-knockout.js\"},{\"name\":\"knockout_punches\",\"type\":\"js\",\"url\":\"/assetserver/382b41b3b1bd9f26f75861d360bad7f8beea211f-knockout_punches.js\"}],\"type\":\"async_block\"})).then((imports) => handler.apply(this, imports));\n}\n"
                  ],
                  "observables": {
                   "clicks": {
                    "id": "16502556942689838282",
                    "sync": true,
                    "value": 0
                   },
                   "loading": {
                    "id": "12176001550604526024",
                    "sync": false,
                    "value": false
                   }
                  },
                  "systemjs_options": null
                 },
                 "nodeType": "Scope",
                 "props": {},
                 "type": "node"
                }
               ],
               "instanceArgs": {
                "namespace": "html",
                "tag": "div"
               },
               "nodeType": "DOM",
               "props": {
                "className": "field interact-widget"
               },
               "type": "node"
              },
              {
               "children": [
                {
                 "children": [
                  {
                   "children": [],
                   "instanceArgs": {
                    "namespace": "html",
                    "tag": "div"
                   },
                   "nodeType": "DOM",
                   "props": {
                    "id": "container"
                   },
                   "type": "node"
                  }
                 ],
                 "instanceArgs": {
                  "handlers": {
                   "value": [
                    "(function (txt){return this.k.render(txt,this.container)})"
                   ]
                  },
                  "id": "3946609360029318114",
                  "imports": {
                   "data": [
                    {
                     "name": null,
                     "type": "js",
                     "url": "/assetserver/dd22ed1bf1896c2748f3fe616ce0b838adc895c1-katex.min.js"
                    },
                    {
                     "name": null,
                     "type": "css",
                     "url": "/assetserver/46517a424aa5e6cffc1360d7e0848b601c584ee3-katex.min.css"
                    }
                   ],
                   "type": "async_block"
                  },
                  "mount_callbacks": [
                   "function () {\n    var handler = ((function (k){this.k=k; this.container=this.dom.querySelector(\"#container\"); return k.render(\"\\\\;\\\\;\",this.container)}));\n    (WebIO.importBlock({\"data\":[{\"name\":null,\"type\":\"js\",\"url\":\"/assetserver/dd22ed1bf1896c2748f3fe616ce0b838adc895c1-katex.min.js\"},{\"name\":null,\"type\":\"css\",\"url\":\"/assetserver/46517a424aa5e6cffc1360d7e0848b601c584ee3-katex.min.css\"}],\"type\":\"async_block\"})).then((imports) => handler.apply(this, imports));\n}\n"
                  ],
                  "observables": {
                   "value": {
                    "id": "4259256243133893168",
                    "sync": false,
                    "value": "\\;\\;"
                   }
                  },
                  "systemjs_options": null
                 },
                 "nodeType": "Scope",
                 "props": {},
                 "type": "node"
                }
               ],
               "instanceArgs": {
                "namespace": "html",
                "tag": "div"
               },
               "nodeType": "DOM",
               "props": {
                "className": "interact-widget"
               },
               "type": "node"
              },
              {
               "children": [
                {
                 "children": [
                  {
                   "children": [
                    "stop"
                   ],
                   "instanceArgs": {
                    "namespace": "html",
                    "tag": "button"
                   },
                   "nodeType": "DOM",
                   "props": {
                    "attributes": {
                     "data-bind": "click: function (){this.clicks(this.clicks()+1)}, css: {'is-loading' : loading}"
                    },
                    "className": "is-medium button is-primary",
                    "style": {}
                   },
                   "type": "node"
                  }
                 ],
                 "instanceArgs": {
                  "handlers": {
                   "clicks": [
                    "(function (val){return (val!=this.model[\"clicks\"]()) ? (this.valueFromJulia[\"clicks\"]=true, this.model[\"clicks\"](val)) : undefined})"
                   ],
                   "loading": [
                    "(function (val){return (val!=this.model[\"loading\"]()) ? (this.valueFromJulia[\"loading\"]=true, this.model[\"loading\"](val)) : undefined})"
                   ]
                  },
                  "id": "3562011449504821528",
                  "imports": {
                   "data": [
                    {
                     "name": "knockout",
                     "type": "js",
                     "url": "/assetserver/727383f2a47bd31570b7da84eee7b022dd6d7c78-knockout.js"
                    },
                    {
                     "name": "knockout_punches",
                     "type": "js",
                     "url": "/assetserver/382b41b3b1bd9f26f75861d360bad7f8beea211f-knockout_punches.js"
                    },
                    {
                     "name": null,
                     "type": "js",
                     "url": "/assetserver/5ab20f1060420992a9b82a65b735dee4d81ef413-all.js"
                    },
                    {
                     "name": null,
                     "type": "css",
                     "url": "/assetserver/1cc0ed62837210b80a182cc3676512f895dab686-style.css"
                    },
                    {
                     "name": null,
                     "type": "css",
                     "url": "/assetserver/2eee816f616df3549d7044d45e744fbf8d42bfa1-bulma_confined.min.css"
                    }
                   ],
                   "type": "async_block"
                  },
                  "mount_callbacks": [
                   "function () {\n    var handler = (function (ko, koPunches) {\n    ko.punches.enableAll();\n    ko.bindingHandlers.numericValue = {\n        init: function(element, valueAccessor, allBindings, data, context) {\n            var stringified = ko.observable(ko.unwrap(valueAccessor()));\n            stringified.subscribe(function(value) {\n                var val = parseFloat(value);\n                if (!isNaN(val)) {\n                    valueAccessor()(val);\n                }\n            });\n            valueAccessor().subscribe(function(value) {\n                var str = JSON.stringify(value);\n                if ((str == \"0\") && ([\"-0\", \"-0.\"].indexOf(stringified()) >= 0))\n                     return;\n                 if ([\"null\", \"\"].indexOf(str) >= 0)\n                     return;\n                stringified(str);\n            });\n            ko.applyBindingsToNode(\n                element,\n                {\n                    value: stringified,\n                    valueUpdate: allBindings.get('valueUpdate'),\n                },\n                context,\n            );\n        }\n    };\n    var json_data = {\"loading\":WebIO.getval({\"name\":\"loading\",\"scope\":\"3562011449504821528\",\"id\":\"11313335835908710365\",\"type\":\"observable\"}),\"clicks\":WebIO.getval({\"name\":\"clicks\",\"scope\":\"3562011449504821528\",\"id\":\"7858809198161068362\",\"type\":\"observable\"})};\n    var self = this;\n    function AppViewModel() {\n        for (var key in json_data) {\n            var el = json_data[key];\n            this[key] = Array.isArray(el) ? ko.observableArray(el) : ko.observable(el);\n        }\n        \n        \n        [this[\"loading\"].subscribe((function (val){!(this.valueFromJulia[\"loading\"]) ? (WebIO.setval({\"name\":\"loading\",\"scope\":\"3562011449504821528\",\"id\":\"11313335835908710365\",\"type\":\"observable\"},val)) : undefined; return this.valueFromJulia[\"loading\"]=false}),self),this[\"clicks\"].subscribe((function (val){!(this.valueFromJulia[\"clicks\"]) ? (WebIO.setval({\"name\":\"clicks\",\"scope\":\"3562011449504821528\",\"id\":\"7858809198161068362\",\"type\":\"observable\"},val)) : undefined; return this.valueFromJulia[\"clicks\"]=false}),self)]\n        \n    }\n    self.model = new AppViewModel();\n    self.valueFromJulia = {};\n    for (var key in json_data) {\n        self.valueFromJulia[key] = false;\n    }\n    ko.applyBindings(self.model, self.dom);\n}\n);\n    (WebIO.importBlock({\"data\":[{\"name\":\"knockout\",\"type\":\"js\",\"url\":\"/assetserver/727383f2a47bd31570b7da84eee7b022dd6d7c78-knockout.js\"},{\"name\":\"knockout_punches\",\"type\":\"js\",\"url\":\"/assetserver/382b41b3b1bd9f26f75861d360bad7f8beea211f-knockout_punches.js\"}],\"type\":\"async_block\"})).then((imports) => handler.apply(this, imports));\n}\n"
                  ],
                  "observables": {
                   "clicks": {
                    "id": "7858809198161068362",
                    "sync": true,
                    "value": 0
                   },
                   "loading": {
                    "id": "11313335835908710365",
                    "sync": false,
                    "value": false
                   }
                  },
                  "systemjs_options": null
                 },
                 "nodeType": "Scope",
                 "props": {},
                 "type": "node"
                }
               ],
               "instanceArgs": {
                "namespace": "html",
                "tag": "div"
               },
               "nodeType": "DOM",
               "props": {
                "className": "field interact-widget"
               },
               "type": "node"
              },
              {
               "children": [
                {
                 "children": [
                  {
                   "children": [],
                   "instanceArgs": {
                    "namespace": "html",
                    "tag": "div"
                   },
                   "nodeType": "DOM",
                   "props": {
                    "id": "container"
                   },
                   "type": "node"
                  }
                 ],
                 "instanceArgs": {
                  "handlers": {
                   "value": [
                    "(function (txt){return this.k.render(txt,this.container)})"
                   ]
                  },
                  "id": "3946609360029318114",
                  "imports": {
                   "data": [
                    {
                     "name": null,
                     "type": "js",
                     "url": "/assetserver/dd22ed1bf1896c2748f3fe616ce0b838adc895c1-katex.min.js"
                    },
                    {
                     "name": null,
                     "type": "css",
                     "url": "/assetserver/46517a424aa5e6cffc1360d7e0848b601c584ee3-katex.min.css"
                    }
                   ],
                   "type": "async_block"
                  },
                  "mount_callbacks": [
                   "function () {\n    var handler = ((function (k){this.k=k; this.container=this.dom.querySelector(\"#container\"); return k.render(\"\\\\;\\\\;\",this.container)}));\n    (WebIO.importBlock({\"data\":[{\"name\":null,\"type\":\"js\",\"url\":\"/assetserver/dd22ed1bf1896c2748f3fe616ce0b838adc895c1-katex.min.js\"},{\"name\":null,\"type\":\"css\",\"url\":\"/assetserver/46517a424aa5e6cffc1360d7e0848b601c584ee3-katex.min.css\"}],\"type\":\"async_block\"})).then((imports) => handler.apply(this, imports));\n}\n"
                  ],
                  "observables": {
                   "value": {
                    "id": "4259256243133893168",
                    "sync": false,
                    "value": "\\;\\;"
                   }
                  },
                  "systemjs_options": null
                 },
                 "nodeType": "Scope",
                 "props": {},
                 "type": "node"
                }
               ],
               "instanceArgs": {
                "namespace": "html",
                "tag": "div"
               },
               "nodeType": "DOM",
               "props": {
                "className": "interact-widget"
               },
               "type": "node"
              },
              {
               "children": [
                {
                 "children": [
                  {
                   "children": [
                    "save"
                   ],
                   "instanceArgs": {
                    "namespace": "html",
                    "tag": "button"
                   },
                   "nodeType": "DOM",
                   "props": {
                    "attributes": {
                     "data-bind": "click: function (){this.clicks(this.clicks()+1)}, css: {'is-loading' : loading}"
                    },
                    "className": "is-medium button is-primary",
                    "style": {}
                   },
                   "type": "node"
                  }
                 ],
                 "instanceArgs": {
                  "handlers": {
                   "clicks": [
                    "(function (val){return (val!=this.model[\"clicks\"]()) ? (this.valueFromJulia[\"clicks\"]=true, this.model[\"clicks\"](val)) : undefined})"
                   ],
                   "loading": [
                    "(function (val){return (val!=this.model[\"loading\"]()) ? (this.valueFromJulia[\"loading\"]=true, this.model[\"loading\"](val)) : undefined})"
                   ]
                  },
                  "id": "11026206512220441168",
                  "imports": {
                   "data": [
                    {
                     "name": "knockout",
                     "type": "js",
                     "url": "/assetserver/727383f2a47bd31570b7da84eee7b022dd6d7c78-knockout.js"
                    },
                    {
                     "name": "knockout_punches",
                     "type": "js",
                     "url": "/assetserver/382b41b3b1bd9f26f75861d360bad7f8beea211f-knockout_punches.js"
                    },
                    {
                     "name": null,
                     "type": "js",
                     "url": "/assetserver/5ab20f1060420992a9b82a65b735dee4d81ef413-all.js"
                    },
                    {
                     "name": null,
                     "type": "css",
                     "url": "/assetserver/1cc0ed62837210b80a182cc3676512f895dab686-style.css"
                    },
                    {
                     "name": null,
                     "type": "css",
                     "url": "/assetserver/2eee816f616df3549d7044d45e744fbf8d42bfa1-bulma_confined.min.css"
                    }
                   ],
                   "type": "async_block"
                  },
                  "mount_callbacks": [
                   "function () {\n    var handler = (function (ko, koPunches) {\n    ko.punches.enableAll();\n    ko.bindingHandlers.numericValue = {\n        init: function(element, valueAccessor, allBindings, data, context) {\n            var stringified = ko.observable(ko.unwrap(valueAccessor()));\n            stringified.subscribe(function(value) {\n                var val = parseFloat(value);\n                if (!isNaN(val)) {\n                    valueAccessor()(val);\n                }\n            });\n            valueAccessor().subscribe(function(value) {\n                var str = JSON.stringify(value);\n                if ((str == \"0\") && ([\"-0\", \"-0.\"].indexOf(stringified()) >= 0))\n                     return;\n                 if ([\"null\", \"\"].indexOf(str) >= 0)\n                     return;\n                stringified(str);\n            });\n            ko.applyBindingsToNode(\n                element,\n                {\n                    value: stringified,\n                    valueUpdate: allBindings.get('valueUpdate'),\n                },\n                context,\n            );\n        }\n    };\n    var json_data = {\"loading\":WebIO.getval({\"name\":\"loading\",\"scope\":\"11026206512220441168\",\"id\":\"3921837179233002943\",\"type\":\"observable\"}),\"clicks\":WebIO.getval({\"name\":\"clicks\",\"scope\":\"11026206512220441168\",\"id\":\"15645495922008330300\",\"type\":\"observable\"})};\n    var self = this;\n    function AppViewModel() {\n        for (var key in json_data) {\n            var el = json_data[key];\n            this[key] = Array.isArray(el) ? ko.observableArray(el) : ko.observable(el);\n        }\n        \n        \n        [this[\"loading\"].subscribe((function (val){!(this.valueFromJulia[\"loading\"]) ? (WebIO.setval({\"name\":\"loading\",\"scope\":\"11026206512220441168\",\"id\":\"3921837179233002943\",\"type\":\"observable\"},val)) : undefined; return this.valueFromJulia[\"loading\"]=false}),self),this[\"clicks\"].subscribe((function (val){!(this.valueFromJulia[\"clicks\"]) ? (WebIO.setval({\"name\":\"clicks\",\"scope\":\"11026206512220441168\",\"id\":\"15645495922008330300\",\"type\":\"observable\"},val)) : undefined; return this.valueFromJulia[\"clicks\"]=false}),self)]\n        \n    }\n    self.model = new AppViewModel();\n    self.valueFromJulia = {};\n    for (var key in json_data) {\n        self.valueFromJulia[key] = false;\n    }\n    ko.applyBindings(self.model, self.dom);\n}\n);\n    (WebIO.importBlock({\"data\":[{\"name\":\"knockout\",\"type\":\"js\",\"url\":\"/assetserver/727383f2a47bd31570b7da84eee7b022dd6d7c78-knockout.js\"},{\"name\":\"knockout_punches\",\"type\":\"js\",\"url\":\"/assetserver/382b41b3b1bd9f26f75861d360bad7f8beea211f-knockout_punches.js\"}],\"type\":\"async_block\"})).then((imports) => handler.apply(this, imports));\n}\n"
                  ],
                  "observables": {
                   "clicks": {
                    "id": "15645495922008330300",
                    "sync": true,
                    "value": 0
                   },
                   "loading": {
                    "id": "3921837179233002943",
                    "sync": false,
                    "value": false
                   }
                  },
                  "systemjs_options": null
                 },
                 "nodeType": "Scope",
                 "props": {},
                 "type": "node"
                }
               ],
               "instanceArgs": {
                "namespace": "html",
                "tag": "div"
               },
               "nodeType": "DOM",
               "props": {
                "className": "field interact-widget"
               },
               "type": "node"
              }
             ],
             "instanceArgs": {
              "namespace": "html",
              "tag": "div"
             },
             "nodeType": "DOM",
             "props": {
              "style": {
               "display": "flex",
               "flex-direction": "row"
              }
             },
             "type": "node"
            }
           ],
           "instanceArgs": {
            "namespace": "html",
            "tag": "div"
           },
           "nodeType": "DOM",
           "props": {
            "style": {
             "display": "flex",
             "flex-direction": "column"
            }
           },
           "type": "node"
          },
          {
           "children": [
            {
             "children": [
              {
               "children": [],
               "instanceArgs": {
                "namespace": "html",
                "tag": "div"
               },
               "nodeType": "DOM",
               "props": {
                "id": "container"
               },
               "type": "node"
              }
             ],
             "instanceArgs": {
              "handlers": {
               "value": [
                "(function (txt){return this.k.render(txt,this.container)})"
               ]
              },
              "id": "3946609360029318114",
              "imports": {
               "data": [
                {
                 "name": null,
                 "type": "js",
                 "url": "/assetserver/dd22ed1bf1896c2748f3fe616ce0b838adc895c1-katex.min.js"
                },
                {
                 "name": null,
                 "type": "css",
                 "url": "/assetserver/46517a424aa5e6cffc1360d7e0848b601c584ee3-katex.min.css"
                }
               ],
               "type": "async_block"
              },
              "mount_callbacks": [
               "function () {\n    var handler = ((function (k){this.k=k; this.container=this.dom.querySelector(\"#container\"); return k.render(\"\\\\;\\\\;\",this.container)}));\n    (WebIO.importBlock({\"data\":[{\"name\":null,\"type\":\"js\",\"url\":\"/assetserver/dd22ed1bf1896c2748f3fe616ce0b838adc895c1-katex.min.js\"},{\"name\":null,\"type\":\"css\",\"url\":\"/assetserver/46517a424aa5e6cffc1360d7e0848b601c584ee3-katex.min.css\"}],\"type\":\"async_block\"})).then((imports) => handler.apply(this, imports));\n}\n"
              ],
              "observables": {
               "value": {
                "id": "4259256243133893168",
                "sync": false,
                "value": "\\;\\;"
               }
              },
              "systemjs_options": null
             },
             "nodeType": "Scope",
             "props": {},
             "type": "node"
            }
           ],
           "instanceArgs": {
            "namespace": "html",
            "tag": "div"
           },
           "nodeType": "DOM",
           "props": {
            "className": "interact-widget"
           },
           "type": "node"
          },
          {
           "children": [
            {
             "children": [],
             "instanceArgs": {
              "namespace": "html",
              "tag": "div"
             },
             "nodeType": "DOM",
             "props": {
              "className": "webio-observable",
              "setInnerHtml": "<img src='data:image/png;base64,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'></img>"
             },
             "type": "node"
            }
           ],
           "instanceArgs": {
            "handlers": {
             "obs-output": [
              "function (value, scope) {\n    scope.setInnerHTML(value);\n}\n"
             ]
            },
            "id": "6981774501010947608",
            "imports": {
             "data": [],
             "type": "async_block"
            },
            "mount_callbacks": [],
            "observables": {
             "obs-output": {
              "id": "4175409294910319588",
              "sync": false,
              "value": "<img src='data:image/png;base64,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'></img>"
             }
            },
            "systemjs_options": null
           },
           "nodeType": "Scope",
           "props": {},
           "type": "node"
          },
          {
           "children": [
            {
             "children": [
              {
               "children": [],
               "instanceArgs": {
                "namespace": "html",
                "tag": "div"
               },
               "nodeType": "DOM",
               "props": {
                "id": "container"
               },
               "type": "node"
              }
             ],
             "instanceArgs": {
              "handlers": {
               "value": [
                "(function (txt){return this.k.render(txt,this.container)})"
               ]
              },
              "id": "3946609360029318114",
              "imports": {
               "data": [
                {
                 "name": null,
                 "type": "js",
                 "url": "/assetserver/dd22ed1bf1896c2748f3fe616ce0b838adc895c1-katex.min.js"
                },
                {
                 "name": null,
                 "type": "css",
                 "url": "/assetserver/46517a424aa5e6cffc1360d7e0848b601c584ee3-katex.min.css"
                }
               ],
               "type": "async_block"
              },
              "mount_callbacks": [
               "function () {\n    var handler = ((function (k){this.k=k; this.container=this.dom.querySelector(\"#container\"); return k.render(\"\\\\;\\\\;\",this.container)}));\n    (WebIO.importBlock({\"data\":[{\"name\":null,\"type\":\"js\",\"url\":\"/assetserver/dd22ed1bf1896c2748f3fe616ce0b838adc895c1-katex.min.js\"},{\"name\":null,\"type\":\"css\",\"url\":\"/assetserver/46517a424aa5e6cffc1360d7e0848b601c584ee3-katex.min.css\"}],\"type\":\"async_block\"})).then((imports) => handler.apply(this, imports));\n}\n"
              ],
              "observables": {
               "value": {
                "id": "4259256243133893168",
                "sync": false,
                "value": "\\;\\;"
               }
              },
              "systemjs_options": null
             },
             "nodeType": "Scope",
             "props": {},
             "type": "node"
            }
           ],
           "instanceArgs": {
            "namespace": "html",
            "tag": "div"
           },
           "nodeType": "DOM",
           "props": {
            "className": "interact-widget"
           },
           "type": "node"
          },
          {
           "children": [],
           "instanceArgs": {
            "namespace": "html",
            "tag": "div"
           },
           "nodeType": "DOM",
           "props": {
            "style": {
             "display": "flex",
             "flex-direction": "column"
            }
           },
           "type": "node"
          }
         ],
         "instanceArgs": {
          "namespace": "html",
          "tag": "div"
         },
         "nodeType": "DOM",
         "props": {
          "style": {
           "display": "flex",
           "flex-direction": "row"
          }
         },
         "type": "node"
        }
       ],
       "instanceArgs": {
        "namespace": "html",
        "tag": "div"
       },
       "nodeType": "DOM",
       "props": {
        "style": {
         "display": "flex",
         "flex-direction": "column"
        }
       },
       "type": "node"
      },
      "text/html": [
       "<div\n",
       "    class=\"webio-mountpoint\"\n",
       "    data-webio-mountpoint=\"7870812037058928135\"\n",
       ">\n",
       "    <script>\n",
       "    (function(){\n",
       "    // Some integrations (namely, IJulia/Jupyter) use an alternate render pathway than\n",
       "    // just putting the html on the page. If WebIO isn't defined, then it's pretty likely\n",
       "    // that we're in one of those situations and the integration just isn't installed\n",
       "    // correctly.\n",
       "    if (typeof window.WebIO === \"undefined\") {\n",
       "        document\n",
       "            .querySelector('[data-webio-mountpoint=\"7870812037058928135\"]')\n",
       "            .innerHTML = (\n",
       "                '<div style=\"padding: 1em; background-color: #f8d6da; border: 1px solid #f5c6cb; font-weight: bold;\">' +\n",
       "                '<p><strong>WebIO not detected.</strong></p>' +\n",
       "                '<p>Please read ' +\n",
       "                '<a href=\"https://juliagizmos.github.io/WebIO.jl/latest/troubleshooting/not-detected/\" target=\"_blank\">the troubleshooting guide</a> ' +\n",
       "                'for more information on how to resolve this issue.</p>' +\n",
       "                '<p><a href=\"https://juliagizmos.github.io/WebIO.jl/latest/troubleshooting/not-detected/\" target=\"_blank\">https://juliagizmos.github.io/WebIO.jl/latest/troubleshooting/not-detected/</a></p>' +\n",
       "                '</div>'\n",
       "            );\n",
       "        return;\n",
       "    }\n",
       "    WebIO.mount(\n",
       "        document.querySelector('[data-webio-mountpoint=\"7870812037058928135\"]'),\n",
       "        {\"props\":{\"style\":{\"display\":\"flex\",\"flex-direction\":\"column\"}},\"nodeType\":\"DOM\",\"type\":\"node\",\"instanceArgs\":{\"namespace\":\"html\",\"tag\":\"div\"},\"children\":[{\"props\":{\"style\":{\"display\":\"flex\",\"flex-direction\":\"row\"}},\"nodeType\":\"DOM\",\"type\":\"node\",\"instanceArgs\":{\"namespace\":\"html\",\"tag\":\"div\"},\"children\":[{\"props\":{\"style\":{\"display\":\"flex\",\"flex-direction\":\"column\"}},\"nodeType\":\"DOM\",\"type\":\"node\",\"instanceArgs\":{\"namespace\":\"html\",\"tag\":\"div\"},\"children\":[{\"props\":{\"className\":\"field interact-widget\"},\"nodeType\":\"DOM\",\"type\":\"node\",\"instanceArgs\":{\"namespace\":\"html\",\"tag\":\"div\"},\"children\":[{\"props\":{},\"nodeType\":\"Scope\",\"type\":\"node\",\"instanceArgs\":{\"imports\":{\"data\":[{\"name\":\"knockout\",\"type\":\"js\",\"url\":\"\\/assetserver\\/727383f2a47bd31570b7da84eee7b022dd6d7c78-knockout.js\"},{\"name\":\"knockout_punches\",\"type\":\"js\",\"url\":\"\\/assetserver\\/382b41b3b1bd9f26f75861d360bad7f8beea211f-knockout_punches.js\"},{\"name\":null,\"type\":\"js\",\"url\":\"\\/assetserver\\/5ab20f1060420992a9b82a65b735dee4d81ef413-all.js\"},{\"name\":null,\"type\":\"css\",\"url\":\"\\/assetserver\\/1cc0ed62837210b80a182cc3676512f895dab686-style.css\"},{\"name\":null,\"type\":\"css\",\"url\":\"\\/assetserver\\/2eee816f616df3549d7044d45e744fbf8d42bfa1-bulma_confined.min.css\"}],\"type\":\"async_block\"},\"id\":\"13693191764264467997\",\"handlers\":{\"changes\":[\"(function (val){return (val!=this.model[\\\"changes\\\"]()) ? (this.valueFromJulia[\\\"changes\\\"]=true, this.model[\\\"changes\\\"](val)) : undefined})\"],\"index\":[\"(function (val){return (val!=this.model[\\\"index\\\"]()) ? (this.valueFromJulia[\\\"index\\\"]=true, this.model[\\\"index\\\"](val)) : undefined})\"]},\"systemjs_options\":null,\"mount_callbacks\":[\"function () {\\n    var handler = (function (ko, koPunches) {\\n    ko.punches.enableAll();\\n    ko.bindingHandlers.numericValue = {\\n        init: function(element, valueAccessor, allBindings, data, context) {\\n            var stringified = ko.observable(ko.unwrap(valueAccessor()));\\n            stringified.subscribe(function(value) {\\n                var val = parseFloat(value);\\n                if (!isNaN(val)) {\\n                    valueAccessor()(val);\\n                }\\n            });\\n            valueAccessor().subscribe(function(value) {\\n                var str = JSON.stringify(value);\\n                if ((str == \\\"0\\\") && ([\\\"-0\\\", \\\"-0.\\\"].indexOf(stringified()) >= 0))\\n                     return;\\n                 if ([\\\"null\\\", \\\"\\\"].indexOf(str) >= 0)\\n                     return;\\n                stringified(str);\\n            });\\n            ko.applyBindingsToNode(\\n                element,\\n                {\\n                    value: stringified,\\n                    valueUpdate: allBindings.get('valueUpdate'),\\n                },\\n                context,\\n            );\\n        }\\n    };\\n    var json_data = {\\\"formatted_vals\\\":[\\\"1\\\",\\\"2\\\",\\\"3\\\",\\\"4\\\",\\\"5\\\",\\\"6\\\",\\\"7\\\",\\\"8\\\",\\\"9\\\",\\\"10\\\",\\\"11\\\",\\\"12\\\",\\\"13\\\",\\\"14\\\",\\\"15\\\",\\\"16\\\",\\\"17\\\",\\\"18\\\",\\\"19\\\",\\\"20\\\",\\\"21\\\",\\\"22\\\",\\\"23\\\",\\\"24\\\",\\\"25\\\",\\\"26\\\",\\\"27\\\",\\\"28\\\",\\\"29\\\",\\\"30\\\",\\\"31\\\",\\\"32\\\",\\\"33\\\",\\\"34\\\",\\\"35\\\",\\\"36\\\",\\\"37\\\",\\\"38\\\",\\\"39\\\",\\\"40\\\",\\\"41\\\",\\\"42\\\",\\\"43\\\",\\\"44\\\",\\\"45\\\",\\\"46\\\",\\\"47\\\",\\\"48\\\",\\\"49\\\",\\\"50\\\",\\\"51\\\",\\\"52\\\",\\\"53\\\",\\\"54\\\",\\\"55\\\",\\\"56\\\",\\\"57\\\",\\\"58\\\",\\\"59\\\",\\\"60\\\",\\\"61\\\",\\\"62\\\",\\\"63\\\",\\\"64\\\",\\\"65\\\",\\\"66\\\",\\\"67\\\",\\\"68\\\",\\\"69\\\",\\\"70\\\",\\\"71\\\",\\\"72\\\",\\\"73\\\",\\\"74\\\",\\\"75\\\",\\\"76\\\",\\\"77\\\",\\\"78\\\",\\\"79\\\",\\\"80\\\",\\\"81\\\",\\\"82\\\",\\\"83\\\",\\\"84\\\",\\\"85\\\",\\\"86\\\",\\\"87\\\",\\\"88\\\",\\\"89\\\",\\\"90\\\",\\\"91\\\",\\\"92\\\",\\\"93\\\",\\\"94\\\",\\\"95\\\",\\\"96\\\",\\\"97\\\",\\\"98\\\",\\\"99\\\",\\\"100\\\",\\\"101\\\"],\\\"changes\\\":WebIO.getval({\\\"name\\\":\\\"changes\\\",\\\"scope\\\":\\\"13693191764264467997\\\",\\\"id\\\":\\\"13657043337347474306\\\",\\\"type\\\":\\\"observable\\\"}),\\\"index\\\":WebIO.getval({\\\"name\\\":\\\"index\\\",\\\"scope\\\":\\\"13693191764264467997\\\",\\\"id\\\":\\\"7000693937198718537\\\",\\\"type\\\":\\\"observable\\\"})};\\n    var self = this;\\n    function AppViewModel() {\\n        for (var key in json_data) {\\n            var el = json_data[key];\\n            this[key] = Array.isArray(el) ? ko.observableArray(el) : ko.observable(el);\\n        }\\n        \\n        [this[\\\"formatted_val\\\"]=ko.computed(    function(){\\n        return this.formatted_vals()[parseInt(this.index())-(1)];\\n    }\\n,this)]\\n        [this[\\\"changes\\\"].subscribe((function (val){!(this.valueFromJulia[\\\"changes\\\"]) ? (WebIO.setval({\\\"name\\\":\\\"changes\\\",\\\"scope\\\":\\\"13693191764264467997\\\",\\\"id\\\":\\\"13657043337347474306\\\",\\\"type\\\":\\\"observable\\\"},val)) : undefined; return this.valueFromJulia[\\\"changes\\\"]=false}),self),this[\\\"index\\\"].subscribe((function (val){!(this.valueFromJulia[\\\"index\\\"]) ? (WebIO.setval({\\\"name\\\":\\\"index\\\",\\\"scope\\\":\\\"13693191764264467997\\\",\\\"id\\\":\\\"7000693937198718537\\\",\\\"type\\\":\\\"observable\\\"},val)) : undefined; return this.valueFromJulia[\\\"index\\\"]=false}),self)]\\n        \\n    }\\n    self.model = new AppViewModel();\\n    self.valueFromJulia = {};\\n    for (var key in json_data) {\\n        self.valueFromJulia[key] = false;\\n    }\\n    ko.applyBindings(self.model, self.dom);\\n}\\n);\\n    (WebIO.importBlock({\\\"data\\\":[{\\\"name\\\":\\\"knockout\\\",\\\"type\\\":\\\"js\\\",\\\"url\\\":\\\"\\/assetserver\\/727383f2a47bd31570b7da84eee7b022dd6d7c78-knockout.js\\\"},{\\\"name\\\":\\\"knockout_punches\\\",\\\"type\\\":\\\"js\\\",\\\"url\\\":\\\"\\/assetserver\\/382b41b3b1bd9f26f75861d360bad7f8beea211f-knockout_punches.js\\\"}],\\\"type\\\":\\\"async_block\\\"})).then((imports) => handler.apply(this, imports));\\n}\\n\"],\"observables\":{\"changes\":{\"sync\":false,\"id\":\"13657043337347474306\",\"value\":0},\"index\":{\"sync\":true,\"id\":\"7000693937198718537\",\"value\":51}}},\"children\":[{\"props\":{\"className\":\"interact-flex-row interact-widget\"},\"nodeType\":\"DOM\",\"type\":\"node\",\"instanceArgs\":{\"namespace\":\"html\",\"tag\":\"div\"},\"children\":[{\"props\":{\"className\":\"interact-flex-row-left\"},\"nodeType\":\"DOM\",\"type\":\"node\",\"instanceArgs\":{\"namespace\":\"html\",\"tag\":\"div\"},\"children\":[{\"props\":{\"className\":\"interact \",\"style\":{\"padding\":\"5px 10px 0px 10px\"}},\"nodeType\":\"DOM\",\"type\":\"node\",\"instanceArgs\":{\"namespace\":\"html\",\"tag\":\"label\"},\"children\":[\"time\"]}]},{\"props\":{\"className\":\"interact-flex-row-center\"},\"nodeType\":\"DOM\",\"type\":\"node\",\"instanceArgs\":{\"namespace\":\"html\",\"tag\":\"div\"},\"children\":[{\"props\":{\"max\":101,\"min\":1,\"attributes\":{\"type\":\"range\",\"data-bind\":\"numericValue: index, valueUpdate: 'input', event: {change: function (){this.changes(this.changes()+1)}}\",\"orient\":\"horizontal\"},\"step\":1,\"className\":\"slider slider is-fullwidth\",\"style\":{}},\"nodeType\":\"DOM\",\"type\":\"node\",\"instanceArgs\":{\"namespace\":\"html\",\"tag\":\"input\"},\"children\":[]}]},{\"props\":{\"className\":\"interact-flex-row-right\"},\"nodeType\":\"DOM\",\"type\":\"node\",\"instanceArgs\":{\"namespace\":\"html\",\"tag\":\"div\"},\"children\":[{\"props\":{\"attributes\":{\"data-bind\":\"text: formatted_val\"}},\"nodeType\":\"DOM\",\"type\":\"node\",\"instanceArgs\":{\"namespace\":\"html\",\"tag\":\"p\"},\"children\":[]}]}]}]}]},{\"props\":{\"className\":\"field interact-widget\"},\"nodeType\":\"DOM\",\"type\":\"node\",\"instanceArgs\":{\"namespace\":\"html\",\"tag\":\"div\"},\"children\":[{\"props\":{},\"nodeType\":\"Scope\",\"type\":\"node\",\"instanceArgs\":{\"imports\":{\"data\":[{\"name\":\"knockout\",\"type\":\"js\",\"url\":\"\\/assetserver\\/727383f2a47bd31570b7da84eee7b022dd6d7c78-knockout.js\"},{\"name\":\"knockout_punches\",\"type\":\"js\",\"url\":\"\\/assetserver\\/382b41b3b1bd9f26f75861d360bad7f8beea211f-knockout_punches.js\"},{\"name\":null,\"type\":\"js\",\"url\":\"\\/assetserver\\/5ab20f1060420992a9b82a65b735dee4d81ef413-all.js\"},{\"name\":null,\"type\":\"css\",\"url\":\"\\/assetserver\\/1cc0ed62837210b80a182cc3676512f895dab686-style.css\"},{\"name\":null,\"type\":\"css\",\"url\":\"\\/assetserver\\/2eee816f616df3549d7044d45e744fbf8d42bfa1-bulma_confined.min.css\"}],\"type\":\"async_block\"},\"id\":\"7777155395366762195\",\"handlers\":{\"changes\":[\"(function (val){return (val!=this.model[\\\"changes\\\"]()) ? (this.valueFromJulia[\\\"changes\\\"]=true, this.model[\\\"changes\\\"](val)) : undefined})\"],\"index\":[\"(function (val){return (val!=this.model[\\\"index\\\"]()) ? (this.valueFromJulia[\\\"index\\\"]=true, this.model[\\\"index\\\"](val)) : undefined})\"]},\"systemjs_options\":null,\"mount_callbacks\":[\"function () {\\n    var handler = (function (ko, koPunches) {\\n    ko.punches.enableAll();\\n    ko.bindingHandlers.numericValue = {\\n        init: function(element, valueAccessor, allBindings, data, context) {\\n            var stringified = ko.observable(ko.unwrap(valueAccessor()));\\n            stringified.subscribe(function(value) {\\n                var val = parseFloat(value);\\n                if (!isNaN(val)) {\\n                    valueAccessor()(val);\\n                }\\n            });\\n            valueAccessor().subscribe(function(value) {\\n                var str = JSON.stringify(value);\\n                if ((str == \\\"0\\\") && ([\\\"-0\\\", \\\"-0.\\\"].indexOf(stringified()) >= 0))\\n                     return;\\n                 if ([\\\"null\\\", \\\"\\\"].indexOf(str) >= 0)\\n                     return;\\n                stringified(str);\\n            });\\n            ko.applyBindingsToNode(\\n                element,\\n                {\\n                    value: stringified,\\n                    valueUpdate: allBindings.get('valueUpdate'),\\n                },\\n                context,\\n            );\\n        }\\n    };\\n    var json_data = {\\\"formatted_vals\\\":[\\\"0.1\\\",\\\"0.2\\\",\\\"0.3\\\",\\\"0.4\\\",\\\"0.5\\\",\\\"0.6\\\",\\\"0.7\\\",\\\"0.8\\\",\\\"0.9\\\",\\\"1.0\\\",\\\"1.1\\\",\\\"1.2\\\",\\\"1.3\\\",\\\"1.4\\\",\\\"1.5\\\",\\\"1.6\\\",\\\"1.7\\\",\\\"1.8\\\",\\\"1.9\\\",\\\"2.0\\\"],\\\"changes\\\":WebIO.getval({\\\"name\\\":\\\"changes\\\",\\\"scope\\\":\\\"7777155395366762195\\\",\\\"id\\\":\\\"1618825750075013330\\\",\\\"type\\\":\\\"observable\\\"}),\\\"index\\\":WebIO.getval({\\\"name\\\":\\\"index\\\",\\\"scope\\\":\\\"7777155395366762195\\\",\\\"id\\\":\\\"11448133287972189656\\\",\\\"type\\\":\\\"observable\\\"})};\\n    var self = this;\\n    function AppViewModel() {\\n        for (var key in json_data) {\\n            var el = json_data[key];\\n            this[key] = Array.isArray(el) ? ko.observableArray(el) : ko.observable(el);\\n        }\\n        \\n        [this[\\\"formatted_val\\\"]=ko.computed(    function(){\\n        return this.formatted_vals()[parseInt(this.index())-(1)];\\n    }\\n,this)]\\n        [this[\\\"changes\\\"].subscribe((function (val){!(this.valueFromJulia[\\\"changes\\\"]) ? (WebIO.setval({\\\"name\\\":\\\"changes\\\",\\\"scope\\\":\\\"7777155395366762195\\\",\\\"id\\\":\\\"1618825750075013330\\\",\\\"type\\\":\\\"observable\\\"},val)) : undefined; return this.valueFromJulia[\\\"changes\\\"]=false}),self),this[\\\"index\\\"].subscribe((function (val){!(this.valueFromJulia[\\\"index\\\"]) ? (WebIO.setval({\\\"name\\\":\\\"index\\\",\\\"scope\\\":\\\"7777155395366762195\\\",\\\"id\\\":\\\"11448133287972189656\\\",\\\"type\\\":\\\"observable\\\"},val)) : undefined; return this.valueFromJulia[\\\"index\\\"]=false}),self)]\\n        \\n    }\\n    self.model = new AppViewModel();\\n    self.valueFromJulia = {};\\n    for (var key in json_data) {\\n        self.valueFromJulia[key] = false;\\n    }\\n    ko.applyBindings(self.model, self.dom);\\n}\\n);\\n    (WebIO.importBlock({\\\"data\\\":[{\\\"name\\\":\\\"knockout\\\",\\\"type\\\":\\\"js\\\",\\\"url\\\":\\\"\\/assetserver\\/727383f2a47bd31570b7da84eee7b022dd6d7c78-knockout.js\\\"},{\\\"name\\\":\\\"knockout_punches\\\",\\\"type\\\":\\\"js\\\",\\\"url\\\":\\\"\\/assetserver\\/382b41b3b1bd9f26f75861d360bad7f8beea211f-knockout_punches.js\\\"}],\\\"type\\\":\\\"async_block\\\"})).then((imports) => handler.apply(this, imports));\\n}\\n\"],\"observables\":{\"changes\":{\"sync\":false,\"id\":\"1618825750075013330\",\"value\":0},\"index\":{\"sync\":true,\"id\":\"11448133287972189656\",\"value\":10}}},\"children\":[{\"props\":{\"className\":\"interact-flex-row interact-widget\"},\"nodeType\":\"DOM\",\"type\":\"node\",\"instanceArgs\":{\"namespace\":\"html\",\"tag\":\"div\"},\"children\":[{\"props\":{\"className\":\"interact-flex-row-left\"},\"nodeType\":\"DOM\",\"type\":\"node\",\"instanceArgs\":{\"namespace\":\"html\",\"tag\":\"div\"},\"children\":[{\"props\":{\"className\":\"interact \",\"style\":{\"padding\":\"5px 10px 0px 10px\"}},\"nodeType\":\"DOM\",\"type\":\"node\",\"instanceArgs\":{\"namespace\":\"html\",\"tag\":\"label\"},\"children\":[\"scale\"]}]},{\"props\":{\"className\":\"interact-flex-row-center\"},\"nodeType\":\"DOM\",\"type\":\"node\",\"instanceArgs\":{\"namespace\":\"html\",\"tag\":\"div\"},\"children\":[{\"props\":{\"max\":20,\"min\":1,\"attributes\":{\"type\":\"range\",\"data-bind\":\"numericValue: index, valueUpdate: 'input', event: {change: function (){this.changes(this.changes()+1)}}\",\"orient\":\"horizontal\"},\"step\":1,\"className\":\"slider slider is-fullwidth\",\"style\":{}},\"nodeType\":\"DOM\",\"type\":\"node\",\"instanceArgs\":{\"namespace\":\"html\",\"tag\":\"input\"},\"children\":[]}]},{\"props\":{\"className\":\"interact-flex-row-right\"},\"nodeType\":\"DOM\",\"type\":\"node\",\"instanceArgs\":{\"namespace\":\"html\",\"tag\":\"div\"},\"children\":[{\"props\":{\"attributes\":{\"data-bind\":\"text: formatted_val\"}},\"nodeType\":\"DOM\",\"type\":\"node\",\"instanceArgs\":{\"namespace\":\"html\",\"tag\":\"p\"},\"children\":[]}]}]}]}]},{\"props\":{\"style\":{\"display\":\"flex\",\"flex-direction\":\"row\"}},\"nodeType\":\"DOM\",\"type\":\"node\",\"instanceArgs\":{\"namespace\":\"html\",\"tag\":\"div\"},\"children\":[{\"props\":{\"className\":\"interact-widget\"},\"nodeType\":\"DOM\",\"type\":\"node\",\"instanceArgs\":{\"namespace\":\"html\",\"tag\":\"div\"},\"children\":[{\"props\":{},\"nodeType\":\"Scope\",\"type\":\"node\",\"instanceArgs\":{\"imports\":{\"data\":[{\"name\":null,\"type\":\"js\",\"url\":\"\\/assetserver\\/dd22ed1bf1896c2748f3fe616ce0b838adc895c1-katex.min.js\"},{\"name\":null,\"type\":\"css\",\"url\":\"\\/assetserver\\/46517a424aa5e6cffc1360d7e0848b601c584ee3-katex.min.css\"}],\"type\":\"async_block\"},\"id\":\"3946609360029318114\",\"handlers\":{\"value\":[\"(function (txt){return this.k.render(txt,this.container)})\"]},\"systemjs_options\":null,\"mount_callbacks\":[\"function () {\\n    var handler = ((function (k){this.k=k; this.container=this.dom.querySelector(\\\"#container\\\"); return k.render(\\\"\\\\\\\\;\\\\\\\\;\\\",this.container)}));\\n    (WebIO.importBlock({\\\"data\\\":[{\\\"name\\\":null,\\\"type\\\":\\\"js\\\",\\\"url\\\":\\\"\\/assetserver\\/dd22ed1bf1896c2748f3fe616ce0b838adc895c1-katex.min.js\\\"},{\\\"name\\\":null,\\\"type\\\":\\\"css\\\",\\\"url\\\":\\\"\\/assetserver\\/46517a424aa5e6cffc1360d7e0848b601c584ee3-katex.min.css\\\"}],\\\"type\\\":\\\"async_block\\\"})).then((imports) => handler.apply(this, imports));\\n}\\n\"],\"observables\":{\"value\":{\"sync\":false,\"id\":\"4259256243133893168\",\"value\":\"\\\\;\\\\;\"}}},\"children\":[{\"props\":{\"id\":\"container\"},\"nodeType\":\"DOM\",\"type\":\"node\",\"instanceArgs\":{\"namespace\":\"html\",\"tag\":\"div\"},\"children\":[]}]}]},{\"props\":{\"className\":\"field interact-widget\"},\"nodeType\":\"DOM\",\"type\":\"node\",\"instanceArgs\":{\"namespace\":\"html\",\"tag\":\"div\"},\"children\":[{\"props\":{},\"nodeType\":\"Scope\",\"type\":\"node\",\"instanceArgs\":{\"imports\":{\"data\":[{\"name\":\"knockout\",\"type\":\"js\",\"url\":\"\\/assetserver\\/727383f2a47bd31570b7da84eee7b022dd6d7c78-knockout.js\"},{\"name\":\"knockout_punches\",\"type\":\"js\",\"url\":\"\\/assetserver\\/382b41b3b1bd9f26f75861d360bad7f8beea211f-knockout_punches.js\"},{\"name\":null,\"type\":\"js\",\"url\":\"\\/assetserver\\/5ab20f1060420992a9b82a65b735dee4d81ef413-all.js\"},{\"name\":null,\"type\":\"css\",\"url\":\"\\/assetserver\\/1cc0ed62837210b80a182cc3676512f895dab686-style.css\"},{\"name\":null,\"type\":\"css\",\"url\":\"\\/assetserver\\/2eee816f616df3549d7044d45e744fbf8d42bfa1-bulma_confined.min.css\"}],\"type\":\"async_block\"},\"id\":\"16754735631927482691\",\"handlers\":{\"loading\":[\"(function (val){return (val!=this.model[\\\"loading\\\"]()) ? (this.valueFromJulia[\\\"loading\\\"]=true, this.model[\\\"loading\\\"](val)) : undefined})\"],\"clicks\":[\"(function (val){return (val!=this.model[\\\"clicks\\\"]()) ? (this.valueFromJulia[\\\"clicks\\\"]=true, this.model[\\\"clicks\\\"](val)) : undefined})\"]},\"systemjs_options\":null,\"mount_callbacks\":[\"function () {\\n    var handler = (function (ko, koPunches) {\\n    ko.punches.enableAll();\\n    ko.bindingHandlers.numericValue = {\\n        init: function(element, valueAccessor, allBindings, data, context) {\\n            var stringified = ko.observable(ko.unwrap(valueAccessor()));\\n            stringified.subscribe(function(value) {\\n                var val = parseFloat(value);\\n                if (!isNaN(val)) {\\n                    valueAccessor()(val);\\n                }\\n            });\\n            valueAccessor().subscribe(function(value) {\\n                var str = JSON.stringify(value);\\n                if ((str == \\\"0\\\") && ([\\\"-0\\\", \\\"-0.\\\"].indexOf(stringified()) >= 0))\\n                     return;\\n                 if ([\\\"null\\\", \\\"\\\"].indexOf(str) >= 0)\\n                     return;\\n                stringified(str);\\n            });\\n            ko.applyBindingsToNode(\\n                element,\\n                {\\n                    value: stringified,\\n                    valueUpdate: allBindings.get('valueUpdate'),\\n                },\\n                context,\\n            );\\n        }\\n    };\\n    var json_data = {\\\"loading\\\":WebIO.getval({\\\"name\\\":\\\"loading\\\",\\\"scope\\\":\\\"16754735631927482691\\\",\\\"id\\\":\\\"12176001550604526024\\\",\\\"type\\\":\\\"observable\\\"}),\\\"clicks\\\":WebIO.getval({\\\"name\\\":\\\"clicks\\\",\\\"scope\\\":\\\"16754735631927482691\\\",\\\"id\\\":\\\"16502556942689838282\\\",\\\"type\\\":\\\"observable\\\"})};\\n    var self = this;\\n    function AppViewModel() {\\n        for (var key in json_data) {\\n            var el = json_data[key];\\n            this[key] = Array.isArray(el) ? ko.observableArray(el) : ko.observable(el);\\n        }\\n        \\n        \\n        [this[\\\"loading\\\"].subscribe((function (val){!(this.valueFromJulia[\\\"loading\\\"]) ? (WebIO.setval({\\\"name\\\":\\\"loading\\\",\\\"scope\\\":\\\"16754735631927482691\\\",\\\"id\\\":\\\"12176001550604526024\\\",\\\"type\\\":\\\"observable\\\"},val)) : undefined; return this.valueFromJulia[\\\"loading\\\"]=false}),self),this[\\\"clicks\\\"].subscribe((function (val){!(this.valueFromJulia[\\\"clicks\\\"]) ? (WebIO.setval({\\\"name\\\":\\\"clicks\\\",\\\"scope\\\":\\\"16754735631927482691\\\",\\\"id\\\":\\\"16502556942689838282\\\",\\\"type\\\":\\\"observable\\\"},val)) : undefined; return this.valueFromJulia[\\\"clicks\\\"]=false}),self)]\\n        \\n    }\\n    self.model = new AppViewModel();\\n    self.valueFromJulia = {};\\n    for (var key in json_data) {\\n        self.valueFromJulia[key] = false;\\n    }\\n    ko.applyBindings(self.model, self.dom);\\n}\\n);\\n    (WebIO.importBlock({\\\"data\\\":[{\\\"name\\\":\\\"knockout\\\",\\\"type\\\":\\\"js\\\",\\\"url\\\":\\\"\\/assetserver\\/727383f2a47bd31570b7da84eee7b022dd6d7c78-knockout.js\\\"},{\\\"name\\\":\\\"knockout_punches\\\",\\\"type\\\":\\\"js\\\",\\\"url\\\":\\\"\\/assetserver\\/382b41b3b1bd9f26f75861d360bad7f8beea211f-knockout_punches.js\\\"}],\\\"type\\\":\\\"async_block\\\"})).then((imports) => handler.apply(this, imports));\\n}\\n\"],\"observables\":{\"loading\":{\"sync\":false,\"id\":\"12176001550604526024\",\"value\":false},\"clicks\":{\"sync\":true,\"id\":\"16502556942689838282\",\"value\":0}}},\"children\":[{\"props\":{\"attributes\":{\"data-bind\":\"click: function (){this.clicks(this.clicks()+1)}, css: {'is-loading' : loading}\"},\"className\":\"is-medium button is-primary\",\"style\":{}},\"nodeType\":\"DOM\",\"type\":\"node\",\"instanceArgs\":{\"namespace\":\"html\",\"tag\":\"button\"},\"children\":[\"run\"]}]}]},{\"props\":{\"className\":\"interact-widget\"},\"nodeType\":\"DOM\",\"type\":\"node\",\"instanceArgs\":{\"namespace\":\"html\",\"tag\":\"div\"},\"children\":[{\"props\":{},\"nodeType\":\"Scope\",\"type\":\"node\",\"instanceArgs\":{\"imports\":{\"data\":[{\"name\":null,\"type\":\"js\",\"url\":\"\\/assetserver\\/dd22ed1bf1896c2748f3fe616ce0b838adc895c1-katex.min.js\"},{\"name\":null,\"type\":\"css\",\"url\":\"\\/assetserver\\/46517a424aa5e6cffc1360d7e0848b601c584ee3-katex.min.css\"}],\"type\":\"async_block\"},\"id\":\"3946609360029318114\",\"handlers\":{\"value\":[\"(function (txt){return this.k.render(txt,this.container)})\"]},\"systemjs_options\":null,\"mount_callbacks\":[\"function () {\\n    var handler = ((function (k){this.k=k; this.container=this.dom.querySelector(\\\"#container\\\"); return k.render(\\\"\\\\\\\\;\\\\\\\\;\\\",this.container)}));\\n    (WebIO.importBlock({\\\"data\\\":[{\\\"name\\\":null,\\\"type\\\":\\\"js\\\",\\\"url\\\":\\\"\\/assetserver\\/dd22ed1bf1896c2748f3fe616ce0b838adc895c1-katex.min.js\\\"},{\\\"name\\\":null,\\\"type\\\":\\\"css\\\",\\\"url\\\":\\\"\\/assetserver\\/46517a424aa5e6cffc1360d7e0848b601c584ee3-katex.min.css\\\"}],\\\"type\\\":\\\"async_block\\\"})).then((imports) => handler.apply(this, imports));\\n}\\n\"],\"observables\":{\"value\":{\"sync\":false,\"id\":\"4259256243133893168\",\"value\":\"\\\\;\\\\;\"}}},\"children\":[{\"props\":{\"id\":\"container\"},\"nodeType\":\"DOM\",\"type\":\"node\",\"instanceArgs\":{\"namespace\":\"html\",\"tag\":\"div\"},\"children\":[]}]}]},{\"props\":{\"className\":\"field interact-widget\"},\"nodeType\":\"DOM\",\"type\":\"node\",\"instanceArgs\":{\"namespace\":\"html\",\"tag\":\"div\"},\"children\":[{\"props\":{},\"nodeType\":\"Scope\",\"type\":\"node\",\"instanceArgs\":{\"imports\":{\"data\":[{\"name\":\"knockout\",\"type\":\"js\",\"url\":\"\\/assetserver\\/727383f2a47bd31570b7da84eee7b022dd6d7c78-knockout.js\"},{\"name\":\"knockout_punches\",\"type\":\"js\",\"url\":\"\\/assetserver\\/382b41b3b1bd9f26f75861d360bad7f8beea211f-knockout_punches.js\"},{\"name\":null,\"type\":\"js\",\"url\":\"\\/assetserver\\/5ab20f1060420992a9b82a65b735dee4d81ef413-all.js\"},{\"name\":null,\"type\":\"css\",\"url\":\"\\/assetserver\\/1cc0ed62837210b80a182cc3676512f895dab686-style.css\"},{\"name\":null,\"type\":\"css\",\"url\":\"\\/assetserver\\/2eee816f616df3549d7044d45e744fbf8d42bfa1-bulma_confined.min.css\"}],\"type\":\"async_block\"},\"id\":\"3562011449504821528\",\"handlers\":{\"loading\":[\"(function (val){return (val!=this.model[\\\"loading\\\"]()) ? (this.valueFromJulia[\\\"loading\\\"]=true, this.model[\\\"loading\\\"](val)) : undefined})\"],\"clicks\":[\"(function (val){return (val!=this.model[\\\"clicks\\\"]()) ? (this.valueFromJulia[\\\"clicks\\\"]=true, this.model[\\\"clicks\\\"](val)) : undefined})\"]},\"systemjs_options\":null,\"mount_callbacks\":[\"function () {\\n    var handler = (function (ko, koPunches) {\\n    ko.punches.enableAll();\\n    ko.bindingHandlers.numericValue = {\\n        init: function(element, valueAccessor, allBindings, data, context) {\\n            var stringified = ko.observable(ko.unwrap(valueAccessor()));\\n            stringified.subscribe(function(value) {\\n                var val = parseFloat(value);\\n                if (!isNaN(val)) {\\n                    valueAccessor()(val);\\n                }\\n            });\\n            valueAccessor().subscribe(function(value) {\\n                var str = JSON.stringify(value);\\n                if ((str == \\\"0\\\") && ([\\\"-0\\\", \\\"-0.\\\"].indexOf(stringified()) >= 0))\\n                     return;\\n                 if ([\\\"null\\\", \\\"\\\"].indexOf(str) >= 0)\\n                     return;\\n                stringified(str);\\n            });\\n            ko.applyBindingsToNode(\\n                element,\\n                {\\n                    value: stringified,\\n                    valueUpdate: allBindings.get('valueUpdate'),\\n                },\\n                context,\\n            );\\n        }\\n    };\\n    var json_data = {\\\"loading\\\":WebIO.getval({\\\"name\\\":\\\"loading\\\",\\\"scope\\\":\\\"3562011449504821528\\\",\\\"id\\\":\\\"11313335835908710365\\\",\\\"type\\\":\\\"observable\\\"}),\\\"clicks\\\":WebIO.getval({\\\"name\\\":\\\"clicks\\\",\\\"scope\\\":\\\"3562011449504821528\\\",\\\"id\\\":\\\"7858809198161068362\\\",\\\"type\\\":\\\"observable\\\"})};\\n    var self = this;\\n    function AppViewModel() {\\n        for (var key in json_data) {\\n            var el = json_data[key];\\n            this[key] = Array.isArray(el) ? ko.observableArray(el) : ko.observable(el);\\n        }\\n        \\n        \\n        [this[\\\"loading\\\"].subscribe((function (val){!(this.valueFromJulia[\\\"loading\\\"]) ? (WebIO.setval({\\\"name\\\":\\\"loading\\\",\\\"scope\\\":\\\"3562011449504821528\\\",\\\"id\\\":\\\"11313335835908710365\\\",\\\"type\\\":\\\"observable\\\"},val)) : undefined; return this.valueFromJulia[\\\"loading\\\"]=false}),self),this[\\\"clicks\\\"].subscribe((function (val){!(this.valueFromJulia[\\\"clicks\\\"]) ? (WebIO.setval({\\\"name\\\":\\\"clicks\\\",\\\"scope\\\":\\\"3562011449504821528\\\",\\\"id\\\":\\\"7858809198161068362\\\",\\\"type\\\":\\\"observable\\\"},val)) : undefined; return this.valueFromJulia[\\\"clicks\\\"]=false}),self)]\\n        \\n    }\\n    self.model = new AppViewModel();\\n    self.valueFromJulia = {};\\n    for (var key in json_data) {\\n        self.valueFromJulia[key] = false;\\n    }\\n    ko.applyBindings(self.model, self.dom);\\n}\\n);\\n    (WebIO.importBlock({\\\"data\\\":[{\\\"name\\\":\\\"knockout\\\",\\\"type\\\":\\\"js\\\",\\\"url\\\":\\\"\\/assetserver\\/727383f2a47bd31570b7da84eee7b022dd6d7c78-knockout.js\\\"},{\\\"name\\\":\\\"knockout_punches\\\",\\\"type\\\":\\\"js\\\",\\\"url\\\":\\\"\\/assetserver\\/382b41b3b1bd9f26f75861d360bad7f8beea211f-knockout_punches.js\\\"}],\\\"type\\\":\\\"async_block\\\"})).then((imports) => handler.apply(this, imports));\\n}\\n\"],\"observables\":{\"loading\":{\"sync\":false,\"id\":\"11313335835908710365\",\"value\":false},\"clicks\":{\"sync\":true,\"id\":\"7858809198161068362\",\"value\":0}}},\"children\":[{\"props\":{\"attributes\":{\"data-bind\":\"click: function (){this.clicks(this.clicks()+1)}, css: {'is-loading' : loading}\"},\"className\":\"is-medium button is-primary\",\"style\":{}},\"nodeType\":\"DOM\",\"type\":\"node\",\"instanceArgs\":{\"namespace\":\"html\",\"tag\":\"button\"},\"children\":[\"stop\"]}]}]},{\"props\":{\"className\":\"interact-widget\"},\"nodeType\":\"DOM\",\"type\":\"node\",\"instanceArgs\":{\"namespace\":\"html\",\"tag\":\"div\"},\"children\":[{\"props\":{},\"nodeType\":\"Scope\",\"type\":\"node\",\"instanceArgs\":{\"imports\":{\"data\":[{\"name\":null,\"type\":\"js\",\"url\":\"\\/assetserver\\/dd22ed1bf1896c2748f3fe616ce0b838adc895c1-katex.min.js\"},{\"name\":null,\"type\":\"css\",\"url\":\"\\/assetserver\\/46517a424aa5e6cffc1360d7e0848b601c584ee3-katex.min.css\"}],\"type\":\"async_block\"},\"id\":\"3946609360029318114\",\"handlers\":{\"value\":[\"(function (txt){return this.k.render(txt,this.container)})\"]},\"systemjs_options\":null,\"mount_callbacks\":[\"function () {\\n    var handler = ((function (k){this.k=k; this.container=this.dom.querySelector(\\\"#container\\\"); return k.render(\\\"\\\\\\\\;\\\\\\\\;\\\",this.container)}));\\n    (WebIO.importBlock({\\\"data\\\":[{\\\"name\\\":null,\\\"type\\\":\\\"js\\\",\\\"url\\\":\\\"\\/assetserver\\/dd22ed1bf1896c2748f3fe616ce0b838adc895c1-katex.min.js\\\"},{\\\"name\\\":null,\\\"type\\\":\\\"css\\\",\\\"url\\\":\\\"\\/assetserver\\/46517a424aa5e6cffc1360d7e0848b601c584ee3-katex.min.css\\\"}],\\\"type\\\":\\\"async_block\\\"})).then((imports) => handler.apply(this, imports));\\n}\\n\"],\"observables\":{\"value\":{\"sync\":false,\"id\":\"4259256243133893168\",\"value\":\"\\\\;\\\\;\"}}},\"children\":[{\"props\":{\"id\":\"container\"},\"nodeType\":\"DOM\",\"type\":\"node\",\"instanceArgs\":{\"namespace\":\"html\",\"tag\":\"div\"},\"children\":[]}]}]},{\"props\":{\"className\":\"field interact-widget\"},\"nodeType\":\"DOM\",\"type\":\"node\",\"instanceArgs\":{\"namespace\":\"html\",\"tag\":\"div\"},\"children\":[{\"props\":{},\"nodeType\":\"Scope\",\"type\":\"node\",\"instanceArgs\":{\"imports\":{\"data\":[{\"name\":\"knockout\",\"type\":\"js\",\"url\":\"\\/assetserver\\/727383f2a47bd31570b7da84eee7b022dd6d7c78-knockout.js\"},{\"name\":\"knockout_punches\",\"type\":\"js\",\"url\":\"\\/assetserver\\/382b41b3b1bd9f26f75861d360bad7f8beea211f-knockout_punches.js\"},{\"name\":null,\"type\":\"js\",\"url\":\"\\/assetserver\\/5ab20f1060420992a9b82a65b735dee4d81ef413-all.js\"},{\"name\":null,\"type\":\"css\",\"url\":\"\\/assetserver\\/1cc0ed62837210b80a182cc3676512f895dab686-style.css\"},{\"name\":null,\"type\":\"css\",\"url\":\"\\/assetserver\\/2eee816f616df3549d7044d45e744fbf8d42bfa1-bulma_confined.min.css\"}],\"type\":\"async_block\"},\"id\":\"11026206512220441168\",\"handlers\":{\"loading\":[\"(function (val){return (val!=this.model[\\\"loading\\\"]()) ? (this.valueFromJulia[\\\"loading\\\"]=true, this.model[\\\"loading\\\"](val)) : undefined})\"],\"clicks\":[\"(function (val){return (val!=this.model[\\\"clicks\\\"]()) ? (this.valueFromJulia[\\\"clicks\\\"]=true, this.model[\\\"clicks\\\"](val)) : undefined})\"]},\"systemjs_options\":null,\"mount_callbacks\":[\"function () {\\n    var handler = (function (ko, koPunches) {\\n    ko.punches.enableAll();\\n    ko.bindingHandlers.numericValue = {\\n        init: function(element, valueAccessor, allBindings, data, context) {\\n            var stringified = ko.observable(ko.unwrap(valueAccessor()));\\n            stringified.subscribe(function(value) {\\n                var val = parseFloat(value);\\n                if (!isNaN(val)) {\\n                    valueAccessor()(val);\\n                }\\n            });\\n            valueAccessor().subscribe(function(value) {\\n                var str = JSON.stringify(value);\\n                if ((str == \\\"0\\\") && ([\\\"-0\\\", \\\"-0.\\\"].indexOf(stringified()) >= 0))\\n                     return;\\n                 if ([\\\"null\\\", \\\"\\\"].indexOf(str) >= 0)\\n                     return;\\n                stringified(str);\\n            });\\n            ko.applyBindingsToNode(\\n                element,\\n                {\\n                    value: stringified,\\n                    valueUpdate: allBindings.get('valueUpdate'),\\n                },\\n                context,\\n            );\\n        }\\n    };\\n    var json_data = {\\\"loading\\\":WebIO.getval({\\\"name\\\":\\\"loading\\\",\\\"scope\\\":\\\"11026206512220441168\\\",\\\"id\\\":\\\"3921837179233002943\\\",\\\"type\\\":\\\"observable\\\"}),\\\"clicks\\\":WebIO.getval({\\\"name\\\":\\\"clicks\\\",\\\"scope\\\":\\\"11026206512220441168\\\",\\\"id\\\":\\\"15645495922008330300\\\",\\\"type\\\":\\\"observable\\\"})};\\n    var self = this;\\n    function AppViewModel() {\\n        for (var key in json_data) {\\n            var el = json_data[key];\\n            this[key] = Array.isArray(el) ? ko.observableArray(el) : ko.observable(el);\\n        }\\n        \\n        \\n        [this[\\\"loading\\\"].subscribe((function (val){!(this.valueFromJulia[\\\"loading\\\"]) ? (WebIO.setval({\\\"name\\\":\\\"loading\\\",\\\"scope\\\":\\\"11026206512220441168\\\",\\\"id\\\":\\\"3921837179233002943\\\",\\\"type\\\":\\\"observable\\\"},val)) : undefined; return this.valueFromJulia[\\\"loading\\\"]=false}),self),this[\\\"clicks\\\"].subscribe((function (val){!(this.valueFromJulia[\\\"clicks\\\"]) ? (WebIO.setval({\\\"name\\\":\\\"clicks\\\",\\\"scope\\\":\\\"11026206512220441168\\\",\\\"id\\\":\\\"15645495922008330300\\\",\\\"type\\\":\\\"observable\\\"},val)) : undefined; return this.valueFromJulia[\\\"clicks\\\"]=false}),self)]\\n        \\n    }\\n    self.model = new AppViewModel();\\n    self.valueFromJulia = {};\\n    for (var key in json_data) {\\n        self.valueFromJulia[key] = false;\\n    }\\n    ko.applyBindings(self.model, self.dom);\\n}\\n);\\n    (WebIO.importBlock({\\\"data\\\":[{\\\"name\\\":\\\"knockout\\\",\\\"type\\\":\\\"js\\\",\\\"url\\\":\\\"\\/assetserver\\/727383f2a47bd31570b7da84eee7b022dd6d7c78-knockout.js\\\"},{\\\"name\\\":\\\"knockout_punches\\\",\\\"type\\\":\\\"js\\\",\\\"url\\\":\\\"\\/assetserver\\/382b41b3b1bd9f26f75861d360bad7f8beea211f-knockout_punches.js\\\"}],\\\"type\\\":\\\"async_block\\\"})).then((imports) => handler.apply(this, imports));\\n}\\n\"],\"observables\":{\"loading\":{\"sync\":false,\"id\":\"3921837179233002943\",\"value\":false},\"clicks\":{\"sync\":true,\"id\":\"15645495922008330300\",\"value\":0}}},\"children\":[{\"props\":{\"attributes\":{\"data-bind\":\"click: function (){this.clicks(this.clicks()+1)}, css: {'is-loading' : loading}\"},\"className\":\"is-medium button is-primary\",\"style\":{}},\"nodeType\":\"DOM\",\"type\":\"node\",\"instanceArgs\":{\"namespace\":\"html\",\"tag\":\"button\"},\"children\":[\"save\"]}]}]}]}]},{\"props\":{\"className\":\"interact-widget\"},\"nodeType\":\"DOM\",\"type\":\"node\",\"instanceArgs\":{\"namespace\":\"html\",\"tag\":\"div\"},\"children\":[{\"props\":{},\"nodeType\":\"Scope\",\"type\":\"node\",\"instanceArgs\":{\"imports\":{\"data\":[{\"name\":null,\"type\":\"js\",\"url\":\"\\/assetserver\\/dd22ed1bf1896c2748f3fe616ce0b838adc895c1-katex.min.js\"},{\"name\":null,\"type\":\"css\",\"url\":\"\\/assetserver\\/46517a424aa5e6cffc1360d7e0848b601c584ee3-katex.min.css\"}],\"type\":\"async_block\"},\"id\":\"3946609360029318114\",\"handlers\":{\"value\":[\"(function (txt){return this.k.render(txt,this.container)})\"]},\"systemjs_options\":null,\"mount_callbacks\":[\"function () {\\n    var handler = ((function (k){this.k=k; this.container=this.dom.querySelector(\\\"#container\\\"); return k.render(\\\"\\\\\\\\;\\\\\\\\;\\\",this.container)}));\\n    (WebIO.importBlock({\\\"data\\\":[{\\\"name\\\":null,\\\"type\\\":\\\"js\\\",\\\"url\\\":\\\"\\/assetserver\\/dd22ed1bf1896c2748f3fe616ce0b838adc895c1-katex.min.js\\\"},{\\\"name\\\":null,\\\"type\\\":\\\"css\\\",\\\"url\\\":\\\"\\/assetserver\\/46517a424aa5e6cffc1360d7e0848b601c584ee3-katex.min.css\\\"}],\\\"type\\\":\\\"async_block\\\"})).then((imports) => handler.apply(this, imports));\\n}\\n\"],\"observables\":{\"value\":{\"sync\":false,\"id\":\"4259256243133893168\",\"value\":\"\\\\;\\\\;\"}}},\"children\":[{\"props\":{\"id\":\"container\"},\"nodeType\":\"DOM\",\"type\":\"node\",\"instanceArgs\":{\"namespace\":\"html\",\"tag\":\"div\"},\"children\":[]}]}]},{\"props\":{},\"nodeType\":\"Scope\",\"type\":\"node\",\"instanceArgs\":{\"imports\":{\"data\":[],\"type\":\"async_block\"},\"id\":\"7334065828332589589\",\"handlers\":{\"obs-output\":[\"function (value, scope) {\\n    scope.setInnerHTML(value);\\n}\\n\"]},\"systemjs_options\":null,\"mount_callbacks\":[],\"observables\":{\"obs-output\":{\"sync\":false,\"id\":\"1503188243946200286\",\"value\":\"<img src='data:image\\/png;base64,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'><\\/img>\"}}},\"children\":[{\"props\":{\"className\":\"webio-observable\",\"setInnerHtml\":\"<img src='data:image\\/png;base64,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'><\\/img>\"},\"nodeType\":\"DOM\",\"type\":\"node\",\"instanceArgs\":{\"namespace\":\"html\",\"tag\":\"div\"},\"children\":[]}]},{\"props\":{\"className\":\"interact-widget\"},\"nodeType\":\"DOM\",\"type\":\"node\",\"instanceArgs\":{\"namespace\":\"html\",\"tag\":\"div\"},\"children\":[{\"props\":{},\"nodeType\":\"Scope\",\"type\":\"node\",\"instanceArgs\":{\"imports\":{\"data\":[{\"name\":null,\"type\":\"js\",\"url\":\"\\/assetserver\\/dd22ed1bf1896c2748f3fe616ce0b838adc895c1-katex.min.js\"},{\"name\":null,\"type\":\"css\",\"url\":\"\\/assetserver\\/46517a424aa5e6cffc1360d7e0848b601c584ee3-katex.min.css\"}],\"type\":\"async_block\"},\"id\":\"3946609360029318114\",\"handlers\":{\"value\":[\"(function (txt){return this.k.render(txt,this.container)})\"]},\"systemjs_options\":null,\"mount_callbacks\":[\"function () {\\n    var handler = ((function (k){this.k=k; this.container=this.dom.querySelector(\\\"#container\\\"); return k.render(\\\"\\\\\\\\;\\\\\\\\;\\\",this.container)}));\\n    (WebIO.importBlock({\\\"data\\\":[{\\\"name\\\":null,\\\"type\\\":\\\"js\\\",\\\"url\\\":\\\"\\/assetserver\\/dd22ed1bf1896c2748f3fe616ce0b838adc895c1-katex.min.js\\\"},{\\\"name\\\":null,\\\"type\\\":\\\"css\\\",\\\"url\\\":\\\"\\/assetserver\\/46517a424aa5e6cffc1360d7e0848b601c584ee3-katex.min.css\\\"}],\\\"type\\\":\\\"async_block\\\"})).then((imports) => handler.apply(this, imports));\\n}\\n\"],\"observables\":{\"value\":{\"sync\":false,\"id\":\"4259256243133893168\",\"value\":\"\\\\;\\\\;\"}}},\"children\":[{\"props\":{\"id\":\"container\"},\"nodeType\":\"DOM\",\"type\":\"node\",\"instanceArgs\":{\"namespace\":\"html\",\"tag\":\"div\"},\"children\":[]}]}]},{\"props\":{\"style\":{\"display\":\"flex\",\"flex-direction\":\"column\"}},\"nodeType\":\"DOM\",\"type\":\"node\",\"instanceArgs\":{\"namespace\":\"html\",\"tag\":\"div\"},\"children\":[]}]}]},\n",
       "        window,\n",
       "    );\n",
       "    })()\n",
       "    </script>\n",
       "</div>\n"
      ],
      "text/plain": [
       "WebIO.Node{WebIO.DOM}(WebIO.DOM(:html, :div), Any[WebIO.Node{WebIO.DOM}(WebIO.DOM(:html, :div), Any[WebIO.Node{WebIO.DOM}(WebIO.DOM(:html, :div), Any[WebIO.Node{WebIO.DOM}(WebIO.DOM(:html, :div), Any[WebIO.Scope(WebIO.Node{WebIO.DOM}(WebIO.DOM(:html, :div), Any[WebIO.Node{WebIO.DOM}(WebIO.DOM(:html, :div), Any[WebIO.Node{WebIO.DOM}(WebIO.DOM(:html, :label), Any[\"time\"], Dict{Symbol, Any}(:className => \"interact \", :style => Dict{Any, Any}(:padding => \"5px 10px 0px 10px\")))], Dict{Symbol, Any}(:className => \"interact-flex-row-left\")), WebIO.Node{WebIO.DOM}(WebIO.DOM(:html, :div), Any[WebIO.Node{WebIO.DOM}(WebIO.DOM(:html, :input), Any[], Dict{Symbol, Any}(:max => 101, :min => 1, :attributes => Dict{Any, Any}(:type => \"range\", Symbol(\"data-bind\") => \"numericValue: index, valueUpdate: 'input', event: {change: function (){this.changes(this.changes()+1)}}\", \"orient\" => \"horizontal\"), :step => 1, :className => \"slider slider is-fullwidth\", :style => Dict{Any, Any}()))], Dict{Symbol, Any}(:className => \"interact-flex-row-center\")), WebIO.Node{WebIO.DOM}(WebIO.DOM(:html, :div), Any[WebIO.Node{WebIO.DOM}(WebIO.DOM(:html, :p), Any[], Dict{Symbol, Any}(:attributes => Dict(\"data-bind\" => \"text: formatted_val\")))], Dict{Symbol, Any}(:className => \"interact-flex-row-right\"))], Dict{Symbol, Any}(:className => \"interact-flex-row interact-widget\")), Dict{String, Tuple{Observables.AbstractObservable, Union{Nothing, Bool}}}(\"changes\" => (Observable(0), nothing), \"index\" => (Observable(51), nothing)), Set{String}(), nothing, WebIO.Asset[WebIO.Asset(\"js\", \"knockout\", \"/home/dushya/.julia/packages/Knockout/HReiN/src/../assets/knockout.js\"), WebIO.Asset(\"js\", \"knockout_punches\", \"/home/dushya/.julia/packages/Knockout/HReiN/src/../assets/knockout_punches.js\"), WebIO.Asset(\"js\", nothing, \"/home/dushya/.julia/packages/InteractBase/LJXv3/src/../assets/all.js\"), WebIO.Asset(\"css\", nothing, \"/home/dushya/.julia/packages/InteractBase/LJXv3/src/../assets/style.css\"), WebIO.Asset(\"css\", nothing, \"/home/dushya/.julia/packages/Interact/PENUy/src/../assets/bulma_confined.min.css\")], Dict{Any, Any}(\"changes\" => Any[WebIO.JSString(\"(function (val){return (val!=this.model[\\\"changes\\\"]()) ? (this.valueFromJulia[\\\"changes\\\"]=true, this.model[\\\"changes\\\"](val)) : undefined})\")], \"index\" => Any[WebIO.JSString(\"(function (val){return (val!=this.model[\\\"index\\\"]()) ? (this.valueFromJulia[\\\"index\\\"]=true, this.model[\\\"index\\\"](val)) : undefined})\")]), WebIO.ConnectionPool(Channel{Any}(32), Set{WebIO.AbstractConnection}(), Base.GenericCondition{ReentrantLock}(Base.IntrusiveLinkedList{Task}(Task (runnable) @0x00007f0da1ad9c30, Task (runnable) @0x00007f0da1ad9c30), ReentrantLock(nothing, 0x00000000, 0x00, Base.GenericCondition{Base.Threads.SpinLock}(Base.IntrusiveLinkedList{Task}(nothing, nothing), Base.Threads.SpinLock(0)), (0, 139698498433200, 0)))), WebIO.JSString[WebIO.JSString(\"function () {\\n    var handler = (function (ko, koPunches) {\\n    ko.punches.enableAll();\\n    ko.bindingHandlers.numericValue = {\\n        init: function(element, valueAccessor, allBindings, data, context) {\\n            var stringified = ko.observable(ko.unwrap(valueAccessor()));\\n            stringified.subscribe(function(value) {\\n                var val = parseFloat(value);\\n                if (!isNaN(val)) {\\n                    valueAccessor()(val);\\n                }\\n            });\\n            valueAccessor().subscribe(function(value) {\\n                var str = JSON.stringify(value);\\n                if ((str == \\\"0\\\") && ([\\\"-0\\\", \\\"-0.\\\"].indexOf(stringified()) >= 0))\\n                     return;\\n                 if ([\\\"null\\\", \\\"\\\"].indexOf(str) >= 0)\\n                     return;\\n                stringified(str);\\n            });\\n            ko.applyBindingsToNode(\\n                element,\\n                {\\n                    value: stringified,\\n                    valueUpdate: allBindings.get('valueUpdate'),\\n                },\\n                context,\\n            );\\n        }\\n    };\\n    var json_data = {\\\"formatted_vals\\\":[\\\"1\\\",\\\"2\\\",\\\"3\\\",\\\"4\\\",\\\"5\\\",\\\"6\\\",\\\"7\\\",\\\"8\\\",\\\"9\\\",\\\"10\\\",\\\"11\\\",\\\"12\\\",\\\"13\\\",\\\"14\\\",\\\"15\\\",\\\"16\\\",\\\"17\\\",\\\"18\\\",\\\"19\\\",\\\"20\\\",\\\"21\\\",\\\"22\\\",\\\"23\\\",\\\"24\\\",\\\"25\\\",\\\"26\\\",\\\"27\\\",\\\"28\\\",\\\"29\\\",\\\"30\\\",\\\"31\\\",\\\"32\\\",\\\"33\\\",\\\"34\\\",\\\"35\\\",\\\"36\\\",\\\"37\\\",\\\"38\\\",\\\"39\\\",\\\"40\\\",\\\"41\\\",\\\"42\\\",\\\"43\\\",\\\"44\\\",\\\"45\\\",\\\"46\\\",\\\"47\\\",\\\"48\\\",\\\"49\\\",\\\"50\\\",\\\"51\\\",\\\"52\\\",\\\"53\\\",\\\"54\\\",\\\"55\\\",\\\"56\\\",\\\"57\\\",\\\"58\\\",\\\"59\\\",\\\"60\\\",\\\"61\\\",\\\"62\\\",\\\"63\\\",\\\"64\\\",\\\"65\\\",\\\"66\\\",\\\"67\\\",\\\"68\\\",\\\"69\\\",\\\"70\\\",\\\"71\\\",\\\"72\\\",\\\"73\\\",\\\"74\\\",\\\"75\\\",\\\"76\\\",\\\"77\\\",\\\"78\\\",\\\"79\\\",\\\"80\\\",\\\"81\\\",\\\"82\\\",\\\"83\\\",\\\"84\\\",\\\"85\\\",\\\"86\\\",\\\"87\\\",\\\"88\\\",\\\"89\\\",\\\"90\\\",\\\"91\\\",\\\"92\\\",\\\"93\\\",\\\"94\\\",\\\"95\\\",\\\"96\\\",\\\"97\\\",\\\"98\\\",\\\"99\\\",\\\"100\\\",\\\"101\\\"],\\\"changes\\\":WebIO.getval({\\\"name\\\":\\\"changes\\\",\\\"scope\\\":\\\"13693191764264467997\\\",\\\"id\\\":\\\"13657043337347474306\\\",\\\"type\\\":\\\"observable\\\"}),\\\"index\\\":WebIO.getval({\\\"name\\\":\\\"index\\\",\\\"scope\\\":\\\"13693191764264467997\\\",\\\"id\\\":\\\"7000693937198718537\\\",\\\"type\\\":\\\"observable\\\"})};\\n    var self = this;\\n    function AppViewModel() {\\n        for (var key in json_data) {\\n            var el = json_data[key];\\n            this[key] = Array.isArray(el) ? ko.observableArray(el) : ko.observable(el);\\n        }\\n        \\n        [this[\\\"formatted_val\\\"]=ko.computed(    function(){\\n        return this.formatted_vals()[parseInt(this.index())-(1)];\\n    }\\n,this)]\\n        [this[\\\"changes\\\"].subscribe((function (val){!(this.valueFromJulia[\\\"changes\\\"]) ? (WebIO.setval({\\\"name\\\":\\\"changes\\\",\\\"scope\\\":\\\"13693191764264467997\\\",\\\"id\\\":\\\"13657043337347474306\\\",\\\"type\\\":\\\"observable\\\"},val)) : undefined; return this.valueFromJulia[\\\"changes\\\"]=false}),self),this[\\\"index\\\"].subscribe((function (val){!(this.valueFromJulia[\\\"index\\\"]) ? (WebIO.setval({\\\"name\\\":\\\"index\\\",\\\"scope\\\":\\\"13693191764264467997\\\",\\\"id\\\":\\\"7000693937198718537\\\",\\\"type\\\":\\\"observable\\\"},val)) : undefined; return this.valueFromJulia[\\\"index\\\"]=false}),self)]\\n        \\n    }\\n    self.model = new AppViewModel();\\n    self.valueFromJulia = {};\\n    for (var key in json_data) {\\n        self.valueFromJulia[key] = false;\\n    }\\n    ko.applyBindings(self.model, self.dom);\\n}\\n);\\n    (WebIO.importBlock({\\\"data\\\":[{\\\"name\\\":\\\"knockout\\\",\\\"type\\\":\\\"js\\\",\\\"url\\\":\\\"/assetserver/727383f2a47bd31570b7da84eee7b022dd6d7c78-knockout.js\\\"},{\\\"name\\\":\\\"knockout_punches\\\",\\\"type\\\":\\\"js\\\",\\\"url\\\":\\\"/assetserver/382b41b3b1bd9f26f75861d360bad7f8beea211f-knockout_punches.js\\\"}],\\\"type\\\":\\\"async_block\\\"})).then((imports) => handler.apply(this, imports));\\n}\\n\")])], Dict{Symbol, Any}(:className => \"field interact-widget\")), WebIO.Node{WebIO.DOM}(WebIO.DOM(:html, :div), Any[WebIO.Scope(WebIO.Node{WebIO.DOM}(WebIO.DOM(:html, :div), Any[WebIO.Node{WebIO.DOM}(WebIO.DOM(:html, :div), Any[WebIO.Node{WebIO.DOM}(WebIO.DOM(:html, :label), Any[\"scale\"], Dict{Symbol, Any}(:className => \"interact \", :style => Dict{Any, Any}(:padding => \"5px 10px 0px 10px\")))], Dict{Symbol, Any}(:className => \"interact-flex-row-left\")), WebIO.Node{WebIO.DOM}(WebIO.DOM(:html, :div), Any[WebIO.Node{WebIO.DOM}(WebIO.DOM(:html, :input), Any[], Dict{Symbol, Any}(:max => 20, :min => 1, :attributes => Dict{Any, Any}(:type => \"range\", Symbol(\"data-bind\") => \"numericValue: index, valueUpdate: 'input', event: {change: function (){this.changes(this.changes()+1)}}\", \"orient\" => \"horizontal\"), :step => 1, :className => \"slider slider is-fullwidth\", :style => Dict{Any, Any}()))], Dict{Symbol, Any}(:className => \"interact-flex-row-center\")), WebIO.Node{WebIO.DOM}(WebIO.DOM(:html, :div), Any[WebIO.Node{WebIO.DOM}(WebIO.DOM(:html, :p), Any[], Dict{Symbol, Any}(:attributes => Dict(\"data-bind\" => \"text: formatted_val\")))], Dict{Symbol, Any}(:className => \"interact-flex-row-right\"))], Dict{Symbol, Any}(:className => \"interact-flex-row interact-widget\")), Dict{String, Tuple{Observables.AbstractObservable, Union{Nothing, Bool}}}(\"changes\" => (Observable(0), nothing), \"index\" => (Observable{Any}(10), nothing)), Set{String}(), nothing, WebIO.Asset[WebIO.Asset(\"js\", \"knockout\", \"/home/dushya/.julia/packages/Knockout/HReiN/src/../assets/knockout.js\"), WebIO.Asset(\"js\", \"knockout_punches\", \"/home/dushya/.julia/packages/Knockout/HReiN/src/../assets/knockout_punches.js\"), WebIO.Asset(\"js\", nothing, \"/home/dushya/.julia/packages/InteractBase/LJXv3/src/../assets/all.js\"), WebIO.Asset(\"css\", nothing, \"/home/dushya/.julia/packages/InteractBase/LJXv3/src/../assets/style.css\"), WebIO.Asset(\"css\", nothing, \"/home/dushya/.julia/packages/Interact/PENUy/src/../assets/bulma_confined.min.css\")], Dict{Any, Any}(\"changes\" => Any[WebIO.JSString(\"(function (val){return (val!=this.model[\\\"changes\\\"]()) ? (this.valueFromJulia[\\\"changes\\\"]=true, this.model[\\\"changes\\\"](val)) : undefined})\")], \"index\" => Any[WebIO.JSString(\"(function (val){return (val!=this.model[\\\"index\\\"]()) ? (this.valueFromJulia[\\\"index\\\"]=true, this.model[\\\"index\\\"](val)) : undefined})\")]), WebIO.ConnectionPool(Channel{Any}(32), Set{WebIO.AbstractConnection}(), Base.GenericCondition{ReentrantLock}(Base.IntrusiveLinkedList{Task}(Task (runnable) @0x00007f0da2013b70, Task (runnable) @0x00007f0da2013b70), ReentrantLock(nothing, 0x00000000, 0x00, Base.GenericCondition{Base.Threads.SpinLock}(Base.IntrusiveLinkedList{Task}(nothing, nothing), Base.Threads.SpinLock(0)), (1, 139698354843552, 1)))), WebIO.JSString[WebIO.JSString(\"function () {\\n    var handler = (function (ko, koPunches) {\\n    ko.punches.enableAll();\\n    ko.bindingHandlers.numericValue = {\\n        init: function(element, valueAccessor, allBindings, data, context) {\\n            var stringified = ko.observable(ko.unwrap(valueAccessor()));\\n            stringified.subscribe(function(value) {\\n                var val = parseFloat(value);\\n                if (!isNaN(val)) {\\n                    valueAccessor()(val);\\n                }\\n            });\\n            valueAccessor().subscribe(function(value) {\\n                var str = JSON.stringify(value);\\n                if ((str == \\\"0\\\") && ([\\\"-0\\\", \\\"-0.\\\"].indexOf(stringified()) >= 0))\\n                     return;\\n                 if ([\\\"null\\\", \\\"\\\"].indexOf(str) >= 0)\\n                     return;\\n                stringified(str);\\n            });\\n            ko.applyBindingsToNode(\\n                element,\\n                {\\n                    value: stringified,\\n                    valueUpdate: allBindings.get('valueUpdate'),\\n                },\\n                context,\\n            );\\n        }\\n    };\\n    var json_data = {\\\"formatted_vals\\\":[\\\"0.1\\\",\\\"0.2\\\",\\\"0.3\\\",\\\"0.4\\\",\\\"0.5\\\",\\\"0.6\\\",\\\"0.7\\\",\\\"0.8\\\",\\\"0.9\\\",\\\"1.0\\\",\\\"1.1\\\",\\\"1.2\\\",\\\"1.3\\\",\\\"1.4\\\",\\\"1.5\\\",\\\"1.6\\\",\\\"1.7\\\",\\\"1.8\\\",\\\"1.9\\\",\\\"2.0\\\"],\\\"changes\\\":WebIO.getval({\\\"name\\\":\\\"changes\\\",\\\"scope\\\":\\\"7777155395366762195\\\",\\\"id\\\":\\\"1618825750075013330\\\",\\\"type\\\":\\\"observable\\\"}),\\\"index\\\":WebIO.getval({\\\"name\\\":\\\"index\\\",\\\"scope\\\":\\\"7777155395366762195\\\",\\\"id\\\":\\\"11448133287972189656\\\",\\\"type\\\":\\\"observable\\\"})};\\n    var self = this;\\n    function AppViewModel() {\\n        for (var key in json_data) {\\n            var el = json_data[key];\\n            this[key] = Array.isArray(el) ? ko.observableArray(el) : ko.observable(el);\\n        }\\n        \\n        [this[\\\"formatted_val\\\"]=ko.computed(    function(){\\n        return this.formatted_vals()[parseInt(this.index())-(1)];\\n    }\\n,this)]\\n        [this[\\\"changes\\\"].subscribe((function (val){!(this.valueFromJulia[\\\"changes\\\"]) ? (WebIO.setval({\\\"name\\\":\\\"changes\\\",\\\"scope\\\":\\\"7777155395366762195\\\",\\\"id\\\":\\\"1618825750075013330\\\",\\\"type\\\":\\\"observable\\\"},val)) : undefined; return this.valueFromJulia[\\\"changes\\\"]=false}),self),this[\\\"index\\\"].subscribe((function (val){!(this.valueFromJulia[\\\"index\\\"]) ? (WebIO.setval({\\\"name\\\":\\\"index\\\",\\\"scope\\\":\\\"7777155395366762195\\\",\\\"id\\\":\\\"11448133287972189656\\\",\\\"type\\\":\\\"observable\\\"},val)) : undefined; return this.valueFromJulia[\\\"index\\\"]=false}),self)]\\n        \\n    }\\n    self.model = new AppViewModel();\\n    self.valueFromJulia = {};\\n    for (var key in json_data) {\\n        self.valueFromJulia[key] = false;\\n    }\\n    ko.applyBindings(self.model, self.dom);\\n}\\n);\\n    (WebIO.importBlock({\\\"data\\\":[{\\\"name\\\":\\\"knockout\\\",\\\"type\\\":\\\"js\\\",\\\"url\\\":\\\"/assetserver/727383f2a47bd31570b7da84eee7b022dd6d7c78-knockout.js\\\"},{\\\"name\\\":\\\"knockout_punches\\\",\\\"type\\\":\\\"js\\\",\\\"url\\\":\\\"/assetserver/382b41b3b1bd9f26f75861d360bad7f8beea211f-knockout_punches.js\\\"}],\\\"type\\\":\\\"async_block\\\"})).then((imports) => handler.apply(this, imports));\\n}\\n\")])], Dict{Symbol, Any}(:className => \"field interact-widget\")), WebIO.Node{WebIO.DOM}(WebIO.DOM(:html, :div), Any[WebIO.Node{WebIO.DOM}(WebIO.DOM(:html, :div), Any[WebIO.Scope(WebIO.Node{WebIO.DOM}(WebIO.DOM(:html, :div), Any[], Dict{Symbol, Any}(:id => \"container\")), Dict{String, Tuple{Observables.AbstractObservable, Union{Nothing, Bool}}}(\"value\" => (Observable(\"\\\\;\\\\;\"), nothing)), Set{String}(), nothing, WebIO.Asset[WebIO.Asset(\"js\", nothing, \"/home/dushya/.julia/packages/InteractBase/LJXv3/src/../assets/katex.min.js\"), WebIO.Asset(\"css\", nothing, \"/home/dushya/.julia/packages/InteractBase/LJXv3/src/../assets/katex.min.css\")], Dict{Any, Any}(\"value\" => Any[WebIO.JSString(\"(function (txt){return this.k.render(txt,this.container)})\")]), WebIO.ConnectionPool(Channel{Any}(32), Set{WebIO.AbstractConnection}(), Base.GenericCondition{ReentrantLock}(Base.IntrusiveLinkedList{Task}(Task (runnable) @0x00007f0da3b52a40, Task (runnable) @0x00007f0da3b52a40), ReentrantLock(nothing, 0x00000000, 0x00, Base.GenericCondition{Base.Threads.SpinLock}(Base.IntrusiveLinkedList{Task}(nothing, nothing), Base.Threads.SpinLock(0)), (0, 0, 139698498436336)))), WebIO.JSString[WebIO.JSString(\"function () {\\n    var handler = ((function (k){this.k=k; this.container=this.dom.querySelector(\\\"#container\\\"); return k.render(\\\"\\\\\\\\;\\\\\\\\;\\\",this.container)}));\\n    (WebIO.importBlock({\\\"data\\\":[{\\\"name\\\":null,\\\"type\\\":\\\"js\\\",\\\"url\\\":\\\"/assetserver/dd22ed1bf1896c2748f3fe616ce0b838adc895c1-katex.min.js\\\"},{\\\"name\\\":null,\\\"type\\\":\\\"css\\\",\\\"url\\\":\\\"/assetserver/46517a424aa5e6cffc1360d7e0848b601c584ee3-katex.min.css\\\"}],\\\"type\\\":\\\"async_block\\\"})).then((imports) => handler.apply(this, imports));\\n}\\n\")])], Dict{Symbol, Any}(:className => \"interact-widget\")), WebIO.Node{WebIO.DOM}(WebIO.DOM(:html, :div), Any[WebIO.Scope(WebIO.Node{WebIO.DOM}(WebIO.DOM(:html, :button), Any[\"run\"], Dict{Symbol, Any}(:attributes => Dict{Any, Any}(\"data-bind\" => \"click: function (){this.clicks(this.clicks()+1)}, css: {'is-loading' : loading}\"), :className => \"is-medium button is-primary\", :style => Dict{String, Any}())), Dict{String, Tuple{Observables.AbstractObservable, Union{Nothing, Bool}}}(\"loading\" => (Observable(false), nothing), \"clicks\" => (Observable(0), nothing)), Set{String}(), nothing, WebIO.Asset[WebIO.Asset(\"js\", \"knockout\", \"/home/dushya/.julia/packages/Knockout/HReiN/src/../assets/knockout.js\"), WebIO.Asset(\"js\", \"knockout_punches\", \"/home/dushya/.julia/packages/Knockout/HReiN/src/../assets/knockout_punches.js\"), WebIO.Asset(\"js\", nothing, \"/home/dushya/.julia/packages/InteractBase/LJXv3/src/../assets/all.js\"), WebIO.Asset(\"css\", nothing, \"/home/dushya/.julia/packages/InteractBase/LJXv3/src/../assets/style.css\"), WebIO.Asset(\"css\", nothing, \"/home/dushya/.julia/packages/Interact/PENUy/src/../assets/bulma_confined.min.css\")], Dict{Any, Any}(\"loading\" => Any[WebIO.JSString(\"(function (val){return (val!=this.model[\\\"loading\\\"]()) ? (this.valueFromJulia[\\\"loading\\\"]=true, this.model[\\\"loading\\\"](val)) : undefined})\")], \"clicks\" => Any[WebIO.JSString(\"(function (val){return (val!=this.model[\\\"clicks\\\"]()) ? (this.valueFromJulia[\\\"clicks\\\"]=true, this.model[\\\"clicks\\\"](val)) : undefined})\")]), WebIO.ConnectionPool(Channel{Any}(32), Set{WebIO.AbstractConnection}(), Base.GenericCondition{ReentrantLock}(Base.IntrusiveLinkedList{Task}(Task (runnable) @0x00007f0e1638daa0, Task (runnable) @0x00007f0e1638daa0), ReentrantLock(nothing, 0x00000000, 0x00, Base.GenericCondition{Base.Threads.SpinLock}(Base.IntrusiveLinkedList{Task}(nothing, nothing), Base.Threads.SpinLock(0)), (0, 524288, 141733920768)))), WebIO.JSString[WebIO.JSString(\"function () {\\n    var handler = (function (ko, koPunches) {\\n    ko.punches.enableAll();\\n    ko.bindingHandlers.numericValue = {\\n        init: function(element, valueAccessor, allBindings, data, context) {\\n            var stringified = ko.observable(ko.unwrap(valueAccessor()));\\n            stringified.subscribe(function(value) {\\n                var val = parseFloat(value);\\n                if (!isNaN(val)) {\\n                    valueAccessor()(val);\\n                }\\n            });\\n            valueAccessor().subscribe(function(value) {\\n                var str = JSON.stringify(value);\\n                if ((str == \\\"0\\\") && ([\\\"-0\\\", \\\"-0.\\\"].indexOf(stringified()) >= 0))\\n                     return;\\n                 if ([\\\"null\\\", \\\"\\\"].indexOf(str) >= 0)\\n                     return;\\n                stringified(str);\\n            });\\n            ko.applyBindingsToNode(\\n                element,\\n                {\\n                    value: stringified,\\n                    valueUpdate: allBindings.get('valueUpdate'),\\n                },\\n                context,\\n            );\\n        }\\n    };\\n    var json_data = {\\\"loading\\\":WebIO.getval({\\\"name\\\":\\\"loading\\\",\\\"scope\\\":\\\"16754735631927482691\\\",\\\"id\\\":\\\"12176001550604526024\\\",\\\"type\\\":\\\"observable\\\"}),\\\"clicks\\\":WebIO.getval({\\\"name\\\":\\\"clicks\\\",\\\"scope\\\":\\\"16754735631927482691\\\",\\\"id\\\":\\\"16502556942689838282\\\",\\\"type\\\":\\\"observable\\\"})};\\n    var self = this;\\n    function AppViewModel() {\\n        for (var key in json_data) {\\n            var el = json_data[key];\\n            this[key] = Array.isArray(el) ? ko.observableArray(el) : ko.observable(el);\\n        }\\n        \\n        \\n        [this[\\\"loading\\\"].subscribe((function (val){!(this.valueFromJulia[\\\"loading\\\"]) ? (WebIO.setval({\\\"name\\\":\\\"loading\\\",\\\"scope\\\":\\\"16754735631927482691\\\",\\\"id\\\":\\\"12176001550604526024\\\",\\\"type\\\":\\\"observable\\\"},val)) : undefined; return this.valueFromJulia[\\\"loading\\\"]=false}),self),this[\\\"clicks\\\"].subscribe((function (val){!(this.valueFromJulia[\\\"clicks\\\"]) ? (WebIO.setval({\\\"name\\\":\\\"clicks\\\",\\\"scope\\\":\\\"16754735631927482691\\\",\\\"id\\\":\\\"16502556942689838282\\\",\\\"type\\\":\\\"observable\\\"},val)) : undefined; return this.valueFromJulia[\\\"clicks\\\"]=false}),self)]\\n        \\n    }\\n    self.model = new AppViewModel();\\n    self.valueFromJulia = {};\\n    for (var key in json_data) {\\n        self.valueFromJulia[key] = false;\\n    }\\n    ko.applyBindings(self.model, self.dom);\\n}\\n);\\n    (WebIO.importBlock({\\\"data\\\":[{\\\"name\\\":\\\"knockout\\\",\\\"type\\\":\\\"js\\\",\\\"url\\\":\\\"/assetserver/727383f2a47bd31570b7da84eee7b022dd6d7c78-knockout.js\\\"},{\\\"name\\\":\\\"knockout_punches\\\",\\\"type\\\":\\\"js\\\",\\\"url\\\":\\\"/assetserver/382b41b3b1bd9f26f75861d360bad7f8beea211f-knockout_punches.js\\\"}],\\\"type\\\":\\\"async_block\\\"})).then((imports) => handler.apply(this, imports));\\n}\\n\")])], Dict{Symbol, Any}(:className => \"field interact-widget\")), WebIO.Node{WebIO.DOM}(WebIO.DOM(:html, :div), Any[WebIO.Scope(WebIO.Node{WebIO.DOM}(WebIO.DOM(:html, :div), Any[], Dict{Symbol, Any}(:id => \"container\")), Dict{String, Tuple{Observables.AbstractObservable, Union{Nothing, Bool}}}(\"value\" => (Observable(\"\\\\;\\\\;\"), nothing)), Set{String}(), nothing, WebIO.Asset[WebIO.Asset(\"js\", nothing, \"/home/dushya/.julia/packages/InteractBase/LJXv3/src/../assets/katex.min.js\"), WebIO.Asset(\"css\", nothing, \"/home/dushya/.julia/packages/InteractBase/LJXv3/src/../assets/katex.min.css\")], Dict{Any, Any}(\"value\" => Any[WebIO.JSString(\"(function (txt){return this.k.render(txt,this.container)})\")]), WebIO.ConnectionPool(Channel{Any}(32), Set{WebIO.AbstractConnection}(), Base.GenericCondition{ReentrantLock}(Base.IntrusiveLinkedList{Task}(Task (runnable) @0x00007f0da3b52a40, Task (runnable) @0x00007f0da3b52a40), ReentrantLock(nothing, 0x00000000, 0x00, Base.GenericCondition{Base.Threads.SpinLock}(Base.IntrusiveLinkedList{Task}(nothing, nothing), Base.Threads.SpinLock(0)), (0, 0, 139698498436336)))), WebIO.JSString[WebIO.JSString(\"function () {\\n    var handler = ((function (k){this.k=k; this.container=this.dom.querySelector(\\\"#container\\\"); return k.render(\\\"\\\\\\\\;\\\\\\\\;\\\",this.container)}));\\n    (WebIO.importBlock({\\\"data\\\":[{\\\"name\\\":null,\\\"type\\\":\\\"js\\\",\\\"url\\\":\\\"/assetserver/dd22ed1bf1896c2748f3fe616ce0b838adc895c1-katex.min.js\\\"},{\\\"name\\\":null,\\\"type\\\":\\\"css\\\",\\\"url\\\":\\\"/assetserver/46517a424aa5e6cffc1360d7e0848b601c584ee3-katex.min.css\\\"}],\\\"type\\\":\\\"async_block\\\"})).then((imports) => handler.apply(this, imports));\\n}\\n\")])], Dict{Symbol, Any}(:className => \"interact-widget\")), WebIO.Node{WebIO.DOM}(WebIO.DOM(:html, :div), Any[WebIO.Scope(WebIO.Node{WebIO.DOM}(WebIO.DOM(:html, :button), Any[\"stop\"], Dict{Symbol, Any}(:attributes => Dict{Any, Any}(\"data-bind\" => \"click: function (){this.clicks(this.clicks()+1)}, css: {'is-loading' : loading}\"), :className => \"is-medium button is-primary\", :style => Dict{String, Any}())), Dict{String, Tuple{Observables.AbstractObservable, Union{Nothing, Bool}}}(\"loading\" => (Observable(false), nothing), \"clicks\" => (Observable(0), nothing)), Set{String}(), nothing, WebIO.Asset[WebIO.Asset(\"js\", \"knockout\", \"/home/dushya/.julia/packages/Knockout/HReiN/src/../assets/knockout.js\"), WebIO.Asset(\"js\", \"knockout_punches\", \"/home/dushya/.julia/packages/Knockout/HReiN/src/../assets/knockout_punches.js\"), WebIO.Asset(\"js\", nothing, \"/home/dushya/.julia/packages/InteractBase/LJXv3/src/../assets/all.js\"), WebIO.Asset(\"css\", nothing, \"/home/dushya/.julia/packages/InteractBase/LJXv3/src/../assets/style.css\"), WebIO.Asset(\"css\", nothing, \"/home/dushya/.julia/packages/Interact/PENUy/src/../assets/bulma_confined.min.css\")], Dict{Any, Any}(\"loading\" => Any[WebIO.JSString(\"(function (val){return (val!=this.model[\\\"loading\\\"]()) ? (this.valueFromJulia[\\\"loading\\\"]=true, this.model[\\\"loading\\\"](val)) : undefined})\")], \"clicks\" => Any[WebIO.JSString(\"(function (val){return (val!=this.model[\\\"clicks\\\"]()) ? (this.valueFromJulia[\\\"clicks\\\"]=true, this.model[\\\"clicks\\\"](val)) : undefined})\")]), WebIO.ConnectionPool(Channel{Any}(32), Set{WebIO.AbstractConnection}(), Base.GenericCondition{ReentrantLock}(Base.IntrusiveLinkedList{Task}(Task (runnable) @0x00007f0da44d47e0, Task (runnable) @0x00007f0da44d47e0), ReentrantLock(nothing, 0x00000000, 0x00, Base.GenericCondition{Base.Threads.SpinLock}(Base.IntrusiveLinkedList{Task}(nothing, nothing), Base.Threads.SpinLock(0)), (0, 0, 0)))), WebIO.JSString[WebIO.JSString(\"function () {\\n    var handler = (function (ko, koPunches) {\\n    ko.punches.enableAll();\\n    ko.bindingHandlers.numericValue = {\\n        init: function(element, valueAccessor, allBindings, data, context) {\\n            var stringified = ko.observable(ko.unwrap(valueAccessor()));\\n            stringified.subscribe(function(value) {\\n                var val = parseFloat(value);\\n                if (!isNaN(val)) {\\n                    valueAccessor()(val);\\n                }\\n            });\\n            valueAccessor().subscribe(function(value) {\\n                var str = JSON.stringify(value);\\n                if ((str == \\\"0\\\") && ([\\\"-0\\\", \\\"-0.\\\"].indexOf(stringified()) >= 0))\\n                     return;\\n                 if ([\\\"null\\\", \\\"\\\"].indexOf(str) >= 0)\\n                     return;\\n                stringified(str);\\n            });\\n            ko.applyBindingsToNode(\\n                element,\\n                {\\n                    value: stringified,\\n                    valueUpdate: allBindings.get('valueUpdate'),\\n                },\\n                context,\\n            );\\n        }\\n    };\\n    var json_data = {\\\"loading\\\":WebIO.getval({\\\"name\\\":\\\"loading\\\",\\\"scope\\\":\\\"3562011449504821528\\\",\\\"id\\\":\\\"11313335835908710365\\\",\\\"type\\\":\\\"observable\\\"}),\\\"clicks\\\":WebIO.getval({\\\"name\\\":\\\"clicks\\\",\\\"scope\\\":\\\"3562011449504821528\\\",\\\"id\\\":\\\"7858809198161068362\\\",\\\"type\\\":\\\"observable\\\"})};\\n    var self = this;\\n    function AppViewModel() {\\n        for (var key in json_data) {\\n            var el = json_data[key];\\n            this[key] = Array.isArray(el) ? ko.observableArray(el) : ko.observable(el);\\n        }\\n        \\n        \\n        [this[\\\"loading\\\"].subscribe((function (val){!(this.valueFromJulia[\\\"loading\\\"]) ? (WebIO.setval({\\\"name\\\":\\\"loading\\\",\\\"scope\\\":\\\"3562011449504821528\\\",\\\"id\\\":\\\"11313335835908710365\\\",\\\"type\\\":\\\"observable\\\"},val)) : undefined; return this.valueFromJulia[\\\"loading\\\"]=false}),self),this[\\\"clicks\\\"].subscribe((function (val){!(this.valueFromJulia[\\\"clicks\\\"]) ? (WebIO.setval({\\\"name\\\":\\\"clicks\\\",\\\"scope\\\":\\\"3562011449504821528\\\",\\\"id\\\":\\\"7858809198161068362\\\",\\\"type\\\":\\\"observable\\\"},val)) : undefined; return this.valueFromJulia[\\\"clicks\\\"]=false}),self)]\\n        \\n    }\\n    self.model = new AppViewModel();\\n    self.valueFromJulia = {};\\n    for (var key in json_data) {\\n        self.valueFromJulia[key] = false;\\n    }\\n    ko.applyBindings(self.model, self.dom);\\n}\\n);\\n    (WebIO.importBlock({\\\"data\\\":[{\\\"name\\\":\\\"knockout\\\",\\\"type\\\":\\\"js\\\",\\\"url\\\":\\\"/assetserver/727383f2a47bd31570b7da84eee7b022dd6d7c78-knockout.js\\\"},{\\\"name\\\":\\\"knockout_punches\\\",\\\"type\\\":\\\"js\\\",\\\"url\\\":\\\"/assetserver/382b41b3b1bd9f26f75861d360bad7f8beea211f-knockout_punches.js\\\"}],\\\"type\\\":\\\"async_block\\\"})).then((imports) => handler.apply(this, imports));\\n}\\n\")])], Dict{Symbol, Any}(:className => \"field interact-widget\")), WebIO.Node{WebIO.DOM}(WebIO.DOM(:html, :div), Any[WebIO.Scope(WebIO.Node{WebIO.DOM}(WebIO.DOM(:html, :div), Any[], Dict{Symbol, Any}(:id => \"container\")), Dict{String, Tuple{Observables.AbstractObservable, Union{Nothing, Bool}}}(\"value\" => (Observable(\"\\\\;\\\\;\"), nothing)), Set{String}(), nothing, WebIO.Asset[WebIO.Asset(\"js\", nothing, \"/home/dushya/.julia/packages/InteractBase/LJXv3/src/../assets/katex.min.js\"), WebIO.Asset(\"css\", nothing, \"/home/dushya/.julia/packages/InteractBase/LJXv3/src/../assets/katex.min.css\")], Dict{Any, Any}(\"value\" => Any[WebIO.JSString(\"(function (txt){return this.k.render(txt,this.container)})\")]), WebIO.ConnectionPool(Channel{Any}(32), Set{WebIO.AbstractConnection}(), Base.GenericCondition{ReentrantLock}(Base.IntrusiveLinkedList{Task}(Task (runnable) @0x00007f0da3b52a40, Task (runnable) @0x00007f0da3b52a40), ReentrantLock(nothing, 0x00000000, 0x00, Base.GenericCondition{Base.Threads.SpinLock}(Base.IntrusiveLinkedList{Task}(nothing, nothing), Base.Threads.SpinLock(0)), (0, 0, 139698498436336)))), WebIO.JSString[WebIO.JSString(\"function () {\\n    var handler = ((function (k){this.k=k; this.container=this.dom.querySelector(\\\"#container\\\"); return k.render(\\\"\\\\\\\\;\\\\\\\\;\\\",this.container)}));\\n    (WebIO.importBlock({\\\"data\\\":[{\\\"name\\\":null,\\\"type\\\":\\\"js\\\",\\\"url\\\":\\\"/assetserver/dd22ed1bf1896c2748f3fe616ce0b838adc895c1-katex.min.js\\\"},{\\\"name\\\":null,\\\"type\\\":\\\"css\\\",\\\"url\\\":\\\"/assetserver/46517a424aa5e6cffc1360d7e0848b601c584ee3-katex.min.css\\\"}],\\\"type\\\":\\\"async_block\\\"})).then((imports) => handler.apply(this, imports));\\n}\\n\")])], Dict{Symbol, Any}(:className => \"interact-widget\")), WebIO.Node{WebIO.DOM}(WebIO.DOM(:html, :div), Any[WebIO.Scope(WebIO.Node{WebIO.DOM}(WebIO.DOM(:html, :button), Any[\"save\"], Dict{Symbol, Any}(:attributes => Dict{Any, Any}(\"data-bind\" => \"click: function (){this.clicks(this.clicks()+1)}, css: {'is-loading' : loading}\"), :className => \"is-medium button is-primary\", :style => Dict{String, Any}())), Dict{String, Tuple{Observables.AbstractObservable, Union{Nothing, Bool}}}(\"loading\" => (Observable(false), nothing), \"clicks\" => (Observable(0), nothing)), Set{String}(), nothing, WebIO.Asset[WebIO.Asset(\"js\", \"knockout\", \"/home/dushya/.julia/packages/Knockout/HReiN/src/../assets/knockout.js\"), WebIO.Asset(\"js\", \"knockout_punches\", \"/home/dushya/.julia/packages/Knockout/HReiN/src/../assets/knockout_punches.js\"), WebIO.Asset(\"js\", nothing, \"/home/dushya/.julia/packages/InteractBase/LJXv3/src/../assets/all.js\"), WebIO.Asset(\"css\", nothing, \"/home/dushya/.julia/packages/InteractBase/LJXv3/src/../assets/style.css\"), WebIO.Asset(\"css\", nothing, \"/home/dushya/.julia/packages/Interact/PENUy/src/../assets/bulma_confined.min.css\")], Dict{Any, Any}(\"loading\" => Any[WebIO.JSString(\"(function (val){return (val!=this.model[\\\"loading\\\"]()) ? (this.valueFromJulia[\\\"loading\\\"]=true, this.model[\\\"loading\\\"](val)) : undefined})\")], \"clicks\" => Any[WebIO.JSString(\"(function (val){return (val!=this.model[\\\"clicks\\\"]()) ? (this.valueFromJulia[\\\"clicks\\\"]=true, this.model[\\\"clicks\\\"](val)) : undefined})\")]), WebIO.ConnectionPool(Channel{Any}(32), Set{WebIO.AbstractConnection}(), Base.GenericCondition{ReentrantLock}(Base.IntrusiveLinkedList{Task}(Task (runnable) @0x00007f0da44d6ef0, Task (runnable) @0x00007f0da44d6ef0), ReentrantLock(nothing, 0x00000000, 0x00, Base.GenericCondition{Base.Threads.SpinLock}(Base.IntrusiveLinkedList{Task}(nothing, nothing), Base.Threads.SpinLock(0)), (2, 139698473155136, 139698354850768)))), WebIO.JSString[WebIO.JSString(\"function () {\\n    var handler = (function (ko, koPunches) {\\n    ko.punches.enableAll();\\n    ko.bindingHandlers.numericValue = {\\n        init: function(element, valueAccessor, allBindings, data, context) {\\n            var stringified = ko.observable(ko.unwrap(valueAccessor()));\\n            stringified.subscribe(function(value) {\\n                var val = parseFloat(value);\\n                if (!isNaN(val)) {\\n                    valueAccessor()(val);\\n                }\\n            });\\n            valueAccessor().subscribe(function(value) {\\n                var str = JSON.stringify(value);\\n                if ((str == \\\"0\\\") && ([\\\"-0\\\", \\\"-0.\\\"].indexOf(stringified()) >= 0))\\n                     return;\\n                 if ([\\\"null\\\", \\\"\\\"].indexOf(str) >= 0)\\n                     return;\\n                stringified(str);\\n            });\\n            ko.applyBindingsToNode(\\n                element,\\n                {\\n                    value: stringified,\\n                    valueUpdate: allBindings.get('valueUpdate'),\\n                },\\n                context,\\n            );\\n        }\\n    };\\n    var json_data = {\\\"loading\\\":WebIO.getval({\\\"name\\\":\\\"loading\\\",\\\"scope\\\":\\\"11026206512220441168\\\",\\\"id\\\":\\\"3921837179233002943\\\",\\\"type\\\":\\\"observable\\\"}),\\\"clicks\\\":WebIO.getval({\\\"name\\\":\\\"clicks\\\",\\\"scope\\\":\\\"11026206512220441168\\\",\\\"id\\\":\\\"15645495922008330300\\\",\\\"type\\\":\\\"observable\\\"})};\\n    var self = this;\\n    function AppViewModel() {\\n        for (var key in json_data) {\\n            var el = json_data[key];\\n            this[key] = Array.isArray(el) ? ko.observableArray(el) : ko.observable(el);\\n        }\\n        \\n        \\n        [this[\\\"loading\\\"].subscribe((function (val){!(this.valueFromJulia[\\\"loading\\\"]) ? (WebIO.setval({\\\"name\\\":\\\"loading\\\",\\\"scope\\\":\\\"11026206512220441168\\\",\\\"id\\\":\\\"3921837179233002943\\\",\\\"type\\\":\\\"observable\\\"},val)) : undefined; return this.valueFromJulia[\\\"loading\\\"]=false}),self),this[\\\"clicks\\\"].subscribe((function (val){!(this.valueFromJulia[\\\"clicks\\\"]) ? (WebIO.setval({\\\"name\\\":\\\"clicks\\\",\\\"scope\\\":\\\"11026206512220441168\\\",\\\"id\\\":\\\"15645495922008330300\\\",\\\"type\\\":\\\"observable\\\"},val)) : undefined; return this.valueFromJulia[\\\"clicks\\\"]=false}),self)]\\n        \\n    }\\n    self.model = new AppViewModel();\\n    self.valueFromJulia = {};\\n    for (var key in json_data) {\\n        self.valueFromJulia[key] = false;\\n    }\\n    ko.applyBindings(self.model, self.dom);\\n}\\n);\\n    (WebIO.importBlock({\\\"data\\\":[{\\\"name\\\":\\\"knockout\\\",\\\"type\\\":\\\"js\\\",\\\"url\\\":\\\"/assetserver/727383f2a47bd31570b7da84eee7b022dd6d7c78-knockout.js\\\"},{\\\"name\\\":\\\"knockout_punches\\\",\\\"type\\\":\\\"js\\\",\\\"url\\\":\\\"/assetserver/382b41b3b1bd9f26f75861d360bad7f8beea211f-knockout_punches.js\\\"}],\\\"type\\\":\\\"async_block\\\"})).then((imports) => handler.apply(this, imports));\\n}\\n\")])], Dict{Symbol, Any}(:className => \"field interact-widget\"))], Dict{Symbol, Any}(:style => Dict(\"display\" => \"flex\", \"flex-direction\" => \"row\")))], Dict{Symbol, Any}(:style => Dict(\"display\" => \"flex\", \"flex-direction\" => \"column\"))), WebIO.Node{WebIO.DOM}(WebIO.DOM(:html, :div), Any[WebIO.Scope(WebIO.Node{WebIO.DOM}(WebIO.DOM(:html, :div), Any[], Dict{Symbol, Any}(:id => \"container\")), Dict{String, Tuple{Observables.AbstractObservable, Union{Nothing, Bool}}}(\"value\" => (Observable(\"\\\\;\\\\;\"), nothing)), Set{String}(), nothing, WebIO.Asset[WebIO.Asset(\"js\", nothing, \"/home/dushya/.julia/packages/InteractBase/LJXv3/src/../assets/katex.min.js\"), WebIO.Asset(\"css\", nothing, \"/home/dushya/.julia/packages/InteractBase/LJXv3/src/../assets/katex.min.css\")], Dict{Any, Any}(\"value\" => Any[WebIO.JSString(\"(function (txt){return this.k.render(txt,this.container)})\")]), WebIO.ConnectionPool(Channel{Any}(32), Set{WebIO.AbstractConnection}(), Base.GenericCondition{ReentrantLock}(Base.IntrusiveLinkedList{Task}(Task (runnable) @0x00007f0da3b52a40, Task (runnable) @0x00007f0da3b52a40), ReentrantLock(nothing, 0x00000000, 0x00, Base.GenericCondition{Base.Threads.SpinLock}(Base.IntrusiveLinkedList{Task}(nothing, nothing), Base.Threads.SpinLock(0)), (0, 0, 139698498436336)))), WebIO.JSString[WebIO.JSString(\"function () {\\n    var handler = ((function (k){this.k=k; this.container=this.dom.querySelector(\\\"#container\\\"); return k.render(\\\"\\\\\\\\;\\\\\\\\;\\\",this.container)}));\\n    (WebIO.importBlock({\\\"data\\\":[{\\\"name\\\":null,\\\"type\\\":\\\"js\\\",\\\"url\\\":\\\"/assetserver/dd22ed1bf1896c2748f3fe616ce0b838adc895c1-katex.min.js\\\"},{\\\"name\\\":null,\\\"type\\\":\\\"css\\\",\\\"url\\\":\\\"/assetserver/46517a424aa5e6cffc1360d7e0848b601c584ee3-katex.min.css\\\"}],\\\"type\\\":\\\"async_block\\\"})).then((imports) => handler.apply(this, imports));\\n}\\n\")])], Dict{Symbol, Any}(:className => \"interact-widget\")), Observable(Luxor.Drawing(430.0, 430.0, \"\", Cairo.CairoSurfaceBase{UInt32}(Ptr{Nothing} @0x0000000000000000, 430.0, 430.0), Cairo.CairoContext(Ptr{Nothing} @0x00000000045067d0, Cairo.CairoSurfaceBase{UInt32}(Ptr{Nothing} @0x0000000000000000, 430.0, 430.0), Ptr{Nothing} @0x0000000002d8b280), :png, 0.5, 0.5, 0.5, 0.5, IOBuffer(data=UInt8[...], readable=true, writable=true, seekable=true, append=false, size=15985, maxsize=Inf, ptr=15986, mark=-1), UInt8[0x89, 0x50, 0x4e, 0x47, 0x0d, 0x0a, 0x1a, 0x0a, 0x00, 0x00  …  0x00, 0x00, 0x49, 0x45, 0x4e, 0x44, 0xae, 0x42, 0x60, 0x82], false)), WebIO.Node{WebIO.DOM}(WebIO.DOM(:html, :div), Any[WebIO.Scope(WebIO.Node{WebIO.DOM}(WebIO.DOM(:html, :div), Any[], Dict{Symbol, Any}(:id => \"container\")), Dict{String, Tuple{Observables.AbstractObservable, Union{Nothing, Bool}}}(\"value\" => (Observable(\"\\\\;\\\\;\"), nothing)), Set{String}(), nothing, WebIO.Asset[WebIO.Asset(\"js\", nothing, \"/home/dushya/.julia/packages/InteractBase/LJXv3/src/../assets/katex.min.js\"), WebIO.Asset(\"css\", nothing, \"/home/dushya/.julia/packages/InteractBase/LJXv3/src/../assets/katex.min.css\")], Dict{Any, Any}(\"value\" => Any[WebIO.JSString(\"(function (txt){return this.k.render(txt,this.container)})\")]), WebIO.ConnectionPool(Channel{Any}(32), Set{WebIO.AbstractConnection}(), Base.GenericCondition{ReentrantLock}(Base.IntrusiveLinkedList{Task}(Task (runnable) @0x00007f0da3b52a40, Task (runnable) @0x00007f0da3b52a40), ReentrantLock(nothing, 0x00000000, 0x00, Base.GenericCondition{Base.Threads.SpinLock}(Base.IntrusiveLinkedList{Task}(nothing, nothing), Base.Threads.SpinLock(0)), (0, 0, 139698498436336)))), WebIO.JSString[WebIO.JSString(\"function () {\\n    var handler = ((function (k){this.k=k; this.container=this.dom.querySelector(\\\"#container\\\"); return k.render(\\\"\\\\\\\\;\\\\\\\\;\\\",this.container)}));\\n    (WebIO.importBlock({\\\"data\\\":[{\\\"name\\\":null,\\\"type\\\":\\\"js\\\",\\\"url\\\":\\\"/assetserver/dd22ed1bf1896c2748f3fe616ce0b838adc895c1-katex.min.js\\\"},{\\\"name\\\":null,\\\"type\\\":\\\"css\\\",\\\"url\\\":\\\"/assetserver/46517a424aa5e6cffc1360d7e0848b601c584ee3-katex.min.css\\\"}],\\\"type\\\":\\\"async_block\\\"})).then((imports) => handler.apply(this, imports));\\n}\\n\")])], Dict{Symbol, Any}(:className => \"interact-widget\")), WebIO.Node{WebIO.DOM}(WebIO.DOM(:html, :div), Any[], Dict{Symbol, Any}(:style => Dict(\"display\" => \"flex\", \"flex-direction\" => \"column\")))], Dict{Symbol, Any}(:style => Dict(\"display\" => \"flex\", \"flex-direction\" => \"row\")))], Dict{Symbol, Any}(:style => Dict(\"display\" => \"flex\", \"flex-direction\" => \"column\")))"
      ]
     },
     "execution_count": 6,
     "metadata": {
      "application/vnd.webio.node+json": {
       "kernelId": "1af7d208-d09e-48de-8444-b75606197f70"
      }
     },
     "output_type": "execute_result"
    }
   ],
   "source": [
    "animate_sim(model, show_patches=true)"
   ]
  },
  {
   "cell_type": "markdown",
   "metadata": {},
   "source": [
    "After defining the `step_rule!` function we can also choose to create an interactive application (which currently works in Jupyter with WebIO installation) as "
   ]
  },
  {
   "cell_type": "code",
   "execution_count": 7,
   "metadata": {},
   "outputs": [
    {
     "data": {
      "application/vnd.webio.node+json": {
       "children": [
        {
         "children": [
          {
           "children": [
            {
             "children": [
              {
               "children": [
                {
                 "children": [
                  {
                   "children": [
                    {
                     "children": [
                      "time"
                     ],
                     "instanceArgs": {
                      "namespace": "html",
                      "tag": "label"
                     },
                     "nodeType": "DOM",
                     "props": {
                      "className": "interact ",
                      "style": {
                       "padding": "5px 10px 0px 10px"
                      }
                     },
                     "type": "node"
                    }
                   ],
                   "instanceArgs": {
                    "namespace": "html",
                    "tag": "div"
                   },
                   "nodeType": "DOM",
                   "props": {
                    "className": "interact-flex-row-left"
                   },
                   "type": "node"
                  },
                  {
                   "children": [
                    {
                     "children": [],
                     "instanceArgs": {
                      "namespace": "html",
                      "tag": "input"
                     },
                     "nodeType": "DOM",
                     "props": {
                      "attributes": {
                       "data-bind": "numericValue: index, valueUpdate: 'input', event: {change: function (){this.changes(this.changes()+1)}}",
                       "orient": "horizontal",
                       "type": "range"
                      },
                      "className": "slider slider is-fullwidth",
                      "max": 200,
                      "min": 1,
                      "step": 1,
                      "style": {}
                     },
                     "type": "node"
                    }
                   ],
                   "instanceArgs": {
                    "namespace": "html",
                    "tag": "div"
                   },
                   "nodeType": "DOM",
                   "props": {
                    "className": "interact-flex-row-center"
                   },
                   "type": "node"
                  },
                  {
                   "children": [
                    {
                     "children": [],
                     "instanceArgs": {
                      "namespace": "html",
                      "tag": "p"
                     },
                     "nodeType": "DOM",
                     "props": {
                      "attributes": {
                       "data-bind": "text: formatted_val"
                      }
                     },
                     "type": "node"
                    }
                   ],
                   "instanceArgs": {
                    "namespace": "html",
                    "tag": "div"
                   },
                   "nodeType": "DOM",
                   "props": {
                    "className": "interact-flex-row-right"
                   },
                   "type": "node"
                  }
                 ],
                 "instanceArgs": {
                  "namespace": "html",
                  "tag": "div"
                 },
                 "nodeType": "DOM",
                 "props": {
                  "className": "interact-flex-row interact-widget"
                 },
                 "type": "node"
                }
               ],
               "instanceArgs": {
                "handlers": {
                 "changes": [
                  "(function (val){return (val!=this.model[\"changes\"]()) ? (this.valueFromJulia[\"changes\"]=true, this.model[\"changes\"](val)) : undefined})"
                 ],
                 "index": [
                  "(function (val){return (val!=this.model[\"index\"]()) ? (this.valueFromJulia[\"index\"]=true, this.model[\"index\"](val)) : undefined})"
                 ]
                },
                "id": "8862731819570235158",
                "imports": {
                 "data": [
                  {
                   "name": "knockout",
                   "type": "js",
                   "url": "/assetserver/727383f2a47bd31570b7da84eee7b022dd6d7c78-knockout.js"
                  },
                  {
                   "name": "knockout_punches",
                   "type": "js",
                   "url": "/assetserver/382b41b3b1bd9f26f75861d360bad7f8beea211f-knockout_punches.js"
                  },
                  {
                   "name": null,
                   "type": "js",
                   "url": "/assetserver/5ab20f1060420992a9b82a65b735dee4d81ef413-all.js"
                  },
                  {
                   "name": null,
                   "type": "css",
                   "url": "/assetserver/1cc0ed62837210b80a182cc3676512f895dab686-style.css"
                  },
                  {
                   "name": null,
                   "type": "css",
                   "url": "/assetserver/2eee816f616df3549d7044d45e744fbf8d42bfa1-bulma_confined.min.css"
                  }
                 ],
                 "type": "async_block"
                },
                "mount_callbacks": [
                 "function () {\n    var handler = (function (ko, koPunches) {\n    ko.punches.enableAll();\n    ko.bindingHandlers.numericValue = {\n        init: function(element, valueAccessor, allBindings, data, context) {\n            var stringified = ko.observable(ko.unwrap(valueAccessor()));\n            stringified.subscribe(function(value) {\n                var val = parseFloat(value);\n                if (!isNaN(val)) {\n                    valueAccessor()(val);\n                }\n            });\n            valueAccessor().subscribe(function(value) {\n                var str = JSON.stringify(value);\n                if ((str == \"0\") && ([\"-0\", \"-0.\"].indexOf(stringified()) >= 0))\n                     return;\n                 if ([\"null\", \"\"].indexOf(str) >= 0)\n                     return;\n                stringified(str);\n            });\n            ko.applyBindingsToNode(\n                element,\n                {\n                    value: stringified,\n                    valueUpdate: allBindings.get('valueUpdate'),\n                },\n                context,\n            );\n        }\n    };\n    var json_data = {\"formatted_vals\":[\"1\",\"2\",\"3\",\"4\",\"5\",\"6\",\"7\",\"8\",\"9\",\"10\",\"11\",\"12\",\"13\",\"14\",\"15\",\"16\",\"17\",\"18\",\"19\",\"20\",\"21\",\"22\",\"23\",\"24\",\"25\",\"26\",\"27\",\"28\",\"29\",\"30\",\"31\",\"32\",\"33\",\"34\",\"35\",\"36\",\"37\",\"38\",\"39\",\"40\",\"41\",\"42\",\"43\",\"44\",\"45\",\"46\",\"47\",\"48\",\"49\",\"50\",\"51\",\"52\",\"53\",\"54\",\"55\",\"56\",\"57\",\"58\",\"59\",\"60\",\"61\",\"62\",\"63\",\"64\",\"65\",\"66\",\"67\",\"68\",\"69\",\"70\",\"71\",\"72\",\"73\",\"74\",\"75\",\"76\",\"77\",\"78\",\"79\",\"80\",\"81\",\"82\",\"83\",\"84\",\"85\",\"86\",\"87\",\"88\",\"89\",\"90\",\"91\",\"92\",\"93\",\"94\",\"95\",\"96\",\"97\",\"98\",\"99\",\"100\",\"101\",\"102\",\"103\",\"104\",\"105\",\"106\",\"107\",\"108\",\"109\",\"110\",\"111\",\"112\",\"113\",\"114\",\"115\",\"116\",\"117\",\"118\",\"119\",\"120\",\"121\",\"122\",\"123\",\"124\",\"125\",\"126\",\"127\",\"128\",\"129\",\"130\",\"131\",\"132\",\"133\",\"134\",\"135\",\"136\",\"137\",\"138\",\"139\",\"140\",\"141\",\"142\",\"143\",\"144\",\"145\",\"146\",\"147\",\"148\",\"149\",\"150\",\"151\",\"152\",\"153\",\"154\",\"155\",\"156\",\"157\",\"158\",\"159\",\"160\",\"161\",\"162\",\"163\",\"164\",\"165\",\"166\",\"167\",\"168\",\"169\",\"170\",\"171\",\"172\",\"173\",\"174\",\"175\",\"176\",\"177\",\"178\",\"179\",\"180\",\"181\",\"182\",\"183\",\"184\",\"185\",\"186\",\"187\",\"188\",\"189\",\"190\",\"191\",\"192\",\"193\",\"194\",\"195\",\"196\",\"197\",\"198\",\"199\",\"200\"],\"changes\":WebIO.getval({\"name\":\"changes\",\"scope\":\"8862731819570235158\",\"id\":\"15142653228492649392\",\"type\":\"observable\"}),\"index\":WebIO.getval({\"name\":\"index\",\"scope\":\"8862731819570235158\",\"id\":\"10808795950796895910\",\"type\":\"observable\"})};\n    var self = this;\n    function AppViewModel() {\n        for (var key in json_data) {\n            var el = json_data[key];\n            this[key] = Array.isArray(el) ? ko.observableArray(el) : ko.observable(el);\n        }\n        \n        [this[\"formatted_val\"]=ko.computed(    function(){\n        return this.formatted_vals()[parseInt(this.index())-(1)];\n    }\n,this)]\n        [this[\"changes\"].subscribe((function (val){!(this.valueFromJulia[\"changes\"]) ? (WebIO.setval({\"name\":\"changes\",\"scope\":\"8862731819570235158\",\"id\":\"15142653228492649392\",\"type\":\"observable\"},val)) : undefined; return this.valueFromJulia[\"changes\"]=false}),self),this[\"index\"].subscribe((function (val){!(this.valueFromJulia[\"index\"]) ? (WebIO.setval({\"name\":\"index\",\"scope\":\"8862731819570235158\",\"id\":\"10808795950796895910\",\"type\":\"observable\"},val)) : undefined; return this.valueFromJulia[\"index\"]=false}),self)]\n        \n    }\n    self.model = new AppViewModel();\n    self.valueFromJulia = {};\n    for (var key in json_data) {\n        self.valueFromJulia[key] = false;\n    }\n    ko.applyBindings(self.model, self.dom);\n}\n);\n    (WebIO.importBlock({\"data\":[{\"name\":\"knockout\",\"type\":\"js\",\"url\":\"/assetserver/727383f2a47bd31570b7da84eee7b022dd6d7c78-knockout.js\"},{\"name\":\"knockout_punches\",\"type\":\"js\",\"url\":\"/assetserver/382b41b3b1bd9f26f75861d360bad7f8beea211f-knockout_punches.js\"}],\"type\":\"async_block\"})).then((imports) => handler.apply(this, imports));\n}\n"
                ],
                "observables": {
                 "changes": {
                  "id": "15142653228492649392",
                  "sync": false,
                  "value": 0
                 },
                 "index": {
                  "id": "10808795950796895910",
                  "sync": true,
                  "value": 1
                 }
                },
                "systemjs_options": null
               },
               "nodeType": "Scope",
               "props": {},
               "type": "node"
              }
             ],
             "instanceArgs": {
              "namespace": "html",
              "tag": "div"
             },
             "nodeType": "DOM",
             "props": {
              "className": "field interact-widget"
             },
             "type": "node"
            },
            {
             "children": [
              {
               "children": [
                {
                 "children": [
                  {
                   "children": [
                    {
                     "children": [
                      "scale"
                     ],
                     "instanceArgs": {
                      "namespace": "html",
                      "tag": "label"
                     },
                     "nodeType": "DOM",
                     "props": {
                      "className": "interact ",
                      "style": {
                       "padding": "5px 10px 0px 10px"
                      }
                     },
                     "type": "node"
                    }
                   ],
                   "instanceArgs": {
                    "namespace": "html",
                    "tag": "div"
                   },
                   "nodeType": "DOM",
                   "props": {
                    "className": "interact-flex-row-left"
                   },
                   "type": "node"
                  },
                  {
                   "children": [
                    {
                     "children": [],
                     "instanceArgs": {
                      "namespace": "html",
                      "tag": "input"
                     },
                     "nodeType": "DOM",
                     "props": {
                      "attributes": {
                       "data-bind": "numericValue: index, valueUpdate: 'input', event: {change: function (){this.changes(this.changes()+1)}}",
                       "orient": "horizontal",
                       "type": "range"
                      },
                      "className": "slider slider is-fullwidth",
                      "max": 20,
                      "min": 1,
                      "step": 1,
                      "style": {}
                     },
                     "type": "node"
                    }
                   ],
                   "instanceArgs": {
                    "namespace": "html",
                    "tag": "div"
                   },
                   "nodeType": "DOM",
                   "props": {
                    "className": "interact-flex-row-center"
                   },
                   "type": "node"
                  },
                  {
                   "children": [
                    {
                     "children": [],
                     "instanceArgs": {
                      "namespace": "html",
                      "tag": "p"
                     },
                     "nodeType": "DOM",
                     "props": {
                      "attributes": {
                       "data-bind": "text: formatted_val"
                      }
                     },
                     "type": "node"
                    }
                   ],
                   "instanceArgs": {
                    "namespace": "html",
                    "tag": "div"
                   },
                   "nodeType": "DOM",
                   "props": {
                    "className": "interact-flex-row-right"
                   },
                   "type": "node"
                  }
                 ],
                 "instanceArgs": {
                  "namespace": "html",
                  "tag": "div"
                 },
                 "nodeType": "DOM",
                 "props": {
                  "className": "interact-flex-row interact-widget"
                 },
                 "type": "node"
                }
               ],
               "instanceArgs": {
                "handlers": {
                 "changes": [
                  "(function (val){return (val!=this.model[\"changes\"]()) ? (this.valueFromJulia[\"changes\"]=true, this.model[\"changes\"](val)) : undefined})"
                 ],
                 "index": [
                  "(function (val){return (val!=this.model[\"index\"]()) ? (this.valueFromJulia[\"index\"]=true, this.model[\"index\"](val)) : undefined})"
                 ]
                },
                "id": "8587721069159695662",
                "imports": {
                 "data": [
                  {
                   "name": "knockout",
                   "type": "js",
                   "url": "/assetserver/727383f2a47bd31570b7da84eee7b022dd6d7c78-knockout.js"
                  },
                  {
                   "name": "knockout_punches",
                   "type": "js",
                   "url": "/assetserver/382b41b3b1bd9f26f75861d360bad7f8beea211f-knockout_punches.js"
                  },
                  {
                   "name": null,
                   "type": "js",
                   "url": "/assetserver/5ab20f1060420992a9b82a65b735dee4d81ef413-all.js"
                  },
                  {
                   "name": null,
                   "type": "css",
                   "url": "/assetserver/1cc0ed62837210b80a182cc3676512f895dab686-style.css"
                  },
                  {
                   "name": null,
                   "type": "css",
                   "url": "/assetserver/2eee816f616df3549d7044d45e744fbf8d42bfa1-bulma_confined.min.css"
                  }
                 ],
                 "type": "async_block"
                },
                "mount_callbacks": [
                 "function () {\n    var handler = (function (ko, koPunches) {\n    ko.punches.enableAll();\n    ko.bindingHandlers.numericValue = {\n        init: function(element, valueAccessor, allBindings, data, context) {\n            var stringified = ko.observable(ko.unwrap(valueAccessor()));\n            stringified.subscribe(function(value) {\n                var val = parseFloat(value);\n                if (!isNaN(val)) {\n                    valueAccessor()(val);\n                }\n            });\n            valueAccessor().subscribe(function(value) {\n                var str = JSON.stringify(value);\n                if ((str == \"0\") && ([\"-0\", \"-0.\"].indexOf(stringified()) >= 0))\n                     return;\n                 if ([\"null\", \"\"].indexOf(str) >= 0)\n                     return;\n                stringified(str);\n            });\n            ko.applyBindingsToNode(\n                element,\n                {\n                    value: stringified,\n                    valueUpdate: allBindings.get('valueUpdate'),\n                },\n                context,\n            );\n        }\n    };\n    var json_data = {\"formatted_vals\":[\"0.1\",\"0.2\",\"0.3\",\"0.4\",\"0.5\",\"0.6\",\"0.7\",\"0.8\",\"0.9\",\"1.0\",\"1.1\",\"1.2\",\"1.3\",\"1.4\",\"1.5\",\"1.6\",\"1.7\",\"1.8\",\"1.9\",\"2.0\"],\"changes\":WebIO.getval({\"name\":\"changes\",\"scope\":\"8587721069159695662\",\"id\":\"12284842188814315617\",\"type\":\"observable\"}),\"index\":WebIO.getval({\"name\":\"index\",\"scope\":\"8587721069159695662\",\"id\":\"17373187217026794480\",\"type\":\"observable\"})};\n    var self = this;\n    function AppViewModel() {\n        for (var key in json_data) {\n            var el = json_data[key];\n            this[key] = Array.isArray(el) ? ko.observableArray(el) : ko.observable(el);\n        }\n        \n        [this[\"formatted_val\"]=ko.computed(    function(){\n        return this.formatted_vals()[parseInt(this.index())-(1)];\n    }\n,this)]\n        [this[\"changes\"].subscribe((function (val){!(this.valueFromJulia[\"changes\"]) ? (WebIO.setval({\"name\":\"changes\",\"scope\":\"8587721069159695662\",\"id\":\"12284842188814315617\",\"type\":\"observable\"},val)) : undefined; return this.valueFromJulia[\"changes\"]=false}),self),this[\"index\"].subscribe((function (val){!(this.valueFromJulia[\"index\"]) ? (WebIO.setval({\"name\":\"index\",\"scope\":\"8587721069159695662\",\"id\":\"17373187217026794480\",\"type\":\"observable\"},val)) : undefined; return this.valueFromJulia[\"index\"]=false}),self)]\n        \n    }\n    self.model = new AppViewModel();\n    self.valueFromJulia = {};\n    for (var key in json_data) {\n        self.valueFromJulia[key] = false;\n    }\n    ko.applyBindings(self.model, self.dom);\n}\n);\n    (WebIO.importBlock({\"data\":[{\"name\":\"knockout\",\"type\":\"js\",\"url\":\"/assetserver/727383f2a47bd31570b7da84eee7b022dd6d7c78-knockout.js\"},{\"name\":\"knockout_punches\",\"type\":\"js\",\"url\":\"/assetserver/382b41b3b1bd9f26f75861d360bad7f8beea211f-knockout_punches.js\"}],\"type\":\"async_block\"})).then((imports) => handler.apply(this, imports));\n}\n"
                ],
                "observables": {
                 "changes": {
                  "id": "12284842188814315617",
                  "sync": false,
                  "value": 0
                 },
                 "index": {
                  "id": "17373187217026794480",
                  "sync": true,
                  "value": 10
                 }
                },
                "systemjs_options": null
               },
               "nodeType": "Scope",
               "props": {},
               "type": "node"
              }
             ],
             "instanceArgs": {
              "namespace": "html",
              "tag": "div"
             },
             "nodeType": "DOM",
             "props": {
              "className": "field interact-widget"
             },
             "type": "node"
            },
            {
             "children": [],
             "instanceArgs": {
              "namespace": "html",
              "tag": "div"
             },
             "nodeType": "DOM",
             "props": {
              "style": {
               "display": "flex",
               "flex-direction": "column"
              }
             },
             "type": "node"
            },
            {
             "children": [
              {
               "children": [
                {
                 "children": [
                  {
                   "children": [
                    {
                     "children": [
                      {
                       "children": [
                        "wolf_birth_rate"
                       ],
                       "instanceArgs": {
                        "namespace": "html",
                        "tag": "label"
                       },
                       "nodeType": "DOM",
                       "props": {
                        "className": "interact ",
                        "style": {
                         "padding": "5px 10px 0px 10px"
                        }
                       },
                       "type": "node"
                      }
                     ],
                     "instanceArgs": {
                      "namespace": "html",
                      "tag": "div"
                     },
                     "nodeType": "DOM",
                     "props": {
                      "className": "interact-flex-row-left"
                     },
                     "type": "node"
                    },
                    {
                     "children": [
                      {
                       "children": [],
                       "instanceArgs": {
                        "namespace": "html",
                        "tag": "input"
                       },
                       "nodeType": "DOM",
                       "props": {
                        "attributes": {
                         "data-bind": "numericValue: index, valueUpdate: 'input', event: {change: function (){this.changes(this.changes()+1)}}",
                         "orient": "horizontal",
                         "type": "range"
                        },
                        "className": "slider slider is-fullwidth",
                        "max": 101,
                        "min": 1,
                        "step": 1,
                        "style": {}
                       },
                       "type": "node"
                      }
                     ],
                     "instanceArgs": {
                      "namespace": "html",
                      "tag": "div"
                     },
                     "nodeType": "DOM",
                     "props": {
                      "className": "interact-flex-row-center"
                     },
                     "type": "node"
                    },
                    {
                     "children": [
                      {
                       "children": [],
                       "instanceArgs": {
                        "namespace": "html",
                        "tag": "p"
                       },
                       "nodeType": "DOM",
                       "props": {
                        "attributes": {
                         "data-bind": "text: formatted_val"
                        }
                       },
                       "type": "node"
                      }
                     ],
                     "instanceArgs": {
                      "namespace": "html",
                      "tag": "div"
                     },
                     "nodeType": "DOM",
                     "props": {
                      "className": "interact-flex-row-right"
                     },
                     "type": "node"
                    }
                   ],
                   "instanceArgs": {
                    "namespace": "html",
                    "tag": "div"
                   },
                   "nodeType": "DOM",
                   "props": {
                    "className": "interact-flex-row interact-widget"
                   },
                   "type": "node"
                  }
                 ],
                 "instanceArgs": {
                  "handlers": {
                   "changes": [
                    "(function (val){return (val!=this.model[\"changes\"]()) ? (this.valueFromJulia[\"changes\"]=true, this.model[\"changes\"](val)) : undefined})"
                   ],
                   "index": [
                    "(function (val){return (val!=this.model[\"index\"]()) ? (this.valueFromJulia[\"index\"]=true, this.model[\"index\"](val)) : undefined})"
                   ]
                  },
                  "id": "17356495088381849194",
                  "imports": {
                   "data": [
                    {
                     "name": "knockout",
                     "type": "js",
                     "url": "/assetserver/727383f2a47bd31570b7da84eee7b022dd6d7c78-knockout.js"
                    },
                    {
                     "name": "knockout_punches",
                     "type": "js",
                     "url": "/assetserver/382b41b3b1bd9f26f75861d360bad7f8beea211f-knockout_punches.js"
                    },
                    {
                     "name": null,
                     "type": "js",
                     "url": "/assetserver/5ab20f1060420992a9b82a65b735dee4d81ef413-all.js"
                    },
                    {
                     "name": null,
                     "type": "css",
                     "url": "/assetserver/1cc0ed62837210b80a182cc3676512f895dab686-style.css"
                    },
                    {
                     "name": null,
                     "type": "css",
                     "url": "/assetserver/2eee816f616df3549d7044d45e744fbf8d42bfa1-bulma_confined.min.css"
                    }
                   ],
                   "type": "async_block"
                  },
                  "mount_callbacks": [
                   "function () {\n    var handler = (function (ko, koPunches) {\n    ko.punches.enableAll();\n    ko.bindingHandlers.numericValue = {\n        init: function(element, valueAccessor, allBindings, data, context) {\n            var stringified = ko.observable(ko.unwrap(valueAccessor()));\n            stringified.subscribe(function(value) {\n                var val = parseFloat(value);\n                if (!isNaN(val)) {\n                    valueAccessor()(val);\n                }\n            });\n            valueAccessor().subscribe(function(value) {\n                var str = JSON.stringify(value);\n                if ((str == \"0\") && ([\"-0\", \"-0.\"].indexOf(stringified()) >= 0))\n                     return;\n                 if ([\"null\", \"\"].indexOf(str) >= 0)\n                     return;\n                stringified(str);\n            });\n            ko.applyBindingsToNode(\n                element,\n                {\n                    value: stringified,\n                    valueUpdate: allBindings.get('valueUpdate'),\n                },\n                context,\n            );\n        }\n    };\n    var json_data = {\"formatted_vals\":[\"0.0\",\"0.01\",\"0.02\",\"0.03\",\"0.04\",\"0.05\",\"0.06\",\"0.07\",\"0.08\",\"0.09\",\"0.1\",\"0.11\",\"0.12\",\"0.13\",\"0.14\",\"0.15\",\"0.16\",\"0.17\",\"0.18\",\"0.19\",\"0.2\",\"0.21\",\"0.22\",\"0.23\",\"0.24\",\"0.25\",\"0.26\",\"0.27\",\"0.28\",\"0.29\",\"0.3\",\"0.31\",\"0.32\",\"0.33\",\"0.34\",\"0.35\",\"0.36\",\"0.37\",\"0.38\",\"0.39\",\"0.4\",\"0.41\",\"0.42\",\"0.43\",\"0.44\",\"0.45\",\"0.46\",\"0.47\",\"0.48\",\"0.49\",\"0.5\",\"0.51\",\"0.52\",\"0.53\",\"0.54\",\"0.55\",\"0.56\",\"0.57\",\"0.58\",\"0.59\",\"0.6\",\"0.61\",\"0.62\",\"0.63\",\"0.64\",\"0.65\",\"0.66\",\"0.67\",\"0.68\",\"0.69\",\"0.7\",\"0.71\",\"0.72\",\"0.73\",\"0.74\",\"0.75\",\"0.76\",\"0.77\",\"0.78\",\"0.79\",\"0.8\",\"0.81\",\"0.82\",\"0.83\",\"0.84\",\"0.85\",\"0.86\",\"0.87\",\"0.88\",\"0.89\",\"0.9\",\"0.91\",\"0.92\",\"0.93\",\"0.94\",\"0.95\",\"0.96\",\"0.97\",\"0.98\",\"0.99\",\"1.0\"],\"changes\":WebIO.getval({\"name\":\"changes\",\"scope\":\"17356495088381849194\",\"id\":\"10038222847662196887\",\"type\":\"observable\"}),\"index\":WebIO.getval({\"name\":\"index\",\"scope\":\"17356495088381849194\",\"id\":\"3782522997244175003\",\"type\":\"observable\"})};\n    var self = this;\n    function AppViewModel() {\n        for (var key in json_data) {\n            var el = json_data[key];\n            this[key] = Array.isArray(el) ? ko.observableArray(el) : ko.observable(el);\n        }\n        \n        [this[\"formatted_val\"]=ko.computed(    function(){\n        return this.formatted_vals()[parseInt(this.index())-(1)];\n    }\n,this)]\n        [this[\"changes\"].subscribe((function (val){!(this.valueFromJulia[\"changes\"]) ? (WebIO.setval({\"name\":\"changes\",\"scope\":\"17356495088381849194\",\"id\":\"10038222847662196887\",\"type\":\"observable\"},val)) : undefined; return this.valueFromJulia[\"changes\"]=false}),self),this[\"index\"].subscribe((function (val){!(this.valueFromJulia[\"index\"]) ? (WebIO.setval({\"name\":\"index\",\"scope\":\"17356495088381849194\",\"id\":\"3782522997244175003\",\"type\":\"observable\"},val)) : undefined; return this.valueFromJulia[\"index\"]=false}),self)]\n        \n    }\n    self.model = new AppViewModel();\n    self.valueFromJulia = {};\n    for (var key in json_data) {\n        self.valueFromJulia[key] = false;\n    }\n    ko.applyBindings(self.model, self.dom);\n}\n);\n    (WebIO.importBlock({\"data\":[{\"name\":\"knockout\",\"type\":\"js\",\"url\":\"/assetserver/727383f2a47bd31570b7da84eee7b022dd6d7c78-knockout.js\"},{\"name\":\"knockout_punches\",\"type\":\"js\",\"url\":\"/assetserver/382b41b3b1bd9f26f75861d360bad7f8beea211f-knockout_punches.js\"}],\"type\":\"async_block\"})).then((imports) => handler.apply(this, imports));\n}\n"
                  ],
                  "observables": {
                   "changes": {
                    "id": "10038222847662196887",
                    "sync": false,
                    "value": 0
                   },
                   "index": {
                    "id": "3782522997244175003",
                    "sync": true,
                    "value": 51
                   }
                  },
                  "systemjs_options": null
                 },
                 "nodeType": "Scope",
                 "props": {},
                 "type": "node"
                }
               ],
               "instanceArgs": {
                "namespace": "html",
                "tag": "div"
               },
               "nodeType": "DOM",
               "props": {
                "className": "field interact-widget"
               },
               "type": "node"
              },
              {
               "children": [
                {
                 "children": [
                  {
                   "children": [
                    {
                     "children": [
                      {
                       "children": [
                        "sheep_birth_rate"
                       ],
                       "instanceArgs": {
                        "namespace": "html",
                        "tag": "label"
                       },
                       "nodeType": "DOM",
                       "props": {
                        "className": "interact ",
                        "style": {
                         "padding": "5px 10px 0px 10px"
                        }
                       },
                       "type": "node"
                      }
                     ],
                     "instanceArgs": {
                      "namespace": "html",
                      "tag": "div"
                     },
                     "nodeType": "DOM",
                     "props": {
                      "className": "interact-flex-row-left"
                     },
                     "type": "node"
                    },
                    {
                     "children": [
                      {
                       "children": [],
                       "instanceArgs": {
                        "namespace": "html",
                        "tag": "input"
                       },
                       "nodeType": "DOM",
                       "props": {
                        "attributes": {
                         "data-bind": "numericValue: index, valueUpdate: 'input', event: {change: function (){this.changes(this.changes()+1)}}",
                         "orient": "horizontal",
                         "type": "range"
                        },
                        "className": "slider slider is-fullwidth",
                        "max": 100,
                        "min": 1,
                        "step": 1,
                        "style": {}
                       },
                       "type": "node"
                      }
                     ],
                     "instanceArgs": {
                      "namespace": "html",
                      "tag": "div"
                     },
                     "nodeType": "DOM",
                     "props": {
                      "className": "interact-flex-row-center"
                     },
                     "type": "node"
                    },
                    {
                     "children": [
                      {
                       "children": [],
                       "instanceArgs": {
                        "namespace": "html",
                        "tag": "p"
                       },
                       "nodeType": "DOM",
                       "props": {
                        "attributes": {
                         "data-bind": "text: formatted_val"
                        }
                       },
                       "type": "node"
                      }
                     ],
                     "instanceArgs": {
                      "namespace": "html",
                      "tag": "div"
                     },
                     "nodeType": "DOM",
                     "props": {
                      "className": "interact-flex-row-right"
                     },
                     "type": "node"
                    }
                   ],
                   "instanceArgs": {
                    "namespace": "html",
                    "tag": "div"
                   },
                   "nodeType": "DOM",
                   "props": {
                    "className": "interact-flex-row interact-widget"
                   },
                   "type": "node"
                  }
                 ],
                 "instanceArgs": {
                  "handlers": {
                   "changes": [
                    "(function (val){return (val!=this.model[\"changes\"]()) ? (this.valueFromJulia[\"changes\"]=true, this.model[\"changes\"](val)) : undefined})"
                   ],
                   "index": [
                    "(function (val){return (val!=this.model[\"index\"]()) ? (this.valueFromJulia[\"index\"]=true, this.model[\"index\"](val)) : undefined})"
                   ]
                  },
                  "id": "11389994850929990858",
                  "imports": {
                   "data": [
                    {
                     "name": "knockout",
                     "type": "js",
                     "url": "/assetserver/727383f2a47bd31570b7da84eee7b022dd6d7c78-knockout.js"
                    },
                    {
                     "name": "knockout_punches",
                     "type": "js",
                     "url": "/assetserver/382b41b3b1bd9f26f75861d360bad7f8beea211f-knockout_punches.js"
                    },
                    {
                     "name": null,
                     "type": "js",
                     "url": "/assetserver/5ab20f1060420992a9b82a65b735dee4d81ef413-all.js"
                    },
                    {
                     "name": null,
                     "type": "css",
                     "url": "/assetserver/1cc0ed62837210b80a182cc3676512f895dab686-style.css"
                    },
                    {
                     "name": null,
                     "type": "css",
                     "url": "/assetserver/2eee816f616df3549d7044d45e744fbf8d42bfa1-bulma_confined.min.css"
                    }
                   ],
                   "type": "async_block"
                  },
                  "mount_callbacks": [
                   "function () {\n    var handler = (function (ko, koPunches) {\n    ko.punches.enableAll();\n    ko.bindingHandlers.numericValue = {\n        init: function(element, valueAccessor, allBindings, data, context) {\n            var stringified = ko.observable(ko.unwrap(valueAccessor()));\n            stringified.subscribe(function(value) {\n                var val = parseFloat(value);\n                if (!isNaN(val)) {\n                    valueAccessor()(val);\n                }\n            });\n            valueAccessor().subscribe(function(value) {\n                var str = JSON.stringify(value);\n                if ((str == \"0\") && ([\"-0\", \"-0.\"].indexOf(stringified()) >= 0))\n                     return;\n                 if ([\"null\", \"\"].indexOf(str) >= 0)\n                     return;\n                stringified(str);\n            });\n            ko.applyBindingsToNode(\n                element,\n                {\n                    value: stringified,\n                    valueUpdate: allBindings.get('valueUpdate'),\n                },\n                context,\n            );\n        }\n    };\n    var json_data = {\"formatted_vals\":[\"0.01\",\"0.02\",\"0.03\",\"0.04\",\"0.05\",\"0.06\",\"0.07\",\"0.08\",\"0.09\",\"0.1\",\"0.11\",\"0.12\",\"0.13\",\"0.14\",\"0.15\",\"0.16\",\"0.17\",\"0.18\",\"0.19\",\"0.2\",\"0.21\",\"0.22\",\"0.23\",\"0.24\",\"0.25\",\"0.26\",\"0.27\",\"0.28\",\"0.29\",\"0.3\",\"0.31\",\"0.32\",\"0.33\",\"0.34\",\"0.35\",\"0.36\",\"0.37\",\"0.38\",\"0.39\",\"0.4\",\"0.41\",\"0.42\",\"0.43\",\"0.44\",\"0.45\",\"0.46\",\"0.47\",\"0.48\",\"0.49\",\"0.5\",\"0.51\",\"0.52\",\"0.53\",\"0.54\",\"0.55\",\"0.56\",\"0.57\",\"0.58\",\"0.59\",\"0.6\",\"0.61\",\"0.62\",\"0.63\",\"0.64\",\"0.65\",\"0.66\",\"0.67\",\"0.68\",\"0.69\",\"0.7\",\"0.71\",\"0.72\",\"0.73\",\"0.74\",\"0.75\",\"0.76\",\"0.77\",\"0.78\",\"0.79\",\"0.8\",\"0.81\",\"0.82\",\"0.83\",\"0.84\",\"0.85\",\"0.86\",\"0.87\",\"0.88\",\"0.89\",\"0.9\",\"0.91\",\"0.92\",\"0.93\",\"0.94\",\"0.95\",\"0.96\",\"0.97\",\"0.98\",\"0.99\",\"1.0\"],\"changes\":WebIO.getval({\"name\":\"changes\",\"scope\":\"11389994850929990858\",\"id\":\"12749272913445105922\",\"type\":\"observable\"}),\"index\":WebIO.getval({\"name\":\"index\",\"scope\":\"11389994850929990858\",\"id\":\"18278684331958496048\",\"type\":\"observable\"})};\n    var self = this;\n    function AppViewModel() {\n        for (var key in json_data) {\n            var el = json_data[key];\n            this[key] = Array.isArray(el) ? ko.observableArray(el) : ko.observable(el);\n        }\n        \n        [this[\"formatted_val\"]=ko.computed(    function(){\n        return this.formatted_vals()[parseInt(this.index())-(1)];\n    }\n,this)]\n        [this[\"changes\"].subscribe((function (val){!(this.valueFromJulia[\"changes\"]) ? (WebIO.setval({\"name\":\"changes\",\"scope\":\"11389994850929990858\",\"id\":\"12749272913445105922\",\"type\":\"observable\"},val)) : undefined; return this.valueFromJulia[\"changes\"]=false}),self),this[\"index\"].subscribe((function (val){!(this.valueFromJulia[\"index\"]) ? (WebIO.setval({\"name\":\"index\",\"scope\":\"11389994850929990858\",\"id\":\"18278684331958496048\",\"type\":\"observable\"},val)) : undefined; return this.valueFromJulia[\"index\"]=false}),self)]\n        \n    }\n    self.model = new AppViewModel();\n    self.valueFromJulia = {};\n    for (var key in json_data) {\n        self.valueFromJulia[key] = false;\n    }\n    ko.applyBindings(self.model, self.dom);\n}\n);\n    (WebIO.importBlock({\"data\":[{\"name\":\"knockout\",\"type\":\"js\",\"url\":\"/assetserver/727383f2a47bd31570b7da84eee7b022dd6d7c78-knockout.js\"},{\"name\":\"knockout_punches\",\"type\":\"js\",\"url\":\"/assetserver/382b41b3b1bd9f26f75861d360bad7f8beea211f-knockout_punches.js\"}],\"type\":\"async_block\"})).then((imports) => handler.apply(this, imports));\n}\n"
                  ],
                  "observables": {
                   "changes": {
                    "id": "12749272913445105922",
                    "sync": false,
                    "value": 0
                   },
                   "index": {
                    "id": "18278684331958496048",
                    "sync": true,
                    "value": 50
                   }
                  },
                  "systemjs_options": null
                 },
                 "nodeType": "Scope",
                 "props": {},
                 "type": "node"
                }
               ],
               "instanceArgs": {
                "namespace": "html",
                "tag": "div"
               },
               "nodeType": "DOM",
               "props": {
                "className": "field interact-widget"
               },
               "type": "node"
              },
              {
               "children": [
                {
                 "children": [
                  {
                   "children": [
                    {
                     "children": [
                      {
                       "children": [
                        "initial_wolf_percent"
                       ],
                       "instanceArgs": {
                        "namespace": "html",
                        "tag": "label"
                       },
                       "nodeType": "DOM",
                       "props": {
                        "className": "interact ",
                        "style": {
                         "padding": "5px 10px 0px 10px"
                        }
                       },
                       "type": "node"
                      }
                     ],
                     "instanceArgs": {
                      "namespace": "html",
                      "tag": "div"
                     },
                     "nodeType": "DOM",
                     "props": {
                      "className": "interact-flex-row-left"
                     },
                     "type": "node"
                    },
                    {
                     "children": [
                      {
                       "children": [],
                       "instanceArgs": {
                        "namespace": "html",
                        "tag": "input"
                       },
                       "nodeType": "DOM",
                       "props": {
                        "attributes": {
                         "data-bind": "numericValue: index, valueUpdate: 'input', event: {change: function (){this.changes(this.changes()+1)}}",
                         "orient": "horizontal",
                         "type": "range"
                        },
                        "className": "slider slider is-fullwidth",
                        "max": 90,
                        "min": 1,
                        "step": 1,
                        "style": {}
                       },
                       "type": "node"
                      }
                     ],
                     "instanceArgs": {
                      "namespace": "html",
                      "tag": "div"
                     },
                     "nodeType": "DOM",
                     "props": {
                      "className": "interact-flex-row-center"
                     },
                     "type": "node"
                    },
                    {
                     "children": [
                      {
                       "children": [],
                       "instanceArgs": {
                        "namespace": "html",
                        "tag": "p"
                       },
                       "nodeType": "DOM",
                       "props": {
                        "attributes": {
                         "data-bind": "text: formatted_val"
                        }
                       },
                       "type": "node"
                      }
                     ],
                     "instanceArgs": {
                      "namespace": "html",
                      "tag": "div"
                     },
                     "nodeType": "DOM",
                     "props": {
                      "className": "interact-flex-row-right"
                     },
                     "type": "node"
                    }
                   ],
                   "instanceArgs": {
                    "namespace": "html",
                    "tag": "div"
                   },
                   "nodeType": "DOM",
                   "props": {
                    "className": "interact-flex-row interact-widget"
                   },
                   "type": "node"
                  }
                 ],
                 "instanceArgs": {
                  "handlers": {
                   "changes": [
                    "(function (val){return (val!=this.model[\"changes\"]()) ? (this.valueFromJulia[\"changes\"]=true, this.model[\"changes\"](val)) : undefined})"
                   ],
                   "index": [
                    "(function (val){return (val!=this.model[\"index\"]()) ? (this.valueFromJulia[\"index\"]=true, this.model[\"index\"](val)) : undefined})"
                   ]
                  },
                  "id": "270164881063481206",
                  "imports": {
                   "data": [
                    {
                     "name": "knockout",
                     "type": "js",
                     "url": "/assetserver/727383f2a47bd31570b7da84eee7b022dd6d7c78-knockout.js"
                    },
                    {
                     "name": "knockout_punches",
                     "type": "js",
                     "url": "/assetserver/382b41b3b1bd9f26f75861d360bad7f8beea211f-knockout_punches.js"
                    },
                    {
                     "name": null,
                     "type": "js",
                     "url": "/assetserver/5ab20f1060420992a9b82a65b735dee4d81ef413-all.js"
                    },
                    {
                     "name": null,
                     "type": "css",
                     "url": "/assetserver/1cc0ed62837210b80a182cc3676512f895dab686-style.css"
                    },
                    {
                     "name": null,
                     "type": "css",
                     "url": "/assetserver/2eee816f616df3549d7044d45e744fbf8d42bfa1-bulma_confined.min.css"
                    }
                   ],
                   "type": "async_block"
                  },
                  "mount_callbacks": [
                   "function () {\n    var handler = (function (ko, koPunches) {\n    ko.punches.enableAll();\n    ko.bindingHandlers.numericValue = {\n        init: function(element, valueAccessor, allBindings, data, context) {\n            var stringified = ko.observable(ko.unwrap(valueAccessor()));\n            stringified.subscribe(function(value) {\n                var val = parseFloat(value);\n                if (!isNaN(val)) {\n                    valueAccessor()(val);\n                }\n            });\n            valueAccessor().subscribe(function(value) {\n                var str = JSON.stringify(value);\n                if ((str == \"0\") && ([\"-0\", \"-0.\"].indexOf(stringified()) >= 0))\n                     return;\n                 if ([\"null\", \"\"].indexOf(str) >= 0)\n                     return;\n                stringified(str);\n            });\n            ko.applyBindingsToNode(\n                element,\n                {\n                    value: stringified,\n                    valueUpdate: allBindings.get('valueUpdate'),\n                },\n                context,\n            );\n        }\n    };\n    var json_data = {\"formatted_vals\":[\"0.01\",\"0.02\",\"0.03\",\"0.04\",\"0.05\",\"0.06\",\"0.07\",\"0.08\",\"0.09\",\"0.1\",\"0.11\",\"0.12\",\"0.13\",\"0.14\",\"0.15\",\"0.16\",\"0.17\",\"0.18\",\"0.19\",\"0.2\",\"0.21\",\"0.22\",\"0.23\",\"0.24\",\"0.25\",\"0.26\",\"0.27\",\"0.28\",\"0.29\",\"0.3\",\"0.31\",\"0.32\",\"0.33\",\"0.34\",\"0.35\",\"0.36\",\"0.37\",\"0.38\",\"0.39\",\"0.4\",\"0.41\",\"0.42\",\"0.43\",\"0.44\",\"0.45\",\"0.46\",\"0.47\",\"0.48\",\"0.49\",\"0.5\",\"0.51\",\"0.52\",\"0.53\",\"0.54\",\"0.55\",\"0.56\",\"0.57\",\"0.58\",\"0.59\",\"0.6\",\"0.61\",\"0.62\",\"0.63\",\"0.64\",\"0.65\",\"0.66\",\"0.67\",\"0.68\",\"0.69\",\"0.7\",\"0.71\",\"0.72\",\"0.73\",\"0.74\",\"0.75\",\"0.76\",\"0.77\",\"0.78\",\"0.79\",\"0.8\",\"0.81\",\"0.82\",\"0.83\",\"0.84\",\"0.85\",\"0.86\",\"0.87\",\"0.88\",\"0.89\",\"0.9\"],\"changes\":WebIO.getval({\"name\":\"changes\",\"scope\":\"270164881063481206\",\"id\":\"9472066984359219271\",\"type\":\"observable\"}),\"index\":WebIO.getval({\"name\":\"index\",\"scope\":\"270164881063481206\",\"id\":\"7232231715861994109\",\"type\":\"observable\"})};\n    var self = this;\n    function AppViewModel() {\n        for (var key in json_data) {\n            var el = json_data[key];\n            this[key] = Array.isArray(el) ? ko.observableArray(el) : ko.observable(el);\n        }\n        \n        [this[\"formatted_val\"]=ko.computed(    function(){\n        return this.formatted_vals()[parseInt(this.index())-(1)];\n    }\n,this)]\n        [this[\"changes\"].subscribe((function (val){!(this.valueFromJulia[\"changes\"]) ? (WebIO.setval({\"name\":\"changes\",\"scope\":\"270164881063481206\",\"id\":\"9472066984359219271\",\"type\":\"observable\"},val)) : undefined; return this.valueFromJulia[\"changes\"]=false}),self),this[\"index\"].subscribe((function (val){!(this.valueFromJulia[\"index\"]) ? (WebIO.setval({\"name\":\"index\",\"scope\":\"270164881063481206\",\"id\":\"7232231715861994109\",\"type\":\"observable\"},val)) : undefined; return this.valueFromJulia[\"index\"]=false}),self)]\n        \n    }\n    self.model = new AppViewModel();\n    self.valueFromJulia = {};\n    for (var key in json_data) {\n        self.valueFromJulia[key] = false;\n    }\n    ko.applyBindings(self.model, self.dom);\n}\n);\n    (WebIO.importBlock({\"data\":[{\"name\":\"knockout\",\"type\":\"js\",\"url\":\"/assetserver/727383f2a47bd31570b7da84eee7b022dd6d7c78-knockout.js\"},{\"name\":\"knockout_punches\",\"type\":\"js\",\"url\":\"/assetserver/382b41b3b1bd9f26f75861d360bad7f8beea211f-knockout_punches.js\"}],\"type\":\"async_block\"})).then((imports) => handler.apply(this, imports));\n}\n"
                  ],
                  "observables": {
                   "changes": {
                    "id": "9472066984359219271",
                    "sync": false,
                    "value": 0
                   },
                   "index": {
                    "id": "7232231715861994109",
                    "sync": true,
                    "value": 45
                   }
                  },
                  "systemjs_options": null
                 },
                 "nodeType": "Scope",
                 "props": {},
                 "type": "node"
                }
               ],
               "instanceArgs": {
                "namespace": "html",
                "tag": "div"
               },
               "nodeType": "DOM",
               "props": {
                "className": "field interact-widget"
               },
               "type": "node"
              },
              {
               "children": [
                {
                 "children": [
                  {
                   "children": [
                    {
                     "children": [
                      {
                       "children": [
                        "wolves_kill_ability"
                       ],
                       "instanceArgs": {
                        "namespace": "html",
                        "tag": "label"
                       },
                       "nodeType": "DOM",
                       "props": {
                        "className": "interact ",
                        "style": {
                         "padding": "5px 10px 0px 10px"
                        }
                       },
                       "type": "node"
                      }
                     ],
                     "instanceArgs": {
                      "namespace": "html",
                      "tag": "div"
                     },
                     "nodeType": "DOM",
                     "props": {
                      "className": "interact-flex-row-left"
                     },
                     "type": "node"
                    },
                    {
                     "children": [
                      {
                       "children": [],
                       "instanceArgs": {
                        "namespace": "html",
                        "tag": "input"
                       },
                       "nodeType": "DOM",
                       "props": {
                        "attributes": {
                         "data-bind": "numericValue: index, valueUpdate: 'input', event: {change: function (){this.changes(this.changes()+1)}}",
                         "orient": "horizontal",
                         "type": "range"
                        },
                        "className": "slider slider is-fullwidth",
                        "max": 100,
                        "min": 1,
                        "step": 1,
                        "style": {}
                       },
                       "type": "node"
                      }
                     ],
                     "instanceArgs": {
                      "namespace": "html",
                      "tag": "div"
                     },
                     "nodeType": "DOM",
                     "props": {
                      "className": "interact-flex-row-center"
                     },
                     "type": "node"
                    },
                    {
                     "children": [
                      {
                       "children": [],
                       "instanceArgs": {
                        "namespace": "html",
                        "tag": "p"
                       },
                       "nodeType": "DOM",
                       "props": {
                        "attributes": {
                         "data-bind": "text: formatted_val"
                        }
                       },
                       "type": "node"
                      }
                     ],
                     "instanceArgs": {
                      "namespace": "html",
                      "tag": "div"
                     },
                     "nodeType": "DOM",
                     "props": {
                      "className": "interact-flex-row-right"
                     },
                     "type": "node"
                    }
                   ],
                   "instanceArgs": {
                    "namespace": "html",
                    "tag": "div"
                   },
                   "nodeType": "DOM",
                   "props": {
                    "className": "interact-flex-row interact-widget"
                   },
                   "type": "node"
                  }
                 ],
                 "instanceArgs": {
                  "handlers": {
                   "changes": [
                    "(function (val){return (val!=this.model[\"changes\"]()) ? (this.valueFromJulia[\"changes\"]=true, this.model[\"changes\"](val)) : undefined})"
                   ],
                   "index": [
                    "(function (val){return (val!=this.model[\"index\"]()) ? (this.valueFromJulia[\"index\"]=true, this.model[\"index\"](val)) : undefined})"
                   ]
                  },
                  "id": "17019113991100914402",
                  "imports": {
                   "data": [
                    {
                     "name": "knockout",
                     "type": "js",
                     "url": "/assetserver/727383f2a47bd31570b7da84eee7b022dd6d7c78-knockout.js"
                    },
                    {
                     "name": "knockout_punches",
                     "type": "js",
                     "url": "/assetserver/382b41b3b1bd9f26f75861d360bad7f8beea211f-knockout_punches.js"
                    },
                    {
                     "name": null,
                     "type": "js",
                     "url": "/assetserver/5ab20f1060420992a9b82a65b735dee4d81ef413-all.js"
                    },
                    {
                     "name": null,
                     "type": "css",
                     "url": "/assetserver/1cc0ed62837210b80a182cc3676512f895dab686-style.css"
                    },
                    {
                     "name": null,
                     "type": "css",
                     "url": "/assetserver/2eee816f616df3549d7044d45e744fbf8d42bfa1-bulma_confined.min.css"
                    }
                   ],
                   "type": "async_block"
                  },
                  "mount_callbacks": [
                   "function () {\n    var handler = (function (ko, koPunches) {\n    ko.punches.enableAll();\n    ko.bindingHandlers.numericValue = {\n        init: function(element, valueAccessor, allBindings, data, context) {\n            var stringified = ko.observable(ko.unwrap(valueAccessor()));\n            stringified.subscribe(function(value) {\n                var val = parseFloat(value);\n                if (!isNaN(val)) {\n                    valueAccessor()(val);\n                }\n            });\n            valueAccessor().subscribe(function(value) {\n                var str = JSON.stringify(value);\n                if ((str == \"0\") && ([\"-0\", \"-0.\"].indexOf(stringified()) >= 0))\n                     return;\n                 if ([\"null\", \"\"].indexOf(str) >= 0)\n                     return;\n                stringified(str);\n            });\n            ko.applyBindingsToNode(\n                element,\n                {\n                    value: stringified,\n                    valueUpdate: allBindings.get('valueUpdate'),\n                },\n                context,\n            );\n        }\n    };\n    var json_data = {\"formatted_vals\":[\"0.01\",\"0.02\",\"0.03\",\"0.04\",\"0.05\",\"0.06\",\"0.07\",\"0.08\",\"0.09\",\"0.1\",\"0.11\",\"0.12\",\"0.13\",\"0.14\",\"0.15\",\"0.16\",\"0.17\",\"0.18\",\"0.19\",\"0.2\",\"0.21\",\"0.22\",\"0.23\",\"0.24\",\"0.25\",\"0.26\",\"0.27\",\"0.28\",\"0.29\",\"0.3\",\"0.31\",\"0.32\",\"0.33\",\"0.34\",\"0.35\",\"0.36\",\"0.37\",\"0.38\",\"0.39\",\"0.4\",\"0.41\",\"0.42\",\"0.43\",\"0.44\",\"0.45\",\"0.46\",\"0.47\",\"0.48\",\"0.49\",\"0.5\",\"0.51\",\"0.52\",\"0.53\",\"0.54\",\"0.55\",\"0.56\",\"0.57\",\"0.58\",\"0.59\",\"0.6\",\"0.61\",\"0.62\",\"0.63\",\"0.64\",\"0.65\",\"0.66\",\"0.67\",\"0.68\",\"0.69\",\"0.7\",\"0.71\",\"0.72\",\"0.73\",\"0.74\",\"0.75\",\"0.76\",\"0.77\",\"0.78\",\"0.79\",\"0.8\",\"0.81\",\"0.82\",\"0.83\",\"0.84\",\"0.85\",\"0.86\",\"0.87\",\"0.88\",\"0.89\",\"0.9\",\"0.91\",\"0.92\",\"0.93\",\"0.94\",\"0.95\",\"0.96\",\"0.97\",\"0.98\",\"0.99\",\"1.0\"],\"changes\":WebIO.getval({\"name\":\"changes\",\"scope\":\"17019113991100914402\",\"id\":\"15535319243614497782\",\"type\":\"observable\"}),\"index\":WebIO.getval({\"name\":\"index\",\"scope\":\"17019113991100914402\",\"id\":\"11360221027600486449\",\"type\":\"observable\"})};\n    var self = this;\n    function AppViewModel() {\n        for (var key in json_data) {\n            var el = json_data[key];\n            this[key] = Array.isArray(el) ? ko.observableArray(el) : ko.observable(el);\n        }\n        \n        [this[\"formatted_val\"]=ko.computed(    function(){\n        return this.formatted_vals()[parseInt(this.index())-(1)];\n    }\n,this)]\n        [this[\"changes\"].subscribe((function (val){!(this.valueFromJulia[\"changes\"]) ? (WebIO.setval({\"name\":\"changes\",\"scope\":\"17019113991100914402\",\"id\":\"15535319243614497782\",\"type\":\"observable\"},val)) : undefined; return this.valueFromJulia[\"changes\"]=false}),self),this[\"index\"].subscribe((function (val){!(this.valueFromJulia[\"index\"]) ? (WebIO.setval({\"name\":\"index\",\"scope\":\"17019113991100914402\",\"id\":\"11360221027600486449\",\"type\":\"observable\"},val)) : undefined; return this.valueFromJulia[\"index\"]=false}),self)]\n        \n    }\n    self.model = new AppViewModel();\n    self.valueFromJulia = {};\n    for (var key in json_data) {\n        self.valueFromJulia[key] = false;\n    }\n    ko.applyBindings(self.model, self.dom);\n}\n);\n    (WebIO.importBlock({\"data\":[{\"name\":\"knockout\",\"type\":\"js\",\"url\":\"/assetserver/727383f2a47bd31570b7da84eee7b022dd6d7c78-knockout.js\"},{\"name\":\"knockout_punches\",\"type\":\"js\",\"url\":\"/assetserver/382b41b3b1bd9f26f75861d360bad7f8beea211f-knockout_punches.js\"}],\"type\":\"async_block\"})).then((imports) => handler.apply(this, imports));\n}\n"
                  ],
                  "observables": {
                   "changes": {
                    "id": "15535319243614497782",
                    "sync": false,
                    "value": 0
                   },
                   "index": {
                    "id": "11360221027600486449",
                    "sync": true,
                    "value": 50
                   }
                  },
                  "systemjs_options": null
                 },
                 "nodeType": "Scope",
                 "props": {},
                 "type": "node"
                }
               ],
               "instanceArgs": {
                "namespace": "html",
                "tag": "div"
               },
               "nodeType": "DOM",
               "props": {
                "className": "field interact-widget"
               },
               "type": "node"
              },
              {
               "children": [
                {
                 "children": [
                  {
                   "children": [
                    {
                     "children": [
                      {
                       "children": [
                        "grass_grow_prob"
                       ],
                       "instanceArgs": {
                        "namespace": "html",
                        "tag": "label"
                       },
                       "nodeType": "DOM",
                       "props": {
                        "className": "interact ",
                        "style": {
                         "padding": "5px 10px 0px 10px"
                        }
                       },
                       "type": "node"
                      }
                     ],
                     "instanceArgs": {
                      "namespace": "html",
                      "tag": "div"
                     },
                     "nodeType": "DOM",
                     "props": {
                      "className": "interact-flex-row-left"
                     },
                     "type": "node"
                    },
                    {
                     "children": [
                      {
                       "children": [],
                       "instanceArgs": {
                        "namespace": "html",
                        "tag": "input"
                       },
                       "nodeType": "DOM",
                       "props": {
                        "attributes": {
                         "data-bind": "numericValue: index, valueUpdate: 'input', event: {change: function (){this.changes(this.changes()+1)}}",
                         "orient": "horizontal",
                         "type": "range"
                        },
                        "className": "slider slider is-fullwidth",
                        "max": 50,
                        "min": 1,
                        "step": 1,
                        "style": {}
                       },
                       "type": "node"
                      }
                     ],
                     "instanceArgs": {
                      "namespace": "html",
                      "tag": "div"
                     },
                     "nodeType": "DOM",
                     "props": {
                      "className": "interact-flex-row-center"
                     },
                     "type": "node"
                    },
                    {
                     "children": [
                      {
                       "children": [],
                       "instanceArgs": {
                        "namespace": "html",
                        "tag": "p"
                       },
                       "nodeType": "DOM",
                       "props": {
                        "attributes": {
                         "data-bind": "text: formatted_val"
                        }
                       },
                       "type": "node"
                      }
                     ],
                     "instanceArgs": {
                      "namespace": "html",
                      "tag": "div"
                     },
                     "nodeType": "DOM",
                     "props": {
                      "className": "interact-flex-row-right"
                     },
                     "type": "node"
                    }
                   ],
                   "instanceArgs": {
                    "namespace": "html",
                    "tag": "div"
                   },
                   "nodeType": "DOM",
                   "props": {
                    "className": "interact-flex-row interact-widget"
                   },
                   "type": "node"
                  }
                 ],
                 "instanceArgs": {
                  "handlers": {
                   "changes": [
                    "(function (val){return (val!=this.model[\"changes\"]()) ? (this.valueFromJulia[\"changes\"]=true, this.model[\"changes\"](val)) : undefined})"
                   ],
                   "index": [
                    "(function (val){return (val!=this.model[\"index\"]()) ? (this.valueFromJulia[\"index\"]=true, this.model[\"index\"](val)) : undefined})"
                   ]
                  },
                  "id": "4259068469343320209",
                  "imports": {
                   "data": [
                    {
                     "name": "knockout",
                     "type": "js",
                     "url": "/assetserver/727383f2a47bd31570b7da84eee7b022dd6d7c78-knockout.js"
                    },
                    {
                     "name": "knockout_punches",
                     "type": "js",
                     "url": "/assetserver/382b41b3b1bd9f26f75861d360bad7f8beea211f-knockout_punches.js"
                    },
                    {
                     "name": null,
                     "type": "js",
                     "url": "/assetserver/5ab20f1060420992a9b82a65b735dee4d81ef413-all.js"
                    },
                    {
                     "name": null,
                     "type": "css",
                     "url": "/assetserver/1cc0ed62837210b80a182cc3676512f895dab686-style.css"
                    },
                    {
                     "name": null,
                     "type": "css",
                     "url": "/assetserver/2eee816f616df3549d7044d45e744fbf8d42bfa1-bulma_confined.min.css"
                    }
                   ],
                   "type": "async_block"
                  },
                  "mount_callbacks": [
                   "function () {\n    var handler = (function (ko, koPunches) {\n    ko.punches.enableAll();\n    ko.bindingHandlers.numericValue = {\n        init: function(element, valueAccessor, allBindings, data, context) {\n            var stringified = ko.observable(ko.unwrap(valueAccessor()));\n            stringified.subscribe(function(value) {\n                var val = parseFloat(value);\n                if (!isNaN(val)) {\n                    valueAccessor()(val);\n                }\n            });\n            valueAccessor().subscribe(function(value) {\n                var str = JSON.stringify(value);\n                if ((str == \"0\") && ([\"-0\", \"-0.\"].indexOf(stringified()) >= 0))\n                     return;\n                 if ([\"null\", \"\"].indexOf(str) >= 0)\n                     return;\n                stringified(str);\n            });\n            ko.applyBindingsToNode(\n                element,\n                {\n                    value: stringified,\n                    valueUpdate: allBindings.get('valueUpdate'),\n                },\n                context,\n            );\n        }\n    };\n    var json_data = {\"formatted_vals\":[\"0.01\",\"0.02\",\"0.03\",\"0.04\",\"0.05\",\"0.06\",\"0.07\",\"0.08\",\"0.09\",\"0.1\",\"0.11\",\"0.12\",\"0.13\",\"0.14\",\"0.15\",\"0.16\",\"0.17\",\"0.18\",\"0.19\",\"0.2\",\"0.21\",\"0.22\",\"0.23\",\"0.24\",\"0.25\",\"0.26\",\"0.27\",\"0.28\",\"0.29\",\"0.3\",\"0.31\",\"0.32\",\"0.33\",\"0.34\",\"0.35\",\"0.36\",\"0.37\",\"0.38\",\"0.39\",\"0.4\",\"0.41\",\"0.42\",\"0.43\",\"0.44\",\"0.45\",\"0.46\",\"0.47\",\"0.48\",\"0.49\",\"0.5\"],\"changes\":WebIO.getval({\"name\":\"changes\",\"scope\":\"4259068469343320209\",\"id\":\"155771448808496497\",\"type\":\"observable\"}),\"index\":WebIO.getval({\"name\":\"index\",\"scope\":\"4259068469343320209\",\"id\":\"12701695009466413190\",\"type\":\"observable\"})};\n    var self = this;\n    function AppViewModel() {\n        for (var key in json_data) {\n            var el = json_data[key];\n            this[key] = Array.isArray(el) ? ko.observableArray(el) : ko.observable(el);\n        }\n        \n        [this[\"formatted_val\"]=ko.computed(    function(){\n        return this.formatted_vals()[parseInt(this.index())-(1)];\n    }\n,this)]\n        [this[\"changes\"].subscribe((function (val){!(this.valueFromJulia[\"changes\"]) ? (WebIO.setval({\"name\":\"changes\",\"scope\":\"4259068469343320209\",\"id\":\"155771448808496497\",\"type\":\"observable\"},val)) : undefined; return this.valueFromJulia[\"changes\"]=false}),self),this[\"index\"].subscribe((function (val){!(this.valueFromJulia[\"index\"]) ? (WebIO.setval({\"name\":\"index\",\"scope\":\"4259068469343320209\",\"id\":\"12701695009466413190\",\"type\":\"observable\"},val)) : undefined; return this.valueFromJulia[\"index\"]=false}),self)]\n        \n    }\n    self.model = new AppViewModel();\n    self.valueFromJulia = {};\n    for (var key in json_data) {\n        self.valueFromJulia[key] = false;\n    }\n    ko.applyBindings(self.model, self.dom);\n}\n);\n    (WebIO.importBlock({\"data\":[{\"name\":\"knockout\",\"type\":\"js\",\"url\":\"/assetserver/727383f2a47bd31570b7da84eee7b022dd6d7c78-knockout.js\"},{\"name\":\"knockout_punches\",\"type\":\"js\",\"url\":\"/assetserver/382b41b3b1bd9f26f75861d360bad7f8beea211f-knockout_punches.js\"}],\"type\":\"async_block\"})).then((imports) => handler.apply(this, imports));\n}\n"
                  ],
                  "observables": {
                   "changes": {
                    "id": "155771448808496497",
                    "sync": false,
                    "value": 0
                   },
                   "index": {
                    "id": "12701695009466413190",
                    "sync": true,
                    "value": 25
                   }
                  },
                  "systemjs_options": null
                 },
                 "nodeType": "Scope",
                 "props": {},
                 "type": "node"
                }
               ],
               "instanceArgs": {
                "namespace": "html",
                "tag": "div"
               },
               "nodeType": "DOM",
               "props": {
                "className": "field interact-widget"
               },
               "type": "node"
              }
             ],
             "instanceArgs": {
              "namespace": "html",
              "tag": "div"
             },
             "nodeType": "DOM",
             "props": {
              "style": {
               "display": "flex",
               "flex-direction": "column"
              }
             },
             "type": "node"
            },
            {
             "children": [
              {
               "children": [
                {
                 "children": [
                  {
                   "children": [],
                   "instanceArgs": {
                    "namespace": "html",
                    "tag": "div"
                   },
                   "nodeType": "DOM",
                   "props": {
                    "id": "container"
                   },
                   "type": "node"
                  }
                 ],
                 "instanceArgs": {
                  "handlers": {
                   "value": [
                    "(function (txt){return this.k.render(txt,this.container)})"
                   ]
                  },
                  "id": "9969385716472986788",
                  "imports": {
                   "data": [
                    {
                     "name": null,
                     "type": "js",
                     "url": "/assetserver/dd22ed1bf1896c2748f3fe616ce0b838adc895c1-katex.min.js"
                    },
                    {
                     "name": null,
                     "type": "css",
                     "url": "/assetserver/46517a424aa5e6cffc1360d7e0848b601c584ee3-katex.min.css"
                    }
                   ],
                   "type": "async_block"
                  },
                  "mount_callbacks": [
                   "function () {\n    var handler = ((function (k){this.k=k; this.container=this.dom.querySelector(\"#container\"); return k.render(\"\\\\;\\\\;\",this.container)}));\n    (WebIO.importBlock({\"data\":[{\"name\":null,\"type\":\"js\",\"url\":\"/assetserver/dd22ed1bf1896c2748f3fe616ce0b838adc895c1-katex.min.js\"},{\"name\":null,\"type\":\"css\",\"url\":\"/assetserver/46517a424aa5e6cffc1360d7e0848b601c584ee3-katex.min.css\"}],\"type\":\"async_block\"})).then((imports) => handler.apply(this, imports));\n}\n"
                  ],
                  "observables": {
                   "value": {
                    "id": "18253478631231836197",
                    "sync": false,
                    "value": "\\;\\;"
                   }
                  },
                  "systemjs_options": null
                 },
                 "nodeType": "Scope",
                 "props": {},
                 "type": "node"
                }
               ],
               "instanceArgs": {
                "namespace": "html",
                "tag": "div"
               },
               "nodeType": "DOM",
               "props": {
                "className": "interact-widget"
               },
               "type": "node"
              },
              {
               "children": [
                {
                 "children": [
                  {
                   "children": [
                    "run"
                   ],
                   "instanceArgs": {
                    "namespace": "html",
                    "tag": "button"
                   },
                   "nodeType": "DOM",
                   "props": {
                    "attributes": {
                     "data-bind": "click: function (){this.clicks(this.clicks()+1)}, css: {'is-loading' : loading}"
                    },
                    "className": "is-medium button is-primary",
                    "style": {}
                   },
                   "type": "node"
                  }
                 ],
                 "instanceArgs": {
                  "handlers": {
                   "clicks": [
                    "(function (val){return (val!=this.model[\"clicks\"]()) ? (this.valueFromJulia[\"clicks\"]=true, this.model[\"clicks\"](val)) : undefined})"
                   ],
                   "loading": [
                    "(function (val){return (val!=this.model[\"loading\"]()) ? (this.valueFromJulia[\"loading\"]=true, this.model[\"loading\"](val)) : undefined})"
                   ]
                  },
                  "id": "8513466251423213740",
                  "imports": {
                   "data": [
                    {
                     "name": "knockout",
                     "type": "js",
                     "url": "/assetserver/727383f2a47bd31570b7da84eee7b022dd6d7c78-knockout.js"
                    },
                    {
                     "name": "knockout_punches",
                     "type": "js",
                     "url": "/assetserver/382b41b3b1bd9f26f75861d360bad7f8beea211f-knockout_punches.js"
                    },
                    {
                     "name": null,
                     "type": "js",
                     "url": "/assetserver/5ab20f1060420992a9b82a65b735dee4d81ef413-all.js"
                    },
                    {
                     "name": null,
                     "type": "css",
                     "url": "/assetserver/1cc0ed62837210b80a182cc3676512f895dab686-style.css"
                    },
                    {
                     "name": null,
                     "type": "css",
                     "url": "/assetserver/2eee816f616df3549d7044d45e744fbf8d42bfa1-bulma_confined.min.css"
                    }
                   ],
                   "type": "async_block"
                  },
                  "mount_callbacks": [
                   "function () {\n    var handler = (function (ko, koPunches) {\n    ko.punches.enableAll();\n    ko.bindingHandlers.numericValue = {\n        init: function(element, valueAccessor, allBindings, data, context) {\n            var stringified = ko.observable(ko.unwrap(valueAccessor()));\n            stringified.subscribe(function(value) {\n                var val = parseFloat(value);\n                if (!isNaN(val)) {\n                    valueAccessor()(val);\n                }\n            });\n            valueAccessor().subscribe(function(value) {\n                var str = JSON.stringify(value);\n                if ((str == \"0\") && ([\"-0\", \"-0.\"].indexOf(stringified()) >= 0))\n                     return;\n                 if ([\"null\", \"\"].indexOf(str) >= 0)\n                     return;\n                stringified(str);\n            });\n            ko.applyBindingsToNode(\n                element,\n                {\n                    value: stringified,\n                    valueUpdate: allBindings.get('valueUpdate'),\n                },\n                context,\n            );\n        }\n    };\n    var json_data = {\"loading\":WebIO.getval({\"name\":\"loading\",\"scope\":\"8513466251423213740\",\"id\":\"17022517439261398320\",\"type\":\"observable\"}),\"clicks\":WebIO.getval({\"name\":\"clicks\",\"scope\":\"8513466251423213740\",\"id\":\"5498359209428155834\",\"type\":\"observable\"})};\n    var self = this;\n    function AppViewModel() {\n        for (var key in json_data) {\n            var el = json_data[key];\n            this[key] = Array.isArray(el) ? ko.observableArray(el) : ko.observable(el);\n        }\n        \n        \n        [this[\"loading\"].subscribe((function (val){!(this.valueFromJulia[\"loading\"]) ? (WebIO.setval({\"name\":\"loading\",\"scope\":\"8513466251423213740\",\"id\":\"17022517439261398320\",\"type\":\"observable\"},val)) : undefined; return this.valueFromJulia[\"loading\"]=false}),self),this[\"clicks\"].subscribe((function (val){!(this.valueFromJulia[\"clicks\"]) ? (WebIO.setval({\"name\":\"clicks\",\"scope\":\"8513466251423213740\",\"id\":\"5498359209428155834\",\"type\":\"observable\"},val)) : undefined; return this.valueFromJulia[\"clicks\"]=false}),self)]\n        \n    }\n    self.model = new AppViewModel();\n    self.valueFromJulia = {};\n    for (var key in json_data) {\n        self.valueFromJulia[key] = false;\n    }\n    ko.applyBindings(self.model, self.dom);\n}\n);\n    (WebIO.importBlock({\"data\":[{\"name\":\"knockout\",\"type\":\"js\",\"url\":\"/assetserver/727383f2a47bd31570b7da84eee7b022dd6d7c78-knockout.js\"},{\"name\":\"knockout_punches\",\"type\":\"js\",\"url\":\"/assetserver/382b41b3b1bd9f26f75861d360bad7f8beea211f-knockout_punches.js\"}],\"type\":\"async_block\"})).then((imports) => handler.apply(this, imports));\n}\n"
                  ],
                  "observables": {
                   "clicks": {
                    "id": "5498359209428155834",
                    "sync": true,
                    "value": 0
                   },
                   "loading": {
                    "id": "17022517439261398320",
                    "sync": false,
                    "value": false
                   }
                  },
                  "systemjs_options": null
                 },
                 "nodeType": "Scope",
                 "props": {},
                 "type": "node"
                }
               ],
               "instanceArgs": {
                "namespace": "html",
                "tag": "div"
               },
               "nodeType": "DOM",
               "props": {
                "className": "field interact-widget"
               },
               "type": "node"
              },
              {
               "children": [
                {
                 "children": [
                  {
                   "children": [],
                   "instanceArgs": {
                    "namespace": "html",
                    "tag": "div"
                   },
                   "nodeType": "DOM",
                   "props": {
                    "id": "container"
                   },
                   "type": "node"
                  }
                 ],
                 "instanceArgs": {
                  "handlers": {
                   "value": [
                    "(function (txt){return this.k.render(txt,this.container)})"
                   ]
                  },
                  "id": "9969385716472986788",
                  "imports": {
                   "data": [
                    {
                     "name": null,
                     "type": "js",
                     "url": "/assetserver/dd22ed1bf1896c2748f3fe616ce0b838adc895c1-katex.min.js"
                    },
                    {
                     "name": null,
                     "type": "css",
                     "url": "/assetserver/46517a424aa5e6cffc1360d7e0848b601c584ee3-katex.min.css"
                    }
                   ],
                   "type": "async_block"
                  },
                  "mount_callbacks": [
                   "function () {\n    var handler = ((function (k){this.k=k; this.container=this.dom.querySelector(\"#container\"); return k.render(\"\\\\;\\\\;\",this.container)}));\n    (WebIO.importBlock({\"data\":[{\"name\":null,\"type\":\"js\",\"url\":\"/assetserver/dd22ed1bf1896c2748f3fe616ce0b838adc895c1-katex.min.js\"},{\"name\":null,\"type\":\"css\",\"url\":\"/assetserver/46517a424aa5e6cffc1360d7e0848b601c584ee3-katex.min.css\"}],\"type\":\"async_block\"})).then((imports) => handler.apply(this, imports));\n}\n"
                  ],
                  "observables": {
                   "value": {
                    "id": "18253478631231836197",
                    "sync": false,
                    "value": "\\;\\;"
                   }
                  },
                  "systemjs_options": null
                 },
                 "nodeType": "Scope",
                 "props": {},
                 "type": "node"
                }
               ],
               "instanceArgs": {
                "namespace": "html",
                "tag": "div"
               },
               "nodeType": "DOM",
               "props": {
                "className": "interact-widget"
               },
               "type": "node"
              },
              {
               "children": [
                {
                 "children": [
                  {
                   "children": [
                    "stop"
                   ],
                   "instanceArgs": {
                    "namespace": "html",
                    "tag": "button"
                   },
                   "nodeType": "DOM",
                   "props": {
                    "attributes": {
                     "data-bind": "click: function (){this.clicks(this.clicks()+1)}, css: {'is-loading' : loading}"
                    },
                    "className": "is-medium button is-primary",
                    "style": {}
                   },
                   "type": "node"
                  }
                 ],
                 "instanceArgs": {
                  "handlers": {
                   "clicks": [
                    "(function (val){return (val!=this.model[\"clicks\"]()) ? (this.valueFromJulia[\"clicks\"]=true, this.model[\"clicks\"](val)) : undefined})"
                   ],
                   "loading": [
                    "(function (val){return (val!=this.model[\"loading\"]()) ? (this.valueFromJulia[\"loading\"]=true, this.model[\"loading\"](val)) : undefined})"
                   ]
                  },
                  "id": "8778454944751997872",
                  "imports": {
                   "data": [
                    {
                     "name": "knockout",
                     "type": "js",
                     "url": "/assetserver/727383f2a47bd31570b7da84eee7b022dd6d7c78-knockout.js"
                    },
                    {
                     "name": "knockout_punches",
                     "type": "js",
                     "url": "/assetserver/382b41b3b1bd9f26f75861d360bad7f8beea211f-knockout_punches.js"
                    },
                    {
                     "name": null,
                     "type": "js",
                     "url": "/assetserver/5ab20f1060420992a9b82a65b735dee4d81ef413-all.js"
                    },
                    {
                     "name": null,
                     "type": "css",
                     "url": "/assetserver/1cc0ed62837210b80a182cc3676512f895dab686-style.css"
                    },
                    {
                     "name": null,
                     "type": "css",
                     "url": "/assetserver/2eee816f616df3549d7044d45e744fbf8d42bfa1-bulma_confined.min.css"
                    }
                   ],
                   "type": "async_block"
                  },
                  "mount_callbacks": [
                   "function () {\n    var handler = (function (ko, koPunches) {\n    ko.punches.enableAll();\n    ko.bindingHandlers.numericValue = {\n        init: function(element, valueAccessor, allBindings, data, context) {\n            var stringified = ko.observable(ko.unwrap(valueAccessor()));\n            stringified.subscribe(function(value) {\n                var val = parseFloat(value);\n                if (!isNaN(val)) {\n                    valueAccessor()(val);\n                }\n            });\n            valueAccessor().subscribe(function(value) {\n                var str = JSON.stringify(value);\n                if ((str == \"0\") && ([\"-0\", \"-0.\"].indexOf(stringified()) >= 0))\n                     return;\n                 if ([\"null\", \"\"].indexOf(str) >= 0)\n                     return;\n                stringified(str);\n            });\n            ko.applyBindingsToNode(\n                element,\n                {\n                    value: stringified,\n                    valueUpdate: allBindings.get('valueUpdate'),\n                },\n                context,\n            );\n        }\n    };\n    var json_data = {\"loading\":WebIO.getval({\"name\":\"loading\",\"scope\":\"8778454944751997872\",\"id\":\"1810211927987773576\",\"type\":\"observable\"}),\"clicks\":WebIO.getval({\"name\":\"clicks\",\"scope\":\"8778454944751997872\",\"id\":\"2091932811156124653\",\"type\":\"observable\"})};\n    var self = this;\n    function AppViewModel() {\n        for (var key in json_data) {\n            var el = json_data[key];\n            this[key] = Array.isArray(el) ? ko.observableArray(el) : ko.observable(el);\n        }\n        \n        \n        [this[\"loading\"].subscribe((function (val){!(this.valueFromJulia[\"loading\"]) ? (WebIO.setval({\"name\":\"loading\",\"scope\":\"8778454944751997872\",\"id\":\"1810211927987773576\",\"type\":\"observable\"},val)) : undefined; return this.valueFromJulia[\"loading\"]=false}),self),this[\"clicks\"].subscribe((function (val){!(this.valueFromJulia[\"clicks\"]) ? (WebIO.setval({\"name\":\"clicks\",\"scope\":\"8778454944751997872\",\"id\":\"2091932811156124653\",\"type\":\"observable\"},val)) : undefined; return this.valueFromJulia[\"clicks\"]=false}),self)]\n        \n    }\n    self.model = new AppViewModel();\n    self.valueFromJulia = {};\n    for (var key in json_data) {\n        self.valueFromJulia[key] = false;\n    }\n    ko.applyBindings(self.model, self.dom);\n}\n);\n    (WebIO.importBlock({\"data\":[{\"name\":\"knockout\",\"type\":\"js\",\"url\":\"/assetserver/727383f2a47bd31570b7da84eee7b022dd6d7c78-knockout.js\"},{\"name\":\"knockout_punches\",\"type\":\"js\",\"url\":\"/assetserver/382b41b3b1bd9f26f75861d360bad7f8beea211f-knockout_punches.js\"}],\"type\":\"async_block\"})).then((imports) => handler.apply(this, imports));\n}\n"
                  ],
                  "observables": {
                   "clicks": {
                    "id": "2091932811156124653",
                    "sync": true,
                    "value": 0
                   },
                   "loading": {
                    "id": "1810211927987773576",
                    "sync": false,
                    "value": false
                   }
                  },
                  "systemjs_options": null
                 },
                 "nodeType": "Scope",
                 "props": {},
                 "type": "node"
                }
               ],
               "instanceArgs": {
                "namespace": "html",
                "tag": "div"
               },
               "nodeType": "DOM",
               "props": {
                "className": "field interact-widget"
               },
               "type": "node"
              },
              {
               "children": [
                {
                 "children": [
                  {
                   "children": [],
                   "instanceArgs": {
                    "namespace": "html",
                    "tag": "div"
                   },
                   "nodeType": "DOM",
                   "props": {
                    "id": "container"
                   },
                   "type": "node"
                  }
                 ],
                 "instanceArgs": {
                  "handlers": {
                   "value": [
                    "(function (txt){return this.k.render(txt,this.container)})"
                   ]
                  },
                  "id": "9969385716472986788",
                  "imports": {
                   "data": [
                    {
                     "name": null,
                     "type": "js",
                     "url": "/assetserver/dd22ed1bf1896c2748f3fe616ce0b838adc895c1-katex.min.js"
                    },
                    {
                     "name": null,
                     "type": "css",
                     "url": "/assetserver/46517a424aa5e6cffc1360d7e0848b601c584ee3-katex.min.css"
                    }
                   ],
                   "type": "async_block"
                  },
                  "mount_callbacks": [
                   "function () {\n    var handler = ((function (k){this.k=k; this.container=this.dom.querySelector(\"#container\"); return k.render(\"\\\\;\\\\;\",this.container)}));\n    (WebIO.importBlock({\"data\":[{\"name\":null,\"type\":\"js\",\"url\":\"/assetserver/dd22ed1bf1896c2748f3fe616ce0b838adc895c1-katex.min.js\"},{\"name\":null,\"type\":\"css\",\"url\":\"/assetserver/46517a424aa5e6cffc1360d7e0848b601c584ee3-katex.min.css\"}],\"type\":\"async_block\"})).then((imports) => handler.apply(this, imports));\n}\n"
                  ],
                  "observables": {
                   "value": {
                    "id": "18253478631231836197",
                    "sync": false,
                    "value": "\\;\\;"
                   }
                  },
                  "systemjs_options": null
                 },
                 "nodeType": "Scope",
                 "props": {},
                 "type": "node"
                }
               ],
               "instanceArgs": {
                "namespace": "html",
                "tag": "div"
               },
               "nodeType": "DOM",
               "props": {
                "className": "interact-widget"
               },
               "type": "node"
              },
              {
               "children": [
                {
                 "children": [
                  {
                   "children": [
                    "reset"
                   ],
                   "instanceArgs": {
                    "namespace": "html",
                    "tag": "button"
                   },
                   "nodeType": "DOM",
                   "props": {
                    "attributes": {
                     "data-bind": "click: function (){this.clicks(this.clicks()+1)}, css: {'is-loading' : loading}"
                    },
                    "className": "is-medium button is-primary",
                    "style": {}
                   },
                   "type": "node"
                  }
                 ],
                 "instanceArgs": {
                  "handlers": {
                   "clicks": [
                    "(function (val){return (val!=this.model[\"clicks\"]()) ? (this.valueFromJulia[\"clicks\"]=true, this.model[\"clicks\"](val)) : undefined})"
                   ],
                   "loading": [
                    "(function (val){return (val!=this.model[\"loading\"]()) ? (this.valueFromJulia[\"loading\"]=true, this.model[\"loading\"](val)) : undefined})"
                   ]
                  },
                  "id": "7315194220939714688",
                  "imports": {
                   "data": [
                    {
                     "name": "knockout",
                     "type": "js",
                     "url": "/assetserver/727383f2a47bd31570b7da84eee7b022dd6d7c78-knockout.js"
                    },
                    {
                     "name": "knockout_punches",
                     "type": "js",
                     "url": "/assetserver/382b41b3b1bd9f26f75861d360bad7f8beea211f-knockout_punches.js"
                    },
                    {
                     "name": null,
                     "type": "js",
                     "url": "/assetserver/5ab20f1060420992a9b82a65b735dee4d81ef413-all.js"
                    },
                    {
                     "name": null,
                     "type": "css",
                     "url": "/assetserver/1cc0ed62837210b80a182cc3676512f895dab686-style.css"
                    },
                    {
                     "name": null,
                     "type": "css",
                     "url": "/assetserver/2eee816f616df3549d7044d45e744fbf8d42bfa1-bulma_confined.min.css"
                    }
                   ],
                   "type": "async_block"
                  },
                  "mount_callbacks": [
                   "function () {\n    var handler = (function (ko, koPunches) {\n    ko.punches.enableAll();\n    ko.bindingHandlers.numericValue = {\n        init: function(element, valueAccessor, allBindings, data, context) {\n            var stringified = ko.observable(ko.unwrap(valueAccessor()));\n            stringified.subscribe(function(value) {\n                var val = parseFloat(value);\n                if (!isNaN(val)) {\n                    valueAccessor()(val);\n                }\n            });\n            valueAccessor().subscribe(function(value) {\n                var str = JSON.stringify(value);\n                if ((str == \"0\") && ([\"-0\", \"-0.\"].indexOf(stringified()) >= 0))\n                     return;\n                 if ([\"null\", \"\"].indexOf(str) >= 0)\n                     return;\n                stringified(str);\n            });\n            ko.applyBindingsToNode(\n                element,\n                {\n                    value: stringified,\n                    valueUpdate: allBindings.get('valueUpdate'),\n                },\n                context,\n            );\n        }\n    };\n    var json_data = {\"loading\":WebIO.getval({\"name\":\"loading\",\"scope\":\"7315194220939714688\",\"id\":\"1887000162250629148\",\"type\":\"observable\"}),\"clicks\":WebIO.getval({\"name\":\"clicks\",\"scope\":\"7315194220939714688\",\"id\":\"4768199244547486369\",\"type\":\"observable\"})};\n    var self = this;\n    function AppViewModel() {\n        for (var key in json_data) {\n            var el = json_data[key];\n            this[key] = Array.isArray(el) ? ko.observableArray(el) : ko.observable(el);\n        }\n        \n        \n        [this[\"loading\"].subscribe((function (val){!(this.valueFromJulia[\"loading\"]) ? (WebIO.setval({\"name\":\"loading\",\"scope\":\"7315194220939714688\",\"id\":\"1887000162250629148\",\"type\":\"observable\"},val)) : undefined; return this.valueFromJulia[\"loading\"]=false}),self),this[\"clicks\"].subscribe((function (val){!(this.valueFromJulia[\"clicks\"]) ? (WebIO.setval({\"name\":\"clicks\",\"scope\":\"7315194220939714688\",\"id\":\"4768199244547486369\",\"type\":\"observable\"},val)) : undefined; return this.valueFromJulia[\"clicks\"]=false}),self)]\n        \n    }\n    self.model = new AppViewModel();\n    self.valueFromJulia = {};\n    for (var key in json_data) {\n        self.valueFromJulia[key] = false;\n    }\n    ko.applyBindings(self.model, self.dom);\n}\n);\n    (WebIO.importBlock({\"data\":[{\"name\":\"knockout\",\"type\":\"js\",\"url\":\"/assetserver/727383f2a47bd31570b7da84eee7b022dd6d7c78-knockout.js\"},{\"name\":\"knockout_punches\",\"type\":\"js\",\"url\":\"/assetserver/382b41b3b1bd9f26f75861d360bad7f8beea211f-knockout_punches.js\"}],\"type\":\"async_block\"})).then((imports) => handler.apply(this, imports));\n}\n"
                  ],
                  "observables": {
                   "clicks": {
                    "id": "4768199244547486369",
                    "sync": true,
                    "value": 0
                   },
                   "loading": {
                    "id": "1887000162250629148",
                    "sync": false,
                    "value": false
                   }
                  },
                  "systemjs_options": null
                 },
                 "nodeType": "Scope",
                 "props": {},
                 "type": "node"
                }
               ],
               "instanceArgs": {
                "namespace": "html",
                "tag": "div"
               },
               "nodeType": "DOM",
               "props": {
                "className": "field interact-widget"
               },
               "type": "node"
              },
              {
               "children": [
                {
                 "children": [
                  {
                   "children": [],
                   "instanceArgs": {
                    "namespace": "html",
                    "tag": "div"
                   },
                   "nodeType": "DOM",
                   "props": {
                    "id": "container"
                   },
                   "type": "node"
                  }
                 ],
                 "instanceArgs": {
                  "handlers": {
                   "value": [
                    "(function (txt){return this.k.render(txt,this.container)})"
                   ]
                  },
                  "id": "9969385716472986788",
                  "imports": {
                   "data": [
                    {
                     "name": null,
                     "type": "js",
                     "url": "/assetserver/dd22ed1bf1896c2748f3fe616ce0b838adc895c1-katex.min.js"
                    },
                    {
                     "name": null,
                     "type": "css",
                     "url": "/assetserver/46517a424aa5e6cffc1360d7e0848b601c584ee3-katex.min.css"
                    }
                   ],
                   "type": "async_block"
                  },
                  "mount_callbacks": [
                   "function () {\n    var handler = ((function (k){this.k=k; this.container=this.dom.querySelector(\"#container\"); return k.render(\"\\\\;\\\\;\",this.container)}));\n    (WebIO.importBlock({\"data\":[{\"name\":null,\"type\":\"js\",\"url\":\"/assetserver/dd22ed1bf1896c2748f3fe616ce0b838adc895c1-katex.min.js\"},{\"name\":null,\"type\":\"css\",\"url\":\"/assetserver/46517a424aa5e6cffc1360d7e0848b601c584ee3-katex.min.css\"}],\"type\":\"async_block\"})).then((imports) => handler.apply(this, imports));\n}\n"
                  ],
                  "observables": {
                   "value": {
                    "id": "18253478631231836197",
                    "sync": false,
                    "value": "\\;\\;"
                   }
                  },
                  "systemjs_options": null
                 },
                 "nodeType": "Scope",
                 "props": {},
                 "type": "node"
                }
               ],
               "instanceArgs": {
                "namespace": "html",
                "tag": "div"
               },
               "nodeType": "DOM",
               "props": {
                "className": "interact-widget"
               },
               "type": "node"
              },
              {
               "children": [
                {
                 "children": [
                  {
                   "children": [
                    "save"
                   ],
                   "instanceArgs": {
                    "namespace": "html",
                    "tag": "button"
                   },
                   "nodeType": "DOM",
                   "props": {
                    "attributes": {
                     "data-bind": "click: function (){this.clicks(this.clicks()+1)}, css: {'is-loading' : loading}"
                    },
                    "className": "is-medium button is-primary",
                    "style": {}
                   },
                   "type": "node"
                  }
                 ],
                 "instanceArgs": {
                  "handlers": {
                   "clicks": [
                    "(function (val){return (val!=this.model[\"clicks\"]()) ? (this.valueFromJulia[\"clicks\"]=true, this.model[\"clicks\"](val)) : undefined})"
                   ],
                   "loading": [
                    "(function (val){return (val!=this.model[\"loading\"]()) ? (this.valueFromJulia[\"loading\"]=true, this.model[\"loading\"](val)) : undefined})"
                   ]
                  },
                  "id": "11484318773097352377",
                  "imports": {
                   "data": [
                    {
                     "name": "knockout",
                     "type": "js",
                     "url": "/assetserver/727383f2a47bd31570b7da84eee7b022dd6d7c78-knockout.js"
                    },
                    {
                     "name": "knockout_punches",
                     "type": "js",
                     "url": "/assetserver/382b41b3b1bd9f26f75861d360bad7f8beea211f-knockout_punches.js"
                    },
                    {
                     "name": null,
                     "type": "js",
                     "url": "/assetserver/5ab20f1060420992a9b82a65b735dee4d81ef413-all.js"
                    },
                    {
                     "name": null,
                     "type": "css",
                     "url": "/assetserver/1cc0ed62837210b80a182cc3676512f895dab686-style.css"
                    },
                    {
                     "name": null,
                     "type": "css",
                     "url": "/assetserver/2eee816f616df3549d7044d45e744fbf8d42bfa1-bulma_confined.min.css"
                    }
                   ],
                   "type": "async_block"
                  },
                  "mount_callbacks": [
                   "function () {\n    var handler = (function (ko, koPunches) {\n    ko.punches.enableAll();\n    ko.bindingHandlers.numericValue = {\n        init: function(element, valueAccessor, allBindings, data, context) {\n            var stringified = ko.observable(ko.unwrap(valueAccessor()));\n            stringified.subscribe(function(value) {\n                var val = parseFloat(value);\n                if (!isNaN(val)) {\n                    valueAccessor()(val);\n                }\n            });\n            valueAccessor().subscribe(function(value) {\n                var str = JSON.stringify(value);\n                if ((str == \"0\") && ([\"-0\", \"-0.\"].indexOf(stringified()) >= 0))\n                     return;\n                 if ([\"null\", \"\"].indexOf(str) >= 0)\n                     return;\n                stringified(str);\n            });\n            ko.applyBindingsToNode(\n                element,\n                {\n                    value: stringified,\n                    valueUpdate: allBindings.get('valueUpdate'),\n                },\n                context,\n            );\n        }\n    };\n    var json_data = {\"loading\":WebIO.getval({\"name\":\"loading\",\"scope\":\"11484318773097352377\",\"id\":\"3676054644757649929\",\"type\":\"observable\"}),\"clicks\":WebIO.getval({\"name\":\"clicks\",\"scope\":\"11484318773097352377\",\"id\":\"2170896115587737735\",\"type\":\"observable\"})};\n    var self = this;\n    function AppViewModel() {\n        for (var key in json_data) {\n            var el = json_data[key];\n            this[key] = Array.isArray(el) ? ko.observableArray(el) : ko.observable(el);\n        }\n        \n        \n        [this[\"loading\"].subscribe((function (val){!(this.valueFromJulia[\"loading\"]) ? (WebIO.setval({\"name\":\"loading\",\"scope\":\"11484318773097352377\",\"id\":\"3676054644757649929\",\"type\":\"observable\"},val)) : undefined; return this.valueFromJulia[\"loading\"]=false}),self),this[\"clicks\"].subscribe((function (val){!(this.valueFromJulia[\"clicks\"]) ? (WebIO.setval({\"name\":\"clicks\",\"scope\":\"11484318773097352377\",\"id\":\"2170896115587737735\",\"type\":\"observable\"},val)) : undefined; return this.valueFromJulia[\"clicks\"]=false}),self)]\n        \n    }\n    self.model = new AppViewModel();\n    self.valueFromJulia = {};\n    for (var key in json_data) {\n        self.valueFromJulia[key] = false;\n    }\n    ko.applyBindings(self.model, self.dom);\n}\n);\n    (WebIO.importBlock({\"data\":[{\"name\":\"knockout\",\"type\":\"js\",\"url\":\"/assetserver/727383f2a47bd31570b7da84eee7b022dd6d7c78-knockout.js\"},{\"name\":\"knockout_punches\",\"type\":\"js\",\"url\":\"/assetserver/382b41b3b1bd9f26f75861d360bad7f8beea211f-knockout_punches.js\"}],\"type\":\"async_block\"})).then((imports) => handler.apply(this, imports));\n}\n"
                  ],
                  "observables": {
                   "clicks": {
                    "id": "2170896115587737735",
                    "sync": true,
                    "value": 0
                   },
                   "loading": {
                    "id": "3676054644757649929",
                    "sync": false,
                    "value": false
                   }
                  },
                  "systemjs_options": null
                 },
                 "nodeType": "Scope",
                 "props": {},
                 "type": "node"
                }
               ],
               "instanceArgs": {
                "namespace": "html",
                "tag": "div"
               },
               "nodeType": "DOM",
               "props": {
                "className": "field interact-widget"
               },
               "type": "node"
              }
             ],
             "instanceArgs": {
              "namespace": "html",
              "tag": "div"
             },
             "nodeType": "DOM",
             "props": {
              "style": {
               "display": "flex",
               "flex-direction": "row"
              }
             },
             "type": "node"
            }
           ],
           "instanceArgs": {
            "namespace": "html",
            "tag": "div"
           },
           "nodeType": "DOM",
           "props": {
            "style": {
             "display": "flex",
             "flex-direction": "column"
            }
           },
           "type": "node"
          },
          {
           "children": [
            {
             "children": [
              {
               "children": [],
               "instanceArgs": {
                "namespace": "html",
                "tag": "div"
               },
               "nodeType": "DOM",
               "props": {
                "id": "container"
               },
               "type": "node"
              }
             ],
             "instanceArgs": {
              "handlers": {
               "value": [
                "(function (txt){return this.k.render(txt,this.container)})"
               ]
              },
              "id": "9969385716472986788",
              "imports": {
               "data": [
                {
                 "name": null,
                 "type": "js",
                 "url": "/assetserver/dd22ed1bf1896c2748f3fe616ce0b838adc895c1-katex.min.js"
                },
                {
                 "name": null,
                 "type": "css",
                 "url": "/assetserver/46517a424aa5e6cffc1360d7e0848b601c584ee3-katex.min.css"
                }
               ],
               "type": "async_block"
              },
              "mount_callbacks": [
               "function () {\n    var handler = ((function (k){this.k=k; this.container=this.dom.querySelector(\"#container\"); return k.render(\"\\\\;\\\\;\",this.container)}));\n    (WebIO.importBlock({\"data\":[{\"name\":null,\"type\":\"js\",\"url\":\"/assetserver/dd22ed1bf1896c2748f3fe616ce0b838adc895c1-katex.min.js\"},{\"name\":null,\"type\":\"css\",\"url\":\"/assetserver/46517a424aa5e6cffc1360d7e0848b601c584ee3-katex.min.css\"}],\"type\":\"async_block\"})).then((imports) => handler.apply(this, imports));\n}\n"
              ],
              "observables": {
               "value": {
                "id": "18253478631231836197",
                "sync": false,
                "value": "\\;\\;"
               }
              },
              "systemjs_options": null
             },
             "nodeType": "Scope",
             "props": {},
             "type": "node"
            }
           ],
           "instanceArgs": {
            "namespace": "html",
            "tag": "div"
           },
           "nodeType": "DOM",
           "props": {
            "className": "interact-widget"
           },
           "type": "node"
          },
          {
           "children": [
            {
             "children": [],
             "instanceArgs": {
              "namespace": "html",
              "tag": "div"
             },
             "nodeType": "DOM",
             "props": {
              "className": "webio-observable",
              "setInnerHtml": "<img src='data:image/png;base64,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'></img>"
             },
             "type": "node"
            }
           ],
           "instanceArgs": {
            "handlers": {
             "obs-output": [
              "function (value, scope) {\n    scope.setInnerHTML(value);\n}\n"
             ]
            },
            "id": "14760144220155914863",
            "imports": {
             "data": [],
             "type": "async_block"
            },
            "mount_callbacks": [],
            "observables": {
             "obs-output": {
              "id": "13130053917124800449",
              "sync": false,
              "value": "<img src='data:image/png;base64,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'></img>"
             }
            },
            "systemjs_options": null
           },
           "nodeType": "Scope",
           "props": {},
           "type": "node"
          },
          {
           "children": [
            {
             "children": [
              {
               "children": [],
               "instanceArgs": {
                "namespace": "html",
                "tag": "div"
               },
               "nodeType": "DOM",
               "props": {
                "id": "container"
               },
               "type": "node"
              }
             ],
             "instanceArgs": {
              "handlers": {
               "value": [
                "(function (txt){return this.k.render(txt,this.container)})"
               ]
              },
              "id": "9969385716472986788",
              "imports": {
               "data": [
                {
                 "name": null,
                 "type": "js",
                 "url": "/assetserver/dd22ed1bf1896c2748f3fe616ce0b838adc895c1-katex.min.js"
                },
                {
                 "name": null,
                 "type": "css",
                 "url": "/assetserver/46517a424aa5e6cffc1360d7e0848b601c584ee3-katex.min.css"
                }
               ],
               "type": "async_block"
              },
              "mount_callbacks": [
               "function () {\n    var handler = ((function (k){this.k=k; this.container=this.dom.querySelector(\"#container\"); return k.render(\"\\\\;\\\\;\",this.container)}));\n    (WebIO.importBlock({\"data\":[{\"name\":null,\"type\":\"js\",\"url\":\"/assetserver/dd22ed1bf1896c2748f3fe616ce0b838adc895c1-katex.min.js\"},{\"name\":null,\"type\":\"css\",\"url\":\"/assetserver/46517a424aa5e6cffc1360d7e0848b601c584ee3-katex.min.css\"}],\"type\":\"async_block\"})).then((imports) => handler.apply(this, imports));\n}\n"
              ],
              "observables": {
               "value": {
                "id": "18253478631231836197",
                "sync": false,
                "value": "\\;\\;"
               }
              },
              "systemjs_options": null
             },
             "nodeType": "Scope",
             "props": {},
             "type": "node"
            }
           ],
           "instanceArgs": {
            "namespace": "html",
            "tag": "div"
           },
           "nodeType": "DOM",
           "props": {
            "className": "interact-widget"
           },
           "type": "node"
          },
          {
           "children": [
            {
             "children": [
              {
               "children": [],
               "instanceArgs": {
                "namespace": "html",
                "tag": "div"
               },
               "nodeType": "DOM",
               "props": {
                "className": "webio-observable",
                "setInnerHtml": "<img src=\"data:image/png;base64,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\" />"
               },
               "type": "node"
              }
             ],
             "instanceArgs": {
              "handlers": {
               "obs-output": [
                "function (value, scope) {\n    scope.setInnerHTML(value);\n}\n"
               ]
              },
              "id": "4568545370431040053",
              "imports": {
               "data": [],
               "type": "async_block"
              },
              "mount_callbacks": [],
              "observables": {
               "obs-output": {
                "id": "12900031818278531897",
                "sync": false,
                "value": "<img src=\"data:image/png;base64,iVBORw0KGgoAAAANSUhEUgAAASwAAACWCAIAAADrOSKFAAAABmJLR0QA/wD/AP+gvaeTAAAgAElEQVR4nO2dZ1wUWdbwL01omkyTESU1TRQaARFllAVtGR1FEFZ2RR1RcB1HEXnGNIOoY94dM7ogozOio4JpMCsioIJIWIJIkJyDxIaO0PV+uM/W20+jjuUgJXL/Pz5UnT5V995qTt+qWyfIYBgGEAgEeVDI7gACMdZBRohAkAwyQgSCZJARIhAkg4wQgSAZZIQIBMkgI0QgSAYZIQJBMsgIEQiSQUaIQJCMHCHtrq6uPXv2vHz50t7efsuWLWpqalIK0dHRhYWFcFtTU3Pfvn0AAKFQmJycnJub29DQsH//fg0NDahw9uzZp0+f/m8/5OSio6Px8+Tk5JSXl//973+Hu4ODgzIyMhQKCT8ZIpFIXl5+7LQ7ODhIoVBkZGRGvmmyhkw6xP6tAwIC6uvrN2zYUFZWFhQUNFTh3r17QqHQycnJyclp4sSJUNjS0rJr1676+vrY2Fgul4srp6WldXZ2QuVJkyZJnic/P//Ro0f4rkgkGhwcJNTV4YLP54+pdkm81AKBgJR2SYfATFhYWPjs2bP29nYajebi4qKnp1dRUcFgMKTUPDw8li1bJimZMGFCRkZGb2/vqVOnpJRdXV1DQ0M/rOsIxOcBASPMyclxdHSk0WgAADU1NTs7u9zc3KFGePHixbS0NCsrq1WrVqmrq7/7nDdv3iwuLmYwGKGhoTo6OkR7jxhrNDc3P3nyhOxeEMDe3t7S0vLdOgSMsLW1lU6n47taWlotLS1SOh4eHoqKijQaLTExMSYmJj8/X1VV9W0nnDx5soODg4aGxo0bNyZOnFhQUKCnpwc/qqysvHXrlqenJwBAVVU1Li5OVlaWlAeGvr6+kW+UxHb5fL6cnJycHLHFgmGhv79fMrBORUVl6KPpiRMnrl+/bm1tPbJd+0AaGxv19PSuXr36bjUC11pZWVnyQYXL5aqoqEjpbNiwAW4sXbrU3t4+ISFhxYoVbzvhqlWrcOXp06efOXNm8+bNUGJkZOTo6BgeHg4AoNPpqqqqZBkhAOAdvyOfX7vy8vJkGaGMjMzQ/ygpMAwLDAz8/vvvR6ZLf5Lr16//+uuvf6hG4FqPHz++pqYG362pqRk/fvzblGVlZRkMRltb23uenMlkSipTqVRDQ8OZM2fCXbJWKRCIEYDA6ujs2bPb2toeP34MALh//75AIPDw8AAA5OXlJSUlAQBEIlFDQwNULi4uTk1NnTJlyjtOiJt0TU3NzZs3362MQHyuEJgJlZSUjh07tmDBAhsbm5KSkpiYGAUFBQDA3bt3Hzx4MH/+fB6PZ2VlZWxsTKVSKyoqIiIi/vKXv8BjDQ0NeTweAMDGxoZCobS3t8vKyk6aNElXV1dFRaWsrGzFihUBAQEfY4QIxCcOsVv/oKCgr776qrKy0sLCAn9THxERERYWBgBQU1Pr6OioqKgQi8UmJiaSjzQvX76UfOaWlZUFALS1tb169UooFBobG+Nv8BGIsQbh528NDQ0nJydJCZVKpVKp+Latre0bj3pD23Jyo2WZC4H4eCDfUQSCZJARIsY6hYWFP//8M4kdQEaIGOuUlJRcunSJxA4gI0SMOfh8fnV1dXt7u5S8oaGBw+FICV+/ft3T0yMl5HK5zc3NQ8/c2NjY399PtD+EjZDP53d0dBA96m1gGPb69WuRSDRcJ0Qg3s25c+fMzc2XL1/u4eGxevVqKOTxeP7+/vPmzTMyMoqLi4PC0tJSJyenWbNmOTo6BgYGwiAPLpe7ZMkSW1vbefPm2dvbl5eXAwDS09MtLS19fHz8/PxMTEz2799PqEvEVkcPHDiwZ88eGo02YcKEa9euGRoaSikYGxvjvyUBAQExMTEAgGfPnu3cubOgoMDQ0DA7OxtXLiwsXLhwIZ/P5/F40dHRixYtItQZxFjmcQvWwiNQwUFHUcbDQAYAsHv37suXL7u5uQEA8P/V58+fZ2VlsVisp0+f+vj4rFy5UiwW//3vfw8PD1+yZMng4GBAQMDJkyfXr1+/a9cuDMMqKipkZWVjY2PXrFnz4MEDAEB5efm+fft8fX0bGxsnTpzo7e3t4ODwnn0jYIRFRUV79uzJy8szMzMLDQ3dvHnz2bNnpXS6u7sLCgpMTEwkhYqKikFBQd7e3pJhuwCA0NDQkJCQjRs3ZmZmstlsNputqan5/v1BjGXuNohfSd8kvgsLdczDQBYAYGFhERkZGRISMmvWLDwgwcnJicViAQDc3Ny6u7s7Ozu7u7uLi4upVGpiYiIAwMjIKC0tbf369devX/f394c+2fLy8k+ePIHhlzo6Or6+vgCAcePGffnllw8ePPgoRnju3Ln58+ebmZkBAMLCwpydnWNjYxUVFf/wQBaLxWKxoGsbTnl5eX5+fnJyMhz5xIkTr169+g5vbwRCkt3Osh924IULF06fPn3mzJmvv/46KioKxgzgjuMUCkVWVlYkEnV2diooKFRXV0P5uHHjoFsltM+qqioo3759OzRCySwT6urqvb29798lAkZYVVUFfy0AAJaWlgKBoLm52dTUVErN3t5+YGDA1dX12LFjdnZ27ziboaEhPnhLS0t8wAAAsVjM4XDgUGk0GpohEcOFsrLy2rVr165dm52d7enpiQfuSMFkMkUiUUBAAJx1cOzs7JhM5rfffiulX19f//r1a21tbQBAXl7e2rVr379LBIywp6dHWVn5fw+Tk6NSqd3d3VI6Dx48mDRpEp/P37Zt21dffVVaWvq2qbK3t1dJSQnfVVFR6erqwndfvXp1+/btrKwsAICWltbdu3fJCmXq7+8nJeEKWe2SG08ouausrPwxrsDSpUtnzZqlp6d3/fp1FxeXt6mpqalt3779q6++2rhxo7a2dkFBgYGBQXBw8O7du318fPr7++3s7BoaGkpLSw8dOgQAUFJS+vrrr0NCQlJTUzs6OhYuXPj+XSJwrXV1dXGr4/F4fD5fV1dXSmfy5MkAABUVlX/+85+xsbEvXrxwdnZ+49l0dHQkV367urqYTCa+a2lpuWjRIjwdBp/PJ8sIMQz7wyC3z6lduf8y8k0DidvCj8ecOXOysrI4HI6Njc3evXsBAA4ODpLPQbt374bd2Lx58+TJk+/evdvd3c1kMmfNmgUAcHV1zczMjI+Pv3btmr6+Pr6aaGRktHXr1vj4eB0dnadPn77PYxoOgWs9ceJEGMcEAMjJydHV1dXX13+bMp/PF4lE7+iKtbV1a2trU1MTXGLNzs4m9OOBQHwYgYGBgYGBkhIrKysrKyt893/+53/wbU9PT5jeQRJTU9Nt27YNPfPUqVOnTp36AV0i8J5w2bJljx8/PnfuXElJyZYtW0JDQ2EwRFhYGPT6ycvLO3PmDMwH9be//c3e3h76Z/f09CQnJxcUFHC53OTk5JycHACAvr6+r69veHh4RUXF/v37eTzeV1999QEDQCBIR05Obmj6z/eHgBHq6+snJSX9+uuvixYt+uKLLyIjI6GcTqfD6ZtGo928eXPJkiXh4eEMBuP27dt4yFJsbGxRUZGbm1tsbOyNGzfggTExMerq6r6+vk+fPr13797YzDmJ+AyYOnUqnkH3AyB26z9jxowZM2ZICaOiouCGtbX1lStXhh5lYWGRkJAwVK6hoREbG0uoAwjEyJOVlVVcXBwcHAwAeP369c8//9zV1bVu3bqhziofBvIdRSD+gOLi4ps3b8LtpUuXNjQ0ODk5Sa7t/0mQESLGFt3d3WKxGAAwMDDQ1dUFEz6IRCLchQ3DsKqqqjfmKOvu7v7Pf/4TFBTEZrOHMRcEMkLE2MLT0zM1NRUA8Ntvv9Hp9OLiYgDA4cOHYbbOsrIyGxubwMDAqVOnzp8/X+rVpa+v7+vXr1esWPHXv/51GLtEzusgBOJPwi/JHuySjkV6B7KauorWzgAALy+v5ORkT0/Phw8fOjk5PXz40M7OLiUlBdZuWL16dUBAwM6dO0Ui0ezZsw8ePIgvQAIAHj16pKure+XKlT9Mqk0INBMiRiWixiphQwWBv7oyeKCXl1dKSgoAID09fefOnQ8fPhQKhU+ePPHw8BCJRI8fP4bFUeTl5b/++uuHDx+OwFiIzYQYht25c6eoqIjFYs2ePXuowtOnT5uamuA2jUbDX/2JRKIrV640NDR88cUXrq6uUJiTk4P7i1IoFPSyHvH+qM78wMC36dOnw1fZBgYGbDY7NDT08ePHpqam+vr6HA5nYGAA99pRVVUdGuP7MSBmhOvXr09OTvbz8wsLC/Pz89uzZ4+Uwv79+1taWmAok5aWFm6E8+fP53A4M2bMWLBgwZ49e5YvXw4AOHnyZE5ODpzZ5eXlkREiRgAlJSUXF5dt27Z5eXnJyck5ODjs37/fy8sLAKCqqjpu3Ljnz5+z2WwAQFZWlo2NzQh0iYARNjU1xcbGvnr1ysjI6Ouvv7a3t4+IiNDS0pJSW7NmjVRptKdPn+bl5VVXVyspKbm7u69evXrp0qXwPf6SJUskvYQQiBHA09Nz+/btW7duBQB4eXlFRESsW7cOfrR9+/bQ0NAffvihra0tLi5Oskjmx4OAET569MjW1tbIyAgAYG5ubmJikp6eDgMZJcnPz5eRkbG2tsZd1O/fvz9z5kz4XmXmzJmtra1wDQoAUFpaevbsWXNz86lTp5ISNIAYgyxevFhRUREG1/v7+4tEItwFZeXKlQwG486dOyoqKpmZmRYWFgCAKVOm4LEKkZGRw17Dj9hMaGBggO8aGBjgj384WlpajY2NHR0dmzZtcnd3v3TpEoVCaWxsxA+Ul5fX1tZuamqysbFRU1Orra1NSUmJjIy0sLC4ffs2zKsPAGhvb3/+/Pl3330HAKDT6d98842srCx8vTPCCAQCvFdjpN3BwUFSivUKBAJJ10U8o/Sww2AwNm3aBLcnTJiAb0M8PDxgkRUcGxsb/L6UUKDge0LACGVkZCRT2WMYNnTuOnPmDNzo7Oy0tbW9fv26n5/f2w6EgVgAAC6Xy2Kxzpw5gxdLk5GRUVBQgO9Dh9E1AYH4BCFghAYGBpJVQVtaWt7hO0en06dMmVJSUgIAMDQ0rKiogHKRSNTR0SE5owIAlJSUPDw8oDJEW1ubxWLhZehIjCcUCoUf7yf5E2wXwzCy4glFIhEpQyYdAu8JPT09i4uLYfGzysrK6urq6dOnAwA6Ojrq6+sBAJLTXX9/f15enrm5OQCAzWYnJydzuVwAQHJysp6eHgzfwvVFIlFmZiZURiDGGsRmwlWrVrHZbD8/v8TExPXr18NkVTExMQ8ePHj06FFPT4+bm5uXl5e8vPytW7cYDIa/vz8AYNq0aZMmTWKz2TNmzDh9+vTevXspFAoAwMrKytPTU0lJ6cGDB1QqFWV5QoxNiN11HD58+O7duy9evDh+/DiM9gcA+Pv7w8UlNTW1mJiYwsLCwcHBEydOeHl54Q+NN27cuHbtWl1dXVJSEr5q+ssvv+Tn5/P5/L1793p7e8OXFgjEWIPwrb+3t7e3t7ekhMlkwvQwFApl+vTp8B5Vuhk5uaE1QN3c3OAyMQIxlkEO3IhRRnZ29miJBc/Pz38fNWSEiNGEt7d3e3t7bm4u2R15X4KCgv5QBxkhYjTh7u7u7u5Odi+GGRTKhECQDDJCBIJkiBlhamqql5eXnZ3dpk2bhELhUAUfH59Z/wWmN4ZcvHjRzc3N0dHx4MGDuLCrq2vlypWw1NvLly8/eAwIxKiGwDNhS0uLj49PdHS0s7NzSEjIjz/++OOPP0rppKamnjhxQk9PDwCA5+fOyspavXp1YmKilpaWv7+/trb20qVLAQCrVq2iUChJSUmXL1/29vaurKxEqUcRYxHsvdm3b9/cuXPhdnp6uq6u7sDAgJSOmppadXW1lHD58uUbNmyA26dOnZoyZQqGYc3NzfLy8o2NjVDOZDKvXr2KH3Lq1KmVK1fiuzweTygUvn9Xh5He3t4x1S6PxxOJRKQ0zeFwSGmXdAjcjhYVFeHVXZydndva2iT9uXFCQkK+/PLLHTt29PX1QYlkWRhnZ+eioiIAQElJiZ6eHu4C7uLiAuUIxFiDwO1oW1sbbks0Gk1RUbGtrW3cuHGSOlFRUSwWi8vlHjhw4NGjRykpKRQKpa2tDU/SqKmp2d/f39/f397erq6ujh+oqanZ2tqK75aWll66dAmWEKXT6ffu3UOl0UaGz7402icIgWutoaGBT24ikUggEAyt3QmTNwIA3N3ddXR0ysrKrK2t1dXV8QM5HI6CgoKSkpK6urrkRedwOOPHj8d3LS0t58yZA3PYqKmpqaiooNJoI8NnXxrtE4TAtTY1NS0vL4fb5eXlVCpVKixQEnV1dUVFRVg02MzMTPJAU1NTGRkZU1PTpqamvr4+eN3Ly8u/+OIL/HAZGRlVVVW8SCqfzyc4LgRi1EDgmTAoKCgpKamyshIAcPjw4YCAABiCefr0aZiesa6urqamBgAwODi4e/duZWXliRMnAgAWL178yy+/dHd3DwwMHD9+HDryMJlMR0fHEydOAAAyMjKKior8/PyGf3wIxCcPsSKhP/zwg5OTk6KiopmZGV6A6ebNm66url5eXrW1tX5+fmKxWCAQMJnMa9euwcwUfn5+qampJiYmcnJy7u7u+C3rqVOn/P39jx49KhAITp8+jQrTI8Ym/yf7y/sgEAh4PN47qmF0dXXBZRspOVz7HlpLsaOjQ11dXeohJC4uLisr61Mol83hcFRVVcdOuyQuzODPJmMNwteaSqW+OxHI2yY0Go1Go9GGyodmLkUgxhTIdxSBIBlkhAgEySAjRCBIBhkhAkEyhBdmOjo6ampqzMzM3v1Gobe3V1ZWVllZGZfU1tbCtNx4dnculysQCHAF9IoCMTYhNhPGx8czmczw8HAGg3H58uW3qeXm5mppaQUHB8NdoVC4YMECLy+vsLAwCwsLWKAYALB27dpx48aZm5ubm5uPTA0qBOIThIARcrncdevWXb9+PT09/cKFC2vWrHljXO/AwMCaNWskqzWdPHmysbHx5cuX6enpYWFhERER+Ec7d+7s7Ozs7Oxsbm7+M8NAIEYvBIzw3r17urq60MOTzWZTqdTU1NShart27fL29ra1tcUl2dnZbDYb3oXOnz///v37r1+/hh8JhcK6urqBgYE/MwYEYlRDwAjr6upMTU3xXVNT07q6OimdoqKiq1evbt68WVKopaUFK1gAAOrr6zEMg7UrAAA//fSTu7u7hoaGVJC+QCBobGxMTk5OTk7Oysp6/04iEKMOAgszXC5X0leGRqNJBYANDAysXLnyxIkTUj5rISEhbm5uVlZWpqamBw8epFKpPB4PALBr1664uDgZGZnCwkIPDw8WizVv3jx4SGNjY0FBAR7KFBcXh+IJRwYUTzjyELjWenp6nZ2d+G5HRweeRQZy+fLlzs7Op/+ltbU1Ojp6zZo1dnZ2z549i4+Pz8vLO3r06LRp02BRezwSyt7efsGCBWlpabgRmpmZzZkz51PwHUXxhCPJ2PQdJXA76uzs/J///AdOYr29vS9evHBycpJUMDMzW7hwYVdXV1dXF8wK09PTAz+ytbXdt2/fgQMHXr16xWAwhgYiNjQ0vMMpHIH4jCHwg2dvb+/m5rZ8+XJ4z8lmsxkMBgDg6NGjaWlpV65cmTx58uTJk6Hyjh07Xr58uXXrVgBAa2vr2bNnbWxsSktL9+zZc/78eXibERIS4uXlpaqqeuPGjefPn+PzHgIxpiB215GYmLh3794jR47Y29vjqy82NjZDq5q5u7tbWFjAbRqN1tzcnJaWpq+vf/v2bVdXVyg3Nze/du0al8u1trYuKCgwNjb+c2NBIEYlhOMJRwYUT4jiCccOyHcUgSAZZIQIBMkgI0QgSAYZIQJBMsgIEQiSIbYI1traGhsb297ePmfOHG9v73eo/fLLL7NmzZo0aRKUZGRk3LhxA8OwJUuW4L7dGIb99ttvGRkZ5ubmq1atkgw+RCDGDgRmQh6P5+bmVltba21tvWLFivj4+LdpfvPNN3v37s3MzIS7iYmJvr6+RkZGWlpaHh4ehYWFUB4ZGbl3715HR8fU1NQ5c+b8mWEgEKMXAjPhpUuXtLS04uLiAAA6Ojrbtm1bsmTJG9UUFBTwORAAsH///h9//DE0NBQA0Nvb+69//evs2bN9fX3Hjh1LT093cHBYunSpkZHR06dPp02b9qdHhECMMgjMhI8fP545cybc9vLyKikpwcMCcTo6Onbs2HH48GFJYUtLC/TYBgCYmJikpaUBAAoLCxUUFBwcHAAACgoK06dPf/z48YeOAoEYxRCYCZubm/EkFJqamgoKCk1NTdra2pI6a9eu3bhxI6zUi+Pg4HD//n02mw0AuH//fktLC4Zhzc3NOjo6uI6urq5kcH1DQ0N6evqKFSsAAMrKytu3byfLY4bH4w11yvuM2yXRY4bL5VIo/39WoNFoKJRJGgUFBTwEXiwWDw4OSqXivnnzZktLy7Jly6QOPHDgwNy5c3NycrhcrpaWFry4kmcDAIhEIkmXJXV1dV1dXRcXFwCAlpYWlUolywiFQuG7M45/Zu1iGEaWEYpEIskhjxELBISM0NDQsLGxEW43NTWJxWK8zi7kwoULNTU10HLKy8srKyubm5t37dpla2tbVlb24sULXV3dR48ewZtYQ0PDlpaWgYEB+H03NDRIZsRQVVW1srL6xz/+AXeh7ygpM8PYbHdMDZl0CDwT+vj43Lhxg8vlAgASEhI8PT2hh3FOTg6sl3bo0KHk5OSEhISEhARbW9sVK1asW7cOAIBhGJVKdXJy0tDQOHz4MFzOYbFYdDr9zp07AICWlpbHjx/jEb0IxJiCwEw4a9YsOzu7KVOmWFtbp6SkJCUlQfnWrVunTZsWFRWlq6urq6sLhTQaTUtLC+6ePXv21KlT+vr6WVlZHh4e33zzDQBAVlb2wIEDwcHBbDY7MzMzNDTU3Nx8uEeHQIwCiIUyicXijIyM169fT5s2DV9WqaqqUlZWllqMKS8v19TUhDpCofD58+fNzc3W1tZ2dnaSarW1tTk5OWZmZo6OjpJyFMqEQpnGDsSuNYVCcXd3lxLiRa0lYTKZ+LaCgsLQoyDGxsYolhcxxkG+owgEySAjRCBIBhkhAkEyyAgRCJJBRohAkAwxI8zPz3dxcdHQ0HBzc3v58uXb1FpbW6dOnbplyxZccvDgQTMzM21tbTc3NzzEaefOnc7/ZerUqR82AARitEPACMVicUBAwOLFi9va2nx8fAIDA9+muWbNmoGBgaqqKribmpr6448/3rp1q729PTAw0M/PD76crK2tZbPZ0MPm/Pnzf3IkCMQohYARpqamcjicdevWKSgoRERENDQ0vLFeUkJCgqys7Ny5c3FJdXW1lZWVtbW1jIyMn59fa2sr9H0DANDpdDMzMzMzM8l6TwjEmIKAEZaVldnZ2cFgE3l5eSsrq7KyMimdjo6OyMjIQ4cOSQrnzZvX0dFx/Pjx9PT07777buXKlXgmi6NHj1pYWMyaNSslJeUdTZ89e/bWrVvv39Xhorq6+ocffhj5dgEAoaGhUlWKRoZTp04lJyePfLtlZWXbt28f+XY/BQh4zHR1dUlFG3V0dEjprFu3btOmTVLRFZqamgEBAT/99JOxsXFDQ8OxY8egPCgoaN26dWpqardu3Zo7d25mZiaLxYIflZSUxMXFwSj+cePG+fj4GBgY4CHFI0ZlZWVmZmZfX98ItwsASElJaWlpkXIGHAHy8/OFQuHbPJw+Hq9evXr+/LnkpUal0d4AnU7ncDj4bnd3t1REb0pKSl5eXnh4eG5ubnNzc1dXV2Fhob29/b///e979+6VlZUpKCgUFxe7uLhUVFQYGhr+5S9/gQd+++23sKQMboTW1tYrV67EfUfXr1+voKAw8o6FNBpNVlaWFIdGGRkZZWXlkW9aXl6eSqWOqUtNOgSMkMlkFhcXi8ViCoUiEonKysokHUQBAD09PcrKyjAIsLm5mcfjbdq06c6dO8XFxZMnT4blsm1tbZWVlV+9eiU1WyooKAwODg7HiBCIUQYBI/Tw8FBRUTl69Og333xz8ODBcePGwfpK169fLyoqioyM9PX19fX1hcqwNNqlS5cAAJMnT962bVt4eLi5ufm5c+f4fD6M3z137pyXl5e6uvqNGzeuXbv28OFDvC0MwwQCQVdXF9wVCAQ8Hg/fHTE4HM7AwMDItwsAEIvFPT09Ix9cLxAIuFzup3CpVVVVyapVOsIQGCSFQrl8+XJoaGhUVJStrS00MABAR0fH0OL1hoaGfD4fbi9btqympmb27Nk9PT0MBuPq1avwPva3336LiIjg8XiWlpbx8fFubm744W1tbYmJiTdv3oS7fD6fQqEcOXLkg8f5YQwODvL5fFICHTkczpQpU0b+oQhGje3bt2+E2x16qaOiosLCwka4G6TwiZZGQyDGDshtDYEgGWSECATJjBojFAgEFRUVQ1/Ztba21tTUfLx2+Xx+VVWV5LsZchGLxZWVlZ2dnWR3hDA9PT1VVVUCgeAdOi0tLbW1tVJCoVBYUVHx6XwFww9GNtXV1Z6enhoaGgAAHo/3Rp2UlBQ9PT07Ozs6nX7+/HkoHBwcXLZsma6urpmZ2ZQpUzo6Oog2vW3bNiaTKSMjs2vXrjcqhISEqKioWFhYqKqqBgcHDwwMQDmdTscv4KJFi4i2e/bsWRaLJS8vv3Dhwjcq3Lt3T/I7unr1KpRXVFQwmUxra2tNTc3IyEii7XZ2ds6ePRuuilVXVw9VgFnzJPn1118xDLt9+7ak8PfffyfUbl9fn6urq6qqKpPJVFdXP3bs2FAdkUgUGBiop6dnYmLyxRdf9PT0QHlGRoahoaGtra2mpmZcXBzRIY8KyDfClpaWy5cvw9z4bzRCsVjMYDDgf8PTp0/V1NR6e3sxDLt8+bKFhUVvb69YLPb19f3uu++INn3z5s1nz57NnTv3bUaYmJVgTeAAAAmMSURBVJgI22pra5swYcKZM2egnE6nv3r1imhzOE+ePElJSdm0adM7jNDZ2Xmo3M/Pb8OGDRiG1dfX0+n0/Px8Qu329vZeuHChqKjobUYoSUFBgaKiYmdnJ4Zht2/fdnV1JdSWJP39/YmJifAnLCMjQ05OrqKiQkrn3LlzNjY2fX19g4ODX3755bZt26DcwcEhOjoaw7C8vDxlZeX29vYP7sYnC/lGCKmurn6bET579kxDQ0MkEsFdBwcHOBkuXLhwx44dUHj//n0jI6MPa9rPz+9tRiiJr69vVFQU3KbT6cXFxVwu98NahOzatevdRghfneFCDocjJyeHG/+yZcs2btz4Ae3yeLz3McJvv/128eLFcBsaoVR/PhgtLa1Hjx5JCefOnbt//364/fvvv1tYWGAY9uLFC0VFRfw6T5s2LSYm5s934FNjFDwT1tbWmpiY4O9tGQwGfAisqanBXysxGIzGxkahUPiR+lBfX5+amvrll1/ikmnTptHpdBaL9ezZs4/RYn5+vrGxsYqKyt/+9rfu7m4AQGNjo1gsxnPbMRiMoY9Pw4VQKLx48WJwcDAuyc3NnTBhgoqKyuLFi3t6ej74zDdu3JCTk3NycpKSV1dXMxgMuA2HhmFYbW3tuHHjaDSapPyDm/5kGQVGyOFw8K8BAKCkpASf0fv6+nC5kpIShmEfydO6r68vICAgJCQEeggBADIyMrq6uvr6+vz9/RcsWDDs7U6aNKm5uRl6QTQ1NUVERAAAOBwOlUrFS6YoKSn19vYOb7s4V69eVVVV9fDwgLsuLi4tLS2dnZ21tbV1dXUbN278sNOWlpaGhIScOnVqaEpVqW9TKBTy+fyhX/3HGzKJjAIj1NPTk/Rm6uzshLEFurq6uLyzs5NKpWpqag576zweb968eRMnTpR0IrG0tAQAyMrKfv/993w+v6CgYHgb1dbWhssnOjo6W7ZsuX//PgBAT0+Px+Phfkj4dfgY/Pzzz8HBwbjBa2tra2lpAQB0dXU3bdoE+0OUyspKNpu9f//+N9Y7kPyWOzs71dXVaTTa2776z4xRYIT29vZVVVUwbEosFmdnZ8N03Y6OjnhU8bNnz1gs1rA7eQmFQn9//wkTJsTExLzx5H19fXw+/6P6/re3t8N5w8DAQE9PT3LIUmnLh4v6+vq0tLSlS5e+rT8fMN66ujo2m71ly5ahRbsgLBZL6tsEANjY2LS3t9fX10N5VlbWRxoyyZD9UIoNDAwkJCRER0cDAM6fP3/t2jUoX7169cGDB+H2ggULFi5cmJ2dvW7dOgcHB7FYjGFYcXGxmprab7/9lpqaamxsHB8fT7Tp3NzchISEyZMnBwYGJiQkVFVVYRiWlZU1ceJEqODr62tqanrhwgWYgyMnJwfDsOzs7H/9619paWl379718vJyc3MjulxRVVWVkJAQGBjo6uqakJCQm5uLYVh/f7+lpSVcd4mJiblw4UJGRsaZM2f09fV/+ukneOD27dudnZ0zMzOPHDlCp9Ph0iUhrl27BjOJREdHJyQkwJ5HRkZu3boV14mKivL29pY86uTJk7A/p0+f1tPTO3z4MKFGe3p6TExMvL29E/4LfOR7+fKlpaWlQCDAMCwvL09NTS0xMfHhw4eGhoaXL1+GxwYFBc2dOzc7O3vjxo0WFhbDsjL0qUG+l7pYLIah3KGhoWlpaTQabcGCBQAAS0tLIyMjqPPLL79ERUWFh4czmcxbt27BScnGxubKlStHjhzp7+///vvvg4KCiDZdWlqalpYGf3STk5MNDAxMTU3V1NTwZz9LS0sdHZ1Hjx7BXXd3dycnJzqdXlJSkpSURKPR3N3dw8PDiRb0amxsTE5OVlNTc3BwSE5OFolEkyZNolAoU6ZMUVJSAgDo6OjEx8e3tbUZGBgcOnRo0aJF8MDvv/9eQUFh48aN+vr6ycnJH3D7nZqayuPxQkND4S30ggULZGVlzczMxGIxriMnJ7d582bJo3R0dM6fPw/7c/To0YCAAEKNCoVCWCIWj9k3NjaeMGGCsrIy7qTu6Oh48eLF48eP8/n8PXv2LFy4EGqePHlyx44d4eHhZmZm9+/f/yxrpyEHbgSCZEbBMyEC8XmDjBCBIBlkhAgEySAjRCBIBhkhOfT19aWnp7+P/1d2dnZ+fv4IdAlBFsgIR4KcnJy7d+9KSkpKSmbMmJGbm/uHx65fv37btm0frWsI8iH/PeFY4OTJk0+ePJFMWK6joxMcHCyV9xExNkFGSA4mJiY///wz2b1AfBKg29GPTkRERFJSUl1dHSwC5+PjAwAoLS2dNm1aXl4erpaenu7t7a2lpaWqquro6Pjvf//7jWe7c+eOi4vLiRMnAAB8Pn/Lli0MBkNZWVlfX9/DwyMjI2NkBoUYRtBM+NFhs9lZWVkVFRWhoaEAADU1NQAAh8PJyMiAgYIAgKSkpIULFzo6Oh44cEBPT6+4uPjFixdDT3XmzJlVq1Zt2LBh9erVAIAtW7acPn16586dtra2PT09z549a2lpGcGRIYYJsp1XxwTBwcFMJlNS8vz5cwDAw4cPMQwbGBgYP368vb29UCgceuzUqVPnzZsnFoujoqLk5OQkQ8vt7e1DQkI+ducRHxs0E5JPYWFhfX39Dz/8IC8v/0aFgYGBVatWXbhw4ffff58zZw4uNzMz+/333+3t7QMCAj7LQLsxAnomJJ+mpiYAAJ63YigpKSmnTp3auHGjpAUCAI4cOcJiscLCwvT19R0dHQ8dOjQwMPDRu4sYbtBMSD4wRvYdqURnzZrFZDJ37NhhZGS0fPlyXD5hwoR79+61tbWlpKRcv349IiKiqanpn//850h0GjF8oJlwJKDRaO9IestisahU6p07d96mICMj89NPP+3evXvFihV4iVUcXV3dwMDAixcvent7S7kEIEYFyAhHApgM7uHDh+3t7UNd1dTV1VevXh0fH3/8+HGRSAQA6OjoGFoefNOmTXv37g0LC8Orke/du/fVq1dwu6GhobS01MLC4iMPBfERIHtlaEzQ3d09ffp0eMHNzMyw/7s6imGYQCBYuXIlhUKRl5eHSyx4SlK4OoqfKjo6WkZGZvv27RiGwcdIFRUVIyMjWVlZe3t7mDYCMbpAkfUjB5fLbWlpkZeXHz9+vEAgqK+vl0yqCQCoq6uD+WZMTU3xvFVNTU0UCkVfXx9Xq6+vF4lEJiYmMjIyxcXF1dXVQqHQ2NjYyclpjBR5/8xARohAkAx6JkQgSAYZIQJBMsgIEQiS+X+g1p9ExvqXCwAAAABJRU5ErkJggg==\" />"
               }
              },
              "systemjs_options": null
             },
             "nodeType": "Scope",
             "props": {},
             "type": "node"
            }
           ],
           "instanceArgs": {
            "namespace": "html",
            "tag": "div"
           },
           "nodeType": "DOM",
           "props": {
            "style": {
             "display": "flex",
             "flex-direction": "column"
            }
           },
           "type": "node"
          }
         ],
         "instanceArgs": {
          "namespace": "html",
          "tag": "div"
         },
         "nodeType": "DOM",
         "props": {
          "style": {
           "display": "flex",
           "flex-direction": "row"
          }
         },
         "type": "node"
        }
       ],
       "instanceArgs": {
        "namespace": "html",
        "tag": "div"
       },
       "nodeType": "DOM",
       "props": {
        "style": {
         "display": "flex",
         "flex-direction": "column"
        }
       },
       "type": "node"
      },
      "text/html": [
       "<div\n",
       "    class=\"webio-mountpoint\"\n",
       "    data-webio-mountpoint=\"4978387805720138446\"\n",
       ">\n",
       "    <script>\n",
       "    (function(){\n",
       "    // Some integrations (namely, IJulia/Jupyter) use an alternate render pathway than\n",
       "    // just putting the html on the page. If WebIO isn't defined, then it's pretty likely\n",
       "    // that we're in one of those situations and the integration just isn't installed\n",
       "    // correctly.\n",
       "    if (typeof window.WebIO === \"undefined\") {\n",
       "        document\n",
       "            .querySelector('[data-webio-mountpoint=\"4978387805720138446\"]')\n",
       "            .innerHTML = (\n",
       "                '<div style=\"padding: 1em; background-color: #f8d6da; border: 1px solid #f5c6cb; font-weight: bold;\">' +\n",
       "                '<p><strong>WebIO not detected.</strong></p>' +\n",
       "                '<p>Please read ' +\n",
       "                '<a href=\"https://juliagizmos.github.io/WebIO.jl/latest/troubleshooting/not-detected/\" target=\"_blank\">the troubleshooting guide</a> ' +\n",
       "                'for more information on how to resolve this issue.</p>' +\n",
       "                '<p><a href=\"https://juliagizmos.github.io/WebIO.jl/latest/troubleshooting/not-detected/\" target=\"_blank\">https://juliagizmos.github.io/WebIO.jl/latest/troubleshooting/not-detected/</a></p>' +\n",
       "                '</div>'\n",
       "            );\n",
       "        return;\n",
       "    }\n",
       "    WebIO.mount(\n",
       "        document.querySelector('[data-webio-mountpoint=\"4978387805720138446\"]'),\n",
       "        {\"props\":{\"style\":{\"display\":\"flex\",\"flex-direction\":\"column\"}},\"nodeType\":\"DOM\",\"type\":\"node\",\"instanceArgs\":{\"namespace\":\"html\",\"tag\":\"div\"},\"children\":[{\"props\":{\"style\":{\"display\":\"flex\",\"flex-direction\":\"row\"}},\"nodeType\":\"DOM\",\"type\":\"node\",\"instanceArgs\":{\"namespace\":\"html\",\"tag\":\"div\"},\"children\":[{\"props\":{\"style\":{\"display\":\"flex\",\"flex-direction\":\"column\"}},\"nodeType\":\"DOM\",\"type\":\"node\",\"instanceArgs\":{\"namespace\":\"html\",\"tag\":\"div\"},\"children\":[{\"props\":{\"className\":\"field interact-widget\"},\"nodeType\":\"DOM\",\"type\":\"node\",\"instanceArgs\":{\"namespace\":\"html\",\"tag\":\"div\"},\"children\":[{\"props\":{},\"nodeType\":\"Scope\",\"type\":\"node\",\"instanceArgs\":{\"imports\":{\"data\":[{\"name\":\"knockout\",\"type\":\"js\",\"url\":\"\\/assetserver\\/727383f2a47bd31570b7da84eee7b022dd6d7c78-knockout.js\"},{\"name\":\"knockout_punches\",\"type\":\"js\",\"url\":\"\\/assetserver\\/382b41b3b1bd9f26f75861d360bad7f8beea211f-knockout_punches.js\"},{\"name\":null,\"type\":\"js\",\"url\":\"\\/assetserver\\/5ab20f1060420992a9b82a65b735dee4d81ef413-all.js\"},{\"name\":null,\"type\":\"css\",\"url\":\"\\/assetserver\\/1cc0ed62837210b80a182cc3676512f895dab686-style.css\"},{\"name\":null,\"type\":\"css\",\"url\":\"\\/assetserver\\/2eee816f616df3549d7044d45e744fbf8d42bfa1-bulma_confined.min.css\"}],\"type\":\"async_block\"},\"id\":\"8862731819570235158\",\"handlers\":{\"changes\":[\"(function (val){return (val!=this.model[\\\"changes\\\"]()) ? (this.valueFromJulia[\\\"changes\\\"]=true, this.model[\\\"changes\\\"](val)) : undefined})\"],\"index\":[\"(function (val){return (val!=this.model[\\\"index\\\"]()) ? (this.valueFromJulia[\\\"index\\\"]=true, this.model[\\\"index\\\"](val)) : undefined})\"]},\"systemjs_options\":null,\"mount_callbacks\":[\"function () {\\n    var handler = (function (ko, koPunches) {\\n    ko.punches.enableAll();\\n    ko.bindingHandlers.numericValue = {\\n        init: function(element, valueAccessor, allBindings, data, context) {\\n            var stringified = ko.observable(ko.unwrap(valueAccessor()));\\n            stringified.subscribe(function(value) {\\n                var val = parseFloat(value);\\n                if (!isNaN(val)) {\\n                    valueAccessor()(val);\\n                }\\n            });\\n            valueAccessor().subscribe(function(value) {\\n                var str = JSON.stringify(value);\\n                if ((str == \\\"0\\\") && ([\\\"-0\\\", \\\"-0.\\\"].indexOf(stringified()) >= 0))\\n                     return;\\n                 if ([\\\"null\\\", \\\"\\\"].indexOf(str) >= 0)\\n                     return;\\n                stringified(str);\\n            });\\n            ko.applyBindingsToNode(\\n                element,\\n                {\\n                    value: stringified,\\n                    valueUpdate: allBindings.get('valueUpdate'),\\n                },\\n                context,\\n            );\\n        }\\n    };\\n    var json_data = {\\\"formatted_vals\\\":[\\\"1\\\",\\\"2\\\",\\\"3\\\",\\\"4\\\",\\\"5\\\",\\\"6\\\",\\\"7\\\",\\\"8\\\",\\\"9\\\",\\\"10\\\",\\\"11\\\",\\\"12\\\",\\\"13\\\",\\\"14\\\",\\\"15\\\",\\\"16\\\",\\\"17\\\",\\\"18\\\",\\\"19\\\",\\\"20\\\",\\\"21\\\",\\\"22\\\",\\\"23\\\",\\\"24\\\",\\\"25\\\",\\\"26\\\",\\\"27\\\",\\\"28\\\",\\\"29\\\",\\\"30\\\",\\\"31\\\",\\\"32\\\",\\\"33\\\",\\\"34\\\",\\\"35\\\",\\\"36\\\",\\\"37\\\",\\\"38\\\",\\\"39\\\",\\\"40\\\",\\\"41\\\",\\\"42\\\",\\\"43\\\",\\\"44\\\",\\\"45\\\",\\\"46\\\",\\\"47\\\",\\\"48\\\",\\\"49\\\",\\\"50\\\",\\\"51\\\",\\\"52\\\",\\\"53\\\",\\\"54\\\",\\\"55\\\",\\\"56\\\",\\\"57\\\",\\\"58\\\",\\\"59\\\",\\\"60\\\",\\\"61\\\",\\\"62\\\",\\\"63\\\",\\\"64\\\",\\\"65\\\",\\\"66\\\",\\\"67\\\",\\\"68\\\",\\\"69\\\",\\\"70\\\",\\\"71\\\",\\\"72\\\",\\\"73\\\",\\\"74\\\",\\\"75\\\",\\\"76\\\",\\\"77\\\",\\\"78\\\",\\\"79\\\",\\\"80\\\",\\\"81\\\",\\\"82\\\",\\\"83\\\",\\\"84\\\",\\\"85\\\",\\\"86\\\",\\\"87\\\",\\\"88\\\",\\\"89\\\",\\\"90\\\",\\\"91\\\",\\\"92\\\",\\\"93\\\",\\\"94\\\",\\\"95\\\",\\\"96\\\",\\\"97\\\",\\\"98\\\",\\\"99\\\",\\\"100\\\",\\\"101\\\",\\\"102\\\",\\\"103\\\",\\\"104\\\",\\\"105\\\",\\\"106\\\",\\\"107\\\",\\\"108\\\",\\\"109\\\",\\\"110\\\",\\\"111\\\",\\\"112\\\",\\\"113\\\",\\\"114\\\",\\\"115\\\",\\\"116\\\",\\\"117\\\",\\\"118\\\",\\\"119\\\",\\\"120\\\",\\\"121\\\",\\\"122\\\",\\\"123\\\",\\\"124\\\",\\\"125\\\",\\\"126\\\",\\\"127\\\",\\\"128\\\",\\\"129\\\",\\\"130\\\",\\\"131\\\",\\\"132\\\",\\\"133\\\",\\\"134\\\",\\\"135\\\",\\\"136\\\",\\\"137\\\",\\\"138\\\",\\\"139\\\",\\\"140\\\",\\\"141\\\",\\\"142\\\",\\\"143\\\",\\\"144\\\",\\\"145\\\",\\\"146\\\",\\\"147\\\",\\\"148\\\",\\\"149\\\",\\\"150\\\",\\\"151\\\",\\\"152\\\",\\\"153\\\",\\\"154\\\",\\\"155\\\",\\\"156\\\",\\\"157\\\",\\\"158\\\",\\\"159\\\",\\\"160\\\",\\\"161\\\",\\\"162\\\",\\\"163\\\",\\\"164\\\",\\\"165\\\",\\\"166\\\",\\\"167\\\",\\\"168\\\",\\\"169\\\",\\\"170\\\",\\\"171\\\",\\\"172\\\",\\\"173\\\",\\\"174\\\",\\\"175\\\",\\\"176\\\",\\\"177\\\",\\\"178\\\",\\\"179\\\",\\\"180\\\",\\\"181\\\",\\\"182\\\",\\\"183\\\",\\\"184\\\",\\\"185\\\",\\\"186\\\",\\\"187\\\",\\\"188\\\",\\\"189\\\",\\\"190\\\",\\\"191\\\",\\\"192\\\",\\\"193\\\",\\\"194\\\",\\\"195\\\",\\\"196\\\",\\\"197\\\",\\\"198\\\",\\\"199\\\",\\\"200\\\"],\\\"changes\\\":WebIO.getval({\\\"name\\\":\\\"changes\\\",\\\"scope\\\":\\\"8862731819570235158\\\",\\\"id\\\":\\\"15142653228492649392\\\",\\\"type\\\":\\\"observable\\\"}),\\\"index\\\":WebIO.getval({\\\"name\\\":\\\"index\\\",\\\"scope\\\":\\\"8862731819570235158\\\",\\\"id\\\":\\\"10808795950796895910\\\",\\\"type\\\":\\\"observable\\\"})};\\n    var self = this;\\n    function AppViewModel() {\\n        for (var key in json_data) {\\n            var el = json_data[key];\\n            this[key] = Array.isArray(el) ? ko.observableArray(el) : ko.observable(el);\\n        }\\n        \\n        [this[\\\"formatted_val\\\"]=ko.computed(    function(){\\n        return this.formatted_vals()[parseInt(this.index())-(1)];\\n    }\\n,this)]\\n        [this[\\\"changes\\\"].subscribe((function (val){!(this.valueFromJulia[\\\"changes\\\"]) ? (WebIO.setval({\\\"name\\\":\\\"changes\\\",\\\"scope\\\":\\\"8862731819570235158\\\",\\\"id\\\":\\\"15142653228492649392\\\",\\\"type\\\":\\\"observable\\\"},val)) : undefined; return this.valueFromJulia[\\\"changes\\\"]=false}),self),this[\\\"index\\\"].subscribe((function (val){!(this.valueFromJulia[\\\"index\\\"]) ? (WebIO.setval({\\\"name\\\":\\\"index\\\",\\\"scope\\\":\\\"8862731819570235158\\\",\\\"id\\\":\\\"10808795950796895910\\\",\\\"type\\\":\\\"observable\\\"},val)) : undefined; return this.valueFromJulia[\\\"index\\\"]=false}),self)]\\n        \\n    }\\n    self.model = new AppViewModel();\\n    self.valueFromJulia = {};\\n    for (var key in json_data) {\\n        self.valueFromJulia[key] = false;\\n    }\\n    ko.applyBindings(self.model, self.dom);\\n}\\n);\\n    (WebIO.importBlock({\\\"data\\\":[{\\\"name\\\":\\\"knockout\\\",\\\"type\\\":\\\"js\\\",\\\"url\\\":\\\"\\/assetserver\\/727383f2a47bd31570b7da84eee7b022dd6d7c78-knockout.js\\\"},{\\\"name\\\":\\\"knockout_punches\\\",\\\"type\\\":\\\"js\\\",\\\"url\\\":\\\"\\/assetserver\\/382b41b3b1bd9f26f75861d360bad7f8beea211f-knockout_punches.js\\\"}],\\\"type\\\":\\\"async_block\\\"})).then((imports) => handler.apply(this, imports));\\n}\\n\"],\"observables\":{\"changes\":{\"sync\":false,\"id\":\"15142653228492649392\",\"value\":0},\"index\":{\"sync\":true,\"id\":\"10808795950796895910\",\"value\":1}}},\"children\":[{\"props\":{\"className\":\"interact-flex-row interact-widget\"},\"nodeType\":\"DOM\",\"type\":\"node\",\"instanceArgs\":{\"namespace\":\"html\",\"tag\":\"div\"},\"children\":[{\"props\":{\"className\":\"interact-flex-row-left\"},\"nodeType\":\"DOM\",\"type\":\"node\",\"instanceArgs\":{\"namespace\":\"html\",\"tag\":\"div\"},\"children\":[{\"props\":{\"className\":\"interact \",\"style\":{\"padding\":\"5px 10px 0px 10px\"}},\"nodeType\":\"DOM\",\"type\":\"node\",\"instanceArgs\":{\"namespace\":\"html\",\"tag\":\"label\"},\"children\":[\"time\"]}]},{\"props\":{\"className\":\"interact-flex-row-center\"},\"nodeType\":\"DOM\",\"type\":\"node\",\"instanceArgs\":{\"namespace\":\"html\",\"tag\":\"div\"},\"children\":[{\"props\":{\"max\":200,\"min\":1,\"attributes\":{\"type\":\"range\",\"data-bind\":\"numericValue: index, valueUpdate: 'input', event: {change: function (){this.changes(this.changes()+1)}}\",\"orient\":\"horizontal\"},\"step\":1,\"className\":\"slider slider is-fullwidth\",\"style\":{}},\"nodeType\":\"DOM\",\"type\":\"node\",\"instanceArgs\":{\"namespace\":\"html\",\"tag\":\"input\"},\"children\":[]}]},{\"props\":{\"className\":\"interact-flex-row-right\"},\"nodeType\":\"DOM\",\"type\":\"node\",\"instanceArgs\":{\"namespace\":\"html\",\"tag\":\"div\"},\"children\":[{\"props\":{\"attributes\":{\"data-bind\":\"text: formatted_val\"}},\"nodeType\":\"DOM\",\"type\":\"node\",\"instanceArgs\":{\"namespace\":\"html\",\"tag\":\"p\"},\"children\":[]}]}]}]}]},{\"props\":{\"className\":\"field interact-widget\"},\"nodeType\":\"DOM\",\"type\":\"node\",\"instanceArgs\":{\"namespace\":\"html\",\"tag\":\"div\"},\"children\":[{\"props\":{},\"nodeType\":\"Scope\",\"type\":\"node\",\"instanceArgs\":{\"imports\":{\"data\":[{\"name\":\"knockout\",\"type\":\"js\",\"url\":\"\\/assetserver\\/727383f2a47bd31570b7da84eee7b022dd6d7c78-knockout.js\"},{\"name\":\"knockout_punches\",\"type\":\"js\",\"url\":\"\\/assetserver\\/382b41b3b1bd9f26f75861d360bad7f8beea211f-knockout_punches.js\"},{\"name\":null,\"type\":\"js\",\"url\":\"\\/assetserver\\/5ab20f1060420992a9b82a65b735dee4d81ef413-all.js\"},{\"name\":null,\"type\":\"css\",\"url\":\"\\/assetserver\\/1cc0ed62837210b80a182cc3676512f895dab686-style.css\"},{\"name\":null,\"type\":\"css\",\"url\":\"\\/assetserver\\/2eee816f616df3549d7044d45e744fbf8d42bfa1-bulma_confined.min.css\"}],\"type\":\"async_block\"},\"id\":\"8587721069159695662\",\"handlers\":{\"changes\":[\"(function (val){return (val!=this.model[\\\"changes\\\"]()) ? (this.valueFromJulia[\\\"changes\\\"]=true, this.model[\\\"changes\\\"](val)) : undefined})\"],\"index\":[\"(function (val){return (val!=this.model[\\\"index\\\"]()) ? (this.valueFromJulia[\\\"index\\\"]=true, this.model[\\\"index\\\"](val)) : undefined})\"]},\"systemjs_options\":null,\"mount_callbacks\":[\"function () {\\n    var handler = (function (ko, koPunches) {\\n    ko.punches.enableAll();\\n    ko.bindingHandlers.numericValue = {\\n        init: function(element, valueAccessor, allBindings, data, context) {\\n            var stringified = ko.observable(ko.unwrap(valueAccessor()));\\n            stringified.subscribe(function(value) {\\n                var val = parseFloat(value);\\n                if (!isNaN(val)) {\\n                    valueAccessor()(val);\\n                }\\n            });\\n            valueAccessor().subscribe(function(value) {\\n                var str = JSON.stringify(value);\\n                if ((str == \\\"0\\\") && ([\\\"-0\\\", \\\"-0.\\\"].indexOf(stringified()) >= 0))\\n                     return;\\n                 if ([\\\"null\\\", \\\"\\\"].indexOf(str) >= 0)\\n                     return;\\n                stringified(str);\\n            });\\n            ko.applyBindingsToNode(\\n                element,\\n                {\\n                    value: stringified,\\n                    valueUpdate: allBindings.get('valueUpdate'),\\n                },\\n                context,\\n            );\\n        }\\n    };\\n    var json_data = {\\\"formatted_vals\\\":[\\\"0.1\\\",\\\"0.2\\\",\\\"0.3\\\",\\\"0.4\\\",\\\"0.5\\\",\\\"0.6\\\",\\\"0.7\\\",\\\"0.8\\\",\\\"0.9\\\",\\\"1.0\\\",\\\"1.1\\\",\\\"1.2\\\",\\\"1.3\\\",\\\"1.4\\\",\\\"1.5\\\",\\\"1.6\\\",\\\"1.7\\\",\\\"1.8\\\",\\\"1.9\\\",\\\"2.0\\\"],\\\"changes\\\":WebIO.getval({\\\"name\\\":\\\"changes\\\",\\\"scope\\\":\\\"8587721069159695662\\\",\\\"id\\\":\\\"12284842188814315617\\\",\\\"type\\\":\\\"observable\\\"}),\\\"index\\\":WebIO.getval({\\\"name\\\":\\\"index\\\",\\\"scope\\\":\\\"8587721069159695662\\\",\\\"id\\\":\\\"17373187217026794480\\\",\\\"type\\\":\\\"observable\\\"})};\\n    var self = this;\\n    function AppViewModel() {\\n        for (var key in json_data) {\\n            var el = json_data[key];\\n            this[key] = Array.isArray(el) ? ko.observableArray(el) : ko.observable(el);\\n        }\\n        \\n        [this[\\\"formatted_val\\\"]=ko.computed(    function(){\\n        return this.formatted_vals()[parseInt(this.index())-(1)];\\n    }\\n,this)]\\n        [this[\\\"changes\\\"].subscribe((function (val){!(this.valueFromJulia[\\\"changes\\\"]) ? (WebIO.setval({\\\"name\\\":\\\"changes\\\",\\\"scope\\\":\\\"8587721069159695662\\\",\\\"id\\\":\\\"12284842188814315617\\\",\\\"type\\\":\\\"observable\\\"},val)) : undefined; return this.valueFromJulia[\\\"changes\\\"]=false}),self),this[\\\"index\\\"].subscribe((function (val){!(this.valueFromJulia[\\\"index\\\"]) ? (WebIO.setval({\\\"name\\\":\\\"index\\\",\\\"scope\\\":\\\"8587721069159695662\\\",\\\"id\\\":\\\"17373187217026794480\\\",\\\"type\\\":\\\"observable\\\"},val)) : undefined; return this.valueFromJulia[\\\"index\\\"]=false}),self)]\\n        \\n    }\\n    self.model = new AppViewModel();\\n    self.valueFromJulia = {};\\n    for (var key in json_data) {\\n        self.valueFromJulia[key] = false;\\n    }\\n    ko.applyBindings(self.model, self.dom);\\n}\\n);\\n    (WebIO.importBlock({\\\"data\\\":[{\\\"name\\\":\\\"knockout\\\",\\\"type\\\":\\\"js\\\",\\\"url\\\":\\\"\\/assetserver\\/727383f2a47bd31570b7da84eee7b022dd6d7c78-knockout.js\\\"},{\\\"name\\\":\\\"knockout_punches\\\",\\\"type\\\":\\\"js\\\",\\\"url\\\":\\\"\\/assetserver\\/382b41b3b1bd9f26f75861d360bad7f8beea211f-knockout_punches.js\\\"}],\\\"type\\\":\\\"async_block\\\"})).then((imports) => handler.apply(this, imports));\\n}\\n\"],\"observables\":{\"changes\":{\"sync\":false,\"id\":\"12284842188814315617\",\"value\":0},\"index\":{\"sync\":true,\"id\":\"17373187217026794480\",\"value\":10}}},\"children\":[{\"props\":{\"className\":\"interact-flex-row interact-widget\"},\"nodeType\":\"DOM\",\"type\":\"node\",\"instanceArgs\":{\"namespace\":\"html\",\"tag\":\"div\"},\"children\":[{\"props\":{\"className\":\"interact-flex-row-left\"},\"nodeType\":\"DOM\",\"type\":\"node\",\"instanceArgs\":{\"namespace\":\"html\",\"tag\":\"div\"},\"children\":[{\"props\":{\"className\":\"interact \",\"style\":{\"padding\":\"5px 10px 0px 10px\"}},\"nodeType\":\"DOM\",\"type\":\"node\",\"instanceArgs\":{\"namespace\":\"html\",\"tag\":\"label\"},\"children\":[\"scale\"]}]},{\"props\":{\"className\":\"interact-flex-row-center\"},\"nodeType\":\"DOM\",\"type\":\"node\",\"instanceArgs\":{\"namespace\":\"html\",\"tag\":\"div\"},\"children\":[{\"props\":{\"max\":20,\"min\":1,\"attributes\":{\"type\":\"range\",\"data-bind\":\"numericValue: index, valueUpdate: 'input', event: {change: function (){this.changes(this.changes()+1)}}\",\"orient\":\"horizontal\"},\"step\":1,\"className\":\"slider slider is-fullwidth\",\"style\":{}},\"nodeType\":\"DOM\",\"type\":\"node\",\"instanceArgs\":{\"namespace\":\"html\",\"tag\":\"input\"},\"children\":[]}]},{\"props\":{\"className\":\"interact-flex-row-right\"},\"nodeType\":\"DOM\",\"type\":\"node\",\"instanceArgs\":{\"namespace\":\"html\",\"tag\":\"div\"},\"children\":[{\"props\":{\"attributes\":{\"data-bind\":\"text: formatted_val\"}},\"nodeType\":\"DOM\",\"type\":\"node\",\"instanceArgs\":{\"namespace\":\"html\",\"tag\":\"p\"},\"children\":[]}]}]}]}]},{\"props\":{\"style\":{\"display\":\"flex\",\"flex-direction\":\"column\"}},\"nodeType\":\"DOM\",\"type\":\"node\",\"instanceArgs\":{\"namespace\":\"html\",\"tag\":\"div\"},\"children\":[]},{\"props\":{\"style\":{\"display\":\"flex\",\"flex-direction\":\"column\"}},\"nodeType\":\"DOM\",\"type\":\"node\",\"instanceArgs\":{\"namespace\":\"html\",\"tag\":\"div\"},\"children\":[{\"props\":{\"className\":\"field interact-widget\"},\"nodeType\":\"DOM\",\"type\":\"node\",\"instanceArgs\":{\"namespace\":\"html\",\"tag\":\"div\"},\"children\":[{\"props\":{},\"nodeType\":\"Scope\",\"type\":\"node\",\"instanceArgs\":{\"imports\":{\"data\":[{\"name\":\"knockout\",\"type\":\"js\",\"url\":\"\\/assetserver\\/727383f2a47bd31570b7da84eee7b022dd6d7c78-knockout.js\"},{\"name\":\"knockout_punches\",\"type\":\"js\",\"url\":\"\\/assetserver\\/382b41b3b1bd9f26f75861d360bad7f8beea211f-knockout_punches.js\"},{\"name\":null,\"type\":\"js\",\"url\":\"\\/assetserver\\/5ab20f1060420992a9b82a65b735dee4d81ef413-all.js\"},{\"name\":null,\"type\":\"css\",\"url\":\"\\/assetserver\\/1cc0ed62837210b80a182cc3676512f895dab686-style.css\"},{\"name\":null,\"type\":\"css\",\"url\":\"\\/assetserver\\/2eee816f616df3549d7044d45e744fbf8d42bfa1-bulma_confined.min.css\"}],\"type\":\"async_block\"},\"id\":\"17356495088381849194\",\"handlers\":{\"changes\":[\"(function (val){return (val!=this.model[\\\"changes\\\"]()) ? (this.valueFromJulia[\\\"changes\\\"]=true, this.model[\\\"changes\\\"](val)) : undefined})\"],\"index\":[\"(function (val){return (val!=this.model[\\\"index\\\"]()) ? (this.valueFromJulia[\\\"index\\\"]=true, this.model[\\\"index\\\"](val)) : undefined})\"]},\"systemjs_options\":null,\"mount_callbacks\":[\"function () {\\n    var handler = (function (ko, koPunches) {\\n    ko.punches.enableAll();\\n    ko.bindingHandlers.numericValue = {\\n        init: function(element, valueAccessor, allBindings, data, context) {\\n            var stringified = ko.observable(ko.unwrap(valueAccessor()));\\n            stringified.subscribe(function(value) {\\n                var val = parseFloat(value);\\n                if (!isNaN(val)) {\\n                    valueAccessor()(val);\\n                }\\n            });\\n            valueAccessor().subscribe(function(value) {\\n                var str = JSON.stringify(value);\\n                if ((str == \\\"0\\\") && ([\\\"-0\\\", \\\"-0.\\\"].indexOf(stringified()) >= 0))\\n                     return;\\n                 if ([\\\"null\\\", \\\"\\\"].indexOf(str) >= 0)\\n                     return;\\n                stringified(str);\\n            });\\n            ko.applyBindingsToNode(\\n                element,\\n                {\\n                    value: stringified,\\n                    valueUpdate: allBindings.get('valueUpdate'),\\n                },\\n                context,\\n            );\\n        }\\n    };\\n    var json_data = {\\\"formatted_vals\\\":[\\\"0.0\\\",\\\"0.01\\\",\\\"0.02\\\",\\\"0.03\\\",\\\"0.04\\\",\\\"0.05\\\",\\\"0.06\\\",\\\"0.07\\\",\\\"0.08\\\",\\\"0.09\\\",\\\"0.1\\\",\\\"0.11\\\",\\\"0.12\\\",\\\"0.13\\\",\\\"0.14\\\",\\\"0.15\\\",\\\"0.16\\\",\\\"0.17\\\",\\\"0.18\\\",\\\"0.19\\\",\\\"0.2\\\",\\\"0.21\\\",\\\"0.22\\\",\\\"0.23\\\",\\\"0.24\\\",\\\"0.25\\\",\\\"0.26\\\",\\\"0.27\\\",\\\"0.28\\\",\\\"0.29\\\",\\\"0.3\\\",\\\"0.31\\\",\\\"0.32\\\",\\\"0.33\\\",\\\"0.34\\\",\\\"0.35\\\",\\\"0.36\\\",\\\"0.37\\\",\\\"0.38\\\",\\\"0.39\\\",\\\"0.4\\\",\\\"0.41\\\",\\\"0.42\\\",\\\"0.43\\\",\\\"0.44\\\",\\\"0.45\\\",\\\"0.46\\\",\\\"0.47\\\",\\\"0.48\\\",\\\"0.49\\\",\\\"0.5\\\",\\\"0.51\\\",\\\"0.52\\\",\\\"0.53\\\",\\\"0.54\\\",\\\"0.55\\\",\\\"0.56\\\",\\\"0.57\\\",\\\"0.58\\\",\\\"0.59\\\",\\\"0.6\\\",\\\"0.61\\\",\\\"0.62\\\",\\\"0.63\\\",\\\"0.64\\\",\\\"0.65\\\",\\\"0.66\\\",\\\"0.67\\\",\\\"0.68\\\",\\\"0.69\\\",\\\"0.7\\\",\\\"0.71\\\",\\\"0.72\\\",\\\"0.73\\\",\\\"0.74\\\",\\\"0.75\\\",\\\"0.76\\\",\\\"0.77\\\",\\\"0.78\\\",\\\"0.79\\\",\\\"0.8\\\",\\\"0.81\\\",\\\"0.82\\\",\\\"0.83\\\",\\\"0.84\\\",\\\"0.85\\\",\\\"0.86\\\",\\\"0.87\\\",\\\"0.88\\\",\\\"0.89\\\",\\\"0.9\\\",\\\"0.91\\\",\\\"0.92\\\",\\\"0.93\\\",\\\"0.94\\\",\\\"0.95\\\",\\\"0.96\\\",\\\"0.97\\\",\\\"0.98\\\",\\\"0.99\\\",\\\"1.0\\\"],\\\"changes\\\":WebIO.getval({\\\"name\\\":\\\"changes\\\",\\\"scope\\\":\\\"17356495088381849194\\\",\\\"id\\\":\\\"10038222847662196887\\\",\\\"type\\\":\\\"observable\\\"}),\\\"index\\\":WebIO.getval({\\\"name\\\":\\\"index\\\",\\\"scope\\\":\\\"17356495088381849194\\\",\\\"id\\\":\\\"3782522997244175003\\\",\\\"type\\\":\\\"observable\\\"})};\\n    var self = this;\\n    function AppViewModel() {\\n        for (var key in json_data) {\\n            var el = json_data[key];\\n            this[key] = Array.isArray(el) ? ko.observableArray(el) : ko.observable(el);\\n        }\\n        \\n        [this[\\\"formatted_val\\\"]=ko.computed(    function(){\\n        return this.formatted_vals()[parseInt(this.index())-(1)];\\n    }\\n,this)]\\n        [this[\\\"changes\\\"].subscribe((function (val){!(this.valueFromJulia[\\\"changes\\\"]) ? (WebIO.setval({\\\"name\\\":\\\"changes\\\",\\\"scope\\\":\\\"17356495088381849194\\\",\\\"id\\\":\\\"10038222847662196887\\\",\\\"type\\\":\\\"observable\\\"},val)) : undefined; return this.valueFromJulia[\\\"changes\\\"]=false}),self),this[\\\"index\\\"].subscribe((function (val){!(this.valueFromJulia[\\\"index\\\"]) ? (WebIO.setval({\\\"name\\\":\\\"index\\\",\\\"scope\\\":\\\"17356495088381849194\\\",\\\"id\\\":\\\"3782522997244175003\\\",\\\"type\\\":\\\"observable\\\"},val)) : undefined; return this.valueFromJulia[\\\"index\\\"]=false}),self)]\\n        \\n    }\\n    self.model = new AppViewModel();\\n    self.valueFromJulia = {};\\n    for (var key in json_data) {\\n        self.valueFromJulia[key] = false;\\n    }\\n    ko.applyBindings(self.model, self.dom);\\n}\\n);\\n    (WebIO.importBlock({\\\"data\\\":[{\\\"name\\\":\\\"knockout\\\",\\\"type\\\":\\\"js\\\",\\\"url\\\":\\\"\\/assetserver\\/727383f2a47bd31570b7da84eee7b022dd6d7c78-knockout.js\\\"},{\\\"name\\\":\\\"knockout_punches\\\",\\\"type\\\":\\\"js\\\",\\\"url\\\":\\\"\\/assetserver\\/382b41b3b1bd9f26f75861d360bad7f8beea211f-knockout_punches.js\\\"}],\\\"type\\\":\\\"async_block\\\"})).then((imports) => handler.apply(this, imports));\\n}\\n\"],\"observables\":{\"changes\":{\"sync\":false,\"id\":\"10038222847662196887\",\"value\":0},\"index\":{\"sync\":true,\"id\":\"3782522997244175003\",\"value\":51}}},\"children\":[{\"props\":{\"className\":\"interact-flex-row interact-widget\"},\"nodeType\":\"DOM\",\"type\":\"node\",\"instanceArgs\":{\"namespace\":\"html\",\"tag\":\"div\"},\"children\":[{\"props\":{\"className\":\"interact-flex-row-left\"},\"nodeType\":\"DOM\",\"type\":\"node\",\"instanceArgs\":{\"namespace\":\"html\",\"tag\":\"div\"},\"children\":[{\"props\":{\"className\":\"interact \",\"style\":{\"padding\":\"5px 10px 0px 10px\"}},\"nodeType\":\"DOM\",\"type\":\"node\",\"instanceArgs\":{\"namespace\":\"html\",\"tag\":\"label\"},\"children\":[\"wolf_birth_rate\"]}]},{\"props\":{\"className\":\"interact-flex-row-center\"},\"nodeType\":\"DOM\",\"type\":\"node\",\"instanceArgs\":{\"namespace\":\"html\",\"tag\":\"div\"},\"children\":[{\"props\":{\"max\":101,\"min\":1,\"attributes\":{\"type\":\"range\",\"data-bind\":\"numericValue: index, valueUpdate: 'input', event: {change: function (){this.changes(this.changes()+1)}}\",\"orient\":\"horizontal\"},\"step\":1,\"className\":\"slider slider is-fullwidth\",\"style\":{}},\"nodeType\":\"DOM\",\"type\":\"node\",\"instanceArgs\":{\"namespace\":\"html\",\"tag\":\"input\"},\"children\":[]}]},{\"props\":{\"className\":\"interact-flex-row-right\"},\"nodeType\":\"DOM\",\"type\":\"node\",\"instanceArgs\":{\"namespace\":\"html\",\"tag\":\"div\"},\"children\":[{\"props\":{\"attributes\":{\"data-bind\":\"text: formatted_val\"}},\"nodeType\":\"DOM\",\"type\":\"node\",\"instanceArgs\":{\"namespace\":\"html\",\"tag\":\"p\"},\"children\":[]}]}]}]}]},{\"props\":{\"className\":\"field interact-widget\"},\"nodeType\":\"DOM\",\"type\":\"node\",\"instanceArgs\":{\"namespace\":\"html\",\"tag\":\"div\"},\"children\":[{\"props\":{},\"nodeType\":\"Scope\",\"type\":\"node\",\"instanceArgs\":{\"imports\":{\"data\":[{\"name\":\"knockout\",\"type\":\"js\",\"url\":\"\\/assetserver\\/727383f2a47bd31570b7da84eee7b022dd6d7c78-knockout.js\"},{\"name\":\"knockout_punches\",\"type\":\"js\",\"url\":\"\\/assetserver\\/382b41b3b1bd9f26f75861d360bad7f8beea211f-knockout_punches.js\"},{\"name\":null,\"type\":\"js\",\"url\":\"\\/assetserver\\/5ab20f1060420992a9b82a65b735dee4d81ef413-all.js\"},{\"name\":null,\"type\":\"css\",\"url\":\"\\/assetserver\\/1cc0ed62837210b80a182cc3676512f895dab686-style.css\"},{\"name\":null,\"type\":\"css\",\"url\":\"\\/assetserver\\/2eee816f616df3549d7044d45e744fbf8d42bfa1-bulma_confined.min.css\"}],\"type\":\"async_block\"},\"id\":\"11389994850929990858\",\"handlers\":{\"changes\":[\"(function (val){return (val!=this.model[\\\"changes\\\"]()) ? (this.valueFromJulia[\\\"changes\\\"]=true, this.model[\\\"changes\\\"](val)) : undefined})\"],\"index\":[\"(function (val){return (val!=this.model[\\\"index\\\"]()) ? (this.valueFromJulia[\\\"index\\\"]=true, this.model[\\\"index\\\"](val)) : undefined})\"]},\"systemjs_options\":null,\"mount_callbacks\":[\"function () {\\n    var handler = (function (ko, koPunches) {\\n    ko.punches.enableAll();\\n    ko.bindingHandlers.numericValue = {\\n        init: function(element, valueAccessor, allBindings, data, context) {\\n            var stringified = ko.observable(ko.unwrap(valueAccessor()));\\n            stringified.subscribe(function(value) {\\n                var val = parseFloat(value);\\n                if (!isNaN(val)) {\\n                    valueAccessor()(val);\\n                }\\n            });\\n            valueAccessor().subscribe(function(value) {\\n                var str = JSON.stringify(value);\\n                if ((str == \\\"0\\\") && ([\\\"-0\\\", \\\"-0.\\\"].indexOf(stringified()) >= 0))\\n                     return;\\n                 if ([\\\"null\\\", \\\"\\\"].indexOf(str) >= 0)\\n                     return;\\n                stringified(str);\\n            });\\n            ko.applyBindingsToNode(\\n                element,\\n                {\\n                    value: stringified,\\n                    valueUpdate: allBindings.get('valueUpdate'),\\n                },\\n                context,\\n            );\\n        }\\n    };\\n    var json_data = {\\\"formatted_vals\\\":[\\\"0.01\\\",\\\"0.02\\\",\\\"0.03\\\",\\\"0.04\\\",\\\"0.05\\\",\\\"0.06\\\",\\\"0.07\\\",\\\"0.08\\\",\\\"0.09\\\",\\\"0.1\\\",\\\"0.11\\\",\\\"0.12\\\",\\\"0.13\\\",\\\"0.14\\\",\\\"0.15\\\",\\\"0.16\\\",\\\"0.17\\\",\\\"0.18\\\",\\\"0.19\\\",\\\"0.2\\\",\\\"0.21\\\",\\\"0.22\\\",\\\"0.23\\\",\\\"0.24\\\",\\\"0.25\\\",\\\"0.26\\\",\\\"0.27\\\",\\\"0.28\\\",\\\"0.29\\\",\\\"0.3\\\",\\\"0.31\\\",\\\"0.32\\\",\\\"0.33\\\",\\\"0.34\\\",\\\"0.35\\\",\\\"0.36\\\",\\\"0.37\\\",\\\"0.38\\\",\\\"0.39\\\",\\\"0.4\\\",\\\"0.41\\\",\\\"0.42\\\",\\\"0.43\\\",\\\"0.44\\\",\\\"0.45\\\",\\\"0.46\\\",\\\"0.47\\\",\\\"0.48\\\",\\\"0.49\\\",\\\"0.5\\\",\\\"0.51\\\",\\\"0.52\\\",\\\"0.53\\\",\\\"0.54\\\",\\\"0.55\\\",\\\"0.56\\\",\\\"0.57\\\",\\\"0.58\\\",\\\"0.59\\\",\\\"0.6\\\",\\\"0.61\\\",\\\"0.62\\\",\\\"0.63\\\",\\\"0.64\\\",\\\"0.65\\\",\\\"0.66\\\",\\\"0.67\\\",\\\"0.68\\\",\\\"0.69\\\",\\\"0.7\\\",\\\"0.71\\\",\\\"0.72\\\",\\\"0.73\\\",\\\"0.74\\\",\\\"0.75\\\",\\\"0.76\\\",\\\"0.77\\\",\\\"0.78\\\",\\\"0.79\\\",\\\"0.8\\\",\\\"0.81\\\",\\\"0.82\\\",\\\"0.83\\\",\\\"0.84\\\",\\\"0.85\\\",\\\"0.86\\\",\\\"0.87\\\",\\\"0.88\\\",\\\"0.89\\\",\\\"0.9\\\",\\\"0.91\\\",\\\"0.92\\\",\\\"0.93\\\",\\\"0.94\\\",\\\"0.95\\\",\\\"0.96\\\",\\\"0.97\\\",\\\"0.98\\\",\\\"0.99\\\",\\\"1.0\\\"],\\\"changes\\\":WebIO.getval({\\\"name\\\":\\\"changes\\\",\\\"scope\\\":\\\"11389994850929990858\\\",\\\"id\\\":\\\"12749272913445105922\\\",\\\"type\\\":\\\"observable\\\"}),\\\"index\\\":WebIO.getval({\\\"name\\\":\\\"index\\\",\\\"scope\\\":\\\"11389994850929990858\\\",\\\"id\\\":\\\"18278684331958496048\\\",\\\"type\\\":\\\"observable\\\"})};\\n    var self = this;\\n    function AppViewModel() {\\n        for (var key in json_data) {\\n            var el = json_data[key];\\n            this[key] = Array.isArray(el) ? ko.observableArray(el) : ko.observable(el);\\n        }\\n        \\n        [this[\\\"formatted_val\\\"]=ko.computed(    function(){\\n        return this.formatted_vals()[parseInt(this.index())-(1)];\\n    }\\n,this)]\\n        [this[\\\"changes\\\"].subscribe((function (val){!(this.valueFromJulia[\\\"changes\\\"]) ? (WebIO.setval({\\\"name\\\":\\\"changes\\\",\\\"scope\\\":\\\"11389994850929990858\\\",\\\"id\\\":\\\"12749272913445105922\\\",\\\"type\\\":\\\"observable\\\"},val)) : undefined; return this.valueFromJulia[\\\"changes\\\"]=false}),self),this[\\\"index\\\"].subscribe((function (val){!(this.valueFromJulia[\\\"index\\\"]) ? (WebIO.setval({\\\"name\\\":\\\"index\\\",\\\"scope\\\":\\\"11389994850929990858\\\",\\\"id\\\":\\\"18278684331958496048\\\",\\\"type\\\":\\\"observable\\\"},val)) : undefined; return this.valueFromJulia[\\\"index\\\"]=false}),self)]\\n        \\n    }\\n    self.model = new AppViewModel();\\n    self.valueFromJulia = {};\\n    for (var key in json_data) {\\n        self.valueFromJulia[key] = false;\\n    }\\n    ko.applyBindings(self.model, self.dom);\\n}\\n);\\n    (WebIO.importBlock({\\\"data\\\":[{\\\"name\\\":\\\"knockout\\\",\\\"type\\\":\\\"js\\\",\\\"url\\\":\\\"\\/assetserver\\/727383f2a47bd31570b7da84eee7b022dd6d7c78-knockout.js\\\"},{\\\"name\\\":\\\"knockout_punches\\\",\\\"type\\\":\\\"js\\\",\\\"url\\\":\\\"\\/assetserver\\/382b41b3b1bd9f26f75861d360bad7f8beea211f-knockout_punches.js\\\"}],\\\"type\\\":\\\"async_block\\\"})).then((imports) => handler.apply(this, imports));\\n}\\n\"],\"observables\":{\"changes\":{\"sync\":false,\"id\":\"12749272913445105922\",\"value\":0},\"index\":{\"sync\":true,\"id\":\"18278684331958496048\",\"value\":50}}},\"children\":[{\"props\":{\"className\":\"interact-flex-row interact-widget\"},\"nodeType\":\"DOM\",\"type\":\"node\",\"instanceArgs\":{\"namespace\":\"html\",\"tag\":\"div\"},\"children\":[{\"props\":{\"className\":\"interact-flex-row-left\"},\"nodeType\":\"DOM\",\"type\":\"node\",\"instanceArgs\":{\"namespace\":\"html\",\"tag\":\"div\"},\"children\":[{\"props\":{\"className\":\"interact \",\"style\":{\"padding\":\"5px 10px 0px 10px\"}},\"nodeType\":\"DOM\",\"type\":\"node\",\"instanceArgs\":{\"namespace\":\"html\",\"tag\":\"label\"},\"children\":[\"sheep_birth_rate\"]}]},{\"props\":{\"className\":\"interact-flex-row-center\"},\"nodeType\":\"DOM\",\"type\":\"node\",\"instanceArgs\":{\"namespace\":\"html\",\"tag\":\"div\"},\"children\":[{\"props\":{\"max\":100,\"min\":1,\"attributes\":{\"type\":\"range\",\"data-bind\":\"numericValue: index, valueUpdate: 'input', event: {change: function (){this.changes(this.changes()+1)}}\",\"orient\":\"horizontal\"},\"step\":1,\"className\":\"slider slider is-fullwidth\",\"style\":{}},\"nodeType\":\"DOM\",\"type\":\"node\",\"instanceArgs\":{\"namespace\":\"html\",\"tag\":\"input\"},\"children\":[]}]},{\"props\":{\"className\":\"interact-flex-row-right\"},\"nodeType\":\"DOM\",\"type\":\"node\",\"instanceArgs\":{\"namespace\":\"html\",\"tag\":\"div\"},\"children\":[{\"props\":{\"attributes\":{\"data-bind\":\"text: formatted_val\"}},\"nodeType\":\"DOM\",\"type\":\"node\",\"instanceArgs\":{\"namespace\":\"html\",\"tag\":\"p\"},\"children\":[]}]}]}]}]},{\"props\":{\"className\":\"field interact-widget\"},\"nodeType\":\"DOM\",\"type\":\"node\",\"instanceArgs\":{\"namespace\":\"html\",\"tag\":\"div\"},\"children\":[{\"props\":{},\"nodeType\":\"Scope\",\"type\":\"node\",\"instanceArgs\":{\"imports\":{\"data\":[{\"name\":\"knockout\",\"type\":\"js\",\"url\":\"\\/assetserver\\/727383f2a47bd31570b7da84eee7b022dd6d7c78-knockout.js\"},{\"name\":\"knockout_punches\",\"type\":\"js\",\"url\":\"\\/assetserver\\/382b41b3b1bd9f26f75861d360bad7f8beea211f-knockout_punches.js\"},{\"name\":null,\"type\":\"js\",\"url\":\"\\/assetserver\\/5ab20f1060420992a9b82a65b735dee4d81ef413-all.js\"},{\"name\":null,\"type\":\"css\",\"url\":\"\\/assetserver\\/1cc0ed62837210b80a182cc3676512f895dab686-style.css\"},{\"name\":null,\"type\":\"css\",\"url\":\"\\/assetserver\\/2eee816f616df3549d7044d45e744fbf8d42bfa1-bulma_confined.min.css\"}],\"type\":\"async_block\"},\"id\":\"270164881063481206\",\"handlers\":{\"changes\":[\"(function (val){return (val!=this.model[\\\"changes\\\"]()) ? (this.valueFromJulia[\\\"changes\\\"]=true, this.model[\\\"changes\\\"](val)) : undefined})\"],\"index\":[\"(function (val){return (val!=this.model[\\\"index\\\"]()) ? (this.valueFromJulia[\\\"index\\\"]=true, this.model[\\\"index\\\"](val)) : undefined})\"]},\"systemjs_options\":null,\"mount_callbacks\":[\"function () {\\n    var handler = (function (ko, koPunches) {\\n    ko.punches.enableAll();\\n    ko.bindingHandlers.numericValue = {\\n        init: function(element, valueAccessor, allBindings, data, context) {\\n            var stringified = ko.observable(ko.unwrap(valueAccessor()));\\n            stringified.subscribe(function(value) {\\n                var val = parseFloat(value);\\n                if (!isNaN(val)) {\\n                    valueAccessor()(val);\\n                }\\n            });\\n            valueAccessor().subscribe(function(value) {\\n                var str = JSON.stringify(value);\\n                if ((str == \\\"0\\\") && ([\\\"-0\\\", \\\"-0.\\\"].indexOf(stringified()) >= 0))\\n                     return;\\n                 if ([\\\"null\\\", \\\"\\\"].indexOf(str) >= 0)\\n                     return;\\n                stringified(str);\\n            });\\n            ko.applyBindingsToNode(\\n                element,\\n                {\\n                    value: stringified,\\n                    valueUpdate: allBindings.get('valueUpdate'),\\n                },\\n                context,\\n            );\\n        }\\n    };\\n    var json_data = {\\\"formatted_vals\\\":[\\\"0.01\\\",\\\"0.02\\\",\\\"0.03\\\",\\\"0.04\\\",\\\"0.05\\\",\\\"0.06\\\",\\\"0.07\\\",\\\"0.08\\\",\\\"0.09\\\",\\\"0.1\\\",\\\"0.11\\\",\\\"0.12\\\",\\\"0.13\\\",\\\"0.14\\\",\\\"0.15\\\",\\\"0.16\\\",\\\"0.17\\\",\\\"0.18\\\",\\\"0.19\\\",\\\"0.2\\\",\\\"0.21\\\",\\\"0.22\\\",\\\"0.23\\\",\\\"0.24\\\",\\\"0.25\\\",\\\"0.26\\\",\\\"0.27\\\",\\\"0.28\\\",\\\"0.29\\\",\\\"0.3\\\",\\\"0.31\\\",\\\"0.32\\\",\\\"0.33\\\",\\\"0.34\\\",\\\"0.35\\\",\\\"0.36\\\",\\\"0.37\\\",\\\"0.38\\\",\\\"0.39\\\",\\\"0.4\\\",\\\"0.41\\\",\\\"0.42\\\",\\\"0.43\\\",\\\"0.44\\\",\\\"0.45\\\",\\\"0.46\\\",\\\"0.47\\\",\\\"0.48\\\",\\\"0.49\\\",\\\"0.5\\\",\\\"0.51\\\",\\\"0.52\\\",\\\"0.53\\\",\\\"0.54\\\",\\\"0.55\\\",\\\"0.56\\\",\\\"0.57\\\",\\\"0.58\\\",\\\"0.59\\\",\\\"0.6\\\",\\\"0.61\\\",\\\"0.62\\\",\\\"0.63\\\",\\\"0.64\\\",\\\"0.65\\\",\\\"0.66\\\",\\\"0.67\\\",\\\"0.68\\\",\\\"0.69\\\",\\\"0.7\\\",\\\"0.71\\\",\\\"0.72\\\",\\\"0.73\\\",\\\"0.74\\\",\\\"0.75\\\",\\\"0.76\\\",\\\"0.77\\\",\\\"0.78\\\",\\\"0.79\\\",\\\"0.8\\\",\\\"0.81\\\",\\\"0.82\\\",\\\"0.83\\\",\\\"0.84\\\",\\\"0.85\\\",\\\"0.86\\\",\\\"0.87\\\",\\\"0.88\\\",\\\"0.89\\\",\\\"0.9\\\"],\\\"changes\\\":WebIO.getval({\\\"name\\\":\\\"changes\\\",\\\"scope\\\":\\\"270164881063481206\\\",\\\"id\\\":\\\"9472066984359219271\\\",\\\"type\\\":\\\"observable\\\"}),\\\"index\\\":WebIO.getval({\\\"name\\\":\\\"index\\\",\\\"scope\\\":\\\"270164881063481206\\\",\\\"id\\\":\\\"7232231715861994109\\\",\\\"type\\\":\\\"observable\\\"})};\\n    var self = this;\\n    function AppViewModel() {\\n        for (var key in json_data) {\\n            var el = json_data[key];\\n            this[key] = Array.isArray(el) ? ko.observableArray(el) : ko.observable(el);\\n        }\\n        \\n        [this[\\\"formatted_val\\\"]=ko.computed(    function(){\\n        return this.formatted_vals()[parseInt(this.index())-(1)];\\n    }\\n,this)]\\n        [this[\\\"changes\\\"].subscribe((function (val){!(this.valueFromJulia[\\\"changes\\\"]) ? (WebIO.setval({\\\"name\\\":\\\"changes\\\",\\\"scope\\\":\\\"270164881063481206\\\",\\\"id\\\":\\\"9472066984359219271\\\",\\\"type\\\":\\\"observable\\\"},val)) : undefined; return this.valueFromJulia[\\\"changes\\\"]=false}),self),this[\\\"index\\\"].subscribe((function (val){!(this.valueFromJulia[\\\"index\\\"]) ? (WebIO.setval({\\\"name\\\":\\\"index\\\",\\\"scope\\\":\\\"270164881063481206\\\",\\\"id\\\":\\\"7232231715861994109\\\",\\\"type\\\":\\\"observable\\\"},val)) : undefined; return this.valueFromJulia[\\\"index\\\"]=false}),self)]\\n        \\n    }\\n    self.model = new AppViewModel();\\n    self.valueFromJulia = {};\\n    for (var key in json_data) {\\n        self.valueFromJulia[key] = false;\\n    }\\n    ko.applyBindings(self.model, self.dom);\\n}\\n);\\n    (WebIO.importBlock({\\\"data\\\":[{\\\"name\\\":\\\"knockout\\\",\\\"type\\\":\\\"js\\\",\\\"url\\\":\\\"\\/assetserver\\/727383f2a47bd31570b7da84eee7b022dd6d7c78-knockout.js\\\"},{\\\"name\\\":\\\"knockout_punches\\\",\\\"type\\\":\\\"js\\\",\\\"url\\\":\\\"\\/assetserver\\/382b41b3b1bd9f26f75861d360bad7f8beea211f-knockout_punches.js\\\"}],\\\"type\\\":\\\"async_block\\\"})).then((imports) => handler.apply(this, imports));\\n}\\n\"],\"observables\":{\"changes\":{\"sync\":false,\"id\":\"9472066984359219271\",\"value\":0},\"index\":{\"sync\":true,\"id\":\"7232231715861994109\",\"value\":45}}},\"children\":[{\"props\":{\"className\":\"interact-flex-row interact-widget\"},\"nodeType\":\"DOM\",\"type\":\"node\",\"instanceArgs\":{\"namespace\":\"html\",\"tag\":\"div\"},\"children\":[{\"props\":{\"className\":\"interact-flex-row-left\"},\"nodeType\":\"DOM\",\"type\":\"node\",\"instanceArgs\":{\"namespace\":\"html\",\"tag\":\"div\"},\"children\":[{\"props\":{\"className\":\"interact \",\"style\":{\"padding\":\"5px 10px 0px 10px\"}},\"nodeType\":\"DOM\",\"type\":\"node\",\"instanceArgs\":{\"namespace\":\"html\",\"tag\":\"label\"},\"children\":[\"initial_wolf_percent\"]}]},{\"props\":{\"className\":\"interact-flex-row-center\"},\"nodeType\":\"DOM\",\"type\":\"node\",\"instanceArgs\":{\"namespace\":\"html\",\"tag\":\"div\"},\"children\":[{\"props\":{\"max\":90,\"min\":1,\"attributes\":{\"type\":\"range\",\"data-bind\":\"numericValue: index, valueUpdate: 'input', event: {change: function (){this.changes(this.changes()+1)}}\",\"orient\":\"horizontal\"},\"step\":1,\"className\":\"slider slider is-fullwidth\",\"style\":{}},\"nodeType\":\"DOM\",\"type\":\"node\",\"instanceArgs\":{\"namespace\":\"html\",\"tag\":\"input\"},\"children\":[]}]},{\"props\":{\"className\":\"interact-flex-row-right\"},\"nodeType\":\"DOM\",\"type\":\"node\",\"instanceArgs\":{\"namespace\":\"html\",\"tag\":\"div\"},\"children\":[{\"props\":{\"attributes\":{\"data-bind\":\"text: formatted_val\"}},\"nodeType\":\"DOM\",\"type\":\"node\",\"instanceArgs\":{\"namespace\":\"html\",\"tag\":\"p\"},\"children\":[]}]}]}]}]},{\"props\":{\"className\":\"field interact-widget\"},\"nodeType\":\"DOM\",\"type\":\"node\",\"instanceArgs\":{\"namespace\":\"html\",\"tag\":\"div\"},\"children\":[{\"props\":{},\"nodeType\":\"Scope\",\"type\":\"node\",\"instanceArgs\":{\"imports\":{\"data\":[{\"name\":\"knockout\",\"type\":\"js\",\"url\":\"\\/assetserver\\/727383f2a47bd31570b7da84eee7b022dd6d7c78-knockout.js\"},{\"name\":\"knockout_punches\",\"type\":\"js\",\"url\":\"\\/assetserver\\/382b41b3b1bd9f26f75861d360bad7f8beea211f-knockout_punches.js\"},{\"name\":null,\"type\":\"js\",\"url\":\"\\/assetserver\\/5ab20f1060420992a9b82a65b735dee4d81ef413-all.js\"},{\"name\":null,\"type\":\"css\",\"url\":\"\\/assetserver\\/1cc0ed62837210b80a182cc3676512f895dab686-style.css\"},{\"name\":null,\"type\":\"css\",\"url\":\"\\/assetserver\\/2eee816f616df3549d7044d45e744fbf8d42bfa1-bulma_confined.min.css\"}],\"type\":\"async_block\"},\"id\":\"17019113991100914402\",\"handlers\":{\"changes\":[\"(function (val){return (val!=this.model[\\\"changes\\\"]()) ? (this.valueFromJulia[\\\"changes\\\"]=true, this.model[\\\"changes\\\"](val)) : undefined})\"],\"index\":[\"(function (val){return (val!=this.model[\\\"index\\\"]()) ? (this.valueFromJulia[\\\"index\\\"]=true, this.model[\\\"index\\\"](val)) : undefined})\"]},\"systemjs_options\":null,\"mount_callbacks\":[\"function () {\\n    var handler = (function (ko, koPunches) {\\n    ko.punches.enableAll();\\n    ko.bindingHandlers.numericValue = {\\n        init: function(element, valueAccessor, allBindings, data, context) {\\n            var stringified = ko.observable(ko.unwrap(valueAccessor()));\\n            stringified.subscribe(function(value) {\\n                var val = parseFloat(value);\\n                if (!isNaN(val)) {\\n                    valueAccessor()(val);\\n                }\\n            });\\n            valueAccessor().subscribe(function(value) {\\n                var str = JSON.stringify(value);\\n                if ((str == \\\"0\\\") && ([\\\"-0\\\", \\\"-0.\\\"].indexOf(stringified()) >= 0))\\n                     return;\\n                 if ([\\\"null\\\", \\\"\\\"].indexOf(str) >= 0)\\n                     return;\\n                stringified(str);\\n            });\\n            ko.applyBindingsToNode(\\n                element,\\n                {\\n                    value: stringified,\\n                    valueUpdate: allBindings.get('valueUpdate'),\\n                },\\n                context,\\n            );\\n        }\\n    };\\n    var json_data = {\\\"formatted_vals\\\":[\\\"0.01\\\",\\\"0.02\\\",\\\"0.03\\\",\\\"0.04\\\",\\\"0.05\\\",\\\"0.06\\\",\\\"0.07\\\",\\\"0.08\\\",\\\"0.09\\\",\\\"0.1\\\",\\\"0.11\\\",\\\"0.12\\\",\\\"0.13\\\",\\\"0.14\\\",\\\"0.15\\\",\\\"0.16\\\",\\\"0.17\\\",\\\"0.18\\\",\\\"0.19\\\",\\\"0.2\\\",\\\"0.21\\\",\\\"0.22\\\",\\\"0.23\\\",\\\"0.24\\\",\\\"0.25\\\",\\\"0.26\\\",\\\"0.27\\\",\\\"0.28\\\",\\\"0.29\\\",\\\"0.3\\\",\\\"0.31\\\",\\\"0.32\\\",\\\"0.33\\\",\\\"0.34\\\",\\\"0.35\\\",\\\"0.36\\\",\\\"0.37\\\",\\\"0.38\\\",\\\"0.39\\\",\\\"0.4\\\",\\\"0.41\\\",\\\"0.42\\\",\\\"0.43\\\",\\\"0.44\\\",\\\"0.45\\\",\\\"0.46\\\",\\\"0.47\\\",\\\"0.48\\\",\\\"0.49\\\",\\\"0.5\\\",\\\"0.51\\\",\\\"0.52\\\",\\\"0.53\\\",\\\"0.54\\\",\\\"0.55\\\",\\\"0.56\\\",\\\"0.57\\\",\\\"0.58\\\",\\\"0.59\\\",\\\"0.6\\\",\\\"0.61\\\",\\\"0.62\\\",\\\"0.63\\\",\\\"0.64\\\",\\\"0.65\\\",\\\"0.66\\\",\\\"0.67\\\",\\\"0.68\\\",\\\"0.69\\\",\\\"0.7\\\",\\\"0.71\\\",\\\"0.72\\\",\\\"0.73\\\",\\\"0.74\\\",\\\"0.75\\\",\\\"0.76\\\",\\\"0.77\\\",\\\"0.78\\\",\\\"0.79\\\",\\\"0.8\\\",\\\"0.81\\\",\\\"0.82\\\",\\\"0.83\\\",\\\"0.84\\\",\\\"0.85\\\",\\\"0.86\\\",\\\"0.87\\\",\\\"0.88\\\",\\\"0.89\\\",\\\"0.9\\\",\\\"0.91\\\",\\\"0.92\\\",\\\"0.93\\\",\\\"0.94\\\",\\\"0.95\\\",\\\"0.96\\\",\\\"0.97\\\",\\\"0.98\\\",\\\"0.99\\\",\\\"1.0\\\"],\\\"changes\\\":WebIO.getval({\\\"name\\\":\\\"changes\\\",\\\"scope\\\":\\\"17019113991100914402\\\",\\\"id\\\":\\\"15535319243614497782\\\",\\\"type\\\":\\\"observable\\\"}),\\\"index\\\":WebIO.getval({\\\"name\\\":\\\"index\\\",\\\"scope\\\":\\\"17019113991100914402\\\",\\\"id\\\":\\\"11360221027600486449\\\",\\\"type\\\":\\\"observable\\\"})};\\n    var self = this;\\n    function AppViewModel() {\\n        for (var key in json_data) {\\n            var el = json_data[key];\\n            this[key] = Array.isArray(el) ? ko.observableArray(el) : ko.observable(el);\\n        }\\n        \\n        [this[\\\"formatted_val\\\"]=ko.computed(    function(){\\n        return this.formatted_vals()[parseInt(this.index())-(1)];\\n    }\\n,this)]\\n        [this[\\\"changes\\\"].subscribe((function (val){!(this.valueFromJulia[\\\"changes\\\"]) ? (WebIO.setval({\\\"name\\\":\\\"changes\\\",\\\"scope\\\":\\\"17019113991100914402\\\",\\\"id\\\":\\\"15535319243614497782\\\",\\\"type\\\":\\\"observable\\\"},val)) : undefined; return this.valueFromJulia[\\\"changes\\\"]=false}),self),this[\\\"index\\\"].subscribe((function (val){!(this.valueFromJulia[\\\"index\\\"]) ? (WebIO.setval({\\\"name\\\":\\\"index\\\",\\\"scope\\\":\\\"17019113991100914402\\\",\\\"id\\\":\\\"11360221027600486449\\\",\\\"type\\\":\\\"observable\\\"},val)) : undefined; return this.valueFromJulia[\\\"index\\\"]=false}),self)]\\n        \\n    }\\n    self.model = new AppViewModel();\\n    self.valueFromJulia = {};\\n    for (var key in json_data) {\\n        self.valueFromJulia[key] = false;\\n    }\\n    ko.applyBindings(self.model, self.dom);\\n}\\n);\\n    (WebIO.importBlock({\\\"data\\\":[{\\\"name\\\":\\\"knockout\\\",\\\"type\\\":\\\"js\\\",\\\"url\\\":\\\"\\/assetserver\\/727383f2a47bd31570b7da84eee7b022dd6d7c78-knockout.js\\\"},{\\\"name\\\":\\\"knockout_punches\\\",\\\"type\\\":\\\"js\\\",\\\"url\\\":\\\"\\/assetserver\\/382b41b3b1bd9f26f75861d360bad7f8beea211f-knockout_punches.js\\\"}],\\\"type\\\":\\\"async_block\\\"})).then((imports) => handler.apply(this, imports));\\n}\\n\"],\"observables\":{\"changes\":{\"sync\":false,\"id\":\"15535319243614497782\",\"value\":0},\"index\":{\"sync\":true,\"id\":\"11360221027600486449\",\"value\":50}}},\"children\":[{\"props\":{\"className\":\"interact-flex-row interact-widget\"},\"nodeType\":\"DOM\",\"type\":\"node\",\"instanceArgs\":{\"namespace\":\"html\",\"tag\":\"div\"},\"children\":[{\"props\":{\"className\":\"interact-flex-row-left\"},\"nodeType\":\"DOM\",\"type\":\"node\",\"instanceArgs\":{\"namespace\":\"html\",\"tag\":\"div\"},\"children\":[{\"props\":{\"className\":\"interact \",\"style\":{\"padding\":\"5px 10px 0px 10px\"}},\"nodeType\":\"DOM\",\"type\":\"node\",\"instanceArgs\":{\"namespace\":\"html\",\"tag\":\"label\"},\"children\":[\"wolves_kill_ability\"]}]},{\"props\":{\"className\":\"interact-flex-row-center\"},\"nodeType\":\"DOM\",\"type\":\"node\",\"instanceArgs\":{\"namespace\":\"html\",\"tag\":\"div\"},\"children\":[{\"props\":{\"max\":100,\"min\":1,\"attributes\":{\"type\":\"range\",\"data-bind\":\"numericValue: index, valueUpdate: 'input', event: {change: function (){this.changes(this.changes()+1)}}\",\"orient\":\"horizontal\"},\"step\":1,\"className\":\"slider slider is-fullwidth\",\"style\":{}},\"nodeType\":\"DOM\",\"type\":\"node\",\"instanceArgs\":{\"namespace\":\"html\",\"tag\":\"input\"},\"children\":[]}]},{\"props\":{\"className\":\"interact-flex-row-right\"},\"nodeType\":\"DOM\",\"type\":\"node\",\"instanceArgs\":{\"namespace\":\"html\",\"tag\":\"div\"},\"children\":[{\"props\":{\"attributes\":{\"data-bind\":\"text: formatted_val\"}},\"nodeType\":\"DOM\",\"type\":\"node\",\"instanceArgs\":{\"namespace\":\"html\",\"tag\":\"p\"},\"children\":[]}]}]}]}]},{\"props\":{\"className\":\"field interact-widget\"},\"nodeType\":\"DOM\",\"type\":\"node\",\"instanceArgs\":{\"namespace\":\"html\",\"tag\":\"div\"},\"children\":[{\"props\":{},\"nodeType\":\"Scope\",\"type\":\"node\",\"instanceArgs\":{\"imports\":{\"data\":[{\"name\":\"knockout\",\"type\":\"js\",\"url\":\"\\/assetserver\\/727383f2a47bd31570b7da84eee7b022dd6d7c78-knockout.js\"},{\"name\":\"knockout_punches\",\"type\":\"js\",\"url\":\"\\/assetserver\\/382b41b3b1bd9f26f75861d360bad7f8beea211f-knockout_punches.js\"},{\"name\":null,\"type\":\"js\",\"url\":\"\\/assetserver\\/5ab20f1060420992a9b82a65b735dee4d81ef413-all.js\"},{\"name\":null,\"type\":\"css\",\"url\":\"\\/assetserver\\/1cc0ed62837210b80a182cc3676512f895dab686-style.css\"},{\"name\":null,\"type\":\"css\",\"url\":\"\\/assetserver\\/2eee816f616df3549d7044d45e744fbf8d42bfa1-bulma_confined.min.css\"}],\"type\":\"async_block\"},\"id\":\"4259068469343320209\",\"handlers\":{\"changes\":[\"(function (val){return (val!=this.model[\\\"changes\\\"]()) ? (this.valueFromJulia[\\\"changes\\\"]=true, this.model[\\\"changes\\\"](val)) : undefined})\"],\"index\":[\"(function (val){return (val!=this.model[\\\"index\\\"]()) ? (this.valueFromJulia[\\\"index\\\"]=true, this.model[\\\"index\\\"](val)) : undefined})\"]},\"systemjs_options\":null,\"mount_callbacks\":[\"function () {\\n    var handler = (function (ko, koPunches) {\\n    ko.punches.enableAll();\\n    ko.bindingHandlers.numericValue = {\\n        init: function(element, valueAccessor, allBindings, data, context) {\\n            var stringified = ko.observable(ko.unwrap(valueAccessor()));\\n            stringified.subscribe(function(value) {\\n                var val = parseFloat(value);\\n                if (!isNaN(val)) {\\n                    valueAccessor()(val);\\n                }\\n            });\\n            valueAccessor().subscribe(function(value) {\\n                var str = JSON.stringify(value);\\n                if ((str == \\\"0\\\") && ([\\\"-0\\\", \\\"-0.\\\"].indexOf(stringified()) >= 0))\\n                     return;\\n                 if ([\\\"null\\\", \\\"\\\"].indexOf(str) >= 0)\\n                     return;\\n                stringified(str);\\n            });\\n            ko.applyBindingsToNode(\\n                element,\\n                {\\n                    value: stringified,\\n                    valueUpdate: allBindings.get('valueUpdate'),\\n                },\\n                context,\\n            );\\n        }\\n    };\\n    var json_data = {\\\"formatted_vals\\\":[\\\"0.01\\\",\\\"0.02\\\",\\\"0.03\\\",\\\"0.04\\\",\\\"0.05\\\",\\\"0.06\\\",\\\"0.07\\\",\\\"0.08\\\",\\\"0.09\\\",\\\"0.1\\\",\\\"0.11\\\",\\\"0.12\\\",\\\"0.13\\\",\\\"0.14\\\",\\\"0.15\\\",\\\"0.16\\\",\\\"0.17\\\",\\\"0.18\\\",\\\"0.19\\\",\\\"0.2\\\",\\\"0.21\\\",\\\"0.22\\\",\\\"0.23\\\",\\\"0.24\\\",\\\"0.25\\\",\\\"0.26\\\",\\\"0.27\\\",\\\"0.28\\\",\\\"0.29\\\",\\\"0.3\\\",\\\"0.31\\\",\\\"0.32\\\",\\\"0.33\\\",\\\"0.34\\\",\\\"0.35\\\",\\\"0.36\\\",\\\"0.37\\\",\\\"0.38\\\",\\\"0.39\\\",\\\"0.4\\\",\\\"0.41\\\",\\\"0.42\\\",\\\"0.43\\\",\\\"0.44\\\",\\\"0.45\\\",\\\"0.46\\\",\\\"0.47\\\",\\\"0.48\\\",\\\"0.49\\\",\\\"0.5\\\"],\\\"changes\\\":WebIO.getval({\\\"name\\\":\\\"changes\\\",\\\"scope\\\":\\\"4259068469343320209\\\",\\\"id\\\":\\\"155771448808496497\\\",\\\"type\\\":\\\"observable\\\"}),\\\"index\\\":WebIO.getval({\\\"name\\\":\\\"index\\\",\\\"scope\\\":\\\"4259068469343320209\\\",\\\"id\\\":\\\"12701695009466413190\\\",\\\"type\\\":\\\"observable\\\"})};\\n    var self = this;\\n    function AppViewModel() {\\n        for (var key in json_data) {\\n            var el = json_data[key];\\n            this[key] = Array.isArray(el) ? ko.observableArray(el) : ko.observable(el);\\n        }\\n        \\n        [this[\\\"formatted_val\\\"]=ko.computed(    function(){\\n        return this.formatted_vals()[parseInt(this.index())-(1)];\\n    }\\n,this)]\\n        [this[\\\"changes\\\"].subscribe((function (val){!(this.valueFromJulia[\\\"changes\\\"]) ? (WebIO.setval({\\\"name\\\":\\\"changes\\\",\\\"scope\\\":\\\"4259068469343320209\\\",\\\"id\\\":\\\"155771448808496497\\\",\\\"type\\\":\\\"observable\\\"},val)) : undefined; return this.valueFromJulia[\\\"changes\\\"]=false}),self),this[\\\"index\\\"].subscribe((function (val){!(this.valueFromJulia[\\\"index\\\"]) ? (WebIO.setval({\\\"name\\\":\\\"index\\\",\\\"scope\\\":\\\"4259068469343320209\\\",\\\"id\\\":\\\"12701695009466413190\\\",\\\"type\\\":\\\"observable\\\"},val)) : undefined; return this.valueFromJulia[\\\"index\\\"]=false}),self)]\\n        \\n    }\\n    self.model = new AppViewModel();\\n    self.valueFromJulia = {};\\n    for (var key in json_data) {\\n        self.valueFromJulia[key] = false;\\n    }\\n    ko.applyBindings(self.model, self.dom);\\n}\\n);\\n    (WebIO.importBlock({\\\"data\\\":[{\\\"name\\\":\\\"knockout\\\",\\\"type\\\":\\\"js\\\",\\\"url\\\":\\\"\\/assetserver\\/727383f2a47bd31570b7da84eee7b022dd6d7c78-knockout.js\\\"},{\\\"name\\\":\\\"knockout_punches\\\",\\\"type\\\":\\\"js\\\",\\\"url\\\":\\\"\\/assetserver\\/382b41b3b1bd9f26f75861d360bad7f8beea211f-knockout_punches.js\\\"}],\\\"type\\\":\\\"async_block\\\"})).then((imports) => handler.apply(this, imports));\\n}\\n\"],\"observables\":{\"changes\":{\"sync\":false,\"id\":\"155771448808496497\",\"value\":0},\"index\":{\"sync\":true,\"id\":\"12701695009466413190\",\"value\":25}}},\"children\":[{\"props\":{\"className\":\"interact-flex-row interact-widget\"},\"nodeType\":\"DOM\",\"type\":\"node\",\"instanceArgs\":{\"namespace\":\"html\",\"tag\":\"div\"},\"children\":[{\"props\":{\"className\":\"interact-flex-row-left\"},\"nodeType\":\"DOM\",\"type\":\"node\",\"instanceArgs\":{\"namespace\":\"html\",\"tag\":\"div\"},\"children\":[{\"props\":{\"className\":\"interact \",\"style\":{\"padding\":\"5px 10px 0px 10px\"}},\"nodeType\":\"DOM\",\"type\":\"node\",\"instanceArgs\":{\"namespace\":\"html\",\"tag\":\"label\"},\"children\":[\"grass_grow_prob\"]}]},{\"props\":{\"className\":\"interact-flex-row-center\"},\"nodeType\":\"DOM\",\"type\":\"node\",\"instanceArgs\":{\"namespace\":\"html\",\"tag\":\"div\"},\"children\":[{\"props\":{\"max\":50,\"min\":1,\"attributes\":{\"type\":\"range\",\"data-bind\":\"numericValue: index, valueUpdate: 'input', event: {change: function (){this.changes(this.changes()+1)}}\",\"orient\":\"horizontal\"},\"step\":1,\"className\":\"slider slider is-fullwidth\",\"style\":{}},\"nodeType\":\"DOM\",\"type\":\"node\",\"instanceArgs\":{\"namespace\":\"html\",\"tag\":\"input\"},\"children\":[]}]},{\"props\":{\"className\":\"interact-flex-row-right\"},\"nodeType\":\"DOM\",\"type\":\"node\",\"instanceArgs\":{\"namespace\":\"html\",\"tag\":\"div\"},\"children\":[{\"props\":{\"attributes\":{\"data-bind\":\"text: formatted_val\"}},\"nodeType\":\"DOM\",\"type\":\"node\",\"instanceArgs\":{\"namespace\":\"html\",\"tag\":\"p\"},\"children\":[]}]}]}]}]}]},{\"props\":{\"style\":{\"display\":\"flex\",\"flex-direction\":\"row\"}},\"nodeType\":\"DOM\",\"type\":\"node\",\"instanceArgs\":{\"namespace\":\"html\",\"tag\":\"div\"},\"children\":[{\"props\":{\"className\":\"interact-widget\"},\"nodeType\":\"DOM\",\"type\":\"node\",\"instanceArgs\":{\"namespace\":\"html\",\"tag\":\"div\"},\"children\":[{\"props\":{},\"nodeType\":\"Scope\",\"type\":\"node\",\"instanceArgs\":{\"imports\":{\"data\":[{\"name\":null,\"type\":\"js\",\"url\":\"\\/assetserver\\/dd22ed1bf1896c2748f3fe616ce0b838adc895c1-katex.min.js\"},{\"name\":null,\"type\":\"css\",\"url\":\"\\/assetserver\\/46517a424aa5e6cffc1360d7e0848b601c584ee3-katex.min.css\"}],\"type\":\"async_block\"},\"id\":\"9969385716472986788\",\"handlers\":{\"value\":[\"(function (txt){return this.k.render(txt,this.container)})\"]},\"systemjs_options\":null,\"mount_callbacks\":[\"function () {\\n    var handler = ((function (k){this.k=k; this.container=this.dom.querySelector(\\\"#container\\\"); return k.render(\\\"\\\\\\\\;\\\\\\\\;\\\",this.container)}));\\n    (WebIO.importBlock({\\\"data\\\":[{\\\"name\\\":null,\\\"type\\\":\\\"js\\\",\\\"url\\\":\\\"\\/assetserver\\/dd22ed1bf1896c2748f3fe616ce0b838adc895c1-katex.min.js\\\"},{\\\"name\\\":null,\\\"type\\\":\\\"css\\\",\\\"url\\\":\\\"\\/assetserver\\/46517a424aa5e6cffc1360d7e0848b601c584ee3-katex.min.css\\\"}],\\\"type\\\":\\\"async_block\\\"})).then((imports) => handler.apply(this, imports));\\n}\\n\"],\"observables\":{\"value\":{\"sync\":false,\"id\":\"18253478631231836197\",\"value\":\"\\\\;\\\\;\"}}},\"children\":[{\"props\":{\"id\":\"container\"},\"nodeType\":\"DOM\",\"type\":\"node\",\"instanceArgs\":{\"namespace\":\"html\",\"tag\":\"div\"},\"children\":[]}]}]},{\"props\":{\"className\":\"field interact-widget\"},\"nodeType\":\"DOM\",\"type\":\"node\",\"instanceArgs\":{\"namespace\":\"html\",\"tag\":\"div\"},\"children\":[{\"props\":{},\"nodeType\":\"Scope\",\"type\":\"node\",\"instanceArgs\":{\"imports\":{\"data\":[{\"name\":\"knockout\",\"type\":\"js\",\"url\":\"\\/assetserver\\/727383f2a47bd31570b7da84eee7b022dd6d7c78-knockout.js\"},{\"name\":\"knockout_punches\",\"type\":\"js\",\"url\":\"\\/assetserver\\/382b41b3b1bd9f26f75861d360bad7f8beea211f-knockout_punches.js\"},{\"name\":null,\"type\":\"js\",\"url\":\"\\/assetserver\\/5ab20f1060420992a9b82a65b735dee4d81ef413-all.js\"},{\"name\":null,\"type\":\"css\",\"url\":\"\\/assetserver\\/1cc0ed62837210b80a182cc3676512f895dab686-style.css\"},{\"name\":null,\"type\":\"css\",\"url\":\"\\/assetserver\\/2eee816f616df3549d7044d45e744fbf8d42bfa1-bulma_confined.min.css\"}],\"type\":\"async_block\"},\"id\":\"8513466251423213740\",\"handlers\":{\"loading\":[\"(function (val){return (val!=this.model[\\\"loading\\\"]()) ? (this.valueFromJulia[\\\"loading\\\"]=true, this.model[\\\"loading\\\"](val)) : undefined})\"],\"clicks\":[\"(function (val){return (val!=this.model[\\\"clicks\\\"]()) ? (this.valueFromJulia[\\\"clicks\\\"]=true, this.model[\\\"clicks\\\"](val)) : undefined})\"]},\"systemjs_options\":null,\"mount_callbacks\":[\"function () {\\n    var handler = (function (ko, koPunches) {\\n    ko.punches.enableAll();\\n    ko.bindingHandlers.numericValue = {\\n        init: function(element, valueAccessor, allBindings, data, context) {\\n            var stringified = ko.observable(ko.unwrap(valueAccessor()));\\n            stringified.subscribe(function(value) {\\n                var val = parseFloat(value);\\n                if (!isNaN(val)) {\\n                    valueAccessor()(val);\\n                }\\n            });\\n            valueAccessor().subscribe(function(value) {\\n                var str = JSON.stringify(value);\\n                if ((str == \\\"0\\\") && ([\\\"-0\\\", \\\"-0.\\\"].indexOf(stringified()) >= 0))\\n                     return;\\n                 if ([\\\"null\\\", \\\"\\\"].indexOf(str) >= 0)\\n                     return;\\n                stringified(str);\\n            });\\n            ko.applyBindingsToNode(\\n                element,\\n                {\\n                    value: stringified,\\n                    valueUpdate: allBindings.get('valueUpdate'),\\n                },\\n                context,\\n            );\\n        }\\n    };\\n    var json_data = {\\\"loading\\\":WebIO.getval({\\\"name\\\":\\\"loading\\\",\\\"scope\\\":\\\"8513466251423213740\\\",\\\"id\\\":\\\"17022517439261398320\\\",\\\"type\\\":\\\"observable\\\"}),\\\"clicks\\\":WebIO.getval({\\\"name\\\":\\\"clicks\\\",\\\"scope\\\":\\\"8513466251423213740\\\",\\\"id\\\":\\\"5498359209428155834\\\",\\\"type\\\":\\\"observable\\\"})};\\n    var self = this;\\n    function AppViewModel() {\\n        for (var key in json_data) {\\n            var el = json_data[key];\\n            this[key] = Array.isArray(el) ? ko.observableArray(el) : ko.observable(el);\\n        }\\n        \\n        \\n        [this[\\\"loading\\\"].subscribe((function (val){!(this.valueFromJulia[\\\"loading\\\"]) ? (WebIO.setval({\\\"name\\\":\\\"loading\\\",\\\"scope\\\":\\\"8513466251423213740\\\",\\\"id\\\":\\\"17022517439261398320\\\",\\\"type\\\":\\\"observable\\\"},val)) : undefined; return this.valueFromJulia[\\\"loading\\\"]=false}),self),this[\\\"clicks\\\"].subscribe((function (val){!(this.valueFromJulia[\\\"clicks\\\"]) ? (WebIO.setval({\\\"name\\\":\\\"clicks\\\",\\\"scope\\\":\\\"8513466251423213740\\\",\\\"id\\\":\\\"5498359209428155834\\\",\\\"type\\\":\\\"observable\\\"},val)) : undefined; return this.valueFromJulia[\\\"clicks\\\"]=false}),self)]\\n        \\n    }\\n    self.model = new AppViewModel();\\n    self.valueFromJulia = {};\\n    for (var key in json_data) {\\n        self.valueFromJulia[key] = false;\\n    }\\n    ko.applyBindings(self.model, self.dom);\\n}\\n);\\n    (WebIO.importBlock({\\\"data\\\":[{\\\"name\\\":\\\"knockout\\\",\\\"type\\\":\\\"js\\\",\\\"url\\\":\\\"\\/assetserver\\/727383f2a47bd31570b7da84eee7b022dd6d7c78-knockout.js\\\"},{\\\"name\\\":\\\"knockout_punches\\\",\\\"type\\\":\\\"js\\\",\\\"url\\\":\\\"\\/assetserver\\/382b41b3b1bd9f26f75861d360bad7f8beea211f-knockout_punches.js\\\"}],\\\"type\\\":\\\"async_block\\\"})).then((imports) => handler.apply(this, imports));\\n}\\n\"],\"observables\":{\"loading\":{\"sync\":false,\"id\":\"17022517439261398320\",\"value\":false},\"clicks\":{\"sync\":true,\"id\":\"5498359209428155834\",\"value\":0}}},\"children\":[{\"props\":{\"attributes\":{\"data-bind\":\"click: function (){this.clicks(this.clicks()+1)}, css: {'is-loading' : loading}\"},\"className\":\"is-medium button is-primary\",\"style\":{}},\"nodeType\":\"DOM\",\"type\":\"node\",\"instanceArgs\":{\"namespace\":\"html\",\"tag\":\"button\"},\"children\":[\"run\"]}]}]},{\"props\":{\"className\":\"interact-widget\"},\"nodeType\":\"DOM\",\"type\":\"node\",\"instanceArgs\":{\"namespace\":\"html\",\"tag\":\"div\"},\"children\":[{\"props\":{},\"nodeType\":\"Scope\",\"type\":\"node\",\"instanceArgs\":{\"imports\":{\"data\":[{\"name\":null,\"type\":\"js\",\"url\":\"\\/assetserver\\/dd22ed1bf1896c2748f3fe616ce0b838adc895c1-katex.min.js\"},{\"name\":null,\"type\":\"css\",\"url\":\"\\/assetserver\\/46517a424aa5e6cffc1360d7e0848b601c584ee3-katex.min.css\"}],\"type\":\"async_block\"},\"id\":\"9969385716472986788\",\"handlers\":{\"value\":[\"(function (txt){return this.k.render(txt,this.container)})\"]},\"systemjs_options\":null,\"mount_callbacks\":[\"function () {\\n    var handler = ((function (k){this.k=k; this.container=this.dom.querySelector(\\\"#container\\\"); return k.render(\\\"\\\\\\\\;\\\\\\\\;\\\",this.container)}));\\n    (WebIO.importBlock({\\\"data\\\":[{\\\"name\\\":null,\\\"type\\\":\\\"js\\\",\\\"url\\\":\\\"\\/assetserver\\/dd22ed1bf1896c2748f3fe616ce0b838adc895c1-katex.min.js\\\"},{\\\"name\\\":null,\\\"type\\\":\\\"css\\\",\\\"url\\\":\\\"\\/assetserver\\/46517a424aa5e6cffc1360d7e0848b601c584ee3-katex.min.css\\\"}],\\\"type\\\":\\\"async_block\\\"})).then((imports) => handler.apply(this, imports));\\n}\\n\"],\"observables\":{\"value\":{\"sync\":false,\"id\":\"18253478631231836197\",\"value\":\"\\\\;\\\\;\"}}},\"children\":[{\"props\":{\"id\":\"container\"},\"nodeType\":\"DOM\",\"type\":\"node\",\"instanceArgs\":{\"namespace\":\"html\",\"tag\":\"div\"},\"children\":[]}]}]},{\"props\":{\"className\":\"field interact-widget\"},\"nodeType\":\"DOM\",\"type\":\"node\",\"instanceArgs\":{\"namespace\":\"html\",\"tag\":\"div\"},\"children\":[{\"props\":{},\"nodeType\":\"Scope\",\"type\":\"node\",\"instanceArgs\":{\"imports\":{\"data\":[{\"name\":\"knockout\",\"type\":\"js\",\"url\":\"\\/assetserver\\/727383f2a47bd31570b7da84eee7b022dd6d7c78-knockout.js\"},{\"name\":\"knockout_punches\",\"type\":\"js\",\"url\":\"\\/assetserver\\/382b41b3b1bd9f26f75861d360bad7f8beea211f-knockout_punches.js\"},{\"name\":null,\"type\":\"js\",\"url\":\"\\/assetserver\\/5ab20f1060420992a9b82a65b735dee4d81ef413-all.js\"},{\"name\":null,\"type\":\"css\",\"url\":\"\\/assetserver\\/1cc0ed62837210b80a182cc3676512f895dab686-style.css\"},{\"name\":null,\"type\":\"css\",\"url\":\"\\/assetserver\\/2eee816f616df3549d7044d45e744fbf8d42bfa1-bulma_confined.min.css\"}],\"type\":\"async_block\"},\"id\":\"8778454944751997872\",\"handlers\":{\"loading\":[\"(function (val){return (val!=this.model[\\\"loading\\\"]()) ? (this.valueFromJulia[\\\"loading\\\"]=true, this.model[\\\"loading\\\"](val)) : undefined})\"],\"clicks\":[\"(function (val){return (val!=this.model[\\\"clicks\\\"]()) ? (this.valueFromJulia[\\\"clicks\\\"]=true, this.model[\\\"clicks\\\"](val)) : undefined})\"]},\"systemjs_options\":null,\"mount_callbacks\":[\"function () {\\n    var handler = (function (ko, koPunches) {\\n    ko.punches.enableAll();\\n    ko.bindingHandlers.numericValue = {\\n        init: function(element, valueAccessor, allBindings, data, context) {\\n            var stringified = ko.observable(ko.unwrap(valueAccessor()));\\n            stringified.subscribe(function(value) {\\n                var val = parseFloat(value);\\n                if (!isNaN(val)) {\\n                    valueAccessor()(val);\\n                }\\n            });\\n            valueAccessor().subscribe(function(value) {\\n                var str = JSON.stringify(value);\\n                if ((str == \\\"0\\\") && ([\\\"-0\\\", \\\"-0.\\\"].indexOf(stringified()) >= 0))\\n                     return;\\n                 if ([\\\"null\\\", \\\"\\\"].indexOf(str) >= 0)\\n                     return;\\n                stringified(str);\\n            });\\n            ko.applyBindingsToNode(\\n                element,\\n                {\\n                    value: stringified,\\n                    valueUpdate: allBindings.get('valueUpdate'),\\n                },\\n                context,\\n            );\\n        }\\n    };\\n    var json_data = {\\\"loading\\\":WebIO.getval({\\\"name\\\":\\\"loading\\\",\\\"scope\\\":\\\"8778454944751997872\\\",\\\"id\\\":\\\"1810211927987773576\\\",\\\"type\\\":\\\"observable\\\"}),\\\"clicks\\\":WebIO.getval({\\\"name\\\":\\\"clicks\\\",\\\"scope\\\":\\\"8778454944751997872\\\",\\\"id\\\":\\\"2091932811156124653\\\",\\\"type\\\":\\\"observable\\\"})};\\n    var self = this;\\n    function AppViewModel() {\\n        for (var key in json_data) {\\n            var el = json_data[key];\\n            this[key] = Array.isArray(el) ? ko.observableArray(el) : ko.observable(el);\\n        }\\n        \\n        \\n        [this[\\\"loading\\\"].subscribe((function (val){!(this.valueFromJulia[\\\"loading\\\"]) ? (WebIO.setval({\\\"name\\\":\\\"loading\\\",\\\"scope\\\":\\\"8778454944751997872\\\",\\\"id\\\":\\\"1810211927987773576\\\",\\\"type\\\":\\\"observable\\\"},val)) : undefined; return this.valueFromJulia[\\\"loading\\\"]=false}),self),this[\\\"clicks\\\"].subscribe((function (val){!(this.valueFromJulia[\\\"clicks\\\"]) ? (WebIO.setval({\\\"name\\\":\\\"clicks\\\",\\\"scope\\\":\\\"8778454944751997872\\\",\\\"id\\\":\\\"2091932811156124653\\\",\\\"type\\\":\\\"observable\\\"},val)) : undefined; return this.valueFromJulia[\\\"clicks\\\"]=false}),self)]\\n        \\n    }\\n    self.model = new AppViewModel();\\n    self.valueFromJulia = {};\\n    for (var key in json_data) {\\n        self.valueFromJulia[key] = false;\\n    }\\n    ko.applyBindings(self.model, self.dom);\\n}\\n);\\n    (WebIO.importBlock({\\\"data\\\":[{\\\"name\\\":\\\"knockout\\\",\\\"type\\\":\\\"js\\\",\\\"url\\\":\\\"\\/assetserver\\/727383f2a47bd31570b7da84eee7b022dd6d7c78-knockout.js\\\"},{\\\"name\\\":\\\"knockout_punches\\\",\\\"type\\\":\\\"js\\\",\\\"url\\\":\\\"\\/assetserver\\/382b41b3b1bd9f26f75861d360bad7f8beea211f-knockout_punches.js\\\"}],\\\"type\\\":\\\"async_block\\\"})).then((imports) => handler.apply(this, imports));\\n}\\n\"],\"observables\":{\"loading\":{\"sync\":false,\"id\":\"1810211927987773576\",\"value\":false},\"clicks\":{\"sync\":true,\"id\":\"2091932811156124653\",\"value\":0}}},\"children\":[{\"props\":{\"attributes\":{\"data-bind\":\"click: function (){this.clicks(this.clicks()+1)}, css: {'is-loading' : loading}\"},\"className\":\"is-medium button is-primary\",\"style\":{}},\"nodeType\":\"DOM\",\"type\":\"node\",\"instanceArgs\":{\"namespace\":\"html\",\"tag\":\"button\"},\"children\":[\"stop\"]}]}]},{\"props\":{\"className\":\"interact-widget\"},\"nodeType\":\"DOM\",\"type\":\"node\",\"instanceArgs\":{\"namespace\":\"html\",\"tag\":\"div\"},\"children\":[{\"props\":{},\"nodeType\":\"Scope\",\"type\":\"node\",\"instanceArgs\":{\"imports\":{\"data\":[{\"name\":null,\"type\":\"js\",\"url\":\"\\/assetserver\\/dd22ed1bf1896c2748f3fe616ce0b838adc895c1-katex.min.js\"},{\"name\":null,\"type\":\"css\",\"url\":\"\\/assetserver\\/46517a424aa5e6cffc1360d7e0848b601c584ee3-katex.min.css\"}],\"type\":\"async_block\"},\"id\":\"9969385716472986788\",\"handlers\":{\"value\":[\"(function (txt){return this.k.render(txt,this.container)})\"]},\"systemjs_options\":null,\"mount_callbacks\":[\"function () {\\n    var handler = ((function (k){this.k=k; this.container=this.dom.querySelector(\\\"#container\\\"); return k.render(\\\"\\\\\\\\;\\\\\\\\;\\\",this.container)}));\\n    (WebIO.importBlock({\\\"data\\\":[{\\\"name\\\":null,\\\"type\\\":\\\"js\\\",\\\"url\\\":\\\"\\/assetserver\\/dd22ed1bf1896c2748f3fe616ce0b838adc895c1-katex.min.js\\\"},{\\\"name\\\":null,\\\"type\\\":\\\"css\\\",\\\"url\\\":\\\"\\/assetserver\\/46517a424aa5e6cffc1360d7e0848b601c584ee3-katex.min.css\\\"}],\\\"type\\\":\\\"async_block\\\"})).then((imports) => handler.apply(this, imports));\\n}\\n\"],\"observables\":{\"value\":{\"sync\":false,\"id\":\"18253478631231836197\",\"value\":\"\\\\;\\\\;\"}}},\"children\":[{\"props\":{\"id\":\"container\"},\"nodeType\":\"DOM\",\"type\":\"node\",\"instanceArgs\":{\"namespace\":\"html\",\"tag\":\"div\"},\"children\":[]}]}]},{\"props\":{\"className\":\"field interact-widget\"},\"nodeType\":\"DOM\",\"type\":\"node\",\"instanceArgs\":{\"namespace\":\"html\",\"tag\":\"div\"},\"children\":[{\"props\":{},\"nodeType\":\"Scope\",\"type\":\"node\",\"instanceArgs\":{\"imports\":{\"data\":[{\"name\":\"knockout\",\"type\":\"js\",\"url\":\"\\/assetserver\\/727383f2a47bd31570b7da84eee7b022dd6d7c78-knockout.js\"},{\"name\":\"knockout_punches\",\"type\":\"js\",\"url\":\"\\/assetserver\\/382b41b3b1bd9f26f75861d360bad7f8beea211f-knockout_punches.js\"},{\"name\":null,\"type\":\"js\",\"url\":\"\\/assetserver\\/5ab20f1060420992a9b82a65b735dee4d81ef413-all.js\"},{\"name\":null,\"type\":\"css\",\"url\":\"\\/assetserver\\/1cc0ed62837210b80a182cc3676512f895dab686-style.css\"},{\"name\":null,\"type\":\"css\",\"url\":\"\\/assetserver\\/2eee816f616df3549d7044d45e744fbf8d42bfa1-bulma_confined.min.css\"}],\"type\":\"async_block\"},\"id\":\"7315194220939714688\",\"handlers\":{\"loading\":[\"(function (val){return (val!=this.model[\\\"loading\\\"]()) ? (this.valueFromJulia[\\\"loading\\\"]=true, this.model[\\\"loading\\\"](val)) : undefined})\"],\"clicks\":[\"(function (val){return (val!=this.model[\\\"clicks\\\"]()) ? (this.valueFromJulia[\\\"clicks\\\"]=true, this.model[\\\"clicks\\\"](val)) : undefined})\"]},\"systemjs_options\":null,\"mount_callbacks\":[\"function () {\\n    var handler = (function (ko, koPunches) {\\n    ko.punches.enableAll();\\n    ko.bindingHandlers.numericValue = {\\n        init: function(element, valueAccessor, allBindings, data, context) {\\n            var stringified = ko.observable(ko.unwrap(valueAccessor()));\\n            stringified.subscribe(function(value) {\\n                var val = parseFloat(value);\\n                if (!isNaN(val)) {\\n                    valueAccessor()(val);\\n                }\\n            });\\n            valueAccessor().subscribe(function(value) {\\n                var str = JSON.stringify(value);\\n                if ((str == \\\"0\\\") && ([\\\"-0\\\", \\\"-0.\\\"].indexOf(stringified()) >= 0))\\n                     return;\\n                 if ([\\\"null\\\", \\\"\\\"].indexOf(str) >= 0)\\n                     return;\\n                stringified(str);\\n            });\\n            ko.applyBindingsToNode(\\n                element,\\n                {\\n                    value: stringified,\\n                    valueUpdate: allBindings.get('valueUpdate'),\\n                },\\n                context,\\n            );\\n        }\\n    };\\n    var json_data = {\\\"loading\\\":WebIO.getval({\\\"name\\\":\\\"loading\\\",\\\"scope\\\":\\\"7315194220939714688\\\",\\\"id\\\":\\\"1887000162250629148\\\",\\\"type\\\":\\\"observable\\\"}),\\\"clicks\\\":WebIO.getval({\\\"name\\\":\\\"clicks\\\",\\\"scope\\\":\\\"7315194220939714688\\\",\\\"id\\\":\\\"4768199244547486369\\\",\\\"type\\\":\\\"observable\\\"})};\\n    var self = this;\\n    function AppViewModel() {\\n        for (var key in json_data) {\\n            var el = json_data[key];\\n            this[key] = Array.isArray(el) ? ko.observableArray(el) : ko.observable(el);\\n        }\\n        \\n        \\n        [this[\\\"loading\\\"].subscribe((function (val){!(this.valueFromJulia[\\\"loading\\\"]) ? (WebIO.setval({\\\"name\\\":\\\"loading\\\",\\\"scope\\\":\\\"7315194220939714688\\\",\\\"id\\\":\\\"1887000162250629148\\\",\\\"type\\\":\\\"observable\\\"},val)) : undefined; return this.valueFromJulia[\\\"loading\\\"]=false}),self),this[\\\"clicks\\\"].subscribe((function (val){!(this.valueFromJulia[\\\"clicks\\\"]) ? (WebIO.setval({\\\"name\\\":\\\"clicks\\\",\\\"scope\\\":\\\"7315194220939714688\\\",\\\"id\\\":\\\"4768199244547486369\\\",\\\"type\\\":\\\"observable\\\"},val)) : undefined; return this.valueFromJulia[\\\"clicks\\\"]=false}),self)]\\n        \\n    }\\n    self.model = new AppViewModel();\\n    self.valueFromJulia = {};\\n    for (var key in json_data) {\\n        self.valueFromJulia[key] = false;\\n    }\\n    ko.applyBindings(self.model, self.dom);\\n}\\n);\\n    (WebIO.importBlock({\\\"data\\\":[{\\\"name\\\":\\\"knockout\\\",\\\"type\\\":\\\"js\\\",\\\"url\\\":\\\"\\/assetserver\\/727383f2a47bd31570b7da84eee7b022dd6d7c78-knockout.js\\\"},{\\\"name\\\":\\\"knockout_punches\\\",\\\"type\\\":\\\"js\\\",\\\"url\\\":\\\"\\/assetserver\\/382b41b3b1bd9f26f75861d360bad7f8beea211f-knockout_punches.js\\\"}],\\\"type\\\":\\\"async_block\\\"})).then((imports) => handler.apply(this, imports));\\n}\\n\"],\"observables\":{\"loading\":{\"sync\":false,\"id\":\"1887000162250629148\",\"value\":false},\"clicks\":{\"sync\":true,\"id\":\"4768199244547486369\",\"value\":0}}},\"children\":[{\"props\":{\"attributes\":{\"data-bind\":\"click: function (){this.clicks(this.clicks()+1)}, css: {'is-loading' : loading}\"},\"className\":\"is-medium button is-primary\",\"style\":{}},\"nodeType\":\"DOM\",\"type\":\"node\",\"instanceArgs\":{\"namespace\":\"html\",\"tag\":\"button\"},\"children\":[\"reset\"]}]}]},{\"props\":{\"className\":\"interact-widget\"},\"nodeType\":\"DOM\",\"type\":\"node\",\"instanceArgs\":{\"namespace\":\"html\",\"tag\":\"div\"},\"children\":[{\"props\":{},\"nodeType\":\"Scope\",\"type\":\"node\",\"instanceArgs\":{\"imports\":{\"data\":[{\"name\":null,\"type\":\"js\",\"url\":\"\\/assetserver\\/dd22ed1bf1896c2748f3fe616ce0b838adc895c1-katex.min.js\"},{\"name\":null,\"type\":\"css\",\"url\":\"\\/assetserver\\/46517a424aa5e6cffc1360d7e0848b601c584ee3-katex.min.css\"}],\"type\":\"async_block\"},\"id\":\"9969385716472986788\",\"handlers\":{\"value\":[\"(function (txt){return this.k.render(txt,this.container)})\"]},\"systemjs_options\":null,\"mount_callbacks\":[\"function () {\\n    var handler = ((function (k){this.k=k; this.container=this.dom.querySelector(\\\"#container\\\"); return k.render(\\\"\\\\\\\\;\\\\\\\\;\\\",this.container)}));\\n    (WebIO.importBlock({\\\"data\\\":[{\\\"name\\\":null,\\\"type\\\":\\\"js\\\",\\\"url\\\":\\\"\\/assetserver\\/dd22ed1bf1896c2748f3fe616ce0b838adc895c1-katex.min.js\\\"},{\\\"name\\\":null,\\\"type\\\":\\\"css\\\",\\\"url\\\":\\\"\\/assetserver\\/46517a424aa5e6cffc1360d7e0848b601c584ee3-katex.min.css\\\"}],\\\"type\\\":\\\"async_block\\\"})).then((imports) => handler.apply(this, imports));\\n}\\n\"],\"observables\":{\"value\":{\"sync\":false,\"id\":\"18253478631231836197\",\"value\":\"\\\\;\\\\;\"}}},\"children\":[{\"props\":{\"id\":\"container\"},\"nodeType\":\"DOM\",\"type\":\"node\",\"instanceArgs\":{\"namespace\":\"html\",\"tag\":\"div\"},\"children\":[]}]}]},{\"props\":{\"className\":\"field interact-widget\"},\"nodeType\":\"DOM\",\"type\":\"node\",\"instanceArgs\":{\"namespace\":\"html\",\"tag\":\"div\"},\"children\":[{\"props\":{},\"nodeType\":\"Scope\",\"type\":\"node\",\"instanceArgs\":{\"imports\":{\"data\":[{\"name\":\"knockout\",\"type\":\"js\",\"url\":\"\\/assetserver\\/727383f2a47bd31570b7da84eee7b022dd6d7c78-knockout.js\"},{\"name\":\"knockout_punches\",\"type\":\"js\",\"url\":\"\\/assetserver\\/382b41b3b1bd9f26f75861d360bad7f8beea211f-knockout_punches.js\"},{\"name\":null,\"type\":\"js\",\"url\":\"\\/assetserver\\/5ab20f1060420992a9b82a65b735dee4d81ef413-all.js\"},{\"name\":null,\"type\":\"css\",\"url\":\"\\/assetserver\\/1cc0ed62837210b80a182cc3676512f895dab686-style.css\"},{\"name\":null,\"type\":\"css\",\"url\":\"\\/assetserver\\/2eee816f616df3549d7044d45e744fbf8d42bfa1-bulma_confined.min.css\"}],\"type\":\"async_block\"},\"id\":\"11484318773097352377\",\"handlers\":{\"loading\":[\"(function (val){return (val!=this.model[\\\"loading\\\"]()) ? (this.valueFromJulia[\\\"loading\\\"]=true, this.model[\\\"loading\\\"](val)) : undefined})\"],\"clicks\":[\"(function (val){return (val!=this.model[\\\"clicks\\\"]()) ? (this.valueFromJulia[\\\"clicks\\\"]=true, this.model[\\\"clicks\\\"](val)) : undefined})\"]},\"systemjs_options\":null,\"mount_callbacks\":[\"function () {\\n    var handler = (function (ko, koPunches) {\\n    ko.punches.enableAll();\\n    ko.bindingHandlers.numericValue = {\\n        init: function(element, valueAccessor, allBindings, data, context) {\\n            var stringified = ko.observable(ko.unwrap(valueAccessor()));\\n            stringified.subscribe(function(value) {\\n                var val = parseFloat(value);\\n                if (!isNaN(val)) {\\n                    valueAccessor()(val);\\n                }\\n            });\\n            valueAccessor().subscribe(function(value) {\\n                var str = JSON.stringify(value);\\n                if ((str == \\\"0\\\") && ([\\\"-0\\\", \\\"-0.\\\"].indexOf(stringified()) >= 0))\\n                     return;\\n                 if ([\\\"null\\\", \\\"\\\"].indexOf(str) >= 0)\\n                     return;\\n                stringified(str);\\n            });\\n            ko.applyBindingsToNode(\\n                element,\\n                {\\n                    value: stringified,\\n                    valueUpdate: allBindings.get('valueUpdate'),\\n                },\\n                context,\\n            );\\n        }\\n    };\\n    var json_data = {\\\"loading\\\":WebIO.getval({\\\"name\\\":\\\"loading\\\",\\\"scope\\\":\\\"11484318773097352377\\\",\\\"id\\\":\\\"3676054644757649929\\\",\\\"type\\\":\\\"observable\\\"}),\\\"clicks\\\":WebIO.getval({\\\"name\\\":\\\"clicks\\\",\\\"scope\\\":\\\"11484318773097352377\\\",\\\"id\\\":\\\"2170896115587737735\\\",\\\"type\\\":\\\"observable\\\"})};\\n    var self = this;\\n    function AppViewModel() {\\n        for (var key in json_data) {\\n            var el = json_data[key];\\n            this[key] = Array.isArray(el) ? ko.observableArray(el) : ko.observable(el);\\n        }\\n        \\n        \\n        [this[\\\"loading\\\"].subscribe((function (val){!(this.valueFromJulia[\\\"loading\\\"]) ? (WebIO.setval({\\\"name\\\":\\\"loading\\\",\\\"scope\\\":\\\"11484318773097352377\\\",\\\"id\\\":\\\"3676054644757649929\\\",\\\"type\\\":\\\"observable\\\"},val)) : undefined; return this.valueFromJulia[\\\"loading\\\"]=false}),self),this[\\\"clicks\\\"].subscribe((function (val){!(this.valueFromJulia[\\\"clicks\\\"]) ? (WebIO.setval({\\\"name\\\":\\\"clicks\\\",\\\"scope\\\":\\\"11484318773097352377\\\",\\\"id\\\":\\\"2170896115587737735\\\",\\\"type\\\":\\\"observable\\\"},val)) : undefined; return this.valueFromJulia[\\\"clicks\\\"]=false}),self)]\\n        \\n    }\\n    self.model = new AppViewModel();\\n    self.valueFromJulia = {};\\n    for (var key in json_data) {\\n        self.valueFromJulia[key] = false;\\n    }\\n    ko.applyBindings(self.model, self.dom);\\n}\\n);\\n    (WebIO.importBlock({\\\"data\\\":[{\\\"name\\\":\\\"knockout\\\",\\\"type\\\":\\\"js\\\",\\\"url\\\":\\\"\\/assetserver\\/727383f2a47bd31570b7da84eee7b022dd6d7c78-knockout.js\\\"},{\\\"name\\\":\\\"knockout_punches\\\",\\\"type\\\":\\\"js\\\",\\\"url\\\":\\\"\\/assetserver\\/382b41b3b1bd9f26f75861d360bad7f8beea211f-knockout_punches.js\\\"}],\\\"type\\\":\\\"async_block\\\"})).then((imports) => handler.apply(this, imports));\\n}\\n\"],\"observables\":{\"loading\":{\"sync\":false,\"id\":\"3676054644757649929\",\"value\":false},\"clicks\":{\"sync\":true,\"id\":\"2170896115587737735\",\"value\":0}}},\"children\":[{\"props\":{\"attributes\":{\"data-bind\":\"click: function (){this.clicks(this.clicks()+1)}, css: {'is-loading' : loading}\"},\"className\":\"is-medium button is-primary\",\"style\":{}},\"nodeType\":\"DOM\",\"type\":\"node\",\"instanceArgs\":{\"namespace\":\"html\",\"tag\":\"button\"},\"children\":[\"save\"]}]}]}]}]},{\"props\":{\"className\":\"interact-widget\"},\"nodeType\":\"DOM\",\"type\":\"node\",\"instanceArgs\":{\"namespace\":\"html\",\"tag\":\"div\"},\"children\":[{\"props\":{},\"nodeType\":\"Scope\",\"type\":\"node\",\"instanceArgs\":{\"imports\":{\"data\":[{\"name\":null,\"type\":\"js\",\"url\":\"\\/assetserver\\/dd22ed1bf1896c2748f3fe616ce0b838adc895c1-katex.min.js\"},{\"name\":null,\"type\":\"css\",\"url\":\"\\/assetserver\\/46517a424aa5e6cffc1360d7e0848b601c584ee3-katex.min.css\"}],\"type\":\"async_block\"},\"id\":\"9969385716472986788\",\"handlers\":{\"value\":[\"(function (txt){return this.k.render(txt,this.container)})\"]},\"systemjs_options\":null,\"mount_callbacks\":[\"function () {\\n    var handler = ((function (k){this.k=k; this.container=this.dom.querySelector(\\\"#container\\\"); return k.render(\\\"\\\\\\\\;\\\\\\\\;\\\",this.container)}));\\n    (WebIO.importBlock({\\\"data\\\":[{\\\"name\\\":null,\\\"type\\\":\\\"js\\\",\\\"url\\\":\\\"\\/assetserver\\/dd22ed1bf1896c2748f3fe616ce0b838adc895c1-katex.min.js\\\"},{\\\"name\\\":null,\\\"type\\\":\\\"css\\\",\\\"url\\\":\\\"\\/assetserver\\/46517a424aa5e6cffc1360d7e0848b601c584ee3-katex.min.css\\\"}],\\\"type\\\":\\\"async_block\\\"})).then((imports) => handler.apply(this, imports));\\n}\\n\"],\"observables\":{\"value\":{\"sync\":false,\"id\":\"18253478631231836197\",\"value\":\"\\\\;\\\\;\"}}},\"children\":[{\"props\":{\"id\":\"container\"},\"nodeType\":\"DOM\",\"type\":\"node\",\"instanceArgs\":{\"namespace\":\"html\",\"tag\":\"div\"},\"children\":[]}]}]},{\"props\":{},\"nodeType\":\"Scope\",\"type\":\"node\",\"instanceArgs\":{\"imports\":{\"data\":[],\"type\":\"async_block\"},\"id\":\"8372158878827466075\",\"handlers\":{\"obs-output\":[\"function (value, scope) {\\n    scope.setInnerHTML(value);\\n}\\n\"]},\"systemjs_options\":null,\"mount_callbacks\":[],\"observables\":{\"obs-output\":{\"sync\":false,\"id\":\"4033077370684238921\",\"value\":\"<img src='data:image\\/png;base64,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'><\\/img>\"}}},\"children\":[{\"props\":{\"className\":\"webio-observable\",\"setInnerHtml\":\"<img src='data:image\\/png;base64,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'><\\/img>\"},\"nodeType\":\"DOM\",\"type\":\"node\",\"instanceArgs\":{\"namespace\":\"html\",\"tag\":\"div\"},\"children\":[]}]},{\"props\":{\"className\":\"interact-widget\"},\"nodeType\":\"DOM\",\"type\":\"node\",\"instanceArgs\":{\"namespace\":\"html\",\"tag\":\"div\"},\"children\":[{\"props\":{},\"nodeType\":\"Scope\",\"type\":\"node\",\"instanceArgs\":{\"imports\":{\"data\":[{\"name\":null,\"type\":\"js\",\"url\":\"\\/assetserver\\/dd22ed1bf1896c2748f3fe616ce0b838adc895c1-katex.min.js\"},{\"name\":null,\"type\":\"css\",\"url\":\"\\/assetserver\\/46517a424aa5e6cffc1360d7e0848b601c584ee3-katex.min.css\"}],\"type\":\"async_block\"},\"id\":\"9969385716472986788\",\"handlers\":{\"value\":[\"(function (txt){return this.k.render(txt,this.container)})\"]},\"systemjs_options\":null,\"mount_callbacks\":[\"function () {\\n    var handler = ((function (k){this.k=k; this.container=this.dom.querySelector(\\\"#container\\\"); return k.render(\\\"\\\\\\\\;\\\\\\\\;\\\",this.container)}));\\n    (WebIO.importBlock({\\\"data\\\":[{\\\"name\\\":null,\\\"type\\\":\\\"js\\\",\\\"url\\\":\\\"\\/assetserver\\/dd22ed1bf1896c2748f3fe616ce0b838adc895c1-katex.min.js\\\"},{\\\"name\\\":null,\\\"type\\\":\\\"css\\\",\\\"url\\\":\\\"\\/assetserver\\/46517a424aa5e6cffc1360d7e0848b601c584ee3-katex.min.css\\\"}],\\\"type\\\":\\\"async_block\\\"})).then((imports) => handler.apply(this, imports));\\n}\\n\"],\"observables\":{\"value\":{\"sync\":false,\"id\":\"18253478631231836197\",\"value\":\"\\\\;\\\\;\"}}},\"children\":[{\"props\":{\"id\":\"container\"},\"nodeType\":\"DOM\",\"type\":\"node\",\"instanceArgs\":{\"namespace\":\"html\",\"tag\":\"div\"},\"children\":[]}]}]},{\"props\":{\"style\":{\"display\":\"flex\",\"flex-direction\":\"column\"}},\"nodeType\":\"DOM\",\"type\":\"node\",\"instanceArgs\":{\"namespace\":\"html\",\"tag\":\"div\"},\"children\":[{\"props\":{},\"nodeType\":\"Scope\",\"type\":\"node\",\"instanceArgs\":{\"imports\":{\"data\":[],\"type\":\"async_block\"},\"id\":\"17971737845153169516\",\"handlers\":{\"obs-output\":[\"function (value, scope) {\\n    scope.setInnerHTML(value);\\n}\\n\"]},\"systemjs_options\":null,\"mount_callbacks\":[],\"observables\":{\"obs-output\":{\"sync\":false,\"id\":\"8314029344895718940\",\"value\":\"<img src=\\\"data:image\\/png;base64,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\\\" \\/>\"}}},\"children\":[{\"props\":{\"className\":\"webio-observable\",\"setInnerHtml\":\"<img src=\\\"data:image\\/png;base64,iVBORw0KGgoAAAANSUhEUgAAASwAAACWCAIAAADrOSKFAAAABmJLR0QA\\/wD\\/AP+gvaeTAAAgAElEQVR4nO2dZ1wUWdbwL01omkyTESU1TRQaARFllAVtGR1FEFZ2RR1RcB1HEXnGNIOoY94dM7ogozOio4JpMCsioIJIWIJIkJyDxIaO0PV+uM\\/W20+jjuUgJXL\\/Pz5UnT5V995qTt+qWyfIYBgGEAgEeVDI7gACMdZBRohAkAwyQgSCZJARIhAkg4wQgSAZZIQIBMkgI0QgSAYZIQJBMsgIEQiSQUaIQJCMHCHtrq6uPXv2vHz50t7efsuWLWpqalIK0dHRhYWFcFtTU3Pfvn0AAKFQmJycnJub29DQsH\\/\\/fg0NDahw9uzZp0+f\\/m8\\/5OSio6Px8+Tk5JSXl\\/\\/973+Hu4ODgzIyMhQKCT8ZIpFIXl5+7LQ7ODhIoVBkZGRGvmmyhkw6xP6tAwIC6uvrN2zYUFZWFhQUNFTh3r17QqHQycnJyclp4sSJUNjS0rJr1676+vrY2Fgul4srp6WldXZ2QuVJkyZJnic\\/P\\/\\/Ro0f4rkgkGhwcJNTV4YLP54+pdkm81AKBgJR2SYfATFhYWPjs2bP29nYajebi4qKnp1dRUcFgMKTUPDw8li1bJimZMGFCRkZGb2\\/vqVOnpJRdXV1DQ0M\\/rOsIxOcBASPMyclxdHSk0WgAADU1NTs7u9zc3KFGePHixbS0NCsrq1WrVqmrq7\\/7nDdv3iwuLmYwGKGhoTo6OkR7jxhrNDc3P3nyhOxeEMDe3t7S0vLdOgSMsLW1lU6n47taWlotLS1SOh4eHoqKijQaLTExMSYmJj8\\/X1VV9W0nnDx5soODg4aGxo0bNyZOnFhQUKCnpwc\\/qqysvHXrlqenJwBAVVU1Li5OVlaWlAeGvr6+kW+UxHb5fL6cnJycHLHFgmGhv79fMrBORUVl6KPpiRMnrl+\\/bm1tPbJd+0AaGxv19PSuXr36bjUC11pZWVnyQYXL5aqoqEjpbNiwAW4sXbrU3t4+ISFhxYoVbzvhqlWrcOXp06efOXNm8+bNUGJkZOTo6BgeHg4AoNPpqqqqZBkhAOAdvyOfX7vy8vJkGaGMjMzQ\\/ygpMAwLDAz8\\/vvvR6ZLf5Lr16\\/\\/+uuvf6hG4FqPHz++pqYG362pqRk\\/fvzblGVlZRkMRltb23uenMlkSipTqVRDQ8OZM2fCXbJWKRCIEYDA6ujs2bPb2toeP34MALh\\/\\/75AIPDw8AAA5OXlJSUlAQBEIlFDQwNULi4uTk1NnTJlyjtOiJt0TU3NzZs3362MQHyuEJgJlZSUjh07tmDBAhsbm5KSkpiYGAUFBQDA3bt3Hzx4MH\\/+fB6PZ2VlZWxsTKVSKyoqIiIi\\/vKXv8BjDQ0NeTweAMDGxoZCobS3t8vKyk6aNElXV1dFRaWsrGzFihUBAQEfY4QIxCcOsVv\\/oKCgr776qrKy0sLCAn9THxERERYWBgBQU1Pr6OioqKgQi8UmJiaSjzQvX76UfOaWlZUFALS1tb169UooFBobG+Nv8BGIsQbh528NDQ0nJydJCZVKpVKp+Latre0bj3pD23Jyo2WZC4H4eCDfUQSCZJARIsY6hYWFP\\/\\/8M4kdQEaIGOuUlJRcunSJxA4gI0SMOfh8fnV1dXt7u5S8oaGBw+FICV+\\/ft3T0yMl5HK5zc3NQ8\\/c2NjY399PtD+EjZDP53d0dBA96m1gGPb69WuRSDRcJ0Qg3s25c+fMzc2XL1\\/u4eGxevVqKOTxeP7+\\/vPmzTMyMoqLi4PC0tJSJyenWbNmOTo6BgYGwiAPLpe7ZMkSW1vbefPm2dvbl5eXAwDS09MtLS19fHz8\\/PxMTEz2799PqEvEVkcPHDiwZ88eGo02YcKEa9euGRoaSikYGxvjvyUBAQExMTEAgGfPnu3cubOgoMDQ0DA7OxtXLiwsXLhwIZ\\/P5\\/F40dHRixYtItQZxFjmcQvWwiNQwUFHUcbDQAYAsHv37suXL7u5uQEA8P\\/V58+fZ2VlsVisp0+f+vj4rFy5UiwW\\/\\/3vfw8PD1+yZMng4GBAQMDJkyfXr1+\\/a9cuDMMqKipkZWVjY2PXrFnz4MEDAEB5efm+fft8fX0bGxsnTpzo7e3t4ODwnn0jYIRFRUV79uzJy8szMzMLDQ3dvHnz2bNnpXS6u7sLCgpMTEwkhYqKikFBQd7e3pJhuwCA0NDQkJCQjRs3ZmZmstlsNputqan5\\/v1BjGXuNohfSd8kvgsLdczDQBYAYGFhERkZGRISMmvWLDwgwcnJicViAQDc3Ny6u7s7Ozu7u7uLi4upVGpiYiIAwMjIKC0tbf369devX\\/f394c+2fLy8k+ePIHhlzo6Or6+vgCAcePGffnllw8ePPgoRnju3Ln58+ebmZkBAMLCwpydnWNjYxUVFf\\/wQBaLxWKxoGsbTnl5eX5+fnJyMhz5xIkTr169+g5vbwRCkt3Osh924IULF06fPn3mzJmvv\\/46KioKxgzgjuMUCkVWVlYkEnV2diooKFRXV0P5uHHjoFsltM+qqioo3759OzRCySwT6urqvb29798lAkZYVVUFfy0AAJaWlgKBoLm52dTUVErN3t5+YGDA1dX12LFjdnZ27ziboaEhPnhLS0t8wAAAsVjM4XDgUGk0GpohEcOFsrLy2rVr165dm52d7enpiQfuSMFkMkUiUUBAAJx1cOzs7JhM5rfffiulX19f\\/\\/r1a21tbQBAXl7e2rVr379LBIywp6dHWVn5fw+Tk6NSqd3d3VI6Dx48mDRpEp\\/P37Zt21dffVVaWvq2qbK3t1dJSQnfVVFR6erqwndfvXp1+\\/btrKwsAICWltbdu3fJCmXq7+8nJeEKWe2SG08ouausrPwxrsDSpUtnzZqlp6d3\\/fp1FxeXt6mpqalt3779q6++2rhxo7a2dkFBgYGBQXBw8O7du318fPr7++3s7BoaGkpLSw8dOgQAUFJS+vrrr0NCQlJTUzs6OhYuXPj+XSJwrXV1dXGr4\\/F4fD5fV1dXSmfy5MkAABUVlX\\/+85+xsbEvXrxwdnZ+49l0dHQkV367urqYTCa+a2lpuWjRIjwdBp\\/PJ8sIMQz7wyC3z6lduf8y8k0DidvCj8ecOXOysrI4HI6Njc3evXsBAA4ODpLPQbt374bd2Lx58+TJk+\\/evdvd3c1kMmfNmgUAcHV1zczMjI+Pv3btmr6+Pr6aaGRktHXr1vj4eB0dnadPn77PYxoOgWs9ceJEGMcEAMjJydHV1dXX13+bMp\\/PF4lE7+iKtbV1a2trU1MTXGLNzs4m9OOBQHwYgYGBgYGBkhIrKysrKyt893\\/+53\\/wbU9PT5jeQRJTU9Nt27YNPfPUqVOnTp36AV0i8J5w2bJljx8\\/PnfuXElJyZYtW0JDQ2EwRFhYGPT6ycvLO3PmDMwH9be\\/\\/c3e3h76Z\\/f09CQnJxcUFHC53OTk5JycHACAvr6+r69veHh4RUXF\\/v37eTzeV1999QEDQCBIR05Obmj6z\\/eHgBHq6+snJSX9+uuvixYt+uKLLyIjI6GcTqfD6ZtGo928eXPJkiXh4eEMBuP27dt4yFJsbGxRUZGbm1tsbOyNGzfggTExMerq6r6+vk+fPr13797YzDmJ+AyYOnUqnkH3AyB26z9jxowZM2ZICaOiouCGtbX1lStXhh5lYWGRkJAwVK6hoREbG0uoAwjEyJOVlVVcXBwcHAwAeP369c8\\/\\/9zV1bVu3bqhziofBvIdRSD+gOLi4ps3b8LtpUuXNjQ0ODk5Sa7t\\/0mQESLGFt3d3WKxGAAwMDDQ1dUFEz6IRCLchQ3DsKqqqjfmKOvu7v7Pf\\/4TFBTEZrOHMRcEMkLE2MLT0zM1NRUA8Ntvv9Hp9OLiYgDA4cOHYbbOsrIyGxubwMDAqVOnzp8\\/X+rVpa+v7+vXr1esWPHXv\\/51GLtEzusgBOJPwi\\/JHuySjkV6B7KauorWzgAALy+v5ORkT0\\/Phw8fOjk5PXz40M7OLiUlBdZuWL16dUBAwM6dO0Ui0ezZsw8ePIgvQAIAHj16pKure+XKlT9Mqk0INBMiRiWixiphQwWBv7oyeKCXl1dKSgoAID09fefOnQ8fPhQKhU+ePPHw8BCJRI8fP4bFUeTl5b\\/++uuHDx+OwFiIzYQYht25c6eoqIjFYs2ePXuowtOnT5uamuA2jUbDX\\/2JRKIrV640NDR88cUXrq6uUJiTk4P7i1IoFPSyHvH+qM78wMC36dOnw1fZBgYGbDY7NDT08ePHpqam+vr6HA5nYGAA99pRVVUdGuP7MSBmhOvXr09OTvbz8wsLC\\/Pz89uzZ4+Uwv79+1taWmAok5aWFm6E8+fP53A4M2bMWLBgwZ49e5YvXw4AOHnyZE5ODpzZ5eXlkREiRgAlJSUXF5dt27Z5eXnJyck5ODjs37\\/fy8sLAKCqqjpu3Ljnz5+z2WwAQFZWlo2NzQh0iYARNjU1xcbGvnr1ysjI6Ouvv7a3t4+IiNDS0pJSW7NmjVRptKdPn+bl5VVXVyspKbm7u69evXrp0qXwPf6SJUskvYQQiBHA09Nz+\\/btW7duBQB4eXlFRESsW7cOfrR9+\\/bQ0NAffvihra0tLi5Oskjmx4OAET569MjW1tbIyAgAYG5ubmJikp6eDgMZJcnPz5eRkbG2tsZd1O\\/fvz9z5kz4XmXmzJmtra1wDQoAUFpaevbsWXNz86lTp5ISNIAYgyxevFhRUREG1\\/v7+4tEItwFZeXKlQwG486dOyoqKpmZmRYWFgCAKVOm4LEKkZGRw17Dj9hMaGBggO8aGBjgj384WlpajY2NHR0dmzZtcnd3v3TpEoVCaWxsxA+Ul5fX1tZuamqysbFRU1Orra1NSUmJjIy0sLC4ffs2zKsPAGhvb3\\/+\\/Pl3330HAKDT6d98842srCx8vTPCCAQCvFdjpN3BwUFSivUKBAJJ10U8o\\/Sww2AwNm3aBLcnTJiAb0M8PDxgkRUcGxsb\\/L6UUKDge0LACGVkZCRT2WMYNnTuOnPmDNzo7Oy0tbW9fv26n5\\/f2w6EgVgAAC6Xy2Kxzpw5gxdLk5GRUVBQgO9Dh9E1AYH4BCFghAYGBpJVQVtaWt7hO0en06dMmVJSUgIAMDQ0rKiogHKRSNTR0SE5owIAlJSUPDw8oDJEW1ubxWLhZehIjCcUCoUf7yf5E2wXwzCy4glFIhEpQyYdAu8JPT09i4uLYfGzysrK6urq6dOnAwA6Ojrq6+sBAJLTXX9\\/f15enrm5OQCAzWYnJydzuVwAQHJysp6eHgzfwvVFIlFmZiZURiDGGsRmwlWrVrHZbD8\\/v8TExPXr18NkVTExMQ8ePHj06FFPT4+bm5uXl5e8vPytW7cYDIa\\/vz8AYNq0aZMmTWKz2TNmzDh9+vTevXspFAoAwMrKytPTU0lJ6cGDB1QqFWV5QoxNiN11HD58+O7duy9evDh+\\/DiM9gcA+Pv7w8UlNTW1mJiYwsLCwcHBEydOeHl54Q+NN27cuHbtWl1dXVJSEr5q+ssvv+Tn5\\/P5\\/L1793p7e8OXFgjEWIPwrb+3t7e3t7ekhMlkwvQwFApl+vTp8B5Vuhk5uaE1QN3c3OAyMQIxlkEO3IhRRnZ29miJBc\\/Pz38fNWSEiNGEt7d3e3t7bm4u2R15X4KCgv5QBxkhYjTh7u7u7u5Odi+GGRTKhECQDDJCBIJkiBlhamqql5eXnZ3dpk2bhELhUAUfH59Z\\/wWmN4ZcvHjRzc3N0dHx4MGDuLCrq2vlypWw1NvLly8\\/eAwIxKiGwDNhS0uLj49PdHS0s7NzSEjIjz\\/++OOPP0rppKamnjhxQk9PDwCA5+fOyspavXp1YmKilpaWv7+\\/trb20qVLAQCrVq2iUChJSUmXL1\\/29vaurKxEqUcRYxHsvdm3b9\\/cuXPhdnp6uq6u7sDAgJSOmppadXW1lHD58uUbNmyA26dOnZoyZQqGYc3NzfLy8o2NjVDOZDKvXr2KH3Lq1KmVK1fiuzweTygUvn9Xh5He3t4x1S6PxxOJRKQ0zeFwSGmXdAjcjhYVFeHVXZydndva2iT9uXFCQkK+\\/PLLHTt29PX1QYlkWRhnZ+eioiIAQElJiZ6eHu4C7uLiAuUIxFiDwO1oW1sbbks0Gk1RUbGtrW3cuHGSOlFRUSwWi8vlHjhw4NGjRykpKRQKpa2tDU\\/SqKmp2d\\/f39\\/f397erq6ujh+oqanZ2tqK75aWll66dAmWEKXT6ffu3UOl0UaGz7402icIgWutoaGBT24ikUggEAyt3QmTNwIA3N3ddXR0ysrKrK2t1dXV8QM5HI6CgoKSkpK6urrkRedwOOPHj8d3LS0t58yZA3PYqKmpqaiooNJoI8NnXxrtE4TAtTY1NS0vL4fb5eXlVCpVKixQEnV1dUVFRVg02MzMTPJAU1NTGRkZU1PTpqamvr4+eN3Ly8u\\/+OIL\\/HAZGRlVVVW8SCqfzyc4LgRi1EDgmTAoKCgpKamyshIAcPjw4YCAABiCefr0aZiesa6urqamBgAwODi4e\\/duZWXliRMnAgAWL178yy+\\/dHd3DwwMHD9+HDryMJlMR0fHEydOAAAyMjKKior8\\/PyGf3wIxCcPsSKhP\\/zwg5OTk6KiopmZGV6A6ebNm66url5eXrW1tX5+fmKxWCAQMJnMa9euwcwUfn5+qampJiYmcnJy7u7u+C3rqVOn\\/P39jx49KhAITp8+jQrTI8Ym\\/yf7y\\/sgEAh4PN47qmF0dXXBZRspOVz7HlpLsaOjQ11dXeohJC4uLisr61Mol83hcFRVVcdOuyQuzODPJmMNwteaSqW+OxHI2yY0Go1Go9GGyodmLkUgxhTIdxSBIBlkhAgEySAjRCBIBhkhAkEyhBdmOjo6ampqzMzM3v1Gobe3V1ZWVllZGZfU1tbCtNx4dnculysQCHAF9IoCMTYhNhPGx8czmczw8HAGg3H58uW3qeXm5mppaQUHB8NdoVC4YMECLy+vsLAwCwsLWKAYALB27dpx48aZm5ubm5uPTA0qBOIThIARcrncdevWXb9+PT09\\/cKFC2vWrHljXO\\/AwMCaNWskqzWdPHmysbHx5cuX6enpYWFhERER+Ec7d+7s7Ozs7Oxsbm7+M8NAIEYvBIzw3r17urq60MOTzWZTqdTU1NShart27fL29ra1tcUl2dnZbDYb3oXOnz\\/\\/\\/v37r1+\\/hh8JhcK6urqBgYE\\/MwYEYlRDwAjr6upMTU3xXVNT07q6OimdoqKiq1evbt68WVKopaUFK1gAAOrr6zEMg7UrAAA\\/\\/fSTu7u7hoaGVJC+QCBobGxMTk5OTk7Oysp6\\/04iEKMOAgszXC5X0leGRqNJBYANDAysXLnyxIkTUj5rISEhbm5uVlZWpqamBw8epFKpPB4PALBr1664uDgZGZnCwkIPDw8WizVv3jx4SGNjY0FBAR7KFBcXh+IJRwYUTzjyELjWenp6nZ2d+G5HRweeRQZy+fLlzs7Op\\/+ltbU1Ojp6zZo1dnZ2z549i4+Pz8vLO3r06LRp02BRezwSyt7efsGCBWlpabgRmpmZzZkz51PwHUXxhCPJ2PQdJXA76uzs\\/J\\/\\/\\/AdOYr29vS9evHBycpJUMDMzW7hwYVdXV1dXF8wK09PTAz+ytbXdt2\\/fgQMHXr16xWAwhgYiNjQ0vMMpHIH4jCHwg2dvb+\\/m5rZ8+XJ4z8lmsxkMBgDg6NGjaWlpV65cmTx58uTJk6Hyjh07Xr58uXXrVgBAa2vr2bNnbWxsSktL9+zZc\\/78eXibERIS4uXlpaqqeuPGjefPn+PzHgIxpiB215GYmLh3794jR47Y29vjqy82NjZDq5q5u7tbWFjAbRqN1tzcnJaWpq+vf\\/v2bVdXVyg3Nze\\/du0al8u1trYuKCgwNjb+c2NBIEYlhOMJRwYUT4jiCccOyHcUgSAZZIQIBMkgI0QgSAYZIQJBMsgIEQiSIbYI1traGhsb297ePmfOHG9v73eo\\/fLLL7NmzZo0aRKUZGRk3LhxA8OwJUuW4L7dGIb99ttvGRkZ5ubmq1atkgw+RCDGDgRmQh6P5+bmVltba21tvWLFivj4+LdpfvPNN3v37s3MzIS7iYmJvr6+RkZGWlpaHh4ehYWFUB4ZGbl3715HR8fU1NQ5c+b8mWEgEKMXAjPhpUuXtLS04uLiAAA6Ojrbtm1bsmTJG9UUFBTwORAAsH\\/\\/\\/h9\\/\\/DE0NBQA0Nvb+69\\/\\/evs2bN9fX3Hjh1LT093cHBYunSpkZHR06dPp02b9qdHhECMMgjMhI8fP545cybc9vLyKikpwcMCcTo6Onbs2HH48GFJYUtLC\\/TYBgCYmJikpaUBAAoLCxUUFBwcHAAACgoK06dPf\\/z48YeOAoEYxRCYCZubm\\/EkFJqamgoKCk1NTdra2pI6a9eu3bhxI6zUi+Pg4HD\\/\\/n02mw0AuH\\/\\/fktLC4Zhzc3NOjo6uI6urq5kcH1DQ0N6evqKFSsAAMrKytu3byfLY4bH4w11yvuM2yXRY4bL5VIo\\/39WoNFoKJRJGgUFBTwEXiwWDw4OSqXivnnzZktLy7Jly6QOPHDgwNy5c3NycrhcrpaWFry4kmcDAIhEIkmXJXV1dV1dXRcXFwCAlpYWlUolywiFQuG7M45\\/Zu1iGEaWEYpEIskhjxELBISM0NDQsLGxEW43NTWJxWK8zi7kwoULNTU10HLKy8srKyubm5t37dpla2tbVlb24sULXV3dR48ewZtYQ0PDlpaWgYEB+H03NDRIZsRQVVW1srL6xz\\/+AXeh7ygpM8PYbHdMDZl0CDwT+vj43Lhxg8vlAgASEhI8PT2hh3FOTg6sl3bo0KHk5OSEhISEhARbW9sVK1asW7cOAIBhGJVKdXJy0tDQOHz4MFzOYbFYdDr9zp07AICWlpbHjx\\/jEb0IxJiCwEw4a9YsOzu7KVOmWFtbp6SkJCUlQfnWrVunTZsWFRWlq6urq6sLhTQaTUtLC+6ePXv21KlT+vr6WVlZHh4e33zzDQBAVlb2wIEDwcHBbDY7MzMzNDTU3Nx8uEeHQIwCiIUyicXijIyM169fT5s2DV9WqaqqUlZWllqMKS8v19TUhDpCofD58+fNzc3W1tZ2dnaSarW1tTk5OWZmZo6OjpJyFMqEQpnGDsSuNYVCcXd3lxLiRa0lYTKZ+LaCgsLQoyDGxsYolhcxxkG+owgEySAjRCBIBhkhAkEyyAgRCJJBRohAkAwxI8zPz3dxcdHQ0HBzc3v58uXb1FpbW6dOnbplyxZccvDgQTMzM21tbTc3NzzEaefOnc7\\/ZerUqR82AARitEPACMVicUBAwOLFi9va2nx8fAIDA9+muWbNmoGBgaqqKribmpr6448\\/3rp1q729PTAw0M\\/PD76crK2tZbPZ0MPm\\/Pnzf3IkCMQohYARpqamcjicdevWKSgoRERENDQ0vLFeUkJCgqys7Ny5c3FJdXW1lZWVtbW1jIyMn59fa2sr9H0DANDpdDMzMzMzM8l6TwjEmIKAEZaVldnZ2cFgE3l5eSsrq7KyMimdjo6OyMjIQ4cOSQrnzZvX0dFx\\/Pjx9PT07777buXKlXgmi6NHj1pYWMyaNSslJeUdTZ89e\\/bWrVvv39Xhorq6+ocffhj5dgEAoaGhUlWKRoZTp04lJyePfLtlZWXbt28f+XY\\/BQh4zHR1dUlFG3V0dEjprFu3btOmTVLRFZqamgEBAT\\/99JOxsXFDQ8OxY8egPCgoaN26dWpqardu3Zo7d25mZiaLxYIflZSUxMXFwSj+cePG+fj4GBgY4CHFI0ZlZWVmZmZfX98ItwsASElJaWlpkXIGHAHy8\\/OFQuHbPJw+Hq9evXr+\\/LnkpUal0d4AnU7ncDj4bnd3t1REb0pKSl5eXnh4eG5ubnNzc1dXV2Fhob29\\/b\\/\\/\\/e979+6VlZUpKCgUFxe7uLhUVFQYGhr+5S9\\/gQd+++23sKQMboTW1tYrV67EfUfXr1+voKAw8o6FNBpNVlaWFIdGGRkZZWXlkW9aXl6eSqWOqUtNOgSMkMlkFhcXi8ViCoUiEonKysokHUQBAD09PcrKyjAIsLm5mcfjbdq06c6dO8XFxZMnT4blsm1tbZWVlV+9eiU1WyooKAwODg7HiBCIUQYBI\\/Tw8FBRUTl69Og333xz8ODBcePGwfpK169fLyoqioyM9PX19fX1hcqwNNqlS5cAAJMnT962bVt4eLi5ufm5c+f4fD6M3z137pyXl5e6uvqNGzeuXbv28OFDvC0MwwQCQVdXF9wVCAQ8Hg\\/fHTE4HM7AwMDItwsAEIvFPT09Ix9cLxAIuFzup3CpVVVVyapVOsIQGCSFQrl8+XJoaGhUVJStrS00MABAR0fH0OL1hoaGfD4fbi9btqympmb27Nk9PT0MBuPq1avwPva3336LiIjg8XiWlpbx8fFubm744W1tbYmJiTdv3oS7fD6fQqEcOXLkg8f5YQwODvL5fFICHTkczpQpU0b+oQhGje3bt2+E2x16qaOiosLCwka4G6TwiZZGQyDGDshtDYEgGWSECATJjBojFAgEFRUVQ1\\/Ztba21tTUfLx2+Xx+VVWV5LsZchGLxZWVlZ2dnWR3hDA9PT1VVVUCgeAdOi0tLbW1tVJCoVBYUVHx6XwFww9GNtXV1Z6enhoaGgAAHo\\/3Rp2UlBQ9PT07Ozs6nX7+\\/HkoHBwcXLZsma6urpmZ2ZQpUzo6Oog2vW3bNiaTKSMjs2vXrjcqhISEqKioWFhYqKqqBgcHDwwMQDmdTscv4KJFi4i2e\\/bsWRaLJS8vv3Dhwjcq3Lt3T\\/I7unr1KpRXVFQwmUxra2tNTc3IyEii7XZ2ds6ePRuuilVXVw9VgFnzJPn1118xDLt9+7ak8PfffyfUbl9fn6urq6qqKpPJVFdXP3bs2FAdkUgUGBiop6dnYmLyxRdf9PT0QHlGRoahoaGtra2mpmZcXBzRIY8KyDfClpaWy5cvw9z4bzRCsVjMYDDgf8PTp0\\/V1NR6e3sxDLt8+bKFhUVvb69YLPb19f3uu++INn3z5s1nz57NnTv3bUaYmJVgTeAAAAmMSURBVJgI22pra5swYcKZM2egnE6nv3r1imhzOE+ePElJSdm0adM7jNDZ2Xmo3M\\/Pb8OGDRiG1dfX0+n0\\/Px8Qu329vZeuHChqKjobUYoSUFBgaKiYmdnJ4Zht2\\/fdnV1JdSWJP39\\/YmJifAnLCMjQ05OrqKiQkrn3LlzNjY2fX19g4ODX3755bZt26DcwcEhOjoaw7C8vDxlZeX29vYP7sYnC\\/lGCKmurn6bET579kxDQ0MkEsFdBwcHOBkuXLhwx44dUHj\\/\\/n0jI6MPa9rPz+9tRiiJr69vVFQU3KbT6cXFxVwu98NahOzatevdRghfneFCDocjJyeHG\\/+yZcs2btz4Ae3yeLz3McJvv\\/128eLFcBsaoVR\\/PhgtLa1Hjx5JCefOnbt\\/\\/364\\/fvvv1tYWGAY9uLFC0VFRfw6T5s2LSYm5s934FNjFDwT1tbWmpiY4O9tGQwGfAisqanBXysxGIzGxkahUPiR+lBfX5+amvrll1\\/ikmnTptHpdBaL9ezZs4\\/RYn5+vrGxsYqKyt\\/+9rfu7m4AQGNjo1gsxnPbMRiMoY9Pw4VQKLx48WJwcDAuyc3NnTBhgoqKyuLFi3t6ej74zDdu3JCTk3NycpKSV1dXMxgMuA2HhmFYbW3tuHHjaDSapPyDm\\/5kGQVGyOFw8K8BAKCkpASf0fv6+nC5kpIShmEfydO6r68vICAgJCQEeggBADIyMrq6uvr6+vz9\\/RcsWDDs7U6aNKm5uRl6QTQ1NUVERAAAOBwOlUrFS6YoKSn19vYOb7s4V69eVVVV9fDwgLsuLi4tLS2dnZ21tbV1dXUbN278sNOWlpaGhIScOnVqaEpVqW9TKBTy+fyhX\\/3HGzKJjAIj1NPTk\\/Rm6uzshLEFurq6uLyzs5NKpWpqag576zweb968eRMnTpR0IrG0tAQAyMrKfv\\/993w+v6CgYHgb1dbWhssnOjo6W7ZsuX\\/\\/PgBAT0+Px+Phfkj4dfgY\\/Pzzz8HBwbjBa2tra2lpAQB0dXU3bdoE+0OUyspKNpu9f\\/\\/+N9Y7kPyWOzs71dXVaTTa2776z4xRYIT29vZVVVUwbEosFmdnZ8N03Y6OjnhU8bNnz1gs1rA7eQmFQn9\\/\\/wkTJsTExLzx5H19fXw+\\/6P6\\/re3t8N5w8DAQE9PT3LIUmnLh4v6+vq0tLSlS5e+rT8fMN66ujo2m71ly5ahRbsgLBZL6tsEANjY2LS3t9fX10N5VlbWRxoyyZD9UIoNDAwkJCRER0cDAM6fP3\\/t2jUoX7169cGDB+H2ggULFi5cmJ2dvW7dOgcHB7FYjGFYcXGxmprab7\\/9lpqaamxsHB8fT7Tp3NzchISEyZMnBwYGJiQkVFVVYRiWlZU1ceJEqODr62tqanrhwgWYgyMnJwfDsOzs7H\\/9619paWl379718vJyc3MjulxRVVWVkJAQGBjo6uqakJCQm5uLYVh\\/f7+lpSVcd4mJiblw4UJGRsaZM2f09fV\\/+ukneOD27dudnZ0zMzOPHDlCp9Ph0iUhrl27BjOJREdHJyQkwJ5HRkZu3boV14mKivL29pY86uTJk7A\\/p0+f1tPTO3z4MKFGe3p6TExMvL29E\\/4LfOR7+fKlpaWlQCDAMCwvL09NTS0xMfHhw4eGhoaXL1+GxwYFBc2dOzc7O3vjxo0WFhbDsjL0qUG+l7pYLIah3KGhoWlpaTQabcGCBQAAS0tLIyMjqPPLL79ERUWFh4czmcxbt27BScnGxubKlStHjhzp7+\\/\\/\\/vvvg4KCiDZdWlqalpYGf3STk5MNDAxMTU3V1NTwZz9LS0sdHZ1Hjx7BXXd3dycnJzqdXlJSkpSURKPR3N3dw8PDiRb0amxsTE5OVlNTc3BwSE5OFolEkyZNolAoU6ZMUVJSAgDo6OjEx8e3tbUZGBgcOnRo0aJF8MDvv\\/9eQUFh48aN+vr6ycnJH3D7nZqayuPxQkND4S30ggULZGVlzczMxGIxriMnJ7d582bJo3R0dM6fPw\\/7c\\/To0YCAAEKNCoVCWCIWj9k3NjaeMGGCsrIy7qTu6Oh48eLF48eP8\\/n8PXv2LFy4EGqePHlyx44d4eHhZmZm9+\\/f\\/yxrpyEHbgSCZEbBMyEC8XmDjBCBIBlkhAgEySAjRCBIBhkhOfT19aWnp7+P\\/1d2dnZ+fv4IdAlBFsgIR4KcnJy7d+9KSkpKSmbMmJGbm\\/uHx65fv37btm0frWsI8iH\\/PeFY4OTJk0+ePJFMWK6joxMcHCyV9xExNkFGSA4mJiY\\/\\/\\/wz2b1AfBKg29GPTkRERFJSUl1dHSwC5+PjAwAoLS2dNm1aXl4erpaenu7t7a2lpaWqquro6Pjvf\\/\\/7jWe7c+eOi4vLiRMnAAB8Pn\\/Lli0MBkNZWVlfX9\\/DwyMjI2NkBoUYRtBM+NFhs9lZWVkVFRWhoaEAADU1NQAAh8PJyMiAgYIAgKSkpIULFzo6Oh44cEBPT6+4uPjFixdDT3XmzJlVq1Zt2LBh9erVAIAtW7acPn16586dtra2PT09z549a2lpGcGRIYYJsp1XxwTBwcFMJlNS8vz5cwDAw4cPMQwbGBgYP368vb29UCgceuzUqVPnzZsnFoujoqLk5OQkQ8vt7e1DQkI+ducRHxs0E5JPYWFhfX39Dz\\/8IC8v\\/0aFgYGBVatWXbhw4ffff58zZw4uNzMz+\\/333+3t7QMCAj7LQLsxAnomJJ+mpiYAAJ63YigpKSmnTp3auHGjpAUCAI4cOcJiscLCwvT19R0dHQ8dOjQwMPDRu4sYbtBMSD4wRvYdqURnzZrFZDJ37NhhZGS0fPlyXD5hwoR79+61tbWlpKRcv349IiKiqanpn\\/\\/850h0GjF8oJlwJKDRaO9IestisahU6p07d96mICMj89NPP+3evXvFihV4iVUcXV3dwMDAixcvent7S7kEIEYFyAhHApgM7uHDh+3t7UNd1dTV1VevXh0fH3\\/8+HGRSAQA6OjoGFoefNOmTXv37g0LC8Orke\\/du\\/fVq1dwu6GhobS01MLC4iMPBfERIHtlaEzQ3d09ffp0eMHNzMyw\\/7s6imGYQCBYuXIlhUKRl5eHSyx4SlK4OoqfKjo6WkZGZvv27RiGwcdIFRUVIyMjWVlZe3t7mDYCMbpAkfUjB5fLbWlpkZeXHz9+vEAgqK+vl0yqCQCoq6uD+WZMTU3xvFVNTU0UCkVfXx9Xq6+vF4lEJiYmMjIyxcXF1dXVQqHQ2NjYyclpjBR5\\/8xARohAkAx6JkQgSAYZIQJBMsgIEQiS+X+g1p9ExvqXCwAAAABJRU5ErkJggg==\\\" \\/>\"},\"nodeType\":\"DOM\",\"type\":\"node\",\"instanceArgs\":{\"namespace\":\"html\",\"tag\":\"div\"},\"children\":[]}]}]}]}]},\n",
       "        window,\n",
       "    );\n",
       "    })()\n",
       "    </script>\n",
       "</div>\n"
      ],
      "text/plain": [
       "WebIO.Node{WebIO.DOM}(WebIO.DOM(:html, :div), Any[WebIO.Node{WebIO.DOM}(WebIO.DOM(:html, :div), Any[WebIO.Node{WebIO.DOM}(WebIO.DOM(:html, :div), Any[WebIO.Node{WebIO.DOM}(WebIO.DOM(:html, :div), Any[WebIO.Scope(WebIO.Node{WebIO.DOM}(WebIO.DOM(:html, :div), Any[WebIO.Node{WebIO.DOM}(WebIO.DOM(:html, :div), Any[WebIO.Node{WebIO.DOM}(WebIO.DOM(:html, :label), Any[\"time\"], Dict{Symbol, Any}(:className => \"interact \", :style => Dict{Any, Any}(:padding => \"5px 10px 0px 10px\")))], Dict{Symbol, Any}(:className => \"interact-flex-row-left\")), WebIO.Node{WebIO.DOM}(WebIO.DOM(:html, :div), Any[WebIO.Node{WebIO.DOM}(WebIO.DOM(:html, :input), Any[], Dict{Symbol, Any}(:max => 200, :min => 1, :attributes => Dict{Any, Any}(:type => \"range\", Symbol(\"data-bind\") => \"numericValue: index, valueUpdate: 'input', event: {change: function (){this.changes(this.changes()+1)}}\", \"orient\" => \"horizontal\"), :step => 1, :className => \"slider slider is-fullwidth\", :style => Dict{Any, Any}()))], Dict{Symbol, Any}(:className => \"interact-flex-row-center\")), WebIO.Node{WebIO.DOM}(WebIO.DOM(:html, :div), Any[WebIO.Node{WebIO.DOM}(WebIO.DOM(:html, :p), Any[], Dict{Symbol, Any}(:attributes => Dict(\"data-bind\" => \"text: formatted_val\")))], Dict{Symbol, Any}(:className => \"interact-flex-row-right\"))], Dict{Symbol, Any}(:className => \"interact-flex-row interact-widget\")), Dict{String, Tuple{Observables.AbstractObservable, Union{Nothing, Bool}}}(\"changes\" => (Observable(0), nothing), \"index\" => (Observable(1), nothing)), Set{String}(), nothing, WebIO.Asset[WebIO.Asset(\"js\", \"knockout\", \"/home/dushya/.julia/packages/Knockout/HReiN/src/../assets/knockout.js\"), WebIO.Asset(\"js\", \"knockout_punches\", \"/home/dushya/.julia/packages/Knockout/HReiN/src/../assets/knockout_punches.js\"), WebIO.Asset(\"js\", nothing, \"/home/dushya/.julia/packages/InteractBase/LJXv3/src/../assets/all.js\"), WebIO.Asset(\"css\", nothing, \"/home/dushya/.julia/packages/InteractBase/LJXv3/src/../assets/style.css\"), WebIO.Asset(\"css\", nothing, \"/home/dushya/.julia/packages/Interact/PENUy/src/../assets/bulma_confined.min.css\")], Dict{Any, Any}(\"changes\" => Any[WebIO.JSString(\"(function (val){return (val!=this.model[\\\"changes\\\"]()) ? (this.valueFromJulia[\\\"changes\\\"]=true, this.model[\\\"changes\\\"](val)) : undefined})\")], \"index\" => Any[WebIO.JSString(\"(function (val){return (val!=this.model[\\\"index\\\"]()) ? (this.valueFromJulia[\\\"index\\\"]=true, this.model[\\\"index\\\"](val)) : undefined})\")]), WebIO.ConnectionPool(Channel{Any}(32), Set{WebIO.AbstractConnection}(), Base.GenericCondition{ReentrantLock}(Base.IntrusiveLinkedList{Task}(Task (runnable) @0x00007f0da205c330, Task (runnable) @0x00007f0da205c330), ReentrantLock(nothing, 0x00000000, 0x00, Base.GenericCondition{Base.Threads.SpinLock}(Base.IntrusiveLinkedList{Task}(nothing, nothing), Base.Threads.SpinLock(0)), (0, 139696561047440, 139697398831696)))), WebIO.JSString[WebIO.JSString(\"function () {\\n    var handler = (function (ko, koPunches) {\\n    ko.punches.enableAll();\\n    ko.bindingHandlers.numericValue = {\\n        init: function(element, valueAccessor, allBindings, data, context) {\\n            var stringified = ko.observable(ko.unwrap(valueAccessor()));\\n            stringified.subscribe(function(value) {\\n                var val = parseFloat(value);\\n                if (!isNaN(val)) {\\n                    valueAccessor()(val);\\n                }\\n            });\\n            valueAccessor().subscribe(function(value) {\\n                var str = JSON.stringify(value);\\n                if ((str == \\\"0\\\") && ([\\\"-0\\\", \\\"-0.\\\"].indexOf(stringified()) >= 0))\\n                     return;\\n                 if ([\\\"null\\\", \\\"\\\"].indexOf(str) >= 0)\\n                     return;\\n                stringified(str);\\n            });\\n            ko.applyBindingsToNode(\\n                element,\\n                {\\n                    value: stringified,\\n                    valueUpdate: allBindings.get('valueUpdate'),\\n                },\\n                context,\\n            );\\n        }\\n    };\\n    var json_data = {\\\"formatted_vals\\\":[\\\"1\\\",\\\"2\\\",\\\"3\\\",\\\"4\\\",\\\"5\\\",\\\"6\\\",\\\"7\\\",\\\"8\\\",\\\"9\\\",\\\"10\\\",\\\"11\\\",\\\"12\\\",\\\"13\\\",\\\"14\\\",\\\"15\\\",\\\"16\\\",\\\"17\\\",\\\"18\\\",\\\"19\\\",\\\"20\\\",\\\"21\\\",\\\"22\\\",\\\"23\\\",\\\"24\\\",\\\"25\\\",\\\"26\\\",\\\"27\\\",\\\"28\\\",\\\"29\\\",\\\"30\\\",\\\"31\\\",\\\"32\\\",\\\"33\\\",\\\"34\\\",\\\"35\\\",\\\"36\\\",\\\"37\\\",\\\"38\\\",\\\"39\\\",\\\"40\\\",\\\"41\\\",\\\"42\\\",\\\"43\\\",\\\"44\\\",\\\"45\\\",\\\"46\\\",\\\"47\\\",\\\"48\\\",\\\"49\\\",\\\"50\\\",\\\"51\\\",\\\"52\\\",\\\"53\\\",\\\"54\\\",\\\"55\\\",\\\"56\\\",\\\"57\\\",\\\"58\\\",\\\"59\\\",\\\"60\\\",\\\"61\\\",\\\"62\\\",\\\"63\\\",\\\"64\\\",\\\"65\\\",\\\"66\\\",\\\"67\\\",\\\"68\\\",\\\"69\\\",\\\"70\\\",\\\"71\\\",\\\"72\\\",\\\"73\\\",\\\"74\\\",\\\"75\\\",\\\"76\\\",\\\"77\\\",\\\"78\\\",\\\"79\\\",\\\"80\\\",\\\"81\\\",\\\"82\\\",\\\"83\\\",\\\"84\\\",\\\"85\\\",\\\"86\\\",\\\"87\\\",\\\"88\\\",\\\"89\\\",\\\"90\\\",\\\"91\\\",\\\"92\\\",\\\"93\\\",\\\"94\\\",\\\"95\\\",\\\"96\\\",\\\"97\\\",\\\"98\\\",\\\"99\\\",\\\"100\\\",\\\"101\\\",\\\"102\\\",\\\"103\\\",\\\"104\\\",\\\"105\\\",\\\"106\\\",\\\"107\\\",\\\"108\\\",\\\"109\\\",\\\"110\\\",\\\"111\\\",\\\"112\\\",\\\"113\\\",\\\"114\\\",\\\"115\\\",\\\"116\\\",\\\"117\\\",\\\"118\\\",\\\"119\\\",\\\"120\\\",\\\"121\\\",\\\"122\\\",\\\"123\\\",\\\"124\\\",\\\"125\\\",\\\"126\\\",\\\"127\\\",\\\"128\\\",\\\"129\\\",\\\"130\\\",\\\"131\\\",\\\"132\\\",\\\"133\\\",\\\"134\\\",\\\"135\\\",\\\"136\\\",\\\"137\\\",\\\"138\\\",\\\"139\\\",\\\"140\\\",\\\"141\\\",\\\"142\\\",\\\"143\\\",\\\"144\\\",\\\"145\\\",\\\"146\\\",\\\"147\\\",\\\"148\\\",\\\"149\\\",\\\"150\\\",\\\"151\\\",\\\"152\\\",\\\"153\\\",\\\"154\\\",\\\"155\\\",\\\"156\\\",\\\"157\\\",\\\"158\\\",\\\"159\\\",\\\"160\\\",\\\"161\\\",\\\"162\\\",\\\"163\\\",\\\"164\\\",\\\"165\\\",\\\"166\\\",\\\"167\\\",\\\"168\\\",\\\"169\\\",\\\"170\\\",\\\"171\\\",\\\"172\\\",\\\"173\\\",\\\"174\\\",\\\"175\\\",\\\"176\\\",\\\"177\\\",\\\"178\\\",\\\"179\\\",\\\"180\\\",\\\"181\\\",\\\"182\\\",\\\"183\\\",\\\"184\\\",\\\"185\\\",\\\"186\\\",\\\"187\\\",\\\"188\\\",\\\"189\\\",\\\"190\\\",\\\"191\\\",\\\"192\\\",\\\"193\\\",\\\"194\\\",\\\"195\\\",\\\"196\\\",\\\"197\\\",\\\"198\\\",\\\"199\\\",\\\"200\\\"],\\\"changes\\\":WebIO.getval({\\\"name\\\":\\\"changes\\\",\\\"scope\\\":\\\"8862731819570235158\\\",\\\"id\\\":\\\"15142653228492649392\\\",\\\"type\\\":\\\"observable\\\"}),\\\"index\\\":WebIO.getval({\\\"name\\\":\\\"index\\\",\\\"scope\\\":\\\"8862731819570235158\\\",\\\"id\\\":\\\"10808795950796895910\\\",\\\"type\\\":\\\"observable\\\"})};\\n    var self = this;\\n    function AppViewModel() {\\n        for (var key in json_data) {\\n            var el = json_data[key];\\n            this[key] = Array.isArray(el) ? ko.observableArray(el) : ko.observable(el);\\n        }\\n        \\n        [this[\\\"formatted_val\\\"]=ko.computed(    function(){\\n        return this.formatted_vals()[parseInt(this.index())-(1)];\\n    }\\n,this)]\\n        [this[\\\"changes\\\"].subscribe((function (val){!(this.valueFromJulia[\\\"changes\\\"]) ? (WebIO.setval({\\\"name\\\":\\\"changes\\\",\\\"scope\\\":\\\"8862731819570235158\\\",\\\"id\\\":\\\"15142653228492649392\\\",\\\"type\\\":\\\"observable\\\"},val)) : undefined; return this.valueFromJulia[\\\"changes\\\"]=false}),self),this[\\\"index\\\"].subscribe((function (val){!(this.valueFromJulia[\\\"index\\\"]) ? (WebIO.setval({\\\"name\\\":\\\"index\\\",\\\"scope\\\":\\\"8862731819570235158\\\",\\\"id\\\":\\\"10808795950796895910\\\",\\\"type\\\":\\\"observable\\\"},val)) : undefined; return this.valueFromJulia[\\\"index\\\"]=false}),self)]\\n        \\n    }\\n    self.model = new AppViewModel();\\n    self.valueFromJulia = {};\\n    for (var key in json_data) {\\n        self.valueFromJulia[key] = false;\\n    }\\n    ko.applyBindings(self.model, self.dom);\\n}\\n);\\n    (WebIO.importBlock({\\\"data\\\":[{\\\"name\\\":\\\"knockout\\\",\\\"type\\\":\\\"js\\\",\\\"url\\\":\\\"/assetserver/727383f2a47bd31570b7da84eee7b022dd6d7c78-knockout.js\\\"},{\\\"name\\\":\\\"knockout_punches\\\",\\\"type\\\":\\\"js\\\",\\\"url\\\":\\\"/assetserver/382b41b3b1bd9f26f75861d360bad7f8beea211f-knockout_punches.js\\\"}],\\\"type\\\":\\\"async_block\\\"})).then((imports) => handler.apply(this, imports));\\n}\\n\")])], Dict{Symbol, Any}(:className => \"field interact-widget\")), WebIO.Node{WebIO.DOM}(WebIO.DOM(:html, :div), Any[WebIO.Scope(WebIO.Node{WebIO.DOM}(WebIO.DOM(:html, :div), Any[WebIO.Node{WebIO.DOM}(WebIO.DOM(:html, :div), Any[WebIO.Node{WebIO.DOM}(WebIO.DOM(:html, :label), Any[\"scale\"], Dict{Symbol, Any}(:className => \"interact \", :style => Dict{Any, Any}(:padding => \"5px 10px 0px 10px\")))], Dict{Symbol, Any}(:className => \"interact-flex-row-left\")), WebIO.Node{WebIO.DOM}(WebIO.DOM(:html, :div), Any[WebIO.Node{WebIO.DOM}(WebIO.DOM(:html, :input), Any[], Dict{Symbol, Any}(:max => 20, :min => 1, :attributes => Dict{Any, Any}(:type => \"range\", Symbol(\"data-bind\") => \"numericValue: index, valueUpdate: 'input', event: {change: function (){this.changes(this.changes()+1)}}\", \"orient\" => \"horizontal\"), :step => 1, :className => \"slider slider is-fullwidth\", :style => Dict{Any, Any}()))], Dict{Symbol, Any}(:className => \"interact-flex-row-center\")), WebIO.Node{WebIO.DOM}(WebIO.DOM(:html, :div), Any[WebIO.Node{WebIO.DOM}(WebIO.DOM(:html, :p), Any[], Dict{Symbol, Any}(:attributes => Dict(\"data-bind\" => \"text: formatted_val\")))], Dict{Symbol, Any}(:className => \"interact-flex-row-right\"))], Dict{Symbol, Any}(:className => \"interact-flex-row interact-widget\")), Dict{String, Tuple{Observables.AbstractObservable, Union{Nothing, Bool}}}(\"changes\" => (Observable(0), nothing), \"index\" => (Observable{Any}(10), nothing)), Set{String}(), nothing, WebIO.Asset[WebIO.Asset(\"js\", \"knockout\", \"/home/dushya/.julia/packages/Knockout/HReiN/src/../assets/knockout.js\"), WebIO.Asset(\"js\", \"knockout_punches\", \"/home/dushya/.julia/packages/Knockout/HReiN/src/../assets/knockout_punches.js\"), WebIO.Asset(\"js\", nothing, \"/home/dushya/.julia/packages/InteractBase/LJXv3/src/../assets/all.js\"), WebIO.Asset(\"css\", nothing, \"/home/dushya/.julia/packages/InteractBase/LJXv3/src/../assets/style.css\"), WebIO.Asset(\"css\", nothing, \"/home/dushya/.julia/packages/Interact/PENUy/src/../assets/bulma_confined.min.css\")], Dict{Any, Any}(\"changes\" => Any[WebIO.JSString(\"(function (val){return (val!=this.model[\\\"changes\\\"]()) ? (this.valueFromJulia[\\\"changes\\\"]=true, this.model[\\\"changes\\\"](val)) : undefined})\")], \"index\" => Any[WebIO.JSString(\"(function (val){return (val!=this.model[\\\"index\\\"]()) ? (this.valueFromJulia[\\\"index\\\"]=true, this.model[\\\"index\\\"](val)) : undefined})\")]), WebIO.ConnectionPool(Channel{Any}(32), Set{WebIO.AbstractConnection}(), Base.GenericCondition{ReentrantLock}(Base.IntrusiveLinkedList{Task}(Task (runnable) @0x00007f0da205f6c0, Task (runnable) @0x00007f0da205f6c0), ReentrantLock(nothing, 0x00000000, 0x00, Base.GenericCondition{Base.Threads.SpinLock}(Base.IntrusiveLinkedList{Task}(nothing, nothing), Base.Threads.SpinLock(0)), (2, 139698350150832, 139698498433200)))), WebIO.JSString[WebIO.JSString(\"function () {\\n    var handler = (function (ko, koPunches) {\\n    ko.punches.enableAll();\\n    ko.bindingHandlers.numericValue = {\\n        init: function(element, valueAccessor, allBindings, data, context) {\\n            var stringified = ko.observable(ko.unwrap(valueAccessor()));\\n            stringified.subscribe(function(value) {\\n                var val = parseFloat(value);\\n                if (!isNaN(val)) {\\n                    valueAccessor()(val);\\n                }\\n            });\\n            valueAccessor().subscribe(function(value) {\\n                var str = JSON.stringify(value);\\n                if ((str == \\\"0\\\") && ([\\\"-0\\\", \\\"-0.\\\"].indexOf(stringified()) >= 0))\\n                     return;\\n                 if ([\\\"null\\\", \\\"\\\"].indexOf(str) >= 0)\\n                     return;\\n                stringified(str);\\n            });\\n            ko.applyBindingsToNode(\\n                element,\\n                {\\n                    value: stringified,\\n                    valueUpdate: allBindings.get('valueUpdate'),\\n                },\\n                context,\\n            );\\n        }\\n    };\\n    var json_data = {\\\"formatted_vals\\\":[\\\"0.1\\\",\\\"0.2\\\",\\\"0.3\\\",\\\"0.4\\\",\\\"0.5\\\",\\\"0.6\\\",\\\"0.7\\\",\\\"0.8\\\",\\\"0.9\\\",\\\"1.0\\\",\\\"1.1\\\",\\\"1.2\\\",\\\"1.3\\\",\\\"1.4\\\",\\\"1.5\\\",\\\"1.6\\\",\\\"1.7\\\",\\\"1.8\\\",\\\"1.9\\\",\\\"2.0\\\"],\\\"changes\\\":WebIO.getval({\\\"name\\\":\\\"changes\\\",\\\"scope\\\":\\\"8587721069159695662\\\",\\\"id\\\":\\\"12284842188814315617\\\",\\\"type\\\":\\\"observable\\\"}),\\\"index\\\":WebIO.getval({\\\"name\\\":\\\"index\\\",\\\"scope\\\":\\\"8587721069159695662\\\",\\\"id\\\":\\\"17373187217026794480\\\",\\\"type\\\":\\\"observable\\\"})};\\n    var self = this;\\n    function AppViewModel() {\\n        for (var key in json_data) {\\n            var el = json_data[key];\\n            this[key] = Array.isArray(el) ? ko.observableArray(el) : ko.observable(el);\\n        }\\n        \\n        [this[\\\"formatted_val\\\"]=ko.computed(    function(){\\n        return this.formatted_vals()[parseInt(this.index())-(1)];\\n    }\\n,this)]\\n        [this[\\\"changes\\\"].subscribe((function (val){!(this.valueFromJulia[\\\"changes\\\"]) ? (WebIO.setval({\\\"name\\\":\\\"changes\\\",\\\"scope\\\":\\\"8587721069159695662\\\",\\\"id\\\":\\\"12284842188814315617\\\",\\\"type\\\":\\\"observable\\\"},val)) : undefined; return this.valueFromJulia[\\\"changes\\\"]=false}),self),this[\\\"index\\\"].subscribe((function (val){!(this.valueFromJulia[\\\"index\\\"]) ? (WebIO.setval({\\\"name\\\":\\\"index\\\",\\\"scope\\\":\\\"8587721069159695662\\\",\\\"id\\\":\\\"17373187217026794480\\\",\\\"type\\\":\\\"observable\\\"},val)) : undefined; return this.valueFromJulia[\\\"index\\\"]=false}),self)]\\n        \\n    }\\n    self.model = new AppViewModel();\\n    self.valueFromJulia = {};\\n    for (var key in json_data) {\\n        self.valueFromJulia[key] = false;\\n    }\\n    ko.applyBindings(self.model, self.dom);\\n}\\n);\\n    (WebIO.importBlock({\\\"data\\\":[{\\\"name\\\":\\\"knockout\\\",\\\"type\\\":\\\"js\\\",\\\"url\\\":\\\"/assetserver/727383f2a47bd31570b7da84eee7b022dd6d7c78-knockout.js\\\"},{\\\"name\\\":\\\"knockout_punches\\\",\\\"type\\\":\\\"js\\\",\\\"url\\\":\\\"/assetserver/382b41b3b1bd9f26f75861d360bad7f8beea211f-knockout_punches.js\\\"}],\\\"type\\\":\\\"async_block\\\"})).then((imports) => handler.apply(this, imports));\\n}\\n\")])], Dict{Symbol, Any}(:className => \"field interact-widget\")), WebIO.Node{WebIO.DOM}(WebIO.DOM(:html, :div), Any[], Dict{Symbol, Any}(:style => Dict(\"display\" => \"flex\", \"flex-direction\" => \"column\"))), WebIO.Node{WebIO.DOM}(WebIO.DOM(:html, :div), Any[WebIO.Node{WebIO.DOM}(WebIO.DOM(:html, :div), Any[WebIO.Scope(WebIO.Node{WebIO.DOM}(WebIO.DOM(:html, :div), Any[WebIO.Node{WebIO.DOM}(WebIO.DOM(:html, :div), Any[WebIO.Node{WebIO.DOM}(WebIO.DOM(:html, :label), Any[\"wolf_birth_rate\"], Dict{Symbol, Any}(:className => \"interact \", :style => Dict{Any, Any}(:padding => \"5px 10px 0px 10px\")))], Dict{Symbol, Any}(:className => \"interact-flex-row-left\")), WebIO.Node{WebIO.DOM}(WebIO.DOM(:html, :div), Any[WebIO.Node{WebIO.DOM}(WebIO.DOM(:html, :input), Any[], Dict{Symbol, Any}(:max => 101, :min => 1, :attributes => Dict{Any, Any}(:type => \"range\", Symbol(\"data-bind\") => \"numericValue: index, valueUpdate: 'input', event: {change: function (){this.changes(this.changes()+1)}}\", \"orient\" => \"horizontal\"), :step => 1, :className => \"slider slider is-fullwidth\", :style => Dict{Any, Any}()))], Dict{Symbol, Any}(:className => \"interact-flex-row-center\")), WebIO.Node{WebIO.DOM}(WebIO.DOM(:html, :div), Any[WebIO.Node{WebIO.DOM}(WebIO.DOM(:html, :p), Any[], Dict{Symbol, Any}(:attributes => Dict(\"data-bind\" => \"text: formatted_val\")))], Dict{Symbol, Any}(:className => \"interact-flex-row-right\"))], Dict{Symbol, Any}(:className => \"interact-flex-row interact-widget\")), Dict{String, Tuple{Observables.AbstractObservable, Union{Nothing, Bool}}}(\"changes\" => (Observable(0), nothing), \"index\" => (Observable{Any}(51), nothing)), Set{String}(), nothing, WebIO.Asset[WebIO.Asset(\"js\", \"knockout\", \"/home/dushya/.julia/packages/Knockout/HReiN/src/../assets/knockout.js\"), WebIO.Asset(\"js\", \"knockout_punches\", \"/home/dushya/.julia/packages/Knockout/HReiN/src/../assets/knockout_punches.js\"), WebIO.Asset(\"js\", nothing, \"/home/dushya/.julia/packages/InteractBase/LJXv3/src/../assets/all.js\"), WebIO.Asset(\"css\", nothing, \"/home/dushya/.julia/packages/InteractBase/LJXv3/src/../assets/style.css\"), WebIO.Asset(\"css\", nothing, \"/home/dushya/.julia/packages/Interact/PENUy/src/../assets/bulma_confined.min.css\")], Dict{Any, Any}(\"changes\" => Any[WebIO.JSString(\"(function (val){return (val!=this.model[\\\"changes\\\"]()) ? (this.valueFromJulia[\\\"changes\\\"]=true, this.model[\\\"changes\\\"](val)) : undefined})\")], \"index\" => Any[WebIO.JSString(\"(function (val){return (val!=this.model[\\\"index\\\"]()) ? (this.valueFromJulia[\\\"index\\\"]=true, this.model[\\\"index\\\"](val)) : undefined})\")]), WebIO.ConnectionPool(Channel{Any}(32), Set{WebIO.AbstractConnection}(), Base.GenericCondition{ReentrantLock}(Base.IntrusiveLinkedList{Task}(Task (runnable) @0x00007f0da206cfb0, Task (runnable) @0x00007f0da206cfb0), ReentrantLock(nothing, 0x00000000, 0x00, Base.GenericCondition{Base.Threads.SpinLock}(Base.IntrusiveLinkedList{Task}(nothing, nothing), Base.Threads.SpinLock(0)), (0, 139698354852928, 0)))), WebIO.JSString[WebIO.JSString(\"function () {\\n    var handler = (function (ko, koPunches) {\\n    ko.punches.enableAll();\\n    ko.bindingHandlers.numericValue = {\\n        init: function(element, valueAccessor, allBindings, data, context) {\\n            var stringified = ko.observable(ko.unwrap(valueAccessor()));\\n            stringified.subscribe(function(value) {\\n                var val = parseFloat(value);\\n                if (!isNaN(val)) {\\n                    valueAccessor()(val);\\n                }\\n            });\\n            valueAccessor().subscribe(function(value) {\\n                var str = JSON.stringify(value);\\n                if ((str == \\\"0\\\") && ([\\\"-0\\\", \\\"-0.\\\"].indexOf(stringified()) >= 0))\\n                     return;\\n                 if ([\\\"null\\\", \\\"\\\"].indexOf(str) >= 0)\\n                     return;\\n                stringified(str);\\n            });\\n            ko.applyBindingsToNode(\\n                element,\\n                {\\n                    value: stringified,\\n                    valueUpdate: allBindings.get('valueUpdate'),\\n                },\\n                context,\\n            );\\n        }\\n    };\\n    var json_data = {\\\"formatted_vals\\\":[\\\"0.0\\\",\\\"0.01\\\",\\\"0.02\\\",\\\"0.03\\\",\\\"0.04\\\",\\\"0.05\\\",\\\"0.06\\\",\\\"0.07\\\",\\\"0.08\\\",\\\"0.09\\\",\\\"0.1\\\",\\\"0.11\\\",\\\"0.12\\\",\\\"0.13\\\",\\\"0.14\\\",\\\"0.15\\\",\\\"0.16\\\",\\\"0.17\\\",\\\"0.18\\\",\\\"0.19\\\",\\\"0.2\\\",\\\"0.21\\\",\\\"0.22\\\",\\\"0.23\\\",\\\"0.24\\\",\\\"0.25\\\",\\\"0.26\\\",\\\"0.27\\\",\\\"0.28\\\",\\\"0.29\\\",\\\"0.3\\\",\\\"0.31\\\",\\\"0.32\\\",\\\"0.33\\\",\\\"0.34\\\",\\\"0.35\\\",\\\"0.36\\\",\\\"0.37\\\",\\\"0.38\\\",\\\"0.39\\\",\\\"0.4\\\",\\\"0.41\\\",\\\"0.42\\\",\\\"0.43\\\",\\\"0.44\\\",\\\"0.45\\\",\\\"0.46\\\",\\\"0.47\\\",\\\"0.48\\\",\\\"0.49\\\",\\\"0.5\\\",\\\"0.51\\\",\\\"0.52\\\",\\\"0.53\\\",\\\"0.54\\\",\\\"0.55\\\",\\\"0.56\\\",\\\"0.57\\\",\\\"0.58\\\",\\\"0.59\\\",\\\"0.6\\\",\\\"0.61\\\",\\\"0.62\\\",\\\"0.63\\\",\\\"0.64\\\",\\\"0.65\\\",\\\"0.66\\\",\\\"0.67\\\",\\\"0.68\\\",\\\"0.69\\\",\\\"0.7\\\",\\\"0.71\\\",\\\"0.72\\\",\\\"0.73\\\",\\\"0.74\\\",\\\"0.75\\\",\\\"0.76\\\",\\\"0.77\\\",\\\"0.78\\\",\\\"0.79\\\",\\\"0.8\\\",\\\"0.81\\\",\\\"0.82\\\",\\\"0.83\\\",\\\"0.84\\\",\\\"0.85\\\",\\\"0.86\\\",\\\"0.87\\\",\\\"0.88\\\",\\\"0.89\\\",\\\"0.9\\\",\\\"0.91\\\",\\\"0.92\\\",\\\"0.93\\\",\\\"0.94\\\",\\\"0.95\\\",\\\"0.96\\\",\\\"0.97\\\",\\\"0.98\\\",\\\"0.99\\\",\\\"1.0\\\"],\\\"changes\\\":WebIO.getval({\\\"name\\\":\\\"changes\\\",\\\"scope\\\":\\\"17356495088381849194\\\",\\\"id\\\":\\\"10038222847662196887\\\",\\\"type\\\":\\\"observable\\\"}),\\\"index\\\":WebIO.getval({\\\"name\\\":\\\"index\\\",\\\"scope\\\":\\\"17356495088381849194\\\",\\\"id\\\":\\\"3782522997244175003\\\",\\\"type\\\":\\\"observable\\\"})};\\n    var self = this;\\n    function AppViewModel() {\\n        for (var key in json_data) {\\n            var el = json_data[key];\\n            this[key] = Array.isArray(el) ? ko.observableArray(el) : ko.observable(el);\\n        }\\n        \\n        [this[\\\"formatted_val\\\"]=ko.computed(    function(){\\n        return this.formatted_vals()[parseInt(this.index())-(1)];\\n    }\\n,this)]\\n        [this[\\\"changes\\\"].subscribe((function (val){!(this.valueFromJulia[\\\"changes\\\"]) ? (WebIO.setval({\\\"name\\\":\\\"changes\\\",\\\"scope\\\":\\\"17356495088381849194\\\",\\\"id\\\":\\\"10038222847662196887\\\",\\\"type\\\":\\\"observable\\\"},val)) : undefined; return this.valueFromJulia[\\\"changes\\\"]=false}),self),this[\\\"index\\\"].subscribe((function (val){!(this.valueFromJulia[\\\"index\\\"]) ? (WebIO.setval({\\\"name\\\":\\\"index\\\",\\\"scope\\\":\\\"17356495088381849194\\\",\\\"id\\\":\\\"3782522997244175003\\\",\\\"type\\\":\\\"observable\\\"},val)) : undefined; return this.valueFromJulia[\\\"index\\\"]=false}),self)]\\n        \\n    }\\n    self.model = new AppViewModel();\\n    self.valueFromJulia = {};\\n    for (var key in json_data) {\\n        self.valueFromJulia[key] = false;\\n    }\\n    ko.applyBindings(self.model, self.dom);\\n}\\n);\\n    (WebIO.importBlock({\\\"data\\\":[{\\\"name\\\":\\\"knockout\\\",\\\"type\\\":\\\"js\\\",\\\"url\\\":\\\"/assetserver/727383f2a47bd31570b7da84eee7b022dd6d7c78-knockout.js\\\"},{\\\"name\\\":\\\"knockout_punches\\\",\\\"type\\\":\\\"js\\\",\\\"url\\\":\\\"/assetserver/382b41b3b1bd9f26f75861d360bad7f8beea211f-knockout_punches.js\\\"}],\\\"type\\\":\\\"async_block\\\"})).then((imports) => handler.apply(this, imports));\\n}\\n\")])], Dict{Symbol, Any}(:className => \"field interact-widget\")), WebIO.Node{WebIO.DOM}(WebIO.DOM(:html, :div), Any[WebIO.Scope(WebIO.Node{WebIO.DOM}(WebIO.DOM(:html, :div), Any[WebIO.Node{WebIO.DOM}(WebIO.DOM(:html, :div), Any[WebIO.Node{WebIO.DOM}(WebIO.DOM(:html, :label), Any[\"sheep_birth_rate\"], Dict{Symbol, Any}(:className => \"interact \", :style => Dict{Any, Any}(:padding => \"5px 10px 0px 10px\")))], Dict{Symbol, Any}(:className => \"interact-flex-row-left\")), WebIO.Node{WebIO.DOM}(WebIO.DOM(:html, :div), Any[WebIO.Node{WebIO.DOM}(WebIO.DOM(:html, :input), Any[], Dict{Symbol, Any}(:max => 100, :min => 1, :attributes => Dict{Any, Any}(:type => \"range\", Symbol(\"data-bind\") => \"numericValue: index, valueUpdate: 'input', event: {change: function (){this.changes(this.changes()+1)}}\", \"orient\" => \"horizontal\"), :step => 1, :className => \"slider slider is-fullwidth\", :style => Dict{Any, Any}()))], Dict{Symbol, Any}(:className => \"interact-flex-row-center\")), WebIO.Node{WebIO.DOM}(WebIO.DOM(:html, :div), Any[WebIO.Node{WebIO.DOM}(WebIO.DOM(:html, :p), Any[], Dict{Symbol, Any}(:attributes => Dict(\"data-bind\" => \"text: formatted_val\")))], Dict{Symbol, Any}(:className => \"interact-flex-row-right\"))], Dict{Symbol, Any}(:className => \"interact-flex-row interact-widget\")), Dict{String, Tuple{Observables.AbstractObservable, Union{Nothing, Bool}}}(\"changes\" => (Observable(0), nothing), \"index\" => (Observable{Any}(50), nothing)), Set{String}(), nothing, WebIO.Asset[WebIO.Asset(\"js\", \"knockout\", \"/home/dushya/.julia/packages/Knockout/HReiN/src/../assets/knockout.js\"), WebIO.Asset(\"js\", \"knockout_punches\", \"/home/dushya/.julia/packages/Knockout/HReiN/src/../assets/knockout_punches.js\"), WebIO.Asset(\"js\", nothing, \"/home/dushya/.julia/packages/InteractBase/LJXv3/src/../assets/all.js\"), WebIO.Asset(\"css\", nothing, \"/home/dushya/.julia/packages/InteractBase/LJXv3/src/../assets/style.css\"), WebIO.Asset(\"css\", nothing, \"/home/dushya/.julia/packages/Interact/PENUy/src/../assets/bulma_confined.min.css\")], Dict{Any, Any}(\"changes\" => Any[WebIO.JSString(\"(function (val){return (val!=this.model[\\\"changes\\\"]()) ? (this.valueFromJulia[\\\"changes\\\"]=true, this.model[\\\"changes\\\"](val)) : undefined})\")], \"index\" => Any[WebIO.JSString(\"(function (val){return (val!=this.model[\\\"index\\\"]()) ? (this.valueFromJulia[\\\"index\\\"]=true, this.model[\\\"index\\\"](val)) : undefined})\")]), WebIO.ConnectionPool(Channel{Any}(32), Set{WebIO.AbstractConnection}(), Base.GenericCondition{ReentrantLock}(Base.IntrusiveLinkedList{Task}(Task (runnable) @0x00007f0da206f850, Task (runnable) @0x00007f0da206f850), ReentrantLock(nothing, 0x00000000, 0x00, Base.GenericCondition{Base.Threads.SpinLock}(Base.IntrusiveLinkedList{Task}(nothing, nothing), Base.Threads.SpinLock(0)), (8, 139698354835664, 0)))), WebIO.JSString[WebIO.JSString(\"function () {\\n    var handler = (function (ko, koPunches) {\\n    ko.punches.enableAll();\\n    ko.bindingHandlers.numericValue = {\\n        init: function(element, valueAccessor, allBindings, data, context) {\\n            var stringified = ko.observable(ko.unwrap(valueAccessor()));\\n            stringified.subscribe(function(value) {\\n                var val = parseFloat(value);\\n                if (!isNaN(val)) {\\n                    valueAccessor()(val);\\n                }\\n            });\\n            valueAccessor().subscribe(function(value) {\\n                var str = JSON.stringify(value);\\n                if ((str == \\\"0\\\") && ([\\\"-0\\\", \\\"-0.\\\"].indexOf(stringified()) >= 0))\\n                     return;\\n                 if ([\\\"null\\\", \\\"\\\"].indexOf(str) >= 0)\\n                     return;\\n                stringified(str);\\n            });\\n            ko.applyBindingsToNode(\\n                element,\\n                {\\n                    value: stringified,\\n                    valueUpdate: allBindings.get('valueUpdate'),\\n                },\\n                context,\\n            );\\n        }\\n    };\\n    var json_data = {\\\"formatted_vals\\\":[\\\"0.01\\\",\\\"0.02\\\",\\\"0.03\\\",\\\"0.04\\\",\\\"0.05\\\",\\\"0.06\\\",\\\"0.07\\\",\\\"0.08\\\",\\\"0.09\\\",\\\"0.1\\\",\\\"0.11\\\",\\\"0.12\\\",\\\"0.13\\\",\\\"0.14\\\",\\\"0.15\\\",\\\"0.16\\\",\\\"0.17\\\",\\\"0.18\\\",\\\"0.19\\\",\\\"0.2\\\",\\\"0.21\\\",\\\"0.22\\\",\\\"0.23\\\",\\\"0.24\\\",\\\"0.25\\\",\\\"0.26\\\",\\\"0.27\\\",\\\"0.28\\\",\\\"0.29\\\",\\\"0.3\\\",\\\"0.31\\\",\\\"0.32\\\",\\\"0.33\\\",\\\"0.34\\\",\\\"0.35\\\",\\\"0.36\\\",\\\"0.37\\\",\\\"0.38\\\",\\\"0.39\\\",\\\"0.4\\\",\\\"0.41\\\",\\\"0.42\\\",\\\"0.43\\\",\\\"0.44\\\",\\\"0.45\\\",\\\"0.46\\\",\\\"0.47\\\",\\\"0.48\\\",\\\"0.49\\\",\\\"0.5\\\",\\\"0.51\\\",\\\"0.52\\\",\\\"0.53\\\",\\\"0.54\\\",\\\"0.55\\\",\\\"0.56\\\",\\\"0.57\\\",\\\"0.58\\\",\\\"0.59\\\",\\\"0.6\\\",\\\"0.61\\\",\\\"0.62\\\",\\\"0.63\\\",\\\"0.64\\\",\\\"0.65\\\",\\\"0.66\\\",\\\"0.67\\\",\\\"0.68\\\",\\\"0.69\\\",\\\"0.7\\\",\\\"0.71\\\",\\\"0.72\\\",\\\"0.73\\\",\\\"0.74\\\",\\\"0.75\\\",\\\"0.76\\\",\\\"0.77\\\",\\\"0.78\\\",\\\"0.79\\\",\\\"0.8\\\",\\\"0.81\\\",\\\"0.82\\\",\\\"0.83\\\",\\\"0.84\\\",\\\"0.85\\\",\\\"0.86\\\",\\\"0.87\\\",\\\"0.88\\\",\\\"0.89\\\",\\\"0.9\\\",\\\"0.91\\\",\\\"0.92\\\",\\\"0.93\\\",\\\"0.94\\\",\\\"0.95\\\",\\\"0.96\\\",\\\"0.97\\\",\\\"0.98\\\",\\\"0.99\\\",\\\"1.0\\\"],\\\"changes\\\":WebIO.getval({\\\"name\\\":\\\"changes\\\",\\\"scope\\\":\\\"11389994850929990858\\\",\\\"id\\\":\\\"12749272913445105922\\\",\\\"type\\\":\\\"observable\\\"}),\\\"index\\\":WebIO.getval({\\\"name\\\":\\\"index\\\",\\\"scope\\\":\\\"11389994850929990858\\\",\\\"id\\\":\\\"18278684331958496048\\\",\\\"type\\\":\\\"observable\\\"})};\\n    var self = this;\\n    function AppViewModel() {\\n        for (var key in json_data) {\\n            var el = json_data[key];\\n            this[key] = Array.isArray(el) ? ko.observableArray(el) : ko.observable(el);\\n        }\\n        \\n        [this[\\\"formatted_val\\\"]=ko.computed(    function(){\\n        return this.formatted_vals()[parseInt(this.index())-(1)];\\n    }\\n,this)]\\n        [this[\\\"changes\\\"].subscribe((function (val){!(this.valueFromJulia[\\\"changes\\\"]) ? (WebIO.setval({\\\"name\\\":\\\"changes\\\",\\\"scope\\\":\\\"11389994850929990858\\\",\\\"id\\\":\\\"12749272913445105922\\\",\\\"type\\\":\\\"observable\\\"},val)) : undefined; return this.valueFromJulia[\\\"changes\\\"]=false}),self),this[\\\"index\\\"].subscribe((function (val){!(this.valueFromJulia[\\\"index\\\"]) ? (WebIO.setval({\\\"name\\\":\\\"index\\\",\\\"scope\\\":\\\"11389994850929990858\\\",\\\"id\\\":\\\"18278684331958496048\\\",\\\"type\\\":\\\"observable\\\"},val)) : undefined; return this.valueFromJulia[\\\"index\\\"]=false}),self)]\\n        \\n    }\\n    self.model = new AppViewModel();\\n    self.valueFromJulia = {};\\n    for (var key in json_data) {\\n        self.valueFromJulia[key] = false;\\n    }\\n    ko.applyBindings(self.model, self.dom);\\n}\\n);\\n    (WebIO.importBlock({\\\"data\\\":[{\\\"name\\\":\\\"knockout\\\",\\\"type\\\":\\\"js\\\",\\\"url\\\":\\\"/assetserver/727383f2a47bd31570b7da84eee7b022dd6d7c78-knockout.js\\\"},{\\\"name\\\":\\\"knockout_punches\\\",\\\"type\\\":\\\"js\\\",\\\"url\\\":\\\"/assetserver/382b41b3b1bd9f26f75861d360bad7f8beea211f-knockout_punches.js\\\"}],\\\"type\\\":\\\"async_block\\\"})).then((imports) => handler.apply(this, imports));\\n}\\n\")])], Dict{Symbol, Any}(:className => \"field interact-widget\")), WebIO.Node{WebIO.DOM}(WebIO.DOM(:html, :div), Any[WebIO.Scope(WebIO.Node{WebIO.DOM}(WebIO.DOM(:html, :div), Any[WebIO.Node{WebIO.DOM}(WebIO.DOM(:html, :div), Any[WebIO.Node{WebIO.DOM}(WebIO.DOM(:html, :label), Any[\"initial_wolf_percent\"], Dict{Symbol, Any}(:className => \"interact \", :style => Dict{Any, Any}(:padding => \"5px 10px 0px 10px\")))], Dict{Symbol, Any}(:className => \"interact-flex-row-left\")), WebIO.Node{WebIO.DOM}(WebIO.DOM(:html, :div), Any[WebIO.Node{WebIO.DOM}(WebIO.DOM(:html, :input), Any[], Dict{Symbol, Any}(:max => 90, :min => 1, :attributes => Dict{Any, Any}(:type => \"range\", Symbol(\"data-bind\") => \"numericValue: index, valueUpdate: 'input', event: {change: function (){this.changes(this.changes()+1)}}\", \"orient\" => \"horizontal\"), :step => 1, :className => \"slider slider is-fullwidth\", :style => Dict{Any, Any}()))], Dict{Symbol, Any}(:className => \"interact-flex-row-center\")), WebIO.Node{WebIO.DOM}(WebIO.DOM(:html, :div), Any[WebIO.Node{WebIO.DOM}(WebIO.DOM(:html, :p), Any[], Dict{Symbol, Any}(:attributes => Dict(\"data-bind\" => \"text: formatted_val\")))], Dict{Symbol, Any}(:className => \"interact-flex-row-right\"))], Dict{Symbol, Any}(:className => \"interact-flex-row interact-widget\")), Dict{String, Tuple{Observables.AbstractObservable, Union{Nothing, Bool}}}(\"changes\" => (Observable(0), nothing), \"index\" => (Observable{Any}(45), nothing)), Set{String}(), nothing, WebIO.Asset[WebIO.Asset(\"js\", \"knockout\", \"/home/dushya/.julia/packages/Knockout/HReiN/src/../assets/knockout.js\"), WebIO.Asset(\"js\", \"knockout_punches\", \"/home/dushya/.julia/packages/Knockout/HReiN/src/../assets/knockout_punches.js\"), WebIO.Asset(\"js\", nothing, \"/home/dushya/.julia/packages/InteractBase/LJXv3/src/../assets/all.js\"), WebIO.Asset(\"css\", nothing, \"/home/dushya/.julia/packages/InteractBase/LJXv3/src/../assets/style.css\"), WebIO.Asset(\"css\", nothing, \"/home/dushya/.julia/packages/Interact/PENUy/src/../assets/bulma_confined.min.css\")], Dict{Any, Any}(\"changes\" => Any[WebIO.JSString(\"(function (val){return (val!=this.model[\\\"changes\\\"]()) ? (this.valueFromJulia[\\\"changes\\\"]=true, this.model[\\\"changes\\\"](val)) : undefined})\")], \"index\" => Any[WebIO.JSString(\"(function (val){return (val!=this.model[\\\"index\\\"]()) ? (this.valueFromJulia[\\\"index\\\"]=true, this.model[\\\"index\\\"](val)) : undefined})\")]), WebIO.ConnectionPool(Channel{Any}(32), Set{WebIO.AbstractConnection}(), Base.GenericCondition{ReentrantLock}(Base.IntrusiveLinkedList{Task}(Task (runnable) @0x00007f0da2f26400, Task (runnable) @0x00007f0da2f26400), ReentrantLock(nothing, 0x00000000, 0x00, Base.GenericCondition{Base.Threads.SpinLock}(Base.IntrusiveLinkedList{Task}(nothing, nothing), Base.Threads.SpinLock(0)), (1, 139696556967744, 139698476585872)))), WebIO.JSString[WebIO.JSString(\"function () {\\n    var handler = (function (ko, koPunches) {\\n    ko.punches.enableAll();\\n    ko.bindingHandlers.numericValue = {\\n        init: function(element, valueAccessor, allBindings, data, context) {\\n            var stringified = ko.observable(ko.unwrap(valueAccessor()));\\n            stringified.subscribe(function(value) {\\n                var val = parseFloat(value);\\n                if (!isNaN(val)) {\\n                    valueAccessor()(val);\\n                }\\n            });\\n            valueAccessor().subscribe(function(value) {\\n                var str = JSON.stringify(value);\\n                if ((str == \\\"0\\\") && ([\\\"-0\\\", \\\"-0.\\\"].indexOf(stringified()) >= 0))\\n                     return;\\n                 if ([\\\"null\\\", \\\"\\\"].indexOf(str) >= 0)\\n                     return;\\n                stringified(str);\\n            });\\n            ko.applyBindingsToNode(\\n                element,\\n                {\\n                    value: stringified,\\n                    valueUpdate: allBindings.get('valueUpdate'),\\n                },\\n                context,\\n            );\\n        }\\n    };\\n    var json_data = {\\\"formatted_vals\\\":[\\\"0.01\\\",\\\"0.02\\\",\\\"0.03\\\",\\\"0.04\\\",\\\"0.05\\\",\\\"0.06\\\",\\\"0.07\\\",\\\"0.08\\\",\\\"0.09\\\",\\\"0.1\\\",\\\"0.11\\\",\\\"0.12\\\",\\\"0.13\\\",\\\"0.14\\\",\\\"0.15\\\",\\\"0.16\\\",\\\"0.17\\\",\\\"0.18\\\",\\\"0.19\\\",\\\"0.2\\\",\\\"0.21\\\",\\\"0.22\\\",\\\"0.23\\\",\\\"0.24\\\",\\\"0.25\\\",\\\"0.26\\\",\\\"0.27\\\",\\\"0.28\\\",\\\"0.29\\\",\\\"0.3\\\",\\\"0.31\\\",\\\"0.32\\\",\\\"0.33\\\",\\\"0.34\\\",\\\"0.35\\\",\\\"0.36\\\",\\\"0.37\\\",\\\"0.38\\\",\\\"0.39\\\",\\\"0.4\\\",\\\"0.41\\\",\\\"0.42\\\",\\\"0.43\\\",\\\"0.44\\\",\\\"0.45\\\",\\\"0.46\\\",\\\"0.47\\\",\\\"0.48\\\",\\\"0.49\\\",\\\"0.5\\\",\\\"0.51\\\",\\\"0.52\\\",\\\"0.53\\\",\\\"0.54\\\",\\\"0.55\\\",\\\"0.56\\\",\\\"0.57\\\",\\\"0.58\\\",\\\"0.59\\\",\\\"0.6\\\",\\\"0.61\\\",\\\"0.62\\\",\\\"0.63\\\",\\\"0.64\\\",\\\"0.65\\\",\\\"0.66\\\",\\\"0.67\\\",\\\"0.68\\\",\\\"0.69\\\",\\\"0.7\\\",\\\"0.71\\\",\\\"0.72\\\",\\\"0.73\\\",\\\"0.74\\\",\\\"0.75\\\",\\\"0.76\\\",\\\"0.77\\\",\\\"0.78\\\",\\\"0.79\\\",\\\"0.8\\\",\\\"0.81\\\",\\\"0.82\\\",\\\"0.83\\\",\\\"0.84\\\",\\\"0.85\\\",\\\"0.86\\\",\\\"0.87\\\",\\\"0.88\\\",\\\"0.89\\\",\\\"0.9\\\"],\\\"changes\\\":WebIO.getval({\\\"name\\\":\\\"changes\\\",\\\"scope\\\":\\\"270164881063481206\\\",\\\"id\\\":\\\"9472066984359219271\\\",\\\"type\\\":\\\"observable\\\"}),\\\"index\\\":WebIO.getval({\\\"name\\\":\\\"index\\\",\\\"scope\\\":\\\"270164881063481206\\\",\\\"id\\\":\\\"7232231715861994109\\\",\\\"type\\\":\\\"observable\\\"})};\\n    var self = this;\\n    function AppViewModel() {\\n        for (var key in json_data) {\\n            var el = json_data[key];\\n            this[key] = Array.isArray(el) ? ko.observableArray(el) : ko.observable(el);\\n        }\\n        \\n        [this[\\\"formatted_val\\\"]=ko.computed(    function(){\\n        return this.formatted_vals()[parseInt(this.index())-(1)];\\n    }\\n,this)]\\n        [this[\\\"changes\\\"].subscribe((function (val){!(this.valueFromJulia[\\\"changes\\\"]) ? (WebIO.setval({\\\"name\\\":\\\"changes\\\",\\\"scope\\\":\\\"270164881063481206\\\",\\\"id\\\":\\\"9472066984359219271\\\",\\\"type\\\":\\\"observable\\\"},val)) : undefined; return this.valueFromJulia[\\\"changes\\\"]=false}),self),this[\\\"index\\\"].subscribe((function (val){!(this.valueFromJulia[\\\"index\\\"]) ? (WebIO.setval({\\\"name\\\":\\\"index\\\",\\\"scope\\\":\\\"270164881063481206\\\",\\\"id\\\":\\\"7232231715861994109\\\",\\\"type\\\":\\\"observable\\\"},val)) : undefined; return this.valueFromJulia[\\\"index\\\"]=false}),self)]\\n        \\n    }\\n    self.model = new AppViewModel();\\n    self.valueFromJulia = {};\\n    for (var key in json_data) {\\n        self.valueFromJulia[key] = false;\\n    }\\n    ko.applyBindings(self.model, self.dom);\\n}\\n);\\n    (WebIO.importBlock({\\\"data\\\":[{\\\"name\\\":\\\"knockout\\\",\\\"type\\\":\\\"js\\\",\\\"url\\\":\\\"/assetserver/727383f2a47bd31570b7da84eee7b022dd6d7c78-knockout.js\\\"},{\\\"name\\\":\\\"knockout_punches\\\",\\\"type\\\":\\\"js\\\",\\\"url\\\":\\\"/assetserver/382b41b3b1bd9f26f75861d360bad7f8beea211f-knockout_punches.js\\\"}],\\\"type\\\":\\\"async_block\\\"})).then((imports) => handler.apply(this, imports));\\n}\\n\")])], Dict{Symbol, Any}(:className => \"field interact-widget\")), WebIO.Node{WebIO.DOM}(WebIO.DOM(:html, :div), Any[WebIO.Scope(WebIO.Node{WebIO.DOM}(WebIO.DOM(:html, :div), Any[WebIO.Node{WebIO.DOM}(WebIO.DOM(:html, :div), Any[WebIO.Node{WebIO.DOM}(WebIO.DOM(:html, :label), Any[\"wolves_kill_ability\"], Dict{Symbol, Any}(:className => \"interact \", :style => Dict{Any, Any}(:padding => \"5px 10px 0px 10px\")))], Dict{Symbol, Any}(:className => \"interact-flex-row-left\")), WebIO.Node{WebIO.DOM}(WebIO.DOM(:html, :div), Any[WebIO.Node{WebIO.DOM}(WebIO.DOM(:html, :input), Any[], Dict{Symbol, Any}(:max => 100, :min => 1, :attributes => Dict{Any, Any}(:type => \"range\", Symbol(\"data-bind\") => \"numericValue: index, valueUpdate: 'input', event: {change: function (){this.changes(this.changes()+1)}}\", \"orient\" => \"horizontal\"), :step => 1, :className => \"slider slider is-fullwidth\", :style => Dict{Any, Any}()))], Dict{Symbol, Any}(:className => \"interact-flex-row-center\")), WebIO.Node{WebIO.DOM}(WebIO.DOM(:html, :div), Any[WebIO.Node{WebIO.DOM}(WebIO.DOM(:html, :p), Any[], Dict{Symbol, Any}(:attributes => Dict(\"data-bind\" => \"text: formatted_val\")))], Dict{Symbol, Any}(:className => \"interact-flex-row-right\"))], Dict{Symbol, Any}(:className => \"interact-flex-row interact-widget\")), Dict{String, Tuple{Observables.AbstractObservable, Union{Nothing, Bool}}}(\"changes\" => (Observable(0), nothing), \"index\" => (Observable{Any}(50), nothing)), Set{String}(), nothing, WebIO.Asset[WebIO.Asset(\"js\", \"knockout\", \"/home/dushya/.julia/packages/Knockout/HReiN/src/../assets/knockout.js\"), WebIO.Asset(\"js\", \"knockout_punches\", \"/home/dushya/.julia/packages/Knockout/HReiN/src/../assets/knockout_punches.js\"), WebIO.Asset(\"js\", nothing, \"/home/dushya/.julia/packages/InteractBase/LJXv3/src/../assets/all.js\"), WebIO.Asset(\"css\", nothing, \"/home/dushya/.julia/packages/InteractBase/LJXv3/src/../assets/style.css\"), WebIO.Asset(\"css\", nothing, \"/home/dushya/.julia/packages/Interact/PENUy/src/../assets/bulma_confined.min.css\")], Dict{Any, Any}(\"changes\" => Any[WebIO.JSString(\"(function (val){return (val!=this.model[\\\"changes\\\"]()) ? (this.valueFromJulia[\\\"changes\\\"]=true, this.model[\\\"changes\\\"](val)) : undefined})\")], \"index\" => Any[WebIO.JSString(\"(function (val){return (val!=this.model[\\\"index\\\"]()) ? (this.valueFromJulia[\\\"index\\\"]=true, this.model[\\\"index\\\"](val)) : undefined})\")]), WebIO.ConnectionPool(Channel{Any}(32), Set{WebIO.AbstractConnection}(), Base.GenericCondition{ReentrantLock}(Base.IntrusiveLinkedList{Task}(Task (runnable) @0x00007f0da3148e20, Task (runnable) @0x00007f0da3148e20), ReentrantLock(nothing, 0x00000000, 0x00, Base.GenericCondition{Base.Threads.SpinLock}(Base.IntrusiveLinkedList{Task}(nothing, nothing), Base.Threads.SpinLock(0)), (8, 105553116266608, 0)))), WebIO.JSString[WebIO.JSString(\"function () {\\n    var handler = (function (ko, koPunches) {\\n    ko.punches.enableAll();\\n    ko.bindingHandlers.numericValue = {\\n        init: function(element, valueAccessor, allBindings, data, context) {\\n            var stringified = ko.observable(ko.unwrap(valueAccessor()));\\n            stringified.subscribe(function(value) {\\n                var val = parseFloat(value);\\n                if (!isNaN(val)) {\\n                    valueAccessor()(val);\\n                }\\n            });\\n            valueAccessor().subscribe(function(value) {\\n                var str = JSON.stringify(value);\\n                if ((str == \\\"0\\\") && ([\\\"-0\\\", \\\"-0.\\\"].indexOf(stringified()) >= 0))\\n                     return;\\n                 if ([\\\"null\\\", \\\"\\\"].indexOf(str) >= 0)\\n                     return;\\n                stringified(str);\\n            });\\n            ko.applyBindingsToNode(\\n                element,\\n                {\\n                    value: stringified,\\n                    valueUpdate: allBindings.get('valueUpdate'),\\n                },\\n                context,\\n            );\\n        }\\n    };\\n    var json_data = {\\\"formatted_vals\\\":[\\\"0.01\\\",\\\"0.02\\\",\\\"0.03\\\",\\\"0.04\\\",\\\"0.05\\\",\\\"0.06\\\",\\\"0.07\\\",\\\"0.08\\\",\\\"0.09\\\",\\\"0.1\\\",\\\"0.11\\\",\\\"0.12\\\",\\\"0.13\\\",\\\"0.14\\\",\\\"0.15\\\",\\\"0.16\\\",\\\"0.17\\\",\\\"0.18\\\",\\\"0.19\\\",\\\"0.2\\\",\\\"0.21\\\",\\\"0.22\\\",\\\"0.23\\\",\\\"0.24\\\",\\\"0.25\\\",\\\"0.26\\\",\\\"0.27\\\",\\\"0.28\\\",\\\"0.29\\\",\\\"0.3\\\",\\\"0.31\\\",\\\"0.32\\\",\\\"0.33\\\",\\\"0.34\\\",\\\"0.35\\\",\\\"0.36\\\",\\\"0.37\\\",\\\"0.38\\\",\\\"0.39\\\",\\\"0.4\\\",\\\"0.41\\\",\\\"0.42\\\",\\\"0.43\\\",\\\"0.44\\\",\\\"0.45\\\",\\\"0.46\\\",\\\"0.47\\\",\\\"0.48\\\",\\\"0.49\\\",\\\"0.5\\\",\\\"0.51\\\",\\\"0.52\\\",\\\"0.53\\\",\\\"0.54\\\",\\\"0.55\\\",\\\"0.56\\\",\\\"0.57\\\",\\\"0.58\\\",\\\"0.59\\\",\\\"0.6\\\",\\\"0.61\\\",\\\"0.62\\\",\\\"0.63\\\",\\\"0.64\\\",\\\"0.65\\\",\\\"0.66\\\",\\\"0.67\\\",\\\"0.68\\\",\\\"0.69\\\",\\\"0.7\\\",\\\"0.71\\\",\\\"0.72\\\",\\\"0.73\\\",\\\"0.74\\\",\\\"0.75\\\",\\\"0.76\\\",\\\"0.77\\\",\\\"0.78\\\",\\\"0.79\\\",\\\"0.8\\\",\\\"0.81\\\",\\\"0.82\\\",\\\"0.83\\\",\\\"0.84\\\",\\\"0.85\\\",\\\"0.86\\\",\\\"0.87\\\",\\\"0.88\\\",\\\"0.89\\\",\\\"0.9\\\",\\\"0.91\\\",\\\"0.92\\\",\\\"0.93\\\",\\\"0.94\\\",\\\"0.95\\\",\\\"0.96\\\",\\\"0.97\\\",\\\"0.98\\\",\\\"0.99\\\",\\\"1.0\\\"],\\\"changes\\\":WebIO.getval({\\\"name\\\":\\\"changes\\\",\\\"scope\\\":\\\"17019113991100914402\\\",\\\"id\\\":\\\"15535319243614497782\\\",\\\"type\\\":\\\"observable\\\"}),\\\"index\\\":WebIO.getval({\\\"name\\\":\\\"index\\\",\\\"scope\\\":\\\"17019113991100914402\\\",\\\"id\\\":\\\"11360221027600486449\\\",\\\"type\\\":\\\"observable\\\"})};\\n    var self = this;\\n    function AppViewModel() {\\n        for (var key in json_data) {\\n            var el = json_data[key];\\n            this[key] = Array.isArray(el) ? ko.observableArray(el) : ko.observable(el);\\n        }\\n        \\n        [this[\\\"formatted_val\\\"]=ko.computed(    function(){\\n        return this.formatted_vals()[parseInt(this.index())-(1)];\\n    }\\n,this)]\\n        [this[\\\"changes\\\"].subscribe((function (val){!(this.valueFromJulia[\\\"changes\\\"]) ? (WebIO.setval({\\\"name\\\":\\\"changes\\\",\\\"scope\\\":\\\"17019113991100914402\\\",\\\"id\\\":\\\"15535319243614497782\\\",\\\"type\\\":\\\"observable\\\"},val)) : undefined; return this.valueFromJulia[\\\"changes\\\"]=false}),self),this[\\\"index\\\"].subscribe((function (val){!(this.valueFromJulia[\\\"index\\\"]) ? (WebIO.setval({\\\"name\\\":\\\"index\\\",\\\"scope\\\":\\\"17019113991100914402\\\",\\\"id\\\":\\\"11360221027600486449\\\",\\\"type\\\":\\\"observable\\\"},val)) : undefined; return this.valueFromJulia[\\\"index\\\"]=false}),self)]\\n        \\n    }\\n    self.model = new AppViewModel();\\n    self.valueFromJulia = {};\\n    for (var key in json_data) {\\n        self.valueFromJulia[key] = false;\\n    }\\n    ko.applyBindings(self.model, self.dom);\\n}\\n);\\n    (WebIO.importBlock({\\\"data\\\":[{\\\"name\\\":\\\"knockout\\\",\\\"type\\\":\\\"js\\\",\\\"url\\\":\\\"/assetserver/727383f2a47bd31570b7da84eee7b022dd6d7c78-knockout.js\\\"},{\\\"name\\\":\\\"knockout_punches\\\",\\\"type\\\":\\\"js\\\",\\\"url\\\":\\\"/assetserver/382b41b3b1bd9f26f75861d360bad7f8beea211f-knockout_punches.js\\\"}],\\\"type\\\":\\\"async_block\\\"})).then((imports) => handler.apply(this, imports));\\n}\\n\")])], Dict{Symbol, Any}(:className => \"field interact-widget\")), WebIO.Node{WebIO.DOM}(WebIO.DOM(:html, :div), Any[WebIO.Scope(WebIO.Node{WebIO.DOM}(WebIO.DOM(:html, :div), Any[WebIO.Node{WebIO.DOM}(WebIO.DOM(:html, :div), Any[WebIO.Node{WebIO.DOM}(WebIO.DOM(:html, :label), Any[\"grass_grow_prob\"], Dict{Symbol, Any}(:className => \"interact \", :style => Dict{Any, Any}(:padding => \"5px 10px 0px 10px\")))], Dict{Symbol, Any}(:className => \"interact-flex-row-left\")), WebIO.Node{WebIO.DOM}(WebIO.DOM(:html, :div), Any[WebIO.Node{WebIO.DOM}(WebIO.DOM(:html, :input), Any[], Dict{Symbol, Any}(:max => 50, :min => 1, :attributes => Dict{Any, Any}(:type => \"range\", Symbol(\"data-bind\") => \"numericValue: index, valueUpdate: 'input', event: {change: function (){this.changes(this.changes()+1)}}\", \"orient\" => \"horizontal\"), :step => 1, :className => \"slider slider is-fullwidth\", :style => Dict{Any, Any}()))], Dict{Symbol, Any}(:className => \"interact-flex-row-center\")), WebIO.Node{WebIO.DOM}(WebIO.DOM(:html, :div), Any[WebIO.Node{WebIO.DOM}(WebIO.DOM(:html, :p), Any[], Dict{Symbol, Any}(:attributes => Dict(\"data-bind\" => \"text: formatted_val\")))], Dict{Symbol, Any}(:className => \"interact-flex-row-right\"))], Dict{Symbol, Any}(:className => \"interact-flex-row interact-widget\")), Dict{String, Tuple{Observables.AbstractObservable, Union{Nothing, Bool}}}(\"changes\" => (Observable(0), nothing), \"index\" => (Observable{Any}(25), nothing)), Set{String}(), nothing, WebIO.Asset[WebIO.Asset(\"js\", \"knockout\", \"/home/dushya/.julia/packages/Knockout/HReiN/src/../assets/knockout.js\"), WebIO.Asset(\"js\", \"knockout_punches\", \"/home/dushya/.julia/packages/Knockout/HReiN/src/../assets/knockout_punches.js\"), WebIO.Asset(\"js\", nothing, \"/home/dushya/.julia/packages/InteractBase/LJXv3/src/../assets/all.js\"), WebIO.Asset(\"css\", nothing, \"/home/dushya/.julia/packages/InteractBase/LJXv3/src/../assets/style.css\"), WebIO.Asset(\"css\", nothing, \"/home/dushya/.julia/packages/Interact/PENUy/src/../assets/bulma_confined.min.css\")], Dict{Any, Any}(\"changes\" => Any[WebIO.JSString(\"(function (val){return (val!=this.model[\\\"changes\\\"]()) ? (this.valueFromJulia[\\\"changes\\\"]=true, this.model[\\\"changes\\\"](val)) : undefined})\")], \"index\" => Any[WebIO.JSString(\"(function (val){return (val!=this.model[\\\"index\\\"]()) ? (this.valueFromJulia[\\\"index\\\"]=true, this.model[\\\"index\\\"](val)) : undefined})\")]), WebIO.ConnectionPool(Channel{Any}(32), Set{WebIO.AbstractConnection}(), Base.GenericCondition{ReentrantLock}(Base.IntrusiveLinkedList{Task}(Task (runnable) @0x00007f0da314b9e0, Task (runnable) @0x00007f0da314b9e0), ReentrantLock(nothing, 0x00000000, 0x00, Base.GenericCondition{Base.Threads.SpinLock}(Base.IntrusiveLinkedList{Task}(nothing, nothing), Base.Threads.SpinLock(0)), (0, 139698271622144, 0)))), WebIO.JSString[WebIO.JSString(\"function () {\\n    var handler = (function (ko, koPunches) {\\n    ko.punches.enableAll();\\n    ko.bindingHandlers.numericValue = {\\n        init: function(element, valueAccessor, allBindings, data, context) {\\n            var stringified = ko.observable(ko.unwrap(valueAccessor()));\\n            stringified.subscribe(function(value) {\\n                var val = parseFloat(value);\\n                if (!isNaN(val)) {\\n                    valueAccessor()(val);\\n                }\\n            });\\n            valueAccessor().subscribe(function(value) {\\n                var str = JSON.stringify(value);\\n                if ((str == \\\"0\\\") && ([\\\"-0\\\", \\\"-0.\\\"].indexOf(stringified()) >= 0))\\n                     return;\\n                 if ([\\\"null\\\", \\\"\\\"].indexOf(str) >= 0)\\n                     return;\\n                stringified(str);\\n            });\\n            ko.applyBindingsToNode(\\n                element,\\n                {\\n                    value: stringified,\\n                    valueUpdate: allBindings.get('valueUpdate'),\\n                },\\n                context,\\n            );\\n        }\\n    };\\n    var json_data = {\\\"formatted_vals\\\":[\\\"0.01\\\",\\\"0.02\\\",\\\"0.03\\\",\\\"0.04\\\",\\\"0.05\\\",\\\"0.06\\\",\\\"0.07\\\",\\\"0.08\\\",\\\"0.09\\\",\\\"0.1\\\",\\\"0.11\\\",\\\"0.12\\\",\\\"0.13\\\",\\\"0.14\\\",\\\"0.15\\\",\\\"0.16\\\",\\\"0.17\\\",\\\"0.18\\\",\\\"0.19\\\",\\\"0.2\\\",\\\"0.21\\\",\\\"0.22\\\",\\\"0.23\\\",\\\"0.24\\\",\\\"0.25\\\",\\\"0.26\\\",\\\"0.27\\\",\\\"0.28\\\",\\\"0.29\\\",\\\"0.3\\\",\\\"0.31\\\",\\\"0.32\\\",\\\"0.33\\\",\\\"0.34\\\",\\\"0.35\\\",\\\"0.36\\\",\\\"0.37\\\",\\\"0.38\\\",\\\"0.39\\\",\\\"0.4\\\",\\\"0.41\\\",\\\"0.42\\\",\\\"0.43\\\",\\\"0.44\\\",\\\"0.45\\\",\\\"0.46\\\",\\\"0.47\\\",\\\"0.48\\\",\\\"0.49\\\",\\\"0.5\\\"],\\\"changes\\\":WebIO.getval({\\\"name\\\":\\\"changes\\\",\\\"scope\\\":\\\"4259068469343320209\\\",\\\"id\\\":\\\"155771448808496497\\\",\\\"type\\\":\\\"observable\\\"}),\\\"index\\\":WebIO.getval({\\\"name\\\":\\\"index\\\",\\\"scope\\\":\\\"4259068469343320209\\\",\\\"id\\\":\\\"12701695009466413190\\\",\\\"type\\\":\\\"observable\\\"})};\\n    var self = this;\\n    function AppViewModel() {\\n        for (var key in json_data) {\\n            var el = json_data[key];\\n            this[key] = Array.isArray(el) ? ko.observableArray(el) : ko.observable(el);\\n        }\\n        \\n        [this[\\\"formatted_val\\\"]=ko.computed(    function(){\\n        return this.formatted_vals()[parseInt(this.index())-(1)];\\n    }\\n,this)]\\n        [this[\\\"changes\\\"].subscribe((function (val){!(this.valueFromJulia[\\\"changes\\\"]) ? (WebIO.setval({\\\"name\\\":\\\"changes\\\",\\\"scope\\\":\\\"4259068469343320209\\\",\\\"id\\\":\\\"155771448808496497\\\",\\\"type\\\":\\\"observable\\\"},val)) : undefined; return this.valueFromJulia[\\\"changes\\\"]=false}),self),this[\\\"index\\\"].subscribe((function (val){!(this.valueFromJulia[\\\"index\\\"]) ? (WebIO.setval({\\\"name\\\":\\\"index\\\",\\\"scope\\\":\\\"4259068469343320209\\\",\\\"id\\\":\\\"12701695009466413190\\\",\\\"type\\\":\\\"observable\\\"},val)) : undefined; return this.valueFromJulia[\\\"index\\\"]=false}),self)]\\n        \\n    }\\n    self.model = new AppViewModel();\\n    self.valueFromJulia = {};\\n    for (var key in json_data) {\\n        self.valueFromJulia[key] = false;\\n    }\\n    ko.applyBindings(self.model, self.dom);\\n}\\n);\\n    (WebIO.importBlock({\\\"data\\\":[{\\\"name\\\":\\\"knockout\\\",\\\"type\\\":\\\"js\\\",\\\"url\\\":\\\"/assetserver/727383f2a47bd31570b7da84eee7b022dd6d7c78-knockout.js\\\"},{\\\"name\\\":\\\"knockout_punches\\\",\\\"type\\\":\\\"js\\\",\\\"url\\\":\\\"/assetserver/382b41b3b1bd9f26f75861d360bad7f8beea211f-knockout_punches.js\\\"}],\\\"type\\\":\\\"async_block\\\"})).then((imports) => handler.apply(this, imports));\\n}\\n\")])], Dict{Symbol, Any}(:className => \"field interact-widget\"))], Dict{Symbol, Any}(:style => Dict(\"display\" => \"flex\", \"flex-direction\" => \"column\"))), WebIO.Node{WebIO.DOM}(WebIO.DOM(:html, :div), Any[WebIO.Node{WebIO.DOM}(WebIO.DOM(:html, :div), Any[WebIO.Scope(WebIO.Node{WebIO.DOM}(WebIO.DOM(:html, :div), Any[], Dict{Symbol, Any}(:id => \"container\")), Dict{String, Tuple{Observables.AbstractObservable, Union{Nothing, Bool}}}(\"value\" => (Observable(\"\\\\;\\\\;\"), nothing)), Set{String}(), nothing, WebIO.Asset[WebIO.Asset(\"js\", nothing, \"/home/dushya/.julia/packages/InteractBase/LJXv3/src/../assets/katex.min.js\"), WebIO.Asset(\"css\", nothing, \"/home/dushya/.julia/packages/InteractBase/LJXv3/src/../assets/katex.min.css\")], Dict{Any, Any}(\"value\" => Any[WebIO.JSString(\"(function (txt){return this.k.render(txt,this.container)})\")]), WebIO.ConnectionPool(Channel{Any}(32), Set{WebIO.AbstractConnection}(), Base.GenericCondition{ReentrantLock}(Base.IntrusiveLinkedList{Task}(Task (runnable) @0x00007f0e14a95910, Task (runnable) @0x00007f0e14a95910), ReentrantLock(nothing, 0x00000000, 0x00, Base.GenericCondition{Base.Threads.SpinLock}(Base.IntrusiveLinkedList{Task}(nothing, nothing), Base.Threads.SpinLock(0)), (0, 0, 141733920768)))), WebIO.JSString[WebIO.JSString(\"function () {\\n    var handler = ((function (k){this.k=k; this.container=this.dom.querySelector(\\\"#container\\\"); return k.render(\\\"\\\\\\\\;\\\\\\\\;\\\",this.container)}));\\n    (WebIO.importBlock({\\\"data\\\":[{\\\"name\\\":null,\\\"type\\\":\\\"js\\\",\\\"url\\\":\\\"/assetserver/dd22ed1bf1896c2748f3fe616ce0b838adc895c1-katex.min.js\\\"},{\\\"name\\\":null,\\\"type\\\":\\\"css\\\",\\\"url\\\":\\\"/assetserver/46517a424aa5e6cffc1360d7e0848b601c584ee3-katex.min.css\\\"}],\\\"type\\\":\\\"async_block\\\"})).then((imports) => handler.apply(this, imports));\\n}\\n\")])], Dict{Symbol, Any}(:className => \"interact-widget\")), WebIO.Node{WebIO.DOM}(WebIO.DOM(:html, :div), Any[WebIO.Scope(WebIO.Node{WebIO.DOM}(WebIO.DOM(:html, :button), Any[\"run\"], Dict{Symbol, Any}(:attributes => Dict{Any, Any}(\"data-bind\" => \"click: function (){this.clicks(this.clicks()+1)}, css: {'is-loading' : loading}\"), :className => \"is-medium button is-primary\", :style => Dict{String, Any}())), Dict{String, Tuple{Observables.AbstractObservable, Union{Nothing, Bool}}}(\"loading\" => (Observable(false), nothing), \"clicks\" => (Observable(0), nothing)), Set{String}(), nothing, WebIO.Asset[WebIO.Asset(\"js\", \"knockout\", \"/home/dushya/.julia/packages/Knockout/HReiN/src/../assets/knockout.js\"), WebIO.Asset(\"js\", \"knockout_punches\", \"/home/dushya/.julia/packages/Knockout/HReiN/src/../assets/knockout_punches.js\"), WebIO.Asset(\"js\", nothing, \"/home/dushya/.julia/packages/InteractBase/LJXv3/src/../assets/all.js\"), WebIO.Asset(\"css\", nothing, \"/home/dushya/.julia/packages/InteractBase/LJXv3/src/../assets/style.css\"), WebIO.Asset(\"css\", nothing, \"/home/dushya/.julia/packages/Interact/PENUy/src/../assets/bulma_confined.min.css\")], Dict{Any, Any}(\"loading\" => Any[WebIO.JSString(\"(function (val){return (val!=this.model[\\\"loading\\\"]()) ? (this.valueFromJulia[\\\"loading\\\"]=true, this.model[\\\"loading\\\"](val)) : undefined})\")], \"clicks\" => Any[WebIO.JSString(\"(function (val){return (val!=this.model[\\\"clicks\\\"]()) ? (this.valueFromJulia[\\\"clicks\\\"]=true, this.model[\\\"clicks\\\"](val)) : undefined})\")]), WebIO.ConnectionPool(Channel{Any}(32), Set{WebIO.AbstractConnection}(), Base.GenericCondition{ReentrantLock}(Base.IntrusiveLinkedList{Task}(Task (runnable) @0x00007f0da392a270, Task (runnable) @0x00007f0da392a270), ReentrantLock(nothing, 0x00000000, 0x00, Base.GenericCondition{Base.Threads.SpinLock}(Base.IntrusiveLinkedList{Task}(nothing, nothing), Base.Threads.SpinLock(0)), (4, 139639587369072, 141733920768)))), WebIO.JSString[WebIO.JSString(\"function () {\\n    var handler = (function (ko, koPunches) {\\n    ko.punches.enableAll();\\n    ko.bindingHandlers.numericValue = {\\n        init: function(element, valueAccessor, allBindings, data, context) {\\n            var stringified = ko.observable(ko.unwrap(valueAccessor()));\\n            stringified.subscribe(function(value) {\\n                var val = parseFloat(value);\\n                if (!isNaN(val)) {\\n                    valueAccessor()(val);\\n                }\\n            });\\n            valueAccessor().subscribe(function(value) {\\n                var str = JSON.stringify(value);\\n                if ((str == \\\"0\\\") && ([\\\"-0\\\", \\\"-0.\\\"].indexOf(stringified()) >= 0))\\n                     return;\\n                 if ([\\\"null\\\", \\\"\\\"].indexOf(str) >= 0)\\n                     return;\\n                stringified(str);\\n            });\\n            ko.applyBindingsToNode(\\n                element,\\n                {\\n                    value: stringified,\\n                    valueUpdate: allBindings.get('valueUpdate'),\\n                },\\n                context,\\n            );\\n        }\\n    };\\n    var json_data = {\\\"loading\\\":WebIO.getval({\\\"name\\\":\\\"loading\\\",\\\"scope\\\":\\\"8513466251423213740\\\",\\\"id\\\":\\\"17022517439261398320\\\",\\\"type\\\":\\\"observable\\\"}),\\\"clicks\\\":WebIO.getval({\\\"name\\\":\\\"clicks\\\",\\\"scope\\\":\\\"8513466251423213740\\\",\\\"id\\\":\\\"5498359209428155834\\\",\\\"type\\\":\\\"observable\\\"})};\\n    var self = this;\\n    function AppViewModel() {\\n        for (var key in json_data) {\\n            var el = json_data[key];\\n            this[key] = Array.isArray(el) ? ko.observableArray(el) : ko.observable(el);\\n        }\\n        \\n        \\n        [this[\\\"loading\\\"].subscribe((function (val){!(this.valueFromJulia[\\\"loading\\\"]) ? (WebIO.setval({\\\"name\\\":\\\"loading\\\",\\\"scope\\\":\\\"8513466251423213740\\\",\\\"id\\\":\\\"17022517439261398320\\\",\\\"type\\\":\\\"observable\\\"},val)) : undefined; return this.valueFromJulia[\\\"loading\\\"]=false}),self),this[\\\"clicks\\\"].subscribe((function (val){!(this.valueFromJulia[\\\"clicks\\\"]) ? (WebIO.setval({\\\"name\\\":\\\"clicks\\\",\\\"scope\\\":\\\"8513466251423213740\\\",\\\"id\\\":\\\"5498359209428155834\\\",\\\"type\\\":\\\"observable\\\"},val)) : undefined; return this.valueFromJulia[\\\"clicks\\\"]=false}),self)]\\n        \\n    }\\n    self.model = new AppViewModel();\\n    self.valueFromJulia = {};\\n    for (var key in json_data) {\\n        self.valueFromJulia[key] = false;\\n    }\\n    ko.applyBindings(self.model, self.dom);\\n}\\n);\\n    (WebIO.importBlock({\\\"data\\\":[{\\\"name\\\":\\\"knockout\\\",\\\"type\\\":\\\"js\\\",\\\"url\\\":\\\"/assetserver/727383f2a47bd31570b7da84eee7b022dd6d7c78-knockout.js\\\"},{\\\"name\\\":\\\"knockout_punches\\\",\\\"type\\\":\\\"js\\\",\\\"url\\\":\\\"/assetserver/382b41b3b1bd9f26f75861d360bad7f8beea211f-knockout_punches.js\\\"}],\\\"type\\\":\\\"async_block\\\"})).then((imports) => handler.apply(this, imports));\\n}\\n\")])], Dict{Symbol, Any}(:className => \"field interact-widget\")), WebIO.Node{WebIO.DOM}(WebIO.DOM(:html, :div), Any[WebIO.Scope(WebIO.Node{WebIO.DOM}(WebIO.DOM(:html, :div), Any[], Dict{Symbol, Any}(:id => \"container\")), Dict{String, Tuple{Observables.AbstractObservable, Union{Nothing, Bool}}}(\"value\" => (Observable(\"\\\\;\\\\;\"), nothing)), Set{String}(), nothing, WebIO.Asset[WebIO.Asset(\"js\", nothing, \"/home/dushya/.julia/packages/InteractBase/LJXv3/src/../assets/katex.min.js\"), WebIO.Asset(\"css\", nothing, \"/home/dushya/.julia/packages/InteractBase/LJXv3/src/../assets/katex.min.css\")], Dict{Any, Any}(\"value\" => Any[WebIO.JSString(\"(function (txt){return this.k.render(txt,this.container)})\")]), WebIO.ConnectionPool(Channel{Any}(32), Set{WebIO.AbstractConnection}(), Base.GenericCondition{ReentrantLock}(Base.IntrusiveLinkedList{Task}(Task (runnable) @0x00007f0e14a95910, Task (runnable) @0x00007f0e14a95910), ReentrantLock(nothing, 0x00000000, 0x00, Base.GenericCondition{Base.Threads.SpinLock}(Base.IntrusiveLinkedList{Task}(nothing, nothing), Base.Threads.SpinLock(0)), (0, 0, 141733920768)))), WebIO.JSString[WebIO.JSString(\"function () {\\n    var handler = ((function (k){this.k=k; this.container=this.dom.querySelector(\\\"#container\\\"); return k.render(\\\"\\\\\\\\;\\\\\\\\;\\\",this.container)}));\\n    (WebIO.importBlock({\\\"data\\\":[{\\\"name\\\":null,\\\"type\\\":\\\"js\\\",\\\"url\\\":\\\"/assetserver/dd22ed1bf1896c2748f3fe616ce0b838adc895c1-katex.min.js\\\"},{\\\"name\\\":null,\\\"type\\\":\\\"css\\\",\\\"url\\\":\\\"/assetserver/46517a424aa5e6cffc1360d7e0848b601c584ee3-katex.min.css\\\"}],\\\"type\\\":\\\"async_block\\\"})).then((imports) => handler.apply(this, imports));\\n}\\n\")])], Dict{Symbol, Any}(:className => \"interact-widget\")), WebIO.Node{WebIO.DOM}(WebIO.DOM(:html, :div), Any[WebIO.Scope(WebIO.Node{WebIO.DOM}(WebIO.DOM(:html, :button), Any[\"stop\"], Dict{Symbol, Any}(:attributes => Dict{Any, Any}(\"data-bind\" => \"click: function (){this.clicks(this.clicks()+1)}, css: {'is-loading' : loading}\"), :className => \"is-medium button is-primary\", :style => Dict{String, Any}())), Dict{String, Tuple{Observables.AbstractObservable, Union{Nothing, Bool}}}(\"loading\" => (Observable(false), nothing), \"clicks\" => (Observable(0), nothing)), Set{String}(), nothing, WebIO.Asset[WebIO.Asset(\"js\", \"knockout\", \"/home/dushya/.julia/packages/Knockout/HReiN/src/../assets/knockout.js\"), WebIO.Asset(\"js\", \"knockout_punches\", \"/home/dushya/.julia/packages/Knockout/HReiN/src/../assets/knockout_punches.js\"), WebIO.Asset(\"js\", nothing, \"/home/dushya/.julia/packages/InteractBase/LJXv3/src/../assets/all.js\"), WebIO.Asset(\"css\", nothing, \"/home/dushya/.julia/packages/InteractBase/LJXv3/src/../assets/style.css\"), WebIO.Asset(\"css\", nothing, \"/home/dushya/.julia/packages/Interact/PENUy/src/../assets/bulma_confined.min.css\")], Dict{Any, Any}(\"loading\" => Any[WebIO.JSString(\"(function (val){return (val!=this.model[\\\"loading\\\"]()) ? (this.valueFromJulia[\\\"loading\\\"]=true, this.model[\\\"loading\\\"](val)) : undefined})\")], \"clicks\" => Any[WebIO.JSString(\"(function (val){return (val!=this.model[\\\"clicks\\\"]()) ? (this.valueFromJulia[\\\"clicks\\\"]=true, this.model[\\\"clicks\\\"](val)) : undefined})\")]), WebIO.ConnectionPool(Channel{Any}(32), Set{WebIO.AbstractConnection}(), Base.GenericCondition{ReentrantLock}(Base.IntrusiveLinkedList{Task}(Task (runnable) @0x00007f0da3a612d0, Task (runnable) @0x00007f0da3a612d0), ReentrantLock(nothing, 0x00000000, 0x00, Base.GenericCondition{Base.Threads.SpinLock}(Base.IntrusiveLinkedList{Task}(nothing, nothing), Base.Threads.SpinLock(0)), (1, 139696580300512, 0)))), WebIO.JSString[WebIO.JSString(\"function () {\\n    var handler = (function (ko, koPunches) {\\n    ko.punches.enableAll();\\n    ko.bindingHandlers.numericValue = {\\n        init: function(element, valueAccessor, allBindings, data, context) {\\n            var stringified = ko.observable(ko.unwrap(valueAccessor()));\\n            stringified.subscribe(function(value) {\\n                var val = parseFloat(value);\\n                if (!isNaN(val)) {\\n                    valueAccessor()(val);\\n                }\\n            });\\n            valueAccessor().subscribe(function(value) {\\n                var str = JSON.stringify(value);\\n                if ((str == \\\"0\\\") && ([\\\"-0\\\", \\\"-0.\\\"].indexOf(stringified()) >= 0))\\n                     return;\\n                 if ([\\\"null\\\", \\\"\\\"].indexOf(str) >= 0)\\n                     return;\\n                stringified(str);\\n            });\\n            ko.applyBindingsToNode(\\n                element,\\n                {\\n                    value: stringified,\\n                    valueUpdate: allBindings.get('valueUpdate'),\\n                },\\n                context,\\n            );\\n        }\\n    };\\n    var json_data = {\\\"loading\\\":WebIO.getval({\\\"name\\\":\\\"loading\\\",\\\"scope\\\":\\\"8778454944751997872\\\",\\\"id\\\":\\\"1810211927987773576\\\",\\\"type\\\":\\\"observable\\\"}),\\\"clicks\\\":WebIO.getval({\\\"name\\\":\\\"clicks\\\",\\\"scope\\\":\\\"8778454944751997872\\\",\\\"id\\\":\\\"2091932811156124653\\\",\\\"type\\\":\\\"observable\\\"})};\\n    var self = this;\\n    function AppViewModel() {\\n        for (var key in json_data) {\\n            var el = json_data[key];\\n            this[key] = Array.isArray(el) ? ko.observableArray(el) : ko.observable(el);\\n        }\\n        \\n        \\n        [this[\\\"loading\\\"].subscribe((function (val){!(this.valueFromJulia[\\\"loading\\\"]) ? (WebIO.setval({\\\"name\\\":\\\"loading\\\",\\\"scope\\\":\\\"8778454944751997872\\\",\\\"id\\\":\\\"1810211927987773576\\\",\\\"type\\\":\\\"observable\\\"},val)) : undefined; return this.valueFromJulia[\\\"loading\\\"]=false}),self),this[\\\"clicks\\\"].subscribe((function (val){!(this.valueFromJulia[\\\"clicks\\\"]) ? (WebIO.setval({\\\"name\\\":\\\"clicks\\\",\\\"scope\\\":\\\"8778454944751997872\\\",\\\"id\\\":\\\"2091932811156124653\\\",\\\"type\\\":\\\"observable\\\"},val)) : undefined; return this.valueFromJulia[\\\"clicks\\\"]=false}),self)]\\n        \\n    }\\n    self.model = new AppViewModel();\\n    self.valueFromJulia = {};\\n    for (var key in json_data) {\\n        self.valueFromJulia[key] = false;\\n    }\\n    ko.applyBindings(self.model, self.dom);\\n}\\n);\\n    (WebIO.importBlock({\\\"data\\\":[{\\\"name\\\":\\\"knockout\\\",\\\"type\\\":\\\"js\\\",\\\"url\\\":\\\"/assetserver/727383f2a47bd31570b7da84eee7b022dd6d7c78-knockout.js\\\"},{\\\"name\\\":\\\"knockout_punches\\\",\\\"type\\\":\\\"js\\\",\\\"url\\\":\\\"/assetserver/382b41b3b1bd9f26f75861d360bad7f8beea211f-knockout_punches.js\\\"}],\\\"type\\\":\\\"async_block\\\"})).then((imports) => handler.apply(this, imports));\\n}\\n\")])], Dict{Symbol, Any}(:className => \"field interact-widget\")), WebIO.Node{WebIO.DOM}(WebIO.DOM(:html, :div), Any[WebIO.Scope(WebIO.Node{WebIO.DOM}(WebIO.DOM(:html, :div), Any[], Dict{Symbol, Any}(:id => \"container\")), Dict{String, Tuple{Observables.AbstractObservable, Union{Nothing, Bool}}}(\"value\" => (Observable(\"\\\\;\\\\;\"), nothing)), Set{String}(), nothing, WebIO.Asset[WebIO.Asset(\"js\", nothing, \"/home/dushya/.julia/packages/InteractBase/LJXv3/src/../assets/katex.min.js\"), WebIO.Asset(\"css\", nothing, \"/home/dushya/.julia/packages/InteractBase/LJXv3/src/../assets/katex.min.css\")], Dict{Any, Any}(\"value\" => Any[WebIO.JSString(\"(function (txt){return this.k.render(txt,this.container)})\")]), WebIO.ConnectionPool(Channel{Any}(32), Set{WebIO.AbstractConnection}(), Base.GenericCondition{ReentrantLock}(Base.IntrusiveLinkedList{Task}(Task (runnable) @0x00007f0e14a95910, Task (runnable) @0x00007f0e14a95910), ReentrantLock(nothing, 0x00000000, 0x00, Base.GenericCondition{Base.Threads.SpinLock}(Base.IntrusiveLinkedList{Task}(nothing, nothing), Base.Threads.SpinLock(0)), (0, 0, 141733920768)))), WebIO.JSString[WebIO.JSString(\"function () {\\n    var handler = ((function (k){this.k=k; this.container=this.dom.querySelector(\\\"#container\\\"); return k.render(\\\"\\\\\\\\;\\\\\\\\;\\\",this.container)}));\\n    (WebIO.importBlock({\\\"data\\\":[{\\\"name\\\":null,\\\"type\\\":\\\"js\\\",\\\"url\\\":\\\"/assetserver/dd22ed1bf1896c2748f3fe616ce0b838adc895c1-katex.min.js\\\"},{\\\"name\\\":null,\\\"type\\\":\\\"css\\\",\\\"url\\\":\\\"/assetserver/46517a424aa5e6cffc1360d7e0848b601c584ee3-katex.min.css\\\"}],\\\"type\\\":\\\"async_block\\\"})).then((imports) => handler.apply(this, imports));\\n}\\n\")])], Dict{Symbol, Any}(:className => \"interact-widget\")), WebIO.Node{WebIO.DOM}(WebIO.DOM(:html, :div), Any[WebIO.Scope(WebIO.Node{WebIO.DOM}(WebIO.DOM(:html, :button), Any[\"reset\"], Dict{Symbol, Any}(:attributes => Dict{Any, Any}(\"data-bind\" => \"click: function (){this.clicks(this.clicks()+1)}, css: {'is-loading' : loading}\"), :className => \"is-medium button is-primary\", :style => Dict{String, Any}())), Dict{String, Tuple{Observables.AbstractObservable, Union{Nothing, Bool}}}(\"loading\" => (Observable(false), nothing), \"clicks\" => (Observable(0), nothing)), Set{String}(), nothing, WebIO.Asset[WebIO.Asset(\"js\", \"knockout\", \"/home/dushya/.julia/packages/Knockout/HReiN/src/../assets/knockout.js\"), WebIO.Asset(\"js\", \"knockout_punches\", \"/home/dushya/.julia/packages/Knockout/HReiN/src/../assets/knockout_punches.js\"), WebIO.Asset(\"js\", nothing, \"/home/dushya/.julia/packages/InteractBase/LJXv3/src/../assets/all.js\"), WebIO.Asset(\"css\", nothing, \"/home/dushya/.julia/packages/InteractBase/LJXv3/src/../assets/style.css\"), WebIO.Asset(\"css\", nothing, \"/home/dushya/.julia/packages/Interact/PENUy/src/../assets/bulma_confined.min.css\")], Dict{Any, Any}(\"loading\" => Any[WebIO.JSString(\"(function (val){return (val!=this.model[\\\"loading\\\"]()) ? (this.valueFromJulia[\\\"loading\\\"]=true, this.model[\\\"loading\\\"](val)) : undefined})\")], \"clicks\" => Any[WebIO.JSString(\"(function (val){return (val!=this.model[\\\"clicks\\\"]()) ? (this.valueFromJulia[\\\"clicks\\\"]=true, this.model[\\\"clicks\\\"](val)) : undefined})\")]), WebIO.ConnectionPool(Channel{Any}(32), Set{WebIO.AbstractConnection}(), Base.GenericCondition{ReentrantLock}(Base.IntrusiveLinkedList{Task}(Task (runnable) @0x00007f0da3a63b70, Task (runnable) @0x00007f0da3a63b70), ReentrantLock(nothing, 0x00000000, 0x00, Base.GenericCondition{Base.Threads.SpinLock}(Base.IntrusiveLinkedList{Task}(nothing, nothing), Base.Threads.SpinLock(0)), (14, 8102099357864587376, 6291568)))), WebIO.JSString[WebIO.JSString(\"function () {\\n    var handler = (function (ko, koPunches) {\\n    ko.punches.enableAll();\\n    ko.bindingHandlers.numericValue = {\\n        init: function(element, valueAccessor, allBindings, data, context) {\\n            var stringified = ko.observable(ko.unwrap(valueAccessor()));\\n            stringified.subscribe(function(value) {\\n                var val = parseFloat(value);\\n                if (!isNaN(val)) {\\n                    valueAccessor()(val);\\n                }\\n            });\\n            valueAccessor().subscribe(function(value) {\\n                var str = JSON.stringify(value);\\n                if ((str == \\\"0\\\") && ([\\\"-0\\\", \\\"-0.\\\"].indexOf(stringified()) >= 0))\\n                     return;\\n                 if ([\\\"null\\\", \\\"\\\"].indexOf(str) >= 0)\\n                     return;\\n                stringified(str);\\n            });\\n            ko.applyBindingsToNode(\\n                element,\\n                {\\n                    value: stringified,\\n                    valueUpdate: allBindings.get('valueUpdate'),\\n                },\\n                context,\\n            );\\n        }\\n    };\\n    var json_data = {\\\"loading\\\":WebIO.getval({\\\"name\\\":\\\"loading\\\",\\\"scope\\\":\\\"7315194220939714688\\\",\\\"id\\\":\\\"1887000162250629148\\\",\\\"type\\\":\\\"observable\\\"}),\\\"clicks\\\":WebIO.getval({\\\"name\\\":\\\"clicks\\\",\\\"scope\\\":\\\"7315194220939714688\\\",\\\"id\\\":\\\"4768199244547486369\\\",\\\"type\\\":\\\"observable\\\"})};\\n    var self = this;\\n    function AppViewModel() {\\n        for (var key in json_data) {\\n            var el = json_data[key];\\n            this[key] = Array.isArray(el) ? ko.observableArray(el) : ko.observable(el);\\n        }\\n        \\n        \\n        [this[\\\"loading\\\"].subscribe((function (val){!(this.valueFromJulia[\\\"loading\\\"]) ? (WebIO.setval({\\\"name\\\":\\\"loading\\\",\\\"scope\\\":\\\"7315194220939714688\\\",\\\"id\\\":\\\"1887000162250629148\\\",\\\"type\\\":\\\"observable\\\"},val)) : undefined; return this.valueFromJulia[\\\"loading\\\"]=false}),self),this[\\\"clicks\\\"].subscribe((function (val){!(this.valueFromJulia[\\\"clicks\\\"]) ? (WebIO.setval({\\\"name\\\":\\\"clicks\\\",\\\"scope\\\":\\\"7315194220939714688\\\",\\\"id\\\":\\\"4768199244547486369\\\",\\\"type\\\":\\\"observable\\\"},val)) : undefined; return this.valueFromJulia[\\\"clicks\\\"]=false}),self)]\\n        \\n    }\\n    self.model = new AppViewModel();\\n    self.valueFromJulia = {};\\n    for (var key in json_data) {\\n        self.valueFromJulia[key] = false;\\n    }\\n    ko.applyBindings(self.model, self.dom);\\n}\\n);\\n    (WebIO.importBlock({\\\"data\\\":[{\\\"name\\\":\\\"knockout\\\",\\\"type\\\":\\\"js\\\",\\\"url\\\":\\\"/assetserver/727383f2a47bd31570b7da84eee7b022dd6d7c78-knockout.js\\\"},{\\\"name\\\":\\\"knockout_punches\\\",\\\"type\\\":\\\"js\\\",\\\"url\\\":\\\"/assetserver/382b41b3b1bd9f26f75861d360bad7f8beea211f-knockout_punches.js\\\"}],\\\"type\\\":\\\"async_block\\\"})).then((imports) => handler.apply(this, imports));\\n}\\n\")])], Dict{Symbol, Any}(:className => \"field interact-widget\")), WebIO.Node{WebIO.DOM}(WebIO.DOM(:html, :div), Any[WebIO.Scope(WebIO.Node{WebIO.DOM}(WebIO.DOM(:html, :div), Any[], Dict{Symbol, Any}(:id => \"container\")), Dict{String, Tuple{Observables.AbstractObservable, Union{Nothing, Bool}}}(\"value\" => (Observable(\"\\\\;\\\\;\"), nothing)), Set{String}(), nothing, WebIO.Asset[WebIO.Asset(\"js\", nothing, \"/home/dushya/.julia/packages/InteractBase/LJXv3/src/../assets/katex.min.js\"), WebIO.Asset(\"css\", nothing, \"/home/dushya/.julia/packages/InteractBase/LJXv3/src/../assets/katex.min.css\")], Dict{Any, Any}(\"value\" => Any[WebIO.JSString(\"(function (txt){return this.k.render(txt,this.container)})\")]), WebIO.ConnectionPool(Channel{Any}(32), Set{WebIO.AbstractConnection}(), Base.GenericCondition{ReentrantLock}(Base.IntrusiveLinkedList{Task}(Task (runnable) @0x00007f0e14a95910, Task (runnable) @0x00007f0e14a95910), ReentrantLock(nothing, 0x00000000, 0x00, Base.GenericCondition{Base.Threads.SpinLock}(Base.IntrusiveLinkedList{Task}(nothing, nothing), Base.Threads.SpinLock(0)), (0, 0, 141733920768)))), WebIO.JSString[WebIO.JSString(\"function () {\\n    var handler = ((function (k){this.k=k; this.container=this.dom.querySelector(\\\"#container\\\"); return k.render(\\\"\\\\\\\\;\\\\\\\\;\\\",this.container)}));\\n    (WebIO.importBlock({\\\"data\\\":[{\\\"name\\\":null,\\\"type\\\":\\\"js\\\",\\\"url\\\":\\\"/assetserver/dd22ed1bf1896c2748f3fe616ce0b838adc895c1-katex.min.js\\\"},{\\\"name\\\":null,\\\"type\\\":\\\"css\\\",\\\"url\\\":\\\"/assetserver/46517a424aa5e6cffc1360d7e0848b601c584ee3-katex.min.css\\\"}],\\\"type\\\":\\\"async_block\\\"})).then((imports) => handler.apply(this, imports));\\n}\\n\")])], Dict{Symbol, Any}(:className => \"interact-widget\")), WebIO.Node{WebIO.DOM}(WebIO.DOM(:html, :div), Any[WebIO.Scope(WebIO.Node{WebIO.DOM}(WebIO.DOM(:html, :button), Any[\"save\"], Dict{Symbol, Any}(:attributes => Dict{Any, Any}(\"data-bind\" => \"click: function (){this.clicks(this.clicks()+1)}, css: {'is-loading' : loading}\"), :className => \"is-medium button is-primary\", :style => Dict{String, Any}())), Dict{String, Tuple{Observables.AbstractObservable, Union{Nothing, Bool}}}(\"loading\" => (Observable(false), nothing), \"clicks\" => (Observable(0), nothing)), Set{String}(), nothing, WebIO.Asset[WebIO.Asset(\"js\", \"knockout\", \"/home/dushya/.julia/packages/Knockout/HReiN/src/../assets/knockout.js\"), WebIO.Asset(\"js\", \"knockout_punches\", \"/home/dushya/.julia/packages/Knockout/HReiN/src/../assets/knockout_punches.js\"), WebIO.Asset(\"js\", nothing, \"/home/dushya/.julia/packages/InteractBase/LJXv3/src/../assets/all.js\"), WebIO.Asset(\"css\", nothing, \"/home/dushya/.julia/packages/InteractBase/LJXv3/src/../assets/style.css\"), WebIO.Asset(\"css\", nothing, \"/home/dushya/.julia/packages/Interact/PENUy/src/../assets/bulma_confined.min.css\")], Dict{Any, Any}(\"loading\" => Any[WebIO.JSString(\"(function (val){return (val!=this.model[\\\"loading\\\"]()) ? (this.valueFromJulia[\\\"loading\\\"]=true, this.model[\\\"loading\\\"](val)) : undefined})\")], \"clicks\" => Any[WebIO.JSString(\"(function (val){return (val!=this.model[\\\"clicks\\\"]()) ? (this.valueFromJulia[\\\"clicks\\\"]=true, this.model[\\\"clicks\\\"](val)) : undefined})\")]), WebIO.ConnectionPool(Channel{Any}(32), Set{WebIO.AbstractConnection}(), Base.GenericCondition{ReentrantLock}(Base.IntrusiveLinkedList{Task}(Task (runnable) @0x00007f0da3b12590, Task (runnable) @0x00007f0da3b12590), ReentrantLock(nothing, 0x00000000, 0x00, Base.GenericCondition{Base.Threads.SpinLock}(Base.IntrusiveLinkedList{Task}(nothing, nothing), Base.Threads.SpinLock(0)), (0, 139698328823744, 0)))), WebIO.JSString[WebIO.JSString(\"function () {\\n    var handler = (function (ko, koPunches) {\\n    ko.punches.enableAll();\\n    ko.bindingHandlers.numericValue = {\\n        init: function(element, valueAccessor, allBindings, data, context) {\\n            var stringified = ko.observable(ko.unwrap(valueAccessor()));\\n            stringified.subscribe(function(value) {\\n                var val = parseFloat(value);\\n                if (!isNaN(val)) {\\n                    valueAccessor()(val);\\n                }\\n            });\\n            valueAccessor().subscribe(function(value) {\\n                var str = JSON.stringify(value);\\n                if ((str == \\\"0\\\") && ([\\\"-0\\\", \\\"-0.\\\"].indexOf(stringified()) >= 0))\\n                     return;\\n                 if ([\\\"null\\\", \\\"\\\"].indexOf(str) >= 0)\\n                     return;\\n                stringified(str);\\n            });\\n            ko.applyBindingsToNode(\\n                element,\\n                {\\n                    value: stringified,\\n                    valueUpdate: allBindings.get('valueUpdate'),\\n                },\\n                context,\\n            );\\n        }\\n    };\\n    var json_data = {\\\"loading\\\":WebIO.getval({\\\"name\\\":\\\"loading\\\",\\\"scope\\\":\\\"11484318773097352377\\\",\\\"id\\\":\\\"3676054644757649929\\\",\\\"type\\\":\\\"observable\\\"}),\\\"clicks\\\":WebIO.getval({\\\"name\\\":\\\"clicks\\\",\\\"scope\\\":\\\"11484318773097352377\\\",\\\"id\\\":\\\"2170896115587737735\\\",\\\"type\\\":\\\"observable\\\"})};\\n    var self = this;\\n    function AppViewModel() {\\n        for (var key in json_data) {\\n            var el = json_data[key];\\n            this[key] = Array.isArray(el) ? ko.observableArray(el) : ko.observable(el);\\n        }\\n        \\n        \\n        [this[\\\"loading\\\"].subscribe((function (val){!(this.valueFromJulia[\\\"loading\\\"]) ? (WebIO.setval({\\\"name\\\":\\\"loading\\\",\\\"scope\\\":\\\"11484318773097352377\\\",\\\"id\\\":\\\"3676054644757649929\\\",\\\"type\\\":\\\"observable\\\"},val)) : undefined; return this.valueFromJulia[\\\"loading\\\"]=false}),self),this[\\\"clicks\\\"].subscribe((function (val){!(this.valueFromJulia[\\\"clicks\\\"]) ? (WebIO.setval({\\\"name\\\":\\\"clicks\\\",\\\"scope\\\":\\\"11484318773097352377\\\",\\\"id\\\":\\\"2170896115587737735\\\",\\\"type\\\":\\\"observable\\\"},val)) : undefined; return this.valueFromJulia[\\\"clicks\\\"]=false}),self)]\\n        \\n    }\\n    self.model = new AppViewModel();\\n    self.valueFromJulia = {};\\n    for (var key in json_data) {\\n        self.valueFromJulia[key] = false;\\n    }\\n    ko.applyBindings(self.model, self.dom);\\n}\\n);\\n    (WebIO.importBlock({\\\"data\\\":[{\\\"name\\\":\\\"knockout\\\",\\\"type\\\":\\\"js\\\",\\\"url\\\":\\\"/assetserver/727383f2a47bd31570b7da84eee7b022dd6d7c78-knockout.js\\\"},{\\\"name\\\":\\\"knockout_punches\\\",\\\"type\\\":\\\"js\\\",\\\"url\\\":\\\"/assetserver/382b41b3b1bd9f26f75861d360bad7f8beea211f-knockout_punches.js\\\"}],\\\"type\\\":\\\"async_block\\\"})).then((imports) => handler.apply(this, imports));\\n}\\n\")])], Dict{Symbol, Any}(:className => \"field interact-widget\"))], Dict{Symbol, Any}(:style => Dict(\"display\" => \"flex\", \"flex-direction\" => \"row\")))], Dict{Symbol, Any}(:style => Dict(\"display\" => \"flex\", \"flex-direction\" => \"column\"))), WebIO.Node{WebIO.DOM}(WebIO.DOM(:html, :div), Any[WebIO.Scope(WebIO.Node{WebIO.DOM}(WebIO.DOM(:html, :div), Any[], Dict{Symbol, Any}(:id => \"container\")), Dict{String, Tuple{Observables.AbstractObservable, Union{Nothing, Bool}}}(\"value\" => (Observable(\"\\\\;\\\\;\"), nothing)), Set{String}(), nothing, WebIO.Asset[WebIO.Asset(\"js\", nothing, \"/home/dushya/.julia/packages/InteractBase/LJXv3/src/../assets/katex.min.js\"), WebIO.Asset(\"css\", nothing, \"/home/dushya/.julia/packages/InteractBase/LJXv3/src/../assets/katex.min.css\")], Dict{Any, Any}(\"value\" => Any[WebIO.JSString(\"(function (txt){return this.k.render(txt,this.container)})\")]), WebIO.ConnectionPool(Channel{Any}(32), Set{WebIO.AbstractConnection}(), Base.GenericCondition{ReentrantLock}(Base.IntrusiveLinkedList{Task}(Task (runnable) @0x00007f0e14a95910, Task (runnable) @0x00007f0e14a95910), ReentrantLock(nothing, 0x00000000, 0x00, Base.GenericCondition{Base.Threads.SpinLock}(Base.IntrusiveLinkedList{Task}(nothing, nothing), Base.Threads.SpinLock(0)), (0, 0, 141733920768)))), WebIO.JSString[WebIO.JSString(\"function () {\\n    var handler = ((function (k){this.k=k; this.container=this.dom.querySelector(\\\"#container\\\"); return k.render(\\\"\\\\\\\\;\\\\\\\\;\\\",this.container)}));\\n    (WebIO.importBlock({\\\"data\\\":[{\\\"name\\\":null,\\\"type\\\":\\\"js\\\",\\\"url\\\":\\\"/assetserver/dd22ed1bf1896c2748f3fe616ce0b838adc895c1-katex.min.js\\\"},{\\\"name\\\":null,\\\"type\\\":\\\"css\\\",\\\"url\\\":\\\"/assetserver/46517a424aa5e6cffc1360d7e0848b601c584ee3-katex.min.css\\\"}],\\\"type\\\":\\\"async_block\\\"})).then((imports) => handler.apply(this, imports));\\n}\\n\")])], Dict{Symbol, Any}(:className => \"interact-widget\")), Observable(Luxor.Drawing(430.0, 430.0, \"\", Cairo.CairoSurfaceBase{UInt32}(Ptr{Nothing} @0x0000000000000000, 430.0, 430.0), Cairo.CairoContext(Ptr{Nothing} @0x0000000004d40a20, Cairo.CairoSurfaceBase{UInt32}(Ptr{Nothing} @0x0000000000000000, 430.0, 430.0), Ptr{Nothing} @0x0000000004e311d0), :png, 0.5, 0.5, 0.5, 0.5, IOBuffer(data=UInt8[...], readable=true, writable=true, seekable=true, append=false, size=8846, maxsize=Inf, ptr=8847, mark=-1), UInt8[0x89, 0x50, 0x4e, 0x47, 0x0d, 0x0a, 0x1a, 0x0a, 0x00, 0x00  …  0x00, 0x00, 0x49, 0x45, 0x4e, 0x44, 0xae, 0x42, 0x60, 0x82], false)), WebIO.Node{WebIO.DOM}(WebIO.DOM(:html, :div), Any[WebIO.Scope(WebIO.Node{WebIO.DOM}(WebIO.DOM(:html, :div), Any[], Dict{Symbol, Any}(:id => \"container\")), Dict{String, Tuple{Observables.AbstractObservable, Union{Nothing, Bool}}}(\"value\" => (Observable(\"\\\\;\\\\;\"), nothing)), Set{String}(), nothing, WebIO.Asset[WebIO.Asset(\"js\", nothing, \"/home/dushya/.julia/packages/InteractBase/LJXv3/src/../assets/katex.min.js\"), WebIO.Asset(\"css\", nothing, \"/home/dushya/.julia/packages/InteractBase/LJXv3/src/../assets/katex.min.css\")], Dict{Any, Any}(\"value\" => Any[WebIO.JSString(\"(function (txt){return this.k.render(txt,this.container)})\")]), WebIO.ConnectionPool(Channel{Any}(32), Set{WebIO.AbstractConnection}(), Base.GenericCondition{ReentrantLock}(Base.IntrusiveLinkedList{Task}(Task (runnable) @0x00007f0e14a95910, Task (runnable) @0x00007f0e14a95910), ReentrantLock(nothing, 0x00000000, 0x00, Base.GenericCondition{Base.Threads.SpinLock}(Base.IntrusiveLinkedList{Task}(nothing, nothing), Base.Threads.SpinLock(0)), (0, 0, 141733920768)))), WebIO.JSString[WebIO.JSString(\"function () {\\n    var handler = ((function (k){this.k=k; this.container=this.dom.querySelector(\\\"#container\\\"); return k.render(\\\"\\\\\\\\;\\\\\\\\;\\\",this.container)}));\\n    (WebIO.importBlock({\\\"data\\\":[{\\\"name\\\":null,\\\"type\\\":\\\"js\\\",\\\"url\\\":\\\"/assetserver/dd22ed1bf1896c2748f3fe616ce0b838adc895c1-katex.min.js\\\"},{\\\"name\\\":null,\\\"type\\\":\\\"css\\\",\\\"url\\\":\\\"/assetserver/46517a424aa5e6cffc1360d7e0848b601c584ee3-katex.min.css\\\"}],\\\"type\\\":\\\"async_block\\\"})).then((imports) => handler.apply(this, imports));\\n}\\n\")])], Dict{Symbol, Any}(:className => \"interact-widget\")), WebIO.Node{WebIO.DOM}(WebIO.DOM(:html, :div), Any[Observable(Plot{Plots.GRBackend() n=2})], Dict{Symbol, Any}(:style => Dict(\"display\" => \"flex\", \"flex-direction\" => \"column\")))], Dict{Symbol, Any}(:style => Dict(\"display\" => \"flex\", \"flex-direction\" => \"row\")))], Dict{Symbol, Any}(:style => Dict(\"display\" => \"flex\", \"flex-direction\" => \"column\")))"
      ]
     },
     "execution_count": 7,
     "metadata": {
      "application/vnd.webio.node+json": {
       "kernelId": "1af7d208-d09e-48de-8444-b75606197f70"
      }
     },
     "output_type": "execute_result"
    }
   ],
   "source": [
    "create_interactive_app(model, initialiser= initialiser!,\n",
    "    step_rule= step_rule!,\n",
    "    model_controls=[\n",
    "        (:wolf_birth_rate, \"slider\", 0:0.01:1.0),\n",
    "        (:sheep_birth_rate, \"slider\", 0.01:0.01:1.0),\n",
    "        (:initial_wolf_percent, \"slider\", 0.01:0.01:0.9),\n",
    "        (:wolves_kill_ability, \"slider\", 0.01:0.01:1.0),\n",
    "        (:grass_grow_prob, \"slider\", 0.01:0.01:0.5)\n",
    "        ], \n",
    "    agent_plots=Dict(\"sheep\"=> agent-> agent.atype == sheep ? 1 : 0, \n",
    "        \"wolf\"=> agent-> agent.atype == wolf ? 1 : 0),\n",
    "    frames=200, show_patches=true)"
   ]
  },
  {
   "cell_type": "markdown",
   "metadata": {},
   "source": [
    "\n",
    "## Step 4: Fetch Data \n",
    "\n",
    "We can fetch the number of wolves and sheeps at each time step as follows. "
   ]
  },
  {
   "cell_type": "code",
   "execution_count": 8,
   "metadata": {},
   "outputs": [
    {
     "data": {
      "image/png": "[encoded data removed]",
      "image/svg+xml": [
       "<?xml version=\"1.0\" encoding=\"utf-8\"?>\n",
       "<svg xmlns=\"http://www.w3.org/2000/svg\" xmlns:xlink=\"http://www.w3.org/1999/xlink\" width=\"600\" height=\"400\" viewBox=\"0 0 2400 1600\">\n",
       "<defs>\n",
       "  <clipPath id=\"clip190\">\n",
       "    <rect x=\"0\" y=\"0\" width=\"2400\" height=\"1600\"/>\n",
       "  </clipPath>\n",
       "</defs>\n",
       "<path clip-path=\"url(#clip190)\" d=\"M0 1600 L2400 1600 L2400 0 L0 0  Z\" fill=\"#ffffff\" fill-rule=\"evenodd\" fill-opacity=\"1\"/>\n",
       "<defs>\n",
       "  <clipPath id=\"clip191\">\n",
       "    <rect x=\"480\" y=\"0\" width=\"1681\" height=\"1600\"/>\n",
       "  </clipPath>\n",
       "</defs>\n",
       "<path clip-path=\"url(#clip190)\" d=\"M232.389 1423.18 L2352.76 1423.18 L2352.76 47.2441 L232.389 47.2441  Z\" fill=\"#ffffff\" fill-rule=\"evenodd\" fill-opacity=\"1\"/>\n",
       "<defs>\n",
       "  <clipPath id=\"clip192\">\n",
       "    <rect x=\"232\" y=\"47\" width=\"2121\" height=\"1377\"/>\n",
       "  </clipPath>\n",
       "</defs>\n",
       "<polyline clip-path=\"url(#clip192)\" style=\"stroke:#000000; stroke-linecap:round; stroke-linejoin:round; stroke-width:2; stroke-opacity:0.1; fill:none\" points=\"272.396,1423.18 272.396,47.2441 \"/>\n",
       "<polyline clip-path=\"url(#clip192)\" style=\"stroke:#000000; stroke-linecap:round; stroke-linejoin:round; stroke-width:2; stroke-opacity:0.1; fill:none\" points=\"772.483,1423.18 772.483,47.2441 \"/>\n",
       "<polyline clip-path=\"url(#clip192)\" style=\"stroke:#000000; stroke-linecap:round; stroke-linejoin:round; stroke-width:2; stroke-opacity:0.1; fill:none\" points=\"1272.57,1423.18 1272.57,47.2441 \"/>\n",
       "<polyline clip-path=\"url(#clip192)\" style=\"stroke:#000000; stroke-linecap:round; stroke-linejoin:round; stroke-width:2; stroke-opacity:0.1; fill:none\" points=\"1772.66,1423.18 1772.66,47.2441 \"/>\n",
       "<polyline clip-path=\"url(#clip192)\" style=\"stroke:#000000; stroke-linecap:round; stroke-linejoin:round; stroke-width:2; stroke-opacity:0.1; fill:none\" points=\"2272.74,1423.18 2272.74,47.2441 \"/>\n",
       "<polyline clip-path=\"url(#clip190)\" style=\"stroke:#000000; stroke-linecap:round; stroke-linejoin:round; stroke-width:4; stroke-opacity:1; fill:none\" points=\"232.389,1423.18 2352.76,1423.18 \"/>\n",
       "<polyline clip-path=\"url(#clip190)\" style=\"stroke:#000000; stroke-linecap:round; stroke-linejoin:round; stroke-width:4; stroke-opacity:1; fill:none\" points=\"272.396,1423.18 272.396,1404.28 \"/>\n",
       "<polyline clip-path=\"url(#clip190)\" style=\"stroke:#000000; stroke-linecap:round; stroke-linejoin:round; stroke-width:4; stroke-opacity:1; fill:none\" points=\"772.483,1423.18 772.483,1404.28 \"/>\n",
       "<polyline clip-path=\"url(#clip190)\" style=\"stroke:#000000; stroke-linecap:round; stroke-linejoin:round; stroke-width:4; stroke-opacity:1; fill:none\" points=\"1272.57,1423.18 1272.57,1404.28 \"/>\n",
       "<polyline clip-path=\"url(#clip190)\" style=\"stroke:#000000; stroke-linecap:round; stroke-linejoin:round; stroke-width:4; stroke-opacity:1; fill:none\" points=\"1772.66,1423.18 1772.66,1404.28 \"/>\n",
       "<polyline clip-path=\"url(#clip190)\" style=\"stroke:#000000; stroke-linecap:round; stroke-linejoin:round; stroke-width:4; stroke-opacity:1; fill:none\" points=\"2272.74,1423.18 2272.74,1404.28 \"/>\n",
       "<path clip-path=\"url(#clip190)\" d=\"M272.396 1454.1 Q268.785 1454.1 266.956 1457.66 Q265.151 1461.2 265.151 1468.33 Q265.151 1475.44 266.956 1479.01 Q268.785 1482.55 272.396 1482.55 Q276.031 1482.55 277.836 1479.01 Q279.665 1475.44 279.665 1468.33 Q279.665 1461.2 277.836 1457.66 Q276.031 1454.1 272.396 1454.1 M272.396 1450.39 Q278.206 1450.39 281.262 1455 Q284.341 1459.58 284.341 1468.33 Q284.341 1477.06 281.262 1481.67 Q278.206 1486.25 272.396 1486.25 Q266.586 1486.25 263.507 1481.67 Q260.452 1477.06 260.452 1468.33 Q260.452 1459.58 263.507 1455 Q266.586 1450.39 272.396 1450.39 Z\" fill=\"#000000\" fill-rule=\"nonzero\" fill-opacity=\"1\" /><path clip-path=\"url(#clip190)\" d=\"M751.754 1481.64 L768.073 1481.64 L768.073 1485.58 L746.129 1485.58 L746.129 1481.64 Q748.791 1478.89 753.374 1474.26 Q757.98 1469.61 759.161 1468.27 Q761.406 1465.74 762.286 1464.01 Q763.189 1462.25 763.189 1460.56 Q763.189 1457.8 761.244 1456.07 Q759.323 1454.33 756.221 1454.33 Q754.022 1454.33 751.568 1455.09 Q749.138 1455.86 746.36 1457.41 L746.36 1452.69 Q749.184 1451.55 751.638 1450.97 Q754.092 1450.39 756.129 1450.39 Q761.499 1450.39 764.693 1453.08 Q767.888 1455.77 767.888 1460.26 Q767.888 1462.39 767.078 1464.31 Q766.291 1466.2 764.184 1468.8 Q763.605 1469.47 760.504 1472.69 Q757.402 1475.88 751.754 1481.64 Z\" fill=\"#000000\" fill-rule=\"nonzero\" fill-opacity=\"1\" /><path clip-path=\"url(#clip190)\" d=\"M777.934 1451.02 L796.29 1451.02 L796.29 1454.96 L782.216 1454.96 L782.216 1463.43 Q783.235 1463.08 784.253 1462.92 Q785.272 1462.73 786.291 1462.73 Q792.078 1462.73 795.457 1465.9 Q798.837 1469.08 798.837 1474.49 Q798.837 1480.07 795.365 1483.17 Q791.892 1486.25 785.573 1486.25 Q783.397 1486.25 781.129 1485.88 Q778.883 1485.51 776.476 1484.77 L776.476 1480.07 Q778.559 1481.2 780.781 1481.76 Q783.003 1482.32 785.48 1482.32 Q789.485 1482.32 791.823 1480.21 Q794.161 1478.1 794.161 1474.49 Q794.161 1470.88 791.823 1468.77 Q789.485 1466.67 785.48 1466.67 Q783.605 1466.67 781.73 1467.08 Q779.879 1467.5 777.934 1468.38 L777.934 1451.02 Z\" fill=\"#000000\" fill-rule=\"nonzero\" fill-opacity=\"1\" /><path clip-path=\"url(#clip190)\" d=\"M1247.27 1451.02 L1265.62 1451.02 L1265.62 1454.96 L1251.55 1454.96 L1251.55 1463.43 Q1252.57 1463.08 1253.59 1462.92 Q1254.61 1462.73 1255.62 1462.73 Q1261.41 1462.73 1264.79 1465.9 Q1268.17 1469.08 1268.17 1474.49 Q1268.17 1480.07 1264.7 1483.17 Q1261.23 1486.25 1254.91 1486.25 Q1252.73 1486.25 1250.46 1485.88 Q1248.22 1485.51 1245.81 1484.77 L1245.81 1480.07 Q1247.89 1481.2 1250.12 1481.76 Q1252.34 1482.32 1254.81 1482.32 Q1258.82 1482.32 1261.16 1480.21 Q1263.5 1478.1 1263.5 1474.49 Q1263.5 1470.88 1261.16 1468.77 Q1258.82 1466.67 1254.81 1466.67 Q1252.94 1466.67 1251.06 1467.08 Q1249.21 1467.5 1247.27 1468.38 L1247.27 1451.02 Z\" fill=\"#000000\" fill-rule=\"nonzero\" fill-opacity=\"1\" /><path clip-path=\"url(#clip190)\" d=\"M1287.38 1454.1 Q1283.77 1454.1 1281.94 1457.66 Q1280.14 1461.2 1280.14 1468.33 Q1280.14 1475.44 1281.94 1479.01 Q1283.77 1482.55 1287.38 1482.55 Q1291.02 1482.55 1292.82 1479.01 Q1294.65 1475.44 1294.65 1468.33 Q1294.65 1461.2 1292.82 1457.66 Q1291.02 1454.1 1287.38 1454.1 M1287.38 1450.39 Q1293.19 1450.39 1296.25 1455 Q1299.33 1459.58 1299.33 1468.33 Q1299.33 1477.06 1296.25 1481.67 Q1293.19 1486.25 1287.38 1486.25 Q1281.57 1486.25 1278.5 1481.67 Q1275.44 1477.06 1275.44 1468.33 Q1275.44 1459.58 1278.5 1455 Q1281.57 1450.39 1287.38 1450.39 Z\" fill=\"#000000\" fill-rule=\"nonzero\" fill-opacity=\"1\" /><path clip-path=\"url(#clip190)\" d=\"M1746.51 1451.02 L1768.73 1451.02 L1768.73 1453.01 L1756.19 1485.58 L1751.3 1485.58 L1763.11 1454.96 L1746.51 1454.96 L1746.51 1451.02 Z\" fill=\"#000000\" fill-rule=\"nonzero\" fill-opacity=\"1\" /><path clip-path=\"url(#clip190)\" d=\"M1777.9 1451.02 L1796.26 1451.02 L1796.26 1454.96 L1782.18 1454.96 L1782.18 1463.43 Q1783.2 1463.08 1784.22 1462.92 Q1785.24 1462.73 1786.26 1462.73 Q1792.04 1462.73 1795.42 1465.9 Q1798.8 1469.08 1798.8 1474.49 Q1798.8 1480.07 1795.33 1483.17 Q1791.86 1486.25 1785.54 1486.25 Q1783.36 1486.25 1781.09 1485.88 Q1778.85 1485.51 1776.44 1484.77 L1776.44 1480.07 Q1778.52 1481.2 1780.75 1481.76 Q1782.97 1482.32 1785.44 1482.32 Q1789.45 1482.32 1791.79 1480.21 Q1794.13 1478.1 1794.13 1474.49 Q1794.13 1470.88 1791.79 1468.77 Q1789.45 1466.67 1785.44 1466.67 Q1783.57 1466.67 1781.69 1467.08 Q1779.84 1467.5 1777.9 1468.38 L1777.9 1451.02 Z\" fill=\"#000000\" fill-rule=\"nonzero\" fill-opacity=\"1\" /><path clip-path=\"url(#clip190)\" d=\"M2232.35 1481.64 L2239.99 1481.64 L2239.99 1455.28 L2231.68 1456.95 L2231.68 1452.69 L2239.94 1451.02 L2244.62 1451.02 L2244.62 1481.64 L2252.26 1481.64 L2252.26 1485.58 L2232.35 1485.58 L2232.35 1481.64 Z\" fill=\"#000000\" fill-rule=\"nonzero\" fill-opacity=\"1\" /><path clip-path=\"url(#clip190)\" d=\"M2271.7 1454.1 Q2268.09 1454.1 2266.26 1457.66 Q2264.46 1461.2 2264.46 1468.33 Q2264.46 1475.44 2266.26 1479.01 Q2268.09 1482.55 2271.7 1482.55 Q2275.33 1482.55 2277.14 1479.01 Q2278.97 1475.44 2278.97 1468.33 Q2278.97 1461.2 2277.14 1457.66 Q2275.33 1454.1 2271.7 1454.1 M2271.7 1450.39 Q2277.51 1450.39 2280.57 1455 Q2283.64 1459.58 2283.64 1468.33 Q2283.64 1477.06 2280.57 1481.67 Q2277.51 1486.25 2271.7 1486.25 Q2265.89 1486.25 2262.81 1481.67 Q2259.76 1477.06 2259.76 1468.33 Q2259.76 1459.58 2262.81 1455 Q2265.89 1450.39 2271.7 1450.39 Z\" fill=\"#000000\" fill-rule=\"nonzero\" fill-opacity=\"1\" /><path clip-path=\"url(#clip190)\" d=\"M2301.86 1454.1 Q2298.25 1454.1 2296.42 1457.66 Q2294.62 1461.2 2294.62 1468.33 Q2294.62 1475.44 2296.42 1479.01 Q2298.25 1482.55 2301.86 1482.55 Q2305.5 1482.55 2307.3 1479.01 Q2309.13 1475.44 2309.13 1468.33 Q2309.13 1461.2 2307.3 1457.66 Q2305.5 1454.1 2301.86 1454.1 M2301.86 1450.39 Q2307.67 1450.39 2310.73 1455 Q2313.81 1459.58 2313.81 1468.33 Q2313.81 1477.06 2310.73 1481.67 Q2307.67 1486.25 2301.86 1486.25 Q2296.05 1486.25 2292.97 1481.67 Q2289.92 1477.06 2289.92 1468.33 Q2289.92 1459.58 2292.97 1455 Q2296.05 1450.39 2301.86 1450.39 Z\" fill=\"#000000\" fill-rule=\"nonzero\" fill-opacity=\"1\" /><path clip-path=\"url(#clip190)\" d=\"M1229.62 1522.27 L1229.62 1532.4 L1241.68 1532.4 L1241.68 1536.95 L1229.62 1536.95 L1229.62 1556.3 Q1229.62 1560.66 1230.79 1561.9 Q1232 1563.14 1235.66 1563.14 L1241.68 1563.14 L1241.68 1568.04 L1235.66 1568.04 Q1228.88 1568.04 1226.31 1565.53 Q1223.73 1562.98 1223.73 1556.3 L1223.73 1536.95 L1219.43 1536.95 L1219.43 1532.4 L1223.73 1532.4 L1223.73 1522.27 L1229.62 1522.27 Z\" fill=\"#000000\" fill-rule=\"nonzero\" fill-opacity=\"1\" /><path clip-path=\"url(#clip190)\" d=\"M1249.38 1532.4 L1255.24 1532.4 L1255.24 1568.04 L1249.38 1568.04 L1249.38 1532.4 M1249.38 1518.52 L1255.24 1518.52 L1255.24 1525.93 L1249.38 1525.93 L1249.38 1518.52 Z\" fill=\"#000000\" fill-rule=\"nonzero\" fill-opacity=\"1\" /><path clip-path=\"url(#clip190)\" d=\"M1293.15 1533.76 L1293.15 1539.24 Q1290.66 1537.87 1288.15 1537.2 Q1285.67 1536.5 1283.12 1536.5 Q1277.42 1536.5 1274.27 1540.13 Q1271.12 1543.73 1271.12 1550.25 Q1271.12 1556.78 1274.27 1560.4 Q1277.42 1564 1283.12 1564 Q1285.67 1564 1288.15 1563.33 Q1290.66 1562.63 1293.15 1561.26 L1293.15 1566.68 Q1290.69 1567.82 1288.05 1568.39 Q1285.44 1568.97 1282.48 1568.97 Q1274.43 1568.97 1269.69 1563.91 Q1264.95 1558.85 1264.95 1550.25 Q1264.95 1541.53 1269.72 1536.53 Q1274.53 1531.54 1282.86 1531.54 Q1285.57 1531.54 1288.15 1532.11 Q1290.73 1532.65 1293.15 1533.76 Z\" fill=\"#000000\" fill-rule=\"nonzero\" fill-opacity=\"1\" /><path clip-path=\"url(#clip190)\" d=\"M1303.11 1518.52 L1309 1518.52 L1309 1547.77 L1326.47 1532.4 L1333.95 1532.4 L1315.04 1549.07 L1334.75 1568.04 L1327.11 1568.04 L1309 1550.63 L1309 1568.04 L1303.11 1568.04 L1303.11 1518.52 Z\" fill=\"#000000\" fill-rule=\"nonzero\" fill-opacity=\"1\" /><path clip-path=\"url(#clip190)\" d=\"M1363.8 1533.45 L1363.8 1538.98 Q1361.32 1537.71 1358.65 1537.07 Q1355.98 1536.44 1353.11 1536.44 Q1348.75 1536.44 1346.55 1537.77 Q1344.39 1539.11 1344.39 1541.79 Q1344.39 1543.82 1345.95 1545 Q1347.51 1546.15 1352.22 1547.2 L1354.22 1547.64 Q1360.46 1548.98 1363.07 1551.43 Q1365.71 1553.85 1365.71 1558.21 Q1365.71 1563.17 1361.77 1566.07 Q1357.85 1568.97 1350.98 1568.97 Q1348.11 1568.97 1344.99 1568.39 Q1341.91 1567.85 1338.47 1566.74 L1338.47 1560.69 Q1341.72 1562.38 1344.87 1563.24 Q1348.02 1564.07 1351.11 1564.07 Q1355.24 1564.07 1357.47 1562.66 Q1359.7 1561.23 1359.7 1558.65 Q1359.7 1556.27 1358.08 1554.99 Q1356.48 1553.72 1351.04 1552.54 L1349 1552.07 Q1343.56 1550.92 1341.14 1548.56 Q1338.72 1546.18 1338.72 1542.04 Q1338.72 1537.01 1342.29 1534.27 Q1345.85 1531.54 1352.41 1531.54 Q1355.66 1531.54 1358.52 1532.01 Q1361.39 1532.49 1363.8 1533.45 Z\" fill=\"#000000\" fill-rule=\"nonzero\" fill-opacity=\"1\" /><polyline clip-path=\"url(#clip192)\" style=\"stroke:#000000; stroke-linecap:round; stroke-linejoin:round; stroke-width:2; stroke-opacity:0.1; fill:none\" points=\"232.389,1281.51 2352.76,1281.51 \"/>\n",
       "<polyline clip-path=\"url(#clip192)\" style=\"stroke:#000000; stroke-linecap:round; stroke-linejoin:round; stroke-width:2; stroke-opacity:0.1; fill:none\" points=\"232.389,1094.74 2352.76,1094.74 \"/>\n",
       "<polyline clip-path=\"url(#clip192)\" style=\"stroke:#000000; stroke-linecap:round; stroke-linejoin:round; stroke-width:2; stroke-opacity:0.1; fill:none\" points=\"232.389,907.974 2352.76,907.974 \"/>\n",
       "<polyline clip-path=\"url(#clip192)\" style=\"stroke:#000000; stroke-linecap:round; stroke-linejoin:round; stroke-width:2; stroke-opacity:0.1; fill:none\" points=\"232.389,721.204 2352.76,721.204 \"/>\n",
       "<polyline clip-path=\"url(#clip192)\" style=\"stroke:#000000; stroke-linecap:round; stroke-linejoin:round; stroke-width:2; stroke-opacity:0.1; fill:none\" points=\"232.389,534.434 2352.76,534.434 \"/>\n",
       "<polyline clip-path=\"url(#clip192)\" style=\"stroke:#000000; stroke-linecap:round; stroke-linejoin:round; stroke-width:2; stroke-opacity:0.1; fill:none\" points=\"232.389,347.664 2352.76,347.664 \"/>\n",
       "<polyline clip-path=\"url(#clip192)\" style=\"stroke:#000000; stroke-linecap:round; stroke-linejoin:round; stroke-width:2; stroke-opacity:0.1; fill:none\" points=\"232.389,160.894 2352.76,160.894 \"/>\n",
       "<polyline clip-path=\"url(#clip190)\" style=\"stroke:#000000; stroke-linecap:round; stroke-linejoin:round; stroke-width:4; stroke-opacity:1; fill:none\" points=\"232.389,1423.18 232.389,47.2441 \"/>\n",
       "<polyline clip-path=\"url(#clip190)\" style=\"stroke:#000000; stroke-linecap:round; stroke-linejoin:round; stroke-width:4; stroke-opacity:1; fill:none\" points=\"232.389,1281.51 251.287,1281.51 \"/>\n",
       "<polyline clip-path=\"url(#clip190)\" style=\"stroke:#000000; stroke-linecap:round; stroke-linejoin:round; stroke-width:4; stroke-opacity:1; fill:none\" points=\"232.389,1094.74 251.287,1094.74 \"/>\n",
       "<polyline clip-path=\"url(#clip190)\" style=\"stroke:#000000; stroke-linecap:round; stroke-linejoin:round; stroke-width:4; stroke-opacity:1; fill:none\" points=\"232.389,907.974 251.287,907.974 \"/>\n",
       "<polyline clip-path=\"url(#clip190)\" style=\"stroke:#000000; stroke-linecap:round; stroke-linejoin:round; stroke-width:4; stroke-opacity:1; fill:none\" points=\"232.389,721.204 251.287,721.204 \"/>\n",
       "<polyline clip-path=\"url(#clip190)\" style=\"stroke:#000000; stroke-linecap:round; stroke-linejoin:round; stroke-width:4; stroke-opacity:1; fill:none\" points=\"232.389,534.434 251.287,534.434 \"/>\n",
       "<polyline clip-path=\"url(#clip190)\" style=\"stroke:#000000; stroke-linecap:round; stroke-linejoin:round; stroke-width:4; stroke-opacity:1; fill:none\" points=\"232.389,347.664 251.287,347.664 \"/>\n",
       "<polyline clip-path=\"url(#clip190)\" style=\"stroke:#000000; stroke-linecap:round; stroke-linejoin:round; stroke-width:4; stroke-opacity:1; fill:none\" points=\"232.389,160.894 251.287,160.894 \"/>\n",
       "<path clip-path=\"url(#clip190)\" d=\"M154.862 1279.65 Q151.714 1279.65 149.862 1281.8 Q148.033 1283.96 148.033 1287.71 Q148.033 1291.43 149.862 1293.61 Q151.714 1295.76 154.862 1295.76 Q158.01 1295.76 159.839 1293.61 Q161.69 1291.43 161.69 1287.71 Q161.69 1283.96 159.839 1281.8 Q158.01 1279.65 154.862 1279.65 M164.144 1265 L164.144 1269.26 Q162.385 1268.42 160.579 1267.98 Q158.797 1267.54 157.038 1267.54 Q152.408 1267.54 149.954 1270.67 Q147.524 1273.79 147.177 1280.11 Q148.542 1278.1 150.603 1277.04 Q152.663 1275.95 155.14 1275.95 Q160.348 1275.95 163.357 1279.12 Q166.39 1282.27 166.39 1287.71 Q166.39 1293.03 163.241 1296.25 Q160.093 1299.47 154.862 1299.47 Q148.866 1299.47 145.695 1294.88 Q142.524 1290.28 142.524 1281.55 Q142.524 1273.35 146.413 1268.49 Q150.302 1263.61 156.853 1263.61 Q158.612 1263.61 160.394 1263.96 Q162.2 1264.3 164.144 1265 Z\" fill=\"#000000\" fill-rule=\"nonzero\" fill-opacity=\"1\" /><path clip-path=\"url(#clip190)\" d=\"M184.445 1267.31 Q180.834 1267.31 179.005 1270.88 Q177.2 1274.42 177.2 1281.55 Q177.2 1288.66 179.005 1292.22 Q180.834 1295.76 184.445 1295.76 Q188.079 1295.76 189.885 1292.22 Q191.713 1288.66 191.713 1281.55 Q191.713 1274.42 189.885 1270.88 Q188.079 1267.31 184.445 1267.31 M184.445 1263.61 Q190.255 1263.61 193.311 1268.22 Q196.389 1272.8 196.389 1281.55 Q196.389 1290.28 193.311 1294.88 Q190.255 1299.47 184.445 1299.47 Q178.635 1299.47 175.556 1294.88 Q172.501 1290.28 172.501 1281.55 Q172.501 1272.8 175.556 1268.22 Q178.635 1263.61 184.445 1263.61 Z\" fill=\"#000000\" fill-rule=\"nonzero\" fill-opacity=\"1\" /><path clip-path=\"url(#clip190)\" d=\"M154.283 1095.61 Q150.95 1095.61 149.028 1097.39 Q147.13 1099.18 147.13 1102.3 Q147.13 1105.43 149.028 1107.21 Q150.95 1108.99 154.283 1108.99 Q157.616 1108.99 159.538 1107.21 Q161.459 1105.4 161.459 1102.3 Q161.459 1099.18 159.538 1097.39 Q157.64 1095.61 154.283 1095.61 M149.607 1093.62 Q146.598 1092.88 144.908 1090.82 Q143.241 1088.76 143.241 1085.8 Q143.241 1081.65 146.181 1079.25 Q149.144 1076.84 154.283 1076.84 Q159.445 1076.84 162.385 1079.25 Q165.325 1081.65 165.325 1085.8 Q165.325 1088.76 163.635 1090.82 Q161.968 1092.88 158.982 1093.62 Q162.362 1094.41 164.237 1096.7 Q166.135 1098.99 166.135 1102.3 Q166.135 1107.33 163.056 1110.01 Q160.001 1112.7 154.283 1112.7 Q148.566 1112.7 145.487 1110.01 Q142.431 1107.33 142.431 1102.3 Q142.431 1098.99 144.329 1096.7 Q146.228 1094.41 149.607 1093.62 M147.894 1086.24 Q147.894 1088.92 149.561 1090.43 Q151.251 1091.93 154.283 1091.93 Q157.292 1091.93 158.982 1090.43 Q160.695 1088.92 160.695 1086.24 Q160.695 1083.55 158.982 1082.05 Q157.292 1080.54 154.283 1080.54 Q151.251 1080.54 149.561 1082.05 Q147.894 1083.55 147.894 1086.24 Z\" fill=\"#000000\" fill-rule=\"nonzero\" fill-opacity=\"1\" /><path clip-path=\"url(#clip190)\" d=\"M184.445 1080.54 Q180.834 1080.54 179.005 1084.11 Q177.2 1087.65 177.2 1094.78 Q177.2 1101.89 179.005 1105.45 Q180.834 1108.99 184.445 1108.99 Q188.079 1108.99 189.885 1105.45 Q191.713 1101.89 191.713 1094.78 Q191.713 1087.65 189.885 1084.11 Q188.079 1080.54 184.445 1080.54 M184.445 1076.84 Q190.255 1076.84 193.311 1081.45 Q196.389 1086.03 196.389 1094.78 Q196.389 1103.51 193.311 1108.11 Q190.255 1112.7 184.445 1112.7 Q178.635 1112.7 175.556 1108.11 Q172.501 1103.51 172.501 1094.78 Q172.501 1086.03 175.556 1081.45 Q178.635 1076.84 184.445 1076.84 Z\" fill=\"#000000\" fill-rule=\"nonzero\" fill-opacity=\"1\" /><path clip-path=\"url(#clip190)\" d=\"M114.931 921.319 L122.57 921.319 L122.57 894.954 L114.26 896.62 L114.26 892.361 L122.524 890.694 L127.2 890.694 L127.2 921.319 L134.839 921.319 L134.839 925.254 L114.931 925.254 L114.931 921.319 Z\" fill=\"#000000\" fill-rule=\"nonzero\" fill-opacity=\"1\" /><path clip-path=\"url(#clip190)\" d=\"M154.283 893.773 Q150.672 893.773 148.843 897.338 Q147.038 900.879 147.038 908.009 Q147.038 915.116 148.843 918.68 Q150.672 922.222 154.283 922.222 Q157.917 922.222 159.723 918.68 Q161.552 915.116 161.552 908.009 Q161.552 900.879 159.723 897.338 Q157.917 893.773 154.283 893.773 M154.283 890.069 Q160.093 890.069 163.149 894.676 Q166.227 899.259 166.227 908.009 Q166.227 916.736 163.149 921.342 Q160.093 925.926 154.283 925.926 Q148.473 925.926 145.394 921.342 Q142.339 916.736 142.339 908.009 Q142.339 899.259 145.394 894.676 Q148.473 890.069 154.283 890.069 Z\" fill=\"#000000\" fill-rule=\"nonzero\" fill-opacity=\"1\" /><path clip-path=\"url(#clip190)\" d=\"M184.445 893.773 Q180.834 893.773 179.005 897.338 Q177.2 900.879 177.2 908.009 Q177.2 915.116 179.005 918.68 Q180.834 922.222 184.445 922.222 Q188.079 922.222 189.885 918.68 Q191.713 915.116 191.713 908.009 Q191.713 900.879 189.885 897.338 Q188.079 893.773 184.445 893.773 M184.445 890.069 Q190.255 890.069 193.311 894.676 Q196.389 899.259 196.389 908.009 Q196.389 916.736 193.311 921.342 Q190.255 925.926 184.445 925.926 Q178.635 925.926 175.556 921.342 Q172.501 916.736 172.501 908.009 Q172.501 899.259 175.556 894.676 Q178.635 890.069 184.445 890.069 Z\" fill=\"#000000\" fill-rule=\"nonzero\" fill-opacity=\"1\" /><path clip-path=\"url(#clip190)\" d=\"M114.931 734.549 L122.57 734.549 L122.57 708.183 L114.26 709.85 L114.26 705.591 L122.524 703.924 L127.2 703.924 L127.2 734.549 L134.839 734.549 L134.839 738.484 L114.931 738.484 L114.931 734.549 Z\" fill=\"#000000\" fill-rule=\"nonzero\" fill-opacity=\"1\" /><path clip-path=\"url(#clip190)\" d=\"M148.311 734.549 L164.63 734.549 L164.63 738.484 L142.686 738.484 L142.686 734.549 Q145.348 731.794 149.931 727.165 Q154.538 722.512 155.718 721.169 Q157.964 718.646 158.843 716.91 Q159.746 715.151 159.746 713.461 Q159.746 710.707 157.802 708.97 Q155.88 707.234 152.778 707.234 Q150.579 707.234 148.126 707.998 Q145.695 708.762 142.917 710.313 L142.917 705.591 Q145.741 704.457 148.195 703.878 Q150.649 703.299 152.686 703.299 Q158.056 703.299 161.251 705.984 Q164.445 708.67 164.445 713.16 Q164.445 715.29 163.635 717.211 Q162.848 719.109 160.741 721.702 Q160.163 722.373 157.061 725.591 Q153.959 728.785 148.311 734.549 Z\" fill=\"#000000\" fill-rule=\"nonzero\" fill-opacity=\"1\" /><path clip-path=\"url(#clip190)\" d=\"M184.445 707.003 Q180.834 707.003 179.005 710.568 Q177.2 714.109 177.2 721.239 Q177.2 728.345 179.005 731.91 Q180.834 735.452 184.445 735.452 Q188.079 735.452 189.885 731.91 Q191.713 728.345 191.713 721.239 Q191.713 714.109 189.885 710.568 Q188.079 707.003 184.445 707.003 M184.445 703.299 Q190.255 703.299 193.311 707.906 Q196.389 712.489 196.389 721.239 Q196.389 729.966 193.311 734.572 Q190.255 739.155 184.445 739.155 Q178.635 739.155 175.556 734.572 Q172.501 729.966 172.501 721.239 Q172.501 712.489 175.556 707.906 Q178.635 703.299 184.445 703.299 Z\" fill=\"#000000\" fill-rule=\"nonzero\" fill-opacity=\"1\" /><path clip-path=\"url(#clip190)\" d=\"M114.931 547.779 L122.57 547.779 L122.57 521.413 L114.26 523.08 L114.26 518.821 L122.524 517.154 L127.2 517.154 L127.2 547.779 L134.839 547.779 L134.839 551.714 L114.931 551.714 L114.931 547.779 Z\" fill=\"#000000\" fill-rule=\"nonzero\" fill-opacity=\"1\" /><path clip-path=\"url(#clip190)\" d=\"M157.13 521.228 L145.325 539.677 L157.13 539.677 L157.13 521.228 M155.903 517.154 L161.783 517.154 L161.783 539.677 L166.714 539.677 L166.714 543.566 L161.783 543.566 L161.783 551.714 L157.13 551.714 L157.13 543.566 L141.529 543.566 L141.529 539.052 L155.903 517.154 Z\" fill=\"#000000\" fill-rule=\"nonzero\" fill-opacity=\"1\" /><path clip-path=\"url(#clip190)\" d=\"M184.445 520.233 Q180.834 520.233 179.005 523.798 Q177.2 527.339 177.2 534.469 Q177.2 541.575 179.005 545.14 Q180.834 548.682 184.445 548.682 Q188.079 548.682 189.885 545.14 Q191.713 541.575 191.713 534.469 Q191.713 527.339 189.885 523.798 Q188.079 520.233 184.445 520.233 M184.445 516.529 Q190.255 516.529 193.311 521.136 Q196.389 525.719 196.389 534.469 Q196.389 543.196 193.311 547.802 Q190.255 552.385 184.445 552.385 Q178.635 552.385 175.556 547.802 Q172.501 543.196 172.501 534.469 Q172.501 525.719 175.556 521.136 Q178.635 516.529 184.445 516.529 Z\" fill=\"#000000\" fill-rule=\"nonzero\" fill-opacity=\"1\" /><path clip-path=\"url(#clip190)\" d=\"M114.931 361.009 L122.57 361.009 L122.57 334.643 L114.26 336.31 L114.26 332.051 L122.524 330.384 L127.2 330.384 L127.2 361.009 L134.839 361.009 L134.839 364.944 L114.931 364.944 L114.931 361.009 Z\" fill=\"#000000\" fill-rule=\"nonzero\" fill-opacity=\"1\" /><path clip-path=\"url(#clip190)\" d=\"M154.862 345.8 Q151.714 345.8 149.862 347.953 Q148.033 350.106 148.033 353.856 Q148.033 357.583 149.862 359.759 Q151.714 361.912 154.862 361.912 Q158.01 361.912 159.839 359.759 Q161.69 357.583 161.69 353.856 Q161.69 350.106 159.839 347.953 Q158.01 345.8 154.862 345.8 M164.144 331.148 L164.144 335.407 Q162.385 334.574 160.579 334.134 Q158.797 333.694 157.038 333.694 Q152.408 333.694 149.954 336.819 Q147.524 339.944 147.177 346.263 Q148.542 344.25 150.603 343.185 Q152.663 342.097 155.14 342.097 Q160.348 342.097 163.357 345.268 Q166.39 348.416 166.39 353.856 Q166.39 359.18 163.241 362.398 Q160.093 365.615 154.862 365.615 Q148.866 365.615 145.695 361.032 Q142.524 356.425 142.524 347.699 Q142.524 339.504 146.413 334.643 Q150.302 329.759 156.853 329.759 Q158.612 329.759 160.394 330.106 Q162.2 330.453 164.144 331.148 Z\" fill=\"#000000\" fill-rule=\"nonzero\" fill-opacity=\"1\" /><path clip-path=\"url(#clip190)\" d=\"M184.445 333.463 Q180.834 333.463 179.005 337.027 Q177.2 340.569 177.2 347.699 Q177.2 354.805 179.005 358.37 Q180.834 361.912 184.445 361.912 Q188.079 361.912 189.885 358.37 Q191.713 354.805 191.713 347.699 Q191.713 340.569 189.885 337.027 Q188.079 333.463 184.445 333.463 M184.445 329.759 Q190.255 329.759 193.311 334.365 Q196.389 338.949 196.389 347.699 Q196.389 356.425 193.311 361.032 Q190.255 365.615 184.445 365.615 Q178.635 365.615 175.556 361.032 Q172.501 356.425 172.501 347.699 Q172.501 338.949 175.556 334.365 Q178.635 329.759 184.445 329.759 Z\" fill=\"#000000\" fill-rule=\"nonzero\" fill-opacity=\"1\" /><path clip-path=\"url(#clip190)\" d=\"M114.931 174.239 L122.57 174.239 L122.57 147.873 L114.26 149.54 L114.26 145.28 L122.524 143.614 L127.2 143.614 L127.2 174.239 L134.839 174.239 L134.839 178.174 L114.931 178.174 L114.931 174.239 Z\" fill=\"#000000\" fill-rule=\"nonzero\" fill-opacity=\"1\" /><path clip-path=\"url(#clip190)\" d=\"M154.283 161.762 Q150.95 161.762 149.028 163.544 Q147.13 165.327 147.13 168.452 Q147.13 171.577 149.028 173.359 Q150.95 175.141 154.283 175.141 Q157.616 175.141 159.538 173.359 Q161.459 171.553 161.459 168.452 Q161.459 165.327 159.538 163.544 Q157.64 161.762 154.283 161.762 M149.607 159.771 Q146.598 159.03 144.908 156.97 Q143.241 154.91 143.241 151.947 Q143.241 147.804 146.181 145.396 Q149.144 142.989 154.283 142.989 Q159.445 142.989 162.385 145.396 Q165.325 147.804 165.325 151.947 Q165.325 154.91 163.635 156.97 Q161.968 159.03 158.982 159.771 Q162.362 160.558 164.237 162.85 Q166.135 165.141 166.135 168.452 Q166.135 173.475 163.056 176.16 Q160.001 178.845 154.283 178.845 Q148.566 178.845 145.487 176.16 Q142.431 173.475 142.431 168.452 Q142.431 165.141 144.329 162.85 Q146.228 160.558 149.607 159.771 M147.894 152.387 Q147.894 155.072 149.561 156.577 Q151.251 158.081 154.283 158.081 Q157.292 158.081 158.982 156.577 Q160.695 155.072 160.695 152.387 Q160.695 149.702 158.982 148.197 Q157.292 146.692 154.283 146.692 Q151.251 146.692 149.561 148.197 Q147.894 149.702 147.894 152.387 Z\" fill=\"#000000\" fill-rule=\"nonzero\" fill-opacity=\"1\" /><path clip-path=\"url(#clip190)\" d=\"M184.445 146.692 Q180.834 146.692 179.005 150.257 Q177.2 153.799 177.2 160.928 Q177.2 168.035 179.005 171.6 Q180.834 175.141 184.445 175.141 Q188.079 175.141 189.885 171.6 Q191.713 168.035 191.713 160.928 Q191.713 153.799 189.885 150.257 Q188.079 146.692 184.445 146.692 M184.445 142.989 Q190.255 142.989 193.311 147.595 Q196.389 152.179 196.389 160.928 Q196.389 169.655 193.311 174.262 Q190.255 178.845 184.445 178.845 Q178.635 178.845 175.556 174.262 Q172.501 169.655 172.501 160.928 Q172.501 152.179 175.556 147.595 Q178.635 142.989 184.445 142.989 Z\" fill=\"#000000\" fill-rule=\"nonzero\" fill-opacity=\"1\" /><path clip-path=\"url(#clip190)\" d=\"M42.4881 991.273 L64.0042 991.273 L64.0042 997.129 L42.679 997.129 Q37.6183 997.129 35.1038 999.102 Q32.5894 1001.08 32.5894 1005.02 Q32.5894 1009.76 35.6131 1012.5 Q38.6368 1015.24 43.8567 1015.24 L64.0042 1015.24 L64.0042 1021.13 L28.3562 1021.13 L28.3562 1015.24 L33.8944 1015.24 Q30.6797 1013.14 29.0883 1010.31 Q27.4968 1007.44 27.4968 1003.72 Q27.4968 997.575 31.3163 994.424 Q35.1038 991.273 42.4881 991.273 Z\" fill=\"#000000\" fill-rule=\"nonzero\" fill-opacity=\"1\" /><path clip-path=\"url(#clip190)\" d=\"M49.9359 980.196 L28.3562 980.196 L28.3562 974.34 L49.7131 974.34 Q54.7739 974.34 57.3202 972.366 Q59.8346 970.393 59.8346 966.446 Q59.8346 961.704 56.8109 958.967 Q53.7872 956.197 48.5673 956.197 L28.3562 956.197 L28.3562 950.341 L64.0042 950.341 L64.0042 956.197 L58.5296 956.197 Q61.7762 958.33 63.3676 961.163 Q64.9272 963.964 64.9272 967.688 Q64.9272 973.83 61.1078 977.013 Q57.2883 980.196 49.9359 980.196 M27.4968 965.46 L27.4968 965.46 Z\" fill=\"#000000\" fill-rule=\"nonzero\" fill-opacity=\"1\" /><path clip-path=\"url(#clip190)\" d=\"M35.1993 910.524 Q31.2526 908.327 29.3747 905.272 Q27.4968 902.216 27.4968 898.079 Q27.4968 892.509 31.4117 889.485 Q35.2948 886.461 42.4881 886.461 L64.0042 886.461 L64.0042 892.349 L42.679 892.349 Q37.5546 892.349 35.072 894.164 Q32.5894 895.978 32.5894 899.702 Q32.5894 904.253 35.6131 906.895 Q38.6368 909.537 43.8567 909.537 L64.0042 909.537 L64.0042 915.425 L42.679 915.425 Q37.5228 915.425 35.072 917.239 Q32.5894 919.054 32.5894 922.841 Q32.5894 927.329 35.6449 929.971 Q38.6686 932.613 43.8567 932.613 L64.0042 932.613 L64.0042 938.501 L28.3562 938.501 L28.3562 932.613 L33.8944 932.613 Q30.616 930.607 29.0564 927.806 Q27.4968 925.006 27.4968 921.154 Q27.4968 917.271 29.4702 914.566 Q31.4436 911.828 35.1993 910.524 Z\" fill=\"#000000\" fill-rule=\"nonzero\" fill-opacity=\"1\" /><path clip-path=\"url(#clip190)\" d=\"M46.212 849.19 Q39.7508 849.19 36.0905 851.864 Q32.3984 854.505 32.3984 859.152 Q32.3984 863.799 36.0905 866.473 Q39.7508 869.115 46.212 869.115 Q52.6732 869.115 56.3653 866.473 Q60.0256 863.799 60.0256 859.152 Q60.0256 854.505 56.3653 851.864 Q52.6732 849.19 46.212 849.19 M33.7671 869.115 Q30.5842 867.269 29.0564 864.468 Q27.4968 861.635 27.4968 857.72 Q27.4968 851.227 32.6531 847.185 Q37.8093 843.111 46.212 843.111 Q54.6147 843.111 59.771 847.185 Q64.9272 851.227 64.9272 857.72 Q64.9272 861.635 63.3994 864.468 Q61.8398 867.269 58.657 869.115 L64.0042 869.115 L64.0042 875.003 L14.479 875.003 L14.479 869.115 L33.7671 869.115 Z\" fill=\"#000000\" fill-rule=\"nonzero\" fill-opacity=\"1\" /><path clip-path=\"url(#clip190)\" d=\"M44.7161 802.911 L47.5806 802.911 L47.5806 829.838 Q53.6281 829.456 56.8109 826.21 Q59.9619 822.931 59.9619 817.107 Q59.9619 813.733 59.1344 810.582 Q58.3069 807.399 56.6518 804.28 L62.1899 804.28 Q63.5267 807.431 64.227 810.741 Q64.9272 814.051 64.9272 817.457 Q64.9272 825.987 59.9619 830.984 Q54.9967 835.949 46.5303 835.949 Q37.7774 835.949 32.6531 831.239 Q27.4968 826.496 27.4968 818.475 Q27.4968 811.282 32.1438 807.113 Q36.7589 802.911 44.7161 802.911 M42.9973 808.768 Q38.1912 808.831 35.3266 811.473 Q32.4621 814.083 32.4621 818.412 Q32.4621 823.313 35.2312 826.273 Q38.0002 829.202 43.0292 829.647 L42.9973 808.768 Z\" fill=\"#000000\" fill-rule=\"nonzero\" fill-opacity=\"1\" /><path clip-path=\"url(#clip190)\" d=\"M33.8307 772.642 Q33.2578 773.629 33.0032 774.807 Q32.7167 775.952 32.7167 777.353 Q32.7167 782.318 35.9632 784.992 Q39.1779 787.634 45.2253 787.634 L64.0042 787.634 L64.0042 793.522 L28.3562 793.522 L28.3562 787.634 L33.8944 787.634 Q30.6479 785.788 29.0883 782.827 Q27.4968 779.867 27.4968 775.634 Q27.4968 775.029 27.5923 774.297 Q27.656 773.565 27.8151 772.674 L33.8307 772.642 Z\" fill=\"#000000\" fill-rule=\"nonzero\" fill-opacity=\"1\" /><path clip-path=\"url(#clip190)\" d=\"M32.4621 731.965 Q32.4621 736.676 36.1542 739.413 Q39.8145 742.151 46.212 742.151 Q52.6095 742.151 56.3017 739.445 Q59.9619 736.708 59.9619 731.965 Q59.9619 727.287 56.2698 724.549 Q52.5777 721.812 46.212 721.812 Q39.8781 721.812 36.186 724.549 Q32.4621 727.287 32.4621 731.965 M27.4968 731.965 Q27.4968 724.327 32.4621 719.966 Q37.4273 715.606 46.212 715.606 Q54.9649 715.606 59.9619 719.966 Q64.9272 724.327 64.9272 731.965 Q64.9272 739.636 59.9619 743.997 Q54.9649 748.325 46.212 748.325 Q37.4273 748.325 32.4621 743.997 Q27.4968 739.636 27.4968 731.965 Z\" fill=\"#000000\" fill-rule=\"nonzero\" fill-opacity=\"1\" /><path clip-path=\"url(#clip190)\" d=\"M14.479 687.851 L19.3487 687.851 L19.3487 693.453 Q19.3487 696.604 20.6219 697.845 Q21.895 699.055 25.2052 699.055 L28.3562 699.055 L28.3562 689.411 L32.9077 689.411 L32.9077 699.055 L64.0042 699.055 L64.0042 704.943 L32.9077 704.943 L32.9077 710.545 L28.3562 710.545 L28.3562 704.943 L25.8736 704.943 Q19.9216 704.943 17.2162 702.174 Q14.479 699.405 14.479 693.389 L14.479 687.851 Z\" fill=\"#000000\" fill-rule=\"nonzero\" fill-opacity=\"1\" /><path clip-path=\"url(#clip190)\" d=\"M46.0847 646.028 Q46.0847 653.126 47.7079 655.863 Q49.3312 658.601 53.2461 658.601 Q56.3653 658.601 58.2114 656.564 Q60.0256 654.495 60.0256 650.962 Q60.0256 646.092 56.5881 643.164 Q53.1188 640.204 47.3897 640.204 L46.0847 640.204 L46.0847 646.028 M43.6657 634.347 L64.0042 634.347 L64.0042 640.204 L58.5933 640.204 Q61.8398 642.209 63.3994 645.201 Q64.9272 648.193 64.9272 652.521 Q64.9272 657.996 61.8716 661.242 Q58.7843 664.457 53.6281 664.457 Q47.6125 664.457 44.5569 660.447 Q41.5014 656.405 41.5014 648.416 L41.5014 640.204 L40.9285 640.204 Q36.8862 640.204 34.6901 642.877 Q32.4621 645.519 32.4621 650.325 Q32.4621 653.381 33.1941 656.277 Q33.9262 659.174 35.3903 661.847 L29.9795 661.847 Q28.7381 658.633 28.1334 655.609 Q27.4968 652.585 27.4968 649.721 Q27.4968 641.986 31.5072 638.167 Q35.5176 634.347 43.6657 634.347 Z\" fill=\"#000000\" fill-rule=\"nonzero\" fill-opacity=\"1\" /><path clip-path=\"url(#clip190)\" d=\"M45.7664 598.827 Q39.4007 598.827 35.8996 601.468 Q32.3984 604.078 32.3984 608.821 Q32.3984 613.531 35.8996 616.173 Q39.4007 618.783 45.7664 618.783 Q52.1003 618.783 55.6014 616.173 Q59.1026 613.531 59.1026 608.821 Q59.1026 604.078 55.6014 601.468 Q52.1003 598.827 45.7664 598.827 M59.58 592.97 Q68.683 592.97 73.1071 597.012 Q77.5631 601.055 77.5631 609.394 Q77.5631 612.481 77.0857 615.218 Q76.6401 617.956 75.6852 620.534 L69.9879 620.534 Q71.3884 617.956 72.0568 615.441 Q72.7252 612.927 72.7252 610.317 Q72.7252 604.556 69.7015 601.691 Q66.7096 598.827 60.6303 598.827 L57.7339 598.827 Q60.885 600.641 62.4446 603.474 Q64.0042 606.306 64.0042 610.253 Q64.0042 616.81 59.0071 620.82 Q54.01 624.831 45.7664 624.831 Q37.491 624.831 32.4939 620.82 Q27.4968 616.81 27.4968 610.253 Q27.4968 606.306 29.0564 603.474 Q30.616 600.641 33.7671 598.827 L28.3562 598.827 L28.3562 592.97 L59.58 592.97 Z\" fill=\"#000000\" fill-rule=\"nonzero\" fill-opacity=\"1\" /><path clip-path=\"url(#clip190)\" d=\"M44.7161 550.416 L47.5806 550.416 L47.5806 577.342 Q53.6281 576.961 56.8109 573.714 Q59.9619 570.436 59.9619 564.611 Q59.9619 561.237 59.1344 558.086 Q58.3069 554.903 56.6518 551.784 L62.1899 551.784 Q63.5267 554.935 64.227 558.245 Q64.9272 561.555 64.9272 564.961 Q64.9272 573.491 59.9619 578.488 Q54.9967 583.454 46.5303 583.454 Q37.7774 583.454 32.6531 578.743 Q27.4968 574 27.4968 565.98 Q27.4968 558.786 32.1438 554.617 Q36.7589 550.416 44.7161 550.416 M42.9973 556.272 Q38.1912 556.336 35.3266 558.977 Q32.4621 561.587 32.4621 565.916 Q32.4621 570.818 35.2312 573.778 Q38.0002 576.706 43.0292 577.151 L42.9973 556.272 Z\" fill=\"#000000\" fill-rule=\"nonzero\" fill-opacity=\"1\" /><path clip-path=\"url(#clip190)\" d=\"M42.4881 511.171 L64.0042 511.171 L64.0042 517.027 L42.679 517.027 Q37.6183 517.027 35.1038 519.001 Q32.5894 520.974 32.5894 524.921 Q32.5894 529.663 35.6131 532.401 Q38.6368 535.138 43.8567 535.138 L64.0042 535.138 L64.0042 541.026 L28.3562 541.026 L28.3562 535.138 L33.8944 535.138 Q30.6797 533.037 29.0883 530.204 Q27.4968 527.34 27.4968 523.616 Q27.4968 517.473 31.3163 514.322 Q35.1038 511.171 42.4881 511.171 Z\" fill=\"#000000\" fill-rule=\"nonzero\" fill-opacity=\"1\" /><path clip-path=\"url(#clip190)\" d=\"M18.2347 493.697 L28.3562 493.697 L28.3562 481.634 L32.9077 481.634 L32.9077 493.697 L52.2594 493.697 Q56.6199 493.697 57.8613 492.519 Q59.1026 491.31 59.1026 487.65 L59.1026 481.634 L64.0042 481.634 L64.0042 487.65 Q64.0042 494.429 61.4897 497.007 Q58.9434 499.585 52.2594 499.585 L32.9077 499.585 L32.9077 503.882 L28.3562 503.882 L28.3562 499.585 L18.2347 499.585 L18.2347 493.697 Z\" fill=\"#000000\" fill-rule=\"nonzero\" fill-opacity=\"1\" /><path clip-path=\"url(#clip190)\" d=\"M29.4065 451.206 L34.9447 451.206 Q33.6716 453.689 33.035 456.362 Q32.3984 459.036 32.3984 461.9 Q32.3984 466.261 33.7352 468.457 Q35.072 470.621 37.7456 470.621 Q39.7826 470.621 40.9603 469.062 Q42.1061 467.502 43.1565 462.792 L43.6021 460.786 Q44.9389 454.548 47.3897 451.938 Q49.8086 449.296 54.1691 449.296 Q59.1344 449.296 62.0308 453.243 Q64.9272 457.158 64.9272 464.033 Q64.9272 466.897 64.3543 470.017 Q63.8132 473.104 62.6992 476.541 L56.6518 476.541 Q58.3387 473.295 59.198 470.144 Q60.0256 466.993 60.0256 463.906 Q60.0256 459.768 58.6251 457.54 Q57.1929 455.312 54.6147 455.312 Q52.2276 455.312 50.9545 456.935 Q49.6813 458.527 48.5037 463.969 L48.0262 466.006 Q46.8804 471.449 44.5251 473.868 Q42.138 476.287 38.0002 476.287 Q32.9713 476.287 30.2341 472.722 Q27.4968 469.157 27.4968 462.601 Q27.4968 459.354 27.9743 456.49 Q28.4517 453.625 29.4065 451.206 Z\" fill=\"#000000\" fill-rule=\"nonzero\" fill-opacity=\"1\" /><polyline clip-path=\"url(#clip192)\" style=\"stroke:#009af9; stroke-linecap:round; stroke-linejoin:round; stroke-width:4; stroke-opacity:1; fill:none\" points=\"292.4,338.325 312.403,310.31 332.407,347.664 352.41,338.325 372.414,328.987 392.417,291.633 412.42,254.279 432.424,207.586 452.427,198.248 472.431,179.571 492.434,151.555 512.438,188.909 532.441,188.909 552.445,170.232 572.448,160.894 592.452,142.217 612.455,142.217 632.459,114.201 652.462,114.201 672.465,132.878 692.469,132.878 712.472,132.878 732.476,132.878 752.479,104.863 772.483,86.1857 792.486,132.878 812.49,151.555 832.493,160.894 852.497,198.248 872.5,263.617 892.503,282.294 912.507,272.956 932.51,272.956 952.514,300.971 972.517,272.956 992.521,319.648 1012.52,338.325 1032.53,328.987 1052.53,263.617 1072.53,282.294 1092.54,300.971 1112.54,328.987 1132.54,338.325 1152.55,347.664 1172.55,394.356 1192.56,422.372 1212.56,450.387 1232.56,403.695 1252.57,366.341 1272.57,385.018 1292.57,403.695 1312.58,394.356 1332.58,422.372 1352.58,431.71 1372.59,469.064 1392.59,459.726 1412.59,478.403 1432.6,469.064 1452.6,459.726 1472.6,450.387 1492.61,450.387 1512.61,506.419 1532.61,487.742 1552.62,459.726 1572.62,441.049 1592.62,441.049 1612.63,478.403 1632.63,450.387 1652.63,487.742 1672.64,497.08 1692.64,515.757 1712.65,534.434 1732.65,543.773 1752.65,553.111 1772.66,637.158 1792.66,702.527 1812.66,749.22 1832.67,721.204 1852.67,777.235 1872.67,823.928 1892.68,823.928 1912.68,823.928 1932.68,861.282 1952.69,851.943 1972.69,898.636 1992.69,917.313 2012.7,917.313 2032.7,907.974 2052.7,964.005 2072.71,982.682 2092.71,973.344 2112.71,982.682 2132.72,1001.36 2152.72,1038.71 2172.72,1085.41 2192.73,1122.76 2212.73,1197.47 2232.74,1216.15 2252.74,1262.84 2272.74,1253.5 2292.75,1300.19 \"/>\n",
       "<polyline clip-path=\"url(#clip192)\" style=\"stroke:#e26f46; stroke-linecap:round; stroke-linejoin:round; stroke-width:4; stroke-opacity:1; fill:none\" points=\"292.4,1384.24 312.403,1384.24 332.407,1384.24 352.41,1384.24 372.414,1384.24 392.417,1384.24 412.42,1384.24 432.424,1384.24 452.427,1384.24 472.431,1374.9 492.434,1374.9 512.438,1374.9 532.441,1365.56 552.445,1365.56 572.448,1365.56 592.452,1365.56 612.455,1365.56 632.459,1365.56 652.462,1356.22 672.465,1356.22 692.469,1356.22 712.472,1356.22 732.476,1346.88 752.479,1346.88 772.483,1346.88 792.486,1346.88 812.49,1337.55 832.493,1328.21 852.497,1328.21 872.5,1328.21 892.503,1328.21 912.507,1328.21 932.51,1328.21 952.514,1328.21 972.517,1328.21 992.521,1318.87 1012.52,1318.87 1032.53,1318.87 1052.53,1318.87 1072.53,1309.53 1092.54,1309.53 1112.54,1309.53 1132.54,1309.53 1152.55,1309.53 1172.55,1309.53 1192.56,1300.19 1212.56,1300.19 1232.56,1290.85 1252.57,1290.85 1272.57,1281.51 1292.57,1281.51 1312.58,1281.51 1332.58,1281.51 1352.58,1272.18 1372.59,1272.18 1392.59,1253.5 1412.59,1253.5 1432.6,1253.5 1452.6,1244.16 1472.6,1244.16 1492.61,1244.16 1512.61,1244.16 1532.61,1234.82 1552.62,1234.82 1572.62,1225.48 1592.62,1216.15 1612.63,1206.81 1632.63,1206.81 1652.63,1206.81 1672.64,1206.81 1692.64,1206.81 1712.65,1206.81 1732.65,1197.47 1752.65,1188.13 1772.66,1188.13 1792.66,1178.79 1812.66,1178.79 1832.67,1169.45 1852.67,1169.45 1872.67,1160.11 1892.68,1160.11 1912.68,1160.11 1932.68,1160.11 1952.69,1160.11 1972.69,1160.11 1992.69,1160.11 2012.7,1160.11 2032.7,1150.78 2052.7,1150.78 2072.71,1150.78 2092.71,1150.78 2112.71,1141.44 2132.72,1132.1 2152.72,1132.1 2172.72,1132.1 2192.73,1132.1 2212.73,1132.1 2232.74,1132.1 2252.74,1132.1 2272.74,1122.76 2292.75,1122.76 \"/>\n",
       "<path clip-path=\"url(#clip190)\" d=\"M1927.19 248.629 L2282.08 248.629 L2282.08 93.1086 L1927.19 93.1086  Z\" fill=\"#ffffff\" fill-rule=\"evenodd\" fill-opacity=\"1\"/>\n",
       "<polyline clip-path=\"url(#clip190)\" style=\"stroke:#000000; stroke-linecap:round; stroke-linejoin:round; stroke-width:4; stroke-opacity:1; fill:none\" points=\"1927.19,248.629 2282.08,248.629 2282.08,93.1086 1927.19,93.1086 1927.19,248.629 \"/>\n",
       "<polyline clip-path=\"url(#clip190)\" style=\"stroke:#009af9; stroke-linecap:round; stroke-linejoin:round; stroke-width:4; stroke-opacity:1; fill:none\" points=\"1950.75,144.949 2092.11,144.949 \"/>\n",
       "<path clip-path=\"url(#clip190)\" d=\"M2137.92 128.803 L2137.92 133.363 Q2135.25 132.09 2132.89 131.465 Q2130.53 130.84 2128.33 130.84 Q2124.51 130.84 2122.43 132.321 Q2120.37 133.803 2120.37 136.534 Q2120.37 138.826 2121.74 140.007 Q2123.12 141.164 2126.97 141.882 L2129.79 142.46 Q2135.02 143.456 2137.5 145.979 Q2140 148.479 2140 152.692 Q2140 157.715 2136.62 160.307 Q2133.26 162.9 2126.76 162.9 Q2124.31 162.9 2121.53 162.344 Q2118.77 161.789 2115.81 160.701 L2115.81 155.886 Q2118.66 157.483 2121.39 158.293 Q2124.12 159.104 2126.76 159.104 Q2130.76 159.104 2132.94 157.53 Q2135.12 155.956 2135.12 153.039 Q2135.12 150.493 2133.54 149.057 Q2131.99 147.622 2128.43 146.905 L2125.58 146.349 Q2120.35 145.307 2118.01 143.085 Q2115.67 140.863 2115.67 136.905 Q2115.67 132.321 2118.89 129.682 Q2122.13 127.044 2127.8 127.044 Q2130.23 127.044 2132.75 127.483 Q2135.28 127.923 2137.92 128.803 Z\" fill=\"#000000\" fill-rule=\"nonzero\" fill-opacity=\"1\" /><path clip-path=\"url(#clip190)\" d=\"M2168.66 146.581 L2168.66 162.229 L2164.4 162.229 L2164.4 146.719 Q2164.4 143.039 2162.96 141.21 Q2161.53 139.382 2158.66 139.382 Q2155.21 139.382 2153.22 141.581 Q2151.23 143.78 2151.23 147.576 L2151.23 162.229 L2146.94 162.229 L2146.94 126.21 L2151.23 126.21 L2151.23 140.331 Q2152.75 137.993 2154.81 136.835 Q2156.9 135.678 2159.61 135.678 Q2164.07 135.678 2166.37 138.456 Q2168.66 141.21 2168.66 146.581 Z\" fill=\"#000000\" fill-rule=\"nonzero\" fill-opacity=\"1\" /><path clip-path=\"url(#clip190)\" d=\"M2199.33 148.201 L2199.33 150.284 L2179.74 150.284 Q2180.02 154.682 2182.38 156.997 Q2184.77 159.289 2189 159.289 Q2191.46 159.289 2193.75 158.687 Q2196.06 158.085 2198.33 156.881 L2198.33 160.909 Q2196.04 161.881 2193.63 162.391 Q2191.23 162.9 2188.75 162.9 Q2182.55 162.9 2178.91 159.289 Q2175.3 155.678 2175.3 149.52 Q2175.3 143.155 2178.73 139.428 Q2182.18 135.678 2188.01 135.678 Q2193.24 135.678 2196.27 139.057 Q2199.33 142.414 2199.33 148.201 M2195.07 146.951 Q2195.02 143.456 2193.1 141.372 Q2191.2 139.289 2188.05 139.289 Q2184.49 139.289 2182.34 141.303 Q2180.21 143.317 2179.88 146.974 L2195.07 146.951 Z\" fill=\"#000000\" fill-rule=\"nonzero\" fill-opacity=\"1\" /><path clip-path=\"url(#clip190)\" d=\"M2228.49 148.201 L2228.49 150.284 L2208.91 150.284 Q2209.19 154.682 2211.55 156.997 Q2213.93 159.289 2218.17 159.289 Q2220.62 159.289 2222.92 158.687 Q2225.23 158.085 2227.5 156.881 L2227.5 160.909 Q2225.21 161.881 2222.8 162.391 Q2220.39 162.9 2217.92 162.9 Q2211.71 162.9 2208.08 159.289 Q2204.47 155.678 2204.47 149.52 Q2204.47 143.155 2207.89 139.428 Q2211.34 135.678 2217.18 135.678 Q2222.41 135.678 2225.44 139.057 Q2228.49 142.414 2228.49 148.201 M2224.24 146.951 Q2224.19 143.456 2222.27 141.372 Q2220.37 139.289 2217.22 139.289 Q2213.66 139.289 2211.5 141.303 Q2209.37 143.317 2209.05 146.974 L2224.24 146.951 Z\" fill=\"#000000\" fill-rule=\"nonzero\" fill-opacity=\"1\" /><path clip-path=\"url(#clip190)\" d=\"M2239.61 158.34 L2239.61 172.09 L2235.32 172.09 L2235.32 136.303 L2239.61 136.303 L2239.61 140.238 Q2240.95 137.923 2242.99 136.812 Q2245.05 135.678 2247.89 135.678 Q2252.61 135.678 2255.55 139.428 Q2258.52 143.178 2258.52 149.289 Q2258.52 155.4 2255.55 159.15 Q2252.61 162.9 2247.89 162.9 Q2245.05 162.9 2242.99 161.789 Q2240.95 160.655 2239.61 158.34 M2254.1 149.289 Q2254.1 144.59 2252.15 141.928 Q2250.23 139.243 2246.85 139.243 Q2243.47 139.243 2241.53 141.928 Q2239.61 144.59 2239.61 149.289 Q2239.61 153.988 2241.53 156.673 Q2243.47 159.335 2246.85 159.335 Q2250.23 159.335 2252.15 156.673 Q2254.1 153.988 2254.1 149.289 Z\" fill=\"#000000\" fill-rule=\"nonzero\" fill-opacity=\"1\" /><polyline clip-path=\"url(#clip190)\" style=\"stroke:#e26f46; stroke-linecap:round; stroke-linejoin:round; stroke-width:4; stroke-opacity:1; fill:none\" points=\"1950.75,196.789 2092.11,196.789 \"/>\n",
       "<path clip-path=\"url(#clip190)\" d=\"M2115.67 179.509 L2120.39 179.509 L2127.66 208.721 L2134.91 179.509 L2140.16 179.509 L2147.43 208.721 L2154.68 179.509 L2159.42 179.509 L2150.74 214.069 L2144.86 214.069 L2137.57 184.069 L2130.21 214.069 L2124.33 214.069 L2115.67 179.509 Z\" fill=\"#000000\" fill-rule=\"nonzero\" fill-opacity=\"1\" /><path clip-path=\"url(#clip190)\" d=\"M2172.71 191.129 Q2169.28 191.129 2167.29 193.814 Q2165.3 196.476 2165.3 201.129 Q2165.3 205.782 2167.27 208.467 Q2169.26 211.129 2172.71 211.129 Q2176.11 211.129 2178.1 208.444 Q2180.09 205.758 2180.09 201.129 Q2180.09 196.522 2178.1 193.837 Q2176.11 191.129 2172.71 191.129 M2172.71 187.518 Q2178.26 187.518 2181.43 191.129 Q2184.61 194.74 2184.61 201.129 Q2184.61 207.495 2181.43 211.129 Q2178.26 214.74 2172.71 214.74 Q2167.13 214.74 2163.96 211.129 Q2160.81 207.495 2160.81 201.129 Q2160.81 194.74 2163.96 191.129 Q2167.13 187.518 2172.71 187.518 Z\" fill=\"#000000\" fill-rule=\"nonzero\" fill-opacity=\"1\" /><path clip-path=\"url(#clip190)\" d=\"M2191.67 178.05 L2195.93 178.05 L2195.93 214.069 L2191.67 214.069 L2191.67 178.05 Z\" fill=\"#000000\" fill-rule=\"nonzero\" fill-opacity=\"1\" /><path clip-path=\"url(#clip190)\" d=\"M2217.96 178.05 L2217.96 181.592 L2213.89 181.592 Q2211.6 181.592 2210.69 182.518 Q2209.81 183.444 2209.81 185.851 L2209.81 188.143 L2216.83 188.143 L2216.83 191.453 L2209.81 191.453 L2209.81 214.069 L2205.53 214.069 L2205.53 191.453 L2201.46 191.453 L2201.46 188.143 L2205.53 188.143 L2205.53 186.337 Q2205.53 182.009 2207.55 180.041 Q2209.56 178.05 2213.93 178.05 L2217.96 178.05 Z\" fill=\"#000000\" fill-rule=\"nonzero\" fill-opacity=\"1\" /></svg>\n"
      ],
      "text/html": [
       "<img src=\"data:image/png;base64,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\" />"
      ]
     },
     "metadata": {},
     "output_type": "display_data"
    },
    {
     "data": {
      "text/html": [
       "<div><div style = \"float: left;\"><span>101×2 DataFrame</span></div><div style = \"float: right;\"><span style = \"font-style: italic;\">76 rows omitted</span></div><div style = \"clear: both;\"></div></div><div class = \"data-frame\" style = \"overflow-x: scroll;\"><table class = \"data-frame\" style = \"margin-bottom: 6px;\"><thead><tr class = \"header\"><th class = \"rowNumber\" style = \"font-weight: bold; text-align: right;\">Row</th><th style = \"text-align: left;\">Sheep</th><th style = \"text-align: left;\">Wolf</th></tr><tr class = \"subheader headerLastRow\"><th class = \"rowNumber\" style = \"font-weight: bold; text-align: right;\"></th><th title = \"Int64\" style = \"text-align: left;\">Int64</th><th title = \"Int64\" style = \"text-align: left;\">Int64</th></tr></thead><tbody><tr><td class = \"rowNumber\" style = \"font-weight: bold; text-align: right;\">1</td><td style = \"text-align: right;\">161</td><td style = \"text-align: right;\">49</td></tr><tr><td class = \"rowNumber\" style = \"font-weight: bold; text-align: right;\">2</td><td style = \"text-align: right;\">164</td><td style = \"text-align: right;\">49</td></tr><tr><td class = \"rowNumber\" style = \"font-weight: bold; text-align: right;\">3</td><td style = \"text-align: right;\">160</td><td style = \"text-align: right;\">49</td></tr><tr><td class = \"rowNumber\" style = \"font-weight: bold; text-align: right;\">4</td><td style = \"text-align: right;\">161</td><td style = \"text-align: right;\">49</td></tr><tr><td class = \"rowNumber\" style = \"font-weight: bold; text-align: right;\">5</td><td style = \"text-align: right;\">162</td><td style = \"text-align: right;\">49</td></tr><tr><td class = \"rowNumber\" style = \"font-weight: bold; text-align: right;\">6</td><td style = \"text-align: right;\">166</td><td style = \"text-align: right;\">49</td></tr><tr><td class = \"rowNumber\" style = \"font-weight: bold; text-align: right;\">7</td><td style = \"text-align: right;\">170</td><td style = \"text-align: right;\">49</td></tr><tr><td class = \"rowNumber\" style = \"font-weight: bold; text-align: right;\">8</td><td style = \"text-align: right;\">175</td><td style = \"text-align: right;\">49</td></tr><tr><td class = \"rowNumber\" style = \"font-weight: bold; text-align: right;\">9</td><td style = \"text-align: right;\">176</td><td style = \"text-align: right;\">49</td></tr><tr><td class = \"rowNumber\" style = \"font-weight: bold; text-align: right;\">10</td><td style = \"text-align: right;\">178</td><td style = \"text-align: right;\">50</td></tr><tr><td class = \"rowNumber\" style = \"font-weight: bold; text-align: right;\">11</td><td style = \"text-align: right;\">181</td><td style = \"text-align: right;\">50</td></tr><tr><td class = \"rowNumber\" style = \"font-weight: bold; text-align: right;\">12</td><td style = \"text-align: right;\">177</td><td style = \"text-align: right;\">50</td></tr><tr><td class = \"rowNumber\" style = \"font-weight: bold; text-align: right;\">13</td><td style = \"text-align: right;\">177</td><td style = \"text-align: right;\">51</td></tr><tr><td style = \"text-align: right;\">&vellip;</td><td style = \"text-align: right;\">&vellip;</td><td style = \"text-align: right;\">&vellip;</td></tr><tr><td class = \"rowNumber\" style = \"font-weight: bold; text-align: right;\">90</td><td style = \"text-align: right;\">92</td><td style = \"text-align: right;\">74</td></tr><tr><td class = \"rowNumber\" style = \"font-weight: bold; text-align: right;\">91</td><td style = \"text-align: right;\">93</td><td style = \"text-align: right;\">74</td></tr><tr><td class = \"rowNumber\" style = \"font-weight: bold; text-align: right;\">92</td><td style = \"text-align: right;\">92</td><td style = \"text-align: right;\">75</td></tr><tr><td class = \"rowNumber\" style = \"font-weight: bold; text-align: right;\">93</td><td style = \"text-align: right;\">90</td><td style = \"text-align: right;\">76</td></tr><tr><td class = \"rowNumber\" style = \"font-weight: bold; text-align: right;\">94</td><td style = \"text-align: right;\">86</td><td style = \"text-align: right;\">76</td></tr><tr><td class = \"rowNumber\" style = \"font-weight: bold; text-align: right;\">95</td><td style = \"text-align: right;\">81</td><td style = \"text-align: right;\">76</td></tr><tr><td class = \"rowNumber\" style = \"font-weight: bold; text-align: right;\">96</td><td style = \"text-align: right;\">77</td><td style = \"text-align: right;\">76</td></tr><tr><td class = \"rowNumber\" style = \"font-weight: bold; text-align: right;\">97</td><td style = \"text-align: right;\">69</td><td style = \"text-align: right;\">76</td></tr><tr><td class = \"rowNumber\" style = \"font-weight: bold; text-align: right;\">98</td><td style = \"text-align: right;\">67</td><td style = \"text-align: right;\">76</td></tr><tr><td class = \"rowNumber\" style = \"font-weight: bold; text-align: right;\">99</td><td style = \"text-align: right;\">62</td><td style = \"text-align: right;\">76</td></tr><tr><td class = \"rowNumber\" style = \"font-weight: bold; text-align: right;\">100</td><td style = \"text-align: right;\">63</td><td style = \"text-align: right;\">77</td></tr><tr><td class = \"rowNumber\" style = \"font-weight: bold; text-align: right;\">101</td><td style = \"text-align: right;\">58</td><td style = \"text-align: right;\">77</td></tr></tbody></table></div>"
      ],
      "text/latex": [
       "\\begin{tabular}{r|cc}\n",
       "\t& Sheep & Wolf\\\\\n",
       "\t\\hline\n",
       "\t& Int64 & Int64\\\\\n",
       "\t\\hline\n",
       "\t1 & 161 & 49 \\\\\n",
       "\t2 & 164 & 49 \\\\\n",
       "\t3 & 160 & 49 \\\\\n",
       "\t4 & 161 & 49 \\\\\n",
       "\t5 & 162 & 49 \\\\\n",
       "\t6 & 166 & 49 \\\\\n",
       "\t7 & 170 & 49 \\\\\n",
       "\t8 & 175 & 49 \\\\\n",
       "\t9 & 176 & 49 \\\\\n",
       "\t10 & 178 & 50 \\\\\n",
       "\t11 & 181 & 50 \\\\\n",
       "\t12 & 177 & 50 \\\\\n",
       "\t13 & 177 & 51 \\\\\n",
       "\t14 & 179 & 51 \\\\\n",
       "\t15 & 180 & 51 \\\\\n",
       "\t16 & 182 & 51 \\\\\n",
       "\t17 & 182 & 51 \\\\\n",
       "\t18 & 185 & 51 \\\\\n",
       "\t19 & 185 & 52 \\\\\n",
       "\t20 & 183 & 52 \\\\\n",
       "\t21 & 183 & 52 \\\\\n",
       "\t22 & 183 & 52 \\\\\n",
       "\t23 & 183 & 53 \\\\\n",
       "\t24 & 186 & 53 \\\\\n",
       "\t25 & 188 & 53 \\\\\n",
       "\t26 & 183 & 53 \\\\\n",
       "\t27 & 181 & 54 \\\\\n",
       "\t28 & 180 & 55 \\\\\n",
       "\t29 & 176 & 55 \\\\\n",
       "\t30 & 169 & 55 \\\\\n",
       "\t$\\dots$ & $\\dots$ & $\\dots$ \\\\\n",
       "\\end{tabular}\n"
      ],
      "text/plain": [
       "\u001b[1m101×2 DataFrame\u001b[0m\n",
       "\u001b[1m Row \u001b[0m│\u001b[1m Sheep \u001b[0m\u001b[1m Wolf  \u001b[0m\n",
       "     │\u001b[90m Int64 \u001b[0m\u001b[90m Int64 \u001b[0m\n",
       "─────┼──────────────\n",
       "   1 │   161     49\n",
       "   2 │   164     49\n",
       "   3 │   160     49\n",
       "   4 │   161     49\n",
       "   5 │   162     49\n",
       "   6 │   166     49\n",
       "   7 │   170     49\n",
       "   8 │   175     49\n",
       "   9 │   176     49\n",
       "  10 │   178     50\n",
       "  11 │   181     50\n",
       "  ⋮  │   ⋮      ⋮\n",
       "  92 │    92     75\n",
       "  93 │    90     76\n",
       "  94 │    86     76\n",
       "  95 │    81     76\n",
       "  96 │    77     76\n",
       "  97 │    69     76\n",
       "  98 │    67     76\n",
       "  99 │    62     76\n",
       " 100 │    63     77\n",
       " 101 │    58     77\n",
       "\u001b[36m     80 rows omitted\u001b[0m"
      ]
     },
     "execution_count": 8,
     "metadata": {},
     "output_type": "execute_result"
    }
   ],
   "source": [
    "df = get_nums_agents(model, agent-> agent.atype == sheep, \n",
    "    agent->agent.atype == wolf, labels=[\"Sheep\", \"Wolf\"], \n",
    "    plot_result = true)"
   ]
  },
  {
   "cell_type": "markdown",
   "metadata": {},
   "source": [
    "Individual agent data recorded during model run can be obtained as"
   ]
  },
  {
   "cell_type": "code",
   "execution_count": 9,
   "metadata": {
    "scrolled": false
   },
   "outputs": [
    {
     "data": {
      "text/html": [
       "<div><div style = \"float: left;\"><span>101×2 DataFrame</span></div><div style = \"float: right;\"><span style = \"font-style: italic;\">76 rows omitted</span></div><div style = \"clear: both;\"></div></div><div class = \"data-frame\" style = \"overflow-x: scroll;\"><table class = \"data-frame\" style = \"margin-bottom: 6px;\"><thead><tr class = \"header\"><th class = \"rowNumber\" style = \"font-weight: bold; text-align: right;\">Row</th><th style = \"text-align: left;\">energy</th><th style = \"text-align: left;\">pos</th></tr><tr class = \"subheader headerLastRow\"><th class = \"rowNumber\" style = \"font-weight: bold; text-align: right;\"></th><th title = \"Union{Missing, Float64}\" style = \"text-align: left;\">Float64?</th><th title = \"Union{Missing, Vect{2, Int64}}\" style = \"text-align: left;\">Vect…?</th></tr></thead><tbody><tr><td class = \"rowNumber\" style = \"font-weight: bold; text-align: right;\">1</td><td style = \"text-align: right;\">40.0</td><td style = \"text-align: left;\">(6, 19)\\n</td></tr><tr><td class = \"rowNumber\" style = \"font-weight: bold; text-align: right;\">2</td><td style = \"text-align: right;\">40.0</td><td style = \"text-align: left;\">(6, 19)\\n</td></tr><tr><td class = \"rowNumber\" style = \"font-weight: bold; text-align: right;\">3</td><td style = \"text-align: right;\">40.0</td><td style = \"text-align: left;\">(6, 19)\\n</td></tr><tr><td class = \"rowNumber\" style = \"font-weight: bold; text-align: right;\">4</td><td style = \"text-align: right;\">40.0</td><td style = \"text-align: left;\">(6, 19)\\n</td></tr><tr><td class = \"rowNumber\" style = \"font-weight: bold; text-align: right;\">5</td><td style = \"text-align: right;\">40.0</td><td style = \"text-align: left;\">(6, 19)\\n</td></tr><tr><td class = \"rowNumber\" style = \"font-weight: bold; text-align: right;\">6</td><td style = \"text-align: right;\">40.0</td><td style = \"text-align: left;\">(6, 19)\\n</td></tr><tr><td class = \"rowNumber\" style = \"font-weight: bold; text-align: right;\">7</td><td style = \"text-align: right;\">40.0</td><td style = \"text-align: left;\">(6, 19)\\n</td></tr><tr><td class = \"rowNumber\" style = \"font-weight: bold; text-align: right;\">8</td><td style = \"text-align: right;\">40.0</td><td style = \"text-align: left;\">(6, 19)\\n</td></tr><tr><td class = \"rowNumber\" style = \"font-weight: bold; text-align: right;\">9</td><td style = \"text-align: right;\">40.0</td><td style = \"text-align: left;\">(6, 19)\\n</td></tr><tr><td class = \"rowNumber\" style = \"font-weight: bold; text-align: right;\">10</td><td style = \"text-align: right;\">40.0</td><td style = \"text-align: left;\">(6, 19)\\n</td></tr><tr><td class = \"rowNumber\" style = \"font-weight: bold; text-align: right;\">11</td><td style = \"text-align: right;\">40.0</td><td style = \"text-align: left;\">(6, 19)\\n</td></tr><tr><td class = \"rowNumber\" style = \"font-weight: bold; text-align: right;\">12</td><td style = \"text-align: right;\">40.0</td><td style = \"text-align: left;\">(6, 19)\\n</td></tr><tr><td class = \"rowNumber\" style = \"font-weight: bold; text-align: right;\">13</td><td style = \"text-align: right;\">40.0</td><td style = \"text-align: left;\">(6, 19)\\n</td></tr><tr><td style = \"text-align: right;\">&vellip;</td><td style = \"text-align: right;\">&vellip;</td><td style = \"text-align: right;\">&vellip;</td></tr><tr><td class = \"rowNumber\" style = \"font-weight: bold; text-align: right;\">90</td><td style = \"text-align: right;\">40.0</td><td style = \"text-align: left;\">(6, 19)\\n</td></tr><tr><td class = \"rowNumber\" style = \"font-weight: bold; text-align: right;\">91</td><td style = \"text-align: right;\">40.0</td><td style = \"text-align: left;\">(6, 19)\\n</td></tr><tr><td class = \"rowNumber\" style = \"font-weight: bold; text-align: right;\">92</td><td style = \"text-align: right;\">40.0</td><td style = \"text-align: left;\">(6, 19)\\n</td></tr><tr><td class = \"rowNumber\" style = \"font-weight: bold; text-align: right;\">93</td><td style = \"text-align: right;\">40.0</td><td style = \"text-align: left;\">(6, 19)\\n</td></tr><tr><td class = \"rowNumber\" style = \"font-weight: bold; text-align: right;\">94</td><td style = \"text-align: right;\">40.0</td><td style = \"text-align: left;\">(6, 19)\\n</td></tr><tr><td class = \"rowNumber\" style = \"font-weight: bold; text-align: right;\">95</td><td style = \"text-align: right;\">40.0</td><td style = \"text-align: left;\">(6, 19)\\n</td></tr><tr><td class = \"rowNumber\" style = \"font-weight: bold; text-align: right;\">96</td><td style = \"text-align: right;\">40.0</td><td style = \"text-align: left;\">(6, 19)\\n</td></tr><tr><td class = \"rowNumber\" style = \"font-weight: bold; text-align: right;\">97</td><td style = \"text-align: right;\">40.0</td><td style = \"text-align: left;\">(6, 19)\\n</td></tr><tr><td class = \"rowNumber\" style = \"font-weight: bold; text-align: right;\">98</td><td style = \"text-align: right;\">40.0</td><td style = \"text-align: left;\">(6, 19)\\n</td></tr><tr><td class = \"rowNumber\" style = \"font-weight: bold; text-align: right;\">99</td><td style = \"text-align: right;\">40.0</td><td style = \"text-align: left;\">(6, 19)\\n</td></tr><tr><td class = \"rowNumber\" style = \"font-weight: bold; text-align: right;\">100</td><td style = \"text-align: right;\">40.0</td><td style = \"text-align: left;\">(6, 19)\\n</td></tr><tr><td class = \"rowNumber\" style = \"font-weight: bold; text-align: right;\">101</td><td style = \"text-align: right;\">40.0</td><td style = \"text-align: left;\">(6, 19)\\n</td></tr></tbody></table></div>"
      ],
      "text/latex": [
       "\\begin{tabular}{r|cc}\n",
       "\t& energy & pos\\\\\n",
       "\t\\hline\n",
       "\t& Float64? & Vect…?\\\\\n",
       "\t\\hline\n",
       "\t1 & 40.0 & (6, 19)\\textbackslash{}n \\\\\n",
       "\t2 & 40.0 & (6, 19)\\textbackslash{}n \\\\\n",
       "\t3 & 40.0 & (6, 19)\\textbackslash{}n \\\\\n",
       "\t4 & 40.0 & (6, 19)\\textbackslash{}n \\\\\n",
       "\t5 & 40.0 & (6, 19)\\textbackslash{}n \\\\\n",
       "\t6 & 40.0 & (6, 19)\\textbackslash{}n \\\\\n",
       "\t7 & 40.0 & (6, 19)\\textbackslash{}n \\\\\n",
       "\t8 & 40.0 & (6, 19)\\textbackslash{}n \\\\\n",
       "\t9 & 40.0 & (6, 19)\\textbackslash{}n \\\\\n",
       "\t10 & 40.0 & (6, 19)\\textbackslash{}n \\\\\n",
       "\t11 & 40.0 & (6, 19)\\textbackslash{}n \\\\\n",
       "\t12 & 40.0 & (6, 19)\\textbackslash{}n \\\\\n",
       "\t13 & 40.0 & (6, 19)\\textbackslash{}n \\\\\n",
       "\t14 & 40.0 & (6, 19)\\textbackslash{}n \\\\\n",
       "\t15 & 40.0 & (6, 19)\\textbackslash{}n \\\\\n",
       "\t16 & 40.0 & (6, 19)\\textbackslash{}n \\\\\n",
       "\t17 & 40.0 & (6, 19)\\textbackslash{}n \\\\\n",
       "\t18 & 40.0 & (6, 19)\\textbackslash{}n \\\\\n",
       "\t19 & 40.0 & (6, 19)\\textbackslash{}n \\\\\n",
       "\t20 & 40.0 & (6, 19)\\textbackslash{}n \\\\\n",
       "\t21 & 40.0 & (6, 19)\\textbackslash{}n \\\\\n",
       "\t22 & 40.0 & (6, 19)\\textbackslash{}n \\\\\n",
       "\t23 & 40.0 & (6, 19)\\textbackslash{}n \\\\\n",
       "\t24 & 40.0 & (6, 19)\\textbackslash{}n \\\\\n",
       "\t25 & 40.0 & (6, 19)\\textbackslash{}n \\\\\n",
       "\t26 & 40.0 & (6, 19)\\textbackslash{}n \\\\\n",
       "\t27 & 40.0 & (6, 19)\\textbackslash{}n \\\\\n",
       "\t28 & 40.0 & (6, 19)\\textbackslash{}n \\\\\n",
       "\t29 & 40.0 & (6, 19)\\textbackslash{}n \\\\\n",
       "\t30 & 40.0 & (6, 19)\\textbackslash{}n \\\\\n",
       "\t$\\dots$ & $\\dots$ & $\\dots$ \\\\\n",
       "\\end{tabular}\n"
      ],
      "text/plain": [
       "\u001b[1m101×2 DataFrame\u001b[0m\n",
       "\u001b[1m Row \u001b[0m│\u001b[1m energy   \u001b[0m\u001b[1m pos       \u001b[0m\n",
       "     │\u001b[90m Float64? \u001b[0m\u001b[90m Vect…?    \u001b[0m\n",
       "─────┼─────────────────────\n",
       "   1 │     40.0  (6, 19)\\n\n",
       "   2 │     40.0  (6, 19)\\n\n",
       "   3 │     40.0  (6, 19)\\n\n",
       "   4 │     40.0  (6, 19)\\n\n",
       "   5 │     40.0  (6, 19)\\n\n",
       "   6 │     40.0  (6, 19)\\n\n",
       "   7 │     40.0  (6, 19)\\n\n",
       "   8 │     40.0  (6, 19)\\n\n",
       "   9 │     40.0  (6, 19)\\n\n",
       "  10 │     40.0  (6, 19)\\n\n",
       "  11 │     40.0  (6, 19)\\n\n",
       "  ⋮  │    ⋮          ⋮\n",
       "  92 │     40.0  (6, 19)\\n\n",
       "  93 │     40.0  (6, 19)\\n\n",
       "  94 │     40.0  (6, 19)\\n\n",
       "  95 │     40.0  (6, 19)\\n\n",
       "  96 │     40.0  (6, 19)\\n\n",
       "  97 │     40.0  (6, 19)\\n\n",
       "  98 │     40.0  (6, 19)\\n\n",
       "  99 │     40.0  (6, 19)\\n\n",
       " 100 │     40.0  (6, 19)\\n\n",
       " 101 │     40.0  (6, 19)\\n\n",
       "\u001b[36m            80 rows omitted\u001b[0m"
      ]
     },
     "execution_count": 9,
     "metadata": {},
     "output_type": "execute_result"
    }
   ],
   "source": [
    "df = get_agent_data(model.agents[2], model).record"
   ]
  },
  {
   "cell_type": "code",
   "execution_count": 10,
   "metadata": {},
   "outputs": [
    {
     "data": {
      "text/plain": [
       "Agent2D:\n",
       " pos :(13, 5)\n",
       "\n",
       " color: Col(0.0N0f8,0.0N0f8,0.0N0f8,1.0N0f8)\n",
       "\n",
       " atype: wolf\n",
       " energy: 14.5\n",
       " size: 0.25\n",
       " orientation: 0.0\n",
       " shape: circle\n"
      ]
     },
     "execution_count": 10,
     "metadata": {},
     "output_type": "execute_result"
    },
    {
     "name": "stdout",
     "output_type": "stream",
     "text": [
      "Saving animation as gif....\n"
     ]
    },
    {
     "name": "stderr",
     "output_type": "stream",
     "text": [
      "\u001b[36m\u001b[1m┌ \u001b[22m\u001b[39m\u001b[36m\u001b[1mInfo: \u001b[22m\u001b[39mFrames for animation \"movie_abm\" are being stored in directory: \n",
      "\u001b[36m\u001b[1m└ \u001b[22m\u001b[39m\t /tmp/jl_78rQLK\n",
      "\u001b[36m\u001b[1m┌ \u001b[22m\u001b[39m\u001b[36m\u001b[1mInfo: \u001b[22m\u001b[39m... 101 frames saved in directory:\n",
      "\u001b[36m\u001b[1m└ \u001b[22m\u001b[39m\t /tmp/jl_78rQLK\n"
     ]
    },
    {
     "name": "stdout",
     "output_type": "stream",
     "text": [
      "Animation saved at /home/dushya/.julia/scratchspaces/2ab8e4d3-e1e9-4248-86a3-8419d2d242e9/abm_anims/anim_2d.gif\n"
     ]
    },
    {
     "name": "stderr",
     "output_type": "stream",
     "text": [
      "\u001b[36m\u001b[1m[ \u001b[22m\u001b[39m\u001b[36m\u001b[1mInfo: \u001b[22m\u001b[39mGIF is: /home/dushya/.julia/scratchspaces/2ab8e4d3-e1e9-4248-86a3-8419d2d242e9/abm_anims/anim_2d.gif\n",
      "\u001b[91m\u001b[1m┌ \u001b[22m\u001b[39m\u001b[91m\u001b[1mError: \u001b[22m\u001b[39mError watching manifest\n",
      "\u001b[91m\u001b[1m│ \u001b[22m\u001b[39m  exception =\n",
      "\u001b[91m\u001b[1m│ \u001b[22m\u001b[39m   SystemError: opening file \"/home/dushya/.julia/packages/JLD2/z2UM4/src/JLD2.jl__@require__\": No such file or directory\n",
      "\u001b[91m\u001b[1m│ \u001b[22m\u001b[39m   Stacktrace:\n",
      "\u001b[91m\u001b[1m│ \u001b[22m\u001b[39m    [1] \u001b[0m\u001b[1msystemerror\u001b[22m\u001b[0m\u001b[1m(\u001b[22m\u001b[90mp\u001b[39m::\u001b[0mString, \u001b[90merrno\u001b[39m::\u001b[0mInt32; \u001b[90mextrainfo\u001b[39m::\u001b[0mNothing\u001b[0m\u001b[1m)\u001b[22m\n",
      "\u001b[91m\u001b[1m│ \u001b[22m\u001b[39m   \u001b[90m   @\u001b[39m \u001b[90mBase\u001b[39m \u001b[90m./\u001b[39m\u001b[90m\u001b[4merror.jl:176\u001b[24m\u001b[39m\n",
      "\u001b[91m\u001b[1m│ \u001b[22m\u001b[39m    [2] \u001b[0m\u001b[1m#systemerror#82\u001b[22m\n",
      "\u001b[91m\u001b[1m│ \u001b[22m\u001b[39m   \u001b[90m   @\u001b[39m \u001b[90m./\u001b[39m\u001b[90m\u001b[4merror.jl:175\u001b[24m\u001b[39m\u001b[90m [inlined]\u001b[39m\n",
      "\u001b[91m\u001b[1m│ \u001b[22m\u001b[39m    [3] \u001b[0m\u001b[1msystemerror\u001b[22m\n",
      "\u001b[91m\u001b[1m│ \u001b[22m\u001b[39m   \u001b[90m   @\u001b[39m \u001b[90m./\u001b[39m\u001b[90m\u001b[4merror.jl:175\u001b[24m\u001b[39m\u001b[90m [inlined]\u001b[39m\n",
      "\u001b[91m\u001b[1m│ \u001b[22m\u001b[39m    [4] \u001b[0m\u001b[1mopen\u001b[22m\u001b[0m\u001b[1m(\u001b[22m\u001b[90mfname\u001b[39m::\u001b[0mString; \u001b[90mlock\u001b[39m::\u001b[0mBool, \u001b[90mread\u001b[39m::\u001b[0mNothing, \u001b[90mwrite\u001b[39m::\u001b[0mNothing, \u001b[90mcreate\u001b[39m::\u001b[0mNothing, \u001b[90mtruncate\u001b[39m::\u001b[0mNothing, \u001b[90mappend\u001b[39m::\u001b[0mNothing\u001b[0m\u001b[1m)\u001b[22m\n",
      "\u001b[91m\u001b[1m│ \u001b[22m\u001b[39m   \u001b[90m   @\u001b[39m \u001b[90mBase\u001b[39m \u001b[90m./\u001b[39m\u001b[90m\u001b[4miostream.jl:293\u001b[24m\u001b[39m\n",
      "\u001b[91m\u001b[1m│ \u001b[22m\u001b[39m    [5] \u001b[0m\u001b[1mopen\u001b[22m\n",
      "\u001b[91m\u001b[1m│ \u001b[22m\u001b[39m   \u001b[90m   @\u001b[39m \u001b[90m./\u001b[39m\u001b[90m\u001b[4miostream.jl:275\u001b[24m\u001b[39m\u001b[90m [inlined]\u001b[39m\n",
      "\u001b[91m\u001b[1m│ \u001b[22m\u001b[39m    [6] \u001b[0m\u001b[1mopen\u001b[22m\u001b[0m\u001b[1m(\u001b[22m\u001b[90mf\u001b[39m::\u001b[0mBase.var\"#418#419\"\u001b[90m{String}\u001b[39m, \u001b[90margs\u001b[39m::\u001b[0mString; \u001b[90mkwargs\u001b[39m::\u001b[0mBase.Pairs\u001b[90m{Symbol, Union{}, Tuple{}, NamedTuple{(), Tuple{}}}\u001b[39m\u001b[0m\u001b[1m)\u001b[22m\n",
      "\u001b[91m\u001b[1m│ \u001b[22m\u001b[39m   \u001b[90m   @\u001b[39m \u001b[90mBase\u001b[39m \u001b[90m./\u001b[39m\u001b[90m\u001b[4mio.jl:393\u001b[24m\u001b[39m\n",
      "\u001b[91m\u001b[1m│ \u001b[22m\u001b[39m    [7] \u001b[0m\u001b[1mopen\u001b[22m\n",
      "\u001b[91m\u001b[1m│ \u001b[22m\u001b[39m   \u001b[90m   @\u001b[39m \u001b[90m./\u001b[39m\u001b[90m\u001b[4mio.jl:392\u001b[24m\u001b[39m\u001b[90m [inlined]\u001b[39m\n",
      "\u001b[91m\u001b[1m│ \u001b[22m\u001b[39m    [8] \u001b[0m\u001b[1mread\u001b[22m\n",
      "\u001b[91m\u001b[1m│ \u001b[22m\u001b[39m   \u001b[90m   @\u001b[39m \u001b[90m./\u001b[39m\u001b[90m\u001b[4mio.jl:473\u001b[24m\u001b[39m\u001b[90m [inlined]\u001b[39m\n",
      "\u001b[91m\u001b[1m│ \u001b[22m\u001b[39m    [9] \u001b[0m\u001b[1m(::Revise.var\"#41#42\"{String})\u001b[22m\u001b[0m\u001b[1m(\u001b[22m\u001b[0m\u001b[1m)\u001b[22m\n",
      "\u001b[91m\u001b[1m│ \u001b[22m\u001b[39m   \u001b[90m   @\u001b[39m \u001b[35mRevise\u001b[39m \u001b[90m~/.julia/packages/Revise/dbu85/src/\u001b[39m\u001b[90m\u001b[4mpkgs.jl:462\u001b[24m\u001b[39m\n",
      "\u001b[91m\u001b[1m└ \u001b[22m\u001b[39m\u001b[90m@ Revise ~/.julia/packages/Revise/dbu85/src/pkgs.jl:489\u001b[39m\n",
      "\u001b[91m\u001b[1m┌ \u001b[22m\u001b[39m\u001b[91m\u001b[1mError: \u001b[22m\u001b[39mError watching manifest\n",
      "\u001b[91m\u001b[1m│ \u001b[22m\u001b[39m  exception =\n",
      "\u001b[91m\u001b[1m│ \u001b[22m\u001b[39m   SystemError: opening file \"/home/dushya/.julia/packages/JLD2/z2UM4/src/JLD2.jl__@require__\": No such file or directory\n",
      "\u001b[91m\u001b[1m│ \u001b[22m\u001b[39m   Stacktrace:\n",
      "\u001b[91m\u001b[1m│ \u001b[22m\u001b[39m    [1] \u001b[0m\u001b[1msystemerror\u001b[22m\u001b[0m\u001b[1m(\u001b[22m\u001b[90mp\u001b[39m::\u001b[0mString, \u001b[90merrno\u001b[39m::\u001b[0mInt32; \u001b[90mextrainfo\u001b[39m::\u001b[0mNothing\u001b[0m\u001b[1m)\u001b[22m\n",
      "\u001b[91m\u001b[1m│ \u001b[22m\u001b[39m   \u001b[90m   @\u001b[39m \u001b[90mBase\u001b[39m \u001b[90m./\u001b[39m\u001b[90m\u001b[4merror.jl:176\u001b[24m\u001b[39m\n",
      "\u001b[91m\u001b[1m│ \u001b[22m\u001b[39m    [2] \u001b[0m\u001b[1m#systemerror#82\u001b[22m\n",
      "\u001b[91m\u001b[1m│ \u001b[22m\u001b[39m   \u001b[90m   @\u001b[39m \u001b[90m./\u001b[39m\u001b[90m\u001b[4merror.jl:175\u001b[24m\u001b[39m\u001b[90m [inlined]\u001b[39m\n",
      "\u001b[91m\u001b[1m│ \u001b[22m\u001b[39m    [3] \u001b[0m\u001b[1msystemerror\u001b[22m\n",
      "\u001b[91m\u001b[1m│ \u001b[22m\u001b[39m   \u001b[90m   @\u001b[39m \u001b[90m./\u001b[39m\u001b[90m\u001b[4merror.jl:175\u001b[24m\u001b[39m\u001b[90m [inlined]\u001b[39m\n",
      "\u001b[91m\u001b[1m│ \u001b[22m\u001b[39m    [4] \u001b[0m\u001b[1mopen\u001b[22m\u001b[0m\u001b[1m(\u001b[22m\u001b[90mfname\u001b[39m::\u001b[0mString; \u001b[90mlock\u001b[39m::\u001b[0mBool, \u001b[90mread\u001b[39m::\u001b[0mNothing, \u001b[90mwrite\u001b[39m::\u001b[0mNothing, \u001b[90mcreate\u001b[39m::\u001b[0mNothing, \u001b[90mtruncate\u001b[39m::\u001b[0mNothing, \u001b[90mappend\u001b[39m::\u001b[0mNothing\u001b[0m\u001b[1m)\u001b[22m\n",
      "\u001b[91m\u001b[1m│ \u001b[22m\u001b[39m   \u001b[90m   @\u001b[39m \u001b[90mBase\u001b[39m \u001b[90m./\u001b[39m\u001b[90m\u001b[4miostream.jl:293\u001b[24m\u001b[39m\n",
      "\u001b[91m\u001b[1m│ \u001b[22m\u001b[39m    [5] \u001b[0m\u001b[1mopen\u001b[22m\n",
      "\u001b[91m\u001b[1m│ \u001b[22m\u001b[39m   \u001b[90m   @\u001b[39m \u001b[90m./\u001b[39m\u001b[90m\u001b[4miostream.jl:275\u001b[24m\u001b[39m\u001b[90m [inlined]\u001b[39m\n",
      "\u001b[91m\u001b[1m│ \u001b[22m\u001b[39m    [6] \u001b[0m\u001b[1mopen\u001b[22m\u001b[0m\u001b[1m(\u001b[22m\u001b[90mf\u001b[39m::\u001b[0mBase.var\"#418#419\"\u001b[90m{String}\u001b[39m, \u001b[90margs\u001b[39m::\u001b[0mString; \u001b[90mkwargs\u001b[39m::\u001b[0mBase.Pairs\u001b[90m{Symbol, Union{}, Tuple{}, NamedTuple{(), Tuple{}}}\u001b[39m\u001b[0m\u001b[1m)\u001b[22m\n",
      "\u001b[91m\u001b[1m│ \u001b[22m\u001b[39m   \u001b[90m   @\u001b[39m \u001b[90mBase\u001b[39m \u001b[90m./\u001b[39m\u001b[90m\u001b[4mio.jl:393\u001b[24m\u001b[39m\n",
      "\u001b[91m\u001b[1m│ \u001b[22m\u001b[39m    [7] \u001b[0m\u001b[1mopen\u001b[22m\n",
      "\u001b[91m\u001b[1m│ \u001b[22m\u001b[39m   \u001b[90m   @\u001b[39m \u001b[90m./\u001b[39m\u001b[90m\u001b[4mio.jl:392\u001b[24m\u001b[39m\u001b[90m [inlined]\u001b[39m\n",
      "\u001b[91m\u001b[1m│ \u001b[22m\u001b[39m    [8] \u001b[0m\u001b[1mread\u001b[22m\n",
      "\u001b[91m\u001b[1m│ \u001b[22m\u001b[39m   \u001b[90m   @\u001b[39m \u001b[90m./\u001b[39m\u001b[90m\u001b[4mio.jl:473\u001b[24m\u001b[39m\u001b[90m [inlined]\u001b[39m\n",
      "\u001b[91m\u001b[1m│ \u001b[22m\u001b[39m    [9] \u001b[0m\u001b[1m(::Revise.var\"#41#42\"{String})\u001b[22m\u001b[0m\u001b[1m(\u001b[22m\u001b[0m\u001b[1m)\u001b[22m\n",
      "\u001b[91m\u001b[1m│ \u001b[22m\u001b[39m   \u001b[90m   @\u001b[39m \u001b[35mRevise\u001b[39m \u001b[90m~/.julia/packages/Revise/dbu85/src/\u001b[39m\u001b[90m\u001b[4mpkgs.jl:462\u001b[24m\u001b[39m\n",
      "\u001b[91m\u001b[1m└ \u001b[22m\u001b[39m\u001b[90m@ Revise ~/.julia/packages/Revise/dbu85/src/pkgs.jl:489\u001b[39m\n"
     ]
    }
   ],
   "source": [
    "model.agents[1]"
   ]
  }
 ],
 "metadata": {
  "@webio": {
   "lastCommId": "189a51a8415b423f8c203c996fdff6fd",
   "lastKernelId": "1af7d208-d09e-48de-8444-b75606197f70"
  },
  "kernelspec": {
   "display_name": "Julia 1.9.2",
   "language": "julia",
   "name": "julia-1.9"
  },
  "language_info": {
   "file_extension": ".jl",
   "mimetype": "application/julia",
   "name": "julia",
   "version": "1.9.2"
  }
 },
 "nbformat": 4,
 "nbformat_minor": 4
}
