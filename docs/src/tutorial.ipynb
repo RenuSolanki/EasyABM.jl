{
 "cells": [
  {
   "cell_type": "markdown",
   "metadata": {},
   "source": [
    "# Tutorial\n",
    "\n",
    "Studying an agents based model in EasyABM is basically a 5-step process. \n",
    "\n",
    "1. Create agents and model. \n",
    "2. Initialise the model, using the `init_model!` function.\n",
    "3. Define a `step_rule` function and run the model. \n",
    "4. Visualisation which can be achieved simply by running `animate_sim(model)`. One can alo explore the model through an interactive app that can be created using the function `create_interactive_app`. \n",
    "5. Fetch and analyse data collected during model run. \n",
    "\n",
    "We explain these steps below through a very simple model of a star-planet system. Though it can be debated if a star-planet system can really qualify as an agent based model, it nevertheless serves as a good example for demonstrating the workings of EasyABM. "
   ]
  },
  {
   "cell_type": "code",
   "execution_count": 1,
   "metadata": {},
   "outputs": [
    {
     "name": "stderr",
     "output_type": "stream",
     "text": [
      "\u001b[32m\u001b[1m  Activating\u001b[22m\u001b[39m project at `~/Documents/EasyABM`\n"
     ]
    },
    {
     "data": {
      "application/vnd.webio.node+json": {
       "children": [],
       "instanceArgs": {
        "namespace": "html",
        "tag": "div"
       },
       "nodeType": "DOM",
       "props": {},
       "type": "node"
      },
      "text/html": [
       "<div style=\"padding: 1em; background-color: #f8d6da; border: 1px solid #f5c6cb; font-weight: bold;\">\n",
       "<p>The WebIO Jupyter extension was not detected. See the\n",
       "<a href=\"https://juliagizmos.github.io/WebIO.jl/latest/providers/ijulia/\" target=\"_blank\">\n",
       "    WebIO Jupyter integration documentation\n",
       "</a>\n",
       "for more information.\n",
       "</div>\n"
      ],
      "text/plain": [
       "WebIO._IJuliaInit()"
      ]
     },
     "metadata": {
      "application/vnd.webio.node+json": {
       "kernelId": "a095ab2e-6231-4385-a2c1-7658f186d82b"
      }
     },
     "output_type": "display_data"
    }
   ],
   "source": [
    "using Pkg, Revise\n",
    "Pkg.activate(joinpath(@__DIR__, \"../..\"))\n",
    "using EasyABM"
   ]
  },
  {
   "cell_type": "markdown",
   "metadata": {},
   "source": [
    "## Step 1: Create the agents and the model.\n",
    "\n",
    "In the first step we create the agents and the model. For the star-planet system, we need one agent for the star and one for the planet. We will assume that the star is stationary and the planet revolves around it. We set the position of the star to be Vect(5.0,5.0) which is the center point of the 2d space, as the default dimensions of 2d space in EasyABM is 10x10. The position `pos` is only accepted as a Vect which is an inbuilt vector type in EasyABM. It is also recommended for both convenience as well as performance to use Vect type for any vectorial properties in the model such as velocity and forces. We set the position of the planet to be Vect(7.0,5.0) and its velocity to be Vect(0.0,1.0). Since, the planet will change its position we require it to record its position and velocity during the model run. We specify this via `keeps_record_of` argument in the function for creating agent(s). We also have user defined model properties `gravity` and `dt` which stand for the force of gravity and small time interval between position and velocity updates respectively. "
   ]
  },
  {
   "cell_type": "code",
   "execution_count": 25,
   "metadata": {},
   "outputs": [
    {
     "data": {
      "text/plain": [
       "EasyABM SpaceModel2D{Static, Float64, Periodic}: In a Static model number of agents is fixed.\n"
      ]
     },
     "execution_count": 25,
     "metadata": {},
     "output_type": "execute_result"
    }
   ],
   "source": [
    "star = con_2d_agent( pos = Vect(5.0,5.0), size = 15, color = cl\"yellow\") # by default 2d space is 10x10, so that (5,5) is center.\n",
    "planet = con_2d_agent(pos = Vect(7.0,5.0), vel = Vect(0.0,1.0), \n",
    "    size=5, color = cl\"blue\", keeps_record_of = Set([:pos, :vel])) \n",
    "model = create_2d_model([star, planet], gravity = 3.0, dt=0.1)"
   ]
  },
  {
   "cell_type": "markdown",
   "metadata": {},
   "source": [
    "## Step 2: Initialise the model.\n",
    "\n",
    "In this step we define an initialiser function to set the initial properties of the agents. Suppose we want our planet to be at position Vect(5.0,8.0) and velocity Vect(-1.0, 0.0) initially. We can do so by defining an initialiser function and then sending it as an argument to `init_model!` function as follows."
   ]
  },
  {
   "cell_type": "code",
   "execution_count": 26,
   "metadata": {},
   "outputs": [],
   "source": [
    "function initialiser!(model)\n",
    "    planet = model.agents[2]\n",
    "    planet.pos = Vect(5.0, 8.0)\n",
    "    planet.vel = Vect(-1.0,0.0)\n",
    "end\n",
    "\n",
    "init_model!(model, initialiser = initialiser!)"
   ]
  },
  {
   "cell_type": "markdown",
   "metadata": {},
   "source": [
    "## Step 3: Define a `step_rule` and run the model\n",
    "\n",
    "In this step, we define rule for the time evolution and then run the model. We define our `step_rule` to be simply discretisation of Newton's equations for a 2 body system."
   ]
  },
  {
   "cell_type": "code",
   "execution_count": 27,
   "metadata": {
    "scrolled": true
   },
   "outputs": [
    {
     "data": {
      "text/plain": [
       "step_rule! (generic function with 1 method)"
      ]
     },
     "execution_count": 27,
     "metadata": {},
     "output_type": "execute_result"
    }
   ],
   "source": [
    "function step_rule!(model)\n",
    "    gravity = model.parameters.gravity\n",
    "    dt = model.parameters.dt\n",
    "    star = model.agents[1]\n",
    "    planet = model.agents[2]\n",
    "    distance_vector = (star.pos - planet.pos)\n",
    "    distance = veclength(distance_vector)\n",
    "    force = gravity*distance_vector/distance^3\n",
    "    planet.vel += force*dt\n",
    "    planet.pos += planet.vel*dt\n",
    "end"
   ]
  },
  {
   "cell_type": "code",
   "execution_count": 28,
   "metadata": {},
   "outputs": [],
   "source": [
    "run_model!(model,steps = 500, step_rule=step_rule!)"
   ]
  },
  {
   "cell_type": "markdown",
   "metadata": {},
   "source": [
    "## Step 4: Visualisation\n",
    "\n",
    "In order to draw the model at a specific frame, say 4th, one can use"
   ]
  },
  {
   "cell_type": "code",
   "execution_count": 6,
   "metadata": {},
   "outputs": [
    {
     "data": {
      "image/png": "[encoded data removed]",
      "text/plain": []
     },
     "execution_count": 6,
     "metadata": {},
     "output_type": "execute_result"
    }
   ],
   "source": [
    "draw_frame(model, frame = 4)"
   ]
  },
  {
   "cell_type": "markdown",
   "metadata": {},
   "source": [
    "We can look at the animation of the time evolutio with following line of code\n"
   ]
  },
  {
   "cell_type": "code",
   "execution_count": 29,
   "metadata": {
    "scrolled": true
   },
   "outputs": [
    {
     "data": {
      "application/vnd.webio.node+json": {
       "children": [
        {
         "children": [
          {
           "children": [
            {
             "children": [
              {
               "children": [
                {
                 "children": [
                  {
                   "children": [
                    {
                     "children": [
                      "time"
                     ],
                     "instanceArgs": {
                      "namespace": "html",
                      "tag": "label"
                     },
                     "nodeType": "DOM",
                     "props": {
                      "className": "interact ",
                      "style": {
                       "padding": "5px 10px 0px 10px"
                      }
                     },
                     "type": "node"
                    }
                   ],
                   "instanceArgs": {
                    "namespace": "html",
                    "tag": "div"
                   },
                   "nodeType": "DOM",
                   "props": {
                    "className": "interact-flex-row-left"
                   },
                   "type": "node"
                  },
                  {
                   "children": [
                    {
                     "children": [],
                     "instanceArgs": {
                      "namespace": "html",
                      "tag": "input"
                     },
                     "nodeType": "DOM",
                     "props": {
                      "attributes": {
                       "data-bind": "numericValue: index, valueUpdate: 'input', event: {change: function (){this.changes(this.changes()+1)}}",
                       "orient": "horizontal",
                       "type": "range"
                      },
                      "className": "slider slider is-fullwidth",
                      "max": 501,
                      "min": 1,
                      "step": 1,
                      "style": {}
                     },
                     "type": "node"
                    }
                   ],
                   "instanceArgs": {
                    "namespace": "html",
                    "tag": "div"
                   },
                   "nodeType": "DOM",
                   "props": {
                    "className": "interact-flex-row-center"
                   },
                   "type": "node"
                  },
                  {
                   "children": [
                    {
                     "children": [],
                     "instanceArgs": {
                      "namespace": "html",
                      "tag": "p"
                     },
                     "nodeType": "DOM",
                     "props": {
                      "attributes": {
                       "data-bind": "text: formatted_val"
                      }
                     },
                     "type": "node"
                    }
                   ],
                   "instanceArgs": {
                    "namespace": "html",
                    "tag": "div"
                   },
                   "nodeType": "DOM",
                   "props": {
                    "className": "interact-flex-row-right"
                   },
                   "type": "node"
                  }
                 ],
                 "instanceArgs": {
                  "namespace": "html",
                  "tag": "div"
                 },
                 "nodeType": "DOM",
                 "props": {
                  "className": "interact-flex-row interact-widget"
                 },
                 "type": "node"
                }
               ],
               "instanceArgs": {
                "handlers": {
                 "changes": [
                  "(function (val){return (val!=this.model[\"changes\"]()) ? (this.valueFromJulia[\"changes\"]=true, this.model[\"changes\"](val)) : undefined})"
                 ],
                 "index": [
                  "(function (val){return (val!=this.model[\"index\"]()) ? (this.valueFromJulia[\"index\"]=true, this.model[\"index\"](val)) : undefined})"
                 ]
                },
                "id": "11071203099959725303",
                "imports": {
                 "data": [
                  {
                   "name": "knockout",
                   "type": "js",
                   "url": "/assetserver/727383f2a47bd31570b7da84eee7b022dd6d7c78-knockout.js"
                  },
                  {
                   "name": "knockout_punches",
                   "type": "js",
                   "url": "/assetserver/382b41b3b1bd9f26f75861d360bad7f8beea211f-knockout_punches.js"
                  },
                  {
                   "name": null,
                   "type": "js",
                   "url": "/assetserver/5ab20f1060420992a9b82a65b735dee4d81ef413-all.js"
                  },
                  {
                   "name": null,
                   "type": "css",
                   "url": "/assetserver/1cc0ed62837210b80a182cc3676512f895dab686-style.css"
                  },
                  {
                   "name": null,
                   "type": "css",
                   "url": "/assetserver/2eee816f616df3549d7044d45e744fbf8d42bfa1-bulma_confined.min.css"
                  }
                 ],
                 "type": "async_block"
                },
                "mount_callbacks": [
                 "function () {\n    var handler = (function (ko, koPunches) {\n    ko.punches.enableAll();\n    ko.bindingHandlers.numericValue = {\n        init: function(element, valueAccessor, allBindings, data, context) {\n            var stringified = ko.observable(ko.unwrap(valueAccessor()));\n            stringified.subscribe(function(value) {\n                var val = parseFloat(value);\n                if (!isNaN(val)) {\n                    valueAccessor()(val);\n                }\n            });\n            valueAccessor().subscribe(function(value) {\n                var str = JSON.stringify(value);\n                if ((str == \"0\") && ([\"-0\", \"-0.\"].indexOf(stringified()) >= 0))\n                     return;\n                 if ([\"null\", \"\"].indexOf(str) >= 0)\n                     return;\n                stringified(str);\n            });\n            ko.applyBindingsToNode(\n                element,\n                {\n                    value: stringified,\n                    valueUpdate: allBindings.get('valueUpdate'),\n                },\n                context,\n            );\n        }\n    };\n    var json_data = {\"formatted_vals\":[\"1\",\"2\",\"3\",\"4\",\"5\",\"6\",\"7\",\"8\",\"9\",\"10\",\"11\",\"12\",\"13\",\"14\",\"15\",\"16\",\"17\",\"18\",\"19\",\"20\",\"21\",\"22\",\"23\",\"24\",\"25\",\"26\",\"27\",\"28\",\"29\",\"30\",\"31\",\"32\",\"33\",\"34\",\"35\",\"36\",\"37\",\"38\",\"39\",\"40\",\"41\",\"42\",\"43\",\"44\",\"45\",\"46\",\"47\",\"48\",\"49\",\"50\",\"51\",\"52\",\"53\",\"54\",\"55\",\"56\",\"57\",\"58\",\"59\",\"60\",\"61\",\"62\",\"63\",\"64\",\"65\",\"66\",\"67\",\"68\",\"69\",\"70\",\"71\",\"72\",\"73\",\"74\",\"75\",\"76\",\"77\",\"78\",\"79\",\"80\",\"81\",\"82\",\"83\",\"84\",\"85\",\"86\",\"87\",\"88\",\"89\",\"90\",\"91\",\"92\",\"93\",\"94\",\"95\",\"96\",\"97\",\"98\",\"99\",\"100\",\"101\",\"102\",\"103\",\"104\",\"105\",\"106\",\"107\",\"108\",\"109\",\"110\",\"111\",\"112\",\"113\",\"114\",\"115\",\"116\",\"117\",\"118\",\"119\",\"120\",\"121\",\"122\",\"123\",\"124\",\"125\",\"126\",\"127\",\"128\",\"129\",\"130\",\"131\",\"132\",\"133\",\"134\",\"135\",\"136\",\"137\",\"138\",\"139\",\"140\",\"141\",\"142\",\"143\",\"144\",\"145\",\"146\",\"147\",\"148\",\"149\",\"150\",\"151\",\"152\",\"153\",\"154\",\"155\",\"156\",\"157\",\"158\",\"159\",\"160\",\"161\",\"162\",\"163\",\"164\",\"165\",\"166\",\"167\",\"168\",\"169\",\"170\",\"171\",\"172\",\"173\",\"174\",\"175\",\"176\",\"177\",\"178\",\"179\",\"180\",\"181\",\"182\",\"183\",\"184\",\"185\",\"186\",\"187\",\"188\",\"189\",\"190\",\"191\",\"192\",\"193\",\"194\",\"195\",\"196\",\"197\",\"198\",\"199\",\"200\",\"201\",\"202\",\"203\",\"204\",\"205\",\"206\",\"207\",\"208\",\"209\",\"210\",\"211\",\"212\",\"213\",\"214\",\"215\",\"216\",\"217\",\"218\",\"219\",\"220\",\"221\",\"222\",\"223\",\"224\",\"225\",\"226\",\"227\",\"228\",\"229\",\"230\",\"231\",\"232\",\"233\",\"234\",\"235\",\"236\",\"237\",\"238\",\"239\",\"240\",\"241\",\"242\",\"243\",\"244\",\"245\",\"246\",\"247\",\"248\",\"249\",\"250\",\"251\",\"252\",\"253\",\"254\",\"255\",\"256\",\"257\",\"258\",\"259\",\"260\",\"261\",\"262\",\"263\",\"264\",\"265\",\"266\",\"267\",\"268\",\"269\",\"270\",\"271\",\"272\",\"273\",\"274\",\"275\",\"276\",\"277\",\"278\",\"279\",\"280\",\"281\",\"282\",\"283\",\"284\",\"285\",\"286\",\"287\",\"288\",\"289\",\"290\",\"291\",\"292\",\"293\",\"294\",\"295\",\"296\",\"297\",\"298\",\"299\",\"300\",\"301\",\"302\",\"303\",\"304\",\"305\",\"306\",\"307\",\"308\",\"309\",\"310\",\"311\",\"312\",\"313\",\"314\",\"315\",\"316\",\"317\",\"318\",\"319\",\"320\",\"321\",\"322\",\"323\",\"324\",\"325\",\"326\",\"327\",\"328\",\"329\",\"330\",\"331\",\"332\",\"333\",\"334\",\"335\",\"336\",\"337\",\"338\",\"339\",\"340\",\"341\",\"342\",\"343\",\"344\",\"345\",\"346\",\"347\",\"348\",\"349\",\"350\",\"351\",\"352\",\"353\",\"354\",\"355\",\"356\",\"357\",\"358\",\"359\",\"360\",\"361\",\"362\",\"363\",\"364\",\"365\",\"366\",\"367\",\"368\",\"369\",\"370\",\"371\",\"372\",\"373\",\"374\",\"375\",\"376\",\"377\",\"378\",\"379\",\"380\",\"381\",\"382\",\"383\",\"384\",\"385\",\"386\",\"387\",\"388\",\"389\",\"390\",\"391\",\"392\",\"393\",\"394\",\"395\",\"396\",\"397\",\"398\",\"399\",\"400\",\"401\",\"402\",\"403\",\"404\",\"405\",\"406\",\"407\",\"408\",\"409\",\"410\",\"411\",\"412\",\"413\",\"414\",\"415\",\"416\",\"417\",\"418\",\"419\",\"420\",\"421\",\"422\",\"423\",\"424\",\"425\",\"426\",\"427\",\"428\",\"429\",\"430\",\"431\",\"432\",\"433\",\"434\",\"435\",\"436\",\"437\",\"438\",\"439\",\"440\",\"441\",\"442\",\"443\",\"444\",\"445\",\"446\",\"447\",\"448\",\"449\",\"450\",\"451\",\"452\",\"453\",\"454\",\"455\",\"456\",\"457\",\"458\",\"459\",\"460\",\"461\",\"462\",\"463\",\"464\",\"465\",\"466\",\"467\",\"468\",\"469\",\"470\",\"471\",\"472\",\"473\",\"474\",\"475\",\"476\",\"477\",\"478\",\"479\",\"480\",\"481\",\"482\",\"483\",\"484\",\"485\",\"486\",\"487\",\"488\",\"489\",\"490\",\"491\",\"492\",\"493\",\"494\",\"495\",\"496\",\"497\",\"498\",\"499\",\"500\",\"501\"],\"changes\":WebIO.getval({\"name\":\"changes\",\"scope\":\"11071203099959725303\",\"id\":\"7869751133550699533\",\"type\":\"observable\"}),\"index\":WebIO.getval({\"name\":\"index\",\"scope\":\"11071203099959725303\",\"id\":\"10573717561307904404\",\"type\":\"observable\"})};\n    var self = this;\n    function AppViewModel() {\n        for (var key in json_data) {\n            var el = json_data[key];\n            this[key] = Array.isArray(el) ? ko.observableArray(el) : ko.observable(el);\n        }\n        \n        [this[\"formatted_val\"]=ko.computed(    function(){\n        return this.formatted_vals()[parseInt(this.index())-(1)];\n    }\n,this)]\n        [this[\"changes\"].subscribe((function (val){!(this.valueFromJulia[\"changes\"]) ? (WebIO.setval({\"name\":\"changes\",\"scope\":\"11071203099959725303\",\"id\":\"7869751133550699533\",\"type\":\"observable\"},val)) : undefined; return this.valueFromJulia[\"changes\"]=false}),self),this[\"index\"].subscribe((function (val){!(this.valueFromJulia[\"index\"]) ? (WebIO.setval({\"name\":\"index\",\"scope\":\"11071203099959725303\",\"id\":\"10573717561307904404\",\"type\":\"observable\"},val)) : undefined; return this.valueFromJulia[\"index\"]=false}),self)]\n        \n    }\n    self.model = new AppViewModel();\n    self.valueFromJulia = {};\n    for (var key in json_data) {\n        self.valueFromJulia[key] = false;\n    }\n    ko.applyBindings(self.model, self.dom);\n}\n);\n    (WebIO.importBlock({\"data\":[{\"name\":\"knockout\",\"type\":\"js\",\"url\":\"/assetserver/727383f2a47bd31570b7da84eee7b022dd6d7c78-knockout.js\"},{\"name\":\"knockout_punches\",\"type\":\"js\",\"url\":\"/assetserver/382b41b3b1bd9f26f75861d360bad7f8beea211f-knockout_punches.js\"}],\"type\":\"async_block\"})).then((imports) => handler.apply(this, imports));\n}\n"
                ],
                "observables": {
                 "changes": {
                  "id": "7869751133550699533",
                  "sync": false,
                  "value": 0
                 },
                 "index": {
                  "id": "10573717561307904404",
                  "sync": true,
                  "value": 251
                 }
                },
                "systemjs_options": null
               },
               "nodeType": "Scope",
               "props": {},
               "type": "node"
              }
             ],
             "instanceArgs": {
              "namespace": "html",
              "tag": "div"
             },
             "nodeType": "DOM",
             "props": {
              "className": "field interact-widget"
             },
             "type": "node"
            },
            {
             "children": [
              {
               "children": [
                {
                 "children": [
                  {
                   "children": [
                    {
                     "children": [
                      "scale"
                     ],
                     "instanceArgs": {
                      "namespace": "html",
                      "tag": "label"
                     },
                     "nodeType": "DOM",
                     "props": {
                      "className": "interact ",
                      "style": {
                       "padding": "5px 10px 0px 10px"
                      }
                     },
                     "type": "node"
                    }
                   ],
                   "instanceArgs": {
                    "namespace": "html",
                    "tag": "div"
                   },
                   "nodeType": "DOM",
                   "props": {
                    "className": "interact-flex-row-left"
                   },
                   "type": "node"
                  },
                  {
                   "children": [
                    {
                     "children": [],
                     "instanceArgs": {
                      "namespace": "html",
                      "tag": "input"
                     },
                     "nodeType": "DOM",
                     "props": {
                      "attributes": {
                       "data-bind": "numericValue: index, valueUpdate: 'input', event: {change: function (){this.changes(this.changes()+1)}}",
                       "orient": "horizontal",
                       "type": "range"
                      },
                      "className": "slider slider is-fullwidth",
                      "max": 20,
                      "min": 1,
                      "step": 1,
                      "style": {}
                     },
                     "type": "node"
                    }
                   ],
                   "instanceArgs": {
                    "namespace": "html",
                    "tag": "div"
                   },
                   "nodeType": "DOM",
                   "props": {
                    "className": "interact-flex-row-center"
                   },
                   "type": "node"
                  },
                  {
                   "children": [
                    {
                     "children": [],
                     "instanceArgs": {
                      "namespace": "html",
                      "tag": "p"
                     },
                     "nodeType": "DOM",
                     "props": {
                      "attributes": {
                       "data-bind": "text: formatted_val"
                      }
                     },
                     "type": "node"
                    }
                   ],
                   "instanceArgs": {
                    "namespace": "html",
                    "tag": "div"
                   },
                   "nodeType": "DOM",
                   "props": {
                    "className": "interact-flex-row-right"
                   },
                   "type": "node"
                  }
                 ],
                 "instanceArgs": {
                  "namespace": "html",
                  "tag": "div"
                 },
                 "nodeType": "DOM",
                 "props": {
                  "className": "interact-flex-row interact-widget"
                 },
                 "type": "node"
                }
               ],
               "instanceArgs": {
                "handlers": {
                 "changes": [
                  "(function (val){return (val!=this.model[\"changes\"]()) ? (this.valueFromJulia[\"changes\"]=true, this.model[\"changes\"](val)) : undefined})"
                 ],
                 "index": [
                  "(function (val){return (val!=this.model[\"index\"]()) ? (this.valueFromJulia[\"index\"]=true, this.model[\"index\"](val)) : undefined})"
                 ]
                },
                "id": "1104169623771265158",
                "imports": {
                 "data": [
                  {
                   "name": "knockout",
                   "type": "js",
                   "url": "/assetserver/727383f2a47bd31570b7da84eee7b022dd6d7c78-knockout.js"
                  },
                  {
                   "name": "knockout_punches",
                   "type": "js",
                   "url": "/assetserver/382b41b3b1bd9f26f75861d360bad7f8beea211f-knockout_punches.js"
                  },
                  {
                   "name": null,
                   "type": "js",
                   "url": "/assetserver/5ab20f1060420992a9b82a65b735dee4d81ef413-all.js"
                  },
                  {
                   "name": null,
                   "type": "css",
                   "url": "/assetserver/1cc0ed62837210b80a182cc3676512f895dab686-style.css"
                  },
                  {
                   "name": null,
                   "type": "css",
                   "url": "/assetserver/2eee816f616df3549d7044d45e744fbf8d42bfa1-bulma_confined.min.css"
                  }
                 ],
                 "type": "async_block"
                },
                "mount_callbacks": [
                 "function () {\n    var handler = (function (ko, koPunches) {\n    ko.punches.enableAll();\n    ko.bindingHandlers.numericValue = {\n        init: function(element, valueAccessor, allBindings, data, context) {\n            var stringified = ko.observable(ko.unwrap(valueAccessor()));\n            stringified.subscribe(function(value) {\n                var val = parseFloat(value);\n                if (!isNaN(val)) {\n                    valueAccessor()(val);\n                }\n            });\n            valueAccessor().subscribe(function(value) {\n                var str = JSON.stringify(value);\n                if ((str == \"0\") && ([\"-0\", \"-0.\"].indexOf(stringified()) >= 0))\n                     return;\n                 if ([\"null\", \"\"].indexOf(str) >= 0)\n                     return;\n                stringified(str);\n            });\n            ko.applyBindingsToNode(\n                element,\n                {\n                    value: stringified,\n                    valueUpdate: allBindings.get('valueUpdate'),\n                },\n                context,\n            );\n        }\n    };\n    var json_data = {\"formatted_vals\":[\"0.1\",\"0.2\",\"0.3\",\"0.4\",\"0.5\",\"0.6\",\"0.7\",\"0.8\",\"0.9\",\"1.0\",\"1.1\",\"1.2\",\"1.3\",\"1.4\",\"1.5\",\"1.6\",\"1.7\",\"1.8\",\"1.9\",\"2.0\"],\"changes\":WebIO.getval({\"name\":\"changes\",\"scope\":\"1104169623771265158\",\"id\":\"14676767574195652634\",\"type\":\"observable\"}),\"index\":WebIO.getval({\"name\":\"index\",\"scope\":\"1104169623771265158\",\"id\":\"8144974774751991564\",\"type\":\"observable\"})};\n    var self = this;\n    function AppViewModel() {\n        for (var key in json_data) {\n            var el = json_data[key];\n            this[key] = Array.isArray(el) ? ko.observableArray(el) : ko.observable(el);\n        }\n        \n        [this[\"formatted_val\"]=ko.computed(    function(){\n        return this.formatted_vals()[parseInt(this.index())-(1)];\n    }\n,this)]\n        [this[\"changes\"].subscribe((function (val){!(this.valueFromJulia[\"changes\"]) ? (WebIO.setval({\"name\":\"changes\",\"scope\":\"1104169623771265158\",\"id\":\"14676767574195652634\",\"type\":\"observable\"},val)) : undefined; return this.valueFromJulia[\"changes\"]=false}),self),this[\"index\"].subscribe((function (val){!(this.valueFromJulia[\"index\"]) ? (WebIO.setval({\"name\":\"index\",\"scope\":\"1104169623771265158\",\"id\":\"8144974774751991564\",\"type\":\"observable\"},val)) : undefined; return this.valueFromJulia[\"index\"]=false}),self)]\n        \n    }\n    self.model = new AppViewModel();\n    self.valueFromJulia = {};\n    for (var key in json_data) {\n        self.valueFromJulia[key] = false;\n    }\n    ko.applyBindings(self.model, self.dom);\n}\n);\n    (WebIO.importBlock({\"data\":[{\"name\":\"knockout\",\"type\":\"js\",\"url\":\"/assetserver/727383f2a47bd31570b7da84eee7b022dd6d7c78-knockout.js\"},{\"name\":\"knockout_punches\",\"type\":\"js\",\"url\":\"/assetserver/382b41b3b1bd9f26f75861d360bad7f8beea211f-knockout_punches.js\"}],\"type\":\"async_block\"})).then((imports) => handler.apply(this, imports));\n}\n"
                ],
                "observables": {
                 "changes": {
                  "id": "14676767574195652634",
                  "sync": false,
                  "value": 0
                 },
                 "index": {
                  "id": "8144974774751991564",
                  "sync": true,
                  "value": 10
                 }
                },
                "systemjs_options": null
               },
               "nodeType": "Scope",
               "props": {},
               "type": "node"
              }
             ],
             "instanceArgs": {
              "namespace": "html",
              "tag": "div"
             },
             "nodeType": "DOM",
             "props": {
              "className": "field interact-widget"
             },
             "type": "node"
            },
            {
             "children": [
              {
               "children": [
                {
                 "children": [
                  {
                   "children": [],
                   "instanceArgs": {
                    "namespace": "html",
                    "tag": "div"
                   },
                   "nodeType": "DOM",
                   "props": {
                    "id": "container"
                   },
                   "type": "node"
                  }
                 ],
                 "instanceArgs": {
                  "handlers": {
                   "value": [
                    "(function (txt){return this.k.render(txt,this.container)})"
                   ]
                  },
                  "id": "4019256710913456385",
                  "imports": {
                   "data": [
                    {
                     "name": null,
                     "type": "js",
                     "url": "/assetserver/dd22ed1bf1896c2748f3fe616ce0b838adc895c1-katex.min.js"
                    },
                    {
                     "name": null,
                     "type": "css",
                     "url": "/assetserver/46517a424aa5e6cffc1360d7e0848b601c584ee3-katex.min.css"
                    }
                   ],
                   "type": "async_block"
                  },
                  "mount_callbacks": [
                   "function () {\n    var handler = ((function (k){this.k=k; this.container=this.dom.querySelector(\"#container\"); return k.render(\"\\\\;\\\\;\",this.container)}));\n    (WebIO.importBlock({\"data\":[{\"name\":null,\"type\":\"js\",\"url\":\"/assetserver/dd22ed1bf1896c2748f3fe616ce0b838adc895c1-katex.min.js\"},{\"name\":null,\"type\":\"css\",\"url\":\"/assetserver/46517a424aa5e6cffc1360d7e0848b601c584ee3-katex.min.css\"}],\"type\":\"async_block\"})).then((imports) => handler.apply(this, imports));\n}\n"
                  ],
                  "observables": {
                   "value": {
                    "id": "12651704859975778068",
                    "sync": false,
                    "value": "\\;\\;"
                   }
                  },
                  "systemjs_options": null
                 },
                 "nodeType": "Scope",
                 "props": {},
                 "type": "node"
                }
               ],
               "instanceArgs": {
                "namespace": "html",
                "tag": "div"
               },
               "nodeType": "DOM",
               "props": {
                "className": "interact-widget"
               },
               "type": "node"
              },
              {
               "children": [
                {
                 "children": [
                  {
                   "children": [
                    "run"
                   ],
                   "instanceArgs": {
                    "namespace": "html",
                    "tag": "button"
                   },
                   "nodeType": "DOM",
                   "props": {
                    "attributes": {
                     "data-bind": "click: function (){this.clicks(this.clicks()+1)}, css: {'is-loading' : loading}"
                    },
                    "className": "is-medium button is-primary",
                    "style": {}
                   },
                   "type": "node"
                  }
                 ],
                 "instanceArgs": {
                  "handlers": {
                   "clicks": [
                    "(function (val){return (val!=this.model[\"clicks\"]()) ? (this.valueFromJulia[\"clicks\"]=true, this.model[\"clicks\"](val)) : undefined})"
                   ],
                   "loading": [
                    "(function (val){return (val!=this.model[\"loading\"]()) ? (this.valueFromJulia[\"loading\"]=true, this.model[\"loading\"](val)) : undefined})"
                   ]
                  },
                  "id": "1424035737037010892",
                  "imports": {
                   "data": [
                    {
                     "name": "knockout",
                     "type": "js",
                     "url": "/assetserver/727383f2a47bd31570b7da84eee7b022dd6d7c78-knockout.js"
                    },
                    {
                     "name": "knockout_punches",
                     "type": "js",
                     "url": "/assetserver/382b41b3b1bd9f26f75861d360bad7f8beea211f-knockout_punches.js"
                    },
                    {
                     "name": null,
                     "type": "js",
                     "url": "/assetserver/5ab20f1060420992a9b82a65b735dee4d81ef413-all.js"
                    },
                    {
                     "name": null,
                     "type": "css",
                     "url": "/assetserver/1cc0ed62837210b80a182cc3676512f895dab686-style.css"
                    },
                    {
                     "name": null,
                     "type": "css",
                     "url": "/assetserver/2eee816f616df3549d7044d45e744fbf8d42bfa1-bulma_confined.min.css"
                    }
                   ],
                   "type": "async_block"
                  },
                  "mount_callbacks": [
                   "function () {\n    var handler = (function (ko, koPunches) {\n    ko.punches.enableAll();\n    ko.bindingHandlers.numericValue = {\n        init: function(element, valueAccessor, allBindings, data, context) {\n            var stringified = ko.observable(ko.unwrap(valueAccessor()));\n            stringified.subscribe(function(value) {\n                var val = parseFloat(value);\n                if (!isNaN(val)) {\n                    valueAccessor()(val);\n                }\n            });\n            valueAccessor().subscribe(function(value) {\n                var str = JSON.stringify(value);\n                if ((str == \"0\") && ([\"-0\", \"-0.\"].indexOf(stringified()) >= 0))\n                     return;\n                 if ([\"null\", \"\"].indexOf(str) >= 0)\n                     return;\n                stringified(str);\n            });\n            ko.applyBindingsToNode(\n                element,\n                {\n                    value: stringified,\n                    valueUpdate: allBindings.get('valueUpdate'),\n                },\n                context,\n            );\n        }\n    };\n    var json_data = {\"loading\":WebIO.getval({\"name\":\"loading\",\"scope\":\"1424035737037010892\",\"id\":\"16852625880141509048\",\"type\":\"observable\"}),\"clicks\":WebIO.getval({\"name\":\"clicks\",\"scope\":\"1424035737037010892\",\"id\":\"17415016231225185376\",\"type\":\"observable\"})};\n    var self = this;\n    function AppViewModel() {\n        for (var key in json_data) {\n            var el = json_data[key];\n            this[key] = Array.isArray(el) ? ko.observableArray(el) : ko.observable(el);\n        }\n        \n        \n        [this[\"loading\"].subscribe((function (val){!(this.valueFromJulia[\"loading\"]) ? (WebIO.setval({\"name\":\"loading\",\"scope\":\"1424035737037010892\",\"id\":\"16852625880141509048\",\"type\":\"observable\"},val)) : undefined; return this.valueFromJulia[\"loading\"]=false}),self),this[\"clicks\"].subscribe((function (val){!(this.valueFromJulia[\"clicks\"]) ? (WebIO.setval({\"name\":\"clicks\",\"scope\":\"1424035737037010892\",\"id\":\"17415016231225185376\",\"type\":\"observable\"},val)) : undefined; return this.valueFromJulia[\"clicks\"]=false}),self)]\n        \n    }\n    self.model = new AppViewModel();\n    self.valueFromJulia = {};\n    for (var key in json_data) {\n        self.valueFromJulia[key] = false;\n    }\n    ko.applyBindings(self.model, self.dom);\n}\n);\n    (WebIO.importBlock({\"data\":[{\"name\":\"knockout\",\"type\":\"js\",\"url\":\"/assetserver/727383f2a47bd31570b7da84eee7b022dd6d7c78-knockout.js\"},{\"name\":\"knockout_punches\",\"type\":\"js\",\"url\":\"/assetserver/382b41b3b1bd9f26f75861d360bad7f8beea211f-knockout_punches.js\"}],\"type\":\"async_block\"})).then((imports) => handler.apply(this, imports));\n}\n"
                  ],
                  "observables": {
                   "clicks": {
                    "id": "17415016231225185376",
                    "sync": true,
                    "value": 0
                   },
                   "loading": {
                    "id": "16852625880141509048",
                    "sync": false,
                    "value": false
                   }
                  },
                  "systemjs_options": null
                 },
                 "nodeType": "Scope",
                 "props": {},
                 "type": "node"
                }
               ],
               "instanceArgs": {
                "namespace": "html",
                "tag": "div"
               },
               "nodeType": "DOM",
               "props": {
                "className": "field interact-widget"
               },
               "type": "node"
              },
              {
               "children": [
                {
                 "children": [
                  {
                   "children": [],
                   "instanceArgs": {
                    "namespace": "html",
                    "tag": "div"
                   },
                   "nodeType": "DOM",
                   "props": {
                    "id": "container"
                   },
                   "type": "node"
                  }
                 ],
                 "instanceArgs": {
                  "handlers": {
                   "value": [
                    "(function (txt){return this.k.render(txt,this.container)})"
                   ]
                  },
                  "id": "4019256710913456385",
                  "imports": {
                   "data": [
                    {
                     "name": null,
                     "type": "js",
                     "url": "/assetserver/dd22ed1bf1896c2748f3fe616ce0b838adc895c1-katex.min.js"
                    },
                    {
                     "name": null,
                     "type": "css",
                     "url": "/assetserver/46517a424aa5e6cffc1360d7e0848b601c584ee3-katex.min.css"
                    }
                   ],
                   "type": "async_block"
                  },
                  "mount_callbacks": [
                   "function () {\n    var handler = ((function (k){this.k=k; this.container=this.dom.querySelector(\"#container\"); return k.render(\"\\\\;\\\\;\",this.container)}));\n    (WebIO.importBlock({\"data\":[{\"name\":null,\"type\":\"js\",\"url\":\"/assetserver/dd22ed1bf1896c2748f3fe616ce0b838adc895c1-katex.min.js\"},{\"name\":null,\"type\":\"css\",\"url\":\"/assetserver/46517a424aa5e6cffc1360d7e0848b601c584ee3-katex.min.css\"}],\"type\":\"async_block\"})).then((imports) => handler.apply(this, imports));\n}\n"
                  ],
                  "observables": {
                   "value": {
                    "id": "12651704859975778068",
                    "sync": false,
                    "value": "\\;\\;"
                   }
                  },
                  "systemjs_options": null
                 },
                 "nodeType": "Scope",
                 "props": {},
                 "type": "node"
                }
               ],
               "instanceArgs": {
                "namespace": "html",
                "tag": "div"
               },
               "nodeType": "DOM",
               "props": {
                "className": "interact-widget"
               },
               "type": "node"
              },
              {
               "children": [
                {
                 "children": [
                  {
                   "children": [
                    "stop"
                   ],
                   "instanceArgs": {
                    "namespace": "html",
                    "tag": "button"
                   },
                   "nodeType": "DOM",
                   "props": {
                    "attributes": {
                     "data-bind": "click: function (){this.clicks(this.clicks()+1)}, css: {'is-loading' : loading}"
                    },
                    "className": "is-medium button is-primary",
                    "style": {}
                   },
                   "type": "node"
                  }
                 ],
                 "instanceArgs": {
                  "handlers": {
                   "clicks": [
                    "(function (val){return (val!=this.model[\"clicks\"]()) ? (this.valueFromJulia[\"clicks\"]=true, this.model[\"clicks\"](val)) : undefined})"
                   ],
                   "loading": [
                    "(function (val){return (val!=this.model[\"loading\"]()) ? (this.valueFromJulia[\"loading\"]=true, this.model[\"loading\"](val)) : undefined})"
                   ]
                  },
                  "id": "1798163116378337525",
                  "imports": {
                   "data": [
                    {
                     "name": "knockout",
                     "type": "js",
                     "url": "/assetserver/727383f2a47bd31570b7da84eee7b022dd6d7c78-knockout.js"
                    },
                    {
                     "name": "knockout_punches",
                     "type": "js",
                     "url": "/assetserver/382b41b3b1bd9f26f75861d360bad7f8beea211f-knockout_punches.js"
                    },
                    {
                     "name": null,
                     "type": "js",
                     "url": "/assetserver/5ab20f1060420992a9b82a65b735dee4d81ef413-all.js"
                    },
                    {
                     "name": null,
                     "type": "css",
                     "url": "/assetserver/1cc0ed62837210b80a182cc3676512f895dab686-style.css"
                    },
                    {
                     "name": null,
                     "type": "css",
                     "url": "/assetserver/2eee816f616df3549d7044d45e744fbf8d42bfa1-bulma_confined.min.css"
                    }
                   ],
                   "type": "async_block"
                  },
                  "mount_callbacks": [
                   "function () {\n    var handler = (function (ko, koPunches) {\n    ko.punches.enableAll();\n    ko.bindingHandlers.numericValue = {\n        init: function(element, valueAccessor, allBindings, data, context) {\n            var stringified = ko.observable(ko.unwrap(valueAccessor()));\n            stringified.subscribe(function(value) {\n                var val = parseFloat(value);\n                if (!isNaN(val)) {\n                    valueAccessor()(val);\n                }\n            });\n            valueAccessor().subscribe(function(value) {\n                var str = JSON.stringify(value);\n                if ((str == \"0\") && ([\"-0\", \"-0.\"].indexOf(stringified()) >= 0))\n                     return;\n                 if ([\"null\", \"\"].indexOf(str) >= 0)\n                     return;\n                stringified(str);\n            });\n            ko.applyBindingsToNode(\n                element,\n                {\n                    value: stringified,\n                    valueUpdate: allBindings.get('valueUpdate'),\n                },\n                context,\n            );\n        }\n    };\n    var json_data = {\"loading\":WebIO.getval({\"name\":\"loading\",\"scope\":\"1798163116378337525\",\"id\":\"14438296417560999407\",\"type\":\"observable\"}),\"clicks\":WebIO.getval({\"name\":\"clicks\",\"scope\":\"1798163116378337525\",\"id\":\"14873818066798403980\",\"type\":\"observable\"})};\n    var self = this;\n    function AppViewModel() {\n        for (var key in json_data) {\n            var el = json_data[key];\n            this[key] = Array.isArray(el) ? ko.observableArray(el) : ko.observable(el);\n        }\n        \n        \n        [this[\"loading\"].subscribe((function (val){!(this.valueFromJulia[\"loading\"]) ? (WebIO.setval({\"name\":\"loading\",\"scope\":\"1798163116378337525\",\"id\":\"14438296417560999407\",\"type\":\"observable\"},val)) : undefined; return this.valueFromJulia[\"loading\"]=false}),self),this[\"clicks\"].subscribe((function (val){!(this.valueFromJulia[\"clicks\"]) ? (WebIO.setval({\"name\":\"clicks\",\"scope\":\"1798163116378337525\",\"id\":\"14873818066798403980\",\"type\":\"observable\"},val)) : undefined; return this.valueFromJulia[\"clicks\"]=false}),self)]\n        \n    }\n    self.model = new AppViewModel();\n    self.valueFromJulia = {};\n    for (var key in json_data) {\n        self.valueFromJulia[key] = false;\n    }\n    ko.applyBindings(self.model, self.dom);\n}\n);\n    (WebIO.importBlock({\"data\":[{\"name\":\"knockout\",\"type\":\"js\",\"url\":\"/assetserver/727383f2a47bd31570b7da84eee7b022dd6d7c78-knockout.js\"},{\"name\":\"knockout_punches\",\"type\":\"js\",\"url\":\"/assetserver/382b41b3b1bd9f26f75861d360bad7f8beea211f-knockout_punches.js\"}],\"type\":\"async_block\"})).then((imports) => handler.apply(this, imports));\n}\n"
                  ],
                  "observables": {
                   "clicks": {
                    "id": "14873818066798403980",
                    "sync": true,
                    "value": 0
                   },
                   "loading": {
                    "id": "14438296417560999407",
                    "sync": false,
                    "value": false
                   }
                  },
                  "systemjs_options": null
                 },
                 "nodeType": "Scope",
                 "props": {},
                 "type": "node"
                }
               ],
               "instanceArgs": {
                "namespace": "html",
                "tag": "div"
               },
               "nodeType": "DOM",
               "props": {
                "className": "field interact-widget"
               },
               "type": "node"
              },
              {
               "children": [
                {
                 "children": [
                  {
                   "children": [],
                   "instanceArgs": {
                    "namespace": "html",
                    "tag": "div"
                   },
                   "nodeType": "DOM",
                   "props": {
                    "id": "container"
                   },
                   "type": "node"
                  }
                 ],
                 "instanceArgs": {
                  "handlers": {
                   "value": [
                    "(function (txt){return this.k.render(txt,this.container)})"
                   ]
                  },
                  "id": "4019256710913456385",
                  "imports": {
                   "data": [
                    {
                     "name": null,
                     "type": "js",
                     "url": "/assetserver/dd22ed1bf1896c2748f3fe616ce0b838adc895c1-katex.min.js"
                    },
                    {
                     "name": null,
                     "type": "css",
                     "url": "/assetserver/46517a424aa5e6cffc1360d7e0848b601c584ee3-katex.min.css"
                    }
                   ],
                   "type": "async_block"
                  },
                  "mount_callbacks": [
                   "function () {\n    var handler = ((function (k){this.k=k; this.container=this.dom.querySelector(\"#container\"); return k.render(\"\\\\;\\\\;\",this.container)}));\n    (WebIO.importBlock({\"data\":[{\"name\":null,\"type\":\"js\",\"url\":\"/assetserver/dd22ed1bf1896c2748f3fe616ce0b838adc895c1-katex.min.js\"},{\"name\":null,\"type\":\"css\",\"url\":\"/assetserver/46517a424aa5e6cffc1360d7e0848b601c584ee3-katex.min.css\"}],\"type\":\"async_block\"})).then((imports) => handler.apply(this, imports));\n}\n"
                  ],
                  "observables": {
                   "value": {
                    "id": "12651704859975778068",
                    "sync": false,
                    "value": "\\;\\;"
                   }
                  },
                  "systemjs_options": null
                 },
                 "nodeType": "Scope",
                 "props": {},
                 "type": "node"
                }
               ],
               "instanceArgs": {
                "namespace": "html",
                "tag": "div"
               },
               "nodeType": "DOM",
               "props": {
                "className": "interact-widget"
               },
               "type": "node"
              },
              {
               "children": [
                {
                 "children": [
                  {
                   "children": [
                    "save"
                   ],
                   "instanceArgs": {
                    "namespace": "html",
                    "tag": "button"
                   },
                   "nodeType": "DOM",
                   "props": {
                    "attributes": {
                     "data-bind": "click: function (){this.clicks(this.clicks()+1)}, css: {'is-loading' : loading}"
                    },
                    "className": "is-medium button is-primary",
                    "style": {}
                   },
                   "type": "node"
                  }
                 ],
                 "instanceArgs": {
                  "handlers": {
                   "clicks": [
                    "(function (val){return (val!=this.model[\"clicks\"]()) ? (this.valueFromJulia[\"clicks\"]=true, this.model[\"clicks\"](val)) : undefined})"
                   ],
                   "loading": [
                    "(function (val){return (val!=this.model[\"loading\"]()) ? (this.valueFromJulia[\"loading\"]=true, this.model[\"loading\"](val)) : undefined})"
                   ]
                  },
                  "id": "6692710372472577328",
                  "imports": {
                   "data": [
                    {
                     "name": "knockout",
                     "type": "js",
                     "url": "/assetserver/727383f2a47bd31570b7da84eee7b022dd6d7c78-knockout.js"
                    },
                    {
                     "name": "knockout_punches",
                     "type": "js",
                     "url": "/assetserver/382b41b3b1bd9f26f75861d360bad7f8beea211f-knockout_punches.js"
                    },
                    {
                     "name": null,
                     "type": "js",
                     "url": "/assetserver/5ab20f1060420992a9b82a65b735dee4d81ef413-all.js"
                    },
                    {
                     "name": null,
                     "type": "css",
                     "url": "/assetserver/1cc0ed62837210b80a182cc3676512f895dab686-style.css"
                    },
                    {
                     "name": null,
                     "type": "css",
                     "url": "/assetserver/2eee816f616df3549d7044d45e744fbf8d42bfa1-bulma_confined.min.css"
                    }
                   ],
                   "type": "async_block"
                  },
                  "mount_callbacks": [
                   "function () {\n    var handler = (function (ko, koPunches) {\n    ko.punches.enableAll();\n    ko.bindingHandlers.numericValue = {\n        init: function(element, valueAccessor, allBindings, data, context) {\n            var stringified = ko.observable(ko.unwrap(valueAccessor()));\n            stringified.subscribe(function(value) {\n                var val = parseFloat(value);\n                if (!isNaN(val)) {\n                    valueAccessor()(val);\n                }\n            });\n            valueAccessor().subscribe(function(value) {\n                var str = JSON.stringify(value);\n                if ((str == \"0\") && ([\"-0\", \"-0.\"].indexOf(stringified()) >= 0))\n                     return;\n                 if ([\"null\", \"\"].indexOf(str) >= 0)\n                     return;\n                stringified(str);\n            });\n            ko.applyBindingsToNode(\n                element,\n                {\n                    value: stringified,\n                    valueUpdate: allBindings.get('valueUpdate'),\n                },\n                context,\n            );\n        }\n    };\n    var json_data = {\"loading\":WebIO.getval({\"name\":\"loading\",\"scope\":\"6692710372472577328\",\"id\":\"11788857928256952194\",\"type\":\"observable\"}),\"clicks\":WebIO.getval({\"name\":\"clicks\",\"scope\":\"6692710372472577328\",\"id\":\"17858793153912671837\",\"type\":\"observable\"})};\n    var self = this;\n    function AppViewModel() {\n        for (var key in json_data) {\n            var el = json_data[key];\n            this[key] = Array.isArray(el) ? ko.observableArray(el) : ko.observable(el);\n        }\n        \n        \n        [this[\"loading\"].subscribe((function (val){!(this.valueFromJulia[\"loading\"]) ? (WebIO.setval({\"name\":\"loading\",\"scope\":\"6692710372472577328\",\"id\":\"11788857928256952194\",\"type\":\"observable\"},val)) : undefined; return this.valueFromJulia[\"loading\"]=false}),self),this[\"clicks\"].subscribe((function (val){!(this.valueFromJulia[\"clicks\"]) ? (WebIO.setval({\"name\":\"clicks\",\"scope\":\"6692710372472577328\",\"id\":\"17858793153912671837\",\"type\":\"observable\"},val)) : undefined; return this.valueFromJulia[\"clicks\"]=false}),self)]\n        \n    }\n    self.model = new AppViewModel();\n    self.valueFromJulia = {};\n    for (var key in json_data) {\n        self.valueFromJulia[key] = false;\n    }\n    ko.applyBindings(self.model, self.dom);\n}\n);\n    (WebIO.importBlock({\"data\":[{\"name\":\"knockout\",\"type\":\"js\",\"url\":\"/assetserver/727383f2a47bd31570b7da84eee7b022dd6d7c78-knockout.js\"},{\"name\":\"knockout_punches\",\"type\":\"js\",\"url\":\"/assetserver/382b41b3b1bd9f26f75861d360bad7f8beea211f-knockout_punches.js\"}],\"type\":\"async_block\"})).then((imports) => handler.apply(this, imports));\n}\n"
                  ],
                  "observables": {
                   "clicks": {
                    "id": "17858793153912671837",
                    "sync": true,
                    "value": 0
                   },
                   "loading": {
                    "id": "11788857928256952194",
                    "sync": false,
                    "value": false
                   }
                  },
                  "systemjs_options": null
                 },
                 "nodeType": "Scope",
                 "props": {},
                 "type": "node"
                }
               ],
               "instanceArgs": {
                "namespace": "html",
                "tag": "div"
               },
               "nodeType": "DOM",
               "props": {
                "className": "field interact-widget"
               },
               "type": "node"
              }
             ],
             "instanceArgs": {
              "namespace": "html",
              "tag": "div"
             },
             "nodeType": "DOM",
             "props": {
              "style": {
               "display": "flex",
               "flex-direction": "row"
              }
             },
             "type": "node"
            }
           ],
           "instanceArgs": {
            "namespace": "html",
            "tag": "div"
           },
           "nodeType": "DOM",
           "props": {
            "style": {
             "display": "flex",
             "flex-direction": "column"
            }
           },
           "type": "node"
          },
          {
           "children": [
            {
             "children": [
              {
               "children": [],
               "instanceArgs": {
                "namespace": "html",
                "tag": "div"
               },
               "nodeType": "DOM",
               "props": {
                "id": "container"
               },
               "type": "node"
              }
             ],
             "instanceArgs": {
              "handlers": {
               "value": [
                "(function (txt){return this.k.render(txt,this.container)})"
               ]
              },
              "id": "4019256710913456385",
              "imports": {
               "data": [
                {
                 "name": null,
                 "type": "js",
                 "url": "/assetserver/dd22ed1bf1896c2748f3fe616ce0b838adc895c1-katex.min.js"
                },
                {
                 "name": null,
                 "type": "css",
                 "url": "/assetserver/46517a424aa5e6cffc1360d7e0848b601c584ee3-katex.min.css"
                }
               ],
               "type": "async_block"
              },
              "mount_callbacks": [
               "function () {\n    var handler = ((function (k){this.k=k; this.container=this.dom.querySelector(\"#container\"); return k.render(\"\\\\;\\\\;\",this.container)}));\n    (WebIO.importBlock({\"data\":[{\"name\":null,\"type\":\"js\",\"url\":\"/assetserver/dd22ed1bf1896c2748f3fe616ce0b838adc895c1-katex.min.js\"},{\"name\":null,\"type\":\"css\",\"url\":\"/assetserver/46517a424aa5e6cffc1360d7e0848b601c584ee3-katex.min.css\"}],\"type\":\"async_block\"})).then((imports) => handler.apply(this, imports));\n}\n"
              ],
              "observables": {
               "value": {
                "id": "12651704859975778068",
                "sync": false,
                "value": "\\;\\;"
               }
              },
              "systemjs_options": null
             },
             "nodeType": "Scope",
             "props": {},
             "type": "node"
            }
           ],
           "instanceArgs": {
            "namespace": "html",
            "tag": "div"
           },
           "nodeType": "DOM",
           "props": {
            "className": "interact-widget"
           },
           "type": "node"
          },
          {
           "children": [
            {
             "children": [],
             "instanceArgs": {
              "namespace": "html",
              "tag": "div"
             },
             "nodeType": "DOM",
             "props": {
              "className": "webio-observable",
              "setInnerHtml": "<img src='data:image/png;base64,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'></img>"
             },
             "type": "node"
            }
           ],
           "instanceArgs": {
            "handlers": {
             "obs-output": [
              "function (value, scope) {\n    scope.setInnerHTML(value);\n}\n"
             ]
            },
            "id": "3716822437522498592",
            "imports": {
             "data": [],
             "type": "async_block"
            },
            "mount_callbacks": [],
            "observables": {
             "obs-output": {
              "id": "3349993010444665420",
              "sync": false,
              "value": "<img src='data:image/png;base64,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'></img>"
             }
            },
            "systemjs_options": null
           },
           "nodeType": "Scope",
           "props": {},
           "type": "node"
          },
          {
           "children": [
            {
             "children": [
              {
               "children": [],
               "instanceArgs": {
                "namespace": "html",
                "tag": "div"
               },
               "nodeType": "DOM",
               "props": {
                "id": "container"
               },
               "type": "node"
              }
             ],
             "instanceArgs": {
              "handlers": {
               "value": [
                "(function (txt){return this.k.render(txt,this.container)})"
               ]
              },
              "id": "4019256710913456385",
              "imports": {
               "data": [
                {
                 "name": null,
                 "type": "js",
                 "url": "/assetserver/dd22ed1bf1896c2748f3fe616ce0b838adc895c1-katex.min.js"
                },
                {
                 "name": null,
                 "type": "css",
                 "url": "/assetserver/46517a424aa5e6cffc1360d7e0848b601c584ee3-katex.min.css"
                }
               ],
               "type": "async_block"
              },
              "mount_callbacks": [
               "function () {\n    var handler = ((function (k){this.k=k; this.container=this.dom.querySelector(\"#container\"); return k.render(\"\\\\;\\\\;\",this.container)}));\n    (WebIO.importBlock({\"data\":[{\"name\":null,\"type\":\"js\",\"url\":\"/assetserver/dd22ed1bf1896c2748f3fe616ce0b838adc895c1-katex.min.js\"},{\"name\":null,\"type\":\"css\",\"url\":\"/assetserver/46517a424aa5e6cffc1360d7e0848b601c584ee3-katex.min.css\"}],\"type\":\"async_block\"})).then((imports) => handler.apply(this, imports));\n}\n"
              ],
              "observables": {
               "value": {
                "id": "12651704859975778068",
                "sync": false,
                "value": "\\;\\;"
               }
              },
              "systemjs_options": null
             },
             "nodeType": "Scope",
             "props": {},
             "type": "node"
            }
           ],
           "instanceArgs": {
            "namespace": "html",
            "tag": "div"
           },
           "nodeType": "DOM",
           "props": {
            "className": "interact-widget"
           },
           "type": "node"
          },
          {
           "children": [],
           "instanceArgs": {
            "namespace": "html",
            "tag": "div"
           },
           "nodeType": "DOM",
           "props": {
            "style": {
             "display": "flex",
             "flex-direction": "column"
            }
           },
           "type": "node"
          }
         ],
         "instanceArgs": {
          "namespace": "html",
          "tag": "div"
         },
         "nodeType": "DOM",
         "props": {
          "style": {
           "display": "flex",
           "flex-direction": "row"
          }
         },
         "type": "node"
        }
       ],
       "instanceArgs": {
        "namespace": "html",
        "tag": "div"
       },
       "nodeType": "DOM",
       "props": {
        "style": {
         "display": "flex",
         "flex-direction": "column"
        }
       },
       "type": "node"
      },
      "text/html": [
       "<div\n",
       "    class=\"webio-mountpoint\"\n",
       "    data-webio-mountpoint=\"6354344110195393313\"\n",
       ">\n",
       "    <script>\n",
       "    (function(){\n",
       "    // Some integrations (namely, IJulia/Jupyter) use an alternate render pathway than\n",
       "    // just putting the html on the page. If WebIO isn't defined, then it's pretty likely\n",
       "    // that we're in one of those situations and the integration just isn't installed\n",
       "    // correctly.\n",
       "    if (typeof window.WebIO === \"undefined\") {\n",
       "        document\n",
       "            .querySelector('[data-webio-mountpoint=\"6354344110195393313\"]')\n",
       "            .innerHTML = (\n",
       "                '<div style=\"padding: 1em; background-color: #f8d6da; border: 1px solid #f5c6cb; font-weight: bold;\">' +\n",
       "                '<p><strong>WebIO not detected.</strong></p>' +\n",
       "                '<p>Please read ' +\n",
       "                '<a href=\"https://juliagizmos.github.io/WebIO.jl/latest/troubleshooting/not-detected/\" target=\"_blank\">the troubleshooting guide</a> ' +\n",
       "                'for more information on how to resolve this issue.</p>' +\n",
       "                '<p><a href=\"https://juliagizmos.github.io/WebIO.jl/latest/troubleshooting/not-detected/\" target=\"_blank\">https://juliagizmos.github.io/WebIO.jl/latest/troubleshooting/not-detected/</a></p>' +\n",
       "                '</div>'\n",
       "            );\n",
       "        return;\n",
       "    }\n",
       "    WebIO.mount(\n",
       "        document.querySelector('[data-webio-mountpoint=\"6354344110195393313\"]'),\n",
       "        {\"props\":{\"style\":{\"display\":\"flex\",\"flex-direction\":\"column\"}},\"nodeType\":\"DOM\",\"type\":\"node\",\"instanceArgs\":{\"namespace\":\"html\",\"tag\":\"div\"},\"children\":[{\"props\":{\"style\":{\"display\":\"flex\",\"flex-direction\":\"row\"}},\"nodeType\":\"DOM\",\"type\":\"node\",\"instanceArgs\":{\"namespace\":\"html\",\"tag\":\"div\"},\"children\":[{\"props\":{\"style\":{\"display\":\"flex\",\"flex-direction\":\"column\"}},\"nodeType\":\"DOM\",\"type\":\"node\",\"instanceArgs\":{\"namespace\":\"html\",\"tag\":\"div\"},\"children\":[{\"props\":{\"className\":\"field interact-widget\"},\"nodeType\":\"DOM\",\"type\":\"node\",\"instanceArgs\":{\"namespace\":\"html\",\"tag\":\"div\"},\"children\":[{\"props\":{},\"nodeType\":\"Scope\",\"type\":\"node\",\"instanceArgs\":{\"imports\":{\"data\":[{\"name\":\"knockout\",\"type\":\"js\",\"url\":\"\\/assetserver\\/727383f2a47bd31570b7da84eee7b022dd6d7c78-knockout.js\"},{\"name\":\"knockout_punches\",\"type\":\"js\",\"url\":\"\\/assetserver\\/382b41b3b1bd9f26f75861d360bad7f8beea211f-knockout_punches.js\"},{\"name\":null,\"type\":\"js\",\"url\":\"\\/assetserver\\/5ab20f1060420992a9b82a65b735dee4d81ef413-all.js\"},{\"name\":null,\"type\":\"css\",\"url\":\"\\/assetserver\\/1cc0ed62837210b80a182cc3676512f895dab686-style.css\"},{\"name\":null,\"type\":\"css\",\"url\":\"\\/assetserver\\/2eee816f616df3549d7044d45e744fbf8d42bfa1-bulma_confined.min.css\"}],\"type\":\"async_block\"},\"id\":\"11071203099959725303\",\"handlers\":{\"changes\":[\"(function (val){return (val!=this.model[\\\"changes\\\"]()) ? (this.valueFromJulia[\\\"changes\\\"]=true, this.model[\\\"changes\\\"](val)) : undefined})\"],\"index\":[\"(function (val){return (val!=this.model[\\\"index\\\"]()) ? (this.valueFromJulia[\\\"index\\\"]=true, this.model[\\\"index\\\"](val)) : undefined})\"]},\"systemjs_options\":null,\"mount_callbacks\":[\"function () {\\n    var handler = (function (ko, koPunches) {\\n    ko.punches.enableAll();\\n    ko.bindingHandlers.numericValue = {\\n        init: function(element, valueAccessor, allBindings, data, context) {\\n            var stringified = ko.observable(ko.unwrap(valueAccessor()));\\n            stringified.subscribe(function(value) {\\n                var val = parseFloat(value);\\n                if (!isNaN(val)) {\\n                    valueAccessor()(val);\\n                }\\n            });\\n            valueAccessor().subscribe(function(value) {\\n                var str = JSON.stringify(value);\\n                if ((str == \\\"0\\\") && ([\\\"-0\\\", \\\"-0.\\\"].indexOf(stringified()) >= 0))\\n                     return;\\n                 if ([\\\"null\\\", \\\"\\\"].indexOf(str) >= 0)\\n                     return;\\n                stringified(str);\\n            });\\n            ko.applyBindingsToNode(\\n                element,\\n                {\\n                    value: stringified,\\n                    valueUpdate: allBindings.get('valueUpdate'),\\n                },\\n                context,\\n            );\\n        }\\n    };\\n    var json_data = {\\\"formatted_vals\\\":[\\\"1\\\",\\\"2\\\",\\\"3\\\",\\\"4\\\",\\\"5\\\",\\\"6\\\",\\\"7\\\",\\\"8\\\",\\\"9\\\",\\\"10\\\",\\\"11\\\",\\\"12\\\",\\\"13\\\",\\\"14\\\",\\\"15\\\",\\\"16\\\",\\\"17\\\",\\\"18\\\",\\\"19\\\",\\\"20\\\",\\\"21\\\",\\\"22\\\",\\\"23\\\",\\\"24\\\",\\\"25\\\",\\\"26\\\",\\\"27\\\",\\\"28\\\",\\\"29\\\",\\\"30\\\",\\\"31\\\",\\\"32\\\",\\\"33\\\",\\\"34\\\",\\\"35\\\",\\\"36\\\",\\\"37\\\",\\\"38\\\",\\\"39\\\",\\\"40\\\",\\\"41\\\",\\\"42\\\",\\\"43\\\",\\\"44\\\",\\\"45\\\",\\\"46\\\",\\\"47\\\",\\\"48\\\",\\\"49\\\",\\\"50\\\",\\\"51\\\",\\\"52\\\",\\\"53\\\",\\\"54\\\",\\\"55\\\",\\\"56\\\",\\\"57\\\",\\\"58\\\",\\\"59\\\",\\\"60\\\",\\\"61\\\",\\\"62\\\",\\\"63\\\",\\\"64\\\",\\\"65\\\",\\\"66\\\",\\\"67\\\",\\\"68\\\",\\\"69\\\",\\\"70\\\",\\\"71\\\",\\\"72\\\",\\\"73\\\",\\\"74\\\",\\\"75\\\",\\\"76\\\",\\\"77\\\",\\\"78\\\",\\\"79\\\",\\\"80\\\",\\\"81\\\",\\\"82\\\",\\\"83\\\",\\\"84\\\",\\\"85\\\",\\\"86\\\",\\\"87\\\",\\\"88\\\",\\\"89\\\",\\\"90\\\",\\\"91\\\",\\\"92\\\",\\\"93\\\",\\\"94\\\",\\\"95\\\",\\\"96\\\",\\\"97\\\",\\\"98\\\",\\\"99\\\",\\\"100\\\",\\\"101\\\",\\\"102\\\",\\\"103\\\",\\\"104\\\",\\\"105\\\",\\\"106\\\",\\\"107\\\",\\\"108\\\",\\\"109\\\",\\\"110\\\",\\\"111\\\",\\\"112\\\",\\\"113\\\",\\\"114\\\",\\\"115\\\",\\\"116\\\",\\\"117\\\",\\\"118\\\",\\\"119\\\",\\\"120\\\",\\\"121\\\",\\\"122\\\",\\\"123\\\",\\\"124\\\",\\\"125\\\",\\\"126\\\",\\\"127\\\",\\\"128\\\",\\\"129\\\",\\\"130\\\",\\\"131\\\",\\\"132\\\",\\\"133\\\",\\\"134\\\",\\\"135\\\",\\\"136\\\",\\\"137\\\",\\\"138\\\",\\\"139\\\",\\\"140\\\",\\\"141\\\",\\\"142\\\",\\\"143\\\",\\\"144\\\",\\\"145\\\",\\\"146\\\",\\\"147\\\",\\\"148\\\",\\\"149\\\",\\\"150\\\",\\\"151\\\",\\\"152\\\",\\\"153\\\",\\\"154\\\",\\\"155\\\",\\\"156\\\",\\\"157\\\",\\\"158\\\",\\\"159\\\",\\\"160\\\",\\\"161\\\",\\\"162\\\",\\\"163\\\",\\\"164\\\",\\\"165\\\",\\\"166\\\",\\\"167\\\",\\\"168\\\",\\\"169\\\",\\\"170\\\",\\\"171\\\",\\\"172\\\",\\\"173\\\",\\\"174\\\",\\\"175\\\",\\\"176\\\",\\\"177\\\",\\\"178\\\",\\\"179\\\",\\\"180\\\",\\\"181\\\",\\\"182\\\",\\\"183\\\",\\\"184\\\",\\\"185\\\",\\\"186\\\",\\\"187\\\",\\\"188\\\",\\\"189\\\",\\\"190\\\",\\\"191\\\",\\\"192\\\",\\\"193\\\",\\\"194\\\",\\\"195\\\",\\\"196\\\",\\\"197\\\",\\\"198\\\",\\\"199\\\",\\\"200\\\",\\\"201\\\",\\\"202\\\",\\\"203\\\",\\\"204\\\",\\\"205\\\",\\\"206\\\",\\\"207\\\",\\\"208\\\",\\\"209\\\",\\\"210\\\",\\\"211\\\",\\\"212\\\",\\\"213\\\",\\\"214\\\",\\\"215\\\",\\\"216\\\",\\\"217\\\",\\\"218\\\",\\\"219\\\",\\\"220\\\",\\\"221\\\",\\\"222\\\",\\\"223\\\",\\\"224\\\",\\\"225\\\",\\\"226\\\",\\\"227\\\",\\\"228\\\",\\\"229\\\",\\\"230\\\",\\\"231\\\",\\\"232\\\",\\\"233\\\",\\\"234\\\",\\\"235\\\",\\\"236\\\",\\\"237\\\",\\\"238\\\",\\\"239\\\",\\\"240\\\",\\\"241\\\",\\\"242\\\",\\\"243\\\",\\\"244\\\",\\\"245\\\",\\\"246\\\",\\\"247\\\",\\\"248\\\",\\\"249\\\",\\\"250\\\",\\\"251\\\",\\\"252\\\",\\\"253\\\",\\\"254\\\",\\\"255\\\",\\\"256\\\",\\\"257\\\",\\\"258\\\",\\\"259\\\",\\\"260\\\",\\\"261\\\",\\\"262\\\",\\\"263\\\",\\\"264\\\",\\\"265\\\",\\\"266\\\",\\\"267\\\",\\\"268\\\",\\\"269\\\",\\\"270\\\",\\\"271\\\",\\\"272\\\",\\\"273\\\",\\\"274\\\",\\\"275\\\",\\\"276\\\",\\\"277\\\",\\\"278\\\",\\\"279\\\",\\\"280\\\",\\\"281\\\",\\\"282\\\",\\\"283\\\",\\\"284\\\",\\\"285\\\",\\\"286\\\",\\\"287\\\",\\\"288\\\",\\\"289\\\",\\\"290\\\",\\\"291\\\",\\\"292\\\",\\\"293\\\",\\\"294\\\",\\\"295\\\",\\\"296\\\",\\\"297\\\",\\\"298\\\",\\\"299\\\",\\\"300\\\",\\\"301\\\",\\\"302\\\",\\\"303\\\",\\\"304\\\",\\\"305\\\",\\\"306\\\",\\\"307\\\",\\\"308\\\",\\\"309\\\",\\\"310\\\",\\\"311\\\",\\\"312\\\",\\\"313\\\",\\\"314\\\",\\\"315\\\",\\\"316\\\",\\\"317\\\",\\\"318\\\",\\\"319\\\",\\\"320\\\",\\\"321\\\",\\\"322\\\",\\\"323\\\",\\\"324\\\",\\\"325\\\",\\\"326\\\",\\\"327\\\",\\\"328\\\",\\\"329\\\",\\\"330\\\",\\\"331\\\",\\\"332\\\",\\\"333\\\",\\\"334\\\",\\\"335\\\",\\\"336\\\",\\\"337\\\",\\\"338\\\",\\\"339\\\",\\\"340\\\",\\\"341\\\",\\\"342\\\",\\\"343\\\",\\\"344\\\",\\\"345\\\",\\\"346\\\",\\\"347\\\",\\\"348\\\",\\\"349\\\",\\\"350\\\",\\\"351\\\",\\\"352\\\",\\\"353\\\",\\\"354\\\",\\\"355\\\",\\\"356\\\",\\\"357\\\",\\\"358\\\",\\\"359\\\",\\\"360\\\",\\\"361\\\",\\\"362\\\",\\\"363\\\",\\\"364\\\",\\\"365\\\",\\\"366\\\",\\\"367\\\",\\\"368\\\",\\\"369\\\",\\\"370\\\",\\\"371\\\",\\\"372\\\",\\\"373\\\",\\\"374\\\",\\\"375\\\",\\\"376\\\",\\\"377\\\",\\\"378\\\",\\\"379\\\",\\\"380\\\",\\\"381\\\",\\\"382\\\",\\\"383\\\",\\\"384\\\",\\\"385\\\",\\\"386\\\",\\\"387\\\",\\\"388\\\",\\\"389\\\",\\\"390\\\",\\\"391\\\",\\\"392\\\",\\\"393\\\",\\\"394\\\",\\\"395\\\",\\\"396\\\",\\\"397\\\",\\\"398\\\",\\\"399\\\",\\\"400\\\",\\\"401\\\",\\\"402\\\",\\\"403\\\",\\\"404\\\",\\\"405\\\",\\\"406\\\",\\\"407\\\",\\\"408\\\",\\\"409\\\",\\\"410\\\",\\\"411\\\",\\\"412\\\",\\\"413\\\",\\\"414\\\",\\\"415\\\",\\\"416\\\",\\\"417\\\",\\\"418\\\",\\\"419\\\",\\\"420\\\",\\\"421\\\",\\\"422\\\",\\\"423\\\",\\\"424\\\",\\\"425\\\",\\\"426\\\",\\\"427\\\",\\\"428\\\",\\\"429\\\",\\\"430\\\",\\\"431\\\",\\\"432\\\",\\\"433\\\",\\\"434\\\",\\\"435\\\",\\\"436\\\",\\\"437\\\",\\\"438\\\",\\\"439\\\",\\\"440\\\",\\\"441\\\",\\\"442\\\",\\\"443\\\",\\\"444\\\",\\\"445\\\",\\\"446\\\",\\\"447\\\",\\\"448\\\",\\\"449\\\",\\\"450\\\",\\\"451\\\",\\\"452\\\",\\\"453\\\",\\\"454\\\",\\\"455\\\",\\\"456\\\",\\\"457\\\",\\\"458\\\",\\\"459\\\",\\\"460\\\",\\\"461\\\",\\\"462\\\",\\\"463\\\",\\\"464\\\",\\\"465\\\",\\\"466\\\",\\\"467\\\",\\\"468\\\",\\\"469\\\",\\\"470\\\",\\\"471\\\",\\\"472\\\",\\\"473\\\",\\\"474\\\",\\\"475\\\",\\\"476\\\",\\\"477\\\",\\\"478\\\",\\\"479\\\",\\\"480\\\",\\\"481\\\",\\\"482\\\",\\\"483\\\",\\\"484\\\",\\\"485\\\",\\\"486\\\",\\\"487\\\",\\\"488\\\",\\\"489\\\",\\\"490\\\",\\\"491\\\",\\\"492\\\",\\\"493\\\",\\\"494\\\",\\\"495\\\",\\\"496\\\",\\\"497\\\",\\\"498\\\",\\\"499\\\",\\\"500\\\",\\\"501\\\"],\\\"changes\\\":WebIO.getval({\\\"name\\\":\\\"changes\\\",\\\"scope\\\":\\\"11071203099959725303\\\",\\\"id\\\":\\\"7869751133550699533\\\",\\\"type\\\":\\\"observable\\\"}),\\\"index\\\":WebIO.getval({\\\"name\\\":\\\"index\\\",\\\"scope\\\":\\\"11071203099959725303\\\",\\\"id\\\":\\\"10573717561307904404\\\",\\\"type\\\":\\\"observable\\\"})};\\n    var self = this;\\n    function AppViewModel() {\\n        for (var key in json_data) {\\n            var el = json_data[key];\\n            this[key] = Array.isArray(el) ? ko.observableArray(el) : ko.observable(el);\\n        }\\n        \\n        [this[\\\"formatted_val\\\"]=ko.computed(    function(){\\n        return this.formatted_vals()[parseInt(this.index())-(1)];\\n    }\\n,this)]\\n        [this[\\\"changes\\\"].subscribe((function (val){!(this.valueFromJulia[\\\"changes\\\"]) ? (WebIO.setval({\\\"name\\\":\\\"changes\\\",\\\"scope\\\":\\\"11071203099959725303\\\",\\\"id\\\":\\\"7869751133550699533\\\",\\\"type\\\":\\\"observable\\\"},val)) : undefined; return this.valueFromJulia[\\\"changes\\\"]=false}),self),this[\\\"index\\\"].subscribe((function (val){!(this.valueFromJulia[\\\"index\\\"]) ? (WebIO.setval({\\\"name\\\":\\\"index\\\",\\\"scope\\\":\\\"11071203099959725303\\\",\\\"id\\\":\\\"10573717561307904404\\\",\\\"type\\\":\\\"observable\\\"},val)) : undefined; return this.valueFromJulia[\\\"index\\\"]=false}),self)]\\n        \\n    }\\n    self.model = new AppViewModel();\\n    self.valueFromJulia = {};\\n    for (var key in json_data) {\\n        self.valueFromJulia[key] = false;\\n    }\\n    ko.applyBindings(self.model, self.dom);\\n}\\n);\\n    (WebIO.importBlock({\\\"data\\\":[{\\\"name\\\":\\\"knockout\\\",\\\"type\\\":\\\"js\\\",\\\"url\\\":\\\"\\/assetserver\\/727383f2a47bd31570b7da84eee7b022dd6d7c78-knockout.js\\\"},{\\\"name\\\":\\\"knockout_punches\\\",\\\"type\\\":\\\"js\\\",\\\"url\\\":\\\"\\/assetserver\\/382b41b3b1bd9f26f75861d360bad7f8beea211f-knockout_punches.js\\\"}],\\\"type\\\":\\\"async_block\\\"})).then((imports) => handler.apply(this, imports));\\n}\\n\"],\"observables\":{\"changes\":{\"sync\":false,\"id\":\"7869751133550699533\",\"value\":0},\"index\":{\"sync\":true,\"id\":\"10573717561307904404\",\"value\":251}}},\"children\":[{\"props\":{\"className\":\"interact-flex-row interact-widget\"},\"nodeType\":\"DOM\",\"type\":\"node\",\"instanceArgs\":{\"namespace\":\"html\",\"tag\":\"div\"},\"children\":[{\"props\":{\"className\":\"interact-flex-row-left\"},\"nodeType\":\"DOM\",\"type\":\"node\",\"instanceArgs\":{\"namespace\":\"html\",\"tag\":\"div\"},\"children\":[{\"props\":{\"className\":\"interact \",\"style\":{\"padding\":\"5px 10px 0px 10px\"}},\"nodeType\":\"DOM\",\"type\":\"node\",\"instanceArgs\":{\"namespace\":\"html\",\"tag\":\"label\"},\"children\":[\"time\"]}]},{\"props\":{\"className\":\"interact-flex-row-center\"},\"nodeType\":\"DOM\",\"type\":\"node\",\"instanceArgs\":{\"namespace\":\"html\",\"tag\":\"div\"},\"children\":[{\"props\":{\"max\":501,\"min\":1,\"attributes\":{\"type\":\"range\",\"data-bind\":\"numericValue: index, valueUpdate: 'input', event: {change: function (){this.changes(this.changes()+1)}}\",\"orient\":\"horizontal\"},\"step\":1,\"className\":\"slider slider is-fullwidth\",\"style\":{}},\"nodeType\":\"DOM\",\"type\":\"node\",\"instanceArgs\":{\"namespace\":\"html\",\"tag\":\"input\"},\"children\":[]}]},{\"props\":{\"className\":\"interact-flex-row-right\"},\"nodeType\":\"DOM\",\"type\":\"node\",\"instanceArgs\":{\"namespace\":\"html\",\"tag\":\"div\"},\"children\":[{\"props\":{\"attributes\":{\"data-bind\":\"text: formatted_val\"}},\"nodeType\":\"DOM\",\"type\":\"node\",\"instanceArgs\":{\"namespace\":\"html\",\"tag\":\"p\"},\"children\":[]}]}]}]}]},{\"props\":{\"className\":\"field interact-widget\"},\"nodeType\":\"DOM\",\"type\":\"node\",\"instanceArgs\":{\"namespace\":\"html\",\"tag\":\"div\"},\"children\":[{\"props\":{},\"nodeType\":\"Scope\",\"type\":\"node\",\"instanceArgs\":{\"imports\":{\"data\":[{\"name\":\"knockout\",\"type\":\"js\",\"url\":\"\\/assetserver\\/727383f2a47bd31570b7da84eee7b022dd6d7c78-knockout.js\"},{\"name\":\"knockout_punches\",\"type\":\"js\",\"url\":\"\\/assetserver\\/382b41b3b1bd9f26f75861d360bad7f8beea211f-knockout_punches.js\"},{\"name\":null,\"type\":\"js\",\"url\":\"\\/assetserver\\/5ab20f1060420992a9b82a65b735dee4d81ef413-all.js\"},{\"name\":null,\"type\":\"css\",\"url\":\"\\/assetserver\\/1cc0ed62837210b80a182cc3676512f895dab686-style.css\"},{\"name\":null,\"type\":\"css\",\"url\":\"\\/assetserver\\/2eee816f616df3549d7044d45e744fbf8d42bfa1-bulma_confined.min.css\"}],\"type\":\"async_block\"},\"id\":\"1104169623771265158\",\"handlers\":{\"changes\":[\"(function (val){return (val!=this.model[\\\"changes\\\"]()) ? (this.valueFromJulia[\\\"changes\\\"]=true, this.model[\\\"changes\\\"](val)) : undefined})\"],\"index\":[\"(function (val){return (val!=this.model[\\\"index\\\"]()) ? (this.valueFromJulia[\\\"index\\\"]=true, this.model[\\\"index\\\"](val)) : undefined})\"]},\"systemjs_options\":null,\"mount_callbacks\":[\"function () {\\n    var handler = (function (ko, koPunches) {\\n    ko.punches.enableAll();\\n    ko.bindingHandlers.numericValue = {\\n        init: function(element, valueAccessor, allBindings, data, context) {\\n            var stringified = ko.observable(ko.unwrap(valueAccessor()));\\n            stringified.subscribe(function(value) {\\n                var val = parseFloat(value);\\n                if (!isNaN(val)) {\\n                    valueAccessor()(val);\\n                }\\n            });\\n            valueAccessor().subscribe(function(value) {\\n                var str = JSON.stringify(value);\\n                if ((str == \\\"0\\\") && ([\\\"-0\\\", \\\"-0.\\\"].indexOf(stringified()) >= 0))\\n                     return;\\n                 if ([\\\"null\\\", \\\"\\\"].indexOf(str) >= 0)\\n                     return;\\n                stringified(str);\\n            });\\n            ko.applyBindingsToNode(\\n                element,\\n                {\\n                    value: stringified,\\n                    valueUpdate: allBindings.get('valueUpdate'),\\n                },\\n                context,\\n            );\\n        }\\n    };\\n    var json_data = {\\\"formatted_vals\\\":[\\\"0.1\\\",\\\"0.2\\\",\\\"0.3\\\",\\\"0.4\\\",\\\"0.5\\\",\\\"0.6\\\",\\\"0.7\\\",\\\"0.8\\\",\\\"0.9\\\",\\\"1.0\\\",\\\"1.1\\\",\\\"1.2\\\",\\\"1.3\\\",\\\"1.4\\\",\\\"1.5\\\",\\\"1.6\\\",\\\"1.7\\\",\\\"1.8\\\",\\\"1.9\\\",\\\"2.0\\\"],\\\"changes\\\":WebIO.getval({\\\"name\\\":\\\"changes\\\",\\\"scope\\\":\\\"1104169623771265158\\\",\\\"id\\\":\\\"14676767574195652634\\\",\\\"type\\\":\\\"observable\\\"}),\\\"index\\\":WebIO.getval({\\\"name\\\":\\\"index\\\",\\\"scope\\\":\\\"1104169623771265158\\\",\\\"id\\\":\\\"8144974774751991564\\\",\\\"type\\\":\\\"observable\\\"})};\\n    var self = this;\\n    function AppViewModel() {\\n        for (var key in json_data) {\\n            var el = json_data[key];\\n            this[key] = Array.isArray(el) ? ko.observableArray(el) : ko.observable(el);\\n        }\\n        \\n        [this[\\\"formatted_val\\\"]=ko.computed(    function(){\\n        return this.formatted_vals()[parseInt(this.index())-(1)];\\n    }\\n,this)]\\n        [this[\\\"changes\\\"].subscribe((function (val){!(this.valueFromJulia[\\\"changes\\\"]) ? (WebIO.setval({\\\"name\\\":\\\"changes\\\",\\\"scope\\\":\\\"1104169623771265158\\\",\\\"id\\\":\\\"14676767574195652634\\\",\\\"type\\\":\\\"observable\\\"},val)) : undefined; return this.valueFromJulia[\\\"changes\\\"]=false}),self),this[\\\"index\\\"].subscribe((function (val){!(this.valueFromJulia[\\\"index\\\"]) ? (WebIO.setval({\\\"name\\\":\\\"index\\\",\\\"scope\\\":\\\"1104169623771265158\\\",\\\"id\\\":\\\"8144974774751991564\\\",\\\"type\\\":\\\"observable\\\"},val)) : undefined; return this.valueFromJulia[\\\"index\\\"]=false}),self)]\\n        \\n    }\\n    self.model = new AppViewModel();\\n    self.valueFromJulia = {};\\n    for (var key in json_data) {\\n        self.valueFromJulia[key] = false;\\n    }\\n    ko.applyBindings(self.model, self.dom);\\n}\\n);\\n    (WebIO.importBlock({\\\"data\\\":[{\\\"name\\\":\\\"knockout\\\",\\\"type\\\":\\\"js\\\",\\\"url\\\":\\\"\\/assetserver\\/727383f2a47bd31570b7da84eee7b022dd6d7c78-knockout.js\\\"},{\\\"name\\\":\\\"knockout_punches\\\",\\\"type\\\":\\\"js\\\",\\\"url\\\":\\\"\\/assetserver\\/382b41b3b1bd9f26f75861d360bad7f8beea211f-knockout_punches.js\\\"}],\\\"type\\\":\\\"async_block\\\"})).then((imports) => handler.apply(this, imports));\\n}\\n\"],\"observables\":{\"changes\":{\"sync\":false,\"id\":\"14676767574195652634\",\"value\":0},\"index\":{\"sync\":true,\"id\":\"8144974774751991564\",\"value\":10}}},\"children\":[{\"props\":{\"className\":\"interact-flex-row interact-widget\"},\"nodeType\":\"DOM\",\"type\":\"node\",\"instanceArgs\":{\"namespace\":\"html\",\"tag\":\"div\"},\"children\":[{\"props\":{\"className\":\"interact-flex-row-left\"},\"nodeType\":\"DOM\",\"type\":\"node\",\"instanceArgs\":{\"namespace\":\"html\",\"tag\":\"div\"},\"children\":[{\"props\":{\"className\":\"interact \",\"style\":{\"padding\":\"5px 10px 0px 10px\"}},\"nodeType\":\"DOM\",\"type\":\"node\",\"instanceArgs\":{\"namespace\":\"html\",\"tag\":\"label\"},\"children\":[\"scale\"]}]},{\"props\":{\"className\":\"interact-flex-row-center\"},\"nodeType\":\"DOM\",\"type\":\"node\",\"instanceArgs\":{\"namespace\":\"html\",\"tag\":\"div\"},\"children\":[{\"props\":{\"max\":20,\"min\":1,\"attributes\":{\"type\":\"range\",\"data-bind\":\"numericValue: index, valueUpdate: 'input', event: {change: function (){this.changes(this.changes()+1)}}\",\"orient\":\"horizontal\"},\"step\":1,\"className\":\"slider slider is-fullwidth\",\"style\":{}},\"nodeType\":\"DOM\",\"type\":\"node\",\"instanceArgs\":{\"namespace\":\"html\",\"tag\":\"input\"},\"children\":[]}]},{\"props\":{\"className\":\"interact-flex-row-right\"},\"nodeType\":\"DOM\",\"type\":\"node\",\"instanceArgs\":{\"namespace\":\"html\",\"tag\":\"div\"},\"children\":[{\"props\":{\"attributes\":{\"data-bind\":\"text: formatted_val\"}},\"nodeType\":\"DOM\",\"type\":\"node\",\"instanceArgs\":{\"namespace\":\"html\",\"tag\":\"p\"},\"children\":[]}]}]}]}]},{\"props\":{\"style\":{\"display\":\"flex\",\"flex-direction\":\"row\"}},\"nodeType\":\"DOM\",\"type\":\"node\",\"instanceArgs\":{\"namespace\":\"html\",\"tag\":\"div\"},\"children\":[{\"props\":{\"className\":\"interact-widget\"},\"nodeType\":\"DOM\",\"type\":\"node\",\"instanceArgs\":{\"namespace\":\"html\",\"tag\":\"div\"},\"children\":[{\"props\":{},\"nodeType\":\"Scope\",\"type\":\"node\",\"instanceArgs\":{\"imports\":{\"data\":[{\"name\":null,\"type\":\"js\",\"url\":\"\\/assetserver\\/dd22ed1bf1896c2748f3fe616ce0b838adc895c1-katex.min.js\"},{\"name\":null,\"type\":\"css\",\"url\":\"\\/assetserver\\/46517a424aa5e6cffc1360d7e0848b601c584ee3-katex.min.css\"}],\"type\":\"async_block\"},\"id\":\"4019256710913456385\",\"handlers\":{\"value\":[\"(function (txt){return this.k.render(txt,this.container)})\"]},\"systemjs_options\":null,\"mount_callbacks\":[\"function () {\\n    var handler = ((function (k){this.k=k; this.container=this.dom.querySelector(\\\"#container\\\"); return k.render(\\\"\\\\\\\\;\\\\\\\\;\\\",this.container)}));\\n    (WebIO.importBlock({\\\"data\\\":[{\\\"name\\\":null,\\\"type\\\":\\\"js\\\",\\\"url\\\":\\\"\\/assetserver\\/dd22ed1bf1896c2748f3fe616ce0b838adc895c1-katex.min.js\\\"},{\\\"name\\\":null,\\\"type\\\":\\\"css\\\",\\\"url\\\":\\\"\\/assetserver\\/46517a424aa5e6cffc1360d7e0848b601c584ee3-katex.min.css\\\"}],\\\"type\\\":\\\"async_block\\\"})).then((imports) => handler.apply(this, imports));\\n}\\n\"],\"observables\":{\"value\":{\"sync\":false,\"id\":\"12651704859975778068\",\"value\":\"\\\\;\\\\;\"}}},\"children\":[{\"props\":{\"id\":\"container\"},\"nodeType\":\"DOM\",\"type\":\"node\",\"instanceArgs\":{\"namespace\":\"html\",\"tag\":\"div\"},\"children\":[]}]}]},{\"props\":{\"className\":\"field interact-widget\"},\"nodeType\":\"DOM\",\"type\":\"node\",\"instanceArgs\":{\"namespace\":\"html\",\"tag\":\"div\"},\"children\":[{\"props\":{},\"nodeType\":\"Scope\",\"type\":\"node\",\"instanceArgs\":{\"imports\":{\"data\":[{\"name\":\"knockout\",\"type\":\"js\",\"url\":\"\\/assetserver\\/727383f2a47bd31570b7da84eee7b022dd6d7c78-knockout.js\"},{\"name\":\"knockout_punches\",\"type\":\"js\",\"url\":\"\\/assetserver\\/382b41b3b1bd9f26f75861d360bad7f8beea211f-knockout_punches.js\"},{\"name\":null,\"type\":\"js\",\"url\":\"\\/assetserver\\/5ab20f1060420992a9b82a65b735dee4d81ef413-all.js\"},{\"name\":null,\"type\":\"css\",\"url\":\"\\/assetserver\\/1cc0ed62837210b80a182cc3676512f895dab686-style.css\"},{\"name\":null,\"type\":\"css\",\"url\":\"\\/assetserver\\/2eee816f616df3549d7044d45e744fbf8d42bfa1-bulma_confined.min.css\"}],\"type\":\"async_block\"},\"id\":\"1424035737037010892\",\"handlers\":{\"loading\":[\"(function (val){return (val!=this.model[\\\"loading\\\"]()) ? (this.valueFromJulia[\\\"loading\\\"]=true, this.model[\\\"loading\\\"](val)) : undefined})\"],\"clicks\":[\"(function (val){return (val!=this.model[\\\"clicks\\\"]()) ? (this.valueFromJulia[\\\"clicks\\\"]=true, this.model[\\\"clicks\\\"](val)) : undefined})\"]},\"systemjs_options\":null,\"mount_callbacks\":[\"function () {\\n    var handler = (function (ko, koPunches) {\\n    ko.punches.enableAll();\\n    ko.bindingHandlers.numericValue = {\\n        init: function(element, valueAccessor, allBindings, data, context) {\\n            var stringified = ko.observable(ko.unwrap(valueAccessor()));\\n            stringified.subscribe(function(value) {\\n                var val = parseFloat(value);\\n                if (!isNaN(val)) {\\n                    valueAccessor()(val);\\n                }\\n            });\\n            valueAccessor().subscribe(function(value) {\\n                var str = JSON.stringify(value);\\n                if ((str == \\\"0\\\") && ([\\\"-0\\\", \\\"-0.\\\"].indexOf(stringified()) >= 0))\\n                     return;\\n                 if ([\\\"null\\\", \\\"\\\"].indexOf(str) >= 0)\\n                     return;\\n                stringified(str);\\n            });\\n            ko.applyBindingsToNode(\\n                element,\\n                {\\n                    value: stringified,\\n                    valueUpdate: allBindings.get('valueUpdate'),\\n                },\\n                context,\\n            );\\n        }\\n    };\\n    var json_data = {\\\"loading\\\":WebIO.getval({\\\"name\\\":\\\"loading\\\",\\\"scope\\\":\\\"1424035737037010892\\\",\\\"id\\\":\\\"16852625880141509048\\\",\\\"type\\\":\\\"observable\\\"}),\\\"clicks\\\":WebIO.getval({\\\"name\\\":\\\"clicks\\\",\\\"scope\\\":\\\"1424035737037010892\\\",\\\"id\\\":\\\"17415016231225185376\\\",\\\"type\\\":\\\"observable\\\"})};\\n    var self = this;\\n    function AppViewModel() {\\n        for (var key in json_data) {\\n            var el = json_data[key];\\n            this[key] = Array.isArray(el) ? ko.observableArray(el) : ko.observable(el);\\n        }\\n        \\n        \\n        [this[\\\"loading\\\"].subscribe((function (val){!(this.valueFromJulia[\\\"loading\\\"]) ? (WebIO.setval({\\\"name\\\":\\\"loading\\\",\\\"scope\\\":\\\"1424035737037010892\\\",\\\"id\\\":\\\"16852625880141509048\\\",\\\"type\\\":\\\"observable\\\"},val)) : undefined; return this.valueFromJulia[\\\"loading\\\"]=false}),self),this[\\\"clicks\\\"].subscribe((function (val){!(this.valueFromJulia[\\\"clicks\\\"]) ? (WebIO.setval({\\\"name\\\":\\\"clicks\\\",\\\"scope\\\":\\\"1424035737037010892\\\",\\\"id\\\":\\\"17415016231225185376\\\",\\\"type\\\":\\\"observable\\\"},val)) : undefined; return this.valueFromJulia[\\\"clicks\\\"]=false}),self)]\\n        \\n    }\\n    self.model = new AppViewModel();\\n    self.valueFromJulia = {};\\n    for (var key in json_data) {\\n        self.valueFromJulia[key] = false;\\n    }\\n    ko.applyBindings(self.model, self.dom);\\n}\\n);\\n    (WebIO.importBlock({\\\"data\\\":[{\\\"name\\\":\\\"knockout\\\",\\\"type\\\":\\\"js\\\",\\\"url\\\":\\\"\\/assetserver\\/727383f2a47bd31570b7da84eee7b022dd6d7c78-knockout.js\\\"},{\\\"name\\\":\\\"knockout_punches\\\",\\\"type\\\":\\\"js\\\",\\\"url\\\":\\\"\\/assetserver\\/382b41b3b1bd9f26f75861d360bad7f8beea211f-knockout_punches.js\\\"}],\\\"type\\\":\\\"async_block\\\"})).then((imports) => handler.apply(this, imports));\\n}\\n\"],\"observables\":{\"loading\":{\"sync\":false,\"id\":\"16852625880141509048\",\"value\":false},\"clicks\":{\"sync\":true,\"id\":\"17415016231225185376\",\"value\":0}}},\"children\":[{\"props\":{\"attributes\":{\"data-bind\":\"click: function (){this.clicks(this.clicks()+1)}, css: {'is-loading' : loading}\"},\"className\":\"is-medium button is-primary\",\"style\":{}},\"nodeType\":\"DOM\",\"type\":\"node\",\"instanceArgs\":{\"namespace\":\"html\",\"tag\":\"button\"},\"children\":[\"run\"]}]}]},{\"props\":{\"className\":\"interact-widget\"},\"nodeType\":\"DOM\",\"type\":\"node\",\"instanceArgs\":{\"namespace\":\"html\",\"tag\":\"div\"},\"children\":[{\"props\":{},\"nodeType\":\"Scope\",\"type\":\"node\",\"instanceArgs\":{\"imports\":{\"data\":[{\"name\":null,\"type\":\"js\",\"url\":\"\\/assetserver\\/dd22ed1bf1896c2748f3fe616ce0b838adc895c1-katex.min.js\"},{\"name\":null,\"type\":\"css\",\"url\":\"\\/assetserver\\/46517a424aa5e6cffc1360d7e0848b601c584ee3-katex.min.css\"}],\"type\":\"async_block\"},\"id\":\"4019256710913456385\",\"handlers\":{\"value\":[\"(function (txt){return this.k.render(txt,this.container)})\"]},\"systemjs_options\":null,\"mount_callbacks\":[\"function () {\\n    var handler = ((function (k){this.k=k; this.container=this.dom.querySelector(\\\"#container\\\"); return k.render(\\\"\\\\\\\\;\\\\\\\\;\\\",this.container)}));\\n    (WebIO.importBlock({\\\"data\\\":[{\\\"name\\\":null,\\\"type\\\":\\\"js\\\",\\\"url\\\":\\\"\\/assetserver\\/dd22ed1bf1896c2748f3fe616ce0b838adc895c1-katex.min.js\\\"},{\\\"name\\\":null,\\\"type\\\":\\\"css\\\",\\\"url\\\":\\\"\\/assetserver\\/46517a424aa5e6cffc1360d7e0848b601c584ee3-katex.min.css\\\"}],\\\"type\\\":\\\"async_block\\\"})).then((imports) => handler.apply(this, imports));\\n}\\n\"],\"observables\":{\"value\":{\"sync\":false,\"id\":\"12651704859975778068\",\"value\":\"\\\\;\\\\;\"}}},\"children\":[{\"props\":{\"id\":\"container\"},\"nodeType\":\"DOM\",\"type\":\"node\",\"instanceArgs\":{\"namespace\":\"html\",\"tag\":\"div\"},\"children\":[]}]}]},{\"props\":{\"className\":\"field interact-widget\"},\"nodeType\":\"DOM\",\"type\":\"node\",\"instanceArgs\":{\"namespace\":\"html\",\"tag\":\"div\"},\"children\":[{\"props\":{},\"nodeType\":\"Scope\",\"type\":\"node\",\"instanceArgs\":{\"imports\":{\"data\":[{\"name\":\"knockout\",\"type\":\"js\",\"url\":\"\\/assetserver\\/727383f2a47bd31570b7da84eee7b022dd6d7c78-knockout.js\"},{\"name\":\"knockout_punches\",\"type\":\"js\",\"url\":\"\\/assetserver\\/382b41b3b1bd9f26f75861d360bad7f8beea211f-knockout_punches.js\"},{\"name\":null,\"type\":\"js\",\"url\":\"\\/assetserver\\/5ab20f1060420992a9b82a65b735dee4d81ef413-all.js\"},{\"name\":null,\"type\":\"css\",\"url\":\"\\/assetserver\\/1cc0ed62837210b80a182cc3676512f895dab686-style.css\"},{\"name\":null,\"type\":\"css\",\"url\":\"\\/assetserver\\/2eee816f616df3549d7044d45e744fbf8d42bfa1-bulma_confined.min.css\"}],\"type\":\"async_block\"},\"id\":\"1798163116378337525\",\"handlers\":{\"loading\":[\"(function (val){return (val!=this.model[\\\"loading\\\"]()) ? (this.valueFromJulia[\\\"loading\\\"]=true, this.model[\\\"loading\\\"](val)) : undefined})\"],\"clicks\":[\"(function (val){return (val!=this.model[\\\"clicks\\\"]()) ? (this.valueFromJulia[\\\"clicks\\\"]=true, this.model[\\\"clicks\\\"](val)) : undefined})\"]},\"systemjs_options\":null,\"mount_callbacks\":[\"function () {\\n    var handler = (function (ko, koPunches) {\\n    ko.punches.enableAll();\\n    ko.bindingHandlers.numericValue = {\\n        init: function(element, valueAccessor, allBindings, data, context) {\\n            var stringified = ko.observable(ko.unwrap(valueAccessor()));\\n            stringified.subscribe(function(value) {\\n                var val = parseFloat(value);\\n                if (!isNaN(val)) {\\n                    valueAccessor()(val);\\n                }\\n            });\\n            valueAccessor().subscribe(function(value) {\\n                var str = JSON.stringify(value);\\n                if ((str == \\\"0\\\") && ([\\\"-0\\\", \\\"-0.\\\"].indexOf(stringified()) >= 0))\\n                     return;\\n                 if ([\\\"null\\\", \\\"\\\"].indexOf(str) >= 0)\\n                     return;\\n                stringified(str);\\n            });\\n            ko.applyBindingsToNode(\\n                element,\\n                {\\n                    value: stringified,\\n                    valueUpdate: allBindings.get('valueUpdate'),\\n                },\\n                context,\\n            );\\n        }\\n    };\\n    var json_data = {\\\"loading\\\":WebIO.getval({\\\"name\\\":\\\"loading\\\",\\\"scope\\\":\\\"1798163116378337525\\\",\\\"id\\\":\\\"14438296417560999407\\\",\\\"type\\\":\\\"observable\\\"}),\\\"clicks\\\":WebIO.getval({\\\"name\\\":\\\"clicks\\\",\\\"scope\\\":\\\"1798163116378337525\\\",\\\"id\\\":\\\"14873818066798403980\\\",\\\"type\\\":\\\"observable\\\"})};\\n    var self = this;\\n    function AppViewModel() {\\n        for (var key in json_data) {\\n            var el = json_data[key];\\n            this[key] = Array.isArray(el) ? ko.observableArray(el) : ko.observable(el);\\n        }\\n        \\n        \\n        [this[\\\"loading\\\"].subscribe((function (val){!(this.valueFromJulia[\\\"loading\\\"]) ? (WebIO.setval({\\\"name\\\":\\\"loading\\\",\\\"scope\\\":\\\"1798163116378337525\\\",\\\"id\\\":\\\"14438296417560999407\\\",\\\"type\\\":\\\"observable\\\"},val)) : undefined; return this.valueFromJulia[\\\"loading\\\"]=false}),self),this[\\\"clicks\\\"].subscribe((function (val){!(this.valueFromJulia[\\\"clicks\\\"]) ? (WebIO.setval({\\\"name\\\":\\\"clicks\\\",\\\"scope\\\":\\\"1798163116378337525\\\",\\\"id\\\":\\\"14873818066798403980\\\",\\\"type\\\":\\\"observable\\\"},val)) : undefined; return this.valueFromJulia[\\\"clicks\\\"]=false}),self)]\\n        \\n    }\\n    self.model = new AppViewModel();\\n    self.valueFromJulia = {};\\n    for (var key in json_data) {\\n        self.valueFromJulia[key] = false;\\n    }\\n    ko.applyBindings(self.model, self.dom);\\n}\\n);\\n    (WebIO.importBlock({\\\"data\\\":[{\\\"name\\\":\\\"knockout\\\",\\\"type\\\":\\\"js\\\",\\\"url\\\":\\\"\\/assetserver\\/727383f2a47bd31570b7da84eee7b022dd6d7c78-knockout.js\\\"},{\\\"name\\\":\\\"knockout_punches\\\",\\\"type\\\":\\\"js\\\",\\\"url\\\":\\\"\\/assetserver\\/382b41b3b1bd9f26f75861d360bad7f8beea211f-knockout_punches.js\\\"}],\\\"type\\\":\\\"async_block\\\"})).then((imports) => handler.apply(this, imports));\\n}\\n\"],\"observables\":{\"loading\":{\"sync\":false,\"id\":\"14438296417560999407\",\"value\":false},\"clicks\":{\"sync\":true,\"id\":\"14873818066798403980\",\"value\":0}}},\"children\":[{\"props\":{\"attributes\":{\"data-bind\":\"click: function (){this.clicks(this.clicks()+1)}, css: {'is-loading' : loading}\"},\"className\":\"is-medium button is-primary\",\"style\":{}},\"nodeType\":\"DOM\",\"type\":\"node\",\"instanceArgs\":{\"namespace\":\"html\",\"tag\":\"button\"},\"children\":[\"stop\"]}]}]},{\"props\":{\"className\":\"interact-widget\"},\"nodeType\":\"DOM\",\"type\":\"node\",\"instanceArgs\":{\"namespace\":\"html\",\"tag\":\"div\"},\"children\":[{\"props\":{},\"nodeType\":\"Scope\",\"type\":\"node\",\"instanceArgs\":{\"imports\":{\"data\":[{\"name\":null,\"type\":\"js\",\"url\":\"\\/assetserver\\/dd22ed1bf1896c2748f3fe616ce0b838adc895c1-katex.min.js\"},{\"name\":null,\"type\":\"css\",\"url\":\"\\/assetserver\\/46517a424aa5e6cffc1360d7e0848b601c584ee3-katex.min.css\"}],\"type\":\"async_block\"},\"id\":\"4019256710913456385\",\"handlers\":{\"value\":[\"(function (txt){return this.k.render(txt,this.container)})\"]},\"systemjs_options\":null,\"mount_callbacks\":[\"function () {\\n    var handler = ((function (k){this.k=k; this.container=this.dom.querySelector(\\\"#container\\\"); return k.render(\\\"\\\\\\\\;\\\\\\\\;\\\",this.container)}));\\n    (WebIO.importBlock({\\\"data\\\":[{\\\"name\\\":null,\\\"type\\\":\\\"js\\\",\\\"url\\\":\\\"\\/assetserver\\/dd22ed1bf1896c2748f3fe616ce0b838adc895c1-katex.min.js\\\"},{\\\"name\\\":null,\\\"type\\\":\\\"css\\\",\\\"url\\\":\\\"\\/assetserver\\/46517a424aa5e6cffc1360d7e0848b601c584ee3-katex.min.css\\\"}],\\\"type\\\":\\\"async_block\\\"})).then((imports) => handler.apply(this, imports));\\n}\\n\"],\"observables\":{\"value\":{\"sync\":false,\"id\":\"12651704859975778068\",\"value\":\"\\\\;\\\\;\"}}},\"children\":[{\"props\":{\"id\":\"container\"},\"nodeType\":\"DOM\",\"type\":\"node\",\"instanceArgs\":{\"namespace\":\"html\",\"tag\":\"div\"},\"children\":[]}]}]},{\"props\":{\"className\":\"field interact-widget\"},\"nodeType\":\"DOM\",\"type\":\"node\",\"instanceArgs\":{\"namespace\":\"html\",\"tag\":\"div\"},\"children\":[{\"props\":{},\"nodeType\":\"Scope\",\"type\":\"node\",\"instanceArgs\":{\"imports\":{\"data\":[{\"name\":\"knockout\",\"type\":\"js\",\"url\":\"\\/assetserver\\/727383f2a47bd31570b7da84eee7b022dd6d7c78-knockout.js\"},{\"name\":\"knockout_punches\",\"type\":\"js\",\"url\":\"\\/assetserver\\/382b41b3b1bd9f26f75861d360bad7f8beea211f-knockout_punches.js\"},{\"name\":null,\"type\":\"js\",\"url\":\"\\/assetserver\\/5ab20f1060420992a9b82a65b735dee4d81ef413-all.js\"},{\"name\":null,\"type\":\"css\",\"url\":\"\\/assetserver\\/1cc0ed62837210b80a182cc3676512f895dab686-style.css\"},{\"name\":null,\"type\":\"css\",\"url\":\"\\/assetserver\\/2eee816f616df3549d7044d45e744fbf8d42bfa1-bulma_confined.min.css\"}],\"type\":\"async_block\"},\"id\":\"6692710372472577328\",\"handlers\":{\"loading\":[\"(function (val){return (val!=this.model[\\\"loading\\\"]()) ? (this.valueFromJulia[\\\"loading\\\"]=true, this.model[\\\"loading\\\"](val)) : undefined})\"],\"clicks\":[\"(function (val){return (val!=this.model[\\\"clicks\\\"]()) ? (this.valueFromJulia[\\\"clicks\\\"]=true, this.model[\\\"clicks\\\"](val)) : undefined})\"]},\"systemjs_options\":null,\"mount_callbacks\":[\"function () {\\n    var handler = (function (ko, koPunches) {\\n    ko.punches.enableAll();\\n    ko.bindingHandlers.numericValue = {\\n        init: function(element, valueAccessor, allBindings, data, context) {\\n            var stringified = ko.observable(ko.unwrap(valueAccessor()));\\n            stringified.subscribe(function(value) {\\n                var val = parseFloat(value);\\n                if (!isNaN(val)) {\\n                    valueAccessor()(val);\\n                }\\n            });\\n            valueAccessor().subscribe(function(value) {\\n                var str = JSON.stringify(value);\\n                if ((str == \\\"0\\\") && ([\\\"-0\\\", \\\"-0.\\\"].indexOf(stringified()) >= 0))\\n                     return;\\n                 if ([\\\"null\\\", \\\"\\\"].indexOf(str) >= 0)\\n                     return;\\n                stringified(str);\\n            });\\n            ko.applyBindingsToNode(\\n                element,\\n                {\\n                    value: stringified,\\n                    valueUpdate: allBindings.get('valueUpdate'),\\n                },\\n                context,\\n            );\\n        }\\n    };\\n    var json_data = {\\\"loading\\\":WebIO.getval({\\\"name\\\":\\\"loading\\\",\\\"scope\\\":\\\"6692710372472577328\\\",\\\"id\\\":\\\"11788857928256952194\\\",\\\"type\\\":\\\"observable\\\"}),\\\"clicks\\\":WebIO.getval({\\\"name\\\":\\\"clicks\\\",\\\"scope\\\":\\\"6692710372472577328\\\",\\\"id\\\":\\\"17858793153912671837\\\",\\\"type\\\":\\\"observable\\\"})};\\n    var self = this;\\n    function AppViewModel() {\\n        for (var key in json_data) {\\n            var el = json_data[key];\\n            this[key] = Array.isArray(el) ? ko.observableArray(el) : ko.observable(el);\\n        }\\n        \\n        \\n        [this[\\\"loading\\\"].subscribe((function (val){!(this.valueFromJulia[\\\"loading\\\"]) ? (WebIO.setval({\\\"name\\\":\\\"loading\\\",\\\"scope\\\":\\\"6692710372472577328\\\",\\\"id\\\":\\\"11788857928256952194\\\",\\\"type\\\":\\\"observable\\\"},val)) : undefined; return this.valueFromJulia[\\\"loading\\\"]=false}),self),this[\\\"clicks\\\"].subscribe((function (val){!(this.valueFromJulia[\\\"clicks\\\"]) ? (WebIO.setval({\\\"name\\\":\\\"clicks\\\",\\\"scope\\\":\\\"6692710372472577328\\\",\\\"id\\\":\\\"17858793153912671837\\\",\\\"type\\\":\\\"observable\\\"},val)) : undefined; return this.valueFromJulia[\\\"clicks\\\"]=false}),self)]\\n        \\n    }\\n    self.model = new AppViewModel();\\n    self.valueFromJulia = {};\\n    for (var key in json_data) {\\n        self.valueFromJulia[key] = false;\\n    }\\n    ko.applyBindings(self.model, self.dom);\\n}\\n);\\n    (WebIO.importBlock({\\\"data\\\":[{\\\"name\\\":\\\"knockout\\\",\\\"type\\\":\\\"js\\\",\\\"url\\\":\\\"\\/assetserver\\/727383f2a47bd31570b7da84eee7b022dd6d7c78-knockout.js\\\"},{\\\"name\\\":\\\"knockout_punches\\\",\\\"type\\\":\\\"js\\\",\\\"url\\\":\\\"\\/assetserver\\/382b41b3b1bd9f26f75861d360bad7f8beea211f-knockout_punches.js\\\"}],\\\"type\\\":\\\"async_block\\\"})).then((imports) => handler.apply(this, imports));\\n}\\n\"],\"observables\":{\"loading\":{\"sync\":false,\"id\":\"11788857928256952194\",\"value\":false},\"clicks\":{\"sync\":true,\"id\":\"17858793153912671837\",\"value\":0}}},\"children\":[{\"props\":{\"attributes\":{\"data-bind\":\"click: function (){this.clicks(this.clicks()+1)}, css: {'is-loading' : loading}\"},\"className\":\"is-medium button is-primary\",\"style\":{}},\"nodeType\":\"DOM\",\"type\":\"node\",\"instanceArgs\":{\"namespace\":\"html\",\"tag\":\"button\"},\"children\":[\"save\"]}]}]}]}]},{\"props\":{\"className\":\"interact-widget\"},\"nodeType\":\"DOM\",\"type\":\"node\",\"instanceArgs\":{\"namespace\":\"html\",\"tag\":\"div\"},\"children\":[{\"props\":{},\"nodeType\":\"Scope\",\"type\":\"node\",\"instanceArgs\":{\"imports\":{\"data\":[{\"name\":null,\"type\":\"js\",\"url\":\"\\/assetserver\\/dd22ed1bf1896c2748f3fe616ce0b838adc895c1-katex.min.js\"},{\"name\":null,\"type\":\"css\",\"url\":\"\\/assetserver\\/46517a424aa5e6cffc1360d7e0848b601c584ee3-katex.min.css\"}],\"type\":\"async_block\"},\"id\":\"4019256710913456385\",\"handlers\":{\"value\":[\"(function (txt){return this.k.render(txt,this.container)})\"]},\"systemjs_options\":null,\"mount_callbacks\":[\"function () {\\n    var handler = ((function (k){this.k=k; this.container=this.dom.querySelector(\\\"#container\\\"); return k.render(\\\"\\\\\\\\;\\\\\\\\;\\\",this.container)}));\\n    (WebIO.importBlock({\\\"data\\\":[{\\\"name\\\":null,\\\"type\\\":\\\"js\\\",\\\"url\\\":\\\"\\/assetserver\\/dd22ed1bf1896c2748f3fe616ce0b838adc895c1-katex.min.js\\\"},{\\\"name\\\":null,\\\"type\\\":\\\"css\\\",\\\"url\\\":\\\"\\/assetserver\\/46517a424aa5e6cffc1360d7e0848b601c584ee3-katex.min.css\\\"}],\\\"type\\\":\\\"async_block\\\"})).then((imports) => handler.apply(this, imports));\\n}\\n\"],\"observables\":{\"value\":{\"sync\":false,\"id\":\"12651704859975778068\",\"value\":\"\\\\;\\\\;\"}}},\"children\":[{\"props\":{\"id\":\"container\"},\"nodeType\":\"DOM\",\"type\":\"node\",\"instanceArgs\":{\"namespace\":\"html\",\"tag\":\"div\"},\"children\":[]}]}]},{\"props\":{},\"nodeType\":\"Scope\",\"type\":\"node\",\"instanceArgs\":{\"imports\":{\"data\":[],\"type\":\"async_block\"},\"id\":\"18250147563788229120\",\"handlers\":{\"obs-output\":[\"function (value, scope) {\\n    scope.setInnerHTML(value);\\n}\\n\"]},\"systemjs_options\":null,\"mount_callbacks\":[],\"observables\":{\"obs-output\":{\"sync\":false,\"id\":\"13748126504111111542\",\"value\":\"<img src='data:image\\/png;base64,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'><\\/img>\"}}},\"children\":[{\"props\":{\"className\":\"webio-observable\",\"setInnerHtml\":\"<img src='data:image\\/png;base64,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'><\\/img>\"},\"nodeType\":\"DOM\",\"type\":\"node\",\"instanceArgs\":{\"namespace\":\"html\",\"tag\":\"div\"},\"children\":[]}]},{\"props\":{\"className\":\"interact-widget\"},\"nodeType\":\"DOM\",\"type\":\"node\",\"instanceArgs\":{\"namespace\":\"html\",\"tag\":\"div\"},\"children\":[{\"props\":{},\"nodeType\":\"Scope\",\"type\":\"node\",\"instanceArgs\":{\"imports\":{\"data\":[{\"name\":null,\"type\":\"js\",\"url\":\"\\/assetserver\\/dd22ed1bf1896c2748f3fe616ce0b838adc895c1-katex.min.js\"},{\"name\":null,\"type\":\"css\",\"url\":\"\\/assetserver\\/46517a424aa5e6cffc1360d7e0848b601c584ee3-katex.min.css\"}],\"type\":\"async_block\"},\"id\":\"4019256710913456385\",\"handlers\":{\"value\":[\"(function (txt){return this.k.render(txt,this.container)})\"]},\"systemjs_options\":null,\"mount_callbacks\":[\"function () {\\n    var handler = ((function (k){this.k=k; this.container=this.dom.querySelector(\\\"#container\\\"); return k.render(\\\"\\\\\\\\;\\\\\\\\;\\\",this.container)}));\\n    (WebIO.importBlock({\\\"data\\\":[{\\\"name\\\":null,\\\"type\\\":\\\"js\\\",\\\"url\\\":\\\"\\/assetserver\\/dd22ed1bf1896c2748f3fe616ce0b838adc895c1-katex.min.js\\\"},{\\\"name\\\":null,\\\"type\\\":\\\"css\\\",\\\"url\\\":\\\"\\/assetserver\\/46517a424aa5e6cffc1360d7e0848b601c584ee3-katex.min.css\\\"}],\\\"type\\\":\\\"async_block\\\"})).then((imports) => handler.apply(this, imports));\\n}\\n\"],\"observables\":{\"value\":{\"sync\":false,\"id\":\"12651704859975778068\",\"value\":\"\\\\;\\\\;\"}}},\"children\":[{\"props\":{\"id\":\"container\"},\"nodeType\":\"DOM\",\"type\":\"node\",\"instanceArgs\":{\"namespace\":\"html\",\"tag\":\"div\"},\"children\":[]}]}]},{\"props\":{\"style\":{\"display\":\"flex\",\"flex-direction\":\"column\"}},\"nodeType\":\"DOM\",\"type\":\"node\",\"instanceArgs\":{\"namespace\":\"html\",\"tag\":\"div\"},\"children\":[]}]}]},\n",
       "        window,\n",
       "    );\n",
       "    })()\n",
       "    </script>\n",
       "</div>\n"
      ],
      "text/plain": [
       "WebIO.Node{WebIO.DOM}(WebIO.DOM(:html, :div), Any[WebIO.Node{WebIO.DOM}(WebIO.DOM(:html, :div), Any[WebIO.Node{WebIO.DOM}(WebIO.DOM(:html, :div), Any[WebIO.Node{WebIO.DOM}(WebIO.DOM(:html, :div), Any[WebIO.Scope(WebIO.Node{WebIO.DOM}(WebIO.DOM(:html, :div), Any[WebIO.Node{WebIO.DOM}(WebIO.DOM(:html, :div), Any[WebIO.Node{WebIO.DOM}(WebIO.DOM(:html, :label), Any[\"time\"], Dict{Symbol, Any}(:className => \"interact \", :style => Dict{Any, Any}(:padding => \"5px 10px 0px 10px\")))], Dict{Symbol, Any}(:className => \"interact-flex-row-left\")), WebIO.Node{WebIO.DOM}(WebIO.DOM(:html, :div), Any[WebIO.Node{WebIO.DOM}(WebIO.DOM(:html, :input), Any[], Dict{Symbol, Any}(:max => 501, :min => 1, :attributes => Dict{Any, Any}(:type => \"range\", Symbol(\"data-bind\") => \"numericValue: index, valueUpdate: 'input', event: {change: function (){this.changes(this.changes()+1)}}\", \"orient\" => \"horizontal\"), :step => 1, :className => \"slider slider is-fullwidth\", :style => Dict{Any, Any}()))], Dict{Symbol, Any}(:className => \"interact-flex-row-center\")), WebIO.Node{WebIO.DOM}(WebIO.DOM(:html, :div), Any[WebIO.Node{WebIO.DOM}(WebIO.DOM(:html, :p), Any[], Dict{Symbol, Any}(:attributes => Dict(\"data-bind\" => \"text: formatted_val\")))], Dict{Symbol, Any}(:className => \"interact-flex-row-right\"))], Dict{Symbol, Any}(:className => \"interact-flex-row interact-widget\")), Dict{String, Tuple{Observables.AbstractObservable, Union{Nothing, Bool}}}(\"changes\" => (Observable(0), nothing), \"index\" => (Observable(251), nothing)), Set{String}(), nothing, WebIO.Asset[WebIO.Asset(\"js\", \"knockout\", \"/home/dushya/.julia/packages/Knockout/HReiN/src/../assets/knockout.js\"), WebIO.Asset(\"js\", \"knockout_punches\", \"/home/dushya/.julia/packages/Knockout/HReiN/src/../assets/knockout_punches.js\"), WebIO.Asset(\"js\", nothing, \"/home/dushya/.julia/packages/InteractBase/LJXv3/src/../assets/all.js\"), WebIO.Asset(\"css\", nothing, \"/home/dushya/.julia/packages/InteractBase/LJXv3/src/../assets/style.css\"), WebIO.Asset(\"css\", nothing, \"/home/dushya/.julia/packages/Interact/PENUy/src/../assets/bulma_confined.min.css\")], Dict{Any, Any}(\"changes\" => Any[WebIO.JSString(\"(function (val){return (val!=this.model[\\\"changes\\\"]()) ? (this.valueFromJulia[\\\"changes\\\"]=true, this.model[\\\"changes\\\"](val)) : undefined})\")], \"index\" => Any[WebIO.JSString(\"(function (val){return (val!=this.model[\\\"index\\\"]()) ? (this.valueFromJulia[\\\"index\\\"]=true, this.model[\\\"index\\\"](val)) : undefined})\")]), WebIO.ConnectionPool(Channel{Any}(32), Set{WebIO.AbstractConnection}(), Base.GenericCondition{ReentrantLock}(Base.IntrusiveLinkedList{Task}(Task (runnable) @0x00007f354d905dc0, Task (runnable) @0x00007f354d905dc0), ReentrantLock(nothing, 0x00000000, 0x00, Base.GenericCondition{Base.Threads.SpinLock}(Base.IntrusiveLinkedList{Task}(nothing, nothing), Base.Threads.SpinLock(0)), (8, 139866813087232, 139779710648320)))), WebIO.JSString[WebIO.JSString(\"function () {\\n    var handler = (function (ko, koPunches) {\\n    ko.punches.enableAll();\\n    ko.bindingHandlers.numericValue = {\\n        init: function(element, valueAccessor, allBindings, data, context) {\\n            var stringified = ko.observable(ko.unwrap(valueAccessor()));\\n            stringified.subscribe(function(value) {\\n                var val = parseFloat(value);\\n                if (!isNaN(val)) {\\n                    valueAccessor()(val);\\n                }\\n            });\\n            valueAccessor().subscribe(function(value) {\\n                var str = JSON.stringify(value);\\n                if ((str == \\\"0\\\") && ([\\\"-0\\\", \\\"-0.\\\"].indexOf(stringified()) >= 0))\\n                     return;\\n                 if ([\\\"null\\\", \\\"\\\"].indexOf(str) >= 0)\\n                     return;\\n                stringified(str);\\n            });\\n            ko.applyBindingsToNode(\\n                element,\\n                {\\n                    value: stringified,\\n                    valueUpdate: allBindings.get('valueUpdate'),\\n                },\\n                context,\\n            );\\n        }\\n    };\\n    var json_data = {\\\"formatted_vals\\\":[\\\"1\\\",\\\"2\\\",\\\"3\\\",\\\"4\\\",\\\"5\\\",\\\"6\\\",\\\"7\\\",\\\"8\\\",\\\"9\\\",\\\"10\\\",\\\"11\\\",\\\"12\\\",\\\"13\\\",\\\"14\\\",\\\"15\\\",\\\"16\\\",\\\"17\\\",\\\"18\\\",\\\"19\\\",\\\"20\\\",\\\"21\\\",\\\"22\\\",\\\"23\\\",\\\"24\\\",\\\"25\\\",\\\"26\\\",\\\"27\\\",\\\"28\\\",\\\"29\\\",\\\"30\\\",\\\"31\\\",\\\"32\\\",\\\"33\\\",\\\"34\\\",\\\"35\\\",\\\"36\\\",\\\"37\\\",\\\"38\\\",\\\"39\\\",\\\"40\\\",\\\"41\\\",\\\"42\\\",\\\"43\\\",\\\"44\\\",\\\"45\\\",\\\"46\\\",\\\"47\\\",\\\"48\\\",\\\"49\\\",\\\"50\\\",\\\"51\\\",\\\"52\\\",\\\"53\\\",\\\"54\\\",\\\"55\\\",\\\"56\\\",\\\"57\\\",\\\"58\\\",\\\"59\\\",\\\"60\\\",\\\"61\\\",\\\"62\\\",\\\"63\\\",\\\"64\\\",\\\"65\\\",\\\"66\\\",\\\"67\\\",\\\"68\\\",\\\"69\\\",\\\"70\\\",\\\"71\\\",\\\"72\\\",\\\"73\\\",\\\"74\\\",\\\"75\\\",\\\"76\\\",\\\"77\\\",\\\"78\\\",\\\"79\\\",\\\"80\\\",\\\"81\\\",\\\"82\\\",\\\"83\\\",\\\"84\\\",\\\"85\\\",\\\"86\\\",\\\"87\\\",\\\"88\\\",\\\"89\\\",\\\"90\\\",\\\"91\\\",\\\"92\\\",\\\"93\\\",\\\"94\\\",\\\"95\\\",\\\"96\\\",\\\"97\\\",\\\"98\\\",\\\"99\\\",\\\"100\\\",\\\"101\\\",\\\"102\\\",\\\"103\\\",\\\"104\\\",\\\"105\\\",\\\"106\\\",\\\"107\\\",\\\"108\\\",\\\"109\\\",\\\"110\\\",\\\"111\\\",\\\"112\\\",\\\"113\\\",\\\"114\\\",\\\"115\\\",\\\"116\\\",\\\"117\\\",\\\"118\\\",\\\"119\\\",\\\"120\\\",\\\"121\\\",\\\"122\\\",\\\"123\\\",\\\"124\\\",\\\"125\\\",\\\"126\\\",\\\"127\\\",\\\"128\\\",\\\"129\\\",\\\"130\\\",\\\"131\\\",\\\"132\\\",\\\"133\\\",\\\"134\\\",\\\"135\\\",\\\"136\\\",\\\"137\\\",\\\"138\\\",\\\"139\\\",\\\"140\\\",\\\"141\\\",\\\"142\\\",\\\"143\\\",\\\"144\\\",\\\"145\\\",\\\"146\\\",\\\"147\\\",\\\"148\\\",\\\"149\\\",\\\"150\\\",\\\"151\\\",\\\"152\\\",\\\"153\\\",\\\"154\\\",\\\"155\\\",\\\"156\\\",\\\"157\\\",\\\"158\\\",\\\"159\\\",\\\"160\\\",\\\"161\\\",\\\"162\\\",\\\"163\\\",\\\"164\\\",\\\"165\\\",\\\"166\\\",\\\"167\\\",\\\"168\\\",\\\"169\\\",\\\"170\\\",\\\"171\\\",\\\"172\\\",\\\"173\\\",\\\"174\\\",\\\"175\\\",\\\"176\\\",\\\"177\\\",\\\"178\\\",\\\"179\\\",\\\"180\\\",\\\"181\\\",\\\"182\\\",\\\"183\\\",\\\"184\\\",\\\"185\\\",\\\"186\\\",\\\"187\\\",\\\"188\\\",\\\"189\\\",\\\"190\\\",\\\"191\\\",\\\"192\\\",\\\"193\\\",\\\"194\\\",\\\"195\\\",\\\"196\\\",\\\"197\\\",\\\"198\\\",\\\"199\\\",\\\"200\\\",\\\"201\\\",\\\"202\\\",\\\"203\\\",\\\"204\\\",\\\"205\\\",\\\"206\\\",\\\"207\\\",\\\"208\\\",\\\"209\\\",\\\"210\\\",\\\"211\\\",\\\"212\\\",\\\"213\\\",\\\"214\\\",\\\"215\\\",\\\"216\\\",\\\"217\\\",\\\"218\\\",\\\"219\\\",\\\"220\\\",\\\"221\\\",\\\"222\\\",\\\"223\\\",\\\"224\\\",\\\"225\\\",\\\"226\\\",\\\"227\\\",\\\"228\\\",\\\"229\\\",\\\"230\\\",\\\"231\\\",\\\"232\\\",\\\"233\\\",\\\"234\\\",\\\"235\\\",\\\"236\\\",\\\"237\\\",\\\"238\\\",\\\"239\\\",\\\"240\\\",\\\"241\\\",\\\"242\\\",\\\"243\\\",\\\"244\\\",\\\"245\\\",\\\"246\\\",\\\"247\\\",\\\"248\\\",\\\"249\\\",\\\"250\\\",\\\"251\\\",\\\"252\\\",\\\"253\\\",\\\"254\\\",\\\"255\\\",\\\"256\\\",\\\"257\\\",\\\"258\\\",\\\"259\\\",\\\"260\\\",\\\"261\\\",\\\"262\\\",\\\"263\\\",\\\"264\\\",\\\"265\\\",\\\"266\\\",\\\"267\\\",\\\"268\\\",\\\"269\\\",\\\"270\\\",\\\"271\\\",\\\"272\\\",\\\"273\\\",\\\"274\\\",\\\"275\\\",\\\"276\\\",\\\"277\\\",\\\"278\\\",\\\"279\\\",\\\"280\\\",\\\"281\\\",\\\"282\\\",\\\"283\\\",\\\"284\\\",\\\"285\\\",\\\"286\\\",\\\"287\\\",\\\"288\\\",\\\"289\\\",\\\"290\\\",\\\"291\\\",\\\"292\\\",\\\"293\\\",\\\"294\\\",\\\"295\\\",\\\"296\\\",\\\"297\\\",\\\"298\\\",\\\"299\\\",\\\"300\\\",\\\"301\\\",\\\"302\\\",\\\"303\\\",\\\"304\\\",\\\"305\\\",\\\"306\\\",\\\"307\\\",\\\"308\\\",\\\"309\\\",\\\"310\\\",\\\"311\\\",\\\"312\\\",\\\"313\\\",\\\"314\\\",\\\"315\\\",\\\"316\\\",\\\"317\\\",\\\"318\\\",\\\"319\\\",\\\"320\\\",\\\"321\\\",\\\"322\\\",\\\"323\\\",\\\"324\\\",\\\"325\\\",\\\"326\\\",\\\"327\\\",\\\"328\\\",\\\"329\\\",\\\"330\\\",\\\"331\\\",\\\"332\\\",\\\"333\\\",\\\"334\\\",\\\"335\\\",\\\"336\\\",\\\"337\\\",\\\"338\\\",\\\"339\\\",\\\"340\\\",\\\"341\\\",\\\"342\\\",\\\"343\\\",\\\"344\\\",\\\"345\\\",\\\"346\\\",\\\"347\\\",\\\"348\\\",\\\"349\\\",\\\"350\\\",\\\"351\\\",\\\"352\\\",\\\"353\\\",\\\"354\\\",\\\"355\\\",\\\"356\\\",\\\"357\\\",\\\"358\\\",\\\"359\\\",\\\"360\\\",\\\"361\\\",\\\"362\\\",\\\"363\\\",\\\"364\\\",\\\"365\\\",\\\"366\\\",\\\"367\\\",\\\"368\\\",\\\"369\\\",\\\"370\\\",\\\"371\\\",\\\"372\\\",\\\"373\\\",\\\"374\\\",\\\"375\\\",\\\"376\\\",\\\"377\\\",\\\"378\\\",\\\"379\\\",\\\"380\\\",\\\"381\\\",\\\"382\\\",\\\"383\\\",\\\"384\\\",\\\"385\\\",\\\"386\\\",\\\"387\\\",\\\"388\\\",\\\"389\\\",\\\"390\\\",\\\"391\\\",\\\"392\\\",\\\"393\\\",\\\"394\\\",\\\"395\\\",\\\"396\\\",\\\"397\\\",\\\"398\\\",\\\"399\\\",\\\"400\\\",\\\"401\\\",\\\"402\\\",\\\"403\\\",\\\"404\\\",\\\"405\\\",\\\"406\\\",\\\"407\\\",\\\"408\\\",\\\"409\\\",\\\"410\\\",\\\"411\\\",\\\"412\\\",\\\"413\\\",\\\"414\\\",\\\"415\\\",\\\"416\\\",\\\"417\\\",\\\"418\\\",\\\"419\\\",\\\"420\\\",\\\"421\\\",\\\"422\\\",\\\"423\\\",\\\"424\\\",\\\"425\\\",\\\"426\\\",\\\"427\\\",\\\"428\\\",\\\"429\\\",\\\"430\\\",\\\"431\\\",\\\"432\\\",\\\"433\\\",\\\"434\\\",\\\"435\\\",\\\"436\\\",\\\"437\\\",\\\"438\\\",\\\"439\\\",\\\"440\\\",\\\"441\\\",\\\"442\\\",\\\"443\\\",\\\"444\\\",\\\"445\\\",\\\"446\\\",\\\"447\\\",\\\"448\\\",\\\"449\\\",\\\"450\\\",\\\"451\\\",\\\"452\\\",\\\"453\\\",\\\"454\\\",\\\"455\\\",\\\"456\\\",\\\"457\\\",\\\"458\\\",\\\"459\\\",\\\"460\\\",\\\"461\\\",\\\"462\\\",\\\"463\\\",\\\"464\\\",\\\"465\\\",\\\"466\\\",\\\"467\\\",\\\"468\\\",\\\"469\\\",\\\"470\\\",\\\"471\\\",\\\"472\\\",\\\"473\\\",\\\"474\\\",\\\"475\\\",\\\"476\\\",\\\"477\\\",\\\"478\\\",\\\"479\\\",\\\"480\\\",\\\"481\\\",\\\"482\\\",\\\"483\\\",\\\"484\\\",\\\"485\\\",\\\"486\\\",\\\"487\\\",\\\"488\\\",\\\"489\\\",\\\"490\\\",\\\"491\\\",\\\"492\\\",\\\"493\\\",\\\"494\\\",\\\"495\\\",\\\"496\\\",\\\"497\\\",\\\"498\\\",\\\"499\\\",\\\"500\\\",\\\"501\\\"],\\\"changes\\\":WebIO.getval({\\\"name\\\":\\\"changes\\\",\\\"scope\\\":\\\"11071203099959725303\\\",\\\"id\\\":\\\"7869751133550699533\\\",\\\"type\\\":\\\"observable\\\"}),\\\"index\\\":WebIO.getval({\\\"name\\\":\\\"index\\\",\\\"scope\\\":\\\"11071203099959725303\\\",\\\"id\\\":\\\"10573717561307904404\\\",\\\"type\\\":\\\"observable\\\"})};\\n    var self = this;\\n    function AppViewModel() {\\n        for (var key in json_data) {\\n            var el = json_data[key];\\n            this[key] = Array.isArray(el) ? ko.observableArray(el) : ko.observable(el);\\n        }\\n        \\n        [this[\\\"formatted_val\\\"]=ko.computed(    function(){\\n        return this.formatted_vals()[parseInt(this.index())-(1)];\\n    }\\n,this)]\\n        [this[\\\"changes\\\"].subscribe((function (val){!(this.valueFromJulia[\\\"changes\\\"]) ? (WebIO.setval({\\\"name\\\":\\\"changes\\\",\\\"scope\\\":\\\"11071203099959725303\\\",\\\"id\\\":\\\"7869751133550699533\\\",\\\"type\\\":\\\"observable\\\"},val)) : undefined; return this.valueFromJulia[\\\"changes\\\"]=false}),self),this[\\\"index\\\"].subscribe((function (val){!(this.valueFromJulia[\\\"index\\\"]) ? (WebIO.setval({\\\"name\\\":\\\"index\\\",\\\"scope\\\":\\\"11071203099959725303\\\",\\\"id\\\":\\\"10573717561307904404\\\",\\\"type\\\":\\\"observable\\\"},val)) : undefined; return this.valueFromJulia[\\\"index\\\"]=false}),self)]\\n        \\n    }\\n    self.model = new AppViewModel();\\n    self.valueFromJulia = {};\\n    for (var key in json_data) {\\n        self.valueFromJulia[key] = false;\\n    }\\n    ko.applyBindings(self.model, self.dom);\\n}\\n);\\n    (WebIO.importBlock({\\\"data\\\":[{\\\"name\\\":\\\"knockout\\\",\\\"type\\\":\\\"js\\\",\\\"url\\\":\\\"/assetserver/727383f2a47bd31570b7da84eee7b022dd6d7c78-knockout.js\\\"},{\\\"name\\\":\\\"knockout_punches\\\",\\\"type\\\":\\\"js\\\",\\\"url\\\":\\\"/assetserver/382b41b3b1bd9f26f75861d360bad7f8beea211f-knockout_punches.js\\\"}],\\\"type\\\":\\\"async_block\\\"})).then((imports) => handler.apply(this, imports));\\n}\\n\")])], Dict{Symbol, Any}(:className => \"field interact-widget\")), WebIO.Node{WebIO.DOM}(WebIO.DOM(:html, :div), Any[WebIO.Scope(WebIO.Node{WebIO.DOM}(WebIO.DOM(:html, :div), Any[WebIO.Node{WebIO.DOM}(WebIO.DOM(:html, :div), Any[WebIO.Node{WebIO.DOM}(WebIO.DOM(:html, :label), Any[\"scale\"], Dict{Symbol, Any}(:className => \"interact \", :style => Dict{Any, Any}(:padding => \"5px 10px 0px 10px\")))], Dict{Symbol, Any}(:className => \"interact-flex-row-left\")), WebIO.Node{WebIO.DOM}(WebIO.DOM(:html, :div), Any[WebIO.Node{WebIO.DOM}(WebIO.DOM(:html, :input), Any[], Dict{Symbol, Any}(:max => 20, :min => 1, :attributes => Dict{Any, Any}(:type => \"range\", Symbol(\"data-bind\") => \"numericValue: index, valueUpdate: 'input', event: {change: function (){this.changes(this.changes()+1)}}\", \"orient\" => \"horizontal\"), :step => 1, :className => \"slider slider is-fullwidth\", :style => Dict{Any, Any}()))], Dict{Symbol, Any}(:className => \"interact-flex-row-center\")), WebIO.Node{WebIO.DOM}(WebIO.DOM(:html, :div), Any[WebIO.Node{WebIO.DOM}(WebIO.DOM(:html, :p), Any[], Dict{Symbol, Any}(:attributes => Dict(\"data-bind\" => \"text: formatted_val\")))], Dict{Symbol, Any}(:className => \"interact-flex-row-right\"))], Dict{Symbol, Any}(:className => \"interact-flex-row interact-widget\")), Dict{String, Tuple{Observables.AbstractObservable, Union{Nothing, Bool}}}(\"changes\" => (Observable(0), nothing), \"index\" => (Observable{Any}(10), nothing)), Set{String}(), nothing, WebIO.Asset[WebIO.Asset(\"js\", \"knockout\", \"/home/dushya/.julia/packages/Knockout/HReiN/src/../assets/knockout.js\"), WebIO.Asset(\"js\", \"knockout_punches\", \"/home/dushya/.julia/packages/Knockout/HReiN/src/../assets/knockout_punches.js\"), WebIO.Asset(\"js\", nothing, \"/home/dushya/.julia/packages/InteractBase/LJXv3/src/../assets/all.js\"), WebIO.Asset(\"css\", nothing, \"/home/dushya/.julia/packages/InteractBase/LJXv3/src/../assets/style.css\"), WebIO.Asset(\"css\", nothing, \"/home/dushya/.julia/packages/Interact/PENUy/src/../assets/bulma_confined.min.css\")], Dict{Any, Any}(\"changes\" => Any[WebIO.JSString(\"(function (val){return (val!=this.model[\\\"changes\\\"]()) ? (this.valueFromJulia[\\\"changes\\\"]=true, this.model[\\\"changes\\\"](val)) : undefined})\")], \"index\" => Any[WebIO.JSString(\"(function (val){return (val!=this.model[\\\"index\\\"]()) ? (this.valueFromJulia[\\\"index\\\"]=true, this.model[\\\"index\\\"](val)) : undefined})\")]), WebIO.ConnectionPool(Channel{Any}(32), Set{WebIO.AbstractConnection}(), Base.GenericCondition{ReentrantLock}(Base.IntrusiveLinkedList{Task}(Task (runnable) @0x00007f354d918970, Task (runnable) @0x00007f354d918970), ReentrantLock(nothing, 0x00000000, 0x00, Base.GenericCondition{Base.Threads.SpinLock}(Base.IntrusiveLinkedList{Task}(nothing, nothing), Base.Threads.SpinLock(0)), (707, 139864693854304, 141733920768)))), WebIO.JSString[WebIO.JSString(\"function () {\\n    var handler = (function (ko, koPunches) {\\n    ko.punches.enableAll();\\n    ko.bindingHandlers.numericValue = {\\n        init: function(element, valueAccessor, allBindings, data, context) {\\n            var stringified = ko.observable(ko.unwrap(valueAccessor()));\\n            stringified.subscribe(function(value) {\\n                var val = parseFloat(value);\\n                if (!isNaN(val)) {\\n                    valueAccessor()(val);\\n                }\\n            });\\n            valueAccessor().subscribe(function(value) {\\n                var str = JSON.stringify(value);\\n                if ((str == \\\"0\\\") && ([\\\"-0\\\", \\\"-0.\\\"].indexOf(stringified()) >= 0))\\n                     return;\\n                 if ([\\\"null\\\", \\\"\\\"].indexOf(str) >= 0)\\n                     return;\\n                stringified(str);\\n            });\\n            ko.applyBindingsToNode(\\n                element,\\n                {\\n                    value: stringified,\\n                    valueUpdate: allBindings.get('valueUpdate'),\\n                },\\n                context,\\n            );\\n        }\\n    };\\n    var json_data = {\\\"formatted_vals\\\":[\\\"0.1\\\",\\\"0.2\\\",\\\"0.3\\\",\\\"0.4\\\",\\\"0.5\\\",\\\"0.6\\\",\\\"0.7\\\",\\\"0.8\\\",\\\"0.9\\\",\\\"1.0\\\",\\\"1.1\\\",\\\"1.2\\\",\\\"1.3\\\",\\\"1.4\\\",\\\"1.5\\\",\\\"1.6\\\",\\\"1.7\\\",\\\"1.8\\\",\\\"1.9\\\",\\\"2.0\\\"],\\\"changes\\\":WebIO.getval({\\\"name\\\":\\\"changes\\\",\\\"scope\\\":\\\"1104169623771265158\\\",\\\"id\\\":\\\"14676767574195652634\\\",\\\"type\\\":\\\"observable\\\"}),\\\"index\\\":WebIO.getval({\\\"name\\\":\\\"index\\\",\\\"scope\\\":\\\"1104169623771265158\\\",\\\"id\\\":\\\"8144974774751991564\\\",\\\"type\\\":\\\"observable\\\"})};\\n    var self = this;\\n    function AppViewModel() {\\n        for (var key in json_data) {\\n            var el = json_data[key];\\n            this[key] = Array.isArray(el) ? ko.observableArray(el) : ko.observable(el);\\n        }\\n        \\n        [this[\\\"formatted_val\\\"]=ko.computed(    function(){\\n        return this.formatted_vals()[parseInt(this.index())-(1)];\\n    }\\n,this)]\\n        [this[\\\"changes\\\"].subscribe((function (val){!(this.valueFromJulia[\\\"changes\\\"]) ? (WebIO.setval({\\\"name\\\":\\\"changes\\\",\\\"scope\\\":\\\"1104169623771265158\\\",\\\"id\\\":\\\"14676767574195652634\\\",\\\"type\\\":\\\"observable\\\"},val)) : undefined; return this.valueFromJulia[\\\"changes\\\"]=false}),self),this[\\\"index\\\"].subscribe((function (val){!(this.valueFromJulia[\\\"index\\\"]) ? (WebIO.setval({\\\"name\\\":\\\"index\\\",\\\"scope\\\":\\\"1104169623771265158\\\",\\\"id\\\":\\\"8144974774751991564\\\",\\\"type\\\":\\\"observable\\\"},val)) : undefined; return this.valueFromJulia[\\\"index\\\"]=false}),self)]\\n        \\n    }\\n    self.model = new AppViewModel();\\n    self.valueFromJulia = {};\\n    for (var key in json_data) {\\n        self.valueFromJulia[key] = false;\\n    }\\n    ko.applyBindings(self.model, self.dom);\\n}\\n);\\n    (WebIO.importBlock({\\\"data\\\":[{\\\"name\\\":\\\"knockout\\\",\\\"type\\\":\\\"js\\\",\\\"url\\\":\\\"/assetserver/727383f2a47bd31570b7da84eee7b022dd6d7c78-knockout.js\\\"},{\\\"name\\\":\\\"knockout_punches\\\",\\\"type\\\":\\\"js\\\",\\\"url\\\":\\\"/assetserver/382b41b3b1bd9f26f75861d360bad7f8beea211f-knockout_punches.js\\\"}],\\\"type\\\":\\\"async_block\\\"})).then((imports) => handler.apply(this, imports));\\n}\\n\")])], Dict{Symbol, Any}(:className => \"field interact-widget\")), WebIO.Node{WebIO.DOM}(WebIO.DOM(:html, :div), Any[WebIO.Node{WebIO.DOM}(WebIO.DOM(:html, :div), Any[WebIO.Scope(WebIO.Node{WebIO.DOM}(WebIO.DOM(:html, :div), Any[], Dict{Symbol, Any}(:id => \"container\")), Dict{String, Tuple{Observables.AbstractObservable, Union{Nothing, Bool}}}(\"value\" => (Observable(\"\\\\;\\\\;\"), nothing)), Set{String}(), nothing, WebIO.Asset[WebIO.Asset(\"js\", nothing, \"/home/dushya/.julia/packages/InteractBase/LJXv3/src/../assets/katex.min.js\"), WebIO.Asset(\"css\", nothing, \"/home/dushya/.julia/packages/InteractBase/LJXv3/src/../assets/katex.min.css\")], Dict{Any, Any}(\"value\" => Any[WebIO.JSString(\"(function (txt){return this.k.render(txt,this.container)})\")]), WebIO.ConnectionPool(Channel{Any}(32), Set{WebIO.AbstractConnection}(), Base.GenericCondition{ReentrantLock}(Base.IntrusiveLinkedList{Task}(Task (runnable) @0x00007f34de37f9e0, Task (runnable) @0x00007f34de37f9e0), ReentrantLock(nothing, 0x00000000, 0x00, Base.GenericCondition{Base.Threads.SpinLock}(Base.IntrusiveLinkedList{Task}(nothing, nothing), Base.Threads.SpinLock(0)), (8, 0, 141733920768)))), WebIO.JSString[WebIO.JSString(\"function () {\\n    var handler = ((function (k){this.k=k; this.container=this.dom.querySelector(\\\"#container\\\"); return k.render(\\\"\\\\\\\\;\\\\\\\\;\\\",this.container)}));\\n    (WebIO.importBlock({\\\"data\\\":[{\\\"name\\\":null,\\\"type\\\":\\\"js\\\",\\\"url\\\":\\\"/assetserver/dd22ed1bf1896c2748f3fe616ce0b838adc895c1-katex.min.js\\\"},{\\\"name\\\":null,\\\"type\\\":\\\"css\\\",\\\"url\\\":\\\"/assetserver/46517a424aa5e6cffc1360d7e0848b601c584ee3-katex.min.css\\\"}],\\\"type\\\":\\\"async_block\\\"})).then((imports) => handler.apply(this, imports));\\n}\\n\")])], Dict{Symbol, Any}(:className => \"interact-widget\")), WebIO.Node{WebIO.DOM}(WebIO.DOM(:html, :div), Any[WebIO.Scope(WebIO.Node{WebIO.DOM}(WebIO.DOM(:html, :button), Any[\"run\"], Dict{Symbol, Any}(:attributes => Dict{Any, Any}(\"data-bind\" => \"click: function (){this.clicks(this.clicks()+1)}, css: {'is-loading' : loading}\"), :className => \"is-medium button is-primary\", :style => Dict{String, Any}())), Dict{String, Tuple{Observables.AbstractObservable, Union{Nothing, Bool}}}(\"loading\" => (Observable(false), nothing), \"clicks\" => (Observable(0), nothing)), Set{String}(), nothing, WebIO.Asset[WebIO.Asset(\"js\", \"knockout\", \"/home/dushya/.julia/packages/Knockout/HReiN/src/../assets/knockout.js\"), WebIO.Asset(\"js\", \"knockout_punches\", \"/home/dushya/.julia/packages/Knockout/HReiN/src/../assets/knockout_punches.js\"), WebIO.Asset(\"js\", nothing, \"/home/dushya/.julia/packages/InteractBase/LJXv3/src/../assets/all.js\"), WebIO.Asset(\"css\", nothing, \"/home/dushya/.julia/packages/InteractBase/LJXv3/src/../assets/style.css\"), WebIO.Asset(\"css\", nothing, \"/home/dushya/.julia/packages/Interact/PENUy/src/../assets/bulma_confined.min.css\")], Dict{Any, Any}(\"loading\" => Any[WebIO.JSString(\"(function (val){return (val!=this.model[\\\"loading\\\"]()) ? (this.valueFromJulia[\\\"loading\\\"]=true, this.model[\\\"loading\\\"](val)) : undefined})\")], \"clicks\" => Any[WebIO.JSString(\"(function (val){return (val!=this.model[\\\"clicks\\\"]()) ? (this.valueFromJulia[\\\"clicks\\\"]=true, this.model[\\\"clicks\\\"](val)) : undefined})\")]), WebIO.ConnectionPool(Channel{Any}(32), Set{WebIO.AbstractConnection}(), Base.GenericCondition{ReentrantLock}(Base.IntrusiveLinkedList{Task}(Task (runnable) @0x00007f354d91b3a0, Task (runnable) @0x00007f354d91b3a0), ReentrantLock(nothing, 0x00000000, 0x00, Base.GenericCondition{Base.Threads.SpinLock}(Base.IntrusiveLinkedList{Task}(nothing, nothing), Base.Threads.SpinLock(0)), (139866787607632, 139866787615808, 0)))), WebIO.JSString[WebIO.JSString(\"function () {\\n    var handler = (function (ko, koPunches) {\\n    ko.punches.enableAll();\\n    ko.bindingHandlers.numericValue = {\\n        init: function(element, valueAccessor, allBindings, data, context) {\\n            var stringified = ko.observable(ko.unwrap(valueAccessor()));\\n            stringified.subscribe(function(value) {\\n                var val = parseFloat(value);\\n                if (!isNaN(val)) {\\n                    valueAccessor()(val);\\n                }\\n            });\\n            valueAccessor().subscribe(function(value) {\\n                var str = JSON.stringify(value);\\n                if ((str == \\\"0\\\") && ([\\\"-0\\\", \\\"-0.\\\"].indexOf(stringified()) >= 0))\\n                     return;\\n                 if ([\\\"null\\\", \\\"\\\"].indexOf(str) >= 0)\\n                     return;\\n                stringified(str);\\n            });\\n            ko.applyBindingsToNode(\\n                element,\\n                {\\n                    value: stringified,\\n                    valueUpdate: allBindings.get('valueUpdate'),\\n                },\\n                context,\\n            );\\n        }\\n    };\\n    var json_data = {\\\"loading\\\":WebIO.getval({\\\"name\\\":\\\"loading\\\",\\\"scope\\\":\\\"1424035737037010892\\\",\\\"id\\\":\\\"16852625880141509048\\\",\\\"type\\\":\\\"observable\\\"}),\\\"clicks\\\":WebIO.getval({\\\"name\\\":\\\"clicks\\\",\\\"scope\\\":\\\"1424035737037010892\\\",\\\"id\\\":\\\"17415016231225185376\\\",\\\"type\\\":\\\"observable\\\"})};\\n    var self = this;\\n    function AppViewModel() {\\n        for (var key in json_data) {\\n            var el = json_data[key];\\n            this[key] = Array.isArray(el) ? ko.observableArray(el) : ko.observable(el);\\n        }\\n        \\n        \\n        [this[\\\"loading\\\"].subscribe((function (val){!(this.valueFromJulia[\\\"loading\\\"]) ? (WebIO.setval({\\\"name\\\":\\\"loading\\\",\\\"scope\\\":\\\"1424035737037010892\\\",\\\"id\\\":\\\"16852625880141509048\\\",\\\"type\\\":\\\"observable\\\"},val)) : undefined; return this.valueFromJulia[\\\"loading\\\"]=false}),self),this[\\\"clicks\\\"].subscribe((function (val){!(this.valueFromJulia[\\\"clicks\\\"]) ? (WebIO.setval({\\\"name\\\":\\\"clicks\\\",\\\"scope\\\":\\\"1424035737037010892\\\",\\\"id\\\":\\\"17415016231225185376\\\",\\\"type\\\":\\\"observable\\\"},val)) : undefined; return this.valueFromJulia[\\\"clicks\\\"]=false}),self)]\\n        \\n    }\\n    self.model = new AppViewModel();\\n    self.valueFromJulia = {};\\n    for (var key in json_data) {\\n        self.valueFromJulia[key] = false;\\n    }\\n    ko.applyBindings(self.model, self.dom);\\n}\\n);\\n    (WebIO.importBlock({\\\"data\\\":[{\\\"name\\\":\\\"knockout\\\",\\\"type\\\":\\\"js\\\",\\\"url\\\":\\\"/assetserver/727383f2a47bd31570b7da84eee7b022dd6d7c78-knockout.js\\\"},{\\\"name\\\":\\\"knockout_punches\\\",\\\"type\\\":\\\"js\\\",\\\"url\\\":\\\"/assetserver/382b41b3b1bd9f26f75861d360bad7f8beea211f-knockout_punches.js\\\"}],\\\"type\\\":\\\"async_block\\\"})).then((imports) => handler.apply(this, imports));\\n}\\n\")])], Dict{Symbol, Any}(:className => \"field interact-widget\")), WebIO.Node{WebIO.DOM}(WebIO.DOM(:html, :div), Any[WebIO.Scope(WebIO.Node{WebIO.DOM}(WebIO.DOM(:html, :div), Any[], Dict{Symbol, Any}(:id => \"container\")), Dict{String, Tuple{Observables.AbstractObservable, Union{Nothing, Bool}}}(\"value\" => (Observable(\"\\\\;\\\\;\"), nothing)), Set{String}(), nothing, WebIO.Asset[WebIO.Asset(\"js\", nothing, \"/home/dushya/.julia/packages/InteractBase/LJXv3/src/../assets/katex.min.js\"), WebIO.Asset(\"css\", nothing, \"/home/dushya/.julia/packages/InteractBase/LJXv3/src/../assets/katex.min.css\")], Dict{Any, Any}(\"value\" => Any[WebIO.JSString(\"(function (txt){return this.k.render(txt,this.container)})\")]), WebIO.ConnectionPool(Channel{Any}(32), Set{WebIO.AbstractConnection}(), Base.GenericCondition{ReentrantLock}(Base.IntrusiveLinkedList{Task}(Task (runnable) @0x00007f34de37f9e0, Task (runnable) @0x00007f34de37f9e0), ReentrantLock(nothing, 0x00000000, 0x00, Base.GenericCondition{Base.Threads.SpinLock}(Base.IntrusiveLinkedList{Task}(nothing, nothing), Base.Threads.SpinLock(0)), (8, 0, 141733920768)))), WebIO.JSString[WebIO.JSString(\"function () {\\n    var handler = ((function (k){this.k=k; this.container=this.dom.querySelector(\\\"#container\\\"); return k.render(\\\"\\\\\\\\;\\\\\\\\;\\\",this.container)}));\\n    (WebIO.importBlock({\\\"data\\\":[{\\\"name\\\":null,\\\"type\\\":\\\"js\\\",\\\"url\\\":\\\"/assetserver/dd22ed1bf1896c2748f3fe616ce0b838adc895c1-katex.min.js\\\"},{\\\"name\\\":null,\\\"type\\\":\\\"css\\\",\\\"url\\\":\\\"/assetserver/46517a424aa5e6cffc1360d7e0848b601c584ee3-katex.min.css\\\"}],\\\"type\\\":\\\"async_block\\\"})).then((imports) => handler.apply(this, imports));\\n}\\n\")])], Dict{Symbol, Any}(:className => \"interact-widget\")), WebIO.Node{WebIO.DOM}(WebIO.DOM(:html, :div), Any[WebIO.Scope(WebIO.Node{WebIO.DOM}(WebIO.DOM(:html, :button), Any[\"stop\"], Dict{Symbol, Any}(:attributes => Dict{Any, Any}(\"data-bind\" => \"click: function (){this.clicks(this.clicks()+1)}, css: {'is-loading' : loading}\"), :className => \"is-medium button is-primary\", :style => Dict{String, Any}())), Dict{String, Tuple{Observables.AbstractObservable, Union{Nothing, Bool}}}(\"loading\" => (Observable(false), nothing), \"clicks\" => (Observable(0), nothing)), Set{String}(), nothing, WebIO.Asset[WebIO.Asset(\"js\", \"knockout\", \"/home/dushya/.julia/packages/Knockout/HReiN/src/../assets/knockout.js\"), WebIO.Asset(\"js\", \"knockout_punches\", \"/home/dushya/.julia/packages/Knockout/HReiN/src/../assets/knockout_punches.js\"), WebIO.Asset(\"js\", nothing, \"/home/dushya/.julia/packages/InteractBase/LJXv3/src/../assets/all.js\"), WebIO.Asset(\"css\", nothing, \"/home/dushya/.julia/packages/InteractBase/LJXv3/src/../assets/style.css\"), WebIO.Asset(\"css\", nothing, \"/home/dushya/.julia/packages/Interact/PENUy/src/../assets/bulma_confined.min.css\")], Dict{Any, Any}(\"loading\" => Any[WebIO.JSString(\"(function (val){return (val!=this.model[\\\"loading\\\"]()) ? (this.valueFromJulia[\\\"loading\\\"]=true, this.model[\\\"loading\\\"](val)) : undefined})\")], \"clicks\" => Any[WebIO.JSString(\"(function (val){return (val!=this.model[\\\"clicks\\\"]()) ? (this.valueFromJulia[\\\"clicks\\\"]=true, this.model[\\\"clicks\\\"](val)) : undefined})\")]), WebIO.ConnectionPool(Channel{Any}(32), Set{WebIO.AbstractConnection}(), Base.GenericCondition{ReentrantLock}(Base.IntrusiveLinkedList{Task}(Task (runnable) @0x00007f354d931f50, Task (runnable) @0x00007f354d931f50), ReentrantLock(nothing, 0x00000000, 0x00, Base.GenericCondition{Base.Threads.SpinLock}(Base.IntrusiveLinkedList{Task}(nothing, nothing), Base.Threads.SpinLock(0)), (139866787607632, 139866714700416, 0)))), WebIO.JSString[WebIO.JSString(\"function () {\\n    var handler = (function (ko, koPunches) {\\n    ko.punches.enableAll();\\n    ko.bindingHandlers.numericValue = {\\n        init: function(element, valueAccessor, allBindings, data, context) {\\n            var stringified = ko.observable(ko.unwrap(valueAccessor()));\\n            stringified.subscribe(function(value) {\\n                var val = parseFloat(value);\\n                if (!isNaN(val)) {\\n                    valueAccessor()(val);\\n                }\\n            });\\n            valueAccessor().subscribe(function(value) {\\n                var str = JSON.stringify(value);\\n                if ((str == \\\"0\\\") && ([\\\"-0\\\", \\\"-0.\\\"].indexOf(stringified()) >= 0))\\n                     return;\\n                 if ([\\\"null\\\", \\\"\\\"].indexOf(str) >= 0)\\n                     return;\\n                stringified(str);\\n            });\\n            ko.applyBindingsToNode(\\n                element,\\n                {\\n                    value: stringified,\\n                    valueUpdate: allBindings.get('valueUpdate'),\\n                },\\n                context,\\n            );\\n        }\\n    };\\n    var json_data = {\\\"loading\\\":WebIO.getval({\\\"name\\\":\\\"loading\\\",\\\"scope\\\":\\\"1798163116378337525\\\",\\\"id\\\":\\\"14438296417560999407\\\",\\\"type\\\":\\\"observable\\\"}),\\\"clicks\\\":WebIO.getval({\\\"name\\\":\\\"clicks\\\",\\\"scope\\\":\\\"1798163116378337525\\\",\\\"id\\\":\\\"14873818066798403980\\\",\\\"type\\\":\\\"observable\\\"})};\\n    var self = this;\\n    function AppViewModel() {\\n        for (var key in json_data) {\\n            var el = json_data[key];\\n            this[key] = Array.isArray(el) ? ko.observableArray(el) : ko.observable(el);\\n        }\\n        \\n        \\n        [this[\\\"loading\\\"].subscribe((function (val){!(this.valueFromJulia[\\\"loading\\\"]) ? (WebIO.setval({\\\"name\\\":\\\"loading\\\",\\\"scope\\\":\\\"1798163116378337525\\\",\\\"id\\\":\\\"14438296417560999407\\\",\\\"type\\\":\\\"observable\\\"},val)) : undefined; return this.valueFromJulia[\\\"loading\\\"]=false}),self),this[\\\"clicks\\\"].subscribe((function (val){!(this.valueFromJulia[\\\"clicks\\\"]) ? (WebIO.setval({\\\"name\\\":\\\"clicks\\\",\\\"scope\\\":\\\"1798163116378337525\\\",\\\"id\\\":\\\"14873818066798403980\\\",\\\"type\\\":\\\"observable\\\"},val)) : undefined; return this.valueFromJulia[\\\"clicks\\\"]=false}),self)]\\n        \\n    }\\n    self.model = new AppViewModel();\\n    self.valueFromJulia = {};\\n    for (var key in json_data) {\\n        self.valueFromJulia[key] = false;\\n    }\\n    ko.applyBindings(self.model, self.dom);\\n}\\n);\\n    (WebIO.importBlock({\\\"data\\\":[{\\\"name\\\":\\\"knockout\\\",\\\"type\\\":\\\"js\\\",\\\"url\\\":\\\"/assetserver/727383f2a47bd31570b7da84eee7b022dd6d7c78-knockout.js\\\"},{\\\"name\\\":\\\"knockout_punches\\\",\\\"type\\\":\\\"js\\\",\\\"url\\\":\\\"/assetserver/382b41b3b1bd9f26f75861d360bad7f8beea211f-knockout_punches.js\\\"}],\\\"type\\\":\\\"async_block\\\"})).then((imports) => handler.apply(this, imports));\\n}\\n\")])], Dict{Symbol, Any}(:className => \"field interact-widget\")), WebIO.Node{WebIO.DOM}(WebIO.DOM(:html, :div), Any[WebIO.Scope(WebIO.Node{WebIO.DOM}(WebIO.DOM(:html, :div), Any[], Dict{Symbol, Any}(:id => \"container\")), Dict{String, Tuple{Observables.AbstractObservable, Union{Nothing, Bool}}}(\"value\" => (Observable(\"\\\\;\\\\;\"), nothing)), Set{String}(), nothing, WebIO.Asset[WebIO.Asset(\"js\", nothing, \"/home/dushya/.julia/packages/InteractBase/LJXv3/src/../assets/katex.min.js\"), WebIO.Asset(\"css\", nothing, \"/home/dushya/.julia/packages/InteractBase/LJXv3/src/../assets/katex.min.css\")], Dict{Any, Any}(\"value\" => Any[WebIO.JSString(\"(function (txt){return this.k.render(txt,this.container)})\")]), WebIO.ConnectionPool(Channel{Any}(32), Set{WebIO.AbstractConnection}(), Base.GenericCondition{ReentrantLock}(Base.IntrusiveLinkedList{Task}(Task (runnable) @0x00007f34de37f9e0, Task (runnable) @0x00007f34de37f9e0), ReentrantLock(nothing, 0x00000000, 0x00, Base.GenericCondition{Base.Threads.SpinLock}(Base.IntrusiveLinkedList{Task}(nothing, nothing), Base.Threads.SpinLock(0)), (8, 0, 141733920768)))), WebIO.JSString[WebIO.JSString(\"function () {\\n    var handler = ((function (k){this.k=k; this.container=this.dom.querySelector(\\\"#container\\\"); return k.render(\\\"\\\\\\\\;\\\\\\\\;\\\",this.container)}));\\n    (WebIO.importBlock({\\\"data\\\":[{\\\"name\\\":null,\\\"type\\\":\\\"js\\\",\\\"url\\\":\\\"/assetserver/dd22ed1bf1896c2748f3fe616ce0b838adc895c1-katex.min.js\\\"},{\\\"name\\\":null,\\\"type\\\":\\\"css\\\",\\\"url\\\":\\\"/assetserver/46517a424aa5e6cffc1360d7e0848b601c584ee3-katex.min.css\\\"}],\\\"type\\\":\\\"async_block\\\"})).then((imports) => handler.apply(this, imports));\\n}\\n\")])], Dict{Symbol, Any}(:className => \"interact-widget\")), WebIO.Node{WebIO.DOM}(WebIO.DOM(:html, :div), Any[WebIO.Scope(WebIO.Node{WebIO.DOM}(WebIO.DOM(:html, :button), Any[\"save\"], Dict{Symbol, Any}(:attributes => Dict{Any, Any}(\"data-bind\" => \"click: function (){this.clicks(this.clicks()+1)}, css: {'is-loading' : loading}\"), :className => \"is-medium button is-primary\", :style => Dict{String, Any}())), Dict{String, Tuple{Observables.AbstractObservable, Union{Nothing, Bool}}}(\"loading\" => (Observable(false), nothing), \"clicks\" => (Observable(0), nothing)), Set{String}(), nothing, WebIO.Asset[WebIO.Asset(\"js\", \"knockout\", \"/home/dushya/.julia/packages/Knockout/HReiN/src/../assets/knockout.js\"), WebIO.Asset(\"js\", \"knockout_punches\", \"/home/dushya/.julia/packages/Knockout/HReiN/src/../assets/knockout_punches.js\"), WebIO.Asset(\"js\", nothing, \"/home/dushya/.julia/packages/InteractBase/LJXv3/src/../assets/all.js\"), WebIO.Asset(\"css\", nothing, \"/home/dushya/.julia/packages/InteractBase/LJXv3/src/../assets/style.css\"), WebIO.Asset(\"css\", nothing, \"/home/dushya/.julia/packages/Interact/PENUy/src/../assets/bulma_confined.min.css\")], Dict{Any, Any}(\"loading\" => Any[WebIO.JSString(\"(function (val){return (val!=this.model[\\\"loading\\\"]()) ? (this.valueFromJulia[\\\"loading\\\"]=true, this.model[\\\"loading\\\"](val)) : undefined})\")], \"clicks\" => Any[WebIO.JSString(\"(function (val){return (val!=this.model[\\\"clicks\\\"]()) ? (this.valueFromJulia[\\\"clicks\\\"]=true, this.model[\\\"clicks\\\"](val)) : undefined})\")]), WebIO.ConnectionPool(Channel{Any}(32), Set{WebIO.AbstractConnection}(), Base.GenericCondition{ReentrantLock}(Base.IntrusiveLinkedList{Task}(Task (runnable) @0x00007f354d95c970, Task (runnable) @0x00007f354d95c970), ReentrantLock(nothing, 0x00000000, 0x00, Base.GenericCondition{Base.Threads.SpinLock}(Base.IntrusiveLinkedList{Task}(nothing, nothing), Base.Threads.SpinLock(0)), (139866787607632, 139866702704688, 0)))), WebIO.JSString[WebIO.JSString(\"function () {\\n    var handler = (function (ko, koPunches) {\\n    ko.punches.enableAll();\\n    ko.bindingHandlers.numericValue = {\\n        init: function(element, valueAccessor, allBindings, data, context) {\\n            var stringified = ko.observable(ko.unwrap(valueAccessor()));\\n            stringified.subscribe(function(value) {\\n                var val = parseFloat(value);\\n                if (!isNaN(val)) {\\n                    valueAccessor()(val);\\n                }\\n            });\\n            valueAccessor().subscribe(function(value) {\\n                var str = JSON.stringify(value);\\n                if ((str == \\\"0\\\") && ([\\\"-0\\\", \\\"-0.\\\"].indexOf(stringified()) >= 0))\\n                     return;\\n                 if ([\\\"null\\\", \\\"\\\"].indexOf(str) >= 0)\\n                     return;\\n                stringified(str);\\n            });\\n            ko.applyBindingsToNode(\\n                element,\\n                {\\n                    value: stringified,\\n                    valueUpdate: allBindings.get('valueUpdate'),\\n                },\\n                context,\\n            );\\n        }\\n    };\\n    var json_data = {\\\"loading\\\":WebIO.getval({\\\"name\\\":\\\"loading\\\",\\\"scope\\\":\\\"6692710372472577328\\\",\\\"id\\\":\\\"11788857928256952194\\\",\\\"type\\\":\\\"observable\\\"}),\\\"clicks\\\":WebIO.getval({\\\"name\\\":\\\"clicks\\\",\\\"scope\\\":\\\"6692710372472577328\\\",\\\"id\\\":\\\"17858793153912671837\\\",\\\"type\\\":\\\"observable\\\"})};\\n    var self = this;\\n    function AppViewModel() {\\n        for (var key in json_data) {\\n            var el = json_data[key];\\n            this[key] = Array.isArray(el) ? ko.observableArray(el) : ko.observable(el);\\n        }\\n        \\n        \\n        [this[\\\"loading\\\"].subscribe((function (val){!(this.valueFromJulia[\\\"loading\\\"]) ? (WebIO.setval({\\\"name\\\":\\\"loading\\\",\\\"scope\\\":\\\"6692710372472577328\\\",\\\"id\\\":\\\"11788857928256952194\\\",\\\"type\\\":\\\"observable\\\"},val)) : undefined; return this.valueFromJulia[\\\"loading\\\"]=false}),self),this[\\\"clicks\\\"].subscribe((function (val){!(this.valueFromJulia[\\\"clicks\\\"]) ? (WebIO.setval({\\\"name\\\":\\\"clicks\\\",\\\"scope\\\":\\\"6692710372472577328\\\",\\\"id\\\":\\\"17858793153912671837\\\",\\\"type\\\":\\\"observable\\\"},val)) : undefined; return this.valueFromJulia[\\\"clicks\\\"]=false}),self)]\\n        \\n    }\\n    self.model = new AppViewModel();\\n    self.valueFromJulia = {};\\n    for (var key in json_data) {\\n        self.valueFromJulia[key] = false;\\n    }\\n    ko.applyBindings(self.model, self.dom);\\n}\\n);\\n    (WebIO.importBlock({\\\"data\\\":[{\\\"name\\\":\\\"knockout\\\",\\\"type\\\":\\\"js\\\",\\\"url\\\":\\\"/assetserver/727383f2a47bd31570b7da84eee7b022dd6d7c78-knockout.js\\\"},{\\\"name\\\":\\\"knockout_punches\\\",\\\"type\\\":\\\"js\\\",\\\"url\\\":\\\"/assetserver/382b41b3b1bd9f26f75861d360bad7f8beea211f-knockout_punches.js\\\"}],\\\"type\\\":\\\"async_block\\\"})).then((imports) => handler.apply(this, imports));\\n}\\n\")])], Dict{Symbol, Any}(:className => \"field interact-widget\"))], Dict{Symbol, Any}(:style => Dict(\"display\" => \"flex\", \"flex-direction\" => \"row\")))], Dict{Symbol, Any}(:style => Dict(\"display\" => \"flex\", \"flex-direction\" => \"column\"))), WebIO.Node{WebIO.DOM}(WebIO.DOM(:html, :div), Any[WebIO.Scope(WebIO.Node{WebIO.DOM}(WebIO.DOM(:html, :div), Any[], Dict{Symbol, Any}(:id => \"container\")), Dict{String, Tuple{Observables.AbstractObservable, Union{Nothing, Bool}}}(\"value\" => (Observable(\"\\\\;\\\\;\"), nothing)), Set{String}(), nothing, WebIO.Asset[WebIO.Asset(\"js\", nothing, \"/home/dushya/.julia/packages/InteractBase/LJXv3/src/../assets/katex.min.js\"), WebIO.Asset(\"css\", nothing, \"/home/dushya/.julia/packages/InteractBase/LJXv3/src/../assets/katex.min.css\")], Dict{Any, Any}(\"value\" => Any[WebIO.JSString(\"(function (txt){return this.k.render(txt,this.container)})\")]), WebIO.ConnectionPool(Channel{Any}(32), Set{WebIO.AbstractConnection}(), Base.GenericCondition{ReentrantLock}(Base.IntrusiveLinkedList{Task}(Task (runnable) @0x00007f34de37f9e0, Task (runnable) @0x00007f34de37f9e0), ReentrantLock(nothing, 0x00000000, 0x00, Base.GenericCondition{Base.Threads.SpinLock}(Base.IntrusiveLinkedList{Task}(nothing, nothing), Base.Threads.SpinLock(0)), (8, 0, 141733920768)))), WebIO.JSString[WebIO.JSString(\"function () {\\n    var handler = ((function (k){this.k=k; this.container=this.dom.querySelector(\\\"#container\\\"); return k.render(\\\"\\\\\\\\;\\\\\\\\;\\\",this.container)}));\\n    (WebIO.importBlock({\\\"data\\\":[{\\\"name\\\":null,\\\"type\\\":\\\"js\\\",\\\"url\\\":\\\"/assetserver/dd22ed1bf1896c2748f3fe616ce0b838adc895c1-katex.min.js\\\"},{\\\"name\\\":null,\\\"type\\\":\\\"css\\\",\\\"url\\\":\\\"/assetserver/46517a424aa5e6cffc1360d7e0848b601c584ee3-katex.min.css\\\"}],\\\"type\\\":\\\"async_block\\\"})).then((imports) => handler.apply(this, imports));\\n}\\n\")])], Dict{Symbol, Any}(:className => \"interact-widget\")), Observable(Luxor.Drawing(430.0, 430.0, \"\", Cairo.CairoSurfaceBase{UInt32}(Ptr{Nothing} @0x0000000000000000, 430.0, 430.0), Cairo.CairoContext(Ptr{Nothing} @0x00000000092f6c10, Cairo.CairoSurfaceBase{UInt32}(Ptr{Nothing} @0x0000000000000000, 430.0, 430.0), Ptr{Nothing} @0x000000000605fb20), :png, 0.0, 0.0, 0.0, 1.0, IOBuffer(data=UInt8[...], readable=true, writable=true, seekable=true, append=false, size=2948, maxsize=Inf, ptr=2949, mark=-1), UInt8[0x89, 0x50, 0x4e, 0x47, 0x0d, 0x0a, 0x1a, 0x0a, 0x00, 0x00  …  0x00, 0x00, 0x49, 0x45, 0x4e, 0x44, 0xae, 0x42, 0x60, 0x82], false)), WebIO.Node{WebIO.DOM}(WebIO.DOM(:html, :div), Any[WebIO.Scope(WebIO.Node{WebIO.DOM}(WebIO.DOM(:html, :div), Any[], Dict{Symbol, Any}(:id => \"container\")), Dict{String, Tuple{Observables.AbstractObservable, Union{Nothing, Bool}}}(\"value\" => (Observable(\"\\\\;\\\\;\"), nothing)), Set{String}(), nothing, WebIO.Asset[WebIO.Asset(\"js\", nothing, \"/home/dushya/.julia/packages/InteractBase/LJXv3/src/../assets/katex.min.js\"), WebIO.Asset(\"css\", nothing, \"/home/dushya/.julia/packages/InteractBase/LJXv3/src/../assets/katex.min.css\")], Dict{Any, Any}(\"value\" => Any[WebIO.JSString(\"(function (txt){return this.k.render(txt,this.container)})\")]), WebIO.ConnectionPool(Channel{Any}(32), Set{WebIO.AbstractConnection}(), Base.GenericCondition{ReentrantLock}(Base.IntrusiveLinkedList{Task}(Task (runnable) @0x00007f34de37f9e0, Task (runnable) @0x00007f34de37f9e0), ReentrantLock(nothing, 0x00000000, 0x00, Base.GenericCondition{Base.Threads.SpinLock}(Base.IntrusiveLinkedList{Task}(nothing, nothing), Base.Threads.SpinLock(0)), (8, 0, 141733920768)))), WebIO.JSString[WebIO.JSString(\"function () {\\n    var handler = ((function (k){this.k=k; this.container=this.dom.querySelector(\\\"#container\\\"); return k.render(\\\"\\\\\\\\;\\\\\\\\;\\\",this.container)}));\\n    (WebIO.importBlock({\\\"data\\\":[{\\\"name\\\":null,\\\"type\\\":\\\"js\\\",\\\"url\\\":\\\"/assetserver/dd22ed1bf1896c2748f3fe616ce0b838adc895c1-katex.min.js\\\"},{\\\"name\\\":null,\\\"type\\\":\\\"css\\\",\\\"url\\\":\\\"/assetserver/46517a424aa5e6cffc1360d7e0848b601c584ee3-katex.min.css\\\"}],\\\"type\\\":\\\"async_block\\\"})).then((imports) => handler.apply(this, imports));\\n}\\n\")])], Dict{Symbol, Any}(:className => \"interact-widget\")), WebIO.Node{WebIO.DOM}(WebIO.DOM(:html, :div), Any[], Dict{Symbol, Any}(:style => Dict(\"display\" => \"flex\", \"flex-direction\" => \"column\")))], Dict{Symbol, Any}(:style => Dict(\"display\" => \"flex\", \"flex-direction\" => \"row\")))], Dict{Symbol, Any}(:style => Dict(\"display\" => \"flex\", \"flex-direction\" => \"column\")))"
      ]
     },
     "execution_count": 29,
     "metadata": {
      "application/vnd.webio.node+json": {
       "kernelId": "a095ab2e-6231-4385-a2c1-7658f186d82b"
      }
     },
     "output_type": "execute_result"
    }
   ],
   "source": [
    "animate_sim(model,tail = (30, agent -> agent.color == cl\"blue\"))"
   ]
  },
  {
   "cell_type": "code",
   "execution_count": 9,
   "metadata": {},
   "outputs": [
    {
     "name": "stdout",
     "output_type": "stream",
     "text": [
      "Model with name sun_planet_model saved as sun_planet.jld2 in folder .\n"
     ]
    },
    {
     "data": {
      "text/plain": [
       "1"
      ]
     },
     "execution_count": 9,
     "metadata": {},
     "output_type": "execute_result"
    }
   ],
   "source": [
    "save_model(model, model_name = \"sun_planet_model\", save_as = \"sun_planet.jld2\", folder = \".\")"
   ]
  },
  {
   "cell_type": "markdown",
   "metadata": {},
   "source": [
    "A model saved previously as jld2 file, can be fetched as follows "
   ]
  },
  {
   "cell_type": "code",
   "execution_count": 10,
   "metadata": {
    "scrolled": true
   },
   "outputs": [
    {
     "data": {
      "text/plain": [
       "EasyABM SpaceModel2D{Static, Float64, Periodic}: In a Static model number of agents is fixed.\n"
      ]
     },
     "execution_count": 10,
     "metadata": {},
     "output_type": "execute_result"
    }
   ],
   "source": [
    "saved_model = open_model(model_name = \"sun_planet_model\", path = \"sun_planet.jld2\")"
   ]
  },
  {
   "cell_type": "code",
   "execution_count": 11,
   "metadata": {},
   "outputs": [
    {
     "data": {
      "application/vnd.webio.node+json": {
       "children": [
        {
         "children": [
          {
           "children": [
            {
             "children": [
              {
               "children": [
                {
                 "children": [
                  {
                   "children": [
                    {
                     "children": [
                      "time"
                     ],
                     "instanceArgs": {
                      "namespace": "html",
                      "tag": "label"
                     },
                     "nodeType": "DOM",
                     "props": {
                      "className": "interact ",
                      "style": {
                       "padding": "5px 10px 0px 10px"
                      }
                     },
                     "type": "node"
                    }
                   ],
                   "instanceArgs": {
                    "namespace": "html",
                    "tag": "div"
                   },
                   "nodeType": "DOM",
                   "props": {
                    "className": "interact-flex-row-left"
                   },
                   "type": "node"
                  },
                  {
                   "children": [
                    {
                     "children": [],
                     "instanceArgs": {
                      "namespace": "html",
                      "tag": "input"
                     },
                     "nodeType": "DOM",
                     "props": {
                      "attributes": {
                       "data-bind": "numericValue: index, valueUpdate: 'input', event: {change: function (){this.changes(this.changes()+1)}}",
                       "orient": "horizontal",
                       "type": "range"
                      },
                      "className": "slider slider is-fullwidth",
                      "max": 501,
                      "min": 1,
                      "step": 1,
                      "style": {}
                     },
                     "type": "node"
                    }
                   ],
                   "instanceArgs": {
                    "namespace": "html",
                    "tag": "div"
                   },
                   "nodeType": "DOM",
                   "props": {
                    "className": "interact-flex-row-center"
                   },
                   "type": "node"
                  },
                  {
                   "children": [
                    {
                     "children": [],
                     "instanceArgs": {
                      "namespace": "html",
                      "tag": "p"
                     },
                     "nodeType": "DOM",
                     "props": {
                      "attributes": {
                       "data-bind": "text: formatted_val"
                      }
                     },
                     "type": "node"
                    }
                   ],
                   "instanceArgs": {
                    "namespace": "html",
                    "tag": "div"
                   },
                   "nodeType": "DOM",
                   "props": {
                    "className": "interact-flex-row-right"
                   },
                   "type": "node"
                  }
                 ],
                 "instanceArgs": {
                  "namespace": "html",
                  "tag": "div"
                 },
                 "nodeType": "DOM",
                 "props": {
                  "className": "interact-flex-row interact-widget"
                 },
                 "type": "node"
                }
               ],
               "instanceArgs": {
                "handlers": {
                 "changes": [
                  "(function (val){return (val!=this.model[\"changes\"]()) ? (this.valueFromJulia[\"changes\"]=true, this.model[\"changes\"](val)) : undefined})"
                 ],
                 "index": [
                  "(function (val){return (val!=this.model[\"index\"]()) ? (this.valueFromJulia[\"index\"]=true, this.model[\"index\"](val)) : undefined})"
                 ]
                },
                "id": "6657685335043018792",
                "imports": {
                 "data": [
                  {
                   "name": "knockout",
                   "type": "js",
                   "url": "/assetserver/727383f2a47bd31570b7da84eee7b022dd6d7c78-knockout.js"
                  },
                  {
                   "name": "knockout_punches",
                   "type": "js",
                   "url": "/assetserver/382b41b3b1bd9f26f75861d360bad7f8beea211f-knockout_punches.js"
                  },
                  {
                   "name": null,
                   "type": "js",
                   "url": "/assetserver/5ab20f1060420992a9b82a65b735dee4d81ef413-all.js"
                  },
                  {
                   "name": null,
                   "type": "css",
                   "url": "/assetserver/1cc0ed62837210b80a182cc3676512f895dab686-style.css"
                  },
                  {
                   "name": null,
                   "type": "css",
                   "url": "/assetserver/2eee816f616df3549d7044d45e744fbf8d42bfa1-bulma_confined.min.css"
                  }
                 ],
                 "type": "async_block"
                },
                "mount_callbacks": [
                 "function () {\n    var handler = (function (ko, koPunches) {\n    ko.punches.enableAll();\n    ko.bindingHandlers.numericValue = {\n        init: function(element, valueAccessor, allBindings, data, context) {\n            var stringified = ko.observable(ko.unwrap(valueAccessor()));\n            stringified.subscribe(function(value) {\n                var val = parseFloat(value);\n                if (!isNaN(val)) {\n                    valueAccessor()(val);\n                }\n            });\n            valueAccessor().subscribe(function(value) {\n                var str = JSON.stringify(value);\n                if ((str == \"0\") && ([\"-0\", \"-0.\"].indexOf(stringified()) >= 0))\n                     return;\n                 if ([\"null\", \"\"].indexOf(str) >= 0)\n                     return;\n                stringified(str);\n            });\n            ko.applyBindingsToNode(\n                element,\n                {\n                    value: stringified,\n                    valueUpdate: allBindings.get('valueUpdate'),\n                },\n                context,\n            );\n        }\n    };\n    var json_data = {\"formatted_vals\":[\"1\",\"2\",\"3\",\"4\",\"5\",\"6\",\"7\",\"8\",\"9\",\"10\",\"11\",\"12\",\"13\",\"14\",\"15\",\"16\",\"17\",\"18\",\"19\",\"20\",\"21\",\"22\",\"23\",\"24\",\"25\",\"26\",\"27\",\"28\",\"29\",\"30\",\"31\",\"32\",\"33\",\"34\",\"35\",\"36\",\"37\",\"38\",\"39\",\"40\",\"41\",\"42\",\"43\",\"44\",\"45\",\"46\",\"47\",\"48\",\"49\",\"50\",\"51\",\"52\",\"53\",\"54\",\"55\",\"56\",\"57\",\"58\",\"59\",\"60\",\"61\",\"62\",\"63\",\"64\",\"65\",\"66\",\"67\",\"68\",\"69\",\"70\",\"71\",\"72\",\"73\",\"74\",\"75\",\"76\",\"77\",\"78\",\"79\",\"80\",\"81\",\"82\",\"83\",\"84\",\"85\",\"86\",\"87\",\"88\",\"89\",\"90\",\"91\",\"92\",\"93\",\"94\",\"95\",\"96\",\"97\",\"98\",\"99\",\"100\",\"101\",\"102\",\"103\",\"104\",\"105\",\"106\",\"107\",\"108\",\"109\",\"110\",\"111\",\"112\",\"113\",\"114\",\"115\",\"116\",\"117\",\"118\",\"119\",\"120\",\"121\",\"122\",\"123\",\"124\",\"125\",\"126\",\"127\",\"128\",\"129\",\"130\",\"131\",\"132\",\"133\",\"134\",\"135\",\"136\",\"137\",\"138\",\"139\",\"140\",\"141\",\"142\",\"143\",\"144\",\"145\",\"146\",\"147\",\"148\",\"149\",\"150\",\"151\",\"152\",\"153\",\"154\",\"155\",\"156\",\"157\",\"158\",\"159\",\"160\",\"161\",\"162\",\"163\",\"164\",\"165\",\"166\",\"167\",\"168\",\"169\",\"170\",\"171\",\"172\",\"173\",\"174\",\"175\",\"176\",\"177\",\"178\",\"179\",\"180\",\"181\",\"182\",\"183\",\"184\",\"185\",\"186\",\"187\",\"188\",\"189\",\"190\",\"191\",\"192\",\"193\",\"194\",\"195\",\"196\",\"197\",\"198\",\"199\",\"200\",\"201\",\"202\",\"203\",\"204\",\"205\",\"206\",\"207\",\"208\",\"209\",\"210\",\"211\",\"212\",\"213\",\"214\",\"215\",\"216\",\"217\",\"218\",\"219\",\"220\",\"221\",\"222\",\"223\",\"224\",\"225\",\"226\",\"227\",\"228\",\"229\",\"230\",\"231\",\"232\",\"233\",\"234\",\"235\",\"236\",\"237\",\"238\",\"239\",\"240\",\"241\",\"242\",\"243\",\"244\",\"245\",\"246\",\"247\",\"248\",\"249\",\"250\",\"251\",\"252\",\"253\",\"254\",\"255\",\"256\",\"257\",\"258\",\"259\",\"260\",\"261\",\"262\",\"263\",\"264\",\"265\",\"266\",\"267\",\"268\",\"269\",\"270\",\"271\",\"272\",\"273\",\"274\",\"275\",\"276\",\"277\",\"278\",\"279\",\"280\",\"281\",\"282\",\"283\",\"284\",\"285\",\"286\",\"287\",\"288\",\"289\",\"290\",\"291\",\"292\",\"293\",\"294\",\"295\",\"296\",\"297\",\"298\",\"299\",\"300\",\"301\",\"302\",\"303\",\"304\",\"305\",\"306\",\"307\",\"308\",\"309\",\"310\",\"311\",\"312\",\"313\",\"314\",\"315\",\"316\",\"317\",\"318\",\"319\",\"320\",\"321\",\"322\",\"323\",\"324\",\"325\",\"326\",\"327\",\"328\",\"329\",\"330\",\"331\",\"332\",\"333\",\"334\",\"335\",\"336\",\"337\",\"338\",\"339\",\"340\",\"341\",\"342\",\"343\",\"344\",\"345\",\"346\",\"347\",\"348\",\"349\",\"350\",\"351\",\"352\",\"353\",\"354\",\"355\",\"356\",\"357\",\"358\",\"359\",\"360\",\"361\",\"362\",\"363\",\"364\",\"365\",\"366\",\"367\",\"368\",\"369\",\"370\",\"371\",\"372\",\"373\",\"374\",\"375\",\"376\",\"377\",\"378\",\"379\",\"380\",\"381\",\"382\",\"383\",\"384\",\"385\",\"386\",\"387\",\"388\",\"389\",\"390\",\"391\",\"392\",\"393\",\"394\",\"395\",\"396\",\"397\",\"398\",\"399\",\"400\",\"401\",\"402\",\"403\",\"404\",\"405\",\"406\",\"407\",\"408\",\"409\",\"410\",\"411\",\"412\",\"413\",\"414\",\"415\",\"416\",\"417\",\"418\",\"419\",\"420\",\"421\",\"422\",\"423\",\"424\",\"425\",\"426\",\"427\",\"428\",\"429\",\"430\",\"431\",\"432\",\"433\",\"434\",\"435\",\"436\",\"437\",\"438\",\"439\",\"440\",\"441\",\"442\",\"443\",\"444\",\"445\",\"446\",\"447\",\"448\",\"449\",\"450\",\"451\",\"452\",\"453\",\"454\",\"455\",\"456\",\"457\",\"458\",\"459\",\"460\",\"461\",\"462\",\"463\",\"464\",\"465\",\"466\",\"467\",\"468\",\"469\",\"470\",\"471\",\"472\",\"473\",\"474\",\"475\",\"476\",\"477\",\"478\",\"479\",\"480\",\"481\",\"482\",\"483\",\"484\",\"485\",\"486\",\"487\",\"488\",\"489\",\"490\",\"491\",\"492\",\"493\",\"494\",\"495\",\"496\",\"497\",\"498\",\"499\",\"500\",\"501\"],\"changes\":WebIO.getval({\"name\":\"changes\",\"scope\":\"6657685335043018792\",\"id\":\"15883111587828248853\",\"type\":\"observable\"}),\"index\":WebIO.getval({\"name\":\"index\",\"scope\":\"6657685335043018792\",\"id\":\"5145825009345735269\",\"type\":\"observable\"})};\n    var self = this;\n    function AppViewModel() {\n        for (var key in json_data) {\n            var el = json_data[key];\n            this[key] = Array.isArray(el) ? ko.observableArray(el) : ko.observable(el);\n        }\n        \n        [this[\"formatted_val\"]=ko.computed(    function(){\n        return this.formatted_vals()[parseInt(this.index())-(1)];\n    }\n,this)]\n        [this[\"changes\"].subscribe((function (val){!(this.valueFromJulia[\"changes\"]) ? (WebIO.setval({\"name\":\"changes\",\"scope\":\"6657685335043018792\",\"id\":\"15883111587828248853\",\"type\":\"observable\"},val)) : undefined; return this.valueFromJulia[\"changes\"]=false}),self),this[\"index\"].subscribe((function (val){!(this.valueFromJulia[\"index\"]) ? (WebIO.setval({\"name\":\"index\",\"scope\":\"6657685335043018792\",\"id\":\"5145825009345735269\",\"type\":\"observable\"},val)) : undefined; return this.valueFromJulia[\"index\"]=false}),self)]\n        \n    }\n    self.model = new AppViewModel();\n    self.valueFromJulia = {};\n    for (var key in json_data) {\n        self.valueFromJulia[key] = false;\n    }\n    ko.applyBindings(self.model, self.dom);\n}\n);\n    (WebIO.importBlock({\"data\":[{\"name\":\"knockout\",\"type\":\"js\",\"url\":\"/assetserver/727383f2a47bd31570b7da84eee7b022dd6d7c78-knockout.js\"},{\"name\":\"knockout_punches\",\"type\":\"js\",\"url\":\"/assetserver/382b41b3b1bd9f26f75861d360bad7f8beea211f-knockout_punches.js\"}],\"type\":\"async_block\"})).then((imports) => handler.apply(this, imports));\n}\n"
                ],
                "observables": {
                 "changes": {
                  "id": "15883111587828248853",
                  "sync": false,
                  "value": 0
                 },
                 "index": {
                  "id": "5145825009345735269",
                  "sync": true,
                  "value": 251
                 }
                },
                "systemjs_options": null
               },
               "nodeType": "Scope",
               "props": {},
               "type": "node"
              }
             ],
             "instanceArgs": {
              "namespace": "html",
              "tag": "div"
             },
             "nodeType": "DOM",
             "props": {
              "className": "field interact-widget"
             },
             "type": "node"
            },
            {
             "children": [
              {
               "children": [
                {
                 "children": [
                  {
                   "children": [
                    {
                     "children": [
                      "scale"
                     ],
                     "instanceArgs": {
                      "namespace": "html",
                      "tag": "label"
                     },
                     "nodeType": "DOM",
                     "props": {
                      "className": "interact ",
                      "style": {
                       "padding": "5px 10px 0px 10px"
                      }
                     },
                     "type": "node"
                    }
                   ],
                   "instanceArgs": {
                    "namespace": "html",
                    "tag": "div"
                   },
                   "nodeType": "DOM",
                   "props": {
                    "className": "interact-flex-row-left"
                   },
                   "type": "node"
                  },
                  {
                   "children": [
                    {
                     "children": [],
                     "instanceArgs": {
                      "namespace": "html",
                      "tag": "input"
                     },
                     "nodeType": "DOM",
                     "props": {
                      "attributes": {
                       "data-bind": "numericValue: index, valueUpdate: 'input', event: {change: function (){this.changes(this.changes()+1)}}",
                       "orient": "horizontal",
                       "type": "range"
                      },
                      "className": "slider slider is-fullwidth",
                      "max": 20,
                      "min": 1,
                      "step": 1,
                      "style": {}
                     },
                     "type": "node"
                    }
                   ],
                   "instanceArgs": {
                    "namespace": "html",
                    "tag": "div"
                   },
                   "nodeType": "DOM",
                   "props": {
                    "className": "interact-flex-row-center"
                   },
                   "type": "node"
                  },
                  {
                   "children": [
                    {
                     "children": [],
                     "instanceArgs": {
                      "namespace": "html",
                      "tag": "p"
                     },
                     "nodeType": "DOM",
                     "props": {
                      "attributes": {
                       "data-bind": "text: formatted_val"
                      }
                     },
                     "type": "node"
                    }
                   ],
                   "instanceArgs": {
                    "namespace": "html",
                    "tag": "div"
                   },
                   "nodeType": "DOM",
                   "props": {
                    "className": "interact-flex-row-right"
                   },
                   "type": "node"
                  }
                 ],
                 "instanceArgs": {
                  "namespace": "html",
                  "tag": "div"
                 },
                 "nodeType": "DOM",
                 "props": {
                  "className": "interact-flex-row interact-widget"
                 },
                 "type": "node"
                }
               ],
               "instanceArgs": {
                "handlers": {
                 "changes": [
                  "(function (val){return (val!=this.model[\"changes\"]()) ? (this.valueFromJulia[\"changes\"]=true, this.model[\"changes\"](val)) : undefined})"
                 ],
                 "index": [
                  "(function (val){return (val!=this.model[\"index\"]()) ? (this.valueFromJulia[\"index\"]=true, this.model[\"index\"](val)) : undefined})"
                 ]
                },
                "id": "3089849287560495822",
                "imports": {
                 "data": [
                  {
                   "name": "knockout",
                   "type": "js",
                   "url": "/assetserver/727383f2a47bd31570b7da84eee7b022dd6d7c78-knockout.js"
                  },
                  {
                   "name": "knockout_punches",
                   "type": "js",
                   "url": "/assetserver/382b41b3b1bd9f26f75861d360bad7f8beea211f-knockout_punches.js"
                  },
                  {
                   "name": null,
                   "type": "js",
                   "url": "/assetserver/5ab20f1060420992a9b82a65b735dee4d81ef413-all.js"
                  },
                  {
                   "name": null,
                   "type": "css",
                   "url": "/assetserver/1cc0ed62837210b80a182cc3676512f895dab686-style.css"
                  },
                  {
                   "name": null,
                   "type": "css",
                   "url": "/assetserver/2eee816f616df3549d7044d45e744fbf8d42bfa1-bulma_confined.min.css"
                  }
                 ],
                 "type": "async_block"
                },
                "mount_callbacks": [
                 "function () {\n    var handler = (function (ko, koPunches) {\n    ko.punches.enableAll();\n    ko.bindingHandlers.numericValue = {\n        init: function(element, valueAccessor, allBindings, data, context) {\n            var stringified = ko.observable(ko.unwrap(valueAccessor()));\n            stringified.subscribe(function(value) {\n                var val = parseFloat(value);\n                if (!isNaN(val)) {\n                    valueAccessor()(val);\n                }\n            });\n            valueAccessor().subscribe(function(value) {\n                var str = JSON.stringify(value);\n                if ((str == \"0\") && ([\"-0\", \"-0.\"].indexOf(stringified()) >= 0))\n                     return;\n                 if ([\"null\", \"\"].indexOf(str) >= 0)\n                     return;\n                stringified(str);\n            });\n            ko.applyBindingsToNode(\n                element,\n                {\n                    value: stringified,\n                    valueUpdate: allBindings.get('valueUpdate'),\n                },\n                context,\n            );\n        }\n    };\n    var json_data = {\"formatted_vals\":[\"0.1\",\"0.2\",\"0.3\",\"0.4\",\"0.5\",\"0.6\",\"0.7\",\"0.8\",\"0.9\",\"1.0\",\"1.1\",\"1.2\",\"1.3\",\"1.4\",\"1.5\",\"1.6\",\"1.7\",\"1.8\",\"1.9\",\"2.0\"],\"changes\":WebIO.getval({\"name\":\"changes\",\"scope\":\"3089849287560495822\",\"id\":\"7626509547706819144\",\"type\":\"observable\"}),\"index\":WebIO.getval({\"name\":\"index\",\"scope\":\"3089849287560495822\",\"id\":\"969551142670121201\",\"type\":\"observable\"})};\n    var self = this;\n    function AppViewModel() {\n        for (var key in json_data) {\n            var el = json_data[key];\n            this[key] = Array.isArray(el) ? ko.observableArray(el) : ko.observable(el);\n        }\n        \n        [this[\"formatted_val\"]=ko.computed(    function(){\n        return this.formatted_vals()[parseInt(this.index())-(1)];\n    }\n,this)]\n        [this[\"changes\"].subscribe((function (val){!(this.valueFromJulia[\"changes\"]) ? (WebIO.setval({\"name\":\"changes\",\"scope\":\"3089849287560495822\",\"id\":\"7626509547706819144\",\"type\":\"observable\"},val)) : undefined; return this.valueFromJulia[\"changes\"]=false}),self),this[\"index\"].subscribe((function (val){!(this.valueFromJulia[\"index\"]) ? (WebIO.setval({\"name\":\"index\",\"scope\":\"3089849287560495822\",\"id\":\"969551142670121201\",\"type\":\"observable\"},val)) : undefined; return this.valueFromJulia[\"index\"]=false}),self)]\n        \n    }\n    self.model = new AppViewModel();\n    self.valueFromJulia = {};\n    for (var key in json_data) {\n        self.valueFromJulia[key] = false;\n    }\n    ko.applyBindings(self.model, self.dom);\n}\n);\n    (WebIO.importBlock({\"data\":[{\"name\":\"knockout\",\"type\":\"js\",\"url\":\"/assetserver/727383f2a47bd31570b7da84eee7b022dd6d7c78-knockout.js\"},{\"name\":\"knockout_punches\",\"type\":\"js\",\"url\":\"/assetserver/382b41b3b1bd9f26f75861d360bad7f8beea211f-knockout_punches.js\"}],\"type\":\"async_block\"})).then((imports) => handler.apply(this, imports));\n}\n"
                ],
                "observables": {
                 "changes": {
                  "id": "7626509547706819144",
                  "sync": false,
                  "value": 0
                 },
                 "index": {
                  "id": "969551142670121201",
                  "sync": true,
                  "value": 10
                 }
                },
                "systemjs_options": null
               },
               "nodeType": "Scope",
               "props": {},
               "type": "node"
              }
             ],
             "instanceArgs": {
              "namespace": "html",
              "tag": "div"
             },
             "nodeType": "DOM",
             "props": {
              "className": "field interact-widget"
             },
             "type": "node"
            },
            {
             "children": [
              {
               "children": [
                {
                 "children": [
                  {
                   "children": [],
                   "instanceArgs": {
                    "namespace": "html",
                    "tag": "div"
                   },
                   "nodeType": "DOM",
                   "props": {
                    "id": "container"
                   },
                   "type": "node"
                  }
                 ],
                 "instanceArgs": {
                  "handlers": {
                   "value": [
                    "(function (txt){return this.k.render(txt,this.container)})"
                   ]
                  },
                  "id": "10917190035075576321",
                  "imports": {
                   "data": [
                    {
                     "name": null,
                     "type": "js",
                     "url": "/assetserver/dd22ed1bf1896c2748f3fe616ce0b838adc895c1-katex.min.js"
                    },
                    {
                     "name": null,
                     "type": "css",
                     "url": "/assetserver/46517a424aa5e6cffc1360d7e0848b601c584ee3-katex.min.css"
                    }
                   ],
                   "type": "async_block"
                  },
                  "mount_callbacks": [
                   "function () {\n    var handler = ((function (k){this.k=k; this.container=this.dom.querySelector(\"#container\"); return k.render(\"\\\\;\\\\;\",this.container)}));\n    (WebIO.importBlock({\"data\":[{\"name\":null,\"type\":\"js\",\"url\":\"/assetserver/dd22ed1bf1896c2748f3fe616ce0b838adc895c1-katex.min.js\"},{\"name\":null,\"type\":\"css\",\"url\":\"/assetserver/46517a424aa5e6cffc1360d7e0848b601c584ee3-katex.min.css\"}],\"type\":\"async_block\"})).then((imports) => handler.apply(this, imports));\n}\n"
                  ],
                  "observables": {
                   "value": {
                    "id": "1313039778173910511",
                    "sync": false,
                    "value": "\\;\\;"
                   }
                  },
                  "systemjs_options": null
                 },
                 "nodeType": "Scope",
                 "props": {},
                 "type": "node"
                }
               ],
               "instanceArgs": {
                "namespace": "html",
                "tag": "div"
               },
               "nodeType": "DOM",
               "props": {
                "className": "interact-widget"
               },
               "type": "node"
              },
              {
               "children": [
                {
                 "children": [
                  {
                   "children": [
                    "run"
                   ],
                   "instanceArgs": {
                    "namespace": "html",
                    "tag": "button"
                   },
                   "nodeType": "DOM",
                   "props": {
                    "attributes": {
                     "data-bind": "click: function (){this.clicks(this.clicks()+1)}, css: {'is-loading' : loading}"
                    },
                    "className": "is-medium button is-primary",
                    "style": {}
                   },
                   "type": "node"
                  }
                 ],
                 "instanceArgs": {
                  "handlers": {
                   "clicks": [
                    "(function (val){return (val!=this.model[\"clicks\"]()) ? (this.valueFromJulia[\"clicks\"]=true, this.model[\"clicks\"](val)) : undefined})"
                   ],
                   "loading": [
                    "(function (val){return (val!=this.model[\"loading\"]()) ? (this.valueFromJulia[\"loading\"]=true, this.model[\"loading\"](val)) : undefined})"
                   ]
                  },
                  "id": "12492612786226233471",
                  "imports": {
                   "data": [
                    {
                     "name": "knockout",
                     "type": "js",
                     "url": "/assetserver/727383f2a47bd31570b7da84eee7b022dd6d7c78-knockout.js"
                    },
                    {
                     "name": "knockout_punches",
                     "type": "js",
                     "url": "/assetserver/382b41b3b1bd9f26f75861d360bad7f8beea211f-knockout_punches.js"
                    },
                    {
                     "name": null,
                     "type": "js",
                     "url": "/assetserver/5ab20f1060420992a9b82a65b735dee4d81ef413-all.js"
                    },
                    {
                     "name": null,
                     "type": "css",
                     "url": "/assetserver/1cc0ed62837210b80a182cc3676512f895dab686-style.css"
                    },
                    {
                     "name": null,
                     "type": "css",
                     "url": "/assetserver/2eee816f616df3549d7044d45e744fbf8d42bfa1-bulma_confined.min.css"
                    }
                   ],
                   "type": "async_block"
                  },
                  "mount_callbacks": [
                   "function () {\n    var handler = (function (ko, koPunches) {\n    ko.punches.enableAll();\n    ko.bindingHandlers.numericValue = {\n        init: function(element, valueAccessor, allBindings, data, context) {\n            var stringified = ko.observable(ko.unwrap(valueAccessor()));\n            stringified.subscribe(function(value) {\n                var val = parseFloat(value);\n                if (!isNaN(val)) {\n                    valueAccessor()(val);\n                }\n            });\n            valueAccessor().subscribe(function(value) {\n                var str = JSON.stringify(value);\n                if ((str == \"0\") && ([\"-0\", \"-0.\"].indexOf(stringified()) >= 0))\n                     return;\n                 if ([\"null\", \"\"].indexOf(str) >= 0)\n                     return;\n                stringified(str);\n            });\n            ko.applyBindingsToNode(\n                element,\n                {\n                    value: stringified,\n                    valueUpdate: allBindings.get('valueUpdate'),\n                },\n                context,\n            );\n        }\n    };\n    var json_data = {\"loading\":WebIO.getval({\"name\":\"loading\",\"scope\":\"12492612786226233471\",\"id\":\"4908424974342716773\",\"type\":\"observable\"}),\"clicks\":WebIO.getval({\"name\":\"clicks\",\"scope\":\"12492612786226233471\",\"id\":\"6962318678562052201\",\"type\":\"observable\"})};\n    var self = this;\n    function AppViewModel() {\n        for (var key in json_data) {\n            var el = json_data[key];\n            this[key] = Array.isArray(el) ? ko.observableArray(el) : ko.observable(el);\n        }\n        \n        \n        [this[\"loading\"].subscribe((function (val){!(this.valueFromJulia[\"loading\"]) ? (WebIO.setval({\"name\":\"loading\",\"scope\":\"12492612786226233471\",\"id\":\"4908424974342716773\",\"type\":\"observable\"},val)) : undefined; return this.valueFromJulia[\"loading\"]=false}),self),this[\"clicks\"].subscribe((function (val){!(this.valueFromJulia[\"clicks\"]) ? (WebIO.setval({\"name\":\"clicks\",\"scope\":\"12492612786226233471\",\"id\":\"6962318678562052201\",\"type\":\"observable\"},val)) : undefined; return this.valueFromJulia[\"clicks\"]=false}),self)]\n        \n    }\n    self.model = new AppViewModel();\n    self.valueFromJulia = {};\n    for (var key in json_data) {\n        self.valueFromJulia[key] = false;\n    }\n    ko.applyBindings(self.model, self.dom);\n}\n);\n    (WebIO.importBlock({\"data\":[{\"name\":\"knockout\",\"type\":\"js\",\"url\":\"/assetserver/727383f2a47bd31570b7da84eee7b022dd6d7c78-knockout.js\"},{\"name\":\"knockout_punches\",\"type\":\"js\",\"url\":\"/assetserver/382b41b3b1bd9f26f75861d360bad7f8beea211f-knockout_punches.js\"}],\"type\":\"async_block\"})).then((imports) => handler.apply(this, imports));\n}\n"
                  ],
                  "observables": {
                   "clicks": {
                    "id": "6962318678562052201",
                    "sync": true,
                    "value": 0
                   },
                   "loading": {
                    "id": "4908424974342716773",
                    "sync": false,
                    "value": false
                   }
                  },
                  "systemjs_options": null
                 },
                 "nodeType": "Scope",
                 "props": {},
                 "type": "node"
                }
               ],
               "instanceArgs": {
                "namespace": "html",
                "tag": "div"
               },
               "nodeType": "DOM",
               "props": {
                "className": "field interact-widget"
               },
               "type": "node"
              },
              {
               "children": [
                {
                 "children": [
                  {
                   "children": [],
                   "instanceArgs": {
                    "namespace": "html",
                    "tag": "div"
                   },
                   "nodeType": "DOM",
                   "props": {
                    "id": "container"
                   },
                   "type": "node"
                  }
                 ],
                 "instanceArgs": {
                  "handlers": {
                   "value": [
                    "(function (txt){return this.k.render(txt,this.container)})"
                   ]
                  },
                  "id": "10917190035075576321",
                  "imports": {
                   "data": [
                    {
                     "name": null,
                     "type": "js",
                     "url": "/assetserver/dd22ed1bf1896c2748f3fe616ce0b838adc895c1-katex.min.js"
                    },
                    {
                     "name": null,
                     "type": "css",
                     "url": "/assetserver/46517a424aa5e6cffc1360d7e0848b601c584ee3-katex.min.css"
                    }
                   ],
                   "type": "async_block"
                  },
                  "mount_callbacks": [
                   "function () {\n    var handler = ((function (k){this.k=k; this.container=this.dom.querySelector(\"#container\"); return k.render(\"\\\\;\\\\;\",this.container)}));\n    (WebIO.importBlock({\"data\":[{\"name\":null,\"type\":\"js\",\"url\":\"/assetserver/dd22ed1bf1896c2748f3fe616ce0b838adc895c1-katex.min.js\"},{\"name\":null,\"type\":\"css\",\"url\":\"/assetserver/46517a424aa5e6cffc1360d7e0848b601c584ee3-katex.min.css\"}],\"type\":\"async_block\"})).then((imports) => handler.apply(this, imports));\n}\n"
                  ],
                  "observables": {
                   "value": {
                    "id": "1313039778173910511",
                    "sync": false,
                    "value": "\\;\\;"
                   }
                  },
                  "systemjs_options": null
                 },
                 "nodeType": "Scope",
                 "props": {},
                 "type": "node"
                }
               ],
               "instanceArgs": {
                "namespace": "html",
                "tag": "div"
               },
               "nodeType": "DOM",
               "props": {
                "className": "interact-widget"
               },
               "type": "node"
              },
              {
               "children": [
                {
                 "children": [
                  {
                   "children": [
                    "stop"
                   ],
                   "instanceArgs": {
                    "namespace": "html",
                    "tag": "button"
                   },
                   "nodeType": "DOM",
                   "props": {
                    "attributes": {
                     "data-bind": "click: function (){this.clicks(this.clicks()+1)}, css: {'is-loading' : loading}"
                    },
                    "className": "is-medium button is-primary",
                    "style": {}
                   },
                   "type": "node"
                  }
                 ],
                 "instanceArgs": {
                  "handlers": {
                   "clicks": [
                    "(function (val){return (val!=this.model[\"clicks\"]()) ? (this.valueFromJulia[\"clicks\"]=true, this.model[\"clicks\"](val)) : undefined})"
                   ],
                   "loading": [
                    "(function (val){return (val!=this.model[\"loading\"]()) ? (this.valueFromJulia[\"loading\"]=true, this.model[\"loading\"](val)) : undefined})"
                   ]
                  },
                  "id": "1075518869715648403",
                  "imports": {
                   "data": [
                    {
                     "name": "knockout",
                     "type": "js",
                     "url": "/assetserver/727383f2a47bd31570b7da84eee7b022dd6d7c78-knockout.js"
                    },
                    {
                     "name": "knockout_punches",
                     "type": "js",
                     "url": "/assetserver/382b41b3b1bd9f26f75861d360bad7f8beea211f-knockout_punches.js"
                    },
                    {
                     "name": null,
                     "type": "js",
                     "url": "/assetserver/5ab20f1060420992a9b82a65b735dee4d81ef413-all.js"
                    },
                    {
                     "name": null,
                     "type": "css",
                     "url": "/assetserver/1cc0ed62837210b80a182cc3676512f895dab686-style.css"
                    },
                    {
                     "name": null,
                     "type": "css",
                     "url": "/assetserver/2eee816f616df3549d7044d45e744fbf8d42bfa1-bulma_confined.min.css"
                    }
                   ],
                   "type": "async_block"
                  },
                  "mount_callbacks": [
                   "function () {\n    var handler = (function (ko, koPunches) {\n    ko.punches.enableAll();\n    ko.bindingHandlers.numericValue = {\n        init: function(element, valueAccessor, allBindings, data, context) {\n            var stringified = ko.observable(ko.unwrap(valueAccessor()));\n            stringified.subscribe(function(value) {\n                var val = parseFloat(value);\n                if (!isNaN(val)) {\n                    valueAccessor()(val);\n                }\n            });\n            valueAccessor().subscribe(function(value) {\n                var str = JSON.stringify(value);\n                if ((str == \"0\") && ([\"-0\", \"-0.\"].indexOf(stringified()) >= 0))\n                     return;\n                 if ([\"null\", \"\"].indexOf(str) >= 0)\n                     return;\n                stringified(str);\n            });\n            ko.applyBindingsToNode(\n                element,\n                {\n                    value: stringified,\n                    valueUpdate: allBindings.get('valueUpdate'),\n                },\n                context,\n            );\n        }\n    };\n    var json_data = {\"loading\":WebIO.getval({\"name\":\"loading\",\"scope\":\"1075518869715648403\",\"id\":\"1435885916818662834\",\"type\":\"observable\"}),\"clicks\":WebIO.getval({\"name\":\"clicks\",\"scope\":\"1075518869715648403\",\"id\":\"17938574533824161466\",\"type\":\"observable\"})};\n    var self = this;\n    function AppViewModel() {\n        for (var key in json_data) {\n            var el = json_data[key];\n            this[key] = Array.isArray(el) ? ko.observableArray(el) : ko.observable(el);\n        }\n        \n        \n        [this[\"loading\"].subscribe((function (val){!(this.valueFromJulia[\"loading\"]) ? (WebIO.setval({\"name\":\"loading\",\"scope\":\"1075518869715648403\",\"id\":\"1435885916818662834\",\"type\":\"observable\"},val)) : undefined; return this.valueFromJulia[\"loading\"]=false}),self),this[\"clicks\"].subscribe((function (val){!(this.valueFromJulia[\"clicks\"]) ? (WebIO.setval({\"name\":\"clicks\",\"scope\":\"1075518869715648403\",\"id\":\"17938574533824161466\",\"type\":\"observable\"},val)) : undefined; return this.valueFromJulia[\"clicks\"]=false}),self)]\n        \n    }\n    self.model = new AppViewModel();\n    self.valueFromJulia = {};\n    for (var key in json_data) {\n        self.valueFromJulia[key] = false;\n    }\n    ko.applyBindings(self.model, self.dom);\n}\n);\n    (WebIO.importBlock({\"data\":[{\"name\":\"knockout\",\"type\":\"js\",\"url\":\"/assetserver/727383f2a47bd31570b7da84eee7b022dd6d7c78-knockout.js\"},{\"name\":\"knockout_punches\",\"type\":\"js\",\"url\":\"/assetserver/382b41b3b1bd9f26f75861d360bad7f8beea211f-knockout_punches.js\"}],\"type\":\"async_block\"})).then((imports) => handler.apply(this, imports));\n}\n"
                  ],
                  "observables": {
                   "clicks": {
                    "id": "17938574533824161466",
                    "sync": true,
                    "value": 0
                   },
                   "loading": {
                    "id": "1435885916818662834",
                    "sync": false,
                    "value": false
                   }
                  },
                  "systemjs_options": null
                 },
                 "nodeType": "Scope",
                 "props": {},
                 "type": "node"
                }
               ],
               "instanceArgs": {
                "namespace": "html",
                "tag": "div"
               },
               "nodeType": "DOM",
               "props": {
                "className": "field interact-widget"
               },
               "type": "node"
              },
              {
               "children": [
                {
                 "children": [
                  {
                   "children": [],
                   "instanceArgs": {
                    "namespace": "html",
                    "tag": "div"
                   },
                   "nodeType": "DOM",
                   "props": {
                    "id": "container"
                   },
                   "type": "node"
                  }
                 ],
                 "instanceArgs": {
                  "handlers": {
                   "value": [
                    "(function (txt){return this.k.render(txt,this.container)})"
                   ]
                  },
                  "id": "10917190035075576321",
                  "imports": {
                   "data": [
                    {
                     "name": null,
                     "type": "js",
                     "url": "/assetserver/dd22ed1bf1896c2748f3fe616ce0b838adc895c1-katex.min.js"
                    },
                    {
                     "name": null,
                     "type": "css",
                     "url": "/assetserver/46517a424aa5e6cffc1360d7e0848b601c584ee3-katex.min.css"
                    }
                   ],
                   "type": "async_block"
                  },
                  "mount_callbacks": [
                   "function () {\n    var handler = ((function (k){this.k=k; this.container=this.dom.querySelector(\"#container\"); return k.render(\"\\\\;\\\\;\",this.container)}));\n    (WebIO.importBlock({\"data\":[{\"name\":null,\"type\":\"js\",\"url\":\"/assetserver/dd22ed1bf1896c2748f3fe616ce0b838adc895c1-katex.min.js\"},{\"name\":null,\"type\":\"css\",\"url\":\"/assetserver/46517a424aa5e6cffc1360d7e0848b601c584ee3-katex.min.css\"}],\"type\":\"async_block\"})).then((imports) => handler.apply(this, imports));\n}\n"
                  ],
                  "observables": {
                   "value": {
                    "id": "1313039778173910511",
                    "sync": false,
                    "value": "\\;\\;"
                   }
                  },
                  "systemjs_options": null
                 },
                 "nodeType": "Scope",
                 "props": {},
                 "type": "node"
                }
               ],
               "instanceArgs": {
                "namespace": "html",
                "tag": "div"
               },
               "nodeType": "DOM",
               "props": {
                "className": "interact-widget"
               },
               "type": "node"
              },
              {
               "children": [
                {
                 "children": [
                  {
                   "children": [
                    "save"
                   ],
                   "instanceArgs": {
                    "namespace": "html",
                    "tag": "button"
                   },
                   "nodeType": "DOM",
                   "props": {
                    "attributes": {
                     "data-bind": "click: function (){this.clicks(this.clicks()+1)}, css: {'is-loading' : loading}"
                    },
                    "className": "is-medium button is-primary",
                    "style": {}
                   },
                   "type": "node"
                  }
                 ],
                 "instanceArgs": {
                  "handlers": {
                   "clicks": [
                    "(function (val){return (val!=this.model[\"clicks\"]()) ? (this.valueFromJulia[\"clicks\"]=true, this.model[\"clicks\"](val)) : undefined})"
                   ],
                   "loading": [
                    "(function (val){return (val!=this.model[\"loading\"]()) ? (this.valueFromJulia[\"loading\"]=true, this.model[\"loading\"](val)) : undefined})"
                   ]
                  },
                  "id": "10754000459103911353",
                  "imports": {
                   "data": [
                    {
                     "name": "knockout",
                     "type": "js",
                     "url": "/assetserver/727383f2a47bd31570b7da84eee7b022dd6d7c78-knockout.js"
                    },
                    {
                     "name": "knockout_punches",
                     "type": "js",
                     "url": "/assetserver/382b41b3b1bd9f26f75861d360bad7f8beea211f-knockout_punches.js"
                    },
                    {
                     "name": null,
                     "type": "js",
                     "url": "/assetserver/5ab20f1060420992a9b82a65b735dee4d81ef413-all.js"
                    },
                    {
                     "name": null,
                     "type": "css",
                     "url": "/assetserver/1cc0ed62837210b80a182cc3676512f895dab686-style.css"
                    },
                    {
                     "name": null,
                     "type": "css",
                     "url": "/assetserver/2eee816f616df3549d7044d45e744fbf8d42bfa1-bulma_confined.min.css"
                    }
                   ],
                   "type": "async_block"
                  },
                  "mount_callbacks": [
                   "function () {\n    var handler = (function (ko, koPunches) {\n    ko.punches.enableAll();\n    ko.bindingHandlers.numericValue = {\n        init: function(element, valueAccessor, allBindings, data, context) {\n            var stringified = ko.observable(ko.unwrap(valueAccessor()));\n            stringified.subscribe(function(value) {\n                var val = parseFloat(value);\n                if (!isNaN(val)) {\n                    valueAccessor()(val);\n                }\n            });\n            valueAccessor().subscribe(function(value) {\n                var str = JSON.stringify(value);\n                if ((str == \"0\") && ([\"-0\", \"-0.\"].indexOf(stringified()) >= 0))\n                     return;\n                 if ([\"null\", \"\"].indexOf(str) >= 0)\n                     return;\n                stringified(str);\n            });\n            ko.applyBindingsToNode(\n                element,\n                {\n                    value: stringified,\n                    valueUpdate: allBindings.get('valueUpdate'),\n                },\n                context,\n            );\n        }\n    };\n    var json_data = {\"loading\":WebIO.getval({\"name\":\"loading\",\"scope\":\"10754000459103911353\",\"id\":\"7293535473736320510\",\"type\":\"observable\"}),\"clicks\":WebIO.getval({\"name\":\"clicks\",\"scope\":\"10754000459103911353\",\"id\":\"17545617876114614367\",\"type\":\"observable\"})};\n    var self = this;\n    function AppViewModel() {\n        for (var key in json_data) {\n            var el = json_data[key];\n            this[key] = Array.isArray(el) ? ko.observableArray(el) : ko.observable(el);\n        }\n        \n        \n        [this[\"loading\"].subscribe((function (val){!(this.valueFromJulia[\"loading\"]) ? (WebIO.setval({\"name\":\"loading\",\"scope\":\"10754000459103911353\",\"id\":\"7293535473736320510\",\"type\":\"observable\"},val)) : undefined; return this.valueFromJulia[\"loading\"]=false}),self),this[\"clicks\"].subscribe((function (val){!(this.valueFromJulia[\"clicks\"]) ? (WebIO.setval({\"name\":\"clicks\",\"scope\":\"10754000459103911353\",\"id\":\"17545617876114614367\",\"type\":\"observable\"},val)) : undefined; return this.valueFromJulia[\"clicks\"]=false}),self)]\n        \n    }\n    self.model = new AppViewModel();\n    self.valueFromJulia = {};\n    for (var key in json_data) {\n        self.valueFromJulia[key] = false;\n    }\n    ko.applyBindings(self.model, self.dom);\n}\n);\n    (WebIO.importBlock({\"data\":[{\"name\":\"knockout\",\"type\":\"js\",\"url\":\"/assetserver/727383f2a47bd31570b7da84eee7b022dd6d7c78-knockout.js\"},{\"name\":\"knockout_punches\",\"type\":\"js\",\"url\":\"/assetserver/382b41b3b1bd9f26f75861d360bad7f8beea211f-knockout_punches.js\"}],\"type\":\"async_block\"})).then((imports) => handler.apply(this, imports));\n}\n"
                  ],
                  "observables": {
                   "clicks": {
                    "id": "17545617876114614367",
                    "sync": true,
                    "value": 0
                   },
                   "loading": {
                    "id": "7293535473736320510",
                    "sync": false,
                    "value": false
                   }
                  },
                  "systemjs_options": null
                 },
                 "nodeType": "Scope",
                 "props": {},
                 "type": "node"
                }
               ],
               "instanceArgs": {
                "namespace": "html",
                "tag": "div"
               },
               "nodeType": "DOM",
               "props": {
                "className": "field interact-widget"
               },
               "type": "node"
              }
             ],
             "instanceArgs": {
              "namespace": "html",
              "tag": "div"
             },
             "nodeType": "DOM",
             "props": {
              "style": {
               "display": "flex",
               "flex-direction": "row"
              }
             },
             "type": "node"
            }
           ],
           "instanceArgs": {
            "namespace": "html",
            "tag": "div"
           },
           "nodeType": "DOM",
           "props": {
            "style": {
             "display": "flex",
             "flex-direction": "column"
            }
           },
           "type": "node"
          },
          {
           "children": [
            {
             "children": [
              {
               "children": [],
               "instanceArgs": {
                "namespace": "html",
                "tag": "div"
               },
               "nodeType": "DOM",
               "props": {
                "id": "container"
               },
               "type": "node"
              }
             ],
             "instanceArgs": {
              "handlers": {
               "value": [
                "(function (txt){return this.k.render(txt,this.container)})"
               ]
              },
              "id": "10917190035075576321",
              "imports": {
               "data": [
                {
                 "name": null,
                 "type": "js",
                 "url": "/assetserver/dd22ed1bf1896c2748f3fe616ce0b838adc895c1-katex.min.js"
                },
                {
                 "name": null,
                 "type": "css",
                 "url": "/assetserver/46517a424aa5e6cffc1360d7e0848b601c584ee3-katex.min.css"
                }
               ],
               "type": "async_block"
              },
              "mount_callbacks": [
               "function () {\n    var handler = ((function (k){this.k=k; this.container=this.dom.querySelector(\"#container\"); return k.render(\"\\\\;\\\\;\",this.container)}));\n    (WebIO.importBlock({\"data\":[{\"name\":null,\"type\":\"js\",\"url\":\"/assetserver/dd22ed1bf1896c2748f3fe616ce0b838adc895c1-katex.min.js\"},{\"name\":null,\"type\":\"css\",\"url\":\"/assetserver/46517a424aa5e6cffc1360d7e0848b601c584ee3-katex.min.css\"}],\"type\":\"async_block\"})).then((imports) => handler.apply(this, imports));\n}\n"
              ],
              "observables": {
               "value": {
                "id": "1313039778173910511",
                "sync": false,
                "value": "\\;\\;"
               }
              },
              "systemjs_options": null
             },
             "nodeType": "Scope",
             "props": {},
             "type": "node"
            }
           ],
           "instanceArgs": {
            "namespace": "html",
            "tag": "div"
           },
           "nodeType": "DOM",
           "props": {
            "className": "interact-widget"
           },
           "type": "node"
          },
          {
           "children": [
            {
             "children": [],
             "instanceArgs": {
              "namespace": "html",
              "tag": "div"
             },
             "nodeType": "DOM",
             "props": {
              "className": "webio-observable",
              "setInnerHtml": "<img src='data:image/png;base64,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'></img>"
             },
             "type": "node"
            }
           ],
           "instanceArgs": {
            "handlers": {
             "obs-output": [
              "function (value, scope) {\n    scope.setInnerHTML(value);\n}\n"
             ]
            },
            "id": "1773283343546470904",
            "imports": {
             "data": [],
             "type": "async_block"
            },
            "mount_callbacks": [],
            "observables": {
             "obs-output": {
              "id": "9083400070508943619",
              "sync": false,
              "value": "<img src='data:image/png;base64,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'></img>"
             }
            },
            "systemjs_options": null
           },
           "nodeType": "Scope",
           "props": {},
           "type": "node"
          },
          {
           "children": [
            {
             "children": [
              {
               "children": [],
               "instanceArgs": {
                "namespace": "html",
                "tag": "div"
               },
               "nodeType": "DOM",
               "props": {
                "id": "container"
               },
               "type": "node"
              }
             ],
             "instanceArgs": {
              "handlers": {
               "value": [
                "(function (txt){return this.k.render(txt,this.container)})"
               ]
              },
              "id": "10917190035075576321",
              "imports": {
               "data": [
                {
                 "name": null,
                 "type": "js",
                 "url": "/assetserver/dd22ed1bf1896c2748f3fe616ce0b838adc895c1-katex.min.js"
                },
                {
                 "name": null,
                 "type": "css",
                 "url": "/assetserver/46517a424aa5e6cffc1360d7e0848b601c584ee3-katex.min.css"
                }
               ],
               "type": "async_block"
              },
              "mount_callbacks": [
               "function () {\n    var handler = ((function (k){this.k=k; this.container=this.dom.querySelector(\"#container\"); return k.render(\"\\\\;\\\\;\",this.container)}));\n    (WebIO.importBlock({\"data\":[{\"name\":null,\"type\":\"js\",\"url\":\"/assetserver/dd22ed1bf1896c2748f3fe616ce0b838adc895c1-katex.min.js\"},{\"name\":null,\"type\":\"css\",\"url\":\"/assetserver/46517a424aa5e6cffc1360d7e0848b601c584ee3-katex.min.css\"}],\"type\":\"async_block\"})).then((imports) => handler.apply(this, imports));\n}\n"
              ],
              "observables": {
               "value": {
                "id": "1313039778173910511",
                "sync": false,
                "value": "\\;\\;"
               }
              },
              "systemjs_options": null
             },
             "nodeType": "Scope",
             "props": {},
             "type": "node"
            }
           ],
           "instanceArgs": {
            "namespace": "html",
            "tag": "div"
           },
           "nodeType": "DOM",
           "props": {
            "className": "interact-widget"
           },
           "type": "node"
          },
          {
           "children": [],
           "instanceArgs": {
            "namespace": "html",
            "tag": "div"
           },
           "nodeType": "DOM",
           "props": {
            "style": {
             "display": "flex",
             "flex-direction": "column"
            }
           },
           "type": "node"
          }
         ],
         "instanceArgs": {
          "namespace": "html",
          "tag": "div"
         },
         "nodeType": "DOM",
         "props": {
          "style": {
           "display": "flex",
           "flex-direction": "row"
          }
         },
         "type": "node"
        }
       ],
       "instanceArgs": {
        "namespace": "html",
        "tag": "div"
       },
       "nodeType": "DOM",
       "props": {
        "style": {
         "display": "flex",
         "flex-direction": "column"
        }
       },
       "type": "node"
      },
      "text/html": [
       "<div\n",
       "    class=\"webio-mountpoint\"\n",
       "    data-webio-mountpoint=\"16730286703701245973\"\n",
       ">\n",
       "    <script>\n",
       "    (function(){\n",
       "    // Some integrations (namely, IJulia/Jupyter) use an alternate render pathway than\n",
       "    // just putting the html on the page. If WebIO isn't defined, then it's pretty likely\n",
       "    // that we're in one of those situations and the integration just isn't installed\n",
       "    // correctly.\n",
       "    if (typeof window.WebIO === \"undefined\") {\n",
       "        document\n",
       "            .querySelector('[data-webio-mountpoint=\"16730286703701245973\"]')\n",
       "            .innerHTML = (\n",
       "                '<div style=\"padding: 1em; background-color: #f8d6da; border: 1px solid #f5c6cb; font-weight: bold;\">' +\n",
       "                '<p><strong>WebIO not detected.</strong></p>' +\n",
       "                '<p>Please read ' +\n",
       "                '<a href=\"https://juliagizmos.github.io/WebIO.jl/latest/troubleshooting/not-detected/\" target=\"_blank\">the troubleshooting guide</a> ' +\n",
       "                'for more information on how to resolve this issue.</p>' +\n",
       "                '<p><a href=\"https://juliagizmos.github.io/WebIO.jl/latest/troubleshooting/not-detected/\" target=\"_blank\">https://juliagizmos.github.io/WebIO.jl/latest/troubleshooting/not-detected/</a></p>' +\n",
       "                '</div>'\n",
       "            );\n",
       "        return;\n",
       "    }\n",
       "    WebIO.mount(\n",
       "        document.querySelector('[data-webio-mountpoint=\"16730286703701245973\"]'),\n",
       "        {\"props\":{\"style\":{\"display\":\"flex\",\"flex-direction\":\"column\"}},\"nodeType\":\"DOM\",\"type\":\"node\",\"instanceArgs\":{\"namespace\":\"html\",\"tag\":\"div\"},\"children\":[{\"props\":{\"style\":{\"display\":\"flex\",\"flex-direction\":\"row\"}},\"nodeType\":\"DOM\",\"type\":\"node\",\"instanceArgs\":{\"namespace\":\"html\",\"tag\":\"div\"},\"children\":[{\"props\":{\"style\":{\"display\":\"flex\",\"flex-direction\":\"column\"}},\"nodeType\":\"DOM\",\"type\":\"node\",\"instanceArgs\":{\"namespace\":\"html\",\"tag\":\"div\"},\"children\":[{\"props\":{\"className\":\"field interact-widget\"},\"nodeType\":\"DOM\",\"type\":\"node\",\"instanceArgs\":{\"namespace\":\"html\",\"tag\":\"div\"},\"children\":[{\"props\":{},\"nodeType\":\"Scope\",\"type\":\"node\",\"instanceArgs\":{\"imports\":{\"data\":[{\"name\":\"knockout\",\"type\":\"js\",\"url\":\"\\/assetserver\\/727383f2a47bd31570b7da84eee7b022dd6d7c78-knockout.js\"},{\"name\":\"knockout_punches\",\"type\":\"js\",\"url\":\"\\/assetserver\\/382b41b3b1bd9f26f75861d360bad7f8beea211f-knockout_punches.js\"},{\"name\":null,\"type\":\"js\",\"url\":\"\\/assetserver\\/5ab20f1060420992a9b82a65b735dee4d81ef413-all.js\"},{\"name\":null,\"type\":\"css\",\"url\":\"\\/assetserver\\/1cc0ed62837210b80a182cc3676512f895dab686-style.css\"},{\"name\":null,\"type\":\"css\",\"url\":\"\\/assetserver\\/2eee816f616df3549d7044d45e744fbf8d42bfa1-bulma_confined.min.css\"}],\"type\":\"async_block\"},\"id\":\"6657685335043018792\",\"handlers\":{\"changes\":[\"(function (val){return (val!=this.model[\\\"changes\\\"]()) ? (this.valueFromJulia[\\\"changes\\\"]=true, this.model[\\\"changes\\\"](val)) : undefined})\"],\"index\":[\"(function (val){return (val!=this.model[\\\"index\\\"]()) ? (this.valueFromJulia[\\\"index\\\"]=true, this.model[\\\"index\\\"](val)) : undefined})\"]},\"systemjs_options\":null,\"mount_callbacks\":[\"function () {\\n    var handler = (function (ko, koPunches) {\\n    ko.punches.enableAll();\\n    ko.bindingHandlers.numericValue = {\\n        init: function(element, valueAccessor, allBindings, data, context) {\\n            var stringified = ko.observable(ko.unwrap(valueAccessor()));\\n            stringified.subscribe(function(value) {\\n                var val = parseFloat(value);\\n                if (!isNaN(val)) {\\n                    valueAccessor()(val);\\n                }\\n            });\\n            valueAccessor().subscribe(function(value) {\\n                var str = JSON.stringify(value);\\n                if ((str == \\\"0\\\") && ([\\\"-0\\\", \\\"-0.\\\"].indexOf(stringified()) >= 0))\\n                     return;\\n                 if ([\\\"null\\\", \\\"\\\"].indexOf(str) >= 0)\\n                     return;\\n                stringified(str);\\n            });\\n            ko.applyBindingsToNode(\\n                element,\\n                {\\n                    value: stringified,\\n                    valueUpdate: allBindings.get('valueUpdate'),\\n                },\\n                context,\\n            );\\n        }\\n    };\\n    var json_data = {\\\"formatted_vals\\\":[\\\"1\\\",\\\"2\\\",\\\"3\\\",\\\"4\\\",\\\"5\\\",\\\"6\\\",\\\"7\\\",\\\"8\\\",\\\"9\\\",\\\"10\\\",\\\"11\\\",\\\"12\\\",\\\"13\\\",\\\"14\\\",\\\"15\\\",\\\"16\\\",\\\"17\\\",\\\"18\\\",\\\"19\\\",\\\"20\\\",\\\"21\\\",\\\"22\\\",\\\"23\\\",\\\"24\\\",\\\"25\\\",\\\"26\\\",\\\"27\\\",\\\"28\\\",\\\"29\\\",\\\"30\\\",\\\"31\\\",\\\"32\\\",\\\"33\\\",\\\"34\\\",\\\"35\\\",\\\"36\\\",\\\"37\\\",\\\"38\\\",\\\"39\\\",\\\"40\\\",\\\"41\\\",\\\"42\\\",\\\"43\\\",\\\"44\\\",\\\"45\\\",\\\"46\\\",\\\"47\\\",\\\"48\\\",\\\"49\\\",\\\"50\\\",\\\"51\\\",\\\"52\\\",\\\"53\\\",\\\"54\\\",\\\"55\\\",\\\"56\\\",\\\"57\\\",\\\"58\\\",\\\"59\\\",\\\"60\\\",\\\"61\\\",\\\"62\\\",\\\"63\\\",\\\"64\\\",\\\"65\\\",\\\"66\\\",\\\"67\\\",\\\"68\\\",\\\"69\\\",\\\"70\\\",\\\"71\\\",\\\"72\\\",\\\"73\\\",\\\"74\\\",\\\"75\\\",\\\"76\\\",\\\"77\\\",\\\"78\\\",\\\"79\\\",\\\"80\\\",\\\"81\\\",\\\"82\\\",\\\"83\\\",\\\"84\\\",\\\"85\\\",\\\"86\\\",\\\"87\\\",\\\"88\\\",\\\"89\\\",\\\"90\\\",\\\"91\\\",\\\"92\\\",\\\"93\\\",\\\"94\\\",\\\"95\\\",\\\"96\\\",\\\"97\\\",\\\"98\\\",\\\"99\\\",\\\"100\\\",\\\"101\\\",\\\"102\\\",\\\"103\\\",\\\"104\\\",\\\"105\\\",\\\"106\\\",\\\"107\\\",\\\"108\\\",\\\"109\\\",\\\"110\\\",\\\"111\\\",\\\"112\\\",\\\"113\\\",\\\"114\\\",\\\"115\\\",\\\"116\\\",\\\"117\\\",\\\"118\\\",\\\"119\\\",\\\"120\\\",\\\"121\\\",\\\"122\\\",\\\"123\\\",\\\"124\\\",\\\"125\\\",\\\"126\\\",\\\"127\\\",\\\"128\\\",\\\"129\\\",\\\"130\\\",\\\"131\\\",\\\"132\\\",\\\"133\\\",\\\"134\\\",\\\"135\\\",\\\"136\\\",\\\"137\\\",\\\"138\\\",\\\"139\\\",\\\"140\\\",\\\"141\\\",\\\"142\\\",\\\"143\\\",\\\"144\\\",\\\"145\\\",\\\"146\\\",\\\"147\\\",\\\"148\\\",\\\"149\\\",\\\"150\\\",\\\"151\\\",\\\"152\\\",\\\"153\\\",\\\"154\\\",\\\"155\\\",\\\"156\\\",\\\"157\\\",\\\"158\\\",\\\"159\\\",\\\"160\\\",\\\"161\\\",\\\"162\\\",\\\"163\\\",\\\"164\\\",\\\"165\\\",\\\"166\\\",\\\"167\\\",\\\"168\\\",\\\"169\\\",\\\"170\\\",\\\"171\\\",\\\"172\\\",\\\"173\\\",\\\"174\\\",\\\"175\\\",\\\"176\\\",\\\"177\\\",\\\"178\\\",\\\"179\\\",\\\"180\\\",\\\"181\\\",\\\"182\\\",\\\"183\\\",\\\"184\\\",\\\"185\\\",\\\"186\\\",\\\"187\\\",\\\"188\\\",\\\"189\\\",\\\"190\\\",\\\"191\\\",\\\"192\\\",\\\"193\\\",\\\"194\\\",\\\"195\\\",\\\"196\\\",\\\"197\\\",\\\"198\\\",\\\"199\\\",\\\"200\\\",\\\"201\\\",\\\"202\\\",\\\"203\\\",\\\"204\\\",\\\"205\\\",\\\"206\\\",\\\"207\\\",\\\"208\\\",\\\"209\\\",\\\"210\\\",\\\"211\\\",\\\"212\\\",\\\"213\\\",\\\"214\\\",\\\"215\\\",\\\"216\\\",\\\"217\\\",\\\"218\\\",\\\"219\\\",\\\"220\\\",\\\"221\\\",\\\"222\\\",\\\"223\\\",\\\"224\\\",\\\"225\\\",\\\"226\\\",\\\"227\\\",\\\"228\\\",\\\"229\\\",\\\"230\\\",\\\"231\\\",\\\"232\\\",\\\"233\\\",\\\"234\\\",\\\"235\\\",\\\"236\\\",\\\"237\\\",\\\"238\\\",\\\"239\\\",\\\"240\\\",\\\"241\\\",\\\"242\\\",\\\"243\\\",\\\"244\\\",\\\"245\\\",\\\"246\\\",\\\"247\\\",\\\"248\\\",\\\"249\\\",\\\"250\\\",\\\"251\\\",\\\"252\\\",\\\"253\\\",\\\"254\\\",\\\"255\\\",\\\"256\\\",\\\"257\\\",\\\"258\\\",\\\"259\\\",\\\"260\\\",\\\"261\\\",\\\"262\\\",\\\"263\\\",\\\"264\\\",\\\"265\\\",\\\"266\\\",\\\"267\\\",\\\"268\\\",\\\"269\\\",\\\"270\\\",\\\"271\\\",\\\"272\\\",\\\"273\\\",\\\"274\\\",\\\"275\\\",\\\"276\\\",\\\"277\\\",\\\"278\\\",\\\"279\\\",\\\"280\\\",\\\"281\\\",\\\"282\\\",\\\"283\\\",\\\"284\\\",\\\"285\\\",\\\"286\\\",\\\"287\\\",\\\"288\\\",\\\"289\\\",\\\"290\\\",\\\"291\\\",\\\"292\\\",\\\"293\\\",\\\"294\\\",\\\"295\\\",\\\"296\\\",\\\"297\\\",\\\"298\\\",\\\"299\\\",\\\"300\\\",\\\"301\\\",\\\"302\\\",\\\"303\\\",\\\"304\\\",\\\"305\\\",\\\"306\\\",\\\"307\\\",\\\"308\\\",\\\"309\\\",\\\"310\\\",\\\"311\\\",\\\"312\\\",\\\"313\\\",\\\"314\\\",\\\"315\\\",\\\"316\\\",\\\"317\\\",\\\"318\\\",\\\"319\\\",\\\"320\\\",\\\"321\\\",\\\"322\\\",\\\"323\\\",\\\"324\\\",\\\"325\\\",\\\"326\\\",\\\"327\\\",\\\"328\\\",\\\"329\\\",\\\"330\\\",\\\"331\\\",\\\"332\\\",\\\"333\\\",\\\"334\\\",\\\"335\\\",\\\"336\\\",\\\"337\\\",\\\"338\\\",\\\"339\\\",\\\"340\\\",\\\"341\\\",\\\"342\\\",\\\"343\\\",\\\"344\\\",\\\"345\\\",\\\"346\\\",\\\"347\\\",\\\"348\\\",\\\"349\\\",\\\"350\\\",\\\"351\\\",\\\"352\\\",\\\"353\\\",\\\"354\\\",\\\"355\\\",\\\"356\\\",\\\"357\\\",\\\"358\\\",\\\"359\\\",\\\"360\\\",\\\"361\\\",\\\"362\\\",\\\"363\\\",\\\"364\\\",\\\"365\\\",\\\"366\\\",\\\"367\\\",\\\"368\\\",\\\"369\\\",\\\"370\\\",\\\"371\\\",\\\"372\\\",\\\"373\\\",\\\"374\\\",\\\"375\\\",\\\"376\\\",\\\"377\\\",\\\"378\\\",\\\"379\\\",\\\"380\\\",\\\"381\\\",\\\"382\\\",\\\"383\\\",\\\"384\\\",\\\"385\\\",\\\"386\\\",\\\"387\\\",\\\"388\\\",\\\"389\\\",\\\"390\\\",\\\"391\\\",\\\"392\\\",\\\"393\\\",\\\"394\\\",\\\"395\\\",\\\"396\\\",\\\"397\\\",\\\"398\\\",\\\"399\\\",\\\"400\\\",\\\"401\\\",\\\"402\\\",\\\"403\\\",\\\"404\\\",\\\"405\\\",\\\"406\\\",\\\"407\\\",\\\"408\\\",\\\"409\\\",\\\"410\\\",\\\"411\\\",\\\"412\\\",\\\"413\\\",\\\"414\\\",\\\"415\\\",\\\"416\\\",\\\"417\\\",\\\"418\\\",\\\"419\\\",\\\"420\\\",\\\"421\\\",\\\"422\\\",\\\"423\\\",\\\"424\\\",\\\"425\\\",\\\"426\\\",\\\"427\\\",\\\"428\\\",\\\"429\\\",\\\"430\\\",\\\"431\\\",\\\"432\\\",\\\"433\\\",\\\"434\\\",\\\"435\\\",\\\"436\\\",\\\"437\\\",\\\"438\\\",\\\"439\\\",\\\"440\\\",\\\"441\\\",\\\"442\\\",\\\"443\\\",\\\"444\\\",\\\"445\\\",\\\"446\\\",\\\"447\\\",\\\"448\\\",\\\"449\\\",\\\"450\\\",\\\"451\\\",\\\"452\\\",\\\"453\\\",\\\"454\\\",\\\"455\\\",\\\"456\\\",\\\"457\\\",\\\"458\\\",\\\"459\\\",\\\"460\\\",\\\"461\\\",\\\"462\\\",\\\"463\\\",\\\"464\\\",\\\"465\\\",\\\"466\\\",\\\"467\\\",\\\"468\\\",\\\"469\\\",\\\"470\\\",\\\"471\\\",\\\"472\\\",\\\"473\\\",\\\"474\\\",\\\"475\\\",\\\"476\\\",\\\"477\\\",\\\"478\\\",\\\"479\\\",\\\"480\\\",\\\"481\\\",\\\"482\\\",\\\"483\\\",\\\"484\\\",\\\"485\\\",\\\"486\\\",\\\"487\\\",\\\"488\\\",\\\"489\\\",\\\"490\\\",\\\"491\\\",\\\"492\\\",\\\"493\\\",\\\"494\\\",\\\"495\\\",\\\"496\\\",\\\"497\\\",\\\"498\\\",\\\"499\\\",\\\"500\\\",\\\"501\\\"],\\\"changes\\\":WebIO.getval({\\\"name\\\":\\\"changes\\\",\\\"scope\\\":\\\"6657685335043018792\\\",\\\"id\\\":\\\"15883111587828248853\\\",\\\"type\\\":\\\"observable\\\"}),\\\"index\\\":WebIO.getval({\\\"name\\\":\\\"index\\\",\\\"scope\\\":\\\"6657685335043018792\\\",\\\"id\\\":\\\"5145825009345735269\\\",\\\"type\\\":\\\"observable\\\"})};\\n    var self = this;\\n    function AppViewModel() {\\n        for (var key in json_data) {\\n            var el = json_data[key];\\n            this[key] = Array.isArray(el) ? ko.observableArray(el) : ko.observable(el);\\n        }\\n        \\n        [this[\\\"formatted_val\\\"]=ko.computed(    function(){\\n        return this.formatted_vals()[parseInt(this.index())-(1)];\\n    }\\n,this)]\\n        [this[\\\"changes\\\"].subscribe((function (val){!(this.valueFromJulia[\\\"changes\\\"]) ? (WebIO.setval({\\\"name\\\":\\\"changes\\\",\\\"scope\\\":\\\"6657685335043018792\\\",\\\"id\\\":\\\"15883111587828248853\\\",\\\"type\\\":\\\"observable\\\"},val)) : undefined; return this.valueFromJulia[\\\"changes\\\"]=false}),self),this[\\\"index\\\"].subscribe((function (val){!(this.valueFromJulia[\\\"index\\\"]) ? (WebIO.setval({\\\"name\\\":\\\"index\\\",\\\"scope\\\":\\\"6657685335043018792\\\",\\\"id\\\":\\\"5145825009345735269\\\",\\\"type\\\":\\\"observable\\\"},val)) : undefined; return this.valueFromJulia[\\\"index\\\"]=false}),self)]\\n        \\n    }\\n    self.model = new AppViewModel();\\n    self.valueFromJulia = {};\\n    for (var key in json_data) {\\n        self.valueFromJulia[key] = false;\\n    }\\n    ko.applyBindings(self.model, self.dom);\\n}\\n);\\n    (WebIO.importBlock({\\\"data\\\":[{\\\"name\\\":\\\"knockout\\\",\\\"type\\\":\\\"js\\\",\\\"url\\\":\\\"\\/assetserver\\/727383f2a47bd31570b7da84eee7b022dd6d7c78-knockout.js\\\"},{\\\"name\\\":\\\"knockout_punches\\\",\\\"type\\\":\\\"js\\\",\\\"url\\\":\\\"\\/assetserver\\/382b41b3b1bd9f26f75861d360bad7f8beea211f-knockout_punches.js\\\"}],\\\"type\\\":\\\"async_block\\\"})).then((imports) => handler.apply(this, imports));\\n}\\n\"],\"observables\":{\"changes\":{\"sync\":false,\"id\":\"15883111587828248853\",\"value\":0},\"index\":{\"sync\":true,\"id\":\"5145825009345735269\",\"value\":251}}},\"children\":[{\"props\":{\"className\":\"interact-flex-row interact-widget\"},\"nodeType\":\"DOM\",\"type\":\"node\",\"instanceArgs\":{\"namespace\":\"html\",\"tag\":\"div\"},\"children\":[{\"props\":{\"className\":\"interact-flex-row-left\"},\"nodeType\":\"DOM\",\"type\":\"node\",\"instanceArgs\":{\"namespace\":\"html\",\"tag\":\"div\"},\"children\":[{\"props\":{\"className\":\"interact \",\"style\":{\"padding\":\"5px 10px 0px 10px\"}},\"nodeType\":\"DOM\",\"type\":\"node\",\"instanceArgs\":{\"namespace\":\"html\",\"tag\":\"label\"},\"children\":[\"time\"]}]},{\"props\":{\"className\":\"interact-flex-row-center\"},\"nodeType\":\"DOM\",\"type\":\"node\",\"instanceArgs\":{\"namespace\":\"html\",\"tag\":\"div\"},\"children\":[{\"props\":{\"max\":501,\"min\":1,\"attributes\":{\"type\":\"range\",\"data-bind\":\"numericValue: index, valueUpdate: 'input', event: {change: function (){this.changes(this.changes()+1)}}\",\"orient\":\"horizontal\"},\"step\":1,\"className\":\"slider slider is-fullwidth\",\"style\":{}},\"nodeType\":\"DOM\",\"type\":\"node\",\"instanceArgs\":{\"namespace\":\"html\",\"tag\":\"input\"},\"children\":[]}]},{\"props\":{\"className\":\"interact-flex-row-right\"},\"nodeType\":\"DOM\",\"type\":\"node\",\"instanceArgs\":{\"namespace\":\"html\",\"tag\":\"div\"},\"children\":[{\"props\":{\"attributes\":{\"data-bind\":\"text: formatted_val\"}},\"nodeType\":\"DOM\",\"type\":\"node\",\"instanceArgs\":{\"namespace\":\"html\",\"tag\":\"p\"},\"children\":[]}]}]}]}]},{\"props\":{\"className\":\"field interact-widget\"},\"nodeType\":\"DOM\",\"type\":\"node\",\"instanceArgs\":{\"namespace\":\"html\",\"tag\":\"div\"},\"children\":[{\"props\":{},\"nodeType\":\"Scope\",\"type\":\"node\",\"instanceArgs\":{\"imports\":{\"data\":[{\"name\":\"knockout\",\"type\":\"js\",\"url\":\"\\/assetserver\\/727383f2a47bd31570b7da84eee7b022dd6d7c78-knockout.js\"},{\"name\":\"knockout_punches\",\"type\":\"js\",\"url\":\"\\/assetserver\\/382b41b3b1bd9f26f75861d360bad7f8beea211f-knockout_punches.js\"},{\"name\":null,\"type\":\"js\",\"url\":\"\\/assetserver\\/5ab20f1060420992a9b82a65b735dee4d81ef413-all.js\"},{\"name\":null,\"type\":\"css\",\"url\":\"\\/assetserver\\/1cc0ed62837210b80a182cc3676512f895dab686-style.css\"},{\"name\":null,\"type\":\"css\",\"url\":\"\\/assetserver\\/2eee816f616df3549d7044d45e744fbf8d42bfa1-bulma_confined.min.css\"}],\"type\":\"async_block\"},\"id\":\"3089849287560495822\",\"handlers\":{\"changes\":[\"(function (val){return (val!=this.model[\\\"changes\\\"]()) ? (this.valueFromJulia[\\\"changes\\\"]=true, this.model[\\\"changes\\\"](val)) : undefined})\"],\"index\":[\"(function (val){return (val!=this.model[\\\"index\\\"]()) ? (this.valueFromJulia[\\\"index\\\"]=true, this.model[\\\"index\\\"](val)) : undefined})\"]},\"systemjs_options\":null,\"mount_callbacks\":[\"function () {\\n    var handler = (function (ko, koPunches) {\\n    ko.punches.enableAll();\\n    ko.bindingHandlers.numericValue = {\\n        init: function(element, valueAccessor, allBindings, data, context) {\\n            var stringified = ko.observable(ko.unwrap(valueAccessor()));\\n            stringified.subscribe(function(value) {\\n                var val = parseFloat(value);\\n                if (!isNaN(val)) {\\n                    valueAccessor()(val);\\n                }\\n            });\\n            valueAccessor().subscribe(function(value) {\\n                var str = JSON.stringify(value);\\n                if ((str == \\\"0\\\") && ([\\\"-0\\\", \\\"-0.\\\"].indexOf(stringified()) >= 0))\\n                     return;\\n                 if ([\\\"null\\\", \\\"\\\"].indexOf(str) >= 0)\\n                     return;\\n                stringified(str);\\n            });\\n            ko.applyBindingsToNode(\\n                element,\\n                {\\n                    value: stringified,\\n                    valueUpdate: allBindings.get('valueUpdate'),\\n                },\\n                context,\\n            );\\n        }\\n    };\\n    var json_data = {\\\"formatted_vals\\\":[\\\"0.1\\\",\\\"0.2\\\",\\\"0.3\\\",\\\"0.4\\\",\\\"0.5\\\",\\\"0.6\\\",\\\"0.7\\\",\\\"0.8\\\",\\\"0.9\\\",\\\"1.0\\\",\\\"1.1\\\",\\\"1.2\\\",\\\"1.3\\\",\\\"1.4\\\",\\\"1.5\\\",\\\"1.6\\\",\\\"1.7\\\",\\\"1.8\\\",\\\"1.9\\\",\\\"2.0\\\"],\\\"changes\\\":WebIO.getval({\\\"name\\\":\\\"changes\\\",\\\"scope\\\":\\\"3089849287560495822\\\",\\\"id\\\":\\\"7626509547706819144\\\",\\\"type\\\":\\\"observable\\\"}),\\\"index\\\":WebIO.getval({\\\"name\\\":\\\"index\\\",\\\"scope\\\":\\\"3089849287560495822\\\",\\\"id\\\":\\\"969551142670121201\\\",\\\"type\\\":\\\"observable\\\"})};\\n    var self = this;\\n    function AppViewModel() {\\n        for (var key in json_data) {\\n            var el = json_data[key];\\n            this[key] = Array.isArray(el) ? ko.observableArray(el) : ko.observable(el);\\n        }\\n        \\n        [this[\\\"formatted_val\\\"]=ko.computed(    function(){\\n        return this.formatted_vals()[parseInt(this.index())-(1)];\\n    }\\n,this)]\\n        [this[\\\"changes\\\"].subscribe((function (val){!(this.valueFromJulia[\\\"changes\\\"]) ? (WebIO.setval({\\\"name\\\":\\\"changes\\\",\\\"scope\\\":\\\"3089849287560495822\\\",\\\"id\\\":\\\"7626509547706819144\\\",\\\"type\\\":\\\"observable\\\"},val)) : undefined; return this.valueFromJulia[\\\"changes\\\"]=false}),self),this[\\\"index\\\"].subscribe((function (val){!(this.valueFromJulia[\\\"index\\\"]) ? (WebIO.setval({\\\"name\\\":\\\"index\\\",\\\"scope\\\":\\\"3089849287560495822\\\",\\\"id\\\":\\\"969551142670121201\\\",\\\"type\\\":\\\"observable\\\"},val)) : undefined; return this.valueFromJulia[\\\"index\\\"]=false}),self)]\\n        \\n    }\\n    self.model = new AppViewModel();\\n    self.valueFromJulia = {};\\n    for (var key in json_data) {\\n        self.valueFromJulia[key] = false;\\n    }\\n    ko.applyBindings(self.model, self.dom);\\n}\\n);\\n    (WebIO.importBlock({\\\"data\\\":[{\\\"name\\\":\\\"knockout\\\",\\\"type\\\":\\\"js\\\",\\\"url\\\":\\\"\\/assetserver\\/727383f2a47bd31570b7da84eee7b022dd6d7c78-knockout.js\\\"},{\\\"name\\\":\\\"knockout_punches\\\",\\\"type\\\":\\\"js\\\",\\\"url\\\":\\\"\\/assetserver\\/382b41b3b1bd9f26f75861d360bad7f8beea211f-knockout_punches.js\\\"}],\\\"type\\\":\\\"async_block\\\"})).then((imports) => handler.apply(this, imports));\\n}\\n\"],\"observables\":{\"changes\":{\"sync\":false,\"id\":\"7626509547706819144\",\"value\":0},\"index\":{\"sync\":true,\"id\":\"969551142670121201\",\"value\":10}}},\"children\":[{\"props\":{\"className\":\"interact-flex-row interact-widget\"},\"nodeType\":\"DOM\",\"type\":\"node\",\"instanceArgs\":{\"namespace\":\"html\",\"tag\":\"div\"},\"children\":[{\"props\":{\"className\":\"interact-flex-row-left\"},\"nodeType\":\"DOM\",\"type\":\"node\",\"instanceArgs\":{\"namespace\":\"html\",\"tag\":\"div\"},\"children\":[{\"props\":{\"className\":\"interact \",\"style\":{\"padding\":\"5px 10px 0px 10px\"}},\"nodeType\":\"DOM\",\"type\":\"node\",\"instanceArgs\":{\"namespace\":\"html\",\"tag\":\"label\"},\"children\":[\"scale\"]}]},{\"props\":{\"className\":\"interact-flex-row-center\"},\"nodeType\":\"DOM\",\"type\":\"node\",\"instanceArgs\":{\"namespace\":\"html\",\"tag\":\"div\"},\"children\":[{\"props\":{\"max\":20,\"min\":1,\"attributes\":{\"type\":\"range\",\"data-bind\":\"numericValue: index, valueUpdate: 'input', event: {change: function (){this.changes(this.changes()+1)}}\",\"orient\":\"horizontal\"},\"step\":1,\"className\":\"slider slider is-fullwidth\",\"style\":{}},\"nodeType\":\"DOM\",\"type\":\"node\",\"instanceArgs\":{\"namespace\":\"html\",\"tag\":\"input\"},\"children\":[]}]},{\"props\":{\"className\":\"interact-flex-row-right\"},\"nodeType\":\"DOM\",\"type\":\"node\",\"instanceArgs\":{\"namespace\":\"html\",\"tag\":\"div\"},\"children\":[{\"props\":{\"attributes\":{\"data-bind\":\"text: formatted_val\"}},\"nodeType\":\"DOM\",\"type\":\"node\",\"instanceArgs\":{\"namespace\":\"html\",\"tag\":\"p\"},\"children\":[]}]}]}]}]},{\"props\":{\"style\":{\"display\":\"flex\",\"flex-direction\":\"row\"}},\"nodeType\":\"DOM\",\"type\":\"node\",\"instanceArgs\":{\"namespace\":\"html\",\"tag\":\"div\"},\"children\":[{\"props\":{\"className\":\"interact-widget\"},\"nodeType\":\"DOM\",\"type\":\"node\",\"instanceArgs\":{\"namespace\":\"html\",\"tag\":\"div\"},\"children\":[{\"props\":{},\"nodeType\":\"Scope\",\"type\":\"node\",\"instanceArgs\":{\"imports\":{\"data\":[{\"name\":null,\"type\":\"js\",\"url\":\"\\/assetserver\\/dd22ed1bf1896c2748f3fe616ce0b838adc895c1-katex.min.js\"},{\"name\":null,\"type\":\"css\",\"url\":\"\\/assetserver\\/46517a424aa5e6cffc1360d7e0848b601c584ee3-katex.min.css\"}],\"type\":\"async_block\"},\"id\":\"10917190035075576321\",\"handlers\":{\"value\":[\"(function (txt){return this.k.render(txt,this.container)})\"]},\"systemjs_options\":null,\"mount_callbacks\":[\"function () {\\n    var handler = ((function (k){this.k=k; this.container=this.dom.querySelector(\\\"#container\\\"); return k.render(\\\"\\\\\\\\;\\\\\\\\;\\\",this.container)}));\\n    (WebIO.importBlock({\\\"data\\\":[{\\\"name\\\":null,\\\"type\\\":\\\"js\\\",\\\"url\\\":\\\"\\/assetserver\\/dd22ed1bf1896c2748f3fe616ce0b838adc895c1-katex.min.js\\\"},{\\\"name\\\":null,\\\"type\\\":\\\"css\\\",\\\"url\\\":\\\"\\/assetserver\\/46517a424aa5e6cffc1360d7e0848b601c584ee3-katex.min.css\\\"}],\\\"type\\\":\\\"async_block\\\"})).then((imports) => handler.apply(this, imports));\\n}\\n\"],\"observables\":{\"value\":{\"sync\":false,\"id\":\"1313039778173910511\",\"value\":\"\\\\;\\\\;\"}}},\"children\":[{\"props\":{\"id\":\"container\"},\"nodeType\":\"DOM\",\"type\":\"node\",\"instanceArgs\":{\"namespace\":\"html\",\"tag\":\"div\"},\"children\":[]}]}]},{\"props\":{\"className\":\"field interact-widget\"},\"nodeType\":\"DOM\",\"type\":\"node\",\"instanceArgs\":{\"namespace\":\"html\",\"tag\":\"div\"},\"children\":[{\"props\":{},\"nodeType\":\"Scope\",\"type\":\"node\",\"instanceArgs\":{\"imports\":{\"data\":[{\"name\":\"knockout\",\"type\":\"js\",\"url\":\"\\/assetserver\\/727383f2a47bd31570b7da84eee7b022dd6d7c78-knockout.js\"},{\"name\":\"knockout_punches\",\"type\":\"js\",\"url\":\"\\/assetserver\\/382b41b3b1bd9f26f75861d360bad7f8beea211f-knockout_punches.js\"},{\"name\":null,\"type\":\"js\",\"url\":\"\\/assetserver\\/5ab20f1060420992a9b82a65b735dee4d81ef413-all.js\"},{\"name\":null,\"type\":\"css\",\"url\":\"\\/assetserver\\/1cc0ed62837210b80a182cc3676512f895dab686-style.css\"},{\"name\":null,\"type\":\"css\",\"url\":\"\\/assetserver\\/2eee816f616df3549d7044d45e744fbf8d42bfa1-bulma_confined.min.css\"}],\"type\":\"async_block\"},\"id\":\"12492612786226233471\",\"handlers\":{\"loading\":[\"(function (val){return (val!=this.model[\\\"loading\\\"]()) ? (this.valueFromJulia[\\\"loading\\\"]=true, this.model[\\\"loading\\\"](val)) : undefined})\"],\"clicks\":[\"(function (val){return (val!=this.model[\\\"clicks\\\"]()) ? (this.valueFromJulia[\\\"clicks\\\"]=true, this.model[\\\"clicks\\\"](val)) : undefined})\"]},\"systemjs_options\":null,\"mount_callbacks\":[\"function () {\\n    var handler = (function (ko, koPunches) {\\n    ko.punches.enableAll();\\n    ko.bindingHandlers.numericValue = {\\n        init: function(element, valueAccessor, allBindings, data, context) {\\n            var stringified = ko.observable(ko.unwrap(valueAccessor()));\\n            stringified.subscribe(function(value) {\\n                var val = parseFloat(value);\\n                if (!isNaN(val)) {\\n                    valueAccessor()(val);\\n                }\\n            });\\n            valueAccessor().subscribe(function(value) {\\n                var str = JSON.stringify(value);\\n                if ((str == \\\"0\\\") && ([\\\"-0\\\", \\\"-0.\\\"].indexOf(stringified()) >= 0))\\n                     return;\\n                 if ([\\\"null\\\", \\\"\\\"].indexOf(str) >= 0)\\n                     return;\\n                stringified(str);\\n            });\\n            ko.applyBindingsToNode(\\n                element,\\n                {\\n                    value: stringified,\\n                    valueUpdate: allBindings.get('valueUpdate'),\\n                },\\n                context,\\n            );\\n        }\\n    };\\n    var json_data = {\\\"loading\\\":WebIO.getval({\\\"name\\\":\\\"loading\\\",\\\"scope\\\":\\\"12492612786226233471\\\",\\\"id\\\":\\\"4908424974342716773\\\",\\\"type\\\":\\\"observable\\\"}),\\\"clicks\\\":WebIO.getval({\\\"name\\\":\\\"clicks\\\",\\\"scope\\\":\\\"12492612786226233471\\\",\\\"id\\\":\\\"6962318678562052201\\\",\\\"type\\\":\\\"observable\\\"})};\\n    var self = this;\\n    function AppViewModel() {\\n        for (var key in json_data) {\\n            var el = json_data[key];\\n            this[key] = Array.isArray(el) ? ko.observableArray(el) : ko.observable(el);\\n        }\\n        \\n        \\n        [this[\\\"loading\\\"].subscribe((function (val){!(this.valueFromJulia[\\\"loading\\\"]) ? (WebIO.setval({\\\"name\\\":\\\"loading\\\",\\\"scope\\\":\\\"12492612786226233471\\\",\\\"id\\\":\\\"4908424974342716773\\\",\\\"type\\\":\\\"observable\\\"},val)) : undefined; return this.valueFromJulia[\\\"loading\\\"]=false}),self),this[\\\"clicks\\\"].subscribe((function (val){!(this.valueFromJulia[\\\"clicks\\\"]) ? (WebIO.setval({\\\"name\\\":\\\"clicks\\\",\\\"scope\\\":\\\"12492612786226233471\\\",\\\"id\\\":\\\"6962318678562052201\\\",\\\"type\\\":\\\"observable\\\"},val)) : undefined; return this.valueFromJulia[\\\"clicks\\\"]=false}),self)]\\n        \\n    }\\n    self.model = new AppViewModel();\\n    self.valueFromJulia = {};\\n    for (var key in json_data) {\\n        self.valueFromJulia[key] = false;\\n    }\\n    ko.applyBindings(self.model, self.dom);\\n}\\n);\\n    (WebIO.importBlock({\\\"data\\\":[{\\\"name\\\":\\\"knockout\\\",\\\"type\\\":\\\"js\\\",\\\"url\\\":\\\"\\/assetserver\\/727383f2a47bd31570b7da84eee7b022dd6d7c78-knockout.js\\\"},{\\\"name\\\":\\\"knockout_punches\\\",\\\"type\\\":\\\"js\\\",\\\"url\\\":\\\"\\/assetserver\\/382b41b3b1bd9f26f75861d360bad7f8beea211f-knockout_punches.js\\\"}],\\\"type\\\":\\\"async_block\\\"})).then((imports) => handler.apply(this, imports));\\n}\\n\"],\"observables\":{\"loading\":{\"sync\":false,\"id\":\"4908424974342716773\",\"value\":false},\"clicks\":{\"sync\":true,\"id\":\"6962318678562052201\",\"value\":0}}},\"children\":[{\"props\":{\"attributes\":{\"data-bind\":\"click: function (){this.clicks(this.clicks()+1)}, css: {'is-loading' : loading}\"},\"className\":\"is-medium button is-primary\",\"style\":{}},\"nodeType\":\"DOM\",\"type\":\"node\",\"instanceArgs\":{\"namespace\":\"html\",\"tag\":\"button\"},\"children\":[\"run\"]}]}]},{\"props\":{\"className\":\"interact-widget\"},\"nodeType\":\"DOM\",\"type\":\"node\",\"instanceArgs\":{\"namespace\":\"html\",\"tag\":\"div\"},\"children\":[{\"props\":{},\"nodeType\":\"Scope\",\"type\":\"node\",\"instanceArgs\":{\"imports\":{\"data\":[{\"name\":null,\"type\":\"js\",\"url\":\"\\/assetserver\\/dd22ed1bf1896c2748f3fe616ce0b838adc895c1-katex.min.js\"},{\"name\":null,\"type\":\"css\",\"url\":\"\\/assetserver\\/46517a424aa5e6cffc1360d7e0848b601c584ee3-katex.min.css\"}],\"type\":\"async_block\"},\"id\":\"10917190035075576321\",\"handlers\":{\"value\":[\"(function (txt){return this.k.render(txt,this.container)})\"]},\"systemjs_options\":null,\"mount_callbacks\":[\"function () {\\n    var handler = ((function (k){this.k=k; this.container=this.dom.querySelector(\\\"#container\\\"); return k.render(\\\"\\\\\\\\;\\\\\\\\;\\\",this.container)}));\\n    (WebIO.importBlock({\\\"data\\\":[{\\\"name\\\":null,\\\"type\\\":\\\"js\\\",\\\"url\\\":\\\"\\/assetserver\\/dd22ed1bf1896c2748f3fe616ce0b838adc895c1-katex.min.js\\\"},{\\\"name\\\":null,\\\"type\\\":\\\"css\\\",\\\"url\\\":\\\"\\/assetserver\\/46517a424aa5e6cffc1360d7e0848b601c584ee3-katex.min.css\\\"}],\\\"type\\\":\\\"async_block\\\"})).then((imports) => handler.apply(this, imports));\\n}\\n\"],\"observables\":{\"value\":{\"sync\":false,\"id\":\"1313039778173910511\",\"value\":\"\\\\;\\\\;\"}}},\"children\":[{\"props\":{\"id\":\"container\"},\"nodeType\":\"DOM\",\"type\":\"node\",\"instanceArgs\":{\"namespace\":\"html\",\"tag\":\"div\"},\"children\":[]}]}]},{\"props\":{\"className\":\"field interact-widget\"},\"nodeType\":\"DOM\",\"type\":\"node\",\"instanceArgs\":{\"namespace\":\"html\",\"tag\":\"div\"},\"children\":[{\"props\":{},\"nodeType\":\"Scope\",\"type\":\"node\",\"instanceArgs\":{\"imports\":{\"data\":[{\"name\":\"knockout\",\"type\":\"js\",\"url\":\"\\/assetserver\\/727383f2a47bd31570b7da84eee7b022dd6d7c78-knockout.js\"},{\"name\":\"knockout_punches\",\"type\":\"js\",\"url\":\"\\/assetserver\\/382b41b3b1bd9f26f75861d360bad7f8beea211f-knockout_punches.js\"},{\"name\":null,\"type\":\"js\",\"url\":\"\\/assetserver\\/5ab20f1060420992a9b82a65b735dee4d81ef413-all.js\"},{\"name\":null,\"type\":\"css\",\"url\":\"\\/assetserver\\/1cc0ed62837210b80a182cc3676512f895dab686-style.css\"},{\"name\":null,\"type\":\"css\",\"url\":\"\\/assetserver\\/2eee816f616df3549d7044d45e744fbf8d42bfa1-bulma_confined.min.css\"}],\"type\":\"async_block\"},\"id\":\"1075518869715648403\",\"handlers\":{\"loading\":[\"(function (val){return (val!=this.model[\\\"loading\\\"]()) ? (this.valueFromJulia[\\\"loading\\\"]=true, this.model[\\\"loading\\\"](val)) : undefined})\"],\"clicks\":[\"(function (val){return (val!=this.model[\\\"clicks\\\"]()) ? (this.valueFromJulia[\\\"clicks\\\"]=true, this.model[\\\"clicks\\\"](val)) : undefined})\"]},\"systemjs_options\":null,\"mount_callbacks\":[\"function () {\\n    var handler = (function (ko, koPunches) {\\n    ko.punches.enableAll();\\n    ko.bindingHandlers.numericValue = {\\n        init: function(element, valueAccessor, allBindings, data, context) {\\n            var stringified = ko.observable(ko.unwrap(valueAccessor()));\\n            stringified.subscribe(function(value) {\\n                var val = parseFloat(value);\\n                if (!isNaN(val)) {\\n                    valueAccessor()(val);\\n                }\\n            });\\n            valueAccessor().subscribe(function(value) {\\n                var str = JSON.stringify(value);\\n                if ((str == \\\"0\\\") && ([\\\"-0\\\", \\\"-0.\\\"].indexOf(stringified()) >= 0))\\n                     return;\\n                 if ([\\\"null\\\", \\\"\\\"].indexOf(str) >= 0)\\n                     return;\\n                stringified(str);\\n            });\\n            ko.applyBindingsToNode(\\n                element,\\n                {\\n                    value: stringified,\\n                    valueUpdate: allBindings.get('valueUpdate'),\\n                },\\n                context,\\n            );\\n        }\\n    };\\n    var json_data = {\\\"loading\\\":WebIO.getval({\\\"name\\\":\\\"loading\\\",\\\"scope\\\":\\\"1075518869715648403\\\",\\\"id\\\":\\\"1435885916818662834\\\",\\\"type\\\":\\\"observable\\\"}),\\\"clicks\\\":WebIO.getval({\\\"name\\\":\\\"clicks\\\",\\\"scope\\\":\\\"1075518869715648403\\\",\\\"id\\\":\\\"17938574533824161466\\\",\\\"type\\\":\\\"observable\\\"})};\\n    var self = this;\\n    function AppViewModel() {\\n        for (var key in json_data) {\\n            var el = json_data[key];\\n            this[key] = Array.isArray(el) ? ko.observableArray(el) : ko.observable(el);\\n        }\\n        \\n        \\n        [this[\\\"loading\\\"].subscribe((function (val){!(this.valueFromJulia[\\\"loading\\\"]) ? (WebIO.setval({\\\"name\\\":\\\"loading\\\",\\\"scope\\\":\\\"1075518869715648403\\\",\\\"id\\\":\\\"1435885916818662834\\\",\\\"type\\\":\\\"observable\\\"},val)) : undefined; return this.valueFromJulia[\\\"loading\\\"]=false}),self),this[\\\"clicks\\\"].subscribe((function (val){!(this.valueFromJulia[\\\"clicks\\\"]) ? (WebIO.setval({\\\"name\\\":\\\"clicks\\\",\\\"scope\\\":\\\"1075518869715648403\\\",\\\"id\\\":\\\"17938574533824161466\\\",\\\"type\\\":\\\"observable\\\"},val)) : undefined; return this.valueFromJulia[\\\"clicks\\\"]=false}),self)]\\n        \\n    }\\n    self.model = new AppViewModel();\\n    self.valueFromJulia = {};\\n    for (var key in json_data) {\\n        self.valueFromJulia[key] = false;\\n    }\\n    ko.applyBindings(self.model, self.dom);\\n}\\n);\\n    (WebIO.importBlock({\\\"data\\\":[{\\\"name\\\":\\\"knockout\\\",\\\"type\\\":\\\"js\\\",\\\"url\\\":\\\"\\/assetserver\\/727383f2a47bd31570b7da84eee7b022dd6d7c78-knockout.js\\\"},{\\\"name\\\":\\\"knockout_punches\\\",\\\"type\\\":\\\"js\\\",\\\"url\\\":\\\"\\/assetserver\\/382b41b3b1bd9f26f75861d360bad7f8beea211f-knockout_punches.js\\\"}],\\\"type\\\":\\\"async_block\\\"})).then((imports) => handler.apply(this, imports));\\n}\\n\"],\"observables\":{\"loading\":{\"sync\":false,\"id\":\"1435885916818662834\",\"value\":false},\"clicks\":{\"sync\":true,\"id\":\"17938574533824161466\",\"value\":0}}},\"children\":[{\"props\":{\"attributes\":{\"data-bind\":\"click: function (){this.clicks(this.clicks()+1)}, css: {'is-loading' : loading}\"},\"className\":\"is-medium button is-primary\",\"style\":{}},\"nodeType\":\"DOM\",\"type\":\"node\",\"instanceArgs\":{\"namespace\":\"html\",\"tag\":\"button\"},\"children\":[\"stop\"]}]}]},{\"props\":{\"className\":\"interact-widget\"},\"nodeType\":\"DOM\",\"type\":\"node\",\"instanceArgs\":{\"namespace\":\"html\",\"tag\":\"div\"},\"children\":[{\"props\":{},\"nodeType\":\"Scope\",\"type\":\"node\",\"instanceArgs\":{\"imports\":{\"data\":[{\"name\":null,\"type\":\"js\",\"url\":\"\\/assetserver\\/dd22ed1bf1896c2748f3fe616ce0b838adc895c1-katex.min.js\"},{\"name\":null,\"type\":\"css\",\"url\":\"\\/assetserver\\/46517a424aa5e6cffc1360d7e0848b601c584ee3-katex.min.css\"}],\"type\":\"async_block\"},\"id\":\"10917190035075576321\",\"handlers\":{\"value\":[\"(function (txt){return this.k.render(txt,this.container)})\"]},\"systemjs_options\":null,\"mount_callbacks\":[\"function () {\\n    var handler = ((function (k){this.k=k; this.container=this.dom.querySelector(\\\"#container\\\"); return k.render(\\\"\\\\\\\\;\\\\\\\\;\\\",this.container)}));\\n    (WebIO.importBlock({\\\"data\\\":[{\\\"name\\\":null,\\\"type\\\":\\\"js\\\",\\\"url\\\":\\\"\\/assetserver\\/dd22ed1bf1896c2748f3fe616ce0b838adc895c1-katex.min.js\\\"},{\\\"name\\\":null,\\\"type\\\":\\\"css\\\",\\\"url\\\":\\\"\\/assetserver\\/46517a424aa5e6cffc1360d7e0848b601c584ee3-katex.min.css\\\"}],\\\"type\\\":\\\"async_block\\\"})).then((imports) => handler.apply(this, imports));\\n}\\n\"],\"observables\":{\"value\":{\"sync\":false,\"id\":\"1313039778173910511\",\"value\":\"\\\\;\\\\;\"}}},\"children\":[{\"props\":{\"id\":\"container\"},\"nodeType\":\"DOM\",\"type\":\"node\",\"instanceArgs\":{\"namespace\":\"html\",\"tag\":\"div\"},\"children\":[]}]}]},{\"props\":{\"className\":\"field interact-widget\"},\"nodeType\":\"DOM\",\"type\":\"node\",\"instanceArgs\":{\"namespace\":\"html\",\"tag\":\"div\"},\"children\":[{\"props\":{},\"nodeType\":\"Scope\",\"type\":\"node\",\"instanceArgs\":{\"imports\":{\"data\":[{\"name\":\"knockout\",\"type\":\"js\",\"url\":\"\\/assetserver\\/727383f2a47bd31570b7da84eee7b022dd6d7c78-knockout.js\"},{\"name\":\"knockout_punches\",\"type\":\"js\",\"url\":\"\\/assetserver\\/382b41b3b1bd9f26f75861d360bad7f8beea211f-knockout_punches.js\"},{\"name\":null,\"type\":\"js\",\"url\":\"\\/assetserver\\/5ab20f1060420992a9b82a65b735dee4d81ef413-all.js\"},{\"name\":null,\"type\":\"css\",\"url\":\"\\/assetserver\\/1cc0ed62837210b80a182cc3676512f895dab686-style.css\"},{\"name\":null,\"type\":\"css\",\"url\":\"\\/assetserver\\/2eee816f616df3549d7044d45e744fbf8d42bfa1-bulma_confined.min.css\"}],\"type\":\"async_block\"},\"id\":\"10754000459103911353\",\"handlers\":{\"loading\":[\"(function (val){return (val!=this.model[\\\"loading\\\"]()) ? (this.valueFromJulia[\\\"loading\\\"]=true, this.model[\\\"loading\\\"](val)) : undefined})\"],\"clicks\":[\"(function (val){return (val!=this.model[\\\"clicks\\\"]()) ? (this.valueFromJulia[\\\"clicks\\\"]=true, this.model[\\\"clicks\\\"](val)) : undefined})\"]},\"systemjs_options\":null,\"mount_callbacks\":[\"function () {\\n    var handler = (function (ko, koPunches) {\\n    ko.punches.enableAll();\\n    ko.bindingHandlers.numericValue = {\\n        init: function(element, valueAccessor, allBindings, data, context) {\\n            var stringified = ko.observable(ko.unwrap(valueAccessor()));\\n            stringified.subscribe(function(value) {\\n                var val = parseFloat(value);\\n                if (!isNaN(val)) {\\n                    valueAccessor()(val);\\n                }\\n            });\\n            valueAccessor().subscribe(function(value) {\\n                var str = JSON.stringify(value);\\n                if ((str == \\\"0\\\") && ([\\\"-0\\\", \\\"-0.\\\"].indexOf(stringified()) >= 0))\\n                     return;\\n                 if ([\\\"null\\\", \\\"\\\"].indexOf(str) >= 0)\\n                     return;\\n                stringified(str);\\n            });\\n            ko.applyBindingsToNode(\\n                element,\\n                {\\n                    value: stringified,\\n                    valueUpdate: allBindings.get('valueUpdate'),\\n                },\\n                context,\\n            );\\n        }\\n    };\\n    var json_data = {\\\"loading\\\":WebIO.getval({\\\"name\\\":\\\"loading\\\",\\\"scope\\\":\\\"10754000459103911353\\\",\\\"id\\\":\\\"7293535473736320510\\\",\\\"type\\\":\\\"observable\\\"}),\\\"clicks\\\":WebIO.getval({\\\"name\\\":\\\"clicks\\\",\\\"scope\\\":\\\"10754000459103911353\\\",\\\"id\\\":\\\"17545617876114614367\\\",\\\"type\\\":\\\"observable\\\"})};\\n    var self = this;\\n    function AppViewModel() {\\n        for (var key in json_data) {\\n            var el = json_data[key];\\n            this[key] = Array.isArray(el) ? ko.observableArray(el) : ko.observable(el);\\n        }\\n        \\n        \\n        [this[\\\"loading\\\"].subscribe((function (val){!(this.valueFromJulia[\\\"loading\\\"]) ? (WebIO.setval({\\\"name\\\":\\\"loading\\\",\\\"scope\\\":\\\"10754000459103911353\\\",\\\"id\\\":\\\"7293535473736320510\\\",\\\"type\\\":\\\"observable\\\"},val)) : undefined; return this.valueFromJulia[\\\"loading\\\"]=false}),self),this[\\\"clicks\\\"].subscribe((function (val){!(this.valueFromJulia[\\\"clicks\\\"]) ? (WebIO.setval({\\\"name\\\":\\\"clicks\\\",\\\"scope\\\":\\\"10754000459103911353\\\",\\\"id\\\":\\\"17545617876114614367\\\",\\\"type\\\":\\\"observable\\\"},val)) : undefined; return this.valueFromJulia[\\\"clicks\\\"]=false}),self)]\\n        \\n    }\\n    self.model = new AppViewModel();\\n    self.valueFromJulia = {};\\n    for (var key in json_data) {\\n        self.valueFromJulia[key] = false;\\n    }\\n    ko.applyBindings(self.model, self.dom);\\n}\\n);\\n    (WebIO.importBlock({\\\"data\\\":[{\\\"name\\\":\\\"knockout\\\",\\\"type\\\":\\\"js\\\",\\\"url\\\":\\\"\\/assetserver\\/727383f2a47bd31570b7da84eee7b022dd6d7c78-knockout.js\\\"},{\\\"name\\\":\\\"knockout_punches\\\",\\\"type\\\":\\\"js\\\",\\\"url\\\":\\\"\\/assetserver\\/382b41b3b1bd9f26f75861d360bad7f8beea211f-knockout_punches.js\\\"}],\\\"type\\\":\\\"async_block\\\"})).then((imports) => handler.apply(this, imports));\\n}\\n\"],\"observables\":{\"loading\":{\"sync\":false,\"id\":\"7293535473736320510\",\"value\":false},\"clicks\":{\"sync\":true,\"id\":\"17545617876114614367\",\"value\":0}}},\"children\":[{\"props\":{\"attributes\":{\"data-bind\":\"click: function (){this.clicks(this.clicks()+1)}, css: {'is-loading' : loading}\"},\"className\":\"is-medium button is-primary\",\"style\":{}},\"nodeType\":\"DOM\",\"type\":\"node\",\"instanceArgs\":{\"namespace\":\"html\",\"tag\":\"button\"},\"children\":[\"save\"]}]}]}]}]},{\"props\":{\"className\":\"interact-widget\"},\"nodeType\":\"DOM\",\"type\":\"node\",\"instanceArgs\":{\"namespace\":\"html\",\"tag\":\"div\"},\"children\":[{\"props\":{},\"nodeType\":\"Scope\",\"type\":\"node\",\"instanceArgs\":{\"imports\":{\"data\":[{\"name\":null,\"type\":\"js\",\"url\":\"\\/assetserver\\/dd22ed1bf1896c2748f3fe616ce0b838adc895c1-katex.min.js\"},{\"name\":null,\"type\":\"css\",\"url\":\"\\/assetserver\\/46517a424aa5e6cffc1360d7e0848b601c584ee3-katex.min.css\"}],\"type\":\"async_block\"},\"id\":\"10917190035075576321\",\"handlers\":{\"value\":[\"(function (txt){return this.k.render(txt,this.container)})\"]},\"systemjs_options\":null,\"mount_callbacks\":[\"function () {\\n    var handler = ((function (k){this.k=k; this.container=this.dom.querySelector(\\\"#container\\\"); return k.render(\\\"\\\\\\\\;\\\\\\\\;\\\",this.container)}));\\n    (WebIO.importBlock({\\\"data\\\":[{\\\"name\\\":null,\\\"type\\\":\\\"js\\\",\\\"url\\\":\\\"\\/assetserver\\/dd22ed1bf1896c2748f3fe616ce0b838adc895c1-katex.min.js\\\"},{\\\"name\\\":null,\\\"type\\\":\\\"css\\\",\\\"url\\\":\\\"\\/assetserver\\/46517a424aa5e6cffc1360d7e0848b601c584ee3-katex.min.css\\\"}],\\\"type\\\":\\\"async_block\\\"})).then((imports) => handler.apply(this, imports));\\n}\\n\"],\"observables\":{\"value\":{\"sync\":false,\"id\":\"1313039778173910511\",\"value\":\"\\\\;\\\\;\"}}},\"children\":[{\"props\":{\"id\":\"container\"},\"nodeType\":\"DOM\",\"type\":\"node\",\"instanceArgs\":{\"namespace\":\"html\",\"tag\":\"div\"},\"children\":[]}]}]},{\"props\":{},\"nodeType\":\"Scope\",\"type\":\"node\",\"instanceArgs\":{\"imports\":{\"data\":[],\"type\":\"async_block\"},\"id\":\"16005565544693764588\",\"handlers\":{\"obs-output\":[\"function (value, scope) {\\n    scope.setInnerHTML(value);\\n}\\n\"]},\"systemjs_options\":null,\"mount_callbacks\":[],\"observables\":{\"obs-output\":{\"sync\":false,\"id\":\"10863542096441351414\",\"value\":\"<img src='data:image\\/png;base64,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'><\\/img>\"}}},\"children\":[{\"props\":{\"className\":\"webio-observable\",\"setInnerHtml\":\"<img src='data:image\\/png;base64,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'><\\/img>\"},\"nodeType\":\"DOM\",\"type\":\"node\",\"instanceArgs\":{\"namespace\":\"html\",\"tag\":\"div\"},\"children\":[]}]},{\"props\":{\"className\":\"interact-widget\"},\"nodeType\":\"DOM\",\"type\":\"node\",\"instanceArgs\":{\"namespace\":\"html\",\"tag\":\"div\"},\"children\":[{\"props\":{},\"nodeType\":\"Scope\",\"type\":\"node\",\"instanceArgs\":{\"imports\":{\"data\":[{\"name\":null,\"type\":\"js\",\"url\":\"\\/assetserver\\/dd22ed1bf1896c2748f3fe616ce0b838adc895c1-katex.min.js\"},{\"name\":null,\"type\":\"css\",\"url\":\"\\/assetserver\\/46517a424aa5e6cffc1360d7e0848b601c584ee3-katex.min.css\"}],\"type\":\"async_block\"},\"id\":\"10917190035075576321\",\"handlers\":{\"value\":[\"(function (txt){return this.k.render(txt,this.container)})\"]},\"systemjs_options\":null,\"mount_callbacks\":[\"function () {\\n    var handler = ((function (k){this.k=k; this.container=this.dom.querySelector(\\\"#container\\\"); return k.render(\\\"\\\\\\\\;\\\\\\\\;\\\",this.container)}));\\n    (WebIO.importBlock({\\\"data\\\":[{\\\"name\\\":null,\\\"type\\\":\\\"js\\\",\\\"url\\\":\\\"\\/assetserver\\/dd22ed1bf1896c2748f3fe616ce0b838adc895c1-katex.min.js\\\"},{\\\"name\\\":null,\\\"type\\\":\\\"css\\\",\\\"url\\\":\\\"\\/assetserver\\/46517a424aa5e6cffc1360d7e0848b601c584ee3-katex.min.css\\\"}],\\\"type\\\":\\\"async_block\\\"})).then((imports) => handler.apply(this, imports));\\n}\\n\"],\"observables\":{\"value\":{\"sync\":false,\"id\":\"1313039778173910511\",\"value\":\"\\\\;\\\\;\"}}},\"children\":[{\"props\":{\"id\":\"container\"},\"nodeType\":\"DOM\",\"type\":\"node\",\"instanceArgs\":{\"namespace\":\"html\",\"tag\":\"div\"},\"children\":[]}]}]},{\"props\":{\"style\":{\"display\":\"flex\",\"flex-direction\":\"column\"}},\"nodeType\":\"DOM\",\"type\":\"node\",\"instanceArgs\":{\"namespace\":\"html\",\"tag\":\"div\"},\"children\":[]}]}]},\n",
       "        window,\n",
       "    );\n",
       "    })()\n",
       "    </script>\n",
       "</div>\n"
      ],
      "text/plain": [
       "WebIO.Node{WebIO.DOM}(WebIO.DOM(:html, :div), Any[WebIO.Node{WebIO.DOM}(WebIO.DOM(:html, :div), Any[WebIO.Node{WebIO.DOM}(WebIO.DOM(:html, :div), Any[WebIO.Node{WebIO.DOM}(WebIO.DOM(:html, :div), Any[WebIO.Scope(WebIO.Node{WebIO.DOM}(WebIO.DOM(:html, :div), Any[WebIO.Node{WebIO.DOM}(WebIO.DOM(:html, :div), Any[WebIO.Node{WebIO.DOM}(WebIO.DOM(:html, :label), Any[\"time\"], Dict{Symbol, Any}(:className => \"interact \", :style => Dict{Any, Any}(:padding => \"5px 10px 0px 10px\")))], Dict{Symbol, Any}(:className => \"interact-flex-row-left\")), WebIO.Node{WebIO.DOM}(WebIO.DOM(:html, :div), Any[WebIO.Node{WebIO.DOM}(WebIO.DOM(:html, :input), Any[], Dict{Symbol, Any}(:max => 501, :min => 1, :attributes => Dict{Any, Any}(:type => \"range\", Symbol(\"data-bind\") => \"numericValue: index, valueUpdate: 'input', event: {change: function (){this.changes(this.changes()+1)}}\", \"orient\" => \"horizontal\"), :step => 1, :className => \"slider slider is-fullwidth\", :style => Dict{Any, Any}()))], Dict{Symbol, Any}(:className => \"interact-flex-row-center\")), WebIO.Node{WebIO.DOM}(WebIO.DOM(:html, :div), Any[WebIO.Node{WebIO.DOM}(WebIO.DOM(:html, :p), Any[], Dict{Symbol, Any}(:attributes => Dict(\"data-bind\" => \"text: formatted_val\")))], Dict{Symbol, Any}(:className => \"interact-flex-row-right\"))], Dict{Symbol, Any}(:className => \"interact-flex-row interact-widget\")), Dict{String, Tuple{Observables.AbstractObservable, Union{Nothing, Bool}}}(\"changes\" => (Observable(0), nothing), \"index\" => (Observable(251), nothing)), Set{String}(), nothing, WebIO.Asset[WebIO.Asset(\"js\", \"knockout\", \"/home/dushya/.julia/packages/Knockout/HReiN/src/../assets/knockout.js\"), WebIO.Asset(\"js\", \"knockout_punches\", \"/home/dushya/.julia/packages/Knockout/HReiN/src/../assets/knockout_punches.js\"), WebIO.Asset(\"js\", nothing, \"/home/dushya/.julia/packages/InteractBase/LJXv3/src/../assets/all.js\"), WebIO.Asset(\"css\", nothing, \"/home/dushya/.julia/packages/InteractBase/LJXv3/src/../assets/style.css\"), WebIO.Asset(\"css\", nothing, \"/home/dushya/.julia/packages/Interact/PENUy/src/../assets/bulma_confined.min.css\")], Dict{Any, Any}(\"changes\" => Any[WebIO.JSString(\"(function (val){return (val!=this.model[\\\"changes\\\"]()) ? (this.valueFromJulia[\\\"changes\\\"]=true, this.model[\\\"changes\\\"](val)) : undefined})\")], \"index\" => Any[WebIO.JSString(\"(function (val){return (val!=this.model[\\\"index\\\"]()) ? (this.valueFromJulia[\\\"index\\\"]=true, this.model[\\\"index\\\"](val)) : undefined})\")]), WebIO.ConnectionPool(Channel{Any}(32), Set{WebIO.AbstractConnection}(), Base.GenericCondition{ReentrantLock}(Base.IntrusiveLinkedList{Task}(Task (runnable) @0x00007f354c081780, Task (runnable) @0x00007f354c081780), ReentrantLock(nothing, 0x00000000, 0x00, Base.GenericCondition{Base.Threads.SpinLock}(Base.IntrusiveLinkedList{Task}(nothing, nothing), Base.Threads.SpinLock(0)), (8, 139866785106688, 47244640264)))), WebIO.JSString[WebIO.JSString(\"function () {\\n    var handler = (function (ko, koPunches) {\\n    ko.punches.enableAll();\\n    ko.bindingHandlers.numericValue = {\\n        init: function(element, valueAccessor, allBindings, data, context) {\\n            var stringified = ko.observable(ko.unwrap(valueAccessor()));\\n            stringified.subscribe(function(value) {\\n                var val = parseFloat(value);\\n                if (!isNaN(val)) {\\n                    valueAccessor()(val);\\n                }\\n            });\\n            valueAccessor().subscribe(function(value) {\\n                var str = JSON.stringify(value);\\n                if ((str == \\\"0\\\") && ([\\\"-0\\\", \\\"-0.\\\"].indexOf(stringified()) >= 0))\\n                     return;\\n                 if ([\\\"null\\\", \\\"\\\"].indexOf(str) >= 0)\\n                     return;\\n                stringified(str);\\n            });\\n            ko.applyBindingsToNode(\\n                element,\\n                {\\n                    value: stringified,\\n                    valueUpdate: allBindings.get('valueUpdate'),\\n                },\\n                context,\\n            );\\n        }\\n    };\\n    var json_data = {\\\"formatted_vals\\\":[\\\"1\\\",\\\"2\\\",\\\"3\\\",\\\"4\\\",\\\"5\\\",\\\"6\\\",\\\"7\\\",\\\"8\\\",\\\"9\\\",\\\"10\\\",\\\"11\\\",\\\"12\\\",\\\"13\\\",\\\"14\\\",\\\"15\\\",\\\"16\\\",\\\"17\\\",\\\"18\\\",\\\"19\\\",\\\"20\\\",\\\"21\\\",\\\"22\\\",\\\"23\\\",\\\"24\\\",\\\"25\\\",\\\"26\\\",\\\"27\\\",\\\"28\\\",\\\"29\\\",\\\"30\\\",\\\"31\\\",\\\"32\\\",\\\"33\\\",\\\"34\\\",\\\"35\\\",\\\"36\\\",\\\"37\\\",\\\"38\\\",\\\"39\\\",\\\"40\\\",\\\"41\\\",\\\"42\\\",\\\"43\\\",\\\"44\\\",\\\"45\\\",\\\"46\\\",\\\"47\\\",\\\"48\\\",\\\"49\\\",\\\"50\\\",\\\"51\\\",\\\"52\\\",\\\"53\\\",\\\"54\\\",\\\"55\\\",\\\"56\\\",\\\"57\\\",\\\"58\\\",\\\"59\\\",\\\"60\\\",\\\"61\\\",\\\"62\\\",\\\"63\\\",\\\"64\\\",\\\"65\\\",\\\"66\\\",\\\"67\\\",\\\"68\\\",\\\"69\\\",\\\"70\\\",\\\"71\\\",\\\"72\\\",\\\"73\\\",\\\"74\\\",\\\"75\\\",\\\"76\\\",\\\"77\\\",\\\"78\\\",\\\"79\\\",\\\"80\\\",\\\"81\\\",\\\"82\\\",\\\"83\\\",\\\"84\\\",\\\"85\\\",\\\"86\\\",\\\"87\\\",\\\"88\\\",\\\"89\\\",\\\"90\\\",\\\"91\\\",\\\"92\\\",\\\"93\\\",\\\"94\\\",\\\"95\\\",\\\"96\\\",\\\"97\\\",\\\"98\\\",\\\"99\\\",\\\"100\\\",\\\"101\\\",\\\"102\\\",\\\"103\\\",\\\"104\\\",\\\"105\\\",\\\"106\\\",\\\"107\\\",\\\"108\\\",\\\"109\\\",\\\"110\\\",\\\"111\\\",\\\"112\\\",\\\"113\\\",\\\"114\\\",\\\"115\\\",\\\"116\\\",\\\"117\\\",\\\"118\\\",\\\"119\\\",\\\"120\\\",\\\"121\\\",\\\"122\\\",\\\"123\\\",\\\"124\\\",\\\"125\\\",\\\"126\\\",\\\"127\\\",\\\"128\\\",\\\"129\\\",\\\"130\\\",\\\"131\\\",\\\"132\\\",\\\"133\\\",\\\"134\\\",\\\"135\\\",\\\"136\\\",\\\"137\\\",\\\"138\\\",\\\"139\\\",\\\"140\\\",\\\"141\\\",\\\"142\\\",\\\"143\\\",\\\"144\\\",\\\"145\\\",\\\"146\\\",\\\"147\\\",\\\"148\\\",\\\"149\\\",\\\"150\\\",\\\"151\\\",\\\"152\\\",\\\"153\\\",\\\"154\\\",\\\"155\\\",\\\"156\\\",\\\"157\\\",\\\"158\\\",\\\"159\\\",\\\"160\\\",\\\"161\\\",\\\"162\\\",\\\"163\\\",\\\"164\\\",\\\"165\\\",\\\"166\\\",\\\"167\\\",\\\"168\\\",\\\"169\\\",\\\"170\\\",\\\"171\\\",\\\"172\\\",\\\"173\\\",\\\"174\\\",\\\"175\\\",\\\"176\\\",\\\"177\\\",\\\"178\\\",\\\"179\\\",\\\"180\\\",\\\"181\\\",\\\"182\\\",\\\"183\\\",\\\"184\\\",\\\"185\\\",\\\"186\\\",\\\"187\\\",\\\"188\\\",\\\"189\\\",\\\"190\\\",\\\"191\\\",\\\"192\\\",\\\"193\\\",\\\"194\\\",\\\"195\\\",\\\"196\\\",\\\"197\\\",\\\"198\\\",\\\"199\\\",\\\"200\\\",\\\"201\\\",\\\"202\\\",\\\"203\\\",\\\"204\\\",\\\"205\\\",\\\"206\\\",\\\"207\\\",\\\"208\\\",\\\"209\\\",\\\"210\\\",\\\"211\\\",\\\"212\\\",\\\"213\\\",\\\"214\\\",\\\"215\\\",\\\"216\\\",\\\"217\\\",\\\"218\\\",\\\"219\\\",\\\"220\\\",\\\"221\\\",\\\"222\\\",\\\"223\\\",\\\"224\\\",\\\"225\\\",\\\"226\\\",\\\"227\\\",\\\"228\\\",\\\"229\\\",\\\"230\\\",\\\"231\\\",\\\"232\\\",\\\"233\\\",\\\"234\\\",\\\"235\\\",\\\"236\\\",\\\"237\\\",\\\"238\\\",\\\"239\\\",\\\"240\\\",\\\"241\\\",\\\"242\\\",\\\"243\\\",\\\"244\\\",\\\"245\\\",\\\"246\\\",\\\"247\\\",\\\"248\\\",\\\"249\\\",\\\"250\\\",\\\"251\\\",\\\"252\\\",\\\"253\\\",\\\"254\\\",\\\"255\\\",\\\"256\\\",\\\"257\\\",\\\"258\\\",\\\"259\\\",\\\"260\\\",\\\"261\\\",\\\"262\\\",\\\"263\\\",\\\"264\\\",\\\"265\\\",\\\"266\\\",\\\"267\\\",\\\"268\\\",\\\"269\\\",\\\"270\\\",\\\"271\\\",\\\"272\\\",\\\"273\\\",\\\"274\\\",\\\"275\\\",\\\"276\\\",\\\"277\\\",\\\"278\\\",\\\"279\\\",\\\"280\\\",\\\"281\\\",\\\"282\\\",\\\"283\\\",\\\"284\\\",\\\"285\\\",\\\"286\\\",\\\"287\\\",\\\"288\\\",\\\"289\\\",\\\"290\\\",\\\"291\\\",\\\"292\\\",\\\"293\\\",\\\"294\\\",\\\"295\\\",\\\"296\\\",\\\"297\\\",\\\"298\\\",\\\"299\\\",\\\"300\\\",\\\"301\\\",\\\"302\\\",\\\"303\\\",\\\"304\\\",\\\"305\\\",\\\"306\\\",\\\"307\\\",\\\"308\\\",\\\"309\\\",\\\"310\\\",\\\"311\\\",\\\"312\\\",\\\"313\\\",\\\"314\\\",\\\"315\\\",\\\"316\\\",\\\"317\\\",\\\"318\\\",\\\"319\\\",\\\"320\\\",\\\"321\\\",\\\"322\\\",\\\"323\\\",\\\"324\\\",\\\"325\\\",\\\"326\\\",\\\"327\\\",\\\"328\\\",\\\"329\\\",\\\"330\\\",\\\"331\\\",\\\"332\\\",\\\"333\\\",\\\"334\\\",\\\"335\\\",\\\"336\\\",\\\"337\\\",\\\"338\\\",\\\"339\\\",\\\"340\\\",\\\"341\\\",\\\"342\\\",\\\"343\\\",\\\"344\\\",\\\"345\\\",\\\"346\\\",\\\"347\\\",\\\"348\\\",\\\"349\\\",\\\"350\\\",\\\"351\\\",\\\"352\\\",\\\"353\\\",\\\"354\\\",\\\"355\\\",\\\"356\\\",\\\"357\\\",\\\"358\\\",\\\"359\\\",\\\"360\\\",\\\"361\\\",\\\"362\\\",\\\"363\\\",\\\"364\\\",\\\"365\\\",\\\"366\\\",\\\"367\\\",\\\"368\\\",\\\"369\\\",\\\"370\\\",\\\"371\\\",\\\"372\\\",\\\"373\\\",\\\"374\\\",\\\"375\\\",\\\"376\\\",\\\"377\\\",\\\"378\\\",\\\"379\\\",\\\"380\\\",\\\"381\\\",\\\"382\\\",\\\"383\\\",\\\"384\\\",\\\"385\\\",\\\"386\\\",\\\"387\\\",\\\"388\\\",\\\"389\\\",\\\"390\\\",\\\"391\\\",\\\"392\\\",\\\"393\\\",\\\"394\\\",\\\"395\\\",\\\"396\\\",\\\"397\\\",\\\"398\\\",\\\"399\\\",\\\"400\\\",\\\"401\\\",\\\"402\\\",\\\"403\\\",\\\"404\\\",\\\"405\\\",\\\"406\\\",\\\"407\\\",\\\"408\\\",\\\"409\\\",\\\"410\\\",\\\"411\\\",\\\"412\\\",\\\"413\\\",\\\"414\\\",\\\"415\\\",\\\"416\\\",\\\"417\\\",\\\"418\\\",\\\"419\\\",\\\"420\\\",\\\"421\\\",\\\"422\\\",\\\"423\\\",\\\"424\\\",\\\"425\\\",\\\"426\\\",\\\"427\\\",\\\"428\\\",\\\"429\\\",\\\"430\\\",\\\"431\\\",\\\"432\\\",\\\"433\\\",\\\"434\\\",\\\"435\\\",\\\"436\\\",\\\"437\\\",\\\"438\\\",\\\"439\\\",\\\"440\\\",\\\"441\\\",\\\"442\\\",\\\"443\\\",\\\"444\\\",\\\"445\\\",\\\"446\\\",\\\"447\\\",\\\"448\\\",\\\"449\\\",\\\"450\\\",\\\"451\\\",\\\"452\\\",\\\"453\\\",\\\"454\\\",\\\"455\\\",\\\"456\\\",\\\"457\\\",\\\"458\\\",\\\"459\\\",\\\"460\\\",\\\"461\\\",\\\"462\\\",\\\"463\\\",\\\"464\\\",\\\"465\\\",\\\"466\\\",\\\"467\\\",\\\"468\\\",\\\"469\\\",\\\"470\\\",\\\"471\\\",\\\"472\\\",\\\"473\\\",\\\"474\\\",\\\"475\\\",\\\"476\\\",\\\"477\\\",\\\"478\\\",\\\"479\\\",\\\"480\\\",\\\"481\\\",\\\"482\\\",\\\"483\\\",\\\"484\\\",\\\"485\\\",\\\"486\\\",\\\"487\\\",\\\"488\\\",\\\"489\\\",\\\"490\\\",\\\"491\\\",\\\"492\\\",\\\"493\\\",\\\"494\\\",\\\"495\\\",\\\"496\\\",\\\"497\\\",\\\"498\\\",\\\"499\\\",\\\"500\\\",\\\"501\\\"],\\\"changes\\\":WebIO.getval({\\\"name\\\":\\\"changes\\\",\\\"scope\\\":\\\"6657685335043018792\\\",\\\"id\\\":\\\"15883111587828248853\\\",\\\"type\\\":\\\"observable\\\"}),\\\"index\\\":WebIO.getval({\\\"name\\\":\\\"index\\\",\\\"scope\\\":\\\"6657685335043018792\\\",\\\"id\\\":\\\"5145825009345735269\\\",\\\"type\\\":\\\"observable\\\"})};\\n    var self = this;\\n    function AppViewModel() {\\n        for (var key in json_data) {\\n            var el = json_data[key];\\n            this[key] = Array.isArray(el) ? ko.observableArray(el) : ko.observable(el);\\n        }\\n        \\n        [this[\\\"formatted_val\\\"]=ko.computed(    function(){\\n        return this.formatted_vals()[parseInt(this.index())-(1)];\\n    }\\n,this)]\\n        [this[\\\"changes\\\"].subscribe((function (val){!(this.valueFromJulia[\\\"changes\\\"]) ? (WebIO.setval({\\\"name\\\":\\\"changes\\\",\\\"scope\\\":\\\"6657685335043018792\\\",\\\"id\\\":\\\"15883111587828248853\\\",\\\"type\\\":\\\"observable\\\"},val)) : undefined; return this.valueFromJulia[\\\"changes\\\"]=false}),self),this[\\\"index\\\"].subscribe((function (val){!(this.valueFromJulia[\\\"index\\\"]) ? (WebIO.setval({\\\"name\\\":\\\"index\\\",\\\"scope\\\":\\\"6657685335043018792\\\",\\\"id\\\":\\\"5145825009345735269\\\",\\\"type\\\":\\\"observable\\\"},val)) : undefined; return this.valueFromJulia[\\\"index\\\"]=false}),self)]\\n        \\n    }\\n    self.model = new AppViewModel();\\n    self.valueFromJulia = {};\\n    for (var key in json_data) {\\n        self.valueFromJulia[key] = false;\\n    }\\n    ko.applyBindings(self.model, self.dom);\\n}\\n);\\n    (WebIO.importBlock({\\\"data\\\":[{\\\"name\\\":\\\"knockout\\\",\\\"type\\\":\\\"js\\\",\\\"url\\\":\\\"/assetserver/727383f2a47bd31570b7da84eee7b022dd6d7c78-knockout.js\\\"},{\\\"name\\\":\\\"knockout_punches\\\",\\\"type\\\":\\\"js\\\",\\\"url\\\":\\\"/assetserver/382b41b3b1bd9f26f75861d360bad7f8beea211f-knockout_punches.js\\\"}],\\\"type\\\":\\\"async_block\\\"})).then((imports) => handler.apply(this, imports));\\n}\\n\")])], Dict{Symbol, Any}(:className => \"field interact-widget\")), WebIO.Node{WebIO.DOM}(WebIO.DOM(:html, :div), Any[WebIO.Scope(WebIO.Node{WebIO.DOM}(WebIO.DOM(:html, :div), Any[WebIO.Node{WebIO.DOM}(WebIO.DOM(:html, :div), Any[WebIO.Node{WebIO.DOM}(WebIO.DOM(:html, :label), Any[\"scale\"], Dict{Symbol, Any}(:className => \"interact \", :style => Dict{Any, Any}(:padding => \"5px 10px 0px 10px\")))], Dict{Symbol, Any}(:className => \"interact-flex-row-left\")), WebIO.Node{WebIO.DOM}(WebIO.DOM(:html, :div), Any[WebIO.Node{WebIO.DOM}(WebIO.DOM(:html, :input), Any[], Dict{Symbol, Any}(:max => 20, :min => 1, :attributes => Dict{Any, Any}(:type => \"range\", Symbol(\"data-bind\") => \"numericValue: index, valueUpdate: 'input', event: {change: function (){this.changes(this.changes()+1)}}\", \"orient\" => \"horizontal\"), :step => 1, :className => \"slider slider is-fullwidth\", :style => Dict{Any, Any}()))], Dict{Symbol, Any}(:className => \"interact-flex-row-center\")), WebIO.Node{WebIO.DOM}(WebIO.DOM(:html, :div), Any[WebIO.Node{WebIO.DOM}(WebIO.DOM(:html, :p), Any[], Dict{Symbol, Any}(:attributes => Dict(\"data-bind\" => \"text: formatted_val\")))], Dict{Symbol, Any}(:className => \"interact-flex-row-right\"))], Dict{Symbol, Any}(:className => \"interact-flex-row interact-widget\")), Dict{String, Tuple{Observables.AbstractObservable, Union{Nothing, Bool}}}(\"changes\" => (Observable(0), nothing), \"index\" => (Observable{Any}(10), nothing)), Set{String}(), nothing, WebIO.Asset[WebIO.Asset(\"js\", \"knockout\", \"/home/dushya/.julia/packages/Knockout/HReiN/src/../assets/knockout.js\"), WebIO.Asset(\"js\", \"knockout_punches\", \"/home/dushya/.julia/packages/Knockout/HReiN/src/../assets/knockout_punches.js\"), WebIO.Asset(\"js\", nothing, \"/home/dushya/.julia/packages/InteractBase/LJXv3/src/../assets/all.js\"), WebIO.Asset(\"css\", nothing, \"/home/dushya/.julia/packages/InteractBase/LJXv3/src/../assets/style.css\"), WebIO.Asset(\"css\", nothing, \"/home/dushya/.julia/packages/Interact/PENUy/src/../assets/bulma_confined.min.css\")], Dict{Any, Any}(\"changes\" => Any[WebIO.JSString(\"(function (val){return (val!=this.model[\\\"changes\\\"]()) ? (this.valueFromJulia[\\\"changes\\\"]=true, this.model[\\\"changes\\\"](val)) : undefined})\")], \"index\" => Any[WebIO.JSString(\"(function (val){return (val!=this.model[\\\"index\\\"]()) ? (this.valueFromJulia[\\\"index\\\"]=true, this.model[\\\"index\\\"](val)) : undefined})\")]), WebIO.ConnectionPool(Channel{Any}(32), Set{WebIO.AbstractConnection}(), Base.GenericCondition{ReentrantLock}(Base.IntrusiveLinkedList{Task}(Task (runnable) @0x00007f354c354c90, Task (runnable) @0x00007f354c354c90), ReentrantLock(nothing, 0x00000000, 0x00, Base.GenericCondition{Base.Threads.SpinLock}(Base.IntrusiveLinkedList{Task}(nothing, nothing), Base.Threads.SpinLock(0)), (1, 139866787601392, 139779710648320)))), WebIO.JSString[WebIO.JSString(\"function () {\\n    var handler = (function (ko, koPunches) {\\n    ko.punches.enableAll();\\n    ko.bindingHandlers.numericValue = {\\n        init: function(element, valueAccessor, allBindings, data, context) {\\n            var stringified = ko.observable(ko.unwrap(valueAccessor()));\\n            stringified.subscribe(function(value) {\\n                var val = parseFloat(value);\\n                if (!isNaN(val)) {\\n                    valueAccessor()(val);\\n                }\\n            });\\n            valueAccessor().subscribe(function(value) {\\n                var str = JSON.stringify(value);\\n                if ((str == \\\"0\\\") && ([\\\"-0\\\", \\\"-0.\\\"].indexOf(stringified()) >= 0))\\n                     return;\\n                 if ([\\\"null\\\", \\\"\\\"].indexOf(str) >= 0)\\n                     return;\\n                stringified(str);\\n            });\\n            ko.applyBindingsToNode(\\n                element,\\n                {\\n                    value: stringified,\\n                    valueUpdate: allBindings.get('valueUpdate'),\\n                },\\n                context,\\n            );\\n        }\\n    };\\n    var json_data = {\\\"formatted_vals\\\":[\\\"0.1\\\",\\\"0.2\\\",\\\"0.3\\\",\\\"0.4\\\",\\\"0.5\\\",\\\"0.6\\\",\\\"0.7\\\",\\\"0.8\\\",\\\"0.9\\\",\\\"1.0\\\",\\\"1.1\\\",\\\"1.2\\\",\\\"1.3\\\",\\\"1.4\\\",\\\"1.5\\\",\\\"1.6\\\",\\\"1.7\\\",\\\"1.8\\\",\\\"1.9\\\",\\\"2.0\\\"],\\\"changes\\\":WebIO.getval({\\\"name\\\":\\\"changes\\\",\\\"scope\\\":\\\"3089849287560495822\\\",\\\"id\\\":\\\"7626509547706819144\\\",\\\"type\\\":\\\"observable\\\"}),\\\"index\\\":WebIO.getval({\\\"name\\\":\\\"index\\\",\\\"scope\\\":\\\"3089849287560495822\\\",\\\"id\\\":\\\"969551142670121201\\\",\\\"type\\\":\\\"observable\\\"})};\\n    var self = this;\\n    function AppViewModel() {\\n        for (var key in json_data) {\\n            var el = json_data[key];\\n            this[key] = Array.isArray(el) ? ko.observableArray(el) : ko.observable(el);\\n        }\\n        \\n        [this[\\\"formatted_val\\\"]=ko.computed(    function(){\\n        return this.formatted_vals()[parseInt(this.index())-(1)];\\n    }\\n,this)]\\n        [this[\\\"changes\\\"].subscribe((function (val){!(this.valueFromJulia[\\\"changes\\\"]) ? (WebIO.setval({\\\"name\\\":\\\"changes\\\",\\\"scope\\\":\\\"3089849287560495822\\\",\\\"id\\\":\\\"7626509547706819144\\\",\\\"type\\\":\\\"observable\\\"},val)) : undefined; return this.valueFromJulia[\\\"changes\\\"]=false}),self),this[\\\"index\\\"].subscribe((function (val){!(this.valueFromJulia[\\\"index\\\"]) ? (WebIO.setval({\\\"name\\\":\\\"index\\\",\\\"scope\\\":\\\"3089849287560495822\\\",\\\"id\\\":\\\"969551142670121201\\\",\\\"type\\\":\\\"observable\\\"},val)) : undefined; return this.valueFromJulia[\\\"index\\\"]=false}),self)]\\n        \\n    }\\n    self.model = new AppViewModel();\\n    self.valueFromJulia = {};\\n    for (var key in json_data) {\\n        self.valueFromJulia[key] = false;\\n    }\\n    ko.applyBindings(self.model, self.dom);\\n}\\n);\\n    (WebIO.importBlock({\\\"data\\\":[{\\\"name\\\":\\\"knockout\\\",\\\"type\\\":\\\"js\\\",\\\"url\\\":\\\"/assetserver/727383f2a47bd31570b7da84eee7b022dd6d7c78-knockout.js\\\"},{\\\"name\\\":\\\"knockout_punches\\\",\\\"type\\\":\\\"js\\\",\\\"url\\\":\\\"/assetserver/382b41b3b1bd9f26f75861d360bad7f8beea211f-knockout_punches.js\\\"}],\\\"type\\\":\\\"async_block\\\"})).then((imports) => handler.apply(this, imports));\\n}\\n\")])], Dict{Symbol, Any}(:className => \"field interact-widget\")), WebIO.Node{WebIO.DOM}(WebIO.DOM(:html, :div), Any[WebIO.Node{WebIO.DOM}(WebIO.DOM(:html, :div), Any[WebIO.Scope(WebIO.Node{WebIO.DOM}(WebIO.DOM(:html, :div), Any[], Dict{Symbol, Any}(:id => \"container\")), Dict{String, Tuple{Observables.AbstractObservable, Union{Nothing, Bool}}}(\"value\" => (Observable(\"\\\\;\\\\;\"), nothing)), Set{String}(), nothing, WebIO.Asset[WebIO.Asset(\"js\", nothing, \"/home/dushya/.julia/packages/InteractBase/LJXv3/src/../assets/katex.min.js\"), WebIO.Asset(\"css\", nothing, \"/home/dushya/.julia/packages/InteractBase/LJXv3/src/../assets/katex.min.css\")], Dict{Any, Any}(\"value\" => Any[WebIO.JSString(\"(function (txt){return this.k.render(txt,this.container)})\")]), WebIO.ConnectionPool(Channel{Any}(32), Set{WebIO.AbstractConnection}(), Base.GenericCondition{ReentrantLock}(Base.IntrusiveLinkedList{Task}(Task (runnable) @0x00007f354e2fe400, Task (runnable) @0x00007f354e2fe400), ReentrantLock(nothing, 0x00000000, 0x00, Base.GenericCondition{Base.Threads.SpinLock}(Base.IntrusiveLinkedList{Task}(nothing, nothing), Base.Threads.SpinLock(0)), (0, 139866785686896, 139866931196096)))), WebIO.JSString[WebIO.JSString(\"function () {\\n    var handler = ((function (k){this.k=k; this.container=this.dom.querySelector(\\\"#container\\\"); return k.render(\\\"\\\\\\\\;\\\\\\\\;\\\",this.container)}));\\n    (WebIO.importBlock({\\\"data\\\":[{\\\"name\\\":null,\\\"type\\\":\\\"js\\\",\\\"url\\\":\\\"/assetserver/dd22ed1bf1896c2748f3fe616ce0b838adc895c1-katex.min.js\\\"},{\\\"name\\\":null,\\\"type\\\":\\\"css\\\",\\\"url\\\":\\\"/assetserver/46517a424aa5e6cffc1360d7e0848b601c584ee3-katex.min.css\\\"}],\\\"type\\\":\\\"async_block\\\"})).then((imports) => handler.apply(this, imports));\\n}\\n\")])], Dict{Symbol, Any}(:className => \"interact-widget\")), WebIO.Node{WebIO.DOM}(WebIO.DOM(:html, :div), Any[WebIO.Scope(WebIO.Node{WebIO.DOM}(WebIO.DOM(:html, :button), Any[\"run\"], Dict{Symbol, Any}(:attributes => Dict{Any, Any}(\"data-bind\" => \"click: function (){this.clicks(this.clicks()+1)}, css: {'is-loading' : loading}\"), :className => \"is-medium button is-primary\", :style => Dict{String, Any}())), Dict{String, Tuple{Observables.AbstractObservable, Union{Nothing, Bool}}}(\"loading\" => (Observable(false), nothing), \"clicks\" => (Observable(0), nothing)), Set{String}(), nothing, WebIO.Asset[WebIO.Asset(\"js\", \"knockout\", \"/home/dushya/.julia/packages/Knockout/HReiN/src/../assets/knockout.js\"), WebIO.Asset(\"js\", \"knockout_punches\", \"/home/dushya/.julia/packages/Knockout/HReiN/src/../assets/knockout_punches.js\"), WebIO.Asset(\"js\", nothing, \"/home/dushya/.julia/packages/InteractBase/LJXv3/src/../assets/all.js\"), WebIO.Asset(\"css\", nothing, \"/home/dushya/.julia/packages/InteractBase/LJXv3/src/../assets/style.css\"), WebIO.Asset(\"css\", nothing, \"/home/dushya/.julia/packages/Interact/PENUy/src/../assets/bulma_confined.min.css\")], Dict{Any, Any}(\"loading\" => Any[WebIO.JSString(\"(function (val){return (val!=this.model[\\\"loading\\\"]()) ? (this.valueFromJulia[\\\"loading\\\"]=true, this.model[\\\"loading\\\"](val)) : undefined})\")], \"clicks\" => Any[WebIO.JSString(\"(function (val){return (val!=this.model[\\\"clicks\\\"]()) ? (this.valueFromJulia[\\\"clicks\\\"]=true, this.model[\\\"clicks\\\"](val)) : undefined})\")]), WebIO.ConnectionPool(Channel{Any}(32), Set{WebIO.AbstractConnection}(), Base.GenericCondition{ReentrantLock}(Base.IntrusiveLinkedList{Task}(Task (runnable) @0x00007f354c3e8330, Task (runnable) @0x00007f354c3e8330), ReentrantLock(nothing, 0x00000000, 0x00, Base.GenericCondition{Base.Threads.SpinLock}(Base.IntrusiveLinkedList{Task}(nothing, nothing), Base.Threads.SpinLock(0)), (0, 139866787615744, 0)))), WebIO.JSString[WebIO.JSString(\"function () {\\n    var handler = (function (ko, koPunches) {\\n    ko.punches.enableAll();\\n    ko.bindingHandlers.numericValue = {\\n        init: function(element, valueAccessor, allBindings, data, context) {\\n            var stringified = ko.observable(ko.unwrap(valueAccessor()));\\n            stringified.subscribe(function(value) {\\n                var val = parseFloat(value);\\n                if (!isNaN(val)) {\\n                    valueAccessor()(val);\\n                }\\n            });\\n            valueAccessor().subscribe(function(value) {\\n                var str = JSON.stringify(value);\\n                if ((str == \\\"0\\\") && ([\\\"-0\\\", \\\"-0.\\\"].indexOf(stringified()) >= 0))\\n                     return;\\n                 if ([\\\"null\\\", \\\"\\\"].indexOf(str) >= 0)\\n                     return;\\n                stringified(str);\\n            });\\n            ko.applyBindingsToNode(\\n                element,\\n                {\\n                    value: stringified,\\n                    valueUpdate: allBindings.get('valueUpdate'),\\n                },\\n                context,\\n            );\\n        }\\n    };\\n    var json_data = {\\\"loading\\\":WebIO.getval({\\\"name\\\":\\\"loading\\\",\\\"scope\\\":\\\"12492612786226233471\\\",\\\"id\\\":\\\"4908424974342716773\\\",\\\"type\\\":\\\"observable\\\"}),\\\"clicks\\\":WebIO.getval({\\\"name\\\":\\\"clicks\\\",\\\"scope\\\":\\\"12492612786226233471\\\",\\\"id\\\":\\\"6962318678562052201\\\",\\\"type\\\":\\\"observable\\\"})};\\n    var self = this;\\n    function AppViewModel() {\\n        for (var key in json_data) {\\n            var el = json_data[key];\\n            this[key] = Array.isArray(el) ? ko.observableArray(el) : ko.observable(el);\\n        }\\n        \\n        \\n        [this[\\\"loading\\\"].subscribe((function (val){!(this.valueFromJulia[\\\"loading\\\"]) ? (WebIO.setval({\\\"name\\\":\\\"loading\\\",\\\"scope\\\":\\\"12492612786226233471\\\",\\\"id\\\":\\\"4908424974342716773\\\",\\\"type\\\":\\\"observable\\\"},val)) : undefined; return this.valueFromJulia[\\\"loading\\\"]=false}),self),this[\\\"clicks\\\"].subscribe((function (val){!(this.valueFromJulia[\\\"clicks\\\"]) ? (WebIO.setval({\\\"name\\\":\\\"clicks\\\",\\\"scope\\\":\\\"12492612786226233471\\\",\\\"id\\\":\\\"6962318678562052201\\\",\\\"type\\\":\\\"observable\\\"},val)) : undefined; return this.valueFromJulia[\\\"clicks\\\"]=false}),self)]\\n        \\n    }\\n    self.model = new AppViewModel();\\n    self.valueFromJulia = {};\\n    for (var key in json_data) {\\n        self.valueFromJulia[key] = false;\\n    }\\n    ko.applyBindings(self.model, self.dom);\\n}\\n);\\n    (WebIO.importBlock({\\\"data\\\":[{\\\"name\\\":\\\"knockout\\\",\\\"type\\\":\\\"js\\\",\\\"url\\\":\\\"/assetserver/727383f2a47bd31570b7da84eee7b022dd6d7c78-knockout.js\\\"},{\\\"name\\\":\\\"knockout_punches\\\",\\\"type\\\":\\\"js\\\",\\\"url\\\":\\\"/assetserver/382b41b3b1bd9f26f75861d360bad7f8beea211f-knockout_punches.js\\\"}],\\\"type\\\":\\\"async_block\\\"})).then((imports) => handler.apply(this, imports));\\n}\\n\")])], Dict{Symbol, Any}(:className => \"field interact-widget\")), WebIO.Node{WebIO.DOM}(WebIO.DOM(:html, :div), Any[WebIO.Scope(WebIO.Node{WebIO.DOM}(WebIO.DOM(:html, :div), Any[], Dict{Symbol, Any}(:id => \"container\")), Dict{String, Tuple{Observables.AbstractObservable, Union{Nothing, Bool}}}(\"value\" => (Observable(\"\\\\;\\\\;\"), nothing)), Set{String}(), nothing, WebIO.Asset[WebIO.Asset(\"js\", nothing, \"/home/dushya/.julia/packages/InteractBase/LJXv3/src/../assets/katex.min.js\"), WebIO.Asset(\"css\", nothing, \"/home/dushya/.julia/packages/InteractBase/LJXv3/src/../assets/katex.min.css\")], Dict{Any, Any}(\"value\" => Any[WebIO.JSString(\"(function (txt){return this.k.render(txt,this.container)})\")]), WebIO.ConnectionPool(Channel{Any}(32), Set{WebIO.AbstractConnection}(), Base.GenericCondition{ReentrantLock}(Base.IntrusiveLinkedList{Task}(Task (runnable) @0x00007f354e2fe400, Task (runnable) @0x00007f354e2fe400), ReentrantLock(nothing, 0x00000000, 0x00, Base.GenericCondition{Base.Threads.SpinLock}(Base.IntrusiveLinkedList{Task}(nothing, nothing), Base.Threads.SpinLock(0)), (0, 139866785686896, 139866931196096)))), WebIO.JSString[WebIO.JSString(\"function () {\\n    var handler = ((function (k){this.k=k; this.container=this.dom.querySelector(\\\"#container\\\"); return k.render(\\\"\\\\\\\\;\\\\\\\\;\\\",this.container)}));\\n    (WebIO.importBlock({\\\"data\\\":[{\\\"name\\\":null,\\\"type\\\":\\\"js\\\",\\\"url\\\":\\\"/assetserver/dd22ed1bf1896c2748f3fe616ce0b838adc895c1-katex.min.js\\\"},{\\\"name\\\":null,\\\"type\\\":\\\"css\\\",\\\"url\\\":\\\"/assetserver/46517a424aa5e6cffc1360d7e0848b601c584ee3-katex.min.css\\\"}],\\\"type\\\":\\\"async_block\\\"})).then((imports) => handler.apply(this, imports));\\n}\\n\")])], Dict{Symbol, Any}(:className => \"interact-widget\")), WebIO.Node{WebIO.DOM}(WebIO.DOM(:html, :div), Any[WebIO.Scope(WebIO.Node{WebIO.DOM}(WebIO.DOM(:html, :button), Any[\"stop\"], Dict{Symbol, Any}(:attributes => Dict{Any, Any}(\"data-bind\" => \"click: function (){this.clicks(this.clicks()+1)}, css: {'is-loading' : loading}\"), :className => \"is-medium button is-primary\", :style => Dict{String, Any}())), Dict{String, Tuple{Observables.AbstractObservable, Union{Nothing, Bool}}}(\"loading\" => (Observable(false), nothing), \"clicks\" => (Observable(0), nothing)), Set{String}(), nothing, WebIO.Asset[WebIO.Asset(\"js\", \"knockout\", \"/home/dushya/.julia/packages/Knockout/HReiN/src/../assets/knockout.js\"), WebIO.Asset(\"js\", \"knockout_punches\", \"/home/dushya/.julia/packages/Knockout/HReiN/src/../assets/knockout_punches.js\"), WebIO.Asset(\"js\", nothing, \"/home/dushya/.julia/packages/InteractBase/LJXv3/src/../assets/all.js\"), WebIO.Asset(\"css\", nothing, \"/home/dushya/.julia/packages/InteractBase/LJXv3/src/../assets/style.css\"), WebIO.Asset(\"css\", nothing, \"/home/dushya/.julia/packages/Interact/PENUy/src/../assets/bulma_confined.min.css\")], Dict{Any, Any}(\"loading\" => Any[WebIO.JSString(\"(function (val){return (val!=this.model[\\\"loading\\\"]()) ? (this.valueFromJulia[\\\"loading\\\"]=true, this.model[\\\"loading\\\"](val)) : undefined})\")], \"clicks\" => Any[WebIO.JSString(\"(function (val){return (val!=this.model[\\\"clicks\\\"]()) ? (this.valueFromJulia[\\\"clicks\\\"]=true, this.model[\\\"clicks\\\"](val)) : undefined})\")]), WebIO.ConnectionPool(Channel{Any}(32), Set{WebIO.AbstractConnection}(), Base.GenericCondition{ReentrantLock}(Base.IntrusiveLinkedList{Task}(Task (runnable) @0x00007f354c3ebd00, Task (runnable) @0x00007f354c3ebd00), ReentrantLock(nothing, 0x00000000, 0x00, Base.GenericCondition{Base.Threads.SpinLock}(Base.IntrusiveLinkedList{Task}(nothing, nothing), Base.Threads.SpinLock(0)), (0, 105553116266496, 141733920768)))), WebIO.JSString[WebIO.JSString(\"function () {\\n    var handler = (function (ko, koPunches) {\\n    ko.punches.enableAll();\\n    ko.bindingHandlers.numericValue = {\\n        init: function(element, valueAccessor, allBindings, data, context) {\\n            var stringified = ko.observable(ko.unwrap(valueAccessor()));\\n            stringified.subscribe(function(value) {\\n                var val = parseFloat(value);\\n                if (!isNaN(val)) {\\n                    valueAccessor()(val);\\n                }\\n            });\\n            valueAccessor().subscribe(function(value) {\\n                var str = JSON.stringify(value);\\n                if ((str == \\\"0\\\") && ([\\\"-0\\\", \\\"-0.\\\"].indexOf(stringified()) >= 0))\\n                     return;\\n                 if ([\\\"null\\\", \\\"\\\"].indexOf(str) >= 0)\\n                     return;\\n                stringified(str);\\n            });\\n            ko.applyBindingsToNode(\\n                element,\\n                {\\n                    value: stringified,\\n                    valueUpdate: allBindings.get('valueUpdate'),\\n                },\\n                context,\\n            );\\n        }\\n    };\\n    var json_data = {\\\"loading\\\":WebIO.getval({\\\"name\\\":\\\"loading\\\",\\\"scope\\\":\\\"1075518869715648403\\\",\\\"id\\\":\\\"1435885916818662834\\\",\\\"type\\\":\\\"observable\\\"}),\\\"clicks\\\":WebIO.getval({\\\"name\\\":\\\"clicks\\\",\\\"scope\\\":\\\"1075518869715648403\\\",\\\"id\\\":\\\"17938574533824161466\\\",\\\"type\\\":\\\"observable\\\"})};\\n    var self = this;\\n    function AppViewModel() {\\n        for (var key in json_data) {\\n            var el = json_data[key];\\n            this[key] = Array.isArray(el) ? ko.observableArray(el) : ko.observable(el);\\n        }\\n        \\n        \\n        [this[\\\"loading\\\"].subscribe((function (val){!(this.valueFromJulia[\\\"loading\\\"]) ? (WebIO.setval({\\\"name\\\":\\\"loading\\\",\\\"scope\\\":\\\"1075518869715648403\\\",\\\"id\\\":\\\"1435885916818662834\\\",\\\"type\\\":\\\"observable\\\"},val)) : undefined; return this.valueFromJulia[\\\"loading\\\"]=false}),self),this[\\\"clicks\\\"].subscribe((function (val){!(this.valueFromJulia[\\\"clicks\\\"]) ? (WebIO.setval({\\\"name\\\":\\\"clicks\\\",\\\"scope\\\":\\\"1075518869715648403\\\",\\\"id\\\":\\\"17938574533824161466\\\",\\\"type\\\":\\\"observable\\\"},val)) : undefined; return this.valueFromJulia[\\\"clicks\\\"]=false}),self)]\\n        \\n    }\\n    self.model = new AppViewModel();\\n    self.valueFromJulia = {};\\n    for (var key in json_data) {\\n        self.valueFromJulia[key] = false;\\n    }\\n    ko.applyBindings(self.model, self.dom);\\n}\\n);\\n    (WebIO.importBlock({\\\"data\\\":[{\\\"name\\\":\\\"knockout\\\",\\\"type\\\":\\\"js\\\",\\\"url\\\":\\\"/assetserver/727383f2a47bd31570b7da84eee7b022dd6d7c78-knockout.js\\\"},{\\\"name\\\":\\\"knockout_punches\\\",\\\"type\\\":\\\"js\\\",\\\"url\\\":\\\"/assetserver/382b41b3b1bd9f26f75861d360bad7f8beea211f-knockout_punches.js\\\"}],\\\"type\\\":\\\"async_block\\\"})).then((imports) => handler.apply(this, imports));\\n}\\n\")])], Dict{Symbol, Any}(:className => \"field interact-widget\")), WebIO.Node{WebIO.DOM}(WebIO.DOM(:html, :div), Any[WebIO.Scope(WebIO.Node{WebIO.DOM}(WebIO.DOM(:html, :div), Any[], Dict{Symbol, Any}(:id => \"container\")), Dict{String, Tuple{Observables.AbstractObservable, Union{Nothing, Bool}}}(\"value\" => (Observable(\"\\\\;\\\\;\"), nothing)), Set{String}(), nothing, WebIO.Asset[WebIO.Asset(\"js\", nothing, \"/home/dushya/.julia/packages/InteractBase/LJXv3/src/../assets/katex.min.js\"), WebIO.Asset(\"css\", nothing, \"/home/dushya/.julia/packages/InteractBase/LJXv3/src/../assets/katex.min.css\")], Dict{Any, Any}(\"value\" => Any[WebIO.JSString(\"(function (txt){return this.k.render(txt,this.container)})\")]), WebIO.ConnectionPool(Channel{Any}(32), Set{WebIO.AbstractConnection}(), Base.GenericCondition{ReentrantLock}(Base.IntrusiveLinkedList{Task}(Task (runnable) @0x00007f354e2fe400, Task (runnable) @0x00007f354e2fe400), ReentrantLock(nothing, 0x00000000, 0x00, Base.GenericCondition{Base.Threads.SpinLock}(Base.IntrusiveLinkedList{Task}(nothing, nothing), Base.Threads.SpinLock(0)), (0, 139866785686896, 139866931196096)))), WebIO.JSString[WebIO.JSString(\"function () {\\n    var handler = ((function (k){this.k=k; this.container=this.dom.querySelector(\\\"#container\\\"); return k.render(\\\"\\\\\\\\;\\\\\\\\;\\\",this.container)}));\\n    (WebIO.importBlock({\\\"data\\\":[{\\\"name\\\":null,\\\"type\\\":\\\"js\\\",\\\"url\\\":\\\"/assetserver/dd22ed1bf1896c2748f3fe616ce0b838adc895c1-katex.min.js\\\"},{\\\"name\\\":null,\\\"type\\\":\\\"css\\\",\\\"url\\\":\\\"/assetserver/46517a424aa5e6cffc1360d7e0848b601c584ee3-katex.min.css\\\"}],\\\"type\\\":\\\"async_block\\\"})).then((imports) => handler.apply(this, imports));\\n}\\n\")])], Dict{Symbol, Any}(:className => \"interact-widget\")), WebIO.Node{WebIO.DOM}(WebIO.DOM(:html, :div), Any[WebIO.Scope(WebIO.Node{WebIO.DOM}(WebIO.DOM(:html, :button), Any[\"save\"], Dict{Symbol, Any}(:attributes => Dict{Any, Any}(\"data-bind\" => \"click: function (){this.clicks(this.clicks()+1)}, css: {'is-loading' : loading}\"), :className => \"is-medium button is-primary\", :style => Dict{String, Any}())), Dict{String, Tuple{Observables.AbstractObservable, Union{Nothing, Bool}}}(\"loading\" => (Observable(false), nothing), \"clicks\" => (Observable(0), nothing)), Set{String}(), nothing, WebIO.Asset[WebIO.Asset(\"js\", \"knockout\", \"/home/dushya/.julia/packages/Knockout/HReiN/src/../assets/knockout.js\"), WebIO.Asset(\"js\", \"knockout_punches\", \"/home/dushya/.julia/packages/Knockout/HReiN/src/../assets/knockout_punches.js\"), WebIO.Asset(\"js\", nothing, \"/home/dushya/.julia/packages/InteractBase/LJXv3/src/../assets/all.js\"), WebIO.Asset(\"css\", nothing, \"/home/dushya/.julia/packages/InteractBase/LJXv3/src/../assets/style.css\"), WebIO.Asset(\"css\", nothing, \"/home/dushya/.julia/packages/Interact/PENUy/src/../assets/bulma_confined.min.css\")], Dict{Any, Any}(\"loading\" => Any[WebIO.JSString(\"(function (val){return (val!=this.model[\\\"loading\\\"]()) ? (this.valueFromJulia[\\\"loading\\\"]=true, this.model[\\\"loading\\\"](val)) : undefined})\")], \"clicks\" => Any[WebIO.JSString(\"(function (val){return (val!=this.model[\\\"clicks\\\"]()) ? (this.valueFromJulia[\\\"clicks\\\"]=true, this.model[\\\"clicks\\\"](val)) : undefined})\")]), WebIO.ConnectionPool(Channel{Any}(32), Set{WebIO.AbstractConnection}(), Base.GenericCondition{ReentrantLock}(Base.IntrusiveLinkedList{Task}(Task (runnable) @0x00007f354c51ed60, Task (runnable) @0x00007f354c51ed60), ReentrantLock(nothing, 0x00000000, 0x00, Base.GenericCondition{Base.Threads.SpinLock}(Base.IntrusiveLinkedList{Task}(nothing, nothing), Base.Threads.SpinLock(0)), (0, 139866787615632, 0)))), WebIO.JSString[WebIO.JSString(\"function () {\\n    var handler = (function (ko, koPunches) {\\n    ko.punches.enableAll();\\n    ko.bindingHandlers.numericValue = {\\n        init: function(element, valueAccessor, allBindings, data, context) {\\n            var stringified = ko.observable(ko.unwrap(valueAccessor()));\\n            stringified.subscribe(function(value) {\\n                var val = parseFloat(value);\\n                if (!isNaN(val)) {\\n                    valueAccessor()(val);\\n                }\\n            });\\n            valueAccessor().subscribe(function(value) {\\n                var str = JSON.stringify(value);\\n                if ((str == \\\"0\\\") && ([\\\"-0\\\", \\\"-0.\\\"].indexOf(stringified()) >= 0))\\n                     return;\\n                 if ([\\\"null\\\", \\\"\\\"].indexOf(str) >= 0)\\n                     return;\\n                stringified(str);\\n            });\\n            ko.applyBindingsToNode(\\n                element,\\n                {\\n                    value: stringified,\\n                    valueUpdate: allBindings.get('valueUpdate'),\\n                },\\n                context,\\n            );\\n        }\\n    };\\n    var json_data = {\\\"loading\\\":WebIO.getval({\\\"name\\\":\\\"loading\\\",\\\"scope\\\":\\\"10754000459103911353\\\",\\\"id\\\":\\\"7293535473736320510\\\",\\\"type\\\":\\\"observable\\\"}),\\\"clicks\\\":WebIO.getval({\\\"name\\\":\\\"clicks\\\",\\\"scope\\\":\\\"10754000459103911353\\\",\\\"id\\\":\\\"17545617876114614367\\\",\\\"type\\\":\\\"observable\\\"})};\\n    var self = this;\\n    function AppViewModel() {\\n        for (var key in json_data) {\\n            var el = json_data[key];\\n            this[key] = Array.isArray(el) ? ko.observableArray(el) : ko.observable(el);\\n        }\\n        \\n        \\n        [this[\\\"loading\\\"].subscribe((function (val){!(this.valueFromJulia[\\\"loading\\\"]) ? (WebIO.setval({\\\"name\\\":\\\"loading\\\",\\\"scope\\\":\\\"10754000459103911353\\\",\\\"id\\\":\\\"7293535473736320510\\\",\\\"type\\\":\\\"observable\\\"},val)) : undefined; return this.valueFromJulia[\\\"loading\\\"]=false}),self),this[\\\"clicks\\\"].subscribe((function (val){!(this.valueFromJulia[\\\"clicks\\\"]) ? (WebIO.setval({\\\"name\\\":\\\"clicks\\\",\\\"scope\\\":\\\"10754000459103911353\\\",\\\"id\\\":\\\"17545617876114614367\\\",\\\"type\\\":\\\"observable\\\"},val)) : undefined; return this.valueFromJulia[\\\"clicks\\\"]=false}),self)]\\n        \\n    }\\n    self.model = new AppViewModel();\\n    self.valueFromJulia = {};\\n    for (var key in json_data) {\\n        self.valueFromJulia[key] = false;\\n    }\\n    ko.applyBindings(self.model, self.dom);\\n}\\n);\\n    (WebIO.importBlock({\\\"data\\\":[{\\\"name\\\":\\\"knockout\\\",\\\"type\\\":\\\"js\\\",\\\"url\\\":\\\"/assetserver/727383f2a47bd31570b7da84eee7b022dd6d7c78-knockout.js\\\"},{\\\"name\\\":\\\"knockout_punches\\\",\\\"type\\\":\\\"js\\\",\\\"url\\\":\\\"/assetserver/382b41b3b1bd9f26f75861d360bad7f8beea211f-knockout_punches.js\\\"}],\\\"type\\\":\\\"async_block\\\"})).then((imports) => handler.apply(this, imports));\\n}\\n\")])], Dict{Symbol, Any}(:className => \"field interact-widget\"))], Dict{Symbol, Any}(:style => Dict(\"display\" => \"flex\", \"flex-direction\" => \"row\")))], Dict{Symbol, Any}(:style => Dict(\"display\" => \"flex\", \"flex-direction\" => \"column\"))), WebIO.Node{WebIO.DOM}(WebIO.DOM(:html, :div), Any[WebIO.Scope(WebIO.Node{WebIO.DOM}(WebIO.DOM(:html, :div), Any[], Dict{Symbol, Any}(:id => \"container\")), Dict{String, Tuple{Observables.AbstractObservable, Union{Nothing, Bool}}}(\"value\" => (Observable(\"\\\\;\\\\;\"), nothing)), Set{String}(), nothing, WebIO.Asset[WebIO.Asset(\"js\", nothing, \"/home/dushya/.julia/packages/InteractBase/LJXv3/src/../assets/katex.min.js\"), WebIO.Asset(\"css\", nothing, \"/home/dushya/.julia/packages/InteractBase/LJXv3/src/../assets/katex.min.css\")], Dict{Any, Any}(\"value\" => Any[WebIO.JSString(\"(function (txt){return this.k.render(txt,this.container)})\")]), WebIO.ConnectionPool(Channel{Any}(32), Set{WebIO.AbstractConnection}(), Base.GenericCondition{ReentrantLock}(Base.IntrusiveLinkedList{Task}(Task (runnable) @0x00007f354e2fe400, Task (runnable) @0x00007f354e2fe400), ReentrantLock(nothing, 0x00000000, 0x00, Base.GenericCondition{Base.Threads.SpinLock}(Base.IntrusiveLinkedList{Task}(nothing, nothing), Base.Threads.SpinLock(0)), (0, 139866785686896, 139866931196096)))), WebIO.JSString[WebIO.JSString(\"function () {\\n    var handler = ((function (k){this.k=k; this.container=this.dom.querySelector(\\\"#container\\\"); return k.render(\\\"\\\\\\\\;\\\\\\\\;\\\",this.container)}));\\n    (WebIO.importBlock({\\\"data\\\":[{\\\"name\\\":null,\\\"type\\\":\\\"js\\\",\\\"url\\\":\\\"/assetserver/dd22ed1bf1896c2748f3fe616ce0b838adc895c1-katex.min.js\\\"},{\\\"name\\\":null,\\\"type\\\":\\\"css\\\",\\\"url\\\":\\\"/assetserver/46517a424aa5e6cffc1360d7e0848b601c584ee3-katex.min.css\\\"}],\\\"type\\\":\\\"async_block\\\"})).then((imports) => handler.apply(this, imports));\\n}\\n\")])], Dict{Symbol, Any}(:className => \"interact-widget\")), Observable(Luxor.Drawing(430.0, 430.0, \"\", Cairo.CairoSurfaceBase{UInt32}(Ptr{Nothing} @0x0000000000000000, 430.0, 430.0), Cairo.CairoContext(Ptr{Nothing} @0x00000000063e8290, Cairo.CairoSurfaceBase{UInt32}(Ptr{Nothing} @0x0000000000000000, 430.0, 430.0), Ptr{Nothing} @0x0000000004a84d50), :png, 0.0, 0.0, 0.0, 1.0, IOBuffer(data=UInt8[...], readable=true, writable=true, seekable=true, append=false, size=1564, maxsize=Inf, ptr=1565, mark=-1), UInt8[0x89, 0x50, 0x4e, 0x47, 0x0d, 0x0a, 0x1a, 0x0a, 0x00, 0x00  …  0x00, 0x00, 0x49, 0x45, 0x4e, 0x44, 0xae, 0x42, 0x60, 0x82], false)), WebIO.Node{WebIO.DOM}(WebIO.DOM(:html, :div), Any[WebIO.Scope(WebIO.Node{WebIO.DOM}(WebIO.DOM(:html, :div), Any[], Dict{Symbol, Any}(:id => \"container\")), Dict{String, Tuple{Observables.AbstractObservable, Union{Nothing, Bool}}}(\"value\" => (Observable(\"\\\\;\\\\;\"), nothing)), Set{String}(), nothing, WebIO.Asset[WebIO.Asset(\"js\", nothing, \"/home/dushya/.julia/packages/InteractBase/LJXv3/src/../assets/katex.min.js\"), WebIO.Asset(\"css\", nothing, \"/home/dushya/.julia/packages/InteractBase/LJXv3/src/../assets/katex.min.css\")], Dict{Any, Any}(\"value\" => Any[WebIO.JSString(\"(function (txt){return this.k.render(txt,this.container)})\")]), WebIO.ConnectionPool(Channel{Any}(32), Set{WebIO.AbstractConnection}(), Base.GenericCondition{ReentrantLock}(Base.IntrusiveLinkedList{Task}(Task (runnable) @0x00007f354e2fe400, Task (runnable) @0x00007f354e2fe400), ReentrantLock(nothing, 0x00000000, 0x00, Base.GenericCondition{Base.Threads.SpinLock}(Base.IntrusiveLinkedList{Task}(nothing, nothing), Base.Threads.SpinLock(0)), (0, 139866785686896, 139866931196096)))), WebIO.JSString[WebIO.JSString(\"function () {\\n    var handler = ((function (k){this.k=k; this.container=this.dom.querySelector(\\\"#container\\\"); return k.render(\\\"\\\\\\\\;\\\\\\\\;\\\",this.container)}));\\n    (WebIO.importBlock({\\\"data\\\":[{\\\"name\\\":null,\\\"type\\\":\\\"js\\\",\\\"url\\\":\\\"/assetserver/dd22ed1bf1896c2748f3fe616ce0b838adc895c1-katex.min.js\\\"},{\\\"name\\\":null,\\\"type\\\":\\\"css\\\",\\\"url\\\":\\\"/assetserver/46517a424aa5e6cffc1360d7e0848b601c584ee3-katex.min.css\\\"}],\\\"type\\\":\\\"async_block\\\"})).then((imports) => handler.apply(this, imports));\\n}\\n\")])], Dict{Symbol, Any}(:className => \"interact-widget\")), WebIO.Node{WebIO.DOM}(WebIO.DOM(:html, :div), Any[], Dict{Symbol, Any}(:style => Dict(\"display\" => \"flex\", \"flex-direction\" => \"column\")))], Dict{Symbol, Any}(:style => Dict(\"display\" => \"flex\", \"flex-direction\" => \"row\")))], Dict{Symbol, Any}(:style => Dict(\"display\" => \"flex\", \"flex-direction\" => \"column\")))"
      ]
     },
     "execution_count": 11,
     "metadata": {
      "application/vnd.webio.node+json": {
       "kernelId": "a095ab2e-6231-4385-a2c1-7658f186d82b"
      }
     },
     "output_type": "execute_result"
    }
   ],
   "source": [
    "animate_sim(model)"
   ]
  },
  {
   "cell_type": "markdown",
   "metadata": {},
   "source": [
    "Instead of first running the model, we can create an interactive app in Jupyter notebook to explore the model by setting different values of parameters, as shown below. Here, the `model_control` argument asks EasyABM to create a slider with values from 1 to 5 in steps of 0.2 for the model parameter `gravity`. The agent_controls argument creates a slider for the x component of planet's initial velocity. The tail argument attaches a tail of length 30 with the planet by selecting it with its color property which we previously set to `cl\"blue\"`. "
   ]
  },
  {
   "cell_type": "code",
   "execution_count": 12,
   "metadata": {
    "scrolled": true
   },
   "outputs": [
    {
     "data": {
      "application/vnd.webio.node+json": {
       "children": [
        {
         "children": [
          {
           "children": [
            {
             "children": [
              {
               "children": [
                {
                 "children": [
                  {
                   "children": [
                    {
                     "children": [
                      "time"
                     ],
                     "instanceArgs": {
                      "namespace": "html",
                      "tag": "label"
                     },
                     "nodeType": "DOM",
                     "props": {
                      "className": "interact ",
                      "style": {
                       "padding": "5px 10px 0px 10px"
                      }
                     },
                     "type": "node"
                    }
                   ],
                   "instanceArgs": {
                    "namespace": "html",
                    "tag": "div"
                   },
                   "nodeType": "DOM",
                   "props": {
                    "className": "interact-flex-row-left"
                   },
                   "type": "node"
                  },
                  {
                   "children": [
                    {
                     "children": [],
                     "instanceArgs": {
                      "namespace": "html",
                      "tag": "input"
                     },
                     "nodeType": "DOM",
                     "props": {
                      "attributes": {
                       "data-bind": "numericValue: index, valueUpdate: 'input', event: {change: function (){this.changes(this.changes()+1)}}",
                       "orient": "horizontal",
                       "type": "range"
                      },
                      "className": "slider slider is-fullwidth",
                      "max": 200,
                      "min": 1,
                      "step": 1,
                      "style": {}
                     },
                     "type": "node"
                    }
                   ],
                   "instanceArgs": {
                    "namespace": "html",
                    "tag": "div"
                   },
                   "nodeType": "DOM",
                   "props": {
                    "className": "interact-flex-row-center"
                   },
                   "type": "node"
                  },
                  {
                   "children": [
                    {
                     "children": [],
                     "instanceArgs": {
                      "namespace": "html",
                      "tag": "p"
                     },
                     "nodeType": "DOM",
                     "props": {
                      "attributes": {
                       "data-bind": "text: formatted_val"
                      }
                     },
                     "type": "node"
                    }
                   ],
                   "instanceArgs": {
                    "namespace": "html",
                    "tag": "div"
                   },
                   "nodeType": "DOM",
                   "props": {
                    "className": "interact-flex-row-right"
                   },
                   "type": "node"
                  }
                 ],
                 "instanceArgs": {
                  "namespace": "html",
                  "tag": "div"
                 },
                 "nodeType": "DOM",
                 "props": {
                  "className": "interact-flex-row interact-widget"
                 },
                 "type": "node"
                }
               ],
               "instanceArgs": {
                "handlers": {
                 "changes": [
                  "(function (val){return (val!=this.model[\"changes\"]()) ? (this.valueFromJulia[\"changes\"]=true, this.model[\"changes\"](val)) : undefined})"
                 ],
                 "index": [
                  "(function (val){return (val!=this.model[\"index\"]()) ? (this.valueFromJulia[\"index\"]=true, this.model[\"index\"](val)) : undefined})"
                 ]
                },
                "id": "2940939504953961307",
                "imports": {
                 "data": [
                  {
                   "name": "knockout",
                   "type": "js",
                   "url": "/assetserver/727383f2a47bd31570b7da84eee7b022dd6d7c78-knockout.js"
                  },
                  {
                   "name": "knockout_punches",
                   "type": "js",
                   "url": "/assetserver/382b41b3b1bd9f26f75861d360bad7f8beea211f-knockout_punches.js"
                  },
                  {
                   "name": null,
                   "type": "js",
                   "url": "/assetserver/5ab20f1060420992a9b82a65b735dee4d81ef413-all.js"
                  },
                  {
                   "name": null,
                   "type": "css",
                   "url": "/assetserver/1cc0ed62837210b80a182cc3676512f895dab686-style.css"
                  },
                  {
                   "name": null,
                   "type": "css",
                   "url": "/assetserver/2eee816f616df3549d7044d45e744fbf8d42bfa1-bulma_confined.min.css"
                  }
                 ],
                 "type": "async_block"
                },
                "mount_callbacks": [
                 "function () {\n    var handler = (function (ko, koPunches) {\n    ko.punches.enableAll();\n    ko.bindingHandlers.numericValue = {\n        init: function(element, valueAccessor, allBindings, data, context) {\n            var stringified = ko.observable(ko.unwrap(valueAccessor()));\n            stringified.subscribe(function(value) {\n                var val = parseFloat(value);\n                if (!isNaN(val)) {\n                    valueAccessor()(val);\n                }\n            });\n            valueAccessor().subscribe(function(value) {\n                var str = JSON.stringify(value);\n                if ((str == \"0\") && ([\"-0\", \"-0.\"].indexOf(stringified()) >= 0))\n                     return;\n                 if ([\"null\", \"\"].indexOf(str) >= 0)\n                     return;\n                stringified(str);\n            });\n            ko.applyBindingsToNode(\n                element,\n                {\n                    value: stringified,\n                    valueUpdate: allBindings.get('valueUpdate'),\n                },\n                context,\n            );\n        }\n    };\n    var json_data = {\"formatted_vals\":[\"1\",\"2\",\"3\",\"4\",\"5\",\"6\",\"7\",\"8\",\"9\",\"10\",\"11\",\"12\",\"13\",\"14\",\"15\",\"16\",\"17\",\"18\",\"19\",\"20\",\"21\",\"22\",\"23\",\"24\",\"25\",\"26\",\"27\",\"28\",\"29\",\"30\",\"31\",\"32\",\"33\",\"34\",\"35\",\"36\",\"37\",\"38\",\"39\",\"40\",\"41\",\"42\",\"43\",\"44\",\"45\",\"46\",\"47\",\"48\",\"49\",\"50\",\"51\",\"52\",\"53\",\"54\",\"55\",\"56\",\"57\",\"58\",\"59\",\"60\",\"61\",\"62\",\"63\",\"64\",\"65\",\"66\",\"67\",\"68\",\"69\",\"70\",\"71\",\"72\",\"73\",\"74\",\"75\",\"76\",\"77\",\"78\",\"79\",\"80\",\"81\",\"82\",\"83\",\"84\",\"85\",\"86\",\"87\",\"88\",\"89\",\"90\",\"91\",\"92\",\"93\",\"94\",\"95\",\"96\",\"97\",\"98\",\"99\",\"100\",\"101\",\"102\",\"103\",\"104\",\"105\",\"106\",\"107\",\"108\",\"109\",\"110\",\"111\",\"112\",\"113\",\"114\",\"115\",\"116\",\"117\",\"118\",\"119\",\"120\",\"121\",\"122\",\"123\",\"124\",\"125\",\"126\",\"127\",\"128\",\"129\",\"130\",\"131\",\"132\",\"133\",\"134\",\"135\",\"136\",\"137\",\"138\",\"139\",\"140\",\"141\",\"142\",\"143\",\"144\",\"145\",\"146\",\"147\",\"148\",\"149\",\"150\",\"151\",\"152\",\"153\",\"154\",\"155\",\"156\",\"157\",\"158\",\"159\",\"160\",\"161\",\"162\",\"163\",\"164\",\"165\",\"166\",\"167\",\"168\",\"169\",\"170\",\"171\",\"172\",\"173\",\"174\",\"175\",\"176\",\"177\",\"178\",\"179\",\"180\",\"181\",\"182\",\"183\",\"184\",\"185\",\"186\",\"187\",\"188\",\"189\",\"190\",\"191\",\"192\",\"193\",\"194\",\"195\",\"196\",\"197\",\"198\",\"199\",\"200\"],\"changes\":WebIO.getval({\"name\":\"changes\",\"scope\":\"2940939504953961307\",\"id\":\"12399165649067750126\",\"type\":\"observable\"}),\"index\":WebIO.getval({\"name\":\"index\",\"scope\":\"2940939504953961307\",\"id\":\"5489032090183613323\",\"type\":\"observable\"})};\n    var self = this;\n    function AppViewModel() {\n        for (var key in json_data) {\n            var el = json_data[key];\n            this[key] = Array.isArray(el) ? ko.observableArray(el) : ko.observable(el);\n        }\n        \n        [this[\"formatted_val\"]=ko.computed(    function(){\n        return this.formatted_vals()[parseInt(this.index())-(1)];\n    }\n,this)]\n        [this[\"changes\"].subscribe((function (val){!(this.valueFromJulia[\"changes\"]) ? (WebIO.setval({\"name\":\"changes\",\"scope\":\"2940939504953961307\",\"id\":\"12399165649067750126\",\"type\":\"observable\"},val)) : undefined; return this.valueFromJulia[\"changes\"]=false}),self),this[\"index\"].subscribe((function (val){!(this.valueFromJulia[\"index\"]) ? (WebIO.setval({\"name\":\"index\",\"scope\":\"2940939504953961307\",\"id\":\"5489032090183613323\",\"type\":\"observable\"},val)) : undefined; return this.valueFromJulia[\"index\"]=false}),self)]\n        \n    }\n    self.model = new AppViewModel();\n    self.valueFromJulia = {};\n    for (var key in json_data) {\n        self.valueFromJulia[key] = false;\n    }\n    ko.applyBindings(self.model, self.dom);\n}\n);\n    (WebIO.importBlock({\"data\":[{\"name\":\"knockout\",\"type\":\"js\",\"url\":\"/assetserver/727383f2a47bd31570b7da84eee7b022dd6d7c78-knockout.js\"},{\"name\":\"knockout_punches\",\"type\":\"js\",\"url\":\"/assetserver/382b41b3b1bd9f26f75861d360bad7f8beea211f-knockout_punches.js\"}],\"type\":\"async_block\"})).then((imports) => handler.apply(this, imports));\n}\n"
                ],
                "observables": {
                 "changes": {
                  "id": "12399165649067750126",
                  "sync": false,
                  "value": 0
                 },
                 "index": {
                  "id": "5489032090183613323",
                  "sync": true,
                  "value": 1
                 }
                },
                "systemjs_options": null
               },
               "nodeType": "Scope",
               "props": {},
               "type": "node"
              }
             ],
             "instanceArgs": {
              "namespace": "html",
              "tag": "div"
             },
             "nodeType": "DOM",
             "props": {
              "className": "field interact-widget"
             },
             "type": "node"
            },
            {
             "children": [
              {
               "children": [
                {
                 "children": [
                  {
                   "children": [
                    {
                     "children": [
                      "scale"
                     ],
                     "instanceArgs": {
                      "namespace": "html",
                      "tag": "label"
                     },
                     "nodeType": "DOM",
                     "props": {
                      "className": "interact ",
                      "style": {
                       "padding": "5px 10px 0px 10px"
                      }
                     },
                     "type": "node"
                    }
                   ],
                   "instanceArgs": {
                    "namespace": "html",
                    "tag": "div"
                   },
                   "nodeType": "DOM",
                   "props": {
                    "className": "interact-flex-row-left"
                   },
                   "type": "node"
                  },
                  {
                   "children": [
                    {
                     "children": [],
                     "instanceArgs": {
                      "namespace": "html",
                      "tag": "input"
                     },
                     "nodeType": "DOM",
                     "props": {
                      "attributes": {
                       "data-bind": "numericValue: index, valueUpdate: 'input', event: {change: function (){this.changes(this.changes()+1)}}",
                       "orient": "horizontal",
                       "type": "range"
                      },
                      "className": "slider slider is-fullwidth",
                      "max": 20,
                      "min": 1,
                      "step": 1,
                      "style": {}
                     },
                     "type": "node"
                    }
                   ],
                   "instanceArgs": {
                    "namespace": "html",
                    "tag": "div"
                   },
                   "nodeType": "DOM",
                   "props": {
                    "className": "interact-flex-row-center"
                   },
                   "type": "node"
                  },
                  {
                   "children": [
                    {
                     "children": [],
                     "instanceArgs": {
                      "namespace": "html",
                      "tag": "p"
                     },
                     "nodeType": "DOM",
                     "props": {
                      "attributes": {
                       "data-bind": "text: formatted_val"
                      }
                     },
                     "type": "node"
                    }
                   ],
                   "instanceArgs": {
                    "namespace": "html",
                    "tag": "div"
                   },
                   "nodeType": "DOM",
                   "props": {
                    "className": "interact-flex-row-right"
                   },
                   "type": "node"
                  }
                 ],
                 "instanceArgs": {
                  "namespace": "html",
                  "tag": "div"
                 },
                 "nodeType": "DOM",
                 "props": {
                  "className": "interact-flex-row interact-widget"
                 },
                 "type": "node"
                }
               ],
               "instanceArgs": {
                "handlers": {
                 "changes": [
                  "(function (val){return (val!=this.model[\"changes\"]()) ? (this.valueFromJulia[\"changes\"]=true, this.model[\"changes\"](val)) : undefined})"
                 ],
                 "index": [
                  "(function (val){return (val!=this.model[\"index\"]()) ? (this.valueFromJulia[\"index\"]=true, this.model[\"index\"](val)) : undefined})"
                 ]
                },
                "id": "10940133024497881905",
                "imports": {
                 "data": [
                  {
                   "name": "knockout",
                   "type": "js",
                   "url": "/assetserver/727383f2a47bd31570b7da84eee7b022dd6d7c78-knockout.js"
                  },
                  {
                   "name": "knockout_punches",
                   "type": "js",
                   "url": "/assetserver/382b41b3b1bd9f26f75861d360bad7f8beea211f-knockout_punches.js"
                  },
                  {
                   "name": null,
                   "type": "js",
                   "url": "/assetserver/5ab20f1060420992a9b82a65b735dee4d81ef413-all.js"
                  },
                  {
                   "name": null,
                   "type": "css",
                   "url": "/assetserver/1cc0ed62837210b80a182cc3676512f895dab686-style.css"
                  },
                  {
                   "name": null,
                   "type": "css",
                   "url": "/assetserver/2eee816f616df3549d7044d45e744fbf8d42bfa1-bulma_confined.min.css"
                  }
                 ],
                 "type": "async_block"
                },
                "mount_callbacks": [
                 "function () {\n    var handler = (function (ko, koPunches) {\n    ko.punches.enableAll();\n    ko.bindingHandlers.numericValue = {\n        init: function(element, valueAccessor, allBindings, data, context) {\n            var stringified = ko.observable(ko.unwrap(valueAccessor()));\n            stringified.subscribe(function(value) {\n                var val = parseFloat(value);\n                if (!isNaN(val)) {\n                    valueAccessor()(val);\n                }\n            });\n            valueAccessor().subscribe(function(value) {\n                var str = JSON.stringify(value);\n                if ((str == \"0\") && ([\"-0\", \"-0.\"].indexOf(stringified()) >= 0))\n                     return;\n                 if ([\"null\", \"\"].indexOf(str) >= 0)\n                     return;\n                stringified(str);\n            });\n            ko.applyBindingsToNode(\n                element,\n                {\n                    value: stringified,\n                    valueUpdate: allBindings.get('valueUpdate'),\n                },\n                context,\n            );\n        }\n    };\n    var json_data = {\"formatted_vals\":[\"0.1\",\"0.2\",\"0.3\",\"0.4\",\"0.5\",\"0.6\",\"0.7\",\"0.8\",\"0.9\",\"1.0\",\"1.1\",\"1.2\",\"1.3\",\"1.4\",\"1.5\",\"1.6\",\"1.7\",\"1.8\",\"1.9\",\"2.0\"],\"changes\":WebIO.getval({\"name\":\"changes\",\"scope\":\"10940133024497881905\",\"id\":\"10647444817610601937\",\"type\":\"observable\"}),\"index\":WebIO.getval({\"name\":\"index\",\"scope\":\"10940133024497881905\",\"id\":\"13360757210172374018\",\"type\":\"observable\"})};\n    var self = this;\n    function AppViewModel() {\n        for (var key in json_data) {\n            var el = json_data[key];\n            this[key] = Array.isArray(el) ? ko.observableArray(el) : ko.observable(el);\n        }\n        \n        [this[\"formatted_val\"]=ko.computed(    function(){\n        return this.formatted_vals()[parseInt(this.index())-(1)];\n    }\n,this)]\n        [this[\"changes\"].subscribe((function (val){!(this.valueFromJulia[\"changes\"]) ? (WebIO.setval({\"name\":\"changes\",\"scope\":\"10940133024497881905\",\"id\":\"10647444817610601937\",\"type\":\"observable\"},val)) : undefined; return this.valueFromJulia[\"changes\"]=false}),self),this[\"index\"].subscribe((function (val){!(this.valueFromJulia[\"index\"]) ? (WebIO.setval({\"name\":\"index\",\"scope\":\"10940133024497881905\",\"id\":\"13360757210172374018\",\"type\":\"observable\"},val)) : undefined; return this.valueFromJulia[\"index\"]=false}),self)]\n        \n    }\n    self.model = new AppViewModel();\n    self.valueFromJulia = {};\n    for (var key in json_data) {\n        self.valueFromJulia[key] = false;\n    }\n    ko.applyBindings(self.model, self.dom);\n}\n);\n    (WebIO.importBlock({\"data\":[{\"name\":\"knockout\",\"type\":\"js\",\"url\":\"/assetserver/727383f2a47bd31570b7da84eee7b022dd6d7c78-knockout.js\"},{\"name\":\"knockout_punches\",\"type\":\"js\",\"url\":\"/assetserver/382b41b3b1bd9f26f75861d360bad7f8beea211f-knockout_punches.js\"}],\"type\":\"async_block\"})).then((imports) => handler.apply(this, imports));\n}\n"
                ],
                "observables": {
                 "changes": {
                  "id": "10647444817610601937",
                  "sync": false,
                  "value": 0
                 },
                 "index": {
                  "id": "13360757210172374018",
                  "sync": true,
                  "value": 10
                 }
                },
                "systemjs_options": null
               },
               "nodeType": "Scope",
               "props": {},
               "type": "node"
              }
             ],
             "instanceArgs": {
              "namespace": "html",
              "tag": "div"
             },
             "nodeType": "DOM",
             "props": {
              "className": "field interact-widget"
             },
             "type": "node"
            },
            {
             "children": [
              {
               "children": [
                {
                 "children": [
                  {
                   "children": [
                    {
                     "children": [
                      {
                       "children": [
                        "vel"
                       ],
                       "instanceArgs": {
                        "namespace": "html",
                        "tag": "label"
                       },
                       "nodeType": "DOM",
                       "props": {
                        "className": "interact ",
                        "style": {
                         "padding": "5px 10px 0px 10px"
                        }
                       },
                       "type": "node"
                      }
                     ],
                     "instanceArgs": {
                      "namespace": "html",
                      "tag": "div"
                     },
                     "nodeType": "DOM",
                     "props": {
                      "className": "interact-flex-row-left"
                     },
                     "type": "node"
                    },
                    {
                     "children": [
                      {
                       "children": [],
                       "instanceArgs": {
                        "namespace": "html",
                        "tag": "input"
                       },
                       "nodeType": "DOM",
                       "props": {
                        "attributes": {
                         "data-bind": "numericValue: index, valueUpdate: 'input', event: {change: function (){this.changes(this.changes()+1)}}",
                         "orient": "horizontal",
                         "type": "range"
                        },
                        "className": "slider slider is-fullwidth",
                        "max": 151,
                        "min": 1,
                        "step": 1,
                        "style": {}
                       },
                       "type": "node"
                      }
                     ],
                     "instanceArgs": {
                      "namespace": "html",
                      "tag": "div"
                     },
                     "nodeType": "DOM",
                     "props": {
                      "className": "interact-flex-row-center"
                     },
                     "type": "node"
                    },
                    {
                     "children": [
                      {
                       "children": [],
                       "instanceArgs": {
                        "namespace": "html",
                        "tag": "p"
                       },
                       "nodeType": "DOM",
                       "props": {
                        "attributes": {
                         "data-bind": "text: formatted_val"
                        }
                       },
                       "type": "node"
                      }
                     ],
                     "instanceArgs": {
                      "namespace": "html",
                      "tag": "div"
                     },
                     "nodeType": "DOM",
                     "props": {
                      "className": "interact-flex-row-right"
                     },
                     "type": "node"
                    }
                   ],
                   "instanceArgs": {
                    "namespace": "html",
                    "tag": "div"
                   },
                   "nodeType": "DOM",
                   "props": {
                    "className": "interact-flex-row interact-widget"
                   },
                   "type": "node"
                  }
                 ],
                 "instanceArgs": {
                  "handlers": {
                   "changes": [
                    "(function (val){return (val!=this.model[\"changes\"]()) ? (this.valueFromJulia[\"changes\"]=true, this.model[\"changes\"](val)) : undefined})"
                   ],
                   "index": [
                    "(function (val){return (val!=this.model[\"index\"]()) ? (this.valueFromJulia[\"index\"]=true, this.model[\"index\"](val)) : undefined})"
                   ]
                  },
                  "id": "6301508558890833542",
                  "imports": {
                   "data": [
                    {
                     "name": "knockout",
                     "type": "js",
                     "url": "/assetserver/727383f2a47bd31570b7da84eee7b022dd6d7c78-knockout.js"
                    },
                    {
                     "name": "knockout_punches",
                     "type": "js",
                     "url": "/assetserver/382b41b3b1bd9f26f75861d360bad7f8beea211f-knockout_punches.js"
                    },
                    {
                     "name": null,
                     "type": "js",
                     "url": "/assetserver/5ab20f1060420992a9b82a65b735dee4d81ef413-all.js"
                    },
                    {
                     "name": null,
                     "type": "css",
                     "url": "/assetserver/1cc0ed62837210b80a182cc3676512f895dab686-style.css"
                    },
                    {
                     "name": null,
                     "type": "css",
                     "url": "/assetserver/2eee816f616df3549d7044d45e744fbf8d42bfa1-bulma_confined.min.css"
                    }
                   ],
                   "type": "async_block"
                  },
                  "mount_callbacks": [
                   "function () {\n    var handler = (function (ko, koPunches) {\n    ko.punches.enableAll();\n    ko.bindingHandlers.numericValue = {\n        init: function(element, valueAccessor, allBindings, data, context) {\n            var stringified = ko.observable(ko.unwrap(valueAccessor()));\n            stringified.subscribe(function(value) {\n                var val = parseFloat(value);\n                if (!isNaN(val)) {\n                    valueAccessor()(val);\n                }\n            });\n            valueAccessor().subscribe(function(value) {\n                var str = JSON.stringify(value);\n                if ((str == \"0\") && ([\"-0\", \"-0.\"].indexOf(stringified()) >= 0))\n                     return;\n                 if ([\"null\", \"\"].indexOf(str) >= 0)\n                     return;\n                stringified(str);\n            });\n            ko.applyBindingsToNode(\n                element,\n                {\n                    value: stringified,\n                    valueUpdate: allBindings.get('valueUpdate'),\n                },\n                context,\n            );\n        }\n    };\n    var json_data = {\"formatted_vals\":[\"(-10.0, 0.0)\\n\",\"(-9.9, 0.0)\\n\",\"(-9.8, 0.0)\\n\",\"(-9.7, 0.0)\\n\",\"(-9.6, 0.0)\\n\",\"(-9.5, 0.0)\\n\",\"(-9.4, 0.0)\\n\",\"(-9.3, 0.0)\\n\",\"(-9.2, 0.0)\\n\",\"(-9.1, 0.0)\\n\",\"(-9.0, 0.0)\\n\",\"(-8.9, 0.0)\\n\",\"(-8.8, 0.0)\\n\",\"(-8.7, 0.0)\\n\",\"(-8.6, 0.0)\\n\",\"(-8.5, 0.0)\\n\",\"(-8.4, 0.0)\\n\",\"(-8.3, 0.0)\\n\",\"(-8.2, 0.0)\\n\",\"(-8.1, 0.0)\\n\",\"(-8.0, 0.0)\\n\",\"(-7.9, 0.0)\\n\",\"(-7.8, 0.0)\\n\",\"(-7.7, 0.0)\\n\",\"(-7.6, 0.0)\\n\",\"(-7.5, 0.0)\\n\",\"(-7.4, 0.0)\\n\",\"(-7.3, 0.0)\\n\",\"(-7.2, 0.0)\\n\",\"(-7.1, 0.0)\\n\",\"(-7.0, 0.0)\\n\",\"(-6.9, 0.0)\\n\",\"(-6.8, 0.0)\\n\",\"(-6.7, 0.0)\\n\",\"(-6.6, 0.0)\\n\",\"(-6.5, 0.0)\\n\",\"(-6.4, 0.0)\\n\",\"(-6.3, 0.0)\\n\",\"(-6.2, 0.0)\\n\",\"(-6.1, 0.0)\\n\",\"(-6.0, 0.0)\\n\",\"(-5.9, 0.0)\\n\",\"(-5.8, 0.0)\\n\",\"(-5.7, 0.0)\\n\",\"(-5.6, 0.0)\\n\",\"(-5.5, 0.0)\\n\",\"(-5.4, 0.0)\\n\",\"(-5.3, 0.0)\\n\",\"(-5.2, 0.0)\\n\",\"(-5.1, 0.0)\\n\",\"(-5.0, 0.0)\\n\",\"(-4.9, 0.0)\\n\",\"(-4.8, 0.0)\\n\",\"(-4.7, 0.0)\\n\",\"(-4.6, 0.0)\\n\",\"(-4.5, 0.0)\\n\",\"(-4.4, 0.0)\\n\",\"(-4.3, 0.0)\\n\",\"(-4.2, 0.0)\\n\",\"(-4.1, 0.0)\\n\",\"(-4.0, 0.0)\\n\",\"(-3.9, 0.0)\\n\",\"(-3.8, 0.0)\\n\",\"(-3.7, 0.0)\\n\",\"(-3.6, 0.0)\\n\",\"(-3.5, 0.0)\\n\",\"(-3.4, 0.0)\\n\",\"(-3.3, 0.0)\\n\",\"(-3.2, 0.0)\\n\",\"(-3.1, 0.0)\\n\",\"(-3.0, 0.0)\\n\",\"(-2.9, 0.0)\\n\",\"(-2.8, 0.0)\\n\",\"(-2.7, 0.0)\\n\",\"(-2.6, 0.0)\\n\",\"(-2.5, 0.0)\\n\",\"(-2.4, 0.0)\\n\",\"(-2.3, 0.0)\\n\",\"(-2.2, 0.0)\\n\",\"(-2.1, 0.0)\\n\",\"(-2.0, 0.0)\\n\",\"(-1.9, 0.0)\\n\",\"(-1.8, 0.0)\\n\",\"(-1.7, 0.0)\\n\",\"(-1.6, 0.0)\\n\",\"(-1.5, 0.0)\\n\",\"(-1.4, 0.0)\\n\",\"(-1.3, 0.0)\\n\",\"(-1.2, 0.0)\\n\",\"(-1.1, 0.0)\\n\",\"(-1.0, 0.0)\\n\",\"(-0.9, 0.0)\\n\",\"(-0.8, 0.0)\\n\",\"(-0.7, 0.0)\\n\",\"(-0.6, 0.0)\\n\",\"(-0.5, 0.0)\\n\",\"(-0.4, 0.0)\\n\",\"(-0.3, 0.0)\\n\",\"(-0.2, 0.0)\\n\",\"(-0.1, 0.0)\\n\",\"(0.0, 0.0)\\n\",\"(0.1, 0.0)\\n\",\"(0.2, 0.0)\\n\",\"(0.3, 0.0)\\n\",\"(0.4, 0.0)\\n\",\"(0.5, 0.0)\\n\",\"(0.6, 0.0)\\n\",\"(0.7, 0.0)\\n\",\"(0.8, 0.0)\\n\",\"(0.9, 0.0)\\n\",\"(1.0, 0.0)\\n\",\"(1.1, 0.0)\\n\",\"(1.2, 0.0)\\n\",\"(1.3, 0.0)\\n\",\"(1.4, 0.0)\\n\",\"(1.5, 0.0)\\n\",\"(1.6, 0.0)\\n\",\"(1.7, 0.0)\\n\",\"(1.8, 0.0)\\n\",\"(1.9, 0.0)\\n\",\"(2.0, 0.0)\\n\",\"(2.1, 0.0)\\n\",\"(2.2, 0.0)\\n\",\"(2.3, 0.0)\\n\",\"(2.4, 0.0)\\n\",\"(2.5, 0.0)\\n\",\"(2.6, 0.0)\\n\",\"(2.7, 0.0)\\n\",\"(2.8, 0.0)\\n\",\"(2.9, 0.0)\\n\",\"(3.0, 0.0)\\n\",\"(3.1, 0.0)\\n\",\"(3.2, 0.0)\\n\",\"(3.3, 0.0)\\n\",\"(3.4, 0.0)\\n\",\"(3.5, 0.0)\\n\",\"(3.6, 0.0)\\n\",\"(3.7, 0.0)\\n\",\"(3.8, 0.0)\\n\",\"(3.9, 0.0)\\n\",\"(4.0, 0.0)\\n\",\"(4.1, 0.0)\\n\",\"(4.2, 0.0)\\n\",\"(4.3, 0.0)\\n\",\"(4.4, 0.0)\\n\",\"(4.5, 0.0)\\n\",\"(4.6, 0.0)\\n\",\"(4.7, 0.0)\\n\",\"(4.8, 0.0)\\n\",\"(4.9, 0.0)\\n\",\"(5.0, 0.0)\\n\"],\"changes\":WebIO.getval({\"name\":\"changes\",\"scope\":\"6301508558890833542\",\"id\":\"8491049446467423037\",\"type\":\"observable\"}),\"index\":WebIO.getval({\"name\":\"index\",\"scope\":\"6301508558890833542\",\"id\":\"11030241674339803918\",\"type\":\"observable\"})};\n    var self = this;\n    function AppViewModel() {\n        for (var key in json_data) {\n            var el = json_data[key];\n            this[key] = Array.isArray(el) ? ko.observableArray(el) : ko.observable(el);\n        }\n        \n        [this[\"formatted_val\"]=ko.computed(    function(){\n        return this.formatted_vals()[parseInt(this.index())-(1)];\n    }\n,this)]\n        [this[\"changes\"].subscribe((function (val){!(this.valueFromJulia[\"changes\"]) ? (WebIO.setval({\"name\":\"changes\",\"scope\":\"6301508558890833542\",\"id\":\"8491049446467423037\",\"type\":\"observable\"},val)) : undefined; return this.valueFromJulia[\"changes\"]=false}),self),this[\"index\"].subscribe((function (val){!(this.valueFromJulia[\"index\"]) ? (WebIO.setval({\"name\":\"index\",\"scope\":\"6301508558890833542\",\"id\":\"11030241674339803918\",\"type\":\"observable\"},val)) : undefined; return this.valueFromJulia[\"index\"]=false}),self)]\n        \n    }\n    self.model = new AppViewModel();\n    self.valueFromJulia = {};\n    for (var key in json_data) {\n        self.valueFromJulia[key] = false;\n    }\n    ko.applyBindings(self.model, self.dom);\n}\n);\n    (WebIO.importBlock({\"data\":[{\"name\":\"knockout\",\"type\":\"js\",\"url\":\"/assetserver/727383f2a47bd31570b7da84eee7b022dd6d7c78-knockout.js\"},{\"name\":\"knockout_punches\",\"type\":\"js\",\"url\":\"/assetserver/382b41b3b1bd9f26f75861d360bad7f8beea211f-knockout_punches.js\"}],\"type\":\"async_block\"})).then((imports) => handler.apply(this, imports));\n}\n"
                  ],
                  "observables": {
                   "changes": {
                    "id": "8491049446467423037",
                    "sync": false,
                    "value": 0
                   },
                   "index": {
                    "id": "11030241674339803918",
                    "sync": true,
                    "value": 76
                   }
                  },
                  "systemjs_options": null
                 },
                 "nodeType": "Scope",
                 "props": {},
                 "type": "node"
                }
               ],
               "instanceArgs": {
                "namespace": "html",
                "tag": "div"
               },
               "nodeType": "DOM",
               "props": {
                "className": "field interact-widget"
               },
               "type": "node"
              }
             ],
             "instanceArgs": {
              "namespace": "html",
              "tag": "div"
             },
             "nodeType": "DOM",
             "props": {
              "style": {
               "display": "flex",
               "flex-direction": "column"
              }
             },
             "type": "node"
            },
            {
             "children": [
              {
               "children": [
                {
                 "children": [
                  {
                   "children": [
                    {
                     "children": [
                      {
                       "children": [
                        "gravity"
                       ],
                       "instanceArgs": {
                        "namespace": "html",
                        "tag": "label"
                       },
                       "nodeType": "DOM",
                       "props": {
                        "className": "interact ",
                        "style": {
                         "padding": "5px 10px 0px 10px"
                        }
                       },
                       "type": "node"
                      }
                     ],
                     "instanceArgs": {
                      "namespace": "html",
                      "tag": "div"
                     },
                     "nodeType": "DOM",
                     "props": {
                      "className": "interact-flex-row-left"
                     },
                     "type": "node"
                    },
                    {
                     "children": [
                      {
                       "children": [],
                       "instanceArgs": {
                        "namespace": "html",
                        "tag": "input"
                       },
                       "nodeType": "DOM",
                       "props": {
                        "attributes": {
                         "data-bind": "numericValue: index, valueUpdate: 'input', event: {change: function (){this.changes(this.changes()+1)}}",
                         "orient": "horizontal",
                         "type": "range"
                        },
                        "className": "slider slider is-fullwidth",
                        "max": 21,
                        "min": 1,
                        "step": 1,
                        "style": {}
                       },
                       "type": "node"
                      }
                     ],
                     "instanceArgs": {
                      "namespace": "html",
                      "tag": "div"
                     },
                     "nodeType": "DOM",
                     "props": {
                      "className": "interact-flex-row-center"
                     },
                     "type": "node"
                    },
                    {
                     "children": [
                      {
                       "children": [],
                       "instanceArgs": {
                        "namespace": "html",
                        "tag": "p"
                       },
                       "nodeType": "DOM",
                       "props": {
                        "attributes": {
                         "data-bind": "text: formatted_val"
                        }
                       },
                       "type": "node"
                      }
                     ],
                     "instanceArgs": {
                      "namespace": "html",
                      "tag": "div"
                     },
                     "nodeType": "DOM",
                     "props": {
                      "className": "interact-flex-row-right"
                     },
                     "type": "node"
                    }
                   ],
                   "instanceArgs": {
                    "namespace": "html",
                    "tag": "div"
                   },
                   "nodeType": "DOM",
                   "props": {
                    "className": "interact-flex-row interact-widget"
                   },
                   "type": "node"
                  }
                 ],
                 "instanceArgs": {
                  "handlers": {
                   "changes": [
                    "(function (val){return (val!=this.model[\"changes\"]()) ? (this.valueFromJulia[\"changes\"]=true, this.model[\"changes\"](val)) : undefined})"
                   ],
                   "index": [
                    "(function (val){return (val!=this.model[\"index\"]()) ? (this.valueFromJulia[\"index\"]=true, this.model[\"index\"](val)) : undefined})"
                   ]
                  },
                  "id": "10706512530380334129",
                  "imports": {
                   "data": [
                    {
                     "name": "knockout",
                     "type": "js",
                     "url": "/assetserver/727383f2a47bd31570b7da84eee7b022dd6d7c78-knockout.js"
                    },
                    {
                     "name": "knockout_punches",
                     "type": "js",
                     "url": "/assetserver/382b41b3b1bd9f26f75861d360bad7f8beea211f-knockout_punches.js"
                    },
                    {
                     "name": null,
                     "type": "js",
                     "url": "/assetserver/5ab20f1060420992a9b82a65b735dee4d81ef413-all.js"
                    },
                    {
                     "name": null,
                     "type": "css",
                     "url": "/assetserver/1cc0ed62837210b80a182cc3676512f895dab686-style.css"
                    },
                    {
                     "name": null,
                     "type": "css",
                     "url": "/assetserver/2eee816f616df3549d7044d45e744fbf8d42bfa1-bulma_confined.min.css"
                    }
                   ],
                   "type": "async_block"
                  },
                  "mount_callbacks": [
                   "function () {\n    var handler = (function (ko, koPunches) {\n    ko.punches.enableAll();\n    ko.bindingHandlers.numericValue = {\n        init: function(element, valueAccessor, allBindings, data, context) {\n            var stringified = ko.observable(ko.unwrap(valueAccessor()));\n            stringified.subscribe(function(value) {\n                var val = parseFloat(value);\n                if (!isNaN(val)) {\n                    valueAccessor()(val);\n                }\n            });\n            valueAccessor().subscribe(function(value) {\n                var str = JSON.stringify(value);\n                if ((str == \"0\") && ([\"-0\", \"-0.\"].indexOf(stringified()) >= 0))\n                     return;\n                 if ([\"null\", \"\"].indexOf(str) >= 0)\n                     return;\n                stringified(str);\n            });\n            ko.applyBindingsToNode(\n                element,\n                {\n                    value: stringified,\n                    valueUpdate: allBindings.get('valueUpdate'),\n                },\n                context,\n            );\n        }\n    };\n    var json_data = {\"formatted_vals\":[\"1.0\",\"1.2\",\"1.4\",\"1.6\",\"1.8\",\"2.0\",\"2.2\",\"2.4\",\"2.6\",\"2.8\",\"3.0\",\"3.2\",\"3.4\",\"3.6\",\"3.8\",\"4.0\",\"4.2\",\"4.4\",\"4.6\",\"4.8\",\"5.0\"],\"changes\":WebIO.getval({\"name\":\"changes\",\"scope\":\"10706512530380334129\",\"id\":\"855319810755623307\",\"type\":\"observable\"}),\"index\":WebIO.getval({\"name\":\"index\",\"scope\":\"10706512530380334129\",\"id\":\"8159742644032800281\",\"type\":\"observable\"})};\n    var self = this;\n    function AppViewModel() {\n        for (var key in json_data) {\n            var el = json_data[key];\n            this[key] = Array.isArray(el) ? ko.observableArray(el) : ko.observable(el);\n        }\n        \n        [this[\"formatted_val\"]=ko.computed(    function(){\n        return this.formatted_vals()[parseInt(this.index())-(1)];\n    }\n,this)]\n        [this[\"changes\"].subscribe((function (val){!(this.valueFromJulia[\"changes\"]) ? (WebIO.setval({\"name\":\"changes\",\"scope\":\"10706512530380334129\",\"id\":\"855319810755623307\",\"type\":\"observable\"},val)) : undefined; return this.valueFromJulia[\"changes\"]=false}),self),this[\"index\"].subscribe((function (val){!(this.valueFromJulia[\"index\"]) ? (WebIO.setval({\"name\":\"index\",\"scope\":\"10706512530380334129\",\"id\":\"8159742644032800281\",\"type\":\"observable\"},val)) : undefined; return this.valueFromJulia[\"index\"]=false}),self)]\n        \n    }\n    self.model = new AppViewModel();\n    self.valueFromJulia = {};\n    for (var key in json_data) {\n        self.valueFromJulia[key] = false;\n    }\n    ko.applyBindings(self.model, self.dom);\n}\n);\n    (WebIO.importBlock({\"data\":[{\"name\":\"knockout\",\"type\":\"js\",\"url\":\"/assetserver/727383f2a47bd31570b7da84eee7b022dd6d7c78-knockout.js\"},{\"name\":\"knockout_punches\",\"type\":\"js\",\"url\":\"/assetserver/382b41b3b1bd9f26f75861d360bad7f8beea211f-knockout_punches.js\"}],\"type\":\"async_block\"})).then((imports) => handler.apply(this, imports));\n}\n"
                  ],
                  "observables": {
                   "changes": {
                    "id": "855319810755623307",
                    "sync": false,
                    "value": 0
                   },
                   "index": {
                    "id": "8159742644032800281",
                    "sync": true,
                    "value": 11
                   }
                  },
                  "systemjs_options": null
                 },
                 "nodeType": "Scope",
                 "props": {},
                 "type": "node"
                }
               ],
               "instanceArgs": {
                "namespace": "html",
                "tag": "div"
               },
               "nodeType": "DOM",
               "props": {
                "className": "field interact-widget"
               },
               "type": "node"
              }
             ],
             "instanceArgs": {
              "namespace": "html",
              "tag": "div"
             },
             "nodeType": "DOM",
             "props": {
              "style": {
               "display": "flex",
               "flex-direction": "column"
              }
             },
             "type": "node"
            },
            {
             "children": [
              {
               "children": [
                {
                 "children": [
                  {
                   "children": [],
                   "instanceArgs": {
                    "namespace": "html",
                    "tag": "div"
                   },
                   "nodeType": "DOM",
                   "props": {
                    "id": "container"
                   },
                   "type": "node"
                  }
                 ],
                 "instanceArgs": {
                  "handlers": {
                   "value": [
                    "(function (txt){return this.k.render(txt,this.container)})"
                   ]
                  },
                  "id": "5806910441574635216",
                  "imports": {
                   "data": [
                    {
                     "name": null,
                     "type": "js",
                     "url": "/assetserver/dd22ed1bf1896c2748f3fe616ce0b838adc895c1-katex.min.js"
                    },
                    {
                     "name": null,
                     "type": "css",
                     "url": "/assetserver/46517a424aa5e6cffc1360d7e0848b601c584ee3-katex.min.css"
                    }
                   ],
                   "type": "async_block"
                  },
                  "mount_callbacks": [
                   "function () {\n    var handler = ((function (k){this.k=k; this.container=this.dom.querySelector(\"#container\"); return k.render(\"\\\\;\\\\;\",this.container)}));\n    (WebIO.importBlock({\"data\":[{\"name\":null,\"type\":\"js\",\"url\":\"/assetserver/dd22ed1bf1896c2748f3fe616ce0b838adc895c1-katex.min.js\"},{\"name\":null,\"type\":\"css\",\"url\":\"/assetserver/46517a424aa5e6cffc1360d7e0848b601c584ee3-katex.min.css\"}],\"type\":\"async_block\"})).then((imports) => handler.apply(this, imports));\n}\n"
                  ],
                  "observables": {
                   "value": {
                    "id": "7388917651806250695",
                    "sync": false,
                    "value": "\\;\\;"
                   }
                  },
                  "systemjs_options": null
                 },
                 "nodeType": "Scope",
                 "props": {},
                 "type": "node"
                }
               ],
               "instanceArgs": {
                "namespace": "html",
                "tag": "div"
               },
               "nodeType": "DOM",
               "props": {
                "className": "interact-widget"
               },
               "type": "node"
              },
              {
               "children": [
                {
                 "children": [
                  {
                   "children": [
                    "run"
                   ],
                   "instanceArgs": {
                    "namespace": "html",
                    "tag": "button"
                   },
                   "nodeType": "DOM",
                   "props": {
                    "attributes": {
                     "data-bind": "click: function (){this.clicks(this.clicks()+1)}, css: {'is-loading' : loading}"
                    },
                    "className": "is-medium button is-primary",
                    "style": {}
                   },
                   "type": "node"
                  }
                 ],
                 "instanceArgs": {
                  "handlers": {
                   "clicks": [
                    "(function (val){return (val!=this.model[\"clicks\"]()) ? (this.valueFromJulia[\"clicks\"]=true, this.model[\"clicks\"](val)) : undefined})"
                   ],
                   "loading": [
                    "(function (val){return (val!=this.model[\"loading\"]()) ? (this.valueFromJulia[\"loading\"]=true, this.model[\"loading\"](val)) : undefined})"
                   ]
                  },
                  "id": "1940068060618920378",
                  "imports": {
                   "data": [
                    {
                     "name": "knockout",
                     "type": "js",
                     "url": "/assetserver/727383f2a47bd31570b7da84eee7b022dd6d7c78-knockout.js"
                    },
                    {
                     "name": "knockout_punches",
                     "type": "js",
                     "url": "/assetserver/382b41b3b1bd9f26f75861d360bad7f8beea211f-knockout_punches.js"
                    },
                    {
                     "name": null,
                     "type": "js",
                     "url": "/assetserver/5ab20f1060420992a9b82a65b735dee4d81ef413-all.js"
                    },
                    {
                     "name": null,
                     "type": "css",
                     "url": "/assetserver/1cc0ed62837210b80a182cc3676512f895dab686-style.css"
                    },
                    {
                     "name": null,
                     "type": "css",
                     "url": "/assetserver/2eee816f616df3549d7044d45e744fbf8d42bfa1-bulma_confined.min.css"
                    }
                   ],
                   "type": "async_block"
                  },
                  "mount_callbacks": [
                   "function () {\n    var handler = (function (ko, koPunches) {\n    ko.punches.enableAll();\n    ko.bindingHandlers.numericValue = {\n        init: function(element, valueAccessor, allBindings, data, context) {\n            var stringified = ko.observable(ko.unwrap(valueAccessor()));\n            stringified.subscribe(function(value) {\n                var val = parseFloat(value);\n                if (!isNaN(val)) {\n                    valueAccessor()(val);\n                }\n            });\n            valueAccessor().subscribe(function(value) {\n                var str = JSON.stringify(value);\n                if ((str == \"0\") && ([\"-0\", \"-0.\"].indexOf(stringified()) >= 0))\n                     return;\n                 if ([\"null\", \"\"].indexOf(str) >= 0)\n                     return;\n                stringified(str);\n            });\n            ko.applyBindingsToNode(\n                element,\n                {\n                    value: stringified,\n                    valueUpdate: allBindings.get('valueUpdate'),\n                },\n                context,\n            );\n        }\n    };\n    var json_data = {\"loading\":WebIO.getval({\"name\":\"loading\",\"scope\":\"1940068060618920378\",\"id\":\"2480755985869536226\",\"type\":\"observable\"}),\"clicks\":WebIO.getval({\"name\":\"clicks\",\"scope\":\"1940068060618920378\",\"id\":\"558178382348513507\",\"type\":\"observable\"})};\n    var self = this;\n    function AppViewModel() {\n        for (var key in json_data) {\n            var el = json_data[key];\n            this[key] = Array.isArray(el) ? ko.observableArray(el) : ko.observable(el);\n        }\n        \n        \n        [this[\"loading\"].subscribe((function (val){!(this.valueFromJulia[\"loading\"]) ? (WebIO.setval({\"name\":\"loading\",\"scope\":\"1940068060618920378\",\"id\":\"2480755985869536226\",\"type\":\"observable\"},val)) : undefined; return this.valueFromJulia[\"loading\"]=false}),self),this[\"clicks\"].subscribe((function (val){!(this.valueFromJulia[\"clicks\"]) ? (WebIO.setval({\"name\":\"clicks\",\"scope\":\"1940068060618920378\",\"id\":\"558178382348513507\",\"type\":\"observable\"},val)) : undefined; return this.valueFromJulia[\"clicks\"]=false}),self)]\n        \n    }\n    self.model = new AppViewModel();\n    self.valueFromJulia = {};\n    for (var key in json_data) {\n        self.valueFromJulia[key] = false;\n    }\n    ko.applyBindings(self.model, self.dom);\n}\n);\n    (WebIO.importBlock({\"data\":[{\"name\":\"knockout\",\"type\":\"js\",\"url\":\"/assetserver/727383f2a47bd31570b7da84eee7b022dd6d7c78-knockout.js\"},{\"name\":\"knockout_punches\",\"type\":\"js\",\"url\":\"/assetserver/382b41b3b1bd9f26f75861d360bad7f8beea211f-knockout_punches.js\"}],\"type\":\"async_block\"})).then((imports) => handler.apply(this, imports));\n}\n"
                  ],
                  "observables": {
                   "clicks": {
                    "id": "558178382348513507",
                    "sync": true,
                    "value": 0
                   },
                   "loading": {
                    "id": "2480755985869536226",
                    "sync": false,
                    "value": false
                   }
                  },
                  "systemjs_options": null
                 },
                 "nodeType": "Scope",
                 "props": {},
                 "type": "node"
                }
               ],
               "instanceArgs": {
                "namespace": "html",
                "tag": "div"
               },
               "nodeType": "DOM",
               "props": {
                "className": "field interact-widget"
               },
               "type": "node"
              },
              {
               "children": [
                {
                 "children": [
                  {
                   "children": [],
                   "instanceArgs": {
                    "namespace": "html",
                    "tag": "div"
                   },
                   "nodeType": "DOM",
                   "props": {
                    "id": "container"
                   },
                   "type": "node"
                  }
                 ],
                 "instanceArgs": {
                  "handlers": {
                   "value": [
                    "(function (txt){return this.k.render(txt,this.container)})"
                   ]
                  },
                  "id": "5806910441574635216",
                  "imports": {
                   "data": [
                    {
                     "name": null,
                     "type": "js",
                     "url": "/assetserver/dd22ed1bf1896c2748f3fe616ce0b838adc895c1-katex.min.js"
                    },
                    {
                     "name": null,
                     "type": "css",
                     "url": "/assetserver/46517a424aa5e6cffc1360d7e0848b601c584ee3-katex.min.css"
                    }
                   ],
                   "type": "async_block"
                  },
                  "mount_callbacks": [
                   "function () {\n    var handler = ((function (k){this.k=k; this.container=this.dom.querySelector(\"#container\"); return k.render(\"\\\\;\\\\;\",this.container)}));\n    (WebIO.importBlock({\"data\":[{\"name\":null,\"type\":\"js\",\"url\":\"/assetserver/dd22ed1bf1896c2748f3fe616ce0b838adc895c1-katex.min.js\"},{\"name\":null,\"type\":\"css\",\"url\":\"/assetserver/46517a424aa5e6cffc1360d7e0848b601c584ee3-katex.min.css\"}],\"type\":\"async_block\"})).then((imports) => handler.apply(this, imports));\n}\n"
                  ],
                  "observables": {
                   "value": {
                    "id": "7388917651806250695",
                    "sync": false,
                    "value": "\\;\\;"
                   }
                  },
                  "systemjs_options": null
                 },
                 "nodeType": "Scope",
                 "props": {},
                 "type": "node"
                }
               ],
               "instanceArgs": {
                "namespace": "html",
                "tag": "div"
               },
               "nodeType": "DOM",
               "props": {
                "className": "interact-widget"
               },
               "type": "node"
              },
              {
               "children": [
                {
                 "children": [
                  {
                   "children": [
                    "stop"
                   ],
                   "instanceArgs": {
                    "namespace": "html",
                    "tag": "button"
                   },
                   "nodeType": "DOM",
                   "props": {
                    "attributes": {
                     "data-bind": "click: function (){this.clicks(this.clicks()+1)}, css: {'is-loading' : loading}"
                    },
                    "className": "is-medium button is-primary",
                    "style": {}
                   },
                   "type": "node"
                  }
                 ],
                 "instanceArgs": {
                  "handlers": {
                   "clicks": [
                    "(function (val){return (val!=this.model[\"clicks\"]()) ? (this.valueFromJulia[\"clicks\"]=true, this.model[\"clicks\"](val)) : undefined})"
                   ],
                   "loading": [
                    "(function (val){return (val!=this.model[\"loading\"]()) ? (this.valueFromJulia[\"loading\"]=true, this.model[\"loading\"](val)) : undefined})"
                   ]
                  },
                  "id": "7587465877235484114",
                  "imports": {
                   "data": [
                    {
                     "name": "knockout",
                     "type": "js",
                     "url": "/assetserver/727383f2a47bd31570b7da84eee7b022dd6d7c78-knockout.js"
                    },
                    {
                     "name": "knockout_punches",
                     "type": "js",
                     "url": "/assetserver/382b41b3b1bd9f26f75861d360bad7f8beea211f-knockout_punches.js"
                    },
                    {
                     "name": null,
                     "type": "js",
                     "url": "/assetserver/5ab20f1060420992a9b82a65b735dee4d81ef413-all.js"
                    },
                    {
                     "name": null,
                     "type": "css",
                     "url": "/assetserver/1cc0ed62837210b80a182cc3676512f895dab686-style.css"
                    },
                    {
                     "name": null,
                     "type": "css",
                     "url": "/assetserver/2eee816f616df3549d7044d45e744fbf8d42bfa1-bulma_confined.min.css"
                    }
                   ],
                   "type": "async_block"
                  },
                  "mount_callbacks": [
                   "function () {\n    var handler = (function (ko, koPunches) {\n    ko.punches.enableAll();\n    ko.bindingHandlers.numericValue = {\n        init: function(element, valueAccessor, allBindings, data, context) {\n            var stringified = ko.observable(ko.unwrap(valueAccessor()));\n            stringified.subscribe(function(value) {\n                var val = parseFloat(value);\n                if (!isNaN(val)) {\n                    valueAccessor()(val);\n                }\n            });\n            valueAccessor().subscribe(function(value) {\n                var str = JSON.stringify(value);\n                if ((str == \"0\") && ([\"-0\", \"-0.\"].indexOf(stringified()) >= 0))\n                     return;\n                 if ([\"null\", \"\"].indexOf(str) >= 0)\n                     return;\n                stringified(str);\n            });\n            ko.applyBindingsToNode(\n                element,\n                {\n                    value: stringified,\n                    valueUpdate: allBindings.get('valueUpdate'),\n                },\n                context,\n            );\n        }\n    };\n    var json_data = {\"loading\":WebIO.getval({\"name\":\"loading\",\"scope\":\"7587465877235484114\",\"id\":\"3143012758205120931\",\"type\":\"observable\"}),\"clicks\":WebIO.getval({\"name\":\"clicks\",\"scope\":\"7587465877235484114\",\"id\":\"16472202346623389757\",\"type\":\"observable\"})};\n    var self = this;\n    function AppViewModel() {\n        for (var key in json_data) {\n            var el = json_data[key];\n            this[key] = Array.isArray(el) ? ko.observableArray(el) : ko.observable(el);\n        }\n        \n        \n        [this[\"loading\"].subscribe((function (val){!(this.valueFromJulia[\"loading\"]) ? (WebIO.setval({\"name\":\"loading\",\"scope\":\"7587465877235484114\",\"id\":\"3143012758205120931\",\"type\":\"observable\"},val)) : undefined; return this.valueFromJulia[\"loading\"]=false}),self),this[\"clicks\"].subscribe((function (val){!(this.valueFromJulia[\"clicks\"]) ? (WebIO.setval({\"name\":\"clicks\",\"scope\":\"7587465877235484114\",\"id\":\"16472202346623389757\",\"type\":\"observable\"},val)) : undefined; return this.valueFromJulia[\"clicks\"]=false}),self)]\n        \n    }\n    self.model = new AppViewModel();\n    self.valueFromJulia = {};\n    for (var key in json_data) {\n        self.valueFromJulia[key] = false;\n    }\n    ko.applyBindings(self.model, self.dom);\n}\n);\n    (WebIO.importBlock({\"data\":[{\"name\":\"knockout\",\"type\":\"js\",\"url\":\"/assetserver/727383f2a47bd31570b7da84eee7b022dd6d7c78-knockout.js\"},{\"name\":\"knockout_punches\",\"type\":\"js\",\"url\":\"/assetserver/382b41b3b1bd9f26f75861d360bad7f8beea211f-knockout_punches.js\"}],\"type\":\"async_block\"})).then((imports) => handler.apply(this, imports));\n}\n"
                  ],
                  "observables": {
                   "clicks": {
                    "id": "16472202346623389757",
                    "sync": true,
                    "value": 0
                   },
                   "loading": {
                    "id": "3143012758205120931",
                    "sync": false,
                    "value": false
                   }
                  },
                  "systemjs_options": null
                 },
                 "nodeType": "Scope",
                 "props": {},
                 "type": "node"
                }
               ],
               "instanceArgs": {
                "namespace": "html",
                "tag": "div"
               },
               "nodeType": "DOM",
               "props": {
                "className": "field interact-widget"
               },
               "type": "node"
              },
              {
               "children": [
                {
                 "children": [
                  {
                   "children": [],
                   "instanceArgs": {
                    "namespace": "html",
                    "tag": "div"
                   },
                   "nodeType": "DOM",
                   "props": {
                    "id": "container"
                   },
                   "type": "node"
                  }
                 ],
                 "instanceArgs": {
                  "handlers": {
                   "value": [
                    "(function (txt){return this.k.render(txt,this.container)})"
                   ]
                  },
                  "id": "5806910441574635216",
                  "imports": {
                   "data": [
                    {
                     "name": null,
                     "type": "js",
                     "url": "/assetserver/dd22ed1bf1896c2748f3fe616ce0b838adc895c1-katex.min.js"
                    },
                    {
                     "name": null,
                     "type": "css",
                     "url": "/assetserver/46517a424aa5e6cffc1360d7e0848b601c584ee3-katex.min.css"
                    }
                   ],
                   "type": "async_block"
                  },
                  "mount_callbacks": [
                   "function () {\n    var handler = ((function (k){this.k=k; this.container=this.dom.querySelector(\"#container\"); return k.render(\"\\\\;\\\\;\",this.container)}));\n    (WebIO.importBlock({\"data\":[{\"name\":null,\"type\":\"js\",\"url\":\"/assetserver/dd22ed1bf1896c2748f3fe616ce0b838adc895c1-katex.min.js\"},{\"name\":null,\"type\":\"css\",\"url\":\"/assetserver/46517a424aa5e6cffc1360d7e0848b601c584ee3-katex.min.css\"}],\"type\":\"async_block\"})).then((imports) => handler.apply(this, imports));\n}\n"
                  ],
                  "observables": {
                   "value": {
                    "id": "7388917651806250695",
                    "sync": false,
                    "value": "\\;\\;"
                   }
                  },
                  "systemjs_options": null
                 },
                 "nodeType": "Scope",
                 "props": {},
                 "type": "node"
                }
               ],
               "instanceArgs": {
                "namespace": "html",
                "tag": "div"
               },
               "nodeType": "DOM",
               "props": {
                "className": "interact-widget"
               },
               "type": "node"
              },
              {
               "children": [
                {
                 "children": [
                  {
                   "children": [
                    "reset"
                   ],
                   "instanceArgs": {
                    "namespace": "html",
                    "tag": "button"
                   },
                   "nodeType": "DOM",
                   "props": {
                    "attributes": {
                     "data-bind": "click: function (){this.clicks(this.clicks()+1)}, css: {'is-loading' : loading}"
                    },
                    "className": "is-medium button is-primary",
                    "style": {}
                   },
                   "type": "node"
                  }
                 ],
                 "instanceArgs": {
                  "handlers": {
                   "clicks": [
                    "(function (val){return (val!=this.model[\"clicks\"]()) ? (this.valueFromJulia[\"clicks\"]=true, this.model[\"clicks\"](val)) : undefined})"
                   ],
                   "loading": [
                    "(function (val){return (val!=this.model[\"loading\"]()) ? (this.valueFromJulia[\"loading\"]=true, this.model[\"loading\"](val)) : undefined})"
                   ]
                  },
                  "id": "15075278904989604210",
                  "imports": {
                   "data": [
                    {
                     "name": "knockout",
                     "type": "js",
                     "url": "/assetserver/727383f2a47bd31570b7da84eee7b022dd6d7c78-knockout.js"
                    },
                    {
                     "name": "knockout_punches",
                     "type": "js",
                     "url": "/assetserver/382b41b3b1bd9f26f75861d360bad7f8beea211f-knockout_punches.js"
                    },
                    {
                     "name": null,
                     "type": "js",
                     "url": "/assetserver/5ab20f1060420992a9b82a65b735dee4d81ef413-all.js"
                    },
                    {
                     "name": null,
                     "type": "css",
                     "url": "/assetserver/1cc0ed62837210b80a182cc3676512f895dab686-style.css"
                    },
                    {
                     "name": null,
                     "type": "css",
                     "url": "/assetserver/2eee816f616df3549d7044d45e744fbf8d42bfa1-bulma_confined.min.css"
                    }
                   ],
                   "type": "async_block"
                  },
                  "mount_callbacks": [
                   "function () {\n    var handler = (function (ko, koPunches) {\n    ko.punches.enableAll();\n    ko.bindingHandlers.numericValue = {\n        init: function(element, valueAccessor, allBindings, data, context) {\n            var stringified = ko.observable(ko.unwrap(valueAccessor()));\n            stringified.subscribe(function(value) {\n                var val = parseFloat(value);\n                if (!isNaN(val)) {\n                    valueAccessor()(val);\n                }\n            });\n            valueAccessor().subscribe(function(value) {\n                var str = JSON.stringify(value);\n                if ((str == \"0\") && ([\"-0\", \"-0.\"].indexOf(stringified()) >= 0))\n                     return;\n                 if ([\"null\", \"\"].indexOf(str) >= 0)\n                     return;\n                stringified(str);\n            });\n            ko.applyBindingsToNode(\n                element,\n                {\n                    value: stringified,\n                    valueUpdate: allBindings.get('valueUpdate'),\n                },\n                context,\n            );\n        }\n    };\n    var json_data = {\"loading\":WebIO.getval({\"name\":\"loading\",\"scope\":\"15075278904989604210\",\"id\":\"14954400168917122855\",\"type\":\"observable\"}),\"clicks\":WebIO.getval({\"name\":\"clicks\",\"scope\":\"15075278904989604210\",\"id\":\"5392575957168158476\",\"type\":\"observable\"})};\n    var self = this;\n    function AppViewModel() {\n        for (var key in json_data) {\n            var el = json_data[key];\n            this[key] = Array.isArray(el) ? ko.observableArray(el) : ko.observable(el);\n        }\n        \n        \n        [this[\"loading\"].subscribe((function (val){!(this.valueFromJulia[\"loading\"]) ? (WebIO.setval({\"name\":\"loading\",\"scope\":\"15075278904989604210\",\"id\":\"14954400168917122855\",\"type\":\"observable\"},val)) : undefined; return this.valueFromJulia[\"loading\"]=false}),self),this[\"clicks\"].subscribe((function (val){!(this.valueFromJulia[\"clicks\"]) ? (WebIO.setval({\"name\":\"clicks\",\"scope\":\"15075278904989604210\",\"id\":\"5392575957168158476\",\"type\":\"observable\"},val)) : undefined; return this.valueFromJulia[\"clicks\"]=false}),self)]\n        \n    }\n    self.model = new AppViewModel();\n    self.valueFromJulia = {};\n    for (var key in json_data) {\n        self.valueFromJulia[key] = false;\n    }\n    ko.applyBindings(self.model, self.dom);\n}\n);\n    (WebIO.importBlock({\"data\":[{\"name\":\"knockout\",\"type\":\"js\",\"url\":\"/assetserver/727383f2a47bd31570b7da84eee7b022dd6d7c78-knockout.js\"},{\"name\":\"knockout_punches\",\"type\":\"js\",\"url\":\"/assetserver/382b41b3b1bd9f26f75861d360bad7f8beea211f-knockout_punches.js\"}],\"type\":\"async_block\"})).then((imports) => handler.apply(this, imports));\n}\n"
                  ],
                  "observables": {
                   "clicks": {
                    "id": "5392575957168158476",
                    "sync": true,
                    "value": 0
                   },
                   "loading": {
                    "id": "14954400168917122855",
                    "sync": false,
                    "value": false
                   }
                  },
                  "systemjs_options": null
                 },
                 "nodeType": "Scope",
                 "props": {},
                 "type": "node"
                }
               ],
               "instanceArgs": {
                "namespace": "html",
                "tag": "div"
               },
               "nodeType": "DOM",
               "props": {
                "className": "field interact-widget"
               },
               "type": "node"
              },
              {
               "children": [
                {
                 "children": [
                  {
                   "children": [],
                   "instanceArgs": {
                    "namespace": "html",
                    "tag": "div"
                   },
                   "nodeType": "DOM",
                   "props": {
                    "id": "container"
                   },
                   "type": "node"
                  }
                 ],
                 "instanceArgs": {
                  "handlers": {
                   "value": [
                    "(function (txt){return this.k.render(txt,this.container)})"
                   ]
                  },
                  "id": "5806910441574635216",
                  "imports": {
                   "data": [
                    {
                     "name": null,
                     "type": "js",
                     "url": "/assetserver/dd22ed1bf1896c2748f3fe616ce0b838adc895c1-katex.min.js"
                    },
                    {
                     "name": null,
                     "type": "css",
                     "url": "/assetserver/46517a424aa5e6cffc1360d7e0848b601c584ee3-katex.min.css"
                    }
                   ],
                   "type": "async_block"
                  },
                  "mount_callbacks": [
                   "function () {\n    var handler = ((function (k){this.k=k; this.container=this.dom.querySelector(\"#container\"); return k.render(\"\\\\;\\\\;\",this.container)}));\n    (WebIO.importBlock({\"data\":[{\"name\":null,\"type\":\"js\",\"url\":\"/assetserver/dd22ed1bf1896c2748f3fe616ce0b838adc895c1-katex.min.js\"},{\"name\":null,\"type\":\"css\",\"url\":\"/assetserver/46517a424aa5e6cffc1360d7e0848b601c584ee3-katex.min.css\"}],\"type\":\"async_block\"})).then((imports) => handler.apply(this, imports));\n}\n"
                  ],
                  "observables": {
                   "value": {
                    "id": "7388917651806250695",
                    "sync": false,
                    "value": "\\;\\;"
                   }
                  },
                  "systemjs_options": null
                 },
                 "nodeType": "Scope",
                 "props": {},
                 "type": "node"
                }
               ],
               "instanceArgs": {
                "namespace": "html",
                "tag": "div"
               },
               "nodeType": "DOM",
               "props": {
                "className": "interact-widget"
               },
               "type": "node"
              },
              {
               "children": [
                {
                 "children": [
                  {
                   "children": [
                    "save"
                   ],
                   "instanceArgs": {
                    "namespace": "html",
                    "tag": "button"
                   },
                   "nodeType": "DOM",
                   "props": {
                    "attributes": {
                     "data-bind": "click: function (){this.clicks(this.clicks()+1)}, css: {'is-loading' : loading}"
                    },
                    "className": "is-medium button is-primary",
                    "style": {}
                   },
                   "type": "node"
                  }
                 ],
                 "instanceArgs": {
                  "handlers": {
                   "clicks": [
                    "(function (val){return (val!=this.model[\"clicks\"]()) ? (this.valueFromJulia[\"clicks\"]=true, this.model[\"clicks\"](val)) : undefined})"
                   ],
                   "loading": [
                    "(function (val){return (val!=this.model[\"loading\"]()) ? (this.valueFromJulia[\"loading\"]=true, this.model[\"loading\"](val)) : undefined})"
                   ]
                  },
                  "id": "2052687366654872769",
                  "imports": {
                   "data": [
                    {
                     "name": "knockout",
                     "type": "js",
                     "url": "/assetserver/727383f2a47bd31570b7da84eee7b022dd6d7c78-knockout.js"
                    },
                    {
                     "name": "knockout_punches",
                     "type": "js",
                     "url": "/assetserver/382b41b3b1bd9f26f75861d360bad7f8beea211f-knockout_punches.js"
                    },
                    {
                     "name": null,
                     "type": "js",
                     "url": "/assetserver/5ab20f1060420992a9b82a65b735dee4d81ef413-all.js"
                    },
                    {
                     "name": null,
                     "type": "css",
                     "url": "/assetserver/1cc0ed62837210b80a182cc3676512f895dab686-style.css"
                    },
                    {
                     "name": null,
                     "type": "css",
                     "url": "/assetserver/2eee816f616df3549d7044d45e744fbf8d42bfa1-bulma_confined.min.css"
                    }
                   ],
                   "type": "async_block"
                  },
                  "mount_callbacks": [
                   "function () {\n    var handler = (function (ko, koPunches) {\n    ko.punches.enableAll();\n    ko.bindingHandlers.numericValue = {\n        init: function(element, valueAccessor, allBindings, data, context) {\n            var stringified = ko.observable(ko.unwrap(valueAccessor()));\n            stringified.subscribe(function(value) {\n                var val = parseFloat(value);\n                if (!isNaN(val)) {\n                    valueAccessor()(val);\n                }\n            });\n            valueAccessor().subscribe(function(value) {\n                var str = JSON.stringify(value);\n                if ((str == \"0\") && ([\"-0\", \"-0.\"].indexOf(stringified()) >= 0))\n                     return;\n                 if ([\"null\", \"\"].indexOf(str) >= 0)\n                     return;\n                stringified(str);\n            });\n            ko.applyBindingsToNode(\n                element,\n                {\n                    value: stringified,\n                    valueUpdate: allBindings.get('valueUpdate'),\n                },\n                context,\n            );\n        }\n    };\n    var json_data = {\"loading\":WebIO.getval({\"name\":\"loading\",\"scope\":\"2052687366654872769\",\"id\":\"15679722761467580147\",\"type\":\"observable\"}),\"clicks\":WebIO.getval({\"name\":\"clicks\",\"scope\":\"2052687366654872769\",\"id\":\"12340678364850130602\",\"type\":\"observable\"})};\n    var self = this;\n    function AppViewModel() {\n        for (var key in json_data) {\n            var el = json_data[key];\n            this[key] = Array.isArray(el) ? ko.observableArray(el) : ko.observable(el);\n        }\n        \n        \n        [this[\"loading\"].subscribe((function (val){!(this.valueFromJulia[\"loading\"]) ? (WebIO.setval({\"name\":\"loading\",\"scope\":\"2052687366654872769\",\"id\":\"15679722761467580147\",\"type\":\"observable\"},val)) : undefined; return this.valueFromJulia[\"loading\"]=false}),self),this[\"clicks\"].subscribe((function (val){!(this.valueFromJulia[\"clicks\"]) ? (WebIO.setval({\"name\":\"clicks\",\"scope\":\"2052687366654872769\",\"id\":\"12340678364850130602\",\"type\":\"observable\"},val)) : undefined; return this.valueFromJulia[\"clicks\"]=false}),self)]\n        \n    }\n    self.model = new AppViewModel();\n    self.valueFromJulia = {};\n    for (var key in json_data) {\n        self.valueFromJulia[key] = false;\n    }\n    ko.applyBindings(self.model, self.dom);\n}\n);\n    (WebIO.importBlock({\"data\":[{\"name\":\"knockout\",\"type\":\"js\",\"url\":\"/assetserver/727383f2a47bd31570b7da84eee7b022dd6d7c78-knockout.js\"},{\"name\":\"knockout_punches\",\"type\":\"js\",\"url\":\"/assetserver/382b41b3b1bd9f26f75861d360bad7f8beea211f-knockout_punches.js\"}],\"type\":\"async_block\"})).then((imports) => handler.apply(this, imports));\n}\n"
                  ],
                  "observables": {
                   "clicks": {
                    "id": "12340678364850130602",
                    "sync": true,
                    "value": 0
                   },
                   "loading": {
                    "id": "15679722761467580147",
                    "sync": false,
                    "value": false
                   }
                  },
                  "systemjs_options": null
                 },
                 "nodeType": "Scope",
                 "props": {},
                 "type": "node"
                }
               ],
               "instanceArgs": {
                "namespace": "html",
                "tag": "div"
               },
               "nodeType": "DOM",
               "props": {
                "className": "field interact-widget"
               },
               "type": "node"
              }
             ],
             "instanceArgs": {
              "namespace": "html",
              "tag": "div"
             },
             "nodeType": "DOM",
             "props": {
              "style": {
               "display": "flex",
               "flex-direction": "row"
              }
             },
             "type": "node"
            }
           ],
           "instanceArgs": {
            "namespace": "html",
            "tag": "div"
           },
           "nodeType": "DOM",
           "props": {
            "style": {
             "display": "flex",
             "flex-direction": "column"
            }
           },
           "type": "node"
          },
          {
           "children": [
            {
             "children": [
              {
               "children": [],
               "instanceArgs": {
                "namespace": "html",
                "tag": "div"
               },
               "nodeType": "DOM",
               "props": {
                "id": "container"
               },
               "type": "node"
              }
             ],
             "instanceArgs": {
              "handlers": {
               "value": [
                "(function (txt){return this.k.render(txt,this.container)})"
               ]
              },
              "id": "5806910441574635216",
              "imports": {
               "data": [
                {
                 "name": null,
                 "type": "js",
                 "url": "/assetserver/dd22ed1bf1896c2748f3fe616ce0b838adc895c1-katex.min.js"
                },
                {
                 "name": null,
                 "type": "css",
                 "url": "/assetserver/46517a424aa5e6cffc1360d7e0848b601c584ee3-katex.min.css"
                }
               ],
               "type": "async_block"
              },
              "mount_callbacks": [
               "function () {\n    var handler = ((function (k){this.k=k; this.container=this.dom.querySelector(\"#container\"); return k.render(\"\\\\;\\\\;\",this.container)}));\n    (WebIO.importBlock({\"data\":[{\"name\":null,\"type\":\"js\",\"url\":\"/assetserver/dd22ed1bf1896c2748f3fe616ce0b838adc895c1-katex.min.js\"},{\"name\":null,\"type\":\"css\",\"url\":\"/assetserver/46517a424aa5e6cffc1360d7e0848b601c584ee3-katex.min.css\"}],\"type\":\"async_block\"})).then((imports) => handler.apply(this, imports));\n}\n"
              ],
              "observables": {
               "value": {
                "id": "7388917651806250695",
                "sync": false,
                "value": "\\;\\;"
               }
              },
              "systemjs_options": null
             },
             "nodeType": "Scope",
             "props": {},
             "type": "node"
            }
           ],
           "instanceArgs": {
            "namespace": "html",
            "tag": "div"
           },
           "nodeType": "DOM",
           "props": {
            "className": "interact-widget"
           },
           "type": "node"
          },
          {
           "children": [
            {
             "children": [],
             "instanceArgs": {
              "namespace": "html",
              "tag": "div"
             },
             "nodeType": "DOM",
             "props": {
              "className": "webio-observable",
              "setInnerHtml": "<img src='data:image/png;base64,iVBORw0KGgoAAAANSUhEUgAAAa4AAAGuCAIAAABHl3XNAAAABmJLR0QA/wD/AP+gvaeTAAAFpUlEQVR4nO3aMW4TQQCG0S8UpAkHsHMDJKR05A7cAKg5ELgB6pTuOAR0QeIKyQWgMc1SpEEigSLRDNK+V9pT/MXq06zlo2VZAli3R7MHAMwnhQBSCCCFAEkhQFIIkBQCJIUASSFAUgiQFAIkhQBJIUBSCJAUAiSFAEkhQFIIkBQCJIUASSFAUgiQFAIkhQBJIUBSCJAUAiSFAEkhQFIIkBQCJIUASSFAUgiQFAIkhQBJIUBSCJAUAiSFAEkhQFIIkBQCJIUASSFAUgiQFAIkhQBJIUBSCJAUAiSFAEkhQFIIkBQCJIUASSFAUgiQFAIkhQBJIUBSCJAUAiSFAEkhQFIIkBQCJIUASSFAUgiQFAIkhQBJIUBSCJAUAiSFAEkhQFIIkBQCJIUASSFAUgiQFAIkhQBJIUBSCJAUAiSFAEkhQFIIkBQCJIUASSFz7fdtNm027fezp7BuR8uyzN7Aep2edn1dtd12dTV7DSvmVggghUy127Xdtt22282ewrp5QQZwKwSQQoCkECApBEgKAZJCgKQQICkESAoBkkKApBAgKQRICgGSQoCkECApBEgKAZJCgKQQICkESAoBkkKApBAgKQRICgGSQoCkECApBEgKAZJCgKQQICkESAoBkkKApBAgKQRICgGSQoCkECApBEgKAZJCgKQQICkESAoBkkKApBAgKQRICgGSQoCkECApBEgKAZJCgKQQICkESAoBkkKApBAgKQRICgGSQoCkECApBEgKAZJCgKQQICkESAoBkkKApBAgKQRICgGSQoCkECApBEgKAZJCgKQQICkESAoBkkKApBAgKQRICgGSQoCkECApBEgKAZJCgKQQICkESAoBkkKApBAgKQRICgGSQoCkECApBEgKAZJCgKQQICkESAoBkkKApBAgKQRICgGSQoCkECApZJ5Dva3zOqmTOq93dZi9ipU6WpZl9gZW6Kpe1Nc/Pj+rT3U6YRHrJoWMd6jnt3Xwxll9ruOhi1g9L8iM9/7uDlaX9XHcFqikkBku7n0AHpgXZMZ7Uj/+euCkvg/aApVbIf8ljyWjeeYY7+m9D8ADk0LGe/2vA69GrIDf+K2Q8Q51Xpd3fHtWX+rx0EWsnlsh4x3Xpzq77aubv1jrIKO5FTLLz/pQF/Wtqmf1st7oIFNIIYAXZAApBEgKAZJCgKQQICkESAoBkkKApBAgKQRICgGSQoCkECApBEgKAZJCgKQQICkESAoBkkKApBAgKQRICgGSQoCkECApBEgKAZJCgKQQICkESAoBkkKApBAgKQRICgGSQoCkECApBEgKAZJCgKQQICkESAoBkkKApBAgKQRICgGSQoCkECApBEgKAZJCgKQQICkESAoBkkKApBAgKQRICgGSQoCkECApBEgKAZJCgKQQICkESAoBkkKApBAgKQRICgGSQoCkECApBEgKAZJCgKQQICkESAoBkkKApBAgKQRICgGSQoCkECApBEgKAZJCgKQQICkESAoBkkKApBAgKQRICgGSQoCkECApBEgKAZJCgKQQICkESAoBkkKApBAgKQRICgGSQoCkECApBEgKAZJCgKQQICkESAoBkkKApBAgKQRICgGSQoCkECApBEgKAZJCgKQQICkESAoBkkKApBAgKQRICgGSQoCkECApBEgKAZJCgKQQICkESAoBkkKApBAgKQRICgGSQoCkECApBEgKAZJCgKQQICkESAoBkkKApBAgKQRICgGSQoCkECApBEgKAZJCgKQQICkESAoBkkKApBAgKQRICgGSQoCkECApBEgKAZJCgKQQICkESAoBkkKApBAgKQRICgGSQoCkECApBEgKAZJCgKQQICkESAoBkkKApBAgKQRICgGSQoCkECApBEgKAZJCgKQQICkESAoBkkKApBAgKQRICgGSQoCkECApBEgKAZJCgOoXi4VBqWpBi50AAAAASUVORK5CYII='></img>"
             },
             "type": "node"
            }
           ],
           "instanceArgs": {
            "handlers": {
             "obs-output": [
              "function (value, scope) {\n    scope.setInnerHTML(value);\n}\n"
             ]
            },
            "id": "11799046795331557413",
            "imports": {
             "data": [],
             "type": "async_block"
            },
            "mount_callbacks": [],
            "observables": {
             "obs-output": {
              "id": "8790083353432798027",
              "sync": false,
              "value": "<img src='data:image/png;base64,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'></img>"
             }
            },
            "systemjs_options": null
           },
           "nodeType": "Scope",
           "props": {},
           "type": "node"
          },
          {
           "children": [
            {
             "children": [
              {
               "children": [],
               "instanceArgs": {
                "namespace": "html",
                "tag": "div"
               },
               "nodeType": "DOM",
               "props": {
                "id": "container"
               },
               "type": "node"
              }
             ],
             "instanceArgs": {
              "handlers": {
               "value": [
                "(function (txt){return this.k.render(txt,this.container)})"
               ]
              },
              "id": "5806910441574635216",
              "imports": {
               "data": [
                {
                 "name": null,
                 "type": "js",
                 "url": "/assetserver/dd22ed1bf1896c2748f3fe616ce0b838adc895c1-katex.min.js"
                },
                {
                 "name": null,
                 "type": "css",
                 "url": "/assetserver/46517a424aa5e6cffc1360d7e0848b601c584ee3-katex.min.css"
                }
               ],
               "type": "async_block"
              },
              "mount_callbacks": [
               "function () {\n    var handler = ((function (k){this.k=k; this.container=this.dom.querySelector(\"#container\"); return k.render(\"\\\\;\\\\;\",this.container)}));\n    (WebIO.importBlock({\"data\":[{\"name\":null,\"type\":\"js\",\"url\":\"/assetserver/dd22ed1bf1896c2748f3fe616ce0b838adc895c1-katex.min.js\"},{\"name\":null,\"type\":\"css\",\"url\":\"/assetserver/46517a424aa5e6cffc1360d7e0848b601c584ee3-katex.min.css\"}],\"type\":\"async_block\"})).then((imports) => handler.apply(this, imports));\n}\n"
              ],
              "observables": {
               "value": {
                "id": "7388917651806250695",
                "sync": false,
                "value": "\\;\\;"
               }
              },
              "systemjs_options": null
             },
             "nodeType": "Scope",
             "props": {},
             "type": "node"
            }
           ],
           "instanceArgs": {
            "namespace": "html",
            "tag": "div"
           },
           "nodeType": "DOM",
           "props": {
            "className": "interact-widget"
           },
           "type": "node"
          },
          {
           "children": [],
           "instanceArgs": {
            "namespace": "html",
            "tag": "div"
           },
           "nodeType": "DOM",
           "props": {
            "style": {
             "display": "flex",
             "flex-direction": "column"
            }
           },
           "type": "node"
          }
         ],
         "instanceArgs": {
          "namespace": "html",
          "tag": "div"
         },
         "nodeType": "DOM",
         "props": {
          "style": {
           "display": "flex",
           "flex-direction": "row"
          }
         },
         "type": "node"
        }
       ],
       "instanceArgs": {
        "namespace": "html",
        "tag": "div"
       },
       "nodeType": "DOM",
       "props": {
        "style": {
         "display": "flex",
         "flex-direction": "column"
        }
       },
       "type": "node"
      },
      "text/html": [
       "<div\n",
       "    class=\"webio-mountpoint\"\n",
       "    data-webio-mountpoint=\"3245194352926237260\"\n",
       ">\n",
       "    <script>\n",
       "    (function(){\n",
       "    // Some integrations (namely, IJulia/Jupyter) use an alternate render pathway than\n",
       "    // just putting the html on the page. If WebIO isn't defined, then it's pretty likely\n",
       "    // that we're in one of those situations and the integration just isn't installed\n",
       "    // correctly.\n",
       "    if (typeof window.WebIO === \"undefined\") {\n",
       "        document\n",
       "            .querySelector('[data-webio-mountpoint=\"3245194352926237260\"]')\n",
       "            .innerHTML = (\n",
       "                '<div style=\"padding: 1em; background-color: #f8d6da; border: 1px solid #f5c6cb; font-weight: bold;\">' +\n",
       "                '<p><strong>WebIO not detected.</strong></p>' +\n",
       "                '<p>Please read ' +\n",
       "                '<a href=\"https://juliagizmos.github.io/WebIO.jl/latest/troubleshooting/not-detected/\" target=\"_blank\">the troubleshooting guide</a> ' +\n",
       "                'for more information on how to resolve this issue.</p>' +\n",
       "                '<p><a href=\"https://juliagizmos.github.io/WebIO.jl/latest/troubleshooting/not-detected/\" target=\"_blank\">https://juliagizmos.github.io/WebIO.jl/latest/troubleshooting/not-detected/</a></p>' +\n",
       "                '</div>'\n",
       "            );\n",
       "        return;\n",
       "    }\n",
       "    WebIO.mount(\n",
       "        document.querySelector('[data-webio-mountpoint=\"3245194352926237260\"]'),\n",
       "        {\"props\":{\"style\":{\"display\":\"flex\",\"flex-direction\":\"column\"}},\"nodeType\":\"DOM\",\"type\":\"node\",\"instanceArgs\":{\"namespace\":\"html\",\"tag\":\"div\"},\"children\":[{\"props\":{\"style\":{\"display\":\"flex\",\"flex-direction\":\"row\"}},\"nodeType\":\"DOM\",\"type\":\"node\",\"instanceArgs\":{\"namespace\":\"html\",\"tag\":\"div\"},\"children\":[{\"props\":{\"style\":{\"display\":\"flex\",\"flex-direction\":\"column\"}},\"nodeType\":\"DOM\",\"type\":\"node\",\"instanceArgs\":{\"namespace\":\"html\",\"tag\":\"div\"},\"children\":[{\"props\":{\"className\":\"field interact-widget\"},\"nodeType\":\"DOM\",\"type\":\"node\",\"instanceArgs\":{\"namespace\":\"html\",\"tag\":\"div\"},\"children\":[{\"props\":{},\"nodeType\":\"Scope\",\"type\":\"node\",\"instanceArgs\":{\"imports\":{\"data\":[{\"name\":\"knockout\",\"type\":\"js\",\"url\":\"\\/assetserver\\/727383f2a47bd31570b7da84eee7b022dd6d7c78-knockout.js\"},{\"name\":\"knockout_punches\",\"type\":\"js\",\"url\":\"\\/assetserver\\/382b41b3b1bd9f26f75861d360bad7f8beea211f-knockout_punches.js\"},{\"name\":null,\"type\":\"js\",\"url\":\"\\/assetserver\\/5ab20f1060420992a9b82a65b735dee4d81ef413-all.js\"},{\"name\":null,\"type\":\"css\",\"url\":\"\\/assetserver\\/1cc0ed62837210b80a182cc3676512f895dab686-style.css\"},{\"name\":null,\"type\":\"css\",\"url\":\"\\/assetserver\\/2eee816f616df3549d7044d45e744fbf8d42bfa1-bulma_confined.min.css\"}],\"type\":\"async_block\"},\"id\":\"2940939504953961307\",\"handlers\":{\"changes\":[\"(function (val){return (val!=this.model[\\\"changes\\\"]()) ? (this.valueFromJulia[\\\"changes\\\"]=true, this.model[\\\"changes\\\"](val)) : undefined})\"],\"index\":[\"(function (val){return (val!=this.model[\\\"index\\\"]()) ? (this.valueFromJulia[\\\"index\\\"]=true, this.model[\\\"index\\\"](val)) : undefined})\"]},\"systemjs_options\":null,\"mount_callbacks\":[\"function () {\\n    var handler = (function (ko, koPunches) {\\n    ko.punches.enableAll();\\n    ko.bindingHandlers.numericValue = {\\n        init: function(element, valueAccessor, allBindings, data, context) {\\n            var stringified = ko.observable(ko.unwrap(valueAccessor()));\\n            stringified.subscribe(function(value) {\\n                var val = parseFloat(value);\\n                if (!isNaN(val)) {\\n                    valueAccessor()(val);\\n                }\\n            });\\n            valueAccessor().subscribe(function(value) {\\n                var str = JSON.stringify(value);\\n                if ((str == \\\"0\\\") && ([\\\"-0\\\", \\\"-0.\\\"].indexOf(stringified()) >= 0))\\n                     return;\\n                 if ([\\\"null\\\", \\\"\\\"].indexOf(str) >= 0)\\n                     return;\\n                stringified(str);\\n            });\\n            ko.applyBindingsToNode(\\n                element,\\n                {\\n                    value: stringified,\\n                    valueUpdate: allBindings.get('valueUpdate'),\\n                },\\n                context,\\n            );\\n        }\\n    };\\n    var json_data = {\\\"formatted_vals\\\":[\\\"1\\\",\\\"2\\\",\\\"3\\\",\\\"4\\\",\\\"5\\\",\\\"6\\\",\\\"7\\\",\\\"8\\\",\\\"9\\\",\\\"10\\\",\\\"11\\\",\\\"12\\\",\\\"13\\\",\\\"14\\\",\\\"15\\\",\\\"16\\\",\\\"17\\\",\\\"18\\\",\\\"19\\\",\\\"20\\\",\\\"21\\\",\\\"22\\\",\\\"23\\\",\\\"24\\\",\\\"25\\\",\\\"26\\\",\\\"27\\\",\\\"28\\\",\\\"29\\\",\\\"30\\\",\\\"31\\\",\\\"32\\\",\\\"33\\\",\\\"34\\\",\\\"35\\\",\\\"36\\\",\\\"37\\\",\\\"38\\\",\\\"39\\\",\\\"40\\\",\\\"41\\\",\\\"42\\\",\\\"43\\\",\\\"44\\\",\\\"45\\\",\\\"46\\\",\\\"47\\\",\\\"48\\\",\\\"49\\\",\\\"50\\\",\\\"51\\\",\\\"52\\\",\\\"53\\\",\\\"54\\\",\\\"55\\\",\\\"56\\\",\\\"57\\\",\\\"58\\\",\\\"59\\\",\\\"60\\\",\\\"61\\\",\\\"62\\\",\\\"63\\\",\\\"64\\\",\\\"65\\\",\\\"66\\\",\\\"67\\\",\\\"68\\\",\\\"69\\\",\\\"70\\\",\\\"71\\\",\\\"72\\\",\\\"73\\\",\\\"74\\\",\\\"75\\\",\\\"76\\\",\\\"77\\\",\\\"78\\\",\\\"79\\\",\\\"80\\\",\\\"81\\\",\\\"82\\\",\\\"83\\\",\\\"84\\\",\\\"85\\\",\\\"86\\\",\\\"87\\\",\\\"88\\\",\\\"89\\\",\\\"90\\\",\\\"91\\\",\\\"92\\\",\\\"93\\\",\\\"94\\\",\\\"95\\\",\\\"96\\\",\\\"97\\\",\\\"98\\\",\\\"99\\\",\\\"100\\\",\\\"101\\\",\\\"102\\\",\\\"103\\\",\\\"104\\\",\\\"105\\\",\\\"106\\\",\\\"107\\\",\\\"108\\\",\\\"109\\\",\\\"110\\\",\\\"111\\\",\\\"112\\\",\\\"113\\\",\\\"114\\\",\\\"115\\\",\\\"116\\\",\\\"117\\\",\\\"118\\\",\\\"119\\\",\\\"120\\\",\\\"121\\\",\\\"122\\\",\\\"123\\\",\\\"124\\\",\\\"125\\\",\\\"126\\\",\\\"127\\\",\\\"128\\\",\\\"129\\\",\\\"130\\\",\\\"131\\\",\\\"132\\\",\\\"133\\\",\\\"134\\\",\\\"135\\\",\\\"136\\\",\\\"137\\\",\\\"138\\\",\\\"139\\\",\\\"140\\\",\\\"141\\\",\\\"142\\\",\\\"143\\\",\\\"144\\\",\\\"145\\\",\\\"146\\\",\\\"147\\\",\\\"148\\\",\\\"149\\\",\\\"150\\\",\\\"151\\\",\\\"152\\\",\\\"153\\\",\\\"154\\\",\\\"155\\\",\\\"156\\\",\\\"157\\\",\\\"158\\\",\\\"159\\\",\\\"160\\\",\\\"161\\\",\\\"162\\\",\\\"163\\\",\\\"164\\\",\\\"165\\\",\\\"166\\\",\\\"167\\\",\\\"168\\\",\\\"169\\\",\\\"170\\\",\\\"171\\\",\\\"172\\\",\\\"173\\\",\\\"174\\\",\\\"175\\\",\\\"176\\\",\\\"177\\\",\\\"178\\\",\\\"179\\\",\\\"180\\\",\\\"181\\\",\\\"182\\\",\\\"183\\\",\\\"184\\\",\\\"185\\\",\\\"186\\\",\\\"187\\\",\\\"188\\\",\\\"189\\\",\\\"190\\\",\\\"191\\\",\\\"192\\\",\\\"193\\\",\\\"194\\\",\\\"195\\\",\\\"196\\\",\\\"197\\\",\\\"198\\\",\\\"199\\\",\\\"200\\\"],\\\"changes\\\":WebIO.getval({\\\"name\\\":\\\"changes\\\",\\\"scope\\\":\\\"2940939504953961307\\\",\\\"id\\\":\\\"12399165649067750126\\\",\\\"type\\\":\\\"observable\\\"}),\\\"index\\\":WebIO.getval({\\\"name\\\":\\\"index\\\",\\\"scope\\\":\\\"2940939504953961307\\\",\\\"id\\\":\\\"5489032090183613323\\\",\\\"type\\\":\\\"observable\\\"})};\\n    var self = this;\\n    function AppViewModel() {\\n        for (var key in json_data) {\\n            var el = json_data[key];\\n            this[key] = Array.isArray(el) ? ko.observableArray(el) : ko.observable(el);\\n        }\\n        \\n        [this[\\\"formatted_val\\\"]=ko.computed(    function(){\\n        return this.formatted_vals()[parseInt(this.index())-(1)];\\n    }\\n,this)]\\n        [this[\\\"changes\\\"].subscribe((function (val){!(this.valueFromJulia[\\\"changes\\\"]) ? (WebIO.setval({\\\"name\\\":\\\"changes\\\",\\\"scope\\\":\\\"2940939504953961307\\\",\\\"id\\\":\\\"12399165649067750126\\\",\\\"type\\\":\\\"observable\\\"},val)) : undefined; return this.valueFromJulia[\\\"changes\\\"]=false}),self),this[\\\"index\\\"].subscribe((function (val){!(this.valueFromJulia[\\\"index\\\"]) ? (WebIO.setval({\\\"name\\\":\\\"index\\\",\\\"scope\\\":\\\"2940939504953961307\\\",\\\"id\\\":\\\"5489032090183613323\\\",\\\"type\\\":\\\"observable\\\"},val)) : undefined; return this.valueFromJulia[\\\"index\\\"]=false}),self)]\\n        \\n    }\\n    self.model = new AppViewModel();\\n    self.valueFromJulia = {};\\n    for (var key in json_data) {\\n        self.valueFromJulia[key] = false;\\n    }\\n    ko.applyBindings(self.model, self.dom);\\n}\\n);\\n    (WebIO.importBlock({\\\"data\\\":[{\\\"name\\\":\\\"knockout\\\",\\\"type\\\":\\\"js\\\",\\\"url\\\":\\\"\\/assetserver\\/727383f2a47bd31570b7da84eee7b022dd6d7c78-knockout.js\\\"},{\\\"name\\\":\\\"knockout_punches\\\",\\\"type\\\":\\\"js\\\",\\\"url\\\":\\\"\\/assetserver\\/382b41b3b1bd9f26f75861d360bad7f8beea211f-knockout_punches.js\\\"}],\\\"type\\\":\\\"async_block\\\"})).then((imports) => handler.apply(this, imports));\\n}\\n\"],\"observables\":{\"changes\":{\"sync\":false,\"id\":\"12399165649067750126\",\"value\":0},\"index\":{\"sync\":true,\"id\":\"5489032090183613323\",\"value\":1}}},\"children\":[{\"props\":{\"className\":\"interact-flex-row interact-widget\"},\"nodeType\":\"DOM\",\"type\":\"node\",\"instanceArgs\":{\"namespace\":\"html\",\"tag\":\"div\"},\"children\":[{\"props\":{\"className\":\"interact-flex-row-left\"},\"nodeType\":\"DOM\",\"type\":\"node\",\"instanceArgs\":{\"namespace\":\"html\",\"tag\":\"div\"},\"children\":[{\"props\":{\"className\":\"interact \",\"style\":{\"padding\":\"5px 10px 0px 10px\"}},\"nodeType\":\"DOM\",\"type\":\"node\",\"instanceArgs\":{\"namespace\":\"html\",\"tag\":\"label\"},\"children\":[\"time\"]}]},{\"props\":{\"className\":\"interact-flex-row-center\"},\"nodeType\":\"DOM\",\"type\":\"node\",\"instanceArgs\":{\"namespace\":\"html\",\"tag\":\"div\"},\"children\":[{\"props\":{\"max\":200,\"min\":1,\"attributes\":{\"type\":\"range\",\"data-bind\":\"numericValue: index, valueUpdate: 'input', event: {change: function (){this.changes(this.changes()+1)}}\",\"orient\":\"horizontal\"},\"step\":1,\"className\":\"slider slider is-fullwidth\",\"style\":{}},\"nodeType\":\"DOM\",\"type\":\"node\",\"instanceArgs\":{\"namespace\":\"html\",\"tag\":\"input\"},\"children\":[]}]},{\"props\":{\"className\":\"interact-flex-row-right\"},\"nodeType\":\"DOM\",\"type\":\"node\",\"instanceArgs\":{\"namespace\":\"html\",\"tag\":\"div\"},\"children\":[{\"props\":{\"attributes\":{\"data-bind\":\"text: formatted_val\"}},\"nodeType\":\"DOM\",\"type\":\"node\",\"instanceArgs\":{\"namespace\":\"html\",\"tag\":\"p\"},\"children\":[]}]}]}]}]},{\"props\":{\"className\":\"field interact-widget\"},\"nodeType\":\"DOM\",\"type\":\"node\",\"instanceArgs\":{\"namespace\":\"html\",\"tag\":\"div\"},\"children\":[{\"props\":{},\"nodeType\":\"Scope\",\"type\":\"node\",\"instanceArgs\":{\"imports\":{\"data\":[{\"name\":\"knockout\",\"type\":\"js\",\"url\":\"\\/assetserver\\/727383f2a47bd31570b7da84eee7b022dd6d7c78-knockout.js\"},{\"name\":\"knockout_punches\",\"type\":\"js\",\"url\":\"\\/assetserver\\/382b41b3b1bd9f26f75861d360bad7f8beea211f-knockout_punches.js\"},{\"name\":null,\"type\":\"js\",\"url\":\"\\/assetserver\\/5ab20f1060420992a9b82a65b735dee4d81ef413-all.js\"},{\"name\":null,\"type\":\"css\",\"url\":\"\\/assetserver\\/1cc0ed62837210b80a182cc3676512f895dab686-style.css\"},{\"name\":null,\"type\":\"css\",\"url\":\"\\/assetserver\\/2eee816f616df3549d7044d45e744fbf8d42bfa1-bulma_confined.min.css\"}],\"type\":\"async_block\"},\"id\":\"10940133024497881905\",\"handlers\":{\"changes\":[\"(function (val){return (val!=this.model[\\\"changes\\\"]()) ? (this.valueFromJulia[\\\"changes\\\"]=true, this.model[\\\"changes\\\"](val)) : undefined})\"],\"index\":[\"(function (val){return (val!=this.model[\\\"index\\\"]()) ? (this.valueFromJulia[\\\"index\\\"]=true, this.model[\\\"index\\\"](val)) : undefined})\"]},\"systemjs_options\":null,\"mount_callbacks\":[\"function () {\\n    var handler = (function (ko, koPunches) {\\n    ko.punches.enableAll();\\n    ko.bindingHandlers.numericValue = {\\n        init: function(element, valueAccessor, allBindings, data, context) {\\n            var stringified = ko.observable(ko.unwrap(valueAccessor()));\\n            stringified.subscribe(function(value) {\\n                var val = parseFloat(value);\\n                if (!isNaN(val)) {\\n                    valueAccessor()(val);\\n                }\\n            });\\n            valueAccessor().subscribe(function(value) {\\n                var str = JSON.stringify(value);\\n                if ((str == \\\"0\\\") && ([\\\"-0\\\", \\\"-0.\\\"].indexOf(stringified()) >= 0))\\n                     return;\\n                 if ([\\\"null\\\", \\\"\\\"].indexOf(str) >= 0)\\n                     return;\\n                stringified(str);\\n            });\\n            ko.applyBindingsToNode(\\n                element,\\n                {\\n                    value: stringified,\\n                    valueUpdate: allBindings.get('valueUpdate'),\\n                },\\n                context,\\n            );\\n        }\\n    };\\n    var json_data = {\\\"formatted_vals\\\":[\\\"0.1\\\",\\\"0.2\\\",\\\"0.3\\\",\\\"0.4\\\",\\\"0.5\\\",\\\"0.6\\\",\\\"0.7\\\",\\\"0.8\\\",\\\"0.9\\\",\\\"1.0\\\",\\\"1.1\\\",\\\"1.2\\\",\\\"1.3\\\",\\\"1.4\\\",\\\"1.5\\\",\\\"1.6\\\",\\\"1.7\\\",\\\"1.8\\\",\\\"1.9\\\",\\\"2.0\\\"],\\\"changes\\\":WebIO.getval({\\\"name\\\":\\\"changes\\\",\\\"scope\\\":\\\"10940133024497881905\\\",\\\"id\\\":\\\"10647444817610601937\\\",\\\"type\\\":\\\"observable\\\"}),\\\"index\\\":WebIO.getval({\\\"name\\\":\\\"index\\\",\\\"scope\\\":\\\"10940133024497881905\\\",\\\"id\\\":\\\"13360757210172374018\\\",\\\"type\\\":\\\"observable\\\"})};\\n    var self = this;\\n    function AppViewModel() {\\n        for (var key in json_data) {\\n            var el = json_data[key];\\n            this[key] = Array.isArray(el) ? ko.observableArray(el) : ko.observable(el);\\n        }\\n        \\n        [this[\\\"formatted_val\\\"]=ko.computed(    function(){\\n        return this.formatted_vals()[parseInt(this.index())-(1)];\\n    }\\n,this)]\\n        [this[\\\"changes\\\"].subscribe((function (val){!(this.valueFromJulia[\\\"changes\\\"]) ? (WebIO.setval({\\\"name\\\":\\\"changes\\\",\\\"scope\\\":\\\"10940133024497881905\\\",\\\"id\\\":\\\"10647444817610601937\\\",\\\"type\\\":\\\"observable\\\"},val)) : undefined; return this.valueFromJulia[\\\"changes\\\"]=false}),self),this[\\\"index\\\"].subscribe((function (val){!(this.valueFromJulia[\\\"index\\\"]) ? (WebIO.setval({\\\"name\\\":\\\"index\\\",\\\"scope\\\":\\\"10940133024497881905\\\",\\\"id\\\":\\\"13360757210172374018\\\",\\\"type\\\":\\\"observable\\\"},val)) : undefined; return this.valueFromJulia[\\\"index\\\"]=false}),self)]\\n        \\n    }\\n    self.model = new AppViewModel();\\n    self.valueFromJulia = {};\\n    for (var key in json_data) {\\n        self.valueFromJulia[key] = false;\\n    }\\n    ko.applyBindings(self.model, self.dom);\\n}\\n);\\n    (WebIO.importBlock({\\\"data\\\":[{\\\"name\\\":\\\"knockout\\\",\\\"type\\\":\\\"js\\\",\\\"url\\\":\\\"\\/assetserver\\/727383f2a47bd31570b7da84eee7b022dd6d7c78-knockout.js\\\"},{\\\"name\\\":\\\"knockout_punches\\\",\\\"type\\\":\\\"js\\\",\\\"url\\\":\\\"\\/assetserver\\/382b41b3b1bd9f26f75861d360bad7f8beea211f-knockout_punches.js\\\"}],\\\"type\\\":\\\"async_block\\\"})).then((imports) => handler.apply(this, imports));\\n}\\n\"],\"observables\":{\"changes\":{\"sync\":false,\"id\":\"10647444817610601937\",\"value\":0},\"index\":{\"sync\":true,\"id\":\"13360757210172374018\",\"value\":10}}},\"children\":[{\"props\":{\"className\":\"interact-flex-row interact-widget\"},\"nodeType\":\"DOM\",\"type\":\"node\",\"instanceArgs\":{\"namespace\":\"html\",\"tag\":\"div\"},\"children\":[{\"props\":{\"className\":\"interact-flex-row-left\"},\"nodeType\":\"DOM\",\"type\":\"node\",\"instanceArgs\":{\"namespace\":\"html\",\"tag\":\"div\"},\"children\":[{\"props\":{\"className\":\"interact \",\"style\":{\"padding\":\"5px 10px 0px 10px\"}},\"nodeType\":\"DOM\",\"type\":\"node\",\"instanceArgs\":{\"namespace\":\"html\",\"tag\":\"label\"},\"children\":[\"scale\"]}]},{\"props\":{\"className\":\"interact-flex-row-center\"},\"nodeType\":\"DOM\",\"type\":\"node\",\"instanceArgs\":{\"namespace\":\"html\",\"tag\":\"div\"},\"children\":[{\"props\":{\"max\":20,\"min\":1,\"attributes\":{\"type\":\"range\",\"data-bind\":\"numericValue: index, valueUpdate: 'input', event: {change: function (){this.changes(this.changes()+1)}}\",\"orient\":\"horizontal\"},\"step\":1,\"className\":\"slider slider is-fullwidth\",\"style\":{}},\"nodeType\":\"DOM\",\"type\":\"node\",\"instanceArgs\":{\"namespace\":\"html\",\"tag\":\"input\"},\"children\":[]}]},{\"props\":{\"className\":\"interact-flex-row-right\"},\"nodeType\":\"DOM\",\"type\":\"node\",\"instanceArgs\":{\"namespace\":\"html\",\"tag\":\"div\"},\"children\":[{\"props\":{\"attributes\":{\"data-bind\":\"text: formatted_val\"}},\"nodeType\":\"DOM\",\"type\":\"node\",\"instanceArgs\":{\"namespace\":\"html\",\"tag\":\"p\"},\"children\":[]}]}]}]}]},{\"props\":{\"style\":{\"display\":\"flex\",\"flex-direction\":\"column\"}},\"nodeType\":\"DOM\",\"type\":\"node\",\"instanceArgs\":{\"namespace\":\"html\",\"tag\":\"div\"},\"children\":[{\"props\":{\"className\":\"field interact-widget\"},\"nodeType\":\"DOM\",\"type\":\"node\",\"instanceArgs\":{\"namespace\":\"html\",\"tag\":\"div\"},\"children\":[{\"props\":{},\"nodeType\":\"Scope\",\"type\":\"node\",\"instanceArgs\":{\"imports\":{\"data\":[{\"name\":\"knockout\",\"type\":\"js\",\"url\":\"\\/assetserver\\/727383f2a47bd31570b7da84eee7b022dd6d7c78-knockout.js\"},{\"name\":\"knockout_punches\",\"type\":\"js\",\"url\":\"\\/assetserver\\/382b41b3b1bd9f26f75861d360bad7f8beea211f-knockout_punches.js\"},{\"name\":null,\"type\":\"js\",\"url\":\"\\/assetserver\\/5ab20f1060420992a9b82a65b735dee4d81ef413-all.js\"},{\"name\":null,\"type\":\"css\",\"url\":\"\\/assetserver\\/1cc0ed62837210b80a182cc3676512f895dab686-style.css\"},{\"name\":null,\"type\":\"css\",\"url\":\"\\/assetserver\\/2eee816f616df3549d7044d45e744fbf8d42bfa1-bulma_confined.min.css\"}],\"type\":\"async_block\"},\"id\":\"6301508558890833542\",\"handlers\":{\"changes\":[\"(function (val){return (val!=this.model[\\\"changes\\\"]()) ? (this.valueFromJulia[\\\"changes\\\"]=true, this.model[\\\"changes\\\"](val)) : undefined})\"],\"index\":[\"(function (val){return (val!=this.model[\\\"index\\\"]()) ? (this.valueFromJulia[\\\"index\\\"]=true, this.model[\\\"index\\\"](val)) : undefined})\"]},\"systemjs_options\":null,\"mount_callbacks\":[\"function () {\\n    var handler = (function (ko, koPunches) {\\n    ko.punches.enableAll();\\n    ko.bindingHandlers.numericValue = {\\n        init: function(element, valueAccessor, allBindings, data, context) {\\n            var stringified = ko.observable(ko.unwrap(valueAccessor()));\\n            stringified.subscribe(function(value) {\\n                var val = parseFloat(value);\\n                if (!isNaN(val)) {\\n                    valueAccessor()(val);\\n                }\\n            });\\n            valueAccessor().subscribe(function(value) {\\n                var str = JSON.stringify(value);\\n                if ((str == \\\"0\\\") && ([\\\"-0\\\", \\\"-0.\\\"].indexOf(stringified()) >= 0))\\n                     return;\\n                 if ([\\\"null\\\", \\\"\\\"].indexOf(str) >= 0)\\n                     return;\\n                stringified(str);\\n            });\\n            ko.applyBindingsToNode(\\n                element,\\n                {\\n                    value: stringified,\\n                    valueUpdate: allBindings.get('valueUpdate'),\\n                },\\n                context,\\n            );\\n        }\\n    };\\n    var json_data = {\\\"formatted_vals\\\":[\\\"(-10.0, 0.0)\\\\n\\\",\\\"(-9.9, 0.0)\\\\n\\\",\\\"(-9.8, 0.0)\\\\n\\\",\\\"(-9.7, 0.0)\\\\n\\\",\\\"(-9.6, 0.0)\\\\n\\\",\\\"(-9.5, 0.0)\\\\n\\\",\\\"(-9.4, 0.0)\\\\n\\\",\\\"(-9.3, 0.0)\\\\n\\\",\\\"(-9.2, 0.0)\\\\n\\\",\\\"(-9.1, 0.0)\\\\n\\\",\\\"(-9.0, 0.0)\\\\n\\\",\\\"(-8.9, 0.0)\\\\n\\\",\\\"(-8.8, 0.0)\\\\n\\\",\\\"(-8.7, 0.0)\\\\n\\\",\\\"(-8.6, 0.0)\\\\n\\\",\\\"(-8.5, 0.0)\\\\n\\\",\\\"(-8.4, 0.0)\\\\n\\\",\\\"(-8.3, 0.0)\\\\n\\\",\\\"(-8.2, 0.0)\\\\n\\\",\\\"(-8.1, 0.0)\\\\n\\\",\\\"(-8.0, 0.0)\\\\n\\\",\\\"(-7.9, 0.0)\\\\n\\\",\\\"(-7.8, 0.0)\\\\n\\\",\\\"(-7.7, 0.0)\\\\n\\\",\\\"(-7.6, 0.0)\\\\n\\\",\\\"(-7.5, 0.0)\\\\n\\\",\\\"(-7.4, 0.0)\\\\n\\\",\\\"(-7.3, 0.0)\\\\n\\\",\\\"(-7.2, 0.0)\\\\n\\\",\\\"(-7.1, 0.0)\\\\n\\\",\\\"(-7.0, 0.0)\\\\n\\\",\\\"(-6.9, 0.0)\\\\n\\\",\\\"(-6.8, 0.0)\\\\n\\\",\\\"(-6.7, 0.0)\\\\n\\\",\\\"(-6.6, 0.0)\\\\n\\\",\\\"(-6.5, 0.0)\\\\n\\\",\\\"(-6.4, 0.0)\\\\n\\\",\\\"(-6.3, 0.0)\\\\n\\\",\\\"(-6.2, 0.0)\\\\n\\\",\\\"(-6.1, 0.0)\\\\n\\\",\\\"(-6.0, 0.0)\\\\n\\\",\\\"(-5.9, 0.0)\\\\n\\\",\\\"(-5.8, 0.0)\\\\n\\\",\\\"(-5.7, 0.0)\\\\n\\\",\\\"(-5.6, 0.0)\\\\n\\\",\\\"(-5.5, 0.0)\\\\n\\\",\\\"(-5.4, 0.0)\\\\n\\\",\\\"(-5.3, 0.0)\\\\n\\\",\\\"(-5.2, 0.0)\\\\n\\\",\\\"(-5.1, 0.0)\\\\n\\\",\\\"(-5.0, 0.0)\\\\n\\\",\\\"(-4.9, 0.0)\\\\n\\\",\\\"(-4.8, 0.0)\\\\n\\\",\\\"(-4.7, 0.0)\\\\n\\\",\\\"(-4.6, 0.0)\\\\n\\\",\\\"(-4.5, 0.0)\\\\n\\\",\\\"(-4.4, 0.0)\\\\n\\\",\\\"(-4.3, 0.0)\\\\n\\\",\\\"(-4.2, 0.0)\\\\n\\\",\\\"(-4.1, 0.0)\\\\n\\\",\\\"(-4.0, 0.0)\\\\n\\\",\\\"(-3.9, 0.0)\\\\n\\\",\\\"(-3.8, 0.0)\\\\n\\\",\\\"(-3.7, 0.0)\\\\n\\\",\\\"(-3.6, 0.0)\\\\n\\\",\\\"(-3.5, 0.0)\\\\n\\\",\\\"(-3.4, 0.0)\\\\n\\\",\\\"(-3.3, 0.0)\\\\n\\\",\\\"(-3.2, 0.0)\\\\n\\\",\\\"(-3.1, 0.0)\\\\n\\\",\\\"(-3.0, 0.0)\\\\n\\\",\\\"(-2.9, 0.0)\\\\n\\\",\\\"(-2.8, 0.0)\\\\n\\\",\\\"(-2.7, 0.0)\\\\n\\\",\\\"(-2.6, 0.0)\\\\n\\\",\\\"(-2.5, 0.0)\\\\n\\\",\\\"(-2.4, 0.0)\\\\n\\\",\\\"(-2.3, 0.0)\\\\n\\\",\\\"(-2.2, 0.0)\\\\n\\\",\\\"(-2.1, 0.0)\\\\n\\\",\\\"(-2.0, 0.0)\\\\n\\\",\\\"(-1.9, 0.0)\\\\n\\\",\\\"(-1.8, 0.0)\\\\n\\\",\\\"(-1.7, 0.0)\\\\n\\\",\\\"(-1.6, 0.0)\\\\n\\\",\\\"(-1.5, 0.0)\\\\n\\\",\\\"(-1.4, 0.0)\\\\n\\\",\\\"(-1.3, 0.0)\\\\n\\\",\\\"(-1.2, 0.0)\\\\n\\\",\\\"(-1.1, 0.0)\\\\n\\\",\\\"(-1.0, 0.0)\\\\n\\\",\\\"(-0.9, 0.0)\\\\n\\\",\\\"(-0.8, 0.0)\\\\n\\\",\\\"(-0.7, 0.0)\\\\n\\\",\\\"(-0.6, 0.0)\\\\n\\\",\\\"(-0.5, 0.0)\\\\n\\\",\\\"(-0.4, 0.0)\\\\n\\\",\\\"(-0.3, 0.0)\\\\n\\\",\\\"(-0.2, 0.0)\\\\n\\\",\\\"(-0.1, 0.0)\\\\n\\\",\\\"(0.0, 0.0)\\\\n\\\",\\\"(0.1, 0.0)\\\\n\\\",\\\"(0.2, 0.0)\\\\n\\\",\\\"(0.3, 0.0)\\\\n\\\",\\\"(0.4, 0.0)\\\\n\\\",\\\"(0.5, 0.0)\\\\n\\\",\\\"(0.6, 0.0)\\\\n\\\",\\\"(0.7, 0.0)\\\\n\\\",\\\"(0.8, 0.0)\\\\n\\\",\\\"(0.9, 0.0)\\\\n\\\",\\\"(1.0, 0.0)\\\\n\\\",\\\"(1.1, 0.0)\\\\n\\\",\\\"(1.2, 0.0)\\\\n\\\",\\\"(1.3, 0.0)\\\\n\\\",\\\"(1.4, 0.0)\\\\n\\\",\\\"(1.5, 0.0)\\\\n\\\",\\\"(1.6, 0.0)\\\\n\\\",\\\"(1.7, 0.0)\\\\n\\\",\\\"(1.8, 0.0)\\\\n\\\",\\\"(1.9, 0.0)\\\\n\\\",\\\"(2.0, 0.0)\\\\n\\\",\\\"(2.1, 0.0)\\\\n\\\",\\\"(2.2, 0.0)\\\\n\\\",\\\"(2.3, 0.0)\\\\n\\\",\\\"(2.4, 0.0)\\\\n\\\",\\\"(2.5, 0.0)\\\\n\\\",\\\"(2.6, 0.0)\\\\n\\\",\\\"(2.7, 0.0)\\\\n\\\",\\\"(2.8, 0.0)\\\\n\\\",\\\"(2.9, 0.0)\\\\n\\\",\\\"(3.0, 0.0)\\\\n\\\",\\\"(3.1, 0.0)\\\\n\\\",\\\"(3.2, 0.0)\\\\n\\\",\\\"(3.3, 0.0)\\\\n\\\",\\\"(3.4, 0.0)\\\\n\\\",\\\"(3.5, 0.0)\\\\n\\\",\\\"(3.6, 0.0)\\\\n\\\",\\\"(3.7, 0.0)\\\\n\\\",\\\"(3.8, 0.0)\\\\n\\\",\\\"(3.9, 0.0)\\\\n\\\",\\\"(4.0, 0.0)\\\\n\\\",\\\"(4.1, 0.0)\\\\n\\\",\\\"(4.2, 0.0)\\\\n\\\",\\\"(4.3, 0.0)\\\\n\\\",\\\"(4.4, 0.0)\\\\n\\\",\\\"(4.5, 0.0)\\\\n\\\",\\\"(4.6, 0.0)\\\\n\\\",\\\"(4.7, 0.0)\\\\n\\\",\\\"(4.8, 0.0)\\\\n\\\",\\\"(4.9, 0.0)\\\\n\\\",\\\"(5.0, 0.0)\\\\n\\\"],\\\"changes\\\":WebIO.getval({\\\"name\\\":\\\"changes\\\",\\\"scope\\\":\\\"6301508558890833542\\\",\\\"id\\\":\\\"8491049446467423037\\\",\\\"type\\\":\\\"observable\\\"}),\\\"index\\\":WebIO.getval({\\\"name\\\":\\\"index\\\",\\\"scope\\\":\\\"6301508558890833542\\\",\\\"id\\\":\\\"11030241674339803918\\\",\\\"type\\\":\\\"observable\\\"})};\\n    var self = this;\\n    function AppViewModel() {\\n        for (var key in json_data) {\\n            var el = json_data[key];\\n            this[key] = Array.isArray(el) ? ko.observableArray(el) : ko.observable(el);\\n        }\\n        \\n        [this[\\\"formatted_val\\\"]=ko.computed(    function(){\\n        return this.formatted_vals()[parseInt(this.index())-(1)];\\n    }\\n,this)]\\n        [this[\\\"changes\\\"].subscribe((function (val){!(this.valueFromJulia[\\\"changes\\\"]) ? (WebIO.setval({\\\"name\\\":\\\"changes\\\",\\\"scope\\\":\\\"6301508558890833542\\\",\\\"id\\\":\\\"8491049446467423037\\\",\\\"type\\\":\\\"observable\\\"},val)) : undefined; return this.valueFromJulia[\\\"changes\\\"]=false}),self),this[\\\"index\\\"].subscribe((function (val){!(this.valueFromJulia[\\\"index\\\"]) ? (WebIO.setval({\\\"name\\\":\\\"index\\\",\\\"scope\\\":\\\"6301508558890833542\\\",\\\"id\\\":\\\"11030241674339803918\\\",\\\"type\\\":\\\"observable\\\"},val)) : undefined; return this.valueFromJulia[\\\"index\\\"]=false}),self)]\\n        \\n    }\\n    self.model = new AppViewModel();\\n    self.valueFromJulia = {};\\n    for (var key in json_data) {\\n        self.valueFromJulia[key] = false;\\n    }\\n    ko.applyBindings(self.model, self.dom);\\n}\\n);\\n    (WebIO.importBlock({\\\"data\\\":[{\\\"name\\\":\\\"knockout\\\",\\\"type\\\":\\\"js\\\",\\\"url\\\":\\\"\\/assetserver\\/727383f2a47bd31570b7da84eee7b022dd6d7c78-knockout.js\\\"},{\\\"name\\\":\\\"knockout_punches\\\",\\\"type\\\":\\\"js\\\",\\\"url\\\":\\\"\\/assetserver\\/382b41b3b1bd9f26f75861d360bad7f8beea211f-knockout_punches.js\\\"}],\\\"type\\\":\\\"async_block\\\"})).then((imports) => handler.apply(this, imports));\\n}\\n\"],\"observables\":{\"changes\":{\"sync\":false,\"id\":\"8491049446467423037\",\"value\":0},\"index\":{\"sync\":true,\"id\":\"11030241674339803918\",\"value\":76}}},\"children\":[{\"props\":{\"className\":\"interact-flex-row interact-widget\"},\"nodeType\":\"DOM\",\"type\":\"node\",\"instanceArgs\":{\"namespace\":\"html\",\"tag\":\"div\"},\"children\":[{\"props\":{\"className\":\"interact-flex-row-left\"},\"nodeType\":\"DOM\",\"type\":\"node\",\"instanceArgs\":{\"namespace\":\"html\",\"tag\":\"div\"},\"children\":[{\"props\":{\"className\":\"interact \",\"style\":{\"padding\":\"5px 10px 0px 10px\"}},\"nodeType\":\"DOM\",\"type\":\"node\",\"instanceArgs\":{\"namespace\":\"html\",\"tag\":\"label\"},\"children\":[\"vel\"]}]},{\"props\":{\"className\":\"interact-flex-row-center\"},\"nodeType\":\"DOM\",\"type\":\"node\",\"instanceArgs\":{\"namespace\":\"html\",\"tag\":\"div\"},\"children\":[{\"props\":{\"max\":151,\"min\":1,\"attributes\":{\"type\":\"range\",\"data-bind\":\"numericValue: index, valueUpdate: 'input', event: {change: function (){this.changes(this.changes()+1)}}\",\"orient\":\"horizontal\"},\"step\":1,\"className\":\"slider slider is-fullwidth\",\"style\":{}},\"nodeType\":\"DOM\",\"type\":\"node\",\"instanceArgs\":{\"namespace\":\"html\",\"tag\":\"input\"},\"children\":[]}]},{\"props\":{\"className\":\"interact-flex-row-right\"},\"nodeType\":\"DOM\",\"type\":\"node\",\"instanceArgs\":{\"namespace\":\"html\",\"tag\":\"div\"},\"children\":[{\"props\":{\"attributes\":{\"data-bind\":\"text: formatted_val\"}},\"nodeType\":\"DOM\",\"type\":\"node\",\"instanceArgs\":{\"namespace\":\"html\",\"tag\":\"p\"},\"children\":[]}]}]}]}]}]},{\"props\":{\"style\":{\"display\":\"flex\",\"flex-direction\":\"column\"}},\"nodeType\":\"DOM\",\"type\":\"node\",\"instanceArgs\":{\"namespace\":\"html\",\"tag\":\"div\"},\"children\":[{\"props\":{\"className\":\"field interact-widget\"},\"nodeType\":\"DOM\",\"type\":\"node\",\"instanceArgs\":{\"namespace\":\"html\",\"tag\":\"div\"},\"children\":[{\"props\":{},\"nodeType\":\"Scope\",\"type\":\"node\",\"instanceArgs\":{\"imports\":{\"data\":[{\"name\":\"knockout\",\"type\":\"js\",\"url\":\"\\/assetserver\\/727383f2a47bd31570b7da84eee7b022dd6d7c78-knockout.js\"},{\"name\":\"knockout_punches\",\"type\":\"js\",\"url\":\"\\/assetserver\\/382b41b3b1bd9f26f75861d360bad7f8beea211f-knockout_punches.js\"},{\"name\":null,\"type\":\"js\",\"url\":\"\\/assetserver\\/5ab20f1060420992a9b82a65b735dee4d81ef413-all.js\"},{\"name\":null,\"type\":\"css\",\"url\":\"\\/assetserver\\/1cc0ed62837210b80a182cc3676512f895dab686-style.css\"},{\"name\":null,\"type\":\"css\",\"url\":\"\\/assetserver\\/2eee816f616df3549d7044d45e744fbf8d42bfa1-bulma_confined.min.css\"}],\"type\":\"async_block\"},\"id\":\"10706512530380334129\",\"handlers\":{\"changes\":[\"(function (val){return (val!=this.model[\\\"changes\\\"]()) ? (this.valueFromJulia[\\\"changes\\\"]=true, this.model[\\\"changes\\\"](val)) : undefined})\"],\"index\":[\"(function (val){return (val!=this.model[\\\"index\\\"]()) ? (this.valueFromJulia[\\\"index\\\"]=true, this.model[\\\"index\\\"](val)) : undefined})\"]},\"systemjs_options\":null,\"mount_callbacks\":[\"function () {\\n    var handler = (function (ko, koPunches) {\\n    ko.punches.enableAll();\\n    ko.bindingHandlers.numericValue = {\\n        init: function(element, valueAccessor, allBindings, data, context) {\\n            var stringified = ko.observable(ko.unwrap(valueAccessor()));\\n            stringified.subscribe(function(value) {\\n                var val = parseFloat(value);\\n                if (!isNaN(val)) {\\n                    valueAccessor()(val);\\n                }\\n            });\\n            valueAccessor().subscribe(function(value) {\\n                var str = JSON.stringify(value);\\n                if ((str == \\\"0\\\") && ([\\\"-0\\\", \\\"-0.\\\"].indexOf(stringified()) >= 0))\\n                     return;\\n                 if ([\\\"null\\\", \\\"\\\"].indexOf(str) >= 0)\\n                     return;\\n                stringified(str);\\n            });\\n            ko.applyBindingsToNode(\\n                element,\\n                {\\n                    value: stringified,\\n                    valueUpdate: allBindings.get('valueUpdate'),\\n                },\\n                context,\\n            );\\n        }\\n    };\\n    var json_data = {\\\"formatted_vals\\\":[\\\"1.0\\\",\\\"1.2\\\",\\\"1.4\\\",\\\"1.6\\\",\\\"1.8\\\",\\\"2.0\\\",\\\"2.2\\\",\\\"2.4\\\",\\\"2.6\\\",\\\"2.8\\\",\\\"3.0\\\",\\\"3.2\\\",\\\"3.4\\\",\\\"3.6\\\",\\\"3.8\\\",\\\"4.0\\\",\\\"4.2\\\",\\\"4.4\\\",\\\"4.6\\\",\\\"4.8\\\",\\\"5.0\\\"],\\\"changes\\\":WebIO.getval({\\\"name\\\":\\\"changes\\\",\\\"scope\\\":\\\"10706512530380334129\\\",\\\"id\\\":\\\"855319810755623307\\\",\\\"type\\\":\\\"observable\\\"}),\\\"index\\\":WebIO.getval({\\\"name\\\":\\\"index\\\",\\\"scope\\\":\\\"10706512530380334129\\\",\\\"id\\\":\\\"8159742644032800281\\\",\\\"type\\\":\\\"observable\\\"})};\\n    var self = this;\\n    function AppViewModel() {\\n        for (var key in json_data) {\\n            var el = json_data[key];\\n            this[key] = Array.isArray(el) ? ko.observableArray(el) : ko.observable(el);\\n        }\\n        \\n        [this[\\\"formatted_val\\\"]=ko.computed(    function(){\\n        return this.formatted_vals()[parseInt(this.index())-(1)];\\n    }\\n,this)]\\n        [this[\\\"changes\\\"].subscribe((function (val){!(this.valueFromJulia[\\\"changes\\\"]) ? (WebIO.setval({\\\"name\\\":\\\"changes\\\",\\\"scope\\\":\\\"10706512530380334129\\\",\\\"id\\\":\\\"855319810755623307\\\",\\\"type\\\":\\\"observable\\\"},val)) : undefined; return this.valueFromJulia[\\\"changes\\\"]=false}),self),this[\\\"index\\\"].subscribe((function (val){!(this.valueFromJulia[\\\"index\\\"]) ? (WebIO.setval({\\\"name\\\":\\\"index\\\",\\\"scope\\\":\\\"10706512530380334129\\\",\\\"id\\\":\\\"8159742644032800281\\\",\\\"type\\\":\\\"observable\\\"},val)) : undefined; return this.valueFromJulia[\\\"index\\\"]=false}),self)]\\n        \\n    }\\n    self.model = new AppViewModel();\\n    self.valueFromJulia = {};\\n    for (var key in json_data) {\\n        self.valueFromJulia[key] = false;\\n    }\\n    ko.applyBindings(self.model, self.dom);\\n}\\n);\\n    (WebIO.importBlock({\\\"data\\\":[{\\\"name\\\":\\\"knockout\\\",\\\"type\\\":\\\"js\\\",\\\"url\\\":\\\"\\/assetserver\\/727383f2a47bd31570b7da84eee7b022dd6d7c78-knockout.js\\\"},{\\\"name\\\":\\\"knockout_punches\\\",\\\"type\\\":\\\"js\\\",\\\"url\\\":\\\"\\/assetserver\\/382b41b3b1bd9f26f75861d360bad7f8beea211f-knockout_punches.js\\\"}],\\\"type\\\":\\\"async_block\\\"})).then((imports) => handler.apply(this, imports));\\n}\\n\"],\"observables\":{\"changes\":{\"sync\":false,\"id\":\"855319810755623307\",\"value\":0},\"index\":{\"sync\":true,\"id\":\"8159742644032800281\",\"value\":11}}},\"children\":[{\"props\":{\"className\":\"interact-flex-row interact-widget\"},\"nodeType\":\"DOM\",\"type\":\"node\",\"instanceArgs\":{\"namespace\":\"html\",\"tag\":\"div\"},\"children\":[{\"props\":{\"className\":\"interact-flex-row-left\"},\"nodeType\":\"DOM\",\"type\":\"node\",\"instanceArgs\":{\"namespace\":\"html\",\"tag\":\"div\"},\"children\":[{\"props\":{\"className\":\"interact \",\"style\":{\"padding\":\"5px 10px 0px 10px\"}},\"nodeType\":\"DOM\",\"type\":\"node\",\"instanceArgs\":{\"namespace\":\"html\",\"tag\":\"label\"},\"children\":[\"gravity\"]}]},{\"props\":{\"className\":\"interact-flex-row-center\"},\"nodeType\":\"DOM\",\"type\":\"node\",\"instanceArgs\":{\"namespace\":\"html\",\"tag\":\"div\"},\"children\":[{\"props\":{\"max\":21,\"min\":1,\"attributes\":{\"type\":\"range\",\"data-bind\":\"numericValue: index, valueUpdate: 'input', event: {change: function (){this.changes(this.changes()+1)}}\",\"orient\":\"horizontal\"},\"step\":1,\"className\":\"slider slider is-fullwidth\",\"style\":{}},\"nodeType\":\"DOM\",\"type\":\"node\",\"instanceArgs\":{\"namespace\":\"html\",\"tag\":\"input\"},\"children\":[]}]},{\"props\":{\"className\":\"interact-flex-row-right\"},\"nodeType\":\"DOM\",\"type\":\"node\",\"instanceArgs\":{\"namespace\":\"html\",\"tag\":\"div\"},\"children\":[{\"props\":{\"attributes\":{\"data-bind\":\"text: formatted_val\"}},\"nodeType\":\"DOM\",\"type\":\"node\",\"instanceArgs\":{\"namespace\":\"html\",\"tag\":\"p\"},\"children\":[]}]}]}]}]}]},{\"props\":{\"style\":{\"display\":\"flex\",\"flex-direction\":\"row\"}},\"nodeType\":\"DOM\",\"type\":\"node\",\"instanceArgs\":{\"namespace\":\"html\",\"tag\":\"div\"},\"children\":[{\"props\":{\"className\":\"interact-widget\"},\"nodeType\":\"DOM\",\"type\":\"node\",\"instanceArgs\":{\"namespace\":\"html\",\"tag\":\"div\"},\"children\":[{\"props\":{},\"nodeType\":\"Scope\",\"type\":\"node\",\"instanceArgs\":{\"imports\":{\"data\":[{\"name\":null,\"type\":\"js\",\"url\":\"\\/assetserver\\/dd22ed1bf1896c2748f3fe616ce0b838adc895c1-katex.min.js\"},{\"name\":null,\"type\":\"css\",\"url\":\"\\/assetserver\\/46517a424aa5e6cffc1360d7e0848b601c584ee3-katex.min.css\"}],\"type\":\"async_block\"},\"id\":\"5806910441574635216\",\"handlers\":{\"value\":[\"(function (txt){return this.k.render(txt,this.container)})\"]},\"systemjs_options\":null,\"mount_callbacks\":[\"function () {\\n    var handler = ((function (k){this.k=k; this.container=this.dom.querySelector(\\\"#container\\\"); return k.render(\\\"\\\\\\\\;\\\\\\\\;\\\",this.container)}));\\n    (WebIO.importBlock({\\\"data\\\":[{\\\"name\\\":null,\\\"type\\\":\\\"js\\\",\\\"url\\\":\\\"\\/assetserver\\/dd22ed1bf1896c2748f3fe616ce0b838adc895c1-katex.min.js\\\"},{\\\"name\\\":null,\\\"type\\\":\\\"css\\\",\\\"url\\\":\\\"\\/assetserver\\/46517a424aa5e6cffc1360d7e0848b601c584ee3-katex.min.css\\\"}],\\\"type\\\":\\\"async_block\\\"})).then((imports) => handler.apply(this, imports));\\n}\\n\"],\"observables\":{\"value\":{\"sync\":false,\"id\":\"7388917651806250695\",\"value\":\"\\\\;\\\\;\"}}},\"children\":[{\"props\":{\"id\":\"container\"},\"nodeType\":\"DOM\",\"type\":\"node\",\"instanceArgs\":{\"namespace\":\"html\",\"tag\":\"div\"},\"children\":[]}]}]},{\"props\":{\"className\":\"field interact-widget\"},\"nodeType\":\"DOM\",\"type\":\"node\",\"instanceArgs\":{\"namespace\":\"html\",\"tag\":\"div\"},\"children\":[{\"props\":{},\"nodeType\":\"Scope\",\"type\":\"node\",\"instanceArgs\":{\"imports\":{\"data\":[{\"name\":\"knockout\",\"type\":\"js\",\"url\":\"\\/assetserver\\/727383f2a47bd31570b7da84eee7b022dd6d7c78-knockout.js\"},{\"name\":\"knockout_punches\",\"type\":\"js\",\"url\":\"\\/assetserver\\/382b41b3b1bd9f26f75861d360bad7f8beea211f-knockout_punches.js\"},{\"name\":null,\"type\":\"js\",\"url\":\"\\/assetserver\\/5ab20f1060420992a9b82a65b735dee4d81ef413-all.js\"},{\"name\":null,\"type\":\"css\",\"url\":\"\\/assetserver\\/1cc0ed62837210b80a182cc3676512f895dab686-style.css\"},{\"name\":null,\"type\":\"css\",\"url\":\"\\/assetserver\\/2eee816f616df3549d7044d45e744fbf8d42bfa1-bulma_confined.min.css\"}],\"type\":\"async_block\"},\"id\":\"1940068060618920378\",\"handlers\":{\"loading\":[\"(function (val){return (val!=this.model[\\\"loading\\\"]()) ? (this.valueFromJulia[\\\"loading\\\"]=true, this.model[\\\"loading\\\"](val)) : undefined})\"],\"clicks\":[\"(function (val){return (val!=this.model[\\\"clicks\\\"]()) ? (this.valueFromJulia[\\\"clicks\\\"]=true, this.model[\\\"clicks\\\"](val)) : undefined})\"]},\"systemjs_options\":null,\"mount_callbacks\":[\"function () {\\n    var handler = (function (ko, koPunches) {\\n    ko.punches.enableAll();\\n    ko.bindingHandlers.numericValue = {\\n        init: function(element, valueAccessor, allBindings, data, context) {\\n            var stringified = ko.observable(ko.unwrap(valueAccessor()));\\n            stringified.subscribe(function(value) {\\n                var val = parseFloat(value);\\n                if (!isNaN(val)) {\\n                    valueAccessor()(val);\\n                }\\n            });\\n            valueAccessor().subscribe(function(value) {\\n                var str = JSON.stringify(value);\\n                if ((str == \\\"0\\\") && ([\\\"-0\\\", \\\"-0.\\\"].indexOf(stringified()) >= 0))\\n                     return;\\n                 if ([\\\"null\\\", \\\"\\\"].indexOf(str) >= 0)\\n                     return;\\n                stringified(str);\\n            });\\n            ko.applyBindingsToNode(\\n                element,\\n                {\\n                    value: stringified,\\n                    valueUpdate: allBindings.get('valueUpdate'),\\n                },\\n                context,\\n            );\\n        }\\n    };\\n    var json_data = {\\\"loading\\\":WebIO.getval({\\\"name\\\":\\\"loading\\\",\\\"scope\\\":\\\"1940068060618920378\\\",\\\"id\\\":\\\"2480755985869536226\\\",\\\"type\\\":\\\"observable\\\"}),\\\"clicks\\\":WebIO.getval({\\\"name\\\":\\\"clicks\\\",\\\"scope\\\":\\\"1940068060618920378\\\",\\\"id\\\":\\\"558178382348513507\\\",\\\"type\\\":\\\"observable\\\"})};\\n    var self = this;\\n    function AppViewModel() {\\n        for (var key in json_data) {\\n            var el = json_data[key];\\n            this[key] = Array.isArray(el) ? ko.observableArray(el) : ko.observable(el);\\n        }\\n        \\n        \\n        [this[\\\"loading\\\"].subscribe((function (val){!(this.valueFromJulia[\\\"loading\\\"]) ? (WebIO.setval({\\\"name\\\":\\\"loading\\\",\\\"scope\\\":\\\"1940068060618920378\\\",\\\"id\\\":\\\"2480755985869536226\\\",\\\"type\\\":\\\"observable\\\"},val)) : undefined; return this.valueFromJulia[\\\"loading\\\"]=false}),self),this[\\\"clicks\\\"].subscribe((function (val){!(this.valueFromJulia[\\\"clicks\\\"]) ? (WebIO.setval({\\\"name\\\":\\\"clicks\\\",\\\"scope\\\":\\\"1940068060618920378\\\",\\\"id\\\":\\\"558178382348513507\\\",\\\"type\\\":\\\"observable\\\"},val)) : undefined; return this.valueFromJulia[\\\"clicks\\\"]=false}),self)]\\n        \\n    }\\n    self.model = new AppViewModel();\\n    self.valueFromJulia = {};\\n    for (var key in json_data) {\\n        self.valueFromJulia[key] = false;\\n    }\\n    ko.applyBindings(self.model, self.dom);\\n}\\n);\\n    (WebIO.importBlock({\\\"data\\\":[{\\\"name\\\":\\\"knockout\\\",\\\"type\\\":\\\"js\\\",\\\"url\\\":\\\"\\/assetserver\\/727383f2a47bd31570b7da84eee7b022dd6d7c78-knockout.js\\\"},{\\\"name\\\":\\\"knockout_punches\\\",\\\"type\\\":\\\"js\\\",\\\"url\\\":\\\"\\/assetserver\\/382b41b3b1bd9f26f75861d360bad7f8beea211f-knockout_punches.js\\\"}],\\\"type\\\":\\\"async_block\\\"})).then((imports) => handler.apply(this, imports));\\n}\\n\"],\"observables\":{\"loading\":{\"sync\":false,\"id\":\"2480755985869536226\",\"value\":false},\"clicks\":{\"sync\":true,\"id\":\"558178382348513507\",\"value\":0}}},\"children\":[{\"props\":{\"attributes\":{\"data-bind\":\"click: function (){this.clicks(this.clicks()+1)}, css: {'is-loading' : loading}\"},\"className\":\"is-medium button is-primary\",\"style\":{}},\"nodeType\":\"DOM\",\"type\":\"node\",\"instanceArgs\":{\"namespace\":\"html\",\"tag\":\"button\"},\"children\":[\"run\"]}]}]},{\"props\":{\"className\":\"interact-widget\"},\"nodeType\":\"DOM\",\"type\":\"node\",\"instanceArgs\":{\"namespace\":\"html\",\"tag\":\"div\"},\"children\":[{\"props\":{},\"nodeType\":\"Scope\",\"type\":\"node\",\"instanceArgs\":{\"imports\":{\"data\":[{\"name\":null,\"type\":\"js\",\"url\":\"\\/assetserver\\/dd22ed1bf1896c2748f3fe616ce0b838adc895c1-katex.min.js\"},{\"name\":null,\"type\":\"css\",\"url\":\"\\/assetserver\\/46517a424aa5e6cffc1360d7e0848b601c584ee3-katex.min.css\"}],\"type\":\"async_block\"},\"id\":\"5806910441574635216\",\"handlers\":{\"value\":[\"(function (txt){return this.k.render(txt,this.container)})\"]},\"systemjs_options\":null,\"mount_callbacks\":[\"function () {\\n    var handler = ((function (k){this.k=k; this.container=this.dom.querySelector(\\\"#container\\\"); return k.render(\\\"\\\\\\\\;\\\\\\\\;\\\",this.container)}));\\n    (WebIO.importBlock({\\\"data\\\":[{\\\"name\\\":null,\\\"type\\\":\\\"js\\\",\\\"url\\\":\\\"\\/assetserver\\/dd22ed1bf1896c2748f3fe616ce0b838adc895c1-katex.min.js\\\"},{\\\"name\\\":null,\\\"type\\\":\\\"css\\\",\\\"url\\\":\\\"\\/assetserver\\/46517a424aa5e6cffc1360d7e0848b601c584ee3-katex.min.css\\\"}],\\\"type\\\":\\\"async_block\\\"})).then((imports) => handler.apply(this, imports));\\n}\\n\"],\"observables\":{\"value\":{\"sync\":false,\"id\":\"7388917651806250695\",\"value\":\"\\\\;\\\\;\"}}},\"children\":[{\"props\":{\"id\":\"container\"},\"nodeType\":\"DOM\",\"type\":\"node\",\"instanceArgs\":{\"namespace\":\"html\",\"tag\":\"div\"},\"children\":[]}]}]},{\"props\":{\"className\":\"field interact-widget\"},\"nodeType\":\"DOM\",\"type\":\"node\",\"instanceArgs\":{\"namespace\":\"html\",\"tag\":\"div\"},\"children\":[{\"props\":{},\"nodeType\":\"Scope\",\"type\":\"node\",\"instanceArgs\":{\"imports\":{\"data\":[{\"name\":\"knockout\",\"type\":\"js\",\"url\":\"\\/assetserver\\/727383f2a47bd31570b7da84eee7b022dd6d7c78-knockout.js\"},{\"name\":\"knockout_punches\",\"type\":\"js\",\"url\":\"\\/assetserver\\/382b41b3b1bd9f26f75861d360bad7f8beea211f-knockout_punches.js\"},{\"name\":null,\"type\":\"js\",\"url\":\"\\/assetserver\\/5ab20f1060420992a9b82a65b735dee4d81ef413-all.js\"},{\"name\":null,\"type\":\"css\",\"url\":\"\\/assetserver\\/1cc0ed62837210b80a182cc3676512f895dab686-style.css\"},{\"name\":null,\"type\":\"css\",\"url\":\"\\/assetserver\\/2eee816f616df3549d7044d45e744fbf8d42bfa1-bulma_confined.min.css\"}],\"type\":\"async_block\"},\"id\":\"7587465877235484114\",\"handlers\":{\"loading\":[\"(function (val){return (val!=this.model[\\\"loading\\\"]()) ? (this.valueFromJulia[\\\"loading\\\"]=true, this.model[\\\"loading\\\"](val)) : undefined})\"],\"clicks\":[\"(function (val){return (val!=this.model[\\\"clicks\\\"]()) ? (this.valueFromJulia[\\\"clicks\\\"]=true, this.model[\\\"clicks\\\"](val)) : undefined})\"]},\"systemjs_options\":null,\"mount_callbacks\":[\"function () {\\n    var handler = (function (ko, koPunches) {\\n    ko.punches.enableAll();\\n    ko.bindingHandlers.numericValue = {\\n        init: function(element, valueAccessor, allBindings, data, context) {\\n            var stringified = ko.observable(ko.unwrap(valueAccessor()));\\n            stringified.subscribe(function(value) {\\n                var val = parseFloat(value);\\n                if (!isNaN(val)) {\\n                    valueAccessor()(val);\\n                }\\n            });\\n            valueAccessor().subscribe(function(value) {\\n                var str = JSON.stringify(value);\\n                if ((str == \\\"0\\\") && ([\\\"-0\\\", \\\"-0.\\\"].indexOf(stringified()) >= 0))\\n                     return;\\n                 if ([\\\"null\\\", \\\"\\\"].indexOf(str) >= 0)\\n                     return;\\n                stringified(str);\\n            });\\n            ko.applyBindingsToNode(\\n                element,\\n                {\\n                    value: stringified,\\n                    valueUpdate: allBindings.get('valueUpdate'),\\n                },\\n                context,\\n            );\\n        }\\n    };\\n    var json_data = {\\\"loading\\\":WebIO.getval({\\\"name\\\":\\\"loading\\\",\\\"scope\\\":\\\"7587465877235484114\\\",\\\"id\\\":\\\"3143012758205120931\\\",\\\"type\\\":\\\"observable\\\"}),\\\"clicks\\\":WebIO.getval({\\\"name\\\":\\\"clicks\\\",\\\"scope\\\":\\\"7587465877235484114\\\",\\\"id\\\":\\\"16472202346623389757\\\",\\\"type\\\":\\\"observable\\\"})};\\n    var self = this;\\n    function AppViewModel() {\\n        for (var key in json_data) {\\n            var el = json_data[key];\\n            this[key] = Array.isArray(el) ? ko.observableArray(el) : ko.observable(el);\\n        }\\n        \\n        \\n        [this[\\\"loading\\\"].subscribe((function (val){!(this.valueFromJulia[\\\"loading\\\"]) ? (WebIO.setval({\\\"name\\\":\\\"loading\\\",\\\"scope\\\":\\\"7587465877235484114\\\",\\\"id\\\":\\\"3143012758205120931\\\",\\\"type\\\":\\\"observable\\\"},val)) : undefined; return this.valueFromJulia[\\\"loading\\\"]=false}),self),this[\\\"clicks\\\"].subscribe((function (val){!(this.valueFromJulia[\\\"clicks\\\"]) ? (WebIO.setval({\\\"name\\\":\\\"clicks\\\",\\\"scope\\\":\\\"7587465877235484114\\\",\\\"id\\\":\\\"16472202346623389757\\\",\\\"type\\\":\\\"observable\\\"},val)) : undefined; return this.valueFromJulia[\\\"clicks\\\"]=false}),self)]\\n        \\n    }\\n    self.model = new AppViewModel();\\n    self.valueFromJulia = {};\\n    for (var key in json_data) {\\n        self.valueFromJulia[key] = false;\\n    }\\n    ko.applyBindings(self.model, self.dom);\\n}\\n);\\n    (WebIO.importBlock({\\\"data\\\":[{\\\"name\\\":\\\"knockout\\\",\\\"type\\\":\\\"js\\\",\\\"url\\\":\\\"\\/assetserver\\/727383f2a47bd31570b7da84eee7b022dd6d7c78-knockout.js\\\"},{\\\"name\\\":\\\"knockout_punches\\\",\\\"type\\\":\\\"js\\\",\\\"url\\\":\\\"\\/assetserver\\/382b41b3b1bd9f26f75861d360bad7f8beea211f-knockout_punches.js\\\"}],\\\"type\\\":\\\"async_block\\\"})).then((imports) => handler.apply(this, imports));\\n}\\n\"],\"observables\":{\"loading\":{\"sync\":false,\"id\":\"3143012758205120931\",\"value\":false},\"clicks\":{\"sync\":true,\"id\":\"16472202346623389757\",\"value\":0}}},\"children\":[{\"props\":{\"attributes\":{\"data-bind\":\"click: function (){this.clicks(this.clicks()+1)}, css: {'is-loading' : loading}\"},\"className\":\"is-medium button is-primary\",\"style\":{}},\"nodeType\":\"DOM\",\"type\":\"node\",\"instanceArgs\":{\"namespace\":\"html\",\"tag\":\"button\"},\"children\":[\"stop\"]}]}]},{\"props\":{\"className\":\"interact-widget\"},\"nodeType\":\"DOM\",\"type\":\"node\",\"instanceArgs\":{\"namespace\":\"html\",\"tag\":\"div\"},\"children\":[{\"props\":{},\"nodeType\":\"Scope\",\"type\":\"node\",\"instanceArgs\":{\"imports\":{\"data\":[{\"name\":null,\"type\":\"js\",\"url\":\"\\/assetserver\\/dd22ed1bf1896c2748f3fe616ce0b838adc895c1-katex.min.js\"},{\"name\":null,\"type\":\"css\",\"url\":\"\\/assetserver\\/46517a424aa5e6cffc1360d7e0848b601c584ee3-katex.min.css\"}],\"type\":\"async_block\"},\"id\":\"5806910441574635216\",\"handlers\":{\"value\":[\"(function (txt){return this.k.render(txt,this.container)})\"]},\"systemjs_options\":null,\"mount_callbacks\":[\"function () {\\n    var handler = ((function (k){this.k=k; this.container=this.dom.querySelector(\\\"#container\\\"); return k.render(\\\"\\\\\\\\;\\\\\\\\;\\\",this.container)}));\\n    (WebIO.importBlock({\\\"data\\\":[{\\\"name\\\":null,\\\"type\\\":\\\"js\\\",\\\"url\\\":\\\"\\/assetserver\\/dd22ed1bf1896c2748f3fe616ce0b838adc895c1-katex.min.js\\\"},{\\\"name\\\":null,\\\"type\\\":\\\"css\\\",\\\"url\\\":\\\"\\/assetserver\\/46517a424aa5e6cffc1360d7e0848b601c584ee3-katex.min.css\\\"}],\\\"type\\\":\\\"async_block\\\"})).then((imports) => handler.apply(this, imports));\\n}\\n\"],\"observables\":{\"value\":{\"sync\":false,\"id\":\"7388917651806250695\",\"value\":\"\\\\;\\\\;\"}}},\"children\":[{\"props\":{\"id\":\"container\"},\"nodeType\":\"DOM\",\"type\":\"node\",\"instanceArgs\":{\"namespace\":\"html\",\"tag\":\"div\"},\"children\":[]}]}]},{\"props\":{\"className\":\"field interact-widget\"},\"nodeType\":\"DOM\",\"type\":\"node\",\"instanceArgs\":{\"namespace\":\"html\",\"tag\":\"div\"},\"children\":[{\"props\":{},\"nodeType\":\"Scope\",\"type\":\"node\",\"instanceArgs\":{\"imports\":{\"data\":[{\"name\":\"knockout\",\"type\":\"js\",\"url\":\"\\/assetserver\\/727383f2a47bd31570b7da84eee7b022dd6d7c78-knockout.js\"},{\"name\":\"knockout_punches\",\"type\":\"js\",\"url\":\"\\/assetserver\\/382b41b3b1bd9f26f75861d360bad7f8beea211f-knockout_punches.js\"},{\"name\":null,\"type\":\"js\",\"url\":\"\\/assetserver\\/5ab20f1060420992a9b82a65b735dee4d81ef413-all.js\"},{\"name\":null,\"type\":\"css\",\"url\":\"\\/assetserver\\/1cc0ed62837210b80a182cc3676512f895dab686-style.css\"},{\"name\":null,\"type\":\"css\",\"url\":\"\\/assetserver\\/2eee816f616df3549d7044d45e744fbf8d42bfa1-bulma_confined.min.css\"}],\"type\":\"async_block\"},\"id\":\"15075278904989604210\",\"handlers\":{\"loading\":[\"(function (val){return (val!=this.model[\\\"loading\\\"]()) ? (this.valueFromJulia[\\\"loading\\\"]=true, this.model[\\\"loading\\\"](val)) : undefined})\"],\"clicks\":[\"(function (val){return (val!=this.model[\\\"clicks\\\"]()) ? (this.valueFromJulia[\\\"clicks\\\"]=true, this.model[\\\"clicks\\\"](val)) : undefined})\"]},\"systemjs_options\":null,\"mount_callbacks\":[\"function () {\\n    var handler = (function (ko, koPunches) {\\n    ko.punches.enableAll();\\n    ko.bindingHandlers.numericValue = {\\n        init: function(element, valueAccessor, allBindings, data, context) {\\n            var stringified = ko.observable(ko.unwrap(valueAccessor()));\\n            stringified.subscribe(function(value) {\\n                var val = parseFloat(value);\\n                if (!isNaN(val)) {\\n                    valueAccessor()(val);\\n                }\\n            });\\n            valueAccessor().subscribe(function(value) {\\n                var str = JSON.stringify(value);\\n                if ((str == \\\"0\\\") && ([\\\"-0\\\", \\\"-0.\\\"].indexOf(stringified()) >= 0))\\n                     return;\\n                 if ([\\\"null\\\", \\\"\\\"].indexOf(str) >= 0)\\n                     return;\\n                stringified(str);\\n            });\\n            ko.applyBindingsToNode(\\n                element,\\n                {\\n                    value: stringified,\\n                    valueUpdate: allBindings.get('valueUpdate'),\\n                },\\n                context,\\n            );\\n        }\\n    };\\n    var json_data = {\\\"loading\\\":WebIO.getval({\\\"name\\\":\\\"loading\\\",\\\"scope\\\":\\\"15075278904989604210\\\",\\\"id\\\":\\\"14954400168917122855\\\",\\\"type\\\":\\\"observable\\\"}),\\\"clicks\\\":WebIO.getval({\\\"name\\\":\\\"clicks\\\",\\\"scope\\\":\\\"15075278904989604210\\\",\\\"id\\\":\\\"5392575957168158476\\\",\\\"type\\\":\\\"observable\\\"})};\\n    var self = this;\\n    function AppViewModel() {\\n        for (var key in json_data) {\\n            var el = json_data[key];\\n            this[key] = Array.isArray(el) ? ko.observableArray(el) : ko.observable(el);\\n        }\\n        \\n        \\n        [this[\\\"loading\\\"].subscribe((function (val){!(this.valueFromJulia[\\\"loading\\\"]) ? (WebIO.setval({\\\"name\\\":\\\"loading\\\",\\\"scope\\\":\\\"15075278904989604210\\\",\\\"id\\\":\\\"14954400168917122855\\\",\\\"type\\\":\\\"observable\\\"},val)) : undefined; return this.valueFromJulia[\\\"loading\\\"]=false}),self),this[\\\"clicks\\\"].subscribe((function (val){!(this.valueFromJulia[\\\"clicks\\\"]) ? (WebIO.setval({\\\"name\\\":\\\"clicks\\\",\\\"scope\\\":\\\"15075278904989604210\\\",\\\"id\\\":\\\"5392575957168158476\\\",\\\"type\\\":\\\"observable\\\"},val)) : undefined; return this.valueFromJulia[\\\"clicks\\\"]=false}),self)]\\n        \\n    }\\n    self.model = new AppViewModel();\\n    self.valueFromJulia = {};\\n    for (var key in json_data) {\\n        self.valueFromJulia[key] = false;\\n    }\\n    ko.applyBindings(self.model, self.dom);\\n}\\n);\\n    (WebIO.importBlock({\\\"data\\\":[{\\\"name\\\":\\\"knockout\\\",\\\"type\\\":\\\"js\\\",\\\"url\\\":\\\"\\/assetserver\\/727383f2a47bd31570b7da84eee7b022dd6d7c78-knockout.js\\\"},{\\\"name\\\":\\\"knockout_punches\\\",\\\"type\\\":\\\"js\\\",\\\"url\\\":\\\"\\/assetserver\\/382b41b3b1bd9f26f75861d360bad7f8beea211f-knockout_punches.js\\\"}],\\\"type\\\":\\\"async_block\\\"})).then((imports) => handler.apply(this, imports));\\n}\\n\"],\"observables\":{\"loading\":{\"sync\":false,\"id\":\"14954400168917122855\",\"value\":false},\"clicks\":{\"sync\":true,\"id\":\"5392575957168158476\",\"value\":0}}},\"children\":[{\"props\":{\"attributes\":{\"data-bind\":\"click: function (){this.clicks(this.clicks()+1)}, css: {'is-loading' : loading}\"},\"className\":\"is-medium button is-primary\",\"style\":{}},\"nodeType\":\"DOM\",\"type\":\"node\",\"instanceArgs\":{\"namespace\":\"html\",\"tag\":\"button\"},\"children\":[\"reset\"]}]}]},{\"props\":{\"className\":\"interact-widget\"},\"nodeType\":\"DOM\",\"type\":\"node\",\"instanceArgs\":{\"namespace\":\"html\",\"tag\":\"div\"},\"children\":[{\"props\":{},\"nodeType\":\"Scope\",\"type\":\"node\",\"instanceArgs\":{\"imports\":{\"data\":[{\"name\":null,\"type\":\"js\",\"url\":\"\\/assetserver\\/dd22ed1bf1896c2748f3fe616ce0b838adc895c1-katex.min.js\"},{\"name\":null,\"type\":\"css\",\"url\":\"\\/assetserver\\/46517a424aa5e6cffc1360d7e0848b601c584ee3-katex.min.css\"}],\"type\":\"async_block\"},\"id\":\"5806910441574635216\",\"handlers\":{\"value\":[\"(function (txt){return this.k.render(txt,this.container)})\"]},\"systemjs_options\":null,\"mount_callbacks\":[\"function () {\\n    var handler = ((function (k){this.k=k; this.container=this.dom.querySelector(\\\"#container\\\"); return k.render(\\\"\\\\\\\\;\\\\\\\\;\\\",this.container)}));\\n    (WebIO.importBlock({\\\"data\\\":[{\\\"name\\\":null,\\\"type\\\":\\\"js\\\",\\\"url\\\":\\\"\\/assetserver\\/dd22ed1bf1896c2748f3fe616ce0b838adc895c1-katex.min.js\\\"},{\\\"name\\\":null,\\\"type\\\":\\\"css\\\",\\\"url\\\":\\\"\\/assetserver\\/46517a424aa5e6cffc1360d7e0848b601c584ee3-katex.min.css\\\"}],\\\"type\\\":\\\"async_block\\\"})).then((imports) => handler.apply(this, imports));\\n}\\n\"],\"observables\":{\"value\":{\"sync\":false,\"id\":\"7388917651806250695\",\"value\":\"\\\\;\\\\;\"}}},\"children\":[{\"props\":{\"id\":\"container\"},\"nodeType\":\"DOM\",\"type\":\"node\",\"instanceArgs\":{\"namespace\":\"html\",\"tag\":\"div\"},\"children\":[]}]}]},{\"props\":{\"className\":\"field interact-widget\"},\"nodeType\":\"DOM\",\"type\":\"node\",\"instanceArgs\":{\"namespace\":\"html\",\"tag\":\"div\"},\"children\":[{\"props\":{},\"nodeType\":\"Scope\",\"type\":\"node\",\"instanceArgs\":{\"imports\":{\"data\":[{\"name\":\"knockout\",\"type\":\"js\",\"url\":\"\\/assetserver\\/727383f2a47bd31570b7da84eee7b022dd6d7c78-knockout.js\"},{\"name\":\"knockout_punches\",\"type\":\"js\",\"url\":\"\\/assetserver\\/382b41b3b1bd9f26f75861d360bad7f8beea211f-knockout_punches.js\"},{\"name\":null,\"type\":\"js\",\"url\":\"\\/assetserver\\/5ab20f1060420992a9b82a65b735dee4d81ef413-all.js\"},{\"name\":null,\"type\":\"css\",\"url\":\"\\/assetserver\\/1cc0ed62837210b80a182cc3676512f895dab686-style.css\"},{\"name\":null,\"type\":\"css\",\"url\":\"\\/assetserver\\/2eee816f616df3549d7044d45e744fbf8d42bfa1-bulma_confined.min.css\"}],\"type\":\"async_block\"},\"id\":\"2052687366654872769\",\"handlers\":{\"loading\":[\"(function (val){return (val!=this.model[\\\"loading\\\"]()) ? (this.valueFromJulia[\\\"loading\\\"]=true, this.model[\\\"loading\\\"](val)) : undefined})\"],\"clicks\":[\"(function (val){return (val!=this.model[\\\"clicks\\\"]()) ? (this.valueFromJulia[\\\"clicks\\\"]=true, this.model[\\\"clicks\\\"](val)) : undefined})\"]},\"systemjs_options\":null,\"mount_callbacks\":[\"function () {\\n    var handler = (function (ko, koPunches) {\\n    ko.punches.enableAll();\\n    ko.bindingHandlers.numericValue = {\\n        init: function(element, valueAccessor, allBindings, data, context) {\\n            var stringified = ko.observable(ko.unwrap(valueAccessor()));\\n            stringified.subscribe(function(value) {\\n                var val = parseFloat(value);\\n                if (!isNaN(val)) {\\n                    valueAccessor()(val);\\n                }\\n            });\\n            valueAccessor().subscribe(function(value) {\\n                var str = JSON.stringify(value);\\n                if ((str == \\\"0\\\") && ([\\\"-0\\\", \\\"-0.\\\"].indexOf(stringified()) >= 0))\\n                     return;\\n                 if ([\\\"null\\\", \\\"\\\"].indexOf(str) >= 0)\\n                     return;\\n                stringified(str);\\n            });\\n            ko.applyBindingsToNode(\\n                element,\\n                {\\n                    value: stringified,\\n                    valueUpdate: allBindings.get('valueUpdate'),\\n                },\\n                context,\\n            );\\n        }\\n    };\\n    var json_data = {\\\"loading\\\":WebIO.getval({\\\"name\\\":\\\"loading\\\",\\\"scope\\\":\\\"2052687366654872769\\\",\\\"id\\\":\\\"15679722761467580147\\\",\\\"type\\\":\\\"observable\\\"}),\\\"clicks\\\":WebIO.getval({\\\"name\\\":\\\"clicks\\\",\\\"scope\\\":\\\"2052687366654872769\\\",\\\"id\\\":\\\"12340678364850130602\\\",\\\"type\\\":\\\"observable\\\"})};\\n    var self = this;\\n    function AppViewModel() {\\n        for (var key in json_data) {\\n            var el = json_data[key];\\n            this[key] = Array.isArray(el) ? ko.observableArray(el) : ko.observable(el);\\n        }\\n        \\n        \\n        [this[\\\"loading\\\"].subscribe((function (val){!(this.valueFromJulia[\\\"loading\\\"]) ? (WebIO.setval({\\\"name\\\":\\\"loading\\\",\\\"scope\\\":\\\"2052687366654872769\\\",\\\"id\\\":\\\"15679722761467580147\\\",\\\"type\\\":\\\"observable\\\"},val)) : undefined; return this.valueFromJulia[\\\"loading\\\"]=false}),self),this[\\\"clicks\\\"].subscribe((function (val){!(this.valueFromJulia[\\\"clicks\\\"]) ? (WebIO.setval({\\\"name\\\":\\\"clicks\\\",\\\"scope\\\":\\\"2052687366654872769\\\",\\\"id\\\":\\\"12340678364850130602\\\",\\\"type\\\":\\\"observable\\\"},val)) : undefined; return this.valueFromJulia[\\\"clicks\\\"]=false}),self)]\\n        \\n    }\\n    self.model = new AppViewModel();\\n    self.valueFromJulia = {};\\n    for (var key in json_data) {\\n        self.valueFromJulia[key] = false;\\n    }\\n    ko.applyBindings(self.model, self.dom);\\n}\\n);\\n    (WebIO.importBlock({\\\"data\\\":[{\\\"name\\\":\\\"knockout\\\",\\\"type\\\":\\\"js\\\",\\\"url\\\":\\\"\\/assetserver\\/727383f2a47bd31570b7da84eee7b022dd6d7c78-knockout.js\\\"},{\\\"name\\\":\\\"knockout_punches\\\",\\\"type\\\":\\\"js\\\",\\\"url\\\":\\\"\\/assetserver\\/382b41b3b1bd9f26f75861d360bad7f8beea211f-knockout_punches.js\\\"}],\\\"type\\\":\\\"async_block\\\"})).then((imports) => handler.apply(this, imports));\\n}\\n\"],\"observables\":{\"loading\":{\"sync\":false,\"id\":\"15679722761467580147\",\"value\":false},\"clicks\":{\"sync\":true,\"id\":\"12340678364850130602\",\"value\":0}}},\"children\":[{\"props\":{\"attributes\":{\"data-bind\":\"click: function (){this.clicks(this.clicks()+1)}, css: {'is-loading' : loading}\"},\"className\":\"is-medium button is-primary\",\"style\":{}},\"nodeType\":\"DOM\",\"type\":\"node\",\"instanceArgs\":{\"namespace\":\"html\",\"tag\":\"button\"},\"children\":[\"save\"]}]}]}]}]},{\"props\":{\"className\":\"interact-widget\"},\"nodeType\":\"DOM\",\"type\":\"node\",\"instanceArgs\":{\"namespace\":\"html\",\"tag\":\"div\"},\"children\":[{\"props\":{},\"nodeType\":\"Scope\",\"type\":\"node\",\"instanceArgs\":{\"imports\":{\"data\":[{\"name\":null,\"type\":\"js\",\"url\":\"\\/assetserver\\/dd22ed1bf1896c2748f3fe616ce0b838adc895c1-katex.min.js\"},{\"name\":null,\"type\":\"css\",\"url\":\"\\/assetserver\\/46517a424aa5e6cffc1360d7e0848b601c584ee3-katex.min.css\"}],\"type\":\"async_block\"},\"id\":\"5806910441574635216\",\"handlers\":{\"value\":[\"(function (txt){return this.k.render(txt,this.container)})\"]},\"systemjs_options\":null,\"mount_callbacks\":[\"function () {\\n    var handler = ((function (k){this.k=k; this.container=this.dom.querySelector(\\\"#container\\\"); return k.render(\\\"\\\\\\\\;\\\\\\\\;\\\",this.container)}));\\n    (WebIO.importBlock({\\\"data\\\":[{\\\"name\\\":null,\\\"type\\\":\\\"js\\\",\\\"url\\\":\\\"\\/assetserver\\/dd22ed1bf1896c2748f3fe616ce0b838adc895c1-katex.min.js\\\"},{\\\"name\\\":null,\\\"type\\\":\\\"css\\\",\\\"url\\\":\\\"\\/assetserver\\/46517a424aa5e6cffc1360d7e0848b601c584ee3-katex.min.css\\\"}],\\\"type\\\":\\\"async_block\\\"})).then((imports) => handler.apply(this, imports));\\n}\\n\"],\"observables\":{\"value\":{\"sync\":false,\"id\":\"7388917651806250695\",\"value\":\"\\\\;\\\\;\"}}},\"children\":[{\"props\":{\"id\":\"container\"},\"nodeType\":\"DOM\",\"type\":\"node\",\"instanceArgs\":{\"namespace\":\"html\",\"tag\":\"div\"},\"children\":[]}]}]},{\"props\":{},\"nodeType\":\"Scope\",\"type\":\"node\",\"instanceArgs\":{\"imports\":{\"data\":[],\"type\":\"async_block\"},\"id\":\"10263581748393585097\",\"handlers\":{\"obs-output\":[\"function (value, scope) {\\n    scope.setInnerHTML(value);\\n}\\n\"]},\"systemjs_options\":null,\"mount_callbacks\":[],\"observables\":{\"obs-output\":{\"sync\":false,\"id\":\"9898535693422114492\",\"value\":\"<img src='data:image\\/png;base64,iVBORw0KGgoAAAANSUhEUgAAAa4AAAGuCAIAAABHl3XNAAAABmJLR0QA\\/wD\\/AP+gvaeTAAAFpUlEQVR4nO3aMW4TQQCG0S8UpAkHsHMDJKR05A7cAKg5ELgB6pTuOAR0QeIKyQWgMc1SpEEigSLRDNK+V9pT\\/MXq06zlo2VZAli3R7MHAMwnhQBSCCCFAEkhQFIIkBQCJIUASSFAUgiQFAIkhQBJIUBSCJAUAiSFAEkhQFIIkBQCJIUASSFAUgiQFAIkhQBJIUBSCJAUAiSFAEkhQFIIkBQCJIUASSFAUgiQFAIkhQBJIUBSCJAUAiSFAEkhQFIIkBQCJIUASSFAUgiQFAIkhQBJIUBSCJAUAiSFAEkhQFIIkBQCJIUASSFAUgiQFAIkhQBJIUBSCJAUAiSFAEkhQFIIkBQCJIUASSFAUgiQFAIkhQBJIUBSCJAUAiSFAEkhQFIIkBQCJIUASSFAUgiQFAIkhQBJIUBSCJAUAiSFAEkhQFIIkBQCJIUASSFz7fdtNm027fezp7BuR8uyzN7Aep2edn1dtd12dTV7DSvmVggghUy127Xdtt22282ewrp5QQZwKwSQQoCkECApBEgKAZJCgKQQICkESAoBkkKApBAgKQRICgGSQoCkECApBEgKAZJCgKQQICkESAoBkkKApBAgKQRICgGSQoCkECApBEgKAZJCgKQQICkESAoBkkKApBAgKQRICgGSQoCkECApBEgKAZJCgKQQICkESAoBkkKApBAgKQRICgGSQoCkECApBEgKAZJCgKQQICkESAoBkkKApBAgKQRICgGSQoCkECApBEgKAZJCgKQQICkESAoBkkKApBAgKQRICgGSQoCkECApBEgKAZJCgKQQICkESAoBkkKApBAgKQRICgGSQoCkECApBEgKAZJCgKQQICkESAoBkkKApBAgKQRICgGSQoCkECApBEgKAZJCgKQQICkESAoBkkKApBAgKQRICgGSQoCkECApZJ5Dva3zOqmTOq93dZi9ipU6WpZl9gZW6Kpe1Nc\\/Pj+rT3U6YRHrJoWMd6jnt3Xwxll9ruOhi1g9L8iM9\\/7uDlaX9XHcFqikkBku7n0AHpgXZMZ7Uj\\/+euCkvg\\/aApVbIf8ljyWjeeYY7+m9D8ADk0LGe\\/2vA69GrIDf+K2Q8Q51Xpd3fHtWX+rx0EWsnlsh4x3Xpzq77aubv1jrIKO5FTLLz\\/pQF\\/Wtqmf1st7oIFNIIYAXZAApBEgKAZJCgKQQICkESAoBkkKApBAgKQRICgGSQoCkECApBEgKAZJCgKQQICkESAoBkkKApBAgKQRICgGSQoCkECApBEgKAZJCgKQQICkESAoBkkKApBAgKQRICgGSQoCkECApBEgKAZJCgKQQICkESAoBkkKApBAgKQRICgGSQoCkECApBEgKAZJCgKQQICkESAoBkkKApBAgKQRICgGSQoCkECApBEgKAZJCgKQQICkESAoBkkKApBAgKQRICgGSQoCkECApBEgKAZJCgKQQICkESAoBkkKApBAgKQRICgGSQoCkECApBEgKAZJCgKQQICkESAoBkkKApBAgKQRICgGSQoCkECApBEgKAZJCgKQQICkESAoBkkKApBAgKQRICgGSQoCkECApBEgKAZJCgKQQICkESAoBkkKApBAgKQRICgGSQoCkECApBEgKAZJCgKQQICkESAoBkkKApBAgKQRICgGSQoCkECApBEgKAZJCgKQQICkESAoBkkKApBAgKQRICgGSQoCkECApBEgKAZJCgKQQICkESAoBkkKApBAgKQRICgGSQoCkECApBEgKAZJCgKQQICkESAoBkkKApBAgKQRICgGSQoCkECApBEgKAZJCgKQQICkESAoBkkKApBAgKQRICgGSQoCkECApBEgKAZJCgKQQICkESAoBkkKApBAgKQRICgGSQoCkECApBEgKAZJCgKQQICkESAoBkkKApBAgKQRICgGSQoCkECApBEgKAZJCgOoXi4VBqWpBi50AAAAASUVORK5CYII='><\\/img>\"}}},\"children\":[{\"props\":{\"className\":\"webio-observable\",\"setInnerHtml\":\"<img src='data:image\\/png;base64,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'><\\/img>\"},\"nodeType\":\"DOM\",\"type\":\"node\",\"instanceArgs\":{\"namespace\":\"html\",\"tag\":\"div\"},\"children\":[]}]},{\"props\":{\"className\":\"interact-widget\"},\"nodeType\":\"DOM\",\"type\":\"node\",\"instanceArgs\":{\"namespace\":\"html\",\"tag\":\"div\"},\"children\":[{\"props\":{},\"nodeType\":\"Scope\",\"type\":\"node\",\"instanceArgs\":{\"imports\":{\"data\":[{\"name\":null,\"type\":\"js\",\"url\":\"\\/assetserver\\/dd22ed1bf1896c2748f3fe616ce0b838adc895c1-katex.min.js\"},{\"name\":null,\"type\":\"css\",\"url\":\"\\/assetserver\\/46517a424aa5e6cffc1360d7e0848b601c584ee3-katex.min.css\"}],\"type\":\"async_block\"},\"id\":\"5806910441574635216\",\"handlers\":{\"value\":[\"(function (txt){return this.k.render(txt,this.container)})\"]},\"systemjs_options\":null,\"mount_callbacks\":[\"function () {\\n    var handler = ((function (k){this.k=k; this.container=this.dom.querySelector(\\\"#container\\\"); return k.render(\\\"\\\\\\\\;\\\\\\\\;\\\",this.container)}));\\n    (WebIO.importBlock({\\\"data\\\":[{\\\"name\\\":null,\\\"type\\\":\\\"js\\\",\\\"url\\\":\\\"\\/assetserver\\/dd22ed1bf1896c2748f3fe616ce0b838adc895c1-katex.min.js\\\"},{\\\"name\\\":null,\\\"type\\\":\\\"css\\\",\\\"url\\\":\\\"\\/assetserver\\/46517a424aa5e6cffc1360d7e0848b601c584ee3-katex.min.css\\\"}],\\\"type\\\":\\\"async_block\\\"})).then((imports) => handler.apply(this, imports));\\n}\\n\"],\"observables\":{\"value\":{\"sync\":false,\"id\":\"7388917651806250695\",\"value\":\"\\\\;\\\\;\"}}},\"children\":[{\"props\":{\"id\":\"container\"},\"nodeType\":\"DOM\",\"type\":\"node\",\"instanceArgs\":{\"namespace\":\"html\",\"tag\":\"div\"},\"children\":[]}]}]},{\"props\":{\"style\":{\"display\":\"flex\",\"flex-direction\":\"column\"}},\"nodeType\":\"DOM\",\"type\":\"node\",\"instanceArgs\":{\"namespace\":\"html\",\"tag\":\"div\"},\"children\":[]}]}]},\n",
       "        window,\n",
       "    );\n",
       "    })()\n",
       "    </script>\n",
       "</div>\n"
      ],
      "text/plain": [
       "WebIO.Node{WebIO.DOM}(WebIO.DOM(:html, :div), Any[WebIO.Node{WebIO.DOM}(WebIO.DOM(:html, :div), Any[WebIO.Node{WebIO.DOM}(WebIO.DOM(:html, :div), Any[WebIO.Node{WebIO.DOM}(WebIO.DOM(:html, :div), Any[WebIO.Scope(WebIO.Node{WebIO.DOM}(WebIO.DOM(:html, :div), Any[WebIO.Node{WebIO.DOM}(WebIO.DOM(:html, :div), Any[WebIO.Node{WebIO.DOM}(WebIO.DOM(:html, :label), Any[\"time\"], Dict{Symbol, Any}(:className => \"interact \", :style => Dict{Any, Any}(:padding => \"5px 10px 0px 10px\")))], Dict{Symbol, Any}(:className => \"interact-flex-row-left\")), WebIO.Node{WebIO.DOM}(WebIO.DOM(:html, :div), Any[WebIO.Node{WebIO.DOM}(WebIO.DOM(:html, :input), Any[], Dict{Symbol, Any}(:max => 200, :min => 1, :attributes => Dict{Any, Any}(:type => \"range\", Symbol(\"data-bind\") => \"numericValue: index, valueUpdate: 'input', event: {change: function (){this.changes(this.changes()+1)}}\", \"orient\" => \"horizontal\"), :step => 1, :className => \"slider slider is-fullwidth\", :style => Dict{Any, Any}()))], Dict{Symbol, Any}(:className => \"interact-flex-row-center\")), WebIO.Node{WebIO.DOM}(WebIO.DOM(:html, :div), Any[WebIO.Node{WebIO.DOM}(WebIO.DOM(:html, :p), Any[], Dict{Symbol, Any}(:attributes => Dict(\"data-bind\" => \"text: formatted_val\")))], Dict{Symbol, Any}(:className => \"interact-flex-row-right\"))], Dict{Symbol, Any}(:className => \"interact-flex-row interact-widget\")), Dict{String, Tuple{Observables.AbstractObservable, Union{Nothing, Bool}}}(\"changes\" => (Observable(0), nothing), \"index\" => (Observable(1), nothing)), Set{String}(), nothing, WebIO.Asset[WebIO.Asset(\"js\", \"knockout\", \"/home/dushya/.julia/packages/Knockout/HReiN/src/../assets/knockout.js\"), WebIO.Asset(\"js\", \"knockout_punches\", \"/home/dushya/.julia/packages/Knockout/HReiN/src/../assets/knockout_punches.js\"), WebIO.Asset(\"js\", nothing, \"/home/dushya/.julia/packages/InteractBase/LJXv3/src/../assets/all.js\"), WebIO.Asset(\"css\", nothing, \"/home/dushya/.julia/packages/InteractBase/LJXv3/src/../assets/style.css\"), WebIO.Asset(\"css\", nothing, \"/home/dushya/.julia/packages/Interact/PENUy/src/../assets/bulma_confined.min.css\")], Dict{Any, Any}(\"changes\" => Any[WebIO.JSString(\"(function (val){return (val!=this.model[\\\"changes\\\"]()) ? (this.valueFromJulia[\\\"changes\\\"]=true, this.model[\\\"changes\\\"](val)) : undefined})\")], \"index\" => Any[WebIO.JSString(\"(function (val){return (val!=this.model[\\\"index\\\"]()) ? (this.valueFromJulia[\\\"index\\\"]=true, this.model[\\\"index\\\"](val)) : undefined})\")]), WebIO.ConnectionPool(Channel{Any}(32), Set{WebIO.AbstractConnection}(), Base.GenericCondition{ReentrantLock}(Base.IntrusiveLinkedList{Task}(Task (runnable) @0x00007f34de469460, Task (runnable) @0x00007f34de469460), ReentrantLock(nothing, 0x00000000, 0x00, Base.GenericCondition{Base.Threads.SpinLock}(Base.IntrusiveLinkedList{Task}(nothing, nothing), Base.Threads.SpinLock(0)), (0, 139866907541696, 139866705370576)))), WebIO.JSString[WebIO.JSString(\"function () {\\n    var handler = (function (ko, koPunches) {\\n    ko.punches.enableAll();\\n    ko.bindingHandlers.numericValue = {\\n        init: function(element, valueAccessor, allBindings, data, context) {\\n            var stringified = ko.observable(ko.unwrap(valueAccessor()));\\n            stringified.subscribe(function(value) {\\n                var val = parseFloat(value);\\n                if (!isNaN(val)) {\\n                    valueAccessor()(val);\\n                }\\n            });\\n            valueAccessor().subscribe(function(value) {\\n                var str = JSON.stringify(value);\\n                if ((str == \\\"0\\\") && ([\\\"-0\\\", \\\"-0.\\\"].indexOf(stringified()) >= 0))\\n                     return;\\n                 if ([\\\"null\\\", \\\"\\\"].indexOf(str) >= 0)\\n                     return;\\n                stringified(str);\\n            });\\n            ko.applyBindingsToNode(\\n                element,\\n                {\\n                    value: stringified,\\n                    valueUpdate: allBindings.get('valueUpdate'),\\n                },\\n                context,\\n            );\\n        }\\n    };\\n    var json_data = {\\\"formatted_vals\\\":[\\\"1\\\",\\\"2\\\",\\\"3\\\",\\\"4\\\",\\\"5\\\",\\\"6\\\",\\\"7\\\",\\\"8\\\",\\\"9\\\",\\\"10\\\",\\\"11\\\",\\\"12\\\",\\\"13\\\",\\\"14\\\",\\\"15\\\",\\\"16\\\",\\\"17\\\",\\\"18\\\",\\\"19\\\",\\\"20\\\",\\\"21\\\",\\\"22\\\",\\\"23\\\",\\\"24\\\",\\\"25\\\",\\\"26\\\",\\\"27\\\",\\\"28\\\",\\\"29\\\",\\\"30\\\",\\\"31\\\",\\\"32\\\",\\\"33\\\",\\\"34\\\",\\\"35\\\",\\\"36\\\",\\\"37\\\",\\\"38\\\",\\\"39\\\",\\\"40\\\",\\\"41\\\",\\\"42\\\",\\\"43\\\",\\\"44\\\",\\\"45\\\",\\\"46\\\",\\\"47\\\",\\\"48\\\",\\\"49\\\",\\\"50\\\",\\\"51\\\",\\\"52\\\",\\\"53\\\",\\\"54\\\",\\\"55\\\",\\\"56\\\",\\\"57\\\",\\\"58\\\",\\\"59\\\",\\\"60\\\",\\\"61\\\",\\\"62\\\",\\\"63\\\",\\\"64\\\",\\\"65\\\",\\\"66\\\",\\\"67\\\",\\\"68\\\",\\\"69\\\",\\\"70\\\",\\\"71\\\",\\\"72\\\",\\\"73\\\",\\\"74\\\",\\\"75\\\",\\\"76\\\",\\\"77\\\",\\\"78\\\",\\\"79\\\",\\\"80\\\",\\\"81\\\",\\\"82\\\",\\\"83\\\",\\\"84\\\",\\\"85\\\",\\\"86\\\",\\\"87\\\",\\\"88\\\",\\\"89\\\",\\\"90\\\",\\\"91\\\",\\\"92\\\",\\\"93\\\",\\\"94\\\",\\\"95\\\",\\\"96\\\",\\\"97\\\",\\\"98\\\",\\\"99\\\",\\\"100\\\",\\\"101\\\",\\\"102\\\",\\\"103\\\",\\\"104\\\",\\\"105\\\",\\\"106\\\",\\\"107\\\",\\\"108\\\",\\\"109\\\",\\\"110\\\",\\\"111\\\",\\\"112\\\",\\\"113\\\",\\\"114\\\",\\\"115\\\",\\\"116\\\",\\\"117\\\",\\\"118\\\",\\\"119\\\",\\\"120\\\",\\\"121\\\",\\\"122\\\",\\\"123\\\",\\\"124\\\",\\\"125\\\",\\\"126\\\",\\\"127\\\",\\\"128\\\",\\\"129\\\",\\\"130\\\",\\\"131\\\",\\\"132\\\",\\\"133\\\",\\\"134\\\",\\\"135\\\",\\\"136\\\",\\\"137\\\",\\\"138\\\",\\\"139\\\",\\\"140\\\",\\\"141\\\",\\\"142\\\",\\\"143\\\",\\\"144\\\",\\\"145\\\",\\\"146\\\",\\\"147\\\",\\\"148\\\",\\\"149\\\",\\\"150\\\",\\\"151\\\",\\\"152\\\",\\\"153\\\",\\\"154\\\",\\\"155\\\",\\\"156\\\",\\\"157\\\",\\\"158\\\",\\\"159\\\",\\\"160\\\",\\\"161\\\",\\\"162\\\",\\\"163\\\",\\\"164\\\",\\\"165\\\",\\\"166\\\",\\\"167\\\",\\\"168\\\",\\\"169\\\",\\\"170\\\",\\\"171\\\",\\\"172\\\",\\\"173\\\",\\\"174\\\",\\\"175\\\",\\\"176\\\",\\\"177\\\",\\\"178\\\",\\\"179\\\",\\\"180\\\",\\\"181\\\",\\\"182\\\",\\\"183\\\",\\\"184\\\",\\\"185\\\",\\\"186\\\",\\\"187\\\",\\\"188\\\",\\\"189\\\",\\\"190\\\",\\\"191\\\",\\\"192\\\",\\\"193\\\",\\\"194\\\",\\\"195\\\",\\\"196\\\",\\\"197\\\",\\\"198\\\",\\\"199\\\",\\\"200\\\"],\\\"changes\\\":WebIO.getval({\\\"name\\\":\\\"changes\\\",\\\"scope\\\":\\\"2940939504953961307\\\",\\\"id\\\":\\\"12399165649067750126\\\",\\\"type\\\":\\\"observable\\\"}),\\\"index\\\":WebIO.getval({\\\"name\\\":\\\"index\\\",\\\"scope\\\":\\\"2940939504953961307\\\",\\\"id\\\":\\\"5489032090183613323\\\",\\\"type\\\":\\\"observable\\\"})};\\n    var self = this;\\n    function AppViewModel() {\\n        for (var key in json_data) {\\n            var el = json_data[key];\\n            this[key] = Array.isArray(el) ? ko.observableArray(el) : ko.observable(el);\\n        }\\n        \\n        [this[\\\"formatted_val\\\"]=ko.computed(    function(){\\n        return this.formatted_vals()[parseInt(this.index())-(1)];\\n    }\\n,this)]\\n        [this[\\\"changes\\\"].subscribe((function (val){!(this.valueFromJulia[\\\"changes\\\"]) ? (WebIO.setval({\\\"name\\\":\\\"changes\\\",\\\"scope\\\":\\\"2940939504953961307\\\",\\\"id\\\":\\\"12399165649067750126\\\",\\\"type\\\":\\\"observable\\\"},val)) : undefined; return this.valueFromJulia[\\\"changes\\\"]=false}),self),this[\\\"index\\\"].subscribe((function (val){!(this.valueFromJulia[\\\"index\\\"]) ? (WebIO.setval({\\\"name\\\":\\\"index\\\",\\\"scope\\\":\\\"2940939504953961307\\\",\\\"id\\\":\\\"5489032090183613323\\\",\\\"type\\\":\\\"observable\\\"},val)) : undefined; return this.valueFromJulia[\\\"index\\\"]=false}),self)]\\n        \\n    }\\n    self.model = new AppViewModel();\\n    self.valueFromJulia = {};\\n    for (var key in json_data) {\\n        self.valueFromJulia[key] = false;\\n    }\\n    ko.applyBindings(self.model, self.dom);\\n}\\n);\\n    (WebIO.importBlock({\\\"data\\\":[{\\\"name\\\":\\\"knockout\\\",\\\"type\\\":\\\"js\\\",\\\"url\\\":\\\"/assetserver/727383f2a47bd31570b7da84eee7b022dd6d7c78-knockout.js\\\"},{\\\"name\\\":\\\"knockout_punches\\\",\\\"type\\\":\\\"js\\\",\\\"url\\\":\\\"/assetserver/382b41b3b1bd9f26f75861d360bad7f8beea211f-knockout_punches.js\\\"}],\\\"type\\\":\\\"async_block\\\"})).then((imports) => handler.apply(this, imports));\\n}\\n\")])], Dict{Symbol, Any}(:className => \"field interact-widget\")), WebIO.Node{WebIO.DOM}(WebIO.DOM(:html, :div), Any[WebIO.Scope(WebIO.Node{WebIO.DOM}(WebIO.DOM(:html, :div), Any[WebIO.Node{WebIO.DOM}(WebIO.DOM(:html, :div), Any[WebIO.Node{WebIO.DOM}(WebIO.DOM(:html, :label), Any[\"scale\"], Dict{Symbol, Any}(:className => \"interact \", :style => Dict{Any, Any}(:padding => \"5px 10px 0px 10px\")))], Dict{Symbol, Any}(:className => \"interact-flex-row-left\")), WebIO.Node{WebIO.DOM}(WebIO.DOM(:html, :div), Any[WebIO.Node{WebIO.DOM}(WebIO.DOM(:html, :input), Any[], Dict{Symbol, Any}(:max => 20, :min => 1, :attributes => Dict{Any, Any}(:type => \"range\", Symbol(\"data-bind\") => \"numericValue: index, valueUpdate: 'input', event: {change: function (){this.changes(this.changes()+1)}}\", \"orient\" => \"horizontal\"), :step => 1, :className => \"slider slider is-fullwidth\", :style => Dict{Any, Any}()))], Dict{Symbol, Any}(:className => \"interact-flex-row-center\")), WebIO.Node{WebIO.DOM}(WebIO.DOM(:html, :div), Any[WebIO.Node{WebIO.DOM}(WebIO.DOM(:html, :p), Any[], Dict{Symbol, Any}(:attributes => Dict(\"data-bind\" => \"text: formatted_val\")))], Dict{Symbol, Any}(:className => \"interact-flex-row-right\"))], Dict{Symbol, Any}(:className => \"interact-flex-row interact-widget\")), Dict{String, Tuple{Observables.AbstractObservable, Union{Nothing, Bool}}}(\"changes\" => (Observable(0), nothing), \"index\" => (Observable{Any}(10), nothing)), Set{String}(), nothing, WebIO.Asset[WebIO.Asset(\"js\", \"knockout\", \"/home/dushya/.julia/packages/Knockout/HReiN/src/../assets/knockout.js\"), WebIO.Asset(\"js\", \"knockout_punches\", \"/home/dushya/.julia/packages/Knockout/HReiN/src/../assets/knockout_punches.js\"), WebIO.Asset(\"js\", nothing, \"/home/dushya/.julia/packages/InteractBase/LJXv3/src/../assets/all.js\"), WebIO.Asset(\"css\", nothing, \"/home/dushya/.julia/packages/InteractBase/LJXv3/src/../assets/style.css\"), WebIO.Asset(\"css\", nothing, \"/home/dushya/.julia/packages/Interact/PENUy/src/../assets/bulma_confined.min.css\")], Dict{Any, Any}(\"changes\" => Any[WebIO.JSString(\"(function (val){return (val!=this.model[\\\"changes\\\"]()) ? (this.valueFromJulia[\\\"changes\\\"]=true, this.model[\\\"changes\\\"](val)) : undefined})\")], \"index\" => Any[WebIO.JSString(\"(function (val){return (val!=this.model[\\\"index\\\"]()) ? (this.valueFromJulia[\\\"index\\\"]=true, this.model[\\\"index\\\"](val)) : undefined})\")]), WebIO.ConnectionPool(Channel{Any}(32), Set{WebIO.AbstractConnection}(), Base.GenericCondition{ReentrantLock}(Base.IntrusiveLinkedList{Task}(Task (runnable) @0x00007f34de46bb70, Task (runnable) @0x00007f34de46bb70), ReentrantLock(nothing, 0x00000000, 0x00, Base.GenericCondition{Base.Threads.SpinLock}(Base.IntrusiveLinkedList{Task}(nothing, nothing), Base.Threads.SpinLock(0)), (0, 0, 139779710648320)))), WebIO.JSString[WebIO.JSString(\"function () {\\n    var handler = (function (ko, koPunches) {\\n    ko.punches.enableAll();\\n    ko.bindingHandlers.numericValue = {\\n        init: function(element, valueAccessor, allBindings, data, context) {\\n            var stringified = ko.observable(ko.unwrap(valueAccessor()));\\n            stringified.subscribe(function(value) {\\n                var val = parseFloat(value);\\n                if (!isNaN(val)) {\\n                    valueAccessor()(val);\\n                }\\n            });\\n            valueAccessor().subscribe(function(value) {\\n                var str = JSON.stringify(value);\\n                if ((str == \\\"0\\\") && ([\\\"-0\\\", \\\"-0.\\\"].indexOf(stringified()) >= 0))\\n                     return;\\n                 if ([\\\"null\\\", \\\"\\\"].indexOf(str) >= 0)\\n                     return;\\n                stringified(str);\\n            });\\n            ko.applyBindingsToNode(\\n                element,\\n                {\\n                    value: stringified,\\n                    valueUpdate: allBindings.get('valueUpdate'),\\n                },\\n                context,\\n            );\\n        }\\n    };\\n    var json_data = {\\\"formatted_vals\\\":[\\\"0.1\\\",\\\"0.2\\\",\\\"0.3\\\",\\\"0.4\\\",\\\"0.5\\\",\\\"0.6\\\",\\\"0.7\\\",\\\"0.8\\\",\\\"0.9\\\",\\\"1.0\\\",\\\"1.1\\\",\\\"1.2\\\",\\\"1.3\\\",\\\"1.4\\\",\\\"1.5\\\",\\\"1.6\\\",\\\"1.7\\\",\\\"1.8\\\",\\\"1.9\\\",\\\"2.0\\\"],\\\"changes\\\":WebIO.getval({\\\"name\\\":\\\"changes\\\",\\\"scope\\\":\\\"10940133024497881905\\\",\\\"id\\\":\\\"10647444817610601937\\\",\\\"type\\\":\\\"observable\\\"}),\\\"index\\\":WebIO.getval({\\\"name\\\":\\\"index\\\",\\\"scope\\\":\\\"10940133024497881905\\\",\\\"id\\\":\\\"13360757210172374018\\\",\\\"type\\\":\\\"observable\\\"})};\\n    var self = this;\\n    function AppViewModel() {\\n        for (var key in json_data) {\\n            var el = json_data[key];\\n            this[key] = Array.isArray(el) ? ko.observableArray(el) : ko.observable(el);\\n        }\\n        \\n        [this[\\\"formatted_val\\\"]=ko.computed(    function(){\\n        return this.formatted_vals()[parseInt(this.index())-(1)];\\n    }\\n,this)]\\n        [this[\\\"changes\\\"].subscribe((function (val){!(this.valueFromJulia[\\\"changes\\\"]) ? (WebIO.setval({\\\"name\\\":\\\"changes\\\",\\\"scope\\\":\\\"10940133024497881905\\\",\\\"id\\\":\\\"10647444817610601937\\\",\\\"type\\\":\\\"observable\\\"},val)) : undefined; return this.valueFromJulia[\\\"changes\\\"]=false}),self),this[\\\"index\\\"].subscribe((function (val){!(this.valueFromJulia[\\\"index\\\"]) ? (WebIO.setval({\\\"name\\\":\\\"index\\\",\\\"scope\\\":\\\"10940133024497881905\\\",\\\"id\\\":\\\"13360757210172374018\\\",\\\"type\\\":\\\"observable\\\"},val)) : undefined; return this.valueFromJulia[\\\"index\\\"]=false}),self)]\\n        \\n    }\\n    self.model = new AppViewModel();\\n    self.valueFromJulia = {};\\n    for (var key in json_data) {\\n        self.valueFromJulia[key] = false;\\n    }\\n    ko.applyBindings(self.model, self.dom);\\n}\\n);\\n    (WebIO.importBlock({\\\"data\\\":[{\\\"name\\\":\\\"knockout\\\",\\\"type\\\":\\\"js\\\",\\\"url\\\":\\\"/assetserver/727383f2a47bd31570b7da84eee7b022dd6d7c78-knockout.js\\\"},{\\\"name\\\":\\\"knockout_punches\\\",\\\"type\\\":\\\"js\\\",\\\"url\\\":\\\"/assetserver/382b41b3b1bd9f26f75861d360bad7f8beea211f-knockout_punches.js\\\"}],\\\"type\\\":\\\"async_block\\\"})).then((imports) => handler.apply(this, imports));\\n}\\n\")])], Dict{Symbol, Any}(:className => \"field interact-widget\")), WebIO.Node{WebIO.DOM}(WebIO.DOM(:html, :div), Any[WebIO.Node{WebIO.DOM}(WebIO.DOM(:html, :div), Any[WebIO.Scope(WebIO.Node{WebIO.DOM}(WebIO.DOM(:html, :div), Any[WebIO.Node{WebIO.DOM}(WebIO.DOM(:html, :div), Any[WebIO.Node{WebIO.DOM}(WebIO.DOM(:html, :label), Any[\"vel\"], Dict{Symbol, Any}(:className => \"interact \", :style => Dict{Any, Any}(:padding => \"5px 10px 0px 10px\")))], Dict{Symbol, Any}(:className => \"interact-flex-row-left\")), WebIO.Node{WebIO.DOM}(WebIO.DOM(:html, :div), Any[WebIO.Node{WebIO.DOM}(WebIO.DOM(:html, :input), Any[], Dict{Symbol, Any}(:max => 151, :min => 1, :attributes => Dict{Any, Any}(:type => \"range\", Symbol(\"data-bind\") => \"numericValue: index, valueUpdate: 'input', event: {change: function (){this.changes(this.changes()+1)}}\", \"orient\" => \"horizontal\"), :step => 1, :className => \"slider slider is-fullwidth\", :style => Dict{Any, Any}()))], Dict{Symbol, Any}(:className => \"interact-flex-row-center\")), WebIO.Node{WebIO.DOM}(WebIO.DOM(:html, :div), Any[WebIO.Node{WebIO.DOM}(WebIO.DOM(:html, :p), Any[], Dict{Symbol, Any}(:attributes => Dict(\"data-bind\" => \"text: formatted_val\")))], Dict{Symbol, Any}(:className => \"interact-flex-row-right\"))], Dict{Symbol, Any}(:className => \"interact-flex-row interact-widget\")), Dict{String, Tuple{Observables.AbstractObservable, Union{Nothing, Bool}}}(\"changes\" => (Observable(0), nothing), \"index\" => (Observable{Any}(76), nothing)), Set{String}(), nothing, WebIO.Asset[WebIO.Asset(\"js\", \"knockout\", \"/home/dushya/.julia/packages/Knockout/HReiN/src/../assets/knockout.js\"), WebIO.Asset(\"js\", \"knockout_punches\", \"/home/dushya/.julia/packages/Knockout/HReiN/src/../assets/knockout_punches.js\"), WebIO.Asset(\"js\", nothing, \"/home/dushya/.julia/packages/InteractBase/LJXv3/src/../assets/all.js\"), WebIO.Asset(\"css\", nothing, \"/home/dushya/.julia/packages/InteractBase/LJXv3/src/../assets/style.css\"), WebIO.Asset(\"css\", nothing, \"/home/dushya/.julia/packages/Interact/PENUy/src/../assets/bulma_confined.min.css\")], Dict{Any, Any}(\"changes\" => Any[WebIO.JSString(\"(function (val){return (val!=this.model[\\\"changes\\\"]()) ? (this.valueFromJulia[\\\"changes\\\"]=true, this.model[\\\"changes\\\"](val)) : undefined})\")], \"index\" => Any[WebIO.JSString(\"(function (val){return (val!=this.model[\\\"index\\\"]()) ? (this.valueFromJulia[\\\"index\\\"]=true, this.model[\\\"index\\\"](val)) : undefined})\")]), WebIO.ConnectionPool(Channel{Any}(32), Set{WebIO.AbstractConnection}(), Base.GenericCondition{ReentrantLock}(Base.IntrusiveLinkedList{Task}(Task (runnable) @0x00007f34de1020e0, Task (runnable) @0x00007f34de1020e0), ReentrantLock(nothing, 0x00000000, 0x00, Base.GenericCondition{Base.Threads.SpinLock}(Base.IntrusiveLinkedList{Task}(nothing, nothing), Base.Threads.SpinLock(0)), (8, 0, 1)))), WebIO.JSString[WebIO.JSString(\"function () {\\n    var handler = (function (ko, koPunches) {\\n    ko.punches.enableAll();\\n    ko.bindingHandlers.numericValue = {\\n        init: function(element, valueAccessor, allBindings, data, context) {\\n            var stringified = ko.observable(ko.unwrap(valueAccessor()));\\n            stringified.subscribe(function(value) {\\n                var val = parseFloat(value);\\n                if (!isNaN(val)) {\\n                    valueAccessor()(val);\\n                }\\n            });\\n            valueAccessor().subscribe(function(value) {\\n                var str = JSON.stringify(value);\\n                if ((str == \\\"0\\\") && ([\\\"-0\\\", \\\"-0.\\\"].indexOf(stringified()) >= 0))\\n                     return;\\n                 if ([\\\"null\\\", \\\"\\\"].indexOf(str) >= 0)\\n                     return;\\n                stringified(str);\\n            });\\n            ko.applyBindingsToNode(\\n                element,\\n                {\\n                    value: stringified,\\n                    valueUpdate: allBindings.get('valueUpdate'),\\n                },\\n                context,\\n            );\\n        }\\n    };\\n    var json_data = {\\\"formatted_vals\\\":[\\\"(-10.0, 0.0)\\\\n\\\",\\\"(-9.9, 0.0)\\\\n\\\",\\\"(-9.8, 0.0)\\\\n\\\",\\\"(-9.7, 0.0)\\\\n\\\",\\\"(-9.6, 0.0)\\\\n\\\",\\\"(-9.5, 0.0)\\\\n\\\",\\\"(-9.4, 0.0)\\\\n\\\",\\\"(-9.3, 0.0)\\\\n\\\",\\\"(-9.2, 0.0)\\\\n\\\",\\\"(-9.1, 0.0)\\\\n\\\",\\\"(-9.0, 0.0)\\\\n\\\",\\\"(-8.9, 0.0)\\\\n\\\",\\\"(-8.8, 0.0)\\\\n\\\",\\\"(-8.7, 0.0)\\\\n\\\",\\\"(-8.6, 0.0)\\\\n\\\",\\\"(-8.5, 0.0)\\\\n\\\",\\\"(-8.4, 0.0)\\\\n\\\",\\\"(-8.3, 0.0)\\\\n\\\",\\\"(-8.2, 0.0)\\\\n\\\",\\\"(-8.1, 0.0)\\\\n\\\",\\\"(-8.0, 0.0)\\\\n\\\",\\\"(-7.9, 0.0)\\\\n\\\",\\\"(-7.8, 0.0)\\\\n\\\",\\\"(-7.7, 0.0)\\\\n\\\",\\\"(-7.6, 0.0)\\\\n\\\",\\\"(-7.5, 0.0)\\\\n\\\",\\\"(-7.4, 0.0)\\\\n\\\",\\\"(-7.3, 0.0)\\\\n\\\",\\\"(-7.2, 0.0)\\\\n\\\",\\\"(-7.1, 0.0)\\\\n\\\",\\\"(-7.0, 0.0)\\\\n\\\",\\\"(-6.9, 0.0)\\\\n\\\",\\\"(-6.8, 0.0)\\\\n\\\",\\\"(-6.7, 0.0)\\\\n\\\",\\\"(-6.6, 0.0)\\\\n\\\",\\\"(-6.5, 0.0)\\\\n\\\",\\\"(-6.4, 0.0)\\\\n\\\",\\\"(-6.3, 0.0)\\\\n\\\",\\\"(-6.2, 0.0)\\\\n\\\",\\\"(-6.1, 0.0)\\\\n\\\",\\\"(-6.0, 0.0)\\\\n\\\",\\\"(-5.9, 0.0)\\\\n\\\",\\\"(-5.8, 0.0)\\\\n\\\",\\\"(-5.7, 0.0)\\\\n\\\",\\\"(-5.6, 0.0)\\\\n\\\",\\\"(-5.5, 0.0)\\\\n\\\",\\\"(-5.4, 0.0)\\\\n\\\",\\\"(-5.3, 0.0)\\\\n\\\",\\\"(-5.2, 0.0)\\\\n\\\",\\\"(-5.1, 0.0)\\\\n\\\",\\\"(-5.0, 0.0)\\\\n\\\",\\\"(-4.9, 0.0)\\\\n\\\",\\\"(-4.8, 0.0)\\\\n\\\",\\\"(-4.7, 0.0)\\\\n\\\",\\\"(-4.6, 0.0)\\\\n\\\",\\\"(-4.5, 0.0)\\\\n\\\",\\\"(-4.4, 0.0)\\\\n\\\",\\\"(-4.3, 0.0)\\\\n\\\",\\\"(-4.2, 0.0)\\\\n\\\",\\\"(-4.1, 0.0)\\\\n\\\",\\\"(-4.0, 0.0)\\\\n\\\",\\\"(-3.9, 0.0)\\\\n\\\",\\\"(-3.8, 0.0)\\\\n\\\",\\\"(-3.7, 0.0)\\\\n\\\",\\\"(-3.6, 0.0)\\\\n\\\",\\\"(-3.5, 0.0)\\\\n\\\",\\\"(-3.4, 0.0)\\\\n\\\",\\\"(-3.3, 0.0)\\\\n\\\",\\\"(-3.2, 0.0)\\\\n\\\",\\\"(-3.1, 0.0)\\\\n\\\",\\\"(-3.0, 0.0)\\\\n\\\",\\\"(-2.9, 0.0)\\\\n\\\",\\\"(-2.8, 0.0)\\\\n\\\",\\\"(-2.7, 0.0)\\\\n\\\",\\\"(-2.6, 0.0)\\\\n\\\",\\\"(-2.5, 0.0)\\\\n\\\",\\\"(-2.4, 0.0)\\\\n\\\",\\\"(-2.3, 0.0)\\\\n\\\",\\\"(-2.2, 0.0)\\\\n\\\",\\\"(-2.1, 0.0)\\\\n\\\",\\\"(-2.0, 0.0)\\\\n\\\",\\\"(-1.9, 0.0)\\\\n\\\",\\\"(-1.8, 0.0)\\\\n\\\",\\\"(-1.7, 0.0)\\\\n\\\",\\\"(-1.6, 0.0)\\\\n\\\",\\\"(-1.5, 0.0)\\\\n\\\",\\\"(-1.4, 0.0)\\\\n\\\",\\\"(-1.3, 0.0)\\\\n\\\",\\\"(-1.2, 0.0)\\\\n\\\",\\\"(-1.1, 0.0)\\\\n\\\",\\\"(-1.0, 0.0)\\\\n\\\",\\\"(-0.9, 0.0)\\\\n\\\",\\\"(-0.8, 0.0)\\\\n\\\",\\\"(-0.7, 0.0)\\\\n\\\",\\\"(-0.6, 0.0)\\\\n\\\",\\\"(-0.5, 0.0)\\\\n\\\",\\\"(-0.4, 0.0)\\\\n\\\",\\\"(-0.3, 0.0)\\\\n\\\",\\\"(-0.2, 0.0)\\\\n\\\",\\\"(-0.1, 0.0)\\\\n\\\",\\\"(0.0, 0.0)\\\\n\\\",\\\"(0.1, 0.0)\\\\n\\\",\\\"(0.2, 0.0)\\\\n\\\",\\\"(0.3, 0.0)\\\\n\\\",\\\"(0.4, 0.0)\\\\n\\\",\\\"(0.5, 0.0)\\\\n\\\",\\\"(0.6, 0.0)\\\\n\\\",\\\"(0.7, 0.0)\\\\n\\\",\\\"(0.8, 0.0)\\\\n\\\",\\\"(0.9, 0.0)\\\\n\\\",\\\"(1.0, 0.0)\\\\n\\\",\\\"(1.1, 0.0)\\\\n\\\",\\\"(1.2, 0.0)\\\\n\\\",\\\"(1.3, 0.0)\\\\n\\\",\\\"(1.4, 0.0)\\\\n\\\",\\\"(1.5, 0.0)\\\\n\\\",\\\"(1.6, 0.0)\\\\n\\\",\\\"(1.7, 0.0)\\\\n\\\",\\\"(1.8, 0.0)\\\\n\\\",\\\"(1.9, 0.0)\\\\n\\\",\\\"(2.0, 0.0)\\\\n\\\",\\\"(2.1, 0.0)\\\\n\\\",\\\"(2.2, 0.0)\\\\n\\\",\\\"(2.3, 0.0)\\\\n\\\",\\\"(2.4, 0.0)\\\\n\\\",\\\"(2.5, 0.0)\\\\n\\\",\\\"(2.6, 0.0)\\\\n\\\",\\\"(2.7, 0.0)\\\\n\\\",\\\"(2.8, 0.0)\\\\n\\\",\\\"(2.9, 0.0)\\\\n\\\",\\\"(3.0, 0.0)\\\\n\\\",\\\"(3.1, 0.0)\\\\n\\\",\\\"(3.2, 0.0)\\\\n\\\",\\\"(3.3, 0.0)\\\\n\\\",\\\"(3.4, 0.0)\\\\n\\\",\\\"(3.5, 0.0)\\\\n\\\",\\\"(3.6, 0.0)\\\\n\\\",\\\"(3.7, 0.0)\\\\n\\\",\\\"(3.8, 0.0)\\\\n\\\",\\\"(3.9, 0.0)\\\\n\\\",\\\"(4.0, 0.0)\\\\n\\\",\\\"(4.1, 0.0)\\\\n\\\",\\\"(4.2, 0.0)\\\\n\\\",\\\"(4.3, 0.0)\\\\n\\\",\\\"(4.4, 0.0)\\\\n\\\",\\\"(4.5, 0.0)\\\\n\\\",\\\"(4.6, 0.0)\\\\n\\\",\\\"(4.7, 0.0)\\\\n\\\",\\\"(4.8, 0.0)\\\\n\\\",\\\"(4.9, 0.0)\\\\n\\\",\\\"(5.0, 0.0)\\\\n\\\"],\\\"changes\\\":WebIO.getval({\\\"name\\\":\\\"changes\\\",\\\"scope\\\":\\\"6301508558890833542\\\",\\\"id\\\":\\\"8491049446467423037\\\",\\\"type\\\":\\\"observable\\\"}),\\\"index\\\":WebIO.getval({\\\"name\\\":\\\"index\\\",\\\"scope\\\":\\\"6301508558890833542\\\",\\\"id\\\":\\\"11030241674339803918\\\",\\\"type\\\":\\\"observable\\\"})};\\n    var self = this;\\n    function AppViewModel() {\\n        for (var key in json_data) {\\n            var el = json_data[key];\\n            this[key] = Array.isArray(el) ? ko.observableArray(el) : ko.observable(el);\\n        }\\n        \\n        [this[\\\"formatted_val\\\"]=ko.computed(    function(){\\n        return this.formatted_vals()[parseInt(this.index())-(1)];\\n    }\\n,this)]\\n        [this[\\\"changes\\\"].subscribe((function (val){!(this.valueFromJulia[\\\"changes\\\"]) ? (WebIO.setval({\\\"name\\\":\\\"changes\\\",\\\"scope\\\":\\\"6301508558890833542\\\",\\\"id\\\":\\\"8491049446467423037\\\",\\\"type\\\":\\\"observable\\\"},val)) : undefined; return this.valueFromJulia[\\\"changes\\\"]=false}),self),this[\\\"index\\\"].subscribe((function (val){!(this.valueFromJulia[\\\"index\\\"]) ? (WebIO.setval({\\\"name\\\":\\\"index\\\",\\\"scope\\\":\\\"6301508558890833542\\\",\\\"id\\\":\\\"11030241674339803918\\\",\\\"type\\\":\\\"observable\\\"},val)) : undefined; return this.valueFromJulia[\\\"index\\\"]=false}),self)]\\n        \\n    }\\n    self.model = new AppViewModel();\\n    self.valueFromJulia = {};\\n    for (var key in json_data) {\\n        self.valueFromJulia[key] = false;\\n    }\\n    ko.applyBindings(self.model, self.dom);\\n}\\n);\\n    (WebIO.importBlock({\\\"data\\\":[{\\\"name\\\":\\\"knockout\\\",\\\"type\\\":\\\"js\\\",\\\"url\\\":\\\"/assetserver/727383f2a47bd31570b7da84eee7b022dd6d7c78-knockout.js\\\"},{\\\"name\\\":\\\"knockout_punches\\\",\\\"type\\\":\\\"js\\\",\\\"url\\\":\\\"/assetserver/382b41b3b1bd9f26f75861d360bad7f8beea211f-knockout_punches.js\\\"}],\\\"type\\\":\\\"async_block\\\"})).then((imports) => handler.apply(this, imports));\\n}\\n\")])], Dict{Symbol, Any}(:className => \"field interact-widget\"))], Dict{Symbol, Any}(:style => Dict(\"display\" => \"flex\", \"flex-direction\" => \"column\"))), WebIO.Node{WebIO.DOM}(WebIO.DOM(:html, :div), Any[WebIO.Node{WebIO.DOM}(WebIO.DOM(:html, :div), Any[WebIO.Scope(WebIO.Node{WebIO.DOM}(WebIO.DOM(:html, :div), Any[WebIO.Node{WebIO.DOM}(WebIO.DOM(:html, :div), Any[WebIO.Node{WebIO.DOM}(WebIO.DOM(:html, :label), Any[\"gravity\"], Dict{Symbol, Any}(:className => \"interact \", :style => Dict{Any, Any}(:padding => \"5px 10px 0px 10px\")))], Dict{Symbol, Any}(:className => \"interact-flex-row-left\")), WebIO.Node{WebIO.DOM}(WebIO.DOM(:html, :div), Any[WebIO.Node{WebIO.DOM}(WebIO.DOM(:html, :input), Any[], Dict{Symbol, Any}(:max => 21, :min => 1, :attributes => Dict{Any, Any}(:type => \"range\", Symbol(\"data-bind\") => \"numericValue: index, valueUpdate: 'input', event: {change: function (){this.changes(this.changes()+1)}}\", \"orient\" => \"horizontal\"), :step => 1, :className => \"slider slider is-fullwidth\", :style => Dict{Any, Any}()))], Dict{Symbol, Any}(:className => \"interact-flex-row-center\")), WebIO.Node{WebIO.DOM}(WebIO.DOM(:html, :div), Any[WebIO.Node{WebIO.DOM}(WebIO.DOM(:html, :p), Any[], Dict{Symbol, Any}(:attributes => Dict(\"data-bind\" => \"text: formatted_val\")))], Dict{Symbol, Any}(:className => \"interact-flex-row-right\"))], Dict{Symbol, Any}(:className => \"interact-flex-row interact-widget\")), Dict{String, Tuple{Observables.AbstractObservable, Union{Nothing, Bool}}}(\"changes\" => (Observable(0), nothing), \"index\" => (Observable{Any}(11), nothing)), Set{String}(), nothing, WebIO.Asset[WebIO.Asset(\"js\", \"knockout\", \"/home/dushya/.julia/packages/Knockout/HReiN/src/../assets/knockout.js\"), WebIO.Asset(\"js\", \"knockout_punches\", \"/home/dushya/.julia/packages/Knockout/HReiN/src/../assets/knockout_punches.js\"), WebIO.Asset(\"js\", nothing, \"/home/dushya/.julia/packages/InteractBase/LJXv3/src/../assets/all.js\"), WebIO.Asset(\"css\", nothing, \"/home/dushya/.julia/packages/InteractBase/LJXv3/src/../assets/style.css\"), WebIO.Asset(\"css\", nothing, \"/home/dushya/.julia/packages/Interact/PENUy/src/../assets/bulma_confined.min.css\")], Dict{Any, Any}(\"changes\" => Any[WebIO.JSString(\"(function (val){return (val!=this.model[\\\"changes\\\"]()) ? (this.valueFromJulia[\\\"changes\\\"]=true, this.model[\\\"changes\\\"](val)) : undefined})\")], \"index\" => Any[WebIO.JSString(\"(function (val){return (val!=this.model[\\\"index\\\"]()) ? (this.valueFromJulia[\\\"index\\\"]=true, this.model[\\\"index\\\"](val)) : undefined})\")]), WebIO.ConnectionPool(Channel{Any}(32), Set{WebIO.AbstractConnection}(), Base.GenericCondition{ReentrantLock}(Base.IntrusiveLinkedList{Task}(Task (runnable) @0x00007f34ddb78b00, Task (runnable) @0x00007f34ddb78b00), ReentrantLock(nothing, 0x00000000, 0x00, Base.GenericCondition{Base.Threads.SpinLock}(Base.IntrusiveLinkedList{Task}(nothing, nothing), Base.Threads.SpinLock(0)), (0, 0, 0)))), WebIO.JSString[WebIO.JSString(\"function () {\\n    var handler = (function (ko, koPunches) {\\n    ko.punches.enableAll();\\n    ko.bindingHandlers.numericValue = {\\n        init: function(element, valueAccessor, allBindings, data, context) {\\n            var stringified = ko.observable(ko.unwrap(valueAccessor()));\\n            stringified.subscribe(function(value) {\\n                var val = parseFloat(value);\\n                if (!isNaN(val)) {\\n                    valueAccessor()(val);\\n                }\\n            });\\n            valueAccessor().subscribe(function(value) {\\n                var str = JSON.stringify(value);\\n                if ((str == \\\"0\\\") && ([\\\"-0\\\", \\\"-0.\\\"].indexOf(stringified()) >= 0))\\n                     return;\\n                 if ([\\\"null\\\", \\\"\\\"].indexOf(str) >= 0)\\n                     return;\\n                stringified(str);\\n            });\\n            ko.applyBindingsToNode(\\n                element,\\n                {\\n                    value: stringified,\\n                    valueUpdate: allBindings.get('valueUpdate'),\\n                },\\n                context,\\n            );\\n        }\\n    };\\n    var json_data = {\\\"formatted_vals\\\":[\\\"1.0\\\",\\\"1.2\\\",\\\"1.4\\\",\\\"1.6\\\",\\\"1.8\\\",\\\"2.0\\\",\\\"2.2\\\",\\\"2.4\\\",\\\"2.6\\\",\\\"2.8\\\",\\\"3.0\\\",\\\"3.2\\\",\\\"3.4\\\",\\\"3.6\\\",\\\"3.8\\\",\\\"4.0\\\",\\\"4.2\\\",\\\"4.4\\\",\\\"4.6\\\",\\\"4.8\\\",\\\"5.0\\\"],\\\"changes\\\":WebIO.getval({\\\"name\\\":\\\"changes\\\",\\\"scope\\\":\\\"10706512530380334129\\\",\\\"id\\\":\\\"855319810755623307\\\",\\\"type\\\":\\\"observable\\\"}),\\\"index\\\":WebIO.getval({\\\"name\\\":\\\"index\\\",\\\"scope\\\":\\\"10706512530380334129\\\",\\\"id\\\":\\\"8159742644032800281\\\",\\\"type\\\":\\\"observable\\\"})};\\n    var self = this;\\n    function AppViewModel() {\\n        for (var key in json_data) {\\n            var el = json_data[key];\\n            this[key] = Array.isArray(el) ? ko.observableArray(el) : ko.observable(el);\\n        }\\n        \\n        [this[\\\"formatted_val\\\"]=ko.computed(    function(){\\n        return this.formatted_vals()[parseInt(this.index())-(1)];\\n    }\\n,this)]\\n        [this[\\\"changes\\\"].subscribe((function (val){!(this.valueFromJulia[\\\"changes\\\"]) ? (WebIO.setval({\\\"name\\\":\\\"changes\\\",\\\"scope\\\":\\\"10706512530380334129\\\",\\\"id\\\":\\\"855319810755623307\\\",\\\"type\\\":\\\"observable\\\"},val)) : undefined; return this.valueFromJulia[\\\"changes\\\"]=false}),self),this[\\\"index\\\"].subscribe((function (val){!(this.valueFromJulia[\\\"index\\\"]) ? (WebIO.setval({\\\"name\\\":\\\"index\\\",\\\"scope\\\":\\\"10706512530380334129\\\",\\\"id\\\":\\\"8159742644032800281\\\",\\\"type\\\":\\\"observable\\\"},val)) : undefined; return this.valueFromJulia[\\\"index\\\"]=false}),self)]\\n        \\n    }\\n    self.model = new AppViewModel();\\n    self.valueFromJulia = {};\\n    for (var key in json_data) {\\n        self.valueFromJulia[key] = false;\\n    }\\n    ko.applyBindings(self.model, self.dom);\\n}\\n);\\n    (WebIO.importBlock({\\\"data\\\":[{\\\"name\\\":\\\"knockout\\\",\\\"type\\\":\\\"js\\\",\\\"url\\\":\\\"/assetserver/727383f2a47bd31570b7da84eee7b022dd6d7c78-knockout.js\\\"},{\\\"name\\\":\\\"knockout_punches\\\",\\\"type\\\":\\\"js\\\",\\\"url\\\":\\\"/assetserver/382b41b3b1bd9f26f75861d360bad7f8beea211f-knockout_punches.js\\\"}],\\\"type\\\":\\\"async_block\\\"})).then((imports) => handler.apply(this, imports));\\n}\\n\")])], Dict{Symbol, Any}(:className => \"field interact-widget\"))], Dict{Symbol, Any}(:style => Dict(\"display\" => \"flex\", \"flex-direction\" => \"column\"))), WebIO.Node{WebIO.DOM}(WebIO.DOM(:html, :div), Any[WebIO.Node{WebIO.DOM}(WebIO.DOM(:html, :div), Any[WebIO.Scope(WebIO.Node{WebIO.DOM}(WebIO.DOM(:html, :div), Any[], Dict{Symbol, Any}(:id => \"container\")), Dict{String, Tuple{Observables.AbstractObservable, Union{Nothing, Bool}}}(\"value\" => (Observable(\"\\\\;\\\\;\"), nothing)), Set{String}(), nothing, WebIO.Asset[WebIO.Asset(\"js\", nothing, \"/home/dushya/.julia/packages/InteractBase/LJXv3/src/../assets/katex.min.js\"), WebIO.Asset(\"css\", nothing, \"/home/dushya/.julia/packages/InteractBase/LJXv3/src/../assets/katex.min.css\")], Dict{Any, Any}(\"value\" => Any[WebIO.JSString(\"(function (txt){return this.k.render(txt,this.container)})\")]), WebIO.ConnectionPool(Channel{Any}(32), Set{WebIO.AbstractConnection}(), Base.GenericCondition{ReentrantLock}(Base.IntrusiveLinkedList{Task}(Task (runnable) @0x00007f350872c330, Task (runnable) @0x00007f350872c330), ReentrantLock(nothing, 0x00000000, 0x00, Base.GenericCondition{Base.Threads.SpinLock}(Base.IntrusiveLinkedList{Task}(nothing, nothing), Base.Threads.SpinLock(0)), (8, 0, 139779710648320)))), WebIO.JSString[WebIO.JSString(\"function () {\\n    var handler = ((function (k){this.k=k; this.container=this.dom.querySelector(\\\"#container\\\"); return k.render(\\\"\\\\\\\\;\\\\\\\\;\\\",this.container)}));\\n    (WebIO.importBlock({\\\"data\\\":[{\\\"name\\\":null,\\\"type\\\":\\\"js\\\",\\\"url\\\":\\\"/assetserver/dd22ed1bf1896c2748f3fe616ce0b838adc895c1-katex.min.js\\\"},{\\\"name\\\":null,\\\"type\\\":\\\"css\\\",\\\"url\\\":\\\"/assetserver/46517a424aa5e6cffc1360d7e0848b601c584ee3-katex.min.css\\\"}],\\\"type\\\":\\\"async_block\\\"})).then((imports) => handler.apply(this, imports));\\n}\\n\")])], Dict{Symbol, Any}(:className => \"interact-widget\")), WebIO.Node{WebIO.DOM}(WebIO.DOM(:html, :div), Any[WebIO.Scope(WebIO.Node{WebIO.DOM}(WebIO.DOM(:html, :button), Any[\"run\"], Dict{Symbol, Any}(:attributes => Dict{Any, Any}(\"data-bind\" => \"click: function (){this.clicks(this.clicks()+1)}, css: {'is-loading' : loading}\"), :className => \"is-medium button is-primary\", :style => Dict{String, Any}())), Dict{String, Tuple{Observables.AbstractObservable, Union{Nothing, Bool}}}(\"loading\" => (Observable(false), nothing), \"clicks\" => (Observable(0), nothing)), Set{String}(), nothing, WebIO.Asset[WebIO.Asset(\"js\", \"knockout\", \"/home/dushya/.julia/packages/Knockout/HReiN/src/../assets/knockout.js\"), WebIO.Asset(\"js\", \"knockout_punches\", \"/home/dushya/.julia/packages/Knockout/HReiN/src/../assets/knockout_punches.js\"), WebIO.Asset(\"js\", nothing, \"/home/dushya/.julia/packages/InteractBase/LJXv3/src/../assets/all.js\"), WebIO.Asset(\"css\", nothing, \"/home/dushya/.julia/packages/InteractBase/LJXv3/src/../assets/style.css\"), WebIO.Asset(\"css\", nothing, \"/home/dushya/.julia/packages/Interact/PENUy/src/../assets/bulma_confined.min.css\")], Dict{Any, Any}(\"loading\" => Any[WebIO.JSString(\"(function (val){return (val!=this.model[\\\"loading\\\"]()) ? (this.valueFromJulia[\\\"loading\\\"]=true, this.model[\\\"loading\\\"](val)) : undefined})\")], \"clicks\" => Any[WebIO.JSString(\"(function (val){return (val!=this.model[\\\"clicks\\\"]()) ? (this.valueFromJulia[\\\"clicks\\\"]=true, this.model[\\\"clicks\\\"](val)) : undefined})\")]), WebIO.ConnectionPool(Channel{Any}(32), Set{WebIO.AbstractConnection}(), Base.GenericCondition{ReentrantLock}(Base.IntrusiveLinkedList{Task}(Task (runnable) @0x00007f34ddb7b210, Task (runnable) @0x00007f34ddb7b210), ReentrantLock(nothing, 0x00000000, 0x00, Base.GenericCondition{Base.Threads.SpinLock}(Base.IntrusiveLinkedList{Task}(nothing, nothing), Base.Threads.SpinLock(0)), (8, 139866125141504, 0)))), WebIO.JSString[WebIO.JSString(\"function () {\\n    var handler = (function (ko, koPunches) {\\n    ko.punches.enableAll();\\n    ko.bindingHandlers.numericValue = {\\n        init: function(element, valueAccessor, allBindings, data, context) {\\n            var stringified = ko.observable(ko.unwrap(valueAccessor()));\\n            stringified.subscribe(function(value) {\\n                var val = parseFloat(value);\\n                if (!isNaN(val)) {\\n                    valueAccessor()(val);\\n                }\\n            });\\n            valueAccessor().subscribe(function(value) {\\n                var str = JSON.stringify(value);\\n                if ((str == \\\"0\\\") && ([\\\"-0\\\", \\\"-0.\\\"].indexOf(stringified()) >= 0))\\n                     return;\\n                 if ([\\\"null\\\", \\\"\\\"].indexOf(str) >= 0)\\n                     return;\\n                stringified(str);\\n            });\\n            ko.applyBindingsToNode(\\n                element,\\n                {\\n                    value: stringified,\\n                    valueUpdate: allBindings.get('valueUpdate'),\\n                },\\n                context,\\n            );\\n        }\\n    };\\n    var json_data = {\\\"loading\\\":WebIO.getval({\\\"name\\\":\\\"loading\\\",\\\"scope\\\":\\\"1940068060618920378\\\",\\\"id\\\":\\\"2480755985869536226\\\",\\\"type\\\":\\\"observable\\\"}),\\\"clicks\\\":WebIO.getval({\\\"name\\\":\\\"clicks\\\",\\\"scope\\\":\\\"1940068060618920378\\\",\\\"id\\\":\\\"558178382348513507\\\",\\\"type\\\":\\\"observable\\\"})};\\n    var self = this;\\n    function AppViewModel() {\\n        for (var key in json_data) {\\n            var el = json_data[key];\\n            this[key] = Array.isArray(el) ? ko.observableArray(el) : ko.observable(el);\\n        }\\n        \\n        \\n        [this[\\\"loading\\\"].subscribe((function (val){!(this.valueFromJulia[\\\"loading\\\"]) ? (WebIO.setval({\\\"name\\\":\\\"loading\\\",\\\"scope\\\":\\\"1940068060618920378\\\",\\\"id\\\":\\\"2480755985869536226\\\",\\\"type\\\":\\\"observable\\\"},val)) : undefined; return this.valueFromJulia[\\\"loading\\\"]=false}),self),this[\\\"clicks\\\"].subscribe((function (val){!(this.valueFromJulia[\\\"clicks\\\"]) ? (WebIO.setval({\\\"name\\\":\\\"clicks\\\",\\\"scope\\\":\\\"1940068060618920378\\\",\\\"id\\\":\\\"558178382348513507\\\",\\\"type\\\":\\\"observable\\\"},val)) : undefined; return this.valueFromJulia[\\\"clicks\\\"]=false}),self)]\\n        \\n    }\\n    self.model = new AppViewModel();\\n    self.valueFromJulia = {};\\n    for (var key in json_data) {\\n        self.valueFromJulia[key] = false;\\n    }\\n    ko.applyBindings(self.model, self.dom);\\n}\\n);\\n    (WebIO.importBlock({\\\"data\\\":[{\\\"name\\\":\\\"knockout\\\",\\\"type\\\":\\\"js\\\",\\\"url\\\":\\\"/assetserver/727383f2a47bd31570b7da84eee7b022dd6d7c78-knockout.js\\\"},{\\\"name\\\":\\\"knockout_punches\\\",\\\"type\\\":\\\"js\\\",\\\"url\\\":\\\"/assetserver/382b41b3b1bd9f26f75861d360bad7f8beea211f-knockout_punches.js\\\"}],\\\"type\\\":\\\"async_block\\\"})).then((imports) => handler.apply(this, imports));\\n}\\n\")])], Dict{Symbol, Any}(:className => \"field interact-widget\")), WebIO.Node{WebIO.DOM}(WebIO.DOM(:html, :div), Any[WebIO.Scope(WebIO.Node{WebIO.DOM}(WebIO.DOM(:html, :div), Any[], Dict{Symbol, Any}(:id => \"container\")), Dict{String, Tuple{Observables.AbstractObservable, Union{Nothing, Bool}}}(\"value\" => (Observable(\"\\\\;\\\\;\"), nothing)), Set{String}(), nothing, WebIO.Asset[WebIO.Asset(\"js\", nothing, \"/home/dushya/.julia/packages/InteractBase/LJXv3/src/../assets/katex.min.js\"), WebIO.Asset(\"css\", nothing, \"/home/dushya/.julia/packages/InteractBase/LJXv3/src/../assets/katex.min.css\")], Dict{Any, Any}(\"value\" => Any[WebIO.JSString(\"(function (txt){return this.k.render(txt,this.container)})\")]), WebIO.ConnectionPool(Channel{Any}(32), Set{WebIO.AbstractConnection}(), Base.GenericCondition{ReentrantLock}(Base.IntrusiveLinkedList{Task}(Task (runnable) @0x00007f350872c330, Task (runnable) @0x00007f350872c330), ReentrantLock(nothing, 0x00000000, 0x00, Base.GenericCondition{Base.Threads.SpinLock}(Base.IntrusiveLinkedList{Task}(nothing, nothing), Base.Threads.SpinLock(0)), (8, 0, 139779710648320)))), WebIO.JSString[WebIO.JSString(\"function () {\\n    var handler = ((function (k){this.k=k; this.container=this.dom.querySelector(\\\"#container\\\"); return k.render(\\\"\\\\\\\\;\\\\\\\\;\\\",this.container)}));\\n    (WebIO.importBlock({\\\"data\\\":[{\\\"name\\\":null,\\\"type\\\":\\\"js\\\",\\\"url\\\":\\\"/assetserver/dd22ed1bf1896c2748f3fe616ce0b838adc895c1-katex.min.js\\\"},{\\\"name\\\":null,\\\"type\\\":\\\"css\\\",\\\"url\\\":\\\"/assetserver/46517a424aa5e6cffc1360d7e0848b601c584ee3-katex.min.css\\\"}],\\\"type\\\":\\\"async_block\\\"})).then((imports) => handler.apply(this, imports));\\n}\\n\")])], Dict{Symbol, Any}(:className => \"interact-widget\")), WebIO.Node{WebIO.DOM}(WebIO.DOM(:html, :div), Any[WebIO.Scope(WebIO.Node{WebIO.DOM}(WebIO.DOM(:html, :button), Any[\"stop\"], Dict{Symbol, Any}(:attributes => Dict{Any, Any}(\"data-bind\" => \"click: function (){this.clicks(this.clicks()+1)}, css: {'is-loading' : loading}\"), :className => \"is-medium button is-primary\", :style => Dict{String, Any}())), Dict{String, Tuple{Observables.AbstractObservable, Union{Nothing, Bool}}}(\"loading\" => (Observable(false), nothing), \"clicks\" => (Observable(0), nothing)), Set{String}(), nothing, WebIO.Asset[WebIO.Asset(\"js\", \"knockout\", \"/home/dushya/.julia/packages/Knockout/HReiN/src/../assets/knockout.js\"), WebIO.Asset(\"js\", \"knockout_punches\", \"/home/dushya/.julia/packages/Knockout/HReiN/src/../assets/knockout_punches.js\"), WebIO.Asset(\"js\", nothing, \"/home/dushya/.julia/packages/InteractBase/LJXv3/src/../assets/all.js\"), WebIO.Asset(\"css\", nothing, \"/home/dushya/.julia/packages/InteractBase/LJXv3/src/../assets/style.css\"), WebIO.Asset(\"css\", nothing, \"/home/dushya/.julia/packages/Interact/PENUy/src/../assets/bulma_confined.min.css\")], Dict{Any, Any}(\"loading\" => Any[WebIO.JSString(\"(function (val){return (val!=this.model[\\\"loading\\\"]()) ? (this.valueFromJulia[\\\"loading\\\"]=true, this.model[\\\"loading\\\"](val)) : undefined})\")], \"clicks\" => Any[WebIO.JSString(\"(function (val){return (val!=this.model[\\\"clicks\\\"]()) ? (this.valueFromJulia[\\\"clicks\\\"]=true, this.model[\\\"clicks\\\"](val)) : undefined})\")]), WebIO.ConnectionPool(Channel{Any}(32), Set{WebIO.AbstractConnection}(), Base.GenericCondition{ReentrantLock}(Base.IntrusiveLinkedList{Task}(Task (runnable) @0x00007f34ddaf9aa0, Task (runnable) @0x00007f34ddaf9aa0), ReentrantLock(nothing, 0x00000000, 0x00, Base.GenericCondition{Base.Threads.SpinLock}(Base.IntrusiveLinkedList{Task}(nothing, nothing), Base.Threads.SpinLock(0)), (8, 0, 0)))), WebIO.JSString[WebIO.JSString(\"function () {\\n    var handler = (function (ko, koPunches) {\\n    ko.punches.enableAll();\\n    ko.bindingHandlers.numericValue = {\\n        init: function(element, valueAccessor, allBindings, data, context) {\\n            var stringified = ko.observable(ko.unwrap(valueAccessor()));\\n            stringified.subscribe(function(value) {\\n                var val = parseFloat(value);\\n                if (!isNaN(val)) {\\n                    valueAccessor()(val);\\n                }\\n            });\\n            valueAccessor().subscribe(function(value) {\\n                var str = JSON.stringify(value);\\n                if ((str == \\\"0\\\") && ([\\\"-0\\\", \\\"-0.\\\"].indexOf(stringified()) >= 0))\\n                     return;\\n                 if ([\\\"null\\\", \\\"\\\"].indexOf(str) >= 0)\\n                     return;\\n                stringified(str);\\n            });\\n            ko.applyBindingsToNode(\\n                element,\\n                {\\n                    value: stringified,\\n                    valueUpdate: allBindings.get('valueUpdate'),\\n                },\\n                context,\\n            );\\n        }\\n    };\\n    var json_data = {\\\"loading\\\":WebIO.getval({\\\"name\\\":\\\"loading\\\",\\\"scope\\\":\\\"7587465877235484114\\\",\\\"id\\\":\\\"3143012758205120931\\\",\\\"type\\\":\\\"observable\\\"}),\\\"clicks\\\":WebIO.getval({\\\"name\\\":\\\"clicks\\\",\\\"scope\\\":\\\"7587465877235484114\\\",\\\"id\\\":\\\"16472202346623389757\\\",\\\"type\\\":\\\"observable\\\"})};\\n    var self = this;\\n    function AppViewModel() {\\n        for (var key in json_data) {\\n            var el = json_data[key];\\n            this[key] = Array.isArray(el) ? ko.observableArray(el) : ko.observable(el);\\n        }\\n        \\n        \\n        [this[\\\"loading\\\"].subscribe((function (val){!(this.valueFromJulia[\\\"loading\\\"]) ? (WebIO.setval({\\\"name\\\":\\\"loading\\\",\\\"scope\\\":\\\"7587465877235484114\\\",\\\"id\\\":\\\"3143012758205120931\\\",\\\"type\\\":\\\"observable\\\"},val)) : undefined; return this.valueFromJulia[\\\"loading\\\"]=false}),self),this[\\\"clicks\\\"].subscribe((function (val){!(this.valueFromJulia[\\\"clicks\\\"]) ? (WebIO.setval({\\\"name\\\":\\\"clicks\\\",\\\"scope\\\":\\\"7587465877235484114\\\",\\\"id\\\":\\\"16472202346623389757\\\",\\\"type\\\":\\\"observable\\\"},val)) : undefined; return this.valueFromJulia[\\\"clicks\\\"]=false}),self)]\\n        \\n    }\\n    self.model = new AppViewModel();\\n    self.valueFromJulia = {};\\n    for (var key in json_data) {\\n        self.valueFromJulia[key] = false;\\n    }\\n    ko.applyBindings(self.model, self.dom);\\n}\\n);\\n    (WebIO.importBlock({\\\"data\\\":[{\\\"name\\\":\\\"knockout\\\",\\\"type\\\":\\\"js\\\",\\\"url\\\":\\\"/assetserver/727383f2a47bd31570b7da84eee7b022dd6d7c78-knockout.js\\\"},{\\\"name\\\":\\\"knockout_punches\\\",\\\"type\\\":\\\"js\\\",\\\"url\\\":\\\"/assetserver/382b41b3b1bd9f26f75861d360bad7f8beea211f-knockout_punches.js\\\"}],\\\"type\\\":\\\"async_block\\\"})).then((imports) => handler.apply(this, imports));\\n}\\n\")])], Dict{Symbol, Any}(:className => \"field interact-widget\")), WebIO.Node{WebIO.DOM}(WebIO.DOM(:html, :div), Any[WebIO.Scope(WebIO.Node{WebIO.DOM}(WebIO.DOM(:html, :div), Any[], Dict{Symbol, Any}(:id => \"container\")), Dict{String, Tuple{Observables.AbstractObservable, Union{Nothing, Bool}}}(\"value\" => (Observable(\"\\\\;\\\\;\"), nothing)), Set{String}(), nothing, WebIO.Asset[WebIO.Asset(\"js\", nothing, \"/home/dushya/.julia/packages/InteractBase/LJXv3/src/../assets/katex.min.js\"), WebIO.Asset(\"css\", nothing, \"/home/dushya/.julia/packages/InteractBase/LJXv3/src/../assets/katex.min.css\")], Dict{Any, Any}(\"value\" => Any[WebIO.JSString(\"(function (txt){return this.k.render(txt,this.container)})\")]), WebIO.ConnectionPool(Channel{Any}(32), Set{WebIO.AbstractConnection}(), Base.GenericCondition{ReentrantLock}(Base.IntrusiveLinkedList{Task}(Task (runnable) @0x00007f350872c330, Task (runnable) @0x00007f350872c330), ReentrantLock(nothing, 0x00000000, 0x00, Base.GenericCondition{Base.Threads.SpinLock}(Base.IntrusiveLinkedList{Task}(nothing, nothing), Base.Threads.SpinLock(0)), (8, 0, 139779710648320)))), WebIO.JSString[WebIO.JSString(\"function () {\\n    var handler = ((function (k){this.k=k; this.container=this.dom.querySelector(\\\"#container\\\"); return k.render(\\\"\\\\\\\\;\\\\\\\\;\\\",this.container)}));\\n    (WebIO.importBlock({\\\"data\\\":[{\\\"name\\\":null,\\\"type\\\":\\\"js\\\",\\\"url\\\":\\\"/assetserver/dd22ed1bf1896c2748f3fe616ce0b838adc895c1-katex.min.js\\\"},{\\\"name\\\":null,\\\"type\\\":\\\"css\\\",\\\"url\\\":\\\"/assetserver/46517a424aa5e6cffc1360d7e0848b601c584ee3-katex.min.css\\\"}],\\\"type\\\":\\\"async_block\\\"})).then((imports) => handler.apply(this, imports));\\n}\\n\")])], Dict{Symbol, Any}(:className => \"interact-widget\")), WebIO.Node{WebIO.DOM}(WebIO.DOM(:html, :div), Any[WebIO.Scope(WebIO.Node{WebIO.DOM}(WebIO.DOM(:html, :button), Any[\"reset\"], Dict{Symbol, Any}(:attributes => Dict{Any, Any}(\"data-bind\" => \"click: function (){this.clicks(this.clicks()+1)}, css: {'is-loading' : loading}\"), :className => \"is-medium button is-primary\", :style => Dict{String, Any}())), Dict{String, Tuple{Observables.AbstractObservable, Union{Nothing, Bool}}}(\"loading\" => (Observable(false), nothing), \"clicks\" => (Observable(0), nothing)), Set{String}(), nothing, WebIO.Asset[WebIO.Asset(\"js\", \"knockout\", \"/home/dushya/.julia/packages/Knockout/HReiN/src/../assets/knockout.js\"), WebIO.Asset(\"js\", \"knockout_punches\", \"/home/dushya/.julia/packages/Knockout/HReiN/src/../assets/knockout_punches.js\"), WebIO.Asset(\"js\", nothing, \"/home/dushya/.julia/packages/InteractBase/LJXv3/src/../assets/all.js\"), WebIO.Asset(\"css\", nothing, \"/home/dushya/.julia/packages/InteractBase/LJXv3/src/../assets/style.css\"), WebIO.Asset(\"css\", nothing, \"/home/dushya/.julia/packages/Interact/PENUy/src/../assets/bulma_confined.min.css\")], Dict{Any, Any}(\"loading\" => Any[WebIO.JSString(\"(function (val){return (val!=this.model[\\\"loading\\\"]()) ? (this.valueFromJulia[\\\"loading\\\"]=true, this.model[\\\"loading\\\"](val)) : undefined})\")], \"clicks\" => Any[WebIO.JSString(\"(function (val){return (val!=this.model[\\\"clicks\\\"]()) ? (this.valueFromJulia[\\\"clicks\\\"]=true, this.model[\\\"clicks\\\"](val)) : undefined})\")]), WebIO.ConnectionPool(Channel{Any}(32), Set{WebIO.AbstractConnection}(), Base.GenericCondition{ReentrantLock}(Base.IntrusiveLinkedList{Task}(Task (runnable) @0x00007f34dda68330, Task (runnable) @0x00007f34dda68330), ReentrantLock(nothing, 0x00000000, 0x00, Base.GenericCondition{Base.Threads.SpinLock}(Base.IntrusiveLinkedList{Task}(nothing, nothing), Base.Threads.SpinLock(0)), (0, 0, 4)))), WebIO.JSString[WebIO.JSString(\"function () {\\n    var handler = (function (ko, koPunches) {\\n    ko.punches.enableAll();\\n    ko.bindingHandlers.numericValue = {\\n        init: function(element, valueAccessor, allBindings, data, context) {\\n            var stringified = ko.observable(ko.unwrap(valueAccessor()));\\n            stringified.subscribe(function(value) {\\n                var val = parseFloat(value);\\n                if (!isNaN(val)) {\\n                    valueAccessor()(val);\\n                }\\n            });\\n            valueAccessor().subscribe(function(value) {\\n                var str = JSON.stringify(value);\\n                if ((str == \\\"0\\\") && ([\\\"-0\\\", \\\"-0.\\\"].indexOf(stringified()) >= 0))\\n                     return;\\n                 if ([\\\"null\\\", \\\"\\\"].indexOf(str) >= 0)\\n                     return;\\n                stringified(str);\\n            });\\n            ko.applyBindingsToNode(\\n                element,\\n                {\\n                    value: stringified,\\n                    valueUpdate: allBindings.get('valueUpdate'),\\n                },\\n                context,\\n            );\\n        }\\n    };\\n    var json_data = {\\\"loading\\\":WebIO.getval({\\\"name\\\":\\\"loading\\\",\\\"scope\\\":\\\"15075278904989604210\\\",\\\"id\\\":\\\"14954400168917122855\\\",\\\"type\\\":\\\"observable\\\"}),\\\"clicks\\\":WebIO.getval({\\\"name\\\":\\\"clicks\\\",\\\"scope\\\":\\\"15075278904989604210\\\",\\\"id\\\":\\\"5392575957168158476\\\",\\\"type\\\":\\\"observable\\\"})};\\n    var self = this;\\n    function AppViewModel() {\\n        for (var key in json_data) {\\n            var el = json_data[key];\\n            this[key] = Array.isArray(el) ? ko.observableArray(el) : ko.observable(el);\\n        }\\n        \\n        \\n        [this[\\\"loading\\\"].subscribe((function (val){!(this.valueFromJulia[\\\"loading\\\"]) ? (WebIO.setval({\\\"name\\\":\\\"loading\\\",\\\"scope\\\":\\\"15075278904989604210\\\",\\\"id\\\":\\\"14954400168917122855\\\",\\\"type\\\":\\\"observable\\\"},val)) : undefined; return this.valueFromJulia[\\\"loading\\\"]=false}),self),this[\\\"clicks\\\"].subscribe((function (val){!(this.valueFromJulia[\\\"clicks\\\"]) ? (WebIO.setval({\\\"name\\\":\\\"clicks\\\",\\\"scope\\\":\\\"15075278904989604210\\\",\\\"id\\\":\\\"5392575957168158476\\\",\\\"type\\\":\\\"observable\\\"},val)) : undefined; return this.valueFromJulia[\\\"clicks\\\"]=false}),self)]\\n        \\n    }\\n    self.model = new AppViewModel();\\n    self.valueFromJulia = {};\\n    for (var key in json_data) {\\n        self.valueFromJulia[key] = false;\\n    }\\n    ko.applyBindings(self.model, self.dom);\\n}\\n);\\n    (WebIO.importBlock({\\\"data\\\":[{\\\"name\\\":\\\"knockout\\\",\\\"type\\\":\\\"js\\\",\\\"url\\\":\\\"/assetserver/727383f2a47bd31570b7da84eee7b022dd6d7c78-knockout.js\\\"},{\\\"name\\\":\\\"knockout_punches\\\",\\\"type\\\":\\\"js\\\",\\\"url\\\":\\\"/assetserver/382b41b3b1bd9f26f75861d360bad7f8beea211f-knockout_punches.js\\\"}],\\\"type\\\":\\\"async_block\\\"})).then((imports) => handler.apply(this, imports));\\n}\\n\")])], Dict{Symbol, Any}(:className => \"field interact-widget\")), WebIO.Node{WebIO.DOM}(WebIO.DOM(:html, :div), Any[WebIO.Scope(WebIO.Node{WebIO.DOM}(WebIO.DOM(:html, :div), Any[], Dict{Symbol, Any}(:id => \"container\")), Dict{String, Tuple{Observables.AbstractObservable, Union{Nothing, Bool}}}(\"value\" => (Observable(\"\\\\;\\\\;\"), nothing)), Set{String}(), nothing, WebIO.Asset[WebIO.Asset(\"js\", nothing, \"/home/dushya/.julia/packages/InteractBase/LJXv3/src/../assets/katex.min.js\"), WebIO.Asset(\"css\", nothing, \"/home/dushya/.julia/packages/InteractBase/LJXv3/src/../assets/katex.min.css\")], Dict{Any, Any}(\"value\" => Any[WebIO.JSString(\"(function (txt){return this.k.render(txt,this.container)})\")]), WebIO.ConnectionPool(Channel{Any}(32), Set{WebIO.AbstractConnection}(), Base.GenericCondition{ReentrantLock}(Base.IntrusiveLinkedList{Task}(Task (runnable) @0x00007f350872c330, Task (runnable) @0x00007f350872c330), ReentrantLock(nothing, 0x00000000, 0x00, Base.GenericCondition{Base.Threads.SpinLock}(Base.IntrusiveLinkedList{Task}(nothing, nothing), Base.Threads.SpinLock(0)), (8, 0, 139779710648320)))), WebIO.JSString[WebIO.JSString(\"function () {\\n    var handler = ((function (k){this.k=k; this.container=this.dom.querySelector(\\\"#container\\\"); return k.render(\\\"\\\\\\\\;\\\\\\\\;\\\",this.container)}));\\n    (WebIO.importBlock({\\\"data\\\":[{\\\"name\\\":null,\\\"type\\\":\\\"js\\\",\\\"url\\\":\\\"/assetserver/dd22ed1bf1896c2748f3fe616ce0b838adc895c1-katex.min.js\\\"},{\\\"name\\\":null,\\\"type\\\":\\\"css\\\",\\\"url\\\":\\\"/assetserver/46517a424aa5e6cffc1360d7e0848b601c584ee3-katex.min.css\\\"}],\\\"type\\\":\\\"async_block\\\"})).then((imports) => handler.apply(this, imports));\\n}\\n\")])], Dict{Symbol, Any}(:className => \"interact-widget\")), WebIO.Node{WebIO.DOM}(WebIO.DOM(:html, :div), Any[WebIO.Scope(WebIO.Node{WebIO.DOM}(WebIO.DOM(:html, :button), Any[\"save\"], Dict{Symbol, Any}(:attributes => Dict{Any, Any}(\"data-bind\" => \"click: function (){this.clicks(this.clicks()+1)}, css: {'is-loading' : loading}\"), :className => \"is-medium button is-primary\", :style => Dict{String, Any}())), Dict{String, Tuple{Observables.AbstractObservable, Union{Nothing, Bool}}}(\"loading\" => (Observable(false), nothing), \"clicks\" => (Observable(0), nothing)), Set{String}(), nothing, WebIO.Asset[WebIO.Asset(\"js\", \"knockout\", \"/home/dushya/.julia/packages/Knockout/HReiN/src/../assets/knockout.js\"), WebIO.Asset(\"js\", \"knockout_punches\", \"/home/dushya/.julia/packages/Knockout/HReiN/src/../assets/knockout_punches.js\"), WebIO.Asset(\"js\", nothing, \"/home/dushya/.julia/packages/InteractBase/LJXv3/src/../assets/all.js\"), WebIO.Asset(\"css\", nothing, \"/home/dushya/.julia/packages/InteractBase/LJXv3/src/../assets/style.css\"), WebIO.Asset(\"css\", nothing, \"/home/dushya/.julia/packages/Interact/PENUy/src/../assets/bulma_confined.min.css\")], Dict{Any, Any}(\"loading\" => Any[WebIO.JSString(\"(function (val){return (val!=this.model[\\\"loading\\\"]()) ? (this.valueFromJulia[\\\"loading\\\"]=true, this.model[\\\"loading\\\"](val)) : undefined})\")], \"clicks\" => Any[WebIO.JSString(\"(function (val){return (val!=this.model[\\\"clicks\\\"]()) ? (this.valueFromJulia[\\\"clicks\\\"]=true, this.model[\\\"clicks\\\"](val)) : undefined})\")]), WebIO.ConnectionPool(Channel{Any}(32), Set{WebIO.AbstractConnection}(), Base.GenericCondition{ReentrantLock}(Base.IntrusiveLinkedList{Task}(Task (runnable) @0x00007f34dda6aa40, Task (runnable) @0x00007f34dda6aa40), ReentrantLock(nothing, 0x00000000, 0x00, Base.GenericCondition{Base.Threads.SpinLock}(Base.IntrusiveLinkedList{Task}(nothing, nothing), Base.Threads.SpinLock(0)), (8, 0, 0)))), WebIO.JSString[WebIO.JSString(\"function () {\\n    var handler = (function (ko, koPunches) {\\n    ko.punches.enableAll();\\n    ko.bindingHandlers.numericValue = {\\n        init: function(element, valueAccessor, allBindings, data, context) {\\n            var stringified = ko.observable(ko.unwrap(valueAccessor()));\\n            stringified.subscribe(function(value) {\\n                var val = parseFloat(value);\\n                if (!isNaN(val)) {\\n                    valueAccessor()(val);\\n                }\\n            });\\n            valueAccessor().subscribe(function(value) {\\n                var str = JSON.stringify(value);\\n                if ((str == \\\"0\\\") && ([\\\"-0\\\", \\\"-0.\\\"].indexOf(stringified()) >= 0))\\n                     return;\\n                 if ([\\\"null\\\", \\\"\\\"].indexOf(str) >= 0)\\n                     return;\\n                stringified(str);\\n            });\\n            ko.applyBindingsToNode(\\n                element,\\n                {\\n                    value: stringified,\\n                    valueUpdate: allBindings.get('valueUpdate'),\\n                },\\n                context,\\n            );\\n        }\\n    };\\n    var json_data = {\\\"loading\\\":WebIO.getval({\\\"name\\\":\\\"loading\\\",\\\"scope\\\":\\\"2052687366654872769\\\",\\\"id\\\":\\\"15679722761467580147\\\",\\\"type\\\":\\\"observable\\\"}),\\\"clicks\\\":WebIO.getval({\\\"name\\\":\\\"clicks\\\",\\\"scope\\\":\\\"2052687366654872769\\\",\\\"id\\\":\\\"12340678364850130602\\\",\\\"type\\\":\\\"observable\\\"})};\\n    var self = this;\\n    function AppViewModel() {\\n        for (var key in json_data) {\\n            var el = json_data[key];\\n            this[key] = Array.isArray(el) ? ko.observableArray(el) : ko.observable(el);\\n        }\\n        \\n        \\n        [this[\\\"loading\\\"].subscribe((function (val){!(this.valueFromJulia[\\\"loading\\\"]) ? (WebIO.setval({\\\"name\\\":\\\"loading\\\",\\\"scope\\\":\\\"2052687366654872769\\\",\\\"id\\\":\\\"15679722761467580147\\\",\\\"type\\\":\\\"observable\\\"},val)) : undefined; return this.valueFromJulia[\\\"loading\\\"]=false}),self),this[\\\"clicks\\\"].subscribe((function (val){!(this.valueFromJulia[\\\"clicks\\\"]) ? (WebIO.setval({\\\"name\\\":\\\"clicks\\\",\\\"scope\\\":\\\"2052687366654872769\\\",\\\"id\\\":\\\"12340678364850130602\\\",\\\"type\\\":\\\"observable\\\"},val)) : undefined; return this.valueFromJulia[\\\"clicks\\\"]=false}),self)]\\n        \\n    }\\n    self.model = new AppViewModel();\\n    self.valueFromJulia = {};\\n    for (var key in json_data) {\\n        self.valueFromJulia[key] = false;\\n    }\\n    ko.applyBindings(self.model, self.dom);\\n}\\n);\\n    (WebIO.importBlock({\\\"data\\\":[{\\\"name\\\":\\\"knockout\\\",\\\"type\\\":\\\"js\\\",\\\"url\\\":\\\"/assetserver/727383f2a47bd31570b7da84eee7b022dd6d7c78-knockout.js\\\"},{\\\"name\\\":\\\"knockout_punches\\\",\\\"type\\\":\\\"js\\\",\\\"url\\\":\\\"/assetserver/382b41b3b1bd9f26f75861d360bad7f8beea211f-knockout_punches.js\\\"}],\\\"type\\\":\\\"async_block\\\"})).then((imports) => handler.apply(this, imports));\\n}\\n\")])], Dict{Symbol, Any}(:className => \"field interact-widget\"))], Dict{Symbol, Any}(:style => Dict(\"display\" => \"flex\", \"flex-direction\" => \"row\")))], Dict{Symbol, Any}(:style => Dict(\"display\" => \"flex\", \"flex-direction\" => \"column\"))), WebIO.Node{WebIO.DOM}(WebIO.DOM(:html, :div), Any[WebIO.Scope(WebIO.Node{WebIO.DOM}(WebIO.DOM(:html, :div), Any[], Dict{Symbol, Any}(:id => \"container\")), Dict{String, Tuple{Observables.AbstractObservable, Union{Nothing, Bool}}}(\"value\" => (Observable(\"\\\\;\\\\;\"), nothing)), Set{String}(), nothing, WebIO.Asset[WebIO.Asset(\"js\", nothing, \"/home/dushya/.julia/packages/InteractBase/LJXv3/src/../assets/katex.min.js\"), WebIO.Asset(\"css\", nothing, \"/home/dushya/.julia/packages/InteractBase/LJXv3/src/../assets/katex.min.css\")], Dict{Any, Any}(\"value\" => Any[WebIO.JSString(\"(function (txt){return this.k.render(txt,this.container)})\")]), WebIO.ConnectionPool(Channel{Any}(32), Set{WebIO.AbstractConnection}(), Base.GenericCondition{ReentrantLock}(Base.IntrusiveLinkedList{Task}(Task (runnable) @0x00007f350872c330, Task (runnable) @0x00007f350872c330), ReentrantLock(nothing, 0x00000000, 0x00, Base.GenericCondition{Base.Threads.SpinLock}(Base.IntrusiveLinkedList{Task}(nothing, nothing), Base.Threads.SpinLock(0)), (8, 0, 139779710648320)))), WebIO.JSString[WebIO.JSString(\"function () {\\n    var handler = ((function (k){this.k=k; this.container=this.dom.querySelector(\\\"#container\\\"); return k.render(\\\"\\\\\\\\;\\\\\\\\;\\\",this.container)}));\\n    (WebIO.importBlock({\\\"data\\\":[{\\\"name\\\":null,\\\"type\\\":\\\"js\\\",\\\"url\\\":\\\"/assetserver/dd22ed1bf1896c2748f3fe616ce0b838adc895c1-katex.min.js\\\"},{\\\"name\\\":null,\\\"type\\\":\\\"css\\\",\\\"url\\\":\\\"/assetserver/46517a424aa5e6cffc1360d7e0848b601c584ee3-katex.min.css\\\"}],\\\"type\\\":\\\"async_block\\\"})).then((imports) => handler.apply(this, imports));\\n}\\n\")])], Dict{Symbol, Any}(:className => \"interact-widget\")), Observable(Luxor.Drawing(430.0, 430.0, \"\", Cairo.CairoSurfaceBase{UInt32}(Ptr{Nothing} @0x0000000000000000, 430.0, 430.0), Cairo.CairoContext(Ptr{Nothing} @0x0000000006ca7540, Cairo.CairoSurfaceBase{UInt32}(Ptr{Nothing} @0x0000000000000000, 430.0, 430.0), Ptr{Nothing} @0x000000000605f8e0), :png, 0.0, 0.0, 0.0, 1.0, IOBuffer(data=UInt8[...], readable=true, writable=true, seekable=true, append=false, size=1520, maxsize=Inf, ptr=1521, mark=-1), UInt8[0x89, 0x50, 0x4e, 0x47, 0x0d, 0x0a, 0x1a, 0x0a, 0x00, 0x00  …  0x00, 0x00, 0x49, 0x45, 0x4e, 0x44, 0xae, 0x42, 0x60, 0x82], false)), WebIO.Node{WebIO.DOM}(WebIO.DOM(:html, :div), Any[WebIO.Scope(WebIO.Node{WebIO.DOM}(WebIO.DOM(:html, :div), Any[], Dict{Symbol, Any}(:id => \"container\")), Dict{String, Tuple{Observables.AbstractObservable, Union{Nothing, Bool}}}(\"value\" => (Observable(\"\\\\;\\\\;\"), nothing)), Set{String}(), nothing, WebIO.Asset[WebIO.Asset(\"js\", nothing, \"/home/dushya/.julia/packages/InteractBase/LJXv3/src/../assets/katex.min.js\"), WebIO.Asset(\"css\", nothing, \"/home/dushya/.julia/packages/InteractBase/LJXv3/src/../assets/katex.min.css\")], Dict{Any, Any}(\"value\" => Any[WebIO.JSString(\"(function (txt){return this.k.render(txt,this.container)})\")]), WebIO.ConnectionPool(Channel{Any}(32), Set{WebIO.AbstractConnection}(), Base.GenericCondition{ReentrantLock}(Base.IntrusiveLinkedList{Task}(Task (runnable) @0x00007f350872c330, Task (runnable) @0x00007f350872c330), ReentrantLock(nothing, 0x00000000, 0x00, Base.GenericCondition{Base.Threads.SpinLock}(Base.IntrusiveLinkedList{Task}(nothing, nothing), Base.Threads.SpinLock(0)), (8, 0, 139779710648320)))), WebIO.JSString[WebIO.JSString(\"function () {\\n    var handler = ((function (k){this.k=k; this.container=this.dom.querySelector(\\\"#container\\\"); return k.render(\\\"\\\\\\\\;\\\\\\\\;\\\",this.container)}));\\n    (WebIO.importBlock({\\\"data\\\":[{\\\"name\\\":null,\\\"type\\\":\\\"js\\\",\\\"url\\\":\\\"/assetserver/dd22ed1bf1896c2748f3fe616ce0b838adc895c1-katex.min.js\\\"},{\\\"name\\\":null,\\\"type\\\":\\\"css\\\",\\\"url\\\":\\\"/assetserver/46517a424aa5e6cffc1360d7e0848b601c584ee3-katex.min.css\\\"}],\\\"type\\\":\\\"async_block\\\"})).then((imports) => handler.apply(this, imports));\\n}\\n\")])], Dict{Symbol, Any}(:className => \"interact-widget\")), WebIO.Node{WebIO.DOM}(WebIO.DOM(:html, :div), Any[], Dict{Symbol, Any}(:style => Dict(\"display\" => \"flex\", \"flex-direction\" => \"column\")))], Dict{Symbol, Any}(:style => Dict(\"display\" => \"flex\", \"flex-direction\" => \"row\")))], Dict{Symbol, Any}(:style => Dict(\"display\" => \"flex\", \"flex-direction\" => \"column\")))"
      ]
     },
     "execution_count": 12,
     "metadata": {
      "application/vnd.webio.node+json": {
       "kernelId": "a095ab2e-6231-4385-a2c1-7658f186d82b"
      }
     },
     "output_type": "execute_result"
    }
   ],
   "source": [
    "create_interactive_app(model, initialiser= initialiser!,\n",
    "    step_rule= step_rule!,\n",
    "    model_controls=[(:gravity, \"slider\", 1:0.2:5.0)], \n",
    "    agent_controls=[(:vel, \"slider\", [Vect(x, 0.0) for x in -10.0:0.1:5.0])],\n",
    "    frames=200, tail = (30, agent -> agent.color == cl\"blue\"))  "
   ]
  },
  {
   "cell_type": "markdown",
   "metadata": {},
   "source": [
    "## Step 5: Fetch data\n",
    "\n",
    "In this simple model, the only data we have collected is the position and velocity of the planet. We can get this data as follows. "
   ]
  },
  {
   "cell_type": "code",
   "execution_count": 30,
   "metadata": {
    "scrolled": true
   },
   "outputs": [
    {
     "data": {
      "text/html": [
       "<div><div style = \"float: left;\"><span>501×2 DataFrame</span></div><div style = \"float: right;\"><span style = \"font-style: italic;\">476 rows omitted</span></div><div style = \"clear: both;\"></div></div><div class = \"data-frame\" style = \"overflow-x: scroll;\"><table class = \"data-frame\" style = \"margin-bottom: 6px;\"><thead><tr class = \"header\"><th class = \"rowNumber\" style = \"font-weight: bold; text-align: right;\">Row</th><th style = \"text-align: left;\">pos</th><th style = \"text-align: left;\">vel</th></tr><tr class = \"subheader headerLastRow\"><th class = \"rowNumber\" style = \"font-weight: bold; text-align: right;\"></th><th title = \"Vect{2, Float64}\" style = \"text-align: left;\">Vect…</th><th title = \"Vect{2, Float64}\" style = \"text-align: left;\">Vect…</th></tr></thead><tbody><tr><td class = \"rowNumber\" style = \"font-weight: bold; text-align: right;\">1</td><td style = \"text-align: left;\">(5.0, 8.0)\\n</td><td style = \"text-align: left;\">(-1.0, 0.0)\\n</td></tr><tr><td class = \"rowNumber\" style = \"font-weight: bold; text-align: right;\">2</td><td style = \"text-align: left;\">(4.9, 7.99667)\\n</td><td style = \"text-align: left;\">(-1.0, -0.0333333)\\n</td></tr><tr><td class = \"rowNumber\" style = \"font-weight: bold; text-align: right;\">3</td><td style = \"text-align: left;\">(4.80011, 7.99)\\n</td><td style = \"text-align: left;\">(-0.998887, -0.0666851)\\n</td></tr><tr><td class = \"rowNumber\" style = \"font-weight: bold; text-align: right;\">4</td><td style = \"text-align: left;\">(4.70045, 7.98)\\n</td><td style = \"text-align: left;\">(-0.996659, -0.100018)\\n</td></tr><tr><td class = \"rowNumber\" style = \"font-weight: bold; text-align: right;\">5</td><td style = \"text-align: left;\">(4.60111, 7.96667)\\n</td><td style = \"text-align: left;\">(-0.993314, -0.133295)\\n</td></tr><tr><td class = \"rowNumber\" style = \"font-weight: bold; text-align: right;\">6</td><td style = \"text-align: left;\">(4.50223, 7.95002)\\n</td><td style = \"text-align: left;\">(-0.988852, -0.166478)\\n</td></tr><tr><td class = \"rowNumber\" style = \"font-weight: bold; text-align: right;\">7</td><td style = \"text-align: left;\">(4.4039, 7.93007)\\n</td><td style = \"text-align: left;\">(-0.983275, -0.199528)\\n</td></tr><tr><td class = \"rowNumber\" style = \"font-weight: bold; text-align: right;\">8</td><td style = \"text-align: left;\">(4.30624, 7.90683)\\n</td><td style = \"text-align: left;\">(-0.976586, -0.23241)\\n</td></tr><tr><td class = \"rowNumber\" style = \"font-weight: bold; text-align: right;\">9</td><td style = \"text-align: left;\">(4.20936, 7.88032)\\n</td><td style = \"text-align: left;\">(-0.968788, -0.265083)\\n</td></tr><tr><td class = \"rowNumber\" style = \"font-weight: bold; text-align: right;\">10</td><td style = \"text-align: left;\">(4.11338, 7.85057)\\n</td><td style = \"text-align: left;\">(-0.959886, -0.297511)\\n</td></tr><tr><td class = \"rowNumber\" style = \"font-weight: bold; text-align: right;\">11</td><td style = \"text-align: left;\">(4.01839, 7.8176)\\n</td><td style = \"text-align: left;\">(-0.949888, -0.329655)\\n</td></tr><tr><td class = \"rowNumber\" style = \"font-weight: bold; text-align: right;\">12</td><td style = \"text-align: left;\">(3.92451, 7.78145)\\n</td><td style = \"text-align: left;\">(-0.938802, -0.361478)\\n</td></tr><tr><td class = \"rowNumber\" style = \"font-weight: bold; text-align: right;\">13</td><td style = \"text-align: left;\">(3.83184, 7.74216)\\n</td><td style = \"text-align: left;\">(-0.926636, -0.392941)\\n</td></tr><tr><td style = \"text-align: right;\">&vellip;</td><td style = \"text-align: right;\">&vellip;</td><td style = \"text-align: right;\">&vellip;</td></tr><tr><td class = \"rowNumber\" style = \"font-weight: bold; text-align: right;\">490</td><td style = \"text-align: left;\">(6.80825, 2.56646)\\n</td><td style = \"text-align: left;\">(0.811831, 0.566502)\\n</td></tr><tr><td class = \"rowNumber\" style = \"font-weight: bold; text-align: right;\">491</td><td style = \"text-align: left;\">(6.88749, 2.62573)\\n</td><td style = \"text-align: left;\">(0.792365, 0.592699)\\n</td></tr><tr><td class = \"rowNumber\" style = \"font-weight: bold; text-align: right;\">492</td><td style = \"text-align: left;\">(6.9647, 2.68755)\\n</td><td style = \"text-align: left;\">(0.772073, 0.618225)\\n</td></tr><tr><td class = \"rowNumber\" style = \"font-weight: bold; text-align: right;\">493</td><td style = \"text-align: left;\">(7.03979, 2.75186)\\n</td><td style = \"text-align: left;\">(0.750976, 0.643056)\\n</td></tr><tr><td class = \"rowNumber\" style = \"font-weight: bold; text-align: right;\">494</td><td style = \"text-align: left;\">(7.1127, 2.81858)\\n</td><td style = \"text-align: left;\">(0.7291, 0.667166)\\n</td></tr><tr><td class = \"rowNumber\" style = \"font-weight: bold; text-align: right;\">495</td><td style = \"text-align: left;\">(7.18335, 2.88763)\\n</td><td style = \"text-align: left;\">(0.706468, 0.690534)\\n</td></tr><tr><td class = \"rowNumber\" style = \"font-weight: bold; text-align: right;\">496</td><td style = \"text-align: left;\">(7.25166, 2.95894)\\n</td><td style = \"text-align: left;\">(0.683107, 0.713136)\\n</td></tr><tr><td class = \"rowNumber\" style = \"font-weight: bold; text-align: right;\">497</td><td style = \"text-align: left;\">(7.31756, 3.03244)\\n</td><td style = \"text-align: left;\">(0.659041, 0.734951)\\n</td></tr><tr><td class = \"rowNumber\" style = \"font-weight: bold; text-align: right;\">498</td><td style = \"text-align: left;\">(7.38099, 3.10804)\\n</td><td style = \"text-align: left;\">(0.634296, 0.755959)\\n</td></tr><tr><td class = \"rowNumber\" style = \"font-weight: bold; text-align: right;\">499</td><td style = \"text-align: left;\">(7.44188, 3.18565)\\n</td><td style = \"text-align: left;\">(0.608901, 0.776139)\\n</td></tr><tr><td class = \"rowNumber\" style = \"font-weight: bold; text-align: right;\">500</td><td style = \"text-align: left;\">(7.50017, 3.2652)\\n</td><td style = \"text-align: left;\">(0.582881, 0.795472)\\n</td></tr><tr><td class = \"rowNumber\" style = \"font-weight: bold; text-align: right;\">501</td><td style = \"text-align: left;\">(7.5558, 3.34659)\\n</td><td style = \"text-align: left;\">(0.556264, 0.81394)\\n</td></tr></tbody></table></div>"
      ],
      "text/latex": [
       "\\begin{tabular}{r|cc}\n",
       "\t& pos & vel\\\\\n",
       "\t\\hline\n",
       "\t& Vect… & Vect…\\\\\n",
       "\t\\hline\n",
       "\t1 & (5.0, 8.0)\\textbackslash{}n & (-1.0, 0.0)\\textbackslash{}n \\\\\n",
       "\t2 & (4.9, 7.99667)\\textbackslash{}n & (-1.0, -0.0333333)\\textbackslash{}n \\\\\n",
       "\t3 & (4.80011, 7.99)\\textbackslash{}n & (-0.998887, -0.0666851)\\textbackslash{}n \\\\\n",
       "\t4 & (4.70045, 7.98)\\textbackslash{}n & (-0.996659, -0.100018)\\textbackslash{}n \\\\\n",
       "\t5 & (4.60111, 7.96667)\\textbackslash{}n & (-0.993314, -0.133295)\\textbackslash{}n \\\\\n",
       "\t6 & (4.50223, 7.95002)\\textbackslash{}n & (-0.988852, -0.166478)\\textbackslash{}n \\\\\n",
       "\t7 & (4.4039, 7.93007)\\textbackslash{}n & (-0.983275, -0.199528)\\textbackslash{}n \\\\\n",
       "\t8 & (4.30624, 7.90683)\\textbackslash{}n & (-0.976586, -0.23241)\\textbackslash{}n \\\\\n",
       "\t9 & (4.20936, 7.88032)\\textbackslash{}n & (-0.968788, -0.265083)\\textbackslash{}n \\\\\n",
       "\t10 & (4.11338, 7.85057)\\textbackslash{}n & (-0.959886, -0.297511)\\textbackslash{}n \\\\\n",
       "\t11 & (4.01839, 7.8176)\\textbackslash{}n & (-0.949888, -0.329655)\\textbackslash{}n \\\\\n",
       "\t12 & (3.92451, 7.78145)\\textbackslash{}n & (-0.938802, -0.361478)\\textbackslash{}n \\\\\n",
       "\t13 & (3.83184, 7.74216)\\textbackslash{}n & (-0.926636, -0.392941)\\textbackslash{}n \\\\\n",
       "\t14 & (3.7405, 7.69976)\\textbackslash{}n & (-0.913401, -0.424008)\\textbackslash{}n \\\\\n",
       "\t15 & (3.65059, 7.65429)\\textbackslash{}n & (-0.89911, -0.454641)\\textbackslash{}n \\\\\n",
       "\t16 & (3.56221, 7.60581)\\textbackslash{}n & (-0.883776, -0.484804)\\textbackslash{}n \\\\\n",
       "\t17 & (3.47547, 7.55437)\\textbackslash{}n & (-0.867414, -0.514459)\\textbackslash{}n \\\\\n",
       "\t18 & (3.39047, 7.50001)\\textbackslash{}n & (-0.850039, -0.54357)\\textbackslash{}n \\\\\n",
       "\t19 & (3.3073, 7.4428)\\textbackslash{}n & (-0.83167, -0.572103)\\textbackslash{}n \\\\\n",
       "\t20 & (3.22607, 7.3828)\\textbackslash{}n & (-0.812324, -0.600021)\\textbackslash{}n \\\\\n",
       "\t21 & (3.14687, 7.32007)\\textbackslash{}n & (-0.792023, -0.62729)\\textbackslash{}n \\\\\n",
       "\t22 & (3.06979, 7.25468)\\textbackslash{}n & (-0.770788, -0.653876)\\textbackslash{}n \\\\\n",
       "\t23 & (2.99492, 7.18671)\\textbackslash{}n & (-0.748641, -0.679746)\\textbackslash{}n \\\\\n",
       "\t24 & (2.92236, 7.11622)\\textbackslash{}n & (-0.725607, -0.704867)\\textbackslash{}n \\\\\n",
       "\t25 & (2.85219, 7.0433)\\textbackslash{}n & (-0.70171, -0.729207)\\textbackslash{}n \\\\\n",
       "\t26 & (2.78449, 6.96803)\\textbackslash{}n & (-0.676977, -0.752736)\\textbackslash{}n \\\\\n",
       "\t27 & (2.71935, 6.89048)\\textbackslash{}n & (-0.651436, -0.775424)\\textbackslash{}n \\\\\n",
       "\t28 & (2.65684, 6.81076)\\textbackslash{}n & (-0.625116, -0.797242)\\textbackslash{}n \\\\\n",
       "\t29 & (2.59703, 6.72894)\\textbackslash{}n & (-0.598047, -0.81816)\\textbackslash{}n \\\\\n",
       "\t30 & (2.54001, 6.64513)\\textbackslash{}n & (-0.570259, -0.838154)\\textbackslash{}n \\\\\n",
       "\t$\\dots$ & $\\dots$ & $\\dots$ \\\\\n",
       "\\end{tabular}\n"
      ],
      "text/plain": [
       "\u001b[1m501×2 DataFrame\u001b[0m\n",
       "\u001b[1m Row \u001b[0m│\u001b[1m pos                  \u001b[0m\u001b[1m vel                       \u001b[0m\n",
       "     │\u001b[90m Vect…                \u001b[0m\u001b[90m Vect…                     \u001b[0m\n",
       "─────┼─────────────────────────────────────────────────\n",
       "   1 │ (5.0, 8.0)\\n          (-1.0, 0.0)\\n\n",
       "   2 │ (4.9, 7.99667)\\n      (-1.0, -0.0333333)\\n\n",
       "   3 │ (4.80011, 7.99)\\n     (-0.998887, -0.0666851)\\n\n",
       "   4 │ (4.70045, 7.98)\\n     (-0.996659, -0.100018)\\n\n",
       "   5 │ (4.60111, 7.96667)\\n  (-0.993314, -0.133295)\\n\n",
       "   6 │ (4.50223, 7.95002)\\n  (-0.988852, -0.166478)\\n\n",
       "   7 │ (4.4039, 7.93007)\\n   (-0.983275, -0.199528)\\n\n",
       "   8 │ (4.30624, 7.90683)\\n  (-0.976586, -0.23241)\\n\n",
       "   9 │ (4.20936, 7.88032)\\n  (-0.968788, -0.265083)\\n\n",
       "  10 │ (4.11338, 7.85057)\\n  (-0.959886, -0.297511)\\n\n",
       "  11 │ (4.01839, 7.8176)\\n   (-0.949888, -0.329655)\\n\n",
       "  ⋮  │          ⋮                        ⋮\n",
       " 492 │ (6.9647, 2.68755)\\n   (0.772073, 0.618225)\\n\n",
       " 493 │ (7.03979, 2.75186)\\n  (0.750976, 0.643056)\\n\n",
       " 494 │ (7.1127, 2.81858)\\n   (0.7291, 0.667166)\\n\n",
       " 495 │ (7.18335, 2.88763)\\n  (0.706468, 0.690534)\\n\n",
       " 496 │ (7.25166, 2.95894)\\n  (0.683107, 0.713136)\\n\n",
       " 497 │ (7.31756, 3.03244)\\n  (0.659041, 0.734951)\\n\n",
       " 498 │ (7.38099, 3.10804)\\n  (0.634296, 0.755959)\\n\n",
       " 499 │ (7.44188, 3.18565)\\n  (0.608901, 0.776139)\\n\n",
       " 500 │ (7.50017, 3.2652)\\n   (0.582881, 0.795472)\\n\n",
       " 501 │ (7.5558, 3.34659)\\n   (0.556264, 0.81394)\\n\n",
       "\u001b[36m                                       480 rows omitted\u001b[0m"
      ]
     },
     "execution_count": 30,
     "metadata": {},
     "output_type": "execute_result"
    }
   ],
   "source": [
    "df = get_agent_data(model.agents[2], model).record"
   ]
  },
  {
   "cell_type": "markdown",
   "metadata": {},
   "source": [
    "The following line of code returns the data of (half of the) speed of the planet during time evolution."
   ]
  },
  {
   "cell_type": "code",
   "execution_count": 31,
   "metadata": {
    "scrolled": true
   },
   "outputs": [
    {
     "data": {
      "image/png": "[encoded data removed]",
      "image/svg+xml": [
       "<?xml version=\"1.0\" encoding=\"utf-8\"?>\n",
       "<svg xmlns=\"http://www.w3.org/2000/svg\" xmlns:xlink=\"http://www.w3.org/1999/xlink\" width=\"600\" height=\"400\" viewBox=\"0 0 2400 1600\">\n",
       "<defs>\n",
       "  <clipPath id=\"clip890\">\n",
       "    <rect x=\"0\" y=\"0\" width=\"2400\" height=\"1600\"/>\n",
       "  </clipPath>\n",
       "</defs>\n",
       "<path clip-path=\"url(#clip890)\" d=\"M0 1600 L2400 1600 L2400 0 L0 0  Z\" fill=\"#ffffff\" fill-rule=\"evenodd\" fill-opacity=\"1\"/>\n",
       "<defs>\n",
       "  <clipPath id=\"clip891\">\n",
       "    <rect x=\"480\" y=\"0\" width=\"1681\" height=\"1600\"/>\n",
       "  </clipPath>\n",
       "</defs>\n",
       "<path clip-path=\"url(#clip890)\" d=\"M156.274 1423.18 L2352.76 1423.18 L2352.76 47.2441 L156.274 47.2441  Z\" fill=\"#ffffff\" fill-rule=\"evenodd\" fill-opacity=\"1\"/>\n",
       "<defs>\n",
       "  <clipPath id=\"clip892\">\n",
       "    <rect x=\"156\" y=\"47\" width=\"2197\" height=\"1377\"/>\n",
       "  </clipPath>\n",
       "</defs>\n",
       "<polyline clip-path=\"url(#clip892)\" style=\"stroke:#000000; stroke-linecap:round; stroke-linejoin:round; stroke-width:2; stroke-opacity:0.1; fill:none\" points=\"214.294,1423.18 214.294,47.2441 \"/>\n",
       "<polyline clip-path=\"url(#clip892)\" style=\"stroke:#000000; stroke-linecap:round; stroke-linejoin:round; stroke-width:2; stroke-opacity:0.1; fill:none\" points=\"628.725,1423.18 628.725,47.2441 \"/>\n",
       "<polyline clip-path=\"url(#clip892)\" style=\"stroke:#000000; stroke-linecap:round; stroke-linejoin:round; stroke-width:2; stroke-opacity:0.1; fill:none\" points=\"1043.16,1423.18 1043.16,47.2441 \"/>\n",
       "<polyline clip-path=\"url(#clip892)\" style=\"stroke:#000000; stroke-linecap:round; stroke-linejoin:round; stroke-width:2; stroke-opacity:0.1; fill:none\" points=\"1457.59,1423.18 1457.59,47.2441 \"/>\n",
       "<polyline clip-path=\"url(#clip892)\" style=\"stroke:#000000; stroke-linecap:round; stroke-linejoin:round; stroke-width:2; stroke-opacity:0.1; fill:none\" points=\"1872.02,1423.18 1872.02,47.2441 \"/>\n",
       "<polyline clip-path=\"url(#clip892)\" style=\"stroke:#000000; stroke-linecap:round; stroke-linejoin:round; stroke-width:2; stroke-opacity:0.1; fill:none\" points=\"2286.45,1423.18 2286.45,47.2441 \"/>\n",
       "<polyline clip-path=\"url(#clip890)\" style=\"stroke:#000000; stroke-linecap:round; stroke-linejoin:round; stroke-width:4; stroke-opacity:1; fill:none\" points=\"156.274,1423.18 2352.76,1423.18 \"/>\n",
       "<polyline clip-path=\"url(#clip890)\" style=\"stroke:#000000; stroke-linecap:round; stroke-linejoin:round; stroke-width:4; stroke-opacity:1; fill:none\" points=\"214.294,1423.18 214.294,1404.28 \"/>\n",
       "<polyline clip-path=\"url(#clip890)\" style=\"stroke:#000000; stroke-linecap:round; stroke-linejoin:round; stroke-width:4; stroke-opacity:1; fill:none\" points=\"628.725,1423.18 628.725,1404.28 \"/>\n",
       "<polyline clip-path=\"url(#clip890)\" style=\"stroke:#000000; stroke-linecap:round; stroke-linejoin:round; stroke-width:4; stroke-opacity:1; fill:none\" points=\"1043.16,1423.18 1043.16,1404.28 \"/>\n",
       "<polyline clip-path=\"url(#clip890)\" style=\"stroke:#000000; stroke-linecap:round; stroke-linejoin:round; stroke-width:4; stroke-opacity:1; fill:none\" points=\"1457.59,1423.18 1457.59,1404.28 \"/>\n",
       "<polyline clip-path=\"url(#clip890)\" style=\"stroke:#000000; stroke-linecap:round; stroke-linejoin:round; stroke-width:4; stroke-opacity:1; fill:none\" points=\"1872.02,1423.18 1872.02,1404.28 \"/>\n",
       "<polyline clip-path=\"url(#clip890)\" style=\"stroke:#000000; stroke-linecap:round; stroke-linejoin:round; stroke-width:4; stroke-opacity:1; fill:none\" points=\"2286.45,1423.18 2286.45,1404.28 \"/>\n",
       "<path clip-path=\"url(#clip890)\" d=\"M214.294 1454.1 Q210.683 1454.1 208.855 1457.66 Q207.049 1461.2 207.049 1468.33 Q207.049 1475.44 208.855 1479.01 Q210.683 1482.55 214.294 1482.55 Q217.929 1482.55 219.734 1479.01 Q221.563 1475.44 221.563 1468.33 Q221.563 1461.2 219.734 1457.66 Q217.929 1454.1 214.294 1454.1 M214.294 1450.39 Q220.105 1450.39 223.16 1455 Q226.239 1459.58 226.239 1468.33 Q226.239 1477.06 223.16 1481.67 Q220.105 1486.25 214.294 1486.25 Q208.484 1486.25 205.406 1481.67 Q202.35 1477.06 202.35 1468.33 Q202.35 1459.58 205.406 1455 Q208.484 1450.39 214.294 1450.39 Z\" fill=\"#000000\" fill-rule=\"nonzero\" fill-opacity=\"1\" /><path clip-path=\"url(#clip890)\" d=\"M588.332 1481.64 L595.97 1481.64 L595.97 1455.28 L587.66 1456.95 L587.66 1452.69 L595.924 1451.02 L600.6 1451.02 L600.6 1481.64 L608.239 1481.64 L608.239 1485.58 L588.332 1485.58 L588.332 1481.64 Z\" fill=\"#000000\" fill-rule=\"nonzero\" fill-opacity=\"1\" /><path clip-path=\"url(#clip890)\" d=\"M627.683 1454.1 Q624.072 1454.1 622.244 1457.66 Q620.438 1461.2 620.438 1468.33 Q620.438 1475.44 622.244 1479.01 Q624.072 1482.55 627.683 1482.55 Q631.318 1482.55 633.123 1479.01 Q634.952 1475.44 634.952 1468.33 Q634.952 1461.2 633.123 1457.66 Q631.318 1454.1 627.683 1454.1 M627.683 1450.39 Q633.493 1450.39 636.549 1455 Q639.628 1459.58 639.628 1468.33 Q639.628 1477.06 636.549 1481.67 Q633.493 1486.25 627.683 1486.25 Q621.873 1486.25 618.794 1481.67 Q615.739 1477.06 615.739 1468.33 Q615.739 1459.58 618.794 1455 Q621.873 1450.39 627.683 1450.39 Z\" fill=\"#000000\" fill-rule=\"nonzero\" fill-opacity=\"1\" /><path clip-path=\"url(#clip890)\" d=\"M657.845 1454.1 Q654.234 1454.1 652.405 1457.66 Q650.6 1461.2 650.6 1468.33 Q650.6 1475.44 652.405 1479.01 Q654.234 1482.55 657.845 1482.55 Q661.479 1482.55 663.285 1479.01 Q665.114 1475.44 665.114 1468.33 Q665.114 1461.2 663.285 1457.66 Q661.479 1454.1 657.845 1454.1 M657.845 1450.39 Q663.655 1450.39 666.711 1455 Q669.79 1459.58 669.79 1468.33 Q669.79 1477.06 666.711 1481.67 Q663.655 1486.25 657.845 1486.25 Q652.035 1486.25 648.956 1481.67 Q645.901 1477.06 645.901 1468.33 Q645.901 1459.58 648.956 1455 Q652.035 1450.39 657.845 1450.39 Z\" fill=\"#000000\" fill-rule=\"nonzero\" fill-opacity=\"1\" /><path clip-path=\"url(#clip890)\" d=\"M1006.85 1481.64 L1023.17 1481.64 L1023.17 1485.58 L1001.22 1485.58 L1001.22 1481.64 Q1003.88 1478.89 1008.47 1474.26 Q1013.07 1469.61 1014.26 1468.27 Q1016.5 1465.74 1017.38 1464.01 Q1018.28 1462.25 1018.28 1460.56 Q1018.28 1457.8 1016.34 1456.07 Q1014.42 1454.33 1011.32 1454.33 Q1009.12 1454.33 1006.66 1455.09 Q1004.23 1455.86 1001.45 1457.41 L1001.45 1452.69 Q1004.28 1451.55 1006.73 1450.97 Q1009.19 1450.39 1011.22 1450.39 Q1016.59 1450.39 1019.79 1453.08 Q1022.98 1455.77 1022.98 1460.26 Q1022.98 1462.39 1022.17 1464.31 Q1021.38 1466.2 1019.28 1468.8 Q1018.7 1469.47 1015.6 1472.69 Q1012.5 1475.88 1006.85 1481.64 Z\" fill=\"#000000\" fill-rule=\"nonzero\" fill-opacity=\"1\" /><path clip-path=\"url(#clip890)\" d=\"M1042.98 1454.1 Q1039.37 1454.1 1037.54 1457.66 Q1035.74 1461.2 1035.74 1468.33 Q1035.74 1475.44 1037.54 1479.01 Q1039.37 1482.55 1042.98 1482.55 Q1046.62 1482.55 1048.42 1479.01 Q1050.25 1475.44 1050.25 1468.33 Q1050.25 1461.2 1048.42 1457.66 Q1046.62 1454.1 1042.98 1454.1 M1042.98 1450.39 Q1048.79 1450.39 1051.85 1455 Q1054.93 1459.58 1054.93 1468.33 Q1054.93 1477.06 1051.85 1481.67 Q1048.79 1486.25 1042.98 1486.25 Q1037.17 1486.25 1034.09 1481.67 Q1031.04 1477.06 1031.04 1468.33 Q1031.04 1459.58 1034.09 1455 Q1037.17 1450.39 1042.98 1450.39 Z\" fill=\"#000000\" fill-rule=\"nonzero\" fill-opacity=\"1\" /><path clip-path=\"url(#clip890)\" d=\"M1073.14 1454.1 Q1069.53 1454.1 1067.7 1457.66 Q1065.9 1461.2 1065.9 1468.33 Q1065.9 1475.44 1067.7 1479.01 Q1069.53 1482.55 1073.14 1482.55 Q1076.78 1482.55 1078.58 1479.01 Q1080.41 1475.44 1080.41 1468.33 Q1080.41 1461.2 1078.58 1457.66 Q1076.78 1454.1 1073.14 1454.1 M1073.14 1450.39 Q1078.95 1450.39 1082.01 1455 Q1085.09 1459.58 1085.09 1468.33 Q1085.09 1477.06 1082.01 1481.67 Q1078.95 1486.25 1073.14 1486.25 Q1067.33 1486.25 1064.25 1481.67 Q1061.2 1477.06 1061.2 1468.33 Q1061.2 1459.58 1064.25 1455 Q1067.33 1450.39 1073.14 1450.39 Z\" fill=\"#000000\" fill-rule=\"nonzero\" fill-opacity=\"1\" /><path clip-path=\"url(#clip890)\" d=\"M1431.35 1466.95 Q1434.7 1467.66 1436.58 1469.93 Q1438.48 1472.2 1438.48 1475.53 Q1438.48 1480.65 1434.96 1483.45 Q1431.44 1486.25 1424.96 1486.25 Q1422.78 1486.25 1420.47 1485.81 Q1418.18 1485.39 1415.72 1484.54 L1415.72 1480.02 Q1417.67 1481.16 1419.98 1481.74 Q1422.3 1482.32 1424.82 1482.32 Q1429.22 1482.32 1431.51 1480.58 Q1433.82 1478.84 1433.82 1475.53 Q1433.82 1472.48 1431.67 1470.77 Q1429.54 1469.03 1425.72 1469.03 L1421.69 1469.03 L1421.69 1465.19 L1425.91 1465.19 Q1429.36 1465.19 1431.19 1463.82 Q1433.01 1462.43 1433.01 1459.84 Q1433.01 1457.18 1431.12 1455.77 Q1429.24 1454.33 1425.72 1454.33 Q1423.8 1454.33 1421.6 1454.75 Q1419.4 1455.16 1416.76 1456.04 L1416.76 1451.88 Q1419.43 1451.14 1421.74 1450.77 Q1424.08 1450.39 1426.14 1450.39 Q1431.46 1450.39 1434.57 1452.83 Q1437.67 1455.23 1437.67 1459.35 Q1437.67 1462.22 1436.02 1464.21 Q1434.38 1466.18 1431.35 1466.95 Z\" fill=\"#000000\" fill-rule=\"nonzero\" fill-opacity=\"1\" /><path clip-path=\"url(#clip890)\" d=\"M1457.34 1454.1 Q1453.73 1454.1 1451.9 1457.66 Q1450.1 1461.2 1450.1 1468.33 Q1450.1 1475.44 1451.9 1479.01 Q1453.73 1482.55 1457.34 1482.55 Q1460.98 1482.55 1462.78 1479.01 Q1464.61 1475.44 1464.61 1468.33 Q1464.61 1461.2 1462.78 1457.66 Q1460.98 1454.1 1457.34 1454.1 M1457.34 1450.39 Q1463.15 1450.39 1466.21 1455 Q1469.29 1459.58 1469.29 1468.33 Q1469.29 1477.06 1466.21 1481.67 Q1463.15 1486.25 1457.34 1486.25 Q1451.53 1486.25 1448.45 1481.67 Q1445.4 1477.06 1445.4 1468.33 Q1445.4 1459.58 1448.45 1455 Q1451.53 1450.39 1457.34 1450.39 Z\" fill=\"#000000\" fill-rule=\"nonzero\" fill-opacity=\"1\" /><path clip-path=\"url(#clip890)\" d=\"M1487.5 1454.1 Q1483.89 1454.1 1482.07 1457.66 Q1480.26 1461.2 1480.26 1468.33 Q1480.26 1475.44 1482.07 1479.01 Q1483.89 1482.55 1487.5 1482.55 Q1491.14 1482.55 1492.94 1479.01 Q1494.77 1475.44 1494.77 1468.33 Q1494.77 1461.2 1492.94 1457.66 Q1491.14 1454.1 1487.5 1454.1 M1487.5 1450.39 Q1493.31 1450.39 1496.37 1455 Q1499.45 1459.58 1499.45 1468.33 Q1499.45 1477.06 1496.37 1481.67 Q1493.31 1486.25 1487.5 1486.25 Q1481.69 1486.25 1478.62 1481.67 Q1475.56 1477.06 1475.56 1468.33 Q1475.56 1459.58 1478.62 1455 Q1481.69 1450.39 1487.5 1450.39 Z\" fill=\"#000000\" fill-rule=\"nonzero\" fill-opacity=\"1\" /><path clip-path=\"url(#clip890)\" d=\"M1845.11 1455.09 L1833.3 1473.54 L1845.11 1473.54 L1845.11 1455.09 M1843.88 1451.02 L1849.76 1451.02 L1849.76 1473.54 L1854.69 1473.54 L1854.69 1477.43 L1849.76 1477.43 L1849.76 1485.58 L1845.11 1485.58 L1845.11 1477.43 L1829.51 1477.43 L1829.51 1472.92 L1843.88 1451.02 Z\" fill=\"#000000\" fill-rule=\"nonzero\" fill-opacity=\"1\" /><path clip-path=\"url(#clip890)\" d=\"M1872.42 1454.1 Q1868.81 1454.1 1866.98 1457.66 Q1865.18 1461.2 1865.18 1468.33 Q1865.18 1475.44 1866.98 1479.01 Q1868.81 1482.55 1872.42 1482.55 Q1876.06 1482.55 1877.86 1479.01 Q1879.69 1475.44 1879.69 1468.33 Q1879.69 1461.2 1877.86 1457.66 Q1876.06 1454.1 1872.42 1454.1 M1872.42 1450.39 Q1878.23 1450.39 1881.29 1455 Q1884.37 1459.58 1884.37 1468.33 Q1884.37 1477.06 1881.29 1481.67 Q1878.23 1486.25 1872.42 1486.25 Q1866.61 1486.25 1863.53 1481.67 Q1860.48 1477.06 1860.48 1468.33 Q1860.48 1459.58 1863.53 1455 Q1866.61 1450.39 1872.42 1450.39 Z\" fill=\"#000000\" fill-rule=\"nonzero\" fill-opacity=\"1\" /><path clip-path=\"url(#clip890)\" d=\"M1902.58 1454.1 Q1898.97 1454.1 1897.14 1457.66 Q1895.34 1461.2 1895.34 1468.33 Q1895.34 1475.44 1897.14 1479.01 Q1898.97 1482.55 1902.58 1482.55 Q1906.22 1482.55 1908.02 1479.01 Q1909.85 1475.44 1909.85 1468.33 Q1909.85 1461.2 1908.02 1457.66 Q1906.22 1454.1 1902.58 1454.1 M1902.58 1450.39 Q1908.39 1450.39 1911.45 1455 Q1914.53 1459.58 1914.53 1468.33 Q1914.53 1477.06 1911.45 1481.67 Q1908.39 1486.25 1902.58 1486.25 Q1896.77 1486.25 1893.69 1481.67 Q1890.64 1477.06 1890.64 1468.33 Q1890.64 1459.58 1893.69 1455 Q1896.77 1450.39 1902.58 1450.39 Z\" fill=\"#000000\" fill-rule=\"nonzero\" fill-opacity=\"1\" /><path clip-path=\"url(#clip890)\" d=\"M2246.07 1451.02 L2264.42 1451.02 L2264.42 1454.96 L2250.35 1454.96 L2250.35 1463.43 Q2251.37 1463.08 2252.38 1462.92 Q2253.4 1462.73 2254.42 1462.73 Q2260.21 1462.73 2263.59 1465.9 Q2266.97 1469.08 2266.97 1474.49 Q2266.97 1480.07 2263.5 1483.17 Q2260.02 1486.25 2253.7 1486.25 Q2251.53 1486.25 2249.26 1485.88 Q2247.01 1485.51 2244.61 1484.77 L2244.61 1480.07 Q2246.69 1481.2 2248.91 1481.76 Q2251.13 1482.32 2253.61 1482.32 Q2257.62 1482.32 2259.95 1480.21 Q2262.29 1478.1 2262.29 1474.49 Q2262.29 1470.88 2259.95 1468.77 Q2257.62 1466.67 2253.61 1466.67 Q2251.74 1466.67 2249.86 1467.08 Q2248.01 1467.5 2246.07 1468.38 L2246.07 1451.02 Z\" fill=\"#000000\" fill-rule=\"nonzero\" fill-opacity=\"1\" /><path clip-path=\"url(#clip890)\" d=\"M2286.18 1454.1 Q2282.57 1454.1 2280.74 1457.66 Q2278.94 1461.2 2278.94 1468.33 Q2278.94 1475.44 2280.74 1479.01 Q2282.57 1482.55 2286.18 1482.55 Q2289.82 1482.55 2291.62 1479.01 Q2293.45 1475.44 2293.45 1468.33 Q2293.45 1461.2 2291.62 1457.66 Q2289.82 1454.1 2286.18 1454.1 M2286.18 1450.39 Q2291.99 1450.39 2295.05 1455 Q2298.13 1459.58 2298.13 1468.33 Q2298.13 1477.06 2295.05 1481.67 Q2291.99 1486.25 2286.18 1486.25 Q2280.37 1486.25 2277.29 1481.67 Q2274.24 1477.06 2274.24 1468.33 Q2274.24 1459.58 2277.29 1455 Q2280.37 1450.39 2286.18 1450.39 Z\" fill=\"#000000\" fill-rule=\"nonzero\" fill-opacity=\"1\" /><path clip-path=\"url(#clip890)\" d=\"M2316.34 1454.1 Q2312.73 1454.1 2310.9 1457.66 Q2309.1 1461.2 2309.1 1468.33 Q2309.1 1475.44 2310.9 1479.01 Q2312.73 1482.55 2316.34 1482.55 Q2319.98 1482.55 2321.78 1479.01 Q2323.61 1475.44 2323.61 1468.33 Q2323.61 1461.2 2321.78 1457.66 Q2319.98 1454.1 2316.34 1454.1 M2316.34 1450.39 Q2322.15 1450.39 2325.21 1455 Q2328.29 1459.58 2328.29 1468.33 Q2328.29 1477.06 2325.21 1481.67 Q2322.15 1486.25 2316.34 1486.25 Q2310.53 1486.25 2307.45 1481.67 Q2304.4 1477.06 2304.4 1468.33 Q2304.4 1459.58 2307.45 1455 Q2310.53 1450.39 2316.34 1450.39 Z\" fill=\"#000000\" fill-rule=\"nonzero\" fill-opacity=\"1\" /><path clip-path=\"url(#clip890)\" d=\"M1191.56 1522.27 L1191.56 1532.4 L1203.62 1532.4 L1203.62 1536.95 L1191.56 1536.95 L1191.56 1556.3 Q1191.56 1560.66 1192.74 1561.9 Q1193.95 1563.14 1197.61 1563.14 L1203.62 1563.14 L1203.62 1568.04 L1197.61 1568.04 Q1190.83 1568.04 1188.25 1565.53 Q1185.67 1562.98 1185.67 1556.3 L1185.67 1536.95 L1181.37 1536.95 L1181.37 1532.4 L1185.67 1532.4 L1185.67 1522.27 L1191.56 1522.27 Z\" fill=\"#000000\" fill-rule=\"nonzero\" fill-opacity=\"1\" /><path clip-path=\"url(#clip890)\" d=\"M1211.32 1532.4 L1217.18 1532.4 L1217.18 1568.04 L1211.32 1568.04 L1211.32 1532.4 M1211.32 1518.52 L1217.18 1518.52 L1217.18 1525.93 L1211.32 1525.93 L1211.32 1518.52 Z\" fill=\"#000000\" fill-rule=\"nonzero\" fill-opacity=\"1\" /><path clip-path=\"url(#clip890)\" d=\"M1255.09 1533.76 L1255.09 1539.24 Q1252.61 1537.87 1250.09 1537.2 Q1247.61 1536.5 1245.06 1536.5 Q1239.36 1536.5 1236.21 1540.13 Q1233.06 1543.73 1233.06 1550.25 Q1233.06 1556.78 1236.21 1560.4 Q1239.36 1564 1245.06 1564 Q1247.61 1564 1250.09 1563.33 Q1252.61 1562.63 1255.09 1561.26 L1255.09 1566.68 Q1252.64 1567.82 1250 1568.39 Q1247.39 1568.97 1244.43 1568.97 Q1236.37 1568.97 1231.63 1563.91 Q1226.89 1558.85 1226.89 1550.25 Q1226.89 1541.53 1231.66 1536.53 Q1236.47 1531.54 1244.81 1531.54 Q1247.51 1531.54 1250.09 1532.11 Q1252.67 1532.65 1255.09 1533.76 Z\" fill=\"#000000\" fill-rule=\"nonzero\" fill-opacity=\"1\" /><path clip-path=\"url(#clip890)\" d=\"M1265.05 1518.52 L1270.94 1518.52 L1270.94 1547.77 L1288.41 1532.4 L1295.89 1532.4 L1276.99 1549.07 L1296.69 1568.04 L1289.05 1568.04 L1270.94 1550.63 L1270.94 1568.04 L1265.05 1568.04 L1265.05 1518.52 Z\" fill=\"#000000\" fill-rule=\"nonzero\" fill-opacity=\"1\" /><path clip-path=\"url(#clip890)\" d=\"M1325.75 1533.45 L1325.75 1538.98 Q1323.26 1537.71 1320.59 1537.07 Q1317.92 1536.44 1315.05 1536.44 Q1310.69 1536.44 1308.5 1537.77 Q1306.33 1539.11 1306.33 1541.79 Q1306.33 1543.82 1307.89 1545 Q1309.45 1546.15 1314.16 1547.2 L1316.17 1547.64 Q1322.41 1548.98 1325.02 1551.43 Q1327.66 1553.85 1327.66 1558.21 Q1327.66 1563.17 1323.71 1566.07 Q1319.8 1568.97 1312.92 1568.97 Q1310.06 1568.97 1306.94 1568.39 Q1303.85 1567.85 1300.41 1566.74 L1300.41 1560.69 Q1303.66 1562.38 1306.81 1563.24 Q1309.96 1564.07 1313.05 1564.07 Q1317.19 1564.07 1319.41 1562.66 Q1321.64 1561.23 1321.64 1558.65 Q1321.64 1556.27 1320.02 1554.99 Q1318.43 1553.72 1312.98 1552.54 L1310.95 1552.07 Q1305.5 1550.92 1303.09 1548.56 Q1300.67 1546.18 1300.67 1542.04 Q1300.67 1537.01 1304.23 1534.27 Q1307.8 1531.54 1314.35 1531.54 Q1317.6 1531.54 1320.46 1532.01 Q1323.33 1532.49 1325.75 1533.45 Z\" fill=\"#000000\" fill-rule=\"nonzero\" fill-opacity=\"1\" /><polyline clip-path=\"url(#clip892)\" style=\"stroke:#000000; stroke-linecap:round; stroke-linejoin:round; stroke-width:2; stroke-opacity:0.1; fill:none\" points=\"156.274,1384.24 2352.76,1384.24 \"/>\n",
       "<polyline clip-path=\"url(#clip892)\" style=\"stroke:#000000; stroke-linecap:round; stroke-linejoin:round; stroke-width:2; stroke-opacity:0.1; fill:none\" points=\"156.274,1132.92 2352.76,1132.92 \"/>\n",
       "<polyline clip-path=\"url(#clip892)\" style=\"stroke:#000000; stroke-linecap:round; stroke-linejoin:round; stroke-width:2; stroke-opacity:0.1; fill:none\" points=\"156.274,881.61 2352.76,881.61 \"/>\n",
       "<polyline clip-path=\"url(#clip892)\" style=\"stroke:#000000; stroke-linecap:round; stroke-linejoin:round; stroke-width:2; stroke-opacity:0.1; fill:none\" points=\"156.274,630.296 2352.76,630.296 \"/>\n",
       "<polyline clip-path=\"url(#clip892)\" style=\"stroke:#000000; stroke-linecap:round; stroke-linejoin:round; stroke-width:2; stroke-opacity:0.1; fill:none\" points=\"156.274,378.982 2352.76,378.982 \"/>\n",
       "<polyline clip-path=\"url(#clip892)\" style=\"stroke:#000000; stroke-linecap:round; stroke-linejoin:round; stroke-width:2; stroke-opacity:0.1; fill:none\" points=\"156.274,127.668 2352.76,127.668 \"/>\n",
       "<polyline clip-path=\"url(#clip890)\" style=\"stroke:#000000; stroke-linecap:round; stroke-linejoin:round; stroke-width:4; stroke-opacity:1; fill:none\" points=\"156.274,1423.18 156.274,47.2441 \"/>\n",
       "<polyline clip-path=\"url(#clip890)\" style=\"stroke:#000000; stroke-linecap:round; stroke-linejoin:round; stroke-width:4; stroke-opacity:1; fill:none\" points=\"156.274,1384.24 175.172,1384.24 \"/>\n",
       "<polyline clip-path=\"url(#clip890)\" style=\"stroke:#000000; stroke-linecap:round; stroke-linejoin:round; stroke-width:4; stroke-opacity:1; fill:none\" points=\"156.274,1132.92 175.172,1132.92 \"/>\n",
       "<polyline clip-path=\"url(#clip890)\" style=\"stroke:#000000; stroke-linecap:round; stroke-linejoin:round; stroke-width:4; stroke-opacity:1; fill:none\" points=\"156.274,881.61 175.172,881.61 \"/>\n",
       "<polyline clip-path=\"url(#clip890)\" style=\"stroke:#000000; stroke-linecap:round; stroke-linejoin:round; stroke-width:4; stroke-opacity:1; fill:none\" points=\"156.274,630.296 175.172,630.296 \"/>\n",
       "<polyline clip-path=\"url(#clip890)\" style=\"stroke:#000000; stroke-linecap:round; stroke-linejoin:round; stroke-width:4; stroke-opacity:1; fill:none\" points=\"156.274,378.982 175.172,378.982 \"/>\n",
       "<polyline clip-path=\"url(#clip890)\" style=\"stroke:#000000; stroke-linecap:round; stroke-linejoin:round; stroke-width:4; stroke-opacity:1; fill:none\" points=\"156.274,127.668 175.172,127.668 \"/>\n",
       "<path clip-path=\"url(#clip890)\" d=\"M64.0939 1370.04 Q60.4828 1370.04 58.6541 1373.6 Q56.8486 1377.14 56.8486 1384.27 Q56.8486 1391.38 58.6541 1394.94 Q60.4828 1398.49 64.0939 1398.49 Q67.7281 1398.49 69.5337 1394.94 Q71.3624 1391.38 71.3624 1384.27 Q71.3624 1377.14 69.5337 1373.6 Q67.7281 1370.04 64.0939 1370.04 M64.0939 1366.33 Q69.9041 1366.33 72.9596 1370.94 Q76.0383 1375.52 76.0383 1384.27 Q76.0383 1393 72.9596 1397.61 Q69.9041 1402.19 64.0939 1402.19 Q58.2838 1402.19 55.2051 1397.61 Q52.1495 1393 52.1495 1384.27 Q52.1495 1375.52 55.2051 1370.94 Q58.2838 1366.33 64.0939 1366.33 Z\" fill=\"#000000\" fill-rule=\"nonzero\" fill-opacity=\"1\" /><path clip-path=\"url(#clip890)\" d=\"M84.2558 1395.64 L89.1401 1395.64 L89.1401 1401.52 L84.2558 1401.52 L84.2558 1395.64 Z\" fill=\"#000000\" fill-rule=\"nonzero\" fill-opacity=\"1\" /><path clip-path=\"url(#clip890)\" d=\"M99.3715 1366.96 L117.728 1366.96 L117.728 1370.89 L103.654 1370.89 L103.654 1379.37 Q104.672 1379.02 105.691 1378.86 Q106.709 1378.67 107.728 1378.67 Q113.515 1378.67 116.895 1381.84 Q120.274 1385.01 120.274 1390.43 Q120.274 1396.01 116.802 1399.11 Q113.33 1402.19 107.01 1402.19 Q104.834 1402.19 102.566 1401.82 Q100.321 1401.45 97.9132 1400.71 L97.9132 1396.01 Q99.9965 1397.14 102.219 1397.7 Q104.441 1398.25 106.918 1398.25 Q110.922 1398.25 113.26 1396.15 Q115.598 1394.04 115.598 1390.43 Q115.598 1386.82 113.26 1384.71 Q110.922 1382.61 106.918 1382.61 Q105.043 1382.61 103.168 1383.02 Q101.316 1383.44 99.3715 1384.32 L99.3715 1366.96 Z\" fill=\"#000000\" fill-rule=\"nonzero\" fill-opacity=\"1\" /><path clip-path=\"url(#clip890)\" d=\"M62.9365 1118.72 Q59.3254 1118.72 57.4967 1122.29 Q55.6912 1125.83 55.6912 1132.96 Q55.6912 1140.07 57.4967 1143.63 Q59.3254 1147.17 62.9365 1147.17 Q66.5707 1147.17 68.3763 1143.63 Q70.205 1140.07 70.205 1132.96 Q70.205 1125.83 68.3763 1122.29 Q66.5707 1118.72 62.9365 1118.72 M62.9365 1115.02 Q68.7467 1115.02 71.8022 1119.63 Q74.8809 1124.21 74.8809 1132.96 Q74.8809 1141.69 71.8022 1146.29 Q68.7467 1150.88 62.9365 1150.88 Q57.1264 1150.88 54.0477 1146.29 Q50.9921 1141.69 50.9921 1132.96 Q50.9921 1124.21 54.0477 1119.63 Q57.1264 1115.02 62.9365 1115.02 Z\" fill=\"#000000\" fill-rule=\"nonzero\" fill-opacity=\"1\" /><path clip-path=\"url(#clip890)\" d=\"M83.0984 1144.32 L87.9827 1144.32 L87.9827 1150.2 L83.0984 1150.2 L83.0984 1144.32 Z\" fill=\"#000000\" fill-rule=\"nonzero\" fill-opacity=\"1\" /><path clip-path=\"url(#clip890)\" d=\"M108.746 1131.06 Q105.598 1131.06 103.746 1133.21 Q101.918 1135.37 101.918 1139.12 Q101.918 1142.84 103.746 1145.02 Q105.598 1147.17 108.746 1147.17 Q111.895 1147.17 113.723 1145.02 Q115.575 1142.84 115.575 1139.12 Q115.575 1135.37 113.723 1133.21 Q111.895 1131.06 108.746 1131.06 M118.029 1116.41 L118.029 1120.67 Q116.27 1119.83 114.464 1119.39 Q112.682 1118.95 110.922 1118.95 Q106.293 1118.95 103.839 1122.08 Q101.409 1125.2 101.061 1131.52 Q102.427 1129.51 104.487 1128.44 Q106.547 1127.36 109.024 1127.36 Q114.233 1127.36 117.242 1130.53 Q120.274 1133.68 120.274 1139.12 Q120.274 1144.44 117.126 1147.66 Q113.978 1150.88 108.746 1150.88 Q102.751 1150.88 99.5798 1146.29 Q96.4085 1141.69 96.4085 1132.96 Q96.4085 1124.76 100.297 1119.9 Q104.186 1115.02 110.737 1115.02 Q112.496 1115.02 114.279 1115.37 Q116.084 1115.71 118.029 1116.41 Z\" fill=\"#000000\" fill-rule=\"nonzero\" fill-opacity=\"1\" /><path clip-path=\"url(#clip890)\" d=\"M64.0013 867.409 Q60.3902 867.409 58.5615 870.973 Q56.756 874.515 56.756 881.645 Q56.756 888.751 58.5615 892.316 Q60.3902 895.858 64.0013 895.858 Q67.6356 895.858 69.4411 892.316 Q71.2698 888.751 71.2698 881.645 Q71.2698 874.515 69.4411 870.973 Q67.6356 867.409 64.0013 867.409 M64.0013 863.705 Q69.8115 863.705 72.867 868.311 Q75.9457 872.895 75.9457 881.645 Q75.9457 890.371 72.867 894.978 Q69.8115 899.561 64.0013 899.561 Q58.1912 899.561 55.1125 894.978 Q52.0569 890.371 52.0569 881.645 Q52.0569 872.895 55.1125 868.311 Q58.1912 863.705 64.0013 863.705 Z\" fill=\"#000000\" fill-rule=\"nonzero\" fill-opacity=\"1\" /><path clip-path=\"url(#clip890)\" d=\"M84.1632 893.01 L89.0475 893.01 L89.0475 898.89 L84.1632 898.89 L84.1632 893.01 Z\" fill=\"#000000\" fill-rule=\"nonzero\" fill-opacity=\"1\" /><path clip-path=\"url(#clip890)\" d=\"M98.0521 864.33 L120.274 864.33 L120.274 866.321 L107.728 898.89 L102.844 898.89 L114.649 868.265 L98.0521 868.265 L98.0521 864.33 Z\" fill=\"#000000\" fill-rule=\"nonzero\" fill-opacity=\"1\" /><path clip-path=\"url(#clip890)\" d=\"M63.1911 616.095 Q59.58 616.095 57.7513 619.659 Q55.9458 623.201 55.9458 630.331 Q55.9458 637.437 57.7513 641.002 Q59.58 644.543 63.1911 644.543 Q66.8254 644.543 68.6309 641.002 Q70.4596 637.437 70.4596 630.331 Q70.4596 623.201 68.6309 619.659 Q66.8254 616.095 63.1911 616.095 M63.1911 612.391 Q69.0013 612.391 72.0568 616.997 Q75.1355 621.581 75.1355 630.331 Q75.1355 639.057 72.0568 643.664 Q69.0013 648.247 63.1911 648.247 Q57.381 648.247 54.3023 643.664 Q51.2468 639.057 51.2468 630.331 Q51.2468 621.581 54.3023 616.997 Q57.381 612.391 63.1911 612.391 Z\" fill=\"#000000\" fill-rule=\"nonzero\" fill-opacity=\"1\" /><path clip-path=\"url(#clip890)\" d=\"M83.3531 641.696 L88.2373 641.696 L88.2373 647.576 L83.3531 647.576 L83.3531 641.696 Z\" fill=\"#000000\" fill-rule=\"nonzero\" fill-opacity=\"1\" /><path clip-path=\"url(#clip890)\" d=\"M108.422 631.164 Q105.089 631.164 103.168 632.946 Q101.27 634.729 101.27 637.854 Q101.27 640.979 103.168 642.761 Q105.089 644.543 108.422 644.543 Q111.756 644.543 113.677 642.761 Q115.598 640.955 115.598 637.854 Q115.598 634.729 113.677 632.946 Q111.779 631.164 108.422 631.164 M103.746 629.173 Q100.737 628.432 99.0474 626.372 Q97.3808 624.312 97.3808 621.349 Q97.3808 617.206 100.321 614.798 Q103.284 612.391 108.422 612.391 Q113.584 612.391 116.524 614.798 Q119.464 617.206 119.464 621.349 Q119.464 624.312 117.774 626.372 Q116.108 628.432 113.121 629.173 Q116.501 629.96 118.376 632.252 Q120.274 634.543 120.274 637.854 Q120.274 642.877 117.195 645.562 Q114.14 648.247 108.422 648.247 Q102.705 648.247 99.6261 645.562 Q96.5706 642.877 96.5706 637.854 Q96.5706 634.543 98.4687 632.252 Q100.367 629.96 103.746 629.173 M102.034 621.789 Q102.034 624.474 103.7 625.979 Q105.39 627.483 108.422 627.483 Q111.432 627.483 113.121 625.979 Q114.834 624.474 114.834 621.789 Q114.834 619.104 113.121 617.599 Q111.432 616.095 108.422 616.095 Q105.39 616.095 103.7 617.599 Q102.034 619.104 102.034 621.789 Z\" fill=\"#000000\" fill-rule=\"nonzero\" fill-opacity=\"1\" /><path clip-path=\"url(#clip890)\" d=\"M63.2837 364.78 Q59.6726 364.78 57.8439 368.345 Q56.0384 371.887 56.0384 379.016 Q56.0384 386.123 57.8439 389.688 Q59.6726 393.229 63.2837 393.229 Q66.918 393.229 68.7235 389.688 Q70.5522 386.123 70.5522 379.016 Q70.5522 371.887 68.7235 368.345 Q66.918 364.78 63.2837 364.78 M63.2837 361.077 Q69.0939 361.077 72.1494 365.683 Q75.2281 370.266 75.2281 379.016 Q75.2281 387.743 72.1494 392.35 Q69.0939 396.933 63.2837 396.933 Q57.4736 396.933 54.3949 392.35 Q51.3393 387.743 51.3393 379.016 Q51.3393 370.266 54.3949 365.683 Q57.4736 361.077 63.2837 361.077 Z\" fill=\"#000000\" fill-rule=\"nonzero\" fill-opacity=\"1\" /><path clip-path=\"url(#clip890)\" d=\"M83.4457 390.382 L88.3299 390.382 L88.3299 396.262 L83.4457 396.262 L83.4457 390.382 Z\" fill=\"#000000\" fill-rule=\"nonzero\" fill-opacity=\"1\" /><path clip-path=\"url(#clip890)\" d=\"M98.6539 395.544 L98.6539 391.285 Q100.413 392.118 102.219 392.558 Q104.024 392.998 105.76 392.998 Q110.39 392.998 112.82 389.896 Q115.274 386.771 115.621 380.428 Q114.279 382.419 112.219 383.484 Q110.158 384.549 107.658 384.549 Q102.473 384.549 99.4409 381.424 Q96.4317 378.276 96.4317 372.836 Q96.4317 367.512 99.5798 364.294 Q102.728 361.077 107.959 361.077 Q113.955 361.077 117.103 365.683 Q120.274 370.266 120.274 379.016 Q120.274 387.188 116.385 392.072 Q112.52 396.933 105.969 396.933 Q104.209 396.933 102.404 396.586 Q100.598 396.239 98.6539 395.544 M107.959 380.891 Q111.108 380.891 112.936 378.739 Q114.788 376.586 114.788 372.836 Q114.788 369.109 112.936 366.956 Q111.108 364.78 107.959 364.78 Q104.811 364.78 102.959 366.956 Q101.131 369.109 101.131 372.836 Q101.131 376.586 102.959 378.739 Q104.811 380.891 107.959 380.891 Z\" fill=\"#000000\" fill-rule=\"nonzero\" fill-opacity=\"1\" /><path clip-path=\"url(#clip890)\" d=\"M53.9088 141.012 L61.5476 141.012 L61.5476 114.647 L53.2375 116.313 L53.2375 112.054 L61.5013 110.388 L66.1772 110.388 L66.1772 141.012 L73.8161 141.012 L73.8161 144.948 L53.9088 144.948 L53.9088 141.012 Z\" fill=\"#000000\" fill-rule=\"nonzero\" fill-opacity=\"1\" /><path clip-path=\"url(#clip890)\" d=\"M83.2605 139.068 L88.1447 139.068 L88.1447 144.948 L83.2605 144.948 L83.2605 139.068 Z\" fill=\"#000000\" fill-rule=\"nonzero\" fill-opacity=\"1\" /><path clip-path=\"url(#clip890)\" d=\"M108.33 113.466 Q104.719 113.466 102.89 117.031 Q101.084 120.573 101.084 127.702 Q101.084 134.809 102.89 138.373 Q104.719 141.915 108.33 141.915 Q111.964 141.915 113.77 138.373 Q115.598 134.809 115.598 127.702 Q115.598 120.573 113.77 117.031 Q111.964 113.466 108.33 113.466 M108.33 109.763 Q114.14 109.763 117.195 114.369 Q120.274 118.952 120.274 127.702 Q120.274 136.429 117.195 141.036 Q114.14 145.619 108.33 145.619 Q102.52 145.619 99.4409 141.036 Q96.3854 136.429 96.3854 127.702 Q96.3854 118.952 99.4409 114.369 Q102.52 109.763 108.33 109.763 Z\" fill=\"#000000\" fill-rule=\"nonzero\" fill-opacity=\"1\" /><polyline clip-path=\"url(#clip892)\" style=\"stroke:#009af9; stroke-linecap:round; stroke-linejoin:round; stroke-width:4; stroke-opacity:1; fill:none\" points=\"218.439,1384.24 222.583,755.255 226.727,440.066 230.872,281.775 235.016,201.935 239.16,161.323 243.305,140.33 247.449,129.149 251.593,122.88 255.737,119.072 259.882,116.502 264.026,114.559 268.17,112.936 272.315,111.483 276.459,110.125 280.603,108.824 284.748,107.564 288.892,106.335 293.036,105.135 297.181,103.963 301.325,102.818 305.469,101.702 309.613,100.616 313.758,99.5612 317.902,98.5381 322.046,97.5484 326.191,96.5932 330.335,95.6737 334.479,94.7911 338.624,93.9464 342.768,93.1407 346.912,92.375 351.057,91.6502 355.201,90.9673 359.345,90.3272 363.489,89.7306 367.634,89.1783 371.778,88.6709 375.922,88.2093 380.067,87.7938 384.211,87.4251 388.355,87.1037 392.5,86.8299 396.644,86.6041 400.788,86.4266 404.932,86.2976 409.077,86.2172 413.221,86.1857 417.365,86.2029 421.51,86.269 425.654,86.3838 429.798,86.5472 433.943,86.7589 438.087,87.0187 442.231,87.3262 446.376,87.6811 450.52,88.0829 454.664,88.5311 458.808,89.0252 462.953,89.5644 467.097,90.1481 471.241,90.7756 475.386,91.4461 479.53,92.1587 483.674,92.9125 487.819,93.7066 491.963,94.54 496.107,95.4116 500.251,96.3204 504.396,97.2653 508.54,98.245 512.684,99.2583 516.829,100.304 520.973,101.381 525.117,102.488 529.262,103.623 533.406,104.785 537.55,105.973 541.695,107.185 545.839,108.42 549.983,109.677 554.127,110.953 558.272,112.247 562.416,113.559 566.56,114.885 570.705,116.226 574.849,117.579 578.993,118.942 583.138,120.314 587.282,121.694 591.426,123.08 595.571,124.47 599.715,125.863 603.859,127.257 608.003,128.651 612.148,130.043 616.292,131.431 620.436,132.815 624.581,134.192 628.725,135.562 632.869,136.922 637.014,138.271 641.158,139.607 645.302,140.93 649.446,142.238 653.591,143.53 657.735,144.803 661.879,146.057 666.024,147.291 670.168,148.503 674.312,149.692 678.457,150.857 682.601,151.996 686.745,153.108 690.89,154.193 695.034,155.249 699.178,156.275 703.322,157.27 707.467,158.233 711.611,159.164 715.755,160.06 719.9,160.922 724.044,161.748 728.188,162.538 732.333,163.291 736.477,164.006 740.621,164.682 744.765,165.319 748.91,165.916 753.054,166.473 757.198,166.989 761.343,167.463 765.487,167.896 769.631,168.286 773.776,168.633 777.92,168.938 782.064,169.199 786.209,169.417 790.353,169.59 794.497,169.72 798.641,169.806 802.786,169.848 806.93,169.845 811.074,169.798 815.219,169.707 819.363,169.573 823.507,169.394 827.652,169.171 831.796,168.905 835.94,168.596 840.085,168.243 844.229,167.848 848.373,167.411 852.517,166.931 856.662,166.411 860.806,165.849 864.95,165.247 869.095,164.606 873.239,163.925 877.383,163.206 881.528,162.449 885.672,161.655 889.816,160.824 893.96,159.958 898.105,159.058 902.249,158.124 906.393,157.157 910.538,156.158 914.682,155.129 918.826,154.069 922.971,152.981 927.115,151.866 931.259,150.723 935.404,149.556 939.548,148.364 943.692,147.15 947.836,145.914 951.981,144.657 956.125,143.382 960.269,142.088 964.414,140.778 968.558,139.454 972.702,138.116 976.847,136.765 980.991,135.404 985.135,134.034 989.28,132.656 993.424,131.271 997.568,129.882 1001.71,128.49 1005.86,127.096 1010,125.702 1014.15,124.309 1018.29,122.919 1022.43,121.534 1026.58,120.155 1030.72,118.784 1034.87,117.422 1039.01,116.07 1043.16,114.731 1047.3,113.406 1051.44,112.097 1055.59,110.804 1059.73,109.53 1063.88,108.276 1068.02,107.044 1072.17,105.834 1076.31,104.649 1080.45,103.49 1084.6,102.358 1088.74,101.255 1092.89,100.181 1097.03,99.1393 1101.18,98.1298 1105.32,97.154 1109.46,96.2133 1113.61,95.3088 1117.75,94.4415 1121.9,93.6126 1126.04,92.8231 1130.19,92.074 1134.33,91.3662 1138.47,90.7007 1142.62,90.0782 1146.76,89.4996 1150.91,88.9656 1155.05,88.4768 1159.2,88.034 1163.34,87.6376 1167.48,87.2881 1171.63,86.9861 1175.77,86.7319 1179.92,86.5257 1184.06,86.368 1188.21,86.2589 1192.35,86.1984 1196.49,86.1868 1200.64,86.224 1204.78,86.31 1208.93,86.4447 1213.07,86.6278 1217.22,86.8592 1221.36,87.1385 1225.5,87.4655 1229.65,87.8396 1233.79,88.2604 1237.94,88.7274 1242.08,89.24 1246.23,89.7974 1250.37,90.3991 1254.52,91.0443 1258.66,91.7321 1262.8,92.4616 1266.95,93.232 1271.09,94.0423 1275.24,94.8914 1279.38,95.7784 1283.53,96.702 1287.67,97.6612 1291.81,98.6548 1295.96,99.6816 1300.1,100.74 1304.25,101.829 1308.39,102.948 1312.54,104.094 1316.68,105.267 1320.82,106.465 1324.97,107.687 1329.11,108.931 1333.26,110.195 1337.4,111.479 1341.55,112.781 1345.69,114.099 1349.83,115.431 1353.98,116.777 1358.12,118.134 1362.27,119.501 1366.41,120.877 1370.56,122.259 1374.7,123.647 1378.84,125.038 1382.99,126.432 1387.13,127.826 1391.28,129.22 1395.42,130.61 1399.57,131.997 1403.71,133.378 1407.85,134.753 1412,136.118 1416.14,137.474 1420.29,138.818 1424.43,140.15 1428.58,141.467 1432.72,142.768 1436.86,144.052 1441.01,145.318 1445.15,146.564 1449.3,147.789 1453.44,148.991 1457.59,150.171 1461.73,151.325 1465.87,152.453 1470.02,153.555 1474.16,154.628 1478.31,155.672 1482.45,156.685 1486.6,157.667 1490.74,158.617 1494.88,159.534 1499.03,160.416 1503.17,161.264 1507.32,162.075 1511.46,162.85 1515.61,163.587 1519.75,164.286 1523.89,164.947 1528.04,165.568 1532.18,166.148 1536.33,166.689 1540.47,167.188 1544.62,167.645 1548.76,168.06 1552.91,168.433 1557.05,168.763 1561.19,169.05 1565.34,169.293 1569.48,169.493 1573.63,169.649 1577.77,169.761 1581.92,169.828 1586.06,169.852 1590.2,169.831 1594.35,169.767 1598.49,169.658 1602.64,169.505 1606.78,169.308 1610.93,169.068 1615.07,168.784 1619.21,168.457 1623.36,168.087 1627.5,167.674 1631.65,167.22 1635.79,166.724 1639.94,166.186 1644.08,165.608 1648.22,164.99 1652.37,164.332 1656.51,163.636 1660.66,162.901 1664.8,162.129 1668.95,161.32 1673.09,160.475 1677.23,159.595 1681.38,158.681 1685.52,157.733 1689.67,156.753 1693.81,155.741 1697.96,154.7 1702.1,153.628 1706.24,152.529 1710.39,151.402 1714.53,150.25 1718.68,149.072 1722.82,147.871 1726.97,146.648 1731.11,145.403 1735.25,144.138 1739.4,142.855 1743.54,141.555 1747.69,140.239 1751.83,138.909 1755.98,137.565 1760.12,136.21 1764.26,134.845 1768.41,133.472 1772.55,132.091 1776.7,130.704 1780.84,129.314 1784.99,127.921 1789.13,126.526 1793.27,125.133 1797.42,123.741 1801.56,122.353 1805.71,120.97 1809.85,119.594 1814,118.226 1818.14,116.868 1822.28,115.522 1826.43,114.188 1830.57,112.869 1834.72,111.567 1838.86,110.282 1843.01,109.016 1847.15,107.77 1851.29,106.547 1855.44,105.347 1859.58,104.173 1863.73,103.024 1867.87,101.904 1872.02,100.813 1876.16,99.7519 1880.31,98.723 1884.45,97.7271 1888.59,96.7655 1892.74,95.8395 1896.88,94.95 1901.03,94.0983 1905.17,93.2853 1909.32,92.5122 1913.46,91.7799 1917.6,91.0893 1921.75,90.4412 1925.89,89.8366 1930.04,89.2761 1934.18,88.7605 1938.33,88.2904 1942.47,87.8664 1946.61,87.4892 1950.76,87.159 1954.9,86.8765 1959.05,86.6418 1963.19,86.4555 1967.34,86.3175 1971.48,86.2283 1975.62,86.1878 1979.77,86.1961 1983.91,86.2533 1988.06,86.3591 1992.2,86.5136 1996.35,86.7165 2000.49,86.9675 2004.63,87.2663 2008.78,87.6126 2012.92,88.0058 2017.07,88.4456 2021.21,88.9313 2025.36,89.4623 2029.5,90.0379 2033.64,90.6574 2037.79,91.3201 2041.93,92.025 2046.08,92.7714 2050.22,93.5582 2054.37,94.3844 2058.51,95.2491 2062.65,96.1512 2066.8,97.0895 2070.94,98.0629 2075.09,99.0702 2079.23,100.11 2083.38,101.181 2087.52,102.283 2091.66,103.413 2095.81,104.57 2099.95,105.754 2104.1,106.961 2108.24,108.192 2112.39,109.445 2116.53,110.718 2120.67,112.009 2124.82,113.317 2128.96,114.641 2133.11,115.979 2137.25,117.33 2141.4,118.691 2145.54,120.062 2149.68,121.441 2153.83,122.825 2157.97,124.215 2162.12,125.607 2166.26,127.002 2170.41,128.396 2174.55,129.788 2178.7,131.177 2182.84,132.562 2186.98,133.941 2191.13,135.312 2195.27,136.673 2199.42,138.024 2203.56,139.364 2207.71,140.689 2211.85,142 2215.99,143.294 2220.14,144.571 2224.28,145.829 2228.43,147.067 2232.57,148.283 2236.72,149.476 2240.86,150.645 2245,151.789 2249.15,152.907 2253.29,153.996 2257.44,155.058 2261.58,156.089 2265.73,157.09 2269.87,158.059 2274.01,158.996 2278.16,159.898 2282.3,160.767 2286.45,161.599 2290.59,162.396 \"/>\n",
       "<path clip-path=\"url(#clip890)\" d=\"M1710.87 196.789 L2279.54 196.789 L2279.54 93.1086 L1710.87 93.1086  Z\" fill=\"#ffffff\" fill-rule=\"evenodd\" fill-opacity=\"1\"/>\n",
       "<polyline clip-path=\"url(#clip890)\" style=\"stroke:#000000; stroke-linecap:round; stroke-linejoin:round; stroke-width:4; stroke-opacity:1; fill:none\" points=\"1710.87,196.789 2279.54,196.789 2279.54,93.1086 1710.87,93.1086 1710.87,196.789 \"/>\n",
       "<polyline clip-path=\"url(#clip890)\" style=\"stroke:#009af9; stroke-linecap:round; stroke-linejoin:round; stroke-width:4; stroke-opacity:1; fill:none\" points=\"1735.27,144.949 1881.7,144.949 \"/>\n",
       "<path clip-path=\"url(#clip890)\" d=\"M1910.78 131.511 L1910.78 144.497 L1916.66 144.497 Q1919.93 144.497 1921.71 142.807 Q1923.49 141.118 1923.49 137.993 Q1923.49 134.891 1921.71 133.201 Q1919.93 131.511 1916.66 131.511 L1910.78 131.511 M1906.11 127.669 L1916.66 127.669 Q1922.47 127.669 1925.44 130.307 Q1928.42 132.923 1928.42 137.993 Q1928.42 143.108 1925.44 145.724 Q1922.47 148.34 1916.66 148.34 L1910.78 148.34 L1910.78 162.229 L1906.11 162.229 L1906.11 127.669 Z\" fill=\"#000000\" fill-rule=\"nonzero\" fill-opacity=\"1\" /><path clip-path=\"url(#clip890)\" d=\"M1934.51 126.21 L1938.77 126.21 L1938.77 162.229 L1934.51 162.229 L1934.51 126.21 Z\" fill=\"#000000\" fill-rule=\"nonzero\" fill-opacity=\"1\" /><path clip-path=\"url(#clip890)\" d=\"M1959.46 149.196 Q1954.3 149.196 1952.31 150.377 Q1950.32 151.557 1950.32 154.405 Q1950.32 156.673 1951.8 158.016 Q1953.31 159.335 1955.88 159.335 Q1959.42 159.335 1961.55 156.835 Q1963.7 154.312 1963.7 150.145 L1963.7 149.196 L1959.46 149.196 M1967.96 147.437 L1967.96 162.229 L1963.7 162.229 L1963.7 158.293 Q1962.24 160.655 1960.07 161.789 Q1957.89 162.9 1954.74 162.9 Q1950.76 162.9 1948.4 160.678 Q1946.06 158.432 1946.06 154.682 Q1946.06 150.307 1948.98 148.085 Q1951.92 145.863 1957.73 145.863 L1963.7 145.863 L1963.7 145.446 Q1963.7 142.507 1961.76 140.909 Q1959.84 139.289 1956.34 139.289 Q1954.12 139.289 1952.01 139.821 Q1949.9 140.354 1947.96 141.419 L1947.96 137.483 Q1950.3 136.581 1952.5 136.141 Q1954.7 135.678 1956.78 135.678 Q1962.4 135.678 1965.18 138.594 Q1967.96 141.511 1967.96 147.437 Z\" fill=\"#000000\" fill-rule=\"nonzero\" fill-opacity=\"1\" /><path clip-path=\"url(#clip890)\" d=\"M1998.28 146.581 L1998.28 162.229 L1994.02 162.229 L1994.02 146.719 Q1994.02 143.039 1992.59 141.21 Q1991.15 139.382 1988.28 139.382 Q1984.84 139.382 1982.84 141.581 Q1980.85 143.78 1980.85 147.576 L1980.85 162.229 L1976.57 162.229 L1976.57 136.303 L1980.85 136.303 L1980.85 140.331 Q1982.38 137.993 1984.44 136.835 Q1986.52 135.678 1989.23 135.678 Q1993.7 135.678 1995.99 138.456 Q1998.28 141.21 1998.28 146.581 Z\" fill=\"#000000\" fill-rule=\"nonzero\" fill-opacity=\"1\" /><path clip-path=\"url(#clip890)\" d=\"M2028.96 148.201 L2028.96 150.284 L2009.37 150.284 Q2009.65 154.682 2012.01 156.997 Q2014.4 159.289 2018.63 159.289 Q2021.08 159.289 2023.38 158.687 Q2025.69 158.085 2027.96 156.881 L2027.96 160.909 Q2025.67 161.881 2023.26 162.391 Q2020.85 162.9 2018.38 162.9 Q2012.17 162.9 2008.54 159.289 Q2004.93 155.678 2004.93 149.52 Q2004.93 143.155 2008.35 139.428 Q2011.8 135.678 2017.64 135.678 Q2022.87 135.678 2025.9 139.057 Q2028.96 142.414 2028.96 148.201 M2024.7 146.951 Q2024.65 143.456 2022.73 141.372 Q2020.83 139.289 2017.68 139.289 Q2014.12 139.289 2011.96 141.303 Q2009.83 143.317 2009.51 146.974 L2024.7 146.951 Z\" fill=\"#000000\" fill-rule=\"nonzero\" fill-opacity=\"1\" /><path clip-path=\"url(#clip890)\" d=\"M2040.16 128.942 L2040.16 136.303 L2048.93 136.303 L2048.93 139.613 L2040.16 139.613 L2040.16 153.687 Q2040.16 156.858 2041.02 157.761 Q2041.89 158.664 2044.56 158.664 L2048.93 158.664 L2048.93 162.229 L2044.56 162.229 Q2039.63 162.229 2037.75 160.4 Q2035.88 158.548 2035.88 153.687 L2035.88 139.613 L2032.75 139.613 L2032.75 136.303 L2035.88 136.303 L2035.88 128.942 L2040.16 128.942 Z\" fill=\"#000000\" fill-rule=\"nonzero\" fill-opacity=\"1\" /><path clip-path=\"url(#clip890)\" d=\"M2090.51 128.803 L2090.51 133.363 Q2087.84 132.09 2085.48 131.465 Q2083.12 130.84 2080.92 130.84 Q2077.1 130.84 2075.02 132.321 Q2072.96 133.803 2072.96 136.534 Q2072.96 138.826 2074.33 140.007 Q2075.71 141.164 2079.56 141.882 L2082.38 142.46 Q2087.61 143.456 2090.09 145.979 Q2092.59 148.479 2092.59 152.692 Q2092.59 157.715 2089.21 160.307 Q2085.85 162.9 2079.35 162.9 Q2076.89 162.9 2074.12 162.344 Q2071.36 161.789 2068.4 160.701 L2068.4 155.886 Q2071.25 157.483 2073.98 158.293 Q2076.71 159.104 2079.35 159.104 Q2083.35 159.104 2085.53 157.53 Q2087.7 155.956 2087.7 153.039 Q2087.7 150.493 2086.13 149.057 Q2084.58 147.622 2081.02 146.905 L2078.17 146.349 Q2072.94 145.307 2070.6 143.085 Q2068.26 140.863 2068.26 136.905 Q2068.26 132.321 2071.48 129.682 Q2074.72 127.044 2080.39 127.044 Q2082.82 127.044 2085.34 127.483 Q2087.87 127.923 2090.51 128.803 Z\" fill=\"#000000\" fill-rule=\"nonzero\" fill-opacity=\"1\" /><path clip-path=\"url(#clip890)\" d=\"M2103.82 158.34 L2103.82 172.09 L2099.53 172.09 L2099.53 136.303 L2103.82 136.303 L2103.82 140.238 Q2105.16 137.923 2107.2 136.812 Q2109.26 135.678 2112.1 135.678 Q2116.83 135.678 2119.76 139.428 Q2122.73 143.178 2122.73 149.289 Q2122.73 155.4 2119.76 159.15 Q2116.83 162.9 2112.1 162.9 Q2109.26 162.9 2107.2 161.789 Q2105.16 160.655 2103.82 158.34 M2118.31 149.289 Q2118.31 144.59 2116.36 141.928 Q2114.44 139.243 2111.06 139.243 Q2107.68 139.243 2105.74 141.928 Q2103.82 144.59 2103.82 149.289 Q2103.82 153.988 2105.74 156.673 Q2107.68 159.335 2111.06 159.335 Q2114.44 159.335 2116.36 156.673 Q2118.31 153.988 2118.31 149.289 Z\" fill=\"#000000\" fill-rule=\"nonzero\" fill-opacity=\"1\" /><path clip-path=\"url(#clip890)\" d=\"M2151.96 148.201 L2151.96 150.284 L2132.38 150.284 Q2132.66 154.682 2135.02 156.997 Q2137.4 159.289 2141.64 159.289 Q2144.09 159.289 2146.39 158.687 Q2148.7 158.085 2150.97 156.881 L2150.97 160.909 Q2148.68 161.881 2146.27 162.391 Q2143.86 162.9 2141.39 162.9 Q2135.18 162.9 2131.55 159.289 Q2127.94 155.678 2127.94 149.52 Q2127.94 143.155 2131.36 139.428 Q2134.81 135.678 2140.64 135.678 Q2145.88 135.678 2148.91 139.057 Q2151.96 142.414 2151.96 148.201 M2147.7 146.951 Q2147.66 143.456 2145.74 141.372 Q2143.84 139.289 2140.69 139.289 Q2137.13 139.289 2134.97 141.303 Q2132.84 143.317 2132.52 146.974 L2147.7 146.951 Z\" fill=\"#000000\" fill-rule=\"nonzero\" fill-opacity=\"1\" /><path clip-path=\"url(#clip890)\" d=\"M2181.13 148.201 L2181.13 150.284 L2161.55 150.284 Q2161.82 154.682 2164.19 156.997 Q2166.57 159.289 2170.81 159.289 Q2173.26 159.289 2175.55 158.687 Q2177.87 158.085 2180.13 156.881 L2180.13 160.909 Q2177.84 161.881 2175.44 162.391 Q2173.03 162.9 2170.55 162.9 Q2164.35 162.9 2160.71 159.289 Q2157.1 155.678 2157.1 149.52 Q2157.1 143.155 2160.53 139.428 Q2163.98 135.678 2169.81 135.678 Q2175.04 135.678 2178.07 139.057 Q2181.13 142.414 2181.13 148.201 M2176.87 146.951 Q2176.82 143.456 2174.9 141.372 Q2173.01 139.289 2169.86 139.289 Q2166.29 139.289 2164.14 141.303 Q2162.01 143.317 2161.69 146.974 L2176.87 146.951 Z\" fill=\"#000000\" fill-rule=\"nonzero\" fill-opacity=\"1\" /><path clip-path=\"url(#clip890)\" d=\"M2205.18 140.238 L2205.18 126.21 L2209.44 126.21 L2209.44 162.229 L2205.18 162.229 L2205.18 158.34 Q2203.84 160.655 2201.78 161.789 Q2199.74 162.9 2196.87 162.9 Q2192.17 162.9 2189.21 159.15 Q2186.27 155.4 2186.27 149.289 Q2186.27 143.178 2189.21 139.428 Q2192.17 135.678 2196.87 135.678 Q2199.74 135.678 2201.78 136.812 Q2203.84 137.923 2205.18 140.238 M2190.67 149.289 Q2190.67 153.988 2192.59 156.673 Q2194.53 159.335 2197.91 159.335 Q2201.29 159.335 2203.24 156.673 Q2205.18 153.988 2205.18 149.289 Q2205.18 144.59 2203.24 141.928 Q2201.29 139.243 2197.91 139.243 Q2194.53 139.243 2192.59 141.928 Q2190.67 144.59 2190.67 149.289 Z\" fill=\"#000000\" fill-rule=\"nonzero\" fill-opacity=\"1\" /><path clip-path=\"url(#clip890)\" d=\"M2225.78 127.669 L2229.72 127.669 L2217.68 166.627 L2213.75 166.627 L2225.78 127.669 Z\" fill=\"#000000\" fill-rule=\"nonzero\" fill-opacity=\"1\" /><path clip-path=\"url(#clip890)\" d=\"M2238.82 158.293 L2255.13 158.293 L2255.13 162.229 L2233.19 162.229 L2233.19 158.293 Q2235.85 155.539 2240.44 150.909 Q2245.04 146.256 2246.22 144.914 Q2248.47 142.391 2249.35 140.655 Q2250.25 138.895 2250.25 137.206 Q2250.25 134.451 2248.31 132.715 Q2246.38 130.979 2243.28 130.979 Q2241.08 130.979 2238.63 131.743 Q2236.2 132.507 2233.42 134.057 L2233.42 129.335 Q2236.25 128.201 2238.7 127.622 Q2241.15 127.044 2243.19 127.044 Q2248.56 127.044 2251.75 129.729 Q2254.95 132.414 2254.95 136.905 Q2254.95 139.034 2254.14 140.956 Q2253.35 142.854 2251.25 145.446 Q2250.67 146.118 2247.57 149.335 Q2244.46 152.53 2238.82 158.293 Z\" fill=\"#000000\" fill-rule=\"nonzero\" fill-opacity=\"1\" /></svg>\n"
      ],
      "text/html": [
       "<img src=\"data:image/png;base64,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\" />"
      ]
     },
     "metadata": {},
     "output_type": "display_data"
    },
    {
     "data": {
      "text/html": [
       "<div><div style = \"float: left;\"><span>501×1 DataFrame</span></div><div style = \"float: right;\"><span style = \"font-style: italic;\">476 rows omitted</span></div><div style = \"clear: both;\"></div></div><div class = \"data-frame\" style = \"overflow-x: scroll;\"><table class = \"data-frame\" style = \"margin-bottom: 6px;\"><thead><tr class = \"header\"><th class = \"rowNumber\" style = \"font-weight: bold; text-align: right;\">Row</th><th style = \"text-align: left;\">Planet Speed/2</th></tr><tr class = \"subheader headerLastRow\"><th class = \"rowNumber\" style = \"font-weight: bold; text-align: right;\"></th><th title = \"Float64\" style = \"text-align: left;\">Float64</th></tr></thead><tbody><tr><td class = \"rowNumber\" style = \"font-weight: bold; text-align: right;\">1</td><td style = \"text-align: right;\">0.5</td></tr><tr><td class = \"rowNumber\" style = \"font-weight: bold; text-align: right;\">2</td><td style = \"text-align: right;\">0.750278</td></tr><tr><td class = \"rowNumber\" style = \"font-weight: bold; text-align: right;\">3</td><td style = \"text-align: right;\">0.875694</td></tr><tr><td class = \"rowNumber\" style = \"font-weight: bold; text-align: right;\">4</td><td style = \"text-align: right;\">0.938679</td></tr><tr><td class = \"rowNumber\" style = \"font-weight: bold; text-align: right;\">5</td><td style = \"text-align: right;\">0.970448</td></tr><tr><td class = \"rowNumber\" style = \"font-weight: bold; text-align: right;\">6</td><td style = \"text-align: right;\">0.986608</td></tr><tr><td class = \"rowNumber\" style = \"font-weight: bold; text-align: right;\">7</td><td style = \"text-align: right;\">0.994962</td></tr><tr><td class = \"rowNumber\" style = \"font-weight: bold; text-align: right;\">8</td><td style = \"text-align: right;\">0.999411</td></tr><tr><td class = \"rowNumber\" style = \"font-weight: bold; text-align: right;\">9</td><td style = \"text-align: right;\">1.00191</td></tr><tr><td class = \"rowNumber\" style = \"font-weight: bold; text-align: right;\">10</td><td style = \"text-align: right;\">1.00342</td></tr><tr><td class = \"rowNumber\" style = \"font-weight: bold; text-align: right;\">11</td><td style = \"text-align: right;\">1.00444</td></tr><tr><td class = \"rowNumber\" style = \"font-weight: bold; text-align: right;\">12</td><td style = \"text-align: right;\">1.00522</td></tr><tr><td class = \"rowNumber\" style = \"font-weight: bold; text-align: right;\">13</td><td style = \"text-align: right;\">1.00586</td></tr><tr><td style = \"text-align: right;\">&vellip;</td><td style = \"text-align: right;\">&vellip;</td></tr><tr><td class = \"rowNumber\" style = \"font-weight: bold; text-align: right;\">490</td><td style = \"text-align: right;\">0.990402</td></tr><tr><td class = \"rowNumber\" style = \"font-weight: bold; text-align: right;\">491</td><td style = \"text-align: right;\">0.989957</td></tr><tr><td class = \"rowNumber\" style = \"font-weight: bold; text-align: right;\">492</td><td style = \"text-align: right;\">0.989523</td></tr><tr><td class = \"rowNumber\" style = \"font-weight: bold; text-align: right;\">493</td><td style = \"text-align: right;\">0.989101</td></tr><tr><td class = \"rowNumber\" style = \"font-weight: bold; text-align: right;\">494</td><td style = \"text-align: right;\">0.988691</td></tr><tr><td class = \"rowNumber\" style = \"font-weight: bold; text-align: right;\">495</td><td style = \"text-align: right;\">0.988292</td></tr><tr><td class = \"rowNumber\" style = \"font-weight: bold; text-align: right;\">496</td><td style = \"text-align: right;\">0.987907</td></tr><tr><td class = \"rowNumber\" style = \"font-weight: bold; text-align: right;\">497</td><td style = \"text-align: right;\">0.987534</td></tr><tr><td class = \"rowNumber\" style = \"font-weight: bold; text-align: right;\">498</td><td style = \"text-align: right;\">0.987175</td></tr><tr><td class = \"rowNumber\" style = \"font-weight: bold; text-align: right;\">499</td><td style = \"text-align: right;\">0.98683</td></tr><tr><td class = \"rowNumber\" style = \"font-weight: bold; text-align: right;\">500</td><td style = \"text-align: right;\">0.986498</td></tr><tr><td class = \"rowNumber\" style = \"font-weight: bold; text-align: right;\">501</td><td style = \"text-align: right;\">0.986181</td></tr></tbody></table></div>"
      ],
      "text/latex": [
       "\\begin{tabular}{r|c}\n",
       "\t& Planet Speed/2\\\\\n",
       "\t\\hline\n",
       "\t& Float64\\\\\n",
       "\t\\hline\n",
       "\t1 & 0.5 \\\\\n",
       "\t2 & 0.750278 \\\\\n",
       "\t3 & 0.875694 \\\\\n",
       "\t4 & 0.938679 \\\\\n",
       "\t5 & 0.970448 \\\\\n",
       "\t6 & 0.986608 \\\\\n",
       "\t7 & 0.994962 \\\\\n",
       "\t8 & 0.999411 \\\\\n",
       "\t9 & 1.00191 \\\\\n",
       "\t10 & 1.00342 \\\\\n",
       "\t11 & 1.00444 \\\\\n",
       "\t12 & 1.00522 \\\\\n",
       "\t13 & 1.00586 \\\\\n",
       "\t14 & 1.00644 \\\\\n",
       "\t15 & 1.00698 \\\\\n",
       "\t16 & 1.0075 \\\\\n",
       "\t17 & 1.008 \\\\\n",
       "\t18 & 1.00849 \\\\\n",
       "\t19 & 1.00897 \\\\\n",
       "\t20 & 1.00943 \\\\\n",
       "\t21 & 1.00989 \\\\\n",
       "\t22 & 1.01033 \\\\\n",
       "\t23 & 1.01076 \\\\\n",
       "\t24 & 1.01118 \\\\\n",
       "\t25 & 1.01159 \\\\\n",
       "\t26 & 1.01198 \\\\\n",
       "\t27 & 1.01236 \\\\\n",
       "\t28 & 1.01273 \\\\\n",
       "\t29 & 1.01308 \\\\\n",
       "\t30 & 1.01342 \\\\\n",
       "\t$\\dots$ & $\\dots$ \\\\\n",
       "\\end{tabular}\n"
      ],
      "text/plain": [
       "\u001b[1m501×1 DataFrame\u001b[0m\n",
       "\u001b[1m Row \u001b[0m│\u001b[1m Planet Speed/2 \u001b[0m\n",
       "     │\u001b[90m Float64        \u001b[0m\n",
       "─────┼────────────────\n",
       "   1 │       0.5\n",
       "   2 │       0.750278\n",
       "   3 │       0.875694\n",
       "   4 │       0.938679\n",
       "   5 │       0.970448\n",
       "   6 │       0.986608\n",
       "   7 │       0.994962\n",
       "   8 │       0.999411\n",
       "   9 │       1.00191\n",
       "  10 │       1.00342\n",
       "  11 │       1.00444\n",
       "  ⋮  │       ⋮\n",
       " 492 │       0.989523\n",
       " 493 │       0.989101\n",
       " 494 │       0.988691\n",
       " 495 │       0.988292\n",
       " 496 │       0.987907\n",
       " 497 │       0.987534\n",
       " 498 │       0.987175\n",
       " 499 │       0.98683\n",
       " 500 │       0.986498\n",
       " 501 │       0.986181\n",
       "\u001b[36m      480 rows omitted\u001b[0m"
      ]
     },
     "execution_count": 31,
     "metadata": {},
     "output_type": "execute_result"
    }
   ],
   "source": [
    "df1 = get_agents_avg_props(model, \n",
    "    agent -> agent.color == cl\"blue\" ? veclength(agent.vel) : 0.0, \n",
    "    labels = [\"Planet Speed/2\"], plot_result = true)   "
   ]
  },
  {
   "cell_type": "code",
   "execution_count": 15,
   "metadata": {},
   "outputs": [],
   "source": [
    "using Plots"
   ]
  },
  {
   "cell_type": "code",
   "execution_count": 23,
   "metadata": {},
   "outputs": [
    {
     "data": {
      "text/plain": [
       "501-element Vector{Float64}:\n",
       " 1.0\n",
       " 1.0001388792451666\n",
       " 1.0002777391868083\n",
       " 1.0004165411910686\n",
       " 1.0005552465919458\n",
       " 1.0006938167020984\n",
       " 1.0008322128237084\n",
       " 1.0009703962594048\n",
       " 1.0011083283232378\n",
       " 1.001245970351705\n",
       " 1.0013832837148262\n",
       " 1.0015202298272594\n",
       " 1.0016567701594605\n",
       " ⋮\n",
       " 1.0078869753795796\n",
       " 1.0078422436818173\n",
       " 1.0077952751849966\n",
       " 1.0077460838757752\n",
       " 1.0076946843964962\n",
       " 1.0076410920399694\n",
       " 1.0075853227440288\n",
       " 1.0075273930858688\n",
       " 1.007467320276165\n",
       " 1.007405122152979\n",
       " 1.0073408171754517\n",
       " 1.0072744244172906"
      ]
     },
     "execution_count": 23,
     "metadata": {},
     "output_type": "execute_result"
    }
   ],
   "source": [
    "vels = df[!,\"vel\"]\n",
    "vels1=[veclength(v) for v in vels]"
   ]
  },
  {
   "cell_type": "code",
   "execution_count": 24,
   "metadata": {},
   "outputs": [
    {
     "data": {
      "image/png": "[encoded data removed]",
      "image/svg+xml": [
       "<?xml version=\"1.0\" encoding=\"utf-8\"?>\n",
       "<svg xmlns=\"http://www.w3.org/2000/svg\" xmlns:xlink=\"http://www.w3.org/1999/xlink\" width=\"600\" height=\"400\" viewBox=\"0 0 2400 1600\">\n",
       "<defs>\n",
       "  <clipPath id=\"clip830\">\n",
       "    <rect x=\"0\" y=\"0\" width=\"2400\" height=\"1600\"/>\n",
       "  </clipPath>\n",
       "</defs>\n",
       "<path clip-path=\"url(#clip830)\" d=\"M0 1600 L2400 1600 L2400 0 L0 0  Z\" fill=\"#ffffff\" fill-rule=\"evenodd\" fill-opacity=\"1\"/>\n",
       "<defs>\n",
       "  <clipPath id=\"clip831\">\n",
       "    <rect x=\"480\" y=\"0\" width=\"1681\" height=\"1600\"/>\n",
       "  </clipPath>\n",
       "</defs>\n",
       "<path clip-path=\"url(#clip830)\" d=\"M246.598 1486.45 L2352.76 1486.45 L2352.76 47.2441 L246.598 47.2441  Z\" fill=\"#ffffff\" fill-rule=\"evenodd\" fill-opacity=\"1\"/>\n",
       "<defs>\n",
       "  <clipPath id=\"clip832\">\n",
       "    <rect x=\"246\" y=\"47\" width=\"2107\" height=\"1440\"/>\n",
       "  </clipPath>\n",
       "</defs>\n",
       "<polyline clip-path=\"url(#clip832)\" style=\"stroke:#000000; stroke-linecap:round; stroke-linejoin:round; stroke-width:2; stroke-opacity:0.1; fill:none\" points=\"302.232,1486.45 302.232,47.2441 \"/>\n",
       "<polyline clip-path=\"url(#clip832)\" style=\"stroke:#000000; stroke-linecap:round; stroke-linejoin:round; stroke-width:2; stroke-opacity:0.1; fill:none\" points=\"699.62,1486.45 699.62,47.2441 \"/>\n",
       "<polyline clip-path=\"url(#clip832)\" style=\"stroke:#000000; stroke-linecap:round; stroke-linejoin:round; stroke-width:2; stroke-opacity:0.1; fill:none\" points=\"1097.01,1486.45 1097.01,47.2441 \"/>\n",
       "<polyline clip-path=\"url(#clip832)\" style=\"stroke:#000000; stroke-linecap:round; stroke-linejoin:round; stroke-width:2; stroke-opacity:0.1; fill:none\" points=\"1494.4,1486.45 1494.4,47.2441 \"/>\n",
       "<polyline clip-path=\"url(#clip832)\" style=\"stroke:#000000; stroke-linecap:round; stroke-linejoin:round; stroke-width:2; stroke-opacity:0.1; fill:none\" points=\"1891.79,1486.45 1891.79,47.2441 \"/>\n",
       "<polyline clip-path=\"url(#clip832)\" style=\"stroke:#000000; stroke-linecap:round; stroke-linejoin:round; stroke-width:2; stroke-opacity:0.1; fill:none\" points=\"2289.17,1486.45 2289.17,47.2441 \"/>\n",
       "<polyline clip-path=\"url(#clip830)\" style=\"stroke:#000000; stroke-linecap:round; stroke-linejoin:round; stroke-width:4; stroke-opacity:1; fill:none\" points=\"246.598,1486.45 2352.76,1486.45 \"/>\n",
       "<polyline clip-path=\"url(#clip830)\" style=\"stroke:#000000; stroke-linecap:round; stroke-linejoin:round; stroke-width:4; stroke-opacity:1; fill:none\" points=\"302.232,1486.45 302.232,1467.55 \"/>\n",
       "<polyline clip-path=\"url(#clip830)\" style=\"stroke:#000000; stroke-linecap:round; stroke-linejoin:round; stroke-width:4; stroke-opacity:1; fill:none\" points=\"699.62,1486.45 699.62,1467.55 \"/>\n",
       "<polyline clip-path=\"url(#clip830)\" style=\"stroke:#000000; stroke-linecap:round; stroke-linejoin:round; stroke-width:4; stroke-opacity:1; fill:none\" points=\"1097.01,1486.45 1097.01,1467.55 \"/>\n",
       "<polyline clip-path=\"url(#clip830)\" style=\"stroke:#000000; stroke-linecap:round; stroke-linejoin:round; stroke-width:4; stroke-opacity:1; fill:none\" points=\"1494.4,1486.45 1494.4,1467.55 \"/>\n",
       "<polyline clip-path=\"url(#clip830)\" style=\"stroke:#000000; stroke-linecap:round; stroke-linejoin:round; stroke-width:4; stroke-opacity:1; fill:none\" points=\"1891.79,1486.45 1891.79,1467.55 \"/>\n",
       "<polyline clip-path=\"url(#clip830)\" style=\"stroke:#000000; stroke-linecap:round; stroke-linejoin:round; stroke-width:4; stroke-opacity:1; fill:none\" points=\"2289.17,1486.45 2289.17,1467.55 \"/>\n",
       "<path clip-path=\"url(#clip830)\" d=\"M302.232 1517.37 Q298.621 1517.37 296.792 1520.93 Q294.987 1524.47 294.987 1531.6 Q294.987 1538.71 296.792 1542.27 Q298.621 1545.82 302.232 1545.82 Q305.866 1545.82 307.672 1542.27 Q309.501 1538.71 309.501 1531.6 Q309.501 1524.47 307.672 1520.93 Q305.866 1517.37 302.232 1517.37 M302.232 1513.66 Q308.042 1513.66 311.098 1518.27 Q314.176 1522.85 314.176 1531.6 Q314.176 1540.33 311.098 1544.94 Q308.042 1549.52 302.232 1549.52 Q296.422 1549.52 293.343 1544.94 Q290.288 1540.33 290.288 1531.6 Q290.288 1522.85 293.343 1518.27 Q296.422 1513.66 302.232 1513.66 Z\" fill=\"#000000\" fill-rule=\"nonzero\" fill-opacity=\"1\" /><path clip-path=\"url(#clip830)\" d=\"M659.227 1544.91 L666.866 1544.91 L666.866 1518.55 L658.556 1520.21 L658.556 1515.95 L666.82 1514.29 L671.496 1514.29 L671.496 1544.91 L679.134 1544.91 L679.134 1548.85 L659.227 1548.85 L659.227 1544.91 Z\" fill=\"#000000\" fill-rule=\"nonzero\" fill-opacity=\"1\" /><path clip-path=\"url(#clip830)\" d=\"M698.579 1517.37 Q694.968 1517.37 693.139 1520.93 Q691.333 1524.47 691.333 1531.6 Q691.333 1538.71 693.139 1542.27 Q694.968 1545.82 698.579 1545.82 Q702.213 1545.82 704.019 1542.27 Q705.847 1538.71 705.847 1531.6 Q705.847 1524.47 704.019 1520.93 Q702.213 1517.37 698.579 1517.37 M698.579 1513.66 Q704.389 1513.66 707.444 1518.27 Q710.523 1522.85 710.523 1531.6 Q710.523 1540.33 707.444 1544.94 Q704.389 1549.52 698.579 1549.52 Q692.769 1549.52 689.69 1544.94 Q686.634 1540.33 686.634 1531.6 Q686.634 1522.85 689.69 1518.27 Q692.769 1513.66 698.579 1513.66 Z\" fill=\"#000000\" fill-rule=\"nonzero\" fill-opacity=\"1\" /><path clip-path=\"url(#clip830)\" d=\"M728.741 1517.37 Q725.13 1517.37 723.301 1520.93 Q721.495 1524.47 721.495 1531.6 Q721.495 1538.71 723.301 1542.27 Q725.13 1545.82 728.741 1545.82 Q732.375 1545.82 734.18 1542.27 Q736.009 1538.71 736.009 1531.6 Q736.009 1524.47 734.18 1520.93 Q732.375 1517.37 728.741 1517.37 M728.741 1513.66 Q734.551 1513.66 737.606 1518.27 Q740.685 1522.85 740.685 1531.6 Q740.685 1540.33 737.606 1544.94 Q734.551 1549.52 728.741 1549.52 Q722.931 1549.52 719.852 1544.94 Q716.796 1540.33 716.796 1531.6 Q716.796 1522.85 719.852 1518.27 Q722.931 1513.66 728.741 1513.66 Z\" fill=\"#000000\" fill-rule=\"nonzero\" fill-opacity=\"1\" /><path clip-path=\"url(#clip830)\" d=\"M1060.7 1544.91 L1077.02 1544.91 L1077.02 1548.85 L1055.08 1548.85 L1055.08 1544.91 Q1057.74 1542.16 1062.32 1537.53 Q1066.93 1532.88 1068.11 1531.53 Q1070.35 1529.01 1071.23 1527.27 Q1072.14 1525.51 1072.14 1523.82 Q1072.14 1521.07 1070.19 1519.33 Q1068.27 1517.6 1065.17 1517.6 Q1062.97 1517.6 1060.52 1518.36 Q1058.09 1519.13 1055.31 1520.68 L1055.31 1515.95 Q1058.13 1514.82 1060.59 1514.24 Q1063.04 1513.66 1065.08 1513.66 Q1070.45 1513.66 1073.64 1516.35 Q1076.84 1519.03 1076.84 1523.52 Q1076.84 1525.65 1076.03 1527.57 Q1075.24 1529.47 1073.13 1532.07 Q1072.55 1532.74 1069.45 1535.95 Q1066.35 1539.15 1060.7 1544.91 Z\" fill=\"#000000\" fill-rule=\"nonzero\" fill-opacity=\"1\" /><path clip-path=\"url(#clip830)\" d=\"M1096.84 1517.37 Q1093.22 1517.37 1091.4 1520.93 Q1089.59 1524.47 1089.59 1531.6 Q1089.59 1538.71 1091.4 1542.27 Q1093.22 1545.82 1096.84 1545.82 Q1100.47 1545.82 1102.27 1542.27 Q1104.1 1538.71 1104.1 1531.6 Q1104.1 1524.47 1102.27 1520.93 Q1100.47 1517.37 1096.84 1517.37 M1096.84 1513.66 Q1102.65 1513.66 1105.7 1518.27 Q1108.78 1522.85 1108.78 1531.6 Q1108.78 1540.33 1105.7 1544.94 Q1102.65 1549.52 1096.84 1549.52 Q1091.03 1549.52 1087.95 1544.94 Q1084.89 1540.33 1084.89 1531.6 Q1084.89 1522.85 1087.95 1518.27 Q1091.03 1513.66 1096.84 1513.66 Z\" fill=\"#000000\" fill-rule=\"nonzero\" fill-opacity=\"1\" /><path clip-path=\"url(#clip830)\" d=\"M1127 1517.37 Q1123.39 1517.37 1121.56 1520.93 Q1119.75 1524.47 1119.75 1531.6 Q1119.75 1538.71 1121.56 1542.27 Q1123.39 1545.82 1127 1545.82 Q1130.63 1545.82 1132.44 1542.27 Q1134.27 1538.71 1134.27 1531.6 Q1134.27 1524.47 1132.44 1520.93 Q1130.63 1517.37 1127 1517.37 M1127 1513.66 Q1132.81 1513.66 1135.86 1518.27 Q1138.94 1522.85 1138.94 1531.6 Q1138.94 1540.33 1135.86 1544.94 Q1132.81 1549.52 1127 1549.52 Q1121.19 1549.52 1118.11 1544.94 Q1115.05 1540.33 1115.05 1531.6 Q1115.05 1522.85 1118.11 1518.27 Q1121.19 1513.66 1127 1513.66 Z\" fill=\"#000000\" fill-rule=\"nonzero\" fill-opacity=\"1\" /><path clip-path=\"url(#clip830)\" d=\"M1468.16 1530.21 Q1471.52 1530.93 1473.39 1533.2 Q1475.29 1535.47 1475.29 1538.8 Q1475.29 1543.92 1471.77 1546.72 Q1468.25 1549.52 1461.77 1549.52 Q1459.59 1549.52 1457.28 1549.08 Q1454.99 1548.66 1452.53 1547.81 L1452.53 1543.29 Q1454.48 1544.43 1456.79 1545.01 Q1459.11 1545.58 1461.63 1545.58 Q1466.03 1545.58 1468.32 1543.85 Q1470.64 1542.11 1470.64 1538.8 Q1470.64 1535.75 1468.48 1534.03 Q1466.35 1532.3 1462.53 1532.3 L1458.51 1532.3 L1458.51 1528.45 L1462.72 1528.45 Q1466.17 1528.45 1468 1527.09 Q1469.83 1525.7 1469.83 1523.11 Q1469.83 1520.45 1467.93 1519.03 Q1466.05 1517.6 1462.53 1517.6 Q1460.61 1517.6 1458.41 1518.01 Q1456.21 1518.43 1453.58 1519.31 L1453.58 1515.14 Q1456.24 1514.4 1458.55 1514.03 Q1460.89 1513.66 1462.95 1513.66 Q1468.27 1513.66 1471.38 1516.09 Q1474.48 1518.5 1474.48 1522.62 Q1474.48 1525.49 1472.83 1527.48 Q1471.19 1529.45 1468.16 1530.21 Z\" fill=\"#000000\" fill-rule=\"nonzero\" fill-opacity=\"1\" /><path clip-path=\"url(#clip830)\" d=\"M1494.15 1517.37 Q1490.54 1517.37 1488.71 1520.93 Q1486.91 1524.47 1486.91 1531.6 Q1486.91 1538.71 1488.71 1542.27 Q1490.54 1545.82 1494.15 1545.82 Q1497.79 1545.82 1499.59 1542.27 Q1501.42 1538.71 1501.42 1531.6 Q1501.42 1524.47 1499.59 1520.93 Q1497.79 1517.37 1494.15 1517.37 M1494.15 1513.66 Q1499.96 1513.66 1503.02 1518.27 Q1506.1 1522.85 1506.1 1531.6 Q1506.1 1540.33 1503.02 1544.94 Q1499.96 1549.52 1494.15 1549.52 Q1488.34 1549.52 1485.27 1544.94 Q1482.21 1540.33 1482.21 1531.6 Q1482.21 1522.85 1485.27 1518.27 Q1488.34 1513.66 1494.15 1513.66 Z\" fill=\"#000000\" fill-rule=\"nonzero\" fill-opacity=\"1\" /><path clip-path=\"url(#clip830)\" d=\"M1524.32 1517.37 Q1520.7 1517.37 1518.88 1520.93 Q1517.07 1524.47 1517.07 1531.6 Q1517.07 1538.71 1518.88 1542.27 Q1520.7 1545.82 1524.32 1545.82 Q1527.95 1545.82 1529.76 1542.27 Q1531.58 1538.71 1531.58 1531.6 Q1531.58 1524.47 1529.76 1520.93 Q1527.95 1517.37 1524.32 1517.37 M1524.32 1513.66 Q1530.13 1513.66 1533.18 1518.27 Q1536.26 1522.85 1536.26 1531.6 Q1536.26 1540.33 1533.18 1544.94 Q1530.13 1549.52 1524.32 1549.52 Q1518.51 1549.52 1515.43 1544.94 Q1512.37 1540.33 1512.37 1531.6 Q1512.37 1522.85 1515.43 1518.27 Q1518.51 1513.66 1524.32 1513.66 Z\" fill=\"#000000\" fill-rule=\"nonzero\" fill-opacity=\"1\" /><path clip-path=\"url(#clip830)\" d=\"M1864.88 1518.36 L1853.07 1536.81 L1864.88 1536.81 L1864.88 1518.36 M1863.65 1514.29 L1869.53 1514.29 L1869.53 1536.81 L1874.46 1536.81 L1874.46 1540.7 L1869.53 1540.7 L1869.53 1548.85 L1864.88 1548.85 L1864.88 1540.7 L1849.27 1540.7 L1849.27 1536.19 L1863.65 1514.29 Z\" fill=\"#000000\" fill-rule=\"nonzero\" fill-opacity=\"1\" /><path clip-path=\"url(#clip830)\" d=\"M1892.19 1517.37 Q1888.58 1517.37 1886.75 1520.93 Q1884.95 1524.47 1884.95 1531.6 Q1884.95 1538.71 1886.75 1542.27 Q1888.58 1545.82 1892.19 1545.82 Q1895.82 1545.82 1897.63 1542.27 Q1899.46 1538.71 1899.46 1531.6 Q1899.46 1524.47 1897.63 1520.93 Q1895.82 1517.37 1892.19 1517.37 M1892.19 1513.66 Q1898 1513.66 1901.06 1518.27 Q1904.13 1522.85 1904.13 1531.6 Q1904.13 1540.33 1901.06 1544.94 Q1898 1549.52 1892.19 1549.52 Q1886.38 1549.52 1883.3 1544.94 Q1880.25 1540.33 1880.25 1531.6 Q1880.25 1522.85 1883.3 1518.27 Q1886.38 1513.66 1892.19 1513.66 Z\" fill=\"#000000\" fill-rule=\"nonzero\" fill-opacity=\"1\" /><path clip-path=\"url(#clip830)\" d=\"M1922.35 1517.37 Q1918.74 1517.37 1916.91 1520.93 Q1915.11 1524.47 1915.11 1531.6 Q1915.11 1538.71 1916.91 1542.27 Q1918.74 1545.82 1922.35 1545.82 Q1925.99 1545.82 1927.79 1542.27 Q1929.62 1538.71 1929.62 1531.6 Q1929.62 1524.47 1927.79 1520.93 Q1925.99 1517.37 1922.35 1517.37 M1922.35 1513.66 Q1928.16 1513.66 1931.22 1518.27 Q1934.3 1522.85 1934.3 1531.6 Q1934.3 1540.33 1931.22 1544.94 Q1928.16 1549.52 1922.35 1549.52 Q1916.54 1549.52 1913.46 1544.94 Q1910.41 1540.33 1910.41 1531.6 Q1910.41 1522.85 1913.46 1518.27 Q1916.54 1513.66 1922.35 1513.66 Z\" fill=\"#000000\" fill-rule=\"nonzero\" fill-opacity=\"1\" /><path clip-path=\"url(#clip830)\" d=\"M2248.79 1514.29 L2267.15 1514.29 L2267.15 1518.22 L2253.07 1518.22 L2253.07 1526.7 Q2254.09 1526.35 2255.11 1526.19 Q2256.13 1526 2257.15 1526 Q2262.94 1526 2266.32 1529.17 Q2269.69 1532.34 2269.69 1537.76 Q2269.69 1543.34 2266.22 1546.44 Q2262.75 1549.52 2256.43 1549.52 Q2254.25 1549.52 2251.99 1549.15 Q2249.74 1548.78 2247.33 1548.04 L2247.33 1543.34 Q2249.42 1544.47 2251.64 1545.03 Q2253.86 1545.58 2256.34 1545.58 Q2260.34 1545.58 2262.68 1543.48 Q2265.02 1541.37 2265.02 1537.76 Q2265.02 1534.15 2262.68 1532.04 Q2260.34 1529.94 2256.34 1529.94 Q2254.46 1529.94 2252.59 1530.35 Q2250.74 1530.77 2248.79 1531.65 L2248.79 1514.29 Z\" fill=\"#000000\" fill-rule=\"nonzero\" fill-opacity=\"1\" /><path clip-path=\"url(#clip830)\" d=\"M2288.91 1517.37 Q2285.3 1517.37 2283.47 1520.93 Q2281.66 1524.47 2281.66 1531.6 Q2281.66 1538.71 2283.47 1542.27 Q2285.3 1545.82 2288.91 1545.82 Q2292.54 1545.82 2294.35 1542.27 Q2296.18 1538.71 2296.18 1531.6 Q2296.18 1524.47 2294.35 1520.93 Q2292.54 1517.37 2288.91 1517.37 M2288.91 1513.66 Q2294.72 1513.66 2297.77 1518.27 Q2300.85 1522.85 2300.85 1531.6 Q2300.85 1540.33 2297.77 1544.94 Q2294.72 1549.52 2288.91 1549.52 Q2283.1 1549.52 2280.02 1544.94 Q2276.96 1540.33 2276.96 1531.6 Q2276.96 1522.85 2280.02 1518.27 Q2283.1 1513.66 2288.91 1513.66 Z\" fill=\"#000000\" fill-rule=\"nonzero\" fill-opacity=\"1\" /><path clip-path=\"url(#clip830)\" d=\"M2319.07 1517.37 Q2315.46 1517.37 2313.63 1520.93 Q2311.82 1524.47 2311.82 1531.6 Q2311.82 1538.71 2313.63 1542.27 Q2315.46 1545.82 2319.07 1545.82 Q2322.7 1545.82 2324.51 1542.27 Q2326.34 1538.71 2326.34 1531.6 Q2326.34 1524.47 2324.51 1520.93 Q2322.7 1517.37 2319.07 1517.37 M2319.07 1513.66 Q2324.88 1513.66 2327.94 1518.27 Q2331.01 1522.85 2331.01 1531.6 Q2331.01 1540.33 2327.94 1544.94 Q2324.88 1549.52 2319.07 1549.52 Q2313.26 1549.52 2310.18 1544.94 Q2307.13 1540.33 2307.13 1531.6 Q2307.13 1522.85 2310.18 1518.27 Q2313.26 1513.66 2319.07 1513.66 Z\" fill=\"#000000\" fill-rule=\"nonzero\" fill-opacity=\"1\" /><polyline clip-path=\"url(#clip832)\" style=\"stroke:#000000; stroke-linecap:round; stroke-linejoin:round; stroke-width:2; stroke-opacity:0.1; fill:none\" points=\"246.598,1375.03 2352.76,1375.03 \"/>\n",
       "<polyline clip-path=\"url(#clip832)\" style=\"stroke:#000000; stroke-linecap:round; stroke-linejoin:round; stroke-width:2; stroke-opacity:0.1; fill:none\" points=\"246.598,1171.36 2352.76,1171.36 \"/>\n",
       "<polyline clip-path=\"url(#clip832)\" style=\"stroke:#000000; stroke-linecap:round; stroke-linejoin:round; stroke-width:2; stroke-opacity:0.1; fill:none\" points=\"246.598,967.687 2352.76,967.687 \"/>\n",
       "<polyline clip-path=\"url(#clip832)\" style=\"stroke:#000000; stroke-linecap:round; stroke-linejoin:round; stroke-width:2; stroke-opacity:0.1; fill:none\" points=\"246.598,764.017 2352.76,764.017 \"/>\n",
       "<polyline clip-path=\"url(#clip832)\" style=\"stroke:#000000; stroke-linecap:round; stroke-linejoin:round; stroke-width:2; stroke-opacity:0.1; fill:none\" points=\"246.598,560.347 2352.76,560.347 \"/>\n",
       "<polyline clip-path=\"url(#clip832)\" style=\"stroke:#000000; stroke-linecap:round; stroke-linejoin:round; stroke-width:2; stroke-opacity:0.1; fill:none\" points=\"246.598,356.678 2352.76,356.678 \"/>\n",
       "<polyline clip-path=\"url(#clip832)\" style=\"stroke:#000000; stroke-linecap:round; stroke-linejoin:round; stroke-width:2; stroke-opacity:0.1; fill:none\" points=\"246.598,153.008 2352.76,153.008 \"/>\n",
       "<polyline clip-path=\"url(#clip830)\" style=\"stroke:#000000; stroke-linecap:round; stroke-linejoin:round; stroke-width:4; stroke-opacity:1; fill:none\" points=\"246.598,1486.45 246.598,47.2441 \"/>\n",
       "<polyline clip-path=\"url(#clip830)\" style=\"stroke:#000000; stroke-linecap:round; stroke-linejoin:round; stroke-width:4; stroke-opacity:1; fill:none\" points=\"246.598,1375.03 265.495,1375.03 \"/>\n",
       "<polyline clip-path=\"url(#clip830)\" style=\"stroke:#000000; stroke-linecap:round; stroke-linejoin:round; stroke-width:4; stroke-opacity:1; fill:none\" points=\"246.598,1171.36 265.495,1171.36 \"/>\n",
       "<polyline clip-path=\"url(#clip830)\" style=\"stroke:#000000; stroke-linecap:round; stroke-linejoin:round; stroke-width:4; stroke-opacity:1; fill:none\" points=\"246.598,967.687 265.495,967.687 \"/>\n",
       "<polyline clip-path=\"url(#clip830)\" style=\"stroke:#000000; stroke-linecap:round; stroke-linejoin:round; stroke-width:4; stroke-opacity:1; fill:none\" points=\"246.598,764.017 265.495,764.017 \"/>\n",
       "<polyline clip-path=\"url(#clip830)\" style=\"stroke:#000000; stroke-linecap:round; stroke-linejoin:round; stroke-width:4; stroke-opacity:1; fill:none\" points=\"246.598,560.347 265.495,560.347 \"/>\n",
       "<polyline clip-path=\"url(#clip830)\" style=\"stroke:#000000; stroke-linecap:round; stroke-linejoin:round; stroke-width:4; stroke-opacity:1; fill:none\" points=\"246.598,356.678 265.495,356.678 \"/>\n",
       "<polyline clip-path=\"url(#clip830)\" style=\"stroke:#000000; stroke-linecap:round; stroke-linejoin:round; stroke-width:4; stroke-opacity:1; fill:none\" points=\"246.598,153.008 265.495,153.008 \"/>\n",
       "<path clip-path=\"url(#clip830)\" d=\"M63.9319 1360.82 Q60.3208 1360.82 58.4921 1364.39 Q56.6865 1367.93 56.6865 1375.06 Q56.6865 1382.17 58.4921 1385.73 Q60.3208 1389.27 63.9319 1389.27 Q67.5661 1389.27 69.3717 1385.73 Q71.2004 1382.17 71.2004 1375.06 Q71.2004 1367.93 69.3717 1364.39 Q67.5661 1360.82 63.9319 1360.82 M63.9319 1357.12 Q69.742 1357.12 72.7976 1361.73 Q75.8763 1366.31 75.8763 1375.06 Q75.8763 1383.79 72.7976 1388.39 Q69.742 1392.98 63.9319 1392.98 Q58.1217 1392.98 55.043 1388.39 Q51.9875 1383.79 51.9875 1375.06 Q51.9875 1366.31 55.043 1361.73 Q58.1217 1357.12 63.9319 1357.12 Z\" fill=\"#000000\" fill-rule=\"nonzero\" fill-opacity=\"1\" /><path clip-path=\"url(#clip830)\" d=\"M84.0938 1386.43 L88.978 1386.43 L88.978 1392.31 L84.0938 1392.31 L84.0938 1386.43 Z\" fill=\"#000000\" fill-rule=\"nonzero\" fill-opacity=\"1\" /><path clip-path=\"url(#clip830)\" d=\"M99.3021 1391.59 L99.3021 1387.33 Q101.061 1388.16 102.867 1388.6 Q104.672 1389.04 106.408 1389.04 Q111.038 1389.04 113.469 1385.94 Q115.922 1382.82 116.27 1376.47 Q114.927 1378.46 112.867 1379.53 Q110.807 1380.59 108.307 1380.59 Q103.121 1380.59 100.089 1377.47 Q97.0798 1374.32 97.0798 1368.88 Q97.0798 1363.56 100.228 1360.34 Q103.376 1357.12 108.608 1357.12 Q114.603 1357.12 117.751 1361.73 Q120.922 1366.31 120.922 1375.06 Q120.922 1383.23 117.033 1388.12 Q113.168 1392.98 106.617 1392.98 Q104.858 1392.98 103.052 1392.63 Q101.246 1392.28 99.3021 1391.59 M108.608 1376.94 Q111.756 1376.94 113.584 1374.78 Q115.436 1372.63 115.436 1368.88 Q115.436 1365.15 113.584 1363 Q111.756 1360.82 108.608 1360.82 Q105.459 1360.82 103.608 1363 Q101.779 1365.15 101.779 1368.88 Q101.779 1372.63 103.608 1374.78 Q105.459 1376.94 108.608 1376.94 Z\" fill=\"#000000\" fill-rule=\"nonzero\" fill-opacity=\"1\" /><path clip-path=\"url(#clip830)\" d=\"M129.464 1391.59 L129.464 1387.33 Q131.223 1388.16 133.029 1388.6 Q134.834 1389.04 136.57 1389.04 Q141.2 1389.04 143.631 1385.94 Q146.084 1382.82 146.431 1376.47 Q145.089 1378.46 143.029 1379.53 Q140.968 1380.59 138.469 1380.59 Q133.283 1380.59 130.251 1377.47 Q127.242 1374.32 127.242 1368.88 Q127.242 1363.56 130.39 1360.34 Q133.538 1357.12 138.769 1357.12 Q144.765 1357.12 147.913 1361.73 Q151.084 1366.31 151.084 1375.06 Q151.084 1383.23 147.195 1388.12 Q143.33 1392.98 136.779 1392.98 Q135.019 1392.98 133.214 1392.63 Q131.408 1392.28 129.464 1391.59 M138.769 1376.94 Q141.918 1376.94 143.746 1374.78 Q145.598 1372.63 145.598 1368.88 Q145.598 1365.15 143.746 1363 Q141.918 1360.82 138.769 1360.82 Q135.621 1360.82 133.769 1363 Q131.941 1365.15 131.941 1368.88 Q131.941 1372.63 133.769 1374.78 Q135.621 1376.94 138.769 1376.94 Z\" fill=\"#000000\" fill-rule=\"nonzero\" fill-opacity=\"1\" /><path clip-path=\"url(#clip830)\" d=\"M163.515 1388.37 L179.834 1388.37 L179.834 1392.31 L157.89 1392.31 L157.89 1388.37 Q160.552 1385.62 165.135 1380.99 Q169.741 1376.33 170.922 1374.99 Q173.167 1372.47 174.047 1370.73 Q174.95 1368.97 174.95 1367.28 Q174.95 1364.53 173.005 1362.79 Q171.084 1361.06 167.982 1361.06 Q165.783 1361.06 163.329 1361.82 Q160.899 1362.58 158.121 1364.13 L158.121 1359.41 Q160.945 1358.28 163.399 1357.7 Q165.853 1357.12 167.89 1357.12 Q173.26 1357.12 176.454 1359.81 Q179.649 1362.49 179.649 1366.98 Q179.649 1369.11 178.839 1371.03 Q178.052 1372.93 175.945 1375.52 Q175.366 1376.19 172.265 1379.41 Q169.163 1382.61 163.515 1388.37 Z\" fill=\"#000000\" fill-rule=\"nonzero\" fill-opacity=\"1\" /><path clip-path=\"url(#clip830)\" d=\"M189.695 1357.75 L208.051 1357.75 L208.051 1361.68 L193.977 1361.68 L193.977 1370.15 Q194.996 1369.81 196.014 1369.64 Q197.033 1369.46 198.052 1369.46 Q203.839 1369.46 207.218 1372.63 Q210.598 1375.8 210.598 1381.22 Q210.598 1386.8 207.126 1389.9 Q203.653 1392.98 197.334 1392.98 Q195.158 1392.98 192.89 1392.61 Q190.644 1392.24 188.237 1391.5 L188.237 1386.8 Q190.32 1387.93 192.542 1388.49 Q194.765 1389.04 197.241 1389.04 Q201.246 1389.04 203.584 1386.94 Q205.922 1384.83 205.922 1381.22 Q205.922 1377.61 203.584 1375.5 Q201.246 1373.39 197.241 1373.39 Q195.366 1373.39 193.491 1373.81 Q191.64 1374.23 189.695 1375.11 L189.695 1357.75 Z\" fill=\"#000000\" fill-rule=\"nonzero\" fill-opacity=\"1\" /><path clip-path=\"url(#clip830)\" d=\"M62.9365 1157.15 Q59.3254 1157.15 57.4967 1160.72 Q55.6912 1164.26 55.6912 1171.39 Q55.6912 1178.5 57.4967 1182.06 Q59.3254 1185.6 62.9365 1185.6 Q66.5707 1185.6 68.3763 1182.06 Q70.205 1178.5 70.205 1171.39 Q70.205 1164.26 68.3763 1160.72 Q66.5707 1157.15 62.9365 1157.15 M62.9365 1153.45 Q68.7467 1153.45 71.8022 1158.06 Q74.8809 1162.64 74.8809 1171.39 Q74.8809 1180.12 71.8022 1184.72 Q68.7467 1189.31 62.9365 1189.31 Q57.1264 1189.31 54.0477 1184.72 Q50.9921 1180.12 50.9921 1171.39 Q50.9921 1162.64 54.0477 1158.06 Q57.1264 1153.45 62.9365 1153.45 Z\" fill=\"#000000\" fill-rule=\"nonzero\" fill-opacity=\"1\" /><path clip-path=\"url(#clip830)\" d=\"M83.0984 1182.76 L87.9827 1182.76 L87.9827 1188.64 L83.0984 1188.64 L83.0984 1182.76 Z\" fill=\"#000000\" fill-rule=\"nonzero\" fill-opacity=\"1\" /><path clip-path=\"url(#clip830)\" d=\"M98.3067 1187.92 L98.3067 1183.66 Q100.066 1184.49 101.871 1184.93 Q103.677 1185.37 105.413 1185.37 Q110.043 1185.37 112.473 1182.27 Q114.927 1179.15 115.274 1172.8 Q113.932 1174.79 111.871 1175.86 Q109.811 1176.92 107.311 1176.92 Q102.126 1176.92 99.0937 1173.8 Q96.0845 1170.65 96.0845 1165.21 Q96.0845 1159.89 99.2326 1156.67 Q102.381 1153.45 107.612 1153.45 Q113.608 1153.45 116.756 1158.06 Q119.927 1162.64 119.927 1171.39 Q119.927 1179.56 116.038 1184.45 Q112.172 1189.31 105.621 1189.31 Q103.862 1189.31 102.057 1188.96 Q100.251 1188.61 98.3067 1187.92 M107.612 1173.27 Q110.76 1173.27 112.589 1171.11 Q114.441 1168.96 114.441 1165.21 Q114.441 1161.48 112.589 1159.33 Q110.76 1157.15 107.612 1157.15 Q104.464 1157.15 102.612 1159.33 Q100.784 1161.48 100.784 1165.21 Q100.784 1168.96 102.612 1171.11 Q104.464 1173.27 107.612 1173.27 Z\" fill=\"#000000\" fill-rule=\"nonzero\" fill-opacity=\"1\" /><path clip-path=\"url(#clip830)\" d=\"M128.469 1187.92 L128.469 1183.66 Q130.228 1184.49 132.033 1184.93 Q133.839 1185.37 135.575 1185.37 Q140.205 1185.37 142.635 1182.27 Q145.089 1179.15 145.436 1172.8 Q144.093 1174.79 142.033 1175.86 Q139.973 1176.92 137.473 1176.92 Q132.288 1176.92 129.256 1173.8 Q126.246 1170.65 126.246 1165.21 Q126.246 1159.89 129.394 1156.67 Q132.543 1153.45 137.774 1153.45 Q143.769 1153.45 146.918 1158.06 Q150.089 1162.64 150.089 1171.39 Q150.089 1179.56 146.2 1184.45 Q142.334 1189.31 135.783 1189.31 Q134.024 1189.31 132.219 1188.96 Q130.413 1188.61 128.469 1187.92 M137.774 1173.27 Q140.922 1173.27 142.751 1171.11 Q144.603 1168.96 144.603 1165.21 Q144.603 1161.48 142.751 1159.33 Q140.922 1157.15 137.774 1157.15 Q134.626 1157.15 132.774 1159.33 Q130.945 1161.48 130.945 1165.21 Q130.945 1168.96 132.774 1171.11 Q134.626 1173.27 137.774 1173.27 Z\" fill=\"#000000\" fill-rule=\"nonzero\" fill-opacity=\"1\" /><path clip-path=\"url(#clip830)\" d=\"M158.538 1154.08 L176.894 1154.08 L176.894 1158.01 L162.82 1158.01 L162.82 1166.48 Q163.839 1166.14 164.857 1165.97 Q165.876 1165.79 166.894 1165.79 Q172.681 1165.79 176.061 1168.96 Q179.441 1172.13 179.441 1177.55 Q179.441 1183.13 175.968 1186.23 Q172.496 1189.31 166.177 1189.31 Q164.001 1189.31 161.732 1188.94 Q159.487 1188.57 157.08 1187.83 L157.08 1183.13 Q159.163 1184.26 161.385 1184.82 Q163.607 1185.37 166.084 1185.37 Q170.089 1185.37 172.427 1183.27 Q174.765 1181.16 174.765 1177.55 Q174.765 1173.94 172.427 1171.83 Q170.089 1169.72 166.084 1169.72 Q164.209 1169.72 162.334 1170.14 Q160.482 1170.56 158.538 1171.44 L158.538 1154.08 Z\" fill=\"#000000\" fill-rule=\"nonzero\" fill-opacity=\"1\" /><path clip-path=\"url(#clip830)\" d=\"M198.653 1157.15 Q195.042 1157.15 193.214 1160.72 Q191.408 1164.26 191.408 1171.39 Q191.408 1178.5 193.214 1182.06 Q195.042 1185.6 198.653 1185.6 Q202.288 1185.6 204.093 1182.06 Q205.922 1178.5 205.922 1171.39 Q205.922 1164.26 204.093 1160.72 Q202.288 1157.15 198.653 1157.15 M198.653 1153.45 Q204.464 1153.45 207.519 1158.06 Q210.598 1162.64 210.598 1171.39 Q210.598 1180.12 207.519 1184.72 Q204.464 1189.31 198.653 1189.31 Q192.843 1189.31 189.765 1184.72 Q186.709 1180.12 186.709 1171.39 Q186.709 1162.64 189.765 1158.06 Q192.843 1153.45 198.653 1153.45 Z\" fill=\"#000000\" fill-rule=\"nonzero\" fill-opacity=\"1\" /><path clip-path=\"url(#clip830)\" d=\"M63.9319 953.485 Q60.3208 953.485 58.4921 957.05 Q56.6865 960.592 56.6865 967.721 Q56.6865 974.828 58.4921 978.392 Q60.3208 981.934 63.9319 981.934 Q67.5661 981.934 69.3717 978.392 Q71.2004 974.828 71.2004 967.721 Q71.2004 960.592 69.3717 957.05 Q67.5661 953.485 63.9319 953.485 M63.9319 949.782 Q69.742 949.782 72.7976 954.388 Q75.8763 958.971 75.8763 967.721 Q75.8763 976.448 72.7976 981.055 Q69.742 985.638 63.9319 985.638 Q58.1217 985.638 55.043 981.055 Q51.9875 976.448 51.9875 967.721 Q51.9875 958.971 55.043 954.388 Q58.1217 949.782 63.9319 949.782 Z\" fill=\"#000000\" fill-rule=\"nonzero\" fill-opacity=\"1\" /><path clip-path=\"url(#clip830)\" d=\"M84.0938 979.087 L88.978 979.087 L88.978 984.967 L84.0938 984.967 L84.0938 979.087 Z\" fill=\"#000000\" fill-rule=\"nonzero\" fill-opacity=\"1\" /><path clip-path=\"url(#clip830)\" d=\"M99.3021 984.249 L99.3021 979.99 Q101.061 980.823 102.867 981.263 Q104.672 981.703 106.408 981.703 Q111.038 981.703 113.469 978.601 Q115.922 975.476 116.27 969.133 Q114.927 971.124 112.867 972.189 Q110.807 973.254 108.307 973.254 Q103.121 973.254 100.089 970.129 Q97.0798 966.981 97.0798 961.541 Q97.0798 956.217 100.228 952.999 Q103.376 949.782 108.608 949.782 Q114.603 949.782 117.751 954.388 Q120.922 958.971 120.922 967.721 Q120.922 975.892 117.033 980.777 Q113.168 985.638 106.617 985.638 Q104.858 985.638 103.052 985.291 Q101.246 984.943 99.3021 984.249 M108.608 969.596 Q111.756 969.596 113.584 967.443 Q115.436 965.291 115.436 961.541 Q115.436 957.814 113.584 955.661 Q111.756 953.485 108.608 953.485 Q105.459 953.485 103.608 955.661 Q101.779 957.814 101.779 961.541 Q101.779 965.291 103.608 967.443 Q105.459 969.596 108.608 969.596 Z\" fill=\"#000000\" fill-rule=\"nonzero\" fill-opacity=\"1\" /><path clip-path=\"url(#clip830)\" d=\"M129.464 984.249 L129.464 979.99 Q131.223 980.823 133.029 981.263 Q134.834 981.703 136.57 981.703 Q141.2 981.703 143.631 978.601 Q146.084 975.476 146.431 969.133 Q145.089 971.124 143.029 972.189 Q140.968 973.254 138.469 973.254 Q133.283 973.254 130.251 970.129 Q127.242 966.981 127.242 961.541 Q127.242 956.217 130.39 952.999 Q133.538 949.782 138.769 949.782 Q144.765 949.782 147.913 954.388 Q151.084 958.971 151.084 967.721 Q151.084 975.892 147.195 980.777 Q143.33 985.638 136.779 985.638 Q135.019 985.638 133.214 985.291 Q131.408 984.943 129.464 984.249 M138.769 969.596 Q141.918 969.596 143.746 967.443 Q145.598 965.291 145.598 961.541 Q145.598 957.814 143.746 955.661 Q141.918 953.485 138.769 953.485 Q135.621 953.485 133.769 955.661 Q131.941 957.814 131.941 961.541 Q131.941 965.291 133.769 967.443 Q135.621 969.596 138.769 969.596 Z\" fill=\"#000000\" fill-rule=\"nonzero\" fill-opacity=\"1\" /><path clip-path=\"url(#clip830)\" d=\"M158.306 950.407 L180.528 950.407 L180.528 952.397 L167.982 984.967 L163.098 984.967 L174.903 954.342 L158.306 954.342 L158.306 950.407 Z\" fill=\"#000000\" fill-rule=\"nonzero\" fill-opacity=\"1\" /><path clip-path=\"url(#clip830)\" d=\"M189.695 950.407 L208.051 950.407 L208.051 954.342 L193.977 954.342 L193.977 962.814 Q194.996 962.467 196.014 962.305 Q197.033 962.119 198.052 962.119 Q203.839 962.119 207.218 965.291 Q210.598 968.462 210.598 973.879 Q210.598 979.457 207.126 982.559 Q203.653 985.638 197.334 985.638 Q195.158 985.638 192.89 985.267 Q190.644 984.897 188.237 984.156 L188.237 979.457 Q190.32 980.592 192.542 981.147 Q194.765 981.703 197.241 981.703 Q201.246 981.703 203.584 979.596 Q205.922 977.49 205.922 973.879 Q205.922 970.268 203.584 968.161 Q201.246 966.055 197.241 966.055 Q195.366 966.055 193.491 966.471 Q191.64 966.888 189.695 967.768 L189.695 950.407 Z\" fill=\"#000000\" fill-rule=\"nonzero\" fill-opacity=\"1\" /><path clip-path=\"url(#clip830)\" d=\"M53.7467 777.362 L61.3856 777.362 L61.3856 750.996 L53.0754 752.663 L53.0754 748.404 L61.3393 746.737 L66.0152 746.737 L66.0152 777.362 L73.654 777.362 L73.654 781.297 L53.7467 781.297 L53.7467 777.362 Z\" fill=\"#000000\" fill-rule=\"nonzero\" fill-opacity=\"1\" /><path clip-path=\"url(#clip830)\" d=\"M83.0984 775.417 L87.9827 775.417 L87.9827 781.297 L83.0984 781.297 L83.0984 775.417 Z\" fill=\"#000000\" fill-rule=\"nonzero\" fill-opacity=\"1\" /><path clip-path=\"url(#clip830)\" d=\"M108.168 749.816 Q104.557 749.816 102.728 753.38 Q100.922 756.922 100.922 764.052 Q100.922 771.158 102.728 774.723 Q104.557 778.265 108.168 778.265 Q111.802 778.265 113.608 774.723 Q115.436 771.158 115.436 764.052 Q115.436 756.922 113.608 753.38 Q111.802 749.816 108.168 749.816 M108.168 746.112 Q113.978 746.112 117.033 750.718 Q120.112 755.302 120.112 764.052 Q120.112 772.778 117.033 777.385 Q113.978 781.968 108.168 781.968 Q102.358 781.968 99.2789 777.385 Q96.2234 772.778 96.2234 764.052 Q96.2234 755.302 99.2789 750.718 Q102.358 746.112 108.168 746.112 Z\" fill=\"#000000\" fill-rule=\"nonzero\" fill-opacity=\"1\" /><path clip-path=\"url(#clip830)\" d=\"M138.33 749.816 Q134.719 749.816 132.89 753.38 Q131.084 756.922 131.084 764.052 Q131.084 771.158 132.89 774.723 Q134.719 778.265 138.33 778.265 Q141.964 778.265 143.769 774.723 Q145.598 771.158 145.598 764.052 Q145.598 756.922 143.769 753.38 Q141.964 749.816 138.33 749.816 M138.33 746.112 Q144.14 746.112 147.195 750.718 Q150.274 755.302 150.274 764.052 Q150.274 772.778 147.195 777.385 Q144.14 781.968 138.33 781.968 Q132.519 781.968 129.441 777.385 Q126.385 772.778 126.385 764.052 Q126.385 755.302 129.441 750.718 Q132.519 746.112 138.33 746.112 Z\" fill=\"#000000\" fill-rule=\"nonzero\" fill-opacity=\"1\" /><path clip-path=\"url(#clip830)\" d=\"M168.491 749.816 Q164.88 749.816 163.052 753.38 Q161.246 756.922 161.246 764.052 Q161.246 771.158 163.052 774.723 Q164.88 778.265 168.491 778.265 Q172.126 778.265 173.931 774.723 Q175.76 771.158 175.76 764.052 Q175.76 756.922 173.931 753.38 Q172.126 749.816 168.491 749.816 M168.491 746.112 Q174.302 746.112 177.357 750.718 Q180.436 755.302 180.436 764.052 Q180.436 772.778 177.357 777.385 Q174.302 781.968 168.491 781.968 Q162.681 781.968 159.603 777.385 Q156.547 772.778 156.547 764.052 Q156.547 755.302 159.603 750.718 Q162.681 746.112 168.491 746.112 Z\" fill=\"#000000\" fill-rule=\"nonzero\" fill-opacity=\"1\" /><path clip-path=\"url(#clip830)\" d=\"M198.653 749.816 Q195.042 749.816 193.214 753.38 Q191.408 756.922 191.408 764.052 Q191.408 771.158 193.214 774.723 Q195.042 778.265 198.653 778.265 Q202.288 778.265 204.093 774.723 Q205.922 771.158 205.922 764.052 Q205.922 756.922 204.093 753.38 Q202.288 749.816 198.653 749.816 M198.653 746.112 Q204.464 746.112 207.519 750.718 Q210.598 755.302 210.598 764.052 Q210.598 772.778 207.519 777.385 Q204.464 781.968 198.653 781.968 Q192.843 781.968 189.765 777.385 Q186.709 772.778 186.709 764.052 Q186.709 755.302 189.765 750.718 Q192.843 746.112 198.653 746.112 Z\" fill=\"#000000\" fill-rule=\"nonzero\" fill-opacity=\"1\" /><path clip-path=\"url(#clip830)\" d=\"M54.7421 573.692 L62.381 573.692 L62.381 547.326 L54.0708 548.993 L54.0708 544.734 L62.3347 543.067 L67.0106 543.067 L67.0106 573.692 L74.6494 573.692 L74.6494 577.627 L54.7421 577.627 L54.7421 573.692 Z\" fill=\"#000000\" fill-rule=\"nonzero\" fill-opacity=\"1\" /><path clip-path=\"url(#clip830)\" d=\"M84.0938 571.748 L88.978 571.748 L88.978 577.627 L84.0938 577.627 L84.0938 571.748 Z\" fill=\"#000000\" fill-rule=\"nonzero\" fill-opacity=\"1\" /><path clip-path=\"url(#clip830)\" d=\"M109.163 546.146 Q105.552 546.146 103.723 549.711 Q101.918 553.252 101.918 560.382 Q101.918 567.488 103.723 571.053 Q105.552 574.595 109.163 574.595 Q112.797 574.595 114.603 571.053 Q116.432 567.488 116.432 560.382 Q116.432 553.252 114.603 549.711 Q112.797 546.146 109.163 546.146 M109.163 542.442 Q114.973 542.442 118.029 547.049 Q121.107 551.632 121.107 560.382 Q121.107 569.109 118.029 573.715 Q114.973 578.299 109.163 578.299 Q103.353 578.299 100.274 573.715 Q97.2187 569.109 97.2187 560.382 Q97.2187 551.632 100.274 547.049 Q103.353 542.442 109.163 542.442 Z\" fill=\"#000000\" fill-rule=\"nonzero\" fill-opacity=\"1\" /><path clip-path=\"url(#clip830)\" d=\"M139.325 546.146 Q135.714 546.146 133.885 549.711 Q132.08 553.252 132.08 560.382 Q132.08 567.488 133.885 571.053 Q135.714 574.595 139.325 574.595 Q142.959 574.595 144.765 571.053 Q146.593 567.488 146.593 560.382 Q146.593 553.252 144.765 549.711 Q142.959 546.146 139.325 546.146 M139.325 542.442 Q145.135 542.442 148.191 547.049 Q151.269 551.632 151.269 560.382 Q151.269 569.109 148.191 573.715 Q145.135 578.299 139.325 578.299 Q133.515 578.299 130.436 573.715 Q127.381 569.109 127.381 560.382 Q127.381 551.632 130.436 547.049 Q133.515 542.442 139.325 542.442 Z\" fill=\"#000000\" fill-rule=\"nonzero\" fill-opacity=\"1\" /><path clip-path=\"url(#clip830)\" d=\"M163.515 573.692 L179.834 573.692 L179.834 577.627 L157.89 577.627 L157.89 573.692 Q160.552 570.937 165.135 566.308 Q169.741 561.655 170.922 560.313 Q173.167 557.789 174.047 556.053 Q174.95 554.294 174.95 552.604 Q174.95 549.85 173.005 548.114 Q171.084 546.377 167.982 546.377 Q165.783 546.377 163.329 547.141 Q160.899 547.905 158.121 549.456 L158.121 544.734 Q160.945 543.6 163.399 543.021 Q165.853 542.442 167.89 542.442 Q173.26 542.442 176.454 545.127 Q179.649 547.813 179.649 552.303 Q179.649 554.433 178.839 556.354 Q178.052 558.252 175.945 560.845 Q175.366 561.516 172.265 564.734 Q169.163 567.928 163.515 573.692 Z\" fill=\"#000000\" fill-rule=\"nonzero\" fill-opacity=\"1\" /><path clip-path=\"url(#clip830)\" d=\"M189.695 543.067 L208.051 543.067 L208.051 547.002 L193.977 547.002 L193.977 555.475 Q194.996 555.127 196.014 554.965 Q197.033 554.78 198.052 554.78 Q203.839 554.78 207.218 557.951 Q210.598 561.123 210.598 566.539 Q210.598 572.118 207.126 575.22 Q203.653 578.299 197.334 578.299 Q195.158 578.299 192.89 577.928 Q190.644 577.558 188.237 576.817 L188.237 572.118 Q190.32 573.252 192.542 573.808 Q194.765 574.363 197.241 574.363 Q201.246 574.363 203.584 572.257 Q205.922 570.15 205.922 566.539 Q205.922 562.928 203.584 560.822 Q201.246 558.715 197.241 558.715 Q195.366 558.715 193.491 559.132 Q191.64 559.549 189.695 560.428 L189.695 543.067 Z\" fill=\"#000000\" fill-rule=\"nonzero\" fill-opacity=\"1\" /><path clip-path=\"url(#clip830)\" d=\"M53.7467 370.022 L61.3856 370.022 L61.3856 343.657 L53.0754 345.324 L53.0754 341.064 L61.3393 339.398 L66.0152 339.398 L66.0152 370.022 L73.654 370.022 L73.654 373.958 L53.7467 373.958 L53.7467 370.022 Z\" fill=\"#000000\" fill-rule=\"nonzero\" fill-opacity=\"1\" /><path clip-path=\"url(#clip830)\" d=\"M83.0984 368.078 L87.9827 368.078 L87.9827 373.958 L83.0984 373.958 L83.0984 368.078 Z\" fill=\"#000000\" fill-rule=\"nonzero\" fill-opacity=\"1\" /><path clip-path=\"url(#clip830)\" d=\"M108.168 342.476 Q104.557 342.476 102.728 346.041 Q100.922 349.583 100.922 356.712 Q100.922 363.819 102.728 367.384 Q104.557 370.925 108.168 370.925 Q111.802 370.925 113.608 367.384 Q115.436 363.819 115.436 356.712 Q115.436 349.583 113.608 346.041 Q111.802 342.476 108.168 342.476 M108.168 338.773 Q113.978 338.773 117.033 343.379 Q120.112 347.962 120.112 356.712 Q120.112 365.439 117.033 370.046 Q113.978 374.629 108.168 374.629 Q102.358 374.629 99.2789 370.046 Q96.2234 365.439 96.2234 356.712 Q96.2234 347.962 99.2789 343.379 Q102.358 338.773 108.168 338.773 Z\" fill=\"#000000\" fill-rule=\"nonzero\" fill-opacity=\"1\" /><path clip-path=\"url(#clip830)\" d=\"M138.33 342.476 Q134.719 342.476 132.89 346.041 Q131.084 349.583 131.084 356.712 Q131.084 363.819 132.89 367.384 Q134.719 370.925 138.33 370.925 Q141.964 370.925 143.769 367.384 Q145.598 363.819 145.598 356.712 Q145.598 349.583 143.769 346.041 Q141.964 342.476 138.33 342.476 M138.33 338.773 Q144.14 338.773 147.195 343.379 Q150.274 347.962 150.274 356.712 Q150.274 365.439 147.195 370.046 Q144.14 374.629 138.33 374.629 Q132.519 374.629 129.441 370.046 Q126.385 365.439 126.385 356.712 Q126.385 347.962 129.441 343.379 Q132.519 338.773 138.33 338.773 Z\" fill=\"#000000\" fill-rule=\"nonzero\" fill-opacity=\"1\" /><path clip-path=\"url(#clip830)\" d=\"M158.538 339.398 L176.894 339.398 L176.894 343.333 L162.82 343.333 L162.82 351.805 Q163.839 351.458 164.857 351.296 Q165.876 351.111 166.894 351.111 Q172.681 351.111 176.061 354.282 Q179.441 357.453 179.441 362.87 Q179.441 368.448 175.968 371.55 Q172.496 374.629 166.177 374.629 Q164.001 374.629 161.732 374.259 Q159.487 373.888 157.08 373.147 L157.08 368.448 Q159.163 369.583 161.385 370.138 Q163.607 370.694 166.084 370.694 Q170.089 370.694 172.427 368.587 Q174.765 366.481 174.765 362.87 Q174.765 359.259 172.427 357.152 Q170.089 355.046 166.084 355.046 Q164.209 355.046 162.334 355.462 Q160.482 355.879 158.538 356.759 L158.538 339.398 Z\" fill=\"#000000\" fill-rule=\"nonzero\" fill-opacity=\"1\" /><path clip-path=\"url(#clip830)\" d=\"M198.653 342.476 Q195.042 342.476 193.214 346.041 Q191.408 349.583 191.408 356.712 Q191.408 363.819 193.214 367.384 Q195.042 370.925 198.653 370.925 Q202.288 370.925 204.093 367.384 Q205.922 363.819 205.922 356.712 Q205.922 349.583 204.093 346.041 Q202.288 342.476 198.653 342.476 M198.653 338.773 Q204.464 338.773 207.519 343.379 Q210.598 347.962 210.598 356.712 Q210.598 365.439 207.519 370.046 Q204.464 374.629 198.653 374.629 Q192.843 374.629 189.765 370.046 Q186.709 365.439 186.709 356.712 Q186.709 347.962 189.765 343.379 Q192.843 338.773 198.653 338.773 Z\" fill=\"#000000\" fill-rule=\"nonzero\" fill-opacity=\"1\" /><path clip-path=\"url(#clip830)\" d=\"M54.7421 166.353 L62.381 166.353 L62.381 139.987 L54.0708 141.654 L54.0708 137.395 L62.3347 135.728 L67.0106 135.728 L67.0106 166.353 L74.6494 166.353 L74.6494 170.288 L54.7421 170.288 L54.7421 166.353 Z\" fill=\"#000000\" fill-rule=\"nonzero\" fill-opacity=\"1\" /><path clip-path=\"url(#clip830)\" d=\"M84.0938 164.408 L88.978 164.408 L88.978 170.288 L84.0938 170.288 L84.0938 164.408 Z\" fill=\"#000000\" fill-rule=\"nonzero\" fill-opacity=\"1\" /><path clip-path=\"url(#clip830)\" d=\"M109.163 138.807 Q105.552 138.807 103.723 142.371 Q101.918 145.913 101.918 153.043 Q101.918 160.149 103.723 163.714 Q105.552 167.256 109.163 167.256 Q112.797 167.256 114.603 163.714 Q116.432 160.149 116.432 153.043 Q116.432 145.913 114.603 142.371 Q112.797 138.807 109.163 138.807 M109.163 135.103 Q114.973 135.103 118.029 139.709 Q121.107 144.293 121.107 153.043 Q121.107 161.77 118.029 166.376 Q114.973 170.959 109.163 170.959 Q103.353 170.959 100.274 166.376 Q97.2187 161.77 97.2187 153.043 Q97.2187 144.293 100.274 139.709 Q103.353 135.103 109.163 135.103 Z\" fill=\"#000000\" fill-rule=\"nonzero\" fill-opacity=\"1\" /><path clip-path=\"url(#clip830)\" d=\"M139.325 138.807 Q135.714 138.807 133.885 142.371 Q132.08 145.913 132.08 153.043 Q132.08 160.149 133.885 163.714 Q135.714 167.256 139.325 167.256 Q142.959 167.256 144.765 163.714 Q146.593 160.149 146.593 153.043 Q146.593 145.913 144.765 142.371 Q142.959 138.807 139.325 138.807 M139.325 135.103 Q145.135 135.103 148.191 139.709 Q151.269 144.293 151.269 153.043 Q151.269 161.77 148.191 166.376 Q145.135 170.959 139.325 170.959 Q133.515 170.959 130.436 166.376 Q127.381 161.77 127.381 153.043 Q127.381 144.293 130.436 139.709 Q133.515 135.103 139.325 135.103 Z\" fill=\"#000000\" fill-rule=\"nonzero\" fill-opacity=\"1\" /><path clip-path=\"url(#clip830)\" d=\"M158.306 135.728 L180.528 135.728 L180.528 137.719 L167.982 170.288 L163.098 170.288 L174.903 139.663 L158.306 139.663 L158.306 135.728 Z\" fill=\"#000000\" fill-rule=\"nonzero\" fill-opacity=\"1\" /><path clip-path=\"url(#clip830)\" d=\"M189.695 135.728 L208.051 135.728 L208.051 139.663 L193.977 139.663 L193.977 148.135 Q194.996 147.788 196.014 147.626 Q197.033 147.441 198.052 147.441 Q203.839 147.441 207.218 150.612 Q210.598 153.783 210.598 159.2 Q210.598 164.779 207.126 167.881 Q203.653 170.959 197.334 170.959 Q195.158 170.959 192.89 170.589 Q190.644 170.219 188.237 169.478 L188.237 164.779 Q190.32 165.913 192.542 166.469 Q194.765 167.024 197.241 167.024 Q201.246 167.024 203.584 164.918 Q205.922 162.811 205.922 159.2 Q205.922 155.589 203.584 153.483 Q201.246 151.376 197.241 151.376 Q195.366 151.376 193.491 151.793 Q191.64 152.209 189.695 153.089 L189.695 135.728 Z\" fill=\"#000000\" fill-rule=\"nonzero\" fill-opacity=\"1\" /><polyline clip-path=\"url(#clip832)\" style=\"stroke:#009af9; stroke-linecap:round; stroke-linejoin:round; stroke-width:4; stroke-opacity:1; fill:none\" points=\"306.206,764.017 310.18,752.703 314.154,741.39 318.128,730.082 322.102,718.782 326.075,707.493 330.049,696.218 334.023,684.961 337.997,673.724 341.971,662.51 345.945,651.324 349.919,640.167 353.893,629.043 357.866,617.956 361.84,606.908 365.814,595.902 369.788,584.942 373.762,574.03 377.736,563.171 381.71,552.366 385.684,541.619 389.658,530.933 393.631,520.311 397.605,509.756 401.579,499.27 405.553,488.859 409.527,478.523 413.501,468.266 417.475,458.09 421.449,448 425.423,437.998 429.396,428.086 433.37,418.267 437.344,408.545 441.318,398.922 445.292,389.401 449.266,379.984 453.24,370.675 457.214,361.476 461.187,352.39 465.161,343.419 469.135,334.566 473.109,325.833 477.083,317.224 481.057,308.74 485.031,300.384 489.005,292.159 492.979,284.067 496.952,276.11 500.926,268.291 504.9,260.611 508.874,253.074 512.848,245.681 516.822,238.435 520.796,231.337 524.77,224.39 528.743,217.596 532.717,210.957 536.691,204.474 540.665,198.151 544.639,191.988 548.613,185.987 552.587,180.15 556.561,174.479 560.535,168.976 564.508,163.642 568.482,158.479 572.456,153.488 576.43,148.671 580.404,144.029 584.378,139.564 588.352,135.277 592.326,131.168 596.299,127.241 600.273,123.495 604.247,119.931 608.221,116.552 612.195,113.357 616.169,110.348 620.143,107.525 624.117,104.89 628.091,102.444 632.064,100.186 636.038,98.1177 640.012,96.2399 643.986,94.553 647.96,93.0574 651.934,91.7536 655.908,90.642 659.882,89.7229 663.855,88.9966 667.829,88.4633 671.803,88.1231 675.777,87.9763 679.751,88.0227 683.725,88.2625 687.699,88.6955 691.673,89.3216 695.647,90.1406 699.62,91.1522 703.594,92.3563 707.568,93.7523 711.542,95.3399 715.516,97.1187 719.49,99.088 723.464,101.247 727.438,103.596 731.412,106.133 735.385,108.858 739.359,111.771 743.333,114.869 747.307,118.153 751.281,121.621 755.255,125.272 759.229,129.106 763.203,133.121 767.176,137.315 771.15,141.688 775.124,146.238 779.098,150.965 783.072,155.865 787.046,160.939 791.02,166.185 794.994,171.6 798.968,177.184 802.941,182.935 806.915,188.851 810.889,194.93 814.863,201.17 818.837,207.57 822.811,214.128 826.785,220.842 830.759,227.71 834.732,234.73 838.706,241.899 842.68,249.216 846.654,256.679 850.628,264.284 854.602,272.031 858.576,279.917 862.55,287.939 866.524,296.096 870.497,304.384 874.471,312.802 878.445,321.346 882.419,330.015 886.393,338.806 890.367,347.716 894.341,356.743 898.315,365.883 902.288,375.136 906.262,384.497 910.236,393.964 914.21,403.535 918.184,413.206 922.158,422.974 926.132,432.838 930.106,442.794 934.08,452.839 938.053,462.97 942.027,473.185 946.001,483.481 949.975,493.853 953.949,504.301 957.923,514.82 961.897,525.408 965.871,536.061 969.845,546.777 973.818,557.552 977.792,568.384 981.766,579.269 985.74,590.204 989.714,601.186 993.688,612.213 997.662,623.28 1001.64,634.385 1005.61,645.525 1009.58,656.697 1013.56,667.897 1017.53,679.122 1021.5,690.369 1025.48,701.635 1029.45,712.917 1033.43,724.212 1037.4,735.516 1041.37,746.827 1045.35,758.141 1049.32,769.454 1053.3,780.765 1057.27,792.07 1061.24,803.365 1065.22,814.648 1069.19,825.915 1073.17,837.163 1077.14,848.39 1081.11,859.591 1085.09,870.765 1089.06,881.908 1093.03,893.017 1097.01,904.088 1100.98,915.119 1104.96,926.107 1108.93,937.049 1112.9,947.942 1116.88,958.783 1120.85,969.568 1124.83,980.296 1128.8,990.962 1132.77,1001.57 1136.75,1012.1 1140.72,1022.57 1144.7,1032.96 1148.67,1043.28 1152.64,1053.52 1156.62,1063.68 1160.59,1073.76 1164.56,1083.75 1168.54,1093.65 1172.51,1103.46 1176.49,1113.18 1180.46,1122.8 1184.43,1132.32 1188.41,1141.74 1192.38,1151.05 1196.36,1160.26 1200.33,1169.36 1204.3,1178.35 1208.28,1187.22 1212.25,1195.98 1216.23,1204.61 1220.2,1213.13 1224.17,1221.53 1228.15,1229.79 1232.12,1237.93 1236.09,1245.94 1240.07,1253.82 1244.04,1261.57 1248.02,1269.18 1251.99,1276.65 1255.96,1283.98 1259.94,1291.17 1263.91,1298.21 1267.89,1305.11 1271.86,1311.86 1275.83,1318.47 1279.81,1324.92 1283.78,1331.22 1287.76,1337.37 1291.73,1343.35 1295.7,1349.19 1299.68,1354.86 1303.65,1360.37 1307.62,1365.72 1311.6,1370.91 1315.57,1375.93 1319.55,1380.79 1323.52,1385.48 1327.49,1390 1331.47,1394.36 1335.44,1398.54 1339.42,1402.55 1343.39,1406.39 1347.36,1410.05 1351.34,1413.54 1355.31,1416.85 1359.29,1419.99 1363.26,1422.95 1367.23,1425.73 1371.21,1428.33 1375.18,1430.76 1379.15,1433 1383.13,1435.06 1387.1,1436.95 1391.08,1438.65 1395.05,1440.16 1399.02,1441.5 1403,1442.65 1406.97,1443.62 1410.95,1444.41 1414.92,1445.01 1418.89,1445.43 1422.87,1445.66 1426.84,1445.72 1430.81,1445.58 1434.79,1445.27 1438.76,1444.77 1442.74,1444.08 1446.71,1443.22 1450.68,1442.17 1454.66,1440.93 1458.63,1439.52 1462.61,1437.92 1466.58,1436.14 1470.55,1434.17 1474.53,1432.03 1478.5,1429.71 1482.48,1427.21 1486.45,1424.52 1490.42,1421.66 1494.4,1418.63 1498.37,1415.41 1502.34,1412.02 1506.32,1408.45 1510.29,1404.71 1514.27,1400.8 1518.24,1396.71 1522.21,1392.46 1526.19,1388.03 1530.16,1383.43 1534.14,1378.67 1538.11,1373.74 1542.08,1368.64 1546.06,1363.38 1550.03,1357.96 1554.01,1352.37 1557.98,1346.63 1561.95,1340.73 1565.93,1334.67 1569.9,1328.46 1573.87,1322.09 1577.85,1315.57 1581.82,1308.9 1585.8,1302.08 1589.77,1295.12 1593.74,1288.01 1597.72,1280.76 1601.69,1273.37 1605.67,1265.83 1609.64,1258.17 1613.61,1250.36 1617.59,1242.42 1621.56,1234.36 1625.54,1226.16 1629.51,1217.83 1633.48,1209.39 1637.46,1200.82 1641.43,1192.13 1645.4,1183.32 1649.38,1174.39 1653.35,1165.36 1657.33,1156.21 1661.3,1146.95 1665.27,1137.59 1669.25,1128.13 1673.22,1118.57 1677.2,1108.9 1681.17,1099.14 1685.14,1089.29 1689.12,1079.35 1693.09,1069.32 1697.07,1059.21 1701.04,1049.01 1705.01,1038.73 1708.99,1028.38 1712.96,1017.96 1716.93,1007.46 1720.91,996.892 1724.88,986.261 1728.86,975.567 1732.83,964.813 1736.8,954.003 1740.78,943.139 1744.75,932.224 1748.73,921.262 1752.7,910.254 1756.67,899.205 1760.65,888.116 1764.62,876.992 1768.6,865.836 1772.57,854.649 1776.54,843.436 1780.52,832.199 1784.49,820.942 1788.46,809.668 1792.44,798.379 1796.41,787.08 1800.39,775.772 1804.36,764.459 1808.33,753.145 1812.31,741.833 1816.28,730.524 1820.26,719.224 1824.23,707.935 1828.2,696.659 1832.18,685.401 1836.15,674.163 1840.12,662.949 1844.1,651.761 1848.07,640.603 1852.05,629.478 1856.02,618.389 1859.99,607.339 1863.97,596.332 1867.94,585.37 1871.92,574.456 1875.89,563.595 1879.86,552.787 1883.84,542.038 1887.81,531.35 1891.79,520.725 1895.76,510.167 1899.73,499.679 1903.71,489.264 1907.68,478.925 1911.65,468.665 1915.63,458.487 1919.6,448.393 1923.58,438.387 1927.55,428.472 1931.52,418.65 1935.5,408.924 1939.47,399.297 1943.45,389.771 1947.42,380.351 1951.39,371.037 1955.37,361.834 1959.34,352.743 1963.32,343.767 1967.29,334.91 1971.26,326.172 1975.24,317.558 1979.21,309.069 1983.18,300.709 1987.16,292.478 1991.13,284.381 1995.11,276.419 1999.08,268.594 2003.05,260.909 2007.03,253.366 2011,245.967 2014.98,238.715 2018.95,231.612 2022.92,224.659 2026.9,217.859 2030.87,211.214 2034.85,204.725 2038.82,198.395 2042.79,192.226 2046.77,186.218 2050.74,180.375 2054.71,174.698 2058.69,169.188 2062.66,163.848 2066.64,158.678 2070.61,153.68 2074.58,148.856 2078.56,144.208 2082.53,139.735 2086.51,135.441 2090.48,131.326 2094.45,127.391 2098.43,123.638 2102.4,120.067 2106.38,116.68 2110.35,113.478 2114.32,110.462 2118.3,107.632 2122.27,104.99 2126.24,102.536 2130.22,100.271 2134.19,98.1951 2138.17,96.3098 2142.14,94.6154 2146.11,93.1123 2150.09,91.801 2154.06,90.6818 2158.04,89.7552 2162.01,89.0213 2165.98,88.4805 2169.96,88.1328 2173.93,87.9784 2177.91,88.0173 2181.88,88.2495 2185.85,88.6749 2189.83,89.2934 2193.8,90.1049 2197.77,91.109 2201.75,92.3055 2205.72,93.6941 2209.7,95.2742 2213.67,97.0455 2217.64,99.0074 2221.62,101.159 2225.59,103.501 2229.57,106.03 2233.54,108.748 2237.51,111.653 2241.49,114.745 2245.46,118.021 2249.43,121.482 2253.41,125.126 2257.38,128.953 2261.36,132.96 2265.33,137.147 2269.3,141.514 2273.28,146.057 2277.25,150.776 2281.23,155.67 2285.2,160.737 2289.17,165.976 2293.15,171.385 \"/>\n",
       "<path clip-path=\"url(#clip830)\" d=\"M2019.5 1438.47 L2282.55 1438.47 L2282.55 1334.79 L2019.5 1334.79  Z\" fill=\"#ffffff\" fill-rule=\"evenodd\" fill-opacity=\"1\"/>\n",
       "<polyline clip-path=\"url(#clip830)\" style=\"stroke:#000000; stroke-linecap:round; stroke-linejoin:round; stroke-width:4; stroke-opacity:1; fill:none\" points=\"2019.5,1438.47 2282.55,1438.47 2282.55,1334.79 2019.5,1334.79 2019.5,1438.47 \"/>\n",
       "<polyline clip-path=\"url(#clip830)\" style=\"stroke:#009af9; stroke-linecap:round; stroke-linejoin:round; stroke-width:4; stroke-opacity:1; fill:none\" points=\"2042.91,1386.63 2183.32,1386.63 \"/>\n",
       "<path clip-path=\"url(#clip830)\" d=\"M2220.56 1406.32 Q2218.76 1410.95 2217.04 1412.36 Q2215.33 1413.78 2212.46 1413.78 L2209.06 1413.78 L2209.06 1410.21 L2211.56 1410.21 Q2213.32 1410.21 2214.29 1409.38 Q2215.26 1408.54 2216.44 1405.44 L2217.2 1403.5 L2206.72 1377.99 L2211.23 1377.99 L2219.33 1398.27 L2227.44 1377.99 L2231.95 1377.99 L2220.56 1406.32 Z\" fill=\"#000000\" fill-rule=\"nonzero\" fill-opacity=\"1\" /><path clip-path=\"url(#clip830)\" d=\"M2239.24 1399.98 L2246.88 1399.98 L2246.88 1373.61 L2238.57 1375.28 L2238.57 1371.02 L2246.83 1369.35 L2251.51 1369.35 L2251.51 1399.98 L2259.15 1399.98 L2259.15 1403.91 L2239.24 1403.91 L2239.24 1399.98 Z\" fill=\"#000000\" fill-rule=\"nonzero\" fill-opacity=\"1\" /></svg>\n"
      ],
      "text/html": [
       "<img src=\"data:image/png;base64,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\" />"
      ]
     },
     "execution_count": 24,
     "metadata": {},
     "output_type": "execute_result"
    }
   ],
   "source": [
    "plot(vels1)"
   ]
  },
  {
   "cell_type": "code",
   "execution_count": null,
   "metadata": {},
   "outputs": [],
   "source": []
  }
 ],
 "metadata": {
  "@webio": {
   "lastCommId": "09e3a8267a3c4ce08d596bbedf0c1c08",
   "lastKernelId": "a095ab2e-6231-4385-a2c1-7658f186d82b"
  },
  "kernelspec": {
   "display_name": "Julia 1.9.2",
   "language": "julia",
   "name": "julia-1.9"
  },
  "language_info": {
   "file_extension": ".jl",
   "mimetype": "application/julia",
   "name": "julia",
   "version": "1.9.2"
  }
 },
 "nbformat": 4,
 "nbformat_minor": 4
}
