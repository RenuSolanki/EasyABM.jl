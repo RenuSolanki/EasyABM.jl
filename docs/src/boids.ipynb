{
 "cells": [
  {
   "cell_type": "markdown",
   "metadata": {},
   "source": [
    "# Flocking"
   ]
  },
  {
   "cell_type": "code",
   "execution_count": 18,
   "metadata": {
    "scrolled": true
   },
   "outputs": [
    {
     "name": "stderr",
     "output_type": "stream",
     "text": [
      "\u001b[32m\u001b[1m  Activating\u001b[22m\u001b[39m project at `~/Documents/EasyABM`\n"
     ]
    }
   ],
   "source": [
    "#First two lines are not needed if using installed version of EasyABM\n",
    "using Pkg, Revise\n",
    "Pkg.activate(joinpath(@__DIR__,\"../..\"))\n",
    "using EasyABM\n"
   ]
  },
  {
   "cell_type": "markdown",
   "metadata": {},
   "source": [
    "# Step 1: Create Agents and Model\n",
    "\n",
    "Lets create 100 agents with properties `shape`, `pos`, `vel` and `orientation` (The `orientation` property is used internally by EasyABM to draw the direction agent is facing). The position `pos` is only accepted as a Vect which is an inbuilt vector type in EasyABM. It is also recommended for both convenience as well as performance to use Vect type for any vectorial properties in the model such as velocity and forces. The `keeps_record_of` argument is set of properties that the agent will record during time evolution. The model is defined with parameters:\n",
    "\n",
    "* `min_dis` : The distance between boids below which they start repelling each other.\n",
    "* `coh_fac` : The proportionality constant for the cohere force. \n",
    "* `sep_fac` : The proportionality constant for the separation force.\n",
    "* `aln_fac` : The proportionality constant for the alignment force.\n",
    "* `vis_range` : The visual range of boids.\n",
    "* `dt` : The proportionality constant between change in position and velocity.\n",
    "\n",
    "The argument `agents_type` is set to Static which means that the agents number will remain fixed during simulation."
   ]
  },
  {
   "cell_type": "code",
   "execution_count": 19,
   "metadata": {},
   "outputs": [
    {
     "data": {
      "text/plain": [
       "EasyABM SpaceModel2D{EasyABM.StaticType, Float64, EasyABM.PeriodicType}: In a EasyABM.StaticType model number of agents is fixed.\n"
      ]
     },
     "execution_count": 19,
     "metadata": {},
     "output_type": "execute_result"
    }
   ],
   "source": [
    "boids = con_2d_agents(100, shape = :arrow, pos = Vect(0.0,0.0), \n",
    "    vel=Vect(0.0,0.0), orientation = 0.0, keeps_record_of = Set([:pos, :vel, :orientation]))\n",
    "model = create_2d_model(boids,\n",
    "    agents_type=Static, space_type = Periodic, \n",
    "    min_dis = 0.3, coh_fac = 0.05, \n",
    "    sep_fac = 0.5, dt= 0.1, vis_range = 2.0, aln_fac = 0.35)"
   ]
  },
  {
   "cell_type": "markdown",
   "metadata": {},
   "source": [
    "\n",
    "## Step 2: Initialise the model\n",
    "\n",
    "In this step we set the positions, velocities and orientations of boids and initialise the model."
   ]
  },
  {
   "cell_type": "code",
   "execution_count": 20,
   "metadata": {},
   "outputs": [],
   "source": [
    "function initialiser!(model)\n",
    "    xdim, ydim = model.size\n",
    "    for boid in model.agents\n",
    "        boid.pos = Vect(rand()*xdim, rand()*ydim)\n",
    "        boid.orientation = rand()*2*3.14\n",
    "        boid.vel = vector_orientation(boid.orientation)\n",
    "    end\n",
    "end\n",
    "\n",
    "init_model!(model, initialiser = initialiser!)"
   ]
  },
  {
   "cell_type": "markdown",
   "metadata": {},
   "source": [
    "## Step 3: Defining the step_rule! and running the model\n",
    "\n",
    "In this step we implement the step logic of the flocking model in the `step_rule!` function and run the model for 200 steps. "
   ]
  },
  {
   "cell_type": "code",
   "execution_count": 21,
   "metadata": {},
   "outputs": [
    {
     "data": {
      "text/plain": [
       "1.0e-5"
      ]
     },
     "execution_count": 21,
     "metadata": {},
     "output_type": "execute_result"
    }
   ],
   "source": [
    "ep = 0.00001 # can declare it as const for efficiency"
   ]
  },
  {
   "cell_type": "code",
   "execution_count": 22,
   "metadata": {},
   "outputs": [],
   "source": [
    "function step_rule!(model)\n",
    "    dt = model.parameters.dt\n",
    "    for boid in model.agents\n",
    "        nbrs = neighbors(boid, model, model.parameters.vis_range)\n",
    "        coh_force = Vect(0.0,0.0) # For a Vect all coordinates must be of same type\n",
    "        sep_force = Vect(0.0,0.0) \n",
    "        aln_force = Vect(0.0,0.0)\n",
    "        num = 0\n",
    "        for nbr in nbrs\n",
    "            num+=1\n",
    "            vec = nbr.pos - boid.pos\n",
    "            coh_force += vec\n",
    "            if veclength(vec)< model.parameters.min_dis\n",
    "                sep_force -= vec\n",
    "            end\n",
    "            aln_force += nbr.vel\n",
    "        end\n",
    "        aln_force = num>0 ? (aln_force / num - boid.vel) * model.parameters.aln_fac : aln_force\n",
    "        num = max(1, num)\n",
    "        coh_force *= (model.parameters.coh_fac / num)\n",
    "        sep_force *=  model.parameters.sep_fac\n",
    "        boid.vel  += (coh_force + sep_force) + aln_force\n",
    "        boid.vel  /= (veclength(boid.vel)+ep)\n",
    "        boid.orientation = calculate_direction(boid.vel)\n",
    "        boid.pos += boid.vel*dt\n",
    "    end\n",
    "end\n",
    "\n",
    "run_model!(model, steps=200, step_rule = step_rule!)"
   ]
  },
  {
   "cell_type": "markdown",
   "metadata": {},
   "source": [
    "## Step 4: Visualisation"
   ]
  },
  {
   "cell_type": "markdown",
   "metadata": {},
   "source": [
    "In order to draw the model at a specific frame, say 4th, one can use following function"
   ]
  },
  {
   "cell_type": "code",
   "execution_count": 23,
   "metadata": {},
   "outputs": [
    {
     "data": {
      "image/png": "[encoded data removed]",
      "text/plain": []
     },
     "execution_count": 23,
     "metadata": {},
     "output_type": "execute_result"
    }
   ],
   "source": [
    "draw_frame(model, frame = 4 )"
   ]
  },
  {
   "cell_type": "markdown",
   "metadata": {},
   "source": [
    "If one wants to see the animation of the last model run, it can be done as "
   ]
  },
  {
   "cell_type": "code",
   "execution_count": 24,
   "metadata": {},
   "outputs": [
    {
     "data": {
      "application/vnd.webio.node+json": {
       "children": [
        {
         "children": [
          {
           "children": [
            {
             "children": [
              {
               "children": [
                {
                 "children": [
                  {
                   "children": [
                    {
                     "children": [
                      "time"
                     ],
                     "instanceArgs": {
                      "namespace": "html",
                      "tag": "label"
                     },
                     "nodeType": "DOM",
                     "props": {
                      "className": "interact ",
                      "style": {
                       "padding": "5px 10px 0px 10px"
                      }
                     },
                     "type": "node"
                    }
                   ],
                   "instanceArgs": {
                    "namespace": "html",
                    "tag": "div"
                   },
                   "nodeType": "DOM",
                   "props": {
                    "className": "interact-flex-row-left"
                   },
                   "type": "node"
                  },
                  {
                   "children": [
                    {
                     "children": [],
                     "instanceArgs": {
                      "namespace": "html",
                      "tag": "input"
                     },
                     "nodeType": "DOM",
                     "props": {
                      "attributes": {
                       "data-bind": "numericValue: index, valueUpdate: 'input', event: {change: function (){this.changes(this.changes()+1)}}",
                       "orient": "horizontal",
                       "type": "range"
                      },
                      "className": "slider slider is-fullwidth",
                      "max": 201,
                      "min": 1,
                      "step": 1,
                      "style": {}
                     },
                     "type": "node"
                    }
                   ],
                   "instanceArgs": {
                    "namespace": "html",
                    "tag": "div"
                   },
                   "nodeType": "DOM",
                   "props": {
                    "className": "interact-flex-row-center"
                   },
                   "type": "node"
                  },
                  {
                   "children": [
                    {
                     "children": [],
                     "instanceArgs": {
                      "namespace": "html",
                      "tag": "p"
                     },
                     "nodeType": "DOM",
                     "props": {
                      "attributes": {
                       "data-bind": "text: formatted_val"
                      }
                     },
                     "type": "node"
                    }
                   ],
                   "instanceArgs": {
                    "namespace": "html",
                    "tag": "div"
                   },
                   "nodeType": "DOM",
                   "props": {
                    "className": "interact-flex-row-right"
                   },
                   "type": "node"
                  }
                 ],
                 "instanceArgs": {
                  "namespace": "html",
                  "tag": "div"
                 },
                 "nodeType": "DOM",
                 "props": {
                  "className": "interact-flex-row interact-widget"
                 },
                 "type": "node"
                }
               ],
               "instanceArgs": {
                "handlers": {
                 "changes": [
                  "(function (val){return (val!=this.model[\"changes\"]()) ? (this.valueFromJulia[\"changes\"]=true, this.model[\"changes\"](val)) : undefined})"
                 ],
                 "index": [
                  "(function (val){return (val!=this.model[\"index\"]()) ? (this.valueFromJulia[\"index\"]=true, this.model[\"index\"](val)) : undefined})"
                 ]
                },
                "id": "17514974514166748399",
                "imports": {
                 "data": [
                  {
                   "name": "knockout",
                   "type": "js",
                   "url": "/assetserver/727383f2a47bd31570b7da84eee7b022dd6d7c78-knockout.js"
                  },
                  {
                   "name": "knockout_punches",
                   "type": "js",
                   "url": "/assetserver/382b41b3b1bd9f26f75861d360bad7f8beea211f-knockout_punches.js"
                  },
                  {
                   "name": null,
                   "type": "js",
                   "url": "/assetserver/5ab20f1060420992a9b82a65b735dee4d81ef413-all.js"
                  },
                  {
                   "name": null,
                   "type": "css",
                   "url": "/assetserver/1cc0ed62837210b80a182cc3676512f895dab686-style.css"
                  },
                  {
                   "name": null,
                   "type": "css",
                   "url": "/assetserver/2eee816f616df3549d7044d45e744fbf8d42bfa1-bulma_confined.min.css"
                  }
                 ],
                 "type": "async_block"
                },
                "mount_callbacks": [
                 "function () {\n    var handler = (function (ko, koPunches) {\n    ko.punches.enableAll();\n    ko.bindingHandlers.numericValue = {\n        init: function(element, valueAccessor, allBindings, data, context) {\n            var stringified = ko.observable(ko.unwrap(valueAccessor()));\n            stringified.subscribe(function(value) {\n                var val = parseFloat(value);\n                if (!isNaN(val)) {\n                    valueAccessor()(val);\n                }\n            });\n            valueAccessor().subscribe(function(value) {\n                var str = JSON.stringify(value);\n                if ((str == \"0\") && ([\"-0\", \"-0.\"].indexOf(stringified()) >= 0))\n                     return;\n                 if ([\"null\", \"\"].indexOf(str) >= 0)\n                     return;\n                stringified(str);\n            });\n            ko.applyBindingsToNode(\n                element,\n                {\n                    value: stringified,\n                    valueUpdate: allBindings.get('valueUpdate'),\n                },\n                context,\n            );\n        }\n    };\n    var json_data = {\"formatted_vals\":[\"1\",\"2\",\"3\",\"4\",\"5\",\"6\",\"7\",\"8\",\"9\",\"10\",\"11\",\"12\",\"13\",\"14\",\"15\",\"16\",\"17\",\"18\",\"19\",\"20\",\"21\",\"22\",\"23\",\"24\",\"25\",\"26\",\"27\",\"28\",\"29\",\"30\",\"31\",\"32\",\"33\",\"34\",\"35\",\"36\",\"37\",\"38\",\"39\",\"40\",\"41\",\"42\",\"43\",\"44\",\"45\",\"46\",\"47\",\"48\",\"49\",\"50\",\"51\",\"52\",\"53\",\"54\",\"55\",\"56\",\"57\",\"58\",\"59\",\"60\",\"61\",\"62\",\"63\",\"64\",\"65\",\"66\",\"67\",\"68\",\"69\",\"70\",\"71\",\"72\",\"73\",\"74\",\"75\",\"76\",\"77\",\"78\",\"79\",\"80\",\"81\",\"82\",\"83\",\"84\",\"85\",\"86\",\"87\",\"88\",\"89\",\"90\",\"91\",\"92\",\"93\",\"94\",\"95\",\"96\",\"97\",\"98\",\"99\",\"100\",\"101\",\"102\",\"103\",\"104\",\"105\",\"106\",\"107\",\"108\",\"109\",\"110\",\"111\",\"112\",\"113\",\"114\",\"115\",\"116\",\"117\",\"118\",\"119\",\"120\",\"121\",\"122\",\"123\",\"124\",\"125\",\"126\",\"127\",\"128\",\"129\",\"130\",\"131\",\"132\",\"133\",\"134\",\"135\",\"136\",\"137\",\"138\",\"139\",\"140\",\"141\",\"142\",\"143\",\"144\",\"145\",\"146\",\"147\",\"148\",\"149\",\"150\",\"151\",\"152\",\"153\",\"154\",\"155\",\"156\",\"157\",\"158\",\"159\",\"160\",\"161\",\"162\",\"163\",\"164\",\"165\",\"166\",\"167\",\"168\",\"169\",\"170\",\"171\",\"172\",\"173\",\"174\",\"175\",\"176\",\"177\",\"178\",\"179\",\"180\",\"181\",\"182\",\"183\",\"184\",\"185\",\"186\",\"187\",\"188\",\"189\",\"190\",\"191\",\"192\",\"193\",\"194\",\"195\",\"196\",\"197\",\"198\",\"199\",\"200\",\"201\"],\"changes\":WebIO.getval({\"name\":\"changes\",\"scope\":\"17514974514166748399\",\"id\":\"6918289999493541469\",\"type\":\"observable\"}),\"index\":WebIO.getval({\"name\":\"index\",\"scope\":\"17514974514166748399\",\"id\":\"4747400485968945816\",\"type\":\"observable\"})};\n    var self = this;\n    function AppViewModel() {\n        for (var key in json_data) {\n            var el = json_data[key];\n            this[key] = Array.isArray(el) ? ko.observableArray(el) : ko.observable(el);\n        }\n        \n        [this[\"formatted_val\"]=ko.computed(    function(){\n        return this.formatted_vals()[parseInt(this.index())-(1)];\n    }\n,this)]\n        [this[\"changes\"].subscribe((function (val){!(this.valueFromJulia[\"changes\"]) ? (WebIO.setval({\"name\":\"changes\",\"scope\":\"17514974514166748399\",\"id\":\"6918289999493541469\",\"type\":\"observable\"},val)) : undefined; return this.valueFromJulia[\"changes\"]=false}),self),this[\"index\"].subscribe((function (val){!(this.valueFromJulia[\"index\"]) ? (WebIO.setval({\"name\":\"index\",\"scope\":\"17514974514166748399\",\"id\":\"4747400485968945816\",\"type\":\"observable\"},val)) : undefined; return this.valueFromJulia[\"index\"]=false}),self)]\n        \n    }\n    self.model = new AppViewModel();\n    self.valueFromJulia = {};\n    for (var key in json_data) {\n        self.valueFromJulia[key] = false;\n    }\n    ko.applyBindings(self.model, self.dom);\n}\n);\n    (WebIO.importBlock({\"data\":[{\"name\":\"knockout\",\"type\":\"js\",\"url\":\"/assetserver/727383f2a47bd31570b7da84eee7b022dd6d7c78-knockout.js\"},{\"name\":\"knockout_punches\",\"type\":\"js\",\"url\":\"/assetserver/382b41b3b1bd9f26f75861d360bad7f8beea211f-knockout_punches.js\"}],\"type\":\"async_block\"})).then((imports) => handler.apply(this, imports));\n}\n"
                ],
                "observables": {
                 "changes": {
                  "id": "6918289999493541469",
                  "sync": false,
                  "value": 0
                 },
                 "index": {
                  "id": "4747400485968945816",
                  "sync": true,
                  "value": 101
                 }
                },
                "systemjs_options": null
               },
               "nodeType": "Scope",
               "props": {},
               "type": "node"
              }
             ],
             "instanceArgs": {
              "namespace": "html",
              "tag": "div"
             },
             "nodeType": "DOM",
             "props": {
              "className": "field interact-widget"
             },
             "type": "node"
            },
            {
             "children": [
              {
               "children": [
                {
                 "children": [
                  {
                   "children": [
                    {
                     "children": [
                      "scale"
                     ],
                     "instanceArgs": {
                      "namespace": "html",
                      "tag": "label"
                     },
                     "nodeType": "DOM",
                     "props": {
                      "className": "interact ",
                      "style": {
                       "padding": "5px 10px 0px 10px"
                      }
                     },
                     "type": "node"
                    }
                   ],
                   "instanceArgs": {
                    "namespace": "html",
                    "tag": "div"
                   },
                   "nodeType": "DOM",
                   "props": {
                    "className": "interact-flex-row-left"
                   },
                   "type": "node"
                  },
                  {
                   "children": [
                    {
                     "children": [],
                     "instanceArgs": {
                      "namespace": "html",
                      "tag": "input"
                     },
                     "nodeType": "DOM",
                     "props": {
                      "attributes": {
                       "data-bind": "numericValue: index, valueUpdate: 'input', event: {change: function (){this.changes(this.changes()+1)}}",
                       "orient": "horizontal",
                       "type": "range"
                      },
                      "className": "slider slider is-fullwidth",
                      "max": 20,
                      "min": 1,
                      "step": 1,
                      "style": {}
                     },
                     "type": "node"
                    }
                   ],
                   "instanceArgs": {
                    "namespace": "html",
                    "tag": "div"
                   },
                   "nodeType": "DOM",
                   "props": {
                    "className": "interact-flex-row-center"
                   },
                   "type": "node"
                  },
                  {
                   "children": [
                    {
                     "children": [],
                     "instanceArgs": {
                      "namespace": "html",
                      "tag": "p"
                     },
                     "nodeType": "DOM",
                     "props": {
                      "attributes": {
                       "data-bind": "text: formatted_val"
                      }
                     },
                     "type": "node"
                    }
                   ],
                   "instanceArgs": {
                    "namespace": "html",
                    "tag": "div"
                   },
                   "nodeType": "DOM",
                   "props": {
                    "className": "interact-flex-row-right"
                   },
                   "type": "node"
                  }
                 ],
                 "instanceArgs": {
                  "namespace": "html",
                  "tag": "div"
                 },
                 "nodeType": "DOM",
                 "props": {
                  "className": "interact-flex-row interact-widget"
                 },
                 "type": "node"
                }
               ],
               "instanceArgs": {
                "handlers": {
                 "changes": [
                  "(function (val){return (val!=this.model[\"changes\"]()) ? (this.valueFromJulia[\"changes\"]=true, this.model[\"changes\"](val)) : undefined})"
                 ],
                 "index": [
                  "(function (val){return (val!=this.model[\"index\"]()) ? (this.valueFromJulia[\"index\"]=true, this.model[\"index\"](val)) : undefined})"
                 ]
                },
                "id": "1457570773667146673",
                "imports": {
                 "data": [
                  {
                   "name": "knockout",
                   "type": "js",
                   "url": "/assetserver/727383f2a47bd31570b7da84eee7b022dd6d7c78-knockout.js"
                  },
                  {
                   "name": "knockout_punches",
                   "type": "js",
                   "url": "/assetserver/382b41b3b1bd9f26f75861d360bad7f8beea211f-knockout_punches.js"
                  },
                  {
                   "name": null,
                   "type": "js",
                   "url": "/assetserver/5ab20f1060420992a9b82a65b735dee4d81ef413-all.js"
                  },
                  {
                   "name": null,
                   "type": "css",
                   "url": "/assetserver/1cc0ed62837210b80a182cc3676512f895dab686-style.css"
                  },
                  {
                   "name": null,
                   "type": "css",
                   "url": "/assetserver/2eee816f616df3549d7044d45e744fbf8d42bfa1-bulma_confined.min.css"
                  }
                 ],
                 "type": "async_block"
                },
                "mount_callbacks": [
                 "function () {\n    var handler = (function (ko, koPunches) {\n    ko.punches.enableAll();\n    ko.bindingHandlers.numericValue = {\n        init: function(element, valueAccessor, allBindings, data, context) {\n            var stringified = ko.observable(ko.unwrap(valueAccessor()));\n            stringified.subscribe(function(value) {\n                var val = parseFloat(value);\n                if (!isNaN(val)) {\n                    valueAccessor()(val);\n                }\n            });\n            valueAccessor().subscribe(function(value) {\n                var str = JSON.stringify(value);\n                if ((str == \"0\") && ([\"-0\", \"-0.\"].indexOf(stringified()) >= 0))\n                     return;\n                 if ([\"null\", \"\"].indexOf(str) >= 0)\n                     return;\n                stringified(str);\n            });\n            ko.applyBindingsToNode(\n                element,\n                {\n                    value: stringified,\n                    valueUpdate: allBindings.get('valueUpdate'),\n                },\n                context,\n            );\n        }\n    };\n    var json_data = {\"formatted_vals\":[\"0.1\",\"0.2\",\"0.3\",\"0.4\",\"0.5\",\"0.6\",\"0.7\",\"0.8\",\"0.9\",\"1.0\",\"1.1\",\"1.2\",\"1.3\",\"1.4\",\"1.5\",\"1.6\",\"1.7\",\"1.8\",\"1.9\",\"2.0\"],\"changes\":WebIO.getval({\"name\":\"changes\",\"scope\":\"1457570773667146673\",\"id\":\"6759107932617874754\",\"type\":\"observable\"}),\"index\":WebIO.getval({\"name\":\"index\",\"scope\":\"1457570773667146673\",\"id\":\"12438774558361443774\",\"type\":\"observable\"})};\n    var self = this;\n    function AppViewModel() {\n        for (var key in json_data) {\n            var el = json_data[key];\n            this[key] = Array.isArray(el) ? ko.observableArray(el) : ko.observable(el);\n        }\n        \n        [this[\"formatted_val\"]=ko.computed(    function(){\n        return this.formatted_vals()[parseInt(this.index())-(1)];\n    }\n,this)]\n        [this[\"changes\"].subscribe((function (val){!(this.valueFromJulia[\"changes\"]) ? (WebIO.setval({\"name\":\"changes\",\"scope\":\"1457570773667146673\",\"id\":\"6759107932617874754\",\"type\":\"observable\"},val)) : undefined; return this.valueFromJulia[\"changes\"]=false}),self),this[\"index\"].subscribe((function (val){!(this.valueFromJulia[\"index\"]) ? (WebIO.setval({\"name\":\"index\",\"scope\":\"1457570773667146673\",\"id\":\"12438774558361443774\",\"type\":\"observable\"},val)) : undefined; return this.valueFromJulia[\"index\"]=false}),self)]\n        \n    }\n    self.model = new AppViewModel();\n    self.valueFromJulia = {};\n    for (var key in json_data) {\n        self.valueFromJulia[key] = false;\n    }\n    ko.applyBindings(self.model, self.dom);\n}\n);\n    (WebIO.importBlock({\"data\":[{\"name\":\"knockout\",\"type\":\"js\",\"url\":\"/assetserver/727383f2a47bd31570b7da84eee7b022dd6d7c78-knockout.js\"},{\"name\":\"knockout_punches\",\"type\":\"js\",\"url\":\"/assetserver/382b41b3b1bd9f26f75861d360bad7f8beea211f-knockout_punches.js\"}],\"type\":\"async_block\"})).then((imports) => handler.apply(this, imports));\n}\n"
                ],
                "observables": {
                 "changes": {
                  "id": "6759107932617874754",
                  "sync": false,
                  "value": 0
                 },
                 "index": {
                  "id": "12438774558361443774",
                  "sync": true,
                  "value": 10
                 }
                },
                "systemjs_options": null
               },
               "nodeType": "Scope",
               "props": {},
               "type": "node"
              }
             ],
             "instanceArgs": {
              "namespace": "html",
              "tag": "div"
             },
             "nodeType": "DOM",
             "props": {
              "className": "field interact-widget"
             },
             "type": "node"
            },
            {
             "children": [
              {
               "children": [
                {
                 "children": [
                  {
                   "children": [],
                   "instanceArgs": {
                    "namespace": "html",
                    "tag": "div"
                   },
                   "nodeType": "DOM",
                   "props": {
                    "id": "container"
                   },
                   "type": "node"
                  }
                 ],
                 "instanceArgs": {
                  "handlers": {
                   "value": [
                    "(function (txt){return this.k.render(txt,this.container)})"
                   ]
                  },
                  "id": "15468608598478948468",
                  "imports": {
                   "data": [
                    {
                     "name": null,
                     "type": "js",
                     "url": "/assetserver/dd22ed1bf1896c2748f3fe616ce0b838adc895c1-katex.min.js"
                    },
                    {
                     "name": null,
                     "type": "css",
                     "url": "/assetserver/46517a424aa5e6cffc1360d7e0848b601c584ee3-katex.min.css"
                    }
                   ],
                   "type": "async_block"
                  },
                  "mount_callbacks": [
                   "function () {\n    var handler = ((function (k){this.k=k; this.container=this.dom.querySelector(\"#container\"); return k.render(\"\\\\;\\\\;\",this.container)}));\n    (WebIO.importBlock({\"data\":[{\"name\":null,\"type\":\"js\",\"url\":\"/assetserver/dd22ed1bf1896c2748f3fe616ce0b838adc895c1-katex.min.js\"},{\"name\":null,\"type\":\"css\",\"url\":\"/assetserver/46517a424aa5e6cffc1360d7e0848b601c584ee3-katex.min.css\"}],\"type\":\"async_block\"})).then((imports) => handler.apply(this, imports));\n}\n"
                  ],
                  "observables": {
                   "value": {
                    "id": "18094332198741230758",
                    "sync": false,
                    "value": "\\;\\;"
                   }
                  },
                  "systemjs_options": null
                 },
                 "nodeType": "Scope",
                 "props": {},
                 "type": "node"
                }
               ],
               "instanceArgs": {
                "namespace": "html",
                "tag": "div"
               },
               "nodeType": "DOM",
               "props": {
                "className": "interact-widget"
               },
               "type": "node"
              },
              {
               "children": [
                {
                 "children": [
                  {
                   "children": [
                    "run"
                   ],
                   "instanceArgs": {
                    "namespace": "html",
                    "tag": "button"
                   },
                   "nodeType": "DOM",
                   "props": {
                    "attributes": {
                     "data-bind": "click: function (){this.clicks(this.clicks()+1)}, css: {'is-loading' : loading}"
                    },
                    "className": "is-medium button is-primary",
                    "style": {}
                   },
                   "type": "node"
                  }
                 ],
                 "instanceArgs": {
                  "handlers": {
                   "clicks": [
                    "(function (val){return (val!=this.model[\"clicks\"]()) ? (this.valueFromJulia[\"clicks\"]=true, this.model[\"clicks\"](val)) : undefined})"
                   ],
                   "loading": [
                    "(function (val){return (val!=this.model[\"loading\"]()) ? (this.valueFromJulia[\"loading\"]=true, this.model[\"loading\"](val)) : undefined})"
                   ]
                  },
                  "id": "18088297194133369922",
                  "imports": {
                   "data": [
                    {
                     "name": "knockout",
                     "type": "js",
                     "url": "/assetserver/727383f2a47bd31570b7da84eee7b022dd6d7c78-knockout.js"
                    },
                    {
                     "name": "knockout_punches",
                     "type": "js",
                     "url": "/assetserver/382b41b3b1bd9f26f75861d360bad7f8beea211f-knockout_punches.js"
                    },
                    {
                     "name": null,
                     "type": "js",
                     "url": "/assetserver/5ab20f1060420992a9b82a65b735dee4d81ef413-all.js"
                    },
                    {
                     "name": null,
                     "type": "css",
                     "url": "/assetserver/1cc0ed62837210b80a182cc3676512f895dab686-style.css"
                    },
                    {
                     "name": null,
                     "type": "css",
                     "url": "/assetserver/2eee816f616df3549d7044d45e744fbf8d42bfa1-bulma_confined.min.css"
                    }
                   ],
                   "type": "async_block"
                  },
                  "mount_callbacks": [
                   "function () {\n    var handler = (function (ko, koPunches) {\n    ko.punches.enableAll();\n    ko.bindingHandlers.numericValue = {\n        init: function(element, valueAccessor, allBindings, data, context) {\n            var stringified = ko.observable(ko.unwrap(valueAccessor()));\n            stringified.subscribe(function(value) {\n                var val = parseFloat(value);\n                if (!isNaN(val)) {\n                    valueAccessor()(val);\n                }\n            });\n            valueAccessor().subscribe(function(value) {\n                var str = JSON.stringify(value);\n                if ((str == \"0\") && ([\"-0\", \"-0.\"].indexOf(stringified()) >= 0))\n                     return;\n                 if ([\"null\", \"\"].indexOf(str) >= 0)\n                     return;\n                stringified(str);\n            });\n            ko.applyBindingsToNode(\n                element,\n                {\n                    value: stringified,\n                    valueUpdate: allBindings.get('valueUpdate'),\n                },\n                context,\n            );\n        }\n    };\n    var json_data = {\"loading\":WebIO.getval({\"name\":\"loading\",\"scope\":\"18088297194133369922\",\"id\":\"14835779357772875376\",\"type\":\"observable\"}),\"clicks\":WebIO.getval({\"name\":\"clicks\",\"scope\":\"18088297194133369922\",\"id\":\"4678876138284527200\",\"type\":\"observable\"})};\n    var self = this;\n    function AppViewModel() {\n        for (var key in json_data) {\n            var el = json_data[key];\n            this[key] = Array.isArray(el) ? ko.observableArray(el) : ko.observable(el);\n        }\n        \n        \n        [this[\"loading\"].subscribe((function (val){!(this.valueFromJulia[\"loading\"]) ? (WebIO.setval({\"name\":\"loading\",\"scope\":\"18088297194133369922\",\"id\":\"14835779357772875376\",\"type\":\"observable\"},val)) : undefined; return this.valueFromJulia[\"loading\"]=false}),self),this[\"clicks\"].subscribe((function (val){!(this.valueFromJulia[\"clicks\"]) ? (WebIO.setval({\"name\":\"clicks\",\"scope\":\"18088297194133369922\",\"id\":\"4678876138284527200\",\"type\":\"observable\"},val)) : undefined; return this.valueFromJulia[\"clicks\"]=false}),self)]\n        \n    }\n    self.model = new AppViewModel();\n    self.valueFromJulia = {};\n    for (var key in json_data) {\n        self.valueFromJulia[key] = false;\n    }\n    ko.applyBindings(self.model, self.dom);\n}\n);\n    (WebIO.importBlock({\"data\":[{\"name\":\"knockout\",\"type\":\"js\",\"url\":\"/assetserver/727383f2a47bd31570b7da84eee7b022dd6d7c78-knockout.js\"},{\"name\":\"knockout_punches\",\"type\":\"js\",\"url\":\"/assetserver/382b41b3b1bd9f26f75861d360bad7f8beea211f-knockout_punches.js\"}],\"type\":\"async_block\"})).then((imports) => handler.apply(this, imports));\n}\n"
                  ],
                  "observables": {
                   "clicks": {
                    "id": "4678876138284527200",
                    "sync": true,
                    "value": 0
                   },
                   "loading": {
                    "id": "14835779357772875376",
                    "sync": false,
                    "value": false
                   }
                  },
                  "systemjs_options": null
                 },
                 "nodeType": "Scope",
                 "props": {},
                 "type": "node"
                }
               ],
               "instanceArgs": {
                "namespace": "html",
                "tag": "div"
               },
               "nodeType": "DOM",
               "props": {
                "className": "field interact-widget"
               },
               "type": "node"
              },
              {
               "children": [
                {
                 "children": [
                  {
                   "children": [],
                   "instanceArgs": {
                    "namespace": "html",
                    "tag": "div"
                   },
                   "nodeType": "DOM",
                   "props": {
                    "id": "container"
                   },
                   "type": "node"
                  }
                 ],
                 "instanceArgs": {
                  "handlers": {
                   "value": [
                    "(function (txt){return this.k.render(txt,this.container)})"
                   ]
                  },
                  "id": "15468608598478948468",
                  "imports": {
                   "data": [
                    {
                     "name": null,
                     "type": "js",
                     "url": "/assetserver/dd22ed1bf1896c2748f3fe616ce0b838adc895c1-katex.min.js"
                    },
                    {
                     "name": null,
                     "type": "css",
                     "url": "/assetserver/46517a424aa5e6cffc1360d7e0848b601c584ee3-katex.min.css"
                    }
                   ],
                   "type": "async_block"
                  },
                  "mount_callbacks": [
                   "function () {\n    var handler = ((function (k){this.k=k; this.container=this.dom.querySelector(\"#container\"); return k.render(\"\\\\;\\\\;\",this.container)}));\n    (WebIO.importBlock({\"data\":[{\"name\":null,\"type\":\"js\",\"url\":\"/assetserver/dd22ed1bf1896c2748f3fe616ce0b838adc895c1-katex.min.js\"},{\"name\":null,\"type\":\"css\",\"url\":\"/assetserver/46517a424aa5e6cffc1360d7e0848b601c584ee3-katex.min.css\"}],\"type\":\"async_block\"})).then((imports) => handler.apply(this, imports));\n}\n"
                  ],
                  "observables": {
                   "value": {
                    "id": "18094332198741230758",
                    "sync": false,
                    "value": "\\;\\;"
                   }
                  },
                  "systemjs_options": null
                 },
                 "nodeType": "Scope",
                 "props": {},
                 "type": "node"
                }
               ],
               "instanceArgs": {
                "namespace": "html",
                "tag": "div"
               },
               "nodeType": "DOM",
               "props": {
                "className": "interact-widget"
               },
               "type": "node"
              },
              {
               "children": [
                {
                 "children": [
                  {
                   "children": [
                    "stop"
                   ],
                   "instanceArgs": {
                    "namespace": "html",
                    "tag": "button"
                   },
                   "nodeType": "DOM",
                   "props": {
                    "attributes": {
                     "data-bind": "click: function (){this.clicks(this.clicks()+1)}, css: {'is-loading' : loading}"
                    },
                    "className": "is-medium button is-primary",
                    "style": {}
                   },
                   "type": "node"
                  }
                 ],
                 "instanceArgs": {
                  "handlers": {
                   "clicks": [
                    "(function (val){return (val!=this.model[\"clicks\"]()) ? (this.valueFromJulia[\"clicks\"]=true, this.model[\"clicks\"](val)) : undefined})"
                   ],
                   "loading": [
                    "(function (val){return (val!=this.model[\"loading\"]()) ? (this.valueFromJulia[\"loading\"]=true, this.model[\"loading\"](val)) : undefined})"
                   ]
                  },
                  "id": "7184289346081109515",
                  "imports": {
                   "data": [
                    {
                     "name": "knockout",
                     "type": "js",
                     "url": "/assetserver/727383f2a47bd31570b7da84eee7b022dd6d7c78-knockout.js"
                    },
                    {
                     "name": "knockout_punches",
                     "type": "js",
                     "url": "/assetserver/382b41b3b1bd9f26f75861d360bad7f8beea211f-knockout_punches.js"
                    },
                    {
                     "name": null,
                     "type": "js",
                     "url": "/assetserver/5ab20f1060420992a9b82a65b735dee4d81ef413-all.js"
                    },
                    {
                     "name": null,
                     "type": "css",
                     "url": "/assetserver/1cc0ed62837210b80a182cc3676512f895dab686-style.css"
                    },
                    {
                     "name": null,
                     "type": "css",
                     "url": "/assetserver/2eee816f616df3549d7044d45e744fbf8d42bfa1-bulma_confined.min.css"
                    }
                   ],
                   "type": "async_block"
                  },
                  "mount_callbacks": [
                   "function () {\n    var handler = (function (ko, koPunches) {\n    ko.punches.enableAll();\n    ko.bindingHandlers.numericValue = {\n        init: function(element, valueAccessor, allBindings, data, context) {\n            var stringified = ko.observable(ko.unwrap(valueAccessor()));\n            stringified.subscribe(function(value) {\n                var val = parseFloat(value);\n                if (!isNaN(val)) {\n                    valueAccessor()(val);\n                }\n            });\n            valueAccessor().subscribe(function(value) {\n                var str = JSON.stringify(value);\n                if ((str == \"0\") && ([\"-0\", \"-0.\"].indexOf(stringified()) >= 0))\n                     return;\n                 if ([\"null\", \"\"].indexOf(str) >= 0)\n                     return;\n                stringified(str);\n            });\n            ko.applyBindingsToNode(\n                element,\n                {\n                    value: stringified,\n                    valueUpdate: allBindings.get('valueUpdate'),\n                },\n                context,\n            );\n        }\n    };\n    var json_data = {\"loading\":WebIO.getval({\"name\":\"loading\",\"scope\":\"7184289346081109515\",\"id\":\"766640351251589906\",\"type\":\"observable\"}),\"clicks\":WebIO.getval({\"name\":\"clicks\",\"scope\":\"7184289346081109515\",\"id\":\"9807735446982096615\",\"type\":\"observable\"})};\n    var self = this;\n    function AppViewModel() {\n        for (var key in json_data) {\n            var el = json_data[key];\n            this[key] = Array.isArray(el) ? ko.observableArray(el) : ko.observable(el);\n        }\n        \n        \n        [this[\"loading\"].subscribe((function (val){!(this.valueFromJulia[\"loading\"]) ? (WebIO.setval({\"name\":\"loading\",\"scope\":\"7184289346081109515\",\"id\":\"766640351251589906\",\"type\":\"observable\"},val)) : undefined; return this.valueFromJulia[\"loading\"]=false}),self),this[\"clicks\"].subscribe((function (val){!(this.valueFromJulia[\"clicks\"]) ? (WebIO.setval({\"name\":\"clicks\",\"scope\":\"7184289346081109515\",\"id\":\"9807735446982096615\",\"type\":\"observable\"},val)) : undefined; return this.valueFromJulia[\"clicks\"]=false}),self)]\n        \n    }\n    self.model = new AppViewModel();\n    self.valueFromJulia = {};\n    for (var key in json_data) {\n        self.valueFromJulia[key] = false;\n    }\n    ko.applyBindings(self.model, self.dom);\n}\n);\n    (WebIO.importBlock({\"data\":[{\"name\":\"knockout\",\"type\":\"js\",\"url\":\"/assetserver/727383f2a47bd31570b7da84eee7b022dd6d7c78-knockout.js\"},{\"name\":\"knockout_punches\",\"type\":\"js\",\"url\":\"/assetserver/382b41b3b1bd9f26f75861d360bad7f8beea211f-knockout_punches.js\"}],\"type\":\"async_block\"})).then((imports) => handler.apply(this, imports));\n}\n"
                  ],
                  "observables": {
                   "clicks": {
                    "id": "9807735446982096615",
                    "sync": true,
                    "value": 0
                   },
                   "loading": {
                    "id": "766640351251589906",
                    "sync": false,
                    "value": false
                   }
                  },
                  "systemjs_options": null
                 },
                 "nodeType": "Scope",
                 "props": {},
                 "type": "node"
                }
               ],
               "instanceArgs": {
                "namespace": "html",
                "tag": "div"
               },
               "nodeType": "DOM",
               "props": {
                "className": "field interact-widget"
               },
               "type": "node"
              },
              {
               "children": [
                {
                 "children": [
                  {
                   "children": [],
                   "instanceArgs": {
                    "namespace": "html",
                    "tag": "div"
                   },
                   "nodeType": "DOM",
                   "props": {
                    "id": "container"
                   },
                   "type": "node"
                  }
                 ],
                 "instanceArgs": {
                  "handlers": {
                   "value": [
                    "(function (txt){return this.k.render(txt,this.container)})"
                   ]
                  },
                  "id": "15468608598478948468",
                  "imports": {
                   "data": [
                    {
                     "name": null,
                     "type": "js",
                     "url": "/assetserver/dd22ed1bf1896c2748f3fe616ce0b838adc895c1-katex.min.js"
                    },
                    {
                     "name": null,
                     "type": "css",
                     "url": "/assetserver/46517a424aa5e6cffc1360d7e0848b601c584ee3-katex.min.css"
                    }
                   ],
                   "type": "async_block"
                  },
                  "mount_callbacks": [
                   "function () {\n    var handler = ((function (k){this.k=k; this.container=this.dom.querySelector(\"#container\"); return k.render(\"\\\\;\\\\;\",this.container)}));\n    (WebIO.importBlock({\"data\":[{\"name\":null,\"type\":\"js\",\"url\":\"/assetserver/dd22ed1bf1896c2748f3fe616ce0b838adc895c1-katex.min.js\"},{\"name\":null,\"type\":\"css\",\"url\":\"/assetserver/46517a424aa5e6cffc1360d7e0848b601c584ee3-katex.min.css\"}],\"type\":\"async_block\"})).then((imports) => handler.apply(this, imports));\n}\n"
                  ],
                  "observables": {
                   "value": {
                    "id": "18094332198741230758",
                    "sync": false,
                    "value": "\\;\\;"
                   }
                  },
                  "systemjs_options": null
                 },
                 "nodeType": "Scope",
                 "props": {},
                 "type": "node"
                }
               ],
               "instanceArgs": {
                "namespace": "html",
                "tag": "div"
               },
               "nodeType": "DOM",
               "props": {
                "className": "interact-widget"
               },
               "type": "node"
              },
              {
               "children": [
                {
                 "children": [
                  {
                   "children": [
                    "save"
                   ],
                   "instanceArgs": {
                    "namespace": "html",
                    "tag": "button"
                   },
                   "nodeType": "DOM",
                   "props": {
                    "attributes": {
                     "data-bind": "click: function (){this.clicks(this.clicks()+1)}, css: {'is-loading' : loading}"
                    },
                    "className": "is-medium button is-primary",
                    "style": {}
                   },
                   "type": "node"
                  }
                 ],
                 "instanceArgs": {
                  "handlers": {
                   "clicks": [
                    "(function (val){return (val!=this.model[\"clicks\"]()) ? (this.valueFromJulia[\"clicks\"]=true, this.model[\"clicks\"](val)) : undefined})"
                   ],
                   "loading": [
                    "(function (val){return (val!=this.model[\"loading\"]()) ? (this.valueFromJulia[\"loading\"]=true, this.model[\"loading\"](val)) : undefined})"
                   ]
                  },
                  "id": "15755790075582025821",
                  "imports": {
                   "data": [
                    {
                     "name": "knockout",
                     "type": "js",
                     "url": "/assetserver/727383f2a47bd31570b7da84eee7b022dd6d7c78-knockout.js"
                    },
                    {
                     "name": "knockout_punches",
                     "type": "js",
                     "url": "/assetserver/382b41b3b1bd9f26f75861d360bad7f8beea211f-knockout_punches.js"
                    },
                    {
                     "name": null,
                     "type": "js",
                     "url": "/assetserver/5ab20f1060420992a9b82a65b735dee4d81ef413-all.js"
                    },
                    {
                     "name": null,
                     "type": "css",
                     "url": "/assetserver/1cc0ed62837210b80a182cc3676512f895dab686-style.css"
                    },
                    {
                     "name": null,
                     "type": "css",
                     "url": "/assetserver/2eee816f616df3549d7044d45e744fbf8d42bfa1-bulma_confined.min.css"
                    }
                   ],
                   "type": "async_block"
                  },
                  "mount_callbacks": [
                   "function () {\n    var handler = (function (ko, koPunches) {\n    ko.punches.enableAll();\n    ko.bindingHandlers.numericValue = {\n        init: function(element, valueAccessor, allBindings, data, context) {\n            var stringified = ko.observable(ko.unwrap(valueAccessor()));\n            stringified.subscribe(function(value) {\n                var val = parseFloat(value);\n                if (!isNaN(val)) {\n                    valueAccessor()(val);\n                }\n            });\n            valueAccessor().subscribe(function(value) {\n                var str = JSON.stringify(value);\n                if ((str == \"0\") && ([\"-0\", \"-0.\"].indexOf(stringified()) >= 0))\n                     return;\n                 if ([\"null\", \"\"].indexOf(str) >= 0)\n                     return;\n                stringified(str);\n            });\n            ko.applyBindingsToNode(\n                element,\n                {\n                    value: stringified,\n                    valueUpdate: allBindings.get('valueUpdate'),\n                },\n                context,\n            );\n        }\n    };\n    var json_data = {\"loading\":WebIO.getval({\"name\":\"loading\",\"scope\":\"15755790075582025821\",\"id\":\"17714658702317865257\",\"type\":\"observable\"}),\"clicks\":WebIO.getval({\"name\":\"clicks\",\"scope\":\"15755790075582025821\",\"id\":\"17524884257977667867\",\"type\":\"observable\"})};\n    var self = this;\n    function AppViewModel() {\n        for (var key in json_data) {\n            var el = json_data[key];\n            this[key] = Array.isArray(el) ? ko.observableArray(el) : ko.observable(el);\n        }\n        \n        \n        [this[\"loading\"].subscribe((function (val){!(this.valueFromJulia[\"loading\"]) ? (WebIO.setval({\"name\":\"loading\",\"scope\":\"15755790075582025821\",\"id\":\"17714658702317865257\",\"type\":\"observable\"},val)) : undefined; return this.valueFromJulia[\"loading\"]=false}),self),this[\"clicks\"].subscribe((function (val){!(this.valueFromJulia[\"clicks\"]) ? (WebIO.setval({\"name\":\"clicks\",\"scope\":\"15755790075582025821\",\"id\":\"17524884257977667867\",\"type\":\"observable\"},val)) : undefined; return this.valueFromJulia[\"clicks\"]=false}),self)]\n        \n    }\n    self.model = new AppViewModel();\n    self.valueFromJulia = {};\n    for (var key in json_data) {\n        self.valueFromJulia[key] = false;\n    }\n    ko.applyBindings(self.model, self.dom);\n}\n);\n    (WebIO.importBlock({\"data\":[{\"name\":\"knockout\",\"type\":\"js\",\"url\":\"/assetserver/727383f2a47bd31570b7da84eee7b022dd6d7c78-knockout.js\"},{\"name\":\"knockout_punches\",\"type\":\"js\",\"url\":\"/assetserver/382b41b3b1bd9f26f75861d360bad7f8beea211f-knockout_punches.js\"}],\"type\":\"async_block\"})).then((imports) => handler.apply(this, imports));\n}\n"
                  ],
                  "observables": {
                   "clicks": {
                    "id": "17524884257977667867",
                    "sync": true,
                    "value": 0
                   },
                   "loading": {
                    "id": "17714658702317865257",
                    "sync": false,
                    "value": false
                   }
                  },
                  "systemjs_options": null
                 },
                 "nodeType": "Scope",
                 "props": {},
                 "type": "node"
                }
               ],
               "instanceArgs": {
                "namespace": "html",
                "tag": "div"
               },
               "nodeType": "DOM",
               "props": {
                "className": "field interact-widget"
               },
               "type": "node"
              }
             ],
             "instanceArgs": {
              "namespace": "html",
              "tag": "div"
             },
             "nodeType": "DOM",
             "props": {
              "style": {
               "display": "flex",
               "flex-direction": "row"
              }
             },
             "type": "node"
            }
           ],
           "instanceArgs": {
            "namespace": "html",
            "tag": "div"
           },
           "nodeType": "DOM",
           "props": {
            "style": {
             "display": "flex",
             "flex-direction": "column"
            }
           },
           "type": "node"
          },
          {
           "children": [
            {
             "children": [
              {
               "children": [],
               "instanceArgs": {
                "namespace": "html",
                "tag": "div"
               },
               "nodeType": "DOM",
               "props": {
                "id": "container"
               },
               "type": "node"
              }
             ],
             "instanceArgs": {
              "handlers": {
               "value": [
                "(function (txt){return this.k.render(txt,this.container)})"
               ]
              },
              "id": "15468608598478948468",
              "imports": {
               "data": [
                {
                 "name": null,
                 "type": "js",
                 "url": "/assetserver/dd22ed1bf1896c2748f3fe616ce0b838adc895c1-katex.min.js"
                },
                {
                 "name": null,
                 "type": "css",
                 "url": "/assetserver/46517a424aa5e6cffc1360d7e0848b601c584ee3-katex.min.css"
                }
               ],
               "type": "async_block"
              },
              "mount_callbacks": [
               "function () {\n    var handler = ((function (k){this.k=k; this.container=this.dom.querySelector(\"#container\"); return k.render(\"\\\\;\\\\;\",this.container)}));\n    (WebIO.importBlock({\"data\":[{\"name\":null,\"type\":\"js\",\"url\":\"/assetserver/dd22ed1bf1896c2748f3fe616ce0b838adc895c1-katex.min.js\"},{\"name\":null,\"type\":\"css\",\"url\":\"/assetserver/46517a424aa5e6cffc1360d7e0848b601c584ee3-katex.min.css\"}],\"type\":\"async_block\"})).then((imports) => handler.apply(this, imports));\n}\n"
              ],
              "observables": {
               "value": {
                "id": "18094332198741230758",
                "sync": false,
                "value": "\\;\\;"
               }
              },
              "systemjs_options": null
             },
             "nodeType": "Scope",
             "props": {},
             "type": "node"
            }
           ],
           "instanceArgs": {
            "namespace": "html",
            "tag": "div"
           },
           "nodeType": "DOM",
           "props": {
            "className": "interact-widget"
           },
           "type": "node"
          },
          {
           "children": [
            {
             "children": [],
             "instanceArgs": {
              "namespace": "html",
              "tag": "div"
             },
             "nodeType": "DOM",
             "props": {
              "className": "webio-observable",
              "setInnerHtml": "<img src='data:image/png;base64,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'></img>"
             },
             "type": "node"
            }
           ],
           "instanceArgs": {
            "handlers": {
             "obs-output": [
              "function (value, scope) {\n    scope.setInnerHTML(value);\n}\n"
             ]
            },
            "id": "11344479758457879779",
            "imports": {
             "data": [],
             "type": "async_block"
            },
            "mount_callbacks": [],
            "observables": {
             "obs-output": {
              "id": "12050462787531252671",
              "sync": false,
              "value": "<img src='data:image/png;base64,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'></img>"
             }
            },
            "systemjs_options": null
           },
           "nodeType": "Scope",
           "props": {},
           "type": "node"
          },
          {
           "children": [
            {
             "children": [
              {
               "children": [],
               "instanceArgs": {
                "namespace": "html",
                "tag": "div"
               },
               "nodeType": "DOM",
               "props": {
                "id": "container"
               },
               "type": "node"
              }
             ],
             "instanceArgs": {
              "handlers": {
               "value": [
                "(function (txt){return this.k.render(txt,this.container)})"
               ]
              },
              "id": "15468608598478948468",
              "imports": {
               "data": [
                {
                 "name": null,
                 "type": "js",
                 "url": "/assetserver/dd22ed1bf1896c2748f3fe616ce0b838adc895c1-katex.min.js"
                },
                {
                 "name": null,
                 "type": "css",
                 "url": "/assetserver/46517a424aa5e6cffc1360d7e0848b601c584ee3-katex.min.css"
                }
               ],
               "type": "async_block"
              },
              "mount_callbacks": [
               "function () {\n    var handler = ((function (k){this.k=k; this.container=this.dom.querySelector(\"#container\"); return k.render(\"\\\\;\\\\;\",this.container)}));\n    (WebIO.importBlock({\"data\":[{\"name\":null,\"type\":\"js\",\"url\":\"/assetserver/dd22ed1bf1896c2748f3fe616ce0b838adc895c1-katex.min.js\"},{\"name\":null,\"type\":\"css\",\"url\":\"/assetserver/46517a424aa5e6cffc1360d7e0848b601c584ee3-katex.min.css\"}],\"type\":\"async_block\"})).then((imports) => handler.apply(this, imports));\n}\n"
              ],
              "observables": {
               "value": {
                "id": "18094332198741230758",
                "sync": false,
                "value": "\\;\\;"
               }
              },
              "systemjs_options": null
             },
             "nodeType": "Scope",
             "props": {},
             "type": "node"
            }
           ],
           "instanceArgs": {
            "namespace": "html",
            "tag": "div"
           },
           "nodeType": "DOM",
           "props": {
            "className": "interact-widget"
           },
           "type": "node"
          },
          {
           "children": [],
           "instanceArgs": {
            "namespace": "html",
            "tag": "div"
           },
           "nodeType": "DOM",
           "props": {
            "style": {
             "display": "flex",
             "flex-direction": "column"
            }
           },
           "type": "node"
          }
         ],
         "instanceArgs": {
          "namespace": "html",
          "tag": "div"
         },
         "nodeType": "DOM",
         "props": {
          "style": {
           "display": "flex",
           "flex-direction": "row"
          }
         },
         "type": "node"
        }
       ],
       "instanceArgs": {
        "namespace": "html",
        "tag": "div"
       },
       "nodeType": "DOM",
       "props": {
        "style": {
         "display": "flex",
         "flex-direction": "column"
        }
       },
       "type": "node"
      },
      "text/html": [
       "<div\n",
       "    class=\"webio-mountpoint\"\n",
       "    data-webio-mountpoint=\"10545743826624644393\"\n",
       ">\n",
       "    <script>\n",
       "    (function(){\n",
       "    // Some integrations (namely, IJulia/Jupyter) use an alternate render pathway than\n",
       "    // just putting the html on the page. If WebIO isn't defined, then it's pretty likely\n",
       "    // that we're in one of those situations and the integration just isn't installed\n",
       "    // correctly.\n",
       "    if (typeof window.WebIO === \"undefined\") {\n",
       "        document\n",
       "            .querySelector('[data-webio-mountpoint=\"10545743826624644393\"]')\n",
       "            .innerHTML = (\n",
       "                '<div style=\"padding: 1em; background-color: #f8d6da; border: 1px solid #f5c6cb; font-weight: bold;\">' +\n",
       "                '<p><strong>WebIO not detected.</strong></p>' +\n",
       "                '<p>Please read ' +\n",
       "                '<a href=\"https://juliagizmos.github.io/WebIO.jl/latest/troubleshooting/not-detected/\" target=\"_blank\">the troubleshooting guide</a> ' +\n",
       "                'for more information on how to resolve this issue.</p>' +\n",
       "                '<p><a href=\"https://juliagizmos.github.io/WebIO.jl/latest/troubleshooting/not-detected/\" target=\"_blank\">https://juliagizmos.github.io/WebIO.jl/latest/troubleshooting/not-detected/</a></p>' +\n",
       "                '</div>'\n",
       "            );\n",
       "        return;\n",
       "    }\n",
       "    WebIO.mount(\n",
       "        document.querySelector('[data-webio-mountpoint=\"10545743826624644393\"]'),\n",
       "        {\"props\":{\"style\":{\"display\":\"flex\",\"flex-direction\":\"column\"}},\"nodeType\":\"DOM\",\"type\":\"node\",\"instanceArgs\":{\"namespace\":\"html\",\"tag\":\"div\"},\"children\":[{\"props\":{\"style\":{\"display\":\"flex\",\"flex-direction\":\"row\"}},\"nodeType\":\"DOM\",\"type\":\"node\",\"instanceArgs\":{\"namespace\":\"html\",\"tag\":\"div\"},\"children\":[{\"props\":{\"style\":{\"display\":\"flex\",\"flex-direction\":\"column\"}},\"nodeType\":\"DOM\",\"type\":\"node\",\"instanceArgs\":{\"namespace\":\"html\",\"tag\":\"div\"},\"children\":[{\"props\":{\"className\":\"field interact-widget\"},\"nodeType\":\"DOM\",\"type\":\"node\",\"instanceArgs\":{\"namespace\":\"html\",\"tag\":\"div\"},\"children\":[{\"props\":{},\"nodeType\":\"Scope\",\"type\":\"node\",\"instanceArgs\":{\"imports\":{\"data\":[{\"name\":\"knockout\",\"type\":\"js\",\"url\":\"\\/assetserver\\/727383f2a47bd31570b7da84eee7b022dd6d7c78-knockout.js\"},{\"name\":\"knockout_punches\",\"type\":\"js\",\"url\":\"\\/assetserver\\/382b41b3b1bd9f26f75861d360bad7f8beea211f-knockout_punches.js\"},{\"name\":null,\"type\":\"js\",\"url\":\"\\/assetserver\\/5ab20f1060420992a9b82a65b735dee4d81ef413-all.js\"},{\"name\":null,\"type\":\"css\",\"url\":\"\\/assetserver\\/1cc0ed62837210b80a182cc3676512f895dab686-style.css\"},{\"name\":null,\"type\":\"css\",\"url\":\"\\/assetserver\\/2eee816f616df3549d7044d45e744fbf8d42bfa1-bulma_confined.min.css\"}],\"type\":\"async_block\"},\"id\":\"17514974514166748399\",\"handlers\":{\"changes\":[\"(function (val){return (val!=this.model[\\\"changes\\\"]()) ? (this.valueFromJulia[\\\"changes\\\"]=true, this.model[\\\"changes\\\"](val)) : undefined})\"],\"index\":[\"(function (val){return (val!=this.model[\\\"index\\\"]()) ? (this.valueFromJulia[\\\"index\\\"]=true, this.model[\\\"index\\\"](val)) : undefined})\"]},\"systemjs_options\":null,\"mount_callbacks\":[\"function () {\\n    var handler = (function (ko, koPunches) {\\n    ko.punches.enableAll();\\n    ko.bindingHandlers.numericValue = {\\n        init: function(element, valueAccessor, allBindings, data, context) {\\n            var stringified = ko.observable(ko.unwrap(valueAccessor()));\\n            stringified.subscribe(function(value) {\\n                var val = parseFloat(value);\\n                if (!isNaN(val)) {\\n                    valueAccessor()(val);\\n                }\\n            });\\n            valueAccessor().subscribe(function(value) {\\n                var str = JSON.stringify(value);\\n                if ((str == \\\"0\\\") && ([\\\"-0\\\", \\\"-0.\\\"].indexOf(stringified()) >= 0))\\n                     return;\\n                 if ([\\\"null\\\", \\\"\\\"].indexOf(str) >= 0)\\n                     return;\\n                stringified(str);\\n            });\\n            ko.applyBindingsToNode(\\n                element,\\n                {\\n                    value: stringified,\\n                    valueUpdate: allBindings.get('valueUpdate'),\\n                },\\n                context,\\n            );\\n        }\\n    };\\n    var json_data = {\\\"formatted_vals\\\":[\\\"1\\\",\\\"2\\\",\\\"3\\\",\\\"4\\\",\\\"5\\\",\\\"6\\\",\\\"7\\\",\\\"8\\\",\\\"9\\\",\\\"10\\\",\\\"11\\\",\\\"12\\\",\\\"13\\\",\\\"14\\\",\\\"15\\\",\\\"16\\\",\\\"17\\\",\\\"18\\\",\\\"19\\\",\\\"20\\\",\\\"21\\\",\\\"22\\\",\\\"23\\\",\\\"24\\\",\\\"25\\\",\\\"26\\\",\\\"27\\\",\\\"28\\\",\\\"29\\\",\\\"30\\\",\\\"31\\\",\\\"32\\\",\\\"33\\\",\\\"34\\\",\\\"35\\\",\\\"36\\\",\\\"37\\\",\\\"38\\\",\\\"39\\\",\\\"40\\\",\\\"41\\\",\\\"42\\\",\\\"43\\\",\\\"44\\\",\\\"45\\\",\\\"46\\\",\\\"47\\\",\\\"48\\\",\\\"49\\\",\\\"50\\\",\\\"51\\\",\\\"52\\\",\\\"53\\\",\\\"54\\\",\\\"55\\\",\\\"56\\\",\\\"57\\\",\\\"58\\\",\\\"59\\\",\\\"60\\\",\\\"61\\\",\\\"62\\\",\\\"63\\\",\\\"64\\\",\\\"65\\\",\\\"66\\\",\\\"67\\\",\\\"68\\\",\\\"69\\\",\\\"70\\\",\\\"71\\\",\\\"72\\\",\\\"73\\\",\\\"74\\\",\\\"75\\\",\\\"76\\\",\\\"77\\\",\\\"78\\\",\\\"79\\\",\\\"80\\\",\\\"81\\\",\\\"82\\\",\\\"83\\\",\\\"84\\\",\\\"85\\\",\\\"86\\\",\\\"87\\\",\\\"88\\\",\\\"89\\\",\\\"90\\\",\\\"91\\\",\\\"92\\\",\\\"93\\\",\\\"94\\\",\\\"95\\\",\\\"96\\\",\\\"97\\\",\\\"98\\\",\\\"99\\\",\\\"100\\\",\\\"101\\\",\\\"102\\\",\\\"103\\\",\\\"104\\\",\\\"105\\\",\\\"106\\\",\\\"107\\\",\\\"108\\\",\\\"109\\\",\\\"110\\\",\\\"111\\\",\\\"112\\\",\\\"113\\\",\\\"114\\\",\\\"115\\\",\\\"116\\\",\\\"117\\\",\\\"118\\\",\\\"119\\\",\\\"120\\\",\\\"121\\\",\\\"122\\\",\\\"123\\\",\\\"124\\\",\\\"125\\\",\\\"126\\\",\\\"127\\\",\\\"128\\\",\\\"129\\\",\\\"130\\\",\\\"131\\\",\\\"132\\\",\\\"133\\\",\\\"134\\\",\\\"135\\\",\\\"136\\\",\\\"137\\\",\\\"138\\\",\\\"139\\\",\\\"140\\\",\\\"141\\\",\\\"142\\\",\\\"143\\\",\\\"144\\\",\\\"145\\\",\\\"146\\\",\\\"147\\\",\\\"148\\\",\\\"149\\\",\\\"150\\\",\\\"151\\\",\\\"152\\\",\\\"153\\\",\\\"154\\\",\\\"155\\\",\\\"156\\\",\\\"157\\\",\\\"158\\\",\\\"159\\\",\\\"160\\\",\\\"161\\\",\\\"162\\\",\\\"163\\\",\\\"164\\\",\\\"165\\\",\\\"166\\\",\\\"167\\\",\\\"168\\\",\\\"169\\\",\\\"170\\\",\\\"171\\\",\\\"172\\\",\\\"173\\\",\\\"174\\\",\\\"175\\\",\\\"176\\\",\\\"177\\\",\\\"178\\\",\\\"179\\\",\\\"180\\\",\\\"181\\\",\\\"182\\\",\\\"183\\\",\\\"184\\\",\\\"185\\\",\\\"186\\\",\\\"187\\\",\\\"188\\\",\\\"189\\\",\\\"190\\\",\\\"191\\\",\\\"192\\\",\\\"193\\\",\\\"194\\\",\\\"195\\\",\\\"196\\\",\\\"197\\\",\\\"198\\\",\\\"199\\\",\\\"200\\\",\\\"201\\\"],\\\"changes\\\":WebIO.getval({\\\"name\\\":\\\"changes\\\",\\\"scope\\\":\\\"17514974514166748399\\\",\\\"id\\\":\\\"6918289999493541469\\\",\\\"type\\\":\\\"observable\\\"}),\\\"index\\\":WebIO.getval({\\\"name\\\":\\\"index\\\",\\\"scope\\\":\\\"17514974514166748399\\\",\\\"id\\\":\\\"4747400485968945816\\\",\\\"type\\\":\\\"observable\\\"})};\\n    var self = this;\\n    function AppViewModel() {\\n        for (var key in json_data) {\\n            var el = json_data[key];\\n            this[key] = Array.isArray(el) ? ko.observableArray(el) : ko.observable(el);\\n        }\\n        \\n        [this[\\\"formatted_val\\\"]=ko.computed(    function(){\\n        return this.formatted_vals()[parseInt(this.index())-(1)];\\n    }\\n,this)]\\n        [this[\\\"changes\\\"].subscribe((function (val){!(this.valueFromJulia[\\\"changes\\\"]) ? (WebIO.setval({\\\"name\\\":\\\"changes\\\",\\\"scope\\\":\\\"17514974514166748399\\\",\\\"id\\\":\\\"6918289999493541469\\\",\\\"type\\\":\\\"observable\\\"},val)) : undefined; return this.valueFromJulia[\\\"changes\\\"]=false}),self),this[\\\"index\\\"].subscribe((function (val){!(this.valueFromJulia[\\\"index\\\"]) ? (WebIO.setval({\\\"name\\\":\\\"index\\\",\\\"scope\\\":\\\"17514974514166748399\\\",\\\"id\\\":\\\"4747400485968945816\\\",\\\"type\\\":\\\"observable\\\"},val)) : undefined; return this.valueFromJulia[\\\"index\\\"]=false}),self)]\\n        \\n    }\\n    self.model = new AppViewModel();\\n    self.valueFromJulia = {};\\n    for (var key in json_data) {\\n        self.valueFromJulia[key] = false;\\n    }\\n    ko.applyBindings(self.model, self.dom);\\n}\\n);\\n    (WebIO.importBlock({\\\"data\\\":[{\\\"name\\\":\\\"knockout\\\",\\\"type\\\":\\\"js\\\",\\\"url\\\":\\\"\\/assetserver\\/727383f2a47bd31570b7da84eee7b022dd6d7c78-knockout.js\\\"},{\\\"name\\\":\\\"knockout_punches\\\",\\\"type\\\":\\\"js\\\",\\\"url\\\":\\\"\\/assetserver\\/382b41b3b1bd9f26f75861d360bad7f8beea211f-knockout_punches.js\\\"}],\\\"type\\\":\\\"async_block\\\"})).then((imports) => handler.apply(this, imports));\\n}\\n\"],\"observables\":{\"changes\":{\"sync\":false,\"id\":\"6918289999493541469\",\"value\":0},\"index\":{\"sync\":true,\"id\":\"4747400485968945816\",\"value\":101}}},\"children\":[{\"props\":{\"className\":\"interact-flex-row interact-widget\"},\"nodeType\":\"DOM\",\"type\":\"node\",\"instanceArgs\":{\"namespace\":\"html\",\"tag\":\"div\"},\"children\":[{\"props\":{\"className\":\"interact-flex-row-left\"},\"nodeType\":\"DOM\",\"type\":\"node\",\"instanceArgs\":{\"namespace\":\"html\",\"tag\":\"div\"},\"children\":[{\"props\":{\"className\":\"interact \",\"style\":{\"padding\":\"5px 10px 0px 10px\"}},\"nodeType\":\"DOM\",\"type\":\"node\",\"instanceArgs\":{\"namespace\":\"html\",\"tag\":\"label\"},\"children\":[\"time\"]}]},{\"props\":{\"className\":\"interact-flex-row-center\"},\"nodeType\":\"DOM\",\"type\":\"node\",\"instanceArgs\":{\"namespace\":\"html\",\"tag\":\"div\"},\"children\":[{\"props\":{\"max\":201,\"min\":1,\"attributes\":{\"type\":\"range\",\"data-bind\":\"numericValue: index, valueUpdate: 'input', event: {change: function (){this.changes(this.changes()+1)}}\",\"orient\":\"horizontal\"},\"step\":1,\"className\":\"slider slider is-fullwidth\",\"style\":{}},\"nodeType\":\"DOM\",\"type\":\"node\",\"instanceArgs\":{\"namespace\":\"html\",\"tag\":\"input\"},\"children\":[]}]},{\"props\":{\"className\":\"interact-flex-row-right\"},\"nodeType\":\"DOM\",\"type\":\"node\",\"instanceArgs\":{\"namespace\":\"html\",\"tag\":\"div\"},\"children\":[{\"props\":{\"attributes\":{\"data-bind\":\"text: formatted_val\"}},\"nodeType\":\"DOM\",\"type\":\"node\",\"instanceArgs\":{\"namespace\":\"html\",\"tag\":\"p\"},\"children\":[]}]}]}]}]},{\"props\":{\"className\":\"field interact-widget\"},\"nodeType\":\"DOM\",\"type\":\"node\",\"instanceArgs\":{\"namespace\":\"html\",\"tag\":\"div\"},\"children\":[{\"props\":{},\"nodeType\":\"Scope\",\"type\":\"node\",\"instanceArgs\":{\"imports\":{\"data\":[{\"name\":\"knockout\",\"type\":\"js\",\"url\":\"\\/assetserver\\/727383f2a47bd31570b7da84eee7b022dd6d7c78-knockout.js\"},{\"name\":\"knockout_punches\",\"type\":\"js\",\"url\":\"\\/assetserver\\/382b41b3b1bd9f26f75861d360bad7f8beea211f-knockout_punches.js\"},{\"name\":null,\"type\":\"js\",\"url\":\"\\/assetserver\\/5ab20f1060420992a9b82a65b735dee4d81ef413-all.js\"},{\"name\":null,\"type\":\"css\",\"url\":\"\\/assetserver\\/1cc0ed62837210b80a182cc3676512f895dab686-style.css\"},{\"name\":null,\"type\":\"css\",\"url\":\"\\/assetserver\\/2eee816f616df3549d7044d45e744fbf8d42bfa1-bulma_confined.min.css\"}],\"type\":\"async_block\"},\"id\":\"1457570773667146673\",\"handlers\":{\"changes\":[\"(function (val){return (val!=this.model[\\\"changes\\\"]()) ? (this.valueFromJulia[\\\"changes\\\"]=true, this.model[\\\"changes\\\"](val)) : undefined})\"],\"index\":[\"(function (val){return (val!=this.model[\\\"index\\\"]()) ? (this.valueFromJulia[\\\"index\\\"]=true, this.model[\\\"index\\\"](val)) : undefined})\"]},\"systemjs_options\":null,\"mount_callbacks\":[\"function () {\\n    var handler = (function (ko, koPunches) {\\n    ko.punches.enableAll();\\n    ko.bindingHandlers.numericValue = {\\n        init: function(element, valueAccessor, allBindings, data, context) {\\n            var stringified = ko.observable(ko.unwrap(valueAccessor()));\\n            stringified.subscribe(function(value) {\\n                var val = parseFloat(value);\\n                if (!isNaN(val)) {\\n                    valueAccessor()(val);\\n                }\\n            });\\n            valueAccessor().subscribe(function(value) {\\n                var str = JSON.stringify(value);\\n                if ((str == \\\"0\\\") && ([\\\"-0\\\", \\\"-0.\\\"].indexOf(stringified()) >= 0))\\n                     return;\\n                 if ([\\\"null\\\", \\\"\\\"].indexOf(str) >= 0)\\n                     return;\\n                stringified(str);\\n            });\\n            ko.applyBindingsToNode(\\n                element,\\n                {\\n                    value: stringified,\\n                    valueUpdate: allBindings.get('valueUpdate'),\\n                },\\n                context,\\n            );\\n        }\\n    };\\n    var json_data = {\\\"formatted_vals\\\":[\\\"0.1\\\",\\\"0.2\\\",\\\"0.3\\\",\\\"0.4\\\",\\\"0.5\\\",\\\"0.6\\\",\\\"0.7\\\",\\\"0.8\\\",\\\"0.9\\\",\\\"1.0\\\",\\\"1.1\\\",\\\"1.2\\\",\\\"1.3\\\",\\\"1.4\\\",\\\"1.5\\\",\\\"1.6\\\",\\\"1.7\\\",\\\"1.8\\\",\\\"1.9\\\",\\\"2.0\\\"],\\\"changes\\\":WebIO.getval({\\\"name\\\":\\\"changes\\\",\\\"scope\\\":\\\"1457570773667146673\\\",\\\"id\\\":\\\"6759107932617874754\\\",\\\"type\\\":\\\"observable\\\"}),\\\"index\\\":WebIO.getval({\\\"name\\\":\\\"index\\\",\\\"scope\\\":\\\"1457570773667146673\\\",\\\"id\\\":\\\"12438774558361443774\\\",\\\"type\\\":\\\"observable\\\"})};\\n    var self = this;\\n    function AppViewModel() {\\n        for (var key in json_data) {\\n            var el = json_data[key];\\n            this[key] = Array.isArray(el) ? ko.observableArray(el) : ko.observable(el);\\n        }\\n        \\n        [this[\\\"formatted_val\\\"]=ko.computed(    function(){\\n        return this.formatted_vals()[parseInt(this.index())-(1)];\\n    }\\n,this)]\\n        [this[\\\"changes\\\"].subscribe((function (val){!(this.valueFromJulia[\\\"changes\\\"]) ? (WebIO.setval({\\\"name\\\":\\\"changes\\\",\\\"scope\\\":\\\"1457570773667146673\\\",\\\"id\\\":\\\"6759107932617874754\\\",\\\"type\\\":\\\"observable\\\"},val)) : undefined; return this.valueFromJulia[\\\"changes\\\"]=false}),self),this[\\\"index\\\"].subscribe((function (val){!(this.valueFromJulia[\\\"index\\\"]) ? (WebIO.setval({\\\"name\\\":\\\"index\\\",\\\"scope\\\":\\\"1457570773667146673\\\",\\\"id\\\":\\\"12438774558361443774\\\",\\\"type\\\":\\\"observable\\\"},val)) : undefined; return this.valueFromJulia[\\\"index\\\"]=false}),self)]\\n        \\n    }\\n    self.model = new AppViewModel();\\n    self.valueFromJulia = {};\\n    for (var key in json_data) {\\n        self.valueFromJulia[key] = false;\\n    }\\n    ko.applyBindings(self.model, self.dom);\\n}\\n);\\n    (WebIO.importBlock({\\\"data\\\":[{\\\"name\\\":\\\"knockout\\\",\\\"type\\\":\\\"js\\\",\\\"url\\\":\\\"\\/assetserver\\/727383f2a47bd31570b7da84eee7b022dd6d7c78-knockout.js\\\"},{\\\"name\\\":\\\"knockout_punches\\\",\\\"type\\\":\\\"js\\\",\\\"url\\\":\\\"\\/assetserver\\/382b41b3b1bd9f26f75861d360bad7f8beea211f-knockout_punches.js\\\"}],\\\"type\\\":\\\"async_block\\\"})).then((imports) => handler.apply(this, imports));\\n}\\n\"],\"observables\":{\"changes\":{\"sync\":false,\"id\":\"6759107932617874754\",\"value\":0},\"index\":{\"sync\":true,\"id\":\"12438774558361443774\",\"value\":10}}},\"children\":[{\"props\":{\"className\":\"interact-flex-row interact-widget\"},\"nodeType\":\"DOM\",\"type\":\"node\",\"instanceArgs\":{\"namespace\":\"html\",\"tag\":\"div\"},\"children\":[{\"props\":{\"className\":\"interact-flex-row-left\"},\"nodeType\":\"DOM\",\"type\":\"node\",\"instanceArgs\":{\"namespace\":\"html\",\"tag\":\"div\"},\"children\":[{\"props\":{\"className\":\"interact \",\"style\":{\"padding\":\"5px 10px 0px 10px\"}},\"nodeType\":\"DOM\",\"type\":\"node\",\"instanceArgs\":{\"namespace\":\"html\",\"tag\":\"label\"},\"children\":[\"scale\"]}]},{\"props\":{\"className\":\"interact-flex-row-center\"},\"nodeType\":\"DOM\",\"type\":\"node\",\"instanceArgs\":{\"namespace\":\"html\",\"tag\":\"div\"},\"children\":[{\"props\":{\"max\":20,\"min\":1,\"attributes\":{\"type\":\"range\",\"data-bind\":\"numericValue: index, valueUpdate: 'input', event: {change: function (){this.changes(this.changes()+1)}}\",\"orient\":\"horizontal\"},\"step\":1,\"className\":\"slider slider is-fullwidth\",\"style\":{}},\"nodeType\":\"DOM\",\"type\":\"node\",\"instanceArgs\":{\"namespace\":\"html\",\"tag\":\"input\"},\"children\":[]}]},{\"props\":{\"className\":\"interact-flex-row-right\"},\"nodeType\":\"DOM\",\"type\":\"node\",\"instanceArgs\":{\"namespace\":\"html\",\"tag\":\"div\"},\"children\":[{\"props\":{\"attributes\":{\"data-bind\":\"text: formatted_val\"}},\"nodeType\":\"DOM\",\"type\":\"node\",\"instanceArgs\":{\"namespace\":\"html\",\"tag\":\"p\"},\"children\":[]}]}]}]}]},{\"props\":{\"style\":{\"display\":\"flex\",\"flex-direction\":\"row\"}},\"nodeType\":\"DOM\",\"type\":\"node\",\"instanceArgs\":{\"namespace\":\"html\",\"tag\":\"div\"},\"children\":[{\"props\":{\"className\":\"interact-widget\"},\"nodeType\":\"DOM\",\"type\":\"node\",\"instanceArgs\":{\"namespace\":\"html\",\"tag\":\"div\"},\"children\":[{\"props\":{},\"nodeType\":\"Scope\",\"type\":\"node\",\"instanceArgs\":{\"imports\":{\"data\":[{\"name\":null,\"type\":\"js\",\"url\":\"\\/assetserver\\/dd22ed1bf1896c2748f3fe616ce0b838adc895c1-katex.min.js\"},{\"name\":null,\"type\":\"css\",\"url\":\"\\/assetserver\\/46517a424aa5e6cffc1360d7e0848b601c584ee3-katex.min.css\"}],\"type\":\"async_block\"},\"id\":\"15468608598478948468\",\"handlers\":{\"value\":[\"(function (txt){return this.k.render(txt,this.container)})\"]},\"systemjs_options\":null,\"mount_callbacks\":[\"function () {\\n    var handler = ((function (k){this.k=k; this.container=this.dom.querySelector(\\\"#container\\\"); return k.render(\\\"\\\\\\\\;\\\\\\\\;\\\",this.container)}));\\n    (WebIO.importBlock({\\\"data\\\":[{\\\"name\\\":null,\\\"type\\\":\\\"js\\\",\\\"url\\\":\\\"\\/assetserver\\/dd22ed1bf1896c2748f3fe616ce0b838adc895c1-katex.min.js\\\"},{\\\"name\\\":null,\\\"type\\\":\\\"css\\\",\\\"url\\\":\\\"\\/assetserver\\/46517a424aa5e6cffc1360d7e0848b601c584ee3-katex.min.css\\\"}],\\\"type\\\":\\\"async_block\\\"})).then((imports) => handler.apply(this, imports));\\n}\\n\"],\"observables\":{\"value\":{\"sync\":false,\"id\":\"18094332198741230758\",\"value\":\"\\\\;\\\\;\"}}},\"children\":[{\"props\":{\"id\":\"container\"},\"nodeType\":\"DOM\",\"type\":\"node\",\"instanceArgs\":{\"namespace\":\"html\",\"tag\":\"div\"},\"children\":[]}]}]},{\"props\":{\"className\":\"field interact-widget\"},\"nodeType\":\"DOM\",\"type\":\"node\",\"instanceArgs\":{\"namespace\":\"html\",\"tag\":\"div\"},\"children\":[{\"props\":{},\"nodeType\":\"Scope\",\"type\":\"node\",\"instanceArgs\":{\"imports\":{\"data\":[{\"name\":\"knockout\",\"type\":\"js\",\"url\":\"\\/assetserver\\/727383f2a47bd31570b7da84eee7b022dd6d7c78-knockout.js\"},{\"name\":\"knockout_punches\",\"type\":\"js\",\"url\":\"\\/assetserver\\/382b41b3b1bd9f26f75861d360bad7f8beea211f-knockout_punches.js\"},{\"name\":null,\"type\":\"js\",\"url\":\"\\/assetserver\\/5ab20f1060420992a9b82a65b735dee4d81ef413-all.js\"},{\"name\":null,\"type\":\"css\",\"url\":\"\\/assetserver\\/1cc0ed62837210b80a182cc3676512f895dab686-style.css\"},{\"name\":null,\"type\":\"css\",\"url\":\"\\/assetserver\\/2eee816f616df3549d7044d45e744fbf8d42bfa1-bulma_confined.min.css\"}],\"type\":\"async_block\"},\"id\":\"18088297194133369922\",\"handlers\":{\"loading\":[\"(function (val){return (val!=this.model[\\\"loading\\\"]()) ? (this.valueFromJulia[\\\"loading\\\"]=true, this.model[\\\"loading\\\"](val)) : undefined})\"],\"clicks\":[\"(function (val){return (val!=this.model[\\\"clicks\\\"]()) ? (this.valueFromJulia[\\\"clicks\\\"]=true, this.model[\\\"clicks\\\"](val)) : undefined})\"]},\"systemjs_options\":null,\"mount_callbacks\":[\"function () {\\n    var handler = (function (ko, koPunches) {\\n    ko.punches.enableAll();\\n    ko.bindingHandlers.numericValue = {\\n        init: function(element, valueAccessor, allBindings, data, context) {\\n            var stringified = ko.observable(ko.unwrap(valueAccessor()));\\n            stringified.subscribe(function(value) {\\n                var val = parseFloat(value);\\n                if (!isNaN(val)) {\\n                    valueAccessor()(val);\\n                }\\n            });\\n            valueAccessor().subscribe(function(value) {\\n                var str = JSON.stringify(value);\\n                if ((str == \\\"0\\\") && ([\\\"-0\\\", \\\"-0.\\\"].indexOf(stringified()) >= 0))\\n                     return;\\n                 if ([\\\"null\\\", \\\"\\\"].indexOf(str) >= 0)\\n                     return;\\n                stringified(str);\\n            });\\n            ko.applyBindingsToNode(\\n                element,\\n                {\\n                    value: stringified,\\n                    valueUpdate: allBindings.get('valueUpdate'),\\n                },\\n                context,\\n            );\\n        }\\n    };\\n    var json_data = {\\\"loading\\\":WebIO.getval({\\\"name\\\":\\\"loading\\\",\\\"scope\\\":\\\"18088297194133369922\\\",\\\"id\\\":\\\"14835779357772875376\\\",\\\"type\\\":\\\"observable\\\"}),\\\"clicks\\\":WebIO.getval({\\\"name\\\":\\\"clicks\\\",\\\"scope\\\":\\\"18088297194133369922\\\",\\\"id\\\":\\\"4678876138284527200\\\",\\\"type\\\":\\\"observable\\\"})};\\n    var self = this;\\n    function AppViewModel() {\\n        for (var key in json_data) {\\n            var el = json_data[key];\\n            this[key] = Array.isArray(el) ? ko.observableArray(el) : ko.observable(el);\\n        }\\n        \\n        \\n        [this[\\\"loading\\\"].subscribe((function (val){!(this.valueFromJulia[\\\"loading\\\"]) ? (WebIO.setval({\\\"name\\\":\\\"loading\\\",\\\"scope\\\":\\\"18088297194133369922\\\",\\\"id\\\":\\\"14835779357772875376\\\",\\\"type\\\":\\\"observable\\\"},val)) : undefined; return this.valueFromJulia[\\\"loading\\\"]=false}),self),this[\\\"clicks\\\"].subscribe((function (val){!(this.valueFromJulia[\\\"clicks\\\"]) ? (WebIO.setval({\\\"name\\\":\\\"clicks\\\",\\\"scope\\\":\\\"18088297194133369922\\\",\\\"id\\\":\\\"4678876138284527200\\\",\\\"type\\\":\\\"observable\\\"},val)) : undefined; return this.valueFromJulia[\\\"clicks\\\"]=false}),self)]\\n        \\n    }\\n    self.model = new AppViewModel();\\n    self.valueFromJulia = {};\\n    for (var key in json_data) {\\n        self.valueFromJulia[key] = false;\\n    }\\n    ko.applyBindings(self.model, self.dom);\\n}\\n);\\n    (WebIO.importBlock({\\\"data\\\":[{\\\"name\\\":\\\"knockout\\\",\\\"type\\\":\\\"js\\\",\\\"url\\\":\\\"\\/assetserver\\/727383f2a47bd31570b7da84eee7b022dd6d7c78-knockout.js\\\"},{\\\"name\\\":\\\"knockout_punches\\\",\\\"type\\\":\\\"js\\\",\\\"url\\\":\\\"\\/assetserver\\/382b41b3b1bd9f26f75861d360bad7f8beea211f-knockout_punches.js\\\"}],\\\"type\\\":\\\"async_block\\\"})).then((imports) => handler.apply(this, imports));\\n}\\n\"],\"observables\":{\"loading\":{\"sync\":false,\"id\":\"14835779357772875376\",\"value\":false},\"clicks\":{\"sync\":true,\"id\":\"4678876138284527200\",\"value\":0}}},\"children\":[{\"props\":{\"attributes\":{\"data-bind\":\"click: function (){this.clicks(this.clicks()+1)}, css: {'is-loading' : loading}\"},\"className\":\"is-medium button is-primary\",\"style\":{}},\"nodeType\":\"DOM\",\"type\":\"node\",\"instanceArgs\":{\"namespace\":\"html\",\"tag\":\"button\"},\"children\":[\"run\"]}]}]},{\"props\":{\"className\":\"interact-widget\"},\"nodeType\":\"DOM\",\"type\":\"node\",\"instanceArgs\":{\"namespace\":\"html\",\"tag\":\"div\"},\"children\":[{\"props\":{},\"nodeType\":\"Scope\",\"type\":\"node\",\"instanceArgs\":{\"imports\":{\"data\":[{\"name\":null,\"type\":\"js\",\"url\":\"\\/assetserver\\/dd22ed1bf1896c2748f3fe616ce0b838adc895c1-katex.min.js\"},{\"name\":null,\"type\":\"css\",\"url\":\"\\/assetserver\\/46517a424aa5e6cffc1360d7e0848b601c584ee3-katex.min.css\"}],\"type\":\"async_block\"},\"id\":\"15468608598478948468\",\"handlers\":{\"value\":[\"(function (txt){return this.k.render(txt,this.container)})\"]},\"systemjs_options\":null,\"mount_callbacks\":[\"function () {\\n    var handler = ((function (k){this.k=k; this.container=this.dom.querySelector(\\\"#container\\\"); return k.render(\\\"\\\\\\\\;\\\\\\\\;\\\",this.container)}));\\n    (WebIO.importBlock({\\\"data\\\":[{\\\"name\\\":null,\\\"type\\\":\\\"js\\\",\\\"url\\\":\\\"\\/assetserver\\/dd22ed1bf1896c2748f3fe616ce0b838adc895c1-katex.min.js\\\"},{\\\"name\\\":null,\\\"type\\\":\\\"css\\\",\\\"url\\\":\\\"\\/assetserver\\/46517a424aa5e6cffc1360d7e0848b601c584ee3-katex.min.css\\\"}],\\\"type\\\":\\\"async_block\\\"})).then((imports) => handler.apply(this, imports));\\n}\\n\"],\"observables\":{\"value\":{\"sync\":false,\"id\":\"18094332198741230758\",\"value\":\"\\\\;\\\\;\"}}},\"children\":[{\"props\":{\"id\":\"container\"},\"nodeType\":\"DOM\",\"type\":\"node\",\"instanceArgs\":{\"namespace\":\"html\",\"tag\":\"div\"},\"children\":[]}]}]},{\"props\":{\"className\":\"field interact-widget\"},\"nodeType\":\"DOM\",\"type\":\"node\",\"instanceArgs\":{\"namespace\":\"html\",\"tag\":\"div\"},\"children\":[{\"props\":{},\"nodeType\":\"Scope\",\"type\":\"node\",\"instanceArgs\":{\"imports\":{\"data\":[{\"name\":\"knockout\",\"type\":\"js\",\"url\":\"\\/assetserver\\/727383f2a47bd31570b7da84eee7b022dd6d7c78-knockout.js\"},{\"name\":\"knockout_punches\",\"type\":\"js\",\"url\":\"\\/assetserver\\/382b41b3b1bd9f26f75861d360bad7f8beea211f-knockout_punches.js\"},{\"name\":null,\"type\":\"js\",\"url\":\"\\/assetserver\\/5ab20f1060420992a9b82a65b735dee4d81ef413-all.js\"},{\"name\":null,\"type\":\"css\",\"url\":\"\\/assetserver\\/1cc0ed62837210b80a182cc3676512f895dab686-style.css\"},{\"name\":null,\"type\":\"css\",\"url\":\"\\/assetserver\\/2eee816f616df3549d7044d45e744fbf8d42bfa1-bulma_confined.min.css\"}],\"type\":\"async_block\"},\"id\":\"7184289346081109515\",\"handlers\":{\"loading\":[\"(function (val){return (val!=this.model[\\\"loading\\\"]()) ? (this.valueFromJulia[\\\"loading\\\"]=true, this.model[\\\"loading\\\"](val)) : undefined})\"],\"clicks\":[\"(function (val){return (val!=this.model[\\\"clicks\\\"]()) ? (this.valueFromJulia[\\\"clicks\\\"]=true, this.model[\\\"clicks\\\"](val)) : undefined})\"]},\"systemjs_options\":null,\"mount_callbacks\":[\"function () {\\n    var handler = (function (ko, koPunches) {\\n    ko.punches.enableAll();\\n    ko.bindingHandlers.numericValue = {\\n        init: function(element, valueAccessor, allBindings, data, context) {\\n            var stringified = ko.observable(ko.unwrap(valueAccessor()));\\n            stringified.subscribe(function(value) {\\n                var val = parseFloat(value);\\n                if (!isNaN(val)) {\\n                    valueAccessor()(val);\\n                }\\n            });\\n            valueAccessor().subscribe(function(value) {\\n                var str = JSON.stringify(value);\\n                if ((str == \\\"0\\\") && ([\\\"-0\\\", \\\"-0.\\\"].indexOf(stringified()) >= 0))\\n                     return;\\n                 if ([\\\"null\\\", \\\"\\\"].indexOf(str) >= 0)\\n                     return;\\n                stringified(str);\\n            });\\n            ko.applyBindingsToNode(\\n                element,\\n                {\\n                    value: stringified,\\n                    valueUpdate: allBindings.get('valueUpdate'),\\n                },\\n                context,\\n            );\\n        }\\n    };\\n    var json_data = {\\\"loading\\\":WebIO.getval({\\\"name\\\":\\\"loading\\\",\\\"scope\\\":\\\"7184289346081109515\\\",\\\"id\\\":\\\"766640351251589906\\\",\\\"type\\\":\\\"observable\\\"}),\\\"clicks\\\":WebIO.getval({\\\"name\\\":\\\"clicks\\\",\\\"scope\\\":\\\"7184289346081109515\\\",\\\"id\\\":\\\"9807735446982096615\\\",\\\"type\\\":\\\"observable\\\"})};\\n    var self = this;\\n    function AppViewModel() {\\n        for (var key in json_data) {\\n            var el = json_data[key];\\n            this[key] = Array.isArray(el) ? ko.observableArray(el) : ko.observable(el);\\n        }\\n        \\n        \\n        [this[\\\"loading\\\"].subscribe((function (val){!(this.valueFromJulia[\\\"loading\\\"]) ? (WebIO.setval({\\\"name\\\":\\\"loading\\\",\\\"scope\\\":\\\"7184289346081109515\\\",\\\"id\\\":\\\"766640351251589906\\\",\\\"type\\\":\\\"observable\\\"},val)) : undefined; return this.valueFromJulia[\\\"loading\\\"]=false}),self),this[\\\"clicks\\\"].subscribe((function (val){!(this.valueFromJulia[\\\"clicks\\\"]) ? (WebIO.setval({\\\"name\\\":\\\"clicks\\\",\\\"scope\\\":\\\"7184289346081109515\\\",\\\"id\\\":\\\"9807735446982096615\\\",\\\"type\\\":\\\"observable\\\"},val)) : undefined; return this.valueFromJulia[\\\"clicks\\\"]=false}),self)]\\n        \\n    }\\n    self.model = new AppViewModel();\\n    self.valueFromJulia = {};\\n    for (var key in json_data) {\\n        self.valueFromJulia[key] = false;\\n    }\\n    ko.applyBindings(self.model, self.dom);\\n}\\n);\\n    (WebIO.importBlock({\\\"data\\\":[{\\\"name\\\":\\\"knockout\\\",\\\"type\\\":\\\"js\\\",\\\"url\\\":\\\"\\/assetserver\\/727383f2a47bd31570b7da84eee7b022dd6d7c78-knockout.js\\\"},{\\\"name\\\":\\\"knockout_punches\\\",\\\"type\\\":\\\"js\\\",\\\"url\\\":\\\"\\/assetserver\\/382b41b3b1bd9f26f75861d360bad7f8beea211f-knockout_punches.js\\\"}],\\\"type\\\":\\\"async_block\\\"})).then((imports) => handler.apply(this, imports));\\n}\\n\"],\"observables\":{\"loading\":{\"sync\":false,\"id\":\"766640351251589906\",\"value\":false},\"clicks\":{\"sync\":true,\"id\":\"9807735446982096615\",\"value\":0}}},\"children\":[{\"props\":{\"attributes\":{\"data-bind\":\"click: function (){this.clicks(this.clicks()+1)}, css: {'is-loading' : loading}\"},\"className\":\"is-medium button is-primary\",\"style\":{}},\"nodeType\":\"DOM\",\"type\":\"node\",\"instanceArgs\":{\"namespace\":\"html\",\"tag\":\"button\"},\"children\":[\"stop\"]}]}]},{\"props\":{\"className\":\"interact-widget\"},\"nodeType\":\"DOM\",\"type\":\"node\",\"instanceArgs\":{\"namespace\":\"html\",\"tag\":\"div\"},\"children\":[{\"props\":{},\"nodeType\":\"Scope\",\"type\":\"node\",\"instanceArgs\":{\"imports\":{\"data\":[{\"name\":null,\"type\":\"js\",\"url\":\"\\/assetserver\\/dd22ed1bf1896c2748f3fe616ce0b838adc895c1-katex.min.js\"},{\"name\":null,\"type\":\"css\",\"url\":\"\\/assetserver\\/46517a424aa5e6cffc1360d7e0848b601c584ee3-katex.min.css\"}],\"type\":\"async_block\"},\"id\":\"15468608598478948468\",\"handlers\":{\"value\":[\"(function (txt){return this.k.render(txt,this.container)})\"]},\"systemjs_options\":null,\"mount_callbacks\":[\"function () {\\n    var handler = ((function (k){this.k=k; this.container=this.dom.querySelector(\\\"#container\\\"); return k.render(\\\"\\\\\\\\;\\\\\\\\;\\\",this.container)}));\\n    (WebIO.importBlock({\\\"data\\\":[{\\\"name\\\":null,\\\"type\\\":\\\"js\\\",\\\"url\\\":\\\"\\/assetserver\\/dd22ed1bf1896c2748f3fe616ce0b838adc895c1-katex.min.js\\\"},{\\\"name\\\":null,\\\"type\\\":\\\"css\\\",\\\"url\\\":\\\"\\/assetserver\\/46517a424aa5e6cffc1360d7e0848b601c584ee3-katex.min.css\\\"}],\\\"type\\\":\\\"async_block\\\"})).then((imports) => handler.apply(this, imports));\\n}\\n\"],\"observables\":{\"value\":{\"sync\":false,\"id\":\"18094332198741230758\",\"value\":\"\\\\;\\\\;\"}}},\"children\":[{\"props\":{\"id\":\"container\"},\"nodeType\":\"DOM\",\"type\":\"node\",\"instanceArgs\":{\"namespace\":\"html\",\"tag\":\"div\"},\"children\":[]}]}]},{\"props\":{\"className\":\"field interact-widget\"},\"nodeType\":\"DOM\",\"type\":\"node\",\"instanceArgs\":{\"namespace\":\"html\",\"tag\":\"div\"},\"children\":[{\"props\":{},\"nodeType\":\"Scope\",\"type\":\"node\",\"instanceArgs\":{\"imports\":{\"data\":[{\"name\":\"knockout\",\"type\":\"js\",\"url\":\"\\/assetserver\\/727383f2a47bd31570b7da84eee7b022dd6d7c78-knockout.js\"},{\"name\":\"knockout_punches\",\"type\":\"js\",\"url\":\"\\/assetserver\\/382b41b3b1bd9f26f75861d360bad7f8beea211f-knockout_punches.js\"},{\"name\":null,\"type\":\"js\",\"url\":\"\\/assetserver\\/5ab20f1060420992a9b82a65b735dee4d81ef413-all.js\"},{\"name\":null,\"type\":\"css\",\"url\":\"\\/assetserver\\/1cc0ed62837210b80a182cc3676512f895dab686-style.css\"},{\"name\":null,\"type\":\"css\",\"url\":\"\\/assetserver\\/2eee816f616df3549d7044d45e744fbf8d42bfa1-bulma_confined.min.css\"}],\"type\":\"async_block\"},\"id\":\"15755790075582025821\",\"handlers\":{\"loading\":[\"(function (val){return (val!=this.model[\\\"loading\\\"]()) ? (this.valueFromJulia[\\\"loading\\\"]=true, this.model[\\\"loading\\\"](val)) : undefined})\"],\"clicks\":[\"(function (val){return (val!=this.model[\\\"clicks\\\"]()) ? (this.valueFromJulia[\\\"clicks\\\"]=true, this.model[\\\"clicks\\\"](val)) : undefined})\"]},\"systemjs_options\":null,\"mount_callbacks\":[\"function () {\\n    var handler = (function (ko, koPunches) {\\n    ko.punches.enableAll();\\n    ko.bindingHandlers.numericValue = {\\n        init: function(element, valueAccessor, allBindings, data, context) {\\n            var stringified = ko.observable(ko.unwrap(valueAccessor()));\\n            stringified.subscribe(function(value) {\\n                var val = parseFloat(value);\\n                if (!isNaN(val)) {\\n                    valueAccessor()(val);\\n                }\\n            });\\n            valueAccessor().subscribe(function(value) {\\n                var str = JSON.stringify(value);\\n                if ((str == \\\"0\\\") && ([\\\"-0\\\", \\\"-0.\\\"].indexOf(stringified()) >= 0))\\n                     return;\\n                 if ([\\\"null\\\", \\\"\\\"].indexOf(str) >= 0)\\n                     return;\\n                stringified(str);\\n            });\\n            ko.applyBindingsToNode(\\n                element,\\n                {\\n                    value: stringified,\\n                    valueUpdate: allBindings.get('valueUpdate'),\\n                },\\n                context,\\n            );\\n        }\\n    };\\n    var json_data = {\\\"loading\\\":WebIO.getval({\\\"name\\\":\\\"loading\\\",\\\"scope\\\":\\\"15755790075582025821\\\",\\\"id\\\":\\\"17714658702317865257\\\",\\\"type\\\":\\\"observable\\\"}),\\\"clicks\\\":WebIO.getval({\\\"name\\\":\\\"clicks\\\",\\\"scope\\\":\\\"15755790075582025821\\\",\\\"id\\\":\\\"17524884257977667867\\\",\\\"type\\\":\\\"observable\\\"})};\\n    var self = this;\\n    function AppViewModel() {\\n        for (var key in json_data) {\\n            var el = json_data[key];\\n            this[key] = Array.isArray(el) ? ko.observableArray(el) : ko.observable(el);\\n        }\\n        \\n        \\n        [this[\\\"loading\\\"].subscribe((function (val){!(this.valueFromJulia[\\\"loading\\\"]) ? (WebIO.setval({\\\"name\\\":\\\"loading\\\",\\\"scope\\\":\\\"15755790075582025821\\\",\\\"id\\\":\\\"17714658702317865257\\\",\\\"type\\\":\\\"observable\\\"},val)) : undefined; return this.valueFromJulia[\\\"loading\\\"]=false}),self),this[\\\"clicks\\\"].subscribe((function (val){!(this.valueFromJulia[\\\"clicks\\\"]) ? (WebIO.setval({\\\"name\\\":\\\"clicks\\\",\\\"scope\\\":\\\"15755790075582025821\\\",\\\"id\\\":\\\"17524884257977667867\\\",\\\"type\\\":\\\"observable\\\"},val)) : undefined; return this.valueFromJulia[\\\"clicks\\\"]=false}),self)]\\n        \\n    }\\n    self.model = new AppViewModel();\\n    self.valueFromJulia = {};\\n    for (var key in json_data) {\\n        self.valueFromJulia[key] = false;\\n    }\\n    ko.applyBindings(self.model, self.dom);\\n}\\n);\\n    (WebIO.importBlock({\\\"data\\\":[{\\\"name\\\":\\\"knockout\\\",\\\"type\\\":\\\"js\\\",\\\"url\\\":\\\"\\/assetserver\\/727383f2a47bd31570b7da84eee7b022dd6d7c78-knockout.js\\\"},{\\\"name\\\":\\\"knockout_punches\\\",\\\"type\\\":\\\"js\\\",\\\"url\\\":\\\"\\/assetserver\\/382b41b3b1bd9f26f75861d360bad7f8beea211f-knockout_punches.js\\\"}],\\\"type\\\":\\\"async_block\\\"})).then((imports) => handler.apply(this, imports));\\n}\\n\"],\"observables\":{\"loading\":{\"sync\":false,\"id\":\"17714658702317865257\",\"value\":false},\"clicks\":{\"sync\":true,\"id\":\"17524884257977667867\",\"value\":0}}},\"children\":[{\"props\":{\"attributes\":{\"data-bind\":\"click: function (){this.clicks(this.clicks()+1)}, css: {'is-loading' : loading}\"},\"className\":\"is-medium button is-primary\",\"style\":{}},\"nodeType\":\"DOM\",\"type\":\"node\",\"instanceArgs\":{\"namespace\":\"html\",\"tag\":\"button\"},\"children\":[\"save\"]}]}]}]}]},{\"props\":{\"className\":\"interact-widget\"},\"nodeType\":\"DOM\",\"type\":\"node\",\"instanceArgs\":{\"namespace\":\"html\",\"tag\":\"div\"},\"children\":[{\"props\":{},\"nodeType\":\"Scope\",\"type\":\"node\",\"instanceArgs\":{\"imports\":{\"data\":[{\"name\":null,\"type\":\"js\",\"url\":\"\\/assetserver\\/dd22ed1bf1896c2748f3fe616ce0b838adc895c1-katex.min.js\"},{\"name\":null,\"type\":\"css\",\"url\":\"\\/assetserver\\/46517a424aa5e6cffc1360d7e0848b601c584ee3-katex.min.css\"}],\"type\":\"async_block\"},\"id\":\"15468608598478948468\",\"handlers\":{\"value\":[\"(function (txt){return this.k.render(txt,this.container)})\"]},\"systemjs_options\":null,\"mount_callbacks\":[\"function () {\\n    var handler = ((function (k){this.k=k; this.container=this.dom.querySelector(\\\"#container\\\"); return k.render(\\\"\\\\\\\\;\\\\\\\\;\\\",this.container)}));\\n    (WebIO.importBlock({\\\"data\\\":[{\\\"name\\\":null,\\\"type\\\":\\\"js\\\",\\\"url\\\":\\\"\\/assetserver\\/dd22ed1bf1896c2748f3fe616ce0b838adc895c1-katex.min.js\\\"},{\\\"name\\\":null,\\\"type\\\":\\\"css\\\",\\\"url\\\":\\\"\\/assetserver\\/46517a424aa5e6cffc1360d7e0848b601c584ee3-katex.min.css\\\"}],\\\"type\\\":\\\"async_block\\\"})).then((imports) => handler.apply(this, imports));\\n}\\n\"],\"observables\":{\"value\":{\"sync\":false,\"id\":\"18094332198741230758\",\"value\":\"\\\\;\\\\;\"}}},\"children\":[{\"props\":{\"id\":\"container\"},\"nodeType\":\"DOM\",\"type\":\"node\",\"instanceArgs\":{\"namespace\":\"html\",\"tag\":\"div\"},\"children\":[]}]}]},{\"props\":{},\"nodeType\":\"Scope\",\"type\":\"node\",\"instanceArgs\":{\"imports\":{\"data\":[],\"type\":\"async_block\"},\"id\":\"4014664879033562956\",\"handlers\":{\"obs-output\":[\"function (value, scope) {\\n    scope.setInnerHTML(value);\\n}\\n\"]},\"systemjs_options\":null,\"mount_callbacks\":[],\"observables\":{\"obs-output\":{\"sync\":false,\"id\":\"8234765072798472766\",\"value\":\"<img src='data:image\\/png;base64,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'><\\/img>\"}}},\"children\":[{\"props\":{\"className\":\"webio-observable\",\"setInnerHtml\":\"<img src='data:image\\/png;base64,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'><\\/img>\"},\"nodeType\":\"DOM\",\"type\":\"node\",\"instanceArgs\":{\"namespace\":\"html\",\"tag\":\"div\"},\"children\":[]}]},{\"props\":{\"className\":\"interact-widget\"},\"nodeType\":\"DOM\",\"type\":\"node\",\"instanceArgs\":{\"namespace\":\"html\",\"tag\":\"div\"},\"children\":[{\"props\":{},\"nodeType\":\"Scope\",\"type\":\"node\",\"instanceArgs\":{\"imports\":{\"data\":[{\"name\":null,\"type\":\"js\",\"url\":\"\\/assetserver\\/dd22ed1bf1896c2748f3fe616ce0b838adc895c1-katex.min.js\"},{\"name\":null,\"type\":\"css\",\"url\":\"\\/assetserver\\/46517a424aa5e6cffc1360d7e0848b601c584ee3-katex.min.css\"}],\"type\":\"async_block\"},\"id\":\"15468608598478948468\",\"handlers\":{\"value\":[\"(function (txt){return this.k.render(txt,this.container)})\"]},\"systemjs_options\":null,\"mount_callbacks\":[\"function () {\\n    var handler = ((function (k){this.k=k; this.container=this.dom.querySelector(\\\"#container\\\"); return k.render(\\\"\\\\\\\\;\\\\\\\\;\\\",this.container)}));\\n    (WebIO.importBlock({\\\"data\\\":[{\\\"name\\\":null,\\\"type\\\":\\\"js\\\",\\\"url\\\":\\\"\\/assetserver\\/dd22ed1bf1896c2748f3fe616ce0b838adc895c1-katex.min.js\\\"},{\\\"name\\\":null,\\\"type\\\":\\\"css\\\",\\\"url\\\":\\\"\\/assetserver\\/46517a424aa5e6cffc1360d7e0848b601c584ee3-katex.min.css\\\"}],\\\"type\\\":\\\"async_block\\\"})).then((imports) => handler.apply(this, imports));\\n}\\n\"],\"observables\":{\"value\":{\"sync\":false,\"id\":\"18094332198741230758\",\"value\":\"\\\\;\\\\;\"}}},\"children\":[{\"props\":{\"id\":\"container\"},\"nodeType\":\"DOM\",\"type\":\"node\",\"instanceArgs\":{\"namespace\":\"html\",\"tag\":\"div\"},\"children\":[]}]}]},{\"props\":{\"style\":{\"display\":\"flex\",\"flex-direction\":\"column\"}},\"nodeType\":\"DOM\",\"type\":\"node\",\"instanceArgs\":{\"namespace\":\"html\",\"tag\":\"div\"},\"children\":[]}]}]},\n",
       "        window,\n",
       "    );\n",
       "    })()\n",
       "    </script>\n",
       "</div>\n"
      ],
      "text/plain": [
       "WebIO.Node{WebIO.DOM}(WebIO.DOM(:html, :div), Any[WebIO.Node{WebIO.DOM}(WebIO.DOM(:html, :div), Any[WebIO.Node{WebIO.DOM}(WebIO.DOM(:html, :div), Any[WebIO.Node{WebIO.DOM}(WebIO.DOM(:html, :div), Any[WebIO.Scope(WebIO.Node{WebIO.DOM}(WebIO.DOM(:html, :div), Any[WebIO.Node{WebIO.DOM}(WebIO.DOM(:html, :div), Any[WebIO.Node{WebIO.DOM}(WebIO.DOM(:html, :label), Any[\"time\"], Dict{Symbol, Any}(:className => \"interact \", :style => Dict{Any, Any}(:padding => \"5px 10px 0px 10px\")))], Dict{Symbol, Any}(:className => \"interact-flex-row-left\")), WebIO.Node{WebIO.DOM}(WebIO.DOM(:html, :div), Any[WebIO.Node{WebIO.DOM}(WebIO.DOM(:html, :input), Any[], Dict{Symbol, Any}(:max => 201, :min => 1, :attributes => Dict{Any, Any}(:type => \"range\", Symbol(\"data-bind\") => \"numericValue: index, valueUpdate: 'input', event: {change: function (){this.changes(this.changes()+1)}}\", \"orient\" => \"horizontal\"), :step => 1, :className => \"slider slider is-fullwidth\", :style => Dict{Any, Any}()))], Dict{Symbol, Any}(:className => \"interact-flex-row-center\")), WebIO.Node{WebIO.DOM}(WebIO.DOM(:html, :div), Any[WebIO.Node{WebIO.DOM}(WebIO.DOM(:html, :p), Any[], Dict{Symbol, Any}(:attributes => Dict(\"data-bind\" => \"text: formatted_val\")))], Dict{Symbol, Any}(:className => \"interact-flex-row-right\"))], Dict{Symbol, Any}(:className => \"interact-flex-row interact-widget\")), Dict{String, Tuple{Observables.AbstractObservable, Union{Nothing, Bool}}}(\"changes\" => (Observable(0), nothing), \"index\" => (Observable(101), nothing)), Set{String}(), nothing, WebIO.Asset[WebIO.Asset(\"js\", \"knockout\", \"/home/dushya/.julia/packages/Knockout/HReiN/src/../assets/knockout.js\"), WebIO.Asset(\"js\", \"knockout_punches\", \"/home/dushya/.julia/packages/Knockout/HReiN/src/../assets/knockout_punches.js\"), WebIO.Asset(\"js\", nothing, \"/home/dushya/.julia/packages/InteractBase/LJXv3/src/../assets/all.js\"), WebIO.Asset(\"css\", nothing, \"/home/dushya/.julia/packages/InteractBase/LJXv3/src/../assets/style.css\"), WebIO.Asset(\"css\", nothing, \"/home/dushya/.julia/packages/Interact/PENUy/src/../assets/bulma_confined.min.css\")], Dict{Any, Any}(\"changes\" => Any[WebIO.JSString(\"(function (val){return (val!=this.model[\\\"changes\\\"]()) ? (this.valueFromJulia[\\\"changes\\\"]=true, this.model[\\\"changes\\\"](val)) : undefined})\")], \"index\" => Any[WebIO.JSString(\"(function (val){return (val!=this.model[\\\"index\\\"]()) ? (this.valueFromJulia[\\\"index\\\"]=true, this.model[\\\"index\\\"](val)) : undefined})\")]), WebIO.ConnectionPool(Channel{Any}(32), Set{WebIO.AbstractConnection}(), Base.GenericCondition{ReentrantLock}(Base.IntrusiveLinkedList{Task}(Task (runnable) @0x00007f666b2caa40, Task (runnable) @0x00007f666b2caa40), ReentrantLock(nothing, 0x00000000, 0x00, Base.GenericCondition{Base.Threads.SpinLock}(Base.IntrusiveLinkedList{Task}(nothing, nothing), Base.Threads.SpinLock(0)), (0, 0, 0)))), WebIO.JSString[WebIO.JSString(\"function () {\\n    var handler = (function (ko, koPunches) {\\n    ko.punches.enableAll();\\n    ko.bindingHandlers.numericValue = {\\n        init: function(element, valueAccessor, allBindings, data, context) {\\n            var stringified = ko.observable(ko.unwrap(valueAccessor()));\\n            stringified.subscribe(function(value) {\\n                var val = parseFloat(value);\\n                if (!isNaN(val)) {\\n                    valueAccessor()(val);\\n                }\\n            });\\n            valueAccessor().subscribe(function(value) {\\n                var str = JSON.stringify(value);\\n                if ((str == \\\"0\\\") && ([\\\"-0\\\", \\\"-0.\\\"].indexOf(stringified()) >= 0))\\n                     return;\\n                 if ([\\\"null\\\", \\\"\\\"].indexOf(str) >= 0)\\n                     return;\\n                stringified(str);\\n            });\\n            ko.applyBindingsToNode(\\n                element,\\n                {\\n                    value: stringified,\\n                    valueUpdate: allBindings.get('valueUpdate'),\\n                },\\n                context,\\n            );\\n        }\\n    };\\n    var json_data = {\\\"formatted_vals\\\":[\\\"1\\\",\\\"2\\\",\\\"3\\\",\\\"4\\\",\\\"5\\\",\\\"6\\\",\\\"7\\\",\\\"8\\\",\\\"9\\\",\\\"10\\\",\\\"11\\\",\\\"12\\\",\\\"13\\\",\\\"14\\\",\\\"15\\\",\\\"16\\\",\\\"17\\\",\\\"18\\\",\\\"19\\\",\\\"20\\\",\\\"21\\\",\\\"22\\\",\\\"23\\\",\\\"24\\\",\\\"25\\\",\\\"26\\\",\\\"27\\\",\\\"28\\\",\\\"29\\\",\\\"30\\\",\\\"31\\\",\\\"32\\\",\\\"33\\\",\\\"34\\\",\\\"35\\\",\\\"36\\\",\\\"37\\\",\\\"38\\\",\\\"39\\\",\\\"40\\\",\\\"41\\\",\\\"42\\\",\\\"43\\\",\\\"44\\\",\\\"45\\\",\\\"46\\\",\\\"47\\\",\\\"48\\\",\\\"49\\\",\\\"50\\\",\\\"51\\\",\\\"52\\\",\\\"53\\\",\\\"54\\\",\\\"55\\\",\\\"56\\\",\\\"57\\\",\\\"58\\\",\\\"59\\\",\\\"60\\\",\\\"61\\\",\\\"62\\\",\\\"63\\\",\\\"64\\\",\\\"65\\\",\\\"66\\\",\\\"67\\\",\\\"68\\\",\\\"69\\\",\\\"70\\\",\\\"71\\\",\\\"72\\\",\\\"73\\\",\\\"74\\\",\\\"75\\\",\\\"76\\\",\\\"77\\\",\\\"78\\\",\\\"79\\\",\\\"80\\\",\\\"81\\\",\\\"82\\\",\\\"83\\\",\\\"84\\\",\\\"85\\\",\\\"86\\\",\\\"87\\\",\\\"88\\\",\\\"89\\\",\\\"90\\\",\\\"91\\\",\\\"92\\\",\\\"93\\\",\\\"94\\\",\\\"95\\\",\\\"96\\\",\\\"97\\\",\\\"98\\\",\\\"99\\\",\\\"100\\\",\\\"101\\\",\\\"102\\\",\\\"103\\\",\\\"104\\\",\\\"105\\\",\\\"106\\\",\\\"107\\\",\\\"108\\\",\\\"109\\\",\\\"110\\\",\\\"111\\\",\\\"112\\\",\\\"113\\\",\\\"114\\\",\\\"115\\\",\\\"116\\\",\\\"117\\\",\\\"118\\\",\\\"119\\\",\\\"120\\\",\\\"121\\\",\\\"122\\\",\\\"123\\\",\\\"124\\\",\\\"125\\\",\\\"126\\\",\\\"127\\\",\\\"128\\\",\\\"129\\\",\\\"130\\\",\\\"131\\\",\\\"132\\\",\\\"133\\\",\\\"134\\\",\\\"135\\\",\\\"136\\\",\\\"137\\\",\\\"138\\\",\\\"139\\\",\\\"140\\\",\\\"141\\\",\\\"142\\\",\\\"143\\\",\\\"144\\\",\\\"145\\\",\\\"146\\\",\\\"147\\\",\\\"148\\\",\\\"149\\\",\\\"150\\\",\\\"151\\\",\\\"152\\\",\\\"153\\\",\\\"154\\\",\\\"155\\\",\\\"156\\\",\\\"157\\\",\\\"158\\\",\\\"159\\\",\\\"160\\\",\\\"161\\\",\\\"162\\\",\\\"163\\\",\\\"164\\\",\\\"165\\\",\\\"166\\\",\\\"167\\\",\\\"168\\\",\\\"169\\\",\\\"170\\\",\\\"171\\\",\\\"172\\\",\\\"173\\\",\\\"174\\\",\\\"175\\\",\\\"176\\\",\\\"177\\\",\\\"178\\\",\\\"179\\\",\\\"180\\\",\\\"181\\\",\\\"182\\\",\\\"183\\\",\\\"184\\\",\\\"185\\\",\\\"186\\\",\\\"187\\\",\\\"188\\\",\\\"189\\\",\\\"190\\\",\\\"191\\\",\\\"192\\\",\\\"193\\\",\\\"194\\\",\\\"195\\\",\\\"196\\\",\\\"197\\\",\\\"198\\\",\\\"199\\\",\\\"200\\\",\\\"201\\\"],\\\"changes\\\":WebIO.getval({\\\"name\\\":\\\"changes\\\",\\\"scope\\\":\\\"17514974514166748399\\\",\\\"id\\\":\\\"6918289999493541469\\\",\\\"type\\\":\\\"observable\\\"}),\\\"index\\\":WebIO.getval({\\\"name\\\":\\\"index\\\",\\\"scope\\\":\\\"17514974514166748399\\\",\\\"id\\\":\\\"4747400485968945816\\\",\\\"type\\\":\\\"observable\\\"})};\\n    var self = this;\\n    function AppViewModel() {\\n        for (var key in json_data) {\\n            var el = json_data[key];\\n            this[key] = Array.isArray(el) ? ko.observableArray(el) : ko.observable(el);\\n        }\\n        \\n        [this[\\\"formatted_val\\\"]=ko.computed(    function(){\\n        return this.formatted_vals()[parseInt(this.index())-(1)];\\n    }\\n,this)]\\n        [this[\\\"changes\\\"].subscribe((function (val){!(this.valueFromJulia[\\\"changes\\\"]) ? (WebIO.setval({\\\"name\\\":\\\"changes\\\",\\\"scope\\\":\\\"17514974514166748399\\\",\\\"id\\\":\\\"6918289999493541469\\\",\\\"type\\\":\\\"observable\\\"},val)) : undefined; return this.valueFromJulia[\\\"changes\\\"]=false}),self),this[\\\"index\\\"].subscribe((function (val){!(this.valueFromJulia[\\\"index\\\"]) ? (WebIO.setval({\\\"name\\\":\\\"index\\\",\\\"scope\\\":\\\"17514974514166748399\\\",\\\"id\\\":\\\"4747400485968945816\\\",\\\"type\\\":\\\"observable\\\"},val)) : undefined; return this.valueFromJulia[\\\"index\\\"]=false}),self)]\\n        \\n    }\\n    self.model = new AppViewModel();\\n    self.valueFromJulia = {};\\n    for (var key in json_data) {\\n        self.valueFromJulia[key] = false;\\n    }\\n    ko.applyBindings(self.model, self.dom);\\n}\\n);\\n    (WebIO.importBlock({\\\"data\\\":[{\\\"name\\\":\\\"knockout\\\",\\\"type\\\":\\\"js\\\",\\\"url\\\":\\\"/assetserver/727383f2a47bd31570b7da84eee7b022dd6d7c78-knockout.js\\\"},{\\\"name\\\":\\\"knockout_punches\\\",\\\"type\\\":\\\"js\\\",\\\"url\\\":\\\"/assetserver/382b41b3b1bd9f26f75861d360bad7f8beea211f-knockout_punches.js\\\"}],\\\"type\\\":\\\"async_block\\\"})).then((imports) => handler.apply(this, imports));\\n}\\n\")])], Dict{Symbol, Any}(:className => \"field interact-widget\")), WebIO.Node{WebIO.DOM}(WebIO.DOM(:html, :div), Any[WebIO.Scope(WebIO.Node{WebIO.DOM}(WebIO.DOM(:html, :div), Any[WebIO.Node{WebIO.DOM}(WebIO.DOM(:html, :div), Any[WebIO.Node{WebIO.DOM}(WebIO.DOM(:html, :label), Any[\"scale\"], Dict{Symbol, Any}(:className => \"interact \", :style => Dict{Any, Any}(:padding => \"5px 10px 0px 10px\")))], Dict{Symbol, Any}(:className => \"interact-flex-row-left\")), WebIO.Node{WebIO.DOM}(WebIO.DOM(:html, :div), Any[WebIO.Node{WebIO.DOM}(WebIO.DOM(:html, :input), Any[], Dict{Symbol, Any}(:max => 20, :min => 1, :attributes => Dict{Any, Any}(:type => \"range\", Symbol(\"data-bind\") => \"numericValue: index, valueUpdate: 'input', event: {change: function (){this.changes(this.changes()+1)}}\", \"orient\" => \"horizontal\"), :step => 1, :className => \"slider slider is-fullwidth\", :style => Dict{Any, Any}()))], Dict{Symbol, Any}(:className => \"interact-flex-row-center\")), WebIO.Node{WebIO.DOM}(WebIO.DOM(:html, :div), Any[WebIO.Node{WebIO.DOM}(WebIO.DOM(:html, :p), Any[], Dict{Symbol, Any}(:attributes => Dict(\"data-bind\" => \"text: formatted_val\")))], Dict{Symbol, Any}(:className => \"interact-flex-row-right\"))], Dict{Symbol, Any}(:className => \"interact-flex-row interact-widget\")), Dict{String, Tuple{Observables.AbstractObservable, Union{Nothing, Bool}}}(\"changes\" => (Observable(0), nothing), \"index\" => (Observable{Any}(10), nothing)), Set{String}(), nothing, WebIO.Asset[WebIO.Asset(\"js\", \"knockout\", \"/home/dushya/.julia/packages/Knockout/HReiN/src/../assets/knockout.js\"), WebIO.Asset(\"js\", \"knockout_punches\", \"/home/dushya/.julia/packages/Knockout/HReiN/src/../assets/knockout_punches.js\"), WebIO.Asset(\"js\", nothing, \"/home/dushya/.julia/packages/InteractBase/LJXv3/src/../assets/all.js\"), WebIO.Asset(\"css\", nothing, \"/home/dushya/.julia/packages/InteractBase/LJXv3/src/../assets/style.css\"), WebIO.Asset(\"css\", nothing, \"/home/dushya/.julia/packages/Interact/PENUy/src/../assets/bulma_confined.min.css\")], Dict{Any, Any}(\"changes\" => Any[WebIO.JSString(\"(function (val){return (val!=this.model[\\\"changes\\\"]()) ? (this.valueFromJulia[\\\"changes\\\"]=true, this.model[\\\"changes\\\"](val)) : undefined})\")], \"index\" => Any[WebIO.JSString(\"(function (val){return (val!=this.model[\\\"index\\\"]()) ? (this.valueFromJulia[\\\"index\\\"]=true, this.model[\\\"index\\\"](val)) : undefined})\")]), WebIO.ConnectionPool(Channel{Any}(32), Set{WebIO.AbstractConnection}(), Base.GenericCondition{ReentrantLock}(Base.IntrusiveLinkedList{Task}(Task (runnable) @0x00007f666b20eef0, Task (runnable) @0x00007f666b20eef0), ReentrantLock(nothing, 0x00000000, 0x00, Base.GenericCondition{Base.Threads.SpinLock}(Base.IntrusiveLinkedList{Task}(nothing, nothing), Base.Threads.SpinLock(0)), (8, 140079569550272, 140079569550272)))), WebIO.JSString[WebIO.JSString(\"function () {\\n    var handler = (function (ko, koPunches) {\\n    ko.punches.enableAll();\\n    ko.bindingHandlers.numericValue = {\\n        init: function(element, valueAccessor, allBindings, data, context) {\\n            var stringified = ko.observable(ko.unwrap(valueAccessor()));\\n            stringified.subscribe(function(value) {\\n                var val = parseFloat(value);\\n                if (!isNaN(val)) {\\n                    valueAccessor()(val);\\n                }\\n            });\\n            valueAccessor().subscribe(function(value) {\\n                var str = JSON.stringify(value);\\n                if ((str == \\\"0\\\") && ([\\\"-0\\\", \\\"-0.\\\"].indexOf(stringified()) >= 0))\\n                     return;\\n                 if ([\\\"null\\\", \\\"\\\"].indexOf(str) >= 0)\\n                     return;\\n                stringified(str);\\n            });\\n            ko.applyBindingsToNode(\\n                element,\\n                {\\n                    value: stringified,\\n                    valueUpdate: allBindings.get('valueUpdate'),\\n                },\\n                context,\\n            );\\n        }\\n    };\\n    var json_data = {\\\"formatted_vals\\\":[\\\"0.1\\\",\\\"0.2\\\",\\\"0.3\\\",\\\"0.4\\\",\\\"0.5\\\",\\\"0.6\\\",\\\"0.7\\\",\\\"0.8\\\",\\\"0.9\\\",\\\"1.0\\\",\\\"1.1\\\",\\\"1.2\\\",\\\"1.3\\\",\\\"1.4\\\",\\\"1.5\\\",\\\"1.6\\\",\\\"1.7\\\",\\\"1.8\\\",\\\"1.9\\\",\\\"2.0\\\"],\\\"changes\\\":WebIO.getval({\\\"name\\\":\\\"changes\\\",\\\"scope\\\":\\\"1457570773667146673\\\",\\\"id\\\":\\\"6759107932617874754\\\",\\\"type\\\":\\\"observable\\\"}),\\\"index\\\":WebIO.getval({\\\"name\\\":\\\"index\\\",\\\"scope\\\":\\\"1457570773667146673\\\",\\\"id\\\":\\\"12438774558361443774\\\",\\\"type\\\":\\\"observable\\\"})};\\n    var self = this;\\n    function AppViewModel() {\\n        for (var key in json_data) {\\n            var el = json_data[key];\\n            this[key] = Array.isArray(el) ? ko.observableArray(el) : ko.observable(el);\\n        }\\n        \\n        [this[\\\"formatted_val\\\"]=ko.computed(    function(){\\n        return this.formatted_vals()[parseInt(this.index())-(1)];\\n    }\\n,this)]\\n        [this[\\\"changes\\\"].subscribe((function (val){!(this.valueFromJulia[\\\"changes\\\"]) ? (WebIO.setval({\\\"name\\\":\\\"changes\\\",\\\"scope\\\":\\\"1457570773667146673\\\",\\\"id\\\":\\\"6759107932617874754\\\",\\\"type\\\":\\\"observable\\\"},val)) : undefined; return this.valueFromJulia[\\\"changes\\\"]=false}),self),this[\\\"index\\\"].subscribe((function (val){!(this.valueFromJulia[\\\"index\\\"]) ? (WebIO.setval({\\\"name\\\":\\\"index\\\",\\\"scope\\\":\\\"1457570773667146673\\\",\\\"id\\\":\\\"12438774558361443774\\\",\\\"type\\\":\\\"observable\\\"},val)) : undefined; return this.valueFromJulia[\\\"index\\\"]=false}),self)]\\n        \\n    }\\n    self.model = new AppViewModel();\\n    self.valueFromJulia = {};\\n    for (var key in json_data) {\\n        self.valueFromJulia[key] = false;\\n    }\\n    ko.applyBindings(self.model, self.dom);\\n}\\n);\\n    (WebIO.importBlock({\\\"data\\\":[{\\\"name\\\":\\\"knockout\\\",\\\"type\\\":\\\"js\\\",\\\"url\\\":\\\"/assetserver/727383f2a47bd31570b7da84eee7b022dd6d7c78-knockout.js\\\"},{\\\"name\\\":\\\"knockout_punches\\\",\\\"type\\\":\\\"js\\\",\\\"url\\\":\\\"/assetserver/382b41b3b1bd9f26f75861d360bad7f8beea211f-knockout_punches.js\\\"}],\\\"type\\\":\\\"async_block\\\"})).then((imports) => handler.apply(this, imports));\\n}\\n\")])], Dict{Symbol, Any}(:className => \"field interact-widget\")), WebIO.Node{WebIO.DOM}(WebIO.DOM(:html, :div), Any[WebIO.Node{WebIO.DOM}(WebIO.DOM(:html, :div), Any[WebIO.Scope(WebIO.Node{WebIO.DOM}(WebIO.DOM(:html, :div), Any[], Dict{Symbol, Any}(:id => \"container\")), Dict{String, Tuple{Observables.AbstractObservable, Union{Nothing, Bool}}}(\"value\" => (Observable(\"\\\\;\\\\;\"), nothing)), Set{String}(), nothing, WebIO.Asset[WebIO.Asset(\"js\", nothing, \"/home/dushya/.julia/packages/InteractBase/LJXv3/src/../assets/katex.min.js\"), WebIO.Asset(\"css\", nothing, \"/home/dushya/.julia/packages/InteractBase/LJXv3/src/../assets/katex.min.css\")], Dict{Any, Any}(\"value\" => Any[WebIO.JSString(\"(function (txt){return this.k.render(txt,this.container)})\")]), WebIO.ConnectionPool(Channel{Any}(32), Set{WebIO.AbstractConnection}(), Base.GenericCondition{ReentrantLock}(Base.IntrusiveLinkedList{Task}(Task (runnable) @0x00007f66a9e82ef0, Task (runnable) @0x00007f66a9e82ef0), ReentrantLock(nothing, 0x00000000, 0x00, Base.GenericCondition{Base.Threads.SpinLock}(Base.IntrusiveLinkedList{Task}(nothing, nothing), Base.Threads.SpinLock(0)), (8, 6917634994953285744, 140078921190656)))), WebIO.JSString[WebIO.JSString(\"function () {\\n    var handler = ((function (k){this.k=k; this.container=this.dom.querySelector(\\\"#container\\\"); return k.render(\\\"\\\\\\\\;\\\\\\\\;\\\",this.container)}));\\n    (WebIO.importBlock({\\\"data\\\":[{\\\"name\\\":null,\\\"type\\\":\\\"js\\\",\\\"url\\\":\\\"/assetserver/dd22ed1bf1896c2748f3fe616ce0b838adc895c1-katex.min.js\\\"},{\\\"name\\\":null,\\\"type\\\":\\\"css\\\",\\\"url\\\":\\\"/assetserver/46517a424aa5e6cffc1360d7e0848b601c584ee3-katex.min.css\\\"}],\\\"type\\\":\\\"async_block\\\"})).then((imports) => handler.apply(this, imports));\\n}\\n\")])], Dict{Symbol, Any}(:className => \"interact-widget\")), WebIO.Node{WebIO.DOM}(WebIO.DOM(:html, :div), Any[WebIO.Scope(WebIO.Node{WebIO.DOM}(WebIO.DOM(:html, :button), Any[\"run\"], Dict{Symbol, Any}(:attributes => Dict{Any, Any}(\"data-bind\" => \"click: function (){this.clicks(this.clicks()+1)}, css: {'is-loading' : loading}\"), :className => \"is-medium button is-primary\", :style => Dict{String, Any}())), Dict{String, Tuple{Observables.AbstractObservable, Union{Nothing, Bool}}}(\"loading\" => (Observable(false), nothing), \"clicks\" => (Observable(0), nothing)), Set{String}(), nothing, WebIO.Asset[WebIO.Asset(\"js\", \"knockout\", \"/home/dushya/.julia/packages/Knockout/HReiN/src/../assets/knockout.js\"), WebIO.Asset(\"js\", \"knockout_punches\", \"/home/dushya/.julia/packages/Knockout/HReiN/src/../assets/knockout_punches.js\"), WebIO.Asset(\"js\", nothing, \"/home/dushya/.julia/packages/InteractBase/LJXv3/src/../assets/all.js\"), WebIO.Asset(\"css\", nothing, \"/home/dushya/.julia/packages/InteractBase/LJXv3/src/../assets/style.css\"), WebIO.Asset(\"css\", nothing, \"/home/dushya/.julia/packages/Interact/PENUy/src/../assets/bulma_confined.min.css\")], Dict{Any, Any}(\"loading\" => Any[WebIO.JSString(\"(function (val){return (val!=this.model[\\\"loading\\\"]()) ? (this.valueFromJulia[\\\"loading\\\"]=true, this.model[\\\"loading\\\"](val)) : undefined})\")], \"clicks\" => Any[WebIO.JSString(\"(function (val){return (val!=this.model[\\\"clicks\\\"]()) ? (this.valueFromJulia[\\\"clicks\\\"]=true, this.model[\\\"clicks\\\"](val)) : undefined})\")]), WebIO.ConnectionPool(Channel{Any}(32), Set{WebIO.AbstractConnection}(), Base.GenericCondition{ReentrantLock}(Base.IntrusiveLinkedList{Task}(Task (runnable) @0x00007f66abbb8fb0, Task (runnable) @0x00007f66abbb8fb0), ReentrantLock(nothing, 0x00000000, 0x00, Base.GenericCondition{Base.Threads.SpinLock}(Base.IntrusiveLinkedList{Task}(nothing, nothing), Base.Threads.SpinLock(0)), (0, 140079790740576, 140079790189352)))), WebIO.JSString[WebIO.JSString(\"function () {\\n    var handler = (function (ko, koPunches) {\\n    ko.punches.enableAll();\\n    ko.bindingHandlers.numericValue = {\\n        init: function(element, valueAccessor, allBindings, data, context) {\\n            var stringified = ko.observable(ko.unwrap(valueAccessor()));\\n            stringified.subscribe(function(value) {\\n                var val = parseFloat(value);\\n                if (!isNaN(val)) {\\n                    valueAccessor()(val);\\n                }\\n            });\\n            valueAccessor().subscribe(function(value) {\\n                var str = JSON.stringify(value);\\n                if ((str == \\\"0\\\") && ([\\\"-0\\\", \\\"-0.\\\"].indexOf(stringified()) >= 0))\\n                     return;\\n                 if ([\\\"null\\\", \\\"\\\"].indexOf(str) >= 0)\\n                     return;\\n                stringified(str);\\n            });\\n            ko.applyBindingsToNode(\\n                element,\\n                {\\n                    value: stringified,\\n                    valueUpdate: allBindings.get('valueUpdate'),\\n                },\\n                context,\\n            );\\n        }\\n    };\\n    var json_data = {\\\"loading\\\":WebIO.getval({\\\"name\\\":\\\"loading\\\",\\\"scope\\\":\\\"18088297194133369922\\\",\\\"id\\\":\\\"14835779357772875376\\\",\\\"type\\\":\\\"observable\\\"}),\\\"clicks\\\":WebIO.getval({\\\"name\\\":\\\"clicks\\\",\\\"scope\\\":\\\"18088297194133369922\\\",\\\"id\\\":\\\"4678876138284527200\\\",\\\"type\\\":\\\"observable\\\"})};\\n    var self = this;\\n    function AppViewModel() {\\n        for (var key in json_data) {\\n            var el = json_data[key];\\n            this[key] = Array.isArray(el) ? ko.observableArray(el) : ko.observable(el);\\n        }\\n        \\n        \\n        [this[\\\"loading\\\"].subscribe((function (val){!(this.valueFromJulia[\\\"loading\\\"]) ? (WebIO.setval({\\\"name\\\":\\\"loading\\\",\\\"scope\\\":\\\"18088297194133369922\\\",\\\"id\\\":\\\"14835779357772875376\\\",\\\"type\\\":\\\"observable\\\"},val)) : undefined; return this.valueFromJulia[\\\"loading\\\"]=false}),self),this[\\\"clicks\\\"].subscribe((function (val){!(this.valueFromJulia[\\\"clicks\\\"]) ? (WebIO.setval({\\\"name\\\":\\\"clicks\\\",\\\"scope\\\":\\\"18088297194133369922\\\",\\\"id\\\":\\\"4678876138284527200\\\",\\\"type\\\":\\\"observable\\\"},val)) : undefined; return this.valueFromJulia[\\\"clicks\\\"]=false}),self)]\\n        \\n    }\\n    self.model = new AppViewModel();\\n    self.valueFromJulia = {};\\n    for (var key in json_data) {\\n        self.valueFromJulia[key] = false;\\n    }\\n    ko.applyBindings(self.model, self.dom);\\n}\\n);\\n    (WebIO.importBlock({\\\"data\\\":[{\\\"name\\\":\\\"knockout\\\",\\\"type\\\":\\\"js\\\",\\\"url\\\":\\\"/assetserver/727383f2a47bd31570b7da84eee7b022dd6d7c78-knockout.js\\\"},{\\\"name\\\":\\\"knockout_punches\\\",\\\"type\\\":\\\"js\\\",\\\"url\\\":\\\"/assetserver/382b41b3b1bd9f26f75861d360bad7f8beea211f-knockout_punches.js\\\"}],\\\"type\\\":\\\"async_block\\\"})).then((imports) => handler.apply(this, imports));\\n}\\n\")])], Dict{Symbol, Any}(:className => \"field interact-widget\")), WebIO.Node{WebIO.DOM}(WebIO.DOM(:html, :div), Any[WebIO.Scope(WebIO.Node{WebIO.DOM}(WebIO.DOM(:html, :div), Any[], Dict{Symbol, Any}(:id => \"container\")), Dict{String, Tuple{Observables.AbstractObservable, Union{Nothing, Bool}}}(\"value\" => (Observable(\"\\\\;\\\\;\"), nothing)), Set{String}(), nothing, WebIO.Asset[WebIO.Asset(\"js\", nothing, \"/home/dushya/.julia/packages/InteractBase/LJXv3/src/../assets/katex.min.js\"), WebIO.Asset(\"css\", nothing, \"/home/dushya/.julia/packages/InteractBase/LJXv3/src/../assets/katex.min.css\")], Dict{Any, Any}(\"value\" => Any[WebIO.JSString(\"(function (txt){return this.k.render(txt,this.container)})\")]), WebIO.ConnectionPool(Channel{Any}(32), Set{WebIO.AbstractConnection}(), Base.GenericCondition{ReentrantLock}(Base.IntrusiveLinkedList{Task}(Task (runnable) @0x00007f66a9e82ef0, Task (runnable) @0x00007f66a9e82ef0), ReentrantLock(nothing, 0x00000000, 0x00, Base.GenericCondition{Base.Threads.SpinLock}(Base.IntrusiveLinkedList{Task}(nothing, nothing), Base.Threads.SpinLock(0)), (8, 6917634994953285744, 140078921190656)))), WebIO.JSString[WebIO.JSString(\"function () {\\n    var handler = ((function (k){this.k=k; this.container=this.dom.querySelector(\\\"#container\\\"); return k.render(\\\"\\\\\\\\;\\\\\\\\;\\\",this.container)}));\\n    (WebIO.importBlock({\\\"data\\\":[{\\\"name\\\":null,\\\"type\\\":\\\"js\\\",\\\"url\\\":\\\"/assetserver/dd22ed1bf1896c2748f3fe616ce0b838adc895c1-katex.min.js\\\"},{\\\"name\\\":null,\\\"type\\\":\\\"css\\\",\\\"url\\\":\\\"/assetserver/46517a424aa5e6cffc1360d7e0848b601c584ee3-katex.min.css\\\"}],\\\"type\\\":\\\"async_block\\\"})).then((imports) => handler.apply(this, imports));\\n}\\n\")])], Dict{Symbol, Any}(:className => \"interact-widget\")), WebIO.Node{WebIO.DOM}(WebIO.DOM(:html, :div), Any[WebIO.Scope(WebIO.Node{WebIO.DOM}(WebIO.DOM(:html, :button), Any[\"stop\"], Dict{Symbol, Any}(:attributes => Dict{Any, Any}(\"data-bind\" => \"click: function (){this.clicks(this.clicks()+1)}, css: {'is-loading' : loading}\"), :className => \"is-medium button is-primary\", :style => Dict{String, Any}())), Dict{String, Tuple{Observables.AbstractObservable, Union{Nothing, Bool}}}(\"loading\" => (Observable(false), nothing), \"clicks\" => (Observable(0), nothing)), Set{String}(), nothing, WebIO.Asset[WebIO.Asset(\"js\", \"knockout\", \"/home/dushya/.julia/packages/Knockout/HReiN/src/../assets/knockout.js\"), WebIO.Asset(\"js\", \"knockout_punches\", \"/home/dushya/.julia/packages/Knockout/HReiN/src/../assets/knockout_punches.js\"), WebIO.Asset(\"js\", nothing, \"/home/dushya/.julia/packages/InteractBase/LJXv3/src/../assets/all.js\"), WebIO.Asset(\"css\", nothing, \"/home/dushya/.julia/packages/InteractBase/LJXv3/src/../assets/style.css\"), WebIO.Asset(\"css\", nothing, \"/home/dushya/.julia/packages/Interact/PENUy/src/../assets/bulma_confined.min.css\")], Dict{Any, Any}(\"loading\" => Any[WebIO.JSString(\"(function (val){return (val!=this.model[\\\"loading\\\"]()) ? (this.valueFromJulia[\\\"loading\\\"]=true, this.model[\\\"loading\\\"](val)) : undefined})\")], \"clicks\" => Any[WebIO.JSString(\"(function (val){return (val!=this.model[\\\"clicks\\\"]()) ? (this.valueFromJulia[\\\"clicks\\\"]=true, this.model[\\\"clicks\\\"](val)) : undefined})\")]), WebIO.ConnectionPool(Channel{Any}(32), Set{WebIO.AbstractConnection}(), Base.GenericCondition{ReentrantLock}(Base.IntrusiveLinkedList{Task}(Task (runnable) @0x00007f66dad64650, Task (runnable) @0x00007f66dad64650), ReentrantLock(nothing, 0x00000000, 0x00, Base.GenericCondition{Base.Threads.SpinLock}(Base.IntrusiveLinkedList{Task}(nothing, nothing), Base.Threads.SpinLock(0)), (2, 140078932119552, 140078931694400)))), WebIO.JSString[WebIO.JSString(\"function () {\\n    var handler = (function (ko, koPunches) {\\n    ko.punches.enableAll();\\n    ko.bindingHandlers.numericValue = {\\n        init: function(element, valueAccessor, allBindings, data, context) {\\n            var stringified = ko.observable(ko.unwrap(valueAccessor()));\\n            stringified.subscribe(function(value) {\\n                var val = parseFloat(value);\\n                if (!isNaN(val)) {\\n                    valueAccessor()(val);\\n                }\\n            });\\n            valueAccessor().subscribe(function(value) {\\n                var str = JSON.stringify(value);\\n                if ((str == \\\"0\\\") && ([\\\"-0\\\", \\\"-0.\\\"].indexOf(stringified()) >= 0))\\n                     return;\\n                 if ([\\\"null\\\", \\\"\\\"].indexOf(str) >= 0)\\n                     return;\\n                stringified(str);\\n            });\\n            ko.applyBindingsToNode(\\n                element,\\n                {\\n                    value: stringified,\\n                    valueUpdate: allBindings.get('valueUpdate'),\\n                },\\n                context,\\n            );\\n        }\\n    };\\n    var json_data = {\\\"loading\\\":WebIO.getval({\\\"name\\\":\\\"loading\\\",\\\"scope\\\":\\\"7184289346081109515\\\",\\\"id\\\":\\\"766640351251589906\\\",\\\"type\\\":\\\"observable\\\"}),\\\"clicks\\\":WebIO.getval({\\\"name\\\":\\\"clicks\\\",\\\"scope\\\":\\\"7184289346081109515\\\",\\\"id\\\":\\\"9807735446982096615\\\",\\\"type\\\":\\\"observable\\\"})};\\n    var self = this;\\n    function AppViewModel() {\\n        for (var key in json_data) {\\n            var el = json_data[key];\\n            this[key] = Array.isArray(el) ? ko.observableArray(el) : ko.observable(el);\\n        }\\n        \\n        \\n        [this[\\\"loading\\\"].subscribe((function (val){!(this.valueFromJulia[\\\"loading\\\"]) ? (WebIO.setval({\\\"name\\\":\\\"loading\\\",\\\"scope\\\":\\\"7184289346081109515\\\",\\\"id\\\":\\\"766640351251589906\\\",\\\"type\\\":\\\"observable\\\"},val)) : undefined; return this.valueFromJulia[\\\"loading\\\"]=false}),self),this[\\\"clicks\\\"].subscribe((function (val){!(this.valueFromJulia[\\\"clicks\\\"]) ? (WebIO.setval({\\\"name\\\":\\\"clicks\\\",\\\"scope\\\":\\\"7184289346081109515\\\",\\\"id\\\":\\\"9807735446982096615\\\",\\\"type\\\":\\\"observable\\\"},val)) : undefined; return this.valueFromJulia[\\\"clicks\\\"]=false}),self)]\\n        \\n    }\\n    self.model = new AppViewModel();\\n    self.valueFromJulia = {};\\n    for (var key in json_data) {\\n        self.valueFromJulia[key] = false;\\n    }\\n    ko.applyBindings(self.model, self.dom);\\n}\\n);\\n    (WebIO.importBlock({\\\"data\\\":[{\\\"name\\\":\\\"knockout\\\",\\\"type\\\":\\\"js\\\",\\\"url\\\":\\\"/assetserver/727383f2a47bd31570b7da84eee7b022dd6d7c78-knockout.js\\\"},{\\\"name\\\":\\\"knockout_punches\\\",\\\"type\\\":\\\"js\\\",\\\"url\\\":\\\"/assetserver/382b41b3b1bd9f26f75861d360bad7f8beea211f-knockout_punches.js\\\"}],\\\"type\\\":\\\"async_block\\\"})).then((imports) => handler.apply(this, imports));\\n}\\n\")])], Dict{Symbol, Any}(:className => \"field interact-widget\")), WebIO.Node{WebIO.DOM}(WebIO.DOM(:html, :div), Any[WebIO.Scope(WebIO.Node{WebIO.DOM}(WebIO.DOM(:html, :div), Any[], Dict{Symbol, Any}(:id => \"container\")), Dict{String, Tuple{Observables.AbstractObservable, Union{Nothing, Bool}}}(\"value\" => (Observable(\"\\\\;\\\\;\"), nothing)), Set{String}(), nothing, WebIO.Asset[WebIO.Asset(\"js\", nothing, \"/home/dushya/.julia/packages/InteractBase/LJXv3/src/../assets/katex.min.js\"), WebIO.Asset(\"css\", nothing, \"/home/dushya/.julia/packages/InteractBase/LJXv3/src/../assets/katex.min.css\")], Dict{Any, Any}(\"value\" => Any[WebIO.JSString(\"(function (txt){return this.k.render(txt,this.container)})\")]), WebIO.ConnectionPool(Channel{Any}(32), Set{WebIO.AbstractConnection}(), Base.GenericCondition{ReentrantLock}(Base.IntrusiveLinkedList{Task}(Task (runnable) @0x00007f66a9e82ef0, Task (runnable) @0x00007f66a9e82ef0), ReentrantLock(nothing, 0x00000000, 0x00, Base.GenericCondition{Base.Threads.SpinLock}(Base.IntrusiveLinkedList{Task}(nothing, nothing), Base.Threads.SpinLock(0)), (8, 6917634994953285744, 140078921190656)))), WebIO.JSString[WebIO.JSString(\"function () {\\n    var handler = ((function (k){this.k=k; this.container=this.dom.querySelector(\\\"#container\\\"); return k.render(\\\"\\\\\\\\;\\\\\\\\;\\\",this.container)}));\\n    (WebIO.importBlock({\\\"data\\\":[{\\\"name\\\":null,\\\"type\\\":\\\"js\\\",\\\"url\\\":\\\"/assetserver/dd22ed1bf1896c2748f3fe616ce0b838adc895c1-katex.min.js\\\"},{\\\"name\\\":null,\\\"type\\\":\\\"css\\\",\\\"url\\\":\\\"/assetserver/46517a424aa5e6cffc1360d7e0848b601c584ee3-katex.min.css\\\"}],\\\"type\\\":\\\"async_block\\\"})).then((imports) => handler.apply(this, imports));\\n}\\n\")])], Dict{Symbol, Any}(:className => \"interact-widget\")), WebIO.Node{WebIO.DOM}(WebIO.DOM(:html, :div), Any[WebIO.Scope(WebIO.Node{WebIO.DOM}(WebIO.DOM(:html, :button), Any[\"save\"], Dict{Symbol, Any}(:attributes => Dict{Any, Any}(\"data-bind\" => \"click: function (){this.clicks(this.clicks()+1)}, css: {'is-loading' : loading}\"), :className => \"is-medium button is-primary\", :style => Dict{String, Any}())), Dict{String, Tuple{Observables.AbstractObservable, Union{Nothing, Bool}}}(\"loading\" => (Observable(false), nothing), \"clicks\" => (Observable(0), nothing)), Set{String}(), nothing, WebIO.Asset[WebIO.Asset(\"js\", \"knockout\", \"/home/dushya/.julia/packages/Knockout/HReiN/src/../assets/knockout.js\"), WebIO.Asset(\"js\", \"knockout_punches\", \"/home/dushya/.julia/packages/Knockout/HReiN/src/../assets/knockout_punches.js\"), WebIO.Asset(\"js\", nothing, \"/home/dushya/.julia/packages/InteractBase/LJXv3/src/../assets/all.js\"), WebIO.Asset(\"css\", nothing, \"/home/dushya/.julia/packages/InteractBase/LJXv3/src/../assets/style.css\"), WebIO.Asset(\"css\", nothing, \"/home/dushya/.julia/packages/Interact/PENUy/src/../assets/bulma_confined.min.css\")], Dict{Any, Any}(\"loading\" => Any[WebIO.JSString(\"(function (val){return (val!=this.model[\\\"loading\\\"]()) ? (this.valueFromJulia[\\\"loading\\\"]=true, this.model[\\\"loading\\\"](val)) : undefined})\")], \"clicks\" => Any[WebIO.JSString(\"(function (val){return (val!=this.model[\\\"clicks\\\"]()) ? (this.valueFromJulia[\\\"clicks\\\"]=true, this.model[\\\"clicks\\\"](val)) : undefined})\")]), WebIO.ConnectionPool(Channel{Any}(32), Set{WebIO.AbstractConnection}(), Base.GenericCondition{ReentrantLock}(Base.IntrusiveLinkedList{Task}(Task (runnable) @0x00007f66dad67210, Task (runnable) @0x00007f66dad67210), ReentrantLock(nothing, 0x00000000, 0x00, Base.GenericCondition{Base.Threads.SpinLock}(Base.IntrusiveLinkedList{Task}(nothing, nothing), Base.Threads.SpinLock(0)), (0, 140079725211728, 140079725211760)))), WebIO.JSString[WebIO.JSString(\"function () {\\n    var handler = (function (ko, koPunches) {\\n    ko.punches.enableAll();\\n    ko.bindingHandlers.numericValue = {\\n        init: function(element, valueAccessor, allBindings, data, context) {\\n            var stringified = ko.observable(ko.unwrap(valueAccessor()));\\n            stringified.subscribe(function(value) {\\n                var val = parseFloat(value);\\n                if (!isNaN(val)) {\\n                    valueAccessor()(val);\\n                }\\n            });\\n            valueAccessor().subscribe(function(value) {\\n                var str = JSON.stringify(value);\\n                if ((str == \\\"0\\\") && ([\\\"-0\\\", \\\"-0.\\\"].indexOf(stringified()) >= 0))\\n                     return;\\n                 if ([\\\"null\\\", \\\"\\\"].indexOf(str) >= 0)\\n                     return;\\n                stringified(str);\\n            });\\n            ko.applyBindingsToNode(\\n                element,\\n                {\\n                    value: stringified,\\n                    valueUpdate: allBindings.get('valueUpdate'),\\n                },\\n                context,\\n            );\\n        }\\n    };\\n    var json_data = {\\\"loading\\\":WebIO.getval({\\\"name\\\":\\\"loading\\\",\\\"scope\\\":\\\"15755790075582025821\\\",\\\"id\\\":\\\"17714658702317865257\\\",\\\"type\\\":\\\"observable\\\"}),\\\"clicks\\\":WebIO.getval({\\\"name\\\":\\\"clicks\\\",\\\"scope\\\":\\\"15755790075582025821\\\",\\\"id\\\":\\\"17524884257977667867\\\",\\\"type\\\":\\\"observable\\\"})};\\n    var self = this;\\n    function AppViewModel() {\\n        for (var key in json_data) {\\n            var el = json_data[key];\\n            this[key] = Array.isArray(el) ? ko.observableArray(el) : ko.observable(el);\\n        }\\n        \\n        \\n        [this[\\\"loading\\\"].subscribe((function (val){!(this.valueFromJulia[\\\"loading\\\"]) ? (WebIO.setval({\\\"name\\\":\\\"loading\\\",\\\"scope\\\":\\\"15755790075582025821\\\",\\\"id\\\":\\\"17714658702317865257\\\",\\\"type\\\":\\\"observable\\\"},val)) : undefined; return this.valueFromJulia[\\\"loading\\\"]=false}),self),this[\\\"clicks\\\"].subscribe((function (val){!(this.valueFromJulia[\\\"clicks\\\"]) ? (WebIO.setval({\\\"name\\\":\\\"clicks\\\",\\\"scope\\\":\\\"15755790075582025821\\\",\\\"id\\\":\\\"17524884257977667867\\\",\\\"type\\\":\\\"observable\\\"},val)) : undefined; return this.valueFromJulia[\\\"clicks\\\"]=false}),self)]\\n        \\n    }\\n    self.model = new AppViewModel();\\n    self.valueFromJulia = {};\\n    for (var key in json_data) {\\n        self.valueFromJulia[key] = false;\\n    }\\n    ko.applyBindings(self.model, self.dom);\\n}\\n);\\n    (WebIO.importBlock({\\\"data\\\":[{\\\"name\\\":\\\"knockout\\\",\\\"type\\\":\\\"js\\\",\\\"url\\\":\\\"/assetserver/727383f2a47bd31570b7da84eee7b022dd6d7c78-knockout.js\\\"},{\\\"name\\\":\\\"knockout_punches\\\",\\\"type\\\":\\\"js\\\",\\\"url\\\":\\\"/assetserver/382b41b3b1bd9f26f75861d360bad7f8beea211f-knockout_punches.js\\\"}],\\\"type\\\":\\\"async_block\\\"})).then((imports) => handler.apply(this, imports));\\n}\\n\")])], Dict{Symbol, Any}(:className => \"field interact-widget\"))], Dict{Symbol, Any}(:style => Dict(\"display\" => \"flex\", \"flex-direction\" => \"row\")))], Dict{Symbol, Any}(:style => Dict(\"display\" => \"flex\", \"flex-direction\" => \"column\"))), WebIO.Node{WebIO.DOM}(WebIO.DOM(:html, :div), Any[WebIO.Scope(WebIO.Node{WebIO.DOM}(WebIO.DOM(:html, :div), Any[], Dict{Symbol, Any}(:id => \"container\")), Dict{String, Tuple{Observables.AbstractObservable, Union{Nothing, Bool}}}(\"value\" => (Observable(\"\\\\;\\\\;\"), nothing)), Set{String}(), nothing, WebIO.Asset[WebIO.Asset(\"js\", nothing, \"/home/dushya/.julia/packages/InteractBase/LJXv3/src/../assets/katex.min.js\"), WebIO.Asset(\"css\", nothing, \"/home/dushya/.julia/packages/InteractBase/LJXv3/src/../assets/katex.min.css\")], Dict{Any, Any}(\"value\" => Any[WebIO.JSString(\"(function (txt){return this.k.render(txt,this.container)})\")]), WebIO.ConnectionPool(Channel{Any}(32), Set{WebIO.AbstractConnection}(), Base.GenericCondition{ReentrantLock}(Base.IntrusiveLinkedList{Task}(Task (runnable) @0x00007f66a9e82ef0, Task (runnable) @0x00007f66a9e82ef0), ReentrantLock(nothing, 0x00000000, 0x00, Base.GenericCondition{Base.Threads.SpinLock}(Base.IntrusiveLinkedList{Task}(nothing, nothing), Base.Threads.SpinLock(0)), (8, 6917634994953285744, 140078921190656)))), WebIO.JSString[WebIO.JSString(\"function () {\\n    var handler = ((function (k){this.k=k; this.container=this.dom.querySelector(\\\"#container\\\"); return k.render(\\\"\\\\\\\\;\\\\\\\\;\\\",this.container)}));\\n    (WebIO.importBlock({\\\"data\\\":[{\\\"name\\\":null,\\\"type\\\":\\\"js\\\",\\\"url\\\":\\\"/assetserver/dd22ed1bf1896c2748f3fe616ce0b838adc895c1-katex.min.js\\\"},{\\\"name\\\":null,\\\"type\\\":\\\"css\\\",\\\"url\\\":\\\"/assetserver/46517a424aa5e6cffc1360d7e0848b601c584ee3-katex.min.css\\\"}],\\\"type\\\":\\\"async_block\\\"})).then((imports) => handler.apply(this, imports));\\n}\\n\")])], Dict{Symbol, Any}(:className => \"interact-widget\")), Observable(Luxor.Drawing(430.0, 430.0, \"\", Cairo.CairoSurfaceBase{UInt32}(Ptr{Nothing} @0x0000000000000000, 430.0, 430.0), Cairo.CairoContext(Ptr{Nothing} @0x0000000007abb050, Cairo.CairoSurfaceBase{UInt32}(Ptr{Nothing} @0x0000000000000000, 430.0, 430.0), Ptr{Nothing} @0x00000000072250d0), :png, 0.0, 0.0, 0.0, 1.0, IOBuffer(data=UInt8[...], readable=true, writable=true, seekable=true, append=false, size=21152, maxsize=Inf, ptr=21153, mark=-1), UInt8[0x89, 0x50, 0x4e, 0x47, 0x0d, 0x0a, 0x1a, 0x0a, 0x00, 0x00  …  0x00, 0x00, 0x49, 0x45, 0x4e, 0x44, 0xae, 0x42, 0x60, 0x82], false)), WebIO.Node{WebIO.DOM}(WebIO.DOM(:html, :div), Any[WebIO.Scope(WebIO.Node{WebIO.DOM}(WebIO.DOM(:html, :div), Any[], Dict{Symbol, Any}(:id => \"container\")), Dict{String, Tuple{Observables.AbstractObservable, Union{Nothing, Bool}}}(\"value\" => (Observable(\"\\\\;\\\\;\"), nothing)), Set{String}(), nothing, WebIO.Asset[WebIO.Asset(\"js\", nothing, \"/home/dushya/.julia/packages/InteractBase/LJXv3/src/../assets/katex.min.js\"), WebIO.Asset(\"css\", nothing, \"/home/dushya/.julia/packages/InteractBase/LJXv3/src/../assets/katex.min.css\")], Dict{Any, Any}(\"value\" => Any[WebIO.JSString(\"(function (txt){return this.k.render(txt,this.container)})\")]), WebIO.ConnectionPool(Channel{Any}(32), Set{WebIO.AbstractConnection}(), Base.GenericCondition{ReentrantLock}(Base.IntrusiveLinkedList{Task}(Task (runnable) @0x00007f66a9e82ef0, Task (runnable) @0x00007f66a9e82ef0), ReentrantLock(nothing, 0x00000000, 0x00, Base.GenericCondition{Base.Threads.SpinLock}(Base.IntrusiveLinkedList{Task}(nothing, nothing), Base.Threads.SpinLock(0)), (8, 6917634994953285744, 140078921190656)))), WebIO.JSString[WebIO.JSString(\"function () {\\n    var handler = ((function (k){this.k=k; this.container=this.dom.querySelector(\\\"#container\\\"); return k.render(\\\"\\\\\\\\;\\\\\\\\;\\\",this.container)}));\\n    (WebIO.importBlock({\\\"data\\\":[{\\\"name\\\":null,\\\"type\\\":\\\"js\\\",\\\"url\\\":\\\"/assetserver/dd22ed1bf1896c2748f3fe616ce0b838adc895c1-katex.min.js\\\"},{\\\"name\\\":null,\\\"type\\\":\\\"css\\\",\\\"url\\\":\\\"/assetserver/46517a424aa5e6cffc1360d7e0848b601c584ee3-katex.min.css\\\"}],\\\"type\\\":\\\"async_block\\\"})).then((imports) => handler.apply(this, imports));\\n}\\n\")])], Dict{Symbol, Any}(:className => \"interact-widget\")), WebIO.Node{WebIO.DOM}(WebIO.DOM(:html, :div), Any[], Dict{Symbol, Any}(:style => Dict(\"display\" => \"flex\", \"flex-direction\" => \"column\")))], Dict{Symbol, Any}(:style => Dict(\"display\" => \"flex\", \"flex-direction\" => \"row\")))], Dict{Symbol, Any}(:style => Dict(\"display\" => \"flex\", \"flex-direction\" => \"column\")))"
      ]
     },
     "execution_count": 24,
     "metadata": {
      "application/vnd.webio.node+json": {
       "kernelId": "a3abe705-f9f9-4d1f-9366-ef145f9cb433"
      }
     },
     "output_type": "execute_result"
    }
   ],
   "source": [
    "animate_sim(model)"
   ]
  },
  {
   "cell_type": "markdown",
   "metadata": {},
   "source": [
    "After defining the `step_rule!` function we can also choose to create an interactive application (which currently works in Jupyter with WebIO installation) as "
   ]
  },
  {
   "cell_type": "code",
   "execution_count": 25,
   "metadata": {},
   "outputs": [
    {
     "data": {
      "application/vnd.webio.node+json": {
       "children": [
        {
         "children": [
          {
           "children": [
            {
             "children": [
              {
               "children": [
                {
                 "children": [
                  {
                   "children": [
                    {
                     "children": [
                      "time"
                     ],
                     "instanceArgs": {
                      "namespace": "html",
                      "tag": "label"
                     },
                     "nodeType": "DOM",
                     "props": {
                      "className": "interact ",
                      "style": {
                       "padding": "5px 10px 0px 10px"
                      }
                     },
                     "type": "node"
                    }
                   ],
                   "instanceArgs": {
                    "namespace": "html",
                    "tag": "div"
                   },
                   "nodeType": "DOM",
                   "props": {
                    "className": "interact-flex-row-left"
                   },
                   "type": "node"
                  },
                  {
                   "children": [
                    {
                     "children": [],
                     "instanceArgs": {
                      "namespace": "html",
                      "tag": "input"
                     },
                     "nodeType": "DOM",
                     "props": {
                      "attributes": {
                       "data-bind": "numericValue: index, valueUpdate: 'input', event: {change: function (){this.changes(this.changes()+1)}}",
                       "orient": "horizontal",
                       "type": "range"
                      },
                      "className": "slider slider is-fullwidth",
                      "max": 400,
                      "min": 1,
                      "step": 1,
                      "style": {}
                     },
                     "type": "node"
                    }
                   ],
                   "instanceArgs": {
                    "namespace": "html",
                    "tag": "div"
                   },
                   "nodeType": "DOM",
                   "props": {
                    "className": "interact-flex-row-center"
                   },
                   "type": "node"
                  },
                  {
                   "children": [
                    {
                     "children": [],
                     "instanceArgs": {
                      "namespace": "html",
                      "tag": "p"
                     },
                     "nodeType": "DOM",
                     "props": {
                      "attributes": {
                       "data-bind": "text: formatted_val"
                      }
                     },
                     "type": "node"
                    }
                   ],
                   "instanceArgs": {
                    "namespace": "html",
                    "tag": "div"
                   },
                   "nodeType": "DOM",
                   "props": {
                    "className": "interact-flex-row-right"
                   },
                   "type": "node"
                  }
                 ],
                 "instanceArgs": {
                  "namespace": "html",
                  "tag": "div"
                 },
                 "nodeType": "DOM",
                 "props": {
                  "className": "interact-flex-row interact-widget"
                 },
                 "type": "node"
                }
               ],
               "instanceArgs": {
                "handlers": {
                 "changes": [
                  "(function (val){return (val!=this.model[\"changes\"]()) ? (this.valueFromJulia[\"changes\"]=true, this.model[\"changes\"](val)) : undefined})"
                 ],
                 "index": [
                  "(function (val){return (val!=this.model[\"index\"]()) ? (this.valueFromJulia[\"index\"]=true, this.model[\"index\"](val)) : undefined})"
                 ]
                },
                "id": "13528449948769058686",
                "imports": {
                 "data": [
                  {
                   "name": "knockout",
                   "type": "js",
                   "url": "/assetserver/727383f2a47bd31570b7da84eee7b022dd6d7c78-knockout.js"
                  },
                  {
                   "name": "knockout_punches",
                   "type": "js",
                   "url": "/assetserver/382b41b3b1bd9f26f75861d360bad7f8beea211f-knockout_punches.js"
                  },
                  {
                   "name": null,
                   "type": "js",
                   "url": "/assetserver/5ab20f1060420992a9b82a65b735dee4d81ef413-all.js"
                  },
                  {
                   "name": null,
                   "type": "css",
                   "url": "/assetserver/1cc0ed62837210b80a182cc3676512f895dab686-style.css"
                  },
                  {
                   "name": null,
                   "type": "css",
                   "url": "/assetserver/2eee816f616df3549d7044d45e744fbf8d42bfa1-bulma_confined.min.css"
                  }
                 ],
                 "type": "async_block"
                },
                "mount_callbacks": [
                 "function () {\n    var handler = (function (ko, koPunches) {\n    ko.punches.enableAll();\n    ko.bindingHandlers.numericValue = {\n        init: function(element, valueAccessor, allBindings, data, context) {\n            var stringified = ko.observable(ko.unwrap(valueAccessor()));\n            stringified.subscribe(function(value) {\n                var val = parseFloat(value);\n                if (!isNaN(val)) {\n                    valueAccessor()(val);\n                }\n            });\n            valueAccessor().subscribe(function(value) {\n                var str = JSON.stringify(value);\n                if ((str == \"0\") && ([\"-0\", \"-0.\"].indexOf(stringified()) >= 0))\n                     return;\n                 if ([\"null\", \"\"].indexOf(str) >= 0)\n                     return;\n                stringified(str);\n            });\n            ko.applyBindingsToNode(\n                element,\n                {\n                    value: stringified,\n                    valueUpdate: allBindings.get('valueUpdate'),\n                },\n                context,\n            );\n        }\n    };\n    var json_data = {\"formatted_vals\":[\"1\",\"2\",\"3\",\"4\",\"5\",\"6\",\"7\",\"8\",\"9\",\"10\",\"11\",\"12\",\"13\",\"14\",\"15\",\"16\",\"17\",\"18\",\"19\",\"20\",\"21\",\"22\",\"23\",\"24\",\"25\",\"26\",\"27\",\"28\",\"29\",\"30\",\"31\",\"32\",\"33\",\"34\",\"35\",\"36\",\"37\",\"38\",\"39\",\"40\",\"41\",\"42\",\"43\",\"44\",\"45\",\"46\",\"47\",\"48\",\"49\",\"50\",\"51\",\"52\",\"53\",\"54\",\"55\",\"56\",\"57\",\"58\",\"59\",\"60\",\"61\",\"62\",\"63\",\"64\",\"65\",\"66\",\"67\",\"68\",\"69\",\"70\",\"71\",\"72\",\"73\",\"74\",\"75\",\"76\",\"77\",\"78\",\"79\",\"80\",\"81\",\"82\",\"83\",\"84\",\"85\",\"86\",\"87\",\"88\",\"89\",\"90\",\"91\",\"92\",\"93\",\"94\",\"95\",\"96\",\"97\",\"98\",\"99\",\"100\",\"101\",\"102\",\"103\",\"104\",\"105\",\"106\",\"107\",\"108\",\"109\",\"110\",\"111\",\"112\",\"113\",\"114\",\"115\",\"116\",\"117\",\"118\",\"119\",\"120\",\"121\",\"122\",\"123\",\"124\",\"125\",\"126\",\"127\",\"128\",\"129\",\"130\",\"131\",\"132\",\"133\",\"134\",\"135\",\"136\",\"137\",\"138\",\"139\",\"140\",\"141\",\"142\",\"143\",\"144\",\"145\",\"146\",\"147\",\"148\",\"149\",\"150\",\"151\",\"152\",\"153\",\"154\",\"155\",\"156\",\"157\",\"158\",\"159\",\"160\",\"161\",\"162\",\"163\",\"164\",\"165\",\"166\",\"167\",\"168\",\"169\",\"170\",\"171\",\"172\",\"173\",\"174\",\"175\",\"176\",\"177\",\"178\",\"179\",\"180\",\"181\",\"182\",\"183\",\"184\",\"185\",\"186\",\"187\",\"188\",\"189\",\"190\",\"191\",\"192\",\"193\",\"194\",\"195\",\"196\",\"197\",\"198\",\"199\",\"200\",\"201\",\"202\",\"203\",\"204\",\"205\",\"206\",\"207\",\"208\",\"209\",\"210\",\"211\",\"212\",\"213\",\"214\",\"215\",\"216\",\"217\",\"218\",\"219\",\"220\",\"221\",\"222\",\"223\",\"224\",\"225\",\"226\",\"227\",\"228\",\"229\",\"230\",\"231\",\"232\",\"233\",\"234\",\"235\",\"236\",\"237\",\"238\",\"239\",\"240\",\"241\",\"242\",\"243\",\"244\",\"245\",\"246\",\"247\",\"248\",\"249\",\"250\",\"251\",\"252\",\"253\",\"254\",\"255\",\"256\",\"257\",\"258\",\"259\",\"260\",\"261\",\"262\",\"263\",\"264\",\"265\",\"266\",\"267\",\"268\",\"269\",\"270\",\"271\",\"272\",\"273\",\"274\",\"275\",\"276\",\"277\",\"278\",\"279\",\"280\",\"281\",\"282\",\"283\",\"284\",\"285\",\"286\",\"287\",\"288\",\"289\",\"290\",\"291\",\"292\",\"293\",\"294\",\"295\",\"296\",\"297\",\"298\",\"299\",\"300\",\"301\",\"302\",\"303\",\"304\",\"305\",\"306\",\"307\",\"308\",\"309\",\"310\",\"311\",\"312\",\"313\",\"314\",\"315\",\"316\",\"317\",\"318\",\"319\",\"320\",\"321\",\"322\",\"323\",\"324\",\"325\",\"326\",\"327\",\"328\",\"329\",\"330\",\"331\",\"332\",\"333\",\"334\",\"335\",\"336\",\"337\",\"338\",\"339\",\"340\",\"341\",\"342\",\"343\",\"344\",\"345\",\"346\",\"347\",\"348\",\"349\",\"350\",\"351\",\"352\",\"353\",\"354\",\"355\",\"356\",\"357\",\"358\",\"359\",\"360\",\"361\",\"362\",\"363\",\"364\",\"365\",\"366\",\"367\",\"368\",\"369\",\"370\",\"371\",\"372\",\"373\",\"374\",\"375\",\"376\",\"377\",\"378\",\"379\",\"380\",\"381\",\"382\",\"383\",\"384\",\"385\",\"386\",\"387\",\"388\",\"389\",\"390\",\"391\",\"392\",\"393\",\"394\",\"395\",\"396\",\"397\",\"398\",\"399\",\"400\"],\"changes\":WebIO.getval({\"name\":\"changes\",\"scope\":\"13528449948769058686\",\"id\":\"17551337255259803815\",\"type\":\"observable\"}),\"index\":WebIO.getval({\"name\":\"index\",\"scope\":\"13528449948769058686\",\"id\":\"2822240849482909453\",\"type\":\"observable\"})};\n    var self = this;\n    function AppViewModel() {\n        for (var key in json_data) {\n            var el = json_data[key];\n            this[key] = Array.isArray(el) ? ko.observableArray(el) : ko.observable(el);\n        }\n        \n        [this[\"formatted_val\"]=ko.computed(    function(){\n        return this.formatted_vals()[parseInt(this.index())-(1)];\n    }\n,this)]\n        [this[\"changes\"].subscribe((function (val){!(this.valueFromJulia[\"changes\"]) ? (WebIO.setval({\"name\":\"changes\",\"scope\":\"13528449948769058686\",\"id\":\"17551337255259803815\",\"type\":\"observable\"},val)) : undefined; return this.valueFromJulia[\"changes\"]=false}),self),this[\"index\"].subscribe((function (val){!(this.valueFromJulia[\"index\"]) ? (WebIO.setval({\"name\":\"index\",\"scope\":\"13528449948769058686\",\"id\":\"2822240849482909453\",\"type\":\"observable\"},val)) : undefined; return this.valueFromJulia[\"index\"]=false}),self)]\n        \n    }\n    self.model = new AppViewModel();\n    self.valueFromJulia = {};\n    for (var key in json_data) {\n        self.valueFromJulia[key] = false;\n    }\n    ko.applyBindings(self.model, self.dom);\n}\n);\n    (WebIO.importBlock({\"data\":[{\"name\":\"knockout\",\"type\":\"js\",\"url\":\"/assetserver/727383f2a47bd31570b7da84eee7b022dd6d7c78-knockout.js\"},{\"name\":\"knockout_punches\",\"type\":\"js\",\"url\":\"/assetserver/382b41b3b1bd9f26f75861d360bad7f8beea211f-knockout_punches.js\"}],\"type\":\"async_block\"})).then((imports) => handler.apply(this, imports));\n}\n"
                ],
                "observables": {
                 "changes": {
                  "id": "17551337255259803815",
                  "sync": false,
                  "value": 0
                 },
                 "index": {
                  "id": "2822240849482909453",
                  "sync": true,
                  "value": 1
                 }
                },
                "systemjs_options": null
               },
               "nodeType": "Scope",
               "props": {},
               "type": "node"
              }
             ],
             "instanceArgs": {
              "namespace": "html",
              "tag": "div"
             },
             "nodeType": "DOM",
             "props": {
              "className": "field interact-widget"
             },
             "type": "node"
            },
            {
             "children": [
              {
               "children": [
                {
                 "children": [
                  {
                   "children": [
                    {
                     "children": [
                      "scale"
                     ],
                     "instanceArgs": {
                      "namespace": "html",
                      "tag": "label"
                     },
                     "nodeType": "DOM",
                     "props": {
                      "className": "interact ",
                      "style": {
                       "padding": "5px 10px 0px 10px"
                      }
                     },
                     "type": "node"
                    }
                   ],
                   "instanceArgs": {
                    "namespace": "html",
                    "tag": "div"
                   },
                   "nodeType": "DOM",
                   "props": {
                    "className": "interact-flex-row-left"
                   },
                   "type": "node"
                  },
                  {
                   "children": [
                    {
                     "children": [],
                     "instanceArgs": {
                      "namespace": "html",
                      "tag": "input"
                     },
                     "nodeType": "DOM",
                     "props": {
                      "attributes": {
                       "data-bind": "numericValue: index, valueUpdate: 'input', event: {change: function (){this.changes(this.changes()+1)}}",
                       "orient": "horizontal",
                       "type": "range"
                      },
                      "className": "slider slider is-fullwidth",
                      "max": 20,
                      "min": 1,
                      "step": 1,
                      "style": {}
                     },
                     "type": "node"
                    }
                   ],
                   "instanceArgs": {
                    "namespace": "html",
                    "tag": "div"
                   },
                   "nodeType": "DOM",
                   "props": {
                    "className": "interact-flex-row-center"
                   },
                   "type": "node"
                  },
                  {
                   "children": [
                    {
                     "children": [],
                     "instanceArgs": {
                      "namespace": "html",
                      "tag": "p"
                     },
                     "nodeType": "DOM",
                     "props": {
                      "attributes": {
                       "data-bind": "text: formatted_val"
                      }
                     },
                     "type": "node"
                    }
                   ],
                   "instanceArgs": {
                    "namespace": "html",
                    "tag": "div"
                   },
                   "nodeType": "DOM",
                   "props": {
                    "className": "interact-flex-row-right"
                   },
                   "type": "node"
                  }
                 ],
                 "instanceArgs": {
                  "namespace": "html",
                  "tag": "div"
                 },
                 "nodeType": "DOM",
                 "props": {
                  "className": "interact-flex-row interact-widget"
                 },
                 "type": "node"
                }
               ],
               "instanceArgs": {
                "handlers": {
                 "changes": [
                  "(function (val){return (val!=this.model[\"changes\"]()) ? (this.valueFromJulia[\"changes\"]=true, this.model[\"changes\"](val)) : undefined})"
                 ],
                 "index": [
                  "(function (val){return (val!=this.model[\"index\"]()) ? (this.valueFromJulia[\"index\"]=true, this.model[\"index\"](val)) : undefined})"
                 ]
                },
                "id": "11065932035451131021",
                "imports": {
                 "data": [
                  {
                   "name": "knockout",
                   "type": "js",
                   "url": "/assetserver/727383f2a47bd31570b7da84eee7b022dd6d7c78-knockout.js"
                  },
                  {
                   "name": "knockout_punches",
                   "type": "js",
                   "url": "/assetserver/382b41b3b1bd9f26f75861d360bad7f8beea211f-knockout_punches.js"
                  },
                  {
                   "name": null,
                   "type": "js",
                   "url": "/assetserver/5ab20f1060420992a9b82a65b735dee4d81ef413-all.js"
                  },
                  {
                   "name": null,
                   "type": "css",
                   "url": "/assetserver/1cc0ed62837210b80a182cc3676512f895dab686-style.css"
                  },
                  {
                   "name": null,
                   "type": "css",
                   "url": "/assetserver/2eee816f616df3549d7044d45e744fbf8d42bfa1-bulma_confined.min.css"
                  }
                 ],
                 "type": "async_block"
                },
                "mount_callbacks": [
                 "function () {\n    var handler = (function (ko, koPunches) {\n    ko.punches.enableAll();\n    ko.bindingHandlers.numericValue = {\n        init: function(element, valueAccessor, allBindings, data, context) {\n            var stringified = ko.observable(ko.unwrap(valueAccessor()));\n            stringified.subscribe(function(value) {\n                var val = parseFloat(value);\n                if (!isNaN(val)) {\n                    valueAccessor()(val);\n                }\n            });\n            valueAccessor().subscribe(function(value) {\n                var str = JSON.stringify(value);\n                if ((str == \"0\") && ([\"-0\", \"-0.\"].indexOf(stringified()) >= 0))\n                     return;\n                 if ([\"null\", \"\"].indexOf(str) >= 0)\n                     return;\n                stringified(str);\n            });\n            ko.applyBindingsToNode(\n                element,\n                {\n                    value: stringified,\n                    valueUpdate: allBindings.get('valueUpdate'),\n                },\n                context,\n            );\n        }\n    };\n    var json_data = {\"formatted_vals\":[\"0.1\",\"0.2\",\"0.3\",\"0.4\",\"0.5\",\"0.6\",\"0.7\",\"0.8\",\"0.9\",\"1.0\",\"1.1\",\"1.2\",\"1.3\",\"1.4\",\"1.5\",\"1.6\",\"1.7\",\"1.8\",\"1.9\",\"2.0\"],\"changes\":WebIO.getval({\"name\":\"changes\",\"scope\":\"11065932035451131021\",\"id\":\"14957185859192974513\",\"type\":\"observable\"}),\"index\":WebIO.getval({\"name\":\"index\",\"scope\":\"11065932035451131021\",\"id\":\"18159200459365049113\",\"type\":\"observable\"})};\n    var self = this;\n    function AppViewModel() {\n        for (var key in json_data) {\n            var el = json_data[key];\n            this[key] = Array.isArray(el) ? ko.observableArray(el) : ko.observable(el);\n        }\n        \n        [this[\"formatted_val\"]=ko.computed(    function(){\n        return this.formatted_vals()[parseInt(this.index())-(1)];\n    }\n,this)]\n        [this[\"changes\"].subscribe((function (val){!(this.valueFromJulia[\"changes\"]) ? (WebIO.setval({\"name\":\"changes\",\"scope\":\"11065932035451131021\",\"id\":\"14957185859192974513\",\"type\":\"observable\"},val)) : undefined; return this.valueFromJulia[\"changes\"]=false}),self),this[\"index\"].subscribe((function (val){!(this.valueFromJulia[\"index\"]) ? (WebIO.setval({\"name\":\"index\",\"scope\":\"11065932035451131021\",\"id\":\"18159200459365049113\",\"type\":\"observable\"},val)) : undefined; return this.valueFromJulia[\"index\"]=false}),self)]\n        \n    }\n    self.model = new AppViewModel();\n    self.valueFromJulia = {};\n    for (var key in json_data) {\n        self.valueFromJulia[key] = false;\n    }\n    ko.applyBindings(self.model, self.dom);\n}\n);\n    (WebIO.importBlock({\"data\":[{\"name\":\"knockout\",\"type\":\"js\",\"url\":\"/assetserver/727383f2a47bd31570b7da84eee7b022dd6d7c78-knockout.js\"},{\"name\":\"knockout_punches\",\"type\":\"js\",\"url\":\"/assetserver/382b41b3b1bd9f26f75861d360bad7f8beea211f-knockout_punches.js\"}],\"type\":\"async_block\"})).then((imports) => handler.apply(this, imports));\n}\n"
                ],
                "observables": {
                 "changes": {
                  "id": "14957185859192974513",
                  "sync": false,
                  "value": 0
                 },
                 "index": {
                  "id": "18159200459365049113",
                  "sync": true,
                  "value": 10
                 }
                },
                "systemjs_options": null
               },
               "nodeType": "Scope",
               "props": {},
               "type": "node"
              }
             ],
             "instanceArgs": {
              "namespace": "html",
              "tag": "div"
             },
             "nodeType": "DOM",
             "props": {
              "className": "field interact-widget"
             },
             "type": "node"
            },
            {
             "children": [],
             "instanceArgs": {
              "namespace": "html",
              "tag": "div"
             },
             "nodeType": "DOM",
             "props": {
              "style": {
               "display": "flex",
               "flex-direction": "column"
              }
             },
             "type": "node"
            },
            {
             "children": [
              {
               "children": [
                {
                 "children": [
                  {
                   "children": [
                    {
                     "children": [
                      {
                       "children": [
                        "min_dis"
                       ],
                       "instanceArgs": {
                        "namespace": "html",
                        "tag": "label"
                       },
                       "nodeType": "DOM",
                       "props": {
                        "className": "interact ",
                        "style": {
                         "padding": "5px 10px 0px 10px"
                        }
                       },
                       "type": "node"
                      }
                     ],
                     "instanceArgs": {
                      "namespace": "html",
                      "tag": "div"
                     },
                     "nodeType": "DOM",
                     "props": {
                      "className": "interact-flex-row-left"
                     },
                     "type": "node"
                    },
                    {
                     "children": [
                      {
                       "children": [],
                       "instanceArgs": {
                        "namespace": "html",
                        "tag": "input"
                       },
                       "nodeType": "DOM",
                       "props": {
                        "attributes": {
                         "data-bind": "numericValue: index, valueUpdate: 'input', event: {change: function (){this.changes(this.changes()+1)}}",
                         "orient": "horizontal",
                         "type": "range"
                        },
                        "className": "slider slider is-fullwidth",
                        "max": 10,
                        "min": 1,
                        "step": 1,
                        "style": {}
                       },
                       "type": "node"
                      }
                     ],
                     "instanceArgs": {
                      "namespace": "html",
                      "tag": "div"
                     },
                     "nodeType": "DOM",
                     "props": {
                      "className": "interact-flex-row-center"
                     },
                     "type": "node"
                    },
                    {
                     "children": [
                      {
                       "children": [],
                       "instanceArgs": {
                        "namespace": "html",
                        "tag": "p"
                       },
                       "nodeType": "DOM",
                       "props": {
                        "attributes": {
                         "data-bind": "text: formatted_val"
                        }
                       },
                       "type": "node"
                      }
                     ],
                     "instanceArgs": {
                      "namespace": "html",
                      "tag": "div"
                     },
                     "nodeType": "DOM",
                     "props": {
                      "className": "interact-flex-row-right"
                     },
                     "type": "node"
                    }
                   ],
                   "instanceArgs": {
                    "namespace": "html",
                    "tag": "div"
                   },
                   "nodeType": "DOM",
                   "props": {
                    "className": "interact-flex-row interact-widget"
                   },
                   "type": "node"
                  }
                 ],
                 "instanceArgs": {
                  "handlers": {
                   "changes": [
                    "(function (val){return (val!=this.model[\"changes\"]()) ? (this.valueFromJulia[\"changes\"]=true, this.model[\"changes\"](val)) : undefined})"
                   ],
                   "index": [
                    "(function (val){return (val!=this.model[\"index\"]()) ? (this.valueFromJulia[\"index\"]=true, this.model[\"index\"](val)) : undefined})"
                   ]
                  },
                  "id": "16092906342514422039",
                  "imports": {
                   "data": [
                    {
                     "name": "knockout",
                     "type": "js",
                     "url": "/assetserver/727383f2a47bd31570b7da84eee7b022dd6d7c78-knockout.js"
                    },
                    {
                     "name": "knockout_punches",
                     "type": "js",
                     "url": "/assetserver/382b41b3b1bd9f26f75861d360bad7f8beea211f-knockout_punches.js"
                    },
                    {
                     "name": null,
                     "type": "js",
                     "url": "/assetserver/5ab20f1060420992a9b82a65b735dee4d81ef413-all.js"
                    },
                    {
                     "name": null,
                     "type": "css",
                     "url": "/assetserver/1cc0ed62837210b80a182cc3676512f895dab686-style.css"
                    },
                    {
                     "name": null,
                     "type": "css",
                     "url": "/assetserver/2eee816f616df3549d7044d45e744fbf8d42bfa1-bulma_confined.min.css"
                    }
                   ],
                   "type": "async_block"
                  },
                  "mount_callbacks": [
                   "function () {\n    var handler = (function (ko, koPunches) {\n    ko.punches.enableAll();\n    ko.bindingHandlers.numericValue = {\n        init: function(element, valueAccessor, allBindings, data, context) {\n            var stringified = ko.observable(ko.unwrap(valueAccessor()));\n            stringified.subscribe(function(value) {\n                var val = parseFloat(value);\n                if (!isNaN(val)) {\n                    valueAccessor()(val);\n                }\n            });\n            valueAccessor().subscribe(function(value) {\n                var str = JSON.stringify(value);\n                if ((str == \"0\") && ([\"-0\", \"-0.\"].indexOf(stringified()) >= 0))\n                     return;\n                 if ([\"null\", \"\"].indexOf(str) >= 0)\n                     return;\n                stringified(str);\n            });\n            ko.applyBindingsToNode(\n                element,\n                {\n                    value: stringified,\n                    valueUpdate: allBindings.get('valueUpdate'),\n                },\n                context,\n            );\n        }\n    };\n    var json_data = {\"formatted_vals\":[\"0.01\",\"0.11\",\"0.21\",\"0.31\",\"0.41\",\"0.51\",\"0.61\",\"0.71\",\"0.81\",\"0.91\"],\"changes\":WebIO.getval({\"name\":\"changes\",\"scope\":\"16092906342514422039\",\"id\":\"5973295873103948995\",\"type\":\"observable\"}),\"index\":WebIO.getval({\"name\":\"index\",\"scope\":\"16092906342514422039\",\"id\":\"14709774809146268057\",\"type\":\"observable\"})};\n    var self = this;\n    function AppViewModel() {\n        for (var key in json_data) {\n            var el = json_data[key];\n            this[key] = Array.isArray(el) ? ko.observableArray(el) : ko.observable(el);\n        }\n        \n        [this[\"formatted_val\"]=ko.computed(    function(){\n        return this.formatted_vals()[parseInt(this.index())-(1)];\n    }\n,this)]\n        [this[\"changes\"].subscribe((function (val){!(this.valueFromJulia[\"changes\"]) ? (WebIO.setval({\"name\":\"changes\",\"scope\":\"16092906342514422039\",\"id\":\"5973295873103948995\",\"type\":\"observable\"},val)) : undefined; return this.valueFromJulia[\"changes\"]=false}),self),this[\"index\"].subscribe((function (val){!(this.valueFromJulia[\"index\"]) ? (WebIO.setval({\"name\":\"index\",\"scope\":\"16092906342514422039\",\"id\":\"14709774809146268057\",\"type\":\"observable\"},val)) : undefined; return this.valueFromJulia[\"index\"]=false}),self)]\n        \n    }\n    self.model = new AppViewModel();\n    self.valueFromJulia = {};\n    for (var key in json_data) {\n        self.valueFromJulia[key] = false;\n    }\n    ko.applyBindings(self.model, self.dom);\n}\n);\n    (WebIO.importBlock({\"data\":[{\"name\":\"knockout\",\"type\":\"js\",\"url\":\"/assetserver/727383f2a47bd31570b7da84eee7b022dd6d7c78-knockout.js\"},{\"name\":\"knockout_punches\",\"type\":\"js\",\"url\":\"/assetserver/382b41b3b1bd9f26f75861d360bad7f8beea211f-knockout_punches.js\"}],\"type\":\"async_block\"})).then((imports) => handler.apply(this, imports));\n}\n"
                  ],
                  "observables": {
                   "changes": {
                    "id": "5973295873103948995",
                    "sync": false,
                    "value": 0
                   },
                   "index": {
                    "id": "14709774809146268057",
                    "sync": true,
                    "value": 5
                   }
                  },
                  "systemjs_options": null
                 },
                 "nodeType": "Scope",
                 "props": {},
                 "type": "node"
                }
               ],
               "instanceArgs": {
                "namespace": "html",
                "tag": "div"
               },
               "nodeType": "DOM",
               "props": {
                "className": "field interact-widget"
               },
               "type": "node"
              },
              {
               "children": [
                {
                 "children": [
                  {
                   "children": [
                    {
                     "children": [
                      {
                       "children": [
                        "coh_fac"
                       ],
                       "instanceArgs": {
                        "namespace": "html",
                        "tag": "label"
                       },
                       "nodeType": "DOM",
                       "props": {
                        "className": "interact ",
                        "style": {
                         "padding": "5px 10px 0px 10px"
                        }
                       },
                       "type": "node"
                      }
                     ],
                     "instanceArgs": {
                      "namespace": "html",
                      "tag": "div"
                     },
                     "nodeType": "DOM",
                     "props": {
                      "className": "interact-flex-row-left"
                     },
                     "type": "node"
                    },
                    {
                     "children": [
                      {
                       "children": [],
                       "instanceArgs": {
                        "namespace": "html",
                        "tag": "input"
                       },
                       "nodeType": "DOM",
                       "props": {
                        "attributes": {
                         "data-bind": "numericValue: index, valueUpdate: 'input', event: {change: function (){this.changes(this.changes()+1)}}",
                         "orient": "horizontal",
                         "type": "range"
                        },
                        "className": "slider slider is-fullwidth",
                        "max": 100,
                        "min": 1,
                        "step": 1,
                        "style": {}
                       },
                       "type": "node"
                      }
                     ],
                     "instanceArgs": {
                      "namespace": "html",
                      "tag": "div"
                     },
                     "nodeType": "DOM",
                     "props": {
                      "className": "interact-flex-row-center"
                     },
                     "type": "node"
                    },
                    {
                     "children": [
                      {
                       "children": [],
                       "instanceArgs": {
                        "namespace": "html",
                        "tag": "p"
                       },
                       "nodeType": "DOM",
                       "props": {
                        "attributes": {
                         "data-bind": "text: formatted_val"
                        }
                       },
                       "type": "node"
                      }
                     ],
                     "instanceArgs": {
                      "namespace": "html",
                      "tag": "div"
                     },
                     "nodeType": "DOM",
                     "props": {
                      "className": "interact-flex-row-right"
                     },
                     "type": "node"
                    }
                   ],
                   "instanceArgs": {
                    "namespace": "html",
                    "tag": "div"
                   },
                   "nodeType": "DOM",
                   "props": {
                    "className": "interact-flex-row interact-widget"
                   },
                   "type": "node"
                  }
                 ],
                 "instanceArgs": {
                  "handlers": {
                   "changes": [
                    "(function (val){return (val!=this.model[\"changes\"]()) ? (this.valueFromJulia[\"changes\"]=true, this.model[\"changes\"](val)) : undefined})"
                   ],
                   "index": [
                    "(function (val){return (val!=this.model[\"index\"]()) ? (this.valueFromJulia[\"index\"]=true, this.model[\"index\"](val)) : undefined})"
                   ]
                  },
                  "id": "11821494977344306385",
                  "imports": {
                   "data": [
                    {
                     "name": "knockout",
                     "type": "js",
                     "url": "/assetserver/727383f2a47bd31570b7da84eee7b022dd6d7c78-knockout.js"
                    },
                    {
                     "name": "knockout_punches",
                     "type": "js",
                     "url": "/assetserver/382b41b3b1bd9f26f75861d360bad7f8beea211f-knockout_punches.js"
                    },
                    {
                     "name": null,
                     "type": "js",
                     "url": "/assetserver/5ab20f1060420992a9b82a65b735dee4d81ef413-all.js"
                    },
                    {
                     "name": null,
                     "type": "css",
                     "url": "/assetserver/1cc0ed62837210b80a182cc3676512f895dab686-style.css"
                    },
                    {
                     "name": null,
                     "type": "css",
                     "url": "/assetserver/2eee816f616df3549d7044d45e744fbf8d42bfa1-bulma_confined.min.css"
                    }
                   ],
                   "type": "async_block"
                  },
                  "mount_callbacks": [
                   "function () {\n    var handler = (function (ko, koPunches) {\n    ko.punches.enableAll();\n    ko.bindingHandlers.numericValue = {\n        init: function(element, valueAccessor, allBindings, data, context) {\n            var stringified = ko.observable(ko.unwrap(valueAccessor()));\n            stringified.subscribe(function(value) {\n                var val = parseFloat(value);\n                if (!isNaN(val)) {\n                    valueAccessor()(val);\n                }\n            });\n            valueAccessor().subscribe(function(value) {\n                var str = JSON.stringify(value);\n                if ((str == \"0\") && ([\"-0\", \"-0.\"].indexOf(stringified()) >= 0))\n                     return;\n                 if ([\"null\", \"\"].indexOf(str) >= 0)\n                     return;\n                stringified(str);\n            });\n            ko.applyBindingsToNode(\n                element,\n                {\n                    value: stringified,\n                    valueUpdate: allBindings.get('valueUpdate'),\n                },\n                context,\n            );\n        }\n    };\n    var json_data = {\"formatted_vals\":[\"0.01\",\"0.02\",\"0.03\",\"0.04\",\"0.05\",\"0.06\",\"0.07\",\"0.08\",\"0.09\",\"0.1\",\"0.11\",\"0.12\",\"0.13\",\"0.14\",\"0.15\",\"0.16\",\"0.17\",\"0.18\",\"0.19\",\"0.2\",\"0.21\",\"0.22\",\"0.23\",\"0.24\",\"0.25\",\"0.26\",\"0.27\",\"0.28\",\"0.29\",\"0.3\",\"0.31\",\"0.32\",\"0.33\",\"0.34\",\"0.35\",\"0.36\",\"0.37\",\"0.38\",\"0.39\",\"0.4\",\"0.41\",\"0.42\",\"0.43\",\"0.44\",\"0.45\",\"0.46\",\"0.47\",\"0.48\",\"0.49\",\"0.5\",\"0.51\",\"0.52\",\"0.53\",\"0.54\",\"0.55\",\"0.56\",\"0.57\",\"0.58\",\"0.59\",\"0.6\",\"0.61\",\"0.62\",\"0.63\",\"0.64\",\"0.65\",\"0.66\",\"0.67\",\"0.68\",\"0.69\",\"0.7\",\"0.71\",\"0.72\",\"0.73\",\"0.74\",\"0.75\",\"0.76\",\"0.77\",\"0.78\",\"0.79\",\"0.8\",\"0.81\",\"0.82\",\"0.83\",\"0.84\",\"0.85\",\"0.86\",\"0.87\",\"0.88\",\"0.89\",\"0.9\",\"0.91\",\"0.92\",\"0.93\",\"0.94\",\"0.95\",\"0.96\",\"0.97\",\"0.98\",\"0.99\",\"1.0\"],\"changes\":WebIO.getval({\"name\":\"changes\",\"scope\":\"11821494977344306385\",\"id\":\"465375543230608361\",\"type\":\"observable\"}),\"index\":WebIO.getval({\"name\":\"index\",\"scope\":\"11821494977344306385\",\"id\":\"1385667437532631077\",\"type\":\"observable\"})};\n    var self = this;\n    function AppViewModel() {\n        for (var key in json_data) {\n            var el = json_data[key];\n            this[key] = Array.isArray(el) ? ko.observableArray(el) : ko.observable(el);\n        }\n        \n        [this[\"formatted_val\"]=ko.computed(    function(){\n        return this.formatted_vals()[parseInt(this.index())-(1)];\n    }\n,this)]\n        [this[\"changes\"].subscribe((function (val){!(this.valueFromJulia[\"changes\"]) ? (WebIO.setval({\"name\":\"changes\",\"scope\":\"11821494977344306385\",\"id\":\"465375543230608361\",\"type\":\"observable\"},val)) : undefined; return this.valueFromJulia[\"changes\"]=false}),self),this[\"index\"].subscribe((function (val){!(this.valueFromJulia[\"index\"]) ? (WebIO.setval({\"name\":\"index\",\"scope\":\"11821494977344306385\",\"id\":\"1385667437532631077\",\"type\":\"observable\"},val)) : undefined; return this.valueFromJulia[\"index\"]=false}),self)]\n        \n    }\n    self.model = new AppViewModel();\n    self.valueFromJulia = {};\n    for (var key in json_data) {\n        self.valueFromJulia[key] = false;\n    }\n    ko.applyBindings(self.model, self.dom);\n}\n);\n    (WebIO.importBlock({\"data\":[{\"name\":\"knockout\",\"type\":\"js\",\"url\":\"/assetserver/727383f2a47bd31570b7da84eee7b022dd6d7c78-knockout.js\"},{\"name\":\"knockout_punches\",\"type\":\"js\",\"url\":\"/assetserver/382b41b3b1bd9f26f75861d360bad7f8beea211f-knockout_punches.js\"}],\"type\":\"async_block\"})).then((imports) => handler.apply(this, imports));\n}\n"
                  ],
                  "observables": {
                   "changes": {
                    "id": "465375543230608361",
                    "sync": false,
                    "value": 0
                   },
                   "index": {
                    "id": "1385667437532631077",
                    "sync": true,
                    "value": 50
                   }
                  },
                  "systemjs_options": null
                 },
                 "nodeType": "Scope",
                 "props": {},
                 "type": "node"
                }
               ],
               "instanceArgs": {
                "namespace": "html",
                "tag": "div"
               },
               "nodeType": "DOM",
               "props": {
                "className": "field interact-widget"
               },
               "type": "node"
              },
              {
               "children": [
                {
                 "children": [
                  {
                   "children": [
                    {
                     "children": [
                      {
                       "children": [
                        "sep_fac"
                       ],
                       "instanceArgs": {
                        "namespace": "html",
                        "tag": "label"
                       },
                       "nodeType": "DOM",
                       "props": {
                        "className": "interact ",
                        "style": {
                         "padding": "5px 10px 0px 10px"
                        }
                       },
                       "type": "node"
                      }
                     ],
                     "instanceArgs": {
                      "namespace": "html",
                      "tag": "div"
                     },
                     "nodeType": "DOM",
                     "props": {
                      "className": "interact-flex-row-left"
                     },
                     "type": "node"
                    },
                    {
                     "children": [
                      {
                       "children": [],
                       "instanceArgs": {
                        "namespace": "html",
                        "tag": "input"
                       },
                       "nodeType": "DOM",
                       "props": {
                        "attributes": {
                         "data-bind": "numericValue: index, valueUpdate: 'input', event: {change: function (){this.changes(this.changes()+1)}}",
                         "orient": "horizontal",
                         "type": "range"
                        },
                        "className": "slider slider is-fullwidth",
                        "max": 100,
                        "min": 1,
                        "step": 1,
                        "style": {}
                       },
                       "type": "node"
                      }
                     ],
                     "instanceArgs": {
                      "namespace": "html",
                      "tag": "div"
                     },
                     "nodeType": "DOM",
                     "props": {
                      "className": "interact-flex-row-center"
                     },
                     "type": "node"
                    },
                    {
                     "children": [
                      {
                       "children": [],
                       "instanceArgs": {
                        "namespace": "html",
                        "tag": "p"
                       },
                       "nodeType": "DOM",
                       "props": {
                        "attributes": {
                         "data-bind": "text: formatted_val"
                        }
                       },
                       "type": "node"
                      }
                     ],
                     "instanceArgs": {
                      "namespace": "html",
                      "tag": "div"
                     },
                     "nodeType": "DOM",
                     "props": {
                      "className": "interact-flex-row-right"
                     },
                     "type": "node"
                    }
                   ],
                   "instanceArgs": {
                    "namespace": "html",
                    "tag": "div"
                   },
                   "nodeType": "DOM",
                   "props": {
                    "className": "interact-flex-row interact-widget"
                   },
                   "type": "node"
                  }
                 ],
                 "instanceArgs": {
                  "handlers": {
                   "changes": [
                    "(function (val){return (val!=this.model[\"changes\"]()) ? (this.valueFromJulia[\"changes\"]=true, this.model[\"changes\"](val)) : undefined})"
                   ],
                   "index": [
                    "(function (val){return (val!=this.model[\"index\"]()) ? (this.valueFromJulia[\"index\"]=true, this.model[\"index\"](val)) : undefined})"
                   ]
                  },
                  "id": "8806194648704627601",
                  "imports": {
                   "data": [
                    {
                     "name": "knockout",
                     "type": "js",
                     "url": "/assetserver/727383f2a47bd31570b7da84eee7b022dd6d7c78-knockout.js"
                    },
                    {
                     "name": "knockout_punches",
                     "type": "js",
                     "url": "/assetserver/382b41b3b1bd9f26f75861d360bad7f8beea211f-knockout_punches.js"
                    },
                    {
                     "name": null,
                     "type": "js",
                     "url": "/assetserver/5ab20f1060420992a9b82a65b735dee4d81ef413-all.js"
                    },
                    {
                     "name": null,
                     "type": "css",
                     "url": "/assetserver/1cc0ed62837210b80a182cc3676512f895dab686-style.css"
                    },
                    {
                     "name": null,
                     "type": "css",
                     "url": "/assetserver/2eee816f616df3549d7044d45e744fbf8d42bfa1-bulma_confined.min.css"
                    }
                   ],
                   "type": "async_block"
                  },
                  "mount_callbacks": [
                   "function () {\n    var handler = (function (ko, koPunches) {\n    ko.punches.enableAll();\n    ko.bindingHandlers.numericValue = {\n        init: function(element, valueAccessor, allBindings, data, context) {\n            var stringified = ko.observable(ko.unwrap(valueAccessor()));\n            stringified.subscribe(function(value) {\n                var val = parseFloat(value);\n                if (!isNaN(val)) {\n                    valueAccessor()(val);\n                }\n            });\n            valueAccessor().subscribe(function(value) {\n                var str = JSON.stringify(value);\n                if ((str == \"0\") && ([\"-0\", \"-0.\"].indexOf(stringified()) >= 0))\n                     return;\n                 if ([\"null\", \"\"].indexOf(str) >= 0)\n                     return;\n                stringified(str);\n            });\n            ko.applyBindingsToNode(\n                element,\n                {\n                    value: stringified,\n                    valueUpdate: allBindings.get('valueUpdate'),\n                },\n                context,\n            );\n        }\n    };\n    var json_data = {\"formatted_vals\":[\"0.01\",\"0.02\",\"0.03\",\"0.04\",\"0.05\",\"0.06\",\"0.07\",\"0.08\",\"0.09\",\"0.1\",\"0.11\",\"0.12\",\"0.13\",\"0.14\",\"0.15\",\"0.16\",\"0.17\",\"0.18\",\"0.19\",\"0.2\",\"0.21\",\"0.22\",\"0.23\",\"0.24\",\"0.25\",\"0.26\",\"0.27\",\"0.28\",\"0.29\",\"0.3\",\"0.31\",\"0.32\",\"0.33\",\"0.34\",\"0.35\",\"0.36\",\"0.37\",\"0.38\",\"0.39\",\"0.4\",\"0.41\",\"0.42\",\"0.43\",\"0.44\",\"0.45\",\"0.46\",\"0.47\",\"0.48\",\"0.49\",\"0.5\",\"0.51\",\"0.52\",\"0.53\",\"0.54\",\"0.55\",\"0.56\",\"0.57\",\"0.58\",\"0.59\",\"0.6\",\"0.61\",\"0.62\",\"0.63\",\"0.64\",\"0.65\",\"0.66\",\"0.67\",\"0.68\",\"0.69\",\"0.7\",\"0.71\",\"0.72\",\"0.73\",\"0.74\",\"0.75\",\"0.76\",\"0.77\",\"0.78\",\"0.79\",\"0.8\",\"0.81\",\"0.82\",\"0.83\",\"0.84\",\"0.85\",\"0.86\",\"0.87\",\"0.88\",\"0.89\",\"0.9\",\"0.91\",\"0.92\",\"0.93\",\"0.94\",\"0.95\",\"0.96\",\"0.97\",\"0.98\",\"0.99\",\"1.0\"],\"changes\":WebIO.getval({\"name\":\"changes\",\"scope\":\"8806194648704627601\",\"id\":\"11939334350932512186\",\"type\":\"observable\"}),\"index\":WebIO.getval({\"name\":\"index\",\"scope\":\"8806194648704627601\",\"id\":\"8423217492201533364\",\"type\":\"observable\"})};\n    var self = this;\n    function AppViewModel() {\n        for (var key in json_data) {\n            var el = json_data[key];\n            this[key] = Array.isArray(el) ? ko.observableArray(el) : ko.observable(el);\n        }\n        \n        [this[\"formatted_val\"]=ko.computed(    function(){\n        return this.formatted_vals()[parseInt(this.index())-(1)];\n    }\n,this)]\n        [this[\"changes\"].subscribe((function (val){!(this.valueFromJulia[\"changes\"]) ? (WebIO.setval({\"name\":\"changes\",\"scope\":\"8806194648704627601\",\"id\":\"11939334350932512186\",\"type\":\"observable\"},val)) : undefined; return this.valueFromJulia[\"changes\"]=false}),self),this[\"index\"].subscribe((function (val){!(this.valueFromJulia[\"index\"]) ? (WebIO.setval({\"name\":\"index\",\"scope\":\"8806194648704627601\",\"id\":\"8423217492201533364\",\"type\":\"observable\"},val)) : undefined; return this.valueFromJulia[\"index\"]=false}),self)]\n        \n    }\n    self.model = new AppViewModel();\n    self.valueFromJulia = {};\n    for (var key in json_data) {\n        self.valueFromJulia[key] = false;\n    }\n    ko.applyBindings(self.model, self.dom);\n}\n);\n    (WebIO.importBlock({\"data\":[{\"name\":\"knockout\",\"type\":\"js\",\"url\":\"/assetserver/727383f2a47bd31570b7da84eee7b022dd6d7c78-knockout.js\"},{\"name\":\"knockout_punches\",\"type\":\"js\",\"url\":\"/assetserver/382b41b3b1bd9f26f75861d360bad7f8beea211f-knockout_punches.js\"}],\"type\":\"async_block\"})).then((imports) => handler.apply(this, imports));\n}\n"
                  ],
                  "observables": {
                   "changes": {
                    "id": "11939334350932512186",
                    "sync": false,
                    "value": 0
                   },
                   "index": {
                    "id": "8423217492201533364",
                    "sync": true,
                    "value": 50
                   }
                  },
                  "systemjs_options": null
                 },
                 "nodeType": "Scope",
                 "props": {},
                 "type": "node"
                }
               ],
               "instanceArgs": {
                "namespace": "html",
                "tag": "div"
               },
               "nodeType": "DOM",
               "props": {
                "className": "field interact-widget"
               },
               "type": "node"
              },
              {
               "children": [
                {
                 "children": [
                  {
                   "children": [
                    {
                     "children": [
                      {
                       "children": [
                        "aln_fac"
                       ],
                       "instanceArgs": {
                        "namespace": "html",
                        "tag": "label"
                       },
                       "nodeType": "DOM",
                       "props": {
                        "className": "interact ",
                        "style": {
                         "padding": "5px 10px 0px 10px"
                        }
                       },
                       "type": "node"
                      }
                     ],
                     "instanceArgs": {
                      "namespace": "html",
                      "tag": "div"
                     },
                     "nodeType": "DOM",
                     "props": {
                      "className": "interact-flex-row-left"
                     },
                     "type": "node"
                    },
                    {
                     "children": [
                      {
                       "children": [],
                       "instanceArgs": {
                        "namespace": "html",
                        "tag": "input"
                       },
                       "nodeType": "DOM",
                       "props": {
                        "attributes": {
                         "data-bind": "numericValue: index, valueUpdate: 'input', event: {change: function (){this.changes(this.changes()+1)}}",
                         "orient": "horizontal",
                         "type": "range"
                        },
                        "className": "slider slider is-fullwidth",
                        "max": 100,
                        "min": 1,
                        "step": 1,
                        "style": {}
                       },
                       "type": "node"
                      }
                     ],
                     "instanceArgs": {
                      "namespace": "html",
                      "tag": "div"
                     },
                     "nodeType": "DOM",
                     "props": {
                      "className": "interact-flex-row-center"
                     },
                     "type": "node"
                    },
                    {
                     "children": [
                      {
                       "children": [],
                       "instanceArgs": {
                        "namespace": "html",
                        "tag": "p"
                       },
                       "nodeType": "DOM",
                       "props": {
                        "attributes": {
                         "data-bind": "text: formatted_val"
                        }
                       },
                       "type": "node"
                      }
                     ],
                     "instanceArgs": {
                      "namespace": "html",
                      "tag": "div"
                     },
                     "nodeType": "DOM",
                     "props": {
                      "className": "interact-flex-row-right"
                     },
                     "type": "node"
                    }
                   ],
                   "instanceArgs": {
                    "namespace": "html",
                    "tag": "div"
                   },
                   "nodeType": "DOM",
                   "props": {
                    "className": "interact-flex-row interact-widget"
                   },
                   "type": "node"
                  }
                 ],
                 "instanceArgs": {
                  "handlers": {
                   "changes": [
                    "(function (val){return (val!=this.model[\"changes\"]()) ? (this.valueFromJulia[\"changes\"]=true, this.model[\"changes\"](val)) : undefined})"
                   ],
                   "index": [
                    "(function (val){return (val!=this.model[\"index\"]()) ? (this.valueFromJulia[\"index\"]=true, this.model[\"index\"](val)) : undefined})"
                   ]
                  },
                  "id": "15620187703232709577",
                  "imports": {
                   "data": [
                    {
                     "name": "knockout",
                     "type": "js",
                     "url": "/assetserver/727383f2a47bd31570b7da84eee7b022dd6d7c78-knockout.js"
                    },
                    {
                     "name": "knockout_punches",
                     "type": "js",
                     "url": "/assetserver/382b41b3b1bd9f26f75861d360bad7f8beea211f-knockout_punches.js"
                    },
                    {
                     "name": null,
                     "type": "js",
                     "url": "/assetserver/5ab20f1060420992a9b82a65b735dee4d81ef413-all.js"
                    },
                    {
                     "name": null,
                     "type": "css",
                     "url": "/assetserver/1cc0ed62837210b80a182cc3676512f895dab686-style.css"
                    },
                    {
                     "name": null,
                     "type": "css",
                     "url": "/assetserver/2eee816f616df3549d7044d45e744fbf8d42bfa1-bulma_confined.min.css"
                    }
                   ],
                   "type": "async_block"
                  },
                  "mount_callbacks": [
                   "function () {\n    var handler = (function (ko, koPunches) {\n    ko.punches.enableAll();\n    ko.bindingHandlers.numericValue = {\n        init: function(element, valueAccessor, allBindings, data, context) {\n            var stringified = ko.observable(ko.unwrap(valueAccessor()));\n            stringified.subscribe(function(value) {\n                var val = parseFloat(value);\n                if (!isNaN(val)) {\n                    valueAccessor()(val);\n                }\n            });\n            valueAccessor().subscribe(function(value) {\n                var str = JSON.stringify(value);\n                if ((str == \"0\") && ([\"-0\", \"-0.\"].indexOf(stringified()) >= 0))\n                     return;\n                 if ([\"null\", \"\"].indexOf(str) >= 0)\n                     return;\n                stringified(str);\n            });\n            ko.applyBindingsToNode(\n                element,\n                {\n                    value: stringified,\n                    valueUpdate: allBindings.get('valueUpdate'),\n                },\n                context,\n            );\n        }\n    };\n    var json_data = {\"formatted_vals\":[\"0.01\",\"0.02\",\"0.03\",\"0.04\",\"0.05\",\"0.06\",\"0.07\",\"0.08\",\"0.09\",\"0.1\",\"0.11\",\"0.12\",\"0.13\",\"0.14\",\"0.15\",\"0.16\",\"0.17\",\"0.18\",\"0.19\",\"0.2\",\"0.21\",\"0.22\",\"0.23\",\"0.24\",\"0.25\",\"0.26\",\"0.27\",\"0.28\",\"0.29\",\"0.3\",\"0.31\",\"0.32\",\"0.33\",\"0.34\",\"0.35\",\"0.36\",\"0.37\",\"0.38\",\"0.39\",\"0.4\",\"0.41\",\"0.42\",\"0.43\",\"0.44\",\"0.45\",\"0.46\",\"0.47\",\"0.48\",\"0.49\",\"0.5\",\"0.51\",\"0.52\",\"0.53\",\"0.54\",\"0.55\",\"0.56\",\"0.57\",\"0.58\",\"0.59\",\"0.6\",\"0.61\",\"0.62\",\"0.63\",\"0.64\",\"0.65\",\"0.66\",\"0.67\",\"0.68\",\"0.69\",\"0.7\",\"0.71\",\"0.72\",\"0.73\",\"0.74\",\"0.75\",\"0.76\",\"0.77\",\"0.78\",\"0.79\",\"0.8\",\"0.81\",\"0.82\",\"0.83\",\"0.84\",\"0.85\",\"0.86\",\"0.87\",\"0.88\",\"0.89\",\"0.9\",\"0.91\",\"0.92\",\"0.93\",\"0.94\",\"0.95\",\"0.96\",\"0.97\",\"0.98\",\"0.99\",\"1.0\"],\"changes\":WebIO.getval({\"name\":\"changes\",\"scope\":\"15620187703232709577\",\"id\":\"6791534094706814421\",\"type\":\"observable\"}),\"index\":WebIO.getval({\"name\":\"index\",\"scope\":\"15620187703232709577\",\"id\":\"11299876624349391014\",\"type\":\"observable\"})};\n    var self = this;\n    function AppViewModel() {\n        for (var key in json_data) {\n            var el = json_data[key];\n            this[key] = Array.isArray(el) ? ko.observableArray(el) : ko.observable(el);\n        }\n        \n        [this[\"formatted_val\"]=ko.computed(    function(){\n        return this.formatted_vals()[parseInt(this.index())-(1)];\n    }\n,this)]\n        [this[\"changes\"].subscribe((function (val){!(this.valueFromJulia[\"changes\"]) ? (WebIO.setval({\"name\":\"changes\",\"scope\":\"15620187703232709577\",\"id\":\"6791534094706814421\",\"type\":\"observable\"},val)) : undefined; return this.valueFromJulia[\"changes\"]=false}),self),this[\"index\"].subscribe((function (val){!(this.valueFromJulia[\"index\"]) ? (WebIO.setval({\"name\":\"index\",\"scope\":\"15620187703232709577\",\"id\":\"11299876624349391014\",\"type\":\"observable\"},val)) : undefined; return this.valueFromJulia[\"index\"]=false}),self)]\n        \n    }\n    self.model = new AppViewModel();\n    self.valueFromJulia = {};\n    for (var key in json_data) {\n        self.valueFromJulia[key] = false;\n    }\n    ko.applyBindings(self.model, self.dom);\n}\n);\n    (WebIO.importBlock({\"data\":[{\"name\":\"knockout\",\"type\":\"js\",\"url\":\"/assetserver/727383f2a47bd31570b7da84eee7b022dd6d7c78-knockout.js\"},{\"name\":\"knockout_punches\",\"type\":\"js\",\"url\":\"/assetserver/382b41b3b1bd9f26f75861d360bad7f8beea211f-knockout_punches.js\"}],\"type\":\"async_block\"})).then((imports) => handler.apply(this, imports));\n}\n"
                  ],
                  "observables": {
                   "changes": {
                    "id": "6791534094706814421",
                    "sync": false,
                    "value": 0
                   },
                   "index": {
                    "id": "11299876624349391014",
                    "sync": true,
                    "value": 50
                   }
                  },
                  "systemjs_options": null
                 },
                 "nodeType": "Scope",
                 "props": {},
                 "type": "node"
                }
               ],
               "instanceArgs": {
                "namespace": "html",
                "tag": "div"
               },
               "nodeType": "DOM",
               "props": {
                "className": "field interact-widget"
               },
               "type": "node"
              },
              {
               "children": [
                {
                 "children": [
                  {
                   "children": [
                    {
                     "children": [
                      {
                       "children": [
                        "vis_range"
                       ],
                       "instanceArgs": {
                        "namespace": "html",
                        "tag": "label"
                       },
                       "nodeType": "DOM",
                       "props": {
                        "className": "interact ",
                        "style": {
                         "padding": "5px 10px 0px 10px"
                        }
                       },
                       "type": "node"
                      }
                     ],
                     "instanceArgs": {
                      "namespace": "html",
                      "tag": "div"
                     },
                     "nodeType": "DOM",
                     "props": {
                      "className": "interact-flex-row-left"
                     },
                     "type": "node"
                    },
                    {
                     "children": [
                      {
                       "children": [],
                       "instanceArgs": {
                        "namespace": "html",
                        "tag": "input"
                       },
                       "nodeType": "DOM",
                       "props": {
                        "attributes": {
                         "data-bind": "numericValue: index, valueUpdate: 'input', event: {change: function (){this.changes(this.changes()+1)}}",
                         "orient": "horizontal",
                         "type": "range"
                        },
                        "className": "slider slider is-fullwidth",
                        "max": 8,
                        "min": 1,
                        "step": 1,
                        "style": {}
                       },
                       "type": "node"
                      }
                     ],
                     "instanceArgs": {
                      "namespace": "html",
                      "tag": "div"
                     },
                     "nodeType": "DOM",
                     "props": {
                      "className": "interact-flex-row-center"
                     },
                     "type": "node"
                    },
                    {
                     "children": [
                      {
                       "children": [],
                       "instanceArgs": {
                        "namespace": "html",
                        "tag": "p"
                       },
                       "nodeType": "DOM",
                       "props": {
                        "attributes": {
                         "data-bind": "text: formatted_val"
                        }
                       },
                       "type": "node"
                      }
                     ],
                     "instanceArgs": {
                      "namespace": "html",
                      "tag": "div"
                     },
                     "nodeType": "DOM",
                     "props": {
                      "className": "interact-flex-row-right"
                     },
                     "type": "node"
                    }
                   ],
                   "instanceArgs": {
                    "namespace": "html",
                    "tag": "div"
                   },
                   "nodeType": "DOM",
                   "props": {
                    "className": "interact-flex-row interact-widget"
                   },
                   "type": "node"
                  }
                 ],
                 "instanceArgs": {
                  "handlers": {
                   "changes": [
                    "(function (val){return (val!=this.model[\"changes\"]()) ? (this.valueFromJulia[\"changes\"]=true, this.model[\"changes\"](val)) : undefined})"
                   ],
                   "index": [
                    "(function (val){return (val!=this.model[\"index\"]()) ? (this.valueFromJulia[\"index\"]=true, this.model[\"index\"](val)) : undefined})"
                   ]
                  },
                  "id": "5727157722622112275",
                  "imports": {
                   "data": [
                    {
                     "name": "knockout",
                     "type": "js",
                     "url": "/assetserver/727383f2a47bd31570b7da84eee7b022dd6d7c78-knockout.js"
                    },
                    {
                     "name": "knockout_punches",
                     "type": "js",
                     "url": "/assetserver/382b41b3b1bd9f26f75861d360bad7f8beea211f-knockout_punches.js"
                    },
                    {
                     "name": null,
                     "type": "js",
                     "url": "/assetserver/5ab20f1060420992a9b82a65b735dee4d81ef413-all.js"
                    },
                    {
                     "name": null,
                     "type": "css",
                     "url": "/assetserver/1cc0ed62837210b80a182cc3676512f895dab686-style.css"
                    },
                    {
                     "name": null,
                     "type": "css",
                     "url": "/assetserver/2eee816f616df3549d7044d45e744fbf8d42bfa1-bulma_confined.min.css"
                    }
                   ],
                   "type": "async_block"
                  },
                  "mount_callbacks": [
                   "function () {\n    var handler = (function (ko, koPunches) {\n    ko.punches.enableAll();\n    ko.bindingHandlers.numericValue = {\n        init: function(element, valueAccessor, allBindings, data, context) {\n            var stringified = ko.observable(ko.unwrap(valueAccessor()));\n            stringified.subscribe(function(value) {\n                var val = parseFloat(value);\n                if (!isNaN(val)) {\n                    valueAccessor()(val);\n                }\n            });\n            valueAccessor().subscribe(function(value) {\n                var str = JSON.stringify(value);\n                if ((str == \"0\") && ([\"-0\", \"-0.\"].indexOf(stringified()) >= 0))\n                     return;\n                 if ([\"null\", \"\"].indexOf(str) >= 0)\n                     return;\n                stringified(str);\n            });\n            ko.applyBindingsToNode(\n                element,\n                {\n                    value: stringified,\n                    valueUpdate: allBindings.get('valueUpdate'),\n                },\n                context,\n            );\n        }\n    };\n    var json_data = {\"formatted_vals\":[\"0.5\",\"1.0\",\"1.5\",\"2.0\",\"2.5\",\"3.0\",\"3.5\",\"4.0\"],\"changes\":WebIO.getval({\"name\":\"changes\",\"scope\":\"5727157722622112275\",\"id\":\"2710500322555720038\",\"type\":\"observable\"}),\"index\":WebIO.getval({\"name\":\"index\",\"scope\":\"5727157722622112275\",\"id\":\"18025414279764049335\",\"type\":\"observable\"})};\n    var self = this;\n    function AppViewModel() {\n        for (var key in json_data) {\n            var el = json_data[key];\n            this[key] = Array.isArray(el) ? ko.observableArray(el) : ko.observable(el);\n        }\n        \n        [this[\"formatted_val\"]=ko.computed(    function(){\n        return this.formatted_vals()[parseInt(this.index())-(1)];\n    }\n,this)]\n        [this[\"changes\"].subscribe((function (val){!(this.valueFromJulia[\"changes\"]) ? (WebIO.setval({\"name\":\"changes\",\"scope\":\"5727157722622112275\",\"id\":\"2710500322555720038\",\"type\":\"observable\"},val)) : undefined; return this.valueFromJulia[\"changes\"]=false}),self),this[\"index\"].subscribe((function (val){!(this.valueFromJulia[\"index\"]) ? (WebIO.setval({\"name\":\"index\",\"scope\":\"5727157722622112275\",\"id\":\"18025414279764049335\",\"type\":\"observable\"},val)) : undefined; return this.valueFromJulia[\"index\"]=false}),self)]\n        \n    }\n    self.model = new AppViewModel();\n    self.valueFromJulia = {};\n    for (var key in json_data) {\n        self.valueFromJulia[key] = false;\n    }\n    ko.applyBindings(self.model, self.dom);\n}\n);\n    (WebIO.importBlock({\"data\":[{\"name\":\"knockout\",\"type\":\"js\",\"url\":\"/assetserver/727383f2a47bd31570b7da84eee7b022dd6d7c78-knockout.js\"},{\"name\":\"knockout_punches\",\"type\":\"js\",\"url\":\"/assetserver/382b41b3b1bd9f26f75861d360bad7f8beea211f-knockout_punches.js\"}],\"type\":\"async_block\"})).then((imports) => handler.apply(this, imports));\n}\n"
                  ],
                  "observables": {
                   "changes": {
                    "id": "2710500322555720038",
                    "sync": false,
                    "value": 0
                   },
                   "index": {
                    "id": "18025414279764049335",
                    "sync": true,
                    "value": 4
                   }
                  },
                  "systemjs_options": null
                 },
                 "nodeType": "Scope",
                 "props": {},
                 "type": "node"
                }
               ],
               "instanceArgs": {
                "namespace": "html",
                "tag": "div"
               },
               "nodeType": "DOM",
               "props": {
                "className": "field interact-widget"
               },
               "type": "node"
              }
             ],
             "instanceArgs": {
              "namespace": "html",
              "tag": "div"
             },
             "nodeType": "DOM",
             "props": {
              "style": {
               "display": "flex",
               "flex-direction": "column"
              }
             },
             "type": "node"
            },
            {
             "children": [
              {
               "children": [
                {
                 "children": [
                  {
                   "children": [],
                   "instanceArgs": {
                    "namespace": "html",
                    "tag": "div"
                   },
                   "nodeType": "DOM",
                   "props": {
                    "id": "container"
                   },
                   "type": "node"
                  }
                 ],
                 "instanceArgs": {
                  "handlers": {
                   "value": [
                    "(function (txt){return this.k.render(txt,this.container)})"
                   ]
                  },
                  "id": "9700365098135097054",
                  "imports": {
                   "data": [
                    {
                     "name": null,
                     "type": "js",
                     "url": "/assetserver/dd22ed1bf1896c2748f3fe616ce0b838adc895c1-katex.min.js"
                    },
                    {
                     "name": null,
                     "type": "css",
                     "url": "/assetserver/46517a424aa5e6cffc1360d7e0848b601c584ee3-katex.min.css"
                    }
                   ],
                   "type": "async_block"
                  },
                  "mount_callbacks": [
                   "function () {\n    var handler = ((function (k){this.k=k; this.container=this.dom.querySelector(\"#container\"); return k.render(\"\\\\;\\\\;\",this.container)}));\n    (WebIO.importBlock({\"data\":[{\"name\":null,\"type\":\"js\",\"url\":\"/assetserver/dd22ed1bf1896c2748f3fe616ce0b838adc895c1-katex.min.js\"},{\"name\":null,\"type\":\"css\",\"url\":\"/assetserver/46517a424aa5e6cffc1360d7e0848b601c584ee3-katex.min.css\"}],\"type\":\"async_block\"})).then((imports) => handler.apply(this, imports));\n}\n"
                  ],
                  "observables": {
                   "value": {
                    "id": "16433599212151716876",
                    "sync": false,
                    "value": "\\;\\;"
                   }
                  },
                  "systemjs_options": null
                 },
                 "nodeType": "Scope",
                 "props": {},
                 "type": "node"
                }
               ],
               "instanceArgs": {
                "namespace": "html",
                "tag": "div"
               },
               "nodeType": "DOM",
               "props": {
                "className": "interact-widget"
               },
               "type": "node"
              },
              {
               "children": [
                {
                 "children": [
                  {
                   "children": [
                    "run"
                   ],
                   "instanceArgs": {
                    "namespace": "html",
                    "tag": "button"
                   },
                   "nodeType": "DOM",
                   "props": {
                    "attributes": {
                     "data-bind": "click: function (){this.clicks(this.clicks()+1)}, css: {'is-loading' : loading}"
                    },
                    "className": "is-medium button is-primary",
                    "style": {}
                   },
                   "type": "node"
                  }
                 ],
                 "instanceArgs": {
                  "handlers": {
                   "clicks": [
                    "(function (val){return (val!=this.model[\"clicks\"]()) ? (this.valueFromJulia[\"clicks\"]=true, this.model[\"clicks\"](val)) : undefined})"
                   ],
                   "loading": [
                    "(function (val){return (val!=this.model[\"loading\"]()) ? (this.valueFromJulia[\"loading\"]=true, this.model[\"loading\"](val)) : undefined})"
                   ]
                  },
                  "id": "104575052379607652",
                  "imports": {
                   "data": [
                    {
                     "name": "knockout",
                     "type": "js",
                     "url": "/assetserver/727383f2a47bd31570b7da84eee7b022dd6d7c78-knockout.js"
                    },
                    {
                     "name": "knockout_punches",
                     "type": "js",
                     "url": "/assetserver/382b41b3b1bd9f26f75861d360bad7f8beea211f-knockout_punches.js"
                    },
                    {
                     "name": null,
                     "type": "js",
                     "url": "/assetserver/5ab20f1060420992a9b82a65b735dee4d81ef413-all.js"
                    },
                    {
                     "name": null,
                     "type": "css",
                     "url": "/assetserver/1cc0ed62837210b80a182cc3676512f895dab686-style.css"
                    },
                    {
                     "name": null,
                     "type": "css",
                     "url": "/assetserver/2eee816f616df3549d7044d45e744fbf8d42bfa1-bulma_confined.min.css"
                    }
                   ],
                   "type": "async_block"
                  },
                  "mount_callbacks": [
                   "function () {\n    var handler = (function (ko, koPunches) {\n    ko.punches.enableAll();\n    ko.bindingHandlers.numericValue = {\n        init: function(element, valueAccessor, allBindings, data, context) {\n            var stringified = ko.observable(ko.unwrap(valueAccessor()));\n            stringified.subscribe(function(value) {\n                var val = parseFloat(value);\n                if (!isNaN(val)) {\n                    valueAccessor()(val);\n                }\n            });\n            valueAccessor().subscribe(function(value) {\n                var str = JSON.stringify(value);\n                if ((str == \"0\") && ([\"-0\", \"-0.\"].indexOf(stringified()) >= 0))\n                     return;\n                 if ([\"null\", \"\"].indexOf(str) >= 0)\n                     return;\n                stringified(str);\n            });\n            ko.applyBindingsToNode(\n                element,\n                {\n                    value: stringified,\n                    valueUpdate: allBindings.get('valueUpdate'),\n                },\n                context,\n            );\n        }\n    };\n    var json_data = {\"loading\":WebIO.getval({\"name\":\"loading\",\"scope\":\"104575052379607652\",\"id\":\"2656642325260673391\",\"type\":\"observable\"}),\"clicks\":WebIO.getval({\"name\":\"clicks\",\"scope\":\"104575052379607652\",\"id\":\"6660975126867287608\",\"type\":\"observable\"})};\n    var self = this;\n    function AppViewModel() {\n        for (var key in json_data) {\n            var el = json_data[key];\n            this[key] = Array.isArray(el) ? ko.observableArray(el) : ko.observable(el);\n        }\n        \n        \n        [this[\"loading\"].subscribe((function (val){!(this.valueFromJulia[\"loading\"]) ? (WebIO.setval({\"name\":\"loading\",\"scope\":\"104575052379607652\",\"id\":\"2656642325260673391\",\"type\":\"observable\"},val)) : undefined; return this.valueFromJulia[\"loading\"]=false}),self),this[\"clicks\"].subscribe((function (val){!(this.valueFromJulia[\"clicks\"]) ? (WebIO.setval({\"name\":\"clicks\",\"scope\":\"104575052379607652\",\"id\":\"6660975126867287608\",\"type\":\"observable\"},val)) : undefined; return this.valueFromJulia[\"clicks\"]=false}),self)]\n        \n    }\n    self.model = new AppViewModel();\n    self.valueFromJulia = {};\n    for (var key in json_data) {\n        self.valueFromJulia[key] = false;\n    }\n    ko.applyBindings(self.model, self.dom);\n}\n);\n    (WebIO.importBlock({\"data\":[{\"name\":\"knockout\",\"type\":\"js\",\"url\":\"/assetserver/727383f2a47bd31570b7da84eee7b022dd6d7c78-knockout.js\"},{\"name\":\"knockout_punches\",\"type\":\"js\",\"url\":\"/assetserver/382b41b3b1bd9f26f75861d360bad7f8beea211f-knockout_punches.js\"}],\"type\":\"async_block\"})).then((imports) => handler.apply(this, imports));\n}\n"
                  ],
                  "observables": {
                   "clicks": {
                    "id": "6660975126867287608",
                    "sync": true,
                    "value": 0
                   },
                   "loading": {
                    "id": "2656642325260673391",
                    "sync": false,
                    "value": false
                   }
                  },
                  "systemjs_options": null
                 },
                 "nodeType": "Scope",
                 "props": {},
                 "type": "node"
                }
               ],
               "instanceArgs": {
                "namespace": "html",
                "tag": "div"
               },
               "nodeType": "DOM",
               "props": {
                "className": "field interact-widget"
               },
               "type": "node"
              },
              {
               "children": [
                {
                 "children": [
                  {
                   "children": [],
                   "instanceArgs": {
                    "namespace": "html",
                    "tag": "div"
                   },
                   "nodeType": "DOM",
                   "props": {
                    "id": "container"
                   },
                   "type": "node"
                  }
                 ],
                 "instanceArgs": {
                  "handlers": {
                   "value": [
                    "(function (txt){return this.k.render(txt,this.container)})"
                   ]
                  },
                  "id": "9700365098135097054",
                  "imports": {
                   "data": [
                    {
                     "name": null,
                     "type": "js",
                     "url": "/assetserver/dd22ed1bf1896c2748f3fe616ce0b838adc895c1-katex.min.js"
                    },
                    {
                     "name": null,
                     "type": "css",
                     "url": "/assetserver/46517a424aa5e6cffc1360d7e0848b601c584ee3-katex.min.css"
                    }
                   ],
                   "type": "async_block"
                  },
                  "mount_callbacks": [
                   "function () {\n    var handler = ((function (k){this.k=k; this.container=this.dom.querySelector(\"#container\"); return k.render(\"\\\\;\\\\;\",this.container)}));\n    (WebIO.importBlock({\"data\":[{\"name\":null,\"type\":\"js\",\"url\":\"/assetserver/dd22ed1bf1896c2748f3fe616ce0b838adc895c1-katex.min.js\"},{\"name\":null,\"type\":\"css\",\"url\":\"/assetserver/46517a424aa5e6cffc1360d7e0848b601c584ee3-katex.min.css\"}],\"type\":\"async_block\"})).then((imports) => handler.apply(this, imports));\n}\n"
                  ],
                  "observables": {
                   "value": {
                    "id": "16433599212151716876",
                    "sync": false,
                    "value": "\\;\\;"
                   }
                  },
                  "systemjs_options": null
                 },
                 "nodeType": "Scope",
                 "props": {},
                 "type": "node"
                }
               ],
               "instanceArgs": {
                "namespace": "html",
                "tag": "div"
               },
               "nodeType": "DOM",
               "props": {
                "className": "interact-widget"
               },
               "type": "node"
              },
              {
               "children": [
                {
                 "children": [
                  {
                   "children": [
                    "stop"
                   ],
                   "instanceArgs": {
                    "namespace": "html",
                    "tag": "button"
                   },
                   "nodeType": "DOM",
                   "props": {
                    "attributes": {
                     "data-bind": "click: function (){this.clicks(this.clicks()+1)}, css: {'is-loading' : loading}"
                    },
                    "className": "is-medium button is-primary",
                    "style": {}
                   },
                   "type": "node"
                  }
                 ],
                 "instanceArgs": {
                  "handlers": {
                   "clicks": [
                    "(function (val){return (val!=this.model[\"clicks\"]()) ? (this.valueFromJulia[\"clicks\"]=true, this.model[\"clicks\"](val)) : undefined})"
                   ],
                   "loading": [
                    "(function (val){return (val!=this.model[\"loading\"]()) ? (this.valueFromJulia[\"loading\"]=true, this.model[\"loading\"](val)) : undefined})"
                   ]
                  },
                  "id": "6535443668725384033",
                  "imports": {
                   "data": [
                    {
                     "name": "knockout",
                     "type": "js",
                     "url": "/assetserver/727383f2a47bd31570b7da84eee7b022dd6d7c78-knockout.js"
                    },
                    {
                     "name": "knockout_punches",
                     "type": "js",
                     "url": "/assetserver/382b41b3b1bd9f26f75861d360bad7f8beea211f-knockout_punches.js"
                    },
                    {
                     "name": null,
                     "type": "js",
                     "url": "/assetserver/5ab20f1060420992a9b82a65b735dee4d81ef413-all.js"
                    },
                    {
                     "name": null,
                     "type": "css",
                     "url": "/assetserver/1cc0ed62837210b80a182cc3676512f895dab686-style.css"
                    },
                    {
                     "name": null,
                     "type": "css",
                     "url": "/assetserver/2eee816f616df3549d7044d45e744fbf8d42bfa1-bulma_confined.min.css"
                    }
                   ],
                   "type": "async_block"
                  },
                  "mount_callbacks": [
                   "function () {\n    var handler = (function (ko, koPunches) {\n    ko.punches.enableAll();\n    ko.bindingHandlers.numericValue = {\n        init: function(element, valueAccessor, allBindings, data, context) {\n            var stringified = ko.observable(ko.unwrap(valueAccessor()));\n            stringified.subscribe(function(value) {\n                var val = parseFloat(value);\n                if (!isNaN(val)) {\n                    valueAccessor()(val);\n                }\n            });\n            valueAccessor().subscribe(function(value) {\n                var str = JSON.stringify(value);\n                if ((str == \"0\") && ([\"-0\", \"-0.\"].indexOf(stringified()) >= 0))\n                     return;\n                 if ([\"null\", \"\"].indexOf(str) >= 0)\n                     return;\n                stringified(str);\n            });\n            ko.applyBindingsToNode(\n                element,\n                {\n                    value: stringified,\n                    valueUpdate: allBindings.get('valueUpdate'),\n                },\n                context,\n            );\n        }\n    };\n    var json_data = {\"loading\":WebIO.getval({\"name\":\"loading\",\"scope\":\"6535443668725384033\",\"id\":\"15832586933691060080\",\"type\":\"observable\"}),\"clicks\":WebIO.getval({\"name\":\"clicks\",\"scope\":\"6535443668725384033\",\"id\":\"10160481873889505828\",\"type\":\"observable\"})};\n    var self = this;\n    function AppViewModel() {\n        for (var key in json_data) {\n            var el = json_data[key];\n            this[key] = Array.isArray(el) ? ko.observableArray(el) : ko.observable(el);\n        }\n        \n        \n        [this[\"loading\"].subscribe((function (val){!(this.valueFromJulia[\"loading\"]) ? (WebIO.setval({\"name\":\"loading\",\"scope\":\"6535443668725384033\",\"id\":\"15832586933691060080\",\"type\":\"observable\"},val)) : undefined; return this.valueFromJulia[\"loading\"]=false}),self),this[\"clicks\"].subscribe((function (val){!(this.valueFromJulia[\"clicks\"]) ? (WebIO.setval({\"name\":\"clicks\",\"scope\":\"6535443668725384033\",\"id\":\"10160481873889505828\",\"type\":\"observable\"},val)) : undefined; return this.valueFromJulia[\"clicks\"]=false}),self)]\n        \n    }\n    self.model = new AppViewModel();\n    self.valueFromJulia = {};\n    for (var key in json_data) {\n        self.valueFromJulia[key] = false;\n    }\n    ko.applyBindings(self.model, self.dom);\n}\n);\n    (WebIO.importBlock({\"data\":[{\"name\":\"knockout\",\"type\":\"js\",\"url\":\"/assetserver/727383f2a47bd31570b7da84eee7b022dd6d7c78-knockout.js\"},{\"name\":\"knockout_punches\",\"type\":\"js\",\"url\":\"/assetserver/382b41b3b1bd9f26f75861d360bad7f8beea211f-knockout_punches.js\"}],\"type\":\"async_block\"})).then((imports) => handler.apply(this, imports));\n}\n"
                  ],
                  "observables": {
                   "clicks": {
                    "id": "10160481873889505828",
                    "sync": true,
                    "value": 0
                   },
                   "loading": {
                    "id": "15832586933691060080",
                    "sync": false,
                    "value": false
                   }
                  },
                  "systemjs_options": null
                 },
                 "nodeType": "Scope",
                 "props": {},
                 "type": "node"
                }
               ],
               "instanceArgs": {
                "namespace": "html",
                "tag": "div"
               },
               "nodeType": "DOM",
               "props": {
                "className": "field interact-widget"
               },
               "type": "node"
              },
              {
               "children": [
                {
                 "children": [
                  {
                   "children": [],
                   "instanceArgs": {
                    "namespace": "html",
                    "tag": "div"
                   },
                   "nodeType": "DOM",
                   "props": {
                    "id": "container"
                   },
                   "type": "node"
                  }
                 ],
                 "instanceArgs": {
                  "handlers": {
                   "value": [
                    "(function (txt){return this.k.render(txt,this.container)})"
                   ]
                  },
                  "id": "9700365098135097054",
                  "imports": {
                   "data": [
                    {
                     "name": null,
                     "type": "js",
                     "url": "/assetserver/dd22ed1bf1896c2748f3fe616ce0b838adc895c1-katex.min.js"
                    },
                    {
                     "name": null,
                     "type": "css",
                     "url": "/assetserver/46517a424aa5e6cffc1360d7e0848b601c584ee3-katex.min.css"
                    }
                   ],
                   "type": "async_block"
                  },
                  "mount_callbacks": [
                   "function () {\n    var handler = ((function (k){this.k=k; this.container=this.dom.querySelector(\"#container\"); return k.render(\"\\\\;\\\\;\",this.container)}));\n    (WebIO.importBlock({\"data\":[{\"name\":null,\"type\":\"js\",\"url\":\"/assetserver/dd22ed1bf1896c2748f3fe616ce0b838adc895c1-katex.min.js\"},{\"name\":null,\"type\":\"css\",\"url\":\"/assetserver/46517a424aa5e6cffc1360d7e0848b601c584ee3-katex.min.css\"}],\"type\":\"async_block\"})).then((imports) => handler.apply(this, imports));\n}\n"
                  ],
                  "observables": {
                   "value": {
                    "id": "16433599212151716876",
                    "sync": false,
                    "value": "\\;\\;"
                   }
                  },
                  "systemjs_options": null
                 },
                 "nodeType": "Scope",
                 "props": {},
                 "type": "node"
                }
               ],
               "instanceArgs": {
                "namespace": "html",
                "tag": "div"
               },
               "nodeType": "DOM",
               "props": {
                "className": "interact-widget"
               },
               "type": "node"
              },
              {
               "children": [
                {
                 "children": [
                  {
                   "children": [
                    "reset"
                   ],
                   "instanceArgs": {
                    "namespace": "html",
                    "tag": "button"
                   },
                   "nodeType": "DOM",
                   "props": {
                    "attributes": {
                     "data-bind": "click: function (){this.clicks(this.clicks()+1)}, css: {'is-loading' : loading}"
                    },
                    "className": "is-medium button is-primary",
                    "style": {}
                   },
                   "type": "node"
                  }
                 ],
                 "instanceArgs": {
                  "handlers": {
                   "clicks": [
                    "(function (val){return (val!=this.model[\"clicks\"]()) ? (this.valueFromJulia[\"clicks\"]=true, this.model[\"clicks\"](val)) : undefined})"
                   ],
                   "loading": [
                    "(function (val){return (val!=this.model[\"loading\"]()) ? (this.valueFromJulia[\"loading\"]=true, this.model[\"loading\"](val)) : undefined})"
                   ]
                  },
                  "id": "6483877982107905809",
                  "imports": {
                   "data": [
                    {
                     "name": "knockout",
                     "type": "js",
                     "url": "/assetserver/727383f2a47bd31570b7da84eee7b022dd6d7c78-knockout.js"
                    },
                    {
                     "name": "knockout_punches",
                     "type": "js",
                     "url": "/assetserver/382b41b3b1bd9f26f75861d360bad7f8beea211f-knockout_punches.js"
                    },
                    {
                     "name": null,
                     "type": "js",
                     "url": "/assetserver/5ab20f1060420992a9b82a65b735dee4d81ef413-all.js"
                    },
                    {
                     "name": null,
                     "type": "css",
                     "url": "/assetserver/1cc0ed62837210b80a182cc3676512f895dab686-style.css"
                    },
                    {
                     "name": null,
                     "type": "css",
                     "url": "/assetserver/2eee816f616df3549d7044d45e744fbf8d42bfa1-bulma_confined.min.css"
                    }
                   ],
                   "type": "async_block"
                  },
                  "mount_callbacks": [
                   "function () {\n    var handler = (function (ko, koPunches) {\n    ko.punches.enableAll();\n    ko.bindingHandlers.numericValue = {\n        init: function(element, valueAccessor, allBindings, data, context) {\n            var stringified = ko.observable(ko.unwrap(valueAccessor()));\n            stringified.subscribe(function(value) {\n                var val = parseFloat(value);\n                if (!isNaN(val)) {\n                    valueAccessor()(val);\n                }\n            });\n            valueAccessor().subscribe(function(value) {\n                var str = JSON.stringify(value);\n                if ((str == \"0\") && ([\"-0\", \"-0.\"].indexOf(stringified()) >= 0))\n                     return;\n                 if ([\"null\", \"\"].indexOf(str) >= 0)\n                     return;\n                stringified(str);\n            });\n            ko.applyBindingsToNode(\n                element,\n                {\n                    value: stringified,\n                    valueUpdate: allBindings.get('valueUpdate'),\n                },\n                context,\n            );\n        }\n    };\n    var json_data = {\"loading\":WebIO.getval({\"name\":\"loading\",\"scope\":\"6483877982107905809\",\"id\":\"10915840415409230096\",\"type\":\"observable\"}),\"clicks\":WebIO.getval({\"name\":\"clicks\",\"scope\":\"6483877982107905809\",\"id\":\"12806540103676720057\",\"type\":\"observable\"})};\n    var self = this;\n    function AppViewModel() {\n        for (var key in json_data) {\n            var el = json_data[key];\n            this[key] = Array.isArray(el) ? ko.observableArray(el) : ko.observable(el);\n        }\n        \n        \n        [this[\"loading\"].subscribe((function (val){!(this.valueFromJulia[\"loading\"]) ? (WebIO.setval({\"name\":\"loading\",\"scope\":\"6483877982107905809\",\"id\":\"10915840415409230096\",\"type\":\"observable\"},val)) : undefined; return this.valueFromJulia[\"loading\"]=false}),self),this[\"clicks\"].subscribe((function (val){!(this.valueFromJulia[\"clicks\"]) ? (WebIO.setval({\"name\":\"clicks\",\"scope\":\"6483877982107905809\",\"id\":\"12806540103676720057\",\"type\":\"observable\"},val)) : undefined; return this.valueFromJulia[\"clicks\"]=false}),self)]\n        \n    }\n    self.model = new AppViewModel();\n    self.valueFromJulia = {};\n    for (var key in json_data) {\n        self.valueFromJulia[key] = false;\n    }\n    ko.applyBindings(self.model, self.dom);\n}\n);\n    (WebIO.importBlock({\"data\":[{\"name\":\"knockout\",\"type\":\"js\",\"url\":\"/assetserver/727383f2a47bd31570b7da84eee7b022dd6d7c78-knockout.js\"},{\"name\":\"knockout_punches\",\"type\":\"js\",\"url\":\"/assetserver/382b41b3b1bd9f26f75861d360bad7f8beea211f-knockout_punches.js\"}],\"type\":\"async_block\"})).then((imports) => handler.apply(this, imports));\n}\n"
                  ],
                  "observables": {
                   "clicks": {
                    "id": "12806540103676720057",
                    "sync": true,
                    "value": 0
                   },
                   "loading": {
                    "id": "10915840415409230096",
                    "sync": false,
                    "value": false
                   }
                  },
                  "systemjs_options": null
                 },
                 "nodeType": "Scope",
                 "props": {},
                 "type": "node"
                }
               ],
               "instanceArgs": {
                "namespace": "html",
                "tag": "div"
               },
               "nodeType": "DOM",
               "props": {
                "className": "field interact-widget"
               },
               "type": "node"
              },
              {
               "children": [
                {
                 "children": [
                  {
                   "children": [],
                   "instanceArgs": {
                    "namespace": "html",
                    "tag": "div"
                   },
                   "nodeType": "DOM",
                   "props": {
                    "id": "container"
                   },
                   "type": "node"
                  }
                 ],
                 "instanceArgs": {
                  "handlers": {
                   "value": [
                    "(function (txt){return this.k.render(txt,this.container)})"
                   ]
                  },
                  "id": "9700365098135097054",
                  "imports": {
                   "data": [
                    {
                     "name": null,
                     "type": "js",
                     "url": "/assetserver/dd22ed1bf1896c2748f3fe616ce0b838adc895c1-katex.min.js"
                    },
                    {
                     "name": null,
                     "type": "css",
                     "url": "/assetserver/46517a424aa5e6cffc1360d7e0848b601c584ee3-katex.min.css"
                    }
                   ],
                   "type": "async_block"
                  },
                  "mount_callbacks": [
                   "function () {\n    var handler = ((function (k){this.k=k; this.container=this.dom.querySelector(\"#container\"); return k.render(\"\\\\;\\\\;\",this.container)}));\n    (WebIO.importBlock({\"data\":[{\"name\":null,\"type\":\"js\",\"url\":\"/assetserver/dd22ed1bf1896c2748f3fe616ce0b838adc895c1-katex.min.js\"},{\"name\":null,\"type\":\"css\",\"url\":\"/assetserver/46517a424aa5e6cffc1360d7e0848b601c584ee3-katex.min.css\"}],\"type\":\"async_block\"})).then((imports) => handler.apply(this, imports));\n}\n"
                  ],
                  "observables": {
                   "value": {
                    "id": "16433599212151716876",
                    "sync": false,
                    "value": "\\;\\;"
                   }
                  },
                  "systemjs_options": null
                 },
                 "nodeType": "Scope",
                 "props": {},
                 "type": "node"
                }
               ],
               "instanceArgs": {
                "namespace": "html",
                "tag": "div"
               },
               "nodeType": "DOM",
               "props": {
                "className": "interact-widget"
               },
               "type": "node"
              },
              {
               "children": [
                {
                 "children": [
                  {
                   "children": [
                    "save"
                   ],
                   "instanceArgs": {
                    "namespace": "html",
                    "tag": "button"
                   },
                   "nodeType": "DOM",
                   "props": {
                    "attributes": {
                     "data-bind": "click: function (){this.clicks(this.clicks()+1)}, css: {'is-loading' : loading}"
                    },
                    "className": "is-medium button is-primary",
                    "style": {}
                   },
                   "type": "node"
                  }
                 ],
                 "instanceArgs": {
                  "handlers": {
                   "clicks": [
                    "(function (val){return (val!=this.model[\"clicks\"]()) ? (this.valueFromJulia[\"clicks\"]=true, this.model[\"clicks\"](val)) : undefined})"
                   ],
                   "loading": [
                    "(function (val){return (val!=this.model[\"loading\"]()) ? (this.valueFromJulia[\"loading\"]=true, this.model[\"loading\"](val)) : undefined})"
                   ]
                  },
                  "id": "9117471544633982621",
                  "imports": {
                   "data": [
                    {
                     "name": "knockout",
                     "type": "js",
                     "url": "/assetserver/727383f2a47bd31570b7da84eee7b022dd6d7c78-knockout.js"
                    },
                    {
                     "name": "knockout_punches",
                     "type": "js",
                     "url": "/assetserver/382b41b3b1bd9f26f75861d360bad7f8beea211f-knockout_punches.js"
                    },
                    {
                     "name": null,
                     "type": "js",
                     "url": "/assetserver/5ab20f1060420992a9b82a65b735dee4d81ef413-all.js"
                    },
                    {
                     "name": null,
                     "type": "css",
                     "url": "/assetserver/1cc0ed62837210b80a182cc3676512f895dab686-style.css"
                    },
                    {
                     "name": null,
                     "type": "css",
                     "url": "/assetserver/2eee816f616df3549d7044d45e744fbf8d42bfa1-bulma_confined.min.css"
                    }
                   ],
                   "type": "async_block"
                  },
                  "mount_callbacks": [
                   "function () {\n    var handler = (function (ko, koPunches) {\n    ko.punches.enableAll();\n    ko.bindingHandlers.numericValue = {\n        init: function(element, valueAccessor, allBindings, data, context) {\n            var stringified = ko.observable(ko.unwrap(valueAccessor()));\n            stringified.subscribe(function(value) {\n                var val = parseFloat(value);\n                if (!isNaN(val)) {\n                    valueAccessor()(val);\n                }\n            });\n            valueAccessor().subscribe(function(value) {\n                var str = JSON.stringify(value);\n                if ((str == \"0\") && ([\"-0\", \"-0.\"].indexOf(stringified()) >= 0))\n                     return;\n                 if ([\"null\", \"\"].indexOf(str) >= 0)\n                     return;\n                stringified(str);\n            });\n            ko.applyBindingsToNode(\n                element,\n                {\n                    value: stringified,\n                    valueUpdate: allBindings.get('valueUpdate'),\n                },\n                context,\n            );\n        }\n    };\n    var json_data = {\"loading\":WebIO.getval({\"name\":\"loading\",\"scope\":\"9117471544633982621\",\"id\":\"4813943820668123206\",\"type\":\"observable\"}),\"clicks\":WebIO.getval({\"name\":\"clicks\",\"scope\":\"9117471544633982621\",\"id\":\"7003200494129192581\",\"type\":\"observable\"})};\n    var self = this;\n    function AppViewModel() {\n        for (var key in json_data) {\n            var el = json_data[key];\n            this[key] = Array.isArray(el) ? ko.observableArray(el) : ko.observable(el);\n        }\n        \n        \n        [this[\"loading\"].subscribe((function (val){!(this.valueFromJulia[\"loading\"]) ? (WebIO.setval({\"name\":\"loading\",\"scope\":\"9117471544633982621\",\"id\":\"4813943820668123206\",\"type\":\"observable\"},val)) : undefined; return this.valueFromJulia[\"loading\"]=false}),self),this[\"clicks\"].subscribe((function (val){!(this.valueFromJulia[\"clicks\"]) ? (WebIO.setval({\"name\":\"clicks\",\"scope\":\"9117471544633982621\",\"id\":\"7003200494129192581\",\"type\":\"observable\"},val)) : undefined; return this.valueFromJulia[\"clicks\"]=false}),self)]\n        \n    }\n    self.model = new AppViewModel();\n    self.valueFromJulia = {};\n    for (var key in json_data) {\n        self.valueFromJulia[key] = false;\n    }\n    ko.applyBindings(self.model, self.dom);\n}\n);\n    (WebIO.importBlock({\"data\":[{\"name\":\"knockout\",\"type\":\"js\",\"url\":\"/assetserver/727383f2a47bd31570b7da84eee7b022dd6d7c78-knockout.js\"},{\"name\":\"knockout_punches\",\"type\":\"js\",\"url\":\"/assetserver/382b41b3b1bd9f26f75861d360bad7f8beea211f-knockout_punches.js\"}],\"type\":\"async_block\"})).then((imports) => handler.apply(this, imports));\n}\n"
                  ],
                  "observables": {
                   "clicks": {
                    "id": "7003200494129192581",
                    "sync": true,
                    "value": 0
                   },
                   "loading": {
                    "id": "4813943820668123206",
                    "sync": false,
                    "value": false
                   }
                  },
                  "systemjs_options": null
                 },
                 "nodeType": "Scope",
                 "props": {},
                 "type": "node"
                }
               ],
               "instanceArgs": {
                "namespace": "html",
                "tag": "div"
               },
               "nodeType": "DOM",
               "props": {
                "className": "field interact-widget"
               },
               "type": "node"
              }
             ],
             "instanceArgs": {
              "namespace": "html",
              "tag": "div"
             },
             "nodeType": "DOM",
             "props": {
              "style": {
               "display": "flex",
               "flex-direction": "row"
              }
             },
             "type": "node"
            }
           ],
           "instanceArgs": {
            "namespace": "html",
            "tag": "div"
           },
           "nodeType": "DOM",
           "props": {
            "style": {
             "display": "flex",
             "flex-direction": "column"
            }
           },
           "type": "node"
          },
          {
           "children": [
            {
             "children": [
              {
               "children": [],
               "instanceArgs": {
                "namespace": "html",
                "tag": "div"
               },
               "nodeType": "DOM",
               "props": {
                "id": "container"
               },
               "type": "node"
              }
             ],
             "instanceArgs": {
              "handlers": {
               "value": [
                "(function (txt){return this.k.render(txt,this.container)})"
               ]
              },
              "id": "9700365098135097054",
              "imports": {
               "data": [
                {
                 "name": null,
                 "type": "js",
                 "url": "/assetserver/dd22ed1bf1896c2748f3fe616ce0b838adc895c1-katex.min.js"
                },
                {
                 "name": null,
                 "type": "css",
                 "url": "/assetserver/46517a424aa5e6cffc1360d7e0848b601c584ee3-katex.min.css"
                }
               ],
               "type": "async_block"
              },
              "mount_callbacks": [
               "function () {\n    var handler = ((function (k){this.k=k; this.container=this.dom.querySelector(\"#container\"); return k.render(\"\\\\;\\\\;\",this.container)}));\n    (WebIO.importBlock({\"data\":[{\"name\":null,\"type\":\"js\",\"url\":\"/assetserver/dd22ed1bf1896c2748f3fe616ce0b838adc895c1-katex.min.js\"},{\"name\":null,\"type\":\"css\",\"url\":\"/assetserver/46517a424aa5e6cffc1360d7e0848b601c584ee3-katex.min.css\"}],\"type\":\"async_block\"})).then((imports) => handler.apply(this, imports));\n}\n"
              ],
              "observables": {
               "value": {
                "id": "16433599212151716876",
                "sync": false,
                "value": "\\;\\;"
               }
              },
              "systemjs_options": null
             },
             "nodeType": "Scope",
             "props": {},
             "type": "node"
            }
           ],
           "instanceArgs": {
            "namespace": "html",
            "tag": "div"
           },
           "nodeType": "DOM",
           "props": {
            "className": "interact-widget"
           },
           "type": "node"
          },
          {
           "children": [
            {
             "children": [],
             "instanceArgs": {
              "namespace": "html",
              "tag": "div"
             },
             "nodeType": "DOM",
             "props": {
              "className": "webio-observable",
              "setInnerHtml": "<img src='data:image/png;base64,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'></img>"
             },
             "type": "node"
            }
           ],
           "instanceArgs": {
            "handlers": {
             "obs-output": [
              "function (value, scope) {\n    scope.setInnerHTML(value);\n}\n"
             ]
            },
            "id": "17802530455727301060",
            "imports": {
             "data": [],
             "type": "async_block"
            },
            "mount_callbacks": [],
            "observables": {
             "obs-output": {
              "id": "15049147128484267196",
              "sync": false,
              "value": "<img src='data:image/png;base64,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'></img>"
             }
            },
            "systemjs_options": null
           },
           "nodeType": "Scope",
           "props": {},
           "type": "node"
          },
          {
           "children": [
            {
             "children": [
              {
               "children": [],
               "instanceArgs": {
                "namespace": "html",
                "tag": "div"
               },
               "nodeType": "DOM",
               "props": {
                "id": "container"
               },
               "type": "node"
              }
             ],
             "instanceArgs": {
              "handlers": {
               "value": [
                "(function (txt){return this.k.render(txt,this.container)})"
               ]
              },
              "id": "9700365098135097054",
              "imports": {
               "data": [
                {
                 "name": null,
                 "type": "js",
                 "url": "/assetserver/dd22ed1bf1896c2748f3fe616ce0b838adc895c1-katex.min.js"
                },
                {
                 "name": null,
                 "type": "css",
                 "url": "/assetserver/46517a424aa5e6cffc1360d7e0848b601c584ee3-katex.min.css"
                }
               ],
               "type": "async_block"
              },
              "mount_callbacks": [
               "function () {\n    var handler = ((function (k){this.k=k; this.container=this.dom.querySelector(\"#container\"); return k.render(\"\\\\;\\\\;\",this.container)}));\n    (WebIO.importBlock({\"data\":[{\"name\":null,\"type\":\"js\",\"url\":\"/assetserver/dd22ed1bf1896c2748f3fe616ce0b838adc895c1-katex.min.js\"},{\"name\":null,\"type\":\"css\",\"url\":\"/assetserver/46517a424aa5e6cffc1360d7e0848b601c584ee3-katex.min.css\"}],\"type\":\"async_block\"})).then((imports) => handler.apply(this, imports));\n}\n"
              ],
              "observables": {
               "value": {
                "id": "16433599212151716876",
                "sync": false,
                "value": "\\;\\;"
               }
              },
              "systemjs_options": null
             },
             "nodeType": "Scope",
             "props": {},
             "type": "node"
            }
           ],
           "instanceArgs": {
            "namespace": "html",
            "tag": "div"
           },
           "nodeType": "DOM",
           "props": {
            "className": "interact-widget"
           },
           "type": "node"
          },
          {
           "children": [],
           "instanceArgs": {
            "namespace": "html",
            "tag": "div"
           },
           "nodeType": "DOM",
           "props": {
            "style": {
             "display": "flex",
             "flex-direction": "column"
            }
           },
           "type": "node"
          }
         ],
         "instanceArgs": {
          "namespace": "html",
          "tag": "div"
         },
         "nodeType": "DOM",
         "props": {
          "style": {
           "display": "flex",
           "flex-direction": "row"
          }
         },
         "type": "node"
        }
       ],
       "instanceArgs": {
        "namespace": "html",
        "tag": "div"
       },
       "nodeType": "DOM",
       "props": {
        "style": {
         "display": "flex",
         "flex-direction": "column"
        }
       },
       "type": "node"
      },
      "text/html": [
       "<div\n",
       "    class=\"webio-mountpoint\"\n",
       "    data-webio-mountpoint=\"16784668516694318239\"\n",
       ">\n",
       "    <script>\n",
       "    (function(){\n",
       "    // Some integrations (namely, IJulia/Jupyter) use an alternate render pathway than\n",
       "    // just putting the html on the page. If WebIO isn't defined, then it's pretty likely\n",
       "    // that we're in one of those situations and the integration just isn't installed\n",
       "    // correctly.\n",
       "    if (typeof window.WebIO === \"undefined\") {\n",
       "        document\n",
       "            .querySelector('[data-webio-mountpoint=\"16784668516694318239\"]')\n",
       "            .innerHTML = (\n",
       "                '<div style=\"padding: 1em; background-color: #f8d6da; border: 1px solid #f5c6cb; font-weight: bold;\">' +\n",
       "                '<p><strong>WebIO not detected.</strong></p>' +\n",
       "                '<p>Please read ' +\n",
       "                '<a href=\"https://juliagizmos.github.io/WebIO.jl/latest/troubleshooting/not-detected/\" target=\"_blank\">the troubleshooting guide</a> ' +\n",
       "                'for more information on how to resolve this issue.</p>' +\n",
       "                '<p><a href=\"https://juliagizmos.github.io/WebIO.jl/latest/troubleshooting/not-detected/\" target=\"_blank\">https://juliagizmos.github.io/WebIO.jl/latest/troubleshooting/not-detected/</a></p>' +\n",
       "                '</div>'\n",
       "            );\n",
       "        return;\n",
       "    }\n",
       "    WebIO.mount(\n",
       "        document.querySelector('[data-webio-mountpoint=\"16784668516694318239\"]'),\n",
       "        {\"props\":{\"style\":{\"display\":\"flex\",\"flex-direction\":\"column\"}},\"nodeType\":\"DOM\",\"type\":\"node\",\"instanceArgs\":{\"namespace\":\"html\",\"tag\":\"div\"},\"children\":[{\"props\":{\"style\":{\"display\":\"flex\",\"flex-direction\":\"row\"}},\"nodeType\":\"DOM\",\"type\":\"node\",\"instanceArgs\":{\"namespace\":\"html\",\"tag\":\"div\"},\"children\":[{\"props\":{\"style\":{\"display\":\"flex\",\"flex-direction\":\"column\"}},\"nodeType\":\"DOM\",\"type\":\"node\",\"instanceArgs\":{\"namespace\":\"html\",\"tag\":\"div\"},\"children\":[{\"props\":{\"className\":\"field interact-widget\"},\"nodeType\":\"DOM\",\"type\":\"node\",\"instanceArgs\":{\"namespace\":\"html\",\"tag\":\"div\"},\"children\":[{\"props\":{},\"nodeType\":\"Scope\",\"type\":\"node\",\"instanceArgs\":{\"imports\":{\"data\":[{\"name\":\"knockout\",\"type\":\"js\",\"url\":\"\\/assetserver\\/727383f2a47bd31570b7da84eee7b022dd6d7c78-knockout.js\"},{\"name\":\"knockout_punches\",\"type\":\"js\",\"url\":\"\\/assetserver\\/382b41b3b1bd9f26f75861d360bad7f8beea211f-knockout_punches.js\"},{\"name\":null,\"type\":\"js\",\"url\":\"\\/assetserver\\/5ab20f1060420992a9b82a65b735dee4d81ef413-all.js\"},{\"name\":null,\"type\":\"css\",\"url\":\"\\/assetserver\\/1cc0ed62837210b80a182cc3676512f895dab686-style.css\"},{\"name\":null,\"type\":\"css\",\"url\":\"\\/assetserver\\/2eee816f616df3549d7044d45e744fbf8d42bfa1-bulma_confined.min.css\"}],\"type\":\"async_block\"},\"id\":\"13528449948769058686\",\"handlers\":{\"changes\":[\"(function (val){return (val!=this.model[\\\"changes\\\"]()) ? (this.valueFromJulia[\\\"changes\\\"]=true, this.model[\\\"changes\\\"](val)) : undefined})\"],\"index\":[\"(function (val){return (val!=this.model[\\\"index\\\"]()) ? (this.valueFromJulia[\\\"index\\\"]=true, this.model[\\\"index\\\"](val)) : undefined})\"]},\"systemjs_options\":null,\"mount_callbacks\":[\"function () {\\n    var handler = (function (ko, koPunches) {\\n    ko.punches.enableAll();\\n    ko.bindingHandlers.numericValue = {\\n        init: function(element, valueAccessor, allBindings, data, context) {\\n            var stringified = ko.observable(ko.unwrap(valueAccessor()));\\n            stringified.subscribe(function(value) {\\n                var val = parseFloat(value);\\n                if (!isNaN(val)) {\\n                    valueAccessor()(val);\\n                }\\n            });\\n            valueAccessor().subscribe(function(value) {\\n                var str = JSON.stringify(value);\\n                if ((str == \\\"0\\\") && ([\\\"-0\\\", \\\"-0.\\\"].indexOf(stringified()) >= 0))\\n                     return;\\n                 if ([\\\"null\\\", \\\"\\\"].indexOf(str) >= 0)\\n                     return;\\n                stringified(str);\\n            });\\n            ko.applyBindingsToNode(\\n                element,\\n                {\\n                    value: stringified,\\n                    valueUpdate: allBindings.get('valueUpdate'),\\n                },\\n                context,\\n            );\\n        }\\n    };\\n    var json_data = {\\\"formatted_vals\\\":[\\\"1\\\",\\\"2\\\",\\\"3\\\",\\\"4\\\",\\\"5\\\",\\\"6\\\",\\\"7\\\",\\\"8\\\",\\\"9\\\",\\\"10\\\",\\\"11\\\",\\\"12\\\",\\\"13\\\",\\\"14\\\",\\\"15\\\",\\\"16\\\",\\\"17\\\",\\\"18\\\",\\\"19\\\",\\\"20\\\",\\\"21\\\",\\\"22\\\",\\\"23\\\",\\\"24\\\",\\\"25\\\",\\\"26\\\",\\\"27\\\",\\\"28\\\",\\\"29\\\",\\\"30\\\",\\\"31\\\",\\\"32\\\",\\\"33\\\",\\\"34\\\",\\\"35\\\",\\\"36\\\",\\\"37\\\",\\\"38\\\",\\\"39\\\",\\\"40\\\",\\\"41\\\",\\\"42\\\",\\\"43\\\",\\\"44\\\",\\\"45\\\",\\\"46\\\",\\\"47\\\",\\\"48\\\",\\\"49\\\",\\\"50\\\",\\\"51\\\",\\\"52\\\",\\\"53\\\",\\\"54\\\",\\\"55\\\",\\\"56\\\",\\\"57\\\",\\\"58\\\",\\\"59\\\",\\\"60\\\",\\\"61\\\",\\\"62\\\",\\\"63\\\",\\\"64\\\",\\\"65\\\",\\\"66\\\",\\\"67\\\",\\\"68\\\",\\\"69\\\",\\\"70\\\",\\\"71\\\",\\\"72\\\",\\\"73\\\",\\\"74\\\",\\\"75\\\",\\\"76\\\",\\\"77\\\",\\\"78\\\",\\\"79\\\",\\\"80\\\",\\\"81\\\",\\\"82\\\",\\\"83\\\",\\\"84\\\",\\\"85\\\",\\\"86\\\",\\\"87\\\",\\\"88\\\",\\\"89\\\",\\\"90\\\",\\\"91\\\",\\\"92\\\",\\\"93\\\",\\\"94\\\",\\\"95\\\",\\\"96\\\",\\\"97\\\",\\\"98\\\",\\\"99\\\",\\\"100\\\",\\\"101\\\",\\\"102\\\",\\\"103\\\",\\\"104\\\",\\\"105\\\",\\\"106\\\",\\\"107\\\",\\\"108\\\",\\\"109\\\",\\\"110\\\",\\\"111\\\",\\\"112\\\",\\\"113\\\",\\\"114\\\",\\\"115\\\",\\\"116\\\",\\\"117\\\",\\\"118\\\",\\\"119\\\",\\\"120\\\",\\\"121\\\",\\\"122\\\",\\\"123\\\",\\\"124\\\",\\\"125\\\",\\\"126\\\",\\\"127\\\",\\\"128\\\",\\\"129\\\",\\\"130\\\",\\\"131\\\",\\\"132\\\",\\\"133\\\",\\\"134\\\",\\\"135\\\",\\\"136\\\",\\\"137\\\",\\\"138\\\",\\\"139\\\",\\\"140\\\",\\\"141\\\",\\\"142\\\",\\\"143\\\",\\\"144\\\",\\\"145\\\",\\\"146\\\",\\\"147\\\",\\\"148\\\",\\\"149\\\",\\\"150\\\",\\\"151\\\",\\\"152\\\",\\\"153\\\",\\\"154\\\",\\\"155\\\",\\\"156\\\",\\\"157\\\",\\\"158\\\",\\\"159\\\",\\\"160\\\",\\\"161\\\",\\\"162\\\",\\\"163\\\",\\\"164\\\",\\\"165\\\",\\\"166\\\",\\\"167\\\",\\\"168\\\",\\\"169\\\",\\\"170\\\",\\\"171\\\",\\\"172\\\",\\\"173\\\",\\\"174\\\",\\\"175\\\",\\\"176\\\",\\\"177\\\",\\\"178\\\",\\\"179\\\",\\\"180\\\",\\\"181\\\",\\\"182\\\",\\\"183\\\",\\\"184\\\",\\\"185\\\",\\\"186\\\",\\\"187\\\",\\\"188\\\",\\\"189\\\",\\\"190\\\",\\\"191\\\",\\\"192\\\",\\\"193\\\",\\\"194\\\",\\\"195\\\",\\\"196\\\",\\\"197\\\",\\\"198\\\",\\\"199\\\",\\\"200\\\",\\\"201\\\",\\\"202\\\",\\\"203\\\",\\\"204\\\",\\\"205\\\",\\\"206\\\",\\\"207\\\",\\\"208\\\",\\\"209\\\",\\\"210\\\",\\\"211\\\",\\\"212\\\",\\\"213\\\",\\\"214\\\",\\\"215\\\",\\\"216\\\",\\\"217\\\",\\\"218\\\",\\\"219\\\",\\\"220\\\",\\\"221\\\",\\\"222\\\",\\\"223\\\",\\\"224\\\",\\\"225\\\",\\\"226\\\",\\\"227\\\",\\\"228\\\",\\\"229\\\",\\\"230\\\",\\\"231\\\",\\\"232\\\",\\\"233\\\",\\\"234\\\",\\\"235\\\",\\\"236\\\",\\\"237\\\",\\\"238\\\",\\\"239\\\",\\\"240\\\",\\\"241\\\",\\\"242\\\",\\\"243\\\",\\\"244\\\",\\\"245\\\",\\\"246\\\",\\\"247\\\",\\\"248\\\",\\\"249\\\",\\\"250\\\",\\\"251\\\",\\\"252\\\",\\\"253\\\",\\\"254\\\",\\\"255\\\",\\\"256\\\",\\\"257\\\",\\\"258\\\",\\\"259\\\",\\\"260\\\",\\\"261\\\",\\\"262\\\",\\\"263\\\",\\\"264\\\",\\\"265\\\",\\\"266\\\",\\\"267\\\",\\\"268\\\",\\\"269\\\",\\\"270\\\",\\\"271\\\",\\\"272\\\",\\\"273\\\",\\\"274\\\",\\\"275\\\",\\\"276\\\",\\\"277\\\",\\\"278\\\",\\\"279\\\",\\\"280\\\",\\\"281\\\",\\\"282\\\",\\\"283\\\",\\\"284\\\",\\\"285\\\",\\\"286\\\",\\\"287\\\",\\\"288\\\",\\\"289\\\",\\\"290\\\",\\\"291\\\",\\\"292\\\",\\\"293\\\",\\\"294\\\",\\\"295\\\",\\\"296\\\",\\\"297\\\",\\\"298\\\",\\\"299\\\",\\\"300\\\",\\\"301\\\",\\\"302\\\",\\\"303\\\",\\\"304\\\",\\\"305\\\",\\\"306\\\",\\\"307\\\",\\\"308\\\",\\\"309\\\",\\\"310\\\",\\\"311\\\",\\\"312\\\",\\\"313\\\",\\\"314\\\",\\\"315\\\",\\\"316\\\",\\\"317\\\",\\\"318\\\",\\\"319\\\",\\\"320\\\",\\\"321\\\",\\\"322\\\",\\\"323\\\",\\\"324\\\",\\\"325\\\",\\\"326\\\",\\\"327\\\",\\\"328\\\",\\\"329\\\",\\\"330\\\",\\\"331\\\",\\\"332\\\",\\\"333\\\",\\\"334\\\",\\\"335\\\",\\\"336\\\",\\\"337\\\",\\\"338\\\",\\\"339\\\",\\\"340\\\",\\\"341\\\",\\\"342\\\",\\\"343\\\",\\\"344\\\",\\\"345\\\",\\\"346\\\",\\\"347\\\",\\\"348\\\",\\\"349\\\",\\\"350\\\",\\\"351\\\",\\\"352\\\",\\\"353\\\",\\\"354\\\",\\\"355\\\",\\\"356\\\",\\\"357\\\",\\\"358\\\",\\\"359\\\",\\\"360\\\",\\\"361\\\",\\\"362\\\",\\\"363\\\",\\\"364\\\",\\\"365\\\",\\\"366\\\",\\\"367\\\",\\\"368\\\",\\\"369\\\",\\\"370\\\",\\\"371\\\",\\\"372\\\",\\\"373\\\",\\\"374\\\",\\\"375\\\",\\\"376\\\",\\\"377\\\",\\\"378\\\",\\\"379\\\",\\\"380\\\",\\\"381\\\",\\\"382\\\",\\\"383\\\",\\\"384\\\",\\\"385\\\",\\\"386\\\",\\\"387\\\",\\\"388\\\",\\\"389\\\",\\\"390\\\",\\\"391\\\",\\\"392\\\",\\\"393\\\",\\\"394\\\",\\\"395\\\",\\\"396\\\",\\\"397\\\",\\\"398\\\",\\\"399\\\",\\\"400\\\"],\\\"changes\\\":WebIO.getval({\\\"name\\\":\\\"changes\\\",\\\"scope\\\":\\\"13528449948769058686\\\",\\\"id\\\":\\\"17551337255259803815\\\",\\\"type\\\":\\\"observable\\\"}),\\\"index\\\":WebIO.getval({\\\"name\\\":\\\"index\\\",\\\"scope\\\":\\\"13528449948769058686\\\",\\\"id\\\":\\\"2822240849482909453\\\",\\\"type\\\":\\\"observable\\\"})};\\n    var self = this;\\n    function AppViewModel() {\\n        for (var key in json_data) {\\n            var el = json_data[key];\\n            this[key] = Array.isArray(el) ? ko.observableArray(el) : ko.observable(el);\\n        }\\n        \\n        [this[\\\"formatted_val\\\"]=ko.computed(    function(){\\n        return this.formatted_vals()[parseInt(this.index())-(1)];\\n    }\\n,this)]\\n        [this[\\\"changes\\\"].subscribe((function (val){!(this.valueFromJulia[\\\"changes\\\"]) ? (WebIO.setval({\\\"name\\\":\\\"changes\\\",\\\"scope\\\":\\\"13528449948769058686\\\",\\\"id\\\":\\\"17551337255259803815\\\",\\\"type\\\":\\\"observable\\\"},val)) : undefined; return this.valueFromJulia[\\\"changes\\\"]=false}),self),this[\\\"index\\\"].subscribe((function (val){!(this.valueFromJulia[\\\"index\\\"]) ? (WebIO.setval({\\\"name\\\":\\\"index\\\",\\\"scope\\\":\\\"13528449948769058686\\\",\\\"id\\\":\\\"2822240849482909453\\\",\\\"type\\\":\\\"observable\\\"},val)) : undefined; return this.valueFromJulia[\\\"index\\\"]=false}),self)]\\n        \\n    }\\n    self.model = new AppViewModel();\\n    self.valueFromJulia = {};\\n    for (var key in json_data) {\\n        self.valueFromJulia[key] = false;\\n    }\\n    ko.applyBindings(self.model, self.dom);\\n}\\n);\\n    (WebIO.importBlock({\\\"data\\\":[{\\\"name\\\":\\\"knockout\\\",\\\"type\\\":\\\"js\\\",\\\"url\\\":\\\"\\/assetserver\\/727383f2a47bd31570b7da84eee7b022dd6d7c78-knockout.js\\\"},{\\\"name\\\":\\\"knockout_punches\\\",\\\"type\\\":\\\"js\\\",\\\"url\\\":\\\"\\/assetserver\\/382b41b3b1bd9f26f75861d360bad7f8beea211f-knockout_punches.js\\\"}],\\\"type\\\":\\\"async_block\\\"})).then((imports) => handler.apply(this, imports));\\n}\\n\"],\"observables\":{\"changes\":{\"sync\":false,\"id\":\"17551337255259803815\",\"value\":0},\"index\":{\"sync\":true,\"id\":\"2822240849482909453\",\"value\":1}}},\"children\":[{\"props\":{\"className\":\"interact-flex-row interact-widget\"},\"nodeType\":\"DOM\",\"type\":\"node\",\"instanceArgs\":{\"namespace\":\"html\",\"tag\":\"div\"},\"children\":[{\"props\":{\"className\":\"interact-flex-row-left\"},\"nodeType\":\"DOM\",\"type\":\"node\",\"instanceArgs\":{\"namespace\":\"html\",\"tag\":\"div\"},\"children\":[{\"props\":{\"className\":\"interact \",\"style\":{\"padding\":\"5px 10px 0px 10px\"}},\"nodeType\":\"DOM\",\"type\":\"node\",\"instanceArgs\":{\"namespace\":\"html\",\"tag\":\"label\"},\"children\":[\"time\"]}]},{\"props\":{\"className\":\"interact-flex-row-center\"},\"nodeType\":\"DOM\",\"type\":\"node\",\"instanceArgs\":{\"namespace\":\"html\",\"tag\":\"div\"},\"children\":[{\"props\":{\"max\":400,\"min\":1,\"attributes\":{\"type\":\"range\",\"data-bind\":\"numericValue: index, valueUpdate: 'input', event: {change: function (){this.changes(this.changes()+1)}}\",\"orient\":\"horizontal\"},\"step\":1,\"className\":\"slider slider is-fullwidth\",\"style\":{}},\"nodeType\":\"DOM\",\"type\":\"node\",\"instanceArgs\":{\"namespace\":\"html\",\"tag\":\"input\"},\"children\":[]}]},{\"props\":{\"className\":\"interact-flex-row-right\"},\"nodeType\":\"DOM\",\"type\":\"node\",\"instanceArgs\":{\"namespace\":\"html\",\"tag\":\"div\"},\"children\":[{\"props\":{\"attributes\":{\"data-bind\":\"text: formatted_val\"}},\"nodeType\":\"DOM\",\"type\":\"node\",\"instanceArgs\":{\"namespace\":\"html\",\"tag\":\"p\"},\"children\":[]}]}]}]}]},{\"props\":{\"className\":\"field interact-widget\"},\"nodeType\":\"DOM\",\"type\":\"node\",\"instanceArgs\":{\"namespace\":\"html\",\"tag\":\"div\"},\"children\":[{\"props\":{},\"nodeType\":\"Scope\",\"type\":\"node\",\"instanceArgs\":{\"imports\":{\"data\":[{\"name\":\"knockout\",\"type\":\"js\",\"url\":\"\\/assetserver\\/727383f2a47bd31570b7da84eee7b022dd6d7c78-knockout.js\"},{\"name\":\"knockout_punches\",\"type\":\"js\",\"url\":\"\\/assetserver\\/382b41b3b1bd9f26f75861d360bad7f8beea211f-knockout_punches.js\"},{\"name\":null,\"type\":\"js\",\"url\":\"\\/assetserver\\/5ab20f1060420992a9b82a65b735dee4d81ef413-all.js\"},{\"name\":null,\"type\":\"css\",\"url\":\"\\/assetserver\\/1cc0ed62837210b80a182cc3676512f895dab686-style.css\"},{\"name\":null,\"type\":\"css\",\"url\":\"\\/assetserver\\/2eee816f616df3549d7044d45e744fbf8d42bfa1-bulma_confined.min.css\"}],\"type\":\"async_block\"},\"id\":\"11065932035451131021\",\"handlers\":{\"changes\":[\"(function (val){return (val!=this.model[\\\"changes\\\"]()) ? (this.valueFromJulia[\\\"changes\\\"]=true, this.model[\\\"changes\\\"](val)) : undefined})\"],\"index\":[\"(function (val){return (val!=this.model[\\\"index\\\"]()) ? (this.valueFromJulia[\\\"index\\\"]=true, this.model[\\\"index\\\"](val)) : undefined})\"]},\"systemjs_options\":null,\"mount_callbacks\":[\"function () {\\n    var handler = (function (ko, koPunches) {\\n    ko.punches.enableAll();\\n    ko.bindingHandlers.numericValue = {\\n        init: function(element, valueAccessor, allBindings, data, context) {\\n            var stringified = ko.observable(ko.unwrap(valueAccessor()));\\n            stringified.subscribe(function(value) {\\n                var val = parseFloat(value);\\n                if (!isNaN(val)) {\\n                    valueAccessor()(val);\\n                }\\n            });\\n            valueAccessor().subscribe(function(value) {\\n                var str = JSON.stringify(value);\\n                if ((str == \\\"0\\\") && ([\\\"-0\\\", \\\"-0.\\\"].indexOf(stringified()) >= 0))\\n                     return;\\n                 if ([\\\"null\\\", \\\"\\\"].indexOf(str) >= 0)\\n                     return;\\n                stringified(str);\\n            });\\n            ko.applyBindingsToNode(\\n                element,\\n                {\\n                    value: stringified,\\n                    valueUpdate: allBindings.get('valueUpdate'),\\n                },\\n                context,\\n            );\\n        }\\n    };\\n    var json_data = {\\\"formatted_vals\\\":[\\\"0.1\\\",\\\"0.2\\\",\\\"0.3\\\",\\\"0.4\\\",\\\"0.5\\\",\\\"0.6\\\",\\\"0.7\\\",\\\"0.8\\\",\\\"0.9\\\",\\\"1.0\\\",\\\"1.1\\\",\\\"1.2\\\",\\\"1.3\\\",\\\"1.4\\\",\\\"1.5\\\",\\\"1.6\\\",\\\"1.7\\\",\\\"1.8\\\",\\\"1.9\\\",\\\"2.0\\\"],\\\"changes\\\":WebIO.getval({\\\"name\\\":\\\"changes\\\",\\\"scope\\\":\\\"11065932035451131021\\\",\\\"id\\\":\\\"14957185859192974513\\\",\\\"type\\\":\\\"observable\\\"}),\\\"index\\\":WebIO.getval({\\\"name\\\":\\\"index\\\",\\\"scope\\\":\\\"11065932035451131021\\\",\\\"id\\\":\\\"18159200459365049113\\\",\\\"type\\\":\\\"observable\\\"})};\\n    var self = this;\\n    function AppViewModel() {\\n        for (var key in json_data) {\\n            var el = json_data[key];\\n            this[key] = Array.isArray(el) ? ko.observableArray(el) : ko.observable(el);\\n        }\\n        \\n        [this[\\\"formatted_val\\\"]=ko.computed(    function(){\\n        return this.formatted_vals()[parseInt(this.index())-(1)];\\n    }\\n,this)]\\n        [this[\\\"changes\\\"].subscribe((function (val){!(this.valueFromJulia[\\\"changes\\\"]) ? (WebIO.setval({\\\"name\\\":\\\"changes\\\",\\\"scope\\\":\\\"11065932035451131021\\\",\\\"id\\\":\\\"14957185859192974513\\\",\\\"type\\\":\\\"observable\\\"},val)) : undefined; return this.valueFromJulia[\\\"changes\\\"]=false}),self),this[\\\"index\\\"].subscribe((function (val){!(this.valueFromJulia[\\\"index\\\"]) ? (WebIO.setval({\\\"name\\\":\\\"index\\\",\\\"scope\\\":\\\"11065932035451131021\\\",\\\"id\\\":\\\"18159200459365049113\\\",\\\"type\\\":\\\"observable\\\"},val)) : undefined; return this.valueFromJulia[\\\"index\\\"]=false}),self)]\\n        \\n    }\\n    self.model = new AppViewModel();\\n    self.valueFromJulia = {};\\n    for (var key in json_data) {\\n        self.valueFromJulia[key] = false;\\n    }\\n    ko.applyBindings(self.model, self.dom);\\n}\\n);\\n    (WebIO.importBlock({\\\"data\\\":[{\\\"name\\\":\\\"knockout\\\",\\\"type\\\":\\\"js\\\",\\\"url\\\":\\\"\\/assetserver\\/727383f2a47bd31570b7da84eee7b022dd6d7c78-knockout.js\\\"},{\\\"name\\\":\\\"knockout_punches\\\",\\\"type\\\":\\\"js\\\",\\\"url\\\":\\\"\\/assetserver\\/382b41b3b1bd9f26f75861d360bad7f8beea211f-knockout_punches.js\\\"}],\\\"type\\\":\\\"async_block\\\"})).then((imports) => handler.apply(this, imports));\\n}\\n\"],\"observables\":{\"changes\":{\"sync\":false,\"id\":\"14957185859192974513\",\"value\":0},\"index\":{\"sync\":true,\"id\":\"18159200459365049113\",\"value\":10}}},\"children\":[{\"props\":{\"className\":\"interact-flex-row interact-widget\"},\"nodeType\":\"DOM\",\"type\":\"node\",\"instanceArgs\":{\"namespace\":\"html\",\"tag\":\"div\"},\"children\":[{\"props\":{\"className\":\"interact-flex-row-left\"},\"nodeType\":\"DOM\",\"type\":\"node\",\"instanceArgs\":{\"namespace\":\"html\",\"tag\":\"div\"},\"children\":[{\"props\":{\"className\":\"interact \",\"style\":{\"padding\":\"5px 10px 0px 10px\"}},\"nodeType\":\"DOM\",\"type\":\"node\",\"instanceArgs\":{\"namespace\":\"html\",\"tag\":\"label\"},\"children\":[\"scale\"]}]},{\"props\":{\"className\":\"interact-flex-row-center\"},\"nodeType\":\"DOM\",\"type\":\"node\",\"instanceArgs\":{\"namespace\":\"html\",\"tag\":\"div\"},\"children\":[{\"props\":{\"max\":20,\"min\":1,\"attributes\":{\"type\":\"range\",\"data-bind\":\"numericValue: index, valueUpdate: 'input', event: {change: function (){this.changes(this.changes()+1)}}\",\"orient\":\"horizontal\"},\"step\":1,\"className\":\"slider slider is-fullwidth\",\"style\":{}},\"nodeType\":\"DOM\",\"type\":\"node\",\"instanceArgs\":{\"namespace\":\"html\",\"tag\":\"input\"},\"children\":[]}]},{\"props\":{\"className\":\"interact-flex-row-right\"},\"nodeType\":\"DOM\",\"type\":\"node\",\"instanceArgs\":{\"namespace\":\"html\",\"tag\":\"div\"},\"children\":[{\"props\":{\"attributes\":{\"data-bind\":\"text: formatted_val\"}},\"nodeType\":\"DOM\",\"type\":\"node\",\"instanceArgs\":{\"namespace\":\"html\",\"tag\":\"p\"},\"children\":[]}]}]}]}]},{\"props\":{\"style\":{\"display\":\"flex\",\"flex-direction\":\"column\"}},\"nodeType\":\"DOM\",\"type\":\"node\",\"instanceArgs\":{\"namespace\":\"html\",\"tag\":\"div\"},\"children\":[]},{\"props\":{\"style\":{\"display\":\"flex\",\"flex-direction\":\"column\"}},\"nodeType\":\"DOM\",\"type\":\"node\",\"instanceArgs\":{\"namespace\":\"html\",\"tag\":\"div\"},\"children\":[{\"props\":{\"className\":\"field interact-widget\"},\"nodeType\":\"DOM\",\"type\":\"node\",\"instanceArgs\":{\"namespace\":\"html\",\"tag\":\"div\"},\"children\":[{\"props\":{},\"nodeType\":\"Scope\",\"type\":\"node\",\"instanceArgs\":{\"imports\":{\"data\":[{\"name\":\"knockout\",\"type\":\"js\",\"url\":\"\\/assetserver\\/727383f2a47bd31570b7da84eee7b022dd6d7c78-knockout.js\"},{\"name\":\"knockout_punches\",\"type\":\"js\",\"url\":\"\\/assetserver\\/382b41b3b1bd9f26f75861d360bad7f8beea211f-knockout_punches.js\"},{\"name\":null,\"type\":\"js\",\"url\":\"\\/assetserver\\/5ab20f1060420992a9b82a65b735dee4d81ef413-all.js\"},{\"name\":null,\"type\":\"css\",\"url\":\"\\/assetserver\\/1cc0ed62837210b80a182cc3676512f895dab686-style.css\"},{\"name\":null,\"type\":\"css\",\"url\":\"\\/assetserver\\/2eee816f616df3549d7044d45e744fbf8d42bfa1-bulma_confined.min.css\"}],\"type\":\"async_block\"},\"id\":\"16092906342514422039\",\"handlers\":{\"changes\":[\"(function (val){return (val!=this.model[\\\"changes\\\"]()) ? (this.valueFromJulia[\\\"changes\\\"]=true, this.model[\\\"changes\\\"](val)) : undefined})\"],\"index\":[\"(function (val){return (val!=this.model[\\\"index\\\"]()) ? (this.valueFromJulia[\\\"index\\\"]=true, this.model[\\\"index\\\"](val)) : undefined})\"]},\"systemjs_options\":null,\"mount_callbacks\":[\"function () {\\n    var handler = (function (ko, koPunches) {\\n    ko.punches.enableAll();\\n    ko.bindingHandlers.numericValue = {\\n        init: function(element, valueAccessor, allBindings, data, context) {\\n            var stringified = ko.observable(ko.unwrap(valueAccessor()));\\n            stringified.subscribe(function(value) {\\n                var val = parseFloat(value);\\n                if (!isNaN(val)) {\\n                    valueAccessor()(val);\\n                }\\n            });\\n            valueAccessor().subscribe(function(value) {\\n                var str = JSON.stringify(value);\\n                if ((str == \\\"0\\\") && ([\\\"-0\\\", \\\"-0.\\\"].indexOf(stringified()) >= 0))\\n                     return;\\n                 if ([\\\"null\\\", \\\"\\\"].indexOf(str) >= 0)\\n                     return;\\n                stringified(str);\\n            });\\n            ko.applyBindingsToNode(\\n                element,\\n                {\\n                    value: stringified,\\n                    valueUpdate: allBindings.get('valueUpdate'),\\n                },\\n                context,\\n            );\\n        }\\n    };\\n    var json_data = {\\\"formatted_vals\\\":[\\\"0.01\\\",\\\"0.11\\\",\\\"0.21\\\",\\\"0.31\\\",\\\"0.41\\\",\\\"0.51\\\",\\\"0.61\\\",\\\"0.71\\\",\\\"0.81\\\",\\\"0.91\\\"],\\\"changes\\\":WebIO.getval({\\\"name\\\":\\\"changes\\\",\\\"scope\\\":\\\"16092906342514422039\\\",\\\"id\\\":\\\"5973295873103948995\\\",\\\"type\\\":\\\"observable\\\"}),\\\"index\\\":WebIO.getval({\\\"name\\\":\\\"index\\\",\\\"scope\\\":\\\"16092906342514422039\\\",\\\"id\\\":\\\"14709774809146268057\\\",\\\"type\\\":\\\"observable\\\"})};\\n    var self = this;\\n    function AppViewModel() {\\n        for (var key in json_data) {\\n            var el = json_data[key];\\n            this[key] = Array.isArray(el) ? ko.observableArray(el) : ko.observable(el);\\n        }\\n        \\n        [this[\\\"formatted_val\\\"]=ko.computed(    function(){\\n        return this.formatted_vals()[parseInt(this.index())-(1)];\\n    }\\n,this)]\\n        [this[\\\"changes\\\"].subscribe((function (val){!(this.valueFromJulia[\\\"changes\\\"]) ? (WebIO.setval({\\\"name\\\":\\\"changes\\\",\\\"scope\\\":\\\"16092906342514422039\\\",\\\"id\\\":\\\"5973295873103948995\\\",\\\"type\\\":\\\"observable\\\"},val)) : undefined; return this.valueFromJulia[\\\"changes\\\"]=false}),self),this[\\\"index\\\"].subscribe((function (val){!(this.valueFromJulia[\\\"index\\\"]) ? (WebIO.setval({\\\"name\\\":\\\"index\\\",\\\"scope\\\":\\\"16092906342514422039\\\",\\\"id\\\":\\\"14709774809146268057\\\",\\\"type\\\":\\\"observable\\\"},val)) : undefined; return this.valueFromJulia[\\\"index\\\"]=false}),self)]\\n        \\n    }\\n    self.model = new AppViewModel();\\n    self.valueFromJulia = {};\\n    for (var key in json_data) {\\n        self.valueFromJulia[key] = false;\\n    }\\n    ko.applyBindings(self.model, self.dom);\\n}\\n);\\n    (WebIO.importBlock({\\\"data\\\":[{\\\"name\\\":\\\"knockout\\\",\\\"type\\\":\\\"js\\\",\\\"url\\\":\\\"\\/assetserver\\/727383f2a47bd31570b7da84eee7b022dd6d7c78-knockout.js\\\"},{\\\"name\\\":\\\"knockout_punches\\\",\\\"type\\\":\\\"js\\\",\\\"url\\\":\\\"\\/assetserver\\/382b41b3b1bd9f26f75861d360bad7f8beea211f-knockout_punches.js\\\"}],\\\"type\\\":\\\"async_block\\\"})).then((imports) => handler.apply(this, imports));\\n}\\n\"],\"observables\":{\"changes\":{\"sync\":false,\"id\":\"5973295873103948995\",\"value\":0},\"index\":{\"sync\":true,\"id\":\"14709774809146268057\",\"value\":5}}},\"children\":[{\"props\":{\"className\":\"interact-flex-row interact-widget\"},\"nodeType\":\"DOM\",\"type\":\"node\",\"instanceArgs\":{\"namespace\":\"html\",\"tag\":\"div\"},\"children\":[{\"props\":{\"className\":\"interact-flex-row-left\"},\"nodeType\":\"DOM\",\"type\":\"node\",\"instanceArgs\":{\"namespace\":\"html\",\"tag\":\"div\"},\"children\":[{\"props\":{\"className\":\"interact \",\"style\":{\"padding\":\"5px 10px 0px 10px\"}},\"nodeType\":\"DOM\",\"type\":\"node\",\"instanceArgs\":{\"namespace\":\"html\",\"tag\":\"label\"},\"children\":[\"min_dis\"]}]},{\"props\":{\"className\":\"interact-flex-row-center\"},\"nodeType\":\"DOM\",\"type\":\"node\",\"instanceArgs\":{\"namespace\":\"html\",\"tag\":\"div\"},\"children\":[{\"props\":{\"max\":10,\"min\":1,\"attributes\":{\"type\":\"range\",\"data-bind\":\"numericValue: index, valueUpdate: 'input', event: {change: function (){this.changes(this.changes()+1)}}\",\"orient\":\"horizontal\"},\"step\":1,\"className\":\"slider slider is-fullwidth\",\"style\":{}},\"nodeType\":\"DOM\",\"type\":\"node\",\"instanceArgs\":{\"namespace\":\"html\",\"tag\":\"input\"},\"children\":[]}]},{\"props\":{\"className\":\"interact-flex-row-right\"},\"nodeType\":\"DOM\",\"type\":\"node\",\"instanceArgs\":{\"namespace\":\"html\",\"tag\":\"div\"},\"children\":[{\"props\":{\"attributes\":{\"data-bind\":\"text: formatted_val\"}},\"nodeType\":\"DOM\",\"type\":\"node\",\"instanceArgs\":{\"namespace\":\"html\",\"tag\":\"p\"},\"children\":[]}]}]}]}]},{\"props\":{\"className\":\"field interact-widget\"},\"nodeType\":\"DOM\",\"type\":\"node\",\"instanceArgs\":{\"namespace\":\"html\",\"tag\":\"div\"},\"children\":[{\"props\":{},\"nodeType\":\"Scope\",\"type\":\"node\",\"instanceArgs\":{\"imports\":{\"data\":[{\"name\":\"knockout\",\"type\":\"js\",\"url\":\"\\/assetserver\\/727383f2a47bd31570b7da84eee7b022dd6d7c78-knockout.js\"},{\"name\":\"knockout_punches\",\"type\":\"js\",\"url\":\"\\/assetserver\\/382b41b3b1bd9f26f75861d360bad7f8beea211f-knockout_punches.js\"},{\"name\":null,\"type\":\"js\",\"url\":\"\\/assetserver\\/5ab20f1060420992a9b82a65b735dee4d81ef413-all.js\"},{\"name\":null,\"type\":\"css\",\"url\":\"\\/assetserver\\/1cc0ed62837210b80a182cc3676512f895dab686-style.css\"},{\"name\":null,\"type\":\"css\",\"url\":\"\\/assetserver\\/2eee816f616df3549d7044d45e744fbf8d42bfa1-bulma_confined.min.css\"}],\"type\":\"async_block\"},\"id\":\"11821494977344306385\",\"handlers\":{\"changes\":[\"(function (val){return (val!=this.model[\\\"changes\\\"]()) ? (this.valueFromJulia[\\\"changes\\\"]=true, this.model[\\\"changes\\\"](val)) : undefined})\"],\"index\":[\"(function (val){return (val!=this.model[\\\"index\\\"]()) ? (this.valueFromJulia[\\\"index\\\"]=true, this.model[\\\"index\\\"](val)) : undefined})\"]},\"systemjs_options\":null,\"mount_callbacks\":[\"function () {\\n    var handler = (function (ko, koPunches) {\\n    ko.punches.enableAll();\\n    ko.bindingHandlers.numericValue = {\\n        init: function(element, valueAccessor, allBindings, data, context) {\\n            var stringified = ko.observable(ko.unwrap(valueAccessor()));\\n            stringified.subscribe(function(value) {\\n                var val = parseFloat(value);\\n                if (!isNaN(val)) {\\n                    valueAccessor()(val);\\n                }\\n            });\\n            valueAccessor().subscribe(function(value) {\\n                var str = JSON.stringify(value);\\n                if ((str == \\\"0\\\") && ([\\\"-0\\\", \\\"-0.\\\"].indexOf(stringified()) >= 0))\\n                     return;\\n                 if ([\\\"null\\\", \\\"\\\"].indexOf(str) >= 0)\\n                     return;\\n                stringified(str);\\n            });\\n            ko.applyBindingsToNode(\\n                element,\\n                {\\n                    value: stringified,\\n                    valueUpdate: allBindings.get('valueUpdate'),\\n                },\\n                context,\\n            );\\n        }\\n    };\\n    var json_data = {\\\"formatted_vals\\\":[\\\"0.01\\\",\\\"0.02\\\",\\\"0.03\\\",\\\"0.04\\\",\\\"0.05\\\",\\\"0.06\\\",\\\"0.07\\\",\\\"0.08\\\",\\\"0.09\\\",\\\"0.1\\\",\\\"0.11\\\",\\\"0.12\\\",\\\"0.13\\\",\\\"0.14\\\",\\\"0.15\\\",\\\"0.16\\\",\\\"0.17\\\",\\\"0.18\\\",\\\"0.19\\\",\\\"0.2\\\",\\\"0.21\\\",\\\"0.22\\\",\\\"0.23\\\",\\\"0.24\\\",\\\"0.25\\\",\\\"0.26\\\",\\\"0.27\\\",\\\"0.28\\\",\\\"0.29\\\",\\\"0.3\\\",\\\"0.31\\\",\\\"0.32\\\",\\\"0.33\\\",\\\"0.34\\\",\\\"0.35\\\",\\\"0.36\\\",\\\"0.37\\\",\\\"0.38\\\",\\\"0.39\\\",\\\"0.4\\\",\\\"0.41\\\",\\\"0.42\\\",\\\"0.43\\\",\\\"0.44\\\",\\\"0.45\\\",\\\"0.46\\\",\\\"0.47\\\",\\\"0.48\\\",\\\"0.49\\\",\\\"0.5\\\",\\\"0.51\\\",\\\"0.52\\\",\\\"0.53\\\",\\\"0.54\\\",\\\"0.55\\\",\\\"0.56\\\",\\\"0.57\\\",\\\"0.58\\\",\\\"0.59\\\",\\\"0.6\\\",\\\"0.61\\\",\\\"0.62\\\",\\\"0.63\\\",\\\"0.64\\\",\\\"0.65\\\",\\\"0.66\\\",\\\"0.67\\\",\\\"0.68\\\",\\\"0.69\\\",\\\"0.7\\\",\\\"0.71\\\",\\\"0.72\\\",\\\"0.73\\\",\\\"0.74\\\",\\\"0.75\\\",\\\"0.76\\\",\\\"0.77\\\",\\\"0.78\\\",\\\"0.79\\\",\\\"0.8\\\",\\\"0.81\\\",\\\"0.82\\\",\\\"0.83\\\",\\\"0.84\\\",\\\"0.85\\\",\\\"0.86\\\",\\\"0.87\\\",\\\"0.88\\\",\\\"0.89\\\",\\\"0.9\\\",\\\"0.91\\\",\\\"0.92\\\",\\\"0.93\\\",\\\"0.94\\\",\\\"0.95\\\",\\\"0.96\\\",\\\"0.97\\\",\\\"0.98\\\",\\\"0.99\\\",\\\"1.0\\\"],\\\"changes\\\":WebIO.getval({\\\"name\\\":\\\"changes\\\",\\\"scope\\\":\\\"11821494977344306385\\\",\\\"id\\\":\\\"465375543230608361\\\",\\\"type\\\":\\\"observable\\\"}),\\\"index\\\":WebIO.getval({\\\"name\\\":\\\"index\\\",\\\"scope\\\":\\\"11821494977344306385\\\",\\\"id\\\":\\\"1385667437532631077\\\",\\\"type\\\":\\\"observable\\\"})};\\n    var self = this;\\n    function AppViewModel() {\\n        for (var key in json_data) {\\n            var el = json_data[key];\\n            this[key] = Array.isArray(el) ? ko.observableArray(el) : ko.observable(el);\\n        }\\n        \\n        [this[\\\"formatted_val\\\"]=ko.computed(    function(){\\n        return this.formatted_vals()[parseInt(this.index())-(1)];\\n    }\\n,this)]\\n        [this[\\\"changes\\\"].subscribe((function (val){!(this.valueFromJulia[\\\"changes\\\"]) ? (WebIO.setval({\\\"name\\\":\\\"changes\\\",\\\"scope\\\":\\\"11821494977344306385\\\",\\\"id\\\":\\\"465375543230608361\\\",\\\"type\\\":\\\"observable\\\"},val)) : undefined; return this.valueFromJulia[\\\"changes\\\"]=false}),self),this[\\\"index\\\"].subscribe((function (val){!(this.valueFromJulia[\\\"index\\\"]) ? (WebIO.setval({\\\"name\\\":\\\"index\\\",\\\"scope\\\":\\\"11821494977344306385\\\",\\\"id\\\":\\\"1385667437532631077\\\",\\\"type\\\":\\\"observable\\\"},val)) : undefined; return this.valueFromJulia[\\\"index\\\"]=false}),self)]\\n        \\n    }\\n    self.model = new AppViewModel();\\n    self.valueFromJulia = {};\\n    for (var key in json_data) {\\n        self.valueFromJulia[key] = false;\\n    }\\n    ko.applyBindings(self.model, self.dom);\\n}\\n);\\n    (WebIO.importBlock({\\\"data\\\":[{\\\"name\\\":\\\"knockout\\\",\\\"type\\\":\\\"js\\\",\\\"url\\\":\\\"\\/assetserver\\/727383f2a47bd31570b7da84eee7b022dd6d7c78-knockout.js\\\"},{\\\"name\\\":\\\"knockout_punches\\\",\\\"type\\\":\\\"js\\\",\\\"url\\\":\\\"\\/assetserver\\/382b41b3b1bd9f26f75861d360bad7f8beea211f-knockout_punches.js\\\"}],\\\"type\\\":\\\"async_block\\\"})).then((imports) => handler.apply(this, imports));\\n}\\n\"],\"observables\":{\"changes\":{\"sync\":false,\"id\":\"465375543230608361\",\"value\":0},\"index\":{\"sync\":true,\"id\":\"1385667437532631077\",\"value\":50}}},\"children\":[{\"props\":{\"className\":\"interact-flex-row interact-widget\"},\"nodeType\":\"DOM\",\"type\":\"node\",\"instanceArgs\":{\"namespace\":\"html\",\"tag\":\"div\"},\"children\":[{\"props\":{\"className\":\"interact-flex-row-left\"},\"nodeType\":\"DOM\",\"type\":\"node\",\"instanceArgs\":{\"namespace\":\"html\",\"tag\":\"div\"},\"children\":[{\"props\":{\"className\":\"interact \",\"style\":{\"padding\":\"5px 10px 0px 10px\"}},\"nodeType\":\"DOM\",\"type\":\"node\",\"instanceArgs\":{\"namespace\":\"html\",\"tag\":\"label\"},\"children\":[\"coh_fac\"]}]},{\"props\":{\"className\":\"interact-flex-row-center\"},\"nodeType\":\"DOM\",\"type\":\"node\",\"instanceArgs\":{\"namespace\":\"html\",\"tag\":\"div\"},\"children\":[{\"props\":{\"max\":100,\"min\":1,\"attributes\":{\"type\":\"range\",\"data-bind\":\"numericValue: index, valueUpdate: 'input', event: {change: function (){this.changes(this.changes()+1)}}\",\"orient\":\"horizontal\"},\"step\":1,\"className\":\"slider slider is-fullwidth\",\"style\":{}},\"nodeType\":\"DOM\",\"type\":\"node\",\"instanceArgs\":{\"namespace\":\"html\",\"tag\":\"input\"},\"children\":[]}]},{\"props\":{\"className\":\"interact-flex-row-right\"},\"nodeType\":\"DOM\",\"type\":\"node\",\"instanceArgs\":{\"namespace\":\"html\",\"tag\":\"div\"},\"children\":[{\"props\":{\"attributes\":{\"data-bind\":\"text: formatted_val\"}},\"nodeType\":\"DOM\",\"type\":\"node\",\"instanceArgs\":{\"namespace\":\"html\",\"tag\":\"p\"},\"children\":[]}]}]}]}]},{\"props\":{\"className\":\"field interact-widget\"},\"nodeType\":\"DOM\",\"type\":\"node\",\"instanceArgs\":{\"namespace\":\"html\",\"tag\":\"div\"},\"children\":[{\"props\":{},\"nodeType\":\"Scope\",\"type\":\"node\",\"instanceArgs\":{\"imports\":{\"data\":[{\"name\":\"knockout\",\"type\":\"js\",\"url\":\"\\/assetserver\\/727383f2a47bd31570b7da84eee7b022dd6d7c78-knockout.js\"},{\"name\":\"knockout_punches\",\"type\":\"js\",\"url\":\"\\/assetserver\\/382b41b3b1bd9f26f75861d360bad7f8beea211f-knockout_punches.js\"},{\"name\":null,\"type\":\"js\",\"url\":\"\\/assetserver\\/5ab20f1060420992a9b82a65b735dee4d81ef413-all.js\"},{\"name\":null,\"type\":\"css\",\"url\":\"\\/assetserver\\/1cc0ed62837210b80a182cc3676512f895dab686-style.css\"},{\"name\":null,\"type\":\"css\",\"url\":\"\\/assetserver\\/2eee816f616df3549d7044d45e744fbf8d42bfa1-bulma_confined.min.css\"}],\"type\":\"async_block\"},\"id\":\"8806194648704627601\",\"handlers\":{\"changes\":[\"(function (val){return (val!=this.model[\\\"changes\\\"]()) ? (this.valueFromJulia[\\\"changes\\\"]=true, this.model[\\\"changes\\\"](val)) : undefined})\"],\"index\":[\"(function (val){return (val!=this.model[\\\"index\\\"]()) ? (this.valueFromJulia[\\\"index\\\"]=true, this.model[\\\"index\\\"](val)) : undefined})\"]},\"systemjs_options\":null,\"mount_callbacks\":[\"function () {\\n    var handler = (function (ko, koPunches) {\\n    ko.punches.enableAll();\\n    ko.bindingHandlers.numericValue = {\\n        init: function(element, valueAccessor, allBindings, data, context) {\\n            var stringified = ko.observable(ko.unwrap(valueAccessor()));\\n            stringified.subscribe(function(value) {\\n                var val = parseFloat(value);\\n                if (!isNaN(val)) {\\n                    valueAccessor()(val);\\n                }\\n            });\\n            valueAccessor().subscribe(function(value) {\\n                var str = JSON.stringify(value);\\n                if ((str == \\\"0\\\") && ([\\\"-0\\\", \\\"-0.\\\"].indexOf(stringified()) >= 0))\\n                     return;\\n                 if ([\\\"null\\\", \\\"\\\"].indexOf(str) >= 0)\\n                     return;\\n                stringified(str);\\n            });\\n            ko.applyBindingsToNode(\\n                element,\\n                {\\n                    value: stringified,\\n                    valueUpdate: allBindings.get('valueUpdate'),\\n                },\\n                context,\\n            );\\n        }\\n    };\\n    var json_data = {\\\"formatted_vals\\\":[\\\"0.01\\\",\\\"0.02\\\",\\\"0.03\\\",\\\"0.04\\\",\\\"0.05\\\",\\\"0.06\\\",\\\"0.07\\\",\\\"0.08\\\",\\\"0.09\\\",\\\"0.1\\\",\\\"0.11\\\",\\\"0.12\\\",\\\"0.13\\\",\\\"0.14\\\",\\\"0.15\\\",\\\"0.16\\\",\\\"0.17\\\",\\\"0.18\\\",\\\"0.19\\\",\\\"0.2\\\",\\\"0.21\\\",\\\"0.22\\\",\\\"0.23\\\",\\\"0.24\\\",\\\"0.25\\\",\\\"0.26\\\",\\\"0.27\\\",\\\"0.28\\\",\\\"0.29\\\",\\\"0.3\\\",\\\"0.31\\\",\\\"0.32\\\",\\\"0.33\\\",\\\"0.34\\\",\\\"0.35\\\",\\\"0.36\\\",\\\"0.37\\\",\\\"0.38\\\",\\\"0.39\\\",\\\"0.4\\\",\\\"0.41\\\",\\\"0.42\\\",\\\"0.43\\\",\\\"0.44\\\",\\\"0.45\\\",\\\"0.46\\\",\\\"0.47\\\",\\\"0.48\\\",\\\"0.49\\\",\\\"0.5\\\",\\\"0.51\\\",\\\"0.52\\\",\\\"0.53\\\",\\\"0.54\\\",\\\"0.55\\\",\\\"0.56\\\",\\\"0.57\\\",\\\"0.58\\\",\\\"0.59\\\",\\\"0.6\\\",\\\"0.61\\\",\\\"0.62\\\",\\\"0.63\\\",\\\"0.64\\\",\\\"0.65\\\",\\\"0.66\\\",\\\"0.67\\\",\\\"0.68\\\",\\\"0.69\\\",\\\"0.7\\\",\\\"0.71\\\",\\\"0.72\\\",\\\"0.73\\\",\\\"0.74\\\",\\\"0.75\\\",\\\"0.76\\\",\\\"0.77\\\",\\\"0.78\\\",\\\"0.79\\\",\\\"0.8\\\",\\\"0.81\\\",\\\"0.82\\\",\\\"0.83\\\",\\\"0.84\\\",\\\"0.85\\\",\\\"0.86\\\",\\\"0.87\\\",\\\"0.88\\\",\\\"0.89\\\",\\\"0.9\\\",\\\"0.91\\\",\\\"0.92\\\",\\\"0.93\\\",\\\"0.94\\\",\\\"0.95\\\",\\\"0.96\\\",\\\"0.97\\\",\\\"0.98\\\",\\\"0.99\\\",\\\"1.0\\\"],\\\"changes\\\":WebIO.getval({\\\"name\\\":\\\"changes\\\",\\\"scope\\\":\\\"8806194648704627601\\\",\\\"id\\\":\\\"11939334350932512186\\\",\\\"type\\\":\\\"observable\\\"}),\\\"index\\\":WebIO.getval({\\\"name\\\":\\\"index\\\",\\\"scope\\\":\\\"8806194648704627601\\\",\\\"id\\\":\\\"8423217492201533364\\\",\\\"type\\\":\\\"observable\\\"})};\\n    var self = this;\\n    function AppViewModel() {\\n        for (var key in json_data) {\\n            var el = json_data[key];\\n            this[key] = Array.isArray(el) ? ko.observableArray(el) : ko.observable(el);\\n        }\\n        \\n        [this[\\\"formatted_val\\\"]=ko.computed(    function(){\\n        return this.formatted_vals()[parseInt(this.index())-(1)];\\n    }\\n,this)]\\n        [this[\\\"changes\\\"].subscribe((function (val){!(this.valueFromJulia[\\\"changes\\\"]) ? (WebIO.setval({\\\"name\\\":\\\"changes\\\",\\\"scope\\\":\\\"8806194648704627601\\\",\\\"id\\\":\\\"11939334350932512186\\\",\\\"type\\\":\\\"observable\\\"},val)) : undefined; return this.valueFromJulia[\\\"changes\\\"]=false}),self),this[\\\"index\\\"].subscribe((function (val){!(this.valueFromJulia[\\\"index\\\"]) ? (WebIO.setval({\\\"name\\\":\\\"index\\\",\\\"scope\\\":\\\"8806194648704627601\\\",\\\"id\\\":\\\"8423217492201533364\\\",\\\"type\\\":\\\"observable\\\"},val)) : undefined; return this.valueFromJulia[\\\"index\\\"]=false}),self)]\\n        \\n    }\\n    self.model = new AppViewModel();\\n    self.valueFromJulia = {};\\n    for (var key in json_data) {\\n        self.valueFromJulia[key] = false;\\n    }\\n    ko.applyBindings(self.model, self.dom);\\n}\\n);\\n    (WebIO.importBlock({\\\"data\\\":[{\\\"name\\\":\\\"knockout\\\",\\\"type\\\":\\\"js\\\",\\\"url\\\":\\\"\\/assetserver\\/727383f2a47bd31570b7da84eee7b022dd6d7c78-knockout.js\\\"},{\\\"name\\\":\\\"knockout_punches\\\",\\\"type\\\":\\\"js\\\",\\\"url\\\":\\\"\\/assetserver\\/382b41b3b1bd9f26f75861d360bad7f8beea211f-knockout_punches.js\\\"}],\\\"type\\\":\\\"async_block\\\"})).then((imports) => handler.apply(this, imports));\\n}\\n\"],\"observables\":{\"changes\":{\"sync\":false,\"id\":\"11939334350932512186\",\"value\":0},\"index\":{\"sync\":true,\"id\":\"8423217492201533364\",\"value\":50}}},\"children\":[{\"props\":{\"className\":\"interact-flex-row interact-widget\"},\"nodeType\":\"DOM\",\"type\":\"node\",\"instanceArgs\":{\"namespace\":\"html\",\"tag\":\"div\"},\"children\":[{\"props\":{\"className\":\"interact-flex-row-left\"},\"nodeType\":\"DOM\",\"type\":\"node\",\"instanceArgs\":{\"namespace\":\"html\",\"tag\":\"div\"},\"children\":[{\"props\":{\"className\":\"interact \",\"style\":{\"padding\":\"5px 10px 0px 10px\"}},\"nodeType\":\"DOM\",\"type\":\"node\",\"instanceArgs\":{\"namespace\":\"html\",\"tag\":\"label\"},\"children\":[\"sep_fac\"]}]},{\"props\":{\"className\":\"interact-flex-row-center\"},\"nodeType\":\"DOM\",\"type\":\"node\",\"instanceArgs\":{\"namespace\":\"html\",\"tag\":\"div\"},\"children\":[{\"props\":{\"max\":100,\"min\":1,\"attributes\":{\"type\":\"range\",\"data-bind\":\"numericValue: index, valueUpdate: 'input', event: {change: function (){this.changes(this.changes()+1)}}\",\"orient\":\"horizontal\"},\"step\":1,\"className\":\"slider slider is-fullwidth\",\"style\":{}},\"nodeType\":\"DOM\",\"type\":\"node\",\"instanceArgs\":{\"namespace\":\"html\",\"tag\":\"input\"},\"children\":[]}]},{\"props\":{\"className\":\"interact-flex-row-right\"},\"nodeType\":\"DOM\",\"type\":\"node\",\"instanceArgs\":{\"namespace\":\"html\",\"tag\":\"div\"},\"children\":[{\"props\":{\"attributes\":{\"data-bind\":\"text: formatted_val\"}},\"nodeType\":\"DOM\",\"type\":\"node\",\"instanceArgs\":{\"namespace\":\"html\",\"tag\":\"p\"},\"children\":[]}]}]}]}]},{\"props\":{\"className\":\"field interact-widget\"},\"nodeType\":\"DOM\",\"type\":\"node\",\"instanceArgs\":{\"namespace\":\"html\",\"tag\":\"div\"},\"children\":[{\"props\":{},\"nodeType\":\"Scope\",\"type\":\"node\",\"instanceArgs\":{\"imports\":{\"data\":[{\"name\":\"knockout\",\"type\":\"js\",\"url\":\"\\/assetserver\\/727383f2a47bd31570b7da84eee7b022dd6d7c78-knockout.js\"},{\"name\":\"knockout_punches\",\"type\":\"js\",\"url\":\"\\/assetserver\\/382b41b3b1bd9f26f75861d360bad7f8beea211f-knockout_punches.js\"},{\"name\":null,\"type\":\"js\",\"url\":\"\\/assetserver\\/5ab20f1060420992a9b82a65b735dee4d81ef413-all.js\"},{\"name\":null,\"type\":\"css\",\"url\":\"\\/assetserver\\/1cc0ed62837210b80a182cc3676512f895dab686-style.css\"},{\"name\":null,\"type\":\"css\",\"url\":\"\\/assetserver\\/2eee816f616df3549d7044d45e744fbf8d42bfa1-bulma_confined.min.css\"}],\"type\":\"async_block\"},\"id\":\"15620187703232709577\",\"handlers\":{\"changes\":[\"(function (val){return (val!=this.model[\\\"changes\\\"]()) ? (this.valueFromJulia[\\\"changes\\\"]=true, this.model[\\\"changes\\\"](val)) : undefined})\"],\"index\":[\"(function (val){return (val!=this.model[\\\"index\\\"]()) ? (this.valueFromJulia[\\\"index\\\"]=true, this.model[\\\"index\\\"](val)) : undefined})\"]},\"systemjs_options\":null,\"mount_callbacks\":[\"function () {\\n    var handler = (function (ko, koPunches) {\\n    ko.punches.enableAll();\\n    ko.bindingHandlers.numericValue = {\\n        init: function(element, valueAccessor, allBindings, data, context) {\\n            var stringified = ko.observable(ko.unwrap(valueAccessor()));\\n            stringified.subscribe(function(value) {\\n                var val = parseFloat(value);\\n                if (!isNaN(val)) {\\n                    valueAccessor()(val);\\n                }\\n            });\\n            valueAccessor().subscribe(function(value) {\\n                var str = JSON.stringify(value);\\n                if ((str == \\\"0\\\") && ([\\\"-0\\\", \\\"-0.\\\"].indexOf(stringified()) >= 0))\\n                     return;\\n                 if ([\\\"null\\\", \\\"\\\"].indexOf(str) >= 0)\\n                     return;\\n                stringified(str);\\n            });\\n            ko.applyBindingsToNode(\\n                element,\\n                {\\n                    value: stringified,\\n                    valueUpdate: allBindings.get('valueUpdate'),\\n                },\\n                context,\\n            );\\n        }\\n    };\\n    var json_data = {\\\"formatted_vals\\\":[\\\"0.01\\\",\\\"0.02\\\",\\\"0.03\\\",\\\"0.04\\\",\\\"0.05\\\",\\\"0.06\\\",\\\"0.07\\\",\\\"0.08\\\",\\\"0.09\\\",\\\"0.1\\\",\\\"0.11\\\",\\\"0.12\\\",\\\"0.13\\\",\\\"0.14\\\",\\\"0.15\\\",\\\"0.16\\\",\\\"0.17\\\",\\\"0.18\\\",\\\"0.19\\\",\\\"0.2\\\",\\\"0.21\\\",\\\"0.22\\\",\\\"0.23\\\",\\\"0.24\\\",\\\"0.25\\\",\\\"0.26\\\",\\\"0.27\\\",\\\"0.28\\\",\\\"0.29\\\",\\\"0.3\\\",\\\"0.31\\\",\\\"0.32\\\",\\\"0.33\\\",\\\"0.34\\\",\\\"0.35\\\",\\\"0.36\\\",\\\"0.37\\\",\\\"0.38\\\",\\\"0.39\\\",\\\"0.4\\\",\\\"0.41\\\",\\\"0.42\\\",\\\"0.43\\\",\\\"0.44\\\",\\\"0.45\\\",\\\"0.46\\\",\\\"0.47\\\",\\\"0.48\\\",\\\"0.49\\\",\\\"0.5\\\",\\\"0.51\\\",\\\"0.52\\\",\\\"0.53\\\",\\\"0.54\\\",\\\"0.55\\\",\\\"0.56\\\",\\\"0.57\\\",\\\"0.58\\\",\\\"0.59\\\",\\\"0.6\\\",\\\"0.61\\\",\\\"0.62\\\",\\\"0.63\\\",\\\"0.64\\\",\\\"0.65\\\",\\\"0.66\\\",\\\"0.67\\\",\\\"0.68\\\",\\\"0.69\\\",\\\"0.7\\\",\\\"0.71\\\",\\\"0.72\\\",\\\"0.73\\\",\\\"0.74\\\",\\\"0.75\\\",\\\"0.76\\\",\\\"0.77\\\",\\\"0.78\\\",\\\"0.79\\\",\\\"0.8\\\",\\\"0.81\\\",\\\"0.82\\\",\\\"0.83\\\",\\\"0.84\\\",\\\"0.85\\\",\\\"0.86\\\",\\\"0.87\\\",\\\"0.88\\\",\\\"0.89\\\",\\\"0.9\\\",\\\"0.91\\\",\\\"0.92\\\",\\\"0.93\\\",\\\"0.94\\\",\\\"0.95\\\",\\\"0.96\\\",\\\"0.97\\\",\\\"0.98\\\",\\\"0.99\\\",\\\"1.0\\\"],\\\"changes\\\":WebIO.getval({\\\"name\\\":\\\"changes\\\",\\\"scope\\\":\\\"15620187703232709577\\\",\\\"id\\\":\\\"6791534094706814421\\\",\\\"type\\\":\\\"observable\\\"}),\\\"index\\\":WebIO.getval({\\\"name\\\":\\\"index\\\",\\\"scope\\\":\\\"15620187703232709577\\\",\\\"id\\\":\\\"11299876624349391014\\\",\\\"type\\\":\\\"observable\\\"})};\\n    var self = this;\\n    function AppViewModel() {\\n        for (var key in json_data) {\\n            var el = json_data[key];\\n            this[key] = Array.isArray(el) ? ko.observableArray(el) : ko.observable(el);\\n        }\\n        \\n        [this[\\\"formatted_val\\\"]=ko.computed(    function(){\\n        return this.formatted_vals()[parseInt(this.index())-(1)];\\n    }\\n,this)]\\n        [this[\\\"changes\\\"].subscribe((function (val){!(this.valueFromJulia[\\\"changes\\\"]) ? (WebIO.setval({\\\"name\\\":\\\"changes\\\",\\\"scope\\\":\\\"15620187703232709577\\\",\\\"id\\\":\\\"6791534094706814421\\\",\\\"type\\\":\\\"observable\\\"},val)) : undefined; return this.valueFromJulia[\\\"changes\\\"]=false}),self),this[\\\"index\\\"].subscribe((function (val){!(this.valueFromJulia[\\\"index\\\"]) ? (WebIO.setval({\\\"name\\\":\\\"index\\\",\\\"scope\\\":\\\"15620187703232709577\\\",\\\"id\\\":\\\"11299876624349391014\\\",\\\"type\\\":\\\"observable\\\"},val)) : undefined; return this.valueFromJulia[\\\"index\\\"]=false}),self)]\\n        \\n    }\\n    self.model = new AppViewModel();\\n    self.valueFromJulia = {};\\n    for (var key in json_data) {\\n        self.valueFromJulia[key] = false;\\n    }\\n    ko.applyBindings(self.model, self.dom);\\n}\\n);\\n    (WebIO.importBlock({\\\"data\\\":[{\\\"name\\\":\\\"knockout\\\",\\\"type\\\":\\\"js\\\",\\\"url\\\":\\\"\\/assetserver\\/727383f2a47bd31570b7da84eee7b022dd6d7c78-knockout.js\\\"},{\\\"name\\\":\\\"knockout_punches\\\",\\\"type\\\":\\\"js\\\",\\\"url\\\":\\\"\\/assetserver\\/382b41b3b1bd9f26f75861d360bad7f8beea211f-knockout_punches.js\\\"}],\\\"type\\\":\\\"async_block\\\"})).then((imports) => handler.apply(this, imports));\\n}\\n\"],\"observables\":{\"changes\":{\"sync\":false,\"id\":\"6791534094706814421\",\"value\":0},\"index\":{\"sync\":true,\"id\":\"11299876624349391014\",\"value\":50}}},\"children\":[{\"props\":{\"className\":\"interact-flex-row interact-widget\"},\"nodeType\":\"DOM\",\"type\":\"node\",\"instanceArgs\":{\"namespace\":\"html\",\"tag\":\"div\"},\"children\":[{\"props\":{\"className\":\"interact-flex-row-left\"},\"nodeType\":\"DOM\",\"type\":\"node\",\"instanceArgs\":{\"namespace\":\"html\",\"tag\":\"div\"},\"children\":[{\"props\":{\"className\":\"interact \",\"style\":{\"padding\":\"5px 10px 0px 10px\"}},\"nodeType\":\"DOM\",\"type\":\"node\",\"instanceArgs\":{\"namespace\":\"html\",\"tag\":\"label\"},\"children\":[\"aln_fac\"]}]},{\"props\":{\"className\":\"interact-flex-row-center\"},\"nodeType\":\"DOM\",\"type\":\"node\",\"instanceArgs\":{\"namespace\":\"html\",\"tag\":\"div\"},\"children\":[{\"props\":{\"max\":100,\"min\":1,\"attributes\":{\"type\":\"range\",\"data-bind\":\"numericValue: index, valueUpdate: 'input', event: {change: function (){this.changes(this.changes()+1)}}\",\"orient\":\"horizontal\"},\"step\":1,\"className\":\"slider slider is-fullwidth\",\"style\":{}},\"nodeType\":\"DOM\",\"type\":\"node\",\"instanceArgs\":{\"namespace\":\"html\",\"tag\":\"input\"},\"children\":[]}]},{\"props\":{\"className\":\"interact-flex-row-right\"},\"nodeType\":\"DOM\",\"type\":\"node\",\"instanceArgs\":{\"namespace\":\"html\",\"tag\":\"div\"},\"children\":[{\"props\":{\"attributes\":{\"data-bind\":\"text: formatted_val\"}},\"nodeType\":\"DOM\",\"type\":\"node\",\"instanceArgs\":{\"namespace\":\"html\",\"tag\":\"p\"},\"children\":[]}]}]}]}]},{\"props\":{\"className\":\"field interact-widget\"},\"nodeType\":\"DOM\",\"type\":\"node\",\"instanceArgs\":{\"namespace\":\"html\",\"tag\":\"div\"},\"children\":[{\"props\":{},\"nodeType\":\"Scope\",\"type\":\"node\",\"instanceArgs\":{\"imports\":{\"data\":[{\"name\":\"knockout\",\"type\":\"js\",\"url\":\"\\/assetserver\\/727383f2a47bd31570b7da84eee7b022dd6d7c78-knockout.js\"},{\"name\":\"knockout_punches\",\"type\":\"js\",\"url\":\"\\/assetserver\\/382b41b3b1bd9f26f75861d360bad7f8beea211f-knockout_punches.js\"},{\"name\":null,\"type\":\"js\",\"url\":\"\\/assetserver\\/5ab20f1060420992a9b82a65b735dee4d81ef413-all.js\"},{\"name\":null,\"type\":\"css\",\"url\":\"\\/assetserver\\/1cc0ed62837210b80a182cc3676512f895dab686-style.css\"},{\"name\":null,\"type\":\"css\",\"url\":\"\\/assetserver\\/2eee816f616df3549d7044d45e744fbf8d42bfa1-bulma_confined.min.css\"}],\"type\":\"async_block\"},\"id\":\"5727157722622112275\",\"handlers\":{\"changes\":[\"(function (val){return (val!=this.model[\\\"changes\\\"]()) ? (this.valueFromJulia[\\\"changes\\\"]=true, this.model[\\\"changes\\\"](val)) : undefined})\"],\"index\":[\"(function (val){return (val!=this.model[\\\"index\\\"]()) ? (this.valueFromJulia[\\\"index\\\"]=true, this.model[\\\"index\\\"](val)) : undefined})\"]},\"systemjs_options\":null,\"mount_callbacks\":[\"function () {\\n    var handler = (function (ko, koPunches) {\\n    ko.punches.enableAll();\\n    ko.bindingHandlers.numericValue = {\\n        init: function(element, valueAccessor, allBindings, data, context) {\\n            var stringified = ko.observable(ko.unwrap(valueAccessor()));\\n            stringified.subscribe(function(value) {\\n                var val = parseFloat(value);\\n                if (!isNaN(val)) {\\n                    valueAccessor()(val);\\n                }\\n            });\\n            valueAccessor().subscribe(function(value) {\\n                var str = JSON.stringify(value);\\n                if ((str == \\\"0\\\") && ([\\\"-0\\\", \\\"-0.\\\"].indexOf(stringified()) >= 0))\\n                     return;\\n                 if ([\\\"null\\\", \\\"\\\"].indexOf(str) >= 0)\\n                     return;\\n                stringified(str);\\n            });\\n            ko.applyBindingsToNode(\\n                element,\\n                {\\n                    value: stringified,\\n                    valueUpdate: allBindings.get('valueUpdate'),\\n                },\\n                context,\\n            );\\n        }\\n    };\\n    var json_data = {\\\"formatted_vals\\\":[\\\"0.5\\\",\\\"1.0\\\",\\\"1.5\\\",\\\"2.0\\\",\\\"2.5\\\",\\\"3.0\\\",\\\"3.5\\\",\\\"4.0\\\"],\\\"changes\\\":WebIO.getval({\\\"name\\\":\\\"changes\\\",\\\"scope\\\":\\\"5727157722622112275\\\",\\\"id\\\":\\\"2710500322555720038\\\",\\\"type\\\":\\\"observable\\\"}),\\\"index\\\":WebIO.getval({\\\"name\\\":\\\"index\\\",\\\"scope\\\":\\\"5727157722622112275\\\",\\\"id\\\":\\\"18025414279764049335\\\",\\\"type\\\":\\\"observable\\\"})};\\n    var self = this;\\n    function AppViewModel() {\\n        for (var key in json_data) {\\n            var el = json_data[key];\\n            this[key] = Array.isArray(el) ? ko.observableArray(el) : ko.observable(el);\\n        }\\n        \\n        [this[\\\"formatted_val\\\"]=ko.computed(    function(){\\n        return this.formatted_vals()[parseInt(this.index())-(1)];\\n    }\\n,this)]\\n        [this[\\\"changes\\\"].subscribe((function (val){!(this.valueFromJulia[\\\"changes\\\"]) ? (WebIO.setval({\\\"name\\\":\\\"changes\\\",\\\"scope\\\":\\\"5727157722622112275\\\",\\\"id\\\":\\\"2710500322555720038\\\",\\\"type\\\":\\\"observable\\\"},val)) : undefined; return this.valueFromJulia[\\\"changes\\\"]=false}),self),this[\\\"index\\\"].subscribe((function (val){!(this.valueFromJulia[\\\"index\\\"]) ? (WebIO.setval({\\\"name\\\":\\\"index\\\",\\\"scope\\\":\\\"5727157722622112275\\\",\\\"id\\\":\\\"18025414279764049335\\\",\\\"type\\\":\\\"observable\\\"},val)) : undefined; return this.valueFromJulia[\\\"index\\\"]=false}),self)]\\n        \\n    }\\n    self.model = new AppViewModel();\\n    self.valueFromJulia = {};\\n    for (var key in json_data) {\\n        self.valueFromJulia[key] = false;\\n    }\\n    ko.applyBindings(self.model, self.dom);\\n}\\n);\\n    (WebIO.importBlock({\\\"data\\\":[{\\\"name\\\":\\\"knockout\\\",\\\"type\\\":\\\"js\\\",\\\"url\\\":\\\"\\/assetserver\\/727383f2a47bd31570b7da84eee7b022dd6d7c78-knockout.js\\\"},{\\\"name\\\":\\\"knockout_punches\\\",\\\"type\\\":\\\"js\\\",\\\"url\\\":\\\"\\/assetserver\\/382b41b3b1bd9f26f75861d360bad7f8beea211f-knockout_punches.js\\\"}],\\\"type\\\":\\\"async_block\\\"})).then((imports) => handler.apply(this, imports));\\n}\\n\"],\"observables\":{\"changes\":{\"sync\":false,\"id\":\"2710500322555720038\",\"value\":0},\"index\":{\"sync\":true,\"id\":\"18025414279764049335\",\"value\":4}}},\"children\":[{\"props\":{\"className\":\"interact-flex-row interact-widget\"},\"nodeType\":\"DOM\",\"type\":\"node\",\"instanceArgs\":{\"namespace\":\"html\",\"tag\":\"div\"},\"children\":[{\"props\":{\"className\":\"interact-flex-row-left\"},\"nodeType\":\"DOM\",\"type\":\"node\",\"instanceArgs\":{\"namespace\":\"html\",\"tag\":\"div\"},\"children\":[{\"props\":{\"className\":\"interact \",\"style\":{\"padding\":\"5px 10px 0px 10px\"}},\"nodeType\":\"DOM\",\"type\":\"node\",\"instanceArgs\":{\"namespace\":\"html\",\"tag\":\"label\"},\"children\":[\"vis_range\"]}]},{\"props\":{\"className\":\"interact-flex-row-center\"},\"nodeType\":\"DOM\",\"type\":\"node\",\"instanceArgs\":{\"namespace\":\"html\",\"tag\":\"div\"},\"children\":[{\"props\":{\"max\":8,\"min\":1,\"attributes\":{\"type\":\"range\",\"data-bind\":\"numericValue: index, valueUpdate: 'input', event: {change: function (){this.changes(this.changes()+1)}}\",\"orient\":\"horizontal\"},\"step\":1,\"className\":\"slider slider is-fullwidth\",\"style\":{}},\"nodeType\":\"DOM\",\"type\":\"node\",\"instanceArgs\":{\"namespace\":\"html\",\"tag\":\"input\"},\"children\":[]}]},{\"props\":{\"className\":\"interact-flex-row-right\"},\"nodeType\":\"DOM\",\"type\":\"node\",\"instanceArgs\":{\"namespace\":\"html\",\"tag\":\"div\"},\"children\":[{\"props\":{\"attributes\":{\"data-bind\":\"text: formatted_val\"}},\"nodeType\":\"DOM\",\"type\":\"node\",\"instanceArgs\":{\"namespace\":\"html\",\"tag\":\"p\"},\"children\":[]}]}]}]}]}]},{\"props\":{\"style\":{\"display\":\"flex\",\"flex-direction\":\"row\"}},\"nodeType\":\"DOM\",\"type\":\"node\",\"instanceArgs\":{\"namespace\":\"html\",\"tag\":\"div\"},\"children\":[{\"props\":{\"className\":\"interact-widget\"},\"nodeType\":\"DOM\",\"type\":\"node\",\"instanceArgs\":{\"namespace\":\"html\",\"tag\":\"div\"},\"children\":[{\"props\":{},\"nodeType\":\"Scope\",\"type\":\"node\",\"instanceArgs\":{\"imports\":{\"data\":[{\"name\":null,\"type\":\"js\",\"url\":\"\\/assetserver\\/dd22ed1bf1896c2748f3fe616ce0b838adc895c1-katex.min.js\"},{\"name\":null,\"type\":\"css\",\"url\":\"\\/assetserver\\/46517a424aa5e6cffc1360d7e0848b601c584ee3-katex.min.css\"}],\"type\":\"async_block\"},\"id\":\"9700365098135097054\",\"handlers\":{\"value\":[\"(function (txt){return this.k.render(txt,this.container)})\"]},\"systemjs_options\":null,\"mount_callbacks\":[\"function () {\\n    var handler = ((function (k){this.k=k; this.container=this.dom.querySelector(\\\"#container\\\"); return k.render(\\\"\\\\\\\\;\\\\\\\\;\\\",this.container)}));\\n    (WebIO.importBlock({\\\"data\\\":[{\\\"name\\\":null,\\\"type\\\":\\\"js\\\",\\\"url\\\":\\\"\\/assetserver\\/dd22ed1bf1896c2748f3fe616ce0b838adc895c1-katex.min.js\\\"},{\\\"name\\\":null,\\\"type\\\":\\\"css\\\",\\\"url\\\":\\\"\\/assetserver\\/46517a424aa5e6cffc1360d7e0848b601c584ee3-katex.min.css\\\"}],\\\"type\\\":\\\"async_block\\\"})).then((imports) => handler.apply(this, imports));\\n}\\n\"],\"observables\":{\"value\":{\"sync\":false,\"id\":\"16433599212151716876\",\"value\":\"\\\\;\\\\;\"}}},\"children\":[{\"props\":{\"id\":\"container\"},\"nodeType\":\"DOM\",\"type\":\"node\",\"instanceArgs\":{\"namespace\":\"html\",\"tag\":\"div\"},\"children\":[]}]}]},{\"props\":{\"className\":\"field interact-widget\"},\"nodeType\":\"DOM\",\"type\":\"node\",\"instanceArgs\":{\"namespace\":\"html\",\"tag\":\"div\"},\"children\":[{\"props\":{},\"nodeType\":\"Scope\",\"type\":\"node\",\"instanceArgs\":{\"imports\":{\"data\":[{\"name\":\"knockout\",\"type\":\"js\",\"url\":\"\\/assetserver\\/727383f2a47bd31570b7da84eee7b022dd6d7c78-knockout.js\"},{\"name\":\"knockout_punches\",\"type\":\"js\",\"url\":\"\\/assetserver\\/382b41b3b1bd9f26f75861d360bad7f8beea211f-knockout_punches.js\"},{\"name\":null,\"type\":\"js\",\"url\":\"\\/assetserver\\/5ab20f1060420992a9b82a65b735dee4d81ef413-all.js\"},{\"name\":null,\"type\":\"css\",\"url\":\"\\/assetserver\\/1cc0ed62837210b80a182cc3676512f895dab686-style.css\"},{\"name\":null,\"type\":\"css\",\"url\":\"\\/assetserver\\/2eee816f616df3549d7044d45e744fbf8d42bfa1-bulma_confined.min.css\"}],\"type\":\"async_block\"},\"id\":\"104575052379607652\",\"handlers\":{\"loading\":[\"(function (val){return (val!=this.model[\\\"loading\\\"]()) ? (this.valueFromJulia[\\\"loading\\\"]=true, this.model[\\\"loading\\\"](val)) : undefined})\"],\"clicks\":[\"(function (val){return (val!=this.model[\\\"clicks\\\"]()) ? (this.valueFromJulia[\\\"clicks\\\"]=true, this.model[\\\"clicks\\\"](val)) : undefined})\"]},\"systemjs_options\":null,\"mount_callbacks\":[\"function () {\\n    var handler = (function (ko, koPunches) {\\n    ko.punches.enableAll();\\n    ko.bindingHandlers.numericValue = {\\n        init: function(element, valueAccessor, allBindings, data, context) {\\n            var stringified = ko.observable(ko.unwrap(valueAccessor()));\\n            stringified.subscribe(function(value) {\\n                var val = parseFloat(value);\\n                if (!isNaN(val)) {\\n                    valueAccessor()(val);\\n                }\\n            });\\n            valueAccessor().subscribe(function(value) {\\n                var str = JSON.stringify(value);\\n                if ((str == \\\"0\\\") && ([\\\"-0\\\", \\\"-0.\\\"].indexOf(stringified()) >= 0))\\n                     return;\\n                 if ([\\\"null\\\", \\\"\\\"].indexOf(str) >= 0)\\n                     return;\\n                stringified(str);\\n            });\\n            ko.applyBindingsToNode(\\n                element,\\n                {\\n                    value: stringified,\\n                    valueUpdate: allBindings.get('valueUpdate'),\\n                },\\n                context,\\n            );\\n        }\\n    };\\n    var json_data = {\\\"loading\\\":WebIO.getval({\\\"name\\\":\\\"loading\\\",\\\"scope\\\":\\\"104575052379607652\\\",\\\"id\\\":\\\"2656642325260673391\\\",\\\"type\\\":\\\"observable\\\"}),\\\"clicks\\\":WebIO.getval({\\\"name\\\":\\\"clicks\\\",\\\"scope\\\":\\\"104575052379607652\\\",\\\"id\\\":\\\"6660975126867287608\\\",\\\"type\\\":\\\"observable\\\"})};\\n    var self = this;\\n    function AppViewModel() {\\n        for (var key in json_data) {\\n            var el = json_data[key];\\n            this[key] = Array.isArray(el) ? ko.observableArray(el) : ko.observable(el);\\n        }\\n        \\n        \\n        [this[\\\"loading\\\"].subscribe((function (val){!(this.valueFromJulia[\\\"loading\\\"]) ? (WebIO.setval({\\\"name\\\":\\\"loading\\\",\\\"scope\\\":\\\"104575052379607652\\\",\\\"id\\\":\\\"2656642325260673391\\\",\\\"type\\\":\\\"observable\\\"},val)) : undefined; return this.valueFromJulia[\\\"loading\\\"]=false}),self),this[\\\"clicks\\\"].subscribe((function (val){!(this.valueFromJulia[\\\"clicks\\\"]) ? (WebIO.setval({\\\"name\\\":\\\"clicks\\\",\\\"scope\\\":\\\"104575052379607652\\\",\\\"id\\\":\\\"6660975126867287608\\\",\\\"type\\\":\\\"observable\\\"},val)) : undefined; return this.valueFromJulia[\\\"clicks\\\"]=false}),self)]\\n        \\n    }\\n    self.model = new AppViewModel();\\n    self.valueFromJulia = {};\\n    for (var key in json_data) {\\n        self.valueFromJulia[key] = false;\\n    }\\n    ko.applyBindings(self.model, self.dom);\\n}\\n);\\n    (WebIO.importBlock({\\\"data\\\":[{\\\"name\\\":\\\"knockout\\\",\\\"type\\\":\\\"js\\\",\\\"url\\\":\\\"\\/assetserver\\/727383f2a47bd31570b7da84eee7b022dd6d7c78-knockout.js\\\"},{\\\"name\\\":\\\"knockout_punches\\\",\\\"type\\\":\\\"js\\\",\\\"url\\\":\\\"\\/assetserver\\/382b41b3b1bd9f26f75861d360bad7f8beea211f-knockout_punches.js\\\"}],\\\"type\\\":\\\"async_block\\\"})).then((imports) => handler.apply(this, imports));\\n}\\n\"],\"observables\":{\"loading\":{\"sync\":false,\"id\":\"2656642325260673391\",\"value\":false},\"clicks\":{\"sync\":true,\"id\":\"6660975126867287608\",\"value\":0}}},\"children\":[{\"props\":{\"attributes\":{\"data-bind\":\"click: function (){this.clicks(this.clicks()+1)}, css: {'is-loading' : loading}\"},\"className\":\"is-medium button is-primary\",\"style\":{}},\"nodeType\":\"DOM\",\"type\":\"node\",\"instanceArgs\":{\"namespace\":\"html\",\"tag\":\"button\"},\"children\":[\"run\"]}]}]},{\"props\":{\"className\":\"interact-widget\"},\"nodeType\":\"DOM\",\"type\":\"node\",\"instanceArgs\":{\"namespace\":\"html\",\"tag\":\"div\"},\"children\":[{\"props\":{},\"nodeType\":\"Scope\",\"type\":\"node\",\"instanceArgs\":{\"imports\":{\"data\":[{\"name\":null,\"type\":\"js\",\"url\":\"\\/assetserver\\/dd22ed1bf1896c2748f3fe616ce0b838adc895c1-katex.min.js\"},{\"name\":null,\"type\":\"css\",\"url\":\"\\/assetserver\\/46517a424aa5e6cffc1360d7e0848b601c584ee3-katex.min.css\"}],\"type\":\"async_block\"},\"id\":\"9700365098135097054\",\"handlers\":{\"value\":[\"(function (txt){return this.k.render(txt,this.container)})\"]},\"systemjs_options\":null,\"mount_callbacks\":[\"function () {\\n    var handler = ((function (k){this.k=k; this.container=this.dom.querySelector(\\\"#container\\\"); return k.render(\\\"\\\\\\\\;\\\\\\\\;\\\",this.container)}));\\n    (WebIO.importBlock({\\\"data\\\":[{\\\"name\\\":null,\\\"type\\\":\\\"js\\\",\\\"url\\\":\\\"\\/assetserver\\/dd22ed1bf1896c2748f3fe616ce0b838adc895c1-katex.min.js\\\"},{\\\"name\\\":null,\\\"type\\\":\\\"css\\\",\\\"url\\\":\\\"\\/assetserver\\/46517a424aa5e6cffc1360d7e0848b601c584ee3-katex.min.css\\\"}],\\\"type\\\":\\\"async_block\\\"})).then((imports) => handler.apply(this, imports));\\n}\\n\"],\"observables\":{\"value\":{\"sync\":false,\"id\":\"16433599212151716876\",\"value\":\"\\\\;\\\\;\"}}},\"children\":[{\"props\":{\"id\":\"container\"},\"nodeType\":\"DOM\",\"type\":\"node\",\"instanceArgs\":{\"namespace\":\"html\",\"tag\":\"div\"},\"children\":[]}]}]},{\"props\":{\"className\":\"field interact-widget\"},\"nodeType\":\"DOM\",\"type\":\"node\",\"instanceArgs\":{\"namespace\":\"html\",\"tag\":\"div\"},\"children\":[{\"props\":{},\"nodeType\":\"Scope\",\"type\":\"node\",\"instanceArgs\":{\"imports\":{\"data\":[{\"name\":\"knockout\",\"type\":\"js\",\"url\":\"\\/assetserver\\/727383f2a47bd31570b7da84eee7b022dd6d7c78-knockout.js\"},{\"name\":\"knockout_punches\",\"type\":\"js\",\"url\":\"\\/assetserver\\/382b41b3b1bd9f26f75861d360bad7f8beea211f-knockout_punches.js\"},{\"name\":null,\"type\":\"js\",\"url\":\"\\/assetserver\\/5ab20f1060420992a9b82a65b735dee4d81ef413-all.js\"},{\"name\":null,\"type\":\"css\",\"url\":\"\\/assetserver\\/1cc0ed62837210b80a182cc3676512f895dab686-style.css\"},{\"name\":null,\"type\":\"css\",\"url\":\"\\/assetserver\\/2eee816f616df3549d7044d45e744fbf8d42bfa1-bulma_confined.min.css\"}],\"type\":\"async_block\"},\"id\":\"6535443668725384033\",\"handlers\":{\"loading\":[\"(function (val){return (val!=this.model[\\\"loading\\\"]()) ? (this.valueFromJulia[\\\"loading\\\"]=true, this.model[\\\"loading\\\"](val)) : undefined})\"],\"clicks\":[\"(function (val){return (val!=this.model[\\\"clicks\\\"]()) ? (this.valueFromJulia[\\\"clicks\\\"]=true, this.model[\\\"clicks\\\"](val)) : undefined})\"]},\"systemjs_options\":null,\"mount_callbacks\":[\"function () {\\n    var handler = (function (ko, koPunches) {\\n    ko.punches.enableAll();\\n    ko.bindingHandlers.numericValue = {\\n        init: function(element, valueAccessor, allBindings, data, context) {\\n            var stringified = ko.observable(ko.unwrap(valueAccessor()));\\n            stringified.subscribe(function(value) {\\n                var val = parseFloat(value);\\n                if (!isNaN(val)) {\\n                    valueAccessor()(val);\\n                }\\n            });\\n            valueAccessor().subscribe(function(value) {\\n                var str = JSON.stringify(value);\\n                if ((str == \\\"0\\\") && ([\\\"-0\\\", \\\"-0.\\\"].indexOf(stringified()) >= 0))\\n                     return;\\n                 if ([\\\"null\\\", \\\"\\\"].indexOf(str) >= 0)\\n                     return;\\n                stringified(str);\\n            });\\n            ko.applyBindingsToNode(\\n                element,\\n                {\\n                    value: stringified,\\n                    valueUpdate: allBindings.get('valueUpdate'),\\n                },\\n                context,\\n            );\\n        }\\n    };\\n    var json_data = {\\\"loading\\\":WebIO.getval({\\\"name\\\":\\\"loading\\\",\\\"scope\\\":\\\"6535443668725384033\\\",\\\"id\\\":\\\"15832586933691060080\\\",\\\"type\\\":\\\"observable\\\"}),\\\"clicks\\\":WebIO.getval({\\\"name\\\":\\\"clicks\\\",\\\"scope\\\":\\\"6535443668725384033\\\",\\\"id\\\":\\\"10160481873889505828\\\",\\\"type\\\":\\\"observable\\\"})};\\n    var self = this;\\n    function AppViewModel() {\\n        for (var key in json_data) {\\n            var el = json_data[key];\\n            this[key] = Array.isArray(el) ? ko.observableArray(el) : ko.observable(el);\\n        }\\n        \\n        \\n        [this[\\\"loading\\\"].subscribe((function (val){!(this.valueFromJulia[\\\"loading\\\"]) ? (WebIO.setval({\\\"name\\\":\\\"loading\\\",\\\"scope\\\":\\\"6535443668725384033\\\",\\\"id\\\":\\\"15832586933691060080\\\",\\\"type\\\":\\\"observable\\\"},val)) : undefined; return this.valueFromJulia[\\\"loading\\\"]=false}),self),this[\\\"clicks\\\"].subscribe((function (val){!(this.valueFromJulia[\\\"clicks\\\"]) ? (WebIO.setval({\\\"name\\\":\\\"clicks\\\",\\\"scope\\\":\\\"6535443668725384033\\\",\\\"id\\\":\\\"10160481873889505828\\\",\\\"type\\\":\\\"observable\\\"},val)) : undefined; return this.valueFromJulia[\\\"clicks\\\"]=false}),self)]\\n        \\n    }\\n    self.model = new AppViewModel();\\n    self.valueFromJulia = {};\\n    for (var key in json_data) {\\n        self.valueFromJulia[key] = false;\\n    }\\n    ko.applyBindings(self.model, self.dom);\\n}\\n);\\n    (WebIO.importBlock({\\\"data\\\":[{\\\"name\\\":\\\"knockout\\\",\\\"type\\\":\\\"js\\\",\\\"url\\\":\\\"\\/assetserver\\/727383f2a47bd31570b7da84eee7b022dd6d7c78-knockout.js\\\"},{\\\"name\\\":\\\"knockout_punches\\\",\\\"type\\\":\\\"js\\\",\\\"url\\\":\\\"\\/assetserver\\/382b41b3b1bd9f26f75861d360bad7f8beea211f-knockout_punches.js\\\"}],\\\"type\\\":\\\"async_block\\\"})).then((imports) => handler.apply(this, imports));\\n}\\n\"],\"observables\":{\"loading\":{\"sync\":false,\"id\":\"15832586933691060080\",\"value\":false},\"clicks\":{\"sync\":true,\"id\":\"10160481873889505828\",\"value\":0}}},\"children\":[{\"props\":{\"attributes\":{\"data-bind\":\"click: function (){this.clicks(this.clicks()+1)}, css: {'is-loading' : loading}\"},\"className\":\"is-medium button is-primary\",\"style\":{}},\"nodeType\":\"DOM\",\"type\":\"node\",\"instanceArgs\":{\"namespace\":\"html\",\"tag\":\"button\"},\"children\":[\"stop\"]}]}]},{\"props\":{\"className\":\"interact-widget\"},\"nodeType\":\"DOM\",\"type\":\"node\",\"instanceArgs\":{\"namespace\":\"html\",\"tag\":\"div\"},\"children\":[{\"props\":{},\"nodeType\":\"Scope\",\"type\":\"node\",\"instanceArgs\":{\"imports\":{\"data\":[{\"name\":null,\"type\":\"js\",\"url\":\"\\/assetserver\\/dd22ed1bf1896c2748f3fe616ce0b838adc895c1-katex.min.js\"},{\"name\":null,\"type\":\"css\",\"url\":\"\\/assetserver\\/46517a424aa5e6cffc1360d7e0848b601c584ee3-katex.min.css\"}],\"type\":\"async_block\"},\"id\":\"9700365098135097054\",\"handlers\":{\"value\":[\"(function (txt){return this.k.render(txt,this.container)})\"]},\"systemjs_options\":null,\"mount_callbacks\":[\"function () {\\n    var handler = ((function (k){this.k=k; this.container=this.dom.querySelector(\\\"#container\\\"); return k.render(\\\"\\\\\\\\;\\\\\\\\;\\\",this.container)}));\\n    (WebIO.importBlock({\\\"data\\\":[{\\\"name\\\":null,\\\"type\\\":\\\"js\\\",\\\"url\\\":\\\"\\/assetserver\\/dd22ed1bf1896c2748f3fe616ce0b838adc895c1-katex.min.js\\\"},{\\\"name\\\":null,\\\"type\\\":\\\"css\\\",\\\"url\\\":\\\"\\/assetserver\\/46517a424aa5e6cffc1360d7e0848b601c584ee3-katex.min.css\\\"}],\\\"type\\\":\\\"async_block\\\"})).then((imports) => handler.apply(this, imports));\\n}\\n\"],\"observables\":{\"value\":{\"sync\":false,\"id\":\"16433599212151716876\",\"value\":\"\\\\;\\\\;\"}}},\"children\":[{\"props\":{\"id\":\"container\"},\"nodeType\":\"DOM\",\"type\":\"node\",\"instanceArgs\":{\"namespace\":\"html\",\"tag\":\"div\"},\"children\":[]}]}]},{\"props\":{\"className\":\"field interact-widget\"},\"nodeType\":\"DOM\",\"type\":\"node\",\"instanceArgs\":{\"namespace\":\"html\",\"tag\":\"div\"},\"children\":[{\"props\":{},\"nodeType\":\"Scope\",\"type\":\"node\",\"instanceArgs\":{\"imports\":{\"data\":[{\"name\":\"knockout\",\"type\":\"js\",\"url\":\"\\/assetserver\\/727383f2a47bd31570b7da84eee7b022dd6d7c78-knockout.js\"},{\"name\":\"knockout_punches\",\"type\":\"js\",\"url\":\"\\/assetserver\\/382b41b3b1bd9f26f75861d360bad7f8beea211f-knockout_punches.js\"},{\"name\":null,\"type\":\"js\",\"url\":\"\\/assetserver\\/5ab20f1060420992a9b82a65b735dee4d81ef413-all.js\"},{\"name\":null,\"type\":\"css\",\"url\":\"\\/assetserver\\/1cc0ed62837210b80a182cc3676512f895dab686-style.css\"},{\"name\":null,\"type\":\"css\",\"url\":\"\\/assetserver\\/2eee816f616df3549d7044d45e744fbf8d42bfa1-bulma_confined.min.css\"}],\"type\":\"async_block\"},\"id\":\"6483877982107905809\",\"handlers\":{\"loading\":[\"(function (val){return (val!=this.model[\\\"loading\\\"]()) ? (this.valueFromJulia[\\\"loading\\\"]=true, this.model[\\\"loading\\\"](val)) : undefined})\"],\"clicks\":[\"(function (val){return (val!=this.model[\\\"clicks\\\"]()) ? (this.valueFromJulia[\\\"clicks\\\"]=true, this.model[\\\"clicks\\\"](val)) : undefined})\"]},\"systemjs_options\":null,\"mount_callbacks\":[\"function () {\\n    var handler = (function (ko, koPunches) {\\n    ko.punches.enableAll();\\n    ko.bindingHandlers.numericValue = {\\n        init: function(element, valueAccessor, allBindings, data, context) {\\n            var stringified = ko.observable(ko.unwrap(valueAccessor()));\\n            stringified.subscribe(function(value) {\\n                var val = parseFloat(value);\\n                if (!isNaN(val)) {\\n                    valueAccessor()(val);\\n                }\\n            });\\n            valueAccessor().subscribe(function(value) {\\n                var str = JSON.stringify(value);\\n                if ((str == \\\"0\\\") && ([\\\"-0\\\", \\\"-0.\\\"].indexOf(stringified()) >= 0))\\n                     return;\\n                 if ([\\\"null\\\", \\\"\\\"].indexOf(str) >= 0)\\n                     return;\\n                stringified(str);\\n            });\\n            ko.applyBindingsToNode(\\n                element,\\n                {\\n                    value: stringified,\\n                    valueUpdate: allBindings.get('valueUpdate'),\\n                },\\n                context,\\n            );\\n        }\\n    };\\n    var json_data = {\\\"loading\\\":WebIO.getval({\\\"name\\\":\\\"loading\\\",\\\"scope\\\":\\\"6483877982107905809\\\",\\\"id\\\":\\\"10915840415409230096\\\",\\\"type\\\":\\\"observable\\\"}),\\\"clicks\\\":WebIO.getval({\\\"name\\\":\\\"clicks\\\",\\\"scope\\\":\\\"6483877982107905809\\\",\\\"id\\\":\\\"12806540103676720057\\\",\\\"type\\\":\\\"observable\\\"})};\\n    var self = this;\\n    function AppViewModel() {\\n        for (var key in json_data) {\\n            var el = json_data[key];\\n            this[key] = Array.isArray(el) ? ko.observableArray(el) : ko.observable(el);\\n        }\\n        \\n        \\n        [this[\\\"loading\\\"].subscribe((function (val){!(this.valueFromJulia[\\\"loading\\\"]) ? (WebIO.setval({\\\"name\\\":\\\"loading\\\",\\\"scope\\\":\\\"6483877982107905809\\\",\\\"id\\\":\\\"10915840415409230096\\\",\\\"type\\\":\\\"observable\\\"},val)) : undefined; return this.valueFromJulia[\\\"loading\\\"]=false}),self),this[\\\"clicks\\\"].subscribe((function (val){!(this.valueFromJulia[\\\"clicks\\\"]) ? (WebIO.setval({\\\"name\\\":\\\"clicks\\\",\\\"scope\\\":\\\"6483877982107905809\\\",\\\"id\\\":\\\"12806540103676720057\\\",\\\"type\\\":\\\"observable\\\"},val)) : undefined; return this.valueFromJulia[\\\"clicks\\\"]=false}),self)]\\n        \\n    }\\n    self.model = new AppViewModel();\\n    self.valueFromJulia = {};\\n    for (var key in json_data) {\\n        self.valueFromJulia[key] = false;\\n    }\\n    ko.applyBindings(self.model, self.dom);\\n}\\n);\\n    (WebIO.importBlock({\\\"data\\\":[{\\\"name\\\":\\\"knockout\\\",\\\"type\\\":\\\"js\\\",\\\"url\\\":\\\"\\/assetserver\\/727383f2a47bd31570b7da84eee7b022dd6d7c78-knockout.js\\\"},{\\\"name\\\":\\\"knockout_punches\\\",\\\"type\\\":\\\"js\\\",\\\"url\\\":\\\"\\/assetserver\\/382b41b3b1bd9f26f75861d360bad7f8beea211f-knockout_punches.js\\\"}],\\\"type\\\":\\\"async_block\\\"})).then((imports) => handler.apply(this, imports));\\n}\\n\"],\"observables\":{\"loading\":{\"sync\":false,\"id\":\"10915840415409230096\",\"value\":false},\"clicks\":{\"sync\":true,\"id\":\"12806540103676720057\",\"value\":0}}},\"children\":[{\"props\":{\"attributes\":{\"data-bind\":\"click: function (){this.clicks(this.clicks()+1)}, css: {'is-loading' : loading}\"},\"className\":\"is-medium button is-primary\",\"style\":{}},\"nodeType\":\"DOM\",\"type\":\"node\",\"instanceArgs\":{\"namespace\":\"html\",\"tag\":\"button\"},\"children\":[\"reset\"]}]}]},{\"props\":{\"className\":\"interact-widget\"},\"nodeType\":\"DOM\",\"type\":\"node\",\"instanceArgs\":{\"namespace\":\"html\",\"tag\":\"div\"},\"children\":[{\"props\":{},\"nodeType\":\"Scope\",\"type\":\"node\",\"instanceArgs\":{\"imports\":{\"data\":[{\"name\":null,\"type\":\"js\",\"url\":\"\\/assetserver\\/dd22ed1bf1896c2748f3fe616ce0b838adc895c1-katex.min.js\"},{\"name\":null,\"type\":\"css\",\"url\":\"\\/assetserver\\/46517a424aa5e6cffc1360d7e0848b601c584ee3-katex.min.css\"}],\"type\":\"async_block\"},\"id\":\"9700365098135097054\",\"handlers\":{\"value\":[\"(function (txt){return this.k.render(txt,this.container)})\"]},\"systemjs_options\":null,\"mount_callbacks\":[\"function () {\\n    var handler = ((function (k){this.k=k; this.container=this.dom.querySelector(\\\"#container\\\"); return k.render(\\\"\\\\\\\\;\\\\\\\\;\\\",this.container)}));\\n    (WebIO.importBlock({\\\"data\\\":[{\\\"name\\\":null,\\\"type\\\":\\\"js\\\",\\\"url\\\":\\\"\\/assetserver\\/dd22ed1bf1896c2748f3fe616ce0b838adc895c1-katex.min.js\\\"},{\\\"name\\\":null,\\\"type\\\":\\\"css\\\",\\\"url\\\":\\\"\\/assetserver\\/46517a424aa5e6cffc1360d7e0848b601c584ee3-katex.min.css\\\"}],\\\"type\\\":\\\"async_block\\\"})).then((imports) => handler.apply(this, imports));\\n}\\n\"],\"observables\":{\"value\":{\"sync\":false,\"id\":\"16433599212151716876\",\"value\":\"\\\\;\\\\;\"}}},\"children\":[{\"props\":{\"id\":\"container\"},\"nodeType\":\"DOM\",\"type\":\"node\",\"instanceArgs\":{\"namespace\":\"html\",\"tag\":\"div\"},\"children\":[]}]}]},{\"props\":{\"className\":\"field interact-widget\"},\"nodeType\":\"DOM\",\"type\":\"node\",\"instanceArgs\":{\"namespace\":\"html\",\"tag\":\"div\"},\"children\":[{\"props\":{},\"nodeType\":\"Scope\",\"type\":\"node\",\"instanceArgs\":{\"imports\":{\"data\":[{\"name\":\"knockout\",\"type\":\"js\",\"url\":\"\\/assetserver\\/727383f2a47bd31570b7da84eee7b022dd6d7c78-knockout.js\"},{\"name\":\"knockout_punches\",\"type\":\"js\",\"url\":\"\\/assetserver\\/382b41b3b1bd9f26f75861d360bad7f8beea211f-knockout_punches.js\"},{\"name\":null,\"type\":\"js\",\"url\":\"\\/assetserver\\/5ab20f1060420992a9b82a65b735dee4d81ef413-all.js\"},{\"name\":null,\"type\":\"css\",\"url\":\"\\/assetserver\\/1cc0ed62837210b80a182cc3676512f895dab686-style.css\"},{\"name\":null,\"type\":\"css\",\"url\":\"\\/assetserver\\/2eee816f616df3549d7044d45e744fbf8d42bfa1-bulma_confined.min.css\"}],\"type\":\"async_block\"},\"id\":\"9117471544633982621\",\"handlers\":{\"loading\":[\"(function (val){return (val!=this.model[\\\"loading\\\"]()) ? (this.valueFromJulia[\\\"loading\\\"]=true, this.model[\\\"loading\\\"](val)) : undefined})\"],\"clicks\":[\"(function (val){return (val!=this.model[\\\"clicks\\\"]()) ? (this.valueFromJulia[\\\"clicks\\\"]=true, this.model[\\\"clicks\\\"](val)) : undefined})\"]},\"systemjs_options\":null,\"mount_callbacks\":[\"function () {\\n    var handler = (function (ko, koPunches) {\\n    ko.punches.enableAll();\\n    ko.bindingHandlers.numericValue = {\\n        init: function(element, valueAccessor, allBindings, data, context) {\\n            var stringified = ko.observable(ko.unwrap(valueAccessor()));\\n            stringified.subscribe(function(value) {\\n                var val = parseFloat(value);\\n                if (!isNaN(val)) {\\n                    valueAccessor()(val);\\n                }\\n            });\\n            valueAccessor().subscribe(function(value) {\\n                var str = JSON.stringify(value);\\n                if ((str == \\\"0\\\") && ([\\\"-0\\\", \\\"-0.\\\"].indexOf(stringified()) >= 0))\\n                     return;\\n                 if ([\\\"null\\\", \\\"\\\"].indexOf(str) >= 0)\\n                     return;\\n                stringified(str);\\n            });\\n            ko.applyBindingsToNode(\\n                element,\\n                {\\n                    value: stringified,\\n                    valueUpdate: allBindings.get('valueUpdate'),\\n                },\\n                context,\\n            );\\n        }\\n    };\\n    var json_data = {\\\"loading\\\":WebIO.getval({\\\"name\\\":\\\"loading\\\",\\\"scope\\\":\\\"9117471544633982621\\\",\\\"id\\\":\\\"4813943820668123206\\\",\\\"type\\\":\\\"observable\\\"}),\\\"clicks\\\":WebIO.getval({\\\"name\\\":\\\"clicks\\\",\\\"scope\\\":\\\"9117471544633982621\\\",\\\"id\\\":\\\"7003200494129192581\\\",\\\"type\\\":\\\"observable\\\"})};\\n    var self = this;\\n    function AppViewModel() {\\n        for (var key in json_data) {\\n            var el = json_data[key];\\n            this[key] = Array.isArray(el) ? ko.observableArray(el) : ko.observable(el);\\n        }\\n        \\n        \\n        [this[\\\"loading\\\"].subscribe((function (val){!(this.valueFromJulia[\\\"loading\\\"]) ? (WebIO.setval({\\\"name\\\":\\\"loading\\\",\\\"scope\\\":\\\"9117471544633982621\\\",\\\"id\\\":\\\"4813943820668123206\\\",\\\"type\\\":\\\"observable\\\"},val)) : undefined; return this.valueFromJulia[\\\"loading\\\"]=false}),self),this[\\\"clicks\\\"].subscribe((function (val){!(this.valueFromJulia[\\\"clicks\\\"]) ? (WebIO.setval({\\\"name\\\":\\\"clicks\\\",\\\"scope\\\":\\\"9117471544633982621\\\",\\\"id\\\":\\\"7003200494129192581\\\",\\\"type\\\":\\\"observable\\\"},val)) : undefined; return this.valueFromJulia[\\\"clicks\\\"]=false}),self)]\\n        \\n    }\\n    self.model = new AppViewModel();\\n    self.valueFromJulia = {};\\n    for (var key in json_data) {\\n        self.valueFromJulia[key] = false;\\n    }\\n    ko.applyBindings(self.model, self.dom);\\n}\\n);\\n    (WebIO.importBlock({\\\"data\\\":[{\\\"name\\\":\\\"knockout\\\",\\\"type\\\":\\\"js\\\",\\\"url\\\":\\\"\\/assetserver\\/727383f2a47bd31570b7da84eee7b022dd6d7c78-knockout.js\\\"},{\\\"name\\\":\\\"knockout_punches\\\",\\\"type\\\":\\\"js\\\",\\\"url\\\":\\\"\\/assetserver\\/382b41b3b1bd9f26f75861d360bad7f8beea211f-knockout_punches.js\\\"}],\\\"type\\\":\\\"async_block\\\"})).then((imports) => handler.apply(this, imports));\\n}\\n\"],\"observables\":{\"loading\":{\"sync\":false,\"id\":\"4813943820668123206\",\"value\":false},\"clicks\":{\"sync\":true,\"id\":\"7003200494129192581\",\"value\":0}}},\"children\":[{\"props\":{\"attributes\":{\"data-bind\":\"click: function (){this.clicks(this.clicks()+1)}, css: {'is-loading' : loading}\"},\"className\":\"is-medium button is-primary\",\"style\":{}},\"nodeType\":\"DOM\",\"type\":\"node\",\"instanceArgs\":{\"namespace\":\"html\",\"tag\":\"button\"},\"children\":[\"save\"]}]}]}]}]},{\"props\":{\"className\":\"interact-widget\"},\"nodeType\":\"DOM\",\"type\":\"node\",\"instanceArgs\":{\"namespace\":\"html\",\"tag\":\"div\"},\"children\":[{\"props\":{},\"nodeType\":\"Scope\",\"type\":\"node\",\"instanceArgs\":{\"imports\":{\"data\":[{\"name\":null,\"type\":\"js\",\"url\":\"\\/assetserver\\/dd22ed1bf1896c2748f3fe616ce0b838adc895c1-katex.min.js\"},{\"name\":null,\"type\":\"css\",\"url\":\"\\/assetserver\\/46517a424aa5e6cffc1360d7e0848b601c584ee3-katex.min.css\"}],\"type\":\"async_block\"},\"id\":\"9700365098135097054\",\"handlers\":{\"value\":[\"(function (txt){return this.k.render(txt,this.container)})\"]},\"systemjs_options\":null,\"mount_callbacks\":[\"function () {\\n    var handler = ((function (k){this.k=k; this.container=this.dom.querySelector(\\\"#container\\\"); return k.render(\\\"\\\\\\\\;\\\\\\\\;\\\",this.container)}));\\n    (WebIO.importBlock({\\\"data\\\":[{\\\"name\\\":null,\\\"type\\\":\\\"js\\\",\\\"url\\\":\\\"\\/assetserver\\/dd22ed1bf1896c2748f3fe616ce0b838adc895c1-katex.min.js\\\"},{\\\"name\\\":null,\\\"type\\\":\\\"css\\\",\\\"url\\\":\\\"\\/assetserver\\/46517a424aa5e6cffc1360d7e0848b601c584ee3-katex.min.css\\\"}],\\\"type\\\":\\\"async_block\\\"})).then((imports) => handler.apply(this, imports));\\n}\\n\"],\"observables\":{\"value\":{\"sync\":false,\"id\":\"16433599212151716876\",\"value\":\"\\\\;\\\\;\"}}},\"children\":[{\"props\":{\"id\":\"container\"},\"nodeType\":\"DOM\",\"type\":\"node\",\"instanceArgs\":{\"namespace\":\"html\",\"tag\":\"div\"},\"children\":[]}]}]},{\"props\":{},\"nodeType\":\"Scope\",\"type\":\"node\",\"instanceArgs\":{\"imports\":{\"data\":[],\"type\":\"async_block\"},\"id\":\"2514584914322236169\",\"handlers\":{\"obs-output\":[\"function (value, scope) {\\n    scope.setInnerHTML(value);\\n}\\n\"]},\"systemjs_options\":null,\"mount_callbacks\":[],\"observables\":{\"obs-output\":{\"sync\":false,\"id\":\"3798274857002482138\",\"value\":\"<img src='data:image\\/png;base64,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'><\\/img>\"}}},\"children\":[{\"props\":{\"className\":\"webio-observable\",\"setInnerHtml\":\"<img src='data:image\\/png;base64,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'><\\/img>\"},\"nodeType\":\"DOM\",\"type\":\"node\",\"instanceArgs\":{\"namespace\":\"html\",\"tag\":\"div\"},\"children\":[]}]},{\"props\":{\"className\":\"interact-widget\"},\"nodeType\":\"DOM\",\"type\":\"node\",\"instanceArgs\":{\"namespace\":\"html\",\"tag\":\"div\"},\"children\":[{\"props\":{},\"nodeType\":\"Scope\",\"type\":\"node\",\"instanceArgs\":{\"imports\":{\"data\":[{\"name\":null,\"type\":\"js\",\"url\":\"\\/assetserver\\/dd22ed1bf1896c2748f3fe616ce0b838adc895c1-katex.min.js\"},{\"name\":null,\"type\":\"css\",\"url\":\"\\/assetserver\\/46517a424aa5e6cffc1360d7e0848b601c584ee3-katex.min.css\"}],\"type\":\"async_block\"},\"id\":\"9700365098135097054\",\"handlers\":{\"value\":[\"(function (txt){return this.k.render(txt,this.container)})\"]},\"systemjs_options\":null,\"mount_callbacks\":[\"function () {\\n    var handler = ((function (k){this.k=k; this.container=this.dom.querySelector(\\\"#container\\\"); return k.render(\\\"\\\\\\\\;\\\\\\\\;\\\",this.container)}));\\n    (WebIO.importBlock({\\\"data\\\":[{\\\"name\\\":null,\\\"type\\\":\\\"js\\\",\\\"url\\\":\\\"\\/assetserver\\/dd22ed1bf1896c2748f3fe616ce0b838adc895c1-katex.min.js\\\"},{\\\"name\\\":null,\\\"type\\\":\\\"css\\\",\\\"url\\\":\\\"\\/assetserver\\/46517a424aa5e6cffc1360d7e0848b601c584ee3-katex.min.css\\\"}],\\\"type\\\":\\\"async_block\\\"})).then((imports) => handler.apply(this, imports));\\n}\\n\"],\"observables\":{\"value\":{\"sync\":false,\"id\":\"16433599212151716876\",\"value\":\"\\\\;\\\\;\"}}},\"children\":[{\"props\":{\"id\":\"container\"},\"nodeType\":\"DOM\",\"type\":\"node\",\"instanceArgs\":{\"namespace\":\"html\",\"tag\":\"div\"},\"children\":[]}]}]},{\"props\":{\"style\":{\"display\":\"flex\",\"flex-direction\":\"column\"}},\"nodeType\":\"DOM\",\"type\":\"node\",\"instanceArgs\":{\"namespace\":\"html\",\"tag\":\"div\"},\"children\":[]}]}]},\n",
       "        window,\n",
       "    );\n",
       "    })()\n",
       "    </script>\n",
       "</div>\n"
      ],
      "text/plain": [
       "WebIO.Node{WebIO.DOM}(WebIO.DOM(:html, :div), Any[WebIO.Node{WebIO.DOM}(WebIO.DOM(:html, :div), Any[WebIO.Node{WebIO.DOM}(WebIO.DOM(:html, :div), Any[WebIO.Node{WebIO.DOM}(WebIO.DOM(:html, :div), Any[WebIO.Scope(WebIO.Node{WebIO.DOM}(WebIO.DOM(:html, :div), Any[WebIO.Node{WebIO.DOM}(WebIO.DOM(:html, :div), Any[WebIO.Node{WebIO.DOM}(WebIO.DOM(:html, :label), Any[\"time\"], Dict{Symbol, Any}(:className => \"interact \", :style => Dict{Any, Any}(:padding => \"5px 10px 0px 10px\")))], Dict{Symbol, Any}(:className => \"interact-flex-row-left\")), WebIO.Node{WebIO.DOM}(WebIO.DOM(:html, :div), Any[WebIO.Node{WebIO.DOM}(WebIO.DOM(:html, :input), Any[], Dict{Symbol, Any}(:max => 400, :min => 1, :attributes => Dict{Any, Any}(:type => \"range\", Symbol(\"data-bind\") => \"numericValue: index, valueUpdate: 'input', event: {change: function (){this.changes(this.changes()+1)}}\", \"orient\" => \"horizontal\"), :step => 1, :className => \"slider slider is-fullwidth\", :style => Dict{Any, Any}()))], Dict{Symbol, Any}(:className => \"interact-flex-row-center\")), WebIO.Node{WebIO.DOM}(WebIO.DOM(:html, :div), Any[WebIO.Node{WebIO.DOM}(WebIO.DOM(:html, :p), Any[], Dict{Symbol, Any}(:attributes => Dict(\"data-bind\" => \"text: formatted_val\")))], Dict{Symbol, Any}(:className => \"interact-flex-row-right\"))], Dict{Symbol, Any}(:className => \"interact-flex-row interact-widget\")), Dict{String, Tuple{Observables.AbstractObservable, Union{Nothing, Bool}}}(\"changes\" => (Observable(0), nothing), \"index\" => (Observable(1), nothing)), Set{String}(), nothing, WebIO.Asset[WebIO.Asset(\"js\", \"knockout\", \"/home/dushya/.julia/packages/Knockout/HReiN/src/../assets/knockout.js\"), WebIO.Asset(\"js\", \"knockout_punches\", \"/home/dushya/.julia/packages/Knockout/HReiN/src/../assets/knockout_punches.js\"), WebIO.Asset(\"js\", nothing, \"/home/dushya/.julia/packages/InteractBase/LJXv3/src/../assets/all.js\"), WebIO.Asset(\"css\", nothing, \"/home/dushya/.julia/packages/InteractBase/LJXv3/src/../assets/style.css\"), WebIO.Asset(\"css\", nothing, \"/home/dushya/.julia/packages/Interact/PENUy/src/../assets/bulma_confined.min.css\")], Dict{Any, Any}(\"changes\" => Any[WebIO.JSString(\"(function (val){return (val!=this.model[\\\"changes\\\"]()) ? (this.valueFromJulia[\\\"changes\\\"]=true, this.model[\\\"changes\\\"](val)) : undefined})\")], \"index\" => Any[WebIO.JSString(\"(function (val){return (val!=this.model[\\\"index\\\"]()) ? (this.valueFromJulia[\\\"index\\\"]=true, this.model[\\\"index\\\"](val)) : undefined})\")]), WebIO.ConnectionPool(Channel{Any}(32), Set{WebIO.AbstractConnection}(), Base.GenericCondition{ReentrantLock}(Base.IntrusiveLinkedList{Task}(Task (runnable) @0x00007f666b30dc30, Task (runnable) @0x00007f666b30dc30), ReentrantLock(nothing, 0x00000000, 0x00, Base.GenericCondition{Base.Threads.SpinLock}(Base.IntrusiveLinkedList{Task}(nothing, nothing), Base.Threads.SpinLock(0)), (12, 0, 0)))), WebIO.JSString[WebIO.JSString(\"function () {\\n    var handler = (function (ko, koPunches) {\\n    ko.punches.enableAll();\\n    ko.bindingHandlers.numericValue = {\\n        init: function(element, valueAccessor, allBindings, data, context) {\\n            var stringified = ko.observable(ko.unwrap(valueAccessor()));\\n            stringified.subscribe(function(value) {\\n                var val = parseFloat(value);\\n                if (!isNaN(val)) {\\n                    valueAccessor()(val);\\n                }\\n            });\\n            valueAccessor().subscribe(function(value) {\\n                var str = JSON.stringify(value);\\n                if ((str == \\\"0\\\") && ([\\\"-0\\\", \\\"-0.\\\"].indexOf(stringified()) >= 0))\\n                     return;\\n                 if ([\\\"null\\\", \\\"\\\"].indexOf(str) >= 0)\\n                     return;\\n                stringified(str);\\n            });\\n            ko.applyBindingsToNode(\\n                element,\\n                {\\n                    value: stringified,\\n                    valueUpdate: allBindings.get('valueUpdate'),\\n                },\\n                context,\\n            );\\n        }\\n    };\\n    var json_data = {\\\"formatted_vals\\\":[\\\"1\\\",\\\"2\\\",\\\"3\\\",\\\"4\\\",\\\"5\\\",\\\"6\\\",\\\"7\\\",\\\"8\\\",\\\"9\\\",\\\"10\\\",\\\"11\\\",\\\"12\\\",\\\"13\\\",\\\"14\\\",\\\"15\\\",\\\"16\\\",\\\"17\\\",\\\"18\\\",\\\"19\\\",\\\"20\\\",\\\"21\\\",\\\"22\\\",\\\"23\\\",\\\"24\\\",\\\"25\\\",\\\"26\\\",\\\"27\\\",\\\"28\\\",\\\"29\\\",\\\"30\\\",\\\"31\\\",\\\"32\\\",\\\"33\\\",\\\"34\\\",\\\"35\\\",\\\"36\\\",\\\"37\\\",\\\"38\\\",\\\"39\\\",\\\"40\\\",\\\"41\\\",\\\"42\\\",\\\"43\\\",\\\"44\\\",\\\"45\\\",\\\"46\\\",\\\"47\\\",\\\"48\\\",\\\"49\\\",\\\"50\\\",\\\"51\\\",\\\"52\\\",\\\"53\\\",\\\"54\\\",\\\"55\\\",\\\"56\\\",\\\"57\\\",\\\"58\\\",\\\"59\\\",\\\"60\\\",\\\"61\\\",\\\"62\\\",\\\"63\\\",\\\"64\\\",\\\"65\\\",\\\"66\\\",\\\"67\\\",\\\"68\\\",\\\"69\\\",\\\"70\\\",\\\"71\\\",\\\"72\\\",\\\"73\\\",\\\"74\\\",\\\"75\\\",\\\"76\\\",\\\"77\\\",\\\"78\\\",\\\"79\\\",\\\"80\\\",\\\"81\\\",\\\"82\\\",\\\"83\\\",\\\"84\\\",\\\"85\\\",\\\"86\\\",\\\"87\\\",\\\"88\\\",\\\"89\\\",\\\"90\\\",\\\"91\\\",\\\"92\\\",\\\"93\\\",\\\"94\\\",\\\"95\\\",\\\"96\\\",\\\"97\\\",\\\"98\\\",\\\"99\\\",\\\"100\\\",\\\"101\\\",\\\"102\\\",\\\"103\\\",\\\"104\\\",\\\"105\\\",\\\"106\\\",\\\"107\\\",\\\"108\\\",\\\"109\\\",\\\"110\\\",\\\"111\\\",\\\"112\\\",\\\"113\\\",\\\"114\\\",\\\"115\\\",\\\"116\\\",\\\"117\\\",\\\"118\\\",\\\"119\\\",\\\"120\\\",\\\"121\\\",\\\"122\\\",\\\"123\\\",\\\"124\\\",\\\"125\\\",\\\"126\\\",\\\"127\\\",\\\"128\\\",\\\"129\\\",\\\"130\\\",\\\"131\\\",\\\"132\\\",\\\"133\\\",\\\"134\\\",\\\"135\\\",\\\"136\\\",\\\"137\\\",\\\"138\\\",\\\"139\\\",\\\"140\\\",\\\"141\\\",\\\"142\\\",\\\"143\\\",\\\"144\\\",\\\"145\\\",\\\"146\\\",\\\"147\\\",\\\"148\\\",\\\"149\\\",\\\"150\\\",\\\"151\\\",\\\"152\\\",\\\"153\\\",\\\"154\\\",\\\"155\\\",\\\"156\\\",\\\"157\\\",\\\"158\\\",\\\"159\\\",\\\"160\\\",\\\"161\\\",\\\"162\\\",\\\"163\\\",\\\"164\\\",\\\"165\\\",\\\"166\\\",\\\"167\\\",\\\"168\\\",\\\"169\\\",\\\"170\\\",\\\"171\\\",\\\"172\\\",\\\"173\\\",\\\"174\\\",\\\"175\\\",\\\"176\\\",\\\"177\\\",\\\"178\\\",\\\"179\\\",\\\"180\\\",\\\"181\\\",\\\"182\\\",\\\"183\\\",\\\"184\\\",\\\"185\\\",\\\"186\\\",\\\"187\\\",\\\"188\\\",\\\"189\\\",\\\"190\\\",\\\"191\\\",\\\"192\\\",\\\"193\\\",\\\"194\\\",\\\"195\\\",\\\"196\\\",\\\"197\\\",\\\"198\\\",\\\"199\\\",\\\"200\\\",\\\"201\\\",\\\"202\\\",\\\"203\\\",\\\"204\\\",\\\"205\\\",\\\"206\\\",\\\"207\\\",\\\"208\\\",\\\"209\\\",\\\"210\\\",\\\"211\\\",\\\"212\\\",\\\"213\\\",\\\"214\\\",\\\"215\\\",\\\"216\\\",\\\"217\\\",\\\"218\\\",\\\"219\\\",\\\"220\\\",\\\"221\\\",\\\"222\\\",\\\"223\\\",\\\"224\\\",\\\"225\\\",\\\"226\\\",\\\"227\\\",\\\"228\\\",\\\"229\\\",\\\"230\\\",\\\"231\\\",\\\"232\\\",\\\"233\\\",\\\"234\\\",\\\"235\\\",\\\"236\\\",\\\"237\\\",\\\"238\\\",\\\"239\\\",\\\"240\\\",\\\"241\\\",\\\"242\\\",\\\"243\\\",\\\"244\\\",\\\"245\\\",\\\"246\\\",\\\"247\\\",\\\"248\\\",\\\"249\\\",\\\"250\\\",\\\"251\\\",\\\"252\\\",\\\"253\\\",\\\"254\\\",\\\"255\\\",\\\"256\\\",\\\"257\\\",\\\"258\\\",\\\"259\\\",\\\"260\\\",\\\"261\\\",\\\"262\\\",\\\"263\\\",\\\"264\\\",\\\"265\\\",\\\"266\\\",\\\"267\\\",\\\"268\\\",\\\"269\\\",\\\"270\\\",\\\"271\\\",\\\"272\\\",\\\"273\\\",\\\"274\\\",\\\"275\\\",\\\"276\\\",\\\"277\\\",\\\"278\\\",\\\"279\\\",\\\"280\\\",\\\"281\\\",\\\"282\\\",\\\"283\\\",\\\"284\\\",\\\"285\\\",\\\"286\\\",\\\"287\\\",\\\"288\\\",\\\"289\\\",\\\"290\\\",\\\"291\\\",\\\"292\\\",\\\"293\\\",\\\"294\\\",\\\"295\\\",\\\"296\\\",\\\"297\\\",\\\"298\\\",\\\"299\\\",\\\"300\\\",\\\"301\\\",\\\"302\\\",\\\"303\\\",\\\"304\\\",\\\"305\\\",\\\"306\\\",\\\"307\\\",\\\"308\\\",\\\"309\\\",\\\"310\\\",\\\"311\\\",\\\"312\\\",\\\"313\\\",\\\"314\\\",\\\"315\\\",\\\"316\\\",\\\"317\\\",\\\"318\\\",\\\"319\\\",\\\"320\\\",\\\"321\\\",\\\"322\\\",\\\"323\\\",\\\"324\\\",\\\"325\\\",\\\"326\\\",\\\"327\\\",\\\"328\\\",\\\"329\\\",\\\"330\\\",\\\"331\\\",\\\"332\\\",\\\"333\\\",\\\"334\\\",\\\"335\\\",\\\"336\\\",\\\"337\\\",\\\"338\\\",\\\"339\\\",\\\"340\\\",\\\"341\\\",\\\"342\\\",\\\"343\\\",\\\"344\\\",\\\"345\\\",\\\"346\\\",\\\"347\\\",\\\"348\\\",\\\"349\\\",\\\"350\\\",\\\"351\\\",\\\"352\\\",\\\"353\\\",\\\"354\\\",\\\"355\\\",\\\"356\\\",\\\"357\\\",\\\"358\\\",\\\"359\\\",\\\"360\\\",\\\"361\\\",\\\"362\\\",\\\"363\\\",\\\"364\\\",\\\"365\\\",\\\"366\\\",\\\"367\\\",\\\"368\\\",\\\"369\\\",\\\"370\\\",\\\"371\\\",\\\"372\\\",\\\"373\\\",\\\"374\\\",\\\"375\\\",\\\"376\\\",\\\"377\\\",\\\"378\\\",\\\"379\\\",\\\"380\\\",\\\"381\\\",\\\"382\\\",\\\"383\\\",\\\"384\\\",\\\"385\\\",\\\"386\\\",\\\"387\\\",\\\"388\\\",\\\"389\\\",\\\"390\\\",\\\"391\\\",\\\"392\\\",\\\"393\\\",\\\"394\\\",\\\"395\\\",\\\"396\\\",\\\"397\\\",\\\"398\\\",\\\"399\\\",\\\"400\\\"],\\\"changes\\\":WebIO.getval({\\\"name\\\":\\\"changes\\\",\\\"scope\\\":\\\"13528449948769058686\\\",\\\"id\\\":\\\"17551337255259803815\\\",\\\"type\\\":\\\"observable\\\"}),\\\"index\\\":WebIO.getval({\\\"name\\\":\\\"index\\\",\\\"scope\\\":\\\"13528449948769058686\\\",\\\"id\\\":\\\"2822240849482909453\\\",\\\"type\\\":\\\"observable\\\"})};\\n    var self = this;\\n    function AppViewModel() {\\n        for (var key in json_data) {\\n            var el = json_data[key];\\n            this[key] = Array.isArray(el) ? ko.observableArray(el) : ko.observable(el);\\n        }\\n        \\n        [this[\\\"formatted_val\\\"]=ko.computed(    function(){\\n        return this.formatted_vals()[parseInt(this.index())-(1)];\\n    }\\n,this)]\\n        [this[\\\"changes\\\"].subscribe((function (val){!(this.valueFromJulia[\\\"changes\\\"]) ? (WebIO.setval({\\\"name\\\":\\\"changes\\\",\\\"scope\\\":\\\"13528449948769058686\\\",\\\"id\\\":\\\"17551337255259803815\\\",\\\"type\\\":\\\"observable\\\"},val)) : undefined; return this.valueFromJulia[\\\"changes\\\"]=false}),self),this[\\\"index\\\"].subscribe((function (val){!(this.valueFromJulia[\\\"index\\\"]) ? (WebIO.setval({\\\"name\\\":\\\"index\\\",\\\"scope\\\":\\\"13528449948769058686\\\",\\\"id\\\":\\\"2822240849482909453\\\",\\\"type\\\":\\\"observable\\\"},val)) : undefined; return this.valueFromJulia[\\\"index\\\"]=false}),self)]\\n        \\n    }\\n    self.model = new AppViewModel();\\n    self.valueFromJulia = {};\\n    for (var key in json_data) {\\n        self.valueFromJulia[key] = false;\\n    }\\n    ko.applyBindings(self.model, self.dom);\\n}\\n);\\n    (WebIO.importBlock({\\\"data\\\":[{\\\"name\\\":\\\"knockout\\\",\\\"type\\\":\\\"js\\\",\\\"url\\\":\\\"/assetserver/727383f2a47bd31570b7da84eee7b022dd6d7c78-knockout.js\\\"},{\\\"name\\\":\\\"knockout_punches\\\",\\\"type\\\":\\\"js\\\",\\\"url\\\":\\\"/assetserver/382b41b3b1bd9f26f75861d360bad7f8beea211f-knockout_punches.js\\\"}],\\\"type\\\":\\\"async_block\\\"})).then((imports) => handler.apply(this, imports));\\n}\\n\")])], Dict{Symbol, Any}(:className => \"field interact-widget\")), WebIO.Node{WebIO.DOM}(WebIO.DOM(:html, :div), Any[WebIO.Scope(WebIO.Node{WebIO.DOM}(WebIO.DOM(:html, :div), Any[WebIO.Node{WebIO.DOM}(WebIO.DOM(:html, :div), Any[WebIO.Node{WebIO.DOM}(WebIO.DOM(:html, :label), Any[\"scale\"], Dict{Symbol, Any}(:className => \"interact \", :style => Dict{Any, Any}(:padding => \"5px 10px 0px 10px\")))], Dict{Symbol, Any}(:className => \"interact-flex-row-left\")), WebIO.Node{WebIO.DOM}(WebIO.DOM(:html, :div), Any[WebIO.Node{WebIO.DOM}(WebIO.DOM(:html, :input), Any[], Dict{Symbol, Any}(:max => 20, :min => 1, :attributes => Dict{Any, Any}(:type => \"range\", Symbol(\"data-bind\") => \"numericValue: index, valueUpdate: 'input', event: {change: function (){this.changes(this.changes()+1)}}\", \"orient\" => \"horizontal\"), :step => 1, :className => \"slider slider is-fullwidth\", :style => Dict{Any, Any}()))], Dict{Symbol, Any}(:className => \"interact-flex-row-center\")), WebIO.Node{WebIO.DOM}(WebIO.DOM(:html, :div), Any[WebIO.Node{WebIO.DOM}(WebIO.DOM(:html, :p), Any[], Dict{Symbol, Any}(:attributes => Dict(\"data-bind\" => \"text: formatted_val\")))], Dict{Symbol, Any}(:className => \"interact-flex-row-right\"))], Dict{Symbol, Any}(:className => \"interact-flex-row interact-widget\")), Dict{String, Tuple{Observables.AbstractObservable, Union{Nothing, Bool}}}(\"changes\" => (Observable(0), nothing), \"index\" => (Observable{Any}(10), nothing)), Set{String}(), nothing, WebIO.Asset[WebIO.Asset(\"js\", \"knockout\", \"/home/dushya/.julia/packages/Knockout/HReiN/src/../assets/knockout.js\"), WebIO.Asset(\"js\", \"knockout_punches\", \"/home/dushya/.julia/packages/Knockout/HReiN/src/../assets/knockout_punches.js\"), WebIO.Asset(\"js\", nothing, \"/home/dushya/.julia/packages/InteractBase/LJXv3/src/../assets/all.js\"), WebIO.Asset(\"css\", nothing, \"/home/dushya/.julia/packages/InteractBase/LJXv3/src/../assets/style.css\"), WebIO.Asset(\"css\", nothing, \"/home/dushya/.julia/packages/Interact/PENUy/src/../assets/bulma_confined.min.css\")], Dict{Any, Any}(\"changes\" => Any[WebIO.JSString(\"(function (val){return (val!=this.model[\\\"changes\\\"]()) ? (this.valueFromJulia[\\\"changes\\\"]=true, this.model[\\\"changes\\\"](val)) : undefined})\")], \"index\" => Any[WebIO.JSString(\"(function (val){return (val!=this.model[\\\"index\\\"]()) ? (this.valueFromJulia[\\\"index\\\"]=true, this.model[\\\"index\\\"](val)) : undefined})\")]), WebIO.ConnectionPool(Channel{Any}(32), Set{WebIO.AbstractConnection}(), Base.GenericCondition{ReentrantLock}(Base.IntrusiveLinkedList{Task}(Task (runnable) @0x00007f666b72c650, Task (runnable) @0x00007f666b72c650), ReentrantLock(nothing, 0x00000000, 0x00, Base.GenericCondition{Base.Threads.SpinLock}(Base.IntrusiveLinkedList{Task}(nothing, nothing), Base.Threads.SpinLock(0)), (8, 0, 141733920768)))), WebIO.JSString[WebIO.JSString(\"function () {\\n    var handler = (function (ko, koPunches) {\\n    ko.punches.enableAll();\\n    ko.bindingHandlers.numericValue = {\\n        init: function(element, valueAccessor, allBindings, data, context) {\\n            var stringified = ko.observable(ko.unwrap(valueAccessor()));\\n            stringified.subscribe(function(value) {\\n                var val = parseFloat(value);\\n                if (!isNaN(val)) {\\n                    valueAccessor()(val);\\n                }\\n            });\\n            valueAccessor().subscribe(function(value) {\\n                var str = JSON.stringify(value);\\n                if ((str == \\\"0\\\") && ([\\\"-0\\\", \\\"-0.\\\"].indexOf(stringified()) >= 0))\\n                     return;\\n                 if ([\\\"null\\\", \\\"\\\"].indexOf(str) >= 0)\\n                     return;\\n                stringified(str);\\n            });\\n            ko.applyBindingsToNode(\\n                element,\\n                {\\n                    value: stringified,\\n                    valueUpdate: allBindings.get('valueUpdate'),\\n                },\\n                context,\\n            );\\n        }\\n    };\\n    var json_data = {\\\"formatted_vals\\\":[\\\"0.1\\\",\\\"0.2\\\",\\\"0.3\\\",\\\"0.4\\\",\\\"0.5\\\",\\\"0.6\\\",\\\"0.7\\\",\\\"0.8\\\",\\\"0.9\\\",\\\"1.0\\\",\\\"1.1\\\",\\\"1.2\\\",\\\"1.3\\\",\\\"1.4\\\",\\\"1.5\\\",\\\"1.6\\\",\\\"1.7\\\",\\\"1.8\\\",\\\"1.9\\\",\\\"2.0\\\"],\\\"changes\\\":WebIO.getval({\\\"name\\\":\\\"changes\\\",\\\"scope\\\":\\\"11065932035451131021\\\",\\\"id\\\":\\\"14957185859192974513\\\",\\\"type\\\":\\\"observable\\\"}),\\\"index\\\":WebIO.getval({\\\"name\\\":\\\"index\\\",\\\"scope\\\":\\\"11065932035451131021\\\",\\\"id\\\":\\\"18159200459365049113\\\",\\\"type\\\":\\\"observable\\\"})};\\n    var self = this;\\n    function AppViewModel() {\\n        for (var key in json_data) {\\n            var el = json_data[key];\\n            this[key] = Array.isArray(el) ? ko.observableArray(el) : ko.observable(el);\\n        }\\n        \\n        [this[\\\"formatted_val\\\"]=ko.computed(    function(){\\n        return this.formatted_vals()[parseInt(this.index())-(1)];\\n    }\\n,this)]\\n        [this[\\\"changes\\\"].subscribe((function (val){!(this.valueFromJulia[\\\"changes\\\"]) ? (WebIO.setval({\\\"name\\\":\\\"changes\\\",\\\"scope\\\":\\\"11065932035451131021\\\",\\\"id\\\":\\\"14957185859192974513\\\",\\\"type\\\":\\\"observable\\\"},val)) : undefined; return this.valueFromJulia[\\\"changes\\\"]=false}),self),this[\\\"index\\\"].subscribe((function (val){!(this.valueFromJulia[\\\"index\\\"]) ? (WebIO.setval({\\\"name\\\":\\\"index\\\",\\\"scope\\\":\\\"11065932035451131021\\\",\\\"id\\\":\\\"18159200459365049113\\\",\\\"type\\\":\\\"observable\\\"},val)) : undefined; return this.valueFromJulia[\\\"index\\\"]=false}),self)]\\n        \\n    }\\n    self.model = new AppViewModel();\\n    self.valueFromJulia = {};\\n    for (var key in json_data) {\\n        self.valueFromJulia[key] = false;\\n    }\\n    ko.applyBindings(self.model, self.dom);\\n}\\n);\\n    (WebIO.importBlock({\\\"data\\\":[{\\\"name\\\":\\\"knockout\\\",\\\"type\\\":\\\"js\\\",\\\"url\\\":\\\"/assetserver/727383f2a47bd31570b7da84eee7b022dd6d7c78-knockout.js\\\"},{\\\"name\\\":\\\"knockout_punches\\\",\\\"type\\\":\\\"js\\\",\\\"url\\\":\\\"/assetserver/382b41b3b1bd9f26f75861d360bad7f8beea211f-knockout_punches.js\\\"}],\\\"type\\\":\\\"async_block\\\"})).then((imports) => handler.apply(this, imports));\\n}\\n\")])], Dict{Symbol, Any}(:className => \"field interact-widget\")), WebIO.Node{WebIO.DOM}(WebIO.DOM(:html, :div), Any[], Dict{Symbol, Any}(:style => Dict(\"display\" => \"flex\", \"flex-direction\" => \"column\"))), WebIO.Node{WebIO.DOM}(WebIO.DOM(:html, :div), Any[WebIO.Node{WebIO.DOM}(WebIO.DOM(:html, :div), Any[WebIO.Scope(WebIO.Node{WebIO.DOM}(WebIO.DOM(:html, :div), Any[WebIO.Node{WebIO.DOM}(WebIO.DOM(:html, :div), Any[WebIO.Node{WebIO.DOM}(WebIO.DOM(:html, :label), Any[\"min_dis\"], Dict{Symbol, Any}(:className => \"interact \", :style => Dict{Any, Any}(:padding => \"5px 10px 0px 10px\")))], Dict{Symbol, Any}(:className => \"interact-flex-row-left\")), WebIO.Node{WebIO.DOM}(WebIO.DOM(:html, :div), Any[WebIO.Node{WebIO.DOM}(WebIO.DOM(:html, :input), Any[], Dict{Symbol, Any}(:max => 10, :min => 1, :attributes => Dict{Any, Any}(:type => \"range\", Symbol(\"data-bind\") => \"numericValue: index, valueUpdate: 'input', event: {change: function (){this.changes(this.changes()+1)}}\", \"orient\" => \"horizontal\"), :step => 1, :className => \"slider slider is-fullwidth\", :style => Dict{Any, Any}()))], Dict{Symbol, Any}(:className => \"interact-flex-row-center\")), WebIO.Node{WebIO.DOM}(WebIO.DOM(:html, :div), Any[WebIO.Node{WebIO.DOM}(WebIO.DOM(:html, :p), Any[], Dict{Symbol, Any}(:attributes => Dict(\"data-bind\" => \"text: formatted_val\")))], Dict{Symbol, Any}(:className => \"interact-flex-row-right\"))], Dict{Symbol, Any}(:className => \"interact-flex-row interact-widget\")), Dict{String, Tuple{Observables.AbstractObservable, Union{Nothing, Bool}}}(\"changes\" => (Observable(0), nothing), \"index\" => (Observable{Any}(5), nothing)), Set{String}(), nothing, WebIO.Asset[WebIO.Asset(\"js\", \"knockout\", \"/home/dushya/.julia/packages/Knockout/HReiN/src/../assets/knockout.js\"), WebIO.Asset(\"js\", \"knockout_punches\", \"/home/dushya/.julia/packages/Knockout/HReiN/src/../assets/knockout_punches.js\"), WebIO.Asset(\"js\", nothing, \"/home/dushya/.julia/packages/InteractBase/LJXv3/src/../assets/all.js\"), WebIO.Asset(\"css\", nothing, \"/home/dushya/.julia/packages/InteractBase/LJXv3/src/../assets/style.css\"), WebIO.Asset(\"css\", nothing, \"/home/dushya/.julia/packages/Interact/PENUy/src/../assets/bulma_confined.min.css\")], Dict{Any, Any}(\"changes\" => Any[WebIO.JSString(\"(function (val){return (val!=this.model[\\\"changes\\\"]()) ? (this.valueFromJulia[\\\"changes\\\"]=true, this.model[\\\"changes\\\"](val)) : undefined})\")], \"index\" => Any[WebIO.JSString(\"(function (val){return (val!=this.model[\\\"index\\\"]()) ? (this.valueFromJulia[\\\"index\\\"]=true, this.model[\\\"index\\\"](val)) : undefined})\")]), WebIO.ConnectionPool(Channel{Any}(32), Set{WebIO.AbstractConnection}(), Base.GenericCondition{ReentrantLock}(Base.IntrusiveLinkedList{Task}(Task (runnable) @0x00007f666b85a0e0, Task (runnable) @0x00007f666b85a0e0), ReentrantLock(nothing, 0x00000000, 0x00, Base.GenericCondition{Base.Threads.SpinLock}(Base.IntrusiveLinkedList{Task}(nothing, nothing), Base.Threads.SpinLock(0)), (41, 140079631421088, 139779710648320)))), WebIO.JSString[WebIO.JSString(\"function () {\\n    var handler = (function (ko, koPunches) {\\n    ko.punches.enableAll();\\n    ko.bindingHandlers.numericValue = {\\n        init: function(element, valueAccessor, allBindings, data, context) {\\n            var stringified = ko.observable(ko.unwrap(valueAccessor()));\\n            stringified.subscribe(function(value) {\\n                var val = parseFloat(value);\\n                if (!isNaN(val)) {\\n                    valueAccessor()(val);\\n                }\\n            });\\n            valueAccessor().subscribe(function(value) {\\n                var str = JSON.stringify(value);\\n                if ((str == \\\"0\\\") && ([\\\"-0\\\", \\\"-0.\\\"].indexOf(stringified()) >= 0))\\n                     return;\\n                 if ([\\\"null\\\", \\\"\\\"].indexOf(str) >= 0)\\n                     return;\\n                stringified(str);\\n            });\\n            ko.applyBindingsToNode(\\n                element,\\n                {\\n                    value: stringified,\\n                    valueUpdate: allBindings.get('valueUpdate'),\\n                },\\n                context,\\n            );\\n        }\\n    };\\n    var json_data = {\\\"formatted_vals\\\":[\\\"0.01\\\",\\\"0.11\\\",\\\"0.21\\\",\\\"0.31\\\",\\\"0.41\\\",\\\"0.51\\\",\\\"0.61\\\",\\\"0.71\\\",\\\"0.81\\\",\\\"0.91\\\"],\\\"changes\\\":WebIO.getval({\\\"name\\\":\\\"changes\\\",\\\"scope\\\":\\\"16092906342514422039\\\",\\\"id\\\":\\\"5973295873103948995\\\",\\\"type\\\":\\\"observable\\\"}),\\\"index\\\":WebIO.getval({\\\"name\\\":\\\"index\\\",\\\"scope\\\":\\\"16092906342514422039\\\",\\\"id\\\":\\\"14709774809146268057\\\",\\\"type\\\":\\\"observable\\\"})};\\n    var self = this;\\n    function AppViewModel() {\\n        for (var key in json_data) {\\n            var el = json_data[key];\\n            this[key] = Array.isArray(el) ? ko.observableArray(el) : ko.observable(el);\\n        }\\n        \\n        [this[\\\"formatted_val\\\"]=ko.computed(    function(){\\n        return this.formatted_vals()[parseInt(this.index())-(1)];\\n    }\\n,this)]\\n        [this[\\\"changes\\\"].subscribe((function (val){!(this.valueFromJulia[\\\"changes\\\"]) ? (WebIO.setval({\\\"name\\\":\\\"changes\\\",\\\"scope\\\":\\\"16092906342514422039\\\",\\\"id\\\":\\\"5973295873103948995\\\",\\\"type\\\":\\\"observable\\\"},val)) : undefined; return this.valueFromJulia[\\\"changes\\\"]=false}),self),this[\\\"index\\\"].subscribe((function (val){!(this.valueFromJulia[\\\"index\\\"]) ? (WebIO.setval({\\\"name\\\":\\\"index\\\",\\\"scope\\\":\\\"16092906342514422039\\\",\\\"id\\\":\\\"14709774809146268057\\\",\\\"type\\\":\\\"observable\\\"},val)) : undefined; return this.valueFromJulia[\\\"index\\\"]=false}),self)]\\n        \\n    }\\n    self.model = new AppViewModel();\\n    self.valueFromJulia = {};\\n    for (var key in json_data) {\\n        self.valueFromJulia[key] = false;\\n    }\\n    ko.applyBindings(self.model, self.dom);\\n}\\n);\\n    (WebIO.importBlock({\\\"data\\\":[{\\\"name\\\":\\\"knockout\\\",\\\"type\\\":\\\"js\\\",\\\"url\\\":\\\"/assetserver/727383f2a47bd31570b7da84eee7b022dd6d7c78-knockout.js\\\"},{\\\"name\\\":\\\"knockout_punches\\\",\\\"type\\\":\\\"js\\\",\\\"url\\\":\\\"/assetserver/382b41b3b1bd9f26f75861d360bad7f8beea211f-knockout_punches.js\\\"}],\\\"type\\\":\\\"async_block\\\"})).then((imports) => handler.apply(this, imports));\\n}\\n\")])], Dict{Symbol, Any}(:className => \"field interact-widget\")), WebIO.Node{WebIO.DOM}(WebIO.DOM(:html, :div), Any[WebIO.Scope(WebIO.Node{WebIO.DOM}(WebIO.DOM(:html, :div), Any[WebIO.Node{WebIO.DOM}(WebIO.DOM(:html, :div), Any[WebIO.Node{WebIO.DOM}(WebIO.DOM(:html, :label), Any[\"coh_fac\"], Dict{Symbol, Any}(:className => \"interact \", :style => Dict{Any, Any}(:padding => \"5px 10px 0px 10px\")))], Dict{Symbol, Any}(:className => \"interact-flex-row-left\")), WebIO.Node{WebIO.DOM}(WebIO.DOM(:html, :div), Any[WebIO.Node{WebIO.DOM}(WebIO.DOM(:html, :input), Any[], Dict{Symbol, Any}(:max => 100, :min => 1, :attributes => Dict{Any, Any}(:type => \"range\", Symbol(\"data-bind\") => \"numericValue: index, valueUpdate: 'input', event: {change: function (){this.changes(this.changes()+1)}}\", \"orient\" => \"horizontal\"), :step => 1, :className => \"slider slider is-fullwidth\", :style => Dict{Any, Any}()))], Dict{Symbol, Any}(:className => \"interact-flex-row-center\")), WebIO.Node{WebIO.DOM}(WebIO.DOM(:html, :div), Any[WebIO.Node{WebIO.DOM}(WebIO.DOM(:html, :p), Any[], Dict{Symbol, Any}(:attributes => Dict(\"data-bind\" => \"text: formatted_val\")))], Dict{Symbol, Any}(:className => \"interact-flex-row-right\"))], Dict{Symbol, Any}(:className => \"interact-flex-row interact-widget\")), Dict{String, Tuple{Observables.AbstractObservable, Union{Nothing, Bool}}}(\"changes\" => (Observable(0), nothing), \"index\" => (Observable{Any}(50), nothing)), Set{String}(), nothing, WebIO.Asset[WebIO.Asset(\"js\", \"knockout\", \"/home/dushya/.julia/packages/Knockout/HReiN/src/../assets/knockout.js\"), WebIO.Asset(\"js\", \"knockout_punches\", \"/home/dushya/.julia/packages/Knockout/HReiN/src/../assets/knockout_punches.js\"), WebIO.Asset(\"js\", nothing, \"/home/dushya/.julia/packages/InteractBase/LJXv3/src/../assets/all.js\"), WebIO.Asset(\"css\", nothing, \"/home/dushya/.julia/packages/InteractBase/LJXv3/src/../assets/style.css\"), WebIO.Asset(\"css\", nothing, \"/home/dushya/.julia/packages/Interact/PENUy/src/../assets/bulma_confined.min.css\")], Dict{Any, Any}(\"changes\" => Any[WebIO.JSString(\"(function (val){return (val!=this.model[\\\"changes\\\"]()) ? (this.valueFromJulia[\\\"changes\\\"]=true, this.model[\\\"changes\\\"](val)) : undefined})\")], \"index\" => Any[WebIO.JSString(\"(function (val){return (val!=this.model[\\\"index\\\"]()) ? (this.valueFromJulia[\\\"index\\\"]=true, this.model[\\\"index\\\"](val)) : undefined})\")]), WebIO.ConnectionPool(Channel{Any}(32), Set{WebIO.AbstractConnection}(), Base.GenericCondition{ReentrantLock}(Base.IntrusiveLinkedList{Task}(Task (runnable) @0x00007f666b8d0c90, Task (runnable) @0x00007f666b8d0c90), ReentrantLock(nothing, 0x00000000, 0x00, Base.GenericCondition{Base.Threads.SpinLock}(Base.IntrusiveLinkedList{Task}(nothing, nothing), Base.Threads.SpinLock(0)), (8, 0, 141733920768)))), WebIO.JSString[WebIO.JSString(\"function () {\\n    var handler = (function (ko, koPunches) {\\n    ko.punches.enableAll();\\n    ko.bindingHandlers.numericValue = {\\n        init: function(element, valueAccessor, allBindings, data, context) {\\n            var stringified = ko.observable(ko.unwrap(valueAccessor()));\\n            stringified.subscribe(function(value) {\\n                var val = parseFloat(value);\\n                if (!isNaN(val)) {\\n                    valueAccessor()(val);\\n                }\\n            });\\n            valueAccessor().subscribe(function(value) {\\n                var str = JSON.stringify(value);\\n                if ((str == \\\"0\\\") && ([\\\"-0\\\", \\\"-0.\\\"].indexOf(stringified()) >= 0))\\n                     return;\\n                 if ([\\\"null\\\", \\\"\\\"].indexOf(str) >= 0)\\n                     return;\\n                stringified(str);\\n            });\\n            ko.applyBindingsToNode(\\n                element,\\n                {\\n                    value: stringified,\\n                    valueUpdate: allBindings.get('valueUpdate'),\\n                },\\n                context,\\n            );\\n        }\\n    };\\n    var json_data = {\\\"formatted_vals\\\":[\\\"0.01\\\",\\\"0.02\\\",\\\"0.03\\\",\\\"0.04\\\",\\\"0.05\\\",\\\"0.06\\\",\\\"0.07\\\",\\\"0.08\\\",\\\"0.09\\\",\\\"0.1\\\",\\\"0.11\\\",\\\"0.12\\\",\\\"0.13\\\",\\\"0.14\\\",\\\"0.15\\\",\\\"0.16\\\",\\\"0.17\\\",\\\"0.18\\\",\\\"0.19\\\",\\\"0.2\\\",\\\"0.21\\\",\\\"0.22\\\",\\\"0.23\\\",\\\"0.24\\\",\\\"0.25\\\",\\\"0.26\\\",\\\"0.27\\\",\\\"0.28\\\",\\\"0.29\\\",\\\"0.3\\\",\\\"0.31\\\",\\\"0.32\\\",\\\"0.33\\\",\\\"0.34\\\",\\\"0.35\\\",\\\"0.36\\\",\\\"0.37\\\",\\\"0.38\\\",\\\"0.39\\\",\\\"0.4\\\",\\\"0.41\\\",\\\"0.42\\\",\\\"0.43\\\",\\\"0.44\\\",\\\"0.45\\\",\\\"0.46\\\",\\\"0.47\\\",\\\"0.48\\\",\\\"0.49\\\",\\\"0.5\\\",\\\"0.51\\\",\\\"0.52\\\",\\\"0.53\\\",\\\"0.54\\\",\\\"0.55\\\",\\\"0.56\\\",\\\"0.57\\\",\\\"0.58\\\",\\\"0.59\\\",\\\"0.6\\\",\\\"0.61\\\",\\\"0.62\\\",\\\"0.63\\\",\\\"0.64\\\",\\\"0.65\\\",\\\"0.66\\\",\\\"0.67\\\",\\\"0.68\\\",\\\"0.69\\\",\\\"0.7\\\",\\\"0.71\\\",\\\"0.72\\\",\\\"0.73\\\",\\\"0.74\\\",\\\"0.75\\\",\\\"0.76\\\",\\\"0.77\\\",\\\"0.78\\\",\\\"0.79\\\",\\\"0.8\\\",\\\"0.81\\\",\\\"0.82\\\",\\\"0.83\\\",\\\"0.84\\\",\\\"0.85\\\",\\\"0.86\\\",\\\"0.87\\\",\\\"0.88\\\",\\\"0.89\\\",\\\"0.9\\\",\\\"0.91\\\",\\\"0.92\\\",\\\"0.93\\\",\\\"0.94\\\",\\\"0.95\\\",\\\"0.96\\\",\\\"0.97\\\",\\\"0.98\\\",\\\"0.99\\\",\\\"1.0\\\"],\\\"changes\\\":WebIO.getval({\\\"name\\\":\\\"changes\\\",\\\"scope\\\":\\\"11821494977344306385\\\",\\\"id\\\":\\\"465375543230608361\\\",\\\"type\\\":\\\"observable\\\"}),\\\"index\\\":WebIO.getval({\\\"name\\\":\\\"index\\\",\\\"scope\\\":\\\"11821494977344306385\\\",\\\"id\\\":\\\"1385667437532631077\\\",\\\"type\\\":\\\"observable\\\"})};\\n    var self = this;\\n    function AppViewModel() {\\n        for (var key in json_data) {\\n            var el = json_data[key];\\n            this[key] = Array.isArray(el) ? ko.observableArray(el) : ko.observable(el);\\n        }\\n        \\n        [this[\\\"formatted_val\\\"]=ko.computed(    function(){\\n        return this.formatted_vals()[parseInt(this.index())-(1)];\\n    }\\n,this)]\\n        [this[\\\"changes\\\"].subscribe((function (val){!(this.valueFromJulia[\\\"changes\\\"]) ? (WebIO.setval({\\\"name\\\":\\\"changes\\\",\\\"scope\\\":\\\"11821494977344306385\\\",\\\"id\\\":\\\"465375543230608361\\\",\\\"type\\\":\\\"observable\\\"},val)) : undefined; return this.valueFromJulia[\\\"changes\\\"]=false}),self),this[\\\"index\\\"].subscribe((function (val){!(this.valueFromJulia[\\\"index\\\"]) ? (WebIO.setval({\\\"name\\\":\\\"index\\\",\\\"scope\\\":\\\"11821494977344306385\\\",\\\"id\\\":\\\"1385667437532631077\\\",\\\"type\\\":\\\"observable\\\"},val)) : undefined; return this.valueFromJulia[\\\"index\\\"]=false}),self)]\\n        \\n    }\\n    self.model = new AppViewModel();\\n    self.valueFromJulia = {};\\n    for (var key in json_data) {\\n        self.valueFromJulia[key] = false;\\n    }\\n    ko.applyBindings(self.model, self.dom);\\n}\\n);\\n    (WebIO.importBlock({\\\"data\\\":[{\\\"name\\\":\\\"knockout\\\",\\\"type\\\":\\\"js\\\",\\\"url\\\":\\\"/assetserver/727383f2a47bd31570b7da84eee7b022dd6d7c78-knockout.js\\\"},{\\\"name\\\":\\\"knockout_punches\\\",\\\"type\\\":\\\"js\\\",\\\"url\\\":\\\"/assetserver/382b41b3b1bd9f26f75861d360bad7f8beea211f-knockout_punches.js\\\"}],\\\"type\\\":\\\"async_block\\\"})).then((imports) => handler.apply(this, imports));\\n}\\n\")])], Dict{Symbol, Any}(:className => \"field interact-widget\")), WebIO.Node{WebIO.DOM}(WebIO.DOM(:html, :div), Any[WebIO.Scope(WebIO.Node{WebIO.DOM}(WebIO.DOM(:html, :div), Any[WebIO.Node{WebIO.DOM}(WebIO.DOM(:html, :div), Any[WebIO.Node{WebIO.DOM}(WebIO.DOM(:html, :label), Any[\"sep_fac\"], Dict{Symbol, Any}(:className => \"interact \", :style => Dict{Any, Any}(:padding => \"5px 10px 0px 10px\")))], Dict{Symbol, Any}(:className => \"interact-flex-row-left\")), WebIO.Node{WebIO.DOM}(WebIO.DOM(:html, :div), Any[WebIO.Node{WebIO.DOM}(WebIO.DOM(:html, :input), Any[], Dict{Symbol, Any}(:max => 100, :min => 1, :attributes => Dict{Any, Any}(:type => \"range\", Symbol(\"data-bind\") => \"numericValue: index, valueUpdate: 'input', event: {change: function (){this.changes(this.changes()+1)}}\", \"orient\" => \"horizontal\"), :step => 1, :className => \"slider slider is-fullwidth\", :style => Dict{Any, Any}()))], Dict{Symbol, Any}(:className => \"interact-flex-row-center\")), WebIO.Node{WebIO.DOM}(WebIO.DOM(:html, :div), Any[WebIO.Node{WebIO.DOM}(WebIO.DOM(:html, :p), Any[], Dict{Symbol, Any}(:attributes => Dict(\"data-bind\" => \"text: formatted_val\")))], Dict{Symbol, Any}(:className => \"interact-flex-row-right\"))], Dict{Symbol, Any}(:className => \"interact-flex-row interact-widget\")), Dict{String, Tuple{Observables.AbstractObservable, Union{Nothing, Bool}}}(\"changes\" => (Observable(0), nothing), \"index\" => (Observable{Any}(50), nothing)), Set{String}(), nothing, WebIO.Asset[WebIO.Asset(\"js\", \"knockout\", \"/home/dushya/.julia/packages/Knockout/HReiN/src/../assets/knockout.js\"), WebIO.Asset(\"js\", \"knockout_punches\", \"/home/dushya/.julia/packages/Knockout/HReiN/src/../assets/knockout_punches.js\"), WebIO.Asset(\"js\", nothing, \"/home/dushya/.julia/packages/InteractBase/LJXv3/src/../assets/all.js\"), WebIO.Asset(\"css\", nothing, \"/home/dushya/.julia/packages/InteractBase/LJXv3/src/../assets/style.css\"), WebIO.Asset(\"css\", nothing, \"/home/dushya/.julia/packages/Interact/PENUy/src/../assets/bulma_confined.min.css\")], Dict{Any, Any}(\"changes\" => Any[WebIO.JSString(\"(function (val){return (val!=this.model[\\\"changes\\\"]()) ? (this.valueFromJulia[\\\"changes\\\"]=true, this.model[\\\"changes\\\"](val)) : undefined})\")], \"index\" => Any[WebIO.JSString(\"(function (val){return (val!=this.model[\\\"index\\\"]()) ? (this.valueFromJulia[\\\"index\\\"]=true, this.model[\\\"index\\\"](val)) : undefined})\")]), WebIO.ConnectionPool(Channel{Any}(32), Set{WebIO.AbstractConnection}(), Base.GenericCondition{ReentrantLock}(Base.IntrusiveLinkedList{Task}(Task (runnable) @0x00007f666b8d33a0, Task (runnable) @0x00007f666b8d33a0), ReentrantLock(nothing, 0x00000000, 0x00, Base.GenericCondition{Base.Threads.SpinLock}(Base.IntrusiveLinkedList{Task}(nothing, nothing), Base.Threads.SpinLock(0)), (8, 0, 4294967297)))), WebIO.JSString[WebIO.JSString(\"function () {\\n    var handler = (function (ko, koPunches) {\\n    ko.punches.enableAll();\\n    ko.bindingHandlers.numericValue = {\\n        init: function(element, valueAccessor, allBindings, data, context) {\\n            var stringified = ko.observable(ko.unwrap(valueAccessor()));\\n            stringified.subscribe(function(value) {\\n                var val = parseFloat(value);\\n                if (!isNaN(val)) {\\n                    valueAccessor()(val);\\n                }\\n            });\\n            valueAccessor().subscribe(function(value) {\\n                var str = JSON.stringify(value);\\n                if ((str == \\\"0\\\") && ([\\\"-0\\\", \\\"-0.\\\"].indexOf(stringified()) >= 0))\\n                     return;\\n                 if ([\\\"null\\\", \\\"\\\"].indexOf(str) >= 0)\\n                     return;\\n                stringified(str);\\n            });\\n            ko.applyBindingsToNode(\\n                element,\\n                {\\n                    value: stringified,\\n                    valueUpdate: allBindings.get('valueUpdate'),\\n                },\\n                context,\\n            );\\n        }\\n    };\\n    var json_data = {\\\"formatted_vals\\\":[\\\"0.01\\\",\\\"0.02\\\",\\\"0.03\\\",\\\"0.04\\\",\\\"0.05\\\",\\\"0.06\\\",\\\"0.07\\\",\\\"0.08\\\",\\\"0.09\\\",\\\"0.1\\\",\\\"0.11\\\",\\\"0.12\\\",\\\"0.13\\\",\\\"0.14\\\",\\\"0.15\\\",\\\"0.16\\\",\\\"0.17\\\",\\\"0.18\\\",\\\"0.19\\\",\\\"0.2\\\",\\\"0.21\\\",\\\"0.22\\\",\\\"0.23\\\",\\\"0.24\\\",\\\"0.25\\\",\\\"0.26\\\",\\\"0.27\\\",\\\"0.28\\\",\\\"0.29\\\",\\\"0.3\\\",\\\"0.31\\\",\\\"0.32\\\",\\\"0.33\\\",\\\"0.34\\\",\\\"0.35\\\",\\\"0.36\\\",\\\"0.37\\\",\\\"0.38\\\",\\\"0.39\\\",\\\"0.4\\\",\\\"0.41\\\",\\\"0.42\\\",\\\"0.43\\\",\\\"0.44\\\",\\\"0.45\\\",\\\"0.46\\\",\\\"0.47\\\",\\\"0.48\\\",\\\"0.49\\\",\\\"0.5\\\",\\\"0.51\\\",\\\"0.52\\\",\\\"0.53\\\",\\\"0.54\\\",\\\"0.55\\\",\\\"0.56\\\",\\\"0.57\\\",\\\"0.58\\\",\\\"0.59\\\",\\\"0.6\\\",\\\"0.61\\\",\\\"0.62\\\",\\\"0.63\\\",\\\"0.64\\\",\\\"0.65\\\",\\\"0.66\\\",\\\"0.67\\\",\\\"0.68\\\",\\\"0.69\\\",\\\"0.7\\\",\\\"0.71\\\",\\\"0.72\\\",\\\"0.73\\\",\\\"0.74\\\",\\\"0.75\\\",\\\"0.76\\\",\\\"0.77\\\",\\\"0.78\\\",\\\"0.79\\\",\\\"0.8\\\",\\\"0.81\\\",\\\"0.82\\\",\\\"0.83\\\",\\\"0.84\\\",\\\"0.85\\\",\\\"0.86\\\",\\\"0.87\\\",\\\"0.88\\\",\\\"0.89\\\",\\\"0.9\\\",\\\"0.91\\\",\\\"0.92\\\",\\\"0.93\\\",\\\"0.94\\\",\\\"0.95\\\",\\\"0.96\\\",\\\"0.97\\\",\\\"0.98\\\",\\\"0.99\\\",\\\"1.0\\\"],\\\"changes\\\":WebIO.getval({\\\"name\\\":\\\"changes\\\",\\\"scope\\\":\\\"8806194648704627601\\\",\\\"id\\\":\\\"11939334350932512186\\\",\\\"type\\\":\\\"observable\\\"}),\\\"index\\\":WebIO.getval({\\\"name\\\":\\\"index\\\",\\\"scope\\\":\\\"8806194648704627601\\\",\\\"id\\\":\\\"8423217492201533364\\\",\\\"type\\\":\\\"observable\\\"})};\\n    var self = this;\\n    function AppViewModel() {\\n        for (var key in json_data) {\\n            var el = json_data[key];\\n            this[key] = Array.isArray(el) ? ko.observableArray(el) : ko.observable(el);\\n        }\\n        \\n        [this[\\\"formatted_val\\\"]=ko.computed(    function(){\\n        return this.formatted_vals()[parseInt(this.index())-(1)];\\n    }\\n,this)]\\n        [this[\\\"changes\\\"].subscribe((function (val){!(this.valueFromJulia[\\\"changes\\\"]) ? (WebIO.setval({\\\"name\\\":\\\"changes\\\",\\\"scope\\\":\\\"8806194648704627601\\\",\\\"id\\\":\\\"11939334350932512186\\\",\\\"type\\\":\\\"observable\\\"},val)) : undefined; return this.valueFromJulia[\\\"changes\\\"]=false}),self),this[\\\"index\\\"].subscribe((function (val){!(this.valueFromJulia[\\\"index\\\"]) ? (WebIO.setval({\\\"name\\\":\\\"index\\\",\\\"scope\\\":\\\"8806194648704627601\\\",\\\"id\\\":\\\"8423217492201533364\\\",\\\"type\\\":\\\"observable\\\"},val)) : undefined; return this.valueFromJulia[\\\"index\\\"]=false}),self)]\\n        \\n    }\\n    self.model = new AppViewModel();\\n    self.valueFromJulia = {};\\n    for (var key in json_data) {\\n        self.valueFromJulia[key] = false;\\n    }\\n    ko.applyBindings(self.model, self.dom);\\n}\\n);\\n    (WebIO.importBlock({\\\"data\\\":[{\\\"name\\\":\\\"knockout\\\",\\\"type\\\":\\\"js\\\",\\\"url\\\":\\\"/assetserver/727383f2a47bd31570b7da84eee7b022dd6d7c78-knockout.js\\\"},{\\\"name\\\":\\\"knockout_punches\\\",\\\"type\\\":\\\"js\\\",\\\"url\\\":\\\"/assetserver/382b41b3b1bd9f26f75861d360bad7f8beea211f-knockout_punches.js\\\"}],\\\"type\\\":\\\"async_block\\\"})).then((imports) => handler.apply(this, imports));\\n}\\n\")])], Dict{Symbol, Any}(:className => \"field interact-widget\")), WebIO.Node{WebIO.DOM}(WebIO.DOM(:html, :div), Any[WebIO.Scope(WebIO.Node{WebIO.DOM}(WebIO.DOM(:html, :div), Any[WebIO.Node{WebIO.DOM}(WebIO.DOM(:html, :div), Any[WebIO.Node{WebIO.DOM}(WebIO.DOM(:html, :label), Any[\"aln_fac\"], Dict{Symbol, Any}(:className => \"interact \", :style => Dict{Any, Any}(:padding => \"5px 10px 0px 10px\")))], Dict{Symbol, Any}(:className => \"interact-flex-row-left\")), WebIO.Node{WebIO.DOM}(WebIO.DOM(:html, :div), Any[WebIO.Node{WebIO.DOM}(WebIO.DOM(:html, :input), Any[], Dict{Symbol, Any}(:max => 100, :min => 1, :attributes => Dict{Any, Any}(:type => \"range\", Symbol(\"data-bind\") => \"numericValue: index, valueUpdate: 'input', event: {change: function (){this.changes(this.changes()+1)}}\", \"orient\" => \"horizontal\"), :step => 1, :className => \"slider slider is-fullwidth\", :style => Dict{Any, Any}()))], Dict{Symbol, Any}(:className => \"interact-flex-row-center\")), WebIO.Node{WebIO.DOM}(WebIO.DOM(:html, :div), Any[WebIO.Node{WebIO.DOM}(WebIO.DOM(:html, :p), Any[], Dict{Symbol, Any}(:attributes => Dict(\"data-bind\" => \"text: formatted_val\")))], Dict{Symbol, Any}(:className => \"interact-flex-row-right\"))], Dict{Symbol, Any}(:className => \"interact-flex-row interact-widget\")), Dict{String, Tuple{Observables.AbstractObservable, Union{Nothing, Bool}}}(\"changes\" => (Observable(0), nothing), \"index\" => (Observable{Any}(50), nothing)), Set{String}(), nothing, WebIO.Asset[WebIO.Asset(\"js\", \"knockout\", \"/home/dushya/.julia/packages/Knockout/HReiN/src/../assets/knockout.js\"), WebIO.Asset(\"js\", \"knockout_punches\", \"/home/dushya/.julia/packages/Knockout/HReiN/src/../assets/knockout_punches.js\"), WebIO.Asset(\"js\", nothing, \"/home/dushya/.julia/packages/InteractBase/LJXv3/src/../assets/all.js\"), WebIO.Asset(\"css\", nothing, \"/home/dushya/.julia/packages/InteractBase/LJXv3/src/../assets/style.css\"), WebIO.Asset(\"css\", nothing, \"/home/dushya/.julia/packages/Interact/PENUy/src/../assets/bulma_confined.min.css\")], Dict{Any, Any}(\"changes\" => Any[WebIO.JSString(\"(function (val){return (val!=this.model[\\\"changes\\\"]()) ? (this.valueFromJulia[\\\"changes\\\"]=true, this.model[\\\"changes\\\"](val)) : undefined})\")], \"index\" => Any[WebIO.JSString(\"(function (val){return (val!=this.model[\\\"index\\\"]()) ? (this.valueFromJulia[\\\"index\\\"]=true, this.model[\\\"index\\\"](val)) : undefined})\")]), WebIO.ConnectionPool(Channel{Any}(32), Set{WebIO.AbstractConnection}(), Base.GenericCondition{ReentrantLock}(Base.IntrusiveLinkedList{Task}(Task (runnable) @0x00007f666ba91c30, Task (runnable) @0x00007f666ba91c30), ReentrantLock(nothing, 0x00000000, 0x00, Base.GenericCondition{Base.Threads.SpinLock}(Base.IntrusiveLinkedList{Task}(nothing, nothing), Base.Threads.SpinLock(0)), (8, 0, 139779710648320)))), WebIO.JSString[WebIO.JSString(\"function () {\\n    var handler = (function (ko, koPunches) {\\n    ko.punches.enableAll();\\n    ko.bindingHandlers.numericValue = {\\n        init: function(element, valueAccessor, allBindings, data, context) {\\n            var stringified = ko.observable(ko.unwrap(valueAccessor()));\\n            stringified.subscribe(function(value) {\\n                var val = parseFloat(value);\\n                if (!isNaN(val)) {\\n                    valueAccessor()(val);\\n                }\\n            });\\n            valueAccessor().subscribe(function(value) {\\n                var str = JSON.stringify(value);\\n                if ((str == \\\"0\\\") && ([\\\"-0\\\", \\\"-0.\\\"].indexOf(stringified()) >= 0))\\n                     return;\\n                 if ([\\\"null\\\", \\\"\\\"].indexOf(str) >= 0)\\n                     return;\\n                stringified(str);\\n            });\\n            ko.applyBindingsToNode(\\n                element,\\n                {\\n                    value: stringified,\\n                    valueUpdate: allBindings.get('valueUpdate'),\\n                },\\n                context,\\n            );\\n        }\\n    };\\n    var json_data = {\\\"formatted_vals\\\":[\\\"0.01\\\",\\\"0.02\\\",\\\"0.03\\\",\\\"0.04\\\",\\\"0.05\\\",\\\"0.06\\\",\\\"0.07\\\",\\\"0.08\\\",\\\"0.09\\\",\\\"0.1\\\",\\\"0.11\\\",\\\"0.12\\\",\\\"0.13\\\",\\\"0.14\\\",\\\"0.15\\\",\\\"0.16\\\",\\\"0.17\\\",\\\"0.18\\\",\\\"0.19\\\",\\\"0.2\\\",\\\"0.21\\\",\\\"0.22\\\",\\\"0.23\\\",\\\"0.24\\\",\\\"0.25\\\",\\\"0.26\\\",\\\"0.27\\\",\\\"0.28\\\",\\\"0.29\\\",\\\"0.3\\\",\\\"0.31\\\",\\\"0.32\\\",\\\"0.33\\\",\\\"0.34\\\",\\\"0.35\\\",\\\"0.36\\\",\\\"0.37\\\",\\\"0.38\\\",\\\"0.39\\\",\\\"0.4\\\",\\\"0.41\\\",\\\"0.42\\\",\\\"0.43\\\",\\\"0.44\\\",\\\"0.45\\\",\\\"0.46\\\",\\\"0.47\\\",\\\"0.48\\\",\\\"0.49\\\",\\\"0.5\\\",\\\"0.51\\\",\\\"0.52\\\",\\\"0.53\\\",\\\"0.54\\\",\\\"0.55\\\",\\\"0.56\\\",\\\"0.57\\\",\\\"0.58\\\",\\\"0.59\\\",\\\"0.6\\\",\\\"0.61\\\",\\\"0.62\\\",\\\"0.63\\\",\\\"0.64\\\",\\\"0.65\\\",\\\"0.66\\\",\\\"0.67\\\",\\\"0.68\\\",\\\"0.69\\\",\\\"0.7\\\",\\\"0.71\\\",\\\"0.72\\\",\\\"0.73\\\",\\\"0.74\\\",\\\"0.75\\\",\\\"0.76\\\",\\\"0.77\\\",\\\"0.78\\\",\\\"0.79\\\",\\\"0.8\\\",\\\"0.81\\\",\\\"0.82\\\",\\\"0.83\\\",\\\"0.84\\\",\\\"0.85\\\",\\\"0.86\\\",\\\"0.87\\\",\\\"0.88\\\",\\\"0.89\\\",\\\"0.9\\\",\\\"0.91\\\",\\\"0.92\\\",\\\"0.93\\\",\\\"0.94\\\",\\\"0.95\\\",\\\"0.96\\\",\\\"0.97\\\",\\\"0.98\\\",\\\"0.99\\\",\\\"1.0\\\"],\\\"changes\\\":WebIO.getval({\\\"name\\\":\\\"changes\\\",\\\"scope\\\":\\\"15620187703232709577\\\",\\\"id\\\":\\\"6791534094706814421\\\",\\\"type\\\":\\\"observable\\\"}),\\\"index\\\":WebIO.getval({\\\"name\\\":\\\"index\\\",\\\"scope\\\":\\\"15620187703232709577\\\",\\\"id\\\":\\\"11299876624349391014\\\",\\\"type\\\":\\\"observable\\\"})};\\n    var self = this;\\n    function AppViewModel() {\\n        for (var key in json_data) {\\n            var el = json_data[key];\\n            this[key] = Array.isArray(el) ? ko.observableArray(el) : ko.observable(el);\\n        }\\n        \\n        [this[\\\"formatted_val\\\"]=ko.computed(    function(){\\n        return this.formatted_vals()[parseInt(this.index())-(1)];\\n    }\\n,this)]\\n        [this[\\\"changes\\\"].subscribe((function (val){!(this.valueFromJulia[\\\"changes\\\"]) ? (WebIO.setval({\\\"name\\\":\\\"changes\\\",\\\"scope\\\":\\\"15620187703232709577\\\",\\\"id\\\":\\\"6791534094706814421\\\",\\\"type\\\":\\\"observable\\\"},val)) : undefined; return this.valueFromJulia[\\\"changes\\\"]=false}),self),this[\\\"index\\\"].subscribe((function (val){!(this.valueFromJulia[\\\"index\\\"]) ? (WebIO.setval({\\\"name\\\":\\\"index\\\",\\\"scope\\\":\\\"15620187703232709577\\\",\\\"id\\\":\\\"11299876624349391014\\\",\\\"type\\\":\\\"observable\\\"},val)) : undefined; return this.valueFromJulia[\\\"index\\\"]=false}),self)]\\n        \\n    }\\n    self.model = new AppViewModel();\\n    self.valueFromJulia = {};\\n    for (var key in json_data) {\\n        self.valueFromJulia[key] = false;\\n    }\\n    ko.applyBindings(self.model, self.dom);\\n}\\n);\\n    (WebIO.importBlock({\\\"data\\\":[{\\\"name\\\":\\\"knockout\\\",\\\"type\\\":\\\"js\\\",\\\"url\\\":\\\"/assetserver/727383f2a47bd31570b7da84eee7b022dd6d7c78-knockout.js\\\"},{\\\"name\\\":\\\"knockout_punches\\\",\\\"type\\\":\\\"js\\\",\\\"url\\\":\\\"/assetserver/382b41b3b1bd9f26f75861d360bad7f8beea211f-knockout_punches.js\\\"}],\\\"type\\\":\\\"async_block\\\"})).then((imports) => handler.apply(this, imports));\\n}\\n\")])], Dict{Symbol, Any}(:className => \"field interact-widget\")), WebIO.Node{WebIO.DOM}(WebIO.DOM(:html, :div), Any[WebIO.Scope(WebIO.Node{WebIO.DOM}(WebIO.DOM(:html, :div), Any[WebIO.Node{WebIO.DOM}(WebIO.DOM(:html, :div), Any[WebIO.Node{WebIO.DOM}(WebIO.DOM(:html, :label), Any[\"vis_range\"], Dict{Symbol, Any}(:className => \"interact \", :style => Dict{Any, Any}(:padding => \"5px 10px 0px 10px\")))], Dict{Symbol, Any}(:className => \"interact-flex-row-left\")), WebIO.Node{WebIO.DOM}(WebIO.DOM(:html, :div), Any[WebIO.Node{WebIO.DOM}(WebIO.DOM(:html, :input), Any[], Dict{Symbol, Any}(:max => 8, :min => 1, :attributes => Dict{Any, Any}(:type => \"range\", Symbol(\"data-bind\") => \"numericValue: index, valueUpdate: 'input', event: {change: function (){this.changes(this.changes()+1)}}\", \"orient\" => \"horizontal\"), :step => 1, :className => \"slider slider is-fullwidth\", :style => Dict{Any, Any}()))], Dict{Symbol, Any}(:className => \"interact-flex-row-center\")), WebIO.Node{WebIO.DOM}(WebIO.DOM(:html, :div), Any[WebIO.Node{WebIO.DOM}(WebIO.DOM(:html, :p), Any[], Dict{Symbol, Any}(:attributes => Dict(\"data-bind\" => \"text: formatted_val\")))], Dict{Symbol, Any}(:className => \"interact-flex-row-right\"))], Dict{Symbol, Any}(:className => \"interact-flex-row interact-widget\")), Dict{String, Tuple{Observables.AbstractObservable, Union{Nothing, Bool}}}(\"changes\" => (Observable(0), nothing), \"index\" => (Observable{Any}(4), nothing)), Set{String}(), nothing, WebIO.Asset[WebIO.Asset(\"js\", \"knockout\", \"/home/dushya/.julia/packages/Knockout/HReiN/src/../assets/knockout.js\"), WebIO.Asset(\"js\", \"knockout_punches\", \"/home/dushya/.julia/packages/Knockout/HReiN/src/../assets/knockout_punches.js\"), WebIO.Asset(\"js\", nothing, \"/home/dushya/.julia/packages/InteractBase/LJXv3/src/../assets/all.js\"), WebIO.Asset(\"css\", nothing, \"/home/dushya/.julia/packages/InteractBase/LJXv3/src/../assets/style.css\"), WebIO.Asset(\"css\", nothing, \"/home/dushya/.julia/packages/Interact/PENUy/src/../assets/bulma_confined.min.css\")], Dict{Any, Any}(\"changes\" => Any[WebIO.JSString(\"(function (val){return (val!=this.model[\\\"changes\\\"]()) ? (this.valueFromJulia[\\\"changes\\\"]=true, this.model[\\\"changes\\\"](val)) : undefined})\")], \"index\" => Any[WebIO.JSString(\"(function (val){return (val!=this.model[\\\"index\\\"]()) ? (this.valueFromJulia[\\\"index\\\"]=true, this.model[\\\"index\\\"](val)) : undefined})\")]), WebIO.ConnectionPool(Channel{Any}(32), Set{WebIO.AbstractConnection}(), Base.GenericCondition{ReentrantLock}(Base.IntrusiveLinkedList{Task}(Task (runnable) @0x00007f666bb187e0, Task (runnable) @0x00007f666bb187e0), ReentrantLock(nothing, 0x00000000, 0x00, Base.GenericCondition{Base.Threads.SpinLock}(Base.IntrusiveLinkedList{Task}(nothing, nothing), Base.Threads.SpinLock(0)), (8, 0, 139779710648320)))), WebIO.JSString[WebIO.JSString(\"function () {\\n    var handler = (function (ko, koPunches) {\\n    ko.punches.enableAll();\\n    ko.bindingHandlers.numericValue = {\\n        init: function(element, valueAccessor, allBindings, data, context) {\\n            var stringified = ko.observable(ko.unwrap(valueAccessor()));\\n            stringified.subscribe(function(value) {\\n                var val = parseFloat(value);\\n                if (!isNaN(val)) {\\n                    valueAccessor()(val);\\n                }\\n            });\\n            valueAccessor().subscribe(function(value) {\\n                var str = JSON.stringify(value);\\n                if ((str == \\\"0\\\") && ([\\\"-0\\\", \\\"-0.\\\"].indexOf(stringified()) >= 0))\\n                     return;\\n                 if ([\\\"null\\\", \\\"\\\"].indexOf(str) >= 0)\\n                     return;\\n                stringified(str);\\n            });\\n            ko.applyBindingsToNode(\\n                element,\\n                {\\n                    value: stringified,\\n                    valueUpdate: allBindings.get('valueUpdate'),\\n                },\\n                context,\\n            );\\n        }\\n    };\\n    var json_data = {\\\"formatted_vals\\\":[\\\"0.5\\\",\\\"1.0\\\",\\\"1.5\\\",\\\"2.0\\\",\\\"2.5\\\",\\\"3.0\\\",\\\"3.5\\\",\\\"4.0\\\"],\\\"changes\\\":WebIO.getval({\\\"name\\\":\\\"changes\\\",\\\"scope\\\":\\\"5727157722622112275\\\",\\\"id\\\":\\\"2710500322555720038\\\",\\\"type\\\":\\\"observable\\\"}),\\\"index\\\":WebIO.getval({\\\"name\\\":\\\"index\\\",\\\"scope\\\":\\\"5727157722622112275\\\",\\\"id\\\":\\\"18025414279764049335\\\",\\\"type\\\":\\\"observable\\\"})};\\n    var self = this;\\n    function AppViewModel() {\\n        for (var key in json_data) {\\n            var el = json_data[key];\\n            this[key] = Array.isArray(el) ? ko.observableArray(el) : ko.observable(el);\\n        }\\n        \\n        [this[\\\"formatted_val\\\"]=ko.computed(    function(){\\n        return this.formatted_vals()[parseInt(this.index())-(1)];\\n    }\\n,this)]\\n        [this[\\\"changes\\\"].subscribe((function (val){!(this.valueFromJulia[\\\"changes\\\"]) ? (WebIO.setval({\\\"name\\\":\\\"changes\\\",\\\"scope\\\":\\\"5727157722622112275\\\",\\\"id\\\":\\\"2710500322555720038\\\",\\\"type\\\":\\\"observable\\\"},val)) : undefined; return this.valueFromJulia[\\\"changes\\\"]=false}),self),this[\\\"index\\\"].subscribe((function (val){!(this.valueFromJulia[\\\"index\\\"]) ? (WebIO.setval({\\\"name\\\":\\\"index\\\",\\\"scope\\\":\\\"5727157722622112275\\\",\\\"id\\\":\\\"18025414279764049335\\\",\\\"type\\\":\\\"observable\\\"},val)) : undefined; return this.valueFromJulia[\\\"index\\\"]=false}),self)]\\n        \\n    }\\n    self.model = new AppViewModel();\\n    self.valueFromJulia = {};\\n    for (var key in json_data) {\\n        self.valueFromJulia[key] = false;\\n    }\\n    ko.applyBindings(self.model, self.dom);\\n}\\n);\\n    (WebIO.importBlock({\\\"data\\\":[{\\\"name\\\":\\\"knockout\\\",\\\"type\\\":\\\"js\\\",\\\"url\\\":\\\"/assetserver/727383f2a47bd31570b7da84eee7b022dd6d7c78-knockout.js\\\"},{\\\"name\\\":\\\"knockout_punches\\\",\\\"type\\\":\\\"js\\\",\\\"url\\\":\\\"/assetserver/382b41b3b1bd9f26f75861d360bad7f8beea211f-knockout_punches.js\\\"}],\\\"type\\\":\\\"async_block\\\"})).then((imports) => handler.apply(this, imports));\\n}\\n\")])], Dict{Symbol, Any}(:className => \"field interact-widget\"))], Dict{Symbol, Any}(:style => Dict(\"display\" => \"flex\", \"flex-direction\" => \"column\"))), WebIO.Node{WebIO.DOM}(WebIO.DOM(:html, :div), Any[WebIO.Node{WebIO.DOM}(WebIO.DOM(:html, :div), Any[WebIO.Scope(WebIO.Node{WebIO.DOM}(WebIO.DOM(:html, :div), Any[], Dict{Symbol, Any}(:id => \"container\")), Dict{String, Tuple{Observables.AbstractObservable, Union{Nothing, Bool}}}(\"value\" => (Observable(\"\\\\;\\\\;\"), nothing)), Set{String}(), nothing, WebIO.Asset[WebIO.Asset(\"js\", nothing, \"/home/dushya/.julia/packages/InteractBase/LJXv3/src/../assets/katex.min.js\"), WebIO.Asset(\"css\", nothing, \"/home/dushya/.julia/packages/InteractBase/LJXv3/src/../assets/katex.min.css\")], Dict{Any, Any}(\"value\" => Any[WebIO.JSString(\"(function (txt){return this.k.render(txt,this.container)})\")]), WebIO.ConnectionPool(Channel{Any}(32), Set{WebIO.AbstractConnection}(), Base.GenericCondition{ReentrantLock}(Base.IntrusiveLinkedList{Task}(Task (runnable) @0x00007f66aa18ad60, Task (runnable) @0x00007f66aa18ad60), ReentrantLock(nothing, 0x00000000, 0x00, Base.GenericCondition{Base.Threads.SpinLock}(Base.IntrusiveLinkedList{Task}(nothing, nothing), Base.Threads.SpinLock(0)), (0, 0, 141733920768)))), WebIO.JSString[WebIO.JSString(\"function () {\\n    var handler = ((function (k){this.k=k; this.container=this.dom.querySelector(\\\"#container\\\"); return k.render(\\\"\\\\\\\\;\\\\\\\\;\\\",this.container)}));\\n    (WebIO.importBlock({\\\"data\\\":[{\\\"name\\\":null,\\\"type\\\":\\\"js\\\",\\\"url\\\":\\\"/assetserver/dd22ed1bf1896c2748f3fe616ce0b838adc895c1-katex.min.js\\\"},{\\\"name\\\":null,\\\"type\\\":\\\"css\\\",\\\"url\\\":\\\"/assetserver/46517a424aa5e6cffc1360d7e0848b601c584ee3-katex.min.css\\\"}],\\\"type\\\":\\\"async_block\\\"})).then((imports) => handler.apply(this, imports));\\n}\\n\")])], Dict{Symbol, Any}(:className => \"interact-widget\")), WebIO.Node{WebIO.DOM}(WebIO.DOM(:html, :div), Any[WebIO.Scope(WebIO.Node{WebIO.DOM}(WebIO.DOM(:html, :button), Any[\"run\"], Dict{Symbol, Any}(:attributes => Dict{Any, Any}(\"data-bind\" => \"click: function (){this.clicks(this.clicks()+1)}, css: {'is-loading' : loading}\"), :className => \"is-medium button is-primary\", :style => Dict{String, Any}())), Dict{String, Tuple{Observables.AbstractObservable, Union{Nothing, Bool}}}(\"loading\" => (Observable(false), nothing), \"clicks\" => (Observable(0), nothing)), Set{String}(), nothing, WebIO.Asset[WebIO.Asset(\"js\", \"knockout\", \"/home/dushya/.julia/packages/Knockout/HReiN/src/../assets/knockout.js\"), WebIO.Asset(\"js\", \"knockout_punches\", \"/home/dushya/.julia/packages/Knockout/HReiN/src/../assets/knockout_punches.js\"), WebIO.Asset(\"js\", nothing, \"/home/dushya/.julia/packages/InteractBase/LJXv3/src/../assets/all.js\"), WebIO.Asset(\"css\", nothing, \"/home/dushya/.julia/packages/InteractBase/LJXv3/src/../assets/style.css\"), WebIO.Asset(\"css\", nothing, \"/home/dushya/.julia/packages/Interact/PENUy/src/../assets/bulma_confined.min.css\")], Dict{Any, Any}(\"loading\" => Any[WebIO.JSString(\"(function (val){return (val!=this.model[\\\"loading\\\"]()) ? (this.valueFromJulia[\\\"loading\\\"]=true, this.model[\\\"loading\\\"](val)) : undefined})\")], \"clicks\" => Any[WebIO.JSString(\"(function (val){return (val!=this.model[\\\"clicks\\\"]()) ? (this.valueFromJulia[\\\"clicks\\\"]=true, this.model[\\\"clicks\\\"](val)) : undefined})\")]), WebIO.ConnectionPool(Channel{Any}(32), Set{WebIO.AbstractConnection}(), Base.GenericCondition{ReentrantLock}(Base.IntrusiveLinkedList{Task}(Task (runnable) @0x00007f666bb1b9e0, Task (runnable) @0x00007f666bb1b9e0), ReentrantLock(nothing, 0x00000000, 0x00, Base.GenericCondition{Base.Threads.SpinLock}(Base.IntrusiveLinkedList{Task}(nothing, nothing), Base.Threads.SpinLock(0)), (8, 0, 141733920768)))), WebIO.JSString[WebIO.JSString(\"function () {\\n    var handler = (function (ko, koPunches) {\\n    ko.punches.enableAll();\\n    ko.bindingHandlers.numericValue = {\\n        init: function(element, valueAccessor, allBindings, data, context) {\\n            var stringified = ko.observable(ko.unwrap(valueAccessor()));\\n            stringified.subscribe(function(value) {\\n                var val = parseFloat(value);\\n                if (!isNaN(val)) {\\n                    valueAccessor()(val);\\n                }\\n            });\\n            valueAccessor().subscribe(function(value) {\\n                var str = JSON.stringify(value);\\n                if ((str == \\\"0\\\") && ([\\\"-0\\\", \\\"-0.\\\"].indexOf(stringified()) >= 0))\\n                     return;\\n                 if ([\\\"null\\\", \\\"\\\"].indexOf(str) >= 0)\\n                     return;\\n                stringified(str);\\n            });\\n            ko.applyBindingsToNode(\\n                element,\\n                {\\n                    value: stringified,\\n                    valueUpdate: allBindings.get('valueUpdate'),\\n                },\\n                context,\\n            );\\n        }\\n    };\\n    var json_data = {\\\"loading\\\":WebIO.getval({\\\"name\\\":\\\"loading\\\",\\\"scope\\\":\\\"104575052379607652\\\",\\\"id\\\":\\\"2656642325260673391\\\",\\\"type\\\":\\\"observable\\\"}),\\\"clicks\\\":WebIO.getval({\\\"name\\\":\\\"clicks\\\",\\\"scope\\\":\\\"104575052379607652\\\",\\\"id\\\":\\\"6660975126867287608\\\",\\\"type\\\":\\\"observable\\\"})};\\n    var self = this;\\n    function AppViewModel() {\\n        for (var key in json_data) {\\n            var el = json_data[key];\\n            this[key] = Array.isArray(el) ? ko.observableArray(el) : ko.observable(el);\\n        }\\n        \\n        \\n        [this[\\\"loading\\\"].subscribe((function (val){!(this.valueFromJulia[\\\"loading\\\"]) ? (WebIO.setval({\\\"name\\\":\\\"loading\\\",\\\"scope\\\":\\\"104575052379607652\\\",\\\"id\\\":\\\"2656642325260673391\\\",\\\"type\\\":\\\"observable\\\"},val)) : undefined; return this.valueFromJulia[\\\"loading\\\"]=false}),self),this[\\\"clicks\\\"].subscribe((function (val){!(this.valueFromJulia[\\\"clicks\\\"]) ? (WebIO.setval({\\\"name\\\":\\\"clicks\\\",\\\"scope\\\":\\\"104575052379607652\\\",\\\"id\\\":\\\"6660975126867287608\\\",\\\"type\\\":\\\"observable\\\"},val)) : undefined; return this.valueFromJulia[\\\"clicks\\\"]=false}),self)]\\n        \\n    }\\n    self.model = new AppViewModel();\\n    self.valueFromJulia = {};\\n    for (var key in json_data) {\\n        self.valueFromJulia[key] = false;\\n    }\\n    ko.applyBindings(self.model, self.dom);\\n}\\n);\\n    (WebIO.importBlock({\\\"data\\\":[{\\\"name\\\":\\\"knockout\\\",\\\"type\\\":\\\"js\\\",\\\"url\\\":\\\"/assetserver/727383f2a47bd31570b7da84eee7b022dd6d7c78-knockout.js\\\"},{\\\"name\\\":\\\"knockout_punches\\\",\\\"type\\\":\\\"js\\\",\\\"url\\\":\\\"/assetserver/382b41b3b1bd9f26f75861d360bad7f8beea211f-knockout_punches.js\\\"}],\\\"type\\\":\\\"async_block\\\"})).then((imports) => handler.apply(this, imports));\\n}\\n\")])], Dict{Symbol, Any}(:className => \"field interact-widget\")), WebIO.Node{WebIO.DOM}(WebIO.DOM(:html, :div), Any[WebIO.Scope(WebIO.Node{WebIO.DOM}(WebIO.DOM(:html, :div), Any[], Dict{Symbol, Any}(:id => \"container\")), Dict{String, Tuple{Observables.AbstractObservable, Union{Nothing, Bool}}}(\"value\" => (Observable(\"\\\\;\\\\;\"), nothing)), Set{String}(), nothing, WebIO.Asset[WebIO.Asset(\"js\", nothing, \"/home/dushya/.julia/packages/InteractBase/LJXv3/src/../assets/katex.min.js\"), WebIO.Asset(\"css\", nothing, \"/home/dushya/.julia/packages/InteractBase/LJXv3/src/../assets/katex.min.css\")], Dict{Any, Any}(\"value\" => Any[WebIO.JSString(\"(function (txt){return this.k.render(txt,this.container)})\")]), WebIO.ConnectionPool(Channel{Any}(32), Set{WebIO.AbstractConnection}(), Base.GenericCondition{ReentrantLock}(Base.IntrusiveLinkedList{Task}(Task (runnable) @0x00007f66aa18ad60, Task (runnable) @0x00007f66aa18ad60), ReentrantLock(nothing, 0x00000000, 0x00, Base.GenericCondition{Base.Threads.SpinLock}(Base.IntrusiveLinkedList{Task}(nothing, nothing), Base.Threads.SpinLock(0)), (0, 0, 141733920768)))), WebIO.JSString[WebIO.JSString(\"function () {\\n    var handler = ((function (k){this.k=k; this.container=this.dom.querySelector(\\\"#container\\\"); return k.render(\\\"\\\\\\\\;\\\\\\\\;\\\",this.container)}));\\n    (WebIO.importBlock({\\\"data\\\":[{\\\"name\\\":null,\\\"type\\\":\\\"js\\\",\\\"url\\\":\\\"/assetserver/dd22ed1bf1896c2748f3fe616ce0b838adc895c1-katex.min.js\\\"},{\\\"name\\\":null,\\\"type\\\":\\\"css\\\",\\\"url\\\":\\\"/assetserver/46517a424aa5e6cffc1360d7e0848b601c584ee3-katex.min.css\\\"}],\\\"type\\\":\\\"async_block\\\"})).then((imports) => handler.apply(this, imports));\\n}\\n\")])], Dict{Symbol, Any}(:className => \"interact-widget\")), WebIO.Node{WebIO.DOM}(WebIO.DOM(:html, :div), Any[WebIO.Scope(WebIO.Node{WebIO.DOM}(WebIO.DOM(:html, :button), Any[\"stop\"], Dict{Symbol, Any}(:attributes => Dict{Any, Any}(\"data-bind\" => \"click: function (){this.clicks(this.clicks()+1)}, css: {'is-loading' : loading}\"), :className => \"is-medium button is-primary\", :style => Dict{String, Any}())), Dict{String, Tuple{Observables.AbstractObservable, Union{Nothing, Bool}}}(\"loading\" => (Observable(false), nothing), \"clicks\" => (Observable(0), nothing)), Set{String}(), nothing, WebIO.Asset[WebIO.Asset(\"js\", \"knockout\", \"/home/dushya/.julia/packages/Knockout/HReiN/src/../assets/knockout.js\"), WebIO.Asset(\"js\", \"knockout_punches\", \"/home/dushya/.julia/packages/Knockout/HReiN/src/../assets/knockout_punches.js\"), WebIO.Asset(\"js\", nothing, \"/home/dushya/.julia/packages/InteractBase/LJXv3/src/../assets/all.js\"), WebIO.Asset(\"css\", nothing, \"/home/dushya/.julia/packages/InteractBase/LJXv3/src/../assets/style.css\"), WebIO.Asset(\"css\", nothing, \"/home/dushya/.julia/packages/Interact/PENUy/src/../assets/bulma_confined.min.css\")], Dict{Any, Any}(\"loading\" => Any[WebIO.JSString(\"(function (val){return (val!=this.model[\\\"loading\\\"]()) ? (this.valueFromJulia[\\\"loading\\\"]=true, this.model[\\\"loading\\\"](val)) : undefined})\")], \"clicks\" => Any[WebIO.JSString(\"(function (val){return (val!=this.model[\\\"clicks\\\"]()) ? (this.valueFromJulia[\\\"clicks\\\"]=true, this.model[\\\"clicks\\\"](val)) : undefined})\")]), WebIO.ConnectionPool(Channel{Any}(32), Set{WebIO.AbstractConnection}(), Base.GenericCondition{ReentrantLock}(Base.IntrusiveLinkedList{Task}(Task (runnable) @0x00007f666bb6e270, Task (runnable) @0x00007f666bb6e270), ReentrantLock(nothing, 0x00000000, 0x00, Base.GenericCondition{Base.Threads.SpinLock}(Base.IntrusiveLinkedList{Task}(nothing, nothing), Base.Threads.SpinLock(0)), (8, 0, 141733920768)))), WebIO.JSString[WebIO.JSString(\"function () {\\n    var handler = (function (ko, koPunches) {\\n    ko.punches.enableAll();\\n    ko.bindingHandlers.numericValue = {\\n        init: function(element, valueAccessor, allBindings, data, context) {\\n            var stringified = ko.observable(ko.unwrap(valueAccessor()));\\n            stringified.subscribe(function(value) {\\n                var val = parseFloat(value);\\n                if (!isNaN(val)) {\\n                    valueAccessor()(val);\\n                }\\n            });\\n            valueAccessor().subscribe(function(value) {\\n                var str = JSON.stringify(value);\\n                if ((str == \\\"0\\\") && ([\\\"-0\\\", \\\"-0.\\\"].indexOf(stringified()) >= 0))\\n                     return;\\n                 if ([\\\"null\\\", \\\"\\\"].indexOf(str) >= 0)\\n                     return;\\n                stringified(str);\\n            });\\n            ko.applyBindingsToNode(\\n                element,\\n                {\\n                    value: stringified,\\n                    valueUpdate: allBindings.get('valueUpdate'),\\n                },\\n                context,\\n            );\\n        }\\n    };\\n    var json_data = {\\\"loading\\\":WebIO.getval({\\\"name\\\":\\\"loading\\\",\\\"scope\\\":\\\"6535443668725384033\\\",\\\"id\\\":\\\"15832586933691060080\\\",\\\"type\\\":\\\"observable\\\"}),\\\"clicks\\\":WebIO.getval({\\\"name\\\":\\\"clicks\\\",\\\"scope\\\":\\\"6535443668725384033\\\",\\\"id\\\":\\\"10160481873889505828\\\",\\\"type\\\":\\\"observable\\\"})};\\n    var self = this;\\n    function AppViewModel() {\\n        for (var key in json_data) {\\n            var el = json_data[key];\\n            this[key] = Array.isArray(el) ? ko.observableArray(el) : ko.observable(el);\\n        }\\n        \\n        \\n        [this[\\\"loading\\\"].subscribe((function (val){!(this.valueFromJulia[\\\"loading\\\"]) ? (WebIO.setval({\\\"name\\\":\\\"loading\\\",\\\"scope\\\":\\\"6535443668725384033\\\",\\\"id\\\":\\\"15832586933691060080\\\",\\\"type\\\":\\\"observable\\\"},val)) : undefined; return this.valueFromJulia[\\\"loading\\\"]=false}),self),this[\\\"clicks\\\"].subscribe((function (val){!(this.valueFromJulia[\\\"clicks\\\"]) ? (WebIO.setval({\\\"name\\\":\\\"clicks\\\",\\\"scope\\\":\\\"6535443668725384033\\\",\\\"id\\\":\\\"10160481873889505828\\\",\\\"type\\\":\\\"observable\\\"},val)) : undefined; return this.valueFromJulia[\\\"clicks\\\"]=false}),self)]\\n        \\n    }\\n    self.model = new AppViewModel();\\n    self.valueFromJulia = {};\\n    for (var key in json_data) {\\n        self.valueFromJulia[key] = false;\\n    }\\n    ko.applyBindings(self.model, self.dom);\\n}\\n);\\n    (WebIO.importBlock({\\\"data\\\":[{\\\"name\\\":\\\"knockout\\\",\\\"type\\\":\\\"js\\\",\\\"url\\\":\\\"/assetserver/727383f2a47bd31570b7da84eee7b022dd6d7c78-knockout.js\\\"},{\\\"name\\\":\\\"knockout_punches\\\",\\\"type\\\":\\\"js\\\",\\\"url\\\":\\\"/assetserver/382b41b3b1bd9f26f75861d360bad7f8beea211f-knockout_punches.js\\\"}],\\\"type\\\":\\\"async_block\\\"})).then((imports) => handler.apply(this, imports));\\n}\\n\")])], Dict{Symbol, Any}(:className => \"field interact-widget\")), WebIO.Node{WebIO.DOM}(WebIO.DOM(:html, :div), Any[WebIO.Scope(WebIO.Node{WebIO.DOM}(WebIO.DOM(:html, :div), Any[], Dict{Symbol, Any}(:id => \"container\")), Dict{String, Tuple{Observables.AbstractObservable, Union{Nothing, Bool}}}(\"value\" => (Observable(\"\\\\;\\\\;\"), nothing)), Set{String}(), nothing, WebIO.Asset[WebIO.Asset(\"js\", nothing, \"/home/dushya/.julia/packages/InteractBase/LJXv3/src/../assets/katex.min.js\"), WebIO.Asset(\"css\", nothing, \"/home/dushya/.julia/packages/InteractBase/LJXv3/src/../assets/katex.min.css\")], Dict{Any, Any}(\"value\" => Any[WebIO.JSString(\"(function (txt){return this.k.render(txt,this.container)})\")]), WebIO.ConnectionPool(Channel{Any}(32), Set{WebIO.AbstractConnection}(), Base.GenericCondition{ReentrantLock}(Base.IntrusiveLinkedList{Task}(Task (runnable) @0x00007f66aa18ad60, Task (runnable) @0x00007f66aa18ad60), ReentrantLock(nothing, 0x00000000, 0x00, Base.GenericCondition{Base.Threads.SpinLock}(Base.IntrusiveLinkedList{Task}(nothing, nothing), Base.Threads.SpinLock(0)), (0, 0, 141733920768)))), WebIO.JSString[WebIO.JSString(\"function () {\\n    var handler = ((function (k){this.k=k; this.container=this.dom.querySelector(\\\"#container\\\"); return k.render(\\\"\\\\\\\\;\\\\\\\\;\\\",this.container)}));\\n    (WebIO.importBlock({\\\"data\\\":[{\\\"name\\\":null,\\\"type\\\":\\\"js\\\",\\\"url\\\":\\\"/assetserver/dd22ed1bf1896c2748f3fe616ce0b838adc895c1-katex.min.js\\\"},{\\\"name\\\":null,\\\"type\\\":\\\"css\\\",\\\"url\\\":\\\"/assetserver/46517a424aa5e6cffc1360d7e0848b601c584ee3-katex.min.css\\\"}],\\\"type\\\":\\\"async_block\\\"})).then((imports) => handler.apply(this, imports));\\n}\\n\")])], Dict{Symbol, Any}(:className => \"interact-widget\")), WebIO.Node{WebIO.DOM}(WebIO.DOM(:html, :div), Any[WebIO.Scope(WebIO.Node{WebIO.DOM}(WebIO.DOM(:html, :button), Any[\"reset\"], Dict{Symbol, Any}(:attributes => Dict{Any, Any}(\"data-bind\" => \"click: function (){this.clicks(this.clicks()+1)}, css: {'is-loading' : loading}\"), :className => \"is-medium button is-primary\", :style => Dict{String, Any}())), Dict{String, Tuple{Observables.AbstractObservable, Union{Nothing, Bool}}}(\"loading\" => (Observable(false), nothing), \"clicks\" => (Observable(0), nothing)), Set{String}(), nothing, WebIO.Asset[WebIO.Asset(\"js\", \"knockout\", \"/home/dushya/.julia/packages/Knockout/HReiN/src/../assets/knockout.js\"), WebIO.Asset(\"js\", \"knockout_punches\", \"/home/dushya/.julia/packages/Knockout/HReiN/src/../assets/knockout_punches.js\"), WebIO.Asset(\"js\", nothing, \"/home/dushya/.julia/packages/InteractBase/LJXv3/src/../assets/all.js\"), WebIO.Asset(\"css\", nothing, \"/home/dushya/.julia/packages/InteractBase/LJXv3/src/../assets/style.css\"), WebIO.Asset(\"css\", nothing, \"/home/dushya/.julia/packages/Interact/PENUy/src/../assets/bulma_confined.min.css\")], Dict{Any, Any}(\"loading\" => Any[WebIO.JSString(\"(function (val){return (val!=this.model[\\\"loading\\\"]()) ? (this.valueFromJulia[\\\"loading\\\"]=true, this.model[\\\"loading\\\"](val)) : undefined})\")], \"clicks\" => Any[WebIO.JSString(\"(function (val){return (val!=this.model[\\\"clicks\\\"]()) ? (this.valueFromJulia[\\\"clicks\\\"]=true, this.model[\\\"clicks\\\"](val)) : undefined})\")]), WebIO.ConnectionPool(Channel{Any}(32), Set{WebIO.AbstractConnection}(), Base.GenericCondition{ReentrantLock}(Base.IntrusiveLinkedList{Task}(Task (runnable) @0x00007f666bbad140, Task (runnable) @0x00007f666bbad140), ReentrantLock(nothing, 0x00000000, 0x00, Base.GenericCondition{Base.Threads.SpinLock}(Base.IntrusiveLinkedList{Task}(nothing, nothing), Base.Threads.SpinLock(0)), (0, 0, 141733920768)))), WebIO.JSString[WebIO.JSString(\"function () {\\n    var handler = (function (ko, koPunches) {\\n    ko.punches.enableAll();\\n    ko.bindingHandlers.numericValue = {\\n        init: function(element, valueAccessor, allBindings, data, context) {\\n            var stringified = ko.observable(ko.unwrap(valueAccessor()));\\n            stringified.subscribe(function(value) {\\n                var val = parseFloat(value);\\n                if (!isNaN(val)) {\\n                    valueAccessor()(val);\\n                }\\n            });\\n            valueAccessor().subscribe(function(value) {\\n                var str = JSON.stringify(value);\\n                if ((str == \\\"0\\\") && ([\\\"-0\\\", \\\"-0.\\\"].indexOf(stringified()) >= 0))\\n                     return;\\n                 if ([\\\"null\\\", \\\"\\\"].indexOf(str) >= 0)\\n                     return;\\n                stringified(str);\\n            });\\n            ko.applyBindingsToNode(\\n                element,\\n                {\\n                    value: stringified,\\n                    valueUpdate: allBindings.get('valueUpdate'),\\n                },\\n                context,\\n            );\\n        }\\n    };\\n    var json_data = {\\\"loading\\\":WebIO.getval({\\\"name\\\":\\\"loading\\\",\\\"scope\\\":\\\"6483877982107905809\\\",\\\"id\\\":\\\"10915840415409230096\\\",\\\"type\\\":\\\"observable\\\"}),\\\"clicks\\\":WebIO.getval({\\\"name\\\":\\\"clicks\\\",\\\"scope\\\":\\\"6483877982107905809\\\",\\\"id\\\":\\\"12806540103676720057\\\",\\\"type\\\":\\\"observable\\\"})};\\n    var self = this;\\n    function AppViewModel() {\\n        for (var key in json_data) {\\n            var el = json_data[key];\\n            this[key] = Array.isArray(el) ? ko.observableArray(el) : ko.observable(el);\\n        }\\n        \\n        \\n        [this[\\\"loading\\\"].subscribe((function (val){!(this.valueFromJulia[\\\"loading\\\"]) ? (WebIO.setval({\\\"name\\\":\\\"loading\\\",\\\"scope\\\":\\\"6483877982107905809\\\",\\\"id\\\":\\\"10915840415409230096\\\",\\\"type\\\":\\\"observable\\\"},val)) : undefined; return this.valueFromJulia[\\\"loading\\\"]=false}),self),this[\\\"clicks\\\"].subscribe((function (val){!(this.valueFromJulia[\\\"clicks\\\"]) ? (WebIO.setval({\\\"name\\\":\\\"clicks\\\",\\\"scope\\\":\\\"6483877982107905809\\\",\\\"id\\\":\\\"12806540103676720057\\\",\\\"type\\\":\\\"observable\\\"},val)) : undefined; return this.valueFromJulia[\\\"clicks\\\"]=false}),self)]\\n        \\n    }\\n    self.model = new AppViewModel();\\n    self.valueFromJulia = {};\\n    for (var key in json_data) {\\n        self.valueFromJulia[key] = false;\\n    }\\n    ko.applyBindings(self.model, self.dom);\\n}\\n);\\n    (WebIO.importBlock({\\\"data\\\":[{\\\"name\\\":\\\"knockout\\\",\\\"type\\\":\\\"js\\\",\\\"url\\\":\\\"/assetserver/727383f2a47bd31570b7da84eee7b022dd6d7c78-knockout.js\\\"},{\\\"name\\\":\\\"knockout_punches\\\",\\\"type\\\":\\\"js\\\",\\\"url\\\":\\\"/assetserver/382b41b3b1bd9f26f75861d360bad7f8beea211f-knockout_punches.js\\\"}],\\\"type\\\":\\\"async_block\\\"})).then((imports) => handler.apply(this, imports));\\n}\\n\")])], Dict{Symbol, Any}(:className => \"field interact-widget\")), WebIO.Node{WebIO.DOM}(WebIO.DOM(:html, :div), Any[WebIO.Scope(WebIO.Node{WebIO.DOM}(WebIO.DOM(:html, :div), Any[], Dict{Symbol, Any}(:id => \"container\")), Dict{String, Tuple{Observables.AbstractObservable, Union{Nothing, Bool}}}(\"value\" => (Observable(\"\\\\;\\\\;\"), nothing)), Set{String}(), nothing, WebIO.Asset[WebIO.Asset(\"js\", nothing, \"/home/dushya/.julia/packages/InteractBase/LJXv3/src/../assets/katex.min.js\"), WebIO.Asset(\"css\", nothing, \"/home/dushya/.julia/packages/InteractBase/LJXv3/src/../assets/katex.min.css\")], Dict{Any, Any}(\"value\" => Any[WebIO.JSString(\"(function (txt){return this.k.render(txt,this.container)})\")]), WebIO.ConnectionPool(Channel{Any}(32), Set{WebIO.AbstractConnection}(), Base.GenericCondition{ReentrantLock}(Base.IntrusiveLinkedList{Task}(Task (runnable) @0x00007f66aa18ad60, Task (runnable) @0x00007f66aa18ad60), ReentrantLock(nothing, 0x00000000, 0x00, Base.GenericCondition{Base.Threads.SpinLock}(Base.IntrusiveLinkedList{Task}(nothing, nothing), Base.Threads.SpinLock(0)), (0, 0, 141733920768)))), WebIO.JSString[WebIO.JSString(\"function () {\\n    var handler = ((function (k){this.k=k; this.container=this.dom.querySelector(\\\"#container\\\"); return k.render(\\\"\\\\\\\\;\\\\\\\\;\\\",this.container)}));\\n    (WebIO.importBlock({\\\"data\\\":[{\\\"name\\\":null,\\\"type\\\":\\\"js\\\",\\\"url\\\":\\\"/assetserver/dd22ed1bf1896c2748f3fe616ce0b838adc895c1-katex.min.js\\\"},{\\\"name\\\":null,\\\"type\\\":\\\"css\\\",\\\"url\\\":\\\"/assetserver/46517a424aa5e6cffc1360d7e0848b601c584ee3-katex.min.css\\\"}],\\\"type\\\":\\\"async_block\\\"})).then((imports) => handler.apply(this, imports));\\n}\\n\")])], Dict{Symbol, Any}(:className => \"interact-widget\")), WebIO.Node{WebIO.DOM}(WebIO.DOM(:html, :div), Any[WebIO.Scope(WebIO.Node{WebIO.DOM}(WebIO.DOM(:html, :button), Any[\"save\"], Dict{Symbol, Any}(:attributes => Dict{Any, Any}(\"data-bind\" => \"click: function (){this.clicks(this.clicks()+1)}, css: {'is-loading' : loading}\"), :className => \"is-medium button is-primary\", :style => Dict{String, Any}())), Dict{String, Tuple{Observables.AbstractObservable, Union{Nothing, Bool}}}(\"loading\" => (Observable(false), nothing), \"clicks\" => (Observable(0), nothing)), Set{String}(), nothing, WebIO.Asset[WebIO.Asset(\"js\", \"knockout\", \"/home/dushya/.julia/packages/Knockout/HReiN/src/../assets/knockout.js\"), WebIO.Asset(\"js\", \"knockout_punches\", \"/home/dushya/.julia/packages/Knockout/HReiN/src/../assets/knockout_punches.js\"), WebIO.Asset(\"js\", nothing, \"/home/dushya/.julia/packages/InteractBase/LJXv3/src/../assets/all.js\"), WebIO.Asset(\"css\", nothing, \"/home/dushya/.julia/packages/InteractBase/LJXv3/src/../assets/style.css\"), WebIO.Asset(\"css\", nothing, \"/home/dushya/.julia/packages/Interact/PENUy/src/../assets/bulma_confined.min.css\")], Dict{Any, Any}(\"loading\" => Any[WebIO.JSString(\"(function (val){return (val!=this.model[\\\"loading\\\"]()) ? (this.valueFromJulia[\\\"loading\\\"]=true, this.model[\\\"loading\\\"](val)) : undefined})\")], \"clicks\" => Any[WebIO.JSString(\"(function (val){return (val!=this.model[\\\"clicks\\\"]()) ? (this.valueFromJulia[\\\"clicks\\\"]=true, this.model[\\\"clicks\\\"](val)) : undefined})\")]), WebIO.ConnectionPool(Channel{Any}(32), Set{WebIO.AbstractConnection}(), Base.GenericCondition{ReentrantLock}(Base.IntrusiveLinkedList{Task}(Task (runnable) @0x00007f666bbafd00, Task (runnable) @0x00007f666bbafd00), ReentrantLock(nothing, 0x00000000, 0x00, Base.GenericCondition{Base.Threads.SpinLock}(Base.IntrusiveLinkedList{Task}(nothing, nothing), Base.Threads.SpinLock(0)), (1, 140077859522960, 141733920768)))), WebIO.JSString[WebIO.JSString(\"function () {\\n    var handler = (function (ko, koPunches) {\\n    ko.punches.enableAll();\\n    ko.bindingHandlers.numericValue = {\\n        init: function(element, valueAccessor, allBindings, data, context) {\\n            var stringified = ko.observable(ko.unwrap(valueAccessor()));\\n            stringified.subscribe(function(value) {\\n                var val = parseFloat(value);\\n                if (!isNaN(val)) {\\n                    valueAccessor()(val);\\n                }\\n            });\\n            valueAccessor().subscribe(function(value) {\\n                var str = JSON.stringify(value);\\n                if ((str == \\\"0\\\") && ([\\\"-0\\\", \\\"-0.\\\"].indexOf(stringified()) >= 0))\\n                     return;\\n                 if ([\\\"null\\\", \\\"\\\"].indexOf(str) >= 0)\\n                     return;\\n                stringified(str);\\n            });\\n            ko.applyBindingsToNode(\\n                element,\\n                {\\n                    value: stringified,\\n                    valueUpdate: allBindings.get('valueUpdate'),\\n                },\\n                context,\\n            );\\n        }\\n    };\\n    var json_data = {\\\"loading\\\":WebIO.getval({\\\"name\\\":\\\"loading\\\",\\\"scope\\\":\\\"9117471544633982621\\\",\\\"id\\\":\\\"4813943820668123206\\\",\\\"type\\\":\\\"observable\\\"}),\\\"clicks\\\":WebIO.getval({\\\"name\\\":\\\"clicks\\\",\\\"scope\\\":\\\"9117471544633982621\\\",\\\"id\\\":\\\"7003200494129192581\\\",\\\"type\\\":\\\"observable\\\"})};\\n    var self = this;\\n    function AppViewModel() {\\n        for (var key in json_data) {\\n            var el = json_data[key];\\n            this[key] = Array.isArray(el) ? ko.observableArray(el) : ko.observable(el);\\n        }\\n        \\n        \\n        [this[\\\"loading\\\"].subscribe((function (val){!(this.valueFromJulia[\\\"loading\\\"]) ? (WebIO.setval({\\\"name\\\":\\\"loading\\\",\\\"scope\\\":\\\"9117471544633982621\\\",\\\"id\\\":\\\"4813943820668123206\\\",\\\"type\\\":\\\"observable\\\"},val)) : undefined; return this.valueFromJulia[\\\"loading\\\"]=false}),self),this[\\\"clicks\\\"].subscribe((function (val){!(this.valueFromJulia[\\\"clicks\\\"]) ? (WebIO.setval({\\\"name\\\":\\\"clicks\\\",\\\"scope\\\":\\\"9117471544633982621\\\",\\\"id\\\":\\\"7003200494129192581\\\",\\\"type\\\":\\\"observable\\\"},val)) : undefined; return this.valueFromJulia[\\\"clicks\\\"]=false}),self)]\\n        \\n    }\\n    self.model = new AppViewModel();\\n    self.valueFromJulia = {};\\n    for (var key in json_data) {\\n        self.valueFromJulia[key] = false;\\n    }\\n    ko.applyBindings(self.model, self.dom);\\n}\\n);\\n    (WebIO.importBlock({\\\"data\\\":[{\\\"name\\\":\\\"knockout\\\",\\\"type\\\":\\\"js\\\",\\\"url\\\":\\\"/assetserver/727383f2a47bd31570b7da84eee7b022dd6d7c78-knockout.js\\\"},{\\\"name\\\":\\\"knockout_punches\\\",\\\"type\\\":\\\"js\\\",\\\"url\\\":\\\"/assetserver/382b41b3b1bd9f26f75861d360bad7f8beea211f-knockout_punches.js\\\"}],\\\"type\\\":\\\"async_block\\\"})).then((imports) => handler.apply(this, imports));\\n}\\n\")])], Dict{Symbol, Any}(:className => \"field interact-widget\"))], Dict{Symbol, Any}(:style => Dict(\"display\" => \"flex\", \"flex-direction\" => \"row\")))], Dict{Symbol, Any}(:style => Dict(\"display\" => \"flex\", \"flex-direction\" => \"column\"))), WebIO.Node{WebIO.DOM}(WebIO.DOM(:html, :div), Any[WebIO.Scope(WebIO.Node{WebIO.DOM}(WebIO.DOM(:html, :div), Any[], Dict{Symbol, Any}(:id => \"container\")), Dict{String, Tuple{Observables.AbstractObservable, Union{Nothing, Bool}}}(\"value\" => (Observable(\"\\\\;\\\\;\"), nothing)), Set{String}(), nothing, WebIO.Asset[WebIO.Asset(\"js\", nothing, \"/home/dushya/.julia/packages/InteractBase/LJXv3/src/../assets/katex.min.js\"), WebIO.Asset(\"css\", nothing, \"/home/dushya/.julia/packages/InteractBase/LJXv3/src/../assets/katex.min.css\")], Dict{Any, Any}(\"value\" => Any[WebIO.JSString(\"(function (txt){return this.k.render(txt,this.container)})\")]), WebIO.ConnectionPool(Channel{Any}(32), Set{WebIO.AbstractConnection}(), Base.GenericCondition{ReentrantLock}(Base.IntrusiveLinkedList{Task}(Task (runnable) @0x00007f66aa18ad60, Task (runnable) @0x00007f66aa18ad60), ReentrantLock(nothing, 0x00000000, 0x00, Base.GenericCondition{Base.Threads.SpinLock}(Base.IntrusiveLinkedList{Task}(nothing, nothing), Base.Threads.SpinLock(0)), (0, 0, 141733920768)))), WebIO.JSString[WebIO.JSString(\"function () {\\n    var handler = ((function (k){this.k=k; this.container=this.dom.querySelector(\\\"#container\\\"); return k.render(\\\"\\\\\\\\;\\\\\\\\;\\\",this.container)}));\\n    (WebIO.importBlock({\\\"data\\\":[{\\\"name\\\":null,\\\"type\\\":\\\"js\\\",\\\"url\\\":\\\"/assetserver/dd22ed1bf1896c2748f3fe616ce0b838adc895c1-katex.min.js\\\"},{\\\"name\\\":null,\\\"type\\\":\\\"css\\\",\\\"url\\\":\\\"/assetserver/46517a424aa5e6cffc1360d7e0848b601c584ee3-katex.min.css\\\"}],\\\"type\\\":\\\"async_block\\\"})).then((imports) => handler.apply(this, imports));\\n}\\n\")])], Dict{Symbol, Any}(:className => \"interact-widget\")), Observable(Luxor.Drawing(430.0, 430.0, \"\", Cairo.CairoSurfaceBase{UInt32}(Ptr{Nothing} @0x0000000000000000, 430.0, 430.0), Cairo.CairoContext(Ptr{Nothing} @0x00000000086fa360, Cairo.CairoSurfaceBase{UInt32}(Ptr{Nothing} @0x0000000000000000, 430.0, 430.0), Ptr{Nothing} @0x0000000007225190), :png, 0.0, 0.0, 0.0, 1.0, IOBuffer(data=UInt8[...], readable=true, writable=true, seekable=true, append=false, size=22355, maxsize=Inf, ptr=22356, mark=-1), UInt8[0x89, 0x50, 0x4e, 0x47, 0x0d, 0x0a, 0x1a, 0x0a, 0x00, 0x00  …  0x00, 0x00, 0x49, 0x45, 0x4e, 0x44, 0xae, 0x42, 0x60, 0x82], false)), WebIO.Node{WebIO.DOM}(WebIO.DOM(:html, :div), Any[WebIO.Scope(WebIO.Node{WebIO.DOM}(WebIO.DOM(:html, :div), Any[], Dict{Symbol, Any}(:id => \"container\")), Dict{String, Tuple{Observables.AbstractObservable, Union{Nothing, Bool}}}(\"value\" => (Observable(\"\\\\;\\\\;\"), nothing)), Set{String}(), nothing, WebIO.Asset[WebIO.Asset(\"js\", nothing, \"/home/dushya/.julia/packages/InteractBase/LJXv3/src/../assets/katex.min.js\"), WebIO.Asset(\"css\", nothing, \"/home/dushya/.julia/packages/InteractBase/LJXv3/src/../assets/katex.min.css\")], Dict{Any, Any}(\"value\" => Any[WebIO.JSString(\"(function (txt){return this.k.render(txt,this.container)})\")]), WebIO.ConnectionPool(Channel{Any}(32), Set{WebIO.AbstractConnection}(), Base.GenericCondition{ReentrantLock}(Base.IntrusiveLinkedList{Task}(Task (runnable) @0x00007f66aa18ad60, Task (runnable) @0x00007f66aa18ad60), ReentrantLock(nothing, 0x00000000, 0x00, Base.GenericCondition{Base.Threads.SpinLock}(Base.IntrusiveLinkedList{Task}(nothing, nothing), Base.Threads.SpinLock(0)), (0, 0, 141733920768)))), WebIO.JSString[WebIO.JSString(\"function () {\\n    var handler = ((function (k){this.k=k; this.container=this.dom.querySelector(\\\"#container\\\"); return k.render(\\\"\\\\\\\\;\\\\\\\\;\\\",this.container)}));\\n    (WebIO.importBlock({\\\"data\\\":[{\\\"name\\\":null,\\\"type\\\":\\\"js\\\",\\\"url\\\":\\\"/assetserver/dd22ed1bf1896c2748f3fe616ce0b838adc895c1-katex.min.js\\\"},{\\\"name\\\":null,\\\"type\\\":\\\"css\\\",\\\"url\\\":\\\"/assetserver/46517a424aa5e6cffc1360d7e0848b601c584ee3-katex.min.css\\\"}],\\\"type\\\":\\\"async_block\\\"})).then((imports) => handler.apply(this, imports));\\n}\\n\")])], Dict{Symbol, Any}(:className => \"interact-widget\")), WebIO.Node{WebIO.DOM}(WebIO.DOM(:html, :div), Any[], Dict{Symbol, Any}(:style => Dict(\"display\" => \"flex\", \"flex-direction\" => \"column\")))], Dict{Symbol, Any}(:style => Dict(\"display\" => \"flex\", \"flex-direction\" => \"row\")))], Dict{Symbol, Any}(:style => Dict(\"display\" => \"flex\", \"flex-direction\" => \"column\")))"
      ]
     },
     "execution_count": 25,
     "metadata": {
      "application/vnd.webio.node+json": {
       "kernelId": "a3abe705-f9f9-4d1f-9366-ef145f9cb433"
      }
     },
     "output_type": "execute_result"
    }
   ],
   "source": [
    "create_interactive_app(model, initialiser= initialiser!,\n",
    "    step_rule= step_rule!,\n",
    "    model_controls=[(:min_dis, \"slider\", 0.01:0.1:1.0),\n",
    "        (:coh_fac, \"slider\", 0.01:0.01:1.0),\n",
    "        (:sep_fac, \"slider\", 0.01:0.01:1.0),\n",
    "        (:aln_fac, \"slider\", 0.01:0.01:1.0),\n",
    "        (:vis_range, \"slider\", 0.5:0.5:4.0)], frames=400) "
   ]
  },
  {
   "cell_type": "markdown",
   "metadata": {},
   "source": [
    "## Step 5: Fetch Data \n",
    "\n",
    "It is easy to fetch any data recorded during simulation. For example, the data of average velocity of agents at each time step can be obtained as - "
   ]
  },
  {
   "cell_type": "code",
   "execution_count": 26,
   "metadata": {},
   "outputs": [
    {
     "data": {
      "text/html": [
       "<div><div style = \"float: left;\"><span>401×1 DataFrame</span></div><div style = \"float: right;\"><span style = \"font-style: italic;\">376 rows omitted</span></div><div style = \"clear: both;\"></div></div><div class = \"data-frame\" style = \"overflow-x: scroll;\"><table class = \"data-frame\" style = \"margin-bottom: 6px;\"><thead><tr class = \"header\"><th class = \"rowNumber\" style = \"font-weight: bold; text-align: right;\">Row</th><th style = \"text-align: left;\">average velocity</th></tr><tr class = \"subheader headerLastRow\"><th class = \"rowNumber\" style = \"font-weight: bold; text-align: right;\"></th><th title = \"Vect{2, Float64}\" style = \"text-align: left;\">Vect…</th></tr></thead><tbody><tr><td class = \"rowNumber\" style = \"font-weight: bold; text-align: right;\">1</td><td style = \"text-align: left;\">(-0.110113, 0.129048)\\n</td></tr><tr><td class = \"rowNumber\" style = \"font-weight: bold; text-align: right;\">2</td><td style = \"text-align: left;\">(-0.18506, 0.190773)\\n</td></tr><tr><td class = \"rowNumber\" style = \"font-weight: bold; text-align: right;\">3</td><td style = \"text-align: left;\">(-0.238322, 0.219718)\\n</td></tr><tr><td class = \"rowNumber\" style = \"font-weight: bold; text-align: right;\">4</td><td style = \"text-align: left;\">(-0.269022, 0.23326)\\n</td></tr><tr><td class = \"rowNumber\" style = \"font-weight: bold; text-align: right;\">5</td><td style = \"text-align: left;\">(-0.280128, 0.232511)\\n</td></tr><tr><td class = \"rowNumber\" style = \"font-weight: bold; text-align: right;\">6</td><td style = \"text-align: left;\">(-0.28581, 0.234918)\\n</td></tr><tr><td class = \"rowNumber\" style = \"font-weight: bold; text-align: right;\">7</td><td style = \"text-align: left;\">(-0.2889, 0.237752)\\n</td></tr><tr><td class = \"rowNumber\" style = \"font-weight: bold; text-align: right;\">8</td><td style = \"text-align: left;\">(-0.299628, 0.248494)\\n</td></tr><tr><td class = \"rowNumber\" style = \"font-weight: bold; text-align: right;\">9</td><td style = \"text-align: left;\">(-0.305958, 0.248616)\\n</td></tr><tr><td class = \"rowNumber\" style = \"font-weight: bold; text-align: right;\">10</td><td style = \"text-align: left;\">(-0.318645, 0.217036)\\n</td></tr><tr><td class = \"rowNumber\" style = \"font-weight: bold; text-align: right;\">11</td><td style = \"text-align: left;\">(-0.321968, 0.191356)\\n</td></tr><tr><td class = \"rowNumber\" style = \"font-weight: bold; text-align: right;\">12</td><td style = \"text-align: left;\">(-0.3153, 0.176952)\\n</td></tr><tr><td class = \"rowNumber\" style = \"font-weight: bold; text-align: right;\">13</td><td style = \"text-align: left;\">(-0.308484, 0.160805)\\n</td></tr><tr><td style = \"text-align: right;\">&vellip;</td><td style = \"text-align: right;\">&vellip;</td></tr><tr><td class = \"rowNumber\" style = \"font-weight: bold; text-align: right;\">390</td><td style = \"text-align: left;\">(0.678583, -0.659607)\\n</td></tr><tr><td class = \"rowNumber\" style = \"font-weight: bold; text-align: right;\">391</td><td style = \"text-align: left;\">(0.687142, -0.653832)\\n</td></tr><tr><td class = \"rowNumber\" style = \"font-weight: bold; text-align: right;\">392</td><td style = \"text-align: left;\">(0.674356, -0.675498)\\n</td></tr><tr><td class = \"rowNumber\" style = \"font-weight: bold; text-align: right;\">393</td><td style = \"text-align: left;\">(0.649922, -0.693132)\\n</td></tr><tr><td class = \"rowNumber\" style = \"font-weight: bold; text-align: right;\">394</td><td style = \"text-align: left;\">(0.632873, -0.72135)\\n</td></tr><tr><td class = \"rowNumber\" style = \"font-weight: bold; text-align: right;\">395</td><td style = \"text-align: left;\">(0.636898, -0.713825)\\n</td></tr><tr><td class = \"rowNumber\" style = \"font-weight: bold; text-align: right;\">396</td><td style = \"text-align: left;\">(0.65878, -0.689095)\\n</td></tr><tr><td class = \"rowNumber\" style = \"font-weight: bold; text-align: right;\">397</td><td style = \"text-align: left;\">(0.664578, -0.668965)\\n</td></tr><tr><td class = \"rowNumber\" style = \"font-weight: bold; text-align: right;\">398</td><td style = \"text-align: left;\">(0.664729, -0.66695)\\n</td></tr><tr><td class = \"rowNumber\" style = \"font-weight: bold; text-align: right;\">399</td><td style = \"text-align: left;\">(0.651719, -0.697147)\\n</td></tr><tr><td class = \"rowNumber\" style = \"font-weight: bold; text-align: right;\">400</td><td style = \"text-align: left;\">(0.656092, -0.690859)\\n</td></tr><tr><td class = \"rowNumber\" style = \"font-weight: bold; text-align: right;\">401</td><td style = \"text-align: left;\">(0.653332, -0.69749)\\n</td></tr></tbody></table></div>"
      ],
      "text/latex": [
       "\\begin{tabular}{r|c}\n",
       "\t& average velocity\\\\\n",
       "\t\\hline\n",
       "\t& Vect…\\\\\n",
       "\t\\hline\n",
       "\t1 & (-0.110113, 0.129048)\\textbackslash{}n \\\\\n",
       "\t2 & (-0.18506, 0.190773)\\textbackslash{}n \\\\\n",
       "\t3 & (-0.238322, 0.219718)\\textbackslash{}n \\\\\n",
       "\t4 & (-0.269022, 0.23326)\\textbackslash{}n \\\\\n",
       "\t5 & (-0.280128, 0.232511)\\textbackslash{}n \\\\\n",
       "\t6 & (-0.28581, 0.234918)\\textbackslash{}n \\\\\n",
       "\t7 & (-0.2889, 0.237752)\\textbackslash{}n \\\\\n",
       "\t8 & (-0.299628, 0.248494)\\textbackslash{}n \\\\\n",
       "\t9 & (-0.305958, 0.248616)\\textbackslash{}n \\\\\n",
       "\t10 & (-0.318645, 0.217036)\\textbackslash{}n \\\\\n",
       "\t11 & (-0.321968, 0.191356)\\textbackslash{}n \\\\\n",
       "\t12 & (-0.3153, 0.176952)\\textbackslash{}n \\\\\n",
       "\t13 & (-0.308484, 0.160805)\\textbackslash{}n \\\\\n",
       "\t14 & (-0.298168, 0.1408)\\textbackslash{}n \\\\\n",
       "\t15 & (-0.299704, 0.129949)\\textbackslash{}n \\\\\n",
       "\t16 & (-0.306858, 0.122316)\\textbackslash{}n \\\\\n",
       "\t17 & (-0.303052, 0.127668)\\textbackslash{}n \\\\\n",
       "\t18 & (-0.293654, 0.104449)\\textbackslash{}n \\\\\n",
       "\t19 & (-0.270526, 0.0748682)\\textbackslash{}n \\\\\n",
       "\t20 & (-0.238564, 0.0530465)\\textbackslash{}n \\\\\n",
       "\t21 & (-0.203435, 0.0468954)\\textbackslash{}n \\\\\n",
       "\t22 & (-0.18063, 0.051883)\\textbackslash{}n \\\\\n",
       "\t23 & (-0.156257, 0.061206)\\textbackslash{}n \\\\\n",
       "\t24 & (-0.135781, 0.0609114)\\textbackslash{}n \\\\\n",
       "\t25 & (-0.107941, 0.0699878)\\textbackslash{}n \\\\\n",
       "\t26 & (-0.0820493, 0.0774615)\\textbackslash{}n \\\\\n",
       "\t27 & (-0.0542139, 0.0830607)\\textbackslash{}n \\\\\n",
       "\t28 & (-0.0254359, 0.0845568)\\textbackslash{}n \\\\\n",
       "\t29 & (0.0153214, 0.0976696)\\textbackslash{}n \\\\\n",
       "\t30 & (0.0484381, 0.113042)\\textbackslash{}n \\\\\n",
       "\t$\\dots$ & $\\dots$ \\\\\n",
       "\\end{tabular}\n"
      ],
      "text/plain": [
       "\u001b[1m401×1 DataFrame\u001b[0m\n",
       "\u001b[1m Row \u001b[0m│\u001b[1m average velocity        \u001b[0m\n",
       "     │\u001b[90m Vect{2, Float64}        \u001b[0m\n",
       "─────┼─────────────────────────\n",
       "   1 │ (-0.110113, 0.129048)\\n\n",
       "   2 │ (-0.18506, 0.190773)\\n\n",
       "   3 │ (-0.238322, 0.219718)\\n\n",
       "   4 │ (-0.269022, 0.23326)\\n\n",
       "   5 │ (-0.280128, 0.232511)\\n\n",
       "   6 │ (-0.28581, 0.234918)\\n\n",
       "   7 │ (-0.2889, 0.237752)\\n\n",
       "   8 │ (-0.299628, 0.248494)\\n\n",
       "   9 │ (-0.305958, 0.248616)\\n\n",
       "  10 │ (-0.318645, 0.217036)\\n\n",
       "  11 │ (-0.321968, 0.191356)\\n\n",
       "  ⋮  │            ⋮\n",
       " 392 │ (0.674356, -0.675498)\\n\n",
       " 393 │ (0.649922, -0.693132)\\n\n",
       " 394 │ (0.632873, -0.72135)\\n\n",
       " 395 │ (0.636898, -0.713825)\\n\n",
       " 396 │ (0.65878, -0.689095)\\n\n",
       " 397 │ (0.664578, -0.668965)\\n\n",
       " 398 │ (0.664729, -0.66695)\\n\n",
       " 399 │ (0.651719, -0.697147)\\n\n",
       " 400 │ (0.656092, -0.690859)\\n\n",
       " 401 │ (0.653332, -0.69749)\\n\n",
       "\u001b[36m               380 rows omitted\u001b[0m"
      ]
     },
     "execution_count": 26,
     "metadata": {},
     "output_type": "execute_result"
    }
   ],
   "source": [
    "df = get_agents_avg_props(model, agent -> agent.vel, labels = [\"average velocity\"])"
   ]
  },
  {
   "cell_type": "markdown",
   "metadata": {},
   "source": [
    "Individual agent data recorded during model run can be obtained as "
   ]
  },
  {
   "cell_type": "code",
   "execution_count": 27,
   "metadata": {},
   "outputs": [
    {
     "data": {
      "text/html": [
       "<div><div style = \"float: left;\"><span>401×3 DataFrame</span></div><div style = \"float: right;\"><span style = \"font-style: italic;\">376 rows omitted</span></div><div style = \"clear: both;\"></div></div><div class = \"data-frame\" style = \"overflow-x: scroll;\"><table class = \"data-frame\" style = \"margin-bottom: 6px;\"><thead><tr class = \"header\"><th class = \"rowNumber\" style = \"font-weight: bold; text-align: right;\">Row</th><th style = \"text-align: left;\">orientation</th><th style = \"text-align: left;\">pos</th><th style = \"text-align: left;\">vel</th></tr><tr class = \"subheader headerLastRow\"><th class = \"rowNumber\" style = \"font-weight: bold; text-align: right;\"></th><th title = \"Float64\" style = \"text-align: left;\">Float64</th><th title = \"Vect{2, Float64}\" style = \"text-align: left;\">Vect…</th><th title = \"Vect{2, Float64}\" style = \"text-align: left;\">Vect…</th></tr></thead><tbody><tr><td class = \"rowNumber\" style = \"font-weight: bold; text-align: right;\">1</td><td style = \"text-align: right;\">4.54244</td><td style = \"text-align: left;\">(7.44984, 9.00221)\\n</td><td style = \"text-align: left;\">(0.985593, -0.169135)\\n</td></tr><tr><td class = \"rowNumber\" style = \"font-weight: bold; text-align: right;\">2</td><td style = \"text-align: right;\">3.87173</td><td style = \"text-align: left;\">(7.51654, 8.9277)\\n</td><td style = \"text-align: left;\">(0.666967, -0.745075)\\n</td></tr><tr><td class = \"rowNumber\" style = \"font-weight: bold; text-align: right;\">3</td><td style = \"text-align: right;\">3.6405</td><td style = \"text-align: left;\">(7.56438, 8.83989)\\n</td><td style = \"text-align: left;\">(0.478463, -0.878096)\\n</td></tr><tr><td class = \"rowNumber\" style = \"font-weight: bold; text-align: right;\">4</td><td style = \"text-align: right;\">3.598</td><td style = \"text-align: left;\">(7.60845, 8.75012)\\n</td><td style = \"text-align: left;\">(0.440717, -0.897632)\\n</td></tr><tr><td class = \"rowNumber\" style = \"font-weight: bold; text-align: right;\">5</td><td style = \"text-align: right;\">3.5882</td><td style = \"text-align: left;\">(7.65164, 8.65993)\\n</td><td style = \"text-align: left;\">(0.431907, -0.901904)\\n</td></tr><tr><td class = \"rowNumber\" style = \"font-weight: bold; text-align: right;\">6</td><td style = \"text-align: right;\">3.56356</td><td style = \"text-align: left;\">(7.6926, 8.56871)\\n</td><td style = \"text-align: left;\">(0.409547, -0.912275)\\n</td></tr><tr><td class = \"rowNumber\" style = \"font-weight: bold; text-align: right;\">7</td><td style = \"text-align: right;\">3.48243</td><td style = \"text-align: left;\">(7.72603, 8.47446)\\n</td><td style = \"text-align: left;\">(0.334275, -0.942463)\\n</td></tr><tr><td class = \"rowNumber\" style = \"font-weight: bold; text-align: right;\">8</td><td style = \"text-align: right;\">3.34893</td><td style = \"text-align: left;\">(7.74661, 8.3766)\\n</td><td style = \"text-align: left;\">(0.205856, -0.97857)\\n</td></tr><tr><td class = \"rowNumber\" style = \"font-weight: bold; text-align: right;\">9</td><td style = \"text-align: right;\">3.1979</td><td style = \"text-align: left;\">(7.75224, 8.27676)\\n</td><td style = \"text-align: left;\">(0.0562737, -0.998403)\\n</td></tr><tr><td class = \"rowNumber\" style = \"font-weight: bold; text-align: right;\">10</td><td style = \"text-align: right;\">2.99278</td><td style = \"text-align: left;\">(7.73741, 8.17787)\\n</td><td style = \"text-align: left;\">(-0.148261, -0.988934)\\n</td></tr><tr><td class = \"rowNumber\" style = \"font-weight: bold; text-align: right;\">11</td><td style = \"text-align: right;\">2.62669</td><td style = \"text-align: left;\">(7.68817, 8.09084)\\n</td><td style = \"text-align: left;\">(-0.492441, -0.87033)\\n</td></tr><tr><td class = \"rowNumber\" style = \"font-weight: bold; text-align: right;\">12</td><td style = \"text-align: right;\">2.43189</td><td style = \"text-align: left;\">(7.62301, 8.01498)\\n</td><td style = \"text-align: left;\">(-0.651604, -0.758544)\\n</td></tr><tr><td class = \"rowNumber\" style = \"font-weight: bold; text-align: right;\">13</td><td style = \"text-align: right;\">2.56446</td><td style = \"text-align: left;\">(7.56845, 7.93118)\\n</td><td style = \"text-align: left;\">(-0.545613, -0.838023)\\n</td></tr><tr><td style = \"text-align: right;\">&vellip;</td><td style = \"text-align: right;\">&vellip;</td><td style = \"text-align: right;\">&vellip;</td><td style = \"text-align: right;\">&vellip;</td></tr><tr><td class = \"rowNumber\" style = \"font-weight: bold; text-align: right;\">390</td><td style = \"text-align: right;\">3.95745</td><td style = \"text-align: left;\">(3.16989, 3.06649)\\n</td><td style = \"text-align: left;\">(0.728306, -0.685243)\\n</td></tr><tr><td class = \"rowNumber\" style = \"font-weight: bold; text-align: right;\">391</td><td style = \"text-align: right;\">3.83377</td><td style = \"text-align: left;\">(3.23371, 2.98951)\\n</td><td style = \"text-align: left;\">(0.638215, -0.769851)\\n</td></tr><tr><td class = \"rowNumber\" style = \"font-weight: bold; text-align: right;\">392</td><td style = \"text-align: right;\">3.97781</td><td style = \"text-align: left;\">(3.30792, 2.92248)\\n</td><td style = \"text-align: left;\">(0.742106, -0.670273)\\n</td></tr><tr><td class = \"rowNumber\" style = \"font-weight: bold; text-align: right;\">393</td><td style = \"text-align: right;\">4.44518</td><td style = \"text-align: left;\">(3.40437, 2.89608)\\n</td><td style = \"text-align: left;\">(0.964507, -0.264037)\\n</td></tr><tr><td class = \"rowNumber\" style = \"font-weight: bold; text-align: right;\">394</td><td style = \"text-align: right;\">3.77592</td><td style = \"text-align: left;\">(3.46363, 2.81553)\\n</td><td style = \"text-align: left;\">(0.592634, -0.805465)\\n</td></tr><tr><td class = \"rowNumber\" style = \"font-weight: bold; text-align: right;\">395</td><td style = \"text-align: right;\">3.83135</td><td style = \"text-align: left;\">(3.52727, 2.73839)\\n</td><td style = \"text-align: left;\">(0.636347, -0.771394)\\n</td></tr><tr><td class = \"rowNumber\" style = \"font-weight: bold; text-align: right;\">396</td><td style = \"text-align: right;\">4.20107</td><td style = \"text-align: left;\">(3.61448, 2.68946)\\n</td><td style = \"text-align: left;\">(0.872095, -0.489324)\\n</td></tr><tr><td class = \"rowNumber\" style = \"font-weight: bold; text-align: right;\">397</td><td style = \"text-align: right;\">3.87847</td><td style = \"text-align: left;\">(3.68168, 2.6154)\\n</td><td style = \"text-align: left;\">(0.671975, -0.740566)\\n</td></tr><tr><td class = \"rowNumber\" style = \"font-weight: bold; text-align: right;\">398</td><td style = \"text-align: right;\">4.33807</td><td style = \"text-align: left;\">(3.77475, 2.57884)\\n</td><td style = \"text-align: left;\">(0.93075, -0.365639)\\n</td></tr><tr><td class = \"rowNumber\" style = \"font-weight: bold; text-align: right;\">399</td><td style = \"text-align: right;\">3.75292</td><td style = \"text-align: left;\">(3.83215, 2.49695)\\n</td><td style = \"text-align: left;\">(0.573953, -0.818881)\\n</td></tr><tr><td class = \"rowNumber\" style = \"font-weight: bold; text-align: right;\">400</td><td style = \"text-align: right;\">3.95383</td><td style = \"text-align: left;\">(3.90473, 2.42816)\\n</td><td style = \"text-align: left;\">(0.725823, -0.687872)\\n</td></tr><tr><td class = \"rowNumber\" style = \"font-weight: bold; text-align: right;\">401</td><td style = \"text-align: right;\">3.98463</td><td style = \"text-align: left;\">(3.97939, 2.36165)\\n</td><td style = \"text-align: left;\">(0.746661, -0.665196)\\n</td></tr></tbody></table></div>"
      ],
      "text/latex": [
       "\\begin{tabular}{r|ccc}\n",
       "\t& orientation & pos & vel\\\\\n",
       "\t\\hline\n",
       "\t& Float64 & Vect… & Vect…\\\\\n",
       "\t\\hline\n",
       "\t1 & 4.54244 & (7.44984, 9.00221)\\textbackslash{}n & (0.985593, -0.169135)\\textbackslash{}n \\\\\n",
       "\t2 & 3.87173 & (7.51654, 8.9277)\\textbackslash{}n & (0.666967, -0.745075)\\textbackslash{}n \\\\\n",
       "\t3 & 3.6405 & (7.56438, 8.83989)\\textbackslash{}n & (0.478463, -0.878096)\\textbackslash{}n \\\\\n",
       "\t4 & 3.598 & (7.60845, 8.75012)\\textbackslash{}n & (0.440717, -0.897632)\\textbackslash{}n \\\\\n",
       "\t5 & 3.5882 & (7.65164, 8.65993)\\textbackslash{}n & (0.431907, -0.901904)\\textbackslash{}n \\\\\n",
       "\t6 & 3.56356 & (7.6926, 8.56871)\\textbackslash{}n & (0.409547, -0.912275)\\textbackslash{}n \\\\\n",
       "\t7 & 3.48243 & (7.72603, 8.47446)\\textbackslash{}n & (0.334275, -0.942463)\\textbackslash{}n \\\\\n",
       "\t8 & 3.34893 & (7.74661, 8.3766)\\textbackslash{}n & (0.205856, -0.97857)\\textbackslash{}n \\\\\n",
       "\t9 & 3.1979 & (7.75224, 8.27676)\\textbackslash{}n & (0.0562737, -0.998403)\\textbackslash{}n \\\\\n",
       "\t10 & 2.99278 & (7.73741, 8.17787)\\textbackslash{}n & (-0.148261, -0.988934)\\textbackslash{}n \\\\\n",
       "\t11 & 2.62669 & (7.68817, 8.09084)\\textbackslash{}n & (-0.492441, -0.87033)\\textbackslash{}n \\\\\n",
       "\t12 & 2.43189 & (7.62301, 8.01498)\\textbackslash{}n & (-0.651604, -0.758544)\\textbackslash{}n \\\\\n",
       "\t13 & 2.56446 & (7.56845, 7.93118)\\textbackslash{}n & (-0.545613, -0.838023)\\textbackslash{}n \\\\\n",
       "\t14 & 2.42997 & (7.50314, 7.85545)\\textbackslash{}n & (-0.653054, -0.757296)\\textbackslash{}n \\\\\n",
       "\t15 & 2.57625 & (7.44957, 7.77101)\\textbackslash{}n & (-0.535702, -0.844393)\\textbackslash{}n \\\\\n",
       "\t16 & 2.63569 & (7.40111, 7.68354)\\textbackslash{}n & (-0.484591, -0.874728)\\textbackslash{}n \\\\\n",
       "\t17 & 2.63762 & (7.35282, 7.59597)\\textbackslash{}n & (-0.482907, -0.875658)\\textbackslash{}n \\\\\n",
       "\t18 & 2.62021 & (7.30302, 7.50926)\\textbackslash{}n & (-0.498069, -0.867123)\\textbackslash{}n \\\\\n",
       "\t19 & 2.41347 & (7.23647, 7.43462)\\textbackslash{}n & (-0.665459, -0.746416)\\textbackslash{}n \\\\\n",
       "\t20 & 2.28742 & (7.16107, 7.36894)\\textbackslash{}n & (-0.754019, -0.656833)\\textbackslash{}n \\\\\n",
       "\t21 & 2.17535 & (7.07879, 7.3121)\\textbackslash{}n & (-0.822746, -0.568386)\\textbackslash{}n \\\\\n",
       "\t22 & 2.32242 & (7.00574, 7.24381)\\textbackslash{}n & (-0.730572, -0.682819)\\textbackslash{}n \\\\\n",
       "\t23 & 2.51846 & (6.94738, 7.16261)\\textbackslash{}n & (-0.583579, -0.812044)\\textbackslash{}n \\\\\n",
       "\t24 & 2.30254 & (6.87298, 7.09579)\\textbackslash{}n & (-0.744003, -0.668162)\\textbackslash{}n \\\\\n",
       "\t25 & 2.10203 & (6.78676, 7.04514)\\textbackslash{}n & (-0.862177, -0.506589)\\textbackslash{}n \\\\\n",
       "\t26 & 2.03058 & (6.69715, 7.00076)\\textbackslash{}n & (-0.896141, -0.443748)\\textbackslash{}n \\\\\n",
       "\t27 & 1.99062 & (6.60583, 6.96)\\textbackslash{}n & (-0.913154, -0.407593)\\textbackslash{}n \\\\\n",
       "\t28 & 1.94918 & (6.51291, 6.92306)\\textbackslash{}n & (-0.929255, -0.369415)\\textbackslash{}n \\\\\n",
       "\t29 & 2.0834 & (6.42576, 6.87402)\\textbackslash{}n & (-0.871465, -0.49044)\\textbackslash{}n \\\\\n",
       "\t30 & 2.11208 & (6.34005, 6.82249)\\textbackslash{}n & (-0.85704, -0.515233)\\textbackslash{}n \\\\\n",
       "\t$\\dots$ & $\\dots$ & $\\dots$ & $\\dots$ \\\\\n",
       "\\end{tabular}\n"
      ],
      "text/plain": [
       "\u001b[1m401×3 DataFrame\u001b[0m\n",
       "\u001b[1m Row \u001b[0m│\u001b[1m orientation \u001b[0m\u001b[1m pos                  \u001b[0m\u001b[1m vel                      \u001b[0m\n",
       "     │\u001b[90m Float64     \u001b[0m\u001b[90m Vect…                \u001b[0m\u001b[90m Vect…                    \u001b[0m\n",
       "─────┼─────────────────────────────────────────────────────────────\n",
       "   1 │     4.54244  (7.44984, 9.00221)\\n  (0.985593, -0.169135)\\n\n",
       "   2 │     3.87173  (7.51654, 8.9277)\\n   (0.666967, -0.745075)\\n\n",
       "   3 │     3.6405   (7.56438, 8.83989)\\n  (0.478463, -0.878096)\\n\n",
       "   4 │     3.598    (7.60845, 8.75012)\\n  (0.440717, -0.897632)\\n\n",
       "   5 │     3.5882   (7.65164, 8.65993)\\n  (0.431907, -0.901904)\\n\n",
       "   6 │     3.56356  (7.6926, 8.56871)\\n   (0.409547, -0.912275)\\n\n",
       "   7 │     3.48243  (7.72603, 8.47446)\\n  (0.334275, -0.942463)\\n\n",
       "   8 │     3.34893  (7.74661, 8.3766)\\n   (0.205856, -0.97857)\\n\n",
       "   9 │     3.1979   (7.75224, 8.27676)\\n  (0.0562737, -0.998403)\\n\n",
       "  10 │     2.99278  (7.73741, 8.17787)\\n  (-0.148261, -0.988934)\\n\n",
       "  11 │     2.62669  (7.68817, 8.09084)\\n  (-0.492441, -0.87033)\\n\n",
       "  ⋮  │      ⋮                ⋮                       ⋮\n",
       " 392 │     3.97781  (3.30792, 2.92248)\\n  (0.742106, -0.670273)\\n\n",
       " 393 │     4.44518  (3.40437, 2.89608)\\n  (0.964507, -0.264037)\\n\n",
       " 394 │     3.77592  (3.46363, 2.81553)\\n  (0.592634, -0.805465)\\n\n",
       " 395 │     3.83135  (3.52727, 2.73839)\\n  (0.636347, -0.771394)\\n\n",
       " 396 │     4.20107  (3.61448, 2.68946)\\n  (0.872095, -0.489324)\\n\n",
       " 397 │     3.87847  (3.68168, 2.6154)\\n   (0.671975, -0.740566)\\n\n",
       " 398 │     4.33807  (3.77475, 2.57884)\\n  (0.93075, -0.365639)\\n\n",
       " 399 │     3.75292  (3.83215, 2.49695)\\n  (0.573953, -0.818881)\\n\n",
       " 400 │     3.95383  (3.90473, 2.42816)\\n  (0.725823, -0.687872)\\n\n",
       " 401 │     3.98463  (3.97939, 2.36165)\\n  (0.746661, -0.665196)\\n\n",
       "\u001b[36m                                                   380 rows omitted\u001b[0m"
      ]
     },
     "execution_count": 27,
     "metadata": {},
     "output_type": "execute_result"
    }
   ],
   "source": [
    "df = get_agent_data(model.agents[1], model).record"
   ]
  },
  {
   "cell_type": "code",
   "execution_count": null,
   "metadata": {},
   "outputs": [],
   "source": []
  }
 ],
 "metadata": {
  "@webio": {
   "lastCommId": "43443a29768a45138acdc350b23d9304",
   "lastKernelId": "a3abe705-f9f9-4d1f-9366-ef145f9cb433"
  },
  "kernelspec": {
   "display_name": "Julia 1.9.2",
   "language": "julia",
   "name": "julia-1.9"
  },
  "language_info": {
   "file_extension": ".jl",
   "mimetype": "application/julia",
   "name": "julia",
   "version": "1.9.2"
  }
 },
 "nbformat": 4,
 "nbformat_minor": 4
}
