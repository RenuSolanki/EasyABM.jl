{
 "cells": [
  {
   "cell_type": "markdown",
   "metadata": {},
   "source": [
    "# Flocking"
   ]
  },
  {
   "cell_type": "code",
   "execution_count": 3,
   "metadata": {
    "scrolled": true
   },
   "outputs": [
    {
     "name": "stderr",
     "output_type": "stream",
     "text": [
      "\u001b[32m\u001b[1m  Activating\u001b[22m\u001b[39m project at `~/Documents/EasyABM`\n"
     ]
    }
   ],
   "source": [
    "#First two lines are not needed if using installed version of EasyABM\n",
    "using Pkg, Revise\n",
    "Pkg.activate(joinpath(@__DIR__,\"../..\"))\n",
    "using EasyABM\n"
   ]
  },
  {
   "cell_type": "markdown",
   "metadata": {},
   "source": [
    "# Step 1: Create Agents and Model\n",
    "\n",
    "Lets create 100 agents with properties `shape`, `pos`, `vel` and `orientation` (The `orientation` property is used internally by EasyABM to draw the direction agent is facing). The position `pos` is only accepted as a Vect which is an inbuilt vector type in EasyABM. It is also recommended for both convenience as well as performance to use Vect type for any vectorial properties in the model such as velocity and forces. The `keeps_record_of` argument is set of properties that the agent will record during time evolution. The model is defined with parameters:\n",
    "\n",
    "* `min_dis` : The distance between boids below which they start repelling each other.\n",
    "* `coh_fac` : The proportionality constant for the cohere force. \n",
    "* `sep_fac` : The proportionality constant for the separation force.\n",
    "* `aln_fac` : The proportionality constant for the alignment force.\n",
    "* `vis_range` : The visual range of boids.\n",
    "* `dt` : The proportionality constant between change in position and velocity.\n",
    "\n",
    "The argument `agents_type` is set to Static which means that the agents number will remain fixed during simulation."
   ]
  },
  {
   "cell_type": "code",
   "execution_count": 4,
   "metadata": {},
   "outputs": [
    {
     "data": {
      "text/plain": [
       "EasyABM SpaceModel2D{EasyABM.StaticType, Float64, EasyABM.PeriodicType}: In a EasyABM.StaticType model number of agents is fixed.\n"
      ]
     },
     "execution_count": 4,
     "metadata": {},
     "output_type": "execute_result"
    }
   ],
   "source": [
    "boids = con_2d_agents(100, shape = :arrow, pos = Vect(0.0,0.0), \n",
    "    vel=Vect(0.0,0.0), orientation = 0.0, keeps_record_of = Set([:pos, :vel, :orientation]))\n",
    "model = create_2d_model(boids,\n",
    "    agents_type=Static, space_type = Periodic, \n",
    "    min_dis = 0.3, coh_fac = 0.05, \n",
    "    sep_fac = 0.5, dt= 0.1, vis_range = 2.0, aln_fac = 0.35)"
   ]
  },
  {
   "cell_type": "markdown",
   "metadata": {},
   "source": [
    "\n",
    "## Step 2: Initialise the model\n",
    "\n",
    "In this step we set the positions, velocities and orientations of boids and initialise the model."
   ]
  },
  {
   "cell_type": "code",
   "execution_count": 5,
   "metadata": {},
   "outputs": [],
   "source": [
    "function initialiser!(model)\n",
    "    xdim, ydim = model.size\n",
    "    for boid in model.agents\n",
    "        boid.pos = Vect(rand()*xdim, rand()*ydim)\n",
    "        boid.orientation = rand()*2*3.14\n",
    "        boid.vel = vector_orientation(boid.orientation)\n",
    "    end\n",
    "end\n",
    "\n",
    "init_model!(model, initialiser = initialiser!)"
   ]
  },
  {
   "cell_type": "markdown",
   "metadata": {},
   "source": [
    "## Step 3: Defining the step_rule! and running the model\n",
    "\n",
    "In this step we implement the step logic of the flocking model in the `step_rule!` function and run the model for 200 steps. "
   ]
  },
  {
   "cell_type": "code",
   "execution_count": 6,
   "metadata": {},
   "outputs": [
    {
     "data": {
      "text/plain": [
       "1.0e-5"
      ]
     },
     "execution_count": 6,
     "metadata": {},
     "output_type": "execute_result"
    }
   ],
   "source": [
    "ep = 0.00001 # can declare it as const for efficiency"
   ]
  },
  {
   "cell_type": "code",
   "execution_count": 7,
   "metadata": {},
   "outputs": [],
   "source": [
    "function step_rule!(model)\n",
    "    dt = model.parameters.dt\n",
    "    for boid in model.agents\n",
    "        nbrs = neighbors(boid, model, model.parameters.vis_range)\n",
    "        coh_force = Vect(0.0,0.0) # For a Vect all coordinates must be of same type\n",
    "        sep_force = Vect(0.0,0.0) \n",
    "        aln_force = Vect(0.0,0.0)\n",
    "        num = 0\n",
    "        for nbr in nbrs\n",
    "            num+=1\n",
    "            vec = nbr.pos - boid.pos\n",
    "            coh_force += vec\n",
    "            if veclength(vec)< model.parameters.min_dis\n",
    "                sep_force -= vec\n",
    "            end\n",
    "            aln_force += nbr.vel\n",
    "        end\n",
    "        aln_force = num>0 ? (aln_force / num - boid.vel) * model.parameters.aln_fac : aln_force\n",
    "        num = max(1, num)\n",
    "        coh_force *= (model.parameters.coh_fac / num)\n",
    "        sep_force *=  model.parameters.sep_fac\n",
    "        boid.vel  += (coh_force + sep_force) + aln_force\n",
    "        boid.vel  /= (veclength(boid.vel)+ep)\n",
    "        boid.orientation = calculate_direction(boid.vel)\n",
    "        boid.pos += boid.vel*dt\n",
    "    end\n",
    "end\n",
    "\n",
    "run_model!(model, steps=200, step_rule = step_rule!)"
   ]
  },
  {
   "cell_type": "markdown",
   "metadata": {},
   "source": [
    "## Step 4: Visualisation"
   ]
  },
  {
   "cell_type": "markdown",
   "metadata": {},
   "source": [
    "In order to draw the model at a specific frame, say 4th, one can use following function"
   ]
  },
  {
   "cell_type": "code",
   "execution_count": 8,
   "metadata": {},
   "outputs": [
    {
     "data": {
      "image/png": "[encoded data removed]",
      "text/plain": []
     },
     "execution_count": 8,
     "metadata": {},
     "output_type": "execute_result"
    }
   ],
   "source": [
    "draw_frame(model, frame = 4 )"
   ]
  },
  {
   "cell_type": "markdown",
   "metadata": {},
   "source": [
    "If one wants to see the animation of the last model run, it can be done as "
   ]
  },
  {
   "cell_type": "code",
   "execution_count": 9,
   "metadata": {},
   "outputs": [
    {
     "data": {
      "application/vnd.webio.node+json": {
       "children": [
        {
         "children": [
          {
           "children": [
            {
             "children": [
              {
               "children": [
                {
                 "children": [
                  {
                   "children": [
                    {
                     "children": [
                      "time"
                     ],
                     "instanceArgs": {
                      "namespace": "html",
                      "tag": "label"
                     },
                     "nodeType": "DOM",
                     "props": {
                      "className": "interact ",
                      "style": {
                       "padding": "5px 10px 0px 10px"
                      }
                     },
                     "type": "node"
                    }
                   ],
                   "instanceArgs": {
                    "namespace": "html",
                    "tag": "div"
                   },
                   "nodeType": "DOM",
                   "props": {
                    "className": "interact-flex-row-left"
                   },
                   "type": "node"
                  },
                  {
                   "children": [
                    {
                     "children": [],
                     "instanceArgs": {
                      "namespace": "html",
                      "tag": "input"
                     },
                     "nodeType": "DOM",
                     "props": {
                      "attributes": {
                       "data-bind": "numericValue: index, valueUpdate: 'input', event: {change: function (){this.changes(this.changes()+1)}}",
                       "orient": "horizontal",
                       "type": "range"
                      },
                      "className": "slider slider is-fullwidth",
                      "max": 201,
                      "min": 1,
                      "step": 1,
                      "style": {}
                     },
                     "type": "node"
                    }
                   ],
                   "instanceArgs": {
                    "namespace": "html",
                    "tag": "div"
                   },
                   "nodeType": "DOM",
                   "props": {
                    "className": "interact-flex-row-center"
                   },
                   "type": "node"
                  },
                  {
                   "children": [
                    {
                     "children": [],
                     "instanceArgs": {
                      "namespace": "html",
                      "tag": "p"
                     },
                     "nodeType": "DOM",
                     "props": {
                      "attributes": {
                       "data-bind": "text: formatted_val"
                      }
                     },
                     "type": "node"
                    }
                   ],
                   "instanceArgs": {
                    "namespace": "html",
                    "tag": "div"
                   },
                   "nodeType": "DOM",
                   "props": {
                    "className": "interact-flex-row-right"
                   },
                   "type": "node"
                  }
                 ],
                 "instanceArgs": {
                  "namespace": "html",
                  "tag": "div"
                 },
                 "nodeType": "DOM",
                 "props": {
                  "className": "interact-flex-row interact-widget"
                 },
                 "type": "node"
                }
               ],
               "instanceArgs": {
                "handlers": {
                 "changes": [
                  "(function (val){return (val!=this.model[\"changes\"]()) ? (this.valueFromJulia[\"changes\"]=true, this.model[\"changes\"](val)) : undefined})"
                 ],
                 "index": [
                  "(function (val){return (val!=this.model[\"index\"]()) ? (this.valueFromJulia[\"index\"]=true, this.model[\"index\"](val)) : undefined})"
                 ]
                },
                "id": "5969404379816353287",
                "imports": {
                 "data": [
                  {
                   "name": "knockout",
                   "type": "js",
                   "url": "/assetserver/727383f2a47bd31570b7da84eee7b022dd6d7c78-knockout.js"
                  },
                  {
                   "name": "knockout_punches",
                   "type": "js",
                   "url": "/assetserver/382b41b3b1bd9f26f75861d360bad7f8beea211f-knockout_punches.js"
                  },
                  {
                   "name": null,
                   "type": "js",
                   "url": "/assetserver/5ab20f1060420992a9b82a65b735dee4d81ef413-all.js"
                  },
                  {
                   "name": null,
                   "type": "css",
                   "url": "/assetserver/1cc0ed62837210b80a182cc3676512f895dab686-style.css"
                  },
                  {
                   "name": null,
                   "type": "css",
                   "url": "/assetserver/2eee816f616df3549d7044d45e744fbf8d42bfa1-bulma_confined.min.css"
                  }
                 ],
                 "type": "async_block"
                },
                "mount_callbacks": [
                 "function () {\n    var handler = (function (ko, koPunches) {\n    ko.punches.enableAll();\n    ko.bindingHandlers.numericValue = {\n        init: function(element, valueAccessor, allBindings, data, context) {\n            var stringified = ko.observable(ko.unwrap(valueAccessor()));\n            stringified.subscribe(function(value) {\n                var val = parseFloat(value);\n                if (!isNaN(val)) {\n                    valueAccessor()(val);\n                }\n            });\n            valueAccessor().subscribe(function(value) {\n                var str = JSON.stringify(value);\n                if ((str == \"0\") && ([\"-0\", \"-0.\"].indexOf(stringified()) >= 0))\n                     return;\n                 if ([\"null\", \"\"].indexOf(str) >= 0)\n                     return;\n                stringified(str);\n            });\n            ko.applyBindingsToNode(\n                element,\n                {\n                    value: stringified,\n                    valueUpdate: allBindings.get('valueUpdate'),\n                },\n                context,\n            );\n        }\n    };\n    var json_data = {\"formatted_vals\":[\"1\",\"2\",\"3\",\"4\",\"5\",\"6\",\"7\",\"8\",\"9\",\"10\",\"11\",\"12\",\"13\",\"14\",\"15\",\"16\",\"17\",\"18\",\"19\",\"20\",\"21\",\"22\",\"23\",\"24\",\"25\",\"26\",\"27\",\"28\",\"29\",\"30\",\"31\",\"32\",\"33\",\"34\",\"35\",\"36\",\"37\",\"38\",\"39\",\"40\",\"41\",\"42\",\"43\",\"44\",\"45\",\"46\",\"47\",\"48\",\"49\",\"50\",\"51\",\"52\",\"53\",\"54\",\"55\",\"56\",\"57\",\"58\",\"59\",\"60\",\"61\",\"62\",\"63\",\"64\",\"65\",\"66\",\"67\",\"68\",\"69\",\"70\",\"71\",\"72\",\"73\",\"74\",\"75\",\"76\",\"77\",\"78\",\"79\",\"80\",\"81\",\"82\",\"83\",\"84\",\"85\",\"86\",\"87\",\"88\",\"89\",\"90\",\"91\",\"92\",\"93\",\"94\",\"95\",\"96\",\"97\",\"98\",\"99\",\"100\",\"101\",\"102\",\"103\",\"104\",\"105\",\"106\",\"107\",\"108\",\"109\",\"110\",\"111\",\"112\",\"113\",\"114\",\"115\",\"116\",\"117\",\"118\",\"119\",\"120\",\"121\",\"122\",\"123\",\"124\",\"125\",\"126\",\"127\",\"128\",\"129\",\"130\",\"131\",\"132\",\"133\",\"134\",\"135\",\"136\",\"137\",\"138\",\"139\",\"140\",\"141\",\"142\",\"143\",\"144\",\"145\",\"146\",\"147\",\"148\",\"149\",\"150\",\"151\",\"152\",\"153\",\"154\",\"155\",\"156\",\"157\",\"158\",\"159\",\"160\",\"161\",\"162\",\"163\",\"164\",\"165\",\"166\",\"167\",\"168\",\"169\",\"170\",\"171\",\"172\",\"173\",\"174\",\"175\",\"176\",\"177\",\"178\",\"179\",\"180\",\"181\",\"182\",\"183\",\"184\",\"185\",\"186\",\"187\",\"188\",\"189\",\"190\",\"191\",\"192\",\"193\",\"194\",\"195\",\"196\",\"197\",\"198\",\"199\",\"200\",\"201\"],\"changes\":WebIO.getval({\"name\":\"changes\",\"scope\":\"5969404379816353287\",\"id\":\"4700176332771543853\",\"type\":\"observable\"}),\"index\":WebIO.getval({\"name\":\"index\",\"scope\":\"5969404379816353287\",\"id\":\"8637138938044193063\",\"type\":\"observable\"})};\n    var self = this;\n    function AppViewModel() {\n        for (var key in json_data) {\n            var el = json_data[key];\n            this[key] = Array.isArray(el) ? ko.observableArray(el) : ko.observable(el);\n        }\n        \n        [this[\"formatted_val\"]=ko.computed(    function(){\n        return this.formatted_vals()[parseInt(this.index())-(1)];\n    }\n,this)]\n        [this[\"changes\"].subscribe((function (val){!(this.valueFromJulia[\"changes\"]) ? (WebIO.setval({\"name\":\"changes\",\"scope\":\"5969404379816353287\",\"id\":\"4700176332771543853\",\"type\":\"observable\"},val)) : undefined; return this.valueFromJulia[\"changes\"]=false}),self),this[\"index\"].subscribe((function (val){!(this.valueFromJulia[\"index\"]) ? (WebIO.setval({\"name\":\"index\",\"scope\":\"5969404379816353287\",\"id\":\"8637138938044193063\",\"type\":\"observable\"},val)) : undefined; return this.valueFromJulia[\"index\"]=false}),self)]\n        \n    }\n    self.model = new AppViewModel();\n    self.valueFromJulia = {};\n    for (var key in json_data) {\n        self.valueFromJulia[key] = false;\n    }\n    ko.applyBindings(self.model, self.dom);\n}\n);\n    (WebIO.importBlock({\"data\":[{\"name\":\"knockout\",\"type\":\"js\",\"url\":\"/assetserver/727383f2a47bd31570b7da84eee7b022dd6d7c78-knockout.js\"},{\"name\":\"knockout_punches\",\"type\":\"js\",\"url\":\"/assetserver/382b41b3b1bd9f26f75861d360bad7f8beea211f-knockout_punches.js\"}],\"type\":\"async_block\"})).then((imports) => handler.apply(this, imports));\n}\n"
                ],
                "observables": {
                 "changes": {
                  "id": "4700176332771543853",
                  "sync": false,
                  "value": 0
                 },
                 "index": {
                  "id": "8637138938044193063",
                  "sync": true,
                  "value": 101
                 }
                },
                "systemjs_options": null
               },
               "nodeType": "Scope",
               "props": {},
               "type": "node"
              }
             ],
             "instanceArgs": {
              "namespace": "html",
              "tag": "div"
             },
             "nodeType": "DOM",
             "props": {
              "className": "field interact-widget"
             },
             "type": "node"
            },
            {
             "children": [
              {
               "children": [
                {
                 "children": [
                  {
                   "children": [
                    {
                     "children": [
                      "scale"
                     ],
                     "instanceArgs": {
                      "namespace": "html",
                      "tag": "label"
                     },
                     "nodeType": "DOM",
                     "props": {
                      "className": "interact ",
                      "style": {
                       "padding": "5px 10px 0px 10px"
                      }
                     },
                     "type": "node"
                    }
                   ],
                   "instanceArgs": {
                    "namespace": "html",
                    "tag": "div"
                   },
                   "nodeType": "DOM",
                   "props": {
                    "className": "interact-flex-row-left"
                   },
                   "type": "node"
                  },
                  {
                   "children": [
                    {
                     "children": [],
                     "instanceArgs": {
                      "namespace": "html",
                      "tag": "input"
                     },
                     "nodeType": "DOM",
                     "props": {
                      "attributes": {
                       "data-bind": "numericValue: index, valueUpdate: 'input', event: {change: function (){this.changes(this.changes()+1)}}",
                       "orient": "horizontal",
                       "type": "range"
                      },
                      "className": "slider slider is-fullwidth",
                      "max": 20,
                      "min": 1,
                      "step": 1,
                      "style": {}
                     },
                     "type": "node"
                    }
                   ],
                   "instanceArgs": {
                    "namespace": "html",
                    "tag": "div"
                   },
                   "nodeType": "DOM",
                   "props": {
                    "className": "interact-flex-row-center"
                   },
                   "type": "node"
                  },
                  {
                   "children": [
                    {
                     "children": [],
                     "instanceArgs": {
                      "namespace": "html",
                      "tag": "p"
                     },
                     "nodeType": "DOM",
                     "props": {
                      "attributes": {
                       "data-bind": "text: formatted_val"
                      }
                     },
                     "type": "node"
                    }
                   ],
                   "instanceArgs": {
                    "namespace": "html",
                    "tag": "div"
                   },
                   "nodeType": "DOM",
                   "props": {
                    "className": "interact-flex-row-right"
                   },
                   "type": "node"
                  }
                 ],
                 "instanceArgs": {
                  "namespace": "html",
                  "tag": "div"
                 },
                 "nodeType": "DOM",
                 "props": {
                  "className": "interact-flex-row interact-widget"
                 },
                 "type": "node"
                }
               ],
               "instanceArgs": {
                "handlers": {
                 "changes": [
                  "(function (val){return (val!=this.model[\"changes\"]()) ? (this.valueFromJulia[\"changes\"]=true, this.model[\"changes\"](val)) : undefined})"
                 ],
                 "index": [
                  "(function (val){return (val!=this.model[\"index\"]()) ? (this.valueFromJulia[\"index\"]=true, this.model[\"index\"](val)) : undefined})"
                 ]
                },
                "id": "6318546216386975264",
                "imports": {
                 "data": [
                  {
                   "name": "knockout",
                   "type": "js",
                   "url": "/assetserver/727383f2a47bd31570b7da84eee7b022dd6d7c78-knockout.js"
                  },
                  {
                   "name": "knockout_punches",
                   "type": "js",
                   "url": "/assetserver/382b41b3b1bd9f26f75861d360bad7f8beea211f-knockout_punches.js"
                  },
                  {
                   "name": null,
                   "type": "js",
                   "url": "/assetserver/5ab20f1060420992a9b82a65b735dee4d81ef413-all.js"
                  },
                  {
                   "name": null,
                   "type": "css",
                   "url": "/assetserver/1cc0ed62837210b80a182cc3676512f895dab686-style.css"
                  },
                  {
                   "name": null,
                   "type": "css",
                   "url": "/assetserver/2eee816f616df3549d7044d45e744fbf8d42bfa1-bulma_confined.min.css"
                  }
                 ],
                 "type": "async_block"
                },
                "mount_callbacks": [
                 "function () {\n    var handler = (function (ko, koPunches) {\n    ko.punches.enableAll();\n    ko.bindingHandlers.numericValue = {\n        init: function(element, valueAccessor, allBindings, data, context) {\n            var stringified = ko.observable(ko.unwrap(valueAccessor()));\n            stringified.subscribe(function(value) {\n                var val = parseFloat(value);\n                if (!isNaN(val)) {\n                    valueAccessor()(val);\n                }\n            });\n            valueAccessor().subscribe(function(value) {\n                var str = JSON.stringify(value);\n                if ((str == \"0\") && ([\"-0\", \"-0.\"].indexOf(stringified()) >= 0))\n                     return;\n                 if ([\"null\", \"\"].indexOf(str) >= 0)\n                     return;\n                stringified(str);\n            });\n            ko.applyBindingsToNode(\n                element,\n                {\n                    value: stringified,\n                    valueUpdate: allBindings.get('valueUpdate'),\n                },\n                context,\n            );\n        }\n    };\n    var json_data = {\"formatted_vals\":[\"0.1\",\"0.2\",\"0.3\",\"0.4\",\"0.5\",\"0.6\",\"0.7\",\"0.8\",\"0.9\",\"1.0\",\"1.1\",\"1.2\",\"1.3\",\"1.4\",\"1.5\",\"1.6\",\"1.7\",\"1.8\",\"1.9\",\"2.0\"],\"changes\":WebIO.getval({\"name\":\"changes\",\"scope\":\"6318546216386975264\",\"id\":\"6532318934381599103\",\"type\":\"observable\"}),\"index\":WebIO.getval({\"name\":\"index\",\"scope\":\"6318546216386975264\",\"id\":\"14193285877620744791\",\"type\":\"observable\"})};\n    var self = this;\n    function AppViewModel() {\n        for (var key in json_data) {\n            var el = json_data[key];\n            this[key] = Array.isArray(el) ? ko.observableArray(el) : ko.observable(el);\n        }\n        \n        [this[\"formatted_val\"]=ko.computed(    function(){\n        return this.formatted_vals()[parseInt(this.index())-(1)];\n    }\n,this)]\n        [this[\"changes\"].subscribe((function (val){!(this.valueFromJulia[\"changes\"]) ? (WebIO.setval({\"name\":\"changes\",\"scope\":\"6318546216386975264\",\"id\":\"6532318934381599103\",\"type\":\"observable\"},val)) : undefined; return this.valueFromJulia[\"changes\"]=false}),self),this[\"index\"].subscribe((function (val){!(this.valueFromJulia[\"index\"]) ? (WebIO.setval({\"name\":\"index\",\"scope\":\"6318546216386975264\",\"id\":\"14193285877620744791\",\"type\":\"observable\"},val)) : undefined; return this.valueFromJulia[\"index\"]=false}),self)]\n        \n    }\n    self.model = new AppViewModel();\n    self.valueFromJulia = {};\n    for (var key in json_data) {\n        self.valueFromJulia[key] = false;\n    }\n    ko.applyBindings(self.model, self.dom);\n}\n);\n    (WebIO.importBlock({\"data\":[{\"name\":\"knockout\",\"type\":\"js\",\"url\":\"/assetserver/727383f2a47bd31570b7da84eee7b022dd6d7c78-knockout.js\"},{\"name\":\"knockout_punches\",\"type\":\"js\",\"url\":\"/assetserver/382b41b3b1bd9f26f75861d360bad7f8beea211f-knockout_punches.js\"}],\"type\":\"async_block\"})).then((imports) => handler.apply(this, imports));\n}\n"
                ],
                "observables": {
                 "changes": {
                  "id": "6532318934381599103",
                  "sync": false,
                  "value": 0
                 },
                 "index": {
                  "id": "14193285877620744791",
                  "sync": true,
                  "value": 10
                 }
                },
                "systemjs_options": null
               },
               "nodeType": "Scope",
               "props": {},
               "type": "node"
              }
             ],
             "instanceArgs": {
              "namespace": "html",
              "tag": "div"
             },
             "nodeType": "DOM",
             "props": {
              "className": "field interact-widget"
             },
             "type": "node"
            },
            {
             "children": [
              {
               "children": [
                {
                 "children": [
                  {
                   "children": [],
                   "instanceArgs": {
                    "namespace": "html",
                    "tag": "div"
                   },
                   "nodeType": "DOM",
                   "props": {
                    "id": "container"
                   },
                   "type": "node"
                  }
                 ],
                 "instanceArgs": {
                  "handlers": {
                   "value": [
                    "(function (txt){return this.k.render(txt,this.container)})"
                   ]
                  },
                  "id": "18237574252154941764",
                  "imports": {
                   "data": [
                    {
                     "name": null,
                     "type": "js",
                     "url": "/assetserver/dd22ed1bf1896c2748f3fe616ce0b838adc895c1-katex.min.js"
                    },
                    {
                     "name": null,
                     "type": "css",
                     "url": "/assetserver/46517a424aa5e6cffc1360d7e0848b601c584ee3-katex.min.css"
                    }
                   ],
                   "type": "async_block"
                  },
                  "mount_callbacks": [
                   "function () {\n    var handler = ((function (k){this.k=k; this.container=this.dom.querySelector(\"#container\"); return k.render(\"\\\\;\\\\;\",this.container)}));\n    (WebIO.importBlock({\"data\":[{\"name\":null,\"type\":\"js\",\"url\":\"/assetserver/dd22ed1bf1896c2748f3fe616ce0b838adc895c1-katex.min.js\"},{\"name\":null,\"type\":\"css\",\"url\":\"/assetserver/46517a424aa5e6cffc1360d7e0848b601c584ee3-katex.min.css\"}],\"type\":\"async_block\"})).then((imports) => handler.apply(this, imports));\n}\n"
                  ],
                  "observables": {
                   "value": {
                    "id": "11985116721962411351",
                    "sync": false,
                    "value": "\\;\\;"
                   }
                  },
                  "systemjs_options": null
                 },
                 "nodeType": "Scope",
                 "props": {},
                 "type": "node"
                }
               ],
               "instanceArgs": {
                "namespace": "html",
                "tag": "div"
               },
               "nodeType": "DOM",
               "props": {
                "className": "interact-widget"
               },
               "type": "node"
              },
              {
               "children": [
                {
                 "children": [
                  {
                   "children": [
                    "run"
                   ],
                   "instanceArgs": {
                    "namespace": "html",
                    "tag": "button"
                   },
                   "nodeType": "DOM",
                   "props": {
                    "attributes": {
                     "data-bind": "click: function (){this.clicks(this.clicks()+1)}, css: {'is-loading' : loading}"
                    },
                    "className": "is-medium button is-primary",
                    "style": {}
                   },
                   "type": "node"
                  }
                 ],
                 "instanceArgs": {
                  "handlers": {
                   "clicks": [
                    "(function (val){return (val!=this.model[\"clicks\"]()) ? (this.valueFromJulia[\"clicks\"]=true, this.model[\"clicks\"](val)) : undefined})"
                   ],
                   "loading": [
                    "(function (val){return (val!=this.model[\"loading\"]()) ? (this.valueFromJulia[\"loading\"]=true, this.model[\"loading\"](val)) : undefined})"
                   ]
                  },
                  "id": "14097819693745430969",
                  "imports": {
                   "data": [
                    {
                     "name": "knockout",
                     "type": "js",
                     "url": "/assetserver/727383f2a47bd31570b7da84eee7b022dd6d7c78-knockout.js"
                    },
                    {
                     "name": "knockout_punches",
                     "type": "js",
                     "url": "/assetserver/382b41b3b1bd9f26f75861d360bad7f8beea211f-knockout_punches.js"
                    },
                    {
                     "name": null,
                     "type": "js",
                     "url": "/assetserver/5ab20f1060420992a9b82a65b735dee4d81ef413-all.js"
                    },
                    {
                     "name": null,
                     "type": "css",
                     "url": "/assetserver/1cc0ed62837210b80a182cc3676512f895dab686-style.css"
                    },
                    {
                     "name": null,
                     "type": "css",
                     "url": "/assetserver/2eee816f616df3549d7044d45e744fbf8d42bfa1-bulma_confined.min.css"
                    }
                   ],
                   "type": "async_block"
                  },
                  "mount_callbacks": [
                   "function () {\n    var handler = (function (ko, koPunches) {\n    ko.punches.enableAll();\n    ko.bindingHandlers.numericValue = {\n        init: function(element, valueAccessor, allBindings, data, context) {\n            var stringified = ko.observable(ko.unwrap(valueAccessor()));\n            stringified.subscribe(function(value) {\n                var val = parseFloat(value);\n                if (!isNaN(val)) {\n                    valueAccessor()(val);\n                }\n            });\n            valueAccessor().subscribe(function(value) {\n                var str = JSON.stringify(value);\n                if ((str == \"0\") && ([\"-0\", \"-0.\"].indexOf(stringified()) >= 0))\n                     return;\n                 if ([\"null\", \"\"].indexOf(str) >= 0)\n                     return;\n                stringified(str);\n            });\n            ko.applyBindingsToNode(\n                element,\n                {\n                    value: stringified,\n                    valueUpdate: allBindings.get('valueUpdate'),\n                },\n                context,\n            );\n        }\n    };\n    var json_data = {\"loading\":WebIO.getval({\"name\":\"loading\",\"scope\":\"14097819693745430969\",\"id\":\"4996716689515602844\",\"type\":\"observable\"}),\"clicks\":WebIO.getval({\"name\":\"clicks\",\"scope\":\"14097819693745430969\",\"id\":\"11978550605998432145\",\"type\":\"observable\"})};\n    var self = this;\n    function AppViewModel() {\n        for (var key in json_data) {\n            var el = json_data[key];\n            this[key] = Array.isArray(el) ? ko.observableArray(el) : ko.observable(el);\n        }\n        \n        \n        [this[\"loading\"].subscribe((function (val){!(this.valueFromJulia[\"loading\"]) ? (WebIO.setval({\"name\":\"loading\",\"scope\":\"14097819693745430969\",\"id\":\"4996716689515602844\",\"type\":\"observable\"},val)) : undefined; return this.valueFromJulia[\"loading\"]=false}),self),this[\"clicks\"].subscribe((function (val){!(this.valueFromJulia[\"clicks\"]) ? (WebIO.setval({\"name\":\"clicks\",\"scope\":\"14097819693745430969\",\"id\":\"11978550605998432145\",\"type\":\"observable\"},val)) : undefined; return this.valueFromJulia[\"clicks\"]=false}),self)]\n        \n    }\n    self.model = new AppViewModel();\n    self.valueFromJulia = {};\n    for (var key in json_data) {\n        self.valueFromJulia[key] = false;\n    }\n    ko.applyBindings(self.model, self.dom);\n}\n);\n    (WebIO.importBlock({\"data\":[{\"name\":\"knockout\",\"type\":\"js\",\"url\":\"/assetserver/727383f2a47bd31570b7da84eee7b022dd6d7c78-knockout.js\"},{\"name\":\"knockout_punches\",\"type\":\"js\",\"url\":\"/assetserver/382b41b3b1bd9f26f75861d360bad7f8beea211f-knockout_punches.js\"}],\"type\":\"async_block\"})).then((imports) => handler.apply(this, imports));\n}\n"
                  ],
                  "observables": {
                   "clicks": {
                    "id": "11978550605998432145",
                    "sync": true,
                    "value": 0
                   },
                   "loading": {
                    "id": "4996716689515602844",
                    "sync": false,
                    "value": false
                   }
                  },
                  "systemjs_options": null
                 },
                 "nodeType": "Scope",
                 "props": {},
                 "type": "node"
                }
               ],
               "instanceArgs": {
                "namespace": "html",
                "tag": "div"
               },
               "nodeType": "DOM",
               "props": {
                "className": "field interact-widget"
               },
               "type": "node"
              },
              {
               "children": [
                {
                 "children": [
                  {
                   "children": [],
                   "instanceArgs": {
                    "namespace": "html",
                    "tag": "div"
                   },
                   "nodeType": "DOM",
                   "props": {
                    "id": "container"
                   },
                   "type": "node"
                  }
                 ],
                 "instanceArgs": {
                  "handlers": {
                   "value": [
                    "(function (txt){return this.k.render(txt,this.container)})"
                   ]
                  },
                  "id": "18237574252154941764",
                  "imports": {
                   "data": [
                    {
                     "name": null,
                     "type": "js",
                     "url": "/assetserver/dd22ed1bf1896c2748f3fe616ce0b838adc895c1-katex.min.js"
                    },
                    {
                     "name": null,
                     "type": "css",
                     "url": "/assetserver/46517a424aa5e6cffc1360d7e0848b601c584ee3-katex.min.css"
                    }
                   ],
                   "type": "async_block"
                  },
                  "mount_callbacks": [
                   "function () {\n    var handler = ((function (k){this.k=k; this.container=this.dom.querySelector(\"#container\"); return k.render(\"\\\\;\\\\;\",this.container)}));\n    (WebIO.importBlock({\"data\":[{\"name\":null,\"type\":\"js\",\"url\":\"/assetserver/dd22ed1bf1896c2748f3fe616ce0b838adc895c1-katex.min.js\"},{\"name\":null,\"type\":\"css\",\"url\":\"/assetserver/46517a424aa5e6cffc1360d7e0848b601c584ee3-katex.min.css\"}],\"type\":\"async_block\"})).then((imports) => handler.apply(this, imports));\n}\n"
                  ],
                  "observables": {
                   "value": {
                    "id": "11985116721962411351",
                    "sync": false,
                    "value": "\\;\\;"
                   }
                  },
                  "systemjs_options": null
                 },
                 "nodeType": "Scope",
                 "props": {},
                 "type": "node"
                }
               ],
               "instanceArgs": {
                "namespace": "html",
                "tag": "div"
               },
               "nodeType": "DOM",
               "props": {
                "className": "interact-widget"
               },
               "type": "node"
              },
              {
               "children": [
                {
                 "children": [
                  {
                   "children": [
                    "stop"
                   ],
                   "instanceArgs": {
                    "namespace": "html",
                    "tag": "button"
                   },
                   "nodeType": "DOM",
                   "props": {
                    "attributes": {
                     "data-bind": "click: function (){this.clicks(this.clicks()+1)}, css: {'is-loading' : loading}"
                    },
                    "className": "is-medium button is-primary",
                    "style": {}
                   },
                   "type": "node"
                  }
                 ],
                 "instanceArgs": {
                  "handlers": {
                   "clicks": [
                    "(function (val){return (val!=this.model[\"clicks\"]()) ? (this.valueFromJulia[\"clicks\"]=true, this.model[\"clicks\"](val)) : undefined})"
                   ],
                   "loading": [
                    "(function (val){return (val!=this.model[\"loading\"]()) ? (this.valueFromJulia[\"loading\"]=true, this.model[\"loading\"](val)) : undefined})"
                   ]
                  },
                  "id": "5070486409586877928",
                  "imports": {
                   "data": [
                    {
                     "name": "knockout",
                     "type": "js",
                     "url": "/assetserver/727383f2a47bd31570b7da84eee7b022dd6d7c78-knockout.js"
                    },
                    {
                     "name": "knockout_punches",
                     "type": "js",
                     "url": "/assetserver/382b41b3b1bd9f26f75861d360bad7f8beea211f-knockout_punches.js"
                    },
                    {
                     "name": null,
                     "type": "js",
                     "url": "/assetserver/5ab20f1060420992a9b82a65b735dee4d81ef413-all.js"
                    },
                    {
                     "name": null,
                     "type": "css",
                     "url": "/assetserver/1cc0ed62837210b80a182cc3676512f895dab686-style.css"
                    },
                    {
                     "name": null,
                     "type": "css",
                     "url": "/assetserver/2eee816f616df3549d7044d45e744fbf8d42bfa1-bulma_confined.min.css"
                    }
                   ],
                   "type": "async_block"
                  },
                  "mount_callbacks": [
                   "function () {\n    var handler = (function (ko, koPunches) {\n    ko.punches.enableAll();\n    ko.bindingHandlers.numericValue = {\n        init: function(element, valueAccessor, allBindings, data, context) {\n            var stringified = ko.observable(ko.unwrap(valueAccessor()));\n            stringified.subscribe(function(value) {\n                var val = parseFloat(value);\n                if (!isNaN(val)) {\n                    valueAccessor()(val);\n                }\n            });\n            valueAccessor().subscribe(function(value) {\n                var str = JSON.stringify(value);\n                if ((str == \"0\") && ([\"-0\", \"-0.\"].indexOf(stringified()) >= 0))\n                     return;\n                 if ([\"null\", \"\"].indexOf(str) >= 0)\n                     return;\n                stringified(str);\n            });\n            ko.applyBindingsToNode(\n                element,\n                {\n                    value: stringified,\n                    valueUpdate: allBindings.get('valueUpdate'),\n                },\n                context,\n            );\n        }\n    };\n    var json_data = {\"loading\":WebIO.getval({\"name\":\"loading\",\"scope\":\"5070486409586877928\",\"id\":\"5751577799363409616\",\"type\":\"observable\"}),\"clicks\":WebIO.getval({\"name\":\"clicks\",\"scope\":\"5070486409586877928\",\"id\":\"12045141070092495825\",\"type\":\"observable\"})};\n    var self = this;\n    function AppViewModel() {\n        for (var key in json_data) {\n            var el = json_data[key];\n            this[key] = Array.isArray(el) ? ko.observableArray(el) : ko.observable(el);\n        }\n        \n        \n        [this[\"loading\"].subscribe((function (val){!(this.valueFromJulia[\"loading\"]) ? (WebIO.setval({\"name\":\"loading\",\"scope\":\"5070486409586877928\",\"id\":\"5751577799363409616\",\"type\":\"observable\"},val)) : undefined; return this.valueFromJulia[\"loading\"]=false}),self),this[\"clicks\"].subscribe((function (val){!(this.valueFromJulia[\"clicks\"]) ? (WebIO.setval({\"name\":\"clicks\",\"scope\":\"5070486409586877928\",\"id\":\"12045141070092495825\",\"type\":\"observable\"},val)) : undefined; return this.valueFromJulia[\"clicks\"]=false}),self)]\n        \n    }\n    self.model = new AppViewModel();\n    self.valueFromJulia = {};\n    for (var key in json_data) {\n        self.valueFromJulia[key] = false;\n    }\n    ko.applyBindings(self.model, self.dom);\n}\n);\n    (WebIO.importBlock({\"data\":[{\"name\":\"knockout\",\"type\":\"js\",\"url\":\"/assetserver/727383f2a47bd31570b7da84eee7b022dd6d7c78-knockout.js\"},{\"name\":\"knockout_punches\",\"type\":\"js\",\"url\":\"/assetserver/382b41b3b1bd9f26f75861d360bad7f8beea211f-knockout_punches.js\"}],\"type\":\"async_block\"})).then((imports) => handler.apply(this, imports));\n}\n"
                  ],
                  "observables": {
                   "clicks": {
                    "id": "12045141070092495825",
                    "sync": true,
                    "value": 0
                   },
                   "loading": {
                    "id": "5751577799363409616",
                    "sync": false,
                    "value": false
                   }
                  },
                  "systemjs_options": null
                 },
                 "nodeType": "Scope",
                 "props": {},
                 "type": "node"
                }
               ],
               "instanceArgs": {
                "namespace": "html",
                "tag": "div"
               },
               "nodeType": "DOM",
               "props": {
                "className": "field interact-widget"
               },
               "type": "node"
              },
              {
               "children": [
                {
                 "children": [
                  {
                   "children": [],
                   "instanceArgs": {
                    "namespace": "html",
                    "tag": "div"
                   },
                   "nodeType": "DOM",
                   "props": {
                    "id": "container"
                   },
                   "type": "node"
                  }
                 ],
                 "instanceArgs": {
                  "handlers": {
                   "value": [
                    "(function (txt){return this.k.render(txt,this.container)})"
                   ]
                  },
                  "id": "18237574252154941764",
                  "imports": {
                   "data": [
                    {
                     "name": null,
                     "type": "js",
                     "url": "/assetserver/dd22ed1bf1896c2748f3fe616ce0b838adc895c1-katex.min.js"
                    },
                    {
                     "name": null,
                     "type": "css",
                     "url": "/assetserver/46517a424aa5e6cffc1360d7e0848b601c584ee3-katex.min.css"
                    }
                   ],
                   "type": "async_block"
                  },
                  "mount_callbacks": [
                   "function () {\n    var handler = ((function (k){this.k=k; this.container=this.dom.querySelector(\"#container\"); return k.render(\"\\\\;\\\\;\",this.container)}));\n    (WebIO.importBlock({\"data\":[{\"name\":null,\"type\":\"js\",\"url\":\"/assetserver/dd22ed1bf1896c2748f3fe616ce0b838adc895c1-katex.min.js\"},{\"name\":null,\"type\":\"css\",\"url\":\"/assetserver/46517a424aa5e6cffc1360d7e0848b601c584ee3-katex.min.css\"}],\"type\":\"async_block\"})).then((imports) => handler.apply(this, imports));\n}\n"
                  ],
                  "observables": {
                   "value": {
                    "id": "11985116721962411351",
                    "sync": false,
                    "value": "\\;\\;"
                   }
                  },
                  "systemjs_options": null
                 },
                 "nodeType": "Scope",
                 "props": {},
                 "type": "node"
                }
               ],
               "instanceArgs": {
                "namespace": "html",
                "tag": "div"
               },
               "nodeType": "DOM",
               "props": {
                "className": "interact-widget"
               },
               "type": "node"
              },
              {
               "children": [
                {
                 "children": [
                  {
                   "children": [
                    "save"
                   ],
                   "instanceArgs": {
                    "namespace": "html",
                    "tag": "button"
                   },
                   "nodeType": "DOM",
                   "props": {
                    "attributes": {
                     "data-bind": "click: function (){this.clicks(this.clicks()+1)}, css: {'is-loading' : loading}"
                    },
                    "className": "is-medium button is-primary",
                    "style": {}
                   },
                   "type": "node"
                  }
                 ],
                 "instanceArgs": {
                  "handlers": {
                   "clicks": [
                    "(function (val){return (val!=this.model[\"clicks\"]()) ? (this.valueFromJulia[\"clicks\"]=true, this.model[\"clicks\"](val)) : undefined})"
                   ],
                   "loading": [
                    "(function (val){return (val!=this.model[\"loading\"]()) ? (this.valueFromJulia[\"loading\"]=true, this.model[\"loading\"](val)) : undefined})"
                   ]
                  },
                  "id": "13463635347125851873",
                  "imports": {
                   "data": [
                    {
                     "name": "knockout",
                     "type": "js",
                     "url": "/assetserver/727383f2a47bd31570b7da84eee7b022dd6d7c78-knockout.js"
                    },
                    {
                     "name": "knockout_punches",
                     "type": "js",
                     "url": "/assetserver/382b41b3b1bd9f26f75861d360bad7f8beea211f-knockout_punches.js"
                    },
                    {
                     "name": null,
                     "type": "js",
                     "url": "/assetserver/5ab20f1060420992a9b82a65b735dee4d81ef413-all.js"
                    },
                    {
                     "name": null,
                     "type": "css",
                     "url": "/assetserver/1cc0ed62837210b80a182cc3676512f895dab686-style.css"
                    },
                    {
                     "name": null,
                     "type": "css",
                     "url": "/assetserver/2eee816f616df3549d7044d45e744fbf8d42bfa1-bulma_confined.min.css"
                    }
                   ],
                   "type": "async_block"
                  },
                  "mount_callbacks": [
                   "function () {\n    var handler = (function (ko, koPunches) {\n    ko.punches.enableAll();\n    ko.bindingHandlers.numericValue = {\n        init: function(element, valueAccessor, allBindings, data, context) {\n            var stringified = ko.observable(ko.unwrap(valueAccessor()));\n            stringified.subscribe(function(value) {\n                var val = parseFloat(value);\n                if (!isNaN(val)) {\n                    valueAccessor()(val);\n                }\n            });\n            valueAccessor().subscribe(function(value) {\n                var str = JSON.stringify(value);\n                if ((str == \"0\") && ([\"-0\", \"-0.\"].indexOf(stringified()) >= 0))\n                     return;\n                 if ([\"null\", \"\"].indexOf(str) >= 0)\n                     return;\n                stringified(str);\n            });\n            ko.applyBindingsToNode(\n                element,\n                {\n                    value: stringified,\n                    valueUpdate: allBindings.get('valueUpdate'),\n                },\n                context,\n            );\n        }\n    };\n    var json_data = {\"loading\":WebIO.getval({\"name\":\"loading\",\"scope\":\"13463635347125851873\",\"id\":\"895312396380666690\",\"type\":\"observable\"}),\"clicks\":WebIO.getval({\"name\":\"clicks\",\"scope\":\"13463635347125851873\",\"id\":\"17674783049507021771\",\"type\":\"observable\"})};\n    var self = this;\n    function AppViewModel() {\n        for (var key in json_data) {\n            var el = json_data[key];\n            this[key] = Array.isArray(el) ? ko.observableArray(el) : ko.observable(el);\n        }\n        \n        \n        [this[\"loading\"].subscribe((function (val){!(this.valueFromJulia[\"loading\"]) ? (WebIO.setval({\"name\":\"loading\",\"scope\":\"13463635347125851873\",\"id\":\"895312396380666690\",\"type\":\"observable\"},val)) : undefined; return this.valueFromJulia[\"loading\"]=false}),self),this[\"clicks\"].subscribe((function (val){!(this.valueFromJulia[\"clicks\"]) ? (WebIO.setval({\"name\":\"clicks\",\"scope\":\"13463635347125851873\",\"id\":\"17674783049507021771\",\"type\":\"observable\"},val)) : undefined; return this.valueFromJulia[\"clicks\"]=false}),self)]\n        \n    }\n    self.model = new AppViewModel();\n    self.valueFromJulia = {};\n    for (var key in json_data) {\n        self.valueFromJulia[key] = false;\n    }\n    ko.applyBindings(self.model, self.dom);\n}\n);\n    (WebIO.importBlock({\"data\":[{\"name\":\"knockout\",\"type\":\"js\",\"url\":\"/assetserver/727383f2a47bd31570b7da84eee7b022dd6d7c78-knockout.js\"},{\"name\":\"knockout_punches\",\"type\":\"js\",\"url\":\"/assetserver/382b41b3b1bd9f26f75861d360bad7f8beea211f-knockout_punches.js\"}],\"type\":\"async_block\"})).then((imports) => handler.apply(this, imports));\n}\n"
                  ],
                  "observables": {
                   "clicks": {
                    "id": "17674783049507021771",
                    "sync": true,
                    "value": 0
                   },
                   "loading": {
                    "id": "895312396380666690",
                    "sync": false,
                    "value": false
                   }
                  },
                  "systemjs_options": null
                 },
                 "nodeType": "Scope",
                 "props": {},
                 "type": "node"
                }
               ],
               "instanceArgs": {
                "namespace": "html",
                "tag": "div"
               },
               "nodeType": "DOM",
               "props": {
                "className": "field interact-widget"
               },
               "type": "node"
              }
             ],
             "instanceArgs": {
              "namespace": "html",
              "tag": "div"
             },
             "nodeType": "DOM",
             "props": {
              "style": {
               "display": "flex",
               "flex-direction": "row"
              }
             },
             "type": "node"
            }
           ],
           "instanceArgs": {
            "namespace": "html",
            "tag": "div"
           },
           "nodeType": "DOM",
           "props": {
            "style": {
             "display": "flex",
             "flex-direction": "column"
            }
           },
           "type": "node"
          },
          {
           "children": [
            {
             "children": [
              {
               "children": [],
               "instanceArgs": {
                "namespace": "html",
                "tag": "div"
               },
               "nodeType": "DOM",
               "props": {
                "id": "container"
               },
               "type": "node"
              }
             ],
             "instanceArgs": {
              "handlers": {
               "value": [
                "(function (txt){return this.k.render(txt,this.container)})"
               ]
              },
              "id": "18237574252154941764",
              "imports": {
               "data": [
                {
                 "name": null,
                 "type": "js",
                 "url": "/assetserver/dd22ed1bf1896c2748f3fe616ce0b838adc895c1-katex.min.js"
                },
                {
                 "name": null,
                 "type": "css",
                 "url": "/assetserver/46517a424aa5e6cffc1360d7e0848b601c584ee3-katex.min.css"
                }
               ],
               "type": "async_block"
              },
              "mount_callbacks": [
               "function () {\n    var handler = ((function (k){this.k=k; this.container=this.dom.querySelector(\"#container\"); return k.render(\"\\\\;\\\\;\",this.container)}));\n    (WebIO.importBlock({\"data\":[{\"name\":null,\"type\":\"js\",\"url\":\"/assetserver/dd22ed1bf1896c2748f3fe616ce0b838adc895c1-katex.min.js\"},{\"name\":null,\"type\":\"css\",\"url\":\"/assetserver/46517a424aa5e6cffc1360d7e0848b601c584ee3-katex.min.css\"}],\"type\":\"async_block\"})).then((imports) => handler.apply(this, imports));\n}\n"
              ],
              "observables": {
               "value": {
                "id": "11985116721962411351",
                "sync": false,
                "value": "\\;\\;"
               }
              },
              "systemjs_options": null
             },
             "nodeType": "Scope",
             "props": {},
             "type": "node"
            }
           ],
           "instanceArgs": {
            "namespace": "html",
            "tag": "div"
           },
           "nodeType": "DOM",
           "props": {
            "className": "interact-widget"
           },
           "type": "node"
          },
          {
           "children": [
            {
             "children": [],
             "instanceArgs": {
              "namespace": "html",
              "tag": "div"
             },
             "nodeType": "DOM",
             "props": {
              "className": "webio-observable",
              "setInnerHtml": "<img src='data:image/png;base64,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'></img>"
             },
             "type": "node"
            }
           ],
           "instanceArgs": {
            "handlers": {
             "obs-output": [
              "function (value, scope) {\n    scope.setInnerHTML(value);\n}\n"
             ]
            },
            "id": "17071318750650541567",
            "imports": {
             "data": [],
             "type": "async_block"
            },
            "mount_callbacks": [],
            "observables": {
             "obs-output": {
              "id": "6825361922435183710",
              "sync": false,
              "value": "<img src='data:image/png;base64,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'></img>"
             }
            },
            "systemjs_options": null
           },
           "nodeType": "Scope",
           "props": {},
           "type": "node"
          },
          {
           "children": [
            {
             "children": [
              {
               "children": [],
               "instanceArgs": {
                "namespace": "html",
                "tag": "div"
               },
               "nodeType": "DOM",
               "props": {
                "id": "container"
               },
               "type": "node"
              }
             ],
             "instanceArgs": {
              "handlers": {
               "value": [
                "(function (txt){return this.k.render(txt,this.container)})"
               ]
              },
              "id": "18237574252154941764",
              "imports": {
               "data": [
                {
                 "name": null,
                 "type": "js",
                 "url": "/assetserver/dd22ed1bf1896c2748f3fe616ce0b838adc895c1-katex.min.js"
                },
                {
                 "name": null,
                 "type": "css",
                 "url": "/assetserver/46517a424aa5e6cffc1360d7e0848b601c584ee3-katex.min.css"
                }
               ],
               "type": "async_block"
              },
              "mount_callbacks": [
               "function () {\n    var handler = ((function (k){this.k=k; this.container=this.dom.querySelector(\"#container\"); return k.render(\"\\\\;\\\\;\",this.container)}));\n    (WebIO.importBlock({\"data\":[{\"name\":null,\"type\":\"js\",\"url\":\"/assetserver/dd22ed1bf1896c2748f3fe616ce0b838adc895c1-katex.min.js\"},{\"name\":null,\"type\":\"css\",\"url\":\"/assetserver/46517a424aa5e6cffc1360d7e0848b601c584ee3-katex.min.css\"}],\"type\":\"async_block\"})).then((imports) => handler.apply(this, imports));\n}\n"
              ],
              "observables": {
               "value": {
                "id": "11985116721962411351",
                "sync": false,
                "value": "\\;\\;"
               }
              },
              "systemjs_options": null
             },
             "nodeType": "Scope",
             "props": {},
             "type": "node"
            }
           ],
           "instanceArgs": {
            "namespace": "html",
            "tag": "div"
           },
           "nodeType": "DOM",
           "props": {
            "className": "interact-widget"
           },
           "type": "node"
          },
          {
           "children": [],
           "instanceArgs": {
            "namespace": "html",
            "tag": "div"
           },
           "nodeType": "DOM",
           "props": {
            "style": {
             "display": "flex",
             "flex-direction": "column"
            }
           },
           "type": "node"
          }
         ],
         "instanceArgs": {
          "namespace": "html",
          "tag": "div"
         },
         "nodeType": "DOM",
         "props": {
          "style": {
           "display": "flex",
           "flex-direction": "row"
          }
         },
         "type": "node"
        }
       ],
       "instanceArgs": {
        "namespace": "html",
        "tag": "div"
       },
       "nodeType": "DOM",
       "props": {
        "style": {
         "display": "flex",
         "flex-direction": "column"
        }
       },
       "type": "node"
      },
      "text/html": [
       "<div\n",
       "    class=\"webio-mountpoint\"\n",
       "    data-webio-mountpoint=\"2043901749592507117\"\n",
       ">\n",
       "    <script>\n",
       "    (function(){\n",
       "    // Some integrations (namely, IJulia/Jupyter) use an alternate render pathway than\n",
       "    // just putting the html on the page. If WebIO isn't defined, then it's pretty likely\n",
       "    // that we're in one of those situations and the integration just isn't installed\n",
       "    // correctly.\n",
       "    if (typeof window.WebIO === \"undefined\") {\n",
       "        document\n",
       "            .querySelector('[data-webio-mountpoint=\"2043901749592507117\"]')\n",
       "            .innerHTML = (\n",
       "                '<div style=\"padding: 1em; background-color: #f8d6da; border: 1px solid #f5c6cb; font-weight: bold;\">' +\n",
       "                '<p><strong>WebIO not detected.</strong></p>' +\n",
       "                '<p>Please read ' +\n",
       "                '<a href=\"https://juliagizmos.github.io/WebIO.jl/latest/troubleshooting/not-detected/\" target=\"_blank\">the troubleshooting guide</a> ' +\n",
       "                'for more information on how to resolve this issue.</p>' +\n",
       "                '<p><a href=\"https://juliagizmos.github.io/WebIO.jl/latest/troubleshooting/not-detected/\" target=\"_blank\">https://juliagizmos.github.io/WebIO.jl/latest/troubleshooting/not-detected/</a></p>' +\n",
       "                '</div>'\n",
       "            );\n",
       "        return;\n",
       "    }\n",
       "    WebIO.mount(\n",
       "        document.querySelector('[data-webio-mountpoint=\"2043901749592507117\"]'),\n",
       "        {\"props\":{\"style\":{\"display\":\"flex\",\"flex-direction\":\"column\"}},\"nodeType\":\"DOM\",\"type\":\"node\",\"instanceArgs\":{\"namespace\":\"html\",\"tag\":\"div\"},\"children\":[{\"props\":{\"style\":{\"display\":\"flex\",\"flex-direction\":\"row\"}},\"nodeType\":\"DOM\",\"type\":\"node\",\"instanceArgs\":{\"namespace\":\"html\",\"tag\":\"div\"},\"children\":[{\"props\":{\"style\":{\"display\":\"flex\",\"flex-direction\":\"column\"}},\"nodeType\":\"DOM\",\"type\":\"node\",\"instanceArgs\":{\"namespace\":\"html\",\"tag\":\"div\"},\"children\":[{\"props\":{\"className\":\"field interact-widget\"},\"nodeType\":\"DOM\",\"type\":\"node\",\"instanceArgs\":{\"namespace\":\"html\",\"tag\":\"div\"},\"children\":[{\"props\":{},\"nodeType\":\"Scope\",\"type\":\"node\",\"instanceArgs\":{\"imports\":{\"data\":[{\"name\":\"knockout\",\"type\":\"js\",\"url\":\"\\/assetserver\\/727383f2a47bd31570b7da84eee7b022dd6d7c78-knockout.js\"},{\"name\":\"knockout_punches\",\"type\":\"js\",\"url\":\"\\/assetserver\\/382b41b3b1bd9f26f75861d360bad7f8beea211f-knockout_punches.js\"},{\"name\":null,\"type\":\"js\",\"url\":\"\\/assetserver\\/5ab20f1060420992a9b82a65b735dee4d81ef413-all.js\"},{\"name\":null,\"type\":\"css\",\"url\":\"\\/assetserver\\/1cc0ed62837210b80a182cc3676512f895dab686-style.css\"},{\"name\":null,\"type\":\"css\",\"url\":\"\\/assetserver\\/2eee816f616df3549d7044d45e744fbf8d42bfa1-bulma_confined.min.css\"}],\"type\":\"async_block\"},\"id\":\"5969404379816353287\",\"handlers\":{\"changes\":[\"(function (val){return (val!=this.model[\\\"changes\\\"]()) ? (this.valueFromJulia[\\\"changes\\\"]=true, this.model[\\\"changes\\\"](val)) : undefined})\"],\"index\":[\"(function (val){return (val!=this.model[\\\"index\\\"]()) ? (this.valueFromJulia[\\\"index\\\"]=true, this.model[\\\"index\\\"](val)) : undefined})\"]},\"systemjs_options\":null,\"mount_callbacks\":[\"function () {\\n    var handler = (function (ko, koPunches) {\\n    ko.punches.enableAll();\\n    ko.bindingHandlers.numericValue = {\\n        init: function(element, valueAccessor, allBindings, data, context) {\\n            var stringified = ko.observable(ko.unwrap(valueAccessor()));\\n            stringified.subscribe(function(value) {\\n                var val = parseFloat(value);\\n                if (!isNaN(val)) {\\n                    valueAccessor()(val);\\n                }\\n            });\\n            valueAccessor().subscribe(function(value) {\\n                var str = JSON.stringify(value);\\n                if ((str == \\\"0\\\") && ([\\\"-0\\\", \\\"-0.\\\"].indexOf(stringified()) >= 0))\\n                     return;\\n                 if ([\\\"null\\\", \\\"\\\"].indexOf(str) >= 0)\\n                     return;\\n                stringified(str);\\n            });\\n            ko.applyBindingsToNode(\\n                element,\\n                {\\n                    value: stringified,\\n                    valueUpdate: allBindings.get('valueUpdate'),\\n                },\\n                context,\\n            );\\n        }\\n    };\\n    var json_data = {\\\"formatted_vals\\\":[\\\"1\\\",\\\"2\\\",\\\"3\\\",\\\"4\\\",\\\"5\\\",\\\"6\\\",\\\"7\\\",\\\"8\\\",\\\"9\\\",\\\"10\\\",\\\"11\\\",\\\"12\\\",\\\"13\\\",\\\"14\\\",\\\"15\\\",\\\"16\\\",\\\"17\\\",\\\"18\\\",\\\"19\\\",\\\"20\\\",\\\"21\\\",\\\"22\\\",\\\"23\\\",\\\"24\\\",\\\"25\\\",\\\"26\\\",\\\"27\\\",\\\"28\\\",\\\"29\\\",\\\"30\\\",\\\"31\\\",\\\"32\\\",\\\"33\\\",\\\"34\\\",\\\"35\\\",\\\"36\\\",\\\"37\\\",\\\"38\\\",\\\"39\\\",\\\"40\\\",\\\"41\\\",\\\"42\\\",\\\"43\\\",\\\"44\\\",\\\"45\\\",\\\"46\\\",\\\"47\\\",\\\"48\\\",\\\"49\\\",\\\"50\\\",\\\"51\\\",\\\"52\\\",\\\"53\\\",\\\"54\\\",\\\"55\\\",\\\"56\\\",\\\"57\\\",\\\"58\\\",\\\"59\\\",\\\"60\\\",\\\"61\\\",\\\"62\\\",\\\"63\\\",\\\"64\\\",\\\"65\\\",\\\"66\\\",\\\"67\\\",\\\"68\\\",\\\"69\\\",\\\"70\\\",\\\"71\\\",\\\"72\\\",\\\"73\\\",\\\"74\\\",\\\"75\\\",\\\"76\\\",\\\"77\\\",\\\"78\\\",\\\"79\\\",\\\"80\\\",\\\"81\\\",\\\"82\\\",\\\"83\\\",\\\"84\\\",\\\"85\\\",\\\"86\\\",\\\"87\\\",\\\"88\\\",\\\"89\\\",\\\"90\\\",\\\"91\\\",\\\"92\\\",\\\"93\\\",\\\"94\\\",\\\"95\\\",\\\"96\\\",\\\"97\\\",\\\"98\\\",\\\"99\\\",\\\"100\\\",\\\"101\\\",\\\"102\\\",\\\"103\\\",\\\"104\\\",\\\"105\\\",\\\"106\\\",\\\"107\\\",\\\"108\\\",\\\"109\\\",\\\"110\\\",\\\"111\\\",\\\"112\\\",\\\"113\\\",\\\"114\\\",\\\"115\\\",\\\"116\\\",\\\"117\\\",\\\"118\\\",\\\"119\\\",\\\"120\\\",\\\"121\\\",\\\"122\\\",\\\"123\\\",\\\"124\\\",\\\"125\\\",\\\"126\\\",\\\"127\\\",\\\"128\\\",\\\"129\\\",\\\"130\\\",\\\"131\\\",\\\"132\\\",\\\"133\\\",\\\"134\\\",\\\"135\\\",\\\"136\\\",\\\"137\\\",\\\"138\\\",\\\"139\\\",\\\"140\\\",\\\"141\\\",\\\"142\\\",\\\"143\\\",\\\"144\\\",\\\"145\\\",\\\"146\\\",\\\"147\\\",\\\"148\\\",\\\"149\\\",\\\"150\\\",\\\"151\\\",\\\"152\\\",\\\"153\\\",\\\"154\\\",\\\"155\\\",\\\"156\\\",\\\"157\\\",\\\"158\\\",\\\"159\\\",\\\"160\\\",\\\"161\\\",\\\"162\\\",\\\"163\\\",\\\"164\\\",\\\"165\\\",\\\"166\\\",\\\"167\\\",\\\"168\\\",\\\"169\\\",\\\"170\\\",\\\"171\\\",\\\"172\\\",\\\"173\\\",\\\"174\\\",\\\"175\\\",\\\"176\\\",\\\"177\\\",\\\"178\\\",\\\"179\\\",\\\"180\\\",\\\"181\\\",\\\"182\\\",\\\"183\\\",\\\"184\\\",\\\"185\\\",\\\"186\\\",\\\"187\\\",\\\"188\\\",\\\"189\\\",\\\"190\\\",\\\"191\\\",\\\"192\\\",\\\"193\\\",\\\"194\\\",\\\"195\\\",\\\"196\\\",\\\"197\\\",\\\"198\\\",\\\"199\\\",\\\"200\\\",\\\"201\\\"],\\\"changes\\\":WebIO.getval({\\\"name\\\":\\\"changes\\\",\\\"scope\\\":\\\"5969404379816353287\\\",\\\"id\\\":\\\"4700176332771543853\\\",\\\"type\\\":\\\"observable\\\"}),\\\"index\\\":WebIO.getval({\\\"name\\\":\\\"index\\\",\\\"scope\\\":\\\"5969404379816353287\\\",\\\"id\\\":\\\"8637138938044193063\\\",\\\"type\\\":\\\"observable\\\"})};\\n    var self = this;\\n    function AppViewModel() {\\n        for (var key in json_data) {\\n            var el = json_data[key];\\n            this[key] = Array.isArray(el) ? ko.observableArray(el) : ko.observable(el);\\n        }\\n        \\n        [this[\\\"formatted_val\\\"]=ko.computed(    function(){\\n        return this.formatted_vals()[parseInt(this.index())-(1)];\\n    }\\n,this)]\\n        [this[\\\"changes\\\"].subscribe((function (val){!(this.valueFromJulia[\\\"changes\\\"]) ? (WebIO.setval({\\\"name\\\":\\\"changes\\\",\\\"scope\\\":\\\"5969404379816353287\\\",\\\"id\\\":\\\"4700176332771543853\\\",\\\"type\\\":\\\"observable\\\"},val)) : undefined; return this.valueFromJulia[\\\"changes\\\"]=false}),self),this[\\\"index\\\"].subscribe((function (val){!(this.valueFromJulia[\\\"index\\\"]) ? (WebIO.setval({\\\"name\\\":\\\"index\\\",\\\"scope\\\":\\\"5969404379816353287\\\",\\\"id\\\":\\\"8637138938044193063\\\",\\\"type\\\":\\\"observable\\\"},val)) : undefined; return this.valueFromJulia[\\\"index\\\"]=false}),self)]\\n        \\n    }\\n    self.model = new AppViewModel();\\n    self.valueFromJulia = {};\\n    for (var key in json_data) {\\n        self.valueFromJulia[key] = false;\\n    }\\n    ko.applyBindings(self.model, self.dom);\\n}\\n);\\n    (WebIO.importBlock({\\\"data\\\":[{\\\"name\\\":\\\"knockout\\\",\\\"type\\\":\\\"js\\\",\\\"url\\\":\\\"\\/assetserver\\/727383f2a47bd31570b7da84eee7b022dd6d7c78-knockout.js\\\"},{\\\"name\\\":\\\"knockout_punches\\\",\\\"type\\\":\\\"js\\\",\\\"url\\\":\\\"\\/assetserver\\/382b41b3b1bd9f26f75861d360bad7f8beea211f-knockout_punches.js\\\"}],\\\"type\\\":\\\"async_block\\\"})).then((imports) => handler.apply(this, imports));\\n}\\n\"],\"observables\":{\"changes\":{\"sync\":false,\"id\":\"4700176332771543853\",\"value\":0},\"index\":{\"sync\":true,\"id\":\"8637138938044193063\",\"value\":101}}},\"children\":[{\"props\":{\"className\":\"interact-flex-row interact-widget\"},\"nodeType\":\"DOM\",\"type\":\"node\",\"instanceArgs\":{\"namespace\":\"html\",\"tag\":\"div\"},\"children\":[{\"props\":{\"className\":\"interact-flex-row-left\"},\"nodeType\":\"DOM\",\"type\":\"node\",\"instanceArgs\":{\"namespace\":\"html\",\"tag\":\"div\"},\"children\":[{\"props\":{\"className\":\"interact \",\"style\":{\"padding\":\"5px 10px 0px 10px\"}},\"nodeType\":\"DOM\",\"type\":\"node\",\"instanceArgs\":{\"namespace\":\"html\",\"tag\":\"label\"},\"children\":[\"time\"]}]},{\"props\":{\"className\":\"interact-flex-row-center\"},\"nodeType\":\"DOM\",\"type\":\"node\",\"instanceArgs\":{\"namespace\":\"html\",\"tag\":\"div\"},\"children\":[{\"props\":{\"max\":201,\"min\":1,\"attributes\":{\"type\":\"range\",\"data-bind\":\"numericValue: index, valueUpdate: 'input', event: {change: function (){this.changes(this.changes()+1)}}\",\"orient\":\"horizontal\"},\"step\":1,\"className\":\"slider slider is-fullwidth\",\"style\":{}},\"nodeType\":\"DOM\",\"type\":\"node\",\"instanceArgs\":{\"namespace\":\"html\",\"tag\":\"input\"},\"children\":[]}]},{\"props\":{\"className\":\"interact-flex-row-right\"},\"nodeType\":\"DOM\",\"type\":\"node\",\"instanceArgs\":{\"namespace\":\"html\",\"tag\":\"div\"},\"children\":[{\"props\":{\"attributes\":{\"data-bind\":\"text: formatted_val\"}},\"nodeType\":\"DOM\",\"type\":\"node\",\"instanceArgs\":{\"namespace\":\"html\",\"tag\":\"p\"},\"children\":[]}]}]}]}]},{\"props\":{\"className\":\"field interact-widget\"},\"nodeType\":\"DOM\",\"type\":\"node\",\"instanceArgs\":{\"namespace\":\"html\",\"tag\":\"div\"},\"children\":[{\"props\":{},\"nodeType\":\"Scope\",\"type\":\"node\",\"instanceArgs\":{\"imports\":{\"data\":[{\"name\":\"knockout\",\"type\":\"js\",\"url\":\"\\/assetserver\\/727383f2a47bd31570b7da84eee7b022dd6d7c78-knockout.js\"},{\"name\":\"knockout_punches\",\"type\":\"js\",\"url\":\"\\/assetserver\\/382b41b3b1bd9f26f75861d360bad7f8beea211f-knockout_punches.js\"},{\"name\":null,\"type\":\"js\",\"url\":\"\\/assetserver\\/5ab20f1060420992a9b82a65b735dee4d81ef413-all.js\"},{\"name\":null,\"type\":\"css\",\"url\":\"\\/assetserver\\/1cc0ed62837210b80a182cc3676512f895dab686-style.css\"},{\"name\":null,\"type\":\"css\",\"url\":\"\\/assetserver\\/2eee816f616df3549d7044d45e744fbf8d42bfa1-bulma_confined.min.css\"}],\"type\":\"async_block\"},\"id\":\"6318546216386975264\",\"handlers\":{\"changes\":[\"(function (val){return (val!=this.model[\\\"changes\\\"]()) ? (this.valueFromJulia[\\\"changes\\\"]=true, this.model[\\\"changes\\\"](val)) : undefined})\"],\"index\":[\"(function (val){return (val!=this.model[\\\"index\\\"]()) ? (this.valueFromJulia[\\\"index\\\"]=true, this.model[\\\"index\\\"](val)) : undefined})\"]},\"systemjs_options\":null,\"mount_callbacks\":[\"function () {\\n    var handler = (function (ko, koPunches) {\\n    ko.punches.enableAll();\\n    ko.bindingHandlers.numericValue = {\\n        init: function(element, valueAccessor, allBindings, data, context) {\\n            var stringified = ko.observable(ko.unwrap(valueAccessor()));\\n            stringified.subscribe(function(value) {\\n                var val = parseFloat(value);\\n                if (!isNaN(val)) {\\n                    valueAccessor()(val);\\n                }\\n            });\\n            valueAccessor().subscribe(function(value) {\\n                var str = JSON.stringify(value);\\n                if ((str == \\\"0\\\") && ([\\\"-0\\\", \\\"-0.\\\"].indexOf(stringified()) >= 0))\\n                     return;\\n                 if ([\\\"null\\\", \\\"\\\"].indexOf(str) >= 0)\\n                     return;\\n                stringified(str);\\n            });\\n            ko.applyBindingsToNode(\\n                element,\\n                {\\n                    value: stringified,\\n                    valueUpdate: allBindings.get('valueUpdate'),\\n                },\\n                context,\\n            );\\n        }\\n    };\\n    var json_data = {\\\"formatted_vals\\\":[\\\"0.1\\\",\\\"0.2\\\",\\\"0.3\\\",\\\"0.4\\\",\\\"0.5\\\",\\\"0.6\\\",\\\"0.7\\\",\\\"0.8\\\",\\\"0.9\\\",\\\"1.0\\\",\\\"1.1\\\",\\\"1.2\\\",\\\"1.3\\\",\\\"1.4\\\",\\\"1.5\\\",\\\"1.6\\\",\\\"1.7\\\",\\\"1.8\\\",\\\"1.9\\\",\\\"2.0\\\"],\\\"changes\\\":WebIO.getval({\\\"name\\\":\\\"changes\\\",\\\"scope\\\":\\\"6318546216386975264\\\",\\\"id\\\":\\\"6532318934381599103\\\",\\\"type\\\":\\\"observable\\\"}),\\\"index\\\":WebIO.getval({\\\"name\\\":\\\"index\\\",\\\"scope\\\":\\\"6318546216386975264\\\",\\\"id\\\":\\\"14193285877620744791\\\",\\\"type\\\":\\\"observable\\\"})};\\n    var self = this;\\n    function AppViewModel() {\\n        for (var key in json_data) {\\n            var el = json_data[key];\\n            this[key] = Array.isArray(el) ? ko.observableArray(el) : ko.observable(el);\\n        }\\n        \\n        [this[\\\"formatted_val\\\"]=ko.computed(    function(){\\n        return this.formatted_vals()[parseInt(this.index())-(1)];\\n    }\\n,this)]\\n        [this[\\\"changes\\\"].subscribe((function (val){!(this.valueFromJulia[\\\"changes\\\"]) ? (WebIO.setval({\\\"name\\\":\\\"changes\\\",\\\"scope\\\":\\\"6318546216386975264\\\",\\\"id\\\":\\\"6532318934381599103\\\",\\\"type\\\":\\\"observable\\\"},val)) : undefined; return this.valueFromJulia[\\\"changes\\\"]=false}),self),this[\\\"index\\\"].subscribe((function (val){!(this.valueFromJulia[\\\"index\\\"]) ? (WebIO.setval({\\\"name\\\":\\\"index\\\",\\\"scope\\\":\\\"6318546216386975264\\\",\\\"id\\\":\\\"14193285877620744791\\\",\\\"type\\\":\\\"observable\\\"},val)) : undefined; return this.valueFromJulia[\\\"index\\\"]=false}),self)]\\n        \\n    }\\n    self.model = new AppViewModel();\\n    self.valueFromJulia = {};\\n    for (var key in json_data) {\\n        self.valueFromJulia[key] = false;\\n    }\\n    ko.applyBindings(self.model, self.dom);\\n}\\n);\\n    (WebIO.importBlock({\\\"data\\\":[{\\\"name\\\":\\\"knockout\\\",\\\"type\\\":\\\"js\\\",\\\"url\\\":\\\"\\/assetserver\\/727383f2a47bd31570b7da84eee7b022dd6d7c78-knockout.js\\\"},{\\\"name\\\":\\\"knockout_punches\\\",\\\"type\\\":\\\"js\\\",\\\"url\\\":\\\"\\/assetserver\\/382b41b3b1bd9f26f75861d360bad7f8beea211f-knockout_punches.js\\\"}],\\\"type\\\":\\\"async_block\\\"})).then((imports) => handler.apply(this, imports));\\n}\\n\"],\"observables\":{\"changes\":{\"sync\":false,\"id\":\"6532318934381599103\",\"value\":0},\"index\":{\"sync\":true,\"id\":\"14193285877620744791\",\"value\":10}}},\"children\":[{\"props\":{\"className\":\"interact-flex-row interact-widget\"},\"nodeType\":\"DOM\",\"type\":\"node\",\"instanceArgs\":{\"namespace\":\"html\",\"tag\":\"div\"},\"children\":[{\"props\":{\"className\":\"interact-flex-row-left\"},\"nodeType\":\"DOM\",\"type\":\"node\",\"instanceArgs\":{\"namespace\":\"html\",\"tag\":\"div\"},\"children\":[{\"props\":{\"className\":\"interact \",\"style\":{\"padding\":\"5px 10px 0px 10px\"}},\"nodeType\":\"DOM\",\"type\":\"node\",\"instanceArgs\":{\"namespace\":\"html\",\"tag\":\"label\"},\"children\":[\"scale\"]}]},{\"props\":{\"className\":\"interact-flex-row-center\"},\"nodeType\":\"DOM\",\"type\":\"node\",\"instanceArgs\":{\"namespace\":\"html\",\"tag\":\"div\"},\"children\":[{\"props\":{\"max\":20,\"min\":1,\"attributes\":{\"type\":\"range\",\"data-bind\":\"numericValue: index, valueUpdate: 'input', event: {change: function (){this.changes(this.changes()+1)}}\",\"orient\":\"horizontal\"},\"step\":1,\"className\":\"slider slider is-fullwidth\",\"style\":{}},\"nodeType\":\"DOM\",\"type\":\"node\",\"instanceArgs\":{\"namespace\":\"html\",\"tag\":\"input\"},\"children\":[]}]},{\"props\":{\"className\":\"interact-flex-row-right\"},\"nodeType\":\"DOM\",\"type\":\"node\",\"instanceArgs\":{\"namespace\":\"html\",\"tag\":\"div\"},\"children\":[{\"props\":{\"attributes\":{\"data-bind\":\"text: formatted_val\"}},\"nodeType\":\"DOM\",\"type\":\"node\",\"instanceArgs\":{\"namespace\":\"html\",\"tag\":\"p\"},\"children\":[]}]}]}]}]},{\"props\":{\"style\":{\"display\":\"flex\",\"flex-direction\":\"row\"}},\"nodeType\":\"DOM\",\"type\":\"node\",\"instanceArgs\":{\"namespace\":\"html\",\"tag\":\"div\"},\"children\":[{\"props\":{\"className\":\"interact-widget\"},\"nodeType\":\"DOM\",\"type\":\"node\",\"instanceArgs\":{\"namespace\":\"html\",\"tag\":\"div\"},\"children\":[{\"props\":{},\"nodeType\":\"Scope\",\"type\":\"node\",\"instanceArgs\":{\"imports\":{\"data\":[{\"name\":null,\"type\":\"js\",\"url\":\"\\/assetserver\\/dd22ed1bf1896c2748f3fe616ce0b838adc895c1-katex.min.js\"},{\"name\":null,\"type\":\"css\",\"url\":\"\\/assetserver\\/46517a424aa5e6cffc1360d7e0848b601c584ee3-katex.min.css\"}],\"type\":\"async_block\"},\"id\":\"18237574252154941764\",\"handlers\":{\"value\":[\"(function (txt){return this.k.render(txt,this.container)})\"]},\"systemjs_options\":null,\"mount_callbacks\":[\"function () {\\n    var handler = ((function (k){this.k=k; this.container=this.dom.querySelector(\\\"#container\\\"); return k.render(\\\"\\\\\\\\;\\\\\\\\;\\\",this.container)}));\\n    (WebIO.importBlock({\\\"data\\\":[{\\\"name\\\":null,\\\"type\\\":\\\"js\\\",\\\"url\\\":\\\"\\/assetserver\\/dd22ed1bf1896c2748f3fe616ce0b838adc895c1-katex.min.js\\\"},{\\\"name\\\":null,\\\"type\\\":\\\"css\\\",\\\"url\\\":\\\"\\/assetserver\\/46517a424aa5e6cffc1360d7e0848b601c584ee3-katex.min.css\\\"}],\\\"type\\\":\\\"async_block\\\"})).then((imports) => handler.apply(this, imports));\\n}\\n\"],\"observables\":{\"value\":{\"sync\":false,\"id\":\"11985116721962411351\",\"value\":\"\\\\;\\\\;\"}}},\"children\":[{\"props\":{\"id\":\"container\"},\"nodeType\":\"DOM\",\"type\":\"node\",\"instanceArgs\":{\"namespace\":\"html\",\"tag\":\"div\"},\"children\":[]}]}]},{\"props\":{\"className\":\"field interact-widget\"},\"nodeType\":\"DOM\",\"type\":\"node\",\"instanceArgs\":{\"namespace\":\"html\",\"tag\":\"div\"},\"children\":[{\"props\":{},\"nodeType\":\"Scope\",\"type\":\"node\",\"instanceArgs\":{\"imports\":{\"data\":[{\"name\":\"knockout\",\"type\":\"js\",\"url\":\"\\/assetserver\\/727383f2a47bd31570b7da84eee7b022dd6d7c78-knockout.js\"},{\"name\":\"knockout_punches\",\"type\":\"js\",\"url\":\"\\/assetserver\\/382b41b3b1bd9f26f75861d360bad7f8beea211f-knockout_punches.js\"},{\"name\":null,\"type\":\"js\",\"url\":\"\\/assetserver\\/5ab20f1060420992a9b82a65b735dee4d81ef413-all.js\"},{\"name\":null,\"type\":\"css\",\"url\":\"\\/assetserver\\/1cc0ed62837210b80a182cc3676512f895dab686-style.css\"},{\"name\":null,\"type\":\"css\",\"url\":\"\\/assetserver\\/2eee816f616df3549d7044d45e744fbf8d42bfa1-bulma_confined.min.css\"}],\"type\":\"async_block\"},\"id\":\"14097819693745430969\",\"handlers\":{\"loading\":[\"(function (val){return (val!=this.model[\\\"loading\\\"]()) ? (this.valueFromJulia[\\\"loading\\\"]=true, this.model[\\\"loading\\\"](val)) : undefined})\"],\"clicks\":[\"(function (val){return (val!=this.model[\\\"clicks\\\"]()) ? (this.valueFromJulia[\\\"clicks\\\"]=true, this.model[\\\"clicks\\\"](val)) : undefined})\"]},\"systemjs_options\":null,\"mount_callbacks\":[\"function () {\\n    var handler = (function (ko, koPunches) {\\n    ko.punches.enableAll();\\n    ko.bindingHandlers.numericValue = {\\n        init: function(element, valueAccessor, allBindings, data, context) {\\n            var stringified = ko.observable(ko.unwrap(valueAccessor()));\\n            stringified.subscribe(function(value) {\\n                var val = parseFloat(value);\\n                if (!isNaN(val)) {\\n                    valueAccessor()(val);\\n                }\\n            });\\n            valueAccessor().subscribe(function(value) {\\n                var str = JSON.stringify(value);\\n                if ((str == \\\"0\\\") && ([\\\"-0\\\", \\\"-0.\\\"].indexOf(stringified()) >= 0))\\n                     return;\\n                 if ([\\\"null\\\", \\\"\\\"].indexOf(str) >= 0)\\n                     return;\\n                stringified(str);\\n            });\\n            ko.applyBindingsToNode(\\n                element,\\n                {\\n                    value: stringified,\\n                    valueUpdate: allBindings.get('valueUpdate'),\\n                },\\n                context,\\n            );\\n        }\\n    };\\n    var json_data = {\\\"loading\\\":WebIO.getval({\\\"name\\\":\\\"loading\\\",\\\"scope\\\":\\\"14097819693745430969\\\",\\\"id\\\":\\\"4996716689515602844\\\",\\\"type\\\":\\\"observable\\\"}),\\\"clicks\\\":WebIO.getval({\\\"name\\\":\\\"clicks\\\",\\\"scope\\\":\\\"14097819693745430969\\\",\\\"id\\\":\\\"11978550605998432145\\\",\\\"type\\\":\\\"observable\\\"})};\\n    var self = this;\\n    function AppViewModel() {\\n        for (var key in json_data) {\\n            var el = json_data[key];\\n            this[key] = Array.isArray(el) ? ko.observableArray(el) : ko.observable(el);\\n        }\\n        \\n        \\n        [this[\\\"loading\\\"].subscribe((function (val){!(this.valueFromJulia[\\\"loading\\\"]) ? (WebIO.setval({\\\"name\\\":\\\"loading\\\",\\\"scope\\\":\\\"14097819693745430969\\\",\\\"id\\\":\\\"4996716689515602844\\\",\\\"type\\\":\\\"observable\\\"},val)) : undefined; return this.valueFromJulia[\\\"loading\\\"]=false}),self),this[\\\"clicks\\\"].subscribe((function (val){!(this.valueFromJulia[\\\"clicks\\\"]) ? (WebIO.setval({\\\"name\\\":\\\"clicks\\\",\\\"scope\\\":\\\"14097819693745430969\\\",\\\"id\\\":\\\"11978550605998432145\\\",\\\"type\\\":\\\"observable\\\"},val)) : undefined; return this.valueFromJulia[\\\"clicks\\\"]=false}),self)]\\n        \\n    }\\n    self.model = new AppViewModel();\\n    self.valueFromJulia = {};\\n    for (var key in json_data) {\\n        self.valueFromJulia[key] = false;\\n    }\\n    ko.applyBindings(self.model, self.dom);\\n}\\n);\\n    (WebIO.importBlock({\\\"data\\\":[{\\\"name\\\":\\\"knockout\\\",\\\"type\\\":\\\"js\\\",\\\"url\\\":\\\"\\/assetserver\\/727383f2a47bd31570b7da84eee7b022dd6d7c78-knockout.js\\\"},{\\\"name\\\":\\\"knockout_punches\\\",\\\"type\\\":\\\"js\\\",\\\"url\\\":\\\"\\/assetserver\\/382b41b3b1bd9f26f75861d360bad7f8beea211f-knockout_punches.js\\\"}],\\\"type\\\":\\\"async_block\\\"})).then((imports) => handler.apply(this, imports));\\n}\\n\"],\"observables\":{\"loading\":{\"sync\":false,\"id\":\"4996716689515602844\",\"value\":false},\"clicks\":{\"sync\":true,\"id\":\"11978550605998432145\",\"value\":0}}},\"children\":[{\"props\":{\"attributes\":{\"data-bind\":\"click: function (){this.clicks(this.clicks()+1)}, css: {'is-loading' : loading}\"},\"className\":\"is-medium button is-primary\",\"style\":{}},\"nodeType\":\"DOM\",\"type\":\"node\",\"instanceArgs\":{\"namespace\":\"html\",\"tag\":\"button\"},\"children\":[\"run\"]}]}]},{\"props\":{\"className\":\"interact-widget\"},\"nodeType\":\"DOM\",\"type\":\"node\",\"instanceArgs\":{\"namespace\":\"html\",\"tag\":\"div\"},\"children\":[{\"props\":{},\"nodeType\":\"Scope\",\"type\":\"node\",\"instanceArgs\":{\"imports\":{\"data\":[{\"name\":null,\"type\":\"js\",\"url\":\"\\/assetserver\\/dd22ed1bf1896c2748f3fe616ce0b838adc895c1-katex.min.js\"},{\"name\":null,\"type\":\"css\",\"url\":\"\\/assetserver\\/46517a424aa5e6cffc1360d7e0848b601c584ee3-katex.min.css\"}],\"type\":\"async_block\"},\"id\":\"18237574252154941764\",\"handlers\":{\"value\":[\"(function (txt){return this.k.render(txt,this.container)})\"]},\"systemjs_options\":null,\"mount_callbacks\":[\"function () {\\n    var handler = ((function (k){this.k=k; this.container=this.dom.querySelector(\\\"#container\\\"); return k.render(\\\"\\\\\\\\;\\\\\\\\;\\\",this.container)}));\\n    (WebIO.importBlock({\\\"data\\\":[{\\\"name\\\":null,\\\"type\\\":\\\"js\\\",\\\"url\\\":\\\"\\/assetserver\\/dd22ed1bf1896c2748f3fe616ce0b838adc895c1-katex.min.js\\\"},{\\\"name\\\":null,\\\"type\\\":\\\"css\\\",\\\"url\\\":\\\"\\/assetserver\\/46517a424aa5e6cffc1360d7e0848b601c584ee3-katex.min.css\\\"}],\\\"type\\\":\\\"async_block\\\"})).then((imports) => handler.apply(this, imports));\\n}\\n\"],\"observables\":{\"value\":{\"sync\":false,\"id\":\"11985116721962411351\",\"value\":\"\\\\;\\\\;\"}}},\"children\":[{\"props\":{\"id\":\"container\"},\"nodeType\":\"DOM\",\"type\":\"node\",\"instanceArgs\":{\"namespace\":\"html\",\"tag\":\"div\"},\"children\":[]}]}]},{\"props\":{\"className\":\"field interact-widget\"},\"nodeType\":\"DOM\",\"type\":\"node\",\"instanceArgs\":{\"namespace\":\"html\",\"tag\":\"div\"},\"children\":[{\"props\":{},\"nodeType\":\"Scope\",\"type\":\"node\",\"instanceArgs\":{\"imports\":{\"data\":[{\"name\":\"knockout\",\"type\":\"js\",\"url\":\"\\/assetserver\\/727383f2a47bd31570b7da84eee7b022dd6d7c78-knockout.js\"},{\"name\":\"knockout_punches\",\"type\":\"js\",\"url\":\"\\/assetserver\\/382b41b3b1bd9f26f75861d360bad7f8beea211f-knockout_punches.js\"},{\"name\":null,\"type\":\"js\",\"url\":\"\\/assetserver\\/5ab20f1060420992a9b82a65b735dee4d81ef413-all.js\"},{\"name\":null,\"type\":\"css\",\"url\":\"\\/assetserver\\/1cc0ed62837210b80a182cc3676512f895dab686-style.css\"},{\"name\":null,\"type\":\"css\",\"url\":\"\\/assetserver\\/2eee816f616df3549d7044d45e744fbf8d42bfa1-bulma_confined.min.css\"}],\"type\":\"async_block\"},\"id\":\"5070486409586877928\",\"handlers\":{\"loading\":[\"(function (val){return (val!=this.model[\\\"loading\\\"]()) ? (this.valueFromJulia[\\\"loading\\\"]=true, this.model[\\\"loading\\\"](val)) : undefined})\"],\"clicks\":[\"(function (val){return (val!=this.model[\\\"clicks\\\"]()) ? (this.valueFromJulia[\\\"clicks\\\"]=true, this.model[\\\"clicks\\\"](val)) : undefined})\"]},\"systemjs_options\":null,\"mount_callbacks\":[\"function () {\\n    var handler = (function (ko, koPunches) {\\n    ko.punches.enableAll();\\n    ko.bindingHandlers.numericValue = {\\n        init: function(element, valueAccessor, allBindings, data, context) {\\n            var stringified = ko.observable(ko.unwrap(valueAccessor()));\\n            stringified.subscribe(function(value) {\\n                var val = parseFloat(value);\\n                if (!isNaN(val)) {\\n                    valueAccessor()(val);\\n                }\\n            });\\n            valueAccessor().subscribe(function(value) {\\n                var str = JSON.stringify(value);\\n                if ((str == \\\"0\\\") && ([\\\"-0\\\", \\\"-0.\\\"].indexOf(stringified()) >= 0))\\n                     return;\\n                 if ([\\\"null\\\", \\\"\\\"].indexOf(str) >= 0)\\n                     return;\\n                stringified(str);\\n            });\\n            ko.applyBindingsToNode(\\n                element,\\n                {\\n                    value: stringified,\\n                    valueUpdate: allBindings.get('valueUpdate'),\\n                },\\n                context,\\n            );\\n        }\\n    };\\n    var json_data = {\\\"loading\\\":WebIO.getval({\\\"name\\\":\\\"loading\\\",\\\"scope\\\":\\\"5070486409586877928\\\",\\\"id\\\":\\\"5751577799363409616\\\",\\\"type\\\":\\\"observable\\\"}),\\\"clicks\\\":WebIO.getval({\\\"name\\\":\\\"clicks\\\",\\\"scope\\\":\\\"5070486409586877928\\\",\\\"id\\\":\\\"12045141070092495825\\\",\\\"type\\\":\\\"observable\\\"})};\\n    var self = this;\\n    function AppViewModel() {\\n        for (var key in json_data) {\\n            var el = json_data[key];\\n            this[key] = Array.isArray(el) ? ko.observableArray(el) : ko.observable(el);\\n        }\\n        \\n        \\n        [this[\\\"loading\\\"].subscribe((function (val){!(this.valueFromJulia[\\\"loading\\\"]) ? (WebIO.setval({\\\"name\\\":\\\"loading\\\",\\\"scope\\\":\\\"5070486409586877928\\\",\\\"id\\\":\\\"5751577799363409616\\\",\\\"type\\\":\\\"observable\\\"},val)) : undefined; return this.valueFromJulia[\\\"loading\\\"]=false}),self),this[\\\"clicks\\\"].subscribe((function (val){!(this.valueFromJulia[\\\"clicks\\\"]) ? (WebIO.setval({\\\"name\\\":\\\"clicks\\\",\\\"scope\\\":\\\"5070486409586877928\\\",\\\"id\\\":\\\"12045141070092495825\\\",\\\"type\\\":\\\"observable\\\"},val)) : undefined; return this.valueFromJulia[\\\"clicks\\\"]=false}),self)]\\n        \\n    }\\n    self.model = new AppViewModel();\\n    self.valueFromJulia = {};\\n    for (var key in json_data) {\\n        self.valueFromJulia[key] = false;\\n    }\\n    ko.applyBindings(self.model, self.dom);\\n}\\n);\\n    (WebIO.importBlock({\\\"data\\\":[{\\\"name\\\":\\\"knockout\\\",\\\"type\\\":\\\"js\\\",\\\"url\\\":\\\"\\/assetserver\\/727383f2a47bd31570b7da84eee7b022dd6d7c78-knockout.js\\\"},{\\\"name\\\":\\\"knockout_punches\\\",\\\"type\\\":\\\"js\\\",\\\"url\\\":\\\"\\/assetserver\\/382b41b3b1bd9f26f75861d360bad7f8beea211f-knockout_punches.js\\\"}],\\\"type\\\":\\\"async_block\\\"})).then((imports) => handler.apply(this, imports));\\n}\\n\"],\"observables\":{\"loading\":{\"sync\":false,\"id\":\"5751577799363409616\",\"value\":false},\"clicks\":{\"sync\":true,\"id\":\"12045141070092495825\",\"value\":0}}},\"children\":[{\"props\":{\"attributes\":{\"data-bind\":\"click: function (){this.clicks(this.clicks()+1)}, css: {'is-loading' : loading}\"},\"className\":\"is-medium button is-primary\",\"style\":{}},\"nodeType\":\"DOM\",\"type\":\"node\",\"instanceArgs\":{\"namespace\":\"html\",\"tag\":\"button\"},\"children\":[\"stop\"]}]}]},{\"props\":{\"className\":\"interact-widget\"},\"nodeType\":\"DOM\",\"type\":\"node\",\"instanceArgs\":{\"namespace\":\"html\",\"tag\":\"div\"},\"children\":[{\"props\":{},\"nodeType\":\"Scope\",\"type\":\"node\",\"instanceArgs\":{\"imports\":{\"data\":[{\"name\":null,\"type\":\"js\",\"url\":\"\\/assetserver\\/dd22ed1bf1896c2748f3fe616ce0b838adc895c1-katex.min.js\"},{\"name\":null,\"type\":\"css\",\"url\":\"\\/assetserver\\/46517a424aa5e6cffc1360d7e0848b601c584ee3-katex.min.css\"}],\"type\":\"async_block\"},\"id\":\"18237574252154941764\",\"handlers\":{\"value\":[\"(function (txt){return this.k.render(txt,this.container)})\"]},\"systemjs_options\":null,\"mount_callbacks\":[\"function () {\\n    var handler = ((function (k){this.k=k; this.container=this.dom.querySelector(\\\"#container\\\"); return k.render(\\\"\\\\\\\\;\\\\\\\\;\\\",this.container)}));\\n    (WebIO.importBlock({\\\"data\\\":[{\\\"name\\\":null,\\\"type\\\":\\\"js\\\",\\\"url\\\":\\\"\\/assetserver\\/dd22ed1bf1896c2748f3fe616ce0b838adc895c1-katex.min.js\\\"},{\\\"name\\\":null,\\\"type\\\":\\\"css\\\",\\\"url\\\":\\\"\\/assetserver\\/46517a424aa5e6cffc1360d7e0848b601c584ee3-katex.min.css\\\"}],\\\"type\\\":\\\"async_block\\\"})).then((imports) => handler.apply(this, imports));\\n}\\n\"],\"observables\":{\"value\":{\"sync\":false,\"id\":\"11985116721962411351\",\"value\":\"\\\\;\\\\;\"}}},\"children\":[{\"props\":{\"id\":\"container\"},\"nodeType\":\"DOM\",\"type\":\"node\",\"instanceArgs\":{\"namespace\":\"html\",\"tag\":\"div\"},\"children\":[]}]}]},{\"props\":{\"className\":\"field interact-widget\"},\"nodeType\":\"DOM\",\"type\":\"node\",\"instanceArgs\":{\"namespace\":\"html\",\"tag\":\"div\"},\"children\":[{\"props\":{},\"nodeType\":\"Scope\",\"type\":\"node\",\"instanceArgs\":{\"imports\":{\"data\":[{\"name\":\"knockout\",\"type\":\"js\",\"url\":\"\\/assetserver\\/727383f2a47bd31570b7da84eee7b022dd6d7c78-knockout.js\"},{\"name\":\"knockout_punches\",\"type\":\"js\",\"url\":\"\\/assetserver\\/382b41b3b1bd9f26f75861d360bad7f8beea211f-knockout_punches.js\"},{\"name\":null,\"type\":\"js\",\"url\":\"\\/assetserver\\/5ab20f1060420992a9b82a65b735dee4d81ef413-all.js\"},{\"name\":null,\"type\":\"css\",\"url\":\"\\/assetserver\\/1cc0ed62837210b80a182cc3676512f895dab686-style.css\"},{\"name\":null,\"type\":\"css\",\"url\":\"\\/assetserver\\/2eee816f616df3549d7044d45e744fbf8d42bfa1-bulma_confined.min.css\"}],\"type\":\"async_block\"},\"id\":\"13463635347125851873\",\"handlers\":{\"loading\":[\"(function (val){return (val!=this.model[\\\"loading\\\"]()) ? (this.valueFromJulia[\\\"loading\\\"]=true, this.model[\\\"loading\\\"](val)) : undefined})\"],\"clicks\":[\"(function (val){return (val!=this.model[\\\"clicks\\\"]()) ? (this.valueFromJulia[\\\"clicks\\\"]=true, this.model[\\\"clicks\\\"](val)) : undefined})\"]},\"systemjs_options\":null,\"mount_callbacks\":[\"function () {\\n    var handler = (function (ko, koPunches) {\\n    ko.punches.enableAll();\\n    ko.bindingHandlers.numericValue = {\\n        init: function(element, valueAccessor, allBindings, data, context) {\\n            var stringified = ko.observable(ko.unwrap(valueAccessor()));\\n            stringified.subscribe(function(value) {\\n                var val = parseFloat(value);\\n                if (!isNaN(val)) {\\n                    valueAccessor()(val);\\n                }\\n            });\\n            valueAccessor().subscribe(function(value) {\\n                var str = JSON.stringify(value);\\n                if ((str == \\\"0\\\") && ([\\\"-0\\\", \\\"-0.\\\"].indexOf(stringified()) >= 0))\\n                     return;\\n                 if ([\\\"null\\\", \\\"\\\"].indexOf(str) >= 0)\\n                     return;\\n                stringified(str);\\n            });\\n            ko.applyBindingsToNode(\\n                element,\\n                {\\n                    value: stringified,\\n                    valueUpdate: allBindings.get('valueUpdate'),\\n                },\\n                context,\\n            );\\n        }\\n    };\\n    var json_data = {\\\"loading\\\":WebIO.getval({\\\"name\\\":\\\"loading\\\",\\\"scope\\\":\\\"13463635347125851873\\\",\\\"id\\\":\\\"895312396380666690\\\",\\\"type\\\":\\\"observable\\\"}),\\\"clicks\\\":WebIO.getval({\\\"name\\\":\\\"clicks\\\",\\\"scope\\\":\\\"13463635347125851873\\\",\\\"id\\\":\\\"17674783049507021771\\\",\\\"type\\\":\\\"observable\\\"})};\\n    var self = this;\\n    function AppViewModel() {\\n        for (var key in json_data) {\\n            var el = json_data[key];\\n            this[key] = Array.isArray(el) ? ko.observableArray(el) : ko.observable(el);\\n        }\\n        \\n        \\n        [this[\\\"loading\\\"].subscribe((function (val){!(this.valueFromJulia[\\\"loading\\\"]) ? (WebIO.setval({\\\"name\\\":\\\"loading\\\",\\\"scope\\\":\\\"13463635347125851873\\\",\\\"id\\\":\\\"895312396380666690\\\",\\\"type\\\":\\\"observable\\\"},val)) : undefined; return this.valueFromJulia[\\\"loading\\\"]=false}),self),this[\\\"clicks\\\"].subscribe((function (val){!(this.valueFromJulia[\\\"clicks\\\"]) ? (WebIO.setval({\\\"name\\\":\\\"clicks\\\",\\\"scope\\\":\\\"13463635347125851873\\\",\\\"id\\\":\\\"17674783049507021771\\\",\\\"type\\\":\\\"observable\\\"},val)) : undefined; return this.valueFromJulia[\\\"clicks\\\"]=false}),self)]\\n        \\n    }\\n    self.model = new AppViewModel();\\n    self.valueFromJulia = {};\\n    for (var key in json_data) {\\n        self.valueFromJulia[key] = false;\\n    }\\n    ko.applyBindings(self.model, self.dom);\\n}\\n);\\n    (WebIO.importBlock({\\\"data\\\":[{\\\"name\\\":\\\"knockout\\\",\\\"type\\\":\\\"js\\\",\\\"url\\\":\\\"\\/assetserver\\/727383f2a47bd31570b7da84eee7b022dd6d7c78-knockout.js\\\"},{\\\"name\\\":\\\"knockout_punches\\\",\\\"type\\\":\\\"js\\\",\\\"url\\\":\\\"\\/assetserver\\/382b41b3b1bd9f26f75861d360bad7f8beea211f-knockout_punches.js\\\"}],\\\"type\\\":\\\"async_block\\\"})).then((imports) => handler.apply(this, imports));\\n}\\n\"],\"observables\":{\"loading\":{\"sync\":false,\"id\":\"895312396380666690\",\"value\":false},\"clicks\":{\"sync\":true,\"id\":\"17674783049507021771\",\"value\":0}}},\"children\":[{\"props\":{\"attributes\":{\"data-bind\":\"click: function (){this.clicks(this.clicks()+1)}, css: {'is-loading' : loading}\"},\"className\":\"is-medium button is-primary\",\"style\":{}},\"nodeType\":\"DOM\",\"type\":\"node\",\"instanceArgs\":{\"namespace\":\"html\",\"tag\":\"button\"},\"children\":[\"save\"]}]}]}]}]},{\"props\":{\"className\":\"interact-widget\"},\"nodeType\":\"DOM\",\"type\":\"node\",\"instanceArgs\":{\"namespace\":\"html\",\"tag\":\"div\"},\"children\":[{\"props\":{},\"nodeType\":\"Scope\",\"type\":\"node\",\"instanceArgs\":{\"imports\":{\"data\":[{\"name\":null,\"type\":\"js\",\"url\":\"\\/assetserver\\/dd22ed1bf1896c2748f3fe616ce0b838adc895c1-katex.min.js\"},{\"name\":null,\"type\":\"css\",\"url\":\"\\/assetserver\\/46517a424aa5e6cffc1360d7e0848b601c584ee3-katex.min.css\"}],\"type\":\"async_block\"},\"id\":\"18237574252154941764\",\"handlers\":{\"value\":[\"(function (txt){return this.k.render(txt,this.container)})\"]},\"systemjs_options\":null,\"mount_callbacks\":[\"function () {\\n    var handler = ((function (k){this.k=k; this.container=this.dom.querySelector(\\\"#container\\\"); return k.render(\\\"\\\\\\\\;\\\\\\\\;\\\",this.container)}));\\n    (WebIO.importBlock({\\\"data\\\":[{\\\"name\\\":null,\\\"type\\\":\\\"js\\\",\\\"url\\\":\\\"\\/assetserver\\/dd22ed1bf1896c2748f3fe616ce0b838adc895c1-katex.min.js\\\"},{\\\"name\\\":null,\\\"type\\\":\\\"css\\\",\\\"url\\\":\\\"\\/assetserver\\/46517a424aa5e6cffc1360d7e0848b601c584ee3-katex.min.css\\\"}],\\\"type\\\":\\\"async_block\\\"})).then((imports) => handler.apply(this, imports));\\n}\\n\"],\"observables\":{\"value\":{\"sync\":false,\"id\":\"11985116721962411351\",\"value\":\"\\\\;\\\\;\"}}},\"children\":[{\"props\":{\"id\":\"container\"},\"nodeType\":\"DOM\",\"type\":\"node\",\"instanceArgs\":{\"namespace\":\"html\",\"tag\":\"div\"},\"children\":[]}]}]},{\"props\":{},\"nodeType\":\"Scope\",\"type\":\"node\",\"instanceArgs\":{\"imports\":{\"data\":[],\"type\":\"async_block\"},\"id\":\"1338250370343323137\",\"handlers\":{\"obs-output\":[\"function (value, scope) {\\n    scope.setInnerHTML(value);\\n}\\n\"]},\"systemjs_options\":null,\"mount_callbacks\":[],\"observables\":{\"obs-output\":{\"sync\":false,\"id\":\"1560781578392664847\",\"value\":\"<img src='data:image\\/png;base64,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'><\\/img>\"}}},\"children\":[{\"props\":{\"className\":\"webio-observable\",\"setInnerHtml\":\"<img src='data:image\\/png;base64,iVBORw0KGgoAAAANSUhEUgAAAa4AAAGuCAIAAABHl3XNAAAABmJLR0QA\\/wD\\/AP+gvaeTAAAgAElEQVR4nOzdeXxMV\\/8H8M9kT0RI7LHve2xB7EXsW9Go0lBtH6FUtPoInrZBa4lWK0qJKoLaoqilqhS1b6G1r0EQSxASZJHk\\/P6Y+5s79+bc2TKZO0m+79e8+po599xzz6TJ17n3bBrGGAghpHBzULsChBCiPgqFhBBCoZAQQigUEkIIKBQSQggoFBJCCCgUEkIIKBQSQggoFBJCCCgUEkIIKBQSQggoFBJCCCgUEkIIKBQSQggAJ7UrQAgpuNLS8OABEhLw4AHu3cPDh8J\\/16xB8eJqV06CQiEhJA9MnoyffsKTJ5xD5cvbWxwE3SDnA+npSE9XuxLEPrx6hdRUtSthmp49+XEQQIsWtq2KSSgU2rfjx9G0Kf78U+16ELXFxiI0FBUr4uJFtatimnbt0LQp\\/1Dz5ratikkoFNqrtDRMmoQ2bXDxInbsULs2RCX37iEiArVqwd8f8+fj6VMkJ6tdJ5ONHs1Pt8tQqKG9TezRsWN4\\/31cuiR8rFAB8fHQaFStE7GhtDRs24aVK7FzJ7KyJIe2bEG\\/fipVy0ypqahYUX6brNHgyRN4e6tUJ0XUKrQz2sZg27ZiHARw9y7On1evTsS2UlPRoAEGDcL27fI4COD5czXqZBF3d4wYIU+sUcMO4yAoFNqXY8fQpAkiIjh\\/AHSPXHi4u+Onn+DoyD+aj26QAYwdK\\/8idtlnAgqFduTlS4SE4PJl\\/tHff7dtbYiqOnbEV1\\/xD+WvUFi5Mnr1kqTY5YNCUCi0I0WK4PBhDBjAP3rkCJ4+tW2FiKomTeL\\/MqSk2LwquTN2rOQjhUJinKcnNm7E7NlwyPH\\/JSsLu3erUSeiEo0GK1agTh15ej56VqgVGIi6dYX3jo5o1EjV2iiiUGhnNBqEhWHrVhQrJj9E98iFTdGi2LABRYpIEvPXDTIAjQYffSS8b9BA\\/nXsBoVCu9SrF44fR+3aksSdO5GdrVKFiEoaNsRPP0lS8l0oBDB8uPBPu73eHYNCof2qXRtHjqBLFzElMREnT6pXIaKSd94RW1XIJ6EwOxvXrmHTJkyfjq++QtGiGDYMoFBILOPjg507ERYmptA9cuE0bx7atBHe22coTErCoUOIjERICNq2hZcXatXCwIEID8eVKwDw8cdwcLDnUEgr09g3R0fMng0\\/P3z4IVJTsWMHpk1Tu07E5pydsW4dmjZFYqKddpv07Iljx\\/iHqlUDgJo10bs3GjSw5kWvXUPLlopHP\\/7YrD8WahXmB0OG4NAhVKqE06eRkKB2bYgaKlTA+vVwcrLTVqGBoFO1qvAmMhLOzta8aM2aKF0aSUn8V2CgWYVRKMwnmjbFsWNo2RK7dqldFaIS7bhr+wyFXbvijTf4h3ShsEoV619XaTp2iRJo1cqskigU5h\\/lymH\\/fpQooXY9iHrCwtCnD9LS1K4Hj9L0GO0Nch7p35+f3rcvnMx7+kcr0xCSB+7dw8aNiInBmjWoVMmaJT9\\/DldXuLlZs0xr6dpVPhHA2RmpqYrzqXOPMVSqhLt35enmr99DoZAQ63n6FNu3IyZGXFzr6lXUrKl2taxn9mw8ewZ3d7i5wc0N7u5wdYWHB1xcUKQIvLwQEAD9kFKjBq5dy9sqffQRFi2SpLi7IzHR3LHc1INMSK49e4atWxETg1278Pq15FAB24zhyhWsWME\\/1KQJTp9G797Ytk1MzNO7Y60335SHwi5dLJjTQs8KCcmde\\/dQqRKGD8f27fI4CNjpcz2LdeumeOiddwBgxgzJDHpdn0ne6dhRvgCiRUvbUigkJHfKl8f06YpHC1irsEsXzlohADQaBAUBQMOGGDhQTLdBKHR2Rs+e4kcHB8lHk1EoJCTXQkMVWyIFLBSWKIFmzTjpbdqIY2W+\\/lrsvbX4Bvn5cyQlISEBcXG4dg2xsYiNxf792LMHsbHyzPr9yK1bo2xZCy6odijMysK6dSrXgZBc0miwfDkqV+YcsttQeP++hWNUuffI2rtjrVq1MHiw8N6yVuHjxyhVCj4+KF8e1asLu1z5+6NjR3Tpgl9\\/lefv0QMeHsJ7Szd+UTUUpqdj8GC8+y6uX1ezGoTknrc3Vq3ijBqxn2eFL14I04SHDUP9+vD1xbhxJp2YmSn5mDMUOjnhrbckKeHhwsQSy1qFJUuic2fFo927y1M8PMS5JX37WnJFNUPhs2fo2hUbNyIrC999p1o1CLGWdu3w5ZfyRNVbhRs3YsQI1K+PYsXQrh3Gj8eqVcJmymXKcPJnZODCBaxcidBQdOmC0qVx9qwkQ0CAfDHNwECULi1JqVFDWJjLx8fCar\\/9Nj\\/dy4s\\/jeTNNwGgbl3UqmXhFZkq7t9njRszQHi5ubGEBHVqQogVZWWxzp3FX2yArVihcpVWrJDUR\\/\\/19ttCnvPn2YwZbNAgVrs2c3SUZ3v8WF5m\\/\\/6SDNHRnOvevs1atrS82s+fMzc3Tp0HDODnf\\/yYOTmxSZMsvqAarcKbN9GuHf75R0xJS8OCBSrUhBDrcnDAL79IWluq3yAHB\\/M7OgCxe8HJCeHh2LABV67Id1v09OTM9dS\\/R3Zz4z+eq1QJM2daWGcAXl6cG2Eoj+YpUQJt2+Zmh2ibh8Lz59G2Lefh4IIFdrr6ECFmKVMGy5dDoxE+qn6D7OCAb7\\/lH9KFwtq1MWQIPw93DQX9eNS7N2fzCa1OnUysIx\\/3HtnAwMZRo3Kzs6htQ+H+\\/Wjblr\\/MVHIyliyxaWUIySM9euDTT4X3qodCAG+8we9MKFdOfD99OlxdOXm43eJVqoiP5PT7jq2rb194ekpS6tXj10fr7bf5Yx5NY9tQ6OBgaKGeefPs4veGkNybNQsBAYB9hEIAc+Zw1grUH39XuTI+\\/JBzolLo0bbOvLzQo4fltUpPR1IS4uJw7hyOHcOePfj1V6xciUWLcPMmPDzQu7ckP\\/eW2UpsGwrbt8fp04iORqlSnKMJCVi1yqb1ISSPODvjl19QrJi9hMLatTFqlDxRNhT5yy\\/lrTAYC4X9+8Pd3cIqzZgBNzf4+KB6dfj5oVUrdOmCt97C8OEYM0YoVnaPXHBCIQAHBwwbhitXMG4cZ0Gx2bPlT20JyaeqVcNPP6nfbaIzbZp8aIv+DTKA0qXl27dDeb3VN96Aq2uu7o6DgxXvZ+vXF8J0jx4oXlxIdHdH27aWX84YlcYVensjMhLnzskfgt64gS1b1KkSIVYXFKQ4Ps72vL0xebL40ckJJUvK84SFycOlUquwSBG8+aahgdBGVaqEDh34h3TFuroKAwYBdOpkeQvUBKrONqlTB3\\/8ga1bJbNzIiLUqxAh1ubvr3YN9Iwbhxo1hPelS3MaZcWLY8IESYqBborvvjN3pWi54GB+un7Xs+7fEgN9x9ZgH0u3pqZi\\/nx8\\/TVevACAv\\/7KbTc8IYQrJgaDBgFAs2Y4dYqT4eVL1KiBBw8AwM0Nr16JA4Os7sULlC2Lly8liY6OePxYvC\\/OzET58nj0KK8XwVV7OQYtd3eEheHyZQQHQ6OhhiEheSUoSHjiprR8S5EimDJFeF+5ch7GQQCenpxB0c2aiXEQgJMTBgxA1ap5vRi4fYRCrfLlsXIl9u3Do0ecdXgIIVYxdy40Gnmfib6QEGEZBQN3x9aS8x455\\/PHt9+2bAlCs9hTKNTq0AGnTqFoUbXrQUgB1aIFBg82tKifiwu++AKwSSjs2hXly0tScj4ca98ew4fndUXsLxQCcHS0fHkJQohRc+YYWT4rONjI1A6LJSXhzh3xo4ODZESOiwtat5af4uCA5s2tXxMp++g2IYTYWHo6f6adzq+\\/Ii0NQ4daUnhWFubORWIinjzBkyd4+lR48+QJsrLQsyd27BAzX7iABg2E9x07Yu9eS66Ya7TjHSGFkuE4CGDAADx8aGHhjo7YtUsxqLVpI\\/lYvz4aNxaWqlJv6Ihd3iATQlSn0Vi2SYjgP\\/9RPJRz0oiu80S9UEg3yISQPJCRgQoVkJgoT3d2xrNn4lYkWo8eoXx5uLvjyRPOshE2QTfIhJA84OKC4GDOXh3NmsnjIIDSpdG1KzQaIQ5eviwfd52aKszmdnDIo5YjhUJCSN4YORLffw\\/ZfafSkgrBweJKpu+\\/j6NH+dlat86jUEjPCgkheaN2bU7gk\\/WZ6PTrJ65OqL+pvEyfPtaoGQc9KySE5JlVqzBsmPhRo8GDB\\/Lt8XK6dQvVqsmbk1rnzgkjb9LT0bgx3N3h6gpPTxQtCldXeHnBwwNubqhXT3GtBwUUCgkpiB4\\/RokSeTWDWLv09IULuHgRcXGIi8OMGfyVY9LSUL48nj4VPtaqhStXTLpEs2Y4fVqeWLkybt0SP7Zvj4MH+ad\\/\\/jm++sqkC\\/0\\/elZISEHx8iWOHsWePdizB+fPm7dqbGoqzpxBjRqKTbaTJ\\/Hdd7h6FdeuISVFfrRiRf5Zbm54913Mny98NH3t1YEDOaFQtkNL586KoXDwYFMv9P+oVUhIfpaZiX\\/\\/FcLfgQPIyBDSfXzw5ImRE69cQWys8Dp1CunpOH8e9evz8z9\\/jipV8OwZ55CTE16+hIsL\\/8RLl1CvnvD+55\\/x\\/vsmfa9r1zizb\\/\\/8E126iB8PH+bHVn9\\/nDxp0lX0UKuQkHwrOhqjRvFbfzl3KdE6cwZLl+LUKfz7L2ffFQNjqosVw+jRmDWLc6h6dcU4CKBuXbRqJfQIK\\/WZ5FSzJho0wPnzYoqnJ9q3l+Rp2RLFinE2DX73XVOvood6kAnJt4KCFNfaUlrbqXx5rFqFEyc4cVC76ZIBEybwI2ydOkbqqZ15UrKkecusyPqRu3eXTxZ0cuJsCeDkZNkmChQKCcm3PDywcCH\\/kFIoLF1a3KNZxtfXSDdLiRL8DULr1jV0FoDBg1G8ONq2FcrfuxfHj+PWLfk4ahlZKJRtBKqVc3HDLl0smy9IoZCQ\\/KxHDwwYwEk3sOJnWBgqVOCkG1jMVWfiRLi5yRNr1zZylrs7hgwR745nzEBAAKpWhacnihRB5cpo2RK9e+O994R1ErUaNhTbmw4O\\/J0\\/AwPlKZYtpUOhkJB8b8ECFCsmTzQQCt3dER7OSff1NX6tcuU4q6gavUEGEBIihsJWrcT0V68QH48TJ7BjB6KjER8vOat\\/f+FNQADKlOEUW6+eJKwXKcLZIcA0FAoJyefKlcO0afJEw+vAjxiBhg3liaaEQgBTpshXTDDaKgTg54eWLYX3+qFQRrZvve4e2cAkE\\/15eAMGKPYXGUOhkJD87+OPxUCjZTgiODpyNlMz5QYZQKVKknWny5aFt7dJJ+r2Gg0I4D+U9POTR8lmzYTVtrkPCrX0Hxda1Hcs1M7iMwkh9sLBAQsXwtFRTDG6O1CPHujaVZJiYqsQwOTJYlwz2meSU4kS\\/O3rZE1Crf79UbmyuMx1TtolbQCUKZOblRrsKRQ+eMCfdUgIMapZM3z0kfjRlI3SvvlGsiu8ia1CAHXq4K23xPcWyHmP7OnJ7\\/EYOFA+yUSmbFlhCPfQobnZot5uQmFyMrp2xc8\\/q10PQvKtGTPE3eNMeWTm5ydZK8H0ViGAKVOEtpgpDwpzyhkKhw6FlxcnZ8uW+OADI6Vp+5Et7TvWso+Jd5mZ6NkTu3fDxwcXL\\/K7igghRm3ciKAgAFi2DCNGGM9\\/7x5q1xbG9yUlSfZiN6pvX2zbhj\\/+kCzE8Po1EhPx6BEePEBiIhIT8eABHj2Cry9mzhSznT2LRo0kpcXGomlTM66ub9s2hIXh4kULT9di9mD0aAYIryFD1K4NIflZnz4MYDExpub\\/\\/HMGMHd3sy90\\/DgD2O3bwseMDFatmviHLHt98onk3Kws5uUlHg0IMPvq+pKT2Tff5KoExuzgBvmbb7BokfhxzRrJxoCEELMsWIAiRUx6VqgVFoayZc27O9Zq0QJ9+4rD+pydDfXzyu6IZVsbh4SYfXV9RYti7NhclaD+s8Lt2zF5sjxxzBgjM3JsZs8etWtAiJkqVcIXX5gUCq9cwYsX8PTEl19aEgoBLFwo6XgZPVpx6l5AgPDm5UvcuYOzZ8Ururvj0iWMGcMZ32O6nHNgzJXLVmWuxMayIkX4zelJk9SsmNb33zONhh0+rHY9CDFTRgZLTOQfunGDRUWx4GBWqRID2J07jDGWmcmmTTNebEIC27HDSJ433uD8Ofv6CkdfvWLFiyveRE+ZYvpXtDr1uk3u3UNAAO7e5R91csLJk2jc2LZ10hMZiU8+AWNo1w4HDqhWDUJyLy4Oe\\/bg0CHs3487dySHkpOF9mN6OmeT+IQEcUHD2Fjcv4+yZXH\\/vqFrbdjAWRhm4EBs3Ci8Hz0aixfzz925U5hofOQIoqPh6Cj2Keu\\/f+MN+Xhyq1AtCB89yrp2ZRqN4j8RAQEsK0udui1eLKnYn3+qUw1Ccm\\/XLsU\\/MQcHlp3NOSU6mvXsycqU4ZzStKmRy2VkMF9f+Vn6fRonT\\/Ir4+jInj0T8ty4oVhngB07ZqUfjYR6zwoDArBrF65cQVgYvwv\\/2DHFfz3y1JIlGD1aMth78mQa+03yq65d8eab\\/EPFivEf7ZUujd9\\/x8OHnENKC\\/frODtz1qnWPSgE4O\\/Pv9tr3FhcVKJaNcWVDStWRIsWRupgEbW7TWrWxOzZiI9HVJS46rfO5Mm4d8+m9VmyBKNGyQNfbCw2bbJpNQixovnz+SOulUYRdu\\/OWfxKSzeE24CRIyVTAJ2d5QMGuWv6t2sn+dirF7\\/woKA82rtK7VCoVbQoRo7EuXPYvRu9e4tfNTkZ48fbrho\\/\\/cSJg1pTpiAz03Y1IcSKKlbE\\/\\/7HSc+5tJfOt99KuoZ1TAmFFStKAlmjRvDwkGQIDoa7u\\/wsE0OhbsKftdlHKNRycEBgILZtw9WrCAsTlrvYuBFbt9ri6jdv4n\\/\\/U7wRvnoVq1bZohqE5IVPP+Wsm2AgFDZqxN80jrvma06jR4vv9e+OtYoXl9+zazTyDZvat+dUr0IFTmlWYk+hUKdGDcyejdu3hbvmjz\\/Gixd5ftGqVXHzJmbPVrxrmDaNsx0EIfmCiwsWL5bfWhqeZjdjBqdP2ZRWIYBu3cS1Z2TBKzYWkybJ2xw+Pvj6a4SEYPduIcXZmXOT\\/tZbebWzM+xk4p0BWVns99+Nj2ayoidPWHg4K1qU03UVGWm7ahBidUOGSH6fhw0zkn\\/8ePmfwOXLpl4rIkI45fp1SfrNm4Z6h0+dEnMuWyY\\/mpeDfO1jOQY7lJiIuXMRGSnZWbFUKdy4YcaUJkLsysOHqFNH3Mv444\\/Fzdq5kpJQowaePhVTdOMQjXr8GBUrwtMTjx7Jm3KNGuHsWc4p5cvjzh0x86NHKFcO2dni0fh4\\/hNMa7DLG2R7UKoUZs\\/G1asYOVJcBC0x0civDiH2rEwZTJ0qfjS6Do23N\\/77X\\/FjsWJmtANKlsTAgWjVinNLq9uxRKZfP0nm0qXRrJn48a238i4OgkKhERUrIioK588jOFj43\\/DNN3jyRJ4tJcX2VSPEEmPHokkT4b2BbhOd8eNRqZLw3sQ+E53Ro\\/nTQpTGOebcoUm\\/H5nbd\\/ziBRITEReHs2dx4gT27MHjx+ZVUifv7r0LmnPnWFAQ02jYxImS9PBwFhysUp0IMd+JE8zBgQHsp59Myq97Zte1q9nXunmTn55zOa9ixVh6ujybbmpK2bLi3LPvvmOlSvGf5kNv0TAzUavQZA0aYMMGHDmCCxeEqdOMYfx4TJuGNWtw7Zra9SPENM2bC6u6mrhQ6\\/DhwvwQc1uFAKpU4afnbAD26AEXF+F9YqLwplkzYQGboCDx7rhbNyQm8m\\/FatUS27BmolBopoAAbN8Ob29kZeGDDxAZCQBZWblaX4gQG5szByVLmnSDDMDBAV9\\/DVgUCpXkfFyoHxzbtIGvLwYNwk8\\/CbfY2qW5terVU1yoRWmSjAkoFFrE2Rlvv43ly8WUlStx65Zq9SHELD4+mDnT1FAIoFcvdO5s6qBCU7Rpg7JlxY\\/OzsKaNFre3rh\\/HzExCAnB5s1wcEBEBCIiEBsrdCgrbfKpvxGomSgUmu\\/VK\\/Tpg19\\/lSS+fo05c1SqECHm++AD8\\/btnDXLmq1CBwfJktdvvCG5W\\/fxkWTOzsaOHZg0Cf7+mDABAIYMkUxz1nJ0xBtvWF4ji88spJ4\\/R9eu+PNPzqFly2y9eAQhFnNwMG+EbPPmubn95NC\\/R5Y9OlTaY97bG1OmAEC5cpwGYNOm8hhqDgqFZvrwQxw+zD+Uno5vvrFtbQixIV23hlV07iyuxipbfEEpFM6YgVKlhPc575FzF6kpFJppzRpERaFkSf7RqCgja\\/wSQrRcXdGjBwA0bSrvaOaGwiZNMHKk+HHAAPnKY7l4UAgKhWZzdsbIkcKKszknq6elYd48NapFSD6kvUfOObAmZyjUaLBwoeT5YJEikhPd3NC6dW7qQqHQIj4+mD0bZ89K+vi1Fi60fLw7IYVKr15wczMpFI4YId8+FEBwsPi+bVvOGojmoFCYC7VqYcMG7N0rzmQC8PIlzVMmxCSenhgxAn5+8nRZKPT2xqxZnNMDA8URObm7OwaFQivo2BGxsdiwAZUrCynz54uLfxBCDJg5k7NegywUfvUVSpfmnOvoiHfeEd7nunebQqE1aDQICsLFi5g9G0WL4vlzLFigdp0IyQ+4k\\/\\/0Q2HDhggJUTxd24\\/s7S25M7MIrVdobQkJmDYNmzfTyoaEWCg+XrjH0miwfz\\/atzeUuWFD1K4t7rNsKWoVWpuvL6KisGsXf3FKQkhOjCEpSVylVdcqHD7cSBwEMHRo7h8UglqFhBDbCQ3F4cNITUVaGjIy8PIlMjOFNWaKFMGTJ8IANcbg4gIPD1y+jHLljJR55w7S01GjRi6r5mQ8CyGEWEXt2orjK954Qxyoq9GgeHF8+aXxOAgTdqk3Dd0gE0JsJShI3B5Dpls3ycf27SU7iOY9ukEmhNhQ9+7YtYuTfvWquF8ogAcPJKt45T1qFRJCbIi703zVqpI4CNg4DoJCISHEpgYM4MyQ01+3VSUUCgkhNuTlxQl8sgeFaqBQSAixLdk9srMzOnZUqSoiCoWEENvq21dctBVAmzaSjyqhUEgIsS03N\\/TpI360g7tjUCgkhKhAt6IM7CUU0rhCQojNvX6NcuXw5AnKlMH9+5x1umyOWoWEEJtzdsaAAQDQrZs9xEFQKCSEqEN7j2wfd8ew91D4ww9IT1e7EoSQPNChAypUsPLeyrlgx6Fw1y6EhuLjj9WuByEkDzg4YNYs\\/kr9arDXbpPHj9GwIR48AIClS\\/HBB2pXiBBSkNlrq\\/Cjj4Q4CGDsWMTGqlobQkgBZ5ehcMUKxMSIH9PSMHAgbS5MCMk79neDfPcu\\/PyQlCRPDwzEH3\\/A0VGNOhFCCjg7axVmZ2PYME4cBLBnD776yuYVIoQUCnYWCr\\/7Dvv2KR796iv8\\/rsNa0MIKSzsKRRmZ+PmTZQqZShDcDBu3rRhnQghhYL9PSvMzsaZM9i2DevX4\\/JlTgY\\/Pxw9Cg8Pm9eMEFJg2V8o1HfhArZvx7ZtOHIE+vV8912sWqVetQghBY19h0Kd+Hj88Qe2bcOffyIjAwAWL0ZIiNrVIoQUEPkkFOokJWHPHmzbht9\\/x9ataN1a7QoRQgqC\\/BYKdVJTceUKGjdWux6EkIIg34ZCQgixHnsaTEMIISqhUEgIIRQKCSGEQiEhhIBCISGEgEIhIYSAQiEhhIBCISGEgEIhIYSAQiEhhIBCISGEgEIhIYSAQiEhhIBCISGEgEIhIYSAQiEhhIBCISGEgEIhIYSAQiEhhIBCISGEgEIhIYSAQiEhhIBCISGEgEIhIYSAQiEhhIBCISGEgEIhIYSAQiEhhIBCISGEgEIhIYSAQiEhhIBCISGEgEIhIYSAQiEhhIBCISGEgEIhIYSAQiEhhIBCISGEgEIhIYSAQiEhhIBCISGEgEIhIYSAQiEhhIBCISGEgEIhIYSAQiEhhIBCISGEgEIhIYSAQiEhhIBCISGEgEIhIYSAQiEhhIBCISGEgEIhIYSAQiEhhIBCISGEgEIhIYSAQiEhhIBCISGEgEIhIYSAQiEhhIBCISGEgEIhIYSAQiEhhIBCISGEgEIhIYSAQiEhhIBCISGEgEIhIYSAQiEhhIBCISGEgEIhIYSAQiEhhIBCISGEgEIhIYSAQiEhhIBCISGEgEIhIYSAQiEhhIBCISGEgEIhIYSAQiEhhVpWFu7dU7sSdoFCISGFUnY2YmJQvz7mzFG7KnbBSe0KEEJs6\\/VrrF2LGTNw9SoAVK6sdoXsAoVCQgoNbRD8+mtcuyYmXr6sXoXsiIYxpnYdCCF5LCMD69Zh+nTcuCE\\/pNEgORmenmpUy47Qs0JCCoGLFzFuHCcOAmBMuFMu3CgUElIING6MnTsVm350j0yhkJDColUrbNkCNzfOoStXbF4bu0OhkJBCo3NnbNkCV1d5OrUKKRQSUrh064Y1a+AkHTpCoZB6kAkpjKKj8f77yM4WPrq54cULODqqWieVUauQkMJn+HBERoof09Jw+7Z6tbELFAoJyYdSU5GRkasSxo7FjBnix0J\\/j0yhkJD8Zu9eNG2Kw4dNyvzwoeKwwSlTMHmy8J5CodoVIISYLCEBw4ahc2dcvoy\\/\\/zaS+eVLRESgVi2sXq2YZ+ZMTJgA0HgamoNMSL6QmYmFC\\/HFF0hJEVL27zeUedkyTJ2K+\\/cBIDbWUMnffIOUFGoVUg8yIXbv0CF89BHOnZMkuroiKQnu7vLMe\\/bg008lmcuUwYMHhsrPzsann2LePCtVN1+iUEiIHUtMxMSJiI4G9+\\/0r7\\/QqZP48fhxTJyIAwc4Oe\\/eRfnyhi70+jWcnKDR5K66+Rg9KyQ5rFuHf\\/9VuxIEAODoiBs3+HEQkES9ixfRsSM\\/DsLYPTIAZ+cCGAezsvD6tYl5KRQSqd278d57GD9e7XoQAICPD3bvxttv84\\/qPy6sV8\\/QggunT1u9avYrLg5LlmDQIJQubfqiO3SDTPQcO4bAQOXbBUcAACAASURBVLx8CQCbNqF\\/f7UrRAAAjGHyZEREyNNzPi48dAi9eiE5WZ6zd29s25a3lVRXXBwOHcLhw\\/j9d9y9K6bfvo1KlUwpgEIh+X\\/nzqFDByQlCR+rVcPFi5yp+0QtkZH49FNxtpzW3r3o2FGScuoUunXD06eSxLJlhd7kguf4cQQF4c4d\\/tEnT+DjY0oxdINMAADXr6NrVzEOAoiLw\\/z56lWI5BAaio0b5V3GOUcX+vtjzx6ULClJfPCgwIbC5s1RsaLi0aJFTSyGQiEB7t1Dly6c8RZffWVkEAaxsf79sW8fSpUSU7ijC5s0wYEDKFdOkmi058So1FT88AOWLcttOdbl4ICoKDg7cw65u\\/PTucVYs04kP3r8GF274tYtzqGUFISH27o+xLCWLXH0KGrVEj4eO4bUVE62unWxb59kAE1uek5evEBkJGrUwLhxip3UMllZ+O03vHpl+UVN16ABQkM56SY3CUGhkGDFCkO9bD\\/\\/TANr7E716jhyBG3aAEB6Oo4d42erXRuHDqFqVeGjZa3Cx48xdSoqV8b48UhIACDZLY\\/r4UNERKBGDbz5pnCKDUybJn5THXNCIRghN2+yceOYuzsDOK+OHdWuH+FJTWWDBjGAhYcbynb7NqtenQGsfHnzyn\\/wgIWHMy8v+e9DqVKKp5w6xYKDmbOzmPnwYfMumhu\\/\\/y6vauPGpp9NoZD8v4cPWXg4K1aMEw03b1a7coQnM5ONHcs6dDCSLSGB1avHAHb\\/vqkl797NXF35\\/zQCLClJkvn5cxYVxRo25OTctMmCr2W5N9+UXL1dO9NPpRtk8v9Kl8bUqbhxA+Hh8vEHEyYgPV2lahFljo744QcMGIC0NEPZypXD3r1o2BBnzphacufOGD5c8aj+JqJpaWjWDCEh8inSWo8emXpFq5g\\/X3JTTM8KieVKlMDUqbh9G\\/PmwddXSIyLww8\\/qFotomzcOP4+dvrKlMFffyEzU\\/ioe6MvOxsbN+LrrwFAo8GiRYqzXPQfF7q5Yf16eHjwcz58aKRi1lWxIqZOFT9SKCS55emJ0FDExSE6GjVqAMD06TSwJn8rVQp9+uD+fUydijp1JIeysxETg4YNERSELVuERAcHrFqFHj04Rcl6Tpo2RXQ0fwpzYqJV6m6G0FA0aSK8p1BIrMPVFcOG4eJFREejfHnJv7ck91JTFddZyAuHDmHQIFSqhGnTcOOGML3y9WusXIm6dTFoEC5eBICrV8VaOTtj40a0bSsvKmcn8ltv4X\\/\\/41zUxq1CAI6OiIoStqyiUEisydkZw4bhwgUEBnImtxLLnDuHli2tMOzZqBcvsGQJ\\/PzQrh1iYsRb4zt3hCA4fLhkNFVKimReiocHtm8X21la3PE006dzbqht\\/KxQq3lzhIQANJiGEHuWlcXmzWMuLgxgU6aYffrOnabmfPyYjRvHHxIAsJIlFTuI9+2TF\\/XwIatdW8xQogT\\/iq9esebNJUXVqWP2F7SK58+Zry\\/75hvTz6BWISE2dPs2OnbE+PHCfnUbN5px7o0b6N4dPXuaetfp7Y1bt\\/D8Of9o796KJ+Yccl+6NP78U5zq++SJfLkHLXd3bNkimeKiSqsQgJcX5s6lG2RC7FJMDBo3lkxcu3rVpE1FXr9GRAQaNMCuXWDM0K4m+hwcsHo1\\/Pz4R5s0wZQp\\/EPc2UeVKmHnTpQoIXy8fp1\\/rq8vtmwR14xISjJ98VQrGzwY3bqZnp1CISF579kzDBmCQYPw7Jn80ObNRs49eBCNG2PSJHHw4N69pl63aFH8\\/jt\\/Kf8HDzBjBj75hHNIafe7+vXx++\\/C6rAGpt\\/5+yMqSnjPmAqdyDpVqpiel0IhIXksLQ2tW2PtWv5RA6EwKQkhIejQQejb1TElFDImLLlWvjx++40z7k\\/bNzJ3Lj74QH6I2yrU3pW3aIHffoObm5GZyMHBCAuTnGj3KBQSksfc3PDHH2jRgn\\/01CnEx3PS\\/\\/gDNWtiyRLOgJvr13H7tuLlsrOxbRtatBB3sGvWjDPuTxsKNRpERSEoSHIoLk5yV3voELp0wfvvCx87dcK6dbh5k3PpK1fEi86ciX79APUeF5or7\\/pwCCGi1FQ2ciS\\/x3b+fE7+lBTWs6diJ++yZZxT0tJYdDSrVUvIM3So5Oj06ZIS\\/PzEQ+nprEcPydErV1hWFtu6lbVoIaTUrCkp7eRJ8f2zZyw6mgUGMo2GlS4t+Qp+fiw62vwflgooFBJiQ9HRzMPD1LV\\/Xr9mo0fzQ2FwsCTn8+ds3jxWrpwkT6tWkjzZ2Sw4WL7ATGqqcPTlS9aunXh0\\/HhWt66kNCcnlpEhKTArix08yEaOZEWKiNlcXSV5bt1iK1fm4udlOxQKCbGtM2eEVbN0L0dH9uiRYv5585iDgzwU+voKR+\\/fV1xPqEwZeVHp6eyNN4SjGg0bOpS9+6549Nkz1qSJYjsUYNevCznj49nkyaxCBX42XXjVyszM7U\\/MJuhZISG21bgxTp\\/GwIFiSlaWoe3oQkOxYYN8S5OEBGEUTnw85s7lDx58+BAvXkhSXFywcaMwPJAx\\/PILLl0SjxYrhhUrDK2Ar+sqcXZGdLRkYzl9KSmSj9o5cHaPQiEhNuflhZgYzJsnxh3DQ2oGDsTevShdWpKo7Udu0QKbN8PFhX+irHPj0CG8955kczhZZ7GfH\\/btUwxeulBYtixiYhSDptKgbvtGoZAQNWg0CA3F7t0oWxYAdu+WN6ZkAgJw9KhkRZl9+4Q3gYFYvhwOvL9l3cKCe\\/agdWu0a4ft2yUZUlLkCw61aYPffuNHQ\\/1h1a1bY9YsflXz50R1CoWEqKdDB5w6hTZtkJ6OnTuNZK5WDUeO4I03hI\\/79iEpCdHRADBkCH+n1rg4ALh8GW+9haNH+cXmHEXYqxdWrECRIvJ02VjCTz\\/FoEGcAikUEkLMVr489u9HWJi4UKAB3t7YtQvvvgsAT56gfHm8\\/76wSfyYMeKoZh1tKKxTBzt3ckKbFnew9LvvYvNmuLoayqnR4OefUa+e\\/Fy6QSaEWMLJCbNnY\\/hw48sXxsfj++9x+LDwMTUV2dnCyoMAZs2STx3RhkIArVpxQpuW0ryRLl2wZo3kTvnWLfmEYk9PbNoELy9JIrUKCSGW69aNvxA0gJQU\\/Pwz2rZFlSqYNEneGaKb16ydOjJggHhIFwrBC21aBqbQDRiABQvEj5mZnP2ya9eWT2WhViEhJE+8eoXwcBw+zG826rfCHB2xejXatRM+3rqFrCzx6IABWLpUHnAN7IINYNQofPWV+JG7IM2bb0qWdaBWISEkT5Qpg5gYxREzstDj7o5t29C4MQCkp+PePcnR997DzJmSlBs3hKeNSj7\\/HJ99JrxXakJGRKBDB3598gkKhYTkB61aISKCfyjnDWmxYtixQ1iiKi4OKSlYuVIcRjNpkqSDJTVVcbC0zpw5wlNIpVDo5IT164XVwCgUEkLy0PjxGDaMk859Nufriz\\/+gLc3pkyBry+GD8epU+LRWbOE3T+09O+RY2MlM2G0dAvYKK3YCr2mKz0rJITkrR9\\/RIMG8sScrbDYWISGon17JCXh6FFh+t2rV2IGjQY\\/\\/ojBg4WP2rbe\\/fsICUHLlti0ibMGl\\/YpZLVqhqqnbbpSq5AQYmXZ2di7F8HBwvKCRYpg0yYUKybJo98KmzMHVarA3x\\/z58sXCtSNudFycMDKlejVCwAuX0ZkJOrUwZIlQjcLdzy2iwu+\\/dZIhcePF5YpzG8oFBJil+7dQ0QEatVC585YvVrcVqlmTaxcKekF1m+F1avHXwgWQGqqPMXZGTExqF8fS5di\\/HhJOceP8wuRrQrBlXNZ7PyAQiEh9iQ9HTEx6NMHlStj0iRxErH+pih9+0r6PfRbhb17Y9w4fsn6N8hap0+je3dcuMA5pDRLzxRKoyPtG4VCQuxDcjI++ghly2LQIGzfLhkPCMj3h5oxQ9zOTfZs7ptv0KoVp\\/ycrcJLlxRD3j\\/\\/cPIXaBQKCbEPXl5IT+dsiacl65Z1cMCaNcJwGdkhZ2esWyfu0qmTs+k3dCg2beLf875+jdOnTa15gUChkBC7sXAh\\/P35h3KGSB8frF8PV1fO4JVKlbBihfxGNWcoBNC7N3bulE8i1jp2zKQ6FxQUCgmxG25u+PVXlCzJOcRtLWq3teMOXundG6GhkhRuKATQoQP27kWpUvJ0CoWEENVUqoR16ziLJiiNWx41SrL+gr45cyQPDZVCIYBmzXDggLDQv86RI8ZrW4BQKCTEznTujOnT5YlKzxABTJzIT5c9NDTcDVKnDg4dQu3aYkpCgvEJeQUIhUKSZ9LSJLsIEdNNnoy33pKkGJjNZmAfJf2HhgZahbrMR46gZUsxpTDdI1MoJHmDMfznP3j7bflin8QUGg2WLZMsEG2gVZhTZqY4c653b4wfD5gQCgH4+GDPHgQGCh8pFBKSW198gdWrce4cvv9e7arkT0WLShaINjEUpqQgMhI1auDrr8XEiAi0bo20NCOLcWl5emL7duH5Y2EKhRpmdA1xQsy1YgVGjBDee3jg3Dkj0\\/iJkt9+Q\\/\\/+YAx16hh52nDrFhYvRlSUEDQDA7F7t3j0zh00aYL4eHh4mHTdrCz85z9YuxbPnyuuk1iwUKuQWNuBAxg1Svz46hXGjFGvNvlcv374738Bg63C06cxbBhq1kREhJhNNhO5YkWsWGHGBBJHR\\/z8M0aPxj\\/\\/WFDr\\/IhahcSqLl9G69ZISpKnr1\\/P3yiSGJWdjZ49sX8\\/0tLkh44fx4QJ4q5P+tzc8OqVFaYDP37MH+dY4FCrkFjPkyfo25cTBwGEhpr34J\\/oaOfY+foiPV1+qEYNPH7MPystTb5Il2UKRxwEhUJiNWlp6NtXccH3Bw\\/wv\\/\\/ZtkIFiHaOXc4u4BIlsHMnypThn6W0WhfhoVBIrCQrC4MHo1YtxQyLF+dq6adCrnlzeHtz0qtWxfbt8PTkHCrMofDiRcydi7\\/\\/Nv0MCoXESooUwccf4\\/Jl7N6NoCDOuN\\/sbISE0DBD6\\/P3x\\/r1cHKSp9++rUZt1PPqFfbsQWgoqlRB\\/fr47DPcuWP62RQKiVVpNAgMxIYNuHwZYWEoXlxy9Nw5fPedSjUr0Hr2xKJF8kRzAkE+FheHyEh06QIfH3TpgvnzxX8DXF1NL4Z6kEleSknB2rWYN08cE+fujvPnaZhhnvjiC8nI6v79sWmTerWxiVev4OcnrvUts2WL6RutUKuQ5KWiRTFyJM6fx+7d6N0bGg1SU\\/HRR2pXq4CaPl0c2Y7C8azQwwNLliiOGTKnVUihkOQ9BwcEBmLbNly5gnHjcPgw1q9Xu04FkXa3Yt1C\\/4UhFALo1ElxYykKhcRO1ayJyEjcuYOsLNCTmbyg3cSuSRMASEyUb\\/hZUM2diwoVOOnmTBmkUEhsrnhxDBmST\\/dFyweKFsWOHahcGSg0PSdeXli8mJNOrUJCCrVy5bBzJ3x8Css9MoBevTB0qDyRQiEhhV3dutiyxTpz7\\/KLyEj5xBtzbpBpMA0h+VB2NtLT+ft26ktLg5ubTSpkHzZswNtvix9v3hT2RzUBtQoJyW\\/i4hAYiF9+MZ6zUMVBAIMGYeBA8SPdIBNSMGVnY8kS+Plh3z7s3Kl2bezSggXw8RHeUw8yIQXQhQto3RohIcIQmT17aEI3R9my4uROahUSUqBkZiIiAs2a4fhxMTE5ubBtVWyq4cPRty9AoZCQguTsWQQEYNIkztKtdI+sZNEieHvD2dn0MygUEmLHMjIwZgxiY\\/lHKRQq8fU1dw0kGkxDiH1LT8eoUVixgnNIo8GdOyhf3tZVKoioVUiIfXN1xfLlmDePsxouY\\/jjDzXqVABRKCQkPwgNxY4d8qVwAQqF1kI3yITkH9euoW9fXL4spnh54fFjs\\/oHCBe1CgnJP2rWxPHj6N1bTElOxrFj6lWo4KBQSEi+4uWFLVsQFiamUD+yNVAoJMTuXb0q2b7O0RGzZ2P1amGKMYVCa6BQSIgdy8xEZCSaNsWGDfJDQ4fir79Qtiz+\\/RcJCWpUrkChUEiIvTp\\/Hm3aYPx4vHzJ7ylu3RqnTqFZM+zaZfPKFTQUCgmxP69fIyIC\\/v44cUJIOXQIKSmcnOXL4++\\/UaSILWtXINFgGkLszD\\/\\/4P33ceaMPP2334RVBkgeoFYhIXYjPR2ffQZ\\/f04cBI2mzlsUCgnJY+fP48IFk3K6uKBUKcVtUSkU5iUKhYTkpfXrERCAhQtNyqzRICwM69bBw4Nz9OZNXLli3doRHQqFhOSNrCxMmoR33sHLl1izBq9emXpiUBCOHBE2MpahhmGeoVBISB548gQ9eiAiQrjbff4cmzaZcXqjRjh1Cu3by9MpFOYZCoWEWNuZM2jeHLt3SxKXLTOvkJIl8eefeO89SeL+\\/Wa0Lok5KBQSYlWrV6NtW9y8KU\\/fvx83bphXVM6VCtPScOCAFSpJcqBQSIj1rF2L4GB+w40x\\/krURoWGYvt2caVCmliSNygUEmI977yDDRvEfXhlli9HVpYlxXbvjhMnUKcOYP7iC8nJ+OIL+d06yYFCISFWFRSE8+clSwrq3LtneUiqWROHD6NzZ1y5grg4k055\\/RpLlqBWLXz9NQ4ftvC6hQaFQkKsrVw5bN2KqCh4esoPmdV5Itvt08cHf\\/yBsDDj98iMISYG9eohJAQPHwLA6dNmXLdQojnIhOSZmzcxYgT+\\/ltMcXHB3bsoVcrIiWlpmDoV9+8jOppz9NIl1K2reO6RI5g4Ud4MLF8ed++aXvFCiFqFhOSZqlWxbx+iosTZIxkZWLPGyFn\\/\\/ouAAEREYPt2ZGZyMijFwatX0asX2rTh3A7fu4cHD8yqe2FDoZCQvKTRYORInDwJf38hZelSxczatbmaN8e\\/\\/wLA06c4csSMaxUvbqjpR\\/fIBlEoJCTv1auHo0cxezZcXHD+PE6d4uQ5dw4BAZg0Ca9fi4nbt5txldKlsX8\\/WrTgH6VQaBCFQkJswskJYWE4eRKNG8s7TzIzhYVac0Yrs0IhAG9v\\/PknWrXiHIqNNa+oQoZCISE25OeHo0fh6yvpHf7qK0yahIwMTv5Ll3D9unmXKFYMu3ejY0d5OrUKDaIeZELUxhjmzMGUKcjO5hz9\\/nuMH292ma9eoV8\\/7NkjSXz0yHjndWFFrUJC1KZdpnDbNnF2nT5z75G1PDywfTv69JEkUsNQGYVCQuxDz544cQL168vTDxzAs2eWFOjqio0b8eabYgqFQmUUCgmxGzVr4tgxDBwoSXz9Gn\\/+aWGBLi7YsAFvvSV8tDgUpqdj9Wr062fh6fkBhUJC7ImnJ2JiMHs2HPT+Ni27R9Zydsa6dRg2DLCoE\\/n+fUREoHp1BAcrDvkuEKjbhBC7tHMnhgwRbo19fPDwIZycLC8tKwsjR2L5cjx+rLhwjkxsLCIjsW6dZJxjQgLKlbO8GnaMWoWkEEtIwJYtaldCQY8eOHkSDRoAwNOnOHYsV6U5OmLpUowdy99WVN\\/Ll1i8GA0awN8fq1ZJ4iCA+\\/dzVQ07RqGQFFaPH6NLF4SE4PlztauioEYNHD0qPDrMzT2ylkaDyEjUrGkkW3Y2fvxRcbfSgjuRmUIhKZSSk9GjBy5exKNHmD1b7doo0z06\\/P13K5Sm0aBSJeH906dITOTkKVoUW7eiTBl+CdQqJKTgSE1Fv37iRODvvjN71xFb0o46nDULjx9bp8AnTzB1KqpXV1wQu0oVbNvG34uZQiEhBcTr1xg0CPv3iykZGZgyRbX6mKhXL5QsmdtCHj8WguC0aXj2zNAG882bY8UKaDTydLpBJqQgyM7G8OGc524bNuDgQTUqZCv6QVD3bPTSJUOnBAXhiy\\/kidQqJCTfYwxjxmDtWv7R8eP5U4Dzu8RETJqEypUxbRqSkyWHLl82cu7UqRg6VJJCrUJC8r19+7B8ueLR06eNry+dHx06hLlz+fuRXr8uHysjo9Fg6VLJkl\\/UKiTEHoWFmfHH2akT4uMRHg4vL36GSZPw8qW1qmYv+vfH8uWSuSs6r1\\/LN8+7cQOhofjmGzHFzQ1bt6J6deEjhUJC7M66dZgzB0OGmHFjW7o0pk7FjRsID4e3t\\/zovXuYO9e6dbQL776LpUs5fSDQe1x46BAGDULt2pg\\/X\\/4MsWRJbN2KYsUAIC3NwrUh7B6FQpI\\/Xb2KkSMBYP9+fPedeeeWLImpU3H7NubNQ9mykkOzZ+POHatV0n6MGIF58zjply5h2za0aoV27RATI+xYf\\/u2PFu9eli\\/Xpj5V1AfFzJC8p3UVNaoEQOEl7MzO3bMwqJevGDz5rHy5cXS3nvPqnW1J9OmiV9T+\\/L0lKcArHp1\\/umRkQxge\\/dacunUVLZ5Mxs0iP3zT26+Qd6hUEjyofffl\\/\\/11qjBkpMtLzA9nUVHsxo1GMAcHNjJk9arq52ZNIkT+2QvFxeWlcU\\/fcwY9ssvZlwuM5MdPMjGjWMlSwqFHzxole9hdbQyDclv1q3DO+9w0t9\\/Hz\\/\\/nKuSX7\\/G2rWYNQs+Pjh0iP9wrQCYMMH4I4V79+Dry0nPzMTZs2ja1Mjp2dk4cgQxMdiwQX5DvXs3AgPNqa6NUCgk+crVq\\/D3R0oK\\/+iaNfwoaZasLGzYAD8\\/zoLSBQNjGDnS0HbMAI4c4W+bpyQ5GevW4c03Ubo0kpPh749r1\\/g5t21D795mlGwr1G1C8o+0NAwapBgHAXz0EW7dyu1VHB3xzjsFNg4C0GiweDEGDxY+du3KyZOz50RJbCxCQlC+PEJCcO8eAHh5ITRUMX9amlmVtRkKhSRfmTgRvXrB2Zl\\/9NkzBAcL3aDEAEdHrFwpbALVuzcnGhoNhQkJiIhAzZrw98eSJXjxAoA4zmbMGDHUyujvempPKBSS\\/MPNDUOGYPt2PHyI6GgEBnIe5x06hK+\\/VqNy+cGdO+ISDM7O2LgR3bvj2jVs3IjGjSU5lUJhRgbWr0f37qhYEZMmyfdo1h9yuGgRqlbllECtQkKsxtsbw4Zh925hbGCTJpKj06fj779Vqpm9unkToaGoVQubNomJLi749VeULo2iRbFjBypXFg8phUIHByxahF27+MPa9UNh8eJYtw4uLvI8FAoJsb6KFREaitOncf48wsOFZkh2NoKD8fSp2pWzD+fPY9gw1KqF+fORlibvzfDwwOTJAODri5AQ8clDfDy\\/NCcnrF+PChX4R2UTUVq0wPTp8jy5D4WvXiE2FitX4tGj3Balh0KhPdm4Ue0a5Fv162PqVFy\\/joMHMW4cUlMREqJ2ndR25gwGDYKfH1atEneqy9mx6+iIZ8\\/w9tuYMgVZWXB1BQw+KyxTBhs3Ctlkcm6NMHGivL\\/Y3GeFGRm4cAExMZg6FYMGoX59eHnB3x\\/Dh\\/MnVltM7YGN5P+dPs0A1r8\\/e\\/JE7arkf2lpbNMmduOG2vVQybFjrFMn\\/vDpMmXkmfftk0y2+fBD5ujIAPb0qaFLLFrEKTw0lDHGkpPZokXipJRHj5ivr5jnyy\\/N+CJRUczBgf9FvLzMKMcE1Cq0GzExALB5Mxo3xoEDatcmn3N1Rf\\/+qFZN7XqopEQJXLzIP\\/Twodh2y8zE1KkIDBQGwWhduoQffgCMdSKPGoUPPpAn3r4trI04erS4tV6pUlizBo6OwkezbpCHDlVcu7tGDTPKMQGFQruhDYUA7txBx44IDTWylhzJI5mZ4v+LfKpGDezaxVl6R0u7kUt8PDp2xLRp8rFHR46gVy989pnx8TQLFqB5c0nKli2IiEBSEgDJHlIdOghPJGFmKCxSBBMm8A\\/p1g2zEgqF9uH0acm4hOxszJ+Ptm3tevuhguqTTzBkiLgJVD7l54cdO1CkCOfQtWs4ehR+fjh0iHOUMWzahDlzjA8yd3PD3Ln83aAAeZ\\/GtGno1Akwv9tkzBj+9nvUKiyYuM2QEyfQtCl++cXmtSnEoqOxYAEyM\\/HBB8jIULs2udOqFTZv5vRvXLuGgABMm6Y4Un3DBmg0JsWaHTv462MjRyh0cEB0NEqWNLvbpEgR\\/Pe\\/nHRrtwqp28Q+aNdEUXoFB7OUFLWrWAgcOcJcXcUfe3i42hXKndu3WXo6+\\/VXoRtE9xo2TMjw99+SDhPdS6Nht26ZdImsLNa3L\\/+XtkULTv4dO9jgwWZ\\/kdRUSceL9rVvn9nlGESh0A7ExhpfN6lKFXbkiNoVLdASEuR\\/b05O7NQptatljsxMdv48i4piwcGsalUGsNRUxnL09rZqJZ6SmMh69OD8vn37raELpaWxly+F9ykprGFDTglVq\\/LPtWy5w++\\/l5cfH29JOcooFNoBU5aQ0\\/5lhocrLiRHciM1lbVowfmZN2rEMjLUrpxBKSns4EE2ezbr3ZsVLy6pvKenmG3GDDG9ZElJCdnZbN485uwsObdlS8Urbt3KqldnmzeLKTdvissR6l4eHtb8mqmpkgasq6vV\\/xAoFNqBrl1Z1arM21t46d+j5Xx16cISEtSucYEzZIjiD3z6dLUrZ9AvvyjWvHJlSc7\\/\\/lc8lHPM4PHjQkNS98o5KvPECdaunXB0yhTJoYMH5cEUYC9ecCp86hRLTLTkm86fL5Zct64lJRhEodCOZWezp0+F19277MYNduMGu3at8I4cziMREYb+7XFxYWfPql1Fgzp04Ne8WTNJtuxs9p\\/\\/CIeOH+eU8\\/gx69VLPH3OHPFQfDwLDmYajXg0MFB++rJl8grcvCkeTUpiUVGsaVMGsEOHLPmaaWmsQgWh5D59LCnBIAqFpNA7coQNG8bc3RWjob8\\/e\\/3apKJu3mQPH+ZxdXM4c0beMaJ9desmz5mZyQYNYgBbvZpflPZm2cVF+NaMsZQUFh7O3NzkhRcrxrlF\\/fhjSZ7jx1lWFtu9mwUHS36827ZZ+E0XLhRKGD\\/ewhKUUSgkhDHG2LNnLCpKsnuU\\/mvmTOMlxMWxqlXZZ5\\/lfV1zCAnh1HnoUE7O9HTWo4eRzvETJ1i1agxga9eyUqUU\\/4W4fFl+YmYm1\\/O5aQAAFG1JREFU69lTzDB8OKtShXPiqlUWfs2MDOEu\\/ocfLCxBGY0rJAQAUKwYRo7EP\\/\\/g1CmMHCkfnDxtGi5cMHT65cto2xY3b+LHH\\/HwYZ7WlGPmTJQoIU\\/MmQLAxQUbN\\/IHLes0b47TpxEUhLg4Q4vvnzghT3F0xOrVqFVL+BgdzV9UPOeqDSZydsakSUAeDCqkIdaEyDVrhqgo3LuHqCg0aiQkpqfjgw8U18f+5x+0b4+EBAB49Qrffmujqur4+ODLL+WJ3FAIwMMDo0YZKbBYMaxfj4AA\\/Pyz4ur8J09yEr29sXUrihcXLsSlnZlnmREjUK2a1aeagEIhIXw5G4nHj\\/M3iouNRWCgZMqtKg3DMWPQsKEkRX8hA9lubgY287t\\/H5GRaN8eGg06dYJGg3nzOHEWvFahVu3a2LABTk7o0UNchUGfxa1CAM7O+OILySqz1mL1W27rS09Xuwak0NM+SWzRgl24IEk\\/eJB5eXEeh6nyxPCvvyR1WL+eMcayslh0NOve3ci5aWls61YWFMScnBjAHBzkvSKzZ8u\\/o6srS0uT5Hn4kH33nfD+u+9YcDBnE3qAffhhrr5mdnauTleQH0Jhjx5syRIrl3nvHuvWzdTZRaRQycoyNPBN\\/9D+\\/czTk9+l4OHBHjywQWXlBg4U6\\/DXX+yvv1jjxgxgjo6KczfPn2dhYZzukefP5Tl\\/\\/FG+euDJk8Kh69fZuHHM3Z05OoqD0tevZ9nZbMAAeckDBxr6Ci9fsq1b2ciRedFNbIDdh8Jz55hGwzQaK08IXbJE+H2dPZvmbxCJzz9nnToZb3pkZCguj6p9TZhgk+pKxcczDw+hAl26SOrz99\\/yzJcusQYNFOt\\/+zan\\/FWrhGaj9rVwITt4kAUFSUbzyMa9JiezunUlJXfuzCn54UMWHc169xanGAwZYqUfiknsPhSOGCH+BN97z2qzoPr3F4tt25ZduWKdYkl+t3mzMJB48WKT8u\\/erRhN1GoYTpzIr4\\/+kGmt7GwWFKQYCs+d45e\\/ZYsYrUqX5pyYc5bxpUuSxwj6Y7\\/PnGHh4axpU8n4be3r3Xet90Mxzr5D4cOH8rGdXbpw2u3myshgxYpJinV3Z7Nns8xMa1Sa5Fv6f7FFirDr1006KyODRUWxsmU5QcH2TwwjI+UzkXWvt97i5E9JYfXq8fMfPqx4lV9\\/VVxnH2DLlnFO0f0bA7Dq1cX0zz9XLGf48Nz+NMxh36Hwiy84PyA\\/P3bnTq6KlT1d1r1at2aXLlmp6iS\\/efpUvlSaKbfJOi9esNmzWdGiKjcM167lzAXWvipU4J9y+TK\\/5+f33w1daOZMxRCm9CxLNwm6RAkx8fVr5u\\/PL2fECAt\\/CBax41CYlsbKlOH\\/jKpUYRcvWl7yZ58p\\/l90c7N+8\\/DTT9nWrdYskFhdVhZ\\/raoffzSvnHv32MiRkqdptm8Y7tihOInw7l3+KfpNNt1r7VojF5oyxbzWXGYm69aNAczRUfJvzIULnIl9APvgA0u+vqXsOBRGRSkGLIB5e7P9+y0suX59QyUDLCBAPmbCYpmZzMeHAax3b8VfRKI6\\/VVb9F+m3ybru3RJfAanyhPDv\\/+Wt0+1r02bFE\\/59FN5ZlOelurWd9B\\/deigmP\\/JE2HmXHKyJJ3bxvzPf0z9vtZgr6EwO1vxEYbu5erK1qwxu+T4eCPFal\\/OziwszAq9NMePi2UWL86iovJoVBSx3MaNnDaR7tWxo4X\\/yw4fZq1bq9MwZIydOsUZHxMWppj\\/9Wv5Cjc5u1lyys5m770nv4pscTCZM2eYu7t84dWsLNa2rbyckBCTvqlWcjK7cIHt2mXxCsf2Ggr\\/+MOkgOXgYGS53Zy4+7cqvRo1YrGxufoiX30lL7NdO3oiaWsGVk7OymJDhyo+X9O+Fiyw8LrZ2WzDBtawoTpdyZcuiata6cK6AQ8eSJZH\\/d\\/\\/TLpKRgbr3l1yFScn+UI+T5+yRYvEVt7Klezff+XlXL8uH6Q5ejT\\/io8fs6VLWXg4e\\/991q0bq19f8qzz669NqnYOGiabkWM\\/UlNx\\/z7i4hAXh4QE8X18PDIzJTk\\/\\/BCLFsHJyaRily\\/HpUtwcACA4sWh0UCjEaZMOjigWDEAcHSElxcAODvDx0c+n8ksHTpwNjV2d8fEiZgyBS4ulpdMTHTyJFq2xJdfYupUxTwPHiA6GkuXSvYd1PHwwL\\/\\/Wj7vNT0dDx+iUiULT8+N27fRpQuuXRM+Fi2KpCT+ZDitY8fQoYOwv9XYscKGyEa9eoXOnXHsmJhy8yaqVEFWFvbtw8qV+PVXvHqFatXEHRzT0zn7T82fL5nvPGYMFizgXC4jA5Ur48EDfmV27kT37iZVW8ayCKqm169ZfDw7dIj98gubPZuNHcv69GFTp9rjSOkXLwwtSe3nx19Bk1iXbrbD2LHGf0lOnWIjR4qjlHWvNm3s8RfMFPfvMz8\\/8YsojRbUiYwUcup2gzJFYiKrVUu8yvLlLCxM3u1ZurShElJS2OLFkobhxx8rZp46VfHPytIGeD4MhfnI1q3Gb\\/BHjqTd7PLQjRuSiRBvvslevTJ+lnbJZdnahfPn5311rSEri505I0l5+pS1aiV8i6VLjZcwfDgDWL9+5l33xg3FIR\\/al7u74olhYczbW8im+3coNFTxWo8e8TudlQYMmYBCYV6SLeqr9Kpalf3xh9p1LaBGjZL\\/tDt0YElJpp6ubSRqmyoeHuzq1bysqzWcPs1atWKNGsnTX7wQ5uGZ0i376hWrW9dQR7CSkycVJ2VrX7JniNpJe\\/pjjwCx8\\/2TTwxd6\\/33OeX37Wt2nf8fhcK8VKeOSaFQ9xvw6JHaNS5YHj9mRYpwftT165u3deTz5ywqirVpw1q3tt8pSUlJbNw4oQns4MAeP5ZnSEtjAwYwPz9DhZw\\/z8LDhSnDFoRCxtiePczZWbEbSveP0PLlktt2\\/VdoqDAv1vAkbu3qBLJzc7FSgWldDbb3\\/ffo2BGNG6tdj1x48QING6JNGzg6wtsbTk4oWhSurvDwgIcHXF3h5SU\\/5OmpdqULlh9+wMuXnPQLFxAQgJ074ednUjleXhg5EiNH4vRp3LmDKlWsWstcYwyrVmHiRHGRxOxsHDqEfv0k2VxdsWEDRo5ESgqKFhXTs7Nx5gy2bcOaNWIHC4CZMy2pTOfOWL4cc+bg3Dn5IokAUlKELsqMDJw9yy\\/h3j0sXIgDB4S+TSUNGqBjR+zdK0ls2tSSOmtZHETzVuXKzMmJjRtnhRnHpHB6+dLQvhwA8\\/ZmBw6oXctcu3yZBQZyvp3S3WVWlvi09OpV9tFHzNeX\\/\\/ORjYI2y+rVLDSUU6b+JLFPPuFfV7tj\\/dq1hkZBav32m\\/zcXEzJtctQePWq+N18fVl0tNoVsqr4eBYamqvfM2IK3e5oBl6uriwmRu2K5sKXX8oftOleTZsaPz0piVWqpPjDefbM7Prod0llZHBGTesPmcjK4ixlCLCKFYUMRsdXZGez2rXFEw33UBtjlwv679snvk9IwPDh6N2bv19MfrR3LyIjUbs2Vq5UuyoFWloaevdGgwaGHjukp2PwYCxZYsNqWdVbb6FsWf6hf\\/\\/Fs2dGTi9eHKtXKw4zVNrIJaf0dGzbhkGDEBAgJjo7IyZGXr2UFPG9gwNWr5aconX\\/vnDpFi2MXFejwUcfiR9zc3cM+7xBHjyY82+FuzsLDy8Ii\\/trRypoXz17srg4tStUCDx9yk6dYlu3sqgoFhbGgoJYs2aSKQpG78Xs1t27iv0P27ebVILS\\/GsDS3lrZWWxgwfZuHGsZEl5g05n717JYKbNm+UZEhPlCwIBLCHBtC\\/PWHKyuCjZlCmmnsVjf6EwO5u\\/9Jv2VasW++svtauYO5Urc0K8bI8IYhsPH7Ljx9n69SwiIh8Pd3\\/6lLVvz\\/lj+e9\\/TTo9I4M1b8453cBY5QsXWHi4sFey\\/svHh5N5+nQxw8qVnAwXL4qDCrUv3T4BppgwQTgrd8867C8Unj9v5PmORsOCg\\/PruBP9x6CyEL9nD\\/+Ub7\\/N7TxoUuClpbF33pH\\/UrVoYerpFy9yJtgoNc22bVP823R15eTPzmb9+gkZlBY9279fMi8rZ+PRgFu3hAemso0EzGR\\/zwplveM5aYcO1KmDJUs4vfV2Tv8xqL6rV9GlC4YNk+whqfXjj2jWDF264PjxvK4dya9cXfHLLwgPlySePo3kZJNOr1sX33wjT1R6Vti7N957j38oPV2+PgAAjQbLl6NqVUD6rFBfhw5YvFj8eO+ePEN8PGJiMGECJkyQH6pcGf36oXhx4RIWy00czRP6u44YfbVrx86fV7vG5uA+BtV\\/eXuzefPE6a6pqZJHLW3aGFpkhZDISMlS+zt3mnpidjbr00fyq8jd5kkrNVXYSC\\/nS2n024kTzNWVff65oTroFvefPJmlpLCDB9m8eSw4mFWpIpYfFMQ58cAB1qmTqd9Ugf2tTNO2LTIyUKwYvLzg6QlPTxQtCm9v4b2np3CoaFHho7e32jU2GWPw9VVcUUNfu3ZYtAj16+PsWTRqJD\\/apg2mTUPnznlRR5Lvbd6MoUORmgoAkyZh1ixTT0xMhJ+f+PsZF2eonXXtGvz9Oa3O+\\/cVO7UXLcKVK5g3T7FMxjB8OFatQuXKuHuX3yxVWi9nwwYMGqRYsilyGUqJGYw+BtV\\/ubiwqVPZmjWKGdq0oX0CCN\\/Ro8Lwcu1wZQNevGCpqeLHnTvF2WzXrhk5d906zq+l4UW\\/d+82UmZ6OuvUSb4Qhv7L0uUIjbKniXdXr6JWLbUrkZeuXEHHjmJTt3hxsalbvLjQzi1aVDzk4oLp0xVLO3wYffuiTRuEhaFPHxt+DWL3AgJw5Ah69MDJk\\/JpdjpXr2LZMvz0E3btgr+\\/kNi9O0aPxo8\\/AkB2tpGrvP029u1DVJQkkTvTUScw0EiZLi6IicGIEShbFrt2cTKUKWOkBIvlUYg1W3Iyc3JiwcHs\\/n21q2JPhgwxqQnZqhXbupW2CiAS9++zZs3Yn39KEjMz2datLDBQbP3Jhh+mprKGDRlg0k5qaWmsaVPJr6Kl6+lL3LvHLlzgT6T5v\\/buLqSpPwzg+HfmG2r9M01MU2wKmUUlRS+kkmA3RWbSRVSkYmAERZCSZaA1guwmu4hILFO7sMAKoiDahZlpBaFBaAURmlEUakGK5sv+Fzs5N49tbrMz7fngxc45v07Pxfbwe\\/9NW0vIY0aQnz9neJiaGuLiKClhYEDrgDzDmzcOFWtuJjeXY8f4+XOaAxIzR3g49fX4+CiXX75QWopeT3o6RqNl9sXYJg5m\\/v5UVeHra79WyO8tHsx7v5v9uVb4Z\\/39ygqZiAgSEsjNVSkzsVb4\\/TsvX1JdTWEh27ezb59z\\/7nHNJCbmpQPfX2cPk1lJQYD+\\/drGpPWTCbevVO57+dHZCQJCSxfjl6PXs+KFZP2VYt\\/WVAQmzczOkp2NrW1DA2plLFJhUBiIgaDowvvYmOpriYjQ8mtU02Fw8O8eoXRiNHIkyfcvGnZUMdgoLaWHz+sypu\\/55WVtLbS1sbr17bjkHv3Ti2A3zwmFTY3W112dpKVxfXrlJU5upPS7PPxIwMDSrLT6y25LybGzv5FQozn5cWOHdy4of50YioE8vOn0MJIT+fIES5eBMdS4cgIra0YjTQ28vix1WTD8d2aCxdy8iTHj1v927AwgKYmKirUX+70ETTT1PCemtFR5bDgiX9eXjNvbcnDh6aGBjf03A0NueH0USHMiovVf2K7d7vh5b9+KSedlpfbKdnVZVk1PPHvxQurwoODViuU\\/\\/tPud\\/RYfL1VX+D6to+B3hG5aK9nZ4e9Uejo9TUsHQppaXKQVye7\\/59UlKIiaGwkA8fnH+Pt7elo0cIFxUXs2ePyn3VWuFU+fhQW0toKP39dkpGRk66WAWUkybH+PpazYsc6wWKjiYnR\\/0NsbF2g1XlGanQpnU8UW8vhYWsXMmDB38lINeYu347OyktJS6OpCTKy+1\\/RYSYVjodV6+yfr3tfbekQiAqiqoqh77nZ86weLH6o4nzfnbtIiVF+Tx+zKSoSOX4UGZ9KjR7+5Zt29iyhba2aQ7INeM7ekdHefqUvDwiIsjLo7FRu7DEP8\\/fn7t3iYqyuumuVAhs3ape8bQxdy4XLqg\\/sqkVmpWVKZ3j41NhVBQHDtiWDApSOhOnzjMW3iUk0N5uufT3JyKCRYsIDiY4WOVzWJijB8BrIjWV+vpJn8bHk51NVpaM+QpttLSQnGwZ39DpGBzUoCsmPZ1796zueHkxNKQ+JJiVRXW17aq7z5+JjVWWGJqtWkVrq5PxONfF6GZ37pgaGkxtbfZ3i5wREhPtT4qeM8eUlma6dWs2bEYrZpy6OqtdGz590iCGjg7b8wjnzZu0cFeXKTDQZDDY3rc5QSUz0+lwPKOBnJFBcjLLlhEaqnUo7uDIzkgjIzQ1ceUKlZUOzWUVwo0yMykpsVy6sY3suOhoioqs7qguEDSLjCQ\\/X6UhVVhIQIDl0tmOQjylr3CW6e2d9FFAgLJq+NEjursxGsnLk0mCQgOnTllmIzuyW9J0KCiwmjX8h1RoLjzxNODwcA4etFy6kAo9uMdt5rKpFQYEkJhIUhJpaSQnqw97CfGX6XRUVPD+Pc+eaVMrBLy9uXSJlBRlpYrqmMmYwEDLthHjnThBebkyIVxSoQfp62N4mMBANm5k0yaSkiT9CQ\\/l78+dO6xbp1kqBJKSyMnh2jWwVyucTGgohw5x\\/jy4lAo9YwR5NhkcpKWFtWs9eoxbiDGtrdTVYTBoFkBPD\\/HxfPvGzp3cvu3MG7q7WbKEgQH6+53+3Ukvlbv5+bFhg+RBMWOsXs3Ro1oGsGAB586Bs7VCICSEw4eJiXHldyepUIh\\/XkiIxgHk5JCa6nwqBAoKWLPGlRAkFQohtKbTcfmyS3Pp5s\\/n7FmXQpC+QiGER\\/j61ellc66TVCiEENJAFkIISYVCCIGkQiGEQFKhEEIgqVAIIZBUKIQQwP8frywi5B17VgAAAABJRU5ErkJggg=='><\\/img>\"},\"nodeType\":\"DOM\",\"type\":\"node\",\"instanceArgs\":{\"namespace\":\"html\",\"tag\":\"div\"},\"children\":[]}]},{\"props\":{\"className\":\"interact-widget\"},\"nodeType\":\"DOM\",\"type\":\"node\",\"instanceArgs\":{\"namespace\":\"html\",\"tag\":\"div\"},\"children\":[{\"props\":{},\"nodeType\":\"Scope\",\"type\":\"node\",\"instanceArgs\":{\"imports\":{\"data\":[{\"name\":null,\"type\":\"js\",\"url\":\"\\/assetserver\\/dd22ed1bf1896c2748f3fe616ce0b838adc895c1-katex.min.js\"},{\"name\":null,\"type\":\"css\",\"url\":\"\\/assetserver\\/46517a424aa5e6cffc1360d7e0848b601c584ee3-katex.min.css\"}],\"type\":\"async_block\"},\"id\":\"18237574252154941764\",\"handlers\":{\"value\":[\"(function (txt){return this.k.render(txt,this.container)})\"]},\"systemjs_options\":null,\"mount_callbacks\":[\"function () {\\n    var handler = ((function (k){this.k=k; this.container=this.dom.querySelector(\\\"#container\\\"); return k.render(\\\"\\\\\\\\;\\\\\\\\;\\\",this.container)}));\\n    (WebIO.importBlock({\\\"data\\\":[{\\\"name\\\":null,\\\"type\\\":\\\"js\\\",\\\"url\\\":\\\"\\/assetserver\\/dd22ed1bf1896c2748f3fe616ce0b838adc895c1-katex.min.js\\\"},{\\\"name\\\":null,\\\"type\\\":\\\"css\\\",\\\"url\\\":\\\"\\/assetserver\\/46517a424aa5e6cffc1360d7e0848b601c584ee3-katex.min.css\\\"}],\\\"type\\\":\\\"async_block\\\"})).then((imports) => handler.apply(this, imports));\\n}\\n\"],\"observables\":{\"value\":{\"sync\":false,\"id\":\"11985116721962411351\",\"value\":\"\\\\;\\\\;\"}}},\"children\":[{\"props\":{\"id\":\"container\"},\"nodeType\":\"DOM\",\"type\":\"node\",\"instanceArgs\":{\"namespace\":\"html\",\"tag\":\"div\"},\"children\":[]}]}]},{\"props\":{\"style\":{\"display\":\"flex\",\"flex-direction\":\"column\"}},\"nodeType\":\"DOM\",\"type\":\"node\",\"instanceArgs\":{\"namespace\":\"html\",\"tag\":\"div\"},\"children\":[]}]}]},\n",
       "        window,\n",
       "    );\n",
       "    })()\n",
       "    </script>\n",
       "</div>\n"
      ],
      "text/plain": [
       "WebIO.Node{WebIO.DOM}(WebIO.DOM(:html, :div), Any[WebIO.Node{WebIO.DOM}(WebIO.DOM(:html, :div), Any[WebIO.Node{WebIO.DOM}(WebIO.DOM(:html, :div), Any[WebIO.Node{WebIO.DOM}(WebIO.DOM(:html, :div), Any[WebIO.Scope(WebIO.Node{WebIO.DOM}(WebIO.DOM(:html, :div), Any[WebIO.Node{WebIO.DOM}(WebIO.DOM(:html, :div), Any[WebIO.Node{WebIO.DOM}(WebIO.DOM(:html, :label), Any[\"time\"], Dict{Symbol, Any}(:className => \"interact \", :style => Dict{Any, Any}(:padding => \"5px 10px 0px 10px\")))], Dict{Symbol, Any}(:className => \"interact-flex-row-left\")), WebIO.Node{WebIO.DOM}(WebIO.DOM(:html, :div), Any[WebIO.Node{WebIO.DOM}(WebIO.DOM(:html, :input), Any[], Dict{Symbol, Any}(:max => 201, :min => 1, :attributes => Dict{Any, Any}(:type => \"range\", Symbol(\"data-bind\") => \"numericValue: index, valueUpdate: 'input', event: {change: function (){this.changes(this.changes()+1)}}\", \"orient\" => \"horizontal\"), :step => 1, :className => \"slider slider is-fullwidth\", :style => Dict{Any, Any}()))], Dict{Symbol, Any}(:className => \"interact-flex-row-center\")), WebIO.Node{WebIO.DOM}(WebIO.DOM(:html, :div), Any[WebIO.Node{WebIO.DOM}(WebIO.DOM(:html, :p), Any[], Dict{Symbol, Any}(:attributes => Dict(\"data-bind\" => \"text: formatted_val\")))], Dict{Symbol, Any}(:className => \"interact-flex-row-right\"))], Dict{Symbol, Any}(:className => \"interact-flex-row interact-widget\")), Dict{String, Tuple{Observables.AbstractObservable, Union{Nothing, Bool}}}(\"changes\" => (Observable(0), nothing), \"index\" => (Observable(101), nothing)), Set{String}(), nothing, WebIO.Asset[WebIO.Asset(\"js\", \"knockout\", \"/home/dushya/.julia/packages/Knockout/HReiN/src/../assets/knockout.js\"), WebIO.Asset(\"js\", \"knockout_punches\", \"/home/dushya/.julia/packages/Knockout/HReiN/src/../assets/knockout_punches.js\"), WebIO.Asset(\"js\", nothing, \"/home/dushya/.julia/packages/InteractBase/LJXv3/src/../assets/all.js\"), WebIO.Asset(\"css\", nothing, \"/home/dushya/.julia/packages/InteractBase/LJXv3/src/../assets/style.css\"), WebIO.Asset(\"css\", nothing, \"/home/dushya/.julia/packages/Interact/PENUy/src/../assets/bulma_confined.min.css\")], Dict{Any, Any}(\"changes\" => Any[WebIO.JSString(\"(function (val){return (val!=this.model[\\\"changes\\\"]()) ? (this.valueFromJulia[\\\"changes\\\"]=true, this.model[\\\"changes\\\"](val)) : undefined})\")], \"index\" => Any[WebIO.JSString(\"(function (val){return (val!=this.model[\\\"index\\\"]()) ? (this.valueFromJulia[\\\"index\\\"]=true, this.model[\\\"index\\\"](val)) : undefined})\")]), WebIO.ConnectionPool(Channel{Any}(32), Set{WebIO.AbstractConnection}(), Base.GenericCondition{ReentrantLock}(Base.IntrusiveLinkedList{Task}(Task (runnable) @0x00007f1f70d6e400, Task (runnable) @0x00007f1f70d6e400), ReentrantLock(nothing, 0x00000000, 0x00, Base.GenericCondition{Base.Threads.SpinLock}(Base.IntrusiveLinkedList{Task}(nothing, nothing), Base.Threads.SpinLock(0)), (0, 139773047660944, 139773847615808)))), WebIO.JSString[WebIO.JSString(\"function () {\\n    var handler = (function (ko, koPunches) {\\n    ko.punches.enableAll();\\n    ko.bindingHandlers.numericValue = {\\n        init: function(element, valueAccessor, allBindings, data, context) {\\n            var stringified = ko.observable(ko.unwrap(valueAccessor()));\\n            stringified.subscribe(function(value) {\\n                var val = parseFloat(value);\\n                if (!isNaN(val)) {\\n                    valueAccessor()(val);\\n                }\\n            });\\n            valueAccessor().subscribe(function(value) {\\n                var str = JSON.stringify(value);\\n                if ((str == \\\"0\\\") && ([\\\"-0\\\", \\\"-0.\\\"].indexOf(stringified()) >= 0))\\n                     return;\\n                 if ([\\\"null\\\", \\\"\\\"].indexOf(str) >= 0)\\n                     return;\\n                stringified(str);\\n            });\\n            ko.applyBindingsToNode(\\n                element,\\n                {\\n                    value: stringified,\\n                    valueUpdate: allBindings.get('valueUpdate'),\\n                },\\n                context,\\n            );\\n        }\\n    };\\n    var json_data = {\\\"formatted_vals\\\":[\\\"1\\\",\\\"2\\\",\\\"3\\\",\\\"4\\\",\\\"5\\\",\\\"6\\\",\\\"7\\\",\\\"8\\\",\\\"9\\\",\\\"10\\\",\\\"11\\\",\\\"12\\\",\\\"13\\\",\\\"14\\\",\\\"15\\\",\\\"16\\\",\\\"17\\\",\\\"18\\\",\\\"19\\\",\\\"20\\\",\\\"21\\\",\\\"22\\\",\\\"23\\\",\\\"24\\\",\\\"25\\\",\\\"26\\\",\\\"27\\\",\\\"28\\\",\\\"29\\\",\\\"30\\\",\\\"31\\\",\\\"32\\\",\\\"33\\\",\\\"34\\\",\\\"35\\\",\\\"36\\\",\\\"37\\\",\\\"38\\\",\\\"39\\\",\\\"40\\\",\\\"41\\\",\\\"42\\\",\\\"43\\\",\\\"44\\\",\\\"45\\\",\\\"46\\\",\\\"47\\\",\\\"48\\\",\\\"49\\\",\\\"50\\\",\\\"51\\\",\\\"52\\\",\\\"53\\\",\\\"54\\\",\\\"55\\\",\\\"56\\\",\\\"57\\\",\\\"58\\\",\\\"59\\\",\\\"60\\\",\\\"61\\\",\\\"62\\\",\\\"63\\\",\\\"64\\\",\\\"65\\\",\\\"66\\\",\\\"67\\\",\\\"68\\\",\\\"69\\\",\\\"70\\\",\\\"71\\\",\\\"72\\\",\\\"73\\\",\\\"74\\\",\\\"75\\\",\\\"76\\\",\\\"77\\\",\\\"78\\\",\\\"79\\\",\\\"80\\\",\\\"81\\\",\\\"82\\\",\\\"83\\\",\\\"84\\\",\\\"85\\\",\\\"86\\\",\\\"87\\\",\\\"88\\\",\\\"89\\\",\\\"90\\\",\\\"91\\\",\\\"92\\\",\\\"93\\\",\\\"94\\\",\\\"95\\\",\\\"96\\\",\\\"97\\\",\\\"98\\\",\\\"99\\\",\\\"100\\\",\\\"101\\\",\\\"102\\\",\\\"103\\\",\\\"104\\\",\\\"105\\\",\\\"106\\\",\\\"107\\\",\\\"108\\\",\\\"109\\\",\\\"110\\\",\\\"111\\\",\\\"112\\\",\\\"113\\\",\\\"114\\\",\\\"115\\\",\\\"116\\\",\\\"117\\\",\\\"118\\\",\\\"119\\\",\\\"120\\\",\\\"121\\\",\\\"122\\\",\\\"123\\\",\\\"124\\\",\\\"125\\\",\\\"126\\\",\\\"127\\\",\\\"128\\\",\\\"129\\\",\\\"130\\\",\\\"131\\\",\\\"132\\\",\\\"133\\\",\\\"134\\\",\\\"135\\\",\\\"136\\\",\\\"137\\\",\\\"138\\\",\\\"139\\\",\\\"140\\\",\\\"141\\\",\\\"142\\\",\\\"143\\\",\\\"144\\\",\\\"145\\\",\\\"146\\\",\\\"147\\\",\\\"148\\\",\\\"149\\\",\\\"150\\\",\\\"151\\\",\\\"152\\\",\\\"153\\\",\\\"154\\\",\\\"155\\\",\\\"156\\\",\\\"157\\\",\\\"158\\\",\\\"159\\\",\\\"160\\\",\\\"161\\\",\\\"162\\\",\\\"163\\\",\\\"164\\\",\\\"165\\\",\\\"166\\\",\\\"167\\\",\\\"168\\\",\\\"169\\\",\\\"170\\\",\\\"171\\\",\\\"172\\\",\\\"173\\\",\\\"174\\\",\\\"175\\\",\\\"176\\\",\\\"177\\\",\\\"178\\\",\\\"179\\\",\\\"180\\\",\\\"181\\\",\\\"182\\\",\\\"183\\\",\\\"184\\\",\\\"185\\\",\\\"186\\\",\\\"187\\\",\\\"188\\\",\\\"189\\\",\\\"190\\\",\\\"191\\\",\\\"192\\\",\\\"193\\\",\\\"194\\\",\\\"195\\\",\\\"196\\\",\\\"197\\\",\\\"198\\\",\\\"199\\\",\\\"200\\\",\\\"201\\\"],\\\"changes\\\":WebIO.getval({\\\"name\\\":\\\"changes\\\",\\\"scope\\\":\\\"5969404379816353287\\\",\\\"id\\\":\\\"4700176332771543853\\\",\\\"type\\\":\\\"observable\\\"}),\\\"index\\\":WebIO.getval({\\\"name\\\":\\\"index\\\",\\\"scope\\\":\\\"5969404379816353287\\\",\\\"id\\\":\\\"8637138938044193063\\\",\\\"type\\\":\\\"observable\\\"})};\\n    var self = this;\\n    function AppViewModel() {\\n        for (var key in json_data) {\\n            var el = json_data[key];\\n            this[key] = Array.isArray(el) ? ko.observableArray(el) : ko.observable(el);\\n        }\\n        \\n        [this[\\\"formatted_val\\\"]=ko.computed(    function(){\\n        return this.formatted_vals()[parseInt(this.index())-(1)];\\n    }\\n,this)]\\n        [this[\\\"changes\\\"].subscribe((function (val){!(this.valueFromJulia[\\\"changes\\\"]) ? (WebIO.setval({\\\"name\\\":\\\"changes\\\",\\\"scope\\\":\\\"5969404379816353287\\\",\\\"id\\\":\\\"4700176332771543853\\\",\\\"type\\\":\\\"observable\\\"},val)) : undefined; return this.valueFromJulia[\\\"changes\\\"]=false}),self),this[\\\"index\\\"].subscribe((function (val){!(this.valueFromJulia[\\\"index\\\"]) ? (WebIO.setval({\\\"name\\\":\\\"index\\\",\\\"scope\\\":\\\"5969404379816353287\\\",\\\"id\\\":\\\"8637138938044193063\\\",\\\"type\\\":\\\"observable\\\"},val)) : undefined; return this.valueFromJulia[\\\"index\\\"]=false}),self)]\\n        \\n    }\\n    self.model = new AppViewModel();\\n    self.valueFromJulia = {};\\n    for (var key in json_data) {\\n        self.valueFromJulia[key] = false;\\n    }\\n    ko.applyBindings(self.model, self.dom);\\n}\\n);\\n    (WebIO.importBlock({\\\"data\\\":[{\\\"name\\\":\\\"knockout\\\",\\\"type\\\":\\\"js\\\",\\\"url\\\":\\\"/assetserver/727383f2a47bd31570b7da84eee7b022dd6d7c78-knockout.js\\\"},{\\\"name\\\":\\\"knockout_punches\\\",\\\"type\\\":\\\"js\\\",\\\"url\\\":\\\"/assetserver/382b41b3b1bd9f26f75861d360bad7f8beea211f-knockout_punches.js\\\"}],\\\"type\\\":\\\"async_block\\\"})).then((imports) => handler.apply(this, imports));\\n}\\n\")])], Dict{Symbol, Any}(:className => \"field interact-widget\")), WebIO.Node{WebIO.DOM}(WebIO.DOM(:html, :div), Any[WebIO.Scope(WebIO.Node{WebIO.DOM}(WebIO.DOM(:html, :div), Any[WebIO.Node{WebIO.DOM}(WebIO.DOM(:html, :div), Any[WebIO.Node{WebIO.DOM}(WebIO.DOM(:html, :label), Any[\"scale\"], Dict{Symbol, Any}(:className => \"interact \", :style => Dict{Any, Any}(:padding => \"5px 10px 0px 10px\")))], Dict{Symbol, Any}(:className => \"interact-flex-row-left\")), WebIO.Node{WebIO.DOM}(WebIO.DOM(:html, :div), Any[WebIO.Node{WebIO.DOM}(WebIO.DOM(:html, :input), Any[], Dict{Symbol, Any}(:max => 20, :min => 1, :attributes => Dict{Any, Any}(:type => \"range\", Symbol(\"data-bind\") => \"numericValue: index, valueUpdate: 'input', event: {change: function (){this.changes(this.changes()+1)}}\", \"orient\" => \"horizontal\"), :step => 1, :className => \"slider slider is-fullwidth\", :style => Dict{Any, Any}()))], Dict{Symbol, Any}(:className => \"interact-flex-row-center\")), WebIO.Node{WebIO.DOM}(WebIO.DOM(:html, :div), Any[WebIO.Node{WebIO.DOM}(WebIO.DOM(:html, :p), Any[], Dict{Symbol, Any}(:attributes => Dict(\"data-bind\" => \"text: formatted_val\")))], Dict{Symbol, Any}(:className => \"interact-flex-row-right\"))], Dict{Symbol, Any}(:className => \"interact-flex-row interact-widget\")), Dict{String, Tuple{Observables.AbstractObservable, Union{Nothing, Bool}}}(\"changes\" => (Observable(0), nothing), \"index\" => (Observable{Any}(10), nothing)), Set{String}(), nothing, WebIO.Asset[WebIO.Asset(\"js\", \"knockout\", \"/home/dushya/.julia/packages/Knockout/HReiN/src/../assets/knockout.js\"), WebIO.Asset(\"js\", \"knockout_punches\", \"/home/dushya/.julia/packages/Knockout/HReiN/src/../assets/knockout_punches.js\"), WebIO.Asset(\"js\", nothing, \"/home/dushya/.julia/packages/InteractBase/LJXv3/src/../assets/all.js\"), WebIO.Asset(\"css\", nothing, \"/home/dushya/.julia/packages/InteractBase/LJXv3/src/../assets/style.css\"), WebIO.Asset(\"css\", nothing, \"/home/dushya/.julia/packages/Interact/PENUy/src/../assets/bulma_confined.min.css\")], Dict{Any, Any}(\"changes\" => Any[WebIO.JSString(\"(function (val){return (val!=this.model[\\\"changes\\\"]()) ? (this.valueFromJulia[\\\"changes\\\"]=true, this.model[\\\"changes\\\"](val)) : undefined})\")], \"index\" => Any[WebIO.JSString(\"(function (val){return (val!=this.model[\\\"index\\\"]()) ? (this.valueFromJulia[\\\"index\\\"]=true, this.model[\\\"index\\\"](val)) : undefined})\")]), WebIO.ConnectionPool(Channel{Any}(32), Set{WebIO.AbstractConnection}(), Base.GenericCondition{ReentrantLock}(Base.IntrusiveLinkedList{Task}(Task (runnable) @0x00007f1f702a5780, Task (runnable) @0x00007f1f702a5780), ReentrantLock(nothing, 0x00000000, 0x00, Base.GenericCondition{Base.Threads.SpinLock}(Base.IntrusiveLinkedList{Task}(nothing, nothing), Base.Threads.SpinLock(0)), (0, 0, 141733920768)))), WebIO.JSString[WebIO.JSString(\"function () {\\n    var handler = (function (ko, koPunches) {\\n    ko.punches.enableAll();\\n    ko.bindingHandlers.numericValue = {\\n        init: function(element, valueAccessor, allBindings, data, context) {\\n            var stringified = ko.observable(ko.unwrap(valueAccessor()));\\n            stringified.subscribe(function(value) {\\n                var val = parseFloat(value);\\n                if (!isNaN(val)) {\\n                    valueAccessor()(val);\\n                }\\n            });\\n            valueAccessor().subscribe(function(value) {\\n                var str = JSON.stringify(value);\\n                if ((str == \\\"0\\\") && ([\\\"-0\\\", \\\"-0.\\\"].indexOf(stringified()) >= 0))\\n                     return;\\n                 if ([\\\"null\\\", \\\"\\\"].indexOf(str) >= 0)\\n                     return;\\n                stringified(str);\\n            });\\n            ko.applyBindingsToNode(\\n                element,\\n                {\\n                    value: stringified,\\n                    valueUpdate: allBindings.get('valueUpdate'),\\n                },\\n                context,\\n            );\\n        }\\n    };\\n    var json_data = {\\\"formatted_vals\\\":[\\\"0.1\\\",\\\"0.2\\\",\\\"0.3\\\",\\\"0.4\\\",\\\"0.5\\\",\\\"0.6\\\",\\\"0.7\\\",\\\"0.8\\\",\\\"0.9\\\",\\\"1.0\\\",\\\"1.1\\\",\\\"1.2\\\",\\\"1.3\\\",\\\"1.4\\\",\\\"1.5\\\",\\\"1.6\\\",\\\"1.7\\\",\\\"1.8\\\",\\\"1.9\\\",\\\"2.0\\\"],\\\"changes\\\":WebIO.getval({\\\"name\\\":\\\"changes\\\",\\\"scope\\\":\\\"6318546216386975264\\\",\\\"id\\\":\\\"6532318934381599103\\\",\\\"type\\\":\\\"observable\\\"}),\\\"index\\\":WebIO.getval({\\\"name\\\":\\\"index\\\",\\\"scope\\\":\\\"6318546216386975264\\\",\\\"id\\\":\\\"14193285877620744791\\\",\\\"type\\\":\\\"observable\\\"})};\\n    var self = this;\\n    function AppViewModel() {\\n        for (var key in json_data) {\\n            var el = json_data[key];\\n            this[key] = Array.isArray(el) ? ko.observableArray(el) : ko.observable(el);\\n        }\\n        \\n        [this[\\\"formatted_val\\\"]=ko.computed(    function(){\\n        return this.formatted_vals()[parseInt(this.index())-(1)];\\n    }\\n,this)]\\n        [this[\\\"changes\\\"].subscribe((function (val){!(this.valueFromJulia[\\\"changes\\\"]) ? (WebIO.setval({\\\"name\\\":\\\"changes\\\",\\\"scope\\\":\\\"6318546216386975264\\\",\\\"id\\\":\\\"6532318934381599103\\\",\\\"type\\\":\\\"observable\\\"},val)) : undefined; return this.valueFromJulia[\\\"changes\\\"]=false}),self),this[\\\"index\\\"].subscribe((function (val){!(this.valueFromJulia[\\\"index\\\"]) ? (WebIO.setval({\\\"name\\\":\\\"index\\\",\\\"scope\\\":\\\"6318546216386975264\\\",\\\"id\\\":\\\"14193285877620744791\\\",\\\"type\\\":\\\"observable\\\"},val)) : undefined; return this.valueFromJulia[\\\"index\\\"]=false}),self)]\\n        \\n    }\\n    self.model = new AppViewModel();\\n    self.valueFromJulia = {};\\n    for (var key in json_data) {\\n        self.valueFromJulia[key] = false;\\n    }\\n    ko.applyBindings(self.model, self.dom);\\n}\\n);\\n    (WebIO.importBlock({\\\"data\\\":[{\\\"name\\\":\\\"knockout\\\",\\\"type\\\":\\\"js\\\",\\\"url\\\":\\\"/assetserver/727383f2a47bd31570b7da84eee7b022dd6d7c78-knockout.js\\\"},{\\\"name\\\":\\\"knockout_punches\\\",\\\"type\\\":\\\"js\\\",\\\"url\\\":\\\"/assetserver/382b41b3b1bd9f26f75861d360bad7f8beea211f-knockout_punches.js\\\"}],\\\"type\\\":\\\"async_block\\\"})).then((imports) => handler.apply(this, imports));\\n}\\n\")])], Dict{Symbol, Any}(:className => \"field interact-widget\")), WebIO.Node{WebIO.DOM}(WebIO.DOM(:html, :div), Any[WebIO.Node{WebIO.DOM}(WebIO.DOM(:html, :div), Any[WebIO.Scope(WebIO.Node{WebIO.DOM}(WebIO.DOM(:html, :div), Any[], Dict{Symbol, Any}(:id => \"container\")), Dict{String, Tuple{Observables.AbstractObservable, Union{Nothing, Bool}}}(\"value\" => (Observable(\"\\\\;\\\\;\"), nothing)), Set{String}(), nothing, WebIO.Asset[WebIO.Asset(\"js\", nothing, \"/home/dushya/.julia/packages/InteractBase/LJXv3/src/../assets/katex.min.js\"), WebIO.Asset(\"css\", nothing, \"/home/dushya/.julia/packages/InteractBase/LJXv3/src/../assets/katex.min.css\")], Dict{Any, Any}(\"value\" => Any[WebIO.JSString(\"(function (txt){return this.k.render(txt,this.container)})\")]), WebIO.ConnectionPool(Channel{Any}(32), Set{WebIO.AbstractConnection}(), Base.GenericCondition{ReentrantLock}(Base.IntrusiveLinkedList{Task}(Task (runnable) @0x00007f1f70de5aa0, Task (runnable) @0x00007f1f70de5aa0), ReentrantLock(nothing, 0x00000000, 0x00, Base.GenericCondition{Base.Threads.SpinLock}(Base.IntrusiveLinkedList{Task}(nothing, nothing), Base.Threads.SpinLock(0)), (2, 139773749877936, 139773895242096)))), WebIO.JSString[WebIO.JSString(\"function () {\\n    var handler = ((function (k){this.k=k; this.container=this.dom.querySelector(\\\"#container\\\"); return k.render(\\\"\\\\\\\\;\\\\\\\\;\\\",this.container)}));\\n    (WebIO.importBlock({\\\"data\\\":[{\\\"name\\\":null,\\\"type\\\":\\\"js\\\",\\\"url\\\":\\\"/assetserver/dd22ed1bf1896c2748f3fe616ce0b838adc895c1-katex.min.js\\\"},{\\\"name\\\":null,\\\"type\\\":\\\"css\\\",\\\"url\\\":\\\"/assetserver/46517a424aa5e6cffc1360d7e0848b601c584ee3-katex.min.css\\\"}],\\\"type\\\":\\\"async_block\\\"})).then((imports) => handler.apply(this, imports));\\n}\\n\")])], Dict{Symbol, Any}(:className => \"interact-widget\")), WebIO.Node{WebIO.DOM}(WebIO.DOM(:html, :div), Any[WebIO.Scope(WebIO.Node{WebIO.DOM}(WebIO.DOM(:html, :button), Any[\"run\"], Dict{Symbol, Any}(:attributes => Dict{Any, Any}(\"data-bind\" => \"click: function (){this.clicks(this.clicks()+1)}, css: {'is-loading' : loading}\"), :className => \"is-medium button is-primary\", :style => Dict{String, Any}())), Dict{String, Tuple{Observables.AbstractObservable, Union{Nothing, Bool}}}(\"loading\" => (Observable(false), nothing), \"clicks\" => (Observable(0), nothing)), Set{String}(), nothing, WebIO.Asset[WebIO.Asset(\"js\", \"knockout\", \"/home/dushya/.julia/packages/Knockout/HReiN/src/../assets/knockout.js\"), WebIO.Asset(\"js\", \"knockout_punches\", \"/home/dushya/.julia/packages/Knockout/HReiN/src/../assets/knockout_punches.js\"), WebIO.Asset(\"js\", nothing, \"/home/dushya/.julia/packages/InteractBase/LJXv3/src/../assets/all.js\"), WebIO.Asset(\"css\", nothing, \"/home/dushya/.julia/packages/InteractBase/LJXv3/src/../assets/style.css\"), WebIO.Asset(\"css\", nothing, \"/home/dushya/.julia/packages/Interact/PENUy/src/../assets/bulma_confined.min.css\")], Dict{Any, Any}(\"loading\" => Any[WebIO.JSString(\"(function (val){return (val!=this.model[\\\"loading\\\"]()) ? (this.valueFromJulia[\\\"loading\\\"]=true, this.model[\\\"loading\\\"](val)) : undefined})\")], \"clicks\" => Any[WebIO.JSString(\"(function (val){return (val!=this.model[\\\"clicks\\\"]()) ? (this.valueFromJulia[\\\"clicks\\\"]=true, this.model[\\\"clicks\\\"](val)) : undefined})\")]), WebIO.ConnectionPool(Channel{Any}(32), Set{WebIO.AbstractConnection}(), Base.GenericCondition{ReentrantLock}(Base.IntrusiveLinkedList{Task}(Task (runnable) @0x00007f1f72e05c30, Task (runnable) @0x00007f1f72e05c30), ReentrantLock(nothing, 0x00000000, 0x00, Base.GenericCondition{Base.Threads.SpinLock}(Base.IntrusiveLinkedList{Task}(nothing, nothing), Base.Threads.SpinLock(0)), (8, 139773045295488, 139773045295520)))), WebIO.JSString[WebIO.JSString(\"function () {\\n    var handler = (function (ko, koPunches) {\\n    ko.punches.enableAll();\\n    ko.bindingHandlers.numericValue = {\\n        init: function(element, valueAccessor, allBindings, data, context) {\\n            var stringified = ko.observable(ko.unwrap(valueAccessor()));\\n            stringified.subscribe(function(value) {\\n                var val = parseFloat(value);\\n                if (!isNaN(val)) {\\n                    valueAccessor()(val);\\n                }\\n            });\\n            valueAccessor().subscribe(function(value) {\\n                var str = JSON.stringify(value);\\n                if ((str == \\\"0\\\") && ([\\\"-0\\\", \\\"-0.\\\"].indexOf(stringified()) >= 0))\\n                     return;\\n                 if ([\\\"null\\\", \\\"\\\"].indexOf(str) >= 0)\\n                     return;\\n                stringified(str);\\n            });\\n            ko.applyBindingsToNode(\\n                element,\\n                {\\n                    value: stringified,\\n                    valueUpdate: allBindings.get('valueUpdate'),\\n                },\\n                context,\\n            );\\n        }\\n    };\\n    var json_data = {\\\"loading\\\":WebIO.getval({\\\"name\\\":\\\"loading\\\",\\\"scope\\\":\\\"14097819693745430969\\\",\\\"id\\\":\\\"4996716689515602844\\\",\\\"type\\\":\\\"observable\\\"}),\\\"clicks\\\":WebIO.getval({\\\"name\\\":\\\"clicks\\\",\\\"scope\\\":\\\"14097819693745430969\\\",\\\"id\\\":\\\"11978550605998432145\\\",\\\"type\\\":\\\"observable\\\"})};\\n    var self = this;\\n    function AppViewModel() {\\n        for (var key in json_data) {\\n            var el = json_data[key];\\n            this[key] = Array.isArray(el) ? ko.observableArray(el) : ko.observable(el);\\n        }\\n        \\n        \\n        [this[\\\"loading\\\"].subscribe((function (val){!(this.valueFromJulia[\\\"loading\\\"]) ? (WebIO.setval({\\\"name\\\":\\\"loading\\\",\\\"scope\\\":\\\"14097819693745430969\\\",\\\"id\\\":\\\"4996716689515602844\\\",\\\"type\\\":\\\"observable\\\"},val)) : undefined; return this.valueFromJulia[\\\"loading\\\"]=false}),self),this[\\\"clicks\\\"].subscribe((function (val){!(this.valueFromJulia[\\\"clicks\\\"]) ? (WebIO.setval({\\\"name\\\":\\\"clicks\\\",\\\"scope\\\":\\\"14097819693745430969\\\",\\\"id\\\":\\\"11978550605998432145\\\",\\\"type\\\":\\\"observable\\\"},val)) : undefined; return this.valueFromJulia[\\\"clicks\\\"]=false}),self)]\\n        \\n    }\\n    self.model = new AppViewModel();\\n    self.valueFromJulia = {};\\n    for (var key in json_data) {\\n        self.valueFromJulia[key] = false;\\n    }\\n    ko.applyBindings(self.model, self.dom);\\n}\\n);\\n    (WebIO.importBlock({\\\"data\\\":[{\\\"name\\\":\\\"knockout\\\",\\\"type\\\":\\\"js\\\",\\\"url\\\":\\\"/assetserver/727383f2a47bd31570b7da84eee7b022dd6d7c78-knockout.js\\\"},{\\\"name\\\":\\\"knockout_punches\\\",\\\"type\\\":\\\"js\\\",\\\"url\\\":\\\"/assetserver/382b41b3b1bd9f26f75861d360bad7f8beea211f-knockout_punches.js\\\"}],\\\"type\\\":\\\"async_block\\\"})).then((imports) => handler.apply(this, imports));\\n}\\n\")])], Dict{Symbol, Any}(:className => \"field interact-widget\")), WebIO.Node{WebIO.DOM}(WebIO.DOM(:html, :div), Any[WebIO.Scope(WebIO.Node{WebIO.DOM}(WebIO.DOM(:html, :div), Any[], Dict{Symbol, Any}(:id => \"container\")), Dict{String, Tuple{Observables.AbstractObservable, Union{Nothing, Bool}}}(\"value\" => (Observable(\"\\\\;\\\\;\"), nothing)), Set{String}(), nothing, WebIO.Asset[WebIO.Asset(\"js\", nothing, \"/home/dushya/.julia/packages/InteractBase/LJXv3/src/../assets/katex.min.js\"), WebIO.Asset(\"css\", nothing, \"/home/dushya/.julia/packages/InteractBase/LJXv3/src/../assets/katex.min.css\")], Dict{Any, Any}(\"value\" => Any[WebIO.JSString(\"(function (txt){return this.k.render(txt,this.container)})\")]), WebIO.ConnectionPool(Channel{Any}(32), Set{WebIO.AbstractConnection}(), Base.GenericCondition{ReentrantLock}(Base.IntrusiveLinkedList{Task}(Task (runnable) @0x00007f1f70de5aa0, Task (runnable) @0x00007f1f70de5aa0), ReentrantLock(nothing, 0x00000000, 0x00, Base.GenericCondition{Base.Threads.SpinLock}(Base.IntrusiveLinkedList{Task}(nothing, nothing), Base.Threads.SpinLock(0)), (2, 139773749877936, 139773895242096)))), WebIO.JSString[WebIO.JSString(\"function () {\\n    var handler = ((function (k){this.k=k; this.container=this.dom.querySelector(\\\"#container\\\"); return k.render(\\\"\\\\\\\\;\\\\\\\\;\\\",this.container)}));\\n    (WebIO.importBlock({\\\"data\\\":[{\\\"name\\\":null,\\\"type\\\":\\\"js\\\",\\\"url\\\":\\\"/assetserver/dd22ed1bf1896c2748f3fe616ce0b838adc895c1-katex.min.js\\\"},{\\\"name\\\":null,\\\"type\\\":\\\"css\\\",\\\"url\\\":\\\"/assetserver/46517a424aa5e6cffc1360d7e0848b601c584ee3-katex.min.css\\\"}],\\\"type\\\":\\\"async_block\\\"})).then((imports) => handler.apply(this, imports));\\n}\\n\")])], Dict{Symbol, Any}(:className => \"interact-widget\")), WebIO.Node{WebIO.DOM}(WebIO.DOM(:html, :div), Any[WebIO.Scope(WebIO.Node{WebIO.DOM}(WebIO.DOM(:html, :button), Any[\"stop\"], Dict{Symbol, Any}(:attributes => Dict{Any, Any}(\"data-bind\" => \"click: function (){this.clicks(this.clicks()+1)}, css: {'is-loading' : loading}\"), :className => \"is-medium button is-primary\", :style => Dict{String, Any}())), Dict{String, Tuple{Observables.AbstractObservable, Union{Nothing, Bool}}}(\"loading\" => (Observable(false), nothing), \"clicks\" => (Observable(0), nothing)), Set{String}(), nothing, WebIO.Asset[WebIO.Asset(\"js\", \"knockout\", \"/home/dushya/.julia/packages/Knockout/HReiN/src/../assets/knockout.js\"), WebIO.Asset(\"js\", \"knockout_punches\", \"/home/dushya/.julia/packages/Knockout/HReiN/src/../assets/knockout_punches.js\"), WebIO.Asset(\"js\", nothing, \"/home/dushya/.julia/packages/InteractBase/LJXv3/src/../assets/all.js\"), WebIO.Asset(\"css\", nothing, \"/home/dushya/.julia/packages/InteractBase/LJXv3/src/../assets/style.css\"), WebIO.Asset(\"css\", nothing, \"/home/dushya/.julia/packages/Interact/PENUy/src/../assets/bulma_confined.min.css\")], Dict{Any, Any}(\"loading\" => Any[WebIO.JSString(\"(function (val){return (val!=this.model[\\\"loading\\\"]()) ? (this.valueFromJulia[\\\"loading\\\"]=true, this.model[\\\"loading\\\"](val)) : undefined})\")], \"clicks\" => Any[WebIO.JSString(\"(function (val){return (val!=this.model[\\\"clicks\\\"]()) ? (this.valueFromJulia[\\\"clicks\\\"]=true, this.model[\\\"clicks\\\"](val)) : undefined})\")]), WebIO.ConnectionPool(Channel{Any}(32), Set{WebIO.AbstractConnection}(), Base.GenericCondition{ReentrantLock}(Base.IntrusiveLinkedList{Task}(Task (runnable) @0x00007f1fa294c4c0, Task (runnable) @0x00007f1fa294c4c0), ReentrantLock(nothing, 0x00000000, 0x00, Base.GenericCondition{Base.Threads.SpinLock}(Base.IntrusiveLinkedList{Task}(nothing, nothing), Base.Threads.SpinLock(0)), (0, 0, 139779710648320)))), WebIO.JSString[WebIO.JSString(\"function () {\\n    var handler = (function (ko, koPunches) {\\n    ko.punches.enableAll();\\n    ko.bindingHandlers.numericValue = {\\n        init: function(element, valueAccessor, allBindings, data, context) {\\n            var stringified = ko.observable(ko.unwrap(valueAccessor()));\\n            stringified.subscribe(function(value) {\\n                var val = parseFloat(value);\\n                if (!isNaN(val)) {\\n                    valueAccessor()(val);\\n                }\\n            });\\n            valueAccessor().subscribe(function(value) {\\n                var str = JSON.stringify(value);\\n                if ((str == \\\"0\\\") && ([\\\"-0\\\", \\\"-0.\\\"].indexOf(stringified()) >= 0))\\n                     return;\\n                 if ([\\\"null\\\", \\\"\\\"].indexOf(str) >= 0)\\n                     return;\\n                stringified(str);\\n            });\\n            ko.applyBindingsToNode(\\n                element,\\n                {\\n                    value: stringified,\\n                    valueUpdate: allBindings.get('valueUpdate'),\\n                },\\n                context,\\n            );\\n        }\\n    };\\n    var json_data = {\\\"loading\\\":WebIO.getval({\\\"name\\\":\\\"loading\\\",\\\"scope\\\":\\\"5070486409586877928\\\",\\\"id\\\":\\\"5751577799363409616\\\",\\\"type\\\":\\\"observable\\\"}),\\\"clicks\\\":WebIO.getval({\\\"name\\\":\\\"clicks\\\",\\\"scope\\\":\\\"5070486409586877928\\\",\\\"id\\\":\\\"12045141070092495825\\\",\\\"type\\\":\\\"observable\\\"})};\\n    var self = this;\\n    function AppViewModel() {\\n        for (var key in json_data) {\\n            var el = json_data[key];\\n            this[key] = Array.isArray(el) ? ko.observableArray(el) : ko.observable(el);\\n        }\\n        \\n        \\n        [this[\\\"loading\\\"].subscribe((function (val){!(this.valueFromJulia[\\\"loading\\\"]) ? (WebIO.setval({\\\"name\\\":\\\"loading\\\",\\\"scope\\\":\\\"5070486409586877928\\\",\\\"id\\\":\\\"5751577799363409616\\\",\\\"type\\\":\\\"observable\\\"},val)) : undefined; return this.valueFromJulia[\\\"loading\\\"]=false}),self),this[\\\"clicks\\\"].subscribe((function (val){!(this.valueFromJulia[\\\"clicks\\\"]) ? (WebIO.setval({\\\"name\\\":\\\"clicks\\\",\\\"scope\\\":\\\"5070486409586877928\\\",\\\"id\\\":\\\"12045141070092495825\\\",\\\"type\\\":\\\"observable\\\"},val)) : undefined; return this.valueFromJulia[\\\"clicks\\\"]=false}),self)]\\n        \\n    }\\n    self.model = new AppViewModel();\\n    self.valueFromJulia = {};\\n    for (var key in json_data) {\\n        self.valueFromJulia[key] = false;\\n    }\\n    ko.applyBindings(self.model, self.dom);\\n}\\n);\\n    (WebIO.importBlock({\\\"data\\\":[{\\\"name\\\":\\\"knockout\\\",\\\"type\\\":\\\"js\\\",\\\"url\\\":\\\"/assetserver/727383f2a47bd31570b7da84eee7b022dd6d7c78-knockout.js\\\"},{\\\"name\\\":\\\"knockout_punches\\\",\\\"type\\\":\\\"js\\\",\\\"url\\\":\\\"/assetserver/382b41b3b1bd9f26f75861d360bad7f8beea211f-knockout_punches.js\\\"}],\\\"type\\\":\\\"async_block\\\"})).then((imports) => handler.apply(this, imports));\\n}\\n\")])], Dict{Symbol, Any}(:className => \"field interact-widget\")), WebIO.Node{WebIO.DOM}(WebIO.DOM(:html, :div), Any[WebIO.Scope(WebIO.Node{WebIO.DOM}(WebIO.DOM(:html, :div), Any[], Dict{Symbol, Any}(:id => \"container\")), Dict{String, Tuple{Observables.AbstractObservable, Union{Nothing, Bool}}}(\"value\" => (Observable(\"\\\\;\\\\;\"), nothing)), Set{String}(), nothing, WebIO.Asset[WebIO.Asset(\"js\", nothing, \"/home/dushya/.julia/packages/InteractBase/LJXv3/src/../assets/katex.min.js\"), WebIO.Asset(\"css\", nothing, \"/home/dushya/.julia/packages/InteractBase/LJXv3/src/../assets/katex.min.css\")], Dict{Any, Any}(\"value\" => Any[WebIO.JSString(\"(function (txt){return this.k.render(txt,this.container)})\")]), WebIO.ConnectionPool(Channel{Any}(32), Set{WebIO.AbstractConnection}(), Base.GenericCondition{ReentrantLock}(Base.IntrusiveLinkedList{Task}(Task (runnable) @0x00007f1f70de5aa0, Task (runnable) @0x00007f1f70de5aa0), ReentrantLock(nothing, 0x00000000, 0x00, Base.GenericCondition{Base.Threads.SpinLock}(Base.IntrusiveLinkedList{Task}(nothing, nothing), Base.Threads.SpinLock(0)), (2, 139773749877936, 139773895242096)))), WebIO.JSString[WebIO.JSString(\"function () {\\n    var handler = ((function (k){this.k=k; this.container=this.dom.querySelector(\\\"#container\\\"); return k.render(\\\"\\\\\\\\;\\\\\\\\;\\\",this.container)}));\\n    (WebIO.importBlock({\\\"data\\\":[{\\\"name\\\":null,\\\"type\\\":\\\"js\\\",\\\"url\\\":\\\"/assetserver/dd22ed1bf1896c2748f3fe616ce0b838adc895c1-katex.min.js\\\"},{\\\"name\\\":null,\\\"type\\\":\\\"css\\\",\\\"url\\\":\\\"/assetserver/46517a424aa5e6cffc1360d7e0848b601c584ee3-katex.min.css\\\"}],\\\"type\\\":\\\"async_block\\\"})).then((imports) => handler.apply(this, imports));\\n}\\n\")])], Dict{Symbol, Any}(:className => \"interact-widget\")), WebIO.Node{WebIO.DOM}(WebIO.DOM(:html, :div), Any[WebIO.Scope(WebIO.Node{WebIO.DOM}(WebIO.DOM(:html, :button), Any[\"save\"], Dict{Symbol, Any}(:attributes => Dict{Any, Any}(\"data-bind\" => \"click: function (){this.clicks(this.clicks()+1)}, css: {'is-loading' : loading}\"), :className => \"is-medium button is-primary\", :style => Dict{String, Any}())), Dict{String, Tuple{Observables.AbstractObservable, Union{Nothing, Bool}}}(\"loading\" => (Observable(false), nothing), \"clicks\" => (Observable(0), nothing)), Set{String}(), nothing, WebIO.Asset[WebIO.Asset(\"js\", \"knockout\", \"/home/dushya/.julia/packages/Knockout/HReiN/src/../assets/knockout.js\"), WebIO.Asset(\"js\", \"knockout_punches\", \"/home/dushya/.julia/packages/Knockout/HReiN/src/../assets/knockout_punches.js\"), WebIO.Asset(\"js\", nothing, \"/home/dushya/.julia/packages/InteractBase/LJXv3/src/../assets/all.js\"), WebIO.Asset(\"css\", nothing, \"/home/dushya/.julia/packages/InteractBase/LJXv3/src/../assets/style.css\"), WebIO.Asset(\"css\", nothing, \"/home/dushya/.julia/packages/Interact/PENUy/src/../assets/bulma_confined.min.css\")], Dict{Any, Any}(\"loading\" => Any[WebIO.JSString(\"(function (val){return (val!=this.model[\\\"loading\\\"]()) ? (this.valueFromJulia[\\\"loading\\\"]=true, this.model[\\\"loading\\\"](val)) : undefined})\")], \"clicks\" => Any[WebIO.JSString(\"(function (val){return (val!=this.model[\\\"clicks\\\"]()) ? (this.valueFromJulia[\\\"clicks\\\"]=true, this.model[\\\"clicks\\\"](val)) : undefined})\")]), WebIO.ConnectionPool(Channel{Any}(32), Set{WebIO.AbstractConnection}(), Base.GenericCondition{ReentrantLock}(Base.IntrusiveLinkedList{Task}(Task (runnable) @0x00007f1fa294ed60, Task (runnable) @0x00007f1fa294ed60), ReentrantLock(nothing, 0x00000000, 0x00, Base.GenericCondition{Base.Threads.SpinLock}(Base.IntrusiveLinkedList{Task}(nothing, nothing), Base.Threads.SpinLock(0)), (3, 139771127033856, 0)))), WebIO.JSString[WebIO.JSString(\"function () {\\n    var handler = (function (ko, koPunches) {\\n    ko.punches.enableAll();\\n    ko.bindingHandlers.numericValue = {\\n        init: function(element, valueAccessor, allBindings, data, context) {\\n            var stringified = ko.observable(ko.unwrap(valueAccessor()));\\n            stringified.subscribe(function(value) {\\n                var val = parseFloat(value);\\n                if (!isNaN(val)) {\\n                    valueAccessor()(val);\\n                }\\n            });\\n            valueAccessor().subscribe(function(value) {\\n                var str = JSON.stringify(value);\\n                if ((str == \\\"0\\\") && ([\\\"-0\\\", \\\"-0.\\\"].indexOf(stringified()) >= 0))\\n                     return;\\n                 if ([\\\"null\\\", \\\"\\\"].indexOf(str) >= 0)\\n                     return;\\n                stringified(str);\\n            });\\n            ko.applyBindingsToNode(\\n                element,\\n                {\\n                    value: stringified,\\n                    valueUpdate: allBindings.get('valueUpdate'),\\n                },\\n                context,\\n            );\\n        }\\n    };\\n    var json_data = {\\\"loading\\\":WebIO.getval({\\\"name\\\":\\\"loading\\\",\\\"scope\\\":\\\"13463635347125851873\\\",\\\"id\\\":\\\"895312396380666690\\\",\\\"type\\\":\\\"observable\\\"}),\\\"clicks\\\":WebIO.getval({\\\"name\\\":\\\"clicks\\\",\\\"scope\\\":\\\"13463635347125851873\\\",\\\"id\\\":\\\"17674783049507021771\\\",\\\"type\\\":\\\"observable\\\"})};\\n    var self = this;\\n    function AppViewModel() {\\n        for (var key in json_data) {\\n            var el = json_data[key];\\n            this[key] = Array.isArray(el) ? ko.observableArray(el) : ko.observable(el);\\n        }\\n        \\n        \\n        [this[\\\"loading\\\"].subscribe((function (val){!(this.valueFromJulia[\\\"loading\\\"]) ? (WebIO.setval({\\\"name\\\":\\\"loading\\\",\\\"scope\\\":\\\"13463635347125851873\\\",\\\"id\\\":\\\"895312396380666690\\\",\\\"type\\\":\\\"observable\\\"},val)) : undefined; return this.valueFromJulia[\\\"loading\\\"]=false}),self),this[\\\"clicks\\\"].subscribe((function (val){!(this.valueFromJulia[\\\"clicks\\\"]) ? (WebIO.setval({\\\"name\\\":\\\"clicks\\\",\\\"scope\\\":\\\"13463635347125851873\\\",\\\"id\\\":\\\"17674783049507021771\\\",\\\"type\\\":\\\"observable\\\"},val)) : undefined; return this.valueFromJulia[\\\"clicks\\\"]=false}),self)]\\n        \\n    }\\n    self.model = new AppViewModel();\\n    self.valueFromJulia = {};\\n    for (var key in json_data) {\\n        self.valueFromJulia[key] = false;\\n    }\\n    ko.applyBindings(self.model, self.dom);\\n}\\n);\\n    (WebIO.importBlock({\\\"data\\\":[{\\\"name\\\":\\\"knockout\\\",\\\"type\\\":\\\"js\\\",\\\"url\\\":\\\"/assetserver/727383f2a47bd31570b7da84eee7b022dd6d7c78-knockout.js\\\"},{\\\"name\\\":\\\"knockout_punches\\\",\\\"type\\\":\\\"js\\\",\\\"url\\\":\\\"/assetserver/382b41b3b1bd9f26f75861d360bad7f8beea211f-knockout_punches.js\\\"}],\\\"type\\\":\\\"async_block\\\"})).then((imports) => handler.apply(this, imports));\\n}\\n\")])], Dict{Symbol, Any}(:className => \"field interact-widget\"))], Dict{Symbol, Any}(:style => Dict(\"display\" => \"flex\", \"flex-direction\" => \"row\")))], Dict{Symbol, Any}(:style => Dict(\"display\" => \"flex\", \"flex-direction\" => \"column\"))), WebIO.Node{WebIO.DOM}(WebIO.DOM(:html, :div), Any[WebIO.Scope(WebIO.Node{WebIO.DOM}(WebIO.DOM(:html, :div), Any[], Dict{Symbol, Any}(:id => \"container\")), Dict{String, Tuple{Observables.AbstractObservable, Union{Nothing, Bool}}}(\"value\" => (Observable(\"\\\\;\\\\;\"), nothing)), Set{String}(), nothing, WebIO.Asset[WebIO.Asset(\"js\", nothing, \"/home/dushya/.julia/packages/InteractBase/LJXv3/src/../assets/katex.min.js\"), WebIO.Asset(\"css\", nothing, \"/home/dushya/.julia/packages/InteractBase/LJXv3/src/../assets/katex.min.css\")], Dict{Any, Any}(\"value\" => Any[WebIO.JSString(\"(function (txt){return this.k.render(txt,this.container)})\")]), WebIO.ConnectionPool(Channel{Any}(32), Set{WebIO.AbstractConnection}(), Base.GenericCondition{ReentrantLock}(Base.IntrusiveLinkedList{Task}(Task (runnable) @0x00007f1f70de5aa0, Task (runnable) @0x00007f1f70de5aa0), ReentrantLock(nothing, 0x00000000, 0x00, Base.GenericCondition{Base.Threads.SpinLock}(Base.IntrusiveLinkedList{Task}(nothing, nothing), Base.Threads.SpinLock(0)), (2, 139773749877936, 139773895242096)))), WebIO.JSString[WebIO.JSString(\"function () {\\n    var handler = ((function (k){this.k=k; this.container=this.dom.querySelector(\\\"#container\\\"); return k.render(\\\"\\\\\\\\;\\\\\\\\;\\\",this.container)}));\\n    (WebIO.importBlock({\\\"data\\\":[{\\\"name\\\":null,\\\"type\\\":\\\"js\\\",\\\"url\\\":\\\"/assetserver/dd22ed1bf1896c2748f3fe616ce0b838adc895c1-katex.min.js\\\"},{\\\"name\\\":null,\\\"type\\\":\\\"css\\\",\\\"url\\\":\\\"/assetserver/46517a424aa5e6cffc1360d7e0848b601c584ee3-katex.min.css\\\"}],\\\"type\\\":\\\"async_block\\\"})).then((imports) => handler.apply(this, imports));\\n}\\n\")])], Dict{Symbol, Any}(:className => \"interact-widget\")), Observable(Luxor.Drawing(430.0, 430.0, \"\", Cairo.CairoSurfaceBase{UInt32}(Ptr{Nothing} @0x0000000000000000, 430.0, 430.0), Cairo.CairoContext(Ptr{Nothing} @0x00000000046a6e80, Cairo.CairoSurfaceBase{UInt32}(Ptr{Nothing} @0x0000000000000000, 430.0, 430.0), Ptr{Nothing} @0x00000000042edca0), :png, 0.0, 0.0, 0.0, 1.0, IOBuffer(data=UInt8[...], readable=true, writable=true, seekable=true, append=false, size=21712, maxsize=Inf, ptr=21713, mark=-1), UInt8[0x89, 0x50, 0x4e, 0x47, 0x0d, 0x0a, 0x1a, 0x0a, 0x00, 0x00  …  0x00, 0x00, 0x49, 0x45, 0x4e, 0x44, 0xae, 0x42, 0x60, 0x82], false)), WebIO.Node{WebIO.DOM}(WebIO.DOM(:html, :div), Any[WebIO.Scope(WebIO.Node{WebIO.DOM}(WebIO.DOM(:html, :div), Any[], Dict{Symbol, Any}(:id => \"container\")), Dict{String, Tuple{Observables.AbstractObservable, Union{Nothing, Bool}}}(\"value\" => (Observable(\"\\\\;\\\\;\"), nothing)), Set{String}(), nothing, WebIO.Asset[WebIO.Asset(\"js\", nothing, \"/home/dushya/.julia/packages/InteractBase/LJXv3/src/../assets/katex.min.js\"), WebIO.Asset(\"css\", nothing, \"/home/dushya/.julia/packages/InteractBase/LJXv3/src/../assets/katex.min.css\")], Dict{Any, Any}(\"value\" => Any[WebIO.JSString(\"(function (txt){return this.k.render(txt,this.container)})\")]), WebIO.ConnectionPool(Channel{Any}(32), Set{WebIO.AbstractConnection}(), Base.GenericCondition{ReentrantLock}(Base.IntrusiveLinkedList{Task}(Task (runnable) @0x00007f1f70de5aa0, Task (runnable) @0x00007f1f70de5aa0), ReentrantLock(nothing, 0x00000000, 0x00, Base.GenericCondition{Base.Threads.SpinLock}(Base.IntrusiveLinkedList{Task}(nothing, nothing), Base.Threads.SpinLock(0)), (2, 139773749877936, 139773895242096)))), WebIO.JSString[WebIO.JSString(\"function () {\\n    var handler = ((function (k){this.k=k; this.container=this.dom.querySelector(\\\"#container\\\"); return k.render(\\\"\\\\\\\\;\\\\\\\\;\\\",this.container)}));\\n    (WebIO.importBlock({\\\"data\\\":[{\\\"name\\\":null,\\\"type\\\":\\\"js\\\",\\\"url\\\":\\\"/assetserver/dd22ed1bf1896c2748f3fe616ce0b838adc895c1-katex.min.js\\\"},{\\\"name\\\":null,\\\"type\\\":\\\"css\\\",\\\"url\\\":\\\"/assetserver/46517a424aa5e6cffc1360d7e0848b601c584ee3-katex.min.css\\\"}],\\\"type\\\":\\\"async_block\\\"})).then((imports) => handler.apply(this, imports));\\n}\\n\")])], Dict{Symbol, Any}(:className => \"interact-widget\")), WebIO.Node{WebIO.DOM}(WebIO.DOM(:html, :div), Any[], Dict{Symbol, Any}(:style => Dict(\"display\" => \"flex\", \"flex-direction\" => \"column\")))], Dict{Symbol, Any}(:style => Dict(\"display\" => \"flex\", \"flex-direction\" => \"row\")))], Dict{Symbol, Any}(:style => Dict(\"display\" => \"flex\", \"flex-direction\" => \"column\")))"
      ]
     },
     "execution_count": 9,
     "metadata": {
      "application/vnd.webio.node+json": {
       "kernelId": "8b32b75f-1993-44af-8386-c0f586724969"
      }
     },
     "output_type": "execute_result"
    }
   ],
   "source": [
    "animate_sim(model)"
   ]
  },
  {
   "cell_type": "markdown",
   "metadata": {},
   "source": [
    "After defining the `step_rule!` function we can also choose to create an interactive application (which currently works in Jupyter with WebIO installation) as "
   ]
  },
  {
   "cell_type": "code",
   "execution_count": 10,
   "metadata": {},
   "outputs": [
    {
     "data": {
      "application/vnd.webio.node+json": {
       "children": [
        {
         "children": [
          {
           "children": [
            {
             "children": [
              {
               "children": [
                {
                 "children": [
                  {
                   "children": [
                    {
                     "children": [
                      "time"
                     ],
                     "instanceArgs": {
                      "namespace": "html",
                      "tag": "label"
                     },
                     "nodeType": "DOM",
                     "props": {
                      "className": "interact ",
                      "style": {
                       "padding": "5px 10px 0px 10px"
                      }
                     },
                     "type": "node"
                    }
                   ],
                   "instanceArgs": {
                    "namespace": "html",
                    "tag": "div"
                   },
                   "nodeType": "DOM",
                   "props": {
                    "className": "interact-flex-row-left"
                   },
                   "type": "node"
                  },
                  {
                   "children": [
                    {
                     "children": [],
                     "instanceArgs": {
                      "namespace": "html",
                      "tag": "input"
                     },
                     "nodeType": "DOM",
                     "props": {
                      "attributes": {
                       "data-bind": "numericValue: index, valueUpdate: 'input', event: {change: function (){this.changes(this.changes()+1)}}",
                       "orient": "horizontal",
                       "type": "range"
                      },
                      "className": "slider slider is-fullwidth",
                      "max": 400,
                      "min": 1,
                      "step": 1,
                      "style": {}
                     },
                     "type": "node"
                    }
                   ],
                   "instanceArgs": {
                    "namespace": "html",
                    "tag": "div"
                   },
                   "nodeType": "DOM",
                   "props": {
                    "className": "interact-flex-row-center"
                   },
                   "type": "node"
                  },
                  {
                   "children": [
                    {
                     "children": [],
                     "instanceArgs": {
                      "namespace": "html",
                      "tag": "p"
                     },
                     "nodeType": "DOM",
                     "props": {
                      "attributes": {
                       "data-bind": "text: formatted_val"
                      }
                     },
                     "type": "node"
                    }
                   ],
                   "instanceArgs": {
                    "namespace": "html",
                    "tag": "div"
                   },
                   "nodeType": "DOM",
                   "props": {
                    "className": "interact-flex-row-right"
                   },
                   "type": "node"
                  }
                 ],
                 "instanceArgs": {
                  "namespace": "html",
                  "tag": "div"
                 },
                 "nodeType": "DOM",
                 "props": {
                  "className": "interact-flex-row interact-widget"
                 },
                 "type": "node"
                }
               ],
               "instanceArgs": {
                "handlers": {
                 "changes": [
                  "(function (val){return (val!=this.model[\"changes\"]()) ? (this.valueFromJulia[\"changes\"]=true, this.model[\"changes\"](val)) : undefined})"
                 ],
                 "index": [
                  "(function (val){return (val!=this.model[\"index\"]()) ? (this.valueFromJulia[\"index\"]=true, this.model[\"index\"](val)) : undefined})"
                 ]
                },
                "id": "11158847470735915112",
                "imports": {
                 "data": [
                  {
                   "name": "knockout",
                   "type": "js",
                   "url": "/assetserver/727383f2a47bd31570b7da84eee7b022dd6d7c78-knockout.js"
                  },
                  {
                   "name": "knockout_punches",
                   "type": "js",
                   "url": "/assetserver/382b41b3b1bd9f26f75861d360bad7f8beea211f-knockout_punches.js"
                  },
                  {
                   "name": null,
                   "type": "js",
                   "url": "/assetserver/5ab20f1060420992a9b82a65b735dee4d81ef413-all.js"
                  },
                  {
                   "name": null,
                   "type": "css",
                   "url": "/assetserver/1cc0ed62837210b80a182cc3676512f895dab686-style.css"
                  },
                  {
                   "name": null,
                   "type": "css",
                   "url": "/assetserver/2eee816f616df3549d7044d45e744fbf8d42bfa1-bulma_confined.min.css"
                  }
                 ],
                 "type": "async_block"
                },
                "mount_callbacks": [
                 "function () {\n    var handler = (function (ko, koPunches) {\n    ko.punches.enableAll();\n    ko.bindingHandlers.numericValue = {\n        init: function(element, valueAccessor, allBindings, data, context) {\n            var stringified = ko.observable(ko.unwrap(valueAccessor()));\n            stringified.subscribe(function(value) {\n                var val = parseFloat(value);\n                if (!isNaN(val)) {\n                    valueAccessor()(val);\n                }\n            });\n            valueAccessor().subscribe(function(value) {\n                var str = JSON.stringify(value);\n                if ((str == \"0\") && ([\"-0\", \"-0.\"].indexOf(stringified()) >= 0))\n                     return;\n                 if ([\"null\", \"\"].indexOf(str) >= 0)\n                     return;\n                stringified(str);\n            });\n            ko.applyBindingsToNode(\n                element,\n                {\n                    value: stringified,\n                    valueUpdate: allBindings.get('valueUpdate'),\n                },\n                context,\n            );\n        }\n    };\n    var json_data = {\"formatted_vals\":[\"1\",\"2\",\"3\",\"4\",\"5\",\"6\",\"7\",\"8\",\"9\",\"10\",\"11\",\"12\",\"13\",\"14\",\"15\",\"16\",\"17\",\"18\",\"19\",\"20\",\"21\",\"22\",\"23\",\"24\",\"25\",\"26\",\"27\",\"28\",\"29\",\"30\",\"31\",\"32\",\"33\",\"34\",\"35\",\"36\",\"37\",\"38\",\"39\",\"40\",\"41\",\"42\",\"43\",\"44\",\"45\",\"46\",\"47\",\"48\",\"49\",\"50\",\"51\",\"52\",\"53\",\"54\",\"55\",\"56\",\"57\",\"58\",\"59\",\"60\",\"61\",\"62\",\"63\",\"64\",\"65\",\"66\",\"67\",\"68\",\"69\",\"70\",\"71\",\"72\",\"73\",\"74\",\"75\",\"76\",\"77\",\"78\",\"79\",\"80\",\"81\",\"82\",\"83\",\"84\",\"85\",\"86\",\"87\",\"88\",\"89\",\"90\",\"91\",\"92\",\"93\",\"94\",\"95\",\"96\",\"97\",\"98\",\"99\",\"100\",\"101\",\"102\",\"103\",\"104\",\"105\",\"106\",\"107\",\"108\",\"109\",\"110\",\"111\",\"112\",\"113\",\"114\",\"115\",\"116\",\"117\",\"118\",\"119\",\"120\",\"121\",\"122\",\"123\",\"124\",\"125\",\"126\",\"127\",\"128\",\"129\",\"130\",\"131\",\"132\",\"133\",\"134\",\"135\",\"136\",\"137\",\"138\",\"139\",\"140\",\"141\",\"142\",\"143\",\"144\",\"145\",\"146\",\"147\",\"148\",\"149\",\"150\",\"151\",\"152\",\"153\",\"154\",\"155\",\"156\",\"157\",\"158\",\"159\",\"160\",\"161\",\"162\",\"163\",\"164\",\"165\",\"166\",\"167\",\"168\",\"169\",\"170\",\"171\",\"172\",\"173\",\"174\",\"175\",\"176\",\"177\",\"178\",\"179\",\"180\",\"181\",\"182\",\"183\",\"184\",\"185\",\"186\",\"187\",\"188\",\"189\",\"190\",\"191\",\"192\",\"193\",\"194\",\"195\",\"196\",\"197\",\"198\",\"199\",\"200\",\"201\",\"202\",\"203\",\"204\",\"205\",\"206\",\"207\",\"208\",\"209\",\"210\",\"211\",\"212\",\"213\",\"214\",\"215\",\"216\",\"217\",\"218\",\"219\",\"220\",\"221\",\"222\",\"223\",\"224\",\"225\",\"226\",\"227\",\"228\",\"229\",\"230\",\"231\",\"232\",\"233\",\"234\",\"235\",\"236\",\"237\",\"238\",\"239\",\"240\",\"241\",\"242\",\"243\",\"244\",\"245\",\"246\",\"247\",\"248\",\"249\",\"250\",\"251\",\"252\",\"253\",\"254\",\"255\",\"256\",\"257\",\"258\",\"259\",\"260\",\"261\",\"262\",\"263\",\"264\",\"265\",\"266\",\"267\",\"268\",\"269\",\"270\",\"271\",\"272\",\"273\",\"274\",\"275\",\"276\",\"277\",\"278\",\"279\",\"280\",\"281\",\"282\",\"283\",\"284\",\"285\",\"286\",\"287\",\"288\",\"289\",\"290\",\"291\",\"292\",\"293\",\"294\",\"295\",\"296\",\"297\",\"298\",\"299\",\"300\",\"301\",\"302\",\"303\",\"304\",\"305\",\"306\",\"307\",\"308\",\"309\",\"310\",\"311\",\"312\",\"313\",\"314\",\"315\",\"316\",\"317\",\"318\",\"319\",\"320\",\"321\",\"322\",\"323\",\"324\",\"325\",\"326\",\"327\",\"328\",\"329\",\"330\",\"331\",\"332\",\"333\",\"334\",\"335\",\"336\",\"337\",\"338\",\"339\",\"340\",\"341\",\"342\",\"343\",\"344\",\"345\",\"346\",\"347\",\"348\",\"349\",\"350\",\"351\",\"352\",\"353\",\"354\",\"355\",\"356\",\"357\",\"358\",\"359\",\"360\",\"361\",\"362\",\"363\",\"364\",\"365\",\"366\",\"367\",\"368\",\"369\",\"370\",\"371\",\"372\",\"373\",\"374\",\"375\",\"376\",\"377\",\"378\",\"379\",\"380\",\"381\",\"382\",\"383\",\"384\",\"385\",\"386\",\"387\",\"388\",\"389\",\"390\",\"391\",\"392\",\"393\",\"394\",\"395\",\"396\",\"397\",\"398\",\"399\",\"400\"],\"changes\":WebIO.getval({\"name\":\"changes\",\"scope\":\"11158847470735915112\",\"id\":\"127055134958699330\",\"type\":\"observable\"}),\"index\":WebIO.getval({\"name\":\"index\",\"scope\":\"11158847470735915112\",\"id\":\"13250034460073044813\",\"type\":\"observable\"})};\n    var self = this;\n    function AppViewModel() {\n        for (var key in json_data) {\n            var el = json_data[key];\n            this[key] = Array.isArray(el) ? ko.observableArray(el) : ko.observable(el);\n        }\n        \n        [this[\"formatted_val\"]=ko.computed(    function(){\n        return this.formatted_vals()[parseInt(this.index())-(1)];\n    }\n,this)]\n        [this[\"changes\"].subscribe((function (val){!(this.valueFromJulia[\"changes\"]) ? (WebIO.setval({\"name\":\"changes\",\"scope\":\"11158847470735915112\",\"id\":\"127055134958699330\",\"type\":\"observable\"},val)) : undefined; return this.valueFromJulia[\"changes\"]=false}),self),this[\"index\"].subscribe((function (val){!(this.valueFromJulia[\"index\"]) ? (WebIO.setval({\"name\":\"index\",\"scope\":\"11158847470735915112\",\"id\":\"13250034460073044813\",\"type\":\"observable\"},val)) : undefined; return this.valueFromJulia[\"index\"]=false}),self)]\n        \n    }\n    self.model = new AppViewModel();\n    self.valueFromJulia = {};\n    for (var key in json_data) {\n        self.valueFromJulia[key] = false;\n    }\n    ko.applyBindings(self.model, self.dom);\n}\n);\n    (WebIO.importBlock({\"data\":[{\"name\":\"knockout\",\"type\":\"js\",\"url\":\"/assetserver/727383f2a47bd31570b7da84eee7b022dd6d7c78-knockout.js\"},{\"name\":\"knockout_punches\",\"type\":\"js\",\"url\":\"/assetserver/382b41b3b1bd9f26f75861d360bad7f8beea211f-knockout_punches.js\"}],\"type\":\"async_block\"})).then((imports) => handler.apply(this, imports));\n}\n"
                ],
                "observables": {
                 "changes": {
                  "id": "127055134958699330",
                  "sync": false,
                  "value": 0
                 },
                 "index": {
                  "id": "13250034460073044813",
                  "sync": true,
                  "value": 1
                 }
                },
                "systemjs_options": null
               },
               "nodeType": "Scope",
               "props": {},
               "type": "node"
              }
             ],
             "instanceArgs": {
              "namespace": "html",
              "tag": "div"
             },
             "nodeType": "DOM",
             "props": {
              "className": "field interact-widget"
             },
             "type": "node"
            },
            {
             "children": [
              {
               "children": [
                {
                 "children": [
                  {
                   "children": [
                    {
                     "children": [
                      "scale"
                     ],
                     "instanceArgs": {
                      "namespace": "html",
                      "tag": "label"
                     },
                     "nodeType": "DOM",
                     "props": {
                      "className": "interact ",
                      "style": {
                       "padding": "5px 10px 0px 10px"
                      }
                     },
                     "type": "node"
                    }
                   ],
                   "instanceArgs": {
                    "namespace": "html",
                    "tag": "div"
                   },
                   "nodeType": "DOM",
                   "props": {
                    "className": "interact-flex-row-left"
                   },
                   "type": "node"
                  },
                  {
                   "children": [
                    {
                     "children": [],
                     "instanceArgs": {
                      "namespace": "html",
                      "tag": "input"
                     },
                     "nodeType": "DOM",
                     "props": {
                      "attributes": {
                       "data-bind": "numericValue: index, valueUpdate: 'input', event: {change: function (){this.changes(this.changes()+1)}}",
                       "orient": "horizontal",
                       "type": "range"
                      },
                      "className": "slider slider is-fullwidth",
                      "max": 20,
                      "min": 1,
                      "step": 1,
                      "style": {}
                     },
                     "type": "node"
                    }
                   ],
                   "instanceArgs": {
                    "namespace": "html",
                    "tag": "div"
                   },
                   "nodeType": "DOM",
                   "props": {
                    "className": "interact-flex-row-center"
                   },
                   "type": "node"
                  },
                  {
                   "children": [
                    {
                     "children": [],
                     "instanceArgs": {
                      "namespace": "html",
                      "tag": "p"
                     },
                     "nodeType": "DOM",
                     "props": {
                      "attributes": {
                       "data-bind": "text: formatted_val"
                      }
                     },
                     "type": "node"
                    }
                   ],
                   "instanceArgs": {
                    "namespace": "html",
                    "tag": "div"
                   },
                   "nodeType": "DOM",
                   "props": {
                    "className": "interact-flex-row-right"
                   },
                   "type": "node"
                  }
                 ],
                 "instanceArgs": {
                  "namespace": "html",
                  "tag": "div"
                 },
                 "nodeType": "DOM",
                 "props": {
                  "className": "interact-flex-row interact-widget"
                 },
                 "type": "node"
                }
               ],
               "instanceArgs": {
                "handlers": {
                 "changes": [
                  "(function (val){return (val!=this.model[\"changes\"]()) ? (this.valueFromJulia[\"changes\"]=true, this.model[\"changes\"](val)) : undefined})"
                 ],
                 "index": [
                  "(function (val){return (val!=this.model[\"index\"]()) ? (this.valueFromJulia[\"index\"]=true, this.model[\"index\"](val)) : undefined})"
                 ]
                },
                "id": "7587535738147350570",
                "imports": {
                 "data": [
                  {
                   "name": "knockout",
                   "type": "js",
                   "url": "/assetserver/727383f2a47bd31570b7da84eee7b022dd6d7c78-knockout.js"
                  },
                  {
                   "name": "knockout_punches",
                   "type": "js",
                   "url": "/assetserver/382b41b3b1bd9f26f75861d360bad7f8beea211f-knockout_punches.js"
                  },
                  {
                   "name": null,
                   "type": "js",
                   "url": "/assetserver/5ab20f1060420992a9b82a65b735dee4d81ef413-all.js"
                  },
                  {
                   "name": null,
                   "type": "css",
                   "url": "/assetserver/1cc0ed62837210b80a182cc3676512f895dab686-style.css"
                  },
                  {
                   "name": null,
                   "type": "css",
                   "url": "/assetserver/2eee816f616df3549d7044d45e744fbf8d42bfa1-bulma_confined.min.css"
                  }
                 ],
                 "type": "async_block"
                },
                "mount_callbacks": [
                 "function () {\n    var handler = (function (ko, koPunches) {\n    ko.punches.enableAll();\n    ko.bindingHandlers.numericValue = {\n        init: function(element, valueAccessor, allBindings, data, context) {\n            var stringified = ko.observable(ko.unwrap(valueAccessor()));\n            stringified.subscribe(function(value) {\n                var val = parseFloat(value);\n                if (!isNaN(val)) {\n                    valueAccessor()(val);\n                }\n            });\n            valueAccessor().subscribe(function(value) {\n                var str = JSON.stringify(value);\n                if ((str == \"0\") && ([\"-0\", \"-0.\"].indexOf(stringified()) >= 0))\n                     return;\n                 if ([\"null\", \"\"].indexOf(str) >= 0)\n                     return;\n                stringified(str);\n            });\n            ko.applyBindingsToNode(\n                element,\n                {\n                    value: stringified,\n                    valueUpdate: allBindings.get('valueUpdate'),\n                },\n                context,\n            );\n        }\n    };\n    var json_data = {\"formatted_vals\":[\"0.1\",\"0.2\",\"0.3\",\"0.4\",\"0.5\",\"0.6\",\"0.7\",\"0.8\",\"0.9\",\"1.0\",\"1.1\",\"1.2\",\"1.3\",\"1.4\",\"1.5\",\"1.6\",\"1.7\",\"1.8\",\"1.9\",\"2.0\"],\"changes\":WebIO.getval({\"name\":\"changes\",\"scope\":\"7587535738147350570\",\"id\":\"17572010286264326827\",\"type\":\"observable\"}),\"index\":WebIO.getval({\"name\":\"index\",\"scope\":\"7587535738147350570\",\"id\":\"9739638686758683671\",\"type\":\"observable\"})};\n    var self = this;\n    function AppViewModel() {\n        for (var key in json_data) {\n            var el = json_data[key];\n            this[key] = Array.isArray(el) ? ko.observableArray(el) : ko.observable(el);\n        }\n        \n        [this[\"formatted_val\"]=ko.computed(    function(){\n        return this.formatted_vals()[parseInt(this.index())-(1)];\n    }\n,this)]\n        [this[\"changes\"].subscribe((function (val){!(this.valueFromJulia[\"changes\"]) ? (WebIO.setval({\"name\":\"changes\",\"scope\":\"7587535738147350570\",\"id\":\"17572010286264326827\",\"type\":\"observable\"},val)) : undefined; return this.valueFromJulia[\"changes\"]=false}),self),this[\"index\"].subscribe((function (val){!(this.valueFromJulia[\"index\"]) ? (WebIO.setval({\"name\":\"index\",\"scope\":\"7587535738147350570\",\"id\":\"9739638686758683671\",\"type\":\"observable\"},val)) : undefined; return this.valueFromJulia[\"index\"]=false}),self)]\n        \n    }\n    self.model = new AppViewModel();\n    self.valueFromJulia = {};\n    for (var key in json_data) {\n        self.valueFromJulia[key] = false;\n    }\n    ko.applyBindings(self.model, self.dom);\n}\n);\n    (WebIO.importBlock({\"data\":[{\"name\":\"knockout\",\"type\":\"js\",\"url\":\"/assetserver/727383f2a47bd31570b7da84eee7b022dd6d7c78-knockout.js\"},{\"name\":\"knockout_punches\",\"type\":\"js\",\"url\":\"/assetserver/382b41b3b1bd9f26f75861d360bad7f8beea211f-knockout_punches.js\"}],\"type\":\"async_block\"})).then((imports) => handler.apply(this, imports));\n}\n"
                ],
                "observables": {
                 "changes": {
                  "id": "17572010286264326827",
                  "sync": false,
                  "value": 0
                 },
                 "index": {
                  "id": "9739638686758683671",
                  "sync": true,
                  "value": 10
                 }
                },
                "systemjs_options": null
               },
               "nodeType": "Scope",
               "props": {},
               "type": "node"
              }
             ],
             "instanceArgs": {
              "namespace": "html",
              "tag": "div"
             },
             "nodeType": "DOM",
             "props": {
              "className": "field interact-widget"
             },
             "type": "node"
            },
            {
             "children": [],
             "instanceArgs": {
              "namespace": "html",
              "tag": "div"
             },
             "nodeType": "DOM",
             "props": {
              "style": {
               "display": "flex",
               "flex-direction": "column"
              }
             },
             "type": "node"
            },
            {
             "children": [
              {
               "children": [
                {
                 "children": [
                  {
                   "children": [
                    {
                     "children": [
                      {
                       "children": [
                        "min_dis"
                       ],
                       "instanceArgs": {
                        "namespace": "html",
                        "tag": "label"
                       },
                       "nodeType": "DOM",
                       "props": {
                        "className": "interact ",
                        "style": {
                         "padding": "5px 10px 0px 10px"
                        }
                       },
                       "type": "node"
                      }
                     ],
                     "instanceArgs": {
                      "namespace": "html",
                      "tag": "div"
                     },
                     "nodeType": "DOM",
                     "props": {
                      "className": "interact-flex-row-left"
                     },
                     "type": "node"
                    },
                    {
                     "children": [
                      {
                       "children": [],
                       "instanceArgs": {
                        "namespace": "html",
                        "tag": "input"
                       },
                       "nodeType": "DOM",
                       "props": {
                        "attributes": {
                         "data-bind": "numericValue: index, valueUpdate: 'input', event: {change: function (){this.changes(this.changes()+1)}}",
                         "orient": "horizontal",
                         "type": "range"
                        },
                        "className": "slider slider is-fullwidth",
                        "max": 10,
                        "min": 1,
                        "step": 1,
                        "style": {}
                       },
                       "type": "node"
                      }
                     ],
                     "instanceArgs": {
                      "namespace": "html",
                      "tag": "div"
                     },
                     "nodeType": "DOM",
                     "props": {
                      "className": "interact-flex-row-center"
                     },
                     "type": "node"
                    },
                    {
                     "children": [
                      {
                       "children": [],
                       "instanceArgs": {
                        "namespace": "html",
                        "tag": "p"
                       },
                       "nodeType": "DOM",
                       "props": {
                        "attributes": {
                         "data-bind": "text: formatted_val"
                        }
                       },
                       "type": "node"
                      }
                     ],
                     "instanceArgs": {
                      "namespace": "html",
                      "tag": "div"
                     },
                     "nodeType": "DOM",
                     "props": {
                      "className": "interact-flex-row-right"
                     },
                     "type": "node"
                    }
                   ],
                   "instanceArgs": {
                    "namespace": "html",
                    "tag": "div"
                   },
                   "nodeType": "DOM",
                   "props": {
                    "className": "interact-flex-row interact-widget"
                   },
                   "type": "node"
                  }
                 ],
                 "instanceArgs": {
                  "handlers": {
                   "changes": [
                    "(function (val){return (val!=this.model[\"changes\"]()) ? (this.valueFromJulia[\"changes\"]=true, this.model[\"changes\"](val)) : undefined})"
                   ],
                   "index": [
                    "(function (val){return (val!=this.model[\"index\"]()) ? (this.valueFromJulia[\"index\"]=true, this.model[\"index\"](val)) : undefined})"
                   ]
                  },
                  "id": "11010680515670742921",
                  "imports": {
                   "data": [
                    {
                     "name": "knockout",
                     "type": "js",
                     "url": "/assetserver/727383f2a47bd31570b7da84eee7b022dd6d7c78-knockout.js"
                    },
                    {
                     "name": "knockout_punches",
                     "type": "js",
                     "url": "/assetserver/382b41b3b1bd9f26f75861d360bad7f8beea211f-knockout_punches.js"
                    },
                    {
                     "name": null,
                     "type": "js",
                     "url": "/assetserver/5ab20f1060420992a9b82a65b735dee4d81ef413-all.js"
                    },
                    {
                     "name": null,
                     "type": "css",
                     "url": "/assetserver/1cc0ed62837210b80a182cc3676512f895dab686-style.css"
                    },
                    {
                     "name": null,
                     "type": "css",
                     "url": "/assetserver/2eee816f616df3549d7044d45e744fbf8d42bfa1-bulma_confined.min.css"
                    }
                   ],
                   "type": "async_block"
                  },
                  "mount_callbacks": [
                   "function () {\n    var handler = (function (ko, koPunches) {\n    ko.punches.enableAll();\n    ko.bindingHandlers.numericValue = {\n        init: function(element, valueAccessor, allBindings, data, context) {\n            var stringified = ko.observable(ko.unwrap(valueAccessor()));\n            stringified.subscribe(function(value) {\n                var val = parseFloat(value);\n                if (!isNaN(val)) {\n                    valueAccessor()(val);\n                }\n            });\n            valueAccessor().subscribe(function(value) {\n                var str = JSON.stringify(value);\n                if ((str == \"0\") && ([\"-0\", \"-0.\"].indexOf(stringified()) >= 0))\n                     return;\n                 if ([\"null\", \"\"].indexOf(str) >= 0)\n                     return;\n                stringified(str);\n            });\n            ko.applyBindingsToNode(\n                element,\n                {\n                    value: stringified,\n                    valueUpdate: allBindings.get('valueUpdate'),\n                },\n                context,\n            );\n        }\n    };\n    var json_data = {\"formatted_vals\":[\"0.01\",\"0.11\",\"0.21\",\"0.31\",\"0.41\",\"0.51\",\"0.61\",\"0.71\",\"0.81\",\"0.91\"],\"changes\":WebIO.getval({\"name\":\"changes\",\"scope\":\"11010680515670742921\",\"id\":\"4103109284890459471\",\"type\":\"observable\"}),\"index\":WebIO.getval({\"name\":\"index\",\"scope\":\"11010680515670742921\",\"id\":\"3231835886720242495\",\"type\":\"observable\"})};\n    var self = this;\n    function AppViewModel() {\n        for (var key in json_data) {\n            var el = json_data[key];\n            this[key] = Array.isArray(el) ? ko.observableArray(el) : ko.observable(el);\n        }\n        \n        [this[\"formatted_val\"]=ko.computed(    function(){\n        return this.formatted_vals()[parseInt(this.index())-(1)];\n    }\n,this)]\n        [this[\"changes\"].subscribe((function (val){!(this.valueFromJulia[\"changes\"]) ? (WebIO.setval({\"name\":\"changes\",\"scope\":\"11010680515670742921\",\"id\":\"4103109284890459471\",\"type\":\"observable\"},val)) : undefined; return this.valueFromJulia[\"changes\"]=false}),self),this[\"index\"].subscribe((function (val){!(this.valueFromJulia[\"index\"]) ? (WebIO.setval({\"name\":\"index\",\"scope\":\"11010680515670742921\",\"id\":\"3231835886720242495\",\"type\":\"observable\"},val)) : undefined; return this.valueFromJulia[\"index\"]=false}),self)]\n        \n    }\n    self.model = new AppViewModel();\n    self.valueFromJulia = {};\n    for (var key in json_data) {\n        self.valueFromJulia[key] = false;\n    }\n    ko.applyBindings(self.model, self.dom);\n}\n);\n    (WebIO.importBlock({\"data\":[{\"name\":\"knockout\",\"type\":\"js\",\"url\":\"/assetserver/727383f2a47bd31570b7da84eee7b022dd6d7c78-knockout.js\"},{\"name\":\"knockout_punches\",\"type\":\"js\",\"url\":\"/assetserver/382b41b3b1bd9f26f75861d360bad7f8beea211f-knockout_punches.js\"}],\"type\":\"async_block\"})).then((imports) => handler.apply(this, imports));\n}\n"
                  ],
                  "observables": {
                   "changes": {
                    "id": "4103109284890459471",
                    "sync": false,
                    "value": 0
                   },
                   "index": {
                    "id": "3231835886720242495",
                    "sync": true,
                    "value": 5
                   }
                  },
                  "systemjs_options": null
                 },
                 "nodeType": "Scope",
                 "props": {},
                 "type": "node"
                }
               ],
               "instanceArgs": {
                "namespace": "html",
                "tag": "div"
               },
               "nodeType": "DOM",
               "props": {
                "className": "field interact-widget"
               },
               "type": "node"
              },
              {
               "children": [
                {
                 "children": [
                  {
                   "children": [
                    {
                     "children": [
                      {
                       "children": [
                        "coh_fac"
                       ],
                       "instanceArgs": {
                        "namespace": "html",
                        "tag": "label"
                       },
                       "nodeType": "DOM",
                       "props": {
                        "className": "interact ",
                        "style": {
                         "padding": "5px 10px 0px 10px"
                        }
                       },
                       "type": "node"
                      }
                     ],
                     "instanceArgs": {
                      "namespace": "html",
                      "tag": "div"
                     },
                     "nodeType": "DOM",
                     "props": {
                      "className": "interact-flex-row-left"
                     },
                     "type": "node"
                    },
                    {
                     "children": [
                      {
                       "children": [],
                       "instanceArgs": {
                        "namespace": "html",
                        "tag": "input"
                       },
                       "nodeType": "DOM",
                       "props": {
                        "attributes": {
                         "data-bind": "numericValue: index, valueUpdate: 'input', event: {change: function (){this.changes(this.changes()+1)}}",
                         "orient": "horizontal",
                         "type": "range"
                        },
                        "className": "slider slider is-fullwidth",
                        "max": 100,
                        "min": 1,
                        "step": 1,
                        "style": {}
                       },
                       "type": "node"
                      }
                     ],
                     "instanceArgs": {
                      "namespace": "html",
                      "tag": "div"
                     },
                     "nodeType": "DOM",
                     "props": {
                      "className": "interact-flex-row-center"
                     },
                     "type": "node"
                    },
                    {
                     "children": [
                      {
                       "children": [],
                       "instanceArgs": {
                        "namespace": "html",
                        "tag": "p"
                       },
                       "nodeType": "DOM",
                       "props": {
                        "attributes": {
                         "data-bind": "text: formatted_val"
                        }
                       },
                       "type": "node"
                      }
                     ],
                     "instanceArgs": {
                      "namespace": "html",
                      "tag": "div"
                     },
                     "nodeType": "DOM",
                     "props": {
                      "className": "interact-flex-row-right"
                     },
                     "type": "node"
                    }
                   ],
                   "instanceArgs": {
                    "namespace": "html",
                    "tag": "div"
                   },
                   "nodeType": "DOM",
                   "props": {
                    "className": "interact-flex-row interact-widget"
                   },
                   "type": "node"
                  }
                 ],
                 "instanceArgs": {
                  "handlers": {
                   "changes": [
                    "(function (val){return (val!=this.model[\"changes\"]()) ? (this.valueFromJulia[\"changes\"]=true, this.model[\"changes\"](val)) : undefined})"
                   ],
                   "index": [
                    "(function (val){return (val!=this.model[\"index\"]()) ? (this.valueFromJulia[\"index\"]=true, this.model[\"index\"](val)) : undefined})"
                   ]
                  },
                  "id": "17585652281365975552",
                  "imports": {
                   "data": [
                    {
                     "name": "knockout",
                     "type": "js",
                     "url": "/assetserver/727383f2a47bd31570b7da84eee7b022dd6d7c78-knockout.js"
                    },
                    {
                     "name": "knockout_punches",
                     "type": "js",
                     "url": "/assetserver/382b41b3b1bd9f26f75861d360bad7f8beea211f-knockout_punches.js"
                    },
                    {
                     "name": null,
                     "type": "js",
                     "url": "/assetserver/5ab20f1060420992a9b82a65b735dee4d81ef413-all.js"
                    },
                    {
                     "name": null,
                     "type": "css",
                     "url": "/assetserver/1cc0ed62837210b80a182cc3676512f895dab686-style.css"
                    },
                    {
                     "name": null,
                     "type": "css",
                     "url": "/assetserver/2eee816f616df3549d7044d45e744fbf8d42bfa1-bulma_confined.min.css"
                    }
                   ],
                   "type": "async_block"
                  },
                  "mount_callbacks": [
                   "function () {\n    var handler = (function (ko, koPunches) {\n    ko.punches.enableAll();\n    ko.bindingHandlers.numericValue = {\n        init: function(element, valueAccessor, allBindings, data, context) {\n            var stringified = ko.observable(ko.unwrap(valueAccessor()));\n            stringified.subscribe(function(value) {\n                var val = parseFloat(value);\n                if (!isNaN(val)) {\n                    valueAccessor()(val);\n                }\n            });\n            valueAccessor().subscribe(function(value) {\n                var str = JSON.stringify(value);\n                if ((str == \"0\") && ([\"-0\", \"-0.\"].indexOf(stringified()) >= 0))\n                     return;\n                 if ([\"null\", \"\"].indexOf(str) >= 0)\n                     return;\n                stringified(str);\n            });\n            ko.applyBindingsToNode(\n                element,\n                {\n                    value: stringified,\n                    valueUpdate: allBindings.get('valueUpdate'),\n                },\n                context,\n            );\n        }\n    };\n    var json_data = {\"formatted_vals\":[\"0.01\",\"0.02\",\"0.03\",\"0.04\",\"0.05\",\"0.06\",\"0.07\",\"0.08\",\"0.09\",\"0.1\",\"0.11\",\"0.12\",\"0.13\",\"0.14\",\"0.15\",\"0.16\",\"0.17\",\"0.18\",\"0.19\",\"0.2\",\"0.21\",\"0.22\",\"0.23\",\"0.24\",\"0.25\",\"0.26\",\"0.27\",\"0.28\",\"0.29\",\"0.3\",\"0.31\",\"0.32\",\"0.33\",\"0.34\",\"0.35\",\"0.36\",\"0.37\",\"0.38\",\"0.39\",\"0.4\",\"0.41\",\"0.42\",\"0.43\",\"0.44\",\"0.45\",\"0.46\",\"0.47\",\"0.48\",\"0.49\",\"0.5\",\"0.51\",\"0.52\",\"0.53\",\"0.54\",\"0.55\",\"0.56\",\"0.57\",\"0.58\",\"0.59\",\"0.6\",\"0.61\",\"0.62\",\"0.63\",\"0.64\",\"0.65\",\"0.66\",\"0.67\",\"0.68\",\"0.69\",\"0.7\",\"0.71\",\"0.72\",\"0.73\",\"0.74\",\"0.75\",\"0.76\",\"0.77\",\"0.78\",\"0.79\",\"0.8\",\"0.81\",\"0.82\",\"0.83\",\"0.84\",\"0.85\",\"0.86\",\"0.87\",\"0.88\",\"0.89\",\"0.9\",\"0.91\",\"0.92\",\"0.93\",\"0.94\",\"0.95\",\"0.96\",\"0.97\",\"0.98\",\"0.99\",\"1.0\"],\"changes\":WebIO.getval({\"name\":\"changes\",\"scope\":\"17585652281365975552\",\"id\":\"3909659297749547453\",\"type\":\"observable\"}),\"index\":WebIO.getval({\"name\":\"index\",\"scope\":\"17585652281365975552\",\"id\":\"11529249550068261377\",\"type\":\"observable\"})};\n    var self = this;\n    function AppViewModel() {\n        for (var key in json_data) {\n            var el = json_data[key];\n            this[key] = Array.isArray(el) ? ko.observableArray(el) : ko.observable(el);\n        }\n        \n        [this[\"formatted_val\"]=ko.computed(    function(){\n        return this.formatted_vals()[parseInt(this.index())-(1)];\n    }\n,this)]\n        [this[\"changes\"].subscribe((function (val){!(this.valueFromJulia[\"changes\"]) ? (WebIO.setval({\"name\":\"changes\",\"scope\":\"17585652281365975552\",\"id\":\"3909659297749547453\",\"type\":\"observable\"},val)) : undefined; return this.valueFromJulia[\"changes\"]=false}),self),this[\"index\"].subscribe((function (val){!(this.valueFromJulia[\"index\"]) ? (WebIO.setval({\"name\":\"index\",\"scope\":\"17585652281365975552\",\"id\":\"11529249550068261377\",\"type\":\"observable\"},val)) : undefined; return this.valueFromJulia[\"index\"]=false}),self)]\n        \n    }\n    self.model = new AppViewModel();\n    self.valueFromJulia = {};\n    for (var key in json_data) {\n        self.valueFromJulia[key] = false;\n    }\n    ko.applyBindings(self.model, self.dom);\n}\n);\n    (WebIO.importBlock({\"data\":[{\"name\":\"knockout\",\"type\":\"js\",\"url\":\"/assetserver/727383f2a47bd31570b7da84eee7b022dd6d7c78-knockout.js\"},{\"name\":\"knockout_punches\",\"type\":\"js\",\"url\":\"/assetserver/382b41b3b1bd9f26f75861d360bad7f8beea211f-knockout_punches.js\"}],\"type\":\"async_block\"})).then((imports) => handler.apply(this, imports));\n}\n"
                  ],
                  "observables": {
                   "changes": {
                    "id": "3909659297749547453",
                    "sync": false,
                    "value": 0
                   },
                   "index": {
                    "id": "11529249550068261377",
                    "sync": true,
                    "value": 50
                   }
                  },
                  "systemjs_options": null
                 },
                 "nodeType": "Scope",
                 "props": {},
                 "type": "node"
                }
               ],
               "instanceArgs": {
                "namespace": "html",
                "tag": "div"
               },
               "nodeType": "DOM",
               "props": {
                "className": "field interact-widget"
               },
               "type": "node"
              },
              {
               "children": [
                {
                 "children": [
                  {
                   "children": [
                    {
                     "children": [
                      {
                       "children": [
                        "sep_fac"
                       ],
                       "instanceArgs": {
                        "namespace": "html",
                        "tag": "label"
                       },
                       "nodeType": "DOM",
                       "props": {
                        "className": "interact ",
                        "style": {
                         "padding": "5px 10px 0px 10px"
                        }
                       },
                       "type": "node"
                      }
                     ],
                     "instanceArgs": {
                      "namespace": "html",
                      "tag": "div"
                     },
                     "nodeType": "DOM",
                     "props": {
                      "className": "interact-flex-row-left"
                     },
                     "type": "node"
                    },
                    {
                     "children": [
                      {
                       "children": [],
                       "instanceArgs": {
                        "namespace": "html",
                        "tag": "input"
                       },
                       "nodeType": "DOM",
                       "props": {
                        "attributes": {
                         "data-bind": "numericValue: index, valueUpdate: 'input', event: {change: function (){this.changes(this.changes()+1)}}",
                         "orient": "horizontal",
                         "type": "range"
                        },
                        "className": "slider slider is-fullwidth",
                        "max": 100,
                        "min": 1,
                        "step": 1,
                        "style": {}
                       },
                       "type": "node"
                      }
                     ],
                     "instanceArgs": {
                      "namespace": "html",
                      "tag": "div"
                     },
                     "nodeType": "DOM",
                     "props": {
                      "className": "interact-flex-row-center"
                     },
                     "type": "node"
                    },
                    {
                     "children": [
                      {
                       "children": [],
                       "instanceArgs": {
                        "namespace": "html",
                        "tag": "p"
                       },
                       "nodeType": "DOM",
                       "props": {
                        "attributes": {
                         "data-bind": "text: formatted_val"
                        }
                       },
                       "type": "node"
                      }
                     ],
                     "instanceArgs": {
                      "namespace": "html",
                      "tag": "div"
                     },
                     "nodeType": "DOM",
                     "props": {
                      "className": "interact-flex-row-right"
                     },
                     "type": "node"
                    }
                   ],
                   "instanceArgs": {
                    "namespace": "html",
                    "tag": "div"
                   },
                   "nodeType": "DOM",
                   "props": {
                    "className": "interact-flex-row interact-widget"
                   },
                   "type": "node"
                  }
                 ],
                 "instanceArgs": {
                  "handlers": {
                   "changes": [
                    "(function (val){return (val!=this.model[\"changes\"]()) ? (this.valueFromJulia[\"changes\"]=true, this.model[\"changes\"](val)) : undefined})"
                   ],
                   "index": [
                    "(function (val){return (val!=this.model[\"index\"]()) ? (this.valueFromJulia[\"index\"]=true, this.model[\"index\"](val)) : undefined})"
                   ]
                  },
                  "id": "2934593135734637057",
                  "imports": {
                   "data": [
                    {
                     "name": "knockout",
                     "type": "js",
                     "url": "/assetserver/727383f2a47bd31570b7da84eee7b022dd6d7c78-knockout.js"
                    },
                    {
                     "name": "knockout_punches",
                     "type": "js",
                     "url": "/assetserver/382b41b3b1bd9f26f75861d360bad7f8beea211f-knockout_punches.js"
                    },
                    {
                     "name": null,
                     "type": "js",
                     "url": "/assetserver/5ab20f1060420992a9b82a65b735dee4d81ef413-all.js"
                    },
                    {
                     "name": null,
                     "type": "css",
                     "url": "/assetserver/1cc0ed62837210b80a182cc3676512f895dab686-style.css"
                    },
                    {
                     "name": null,
                     "type": "css",
                     "url": "/assetserver/2eee816f616df3549d7044d45e744fbf8d42bfa1-bulma_confined.min.css"
                    }
                   ],
                   "type": "async_block"
                  },
                  "mount_callbacks": [
                   "function () {\n    var handler = (function (ko, koPunches) {\n    ko.punches.enableAll();\n    ko.bindingHandlers.numericValue = {\n        init: function(element, valueAccessor, allBindings, data, context) {\n            var stringified = ko.observable(ko.unwrap(valueAccessor()));\n            stringified.subscribe(function(value) {\n                var val = parseFloat(value);\n                if (!isNaN(val)) {\n                    valueAccessor()(val);\n                }\n            });\n            valueAccessor().subscribe(function(value) {\n                var str = JSON.stringify(value);\n                if ((str == \"0\") && ([\"-0\", \"-0.\"].indexOf(stringified()) >= 0))\n                     return;\n                 if ([\"null\", \"\"].indexOf(str) >= 0)\n                     return;\n                stringified(str);\n            });\n            ko.applyBindingsToNode(\n                element,\n                {\n                    value: stringified,\n                    valueUpdate: allBindings.get('valueUpdate'),\n                },\n                context,\n            );\n        }\n    };\n    var json_data = {\"formatted_vals\":[\"0.01\",\"0.02\",\"0.03\",\"0.04\",\"0.05\",\"0.06\",\"0.07\",\"0.08\",\"0.09\",\"0.1\",\"0.11\",\"0.12\",\"0.13\",\"0.14\",\"0.15\",\"0.16\",\"0.17\",\"0.18\",\"0.19\",\"0.2\",\"0.21\",\"0.22\",\"0.23\",\"0.24\",\"0.25\",\"0.26\",\"0.27\",\"0.28\",\"0.29\",\"0.3\",\"0.31\",\"0.32\",\"0.33\",\"0.34\",\"0.35\",\"0.36\",\"0.37\",\"0.38\",\"0.39\",\"0.4\",\"0.41\",\"0.42\",\"0.43\",\"0.44\",\"0.45\",\"0.46\",\"0.47\",\"0.48\",\"0.49\",\"0.5\",\"0.51\",\"0.52\",\"0.53\",\"0.54\",\"0.55\",\"0.56\",\"0.57\",\"0.58\",\"0.59\",\"0.6\",\"0.61\",\"0.62\",\"0.63\",\"0.64\",\"0.65\",\"0.66\",\"0.67\",\"0.68\",\"0.69\",\"0.7\",\"0.71\",\"0.72\",\"0.73\",\"0.74\",\"0.75\",\"0.76\",\"0.77\",\"0.78\",\"0.79\",\"0.8\",\"0.81\",\"0.82\",\"0.83\",\"0.84\",\"0.85\",\"0.86\",\"0.87\",\"0.88\",\"0.89\",\"0.9\",\"0.91\",\"0.92\",\"0.93\",\"0.94\",\"0.95\",\"0.96\",\"0.97\",\"0.98\",\"0.99\",\"1.0\"],\"changes\":WebIO.getval({\"name\":\"changes\",\"scope\":\"2934593135734637057\",\"id\":\"15044206303773114031\",\"type\":\"observable\"}),\"index\":WebIO.getval({\"name\":\"index\",\"scope\":\"2934593135734637057\",\"id\":\"11656392481293919426\",\"type\":\"observable\"})};\n    var self = this;\n    function AppViewModel() {\n        for (var key in json_data) {\n            var el = json_data[key];\n            this[key] = Array.isArray(el) ? ko.observableArray(el) : ko.observable(el);\n        }\n        \n        [this[\"formatted_val\"]=ko.computed(    function(){\n        return this.formatted_vals()[parseInt(this.index())-(1)];\n    }\n,this)]\n        [this[\"changes\"].subscribe((function (val){!(this.valueFromJulia[\"changes\"]) ? (WebIO.setval({\"name\":\"changes\",\"scope\":\"2934593135734637057\",\"id\":\"15044206303773114031\",\"type\":\"observable\"},val)) : undefined; return this.valueFromJulia[\"changes\"]=false}),self),this[\"index\"].subscribe((function (val){!(this.valueFromJulia[\"index\"]) ? (WebIO.setval({\"name\":\"index\",\"scope\":\"2934593135734637057\",\"id\":\"11656392481293919426\",\"type\":\"observable\"},val)) : undefined; return this.valueFromJulia[\"index\"]=false}),self)]\n        \n    }\n    self.model = new AppViewModel();\n    self.valueFromJulia = {};\n    for (var key in json_data) {\n        self.valueFromJulia[key] = false;\n    }\n    ko.applyBindings(self.model, self.dom);\n}\n);\n    (WebIO.importBlock({\"data\":[{\"name\":\"knockout\",\"type\":\"js\",\"url\":\"/assetserver/727383f2a47bd31570b7da84eee7b022dd6d7c78-knockout.js\"},{\"name\":\"knockout_punches\",\"type\":\"js\",\"url\":\"/assetserver/382b41b3b1bd9f26f75861d360bad7f8beea211f-knockout_punches.js\"}],\"type\":\"async_block\"})).then((imports) => handler.apply(this, imports));\n}\n"
                  ],
                  "observables": {
                   "changes": {
                    "id": "15044206303773114031",
                    "sync": false,
                    "value": 0
                   },
                   "index": {
                    "id": "11656392481293919426",
                    "sync": true,
                    "value": 50
                   }
                  },
                  "systemjs_options": null
                 },
                 "nodeType": "Scope",
                 "props": {},
                 "type": "node"
                }
               ],
               "instanceArgs": {
                "namespace": "html",
                "tag": "div"
               },
               "nodeType": "DOM",
               "props": {
                "className": "field interact-widget"
               },
               "type": "node"
              },
              {
               "children": [
                {
                 "children": [
                  {
                   "children": [
                    {
                     "children": [
                      {
                       "children": [
                        "aln_fac"
                       ],
                       "instanceArgs": {
                        "namespace": "html",
                        "tag": "label"
                       },
                       "nodeType": "DOM",
                       "props": {
                        "className": "interact ",
                        "style": {
                         "padding": "5px 10px 0px 10px"
                        }
                       },
                       "type": "node"
                      }
                     ],
                     "instanceArgs": {
                      "namespace": "html",
                      "tag": "div"
                     },
                     "nodeType": "DOM",
                     "props": {
                      "className": "interact-flex-row-left"
                     },
                     "type": "node"
                    },
                    {
                     "children": [
                      {
                       "children": [],
                       "instanceArgs": {
                        "namespace": "html",
                        "tag": "input"
                       },
                       "nodeType": "DOM",
                       "props": {
                        "attributes": {
                         "data-bind": "numericValue: index, valueUpdate: 'input', event: {change: function (){this.changes(this.changes()+1)}}",
                         "orient": "horizontal",
                         "type": "range"
                        },
                        "className": "slider slider is-fullwidth",
                        "max": 100,
                        "min": 1,
                        "step": 1,
                        "style": {}
                       },
                       "type": "node"
                      }
                     ],
                     "instanceArgs": {
                      "namespace": "html",
                      "tag": "div"
                     },
                     "nodeType": "DOM",
                     "props": {
                      "className": "interact-flex-row-center"
                     },
                     "type": "node"
                    },
                    {
                     "children": [
                      {
                       "children": [],
                       "instanceArgs": {
                        "namespace": "html",
                        "tag": "p"
                       },
                       "nodeType": "DOM",
                       "props": {
                        "attributes": {
                         "data-bind": "text: formatted_val"
                        }
                       },
                       "type": "node"
                      }
                     ],
                     "instanceArgs": {
                      "namespace": "html",
                      "tag": "div"
                     },
                     "nodeType": "DOM",
                     "props": {
                      "className": "interact-flex-row-right"
                     },
                     "type": "node"
                    }
                   ],
                   "instanceArgs": {
                    "namespace": "html",
                    "tag": "div"
                   },
                   "nodeType": "DOM",
                   "props": {
                    "className": "interact-flex-row interact-widget"
                   },
                   "type": "node"
                  }
                 ],
                 "instanceArgs": {
                  "handlers": {
                   "changes": [
                    "(function (val){return (val!=this.model[\"changes\"]()) ? (this.valueFromJulia[\"changes\"]=true, this.model[\"changes\"](val)) : undefined})"
                   ],
                   "index": [
                    "(function (val){return (val!=this.model[\"index\"]()) ? (this.valueFromJulia[\"index\"]=true, this.model[\"index\"](val)) : undefined})"
                   ]
                  },
                  "id": "15337923032627178165",
                  "imports": {
                   "data": [
                    {
                     "name": "knockout",
                     "type": "js",
                     "url": "/assetserver/727383f2a47bd31570b7da84eee7b022dd6d7c78-knockout.js"
                    },
                    {
                     "name": "knockout_punches",
                     "type": "js",
                     "url": "/assetserver/382b41b3b1bd9f26f75861d360bad7f8beea211f-knockout_punches.js"
                    },
                    {
                     "name": null,
                     "type": "js",
                     "url": "/assetserver/5ab20f1060420992a9b82a65b735dee4d81ef413-all.js"
                    },
                    {
                     "name": null,
                     "type": "css",
                     "url": "/assetserver/1cc0ed62837210b80a182cc3676512f895dab686-style.css"
                    },
                    {
                     "name": null,
                     "type": "css",
                     "url": "/assetserver/2eee816f616df3549d7044d45e744fbf8d42bfa1-bulma_confined.min.css"
                    }
                   ],
                   "type": "async_block"
                  },
                  "mount_callbacks": [
                   "function () {\n    var handler = (function (ko, koPunches) {\n    ko.punches.enableAll();\n    ko.bindingHandlers.numericValue = {\n        init: function(element, valueAccessor, allBindings, data, context) {\n            var stringified = ko.observable(ko.unwrap(valueAccessor()));\n            stringified.subscribe(function(value) {\n                var val = parseFloat(value);\n                if (!isNaN(val)) {\n                    valueAccessor()(val);\n                }\n            });\n            valueAccessor().subscribe(function(value) {\n                var str = JSON.stringify(value);\n                if ((str == \"0\") && ([\"-0\", \"-0.\"].indexOf(stringified()) >= 0))\n                     return;\n                 if ([\"null\", \"\"].indexOf(str) >= 0)\n                     return;\n                stringified(str);\n            });\n            ko.applyBindingsToNode(\n                element,\n                {\n                    value: stringified,\n                    valueUpdate: allBindings.get('valueUpdate'),\n                },\n                context,\n            );\n        }\n    };\n    var json_data = {\"formatted_vals\":[\"0.01\",\"0.02\",\"0.03\",\"0.04\",\"0.05\",\"0.06\",\"0.07\",\"0.08\",\"0.09\",\"0.1\",\"0.11\",\"0.12\",\"0.13\",\"0.14\",\"0.15\",\"0.16\",\"0.17\",\"0.18\",\"0.19\",\"0.2\",\"0.21\",\"0.22\",\"0.23\",\"0.24\",\"0.25\",\"0.26\",\"0.27\",\"0.28\",\"0.29\",\"0.3\",\"0.31\",\"0.32\",\"0.33\",\"0.34\",\"0.35\",\"0.36\",\"0.37\",\"0.38\",\"0.39\",\"0.4\",\"0.41\",\"0.42\",\"0.43\",\"0.44\",\"0.45\",\"0.46\",\"0.47\",\"0.48\",\"0.49\",\"0.5\",\"0.51\",\"0.52\",\"0.53\",\"0.54\",\"0.55\",\"0.56\",\"0.57\",\"0.58\",\"0.59\",\"0.6\",\"0.61\",\"0.62\",\"0.63\",\"0.64\",\"0.65\",\"0.66\",\"0.67\",\"0.68\",\"0.69\",\"0.7\",\"0.71\",\"0.72\",\"0.73\",\"0.74\",\"0.75\",\"0.76\",\"0.77\",\"0.78\",\"0.79\",\"0.8\",\"0.81\",\"0.82\",\"0.83\",\"0.84\",\"0.85\",\"0.86\",\"0.87\",\"0.88\",\"0.89\",\"0.9\",\"0.91\",\"0.92\",\"0.93\",\"0.94\",\"0.95\",\"0.96\",\"0.97\",\"0.98\",\"0.99\",\"1.0\"],\"changes\":WebIO.getval({\"name\":\"changes\",\"scope\":\"15337923032627178165\",\"id\":\"8143904053882990588\",\"type\":\"observable\"}),\"index\":WebIO.getval({\"name\":\"index\",\"scope\":\"15337923032627178165\",\"id\":\"9867640536283104545\",\"type\":\"observable\"})};\n    var self = this;\n    function AppViewModel() {\n        for (var key in json_data) {\n            var el = json_data[key];\n            this[key] = Array.isArray(el) ? ko.observableArray(el) : ko.observable(el);\n        }\n        \n        [this[\"formatted_val\"]=ko.computed(    function(){\n        return this.formatted_vals()[parseInt(this.index())-(1)];\n    }\n,this)]\n        [this[\"changes\"].subscribe((function (val){!(this.valueFromJulia[\"changes\"]) ? (WebIO.setval({\"name\":\"changes\",\"scope\":\"15337923032627178165\",\"id\":\"8143904053882990588\",\"type\":\"observable\"},val)) : undefined; return this.valueFromJulia[\"changes\"]=false}),self),this[\"index\"].subscribe((function (val){!(this.valueFromJulia[\"index\"]) ? (WebIO.setval({\"name\":\"index\",\"scope\":\"15337923032627178165\",\"id\":\"9867640536283104545\",\"type\":\"observable\"},val)) : undefined; return this.valueFromJulia[\"index\"]=false}),self)]\n        \n    }\n    self.model = new AppViewModel();\n    self.valueFromJulia = {};\n    for (var key in json_data) {\n        self.valueFromJulia[key] = false;\n    }\n    ko.applyBindings(self.model, self.dom);\n}\n);\n    (WebIO.importBlock({\"data\":[{\"name\":\"knockout\",\"type\":\"js\",\"url\":\"/assetserver/727383f2a47bd31570b7da84eee7b022dd6d7c78-knockout.js\"},{\"name\":\"knockout_punches\",\"type\":\"js\",\"url\":\"/assetserver/382b41b3b1bd9f26f75861d360bad7f8beea211f-knockout_punches.js\"}],\"type\":\"async_block\"})).then((imports) => handler.apply(this, imports));\n}\n"
                  ],
                  "observables": {
                   "changes": {
                    "id": "8143904053882990588",
                    "sync": false,
                    "value": 0
                   },
                   "index": {
                    "id": "9867640536283104545",
                    "sync": true,
                    "value": 50
                   }
                  },
                  "systemjs_options": null
                 },
                 "nodeType": "Scope",
                 "props": {},
                 "type": "node"
                }
               ],
               "instanceArgs": {
                "namespace": "html",
                "tag": "div"
               },
               "nodeType": "DOM",
               "props": {
                "className": "field interact-widget"
               },
               "type": "node"
              },
              {
               "children": [
                {
                 "children": [
                  {
                   "children": [
                    {
                     "children": [
                      {
                       "children": [
                        "vis_range"
                       ],
                       "instanceArgs": {
                        "namespace": "html",
                        "tag": "label"
                       },
                       "nodeType": "DOM",
                       "props": {
                        "className": "interact ",
                        "style": {
                         "padding": "5px 10px 0px 10px"
                        }
                       },
                       "type": "node"
                      }
                     ],
                     "instanceArgs": {
                      "namespace": "html",
                      "tag": "div"
                     },
                     "nodeType": "DOM",
                     "props": {
                      "className": "interact-flex-row-left"
                     },
                     "type": "node"
                    },
                    {
                     "children": [
                      {
                       "children": [],
                       "instanceArgs": {
                        "namespace": "html",
                        "tag": "input"
                       },
                       "nodeType": "DOM",
                       "props": {
                        "attributes": {
                         "data-bind": "numericValue: index, valueUpdate: 'input', event: {change: function (){this.changes(this.changes()+1)}}",
                         "orient": "horizontal",
                         "type": "range"
                        },
                        "className": "slider slider is-fullwidth",
                        "max": 8,
                        "min": 1,
                        "step": 1,
                        "style": {}
                       },
                       "type": "node"
                      }
                     ],
                     "instanceArgs": {
                      "namespace": "html",
                      "tag": "div"
                     },
                     "nodeType": "DOM",
                     "props": {
                      "className": "interact-flex-row-center"
                     },
                     "type": "node"
                    },
                    {
                     "children": [
                      {
                       "children": [],
                       "instanceArgs": {
                        "namespace": "html",
                        "tag": "p"
                       },
                       "nodeType": "DOM",
                       "props": {
                        "attributes": {
                         "data-bind": "text: formatted_val"
                        }
                       },
                       "type": "node"
                      }
                     ],
                     "instanceArgs": {
                      "namespace": "html",
                      "tag": "div"
                     },
                     "nodeType": "DOM",
                     "props": {
                      "className": "interact-flex-row-right"
                     },
                     "type": "node"
                    }
                   ],
                   "instanceArgs": {
                    "namespace": "html",
                    "tag": "div"
                   },
                   "nodeType": "DOM",
                   "props": {
                    "className": "interact-flex-row interact-widget"
                   },
                   "type": "node"
                  }
                 ],
                 "instanceArgs": {
                  "handlers": {
                   "changes": [
                    "(function (val){return (val!=this.model[\"changes\"]()) ? (this.valueFromJulia[\"changes\"]=true, this.model[\"changes\"](val)) : undefined})"
                   ],
                   "index": [
                    "(function (val){return (val!=this.model[\"index\"]()) ? (this.valueFromJulia[\"index\"]=true, this.model[\"index\"](val)) : undefined})"
                   ]
                  },
                  "id": "13555075928916923436",
                  "imports": {
                   "data": [
                    {
                     "name": "knockout",
                     "type": "js",
                     "url": "/assetserver/727383f2a47bd31570b7da84eee7b022dd6d7c78-knockout.js"
                    },
                    {
                     "name": "knockout_punches",
                     "type": "js",
                     "url": "/assetserver/382b41b3b1bd9f26f75861d360bad7f8beea211f-knockout_punches.js"
                    },
                    {
                     "name": null,
                     "type": "js",
                     "url": "/assetserver/5ab20f1060420992a9b82a65b735dee4d81ef413-all.js"
                    },
                    {
                     "name": null,
                     "type": "css",
                     "url": "/assetserver/1cc0ed62837210b80a182cc3676512f895dab686-style.css"
                    },
                    {
                     "name": null,
                     "type": "css",
                     "url": "/assetserver/2eee816f616df3549d7044d45e744fbf8d42bfa1-bulma_confined.min.css"
                    }
                   ],
                   "type": "async_block"
                  },
                  "mount_callbacks": [
                   "function () {\n    var handler = (function (ko, koPunches) {\n    ko.punches.enableAll();\n    ko.bindingHandlers.numericValue = {\n        init: function(element, valueAccessor, allBindings, data, context) {\n            var stringified = ko.observable(ko.unwrap(valueAccessor()));\n            stringified.subscribe(function(value) {\n                var val = parseFloat(value);\n                if (!isNaN(val)) {\n                    valueAccessor()(val);\n                }\n            });\n            valueAccessor().subscribe(function(value) {\n                var str = JSON.stringify(value);\n                if ((str == \"0\") && ([\"-0\", \"-0.\"].indexOf(stringified()) >= 0))\n                     return;\n                 if ([\"null\", \"\"].indexOf(str) >= 0)\n                     return;\n                stringified(str);\n            });\n            ko.applyBindingsToNode(\n                element,\n                {\n                    value: stringified,\n                    valueUpdate: allBindings.get('valueUpdate'),\n                },\n                context,\n            );\n        }\n    };\n    var json_data = {\"formatted_vals\":[\"0.5\",\"1.0\",\"1.5\",\"2.0\",\"2.5\",\"3.0\",\"3.5\",\"4.0\"],\"changes\":WebIO.getval({\"name\":\"changes\",\"scope\":\"13555075928916923436\",\"id\":\"8664315435971225050\",\"type\":\"observable\"}),\"index\":WebIO.getval({\"name\":\"index\",\"scope\":\"13555075928916923436\",\"id\":\"1341855097252115116\",\"type\":\"observable\"})};\n    var self = this;\n    function AppViewModel() {\n        for (var key in json_data) {\n            var el = json_data[key];\n            this[key] = Array.isArray(el) ? ko.observableArray(el) : ko.observable(el);\n        }\n        \n        [this[\"formatted_val\"]=ko.computed(    function(){\n        return this.formatted_vals()[parseInt(this.index())-(1)];\n    }\n,this)]\n        [this[\"changes\"].subscribe((function (val){!(this.valueFromJulia[\"changes\"]) ? (WebIO.setval({\"name\":\"changes\",\"scope\":\"13555075928916923436\",\"id\":\"8664315435971225050\",\"type\":\"observable\"},val)) : undefined; return this.valueFromJulia[\"changes\"]=false}),self),this[\"index\"].subscribe((function (val){!(this.valueFromJulia[\"index\"]) ? (WebIO.setval({\"name\":\"index\",\"scope\":\"13555075928916923436\",\"id\":\"1341855097252115116\",\"type\":\"observable\"},val)) : undefined; return this.valueFromJulia[\"index\"]=false}),self)]\n        \n    }\n    self.model = new AppViewModel();\n    self.valueFromJulia = {};\n    for (var key in json_data) {\n        self.valueFromJulia[key] = false;\n    }\n    ko.applyBindings(self.model, self.dom);\n}\n);\n    (WebIO.importBlock({\"data\":[{\"name\":\"knockout\",\"type\":\"js\",\"url\":\"/assetserver/727383f2a47bd31570b7da84eee7b022dd6d7c78-knockout.js\"},{\"name\":\"knockout_punches\",\"type\":\"js\",\"url\":\"/assetserver/382b41b3b1bd9f26f75861d360bad7f8beea211f-knockout_punches.js\"}],\"type\":\"async_block\"})).then((imports) => handler.apply(this, imports));\n}\n"
                  ],
                  "observables": {
                   "changes": {
                    "id": "8664315435971225050",
                    "sync": false,
                    "value": 0
                   },
                   "index": {
                    "id": "1341855097252115116",
                    "sync": true,
                    "value": 4
                   }
                  },
                  "systemjs_options": null
                 },
                 "nodeType": "Scope",
                 "props": {},
                 "type": "node"
                }
               ],
               "instanceArgs": {
                "namespace": "html",
                "tag": "div"
               },
               "nodeType": "DOM",
               "props": {
                "className": "field interact-widget"
               },
               "type": "node"
              }
             ],
             "instanceArgs": {
              "namespace": "html",
              "tag": "div"
             },
             "nodeType": "DOM",
             "props": {
              "style": {
               "display": "flex",
               "flex-direction": "column"
              }
             },
             "type": "node"
            },
            {
             "children": [
              {
               "children": [
                {
                 "children": [
                  {
                   "children": [],
                   "instanceArgs": {
                    "namespace": "html",
                    "tag": "div"
                   },
                   "nodeType": "DOM",
                   "props": {
                    "id": "container"
                   },
                   "type": "node"
                  }
                 ],
                 "instanceArgs": {
                  "handlers": {
                   "value": [
                    "(function (txt){return this.k.render(txt,this.container)})"
                   ]
                  },
                  "id": "7335939888855063027",
                  "imports": {
                   "data": [
                    {
                     "name": null,
                     "type": "js",
                     "url": "/assetserver/dd22ed1bf1896c2748f3fe616ce0b838adc895c1-katex.min.js"
                    },
                    {
                     "name": null,
                     "type": "css",
                     "url": "/assetserver/46517a424aa5e6cffc1360d7e0848b601c584ee3-katex.min.css"
                    }
                   ],
                   "type": "async_block"
                  },
                  "mount_callbacks": [
                   "function () {\n    var handler = ((function (k){this.k=k; this.container=this.dom.querySelector(\"#container\"); return k.render(\"\\\\;\\\\;\",this.container)}));\n    (WebIO.importBlock({\"data\":[{\"name\":null,\"type\":\"js\",\"url\":\"/assetserver/dd22ed1bf1896c2748f3fe616ce0b838adc895c1-katex.min.js\"},{\"name\":null,\"type\":\"css\",\"url\":\"/assetserver/46517a424aa5e6cffc1360d7e0848b601c584ee3-katex.min.css\"}],\"type\":\"async_block\"})).then((imports) => handler.apply(this, imports));\n}\n"
                  ],
                  "observables": {
                   "value": {
                    "id": "4770155353801957774",
                    "sync": false,
                    "value": "\\;\\;"
                   }
                  },
                  "systemjs_options": null
                 },
                 "nodeType": "Scope",
                 "props": {},
                 "type": "node"
                }
               ],
               "instanceArgs": {
                "namespace": "html",
                "tag": "div"
               },
               "nodeType": "DOM",
               "props": {
                "className": "interact-widget"
               },
               "type": "node"
              },
              {
               "children": [
                {
                 "children": [
                  {
                   "children": [
                    "run"
                   ],
                   "instanceArgs": {
                    "namespace": "html",
                    "tag": "button"
                   },
                   "nodeType": "DOM",
                   "props": {
                    "attributes": {
                     "data-bind": "click: function (){this.clicks(this.clicks()+1)}, css: {'is-loading' : loading}"
                    },
                    "className": "is-medium button is-primary",
                    "style": {}
                   },
                   "type": "node"
                  }
                 ],
                 "instanceArgs": {
                  "handlers": {
                   "clicks": [
                    "(function (val){return (val!=this.model[\"clicks\"]()) ? (this.valueFromJulia[\"clicks\"]=true, this.model[\"clicks\"](val)) : undefined})"
                   ],
                   "loading": [
                    "(function (val){return (val!=this.model[\"loading\"]()) ? (this.valueFromJulia[\"loading\"]=true, this.model[\"loading\"](val)) : undefined})"
                   ]
                  },
                  "id": "12212603291980829008",
                  "imports": {
                   "data": [
                    {
                     "name": "knockout",
                     "type": "js",
                     "url": "/assetserver/727383f2a47bd31570b7da84eee7b022dd6d7c78-knockout.js"
                    },
                    {
                     "name": "knockout_punches",
                     "type": "js",
                     "url": "/assetserver/382b41b3b1bd9f26f75861d360bad7f8beea211f-knockout_punches.js"
                    },
                    {
                     "name": null,
                     "type": "js",
                     "url": "/assetserver/5ab20f1060420992a9b82a65b735dee4d81ef413-all.js"
                    },
                    {
                     "name": null,
                     "type": "css",
                     "url": "/assetserver/1cc0ed62837210b80a182cc3676512f895dab686-style.css"
                    },
                    {
                     "name": null,
                     "type": "css",
                     "url": "/assetserver/2eee816f616df3549d7044d45e744fbf8d42bfa1-bulma_confined.min.css"
                    }
                   ],
                   "type": "async_block"
                  },
                  "mount_callbacks": [
                   "function () {\n    var handler = (function (ko, koPunches) {\n    ko.punches.enableAll();\n    ko.bindingHandlers.numericValue = {\n        init: function(element, valueAccessor, allBindings, data, context) {\n            var stringified = ko.observable(ko.unwrap(valueAccessor()));\n            stringified.subscribe(function(value) {\n                var val = parseFloat(value);\n                if (!isNaN(val)) {\n                    valueAccessor()(val);\n                }\n            });\n            valueAccessor().subscribe(function(value) {\n                var str = JSON.stringify(value);\n                if ((str == \"0\") && ([\"-0\", \"-0.\"].indexOf(stringified()) >= 0))\n                     return;\n                 if ([\"null\", \"\"].indexOf(str) >= 0)\n                     return;\n                stringified(str);\n            });\n            ko.applyBindingsToNode(\n                element,\n                {\n                    value: stringified,\n                    valueUpdate: allBindings.get('valueUpdate'),\n                },\n                context,\n            );\n        }\n    };\n    var json_data = {\"loading\":WebIO.getval({\"name\":\"loading\",\"scope\":\"12212603291980829008\",\"id\":\"4492786335800811996\",\"type\":\"observable\"}),\"clicks\":WebIO.getval({\"name\":\"clicks\",\"scope\":\"12212603291980829008\",\"id\":\"14077398223569134912\",\"type\":\"observable\"})};\n    var self = this;\n    function AppViewModel() {\n        for (var key in json_data) {\n            var el = json_data[key];\n            this[key] = Array.isArray(el) ? ko.observableArray(el) : ko.observable(el);\n        }\n        \n        \n        [this[\"loading\"].subscribe((function (val){!(this.valueFromJulia[\"loading\"]) ? (WebIO.setval({\"name\":\"loading\",\"scope\":\"12212603291980829008\",\"id\":\"4492786335800811996\",\"type\":\"observable\"},val)) : undefined; return this.valueFromJulia[\"loading\"]=false}),self),this[\"clicks\"].subscribe((function (val){!(this.valueFromJulia[\"clicks\"]) ? (WebIO.setval({\"name\":\"clicks\",\"scope\":\"12212603291980829008\",\"id\":\"14077398223569134912\",\"type\":\"observable\"},val)) : undefined; return this.valueFromJulia[\"clicks\"]=false}),self)]\n        \n    }\n    self.model = new AppViewModel();\n    self.valueFromJulia = {};\n    for (var key in json_data) {\n        self.valueFromJulia[key] = false;\n    }\n    ko.applyBindings(self.model, self.dom);\n}\n);\n    (WebIO.importBlock({\"data\":[{\"name\":\"knockout\",\"type\":\"js\",\"url\":\"/assetserver/727383f2a47bd31570b7da84eee7b022dd6d7c78-knockout.js\"},{\"name\":\"knockout_punches\",\"type\":\"js\",\"url\":\"/assetserver/382b41b3b1bd9f26f75861d360bad7f8beea211f-knockout_punches.js\"}],\"type\":\"async_block\"})).then((imports) => handler.apply(this, imports));\n}\n"
                  ],
                  "observables": {
                   "clicks": {
                    "id": "14077398223569134912",
                    "sync": true,
                    "value": 0
                   },
                   "loading": {
                    "id": "4492786335800811996",
                    "sync": false,
                    "value": false
                   }
                  },
                  "systemjs_options": null
                 },
                 "nodeType": "Scope",
                 "props": {},
                 "type": "node"
                }
               ],
               "instanceArgs": {
                "namespace": "html",
                "tag": "div"
               },
               "nodeType": "DOM",
               "props": {
                "className": "field interact-widget"
               },
               "type": "node"
              },
              {
               "children": [
                {
                 "children": [
                  {
                   "children": [],
                   "instanceArgs": {
                    "namespace": "html",
                    "tag": "div"
                   },
                   "nodeType": "DOM",
                   "props": {
                    "id": "container"
                   },
                   "type": "node"
                  }
                 ],
                 "instanceArgs": {
                  "handlers": {
                   "value": [
                    "(function (txt){return this.k.render(txt,this.container)})"
                   ]
                  },
                  "id": "7335939888855063027",
                  "imports": {
                   "data": [
                    {
                     "name": null,
                     "type": "js",
                     "url": "/assetserver/dd22ed1bf1896c2748f3fe616ce0b838adc895c1-katex.min.js"
                    },
                    {
                     "name": null,
                     "type": "css",
                     "url": "/assetserver/46517a424aa5e6cffc1360d7e0848b601c584ee3-katex.min.css"
                    }
                   ],
                   "type": "async_block"
                  },
                  "mount_callbacks": [
                   "function () {\n    var handler = ((function (k){this.k=k; this.container=this.dom.querySelector(\"#container\"); return k.render(\"\\\\;\\\\;\",this.container)}));\n    (WebIO.importBlock({\"data\":[{\"name\":null,\"type\":\"js\",\"url\":\"/assetserver/dd22ed1bf1896c2748f3fe616ce0b838adc895c1-katex.min.js\"},{\"name\":null,\"type\":\"css\",\"url\":\"/assetserver/46517a424aa5e6cffc1360d7e0848b601c584ee3-katex.min.css\"}],\"type\":\"async_block\"})).then((imports) => handler.apply(this, imports));\n}\n"
                  ],
                  "observables": {
                   "value": {
                    "id": "4770155353801957774",
                    "sync": false,
                    "value": "\\;\\;"
                   }
                  },
                  "systemjs_options": null
                 },
                 "nodeType": "Scope",
                 "props": {},
                 "type": "node"
                }
               ],
               "instanceArgs": {
                "namespace": "html",
                "tag": "div"
               },
               "nodeType": "DOM",
               "props": {
                "className": "interact-widget"
               },
               "type": "node"
              },
              {
               "children": [
                {
                 "children": [
                  {
                   "children": [
                    "stop"
                   ],
                   "instanceArgs": {
                    "namespace": "html",
                    "tag": "button"
                   },
                   "nodeType": "DOM",
                   "props": {
                    "attributes": {
                     "data-bind": "click: function (){this.clicks(this.clicks()+1)}, css: {'is-loading' : loading}"
                    },
                    "className": "is-medium button is-primary",
                    "style": {}
                   },
                   "type": "node"
                  }
                 ],
                 "instanceArgs": {
                  "handlers": {
                   "clicks": [
                    "(function (val){return (val!=this.model[\"clicks\"]()) ? (this.valueFromJulia[\"clicks\"]=true, this.model[\"clicks\"](val)) : undefined})"
                   ],
                   "loading": [
                    "(function (val){return (val!=this.model[\"loading\"]()) ? (this.valueFromJulia[\"loading\"]=true, this.model[\"loading\"](val)) : undefined})"
                   ]
                  },
                  "id": "14462575877302147690",
                  "imports": {
                   "data": [
                    {
                     "name": "knockout",
                     "type": "js",
                     "url": "/assetserver/727383f2a47bd31570b7da84eee7b022dd6d7c78-knockout.js"
                    },
                    {
                     "name": "knockout_punches",
                     "type": "js",
                     "url": "/assetserver/382b41b3b1bd9f26f75861d360bad7f8beea211f-knockout_punches.js"
                    },
                    {
                     "name": null,
                     "type": "js",
                     "url": "/assetserver/5ab20f1060420992a9b82a65b735dee4d81ef413-all.js"
                    },
                    {
                     "name": null,
                     "type": "css",
                     "url": "/assetserver/1cc0ed62837210b80a182cc3676512f895dab686-style.css"
                    },
                    {
                     "name": null,
                     "type": "css",
                     "url": "/assetserver/2eee816f616df3549d7044d45e744fbf8d42bfa1-bulma_confined.min.css"
                    }
                   ],
                   "type": "async_block"
                  },
                  "mount_callbacks": [
                   "function () {\n    var handler = (function (ko, koPunches) {\n    ko.punches.enableAll();\n    ko.bindingHandlers.numericValue = {\n        init: function(element, valueAccessor, allBindings, data, context) {\n            var stringified = ko.observable(ko.unwrap(valueAccessor()));\n            stringified.subscribe(function(value) {\n                var val = parseFloat(value);\n                if (!isNaN(val)) {\n                    valueAccessor()(val);\n                }\n            });\n            valueAccessor().subscribe(function(value) {\n                var str = JSON.stringify(value);\n                if ((str == \"0\") && ([\"-0\", \"-0.\"].indexOf(stringified()) >= 0))\n                     return;\n                 if ([\"null\", \"\"].indexOf(str) >= 0)\n                     return;\n                stringified(str);\n            });\n            ko.applyBindingsToNode(\n                element,\n                {\n                    value: stringified,\n                    valueUpdate: allBindings.get('valueUpdate'),\n                },\n                context,\n            );\n        }\n    };\n    var json_data = {\"loading\":WebIO.getval({\"name\":\"loading\",\"scope\":\"14462575877302147690\",\"id\":\"17382980076190531912\",\"type\":\"observable\"}),\"clicks\":WebIO.getval({\"name\":\"clicks\",\"scope\":\"14462575877302147690\",\"id\":\"6866101901347472429\",\"type\":\"observable\"})};\n    var self = this;\n    function AppViewModel() {\n        for (var key in json_data) {\n            var el = json_data[key];\n            this[key] = Array.isArray(el) ? ko.observableArray(el) : ko.observable(el);\n        }\n        \n        \n        [this[\"loading\"].subscribe((function (val){!(this.valueFromJulia[\"loading\"]) ? (WebIO.setval({\"name\":\"loading\",\"scope\":\"14462575877302147690\",\"id\":\"17382980076190531912\",\"type\":\"observable\"},val)) : undefined; return this.valueFromJulia[\"loading\"]=false}),self),this[\"clicks\"].subscribe((function (val){!(this.valueFromJulia[\"clicks\"]) ? (WebIO.setval({\"name\":\"clicks\",\"scope\":\"14462575877302147690\",\"id\":\"6866101901347472429\",\"type\":\"observable\"},val)) : undefined; return this.valueFromJulia[\"clicks\"]=false}),self)]\n        \n    }\n    self.model = new AppViewModel();\n    self.valueFromJulia = {};\n    for (var key in json_data) {\n        self.valueFromJulia[key] = false;\n    }\n    ko.applyBindings(self.model, self.dom);\n}\n);\n    (WebIO.importBlock({\"data\":[{\"name\":\"knockout\",\"type\":\"js\",\"url\":\"/assetserver/727383f2a47bd31570b7da84eee7b022dd6d7c78-knockout.js\"},{\"name\":\"knockout_punches\",\"type\":\"js\",\"url\":\"/assetserver/382b41b3b1bd9f26f75861d360bad7f8beea211f-knockout_punches.js\"}],\"type\":\"async_block\"})).then((imports) => handler.apply(this, imports));\n}\n"
                  ],
                  "observables": {
                   "clicks": {
                    "id": "6866101901347472429",
                    "sync": true,
                    "value": 0
                   },
                   "loading": {
                    "id": "17382980076190531912",
                    "sync": false,
                    "value": false
                   }
                  },
                  "systemjs_options": null
                 },
                 "nodeType": "Scope",
                 "props": {},
                 "type": "node"
                }
               ],
               "instanceArgs": {
                "namespace": "html",
                "tag": "div"
               },
               "nodeType": "DOM",
               "props": {
                "className": "field interact-widget"
               },
               "type": "node"
              },
              {
               "children": [
                {
                 "children": [
                  {
                   "children": [],
                   "instanceArgs": {
                    "namespace": "html",
                    "tag": "div"
                   },
                   "nodeType": "DOM",
                   "props": {
                    "id": "container"
                   },
                   "type": "node"
                  }
                 ],
                 "instanceArgs": {
                  "handlers": {
                   "value": [
                    "(function (txt){return this.k.render(txt,this.container)})"
                   ]
                  },
                  "id": "7335939888855063027",
                  "imports": {
                   "data": [
                    {
                     "name": null,
                     "type": "js",
                     "url": "/assetserver/dd22ed1bf1896c2748f3fe616ce0b838adc895c1-katex.min.js"
                    },
                    {
                     "name": null,
                     "type": "css",
                     "url": "/assetserver/46517a424aa5e6cffc1360d7e0848b601c584ee3-katex.min.css"
                    }
                   ],
                   "type": "async_block"
                  },
                  "mount_callbacks": [
                   "function () {\n    var handler = ((function (k){this.k=k; this.container=this.dom.querySelector(\"#container\"); return k.render(\"\\\\;\\\\;\",this.container)}));\n    (WebIO.importBlock({\"data\":[{\"name\":null,\"type\":\"js\",\"url\":\"/assetserver/dd22ed1bf1896c2748f3fe616ce0b838adc895c1-katex.min.js\"},{\"name\":null,\"type\":\"css\",\"url\":\"/assetserver/46517a424aa5e6cffc1360d7e0848b601c584ee3-katex.min.css\"}],\"type\":\"async_block\"})).then((imports) => handler.apply(this, imports));\n}\n"
                  ],
                  "observables": {
                   "value": {
                    "id": "4770155353801957774",
                    "sync": false,
                    "value": "\\;\\;"
                   }
                  },
                  "systemjs_options": null
                 },
                 "nodeType": "Scope",
                 "props": {},
                 "type": "node"
                }
               ],
               "instanceArgs": {
                "namespace": "html",
                "tag": "div"
               },
               "nodeType": "DOM",
               "props": {
                "className": "interact-widget"
               },
               "type": "node"
              },
              {
               "children": [
                {
                 "children": [
                  {
                   "children": [
                    "reset"
                   ],
                   "instanceArgs": {
                    "namespace": "html",
                    "tag": "button"
                   },
                   "nodeType": "DOM",
                   "props": {
                    "attributes": {
                     "data-bind": "click: function (){this.clicks(this.clicks()+1)}, css: {'is-loading' : loading}"
                    },
                    "className": "is-medium button is-primary",
                    "style": {}
                   },
                   "type": "node"
                  }
                 ],
                 "instanceArgs": {
                  "handlers": {
                   "clicks": [
                    "(function (val){return (val!=this.model[\"clicks\"]()) ? (this.valueFromJulia[\"clicks\"]=true, this.model[\"clicks\"](val)) : undefined})"
                   ],
                   "loading": [
                    "(function (val){return (val!=this.model[\"loading\"]()) ? (this.valueFromJulia[\"loading\"]=true, this.model[\"loading\"](val)) : undefined})"
                   ]
                  },
                  "id": "2516923515365159816",
                  "imports": {
                   "data": [
                    {
                     "name": "knockout",
                     "type": "js",
                     "url": "/assetserver/727383f2a47bd31570b7da84eee7b022dd6d7c78-knockout.js"
                    },
                    {
                     "name": "knockout_punches",
                     "type": "js",
                     "url": "/assetserver/382b41b3b1bd9f26f75861d360bad7f8beea211f-knockout_punches.js"
                    },
                    {
                     "name": null,
                     "type": "js",
                     "url": "/assetserver/5ab20f1060420992a9b82a65b735dee4d81ef413-all.js"
                    },
                    {
                     "name": null,
                     "type": "css",
                     "url": "/assetserver/1cc0ed62837210b80a182cc3676512f895dab686-style.css"
                    },
                    {
                     "name": null,
                     "type": "css",
                     "url": "/assetserver/2eee816f616df3549d7044d45e744fbf8d42bfa1-bulma_confined.min.css"
                    }
                   ],
                   "type": "async_block"
                  },
                  "mount_callbacks": [
                   "function () {\n    var handler = (function (ko, koPunches) {\n    ko.punches.enableAll();\n    ko.bindingHandlers.numericValue = {\n        init: function(element, valueAccessor, allBindings, data, context) {\n            var stringified = ko.observable(ko.unwrap(valueAccessor()));\n            stringified.subscribe(function(value) {\n                var val = parseFloat(value);\n                if (!isNaN(val)) {\n                    valueAccessor()(val);\n                }\n            });\n            valueAccessor().subscribe(function(value) {\n                var str = JSON.stringify(value);\n                if ((str == \"0\") && ([\"-0\", \"-0.\"].indexOf(stringified()) >= 0))\n                     return;\n                 if ([\"null\", \"\"].indexOf(str) >= 0)\n                     return;\n                stringified(str);\n            });\n            ko.applyBindingsToNode(\n                element,\n                {\n                    value: stringified,\n                    valueUpdate: allBindings.get('valueUpdate'),\n                },\n                context,\n            );\n        }\n    };\n    var json_data = {\"loading\":WebIO.getval({\"name\":\"loading\",\"scope\":\"2516923515365159816\",\"id\":\"17237086543952722334\",\"type\":\"observable\"}),\"clicks\":WebIO.getval({\"name\":\"clicks\",\"scope\":\"2516923515365159816\",\"id\":\"4279245758492588836\",\"type\":\"observable\"})};\n    var self = this;\n    function AppViewModel() {\n        for (var key in json_data) {\n            var el = json_data[key];\n            this[key] = Array.isArray(el) ? ko.observableArray(el) : ko.observable(el);\n        }\n        \n        \n        [this[\"loading\"].subscribe((function (val){!(this.valueFromJulia[\"loading\"]) ? (WebIO.setval({\"name\":\"loading\",\"scope\":\"2516923515365159816\",\"id\":\"17237086543952722334\",\"type\":\"observable\"},val)) : undefined; return this.valueFromJulia[\"loading\"]=false}),self),this[\"clicks\"].subscribe((function (val){!(this.valueFromJulia[\"clicks\"]) ? (WebIO.setval({\"name\":\"clicks\",\"scope\":\"2516923515365159816\",\"id\":\"4279245758492588836\",\"type\":\"observable\"},val)) : undefined; return this.valueFromJulia[\"clicks\"]=false}),self)]\n        \n    }\n    self.model = new AppViewModel();\n    self.valueFromJulia = {};\n    for (var key in json_data) {\n        self.valueFromJulia[key] = false;\n    }\n    ko.applyBindings(self.model, self.dom);\n}\n);\n    (WebIO.importBlock({\"data\":[{\"name\":\"knockout\",\"type\":\"js\",\"url\":\"/assetserver/727383f2a47bd31570b7da84eee7b022dd6d7c78-knockout.js\"},{\"name\":\"knockout_punches\",\"type\":\"js\",\"url\":\"/assetserver/382b41b3b1bd9f26f75861d360bad7f8beea211f-knockout_punches.js\"}],\"type\":\"async_block\"})).then((imports) => handler.apply(this, imports));\n}\n"
                  ],
                  "observables": {
                   "clicks": {
                    "id": "4279245758492588836",
                    "sync": true,
                    "value": 0
                   },
                   "loading": {
                    "id": "17237086543952722334",
                    "sync": false,
                    "value": false
                   }
                  },
                  "systemjs_options": null
                 },
                 "nodeType": "Scope",
                 "props": {},
                 "type": "node"
                }
               ],
               "instanceArgs": {
                "namespace": "html",
                "tag": "div"
               },
               "nodeType": "DOM",
               "props": {
                "className": "field interact-widget"
               },
               "type": "node"
              },
              {
               "children": [
                {
                 "children": [
                  {
                   "children": [],
                   "instanceArgs": {
                    "namespace": "html",
                    "tag": "div"
                   },
                   "nodeType": "DOM",
                   "props": {
                    "id": "container"
                   },
                   "type": "node"
                  }
                 ],
                 "instanceArgs": {
                  "handlers": {
                   "value": [
                    "(function (txt){return this.k.render(txt,this.container)})"
                   ]
                  },
                  "id": "7335939888855063027",
                  "imports": {
                   "data": [
                    {
                     "name": null,
                     "type": "js",
                     "url": "/assetserver/dd22ed1bf1896c2748f3fe616ce0b838adc895c1-katex.min.js"
                    },
                    {
                     "name": null,
                     "type": "css",
                     "url": "/assetserver/46517a424aa5e6cffc1360d7e0848b601c584ee3-katex.min.css"
                    }
                   ],
                   "type": "async_block"
                  },
                  "mount_callbacks": [
                   "function () {\n    var handler = ((function (k){this.k=k; this.container=this.dom.querySelector(\"#container\"); return k.render(\"\\\\;\\\\;\",this.container)}));\n    (WebIO.importBlock({\"data\":[{\"name\":null,\"type\":\"js\",\"url\":\"/assetserver/dd22ed1bf1896c2748f3fe616ce0b838adc895c1-katex.min.js\"},{\"name\":null,\"type\":\"css\",\"url\":\"/assetserver/46517a424aa5e6cffc1360d7e0848b601c584ee3-katex.min.css\"}],\"type\":\"async_block\"})).then((imports) => handler.apply(this, imports));\n}\n"
                  ],
                  "observables": {
                   "value": {
                    "id": "4770155353801957774",
                    "sync": false,
                    "value": "\\;\\;"
                   }
                  },
                  "systemjs_options": null
                 },
                 "nodeType": "Scope",
                 "props": {},
                 "type": "node"
                }
               ],
               "instanceArgs": {
                "namespace": "html",
                "tag": "div"
               },
               "nodeType": "DOM",
               "props": {
                "className": "interact-widget"
               },
               "type": "node"
              },
              {
               "children": [
                {
                 "children": [
                  {
                   "children": [
                    "save"
                   ],
                   "instanceArgs": {
                    "namespace": "html",
                    "tag": "button"
                   },
                   "nodeType": "DOM",
                   "props": {
                    "attributes": {
                     "data-bind": "click: function (){this.clicks(this.clicks()+1)}, css: {'is-loading' : loading}"
                    },
                    "className": "is-medium button is-primary",
                    "style": {}
                   },
                   "type": "node"
                  }
                 ],
                 "instanceArgs": {
                  "handlers": {
                   "clicks": [
                    "(function (val){return (val!=this.model[\"clicks\"]()) ? (this.valueFromJulia[\"clicks\"]=true, this.model[\"clicks\"](val)) : undefined})"
                   ],
                   "loading": [
                    "(function (val){return (val!=this.model[\"loading\"]()) ? (this.valueFromJulia[\"loading\"]=true, this.model[\"loading\"](val)) : undefined})"
                   ]
                  },
                  "id": "13517765429887548921",
                  "imports": {
                   "data": [
                    {
                     "name": "knockout",
                     "type": "js",
                     "url": "/assetserver/727383f2a47bd31570b7da84eee7b022dd6d7c78-knockout.js"
                    },
                    {
                     "name": "knockout_punches",
                     "type": "js",
                     "url": "/assetserver/382b41b3b1bd9f26f75861d360bad7f8beea211f-knockout_punches.js"
                    },
                    {
                     "name": null,
                     "type": "js",
                     "url": "/assetserver/5ab20f1060420992a9b82a65b735dee4d81ef413-all.js"
                    },
                    {
                     "name": null,
                     "type": "css",
                     "url": "/assetserver/1cc0ed62837210b80a182cc3676512f895dab686-style.css"
                    },
                    {
                     "name": null,
                     "type": "css",
                     "url": "/assetserver/2eee816f616df3549d7044d45e744fbf8d42bfa1-bulma_confined.min.css"
                    }
                   ],
                   "type": "async_block"
                  },
                  "mount_callbacks": [
                   "function () {\n    var handler = (function (ko, koPunches) {\n    ko.punches.enableAll();\n    ko.bindingHandlers.numericValue = {\n        init: function(element, valueAccessor, allBindings, data, context) {\n            var stringified = ko.observable(ko.unwrap(valueAccessor()));\n            stringified.subscribe(function(value) {\n                var val = parseFloat(value);\n                if (!isNaN(val)) {\n                    valueAccessor()(val);\n                }\n            });\n            valueAccessor().subscribe(function(value) {\n                var str = JSON.stringify(value);\n                if ((str == \"0\") && ([\"-0\", \"-0.\"].indexOf(stringified()) >= 0))\n                     return;\n                 if ([\"null\", \"\"].indexOf(str) >= 0)\n                     return;\n                stringified(str);\n            });\n            ko.applyBindingsToNode(\n                element,\n                {\n                    value: stringified,\n                    valueUpdate: allBindings.get('valueUpdate'),\n                },\n                context,\n            );\n        }\n    };\n    var json_data = {\"loading\":WebIO.getval({\"name\":\"loading\",\"scope\":\"13517765429887548921\",\"id\":\"14160130362020212486\",\"type\":\"observable\"}),\"clicks\":WebIO.getval({\"name\":\"clicks\",\"scope\":\"13517765429887548921\",\"id\":\"4879985750751193038\",\"type\":\"observable\"})};\n    var self = this;\n    function AppViewModel() {\n        for (var key in json_data) {\n            var el = json_data[key];\n            this[key] = Array.isArray(el) ? ko.observableArray(el) : ko.observable(el);\n        }\n        \n        \n        [this[\"loading\"].subscribe((function (val){!(this.valueFromJulia[\"loading\"]) ? (WebIO.setval({\"name\":\"loading\",\"scope\":\"13517765429887548921\",\"id\":\"14160130362020212486\",\"type\":\"observable\"},val)) : undefined; return this.valueFromJulia[\"loading\"]=false}),self),this[\"clicks\"].subscribe((function (val){!(this.valueFromJulia[\"clicks\"]) ? (WebIO.setval({\"name\":\"clicks\",\"scope\":\"13517765429887548921\",\"id\":\"4879985750751193038\",\"type\":\"observable\"},val)) : undefined; return this.valueFromJulia[\"clicks\"]=false}),self)]\n        \n    }\n    self.model = new AppViewModel();\n    self.valueFromJulia = {};\n    for (var key in json_data) {\n        self.valueFromJulia[key] = false;\n    }\n    ko.applyBindings(self.model, self.dom);\n}\n);\n    (WebIO.importBlock({\"data\":[{\"name\":\"knockout\",\"type\":\"js\",\"url\":\"/assetserver/727383f2a47bd31570b7da84eee7b022dd6d7c78-knockout.js\"},{\"name\":\"knockout_punches\",\"type\":\"js\",\"url\":\"/assetserver/382b41b3b1bd9f26f75861d360bad7f8beea211f-knockout_punches.js\"}],\"type\":\"async_block\"})).then((imports) => handler.apply(this, imports));\n}\n"
                  ],
                  "observables": {
                   "clicks": {
                    "id": "4879985750751193038",
                    "sync": true,
                    "value": 0
                   },
                   "loading": {
                    "id": "14160130362020212486",
                    "sync": false,
                    "value": false
                   }
                  },
                  "systemjs_options": null
                 },
                 "nodeType": "Scope",
                 "props": {},
                 "type": "node"
                }
               ],
               "instanceArgs": {
                "namespace": "html",
                "tag": "div"
               },
               "nodeType": "DOM",
               "props": {
                "className": "field interact-widget"
               },
               "type": "node"
              }
             ],
             "instanceArgs": {
              "namespace": "html",
              "tag": "div"
             },
             "nodeType": "DOM",
             "props": {
              "style": {
               "display": "flex",
               "flex-direction": "row"
              }
             },
             "type": "node"
            }
           ],
           "instanceArgs": {
            "namespace": "html",
            "tag": "div"
           },
           "nodeType": "DOM",
           "props": {
            "style": {
             "display": "flex",
             "flex-direction": "column"
            }
           },
           "type": "node"
          },
          {
           "children": [
            {
             "children": [
              {
               "children": [],
               "instanceArgs": {
                "namespace": "html",
                "tag": "div"
               },
               "nodeType": "DOM",
               "props": {
                "id": "container"
               },
               "type": "node"
              }
             ],
             "instanceArgs": {
              "handlers": {
               "value": [
                "(function (txt){return this.k.render(txt,this.container)})"
               ]
              },
              "id": "7335939888855063027",
              "imports": {
               "data": [
                {
                 "name": null,
                 "type": "js",
                 "url": "/assetserver/dd22ed1bf1896c2748f3fe616ce0b838adc895c1-katex.min.js"
                },
                {
                 "name": null,
                 "type": "css",
                 "url": "/assetserver/46517a424aa5e6cffc1360d7e0848b601c584ee3-katex.min.css"
                }
               ],
               "type": "async_block"
              },
              "mount_callbacks": [
               "function () {\n    var handler = ((function (k){this.k=k; this.container=this.dom.querySelector(\"#container\"); return k.render(\"\\\\;\\\\;\",this.container)}));\n    (WebIO.importBlock({\"data\":[{\"name\":null,\"type\":\"js\",\"url\":\"/assetserver/dd22ed1bf1896c2748f3fe616ce0b838adc895c1-katex.min.js\"},{\"name\":null,\"type\":\"css\",\"url\":\"/assetserver/46517a424aa5e6cffc1360d7e0848b601c584ee3-katex.min.css\"}],\"type\":\"async_block\"})).then((imports) => handler.apply(this, imports));\n}\n"
              ],
              "observables": {
               "value": {
                "id": "4770155353801957774",
                "sync": false,
                "value": "\\;\\;"
               }
              },
              "systemjs_options": null
             },
             "nodeType": "Scope",
             "props": {},
             "type": "node"
            }
           ],
           "instanceArgs": {
            "namespace": "html",
            "tag": "div"
           },
           "nodeType": "DOM",
           "props": {
            "className": "interact-widget"
           },
           "type": "node"
          },
          {
           "children": [
            {
             "children": [],
             "instanceArgs": {
              "namespace": "html",
              "tag": "div"
             },
             "nodeType": "DOM",
             "props": {
              "className": "webio-observable",
              "setInnerHtml": "<img src='data:image/png;base64,iVBORw0KGgoAAAANSUhEUgAAAa4AAAGuCAIAAABHl3XNAAAABmJLR0QA/wD/AP+gvaeTAAAgAElEQVR4nOzdd1hUR9sH4B9LsYvdYAPRqIAdUBHEhl1MLBgbahKDMZ8BU9E00fiqJHkjGo2xxYglBoyJQGxoNIolRqKIoKJib6CCSBXY+f5gX5ddz8KW03Z57ovLa3fO7syDLA9z5syZsWKMgRBCqjaF1AEQQoj0KBUSQgilQkIIoVRICCGgVEgIIaBUSAghoFRICCGgVEgIIaBUSAghoFRICCGgVEgIIaBUSAghoFRICCGgVEgIIaBUSAghoFRICCGgVEgIIaBUSAghoFRICCGgVEgIIaBUSAghoFRICCGgVEgIIaBUSAghoFRICCGgVEgIIaBUSAghoFRICCGgVEgIIaBUSAghoFRICCGgVEgIIaBUSAghoFRIiF5KS3H4sNRBEAFRKiSkMkVFmDgRV65IHQcREKVCQiqUnY3BgxEdDW9vqUMhArJijEkdAyFyde8ehg/H2bNo1AgZGbCykjogIhQbqQMgRK6uXsWQIbh6FQC8vSkPWjY6QSaEyz//wMtLlQcBOju2eJQKCXnBgQMYOBCZmeoSHx/poiFioLFCQjRt2YI33kBxsbqkenU8eQI7O+liIoKjXiEh5SxfjmnTNPIggB49KA9aPEqFhAAAGENoKObMgVKpfcgcz46/+UY7oZMKUSo0B1Om4NdfOX5FCV9KSjBjBr76ivuo2V0zOXkSH32E/v1x757UoZgNSoWyp1Rixw6MG4eXX8by5cjPlzogS7R5M376ifuQQgEvL1GDMd2PPwLAsWPw8MDx41JHYx7osons3bmDFi3UTxs3xjvvYPZsNGokXUyW6N9/8e67HImjc2ckJUkRkLEKCtCsGbKzVU9tbLBoEUJDJY3JDFCvUPauXdN4mpmJBQvQogWmTkVamkQxWaLu3ZGQgE2b8NJLGuVmN1AYFaXOgwBKSjB3LgIDUVAgXUxmgFKh7GmlwjJFRdi8GS4u8PfHyZOix2ShrKwwdSquXMH8+epLxmY3ULhhA0fhli3w9sb162IHYz4oFcoeZyoso1QiLg5eXvDxQWwsaKyDF7VqISwMyckYNgwwt1R4+TISErgPnTkDT08cOCBuQGaDUqHs6fOX/NgxjBqFLl2wdi2KigQPqSpo1w67d+OPP+DoKHUohvjxx4r+Ij58iKFDER4uYkBmgy6byN6AATh0qKIX2NujUyd07IguXdCxI7p3R82aYgVH5KSkBI6OuHu38ldOmID161GrlvAxmQ1amUb20tM1ntrYoFUruLrC3R1ubnB1hYsLFNS7J8DNmxg8GNnZyMpS/5uTw/HK7dtx4QJ27oSzs+hRyhT1CuWtpATOznBxQZcuqq6fmxvdBEYMUFqqnRyzslQPrKzw8ceoV0/qEGWBUiHfGENhIWrUkDoOQogB6MSKbxs3YuxYlJZKHQchxADUK+TV/ftwdUVWFj7+mK7TEWJGqFfIq9mzkZUFAF99hfXrpY6GEKIv6hXyJzYWo0apn9raIj4efftKFxAhRF/UK+TJkyeYNUujpLgY48ZpT4UhRBwbNiA3V+ogzAmlQp588AHu3NEufPgQ/v548kSKgEgV9vQpZsxAs2aYOpXutNMTnSDz4fBhDBig84anYcMQGwtra3FjIlXYtWsac6ddXTF1Kt56Cw0aSBeT3FGv0GT5+Zgxo6IbP69cQXKyiAGRKu/RI42nqamYOxfNm2P8eEvrJJaU8FUTpUKTffGFerfc8hQK+PkhJgaXLqFrV9HDIlWYViosU1iI6GgMGgRXV4SHc7/G7Ny6hWHDsHYtnj41sSZKhab55x9ERGgXNm2K0FCkpyM+Hv7+sLKSIjJShT18WNHRCxcwdy5atFB1Es16iKx1a4wejZkz0aQJxo9HbKzR/UQaKzRBSQl69MCZM+oSd3cEB2PiRNjaShcWqfK++w7Bwfq+2N8fq1ahZUshAxJYQAB27FA9btYM48Zh+nR062ZQHZQKTfDll/jiCwCoWxcTJmD2bHTqJHVMhADz52PhQp1Hra3Rvj18fODtjb59zWxBRk4PH6JzZ+3t/couFk2bpr1Dgw6UCg3x4AEANG0KQDUC2Lo1Zs7Em2+idm1pQyNEbfZsrFqlUVK7Nrp0UaU/X1/Y20sUmWD278fQoRwn+9bW6N8fgYEYO7bi9RkpFb4gKwtnzuDOHdy9i7t3cecO7t3D7du4fx/PniEiAiEhALB6Nbp0Qe/eUodLyAsmTsT27XBwUOU+Hx9062b5i1q++y5WrtR51N4e48dj+XJdq0ZRKnzBvXtwcsKzZ9xHExLMbLMLUgWdOoXmzdG8udRxiKuwED16VDRx7YMP8M03ug5SKuQyaRJ+/pmj3NoaT57QMuiEyNSZM+jVi7sf06sX/vqrgmWPLb3PbJx33+Uud3WlPEiImtx24u7Wjft6UZMm2LGj4uXfKRVy8fKCpydHuYeH6KEQIld796JrVyQlSR2Hpo8+Qv/+GiUKBTZvrnS4gFKhDrNncxS6u4seByGytG8fRo9GQYFqPpl8KBSIjET9+uqShQsxeHCl76OxQh2ePYOjI+7f1yg8eRI9e0oUECGysX8/XnkFhYWqp8eOyW4qxY4dCAgAgOHDERurz9Vz6hXqYGeHoCCNEltbdO4sUTSEyIZWHgQwd6500egwbhwmTUKrVti0Sc9ZRNQr1E1rVk23bvj3X0kDIkRqL+bBMvv26XMSKqrsbFy7pv/td9Qr1M3BAWPHqp9yXkghRHznzuHuXQnajY/Hq69y5EEAn3wiu2Ud6tUz6DZkSoUVKj+rhq6ZEJlo0QLduuGXX0Rt9PZtjBuHggLuo4mJ+PVXUePhG6XCCnl5oUcP1WOaSUNkokED9OiBCRMwdSry8kRqtEULJCcjKAg2Ntwv+PRTHhdSFR+lwsqUzaqpVg0dO0odCiH/M3kyAGzeDE9PnD0rUqOtWmHNGiQnIzCQ41pEWho2bxYpEgHQZZPKlM2qadUKf/8tdSiE/E9+Pl56SbV0c/XqCAvDRx+JuuDC+fNYuBDR0RqFrVohLQ3VqokXBn+oV1iZslk1dHZMZKVmTbz6qupxYSHmzsXQodoL9gmqY0dEReHECQwYoC68eRM//CBeDLyiVKiHt9+Gl5fUQRBLd/Uqx/6xFSg7R34uPh5du2L3bn6DqkSvXjh4EEePok8fVcmiRaZvMyIJSoV6cHDAhAlSB0EsUUYGoqMxcyacndG2LRITDXivn59qFeHytY0ciZAQFBXxG2YlfHxw5Aji49GtGx4+5NjtxxzQWCEh4srLw4kTOHAABw7g3381puMdPKhxvlmp4GB89x1HeceO2LZNgu0llEr8+iuWLsWePWjSRJAm3nsPDx+iZ094eaFLF52Xsw1HqZAQ4ZWUIClJlf6OHNG5MLChN7n//Td69eI+VKMGlixRrbgusuJiPH6s3WPly9tvY80a1eOye2G9veHuDl9fODmZUjFvOZUQou3cOezZg4MHkZCgc3JyeYbukNOzJ15+GZcvcxwqKsLjx1AqJVjH39ZWqDwIaHQ2i4uRmKgeVXBwgLu7ag8DDw9Ur25QxTRWSIhgHB3h4ADGuG9We5ERm4VNnMhR2Lgxdu/GggUWuJ9J48Y6D927h7g4zJ2LPn1Qvz68vfHBB0hP17Nii/ufIkQ+7O0xdSri43HzJiIi0KVLJa83IhUGBmqX9O2Ls2cxZIjBVZkFPYcgbW3RsSOmToWzs54V01ghISJKScHmzfjpJ9VGsloKC42Zn+zpidOnAcDKCh9/jP/8B9bWpsYpW4cOVXJlycXFuP14KRWarZwcODnB1RXu7nBzg6srundHzZpSh0X0UFqKQ4cQGYmdO9U3ESsUKC01praICLz3Hho3RmQkhg7lMUw5SknhvgW2WjWMGoWgIPj5GVcxpUJz1rAhHj9WP7WxQbt26NQJnTtjwACd1xaJfDx5gl27EBGBM2dgY4PiYmMqycjApEmIjESzZnzHJz+ZmdrnyG3bYsYMvPkmGjUypWJKhebM3V3narLR0Rg3TtxoiLECA7FlC+zskJNj5A28jMHKiu+wZEmpRLVqKCmBtTX690dwMEaO5OV7p8sm5qx1a+7yzp0xZoy4oRBj5eXh998B4Nkz45f8qDgXnDqFnBwja5YbhQIdOyI0FOnpiI+Hvz9ffwNoXqE50zWndMkSC5xFYamio5Gbq3r855/w9eW/ierV4eGBqCh07cp/5eL7918husD0C2POOHuFvXtj+HDRQyHGioxUP/7zT0Ga6NwZ1tbw8sLy5YLULzJhhgIoFZozzl7hokV6vTcvD//8w2s0xHA3b+Kvv9RP//5bqFWpx4xBYSHmzMGUKepOKCmHUqE5e7FX6OeH/v0rf+Pdu+jXj3vbeyKmzZuhVKqfPnuGhARBGnq+YdnWrfDwwLlzgrRizigVmrPWrbVPFr78svJ3nT2LXr1w+jROnVJNzSVS2bJFu0Sgc+Tu3dG2rerxpUvo2RNr1wrSkNmiVGjOatTQmGM1alTlcwmjo+HtjVu3VE+//16o2Eil/v4bFy9qFwqUCgGNnWwLCzFzpqi7RMkepUIzV3640MmpoiXdGUN4OCZMQH6+unD7djx6JFx0pCLlL5g8d+YMsrIEaa58KiyzeTM8PHD+vCDNmRtKhWbu+XChmxtWrECLFvDxwfLlePhQ42VFRZg6FXPnaoxMASgowE8/iRMp0fDsGaKiOMpLSzUupPDI05NjbYKLF+Hlha1bBWnRrFAqNHNlqdDaGlFR6NcPSiWOHcOcOWjRAv7+iIxEXh7u3YOvL8ewVJnVq7XzIxFBXJz2n6vnhDtHHj2aozA3F1OmYOpUjdMFWRHlkjelQjNXdoI8bRpcXbF5Mxo0UJUXFSEuDtOmoVEjtG2LU6d01nD1KvbvFyFSoqGCLYOFS4UV3Iu5ZQs2bBCqXROdPCnCRnp0D7KZi4/HyJG4eFHVPfz1V2NuPfb3R0wM76GRijx5gidPkJeHvDxkZyM3V/U4Kwt5efj8c9ja8t8oY3Byws2b2uWNG2PDBvj7898iLy5eROfOiIvD4MHCNUI33pk5JycEBalHDMeOxVtvYd06fd/epAmaNEFREfLzq8QCX3l5qFlTFisX2NvD3l7sRq2sMGaM9o50fn7YtEnWq9q0bIniYowbh6NHK1/+1ljUKzRzz57h0SM4OKhLCgvh6anzsqC1NZYsgZcXmjVDy5aCdD3kJj8f//6LY8dw4AD8/BAaKnVAkkpIUO9ZXK0aFizARx+ZwR3r9esjOxvNmuHkSbRsKUQLlAqFxBjeeQdLlqBePVHbPXYMfn7c+2ksW4Y5c0QNRhIFBUhMVKW/o0dV+wK/8YZ8h8NEo1SiVSvcuQMXF2zdim7dpA5IP507IzkZADp2REKCEB1qSoVC2rkTY8eie3fs34+GDUVt+rvvEBysXThiBGJjZXF6KITyG2wmJGj/JejfH3v3ws5OouDkJDgY2dlYvRq1akkdit6GD8eeParHQ4YgLo7HHZDLUCoUDGPo1g1JSQDQtSvi401cZdfg1kePxq5d6pKWLXHmjNgZWWglJTh+HIcO4fBhnDypc2O5Ll1w5Ajq1hU3OLkqLDR0Y0zpzZypcafgm29i/Xp+W5D9GIH5iopS5UEAZ8/C17eiW0HKS0qqaO6LnqyssHEjWrVSPbWxwc8/W1oeBGBlhTlzEBaGw4d15sFmzRAbS3lQzezyIIDmzTWebtiAxYv5bYFSoTBKS7FggUbJhQvo3x9371byxsePMWYMP+dx9etj82bV5meLF8Pbm4c65cbaGmvWVDTqX6cOdu8WaKCdiOfFn+Bnn1U0N9NwlAqF8fPPuHBBu/DSJfTvj9u3db5LqcSUKUhP5+0yi68vQkMxbBg+/FBVkpOD7dsxZQo/9cuBpyfeeov7kK0tduwQbvoFEU+LFtoljGHGDBw8yFcLNFYogNJSuLnh0iXuo05O+PNP7gWoP/kES5YAQFYWb9mwpARPn0KpxB9/IDoa8fEoKoKdneqiqmXIykKHDsjI0Ci0ssKGDXj9dYliIry6cAGurhzl9vZISODeDtRAlAoFsHEj3nijohe0aoU//0SbNhqFu3Zh9GgwBoUCxcX8TPW6eRN79yI2Fnv3oqREXW70PpOyFRmJadM0SubPR1iYNMEQ3uXmok4d7kNOTjh5Ek2bmtgCpUK+FRejQwekp1fyspYtcfAgXn5Z9TQtDT164MkTAKhXz9RlmtLTERuL6GgcPw7On6+1tUZmtACMwc9PfffuxInYutVipw1VTWWzrF/Uowe++UY9b9xYlAoFkJWFlBSkpqr+TUpCZibHy156CQcOwM0Nubno2ROpqapyJydcu2ZMuykpiI5GVBTHMKUWhQKlpcY0IWdpaejcGUVF6NcPe/cauaEwka1OnTTuoVIoMHw4QkLg58dL9ZQKRVGWHBMTVfkxKUm17lDTpti/H4sWITpa/eKuXXHmjMFN7NqF77/H4cN49qzyF1tZWebCXPPmISYGx46JfXsPEcHzWdZ162L6dLz/PhwdeayeUqEUGMO1a0hJQUoK4uJw7JjG0X79cOiQkTXn5+PgQcTF4ffftS8jvBiD5cnPx+PHHFcbiQUICsKff+KttzBzphB/6igVSurgQQwZon2u+uqr+O03U2suLcWJE4iLw2+/IS2N4wVKJQ2lEXNy9y5eekm4lSMoFUrn5k24u3MsZTx9OjZu5LOhsr5nbKzGVZTSUjNYj4QQsdAvg0QKCzF2LPeS7rx3/t3cEBqKhATcv49NmzByJKpVs8wTZEKMRalQIv/3fzr3IBZuRc8mTTB1KmJjkZlJXUJCyqPfhxeI0F1SKjF8OEaMUN0grEWEq5916tBAISHlUSp8waVLmDULd+4I2IRCgbFjEReHW7cQEYFOnTSO0kQQQkRHqfAFHTqgoADOzpg5U9iECMDBASEhOHcOp08jKEh1axGlQkJER1eQudy5g3btkJ8POztMn44vvtBeLk0gubmIikKvXtx3nhNCBEOpUId587B0qeqxyAmRECI6SoU6PH2Ktm01btighEiI5aKxQh3q1MGnn2qUPHuGtWtFGkMkhIiLeoW6FRfDzQ2XL3Mcoh4iIZaFUmGFoqMxfrzOo9Wr4+hReHiIGBAhMsAYIiNx/z6ys6FUqv598kS1ZPqzZ8jLQ2EhCgqQn4+iIuTmYtEifPyx1HFXhFJhZby9cfw496GFC/H55+JGQ4g8ZGVh7lysW6fvLQlnz8p8kxkaK6zMN99w35jx3nuUBwlvwsLMbAC6fn2sWYPdu+HkVPmLmzZF586Ch2QacVNhUhLeeQebNuHiRbNZDsDLC6+8ol347rv49lspoqmQnvssE7m5cweLFqFbNxw+LHUoBho6FCkpCA3lvoX0ucGD5X+jp7ip0Noaq1dj+nS4uKBePfj4YO5cxMZyL9AiH0uXwtZW/fT117F8uXTR6HD5MkJDpQ6CGGXDBpSWIjMTgwbhu++kjsYQDx/ijz9w9y5q1kTt2jpfNmiQiDEZi4npwQMGcHxZWbEOHdiJE6IGY5BZs1ShBgay0lKpo3nB5cuseXMWHCx1HMRwpaXM0VHj1yEoiBUVSR2WbqWl7PRptnQp8/ZmCoU67P792dKlrFo1jt/uu3elDrpy4qbC0lJmY8OdDV1dWXGxqMEY5MEDVrcuGzNGjkHeuMGcnBjA1qyROhRiuD17OH4dvL3ZvXtSR6YpN5fFxLCgINasGfev8JAhjDF2+TLr31+jvEsXqUPXi7gnyAoFGjbkPrRsGWxsRA3GIE2aYPt2bN8uuyBv30b//rh+HQDc3CQOhhhh3TqOwmPH4OGBf/4RPZoXpKdj+XIMGoQGDTBqFNauxd273K8sG0Rq2xYHD2LNGtStqyofMkSkUE0kdu7t1Inj74m/v9hhWIb791mHDur/xkePpA5Ib9evSx2BKEpLWWIiy87W+YJ795itLXcnC2AdO7L8fIMb5as7WVDAPv+c1a+vMzytr9GjNd5+9y4bM4YBLD6en3gEJvpkmhc3sbe1xddfix2GBcjMxIABuHhR9bRZMzRoIGlAhli1ioetrORPocCQIahXDw0awMMD48dj7lysXYsDB5CeDqUSP/2E4mKON1pZISgIJ06gRg2DG120CGvXmh47qlfHwoXIzMTRowgORuPGlby+/KVFAA4O+PVXREXBx4eHYEQgdu6dNEn7j8l774kdgwXIzNTuXw8aJHVMhvjxR2Zry3bulDoO4fXtq7MbZWfH3SVs3Zr9+afxLe7dq7q+l5vL37fBWEkJO3qUBQezxo25v53Jk/lsTnRS9wobNNBe9YBUKjsbQ4ciOVmj0LwGCrt0QXExAgKwfbvUoQisgp/Ls2ccXcLAQJw7h/79jW9x4EA0bozNm+Hhof0hMYW1NXx8sHw57t1T9RMbNdJ4gVav0NyIngqbNNF4unChzgsphFNODoYMQWKidrl5pUI3N9jaorQUU6ZYeDbU/+fSqhX+/BORkRVN0NOHjY3qpoCLF9GjB/9zYJ/nxPv3cfQogoJUG5PpSoW5ufjhB55jEILY3dANG9Q9ahcX9uyZ2AGYtdxc5uvLfXpy/LjUwRnIzU0VubU127ZN6mgEc/hw5RccrKxYUBB7+pS3Rvft06g/MJDPyl9UWMhiYlhUFMehtDTWsSOzsZHd3KAXiJ4K4+LUP6E9e8Ru3azl5bF+/XT+Ot27x27fljpEQ0ycqA7egrPhw4fcPy9ra/XI4MGDPDdaXKw9ote+PUtK4rmVSsXGsnr1VAF8+63YrRtIuhPkESMwdKjYrZu1detw5Aj3oRYtUFBgZqOu5dcpKS1FYCB+/lm6aATTsKH2+LitLQID0bq16jLxuXMYMIDnRm1s8OqrGiWXLqFnT/FuGGUM4eF45RVkZ6tKfvxRpKaNJnbuvXGDAczGhp0/L3bTFuD8eRYYqHG3E/430f/4caZQsH/+kTpEvb14l4Wl9g0HDlR9gwoFCwhgly+zI0eYkxP/ncHy9u/n7o1OmSLsyTJj7NEjNmQIR9OnTgnbrmkk6hW+846ZDfPLhJsbIiORlISAAI2lPtzccP8+lEp8+KF0wRnoxVWbyvqG27ZJEY2Q3NygUCAgABcuICoKbdtCqcT58/x3Bsvr31/7EmWZLVvg4YGkJKHaPXsWnp7Yt4/j0MaNQjXKCwnSr6Mje/hQgnYtzLlzLCCAWVkxgG3YwL7/XvW397ffpI5Mb02acA+ibd0qdWS6KZVs716WlWXAW06cYBcuCBaQbkFBOkeWa9QQZOgwJ4c5O+tstF49Y26eEYsUS7d+/z1NoOFBp06IisKZMwgIgJsbHjxQlX/4IZ49kzQyvXXqxFFYWoqpU+XYN8zNxdq16NQJQ4ciPd2AN/bqhQ4dBAtLt4AA7nJ7e/z4oyBrqdapg8REBAZyH83OlvMtRlKkwuHDJWjUUnXpgqgo9OyJ+/dVJVevYvVqSWPSm64V3q2scOQISkvFjUa3q1cxdy4cHTFzJlJSAOhckkBWOM+Re/XCmTOYMEGoRuvVQ2QkoqK4uzsyPkemBf0tRfklrBcswKNH0oWitxc7JlZWGDkS//6LH36oZGFkcSQkYPx4tG+P8HA8fqwuN4tUaG2N0aPVT21sMH8+EhLQurXgTQcEICUFo0Zplx88aFiHWkSUCi3F814hgKws/Oc/0oWiN61eoZ8f/vkHsbHcJ85iKjsX7tgRffogOpqjf2oWqRDlzpFbtcKhQwgLE+8PTNOm2LULmzahTh11IWPYvFmkAAwl9WCl1DIy2Pz5bNIkqeMwWatWGkPUtrYsLU3qmCpTVMTs7BjAvLxMWoCAR1eusNBQ1qBBJfeHvPWW1IHqp6SENWnCxo5ljx9LFsO1axq3Bjg5yXEdeAnuNjFOZiY7eJBFRLD163mr8+pVFhzMatZkAGvXjrdqJaFUciykPmaM1GHpITCQ/fGH1EEwxhg7epQFBKhvAqn4a8QIqcPVm/g3mbxIqWRr1qh+1wBhJ1QaS5b7IBcXIy0NqalISUFiIlJT1eMLc+Zg2TJT6//3X0RE4OefUVKiKqlWDfn5UJjtcMHjx9yj1AcOYOBA0aMxQ0VFOHUKp0+rvi5frmRHxq5dceaMWMFZitRUTJuG06cxZYoMT5PlkQrv3lWlvLLcd+mSzquHy5cjONjIVhjDwYNYvhxxcRxHb99G8+ZG1iy51FTuKevduuH0aTNO8VJ5+hRJSUhMVH1duKCdGZs0Uc9eIvorKcF//4vFi3HjBurVkzoaDVKnwsREvPWWAX9gY2Lg729kW1euoEcPZGVxHz161GyW233Rn3/q7P1FRuqc50X09OQJkpPVmTE1FVZWKCyEnZ3UkZmn06eRm4t+/aSOQ4Ok/YXbt/HwIU6fRkwMevfW6y2mzANo2xZ79qBWLe6jZTslmanyl4+1zJuHvDwRQ5GC0H/O7e3h44OQEERGIiUF9+8jNlZG0x7NjoeH3PIgAHH3b8vOxvnzSEzEsWNISMC9e3BxQWoq/P3h74+EBKxYgZ07K/qQOTmZFEDPnvj5Z4wZox4lfO7aNZNqllb5SYUAatVC165wd1d96cr+5q6wEPHxiI5G3bpYuVK8dps2xYgR4jVHRCFKKty0CbGxOH0aN25oH3JwUD/28YGPD65cwXffYe1aFBZqv7hxY1MX+AXg74/vv0dQkHa5WfcKHz6Eq6s69/XoYcnnbqWlOHQIkZHYtQs5OQAEvHeCVBmipEIrK/z6K/ehF69UtG2L5cvxySdYvRorVmgM7fE1S/6tt3DnDhYs0Cg0617h4sVYskTqIASmVOL4cURHY/t2ZGRoHCoqkigmYjlEGSucMgXu7tyHmjXjLm/aFGFhuHEDERFo2VJV6OysV3N37qCgoJLXhIVh9myNErPuFZZfsMvyJCYiJATNm6NPH6xYoZ0HQamQ8EDIVDh7Nlxd4eWFYcM0br4pr7QU6el4/Jh7fJDTJKMAACAASURBVLBOHYSE4MoVbNoEN7dKeoXPniE2FuPHY9487t1jFy9Gaqr6aUQExoxRP711i2MAkUgoJQVhYWjTBh4eWLGioktDMkyFqakICxP8eg7hkYDTt1eu1GviftmXgwPbtaui2pRKlpnJfSglhYWGqjZzcHBgjx5xvCY1ldnasubN2Y0b6sL8fObjo47h2jXjv1nCo+JiFh6ufSthBV/e3lJH/IJZsxjAAgLkvEIfKU/IVJicrNfnWKFgQUEsO9vg+rOy2Jo1zNtbXZWVlc67uIYOVb3GzU3jfszsbNa5s+rQoUPGfaNEKFevsjVr2MiRrHr1ij5Cnp5SB6opJ4fVrauKrVcv9uCB1AGRygmZCpVK7mWKy3917Mj+/tuwaktLWXw8CwxU39L4/GvmTO63REVpvMzXlxUUqI/evq3qgPz4o/HfLBFUfj6Lj2ehoczdneNT1KmT1PFpWrZMI7zWrVlKitQxkUoIvBzD2LGVpEKDdpy5eZMtXcpat+auqnVrlpPD8a78fObkpP3iUaNYSYn6NSkprEED9sUXpn6/RARlXcWAAHXPS1araSiVrF077c9bnTpyWXXCYuTns7/+4rE+ga8g9+1b0dEGDfSdJ3j9Ovr3h6Mj5s7lnvWiUGivjPbcokUcV4djYjSuILu64o8/6K5S8+DsjKAgREXhwQPs34/339d3aoE49u5FWpp24dOneOUVrFolRUCW6MIF9OrF83VOHtMqh3PnOM6In581d+yobz1KJQsIqKh3+dFH3G+8cqWiYabFi7VfTIiJhg2r6IMaHCzP1frMyaZNrFYt9tJLGid2JhM4FSqVrFEj1YfA2prVrs1On2br1qlKBg82oKqnT5mrK/fHy8VFY+yvvBEjKvpcWlmxDRt4+UaJXlavZqGhxlwiMxeXL3PsUq31NWwY90gOqdSTJ2zCBNV/Y0gIv3ULfIJsZQVfXwAYORKzZiE3F4MGwdVVtWK7rvnVnGrXxs6dsLfXLrexwaZNqF6d4y2XLiE5uaI6GcPbb2PPHgPCIKZISEB4ONq0QXi4HCcDmm7lSiiVlbxmzx74+ODWLVECsiCnTqFbN2zfrnrK+92W/GZWDjt3sv37GWPst99U6bx2bbZ4MQPYJ58YXNvvv6t2/n3+9eWXlbzl7l0WFcWCg5m7O/df7Jo12fHjxnxrxFAdOqj/2x0d2aZNTKmUOiZe7dnDli9n8+axadPY4MGsY0f1WZHWV4sW7MwZqcM1E0oli4hgtrYaHx6+Pzkirld47566G1itGlxc8Oab2ne/6WPePCxdqnrcvTsSErjvLeGUk4NTp3DgABIScPq0umPSqBESEtC+vcHBEP3l5sLeXrvT5OmJ8HD07y9RTKIoKsL9+7hzR/Xvgwe4fRsPHiA7G998A29vqeOTt4wMTJuGvXs1CufNw+LFPDfEb2atRMuW6rxua6vzWkfFSktV86WrV2cHD7Jevdjly8bUk5fHjh5lS5eykSOZvT1r3Zrdu2dMPURPR4/qHD4bOZLdvCl1fER+4uOZgwPHB0aADVvEXbq1Rw/14+JifPstNmwwuBKFAlu3onVrvPUWJk3CyZPYtMmYYGrWhI8PQkMRG4vMTGzdivPnjamH6CkxUechxtC4sYihENkrKUFYGIYM0V6LE0CHDhw7aJtM3FTo6anxtLQUb71lzLZN9etj8mSsXq2aCbhxo6lLCtvawssLfn4mVUIqpisVBgTgt9+4L3yRqun6dfj6YsEC7mtQkyYJ0aZ0vcIyjOH99zF3rgGVPH2K8eOxaJF6guWdOzh4kJ8IiXA4U+GECdi2Dba2okcjnWPH8Pix1EHI26FDFe139NprQrQpbir08IC1NUd5eDiCg/Va0ejSJfTqhR07tMs3buQhPCKc/HxcuqRdOGMGtm6Fjbi7SkjOzg6tWqFNG8yciehoSoscXn8diYno2JHjkIcH2rUTpFHeRx8r4eamc+z8nXcqee+uXczenvu9dnbs4UNRvgFilGPHtH9kM2dW3fsuYmPVe88rFMzVlQUFsagojTWTSH4+Cw7W/th8841ArYmeCt94gzuXDRzIzp7V+a6SEhYaqj2jUOtr1SoRvw1NBi0qUTWtWKHxw/q//7O0GYWGWr2a4zNsbc3c3VlwMIuKYllZUocoD5GRrHZt9e1h168L1I7oqfDFT0D79iwqqqK3ZGayQYMquZkJYB4eYn0P//PoEdu0iY0cyRo2FLtpszN9uvonFRoqdTTyMGdORZ9nGxvWqxebO9eS71PU06VLrFs3BjBfX+EaET0VJiaqf9gNG7KICFZcXMnrX1xiS9dXBf1KHmVmqjLg8+nvNWqI0a5Z69SJ8qC20lI2ZkwlH+m+fatW9zkri/scq7CQBQez1auFa1nEu03KFBfD3h6lpXj7bSxcyHFPcXlr1yI4GEVFUChgb4/69WFvr/qqV0/9uOxpvXro3BlNmggV+d27iI7Gr7/i2DHta/x2dpZ5Ry1fCgtRty6Ki/Hll/jsM6mjkZOCAvj54fhx7qN2dkhKQocO4sZkuLKpbJxXRA2SlIRx4xAaihkzuF+gVEIh2JVe4bKsTosX63XCX1jIkpPZzZtyWcbj/HlWo4bOcxlSgRMnmJUVW7ZM6jhkKTOTY6nXsi+zWEu4pIRNmcI2bza1ni1bWK1aDGA+PnyEZTDRe4VmbdkyvP8+R7mVVeXrkVRl338PpdKY+82riKtX0bu39qambdrg/Hm5zzx/9gwTJ2LnTrRtiwsXjJwXVVSEjz/GihXqkosXxV8QQNx5heZuzhwMH85Rzhht81iRsWMpD1akTRvExqJmTY3C5cvNIA+OH4+dOwHgyhVs3WpMJbdvo18/jTwIGFmVaahXaKCMDHTuzLH0f3FxlZsqTPi1Ywdee011ehEQgKgoqQOqUH4+Ro/G/v3qkjZtcPGiYb8Fhw9jwgSO3yZHR6SnCzgsyIV6hQZq0gRr1nCUm3gTNCHjxiE8HADq1DHmxnwx5edj1CiNPAjg6lVERhpQyapV8PPj3lDoxg0cPmxKgEagXqFRgoKwbp1GSV6e9gkOIUYIDkabNggJkToO3fLy4O+PQ4c4Djk6Ii0NdnZ61ZOZiaAg/P4799GpU41cccpYlAqNkpcHd3eNm2pzcrj32yPEIKWlYEy+gy3Z2Rg2DCdP6nzBunU6p8JwiozE7Nl4+lS7vFYt3Lsn5u8UnSAbpVYtbNum8dePTpAJL6yt5ZsHs7IwZEhFeRDAl1/i2TMD6pw6FefOqXZAKi8vD7/+anCEJqBUaKzu3REWpn5KqZBYtowM9OuHU6cqeVl+Pve5cwWcnHDoECIitM+s6QTZbCiV8PNT/eAzMmgdZmKxHjyAnx/HMu/168PZGa6ucHNT/evsbHwryckIDERSkuqplRWuXDGpQkNQKjTN7dvo0gWPH+PePbz0ktTRECKAe/fg54fUVNSrhzZteEt8nAoLERaGr79WTSoKC8P8+Tw3oQOlQpP9+ivGjcPt22jeXOpQCBHA7t2oXh1ubmjaVKQWDx7E66/j1i04OSE9HVZWIrRJqZAPU6di0SK0aiV1HEYpKZHvOD2psp48wccfY+1a/PUXx0UVAdBlEz6sXIm6daUOwnCMYe5cuuBD5MjeHmvWICoKsbHiNEi9wqqqbLvB1NRK5kYQIq3sbNSrJ0I71CuskoqKMH48Nm5Er15Sh0JIhUTJgwBokKjqycvD6NGIjweAnj2ljoYQWaBUWMVkZWH4cPVJMaVCQgDQCXLVcu8e+vZV58EmTUSbv1rl3LkjdQTEMBaRCs+eRV6e1EHI3rVr6NMHycnqEuoSCuTRI7z3ntRBEMNYRCq0soKHB1JTpY5DxlJT0acPrl7VKKRUKITiYowbx7HUCpE3i0iFXbrg2TP06oUdO6QORZb++Qe+vhynbHT5WAizZ+PwYQF3XiTCsIhUCOCVV/D0KcaPR0gIiouljkZODh3CwIF49Ei7XKGAp6cUAVm0Zcuwdi0ASoVmx1JS4auvAgBjWLECfn64f1/qgOQhJgbDh3OfrLm6muUdMnK2fz8+/lj1mJYpMjeWkgq9vdUfviNH4OGhc5vtqkOpRHw8Skq4j9JAIb8uXcJrr6n/t6lXaG4sJRVaW8PfX/30zh307avaNKfKUijw3Xc4fx4jRnAcpYFCHmVlYdQoZGerS6hXaDpdf8WFYSmpEMArr2g8LSnB3LmYNKmqz7Np3x5xcYiPR8eOGuWUCvlSWorJk5GWplFIvUITKZXo3RtHjojWoAWlwsGDOTaF+flnmmcDAH5+OHMGa9aoeit16sDFReqY9FBUhLfeQlaW1HFU6L33sGePdiGlQhPFxOCffzB4MH7+WZwGLSgVVq+OwYM5yi9epHk2AGBjg6AgXLqE0FD4+MDaWuqAKvP4MYYMwfr1WL9e6lB027gR333HUU4nyCaKiACAoiJMnqyxiZBgLGuRrs2bMXUq9yErK0RFYdw4cQOSq4IC1KghdRAVunoVI0aotld1dMSVK3JcXzYhAQMHcmzwVru22FOsHz3Cvn2YNEnURoWTnIzOnTVKZszA6tWCfgYsqFcIwN8ftrYc5TVqYMkSjBkjekByJfM8eOIEvLzU20zfuIGYGEkD4nL9OsaM4d7oUuSz40uX4O2NatVEbVRQ33yjXbJ+PUaOFPQPjGWlwnr1ONb+9vTEmTMIDYXCsr5ZSxUdjYEDkZmpUbhihUTR6HbkCPffXYh7drx7N3r2xNWr8PMTr1FBZWQgKoqjfN8+9Okj3DoXFpcdyuZal7GxQWgojh1D+/bSBUQMsXw5JkxAQYF2+V9/ITFRioB0mzoVt24hPh4BAdoDr+Jsh8QYwsPh748nT+DjA3t7MRrVolTyP+Vl1SoUFnIfSkrC0qU8N/ccszC3bzMrKwYwZ2eWkCB1NMQQP/zAAJ1fb7whdXy6Xb7MQkNZ48aqUGfMELzFggI2ZYr6Pyc8XPAWOaWmMicntmYNKy3lp8LCQta0KfcHoFkztmkTP61wsbhUyBjz9GRBQSw3V+o4iOGionT+JlSrxu7flzq+ChUWsqgo5ufHPvlE2IZu3WLu7hr/OcnJwraoy9atqgA8PFh8PA8VrlvH8aO3sWHBwSwnh4f6dbPEVJiRIXUExARZWSw4mCkUHL8SixZJHZx+8vMFrDwhQfuvRYsWAjZXsY8+0ojEz4/9849JFXburP1D9/Zm587xFG5FLG6sEDSly8zVq4fly3HkiPbtMQC+/974ZYcuXsTp0yaGpi/hLtCvXYsBA/DggUYh542V4jhzRuPpgQPo0QPjx2vfe6On+HicO6d+Wr8+IiJw5Ag6dTIpSP1YYiokFsDbG2fOICICtWurC+/exa+/GlnhiRPw9ISTE0JCkJDAS4yiKilBSAhmzuSYvjNsmF415Odj0SLcvs1nVElJ2iWMIToaHTvi++8Nrq1sWjUAKysEBuLSJYSEiDfxQ4SeJyHGS09nw4apT5e8vIysR+uajJMTCw5mR4/yGqtgHj5k/ftzD6Ha2RkwiBYRwWxtWWAgO3+eh6hu3dJ5jat3b/bkiWG1paWpRkXat2cHDvAQnoEoFRJzEBPDWrRQ/Zr9/bcxNaxYwf1L6+rK5s9nqal8R8yf3FzWvr3OpOPnZ0BVxcWqwTgrKzZypKkXOmJiuEPy9jY4DzLGZs1iNWuy+fNZUZFJURmLTpCJOfD3x/nzCA6GtbWR0605bwsBkJqKBQvg6go3N4SFqW9xkY9atbByJce9A2X0PDsuY2ODZcsAgDHExWHQIHh4IDISpaXGBHb2LEehjw/27DF4VeCsLGRlITUVYWGwszMmGNNJkoAJMVJiIvPyYrdvG/zGJUsqmrRY/svdnYWHswcPBIjeKEVFbPBgVlrK1qxhtWppR3vhgsEVjhunXUnbtiwighUUGFbP6NHa9fj6sqdPDY6HMal6guVRr5CYle7dceQIrKwMfmNRUeWvsbaGuztGjsTAgTKah3DjBvbvx+HDCArCuXPo3199qHVrdOhgcIXffotatTRKrlzBnDlwckJYmMYCtBXT6hX27YvduzUuc+lPqp5gOZQKibmxsUGzZga/q4JZOE2aICAAmzbh4UOcPo2wMLi7G5NtBXL9OgDMmwfG4OyMgwexZo0q4wwfbkyFLVvio484yh88wIIFaNUKISGV3+qbna0KrMyQIdizRzvDmhXRU6FxoxKEmEhrrLCsAzh/Pk6fxv37iIrC1KmoV0+i4Cp07RoAnDqF3bsBwMpK1T0cONCwgcLyPv4YrVtzH3r6FCtWYOHCSmo4exbP1/cbNgy//y735Y4qI3oq/O9/dd5rTYhwylJh48aqDmBmphw7gJyed77mzYNSqXrcujXi4zFkiJF11qjBsRDWcyNGYNWqSmp4fnY8fDh27kT16kZGIhuip8Jz57B4sdiNEjJmDP79Fw8eqDqA9etLHZDeynqFAJKTNWaYW1mZtJTpmDHcmbRHD/zyS+U1l6XCkSMtIw9CglWsX3sNO3fixAl4eIjaLiFmyssLJ0+qHrdrh5QU3hZzvnABXbpojKK+/DISEvRaerZLF7Rrh23bdC7aWIGiIhkuNCt6r7C4GCUlePNNnfO8CCHlPe8VAkhLw9atvNXs4oL/+z/10+bNER+vVx4sKkKnTvj5Z2PyIICdO+HigvBwWW3gJUUqBJ0mE6KfggJkZGiUzJ/PZzdiwQI4OACAvT1274ajo75v3LTJ+M5pRgYuXsTcuXB0xMyZ3FO1RSdRKgTwn//Ibl1iQuTm2jVoDWHduIENG3irv25dfPklatRAXJz2zkoVqFbNpB0Tn+/W8PQp1q5Ft27w8MDatcjPN75Ok4meCp//QaPTZEIqVX7u3nNffsln1nj9dRw8CB8f3iqslFY/F0BiImbOhKOjhCeL0vUKASQlYckSsQMQjlKJixelDoJYlvIDhc/du4fVq3lrQqGAlxdvtelDa73F57Ky0LWrqJGUI2kqBLBoEf79V+wYhHDzJvz8MGOG1HEQy8LZKwSwdClyckSNhEcv9grLfPutkffP8EHqVFhSgjfeMH5pYpmIjkbXrjh0CCdO4P59qaMhFoSzVwjg4UMsXy5uKPzhTIWvv47gYNFDUZM6FUK/Df0yM7FpEx4/Figo42VmYswYjB+vmhagVCIuTuqYiAXR6hVWq4bu3TFtGr75BgMGSBOS6V5MhT4++OEHKUJRE32KtYsLx4CanR1On+bYweDGDezbh9hY7NuHBQswb544Mepr3z688Qbu3tUoHDkSsbESBUSAwkIcP27GaUKLhweaNUOnTujSBZ064eWXeZtfLZWCAtSsqVHi5IRTpyRfCkj0VNi2La5e5Sjv2hWnTqlmbKakIC4OsbE4flw1k2DkSMTEyOhe0fx8zJuH777TnugAoFo1ZGaiTh0eWjl/HiUlEg4km58LFzBpEhYuhL+/1KEQHa5f11gJok4dHDsmzkZOFRP9L0xJCXf52bNYtAhWVti+XXsl4bZtsXmzjPLgyZOYOhWXL3MfLSrCvn0YN46Hhj77DIGBlAr1FRmJWbNQvbrxixQQEZQ/O1YosHWrHPIgJEiFWhMJa9SAiwtq18bFi9zrAlWvjl9+kcvqScXF+M9/sGhRJUuN7drFQypMTERMDLy9Ta2nKsjMxJtvqsYlXn9dDuuAEp3Kp8KlS+XTfxc9FZZdNmndGoMGwd4eq1ZVMplmzRp07y5OaJVISUFgoPbGr5zi4lBcbOTtmc99+ikY03kBkTx34ACmTVOP2E6eLGk0pDLPU2FgIPcKslIReweB1avZxYuqx8XFzNOzol0mZs0SOzxOSiWLiGDVqum7OQZg6u6FCQmqeoYO5el70FRcLEi1IisoYKGhqh0jy77atGFKpdRhkQqVbTLj5cUKC6UORYPovcK331Y/trHBpk1wd0dBAccre/RQ7c4lucJC+Psb1pNv2NCkFj/7TPWA315h2T5nixdj4UIMGsRnzeIru0KidSf/lCkyGlMmnDIy0KwZduyQ2zpdUl+Yd3HBkiWYM0e7vEED/PKLXP6zatSAs7N4zcXH4/Bh1ePr16FUQmHy9E+lEn/8gbAw1XDE5ctmnAoZw7p1eO89jvtwJ06UIiBiiKdPsWuXMbvTCEwG2zwFB2PoUI0ShQLbtsHJSZp4JPfFF+rHRUW4d8+k2p49Q2QkXFwwapR6WPbKFZPqlFBmJl55BTNncuTBnj3Rvr0UMRFDfPGFPJdtlkEqtLLC+vVo0EBd8uWXVXc+REyMesniMkafI+flYflytGmDadOQlqZxSNdMIJmLj0fXrjpnsNMFE95du8b/R6VlS54r5IkMUiGA5s3x3XeqxyNHYu5cSaORDmOYP1+7MD3d4HpychAeDkdHzJmD27c5XmCmqbCoSOceYTY2GD9e3GjM35MnFR3NzcUrr2DaNPXeUhZNHqkQwKRJmDABTk746ScehsbMVHQ0x4q+BvUKMzIQFgZHR8ydi0ePdL7s2jXz24W1qAiMwcuL+8LIkCFo2lT0mMzcnTvw8EB4uHot1eeUSkyZguRknDgh+d3BIpH6EnY5jx6xc+ekDkI6JSXMxYVjXs60aXq9/fp1FhzMatTQd7pPerqw3w6PTp9mwcGsUaOKvp1t26SO0jx99RUDmJ0dGzmSRUWxZ89U5fPmqf9va9ViV69KGqUYRL8HmegSGYlp0zjKfX3x11+Vvz01FefPIzUVFy7gwgWkpaGoqKLX790r9wHZ27exdSs2bKj8dL5WLTx4gFq1RAnLsiiVGDBA/QFzcEBAAFq1wkcfadxfP2AADhyw7IlKlArlobgYLi7cC1W0bImbN42p8+5dpKYiJUX177lzePpUfXTlSo3dzuSjoABxcVi7FgcPcqx2oaVxY2RmYto0/PSTGLFZpGvX0KWLxmeD08aNmD5djHgkIvW8QlImNhY3bnAfunPHyH1jmzVDs2bw81OX3LiBixdVPUcT7wsUSF4evv0WcXFITKw8DwLo0wdNmmD0aOEj40lJiVxW2crNRUEBnj5Fbi5mz658a405czBoEJo3FyU4CVCvUDaKi5GWptGPu3BBlQ7S0vDyy1LHJ67cXJw8iQMHcOAAzpzReRFz2DDs3i1uZCZ4/Bi7duH11yUO46+/8O67SE42+I3+/oiJESAgWaBUKGPZ2UhOxvnzGDJE1Ntd5ObhQ5w4gWPHcOAA/v1Xo7fo7Y2EBOkiM9DWrdi0Cfv3SxnDP/+gZ08MHIgDB4x5+y+/WOqkJUqFxKw8eIAjR3DgABISkJqKzp2RlCR1THqbMgXbt+PuXTRpIlkMAQHYsQMArKz0GoLQ0qgRUlKkjF8wlAqJ2bp2DUlJePVVqePQj1IJBwdkZOCHHzBzpjQxXL+Ol1/WuXyyniZPxpYtPAUkI1V1MjOxAK1bm00eBPD336ql+qKjJYth2bLK86DWwrdNmmDhQo27HrZuxa5d/McmNUqFhIhizx7Vg8OHde6JLqjsbPz4YyWvCQrCrl3q+YPW1li9Ghs2qC5bNW2quoP4nXdUWzxaEEqFhIjijz9UD0pLsXOnBAGsWYPcXJ1Ha9VCVBTWrMHQoXjnHVXh0qXYtEk9zevBA4wZg/h4dO9ueQsF0FghIcK7fx/NmqkvU/Tvjz//FDWA4mI4O3OvzQGgRg1s3oyxY1VP8/PRrRtcXdGrl3bKs7LCrl3w98eVK2jVypK2kZHHbE9CLNvu3RqXa//6C3fvirp86fbt3HlQoYC7Ow4e1NiutmZNREUhK4vj1kzG8OabSEpC27YCRisFOkEmRHjPBwrLKJX47TdRA3hxbwwrKwQG4uhRnDrFsW13q1Z4/XXt/SnLZGZi+nTLW7mLUiEhAisp4ZjPLOZ15IMHtXdqbN8e+/cjMhK9e3O/Zfp0XL+us8L9+/HttzwGKAc0VkiIwA4fRv/+2oUKBW7dEukcefhwdbe0Vi18+CE++aSSYb47d7BjB6KjcewY9wtsbXH0KHr25DlU6ci7V3jvHkaPlmbmASF80To7LqNUinQd+dIl7NunejxyJC5cQFhY5Zc7mjdHSIjqlp758zlugS8uxuTJla9nYz7kmgoZQ2Qk3Nzw++8S37NJpPXXX0hI4B60Mhe6FowQ5xz566+hVKJdO+zbh9hYg7cWcXFBWBjS0nD+PEJD8dJL6kNXryI4mN9gJSTLE+Tr1/HWW+rhlYkTsW2bpAER6cydi/Bw1KiB7t3h4wM/P/j4oHp1qcPS261baNWK+5BCgZs3hV32KiMDLi54913Mm8fPVrpKJY4dw+DB6k1munWDpyccHNCsmfpfBwezW+dVZpNpyra4/eADjbmge/eitBTW1tKFRaRjbw8ABQU4dgzHjplfWjx5Es7OsLdX3btWq5bq5LRaNdSsicuXhU2FZbdpt2jBW4UKBfr0Qd++6pPuM2e0r8kAqFFDlRAdHNCiBYKD0bo1bzEIQ069wvR0zJiBQ4c4Dh0/Di8v0QMiMvD99xWttm1eadFifP45Fi3S65V+fvjmG3TpInBAPJDHWKFSibVr0bkzdx6EjoFnUhWU9Qp1Kesthodj0CA0bIhXXzXj3e7NiKdn5a9xcUFUFOLjzSIPQhapMCUFvXtj5kzk5el8jRmtVEz4VXEqfM7dHcuWYcsWy7sLQo569KjoaKNGiIhAcjICAsQKiAeSjhWWlOC//8X8+ZXszQbg339x7x4cHEQJi8hJxamwRQtMnowZMygDiuqll9CiBcedfDVr4t138cknqFtXirBMIl0qTE7GG2/g9Gm9XswY9u/n3hvTLDBmdhfU5IIzFVavDn9/BAZi+HC6niYNT0+NVKhQYOxYfP01HB2li8kk0qVCxlSbbJWWIicHAIqKkJ8PAHl5qnlkT55AqQRjyM4240/8mTMoKNB5hxOpmFYqdHdHYCACA9GggUQBEQCAp6f6NuqBA/H11+jWTdKATCVdqOtt2gAAF45JREFUKuzcWbKmxVRUhKlTsXy51HGYrbJTrWbNMG4cZsxAp05SB0QA/O/KSYcOWLjQvMYEdZHZvELL8/nnOH/e8pbxEE/dutizB4MGmfFpgUXy8MAPP+DNN/nc1jksDHFx8PaGjw/69UPjxrzVrAc5zSu0PCdOoE8flJZi716Opd8IIeUtW4b331c/dXZWpUVvb7i6Cj3aTr1CweTnY/p0lJYCUP1LCKlAw4YaT9PTkZ6OzZsBoGlTeHqq0qKnJz83EWqiVCiYefOQlqZ6TKnQfF27hvr1Ua+e1HFUAVqpsLwHDxAXh7g4AKhVCz17wscH48bxOHZMqVAYCQlYuVL9lFKh+crNha8vHj5Es2ZwdlatOPD8Qdu2+k4CJ5WqIBWWV1gIhQIdO8LFhcfGKRUKIC9Pe8Vzumxivjp1QkICRoxASgrS0zle0LAhWrRAq1Zo2RItWqB3b/TtK3qUFqHSVFg2o/6dd3Qu9mMCSoUCeP99XL2qUUK9QrPm6IgTJxAQoF6OpbxHj/DoEZKSVE+3bBEzNIuiKxXa2eGVV4SeUS+De5AtzIEDWLdOu5BSobmrUwcxMZgypZKXNWtmGZPspFGvnnama9cOS5fi1i1ERcHfX9AJVRaaCtPT8fPPErT75AnefBMvzk8SLhVmZCAzU6jKSXl2doiMxPz5Fb1m9mxL2hpYbAqF6vJUtWoICEB8PC5eRGgomjQRoXELPUEOCcG+fWjUCIMGid3uzZsc5XylwqwspKQgNVX17/nzuH8fv/+OV17hp35SMSsrhIXB0REzZ6K4WPtozZoICpIiLAvi64t+/RAYiPr1xW6aWZ6dOxnAAFa3Ljt7Vrx2Y2JU7b749eOPJtWcmMh8fVnDhtyVJyfz9A0Qve3fz+rW1f5BvP221GHJSW4uW7VK6iAMYHEnyPn56gnrOTkYPhy3bonR7rNnCA3VedTEXmGnTrh9G48ecRyysoKzs0mVEyMMGoSEBI2F8q2sLGnPI1NlZ2PwYAQH4/JlqUPRl8WlwoULNbayvnsXw4YhO1vwdu3skJyMo0cRGgpXV+2jJk6msbXFJ59wH2reHDVrmlQ5MU6nTjh5El27qp4OG8bvNDcz9uAB+vXD8eMoLcXXX0sdjd6k7pby6tIlVq0axylkv36ssFDUSK5eZRERzM+P2doygH3/vakVPnvGnJ05vrW+fXmIlhgtJ4cNGcIAFh8vdSjycP06e/ll9efT1pbduCF1THqxrF7hrFncC2IfPozXX+e4sCscZ2eEhCA+HvfvY8sWdOxoaoW2tvjsM45yWr1ZWmWTbBYswMCBUociAxcuwMdH46S4uBjffitdQAawoJVptm6tZNrXxo2YPl2kYIRQWgo3N1y6pFG4eDHmzZMoICID6en47Tc4OWHsWIkjSUzEsGEcU7tq1sS1a+JMiDGFpfQKc3Lw8cfchxQKjByJ+HjzzoMArK05RgzbtDG12thYbNhgRsPbBABSUhAeDh8ftG2LDz/U/gMpvr/+woAB3FNc8/PNYuliS5lX+OmnuHtXu7B2bUyahPffR/v2UsQkgMmTsXixxufe9BPk8+dVGbZpU/j6qlaI696dNmORHaUSZ84gNhbbt2vnPmnP7eLiMH48Cgp0vmDlSnz0kcxX97GIVHjuHH74QaPEwQFBQQgOtrQdMKyt8dlnCAxUl5jeK3z+AX3wANHRiI4GgCZN0KOHaqv1bt2gsJSzB3NUVISjRxEbi+ho3LsndTQv2LYN06dzTDgvLycHq1bh00/FiskY5p8KlUq8/TZKSlRPu3dHSAgmToStraRhCWbiRCxejAsXAKBxYx5WiOL8W52RoV4erk4d9OwJPz94e6NnT4v9j5Wb/HwcPIjoaMTE4MmTSl4sVa9w5UqEhHDPFVMo0LIlXn5Z9eXuLnpwhjH/VLh+PU6cgEKB4cMREgI/P6kDEpi1NT7/HJMmAXx0CaEjFZb39CkOHMCBAwDg7Y01a+DmxkO7pAKZmfjyS0RH4/59vV4vSSoMD8fcuarH9evD2RnOznB1hZsbnJ3Rvj1q15YgKmOZeSp89AhLliAoCO+9hw4dpI5GLAUFqFkT+fn8zKTRZwTH3h6vvYbAQPj48NAiqVTjxlixAitWICUF0dGIi0NiYkWvFz8VnjyJ4mJs367q9NWpI3YAfDPzVJiZiTNnZD4cy7OEBMyapdonWuheoUIBLy9MnYrJk1GrFg9tEUO5ucHNDWFhuHYNMTGIi8Phw+rhIAn16oVevaQOgk9mPhzeoYOwefDcOQErN8KNGxg7VpUHFQp+/hRz/ge2aIHQUFy+jIQEBAVRHpRe69bqSftffYXq1TWOWszsYOmYeSoU1O+/w9OzkhMTMeXmYtQoZGSoniqV2LqVh9+B8qmwbJ24mBhcv46lS81+oQeL3EehoADff4/CQgBwc0NQEBwcKBXyQOo7/+QqPl51O3O/flKHwhhjTKlk48dz3IP8ww88VF6tGnN1ZUuXsocPeahNPm7cYO+8wzIzpY6DPxkZzMVF/dN/803GGCspYRkZUkdm9qhXyOXECYwerbqd+fBhxMRIHRDw+eeIiuIo//hjHlYhS0pCSgpCQ/XdcsxctGqFR4/Qvj2WL7eEPRVycjBsmGoeVZmXXwYAa2s0bixVUBaDUuELkpIwYgRyc9UlH39cyQxSof36KxYv5j6Uk4OZM02t32LuxnnRvHnIysKcOfDwwNGjUkdjgoIC+PtrD9e0aydRNBaIUqGmy5cxZAiysjQKL13SvptFTEol/vijoonNe/Zg82YRAzIrXbqoppqePQtfX/j748YNqWMyXHExxo3DkSPa5ZQK+WNBK9OY7uZN+Ppy/6rUr48rV6S8jS8rC5GRWLGCeyveBg2QmoqmTUUPyxwcPKgx8b5mTXz0EebO1b4IK1ulpZg8Gb/8ol2uUCAvz2y+C9mjXuH/ZGRg8GCdXYasLJ2nqOKoXx8hIbh8GfHxCAiAjeaE0MePMXu2RJHJ3sCBGjPg8vOxYAHatUNkpHQx6Y0xzJrFkQcBODpSHuST1Ndt5CEzk7m56dykqezLzo6lpUkd6P/cvcuWLmWOjhoR7tghdVhyFR3N/TMdMEDum2R9+KHOD+SQIVIHZ1GoV/i/C3MpKTpf4OSE117DkiUyWqDFwQGhoUhPV3USy7bKnjWL9kTmNmaM6mKrlj//RLduCAmpfL0DqUyejIAA7gXTaKCQV1V+rLCgAMOG4a+/NArr1kWnTnB3h48PfH3NYAzu9m2sX4/VqzF0KDZtkjoaWVq7tqJL7YMHY+9e+S7ReP48vvoK27ZpTAlasQLvvitdTJamaqfC4mKMHq26Pvvyy/Dxgbc33N3h6irf34oKFBVh5074+qJ5c6lDkZ+iIjg7c6zvC6BvX+zaxcNyZ0JLT0d4ODZuVE3t2rsXQ4ZIHZPlqNqpMDYWt26hRw906ULL8Fm+8otKPTdqFLZvR40aUgRklBs38O23WLcOKSlo3VrqaCxH1U6FpErJyYGjo8am2NOmYf167cvxZuHOHbz0kmqMmPBBNtcBCBFa3boIClI/DQ3Fxo1mmQcBNG9OeZBf1CskVcmDB3ByQlERvv4aH3wgdTRERigVkipm9mx4e2PiRKnjIPJCqZBUMUqljOaHEtmgVEgIIXTZhBBCKBXK3enTePttJCVJHQchFo5Sobx5eKCkBF27wsMDa9ciL0/qgAixTDRWKHs5OejYUbVqf926mDABb7+Nbt2kDosQi0Kp0BwcOIDBgzV2NXN3R1AQJk1C7drShUWI5aBUaCbeeAMbN2oXlnUSZ85E9+5SxESI5aBUaCaePEGnTjo3tyvrJE6cyM8m8YRUPZQKzcfu3RgxoqIXTJqErVvFioYQi0Kp0Ky8/jp++on7UPv2+PtvM1h0jxBZolQovMhIXLyIfv3g7Y1atUyq6skTdOyI27e1y+vXx99/c69ZTwjRA6VC4ZWWYtw4/P47rK3RtSv8/ODtDV9fI3twf/yBkSM1ShQKxMZi+HBegiWkaqJUKIqCAgwYgJMn1SWmpMVp0zQ2rvz6a3z4IW+hElIlUSoUS2YmevfGlSschwxNi+VPkydPxpYt/EdLSBVDqVBEly6hd288flzRa2rWRFpa5fs0xcXB3x/duiEhATVr8hgjIVUT3YMsovbt8fvvqF69ote8+65e+9WNHIkPPsCuXZQHCeEF9QpFFx2NCROgVHIcatkSqal0Lx0h4qNeoegCAhAezn1oxQqe8+D9+5WcjxNCAFAqlMaHHyI4WLtw6FC8+irPDdWtiz59uK/VEELKoVQokWXLMHq0+mmNGli1iv9WatZE/fro0weJifxXTogFoVQoEYUCW7fCy0v19NNP4ewsSEP9+uH+ffTti7g4QeonxCLQZRNJPXyI3r0BIDkZ1aoJ0kR8PAYPBgBra6xcibffFqQVQswcpUKppaXhwQP06SNU/fn5qF8fz56pngYHIyICVlZCNUeIeaJU+D+PHiE3F46OUschgN69ceKE+unUqVi3DnZ20gVEiOxU+bHCmzexdi38/eHggN9/lzoaYfTrp/H0/9u795gq6weO429uggp5Ay/omIq51FILL5io0WRpA0sdtC5eak5WpuXKYW2VujlhM5drP1TMHLhCMLUpTpeaK0tmaE4RLB2pUzGSUgOcivL8/oDCA4cUlPM9zzmf1/jjnO/DnvOBA599n9t5srKYOJGrV82EEXFL3lqFRUWkpRETQ+/eJCeTl0d1telMrWbcuIYj335LTEyTn4kt4n38TQdwrdu3ef99Nm+mpMTJUk/dVzB6NAEBDbv++HGio9mxg6FDDcUScSNeNiv08yMw0HkPgsceTAgOJirKyXhpKWPHsmuXywOJuB0vq0Lgww8ZMcL5Ik+dFeJsG7lWRQWvv87ly65NI+J2vK8K/f3JzKRtW9M5XMtpFfr7M28eR4/SqZPLA4m4F++rQuCRR0hNNR3CtcaMwd9xv/CwYRw4wMqVPPSQoUziNv76i2vXTIcwzCurEJg7l4kTTYdwoeDg+tvGd+7MJ59w8CDDhxvNJG6jfXvi4khOprDQdBRjvLUKfXxYu5bOnU3ncKFx4/DxYdo0fvmFt97C11vfemksMJAVK1i3jsGDGTaMrKz6y5O8hhf/P/TsSUaGw4gHHzYBkpLIzycri7Aw01HE/YwcyZtvAhw+zIwZRESwcCGnT5uO5Tpef+HdSy+RnV33eMUK5s83mkbEnGvXGDzY4VQzX1+efprZs5k8ueG+Zo/jxbPCWunpRESYDiHiBtq1Y+1ah7Nra2rYs4ekJHr3ZuHCupsseiivr8KOHVm3zmNPrhZplthYXnvNyfiFC6SlERlJUhJ79njkriSvr0Jg/HjmzgVP31coci8+/phevZwvunmTTZtIT/fI/xRVIQBpaTz6qOkQIm6gQwdWrWpy6dChbNjgkacfeOCP1BJBQWRm6iP8RADi43nhBSfjoaFs2UL79i4P5ApefwT5Tlev0qGD6RAibqC8nEGD+OOP+pGAAHbvbvJidvvTrPAO6kGRWqGhrFjhMJKe7sE9iKpQRJx7+WWee67u8bvvMmuW0TStThvIItKE0lIGDWLkSHbswM+vdV+rqsrsXkjNCkWkCeHhZGaSk9PqPQisWcOZM63+Kk3TrFBE3EBSEg8/zNKlpl5fVSgibqBPHyorOXeOoCAjr68NZBEx7dIlzpyhvJzcXFMRVIUiYtpPP9U9WLnSVARVoYiYVlBQ9+Dnnzl40EgEVaFI00pKvPkz7l3n3yoE/vc/IxFUhe6koIDr102HkDvs3cuQISQkmJqqeItDh+of5+RQVub6CKpCt3HuHPHxfPCB6Rxyh1OnsCzy8oiOJiaGvXtNB/JEp087XOx88yaffeb6FDqZxj1cv87YsRQU4OvLvn2MHWs6kAAwaRLbtzuMjB5NSgoJCYYCmXPxItOn1z9t08bh4hAfHzp2dPj+sDDefpvQ0LuvOTe34QfhhIdz5gwBAfeTt7k8/H4FtjFnTt3ukpoaZs7k2DGCg01nEjh5suHIjz8yaRKjRrF0KbGxJjIZ0qMHJSX3euOnIUPIzLynHsRxR2Gt0lK2bWPq1OYlvD/aQHYDn37K55/XPz19mvfeM5dG/nHrVpP/+cXFPPSQa9O4gfj4u39PQAApKRQUMGTIva723zNp7uTygyfaQDbtwAFiYxvedtbHh507eeYZQ5kEgFOn6N/fyXi7duzaxZgxLg9k2jff3OVv8rHHyMzk8cebsc6aGjp2pKLCyaKjRxk8uHkJ74NmhUZdvEhiopPbb1sWs2Zx5YqJTPKPX391MtimDV995Y09CDz1FCEhzhf5+5OSwqFDzetBoLjYeQ/Cf91XoBV4ShXasTWqq0lKorTU+dLz51mwwLWBxFHjHYV+fmzYwMSJJtK4gTZtiItzMj5oEPn5pKa25JYYTreOa2Vlcflys1fYUjY/bHL7Nvv2kZHBb785nJpkC3Pm8MMP//UN2dnMn8/Aga4KJI4aVKGPD6tXk5RkKM19yM+nvPzBHPWOj2fLlvqn/v688w6LFxMY2MIVHj5Mt2507UrPnnTrRng43bvTowc9etC9e5OT0NZg2dT581ZqqhURYYEFVq9epgM106pVdckbf3Xtak2bZuXmWhUVplN6t9hYh/dl+XLTgVrku++skBBr4EDr9u0HsLayMsvXt+4XEhlpff/9A1ine7BbFd66Ze3ebSUmWn5+Dn+mQUGmkzVHfr4VGNiwAQcOtFJSrP37rZoa0/nEsizL6tmz/t1ZssR0mhbZudNq27buR9i48cGsMzra8vGxZs+2qqoezArdg62OIOfnM2UKv//ufGllpT1uS1hWRlQUFy4ABAURE0N8PFOnNnkfbjGiqoqQkLp7n8+bZ/ATU1ouL4/ExPpLOQcOpLDwAdzCOCuLyEhGj77f9bgZW1VhTQ3PP9/w7P9/nT1LRIRrAzVfdTXjx3PiBBMmkJDAhAku3Rsi9+7IEZ54AmDGDNavx8fHdKBmys3llVeornYYzMmx5b5Ol7BVFQIVFYwaRVGRk0WHD9f97bqzEyeoqiIqyn7/Wt5m40ZefJEpU8jJwd9uRxe/+IKZM7l1q+H4g5oYeiK7/VJCQti+nS5dnCz680+Xp2m+AQMYNkw9aAMnTxIXx5df2q8H16xh+nQnPQgUF7N5s8sD2YPdqhDo04fsbCe34CovN5FGPFRoKFu3tvwcEVMsCz8/undv8huWLKGmxoWBbMOGVQjExbFsWcNBW8wKxS7eeMMeR+Ea8PFh1ixOnSI11flV0sePa2LolD2rEFiwgFdfdRjRrFCkVrt2pKRQUkJKipMrQBYv1sSwMdtWIZCezvDh9U81KxS5U2goqakUFpKY6LB7uqjI4YoRAexdhUFBfP014eF1T1WFIo31709uLgcOEBNTP7hokSaGDdi5CoHwcDZtqtu3rQ1kkaZER7N/P9u20a8fQFERW7eazuRebF6FwJNPsno1qApF7iYhgeJi1qyha1c++kgTwzvZ7RTrpsyZQ14eZ8+aziFiB5WVLF/OiBE8+6zpKO7CU6qwuprJk8nLM51DxD6qq118KyV35ilVCFy6RJcuuqhIRFrAg6pQRKSlNIcSEVEVioioCkVEUBWKiKAqFBFBVSgigqrQ9rKzKSgwHULE9lSFNrd+PSNGEBfHkSOmo4jYmKrQ5goLAfbsISqKpCROnjQdSMSWdLWJnZWXExbmMOLry9SpLFtGZKShTCK2pFmhnR071nCkpoZNmxgwgORkSktNZBKxJVWhndVuHTdWXU1GBn37kpxMWZlrM4nYkqrQzpqqwlo3bpCRQb9+LFzIlSuuyiRiS6pCO2u8gdxYZSVpaURGsmgRf//d+plEbMnfdABpqZoaioudL/L3JyyM8HD69nX4Cg52bUQR21AV2lZJCVVVdOrUsO/69iUiAn+9syLNoJNpbOvGDaDubn8icn9UhSIiOmwiIqIqFBFBVSgigqpQRARVoYgIqkIREVSFIiKoCkVEUBWKiKAqFBFBVSgigqpQRARVoYgI8H+3V38OD/xCjQAAAABJRU5ErkJggg=='></img>"
             },
             "type": "node"
            }
           ],
           "instanceArgs": {
            "handlers": {
             "obs-output": [
              "function (value, scope) {\n    scope.setInnerHTML(value);\n}\n"
             ]
            },
            "id": "4776707912628877907",
            "imports": {
             "data": [],
             "type": "async_block"
            },
            "mount_callbacks": [],
            "observables": {
             "obs-output": {
              "id": "17349222121003928242",
              "sync": false,
              "value": "<img src='data:image/png;base64,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'></img>"
             }
            },
            "systemjs_options": null
           },
           "nodeType": "Scope",
           "props": {},
           "type": "node"
          },
          {
           "children": [
            {
             "children": [
              {
               "children": [],
               "instanceArgs": {
                "namespace": "html",
                "tag": "div"
               },
               "nodeType": "DOM",
               "props": {
                "id": "container"
               },
               "type": "node"
              }
             ],
             "instanceArgs": {
              "handlers": {
               "value": [
                "(function (txt){return this.k.render(txt,this.container)})"
               ]
              },
              "id": "7335939888855063027",
              "imports": {
               "data": [
                {
                 "name": null,
                 "type": "js",
                 "url": "/assetserver/dd22ed1bf1896c2748f3fe616ce0b838adc895c1-katex.min.js"
                },
                {
                 "name": null,
                 "type": "css",
                 "url": "/assetserver/46517a424aa5e6cffc1360d7e0848b601c584ee3-katex.min.css"
                }
               ],
               "type": "async_block"
              },
              "mount_callbacks": [
               "function () {\n    var handler = ((function (k){this.k=k; this.container=this.dom.querySelector(\"#container\"); return k.render(\"\\\\;\\\\;\",this.container)}));\n    (WebIO.importBlock({\"data\":[{\"name\":null,\"type\":\"js\",\"url\":\"/assetserver/dd22ed1bf1896c2748f3fe616ce0b838adc895c1-katex.min.js\"},{\"name\":null,\"type\":\"css\",\"url\":\"/assetserver/46517a424aa5e6cffc1360d7e0848b601c584ee3-katex.min.css\"}],\"type\":\"async_block\"})).then((imports) => handler.apply(this, imports));\n}\n"
              ],
              "observables": {
               "value": {
                "id": "4770155353801957774",
                "sync": false,
                "value": "\\;\\;"
               }
              },
              "systemjs_options": null
             },
             "nodeType": "Scope",
             "props": {},
             "type": "node"
            }
           ],
           "instanceArgs": {
            "namespace": "html",
            "tag": "div"
           },
           "nodeType": "DOM",
           "props": {
            "className": "interact-widget"
           },
           "type": "node"
          },
          {
           "children": [],
           "instanceArgs": {
            "namespace": "html",
            "tag": "div"
           },
           "nodeType": "DOM",
           "props": {
            "style": {
             "display": "flex",
             "flex-direction": "column"
            }
           },
           "type": "node"
          }
         ],
         "instanceArgs": {
          "namespace": "html",
          "tag": "div"
         },
         "nodeType": "DOM",
         "props": {
          "style": {
           "display": "flex",
           "flex-direction": "row"
          }
         },
         "type": "node"
        }
       ],
       "instanceArgs": {
        "namespace": "html",
        "tag": "div"
       },
       "nodeType": "DOM",
       "props": {
        "style": {
         "display": "flex",
         "flex-direction": "column"
        }
       },
       "type": "node"
      },
      "text/html": [
       "<div\n",
       "    class=\"webio-mountpoint\"\n",
       "    data-webio-mountpoint=\"2665684259599124711\"\n",
       ">\n",
       "    <script>\n",
       "    (function(){\n",
       "    // Some integrations (namely, IJulia/Jupyter) use an alternate render pathway than\n",
       "    // just putting the html on the page. If WebIO isn't defined, then it's pretty likely\n",
       "    // that we're in one of those situations and the integration just isn't installed\n",
       "    // correctly.\n",
       "    if (typeof window.WebIO === \"undefined\") {\n",
       "        document\n",
       "            .querySelector('[data-webio-mountpoint=\"2665684259599124711\"]')\n",
       "            .innerHTML = (\n",
       "                '<div style=\"padding: 1em; background-color: #f8d6da; border: 1px solid #f5c6cb; font-weight: bold;\">' +\n",
       "                '<p><strong>WebIO not detected.</strong></p>' +\n",
       "                '<p>Please read ' +\n",
       "                '<a href=\"https://juliagizmos.github.io/WebIO.jl/latest/troubleshooting/not-detected/\" target=\"_blank\">the troubleshooting guide</a> ' +\n",
       "                'for more information on how to resolve this issue.</p>' +\n",
       "                '<p><a href=\"https://juliagizmos.github.io/WebIO.jl/latest/troubleshooting/not-detected/\" target=\"_blank\">https://juliagizmos.github.io/WebIO.jl/latest/troubleshooting/not-detected/</a></p>' +\n",
       "                '</div>'\n",
       "            );\n",
       "        return;\n",
       "    }\n",
       "    WebIO.mount(\n",
       "        document.querySelector('[data-webio-mountpoint=\"2665684259599124711\"]'),\n",
       "        {\"props\":{\"style\":{\"display\":\"flex\",\"flex-direction\":\"column\"}},\"nodeType\":\"DOM\",\"type\":\"node\",\"instanceArgs\":{\"namespace\":\"html\",\"tag\":\"div\"},\"children\":[{\"props\":{\"style\":{\"display\":\"flex\",\"flex-direction\":\"row\"}},\"nodeType\":\"DOM\",\"type\":\"node\",\"instanceArgs\":{\"namespace\":\"html\",\"tag\":\"div\"},\"children\":[{\"props\":{\"style\":{\"display\":\"flex\",\"flex-direction\":\"column\"}},\"nodeType\":\"DOM\",\"type\":\"node\",\"instanceArgs\":{\"namespace\":\"html\",\"tag\":\"div\"},\"children\":[{\"props\":{\"className\":\"field interact-widget\"},\"nodeType\":\"DOM\",\"type\":\"node\",\"instanceArgs\":{\"namespace\":\"html\",\"tag\":\"div\"},\"children\":[{\"props\":{},\"nodeType\":\"Scope\",\"type\":\"node\",\"instanceArgs\":{\"imports\":{\"data\":[{\"name\":\"knockout\",\"type\":\"js\",\"url\":\"\\/assetserver\\/727383f2a47bd31570b7da84eee7b022dd6d7c78-knockout.js\"},{\"name\":\"knockout_punches\",\"type\":\"js\",\"url\":\"\\/assetserver\\/382b41b3b1bd9f26f75861d360bad7f8beea211f-knockout_punches.js\"},{\"name\":null,\"type\":\"js\",\"url\":\"\\/assetserver\\/5ab20f1060420992a9b82a65b735dee4d81ef413-all.js\"},{\"name\":null,\"type\":\"css\",\"url\":\"\\/assetserver\\/1cc0ed62837210b80a182cc3676512f895dab686-style.css\"},{\"name\":null,\"type\":\"css\",\"url\":\"\\/assetserver\\/2eee816f616df3549d7044d45e744fbf8d42bfa1-bulma_confined.min.css\"}],\"type\":\"async_block\"},\"id\":\"11158847470735915112\",\"handlers\":{\"changes\":[\"(function (val){return (val!=this.model[\\\"changes\\\"]()) ? (this.valueFromJulia[\\\"changes\\\"]=true, this.model[\\\"changes\\\"](val)) : undefined})\"],\"index\":[\"(function (val){return (val!=this.model[\\\"index\\\"]()) ? (this.valueFromJulia[\\\"index\\\"]=true, this.model[\\\"index\\\"](val)) : undefined})\"]},\"systemjs_options\":null,\"mount_callbacks\":[\"function () {\\n    var handler = (function (ko, koPunches) {\\n    ko.punches.enableAll();\\n    ko.bindingHandlers.numericValue = {\\n        init: function(element, valueAccessor, allBindings, data, context) {\\n            var stringified = ko.observable(ko.unwrap(valueAccessor()));\\n            stringified.subscribe(function(value) {\\n                var val = parseFloat(value);\\n                if (!isNaN(val)) {\\n                    valueAccessor()(val);\\n                }\\n            });\\n            valueAccessor().subscribe(function(value) {\\n                var str = JSON.stringify(value);\\n                if ((str == \\\"0\\\") && ([\\\"-0\\\", \\\"-0.\\\"].indexOf(stringified()) >= 0))\\n                     return;\\n                 if ([\\\"null\\\", \\\"\\\"].indexOf(str) >= 0)\\n                     return;\\n                stringified(str);\\n            });\\n            ko.applyBindingsToNode(\\n                element,\\n                {\\n                    value: stringified,\\n                    valueUpdate: allBindings.get('valueUpdate'),\\n                },\\n                context,\\n            );\\n        }\\n    };\\n    var json_data = {\\\"formatted_vals\\\":[\\\"1\\\",\\\"2\\\",\\\"3\\\",\\\"4\\\",\\\"5\\\",\\\"6\\\",\\\"7\\\",\\\"8\\\",\\\"9\\\",\\\"10\\\",\\\"11\\\",\\\"12\\\",\\\"13\\\",\\\"14\\\",\\\"15\\\",\\\"16\\\",\\\"17\\\",\\\"18\\\",\\\"19\\\",\\\"20\\\",\\\"21\\\",\\\"22\\\",\\\"23\\\",\\\"24\\\",\\\"25\\\",\\\"26\\\",\\\"27\\\",\\\"28\\\",\\\"29\\\",\\\"30\\\",\\\"31\\\",\\\"32\\\",\\\"33\\\",\\\"34\\\",\\\"35\\\",\\\"36\\\",\\\"37\\\",\\\"38\\\",\\\"39\\\",\\\"40\\\",\\\"41\\\",\\\"42\\\",\\\"43\\\",\\\"44\\\",\\\"45\\\",\\\"46\\\",\\\"47\\\",\\\"48\\\",\\\"49\\\",\\\"50\\\",\\\"51\\\",\\\"52\\\",\\\"53\\\",\\\"54\\\",\\\"55\\\",\\\"56\\\",\\\"57\\\",\\\"58\\\",\\\"59\\\",\\\"60\\\",\\\"61\\\",\\\"62\\\",\\\"63\\\",\\\"64\\\",\\\"65\\\",\\\"66\\\",\\\"67\\\",\\\"68\\\",\\\"69\\\",\\\"70\\\",\\\"71\\\",\\\"72\\\",\\\"73\\\",\\\"74\\\",\\\"75\\\",\\\"76\\\",\\\"77\\\",\\\"78\\\",\\\"79\\\",\\\"80\\\",\\\"81\\\",\\\"82\\\",\\\"83\\\",\\\"84\\\",\\\"85\\\",\\\"86\\\",\\\"87\\\",\\\"88\\\",\\\"89\\\",\\\"90\\\",\\\"91\\\",\\\"92\\\",\\\"93\\\",\\\"94\\\",\\\"95\\\",\\\"96\\\",\\\"97\\\",\\\"98\\\",\\\"99\\\",\\\"100\\\",\\\"101\\\",\\\"102\\\",\\\"103\\\",\\\"104\\\",\\\"105\\\",\\\"106\\\",\\\"107\\\",\\\"108\\\",\\\"109\\\",\\\"110\\\",\\\"111\\\",\\\"112\\\",\\\"113\\\",\\\"114\\\",\\\"115\\\",\\\"116\\\",\\\"117\\\",\\\"118\\\",\\\"119\\\",\\\"120\\\",\\\"121\\\",\\\"122\\\",\\\"123\\\",\\\"124\\\",\\\"125\\\",\\\"126\\\",\\\"127\\\",\\\"128\\\",\\\"129\\\",\\\"130\\\",\\\"131\\\",\\\"132\\\",\\\"133\\\",\\\"134\\\",\\\"135\\\",\\\"136\\\",\\\"137\\\",\\\"138\\\",\\\"139\\\",\\\"140\\\",\\\"141\\\",\\\"142\\\",\\\"143\\\",\\\"144\\\",\\\"145\\\",\\\"146\\\",\\\"147\\\",\\\"148\\\",\\\"149\\\",\\\"150\\\",\\\"151\\\",\\\"152\\\",\\\"153\\\",\\\"154\\\",\\\"155\\\",\\\"156\\\",\\\"157\\\",\\\"158\\\",\\\"159\\\",\\\"160\\\",\\\"161\\\",\\\"162\\\",\\\"163\\\",\\\"164\\\",\\\"165\\\",\\\"166\\\",\\\"167\\\",\\\"168\\\",\\\"169\\\",\\\"170\\\",\\\"171\\\",\\\"172\\\",\\\"173\\\",\\\"174\\\",\\\"175\\\",\\\"176\\\",\\\"177\\\",\\\"178\\\",\\\"179\\\",\\\"180\\\",\\\"181\\\",\\\"182\\\",\\\"183\\\",\\\"184\\\",\\\"185\\\",\\\"186\\\",\\\"187\\\",\\\"188\\\",\\\"189\\\",\\\"190\\\",\\\"191\\\",\\\"192\\\",\\\"193\\\",\\\"194\\\",\\\"195\\\",\\\"196\\\",\\\"197\\\",\\\"198\\\",\\\"199\\\",\\\"200\\\",\\\"201\\\",\\\"202\\\",\\\"203\\\",\\\"204\\\",\\\"205\\\",\\\"206\\\",\\\"207\\\",\\\"208\\\",\\\"209\\\",\\\"210\\\",\\\"211\\\",\\\"212\\\",\\\"213\\\",\\\"214\\\",\\\"215\\\",\\\"216\\\",\\\"217\\\",\\\"218\\\",\\\"219\\\",\\\"220\\\",\\\"221\\\",\\\"222\\\",\\\"223\\\",\\\"224\\\",\\\"225\\\",\\\"226\\\",\\\"227\\\",\\\"228\\\",\\\"229\\\",\\\"230\\\",\\\"231\\\",\\\"232\\\",\\\"233\\\",\\\"234\\\",\\\"235\\\",\\\"236\\\",\\\"237\\\",\\\"238\\\",\\\"239\\\",\\\"240\\\",\\\"241\\\",\\\"242\\\",\\\"243\\\",\\\"244\\\",\\\"245\\\",\\\"246\\\",\\\"247\\\",\\\"248\\\",\\\"249\\\",\\\"250\\\",\\\"251\\\",\\\"252\\\",\\\"253\\\",\\\"254\\\",\\\"255\\\",\\\"256\\\",\\\"257\\\",\\\"258\\\",\\\"259\\\",\\\"260\\\",\\\"261\\\",\\\"262\\\",\\\"263\\\",\\\"264\\\",\\\"265\\\",\\\"266\\\",\\\"267\\\",\\\"268\\\",\\\"269\\\",\\\"270\\\",\\\"271\\\",\\\"272\\\",\\\"273\\\",\\\"274\\\",\\\"275\\\",\\\"276\\\",\\\"277\\\",\\\"278\\\",\\\"279\\\",\\\"280\\\",\\\"281\\\",\\\"282\\\",\\\"283\\\",\\\"284\\\",\\\"285\\\",\\\"286\\\",\\\"287\\\",\\\"288\\\",\\\"289\\\",\\\"290\\\",\\\"291\\\",\\\"292\\\",\\\"293\\\",\\\"294\\\",\\\"295\\\",\\\"296\\\",\\\"297\\\",\\\"298\\\",\\\"299\\\",\\\"300\\\",\\\"301\\\",\\\"302\\\",\\\"303\\\",\\\"304\\\",\\\"305\\\",\\\"306\\\",\\\"307\\\",\\\"308\\\",\\\"309\\\",\\\"310\\\",\\\"311\\\",\\\"312\\\",\\\"313\\\",\\\"314\\\",\\\"315\\\",\\\"316\\\",\\\"317\\\",\\\"318\\\",\\\"319\\\",\\\"320\\\",\\\"321\\\",\\\"322\\\",\\\"323\\\",\\\"324\\\",\\\"325\\\",\\\"326\\\",\\\"327\\\",\\\"328\\\",\\\"329\\\",\\\"330\\\",\\\"331\\\",\\\"332\\\",\\\"333\\\",\\\"334\\\",\\\"335\\\",\\\"336\\\",\\\"337\\\",\\\"338\\\",\\\"339\\\",\\\"340\\\",\\\"341\\\",\\\"342\\\",\\\"343\\\",\\\"344\\\",\\\"345\\\",\\\"346\\\",\\\"347\\\",\\\"348\\\",\\\"349\\\",\\\"350\\\",\\\"351\\\",\\\"352\\\",\\\"353\\\",\\\"354\\\",\\\"355\\\",\\\"356\\\",\\\"357\\\",\\\"358\\\",\\\"359\\\",\\\"360\\\",\\\"361\\\",\\\"362\\\",\\\"363\\\",\\\"364\\\",\\\"365\\\",\\\"366\\\",\\\"367\\\",\\\"368\\\",\\\"369\\\",\\\"370\\\",\\\"371\\\",\\\"372\\\",\\\"373\\\",\\\"374\\\",\\\"375\\\",\\\"376\\\",\\\"377\\\",\\\"378\\\",\\\"379\\\",\\\"380\\\",\\\"381\\\",\\\"382\\\",\\\"383\\\",\\\"384\\\",\\\"385\\\",\\\"386\\\",\\\"387\\\",\\\"388\\\",\\\"389\\\",\\\"390\\\",\\\"391\\\",\\\"392\\\",\\\"393\\\",\\\"394\\\",\\\"395\\\",\\\"396\\\",\\\"397\\\",\\\"398\\\",\\\"399\\\",\\\"400\\\"],\\\"changes\\\":WebIO.getval({\\\"name\\\":\\\"changes\\\",\\\"scope\\\":\\\"11158847470735915112\\\",\\\"id\\\":\\\"127055134958699330\\\",\\\"type\\\":\\\"observable\\\"}),\\\"index\\\":WebIO.getval({\\\"name\\\":\\\"index\\\",\\\"scope\\\":\\\"11158847470735915112\\\",\\\"id\\\":\\\"13250034460073044813\\\",\\\"type\\\":\\\"observable\\\"})};\\n    var self = this;\\n    function AppViewModel() {\\n        for (var key in json_data) {\\n            var el = json_data[key];\\n            this[key] = Array.isArray(el) ? ko.observableArray(el) : ko.observable(el);\\n        }\\n        \\n        [this[\\\"formatted_val\\\"]=ko.computed(    function(){\\n        return this.formatted_vals()[parseInt(this.index())-(1)];\\n    }\\n,this)]\\n        [this[\\\"changes\\\"].subscribe((function (val){!(this.valueFromJulia[\\\"changes\\\"]) ? (WebIO.setval({\\\"name\\\":\\\"changes\\\",\\\"scope\\\":\\\"11158847470735915112\\\",\\\"id\\\":\\\"127055134958699330\\\",\\\"type\\\":\\\"observable\\\"},val)) : undefined; return this.valueFromJulia[\\\"changes\\\"]=false}),self),this[\\\"index\\\"].subscribe((function (val){!(this.valueFromJulia[\\\"index\\\"]) ? (WebIO.setval({\\\"name\\\":\\\"index\\\",\\\"scope\\\":\\\"11158847470735915112\\\",\\\"id\\\":\\\"13250034460073044813\\\",\\\"type\\\":\\\"observable\\\"},val)) : undefined; return this.valueFromJulia[\\\"index\\\"]=false}),self)]\\n        \\n    }\\n    self.model = new AppViewModel();\\n    self.valueFromJulia = {};\\n    for (var key in json_data) {\\n        self.valueFromJulia[key] = false;\\n    }\\n    ko.applyBindings(self.model, self.dom);\\n}\\n);\\n    (WebIO.importBlock({\\\"data\\\":[{\\\"name\\\":\\\"knockout\\\",\\\"type\\\":\\\"js\\\",\\\"url\\\":\\\"\\/assetserver\\/727383f2a47bd31570b7da84eee7b022dd6d7c78-knockout.js\\\"},{\\\"name\\\":\\\"knockout_punches\\\",\\\"type\\\":\\\"js\\\",\\\"url\\\":\\\"\\/assetserver\\/382b41b3b1bd9f26f75861d360bad7f8beea211f-knockout_punches.js\\\"}],\\\"type\\\":\\\"async_block\\\"})).then((imports) => handler.apply(this, imports));\\n}\\n\"],\"observables\":{\"changes\":{\"sync\":false,\"id\":\"127055134958699330\",\"value\":0},\"index\":{\"sync\":true,\"id\":\"13250034460073044813\",\"value\":1}}},\"children\":[{\"props\":{\"className\":\"interact-flex-row interact-widget\"},\"nodeType\":\"DOM\",\"type\":\"node\",\"instanceArgs\":{\"namespace\":\"html\",\"tag\":\"div\"},\"children\":[{\"props\":{\"className\":\"interact-flex-row-left\"},\"nodeType\":\"DOM\",\"type\":\"node\",\"instanceArgs\":{\"namespace\":\"html\",\"tag\":\"div\"},\"children\":[{\"props\":{\"className\":\"interact \",\"style\":{\"padding\":\"5px 10px 0px 10px\"}},\"nodeType\":\"DOM\",\"type\":\"node\",\"instanceArgs\":{\"namespace\":\"html\",\"tag\":\"label\"},\"children\":[\"time\"]}]},{\"props\":{\"className\":\"interact-flex-row-center\"},\"nodeType\":\"DOM\",\"type\":\"node\",\"instanceArgs\":{\"namespace\":\"html\",\"tag\":\"div\"},\"children\":[{\"props\":{\"max\":400,\"min\":1,\"attributes\":{\"type\":\"range\",\"data-bind\":\"numericValue: index, valueUpdate: 'input', event: {change: function (){this.changes(this.changes()+1)}}\",\"orient\":\"horizontal\"},\"step\":1,\"className\":\"slider slider is-fullwidth\",\"style\":{}},\"nodeType\":\"DOM\",\"type\":\"node\",\"instanceArgs\":{\"namespace\":\"html\",\"tag\":\"input\"},\"children\":[]}]},{\"props\":{\"className\":\"interact-flex-row-right\"},\"nodeType\":\"DOM\",\"type\":\"node\",\"instanceArgs\":{\"namespace\":\"html\",\"tag\":\"div\"},\"children\":[{\"props\":{\"attributes\":{\"data-bind\":\"text: formatted_val\"}},\"nodeType\":\"DOM\",\"type\":\"node\",\"instanceArgs\":{\"namespace\":\"html\",\"tag\":\"p\"},\"children\":[]}]}]}]}]},{\"props\":{\"className\":\"field interact-widget\"},\"nodeType\":\"DOM\",\"type\":\"node\",\"instanceArgs\":{\"namespace\":\"html\",\"tag\":\"div\"},\"children\":[{\"props\":{},\"nodeType\":\"Scope\",\"type\":\"node\",\"instanceArgs\":{\"imports\":{\"data\":[{\"name\":\"knockout\",\"type\":\"js\",\"url\":\"\\/assetserver\\/727383f2a47bd31570b7da84eee7b022dd6d7c78-knockout.js\"},{\"name\":\"knockout_punches\",\"type\":\"js\",\"url\":\"\\/assetserver\\/382b41b3b1bd9f26f75861d360bad7f8beea211f-knockout_punches.js\"},{\"name\":null,\"type\":\"js\",\"url\":\"\\/assetserver\\/5ab20f1060420992a9b82a65b735dee4d81ef413-all.js\"},{\"name\":null,\"type\":\"css\",\"url\":\"\\/assetserver\\/1cc0ed62837210b80a182cc3676512f895dab686-style.css\"},{\"name\":null,\"type\":\"css\",\"url\":\"\\/assetserver\\/2eee816f616df3549d7044d45e744fbf8d42bfa1-bulma_confined.min.css\"}],\"type\":\"async_block\"},\"id\":\"7587535738147350570\",\"handlers\":{\"changes\":[\"(function (val){return (val!=this.model[\\\"changes\\\"]()) ? (this.valueFromJulia[\\\"changes\\\"]=true, this.model[\\\"changes\\\"](val)) : undefined})\"],\"index\":[\"(function (val){return (val!=this.model[\\\"index\\\"]()) ? (this.valueFromJulia[\\\"index\\\"]=true, this.model[\\\"index\\\"](val)) : undefined})\"]},\"systemjs_options\":null,\"mount_callbacks\":[\"function () {\\n    var handler = (function (ko, koPunches) {\\n    ko.punches.enableAll();\\n    ko.bindingHandlers.numericValue = {\\n        init: function(element, valueAccessor, allBindings, data, context) {\\n            var stringified = ko.observable(ko.unwrap(valueAccessor()));\\n            stringified.subscribe(function(value) {\\n                var val = parseFloat(value);\\n                if (!isNaN(val)) {\\n                    valueAccessor()(val);\\n                }\\n            });\\n            valueAccessor().subscribe(function(value) {\\n                var str = JSON.stringify(value);\\n                if ((str == \\\"0\\\") && ([\\\"-0\\\", \\\"-0.\\\"].indexOf(stringified()) >= 0))\\n                     return;\\n                 if ([\\\"null\\\", \\\"\\\"].indexOf(str) >= 0)\\n                     return;\\n                stringified(str);\\n            });\\n            ko.applyBindingsToNode(\\n                element,\\n                {\\n                    value: stringified,\\n                    valueUpdate: allBindings.get('valueUpdate'),\\n                },\\n                context,\\n            );\\n        }\\n    };\\n    var json_data = {\\\"formatted_vals\\\":[\\\"0.1\\\",\\\"0.2\\\",\\\"0.3\\\",\\\"0.4\\\",\\\"0.5\\\",\\\"0.6\\\",\\\"0.7\\\",\\\"0.8\\\",\\\"0.9\\\",\\\"1.0\\\",\\\"1.1\\\",\\\"1.2\\\",\\\"1.3\\\",\\\"1.4\\\",\\\"1.5\\\",\\\"1.6\\\",\\\"1.7\\\",\\\"1.8\\\",\\\"1.9\\\",\\\"2.0\\\"],\\\"changes\\\":WebIO.getval({\\\"name\\\":\\\"changes\\\",\\\"scope\\\":\\\"7587535738147350570\\\",\\\"id\\\":\\\"17572010286264326827\\\",\\\"type\\\":\\\"observable\\\"}),\\\"index\\\":WebIO.getval({\\\"name\\\":\\\"index\\\",\\\"scope\\\":\\\"7587535738147350570\\\",\\\"id\\\":\\\"9739638686758683671\\\",\\\"type\\\":\\\"observable\\\"})};\\n    var self = this;\\n    function AppViewModel() {\\n        for (var key in json_data) {\\n            var el = json_data[key];\\n            this[key] = Array.isArray(el) ? ko.observableArray(el) : ko.observable(el);\\n        }\\n        \\n        [this[\\\"formatted_val\\\"]=ko.computed(    function(){\\n        return this.formatted_vals()[parseInt(this.index())-(1)];\\n    }\\n,this)]\\n        [this[\\\"changes\\\"].subscribe((function (val){!(this.valueFromJulia[\\\"changes\\\"]) ? (WebIO.setval({\\\"name\\\":\\\"changes\\\",\\\"scope\\\":\\\"7587535738147350570\\\",\\\"id\\\":\\\"17572010286264326827\\\",\\\"type\\\":\\\"observable\\\"},val)) : undefined; return this.valueFromJulia[\\\"changes\\\"]=false}),self),this[\\\"index\\\"].subscribe((function (val){!(this.valueFromJulia[\\\"index\\\"]) ? (WebIO.setval({\\\"name\\\":\\\"index\\\",\\\"scope\\\":\\\"7587535738147350570\\\",\\\"id\\\":\\\"9739638686758683671\\\",\\\"type\\\":\\\"observable\\\"},val)) : undefined; return this.valueFromJulia[\\\"index\\\"]=false}),self)]\\n        \\n    }\\n    self.model = new AppViewModel();\\n    self.valueFromJulia = {};\\n    for (var key in json_data) {\\n        self.valueFromJulia[key] = false;\\n    }\\n    ko.applyBindings(self.model, self.dom);\\n}\\n);\\n    (WebIO.importBlock({\\\"data\\\":[{\\\"name\\\":\\\"knockout\\\",\\\"type\\\":\\\"js\\\",\\\"url\\\":\\\"\\/assetserver\\/727383f2a47bd31570b7da84eee7b022dd6d7c78-knockout.js\\\"},{\\\"name\\\":\\\"knockout_punches\\\",\\\"type\\\":\\\"js\\\",\\\"url\\\":\\\"\\/assetserver\\/382b41b3b1bd9f26f75861d360bad7f8beea211f-knockout_punches.js\\\"}],\\\"type\\\":\\\"async_block\\\"})).then((imports) => handler.apply(this, imports));\\n}\\n\"],\"observables\":{\"changes\":{\"sync\":false,\"id\":\"17572010286264326827\",\"value\":0},\"index\":{\"sync\":true,\"id\":\"9739638686758683671\",\"value\":10}}},\"children\":[{\"props\":{\"className\":\"interact-flex-row interact-widget\"},\"nodeType\":\"DOM\",\"type\":\"node\",\"instanceArgs\":{\"namespace\":\"html\",\"tag\":\"div\"},\"children\":[{\"props\":{\"className\":\"interact-flex-row-left\"},\"nodeType\":\"DOM\",\"type\":\"node\",\"instanceArgs\":{\"namespace\":\"html\",\"tag\":\"div\"},\"children\":[{\"props\":{\"className\":\"interact \",\"style\":{\"padding\":\"5px 10px 0px 10px\"}},\"nodeType\":\"DOM\",\"type\":\"node\",\"instanceArgs\":{\"namespace\":\"html\",\"tag\":\"label\"},\"children\":[\"scale\"]}]},{\"props\":{\"className\":\"interact-flex-row-center\"},\"nodeType\":\"DOM\",\"type\":\"node\",\"instanceArgs\":{\"namespace\":\"html\",\"tag\":\"div\"},\"children\":[{\"props\":{\"max\":20,\"min\":1,\"attributes\":{\"type\":\"range\",\"data-bind\":\"numericValue: index, valueUpdate: 'input', event: {change: function (){this.changes(this.changes()+1)}}\",\"orient\":\"horizontal\"},\"step\":1,\"className\":\"slider slider is-fullwidth\",\"style\":{}},\"nodeType\":\"DOM\",\"type\":\"node\",\"instanceArgs\":{\"namespace\":\"html\",\"tag\":\"input\"},\"children\":[]}]},{\"props\":{\"className\":\"interact-flex-row-right\"},\"nodeType\":\"DOM\",\"type\":\"node\",\"instanceArgs\":{\"namespace\":\"html\",\"tag\":\"div\"},\"children\":[{\"props\":{\"attributes\":{\"data-bind\":\"text: formatted_val\"}},\"nodeType\":\"DOM\",\"type\":\"node\",\"instanceArgs\":{\"namespace\":\"html\",\"tag\":\"p\"},\"children\":[]}]}]}]}]},{\"props\":{\"style\":{\"display\":\"flex\",\"flex-direction\":\"column\"}},\"nodeType\":\"DOM\",\"type\":\"node\",\"instanceArgs\":{\"namespace\":\"html\",\"tag\":\"div\"},\"children\":[]},{\"props\":{\"style\":{\"display\":\"flex\",\"flex-direction\":\"column\"}},\"nodeType\":\"DOM\",\"type\":\"node\",\"instanceArgs\":{\"namespace\":\"html\",\"tag\":\"div\"},\"children\":[{\"props\":{\"className\":\"field interact-widget\"},\"nodeType\":\"DOM\",\"type\":\"node\",\"instanceArgs\":{\"namespace\":\"html\",\"tag\":\"div\"},\"children\":[{\"props\":{},\"nodeType\":\"Scope\",\"type\":\"node\",\"instanceArgs\":{\"imports\":{\"data\":[{\"name\":\"knockout\",\"type\":\"js\",\"url\":\"\\/assetserver\\/727383f2a47bd31570b7da84eee7b022dd6d7c78-knockout.js\"},{\"name\":\"knockout_punches\",\"type\":\"js\",\"url\":\"\\/assetserver\\/382b41b3b1bd9f26f75861d360bad7f8beea211f-knockout_punches.js\"},{\"name\":null,\"type\":\"js\",\"url\":\"\\/assetserver\\/5ab20f1060420992a9b82a65b735dee4d81ef413-all.js\"},{\"name\":null,\"type\":\"css\",\"url\":\"\\/assetserver\\/1cc0ed62837210b80a182cc3676512f895dab686-style.css\"},{\"name\":null,\"type\":\"css\",\"url\":\"\\/assetserver\\/2eee816f616df3549d7044d45e744fbf8d42bfa1-bulma_confined.min.css\"}],\"type\":\"async_block\"},\"id\":\"11010680515670742921\",\"handlers\":{\"changes\":[\"(function (val){return (val!=this.model[\\\"changes\\\"]()) ? (this.valueFromJulia[\\\"changes\\\"]=true, this.model[\\\"changes\\\"](val)) : undefined})\"],\"index\":[\"(function (val){return (val!=this.model[\\\"index\\\"]()) ? (this.valueFromJulia[\\\"index\\\"]=true, this.model[\\\"index\\\"](val)) : undefined})\"]},\"systemjs_options\":null,\"mount_callbacks\":[\"function () {\\n    var handler = (function (ko, koPunches) {\\n    ko.punches.enableAll();\\n    ko.bindingHandlers.numericValue = {\\n        init: function(element, valueAccessor, allBindings, data, context) {\\n            var stringified = ko.observable(ko.unwrap(valueAccessor()));\\n            stringified.subscribe(function(value) {\\n                var val = parseFloat(value);\\n                if (!isNaN(val)) {\\n                    valueAccessor()(val);\\n                }\\n            });\\n            valueAccessor().subscribe(function(value) {\\n                var str = JSON.stringify(value);\\n                if ((str == \\\"0\\\") && ([\\\"-0\\\", \\\"-0.\\\"].indexOf(stringified()) >= 0))\\n                     return;\\n                 if ([\\\"null\\\", \\\"\\\"].indexOf(str) >= 0)\\n                     return;\\n                stringified(str);\\n            });\\n            ko.applyBindingsToNode(\\n                element,\\n                {\\n                    value: stringified,\\n                    valueUpdate: allBindings.get('valueUpdate'),\\n                },\\n                context,\\n            );\\n        }\\n    };\\n    var json_data = {\\\"formatted_vals\\\":[\\\"0.01\\\",\\\"0.11\\\",\\\"0.21\\\",\\\"0.31\\\",\\\"0.41\\\",\\\"0.51\\\",\\\"0.61\\\",\\\"0.71\\\",\\\"0.81\\\",\\\"0.91\\\"],\\\"changes\\\":WebIO.getval({\\\"name\\\":\\\"changes\\\",\\\"scope\\\":\\\"11010680515670742921\\\",\\\"id\\\":\\\"4103109284890459471\\\",\\\"type\\\":\\\"observable\\\"}),\\\"index\\\":WebIO.getval({\\\"name\\\":\\\"index\\\",\\\"scope\\\":\\\"11010680515670742921\\\",\\\"id\\\":\\\"3231835886720242495\\\",\\\"type\\\":\\\"observable\\\"})};\\n    var self = this;\\n    function AppViewModel() {\\n        for (var key in json_data) {\\n            var el = json_data[key];\\n            this[key] = Array.isArray(el) ? ko.observableArray(el) : ko.observable(el);\\n        }\\n        \\n        [this[\\\"formatted_val\\\"]=ko.computed(    function(){\\n        return this.formatted_vals()[parseInt(this.index())-(1)];\\n    }\\n,this)]\\n        [this[\\\"changes\\\"].subscribe((function (val){!(this.valueFromJulia[\\\"changes\\\"]) ? (WebIO.setval({\\\"name\\\":\\\"changes\\\",\\\"scope\\\":\\\"11010680515670742921\\\",\\\"id\\\":\\\"4103109284890459471\\\",\\\"type\\\":\\\"observable\\\"},val)) : undefined; return this.valueFromJulia[\\\"changes\\\"]=false}),self),this[\\\"index\\\"].subscribe((function (val){!(this.valueFromJulia[\\\"index\\\"]) ? (WebIO.setval({\\\"name\\\":\\\"index\\\",\\\"scope\\\":\\\"11010680515670742921\\\",\\\"id\\\":\\\"3231835886720242495\\\",\\\"type\\\":\\\"observable\\\"},val)) : undefined; return this.valueFromJulia[\\\"index\\\"]=false}),self)]\\n        \\n    }\\n    self.model = new AppViewModel();\\n    self.valueFromJulia = {};\\n    for (var key in json_data) {\\n        self.valueFromJulia[key] = false;\\n    }\\n    ko.applyBindings(self.model, self.dom);\\n}\\n);\\n    (WebIO.importBlock({\\\"data\\\":[{\\\"name\\\":\\\"knockout\\\",\\\"type\\\":\\\"js\\\",\\\"url\\\":\\\"\\/assetserver\\/727383f2a47bd31570b7da84eee7b022dd6d7c78-knockout.js\\\"},{\\\"name\\\":\\\"knockout_punches\\\",\\\"type\\\":\\\"js\\\",\\\"url\\\":\\\"\\/assetserver\\/382b41b3b1bd9f26f75861d360bad7f8beea211f-knockout_punches.js\\\"}],\\\"type\\\":\\\"async_block\\\"})).then((imports) => handler.apply(this, imports));\\n}\\n\"],\"observables\":{\"changes\":{\"sync\":false,\"id\":\"4103109284890459471\",\"value\":0},\"index\":{\"sync\":true,\"id\":\"3231835886720242495\",\"value\":5}}},\"children\":[{\"props\":{\"className\":\"interact-flex-row interact-widget\"},\"nodeType\":\"DOM\",\"type\":\"node\",\"instanceArgs\":{\"namespace\":\"html\",\"tag\":\"div\"},\"children\":[{\"props\":{\"className\":\"interact-flex-row-left\"},\"nodeType\":\"DOM\",\"type\":\"node\",\"instanceArgs\":{\"namespace\":\"html\",\"tag\":\"div\"},\"children\":[{\"props\":{\"className\":\"interact \",\"style\":{\"padding\":\"5px 10px 0px 10px\"}},\"nodeType\":\"DOM\",\"type\":\"node\",\"instanceArgs\":{\"namespace\":\"html\",\"tag\":\"label\"},\"children\":[\"min_dis\"]}]},{\"props\":{\"className\":\"interact-flex-row-center\"},\"nodeType\":\"DOM\",\"type\":\"node\",\"instanceArgs\":{\"namespace\":\"html\",\"tag\":\"div\"},\"children\":[{\"props\":{\"max\":10,\"min\":1,\"attributes\":{\"type\":\"range\",\"data-bind\":\"numericValue: index, valueUpdate: 'input', event: {change: function (){this.changes(this.changes()+1)}}\",\"orient\":\"horizontal\"},\"step\":1,\"className\":\"slider slider is-fullwidth\",\"style\":{}},\"nodeType\":\"DOM\",\"type\":\"node\",\"instanceArgs\":{\"namespace\":\"html\",\"tag\":\"input\"},\"children\":[]}]},{\"props\":{\"className\":\"interact-flex-row-right\"},\"nodeType\":\"DOM\",\"type\":\"node\",\"instanceArgs\":{\"namespace\":\"html\",\"tag\":\"div\"},\"children\":[{\"props\":{\"attributes\":{\"data-bind\":\"text: formatted_val\"}},\"nodeType\":\"DOM\",\"type\":\"node\",\"instanceArgs\":{\"namespace\":\"html\",\"tag\":\"p\"},\"children\":[]}]}]}]}]},{\"props\":{\"className\":\"field interact-widget\"},\"nodeType\":\"DOM\",\"type\":\"node\",\"instanceArgs\":{\"namespace\":\"html\",\"tag\":\"div\"},\"children\":[{\"props\":{},\"nodeType\":\"Scope\",\"type\":\"node\",\"instanceArgs\":{\"imports\":{\"data\":[{\"name\":\"knockout\",\"type\":\"js\",\"url\":\"\\/assetserver\\/727383f2a47bd31570b7da84eee7b022dd6d7c78-knockout.js\"},{\"name\":\"knockout_punches\",\"type\":\"js\",\"url\":\"\\/assetserver\\/382b41b3b1bd9f26f75861d360bad7f8beea211f-knockout_punches.js\"},{\"name\":null,\"type\":\"js\",\"url\":\"\\/assetserver\\/5ab20f1060420992a9b82a65b735dee4d81ef413-all.js\"},{\"name\":null,\"type\":\"css\",\"url\":\"\\/assetserver\\/1cc0ed62837210b80a182cc3676512f895dab686-style.css\"},{\"name\":null,\"type\":\"css\",\"url\":\"\\/assetserver\\/2eee816f616df3549d7044d45e744fbf8d42bfa1-bulma_confined.min.css\"}],\"type\":\"async_block\"},\"id\":\"17585652281365975552\",\"handlers\":{\"changes\":[\"(function (val){return (val!=this.model[\\\"changes\\\"]()) ? (this.valueFromJulia[\\\"changes\\\"]=true, this.model[\\\"changes\\\"](val)) : undefined})\"],\"index\":[\"(function (val){return (val!=this.model[\\\"index\\\"]()) ? (this.valueFromJulia[\\\"index\\\"]=true, this.model[\\\"index\\\"](val)) : undefined})\"]},\"systemjs_options\":null,\"mount_callbacks\":[\"function () {\\n    var handler = (function (ko, koPunches) {\\n    ko.punches.enableAll();\\n    ko.bindingHandlers.numericValue = {\\n        init: function(element, valueAccessor, allBindings, data, context) {\\n            var stringified = ko.observable(ko.unwrap(valueAccessor()));\\n            stringified.subscribe(function(value) {\\n                var val = parseFloat(value);\\n                if (!isNaN(val)) {\\n                    valueAccessor()(val);\\n                }\\n            });\\n            valueAccessor().subscribe(function(value) {\\n                var str = JSON.stringify(value);\\n                if ((str == \\\"0\\\") && ([\\\"-0\\\", \\\"-0.\\\"].indexOf(stringified()) >= 0))\\n                     return;\\n                 if ([\\\"null\\\", \\\"\\\"].indexOf(str) >= 0)\\n                     return;\\n                stringified(str);\\n            });\\n            ko.applyBindingsToNode(\\n                element,\\n                {\\n                    value: stringified,\\n                    valueUpdate: allBindings.get('valueUpdate'),\\n                },\\n                context,\\n            );\\n        }\\n    };\\n    var json_data = {\\\"formatted_vals\\\":[\\\"0.01\\\",\\\"0.02\\\",\\\"0.03\\\",\\\"0.04\\\",\\\"0.05\\\",\\\"0.06\\\",\\\"0.07\\\",\\\"0.08\\\",\\\"0.09\\\",\\\"0.1\\\",\\\"0.11\\\",\\\"0.12\\\",\\\"0.13\\\",\\\"0.14\\\",\\\"0.15\\\",\\\"0.16\\\",\\\"0.17\\\",\\\"0.18\\\",\\\"0.19\\\",\\\"0.2\\\",\\\"0.21\\\",\\\"0.22\\\",\\\"0.23\\\",\\\"0.24\\\",\\\"0.25\\\",\\\"0.26\\\",\\\"0.27\\\",\\\"0.28\\\",\\\"0.29\\\",\\\"0.3\\\",\\\"0.31\\\",\\\"0.32\\\",\\\"0.33\\\",\\\"0.34\\\",\\\"0.35\\\",\\\"0.36\\\",\\\"0.37\\\",\\\"0.38\\\",\\\"0.39\\\",\\\"0.4\\\",\\\"0.41\\\",\\\"0.42\\\",\\\"0.43\\\",\\\"0.44\\\",\\\"0.45\\\",\\\"0.46\\\",\\\"0.47\\\",\\\"0.48\\\",\\\"0.49\\\",\\\"0.5\\\",\\\"0.51\\\",\\\"0.52\\\",\\\"0.53\\\",\\\"0.54\\\",\\\"0.55\\\",\\\"0.56\\\",\\\"0.57\\\",\\\"0.58\\\",\\\"0.59\\\",\\\"0.6\\\",\\\"0.61\\\",\\\"0.62\\\",\\\"0.63\\\",\\\"0.64\\\",\\\"0.65\\\",\\\"0.66\\\",\\\"0.67\\\",\\\"0.68\\\",\\\"0.69\\\",\\\"0.7\\\",\\\"0.71\\\",\\\"0.72\\\",\\\"0.73\\\",\\\"0.74\\\",\\\"0.75\\\",\\\"0.76\\\",\\\"0.77\\\",\\\"0.78\\\",\\\"0.79\\\",\\\"0.8\\\",\\\"0.81\\\",\\\"0.82\\\",\\\"0.83\\\",\\\"0.84\\\",\\\"0.85\\\",\\\"0.86\\\",\\\"0.87\\\",\\\"0.88\\\",\\\"0.89\\\",\\\"0.9\\\",\\\"0.91\\\",\\\"0.92\\\",\\\"0.93\\\",\\\"0.94\\\",\\\"0.95\\\",\\\"0.96\\\",\\\"0.97\\\",\\\"0.98\\\",\\\"0.99\\\",\\\"1.0\\\"],\\\"changes\\\":WebIO.getval({\\\"name\\\":\\\"changes\\\",\\\"scope\\\":\\\"17585652281365975552\\\",\\\"id\\\":\\\"3909659297749547453\\\",\\\"type\\\":\\\"observable\\\"}),\\\"index\\\":WebIO.getval({\\\"name\\\":\\\"index\\\",\\\"scope\\\":\\\"17585652281365975552\\\",\\\"id\\\":\\\"11529249550068261377\\\",\\\"type\\\":\\\"observable\\\"})};\\n    var self = this;\\n    function AppViewModel() {\\n        for (var key in json_data) {\\n            var el = json_data[key];\\n            this[key] = Array.isArray(el) ? ko.observableArray(el) : ko.observable(el);\\n        }\\n        \\n        [this[\\\"formatted_val\\\"]=ko.computed(    function(){\\n        return this.formatted_vals()[parseInt(this.index())-(1)];\\n    }\\n,this)]\\n        [this[\\\"changes\\\"].subscribe((function (val){!(this.valueFromJulia[\\\"changes\\\"]) ? (WebIO.setval({\\\"name\\\":\\\"changes\\\",\\\"scope\\\":\\\"17585652281365975552\\\",\\\"id\\\":\\\"3909659297749547453\\\",\\\"type\\\":\\\"observable\\\"},val)) : undefined; return this.valueFromJulia[\\\"changes\\\"]=false}),self),this[\\\"index\\\"].subscribe((function (val){!(this.valueFromJulia[\\\"index\\\"]) ? (WebIO.setval({\\\"name\\\":\\\"index\\\",\\\"scope\\\":\\\"17585652281365975552\\\",\\\"id\\\":\\\"11529249550068261377\\\",\\\"type\\\":\\\"observable\\\"},val)) : undefined; return this.valueFromJulia[\\\"index\\\"]=false}),self)]\\n        \\n    }\\n    self.model = new AppViewModel();\\n    self.valueFromJulia = {};\\n    for (var key in json_data) {\\n        self.valueFromJulia[key] = false;\\n    }\\n    ko.applyBindings(self.model, self.dom);\\n}\\n);\\n    (WebIO.importBlock({\\\"data\\\":[{\\\"name\\\":\\\"knockout\\\",\\\"type\\\":\\\"js\\\",\\\"url\\\":\\\"\\/assetserver\\/727383f2a47bd31570b7da84eee7b022dd6d7c78-knockout.js\\\"},{\\\"name\\\":\\\"knockout_punches\\\",\\\"type\\\":\\\"js\\\",\\\"url\\\":\\\"\\/assetserver\\/382b41b3b1bd9f26f75861d360bad7f8beea211f-knockout_punches.js\\\"}],\\\"type\\\":\\\"async_block\\\"})).then((imports) => handler.apply(this, imports));\\n}\\n\"],\"observables\":{\"changes\":{\"sync\":false,\"id\":\"3909659297749547453\",\"value\":0},\"index\":{\"sync\":true,\"id\":\"11529249550068261377\",\"value\":50}}},\"children\":[{\"props\":{\"className\":\"interact-flex-row interact-widget\"},\"nodeType\":\"DOM\",\"type\":\"node\",\"instanceArgs\":{\"namespace\":\"html\",\"tag\":\"div\"},\"children\":[{\"props\":{\"className\":\"interact-flex-row-left\"},\"nodeType\":\"DOM\",\"type\":\"node\",\"instanceArgs\":{\"namespace\":\"html\",\"tag\":\"div\"},\"children\":[{\"props\":{\"className\":\"interact \",\"style\":{\"padding\":\"5px 10px 0px 10px\"}},\"nodeType\":\"DOM\",\"type\":\"node\",\"instanceArgs\":{\"namespace\":\"html\",\"tag\":\"label\"},\"children\":[\"coh_fac\"]}]},{\"props\":{\"className\":\"interact-flex-row-center\"},\"nodeType\":\"DOM\",\"type\":\"node\",\"instanceArgs\":{\"namespace\":\"html\",\"tag\":\"div\"},\"children\":[{\"props\":{\"max\":100,\"min\":1,\"attributes\":{\"type\":\"range\",\"data-bind\":\"numericValue: index, valueUpdate: 'input', event: {change: function (){this.changes(this.changes()+1)}}\",\"orient\":\"horizontal\"},\"step\":1,\"className\":\"slider slider is-fullwidth\",\"style\":{}},\"nodeType\":\"DOM\",\"type\":\"node\",\"instanceArgs\":{\"namespace\":\"html\",\"tag\":\"input\"},\"children\":[]}]},{\"props\":{\"className\":\"interact-flex-row-right\"},\"nodeType\":\"DOM\",\"type\":\"node\",\"instanceArgs\":{\"namespace\":\"html\",\"tag\":\"div\"},\"children\":[{\"props\":{\"attributes\":{\"data-bind\":\"text: formatted_val\"}},\"nodeType\":\"DOM\",\"type\":\"node\",\"instanceArgs\":{\"namespace\":\"html\",\"tag\":\"p\"},\"children\":[]}]}]}]}]},{\"props\":{\"className\":\"field interact-widget\"},\"nodeType\":\"DOM\",\"type\":\"node\",\"instanceArgs\":{\"namespace\":\"html\",\"tag\":\"div\"},\"children\":[{\"props\":{},\"nodeType\":\"Scope\",\"type\":\"node\",\"instanceArgs\":{\"imports\":{\"data\":[{\"name\":\"knockout\",\"type\":\"js\",\"url\":\"\\/assetserver\\/727383f2a47bd31570b7da84eee7b022dd6d7c78-knockout.js\"},{\"name\":\"knockout_punches\",\"type\":\"js\",\"url\":\"\\/assetserver\\/382b41b3b1bd9f26f75861d360bad7f8beea211f-knockout_punches.js\"},{\"name\":null,\"type\":\"js\",\"url\":\"\\/assetserver\\/5ab20f1060420992a9b82a65b735dee4d81ef413-all.js\"},{\"name\":null,\"type\":\"css\",\"url\":\"\\/assetserver\\/1cc0ed62837210b80a182cc3676512f895dab686-style.css\"},{\"name\":null,\"type\":\"css\",\"url\":\"\\/assetserver\\/2eee816f616df3549d7044d45e744fbf8d42bfa1-bulma_confined.min.css\"}],\"type\":\"async_block\"},\"id\":\"2934593135734637057\",\"handlers\":{\"changes\":[\"(function (val){return (val!=this.model[\\\"changes\\\"]()) ? (this.valueFromJulia[\\\"changes\\\"]=true, this.model[\\\"changes\\\"](val)) : undefined})\"],\"index\":[\"(function (val){return (val!=this.model[\\\"index\\\"]()) ? (this.valueFromJulia[\\\"index\\\"]=true, this.model[\\\"index\\\"](val)) : undefined})\"]},\"systemjs_options\":null,\"mount_callbacks\":[\"function () {\\n    var handler = (function (ko, koPunches) {\\n    ko.punches.enableAll();\\n    ko.bindingHandlers.numericValue = {\\n        init: function(element, valueAccessor, allBindings, data, context) {\\n            var stringified = ko.observable(ko.unwrap(valueAccessor()));\\n            stringified.subscribe(function(value) {\\n                var val = parseFloat(value);\\n                if (!isNaN(val)) {\\n                    valueAccessor()(val);\\n                }\\n            });\\n            valueAccessor().subscribe(function(value) {\\n                var str = JSON.stringify(value);\\n                if ((str == \\\"0\\\") && ([\\\"-0\\\", \\\"-0.\\\"].indexOf(stringified()) >= 0))\\n                     return;\\n                 if ([\\\"null\\\", \\\"\\\"].indexOf(str) >= 0)\\n                     return;\\n                stringified(str);\\n            });\\n            ko.applyBindingsToNode(\\n                element,\\n                {\\n                    value: stringified,\\n                    valueUpdate: allBindings.get('valueUpdate'),\\n                },\\n                context,\\n            );\\n        }\\n    };\\n    var json_data = {\\\"formatted_vals\\\":[\\\"0.01\\\",\\\"0.02\\\",\\\"0.03\\\",\\\"0.04\\\",\\\"0.05\\\",\\\"0.06\\\",\\\"0.07\\\",\\\"0.08\\\",\\\"0.09\\\",\\\"0.1\\\",\\\"0.11\\\",\\\"0.12\\\",\\\"0.13\\\",\\\"0.14\\\",\\\"0.15\\\",\\\"0.16\\\",\\\"0.17\\\",\\\"0.18\\\",\\\"0.19\\\",\\\"0.2\\\",\\\"0.21\\\",\\\"0.22\\\",\\\"0.23\\\",\\\"0.24\\\",\\\"0.25\\\",\\\"0.26\\\",\\\"0.27\\\",\\\"0.28\\\",\\\"0.29\\\",\\\"0.3\\\",\\\"0.31\\\",\\\"0.32\\\",\\\"0.33\\\",\\\"0.34\\\",\\\"0.35\\\",\\\"0.36\\\",\\\"0.37\\\",\\\"0.38\\\",\\\"0.39\\\",\\\"0.4\\\",\\\"0.41\\\",\\\"0.42\\\",\\\"0.43\\\",\\\"0.44\\\",\\\"0.45\\\",\\\"0.46\\\",\\\"0.47\\\",\\\"0.48\\\",\\\"0.49\\\",\\\"0.5\\\",\\\"0.51\\\",\\\"0.52\\\",\\\"0.53\\\",\\\"0.54\\\",\\\"0.55\\\",\\\"0.56\\\",\\\"0.57\\\",\\\"0.58\\\",\\\"0.59\\\",\\\"0.6\\\",\\\"0.61\\\",\\\"0.62\\\",\\\"0.63\\\",\\\"0.64\\\",\\\"0.65\\\",\\\"0.66\\\",\\\"0.67\\\",\\\"0.68\\\",\\\"0.69\\\",\\\"0.7\\\",\\\"0.71\\\",\\\"0.72\\\",\\\"0.73\\\",\\\"0.74\\\",\\\"0.75\\\",\\\"0.76\\\",\\\"0.77\\\",\\\"0.78\\\",\\\"0.79\\\",\\\"0.8\\\",\\\"0.81\\\",\\\"0.82\\\",\\\"0.83\\\",\\\"0.84\\\",\\\"0.85\\\",\\\"0.86\\\",\\\"0.87\\\",\\\"0.88\\\",\\\"0.89\\\",\\\"0.9\\\",\\\"0.91\\\",\\\"0.92\\\",\\\"0.93\\\",\\\"0.94\\\",\\\"0.95\\\",\\\"0.96\\\",\\\"0.97\\\",\\\"0.98\\\",\\\"0.99\\\",\\\"1.0\\\"],\\\"changes\\\":WebIO.getval({\\\"name\\\":\\\"changes\\\",\\\"scope\\\":\\\"2934593135734637057\\\",\\\"id\\\":\\\"15044206303773114031\\\",\\\"type\\\":\\\"observable\\\"}),\\\"index\\\":WebIO.getval({\\\"name\\\":\\\"index\\\",\\\"scope\\\":\\\"2934593135734637057\\\",\\\"id\\\":\\\"11656392481293919426\\\",\\\"type\\\":\\\"observable\\\"})};\\n    var self = this;\\n    function AppViewModel() {\\n        for (var key in json_data) {\\n            var el = json_data[key];\\n            this[key] = Array.isArray(el) ? ko.observableArray(el) : ko.observable(el);\\n        }\\n        \\n        [this[\\\"formatted_val\\\"]=ko.computed(    function(){\\n        return this.formatted_vals()[parseInt(this.index())-(1)];\\n    }\\n,this)]\\n        [this[\\\"changes\\\"].subscribe((function (val){!(this.valueFromJulia[\\\"changes\\\"]) ? (WebIO.setval({\\\"name\\\":\\\"changes\\\",\\\"scope\\\":\\\"2934593135734637057\\\",\\\"id\\\":\\\"15044206303773114031\\\",\\\"type\\\":\\\"observable\\\"},val)) : undefined; return this.valueFromJulia[\\\"changes\\\"]=false}),self),this[\\\"index\\\"].subscribe((function (val){!(this.valueFromJulia[\\\"index\\\"]) ? (WebIO.setval({\\\"name\\\":\\\"index\\\",\\\"scope\\\":\\\"2934593135734637057\\\",\\\"id\\\":\\\"11656392481293919426\\\",\\\"type\\\":\\\"observable\\\"},val)) : undefined; return this.valueFromJulia[\\\"index\\\"]=false}),self)]\\n        \\n    }\\n    self.model = new AppViewModel();\\n    self.valueFromJulia = {};\\n    for (var key in json_data) {\\n        self.valueFromJulia[key] = false;\\n    }\\n    ko.applyBindings(self.model, self.dom);\\n}\\n);\\n    (WebIO.importBlock({\\\"data\\\":[{\\\"name\\\":\\\"knockout\\\",\\\"type\\\":\\\"js\\\",\\\"url\\\":\\\"\\/assetserver\\/727383f2a47bd31570b7da84eee7b022dd6d7c78-knockout.js\\\"},{\\\"name\\\":\\\"knockout_punches\\\",\\\"type\\\":\\\"js\\\",\\\"url\\\":\\\"\\/assetserver\\/382b41b3b1bd9f26f75861d360bad7f8beea211f-knockout_punches.js\\\"}],\\\"type\\\":\\\"async_block\\\"})).then((imports) => handler.apply(this, imports));\\n}\\n\"],\"observables\":{\"changes\":{\"sync\":false,\"id\":\"15044206303773114031\",\"value\":0},\"index\":{\"sync\":true,\"id\":\"11656392481293919426\",\"value\":50}}},\"children\":[{\"props\":{\"className\":\"interact-flex-row interact-widget\"},\"nodeType\":\"DOM\",\"type\":\"node\",\"instanceArgs\":{\"namespace\":\"html\",\"tag\":\"div\"},\"children\":[{\"props\":{\"className\":\"interact-flex-row-left\"},\"nodeType\":\"DOM\",\"type\":\"node\",\"instanceArgs\":{\"namespace\":\"html\",\"tag\":\"div\"},\"children\":[{\"props\":{\"className\":\"interact \",\"style\":{\"padding\":\"5px 10px 0px 10px\"}},\"nodeType\":\"DOM\",\"type\":\"node\",\"instanceArgs\":{\"namespace\":\"html\",\"tag\":\"label\"},\"children\":[\"sep_fac\"]}]},{\"props\":{\"className\":\"interact-flex-row-center\"},\"nodeType\":\"DOM\",\"type\":\"node\",\"instanceArgs\":{\"namespace\":\"html\",\"tag\":\"div\"},\"children\":[{\"props\":{\"max\":100,\"min\":1,\"attributes\":{\"type\":\"range\",\"data-bind\":\"numericValue: index, valueUpdate: 'input', event: {change: function (){this.changes(this.changes()+1)}}\",\"orient\":\"horizontal\"},\"step\":1,\"className\":\"slider slider is-fullwidth\",\"style\":{}},\"nodeType\":\"DOM\",\"type\":\"node\",\"instanceArgs\":{\"namespace\":\"html\",\"tag\":\"input\"},\"children\":[]}]},{\"props\":{\"className\":\"interact-flex-row-right\"},\"nodeType\":\"DOM\",\"type\":\"node\",\"instanceArgs\":{\"namespace\":\"html\",\"tag\":\"div\"},\"children\":[{\"props\":{\"attributes\":{\"data-bind\":\"text: formatted_val\"}},\"nodeType\":\"DOM\",\"type\":\"node\",\"instanceArgs\":{\"namespace\":\"html\",\"tag\":\"p\"},\"children\":[]}]}]}]}]},{\"props\":{\"className\":\"field interact-widget\"},\"nodeType\":\"DOM\",\"type\":\"node\",\"instanceArgs\":{\"namespace\":\"html\",\"tag\":\"div\"},\"children\":[{\"props\":{},\"nodeType\":\"Scope\",\"type\":\"node\",\"instanceArgs\":{\"imports\":{\"data\":[{\"name\":\"knockout\",\"type\":\"js\",\"url\":\"\\/assetserver\\/727383f2a47bd31570b7da84eee7b022dd6d7c78-knockout.js\"},{\"name\":\"knockout_punches\",\"type\":\"js\",\"url\":\"\\/assetserver\\/382b41b3b1bd9f26f75861d360bad7f8beea211f-knockout_punches.js\"},{\"name\":null,\"type\":\"js\",\"url\":\"\\/assetserver\\/5ab20f1060420992a9b82a65b735dee4d81ef413-all.js\"},{\"name\":null,\"type\":\"css\",\"url\":\"\\/assetserver\\/1cc0ed62837210b80a182cc3676512f895dab686-style.css\"},{\"name\":null,\"type\":\"css\",\"url\":\"\\/assetserver\\/2eee816f616df3549d7044d45e744fbf8d42bfa1-bulma_confined.min.css\"}],\"type\":\"async_block\"},\"id\":\"15337923032627178165\",\"handlers\":{\"changes\":[\"(function (val){return (val!=this.model[\\\"changes\\\"]()) ? (this.valueFromJulia[\\\"changes\\\"]=true, this.model[\\\"changes\\\"](val)) : undefined})\"],\"index\":[\"(function (val){return (val!=this.model[\\\"index\\\"]()) ? (this.valueFromJulia[\\\"index\\\"]=true, this.model[\\\"index\\\"](val)) : undefined})\"]},\"systemjs_options\":null,\"mount_callbacks\":[\"function () {\\n    var handler = (function (ko, koPunches) {\\n    ko.punches.enableAll();\\n    ko.bindingHandlers.numericValue = {\\n        init: function(element, valueAccessor, allBindings, data, context) {\\n            var stringified = ko.observable(ko.unwrap(valueAccessor()));\\n            stringified.subscribe(function(value) {\\n                var val = parseFloat(value);\\n                if (!isNaN(val)) {\\n                    valueAccessor()(val);\\n                }\\n            });\\n            valueAccessor().subscribe(function(value) {\\n                var str = JSON.stringify(value);\\n                if ((str == \\\"0\\\") && ([\\\"-0\\\", \\\"-0.\\\"].indexOf(stringified()) >= 0))\\n                     return;\\n                 if ([\\\"null\\\", \\\"\\\"].indexOf(str) >= 0)\\n                     return;\\n                stringified(str);\\n            });\\n            ko.applyBindingsToNode(\\n                element,\\n                {\\n                    value: stringified,\\n                    valueUpdate: allBindings.get('valueUpdate'),\\n                },\\n                context,\\n            );\\n        }\\n    };\\n    var json_data = {\\\"formatted_vals\\\":[\\\"0.01\\\",\\\"0.02\\\",\\\"0.03\\\",\\\"0.04\\\",\\\"0.05\\\",\\\"0.06\\\",\\\"0.07\\\",\\\"0.08\\\",\\\"0.09\\\",\\\"0.1\\\",\\\"0.11\\\",\\\"0.12\\\",\\\"0.13\\\",\\\"0.14\\\",\\\"0.15\\\",\\\"0.16\\\",\\\"0.17\\\",\\\"0.18\\\",\\\"0.19\\\",\\\"0.2\\\",\\\"0.21\\\",\\\"0.22\\\",\\\"0.23\\\",\\\"0.24\\\",\\\"0.25\\\",\\\"0.26\\\",\\\"0.27\\\",\\\"0.28\\\",\\\"0.29\\\",\\\"0.3\\\",\\\"0.31\\\",\\\"0.32\\\",\\\"0.33\\\",\\\"0.34\\\",\\\"0.35\\\",\\\"0.36\\\",\\\"0.37\\\",\\\"0.38\\\",\\\"0.39\\\",\\\"0.4\\\",\\\"0.41\\\",\\\"0.42\\\",\\\"0.43\\\",\\\"0.44\\\",\\\"0.45\\\",\\\"0.46\\\",\\\"0.47\\\",\\\"0.48\\\",\\\"0.49\\\",\\\"0.5\\\",\\\"0.51\\\",\\\"0.52\\\",\\\"0.53\\\",\\\"0.54\\\",\\\"0.55\\\",\\\"0.56\\\",\\\"0.57\\\",\\\"0.58\\\",\\\"0.59\\\",\\\"0.6\\\",\\\"0.61\\\",\\\"0.62\\\",\\\"0.63\\\",\\\"0.64\\\",\\\"0.65\\\",\\\"0.66\\\",\\\"0.67\\\",\\\"0.68\\\",\\\"0.69\\\",\\\"0.7\\\",\\\"0.71\\\",\\\"0.72\\\",\\\"0.73\\\",\\\"0.74\\\",\\\"0.75\\\",\\\"0.76\\\",\\\"0.77\\\",\\\"0.78\\\",\\\"0.79\\\",\\\"0.8\\\",\\\"0.81\\\",\\\"0.82\\\",\\\"0.83\\\",\\\"0.84\\\",\\\"0.85\\\",\\\"0.86\\\",\\\"0.87\\\",\\\"0.88\\\",\\\"0.89\\\",\\\"0.9\\\",\\\"0.91\\\",\\\"0.92\\\",\\\"0.93\\\",\\\"0.94\\\",\\\"0.95\\\",\\\"0.96\\\",\\\"0.97\\\",\\\"0.98\\\",\\\"0.99\\\",\\\"1.0\\\"],\\\"changes\\\":WebIO.getval({\\\"name\\\":\\\"changes\\\",\\\"scope\\\":\\\"15337923032627178165\\\",\\\"id\\\":\\\"8143904053882990588\\\",\\\"type\\\":\\\"observable\\\"}),\\\"index\\\":WebIO.getval({\\\"name\\\":\\\"index\\\",\\\"scope\\\":\\\"15337923032627178165\\\",\\\"id\\\":\\\"9867640536283104545\\\",\\\"type\\\":\\\"observable\\\"})};\\n    var self = this;\\n    function AppViewModel() {\\n        for (var key in json_data) {\\n            var el = json_data[key];\\n            this[key] = Array.isArray(el) ? ko.observableArray(el) : ko.observable(el);\\n        }\\n        \\n        [this[\\\"formatted_val\\\"]=ko.computed(    function(){\\n        return this.formatted_vals()[parseInt(this.index())-(1)];\\n    }\\n,this)]\\n        [this[\\\"changes\\\"].subscribe((function (val){!(this.valueFromJulia[\\\"changes\\\"]) ? (WebIO.setval({\\\"name\\\":\\\"changes\\\",\\\"scope\\\":\\\"15337923032627178165\\\",\\\"id\\\":\\\"8143904053882990588\\\",\\\"type\\\":\\\"observable\\\"},val)) : undefined; return this.valueFromJulia[\\\"changes\\\"]=false}),self),this[\\\"index\\\"].subscribe((function (val){!(this.valueFromJulia[\\\"index\\\"]) ? (WebIO.setval({\\\"name\\\":\\\"index\\\",\\\"scope\\\":\\\"15337923032627178165\\\",\\\"id\\\":\\\"9867640536283104545\\\",\\\"type\\\":\\\"observable\\\"},val)) : undefined; return this.valueFromJulia[\\\"index\\\"]=false}),self)]\\n        \\n    }\\n    self.model = new AppViewModel();\\n    self.valueFromJulia = {};\\n    for (var key in json_data) {\\n        self.valueFromJulia[key] = false;\\n    }\\n    ko.applyBindings(self.model, self.dom);\\n}\\n);\\n    (WebIO.importBlock({\\\"data\\\":[{\\\"name\\\":\\\"knockout\\\",\\\"type\\\":\\\"js\\\",\\\"url\\\":\\\"\\/assetserver\\/727383f2a47bd31570b7da84eee7b022dd6d7c78-knockout.js\\\"},{\\\"name\\\":\\\"knockout_punches\\\",\\\"type\\\":\\\"js\\\",\\\"url\\\":\\\"\\/assetserver\\/382b41b3b1bd9f26f75861d360bad7f8beea211f-knockout_punches.js\\\"}],\\\"type\\\":\\\"async_block\\\"})).then((imports) => handler.apply(this, imports));\\n}\\n\"],\"observables\":{\"changes\":{\"sync\":false,\"id\":\"8143904053882990588\",\"value\":0},\"index\":{\"sync\":true,\"id\":\"9867640536283104545\",\"value\":50}}},\"children\":[{\"props\":{\"className\":\"interact-flex-row interact-widget\"},\"nodeType\":\"DOM\",\"type\":\"node\",\"instanceArgs\":{\"namespace\":\"html\",\"tag\":\"div\"},\"children\":[{\"props\":{\"className\":\"interact-flex-row-left\"},\"nodeType\":\"DOM\",\"type\":\"node\",\"instanceArgs\":{\"namespace\":\"html\",\"tag\":\"div\"},\"children\":[{\"props\":{\"className\":\"interact \",\"style\":{\"padding\":\"5px 10px 0px 10px\"}},\"nodeType\":\"DOM\",\"type\":\"node\",\"instanceArgs\":{\"namespace\":\"html\",\"tag\":\"label\"},\"children\":[\"aln_fac\"]}]},{\"props\":{\"className\":\"interact-flex-row-center\"},\"nodeType\":\"DOM\",\"type\":\"node\",\"instanceArgs\":{\"namespace\":\"html\",\"tag\":\"div\"},\"children\":[{\"props\":{\"max\":100,\"min\":1,\"attributes\":{\"type\":\"range\",\"data-bind\":\"numericValue: index, valueUpdate: 'input', event: {change: function (){this.changes(this.changes()+1)}}\",\"orient\":\"horizontal\"},\"step\":1,\"className\":\"slider slider is-fullwidth\",\"style\":{}},\"nodeType\":\"DOM\",\"type\":\"node\",\"instanceArgs\":{\"namespace\":\"html\",\"tag\":\"input\"},\"children\":[]}]},{\"props\":{\"className\":\"interact-flex-row-right\"},\"nodeType\":\"DOM\",\"type\":\"node\",\"instanceArgs\":{\"namespace\":\"html\",\"tag\":\"div\"},\"children\":[{\"props\":{\"attributes\":{\"data-bind\":\"text: formatted_val\"}},\"nodeType\":\"DOM\",\"type\":\"node\",\"instanceArgs\":{\"namespace\":\"html\",\"tag\":\"p\"},\"children\":[]}]}]}]}]},{\"props\":{\"className\":\"field interact-widget\"},\"nodeType\":\"DOM\",\"type\":\"node\",\"instanceArgs\":{\"namespace\":\"html\",\"tag\":\"div\"},\"children\":[{\"props\":{},\"nodeType\":\"Scope\",\"type\":\"node\",\"instanceArgs\":{\"imports\":{\"data\":[{\"name\":\"knockout\",\"type\":\"js\",\"url\":\"\\/assetserver\\/727383f2a47bd31570b7da84eee7b022dd6d7c78-knockout.js\"},{\"name\":\"knockout_punches\",\"type\":\"js\",\"url\":\"\\/assetserver\\/382b41b3b1bd9f26f75861d360bad7f8beea211f-knockout_punches.js\"},{\"name\":null,\"type\":\"js\",\"url\":\"\\/assetserver\\/5ab20f1060420992a9b82a65b735dee4d81ef413-all.js\"},{\"name\":null,\"type\":\"css\",\"url\":\"\\/assetserver\\/1cc0ed62837210b80a182cc3676512f895dab686-style.css\"},{\"name\":null,\"type\":\"css\",\"url\":\"\\/assetserver\\/2eee816f616df3549d7044d45e744fbf8d42bfa1-bulma_confined.min.css\"}],\"type\":\"async_block\"},\"id\":\"13555075928916923436\",\"handlers\":{\"changes\":[\"(function (val){return (val!=this.model[\\\"changes\\\"]()) ? (this.valueFromJulia[\\\"changes\\\"]=true, this.model[\\\"changes\\\"](val)) : undefined})\"],\"index\":[\"(function (val){return (val!=this.model[\\\"index\\\"]()) ? (this.valueFromJulia[\\\"index\\\"]=true, this.model[\\\"index\\\"](val)) : undefined})\"]},\"systemjs_options\":null,\"mount_callbacks\":[\"function () {\\n    var handler = (function (ko, koPunches) {\\n    ko.punches.enableAll();\\n    ko.bindingHandlers.numericValue = {\\n        init: function(element, valueAccessor, allBindings, data, context) {\\n            var stringified = ko.observable(ko.unwrap(valueAccessor()));\\n            stringified.subscribe(function(value) {\\n                var val = parseFloat(value);\\n                if (!isNaN(val)) {\\n                    valueAccessor()(val);\\n                }\\n            });\\n            valueAccessor().subscribe(function(value) {\\n                var str = JSON.stringify(value);\\n                if ((str == \\\"0\\\") && ([\\\"-0\\\", \\\"-0.\\\"].indexOf(stringified()) >= 0))\\n                     return;\\n                 if ([\\\"null\\\", \\\"\\\"].indexOf(str) >= 0)\\n                     return;\\n                stringified(str);\\n            });\\n            ko.applyBindingsToNode(\\n                element,\\n                {\\n                    value: stringified,\\n                    valueUpdate: allBindings.get('valueUpdate'),\\n                },\\n                context,\\n            );\\n        }\\n    };\\n    var json_data = {\\\"formatted_vals\\\":[\\\"0.5\\\",\\\"1.0\\\",\\\"1.5\\\",\\\"2.0\\\",\\\"2.5\\\",\\\"3.0\\\",\\\"3.5\\\",\\\"4.0\\\"],\\\"changes\\\":WebIO.getval({\\\"name\\\":\\\"changes\\\",\\\"scope\\\":\\\"13555075928916923436\\\",\\\"id\\\":\\\"8664315435971225050\\\",\\\"type\\\":\\\"observable\\\"}),\\\"index\\\":WebIO.getval({\\\"name\\\":\\\"index\\\",\\\"scope\\\":\\\"13555075928916923436\\\",\\\"id\\\":\\\"1341855097252115116\\\",\\\"type\\\":\\\"observable\\\"})};\\n    var self = this;\\n    function AppViewModel() {\\n        for (var key in json_data) {\\n            var el = json_data[key];\\n            this[key] = Array.isArray(el) ? ko.observableArray(el) : ko.observable(el);\\n        }\\n        \\n        [this[\\\"formatted_val\\\"]=ko.computed(    function(){\\n        return this.formatted_vals()[parseInt(this.index())-(1)];\\n    }\\n,this)]\\n        [this[\\\"changes\\\"].subscribe((function (val){!(this.valueFromJulia[\\\"changes\\\"]) ? (WebIO.setval({\\\"name\\\":\\\"changes\\\",\\\"scope\\\":\\\"13555075928916923436\\\",\\\"id\\\":\\\"8664315435971225050\\\",\\\"type\\\":\\\"observable\\\"},val)) : undefined; return this.valueFromJulia[\\\"changes\\\"]=false}),self),this[\\\"index\\\"].subscribe((function (val){!(this.valueFromJulia[\\\"index\\\"]) ? (WebIO.setval({\\\"name\\\":\\\"index\\\",\\\"scope\\\":\\\"13555075928916923436\\\",\\\"id\\\":\\\"1341855097252115116\\\",\\\"type\\\":\\\"observable\\\"},val)) : undefined; return this.valueFromJulia[\\\"index\\\"]=false}),self)]\\n        \\n    }\\n    self.model = new AppViewModel();\\n    self.valueFromJulia = {};\\n    for (var key in json_data) {\\n        self.valueFromJulia[key] = false;\\n    }\\n    ko.applyBindings(self.model, self.dom);\\n}\\n);\\n    (WebIO.importBlock({\\\"data\\\":[{\\\"name\\\":\\\"knockout\\\",\\\"type\\\":\\\"js\\\",\\\"url\\\":\\\"\\/assetserver\\/727383f2a47bd31570b7da84eee7b022dd6d7c78-knockout.js\\\"},{\\\"name\\\":\\\"knockout_punches\\\",\\\"type\\\":\\\"js\\\",\\\"url\\\":\\\"\\/assetserver\\/382b41b3b1bd9f26f75861d360bad7f8beea211f-knockout_punches.js\\\"}],\\\"type\\\":\\\"async_block\\\"})).then((imports) => handler.apply(this, imports));\\n}\\n\"],\"observables\":{\"changes\":{\"sync\":false,\"id\":\"8664315435971225050\",\"value\":0},\"index\":{\"sync\":true,\"id\":\"1341855097252115116\",\"value\":4}}},\"children\":[{\"props\":{\"className\":\"interact-flex-row interact-widget\"},\"nodeType\":\"DOM\",\"type\":\"node\",\"instanceArgs\":{\"namespace\":\"html\",\"tag\":\"div\"},\"children\":[{\"props\":{\"className\":\"interact-flex-row-left\"},\"nodeType\":\"DOM\",\"type\":\"node\",\"instanceArgs\":{\"namespace\":\"html\",\"tag\":\"div\"},\"children\":[{\"props\":{\"className\":\"interact \",\"style\":{\"padding\":\"5px 10px 0px 10px\"}},\"nodeType\":\"DOM\",\"type\":\"node\",\"instanceArgs\":{\"namespace\":\"html\",\"tag\":\"label\"},\"children\":[\"vis_range\"]}]},{\"props\":{\"className\":\"interact-flex-row-center\"},\"nodeType\":\"DOM\",\"type\":\"node\",\"instanceArgs\":{\"namespace\":\"html\",\"tag\":\"div\"},\"children\":[{\"props\":{\"max\":8,\"min\":1,\"attributes\":{\"type\":\"range\",\"data-bind\":\"numericValue: index, valueUpdate: 'input', event: {change: function (){this.changes(this.changes()+1)}}\",\"orient\":\"horizontal\"},\"step\":1,\"className\":\"slider slider is-fullwidth\",\"style\":{}},\"nodeType\":\"DOM\",\"type\":\"node\",\"instanceArgs\":{\"namespace\":\"html\",\"tag\":\"input\"},\"children\":[]}]},{\"props\":{\"className\":\"interact-flex-row-right\"},\"nodeType\":\"DOM\",\"type\":\"node\",\"instanceArgs\":{\"namespace\":\"html\",\"tag\":\"div\"},\"children\":[{\"props\":{\"attributes\":{\"data-bind\":\"text: formatted_val\"}},\"nodeType\":\"DOM\",\"type\":\"node\",\"instanceArgs\":{\"namespace\":\"html\",\"tag\":\"p\"},\"children\":[]}]}]}]}]}]},{\"props\":{\"style\":{\"display\":\"flex\",\"flex-direction\":\"row\"}},\"nodeType\":\"DOM\",\"type\":\"node\",\"instanceArgs\":{\"namespace\":\"html\",\"tag\":\"div\"},\"children\":[{\"props\":{\"className\":\"interact-widget\"},\"nodeType\":\"DOM\",\"type\":\"node\",\"instanceArgs\":{\"namespace\":\"html\",\"tag\":\"div\"},\"children\":[{\"props\":{},\"nodeType\":\"Scope\",\"type\":\"node\",\"instanceArgs\":{\"imports\":{\"data\":[{\"name\":null,\"type\":\"js\",\"url\":\"\\/assetserver\\/dd22ed1bf1896c2748f3fe616ce0b838adc895c1-katex.min.js\"},{\"name\":null,\"type\":\"css\",\"url\":\"\\/assetserver\\/46517a424aa5e6cffc1360d7e0848b601c584ee3-katex.min.css\"}],\"type\":\"async_block\"},\"id\":\"7335939888855063027\",\"handlers\":{\"value\":[\"(function (txt){return this.k.render(txt,this.container)})\"]},\"systemjs_options\":null,\"mount_callbacks\":[\"function () {\\n    var handler = ((function (k){this.k=k; this.container=this.dom.querySelector(\\\"#container\\\"); return k.render(\\\"\\\\\\\\;\\\\\\\\;\\\",this.container)}));\\n    (WebIO.importBlock({\\\"data\\\":[{\\\"name\\\":null,\\\"type\\\":\\\"js\\\",\\\"url\\\":\\\"\\/assetserver\\/dd22ed1bf1896c2748f3fe616ce0b838adc895c1-katex.min.js\\\"},{\\\"name\\\":null,\\\"type\\\":\\\"css\\\",\\\"url\\\":\\\"\\/assetserver\\/46517a424aa5e6cffc1360d7e0848b601c584ee3-katex.min.css\\\"}],\\\"type\\\":\\\"async_block\\\"})).then((imports) => handler.apply(this, imports));\\n}\\n\"],\"observables\":{\"value\":{\"sync\":false,\"id\":\"4770155353801957774\",\"value\":\"\\\\;\\\\;\"}}},\"children\":[{\"props\":{\"id\":\"container\"},\"nodeType\":\"DOM\",\"type\":\"node\",\"instanceArgs\":{\"namespace\":\"html\",\"tag\":\"div\"},\"children\":[]}]}]},{\"props\":{\"className\":\"field interact-widget\"},\"nodeType\":\"DOM\",\"type\":\"node\",\"instanceArgs\":{\"namespace\":\"html\",\"tag\":\"div\"},\"children\":[{\"props\":{},\"nodeType\":\"Scope\",\"type\":\"node\",\"instanceArgs\":{\"imports\":{\"data\":[{\"name\":\"knockout\",\"type\":\"js\",\"url\":\"\\/assetserver\\/727383f2a47bd31570b7da84eee7b022dd6d7c78-knockout.js\"},{\"name\":\"knockout_punches\",\"type\":\"js\",\"url\":\"\\/assetserver\\/382b41b3b1bd9f26f75861d360bad7f8beea211f-knockout_punches.js\"},{\"name\":null,\"type\":\"js\",\"url\":\"\\/assetserver\\/5ab20f1060420992a9b82a65b735dee4d81ef413-all.js\"},{\"name\":null,\"type\":\"css\",\"url\":\"\\/assetserver\\/1cc0ed62837210b80a182cc3676512f895dab686-style.css\"},{\"name\":null,\"type\":\"css\",\"url\":\"\\/assetserver\\/2eee816f616df3549d7044d45e744fbf8d42bfa1-bulma_confined.min.css\"}],\"type\":\"async_block\"},\"id\":\"12212603291980829008\",\"handlers\":{\"loading\":[\"(function (val){return (val!=this.model[\\\"loading\\\"]()) ? (this.valueFromJulia[\\\"loading\\\"]=true, this.model[\\\"loading\\\"](val)) : undefined})\"],\"clicks\":[\"(function (val){return (val!=this.model[\\\"clicks\\\"]()) ? (this.valueFromJulia[\\\"clicks\\\"]=true, this.model[\\\"clicks\\\"](val)) : undefined})\"]},\"systemjs_options\":null,\"mount_callbacks\":[\"function () {\\n    var handler = (function (ko, koPunches) {\\n    ko.punches.enableAll();\\n    ko.bindingHandlers.numericValue = {\\n        init: function(element, valueAccessor, allBindings, data, context) {\\n            var stringified = ko.observable(ko.unwrap(valueAccessor()));\\n            stringified.subscribe(function(value) {\\n                var val = parseFloat(value);\\n                if (!isNaN(val)) {\\n                    valueAccessor()(val);\\n                }\\n            });\\n            valueAccessor().subscribe(function(value) {\\n                var str = JSON.stringify(value);\\n                if ((str == \\\"0\\\") && ([\\\"-0\\\", \\\"-0.\\\"].indexOf(stringified()) >= 0))\\n                     return;\\n                 if ([\\\"null\\\", \\\"\\\"].indexOf(str) >= 0)\\n                     return;\\n                stringified(str);\\n            });\\n            ko.applyBindingsToNode(\\n                element,\\n                {\\n                    value: stringified,\\n                    valueUpdate: allBindings.get('valueUpdate'),\\n                },\\n                context,\\n            );\\n        }\\n    };\\n    var json_data = {\\\"loading\\\":WebIO.getval({\\\"name\\\":\\\"loading\\\",\\\"scope\\\":\\\"12212603291980829008\\\",\\\"id\\\":\\\"4492786335800811996\\\",\\\"type\\\":\\\"observable\\\"}),\\\"clicks\\\":WebIO.getval({\\\"name\\\":\\\"clicks\\\",\\\"scope\\\":\\\"12212603291980829008\\\",\\\"id\\\":\\\"14077398223569134912\\\",\\\"type\\\":\\\"observable\\\"})};\\n    var self = this;\\n    function AppViewModel() {\\n        for (var key in json_data) {\\n            var el = json_data[key];\\n            this[key] = Array.isArray(el) ? ko.observableArray(el) : ko.observable(el);\\n        }\\n        \\n        \\n        [this[\\\"loading\\\"].subscribe((function (val){!(this.valueFromJulia[\\\"loading\\\"]) ? (WebIO.setval({\\\"name\\\":\\\"loading\\\",\\\"scope\\\":\\\"12212603291980829008\\\",\\\"id\\\":\\\"4492786335800811996\\\",\\\"type\\\":\\\"observable\\\"},val)) : undefined; return this.valueFromJulia[\\\"loading\\\"]=false}),self),this[\\\"clicks\\\"].subscribe((function (val){!(this.valueFromJulia[\\\"clicks\\\"]) ? (WebIO.setval({\\\"name\\\":\\\"clicks\\\",\\\"scope\\\":\\\"12212603291980829008\\\",\\\"id\\\":\\\"14077398223569134912\\\",\\\"type\\\":\\\"observable\\\"},val)) : undefined; return this.valueFromJulia[\\\"clicks\\\"]=false}),self)]\\n        \\n    }\\n    self.model = new AppViewModel();\\n    self.valueFromJulia = {};\\n    for (var key in json_data) {\\n        self.valueFromJulia[key] = false;\\n    }\\n    ko.applyBindings(self.model, self.dom);\\n}\\n);\\n    (WebIO.importBlock({\\\"data\\\":[{\\\"name\\\":\\\"knockout\\\",\\\"type\\\":\\\"js\\\",\\\"url\\\":\\\"\\/assetserver\\/727383f2a47bd31570b7da84eee7b022dd6d7c78-knockout.js\\\"},{\\\"name\\\":\\\"knockout_punches\\\",\\\"type\\\":\\\"js\\\",\\\"url\\\":\\\"\\/assetserver\\/382b41b3b1bd9f26f75861d360bad7f8beea211f-knockout_punches.js\\\"}],\\\"type\\\":\\\"async_block\\\"})).then((imports) => handler.apply(this, imports));\\n}\\n\"],\"observables\":{\"loading\":{\"sync\":false,\"id\":\"4492786335800811996\",\"value\":false},\"clicks\":{\"sync\":true,\"id\":\"14077398223569134912\",\"value\":0}}},\"children\":[{\"props\":{\"attributes\":{\"data-bind\":\"click: function (){this.clicks(this.clicks()+1)}, css: {'is-loading' : loading}\"},\"className\":\"is-medium button is-primary\",\"style\":{}},\"nodeType\":\"DOM\",\"type\":\"node\",\"instanceArgs\":{\"namespace\":\"html\",\"tag\":\"button\"},\"children\":[\"run\"]}]}]},{\"props\":{\"className\":\"interact-widget\"},\"nodeType\":\"DOM\",\"type\":\"node\",\"instanceArgs\":{\"namespace\":\"html\",\"tag\":\"div\"},\"children\":[{\"props\":{},\"nodeType\":\"Scope\",\"type\":\"node\",\"instanceArgs\":{\"imports\":{\"data\":[{\"name\":null,\"type\":\"js\",\"url\":\"\\/assetserver\\/dd22ed1bf1896c2748f3fe616ce0b838adc895c1-katex.min.js\"},{\"name\":null,\"type\":\"css\",\"url\":\"\\/assetserver\\/46517a424aa5e6cffc1360d7e0848b601c584ee3-katex.min.css\"}],\"type\":\"async_block\"},\"id\":\"7335939888855063027\",\"handlers\":{\"value\":[\"(function (txt){return this.k.render(txt,this.container)})\"]},\"systemjs_options\":null,\"mount_callbacks\":[\"function () {\\n    var handler = ((function (k){this.k=k; this.container=this.dom.querySelector(\\\"#container\\\"); return k.render(\\\"\\\\\\\\;\\\\\\\\;\\\",this.container)}));\\n    (WebIO.importBlock({\\\"data\\\":[{\\\"name\\\":null,\\\"type\\\":\\\"js\\\",\\\"url\\\":\\\"\\/assetserver\\/dd22ed1bf1896c2748f3fe616ce0b838adc895c1-katex.min.js\\\"},{\\\"name\\\":null,\\\"type\\\":\\\"css\\\",\\\"url\\\":\\\"\\/assetserver\\/46517a424aa5e6cffc1360d7e0848b601c584ee3-katex.min.css\\\"}],\\\"type\\\":\\\"async_block\\\"})).then((imports) => handler.apply(this, imports));\\n}\\n\"],\"observables\":{\"value\":{\"sync\":false,\"id\":\"4770155353801957774\",\"value\":\"\\\\;\\\\;\"}}},\"children\":[{\"props\":{\"id\":\"container\"},\"nodeType\":\"DOM\",\"type\":\"node\",\"instanceArgs\":{\"namespace\":\"html\",\"tag\":\"div\"},\"children\":[]}]}]},{\"props\":{\"className\":\"field interact-widget\"},\"nodeType\":\"DOM\",\"type\":\"node\",\"instanceArgs\":{\"namespace\":\"html\",\"tag\":\"div\"},\"children\":[{\"props\":{},\"nodeType\":\"Scope\",\"type\":\"node\",\"instanceArgs\":{\"imports\":{\"data\":[{\"name\":\"knockout\",\"type\":\"js\",\"url\":\"\\/assetserver\\/727383f2a47bd31570b7da84eee7b022dd6d7c78-knockout.js\"},{\"name\":\"knockout_punches\",\"type\":\"js\",\"url\":\"\\/assetserver\\/382b41b3b1bd9f26f75861d360bad7f8beea211f-knockout_punches.js\"},{\"name\":null,\"type\":\"js\",\"url\":\"\\/assetserver\\/5ab20f1060420992a9b82a65b735dee4d81ef413-all.js\"},{\"name\":null,\"type\":\"css\",\"url\":\"\\/assetserver\\/1cc0ed62837210b80a182cc3676512f895dab686-style.css\"},{\"name\":null,\"type\":\"css\",\"url\":\"\\/assetserver\\/2eee816f616df3549d7044d45e744fbf8d42bfa1-bulma_confined.min.css\"}],\"type\":\"async_block\"},\"id\":\"14462575877302147690\",\"handlers\":{\"loading\":[\"(function (val){return (val!=this.model[\\\"loading\\\"]()) ? (this.valueFromJulia[\\\"loading\\\"]=true, this.model[\\\"loading\\\"](val)) : undefined})\"],\"clicks\":[\"(function (val){return (val!=this.model[\\\"clicks\\\"]()) ? (this.valueFromJulia[\\\"clicks\\\"]=true, this.model[\\\"clicks\\\"](val)) : undefined})\"]},\"systemjs_options\":null,\"mount_callbacks\":[\"function () {\\n    var handler = (function (ko, koPunches) {\\n    ko.punches.enableAll();\\n    ko.bindingHandlers.numericValue = {\\n        init: function(element, valueAccessor, allBindings, data, context) {\\n            var stringified = ko.observable(ko.unwrap(valueAccessor()));\\n            stringified.subscribe(function(value) {\\n                var val = parseFloat(value);\\n                if (!isNaN(val)) {\\n                    valueAccessor()(val);\\n                }\\n            });\\n            valueAccessor().subscribe(function(value) {\\n                var str = JSON.stringify(value);\\n                if ((str == \\\"0\\\") && ([\\\"-0\\\", \\\"-0.\\\"].indexOf(stringified()) >= 0))\\n                     return;\\n                 if ([\\\"null\\\", \\\"\\\"].indexOf(str) >= 0)\\n                     return;\\n                stringified(str);\\n            });\\n            ko.applyBindingsToNode(\\n                element,\\n                {\\n                    value: stringified,\\n                    valueUpdate: allBindings.get('valueUpdate'),\\n                },\\n                context,\\n            );\\n        }\\n    };\\n    var json_data = {\\\"loading\\\":WebIO.getval({\\\"name\\\":\\\"loading\\\",\\\"scope\\\":\\\"14462575877302147690\\\",\\\"id\\\":\\\"17382980076190531912\\\",\\\"type\\\":\\\"observable\\\"}),\\\"clicks\\\":WebIO.getval({\\\"name\\\":\\\"clicks\\\",\\\"scope\\\":\\\"14462575877302147690\\\",\\\"id\\\":\\\"6866101901347472429\\\",\\\"type\\\":\\\"observable\\\"})};\\n    var self = this;\\n    function AppViewModel() {\\n        for (var key in json_data) {\\n            var el = json_data[key];\\n            this[key] = Array.isArray(el) ? ko.observableArray(el) : ko.observable(el);\\n        }\\n        \\n        \\n        [this[\\\"loading\\\"].subscribe((function (val){!(this.valueFromJulia[\\\"loading\\\"]) ? (WebIO.setval({\\\"name\\\":\\\"loading\\\",\\\"scope\\\":\\\"14462575877302147690\\\",\\\"id\\\":\\\"17382980076190531912\\\",\\\"type\\\":\\\"observable\\\"},val)) : undefined; return this.valueFromJulia[\\\"loading\\\"]=false}),self),this[\\\"clicks\\\"].subscribe((function (val){!(this.valueFromJulia[\\\"clicks\\\"]) ? (WebIO.setval({\\\"name\\\":\\\"clicks\\\",\\\"scope\\\":\\\"14462575877302147690\\\",\\\"id\\\":\\\"6866101901347472429\\\",\\\"type\\\":\\\"observable\\\"},val)) : undefined; return this.valueFromJulia[\\\"clicks\\\"]=false}),self)]\\n        \\n    }\\n    self.model = new AppViewModel();\\n    self.valueFromJulia = {};\\n    for (var key in json_data) {\\n        self.valueFromJulia[key] = false;\\n    }\\n    ko.applyBindings(self.model, self.dom);\\n}\\n);\\n    (WebIO.importBlock({\\\"data\\\":[{\\\"name\\\":\\\"knockout\\\",\\\"type\\\":\\\"js\\\",\\\"url\\\":\\\"\\/assetserver\\/727383f2a47bd31570b7da84eee7b022dd6d7c78-knockout.js\\\"},{\\\"name\\\":\\\"knockout_punches\\\",\\\"type\\\":\\\"js\\\",\\\"url\\\":\\\"\\/assetserver\\/382b41b3b1bd9f26f75861d360bad7f8beea211f-knockout_punches.js\\\"}],\\\"type\\\":\\\"async_block\\\"})).then((imports) => handler.apply(this, imports));\\n}\\n\"],\"observables\":{\"loading\":{\"sync\":false,\"id\":\"17382980076190531912\",\"value\":false},\"clicks\":{\"sync\":true,\"id\":\"6866101901347472429\",\"value\":0}}},\"children\":[{\"props\":{\"attributes\":{\"data-bind\":\"click: function (){this.clicks(this.clicks()+1)}, css: {'is-loading' : loading}\"},\"className\":\"is-medium button is-primary\",\"style\":{}},\"nodeType\":\"DOM\",\"type\":\"node\",\"instanceArgs\":{\"namespace\":\"html\",\"tag\":\"button\"},\"children\":[\"stop\"]}]}]},{\"props\":{\"className\":\"interact-widget\"},\"nodeType\":\"DOM\",\"type\":\"node\",\"instanceArgs\":{\"namespace\":\"html\",\"tag\":\"div\"},\"children\":[{\"props\":{},\"nodeType\":\"Scope\",\"type\":\"node\",\"instanceArgs\":{\"imports\":{\"data\":[{\"name\":null,\"type\":\"js\",\"url\":\"\\/assetserver\\/dd22ed1bf1896c2748f3fe616ce0b838adc895c1-katex.min.js\"},{\"name\":null,\"type\":\"css\",\"url\":\"\\/assetserver\\/46517a424aa5e6cffc1360d7e0848b601c584ee3-katex.min.css\"}],\"type\":\"async_block\"},\"id\":\"7335939888855063027\",\"handlers\":{\"value\":[\"(function (txt){return this.k.render(txt,this.container)})\"]},\"systemjs_options\":null,\"mount_callbacks\":[\"function () {\\n    var handler = ((function (k){this.k=k; this.container=this.dom.querySelector(\\\"#container\\\"); return k.render(\\\"\\\\\\\\;\\\\\\\\;\\\",this.container)}));\\n    (WebIO.importBlock({\\\"data\\\":[{\\\"name\\\":null,\\\"type\\\":\\\"js\\\",\\\"url\\\":\\\"\\/assetserver\\/dd22ed1bf1896c2748f3fe616ce0b838adc895c1-katex.min.js\\\"},{\\\"name\\\":null,\\\"type\\\":\\\"css\\\",\\\"url\\\":\\\"\\/assetserver\\/46517a424aa5e6cffc1360d7e0848b601c584ee3-katex.min.css\\\"}],\\\"type\\\":\\\"async_block\\\"})).then((imports) => handler.apply(this, imports));\\n}\\n\"],\"observables\":{\"value\":{\"sync\":false,\"id\":\"4770155353801957774\",\"value\":\"\\\\;\\\\;\"}}},\"children\":[{\"props\":{\"id\":\"container\"},\"nodeType\":\"DOM\",\"type\":\"node\",\"instanceArgs\":{\"namespace\":\"html\",\"tag\":\"div\"},\"children\":[]}]}]},{\"props\":{\"className\":\"field interact-widget\"},\"nodeType\":\"DOM\",\"type\":\"node\",\"instanceArgs\":{\"namespace\":\"html\",\"tag\":\"div\"},\"children\":[{\"props\":{},\"nodeType\":\"Scope\",\"type\":\"node\",\"instanceArgs\":{\"imports\":{\"data\":[{\"name\":\"knockout\",\"type\":\"js\",\"url\":\"\\/assetserver\\/727383f2a47bd31570b7da84eee7b022dd6d7c78-knockout.js\"},{\"name\":\"knockout_punches\",\"type\":\"js\",\"url\":\"\\/assetserver\\/382b41b3b1bd9f26f75861d360bad7f8beea211f-knockout_punches.js\"},{\"name\":null,\"type\":\"js\",\"url\":\"\\/assetserver\\/5ab20f1060420992a9b82a65b735dee4d81ef413-all.js\"},{\"name\":null,\"type\":\"css\",\"url\":\"\\/assetserver\\/1cc0ed62837210b80a182cc3676512f895dab686-style.css\"},{\"name\":null,\"type\":\"css\",\"url\":\"\\/assetserver\\/2eee816f616df3549d7044d45e744fbf8d42bfa1-bulma_confined.min.css\"}],\"type\":\"async_block\"},\"id\":\"2516923515365159816\",\"handlers\":{\"loading\":[\"(function (val){return (val!=this.model[\\\"loading\\\"]()) ? (this.valueFromJulia[\\\"loading\\\"]=true, this.model[\\\"loading\\\"](val)) : undefined})\"],\"clicks\":[\"(function (val){return (val!=this.model[\\\"clicks\\\"]()) ? (this.valueFromJulia[\\\"clicks\\\"]=true, this.model[\\\"clicks\\\"](val)) : undefined})\"]},\"systemjs_options\":null,\"mount_callbacks\":[\"function () {\\n    var handler = (function (ko, koPunches) {\\n    ko.punches.enableAll();\\n    ko.bindingHandlers.numericValue = {\\n        init: function(element, valueAccessor, allBindings, data, context) {\\n            var stringified = ko.observable(ko.unwrap(valueAccessor()));\\n            stringified.subscribe(function(value) {\\n                var val = parseFloat(value);\\n                if (!isNaN(val)) {\\n                    valueAccessor()(val);\\n                }\\n            });\\n            valueAccessor().subscribe(function(value) {\\n                var str = JSON.stringify(value);\\n                if ((str == \\\"0\\\") && ([\\\"-0\\\", \\\"-0.\\\"].indexOf(stringified()) >= 0))\\n                     return;\\n                 if ([\\\"null\\\", \\\"\\\"].indexOf(str) >= 0)\\n                     return;\\n                stringified(str);\\n            });\\n            ko.applyBindingsToNode(\\n                element,\\n                {\\n                    value: stringified,\\n                    valueUpdate: allBindings.get('valueUpdate'),\\n                },\\n                context,\\n            );\\n        }\\n    };\\n    var json_data = {\\\"loading\\\":WebIO.getval({\\\"name\\\":\\\"loading\\\",\\\"scope\\\":\\\"2516923515365159816\\\",\\\"id\\\":\\\"17237086543952722334\\\",\\\"type\\\":\\\"observable\\\"}),\\\"clicks\\\":WebIO.getval({\\\"name\\\":\\\"clicks\\\",\\\"scope\\\":\\\"2516923515365159816\\\",\\\"id\\\":\\\"4279245758492588836\\\",\\\"type\\\":\\\"observable\\\"})};\\n    var self = this;\\n    function AppViewModel() {\\n        for (var key in json_data) {\\n            var el = json_data[key];\\n            this[key] = Array.isArray(el) ? ko.observableArray(el) : ko.observable(el);\\n        }\\n        \\n        \\n        [this[\\\"loading\\\"].subscribe((function (val){!(this.valueFromJulia[\\\"loading\\\"]) ? (WebIO.setval({\\\"name\\\":\\\"loading\\\",\\\"scope\\\":\\\"2516923515365159816\\\",\\\"id\\\":\\\"17237086543952722334\\\",\\\"type\\\":\\\"observable\\\"},val)) : undefined; return this.valueFromJulia[\\\"loading\\\"]=false}),self),this[\\\"clicks\\\"].subscribe((function (val){!(this.valueFromJulia[\\\"clicks\\\"]) ? (WebIO.setval({\\\"name\\\":\\\"clicks\\\",\\\"scope\\\":\\\"2516923515365159816\\\",\\\"id\\\":\\\"4279245758492588836\\\",\\\"type\\\":\\\"observable\\\"},val)) : undefined; return this.valueFromJulia[\\\"clicks\\\"]=false}),self)]\\n        \\n    }\\n    self.model = new AppViewModel();\\n    self.valueFromJulia = {};\\n    for (var key in json_data) {\\n        self.valueFromJulia[key] = false;\\n    }\\n    ko.applyBindings(self.model, self.dom);\\n}\\n);\\n    (WebIO.importBlock({\\\"data\\\":[{\\\"name\\\":\\\"knockout\\\",\\\"type\\\":\\\"js\\\",\\\"url\\\":\\\"\\/assetserver\\/727383f2a47bd31570b7da84eee7b022dd6d7c78-knockout.js\\\"},{\\\"name\\\":\\\"knockout_punches\\\",\\\"type\\\":\\\"js\\\",\\\"url\\\":\\\"\\/assetserver\\/382b41b3b1bd9f26f75861d360bad7f8beea211f-knockout_punches.js\\\"}],\\\"type\\\":\\\"async_block\\\"})).then((imports) => handler.apply(this, imports));\\n}\\n\"],\"observables\":{\"loading\":{\"sync\":false,\"id\":\"17237086543952722334\",\"value\":false},\"clicks\":{\"sync\":true,\"id\":\"4279245758492588836\",\"value\":0}}},\"children\":[{\"props\":{\"attributes\":{\"data-bind\":\"click: function (){this.clicks(this.clicks()+1)}, css: {'is-loading' : loading}\"},\"className\":\"is-medium button is-primary\",\"style\":{}},\"nodeType\":\"DOM\",\"type\":\"node\",\"instanceArgs\":{\"namespace\":\"html\",\"tag\":\"button\"},\"children\":[\"reset\"]}]}]},{\"props\":{\"className\":\"interact-widget\"},\"nodeType\":\"DOM\",\"type\":\"node\",\"instanceArgs\":{\"namespace\":\"html\",\"tag\":\"div\"},\"children\":[{\"props\":{},\"nodeType\":\"Scope\",\"type\":\"node\",\"instanceArgs\":{\"imports\":{\"data\":[{\"name\":null,\"type\":\"js\",\"url\":\"\\/assetserver\\/dd22ed1bf1896c2748f3fe616ce0b838adc895c1-katex.min.js\"},{\"name\":null,\"type\":\"css\",\"url\":\"\\/assetserver\\/46517a424aa5e6cffc1360d7e0848b601c584ee3-katex.min.css\"}],\"type\":\"async_block\"},\"id\":\"7335939888855063027\",\"handlers\":{\"value\":[\"(function (txt){return this.k.render(txt,this.container)})\"]},\"systemjs_options\":null,\"mount_callbacks\":[\"function () {\\n    var handler = ((function (k){this.k=k; this.container=this.dom.querySelector(\\\"#container\\\"); return k.render(\\\"\\\\\\\\;\\\\\\\\;\\\",this.container)}));\\n    (WebIO.importBlock({\\\"data\\\":[{\\\"name\\\":null,\\\"type\\\":\\\"js\\\",\\\"url\\\":\\\"\\/assetserver\\/dd22ed1bf1896c2748f3fe616ce0b838adc895c1-katex.min.js\\\"},{\\\"name\\\":null,\\\"type\\\":\\\"css\\\",\\\"url\\\":\\\"\\/assetserver\\/46517a424aa5e6cffc1360d7e0848b601c584ee3-katex.min.css\\\"}],\\\"type\\\":\\\"async_block\\\"})).then((imports) => handler.apply(this, imports));\\n}\\n\"],\"observables\":{\"value\":{\"sync\":false,\"id\":\"4770155353801957774\",\"value\":\"\\\\;\\\\;\"}}},\"children\":[{\"props\":{\"id\":\"container\"},\"nodeType\":\"DOM\",\"type\":\"node\",\"instanceArgs\":{\"namespace\":\"html\",\"tag\":\"div\"},\"children\":[]}]}]},{\"props\":{\"className\":\"field interact-widget\"},\"nodeType\":\"DOM\",\"type\":\"node\",\"instanceArgs\":{\"namespace\":\"html\",\"tag\":\"div\"},\"children\":[{\"props\":{},\"nodeType\":\"Scope\",\"type\":\"node\",\"instanceArgs\":{\"imports\":{\"data\":[{\"name\":\"knockout\",\"type\":\"js\",\"url\":\"\\/assetserver\\/727383f2a47bd31570b7da84eee7b022dd6d7c78-knockout.js\"},{\"name\":\"knockout_punches\",\"type\":\"js\",\"url\":\"\\/assetserver\\/382b41b3b1bd9f26f75861d360bad7f8beea211f-knockout_punches.js\"},{\"name\":null,\"type\":\"js\",\"url\":\"\\/assetserver\\/5ab20f1060420992a9b82a65b735dee4d81ef413-all.js\"},{\"name\":null,\"type\":\"css\",\"url\":\"\\/assetserver\\/1cc0ed62837210b80a182cc3676512f895dab686-style.css\"},{\"name\":null,\"type\":\"css\",\"url\":\"\\/assetserver\\/2eee816f616df3549d7044d45e744fbf8d42bfa1-bulma_confined.min.css\"}],\"type\":\"async_block\"},\"id\":\"13517765429887548921\",\"handlers\":{\"loading\":[\"(function (val){return (val!=this.model[\\\"loading\\\"]()) ? (this.valueFromJulia[\\\"loading\\\"]=true, this.model[\\\"loading\\\"](val)) : undefined})\"],\"clicks\":[\"(function (val){return (val!=this.model[\\\"clicks\\\"]()) ? (this.valueFromJulia[\\\"clicks\\\"]=true, this.model[\\\"clicks\\\"](val)) : undefined})\"]},\"systemjs_options\":null,\"mount_callbacks\":[\"function () {\\n    var handler = (function (ko, koPunches) {\\n    ko.punches.enableAll();\\n    ko.bindingHandlers.numericValue = {\\n        init: function(element, valueAccessor, allBindings, data, context) {\\n            var stringified = ko.observable(ko.unwrap(valueAccessor()));\\n            stringified.subscribe(function(value) {\\n                var val = parseFloat(value);\\n                if (!isNaN(val)) {\\n                    valueAccessor()(val);\\n                }\\n            });\\n            valueAccessor().subscribe(function(value) {\\n                var str = JSON.stringify(value);\\n                if ((str == \\\"0\\\") && ([\\\"-0\\\", \\\"-0.\\\"].indexOf(stringified()) >= 0))\\n                     return;\\n                 if ([\\\"null\\\", \\\"\\\"].indexOf(str) >= 0)\\n                     return;\\n                stringified(str);\\n            });\\n            ko.applyBindingsToNode(\\n                element,\\n                {\\n                    value: stringified,\\n                    valueUpdate: allBindings.get('valueUpdate'),\\n                },\\n                context,\\n            );\\n        }\\n    };\\n    var json_data = {\\\"loading\\\":WebIO.getval({\\\"name\\\":\\\"loading\\\",\\\"scope\\\":\\\"13517765429887548921\\\",\\\"id\\\":\\\"14160130362020212486\\\",\\\"type\\\":\\\"observable\\\"}),\\\"clicks\\\":WebIO.getval({\\\"name\\\":\\\"clicks\\\",\\\"scope\\\":\\\"13517765429887548921\\\",\\\"id\\\":\\\"4879985750751193038\\\",\\\"type\\\":\\\"observable\\\"})};\\n    var self = this;\\n    function AppViewModel() {\\n        for (var key in json_data) {\\n            var el = json_data[key];\\n            this[key] = Array.isArray(el) ? ko.observableArray(el) : ko.observable(el);\\n        }\\n        \\n        \\n        [this[\\\"loading\\\"].subscribe((function (val){!(this.valueFromJulia[\\\"loading\\\"]) ? (WebIO.setval({\\\"name\\\":\\\"loading\\\",\\\"scope\\\":\\\"13517765429887548921\\\",\\\"id\\\":\\\"14160130362020212486\\\",\\\"type\\\":\\\"observable\\\"},val)) : undefined; return this.valueFromJulia[\\\"loading\\\"]=false}),self),this[\\\"clicks\\\"].subscribe((function (val){!(this.valueFromJulia[\\\"clicks\\\"]) ? (WebIO.setval({\\\"name\\\":\\\"clicks\\\",\\\"scope\\\":\\\"13517765429887548921\\\",\\\"id\\\":\\\"4879985750751193038\\\",\\\"type\\\":\\\"observable\\\"},val)) : undefined; return this.valueFromJulia[\\\"clicks\\\"]=false}),self)]\\n        \\n    }\\n    self.model = new AppViewModel();\\n    self.valueFromJulia = {};\\n    for (var key in json_data) {\\n        self.valueFromJulia[key] = false;\\n    }\\n    ko.applyBindings(self.model, self.dom);\\n}\\n);\\n    (WebIO.importBlock({\\\"data\\\":[{\\\"name\\\":\\\"knockout\\\",\\\"type\\\":\\\"js\\\",\\\"url\\\":\\\"\\/assetserver\\/727383f2a47bd31570b7da84eee7b022dd6d7c78-knockout.js\\\"},{\\\"name\\\":\\\"knockout_punches\\\",\\\"type\\\":\\\"js\\\",\\\"url\\\":\\\"\\/assetserver\\/382b41b3b1bd9f26f75861d360bad7f8beea211f-knockout_punches.js\\\"}],\\\"type\\\":\\\"async_block\\\"})).then((imports) => handler.apply(this, imports));\\n}\\n\"],\"observables\":{\"loading\":{\"sync\":false,\"id\":\"14160130362020212486\",\"value\":false},\"clicks\":{\"sync\":true,\"id\":\"4879985750751193038\",\"value\":0}}},\"children\":[{\"props\":{\"attributes\":{\"data-bind\":\"click: function (){this.clicks(this.clicks()+1)}, css: {'is-loading' : loading}\"},\"className\":\"is-medium button is-primary\",\"style\":{}},\"nodeType\":\"DOM\",\"type\":\"node\",\"instanceArgs\":{\"namespace\":\"html\",\"tag\":\"button\"},\"children\":[\"save\"]}]}]}]}]},{\"props\":{\"className\":\"interact-widget\"},\"nodeType\":\"DOM\",\"type\":\"node\",\"instanceArgs\":{\"namespace\":\"html\",\"tag\":\"div\"},\"children\":[{\"props\":{},\"nodeType\":\"Scope\",\"type\":\"node\",\"instanceArgs\":{\"imports\":{\"data\":[{\"name\":null,\"type\":\"js\",\"url\":\"\\/assetserver\\/dd22ed1bf1896c2748f3fe616ce0b838adc895c1-katex.min.js\"},{\"name\":null,\"type\":\"css\",\"url\":\"\\/assetserver\\/46517a424aa5e6cffc1360d7e0848b601c584ee3-katex.min.css\"}],\"type\":\"async_block\"},\"id\":\"7335939888855063027\",\"handlers\":{\"value\":[\"(function (txt){return this.k.render(txt,this.container)})\"]},\"systemjs_options\":null,\"mount_callbacks\":[\"function () {\\n    var handler = ((function (k){this.k=k; this.container=this.dom.querySelector(\\\"#container\\\"); return k.render(\\\"\\\\\\\\;\\\\\\\\;\\\",this.container)}));\\n    (WebIO.importBlock({\\\"data\\\":[{\\\"name\\\":null,\\\"type\\\":\\\"js\\\",\\\"url\\\":\\\"\\/assetserver\\/dd22ed1bf1896c2748f3fe616ce0b838adc895c1-katex.min.js\\\"},{\\\"name\\\":null,\\\"type\\\":\\\"css\\\",\\\"url\\\":\\\"\\/assetserver\\/46517a424aa5e6cffc1360d7e0848b601c584ee3-katex.min.css\\\"}],\\\"type\\\":\\\"async_block\\\"})).then((imports) => handler.apply(this, imports));\\n}\\n\"],\"observables\":{\"value\":{\"sync\":false,\"id\":\"4770155353801957774\",\"value\":\"\\\\;\\\\;\"}}},\"children\":[{\"props\":{\"id\":\"container\"},\"nodeType\":\"DOM\",\"type\":\"node\",\"instanceArgs\":{\"namespace\":\"html\",\"tag\":\"div\"},\"children\":[]}]}]},{\"props\":{},\"nodeType\":\"Scope\",\"type\":\"node\",\"instanceArgs\":{\"imports\":{\"data\":[],\"type\":\"async_block\"},\"id\":\"13986358261254877706\",\"handlers\":{\"obs-output\":[\"function (value, scope) {\\n    scope.setInnerHTML(value);\\n}\\n\"]},\"systemjs_options\":null,\"mount_callbacks\":[],\"observables\":{\"obs-output\":{\"sync\":false,\"id\":\"14034285822818827828\",\"value\":\"<img src='data:image\\/png;base64,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'><\\/img>\"}}},\"children\":[{\"props\":{\"className\":\"webio-observable\",\"setInnerHtml\":\"<img src='data:image\\/png;base64,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'><\\/img>\"},\"nodeType\":\"DOM\",\"type\":\"node\",\"instanceArgs\":{\"namespace\":\"html\",\"tag\":\"div\"},\"children\":[]}]},{\"props\":{\"className\":\"interact-widget\"},\"nodeType\":\"DOM\",\"type\":\"node\",\"instanceArgs\":{\"namespace\":\"html\",\"tag\":\"div\"},\"children\":[{\"props\":{},\"nodeType\":\"Scope\",\"type\":\"node\",\"instanceArgs\":{\"imports\":{\"data\":[{\"name\":null,\"type\":\"js\",\"url\":\"\\/assetserver\\/dd22ed1bf1896c2748f3fe616ce0b838adc895c1-katex.min.js\"},{\"name\":null,\"type\":\"css\",\"url\":\"\\/assetserver\\/46517a424aa5e6cffc1360d7e0848b601c584ee3-katex.min.css\"}],\"type\":\"async_block\"},\"id\":\"7335939888855063027\",\"handlers\":{\"value\":[\"(function (txt){return this.k.render(txt,this.container)})\"]},\"systemjs_options\":null,\"mount_callbacks\":[\"function () {\\n    var handler = ((function (k){this.k=k; this.container=this.dom.querySelector(\\\"#container\\\"); return k.render(\\\"\\\\\\\\;\\\\\\\\;\\\",this.container)}));\\n    (WebIO.importBlock({\\\"data\\\":[{\\\"name\\\":null,\\\"type\\\":\\\"js\\\",\\\"url\\\":\\\"\\/assetserver\\/dd22ed1bf1896c2748f3fe616ce0b838adc895c1-katex.min.js\\\"},{\\\"name\\\":null,\\\"type\\\":\\\"css\\\",\\\"url\\\":\\\"\\/assetserver\\/46517a424aa5e6cffc1360d7e0848b601c584ee3-katex.min.css\\\"}],\\\"type\\\":\\\"async_block\\\"})).then((imports) => handler.apply(this, imports));\\n}\\n\"],\"observables\":{\"value\":{\"sync\":false,\"id\":\"4770155353801957774\",\"value\":\"\\\\;\\\\;\"}}},\"children\":[{\"props\":{\"id\":\"container\"},\"nodeType\":\"DOM\",\"type\":\"node\",\"instanceArgs\":{\"namespace\":\"html\",\"tag\":\"div\"},\"children\":[]}]}]},{\"props\":{\"style\":{\"display\":\"flex\",\"flex-direction\":\"column\"}},\"nodeType\":\"DOM\",\"type\":\"node\",\"instanceArgs\":{\"namespace\":\"html\",\"tag\":\"div\"},\"children\":[]}]}]},\n",
       "        window,\n",
       "    );\n",
       "    })()\n",
       "    </script>\n",
       "</div>\n"
      ],
      "text/plain": [
       "WebIO.Node{WebIO.DOM}(WebIO.DOM(:html, :div), Any[WebIO.Node{WebIO.DOM}(WebIO.DOM(:html, :div), Any[WebIO.Node{WebIO.DOM}(WebIO.DOM(:html, :div), Any[WebIO.Node{WebIO.DOM}(WebIO.DOM(:html, :div), Any[WebIO.Scope(WebIO.Node{WebIO.DOM}(WebIO.DOM(:html, :div), Any[WebIO.Node{WebIO.DOM}(WebIO.DOM(:html, :div), Any[WebIO.Node{WebIO.DOM}(WebIO.DOM(:html, :label), Any[\"time\"], Dict{Symbol, Any}(:className => \"interact \", :style => Dict{Any, Any}(:padding => \"5px 10px 0px 10px\")))], Dict{Symbol, Any}(:className => \"interact-flex-row-left\")), WebIO.Node{WebIO.DOM}(WebIO.DOM(:html, :div), Any[WebIO.Node{WebIO.DOM}(WebIO.DOM(:html, :input), Any[], Dict{Symbol, Any}(:max => 400, :min => 1, :attributes => Dict{Any, Any}(:type => \"range\", Symbol(\"data-bind\") => \"numericValue: index, valueUpdate: 'input', event: {change: function (){this.changes(this.changes()+1)}}\", \"orient\" => \"horizontal\"), :step => 1, :className => \"slider slider is-fullwidth\", :style => Dict{Any, Any}()))], Dict{Symbol, Any}(:className => \"interact-flex-row-center\")), WebIO.Node{WebIO.DOM}(WebIO.DOM(:html, :div), Any[WebIO.Node{WebIO.DOM}(WebIO.DOM(:html, :p), Any[], Dict{Symbol, Any}(:attributes => Dict(\"data-bind\" => \"text: formatted_val\")))], Dict{Symbol, Any}(:className => \"interact-flex-row-right\"))], Dict{Symbol, Any}(:className => \"interact-flex-row interact-widget\")), Dict{String, Tuple{Observables.AbstractObservable, Union{Nothing, Bool}}}(\"changes\" => (Observable(0), nothing), \"index\" => (Observable(1), nothing)), Set{String}(), nothing, WebIO.Asset[WebIO.Asset(\"js\", \"knockout\", \"/home/dushya/.julia/packages/Knockout/HReiN/src/../assets/knockout.js\"), WebIO.Asset(\"js\", \"knockout_punches\", \"/home/dushya/.julia/packages/Knockout/HReiN/src/../assets/knockout_punches.js\"), WebIO.Asset(\"js\", nothing, \"/home/dushya/.julia/packages/InteractBase/LJXv3/src/../assets/all.js\"), WebIO.Asset(\"css\", nothing, \"/home/dushya/.julia/packages/InteractBase/LJXv3/src/../assets/style.css\"), WebIO.Asset(\"css\", nothing, \"/home/dushya/.julia/packages/Interact/PENUy/src/../assets/bulma_confined.min.css\")], Dict{Any, Any}(\"changes\" => Any[WebIO.JSString(\"(function (val){return (val!=this.model[\\\"changes\\\"]()) ? (this.valueFromJulia[\\\"changes\\\"]=true, this.model[\\\"changes\\\"](val)) : undefined})\")], \"index\" => Any[WebIO.JSString(\"(function (val){return (val!=this.model[\\\"index\\\"]()) ? (this.valueFromJulia[\\\"index\\\"]=true, this.model[\\\"index\\\"](val)) : undefined})\")]), WebIO.ConnectionPool(Channel{Any}(32), Set{WebIO.AbstractConnection}(), Base.GenericCondition{ReentrantLock}(Base.IntrusiveLinkedList{Task}(Task (runnable) @0x00007f1f70767d00, Task (runnable) @0x00007f1f70767d00), ReentrantLock(nothing, 0x00000000, 0x00, Base.GenericCondition{Base.Threads.SpinLock}(Base.IntrusiveLinkedList{Task}(nothing, nothing), Base.Threads.SpinLock(0)), (0, 139773674765248, 139773674765248)))), WebIO.JSString[WebIO.JSString(\"function () {\\n    var handler = (function (ko, koPunches) {\\n    ko.punches.enableAll();\\n    ko.bindingHandlers.numericValue = {\\n        init: function(element, valueAccessor, allBindings, data, context) {\\n            var stringified = ko.observable(ko.unwrap(valueAccessor()));\\n            stringified.subscribe(function(value) {\\n                var val = parseFloat(value);\\n                if (!isNaN(val)) {\\n                    valueAccessor()(val);\\n                }\\n            });\\n            valueAccessor().subscribe(function(value) {\\n                var str = JSON.stringify(value);\\n                if ((str == \\\"0\\\") && ([\\\"-0\\\", \\\"-0.\\\"].indexOf(stringified()) >= 0))\\n                     return;\\n                 if ([\\\"null\\\", \\\"\\\"].indexOf(str) >= 0)\\n                     return;\\n                stringified(str);\\n            });\\n            ko.applyBindingsToNode(\\n                element,\\n                {\\n                    value: stringified,\\n                    valueUpdate: allBindings.get('valueUpdate'),\\n                },\\n                context,\\n            );\\n        }\\n    };\\n    var json_data = {\\\"formatted_vals\\\":[\\\"1\\\",\\\"2\\\",\\\"3\\\",\\\"4\\\",\\\"5\\\",\\\"6\\\",\\\"7\\\",\\\"8\\\",\\\"9\\\",\\\"10\\\",\\\"11\\\",\\\"12\\\",\\\"13\\\",\\\"14\\\",\\\"15\\\",\\\"16\\\",\\\"17\\\",\\\"18\\\",\\\"19\\\",\\\"20\\\",\\\"21\\\",\\\"22\\\",\\\"23\\\",\\\"24\\\",\\\"25\\\",\\\"26\\\",\\\"27\\\",\\\"28\\\",\\\"29\\\",\\\"30\\\",\\\"31\\\",\\\"32\\\",\\\"33\\\",\\\"34\\\",\\\"35\\\",\\\"36\\\",\\\"37\\\",\\\"38\\\",\\\"39\\\",\\\"40\\\",\\\"41\\\",\\\"42\\\",\\\"43\\\",\\\"44\\\",\\\"45\\\",\\\"46\\\",\\\"47\\\",\\\"48\\\",\\\"49\\\",\\\"50\\\",\\\"51\\\",\\\"52\\\",\\\"53\\\",\\\"54\\\",\\\"55\\\",\\\"56\\\",\\\"57\\\",\\\"58\\\",\\\"59\\\",\\\"60\\\",\\\"61\\\",\\\"62\\\",\\\"63\\\",\\\"64\\\",\\\"65\\\",\\\"66\\\",\\\"67\\\",\\\"68\\\",\\\"69\\\",\\\"70\\\",\\\"71\\\",\\\"72\\\",\\\"73\\\",\\\"74\\\",\\\"75\\\",\\\"76\\\",\\\"77\\\",\\\"78\\\",\\\"79\\\",\\\"80\\\",\\\"81\\\",\\\"82\\\",\\\"83\\\",\\\"84\\\",\\\"85\\\",\\\"86\\\",\\\"87\\\",\\\"88\\\",\\\"89\\\",\\\"90\\\",\\\"91\\\",\\\"92\\\",\\\"93\\\",\\\"94\\\",\\\"95\\\",\\\"96\\\",\\\"97\\\",\\\"98\\\",\\\"99\\\",\\\"100\\\",\\\"101\\\",\\\"102\\\",\\\"103\\\",\\\"104\\\",\\\"105\\\",\\\"106\\\",\\\"107\\\",\\\"108\\\",\\\"109\\\",\\\"110\\\",\\\"111\\\",\\\"112\\\",\\\"113\\\",\\\"114\\\",\\\"115\\\",\\\"116\\\",\\\"117\\\",\\\"118\\\",\\\"119\\\",\\\"120\\\",\\\"121\\\",\\\"122\\\",\\\"123\\\",\\\"124\\\",\\\"125\\\",\\\"126\\\",\\\"127\\\",\\\"128\\\",\\\"129\\\",\\\"130\\\",\\\"131\\\",\\\"132\\\",\\\"133\\\",\\\"134\\\",\\\"135\\\",\\\"136\\\",\\\"137\\\",\\\"138\\\",\\\"139\\\",\\\"140\\\",\\\"141\\\",\\\"142\\\",\\\"143\\\",\\\"144\\\",\\\"145\\\",\\\"146\\\",\\\"147\\\",\\\"148\\\",\\\"149\\\",\\\"150\\\",\\\"151\\\",\\\"152\\\",\\\"153\\\",\\\"154\\\",\\\"155\\\",\\\"156\\\",\\\"157\\\",\\\"158\\\",\\\"159\\\",\\\"160\\\",\\\"161\\\",\\\"162\\\",\\\"163\\\",\\\"164\\\",\\\"165\\\",\\\"166\\\",\\\"167\\\",\\\"168\\\",\\\"169\\\",\\\"170\\\",\\\"171\\\",\\\"172\\\",\\\"173\\\",\\\"174\\\",\\\"175\\\",\\\"176\\\",\\\"177\\\",\\\"178\\\",\\\"179\\\",\\\"180\\\",\\\"181\\\",\\\"182\\\",\\\"183\\\",\\\"184\\\",\\\"185\\\",\\\"186\\\",\\\"187\\\",\\\"188\\\",\\\"189\\\",\\\"190\\\",\\\"191\\\",\\\"192\\\",\\\"193\\\",\\\"194\\\",\\\"195\\\",\\\"196\\\",\\\"197\\\",\\\"198\\\",\\\"199\\\",\\\"200\\\",\\\"201\\\",\\\"202\\\",\\\"203\\\",\\\"204\\\",\\\"205\\\",\\\"206\\\",\\\"207\\\",\\\"208\\\",\\\"209\\\",\\\"210\\\",\\\"211\\\",\\\"212\\\",\\\"213\\\",\\\"214\\\",\\\"215\\\",\\\"216\\\",\\\"217\\\",\\\"218\\\",\\\"219\\\",\\\"220\\\",\\\"221\\\",\\\"222\\\",\\\"223\\\",\\\"224\\\",\\\"225\\\",\\\"226\\\",\\\"227\\\",\\\"228\\\",\\\"229\\\",\\\"230\\\",\\\"231\\\",\\\"232\\\",\\\"233\\\",\\\"234\\\",\\\"235\\\",\\\"236\\\",\\\"237\\\",\\\"238\\\",\\\"239\\\",\\\"240\\\",\\\"241\\\",\\\"242\\\",\\\"243\\\",\\\"244\\\",\\\"245\\\",\\\"246\\\",\\\"247\\\",\\\"248\\\",\\\"249\\\",\\\"250\\\",\\\"251\\\",\\\"252\\\",\\\"253\\\",\\\"254\\\",\\\"255\\\",\\\"256\\\",\\\"257\\\",\\\"258\\\",\\\"259\\\",\\\"260\\\",\\\"261\\\",\\\"262\\\",\\\"263\\\",\\\"264\\\",\\\"265\\\",\\\"266\\\",\\\"267\\\",\\\"268\\\",\\\"269\\\",\\\"270\\\",\\\"271\\\",\\\"272\\\",\\\"273\\\",\\\"274\\\",\\\"275\\\",\\\"276\\\",\\\"277\\\",\\\"278\\\",\\\"279\\\",\\\"280\\\",\\\"281\\\",\\\"282\\\",\\\"283\\\",\\\"284\\\",\\\"285\\\",\\\"286\\\",\\\"287\\\",\\\"288\\\",\\\"289\\\",\\\"290\\\",\\\"291\\\",\\\"292\\\",\\\"293\\\",\\\"294\\\",\\\"295\\\",\\\"296\\\",\\\"297\\\",\\\"298\\\",\\\"299\\\",\\\"300\\\",\\\"301\\\",\\\"302\\\",\\\"303\\\",\\\"304\\\",\\\"305\\\",\\\"306\\\",\\\"307\\\",\\\"308\\\",\\\"309\\\",\\\"310\\\",\\\"311\\\",\\\"312\\\",\\\"313\\\",\\\"314\\\",\\\"315\\\",\\\"316\\\",\\\"317\\\",\\\"318\\\",\\\"319\\\",\\\"320\\\",\\\"321\\\",\\\"322\\\",\\\"323\\\",\\\"324\\\",\\\"325\\\",\\\"326\\\",\\\"327\\\",\\\"328\\\",\\\"329\\\",\\\"330\\\",\\\"331\\\",\\\"332\\\",\\\"333\\\",\\\"334\\\",\\\"335\\\",\\\"336\\\",\\\"337\\\",\\\"338\\\",\\\"339\\\",\\\"340\\\",\\\"341\\\",\\\"342\\\",\\\"343\\\",\\\"344\\\",\\\"345\\\",\\\"346\\\",\\\"347\\\",\\\"348\\\",\\\"349\\\",\\\"350\\\",\\\"351\\\",\\\"352\\\",\\\"353\\\",\\\"354\\\",\\\"355\\\",\\\"356\\\",\\\"357\\\",\\\"358\\\",\\\"359\\\",\\\"360\\\",\\\"361\\\",\\\"362\\\",\\\"363\\\",\\\"364\\\",\\\"365\\\",\\\"366\\\",\\\"367\\\",\\\"368\\\",\\\"369\\\",\\\"370\\\",\\\"371\\\",\\\"372\\\",\\\"373\\\",\\\"374\\\",\\\"375\\\",\\\"376\\\",\\\"377\\\",\\\"378\\\",\\\"379\\\",\\\"380\\\",\\\"381\\\",\\\"382\\\",\\\"383\\\",\\\"384\\\",\\\"385\\\",\\\"386\\\",\\\"387\\\",\\\"388\\\",\\\"389\\\",\\\"390\\\",\\\"391\\\",\\\"392\\\",\\\"393\\\",\\\"394\\\",\\\"395\\\",\\\"396\\\",\\\"397\\\",\\\"398\\\",\\\"399\\\",\\\"400\\\"],\\\"changes\\\":WebIO.getval({\\\"name\\\":\\\"changes\\\",\\\"scope\\\":\\\"11158847470735915112\\\",\\\"id\\\":\\\"127055134958699330\\\",\\\"type\\\":\\\"observable\\\"}),\\\"index\\\":WebIO.getval({\\\"name\\\":\\\"index\\\",\\\"scope\\\":\\\"11158847470735915112\\\",\\\"id\\\":\\\"13250034460073044813\\\",\\\"type\\\":\\\"observable\\\"})};\\n    var self = this;\\n    function AppViewModel() {\\n        for (var key in json_data) {\\n            var el = json_data[key];\\n            this[key] = Array.isArray(el) ? ko.observableArray(el) : ko.observable(el);\\n        }\\n        \\n        [this[\\\"formatted_val\\\"]=ko.computed(    function(){\\n        return this.formatted_vals()[parseInt(this.index())-(1)];\\n    }\\n,this)]\\n        [this[\\\"changes\\\"].subscribe((function (val){!(this.valueFromJulia[\\\"changes\\\"]) ? (WebIO.setval({\\\"name\\\":\\\"changes\\\",\\\"scope\\\":\\\"11158847470735915112\\\",\\\"id\\\":\\\"127055134958699330\\\",\\\"type\\\":\\\"observable\\\"},val)) : undefined; return this.valueFromJulia[\\\"changes\\\"]=false}),self),this[\\\"index\\\"].subscribe((function (val){!(this.valueFromJulia[\\\"index\\\"]) ? (WebIO.setval({\\\"name\\\":\\\"index\\\",\\\"scope\\\":\\\"11158847470735915112\\\",\\\"id\\\":\\\"13250034460073044813\\\",\\\"type\\\":\\\"observable\\\"},val)) : undefined; return this.valueFromJulia[\\\"index\\\"]=false}),self)]\\n        \\n    }\\n    self.model = new AppViewModel();\\n    self.valueFromJulia = {};\\n    for (var key in json_data) {\\n        self.valueFromJulia[key] = false;\\n    }\\n    ko.applyBindings(self.model, self.dom);\\n}\\n);\\n    (WebIO.importBlock({\\\"data\\\":[{\\\"name\\\":\\\"knockout\\\",\\\"type\\\":\\\"js\\\",\\\"url\\\":\\\"/assetserver/727383f2a47bd31570b7da84eee7b022dd6d7c78-knockout.js\\\"},{\\\"name\\\":\\\"knockout_punches\\\",\\\"type\\\":\\\"js\\\",\\\"url\\\":\\\"/assetserver/382b41b3b1bd9f26f75861d360bad7f8beea211f-knockout_punches.js\\\"}],\\\"type\\\":\\\"async_block\\\"})).then((imports) => handler.apply(this, imports));\\n}\\n\")])], Dict{Symbol, Any}(:className => \"field interact-widget\")), WebIO.Node{WebIO.DOM}(WebIO.DOM(:html, :div), Any[WebIO.Scope(WebIO.Node{WebIO.DOM}(WebIO.DOM(:html, :div), Any[WebIO.Node{WebIO.DOM}(WebIO.DOM(:html, :div), Any[WebIO.Node{WebIO.DOM}(WebIO.DOM(:html, :label), Any[\"scale\"], Dict{Symbol, Any}(:className => \"interact \", :style => Dict{Any, Any}(:padding => \"5px 10px 0px 10px\")))], Dict{Symbol, Any}(:className => \"interact-flex-row-left\")), WebIO.Node{WebIO.DOM}(WebIO.DOM(:html, :div), Any[WebIO.Node{WebIO.DOM}(WebIO.DOM(:html, :input), Any[], Dict{Symbol, Any}(:max => 20, :min => 1, :attributes => Dict{Any, Any}(:type => \"range\", Symbol(\"data-bind\") => \"numericValue: index, valueUpdate: 'input', event: {change: function (){this.changes(this.changes()+1)}}\", \"orient\" => \"horizontal\"), :step => 1, :className => \"slider slider is-fullwidth\", :style => Dict{Any, Any}()))], Dict{Symbol, Any}(:className => \"interact-flex-row-center\")), WebIO.Node{WebIO.DOM}(WebIO.DOM(:html, :div), Any[WebIO.Node{WebIO.DOM}(WebIO.DOM(:html, :p), Any[], Dict{Symbol, Any}(:attributes => Dict(\"data-bind\" => \"text: formatted_val\")))], Dict{Symbol, Any}(:className => \"interact-flex-row-right\"))], Dict{Symbol, Any}(:className => \"interact-flex-row interact-widget\")), Dict{String, Tuple{Observables.AbstractObservable, Union{Nothing, Bool}}}(\"changes\" => (Observable(0), nothing), \"index\" => (Observable{Any}(10), nothing)), Set{String}(), nothing, WebIO.Asset[WebIO.Asset(\"js\", \"knockout\", \"/home/dushya/.julia/packages/Knockout/HReiN/src/../assets/knockout.js\"), WebIO.Asset(\"js\", \"knockout_punches\", \"/home/dushya/.julia/packages/Knockout/HReiN/src/../assets/knockout_punches.js\"), WebIO.Asset(\"js\", nothing, \"/home/dushya/.julia/packages/InteractBase/LJXv3/src/../assets/all.js\"), WebIO.Asset(\"css\", nothing, \"/home/dushya/.julia/packages/InteractBase/LJXv3/src/../assets/style.css\"), WebIO.Asset(\"css\", nothing, \"/home/dushya/.julia/packages/Interact/PENUy/src/../assets/bulma_confined.min.css\")], Dict{Any, Any}(\"changes\" => Any[WebIO.JSString(\"(function (val){return (val!=this.model[\\\"changes\\\"]()) ? (this.valueFromJulia[\\\"changes\\\"]=true, this.model[\\\"changes\\\"](val)) : undefined})\")], \"index\" => Any[WebIO.JSString(\"(function (val){return (val!=this.model[\\\"index\\\"]()) ? (this.valueFromJulia[\\\"index\\\"]=true, this.model[\\\"index\\\"](val)) : undefined})\")]), WebIO.ConnectionPool(Channel{Any}(32), Set{WebIO.AbstractConnection}(), Base.GenericCondition{ReentrantLock}(Base.IntrusiveLinkedList{Task}(Task (runnable) @0x00007f1f707b2a40, Task (runnable) @0x00007f1f707b2a40), ReentrantLock(nothing, 0x00000000, 0x00, Base.GenericCondition{Base.Threads.SpinLock}(Base.IntrusiveLinkedList{Task}(nothing, nothing), Base.Threads.SpinLock(0)), (0, 0, 137438953472)))), WebIO.JSString[WebIO.JSString(\"function () {\\n    var handler = (function (ko, koPunches) {\\n    ko.punches.enableAll();\\n    ko.bindingHandlers.numericValue = {\\n        init: function(element, valueAccessor, allBindings, data, context) {\\n            var stringified = ko.observable(ko.unwrap(valueAccessor()));\\n            stringified.subscribe(function(value) {\\n                var val = parseFloat(value);\\n                if (!isNaN(val)) {\\n                    valueAccessor()(val);\\n                }\\n            });\\n            valueAccessor().subscribe(function(value) {\\n                var str = JSON.stringify(value);\\n                if ((str == \\\"0\\\") && ([\\\"-0\\\", \\\"-0.\\\"].indexOf(stringified()) >= 0))\\n                     return;\\n                 if ([\\\"null\\\", \\\"\\\"].indexOf(str) >= 0)\\n                     return;\\n                stringified(str);\\n            });\\n            ko.applyBindingsToNode(\\n                element,\\n                {\\n                    value: stringified,\\n                    valueUpdate: allBindings.get('valueUpdate'),\\n                },\\n                context,\\n            );\\n        }\\n    };\\n    var json_data = {\\\"formatted_vals\\\":[\\\"0.1\\\",\\\"0.2\\\",\\\"0.3\\\",\\\"0.4\\\",\\\"0.5\\\",\\\"0.6\\\",\\\"0.7\\\",\\\"0.8\\\",\\\"0.9\\\",\\\"1.0\\\",\\\"1.1\\\",\\\"1.2\\\",\\\"1.3\\\",\\\"1.4\\\",\\\"1.5\\\",\\\"1.6\\\",\\\"1.7\\\",\\\"1.8\\\",\\\"1.9\\\",\\\"2.0\\\"],\\\"changes\\\":WebIO.getval({\\\"name\\\":\\\"changes\\\",\\\"scope\\\":\\\"7587535738147350570\\\",\\\"id\\\":\\\"17572010286264326827\\\",\\\"type\\\":\\\"observable\\\"}),\\\"index\\\":WebIO.getval({\\\"name\\\":\\\"index\\\",\\\"scope\\\":\\\"7587535738147350570\\\",\\\"id\\\":\\\"9739638686758683671\\\",\\\"type\\\":\\\"observable\\\"})};\\n    var self = this;\\n    function AppViewModel() {\\n        for (var key in json_data) {\\n            var el = json_data[key];\\n            this[key] = Array.isArray(el) ? ko.observableArray(el) : ko.observable(el);\\n        }\\n        \\n        [this[\\\"formatted_val\\\"]=ko.computed(    function(){\\n        return this.formatted_vals()[parseInt(this.index())-(1)];\\n    }\\n,this)]\\n        [this[\\\"changes\\\"].subscribe((function (val){!(this.valueFromJulia[\\\"changes\\\"]) ? (WebIO.setval({\\\"name\\\":\\\"changes\\\",\\\"scope\\\":\\\"7587535738147350570\\\",\\\"id\\\":\\\"17572010286264326827\\\",\\\"type\\\":\\\"observable\\\"},val)) : undefined; return this.valueFromJulia[\\\"changes\\\"]=false}),self),this[\\\"index\\\"].subscribe((function (val){!(this.valueFromJulia[\\\"index\\\"]) ? (WebIO.setval({\\\"name\\\":\\\"index\\\",\\\"scope\\\":\\\"7587535738147350570\\\",\\\"id\\\":\\\"9739638686758683671\\\",\\\"type\\\":\\\"observable\\\"},val)) : undefined; return this.valueFromJulia[\\\"index\\\"]=false}),self)]\\n        \\n    }\\n    self.model = new AppViewModel();\\n    self.valueFromJulia = {};\\n    for (var key in json_data) {\\n        self.valueFromJulia[key] = false;\\n    }\\n    ko.applyBindings(self.model, self.dom);\\n}\\n);\\n    (WebIO.importBlock({\\\"data\\\":[{\\\"name\\\":\\\"knockout\\\",\\\"type\\\":\\\"js\\\",\\\"url\\\":\\\"/assetserver/727383f2a47bd31570b7da84eee7b022dd6d7c78-knockout.js\\\"},{\\\"name\\\":\\\"knockout_punches\\\",\\\"type\\\":\\\"js\\\",\\\"url\\\":\\\"/assetserver/382b41b3b1bd9f26f75861d360bad7f8beea211f-knockout_punches.js\\\"}],\\\"type\\\":\\\"async_block\\\"})).then((imports) => handler.apply(this, imports));\\n}\\n\")])], Dict{Symbol, Any}(:className => \"field interact-widget\")), WebIO.Node{WebIO.DOM}(WebIO.DOM(:html, :div), Any[], Dict{Symbol, Any}(:style => Dict(\"display\" => \"flex\", \"flex-direction\" => \"column\"))), WebIO.Node{WebIO.DOM}(WebIO.DOM(:html, :div), Any[WebIO.Node{WebIO.DOM}(WebIO.DOM(:html, :div), Any[WebIO.Scope(WebIO.Node{WebIO.DOM}(WebIO.DOM(:html, :div), Any[WebIO.Node{WebIO.DOM}(WebIO.DOM(:html, :div), Any[WebIO.Node{WebIO.DOM}(WebIO.DOM(:html, :label), Any[\"min_dis\"], Dict{Symbol, Any}(:className => \"interact \", :style => Dict{Any, Any}(:padding => \"5px 10px 0px 10px\")))], Dict{Symbol, Any}(:className => \"interact-flex-row-left\")), WebIO.Node{WebIO.DOM}(WebIO.DOM(:html, :div), Any[WebIO.Node{WebIO.DOM}(WebIO.DOM(:html, :input), Any[], Dict{Symbol, Any}(:max => 10, :min => 1, :attributes => Dict{Any, Any}(:type => \"range\", Symbol(\"data-bind\") => \"numericValue: index, valueUpdate: 'input', event: {change: function (){this.changes(this.changes()+1)}}\", \"orient\" => \"horizontal\"), :step => 1, :className => \"slider slider is-fullwidth\", :style => Dict{Any, Any}()))], Dict{Symbol, Any}(:className => \"interact-flex-row-center\")), WebIO.Node{WebIO.DOM}(WebIO.DOM(:html, :div), Any[WebIO.Node{WebIO.DOM}(WebIO.DOM(:html, :p), Any[], Dict{Symbol, Any}(:attributes => Dict(\"data-bind\" => \"text: formatted_val\")))], Dict{Symbol, Any}(:className => \"interact-flex-row-right\"))], Dict{Symbol, Any}(:className => \"interact-flex-row interact-widget\")), Dict{String, Tuple{Observables.AbstractObservable, Union{Nothing, Bool}}}(\"changes\" => (Observable(0), nothing), \"index\" => (Observable{Any}(5), nothing)), Set{String}(), nothing, WebIO.Asset[WebIO.Asset(\"js\", \"knockout\", \"/home/dushya/.julia/packages/Knockout/HReiN/src/../assets/knockout.js\"), WebIO.Asset(\"js\", \"knockout_punches\", \"/home/dushya/.julia/packages/Knockout/HReiN/src/../assets/knockout_punches.js\"), WebIO.Asset(\"js\", nothing, \"/home/dushya/.julia/packages/InteractBase/LJXv3/src/../assets/all.js\"), WebIO.Asset(\"css\", nothing, \"/home/dushya/.julia/packages/InteractBase/LJXv3/src/../assets/style.css\"), WebIO.Asset(\"css\", nothing, \"/home/dushya/.julia/packages/Interact/PENUy/src/../assets/bulma_confined.min.css\")], Dict{Any, Any}(\"changes\" => Any[WebIO.JSString(\"(function (val){return (val!=this.model[\\\"changes\\\"]()) ? (this.valueFromJulia[\\\"changes\\\"]=true, this.model[\\\"changes\\\"](val)) : undefined})\")], \"index\" => Any[WebIO.JSString(\"(function (val){return (val!=this.model[\\\"index\\\"]()) ? (this.valueFromJulia[\\\"index\\\"]=true, this.model[\\\"index\\\"](val)) : undefined})\")]), WebIO.ConnectionPool(Channel{Any}(32), Set{WebIO.AbstractConnection}(), Base.GenericCondition{ReentrantLock}(Base.IntrusiveLinkedList{Task}(Task (runnable) @0x00007f1f7089d140, Task (runnable) @0x00007f1f7089d140), ReentrantLock(nothing, 0x00000000, 0x00, Base.GenericCondition{Base.Threads.SpinLock}(Base.IntrusiveLinkedList{Task}(nothing, nothing), Base.Threads.SpinLock(0)), (2, 139773751659472, 139773751661632)))), WebIO.JSString[WebIO.JSString(\"function () {\\n    var handler = (function (ko, koPunches) {\\n    ko.punches.enableAll();\\n    ko.bindingHandlers.numericValue = {\\n        init: function(element, valueAccessor, allBindings, data, context) {\\n            var stringified = ko.observable(ko.unwrap(valueAccessor()));\\n            stringified.subscribe(function(value) {\\n                var val = parseFloat(value);\\n                if (!isNaN(val)) {\\n                    valueAccessor()(val);\\n                }\\n            });\\n            valueAccessor().subscribe(function(value) {\\n                var str = JSON.stringify(value);\\n                if ((str == \\\"0\\\") && ([\\\"-0\\\", \\\"-0.\\\"].indexOf(stringified()) >= 0))\\n                     return;\\n                 if ([\\\"null\\\", \\\"\\\"].indexOf(str) >= 0)\\n                     return;\\n                stringified(str);\\n            });\\n            ko.applyBindingsToNode(\\n                element,\\n                {\\n                    value: stringified,\\n                    valueUpdate: allBindings.get('valueUpdate'),\\n                },\\n                context,\\n            );\\n        }\\n    };\\n    var json_data = {\\\"formatted_vals\\\":[\\\"0.01\\\",\\\"0.11\\\",\\\"0.21\\\",\\\"0.31\\\",\\\"0.41\\\",\\\"0.51\\\",\\\"0.61\\\",\\\"0.71\\\",\\\"0.81\\\",\\\"0.91\\\"],\\\"changes\\\":WebIO.getval({\\\"name\\\":\\\"changes\\\",\\\"scope\\\":\\\"11010680515670742921\\\",\\\"id\\\":\\\"4103109284890459471\\\",\\\"type\\\":\\\"observable\\\"}),\\\"index\\\":WebIO.getval({\\\"name\\\":\\\"index\\\",\\\"scope\\\":\\\"11010680515670742921\\\",\\\"id\\\":\\\"3231835886720242495\\\",\\\"type\\\":\\\"observable\\\"})};\\n    var self = this;\\n    function AppViewModel() {\\n        for (var key in json_data) {\\n            var el = json_data[key];\\n            this[key] = Array.isArray(el) ? ko.observableArray(el) : ko.observable(el);\\n        }\\n        \\n        [this[\\\"formatted_val\\\"]=ko.computed(    function(){\\n        return this.formatted_vals()[parseInt(this.index())-(1)];\\n    }\\n,this)]\\n        [this[\\\"changes\\\"].subscribe((function (val){!(this.valueFromJulia[\\\"changes\\\"]) ? (WebIO.setval({\\\"name\\\":\\\"changes\\\",\\\"scope\\\":\\\"11010680515670742921\\\",\\\"id\\\":\\\"4103109284890459471\\\",\\\"type\\\":\\\"observable\\\"},val)) : undefined; return this.valueFromJulia[\\\"changes\\\"]=false}),self),this[\\\"index\\\"].subscribe((function (val){!(this.valueFromJulia[\\\"index\\\"]) ? (WebIO.setval({\\\"name\\\":\\\"index\\\",\\\"scope\\\":\\\"11010680515670742921\\\",\\\"id\\\":\\\"3231835886720242495\\\",\\\"type\\\":\\\"observable\\\"},val)) : undefined; return this.valueFromJulia[\\\"index\\\"]=false}),self)]\\n        \\n    }\\n    self.model = new AppViewModel();\\n    self.valueFromJulia = {};\\n    for (var key in json_data) {\\n        self.valueFromJulia[key] = false;\\n    }\\n    ko.applyBindings(self.model, self.dom);\\n}\\n);\\n    (WebIO.importBlock({\\\"data\\\":[{\\\"name\\\":\\\"knockout\\\",\\\"type\\\":\\\"js\\\",\\\"url\\\":\\\"/assetserver/727383f2a47bd31570b7da84eee7b022dd6d7c78-knockout.js\\\"},{\\\"name\\\":\\\"knockout_punches\\\",\\\"type\\\":\\\"js\\\",\\\"url\\\":\\\"/assetserver/382b41b3b1bd9f26f75861d360bad7f8beea211f-knockout_punches.js\\\"}],\\\"type\\\":\\\"async_block\\\"})).then((imports) => handler.apply(this, imports));\\n}\\n\")])], Dict{Symbol, Any}(:className => \"field interact-widget\")), WebIO.Node{WebIO.DOM}(WebIO.DOM(:html, :div), Any[WebIO.Scope(WebIO.Node{WebIO.DOM}(WebIO.DOM(:html, :div), Any[WebIO.Node{WebIO.DOM}(WebIO.DOM(:html, :div), Any[WebIO.Node{WebIO.DOM}(WebIO.DOM(:html, :label), Any[\"coh_fac\"], Dict{Symbol, Any}(:className => \"interact \", :style => Dict{Any, Any}(:padding => \"5px 10px 0px 10px\")))], Dict{Symbol, Any}(:className => \"interact-flex-row-left\")), WebIO.Node{WebIO.DOM}(WebIO.DOM(:html, :div), Any[WebIO.Node{WebIO.DOM}(WebIO.DOM(:html, :input), Any[], Dict{Symbol, Any}(:max => 100, :min => 1, :attributes => Dict{Any, Any}(:type => \"range\", Symbol(\"data-bind\") => \"numericValue: index, valueUpdate: 'input', event: {change: function (){this.changes(this.changes()+1)}}\", \"orient\" => \"horizontal\"), :step => 1, :className => \"slider slider is-fullwidth\", :style => Dict{Any, Any}()))], Dict{Symbol, Any}(:className => \"interact-flex-row-center\")), WebIO.Node{WebIO.DOM}(WebIO.DOM(:html, :div), Any[WebIO.Node{WebIO.DOM}(WebIO.DOM(:html, :p), Any[], Dict{Symbol, Any}(:attributes => Dict(\"data-bind\" => \"text: formatted_val\")))], Dict{Symbol, Any}(:className => \"interact-flex-row-right\"))], Dict{Symbol, Any}(:className => \"interact-flex-row interact-widget\")), Dict{String, Tuple{Observables.AbstractObservable, Union{Nothing, Bool}}}(\"changes\" => (Observable(0), nothing), \"index\" => (Observable{Any}(50), nothing)), Set{String}(), nothing, WebIO.Asset[WebIO.Asset(\"js\", \"knockout\", \"/home/dushya/.julia/packages/Knockout/HReiN/src/../assets/knockout.js\"), WebIO.Asset(\"js\", \"knockout_punches\", \"/home/dushya/.julia/packages/Knockout/HReiN/src/../assets/knockout_punches.js\"), WebIO.Asset(\"js\", nothing, \"/home/dushya/.julia/packages/InteractBase/LJXv3/src/../assets/all.js\"), WebIO.Asset(\"css\", nothing, \"/home/dushya/.julia/packages/InteractBase/LJXv3/src/../assets/style.css\"), WebIO.Asset(\"css\", nothing, \"/home/dushya/.julia/packages/Interact/PENUy/src/../assets/bulma_confined.min.css\")], Dict{Any, Any}(\"changes\" => Any[WebIO.JSString(\"(function (val){return (val!=this.model[\\\"changes\\\"]()) ? (this.valueFromJulia[\\\"changes\\\"]=true, this.model[\\\"changes\\\"](val)) : undefined})\")], \"index\" => Any[WebIO.JSString(\"(function (val){return (val!=this.model[\\\"index\\\"]()) ? (this.valueFromJulia[\\\"index\\\"]=true, this.model[\\\"index\\\"](val)) : undefined})\")]), WebIO.ConnectionPool(Channel{Any}(32), Set{WebIO.AbstractConnection}(), Base.GenericCondition{ReentrantLock}(Base.IntrusiveLinkedList{Task}(Task (runnable) @0x00007f1f708f5910, Task (runnable) @0x00007f1f708f5910), ReentrantLock(nothing, 0x00000000, 0x00, Base.GenericCondition{Base.Threads.SpinLock}(Base.IntrusiveLinkedList{Task}(nothing, nothing), Base.Threads.SpinLock(0)), (1, 139773751646496, 141733920768)))), WebIO.JSString[WebIO.JSString(\"function () {\\n    var handler = (function (ko, koPunches) {\\n    ko.punches.enableAll();\\n    ko.bindingHandlers.numericValue = {\\n        init: function(element, valueAccessor, allBindings, data, context) {\\n            var stringified = ko.observable(ko.unwrap(valueAccessor()));\\n            stringified.subscribe(function(value) {\\n                var val = parseFloat(value);\\n                if (!isNaN(val)) {\\n                    valueAccessor()(val);\\n                }\\n            });\\n            valueAccessor().subscribe(function(value) {\\n                var str = JSON.stringify(value);\\n                if ((str == \\\"0\\\") && ([\\\"-0\\\", \\\"-0.\\\"].indexOf(stringified()) >= 0))\\n                     return;\\n                 if ([\\\"null\\\", \\\"\\\"].indexOf(str) >= 0)\\n                     return;\\n                stringified(str);\\n            });\\n            ko.applyBindingsToNode(\\n                element,\\n                {\\n                    value: stringified,\\n                    valueUpdate: allBindings.get('valueUpdate'),\\n                },\\n                context,\\n            );\\n        }\\n    };\\n    var json_data = {\\\"formatted_vals\\\":[\\\"0.01\\\",\\\"0.02\\\",\\\"0.03\\\",\\\"0.04\\\",\\\"0.05\\\",\\\"0.06\\\",\\\"0.07\\\",\\\"0.08\\\",\\\"0.09\\\",\\\"0.1\\\",\\\"0.11\\\",\\\"0.12\\\",\\\"0.13\\\",\\\"0.14\\\",\\\"0.15\\\",\\\"0.16\\\",\\\"0.17\\\",\\\"0.18\\\",\\\"0.19\\\",\\\"0.2\\\",\\\"0.21\\\",\\\"0.22\\\",\\\"0.23\\\",\\\"0.24\\\",\\\"0.25\\\",\\\"0.26\\\",\\\"0.27\\\",\\\"0.28\\\",\\\"0.29\\\",\\\"0.3\\\",\\\"0.31\\\",\\\"0.32\\\",\\\"0.33\\\",\\\"0.34\\\",\\\"0.35\\\",\\\"0.36\\\",\\\"0.37\\\",\\\"0.38\\\",\\\"0.39\\\",\\\"0.4\\\",\\\"0.41\\\",\\\"0.42\\\",\\\"0.43\\\",\\\"0.44\\\",\\\"0.45\\\",\\\"0.46\\\",\\\"0.47\\\",\\\"0.48\\\",\\\"0.49\\\",\\\"0.5\\\",\\\"0.51\\\",\\\"0.52\\\",\\\"0.53\\\",\\\"0.54\\\",\\\"0.55\\\",\\\"0.56\\\",\\\"0.57\\\",\\\"0.58\\\",\\\"0.59\\\",\\\"0.6\\\",\\\"0.61\\\",\\\"0.62\\\",\\\"0.63\\\",\\\"0.64\\\",\\\"0.65\\\",\\\"0.66\\\",\\\"0.67\\\",\\\"0.68\\\",\\\"0.69\\\",\\\"0.7\\\",\\\"0.71\\\",\\\"0.72\\\",\\\"0.73\\\",\\\"0.74\\\",\\\"0.75\\\",\\\"0.76\\\",\\\"0.77\\\",\\\"0.78\\\",\\\"0.79\\\",\\\"0.8\\\",\\\"0.81\\\",\\\"0.82\\\",\\\"0.83\\\",\\\"0.84\\\",\\\"0.85\\\",\\\"0.86\\\",\\\"0.87\\\",\\\"0.88\\\",\\\"0.89\\\",\\\"0.9\\\",\\\"0.91\\\",\\\"0.92\\\",\\\"0.93\\\",\\\"0.94\\\",\\\"0.95\\\",\\\"0.96\\\",\\\"0.97\\\",\\\"0.98\\\",\\\"0.99\\\",\\\"1.0\\\"],\\\"changes\\\":WebIO.getval({\\\"name\\\":\\\"changes\\\",\\\"scope\\\":\\\"17585652281365975552\\\",\\\"id\\\":\\\"3909659297749547453\\\",\\\"type\\\":\\\"observable\\\"}),\\\"index\\\":WebIO.getval({\\\"name\\\":\\\"index\\\",\\\"scope\\\":\\\"17585652281365975552\\\",\\\"id\\\":\\\"11529249550068261377\\\",\\\"type\\\":\\\"observable\\\"})};\\n    var self = this;\\n    function AppViewModel() {\\n        for (var key in json_data) {\\n            var el = json_data[key];\\n            this[key] = Array.isArray(el) ? ko.observableArray(el) : ko.observable(el);\\n        }\\n        \\n        [this[\\\"formatted_val\\\"]=ko.computed(    function(){\\n        return this.formatted_vals()[parseInt(this.index())-(1)];\\n    }\\n,this)]\\n        [this[\\\"changes\\\"].subscribe((function (val){!(this.valueFromJulia[\\\"changes\\\"]) ? (WebIO.setval({\\\"name\\\":\\\"changes\\\",\\\"scope\\\":\\\"17585652281365975552\\\",\\\"id\\\":\\\"3909659297749547453\\\",\\\"type\\\":\\\"observable\\\"},val)) : undefined; return this.valueFromJulia[\\\"changes\\\"]=false}),self),this[\\\"index\\\"].subscribe((function (val){!(this.valueFromJulia[\\\"index\\\"]) ? (WebIO.setval({\\\"name\\\":\\\"index\\\",\\\"scope\\\":\\\"17585652281365975552\\\",\\\"id\\\":\\\"11529249550068261377\\\",\\\"type\\\":\\\"observable\\\"},val)) : undefined; return this.valueFromJulia[\\\"index\\\"]=false}),self)]\\n        \\n    }\\n    self.model = new AppViewModel();\\n    self.valueFromJulia = {};\\n    for (var key in json_data) {\\n        self.valueFromJulia[key] = false;\\n    }\\n    ko.applyBindings(self.model, self.dom);\\n}\\n);\\n    (WebIO.importBlock({\\\"data\\\":[{\\\"name\\\":\\\"knockout\\\",\\\"type\\\":\\\"js\\\",\\\"url\\\":\\\"/assetserver/727383f2a47bd31570b7da84eee7b022dd6d7c78-knockout.js\\\"},{\\\"name\\\":\\\"knockout_punches\\\",\\\"type\\\":\\\"js\\\",\\\"url\\\":\\\"/assetserver/382b41b3b1bd9f26f75861d360bad7f8beea211f-knockout_punches.js\\\"}],\\\"type\\\":\\\"async_block\\\"})).then((imports) => handler.apply(this, imports));\\n}\\n\")])], Dict{Symbol, Any}(:className => \"field interact-widget\")), WebIO.Node{WebIO.DOM}(WebIO.DOM(:html, :div), Any[WebIO.Scope(WebIO.Node{WebIO.DOM}(WebIO.DOM(:html, :div), Any[WebIO.Node{WebIO.DOM}(WebIO.DOM(:html, :div), Any[WebIO.Node{WebIO.DOM}(WebIO.DOM(:html, :label), Any[\"sep_fac\"], Dict{Symbol, Any}(:className => \"interact \", :style => Dict{Any, Any}(:padding => \"5px 10px 0px 10px\")))], Dict{Symbol, Any}(:className => \"interact-flex-row-left\")), WebIO.Node{WebIO.DOM}(WebIO.DOM(:html, :div), Any[WebIO.Node{WebIO.DOM}(WebIO.DOM(:html, :input), Any[], Dict{Symbol, Any}(:max => 100, :min => 1, :attributes => Dict{Any, Any}(:type => \"range\", Symbol(\"data-bind\") => \"numericValue: index, valueUpdate: 'input', event: {change: function (){this.changes(this.changes()+1)}}\", \"orient\" => \"horizontal\"), :step => 1, :className => \"slider slider is-fullwidth\", :style => Dict{Any, Any}()))], Dict{Symbol, Any}(:className => \"interact-flex-row-center\")), WebIO.Node{WebIO.DOM}(WebIO.DOM(:html, :div), Any[WebIO.Node{WebIO.DOM}(WebIO.DOM(:html, :p), Any[], Dict{Symbol, Any}(:attributes => Dict(\"data-bind\" => \"text: formatted_val\")))], Dict{Symbol, Any}(:className => \"interact-flex-row-right\"))], Dict{Symbol, Any}(:className => \"interact-flex-row interact-widget\")), Dict{String, Tuple{Observables.AbstractObservable, Union{Nothing, Bool}}}(\"changes\" => (Observable(0), nothing), \"index\" => (Observable{Any}(50), nothing)), Set{String}(), nothing, WebIO.Asset[WebIO.Asset(\"js\", \"knockout\", \"/home/dushya/.julia/packages/Knockout/HReiN/src/../assets/knockout.js\"), WebIO.Asset(\"js\", \"knockout_punches\", \"/home/dushya/.julia/packages/Knockout/HReiN/src/../assets/knockout_punches.js\"), WebIO.Asset(\"js\", nothing, \"/home/dushya/.julia/packages/InteractBase/LJXv3/src/../assets/all.js\"), WebIO.Asset(\"css\", nothing, \"/home/dushya/.julia/packages/InteractBase/LJXv3/src/../assets/style.css\"), WebIO.Asset(\"css\", nothing, \"/home/dushya/.julia/packages/Interact/PENUy/src/../assets/bulma_confined.min.css\")], Dict{Any, Any}(\"changes\" => Any[WebIO.JSString(\"(function (val){return (val!=this.model[\\\"changes\\\"]()) ? (this.valueFromJulia[\\\"changes\\\"]=true, this.model[\\\"changes\\\"](val)) : undefined})\")], \"index\" => Any[WebIO.JSString(\"(function (val){return (val!=this.model[\\\"index\\\"]()) ? (this.valueFromJulia[\\\"index\\\"]=true, this.model[\\\"index\\\"](val)) : undefined})\")]), WebIO.ConnectionPool(Channel{Any}(32), Set{WebIO.AbstractConnection}(), Base.GenericCondition{ReentrantLock}(Base.IntrusiveLinkedList{Task}(Task (runnable) @0x00007f1f70970b00, Task (runnable) @0x00007f1f70970b00), ReentrantLock(nothing, 0x00000000, 0x00, Base.GenericCondition{Base.Threads.SpinLock}(Base.IntrusiveLinkedList{Task}(nothing, nothing), Base.Threads.SpinLock(0)), (0, 0, 0)))), WebIO.JSString[WebIO.JSString(\"function () {\\n    var handler = (function (ko, koPunches) {\\n    ko.punches.enableAll();\\n    ko.bindingHandlers.numericValue = {\\n        init: function(element, valueAccessor, allBindings, data, context) {\\n            var stringified = ko.observable(ko.unwrap(valueAccessor()));\\n            stringified.subscribe(function(value) {\\n                var val = parseFloat(value);\\n                if (!isNaN(val)) {\\n                    valueAccessor()(val);\\n                }\\n            });\\n            valueAccessor().subscribe(function(value) {\\n                var str = JSON.stringify(value);\\n                if ((str == \\\"0\\\") && ([\\\"-0\\\", \\\"-0.\\\"].indexOf(stringified()) >= 0))\\n                     return;\\n                 if ([\\\"null\\\", \\\"\\\"].indexOf(str) >= 0)\\n                     return;\\n                stringified(str);\\n            });\\n            ko.applyBindingsToNode(\\n                element,\\n                {\\n                    value: stringified,\\n                    valueUpdate: allBindings.get('valueUpdate'),\\n                },\\n                context,\\n            );\\n        }\\n    };\\n    var json_data = {\\\"formatted_vals\\\":[\\\"0.01\\\",\\\"0.02\\\",\\\"0.03\\\",\\\"0.04\\\",\\\"0.05\\\",\\\"0.06\\\",\\\"0.07\\\",\\\"0.08\\\",\\\"0.09\\\",\\\"0.1\\\",\\\"0.11\\\",\\\"0.12\\\",\\\"0.13\\\",\\\"0.14\\\",\\\"0.15\\\",\\\"0.16\\\",\\\"0.17\\\",\\\"0.18\\\",\\\"0.19\\\",\\\"0.2\\\",\\\"0.21\\\",\\\"0.22\\\",\\\"0.23\\\",\\\"0.24\\\",\\\"0.25\\\",\\\"0.26\\\",\\\"0.27\\\",\\\"0.28\\\",\\\"0.29\\\",\\\"0.3\\\",\\\"0.31\\\",\\\"0.32\\\",\\\"0.33\\\",\\\"0.34\\\",\\\"0.35\\\",\\\"0.36\\\",\\\"0.37\\\",\\\"0.38\\\",\\\"0.39\\\",\\\"0.4\\\",\\\"0.41\\\",\\\"0.42\\\",\\\"0.43\\\",\\\"0.44\\\",\\\"0.45\\\",\\\"0.46\\\",\\\"0.47\\\",\\\"0.48\\\",\\\"0.49\\\",\\\"0.5\\\",\\\"0.51\\\",\\\"0.52\\\",\\\"0.53\\\",\\\"0.54\\\",\\\"0.55\\\",\\\"0.56\\\",\\\"0.57\\\",\\\"0.58\\\",\\\"0.59\\\",\\\"0.6\\\",\\\"0.61\\\",\\\"0.62\\\",\\\"0.63\\\",\\\"0.64\\\",\\\"0.65\\\",\\\"0.66\\\",\\\"0.67\\\",\\\"0.68\\\",\\\"0.69\\\",\\\"0.7\\\",\\\"0.71\\\",\\\"0.72\\\",\\\"0.73\\\",\\\"0.74\\\",\\\"0.75\\\",\\\"0.76\\\",\\\"0.77\\\",\\\"0.78\\\",\\\"0.79\\\",\\\"0.8\\\",\\\"0.81\\\",\\\"0.82\\\",\\\"0.83\\\",\\\"0.84\\\",\\\"0.85\\\",\\\"0.86\\\",\\\"0.87\\\",\\\"0.88\\\",\\\"0.89\\\",\\\"0.9\\\",\\\"0.91\\\",\\\"0.92\\\",\\\"0.93\\\",\\\"0.94\\\",\\\"0.95\\\",\\\"0.96\\\",\\\"0.97\\\",\\\"0.98\\\",\\\"0.99\\\",\\\"1.0\\\"],\\\"changes\\\":WebIO.getval({\\\"name\\\":\\\"changes\\\",\\\"scope\\\":\\\"2934593135734637057\\\",\\\"id\\\":\\\"15044206303773114031\\\",\\\"type\\\":\\\"observable\\\"}),\\\"index\\\":WebIO.getval({\\\"name\\\":\\\"index\\\",\\\"scope\\\":\\\"2934593135734637057\\\",\\\"id\\\":\\\"11656392481293919426\\\",\\\"type\\\":\\\"observable\\\"})};\\n    var self = this;\\n    function AppViewModel() {\\n        for (var key in json_data) {\\n            var el = json_data[key];\\n            this[key] = Array.isArray(el) ? ko.observableArray(el) : ko.observable(el);\\n        }\\n        \\n        [this[\\\"formatted_val\\\"]=ko.computed(    function(){\\n        return this.formatted_vals()[parseInt(this.index())-(1)];\\n    }\\n,this)]\\n        [this[\\\"changes\\\"].subscribe((function (val){!(this.valueFromJulia[\\\"changes\\\"]) ? (WebIO.setval({\\\"name\\\":\\\"changes\\\",\\\"scope\\\":\\\"2934593135734637057\\\",\\\"id\\\":\\\"15044206303773114031\\\",\\\"type\\\":\\\"observable\\\"},val)) : undefined; return this.valueFromJulia[\\\"changes\\\"]=false}),self),this[\\\"index\\\"].subscribe((function (val){!(this.valueFromJulia[\\\"index\\\"]) ? (WebIO.setval({\\\"name\\\":\\\"index\\\",\\\"scope\\\":\\\"2934593135734637057\\\",\\\"id\\\":\\\"11656392481293919426\\\",\\\"type\\\":\\\"observable\\\"},val)) : undefined; return this.valueFromJulia[\\\"index\\\"]=false}),self)]\\n        \\n    }\\n    self.model = new AppViewModel();\\n    self.valueFromJulia = {};\\n    for (var key in json_data) {\\n        self.valueFromJulia[key] = false;\\n    }\\n    ko.applyBindings(self.model, self.dom);\\n}\\n);\\n    (WebIO.importBlock({\\\"data\\\":[{\\\"name\\\":\\\"knockout\\\",\\\"type\\\":\\\"js\\\",\\\"url\\\":\\\"/assetserver/727383f2a47bd31570b7da84eee7b022dd6d7c78-knockout.js\\\"},{\\\"name\\\":\\\"knockout_punches\\\",\\\"type\\\":\\\"js\\\",\\\"url\\\":\\\"/assetserver/382b41b3b1bd9f26f75861d360bad7f8beea211f-knockout_punches.js\\\"}],\\\"type\\\":\\\"async_block\\\"})).then((imports) => handler.apply(this, imports));\\n}\\n\")])], Dict{Symbol, Any}(:className => \"field interact-widget\")), WebIO.Node{WebIO.DOM}(WebIO.DOM(:html, :div), Any[WebIO.Scope(WebIO.Node{WebIO.DOM}(WebIO.DOM(:html, :div), Any[WebIO.Node{WebIO.DOM}(WebIO.DOM(:html, :div), Any[WebIO.Node{WebIO.DOM}(WebIO.DOM(:html, :label), Any[\"aln_fac\"], Dict{Symbol, Any}(:className => \"interact \", :style => Dict{Any, Any}(:padding => \"5px 10px 0px 10px\")))], Dict{Symbol, Any}(:className => \"interact-flex-row-left\")), WebIO.Node{WebIO.DOM}(WebIO.DOM(:html, :div), Any[WebIO.Node{WebIO.DOM}(WebIO.DOM(:html, :input), Any[], Dict{Symbol, Any}(:max => 100, :min => 1, :attributes => Dict{Any, Any}(:type => \"range\", Symbol(\"data-bind\") => \"numericValue: index, valueUpdate: 'input', event: {change: function (){this.changes(this.changes()+1)}}\", \"orient\" => \"horizontal\"), :step => 1, :className => \"slider slider is-fullwidth\", :style => Dict{Any, Any}()))], Dict{Symbol, Any}(:className => \"interact-flex-row-center\")), WebIO.Node{WebIO.DOM}(WebIO.DOM(:html, :div), Any[WebIO.Node{WebIO.DOM}(WebIO.DOM(:html, :p), Any[], Dict{Symbol, Any}(:attributes => Dict(\"data-bind\" => \"text: formatted_val\")))], Dict{Symbol, Any}(:className => \"interact-flex-row-right\"))], Dict{Symbol, Any}(:className => \"interact-flex-row interact-widget\")), Dict{String, Tuple{Observables.AbstractObservable, Union{Nothing, Bool}}}(\"changes\" => (Observable(0), nothing), \"index\" => (Observable{Any}(50), nothing)), Set{String}(), nothing, WebIO.Asset[WebIO.Asset(\"js\", \"knockout\", \"/home/dushya/.julia/packages/Knockout/HReiN/src/../assets/knockout.js\"), WebIO.Asset(\"js\", \"knockout_punches\", \"/home/dushya/.julia/packages/Knockout/HReiN/src/../assets/knockout_punches.js\"), WebIO.Asset(\"js\", nothing, \"/home/dushya/.julia/packages/InteractBase/LJXv3/src/../assets/all.js\"), WebIO.Asset(\"css\", nothing, \"/home/dushya/.julia/packages/InteractBase/LJXv3/src/../assets/style.css\"), WebIO.Asset(\"css\", nothing, \"/home/dushya/.julia/packages/Interact/PENUy/src/../assets/bulma_confined.min.css\")], Dict{Any, Any}(\"changes\" => Any[WebIO.JSString(\"(function (val){return (val!=this.model[\\\"changes\\\"]()) ? (this.valueFromJulia[\\\"changes\\\"]=true, this.model[\\\"changes\\\"](val)) : undefined})\")], \"index\" => Any[WebIO.JSString(\"(function (val){return (val!=this.model[\\\"index\\\"]()) ? (this.valueFromJulia[\\\"index\\\"]=true, this.model[\\\"index\\\"](val)) : undefined})\")]), WebIO.ConnectionPool(Channel{Any}(32), Set{WebIO.AbstractConnection}(), Base.GenericCondition{ReentrantLock}(Base.IntrusiveLinkedList{Task}(Task (runnable) @0x00007f1f70973530, Task (runnable) @0x00007f1f70973530), ReentrantLock(nothing, 0x00000000, 0x00, Base.GenericCondition{Base.Threads.SpinLock}(Base.IntrusiveLinkedList{Task}(nothing, nothing), Base.Threads.SpinLock(0)), (0, 139773671027408, 0)))), WebIO.JSString[WebIO.JSString(\"function () {\\n    var handler = (function (ko, koPunches) {\\n    ko.punches.enableAll();\\n    ko.bindingHandlers.numericValue = {\\n        init: function(element, valueAccessor, allBindings, data, context) {\\n            var stringified = ko.observable(ko.unwrap(valueAccessor()));\\n            stringified.subscribe(function(value) {\\n                var val = parseFloat(value);\\n                if (!isNaN(val)) {\\n                    valueAccessor()(val);\\n                }\\n            });\\n            valueAccessor().subscribe(function(value) {\\n                var str = JSON.stringify(value);\\n                if ((str == \\\"0\\\") && ([\\\"-0\\\", \\\"-0.\\\"].indexOf(stringified()) >= 0))\\n                     return;\\n                 if ([\\\"null\\\", \\\"\\\"].indexOf(str) >= 0)\\n                     return;\\n                stringified(str);\\n            });\\n            ko.applyBindingsToNode(\\n                element,\\n                {\\n                    value: stringified,\\n                    valueUpdate: allBindings.get('valueUpdate'),\\n                },\\n                context,\\n            );\\n        }\\n    };\\n    var json_data = {\\\"formatted_vals\\\":[\\\"0.01\\\",\\\"0.02\\\",\\\"0.03\\\",\\\"0.04\\\",\\\"0.05\\\",\\\"0.06\\\",\\\"0.07\\\",\\\"0.08\\\",\\\"0.09\\\",\\\"0.1\\\",\\\"0.11\\\",\\\"0.12\\\",\\\"0.13\\\",\\\"0.14\\\",\\\"0.15\\\",\\\"0.16\\\",\\\"0.17\\\",\\\"0.18\\\",\\\"0.19\\\",\\\"0.2\\\",\\\"0.21\\\",\\\"0.22\\\",\\\"0.23\\\",\\\"0.24\\\",\\\"0.25\\\",\\\"0.26\\\",\\\"0.27\\\",\\\"0.28\\\",\\\"0.29\\\",\\\"0.3\\\",\\\"0.31\\\",\\\"0.32\\\",\\\"0.33\\\",\\\"0.34\\\",\\\"0.35\\\",\\\"0.36\\\",\\\"0.37\\\",\\\"0.38\\\",\\\"0.39\\\",\\\"0.4\\\",\\\"0.41\\\",\\\"0.42\\\",\\\"0.43\\\",\\\"0.44\\\",\\\"0.45\\\",\\\"0.46\\\",\\\"0.47\\\",\\\"0.48\\\",\\\"0.49\\\",\\\"0.5\\\",\\\"0.51\\\",\\\"0.52\\\",\\\"0.53\\\",\\\"0.54\\\",\\\"0.55\\\",\\\"0.56\\\",\\\"0.57\\\",\\\"0.58\\\",\\\"0.59\\\",\\\"0.6\\\",\\\"0.61\\\",\\\"0.62\\\",\\\"0.63\\\",\\\"0.64\\\",\\\"0.65\\\",\\\"0.66\\\",\\\"0.67\\\",\\\"0.68\\\",\\\"0.69\\\",\\\"0.7\\\",\\\"0.71\\\",\\\"0.72\\\",\\\"0.73\\\",\\\"0.74\\\",\\\"0.75\\\",\\\"0.76\\\",\\\"0.77\\\",\\\"0.78\\\",\\\"0.79\\\",\\\"0.8\\\",\\\"0.81\\\",\\\"0.82\\\",\\\"0.83\\\",\\\"0.84\\\",\\\"0.85\\\",\\\"0.86\\\",\\\"0.87\\\",\\\"0.88\\\",\\\"0.89\\\",\\\"0.9\\\",\\\"0.91\\\",\\\"0.92\\\",\\\"0.93\\\",\\\"0.94\\\",\\\"0.95\\\",\\\"0.96\\\",\\\"0.97\\\",\\\"0.98\\\",\\\"0.99\\\",\\\"1.0\\\"],\\\"changes\\\":WebIO.getval({\\\"name\\\":\\\"changes\\\",\\\"scope\\\":\\\"15337923032627178165\\\",\\\"id\\\":\\\"8143904053882990588\\\",\\\"type\\\":\\\"observable\\\"}),\\\"index\\\":WebIO.getval({\\\"name\\\":\\\"index\\\",\\\"scope\\\":\\\"15337923032627178165\\\",\\\"id\\\":\\\"9867640536283104545\\\",\\\"type\\\":\\\"observable\\\"})};\\n    var self = this;\\n    function AppViewModel() {\\n        for (var key in json_data) {\\n            var el = json_data[key];\\n            this[key] = Array.isArray(el) ? ko.observableArray(el) : ko.observable(el);\\n        }\\n        \\n        [this[\\\"formatted_val\\\"]=ko.computed(    function(){\\n        return this.formatted_vals()[parseInt(this.index())-(1)];\\n    }\\n,this)]\\n        [this[\\\"changes\\\"].subscribe((function (val){!(this.valueFromJulia[\\\"changes\\\"]) ? (WebIO.setval({\\\"name\\\":\\\"changes\\\",\\\"scope\\\":\\\"15337923032627178165\\\",\\\"id\\\":\\\"8143904053882990588\\\",\\\"type\\\":\\\"observable\\\"},val)) : undefined; return this.valueFromJulia[\\\"changes\\\"]=false}),self),this[\\\"index\\\"].subscribe((function (val){!(this.valueFromJulia[\\\"index\\\"]) ? (WebIO.setval({\\\"name\\\":\\\"index\\\",\\\"scope\\\":\\\"15337923032627178165\\\",\\\"id\\\":\\\"9867640536283104545\\\",\\\"type\\\":\\\"observable\\\"},val)) : undefined; return this.valueFromJulia[\\\"index\\\"]=false}),self)]\\n        \\n    }\\n    self.model = new AppViewModel();\\n    self.valueFromJulia = {};\\n    for (var key in json_data) {\\n        self.valueFromJulia[key] = false;\\n    }\\n    ko.applyBindings(self.model, self.dom);\\n}\\n);\\n    (WebIO.importBlock({\\\"data\\\":[{\\\"name\\\":\\\"knockout\\\",\\\"type\\\":\\\"js\\\",\\\"url\\\":\\\"/assetserver/727383f2a47bd31570b7da84eee7b022dd6d7c78-knockout.js\\\"},{\\\"name\\\":\\\"knockout_punches\\\",\\\"type\\\":\\\"js\\\",\\\"url\\\":\\\"/assetserver/382b41b3b1bd9f26f75861d360bad7f8beea211f-knockout_punches.js\\\"}],\\\"type\\\":\\\"async_block\\\"})).then((imports) => handler.apply(this, imports));\\n}\\n\")])], Dict{Symbol, Any}(:className => \"field interact-widget\")), WebIO.Node{WebIO.DOM}(WebIO.DOM(:html, :div), Any[WebIO.Scope(WebIO.Node{WebIO.DOM}(WebIO.DOM(:html, :div), Any[WebIO.Node{WebIO.DOM}(WebIO.DOM(:html, :div), Any[WebIO.Node{WebIO.DOM}(WebIO.DOM(:html, :label), Any[\"vis_range\"], Dict{Symbol, Any}(:className => \"interact \", :style => Dict{Any, Any}(:padding => \"5px 10px 0px 10px\")))], Dict{Symbol, Any}(:className => \"interact-flex-row-left\")), WebIO.Node{WebIO.DOM}(WebIO.DOM(:html, :div), Any[WebIO.Node{WebIO.DOM}(WebIO.DOM(:html, :input), Any[], Dict{Symbol, Any}(:max => 8, :min => 1, :attributes => Dict{Any, Any}(:type => \"range\", Symbol(\"data-bind\") => \"numericValue: index, valueUpdate: 'input', event: {change: function (){this.changes(this.changes()+1)}}\", \"orient\" => \"horizontal\"), :step => 1, :className => \"slider slider is-fullwidth\", :style => Dict{Any, Any}()))], Dict{Symbol, Any}(:className => \"interact-flex-row-center\")), WebIO.Node{WebIO.DOM}(WebIO.DOM(:html, :div), Any[WebIO.Node{WebIO.DOM}(WebIO.DOM(:html, :p), Any[], Dict{Symbol, Any}(:attributes => Dict(\"data-bind\" => \"text: formatted_val\")))], Dict{Symbol, Any}(:className => \"interact-flex-row-right\"))], Dict{Symbol, Any}(:className => \"interact-flex-row interact-widget\")), Dict{String, Tuple{Observables.AbstractObservable, Union{Nothing, Bool}}}(\"changes\" => (Observable(0), nothing), \"index\" => (Observable{Any}(4), nothing)), Set{String}(), nothing, WebIO.Asset[WebIO.Asset(\"js\", \"knockout\", \"/home/dushya/.julia/packages/Knockout/HReiN/src/../assets/knockout.js\"), WebIO.Asset(\"js\", \"knockout_punches\", \"/home/dushya/.julia/packages/Knockout/HReiN/src/../assets/knockout_punches.js\"), WebIO.Asset(\"js\", nothing, \"/home/dushya/.julia/packages/InteractBase/LJXv3/src/../assets/all.js\"), WebIO.Asset(\"css\", nothing, \"/home/dushya/.julia/packages/InteractBase/LJXv3/src/../assets/style.css\"), WebIO.Asset(\"css\", nothing, \"/home/dushya/.julia/packages/Interact/PENUy/src/../assets/bulma_confined.min.css\")], Dict{Any, Any}(\"changes\" => Any[WebIO.JSString(\"(function (val){return (val!=this.model[\\\"changes\\\"]()) ? (this.valueFromJulia[\\\"changes\\\"]=true, this.model[\\\"changes\\\"](val)) : undefined})\")], \"index\" => Any[WebIO.JSString(\"(function (val){return (val!=this.model[\\\"index\\\"]()) ? (this.valueFromJulia[\\\"index\\\"]=true, this.model[\\\"index\\\"](val)) : undefined})\")]), WebIO.ConnectionPool(Channel{Any}(32), Set{WebIO.AbstractConnection}(), Base.GenericCondition{ReentrantLock}(Base.IntrusiveLinkedList{Task}(Task (runnable) @0x00007f1f709b20e0, Task (runnable) @0x00007f1f709b20e0), ReentrantLock(nothing, 0x00000000, 0x00, Base.GenericCondition{Base.Threads.SpinLock}(Base.IntrusiveLinkedList{Task}(nothing, nothing), Base.Threads.SpinLock(0)), (1, 139771929325872, 139773751661632)))), WebIO.JSString[WebIO.JSString(\"function () {\\n    var handler = (function (ko, koPunches) {\\n    ko.punches.enableAll();\\n    ko.bindingHandlers.numericValue = {\\n        init: function(element, valueAccessor, allBindings, data, context) {\\n            var stringified = ko.observable(ko.unwrap(valueAccessor()));\\n            stringified.subscribe(function(value) {\\n                var val = parseFloat(value);\\n                if (!isNaN(val)) {\\n                    valueAccessor()(val);\\n                }\\n            });\\n            valueAccessor().subscribe(function(value) {\\n                var str = JSON.stringify(value);\\n                if ((str == \\\"0\\\") && ([\\\"-0\\\", \\\"-0.\\\"].indexOf(stringified()) >= 0))\\n                     return;\\n                 if ([\\\"null\\\", \\\"\\\"].indexOf(str) >= 0)\\n                     return;\\n                stringified(str);\\n            });\\n            ko.applyBindingsToNode(\\n                element,\\n                {\\n                    value: stringified,\\n                    valueUpdate: allBindings.get('valueUpdate'),\\n                },\\n                context,\\n            );\\n        }\\n    };\\n    var json_data = {\\\"formatted_vals\\\":[\\\"0.5\\\",\\\"1.0\\\",\\\"1.5\\\",\\\"2.0\\\",\\\"2.5\\\",\\\"3.0\\\",\\\"3.5\\\",\\\"4.0\\\"],\\\"changes\\\":WebIO.getval({\\\"name\\\":\\\"changes\\\",\\\"scope\\\":\\\"13555075928916923436\\\",\\\"id\\\":\\\"8664315435971225050\\\",\\\"type\\\":\\\"observable\\\"}),\\\"index\\\":WebIO.getval({\\\"name\\\":\\\"index\\\",\\\"scope\\\":\\\"13555075928916923436\\\",\\\"id\\\":\\\"1341855097252115116\\\",\\\"type\\\":\\\"observable\\\"})};\\n    var self = this;\\n    function AppViewModel() {\\n        for (var key in json_data) {\\n            var el = json_data[key];\\n            this[key] = Array.isArray(el) ? ko.observableArray(el) : ko.observable(el);\\n        }\\n        \\n        [this[\\\"formatted_val\\\"]=ko.computed(    function(){\\n        return this.formatted_vals()[parseInt(this.index())-(1)];\\n    }\\n,this)]\\n        [this[\\\"changes\\\"].subscribe((function (val){!(this.valueFromJulia[\\\"changes\\\"]) ? (WebIO.setval({\\\"name\\\":\\\"changes\\\",\\\"scope\\\":\\\"13555075928916923436\\\",\\\"id\\\":\\\"8664315435971225050\\\",\\\"type\\\":\\\"observable\\\"},val)) : undefined; return this.valueFromJulia[\\\"changes\\\"]=false}),self),this[\\\"index\\\"].subscribe((function (val){!(this.valueFromJulia[\\\"index\\\"]) ? (WebIO.setval({\\\"name\\\":\\\"index\\\",\\\"scope\\\":\\\"13555075928916923436\\\",\\\"id\\\":\\\"1341855097252115116\\\",\\\"type\\\":\\\"observable\\\"},val)) : undefined; return this.valueFromJulia[\\\"index\\\"]=false}),self)]\\n        \\n    }\\n    self.model = new AppViewModel();\\n    self.valueFromJulia = {};\\n    for (var key in json_data) {\\n        self.valueFromJulia[key] = false;\\n    }\\n    ko.applyBindings(self.model, self.dom);\\n}\\n);\\n    (WebIO.importBlock({\\\"data\\\":[{\\\"name\\\":\\\"knockout\\\",\\\"type\\\":\\\"js\\\",\\\"url\\\":\\\"/assetserver/727383f2a47bd31570b7da84eee7b022dd6d7c78-knockout.js\\\"},{\\\"name\\\":\\\"knockout_punches\\\",\\\"type\\\":\\\"js\\\",\\\"url\\\":\\\"/assetserver/382b41b3b1bd9f26f75861d360bad7f8beea211f-knockout_punches.js\\\"}],\\\"type\\\":\\\"async_block\\\"})).then((imports) => handler.apply(this, imports));\\n}\\n\")])], Dict{Symbol, Any}(:className => \"field interact-widget\"))], Dict{Symbol, Any}(:style => Dict(\"display\" => \"flex\", \"flex-direction\" => \"column\"))), WebIO.Node{WebIO.DOM}(WebIO.DOM(:html, :div), Any[WebIO.Node{WebIO.DOM}(WebIO.DOM(:html, :div), Any[WebIO.Scope(WebIO.Node{WebIO.DOM}(WebIO.DOM(:html, :div), Any[], Dict{Symbol, Any}(:id => \"container\")), Dict{String, Tuple{Observables.AbstractObservable, Union{Nothing, Bool}}}(\"value\" => (Observable(\"\\\\;\\\\;\"), nothing)), Set{String}(), nothing, WebIO.Asset[WebIO.Asset(\"js\", nothing, \"/home/dushya/.julia/packages/InteractBase/LJXv3/src/../assets/katex.min.js\"), WebIO.Asset(\"css\", nothing, \"/home/dushya/.julia/packages/InteractBase/LJXv3/src/../assets/katex.min.css\")], Dict{Any, Any}(\"value\" => Any[WebIO.JSString(\"(function (txt){return this.k.render(txt,this.container)})\")]), WebIO.ConnectionPool(Channel{Any}(32), Set{WebIO.AbstractConnection}(), Base.GenericCondition{ReentrantLock}(Base.IntrusiveLinkedList{Task}(Task (runnable) @0x00007f1f7071f9e0, Task (runnable) @0x00007f1f7071f9e0), ReentrantLock(nothing, 0x00000000, 0x00, Base.GenericCondition{Base.Threads.SpinLock}(Base.IntrusiveLinkedList{Task}(nothing, nothing), Base.Threads.SpinLock(0)), (8, 139771898508464, 139772995572256)))), WebIO.JSString[WebIO.JSString(\"function () {\\n    var handler = ((function (k){this.k=k; this.container=this.dom.querySelector(\\\"#container\\\"); return k.render(\\\"\\\\\\\\;\\\\\\\\;\\\",this.container)}));\\n    (WebIO.importBlock({\\\"data\\\":[{\\\"name\\\":null,\\\"type\\\":\\\"js\\\",\\\"url\\\":\\\"/assetserver/dd22ed1bf1896c2748f3fe616ce0b838adc895c1-katex.min.js\\\"},{\\\"name\\\":null,\\\"type\\\":\\\"css\\\",\\\"url\\\":\\\"/assetserver/46517a424aa5e6cffc1360d7e0848b601c584ee3-katex.min.css\\\"}],\\\"type\\\":\\\"async_block\\\"})).then((imports) => handler.apply(this, imports));\\n}\\n\")])], Dict{Symbol, Any}(:className => \"interact-widget\")), WebIO.Node{WebIO.DOM}(WebIO.DOM(:html, :div), Any[WebIO.Scope(WebIO.Node{WebIO.DOM}(WebIO.DOM(:html, :button), Any[\"run\"], Dict{Symbol, Any}(:attributes => Dict{Any, Any}(\"data-bind\" => \"click: function (){this.clicks(this.clicks()+1)}, css: {'is-loading' : loading}\"), :className => \"is-medium button is-primary\", :style => Dict{String, Any}())), Dict{String, Tuple{Observables.AbstractObservable, Union{Nothing, Bool}}}(\"loading\" => (Observable(false), nothing), \"clicks\" => (Observable(0), nothing)), Set{String}(), nothing, WebIO.Asset[WebIO.Asset(\"js\", \"knockout\", \"/home/dushya/.julia/packages/Knockout/HReiN/src/../assets/knockout.js\"), WebIO.Asset(\"js\", \"knockout_punches\", \"/home/dushya/.julia/packages/Knockout/HReiN/src/../assets/knockout_punches.js\"), WebIO.Asset(\"js\", nothing, \"/home/dushya/.julia/packages/InteractBase/LJXv3/src/../assets/all.js\"), WebIO.Asset(\"css\", nothing, \"/home/dushya/.julia/packages/InteractBase/LJXv3/src/../assets/style.css\"), WebIO.Asset(\"css\", nothing, \"/home/dushya/.julia/packages/Interact/PENUy/src/../assets/bulma_confined.min.css\")], Dict{Any, Any}(\"loading\" => Any[WebIO.JSString(\"(function (val){return (val!=this.model[\\\"loading\\\"]()) ? (this.valueFromJulia[\\\"loading\\\"]=true, this.model[\\\"loading\\\"](val)) : undefined})\")], \"clicks\" => Any[WebIO.JSString(\"(function (val){return (val!=this.model[\\\"clicks\\\"]()) ? (this.valueFromJulia[\\\"clicks\\\"]=true, this.model[\\\"clicks\\\"](val)) : undefined})\")]), WebIO.ConnectionPool(Channel{Any}(32), Set{WebIO.AbstractConnection}(), Base.GenericCondition{ReentrantLock}(Base.IntrusiveLinkedList{Task}(Task (runnable) @0x00007f1f709f9f50, Task (runnable) @0x00007f1f709f9f50), ReentrantLock(nothing, 0x00000000, 0x00, Base.GenericCondition{Base.Threads.SpinLock}(Base.IntrusiveLinkedList{Task}(nothing, nothing), Base.Threads.SpinLock(0)), (0, 139773749584640, 139773895242368)))), WebIO.JSString[WebIO.JSString(\"function () {\\n    var handler = (function (ko, koPunches) {\\n    ko.punches.enableAll();\\n    ko.bindingHandlers.numericValue = {\\n        init: function(element, valueAccessor, allBindings, data, context) {\\n            var stringified = ko.observable(ko.unwrap(valueAccessor()));\\n            stringified.subscribe(function(value) {\\n                var val = parseFloat(value);\\n                if (!isNaN(val)) {\\n                    valueAccessor()(val);\\n                }\\n            });\\n            valueAccessor().subscribe(function(value) {\\n                var str = JSON.stringify(value);\\n                if ((str == \\\"0\\\") && ([\\\"-0\\\", \\\"-0.\\\"].indexOf(stringified()) >= 0))\\n                     return;\\n                 if ([\\\"null\\\", \\\"\\\"].indexOf(str) >= 0)\\n                     return;\\n                stringified(str);\\n            });\\n            ko.applyBindingsToNode(\\n                element,\\n                {\\n                    value: stringified,\\n                    valueUpdate: allBindings.get('valueUpdate'),\\n                },\\n                context,\\n            );\\n        }\\n    };\\n    var json_data = {\\\"loading\\\":WebIO.getval({\\\"name\\\":\\\"loading\\\",\\\"scope\\\":\\\"12212603291980829008\\\",\\\"id\\\":\\\"4492786335800811996\\\",\\\"type\\\":\\\"observable\\\"}),\\\"clicks\\\":WebIO.getval({\\\"name\\\":\\\"clicks\\\",\\\"scope\\\":\\\"12212603291980829008\\\",\\\"id\\\":\\\"14077398223569134912\\\",\\\"type\\\":\\\"observable\\\"})};\\n    var self = this;\\n    function AppViewModel() {\\n        for (var key in json_data) {\\n            var el = json_data[key];\\n            this[key] = Array.isArray(el) ? ko.observableArray(el) : ko.observable(el);\\n        }\\n        \\n        \\n        [this[\\\"loading\\\"].subscribe((function (val){!(this.valueFromJulia[\\\"loading\\\"]) ? (WebIO.setval({\\\"name\\\":\\\"loading\\\",\\\"scope\\\":\\\"12212603291980829008\\\",\\\"id\\\":\\\"4492786335800811996\\\",\\\"type\\\":\\\"observable\\\"},val)) : undefined; return this.valueFromJulia[\\\"loading\\\"]=false}),self),this[\\\"clicks\\\"].subscribe((function (val){!(this.valueFromJulia[\\\"clicks\\\"]) ? (WebIO.setval({\\\"name\\\":\\\"clicks\\\",\\\"scope\\\":\\\"12212603291980829008\\\",\\\"id\\\":\\\"14077398223569134912\\\",\\\"type\\\":\\\"observable\\\"},val)) : undefined; return this.valueFromJulia[\\\"clicks\\\"]=false}),self)]\\n        \\n    }\\n    self.model = new AppViewModel();\\n    self.valueFromJulia = {};\\n    for (var key in json_data) {\\n        self.valueFromJulia[key] = false;\\n    }\\n    ko.applyBindings(self.model, self.dom);\\n}\\n);\\n    (WebIO.importBlock({\\\"data\\\":[{\\\"name\\\":\\\"knockout\\\",\\\"type\\\":\\\"js\\\",\\\"url\\\":\\\"/assetserver/727383f2a47bd31570b7da84eee7b022dd6d7c78-knockout.js\\\"},{\\\"name\\\":\\\"knockout_punches\\\",\\\"type\\\":\\\"js\\\",\\\"url\\\":\\\"/assetserver/382b41b3b1bd9f26f75861d360bad7f8beea211f-knockout_punches.js\\\"}],\\\"type\\\":\\\"async_block\\\"})).then((imports) => handler.apply(this, imports));\\n}\\n\")])], Dict{Symbol, Any}(:className => \"field interact-widget\")), WebIO.Node{WebIO.DOM}(WebIO.DOM(:html, :div), Any[WebIO.Scope(WebIO.Node{WebIO.DOM}(WebIO.DOM(:html, :div), Any[], Dict{Symbol, Any}(:id => \"container\")), Dict{String, Tuple{Observables.AbstractObservable, Union{Nothing, Bool}}}(\"value\" => (Observable(\"\\\\;\\\\;\"), nothing)), Set{String}(), nothing, WebIO.Asset[WebIO.Asset(\"js\", nothing, \"/home/dushya/.julia/packages/InteractBase/LJXv3/src/../assets/katex.min.js\"), WebIO.Asset(\"css\", nothing, \"/home/dushya/.julia/packages/InteractBase/LJXv3/src/../assets/katex.min.css\")], Dict{Any, Any}(\"value\" => Any[WebIO.JSString(\"(function (txt){return this.k.render(txt,this.container)})\")]), WebIO.ConnectionPool(Channel{Any}(32), Set{WebIO.AbstractConnection}(), Base.GenericCondition{ReentrantLock}(Base.IntrusiveLinkedList{Task}(Task (runnable) @0x00007f1f7071f9e0, Task (runnable) @0x00007f1f7071f9e0), ReentrantLock(nothing, 0x00000000, 0x00, Base.GenericCondition{Base.Threads.SpinLock}(Base.IntrusiveLinkedList{Task}(nothing, nothing), Base.Threads.SpinLock(0)), (8, 139771898508464, 139772995572256)))), WebIO.JSString[WebIO.JSString(\"function () {\\n    var handler = ((function (k){this.k=k; this.container=this.dom.querySelector(\\\"#container\\\"); return k.render(\\\"\\\\\\\\;\\\\\\\\;\\\",this.container)}));\\n    (WebIO.importBlock({\\\"data\\\":[{\\\"name\\\":null,\\\"type\\\":\\\"js\\\",\\\"url\\\":\\\"/assetserver/dd22ed1bf1896c2748f3fe616ce0b838adc895c1-katex.min.js\\\"},{\\\"name\\\":null,\\\"type\\\":\\\"css\\\",\\\"url\\\":\\\"/assetserver/46517a424aa5e6cffc1360d7e0848b601c584ee3-katex.min.css\\\"}],\\\"type\\\":\\\"async_block\\\"})).then((imports) => handler.apply(this, imports));\\n}\\n\")])], Dict{Symbol, Any}(:className => \"interact-widget\")), WebIO.Node{WebIO.DOM}(WebIO.DOM(:html, :div), Any[WebIO.Scope(WebIO.Node{WebIO.DOM}(WebIO.DOM(:html, :button), Any[\"stop\"], Dict{Symbol, Any}(:attributes => Dict{Any, Any}(\"data-bind\" => \"click: function (){this.clicks(this.clicks()+1)}, css: {'is-loading' : loading}\"), :className => \"is-medium button is-primary\", :style => Dict{String, Any}())), Dict{String, Tuple{Observables.AbstractObservable, Union{Nothing, Bool}}}(\"loading\" => (Observable(false), nothing), \"clicks\" => (Observable(0), nothing)), Set{String}(), nothing, WebIO.Asset[WebIO.Asset(\"js\", \"knockout\", \"/home/dushya/.julia/packages/Knockout/HReiN/src/../assets/knockout.js\"), WebIO.Asset(\"js\", \"knockout_punches\", \"/home/dushya/.julia/packages/Knockout/HReiN/src/../assets/knockout_punches.js\"), WebIO.Asset(\"js\", nothing, \"/home/dushya/.julia/packages/InteractBase/LJXv3/src/../assets/all.js\"), WebIO.Asset(\"css\", nothing, \"/home/dushya/.julia/packages/InteractBase/LJXv3/src/../assets/style.css\"), WebIO.Asset(\"css\", nothing, \"/home/dushya/.julia/packages/Interact/PENUy/src/../assets/bulma_confined.min.css\")], Dict{Any, Any}(\"loading\" => Any[WebIO.JSString(\"(function (val){return (val!=this.model[\\\"loading\\\"]()) ? (this.valueFromJulia[\\\"loading\\\"]=true, this.model[\\\"loading\\\"](val)) : undefined})\")], \"clicks\" => Any[WebIO.JSString(\"(function (val){return (val!=this.model[\\\"clicks\\\"]()) ? (this.valueFromJulia[\\\"clicks\\\"]=true, this.model[\\\"clicks\\\"](val)) : undefined})\")]), WebIO.ConnectionPool(Channel{Any}(32), Set{WebIO.AbstractConnection}(), Base.GenericCondition{ReentrantLock}(Base.IntrusiveLinkedList{Task}(Task (runnable) @0x00007f1f70a3c970, Task (runnable) @0x00007f1f70a3c970), ReentrantLock(nothing, 0x00000000, 0x00, Base.GenericCondition{Base.Threads.SpinLock}(Base.IntrusiveLinkedList{Task}(nothing, nothing), Base.Threads.SpinLock(0)), (8, 139771899868944, 139771895856464)))), WebIO.JSString[WebIO.JSString(\"function () {\\n    var handler = (function (ko, koPunches) {\\n    ko.punches.enableAll();\\n    ko.bindingHandlers.numericValue = {\\n        init: function(element, valueAccessor, allBindings, data, context) {\\n            var stringified = ko.observable(ko.unwrap(valueAccessor()));\\n            stringified.subscribe(function(value) {\\n                var val = parseFloat(value);\\n                if (!isNaN(val)) {\\n                    valueAccessor()(val);\\n                }\\n            });\\n            valueAccessor().subscribe(function(value) {\\n                var str = JSON.stringify(value);\\n                if ((str == \\\"0\\\") && ([\\\"-0\\\", \\\"-0.\\\"].indexOf(stringified()) >= 0))\\n                     return;\\n                 if ([\\\"null\\\", \\\"\\\"].indexOf(str) >= 0)\\n                     return;\\n                stringified(str);\\n            });\\n            ko.applyBindingsToNode(\\n                element,\\n                {\\n                    value: stringified,\\n                    valueUpdate: allBindings.get('valueUpdate'),\\n                },\\n                context,\\n            );\\n        }\\n    };\\n    var json_data = {\\\"loading\\\":WebIO.getval({\\\"name\\\":\\\"loading\\\",\\\"scope\\\":\\\"14462575877302147690\\\",\\\"id\\\":\\\"17382980076190531912\\\",\\\"type\\\":\\\"observable\\\"}),\\\"clicks\\\":WebIO.getval({\\\"name\\\":\\\"clicks\\\",\\\"scope\\\":\\\"14462575877302147690\\\",\\\"id\\\":\\\"6866101901347472429\\\",\\\"type\\\":\\\"observable\\\"})};\\n    var self = this;\\n    function AppViewModel() {\\n        for (var key in json_data) {\\n            var el = json_data[key];\\n            this[key] = Array.isArray(el) ? ko.observableArray(el) : ko.observable(el);\\n        }\\n        \\n        \\n        [this[\\\"loading\\\"].subscribe((function (val){!(this.valueFromJulia[\\\"loading\\\"]) ? (WebIO.setval({\\\"name\\\":\\\"loading\\\",\\\"scope\\\":\\\"14462575877302147690\\\",\\\"id\\\":\\\"17382980076190531912\\\",\\\"type\\\":\\\"observable\\\"},val)) : undefined; return this.valueFromJulia[\\\"loading\\\"]=false}),self),this[\\\"clicks\\\"].subscribe((function (val){!(this.valueFromJulia[\\\"clicks\\\"]) ? (WebIO.setval({\\\"name\\\":\\\"clicks\\\",\\\"scope\\\":\\\"14462575877302147690\\\",\\\"id\\\":\\\"6866101901347472429\\\",\\\"type\\\":\\\"observable\\\"},val)) : undefined; return this.valueFromJulia[\\\"clicks\\\"]=false}),self)]\\n        \\n    }\\n    self.model = new AppViewModel();\\n    self.valueFromJulia = {};\\n    for (var key in json_data) {\\n        self.valueFromJulia[key] = false;\\n    }\\n    ko.applyBindings(self.model, self.dom);\\n}\\n);\\n    (WebIO.importBlock({\\\"data\\\":[{\\\"name\\\":\\\"knockout\\\",\\\"type\\\":\\\"js\\\",\\\"url\\\":\\\"/assetserver/727383f2a47bd31570b7da84eee7b022dd6d7c78-knockout.js\\\"},{\\\"name\\\":\\\"knockout_punches\\\",\\\"type\\\":\\\"js\\\",\\\"url\\\":\\\"/assetserver/382b41b3b1bd9f26f75861d360bad7f8beea211f-knockout_punches.js\\\"}],\\\"type\\\":\\\"async_block\\\"})).then((imports) => handler.apply(this, imports));\\n}\\n\")])], Dict{Symbol, Any}(:className => \"field interact-widget\")), WebIO.Node{WebIO.DOM}(WebIO.DOM(:html, :div), Any[WebIO.Scope(WebIO.Node{WebIO.DOM}(WebIO.DOM(:html, :div), Any[], Dict{Symbol, Any}(:id => \"container\")), Dict{String, Tuple{Observables.AbstractObservable, Union{Nothing, Bool}}}(\"value\" => (Observable(\"\\\\;\\\\;\"), nothing)), Set{String}(), nothing, WebIO.Asset[WebIO.Asset(\"js\", nothing, \"/home/dushya/.julia/packages/InteractBase/LJXv3/src/../assets/katex.min.js\"), WebIO.Asset(\"css\", nothing, \"/home/dushya/.julia/packages/InteractBase/LJXv3/src/../assets/katex.min.css\")], Dict{Any, Any}(\"value\" => Any[WebIO.JSString(\"(function (txt){return this.k.render(txt,this.container)})\")]), WebIO.ConnectionPool(Channel{Any}(32), Set{WebIO.AbstractConnection}(), Base.GenericCondition{ReentrantLock}(Base.IntrusiveLinkedList{Task}(Task (runnable) @0x00007f1f7071f9e0, Task (runnable) @0x00007f1f7071f9e0), ReentrantLock(nothing, 0x00000000, 0x00, Base.GenericCondition{Base.Threads.SpinLock}(Base.IntrusiveLinkedList{Task}(nothing, nothing), Base.Threads.SpinLock(0)), (8, 139771898508464, 139772995572256)))), WebIO.JSString[WebIO.JSString(\"function () {\\n    var handler = ((function (k){this.k=k; this.container=this.dom.querySelector(\\\"#container\\\"); return k.render(\\\"\\\\\\\\;\\\\\\\\;\\\",this.container)}));\\n    (WebIO.importBlock({\\\"data\\\":[{\\\"name\\\":null,\\\"type\\\":\\\"js\\\",\\\"url\\\":\\\"/assetserver/dd22ed1bf1896c2748f3fe616ce0b838adc895c1-katex.min.js\\\"},{\\\"name\\\":null,\\\"type\\\":\\\"css\\\",\\\"url\\\":\\\"/assetserver/46517a424aa5e6cffc1360d7e0848b601c584ee3-katex.min.css\\\"}],\\\"type\\\":\\\"async_block\\\"})).then((imports) => handler.apply(this, imports));\\n}\\n\")])], Dict{Symbol, Any}(:className => \"interact-widget\")), WebIO.Node{WebIO.DOM}(WebIO.DOM(:html, :div), Any[WebIO.Scope(WebIO.Node{WebIO.DOM}(WebIO.DOM(:html, :button), Any[\"reset\"], Dict{Symbol, Any}(:attributes => Dict{Any, Any}(\"data-bind\" => \"click: function (){this.clicks(this.clicks()+1)}, css: {'is-loading' : loading}\"), :className => \"is-medium button is-primary\", :style => Dict{String, Any}())), Dict{String, Tuple{Observables.AbstractObservable, Union{Nothing, Bool}}}(\"loading\" => (Observable(false), nothing), \"clicks\" => (Observable(0), nothing)), Set{String}(), nothing, WebIO.Asset[WebIO.Asset(\"js\", \"knockout\", \"/home/dushya/.julia/packages/Knockout/HReiN/src/../assets/knockout.js\"), WebIO.Asset(\"js\", \"knockout_punches\", \"/home/dushya/.julia/packages/Knockout/HReiN/src/../assets/knockout_punches.js\"), WebIO.Asset(\"js\", nothing, \"/home/dushya/.julia/packages/InteractBase/LJXv3/src/../assets/all.js\"), WebIO.Asset(\"css\", nothing, \"/home/dushya/.julia/packages/InteractBase/LJXv3/src/../assets/style.css\"), WebIO.Asset(\"css\", nothing, \"/home/dushya/.julia/packages/Interact/PENUy/src/../assets/bulma_confined.min.css\")], Dict{Any, Any}(\"loading\" => Any[WebIO.JSString(\"(function (val){return (val!=this.model[\\\"loading\\\"]()) ? (this.valueFromJulia[\\\"loading\\\"]=true, this.model[\\\"loading\\\"](val)) : undefined})\")], \"clicks\" => Any[WebIO.JSString(\"(function (val){return (val!=this.model[\\\"clicks\\\"]()) ? (this.valueFromJulia[\\\"clicks\\\"]=true, this.model[\\\"clicks\\\"](val)) : undefined})\")]), WebIO.ConnectionPool(Channel{Any}(32), Set{WebIO.AbstractConnection}(), Base.GenericCondition{ReentrantLock}(Base.IntrusiveLinkedList{Task}(Task (runnable) @0x00007f1f70a3f530, Task (runnable) @0x00007f1f70a3f530), ReentrantLock(nothing, 0x00000000, 0x00, Base.GenericCondition{Base.Threads.SpinLock}(Base.IntrusiveLinkedList{Task}(nothing, nothing), Base.Threads.SpinLock(0)), (2, 139773714793168, 139773751647216)))), WebIO.JSString[WebIO.JSString(\"function () {\\n    var handler = (function (ko, koPunches) {\\n    ko.punches.enableAll();\\n    ko.bindingHandlers.numericValue = {\\n        init: function(element, valueAccessor, allBindings, data, context) {\\n            var stringified = ko.observable(ko.unwrap(valueAccessor()));\\n            stringified.subscribe(function(value) {\\n                var val = parseFloat(value);\\n                if (!isNaN(val)) {\\n                    valueAccessor()(val);\\n                }\\n            });\\n            valueAccessor().subscribe(function(value) {\\n                var str = JSON.stringify(value);\\n                if ((str == \\\"0\\\") && ([\\\"-0\\\", \\\"-0.\\\"].indexOf(stringified()) >= 0))\\n                     return;\\n                 if ([\\\"null\\\", \\\"\\\"].indexOf(str) >= 0)\\n                     return;\\n                stringified(str);\\n            });\\n            ko.applyBindingsToNode(\\n                element,\\n                {\\n                    value: stringified,\\n                    valueUpdate: allBindings.get('valueUpdate'),\\n                },\\n                context,\\n            );\\n        }\\n    };\\n    var json_data = {\\\"loading\\\":WebIO.getval({\\\"name\\\":\\\"loading\\\",\\\"scope\\\":\\\"2516923515365159816\\\",\\\"id\\\":\\\"17237086543952722334\\\",\\\"type\\\":\\\"observable\\\"}),\\\"clicks\\\":WebIO.getval({\\\"name\\\":\\\"clicks\\\",\\\"scope\\\":\\\"2516923515365159816\\\",\\\"id\\\":\\\"4279245758492588836\\\",\\\"type\\\":\\\"observable\\\"})};\\n    var self = this;\\n    function AppViewModel() {\\n        for (var key in json_data) {\\n            var el = json_data[key];\\n            this[key] = Array.isArray(el) ? ko.observableArray(el) : ko.observable(el);\\n        }\\n        \\n        \\n        [this[\\\"loading\\\"].subscribe((function (val){!(this.valueFromJulia[\\\"loading\\\"]) ? (WebIO.setval({\\\"name\\\":\\\"loading\\\",\\\"scope\\\":\\\"2516923515365159816\\\",\\\"id\\\":\\\"17237086543952722334\\\",\\\"type\\\":\\\"observable\\\"},val)) : undefined; return this.valueFromJulia[\\\"loading\\\"]=false}),self),this[\\\"clicks\\\"].subscribe((function (val){!(this.valueFromJulia[\\\"clicks\\\"]) ? (WebIO.setval({\\\"name\\\":\\\"clicks\\\",\\\"scope\\\":\\\"2516923515365159816\\\",\\\"id\\\":\\\"4279245758492588836\\\",\\\"type\\\":\\\"observable\\\"},val)) : undefined; return this.valueFromJulia[\\\"clicks\\\"]=false}),self)]\\n        \\n    }\\n    self.model = new AppViewModel();\\n    self.valueFromJulia = {};\\n    for (var key in json_data) {\\n        self.valueFromJulia[key] = false;\\n    }\\n    ko.applyBindings(self.model, self.dom);\\n}\\n);\\n    (WebIO.importBlock({\\\"data\\\":[{\\\"name\\\":\\\"knockout\\\",\\\"type\\\":\\\"js\\\",\\\"url\\\":\\\"/assetserver/727383f2a47bd31570b7da84eee7b022dd6d7c78-knockout.js\\\"},{\\\"name\\\":\\\"knockout_punches\\\",\\\"type\\\":\\\"js\\\",\\\"url\\\":\\\"/assetserver/382b41b3b1bd9f26f75861d360bad7f8beea211f-knockout_punches.js\\\"}],\\\"type\\\":\\\"async_block\\\"})).then((imports) => handler.apply(this, imports));\\n}\\n\")])], Dict{Symbol, Any}(:className => \"field interact-widget\")), WebIO.Node{WebIO.DOM}(WebIO.DOM(:html, :div), Any[WebIO.Scope(WebIO.Node{WebIO.DOM}(WebIO.DOM(:html, :div), Any[], Dict{Symbol, Any}(:id => \"container\")), Dict{String, Tuple{Observables.AbstractObservable, Union{Nothing, Bool}}}(\"value\" => (Observable(\"\\\\;\\\\;\"), nothing)), Set{String}(), nothing, WebIO.Asset[WebIO.Asset(\"js\", nothing, \"/home/dushya/.julia/packages/InteractBase/LJXv3/src/../assets/katex.min.js\"), WebIO.Asset(\"css\", nothing, \"/home/dushya/.julia/packages/InteractBase/LJXv3/src/../assets/katex.min.css\")], Dict{Any, Any}(\"value\" => Any[WebIO.JSString(\"(function (txt){return this.k.render(txt,this.container)})\")]), WebIO.ConnectionPool(Channel{Any}(32), Set{WebIO.AbstractConnection}(), Base.GenericCondition{ReentrantLock}(Base.IntrusiveLinkedList{Task}(Task (runnable) @0x00007f1f7071f9e0, Task (runnable) @0x00007f1f7071f9e0), ReentrantLock(nothing, 0x00000000, 0x00, Base.GenericCondition{Base.Threads.SpinLock}(Base.IntrusiveLinkedList{Task}(nothing, nothing), Base.Threads.SpinLock(0)), (8, 139771898508464, 139772995572256)))), WebIO.JSString[WebIO.JSString(\"function () {\\n    var handler = ((function (k){this.k=k; this.container=this.dom.querySelector(\\\"#container\\\"); return k.render(\\\"\\\\\\\\;\\\\\\\\;\\\",this.container)}));\\n    (WebIO.importBlock({\\\"data\\\":[{\\\"name\\\":null,\\\"type\\\":\\\"js\\\",\\\"url\\\":\\\"/assetserver/dd22ed1bf1896c2748f3fe616ce0b838adc895c1-katex.min.js\\\"},{\\\"name\\\":null,\\\"type\\\":\\\"css\\\",\\\"url\\\":\\\"/assetserver/46517a424aa5e6cffc1360d7e0848b601c584ee3-katex.min.css\\\"}],\\\"type\\\":\\\"async_block\\\"})).then((imports) => handler.apply(this, imports));\\n}\\n\")])], Dict{Symbol, Any}(:className => \"interact-widget\")), WebIO.Node{WebIO.DOM}(WebIO.DOM(:html, :div), Any[WebIO.Scope(WebIO.Node{WebIO.DOM}(WebIO.DOM(:html, :button), Any[\"save\"], Dict{Symbol, Any}(:attributes => Dict{Any, Any}(\"data-bind\" => \"click: function (){this.clicks(this.clicks()+1)}, css: {'is-loading' : loading}\"), :className => \"is-medium button is-primary\", :style => Dict{String, Any}())), Dict{String, Tuple{Observables.AbstractObservable, Union{Nothing, Bool}}}(\"loading\" => (Observable(false), nothing), \"clicks\" => (Observable(0), nothing)), Set{String}(), nothing, WebIO.Asset[WebIO.Asset(\"js\", \"knockout\", \"/home/dushya/.julia/packages/Knockout/HReiN/src/../assets/knockout.js\"), WebIO.Asset(\"js\", \"knockout_punches\", \"/home/dushya/.julia/packages/Knockout/HReiN/src/../assets/knockout_punches.js\"), WebIO.Asset(\"js\", nothing, \"/home/dushya/.julia/packages/InteractBase/LJXv3/src/../assets/all.js\"), WebIO.Asset(\"css\", nothing, \"/home/dushya/.julia/packages/InteractBase/LJXv3/src/../assets/style.css\"), WebIO.Asset(\"css\", nothing, \"/home/dushya/.julia/packages/Interact/PENUy/src/../assets/bulma_confined.min.css\")], Dict{Any, Any}(\"loading\" => Any[WebIO.JSString(\"(function (val){return (val!=this.model[\\\"loading\\\"]()) ? (this.valueFromJulia[\\\"loading\\\"]=true, this.model[\\\"loading\\\"](val)) : undefined})\")], \"clicks\" => Any[WebIO.JSString(\"(function (val){return (val!=this.model[\\\"clicks\\\"]()) ? (this.valueFromJulia[\\\"clicks\\\"]=true, this.model[\\\"clicks\\\"](val)) : undefined})\")]), WebIO.ConnectionPool(Channel{Any}(32), Set{WebIO.AbstractConnection}(), Base.GenericCondition{ReentrantLock}(Base.IntrusiveLinkedList{Task}(Task (runnable) @0x00007f1f70b820e0, Task (runnable) @0x00007f1f70b820e0), ReentrantLock(nothing, 0x00000000, 0x00, Base.GenericCondition{Base.Threads.SpinLock}(Base.IntrusiveLinkedList{Task}(nothing, nothing), Base.Threads.SpinLock(0)), (2, 139773895274528, 139772996515312)))), WebIO.JSString[WebIO.JSString(\"function () {\\n    var handler = (function (ko, koPunches) {\\n    ko.punches.enableAll();\\n    ko.bindingHandlers.numericValue = {\\n        init: function(element, valueAccessor, allBindings, data, context) {\\n            var stringified = ko.observable(ko.unwrap(valueAccessor()));\\n            stringified.subscribe(function(value) {\\n                var val = parseFloat(value);\\n                if (!isNaN(val)) {\\n                    valueAccessor()(val);\\n                }\\n            });\\n            valueAccessor().subscribe(function(value) {\\n                var str = JSON.stringify(value);\\n                if ((str == \\\"0\\\") && ([\\\"-0\\\", \\\"-0.\\\"].indexOf(stringified()) >= 0))\\n                     return;\\n                 if ([\\\"null\\\", \\\"\\\"].indexOf(str) >= 0)\\n                     return;\\n                stringified(str);\\n            });\\n            ko.applyBindingsToNode(\\n                element,\\n                {\\n                    value: stringified,\\n                    valueUpdate: allBindings.get('valueUpdate'),\\n                },\\n                context,\\n            );\\n        }\\n    };\\n    var json_data = {\\\"loading\\\":WebIO.getval({\\\"name\\\":\\\"loading\\\",\\\"scope\\\":\\\"13517765429887548921\\\",\\\"id\\\":\\\"14160130362020212486\\\",\\\"type\\\":\\\"observable\\\"}),\\\"clicks\\\":WebIO.getval({\\\"name\\\":\\\"clicks\\\",\\\"scope\\\":\\\"13517765429887548921\\\",\\\"id\\\":\\\"4879985750751193038\\\",\\\"type\\\":\\\"observable\\\"})};\\n    var self = this;\\n    function AppViewModel() {\\n        for (var key in json_data) {\\n            var el = json_data[key];\\n            this[key] = Array.isArray(el) ? ko.observableArray(el) : ko.observable(el);\\n        }\\n        \\n        \\n        [this[\\\"loading\\\"].subscribe((function (val){!(this.valueFromJulia[\\\"loading\\\"]) ? (WebIO.setval({\\\"name\\\":\\\"loading\\\",\\\"scope\\\":\\\"13517765429887548921\\\",\\\"id\\\":\\\"14160130362020212486\\\",\\\"type\\\":\\\"observable\\\"},val)) : undefined; return this.valueFromJulia[\\\"loading\\\"]=false}),self),this[\\\"clicks\\\"].subscribe((function (val){!(this.valueFromJulia[\\\"clicks\\\"]) ? (WebIO.setval({\\\"name\\\":\\\"clicks\\\",\\\"scope\\\":\\\"13517765429887548921\\\",\\\"id\\\":\\\"4879985750751193038\\\",\\\"type\\\":\\\"observable\\\"},val)) : undefined; return this.valueFromJulia[\\\"clicks\\\"]=false}),self)]\\n        \\n    }\\n    self.model = new AppViewModel();\\n    self.valueFromJulia = {};\\n    for (var key in json_data) {\\n        self.valueFromJulia[key] = false;\\n    }\\n    ko.applyBindings(self.model, self.dom);\\n}\\n);\\n    (WebIO.importBlock({\\\"data\\\":[{\\\"name\\\":\\\"knockout\\\",\\\"type\\\":\\\"js\\\",\\\"url\\\":\\\"/assetserver/727383f2a47bd31570b7da84eee7b022dd6d7c78-knockout.js\\\"},{\\\"name\\\":\\\"knockout_punches\\\",\\\"type\\\":\\\"js\\\",\\\"url\\\":\\\"/assetserver/382b41b3b1bd9f26f75861d360bad7f8beea211f-knockout_punches.js\\\"}],\\\"type\\\":\\\"async_block\\\"})).then((imports) => handler.apply(this, imports));\\n}\\n\")])], Dict{Symbol, Any}(:className => \"field interact-widget\"))], Dict{Symbol, Any}(:style => Dict(\"display\" => \"flex\", \"flex-direction\" => \"row\")))], Dict{Symbol, Any}(:style => Dict(\"display\" => \"flex\", \"flex-direction\" => \"column\"))), WebIO.Node{WebIO.DOM}(WebIO.DOM(:html, :div), Any[WebIO.Scope(WebIO.Node{WebIO.DOM}(WebIO.DOM(:html, :div), Any[], Dict{Symbol, Any}(:id => \"container\")), Dict{String, Tuple{Observables.AbstractObservable, Union{Nothing, Bool}}}(\"value\" => (Observable(\"\\\\;\\\\;\"), nothing)), Set{String}(), nothing, WebIO.Asset[WebIO.Asset(\"js\", nothing, \"/home/dushya/.julia/packages/InteractBase/LJXv3/src/../assets/katex.min.js\"), WebIO.Asset(\"css\", nothing, \"/home/dushya/.julia/packages/InteractBase/LJXv3/src/../assets/katex.min.css\")], Dict{Any, Any}(\"value\" => Any[WebIO.JSString(\"(function (txt){return this.k.render(txt,this.container)})\")]), WebIO.ConnectionPool(Channel{Any}(32), Set{WebIO.AbstractConnection}(), Base.GenericCondition{ReentrantLock}(Base.IntrusiveLinkedList{Task}(Task (runnable) @0x00007f1f7071f9e0, Task (runnable) @0x00007f1f7071f9e0), ReentrantLock(nothing, 0x00000000, 0x00, Base.GenericCondition{Base.Threads.SpinLock}(Base.IntrusiveLinkedList{Task}(nothing, nothing), Base.Threads.SpinLock(0)), (8, 139771898508464, 139772995572256)))), WebIO.JSString[WebIO.JSString(\"function () {\\n    var handler = ((function (k){this.k=k; this.container=this.dom.querySelector(\\\"#container\\\"); return k.render(\\\"\\\\\\\\;\\\\\\\\;\\\",this.container)}));\\n    (WebIO.importBlock({\\\"data\\\":[{\\\"name\\\":null,\\\"type\\\":\\\"js\\\",\\\"url\\\":\\\"/assetserver/dd22ed1bf1896c2748f3fe616ce0b838adc895c1-katex.min.js\\\"},{\\\"name\\\":null,\\\"type\\\":\\\"css\\\",\\\"url\\\":\\\"/assetserver/46517a424aa5e6cffc1360d7e0848b601c584ee3-katex.min.css\\\"}],\\\"type\\\":\\\"async_block\\\"})).then((imports) => handler.apply(this, imports));\\n}\\n\")])], Dict{Symbol, Any}(:className => \"interact-widget\")), Observable(Luxor.Drawing(430.0, 430.0, \"\", Cairo.CairoSurfaceBase{UInt32}(Ptr{Nothing} @0x0000000000000000, 430.0, 430.0), Cairo.CairoContext(Ptr{Nothing} @0x0000000004fa76c0, Cairo.CairoSurfaceBase{UInt32}(Ptr{Nothing} @0x0000000000000000, 430.0, 430.0), Ptr{Nothing} @0x0000000004ddd1e0), :png, 0.0, 0.0, 0.0, 1.0, IOBuffer(data=UInt8[...], readable=true, writable=true, seekable=true, append=false, size=22513, maxsize=Inf, ptr=22514, mark=-1), UInt8[0x89, 0x50, 0x4e, 0x47, 0x0d, 0x0a, 0x1a, 0x0a, 0x00, 0x00  …  0x00, 0x00, 0x49, 0x45, 0x4e, 0x44, 0xae, 0x42, 0x60, 0x82], false)), WebIO.Node{WebIO.DOM}(WebIO.DOM(:html, :div), Any[WebIO.Scope(WebIO.Node{WebIO.DOM}(WebIO.DOM(:html, :div), Any[], Dict{Symbol, Any}(:id => \"container\")), Dict{String, Tuple{Observables.AbstractObservable, Union{Nothing, Bool}}}(\"value\" => (Observable(\"\\\\;\\\\;\"), nothing)), Set{String}(), nothing, WebIO.Asset[WebIO.Asset(\"js\", nothing, \"/home/dushya/.julia/packages/InteractBase/LJXv3/src/../assets/katex.min.js\"), WebIO.Asset(\"css\", nothing, \"/home/dushya/.julia/packages/InteractBase/LJXv3/src/../assets/katex.min.css\")], Dict{Any, Any}(\"value\" => Any[WebIO.JSString(\"(function (txt){return this.k.render(txt,this.container)})\")]), WebIO.ConnectionPool(Channel{Any}(32), Set{WebIO.AbstractConnection}(), Base.GenericCondition{ReentrantLock}(Base.IntrusiveLinkedList{Task}(Task (runnable) @0x00007f1f7071f9e0, Task (runnable) @0x00007f1f7071f9e0), ReentrantLock(nothing, 0x00000000, 0x00, Base.GenericCondition{Base.Threads.SpinLock}(Base.IntrusiveLinkedList{Task}(nothing, nothing), Base.Threads.SpinLock(0)), (8, 139771898508464, 139772995572256)))), WebIO.JSString[WebIO.JSString(\"function () {\\n    var handler = ((function (k){this.k=k; this.container=this.dom.querySelector(\\\"#container\\\"); return k.render(\\\"\\\\\\\\;\\\\\\\\;\\\",this.container)}));\\n    (WebIO.importBlock({\\\"data\\\":[{\\\"name\\\":null,\\\"type\\\":\\\"js\\\",\\\"url\\\":\\\"/assetserver/dd22ed1bf1896c2748f3fe616ce0b838adc895c1-katex.min.js\\\"},{\\\"name\\\":null,\\\"type\\\":\\\"css\\\",\\\"url\\\":\\\"/assetserver/46517a424aa5e6cffc1360d7e0848b601c584ee3-katex.min.css\\\"}],\\\"type\\\":\\\"async_block\\\"})).then((imports) => handler.apply(this, imports));\\n}\\n\")])], Dict{Symbol, Any}(:className => \"interact-widget\")), WebIO.Node{WebIO.DOM}(WebIO.DOM(:html, :div), Any[], Dict{Symbol, Any}(:style => Dict(\"display\" => \"flex\", \"flex-direction\" => \"column\")))], Dict{Symbol, Any}(:style => Dict(\"display\" => \"flex\", \"flex-direction\" => \"row\")))], Dict{Symbol, Any}(:style => Dict(\"display\" => \"flex\", \"flex-direction\" => \"column\")))"
      ]
     },
     "execution_count": 10,
     "metadata": {
      "application/vnd.webio.node+json": {
       "kernelId": "8b32b75f-1993-44af-8386-c0f586724969"
      }
     },
     "output_type": "execute_result"
    }
   ],
   "source": [
    "create_interactive_app(model, initialiser= initialiser!,\n",
    "    step_rule= step_rule!,\n",
    "    model_controls=[(:min_dis, \"slider\", 0.01:0.1:1.0),\n",
    "        (:coh_fac, \"slider\", 0.01:0.01:1.0),\n",
    "        (:sep_fac, \"slider\", 0.01:0.01:1.0),\n",
    "        (:aln_fac, \"slider\", 0.01:0.01:1.0),\n",
    "        (:vis_range, \"slider\", 0.5:0.5:4.0)], frames=400) "
   ]
  },
  {
   "cell_type": "markdown",
   "metadata": {},
   "source": [
    "## Step 5: Fetch Data \n",
    "\n",
    "It is easy to fetch any data recorded during simulation. For example, the data of average velocity of agents at each time step can be obtained as - "
   ]
  },
  {
   "cell_type": "code",
   "execution_count": 11,
   "metadata": {},
   "outputs": [
    {
     "data": {
      "text/html": [
       "<div><div style = \"float: left;\"><span>401×1 DataFrame</span></div><div style = \"float: right;\"><span style = \"font-style: italic;\">376 rows omitted</span></div><div style = \"clear: both;\"></div></div><div class = \"data-frame\" style = \"overflow-x: scroll;\"><table class = \"data-frame\" style = \"margin-bottom: 6px;\"><thead><tr class = \"header\"><th class = \"rowNumber\" style = \"font-weight: bold; text-align: right;\">Row</th><th style = \"text-align: left;\">average velocity</th></tr><tr class = \"subheader headerLastRow\"><th class = \"rowNumber\" style = \"font-weight: bold; text-align: right;\"></th><th title = \"Vect{2, Float64}\" style = \"text-align: left;\">Vect…</th></tr></thead><tbody><tr><td class = \"rowNumber\" style = \"font-weight: bold; text-align: right;\">1</td><td style = \"text-align: left;\">(-0.0526797, 0.0562834)\\n</td></tr><tr><td class = \"rowNumber\" style = \"font-weight: bold; text-align: right;\">2</td><td style = \"text-align: left;\">(-0.0723846, 0.129933)\\n</td></tr><tr><td class = \"rowNumber\" style = \"font-weight: bold; text-align: right;\">3</td><td style = \"text-align: left;\">(-0.142997, 0.186249)\\n</td></tr><tr><td class = \"rowNumber\" style = \"font-weight: bold; text-align: right;\">4</td><td style = \"text-align: left;\">(-0.19616, 0.22809)\\n</td></tr><tr><td class = \"rowNumber\" style = \"font-weight: bold; text-align: right;\">5</td><td style = \"text-align: left;\">(-0.239176, 0.232076)\\n</td></tr><tr><td class = \"rowNumber\" style = \"font-weight: bold; text-align: right;\">6</td><td style = \"text-align: left;\">(-0.254415, 0.225635)\\n</td></tr><tr><td class = \"rowNumber\" style = \"font-weight: bold; text-align: right;\">7</td><td style = \"text-align: left;\">(-0.251186, 0.21427)\\n</td></tr><tr><td class = \"rowNumber\" style = \"font-weight: bold; text-align: right;\">8</td><td style = \"text-align: left;\">(-0.233704, 0.189064)\\n</td></tr><tr><td class = \"rowNumber\" style = \"font-weight: bold; text-align: right;\">9</td><td style = \"text-align: left;\">(-0.220455, 0.176988)\\n</td></tr><tr><td class = \"rowNumber\" style = \"font-weight: bold; text-align: right;\">10</td><td style = \"text-align: left;\">(-0.201196, 0.161509)\\n</td></tr><tr><td class = \"rowNumber\" style = \"font-weight: bold; text-align: right;\">11</td><td style = \"text-align: left;\">(-0.16499, 0.158429)\\n</td></tr><tr><td class = \"rowNumber\" style = \"font-weight: bold; text-align: right;\">12</td><td style = \"text-align: left;\">(-0.130124, 0.134691)\\n</td></tr><tr><td class = \"rowNumber\" style = \"font-weight: bold; text-align: right;\">13</td><td style = \"text-align: left;\">(-0.100649, 0.106894)\\n</td></tr><tr><td style = \"text-align: right;\">&vellip;</td><td style = \"text-align: right;\">&vellip;</td></tr><tr><td class = \"rowNumber\" style = \"font-weight: bold; text-align: right;\">390</td><td style = \"text-align: left;\">(-0.110404, -0.439011)\\n</td></tr><tr><td class = \"rowNumber\" style = \"font-weight: bold; text-align: right;\">391</td><td style = \"text-align: left;\">(0.0459123, -0.445576)\\n</td></tr><tr><td class = \"rowNumber\" style = \"font-weight: bold; text-align: right;\">392</td><td style = \"text-align: left;\">(0.170677, -0.426205)\\n</td></tr><tr><td class = \"rowNumber\" style = \"font-weight: bold; text-align: right;\">393</td><td style = \"text-align: left;\">(0.286825, -0.387197)\\n</td></tr><tr><td class = \"rowNumber\" style = \"font-weight: bold; text-align: right;\">394</td><td style = \"text-align: left;\">(0.352563, -0.351342)\\n</td></tr><tr><td class = \"rowNumber\" style = \"font-weight: bold; text-align: right;\">395</td><td style = \"text-align: left;\">(0.383525, -0.329821)\\n</td></tr><tr><td class = \"rowNumber\" style = \"font-weight: bold; text-align: right;\">396</td><td style = \"text-align: left;\">(0.413512, -0.305379)\\n</td></tr><tr><td class = \"rowNumber\" style = \"font-weight: bold; text-align: right;\">397</td><td style = \"text-align: left;\">(0.449301, -0.275815)\\n</td></tr><tr><td class = \"rowNumber\" style = \"font-weight: bold; text-align: right;\">398</td><td style = \"text-align: left;\">(0.510165, -0.197541)\\n</td></tr><tr><td class = \"rowNumber\" style = \"font-weight: bold; text-align: right;\">399</td><td style = \"text-align: left;\">(0.534951, -0.156081)\\n</td></tr><tr><td class = \"rowNumber\" style = \"font-weight: bold; text-align: right;\">400</td><td style = \"text-align: left;\">(0.528585, -0.160492)\\n</td></tr><tr><td class = \"rowNumber\" style = \"font-weight: bold; text-align: right;\">401</td><td style = \"text-align: left;\">(0.531194, -0.139157)\\n</td></tr></tbody></table></div>"
      ],
      "text/latex": [
       "\\begin{tabular}{r|c}\n",
       "\t& average velocity\\\\\n",
       "\t\\hline\n",
       "\t& Vect…\\\\\n",
       "\t\\hline\n",
       "\t1 & (-0.0526797, 0.0562834)\\textbackslash{}n \\\\\n",
       "\t2 & (-0.0723846, 0.129933)\\textbackslash{}n \\\\\n",
       "\t3 & (-0.142997, 0.186249)\\textbackslash{}n \\\\\n",
       "\t4 & (-0.19616, 0.22809)\\textbackslash{}n \\\\\n",
       "\t5 & (-0.239176, 0.232076)\\textbackslash{}n \\\\\n",
       "\t6 & (-0.254415, 0.225635)\\textbackslash{}n \\\\\n",
       "\t7 & (-0.251186, 0.21427)\\textbackslash{}n \\\\\n",
       "\t8 & (-0.233704, 0.189064)\\textbackslash{}n \\\\\n",
       "\t9 & (-0.220455, 0.176988)\\textbackslash{}n \\\\\n",
       "\t10 & (-0.201196, 0.161509)\\textbackslash{}n \\\\\n",
       "\t11 & (-0.16499, 0.158429)\\textbackslash{}n \\\\\n",
       "\t12 & (-0.130124, 0.134691)\\textbackslash{}n \\\\\n",
       "\t13 & (-0.100649, 0.106894)\\textbackslash{}n \\\\\n",
       "\t14 & (-0.0699637, 0.0818803)\\textbackslash{}n \\\\\n",
       "\t15 & (-0.0609006, 0.0476307)\\textbackslash{}n \\\\\n",
       "\t16 & (-0.0400356, 0.0246295)\\textbackslash{}n \\\\\n",
       "\t17 & (-0.0160408, -0.00118122)\\textbackslash{}n \\\\\n",
       "\t18 & (0.01073, -0.0237401)\\textbackslash{}n \\\\\n",
       "\t19 & (0.0211221, -0.0572438)\\textbackslash{}n \\\\\n",
       "\t20 & (0.0324849, -0.0778026)\\textbackslash{}n \\\\\n",
       "\t21 & (0.0206179, -0.117968)\\textbackslash{}n \\\\\n",
       "\t22 & (-0.000878421, -0.14471)\\textbackslash{}n \\\\\n",
       "\t23 & (-0.0199476, -0.170404)\\textbackslash{}n \\\\\n",
       "\t24 & (-0.0326901, -0.216572)\\textbackslash{}n \\\\\n",
       "\t25 & (-0.0411122, -0.248109)\\textbackslash{}n \\\\\n",
       "\t26 & (-0.0536182, -0.256474)\\textbackslash{}n \\\\\n",
       "\t27 & (-0.05217, -0.304902)\\textbackslash{}n \\\\\n",
       "\t28 & (-0.0514362, -0.331864)\\textbackslash{}n \\\\\n",
       "\t29 & (-0.0533179, -0.335848)\\textbackslash{}n \\\\\n",
       "\t30 & (-0.0535618, -0.317466)\\textbackslash{}n \\\\\n",
       "\t$\\dots$ & $\\dots$ \\\\\n",
       "\\end{tabular}\n"
      ],
      "text/plain": [
       "\u001b[1m401×1 DataFrame\u001b[0m\n",
       "\u001b[1m Row \u001b[0m│\u001b[1m average velocity          \u001b[0m\n",
       "     │\u001b[90m Vect{2, Float64}          \u001b[0m\n",
       "─────┼───────────────────────────\n",
       "   1 │ (-0.0526797, 0.0562834)\\n\n",
       "   2 │ (-0.0723846, 0.129933)\\n\n",
       "   3 │ (-0.142997, 0.186249)\\n\n",
       "   4 │ (-0.19616, 0.22809)\\n\n",
       "   5 │ (-0.239176, 0.232076)\\n\n",
       "   6 │ (-0.254415, 0.225635)\\n\n",
       "   7 │ (-0.251186, 0.21427)\\n\n",
       "   8 │ (-0.233704, 0.189064)\\n\n",
       "   9 │ (-0.220455, 0.176988)\\n\n",
       "  10 │ (-0.201196, 0.161509)\\n\n",
       "  11 │ (-0.16499, 0.158429)\\n\n",
       "  ⋮  │             ⋮\n",
       " 392 │ (0.170677, -0.426205)\\n\n",
       " 393 │ (0.286825, -0.387197)\\n\n",
       " 394 │ (0.352563, -0.351342)\\n\n",
       " 395 │ (0.383525, -0.329821)\\n\n",
       " 396 │ (0.413512, -0.305379)\\n\n",
       " 397 │ (0.449301, -0.275815)\\n\n",
       " 398 │ (0.510165, -0.197541)\\n\n",
       " 399 │ (0.534951, -0.156081)\\n\n",
       " 400 │ (0.528585, -0.160492)\\n\n",
       " 401 │ (0.531194, -0.139157)\\n\n",
       "\u001b[36m                 380 rows omitted\u001b[0m"
      ]
     },
     "execution_count": 11,
     "metadata": {},
     "output_type": "execute_result"
    }
   ],
   "source": [
    "df = get_agents_avg_props(model, agent -> agent.vel, labels = [\"average velocity\"])"
   ]
  },
  {
   "cell_type": "markdown",
   "metadata": {},
   "source": [
    "Individual agent data recorded during model run can be obtained as "
   ]
  },
  {
   "cell_type": "code",
   "execution_count": 12,
   "metadata": {},
   "outputs": [
    {
     "data": {
      "text/html": [
       "<div><div style = \"float: left;\"><span>401×3 DataFrame</span></div><div style = \"float: right;\"><span style = \"font-style: italic;\">376 rows omitted</span></div><div style = \"clear: both;\"></div></div><div class = \"data-frame\" style = \"overflow-x: scroll;\"><table class = \"data-frame\" style = \"margin-bottom: 6px;\"><thead><tr class = \"header\"><th class = \"rowNumber\" style = \"font-weight: bold; text-align: right;\">Row</th><th style = \"text-align: left;\">orientation</th><th style = \"text-align: left;\">pos</th><th style = \"text-align: left;\">vel</th></tr><tr class = \"subheader headerLastRow\"><th class = \"rowNumber\" style = \"font-weight: bold; text-align: right;\"></th><th title = \"Float64\" style = \"text-align: left;\">Float64</th><th title = \"Vect{2, Float64}\" style = \"text-align: left;\">Vect…</th><th title = \"Vect{2, Float64}\" style = \"text-align: left;\">Vect…</th></tr></thead><tbody><tr><td class = \"rowNumber\" style = \"font-weight: bold; text-align: right;\">1</td><td style = \"text-align: right;\">3.52074</td><td style = \"text-align: left;\">(1.25185, 0.623397)\\n</td><td style = \"text-align: left;\">(0.370132, -0.928979)\\n</td></tr><tr><td class = \"rowNumber\" style = \"font-weight: bold; text-align: right;\">2</td><td style = \"text-align: right;\">4.54489</td><td style = \"text-align: left;\">(1.35045, 0.606725)\\n</td><td style = \"text-align: left;\">(0.986, -0.166715)\\n</td></tr><tr><td class = \"rowNumber\" style = \"font-weight: bold; text-align: right;\">3</td><td style = \"text-align: right;\">5.3389</td><td style = \"text-align: left;\">(1.43146, 0.665357)\\n</td><td style = \"text-align: left;\">(0.810068, 0.586318)\\n</td></tr><tr><td class = \"rowNumber\" style = \"font-weight: bold; text-align: right;\">4</td><td style = \"text-align: right;\">5.71167</td><td style = \"text-align: left;\">(1.48555, 0.749465)\\n</td><td style = \"text-align: left;\">(0.540905, 0.841075)\\n</td></tr><tr><td class = \"rowNumber\" style = \"font-weight: bold; text-align: right;\">5</td><td style = \"text-align: right;\">5.88384</td><td style = \"text-align: left;\">(1.52443, 0.841596)\\n</td><td style = \"text-align: left;\">(0.388809, 0.92131)\\n</td></tr><tr><td class = \"rowNumber\" style = \"font-weight: bold; text-align: right;\">6</td><td style = \"text-align: right;\">5.93414</td><td style = \"text-align: left;\">(1.55863, 0.935565)\\n</td><td style = \"text-align: left;\">(0.341999, 0.939692)\\n</td></tr><tr><td class = \"rowNumber\" style = \"font-weight: bold; text-align: right;\">7</td><td style = \"text-align: right;\">5.96886</td><td style = \"text-align: left;\">(1.58955, 1.03066)\\n</td><td style = \"text-align: left;\">(0.309169, 0.951)\\n</td></tr><tr><td class = \"rowNumber\" style = \"font-weight: bold; text-align: right;\">8</td><td style = \"text-align: right;\">5.96821</td><td style = \"text-align: left;\">(1.62052, 1.12574)\\n</td><td style = \"text-align: left;\">(0.309788, 0.950798)\\n</td></tr><tr><td class = \"rowNumber\" style = \"font-weight: bold; text-align: right;\">9</td><td style = \"text-align: right;\">5.97378</td><td style = \"text-align: left;\">(1.65097, 1.221)\\n</td><td style = \"text-align: left;\">(0.304488, 0.952509)\\n</td></tr><tr><td class = \"rowNumber\" style = \"font-weight: bold; text-align: right;\">10</td><td style = \"text-align: right;\">5.97556</td><td style = \"text-align: left;\">(1.68125, 1.3163)\\n</td><td style = \"text-align: left;\">(0.302793, 0.953049)\\n</td></tr><tr><td class = \"rowNumber\" style = \"font-weight: bold; text-align: right;\">11</td><td style = \"text-align: right;\">5.97125</td><td style = \"text-align: left;\">(1.71194, 1.41147)\\n</td><td style = \"text-align: left;\">(0.306901, 0.951734)\\n</td></tr><tr><td class = \"rowNumber\" style = \"font-weight: bold; text-align: right;\">12</td><td style = \"text-align: right;\">5.96103</td><td style = \"text-align: left;\">(1.7436, 1.50633)\\n</td><td style = \"text-align: left;\">(0.316609, 0.948549)\\n</td></tr><tr><td class = \"rowNumber\" style = \"font-weight: bold; text-align: right;\">13</td><td style = \"text-align: right;\">5.96489</td><td style = \"text-align: left;\">(1.7749, 1.60131)\\n</td><td style = \"text-align: left;\">(0.312947, 0.949764)\\n</td></tr><tr><td style = \"text-align: right;\">&vellip;</td><td style = \"text-align: right;\">&vellip;</td><td style = \"text-align: right;\">&vellip;</td><td style = \"text-align: right;\">&vellip;</td></tr><tr><td class = \"rowNumber\" style = \"font-weight: bold; text-align: right;\">390</td><td style = \"text-align: right;\">2.88599</td><td style = \"text-align: left;\">(2.88306, 8.85688)\\n</td><td style = \"text-align: left;\">(-0.252831, -0.967503)\\n</td></tr><tr><td class = \"rowNumber\" style = \"font-weight: bold; text-align: right;\">391</td><td style = \"text-align: right;\">3.13791</td><td style = \"text-align: left;\">(2.88269, 8.75689)\\n</td><td style = \"text-align: left;\">(-0.00368669, -0.999986)\\n</td></tr><tr><td class = \"rowNumber\" style = \"font-weight: bold; text-align: right;\">392</td><td style = \"text-align: right;\">3.11555</td><td style = \"text-align: left;\">(2.88008, 8.65692)\\n</td><td style = \"text-align: left;\">(-0.0260437, -0.999653)\\n</td></tr><tr><td class = \"rowNumber\" style = \"font-weight: bold; text-align: right;\">393</td><td style = \"text-align: right;\">3.42836</td><td style = \"text-align: left;\">(2.90837, 8.561)\\n</td><td style = \"text-align: left;\">(0.282848, -0.959158)\\n</td></tr><tr><td class = \"rowNumber\" style = \"font-weight: bold; text-align: right;\">394</td><td style = \"text-align: right;\">3.56055</td><td style = \"text-align: left;\">(2.94905, 8.46965)\\n</td><td style = \"text-align: left;\">(0.406805, -0.913507)\\n</td></tr><tr><td class = \"rowNumber\" style = \"font-weight: bold; text-align: right;\">395</td><td style = \"text-align: right;\">3.68816</td><td style = \"text-align: left;\">(3.00102, 8.38422)\\n</td><td style = \"text-align: left;\">(0.519756, -0.854307)\\n</td></tr><tr><td class = \"rowNumber\" style = \"font-weight: bold; text-align: right;\">396</td><td style = \"text-align: right;\">3.79492</td><td style = \"text-align: left;\">(3.06181, 8.30482)\\n</td><td style = \"text-align: left;\">(0.60783, -0.794057)\\n</td></tr><tr><td class = \"rowNumber\" style = \"font-weight: bold; text-align: right;\">397</td><td style = \"text-align: right;\">3.81957</td><td style = \"text-align: left;\">(3.12453, 8.22693)\\n</td><td style = \"text-align: left;\">(0.627211, -0.77884)\\n</td></tr><tr><td class = \"rowNumber\" style = \"font-weight: bold; text-align: right;\">398</td><td style = \"text-align: right;\">3.99304</td><td style = \"text-align: left;\">(3.19975, 8.16104)\\n</td><td style = \"text-align: left;\">(0.752228, -0.658892)\\n</td></tr><tr><td class = \"rowNumber\" style = \"font-weight: bold; text-align: right;\">399</td><td style = \"text-align: right;\">3.98238</td><td style = \"text-align: left;\">(3.27427, 8.09436)\\n</td><td style = \"text-align: left;\">(0.745165, -0.666871)\\n</td></tr><tr><td class = \"rowNumber\" style = \"font-weight: bold; text-align: right;\">400</td><td style = \"text-align: right;\">3.98959</td><td style = \"text-align: left;\">(3.34926, 8.02821)\\n</td><td style = \"text-align: left;\">(0.749952, -0.661482)\\n</td></tr><tr><td class = \"rowNumber\" style = \"font-weight: bold; text-align: right;\">401</td><td style = \"text-align: right;\">4.23491</td><td style = \"text-align: left;\">(3.43808, 7.98226)\\n</td><td style = \"text-align: left;\">(0.888148, -0.459541)\\n</td></tr></tbody></table></div>"
      ],
      "text/latex": [
       "\\begin{tabular}{r|ccc}\n",
       "\t& orientation & pos & vel\\\\\n",
       "\t\\hline\n",
       "\t& Float64 & Vect… & Vect…\\\\\n",
       "\t\\hline\n",
       "\t1 & 3.52074 & (1.25185, 0.623397)\\textbackslash{}n & (0.370132, -0.928979)\\textbackslash{}n \\\\\n",
       "\t2 & 4.54489 & (1.35045, 0.606725)\\textbackslash{}n & (0.986, -0.166715)\\textbackslash{}n \\\\\n",
       "\t3 & 5.3389 & (1.43146, 0.665357)\\textbackslash{}n & (0.810068, 0.586318)\\textbackslash{}n \\\\\n",
       "\t4 & 5.71167 & (1.48555, 0.749465)\\textbackslash{}n & (0.540905, 0.841075)\\textbackslash{}n \\\\\n",
       "\t5 & 5.88384 & (1.52443, 0.841596)\\textbackslash{}n & (0.388809, 0.92131)\\textbackslash{}n \\\\\n",
       "\t6 & 5.93414 & (1.55863, 0.935565)\\textbackslash{}n & (0.341999, 0.939692)\\textbackslash{}n \\\\\n",
       "\t7 & 5.96886 & (1.58955, 1.03066)\\textbackslash{}n & (0.309169, 0.951)\\textbackslash{}n \\\\\n",
       "\t8 & 5.96821 & (1.62052, 1.12574)\\textbackslash{}n & (0.309788, 0.950798)\\textbackslash{}n \\\\\n",
       "\t9 & 5.97378 & (1.65097, 1.221)\\textbackslash{}n & (0.304488, 0.952509)\\textbackslash{}n \\\\\n",
       "\t10 & 5.97556 & (1.68125, 1.3163)\\textbackslash{}n & (0.302793, 0.953049)\\textbackslash{}n \\\\\n",
       "\t11 & 5.97125 & (1.71194, 1.41147)\\textbackslash{}n & (0.306901, 0.951734)\\textbackslash{}n \\\\\n",
       "\t12 & 5.96103 & (1.7436, 1.50633)\\textbackslash{}n & (0.316609, 0.948549)\\textbackslash{}n \\\\\n",
       "\t13 & 5.96489 & (1.7749, 1.60131)\\textbackslash{}n & (0.312947, 0.949764)\\textbackslash{}n \\\\\n",
       "\t14 & 5.94601 & (1.80798, 1.69567)\\textbackslash{}n & (0.330825, 0.943685)\\textbackslash{}n \\\\\n",
       "\t15 & 5.9267 & (1.84288, 1.78939)\\textbackslash{}n & (0.34898, 0.937123)\\textbackslash{}n \\\\\n",
       "\t16 & 5.8963 & (1.88061, 1.88199)\\textbackslash{}n & (0.377301, 0.926084)\\textbackslash{}n \\\\\n",
       "\t17 & 5.8761 & (1.9202, 1.97382)\\textbackslash{}n & (0.395933, 0.918273)\\textbackslash{}n \\\\\n",
       "\t18 & 5.85198 & (1.962, 2.06467)\\textbackslash{}n & (0.417963, 0.908457)\\textbackslash{}n \\\\\n",
       "\t19 & 5.81497 & (2.00713, 2.1539)\\textbackslash{}n & (0.451288, 0.892371)\\textbackslash{}n \\\\\n",
       "\t20 & 5.78204 & (2.05517, 2.24161)\\textbackslash{}n & (0.48043, 0.877026)\\textbackslash{}n \\\\\n",
       "\t21 & 5.7432 & (2.10658, 2.32738)\\textbackslash{}n & (0.514123, 0.857709)\\textbackslash{}n \\\\\n",
       "\t22 & 5.71134 & (2.1607, 2.41147)\\textbackslash{}n & (0.541184, 0.840897)\\textbackslash{}n \\\\\n",
       "\t23 & 5.69036 & (2.21657, 2.4944)\\textbackslash{}n & (0.558705, 0.829359)\\textbackslash{}n \\\\\n",
       "\t24 & 5.65755 & (2.27513, 2.57546)\\textbackslash{}n & (0.585608, 0.810587)\\textbackslash{}n \\\\\n",
       "\t25 & 5.61163 & (2.33735, 2.65375)\\textbackslash{}n & (0.622199, 0.782851)\\textbackslash{}n \\\\\n",
       "\t26 & 5.57289 & (2.40256, 2.72956)\\textbackslash{}n & (0.652055, 0.758163)\\textbackslash{}n \\\\\n",
       "\t27 & 5.55033 & (2.46946, 2.80389)\\textbackslash{}n & (0.668988, 0.743265)\\textbackslash{}n \\\\\n",
       "\t28 & 5.49873 & (2.5401, 2.87467)\\textbackslash{}n & (0.706438, 0.707766)\\textbackslash{}n \\\\\n",
       "\t29 & 5.43793 & (2.61491, 2.94102)\\textbackslash{}n & (0.748136, 0.663536)\\textbackslash{}n \\\\\n",
       "\t30 & 5.36543 & (2.69434, 3.00178)\\textbackslash{}n & (0.794234, 0.607602)\\textbackslash{}n \\\\\n",
       "\t$\\dots$ & $\\dots$ & $\\dots$ & $\\dots$ \\\\\n",
       "\\end{tabular}\n"
      ],
      "text/plain": [
       "\u001b[1m401×3 DataFrame\u001b[0m\n",
       "\u001b[1m Row \u001b[0m│\u001b[1m orientation \u001b[0m\u001b[1m pos                   \u001b[0m\u001b[1m vel                        \u001b[0m\n",
       "     │\u001b[90m Float64     \u001b[0m\u001b[90m Vect…                 \u001b[0m\u001b[90m Vect…                      \u001b[0m\n",
       "─────┼────────────────────────────────────────────────────────────────\n",
       "   1 │     3.52074  (1.25185, 0.623397)\\n  (0.370132, -0.928979)\\n\n",
       "   2 │     4.54489  (1.35045, 0.606725)\\n  (0.986, -0.166715)\\n\n",
       "   3 │     5.3389   (1.43146, 0.665357)\\n  (0.810068, 0.586318)\\n\n",
       "   4 │     5.71167  (1.48555, 0.749465)\\n  (0.540905, 0.841075)\\n\n",
       "   5 │     5.88384  (1.52443, 0.841596)\\n  (0.388809, 0.92131)\\n\n",
       "   6 │     5.93414  (1.55863, 0.935565)\\n  (0.341999, 0.939692)\\n\n",
       "   7 │     5.96886  (1.58955, 1.03066)\\n   (0.309169, 0.951)\\n\n",
       "   8 │     5.96821  (1.62052, 1.12574)\\n   (0.309788, 0.950798)\\n\n",
       "   9 │     5.97378  (1.65097, 1.221)\\n     (0.304488, 0.952509)\\n\n",
       "  10 │     5.97556  (1.68125, 1.3163)\\n    (0.302793, 0.953049)\\n\n",
       "  11 │     5.97125  (1.71194, 1.41147)\\n   (0.306901, 0.951734)\\n\n",
       "  ⋮  │      ⋮                 ⋮                        ⋮\n",
       " 392 │     3.11555  (2.88008, 8.65692)\\n   (-0.0260437, -0.999653)\\n\n",
       " 393 │     3.42836  (2.90837, 8.561)\\n     (0.282848, -0.959158)\\n\n",
       " 394 │     3.56055  (2.94905, 8.46965)\\n   (0.406805, -0.913507)\\n\n",
       " 395 │     3.68816  (3.00102, 8.38422)\\n   (0.519756, -0.854307)\\n\n",
       " 396 │     3.79492  (3.06181, 8.30482)\\n   (0.60783, -0.794057)\\n\n",
       " 397 │     3.81957  (3.12453, 8.22693)\\n   (0.627211, -0.77884)\\n\n",
       " 398 │     3.99304  (3.19975, 8.16104)\\n   (0.752228, -0.658892)\\n\n",
       " 399 │     3.98238  (3.27427, 8.09436)\\n   (0.745165, -0.666871)\\n\n",
       " 400 │     3.98959  (3.34926, 8.02821)\\n   (0.749952, -0.661482)\\n\n",
       " 401 │     4.23491  (3.43808, 7.98226)\\n   (0.888148, -0.459541)\\n\n",
       "\u001b[36m                                                      380 rows omitted\u001b[0m"
      ]
     },
     "execution_count": 12,
     "metadata": {},
     "output_type": "execute_result"
    }
   ],
   "source": [
    "df = get_agent_data(model.agents[1], model).record"
   ]
  },
  {
   "cell_type": "code",
   "execution_count": null,
   "metadata": {},
   "outputs": [],
   "source": []
  }
 ],
 "metadata": {
  "@webio": {
   "lastCommId": "ad30d609c65743f08cc3254fa1cbd49a",
   "lastKernelId": "8b32b75f-1993-44af-8386-c0f586724969"
  },
  "kernelspec": {
   "display_name": "Julia 1.9.2",
   "language": "julia",
   "name": "julia-1.9"
  },
  "language_info": {
   "file_extension": ".jl",
   "mimetype": "application/julia",
   "name": "julia",
   "version": "1.9.2"
  }
 },
 "nbformat": 4,
 "nbformat_minor": 4
}
