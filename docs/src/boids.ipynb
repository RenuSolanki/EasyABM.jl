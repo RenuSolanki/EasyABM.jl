{
 "cells": [
  {
   "cell_type": "markdown",
   "metadata": {},
   "source": [
    "# Flocking"
   ]
  },
  {
   "cell_type": "code",
   "execution_count": 1,
   "metadata": {},
   "outputs": [
    {
     "name": "stderr",
     "output_type": "stream",
     "text": [
      "\u001b[32m\u001b[1m  Activating\u001b[22m\u001b[39m project at `~/Documents/EasyABM`\n"
     ]
    },
    {
     "data": {
      "application/vnd.webio.node+json": {
       "children": [],
       "instanceArgs": {
        "namespace": "html",
        "tag": "div"
       },
       "nodeType": "DOM",
       "props": {},
       "type": "node"
      },
      "text/html": [
       "<div style=\"padding: 1em; background-color: #f8d6da; border: 1px solid #f5c6cb; font-weight: bold;\">\n",
       "<p>The WebIO Jupyter extension was not detected. See the\n",
       "<a href=\"https://juliagizmos.github.io/WebIO.jl/latest/providers/ijulia/\" target=\"_blank\">\n",
       "    WebIO Jupyter integration documentation\n",
       "</a>\n",
       "for more information.\n",
       "</div>\n"
      ],
      "text/plain": [
       "WebIO._IJuliaInit()"
      ]
     },
     "metadata": {
      "application/vnd.webio.node+json": {
       "kernelId": "3c99e793-8d43-4fcc-96c3-624d149d5ed6"
      }
     },
     "output_type": "display_data"
    }
   ],
   "source": [
    "#First two lines are not needed if using installed version of EasyABM\n",
    "using Pkg, Revise\n",
    "Pkg.activate(joinpath(@__DIR__,\"../..\"))\n",
    "using EasyABM\n"
   ]
  },
  {
   "cell_type": "markdown",
   "metadata": {},
   "source": [
    "# Step 1: Create Agents and Model\n",
    "\n",
    "Lets create 100 agents with properties `shape`, `pos`, `vel` and `orientation` (The `orientation` property is used internally by EasyABM to draw the direction agent is facing). The position `pos` is only accepted as a Vect which is an inbuilt vector type in EasyABM. It is also recommended for both convenience as well as performance to use Vect type for any vectorial properties in the model such as velocity and forces. The `keeps_record_of` argument is set of properties that the agent will record during time evolution. The model is defined with parameters:\n",
    "\n",
    "* `min_dis` : The distance between boids below which they start repelling each other.\n",
    "* `coh_fac` : The proportionality constant for the cohere force. \n",
    "* `sep_fac` : The proportionality constant for the separation force.\n",
    "* `aln_fac` : The proportionality constant for the alignment force.\n",
    "* `vis_range` : The visual range of boids.\n",
    "* `dt` : The proportionality constant between change in position and velocity.\n",
    "\n",
    "The argument `agents_type` is set to Static which means that the agents number will remain fixed during simulation."
   ]
  },
  {
   "cell_type": "code",
   "execution_count": 2,
   "metadata": {},
   "outputs": [
    {
     "data": {
      "text/plain": [
       "EasyABM SpaceModel2D{EasyABM.StaticType, Float64, EasyABM.PeriodicType}: In a EasyABM.StaticType model number of agents is fixed.\n"
      ]
     },
     "execution_count": 2,
     "metadata": {},
     "output_type": "execute_result"
    }
   ],
   "source": [
    "boids = con_2d_agents(100, shape = :arrow, pos = Vect(0.0,0.0), \n",
    "    vel=Vect(0.0,0.0), orientation = 0.0, keeps_record_of = Set([:pos, :vel, :orientation]))\n",
    "model = create_2d_model(boids,\n",
    "    agents_type=Static, space_type = Periodic, \n",
    "    min_dis = 0.3, coh_fac = 0.05, \n",
    "    sep_fac = 0.5, dt= 0.1, vis_range = 2.0, aln_fac = 0.35)"
   ]
  },
  {
   "cell_type": "markdown",
   "metadata": {},
   "source": [
    "\n",
    "## Step 2: Initialise the model\n",
    "\n",
    "In this step we set the positions, velocities and orientations of boids and initialise the model."
   ]
  },
  {
   "cell_type": "code",
   "execution_count": 3,
   "metadata": {},
   "outputs": [],
   "source": [
    "function initialiser!(model)\n",
    "    xdim, ydim = model.size\n",
    "    for boid in model.agents\n",
    "        boid.pos = Vect(rand()*xdim, rand()*ydim)\n",
    "        boid.orientation = rand()*2*3.14\n",
    "        boid.vel = Vect(-sin(boid.orientation), cos(boid.orientation))\n",
    "    end\n",
    "end\n",
    "\n",
    "init_model!(model, initialiser = initialiser!)"
   ]
  },
  {
   "cell_type": "markdown",
   "metadata": {},
   "source": [
    "## Step 3: Defining the step_rule! and running the model\n",
    "\n",
    "In this step we implement the step logic of the flocking model in the `step_rule!` function and run the model for 200 steps. "
   ]
  },
  {
   "cell_type": "code",
   "execution_count": 4,
   "metadata": {},
   "outputs": [
    {
     "data": {
      "text/plain": [
       "1.0e-5"
      ]
     },
     "execution_count": 4,
     "metadata": {},
     "output_type": "execute_result"
    }
   ],
   "source": [
    "ep = 0.00001 # can declare it as const for efficiency"
   ]
  },
  {
   "cell_type": "code",
   "execution_count": 5,
   "metadata": {},
   "outputs": [],
   "source": [
    "function step_rule!(model)\n",
    "    dt = model.parameters.dt\n",
    "    for boid in model.agents\n",
    "        nbrs = neighbors(boid, model, model.parameters.vis_range)\n",
    "        coh_force = Vect(0.0,0.0) # For a Vect all coordinates must be of same type\n",
    "        sep_force = Vect(0.0,0.0) \n",
    "        aln_force = Vect(0.0,0.0)\n",
    "        num = 0\n",
    "        for nbr in nbrs\n",
    "            num+=1\n",
    "            vec = nbr.pos - boid.pos\n",
    "            coh_force += vec\n",
    "            if veclength(vec)< model.parameters.min_dis\n",
    "                sep_force -= vec\n",
    "            end\n",
    "            aln_force += nbr.vel\n",
    "        end\n",
    "        aln_force = num>0 ? (aln_force / num - boid.vel) * model.parameters.aln_fac : aln_force\n",
    "        num = max(1, num)\n",
    "        coh_force *= (model.parameters.coh_fac / num)\n",
    "        sep_force *=  model.parameters.sep_fac\n",
    "        boid.vel  += (coh_force + sep_force) + aln_force\n",
    "        boid.vel  /= (veclength(boid.vel)+ep)\n",
    "        boid.orientation = calculate_direction(boid.vel)\n",
    "        boid.pos += boid.vel*dt\n",
    "    end\n",
    "end\n",
    "\n",
    "run_model!(model, steps=200, step_rule = step_rule!)"
   ]
  },
  {
   "cell_type": "markdown",
   "metadata": {},
   "source": [
    "## Step 4: Visualisation"
   ]
  },
  {
   "cell_type": "markdown",
   "metadata": {},
   "source": [
    "In order to draw the model at a specific frame, say 4th, one can use following function"
   ]
  },
  {
   "cell_type": "code",
   "execution_count": 6,
   "metadata": {},
   "outputs": [
    {
     "data": {
      "image/png": "[encoded data removed]",
      "text/plain": []
     },
     "execution_count": 6,
     "metadata": {},
     "output_type": "execute_result"
    }
   ],
   "source": [
    "draw_frame(model, frame = 4 )"
   ]
  },
  {
   "cell_type": "markdown",
   "metadata": {},
   "source": [
    "If one wants to see the animation of the last model run, it can be done as "
   ]
  },
  {
   "cell_type": "code",
   "execution_count": 7,
   "metadata": {},
   "outputs": [
    {
     "data": {
      "application/vnd.webio.node+json": {
       "children": [
        {
         "children": [
          {
           "children": [
            {
             "children": [
              {
               "children": [
                {
                 "children": [
                  {
                   "children": [
                    {
                     "children": [
                      "time"
                     ],
                     "instanceArgs": {
                      "namespace": "html",
                      "tag": "label"
                     },
                     "nodeType": "DOM",
                     "props": {
                      "className": "interact ",
                      "style": {
                       "padding": "5px 10px 0px 10px"
                      }
                     },
                     "type": "node"
                    }
                   ],
                   "instanceArgs": {
                    "namespace": "html",
                    "tag": "div"
                   },
                   "nodeType": "DOM",
                   "props": {
                    "className": "interact-flex-row-left"
                   },
                   "type": "node"
                  },
                  {
                   "children": [
                    {
                     "children": [],
                     "instanceArgs": {
                      "namespace": "html",
                      "tag": "input"
                     },
                     "nodeType": "DOM",
                     "props": {
                      "attributes": {
                       "data-bind": "numericValue: index, valueUpdate: 'input', event: {change: function (){this.changes(this.changes()+1)}}",
                       "orient": "horizontal",
                       "type": "range"
                      },
                      "className": "slider slider is-fullwidth",
                      "max": 201,
                      "min": 1,
                      "step": 1,
                      "style": {}
                     },
                     "type": "node"
                    }
                   ],
                   "instanceArgs": {
                    "namespace": "html",
                    "tag": "div"
                   },
                   "nodeType": "DOM",
                   "props": {
                    "className": "interact-flex-row-center"
                   },
                   "type": "node"
                  },
                  {
                   "children": [
                    {
                     "children": [],
                     "instanceArgs": {
                      "namespace": "html",
                      "tag": "p"
                     },
                     "nodeType": "DOM",
                     "props": {
                      "attributes": {
                       "data-bind": "text: formatted_val"
                      }
                     },
                     "type": "node"
                    }
                   ],
                   "instanceArgs": {
                    "namespace": "html",
                    "tag": "div"
                   },
                   "nodeType": "DOM",
                   "props": {
                    "className": "interact-flex-row-right"
                   },
                   "type": "node"
                  }
                 ],
                 "instanceArgs": {
                  "namespace": "html",
                  "tag": "div"
                 },
                 "nodeType": "DOM",
                 "props": {
                  "className": "interact-flex-row interact-widget"
                 },
                 "type": "node"
                }
               ],
               "instanceArgs": {
                "handlers": {
                 "changes": [
                  "(function (val){return (val!=this.model[\"changes\"]()) ? (this.valueFromJulia[\"changes\"]=true, this.model[\"changes\"](val)) : undefined})"
                 ],
                 "index": [
                  "(function (val){return (val!=this.model[\"index\"]()) ? (this.valueFromJulia[\"index\"]=true, this.model[\"index\"](val)) : undefined})"
                 ]
                },
                "id": "14535963727099491625",
                "imports": {
                 "data": [
                  {
                   "name": "knockout",
                   "type": "js",
                   "url": "/assetserver/727383f2a47bd31570b7da84eee7b022dd6d7c78-knockout.js"
                  },
                  {
                   "name": "knockout_punches",
                   "type": "js",
                   "url": "/assetserver/382b41b3b1bd9f26f75861d360bad7f8beea211f-knockout_punches.js"
                  },
                  {
                   "name": null,
                   "type": "js",
                   "url": "/assetserver/5ab20f1060420992a9b82a65b735dee4d81ef413-all.js"
                  },
                  {
                   "name": null,
                   "type": "css",
                   "url": "/assetserver/1cc0ed62837210b80a182cc3676512f895dab686-style.css"
                  },
                  {
                   "name": null,
                   "type": "css",
                   "url": "/assetserver/2eee816f616df3549d7044d45e744fbf8d42bfa1-bulma_confined.min.css"
                  }
                 ],
                 "type": "async_block"
                },
                "mount_callbacks": [
                 "function () {\n    var handler = (function (ko, koPunches) {\n    ko.punches.enableAll();\n    ko.bindingHandlers.numericValue = {\n        init: function(element, valueAccessor, allBindings, data, context) {\n            var stringified = ko.observable(ko.unwrap(valueAccessor()));\n            stringified.subscribe(function(value) {\n                var val = parseFloat(value);\n                if (!isNaN(val)) {\n                    valueAccessor()(val);\n                }\n            });\n            valueAccessor().subscribe(function(value) {\n                var str = JSON.stringify(value);\n                if ((str == \"0\") && ([\"-0\", \"-0.\"].indexOf(stringified()) >= 0))\n                     return;\n                 if ([\"null\", \"\"].indexOf(str) >= 0)\n                     return;\n                stringified(str);\n            });\n            ko.applyBindingsToNode(\n                element,\n                {\n                    value: stringified,\n                    valueUpdate: allBindings.get('valueUpdate'),\n                },\n                context,\n            );\n        }\n    };\n    var json_data = {\"formatted_vals\":[\"1\",\"2\",\"3\",\"4\",\"5\",\"6\",\"7\",\"8\",\"9\",\"10\",\"11\",\"12\",\"13\",\"14\",\"15\",\"16\",\"17\",\"18\",\"19\",\"20\",\"21\",\"22\",\"23\",\"24\",\"25\",\"26\",\"27\",\"28\",\"29\",\"30\",\"31\",\"32\",\"33\",\"34\",\"35\",\"36\",\"37\",\"38\",\"39\",\"40\",\"41\",\"42\",\"43\",\"44\",\"45\",\"46\",\"47\",\"48\",\"49\",\"50\",\"51\",\"52\",\"53\",\"54\",\"55\",\"56\",\"57\",\"58\",\"59\",\"60\",\"61\",\"62\",\"63\",\"64\",\"65\",\"66\",\"67\",\"68\",\"69\",\"70\",\"71\",\"72\",\"73\",\"74\",\"75\",\"76\",\"77\",\"78\",\"79\",\"80\",\"81\",\"82\",\"83\",\"84\",\"85\",\"86\",\"87\",\"88\",\"89\",\"90\",\"91\",\"92\",\"93\",\"94\",\"95\",\"96\",\"97\",\"98\",\"99\",\"100\",\"101\",\"102\",\"103\",\"104\",\"105\",\"106\",\"107\",\"108\",\"109\",\"110\",\"111\",\"112\",\"113\",\"114\",\"115\",\"116\",\"117\",\"118\",\"119\",\"120\",\"121\",\"122\",\"123\",\"124\",\"125\",\"126\",\"127\",\"128\",\"129\",\"130\",\"131\",\"132\",\"133\",\"134\",\"135\",\"136\",\"137\",\"138\",\"139\",\"140\",\"141\",\"142\",\"143\",\"144\",\"145\",\"146\",\"147\",\"148\",\"149\",\"150\",\"151\",\"152\",\"153\",\"154\",\"155\",\"156\",\"157\",\"158\",\"159\",\"160\",\"161\",\"162\",\"163\",\"164\",\"165\",\"166\",\"167\",\"168\",\"169\",\"170\",\"171\",\"172\",\"173\",\"174\",\"175\",\"176\",\"177\",\"178\",\"179\",\"180\",\"181\",\"182\",\"183\",\"184\",\"185\",\"186\",\"187\",\"188\",\"189\",\"190\",\"191\",\"192\",\"193\",\"194\",\"195\",\"196\",\"197\",\"198\",\"199\",\"200\",\"201\"],\"changes\":WebIO.getval({\"name\":\"changes\",\"scope\":\"14535963727099491625\",\"id\":\"17552311157927145738\",\"type\":\"observable\"}),\"index\":WebIO.getval({\"name\":\"index\",\"scope\":\"14535963727099491625\",\"id\":\"18309381811582750417\",\"type\":\"observable\"})};\n    var self = this;\n    function AppViewModel() {\n        for (var key in json_data) {\n            var el = json_data[key];\n            this[key] = Array.isArray(el) ? ko.observableArray(el) : ko.observable(el);\n        }\n        \n        [this[\"formatted_val\"]=ko.computed(    function(){\n        return this.formatted_vals()[parseInt(this.index())-(1)];\n    }\n,this)]\n        [this[\"changes\"].subscribe((function (val){!(this.valueFromJulia[\"changes\"]) ? (WebIO.setval({\"name\":\"changes\",\"scope\":\"14535963727099491625\",\"id\":\"17552311157927145738\",\"type\":\"observable\"},val)) : undefined; return this.valueFromJulia[\"changes\"]=false}),self),this[\"index\"].subscribe((function (val){!(this.valueFromJulia[\"index\"]) ? (WebIO.setval({\"name\":\"index\",\"scope\":\"14535963727099491625\",\"id\":\"18309381811582750417\",\"type\":\"observable\"},val)) : undefined; return this.valueFromJulia[\"index\"]=false}),self)]\n        \n    }\n    self.model = new AppViewModel();\n    self.valueFromJulia = {};\n    for (var key in json_data) {\n        self.valueFromJulia[key] = false;\n    }\n    ko.applyBindings(self.model, self.dom);\n}\n);\n    (WebIO.importBlock({\"data\":[{\"name\":\"knockout\",\"type\":\"js\",\"url\":\"/assetserver/727383f2a47bd31570b7da84eee7b022dd6d7c78-knockout.js\"},{\"name\":\"knockout_punches\",\"type\":\"js\",\"url\":\"/assetserver/382b41b3b1bd9f26f75861d360bad7f8beea211f-knockout_punches.js\"}],\"type\":\"async_block\"})).then((imports) => handler.apply(this, imports));\n}\n"
                ],
                "observables": {
                 "changes": {
                  "id": "17552311157927145738",
                  "sync": false,
                  "value": 0
                 },
                 "index": {
                  "id": "18309381811582750417",
                  "sync": true,
                  "value": 101
                 }
                },
                "systemjs_options": null
               },
               "nodeType": "Scope",
               "props": {},
               "type": "node"
              }
             ],
             "instanceArgs": {
              "namespace": "html",
              "tag": "div"
             },
             "nodeType": "DOM",
             "props": {
              "className": "field interact-widget"
             },
             "type": "node"
            },
            {
             "children": [
              {
               "children": [
                {
                 "children": [
                  {
                   "children": [
                    {
                     "children": [
                      "scale"
                     ],
                     "instanceArgs": {
                      "namespace": "html",
                      "tag": "label"
                     },
                     "nodeType": "DOM",
                     "props": {
                      "className": "interact ",
                      "style": {
                       "padding": "5px 10px 0px 10px"
                      }
                     },
                     "type": "node"
                    }
                   ],
                   "instanceArgs": {
                    "namespace": "html",
                    "tag": "div"
                   },
                   "nodeType": "DOM",
                   "props": {
                    "className": "interact-flex-row-left"
                   },
                   "type": "node"
                  },
                  {
                   "children": [
                    {
                     "children": [],
                     "instanceArgs": {
                      "namespace": "html",
                      "tag": "input"
                     },
                     "nodeType": "DOM",
                     "props": {
                      "attributes": {
                       "data-bind": "numericValue: index, valueUpdate: 'input', event: {change: function (){this.changes(this.changes()+1)}}",
                       "orient": "horizontal",
                       "type": "range"
                      },
                      "className": "slider slider is-fullwidth",
                      "max": 20,
                      "min": 1,
                      "step": 1,
                      "style": {}
                     },
                     "type": "node"
                    }
                   ],
                   "instanceArgs": {
                    "namespace": "html",
                    "tag": "div"
                   },
                   "nodeType": "DOM",
                   "props": {
                    "className": "interact-flex-row-center"
                   },
                   "type": "node"
                  },
                  {
                   "children": [
                    {
                     "children": [],
                     "instanceArgs": {
                      "namespace": "html",
                      "tag": "p"
                     },
                     "nodeType": "DOM",
                     "props": {
                      "attributes": {
                       "data-bind": "text: formatted_val"
                      }
                     },
                     "type": "node"
                    }
                   ],
                   "instanceArgs": {
                    "namespace": "html",
                    "tag": "div"
                   },
                   "nodeType": "DOM",
                   "props": {
                    "className": "interact-flex-row-right"
                   },
                   "type": "node"
                  }
                 ],
                 "instanceArgs": {
                  "namespace": "html",
                  "tag": "div"
                 },
                 "nodeType": "DOM",
                 "props": {
                  "className": "interact-flex-row interact-widget"
                 },
                 "type": "node"
                }
               ],
               "instanceArgs": {
                "handlers": {
                 "changes": [
                  "(function (val){return (val!=this.model[\"changes\"]()) ? (this.valueFromJulia[\"changes\"]=true, this.model[\"changes\"](val)) : undefined})"
                 ],
                 "index": [
                  "(function (val){return (val!=this.model[\"index\"]()) ? (this.valueFromJulia[\"index\"]=true, this.model[\"index\"](val)) : undefined})"
                 ]
                },
                "id": "10819220074708335206",
                "imports": {
                 "data": [
                  {
                   "name": "knockout",
                   "type": "js",
                   "url": "/assetserver/727383f2a47bd31570b7da84eee7b022dd6d7c78-knockout.js"
                  },
                  {
                   "name": "knockout_punches",
                   "type": "js",
                   "url": "/assetserver/382b41b3b1bd9f26f75861d360bad7f8beea211f-knockout_punches.js"
                  },
                  {
                   "name": null,
                   "type": "js",
                   "url": "/assetserver/5ab20f1060420992a9b82a65b735dee4d81ef413-all.js"
                  },
                  {
                   "name": null,
                   "type": "css",
                   "url": "/assetserver/1cc0ed62837210b80a182cc3676512f895dab686-style.css"
                  },
                  {
                   "name": null,
                   "type": "css",
                   "url": "/assetserver/2eee816f616df3549d7044d45e744fbf8d42bfa1-bulma_confined.min.css"
                  }
                 ],
                 "type": "async_block"
                },
                "mount_callbacks": [
                 "function () {\n    var handler = (function (ko, koPunches) {\n    ko.punches.enableAll();\n    ko.bindingHandlers.numericValue = {\n        init: function(element, valueAccessor, allBindings, data, context) {\n            var stringified = ko.observable(ko.unwrap(valueAccessor()));\n            stringified.subscribe(function(value) {\n                var val = parseFloat(value);\n                if (!isNaN(val)) {\n                    valueAccessor()(val);\n                }\n            });\n            valueAccessor().subscribe(function(value) {\n                var str = JSON.stringify(value);\n                if ((str == \"0\") && ([\"-0\", \"-0.\"].indexOf(stringified()) >= 0))\n                     return;\n                 if ([\"null\", \"\"].indexOf(str) >= 0)\n                     return;\n                stringified(str);\n            });\n            ko.applyBindingsToNode(\n                element,\n                {\n                    value: stringified,\n                    valueUpdate: allBindings.get('valueUpdate'),\n                },\n                context,\n            );\n        }\n    };\n    var json_data = {\"formatted_vals\":[\"0.1\",\"0.2\",\"0.3\",\"0.4\",\"0.5\",\"0.6\",\"0.7\",\"0.8\",\"0.9\",\"1.0\",\"1.1\",\"1.2\",\"1.3\",\"1.4\",\"1.5\",\"1.6\",\"1.7\",\"1.8\",\"1.9\",\"2.0\"],\"changes\":WebIO.getval({\"name\":\"changes\",\"scope\":\"10819220074708335206\",\"id\":\"14262898987701607693\",\"type\":\"observable\"}),\"index\":WebIO.getval({\"name\":\"index\",\"scope\":\"10819220074708335206\",\"id\":\"7618913512148089945\",\"type\":\"observable\"})};\n    var self = this;\n    function AppViewModel() {\n        for (var key in json_data) {\n            var el = json_data[key];\n            this[key] = Array.isArray(el) ? ko.observableArray(el) : ko.observable(el);\n        }\n        \n        [this[\"formatted_val\"]=ko.computed(    function(){\n        return this.formatted_vals()[parseInt(this.index())-(1)];\n    }\n,this)]\n        [this[\"changes\"].subscribe((function (val){!(this.valueFromJulia[\"changes\"]) ? (WebIO.setval({\"name\":\"changes\",\"scope\":\"10819220074708335206\",\"id\":\"14262898987701607693\",\"type\":\"observable\"},val)) : undefined; return this.valueFromJulia[\"changes\"]=false}),self),this[\"index\"].subscribe((function (val){!(this.valueFromJulia[\"index\"]) ? (WebIO.setval({\"name\":\"index\",\"scope\":\"10819220074708335206\",\"id\":\"7618913512148089945\",\"type\":\"observable\"},val)) : undefined; return this.valueFromJulia[\"index\"]=false}),self)]\n        \n    }\n    self.model = new AppViewModel();\n    self.valueFromJulia = {};\n    for (var key in json_data) {\n        self.valueFromJulia[key] = false;\n    }\n    ko.applyBindings(self.model, self.dom);\n}\n);\n    (WebIO.importBlock({\"data\":[{\"name\":\"knockout\",\"type\":\"js\",\"url\":\"/assetserver/727383f2a47bd31570b7da84eee7b022dd6d7c78-knockout.js\"},{\"name\":\"knockout_punches\",\"type\":\"js\",\"url\":\"/assetserver/382b41b3b1bd9f26f75861d360bad7f8beea211f-knockout_punches.js\"}],\"type\":\"async_block\"})).then((imports) => handler.apply(this, imports));\n}\n"
                ],
                "observables": {
                 "changes": {
                  "id": "14262898987701607693",
                  "sync": false,
                  "value": 0
                 },
                 "index": {
                  "id": "7618913512148089945",
                  "sync": true,
                  "value": 10
                 }
                },
                "systemjs_options": null
               },
               "nodeType": "Scope",
               "props": {},
               "type": "node"
              }
             ],
             "instanceArgs": {
              "namespace": "html",
              "tag": "div"
             },
             "nodeType": "DOM",
             "props": {
              "className": "field interact-widget"
             },
             "type": "node"
            },
            {
             "children": [
              {
               "children": [
                {
                 "children": [
                  {
                   "children": [],
                   "instanceArgs": {
                    "namespace": "html",
                    "tag": "div"
                   },
                   "nodeType": "DOM",
                   "props": {
                    "id": "container"
                   },
                   "type": "node"
                  }
                 ],
                 "instanceArgs": {
                  "handlers": {
                   "value": [
                    "(function (txt){return this.k.render(txt,this.container)})"
                   ]
                  },
                  "id": "7509431267406068882",
                  "imports": {
                   "data": [
                    {
                     "name": null,
                     "type": "js",
                     "url": "/assetserver/dd22ed1bf1896c2748f3fe616ce0b838adc895c1-katex.min.js"
                    },
                    {
                     "name": null,
                     "type": "css",
                     "url": "/assetserver/46517a424aa5e6cffc1360d7e0848b601c584ee3-katex.min.css"
                    }
                   ],
                   "type": "async_block"
                  },
                  "mount_callbacks": [
                   "function () {\n    var handler = ((function (k){this.k=k; this.container=this.dom.querySelector(\"#container\"); return k.render(\"\\\\;\\\\;\",this.container)}));\n    (WebIO.importBlock({\"data\":[{\"name\":null,\"type\":\"js\",\"url\":\"/assetserver/dd22ed1bf1896c2748f3fe616ce0b838adc895c1-katex.min.js\"},{\"name\":null,\"type\":\"css\",\"url\":\"/assetserver/46517a424aa5e6cffc1360d7e0848b601c584ee3-katex.min.css\"}],\"type\":\"async_block\"})).then((imports) => handler.apply(this, imports));\n}\n"
                  ],
                  "observables": {
                   "value": {
                    "id": "9490827102643447457",
                    "sync": false,
                    "value": "\\;\\;"
                   }
                  },
                  "systemjs_options": null
                 },
                 "nodeType": "Scope",
                 "props": {},
                 "type": "node"
                }
               ],
               "instanceArgs": {
                "namespace": "html",
                "tag": "div"
               },
               "nodeType": "DOM",
               "props": {
                "className": "interact-widget"
               },
               "type": "node"
              },
              {
               "children": [
                {
                 "children": [
                  {
                   "children": [
                    "run"
                   ],
                   "instanceArgs": {
                    "namespace": "html",
                    "tag": "button"
                   },
                   "nodeType": "DOM",
                   "props": {
                    "attributes": {
                     "data-bind": "click: function (){this.clicks(this.clicks()+1)}, css: {'is-loading' : loading}"
                    },
                    "className": "is-medium button is-primary",
                    "style": {}
                   },
                   "type": "node"
                  }
                 ],
                 "instanceArgs": {
                  "handlers": {
                   "clicks": [
                    "(function (val){return (val!=this.model[\"clicks\"]()) ? (this.valueFromJulia[\"clicks\"]=true, this.model[\"clicks\"](val)) : undefined})"
                   ],
                   "loading": [
                    "(function (val){return (val!=this.model[\"loading\"]()) ? (this.valueFromJulia[\"loading\"]=true, this.model[\"loading\"](val)) : undefined})"
                   ]
                  },
                  "id": "2013777754586296717",
                  "imports": {
                   "data": [
                    {
                     "name": "knockout",
                     "type": "js",
                     "url": "/assetserver/727383f2a47bd31570b7da84eee7b022dd6d7c78-knockout.js"
                    },
                    {
                     "name": "knockout_punches",
                     "type": "js",
                     "url": "/assetserver/382b41b3b1bd9f26f75861d360bad7f8beea211f-knockout_punches.js"
                    },
                    {
                     "name": null,
                     "type": "js",
                     "url": "/assetserver/5ab20f1060420992a9b82a65b735dee4d81ef413-all.js"
                    },
                    {
                     "name": null,
                     "type": "css",
                     "url": "/assetserver/1cc0ed62837210b80a182cc3676512f895dab686-style.css"
                    },
                    {
                     "name": null,
                     "type": "css",
                     "url": "/assetserver/2eee816f616df3549d7044d45e744fbf8d42bfa1-bulma_confined.min.css"
                    }
                   ],
                   "type": "async_block"
                  },
                  "mount_callbacks": [
                   "function () {\n    var handler = (function (ko, koPunches) {\n    ko.punches.enableAll();\n    ko.bindingHandlers.numericValue = {\n        init: function(element, valueAccessor, allBindings, data, context) {\n            var stringified = ko.observable(ko.unwrap(valueAccessor()));\n            stringified.subscribe(function(value) {\n                var val = parseFloat(value);\n                if (!isNaN(val)) {\n                    valueAccessor()(val);\n                }\n            });\n            valueAccessor().subscribe(function(value) {\n                var str = JSON.stringify(value);\n                if ((str == \"0\") && ([\"-0\", \"-0.\"].indexOf(stringified()) >= 0))\n                     return;\n                 if ([\"null\", \"\"].indexOf(str) >= 0)\n                     return;\n                stringified(str);\n            });\n            ko.applyBindingsToNode(\n                element,\n                {\n                    value: stringified,\n                    valueUpdate: allBindings.get('valueUpdate'),\n                },\n                context,\n            );\n        }\n    };\n    var json_data = {\"loading\":WebIO.getval({\"name\":\"loading\",\"scope\":\"2013777754586296717\",\"id\":\"13009168616621597742\",\"type\":\"observable\"}),\"clicks\":WebIO.getval({\"name\":\"clicks\",\"scope\":\"2013777754586296717\",\"id\":\"4979887161988928524\",\"type\":\"observable\"})};\n    var self = this;\n    function AppViewModel() {\n        for (var key in json_data) {\n            var el = json_data[key];\n            this[key] = Array.isArray(el) ? ko.observableArray(el) : ko.observable(el);\n        }\n        \n        \n        [this[\"loading\"].subscribe((function (val){!(this.valueFromJulia[\"loading\"]) ? (WebIO.setval({\"name\":\"loading\",\"scope\":\"2013777754586296717\",\"id\":\"13009168616621597742\",\"type\":\"observable\"},val)) : undefined; return this.valueFromJulia[\"loading\"]=false}),self),this[\"clicks\"].subscribe((function (val){!(this.valueFromJulia[\"clicks\"]) ? (WebIO.setval({\"name\":\"clicks\",\"scope\":\"2013777754586296717\",\"id\":\"4979887161988928524\",\"type\":\"observable\"},val)) : undefined; return this.valueFromJulia[\"clicks\"]=false}),self)]\n        \n    }\n    self.model = new AppViewModel();\n    self.valueFromJulia = {};\n    for (var key in json_data) {\n        self.valueFromJulia[key] = false;\n    }\n    ko.applyBindings(self.model, self.dom);\n}\n);\n    (WebIO.importBlock({\"data\":[{\"name\":\"knockout\",\"type\":\"js\",\"url\":\"/assetserver/727383f2a47bd31570b7da84eee7b022dd6d7c78-knockout.js\"},{\"name\":\"knockout_punches\",\"type\":\"js\",\"url\":\"/assetserver/382b41b3b1bd9f26f75861d360bad7f8beea211f-knockout_punches.js\"}],\"type\":\"async_block\"})).then((imports) => handler.apply(this, imports));\n}\n"
                  ],
                  "observables": {
                   "clicks": {
                    "id": "4979887161988928524",
                    "sync": true,
                    "value": 0
                   },
                   "loading": {
                    "id": "13009168616621597742",
                    "sync": false,
                    "value": false
                   }
                  },
                  "systemjs_options": null
                 },
                 "nodeType": "Scope",
                 "props": {},
                 "type": "node"
                }
               ],
               "instanceArgs": {
                "namespace": "html",
                "tag": "div"
               },
               "nodeType": "DOM",
               "props": {
                "className": "field interact-widget"
               },
               "type": "node"
              },
              {
               "children": [
                {
                 "children": [
                  {
                   "children": [],
                   "instanceArgs": {
                    "namespace": "html",
                    "tag": "div"
                   },
                   "nodeType": "DOM",
                   "props": {
                    "id": "container"
                   },
                   "type": "node"
                  }
                 ],
                 "instanceArgs": {
                  "handlers": {
                   "value": [
                    "(function (txt){return this.k.render(txt,this.container)})"
                   ]
                  },
                  "id": "7509431267406068882",
                  "imports": {
                   "data": [
                    {
                     "name": null,
                     "type": "js",
                     "url": "/assetserver/dd22ed1bf1896c2748f3fe616ce0b838adc895c1-katex.min.js"
                    },
                    {
                     "name": null,
                     "type": "css",
                     "url": "/assetserver/46517a424aa5e6cffc1360d7e0848b601c584ee3-katex.min.css"
                    }
                   ],
                   "type": "async_block"
                  },
                  "mount_callbacks": [
                   "function () {\n    var handler = ((function (k){this.k=k; this.container=this.dom.querySelector(\"#container\"); return k.render(\"\\\\;\\\\;\",this.container)}));\n    (WebIO.importBlock({\"data\":[{\"name\":null,\"type\":\"js\",\"url\":\"/assetserver/dd22ed1bf1896c2748f3fe616ce0b838adc895c1-katex.min.js\"},{\"name\":null,\"type\":\"css\",\"url\":\"/assetserver/46517a424aa5e6cffc1360d7e0848b601c584ee3-katex.min.css\"}],\"type\":\"async_block\"})).then((imports) => handler.apply(this, imports));\n}\n"
                  ],
                  "observables": {
                   "value": {
                    "id": "9490827102643447457",
                    "sync": false,
                    "value": "\\;\\;"
                   }
                  },
                  "systemjs_options": null
                 },
                 "nodeType": "Scope",
                 "props": {},
                 "type": "node"
                }
               ],
               "instanceArgs": {
                "namespace": "html",
                "tag": "div"
               },
               "nodeType": "DOM",
               "props": {
                "className": "interact-widget"
               },
               "type": "node"
              },
              {
               "children": [
                {
                 "children": [
                  {
                   "children": [
                    "stop"
                   ],
                   "instanceArgs": {
                    "namespace": "html",
                    "tag": "button"
                   },
                   "nodeType": "DOM",
                   "props": {
                    "attributes": {
                     "data-bind": "click: function (){this.clicks(this.clicks()+1)}, css: {'is-loading' : loading}"
                    },
                    "className": "is-medium button is-primary",
                    "style": {}
                   },
                   "type": "node"
                  }
                 ],
                 "instanceArgs": {
                  "handlers": {
                   "clicks": [
                    "(function (val){return (val!=this.model[\"clicks\"]()) ? (this.valueFromJulia[\"clicks\"]=true, this.model[\"clicks\"](val)) : undefined})"
                   ],
                   "loading": [
                    "(function (val){return (val!=this.model[\"loading\"]()) ? (this.valueFromJulia[\"loading\"]=true, this.model[\"loading\"](val)) : undefined})"
                   ]
                  },
                  "id": "1296399479305746690",
                  "imports": {
                   "data": [
                    {
                     "name": "knockout",
                     "type": "js",
                     "url": "/assetserver/727383f2a47bd31570b7da84eee7b022dd6d7c78-knockout.js"
                    },
                    {
                     "name": "knockout_punches",
                     "type": "js",
                     "url": "/assetserver/382b41b3b1bd9f26f75861d360bad7f8beea211f-knockout_punches.js"
                    },
                    {
                     "name": null,
                     "type": "js",
                     "url": "/assetserver/5ab20f1060420992a9b82a65b735dee4d81ef413-all.js"
                    },
                    {
                     "name": null,
                     "type": "css",
                     "url": "/assetserver/1cc0ed62837210b80a182cc3676512f895dab686-style.css"
                    },
                    {
                     "name": null,
                     "type": "css",
                     "url": "/assetserver/2eee816f616df3549d7044d45e744fbf8d42bfa1-bulma_confined.min.css"
                    }
                   ],
                   "type": "async_block"
                  },
                  "mount_callbacks": [
                   "function () {\n    var handler = (function (ko, koPunches) {\n    ko.punches.enableAll();\n    ko.bindingHandlers.numericValue = {\n        init: function(element, valueAccessor, allBindings, data, context) {\n            var stringified = ko.observable(ko.unwrap(valueAccessor()));\n            stringified.subscribe(function(value) {\n                var val = parseFloat(value);\n                if (!isNaN(val)) {\n                    valueAccessor()(val);\n                }\n            });\n            valueAccessor().subscribe(function(value) {\n                var str = JSON.stringify(value);\n                if ((str == \"0\") && ([\"-0\", \"-0.\"].indexOf(stringified()) >= 0))\n                     return;\n                 if ([\"null\", \"\"].indexOf(str) >= 0)\n                     return;\n                stringified(str);\n            });\n            ko.applyBindingsToNode(\n                element,\n                {\n                    value: stringified,\n                    valueUpdate: allBindings.get('valueUpdate'),\n                },\n                context,\n            );\n        }\n    };\n    var json_data = {\"loading\":WebIO.getval({\"name\":\"loading\",\"scope\":\"1296399479305746690\",\"id\":\"10548440708219436917\",\"type\":\"observable\"}),\"clicks\":WebIO.getval({\"name\":\"clicks\",\"scope\":\"1296399479305746690\",\"id\":\"3411016877132533776\",\"type\":\"observable\"})};\n    var self = this;\n    function AppViewModel() {\n        for (var key in json_data) {\n            var el = json_data[key];\n            this[key] = Array.isArray(el) ? ko.observableArray(el) : ko.observable(el);\n        }\n        \n        \n        [this[\"loading\"].subscribe((function (val){!(this.valueFromJulia[\"loading\"]) ? (WebIO.setval({\"name\":\"loading\",\"scope\":\"1296399479305746690\",\"id\":\"10548440708219436917\",\"type\":\"observable\"},val)) : undefined; return this.valueFromJulia[\"loading\"]=false}),self),this[\"clicks\"].subscribe((function (val){!(this.valueFromJulia[\"clicks\"]) ? (WebIO.setval({\"name\":\"clicks\",\"scope\":\"1296399479305746690\",\"id\":\"3411016877132533776\",\"type\":\"observable\"},val)) : undefined; return this.valueFromJulia[\"clicks\"]=false}),self)]\n        \n    }\n    self.model = new AppViewModel();\n    self.valueFromJulia = {};\n    for (var key in json_data) {\n        self.valueFromJulia[key] = false;\n    }\n    ko.applyBindings(self.model, self.dom);\n}\n);\n    (WebIO.importBlock({\"data\":[{\"name\":\"knockout\",\"type\":\"js\",\"url\":\"/assetserver/727383f2a47bd31570b7da84eee7b022dd6d7c78-knockout.js\"},{\"name\":\"knockout_punches\",\"type\":\"js\",\"url\":\"/assetserver/382b41b3b1bd9f26f75861d360bad7f8beea211f-knockout_punches.js\"}],\"type\":\"async_block\"})).then((imports) => handler.apply(this, imports));\n}\n"
                  ],
                  "observables": {
                   "clicks": {
                    "id": "3411016877132533776",
                    "sync": true,
                    "value": 0
                   },
                   "loading": {
                    "id": "10548440708219436917",
                    "sync": false,
                    "value": false
                   }
                  },
                  "systemjs_options": null
                 },
                 "nodeType": "Scope",
                 "props": {},
                 "type": "node"
                }
               ],
               "instanceArgs": {
                "namespace": "html",
                "tag": "div"
               },
               "nodeType": "DOM",
               "props": {
                "className": "field interact-widget"
               },
               "type": "node"
              },
              {
               "children": [
                {
                 "children": [
                  {
                   "children": [],
                   "instanceArgs": {
                    "namespace": "html",
                    "tag": "div"
                   },
                   "nodeType": "DOM",
                   "props": {
                    "id": "container"
                   },
                   "type": "node"
                  }
                 ],
                 "instanceArgs": {
                  "handlers": {
                   "value": [
                    "(function (txt){return this.k.render(txt,this.container)})"
                   ]
                  },
                  "id": "7509431267406068882",
                  "imports": {
                   "data": [
                    {
                     "name": null,
                     "type": "js",
                     "url": "/assetserver/dd22ed1bf1896c2748f3fe616ce0b838adc895c1-katex.min.js"
                    },
                    {
                     "name": null,
                     "type": "css",
                     "url": "/assetserver/46517a424aa5e6cffc1360d7e0848b601c584ee3-katex.min.css"
                    }
                   ],
                   "type": "async_block"
                  },
                  "mount_callbacks": [
                   "function () {\n    var handler = ((function (k){this.k=k; this.container=this.dom.querySelector(\"#container\"); return k.render(\"\\\\;\\\\;\",this.container)}));\n    (WebIO.importBlock({\"data\":[{\"name\":null,\"type\":\"js\",\"url\":\"/assetserver/dd22ed1bf1896c2748f3fe616ce0b838adc895c1-katex.min.js\"},{\"name\":null,\"type\":\"css\",\"url\":\"/assetserver/46517a424aa5e6cffc1360d7e0848b601c584ee3-katex.min.css\"}],\"type\":\"async_block\"})).then((imports) => handler.apply(this, imports));\n}\n"
                  ],
                  "observables": {
                   "value": {
                    "id": "9490827102643447457",
                    "sync": false,
                    "value": "\\;\\;"
                   }
                  },
                  "systemjs_options": null
                 },
                 "nodeType": "Scope",
                 "props": {},
                 "type": "node"
                }
               ],
               "instanceArgs": {
                "namespace": "html",
                "tag": "div"
               },
               "nodeType": "DOM",
               "props": {
                "className": "interact-widget"
               },
               "type": "node"
              },
              {
               "children": [
                {
                 "children": [
                  {
                   "children": [
                    "save"
                   ],
                   "instanceArgs": {
                    "namespace": "html",
                    "tag": "button"
                   },
                   "nodeType": "DOM",
                   "props": {
                    "attributes": {
                     "data-bind": "click: function (){this.clicks(this.clicks()+1)}, css: {'is-loading' : loading}"
                    },
                    "className": "is-medium button is-primary",
                    "style": {}
                   },
                   "type": "node"
                  }
                 ],
                 "instanceArgs": {
                  "handlers": {
                   "clicks": [
                    "(function (val){return (val!=this.model[\"clicks\"]()) ? (this.valueFromJulia[\"clicks\"]=true, this.model[\"clicks\"](val)) : undefined})"
                   ],
                   "loading": [
                    "(function (val){return (val!=this.model[\"loading\"]()) ? (this.valueFromJulia[\"loading\"]=true, this.model[\"loading\"](val)) : undefined})"
                   ]
                  },
                  "id": "30456938359849757",
                  "imports": {
                   "data": [
                    {
                     "name": "knockout",
                     "type": "js",
                     "url": "/assetserver/727383f2a47bd31570b7da84eee7b022dd6d7c78-knockout.js"
                    },
                    {
                     "name": "knockout_punches",
                     "type": "js",
                     "url": "/assetserver/382b41b3b1bd9f26f75861d360bad7f8beea211f-knockout_punches.js"
                    },
                    {
                     "name": null,
                     "type": "js",
                     "url": "/assetserver/5ab20f1060420992a9b82a65b735dee4d81ef413-all.js"
                    },
                    {
                     "name": null,
                     "type": "css",
                     "url": "/assetserver/1cc0ed62837210b80a182cc3676512f895dab686-style.css"
                    },
                    {
                     "name": null,
                     "type": "css",
                     "url": "/assetserver/2eee816f616df3549d7044d45e744fbf8d42bfa1-bulma_confined.min.css"
                    }
                   ],
                   "type": "async_block"
                  },
                  "mount_callbacks": [
                   "function () {\n    var handler = (function (ko, koPunches) {\n    ko.punches.enableAll();\n    ko.bindingHandlers.numericValue = {\n        init: function(element, valueAccessor, allBindings, data, context) {\n            var stringified = ko.observable(ko.unwrap(valueAccessor()));\n            stringified.subscribe(function(value) {\n                var val = parseFloat(value);\n                if (!isNaN(val)) {\n                    valueAccessor()(val);\n                }\n            });\n            valueAccessor().subscribe(function(value) {\n                var str = JSON.stringify(value);\n                if ((str == \"0\") && ([\"-0\", \"-0.\"].indexOf(stringified()) >= 0))\n                     return;\n                 if ([\"null\", \"\"].indexOf(str) >= 0)\n                     return;\n                stringified(str);\n            });\n            ko.applyBindingsToNode(\n                element,\n                {\n                    value: stringified,\n                    valueUpdate: allBindings.get('valueUpdate'),\n                },\n                context,\n            );\n        }\n    };\n    var json_data = {\"loading\":WebIO.getval({\"name\":\"loading\",\"scope\":\"30456938359849757\",\"id\":\"16332138989915557607\",\"type\":\"observable\"}),\"clicks\":WebIO.getval({\"name\":\"clicks\",\"scope\":\"30456938359849757\",\"id\":\"12089512040957701396\",\"type\":\"observable\"})};\n    var self = this;\n    function AppViewModel() {\n        for (var key in json_data) {\n            var el = json_data[key];\n            this[key] = Array.isArray(el) ? ko.observableArray(el) : ko.observable(el);\n        }\n        \n        \n        [this[\"loading\"].subscribe((function (val){!(this.valueFromJulia[\"loading\"]) ? (WebIO.setval({\"name\":\"loading\",\"scope\":\"30456938359849757\",\"id\":\"16332138989915557607\",\"type\":\"observable\"},val)) : undefined; return this.valueFromJulia[\"loading\"]=false}),self),this[\"clicks\"].subscribe((function (val){!(this.valueFromJulia[\"clicks\"]) ? (WebIO.setval({\"name\":\"clicks\",\"scope\":\"30456938359849757\",\"id\":\"12089512040957701396\",\"type\":\"observable\"},val)) : undefined; return this.valueFromJulia[\"clicks\"]=false}),self)]\n        \n    }\n    self.model = new AppViewModel();\n    self.valueFromJulia = {};\n    for (var key in json_data) {\n        self.valueFromJulia[key] = false;\n    }\n    ko.applyBindings(self.model, self.dom);\n}\n);\n    (WebIO.importBlock({\"data\":[{\"name\":\"knockout\",\"type\":\"js\",\"url\":\"/assetserver/727383f2a47bd31570b7da84eee7b022dd6d7c78-knockout.js\"},{\"name\":\"knockout_punches\",\"type\":\"js\",\"url\":\"/assetserver/382b41b3b1bd9f26f75861d360bad7f8beea211f-knockout_punches.js\"}],\"type\":\"async_block\"})).then((imports) => handler.apply(this, imports));\n}\n"
                  ],
                  "observables": {
                   "clicks": {
                    "id": "12089512040957701396",
                    "sync": true,
                    "value": 0
                   },
                   "loading": {
                    "id": "16332138989915557607",
                    "sync": false,
                    "value": false
                   }
                  },
                  "systemjs_options": null
                 },
                 "nodeType": "Scope",
                 "props": {},
                 "type": "node"
                }
               ],
               "instanceArgs": {
                "namespace": "html",
                "tag": "div"
               },
               "nodeType": "DOM",
               "props": {
                "className": "field interact-widget"
               },
               "type": "node"
              }
             ],
             "instanceArgs": {
              "namespace": "html",
              "tag": "div"
             },
             "nodeType": "DOM",
             "props": {
              "style": {
               "display": "flex",
               "flex-direction": "row"
              }
             },
             "type": "node"
            }
           ],
           "instanceArgs": {
            "namespace": "html",
            "tag": "div"
           },
           "nodeType": "DOM",
           "props": {
            "style": {
             "display": "flex",
             "flex-direction": "column"
            }
           },
           "type": "node"
          },
          {
           "children": [
            {
             "children": [
              {
               "children": [],
               "instanceArgs": {
                "namespace": "html",
                "tag": "div"
               },
               "nodeType": "DOM",
               "props": {
                "id": "container"
               },
               "type": "node"
              }
             ],
             "instanceArgs": {
              "handlers": {
               "value": [
                "(function (txt){return this.k.render(txt,this.container)})"
               ]
              },
              "id": "7509431267406068882",
              "imports": {
               "data": [
                {
                 "name": null,
                 "type": "js",
                 "url": "/assetserver/dd22ed1bf1896c2748f3fe616ce0b838adc895c1-katex.min.js"
                },
                {
                 "name": null,
                 "type": "css",
                 "url": "/assetserver/46517a424aa5e6cffc1360d7e0848b601c584ee3-katex.min.css"
                }
               ],
               "type": "async_block"
              },
              "mount_callbacks": [
               "function () {\n    var handler = ((function (k){this.k=k; this.container=this.dom.querySelector(\"#container\"); return k.render(\"\\\\;\\\\;\",this.container)}));\n    (WebIO.importBlock({\"data\":[{\"name\":null,\"type\":\"js\",\"url\":\"/assetserver/dd22ed1bf1896c2748f3fe616ce0b838adc895c1-katex.min.js\"},{\"name\":null,\"type\":\"css\",\"url\":\"/assetserver/46517a424aa5e6cffc1360d7e0848b601c584ee3-katex.min.css\"}],\"type\":\"async_block\"})).then((imports) => handler.apply(this, imports));\n}\n"
              ],
              "observables": {
               "value": {
                "id": "9490827102643447457",
                "sync": false,
                "value": "\\;\\;"
               }
              },
              "systemjs_options": null
             },
             "nodeType": "Scope",
             "props": {},
             "type": "node"
            }
           ],
           "instanceArgs": {
            "namespace": "html",
            "tag": "div"
           },
           "nodeType": "DOM",
           "props": {
            "className": "interact-widget"
           },
           "type": "node"
          },
          {
           "children": [
            {
             "children": [],
             "instanceArgs": {
              "namespace": "html",
              "tag": "div"
             },
             "nodeType": "DOM",
             "props": {
              "className": "webio-observable",
              "setInnerHtml": "<img src='data:image/png;base64,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'></img>"
             },
             "type": "node"
            }
           ],
           "instanceArgs": {
            "handlers": {
             "obs-output": [
              "function (value, scope) {\n    scope.setInnerHTML(value);\n}\n"
             ]
            },
            "id": "15727874189662289409",
            "imports": {
             "data": [],
             "type": "async_block"
            },
            "mount_callbacks": [],
            "observables": {
             "obs-output": {
              "id": "14817552039857105801",
              "sync": false,
              "value": "<img src='data:image/png;base64,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'></img>"
             }
            },
            "systemjs_options": null
           },
           "nodeType": "Scope",
           "props": {},
           "type": "node"
          },
          {
           "children": [
            {
             "children": [
              {
               "children": [],
               "instanceArgs": {
                "namespace": "html",
                "tag": "div"
               },
               "nodeType": "DOM",
               "props": {
                "id": "container"
               },
               "type": "node"
              }
             ],
             "instanceArgs": {
              "handlers": {
               "value": [
                "(function (txt){return this.k.render(txt,this.container)})"
               ]
              },
              "id": "7509431267406068882",
              "imports": {
               "data": [
                {
                 "name": null,
                 "type": "js",
                 "url": "/assetserver/dd22ed1bf1896c2748f3fe616ce0b838adc895c1-katex.min.js"
                },
                {
                 "name": null,
                 "type": "css",
                 "url": "/assetserver/46517a424aa5e6cffc1360d7e0848b601c584ee3-katex.min.css"
                }
               ],
               "type": "async_block"
              },
              "mount_callbacks": [
               "function () {\n    var handler = ((function (k){this.k=k; this.container=this.dom.querySelector(\"#container\"); return k.render(\"\\\\;\\\\;\",this.container)}));\n    (WebIO.importBlock({\"data\":[{\"name\":null,\"type\":\"js\",\"url\":\"/assetserver/dd22ed1bf1896c2748f3fe616ce0b838adc895c1-katex.min.js\"},{\"name\":null,\"type\":\"css\",\"url\":\"/assetserver/46517a424aa5e6cffc1360d7e0848b601c584ee3-katex.min.css\"}],\"type\":\"async_block\"})).then((imports) => handler.apply(this, imports));\n}\n"
              ],
              "observables": {
               "value": {
                "id": "9490827102643447457",
                "sync": false,
                "value": "\\;\\;"
               }
              },
              "systemjs_options": null
             },
             "nodeType": "Scope",
             "props": {},
             "type": "node"
            }
           ],
           "instanceArgs": {
            "namespace": "html",
            "tag": "div"
           },
           "nodeType": "DOM",
           "props": {
            "className": "interact-widget"
           },
           "type": "node"
          },
          {
           "children": [],
           "instanceArgs": {
            "namespace": "html",
            "tag": "div"
           },
           "nodeType": "DOM",
           "props": {
            "style": {
             "display": "flex",
             "flex-direction": "column"
            }
           },
           "type": "node"
          }
         ],
         "instanceArgs": {
          "namespace": "html",
          "tag": "div"
         },
         "nodeType": "DOM",
         "props": {
          "style": {
           "display": "flex",
           "flex-direction": "row"
          }
         },
         "type": "node"
        }
       ],
       "instanceArgs": {
        "namespace": "html",
        "tag": "div"
       },
       "nodeType": "DOM",
       "props": {
        "style": {
         "display": "flex",
         "flex-direction": "column"
        }
       },
       "type": "node"
      },
      "text/html": [
       "<div\n",
       "    class=\"webio-mountpoint\"\n",
       "    data-webio-mountpoint=\"6433929269570542778\"\n",
       ">\n",
       "    <script>\n",
       "    (function(){\n",
       "    // Some integrations (namely, IJulia/Jupyter) use an alternate render pathway than\n",
       "    // just putting the html on the page. If WebIO isn't defined, then it's pretty likely\n",
       "    // that we're in one of those situations and the integration just isn't installed\n",
       "    // correctly.\n",
       "    if (typeof window.WebIO === \"undefined\") {\n",
       "        document\n",
       "            .querySelector('[data-webio-mountpoint=\"6433929269570542778\"]')\n",
       "            .innerHTML = (\n",
       "                '<div style=\"padding: 1em; background-color: #f8d6da; border: 1px solid #f5c6cb; font-weight: bold;\">' +\n",
       "                '<p><strong>WebIO not detected.</strong></p>' +\n",
       "                '<p>Please read ' +\n",
       "                '<a href=\"https://juliagizmos.github.io/WebIO.jl/latest/troubleshooting/not-detected/\" target=\"_blank\">the troubleshooting guide</a> ' +\n",
       "                'for more information on how to resolve this issue.</p>' +\n",
       "                '<p><a href=\"https://juliagizmos.github.io/WebIO.jl/latest/troubleshooting/not-detected/\" target=\"_blank\">https://juliagizmos.github.io/WebIO.jl/latest/troubleshooting/not-detected/</a></p>' +\n",
       "                '</div>'\n",
       "            );\n",
       "        return;\n",
       "    }\n",
       "    WebIO.mount(\n",
       "        document.querySelector('[data-webio-mountpoint=\"6433929269570542778\"]'),\n",
       "        {\"props\":{\"style\":{\"display\":\"flex\",\"flex-direction\":\"column\"}},\"nodeType\":\"DOM\",\"type\":\"node\",\"instanceArgs\":{\"namespace\":\"html\",\"tag\":\"div\"},\"children\":[{\"props\":{\"style\":{\"display\":\"flex\",\"flex-direction\":\"row\"}},\"nodeType\":\"DOM\",\"type\":\"node\",\"instanceArgs\":{\"namespace\":\"html\",\"tag\":\"div\"},\"children\":[{\"props\":{\"style\":{\"display\":\"flex\",\"flex-direction\":\"column\"}},\"nodeType\":\"DOM\",\"type\":\"node\",\"instanceArgs\":{\"namespace\":\"html\",\"tag\":\"div\"},\"children\":[{\"props\":{\"className\":\"field interact-widget\"},\"nodeType\":\"DOM\",\"type\":\"node\",\"instanceArgs\":{\"namespace\":\"html\",\"tag\":\"div\"},\"children\":[{\"props\":{},\"nodeType\":\"Scope\",\"type\":\"node\",\"instanceArgs\":{\"imports\":{\"data\":[{\"name\":\"knockout\",\"type\":\"js\",\"url\":\"\\/assetserver\\/727383f2a47bd31570b7da84eee7b022dd6d7c78-knockout.js\"},{\"name\":\"knockout_punches\",\"type\":\"js\",\"url\":\"\\/assetserver\\/382b41b3b1bd9f26f75861d360bad7f8beea211f-knockout_punches.js\"},{\"name\":null,\"type\":\"js\",\"url\":\"\\/assetserver\\/5ab20f1060420992a9b82a65b735dee4d81ef413-all.js\"},{\"name\":null,\"type\":\"css\",\"url\":\"\\/assetserver\\/1cc0ed62837210b80a182cc3676512f895dab686-style.css\"},{\"name\":null,\"type\":\"css\",\"url\":\"\\/assetserver\\/2eee816f616df3549d7044d45e744fbf8d42bfa1-bulma_confined.min.css\"}],\"type\":\"async_block\"},\"id\":\"14535963727099491625\",\"handlers\":{\"changes\":[\"(function (val){return (val!=this.model[\\\"changes\\\"]()) ? (this.valueFromJulia[\\\"changes\\\"]=true, this.model[\\\"changes\\\"](val)) : undefined})\"],\"index\":[\"(function (val){return (val!=this.model[\\\"index\\\"]()) ? (this.valueFromJulia[\\\"index\\\"]=true, this.model[\\\"index\\\"](val)) : undefined})\"]},\"systemjs_options\":null,\"mount_callbacks\":[\"function () {\\n    var handler = (function (ko, koPunches) {\\n    ko.punches.enableAll();\\n    ko.bindingHandlers.numericValue = {\\n        init: function(element, valueAccessor, allBindings, data, context) {\\n            var stringified = ko.observable(ko.unwrap(valueAccessor()));\\n            stringified.subscribe(function(value) {\\n                var val = parseFloat(value);\\n                if (!isNaN(val)) {\\n                    valueAccessor()(val);\\n                }\\n            });\\n            valueAccessor().subscribe(function(value) {\\n                var str = JSON.stringify(value);\\n                if ((str == \\\"0\\\") && ([\\\"-0\\\", \\\"-0.\\\"].indexOf(stringified()) >= 0))\\n                     return;\\n                 if ([\\\"null\\\", \\\"\\\"].indexOf(str) >= 0)\\n                     return;\\n                stringified(str);\\n            });\\n            ko.applyBindingsToNode(\\n                element,\\n                {\\n                    value: stringified,\\n                    valueUpdate: allBindings.get('valueUpdate'),\\n                },\\n                context,\\n            );\\n        }\\n    };\\n    var json_data = {\\\"formatted_vals\\\":[\\\"1\\\",\\\"2\\\",\\\"3\\\",\\\"4\\\",\\\"5\\\",\\\"6\\\",\\\"7\\\",\\\"8\\\",\\\"9\\\",\\\"10\\\",\\\"11\\\",\\\"12\\\",\\\"13\\\",\\\"14\\\",\\\"15\\\",\\\"16\\\",\\\"17\\\",\\\"18\\\",\\\"19\\\",\\\"20\\\",\\\"21\\\",\\\"22\\\",\\\"23\\\",\\\"24\\\",\\\"25\\\",\\\"26\\\",\\\"27\\\",\\\"28\\\",\\\"29\\\",\\\"30\\\",\\\"31\\\",\\\"32\\\",\\\"33\\\",\\\"34\\\",\\\"35\\\",\\\"36\\\",\\\"37\\\",\\\"38\\\",\\\"39\\\",\\\"40\\\",\\\"41\\\",\\\"42\\\",\\\"43\\\",\\\"44\\\",\\\"45\\\",\\\"46\\\",\\\"47\\\",\\\"48\\\",\\\"49\\\",\\\"50\\\",\\\"51\\\",\\\"52\\\",\\\"53\\\",\\\"54\\\",\\\"55\\\",\\\"56\\\",\\\"57\\\",\\\"58\\\",\\\"59\\\",\\\"60\\\",\\\"61\\\",\\\"62\\\",\\\"63\\\",\\\"64\\\",\\\"65\\\",\\\"66\\\",\\\"67\\\",\\\"68\\\",\\\"69\\\",\\\"70\\\",\\\"71\\\",\\\"72\\\",\\\"73\\\",\\\"74\\\",\\\"75\\\",\\\"76\\\",\\\"77\\\",\\\"78\\\",\\\"79\\\",\\\"80\\\",\\\"81\\\",\\\"82\\\",\\\"83\\\",\\\"84\\\",\\\"85\\\",\\\"86\\\",\\\"87\\\",\\\"88\\\",\\\"89\\\",\\\"90\\\",\\\"91\\\",\\\"92\\\",\\\"93\\\",\\\"94\\\",\\\"95\\\",\\\"96\\\",\\\"97\\\",\\\"98\\\",\\\"99\\\",\\\"100\\\",\\\"101\\\",\\\"102\\\",\\\"103\\\",\\\"104\\\",\\\"105\\\",\\\"106\\\",\\\"107\\\",\\\"108\\\",\\\"109\\\",\\\"110\\\",\\\"111\\\",\\\"112\\\",\\\"113\\\",\\\"114\\\",\\\"115\\\",\\\"116\\\",\\\"117\\\",\\\"118\\\",\\\"119\\\",\\\"120\\\",\\\"121\\\",\\\"122\\\",\\\"123\\\",\\\"124\\\",\\\"125\\\",\\\"126\\\",\\\"127\\\",\\\"128\\\",\\\"129\\\",\\\"130\\\",\\\"131\\\",\\\"132\\\",\\\"133\\\",\\\"134\\\",\\\"135\\\",\\\"136\\\",\\\"137\\\",\\\"138\\\",\\\"139\\\",\\\"140\\\",\\\"141\\\",\\\"142\\\",\\\"143\\\",\\\"144\\\",\\\"145\\\",\\\"146\\\",\\\"147\\\",\\\"148\\\",\\\"149\\\",\\\"150\\\",\\\"151\\\",\\\"152\\\",\\\"153\\\",\\\"154\\\",\\\"155\\\",\\\"156\\\",\\\"157\\\",\\\"158\\\",\\\"159\\\",\\\"160\\\",\\\"161\\\",\\\"162\\\",\\\"163\\\",\\\"164\\\",\\\"165\\\",\\\"166\\\",\\\"167\\\",\\\"168\\\",\\\"169\\\",\\\"170\\\",\\\"171\\\",\\\"172\\\",\\\"173\\\",\\\"174\\\",\\\"175\\\",\\\"176\\\",\\\"177\\\",\\\"178\\\",\\\"179\\\",\\\"180\\\",\\\"181\\\",\\\"182\\\",\\\"183\\\",\\\"184\\\",\\\"185\\\",\\\"186\\\",\\\"187\\\",\\\"188\\\",\\\"189\\\",\\\"190\\\",\\\"191\\\",\\\"192\\\",\\\"193\\\",\\\"194\\\",\\\"195\\\",\\\"196\\\",\\\"197\\\",\\\"198\\\",\\\"199\\\",\\\"200\\\",\\\"201\\\"],\\\"changes\\\":WebIO.getval({\\\"name\\\":\\\"changes\\\",\\\"scope\\\":\\\"14535963727099491625\\\",\\\"id\\\":\\\"17552311157927145738\\\",\\\"type\\\":\\\"observable\\\"}),\\\"index\\\":WebIO.getval({\\\"name\\\":\\\"index\\\",\\\"scope\\\":\\\"14535963727099491625\\\",\\\"id\\\":\\\"18309381811582750417\\\",\\\"type\\\":\\\"observable\\\"})};\\n    var self = this;\\n    function AppViewModel() {\\n        for (var key in json_data) {\\n            var el = json_data[key];\\n            this[key] = Array.isArray(el) ? ko.observableArray(el) : ko.observable(el);\\n        }\\n        \\n        [this[\\\"formatted_val\\\"]=ko.computed(    function(){\\n        return this.formatted_vals()[parseInt(this.index())-(1)];\\n    }\\n,this)]\\n        [this[\\\"changes\\\"].subscribe((function (val){!(this.valueFromJulia[\\\"changes\\\"]) ? (WebIO.setval({\\\"name\\\":\\\"changes\\\",\\\"scope\\\":\\\"14535963727099491625\\\",\\\"id\\\":\\\"17552311157927145738\\\",\\\"type\\\":\\\"observable\\\"},val)) : undefined; return this.valueFromJulia[\\\"changes\\\"]=false}),self),this[\\\"index\\\"].subscribe((function (val){!(this.valueFromJulia[\\\"index\\\"]) ? (WebIO.setval({\\\"name\\\":\\\"index\\\",\\\"scope\\\":\\\"14535963727099491625\\\",\\\"id\\\":\\\"18309381811582750417\\\",\\\"type\\\":\\\"observable\\\"},val)) : undefined; return this.valueFromJulia[\\\"index\\\"]=false}),self)]\\n        \\n    }\\n    self.model = new AppViewModel();\\n    self.valueFromJulia = {};\\n    for (var key in json_data) {\\n        self.valueFromJulia[key] = false;\\n    }\\n    ko.applyBindings(self.model, self.dom);\\n}\\n);\\n    (WebIO.importBlock({\\\"data\\\":[{\\\"name\\\":\\\"knockout\\\",\\\"type\\\":\\\"js\\\",\\\"url\\\":\\\"\\/assetserver\\/727383f2a47bd31570b7da84eee7b022dd6d7c78-knockout.js\\\"},{\\\"name\\\":\\\"knockout_punches\\\",\\\"type\\\":\\\"js\\\",\\\"url\\\":\\\"\\/assetserver\\/382b41b3b1bd9f26f75861d360bad7f8beea211f-knockout_punches.js\\\"}],\\\"type\\\":\\\"async_block\\\"})).then((imports) => handler.apply(this, imports));\\n}\\n\"],\"observables\":{\"changes\":{\"sync\":false,\"id\":\"17552311157927145738\",\"value\":0},\"index\":{\"sync\":true,\"id\":\"18309381811582750417\",\"value\":101}}},\"children\":[{\"props\":{\"className\":\"interact-flex-row interact-widget\"},\"nodeType\":\"DOM\",\"type\":\"node\",\"instanceArgs\":{\"namespace\":\"html\",\"tag\":\"div\"},\"children\":[{\"props\":{\"className\":\"interact-flex-row-left\"},\"nodeType\":\"DOM\",\"type\":\"node\",\"instanceArgs\":{\"namespace\":\"html\",\"tag\":\"div\"},\"children\":[{\"props\":{\"className\":\"interact \",\"style\":{\"padding\":\"5px 10px 0px 10px\"}},\"nodeType\":\"DOM\",\"type\":\"node\",\"instanceArgs\":{\"namespace\":\"html\",\"tag\":\"label\"},\"children\":[\"time\"]}]},{\"props\":{\"className\":\"interact-flex-row-center\"},\"nodeType\":\"DOM\",\"type\":\"node\",\"instanceArgs\":{\"namespace\":\"html\",\"tag\":\"div\"},\"children\":[{\"props\":{\"max\":201,\"min\":1,\"attributes\":{\"type\":\"range\",\"data-bind\":\"numericValue: index, valueUpdate: 'input', event: {change: function (){this.changes(this.changes()+1)}}\",\"orient\":\"horizontal\"},\"step\":1,\"className\":\"slider slider is-fullwidth\",\"style\":{}},\"nodeType\":\"DOM\",\"type\":\"node\",\"instanceArgs\":{\"namespace\":\"html\",\"tag\":\"input\"},\"children\":[]}]},{\"props\":{\"className\":\"interact-flex-row-right\"},\"nodeType\":\"DOM\",\"type\":\"node\",\"instanceArgs\":{\"namespace\":\"html\",\"tag\":\"div\"},\"children\":[{\"props\":{\"attributes\":{\"data-bind\":\"text: formatted_val\"}},\"nodeType\":\"DOM\",\"type\":\"node\",\"instanceArgs\":{\"namespace\":\"html\",\"tag\":\"p\"},\"children\":[]}]}]}]}]},{\"props\":{\"className\":\"field interact-widget\"},\"nodeType\":\"DOM\",\"type\":\"node\",\"instanceArgs\":{\"namespace\":\"html\",\"tag\":\"div\"},\"children\":[{\"props\":{},\"nodeType\":\"Scope\",\"type\":\"node\",\"instanceArgs\":{\"imports\":{\"data\":[{\"name\":\"knockout\",\"type\":\"js\",\"url\":\"\\/assetserver\\/727383f2a47bd31570b7da84eee7b022dd6d7c78-knockout.js\"},{\"name\":\"knockout_punches\",\"type\":\"js\",\"url\":\"\\/assetserver\\/382b41b3b1bd9f26f75861d360bad7f8beea211f-knockout_punches.js\"},{\"name\":null,\"type\":\"js\",\"url\":\"\\/assetserver\\/5ab20f1060420992a9b82a65b735dee4d81ef413-all.js\"},{\"name\":null,\"type\":\"css\",\"url\":\"\\/assetserver\\/1cc0ed62837210b80a182cc3676512f895dab686-style.css\"},{\"name\":null,\"type\":\"css\",\"url\":\"\\/assetserver\\/2eee816f616df3549d7044d45e744fbf8d42bfa1-bulma_confined.min.css\"}],\"type\":\"async_block\"},\"id\":\"10819220074708335206\",\"handlers\":{\"changes\":[\"(function (val){return (val!=this.model[\\\"changes\\\"]()) ? (this.valueFromJulia[\\\"changes\\\"]=true, this.model[\\\"changes\\\"](val)) : undefined})\"],\"index\":[\"(function (val){return (val!=this.model[\\\"index\\\"]()) ? (this.valueFromJulia[\\\"index\\\"]=true, this.model[\\\"index\\\"](val)) : undefined})\"]},\"systemjs_options\":null,\"mount_callbacks\":[\"function () {\\n    var handler = (function (ko, koPunches) {\\n    ko.punches.enableAll();\\n    ko.bindingHandlers.numericValue = {\\n        init: function(element, valueAccessor, allBindings, data, context) {\\n            var stringified = ko.observable(ko.unwrap(valueAccessor()));\\n            stringified.subscribe(function(value) {\\n                var val = parseFloat(value);\\n                if (!isNaN(val)) {\\n                    valueAccessor()(val);\\n                }\\n            });\\n            valueAccessor().subscribe(function(value) {\\n                var str = JSON.stringify(value);\\n                if ((str == \\\"0\\\") && ([\\\"-0\\\", \\\"-0.\\\"].indexOf(stringified()) >= 0))\\n                     return;\\n                 if ([\\\"null\\\", \\\"\\\"].indexOf(str) >= 0)\\n                     return;\\n                stringified(str);\\n            });\\n            ko.applyBindingsToNode(\\n                element,\\n                {\\n                    value: stringified,\\n                    valueUpdate: allBindings.get('valueUpdate'),\\n                },\\n                context,\\n            );\\n        }\\n    };\\n    var json_data = {\\\"formatted_vals\\\":[\\\"0.1\\\",\\\"0.2\\\",\\\"0.3\\\",\\\"0.4\\\",\\\"0.5\\\",\\\"0.6\\\",\\\"0.7\\\",\\\"0.8\\\",\\\"0.9\\\",\\\"1.0\\\",\\\"1.1\\\",\\\"1.2\\\",\\\"1.3\\\",\\\"1.4\\\",\\\"1.5\\\",\\\"1.6\\\",\\\"1.7\\\",\\\"1.8\\\",\\\"1.9\\\",\\\"2.0\\\"],\\\"changes\\\":WebIO.getval({\\\"name\\\":\\\"changes\\\",\\\"scope\\\":\\\"10819220074708335206\\\",\\\"id\\\":\\\"14262898987701607693\\\",\\\"type\\\":\\\"observable\\\"}),\\\"index\\\":WebIO.getval({\\\"name\\\":\\\"index\\\",\\\"scope\\\":\\\"10819220074708335206\\\",\\\"id\\\":\\\"7618913512148089945\\\",\\\"type\\\":\\\"observable\\\"})};\\n    var self = this;\\n    function AppViewModel() {\\n        for (var key in json_data) {\\n            var el = json_data[key];\\n            this[key] = Array.isArray(el) ? ko.observableArray(el) : ko.observable(el);\\n        }\\n        \\n        [this[\\\"formatted_val\\\"]=ko.computed(    function(){\\n        return this.formatted_vals()[parseInt(this.index())-(1)];\\n    }\\n,this)]\\n        [this[\\\"changes\\\"].subscribe((function (val){!(this.valueFromJulia[\\\"changes\\\"]) ? (WebIO.setval({\\\"name\\\":\\\"changes\\\",\\\"scope\\\":\\\"10819220074708335206\\\",\\\"id\\\":\\\"14262898987701607693\\\",\\\"type\\\":\\\"observable\\\"},val)) : undefined; return this.valueFromJulia[\\\"changes\\\"]=false}),self),this[\\\"index\\\"].subscribe((function (val){!(this.valueFromJulia[\\\"index\\\"]) ? (WebIO.setval({\\\"name\\\":\\\"index\\\",\\\"scope\\\":\\\"10819220074708335206\\\",\\\"id\\\":\\\"7618913512148089945\\\",\\\"type\\\":\\\"observable\\\"},val)) : undefined; return this.valueFromJulia[\\\"index\\\"]=false}),self)]\\n        \\n    }\\n    self.model = new AppViewModel();\\n    self.valueFromJulia = {};\\n    for (var key in json_data) {\\n        self.valueFromJulia[key] = false;\\n    }\\n    ko.applyBindings(self.model, self.dom);\\n}\\n);\\n    (WebIO.importBlock({\\\"data\\\":[{\\\"name\\\":\\\"knockout\\\",\\\"type\\\":\\\"js\\\",\\\"url\\\":\\\"\\/assetserver\\/727383f2a47bd31570b7da84eee7b022dd6d7c78-knockout.js\\\"},{\\\"name\\\":\\\"knockout_punches\\\",\\\"type\\\":\\\"js\\\",\\\"url\\\":\\\"\\/assetserver\\/382b41b3b1bd9f26f75861d360bad7f8beea211f-knockout_punches.js\\\"}],\\\"type\\\":\\\"async_block\\\"})).then((imports) => handler.apply(this, imports));\\n}\\n\"],\"observables\":{\"changes\":{\"sync\":false,\"id\":\"14262898987701607693\",\"value\":0},\"index\":{\"sync\":true,\"id\":\"7618913512148089945\",\"value\":10}}},\"children\":[{\"props\":{\"className\":\"interact-flex-row interact-widget\"},\"nodeType\":\"DOM\",\"type\":\"node\",\"instanceArgs\":{\"namespace\":\"html\",\"tag\":\"div\"},\"children\":[{\"props\":{\"className\":\"interact-flex-row-left\"},\"nodeType\":\"DOM\",\"type\":\"node\",\"instanceArgs\":{\"namespace\":\"html\",\"tag\":\"div\"},\"children\":[{\"props\":{\"className\":\"interact \",\"style\":{\"padding\":\"5px 10px 0px 10px\"}},\"nodeType\":\"DOM\",\"type\":\"node\",\"instanceArgs\":{\"namespace\":\"html\",\"tag\":\"label\"},\"children\":[\"scale\"]}]},{\"props\":{\"className\":\"interact-flex-row-center\"},\"nodeType\":\"DOM\",\"type\":\"node\",\"instanceArgs\":{\"namespace\":\"html\",\"tag\":\"div\"},\"children\":[{\"props\":{\"max\":20,\"min\":1,\"attributes\":{\"type\":\"range\",\"data-bind\":\"numericValue: index, valueUpdate: 'input', event: {change: function (){this.changes(this.changes()+1)}}\",\"orient\":\"horizontal\"},\"step\":1,\"className\":\"slider slider is-fullwidth\",\"style\":{}},\"nodeType\":\"DOM\",\"type\":\"node\",\"instanceArgs\":{\"namespace\":\"html\",\"tag\":\"input\"},\"children\":[]}]},{\"props\":{\"className\":\"interact-flex-row-right\"},\"nodeType\":\"DOM\",\"type\":\"node\",\"instanceArgs\":{\"namespace\":\"html\",\"tag\":\"div\"},\"children\":[{\"props\":{\"attributes\":{\"data-bind\":\"text: formatted_val\"}},\"nodeType\":\"DOM\",\"type\":\"node\",\"instanceArgs\":{\"namespace\":\"html\",\"tag\":\"p\"},\"children\":[]}]}]}]}]},{\"props\":{\"style\":{\"display\":\"flex\",\"flex-direction\":\"row\"}},\"nodeType\":\"DOM\",\"type\":\"node\",\"instanceArgs\":{\"namespace\":\"html\",\"tag\":\"div\"},\"children\":[{\"props\":{\"className\":\"interact-widget\"},\"nodeType\":\"DOM\",\"type\":\"node\",\"instanceArgs\":{\"namespace\":\"html\",\"tag\":\"div\"},\"children\":[{\"props\":{},\"nodeType\":\"Scope\",\"type\":\"node\",\"instanceArgs\":{\"imports\":{\"data\":[{\"name\":null,\"type\":\"js\",\"url\":\"\\/assetserver\\/dd22ed1bf1896c2748f3fe616ce0b838adc895c1-katex.min.js\"},{\"name\":null,\"type\":\"css\",\"url\":\"\\/assetserver\\/46517a424aa5e6cffc1360d7e0848b601c584ee3-katex.min.css\"}],\"type\":\"async_block\"},\"id\":\"7509431267406068882\",\"handlers\":{\"value\":[\"(function (txt){return this.k.render(txt,this.container)})\"]},\"systemjs_options\":null,\"mount_callbacks\":[\"function () {\\n    var handler = ((function (k){this.k=k; this.container=this.dom.querySelector(\\\"#container\\\"); return k.render(\\\"\\\\\\\\;\\\\\\\\;\\\",this.container)}));\\n    (WebIO.importBlock({\\\"data\\\":[{\\\"name\\\":null,\\\"type\\\":\\\"js\\\",\\\"url\\\":\\\"\\/assetserver\\/dd22ed1bf1896c2748f3fe616ce0b838adc895c1-katex.min.js\\\"},{\\\"name\\\":null,\\\"type\\\":\\\"css\\\",\\\"url\\\":\\\"\\/assetserver\\/46517a424aa5e6cffc1360d7e0848b601c584ee3-katex.min.css\\\"}],\\\"type\\\":\\\"async_block\\\"})).then((imports) => handler.apply(this, imports));\\n}\\n\"],\"observables\":{\"value\":{\"sync\":false,\"id\":\"9490827102643447457\",\"value\":\"\\\\;\\\\;\"}}},\"children\":[{\"props\":{\"id\":\"container\"},\"nodeType\":\"DOM\",\"type\":\"node\",\"instanceArgs\":{\"namespace\":\"html\",\"tag\":\"div\"},\"children\":[]}]}]},{\"props\":{\"className\":\"field interact-widget\"},\"nodeType\":\"DOM\",\"type\":\"node\",\"instanceArgs\":{\"namespace\":\"html\",\"tag\":\"div\"},\"children\":[{\"props\":{},\"nodeType\":\"Scope\",\"type\":\"node\",\"instanceArgs\":{\"imports\":{\"data\":[{\"name\":\"knockout\",\"type\":\"js\",\"url\":\"\\/assetserver\\/727383f2a47bd31570b7da84eee7b022dd6d7c78-knockout.js\"},{\"name\":\"knockout_punches\",\"type\":\"js\",\"url\":\"\\/assetserver\\/382b41b3b1bd9f26f75861d360bad7f8beea211f-knockout_punches.js\"},{\"name\":null,\"type\":\"js\",\"url\":\"\\/assetserver\\/5ab20f1060420992a9b82a65b735dee4d81ef413-all.js\"},{\"name\":null,\"type\":\"css\",\"url\":\"\\/assetserver\\/1cc0ed62837210b80a182cc3676512f895dab686-style.css\"},{\"name\":null,\"type\":\"css\",\"url\":\"\\/assetserver\\/2eee816f616df3549d7044d45e744fbf8d42bfa1-bulma_confined.min.css\"}],\"type\":\"async_block\"},\"id\":\"2013777754586296717\",\"handlers\":{\"loading\":[\"(function (val){return (val!=this.model[\\\"loading\\\"]()) ? (this.valueFromJulia[\\\"loading\\\"]=true, this.model[\\\"loading\\\"](val)) : undefined})\"],\"clicks\":[\"(function (val){return (val!=this.model[\\\"clicks\\\"]()) ? (this.valueFromJulia[\\\"clicks\\\"]=true, this.model[\\\"clicks\\\"](val)) : undefined})\"]},\"systemjs_options\":null,\"mount_callbacks\":[\"function () {\\n    var handler = (function (ko, koPunches) {\\n    ko.punches.enableAll();\\n    ko.bindingHandlers.numericValue = {\\n        init: function(element, valueAccessor, allBindings, data, context) {\\n            var stringified = ko.observable(ko.unwrap(valueAccessor()));\\n            stringified.subscribe(function(value) {\\n                var val = parseFloat(value);\\n                if (!isNaN(val)) {\\n                    valueAccessor()(val);\\n                }\\n            });\\n            valueAccessor().subscribe(function(value) {\\n                var str = JSON.stringify(value);\\n                if ((str == \\\"0\\\") && ([\\\"-0\\\", \\\"-0.\\\"].indexOf(stringified()) >= 0))\\n                     return;\\n                 if ([\\\"null\\\", \\\"\\\"].indexOf(str) >= 0)\\n                     return;\\n                stringified(str);\\n            });\\n            ko.applyBindingsToNode(\\n                element,\\n                {\\n                    value: stringified,\\n                    valueUpdate: allBindings.get('valueUpdate'),\\n                },\\n                context,\\n            );\\n        }\\n    };\\n    var json_data = {\\\"loading\\\":WebIO.getval({\\\"name\\\":\\\"loading\\\",\\\"scope\\\":\\\"2013777754586296717\\\",\\\"id\\\":\\\"13009168616621597742\\\",\\\"type\\\":\\\"observable\\\"}),\\\"clicks\\\":WebIO.getval({\\\"name\\\":\\\"clicks\\\",\\\"scope\\\":\\\"2013777754586296717\\\",\\\"id\\\":\\\"4979887161988928524\\\",\\\"type\\\":\\\"observable\\\"})};\\n    var self = this;\\n    function AppViewModel() {\\n        for (var key in json_data) {\\n            var el = json_data[key];\\n            this[key] = Array.isArray(el) ? ko.observableArray(el) : ko.observable(el);\\n        }\\n        \\n        \\n        [this[\\\"loading\\\"].subscribe((function (val){!(this.valueFromJulia[\\\"loading\\\"]) ? (WebIO.setval({\\\"name\\\":\\\"loading\\\",\\\"scope\\\":\\\"2013777754586296717\\\",\\\"id\\\":\\\"13009168616621597742\\\",\\\"type\\\":\\\"observable\\\"},val)) : undefined; return this.valueFromJulia[\\\"loading\\\"]=false}),self),this[\\\"clicks\\\"].subscribe((function (val){!(this.valueFromJulia[\\\"clicks\\\"]) ? (WebIO.setval({\\\"name\\\":\\\"clicks\\\",\\\"scope\\\":\\\"2013777754586296717\\\",\\\"id\\\":\\\"4979887161988928524\\\",\\\"type\\\":\\\"observable\\\"},val)) : undefined; return this.valueFromJulia[\\\"clicks\\\"]=false}),self)]\\n        \\n    }\\n    self.model = new AppViewModel();\\n    self.valueFromJulia = {};\\n    for (var key in json_data) {\\n        self.valueFromJulia[key] = false;\\n    }\\n    ko.applyBindings(self.model, self.dom);\\n}\\n);\\n    (WebIO.importBlock({\\\"data\\\":[{\\\"name\\\":\\\"knockout\\\",\\\"type\\\":\\\"js\\\",\\\"url\\\":\\\"\\/assetserver\\/727383f2a47bd31570b7da84eee7b022dd6d7c78-knockout.js\\\"},{\\\"name\\\":\\\"knockout_punches\\\",\\\"type\\\":\\\"js\\\",\\\"url\\\":\\\"\\/assetserver\\/382b41b3b1bd9f26f75861d360bad7f8beea211f-knockout_punches.js\\\"}],\\\"type\\\":\\\"async_block\\\"})).then((imports) => handler.apply(this, imports));\\n}\\n\"],\"observables\":{\"loading\":{\"sync\":false,\"id\":\"13009168616621597742\",\"value\":false},\"clicks\":{\"sync\":true,\"id\":\"4979887161988928524\",\"value\":0}}},\"children\":[{\"props\":{\"attributes\":{\"data-bind\":\"click: function (){this.clicks(this.clicks()+1)}, css: {'is-loading' : loading}\"},\"className\":\"is-medium button is-primary\",\"style\":{}},\"nodeType\":\"DOM\",\"type\":\"node\",\"instanceArgs\":{\"namespace\":\"html\",\"tag\":\"button\"},\"children\":[\"run\"]}]}]},{\"props\":{\"className\":\"interact-widget\"},\"nodeType\":\"DOM\",\"type\":\"node\",\"instanceArgs\":{\"namespace\":\"html\",\"tag\":\"div\"},\"children\":[{\"props\":{},\"nodeType\":\"Scope\",\"type\":\"node\",\"instanceArgs\":{\"imports\":{\"data\":[{\"name\":null,\"type\":\"js\",\"url\":\"\\/assetserver\\/dd22ed1bf1896c2748f3fe616ce0b838adc895c1-katex.min.js\"},{\"name\":null,\"type\":\"css\",\"url\":\"\\/assetserver\\/46517a424aa5e6cffc1360d7e0848b601c584ee3-katex.min.css\"}],\"type\":\"async_block\"},\"id\":\"7509431267406068882\",\"handlers\":{\"value\":[\"(function (txt){return this.k.render(txt,this.container)})\"]},\"systemjs_options\":null,\"mount_callbacks\":[\"function () {\\n    var handler = ((function (k){this.k=k; this.container=this.dom.querySelector(\\\"#container\\\"); return k.render(\\\"\\\\\\\\;\\\\\\\\;\\\",this.container)}));\\n    (WebIO.importBlock({\\\"data\\\":[{\\\"name\\\":null,\\\"type\\\":\\\"js\\\",\\\"url\\\":\\\"\\/assetserver\\/dd22ed1bf1896c2748f3fe616ce0b838adc895c1-katex.min.js\\\"},{\\\"name\\\":null,\\\"type\\\":\\\"css\\\",\\\"url\\\":\\\"\\/assetserver\\/46517a424aa5e6cffc1360d7e0848b601c584ee3-katex.min.css\\\"}],\\\"type\\\":\\\"async_block\\\"})).then((imports) => handler.apply(this, imports));\\n}\\n\"],\"observables\":{\"value\":{\"sync\":false,\"id\":\"9490827102643447457\",\"value\":\"\\\\;\\\\;\"}}},\"children\":[{\"props\":{\"id\":\"container\"},\"nodeType\":\"DOM\",\"type\":\"node\",\"instanceArgs\":{\"namespace\":\"html\",\"tag\":\"div\"},\"children\":[]}]}]},{\"props\":{\"className\":\"field interact-widget\"},\"nodeType\":\"DOM\",\"type\":\"node\",\"instanceArgs\":{\"namespace\":\"html\",\"tag\":\"div\"},\"children\":[{\"props\":{},\"nodeType\":\"Scope\",\"type\":\"node\",\"instanceArgs\":{\"imports\":{\"data\":[{\"name\":\"knockout\",\"type\":\"js\",\"url\":\"\\/assetserver\\/727383f2a47bd31570b7da84eee7b022dd6d7c78-knockout.js\"},{\"name\":\"knockout_punches\",\"type\":\"js\",\"url\":\"\\/assetserver\\/382b41b3b1bd9f26f75861d360bad7f8beea211f-knockout_punches.js\"},{\"name\":null,\"type\":\"js\",\"url\":\"\\/assetserver\\/5ab20f1060420992a9b82a65b735dee4d81ef413-all.js\"},{\"name\":null,\"type\":\"css\",\"url\":\"\\/assetserver\\/1cc0ed62837210b80a182cc3676512f895dab686-style.css\"},{\"name\":null,\"type\":\"css\",\"url\":\"\\/assetserver\\/2eee816f616df3549d7044d45e744fbf8d42bfa1-bulma_confined.min.css\"}],\"type\":\"async_block\"},\"id\":\"1296399479305746690\",\"handlers\":{\"loading\":[\"(function (val){return (val!=this.model[\\\"loading\\\"]()) ? (this.valueFromJulia[\\\"loading\\\"]=true, this.model[\\\"loading\\\"](val)) : undefined})\"],\"clicks\":[\"(function (val){return (val!=this.model[\\\"clicks\\\"]()) ? (this.valueFromJulia[\\\"clicks\\\"]=true, this.model[\\\"clicks\\\"](val)) : undefined})\"]},\"systemjs_options\":null,\"mount_callbacks\":[\"function () {\\n    var handler = (function (ko, koPunches) {\\n    ko.punches.enableAll();\\n    ko.bindingHandlers.numericValue = {\\n        init: function(element, valueAccessor, allBindings, data, context) {\\n            var stringified = ko.observable(ko.unwrap(valueAccessor()));\\n            stringified.subscribe(function(value) {\\n                var val = parseFloat(value);\\n                if (!isNaN(val)) {\\n                    valueAccessor()(val);\\n                }\\n            });\\n            valueAccessor().subscribe(function(value) {\\n                var str = JSON.stringify(value);\\n                if ((str == \\\"0\\\") && ([\\\"-0\\\", \\\"-0.\\\"].indexOf(stringified()) >= 0))\\n                     return;\\n                 if ([\\\"null\\\", \\\"\\\"].indexOf(str) >= 0)\\n                     return;\\n                stringified(str);\\n            });\\n            ko.applyBindingsToNode(\\n                element,\\n                {\\n                    value: stringified,\\n                    valueUpdate: allBindings.get('valueUpdate'),\\n                },\\n                context,\\n            );\\n        }\\n    };\\n    var json_data = {\\\"loading\\\":WebIO.getval({\\\"name\\\":\\\"loading\\\",\\\"scope\\\":\\\"1296399479305746690\\\",\\\"id\\\":\\\"10548440708219436917\\\",\\\"type\\\":\\\"observable\\\"}),\\\"clicks\\\":WebIO.getval({\\\"name\\\":\\\"clicks\\\",\\\"scope\\\":\\\"1296399479305746690\\\",\\\"id\\\":\\\"3411016877132533776\\\",\\\"type\\\":\\\"observable\\\"})};\\n    var self = this;\\n    function AppViewModel() {\\n        for (var key in json_data) {\\n            var el = json_data[key];\\n            this[key] = Array.isArray(el) ? ko.observableArray(el) : ko.observable(el);\\n        }\\n        \\n        \\n        [this[\\\"loading\\\"].subscribe((function (val){!(this.valueFromJulia[\\\"loading\\\"]) ? (WebIO.setval({\\\"name\\\":\\\"loading\\\",\\\"scope\\\":\\\"1296399479305746690\\\",\\\"id\\\":\\\"10548440708219436917\\\",\\\"type\\\":\\\"observable\\\"},val)) : undefined; return this.valueFromJulia[\\\"loading\\\"]=false}),self),this[\\\"clicks\\\"].subscribe((function (val){!(this.valueFromJulia[\\\"clicks\\\"]) ? (WebIO.setval({\\\"name\\\":\\\"clicks\\\",\\\"scope\\\":\\\"1296399479305746690\\\",\\\"id\\\":\\\"3411016877132533776\\\",\\\"type\\\":\\\"observable\\\"},val)) : undefined; return this.valueFromJulia[\\\"clicks\\\"]=false}),self)]\\n        \\n    }\\n    self.model = new AppViewModel();\\n    self.valueFromJulia = {};\\n    for (var key in json_data) {\\n        self.valueFromJulia[key] = false;\\n    }\\n    ko.applyBindings(self.model, self.dom);\\n}\\n);\\n    (WebIO.importBlock({\\\"data\\\":[{\\\"name\\\":\\\"knockout\\\",\\\"type\\\":\\\"js\\\",\\\"url\\\":\\\"\\/assetserver\\/727383f2a47bd31570b7da84eee7b022dd6d7c78-knockout.js\\\"},{\\\"name\\\":\\\"knockout_punches\\\",\\\"type\\\":\\\"js\\\",\\\"url\\\":\\\"\\/assetserver\\/382b41b3b1bd9f26f75861d360bad7f8beea211f-knockout_punches.js\\\"}],\\\"type\\\":\\\"async_block\\\"})).then((imports) => handler.apply(this, imports));\\n}\\n\"],\"observables\":{\"loading\":{\"sync\":false,\"id\":\"10548440708219436917\",\"value\":false},\"clicks\":{\"sync\":true,\"id\":\"3411016877132533776\",\"value\":0}}},\"children\":[{\"props\":{\"attributes\":{\"data-bind\":\"click: function (){this.clicks(this.clicks()+1)}, css: {'is-loading' : loading}\"},\"className\":\"is-medium button is-primary\",\"style\":{}},\"nodeType\":\"DOM\",\"type\":\"node\",\"instanceArgs\":{\"namespace\":\"html\",\"tag\":\"button\"},\"children\":[\"stop\"]}]}]},{\"props\":{\"className\":\"interact-widget\"},\"nodeType\":\"DOM\",\"type\":\"node\",\"instanceArgs\":{\"namespace\":\"html\",\"tag\":\"div\"},\"children\":[{\"props\":{},\"nodeType\":\"Scope\",\"type\":\"node\",\"instanceArgs\":{\"imports\":{\"data\":[{\"name\":null,\"type\":\"js\",\"url\":\"\\/assetserver\\/dd22ed1bf1896c2748f3fe616ce0b838adc895c1-katex.min.js\"},{\"name\":null,\"type\":\"css\",\"url\":\"\\/assetserver\\/46517a424aa5e6cffc1360d7e0848b601c584ee3-katex.min.css\"}],\"type\":\"async_block\"},\"id\":\"7509431267406068882\",\"handlers\":{\"value\":[\"(function (txt){return this.k.render(txt,this.container)})\"]},\"systemjs_options\":null,\"mount_callbacks\":[\"function () {\\n    var handler = ((function (k){this.k=k; this.container=this.dom.querySelector(\\\"#container\\\"); return k.render(\\\"\\\\\\\\;\\\\\\\\;\\\",this.container)}));\\n    (WebIO.importBlock({\\\"data\\\":[{\\\"name\\\":null,\\\"type\\\":\\\"js\\\",\\\"url\\\":\\\"\\/assetserver\\/dd22ed1bf1896c2748f3fe616ce0b838adc895c1-katex.min.js\\\"},{\\\"name\\\":null,\\\"type\\\":\\\"css\\\",\\\"url\\\":\\\"\\/assetserver\\/46517a424aa5e6cffc1360d7e0848b601c584ee3-katex.min.css\\\"}],\\\"type\\\":\\\"async_block\\\"})).then((imports) => handler.apply(this, imports));\\n}\\n\"],\"observables\":{\"value\":{\"sync\":false,\"id\":\"9490827102643447457\",\"value\":\"\\\\;\\\\;\"}}},\"children\":[{\"props\":{\"id\":\"container\"},\"nodeType\":\"DOM\",\"type\":\"node\",\"instanceArgs\":{\"namespace\":\"html\",\"tag\":\"div\"},\"children\":[]}]}]},{\"props\":{\"className\":\"field interact-widget\"},\"nodeType\":\"DOM\",\"type\":\"node\",\"instanceArgs\":{\"namespace\":\"html\",\"tag\":\"div\"},\"children\":[{\"props\":{},\"nodeType\":\"Scope\",\"type\":\"node\",\"instanceArgs\":{\"imports\":{\"data\":[{\"name\":\"knockout\",\"type\":\"js\",\"url\":\"\\/assetserver\\/727383f2a47bd31570b7da84eee7b022dd6d7c78-knockout.js\"},{\"name\":\"knockout_punches\",\"type\":\"js\",\"url\":\"\\/assetserver\\/382b41b3b1bd9f26f75861d360bad7f8beea211f-knockout_punches.js\"},{\"name\":null,\"type\":\"js\",\"url\":\"\\/assetserver\\/5ab20f1060420992a9b82a65b735dee4d81ef413-all.js\"},{\"name\":null,\"type\":\"css\",\"url\":\"\\/assetserver\\/1cc0ed62837210b80a182cc3676512f895dab686-style.css\"},{\"name\":null,\"type\":\"css\",\"url\":\"\\/assetserver\\/2eee816f616df3549d7044d45e744fbf8d42bfa1-bulma_confined.min.css\"}],\"type\":\"async_block\"},\"id\":\"30456938359849757\",\"handlers\":{\"loading\":[\"(function (val){return (val!=this.model[\\\"loading\\\"]()) ? (this.valueFromJulia[\\\"loading\\\"]=true, this.model[\\\"loading\\\"](val)) : undefined})\"],\"clicks\":[\"(function (val){return (val!=this.model[\\\"clicks\\\"]()) ? (this.valueFromJulia[\\\"clicks\\\"]=true, this.model[\\\"clicks\\\"](val)) : undefined})\"]},\"systemjs_options\":null,\"mount_callbacks\":[\"function () {\\n    var handler = (function (ko, koPunches) {\\n    ko.punches.enableAll();\\n    ko.bindingHandlers.numericValue = {\\n        init: function(element, valueAccessor, allBindings, data, context) {\\n            var stringified = ko.observable(ko.unwrap(valueAccessor()));\\n            stringified.subscribe(function(value) {\\n                var val = parseFloat(value);\\n                if (!isNaN(val)) {\\n                    valueAccessor()(val);\\n                }\\n            });\\n            valueAccessor().subscribe(function(value) {\\n                var str = JSON.stringify(value);\\n                if ((str == \\\"0\\\") && ([\\\"-0\\\", \\\"-0.\\\"].indexOf(stringified()) >= 0))\\n                     return;\\n                 if ([\\\"null\\\", \\\"\\\"].indexOf(str) >= 0)\\n                     return;\\n                stringified(str);\\n            });\\n            ko.applyBindingsToNode(\\n                element,\\n                {\\n                    value: stringified,\\n                    valueUpdate: allBindings.get('valueUpdate'),\\n                },\\n                context,\\n            );\\n        }\\n    };\\n    var json_data = {\\\"loading\\\":WebIO.getval({\\\"name\\\":\\\"loading\\\",\\\"scope\\\":\\\"30456938359849757\\\",\\\"id\\\":\\\"16332138989915557607\\\",\\\"type\\\":\\\"observable\\\"}),\\\"clicks\\\":WebIO.getval({\\\"name\\\":\\\"clicks\\\",\\\"scope\\\":\\\"30456938359849757\\\",\\\"id\\\":\\\"12089512040957701396\\\",\\\"type\\\":\\\"observable\\\"})};\\n    var self = this;\\n    function AppViewModel() {\\n        for (var key in json_data) {\\n            var el = json_data[key];\\n            this[key] = Array.isArray(el) ? ko.observableArray(el) : ko.observable(el);\\n        }\\n        \\n        \\n        [this[\\\"loading\\\"].subscribe((function (val){!(this.valueFromJulia[\\\"loading\\\"]) ? (WebIO.setval({\\\"name\\\":\\\"loading\\\",\\\"scope\\\":\\\"30456938359849757\\\",\\\"id\\\":\\\"16332138989915557607\\\",\\\"type\\\":\\\"observable\\\"},val)) : undefined; return this.valueFromJulia[\\\"loading\\\"]=false}),self),this[\\\"clicks\\\"].subscribe((function (val){!(this.valueFromJulia[\\\"clicks\\\"]) ? (WebIO.setval({\\\"name\\\":\\\"clicks\\\",\\\"scope\\\":\\\"30456938359849757\\\",\\\"id\\\":\\\"12089512040957701396\\\",\\\"type\\\":\\\"observable\\\"},val)) : undefined; return this.valueFromJulia[\\\"clicks\\\"]=false}),self)]\\n        \\n    }\\n    self.model = new AppViewModel();\\n    self.valueFromJulia = {};\\n    for (var key in json_data) {\\n        self.valueFromJulia[key] = false;\\n    }\\n    ko.applyBindings(self.model, self.dom);\\n}\\n);\\n    (WebIO.importBlock({\\\"data\\\":[{\\\"name\\\":\\\"knockout\\\",\\\"type\\\":\\\"js\\\",\\\"url\\\":\\\"\\/assetserver\\/727383f2a47bd31570b7da84eee7b022dd6d7c78-knockout.js\\\"},{\\\"name\\\":\\\"knockout_punches\\\",\\\"type\\\":\\\"js\\\",\\\"url\\\":\\\"\\/assetserver\\/382b41b3b1bd9f26f75861d360bad7f8beea211f-knockout_punches.js\\\"}],\\\"type\\\":\\\"async_block\\\"})).then((imports) => handler.apply(this, imports));\\n}\\n\"],\"observables\":{\"loading\":{\"sync\":false,\"id\":\"16332138989915557607\",\"value\":false},\"clicks\":{\"sync\":true,\"id\":\"12089512040957701396\",\"value\":0}}},\"children\":[{\"props\":{\"attributes\":{\"data-bind\":\"click: function (){this.clicks(this.clicks()+1)}, css: {'is-loading' : loading}\"},\"className\":\"is-medium button is-primary\",\"style\":{}},\"nodeType\":\"DOM\",\"type\":\"node\",\"instanceArgs\":{\"namespace\":\"html\",\"tag\":\"button\"},\"children\":[\"save\"]}]}]}]}]},{\"props\":{\"className\":\"interact-widget\"},\"nodeType\":\"DOM\",\"type\":\"node\",\"instanceArgs\":{\"namespace\":\"html\",\"tag\":\"div\"},\"children\":[{\"props\":{},\"nodeType\":\"Scope\",\"type\":\"node\",\"instanceArgs\":{\"imports\":{\"data\":[{\"name\":null,\"type\":\"js\",\"url\":\"\\/assetserver\\/dd22ed1bf1896c2748f3fe616ce0b838adc895c1-katex.min.js\"},{\"name\":null,\"type\":\"css\",\"url\":\"\\/assetserver\\/46517a424aa5e6cffc1360d7e0848b601c584ee3-katex.min.css\"}],\"type\":\"async_block\"},\"id\":\"7509431267406068882\",\"handlers\":{\"value\":[\"(function (txt){return this.k.render(txt,this.container)})\"]},\"systemjs_options\":null,\"mount_callbacks\":[\"function () {\\n    var handler = ((function (k){this.k=k; this.container=this.dom.querySelector(\\\"#container\\\"); return k.render(\\\"\\\\\\\\;\\\\\\\\;\\\",this.container)}));\\n    (WebIO.importBlock({\\\"data\\\":[{\\\"name\\\":null,\\\"type\\\":\\\"js\\\",\\\"url\\\":\\\"\\/assetserver\\/dd22ed1bf1896c2748f3fe616ce0b838adc895c1-katex.min.js\\\"},{\\\"name\\\":null,\\\"type\\\":\\\"css\\\",\\\"url\\\":\\\"\\/assetserver\\/46517a424aa5e6cffc1360d7e0848b601c584ee3-katex.min.css\\\"}],\\\"type\\\":\\\"async_block\\\"})).then((imports) => handler.apply(this, imports));\\n}\\n\"],\"observables\":{\"value\":{\"sync\":false,\"id\":\"9490827102643447457\",\"value\":\"\\\\;\\\\;\"}}},\"children\":[{\"props\":{\"id\":\"container\"},\"nodeType\":\"DOM\",\"type\":\"node\",\"instanceArgs\":{\"namespace\":\"html\",\"tag\":\"div\"},\"children\":[]}]}]},{\"props\":{},\"nodeType\":\"Scope\",\"type\":\"node\",\"instanceArgs\":{\"imports\":{\"data\":[],\"type\":\"async_block\"},\"id\":\"11999116647922489659\",\"handlers\":{\"obs-output\":[\"function (value, scope) {\\n    scope.setInnerHTML(value);\\n}\\n\"]},\"systemjs_options\":null,\"mount_callbacks\":[],\"observables\":{\"obs-output\":{\"sync\":false,\"id\":\"16133790526915863681\",\"value\":\"<img src='data:image\\/png;base64,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'><\\/img>\"}}},\"children\":[{\"props\":{\"className\":\"webio-observable\",\"setInnerHtml\":\"<img src='data:image\\/png;base64,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'><\\/img>\"},\"nodeType\":\"DOM\",\"type\":\"node\",\"instanceArgs\":{\"namespace\":\"html\",\"tag\":\"div\"},\"children\":[]}]},{\"props\":{\"className\":\"interact-widget\"},\"nodeType\":\"DOM\",\"type\":\"node\",\"instanceArgs\":{\"namespace\":\"html\",\"tag\":\"div\"},\"children\":[{\"props\":{},\"nodeType\":\"Scope\",\"type\":\"node\",\"instanceArgs\":{\"imports\":{\"data\":[{\"name\":null,\"type\":\"js\",\"url\":\"\\/assetserver\\/dd22ed1bf1896c2748f3fe616ce0b838adc895c1-katex.min.js\"},{\"name\":null,\"type\":\"css\",\"url\":\"\\/assetserver\\/46517a424aa5e6cffc1360d7e0848b601c584ee3-katex.min.css\"}],\"type\":\"async_block\"},\"id\":\"7509431267406068882\",\"handlers\":{\"value\":[\"(function (txt){return this.k.render(txt,this.container)})\"]},\"systemjs_options\":null,\"mount_callbacks\":[\"function () {\\n    var handler = ((function (k){this.k=k; this.container=this.dom.querySelector(\\\"#container\\\"); return k.render(\\\"\\\\\\\\;\\\\\\\\;\\\",this.container)}));\\n    (WebIO.importBlock({\\\"data\\\":[{\\\"name\\\":null,\\\"type\\\":\\\"js\\\",\\\"url\\\":\\\"\\/assetserver\\/dd22ed1bf1896c2748f3fe616ce0b838adc895c1-katex.min.js\\\"},{\\\"name\\\":null,\\\"type\\\":\\\"css\\\",\\\"url\\\":\\\"\\/assetserver\\/46517a424aa5e6cffc1360d7e0848b601c584ee3-katex.min.css\\\"}],\\\"type\\\":\\\"async_block\\\"})).then((imports) => handler.apply(this, imports));\\n}\\n\"],\"observables\":{\"value\":{\"sync\":false,\"id\":\"9490827102643447457\",\"value\":\"\\\\;\\\\;\"}}},\"children\":[{\"props\":{\"id\":\"container\"},\"nodeType\":\"DOM\",\"type\":\"node\",\"instanceArgs\":{\"namespace\":\"html\",\"tag\":\"div\"},\"children\":[]}]}]},{\"props\":{\"style\":{\"display\":\"flex\",\"flex-direction\":\"column\"}},\"nodeType\":\"DOM\",\"type\":\"node\",\"instanceArgs\":{\"namespace\":\"html\",\"tag\":\"div\"},\"children\":[]}]}]},\n",
       "        window,\n",
       "    );\n",
       "    })()\n",
       "    </script>\n",
       "</div>\n"
      ],
      "text/plain": [
       "WebIO.Node{WebIO.DOM}(WebIO.DOM(:html, :div), Any[WebIO.Node{WebIO.DOM}(WebIO.DOM(:html, :div), Any[WebIO.Node{WebIO.DOM}(WebIO.DOM(:html, :div), Any[WebIO.Node{WebIO.DOM}(WebIO.DOM(:html, :div), Any[WebIO.Scope(WebIO.Node{WebIO.DOM}(WebIO.DOM(:html, :div), Any[WebIO.Node{WebIO.DOM}(WebIO.DOM(:html, :div), Any[WebIO.Node{WebIO.DOM}(WebIO.DOM(:html, :label), Any[\"time\"], Dict{Symbol, Any}(:className => \"interact \", :style => Dict{Any, Any}(:padding => \"5px 10px 0px 10px\")))], Dict{Symbol, Any}(:className => \"interact-flex-row-left\")), WebIO.Node{WebIO.DOM}(WebIO.DOM(:html, :div), Any[WebIO.Node{WebIO.DOM}(WebIO.DOM(:html, :input), Any[], Dict{Symbol, Any}(:max => 201, :min => 1, :attributes => Dict{Any, Any}(:type => \"range\", Symbol(\"data-bind\") => \"numericValue: index, valueUpdate: 'input', event: {change: function (){this.changes(this.changes()+1)}}\", \"orient\" => \"horizontal\"), :step => 1, :className => \"slider slider is-fullwidth\", :style => Dict{Any, Any}()))], Dict{Symbol, Any}(:className => \"interact-flex-row-center\")), WebIO.Node{WebIO.DOM}(WebIO.DOM(:html, :div), Any[WebIO.Node{WebIO.DOM}(WebIO.DOM(:html, :p), Any[], Dict{Symbol, Any}(:attributes => Dict(\"data-bind\" => \"text: formatted_val\")))], Dict{Symbol, Any}(:className => \"interact-flex-row-right\"))], Dict{Symbol, Any}(:className => \"interact-flex-row interact-widget\")), Dict{String, Tuple{Observables.AbstractObservable, Union{Nothing, Bool}}}(\"changes\" => (Observable(0), nothing), \"index\" => (Observable(101), nothing)), Set{String}(), nothing, WebIO.Asset[WebIO.Asset(\"js\", \"knockout\", \"/home/dushya/.julia/packages/Knockout/HReiN/src/../assets/knockout.js\"), WebIO.Asset(\"js\", \"knockout_punches\", \"/home/dushya/.julia/packages/Knockout/HReiN/src/../assets/knockout_punches.js\"), WebIO.Asset(\"js\", nothing, \"/home/dushya/.julia/packages/InteractBase/LJXv3/src/../assets/all.js\"), WebIO.Asset(\"css\", nothing, \"/home/dushya/.julia/packages/InteractBase/LJXv3/src/../assets/style.css\"), WebIO.Asset(\"css\", nothing, \"/home/dushya/.julia/packages/Interact/PENUy/src/../assets/bulma_confined.min.css\")], Dict{Any, Any}(\"changes\" => Any[WebIO.JSString(\"(function (val){return (val!=this.model[\\\"changes\\\"]()) ? (this.valueFromJulia[\\\"changes\\\"]=true, this.model[\\\"changes\\\"](val)) : undefined})\")], \"index\" => Any[WebIO.JSString(\"(function (val){return (val!=this.model[\\\"index\\\"]()) ? (this.valueFromJulia[\\\"index\\\"]=true, this.model[\\\"index\\\"](val)) : undefined})\")]), WebIO.ConnectionPool(Channel{Any}(32), Set{WebIO.AbstractConnection}(), Base.GenericCondition{ReentrantLock}(Base.IntrusiveLinkedList{Task}(Task (runnable) @0x00007fc29fa1d910, Task (runnable) @0x00007fc29fa1d910), ReentrantLock(nothing, 0x00000000, 0x00, Base.GenericCondition{Base.Threads.SpinLock}(Base.IntrusiveLinkedList{Task}(nothing, nothing), Base.Threads.SpinLock(0)), (0, 0, 139779710648320)))), WebIO.JSString[WebIO.JSString(\"function () {\\n    var handler = (function (ko, koPunches) {\\n    ko.punches.enableAll();\\n    ko.bindingHandlers.numericValue = {\\n        init: function(element, valueAccessor, allBindings, data, context) {\\n            var stringified = ko.observable(ko.unwrap(valueAccessor()));\\n            stringified.subscribe(function(value) {\\n                var val = parseFloat(value);\\n                if (!isNaN(val)) {\\n                    valueAccessor()(val);\\n                }\\n            });\\n            valueAccessor().subscribe(function(value) {\\n                var str = JSON.stringify(value);\\n                if ((str == \\\"0\\\") && ([\\\"-0\\\", \\\"-0.\\\"].indexOf(stringified()) >= 0))\\n                     return;\\n                 if ([\\\"null\\\", \\\"\\\"].indexOf(str) >= 0)\\n                     return;\\n                stringified(str);\\n            });\\n            ko.applyBindingsToNode(\\n                element,\\n                {\\n                    value: stringified,\\n                    valueUpdate: allBindings.get('valueUpdate'),\\n                },\\n                context,\\n            );\\n        }\\n    };\\n    var json_data = {\\\"formatted_vals\\\":[\\\"1\\\",\\\"2\\\",\\\"3\\\",\\\"4\\\",\\\"5\\\",\\\"6\\\",\\\"7\\\",\\\"8\\\",\\\"9\\\",\\\"10\\\",\\\"11\\\",\\\"12\\\",\\\"13\\\",\\\"14\\\",\\\"15\\\",\\\"16\\\",\\\"17\\\",\\\"18\\\",\\\"19\\\",\\\"20\\\",\\\"21\\\",\\\"22\\\",\\\"23\\\",\\\"24\\\",\\\"25\\\",\\\"26\\\",\\\"27\\\",\\\"28\\\",\\\"29\\\",\\\"30\\\",\\\"31\\\",\\\"32\\\",\\\"33\\\",\\\"34\\\",\\\"35\\\",\\\"36\\\",\\\"37\\\",\\\"38\\\",\\\"39\\\",\\\"40\\\",\\\"41\\\",\\\"42\\\",\\\"43\\\",\\\"44\\\",\\\"45\\\",\\\"46\\\",\\\"47\\\",\\\"48\\\",\\\"49\\\",\\\"50\\\",\\\"51\\\",\\\"52\\\",\\\"53\\\",\\\"54\\\",\\\"55\\\",\\\"56\\\",\\\"57\\\",\\\"58\\\",\\\"59\\\",\\\"60\\\",\\\"61\\\",\\\"62\\\",\\\"63\\\",\\\"64\\\",\\\"65\\\",\\\"66\\\",\\\"67\\\",\\\"68\\\",\\\"69\\\",\\\"70\\\",\\\"71\\\",\\\"72\\\",\\\"73\\\",\\\"74\\\",\\\"75\\\",\\\"76\\\",\\\"77\\\",\\\"78\\\",\\\"79\\\",\\\"80\\\",\\\"81\\\",\\\"82\\\",\\\"83\\\",\\\"84\\\",\\\"85\\\",\\\"86\\\",\\\"87\\\",\\\"88\\\",\\\"89\\\",\\\"90\\\",\\\"91\\\",\\\"92\\\",\\\"93\\\",\\\"94\\\",\\\"95\\\",\\\"96\\\",\\\"97\\\",\\\"98\\\",\\\"99\\\",\\\"100\\\",\\\"101\\\",\\\"102\\\",\\\"103\\\",\\\"104\\\",\\\"105\\\",\\\"106\\\",\\\"107\\\",\\\"108\\\",\\\"109\\\",\\\"110\\\",\\\"111\\\",\\\"112\\\",\\\"113\\\",\\\"114\\\",\\\"115\\\",\\\"116\\\",\\\"117\\\",\\\"118\\\",\\\"119\\\",\\\"120\\\",\\\"121\\\",\\\"122\\\",\\\"123\\\",\\\"124\\\",\\\"125\\\",\\\"126\\\",\\\"127\\\",\\\"128\\\",\\\"129\\\",\\\"130\\\",\\\"131\\\",\\\"132\\\",\\\"133\\\",\\\"134\\\",\\\"135\\\",\\\"136\\\",\\\"137\\\",\\\"138\\\",\\\"139\\\",\\\"140\\\",\\\"141\\\",\\\"142\\\",\\\"143\\\",\\\"144\\\",\\\"145\\\",\\\"146\\\",\\\"147\\\",\\\"148\\\",\\\"149\\\",\\\"150\\\",\\\"151\\\",\\\"152\\\",\\\"153\\\",\\\"154\\\",\\\"155\\\",\\\"156\\\",\\\"157\\\",\\\"158\\\",\\\"159\\\",\\\"160\\\",\\\"161\\\",\\\"162\\\",\\\"163\\\",\\\"164\\\",\\\"165\\\",\\\"166\\\",\\\"167\\\",\\\"168\\\",\\\"169\\\",\\\"170\\\",\\\"171\\\",\\\"172\\\",\\\"173\\\",\\\"174\\\",\\\"175\\\",\\\"176\\\",\\\"177\\\",\\\"178\\\",\\\"179\\\",\\\"180\\\",\\\"181\\\",\\\"182\\\",\\\"183\\\",\\\"184\\\",\\\"185\\\",\\\"186\\\",\\\"187\\\",\\\"188\\\",\\\"189\\\",\\\"190\\\",\\\"191\\\",\\\"192\\\",\\\"193\\\",\\\"194\\\",\\\"195\\\",\\\"196\\\",\\\"197\\\",\\\"198\\\",\\\"199\\\",\\\"200\\\",\\\"201\\\"],\\\"changes\\\":WebIO.getval({\\\"name\\\":\\\"changes\\\",\\\"scope\\\":\\\"14535963727099491625\\\",\\\"id\\\":\\\"17552311157927145738\\\",\\\"type\\\":\\\"observable\\\"}),\\\"index\\\":WebIO.getval({\\\"name\\\":\\\"index\\\",\\\"scope\\\":\\\"14535963727099491625\\\",\\\"id\\\":\\\"18309381811582750417\\\",\\\"type\\\":\\\"observable\\\"})};\\n    var self = this;\\n    function AppViewModel() {\\n        for (var key in json_data) {\\n            var el = json_data[key];\\n            this[key] = Array.isArray(el) ? ko.observableArray(el) : ko.observable(el);\\n        }\\n        \\n        [this[\\\"formatted_val\\\"]=ko.computed(    function(){\\n        return this.formatted_vals()[parseInt(this.index())-(1)];\\n    }\\n,this)]\\n        [this[\\\"changes\\\"].subscribe((function (val){!(this.valueFromJulia[\\\"changes\\\"]) ? (WebIO.setval({\\\"name\\\":\\\"changes\\\",\\\"scope\\\":\\\"14535963727099491625\\\",\\\"id\\\":\\\"17552311157927145738\\\",\\\"type\\\":\\\"observable\\\"},val)) : undefined; return this.valueFromJulia[\\\"changes\\\"]=false}),self),this[\\\"index\\\"].subscribe((function (val){!(this.valueFromJulia[\\\"index\\\"]) ? (WebIO.setval({\\\"name\\\":\\\"index\\\",\\\"scope\\\":\\\"14535963727099491625\\\",\\\"id\\\":\\\"18309381811582750417\\\",\\\"type\\\":\\\"observable\\\"},val)) : undefined; return this.valueFromJulia[\\\"index\\\"]=false}),self)]\\n        \\n    }\\n    self.model = new AppViewModel();\\n    self.valueFromJulia = {};\\n    for (var key in json_data) {\\n        self.valueFromJulia[key] = false;\\n    }\\n    ko.applyBindings(self.model, self.dom);\\n}\\n);\\n    (WebIO.importBlock({\\\"data\\\":[{\\\"name\\\":\\\"knockout\\\",\\\"type\\\":\\\"js\\\",\\\"url\\\":\\\"/assetserver/727383f2a47bd31570b7da84eee7b022dd6d7c78-knockout.js\\\"},{\\\"name\\\":\\\"knockout_punches\\\",\\\"type\\\":\\\"js\\\",\\\"url\\\":\\\"/assetserver/382b41b3b1bd9f26f75861d360bad7f8beea211f-knockout_punches.js\\\"}],\\\"type\\\":\\\"async_block\\\"})).then((imports) => handler.apply(this, imports));\\n}\\n\")])], Dict{Symbol, Any}(:className => \"field interact-widget\")), WebIO.Node{WebIO.DOM}(WebIO.DOM(:html, :div), Any[WebIO.Scope(WebIO.Node{WebIO.DOM}(WebIO.DOM(:html, :div), Any[WebIO.Node{WebIO.DOM}(WebIO.DOM(:html, :div), Any[WebIO.Node{WebIO.DOM}(WebIO.DOM(:html, :label), Any[\"scale\"], Dict{Symbol, Any}(:className => \"interact \", :style => Dict{Any, Any}(:padding => \"5px 10px 0px 10px\")))], Dict{Symbol, Any}(:className => \"interact-flex-row-left\")), WebIO.Node{WebIO.DOM}(WebIO.DOM(:html, :div), Any[WebIO.Node{WebIO.DOM}(WebIO.DOM(:html, :input), Any[], Dict{Symbol, Any}(:max => 20, :min => 1, :attributes => Dict{Any, Any}(:type => \"range\", Symbol(\"data-bind\") => \"numericValue: index, valueUpdate: 'input', event: {change: function (){this.changes(this.changes()+1)}}\", \"orient\" => \"horizontal\"), :step => 1, :className => \"slider slider is-fullwidth\", :style => Dict{Any, Any}()))], Dict{Symbol, Any}(:className => \"interact-flex-row-center\")), WebIO.Node{WebIO.DOM}(WebIO.DOM(:html, :div), Any[WebIO.Node{WebIO.DOM}(WebIO.DOM(:html, :p), Any[], Dict{Symbol, Any}(:attributes => Dict(\"data-bind\" => \"text: formatted_val\")))], Dict{Symbol, Any}(:className => \"interact-flex-row-right\"))], Dict{Symbol, Any}(:className => \"interact-flex-row interact-widget\")), Dict{String, Tuple{Observables.AbstractObservable, Union{Nothing, Bool}}}(\"changes\" => (Observable(0), nothing), \"index\" => (Observable{Any}(10), nothing)), Set{String}(), nothing, WebIO.Asset[WebIO.Asset(\"js\", \"knockout\", \"/home/dushya/.julia/packages/Knockout/HReiN/src/../assets/knockout.js\"), WebIO.Asset(\"js\", \"knockout_punches\", \"/home/dushya/.julia/packages/Knockout/HReiN/src/../assets/knockout_punches.js\"), WebIO.Asset(\"js\", nothing, \"/home/dushya/.julia/packages/InteractBase/LJXv3/src/../assets/all.js\"), WebIO.Asset(\"css\", nothing, \"/home/dushya/.julia/packages/InteractBase/LJXv3/src/../assets/style.css\"), WebIO.Asset(\"css\", nothing, \"/home/dushya/.julia/packages/Interact/PENUy/src/../assets/bulma_confined.min.css\")], Dict{Any, Any}(\"changes\" => Any[WebIO.JSString(\"(function (val){return (val!=this.model[\\\"changes\\\"]()) ? (this.valueFromJulia[\\\"changes\\\"]=true, this.model[\\\"changes\\\"](val)) : undefined})\")], \"index\" => Any[WebIO.JSString(\"(function (val){return (val!=this.model[\\\"index\\\"]()) ? (this.valueFromJulia[\\\"index\\\"]=true, this.model[\\\"index\\\"](val)) : undefined})\")]), WebIO.ConnectionPool(Channel{Any}(32), Set{WebIO.AbstractConnection}(), Base.GenericCondition{ReentrantLock}(Base.IntrusiveLinkedList{Task}(Task (runnable) @0x00007fc2a03f5aa0, Task (runnable) @0x00007fc2a03f5aa0), ReentrantLock(nothing, 0x00000000, 0x00, Base.GenericCondition{Base.Threads.SpinLock}(Base.IntrusiveLinkedList{Task}(nothing, nothing), Base.Threads.SpinLock(0)), (1, 140473884650576, 140473044074736)))), WebIO.JSString[WebIO.JSString(\"function () {\\n    var handler = (function (ko, koPunches) {\\n    ko.punches.enableAll();\\n    ko.bindingHandlers.numericValue = {\\n        init: function(element, valueAccessor, allBindings, data, context) {\\n            var stringified = ko.observable(ko.unwrap(valueAccessor()));\\n            stringified.subscribe(function(value) {\\n                var val = parseFloat(value);\\n                if (!isNaN(val)) {\\n                    valueAccessor()(val);\\n                }\\n            });\\n            valueAccessor().subscribe(function(value) {\\n                var str = JSON.stringify(value);\\n                if ((str == \\\"0\\\") && ([\\\"-0\\\", \\\"-0.\\\"].indexOf(stringified()) >= 0))\\n                     return;\\n                 if ([\\\"null\\\", \\\"\\\"].indexOf(str) >= 0)\\n                     return;\\n                stringified(str);\\n            });\\n            ko.applyBindingsToNode(\\n                element,\\n                {\\n                    value: stringified,\\n                    valueUpdate: allBindings.get('valueUpdate'),\\n                },\\n                context,\\n            );\\n        }\\n    };\\n    var json_data = {\\\"formatted_vals\\\":[\\\"0.1\\\",\\\"0.2\\\",\\\"0.3\\\",\\\"0.4\\\",\\\"0.5\\\",\\\"0.6\\\",\\\"0.7\\\",\\\"0.8\\\",\\\"0.9\\\",\\\"1.0\\\",\\\"1.1\\\",\\\"1.2\\\",\\\"1.3\\\",\\\"1.4\\\",\\\"1.5\\\",\\\"1.6\\\",\\\"1.7\\\",\\\"1.8\\\",\\\"1.9\\\",\\\"2.0\\\"],\\\"changes\\\":WebIO.getval({\\\"name\\\":\\\"changes\\\",\\\"scope\\\":\\\"10819220074708335206\\\",\\\"id\\\":\\\"14262898987701607693\\\",\\\"type\\\":\\\"observable\\\"}),\\\"index\\\":WebIO.getval({\\\"name\\\":\\\"index\\\",\\\"scope\\\":\\\"10819220074708335206\\\",\\\"id\\\":\\\"7618913512148089945\\\",\\\"type\\\":\\\"observable\\\"})};\\n    var self = this;\\n    function AppViewModel() {\\n        for (var key in json_data) {\\n            var el = json_data[key];\\n            this[key] = Array.isArray(el) ? ko.observableArray(el) : ko.observable(el);\\n        }\\n        \\n        [this[\\\"formatted_val\\\"]=ko.computed(    function(){\\n        return this.formatted_vals()[parseInt(this.index())-(1)];\\n    }\\n,this)]\\n        [this[\\\"changes\\\"].subscribe((function (val){!(this.valueFromJulia[\\\"changes\\\"]) ? (WebIO.setval({\\\"name\\\":\\\"changes\\\",\\\"scope\\\":\\\"10819220074708335206\\\",\\\"id\\\":\\\"14262898987701607693\\\",\\\"type\\\":\\\"observable\\\"},val)) : undefined; return this.valueFromJulia[\\\"changes\\\"]=false}),self),this[\\\"index\\\"].subscribe((function (val){!(this.valueFromJulia[\\\"index\\\"]) ? (WebIO.setval({\\\"name\\\":\\\"index\\\",\\\"scope\\\":\\\"10819220074708335206\\\",\\\"id\\\":\\\"7618913512148089945\\\",\\\"type\\\":\\\"observable\\\"},val)) : undefined; return this.valueFromJulia[\\\"index\\\"]=false}),self)]\\n        \\n    }\\n    self.model = new AppViewModel();\\n    self.valueFromJulia = {};\\n    for (var key in json_data) {\\n        self.valueFromJulia[key] = false;\\n    }\\n    ko.applyBindings(self.model, self.dom);\\n}\\n);\\n    (WebIO.importBlock({\\\"data\\\":[{\\\"name\\\":\\\"knockout\\\",\\\"type\\\":\\\"js\\\",\\\"url\\\":\\\"/assetserver/727383f2a47bd31570b7da84eee7b022dd6d7c78-knockout.js\\\"},{\\\"name\\\":\\\"knockout_punches\\\",\\\"type\\\":\\\"js\\\",\\\"url\\\":\\\"/assetserver/382b41b3b1bd9f26f75861d360bad7f8beea211f-knockout_punches.js\\\"}],\\\"type\\\":\\\"async_block\\\"})).then((imports) => handler.apply(this, imports));\\n}\\n\")])], Dict{Symbol, Any}(:className => \"field interact-widget\")), WebIO.Node{WebIO.DOM}(WebIO.DOM(:html, :div), Any[WebIO.Node{WebIO.DOM}(WebIO.DOM(:html, :div), Any[WebIO.Scope(WebIO.Node{WebIO.DOM}(WebIO.DOM(:html, :div), Any[], Dict{Symbol, Any}(:id => \"container\")), Dict{String, Tuple{Observables.AbstractObservable, Union{Nothing, Bool}}}(\"value\" => (Observable(\"\\\\;\\\\;\"), nothing)), Set{String}(), nothing, WebIO.Asset[WebIO.Asset(\"js\", nothing, \"/home/dushya/.julia/packages/InteractBase/LJXv3/src/../assets/katex.min.js\"), WebIO.Asset(\"css\", nothing, \"/home/dushya/.julia/packages/InteractBase/LJXv3/src/../assets/katex.min.css\")], Dict{Any, Any}(\"value\" => Any[WebIO.JSString(\"(function (txt){return this.k.render(txt,this.container)})\")]), WebIO.ConnectionPool(Channel{Any}(32), Set{WebIO.AbstractConnection}(), Base.GenericCondition{ReentrantLock}(Base.IntrusiveLinkedList{Task}(Task (runnable) @0x00007fc231632400, Task (runnable) @0x00007fc231632400), ReentrantLock(nothing, 0x00000000, 0x00, Base.GenericCondition{Base.Threads.SpinLock}(Base.IntrusiveLinkedList{Task}(nothing, nothing), Base.Threads.SpinLock(0)), (0, 0, 141733920768)))), WebIO.JSString[WebIO.JSString(\"function () {\\n    var handler = ((function (k){this.k=k; this.container=this.dom.querySelector(\\\"#container\\\"); return k.render(\\\"\\\\\\\\;\\\\\\\\;\\\",this.container)}));\\n    (WebIO.importBlock({\\\"data\\\":[{\\\"name\\\":null,\\\"type\\\":\\\"js\\\",\\\"url\\\":\\\"/assetserver/dd22ed1bf1896c2748f3fe616ce0b838adc895c1-katex.min.js\\\"},{\\\"name\\\":null,\\\"type\\\":\\\"css\\\",\\\"url\\\":\\\"/assetserver/46517a424aa5e6cffc1360d7e0848b601c584ee3-katex.min.css\\\"}],\\\"type\\\":\\\"async_block\\\"})).then((imports) => handler.apply(this, imports));\\n}\\n\")])], Dict{Symbol, Any}(:className => \"interact-widget\")), WebIO.Node{WebIO.DOM}(WebIO.DOM(:html, :div), Any[WebIO.Scope(WebIO.Node{WebIO.DOM}(WebIO.DOM(:html, :button), Any[\"run\"], Dict{Symbol, Any}(:attributes => Dict{Any, Any}(\"data-bind\" => \"click: function (){this.clicks(this.clicks()+1)}, css: {'is-loading' : loading}\"), :className => \"is-medium button is-primary\", :style => Dict{String, Any}())), Dict{String, Tuple{Observables.AbstractObservable, Union{Nothing, Bool}}}(\"loading\" => (Observable(false), nothing), \"clicks\" => (Observable(0), nothing)), Set{String}(), nothing, WebIO.Asset[WebIO.Asset(\"js\", \"knockout\", \"/home/dushya/.julia/packages/Knockout/HReiN/src/../assets/knockout.js\"), WebIO.Asset(\"js\", \"knockout_punches\", \"/home/dushya/.julia/packages/Knockout/HReiN/src/../assets/knockout_punches.js\"), WebIO.Asset(\"js\", nothing, \"/home/dushya/.julia/packages/InteractBase/LJXv3/src/../assets/all.js\"), WebIO.Asset(\"css\", nothing, \"/home/dushya/.julia/packages/InteractBase/LJXv3/src/../assets/style.css\"), WebIO.Asset(\"css\", nothing, \"/home/dushya/.julia/packages/Interact/PENUy/src/../assets/bulma_confined.min.css\")], Dict{Any, Any}(\"loading\" => Any[WebIO.JSString(\"(function (val){return (val!=this.model[\\\"loading\\\"]()) ? (this.valueFromJulia[\\\"loading\\\"]=true, this.model[\\\"loading\\\"](val)) : undefined})\")], \"clicks\" => Any[WebIO.JSString(\"(function (val){return (val!=this.model[\\\"clicks\\\"]()) ? (this.valueFromJulia[\\\"clicks\\\"]=true, this.model[\\\"clicks\\\"](val)) : undefined})\")]), WebIO.ConnectionPool(Channel{Any}(32), Set{WebIO.AbstractConnection}(), Base.GenericCondition{ReentrantLock}(Base.IntrusiveLinkedList{Task}(Task (runnable) @0x00007fc22eda4330, Task (runnable) @0x00007fc22eda4330), ReentrantLock(nothing, 0x00000000, 0x00, Base.GenericCondition{Base.Threads.SpinLock}(Base.IntrusiveLinkedList{Task}(nothing, nothing), Base.Threads.SpinLock(0)), (0, 140472014205296, 140471987923616)))), WebIO.JSString[WebIO.JSString(\"function () {\\n    var handler = (function (ko, koPunches) {\\n    ko.punches.enableAll();\\n    ko.bindingHandlers.numericValue = {\\n        init: function(element, valueAccessor, allBindings, data, context) {\\n            var stringified = ko.observable(ko.unwrap(valueAccessor()));\\n            stringified.subscribe(function(value) {\\n                var val = parseFloat(value);\\n                if (!isNaN(val)) {\\n                    valueAccessor()(val);\\n                }\\n            });\\n            valueAccessor().subscribe(function(value) {\\n                var str = JSON.stringify(value);\\n                if ((str == \\\"0\\\") && ([\\\"-0\\\", \\\"-0.\\\"].indexOf(stringified()) >= 0))\\n                     return;\\n                 if ([\\\"null\\\", \\\"\\\"].indexOf(str) >= 0)\\n                     return;\\n                stringified(str);\\n            });\\n            ko.applyBindingsToNode(\\n                element,\\n                {\\n                    value: stringified,\\n                    valueUpdate: allBindings.get('valueUpdate'),\\n                },\\n                context,\\n            );\\n        }\\n    };\\n    var json_data = {\\\"loading\\\":WebIO.getval({\\\"name\\\":\\\"loading\\\",\\\"scope\\\":\\\"2013777754586296717\\\",\\\"id\\\":\\\"13009168616621597742\\\",\\\"type\\\":\\\"observable\\\"}),\\\"clicks\\\":WebIO.getval({\\\"name\\\":\\\"clicks\\\",\\\"scope\\\":\\\"2013777754586296717\\\",\\\"id\\\":\\\"4979887161988928524\\\",\\\"type\\\":\\\"observable\\\"})};\\n    var self = this;\\n    function AppViewModel() {\\n        for (var key in json_data) {\\n            var el = json_data[key];\\n            this[key] = Array.isArray(el) ? ko.observableArray(el) : ko.observable(el);\\n        }\\n        \\n        \\n        [this[\\\"loading\\\"].subscribe((function (val){!(this.valueFromJulia[\\\"loading\\\"]) ? (WebIO.setval({\\\"name\\\":\\\"loading\\\",\\\"scope\\\":\\\"2013777754586296717\\\",\\\"id\\\":\\\"13009168616621597742\\\",\\\"type\\\":\\\"observable\\\"},val)) : undefined; return this.valueFromJulia[\\\"loading\\\"]=false}),self),this[\\\"clicks\\\"].subscribe((function (val){!(this.valueFromJulia[\\\"clicks\\\"]) ? (WebIO.setval({\\\"name\\\":\\\"clicks\\\",\\\"scope\\\":\\\"2013777754586296717\\\",\\\"id\\\":\\\"4979887161988928524\\\",\\\"type\\\":\\\"observable\\\"},val)) : undefined; return this.valueFromJulia[\\\"clicks\\\"]=false}),self)]\\n        \\n    }\\n    self.model = new AppViewModel();\\n    self.valueFromJulia = {};\\n    for (var key in json_data) {\\n        self.valueFromJulia[key] = false;\\n    }\\n    ko.applyBindings(self.model, self.dom);\\n}\\n);\\n    (WebIO.importBlock({\\\"data\\\":[{\\\"name\\\":\\\"knockout\\\",\\\"type\\\":\\\"js\\\",\\\"url\\\":\\\"/assetserver/727383f2a47bd31570b7da84eee7b022dd6d7c78-knockout.js\\\"},{\\\"name\\\":\\\"knockout_punches\\\",\\\"type\\\":\\\"js\\\",\\\"url\\\":\\\"/assetserver/382b41b3b1bd9f26f75861d360bad7f8beea211f-knockout_punches.js\\\"}],\\\"type\\\":\\\"async_block\\\"})).then((imports) => handler.apply(this, imports));\\n}\\n\")])], Dict{Symbol, Any}(:className => \"field interact-widget\")), WebIO.Node{WebIO.DOM}(WebIO.DOM(:html, :div), Any[WebIO.Scope(WebIO.Node{WebIO.DOM}(WebIO.DOM(:html, :div), Any[], Dict{Symbol, Any}(:id => \"container\")), Dict{String, Tuple{Observables.AbstractObservable, Union{Nothing, Bool}}}(\"value\" => (Observable(\"\\\\;\\\\;\"), nothing)), Set{String}(), nothing, WebIO.Asset[WebIO.Asset(\"js\", nothing, \"/home/dushya/.julia/packages/InteractBase/LJXv3/src/../assets/katex.min.js\"), WebIO.Asset(\"css\", nothing, \"/home/dushya/.julia/packages/InteractBase/LJXv3/src/../assets/katex.min.css\")], Dict{Any, Any}(\"value\" => Any[WebIO.JSString(\"(function (txt){return this.k.render(txt,this.container)})\")]), WebIO.ConnectionPool(Channel{Any}(32), Set{WebIO.AbstractConnection}(), Base.GenericCondition{ReentrantLock}(Base.IntrusiveLinkedList{Task}(Task (runnable) @0x00007fc231632400, Task (runnable) @0x00007fc231632400), ReentrantLock(nothing, 0x00000000, 0x00, Base.GenericCondition{Base.Threads.SpinLock}(Base.IntrusiveLinkedList{Task}(nothing, nothing), Base.Threads.SpinLock(0)), (0, 0, 141733920768)))), WebIO.JSString[WebIO.JSString(\"function () {\\n    var handler = ((function (k){this.k=k; this.container=this.dom.querySelector(\\\"#container\\\"); return k.render(\\\"\\\\\\\\;\\\\\\\\;\\\",this.container)}));\\n    (WebIO.importBlock({\\\"data\\\":[{\\\"name\\\":null,\\\"type\\\":\\\"js\\\",\\\"url\\\":\\\"/assetserver/dd22ed1bf1896c2748f3fe616ce0b838adc895c1-katex.min.js\\\"},{\\\"name\\\":null,\\\"type\\\":\\\"css\\\",\\\"url\\\":\\\"/assetserver/46517a424aa5e6cffc1360d7e0848b601c584ee3-katex.min.css\\\"}],\\\"type\\\":\\\"async_block\\\"})).then((imports) => handler.apply(this, imports));\\n}\\n\")])], Dict{Symbol, Any}(:className => \"interact-widget\")), WebIO.Node{WebIO.DOM}(WebIO.DOM(:html, :div), Any[WebIO.Scope(WebIO.Node{WebIO.DOM}(WebIO.DOM(:html, :button), Any[\"stop\"], Dict{Symbol, Any}(:attributes => Dict{Any, Any}(\"data-bind\" => \"click: function (){this.clicks(this.clicks()+1)}, css: {'is-loading' : loading}\"), :className => \"is-medium button is-primary\", :style => Dict{String, Any}())), Dict{String, Tuple{Observables.AbstractObservable, Union{Nothing, Bool}}}(\"loading\" => (Observable(false), nothing), \"clicks\" => (Observable(0), nothing)), Set{String}(), nothing, WebIO.Asset[WebIO.Asset(\"js\", \"knockout\", \"/home/dushya/.julia/packages/Knockout/HReiN/src/../assets/knockout.js\"), WebIO.Asset(\"js\", \"knockout_punches\", \"/home/dushya/.julia/packages/Knockout/HReiN/src/../assets/knockout_punches.js\"), WebIO.Asset(\"js\", nothing, \"/home/dushya/.julia/packages/InteractBase/LJXv3/src/../assets/all.js\"), WebIO.Asset(\"css\", nothing, \"/home/dushya/.julia/packages/InteractBase/LJXv3/src/../assets/style.css\"), WebIO.Asset(\"css\", nothing, \"/home/dushya/.julia/packages/Interact/PENUy/src/../assets/bulma_confined.min.css\")], Dict{Any, Any}(\"loading\" => Any[WebIO.JSString(\"(function (val){return (val!=this.model[\\\"loading\\\"]()) ? (this.valueFromJulia[\\\"loading\\\"]=true, this.model[\\\"loading\\\"](val)) : undefined})\")], \"clicks\" => Any[WebIO.JSString(\"(function (val){return (val!=this.model[\\\"clicks\\\"]()) ? (this.valueFromJulia[\\\"clicks\\\"]=true, this.model[\\\"clicks\\\"](val)) : undefined})\")]), WebIO.ConnectionPool(Channel{Any}(32), Set{WebIO.AbstractConnection}(), Base.GenericCondition{ReentrantLock}(Base.IntrusiveLinkedList{Task}(Task (runnable) @0x00007fc22f25fb70, Task (runnable) @0x00007fc22f25fb70), ReentrantLock(nothing, 0x00000000, 0x00, Base.GenericCondition{Base.Threads.SpinLock}(Base.IntrusiveLinkedList{Task}(nothing, nothing), Base.Threads.SpinLock(0)), (8, 140473787290688, 0)))), WebIO.JSString[WebIO.JSString(\"function () {\\n    var handler = (function (ko, koPunches) {\\n    ko.punches.enableAll();\\n    ko.bindingHandlers.numericValue = {\\n        init: function(element, valueAccessor, allBindings, data, context) {\\n            var stringified = ko.observable(ko.unwrap(valueAccessor()));\\n            stringified.subscribe(function(value) {\\n                var val = parseFloat(value);\\n                if (!isNaN(val)) {\\n                    valueAccessor()(val);\\n                }\\n            });\\n            valueAccessor().subscribe(function(value) {\\n                var str = JSON.stringify(value);\\n                if ((str == \\\"0\\\") && ([\\\"-0\\\", \\\"-0.\\\"].indexOf(stringified()) >= 0))\\n                     return;\\n                 if ([\\\"null\\\", \\\"\\\"].indexOf(str) >= 0)\\n                     return;\\n                stringified(str);\\n            });\\n            ko.applyBindingsToNode(\\n                element,\\n                {\\n                    value: stringified,\\n                    valueUpdate: allBindings.get('valueUpdate'),\\n                },\\n                context,\\n            );\\n        }\\n    };\\n    var json_data = {\\\"loading\\\":WebIO.getval({\\\"name\\\":\\\"loading\\\",\\\"scope\\\":\\\"1296399479305746690\\\",\\\"id\\\":\\\"10548440708219436917\\\",\\\"type\\\":\\\"observable\\\"}),\\\"clicks\\\":WebIO.getval({\\\"name\\\":\\\"clicks\\\",\\\"scope\\\":\\\"1296399479305746690\\\",\\\"id\\\":\\\"3411016877132533776\\\",\\\"type\\\":\\\"observable\\\"})};\\n    var self = this;\\n    function AppViewModel() {\\n        for (var key in json_data) {\\n            var el = json_data[key];\\n            this[key] = Array.isArray(el) ? ko.observableArray(el) : ko.observable(el);\\n        }\\n        \\n        \\n        [this[\\\"loading\\\"].subscribe((function (val){!(this.valueFromJulia[\\\"loading\\\"]) ? (WebIO.setval({\\\"name\\\":\\\"loading\\\",\\\"scope\\\":\\\"1296399479305746690\\\",\\\"id\\\":\\\"10548440708219436917\\\",\\\"type\\\":\\\"observable\\\"},val)) : undefined; return this.valueFromJulia[\\\"loading\\\"]=false}),self),this[\\\"clicks\\\"].subscribe((function (val){!(this.valueFromJulia[\\\"clicks\\\"]) ? (WebIO.setval({\\\"name\\\":\\\"clicks\\\",\\\"scope\\\":\\\"1296399479305746690\\\",\\\"id\\\":\\\"3411016877132533776\\\",\\\"type\\\":\\\"observable\\\"},val)) : undefined; return this.valueFromJulia[\\\"clicks\\\"]=false}),self)]\\n        \\n    }\\n    self.model = new AppViewModel();\\n    self.valueFromJulia = {};\\n    for (var key in json_data) {\\n        self.valueFromJulia[key] = false;\\n    }\\n    ko.applyBindings(self.model, self.dom);\\n}\\n);\\n    (WebIO.importBlock({\\\"data\\\":[{\\\"name\\\":\\\"knockout\\\",\\\"type\\\":\\\"js\\\",\\\"url\\\":\\\"/assetserver/727383f2a47bd31570b7da84eee7b022dd6d7c78-knockout.js\\\"},{\\\"name\\\":\\\"knockout_punches\\\",\\\"type\\\":\\\"js\\\",\\\"url\\\":\\\"/assetserver/382b41b3b1bd9f26f75861d360bad7f8beea211f-knockout_punches.js\\\"}],\\\"type\\\":\\\"async_block\\\"})).then((imports) => handler.apply(this, imports));\\n}\\n\")])], Dict{Symbol, Any}(:className => \"field interact-widget\")), WebIO.Node{WebIO.DOM}(WebIO.DOM(:html, :div), Any[WebIO.Scope(WebIO.Node{WebIO.DOM}(WebIO.DOM(:html, :div), Any[], Dict{Symbol, Any}(:id => \"container\")), Dict{String, Tuple{Observables.AbstractObservable, Union{Nothing, Bool}}}(\"value\" => (Observable(\"\\\\;\\\\;\"), nothing)), Set{String}(), nothing, WebIO.Asset[WebIO.Asset(\"js\", nothing, \"/home/dushya/.julia/packages/InteractBase/LJXv3/src/../assets/katex.min.js\"), WebIO.Asset(\"css\", nothing, \"/home/dushya/.julia/packages/InteractBase/LJXv3/src/../assets/katex.min.css\")], Dict{Any, Any}(\"value\" => Any[WebIO.JSString(\"(function (txt){return this.k.render(txt,this.container)})\")]), WebIO.ConnectionPool(Channel{Any}(32), Set{WebIO.AbstractConnection}(), Base.GenericCondition{ReentrantLock}(Base.IntrusiveLinkedList{Task}(Task (runnable) @0x00007fc231632400, Task (runnable) @0x00007fc231632400), ReentrantLock(nothing, 0x00000000, 0x00, Base.GenericCondition{Base.Threads.SpinLock}(Base.IntrusiveLinkedList{Task}(nothing, nothing), Base.Threads.SpinLock(0)), (0, 0, 141733920768)))), WebIO.JSString[WebIO.JSString(\"function () {\\n    var handler = ((function (k){this.k=k; this.container=this.dom.querySelector(\\\"#container\\\"); return k.render(\\\"\\\\\\\\;\\\\\\\\;\\\",this.container)}));\\n    (WebIO.importBlock({\\\"data\\\":[{\\\"name\\\":null,\\\"type\\\":\\\"js\\\",\\\"url\\\":\\\"/assetserver/dd22ed1bf1896c2748f3fe616ce0b838adc895c1-katex.min.js\\\"},{\\\"name\\\":null,\\\"type\\\":\\\"css\\\",\\\"url\\\":\\\"/assetserver/46517a424aa5e6cffc1360d7e0848b601c584ee3-katex.min.css\\\"}],\\\"type\\\":\\\"async_block\\\"})).then((imports) => handler.apply(this, imports));\\n}\\n\")])], Dict{Symbol, Any}(:className => \"interact-widget\")), WebIO.Node{WebIO.DOM}(WebIO.DOM(:html, :div), Any[WebIO.Scope(WebIO.Node{WebIO.DOM}(WebIO.DOM(:html, :button), Any[\"save\"], Dict{Symbol, Any}(:attributes => Dict{Any, Any}(\"data-bind\" => \"click: function (){this.clicks(this.clicks()+1)}, css: {'is-loading' : loading}\"), :className => \"is-medium button is-primary\", :style => Dict{String, Any}())), Dict{String, Tuple{Observables.AbstractObservable, Union{Nothing, Bool}}}(\"loading\" => (Observable(false), nothing), \"clicks\" => (Observable(0), nothing)), Set{String}(), nothing, WebIO.Asset[WebIO.Asset(\"js\", \"knockout\", \"/home/dushya/.julia/packages/Knockout/HReiN/src/../assets/knockout.js\"), WebIO.Asset(\"js\", \"knockout_punches\", \"/home/dushya/.julia/packages/Knockout/HReiN/src/../assets/knockout_punches.js\"), WebIO.Asset(\"js\", nothing, \"/home/dushya/.julia/packages/InteractBase/LJXv3/src/../assets/all.js\"), WebIO.Asset(\"css\", nothing, \"/home/dushya/.julia/packages/InteractBase/LJXv3/src/../assets/style.css\"), WebIO.Asset(\"css\", nothing, \"/home/dushya/.julia/packages/Interact/PENUy/src/../assets/bulma_confined.min.css\")], Dict{Any, Any}(\"loading\" => Any[WebIO.JSString(\"(function (val){return (val!=this.model[\\\"loading\\\"]()) ? (this.valueFromJulia[\\\"loading\\\"]=true, this.model[\\\"loading\\\"](val)) : undefined})\")], \"clicks\" => Any[WebIO.JSString(\"(function (val){return (val!=this.model[\\\"clicks\\\"]()) ? (this.valueFromJulia[\\\"clicks\\\"]=true, this.model[\\\"clicks\\\"](val)) : undefined})\")]), WebIO.ConnectionPool(Channel{Any}(32), Set{WebIO.AbstractConnection}(), Base.GenericCondition{ReentrantLock}(Base.IntrusiveLinkedList{Task}(Task (runnable) @0x00007fc22f27a590, Task (runnable) @0x00007fc22f27a590), ReentrantLock(nothing, 0x00000000, 0x00, Base.GenericCondition{Base.Threads.SpinLock}(Base.IntrusiveLinkedList{Task}(nothing, nothing), Base.Threads.SpinLock(0)), (0, 140473787290624, 0)))), WebIO.JSString[WebIO.JSString(\"function () {\\n    var handler = (function (ko, koPunches) {\\n    ko.punches.enableAll();\\n    ko.bindingHandlers.numericValue = {\\n        init: function(element, valueAccessor, allBindings, data, context) {\\n            var stringified = ko.observable(ko.unwrap(valueAccessor()));\\n            stringified.subscribe(function(value) {\\n                var val = parseFloat(value);\\n                if (!isNaN(val)) {\\n                    valueAccessor()(val);\\n                }\\n            });\\n            valueAccessor().subscribe(function(value) {\\n                var str = JSON.stringify(value);\\n                if ((str == \\\"0\\\") && ([\\\"-0\\\", \\\"-0.\\\"].indexOf(stringified()) >= 0))\\n                     return;\\n                 if ([\\\"null\\\", \\\"\\\"].indexOf(str) >= 0)\\n                     return;\\n                stringified(str);\\n            });\\n            ko.applyBindingsToNode(\\n                element,\\n                {\\n                    value: stringified,\\n                    valueUpdate: allBindings.get('valueUpdate'),\\n                },\\n                context,\\n            );\\n        }\\n    };\\n    var json_data = {\\\"loading\\\":WebIO.getval({\\\"name\\\":\\\"loading\\\",\\\"scope\\\":\\\"30456938359849757\\\",\\\"id\\\":\\\"16332138989915557607\\\",\\\"type\\\":\\\"observable\\\"}),\\\"clicks\\\":WebIO.getval({\\\"name\\\":\\\"clicks\\\",\\\"scope\\\":\\\"30456938359849757\\\",\\\"id\\\":\\\"12089512040957701396\\\",\\\"type\\\":\\\"observable\\\"})};\\n    var self = this;\\n    function AppViewModel() {\\n        for (var key in json_data) {\\n            var el = json_data[key];\\n            this[key] = Array.isArray(el) ? ko.observableArray(el) : ko.observable(el);\\n        }\\n        \\n        \\n        [this[\\\"loading\\\"].subscribe((function (val){!(this.valueFromJulia[\\\"loading\\\"]) ? (WebIO.setval({\\\"name\\\":\\\"loading\\\",\\\"scope\\\":\\\"30456938359849757\\\",\\\"id\\\":\\\"16332138989915557607\\\",\\\"type\\\":\\\"observable\\\"},val)) : undefined; return this.valueFromJulia[\\\"loading\\\"]=false}),self),this[\\\"clicks\\\"].subscribe((function (val){!(this.valueFromJulia[\\\"clicks\\\"]) ? (WebIO.setval({\\\"name\\\":\\\"clicks\\\",\\\"scope\\\":\\\"30456938359849757\\\",\\\"id\\\":\\\"12089512040957701396\\\",\\\"type\\\":\\\"observable\\\"},val)) : undefined; return this.valueFromJulia[\\\"clicks\\\"]=false}),self)]\\n        \\n    }\\n    self.model = new AppViewModel();\\n    self.valueFromJulia = {};\\n    for (var key in json_data) {\\n        self.valueFromJulia[key] = false;\\n    }\\n    ko.applyBindings(self.model, self.dom);\\n}\\n);\\n    (WebIO.importBlock({\\\"data\\\":[{\\\"name\\\":\\\"knockout\\\",\\\"type\\\":\\\"js\\\",\\\"url\\\":\\\"/assetserver/727383f2a47bd31570b7da84eee7b022dd6d7c78-knockout.js\\\"},{\\\"name\\\":\\\"knockout_punches\\\",\\\"type\\\":\\\"js\\\",\\\"url\\\":\\\"/assetserver/382b41b3b1bd9f26f75861d360bad7f8beea211f-knockout_punches.js\\\"}],\\\"type\\\":\\\"async_block\\\"})).then((imports) => handler.apply(this, imports));\\n}\\n\")])], Dict{Symbol, Any}(:className => \"field interact-widget\"))], Dict{Symbol, Any}(:style => Dict(\"display\" => \"flex\", \"flex-direction\" => \"row\")))], Dict{Symbol, Any}(:style => Dict(\"display\" => \"flex\", \"flex-direction\" => \"column\"))), WebIO.Node{WebIO.DOM}(WebIO.DOM(:html, :div), Any[WebIO.Scope(WebIO.Node{WebIO.DOM}(WebIO.DOM(:html, :div), Any[], Dict{Symbol, Any}(:id => \"container\")), Dict{String, Tuple{Observables.AbstractObservable, Union{Nothing, Bool}}}(\"value\" => (Observable(\"\\\\;\\\\;\"), nothing)), Set{String}(), nothing, WebIO.Asset[WebIO.Asset(\"js\", nothing, \"/home/dushya/.julia/packages/InteractBase/LJXv3/src/../assets/katex.min.js\"), WebIO.Asset(\"css\", nothing, \"/home/dushya/.julia/packages/InteractBase/LJXv3/src/../assets/katex.min.css\")], Dict{Any, Any}(\"value\" => Any[WebIO.JSString(\"(function (txt){return this.k.render(txt,this.container)})\")]), WebIO.ConnectionPool(Channel{Any}(32), Set{WebIO.AbstractConnection}(), Base.GenericCondition{ReentrantLock}(Base.IntrusiveLinkedList{Task}(Task (runnable) @0x00007fc231632400, Task (runnable) @0x00007fc231632400), ReentrantLock(nothing, 0x00000000, 0x00, Base.GenericCondition{Base.Threads.SpinLock}(Base.IntrusiveLinkedList{Task}(nothing, nothing), Base.Threads.SpinLock(0)), (0, 0, 141733920768)))), WebIO.JSString[WebIO.JSString(\"function () {\\n    var handler = ((function (k){this.k=k; this.container=this.dom.querySelector(\\\"#container\\\"); return k.render(\\\"\\\\\\\\;\\\\\\\\;\\\",this.container)}));\\n    (WebIO.importBlock({\\\"data\\\":[{\\\"name\\\":null,\\\"type\\\":\\\"js\\\",\\\"url\\\":\\\"/assetserver/dd22ed1bf1896c2748f3fe616ce0b838adc895c1-katex.min.js\\\"},{\\\"name\\\":null,\\\"type\\\":\\\"css\\\",\\\"url\\\":\\\"/assetserver/46517a424aa5e6cffc1360d7e0848b601c584ee3-katex.min.css\\\"}],\\\"type\\\":\\\"async_block\\\"})).then((imports) => handler.apply(this, imports));\\n}\\n\")])], Dict{Symbol, Any}(:className => \"interact-widget\")), Observable(Luxor.Drawing(430.0, 430.0, \"\", Cairo.CairoSurfaceBase{UInt32}(Ptr{Nothing} @0x0000000000000000, 430.0, 430.0), Cairo.CairoContext(Ptr{Nothing} @0x0000000003d84910, Cairo.CairoSurfaceBase{UInt32}(Ptr{Nothing} @0x0000000000000000, 430.0, 430.0), Ptr{Nothing} @0x00000000037700d0), :png, 0.0, 0.0, 0.0, 1.0, IOBuffer(data=UInt8[...], readable=true, writable=true, seekable=true, append=false, size=20270, maxsize=Inf, ptr=20271, mark=-1), UInt8[0x89, 0x50, 0x4e, 0x47, 0x0d, 0x0a, 0x1a, 0x0a, 0x00, 0x00  …  0x00, 0x00, 0x49, 0x45, 0x4e, 0x44, 0xae, 0x42, 0x60, 0x82], false)), WebIO.Node{WebIO.DOM}(WebIO.DOM(:html, :div), Any[WebIO.Scope(WebIO.Node{WebIO.DOM}(WebIO.DOM(:html, :div), Any[], Dict{Symbol, Any}(:id => \"container\")), Dict{String, Tuple{Observables.AbstractObservable, Union{Nothing, Bool}}}(\"value\" => (Observable(\"\\\\;\\\\;\"), nothing)), Set{String}(), nothing, WebIO.Asset[WebIO.Asset(\"js\", nothing, \"/home/dushya/.julia/packages/InteractBase/LJXv3/src/../assets/katex.min.js\"), WebIO.Asset(\"css\", nothing, \"/home/dushya/.julia/packages/InteractBase/LJXv3/src/../assets/katex.min.css\")], Dict{Any, Any}(\"value\" => Any[WebIO.JSString(\"(function (txt){return this.k.render(txt,this.container)})\")]), WebIO.ConnectionPool(Channel{Any}(32), Set{WebIO.AbstractConnection}(), Base.GenericCondition{ReentrantLock}(Base.IntrusiveLinkedList{Task}(Task (runnable) @0x00007fc231632400, Task (runnable) @0x00007fc231632400), ReentrantLock(nothing, 0x00000000, 0x00, Base.GenericCondition{Base.Threads.SpinLock}(Base.IntrusiveLinkedList{Task}(nothing, nothing), Base.Threads.SpinLock(0)), (0, 0, 141733920768)))), WebIO.JSString[WebIO.JSString(\"function () {\\n    var handler = ((function (k){this.k=k; this.container=this.dom.querySelector(\\\"#container\\\"); return k.render(\\\"\\\\\\\\;\\\\\\\\;\\\",this.container)}));\\n    (WebIO.importBlock({\\\"data\\\":[{\\\"name\\\":null,\\\"type\\\":\\\"js\\\",\\\"url\\\":\\\"/assetserver/dd22ed1bf1896c2748f3fe616ce0b838adc895c1-katex.min.js\\\"},{\\\"name\\\":null,\\\"type\\\":\\\"css\\\",\\\"url\\\":\\\"/assetserver/46517a424aa5e6cffc1360d7e0848b601c584ee3-katex.min.css\\\"}],\\\"type\\\":\\\"async_block\\\"})).then((imports) => handler.apply(this, imports));\\n}\\n\")])], Dict{Symbol, Any}(:className => \"interact-widget\")), WebIO.Node{WebIO.DOM}(WebIO.DOM(:html, :div), Any[], Dict{Symbol, Any}(:style => Dict(\"display\" => \"flex\", \"flex-direction\" => \"column\")))], Dict{Symbol, Any}(:style => Dict(\"display\" => \"flex\", \"flex-direction\" => \"row\")))], Dict{Symbol, Any}(:style => Dict(\"display\" => \"flex\", \"flex-direction\" => \"column\")))"
      ]
     },
     "execution_count": 7,
     "metadata": {
      "application/vnd.webio.node+json": {
       "kernelId": "3c99e793-8d43-4fcc-96c3-624d149d5ed6"
      }
     },
     "output_type": "execute_result"
    }
   ],
   "source": [
    "animate_sim(model)"
   ]
  },
  {
   "cell_type": "markdown",
   "metadata": {},
   "source": [
    "After defining the `step_rule!` function we can also choose to create an interactive application (which currently works in Jupyter with WebIO installation) as "
   ]
  },
  {
   "cell_type": "code",
   "execution_count": 8,
   "metadata": {},
   "outputs": [
    {
     "data": {
      "application/vnd.webio.node+json": {
       "children": [
        {
         "children": [
          {
           "children": [
            {
             "children": [
              {
               "children": [
                {
                 "children": [
                  {
                   "children": [
                    {
                     "children": [
                      "time"
                     ],
                     "instanceArgs": {
                      "namespace": "html",
                      "tag": "label"
                     },
                     "nodeType": "DOM",
                     "props": {
                      "className": "interact ",
                      "style": {
                       "padding": "5px 10px 0px 10px"
                      }
                     },
                     "type": "node"
                    }
                   ],
                   "instanceArgs": {
                    "namespace": "html",
                    "tag": "div"
                   },
                   "nodeType": "DOM",
                   "props": {
                    "className": "interact-flex-row-left"
                   },
                   "type": "node"
                  },
                  {
                   "children": [
                    {
                     "children": [],
                     "instanceArgs": {
                      "namespace": "html",
                      "tag": "input"
                     },
                     "nodeType": "DOM",
                     "props": {
                      "attributes": {
                       "data-bind": "numericValue: index, valueUpdate: 'input', event: {change: function (){this.changes(this.changes()+1)}}",
                       "orient": "horizontal",
                       "type": "range"
                      },
                      "className": "slider slider is-fullwidth",
                      "max": 400,
                      "min": 1,
                      "step": 1,
                      "style": {}
                     },
                     "type": "node"
                    }
                   ],
                   "instanceArgs": {
                    "namespace": "html",
                    "tag": "div"
                   },
                   "nodeType": "DOM",
                   "props": {
                    "className": "interact-flex-row-center"
                   },
                   "type": "node"
                  },
                  {
                   "children": [
                    {
                     "children": [],
                     "instanceArgs": {
                      "namespace": "html",
                      "tag": "p"
                     },
                     "nodeType": "DOM",
                     "props": {
                      "attributes": {
                       "data-bind": "text: formatted_val"
                      }
                     },
                     "type": "node"
                    }
                   ],
                   "instanceArgs": {
                    "namespace": "html",
                    "tag": "div"
                   },
                   "nodeType": "DOM",
                   "props": {
                    "className": "interact-flex-row-right"
                   },
                   "type": "node"
                  }
                 ],
                 "instanceArgs": {
                  "namespace": "html",
                  "tag": "div"
                 },
                 "nodeType": "DOM",
                 "props": {
                  "className": "interact-flex-row interact-widget"
                 },
                 "type": "node"
                }
               ],
               "instanceArgs": {
                "handlers": {
                 "changes": [
                  "(function (val){return (val!=this.model[\"changes\"]()) ? (this.valueFromJulia[\"changes\"]=true, this.model[\"changes\"](val)) : undefined})"
                 ],
                 "index": [
                  "(function (val){return (val!=this.model[\"index\"]()) ? (this.valueFromJulia[\"index\"]=true, this.model[\"index\"](val)) : undefined})"
                 ]
                },
                "id": "1000217918103658503",
                "imports": {
                 "data": [
                  {
                   "name": "knockout",
                   "type": "js",
                   "url": "/assetserver/727383f2a47bd31570b7da84eee7b022dd6d7c78-knockout.js"
                  },
                  {
                   "name": "knockout_punches",
                   "type": "js",
                   "url": "/assetserver/382b41b3b1bd9f26f75861d360bad7f8beea211f-knockout_punches.js"
                  },
                  {
                   "name": null,
                   "type": "js",
                   "url": "/assetserver/5ab20f1060420992a9b82a65b735dee4d81ef413-all.js"
                  },
                  {
                   "name": null,
                   "type": "css",
                   "url": "/assetserver/1cc0ed62837210b80a182cc3676512f895dab686-style.css"
                  },
                  {
                   "name": null,
                   "type": "css",
                   "url": "/assetserver/2eee816f616df3549d7044d45e744fbf8d42bfa1-bulma_confined.min.css"
                  }
                 ],
                 "type": "async_block"
                },
                "mount_callbacks": [
                 "function () {\n    var handler = (function (ko, koPunches) {\n    ko.punches.enableAll();\n    ko.bindingHandlers.numericValue = {\n        init: function(element, valueAccessor, allBindings, data, context) {\n            var stringified = ko.observable(ko.unwrap(valueAccessor()));\n            stringified.subscribe(function(value) {\n                var val = parseFloat(value);\n                if (!isNaN(val)) {\n                    valueAccessor()(val);\n                }\n            });\n            valueAccessor().subscribe(function(value) {\n                var str = JSON.stringify(value);\n                if ((str == \"0\") && ([\"-0\", \"-0.\"].indexOf(stringified()) >= 0))\n                     return;\n                 if ([\"null\", \"\"].indexOf(str) >= 0)\n                     return;\n                stringified(str);\n            });\n            ko.applyBindingsToNode(\n                element,\n                {\n                    value: stringified,\n                    valueUpdate: allBindings.get('valueUpdate'),\n                },\n                context,\n            );\n        }\n    };\n    var json_data = {\"formatted_vals\":[\"1\",\"2\",\"3\",\"4\",\"5\",\"6\",\"7\",\"8\",\"9\",\"10\",\"11\",\"12\",\"13\",\"14\",\"15\",\"16\",\"17\",\"18\",\"19\",\"20\",\"21\",\"22\",\"23\",\"24\",\"25\",\"26\",\"27\",\"28\",\"29\",\"30\",\"31\",\"32\",\"33\",\"34\",\"35\",\"36\",\"37\",\"38\",\"39\",\"40\",\"41\",\"42\",\"43\",\"44\",\"45\",\"46\",\"47\",\"48\",\"49\",\"50\",\"51\",\"52\",\"53\",\"54\",\"55\",\"56\",\"57\",\"58\",\"59\",\"60\",\"61\",\"62\",\"63\",\"64\",\"65\",\"66\",\"67\",\"68\",\"69\",\"70\",\"71\",\"72\",\"73\",\"74\",\"75\",\"76\",\"77\",\"78\",\"79\",\"80\",\"81\",\"82\",\"83\",\"84\",\"85\",\"86\",\"87\",\"88\",\"89\",\"90\",\"91\",\"92\",\"93\",\"94\",\"95\",\"96\",\"97\",\"98\",\"99\",\"100\",\"101\",\"102\",\"103\",\"104\",\"105\",\"106\",\"107\",\"108\",\"109\",\"110\",\"111\",\"112\",\"113\",\"114\",\"115\",\"116\",\"117\",\"118\",\"119\",\"120\",\"121\",\"122\",\"123\",\"124\",\"125\",\"126\",\"127\",\"128\",\"129\",\"130\",\"131\",\"132\",\"133\",\"134\",\"135\",\"136\",\"137\",\"138\",\"139\",\"140\",\"141\",\"142\",\"143\",\"144\",\"145\",\"146\",\"147\",\"148\",\"149\",\"150\",\"151\",\"152\",\"153\",\"154\",\"155\",\"156\",\"157\",\"158\",\"159\",\"160\",\"161\",\"162\",\"163\",\"164\",\"165\",\"166\",\"167\",\"168\",\"169\",\"170\",\"171\",\"172\",\"173\",\"174\",\"175\",\"176\",\"177\",\"178\",\"179\",\"180\",\"181\",\"182\",\"183\",\"184\",\"185\",\"186\",\"187\",\"188\",\"189\",\"190\",\"191\",\"192\",\"193\",\"194\",\"195\",\"196\",\"197\",\"198\",\"199\",\"200\",\"201\",\"202\",\"203\",\"204\",\"205\",\"206\",\"207\",\"208\",\"209\",\"210\",\"211\",\"212\",\"213\",\"214\",\"215\",\"216\",\"217\",\"218\",\"219\",\"220\",\"221\",\"222\",\"223\",\"224\",\"225\",\"226\",\"227\",\"228\",\"229\",\"230\",\"231\",\"232\",\"233\",\"234\",\"235\",\"236\",\"237\",\"238\",\"239\",\"240\",\"241\",\"242\",\"243\",\"244\",\"245\",\"246\",\"247\",\"248\",\"249\",\"250\",\"251\",\"252\",\"253\",\"254\",\"255\",\"256\",\"257\",\"258\",\"259\",\"260\",\"261\",\"262\",\"263\",\"264\",\"265\",\"266\",\"267\",\"268\",\"269\",\"270\",\"271\",\"272\",\"273\",\"274\",\"275\",\"276\",\"277\",\"278\",\"279\",\"280\",\"281\",\"282\",\"283\",\"284\",\"285\",\"286\",\"287\",\"288\",\"289\",\"290\",\"291\",\"292\",\"293\",\"294\",\"295\",\"296\",\"297\",\"298\",\"299\",\"300\",\"301\",\"302\",\"303\",\"304\",\"305\",\"306\",\"307\",\"308\",\"309\",\"310\",\"311\",\"312\",\"313\",\"314\",\"315\",\"316\",\"317\",\"318\",\"319\",\"320\",\"321\",\"322\",\"323\",\"324\",\"325\",\"326\",\"327\",\"328\",\"329\",\"330\",\"331\",\"332\",\"333\",\"334\",\"335\",\"336\",\"337\",\"338\",\"339\",\"340\",\"341\",\"342\",\"343\",\"344\",\"345\",\"346\",\"347\",\"348\",\"349\",\"350\",\"351\",\"352\",\"353\",\"354\",\"355\",\"356\",\"357\",\"358\",\"359\",\"360\",\"361\",\"362\",\"363\",\"364\",\"365\",\"366\",\"367\",\"368\",\"369\",\"370\",\"371\",\"372\",\"373\",\"374\",\"375\",\"376\",\"377\",\"378\",\"379\",\"380\",\"381\",\"382\",\"383\",\"384\",\"385\",\"386\",\"387\",\"388\",\"389\",\"390\",\"391\",\"392\",\"393\",\"394\",\"395\",\"396\",\"397\",\"398\",\"399\",\"400\"],\"changes\":WebIO.getval({\"name\":\"changes\",\"scope\":\"1000217918103658503\",\"id\":\"17672522705773282476\",\"type\":\"observable\"}),\"index\":WebIO.getval({\"name\":\"index\",\"scope\":\"1000217918103658503\",\"id\":\"2573055610439081058\",\"type\":\"observable\"})};\n    var self = this;\n    function AppViewModel() {\n        for (var key in json_data) {\n            var el = json_data[key];\n            this[key] = Array.isArray(el) ? ko.observableArray(el) : ko.observable(el);\n        }\n        \n        [this[\"formatted_val\"]=ko.computed(    function(){\n        return this.formatted_vals()[parseInt(this.index())-(1)];\n    }\n,this)]\n        [this[\"changes\"].subscribe((function (val){!(this.valueFromJulia[\"changes\"]) ? (WebIO.setval({\"name\":\"changes\",\"scope\":\"1000217918103658503\",\"id\":\"17672522705773282476\",\"type\":\"observable\"},val)) : undefined; return this.valueFromJulia[\"changes\"]=false}),self),this[\"index\"].subscribe((function (val){!(this.valueFromJulia[\"index\"]) ? (WebIO.setval({\"name\":\"index\",\"scope\":\"1000217918103658503\",\"id\":\"2573055610439081058\",\"type\":\"observable\"},val)) : undefined; return this.valueFromJulia[\"index\"]=false}),self)]\n        \n    }\n    self.model = new AppViewModel();\n    self.valueFromJulia = {};\n    for (var key in json_data) {\n        self.valueFromJulia[key] = false;\n    }\n    ko.applyBindings(self.model, self.dom);\n}\n);\n    (WebIO.importBlock({\"data\":[{\"name\":\"knockout\",\"type\":\"js\",\"url\":\"/assetserver/727383f2a47bd31570b7da84eee7b022dd6d7c78-knockout.js\"},{\"name\":\"knockout_punches\",\"type\":\"js\",\"url\":\"/assetserver/382b41b3b1bd9f26f75861d360bad7f8beea211f-knockout_punches.js\"}],\"type\":\"async_block\"})).then((imports) => handler.apply(this, imports));\n}\n"
                ],
                "observables": {
                 "changes": {
                  "id": "17672522705773282476",
                  "sync": false,
                  "value": 0
                 },
                 "index": {
                  "id": "2573055610439081058",
                  "sync": true,
                  "value": 1
                 }
                },
                "systemjs_options": null
               },
               "nodeType": "Scope",
               "props": {},
               "type": "node"
              }
             ],
             "instanceArgs": {
              "namespace": "html",
              "tag": "div"
             },
             "nodeType": "DOM",
             "props": {
              "className": "field interact-widget"
             },
             "type": "node"
            },
            {
             "children": [
              {
               "children": [
                {
                 "children": [
                  {
                   "children": [
                    {
                     "children": [
                      "scale"
                     ],
                     "instanceArgs": {
                      "namespace": "html",
                      "tag": "label"
                     },
                     "nodeType": "DOM",
                     "props": {
                      "className": "interact ",
                      "style": {
                       "padding": "5px 10px 0px 10px"
                      }
                     },
                     "type": "node"
                    }
                   ],
                   "instanceArgs": {
                    "namespace": "html",
                    "tag": "div"
                   },
                   "nodeType": "DOM",
                   "props": {
                    "className": "interact-flex-row-left"
                   },
                   "type": "node"
                  },
                  {
                   "children": [
                    {
                     "children": [],
                     "instanceArgs": {
                      "namespace": "html",
                      "tag": "input"
                     },
                     "nodeType": "DOM",
                     "props": {
                      "attributes": {
                       "data-bind": "numericValue: index, valueUpdate: 'input', event: {change: function (){this.changes(this.changes()+1)}}",
                       "orient": "horizontal",
                       "type": "range"
                      },
                      "className": "slider slider is-fullwidth",
                      "max": 20,
                      "min": 1,
                      "step": 1,
                      "style": {}
                     },
                     "type": "node"
                    }
                   ],
                   "instanceArgs": {
                    "namespace": "html",
                    "tag": "div"
                   },
                   "nodeType": "DOM",
                   "props": {
                    "className": "interact-flex-row-center"
                   },
                   "type": "node"
                  },
                  {
                   "children": [
                    {
                     "children": [],
                     "instanceArgs": {
                      "namespace": "html",
                      "tag": "p"
                     },
                     "nodeType": "DOM",
                     "props": {
                      "attributes": {
                       "data-bind": "text: formatted_val"
                      }
                     },
                     "type": "node"
                    }
                   ],
                   "instanceArgs": {
                    "namespace": "html",
                    "tag": "div"
                   },
                   "nodeType": "DOM",
                   "props": {
                    "className": "interact-flex-row-right"
                   },
                   "type": "node"
                  }
                 ],
                 "instanceArgs": {
                  "namespace": "html",
                  "tag": "div"
                 },
                 "nodeType": "DOM",
                 "props": {
                  "className": "interact-flex-row interact-widget"
                 },
                 "type": "node"
                }
               ],
               "instanceArgs": {
                "handlers": {
                 "changes": [
                  "(function (val){return (val!=this.model[\"changes\"]()) ? (this.valueFromJulia[\"changes\"]=true, this.model[\"changes\"](val)) : undefined})"
                 ],
                 "index": [
                  "(function (val){return (val!=this.model[\"index\"]()) ? (this.valueFromJulia[\"index\"]=true, this.model[\"index\"](val)) : undefined})"
                 ]
                },
                "id": "13911821769824218451",
                "imports": {
                 "data": [
                  {
                   "name": "knockout",
                   "type": "js",
                   "url": "/assetserver/727383f2a47bd31570b7da84eee7b022dd6d7c78-knockout.js"
                  },
                  {
                   "name": "knockout_punches",
                   "type": "js",
                   "url": "/assetserver/382b41b3b1bd9f26f75861d360bad7f8beea211f-knockout_punches.js"
                  },
                  {
                   "name": null,
                   "type": "js",
                   "url": "/assetserver/5ab20f1060420992a9b82a65b735dee4d81ef413-all.js"
                  },
                  {
                   "name": null,
                   "type": "css",
                   "url": "/assetserver/1cc0ed62837210b80a182cc3676512f895dab686-style.css"
                  },
                  {
                   "name": null,
                   "type": "css",
                   "url": "/assetserver/2eee816f616df3549d7044d45e744fbf8d42bfa1-bulma_confined.min.css"
                  }
                 ],
                 "type": "async_block"
                },
                "mount_callbacks": [
                 "function () {\n    var handler = (function (ko, koPunches) {\n    ko.punches.enableAll();\n    ko.bindingHandlers.numericValue = {\n        init: function(element, valueAccessor, allBindings, data, context) {\n            var stringified = ko.observable(ko.unwrap(valueAccessor()));\n            stringified.subscribe(function(value) {\n                var val = parseFloat(value);\n                if (!isNaN(val)) {\n                    valueAccessor()(val);\n                }\n            });\n            valueAccessor().subscribe(function(value) {\n                var str = JSON.stringify(value);\n                if ((str == \"0\") && ([\"-0\", \"-0.\"].indexOf(stringified()) >= 0))\n                     return;\n                 if ([\"null\", \"\"].indexOf(str) >= 0)\n                     return;\n                stringified(str);\n            });\n            ko.applyBindingsToNode(\n                element,\n                {\n                    value: stringified,\n                    valueUpdate: allBindings.get('valueUpdate'),\n                },\n                context,\n            );\n        }\n    };\n    var json_data = {\"formatted_vals\":[\"0.1\",\"0.2\",\"0.3\",\"0.4\",\"0.5\",\"0.6\",\"0.7\",\"0.8\",\"0.9\",\"1.0\",\"1.1\",\"1.2\",\"1.3\",\"1.4\",\"1.5\",\"1.6\",\"1.7\",\"1.8\",\"1.9\",\"2.0\"],\"changes\":WebIO.getval({\"name\":\"changes\",\"scope\":\"13911821769824218451\",\"id\":\"15005257445741500830\",\"type\":\"observable\"}),\"index\":WebIO.getval({\"name\":\"index\",\"scope\":\"13911821769824218451\",\"id\":\"7566740207945339703\",\"type\":\"observable\"})};\n    var self = this;\n    function AppViewModel() {\n        for (var key in json_data) {\n            var el = json_data[key];\n            this[key] = Array.isArray(el) ? ko.observableArray(el) : ko.observable(el);\n        }\n        \n        [this[\"formatted_val\"]=ko.computed(    function(){\n        return this.formatted_vals()[parseInt(this.index())-(1)];\n    }\n,this)]\n        [this[\"changes\"].subscribe((function (val){!(this.valueFromJulia[\"changes\"]) ? (WebIO.setval({\"name\":\"changes\",\"scope\":\"13911821769824218451\",\"id\":\"15005257445741500830\",\"type\":\"observable\"},val)) : undefined; return this.valueFromJulia[\"changes\"]=false}),self),this[\"index\"].subscribe((function (val){!(this.valueFromJulia[\"index\"]) ? (WebIO.setval({\"name\":\"index\",\"scope\":\"13911821769824218451\",\"id\":\"7566740207945339703\",\"type\":\"observable\"},val)) : undefined; return this.valueFromJulia[\"index\"]=false}),self)]\n        \n    }\n    self.model = new AppViewModel();\n    self.valueFromJulia = {};\n    for (var key in json_data) {\n        self.valueFromJulia[key] = false;\n    }\n    ko.applyBindings(self.model, self.dom);\n}\n);\n    (WebIO.importBlock({\"data\":[{\"name\":\"knockout\",\"type\":\"js\",\"url\":\"/assetserver/727383f2a47bd31570b7da84eee7b022dd6d7c78-knockout.js\"},{\"name\":\"knockout_punches\",\"type\":\"js\",\"url\":\"/assetserver/382b41b3b1bd9f26f75861d360bad7f8beea211f-knockout_punches.js\"}],\"type\":\"async_block\"})).then((imports) => handler.apply(this, imports));\n}\n"
                ],
                "observables": {
                 "changes": {
                  "id": "15005257445741500830",
                  "sync": false,
                  "value": 0
                 },
                 "index": {
                  "id": "7566740207945339703",
                  "sync": true,
                  "value": 10
                 }
                },
                "systemjs_options": null
               },
               "nodeType": "Scope",
               "props": {},
               "type": "node"
              }
             ],
             "instanceArgs": {
              "namespace": "html",
              "tag": "div"
             },
             "nodeType": "DOM",
             "props": {
              "className": "field interact-widget"
             },
             "type": "node"
            },
            {
             "children": [],
             "instanceArgs": {
              "namespace": "html",
              "tag": "div"
             },
             "nodeType": "DOM",
             "props": {
              "style": {
               "display": "flex",
               "flex-direction": "column"
              }
             },
             "type": "node"
            },
            {
             "children": [
              {
               "children": [
                {
                 "children": [
                  {
                   "children": [
                    {
                     "children": [
                      {
                       "children": [
                        "min_dis"
                       ],
                       "instanceArgs": {
                        "namespace": "html",
                        "tag": "label"
                       },
                       "nodeType": "DOM",
                       "props": {
                        "className": "interact ",
                        "style": {
                         "padding": "5px 10px 0px 10px"
                        }
                       },
                       "type": "node"
                      }
                     ],
                     "instanceArgs": {
                      "namespace": "html",
                      "tag": "div"
                     },
                     "nodeType": "DOM",
                     "props": {
                      "className": "interact-flex-row-left"
                     },
                     "type": "node"
                    },
                    {
                     "children": [
                      {
                       "children": [],
                       "instanceArgs": {
                        "namespace": "html",
                        "tag": "input"
                       },
                       "nodeType": "DOM",
                       "props": {
                        "attributes": {
                         "data-bind": "numericValue: index, valueUpdate: 'input', event: {change: function (){this.changes(this.changes()+1)}}",
                         "orient": "horizontal",
                         "type": "range"
                        },
                        "className": "slider slider is-fullwidth",
                        "max": 10,
                        "min": 1,
                        "step": 1,
                        "style": {}
                       },
                       "type": "node"
                      }
                     ],
                     "instanceArgs": {
                      "namespace": "html",
                      "tag": "div"
                     },
                     "nodeType": "DOM",
                     "props": {
                      "className": "interact-flex-row-center"
                     },
                     "type": "node"
                    },
                    {
                     "children": [
                      {
                       "children": [],
                       "instanceArgs": {
                        "namespace": "html",
                        "tag": "p"
                       },
                       "nodeType": "DOM",
                       "props": {
                        "attributes": {
                         "data-bind": "text: formatted_val"
                        }
                       },
                       "type": "node"
                      }
                     ],
                     "instanceArgs": {
                      "namespace": "html",
                      "tag": "div"
                     },
                     "nodeType": "DOM",
                     "props": {
                      "className": "interact-flex-row-right"
                     },
                     "type": "node"
                    }
                   ],
                   "instanceArgs": {
                    "namespace": "html",
                    "tag": "div"
                   },
                   "nodeType": "DOM",
                   "props": {
                    "className": "interact-flex-row interact-widget"
                   },
                   "type": "node"
                  }
                 ],
                 "instanceArgs": {
                  "handlers": {
                   "changes": [
                    "(function (val){return (val!=this.model[\"changes\"]()) ? (this.valueFromJulia[\"changes\"]=true, this.model[\"changes\"](val)) : undefined})"
                   ],
                   "index": [
                    "(function (val){return (val!=this.model[\"index\"]()) ? (this.valueFromJulia[\"index\"]=true, this.model[\"index\"](val)) : undefined})"
                   ]
                  },
                  "id": "13758014002278350896",
                  "imports": {
                   "data": [
                    {
                     "name": "knockout",
                     "type": "js",
                     "url": "/assetserver/727383f2a47bd31570b7da84eee7b022dd6d7c78-knockout.js"
                    },
                    {
                     "name": "knockout_punches",
                     "type": "js",
                     "url": "/assetserver/382b41b3b1bd9f26f75861d360bad7f8beea211f-knockout_punches.js"
                    },
                    {
                     "name": null,
                     "type": "js",
                     "url": "/assetserver/5ab20f1060420992a9b82a65b735dee4d81ef413-all.js"
                    },
                    {
                     "name": null,
                     "type": "css",
                     "url": "/assetserver/1cc0ed62837210b80a182cc3676512f895dab686-style.css"
                    },
                    {
                     "name": null,
                     "type": "css",
                     "url": "/assetserver/2eee816f616df3549d7044d45e744fbf8d42bfa1-bulma_confined.min.css"
                    }
                   ],
                   "type": "async_block"
                  },
                  "mount_callbacks": [
                   "function () {\n    var handler = (function (ko, koPunches) {\n    ko.punches.enableAll();\n    ko.bindingHandlers.numericValue = {\n        init: function(element, valueAccessor, allBindings, data, context) {\n            var stringified = ko.observable(ko.unwrap(valueAccessor()));\n            stringified.subscribe(function(value) {\n                var val = parseFloat(value);\n                if (!isNaN(val)) {\n                    valueAccessor()(val);\n                }\n            });\n            valueAccessor().subscribe(function(value) {\n                var str = JSON.stringify(value);\n                if ((str == \"0\") && ([\"-0\", \"-0.\"].indexOf(stringified()) >= 0))\n                     return;\n                 if ([\"null\", \"\"].indexOf(str) >= 0)\n                     return;\n                stringified(str);\n            });\n            ko.applyBindingsToNode(\n                element,\n                {\n                    value: stringified,\n                    valueUpdate: allBindings.get('valueUpdate'),\n                },\n                context,\n            );\n        }\n    };\n    var json_data = {\"formatted_vals\":[\"0.01\",\"0.11\",\"0.21\",\"0.31\",\"0.41\",\"0.51\",\"0.61\",\"0.71\",\"0.81\",\"0.91\"],\"changes\":WebIO.getval({\"name\":\"changes\",\"scope\":\"13758014002278350896\",\"id\":\"1232530509246080630\",\"type\":\"observable\"}),\"index\":WebIO.getval({\"name\":\"index\",\"scope\":\"13758014002278350896\",\"id\":\"14691121323510246723\",\"type\":\"observable\"})};\n    var self = this;\n    function AppViewModel() {\n        for (var key in json_data) {\n            var el = json_data[key];\n            this[key] = Array.isArray(el) ? ko.observableArray(el) : ko.observable(el);\n        }\n        \n        [this[\"formatted_val\"]=ko.computed(    function(){\n        return this.formatted_vals()[parseInt(this.index())-(1)];\n    }\n,this)]\n        [this[\"changes\"].subscribe((function (val){!(this.valueFromJulia[\"changes\"]) ? (WebIO.setval({\"name\":\"changes\",\"scope\":\"13758014002278350896\",\"id\":\"1232530509246080630\",\"type\":\"observable\"},val)) : undefined; return this.valueFromJulia[\"changes\"]=false}),self),this[\"index\"].subscribe((function (val){!(this.valueFromJulia[\"index\"]) ? (WebIO.setval({\"name\":\"index\",\"scope\":\"13758014002278350896\",\"id\":\"14691121323510246723\",\"type\":\"observable\"},val)) : undefined; return this.valueFromJulia[\"index\"]=false}),self)]\n        \n    }\n    self.model = new AppViewModel();\n    self.valueFromJulia = {};\n    for (var key in json_data) {\n        self.valueFromJulia[key] = false;\n    }\n    ko.applyBindings(self.model, self.dom);\n}\n);\n    (WebIO.importBlock({\"data\":[{\"name\":\"knockout\",\"type\":\"js\",\"url\":\"/assetserver/727383f2a47bd31570b7da84eee7b022dd6d7c78-knockout.js\"},{\"name\":\"knockout_punches\",\"type\":\"js\",\"url\":\"/assetserver/382b41b3b1bd9f26f75861d360bad7f8beea211f-knockout_punches.js\"}],\"type\":\"async_block\"})).then((imports) => handler.apply(this, imports));\n}\n"
                  ],
                  "observables": {
                   "changes": {
                    "id": "1232530509246080630",
                    "sync": false,
                    "value": 0
                   },
                   "index": {
                    "id": "14691121323510246723",
                    "sync": true,
                    "value": 5
                   }
                  },
                  "systemjs_options": null
                 },
                 "nodeType": "Scope",
                 "props": {},
                 "type": "node"
                }
               ],
               "instanceArgs": {
                "namespace": "html",
                "tag": "div"
               },
               "nodeType": "DOM",
               "props": {
                "className": "field interact-widget"
               },
               "type": "node"
              },
              {
               "children": [
                {
                 "children": [
                  {
                   "children": [
                    {
                     "children": [
                      {
                       "children": [
                        "coh_fac"
                       ],
                       "instanceArgs": {
                        "namespace": "html",
                        "tag": "label"
                       },
                       "nodeType": "DOM",
                       "props": {
                        "className": "interact ",
                        "style": {
                         "padding": "5px 10px 0px 10px"
                        }
                       },
                       "type": "node"
                      }
                     ],
                     "instanceArgs": {
                      "namespace": "html",
                      "tag": "div"
                     },
                     "nodeType": "DOM",
                     "props": {
                      "className": "interact-flex-row-left"
                     },
                     "type": "node"
                    },
                    {
                     "children": [
                      {
                       "children": [],
                       "instanceArgs": {
                        "namespace": "html",
                        "tag": "input"
                       },
                       "nodeType": "DOM",
                       "props": {
                        "attributes": {
                         "data-bind": "numericValue: index, valueUpdate: 'input', event: {change: function (){this.changes(this.changes()+1)}}",
                         "orient": "horizontal",
                         "type": "range"
                        },
                        "className": "slider slider is-fullwidth",
                        "max": 100,
                        "min": 1,
                        "step": 1,
                        "style": {}
                       },
                       "type": "node"
                      }
                     ],
                     "instanceArgs": {
                      "namespace": "html",
                      "tag": "div"
                     },
                     "nodeType": "DOM",
                     "props": {
                      "className": "interact-flex-row-center"
                     },
                     "type": "node"
                    },
                    {
                     "children": [
                      {
                       "children": [],
                       "instanceArgs": {
                        "namespace": "html",
                        "tag": "p"
                       },
                       "nodeType": "DOM",
                       "props": {
                        "attributes": {
                         "data-bind": "text: formatted_val"
                        }
                       },
                       "type": "node"
                      }
                     ],
                     "instanceArgs": {
                      "namespace": "html",
                      "tag": "div"
                     },
                     "nodeType": "DOM",
                     "props": {
                      "className": "interact-flex-row-right"
                     },
                     "type": "node"
                    }
                   ],
                   "instanceArgs": {
                    "namespace": "html",
                    "tag": "div"
                   },
                   "nodeType": "DOM",
                   "props": {
                    "className": "interact-flex-row interact-widget"
                   },
                   "type": "node"
                  }
                 ],
                 "instanceArgs": {
                  "handlers": {
                   "changes": [
                    "(function (val){return (val!=this.model[\"changes\"]()) ? (this.valueFromJulia[\"changes\"]=true, this.model[\"changes\"](val)) : undefined})"
                   ],
                   "index": [
                    "(function (val){return (val!=this.model[\"index\"]()) ? (this.valueFromJulia[\"index\"]=true, this.model[\"index\"](val)) : undefined})"
                   ]
                  },
                  "id": "8533126841913947296",
                  "imports": {
                   "data": [
                    {
                     "name": "knockout",
                     "type": "js",
                     "url": "/assetserver/727383f2a47bd31570b7da84eee7b022dd6d7c78-knockout.js"
                    },
                    {
                     "name": "knockout_punches",
                     "type": "js",
                     "url": "/assetserver/382b41b3b1bd9f26f75861d360bad7f8beea211f-knockout_punches.js"
                    },
                    {
                     "name": null,
                     "type": "js",
                     "url": "/assetserver/5ab20f1060420992a9b82a65b735dee4d81ef413-all.js"
                    },
                    {
                     "name": null,
                     "type": "css",
                     "url": "/assetserver/1cc0ed62837210b80a182cc3676512f895dab686-style.css"
                    },
                    {
                     "name": null,
                     "type": "css",
                     "url": "/assetserver/2eee816f616df3549d7044d45e744fbf8d42bfa1-bulma_confined.min.css"
                    }
                   ],
                   "type": "async_block"
                  },
                  "mount_callbacks": [
                   "function () {\n    var handler = (function (ko, koPunches) {\n    ko.punches.enableAll();\n    ko.bindingHandlers.numericValue = {\n        init: function(element, valueAccessor, allBindings, data, context) {\n            var stringified = ko.observable(ko.unwrap(valueAccessor()));\n            stringified.subscribe(function(value) {\n                var val = parseFloat(value);\n                if (!isNaN(val)) {\n                    valueAccessor()(val);\n                }\n            });\n            valueAccessor().subscribe(function(value) {\n                var str = JSON.stringify(value);\n                if ((str == \"0\") && ([\"-0\", \"-0.\"].indexOf(stringified()) >= 0))\n                     return;\n                 if ([\"null\", \"\"].indexOf(str) >= 0)\n                     return;\n                stringified(str);\n            });\n            ko.applyBindingsToNode(\n                element,\n                {\n                    value: stringified,\n                    valueUpdate: allBindings.get('valueUpdate'),\n                },\n                context,\n            );\n        }\n    };\n    var json_data = {\"formatted_vals\":[\"0.01\",\"0.02\",\"0.03\",\"0.04\",\"0.05\",\"0.06\",\"0.07\",\"0.08\",\"0.09\",\"0.1\",\"0.11\",\"0.12\",\"0.13\",\"0.14\",\"0.15\",\"0.16\",\"0.17\",\"0.18\",\"0.19\",\"0.2\",\"0.21\",\"0.22\",\"0.23\",\"0.24\",\"0.25\",\"0.26\",\"0.27\",\"0.28\",\"0.29\",\"0.3\",\"0.31\",\"0.32\",\"0.33\",\"0.34\",\"0.35\",\"0.36\",\"0.37\",\"0.38\",\"0.39\",\"0.4\",\"0.41\",\"0.42\",\"0.43\",\"0.44\",\"0.45\",\"0.46\",\"0.47\",\"0.48\",\"0.49\",\"0.5\",\"0.51\",\"0.52\",\"0.53\",\"0.54\",\"0.55\",\"0.56\",\"0.57\",\"0.58\",\"0.59\",\"0.6\",\"0.61\",\"0.62\",\"0.63\",\"0.64\",\"0.65\",\"0.66\",\"0.67\",\"0.68\",\"0.69\",\"0.7\",\"0.71\",\"0.72\",\"0.73\",\"0.74\",\"0.75\",\"0.76\",\"0.77\",\"0.78\",\"0.79\",\"0.8\",\"0.81\",\"0.82\",\"0.83\",\"0.84\",\"0.85\",\"0.86\",\"0.87\",\"0.88\",\"0.89\",\"0.9\",\"0.91\",\"0.92\",\"0.93\",\"0.94\",\"0.95\",\"0.96\",\"0.97\",\"0.98\",\"0.99\",\"1.0\"],\"changes\":WebIO.getval({\"name\":\"changes\",\"scope\":\"8533126841913947296\",\"id\":\"9304112103411616300\",\"type\":\"observable\"}),\"index\":WebIO.getval({\"name\":\"index\",\"scope\":\"8533126841913947296\",\"id\":\"4093139992847638124\",\"type\":\"observable\"})};\n    var self = this;\n    function AppViewModel() {\n        for (var key in json_data) {\n            var el = json_data[key];\n            this[key] = Array.isArray(el) ? ko.observableArray(el) : ko.observable(el);\n        }\n        \n        [this[\"formatted_val\"]=ko.computed(    function(){\n        return this.formatted_vals()[parseInt(this.index())-(1)];\n    }\n,this)]\n        [this[\"changes\"].subscribe((function (val){!(this.valueFromJulia[\"changes\"]) ? (WebIO.setval({\"name\":\"changes\",\"scope\":\"8533126841913947296\",\"id\":\"9304112103411616300\",\"type\":\"observable\"},val)) : undefined; return this.valueFromJulia[\"changes\"]=false}),self),this[\"index\"].subscribe((function (val){!(this.valueFromJulia[\"index\"]) ? (WebIO.setval({\"name\":\"index\",\"scope\":\"8533126841913947296\",\"id\":\"4093139992847638124\",\"type\":\"observable\"},val)) : undefined; return this.valueFromJulia[\"index\"]=false}),self)]\n        \n    }\n    self.model = new AppViewModel();\n    self.valueFromJulia = {};\n    for (var key in json_data) {\n        self.valueFromJulia[key] = false;\n    }\n    ko.applyBindings(self.model, self.dom);\n}\n);\n    (WebIO.importBlock({\"data\":[{\"name\":\"knockout\",\"type\":\"js\",\"url\":\"/assetserver/727383f2a47bd31570b7da84eee7b022dd6d7c78-knockout.js\"},{\"name\":\"knockout_punches\",\"type\":\"js\",\"url\":\"/assetserver/382b41b3b1bd9f26f75861d360bad7f8beea211f-knockout_punches.js\"}],\"type\":\"async_block\"})).then((imports) => handler.apply(this, imports));\n}\n"
                  ],
                  "observables": {
                   "changes": {
                    "id": "9304112103411616300",
                    "sync": false,
                    "value": 0
                   },
                   "index": {
                    "id": "4093139992847638124",
                    "sync": true,
                    "value": 50
                   }
                  },
                  "systemjs_options": null
                 },
                 "nodeType": "Scope",
                 "props": {},
                 "type": "node"
                }
               ],
               "instanceArgs": {
                "namespace": "html",
                "tag": "div"
               },
               "nodeType": "DOM",
               "props": {
                "className": "field interact-widget"
               },
               "type": "node"
              },
              {
               "children": [
                {
                 "children": [
                  {
                   "children": [
                    {
                     "children": [
                      {
                       "children": [
                        "sep_fac"
                       ],
                       "instanceArgs": {
                        "namespace": "html",
                        "tag": "label"
                       },
                       "nodeType": "DOM",
                       "props": {
                        "className": "interact ",
                        "style": {
                         "padding": "5px 10px 0px 10px"
                        }
                       },
                       "type": "node"
                      }
                     ],
                     "instanceArgs": {
                      "namespace": "html",
                      "tag": "div"
                     },
                     "nodeType": "DOM",
                     "props": {
                      "className": "interact-flex-row-left"
                     },
                     "type": "node"
                    },
                    {
                     "children": [
                      {
                       "children": [],
                       "instanceArgs": {
                        "namespace": "html",
                        "tag": "input"
                       },
                       "nodeType": "DOM",
                       "props": {
                        "attributes": {
                         "data-bind": "numericValue: index, valueUpdate: 'input', event: {change: function (){this.changes(this.changes()+1)}}",
                         "orient": "horizontal",
                         "type": "range"
                        },
                        "className": "slider slider is-fullwidth",
                        "max": 100,
                        "min": 1,
                        "step": 1,
                        "style": {}
                       },
                       "type": "node"
                      }
                     ],
                     "instanceArgs": {
                      "namespace": "html",
                      "tag": "div"
                     },
                     "nodeType": "DOM",
                     "props": {
                      "className": "interact-flex-row-center"
                     },
                     "type": "node"
                    },
                    {
                     "children": [
                      {
                       "children": [],
                       "instanceArgs": {
                        "namespace": "html",
                        "tag": "p"
                       },
                       "nodeType": "DOM",
                       "props": {
                        "attributes": {
                         "data-bind": "text: formatted_val"
                        }
                       },
                       "type": "node"
                      }
                     ],
                     "instanceArgs": {
                      "namespace": "html",
                      "tag": "div"
                     },
                     "nodeType": "DOM",
                     "props": {
                      "className": "interact-flex-row-right"
                     },
                     "type": "node"
                    }
                   ],
                   "instanceArgs": {
                    "namespace": "html",
                    "tag": "div"
                   },
                   "nodeType": "DOM",
                   "props": {
                    "className": "interact-flex-row interact-widget"
                   },
                   "type": "node"
                  }
                 ],
                 "instanceArgs": {
                  "handlers": {
                   "changes": [
                    "(function (val){return (val!=this.model[\"changes\"]()) ? (this.valueFromJulia[\"changes\"]=true, this.model[\"changes\"](val)) : undefined})"
                   ],
                   "index": [
                    "(function (val){return (val!=this.model[\"index\"]()) ? (this.valueFromJulia[\"index\"]=true, this.model[\"index\"](val)) : undefined})"
                   ]
                  },
                  "id": "10823381236181018953",
                  "imports": {
                   "data": [
                    {
                     "name": "knockout",
                     "type": "js",
                     "url": "/assetserver/727383f2a47bd31570b7da84eee7b022dd6d7c78-knockout.js"
                    },
                    {
                     "name": "knockout_punches",
                     "type": "js",
                     "url": "/assetserver/382b41b3b1bd9f26f75861d360bad7f8beea211f-knockout_punches.js"
                    },
                    {
                     "name": null,
                     "type": "js",
                     "url": "/assetserver/5ab20f1060420992a9b82a65b735dee4d81ef413-all.js"
                    },
                    {
                     "name": null,
                     "type": "css",
                     "url": "/assetserver/1cc0ed62837210b80a182cc3676512f895dab686-style.css"
                    },
                    {
                     "name": null,
                     "type": "css",
                     "url": "/assetserver/2eee816f616df3549d7044d45e744fbf8d42bfa1-bulma_confined.min.css"
                    }
                   ],
                   "type": "async_block"
                  },
                  "mount_callbacks": [
                   "function () {\n    var handler = (function (ko, koPunches) {\n    ko.punches.enableAll();\n    ko.bindingHandlers.numericValue = {\n        init: function(element, valueAccessor, allBindings, data, context) {\n            var stringified = ko.observable(ko.unwrap(valueAccessor()));\n            stringified.subscribe(function(value) {\n                var val = parseFloat(value);\n                if (!isNaN(val)) {\n                    valueAccessor()(val);\n                }\n            });\n            valueAccessor().subscribe(function(value) {\n                var str = JSON.stringify(value);\n                if ((str == \"0\") && ([\"-0\", \"-0.\"].indexOf(stringified()) >= 0))\n                     return;\n                 if ([\"null\", \"\"].indexOf(str) >= 0)\n                     return;\n                stringified(str);\n            });\n            ko.applyBindingsToNode(\n                element,\n                {\n                    value: stringified,\n                    valueUpdate: allBindings.get('valueUpdate'),\n                },\n                context,\n            );\n        }\n    };\n    var json_data = {\"formatted_vals\":[\"0.01\",\"0.02\",\"0.03\",\"0.04\",\"0.05\",\"0.06\",\"0.07\",\"0.08\",\"0.09\",\"0.1\",\"0.11\",\"0.12\",\"0.13\",\"0.14\",\"0.15\",\"0.16\",\"0.17\",\"0.18\",\"0.19\",\"0.2\",\"0.21\",\"0.22\",\"0.23\",\"0.24\",\"0.25\",\"0.26\",\"0.27\",\"0.28\",\"0.29\",\"0.3\",\"0.31\",\"0.32\",\"0.33\",\"0.34\",\"0.35\",\"0.36\",\"0.37\",\"0.38\",\"0.39\",\"0.4\",\"0.41\",\"0.42\",\"0.43\",\"0.44\",\"0.45\",\"0.46\",\"0.47\",\"0.48\",\"0.49\",\"0.5\",\"0.51\",\"0.52\",\"0.53\",\"0.54\",\"0.55\",\"0.56\",\"0.57\",\"0.58\",\"0.59\",\"0.6\",\"0.61\",\"0.62\",\"0.63\",\"0.64\",\"0.65\",\"0.66\",\"0.67\",\"0.68\",\"0.69\",\"0.7\",\"0.71\",\"0.72\",\"0.73\",\"0.74\",\"0.75\",\"0.76\",\"0.77\",\"0.78\",\"0.79\",\"0.8\",\"0.81\",\"0.82\",\"0.83\",\"0.84\",\"0.85\",\"0.86\",\"0.87\",\"0.88\",\"0.89\",\"0.9\",\"0.91\",\"0.92\",\"0.93\",\"0.94\",\"0.95\",\"0.96\",\"0.97\",\"0.98\",\"0.99\",\"1.0\"],\"changes\":WebIO.getval({\"name\":\"changes\",\"scope\":\"10823381236181018953\",\"id\":\"16748230901982307693\",\"type\":\"observable\"}),\"index\":WebIO.getval({\"name\":\"index\",\"scope\":\"10823381236181018953\",\"id\":\"2367399332677306587\",\"type\":\"observable\"})};\n    var self = this;\n    function AppViewModel() {\n        for (var key in json_data) {\n            var el = json_data[key];\n            this[key] = Array.isArray(el) ? ko.observableArray(el) : ko.observable(el);\n        }\n        \n        [this[\"formatted_val\"]=ko.computed(    function(){\n        return this.formatted_vals()[parseInt(this.index())-(1)];\n    }\n,this)]\n        [this[\"changes\"].subscribe((function (val){!(this.valueFromJulia[\"changes\"]) ? (WebIO.setval({\"name\":\"changes\",\"scope\":\"10823381236181018953\",\"id\":\"16748230901982307693\",\"type\":\"observable\"},val)) : undefined; return this.valueFromJulia[\"changes\"]=false}),self),this[\"index\"].subscribe((function (val){!(this.valueFromJulia[\"index\"]) ? (WebIO.setval({\"name\":\"index\",\"scope\":\"10823381236181018953\",\"id\":\"2367399332677306587\",\"type\":\"observable\"},val)) : undefined; return this.valueFromJulia[\"index\"]=false}),self)]\n        \n    }\n    self.model = new AppViewModel();\n    self.valueFromJulia = {};\n    for (var key in json_data) {\n        self.valueFromJulia[key] = false;\n    }\n    ko.applyBindings(self.model, self.dom);\n}\n);\n    (WebIO.importBlock({\"data\":[{\"name\":\"knockout\",\"type\":\"js\",\"url\":\"/assetserver/727383f2a47bd31570b7da84eee7b022dd6d7c78-knockout.js\"},{\"name\":\"knockout_punches\",\"type\":\"js\",\"url\":\"/assetserver/382b41b3b1bd9f26f75861d360bad7f8beea211f-knockout_punches.js\"}],\"type\":\"async_block\"})).then((imports) => handler.apply(this, imports));\n}\n"
                  ],
                  "observables": {
                   "changes": {
                    "id": "16748230901982307693",
                    "sync": false,
                    "value": 0
                   },
                   "index": {
                    "id": "2367399332677306587",
                    "sync": true,
                    "value": 50
                   }
                  },
                  "systemjs_options": null
                 },
                 "nodeType": "Scope",
                 "props": {},
                 "type": "node"
                }
               ],
               "instanceArgs": {
                "namespace": "html",
                "tag": "div"
               },
               "nodeType": "DOM",
               "props": {
                "className": "field interact-widget"
               },
               "type": "node"
              },
              {
               "children": [
                {
                 "children": [
                  {
                   "children": [
                    {
                     "children": [
                      {
                       "children": [
                        "aln_fac"
                       ],
                       "instanceArgs": {
                        "namespace": "html",
                        "tag": "label"
                       },
                       "nodeType": "DOM",
                       "props": {
                        "className": "interact ",
                        "style": {
                         "padding": "5px 10px 0px 10px"
                        }
                       },
                       "type": "node"
                      }
                     ],
                     "instanceArgs": {
                      "namespace": "html",
                      "tag": "div"
                     },
                     "nodeType": "DOM",
                     "props": {
                      "className": "interact-flex-row-left"
                     },
                     "type": "node"
                    },
                    {
                     "children": [
                      {
                       "children": [],
                       "instanceArgs": {
                        "namespace": "html",
                        "tag": "input"
                       },
                       "nodeType": "DOM",
                       "props": {
                        "attributes": {
                         "data-bind": "numericValue: index, valueUpdate: 'input', event: {change: function (){this.changes(this.changes()+1)}}",
                         "orient": "horizontal",
                         "type": "range"
                        },
                        "className": "slider slider is-fullwidth",
                        "max": 100,
                        "min": 1,
                        "step": 1,
                        "style": {}
                       },
                       "type": "node"
                      }
                     ],
                     "instanceArgs": {
                      "namespace": "html",
                      "tag": "div"
                     },
                     "nodeType": "DOM",
                     "props": {
                      "className": "interact-flex-row-center"
                     },
                     "type": "node"
                    },
                    {
                     "children": [
                      {
                       "children": [],
                       "instanceArgs": {
                        "namespace": "html",
                        "tag": "p"
                       },
                       "nodeType": "DOM",
                       "props": {
                        "attributes": {
                         "data-bind": "text: formatted_val"
                        }
                       },
                       "type": "node"
                      }
                     ],
                     "instanceArgs": {
                      "namespace": "html",
                      "tag": "div"
                     },
                     "nodeType": "DOM",
                     "props": {
                      "className": "interact-flex-row-right"
                     },
                     "type": "node"
                    }
                   ],
                   "instanceArgs": {
                    "namespace": "html",
                    "tag": "div"
                   },
                   "nodeType": "DOM",
                   "props": {
                    "className": "interact-flex-row interact-widget"
                   },
                   "type": "node"
                  }
                 ],
                 "instanceArgs": {
                  "handlers": {
                   "changes": [
                    "(function (val){return (val!=this.model[\"changes\"]()) ? (this.valueFromJulia[\"changes\"]=true, this.model[\"changes\"](val)) : undefined})"
                   ],
                   "index": [
                    "(function (val){return (val!=this.model[\"index\"]()) ? (this.valueFromJulia[\"index\"]=true, this.model[\"index\"](val)) : undefined})"
                   ]
                  },
                  "id": "9846136284506191919",
                  "imports": {
                   "data": [
                    {
                     "name": "knockout",
                     "type": "js",
                     "url": "/assetserver/727383f2a47bd31570b7da84eee7b022dd6d7c78-knockout.js"
                    },
                    {
                     "name": "knockout_punches",
                     "type": "js",
                     "url": "/assetserver/382b41b3b1bd9f26f75861d360bad7f8beea211f-knockout_punches.js"
                    },
                    {
                     "name": null,
                     "type": "js",
                     "url": "/assetserver/5ab20f1060420992a9b82a65b735dee4d81ef413-all.js"
                    },
                    {
                     "name": null,
                     "type": "css",
                     "url": "/assetserver/1cc0ed62837210b80a182cc3676512f895dab686-style.css"
                    },
                    {
                     "name": null,
                     "type": "css",
                     "url": "/assetserver/2eee816f616df3549d7044d45e744fbf8d42bfa1-bulma_confined.min.css"
                    }
                   ],
                   "type": "async_block"
                  },
                  "mount_callbacks": [
                   "function () {\n    var handler = (function (ko, koPunches) {\n    ko.punches.enableAll();\n    ko.bindingHandlers.numericValue = {\n        init: function(element, valueAccessor, allBindings, data, context) {\n            var stringified = ko.observable(ko.unwrap(valueAccessor()));\n            stringified.subscribe(function(value) {\n                var val = parseFloat(value);\n                if (!isNaN(val)) {\n                    valueAccessor()(val);\n                }\n            });\n            valueAccessor().subscribe(function(value) {\n                var str = JSON.stringify(value);\n                if ((str == \"0\") && ([\"-0\", \"-0.\"].indexOf(stringified()) >= 0))\n                     return;\n                 if ([\"null\", \"\"].indexOf(str) >= 0)\n                     return;\n                stringified(str);\n            });\n            ko.applyBindingsToNode(\n                element,\n                {\n                    value: stringified,\n                    valueUpdate: allBindings.get('valueUpdate'),\n                },\n                context,\n            );\n        }\n    };\n    var json_data = {\"formatted_vals\":[\"0.01\",\"0.02\",\"0.03\",\"0.04\",\"0.05\",\"0.06\",\"0.07\",\"0.08\",\"0.09\",\"0.1\",\"0.11\",\"0.12\",\"0.13\",\"0.14\",\"0.15\",\"0.16\",\"0.17\",\"0.18\",\"0.19\",\"0.2\",\"0.21\",\"0.22\",\"0.23\",\"0.24\",\"0.25\",\"0.26\",\"0.27\",\"0.28\",\"0.29\",\"0.3\",\"0.31\",\"0.32\",\"0.33\",\"0.34\",\"0.35\",\"0.36\",\"0.37\",\"0.38\",\"0.39\",\"0.4\",\"0.41\",\"0.42\",\"0.43\",\"0.44\",\"0.45\",\"0.46\",\"0.47\",\"0.48\",\"0.49\",\"0.5\",\"0.51\",\"0.52\",\"0.53\",\"0.54\",\"0.55\",\"0.56\",\"0.57\",\"0.58\",\"0.59\",\"0.6\",\"0.61\",\"0.62\",\"0.63\",\"0.64\",\"0.65\",\"0.66\",\"0.67\",\"0.68\",\"0.69\",\"0.7\",\"0.71\",\"0.72\",\"0.73\",\"0.74\",\"0.75\",\"0.76\",\"0.77\",\"0.78\",\"0.79\",\"0.8\",\"0.81\",\"0.82\",\"0.83\",\"0.84\",\"0.85\",\"0.86\",\"0.87\",\"0.88\",\"0.89\",\"0.9\",\"0.91\",\"0.92\",\"0.93\",\"0.94\",\"0.95\",\"0.96\",\"0.97\",\"0.98\",\"0.99\",\"1.0\"],\"changes\":WebIO.getval({\"name\":\"changes\",\"scope\":\"9846136284506191919\",\"id\":\"617558799245831644\",\"type\":\"observable\"}),\"index\":WebIO.getval({\"name\":\"index\",\"scope\":\"9846136284506191919\",\"id\":\"5448765183299074291\",\"type\":\"observable\"})};\n    var self = this;\n    function AppViewModel() {\n        for (var key in json_data) {\n            var el = json_data[key];\n            this[key] = Array.isArray(el) ? ko.observableArray(el) : ko.observable(el);\n        }\n        \n        [this[\"formatted_val\"]=ko.computed(    function(){\n        return this.formatted_vals()[parseInt(this.index())-(1)];\n    }\n,this)]\n        [this[\"changes\"].subscribe((function (val){!(this.valueFromJulia[\"changes\"]) ? (WebIO.setval({\"name\":\"changes\",\"scope\":\"9846136284506191919\",\"id\":\"617558799245831644\",\"type\":\"observable\"},val)) : undefined; return this.valueFromJulia[\"changes\"]=false}),self),this[\"index\"].subscribe((function (val){!(this.valueFromJulia[\"index\"]) ? (WebIO.setval({\"name\":\"index\",\"scope\":\"9846136284506191919\",\"id\":\"5448765183299074291\",\"type\":\"observable\"},val)) : undefined; return this.valueFromJulia[\"index\"]=false}),self)]\n        \n    }\n    self.model = new AppViewModel();\n    self.valueFromJulia = {};\n    for (var key in json_data) {\n        self.valueFromJulia[key] = false;\n    }\n    ko.applyBindings(self.model, self.dom);\n}\n);\n    (WebIO.importBlock({\"data\":[{\"name\":\"knockout\",\"type\":\"js\",\"url\":\"/assetserver/727383f2a47bd31570b7da84eee7b022dd6d7c78-knockout.js\"},{\"name\":\"knockout_punches\",\"type\":\"js\",\"url\":\"/assetserver/382b41b3b1bd9f26f75861d360bad7f8beea211f-knockout_punches.js\"}],\"type\":\"async_block\"})).then((imports) => handler.apply(this, imports));\n}\n"
                  ],
                  "observables": {
                   "changes": {
                    "id": "617558799245831644",
                    "sync": false,
                    "value": 0
                   },
                   "index": {
                    "id": "5448765183299074291",
                    "sync": true,
                    "value": 50
                   }
                  },
                  "systemjs_options": null
                 },
                 "nodeType": "Scope",
                 "props": {},
                 "type": "node"
                }
               ],
               "instanceArgs": {
                "namespace": "html",
                "tag": "div"
               },
               "nodeType": "DOM",
               "props": {
                "className": "field interact-widget"
               },
               "type": "node"
              },
              {
               "children": [
                {
                 "children": [
                  {
                   "children": [
                    {
                     "children": [
                      {
                       "children": [
                        "vis_range"
                       ],
                       "instanceArgs": {
                        "namespace": "html",
                        "tag": "label"
                       },
                       "nodeType": "DOM",
                       "props": {
                        "className": "interact ",
                        "style": {
                         "padding": "5px 10px 0px 10px"
                        }
                       },
                       "type": "node"
                      }
                     ],
                     "instanceArgs": {
                      "namespace": "html",
                      "tag": "div"
                     },
                     "nodeType": "DOM",
                     "props": {
                      "className": "interact-flex-row-left"
                     },
                     "type": "node"
                    },
                    {
                     "children": [
                      {
                       "children": [],
                       "instanceArgs": {
                        "namespace": "html",
                        "tag": "input"
                       },
                       "nodeType": "DOM",
                       "props": {
                        "attributes": {
                         "data-bind": "numericValue: index, valueUpdate: 'input', event: {change: function (){this.changes(this.changes()+1)}}",
                         "orient": "horizontal",
                         "type": "range"
                        },
                        "className": "slider slider is-fullwidth",
                        "max": 8,
                        "min": 1,
                        "step": 1,
                        "style": {}
                       },
                       "type": "node"
                      }
                     ],
                     "instanceArgs": {
                      "namespace": "html",
                      "tag": "div"
                     },
                     "nodeType": "DOM",
                     "props": {
                      "className": "interact-flex-row-center"
                     },
                     "type": "node"
                    },
                    {
                     "children": [
                      {
                       "children": [],
                       "instanceArgs": {
                        "namespace": "html",
                        "tag": "p"
                       },
                       "nodeType": "DOM",
                       "props": {
                        "attributes": {
                         "data-bind": "text: formatted_val"
                        }
                       },
                       "type": "node"
                      }
                     ],
                     "instanceArgs": {
                      "namespace": "html",
                      "tag": "div"
                     },
                     "nodeType": "DOM",
                     "props": {
                      "className": "interact-flex-row-right"
                     },
                     "type": "node"
                    }
                   ],
                   "instanceArgs": {
                    "namespace": "html",
                    "tag": "div"
                   },
                   "nodeType": "DOM",
                   "props": {
                    "className": "interact-flex-row interact-widget"
                   },
                   "type": "node"
                  }
                 ],
                 "instanceArgs": {
                  "handlers": {
                   "changes": [
                    "(function (val){return (val!=this.model[\"changes\"]()) ? (this.valueFromJulia[\"changes\"]=true, this.model[\"changes\"](val)) : undefined})"
                   ],
                   "index": [
                    "(function (val){return (val!=this.model[\"index\"]()) ? (this.valueFromJulia[\"index\"]=true, this.model[\"index\"](val)) : undefined})"
                   ]
                  },
                  "id": "8365391695864258504",
                  "imports": {
                   "data": [
                    {
                     "name": "knockout",
                     "type": "js",
                     "url": "/assetserver/727383f2a47bd31570b7da84eee7b022dd6d7c78-knockout.js"
                    },
                    {
                     "name": "knockout_punches",
                     "type": "js",
                     "url": "/assetserver/382b41b3b1bd9f26f75861d360bad7f8beea211f-knockout_punches.js"
                    },
                    {
                     "name": null,
                     "type": "js",
                     "url": "/assetserver/5ab20f1060420992a9b82a65b735dee4d81ef413-all.js"
                    },
                    {
                     "name": null,
                     "type": "css",
                     "url": "/assetserver/1cc0ed62837210b80a182cc3676512f895dab686-style.css"
                    },
                    {
                     "name": null,
                     "type": "css",
                     "url": "/assetserver/2eee816f616df3549d7044d45e744fbf8d42bfa1-bulma_confined.min.css"
                    }
                   ],
                   "type": "async_block"
                  },
                  "mount_callbacks": [
                   "function () {\n    var handler = (function (ko, koPunches) {\n    ko.punches.enableAll();\n    ko.bindingHandlers.numericValue = {\n        init: function(element, valueAccessor, allBindings, data, context) {\n            var stringified = ko.observable(ko.unwrap(valueAccessor()));\n            stringified.subscribe(function(value) {\n                var val = parseFloat(value);\n                if (!isNaN(val)) {\n                    valueAccessor()(val);\n                }\n            });\n            valueAccessor().subscribe(function(value) {\n                var str = JSON.stringify(value);\n                if ((str == \"0\") && ([\"-0\", \"-0.\"].indexOf(stringified()) >= 0))\n                     return;\n                 if ([\"null\", \"\"].indexOf(str) >= 0)\n                     return;\n                stringified(str);\n            });\n            ko.applyBindingsToNode(\n                element,\n                {\n                    value: stringified,\n                    valueUpdate: allBindings.get('valueUpdate'),\n                },\n                context,\n            );\n        }\n    };\n    var json_data = {\"formatted_vals\":[\"0.5\",\"1.0\",\"1.5\",\"2.0\",\"2.5\",\"3.0\",\"3.5\",\"4.0\"],\"changes\":WebIO.getval({\"name\":\"changes\",\"scope\":\"8365391695864258504\",\"id\":\"646198042768480503\",\"type\":\"observable\"}),\"index\":WebIO.getval({\"name\":\"index\",\"scope\":\"8365391695864258504\",\"id\":\"1005734267147207532\",\"type\":\"observable\"})};\n    var self = this;\n    function AppViewModel() {\n        for (var key in json_data) {\n            var el = json_data[key];\n            this[key] = Array.isArray(el) ? ko.observableArray(el) : ko.observable(el);\n        }\n        \n        [this[\"formatted_val\"]=ko.computed(    function(){\n        return this.formatted_vals()[parseInt(this.index())-(1)];\n    }\n,this)]\n        [this[\"changes\"].subscribe((function (val){!(this.valueFromJulia[\"changes\"]) ? (WebIO.setval({\"name\":\"changes\",\"scope\":\"8365391695864258504\",\"id\":\"646198042768480503\",\"type\":\"observable\"},val)) : undefined; return this.valueFromJulia[\"changes\"]=false}),self),this[\"index\"].subscribe((function (val){!(this.valueFromJulia[\"index\"]) ? (WebIO.setval({\"name\":\"index\",\"scope\":\"8365391695864258504\",\"id\":\"1005734267147207532\",\"type\":\"observable\"},val)) : undefined; return this.valueFromJulia[\"index\"]=false}),self)]\n        \n    }\n    self.model = new AppViewModel();\n    self.valueFromJulia = {};\n    for (var key in json_data) {\n        self.valueFromJulia[key] = false;\n    }\n    ko.applyBindings(self.model, self.dom);\n}\n);\n    (WebIO.importBlock({\"data\":[{\"name\":\"knockout\",\"type\":\"js\",\"url\":\"/assetserver/727383f2a47bd31570b7da84eee7b022dd6d7c78-knockout.js\"},{\"name\":\"knockout_punches\",\"type\":\"js\",\"url\":\"/assetserver/382b41b3b1bd9f26f75861d360bad7f8beea211f-knockout_punches.js\"}],\"type\":\"async_block\"})).then((imports) => handler.apply(this, imports));\n}\n"
                  ],
                  "observables": {
                   "changes": {
                    "id": "646198042768480503",
                    "sync": false,
                    "value": 0
                   },
                   "index": {
                    "id": "1005734267147207532",
                    "sync": true,
                    "value": 4
                   }
                  },
                  "systemjs_options": null
                 },
                 "nodeType": "Scope",
                 "props": {},
                 "type": "node"
                }
               ],
               "instanceArgs": {
                "namespace": "html",
                "tag": "div"
               },
               "nodeType": "DOM",
               "props": {
                "className": "field interact-widget"
               },
               "type": "node"
              }
             ],
             "instanceArgs": {
              "namespace": "html",
              "tag": "div"
             },
             "nodeType": "DOM",
             "props": {
              "style": {
               "display": "flex",
               "flex-direction": "column"
              }
             },
             "type": "node"
            },
            {
             "children": [
              {
               "children": [
                {
                 "children": [
                  {
                   "children": [],
                   "instanceArgs": {
                    "namespace": "html",
                    "tag": "div"
                   },
                   "nodeType": "DOM",
                   "props": {
                    "id": "container"
                   },
                   "type": "node"
                  }
                 ],
                 "instanceArgs": {
                  "handlers": {
                   "value": [
                    "(function (txt){return this.k.render(txt,this.container)})"
                   ]
                  },
                  "id": "13150075900387468345",
                  "imports": {
                   "data": [
                    {
                     "name": null,
                     "type": "js",
                     "url": "/assetserver/dd22ed1bf1896c2748f3fe616ce0b838adc895c1-katex.min.js"
                    },
                    {
                     "name": null,
                     "type": "css",
                     "url": "/assetserver/46517a424aa5e6cffc1360d7e0848b601c584ee3-katex.min.css"
                    }
                   ],
                   "type": "async_block"
                  },
                  "mount_callbacks": [
                   "function () {\n    var handler = ((function (k){this.k=k; this.container=this.dom.querySelector(\"#container\"); return k.render(\"\\\\;\\\\;\",this.container)}));\n    (WebIO.importBlock({\"data\":[{\"name\":null,\"type\":\"js\",\"url\":\"/assetserver/dd22ed1bf1896c2748f3fe616ce0b838adc895c1-katex.min.js\"},{\"name\":null,\"type\":\"css\",\"url\":\"/assetserver/46517a424aa5e6cffc1360d7e0848b601c584ee3-katex.min.css\"}],\"type\":\"async_block\"})).then((imports) => handler.apply(this, imports));\n}\n"
                  ],
                  "observables": {
                   "value": {
                    "id": "5659829449993221217",
                    "sync": false,
                    "value": "\\;\\;"
                   }
                  },
                  "systemjs_options": null
                 },
                 "nodeType": "Scope",
                 "props": {},
                 "type": "node"
                }
               ],
               "instanceArgs": {
                "namespace": "html",
                "tag": "div"
               },
               "nodeType": "DOM",
               "props": {
                "className": "interact-widget"
               },
               "type": "node"
              },
              {
               "children": [
                {
                 "children": [
                  {
                   "children": [
                    "run"
                   ],
                   "instanceArgs": {
                    "namespace": "html",
                    "tag": "button"
                   },
                   "nodeType": "DOM",
                   "props": {
                    "attributes": {
                     "data-bind": "click: function (){this.clicks(this.clicks()+1)}, css: {'is-loading' : loading}"
                    },
                    "className": "is-medium button is-primary",
                    "style": {}
                   },
                   "type": "node"
                  }
                 ],
                 "instanceArgs": {
                  "handlers": {
                   "clicks": [
                    "(function (val){return (val!=this.model[\"clicks\"]()) ? (this.valueFromJulia[\"clicks\"]=true, this.model[\"clicks\"](val)) : undefined})"
                   ],
                   "loading": [
                    "(function (val){return (val!=this.model[\"loading\"]()) ? (this.valueFromJulia[\"loading\"]=true, this.model[\"loading\"](val)) : undefined})"
                   ]
                  },
                  "id": "7465954281565691332",
                  "imports": {
                   "data": [
                    {
                     "name": "knockout",
                     "type": "js",
                     "url": "/assetserver/727383f2a47bd31570b7da84eee7b022dd6d7c78-knockout.js"
                    },
                    {
                     "name": "knockout_punches",
                     "type": "js",
                     "url": "/assetserver/382b41b3b1bd9f26f75861d360bad7f8beea211f-knockout_punches.js"
                    },
                    {
                     "name": null,
                     "type": "js",
                     "url": "/assetserver/5ab20f1060420992a9b82a65b735dee4d81ef413-all.js"
                    },
                    {
                     "name": null,
                     "type": "css",
                     "url": "/assetserver/1cc0ed62837210b80a182cc3676512f895dab686-style.css"
                    },
                    {
                     "name": null,
                     "type": "css",
                     "url": "/assetserver/2eee816f616df3549d7044d45e744fbf8d42bfa1-bulma_confined.min.css"
                    }
                   ],
                   "type": "async_block"
                  },
                  "mount_callbacks": [
                   "function () {\n    var handler = (function (ko, koPunches) {\n    ko.punches.enableAll();\n    ko.bindingHandlers.numericValue = {\n        init: function(element, valueAccessor, allBindings, data, context) {\n            var stringified = ko.observable(ko.unwrap(valueAccessor()));\n            stringified.subscribe(function(value) {\n                var val = parseFloat(value);\n                if (!isNaN(val)) {\n                    valueAccessor()(val);\n                }\n            });\n            valueAccessor().subscribe(function(value) {\n                var str = JSON.stringify(value);\n                if ((str == \"0\") && ([\"-0\", \"-0.\"].indexOf(stringified()) >= 0))\n                     return;\n                 if ([\"null\", \"\"].indexOf(str) >= 0)\n                     return;\n                stringified(str);\n            });\n            ko.applyBindingsToNode(\n                element,\n                {\n                    value: stringified,\n                    valueUpdate: allBindings.get('valueUpdate'),\n                },\n                context,\n            );\n        }\n    };\n    var json_data = {\"loading\":WebIO.getval({\"name\":\"loading\",\"scope\":\"7465954281565691332\",\"id\":\"16838969799742972067\",\"type\":\"observable\"}),\"clicks\":WebIO.getval({\"name\":\"clicks\",\"scope\":\"7465954281565691332\",\"id\":\"113417075404998040\",\"type\":\"observable\"})};\n    var self = this;\n    function AppViewModel() {\n        for (var key in json_data) {\n            var el = json_data[key];\n            this[key] = Array.isArray(el) ? ko.observableArray(el) : ko.observable(el);\n        }\n        \n        \n        [this[\"loading\"].subscribe((function (val){!(this.valueFromJulia[\"loading\"]) ? (WebIO.setval({\"name\":\"loading\",\"scope\":\"7465954281565691332\",\"id\":\"16838969799742972067\",\"type\":\"observable\"},val)) : undefined; return this.valueFromJulia[\"loading\"]=false}),self),this[\"clicks\"].subscribe((function (val){!(this.valueFromJulia[\"clicks\"]) ? (WebIO.setval({\"name\":\"clicks\",\"scope\":\"7465954281565691332\",\"id\":\"113417075404998040\",\"type\":\"observable\"},val)) : undefined; return this.valueFromJulia[\"clicks\"]=false}),self)]\n        \n    }\n    self.model = new AppViewModel();\n    self.valueFromJulia = {};\n    for (var key in json_data) {\n        self.valueFromJulia[key] = false;\n    }\n    ko.applyBindings(self.model, self.dom);\n}\n);\n    (WebIO.importBlock({\"data\":[{\"name\":\"knockout\",\"type\":\"js\",\"url\":\"/assetserver/727383f2a47bd31570b7da84eee7b022dd6d7c78-knockout.js\"},{\"name\":\"knockout_punches\",\"type\":\"js\",\"url\":\"/assetserver/382b41b3b1bd9f26f75861d360bad7f8beea211f-knockout_punches.js\"}],\"type\":\"async_block\"})).then((imports) => handler.apply(this, imports));\n}\n"
                  ],
                  "observables": {
                   "clicks": {
                    "id": "113417075404998040",
                    "sync": true,
                    "value": 0
                   },
                   "loading": {
                    "id": "16838969799742972067",
                    "sync": false,
                    "value": false
                   }
                  },
                  "systemjs_options": null
                 },
                 "nodeType": "Scope",
                 "props": {},
                 "type": "node"
                }
               ],
               "instanceArgs": {
                "namespace": "html",
                "tag": "div"
               },
               "nodeType": "DOM",
               "props": {
                "className": "field interact-widget"
               },
               "type": "node"
              },
              {
               "children": [
                {
                 "children": [
                  {
                   "children": [],
                   "instanceArgs": {
                    "namespace": "html",
                    "tag": "div"
                   },
                   "nodeType": "DOM",
                   "props": {
                    "id": "container"
                   },
                   "type": "node"
                  }
                 ],
                 "instanceArgs": {
                  "handlers": {
                   "value": [
                    "(function (txt){return this.k.render(txt,this.container)})"
                   ]
                  },
                  "id": "13150075900387468345",
                  "imports": {
                   "data": [
                    {
                     "name": null,
                     "type": "js",
                     "url": "/assetserver/dd22ed1bf1896c2748f3fe616ce0b838adc895c1-katex.min.js"
                    },
                    {
                     "name": null,
                     "type": "css",
                     "url": "/assetserver/46517a424aa5e6cffc1360d7e0848b601c584ee3-katex.min.css"
                    }
                   ],
                   "type": "async_block"
                  },
                  "mount_callbacks": [
                   "function () {\n    var handler = ((function (k){this.k=k; this.container=this.dom.querySelector(\"#container\"); return k.render(\"\\\\;\\\\;\",this.container)}));\n    (WebIO.importBlock({\"data\":[{\"name\":null,\"type\":\"js\",\"url\":\"/assetserver/dd22ed1bf1896c2748f3fe616ce0b838adc895c1-katex.min.js\"},{\"name\":null,\"type\":\"css\",\"url\":\"/assetserver/46517a424aa5e6cffc1360d7e0848b601c584ee3-katex.min.css\"}],\"type\":\"async_block\"})).then((imports) => handler.apply(this, imports));\n}\n"
                  ],
                  "observables": {
                   "value": {
                    "id": "5659829449993221217",
                    "sync": false,
                    "value": "\\;\\;"
                   }
                  },
                  "systemjs_options": null
                 },
                 "nodeType": "Scope",
                 "props": {},
                 "type": "node"
                }
               ],
               "instanceArgs": {
                "namespace": "html",
                "tag": "div"
               },
               "nodeType": "DOM",
               "props": {
                "className": "interact-widget"
               },
               "type": "node"
              },
              {
               "children": [
                {
                 "children": [
                  {
                   "children": [
                    "stop"
                   ],
                   "instanceArgs": {
                    "namespace": "html",
                    "tag": "button"
                   },
                   "nodeType": "DOM",
                   "props": {
                    "attributes": {
                     "data-bind": "click: function (){this.clicks(this.clicks()+1)}, css: {'is-loading' : loading}"
                    },
                    "className": "is-medium button is-primary",
                    "style": {}
                   },
                   "type": "node"
                  }
                 ],
                 "instanceArgs": {
                  "handlers": {
                   "clicks": [
                    "(function (val){return (val!=this.model[\"clicks\"]()) ? (this.valueFromJulia[\"clicks\"]=true, this.model[\"clicks\"](val)) : undefined})"
                   ],
                   "loading": [
                    "(function (val){return (val!=this.model[\"loading\"]()) ? (this.valueFromJulia[\"loading\"]=true, this.model[\"loading\"](val)) : undefined})"
                   ]
                  },
                  "id": "4674528476941586543",
                  "imports": {
                   "data": [
                    {
                     "name": "knockout",
                     "type": "js",
                     "url": "/assetserver/727383f2a47bd31570b7da84eee7b022dd6d7c78-knockout.js"
                    },
                    {
                     "name": "knockout_punches",
                     "type": "js",
                     "url": "/assetserver/382b41b3b1bd9f26f75861d360bad7f8beea211f-knockout_punches.js"
                    },
                    {
                     "name": null,
                     "type": "js",
                     "url": "/assetserver/5ab20f1060420992a9b82a65b735dee4d81ef413-all.js"
                    },
                    {
                     "name": null,
                     "type": "css",
                     "url": "/assetserver/1cc0ed62837210b80a182cc3676512f895dab686-style.css"
                    },
                    {
                     "name": null,
                     "type": "css",
                     "url": "/assetserver/2eee816f616df3549d7044d45e744fbf8d42bfa1-bulma_confined.min.css"
                    }
                   ],
                   "type": "async_block"
                  },
                  "mount_callbacks": [
                   "function () {\n    var handler = (function (ko, koPunches) {\n    ko.punches.enableAll();\n    ko.bindingHandlers.numericValue = {\n        init: function(element, valueAccessor, allBindings, data, context) {\n            var stringified = ko.observable(ko.unwrap(valueAccessor()));\n            stringified.subscribe(function(value) {\n                var val = parseFloat(value);\n                if (!isNaN(val)) {\n                    valueAccessor()(val);\n                }\n            });\n            valueAccessor().subscribe(function(value) {\n                var str = JSON.stringify(value);\n                if ((str == \"0\") && ([\"-0\", \"-0.\"].indexOf(stringified()) >= 0))\n                     return;\n                 if ([\"null\", \"\"].indexOf(str) >= 0)\n                     return;\n                stringified(str);\n            });\n            ko.applyBindingsToNode(\n                element,\n                {\n                    value: stringified,\n                    valueUpdate: allBindings.get('valueUpdate'),\n                },\n                context,\n            );\n        }\n    };\n    var json_data = {\"loading\":WebIO.getval({\"name\":\"loading\",\"scope\":\"4674528476941586543\",\"id\":\"18440248245409420041\",\"type\":\"observable\"}),\"clicks\":WebIO.getval({\"name\":\"clicks\",\"scope\":\"4674528476941586543\",\"id\":\"9497994898700415176\",\"type\":\"observable\"})};\n    var self = this;\n    function AppViewModel() {\n        for (var key in json_data) {\n            var el = json_data[key];\n            this[key] = Array.isArray(el) ? ko.observableArray(el) : ko.observable(el);\n        }\n        \n        \n        [this[\"loading\"].subscribe((function (val){!(this.valueFromJulia[\"loading\"]) ? (WebIO.setval({\"name\":\"loading\",\"scope\":\"4674528476941586543\",\"id\":\"18440248245409420041\",\"type\":\"observable\"},val)) : undefined; return this.valueFromJulia[\"loading\"]=false}),self),this[\"clicks\"].subscribe((function (val){!(this.valueFromJulia[\"clicks\"]) ? (WebIO.setval({\"name\":\"clicks\",\"scope\":\"4674528476941586543\",\"id\":\"9497994898700415176\",\"type\":\"observable\"},val)) : undefined; return this.valueFromJulia[\"clicks\"]=false}),self)]\n        \n    }\n    self.model = new AppViewModel();\n    self.valueFromJulia = {};\n    for (var key in json_data) {\n        self.valueFromJulia[key] = false;\n    }\n    ko.applyBindings(self.model, self.dom);\n}\n);\n    (WebIO.importBlock({\"data\":[{\"name\":\"knockout\",\"type\":\"js\",\"url\":\"/assetserver/727383f2a47bd31570b7da84eee7b022dd6d7c78-knockout.js\"},{\"name\":\"knockout_punches\",\"type\":\"js\",\"url\":\"/assetserver/382b41b3b1bd9f26f75861d360bad7f8beea211f-knockout_punches.js\"}],\"type\":\"async_block\"})).then((imports) => handler.apply(this, imports));\n}\n"
                  ],
                  "observables": {
                   "clicks": {
                    "id": "9497994898700415176",
                    "sync": true,
                    "value": 0
                   },
                   "loading": {
                    "id": "18440248245409420041",
                    "sync": false,
                    "value": false
                   }
                  },
                  "systemjs_options": null
                 },
                 "nodeType": "Scope",
                 "props": {},
                 "type": "node"
                }
               ],
               "instanceArgs": {
                "namespace": "html",
                "tag": "div"
               },
               "nodeType": "DOM",
               "props": {
                "className": "field interact-widget"
               },
               "type": "node"
              },
              {
               "children": [
                {
                 "children": [
                  {
                   "children": [],
                   "instanceArgs": {
                    "namespace": "html",
                    "tag": "div"
                   },
                   "nodeType": "DOM",
                   "props": {
                    "id": "container"
                   },
                   "type": "node"
                  }
                 ],
                 "instanceArgs": {
                  "handlers": {
                   "value": [
                    "(function (txt){return this.k.render(txt,this.container)})"
                   ]
                  },
                  "id": "13150075900387468345",
                  "imports": {
                   "data": [
                    {
                     "name": null,
                     "type": "js",
                     "url": "/assetserver/dd22ed1bf1896c2748f3fe616ce0b838adc895c1-katex.min.js"
                    },
                    {
                     "name": null,
                     "type": "css",
                     "url": "/assetserver/46517a424aa5e6cffc1360d7e0848b601c584ee3-katex.min.css"
                    }
                   ],
                   "type": "async_block"
                  },
                  "mount_callbacks": [
                   "function () {\n    var handler = ((function (k){this.k=k; this.container=this.dom.querySelector(\"#container\"); return k.render(\"\\\\;\\\\;\",this.container)}));\n    (WebIO.importBlock({\"data\":[{\"name\":null,\"type\":\"js\",\"url\":\"/assetserver/dd22ed1bf1896c2748f3fe616ce0b838adc895c1-katex.min.js\"},{\"name\":null,\"type\":\"css\",\"url\":\"/assetserver/46517a424aa5e6cffc1360d7e0848b601c584ee3-katex.min.css\"}],\"type\":\"async_block\"})).then((imports) => handler.apply(this, imports));\n}\n"
                  ],
                  "observables": {
                   "value": {
                    "id": "5659829449993221217",
                    "sync": false,
                    "value": "\\;\\;"
                   }
                  },
                  "systemjs_options": null
                 },
                 "nodeType": "Scope",
                 "props": {},
                 "type": "node"
                }
               ],
               "instanceArgs": {
                "namespace": "html",
                "tag": "div"
               },
               "nodeType": "DOM",
               "props": {
                "className": "interact-widget"
               },
               "type": "node"
              },
              {
               "children": [
                {
                 "children": [
                  {
                   "children": [
                    "reset"
                   ],
                   "instanceArgs": {
                    "namespace": "html",
                    "tag": "button"
                   },
                   "nodeType": "DOM",
                   "props": {
                    "attributes": {
                     "data-bind": "click: function (){this.clicks(this.clicks()+1)}, css: {'is-loading' : loading}"
                    },
                    "className": "is-medium button is-primary",
                    "style": {}
                   },
                   "type": "node"
                  }
                 ],
                 "instanceArgs": {
                  "handlers": {
                   "clicks": [
                    "(function (val){return (val!=this.model[\"clicks\"]()) ? (this.valueFromJulia[\"clicks\"]=true, this.model[\"clicks\"](val)) : undefined})"
                   ],
                   "loading": [
                    "(function (val){return (val!=this.model[\"loading\"]()) ? (this.valueFromJulia[\"loading\"]=true, this.model[\"loading\"](val)) : undefined})"
                   ]
                  },
                  "id": "182521876891797808",
                  "imports": {
                   "data": [
                    {
                     "name": "knockout",
                     "type": "js",
                     "url": "/assetserver/727383f2a47bd31570b7da84eee7b022dd6d7c78-knockout.js"
                    },
                    {
                     "name": "knockout_punches",
                     "type": "js",
                     "url": "/assetserver/382b41b3b1bd9f26f75861d360bad7f8beea211f-knockout_punches.js"
                    },
                    {
                     "name": null,
                     "type": "js",
                     "url": "/assetserver/5ab20f1060420992a9b82a65b735dee4d81ef413-all.js"
                    },
                    {
                     "name": null,
                     "type": "css",
                     "url": "/assetserver/1cc0ed62837210b80a182cc3676512f895dab686-style.css"
                    },
                    {
                     "name": null,
                     "type": "css",
                     "url": "/assetserver/2eee816f616df3549d7044d45e744fbf8d42bfa1-bulma_confined.min.css"
                    }
                   ],
                   "type": "async_block"
                  },
                  "mount_callbacks": [
                   "function () {\n    var handler = (function (ko, koPunches) {\n    ko.punches.enableAll();\n    ko.bindingHandlers.numericValue = {\n        init: function(element, valueAccessor, allBindings, data, context) {\n            var stringified = ko.observable(ko.unwrap(valueAccessor()));\n            stringified.subscribe(function(value) {\n                var val = parseFloat(value);\n                if (!isNaN(val)) {\n                    valueAccessor()(val);\n                }\n            });\n            valueAccessor().subscribe(function(value) {\n                var str = JSON.stringify(value);\n                if ((str == \"0\") && ([\"-0\", \"-0.\"].indexOf(stringified()) >= 0))\n                     return;\n                 if ([\"null\", \"\"].indexOf(str) >= 0)\n                     return;\n                stringified(str);\n            });\n            ko.applyBindingsToNode(\n                element,\n                {\n                    value: stringified,\n                    valueUpdate: allBindings.get('valueUpdate'),\n                },\n                context,\n            );\n        }\n    };\n    var json_data = {\"loading\":WebIO.getval({\"name\":\"loading\",\"scope\":\"182521876891797808\",\"id\":\"15864960831049981033\",\"type\":\"observable\"}),\"clicks\":WebIO.getval({\"name\":\"clicks\",\"scope\":\"182521876891797808\",\"id\":\"994077043001533930\",\"type\":\"observable\"})};\n    var self = this;\n    function AppViewModel() {\n        for (var key in json_data) {\n            var el = json_data[key];\n            this[key] = Array.isArray(el) ? ko.observableArray(el) : ko.observable(el);\n        }\n        \n        \n        [this[\"loading\"].subscribe((function (val){!(this.valueFromJulia[\"loading\"]) ? (WebIO.setval({\"name\":\"loading\",\"scope\":\"182521876891797808\",\"id\":\"15864960831049981033\",\"type\":\"observable\"},val)) : undefined; return this.valueFromJulia[\"loading\"]=false}),self),this[\"clicks\"].subscribe((function (val){!(this.valueFromJulia[\"clicks\"]) ? (WebIO.setval({\"name\":\"clicks\",\"scope\":\"182521876891797808\",\"id\":\"994077043001533930\",\"type\":\"observable\"},val)) : undefined; return this.valueFromJulia[\"clicks\"]=false}),self)]\n        \n    }\n    self.model = new AppViewModel();\n    self.valueFromJulia = {};\n    for (var key in json_data) {\n        self.valueFromJulia[key] = false;\n    }\n    ko.applyBindings(self.model, self.dom);\n}\n);\n    (WebIO.importBlock({\"data\":[{\"name\":\"knockout\",\"type\":\"js\",\"url\":\"/assetserver/727383f2a47bd31570b7da84eee7b022dd6d7c78-knockout.js\"},{\"name\":\"knockout_punches\",\"type\":\"js\",\"url\":\"/assetserver/382b41b3b1bd9f26f75861d360bad7f8beea211f-knockout_punches.js\"}],\"type\":\"async_block\"})).then((imports) => handler.apply(this, imports));\n}\n"
                  ],
                  "observables": {
                   "clicks": {
                    "id": "994077043001533930",
                    "sync": true,
                    "value": 0
                   },
                   "loading": {
                    "id": "15864960831049981033",
                    "sync": false,
                    "value": false
                   }
                  },
                  "systemjs_options": null
                 },
                 "nodeType": "Scope",
                 "props": {},
                 "type": "node"
                }
               ],
               "instanceArgs": {
                "namespace": "html",
                "tag": "div"
               },
               "nodeType": "DOM",
               "props": {
                "className": "field interact-widget"
               },
               "type": "node"
              },
              {
               "children": [
                {
                 "children": [
                  {
                   "children": [],
                   "instanceArgs": {
                    "namespace": "html",
                    "tag": "div"
                   },
                   "nodeType": "DOM",
                   "props": {
                    "id": "container"
                   },
                   "type": "node"
                  }
                 ],
                 "instanceArgs": {
                  "handlers": {
                   "value": [
                    "(function (txt){return this.k.render(txt,this.container)})"
                   ]
                  },
                  "id": "13150075900387468345",
                  "imports": {
                   "data": [
                    {
                     "name": null,
                     "type": "js",
                     "url": "/assetserver/dd22ed1bf1896c2748f3fe616ce0b838adc895c1-katex.min.js"
                    },
                    {
                     "name": null,
                     "type": "css",
                     "url": "/assetserver/46517a424aa5e6cffc1360d7e0848b601c584ee3-katex.min.css"
                    }
                   ],
                   "type": "async_block"
                  },
                  "mount_callbacks": [
                   "function () {\n    var handler = ((function (k){this.k=k; this.container=this.dom.querySelector(\"#container\"); return k.render(\"\\\\;\\\\;\",this.container)}));\n    (WebIO.importBlock({\"data\":[{\"name\":null,\"type\":\"js\",\"url\":\"/assetserver/dd22ed1bf1896c2748f3fe616ce0b838adc895c1-katex.min.js\"},{\"name\":null,\"type\":\"css\",\"url\":\"/assetserver/46517a424aa5e6cffc1360d7e0848b601c584ee3-katex.min.css\"}],\"type\":\"async_block\"})).then((imports) => handler.apply(this, imports));\n}\n"
                  ],
                  "observables": {
                   "value": {
                    "id": "5659829449993221217",
                    "sync": false,
                    "value": "\\;\\;"
                   }
                  },
                  "systemjs_options": null
                 },
                 "nodeType": "Scope",
                 "props": {},
                 "type": "node"
                }
               ],
               "instanceArgs": {
                "namespace": "html",
                "tag": "div"
               },
               "nodeType": "DOM",
               "props": {
                "className": "interact-widget"
               },
               "type": "node"
              },
              {
               "children": [
                {
                 "children": [
                  {
                   "children": [
                    "save"
                   ],
                   "instanceArgs": {
                    "namespace": "html",
                    "tag": "button"
                   },
                   "nodeType": "DOM",
                   "props": {
                    "attributes": {
                     "data-bind": "click: function (){this.clicks(this.clicks()+1)}, css: {'is-loading' : loading}"
                    },
                    "className": "is-medium button is-primary",
                    "style": {}
                   },
                   "type": "node"
                  }
                 ],
                 "instanceArgs": {
                  "handlers": {
                   "clicks": [
                    "(function (val){return (val!=this.model[\"clicks\"]()) ? (this.valueFromJulia[\"clicks\"]=true, this.model[\"clicks\"](val)) : undefined})"
                   ],
                   "loading": [
                    "(function (val){return (val!=this.model[\"loading\"]()) ? (this.valueFromJulia[\"loading\"]=true, this.model[\"loading\"](val)) : undefined})"
                   ]
                  },
                  "id": "6886497314709404963",
                  "imports": {
                   "data": [
                    {
                     "name": "knockout",
                     "type": "js",
                     "url": "/assetserver/727383f2a47bd31570b7da84eee7b022dd6d7c78-knockout.js"
                    },
                    {
                     "name": "knockout_punches",
                     "type": "js",
                     "url": "/assetserver/382b41b3b1bd9f26f75861d360bad7f8beea211f-knockout_punches.js"
                    },
                    {
                     "name": null,
                     "type": "js",
                     "url": "/assetserver/5ab20f1060420992a9b82a65b735dee4d81ef413-all.js"
                    },
                    {
                     "name": null,
                     "type": "css",
                     "url": "/assetserver/1cc0ed62837210b80a182cc3676512f895dab686-style.css"
                    },
                    {
                     "name": null,
                     "type": "css",
                     "url": "/assetserver/2eee816f616df3549d7044d45e744fbf8d42bfa1-bulma_confined.min.css"
                    }
                   ],
                   "type": "async_block"
                  },
                  "mount_callbacks": [
                   "function () {\n    var handler = (function (ko, koPunches) {\n    ko.punches.enableAll();\n    ko.bindingHandlers.numericValue = {\n        init: function(element, valueAccessor, allBindings, data, context) {\n            var stringified = ko.observable(ko.unwrap(valueAccessor()));\n            stringified.subscribe(function(value) {\n                var val = parseFloat(value);\n                if (!isNaN(val)) {\n                    valueAccessor()(val);\n                }\n            });\n            valueAccessor().subscribe(function(value) {\n                var str = JSON.stringify(value);\n                if ((str == \"0\") && ([\"-0\", \"-0.\"].indexOf(stringified()) >= 0))\n                     return;\n                 if ([\"null\", \"\"].indexOf(str) >= 0)\n                     return;\n                stringified(str);\n            });\n            ko.applyBindingsToNode(\n                element,\n                {\n                    value: stringified,\n                    valueUpdate: allBindings.get('valueUpdate'),\n                },\n                context,\n            );\n        }\n    };\n    var json_data = {\"loading\":WebIO.getval({\"name\":\"loading\",\"scope\":\"6886497314709404963\",\"id\":\"16954657619395586222\",\"type\":\"observable\"}),\"clicks\":WebIO.getval({\"name\":\"clicks\",\"scope\":\"6886497314709404963\",\"id\":\"15271597919889154882\",\"type\":\"observable\"})};\n    var self = this;\n    function AppViewModel() {\n        for (var key in json_data) {\n            var el = json_data[key];\n            this[key] = Array.isArray(el) ? ko.observableArray(el) : ko.observable(el);\n        }\n        \n        \n        [this[\"loading\"].subscribe((function (val){!(this.valueFromJulia[\"loading\"]) ? (WebIO.setval({\"name\":\"loading\",\"scope\":\"6886497314709404963\",\"id\":\"16954657619395586222\",\"type\":\"observable\"},val)) : undefined; return this.valueFromJulia[\"loading\"]=false}),self),this[\"clicks\"].subscribe((function (val){!(this.valueFromJulia[\"clicks\"]) ? (WebIO.setval({\"name\":\"clicks\",\"scope\":\"6886497314709404963\",\"id\":\"15271597919889154882\",\"type\":\"observable\"},val)) : undefined; return this.valueFromJulia[\"clicks\"]=false}),self)]\n        \n    }\n    self.model = new AppViewModel();\n    self.valueFromJulia = {};\n    for (var key in json_data) {\n        self.valueFromJulia[key] = false;\n    }\n    ko.applyBindings(self.model, self.dom);\n}\n);\n    (WebIO.importBlock({\"data\":[{\"name\":\"knockout\",\"type\":\"js\",\"url\":\"/assetserver/727383f2a47bd31570b7da84eee7b022dd6d7c78-knockout.js\"},{\"name\":\"knockout_punches\",\"type\":\"js\",\"url\":\"/assetserver/382b41b3b1bd9f26f75861d360bad7f8beea211f-knockout_punches.js\"}],\"type\":\"async_block\"})).then((imports) => handler.apply(this, imports));\n}\n"
                  ],
                  "observables": {
                   "clicks": {
                    "id": "15271597919889154882",
                    "sync": true,
                    "value": 0
                   },
                   "loading": {
                    "id": "16954657619395586222",
                    "sync": false,
                    "value": false
                   }
                  },
                  "systemjs_options": null
                 },
                 "nodeType": "Scope",
                 "props": {},
                 "type": "node"
                }
               ],
               "instanceArgs": {
                "namespace": "html",
                "tag": "div"
               },
               "nodeType": "DOM",
               "props": {
                "className": "field interact-widget"
               },
               "type": "node"
              }
             ],
             "instanceArgs": {
              "namespace": "html",
              "tag": "div"
             },
             "nodeType": "DOM",
             "props": {
              "style": {
               "display": "flex",
               "flex-direction": "row"
              }
             },
             "type": "node"
            }
           ],
           "instanceArgs": {
            "namespace": "html",
            "tag": "div"
           },
           "nodeType": "DOM",
           "props": {
            "style": {
             "display": "flex",
             "flex-direction": "column"
            }
           },
           "type": "node"
          },
          {
           "children": [
            {
             "children": [
              {
               "children": [],
               "instanceArgs": {
                "namespace": "html",
                "tag": "div"
               },
               "nodeType": "DOM",
               "props": {
                "id": "container"
               },
               "type": "node"
              }
             ],
             "instanceArgs": {
              "handlers": {
               "value": [
                "(function (txt){return this.k.render(txt,this.container)})"
               ]
              },
              "id": "13150075900387468345",
              "imports": {
               "data": [
                {
                 "name": null,
                 "type": "js",
                 "url": "/assetserver/dd22ed1bf1896c2748f3fe616ce0b838adc895c1-katex.min.js"
                },
                {
                 "name": null,
                 "type": "css",
                 "url": "/assetserver/46517a424aa5e6cffc1360d7e0848b601c584ee3-katex.min.css"
                }
               ],
               "type": "async_block"
              },
              "mount_callbacks": [
               "function () {\n    var handler = ((function (k){this.k=k; this.container=this.dom.querySelector(\"#container\"); return k.render(\"\\\\;\\\\;\",this.container)}));\n    (WebIO.importBlock({\"data\":[{\"name\":null,\"type\":\"js\",\"url\":\"/assetserver/dd22ed1bf1896c2748f3fe616ce0b838adc895c1-katex.min.js\"},{\"name\":null,\"type\":\"css\",\"url\":\"/assetserver/46517a424aa5e6cffc1360d7e0848b601c584ee3-katex.min.css\"}],\"type\":\"async_block\"})).then((imports) => handler.apply(this, imports));\n}\n"
              ],
              "observables": {
               "value": {
                "id": "5659829449993221217",
                "sync": false,
                "value": "\\;\\;"
               }
              },
              "systemjs_options": null
             },
             "nodeType": "Scope",
             "props": {},
             "type": "node"
            }
           ],
           "instanceArgs": {
            "namespace": "html",
            "tag": "div"
           },
           "nodeType": "DOM",
           "props": {
            "className": "interact-widget"
           },
           "type": "node"
          },
          {
           "children": [
            {
             "children": [],
             "instanceArgs": {
              "namespace": "html",
              "tag": "div"
             },
             "nodeType": "DOM",
             "props": {
              "className": "webio-observable",
              "setInnerHtml": "<img src='data:image/png;base64,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'></img>"
             },
             "type": "node"
            }
           ],
           "instanceArgs": {
            "handlers": {
             "obs-output": [
              "function (value, scope) {\n    scope.setInnerHTML(value);\n}\n"
             ]
            },
            "id": "2581030155666629431",
            "imports": {
             "data": [],
             "type": "async_block"
            },
            "mount_callbacks": [],
            "observables": {
             "obs-output": {
              "id": "1591761138026636991",
              "sync": false,
              "value": "<img src='data:image/png;base64,iVBORw0KGgoAAAANSUhEUgAAAa4AAAGuCAIAAABHl3XNAAAABmJLR0QA/wD/AP+gvaeTAAAgAElEQVR4nOzdd3wURf/A8U966L0EkN4EpAUQCCDSq9IC0gKKxMJDswVRmqIGQQ3oTwT1kY4QRITQIyChdykBIbQAgdBCT0LK/P7IPRx37qXd3u6Veb/uxetudjPz5XL3zezu7IybEAJJkiTX5q53AJIkSfqTqVCSJEmmQkmSJJkKJUmSkKlQkiQJmQolSZKQqVCSJAmZCiVJkpCpUJIkCZkKJUlyGEKwaJGN6papUJIkBzFlCoMHs369Lep2k/cgS5LkAFavpmdP0tMpU4bjxylSRN3qZa9QkpQ8fKh3BNJT/vmHoCDS0wHi4njvPdVbcOpUuHYtaWl6ByE5pkWL2LtX7yAkAO7fp1cv7t41lvz3v6xbp24jTp0KDx1ixAi9g5AckxAMGsT9+3rH4fLS0xkwgOho8/Lhw0lIULEdTxXrsjvPPMPEidSowdixeoeih7Q0btzg5k1u3uTqVcOT69eJj6d0ab7/Xu/47JuHBzExvPMOP/6odyiubcIEIiIUyuPieOcdfvlFrXacPRUC771H+fL07q13NLa0ezcbN3LzJteuGdLfjRvcuGFx/7ff1jA4x+TpCfDTT7RrR79+ekfjqn7/nS++sLh13jxefpkePVRpypYHyI8f27Dy7ChXDiA9nUGD2LVL52BsqmlTatdmzRp++43t24mOziwPAs2baxWZw/L8Xy/hzTeJjdU1FFd17BhBQWQyxMXDg6VL1WrNZqlw/XpWrrRV5dmU0SsEkpJ46SVOn9Y1GltycyMwkOhoJk3C1zfr/Zs1s31MDu5JKrxzh8GD5fU3rd2+Ta9ePHigsKloUQIDmTOHy5dZtkytBm2TCmfOpFs3mjSxSeXZlzcvRYsant+6RefOXL+ua0A2li8fkydz+jSDB+PmZnG3kiWpXFnDsByT51PnjrZvZ8YM/UJxPWlpDBpETIxJYeXKjBrF5s1cu8by5QQHU7q0mo0KdaWkiLfeEiCqVlW55typW1eA8dG4sXj4UO+YNLFtm6hf3+T//uTx8st6B+cIVq40edM8PcWePXrH5DLefdfwtvv6inbtRGioOHnS1m2q2iu8fZsOHZg9G6BDBzVrzrUnx8gZ9u/nlVdc4mDnhRc4eJD58ylVynyTPDrODg8Pk5epqQwcKMfWaGHJEhYuZPBgli8nPp7NmwkJoWZNWzerXiqMiaF5c7ZuNbxs3161mq1hlgqBNWsICdEjFM25uxMUREwMkybh42Msl6kwOzz/Nbji7FkXHZWlsQYNuHaNBQsIDKRgQc2aVSkVRkbSuDH//GN46enJiy+qU7OVMi4im/nqK2bN0jwUneTPz+TJHDtGYCCApyf+/nrH5Aj+nQqBn39W8Ty9pOzZZzM7020zaqTCH3+kSxfu3DGWPP88hQqpULP1/t0rzDB2LL//rm0ouqpWjeXL2biR/v3Jl8+2ba1dy61btm1CA4qpEDm2xmlZlwrT0hg3juBgUlJMyu3k6BgLvUIgPZ0hQ7h8Wdto9NahAwsW2LaJBw8YPpx27dS9KUoHllLhnTsMGuQSp5tdjBWp8MEDevZk2jSFTfaTChV7hQUKEBzM/v0WE6WUa9Onc/UqR47QpYvyoDBHYSkVVqxIkyYOn+ilf8ntfIWXL9O9O0eOKGwqWJCbN/HysjIydSQlkTevccB6pUq88QbBwapPdiYBxMdTrZrxMmubNkREkCePrjHl1t69NG1qfFmhAi+/TGAgAQG6nMmSbC1X9yA/ekTbthZv3mjTxl7yIODrS7Fi3LyJvz+jRjFggMW/9pL1Pv7YZLjJli306MHq1SbXrx1FxuekUiW6d5cZ0BXktlcYH8/777NwocKm77/nrbesDEtNn3xC167ysqnNnTxJ3bqkppqX9+hBeLjj/QW6fZsrV3juOb3jkDRi3YT+a9fy9tvmF9RiYqhSxcqwJMfTtavF2TQHDWL+fNydenJMycFZ9+ns2pXoaEJCjEPzK1aUedAVbdmS2azC4eE2WppHktRi9R/qfPkIDWX7dmrXBujY0fqYJAeTns4HHyhv8vYmOJiYGLp21TYmScoZlc7gNG/OoUN8/rk8JeeKFi/m4EHzQm9vhg5lwgQ5YklyCHLxT8k6SUnUrMnFi8aSjCQ4cSJly+oXliTljKNd15PszcyZxjzo48OQITIJSo5I9golKyQkULUqt28bkuCkSZQpo3dMkpQbslcoWWHyZJKSGDWKkBCZBCWHJlOhlFtXr5I/P+fPU7Kk3qFIkrXkAbIkSZJNF/+UJElyEDIVSpIkyVQoSZIkU6EkSRIyFUqSJCFToSRJEjIVSpIkIVOhJEkSMhVKUs5cvMjmzSQm6h2HpDIXToV//cWgQXoHIdm3uDgiI5k5kzfeoEULChakShXi4hx1GT/JMpe88S4ujnHjWLQINzdu3KBoUb0DkuxAaiqxsZw4QXS04d9Tp3j40GQfLy+WLKFPH51ClGzIxaZjSEnh+++ZMMGwRqUQ7NlDly56hyXp6vZtWrXi9GlSUjLbzceH8HC6d9cqLElTrnSAvGULDRowZozJWr1RUfoFJNmHokWpWzeLPJg3L6tXyzzoxFwjFV65QlAQbdty4oT5JpkKJWDyZOOqjf+WLx9r1tChg4YBSVpzjVS4eDGLFilvOnBAXg2UqF6dfv2UNxUqxObNtGmjbUCS1lzmssn8+QwfrnwQ9NdftGqleUCSnTlzhmefJS3NpLBIETZsoEkTnWKStOMyl02GDMHPjz59TE4UZoiKkqlQIzdvMn486emUKEGJEhQrRvHihkfJkhQooGds1arRrx9LlhhLSpZk82bq1tUvJkk7LtMrzLBvH926ceOGSWHHjmzYoFNAric2lh49OHxYYZO3N8WLG/JjyZKGFDlqlHajnc6coVYtUlMBSpcmMpLatTVqWtKbi6VC4OxZOnUiJsZYkj8/CQl4ukwHWXdJSQQHs3Bh1ntWqcKZM7i52T6m/xk0iMWLKV+eP/+kalXt2pX05hqXTZ5WpQpRUTRoYCx58ICjR/ULyPX4+jJ/PqGhuGf18XvrLZM8KITNr3FNmkTVqmzbJvOgq3G9VAiULs327SZjI+SQGo25uRESQkQEhQpZ3Mfbm6Ag48vkZAYNIizMtoFVq8bff1Opkm1bkeyPS6ZCIH9+1qzhlVcML2Uq1EXnzuzbR82aylt796ZECcPzhAQ6dmTJEr77jsePbRtV3ry2rV+yS66aCgFvb5Ys4f33AbZvx9XOmdqJ6tXZuZP27RU2vfGG4cn58zRvzl9/AcTFsWKFduFJLsOFUyHg5saXXxIWxq1bnDmjdzSuqmhR1q8nJMSksEYNwwin/ftp1oxTp4ybvv5atabNxhJI2khM5Phx0tP1jsOEa6fCDKNHM38+e/boHYcL8/AgNJTFi42TXwUH4+bGH3/QujXx8SY7HzzIzp0qNLp1K0uXqlCPlFN58rBsGYUL0749kycTGWkPd3y53mAaS+7f13mIrwTs2UOvXty+zaVLrFrF228bRvmZ6dOH8HCrGrp2jYYNmTyZ4GCr6pFybeRIvvvO8NzTk3r1CAigRQtatzaeI9aQTIWSnblyhSVL6N+fNm0snrXw8CAmhooVc9lEaipt2hAVxaJFDByY20Al66Sl0a8fv/2msKlyZUNaDAigVi1tBpbKA2TJzpQty/vvU64cJ04QGoqvr8I+aWl8+23umxg/3jBmIH/+3FciWcnDg4ULadlSYdO5cyxcyBtvUKcOfn4MH65BODIVSvbKy4uQEI4fp1Mnha0//si9e7mpNiKCGTMMz2Uq1FeePKxZQ/36me0TH4+/vwaxyFQo2bcqVVi/ntWreeYZk/L795k3L8e1XbzI0KHGgVMyFequUCHWrs3sXEf9+rJXKEn/0707J08SEmIywWpYmPmcWplLTqZ3b27dMpbky6dahFKulSnD5s2ULKmwyc2NsLDMZtVVj0yFkoPIl4/QUA4coGlTQ8n580RE5KCGMWM4eNCkRPYK7UTVqkREKPw6BgzghRe0CUFeQZYcjRAsXMg773DrFi+8wLZt2fqpZcuM91k+ceMGxYurHZ+UW3/+SZcuxhsr8+fn1CnKltWmcdkrlByNmxtBQZw4weDBbN/OgQNZ/8jp08rjB+UBsl1p25ZffjHOV/Txx5rlQWSvUHJs27eze7f5TXtmHj6kSROio83LPTyUx29L+vruO0aOpEoVTpzAx0ezZmUqlBxcenoW8x4OGcKCBQrlBQty966NgpKs8v77tG5N165atilToeTUFi40mfTwaWXKcOWKttFI2SOEplOXA/JcoeTkBg4kKorgYIWrk/Lysd3SPA8ie4WSq0hMJCKCBQvYsMFwirBhQ/OxNZILk6lQcjFxcYSHs2AB+fKxfbsKFU6eTPPmJutDSA5IpkIbSEjg6lVq1sx6GSNJR1euqDBWIyqKF1+kWDEOH6ZMGTXCkvQhv6s2cO0atWtTuDAtWjB6NOHhXL+ud0zSv1ifBxMSGDyYtDSuX2fAgJzdBShZb8UKYmPVqkz2CnNLCM6f5/596tUz33TrlsI9DNWq8fzzPP883brlfqI9ya7068fy5caXkyczaZJ+0bieJk34+2/efJNPP6VgQSsrk6kw2x4/5swZDh7k4EGiozl8mFu3GDOGb74x31MIfHxISVGoxNOTI0eoXVuDeF3XyZPExdG2rW1bmT2bt982KXF3Z+NG2rWzbbtShqQkChUy3KXn58fkyQwbZtXEDULKXGKi6NdPVK0q3N0FmD+++Ub5p8qUUdgZxKhR2kbvkkJDBYjAQBEfb6smjh8XefMq/H5LlRJXr9qqUQdy9Ki4dMm2Tezcaf7mN2ggtm3LdX3yXGFWfH3Jk4eYGOUFuiwd6pYqpVBYpAgTJ6oYmqRsyxaA8HBq1GDmTPVXVktKYuBAHj1S2BQfL08aAlSsSEAAQUGcPGmrJvbuNS85fJjWrenenbNnc1OhimnaaV24IHx8lHt5hw4p/0inTgo7z5ypbdwuKTlZ5Mtn8rYHBIhjx9Rs4q23lD8MTx6ff65mcw7qp58ECHd30a2b2LNH/fpfecXi+9+4sXj8OKf1yVSYPSNHKr/pt28r7z9kiPmeNWrk4tcj5dhffyn8mjw9xahR4v59dZqIihIjRwo/P4tfRU9PERWlTluOKy1NNG5s8gdp9Wo1669QwWIevHkzF/XplwpXrRJxcbq1nlPXr4sCBczf9AIFLO7//vvmO0dEaBiuC5s0yWKGqlRJrFunWkNpaSIqSowapZwTy5UTN26o1paD2rVLuLmZn86bP1+kplpbc3y88q/4xRfFvXu5q1KnVHjjhihRQjRsKB4+1CeAXBg/3vx9f+45izvPmGGyZ9u2Ggbq2lq2zOLotVs3ERurZotPcmLp0iYNde4s0tPVbMgR9e+v8CuoWlWEhYmkpNxXu2qVQrUvvSQSE3NdpU6p8Mkb1Lu3SEvTJ4acSkgQRYuavPXdu1vcecEC424eHuLoUQ0DdWEPH1o8q/v0o1AhERamQt/ETGqqISeWKmVoaPp0lZtwOJcumZ+6ffKoUEGEheWyM/Thh+a1DRokUlKsiVSPVLhuncn/YcIEHWLInc8/N4n8P/+xuOfGjcbd3n5bwxBd24YNWefBpw/W9u2zSRhPcmKZMmLnTps04UCmTMnst1CihNixw2T/+Pisz+q++KL5N9HqHpXmQ6wfPaJOHc6fN5a4ubFgAYMGaRpG7iQmUq2acZK76dN57z3lPf/+27C6a+HCnDkjF9DQSEgIP/xAvnzky0ehQhQoYHheuDD58xueFylieJI/P8WLU6+eDaeEevyYf/7huedsVb9DSEykVi0uXFDe2qMHK1aYDI2+fp1OnbhwgcqVqVWL2rWpXJnKlalZ07AAQ3o6RYoYV8EOCSE0VIU4rUylOTZ6tMJfBl9fh/njOWuWMezwcIu7xcUZ9vnqKw2DkyS79Ouvyl3CNm2UzxjeuSNatFDYv0gRERAg+vQxvHRzE19+qVaM6qXCuDgxfrzYsyeznuq+fcLDQ/lNKV5cxMSoFoztJCeLypUNMe/fb3G3lBTh7i6qVLHq3LAkOY0XXjD/yjdunNmB8MOHyoNzzR5eXmLQIFUCVO9uk0eP+PxzmjalVCmCgggP5/59kx1SUnj9dYsD8W/epEcP5RH8dsXbmwkTDM8rVLC4m6cnRYvy1VdarlMjSfbLbGX3atWUFz5+Im9e/viDfv2yqDYlJet9skmVhCqEEOfOKRz2tmsnwsLE5ctCCPHZZxZTu4+PCAw0P3tqt1JTRa1aIm/eLHbL5KKKJLmg4cMN3/dy5cSFC9n6kdRUERycWa+wXj21Riypd9nk4sXM5p6qWpULFxTWWixThuHDGTGCEiXUCUMbv/3GxImcOJHZPg8eyNUzJMno+nVq1MDTk+3befbZ7P6UEIwbx5dfKm9dtoy+fVWJzlOVWoAsZmyOiTEvadaMsWPp2RNP9WLQTK9eHD+exT4yD0q6uHOHwoX1DkJJyZKEhuLvn4M8CLi5MW0aRYvy4YeY9duqVqV3b7WiU69XGBeX3WmB8+She3fGjKFZM3WatoWUFLy8MtshOVmeB5TsUVAQc+aQJ0/We27ZQsuWWXzO7ccPPzBihMk8Q7/8wtChalWvXiq8dg0/v8x28PSkSRPGjLHTnmBKCqdPG2ZmPXiQBw84ckTvmCQp55o1o3FjZs3KYrfUVMqXp3Jlli93mFVZfv2VoCDDpMjPPENMDN7eatVt+wPkfPkoWZJRoxg1yu6WPTpyhD17DLnv+HGTeadffFG/sCTJCr6+fPstL75Iz56Z7bZ+PVevcvUq9euzbJljfOBfeYWCBenTh8RExo1TMQ9iw1RYqxaBgXTsSIUK9vs3Z/FiZsxQ3lSunLahSJJKfH0BXnuN+vWpVMnibr/8Ynhy4wYdOjB1KiEhWoRnpS5d2LiR11/n1VfVrVi9A+TbtylWzJAB+/enRg11qrWpO3eoWpVbtxQ2jRvHF19oHpAkWa1nT1atAmjShKgo5a7T9euUK2e+/M6AAfz4I3nzahGklR49Uj1O9Y5YCxbk0iVOnGDyZMfIg0Dhwowbp7zJ+pUhsy89nZkz2bhRuxYl+5SSYshi1sjoFQL79llcQGLhQoVlyJYsISCAc+esDUADNsjX6qVCT0+HPKgcNYrKlRXKNUuFZ8/Sti1jxqjwHZAc3fvv07cvBw5YVcmTVAh8+SVr1ijss2CB8s8eOULjxq75V9nOrmNoz9ubyZMVyjVI66mpzJxJ3bps2wawdq3NW5Ts2fLlzJxJSgpDhpCYmPt6nk6FQjBsGHFxJjvs3cvRoxZ//PZtOndm3Dj1l8eyby6fCoGBA/H3Ny+0da/wxAkCAhgzxnjb9aVLREfbtlGnYU2msE+nTzN8uOF5dDQffZT7qp5OhcCNG+aL8D25YGKJEEybxssvc+dO7sNwNDIVgrs706eblHh4KK/eqYrUVKZNw9+fffvMN61fb6tGncypU3z3nd5BqOfBA3r2NE7AB4SFsWFDLmszS4XAX38xdarheXo6MTFUrUrx4lkMro6IoFkzG67eaWc0n7rVbnXqZDxFUrYsly/bpJWjR3ntNQ4eVN7ati2RkTZp155duJDZ3euKrl+nTBl++42XX7ZJSBobPJhFi8wLy5bl6FGKFs1xbZMnM2WKeaG7O5s20batefnDh9y5Y3jcvWt8/uSRlsbUqTm7Vc4x6ZcK4+L45hsKFaJwYZN/M54UKqR1PEeP0qCB4fxIkyYKC05bKSWFr79m4kQeP7a4j7c3N29SoIDKTduzHTvo2pW//jJM+p1NQpAnD15eREXl7AftUFgYY8cqbxowgMWLc1zhtGnK4yJKleLIEUqXznGFLkKV+W1yIyVFYTnNJ4933tEhpCeLF/fqpXLNu3eLWrWyteDGqlUqN23Ptm8X+fMLMl0wy5KKFQWIMmVUXr5OY7t3C2/vzD4PS5bkuM6wMIu1deokF+GzRL9zhZ6eNG1qceuQIRqG8j+ffWYYr6TiNZM1axg5khYtsntJxHVOF27fTpcuPHgAsGYNu3fn7MczfkdxcXTuzN276oenjXv3aNfOZE5TMyNG5Phczb/PFQKFCjFkCGPGmE/uIv2PrtMivPACmzcrlDdpQt26mkcDZcvyn//w5ZdqpsIvvuDFF/n5Z5KTAe7dIy0NIQzX5h4/5uFDgEePDDv8e0pHp7R9O127GvJghgkTcnae9Mnv6MQJXnmFNWvscY6PLHXoQIcOXLvGsmXMn8/hw+Y7JCQwdCibNuXg/v2nU6GvL+3aERhI796GNZIkS/TskkZFKXfjZ8/WLaSEBFGsmFi4UJ3ajh8Xbm7i88/VqU1dN2/q1vSmTSJPHoXf+5YtOahk7FiTn339dZuFm6nHj9Ws7fhxERIiSpY0f2e++SYHlfz6q/DwEAEBYs4ccfeumuFpQL+1gHRNhcnJIm9ehWUAbt/WM6qvvsrZdzITw4YJEP36qVObukaO1Oe85MaNynkQRPPmOahnxgzzH58xw2ZBW/D4sejcWWzcqHK1qali82YRGGg8jejjI44eze6PX70qbtxQOSTN/PyzuHhRl5Z1TYXiX0s7gxg4UOeQkpLE9esq1BMfL3x9BYjq1VWozRpTp4oHD8wLw8OFm5sICdH0PHpsrChYMLOrBBER2a1q6VLzn3V3F7/9ZsvoTaWni6FDBYhatVTuGz5x+7aYM0cEBAgQ9euL5GSbtGJXBg0SU6fq0rLeqXDyZPMPdGSkziGpZdIk41c0k0UONTB+vKhbV5w9a1J4966h0xEYqJAobefiRREcbHEN2Lp1M1s89mnbtyv8eJ48YvduG/8H/uedd4ztzpxp27aio0VIiM1bsQfly4tKlXS5zK13Kty61eSjXKFCdr8Jdi4pSZQqZfx/6bvg/c6dAkTRomLTJpPyJ13yunXFuXOahhQdLQIDhZubQjoLD89WDWfPKifT4sXFmTM2jl6IL74wabRIEXWOJDLnHF+NTMTEGN7P7du1b1zvG++aNjW54DV0qN3NdJ07CxYQH298qe/aAE2bUrKk4Tb7adOM5V27Gp4cPUrjxpre6PLssyxfzu7dtGljvumjj7J1Gb1sWdzcFMpv3uSll0hIUCFISxYuZPx4k5KEBOPq2LbjHF+NTPz1l+FJlndJ24L22ddcy5aGPwVubuYHcQ4qPd18QPXw4TqHNHiwMZhXXhEPHwohxMmTJkF6eIjQUB1i27xZ+PubRDJ/frZ+sHhx5Y5h+fJi7VpbRbt6tfD0VGjU3V3s22erRl1EUJDhzcyXT9y7p3HjdpAKP/7Y8P9v21bvUFSybp3596RRI51D+vVXk3jq1xfnzwshRNWqCpetHj3SOrz0dLF8uahe3RBDxYrZukRQr5558P7+Yv58kZJiqzh37xb58lm85tO8ubyXwyoVKhjfzF9+0bhxO+hyv/CC4YnaixXo5ptvzEuOHVOYNFhLnTqZTEOSMUPnli107my+5+LFtGhBbKyW0eHmRmAgJ0+yfDmVKnHhQrYOkZ6Msvb2JjCQ3bs5cICgIBuOtb5wIbPh97t2sXSprZp2eufPc/Gi8aX2x8gap14FDx8Kb29RqJDhqM3RHTumfDXg2DGdA2vd2jwkT0/x2mvKHZwSJcS2bfrEmZws5swR9etn3TkdPlyUKiVCQsTly5pEJoQQIi1NrF4tmjZVft/KltV5tIDj+uUXk3fSzU2Ly19PsYNUKIRo1ky8+abheWKirqFY7dVXlb8kat3BkmvTpysH5uWlXO7jI378Ubdo794VcXFZ7HP2rJ5D7aKiRLduCn/2xo/XLSSHljFI8+nHxx9r2b4dHCADrVoZjo7XrKFDBwe+Y/z6dYuHSLovMP/kerEZS0fuKSkcO6bbPdEFC+Lnl8U+lSuruxJuzrRowZo1HDnC4MEmh+QzZnDmjG5R2RUhGDeO0aOJjMz6BFHGshZPmzfPZPJtW9My71p0+rQQQuzaZbgPb9EivQPKrQkTLJ5Tb9NG7+CEqFLFYnhmj0qVVLv70BWcOydGjTLeRfryy3oHZDfu3xd16ggQ+fOLbt3EnDniyhWF3WJjlT+Hqt/UaJndzGJ97BgvvGAYDla2LP/845ATaezcycmTXLrEhQtcumR4ZEw5U6wYN2/qHN7o0cyaZV7o6WnS9XNzY/hwvvqK/Pm1DM0Z3LjB//0f337L7dusW6dwSco1XbhA48bGD7+7Ow0a0K4d3brRvLlhsOSCBcrz8r3yinZXojRLupmJiRGlS5v8NZgwQe+Y1HP1qti7V6xYof89pBs3mv/VrV1b7N8v6teXnUHV3L8vwsJE+/a2ujHZEW3erDwYs3hxERgo5s8XAwcq9wo1nJzFDlJhfLyoVk3hLdD4VjBXkJxsnDnc01OEhBjmRProI+HmJoKD5dVP1SQnyzfTxNdfZ3ZCRnHQRcbj+++1CVDvA+S7d2ndWvmSQp8+hIdrHpCz69WL33+nVi3mzaNxY0PhsWMkJNCqla6RSc7u9df5+efMdvDzo1o1w9JGTx4NGtC+vQbR6ZoKExPp2JGoKIs7bNqkzbvgQubN49QppkzBx0fvUCQXk5RE69YWF1B7/nl27sxsbQMb0y8VpqTQsydr12a2T+3aHDnikBO1S5L0b9eu0agRV66Yl/v4cPAgtWvrEZOBTuMKheC117LIg1Wq0KCBrdYjliRJe6VLs2KFwhHJ5Mn65kF06xW++y5ff21e6OVF3boEBODvT+vWlC+vQ2CSJNnawoUEBRlfNmjA3r0m98jrQY9UOHWqcXI3Pz/8/WnRgoAAGjVSXrdQkiQnM2YMM2cC+Phw4AB16ugdkPap8KefCAsjIMDQ+9O7VyxJkg7S0ujWjQ0b+Owz83lwdaJ5KkxKkl0/SZK4dYs332TpUju5Lqr3uEJJkiQ7YB8z00iSJOlKpkJJkiSZCn2W4CQAACAASURBVCVJkmQqlCRJQqZCSZIkNEqFJ05w6pQWDUmSJOWKJqlw2TLq1mX0aO7e1aI5SZKkHNIkFe7cSUoKs2ZRpQozZ2q6dIskSVI22H6IdVoahQvz4IGxpGFDZs6kRQvbtitJkpRttu8V/v23SR4EDh2iZUu6d+fiRZu3LkmSlA22T4U7dyqXR0RQqxaTJ5OUZPMYJEmSMmX7VLhrl8VNjx4xZQrVq7Nggc3DkCRJssz25worVCA2NuvdXnyRmTN57jnbBiNJkqTExr3CK1eylQeBrVtp0oQvviAlxbYhSZIk/YuNZwrbscPwxNeXIkUoUoQyZfDzMzw3e1mqlI7rXUmS5MpsfIB85w7JyRQrZiezM0qSJCmSU7dKkiTJ6RgkSZJkKpQkSUKmQkmSJGQqlCRJwuaDaSTb2biRP/+kQQMaNKB6ddzlXzVJyj2ZCh1Wx45s28aAAQDe3lStir+/8ZEnj97xqS02lvLl9Q5CclpyMI2D++ADpk83L/T0pHp1Q06sXZuGDSlaVOV2ExOJjaVGDZWrNZOWxpEjrFlDRARvvsnrr9u2OcmFyVTo4IRgxAhmz85sH3d3qlXjk0/o21e1dlesICaGceNUq/BpDx+yZQsREfzxB/HxAG+9xfff26QtSQJkKnQGQvD22/zwQ2b75M9PTAylSqnWaJ8+3LrF1q2qVQicO0dkJGvWsGkTjx8by5s1Y+tWfHzUbEuSTMlzhY7PzY3vvyc9nblzLe7z/vtq5sH791m3jtRU7t6lUCGrqkpLY/duIiJYs4boaIUdSpcmPFzmQcnWZCp0Cm5uzJ7No0csWqSwtUQJxo5Vs7lVq0hMBNi6lR49cl/PiBEsXUpCgsUdfHxYuZKyZXPfhCRljxyB4Szc3Zk3z3BB2cykSRQooGZbv/5qeLJxo1X1BARklgeBb7+lWTOrmpCk7JHnCp1LWhoDB7JsmbGkUiVOncLbW7UmEhIoXdpwLq9iRc6ft6q2wEBWrFDe9OabWVwOkiT1yF6hc/HwYOFCXnrJWPL552rmQSA83HhN48IF/vnHqtpmz1Y+idmsGWFhVtUsSTkhU6HT8fIiPJxu3QDq1VNzAE2GJ0fHGTZssKq24sWZM8e8UF4qkTQnU6Ez8vbmt9/o0oXp01W+Ie/aNbZvNymx8nQh8PLL9O9vfOnlxfLl8lKJpDF5rtB5JSer37GaOZMxY0xK8uTh1i1r7/O7c4c6dbhyBWDOHIKDrapNknJO9grtwKNHNqnWFgeYZkfHQGKieT8xFwoXNgwRHzJE5kFJFzIV6koIpk0jKEjvOLInNpa9exXKrT9GBrp145tvFM4bSpIm5AGyfu7fZ+hQVq7E05PYWPz89A4oK6GhfPihQvmzzyrfKOIQHj9W+Qq75Jhkr1AnZ87QtCkrVwKkprJggd4BZcPTwxWfdvIkFy9qG4pKzp+nfn0HzuOSemQq1MO6dTRpYvINnDsXO++enzrFkSMWt6pyjKy9efM4eZKmTS0O85ZchjxA1pYQfPkl48eTnm6+aetWWrfWIaRsevyYhAQePkQI7twBuH+f1FQSE0lKokoVGjbUO8QcEoKqVTl3DsDNjZEjmTEDLy+9w5L0IVOhhh48YOhQfvtNeeugQSxcqG1Arm3LFtq2NSlp1YplyyhdWqeAJD3JA2StxMTQtKnFPAisWJHF3ASSuubPNy/Zvp1Gjdi1S49oJJ3JVKiJ9etp0oQTJzLbJymJxYu1CsjlPXhguGZl5soVXniBadM0D0jSmUyFNpYxcrBbt2z1+DKZe1VS1/LlPHigvCk1lXHjGDiQhw+1jUnSkzxXaEsPHjBkiKH34etL0aImjyJFjM+LFTM8qVBB76BdwwsvZH2TTM2arFzJs89qEpCkM5kKbSk2lrt3DSkvb169o5H+58IFKlfO1uilAgX45Rd697Z9TJLO1EuFJ0/Kv5+SY7h9m6NHuXePe/e4f59790hIMD7PeJJRcu8eKSmMG8enn+LhoXfckg2plAqFICCAnTtxc1OhNkmyH8nJ3LtH/vzWzr4j2TeVLptcuMDu3WzapE5tkmQ/fHwoUcIB8mBSkr3fsGTfVEqFhw4BzJypTm2SJOXUF1+YTyUp5YRKi38ePgywYYM8YyhJOrhxg2++4f593N355hu9o3FIqvYKheDbb9WpUJKk7Jsyhfv3AcLCeO89vaNxSCpdNvHz49o1gLx5iY2lWDEV6pQkKTvOn6dmTeMyhMDEiUyZol9ADkmNXuHly4Y8CDx6xE8/qVCnJEnZNH68SR4EPvmETz/VKRpHpUYqzDg6fuLbb0lJUaFa3cn7riT79/ffLF+uUD5xIp9/rnk0DswGqfDKFeUb3R3L1avUr8+pU3rHIUmZ+uADhbkvM3z0kbyEkn1qpMKMy8dPs+momgcPSEiw+OtXRWIiPXoQE8Obb8qxWpIKUlKIimLSJD78kLQ01ar96y+Lg3nd3QkMpGtX1dpydmpcNnnmGS5fNi/cs4fnn7e2ZkV799K0KUCBAhQsSKFCFCpkeFK4ML160bGjVfULwYABxlUuf/6Z116zNmbJNZ07R2QkkZFs2sTdu1SqxN69lCihTuVC0Lw5e/aYl7u50bUrU6dSr546DbkIYaX4eAEKj/79ra3ZkpQUUaCAcqMgdu+2tv4PPzSpsFAhceWKGnFLriE+XixfLoKDRfnyJh+kggXF8eNqNrRsmcLnv107ceiQmq24DKtT4bp1yinJ01PExqoRoZJOnZQbrV5dpKdbVfP8+QrV9uunUtyuZNo0cfGi3kFo5eFDsXmzCAkR/v7CzU3hI+TlJSIj1WwxJUXUrGmeBPfvV7MJF2N1Kpw61WIH7cMP1YhQyRdfKLc4bZpV1e7YIXx8lGv+4w+VQncNJ08KLy9Rtaq4elXvUGxvwADh7W3xW5DxmD5d5Ua//95YeUCA+Osvlet3PVZfNlFcELJ4cerVIy7O2soteeEFhUJPTwYNyn2dFy7QqxfJycpbR440jOaXsuPdd0lJISaGjh2df8GW3r3Nh/X9W8mSaraYmMhnnwEEBLBlCzt20KqVmvW7JKtTYalSjBjB55+zYAFbt3L6NImJ3LjBkSPMm6dCgIoaN6ZAAfPCjh0pUyb3dW7enNnF4thYPvoo95W7lMhI1q0zPD96lK5dnXyEZq9e9OiRxT7h4Wq2+NVXlC/P6tXs2MGLL6pZswtz2FmsO3UyX4Y8PJw+fayqMzmZ1auZO5fISIWt7u5ERdG8uVVNOL3UVBo04Phxk8L27YmIwNtbp5hs7+pVatUyLA+tyN2dc+dUW61h926aNVOnKul/HHaZJ7Nj5KJF6d7d2jp9fAgMZPNmDhwgONh8Cv70dN54I+tDIRc3e7Z5HgQ2b+bVV207FFRffn5MnZrZDunp9Oun2ohCmQdtwGFTYevWJi8HDsTHR7XK/f2ZM4crVwgLo2JFY/nx40yfrlorzichgU8+Ud60ZAkjR2objbbeeov69TPbYe9eee+HPXPYA+TUVIoWNV7KOHSIBg1s0lB6Olu2MHMma9ciBD4+HD4s52RUNno0s2ZltoNzz5hy/DgNGpCaanEHHx/27pUjn+2Tw/YKPT2Nhwl16tgqDwLu7rRrx5o1/PMPISHkyyfvxlN27Rrz52exzyefOPNU53XqEBIC4OurvENyMgMGkJSkZVBSNjlsKuSp04XDhmnRXLVqhIZy8SL9+7NzpxYtOpbSpbl1i+PHmT+f4GBq1VJe82vsWH7+WfPgtPLxx0ydyr59FC6svEN0NB9/rG1MUrY47AEysGsXAQF4eXHlimr3dUoqunuX/fvZsYODB9m1i9u3DeUeHvz6q7WX++3Z/v20aGHxCpu7O5s306aNtjFJWXDkVJiSQpEidOjgDHOC6e7OHYsdGVWkpXHqFAcPcvAgO3dy4gR//EGHDlbVGRPD2bPWzr5hC0uXMm0af/9tcYdnnuHoUdu+4VIOOXIqBDp0YORIFYbRuJSEBM6dMzxOnCA6mjNnaNOG33/XLoY7d4iOplmz3C+cnZJCy5acOcPhw5Qvr2pwKomO5pdf+O475ZODAwaweLHmMUmW6Xrbn9V+/FE8fqx3EA4iNVW0bm1xUh/b3TBuI2PHGiJv1UqkpuodjWXJyeKll5Tf8yVL9A5OMnLkyybAa6/h5aV3EA7Cw4PmzS3eSe1Yw4PWrycszPB8+3a7XsfD25s//iAszND/bdjQ2BF++21iY3UMTXqag6dCdwePX2PvvEO+fMqbatXSNhQrxMfz6qsm45k+/ZQ//9QvoGwYPZp58/Dyols3Tp5k0iQqV+bOHQYPduabcByKTCWupFgx5YFHbm7UqJGbCq9ftzKiHEtPZ9Ag4uPNCwcONC67aJ+Cgli3jsOHqVGDyZM5c4aoKGrWdOahRQ7FwS+bSDl1+TJVqpiP86hYkfPnc1PbsmV8+y2jR9OzJ56eqgSYhalTmTBBeVOnTqxbl/vrMNo4fpw6dUxKHj925okqHIfsFbqYcuUUZnXM9YnCfv0oWpS+falQgcmTuXXLyuiysG+fxXucgQ0b+Oor2wZgPbM8CDIP2gmZCl3P+PF4eJiUWHOi8LvvyJ+fuDimTKFsWYKCOHrUygAtio2ladPMThCPH8/evbZqXXJqMhW6nipV6N3bpMSay8flyzNpkuF5cjILF1KvHo0asWBBZhMT5E6fPmzfTmwsYWEEBCgcC6ek0Lev8bYWSco2ea7QJf39Nw0aGC/C7txp1ZS0qak8/zyHDpmX+/kRHMx//kPx4rmvPBOXLrFyJeHh5reE9+7NihU2aVFyXjIVuqquXY3T7t++TZEiVtV24ABNmypPTerjQ9++vPNOFtP5ZWLlSooVo2lTi1NSXrjAH3+wYIExHf/wA2+8kcvmJJckU6Ha9u+ncWO9g8iGPXsMs5z5+amzINeYMZlNwOXmxpYt5hPuZtOAASxdSp48NGxIixa0a0erVspXG06cIDycX3/l4kV278598pVcjzxXqKoLF2jWjHHjVJu63XaaNjUsk6bW4OpPP+WZZyxu/fjjXOZBIH9+gMREdu5k2jTat6doUdq3Z9o0Dh40GaJcuzaTJ3PqFDt2cOiQY08ruWiR3hG4GH3v+3M2Eycabi9t3VrEx+sdTVbWrxcg/vMf1Spcu1b5ZtvAQJGenvtq33knsyWGS5QQgYEiLEwcOKDaf8Qe1Kwpjh7VOwgXInuF6klPN07jvG0bjRqxf7+uAWWlUyf8/dW8+7hLF3r2NC9s3Jh586wa+fzvhV6fduMG4eGMGUOjRpQvz1tv6XAPjC1cvswHH+gdhAuRqVA9kZFcvGh8eekSrVrxyy/6BZQNISEq3338f/9nMg1fxYpERJivHZhTGQfIWfL35+OPmTZN5fXXdfHgAQ8esGGD+Qq3ks3IVKie//7XvCQpidde4403SEnRI6Bs6N2bRo3UrNDPzzhPTMGCrFmjQmLKvFdYvjwhIcTEGJZsLVjQ2ubswdWrhifvvKP+8ExJiUyFKrl9m1WrlDfNnctLL9npBCTu7tntc2Xf22/TrBleXvz2m8J9ZrmgmAoLF2bwYDZv5sIFQkOpUkWFhuzHk6kloqOZN0/PSFyGJrfQu4JFi0hOVt7UpAnffONC84m5uzN7NgcP0q6dOhU+naw9PHjxRQYPpk8fa4+77dmTXiHw0Uf07eskvV075oypUAgdpidRPCfo5cU77/Dppy43v2y9emqu9pvRK6xVi6Aghg6lVCnVarZbT6fC69eZMSOzeSgkNThdV+XgQQYO1LrRQ4c4csS8sE4d9uwhNNTl8qDqatfm+HFOnCAkxCXyIJjPvThjhpzv2tacKxVGRdGmDUuXar1OsdkFEw8PQkI4cICGDTUNw1mVLEnt2noHoa2ne4VAYqLFWRollThRKly3jo4duXcPIDRUu3aTkliyxPiycmW2biU01OINs5KUJbNUCCxaxIEDeoTiKpwlFa5aRa9eJCYaXkZEcPCgRk2vXElCAoCbG8HBHD1Ky5YaNS05q38vTpCeznvv6RGKq3CK6RgWLGDYMPPhV336EB6uRevt2xMZSYUK/Pe/tGmjRYuS0ytZkhs3FMr/+IOXXsplnfHxLF5MSgpeXoaL8nny4OsLULAgHh64u1OoEIC3t2E5MD8/8uTJZXOOxvFT4XffMWqUwo33bm4cParOuLZMXLhgmAl1zhxr57mSpAwpKfj6Kg9ErVGDY8dyfyHuwAH69ycmJls7e3hw5YqrXKdy+APkr75i5EjlCUiE0OKM4fr1rFzJ8uUyD0qquX5dOQ9m9Ob+PVYh+xo1ysEQi9atXScP4vC9wgcPmDGDadNISlLY6uHByZNUq2bDANLSzNcJkSQrHThgnPLSz48WLQgIwN8ff3/VDlcXLGDECB48yGyfuXMZPlyd5hyBg6fCDJcu8dFHLFqk0D18/XV+/FGPmCQHFxdHaCjPPEO5cjzzDOXLU6aMRgucHj/O6tU0aUKjRiZzW6jrn3945RWLfUxPT+LiKFHCVq3bH6dIhRn27WPsWHbtMin08uL0aSpW1CckyXE9fkzBgiY3U3p4ULo05ctTrhy9evHKK/oFp5LkZD74gG+/VehDdOzIhg16xKQbBz9X+LQmTdixg+XLTRJfSgozZugWkuS4vL3Npy9LS+PKFXbvJjzcSU6i+fgwcyarVlGsmPmmfv30CEhPTpQKATc3AgOJjiY01Hj7+k8/qbN2h+RqGjRQLn/uudwvTpALP//M6dM2rP+llzhxgg4djCVeXrz8sg1btEvOlQoz5MlDSAhnzzJqFB4eJCfz9dd6xyQ5IEup8N13NZ3v48MPqVEDPz/69mXuXC5dUr+JUqXYsIGwMMMwnY4dKVpU/VbsmxOdK1QUHc1777F9O+fPu9Q5YEkFu3YREGBeWLIkFy8aRiZro3Jlzp83L2nXzvBQdxTX3r0MGMCUKQwapGa1jsDZU2GG1atJSGDIEL3jkBzKw4cULGg+xO+TT7SeGaFuXY4dU97k4UH9+oac2KKFOgk6IcF4O4orcY1UKEm5U7Mm//xjfOnjw8WLWl8zad6c3buz3i1vXlq2pHt3goPlvHC54IznCiVJLWanC4OCdLh2nHE7cObc3WnQgF69CAqSeTB3nHEWa0lSS4MG/Pqr8eV//qNDDJmnwlq1CAxkyBAqVdIqIOckU6GUQ6mpXLzobMsqWfJ0r7BjR+rW1SEGxdN2fn4EBhIYSIsWmgfknGQqlHLi8GE6daJoUcaPp25dnn0Wb2+9Y7Klp+chHztWnxieToW+vnTvzuDBdO6s0V2ALkO+m3D0qD5/7R3Lo0d88gkzZpCWxvXrBAUBeHpSvTq1a1OrFv7+1K5N5cp6B6qqYsUoV47Ll6lRw2QQspby5cPdnWbNCAqif/8sVoWWcsvlryBHR1OvHh99xMSJLrQ+Z06tXcvbb2e90lDXrkREaBKQhl56iTVr9Jym5cgRSpYkLY1Bgwy3A2b81Xn2WWde/lRzLp8Kx41j2jSAbt1YsEBOO2ju2jU++ICFC7Pe082Ngwct3qHhuCZNYvZsLl7Ufz7n+HjateP4ccNLDw8qVKBWLUOvXCZH67h2KkxPp2JF451M5cuzfDnPP69rTPbkhx8YN467d7O1c79+JhdbncaqVRw6ZC/LEMfH0769xRHXnp5UqUKdOtSqRd269OmjbXCOzbVT4ZYttG1rUuLjw7RpjB6tU0B25uefeestUlKy3tPDg2PHePZZ28ekucuX8fDAz0/vOP4nIYGOHdm/P4vdBg5k0SJNAnISrn127N/HfcnJjBnDoEFZTPDrIoYNY/36bM0eOnSoc+ZBoFw5O8qDQJEibNpE06aZ7ePhwccfaxWQk3DhXmFiIn5+Fo/+atRgxQqbrxLlEM6coVu3zOaJ8vbm1Ck5xFdTDx7QvTvbtilvDQpi/nxN43F8LtwrXLUqs7Ng//xDkyb8978aBmSvqlVj1y5atbK4w1tvyTyotfz5iYhQXmzWw4Px4zUPyOE5USqMjTWfyyhzWV4VTUxk2DCCgowrzbusYsXYtInBgxU25cvHhx9qHpAE+fKxZg3t25uXBwVRo4YeATk2J0qFZcvStSuTJ5usR2HJrVtERWWr2oULadUqZ0nWKfn4MH8+oaHms5aOHesks9s7orx5WbPGZJF4Ly95ljB3nOtc4bRpjBtH9ep8/735pWFFQnDnDg8fkpjIvXvcv09iIg8ecPcuiYk8ekRCAomJJCbi5sYnn8jvPEB4OAMHGi4r+/hw9aocjKmDe/d49IjSpQEeP+aVV/j9d5BLPOaec6XChASeeYaHD3FzY9AgvvpKzlxtE59+ysSJACVKcP263tG4nkeP6NKFFSsoXtxQkpbGkCEsX84//8jztrnjRAfIQJEihvNZQrBwITVqMHOm+SzEkvUyzk95enLjhk2W2pAykZhIt26cOmXMg4CHB/PmsWSJzIO55lypEBg71ngrcUICY8bQujUnTugak9OpUAEgNJQuXYiM1DsaV/L4MX36sHUrtWubb/L0lLeXWMPpUmH16ubX1KKiaNCA0aPlqGnVlC5NzZr85z+sWkW5cnpH4zIeP6Z3b9atAxRSoWQdp0uFoHDbXEoKs2ZRrx7r1+sRkNNxc+Onn/DxwctLYTCHZAspKfTta5z4xxVS4Y4dvPQSCQnatOaMqbBTJ+WbwM6do0sXuneXp7dU8O9VMSXbSUsjKIg//jCWOHcq3LGD7t1p2ZI1a0yW2bIlZ0yFbm6ZrUGxdi0rVmgYjSRZJz2doUPNZ/2pVUunaGxsxw7at6dlS2P/Nzpam5adMRUCQ4dStKhCubc3CxboNjO7JOWUELz1lvkcM35+yh9vh7ZjB+3a0bKl+YW4kye1ad/xU+HFiwpnE/LmZdgw88KMKT0GDdImLkmylhCMGMHcueblTnZ0/CQJ/vmnwlatUqHjr21y+zatWhEbS5Ei+PlRpIjhkT8/7u7GQYXPPMPatTz3nK6xSlJOfPABs2crlDtNKtyxg0mT2LIls320SoVOcbdJXBw9e7JvX9Z7FirEiBF89pntY5Ik6zxZauLfdFxoRS3ZSYIZ3N25f1+DhQoc/wAZKFOG7dsZOjTrPe/epVs3m8cjSVaKicns4p6jXzMJD+fzz7l0CS+vrHdOT9fmIrJT9AqfmDuXESNITbW4w3PPcfSohgFJUm6lp/Pbb4wfT0yM+abbt51kCozUVGJjOXfO+DhxgtOnzb/CS5bQv7+tY3GuVAhs3Mgrr3DnjvLW775jxAhtA5IkK6SksHQpn3zC2bOGkrJluXxZ15hsLCWF8+c5c4bTp4mJ4cwZXn5Zg6+t06VCMLx3/z7bmjcvV65ka6UOSbIrGQlxyhTOnaNDBzZu1DsgJ+QU5wrNVKvGnj10725e3r+/zIOSQ/LyIiiI6GhmzcrWRJxSzjljrzBDWhoffWRyDW7fPho31i8gSSvh4TRvTtmyeschORJn7BVm8PAgNJQlS8iTB6BePZkHXUWFClSqRPv2rFmDs/6ldyAJCRw7ptmsCrnmvL3CJw4dokcPPv6Y4GC9Q8mh+Hh27aJnT73jcEBjxxIWBlC1Kq+/zrBhJhOdSlq6eJGKFQF8fSlThsqV8fMzeVKtGgUL6hykS6RC4MoVChUif36948i5zp25c4evv6ZZM71DcSiPHlG3rvGqq48PL71EcDDt2ukalqsqVozbtzPboXhxnnmGcuWoUIEqVRg2jAIFtArOwHkPkJ9WtqxD5kFg4kT27CEggL59uXDB5s09fkx4OO++a1jFyXHlzcuPPxoX50tOJjyc9u3x92fuXB4+1DU411O/fhY73LzJ4cNERBAfT7du2udBXCUVOq5mzWjdGiEID6d2bcaN4/59mzQUE8O4cTzzDAMG0L9/tm4DsHMvvsirr5oXHjrEG29QpgxvvMHx43qE5ZIaNMh6n3btOHCA5cupWtX2ASkRkp2LjBRgfJQpI+bMEamp6lSenCyWLxft2gk3N0P9H32kTs324PZt4edn8u49/XBzE23aiKNH9Y7SBSxaZPG3AKJJE/Hnn3qHKFzjXKGja9mSHTtMSmrVYsYMOnfOfZ1nzvDzz/zyi8nqnc8+y6FD+Prmvlp7Y7ZiupmGDYmK0uBWf1d34gR16iiU16jBp5/Sp4/xVIaO9M7FUjasXav857Rduxx3av7dDXzy8PAQ+/bZ5j+gq969ld89Pz9x6ZLewbmG1FSRN6/Jm1+2rJgzR6Sk6B2ZkewVOogmTdi/X6Hcw4OGDVm7lhIlsqghoxv43XcWLxqMG8cXX1gbpx26do3atc2vYPr68tdfNGmiU0yu5/nnDdPoFSlCSAijRhkG/NoNmQodxKpVmQ0wLF6cc+cyu+4WG0vt2pktf+rhQfXqlC1rPuYr419H98svvPaa8aWbG4sXazDZiWT05pv88gtDhzJ1atZ/tvUgU6GDEIJ69Th2THmrpycbNmRxd+rKlfTpk7O7L9q148svs3X5z/517MimTYbnkyYxebKewbigAwfw87PnuyFlKnQcv/6aWUemUCGiorJYseDjj7M7g3etWkyb5lTT3F68SJ06PHhAr16Eh+Muh5FJJmQqdBxpadSundmMvhUrsns3pUtb3EEI+vbNYu3TcuWYMIFhw/DwyH2o9iksjPnz2bGDfPn0DkWyOzIVOpT587NYt8Dfn7/+yuyrfv8+ZcoonzTMn5933yUkxN7OZ6smPZ0bNyhVSu84JHskDxMcyqBBhrH4lo7vDh6kX7/MljQoUEBh+VMvL4KDOXuWyZOdNg8C7u4yD0qWyFToUDw8eP99Chc2Lmr6b2vXZjH7eZs2Ji+7dSM6mjlzKFlSnSAlyQHJVOhounWjR48s7tOcO5evvrK41d/f8KRWLaKiWLNGt7s+JcluyHOFDuvaNaKiiIwkMpJz58y3urmxaBEDBij8oBC0bMkH6BwRNAAAGLNJREFUH2R2R5okuRi7TIXp6Vy+TPnyesfhOOLi2LmTyEg2bTLO5eXrS2QkAQF6BiZJDsL+UuHjx7z6KjduGAfESjly7hw7drBzJxs28PAhu3ZRvbreMUmSvbOzVPjwIX36sGEDwMGDNGyod0AO7tQpLl+WUzdLUpbsKRXGx9O1KwcPGl7278+SJboGJLmMP//k8WOrJj2THJzdXEE+f55WrYx5EFi+3Lg2hSTZ1K+/0qUL3btz+bLeoUj6sI9UeOwYLVpw+rRJYVoas2bpFJDkYv78EyAigjp1mDkzs2GbkpOygwPkLVvo2ZN79xQ25c3LxYty2UbJts6eNR9ZGRDAnDnUrq1TQJIO9O4V/vYbXbsq50Hg0SNmz9Y2IMn1ZHQJn7ZzJw0aMHq0XBvPdWQvFcbF8fix+o3PmkXfviQlZbbPd9+RmKh+05L0xL9TIZCSwqxZ1K2b9aAuIbL4DEuOIHupcOpUAgLUXIdXCD74gNGjszgpU6AApUuzd69q7UoSkJhonLFCCLZutbjnuXN07EjfviaLYZn5738ZPFieXrQjMTG5WNk1G+cKHz+mTBlu3aJ4cRYvpkOHXMb3RGoqb77Jzz8bS7y9KVeOypUNjydzyleqZBdLYUnOJC6Onj0ZN86wQMKRI9maprtIEUJDGT7c/AN56xbPPsuNG7z3HtOn2yRgKTvi49m+nchINm/G15edOylSJGc1ZL0SVHi4ydKxISEiLS3360qlp4svvhBDh4opU8SCBSIqSly+LNLTc1+hJGXf7t2GlZE7djSUTJ+e2RK9Zo+WLUV0tEmFr75q3Dprlvb/IZd2757YvFmEhAh/f+MKjsWLizNnclFZNnqF3bsTEWFS0rUrCxfmOOlKkr6WLmXYMMOpZzc3Tp+malWGDycqivz5KViQPHnIl49ChciTh7x5KVyYPHnIk4ciRQxPChemcGGqVDFUuGMHrVoZl4vx8GDFCnr00Od/5yIePWLXLsMsJIcPm5+XyJOHP/+kWbNcVJxVKrx+nXLlSEkxLy9fnvBwuXai5BjS0vjoI6ZNMym0crHT1FQaNeLvv00K8+Rh61aefz731UqKzp5lwQK2bGHvXoV0lMHdnfBwevXKXQtZXTZZvFi54dhYXniBuXNz16okaef+fXr2NM+DwM8/k5yc+2q/+so8DwKJifTowcWLua9WUpQvH7NmsWOHxTwIfPllrvMgWafC+fMtbkpK4o03CAri0aNcN28Tx4+zfbveQUj2ISaG559nzRqFTTdu8Mcfuaw2NpapU5U3XbtG584kJOSyZklR6dJZLNb4+uu8+65VTWR2IvHw4WydS65fX8TE5Oq0p208fiyKFROhoXrHIeltwwZRuHBmH902bXJZ80svZfGlaNVKJCWp+p9xeWlpolkz5Xe7UyeRkmJl9Zn2CjPpEj7tyBEaNmTlSqtSsoq8vGjdmnHjCA62ychwySHMnUu3bty5k9k+W7ea3/meHYmJNG1K+/bkzWtxn+3bGT4c3e9qdSbu7syZg5eXeXnt2vz6K56eVlaf1WWTu3d58ID793nwgDt3uHePBw8MJQkJxk337nHvHiNHKqympouff+b11wGaN+e33zJbGlhyPsnJvPkm8+Zla+d332XGjFw2lJrK338brmbu2KFwz8nEiUyZksvKJUXvv2/y+/LzY88eVWa8t4PpGGzh6lXKljX8TS5blt9/p3FjvWOSNHH1Kr16sWeP4aWvL0WKUKYMfn4UKWJ4/Pul9Z5Oi1FRxgsys2fz5psq1C9lePSIOnU4fx4gb162blVrHIuTpkLA359DhwzPfX354QeGDNE1IEkTGRcZixeneHFKlLD+uCk3Hj3i0CHDajO7d7NypQr3aElPrF9Ply54ePDbb7z8slq1Om8qnDDB/BrfqFF8/TUeHjoFJLmk+/c5elQutqWy3r1p3ZqRI1Ws0nlT4e7dNG9uXtixI0uXyvtkJMmxPXxIvnzqVum8qTAtjdKluXnTvLxqVf74g1q19IhJckkrV3LmjOG5uzuFCpnvYFZYrlzubh2TrOG8qRAYNIjFixXKCxRgwQJ5r6hTiYvjn384fZr79xk5Eh8fvQN6SmIi48blYHWK6dN57z1bBiQpcOpUuGQJAwcqb3J3JyJCrnDmkJKTiYkhOppz5zh3jhMnOHbMMBF6hQps3ky1anqHqGTVKoYPVzhM+beYGOOMD5JWnDoV3r5NyZKkpZmXFyrEl18qzD0n2aG7d9m1i1OnOH3a8LC0KF3NmmzeTLly2saXE/HxDBvG2rWZ7dOggXHkg6QhPYYaaKZoUZ5/nl27TAo7d2buXLv+wkhmBgzI4qYRoEEDNm6kRAlNAsqtUqVYs4Yff2TsWIt37lsxoYBkDb2XebK1pw+BCxdmzhzWrZN50JEUKsSIEVns06QJkZH2ngczuLkRHMz+/dSvr7xD797aBiQZOPUBMnD4MA0bAnTpwty5lC2rd0BSzt26RaVK3L+vvPXFF/njDwoU0DYmqyUnM2kS06ebTD5aowanTukXk0tz9l5h/frUrs2cOaxdK/OgoypWzOK9a927s26d4+VBwMeH0FA2bTL5WAYG6heQq3P2XiGQkqIwm4XkWOLjqVzZ/PzagAHMn6/PrXUqunOHt99m6VKAQ4eyteaUZAPO3isEmQedQalShqmGnnjrLRYudPg8CBQuzJIlzJ/Pc89ZPIEo2Z4L9Aol53D5MlWrGmZ8CQkhNFTvgNSWlISvr95BuC4X6BVKzqFcOYYOBZgyxeHz4OjRzJ5tGBb+hMyDupK9QiknkpOJiqJdO31av3CBjRt54w19WlfRc89x/Di+vnTvTnCwbu+n9BSZCqVsS0ujf38iIzlzhmLF9I7GkZUpw9WrxpfPPsuQIQwfTtGi+sXk6mQqlLJHCIKD+ekngFGjmDlT74AcmY+Pwqo7spOoK5kKpex5ek0JT0+OHKF2bV0Dclj37inM0/W0jE7i66/LrreW5GUTKRs+/dRkbZ3UVEJC9IvGwWU5Oc3Jk4wbR7ly9O1LZKQmMUkyFUpZ+v57Jk40L1y7lo0b9YjG8d26la3dkpI4fJiFC9m508YBSZCzmWliYoiLI18+ChbE15f8+cmfXw5gdnKLF1tcQWLsWI4edYZBzhrLpFfo6Um9egQE4O9P69aqrGkpZVNOPse7dxMUZF7o4UHBguTNy7Jltl3L5sYNDh2iY0cbNiGZWbOGV181mS/gaSdPMncub7+tbUw5lJJCZCQJCQwYoHco/2OWCgsWpEkTAgJo0YKAAPLkUf6p1FT5V8emcnLZJC6OcuVQ3L9kSS5ftmEPcds2Bg2iZEk5q6V2tm2jc2eFZc6fVrQoZ87Y4xCQtDR27yY8nF9/xc2Nw4fx89M7pv8JC+PLLw2Jr0ULGjTAPdPzVKmpfPUV0dHMn69ViK4oh1eQa9cmOlqhfPRowsLUislEaipTpzJ1qmEy6pMnqVnTJg1JTztwgLZtzW+HeKJMGZo2NTyaNLGjhUSSk9m0iYgIfv+dGzcA3N3ZuNG+hqekpeVgBdqjRxk2jAMHKFKE69dlx9B2cvjOtmunnAotLSFipUuXGDiQqChjSXg4EybYpC3piTNn6NbNJA96eVG3ruEclr+/3Q2jSUpi82bCw1m9mrt3TTZ98ol95UHIbh5MSeHrr5k40TACMSGBffsU1rOV1CJyZPVqAeaPatVyVkk2/f67KFrUvK2aNW3SlvREbKyoUEGA8PMTgYEiLExERYmkJL3DUpKYKFavFoMHi4IFFT6WINq0EampekeZK7t3i1q1zP87EyboHZYzy2EqvHdPeHmZ/4Y++UTloBITxahRyh9uEMeOqdyc9LQFC0REhLhxQ+84sjJ2rMif3+KHBETZsuL6db2jzLlHj0RIiPDwUPgfNWqkd3DOLIfjCgsUoEkTkxI3N5WPjk+domnTzBaNXbZMzeYkM4MH07UrxYvrHUdWXn7Z4kpJgKcnS5c6xmonZqZMYdo0hWUagUOHuH5d84BcRc6HWJudeQkIoHJltaJhwQIaNeLvvzPbJ2O+X8nFvfAC775rcevUqbRsqWE06vniC0JDla8pp6fLYe22k/NU2LatyUu1uoT37jFwIEOG8PBhFnuePSuH1EgAn31mfoySoXNn3n9f82hU4uZGSAirV1OwoMLWDRs0D8hV5Hw6htRUihUzXF709iYuToWbxvfupX9/zp9X3urubrh9PU8ew/SWH3zgDJPWSdaLiaFhQ5PF8MqV4/BhBzjAz9KxY7z8svmXonhxrl3LwVgcZ7VtG5s389lnKlaZq5lpunVj7VqAHj34/XdrQxCC3bsNY9MKFMDTE09Pwxpm+fLh7W1t/ZJz++knhg83PPf0ZNs22971pKVbtwgMZOv/t3fnMVGdexjHvyAo7lBTcKEopqUtKuK+UnJD6eIaiysuNdW6xaBJtaCNkdqkoq1p1UQDSbUquNGoFY2xoKRFwOKCiqjRxKpUFo2Nigs6LPePzoULnhmGYWbeWX6fv2bec8Sn1Ty+Z3tPZr3B06cZMkRRIPtw+TJhYTx5wrlzhIRY6qeatRxD7enCGTMsEMHNjeHD9TesBQXRsycBAfj44OMjPSgaN3cuU6boPyckOE8PAp068dtvLF5cb9DFj5H//ptRo3j4kMpKFi/WfvjNLGbNCi9fpk8fOnakpMTgI5NC2MzDh4SG0rs3aWm4ualOYwVJSSxejE4HMGQIp0+rDqTIo0eEhVFQUDeSkmKpp8vNqsKaGrp1Y8wYkpIsEkKI5jp9mqAge3wa2lKysoiK4v593N0pLXXI+4SaqaKCyEhOnao32Lkz1641shSuacw6QHZzIyLCWg/bCWGGoUOduQeBsDByc+nVi+pqV1zPtbqamTMb9iBQWsqaNRb5Hcxd0D8zk/DwRlbUEEJYVnk5M2fSoQM7d6qOYltLlxp8nY6HB2fP0rdvM38Hc7vsP/+RHhTC1tq358AB+va14OUCB3DzJseOGdxaWUlMTPP/h8hrnoQQdq+6mpMn2biRI0e0d9i1q5k3tEgVCsvJyKB/fyc/ZyfUys/nhx/Ys4fKynrjfn5cu4a3t9k/WA5yheV88w0BAcyfz40bqqMIJ9WvHzt3cuMGsbH1iq+sjK+/bs4PllmhsJyAAIqKANzdGTWKVau0nxEWwiLKy9m2jQ0b9H/rWrTg3Dmzr59IFQoL0elo3brh6lIjRhAby5gxznnns7AHOh2HDvH99+TlMWIEWVnm/WWTA2RhIXfuaKyyl53NuHGEhrJzp/5hCSEsy9OTSZP480+ysvDxITnZvB8js0JhIRkZREYa26F7dxYuZMECizwbIIS2sjL8/Mz4dTIrFBZiaI21WrdvExdHQABLlnD3rk0yCddjVg8iVSgs5tYtk3Z7/pyTJ1m1ijt3rJtHiKaQ16oKCzE0K/TxIThY/8rQfz84ympGDx5YYFli4SCkCoWF/FuF7dsTFERwsL74Bg82+4BFvdxcVqwgKoroaIKCVKcR1iWXTYSFnDxJjx4EBjrVfTO1qwAEBzNpEtOn89ZbqjMJq5AqFMIwnY7wcHJz60akE52UVKEQRt25Q79+/PNPw3HpROciVShEY44cYdw4g8tASSc6BalCIUywZAmbNhnbYexYDh+2VRpheVKFQpjg1ZOG/8/Pj4sXHfhauZBbrIUwiacne/dqL8Xo7k5ysvSgo5MqFMI0AQH8/LPGrULLl9e9GVw4LDlAFqIpYmLYvLnu64AB5OTQsqW6QMIypAoBKCykVy/VIYQj0Ol47z39S9nbtePcOXkQxTm4/AFyWRkTJ5KdrTqHcBCeniQn69cZ27JFetBpuPasMDWVRYuoqKC4mPbtVacRjuOXX0hNZd8+1TkcRFUVV66Qm0tuLjqd2aurWpWrLsdQUsKiRRw6BLBggfSgaJqJExk/XnUI+1ZezsWLZGdz6hQ5OXWP64wdqzSWQS5ZhampLFhQ92fz+edK0wjH5OmpOoEdmzmTlBTt53Nef93maUziYucKb93igw+YPLmuB4cMoX9/pZmEcDqLFhnc5OtrwxxN4DJVWFNDUhIhIaSn1xufP19RICGc17BhTJ2qvUlmhSrdvElEBPPnU15eb7xjRyZPVpRJCKe2fj1t22qMy6xQjepq/WQwM1Nj66xZ2n9aQohm8vdn2TKNcXudFTr1zTQvXxIZyR9/GNyhoIDevW0YSAhX8vw5777L7dv1Bs+fp18/RYGMcepZYcuWfPutwefkR46UHnQ5RUUcP646hMto3Zq1axsO2uus0KmrEBgxgrNnGThQY5NcMHERz56RkUFcHAMH8s47+PioDuRKpk4lLKzeiL1WoVMfINeqqGDuXFJS6ka8vbl7lzZt1GUS1lRdTX4+GRlkZJCVxYsXAG5u7NnDlCmqw7mYffuYNk1/j2HHjjx8qDqQNte4xdrLi1276NOHlSuprgb47DPpQb2MDNq0Yfhw1TksoaSE9HSOHOHECY23kaxdKz2oQHZ23b3W9jolxFVmhbWOHiU6msePKSwkOFh1GtUqKoiP57vvmDOHpCTVacyl03H0KOnppKdz44bB3WbPZvt2G8YSALx8ib8/9+/rvw4aRF6e0kAGuVgVApcu8eOPbNumOodqhYXMmMGFCwC+vhQX06KF6kxmqanh/fc5edLYPiNHkpFBq1a2yiT+58ABoqLqvnp5ceKEfR6COPtlk1eFhLh6D9bUsHEjAwboexC4d8+Blylzc2PrVry8DO4QGMiBA9KDauzYUe9rRQXh4axbpyiNMa5XhS6uqIiICJYu1V9JqHXwoKJAlhAUxFdfaW/q0IHDh+35FJUzu3ePY8caDlZWEhdHdDRPn6rIZJBUoStJTSU0VPvBm4MHDb7n1yHExREa2nCwRQt275a7R5VJSUGn0960dy8//WTbNI2QKnQNjx4xa1a9JXkauH2b8+dtm8miPDxITGx4unPTJkaPVhRIvHJ0XKtzZ9LSiImxbZpGSBW6gJwc+vdn165GdnPoY2Rg8OB6a0PFxBhbKkpYW34+Fy9qjE+axOXLdvhPlFShU9PpiI8nLIybNxvf2dGrEFi7lsBAgA8/ZMMG1Wlc26tTwo4dSUxk/346dVIRqBGudzON6ygtZeFCLl2qG3Fzw9vb2C9JS6NLF2vnsq5jx/jiC3JyGvkvFVal09GtW93thEBEBNu388Yb6jI1QqpQOJ2HD6UHFTt0iAkT9J+9vIiPZ/ly3O36GNQ1HrwTLkV6ULnao+M+fUhOJiREaRqTyKxQWF9NDW5uqkMIW3nwgK5dqapi2TLWrKFlS9WBTGLXU1Y7dfw4RUWqQziOx4+JiuLKFdU5hK3s2kXXrmRmkpDgKD2IHCA3WWEh06ZRUqI6h4O4do1PPuHqVd58k/XrVacRNtGqFQUFtGunOkfTyAFyUxQXM3QoL15QVqY6iiP49VdmzeLxYwA/P4qK5N3Bwm7JAbLJyssZPZqiIvz9VUexe1VVxMUxYYK+B4GyMo4eVZpJCGOkCk1TVcX06fqlXKQKjXvwgI8/Zt26hg81O/eCQImJxMVx/brqHMJMUoWmiYkhLU3/WarQiPx8Bg0iPV1j07FjFBfbPJCtzJnD77/z9tv06sW6dZSWqg4kmkaq0AQJCWzZUve1Wzd1Ueze+fPcu6e9qbKy8eegHZeHBykpdOjAlSvExeHvT2QkO3fy5InqZMIkUoWNSU1tuBaezAqNmDOHggLCw7W3btvm2EuBGdezJxs36j9XVZGRwaef4uvL5MmkpRlcrkrYB6lCo/LymD1b/2aoWlKFxgUGkplJYqLGi7SuX3fg5bJNMXs206bVG3n+nNRUxo2jSxfmz+fUKWf+x8CRSRUadvMmY8fy7FnDcanCRrm5MW8eZ85ovIHauS+eAFu20L27xviDByQlERZGcDBbt9o8lmiEVKEB/14G1TztJecKTRQcTG5uw0cO9u+nvFxdJuvz9iY52dg7s65f168kJuyJVKGWigrGj9e+MeK112jb1uaBHJaHB7GxnDlTt9r+06fs3680k/WNHMmKFQa3rlzJRx/ZMI0wiVShlk2bDJ7S6trVtlGcQkgIubnExurnSk5/jAysXs2wYRrj4eHEx9s6jDCBVKGWL7/k/HnmzdN4paQdrz1p17y8SEggK4ugIHJyuHpVdSAr8/AgOZkOHeoN+vqye7ejvm/a2UkVGtCvH4mJ3LpFQkK9maBcM2mOYcO4cIHYWIMvAHImPXuyeXPdV3d3kpPlqMJuSRUa5edHbCx//cWOHfTtC3LNpNlatyYhoeEdJ85q1iyio/WfV68mMlJpGmGMrEzTFJmZtGrF8OGqcwjH8egRoaEEBpKeLofG9kyqUAgry8ujRw98fVXnEMZIFQohhJwrFEIIqUIhhECqUAghkCoUQgikCoUQAqlCIYRAqlAIIZAqFEIIpAqFEAL4LzYfSiAVFvtjAAAAAElFTkSuQmCC'></img>"
             }
            },
            "systemjs_options": null
           },
           "nodeType": "Scope",
           "props": {},
           "type": "node"
          },
          {
           "children": [
            {
             "children": [
              {
               "children": [],
               "instanceArgs": {
                "namespace": "html",
                "tag": "div"
               },
               "nodeType": "DOM",
               "props": {
                "id": "container"
               },
               "type": "node"
              }
             ],
             "instanceArgs": {
              "handlers": {
               "value": [
                "(function (txt){return this.k.render(txt,this.container)})"
               ]
              },
              "id": "13150075900387468345",
              "imports": {
               "data": [
                {
                 "name": null,
                 "type": "js",
                 "url": "/assetserver/dd22ed1bf1896c2748f3fe616ce0b838adc895c1-katex.min.js"
                },
                {
                 "name": null,
                 "type": "css",
                 "url": "/assetserver/46517a424aa5e6cffc1360d7e0848b601c584ee3-katex.min.css"
                }
               ],
               "type": "async_block"
              },
              "mount_callbacks": [
               "function () {\n    var handler = ((function (k){this.k=k; this.container=this.dom.querySelector(\"#container\"); return k.render(\"\\\\;\\\\;\",this.container)}));\n    (WebIO.importBlock({\"data\":[{\"name\":null,\"type\":\"js\",\"url\":\"/assetserver/dd22ed1bf1896c2748f3fe616ce0b838adc895c1-katex.min.js\"},{\"name\":null,\"type\":\"css\",\"url\":\"/assetserver/46517a424aa5e6cffc1360d7e0848b601c584ee3-katex.min.css\"}],\"type\":\"async_block\"})).then((imports) => handler.apply(this, imports));\n}\n"
              ],
              "observables": {
               "value": {
                "id": "5659829449993221217",
                "sync": false,
                "value": "\\;\\;"
               }
              },
              "systemjs_options": null
             },
             "nodeType": "Scope",
             "props": {},
             "type": "node"
            }
           ],
           "instanceArgs": {
            "namespace": "html",
            "tag": "div"
           },
           "nodeType": "DOM",
           "props": {
            "className": "interact-widget"
           },
           "type": "node"
          },
          {
           "children": [],
           "instanceArgs": {
            "namespace": "html",
            "tag": "div"
           },
           "nodeType": "DOM",
           "props": {
            "style": {
             "display": "flex",
             "flex-direction": "column"
            }
           },
           "type": "node"
          }
         ],
         "instanceArgs": {
          "namespace": "html",
          "tag": "div"
         },
         "nodeType": "DOM",
         "props": {
          "style": {
           "display": "flex",
           "flex-direction": "row"
          }
         },
         "type": "node"
        }
       ],
       "instanceArgs": {
        "namespace": "html",
        "tag": "div"
       },
       "nodeType": "DOM",
       "props": {
        "style": {
         "display": "flex",
         "flex-direction": "column"
        }
       },
       "type": "node"
      },
      "text/html": [
       "<div\n",
       "    class=\"webio-mountpoint\"\n",
       "    data-webio-mountpoint=\"7726490958584259407\"\n",
       ">\n",
       "    <script>\n",
       "    (function(){\n",
       "    // Some integrations (namely, IJulia/Jupyter) use an alternate render pathway than\n",
       "    // just putting the html on the page. If WebIO isn't defined, then it's pretty likely\n",
       "    // that we're in one of those situations and the integration just isn't installed\n",
       "    // correctly.\n",
       "    if (typeof window.WebIO === \"undefined\") {\n",
       "        document\n",
       "            .querySelector('[data-webio-mountpoint=\"7726490958584259407\"]')\n",
       "            .innerHTML = (\n",
       "                '<div style=\"padding: 1em; background-color: #f8d6da; border: 1px solid #f5c6cb; font-weight: bold;\">' +\n",
       "                '<p><strong>WebIO not detected.</strong></p>' +\n",
       "                '<p>Please read ' +\n",
       "                '<a href=\"https://juliagizmos.github.io/WebIO.jl/latest/troubleshooting/not-detected/\" target=\"_blank\">the troubleshooting guide</a> ' +\n",
       "                'for more information on how to resolve this issue.</p>' +\n",
       "                '<p><a href=\"https://juliagizmos.github.io/WebIO.jl/latest/troubleshooting/not-detected/\" target=\"_blank\">https://juliagizmos.github.io/WebIO.jl/latest/troubleshooting/not-detected/</a></p>' +\n",
       "                '</div>'\n",
       "            );\n",
       "        return;\n",
       "    }\n",
       "    WebIO.mount(\n",
       "        document.querySelector('[data-webio-mountpoint=\"7726490958584259407\"]'),\n",
       "        {\"props\":{\"style\":{\"display\":\"flex\",\"flex-direction\":\"column\"}},\"nodeType\":\"DOM\",\"type\":\"node\",\"instanceArgs\":{\"namespace\":\"html\",\"tag\":\"div\"},\"children\":[{\"props\":{\"style\":{\"display\":\"flex\",\"flex-direction\":\"row\"}},\"nodeType\":\"DOM\",\"type\":\"node\",\"instanceArgs\":{\"namespace\":\"html\",\"tag\":\"div\"},\"children\":[{\"props\":{\"style\":{\"display\":\"flex\",\"flex-direction\":\"column\"}},\"nodeType\":\"DOM\",\"type\":\"node\",\"instanceArgs\":{\"namespace\":\"html\",\"tag\":\"div\"},\"children\":[{\"props\":{\"className\":\"field interact-widget\"},\"nodeType\":\"DOM\",\"type\":\"node\",\"instanceArgs\":{\"namespace\":\"html\",\"tag\":\"div\"},\"children\":[{\"props\":{},\"nodeType\":\"Scope\",\"type\":\"node\",\"instanceArgs\":{\"imports\":{\"data\":[{\"name\":\"knockout\",\"type\":\"js\",\"url\":\"\\/assetserver\\/727383f2a47bd31570b7da84eee7b022dd6d7c78-knockout.js\"},{\"name\":\"knockout_punches\",\"type\":\"js\",\"url\":\"\\/assetserver\\/382b41b3b1bd9f26f75861d360bad7f8beea211f-knockout_punches.js\"},{\"name\":null,\"type\":\"js\",\"url\":\"\\/assetserver\\/5ab20f1060420992a9b82a65b735dee4d81ef413-all.js\"},{\"name\":null,\"type\":\"css\",\"url\":\"\\/assetserver\\/1cc0ed62837210b80a182cc3676512f895dab686-style.css\"},{\"name\":null,\"type\":\"css\",\"url\":\"\\/assetserver\\/2eee816f616df3549d7044d45e744fbf8d42bfa1-bulma_confined.min.css\"}],\"type\":\"async_block\"},\"id\":\"1000217918103658503\",\"handlers\":{\"changes\":[\"(function (val){return (val!=this.model[\\\"changes\\\"]()) ? (this.valueFromJulia[\\\"changes\\\"]=true, this.model[\\\"changes\\\"](val)) : undefined})\"],\"index\":[\"(function (val){return (val!=this.model[\\\"index\\\"]()) ? (this.valueFromJulia[\\\"index\\\"]=true, this.model[\\\"index\\\"](val)) : undefined})\"]},\"systemjs_options\":null,\"mount_callbacks\":[\"function () {\\n    var handler = (function (ko, koPunches) {\\n    ko.punches.enableAll();\\n    ko.bindingHandlers.numericValue = {\\n        init: function(element, valueAccessor, allBindings, data, context) {\\n            var stringified = ko.observable(ko.unwrap(valueAccessor()));\\n            stringified.subscribe(function(value) {\\n                var val = parseFloat(value);\\n                if (!isNaN(val)) {\\n                    valueAccessor()(val);\\n                }\\n            });\\n            valueAccessor().subscribe(function(value) {\\n                var str = JSON.stringify(value);\\n                if ((str == \\\"0\\\") && ([\\\"-0\\\", \\\"-0.\\\"].indexOf(stringified()) >= 0))\\n                     return;\\n                 if ([\\\"null\\\", \\\"\\\"].indexOf(str) >= 0)\\n                     return;\\n                stringified(str);\\n            });\\n            ko.applyBindingsToNode(\\n                element,\\n                {\\n                    value: stringified,\\n                    valueUpdate: allBindings.get('valueUpdate'),\\n                },\\n                context,\\n            );\\n        }\\n    };\\n    var json_data = {\\\"formatted_vals\\\":[\\\"1\\\",\\\"2\\\",\\\"3\\\",\\\"4\\\",\\\"5\\\",\\\"6\\\",\\\"7\\\",\\\"8\\\",\\\"9\\\",\\\"10\\\",\\\"11\\\",\\\"12\\\",\\\"13\\\",\\\"14\\\",\\\"15\\\",\\\"16\\\",\\\"17\\\",\\\"18\\\",\\\"19\\\",\\\"20\\\",\\\"21\\\",\\\"22\\\",\\\"23\\\",\\\"24\\\",\\\"25\\\",\\\"26\\\",\\\"27\\\",\\\"28\\\",\\\"29\\\",\\\"30\\\",\\\"31\\\",\\\"32\\\",\\\"33\\\",\\\"34\\\",\\\"35\\\",\\\"36\\\",\\\"37\\\",\\\"38\\\",\\\"39\\\",\\\"40\\\",\\\"41\\\",\\\"42\\\",\\\"43\\\",\\\"44\\\",\\\"45\\\",\\\"46\\\",\\\"47\\\",\\\"48\\\",\\\"49\\\",\\\"50\\\",\\\"51\\\",\\\"52\\\",\\\"53\\\",\\\"54\\\",\\\"55\\\",\\\"56\\\",\\\"57\\\",\\\"58\\\",\\\"59\\\",\\\"60\\\",\\\"61\\\",\\\"62\\\",\\\"63\\\",\\\"64\\\",\\\"65\\\",\\\"66\\\",\\\"67\\\",\\\"68\\\",\\\"69\\\",\\\"70\\\",\\\"71\\\",\\\"72\\\",\\\"73\\\",\\\"74\\\",\\\"75\\\",\\\"76\\\",\\\"77\\\",\\\"78\\\",\\\"79\\\",\\\"80\\\",\\\"81\\\",\\\"82\\\",\\\"83\\\",\\\"84\\\",\\\"85\\\",\\\"86\\\",\\\"87\\\",\\\"88\\\",\\\"89\\\",\\\"90\\\",\\\"91\\\",\\\"92\\\",\\\"93\\\",\\\"94\\\",\\\"95\\\",\\\"96\\\",\\\"97\\\",\\\"98\\\",\\\"99\\\",\\\"100\\\",\\\"101\\\",\\\"102\\\",\\\"103\\\",\\\"104\\\",\\\"105\\\",\\\"106\\\",\\\"107\\\",\\\"108\\\",\\\"109\\\",\\\"110\\\",\\\"111\\\",\\\"112\\\",\\\"113\\\",\\\"114\\\",\\\"115\\\",\\\"116\\\",\\\"117\\\",\\\"118\\\",\\\"119\\\",\\\"120\\\",\\\"121\\\",\\\"122\\\",\\\"123\\\",\\\"124\\\",\\\"125\\\",\\\"126\\\",\\\"127\\\",\\\"128\\\",\\\"129\\\",\\\"130\\\",\\\"131\\\",\\\"132\\\",\\\"133\\\",\\\"134\\\",\\\"135\\\",\\\"136\\\",\\\"137\\\",\\\"138\\\",\\\"139\\\",\\\"140\\\",\\\"141\\\",\\\"142\\\",\\\"143\\\",\\\"144\\\",\\\"145\\\",\\\"146\\\",\\\"147\\\",\\\"148\\\",\\\"149\\\",\\\"150\\\",\\\"151\\\",\\\"152\\\",\\\"153\\\",\\\"154\\\",\\\"155\\\",\\\"156\\\",\\\"157\\\",\\\"158\\\",\\\"159\\\",\\\"160\\\",\\\"161\\\",\\\"162\\\",\\\"163\\\",\\\"164\\\",\\\"165\\\",\\\"166\\\",\\\"167\\\",\\\"168\\\",\\\"169\\\",\\\"170\\\",\\\"171\\\",\\\"172\\\",\\\"173\\\",\\\"174\\\",\\\"175\\\",\\\"176\\\",\\\"177\\\",\\\"178\\\",\\\"179\\\",\\\"180\\\",\\\"181\\\",\\\"182\\\",\\\"183\\\",\\\"184\\\",\\\"185\\\",\\\"186\\\",\\\"187\\\",\\\"188\\\",\\\"189\\\",\\\"190\\\",\\\"191\\\",\\\"192\\\",\\\"193\\\",\\\"194\\\",\\\"195\\\",\\\"196\\\",\\\"197\\\",\\\"198\\\",\\\"199\\\",\\\"200\\\",\\\"201\\\",\\\"202\\\",\\\"203\\\",\\\"204\\\",\\\"205\\\",\\\"206\\\",\\\"207\\\",\\\"208\\\",\\\"209\\\",\\\"210\\\",\\\"211\\\",\\\"212\\\",\\\"213\\\",\\\"214\\\",\\\"215\\\",\\\"216\\\",\\\"217\\\",\\\"218\\\",\\\"219\\\",\\\"220\\\",\\\"221\\\",\\\"222\\\",\\\"223\\\",\\\"224\\\",\\\"225\\\",\\\"226\\\",\\\"227\\\",\\\"228\\\",\\\"229\\\",\\\"230\\\",\\\"231\\\",\\\"232\\\",\\\"233\\\",\\\"234\\\",\\\"235\\\",\\\"236\\\",\\\"237\\\",\\\"238\\\",\\\"239\\\",\\\"240\\\",\\\"241\\\",\\\"242\\\",\\\"243\\\",\\\"244\\\",\\\"245\\\",\\\"246\\\",\\\"247\\\",\\\"248\\\",\\\"249\\\",\\\"250\\\",\\\"251\\\",\\\"252\\\",\\\"253\\\",\\\"254\\\",\\\"255\\\",\\\"256\\\",\\\"257\\\",\\\"258\\\",\\\"259\\\",\\\"260\\\",\\\"261\\\",\\\"262\\\",\\\"263\\\",\\\"264\\\",\\\"265\\\",\\\"266\\\",\\\"267\\\",\\\"268\\\",\\\"269\\\",\\\"270\\\",\\\"271\\\",\\\"272\\\",\\\"273\\\",\\\"274\\\",\\\"275\\\",\\\"276\\\",\\\"277\\\",\\\"278\\\",\\\"279\\\",\\\"280\\\",\\\"281\\\",\\\"282\\\",\\\"283\\\",\\\"284\\\",\\\"285\\\",\\\"286\\\",\\\"287\\\",\\\"288\\\",\\\"289\\\",\\\"290\\\",\\\"291\\\",\\\"292\\\",\\\"293\\\",\\\"294\\\",\\\"295\\\",\\\"296\\\",\\\"297\\\",\\\"298\\\",\\\"299\\\",\\\"300\\\",\\\"301\\\",\\\"302\\\",\\\"303\\\",\\\"304\\\",\\\"305\\\",\\\"306\\\",\\\"307\\\",\\\"308\\\",\\\"309\\\",\\\"310\\\",\\\"311\\\",\\\"312\\\",\\\"313\\\",\\\"314\\\",\\\"315\\\",\\\"316\\\",\\\"317\\\",\\\"318\\\",\\\"319\\\",\\\"320\\\",\\\"321\\\",\\\"322\\\",\\\"323\\\",\\\"324\\\",\\\"325\\\",\\\"326\\\",\\\"327\\\",\\\"328\\\",\\\"329\\\",\\\"330\\\",\\\"331\\\",\\\"332\\\",\\\"333\\\",\\\"334\\\",\\\"335\\\",\\\"336\\\",\\\"337\\\",\\\"338\\\",\\\"339\\\",\\\"340\\\",\\\"341\\\",\\\"342\\\",\\\"343\\\",\\\"344\\\",\\\"345\\\",\\\"346\\\",\\\"347\\\",\\\"348\\\",\\\"349\\\",\\\"350\\\",\\\"351\\\",\\\"352\\\",\\\"353\\\",\\\"354\\\",\\\"355\\\",\\\"356\\\",\\\"357\\\",\\\"358\\\",\\\"359\\\",\\\"360\\\",\\\"361\\\",\\\"362\\\",\\\"363\\\",\\\"364\\\",\\\"365\\\",\\\"366\\\",\\\"367\\\",\\\"368\\\",\\\"369\\\",\\\"370\\\",\\\"371\\\",\\\"372\\\",\\\"373\\\",\\\"374\\\",\\\"375\\\",\\\"376\\\",\\\"377\\\",\\\"378\\\",\\\"379\\\",\\\"380\\\",\\\"381\\\",\\\"382\\\",\\\"383\\\",\\\"384\\\",\\\"385\\\",\\\"386\\\",\\\"387\\\",\\\"388\\\",\\\"389\\\",\\\"390\\\",\\\"391\\\",\\\"392\\\",\\\"393\\\",\\\"394\\\",\\\"395\\\",\\\"396\\\",\\\"397\\\",\\\"398\\\",\\\"399\\\",\\\"400\\\"],\\\"changes\\\":WebIO.getval({\\\"name\\\":\\\"changes\\\",\\\"scope\\\":\\\"1000217918103658503\\\",\\\"id\\\":\\\"17672522705773282476\\\",\\\"type\\\":\\\"observable\\\"}),\\\"index\\\":WebIO.getval({\\\"name\\\":\\\"index\\\",\\\"scope\\\":\\\"1000217918103658503\\\",\\\"id\\\":\\\"2573055610439081058\\\",\\\"type\\\":\\\"observable\\\"})};\\n    var self = this;\\n    function AppViewModel() {\\n        for (var key in json_data) {\\n            var el = json_data[key];\\n            this[key] = Array.isArray(el) ? ko.observableArray(el) : ko.observable(el);\\n        }\\n        \\n        [this[\\\"formatted_val\\\"]=ko.computed(    function(){\\n        return this.formatted_vals()[parseInt(this.index())-(1)];\\n    }\\n,this)]\\n        [this[\\\"changes\\\"].subscribe((function (val){!(this.valueFromJulia[\\\"changes\\\"]) ? (WebIO.setval({\\\"name\\\":\\\"changes\\\",\\\"scope\\\":\\\"1000217918103658503\\\",\\\"id\\\":\\\"17672522705773282476\\\",\\\"type\\\":\\\"observable\\\"},val)) : undefined; return this.valueFromJulia[\\\"changes\\\"]=false}),self),this[\\\"index\\\"].subscribe((function (val){!(this.valueFromJulia[\\\"index\\\"]) ? (WebIO.setval({\\\"name\\\":\\\"index\\\",\\\"scope\\\":\\\"1000217918103658503\\\",\\\"id\\\":\\\"2573055610439081058\\\",\\\"type\\\":\\\"observable\\\"},val)) : undefined; return this.valueFromJulia[\\\"index\\\"]=false}),self)]\\n        \\n    }\\n    self.model = new AppViewModel();\\n    self.valueFromJulia = {};\\n    for (var key in json_data) {\\n        self.valueFromJulia[key] = false;\\n    }\\n    ko.applyBindings(self.model, self.dom);\\n}\\n);\\n    (WebIO.importBlock({\\\"data\\\":[{\\\"name\\\":\\\"knockout\\\",\\\"type\\\":\\\"js\\\",\\\"url\\\":\\\"\\/assetserver\\/727383f2a47bd31570b7da84eee7b022dd6d7c78-knockout.js\\\"},{\\\"name\\\":\\\"knockout_punches\\\",\\\"type\\\":\\\"js\\\",\\\"url\\\":\\\"\\/assetserver\\/382b41b3b1bd9f26f75861d360bad7f8beea211f-knockout_punches.js\\\"}],\\\"type\\\":\\\"async_block\\\"})).then((imports) => handler.apply(this, imports));\\n}\\n\"],\"observables\":{\"changes\":{\"sync\":false,\"id\":\"17672522705773282476\",\"value\":0},\"index\":{\"sync\":true,\"id\":\"2573055610439081058\",\"value\":1}}},\"children\":[{\"props\":{\"className\":\"interact-flex-row interact-widget\"},\"nodeType\":\"DOM\",\"type\":\"node\",\"instanceArgs\":{\"namespace\":\"html\",\"tag\":\"div\"},\"children\":[{\"props\":{\"className\":\"interact-flex-row-left\"},\"nodeType\":\"DOM\",\"type\":\"node\",\"instanceArgs\":{\"namespace\":\"html\",\"tag\":\"div\"},\"children\":[{\"props\":{\"className\":\"interact \",\"style\":{\"padding\":\"5px 10px 0px 10px\"}},\"nodeType\":\"DOM\",\"type\":\"node\",\"instanceArgs\":{\"namespace\":\"html\",\"tag\":\"label\"},\"children\":[\"time\"]}]},{\"props\":{\"className\":\"interact-flex-row-center\"},\"nodeType\":\"DOM\",\"type\":\"node\",\"instanceArgs\":{\"namespace\":\"html\",\"tag\":\"div\"},\"children\":[{\"props\":{\"max\":400,\"min\":1,\"attributes\":{\"type\":\"range\",\"data-bind\":\"numericValue: index, valueUpdate: 'input', event: {change: function (){this.changes(this.changes()+1)}}\",\"orient\":\"horizontal\"},\"step\":1,\"className\":\"slider slider is-fullwidth\",\"style\":{}},\"nodeType\":\"DOM\",\"type\":\"node\",\"instanceArgs\":{\"namespace\":\"html\",\"tag\":\"input\"},\"children\":[]}]},{\"props\":{\"className\":\"interact-flex-row-right\"},\"nodeType\":\"DOM\",\"type\":\"node\",\"instanceArgs\":{\"namespace\":\"html\",\"tag\":\"div\"},\"children\":[{\"props\":{\"attributes\":{\"data-bind\":\"text: formatted_val\"}},\"nodeType\":\"DOM\",\"type\":\"node\",\"instanceArgs\":{\"namespace\":\"html\",\"tag\":\"p\"},\"children\":[]}]}]}]}]},{\"props\":{\"className\":\"field interact-widget\"},\"nodeType\":\"DOM\",\"type\":\"node\",\"instanceArgs\":{\"namespace\":\"html\",\"tag\":\"div\"},\"children\":[{\"props\":{},\"nodeType\":\"Scope\",\"type\":\"node\",\"instanceArgs\":{\"imports\":{\"data\":[{\"name\":\"knockout\",\"type\":\"js\",\"url\":\"\\/assetserver\\/727383f2a47bd31570b7da84eee7b022dd6d7c78-knockout.js\"},{\"name\":\"knockout_punches\",\"type\":\"js\",\"url\":\"\\/assetserver\\/382b41b3b1bd9f26f75861d360bad7f8beea211f-knockout_punches.js\"},{\"name\":null,\"type\":\"js\",\"url\":\"\\/assetserver\\/5ab20f1060420992a9b82a65b735dee4d81ef413-all.js\"},{\"name\":null,\"type\":\"css\",\"url\":\"\\/assetserver\\/1cc0ed62837210b80a182cc3676512f895dab686-style.css\"},{\"name\":null,\"type\":\"css\",\"url\":\"\\/assetserver\\/2eee816f616df3549d7044d45e744fbf8d42bfa1-bulma_confined.min.css\"}],\"type\":\"async_block\"},\"id\":\"13911821769824218451\",\"handlers\":{\"changes\":[\"(function (val){return (val!=this.model[\\\"changes\\\"]()) ? (this.valueFromJulia[\\\"changes\\\"]=true, this.model[\\\"changes\\\"](val)) : undefined})\"],\"index\":[\"(function (val){return (val!=this.model[\\\"index\\\"]()) ? (this.valueFromJulia[\\\"index\\\"]=true, this.model[\\\"index\\\"](val)) : undefined})\"]},\"systemjs_options\":null,\"mount_callbacks\":[\"function () {\\n    var handler = (function (ko, koPunches) {\\n    ko.punches.enableAll();\\n    ko.bindingHandlers.numericValue = {\\n        init: function(element, valueAccessor, allBindings, data, context) {\\n            var stringified = ko.observable(ko.unwrap(valueAccessor()));\\n            stringified.subscribe(function(value) {\\n                var val = parseFloat(value);\\n                if (!isNaN(val)) {\\n                    valueAccessor()(val);\\n                }\\n            });\\n            valueAccessor().subscribe(function(value) {\\n                var str = JSON.stringify(value);\\n                if ((str == \\\"0\\\") && ([\\\"-0\\\", \\\"-0.\\\"].indexOf(stringified()) >= 0))\\n                     return;\\n                 if ([\\\"null\\\", \\\"\\\"].indexOf(str) >= 0)\\n                     return;\\n                stringified(str);\\n            });\\n            ko.applyBindingsToNode(\\n                element,\\n                {\\n                    value: stringified,\\n                    valueUpdate: allBindings.get('valueUpdate'),\\n                },\\n                context,\\n            );\\n        }\\n    };\\n    var json_data = {\\\"formatted_vals\\\":[\\\"0.1\\\",\\\"0.2\\\",\\\"0.3\\\",\\\"0.4\\\",\\\"0.5\\\",\\\"0.6\\\",\\\"0.7\\\",\\\"0.8\\\",\\\"0.9\\\",\\\"1.0\\\",\\\"1.1\\\",\\\"1.2\\\",\\\"1.3\\\",\\\"1.4\\\",\\\"1.5\\\",\\\"1.6\\\",\\\"1.7\\\",\\\"1.8\\\",\\\"1.9\\\",\\\"2.0\\\"],\\\"changes\\\":WebIO.getval({\\\"name\\\":\\\"changes\\\",\\\"scope\\\":\\\"13911821769824218451\\\",\\\"id\\\":\\\"15005257445741500830\\\",\\\"type\\\":\\\"observable\\\"}),\\\"index\\\":WebIO.getval({\\\"name\\\":\\\"index\\\",\\\"scope\\\":\\\"13911821769824218451\\\",\\\"id\\\":\\\"7566740207945339703\\\",\\\"type\\\":\\\"observable\\\"})};\\n    var self = this;\\n    function AppViewModel() {\\n        for (var key in json_data) {\\n            var el = json_data[key];\\n            this[key] = Array.isArray(el) ? ko.observableArray(el) : ko.observable(el);\\n        }\\n        \\n        [this[\\\"formatted_val\\\"]=ko.computed(    function(){\\n        return this.formatted_vals()[parseInt(this.index())-(1)];\\n    }\\n,this)]\\n        [this[\\\"changes\\\"].subscribe((function (val){!(this.valueFromJulia[\\\"changes\\\"]) ? (WebIO.setval({\\\"name\\\":\\\"changes\\\",\\\"scope\\\":\\\"13911821769824218451\\\",\\\"id\\\":\\\"15005257445741500830\\\",\\\"type\\\":\\\"observable\\\"},val)) : undefined; return this.valueFromJulia[\\\"changes\\\"]=false}),self),this[\\\"index\\\"].subscribe((function (val){!(this.valueFromJulia[\\\"index\\\"]) ? (WebIO.setval({\\\"name\\\":\\\"index\\\",\\\"scope\\\":\\\"13911821769824218451\\\",\\\"id\\\":\\\"7566740207945339703\\\",\\\"type\\\":\\\"observable\\\"},val)) : undefined; return this.valueFromJulia[\\\"index\\\"]=false}),self)]\\n        \\n    }\\n    self.model = new AppViewModel();\\n    self.valueFromJulia = {};\\n    for (var key in json_data) {\\n        self.valueFromJulia[key] = false;\\n    }\\n    ko.applyBindings(self.model, self.dom);\\n}\\n);\\n    (WebIO.importBlock({\\\"data\\\":[{\\\"name\\\":\\\"knockout\\\",\\\"type\\\":\\\"js\\\",\\\"url\\\":\\\"\\/assetserver\\/727383f2a47bd31570b7da84eee7b022dd6d7c78-knockout.js\\\"},{\\\"name\\\":\\\"knockout_punches\\\",\\\"type\\\":\\\"js\\\",\\\"url\\\":\\\"\\/assetserver\\/382b41b3b1bd9f26f75861d360bad7f8beea211f-knockout_punches.js\\\"}],\\\"type\\\":\\\"async_block\\\"})).then((imports) => handler.apply(this, imports));\\n}\\n\"],\"observables\":{\"changes\":{\"sync\":false,\"id\":\"15005257445741500830\",\"value\":0},\"index\":{\"sync\":true,\"id\":\"7566740207945339703\",\"value\":10}}},\"children\":[{\"props\":{\"className\":\"interact-flex-row interact-widget\"},\"nodeType\":\"DOM\",\"type\":\"node\",\"instanceArgs\":{\"namespace\":\"html\",\"tag\":\"div\"},\"children\":[{\"props\":{\"className\":\"interact-flex-row-left\"},\"nodeType\":\"DOM\",\"type\":\"node\",\"instanceArgs\":{\"namespace\":\"html\",\"tag\":\"div\"},\"children\":[{\"props\":{\"className\":\"interact \",\"style\":{\"padding\":\"5px 10px 0px 10px\"}},\"nodeType\":\"DOM\",\"type\":\"node\",\"instanceArgs\":{\"namespace\":\"html\",\"tag\":\"label\"},\"children\":[\"scale\"]}]},{\"props\":{\"className\":\"interact-flex-row-center\"},\"nodeType\":\"DOM\",\"type\":\"node\",\"instanceArgs\":{\"namespace\":\"html\",\"tag\":\"div\"},\"children\":[{\"props\":{\"max\":20,\"min\":1,\"attributes\":{\"type\":\"range\",\"data-bind\":\"numericValue: index, valueUpdate: 'input', event: {change: function (){this.changes(this.changes()+1)}}\",\"orient\":\"horizontal\"},\"step\":1,\"className\":\"slider slider is-fullwidth\",\"style\":{}},\"nodeType\":\"DOM\",\"type\":\"node\",\"instanceArgs\":{\"namespace\":\"html\",\"tag\":\"input\"},\"children\":[]}]},{\"props\":{\"className\":\"interact-flex-row-right\"},\"nodeType\":\"DOM\",\"type\":\"node\",\"instanceArgs\":{\"namespace\":\"html\",\"tag\":\"div\"},\"children\":[{\"props\":{\"attributes\":{\"data-bind\":\"text: formatted_val\"}},\"nodeType\":\"DOM\",\"type\":\"node\",\"instanceArgs\":{\"namespace\":\"html\",\"tag\":\"p\"},\"children\":[]}]}]}]}]},{\"props\":{\"style\":{\"display\":\"flex\",\"flex-direction\":\"column\"}},\"nodeType\":\"DOM\",\"type\":\"node\",\"instanceArgs\":{\"namespace\":\"html\",\"tag\":\"div\"},\"children\":[]},{\"props\":{\"style\":{\"display\":\"flex\",\"flex-direction\":\"column\"}},\"nodeType\":\"DOM\",\"type\":\"node\",\"instanceArgs\":{\"namespace\":\"html\",\"tag\":\"div\"},\"children\":[{\"props\":{\"className\":\"field interact-widget\"},\"nodeType\":\"DOM\",\"type\":\"node\",\"instanceArgs\":{\"namespace\":\"html\",\"tag\":\"div\"},\"children\":[{\"props\":{},\"nodeType\":\"Scope\",\"type\":\"node\",\"instanceArgs\":{\"imports\":{\"data\":[{\"name\":\"knockout\",\"type\":\"js\",\"url\":\"\\/assetserver\\/727383f2a47bd31570b7da84eee7b022dd6d7c78-knockout.js\"},{\"name\":\"knockout_punches\",\"type\":\"js\",\"url\":\"\\/assetserver\\/382b41b3b1bd9f26f75861d360bad7f8beea211f-knockout_punches.js\"},{\"name\":null,\"type\":\"js\",\"url\":\"\\/assetserver\\/5ab20f1060420992a9b82a65b735dee4d81ef413-all.js\"},{\"name\":null,\"type\":\"css\",\"url\":\"\\/assetserver\\/1cc0ed62837210b80a182cc3676512f895dab686-style.css\"},{\"name\":null,\"type\":\"css\",\"url\":\"\\/assetserver\\/2eee816f616df3549d7044d45e744fbf8d42bfa1-bulma_confined.min.css\"}],\"type\":\"async_block\"},\"id\":\"13758014002278350896\",\"handlers\":{\"changes\":[\"(function (val){return (val!=this.model[\\\"changes\\\"]()) ? (this.valueFromJulia[\\\"changes\\\"]=true, this.model[\\\"changes\\\"](val)) : undefined})\"],\"index\":[\"(function (val){return (val!=this.model[\\\"index\\\"]()) ? (this.valueFromJulia[\\\"index\\\"]=true, this.model[\\\"index\\\"](val)) : undefined})\"]},\"systemjs_options\":null,\"mount_callbacks\":[\"function () {\\n    var handler = (function (ko, koPunches) {\\n    ko.punches.enableAll();\\n    ko.bindingHandlers.numericValue = {\\n        init: function(element, valueAccessor, allBindings, data, context) {\\n            var stringified = ko.observable(ko.unwrap(valueAccessor()));\\n            stringified.subscribe(function(value) {\\n                var val = parseFloat(value);\\n                if (!isNaN(val)) {\\n                    valueAccessor()(val);\\n                }\\n            });\\n            valueAccessor().subscribe(function(value) {\\n                var str = JSON.stringify(value);\\n                if ((str == \\\"0\\\") && ([\\\"-0\\\", \\\"-0.\\\"].indexOf(stringified()) >= 0))\\n                     return;\\n                 if ([\\\"null\\\", \\\"\\\"].indexOf(str) >= 0)\\n                     return;\\n                stringified(str);\\n            });\\n            ko.applyBindingsToNode(\\n                element,\\n                {\\n                    value: stringified,\\n                    valueUpdate: allBindings.get('valueUpdate'),\\n                },\\n                context,\\n            );\\n        }\\n    };\\n    var json_data = {\\\"formatted_vals\\\":[\\\"0.01\\\",\\\"0.11\\\",\\\"0.21\\\",\\\"0.31\\\",\\\"0.41\\\",\\\"0.51\\\",\\\"0.61\\\",\\\"0.71\\\",\\\"0.81\\\",\\\"0.91\\\"],\\\"changes\\\":WebIO.getval({\\\"name\\\":\\\"changes\\\",\\\"scope\\\":\\\"13758014002278350896\\\",\\\"id\\\":\\\"1232530509246080630\\\",\\\"type\\\":\\\"observable\\\"}),\\\"index\\\":WebIO.getval({\\\"name\\\":\\\"index\\\",\\\"scope\\\":\\\"13758014002278350896\\\",\\\"id\\\":\\\"14691121323510246723\\\",\\\"type\\\":\\\"observable\\\"})};\\n    var self = this;\\n    function AppViewModel() {\\n        for (var key in json_data) {\\n            var el = json_data[key];\\n            this[key] = Array.isArray(el) ? ko.observableArray(el) : ko.observable(el);\\n        }\\n        \\n        [this[\\\"formatted_val\\\"]=ko.computed(    function(){\\n        return this.formatted_vals()[parseInt(this.index())-(1)];\\n    }\\n,this)]\\n        [this[\\\"changes\\\"].subscribe((function (val){!(this.valueFromJulia[\\\"changes\\\"]) ? (WebIO.setval({\\\"name\\\":\\\"changes\\\",\\\"scope\\\":\\\"13758014002278350896\\\",\\\"id\\\":\\\"1232530509246080630\\\",\\\"type\\\":\\\"observable\\\"},val)) : undefined; return this.valueFromJulia[\\\"changes\\\"]=false}),self),this[\\\"index\\\"].subscribe((function (val){!(this.valueFromJulia[\\\"index\\\"]) ? (WebIO.setval({\\\"name\\\":\\\"index\\\",\\\"scope\\\":\\\"13758014002278350896\\\",\\\"id\\\":\\\"14691121323510246723\\\",\\\"type\\\":\\\"observable\\\"},val)) : undefined; return this.valueFromJulia[\\\"index\\\"]=false}),self)]\\n        \\n    }\\n    self.model = new AppViewModel();\\n    self.valueFromJulia = {};\\n    for (var key in json_data) {\\n        self.valueFromJulia[key] = false;\\n    }\\n    ko.applyBindings(self.model, self.dom);\\n}\\n);\\n    (WebIO.importBlock({\\\"data\\\":[{\\\"name\\\":\\\"knockout\\\",\\\"type\\\":\\\"js\\\",\\\"url\\\":\\\"\\/assetserver\\/727383f2a47bd31570b7da84eee7b022dd6d7c78-knockout.js\\\"},{\\\"name\\\":\\\"knockout_punches\\\",\\\"type\\\":\\\"js\\\",\\\"url\\\":\\\"\\/assetserver\\/382b41b3b1bd9f26f75861d360bad7f8beea211f-knockout_punches.js\\\"}],\\\"type\\\":\\\"async_block\\\"})).then((imports) => handler.apply(this, imports));\\n}\\n\"],\"observables\":{\"changes\":{\"sync\":false,\"id\":\"1232530509246080630\",\"value\":0},\"index\":{\"sync\":true,\"id\":\"14691121323510246723\",\"value\":5}}},\"children\":[{\"props\":{\"className\":\"interact-flex-row interact-widget\"},\"nodeType\":\"DOM\",\"type\":\"node\",\"instanceArgs\":{\"namespace\":\"html\",\"tag\":\"div\"},\"children\":[{\"props\":{\"className\":\"interact-flex-row-left\"},\"nodeType\":\"DOM\",\"type\":\"node\",\"instanceArgs\":{\"namespace\":\"html\",\"tag\":\"div\"},\"children\":[{\"props\":{\"className\":\"interact \",\"style\":{\"padding\":\"5px 10px 0px 10px\"}},\"nodeType\":\"DOM\",\"type\":\"node\",\"instanceArgs\":{\"namespace\":\"html\",\"tag\":\"label\"},\"children\":[\"min_dis\"]}]},{\"props\":{\"className\":\"interact-flex-row-center\"},\"nodeType\":\"DOM\",\"type\":\"node\",\"instanceArgs\":{\"namespace\":\"html\",\"tag\":\"div\"},\"children\":[{\"props\":{\"max\":10,\"min\":1,\"attributes\":{\"type\":\"range\",\"data-bind\":\"numericValue: index, valueUpdate: 'input', event: {change: function (){this.changes(this.changes()+1)}}\",\"orient\":\"horizontal\"},\"step\":1,\"className\":\"slider slider is-fullwidth\",\"style\":{}},\"nodeType\":\"DOM\",\"type\":\"node\",\"instanceArgs\":{\"namespace\":\"html\",\"tag\":\"input\"},\"children\":[]}]},{\"props\":{\"className\":\"interact-flex-row-right\"},\"nodeType\":\"DOM\",\"type\":\"node\",\"instanceArgs\":{\"namespace\":\"html\",\"tag\":\"div\"},\"children\":[{\"props\":{\"attributes\":{\"data-bind\":\"text: formatted_val\"}},\"nodeType\":\"DOM\",\"type\":\"node\",\"instanceArgs\":{\"namespace\":\"html\",\"tag\":\"p\"},\"children\":[]}]}]}]}]},{\"props\":{\"className\":\"field interact-widget\"},\"nodeType\":\"DOM\",\"type\":\"node\",\"instanceArgs\":{\"namespace\":\"html\",\"tag\":\"div\"},\"children\":[{\"props\":{},\"nodeType\":\"Scope\",\"type\":\"node\",\"instanceArgs\":{\"imports\":{\"data\":[{\"name\":\"knockout\",\"type\":\"js\",\"url\":\"\\/assetserver\\/727383f2a47bd31570b7da84eee7b022dd6d7c78-knockout.js\"},{\"name\":\"knockout_punches\",\"type\":\"js\",\"url\":\"\\/assetserver\\/382b41b3b1bd9f26f75861d360bad7f8beea211f-knockout_punches.js\"},{\"name\":null,\"type\":\"js\",\"url\":\"\\/assetserver\\/5ab20f1060420992a9b82a65b735dee4d81ef413-all.js\"},{\"name\":null,\"type\":\"css\",\"url\":\"\\/assetserver\\/1cc0ed62837210b80a182cc3676512f895dab686-style.css\"},{\"name\":null,\"type\":\"css\",\"url\":\"\\/assetserver\\/2eee816f616df3549d7044d45e744fbf8d42bfa1-bulma_confined.min.css\"}],\"type\":\"async_block\"},\"id\":\"8533126841913947296\",\"handlers\":{\"changes\":[\"(function (val){return (val!=this.model[\\\"changes\\\"]()) ? (this.valueFromJulia[\\\"changes\\\"]=true, this.model[\\\"changes\\\"](val)) : undefined})\"],\"index\":[\"(function (val){return (val!=this.model[\\\"index\\\"]()) ? (this.valueFromJulia[\\\"index\\\"]=true, this.model[\\\"index\\\"](val)) : undefined})\"]},\"systemjs_options\":null,\"mount_callbacks\":[\"function () {\\n    var handler = (function (ko, koPunches) {\\n    ko.punches.enableAll();\\n    ko.bindingHandlers.numericValue = {\\n        init: function(element, valueAccessor, allBindings, data, context) {\\n            var stringified = ko.observable(ko.unwrap(valueAccessor()));\\n            stringified.subscribe(function(value) {\\n                var val = parseFloat(value);\\n                if (!isNaN(val)) {\\n                    valueAccessor()(val);\\n                }\\n            });\\n            valueAccessor().subscribe(function(value) {\\n                var str = JSON.stringify(value);\\n                if ((str == \\\"0\\\") && ([\\\"-0\\\", \\\"-0.\\\"].indexOf(stringified()) >= 0))\\n                     return;\\n                 if ([\\\"null\\\", \\\"\\\"].indexOf(str) >= 0)\\n                     return;\\n                stringified(str);\\n            });\\n            ko.applyBindingsToNode(\\n                element,\\n                {\\n                    value: stringified,\\n                    valueUpdate: allBindings.get('valueUpdate'),\\n                },\\n                context,\\n            );\\n        }\\n    };\\n    var json_data = {\\\"formatted_vals\\\":[\\\"0.01\\\",\\\"0.02\\\",\\\"0.03\\\",\\\"0.04\\\",\\\"0.05\\\",\\\"0.06\\\",\\\"0.07\\\",\\\"0.08\\\",\\\"0.09\\\",\\\"0.1\\\",\\\"0.11\\\",\\\"0.12\\\",\\\"0.13\\\",\\\"0.14\\\",\\\"0.15\\\",\\\"0.16\\\",\\\"0.17\\\",\\\"0.18\\\",\\\"0.19\\\",\\\"0.2\\\",\\\"0.21\\\",\\\"0.22\\\",\\\"0.23\\\",\\\"0.24\\\",\\\"0.25\\\",\\\"0.26\\\",\\\"0.27\\\",\\\"0.28\\\",\\\"0.29\\\",\\\"0.3\\\",\\\"0.31\\\",\\\"0.32\\\",\\\"0.33\\\",\\\"0.34\\\",\\\"0.35\\\",\\\"0.36\\\",\\\"0.37\\\",\\\"0.38\\\",\\\"0.39\\\",\\\"0.4\\\",\\\"0.41\\\",\\\"0.42\\\",\\\"0.43\\\",\\\"0.44\\\",\\\"0.45\\\",\\\"0.46\\\",\\\"0.47\\\",\\\"0.48\\\",\\\"0.49\\\",\\\"0.5\\\",\\\"0.51\\\",\\\"0.52\\\",\\\"0.53\\\",\\\"0.54\\\",\\\"0.55\\\",\\\"0.56\\\",\\\"0.57\\\",\\\"0.58\\\",\\\"0.59\\\",\\\"0.6\\\",\\\"0.61\\\",\\\"0.62\\\",\\\"0.63\\\",\\\"0.64\\\",\\\"0.65\\\",\\\"0.66\\\",\\\"0.67\\\",\\\"0.68\\\",\\\"0.69\\\",\\\"0.7\\\",\\\"0.71\\\",\\\"0.72\\\",\\\"0.73\\\",\\\"0.74\\\",\\\"0.75\\\",\\\"0.76\\\",\\\"0.77\\\",\\\"0.78\\\",\\\"0.79\\\",\\\"0.8\\\",\\\"0.81\\\",\\\"0.82\\\",\\\"0.83\\\",\\\"0.84\\\",\\\"0.85\\\",\\\"0.86\\\",\\\"0.87\\\",\\\"0.88\\\",\\\"0.89\\\",\\\"0.9\\\",\\\"0.91\\\",\\\"0.92\\\",\\\"0.93\\\",\\\"0.94\\\",\\\"0.95\\\",\\\"0.96\\\",\\\"0.97\\\",\\\"0.98\\\",\\\"0.99\\\",\\\"1.0\\\"],\\\"changes\\\":WebIO.getval({\\\"name\\\":\\\"changes\\\",\\\"scope\\\":\\\"8533126841913947296\\\",\\\"id\\\":\\\"9304112103411616300\\\",\\\"type\\\":\\\"observable\\\"}),\\\"index\\\":WebIO.getval({\\\"name\\\":\\\"index\\\",\\\"scope\\\":\\\"8533126841913947296\\\",\\\"id\\\":\\\"4093139992847638124\\\",\\\"type\\\":\\\"observable\\\"})};\\n    var self = this;\\n    function AppViewModel() {\\n        for (var key in json_data) {\\n            var el = json_data[key];\\n            this[key] = Array.isArray(el) ? ko.observableArray(el) : ko.observable(el);\\n        }\\n        \\n        [this[\\\"formatted_val\\\"]=ko.computed(    function(){\\n        return this.formatted_vals()[parseInt(this.index())-(1)];\\n    }\\n,this)]\\n        [this[\\\"changes\\\"].subscribe((function (val){!(this.valueFromJulia[\\\"changes\\\"]) ? (WebIO.setval({\\\"name\\\":\\\"changes\\\",\\\"scope\\\":\\\"8533126841913947296\\\",\\\"id\\\":\\\"9304112103411616300\\\",\\\"type\\\":\\\"observable\\\"},val)) : undefined; return this.valueFromJulia[\\\"changes\\\"]=false}),self),this[\\\"index\\\"].subscribe((function (val){!(this.valueFromJulia[\\\"index\\\"]) ? (WebIO.setval({\\\"name\\\":\\\"index\\\",\\\"scope\\\":\\\"8533126841913947296\\\",\\\"id\\\":\\\"4093139992847638124\\\",\\\"type\\\":\\\"observable\\\"},val)) : undefined; return this.valueFromJulia[\\\"index\\\"]=false}),self)]\\n        \\n    }\\n    self.model = new AppViewModel();\\n    self.valueFromJulia = {};\\n    for (var key in json_data) {\\n        self.valueFromJulia[key] = false;\\n    }\\n    ko.applyBindings(self.model, self.dom);\\n}\\n);\\n    (WebIO.importBlock({\\\"data\\\":[{\\\"name\\\":\\\"knockout\\\",\\\"type\\\":\\\"js\\\",\\\"url\\\":\\\"\\/assetserver\\/727383f2a47bd31570b7da84eee7b022dd6d7c78-knockout.js\\\"},{\\\"name\\\":\\\"knockout_punches\\\",\\\"type\\\":\\\"js\\\",\\\"url\\\":\\\"\\/assetserver\\/382b41b3b1bd9f26f75861d360bad7f8beea211f-knockout_punches.js\\\"}],\\\"type\\\":\\\"async_block\\\"})).then((imports) => handler.apply(this, imports));\\n}\\n\"],\"observables\":{\"changes\":{\"sync\":false,\"id\":\"9304112103411616300\",\"value\":0},\"index\":{\"sync\":true,\"id\":\"4093139992847638124\",\"value\":50}}},\"children\":[{\"props\":{\"className\":\"interact-flex-row interact-widget\"},\"nodeType\":\"DOM\",\"type\":\"node\",\"instanceArgs\":{\"namespace\":\"html\",\"tag\":\"div\"},\"children\":[{\"props\":{\"className\":\"interact-flex-row-left\"},\"nodeType\":\"DOM\",\"type\":\"node\",\"instanceArgs\":{\"namespace\":\"html\",\"tag\":\"div\"},\"children\":[{\"props\":{\"className\":\"interact \",\"style\":{\"padding\":\"5px 10px 0px 10px\"}},\"nodeType\":\"DOM\",\"type\":\"node\",\"instanceArgs\":{\"namespace\":\"html\",\"tag\":\"label\"},\"children\":[\"coh_fac\"]}]},{\"props\":{\"className\":\"interact-flex-row-center\"},\"nodeType\":\"DOM\",\"type\":\"node\",\"instanceArgs\":{\"namespace\":\"html\",\"tag\":\"div\"},\"children\":[{\"props\":{\"max\":100,\"min\":1,\"attributes\":{\"type\":\"range\",\"data-bind\":\"numericValue: index, valueUpdate: 'input', event: {change: function (){this.changes(this.changes()+1)}}\",\"orient\":\"horizontal\"},\"step\":1,\"className\":\"slider slider is-fullwidth\",\"style\":{}},\"nodeType\":\"DOM\",\"type\":\"node\",\"instanceArgs\":{\"namespace\":\"html\",\"tag\":\"input\"},\"children\":[]}]},{\"props\":{\"className\":\"interact-flex-row-right\"},\"nodeType\":\"DOM\",\"type\":\"node\",\"instanceArgs\":{\"namespace\":\"html\",\"tag\":\"div\"},\"children\":[{\"props\":{\"attributes\":{\"data-bind\":\"text: formatted_val\"}},\"nodeType\":\"DOM\",\"type\":\"node\",\"instanceArgs\":{\"namespace\":\"html\",\"tag\":\"p\"},\"children\":[]}]}]}]}]},{\"props\":{\"className\":\"field interact-widget\"},\"nodeType\":\"DOM\",\"type\":\"node\",\"instanceArgs\":{\"namespace\":\"html\",\"tag\":\"div\"},\"children\":[{\"props\":{},\"nodeType\":\"Scope\",\"type\":\"node\",\"instanceArgs\":{\"imports\":{\"data\":[{\"name\":\"knockout\",\"type\":\"js\",\"url\":\"\\/assetserver\\/727383f2a47bd31570b7da84eee7b022dd6d7c78-knockout.js\"},{\"name\":\"knockout_punches\",\"type\":\"js\",\"url\":\"\\/assetserver\\/382b41b3b1bd9f26f75861d360bad7f8beea211f-knockout_punches.js\"},{\"name\":null,\"type\":\"js\",\"url\":\"\\/assetserver\\/5ab20f1060420992a9b82a65b735dee4d81ef413-all.js\"},{\"name\":null,\"type\":\"css\",\"url\":\"\\/assetserver\\/1cc0ed62837210b80a182cc3676512f895dab686-style.css\"},{\"name\":null,\"type\":\"css\",\"url\":\"\\/assetserver\\/2eee816f616df3549d7044d45e744fbf8d42bfa1-bulma_confined.min.css\"}],\"type\":\"async_block\"},\"id\":\"10823381236181018953\",\"handlers\":{\"changes\":[\"(function (val){return (val!=this.model[\\\"changes\\\"]()) ? (this.valueFromJulia[\\\"changes\\\"]=true, this.model[\\\"changes\\\"](val)) : undefined})\"],\"index\":[\"(function (val){return (val!=this.model[\\\"index\\\"]()) ? (this.valueFromJulia[\\\"index\\\"]=true, this.model[\\\"index\\\"](val)) : undefined})\"]},\"systemjs_options\":null,\"mount_callbacks\":[\"function () {\\n    var handler = (function (ko, koPunches) {\\n    ko.punches.enableAll();\\n    ko.bindingHandlers.numericValue = {\\n        init: function(element, valueAccessor, allBindings, data, context) {\\n            var stringified = ko.observable(ko.unwrap(valueAccessor()));\\n            stringified.subscribe(function(value) {\\n                var val = parseFloat(value);\\n                if (!isNaN(val)) {\\n                    valueAccessor()(val);\\n                }\\n            });\\n            valueAccessor().subscribe(function(value) {\\n                var str = JSON.stringify(value);\\n                if ((str == \\\"0\\\") && ([\\\"-0\\\", \\\"-0.\\\"].indexOf(stringified()) >= 0))\\n                     return;\\n                 if ([\\\"null\\\", \\\"\\\"].indexOf(str) >= 0)\\n                     return;\\n                stringified(str);\\n            });\\n            ko.applyBindingsToNode(\\n                element,\\n                {\\n                    value: stringified,\\n                    valueUpdate: allBindings.get('valueUpdate'),\\n                },\\n                context,\\n            );\\n        }\\n    };\\n    var json_data = {\\\"formatted_vals\\\":[\\\"0.01\\\",\\\"0.02\\\",\\\"0.03\\\",\\\"0.04\\\",\\\"0.05\\\",\\\"0.06\\\",\\\"0.07\\\",\\\"0.08\\\",\\\"0.09\\\",\\\"0.1\\\",\\\"0.11\\\",\\\"0.12\\\",\\\"0.13\\\",\\\"0.14\\\",\\\"0.15\\\",\\\"0.16\\\",\\\"0.17\\\",\\\"0.18\\\",\\\"0.19\\\",\\\"0.2\\\",\\\"0.21\\\",\\\"0.22\\\",\\\"0.23\\\",\\\"0.24\\\",\\\"0.25\\\",\\\"0.26\\\",\\\"0.27\\\",\\\"0.28\\\",\\\"0.29\\\",\\\"0.3\\\",\\\"0.31\\\",\\\"0.32\\\",\\\"0.33\\\",\\\"0.34\\\",\\\"0.35\\\",\\\"0.36\\\",\\\"0.37\\\",\\\"0.38\\\",\\\"0.39\\\",\\\"0.4\\\",\\\"0.41\\\",\\\"0.42\\\",\\\"0.43\\\",\\\"0.44\\\",\\\"0.45\\\",\\\"0.46\\\",\\\"0.47\\\",\\\"0.48\\\",\\\"0.49\\\",\\\"0.5\\\",\\\"0.51\\\",\\\"0.52\\\",\\\"0.53\\\",\\\"0.54\\\",\\\"0.55\\\",\\\"0.56\\\",\\\"0.57\\\",\\\"0.58\\\",\\\"0.59\\\",\\\"0.6\\\",\\\"0.61\\\",\\\"0.62\\\",\\\"0.63\\\",\\\"0.64\\\",\\\"0.65\\\",\\\"0.66\\\",\\\"0.67\\\",\\\"0.68\\\",\\\"0.69\\\",\\\"0.7\\\",\\\"0.71\\\",\\\"0.72\\\",\\\"0.73\\\",\\\"0.74\\\",\\\"0.75\\\",\\\"0.76\\\",\\\"0.77\\\",\\\"0.78\\\",\\\"0.79\\\",\\\"0.8\\\",\\\"0.81\\\",\\\"0.82\\\",\\\"0.83\\\",\\\"0.84\\\",\\\"0.85\\\",\\\"0.86\\\",\\\"0.87\\\",\\\"0.88\\\",\\\"0.89\\\",\\\"0.9\\\",\\\"0.91\\\",\\\"0.92\\\",\\\"0.93\\\",\\\"0.94\\\",\\\"0.95\\\",\\\"0.96\\\",\\\"0.97\\\",\\\"0.98\\\",\\\"0.99\\\",\\\"1.0\\\"],\\\"changes\\\":WebIO.getval({\\\"name\\\":\\\"changes\\\",\\\"scope\\\":\\\"10823381236181018953\\\",\\\"id\\\":\\\"16748230901982307693\\\",\\\"type\\\":\\\"observable\\\"}),\\\"index\\\":WebIO.getval({\\\"name\\\":\\\"index\\\",\\\"scope\\\":\\\"10823381236181018953\\\",\\\"id\\\":\\\"2367399332677306587\\\",\\\"type\\\":\\\"observable\\\"})};\\n    var self = this;\\n    function AppViewModel() {\\n        for (var key in json_data) {\\n            var el = json_data[key];\\n            this[key] = Array.isArray(el) ? ko.observableArray(el) : ko.observable(el);\\n        }\\n        \\n        [this[\\\"formatted_val\\\"]=ko.computed(    function(){\\n        return this.formatted_vals()[parseInt(this.index())-(1)];\\n    }\\n,this)]\\n        [this[\\\"changes\\\"].subscribe((function (val){!(this.valueFromJulia[\\\"changes\\\"]) ? (WebIO.setval({\\\"name\\\":\\\"changes\\\",\\\"scope\\\":\\\"10823381236181018953\\\",\\\"id\\\":\\\"16748230901982307693\\\",\\\"type\\\":\\\"observable\\\"},val)) : undefined; return this.valueFromJulia[\\\"changes\\\"]=false}),self),this[\\\"index\\\"].subscribe((function (val){!(this.valueFromJulia[\\\"index\\\"]) ? (WebIO.setval({\\\"name\\\":\\\"index\\\",\\\"scope\\\":\\\"10823381236181018953\\\",\\\"id\\\":\\\"2367399332677306587\\\",\\\"type\\\":\\\"observable\\\"},val)) : undefined; return this.valueFromJulia[\\\"index\\\"]=false}),self)]\\n        \\n    }\\n    self.model = new AppViewModel();\\n    self.valueFromJulia = {};\\n    for (var key in json_data) {\\n        self.valueFromJulia[key] = false;\\n    }\\n    ko.applyBindings(self.model, self.dom);\\n}\\n);\\n    (WebIO.importBlock({\\\"data\\\":[{\\\"name\\\":\\\"knockout\\\",\\\"type\\\":\\\"js\\\",\\\"url\\\":\\\"\\/assetserver\\/727383f2a47bd31570b7da84eee7b022dd6d7c78-knockout.js\\\"},{\\\"name\\\":\\\"knockout_punches\\\",\\\"type\\\":\\\"js\\\",\\\"url\\\":\\\"\\/assetserver\\/382b41b3b1bd9f26f75861d360bad7f8beea211f-knockout_punches.js\\\"}],\\\"type\\\":\\\"async_block\\\"})).then((imports) => handler.apply(this, imports));\\n}\\n\"],\"observables\":{\"changes\":{\"sync\":false,\"id\":\"16748230901982307693\",\"value\":0},\"index\":{\"sync\":true,\"id\":\"2367399332677306587\",\"value\":50}}},\"children\":[{\"props\":{\"className\":\"interact-flex-row interact-widget\"},\"nodeType\":\"DOM\",\"type\":\"node\",\"instanceArgs\":{\"namespace\":\"html\",\"tag\":\"div\"},\"children\":[{\"props\":{\"className\":\"interact-flex-row-left\"},\"nodeType\":\"DOM\",\"type\":\"node\",\"instanceArgs\":{\"namespace\":\"html\",\"tag\":\"div\"},\"children\":[{\"props\":{\"className\":\"interact \",\"style\":{\"padding\":\"5px 10px 0px 10px\"}},\"nodeType\":\"DOM\",\"type\":\"node\",\"instanceArgs\":{\"namespace\":\"html\",\"tag\":\"label\"},\"children\":[\"sep_fac\"]}]},{\"props\":{\"className\":\"interact-flex-row-center\"},\"nodeType\":\"DOM\",\"type\":\"node\",\"instanceArgs\":{\"namespace\":\"html\",\"tag\":\"div\"},\"children\":[{\"props\":{\"max\":100,\"min\":1,\"attributes\":{\"type\":\"range\",\"data-bind\":\"numericValue: index, valueUpdate: 'input', event: {change: function (){this.changes(this.changes()+1)}}\",\"orient\":\"horizontal\"},\"step\":1,\"className\":\"slider slider is-fullwidth\",\"style\":{}},\"nodeType\":\"DOM\",\"type\":\"node\",\"instanceArgs\":{\"namespace\":\"html\",\"tag\":\"input\"},\"children\":[]}]},{\"props\":{\"className\":\"interact-flex-row-right\"},\"nodeType\":\"DOM\",\"type\":\"node\",\"instanceArgs\":{\"namespace\":\"html\",\"tag\":\"div\"},\"children\":[{\"props\":{\"attributes\":{\"data-bind\":\"text: formatted_val\"}},\"nodeType\":\"DOM\",\"type\":\"node\",\"instanceArgs\":{\"namespace\":\"html\",\"tag\":\"p\"},\"children\":[]}]}]}]}]},{\"props\":{\"className\":\"field interact-widget\"},\"nodeType\":\"DOM\",\"type\":\"node\",\"instanceArgs\":{\"namespace\":\"html\",\"tag\":\"div\"},\"children\":[{\"props\":{},\"nodeType\":\"Scope\",\"type\":\"node\",\"instanceArgs\":{\"imports\":{\"data\":[{\"name\":\"knockout\",\"type\":\"js\",\"url\":\"\\/assetserver\\/727383f2a47bd31570b7da84eee7b022dd6d7c78-knockout.js\"},{\"name\":\"knockout_punches\",\"type\":\"js\",\"url\":\"\\/assetserver\\/382b41b3b1bd9f26f75861d360bad7f8beea211f-knockout_punches.js\"},{\"name\":null,\"type\":\"js\",\"url\":\"\\/assetserver\\/5ab20f1060420992a9b82a65b735dee4d81ef413-all.js\"},{\"name\":null,\"type\":\"css\",\"url\":\"\\/assetserver\\/1cc0ed62837210b80a182cc3676512f895dab686-style.css\"},{\"name\":null,\"type\":\"css\",\"url\":\"\\/assetserver\\/2eee816f616df3549d7044d45e744fbf8d42bfa1-bulma_confined.min.css\"}],\"type\":\"async_block\"},\"id\":\"9846136284506191919\",\"handlers\":{\"changes\":[\"(function (val){return (val!=this.model[\\\"changes\\\"]()) ? (this.valueFromJulia[\\\"changes\\\"]=true, this.model[\\\"changes\\\"](val)) : undefined})\"],\"index\":[\"(function (val){return (val!=this.model[\\\"index\\\"]()) ? (this.valueFromJulia[\\\"index\\\"]=true, this.model[\\\"index\\\"](val)) : undefined})\"]},\"systemjs_options\":null,\"mount_callbacks\":[\"function () {\\n    var handler = (function (ko, koPunches) {\\n    ko.punches.enableAll();\\n    ko.bindingHandlers.numericValue = {\\n        init: function(element, valueAccessor, allBindings, data, context) {\\n            var stringified = ko.observable(ko.unwrap(valueAccessor()));\\n            stringified.subscribe(function(value) {\\n                var val = parseFloat(value);\\n                if (!isNaN(val)) {\\n                    valueAccessor()(val);\\n                }\\n            });\\n            valueAccessor().subscribe(function(value) {\\n                var str = JSON.stringify(value);\\n                if ((str == \\\"0\\\") && ([\\\"-0\\\", \\\"-0.\\\"].indexOf(stringified()) >= 0))\\n                     return;\\n                 if ([\\\"null\\\", \\\"\\\"].indexOf(str) >= 0)\\n                     return;\\n                stringified(str);\\n            });\\n            ko.applyBindingsToNode(\\n                element,\\n                {\\n                    value: stringified,\\n                    valueUpdate: allBindings.get('valueUpdate'),\\n                },\\n                context,\\n            );\\n        }\\n    };\\n    var json_data = {\\\"formatted_vals\\\":[\\\"0.01\\\",\\\"0.02\\\",\\\"0.03\\\",\\\"0.04\\\",\\\"0.05\\\",\\\"0.06\\\",\\\"0.07\\\",\\\"0.08\\\",\\\"0.09\\\",\\\"0.1\\\",\\\"0.11\\\",\\\"0.12\\\",\\\"0.13\\\",\\\"0.14\\\",\\\"0.15\\\",\\\"0.16\\\",\\\"0.17\\\",\\\"0.18\\\",\\\"0.19\\\",\\\"0.2\\\",\\\"0.21\\\",\\\"0.22\\\",\\\"0.23\\\",\\\"0.24\\\",\\\"0.25\\\",\\\"0.26\\\",\\\"0.27\\\",\\\"0.28\\\",\\\"0.29\\\",\\\"0.3\\\",\\\"0.31\\\",\\\"0.32\\\",\\\"0.33\\\",\\\"0.34\\\",\\\"0.35\\\",\\\"0.36\\\",\\\"0.37\\\",\\\"0.38\\\",\\\"0.39\\\",\\\"0.4\\\",\\\"0.41\\\",\\\"0.42\\\",\\\"0.43\\\",\\\"0.44\\\",\\\"0.45\\\",\\\"0.46\\\",\\\"0.47\\\",\\\"0.48\\\",\\\"0.49\\\",\\\"0.5\\\",\\\"0.51\\\",\\\"0.52\\\",\\\"0.53\\\",\\\"0.54\\\",\\\"0.55\\\",\\\"0.56\\\",\\\"0.57\\\",\\\"0.58\\\",\\\"0.59\\\",\\\"0.6\\\",\\\"0.61\\\",\\\"0.62\\\",\\\"0.63\\\",\\\"0.64\\\",\\\"0.65\\\",\\\"0.66\\\",\\\"0.67\\\",\\\"0.68\\\",\\\"0.69\\\",\\\"0.7\\\",\\\"0.71\\\",\\\"0.72\\\",\\\"0.73\\\",\\\"0.74\\\",\\\"0.75\\\",\\\"0.76\\\",\\\"0.77\\\",\\\"0.78\\\",\\\"0.79\\\",\\\"0.8\\\",\\\"0.81\\\",\\\"0.82\\\",\\\"0.83\\\",\\\"0.84\\\",\\\"0.85\\\",\\\"0.86\\\",\\\"0.87\\\",\\\"0.88\\\",\\\"0.89\\\",\\\"0.9\\\",\\\"0.91\\\",\\\"0.92\\\",\\\"0.93\\\",\\\"0.94\\\",\\\"0.95\\\",\\\"0.96\\\",\\\"0.97\\\",\\\"0.98\\\",\\\"0.99\\\",\\\"1.0\\\"],\\\"changes\\\":WebIO.getval({\\\"name\\\":\\\"changes\\\",\\\"scope\\\":\\\"9846136284506191919\\\",\\\"id\\\":\\\"617558799245831644\\\",\\\"type\\\":\\\"observable\\\"}),\\\"index\\\":WebIO.getval({\\\"name\\\":\\\"index\\\",\\\"scope\\\":\\\"9846136284506191919\\\",\\\"id\\\":\\\"5448765183299074291\\\",\\\"type\\\":\\\"observable\\\"})};\\n    var self = this;\\n    function AppViewModel() {\\n        for (var key in json_data) {\\n            var el = json_data[key];\\n            this[key] = Array.isArray(el) ? ko.observableArray(el) : ko.observable(el);\\n        }\\n        \\n        [this[\\\"formatted_val\\\"]=ko.computed(    function(){\\n        return this.formatted_vals()[parseInt(this.index())-(1)];\\n    }\\n,this)]\\n        [this[\\\"changes\\\"].subscribe((function (val){!(this.valueFromJulia[\\\"changes\\\"]) ? (WebIO.setval({\\\"name\\\":\\\"changes\\\",\\\"scope\\\":\\\"9846136284506191919\\\",\\\"id\\\":\\\"617558799245831644\\\",\\\"type\\\":\\\"observable\\\"},val)) : undefined; return this.valueFromJulia[\\\"changes\\\"]=false}),self),this[\\\"index\\\"].subscribe((function (val){!(this.valueFromJulia[\\\"index\\\"]) ? (WebIO.setval({\\\"name\\\":\\\"index\\\",\\\"scope\\\":\\\"9846136284506191919\\\",\\\"id\\\":\\\"5448765183299074291\\\",\\\"type\\\":\\\"observable\\\"},val)) : undefined; return this.valueFromJulia[\\\"index\\\"]=false}),self)]\\n        \\n    }\\n    self.model = new AppViewModel();\\n    self.valueFromJulia = {};\\n    for (var key in json_data) {\\n        self.valueFromJulia[key] = false;\\n    }\\n    ko.applyBindings(self.model, self.dom);\\n}\\n);\\n    (WebIO.importBlock({\\\"data\\\":[{\\\"name\\\":\\\"knockout\\\",\\\"type\\\":\\\"js\\\",\\\"url\\\":\\\"\\/assetserver\\/727383f2a47bd31570b7da84eee7b022dd6d7c78-knockout.js\\\"},{\\\"name\\\":\\\"knockout_punches\\\",\\\"type\\\":\\\"js\\\",\\\"url\\\":\\\"\\/assetserver\\/382b41b3b1bd9f26f75861d360bad7f8beea211f-knockout_punches.js\\\"}],\\\"type\\\":\\\"async_block\\\"})).then((imports) => handler.apply(this, imports));\\n}\\n\"],\"observables\":{\"changes\":{\"sync\":false,\"id\":\"617558799245831644\",\"value\":0},\"index\":{\"sync\":true,\"id\":\"5448765183299074291\",\"value\":50}}},\"children\":[{\"props\":{\"className\":\"interact-flex-row interact-widget\"},\"nodeType\":\"DOM\",\"type\":\"node\",\"instanceArgs\":{\"namespace\":\"html\",\"tag\":\"div\"},\"children\":[{\"props\":{\"className\":\"interact-flex-row-left\"},\"nodeType\":\"DOM\",\"type\":\"node\",\"instanceArgs\":{\"namespace\":\"html\",\"tag\":\"div\"},\"children\":[{\"props\":{\"className\":\"interact \",\"style\":{\"padding\":\"5px 10px 0px 10px\"}},\"nodeType\":\"DOM\",\"type\":\"node\",\"instanceArgs\":{\"namespace\":\"html\",\"tag\":\"label\"},\"children\":[\"aln_fac\"]}]},{\"props\":{\"className\":\"interact-flex-row-center\"},\"nodeType\":\"DOM\",\"type\":\"node\",\"instanceArgs\":{\"namespace\":\"html\",\"tag\":\"div\"},\"children\":[{\"props\":{\"max\":100,\"min\":1,\"attributes\":{\"type\":\"range\",\"data-bind\":\"numericValue: index, valueUpdate: 'input', event: {change: function (){this.changes(this.changes()+1)}}\",\"orient\":\"horizontal\"},\"step\":1,\"className\":\"slider slider is-fullwidth\",\"style\":{}},\"nodeType\":\"DOM\",\"type\":\"node\",\"instanceArgs\":{\"namespace\":\"html\",\"tag\":\"input\"},\"children\":[]}]},{\"props\":{\"className\":\"interact-flex-row-right\"},\"nodeType\":\"DOM\",\"type\":\"node\",\"instanceArgs\":{\"namespace\":\"html\",\"tag\":\"div\"},\"children\":[{\"props\":{\"attributes\":{\"data-bind\":\"text: formatted_val\"}},\"nodeType\":\"DOM\",\"type\":\"node\",\"instanceArgs\":{\"namespace\":\"html\",\"tag\":\"p\"},\"children\":[]}]}]}]}]},{\"props\":{\"className\":\"field interact-widget\"},\"nodeType\":\"DOM\",\"type\":\"node\",\"instanceArgs\":{\"namespace\":\"html\",\"tag\":\"div\"},\"children\":[{\"props\":{},\"nodeType\":\"Scope\",\"type\":\"node\",\"instanceArgs\":{\"imports\":{\"data\":[{\"name\":\"knockout\",\"type\":\"js\",\"url\":\"\\/assetserver\\/727383f2a47bd31570b7da84eee7b022dd6d7c78-knockout.js\"},{\"name\":\"knockout_punches\",\"type\":\"js\",\"url\":\"\\/assetserver\\/382b41b3b1bd9f26f75861d360bad7f8beea211f-knockout_punches.js\"},{\"name\":null,\"type\":\"js\",\"url\":\"\\/assetserver\\/5ab20f1060420992a9b82a65b735dee4d81ef413-all.js\"},{\"name\":null,\"type\":\"css\",\"url\":\"\\/assetserver\\/1cc0ed62837210b80a182cc3676512f895dab686-style.css\"},{\"name\":null,\"type\":\"css\",\"url\":\"\\/assetserver\\/2eee816f616df3549d7044d45e744fbf8d42bfa1-bulma_confined.min.css\"}],\"type\":\"async_block\"},\"id\":\"8365391695864258504\",\"handlers\":{\"changes\":[\"(function (val){return (val!=this.model[\\\"changes\\\"]()) ? (this.valueFromJulia[\\\"changes\\\"]=true, this.model[\\\"changes\\\"](val)) : undefined})\"],\"index\":[\"(function (val){return (val!=this.model[\\\"index\\\"]()) ? (this.valueFromJulia[\\\"index\\\"]=true, this.model[\\\"index\\\"](val)) : undefined})\"]},\"systemjs_options\":null,\"mount_callbacks\":[\"function () {\\n    var handler = (function (ko, koPunches) {\\n    ko.punches.enableAll();\\n    ko.bindingHandlers.numericValue = {\\n        init: function(element, valueAccessor, allBindings, data, context) {\\n            var stringified = ko.observable(ko.unwrap(valueAccessor()));\\n            stringified.subscribe(function(value) {\\n                var val = parseFloat(value);\\n                if (!isNaN(val)) {\\n                    valueAccessor()(val);\\n                }\\n            });\\n            valueAccessor().subscribe(function(value) {\\n                var str = JSON.stringify(value);\\n                if ((str == \\\"0\\\") && ([\\\"-0\\\", \\\"-0.\\\"].indexOf(stringified()) >= 0))\\n                     return;\\n                 if ([\\\"null\\\", \\\"\\\"].indexOf(str) >= 0)\\n                     return;\\n                stringified(str);\\n            });\\n            ko.applyBindingsToNode(\\n                element,\\n                {\\n                    value: stringified,\\n                    valueUpdate: allBindings.get('valueUpdate'),\\n                },\\n                context,\\n            );\\n        }\\n    };\\n    var json_data = {\\\"formatted_vals\\\":[\\\"0.5\\\",\\\"1.0\\\",\\\"1.5\\\",\\\"2.0\\\",\\\"2.5\\\",\\\"3.0\\\",\\\"3.5\\\",\\\"4.0\\\"],\\\"changes\\\":WebIO.getval({\\\"name\\\":\\\"changes\\\",\\\"scope\\\":\\\"8365391695864258504\\\",\\\"id\\\":\\\"646198042768480503\\\",\\\"type\\\":\\\"observable\\\"}),\\\"index\\\":WebIO.getval({\\\"name\\\":\\\"index\\\",\\\"scope\\\":\\\"8365391695864258504\\\",\\\"id\\\":\\\"1005734267147207532\\\",\\\"type\\\":\\\"observable\\\"})};\\n    var self = this;\\n    function AppViewModel() {\\n        for (var key in json_data) {\\n            var el = json_data[key];\\n            this[key] = Array.isArray(el) ? ko.observableArray(el) : ko.observable(el);\\n        }\\n        \\n        [this[\\\"formatted_val\\\"]=ko.computed(    function(){\\n        return this.formatted_vals()[parseInt(this.index())-(1)];\\n    }\\n,this)]\\n        [this[\\\"changes\\\"].subscribe((function (val){!(this.valueFromJulia[\\\"changes\\\"]) ? (WebIO.setval({\\\"name\\\":\\\"changes\\\",\\\"scope\\\":\\\"8365391695864258504\\\",\\\"id\\\":\\\"646198042768480503\\\",\\\"type\\\":\\\"observable\\\"},val)) : undefined; return this.valueFromJulia[\\\"changes\\\"]=false}),self),this[\\\"index\\\"].subscribe((function (val){!(this.valueFromJulia[\\\"index\\\"]) ? (WebIO.setval({\\\"name\\\":\\\"index\\\",\\\"scope\\\":\\\"8365391695864258504\\\",\\\"id\\\":\\\"1005734267147207532\\\",\\\"type\\\":\\\"observable\\\"},val)) : undefined; return this.valueFromJulia[\\\"index\\\"]=false}),self)]\\n        \\n    }\\n    self.model = new AppViewModel();\\n    self.valueFromJulia = {};\\n    for (var key in json_data) {\\n        self.valueFromJulia[key] = false;\\n    }\\n    ko.applyBindings(self.model, self.dom);\\n}\\n);\\n    (WebIO.importBlock({\\\"data\\\":[{\\\"name\\\":\\\"knockout\\\",\\\"type\\\":\\\"js\\\",\\\"url\\\":\\\"\\/assetserver\\/727383f2a47bd31570b7da84eee7b022dd6d7c78-knockout.js\\\"},{\\\"name\\\":\\\"knockout_punches\\\",\\\"type\\\":\\\"js\\\",\\\"url\\\":\\\"\\/assetserver\\/382b41b3b1bd9f26f75861d360bad7f8beea211f-knockout_punches.js\\\"}],\\\"type\\\":\\\"async_block\\\"})).then((imports) => handler.apply(this, imports));\\n}\\n\"],\"observables\":{\"changes\":{\"sync\":false,\"id\":\"646198042768480503\",\"value\":0},\"index\":{\"sync\":true,\"id\":\"1005734267147207532\",\"value\":4}}},\"children\":[{\"props\":{\"className\":\"interact-flex-row interact-widget\"},\"nodeType\":\"DOM\",\"type\":\"node\",\"instanceArgs\":{\"namespace\":\"html\",\"tag\":\"div\"},\"children\":[{\"props\":{\"className\":\"interact-flex-row-left\"},\"nodeType\":\"DOM\",\"type\":\"node\",\"instanceArgs\":{\"namespace\":\"html\",\"tag\":\"div\"},\"children\":[{\"props\":{\"className\":\"interact \",\"style\":{\"padding\":\"5px 10px 0px 10px\"}},\"nodeType\":\"DOM\",\"type\":\"node\",\"instanceArgs\":{\"namespace\":\"html\",\"tag\":\"label\"},\"children\":[\"vis_range\"]}]},{\"props\":{\"className\":\"interact-flex-row-center\"},\"nodeType\":\"DOM\",\"type\":\"node\",\"instanceArgs\":{\"namespace\":\"html\",\"tag\":\"div\"},\"children\":[{\"props\":{\"max\":8,\"min\":1,\"attributes\":{\"type\":\"range\",\"data-bind\":\"numericValue: index, valueUpdate: 'input', event: {change: function (){this.changes(this.changes()+1)}}\",\"orient\":\"horizontal\"},\"step\":1,\"className\":\"slider slider is-fullwidth\",\"style\":{}},\"nodeType\":\"DOM\",\"type\":\"node\",\"instanceArgs\":{\"namespace\":\"html\",\"tag\":\"input\"},\"children\":[]}]},{\"props\":{\"className\":\"interact-flex-row-right\"},\"nodeType\":\"DOM\",\"type\":\"node\",\"instanceArgs\":{\"namespace\":\"html\",\"tag\":\"div\"},\"children\":[{\"props\":{\"attributes\":{\"data-bind\":\"text: formatted_val\"}},\"nodeType\":\"DOM\",\"type\":\"node\",\"instanceArgs\":{\"namespace\":\"html\",\"tag\":\"p\"},\"children\":[]}]}]}]}]}]},{\"props\":{\"style\":{\"display\":\"flex\",\"flex-direction\":\"row\"}},\"nodeType\":\"DOM\",\"type\":\"node\",\"instanceArgs\":{\"namespace\":\"html\",\"tag\":\"div\"},\"children\":[{\"props\":{\"className\":\"interact-widget\"},\"nodeType\":\"DOM\",\"type\":\"node\",\"instanceArgs\":{\"namespace\":\"html\",\"tag\":\"div\"},\"children\":[{\"props\":{},\"nodeType\":\"Scope\",\"type\":\"node\",\"instanceArgs\":{\"imports\":{\"data\":[{\"name\":null,\"type\":\"js\",\"url\":\"\\/assetserver\\/dd22ed1bf1896c2748f3fe616ce0b838adc895c1-katex.min.js\"},{\"name\":null,\"type\":\"css\",\"url\":\"\\/assetserver\\/46517a424aa5e6cffc1360d7e0848b601c584ee3-katex.min.css\"}],\"type\":\"async_block\"},\"id\":\"13150075900387468345\",\"handlers\":{\"value\":[\"(function (txt){return this.k.render(txt,this.container)})\"]},\"systemjs_options\":null,\"mount_callbacks\":[\"function () {\\n    var handler = ((function (k){this.k=k; this.container=this.dom.querySelector(\\\"#container\\\"); return k.render(\\\"\\\\\\\\;\\\\\\\\;\\\",this.container)}));\\n    (WebIO.importBlock({\\\"data\\\":[{\\\"name\\\":null,\\\"type\\\":\\\"js\\\",\\\"url\\\":\\\"\\/assetserver\\/dd22ed1bf1896c2748f3fe616ce0b838adc895c1-katex.min.js\\\"},{\\\"name\\\":null,\\\"type\\\":\\\"css\\\",\\\"url\\\":\\\"\\/assetserver\\/46517a424aa5e6cffc1360d7e0848b601c584ee3-katex.min.css\\\"}],\\\"type\\\":\\\"async_block\\\"})).then((imports) => handler.apply(this, imports));\\n}\\n\"],\"observables\":{\"value\":{\"sync\":false,\"id\":\"5659829449993221217\",\"value\":\"\\\\;\\\\;\"}}},\"children\":[{\"props\":{\"id\":\"container\"},\"nodeType\":\"DOM\",\"type\":\"node\",\"instanceArgs\":{\"namespace\":\"html\",\"tag\":\"div\"},\"children\":[]}]}]},{\"props\":{\"className\":\"field interact-widget\"},\"nodeType\":\"DOM\",\"type\":\"node\",\"instanceArgs\":{\"namespace\":\"html\",\"tag\":\"div\"},\"children\":[{\"props\":{},\"nodeType\":\"Scope\",\"type\":\"node\",\"instanceArgs\":{\"imports\":{\"data\":[{\"name\":\"knockout\",\"type\":\"js\",\"url\":\"\\/assetserver\\/727383f2a47bd31570b7da84eee7b022dd6d7c78-knockout.js\"},{\"name\":\"knockout_punches\",\"type\":\"js\",\"url\":\"\\/assetserver\\/382b41b3b1bd9f26f75861d360bad7f8beea211f-knockout_punches.js\"},{\"name\":null,\"type\":\"js\",\"url\":\"\\/assetserver\\/5ab20f1060420992a9b82a65b735dee4d81ef413-all.js\"},{\"name\":null,\"type\":\"css\",\"url\":\"\\/assetserver\\/1cc0ed62837210b80a182cc3676512f895dab686-style.css\"},{\"name\":null,\"type\":\"css\",\"url\":\"\\/assetserver\\/2eee816f616df3549d7044d45e744fbf8d42bfa1-bulma_confined.min.css\"}],\"type\":\"async_block\"},\"id\":\"7465954281565691332\",\"handlers\":{\"loading\":[\"(function (val){return (val!=this.model[\\\"loading\\\"]()) ? (this.valueFromJulia[\\\"loading\\\"]=true, this.model[\\\"loading\\\"](val)) : undefined})\"],\"clicks\":[\"(function (val){return (val!=this.model[\\\"clicks\\\"]()) ? (this.valueFromJulia[\\\"clicks\\\"]=true, this.model[\\\"clicks\\\"](val)) : undefined})\"]},\"systemjs_options\":null,\"mount_callbacks\":[\"function () {\\n    var handler = (function (ko, koPunches) {\\n    ko.punches.enableAll();\\n    ko.bindingHandlers.numericValue = {\\n        init: function(element, valueAccessor, allBindings, data, context) {\\n            var stringified = ko.observable(ko.unwrap(valueAccessor()));\\n            stringified.subscribe(function(value) {\\n                var val = parseFloat(value);\\n                if (!isNaN(val)) {\\n                    valueAccessor()(val);\\n                }\\n            });\\n            valueAccessor().subscribe(function(value) {\\n                var str = JSON.stringify(value);\\n                if ((str == \\\"0\\\") && ([\\\"-0\\\", \\\"-0.\\\"].indexOf(stringified()) >= 0))\\n                     return;\\n                 if ([\\\"null\\\", \\\"\\\"].indexOf(str) >= 0)\\n                     return;\\n                stringified(str);\\n            });\\n            ko.applyBindingsToNode(\\n                element,\\n                {\\n                    value: stringified,\\n                    valueUpdate: allBindings.get('valueUpdate'),\\n                },\\n                context,\\n            );\\n        }\\n    };\\n    var json_data = {\\\"loading\\\":WebIO.getval({\\\"name\\\":\\\"loading\\\",\\\"scope\\\":\\\"7465954281565691332\\\",\\\"id\\\":\\\"16838969799742972067\\\",\\\"type\\\":\\\"observable\\\"}),\\\"clicks\\\":WebIO.getval({\\\"name\\\":\\\"clicks\\\",\\\"scope\\\":\\\"7465954281565691332\\\",\\\"id\\\":\\\"113417075404998040\\\",\\\"type\\\":\\\"observable\\\"})};\\n    var self = this;\\n    function AppViewModel() {\\n        for (var key in json_data) {\\n            var el = json_data[key];\\n            this[key] = Array.isArray(el) ? ko.observableArray(el) : ko.observable(el);\\n        }\\n        \\n        \\n        [this[\\\"loading\\\"].subscribe((function (val){!(this.valueFromJulia[\\\"loading\\\"]) ? (WebIO.setval({\\\"name\\\":\\\"loading\\\",\\\"scope\\\":\\\"7465954281565691332\\\",\\\"id\\\":\\\"16838969799742972067\\\",\\\"type\\\":\\\"observable\\\"},val)) : undefined; return this.valueFromJulia[\\\"loading\\\"]=false}),self),this[\\\"clicks\\\"].subscribe((function (val){!(this.valueFromJulia[\\\"clicks\\\"]) ? (WebIO.setval({\\\"name\\\":\\\"clicks\\\",\\\"scope\\\":\\\"7465954281565691332\\\",\\\"id\\\":\\\"113417075404998040\\\",\\\"type\\\":\\\"observable\\\"},val)) : undefined; return this.valueFromJulia[\\\"clicks\\\"]=false}),self)]\\n        \\n    }\\n    self.model = new AppViewModel();\\n    self.valueFromJulia = {};\\n    for (var key in json_data) {\\n        self.valueFromJulia[key] = false;\\n    }\\n    ko.applyBindings(self.model, self.dom);\\n}\\n);\\n    (WebIO.importBlock({\\\"data\\\":[{\\\"name\\\":\\\"knockout\\\",\\\"type\\\":\\\"js\\\",\\\"url\\\":\\\"\\/assetserver\\/727383f2a47bd31570b7da84eee7b022dd6d7c78-knockout.js\\\"},{\\\"name\\\":\\\"knockout_punches\\\",\\\"type\\\":\\\"js\\\",\\\"url\\\":\\\"\\/assetserver\\/382b41b3b1bd9f26f75861d360bad7f8beea211f-knockout_punches.js\\\"}],\\\"type\\\":\\\"async_block\\\"})).then((imports) => handler.apply(this, imports));\\n}\\n\"],\"observables\":{\"loading\":{\"sync\":false,\"id\":\"16838969799742972067\",\"value\":false},\"clicks\":{\"sync\":true,\"id\":\"113417075404998040\",\"value\":0}}},\"children\":[{\"props\":{\"attributes\":{\"data-bind\":\"click: function (){this.clicks(this.clicks()+1)}, css: {'is-loading' : loading}\"},\"className\":\"is-medium button is-primary\",\"style\":{}},\"nodeType\":\"DOM\",\"type\":\"node\",\"instanceArgs\":{\"namespace\":\"html\",\"tag\":\"button\"},\"children\":[\"run\"]}]}]},{\"props\":{\"className\":\"interact-widget\"},\"nodeType\":\"DOM\",\"type\":\"node\",\"instanceArgs\":{\"namespace\":\"html\",\"tag\":\"div\"},\"children\":[{\"props\":{},\"nodeType\":\"Scope\",\"type\":\"node\",\"instanceArgs\":{\"imports\":{\"data\":[{\"name\":null,\"type\":\"js\",\"url\":\"\\/assetserver\\/dd22ed1bf1896c2748f3fe616ce0b838adc895c1-katex.min.js\"},{\"name\":null,\"type\":\"css\",\"url\":\"\\/assetserver\\/46517a424aa5e6cffc1360d7e0848b601c584ee3-katex.min.css\"}],\"type\":\"async_block\"},\"id\":\"13150075900387468345\",\"handlers\":{\"value\":[\"(function (txt){return this.k.render(txt,this.container)})\"]},\"systemjs_options\":null,\"mount_callbacks\":[\"function () {\\n    var handler = ((function (k){this.k=k; this.container=this.dom.querySelector(\\\"#container\\\"); return k.render(\\\"\\\\\\\\;\\\\\\\\;\\\",this.container)}));\\n    (WebIO.importBlock({\\\"data\\\":[{\\\"name\\\":null,\\\"type\\\":\\\"js\\\",\\\"url\\\":\\\"\\/assetserver\\/dd22ed1bf1896c2748f3fe616ce0b838adc895c1-katex.min.js\\\"},{\\\"name\\\":null,\\\"type\\\":\\\"css\\\",\\\"url\\\":\\\"\\/assetserver\\/46517a424aa5e6cffc1360d7e0848b601c584ee3-katex.min.css\\\"}],\\\"type\\\":\\\"async_block\\\"})).then((imports) => handler.apply(this, imports));\\n}\\n\"],\"observables\":{\"value\":{\"sync\":false,\"id\":\"5659829449993221217\",\"value\":\"\\\\;\\\\;\"}}},\"children\":[{\"props\":{\"id\":\"container\"},\"nodeType\":\"DOM\",\"type\":\"node\",\"instanceArgs\":{\"namespace\":\"html\",\"tag\":\"div\"},\"children\":[]}]}]},{\"props\":{\"className\":\"field interact-widget\"},\"nodeType\":\"DOM\",\"type\":\"node\",\"instanceArgs\":{\"namespace\":\"html\",\"tag\":\"div\"},\"children\":[{\"props\":{},\"nodeType\":\"Scope\",\"type\":\"node\",\"instanceArgs\":{\"imports\":{\"data\":[{\"name\":\"knockout\",\"type\":\"js\",\"url\":\"\\/assetserver\\/727383f2a47bd31570b7da84eee7b022dd6d7c78-knockout.js\"},{\"name\":\"knockout_punches\",\"type\":\"js\",\"url\":\"\\/assetserver\\/382b41b3b1bd9f26f75861d360bad7f8beea211f-knockout_punches.js\"},{\"name\":null,\"type\":\"js\",\"url\":\"\\/assetserver\\/5ab20f1060420992a9b82a65b735dee4d81ef413-all.js\"},{\"name\":null,\"type\":\"css\",\"url\":\"\\/assetserver\\/1cc0ed62837210b80a182cc3676512f895dab686-style.css\"},{\"name\":null,\"type\":\"css\",\"url\":\"\\/assetserver\\/2eee816f616df3549d7044d45e744fbf8d42bfa1-bulma_confined.min.css\"}],\"type\":\"async_block\"},\"id\":\"4674528476941586543\",\"handlers\":{\"loading\":[\"(function (val){return (val!=this.model[\\\"loading\\\"]()) ? (this.valueFromJulia[\\\"loading\\\"]=true, this.model[\\\"loading\\\"](val)) : undefined})\"],\"clicks\":[\"(function (val){return (val!=this.model[\\\"clicks\\\"]()) ? (this.valueFromJulia[\\\"clicks\\\"]=true, this.model[\\\"clicks\\\"](val)) : undefined})\"]},\"systemjs_options\":null,\"mount_callbacks\":[\"function () {\\n    var handler = (function (ko, koPunches) {\\n    ko.punches.enableAll();\\n    ko.bindingHandlers.numericValue = {\\n        init: function(element, valueAccessor, allBindings, data, context) {\\n            var stringified = ko.observable(ko.unwrap(valueAccessor()));\\n            stringified.subscribe(function(value) {\\n                var val = parseFloat(value);\\n                if (!isNaN(val)) {\\n                    valueAccessor()(val);\\n                }\\n            });\\n            valueAccessor().subscribe(function(value) {\\n                var str = JSON.stringify(value);\\n                if ((str == \\\"0\\\") && ([\\\"-0\\\", \\\"-0.\\\"].indexOf(stringified()) >= 0))\\n                     return;\\n                 if ([\\\"null\\\", \\\"\\\"].indexOf(str) >= 0)\\n                     return;\\n                stringified(str);\\n            });\\n            ko.applyBindingsToNode(\\n                element,\\n                {\\n                    value: stringified,\\n                    valueUpdate: allBindings.get('valueUpdate'),\\n                },\\n                context,\\n            );\\n        }\\n    };\\n    var json_data = {\\\"loading\\\":WebIO.getval({\\\"name\\\":\\\"loading\\\",\\\"scope\\\":\\\"4674528476941586543\\\",\\\"id\\\":\\\"18440248245409420041\\\",\\\"type\\\":\\\"observable\\\"}),\\\"clicks\\\":WebIO.getval({\\\"name\\\":\\\"clicks\\\",\\\"scope\\\":\\\"4674528476941586543\\\",\\\"id\\\":\\\"9497994898700415176\\\",\\\"type\\\":\\\"observable\\\"})};\\n    var self = this;\\n    function AppViewModel() {\\n        for (var key in json_data) {\\n            var el = json_data[key];\\n            this[key] = Array.isArray(el) ? ko.observableArray(el) : ko.observable(el);\\n        }\\n        \\n        \\n        [this[\\\"loading\\\"].subscribe((function (val){!(this.valueFromJulia[\\\"loading\\\"]) ? (WebIO.setval({\\\"name\\\":\\\"loading\\\",\\\"scope\\\":\\\"4674528476941586543\\\",\\\"id\\\":\\\"18440248245409420041\\\",\\\"type\\\":\\\"observable\\\"},val)) : undefined; return this.valueFromJulia[\\\"loading\\\"]=false}),self),this[\\\"clicks\\\"].subscribe((function (val){!(this.valueFromJulia[\\\"clicks\\\"]) ? (WebIO.setval({\\\"name\\\":\\\"clicks\\\",\\\"scope\\\":\\\"4674528476941586543\\\",\\\"id\\\":\\\"9497994898700415176\\\",\\\"type\\\":\\\"observable\\\"},val)) : undefined; return this.valueFromJulia[\\\"clicks\\\"]=false}),self)]\\n        \\n    }\\n    self.model = new AppViewModel();\\n    self.valueFromJulia = {};\\n    for (var key in json_data) {\\n        self.valueFromJulia[key] = false;\\n    }\\n    ko.applyBindings(self.model, self.dom);\\n}\\n);\\n    (WebIO.importBlock({\\\"data\\\":[{\\\"name\\\":\\\"knockout\\\",\\\"type\\\":\\\"js\\\",\\\"url\\\":\\\"\\/assetserver\\/727383f2a47bd31570b7da84eee7b022dd6d7c78-knockout.js\\\"},{\\\"name\\\":\\\"knockout_punches\\\",\\\"type\\\":\\\"js\\\",\\\"url\\\":\\\"\\/assetserver\\/382b41b3b1bd9f26f75861d360bad7f8beea211f-knockout_punches.js\\\"}],\\\"type\\\":\\\"async_block\\\"})).then((imports) => handler.apply(this, imports));\\n}\\n\"],\"observables\":{\"loading\":{\"sync\":false,\"id\":\"18440248245409420041\",\"value\":false},\"clicks\":{\"sync\":true,\"id\":\"9497994898700415176\",\"value\":0}}},\"children\":[{\"props\":{\"attributes\":{\"data-bind\":\"click: function (){this.clicks(this.clicks()+1)}, css: {'is-loading' : loading}\"},\"className\":\"is-medium button is-primary\",\"style\":{}},\"nodeType\":\"DOM\",\"type\":\"node\",\"instanceArgs\":{\"namespace\":\"html\",\"tag\":\"button\"},\"children\":[\"stop\"]}]}]},{\"props\":{\"className\":\"interact-widget\"},\"nodeType\":\"DOM\",\"type\":\"node\",\"instanceArgs\":{\"namespace\":\"html\",\"tag\":\"div\"},\"children\":[{\"props\":{},\"nodeType\":\"Scope\",\"type\":\"node\",\"instanceArgs\":{\"imports\":{\"data\":[{\"name\":null,\"type\":\"js\",\"url\":\"\\/assetserver\\/dd22ed1bf1896c2748f3fe616ce0b838adc895c1-katex.min.js\"},{\"name\":null,\"type\":\"css\",\"url\":\"\\/assetserver\\/46517a424aa5e6cffc1360d7e0848b601c584ee3-katex.min.css\"}],\"type\":\"async_block\"},\"id\":\"13150075900387468345\",\"handlers\":{\"value\":[\"(function (txt){return this.k.render(txt,this.container)})\"]},\"systemjs_options\":null,\"mount_callbacks\":[\"function () {\\n    var handler = ((function (k){this.k=k; this.container=this.dom.querySelector(\\\"#container\\\"); return k.render(\\\"\\\\\\\\;\\\\\\\\;\\\",this.container)}));\\n    (WebIO.importBlock({\\\"data\\\":[{\\\"name\\\":null,\\\"type\\\":\\\"js\\\",\\\"url\\\":\\\"\\/assetserver\\/dd22ed1bf1896c2748f3fe616ce0b838adc895c1-katex.min.js\\\"},{\\\"name\\\":null,\\\"type\\\":\\\"css\\\",\\\"url\\\":\\\"\\/assetserver\\/46517a424aa5e6cffc1360d7e0848b601c584ee3-katex.min.css\\\"}],\\\"type\\\":\\\"async_block\\\"})).then((imports) => handler.apply(this, imports));\\n}\\n\"],\"observables\":{\"value\":{\"sync\":false,\"id\":\"5659829449993221217\",\"value\":\"\\\\;\\\\;\"}}},\"children\":[{\"props\":{\"id\":\"container\"},\"nodeType\":\"DOM\",\"type\":\"node\",\"instanceArgs\":{\"namespace\":\"html\",\"tag\":\"div\"},\"children\":[]}]}]},{\"props\":{\"className\":\"field interact-widget\"},\"nodeType\":\"DOM\",\"type\":\"node\",\"instanceArgs\":{\"namespace\":\"html\",\"tag\":\"div\"},\"children\":[{\"props\":{},\"nodeType\":\"Scope\",\"type\":\"node\",\"instanceArgs\":{\"imports\":{\"data\":[{\"name\":\"knockout\",\"type\":\"js\",\"url\":\"\\/assetserver\\/727383f2a47bd31570b7da84eee7b022dd6d7c78-knockout.js\"},{\"name\":\"knockout_punches\",\"type\":\"js\",\"url\":\"\\/assetserver\\/382b41b3b1bd9f26f75861d360bad7f8beea211f-knockout_punches.js\"},{\"name\":null,\"type\":\"js\",\"url\":\"\\/assetserver\\/5ab20f1060420992a9b82a65b735dee4d81ef413-all.js\"},{\"name\":null,\"type\":\"css\",\"url\":\"\\/assetserver\\/1cc0ed62837210b80a182cc3676512f895dab686-style.css\"},{\"name\":null,\"type\":\"css\",\"url\":\"\\/assetserver\\/2eee816f616df3549d7044d45e744fbf8d42bfa1-bulma_confined.min.css\"}],\"type\":\"async_block\"},\"id\":\"182521876891797808\",\"handlers\":{\"loading\":[\"(function (val){return (val!=this.model[\\\"loading\\\"]()) ? (this.valueFromJulia[\\\"loading\\\"]=true, this.model[\\\"loading\\\"](val)) : undefined})\"],\"clicks\":[\"(function (val){return (val!=this.model[\\\"clicks\\\"]()) ? (this.valueFromJulia[\\\"clicks\\\"]=true, this.model[\\\"clicks\\\"](val)) : undefined})\"]},\"systemjs_options\":null,\"mount_callbacks\":[\"function () {\\n    var handler = (function (ko, koPunches) {\\n    ko.punches.enableAll();\\n    ko.bindingHandlers.numericValue = {\\n        init: function(element, valueAccessor, allBindings, data, context) {\\n            var stringified = ko.observable(ko.unwrap(valueAccessor()));\\n            stringified.subscribe(function(value) {\\n                var val = parseFloat(value);\\n                if (!isNaN(val)) {\\n                    valueAccessor()(val);\\n                }\\n            });\\n            valueAccessor().subscribe(function(value) {\\n                var str = JSON.stringify(value);\\n                if ((str == \\\"0\\\") && ([\\\"-0\\\", \\\"-0.\\\"].indexOf(stringified()) >= 0))\\n                     return;\\n                 if ([\\\"null\\\", \\\"\\\"].indexOf(str) >= 0)\\n                     return;\\n                stringified(str);\\n            });\\n            ko.applyBindingsToNode(\\n                element,\\n                {\\n                    value: stringified,\\n                    valueUpdate: allBindings.get('valueUpdate'),\\n                },\\n                context,\\n            );\\n        }\\n    };\\n    var json_data = {\\\"loading\\\":WebIO.getval({\\\"name\\\":\\\"loading\\\",\\\"scope\\\":\\\"182521876891797808\\\",\\\"id\\\":\\\"15864960831049981033\\\",\\\"type\\\":\\\"observable\\\"}),\\\"clicks\\\":WebIO.getval({\\\"name\\\":\\\"clicks\\\",\\\"scope\\\":\\\"182521876891797808\\\",\\\"id\\\":\\\"994077043001533930\\\",\\\"type\\\":\\\"observable\\\"})};\\n    var self = this;\\n    function AppViewModel() {\\n        for (var key in json_data) {\\n            var el = json_data[key];\\n            this[key] = Array.isArray(el) ? ko.observableArray(el) : ko.observable(el);\\n        }\\n        \\n        \\n        [this[\\\"loading\\\"].subscribe((function (val){!(this.valueFromJulia[\\\"loading\\\"]) ? (WebIO.setval({\\\"name\\\":\\\"loading\\\",\\\"scope\\\":\\\"182521876891797808\\\",\\\"id\\\":\\\"15864960831049981033\\\",\\\"type\\\":\\\"observable\\\"},val)) : undefined; return this.valueFromJulia[\\\"loading\\\"]=false}),self),this[\\\"clicks\\\"].subscribe((function (val){!(this.valueFromJulia[\\\"clicks\\\"]) ? (WebIO.setval({\\\"name\\\":\\\"clicks\\\",\\\"scope\\\":\\\"182521876891797808\\\",\\\"id\\\":\\\"994077043001533930\\\",\\\"type\\\":\\\"observable\\\"},val)) : undefined; return this.valueFromJulia[\\\"clicks\\\"]=false}),self)]\\n        \\n    }\\n    self.model = new AppViewModel();\\n    self.valueFromJulia = {};\\n    for (var key in json_data) {\\n        self.valueFromJulia[key] = false;\\n    }\\n    ko.applyBindings(self.model, self.dom);\\n}\\n);\\n    (WebIO.importBlock({\\\"data\\\":[{\\\"name\\\":\\\"knockout\\\",\\\"type\\\":\\\"js\\\",\\\"url\\\":\\\"\\/assetserver\\/727383f2a47bd31570b7da84eee7b022dd6d7c78-knockout.js\\\"},{\\\"name\\\":\\\"knockout_punches\\\",\\\"type\\\":\\\"js\\\",\\\"url\\\":\\\"\\/assetserver\\/382b41b3b1bd9f26f75861d360bad7f8beea211f-knockout_punches.js\\\"}],\\\"type\\\":\\\"async_block\\\"})).then((imports) => handler.apply(this, imports));\\n}\\n\"],\"observables\":{\"loading\":{\"sync\":false,\"id\":\"15864960831049981033\",\"value\":false},\"clicks\":{\"sync\":true,\"id\":\"994077043001533930\",\"value\":0}}},\"children\":[{\"props\":{\"attributes\":{\"data-bind\":\"click: function (){this.clicks(this.clicks()+1)}, css: {'is-loading' : loading}\"},\"className\":\"is-medium button is-primary\",\"style\":{}},\"nodeType\":\"DOM\",\"type\":\"node\",\"instanceArgs\":{\"namespace\":\"html\",\"tag\":\"button\"},\"children\":[\"reset\"]}]}]},{\"props\":{\"className\":\"interact-widget\"},\"nodeType\":\"DOM\",\"type\":\"node\",\"instanceArgs\":{\"namespace\":\"html\",\"tag\":\"div\"},\"children\":[{\"props\":{},\"nodeType\":\"Scope\",\"type\":\"node\",\"instanceArgs\":{\"imports\":{\"data\":[{\"name\":null,\"type\":\"js\",\"url\":\"\\/assetserver\\/dd22ed1bf1896c2748f3fe616ce0b838adc895c1-katex.min.js\"},{\"name\":null,\"type\":\"css\",\"url\":\"\\/assetserver\\/46517a424aa5e6cffc1360d7e0848b601c584ee3-katex.min.css\"}],\"type\":\"async_block\"},\"id\":\"13150075900387468345\",\"handlers\":{\"value\":[\"(function (txt){return this.k.render(txt,this.container)})\"]},\"systemjs_options\":null,\"mount_callbacks\":[\"function () {\\n    var handler = ((function (k){this.k=k; this.container=this.dom.querySelector(\\\"#container\\\"); return k.render(\\\"\\\\\\\\;\\\\\\\\;\\\",this.container)}));\\n    (WebIO.importBlock({\\\"data\\\":[{\\\"name\\\":null,\\\"type\\\":\\\"js\\\",\\\"url\\\":\\\"\\/assetserver\\/dd22ed1bf1896c2748f3fe616ce0b838adc895c1-katex.min.js\\\"},{\\\"name\\\":null,\\\"type\\\":\\\"css\\\",\\\"url\\\":\\\"\\/assetserver\\/46517a424aa5e6cffc1360d7e0848b601c584ee3-katex.min.css\\\"}],\\\"type\\\":\\\"async_block\\\"})).then((imports) => handler.apply(this, imports));\\n}\\n\"],\"observables\":{\"value\":{\"sync\":false,\"id\":\"5659829449993221217\",\"value\":\"\\\\;\\\\;\"}}},\"children\":[{\"props\":{\"id\":\"container\"},\"nodeType\":\"DOM\",\"type\":\"node\",\"instanceArgs\":{\"namespace\":\"html\",\"tag\":\"div\"},\"children\":[]}]}]},{\"props\":{\"className\":\"field interact-widget\"},\"nodeType\":\"DOM\",\"type\":\"node\",\"instanceArgs\":{\"namespace\":\"html\",\"tag\":\"div\"},\"children\":[{\"props\":{},\"nodeType\":\"Scope\",\"type\":\"node\",\"instanceArgs\":{\"imports\":{\"data\":[{\"name\":\"knockout\",\"type\":\"js\",\"url\":\"\\/assetserver\\/727383f2a47bd31570b7da84eee7b022dd6d7c78-knockout.js\"},{\"name\":\"knockout_punches\",\"type\":\"js\",\"url\":\"\\/assetserver\\/382b41b3b1bd9f26f75861d360bad7f8beea211f-knockout_punches.js\"},{\"name\":null,\"type\":\"js\",\"url\":\"\\/assetserver\\/5ab20f1060420992a9b82a65b735dee4d81ef413-all.js\"},{\"name\":null,\"type\":\"css\",\"url\":\"\\/assetserver\\/1cc0ed62837210b80a182cc3676512f895dab686-style.css\"},{\"name\":null,\"type\":\"css\",\"url\":\"\\/assetserver\\/2eee816f616df3549d7044d45e744fbf8d42bfa1-bulma_confined.min.css\"}],\"type\":\"async_block\"},\"id\":\"6886497314709404963\",\"handlers\":{\"loading\":[\"(function (val){return (val!=this.model[\\\"loading\\\"]()) ? (this.valueFromJulia[\\\"loading\\\"]=true, this.model[\\\"loading\\\"](val)) : undefined})\"],\"clicks\":[\"(function (val){return (val!=this.model[\\\"clicks\\\"]()) ? (this.valueFromJulia[\\\"clicks\\\"]=true, this.model[\\\"clicks\\\"](val)) : undefined})\"]},\"systemjs_options\":null,\"mount_callbacks\":[\"function () {\\n    var handler = (function (ko, koPunches) {\\n    ko.punches.enableAll();\\n    ko.bindingHandlers.numericValue = {\\n        init: function(element, valueAccessor, allBindings, data, context) {\\n            var stringified = ko.observable(ko.unwrap(valueAccessor()));\\n            stringified.subscribe(function(value) {\\n                var val = parseFloat(value);\\n                if (!isNaN(val)) {\\n                    valueAccessor()(val);\\n                }\\n            });\\n            valueAccessor().subscribe(function(value) {\\n                var str = JSON.stringify(value);\\n                if ((str == \\\"0\\\") && ([\\\"-0\\\", \\\"-0.\\\"].indexOf(stringified()) >= 0))\\n                     return;\\n                 if ([\\\"null\\\", \\\"\\\"].indexOf(str) >= 0)\\n                     return;\\n                stringified(str);\\n            });\\n            ko.applyBindingsToNode(\\n                element,\\n                {\\n                    value: stringified,\\n                    valueUpdate: allBindings.get('valueUpdate'),\\n                },\\n                context,\\n            );\\n        }\\n    };\\n    var json_data = {\\\"loading\\\":WebIO.getval({\\\"name\\\":\\\"loading\\\",\\\"scope\\\":\\\"6886497314709404963\\\",\\\"id\\\":\\\"16954657619395586222\\\",\\\"type\\\":\\\"observable\\\"}),\\\"clicks\\\":WebIO.getval({\\\"name\\\":\\\"clicks\\\",\\\"scope\\\":\\\"6886497314709404963\\\",\\\"id\\\":\\\"15271597919889154882\\\",\\\"type\\\":\\\"observable\\\"})};\\n    var self = this;\\n    function AppViewModel() {\\n        for (var key in json_data) {\\n            var el = json_data[key];\\n            this[key] = Array.isArray(el) ? ko.observableArray(el) : ko.observable(el);\\n        }\\n        \\n        \\n        [this[\\\"loading\\\"].subscribe((function (val){!(this.valueFromJulia[\\\"loading\\\"]) ? (WebIO.setval({\\\"name\\\":\\\"loading\\\",\\\"scope\\\":\\\"6886497314709404963\\\",\\\"id\\\":\\\"16954657619395586222\\\",\\\"type\\\":\\\"observable\\\"},val)) : undefined; return this.valueFromJulia[\\\"loading\\\"]=false}),self),this[\\\"clicks\\\"].subscribe((function (val){!(this.valueFromJulia[\\\"clicks\\\"]) ? (WebIO.setval({\\\"name\\\":\\\"clicks\\\",\\\"scope\\\":\\\"6886497314709404963\\\",\\\"id\\\":\\\"15271597919889154882\\\",\\\"type\\\":\\\"observable\\\"},val)) : undefined; return this.valueFromJulia[\\\"clicks\\\"]=false}),self)]\\n        \\n    }\\n    self.model = new AppViewModel();\\n    self.valueFromJulia = {};\\n    for (var key in json_data) {\\n        self.valueFromJulia[key] = false;\\n    }\\n    ko.applyBindings(self.model, self.dom);\\n}\\n);\\n    (WebIO.importBlock({\\\"data\\\":[{\\\"name\\\":\\\"knockout\\\",\\\"type\\\":\\\"js\\\",\\\"url\\\":\\\"\\/assetserver\\/727383f2a47bd31570b7da84eee7b022dd6d7c78-knockout.js\\\"},{\\\"name\\\":\\\"knockout_punches\\\",\\\"type\\\":\\\"js\\\",\\\"url\\\":\\\"\\/assetserver\\/382b41b3b1bd9f26f75861d360bad7f8beea211f-knockout_punches.js\\\"}],\\\"type\\\":\\\"async_block\\\"})).then((imports) => handler.apply(this, imports));\\n}\\n\"],\"observables\":{\"loading\":{\"sync\":false,\"id\":\"16954657619395586222\",\"value\":false},\"clicks\":{\"sync\":true,\"id\":\"15271597919889154882\",\"value\":0}}},\"children\":[{\"props\":{\"attributes\":{\"data-bind\":\"click: function (){this.clicks(this.clicks()+1)}, css: {'is-loading' : loading}\"},\"className\":\"is-medium button is-primary\",\"style\":{}},\"nodeType\":\"DOM\",\"type\":\"node\",\"instanceArgs\":{\"namespace\":\"html\",\"tag\":\"button\"},\"children\":[\"save\"]}]}]}]}]},{\"props\":{\"className\":\"interact-widget\"},\"nodeType\":\"DOM\",\"type\":\"node\",\"instanceArgs\":{\"namespace\":\"html\",\"tag\":\"div\"},\"children\":[{\"props\":{},\"nodeType\":\"Scope\",\"type\":\"node\",\"instanceArgs\":{\"imports\":{\"data\":[{\"name\":null,\"type\":\"js\",\"url\":\"\\/assetserver\\/dd22ed1bf1896c2748f3fe616ce0b838adc895c1-katex.min.js\"},{\"name\":null,\"type\":\"css\",\"url\":\"\\/assetserver\\/46517a424aa5e6cffc1360d7e0848b601c584ee3-katex.min.css\"}],\"type\":\"async_block\"},\"id\":\"13150075900387468345\",\"handlers\":{\"value\":[\"(function (txt){return this.k.render(txt,this.container)})\"]},\"systemjs_options\":null,\"mount_callbacks\":[\"function () {\\n    var handler = ((function (k){this.k=k; this.container=this.dom.querySelector(\\\"#container\\\"); return k.render(\\\"\\\\\\\\;\\\\\\\\;\\\",this.container)}));\\n    (WebIO.importBlock({\\\"data\\\":[{\\\"name\\\":null,\\\"type\\\":\\\"js\\\",\\\"url\\\":\\\"\\/assetserver\\/dd22ed1bf1896c2748f3fe616ce0b838adc895c1-katex.min.js\\\"},{\\\"name\\\":null,\\\"type\\\":\\\"css\\\",\\\"url\\\":\\\"\\/assetserver\\/46517a424aa5e6cffc1360d7e0848b601c584ee3-katex.min.css\\\"}],\\\"type\\\":\\\"async_block\\\"})).then((imports) => handler.apply(this, imports));\\n}\\n\"],\"observables\":{\"value\":{\"sync\":false,\"id\":\"5659829449993221217\",\"value\":\"\\\\;\\\\;\"}}},\"children\":[{\"props\":{\"id\":\"container\"},\"nodeType\":\"DOM\",\"type\":\"node\",\"instanceArgs\":{\"namespace\":\"html\",\"tag\":\"div\"},\"children\":[]}]}]},{\"props\":{},\"nodeType\":\"Scope\",\"type\":\"node\",\"instanceArgs\":{\"imports\":{\"data\":[],\"type\":\"async_block\"},\"id\":\"12791191620295985828\",\"handlers\":{\"obs-output\":[\"function (value, scope) {\\n    scope.setInnerHTML(value);\\n}\\n\"]},\"systemjs_options\":null,\"mount_callbacks\":[],\"observables\":{\"obs-output\":{\"sync\":false,\"id\":\"2617786427775831080\",\"value\":\"<img src='data:image\\/png;base64,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'><\\/img>\"}}},\"children\":[{\"props\":{\"className\":\"webio-observable\",\"setInnerHtml\":\"<img src='data:image\\/png;base64,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'><\\/img>\"},\"nodeType\":\"DOM\",\"type\":\"node\",\"instanceArgs\":{\"namespace\":\"html\",\"tag\":\"div\"},\"children\":[]}]},{\"props\":{\"className\":\"interact-widget\"},\"nodeType\":\"DOM\",\"type\":\"node\",\"instanceArgs\":{\"namespace\":\"html\",\"tag\":\"div\"},\"children\":[{\"props\":{},\"nodeType\":\"Scope\",\"type\":\"node\",\"instanceArgs\":{\"imports\":{\"data\":[{\"name\":null,\"type\":\"js\",\"url\":\"\\/assetserver\\/dd22ed1bf1896c2748f3fe616ce0b838adc895c1-katex.min.js\"},{\"name\":null,\"type\":\"css\",\"url\":\"\\/assetserver\\/46517a424aa5e6cffc1360d7e0848b601c584ee3-katex.min.css\"}],\"type\":\"async_block\"},\"id\":\"13150075900387468345\",\"handlers\":{\"value\":[\"(function (txt){return this.k.render(txt,this.container)})\"]},\"systemjs_options\":null,\"mount_callbacks\":[\"function () {\\n    var handler = ((function (k){this.k=k; this.container=this.dom.querySelector(\\\"#container\\\"); return k.render(\\\"\\\\\\\\;\\\\\\\\;\\\",this.container)}));\\n    (WebIO.importBlock({\\\"data\\\":[{\\\"name\\\":null,\\\"type\\\":\\\"js\\\",\\\"url\\\":\\\"\\/assetserver\\/dd22ed1bf1896c2748f3fe616ce0b838adc895c1-katex.min.js\\\"},{\\\"name\\\":null,\\\"type\\\":\\\"css\\\",\\\"url\\\":\\\"\\/assetserver\\/46517a424aa5e6cffc1360d7e0848b601c584ee3-katex.min.css\\\"}],\\\"type\\\":\\\"async_block\\\"})).then((imports) => handler.apply(this, imports));\\n}\\n\"],\"observables\":{\"value\":{\"sync\":false,\"id\":\"5659829449993221217\",\"value\":\"\\\\;\\\\;\"}}},\"children\":[{\"props\":{\"id\":\"container\"},\"nodeType\":\"DOM\",\"type\":\"node\",\"instanceArgs\":{\"namespace\":\"html\",\"tag\":\"div\"},\"children\":[]}]}]},{\"props\":{\"style\":{\"display\":\"flex\",\"flex-direction\":\"column\"}},\"nodeType\":\"DOM\",\"type\":\"node\",\"instanceArgs\":{\"namespace\":\"html\",\"tag\":\"div\"},\"children\":[]}]}]},\n",
       "        window,\n",
       "    );\n",
       "    })()\n",
       "    </script>\n",
       "</div>\n"
      ],
      "text/plain": [
       "WebIO.Node{WebIO.DOM}(WebIO.DOM(:html, :div), Any[WebIO.Node{WebIO.DOM}(WebIO.DOM(:html, :div), Any[WebIO.Node{WebIO.DOM}(WebIO.DOM(:html, :div), Any[WebIO.Node{WebIO.DOM}(WebIO.DOM(:html, :div), Any[WebIO.Scope(WebIO.Node{WebIO.DOM}(WebIO.DOM(:html, :div), Any[WebIO.Node{WebIO.DOM}(WebIO.DOM(:html, :div), Any[WebIO.Node{WebIO.DOM}(WebIO.DOM(:html, :label), Any[\"time\"], Dict{Symbol, Any}(:className => \"interact \", :style => Dict{Any, Any}(:padding => \"5px 10px 0px 10px\")))], Dict{Symbol, Any}(:className => \"interact-flex-row-left\")), WebIO.Node{WebIO.DOM}(WebIO.DOM(:html, :div), Any[WebIO.Node{WebIO.DOM}(WebIO.DOM(:html, :input), Any[], Dict{Symbol, Any}(:max => 400, :min => 1, :attributes => Dict{Any, Any}(:type => \"range\", Symbol(\"data-bind\") => \"numericValue: index, valueUpdate: 'input', event: {change: function (){this.changes(this.changes()+1)}}\", \"orient\" => \"horizontal\"), :step => 1, :className => \"slider slider is-fullwidth\", :style => Dict{Any, Any}()))], Dict{Symbol, Any}(:className => \"interact-flex-row-center\")), WebIO.Node{WebIO.DOM}(WebIO.DOM(:html, :div), Any[WebIO.Node{WebIO.DOM}(WebIO.DOM(:html, :p), Any[], Dict{Symbol, Any}(:attributes => Dict(\"data-bind\" => \"text: formatted_val\")))], Dict{Symbol, Any}(:className => \"interact-flex-row-right\"))], Dict{Symbol, Any}(:className => \"interact-flex-row interact-widget\")), Dict{String, Tuple{Observables.AbstractObservable, Union{Nothing, Bool}}}(\"changes\" => (Observable(0), nothing), \"index\" => (Observable(1), nothing)), Set{String}(), nothing, WebIO.Asset[WebIO.Asset(\"js\", \"knockout\", \"/home/dushya/.julia/packages/Knockout/HReiN/src/../assets/knockout.js\"), WebIO.Asset(\"js\", \"knockout_punches\", \"/home/dushya/.julia/packages/Knockout/HReiN/src/../assets/knockout_punches.js\"), WebIO.Asset(\"js\", nothing, \"/home/dushya/.julia/packages/InteractBase/LJXv3/src/../assets/all.js\"), WebIO.Asset(\"css\", nothing, \"/home/dushya/.julia/packages/InteractBase/LJXv3/src/../assets/style.css\"), WebIO.Asset(\"css\", nothing, \"/home/dushya/.julia/packages/Interact/PENUy/src/../assets/bulma_confined.min.css\")], Dict{Any, Any}(\"changes\" => Any[WebIO.JSString(\"(function (val){return (val!=this.model[\\\"changes\\\"]()) ? (this.valueFromJulia[\\\"changes\\\"]=true, this.model[\\\"changes\\\"](val)) : undefined})\")], \"index\" => Any[WebIO.JSString(\"(function (val){return (val!=this.model[\\\"index\\\"]()) ? (this.valueFromJulia[\\\"index\\\"]=true, this.model[\\\"index\\\"](val)) : undefined})\")]), WebIO.ConnectionPool(Channel{Any}(32), Set{WebIO.AbstractConnection}(), Base.GenericCondition{ReentrantLock}(Base.IntrusiveLinkedList{Task}(Task (runnable) @0x00007fc26fab5140, Task (runnable) @0x00007fc26fab5140), ReentrantLock(nothing, 0x00000000, 0x00, Base.GenericCondition{Base.Threads.SpinLock}(Base.IntrusiveLinkedList{Task}(nothing, nothing), Base.Threads.SpinLock(0)), (140473761613344, 140473787290688, 0)))), WebIO.JSString[WebIO.JSString(\"function () {\\n    var handler = (function (ko, koPunches) {\\n    ko.punches.enableAll();\\n    ko.bindingHandlers.numericValue = {\\n        init: function(element, valueAccessor, allBindings, data, context) {\\n            var stringified = ko.observable(ko.unwrap(valueAccessor()));\\n            stringified.subscribe(function(value) {\\n                var val = parseFloat(value);\\n                if (!isNaN(val)) {\\n                    valueAccessor()(val);\\n                }\\n            });\\n            valueAccessor().subscribe(function(value) {\\n                var str = JSON.stringify(value);\\n                if ((str == \\\"0\\\") && ([\\\"-0\\\", \\\"-0.\\\"].indexOf(stringified()) >= 0))\\n                     return;\\n                 if ([\\\"null\\\", \\\"\\\"].indexOf(str) >= 0)\\n                     return;\\n                stringified(str);\\n            });\\n            ko.applyBindingsToNode(\\n                element,\\n                {\\n                    value: stringified,\\n                    valueUpdate: allBindings.get('valueUpdate'),\\n                },\\n                context,\\n            );\\n        }\\n    };\\n    var json_data = {\\\"formatted_vals\\\":[\\\"1\\\",\\\"2\\\",\\\"3\\\",\\\"4\\\",\\\"5\\\",\\\"6\\\",\\\"7\\\",\\\"8\\\",\\\"9\\\",\\\"10\\\",\\\"11\\\",\\\"12\\\",\\\"13\\\",\\\"14\\\",\\\"15\\\",\\\"16\\\",\\\"17\\\",\\\"18\\\",\\\"19\\\",\\\"20\\\",\\\"21\\\",\\\"22\\\",\\\"23\\\",\\\"24\\\",\\\"25\\\",\\\"26\\\",\\\"27\\\",\\\"28\\\",\\\"29\\\",\\\"30\\\",\\\"31\\\",\\\"32\\\",\\\"33\\\",\\\"34\\\",\\\"35\\\",\\\"36\\\",\\\"37\\\",\\\"38\\\",\\\"39\\\",\\\"40\\\",\\\"41\\\",\\\"42\\\",\\\"43\\\",\\\"44\\\",\\\"45\\\",\\\"46\\\",\\\"47\\\",\\\"48\\\",\\\"49\\\",\\\"50\\\",\\\"51\\\",\\\"52\\\",\\\"53\\\",\\\"54\\\",\\\"55\\\",\\\"56\\\",\\\"57\\\",\\\"58\\\",\\\"59\\\",\\\"60\\\",\\\"61\\\",\\\"62\\\",\\\"63\\\",\\\"64\\\",\\\"65\\\",\\\"66\\\",\\\"67\\\",\\\"68\\\",\\\"69\\\",\\\"70\\\",\\\"71\\\",\\\"72\\\",\\\"73\\\",\\\"74\\\",\\\"75\\\",\\\"76\\\",\\\"77\\\",\\\"78\\\",\\\"79\\\",\\\"80\\\",\\\"81\\\",\\\"82\\\",\\\"83\\\",\\\"84\\\",\\\"85\\\",\\\"86\\\",\\\"87\\\",\\\"88\\\",\\\"89\\\",\\\"90\\\",\\\"91\\\",\\\"92\\\",\\\"93\\\",\\\"94\\\",\\\"95\\\",\\\"96\\\",\\\"97\\\",\\\"98\\\",\\\"99\\\",\\\"100\\\",\\\"101\\\",\\\"102\\\",\\\"103\\\",\\\"104\\\",\\\"105\\\",\\\"106\\\",\\\"107\\\",\\\"108\\\",\\\"109\\\",\\\"110\\\",\\\"111\\\",\\\"112\\\",\\\"113\\\",\\\"114\\\",\\\"115\\\",\\\"116\\\",\\\"117\\\",\\\"118\\\",\\\"119\\\",\\\"120\\\",\\\"121\\\",\\\"122\\\",\\\"123\\\",\\\"124\\\",\\\"125\\\",\\\"126\\\",\\\"127\\\",\\\"128\\\",\\\"129\\\",\\\"130\\\",\\\"131\\\",\\\"132\\\",\\\"133\\\",\\\"134\\\",\\\"135\\\",\\\"136\\\",\\\"137\\\",\\\"138\\\",\\\"139\\\",\\\"140\\\",\\\"141\\\",\\\"142\\\",\\\"143\\\",\\\"144\\\",\\\"145\\\",\\\"146\\\",\\\"147\\\",\\\"148\\\",\\\"149\\\",\\\"150\\\",\\\"151\\\",\\\"152\\\",\\\"153\\\",\\\"154\\\",\\\"155\\\",\\\"156\\\",\\\"157\\\",\\\"158\\\",\\\"159\\\",\\\"160\\\",\\\"161\\\",\\\"162\\\",\\\"163\\\",\\\"164\\\",\\\"165\\\",\\\"166\\\",\\\"167\\\",\\\"168\\\",\\\"169\\\",\\\"170\\\",\\\"171\\\",\\\"172\\\",\\\"173\\\",\\\"174\\\",\\\"175\\\",\\\"176\\\",\\\"177\\\",\\\"178\\\",\\\"179\\\",\\\"180\\\",\\\"181\\\",\\\"182\\\",\\\"183\\\",\\\"184\\\",\\\"185\\\",\\\"186\\\",\\\"187\\\",\\\"188\\\",\\\"189\\\",\\\"190\\\",\\\"191\\\",\\\"192\\\",\\\"193\\\",\\\"194\\\",\\\"195\\\",\\\"196\\\",\\\"197\\\",\\\"198\\\",\\\"199\\\",\\\"200\\\",\\\"201\\\",\\\"202\\\",\\\"203\\\",\\\"204\\\",\\\"205\\\",\\\"206\\\",\\\"207\\\",\\\"208\\\",\\\"209\\\",\\\"210\\\",\\\"211\\\",\\\"212\\\",\\\"213\\\",\\\"214\\\",\\\"215\\\",\\\"216\\\",\\\"217\\\",\\\"218\\\",\\\"219\\\",\\\"220\\\",\\\"221\\\",\\\"222\\\",\\\"223\\\",\\\"224\\\",\\\"225\\\",\\\"226\\\",\\\"227\\\",\\\"228\\\",\\\"229\\\",\\\"230\\\",\\\"231\\\",\\\"232\\\",\\\"233\\\",\\\"234\\\",\\\"235\\\",\\\"236\\\",\\\"237\\\",\\\"238\\\",\\\"239\\\",\\\"240\\\",\\\"241\\\",\\\"242\\\",\\\"243\\\",\\\"244\\\",\\\"245\\\",\\\"246\\\",\\\"247\\\",\\\"248\\\",\\\"249\\\",\\\"250\\\",\\\"251\\\",\\\"252\\\",\\\"253\\\",\\\"254\\\",\\\"255\\\",\\\"256\\\",\\\"257\\\",\\\"258\\\",\\\"259\\\",\\\"260\\\",\\\"261\\\",\\\"262\\\",\\\"263\\\",\\\"264\\\",\\\"265\\\",\\\"266\\\",\\\"267\\\",\\\"268\\\",\\\"269\\\",\\\"270\\\",\\\"271\\\",\\\"272\\\",\\\"273\\\",\\\"274\\\",\\\"275\\\",\\\"276\\\",\\\"277\\\",\\\"278\\\",\\\"279\\\",\\\"280\\\",\\\"281\\\",\\\"282\\\",\\\"283\\\",\\\"284\\\",\\\"285\\\",\\\"286\\\",\\\"287\\\",\\\"288\\\",\\\"289\\\",\\\"290\\\",\\\"291\\\",\\\"292\\\",\\\"293\\\",\\\"294\\\",\\\"295\\\",\\\"296\\\",\\\"297\\\",\\\"298\\\",\\\"299\\\",\\\"300\\\",\\\"301\\\",\\\"302\\\",\\\"303\\\",\\\"304\\\",\\\"305\\\",\\\"306\\\",\\\"307\\\",\\\"308\\\",\\\"309\\\",\\\"310\\\",\\\"311\\\",\\\"312\\\",\\\"313\\\",\\\"314\\\",\\\"315\\\",\\\"316\\\",\\\"317\\\",\\\"318\\\",\\\"319\\\",\\\"320\\\",\\\"321\\\",\\\"322\\\",\\\"323\\\",\\\"324\\\",\\\"325\\\",\\\"326\\\",\\\"327\\\",\\\"328\\\",\\\"329\\\",\\\"330\\\",\\\"331\\\",\\\"332\\\",\\\"333\\\",\\\"334\\\",\\\"335\\\",\\\"336\\\",\\\"337\\\",\\\"338\\\",\\\"339\\\",\\\"340\\\",\\\"341\\\",\\\"342\\\",\\\"343\\\",\\\"344\\\",\\\"345\\\",\\\"346\\\",\\\"347\\\",\\\"348\\\",\\\"349\\\",\\\"350\\\",\\\"351\\\",\\\"352\\\",\\\"353\\\",\\\"354\\\",\\\"355\\\",\\\"356\\\",\\\"357\\\",\\\"358\\\",\\\"359\\\",\\\"360\\\",\\\"361\\\",\\\"362\\\",\\\"363\\\",\\\"364\\\",\\\"365\\\",\\\"366\\\",\\\"367\\\",\\\"368\\\",\\\"369\\\",\\\"370\\\",\\\"371\\\",\\\"372\\\",\\\"373\\\",\\\"374\\\",\\\"375\\\",\\\"376\\\",\\\"377\\\",\\\"378\\\",\\\"379\\\",\\\"380\\\",\\\"381\\\",\\\"382\\\",\\\"383\\\",\\\"384\\\",\\\"385\\\",\\\"386\\\",\\\"387\\\",\\\"388\\\",\\\"389\\\",\\\"390\\\",\\\"391\\\",\\\"392\\\",\\\"393\\\",\\\"394\\\",\\\"395\\\",\\\"396\\\",\\\"397\\\",\\\"398\\\",\\\"399\\\",\\\"400\\\"],\\\"changes\\\":WebIO.getval({\\\"name\\\":\\\"changes\\\",\\\"scope\\\":\\\"1000217918103658503\\\",\\\"id\\\":\\\"17672522705773282476\\\",\\\"type\\\":\\\"observable\\\"}),\\\"index\\\":WebIO.getval({\\\"name\\\":\\\"index\\\",\\\"scope\\\":\\\"1000217918103658503\\\",\\\"id\\\":\\\"2573055610439081058\\\",\\\"type\\\":\\\"observable\\\"})};\\n    var self = this;\\n    function AppViewModel() {\\n        for (var key in json_data) {\\n            var el = json_data[key];\\n            this[key] = Array.isArray(el) ? ko.observableArray(el) : ko.observable(el);\\n        }\\n        \\n        [this[\\\"formatted_val\\\"]=ko.computed(    function(){\\n        return this.formatted_vals()[parseInt(this.index())-(1)];\\n    }\\n,this)]\\n        [this[\\\"changes\\\"].subscribe((function (val){!(this.valueFromJulia[\\\"changes\\\"]) ? (WebIO.setval({\\\"name\\\":\\\"changes\\\",\\\"scope\\\":\\\"1000217918103658503\\\",\\\"id\\\":\\\"17672522705773282476\\\",\\\"type\\\":\\\"observable\\\"},val)) : undefined; return this.valueFromJulia[\\\"changes\\\"]=false}),self),this[\\\"index\\\"].subscribe((function (val){!(this.valueFromJulia[\\\"index\\\"]) ? (WebIO.setval({\\\"name\\\":\\\"index\\\",\\\"scope\\\":\\\"1000217918103658503\\\",\\\"id\\\":\\\"2573055610439081058\\\",\\\"type\\\":\\\"observable\\\"},val)) : undefined; return this.valueFromJulia[\\\"index\\\"]=false}),self)]\\n        \\n    }\\n    self.model = new AppViewModel();\\n    self.valueFromJulia = {};\\n    for (var key in json_data) {\\n        self.valueFromJulia[key] = false;\\n    }\\n    ko.applyBindings(self.model, self.dom);\\n}\\n);\\n    (WebIO.importBlock({\\\"data\\\":[{\\\"name\\\":\\\"knockout\\\",\\\"type\\\":\\\"js\\\",\\\"url\\\":\\\"/assetserver/727383f2a47bd31570b7da84eee7b022dd6d7c78-knockout.js\\\"},{\\\"name\\\":\\\"knockout_punches\\\",\\\"type\\\":\\\"js\\\",\\\"url\\\":\\\"/assetserver/382b41b3b1bd9f26f75861d360bad7f8beea211f-knockout_punches.js\\\"}],\\\"type\\\":\\\"async_block\\\"})).then((imports) => handler.apply(this, imports));\\n}\\n\")])], Dict{Symbol, Any}(:className => \"field interact-widget\")), WebIO.Node{WebIO.DOM}(WebIO.DOM(:html, :div), Any[WebIO.Scope(WebIO.Node{WebIO.DOM}(WebIO.DOM(:html, :div), Any[WebIO.Node{WebIO.DOM}(WebIO.DOM(:html, :div), Any[WebIO.Node{WebIO.DOM}(WebIO.DOM(:html, :label), Any[\"scale\"], Dict{Symbol, Any}(:className => \"interact \", :style => Dict{Any, Any}(:padding => \"5px 10px 0px 10px\")))], Dict{Symbol, Any}(:className => \"interact-flex-row-left\")), WebIO.Node{WebIO.DOM}(WebIO.DOM(:html, :div), Any[WebIO.Node{WebIO.DOM}(WebIO.DOM(:html, :input), Any[], Dict{Symbol, Any}(:max => 20, :min => 1, :attributes => Dict{Any, Any}(:type => \"range\", Symbol(\"data-bind\") => \"numericValue: index, valueUpdate: 'input', event: {change: function (){this.changes(this.changes()+1)}}\", \"orient\" => \"horizontal\"), :step => 1, :className => \"slider slider is-fullwidth\", :style => Dict{Any, Any}()))], Dict{Symbol, Any}(:className => \"interact-flex-row-center\")), WebIO.Node{WebIO.DOM}(WebIO.DOM(:html, :div), Any[WebIO.Node{WebIO.DOM}(WebIO.DOM(:html, :p), Any[], Dict{Symbol, Any}(:attributes => Dict(\"data-bind\" => \"text: formatted_val\")))], Dict{Symbol, Any}(:className => \"interact-flex-row-right\"))], Dict{Symbol, Any}(:className => \"interact-flex-row interact-widget\")), Dict{String, Tuple{Observables.AbstractObservable, Union{Nothing, Bool}}}(\"changes\" => (Observable(0), nothing), \"index\" => (Observable{Any}(10), nothing)), Set{String}(), nothing, WebIO.Asset[WebIO.Asset(\"js\", \"knockout\", \"/home/dushya/.julia/packages/Knockout/HReiN/src/../assets/knockout.js\"), WebIO.Asset(\"js\", \"knockout_punches\", \"/home/dushya/.julia/packages/Knockout/HReiN/src/../assets/knockout_punches.js\"), WebIO.Asset(\"js\", nothing, \"/home/dushya/.julia/packages/InteractBase/LJXv3/src/../assets/all.js\"), WebIO.Asset(\"css\", nothing, \"/home/dushya/.julia/packages/InteractBase/LJXv3/src/../assets/style.css\"), WebIO.Asset(\"css\", nothing, \"/home/dushya/.julia/packages/Interact/PENUy/src/../assets/bulma_confined.min.css\")], Dict{Any, Any}(\"changes\" => Any[WebIO.JSString(\"(function (val){return (val!=this.model[\\\"changes\\\"]()) ? (this.valueFromJulia[\\\"changes\\\"]=true, this.model[\\\"changes\\\"](val)) : undefined})\")], \"index\" => Any[WebIO.JSString(\"(function (val){return (val!=this.model[\\\"index\\\"]()) ? (this.valueFromJulia[\\\"index\\\"]=true, this.model[\\\"index\\\"](val)) : undefined})\")]), WebIO.ConnectionPool(Channel{Any}(32), Set{WebIO.AbstractConnection}(), Base.GenericCondition{ReentrantLock}(Base.IntrusiveLinkedList{Task}(Task (runnable) @0x00007fc26fab7850, Task (runnable) @0x00007fc26fab7850), ReentrantLock(nothing, 0x00000000, 0x00, Base.GenericCondition{Base.Threads.SpinLock}(Base.IntrusiveLinkedList{Task}(nothing, nothing), Base.Threads.SpinLock(0)), (0, 0, 141733920768)))), WebIO.JSString[WebIO.JSString(\"function () {\\n    var handler = (function (ko, koPunches) {\\n    ko.punches.enableAll();\\n    ko.bindingHandlers.numericValue = {\\n        init: function(element, valueAccessor, allBindings, data, context) {\\n            var stringified = ko.observable(ko.unwrap(valueAccessor()));\\n            stringified.subscribe(function(value) {\\n                var val = parseFloat(value);\\n                if (!isNaN(val)) {\\n                    valueAccessor()(val);\\n                }\\n            });\\n            valueAccessor().subscribe(function(value) {\\n                var str = JSON.stringify(value);\\n                if ((str == \\\"0\\\") && ([\\\"-0\\\", \\\"-0.\\\"].indexOf(stringified()) >= 0))\\n                     return;\\n                 if ([\\\"null\\\", \\\"\\\"].indexOf(str) >= 0)\\n                     return;\\n                stringified(str);\\n            });\\n            ko.applyBindingsToNode(\\n                element,\\n                {\\n                    value: stringified,\\n                    valueUpdate: allBindings.get('valueUpdate'),\\n                },\\n                context,\\n            );\\n        }\\n    };\\n    var json_data = {\\\"formatted_vals\\\":[\\\"0.1\\\",\\\"0.2\\\",\\\"0.3\\\",\\\"0.4\\\",\\\"0.5\\\",\\\"0.6\\\",\\\"0.7\\\",\\\"0.8\\\",\\\"0.9\\\",\\\"1.0\\\",\\\"1.1\\\",\\\"1.2\\\",\\\"1.3\\\",\\\"1.4\\\",\\\"1.5\\\",\\\"1.6\\\",\\\"1.7\\\",\\\"1.8\\\",\\\"1.9\\\",\\\"2.0\\\"],\\\"changes\\\":WebIO.getval({\\\"name\\\":\\\"changes\\\",\\\"scope\\\":\\\"13911821769824218451\\\",\\\"id\\\":\\\"15005257445741500830\\\",\\\"type\\\":\\\"observable\\\"}),\\\"index\\\":WebIO.getval({\\\"name\\\":\\\"index\\\",\\\"scope\\\":\\\"13911821769824218451\\\",\\\"id\\\":\\\"7566740207945339703\\\",\\\"type\\\":\\\"observable\\\"})};\\n    var self = this;\\n    function AppViewModel() {\\n        for (var key in json_data) {\\n            var el = json_data[key];\\n            this[key] = Array.isArray(el) ? ko.observableArray(el) : ko.observable(el);\\n        }\\n        \\n        [this[\\\"formatted_val\\\"]=ko.computed(    function(){\\n        return this.formatted_vals()[parseInt(this.index())-(1)];\\n    }\\n,this)]\\n        [this[\\\"changes\\\"].subscribe((function (val){!(this.valueFromJulia[\\\"changes\\\"]) ? (WebIO.setval({\\\"name\\\":\\\"changes\\\",\\\"scope\\\":\\\"13911821769824218451\\\",\\\"id\\\":\\\"15005257445741500830\\\",\\\"type\\\":\\\"observable\\\"},val)) : undefined; return this.valueFromJulia[\\\"changes\\\"]=false}),self),this[\\\"index\\\"].subscribe((function (val){!(this.valueFromJulia[\\\"index\\\"]) ? (WebIO.setval({\\\"name\\\":\\\"index\\\",\\\"scope\\\":\\\"13911821769824218451\\\",\\\"id\\\":\\\"7566740207945339703\\\",\\\"type\\\":\\\"observable\\\"},val)) : undefined; return this.valueFromJulia[\\\"index\\\"]=false}),self)]\\n        \\n    }\\n    self.model = new AppViewModel();\\n    self.valueFromJulia = {};\\n    for (var key in json_data) {\\n        self.valueFromJulia[key] = false;\\n    }\\n    ko.applyBindings(self.model, self.dom);\\n}\\n);\\n    (WebIO.importBlock({\\\"data\\\":[{\\\"name\\\":\\\"knockout\\\",\\\"type\\\":\\\"js\\\",\\\"url\\\":\\\"/assetserver/727383f2a47bd31570b7da84eee7b022dd6d7c78-knockout.js\\\"},{\\\"name\\\":\\\"knockout_punches\\\",\\\"type\\\":\\\"js\\\",\\\"url\\\":\\\"/assetserver/382b41b3b1bd9f26f75861d360bad7f8beea211f-knockout_punches.js\\\"}],\\\"type\\\":\\\"async_block\\\"})).then((imports) => handler.apply(this, imports));\\n}\\n\")])], Dict{Symbol, Any}(:className => \"field interact-widget\")), WebIO.Node{WebIO.DOM}(WebIO.DOM(:html, :div), Any[], Dict{Symbol, Any}(:style => Dict(\"display\" => \"flex\", \"flex-direction\" => \"column\"))), WebIO.Node{WebIO.DOM}(WebIO.DOM(:html, :div), Any[WebIO.Node{WebIO.DOM}(WebIO.DOM(:html, :div), Any[WebIO.Scope(WebIO.Node{WebIO.DOM}(WebIO.DOM(:html, :div), Any[WebIO.Node{WebIO.DOM}(WebIO.DOM(:html, :div), Any[WebIO.Node{WebIO.DOM}(WebIO.DOM(:html, :label), Any[\"min_dis\"], Dict{Symbol, Any}(:className => \"interact \", :style => Dict{Any, Any}(:padding => \"5px 10px 0px 10px\")))], Dict{Symbol, Any}(:className => \"interact-flex-row-left\")), WebIO.Node{WebIO.DOM}(WebIO.DOM(:html, :div), Any[WebIO.Node{WebIO.DOM}(WebIO.DOM(:html, :input), Any[], Dict{Symbol, Any}(:max => 10, :min => 1, :attributes => Dict{Any, Any}(:type => \"range\", Symbol(\"data-bind\") => \"numericValue: index, valueUpdate: 'input', event: {change: function (){this.changes(this.changes()+1)}}\", \"orient\" => \"horizontal\"), :step => 1, :className => \"slider slider is-fullwidth\", :style => Dict{Any, Any}()))], Dict{Symbol, Any}(:className => \"interact-flex-row-center\")), WebIO.Node{WebIO.DOM}(WebIO.DOM(:html, :div), Any[WebIO.Node{WebIO.DOM}(WebIO.DOM(:html, :p), Any[], Dict{Symbol, Any}(:attributes => Dict(\"data-bind\" => \"text: formatted_val\")))], Dict{Symbol, Any}(:className => \"interact-flex-row-right\"))], Dict{Symbol, Any}(:className => \"interact-flex-row interact-widget\")), Dict{String, Tuple{Observables.AbstractObservable, Union{Nothing, Bool}}}(\"changes\" => (Observable(0), nothing), \"index\" => (Observable{Any}(5), nothing)), Set{String}(), nothing, WebIO.Asset[WebIO.Asset(\"js\", \"knockout\", \"/home/dushya/.julia/packages/Knockout/HReiN/src/../assets/knockout.js\"), WebIO.Asset(\"js\", \"knockout_punches\", \"/home/dushya/.julia/packages/Knockout/HReiN/src/../assets/knockout_punches.js\"), WebIO.Asset(\"js\", nothing, \"/home/dushya/.julia/packages/InteractBase/LJXv3/src/../assets/all.js\"), WebIO.Asset(\"css\", nothing, \"/home/dushya/.julia/packages/InteractBase/LJXv3/src/../assets/style.css\"), WebIO.Asset(\"css\", nothing, \"/home/dushya/.julia/packages/Interact/PENUy/src/../assets/bulma_confined.min.css\")], Dict{Any, Any}(\"changes\" => Any[WebIO.JSString(\"(function (val){return (val!=this.model[\\\"changes\\\"]()) ? (this.valueFromJulia[\\\"changes\\\"]=true, this.model[\\\"changes\\\"](val)) : undefined})\")], \"index\" => Any[WebIO.JSString(\"(function (val){return (val!=this.model[\\\"index\\\"]()) ? (this.valueFromJulia[\\\"index\\\"]=true, this.model[\\\"index\\\"](val)) : undefined})\")]), WebIO.ConnectionPool(Channel{Any}(32), Set{WebIO.AbstractConnection}(), Base.GenericCondition{ReentrantLock}(Base.IntrusiveLinkedList{Task}(Task (runnable) @0x00007fc26fb9c970, Task (runnable) @0x00007fc26fb9c970), ReentrantLock(nothing, 0x00000000, 0x00, Base.GenericCondition{Base.Threads.SpinLock}(Base.IntrusiveLinkedList{Task}(nothing, nothing), Base.Threads.SpinLock(0)), (140473787281312, 140473787290688, 0)))), WebIO.JSString[WebIO.JSString(\"function () {\\n    var handler = (function (ko, koPunches) {\\n    ko.punches.enableAll();\\n    ko.bindingHandlers.numericValue = {\\n        init: function(element, valueAccessor, allBindings, data, context) {\\n            var stringified = ko.observable(ko.unwrap(valueAccessor()));\\n            stringified.subscribe(function(value) {\\n                var val = parseFloat(value);\\n                if (!isNaN(val)) {\\n                    valueAccessor()(val);\\n                }\\n            });\\n            valueAccessor().subscribe(function(value) {\\n                var str = JSON.stringify(value);\\n                if ((str == \\\"0\\\") && ([\\\"-0\\\", \\\"-0.\\\"].indexOf(stringified()) >= 0))\\n                     return;\\n                 if ([\\\"null\\\", \\\"\\\"].indexOf(str) >= 0)\\n                     return;\\n                stringified(str);\\n            });\\n            ko.applyBindingsToNode(\\n                element,\\n                {\\n                    value: stringified,\\n                    valueUpdate: allBindings.get('valueUpdate'),\\n                },\\n                context,\\n            );\\n        }\\n    };\\n    var json_data = {\\\"formatted_vals\\\":[\\\"0.01\\\",\\\"0.11\\\",\\\"0.21\\\",\\\"0.31\\\",\\\"0.41\\\",\\\"0.51\\\",\\\"0.61\\\",\\\"0.71\\\",\\\"0.81\\\",\\\"0.91\\\"],\\\"changes\\\":WebIO.getval({\\\"name\\\":\\\"changes\\\",\\\"scope\\\":\\\"13758014002278350896\\\",\\\"id\\\":\\\"1232530509246080630\\\",\\\"type\\\":\\\"observable\\\"}),\\\"index\\\":WebIO.getval({\\\"name\\\":\\\"index\\\",\\\"scope\\\":\\\"13758014002278350896\\\",\\\"id\\\":\\\"14691121323510246723\\\",\\\"type\\\":\\\"observable\\\"})};\\n    var self = this;\\n    function AppViewModel() {\\n        for (var key in json_data) {\\n            var el = json_data[key];\\n            this[key] = Array.isArray(el) ? ko.observableArray(el) : ko.observable(el);\\n        }\\n        \\n        [this[\\\"formatted_val\\\"]=ko.computed(    function(){\\n        return this.formatted_vals()[parseInt(this.index())-(1)];\\n    }\\n,this)]\\n        [this[\\\"changes\\\"].subscribe((function (val){!(this.valueFromJulia[\\\"changes\\\"]) ? (WebIO.setval({\\\"name\\\":\\\"changes\\\",\\\"scope\\\":\\\"13758014002278350896\\\",\\\"id\\\":\\\"1232530509246080630\\\",\\\"type\\\":\\\"observable\\\"},val)) : undefined; return this.valueFromJulia[\\\"changes\\\"]=false}),self),this[\\\"index\\\"].subscribe((function (val){!(this.valueFromJulia[\\\"index\\\"]) ? (WebIO.setval({\\\"name\\\":\\\"index\\\",\\\"scope\\\":\\\"13758014002278350896\\\",\\\"id\\\":\\\"14691121323510246723\\\",\\\"type\\\":\\\"observable\\\"},val)) : undefined; return this.valueFromJulia[\\\"index\\\"]=false}),self)]\\n        \\n    }\\n    self.model = new AppViewModel();\\n    self.valueFromJulia = {};\\n    for (var key in json_data) {\\n        self.valueFromJulia[key] = false;\\n    }\\n    ko.applyBindings(self.model, self.dom);\\n}\\n);\\n    (WebIO.importBlock({\\\"data\\\":[{\\\"name\\\":\\\"knockout\\\",\\\"type\\\":\\\"js\\\",\\\"url\\\":\\\"/assetserver/727383f2a47bd31570b7da84eee7b022dd6d7c78-knockout.js\\\"},{\\\"name\\\":\\\"knockout_punches\\\",\\\"type\\\":\\\"js\\\",\\\"url\\\":\\\"/assetserver/382b41b3b1bd9f26f75861d360bad7f8beea211f-knockout_punches.js\\\"}],\\\"type\\\":\\\"async_block\\\"})).then((imports) => handler.apply(this, imports));\\n}\\n\")])], Dict{Symbol, Any}(:className => \"field interact-widget\")), WebIO.Node{WebIO.DOM}(WebIO.DOM(:html, :div), Any[WebIO.Scope(WebIO.Node{WebIO.DOM}(WebIO.DOM(:html, :div), Any[WebIO.Node{WebIO.DOM}(WebIO.DOM(:html, :div), Any[WebIO.Node{WebIO.DOM}(WebIO.DOM(:html, :label), Any[\"coh_fac\"], Dict{Symbol, Any}(:className => \"interact \", :style => Dict{Any, Any}(:padding => \"5px 10px 0px 10px\")))], Dict{Symbol, Any}(:className => \"interact-flex-row-left\")), WebIO.Node{WebIO.DOM}(WebIO.DOM(:html, :div), Any[WebIO.Node{WebIO.DOM}(WebIO.DOM(:html, :input), Any[], Dict{Symbol, Any}(:max => 100, :min => 1, :attributes => Dict{Any, Any}(:type => \"range\", Symbol(\"data-bind\") => \"numericValue: index, valueUpdate: 'input', event: {change: function (){this.changes(this.changes()+1)}}\", \"orient\" => \"horizontal\"), :step => 1, :className => \"slider slider is-fullwidth\", :style => Dict{Any, Any}()))], Dict{Symbol, Any}(:className => \"interact-flex-row-center\")), WebIO.Node{WebIO.DOM}(WebIO.DOM(:html, :div), Any[WebIO.Node{WebIO.DOM}(WebIO.DOM(:html, :p), Any[], Dict{Symbol, Any}(:attributes => Dict(\"data-bind\" => \"text: formatted_val\")))], Dict{Symbol, Any}(:className => \"interact-flex-row-right\"))], Dict{Symbol, Any}(:className => \"interact-flex-row interact-widget\")), Dict{String, Tuple{Observables.AbstractObservable, Union{Nothing, Bool}}}(\"changes\" => (Observable(0), nothing), \"index\" => (Observable{Any}(50), nothing)), Set{String}(), nothing, WebIO.Asset[WebIO.Asset(\"js\", \"knockout\", \"/home/dushya/.julia/packages/Knockout/HReiN/src/../assets/knockout.js\"), WebIO.Asset(\"js\", \"knockout_punches\", \"/home/dushya/.julia/packages/Knockout/HReiN/src/../assets/knockout_punches.js\"), WebIO.Asset(\"js\", nothing, \"/home/dushya/.julia/packages/InteractBase/LJXv3/src/../assets/all.js\"), WebIO.Asset(\"css\", nothing, \"/home/dushya/.julia/packages/InteractBase/LJXv3/src/../assets/style.css\"), WebIO.Asset(\"css\", nothing, \"/home/dushya/.julia/packages/Interact/PENUy/src/../assets/bulma_confined.min.css\")], Dict{Any, Any}(\"changes\" => Any[WebIO.JSString(\"(function (val){return (val!=this.model[\\\"changes\\\"]()) ? (this.valueFromJulia[\\\"changes\\\"]=true, this.model[\\\"changes\\\"](val)) : undefined})\")], \"index\" => Any[WebIO.JSString(\"(function (val){return (val!=this.model[\\\"index\\\"]()) ? (this.valueFromJulia[\\\"index\\\"]=true, this.model[\\\"index\\\"](val)) : undefined})\")]), WebIO.ConnectionPool(Channel{Any}(32), Set{WebIO.AbstractConnection}(), Base.GenericCondition{ReentrantLock}(Base.IntrusiveLinkedList{Task}(Task (runnable) @0x00007fc26fb9f080, Task (runnable) @0x00007fc26fb9f080), ReentrantLock(nothing, 0x00000000, 0x00, Base.GenericCondition{Base.Threads.SpinLock}(Base.IntrusiveLinkedList{Task}(nothing, nothing), Base.Threads.SpinLock(0)), (0, 0, 0)))), WebIO.JSString[WebIO.JSString(\"function () {\\n    var handler = (function (ko, koPunches) {\\n    ko.punches.enableAll();\\n    ko.bindingHandlers.numericValue = {\\n        init: function(element, valueAccessor, allBindings, data, context) {\\n            var stringified = ko.observable(ko.unwrap(valueAccessor()));\\n            stringified.subscribe(function(value) {\\n                var val = parseFloat(value);\\n                if (!isNaN(val)) {\\n                    valueAccessor()(val);\\n                }\\n            });\\n            valueAccessor().subscribe(function(value) {\\n                var str = JSON.stringify(value);\\n                if ((str == \\\"0\\\") && ([\\\"-0\\\", \\\"-0.\\\"].indexOf(stringified()) >= 0))\\n                     return;\\n                 if ([\\\"null\\\", \\\"\\\"].indexOf(str) >= 0)\\n                     return;\\n                stringified(str);\\n            });\\n            ko.applyBindingsToNode(\\n                element,\\n                {\\n                    value: stringified,\\n                    valueUpdate: allBindings.get('valueUpdate'),\\n                },\\n                context,\\n            );\\n        }\\n    };\\n    var json_data = {\\\"formatted_vals\\\":[\\\"0.01\\\",\\\"0.02\\\",\\\"0.03\\\",\\\"0.04\\\",\\\"0.05\\\",\\\"0.06\\\",\\\"0.07\\\",\\\"0.08\\\",\\\"0.09\\\",\\\"0.1\\\",\\\"0.11\\\",\\\"0.12\\\",\\\"0.13\\\",\\\"0.14\\\",\\\"0.15\\\",\\\"0.16\\\",\\\"0.17\\\",\\\"0.18\\\",\\\"0.19\\\",\\\"0.2\\\",\\\"0.21\\\",\\\"0.22\\\",\\\"0.23\\\",\\\"0.24\\\",\\\"0.25\\\",\\\"0.26\\\",\\\"0.27\\\",\\\"0.28\\\",\\\"0.29\\\",\\\"0.3\\\",\\\"0.31\\\",\\\"0.32\\\",\\\"0.33\\\",\\\"0.34\\\",\\\"0.35\\\",\\\"0.36\\\",\\\"0.37\\\",\\\"0.38\\\",\\\"0.39\\\",\\\"0.4\\\",\\\"0.41\\\",\\\"0.42\\\",\\\"0.43\\\",\\\"0.44\\\",\\\"0.45\\\",\\\"0.46\\\",\\\"0.47\\\",\\\"0.48\\\",\\\"0.49\\\",\\\"0.5\\\",\\\"0.51\\\",\\\"0.52\\\",\\\"0.53\\\",\\\"0.54\\\",\\\"0.55\\\",\\\"0.56\\\",\\\"0.57\\\",\\\"0.58\\\",\\\"0.59\\\",\\\"0.6\\\",\\\"0.61\\\",\\\"0.62\\\",\\\"0.63\\\",\\\"0.64\\\",\\\"0.65\\\",\\\"0.66\\\",\\\"0.67\\\",\\\"0.68\\\",\\\"0.69\\\",\\\"0.7\\\",\\\"0.71\\\",\\\"0.72\\\",\\\"0.73\\\",\\\"0.74\\\",\\\"0.75\\\",\\\"0.76\\\",\\\"0.77\\\",\\\"0.78\\\",\\\"0.79\\\",\\\"0.8\\\",\\\"0.81\\\",\\\"0.82\\\",\\\"0.83\\\",\\\"0.84\\\",\\\"0.85\\\",\\\"0.86\\\",\\\"0.87\\\",\\\"0.88\\\",\\\"0.89\\\",\\\"0.9\\\",\\\"0.91\\\",\\\"0.92\\\",\\\"0.93\\\",\\\"0.94\\\",\\\"0.95\\\",\\\"0.96\\\",\\\"0.97\\\",\\\"0.98\\\",\\\"0.99\\\",\\\"1.0\\\"],\\\"changes\\\":WebIO.getval({\\\"name\\\":\\\"changes\\\",\\\"scope\\\":\\\"8533126841913947296\\\",\\\"id\\\":\\\"9304112103411616300\\\",\\\"type\\\":\\\"observable\\\"}),\\\"index\\\":WebIO.getval({\\\"name\\\":\\\"index\\\",\\\"scope\\\":\\\"8533126841913947296\\\",\\\"id\\\":\\\"4093139992847638124\\\",\\\"type\\\":\\\"observable\\\"})};\\n    var self = this;\\n    function AppViewModel() {\\n        for (var key in json_data) {\\n            var el = json_data[key];\\n            this[key] = Array.isArray(el) ? ko.observableArray(el) : ko.observable(el);\\n        }\\n        \\n        [this[\\\"formatted_val\\\"]=ko.computed(    function(){\\n        return this.formatted_vals()[parseInt(this.index())-(1)];\\n    }\\n,this)]\\n        [this[\\\"changes\\\"].subscribe((function (val){!(this.valueFromJulia[\\\"changes\\\"]) ? (WebIO.setval({\\\"name\\\":\\\"changes\\\",\\\"scope\\\":\\\"8533126841913947296\\\",\\\"id\\\":\\\"9304112103411616300\\\",\\\"type\\\":\\\"observable\\\"},val)) : undefined; return this.valueFromJulia[\\\"changes\\\"]=false}),self),this[\\\"index\\\"].subscribe((function (val){!(this.valueFromJulia[\\\"index\\\"]) ? (WebIO.setval({\\\"name\\\":\\\"index\\\",\\\"scope\\\":\\\"8533126841913947296\\\",\\\"id\\\":\\\"4093139992847638124\\\",\\\"type\\\":\\\"observable\\\"},val)) : undefined; return this.valueFromJulia[\\\"index\\\"]=false}),self)]\\n        \\n    }\\n    self.model = new AppViewModel();\\n    self.valueFromJulia = {};\\n    for (var key in json_data) {\\n        self.valueFromJulia[key] = false;\\n    }\\n    ko.applyBindings(self.model, self.dom);\\n}\\n);\\n    (WebIO.importBlock({\\\"data\\\":[{\\\"name\\\":\\\"knockout\\\",\\\"type\\\":\\\"js\\\",\\\"url\\\":\\\"/assetserver/727383f2a47bd31570b7da84eee7b022dd6d7c78-knockout.js\\\"},{\\\"name\\\":\\\"knockout_punches\\\",\\\"type\\\":\\\"js\\\",\\\"url\\\":\\\"/assetserver/382b41b3b1bd9f26f75861d360bad7f8beea211f-knockout_punches.js\\\"}],\\\"type\\\":\\\"async_block\\\"})).then((imports) => handler.apply(this, imports));\\n}\\n\")])], Dict{Symbol, Any}(:className => \"field interact-widget\")), WebIO.Node{WebIO.DOM}(WebIO.DOM(:html, :div), Any[WebIO.Scope(WebIO.Node{WebIO.DOM}(WebIO.DOM(:html, :div), Any[WebIO.Node{WebIO.DOM}(WebIO.DOM(:html, :div), Any[WebIO.Node{WebIO.DOM}(WebIO.DOM(:html, :label), Any[\"sep_fac\"], Dict{Symbol, Any}(:className => \"interact \", :style => Dict{Any, Any}(:padding => \"5px 10px 0px 10px\")))], Dict{Symbol, Any}(:className => \"interact-flex-row-left\")), WebIO.Node{WebIO.DOM}(WebIO.DOM(:html, :div), Any[WebIO.Node{WebIO.DOM}(WebIO.DOM(:html, :input), Any[], Dict{Symbol, Any}(:max => 100, :min => 1, :attributes => Dict{Any, Any}(:type => \"range\", Symbol(\"data-bind\") => \"numericValue: index, valueUpdate: 'input', event: {change: function (){this.changes(this.changes()+1)}}\", \"orient\" => \"horizontal\"), :step => 1, :className => \"slider slider is-fullwidth\", :style => Dict{Any, Any}()))], Dict{Symbol, Any}(:className => \"interact-flex-row-center\")), WebIO.Node{WebIO.DOM}(WebIO.DOM(:html, :div), Any[WebIO.Node{WebIO.DOM}(WebIO.DOM(:html, :p), Any[], Dict{Symbol, Any}(:attributes => Dict(\"data-bind\" => \"text: formatted_val\")))], Dict{Symbol, Any}(:className => \"interact-flex-row-right\"))], Dict{Symbol, Any}(:className => \"interact-flex-row interact-widget\")), Dict{String, Tuple{Observables.AbstractObservable, Union{Nothing, Bool}}}(\"changes\" => (Observable(0), nothing), \"index\" => (Observable{Any}(50), nothing)), Set{String}(), nothing, WebIO.Asset[WebIO.Asset(\"js\", \"knockout\", \"/home/dushya/.julia/packages/Knockout/HReiN/src/../assets/knockout.js\"), WebIO.Asset(\"js\", \"knockout_punches\", \"/home/dushya/.julia/packages/Knockout/HReiN/src/../assets/knockout_punches.js\"), WebIO.Asset(\"js\", nothing, \"/home/dushya/.julia/packages/InteractBase/LJXv3/src/../assets/all.js\"), WebIO.Asset(\"css\", nothing, \"/home/dushya/.julia/packages/InteractBase/LJXv3/src/../assets/style.css\"), WebIO.Asset(\"css\", nothing, \"/home/dushya/.julia/packages/Interact/PENUy/src/../assets/bulma_confined.min.css\")], Dict{Any, Any}(\"changes\" => Any[WebIO.JSString(\"(function (val){return (val!=this.model[\\\"changes\\\"]()) ? (this.valueFromJulia[\\\"changes\\\"]=true, this.model[\\\"changes\\\"](val)) : undefined})\")], \"index\" => Any[WebIO.JSString(\"(function (val){return (val!=this.model[\\\"index\\\"]()) ? (this.valueFromJulia[\\\"index\\\"]=true, this.model[\\\"index\\\"](val)) : undefined})\")]), WebIO.ConnectionPool(Channel{Any}(32), Set{WebIO.AbstractConnection}(), Base.GenericCondition{ReentrantLock}(Base.IntrusiveLinkedList{Task}(Task (runnable) @0x00007fc26fbf1910, Task (runnable) @0x00007fc26fbf1910), ReentrantLock(nothing, 0x00000000, 0x00, Base.GenericCondition{Base.Threads.SpinLock}(Base.IntrusiveLinkedList{Task}(nothing, nothing), Base.Threads.SpinLock(0)), (0, 0, 141733920768)))), WebIO.JSString[WebIO.JSString(\"function () {\\n    var handler = (function (ko, koPunches) {\\n    ko.punches.enableAll();\\n    ko.bindingHandlers.numericValue = {\\n        init: function(element, valueAccessor, allBindings, data, context) {\\n            var stringified = ko.observable(ko.unwrap(valueAccessor()));\\n            stringified.subscribe(function(value) {\\n                var val = parseFloat(value);\\n                if (!isNaN(val)) {\\n                    valueAccessor()(val);\\n                }\\n            });\\n            valueAccessor().subscribe(function(value) {\\n                var str = JSON.stringify(value);\\n                if ((str == \\\"0\\\") && ([\\\"-0\\\", \\\"-0.\\\"].indexOf(stringified()) >= 0))\\n                     return;\\n                 if ([\\\"null\\\", \\\"\\\"].indexOf(str) >= 0)\\n                     return;\\n                stringified(str);\\n            });\\n            ko.applyBindingsToNode(\\n                element,\\n                {\\n                    value: stringified,\\n                    valueUpdate: allBindings.get('valueUpdate'),\\n                },\\n                context,\\n            );\\n        }\\n    };\\n    var json_data = {\\\"formatted_vals\\\":[\\\"0.01\\\",\\\"0.02\\\",\\\"0.03\\\",\\\"0.04\\\",\\\"0.05\\\",\\\"0.06\\\",\\\"0.07\\\",\\\"0.08\\\",\\\"0.09\\\",\\\"0.1\\\",\\\"0.11\\\",\\\"0.12\\\",\\\"0.13\\\",\\\"0.14\\\",\\\"0.15\\\",\\\"0.16\\\",\\\"0.17\\\",\\\"0.18\\\",\\\"0.19\\\",\\\"0.2\\\",\\\"0.21\\\",\\\"0.22\\\",\\\"0.23\\\",\\\"0.24\\\",\\\"0.25\\\",\\\"0.26\\\",\\\"0.27\\\",\\\"0.28\\\",\\\"0.29\\\",\\\"0.3\\\",\\\"0.31\\\",\\\"0.32\\\",\\\"0.33\\\",\\\"0.34\\\",\\\"0.35\\\",\\\"0.36\\\",\\\"0.37\\\",\\\"0.38\\\",\\\"0.39\\\",\\\"0.4\\\",\\\"0.41\\\",\\\"0.42\\\",\\\"0.43\\\",\\\"0.44\\\",\\\"0.45\\\",\\\"0.46\\\",\\\"0.47\\\",\\\"0.48\\\",\\\"0.49\\\",\\\"0.5\\\",\\\"0.51\\\",\\\"0.52\\\",\\\"0.53\\\",\\\"0.54\\\",\\\"0.55\\\",\\\"0.56\\\",\\\"0.57\\\",\\\"0.58\\\",\\\"0.59\\\",\\\"0.6\\\",\\\"0.61\\\",\\\"0.62\\\",\\\"0.63\\\",\\\"0.64\\\",\\\"0.65\\\",\\\"0.66\\\",\\\"0.67\\\",\\\"0.68\\\",\\\"0.69\\\",\\\"0.7\\\",\\\"0.71\\\",\\\"0.72\\\",\\\"0.73\\\",\\\"0.74\\\",\\\"0.75\\\",\\\"0.76\\\",\\\"0.77\\\",\\\"0.78\\\",\\\"0.79\\\",\\\"0.8\\\",\\\"0.81\\\",\\\"0.82\\\",\\\"0.83\\\",\\\"0.84\\\",\\\"0.85\\\",\\\"0.86\\\",\\\"0.87\\\",\\\"0.88\\\",\\\"0.89\\\",\\\"0.9\\\",\\\"0.91\\\",\\\"0.92\\\",\\\"0.93\\\",\\\"0.94\\\",\\\"0.95\\\",\\\"0.96\\\",\\\"0.97\\\",\\\"0.98\\\",\\\"0.99\\\",\\\"1.0\\\"],\\\"changes\\\":WebIO.getval({\\\"name\\\":\\\"changes\\\",\\\"scope\\\":\\\"10823381236181018953\\\",\\\"id\\\":\\\"16748230901982307693\\\",\\\"type\\\":\\\"observable\\\"}),\\\"index\\\":WebIO.getval({\\\"name\\\":\\\"index\\\",\\\"scope\\\":\\\"10823381236181018953\\\",\\\"id\\\":\\\"2367399332677306587\\\",\\\"type\\\":\\\"observable\\\"})};\\n    var self = this;\\n    function AppViewModel() {\\n        for (var key in json_data) {\\n            var el = json_data[key];\\n            this[key] = Array.isArray(el) ? ko.observableArray(el) : ko.observable(el);\\n        }\\n        \\n        [this[\\\"formatted_val\\\"]=ko.computed(    function(){\\n        return this.formatted_vals()[parseInt(this.index())-(1)];\\n    }\\n,this)]\\n        [this[\\\"changes\\\"].subscribe((function (val){!(this.valueFromJulia[\\\"changes\\\"]) ? (WebIO.setval({\\\"name\\\":\\\"changes\\\",\\\"scope\\\":\\\"10823381236181018953\\\",\\\"id\\\":\\\"16748230901982307693\\\",\\\"type\\\":\\\"observable\\\"},val)) : undefined; return this.valueFromJulia[\\\"changes\\\"]=false}),self),this[\\\"index\\\"].subscribe((function (val){!(this.valueFromJulia[\\\"index\\\"]) ? (WebIO.setval({\\\"name\\\":\\\"index\\\",\\\"scope\\\":\\\"10823381236181018953\\\",\\\"id\\\":\\\"2367399332677306587\\\",\\\"type\\\":\\\"observable\\\"},val)) : undefined; return this.valueFromJulia[\\\"index\\\"]=false}),self)]\\n        \\n    }\\n    self.model = new AppViewModel();\\n    self.valueFromJulia = {};\\n    for (var key in json_data) {\\n        self.valueFromJulia[key] = false;\\n    }\\n    ko.applyBindings(self.model, self.dom);\\n}\\n);\\n    (WebIO.importBlock({\\\"data\\\":[{\\\"name\\\":\\\"knockout\\\",\\\"type\\\":\\\"js\\\",\\\"url\\\":\\\"/assetserver/727383f2a47bd31570b7da84eee7b022dd6d7c78-knockout.js\\\"},{\\\"name\\\":\\\"knockout_punches\\\",\\\"type\\\":\\\"js\\\",\\\"url\\\":\\\"/assetserver/382b41b3b1bd9f26f75861d360bad7f8beea211f-knockout_punches.js\\\"}],\\\"type\\\":\\\"async_block\\\"})).then((imports) => handler.apply(this, imports));\\n}\\n\")])], Dict{Symbol, Any}(:className => \"field interact-widget\")), WebIO.Node{WebIO.DOM}(WebIO.DOM(:html, :div), Any[WebIO.Scope(WebIO.Node{WebIO.DOM}(WebIO.DOM(:html, :div), Any[WebIO.Node{WebIO.DOM}(WebIO.DOM(:html, :div), Any[WebIO.Node{WebIO.DOM}(WebIO.DOM(:html, :label), Any[\"aln_fac\"], Dict{Symbol, Any}(:className => \"interact \", :style => Dict{Any, Any}(:padding => \"5px 10px 0px 10px\")))], Dict{Symbol, Any}(:className => \"interact-flex-row-left\")), WebIO.Node{WebIO.DOM}(WebIO.DOM(:html, :div), Any[WebIO.Node{WebIO.DOM}(WebIO.DOM(:html, :input), Any[], Dict{Symbol, Any}(:max => 100, :min => 1, :attributes => Dict{Any, Any}(:type => \"range\", Symbol(\"data-bind\") => \"numericValue: index, valueUpdate: 'input', event: {change: function (){this.changes(this.changes()+1)}}\", \"orient\" => \"horizontal\"), :step => 1, :className => \"slider slider is-fullwidth\", :style => Dict{Any, Any}()))], Dict{Symbol, Any}(:className => \"interact-flex-row-center\")), WebIO.Node{WebIO.DOM}(WebIO.DOM(:html, :div), Any[WebIO.Node{WebIO.DOM}(WebIO.DOM(:html, :p), Any[], Dict{Symbol, Any}(:attributes => Dict(\"data-bind\" => \"text: formatted_val\")))], Dict{Symbol, Any}(:className => \"interact-flex-row-right\"))], Dict{Symbol, Any}(:className => \"interact-flex-row interact-widget\")), Dict{String, Tuple{Observables.AbstractObservable, Union{Nothing, Bool}}}(\"changes\" => (Observable(0), nothing), \"index\" => (Observable{Any}(50), nothing)), Set{String}(), nothing, WebIO.Asset[WebIO.Asset(\"js\", \"knockout\", \"/home/dushya/.julia/packages/Knockout/HReiN/src/../assets/knockout.js\"), WebIO.Asset(\"js\", \"knockout_punches\", \"/home/dushya/.julia/packages/Knockout/HReiN/src/../assets/knockout_punches.js\"), WebIO.Asset(\"js\", nothing, \"/home/dushya/.julia/packages/InteractBase/LJXv3/src/../assets/all.js\"), WebIO.Asset(\"css\", nothing, \"/home/dushya/.julia/packages/InteractBase/LJXv3/src/../assets/style.css\"), WebIO.Asset(\"css\", nothing, \"/home/dushya/.julia/packages/Interact/PENUy/src/../assets/bulma_confined.min.css\")], Dict{Any, Any}(\"changes\" => Any[WebIO.JSString(\"(function (val){return (val!=this.model[\\\"changes\\\"]()) ? (this.valueFromJulia[\\\"changes\\\"]=true, this.model[\\\"changes\\\"](val)) : undefined})\")], \"index\" => Any[WebIO.JSString(\"(function (val){return (val!=this.model[\\\"index\\\"]()) ? (this.valueFromJulia[\\\"index\\\"]=true, this.model[\\\"index\\\"](val)) : undefined})\")]), WebIO.ConnectionPool(Channel{Any}(32), Set{WebIO.AbstractConnection}(), Base.GenericCondition{ReentrantLock}(Base.IntrusiveLinkedList{Task}(Task (runnable) @0x00007fc26fc0c1a0, Task (runnable) @0x00007fc26fc0c1a0), ReentrantLock(nothing, 0x00000000, 0x00, Base.GenericCondition{Base.Threads.SpinLock}(Base.IntrusiveLinkedList{Task}(nothing, nothing), Base.Threads.SpinLock(0)), (0, 0, 141733920768)))), WebIO.JSString[WebIO.JSString(\"function () {\\n    var handler = (function (ko, koPunches) {\\n    ko.punches.enableAll();\\n    ko.bindingHandlers.numericValue = {\\n        init: function(element, valueAccessor, allBindings, data, context) {\\n            var stringified = ko.observable(ko.unwrap(valueAccessor()));\\n            stringified.subscribe(function(value) {\\n                var val = parseFloat(value);\\n                if (!isNaN(val)) {\\n                    valueAccessor()(val);\\n                }\\n            });\\n            valueAccessor().subscribe(function(value) {\\n                var str = JSON.stringify(value);\\n                if ((str == \\\"0\\\") && ([\\\"-0\\\", \\\"-0.\\\"].indexOf(stringified()) >= 0))\\n                     return;\\n                 if ([\\\"null\\\", \\\"\\\"].indexOf(str) >= 0)\\n                     return;\\n                stringified(str);\\n            });\\n            ko.applyBindingsToNode(\\n                element,\\n                {\\n                    value: stringified,\\n                    valueUpdate: allBindings.get('valueUpdate'),\\n                },\\n                context,\\n            );\\n        }\\n    };\\n    var json_data = {\\\"formatted_vals\\\":[\\\"0.01\\\",\\\"0.02\\\",\\\"0.03\\\",\\\"0.04\\\",\\\"0.05\\\",\\\"0.06\\\",\\\"0.07\\\",\\\"0.08\\\",\\\"0.09\\\",\\\"0.1\\\",\\\"0.11\\\",\\\"0.12\\\",\\\"0.13\\\",\\\"0.14\\\",\\\"0.15\\\",\\\"0.16\\\",\\\"0.17\\\",\\\"0.18\\\",\\\"0.19\\\",\\\"0.2\\\",\\\"0.21\\\",\\\"0.22\\\",\\\"0.23\\\",\\\"0.24\\\",\\\"0.25\\\",\\\"0.26\\\",\\\"0.27\\\",\\\"0.28\\\",\\\"0.29\\\",\\\"0.3\\\",\\\"0.31\\\",\\\"0.32\\\",\\\"0.33\\\",\\\"0.34\\\",\\\"0.35\\\",\\\"0.36\\\",\\\"0.37\\\",\\\"0.38\\\",\\\"0.39\\\",\\\"0.4\\\",\\\"0.41\\\",\\\"0.42\\\",\\\"0.43\\\",\\\"0.44\\\",\\\"0.45\\\",\\\"0.46\\\",\\\"0.47\\\",\\\"0.48\\\",\\\"0.49\\\",\\\"0.5\\\",\\\"0.51\\\",\\\"0.52\\\",\\\"0.53\\\",\\\"0.54\\\",\\\"0.55\\\",\\\"0.56\\\",\\\"0.57\\\",\\\"0.58\\\",\\\"0.59\\\",\\\"0.6\\\",\\\"0.61\\\",\\\"0.62\\\",\\\"0.63\\\",\\\"0.64\\\",\\\"0.65\\\",\\\"0.66\\\",\\\"0.67\\\",\\\"0.68\\\",\\\"0.69\\\",\\\"0.7\\\",\\\"0.71\\\",\\\"0.72\\\",\\\"0.73\\\",\\\"0.74\\\",\\\"0.75\\\",\\\"0.76\\\",\\\"0.77\\\",\\\"0.78\\\",\\\"0.79\\\",\\\"0.8\\\",\\\"0.81\\\",\\\"0.82\\\",\\\"0.83\\\",\\\"0.84\\\",\\\"0.85\\\",\\\"0.86\\\",\\\"0.87\\\",\\\"0.88\\\",\\\"0.89\\\",\\\"0.9\\\",\\\"0.91\\\",\\\"0.92\\\",\\\"0.93\\\",\\\"0.94\\\",\\\"0.95\\\",\\\"0.96\\\",\\\"0.97\\\",\\\"0.98\\\",\\\"0.99\\\",\\\"1.0\\\"],\\\"changes\\\":WebIO.getval({\\\"name\\\":\\\"changes\\\",\\\"scope\\\":\\\"9846136284506191919\\\",\\\"id\\\":\\\"617558799245831644\\\",\\\"type\\\":\\\"observable\\\"}),\\\"index\\\":WebIO.getval({\\\"name\\\":\\\"index\\\",\\\"scope\\\":\\\"9846136284506191919\\\",\\\"id\\\":\\\"5448765183299074291\\\",\\\"type\\\":\\\"observable\\\"})};\\n    var self = this;\\n    function AppViewModel() {\\n        for (var key in json_data) {\\n            var el = json_data[key];\\n            this[key] = Array.isArray(el) ? ko.observableArray(el) : ko.observable(el);\\n        }\\n        \\n        [this[\\\"formatted_val\\\"]=ko.computed(    function(){\\n        return this.formatted_vals()[parseInt(this.index())-(1)];\\n    }\\n,this)]\\n        [this[\\\"changes\\\"].subscribe((function (val){!(this.valueFromJulia[\\\"changes\\\"]) ? (WebIO.setval({\\\"name\\\":\\\"changes\\\",\\\"scope\\\":\\\"9846136284506191919\\\",\\\"id\\\":\\\"617558799245831644\\\",\\\"type\\\":\\\"observable\\\"},val)) : undefined; return this.valueFromJulia[\\\"changes\\\"]=false}),self),this[\\\"index\\\"].subscribe((function (val){!(this.valueFromJulia[\\\"index\\\"]) ? (WebIO.setval({\\\"name\\\":\\\"index\\\",\\\"scope\\\":\\\"9846136284506191919\\\",\\\"id\\\":\\\"5448765183299074291\\\",\\\"type\\\":\\\"observable\\\"},val)) : undefined; return this.valueFromJulia[\\\"index\\\"]=false}),self)]\\n        \\n    }\\n    self.model = new AppViewModel();\\n    self.valueFromJulia = {};\\n    for (var key in json_data) {\\n        self.valueFromJulia[key] = false;\\n    }\\n    ko.applyBindings(self.model, self.dom);\\n}\\n);\\n    (WebIO.importBlock({\\\"data\\\":[{\\\"name\\\":\\\"knockout\\\",\\\"type\\\":\\\"js\\\",\\\"url\\\":\\\"/assetserver/727383f2a47bd31570b7da84eee7b022dd6d7c78-knockout.js\\\"},{\\\"name\\\":\\\"knockout_punches\\\",\\\"type\\\":\\\"js\\\",\\\"url\\\":\\\"/assetserver/382b41b3b1bd9f26f75861d360bad7f8beea211f-knockout_punches.js\\\"}],\\\"type\\\":\\\"async_block\\\"})).then((imports) => handler.apply(this, imports));\\n}\\n\")])], Dict{Symbol, Any}(:className => \"field interact-widget\")), WebIO.Node{WebIO.DOM}(WebIO.DOM(:html, :div), Any[WebIO.Scope(WebIO.Node{WebIO.DOM}(WebIO.DOM(:html, :div), Any[WebIO.Node{WebIO.DOM}(WebIO.DOM(:html, :div), Any[WebIO.Node{WebIO.DOM}(WebIO.DOM(:html, :label), Any[\"vis_range\"], Dict{Symbol, Any}(:className => \"interact \", :style => Dict{Any, Any}(:padding => \"5px 10px 0px 10px\")))], Dict{Symbol, Any}(:className => \"interact-flex-row-left\")), WebIO.Node{WebIO.DOM}(WebIO.DOM(:html, :div), Any[WebIO.Node{WebIO.DOM}(WebIO.DOM(:html, :input), Any[], Dict{Symbol, Any}(:max => 8, :min => 1, :attributes => Dict{Any, Any}(:type => \"range\", Symbol(\"data-bind\") => \"numericValue: index, valueUpdate: 'input', event: {change: function (){this.changes(this.changes()+1)}}\", \"orient\" => \"horizontal\"), :step => 1, :className => \"slider slider is-fullwidth\", :style => Dict{Any, Any}()))], Dict{Symbol, Any}(:className => \"interact-flex-row-center\")), WebIO.Node{WebIO.DOM}(WebIO.DOM(:html, :div), Any[WebIO.Node{WebIO.DOM}(WebIO.DOM(:html, :p), Any[], Dict{Symbol, Any}(:attributes => Dict(\"data-bind\" => \"text: formatted_val\")))], Dict{Symbol, Any}(:className => \"interact-flex-row-right\"))], Dict{Symbol, Any}(:className => \"interact-flex-row interact-widget\")), Dict{String, Tuple{Observables.AbstractObservable, Union{Nothing, Bool}}}(\"changes\" => (Observable(0), nothing), \"index\" => (Observable{Any}(4), nothing)), Set{String}(), nothing, WebIO.Asset[WebIO.Asset(\"js\", \"knockout\", \"/home/dushya/.julia/packages/Knockout/HReiN/src/../assets/knockout.js\"), WebIO.Asset(\"js\", \"knockout_punches\", \"/home/dushya/.julia/packages/Knockout/HReiN/src/../assets/knockout_punches.js\"), WebIO.Asset(\"js\", nothing, \"/home/dushya/.julia/packages/InteractBase/LJXv3/src/../assets/all.js\"), WebIO.Asset(\"css\", nothing, \"/home/dushya/.julia/packages/InteractBase/LJXv3/src/../assets/style.css\"), WebIO.Asset(\"css\", nothing, \"/home/dushya/.julia/packages/Interact/PENUy/src/../assets/bulma_confined.min.css\")], Dict{Any, Any}(\"changes\" => Any[WebIO.JSString(\"(function (val){return (val!=this.model[\\\"changes\\\"]()) ? (this.valueFromJulia[\\\"changes\\\"]=true, this.model[\\\"changes\\\"](val)) : undefined})\")], \"index\" => Any[WebIO.JSString(\"(function (val){return (val!=this.model[\\\"index\\\"]()) ? (this.valueFromJulia[\\\"index\\\"]=true, this.model[\\\"index\\\"](val)) : undefined})\")]), WebIO.ConnectionPool(Channel{Any}(32), Set{WebIO.AbstractConnection}(), Base.GenericCondition{ReentrantLock}(Base.IntrusiveLinkedList{Task}(Task (runnable) @0x00007fc26fc0e8b0, Task (runnable) @0x00007fc26fc0e8b0), ReentrantLock(nothing, 0x00000000, 0x00, Base.GenericCondition{Base.Threads.SpinLock}(Base.IntrusiveLinkedList{Task}(nothing, nothing), Base.Threads.SpinLock(0)), (0, 0, 141733920768)))), WebIO.JSString[WebIO.JSString(\"function () {\\n    var handler = (function (ko, koPunches) {\\n    ko.punches.enableAll();\\n    ko.bindingHandlers.numericValue = {\\n        init: function(element, valueAccessor, allBindings, data, context) {\\n            var stringified = ko.observable(ko.unwrap(valueAccessor()));\\n            stringified.subscribe(function(value) {\\n                var val = parseFloat(value);\\n                if (!isNaN(val)) {\\n                    valueAccessor()(val);\\n                }\\n            });\\n            valueAccessor().subscribe(function(value) {\\n                var str = JSON.stringify(value);\\n                if ((str == \\\"0\\\") && ([\\\"-0\\\", \\\"-0.\\\"].indexOf(stringified()) >= 0))\\n                     return;\\n                 if ([\\\"null\\\", \\\"\\\"].indexOf(str) >= 0)\\n                     return;\\n                stringified(str);\\n            });\\n            ko.applyBindingsToNode(\\n                element,\\n                {\\n                    value: stringified,\\n                    valueUpdate: allBindings.get('valueUpdate'),\\n                },\\n                context,\\n            );\\n        }\\n    };\\n    var json_data = {\\\"formatted_vals\\\":[\\\"0.5\\\",\\\"1.0\\\",\\\"1.5\\\",\\\"2.0\\\",\\\"2.5\\\",\\\"3.0\\\",\\\"3.5\\\",\\\"4.0\\\"],\\\"changes\\\":WebIO.getval({\\\"name\\\":\\\"changes\\\",\\\"scope\\\":\\\"8365391695864258504\\\",\\\"id\\\":\\\"646198042768480503\\\",\\\"type\\\":\\\"observable\\\"}),\\\"index\\\":WebIO.getval({\\\"name\\\":\\\"index\\\",\\\"scope\\\":\\\"8365391695864258504\\\",\\\"id\\\":\\\"1005734267147207532\\\",\\\"type\\\":\\\"observable\\\"})};\\n    var self = this;\\n    function AppViewModel() {\\n        for (var key in json_data) {\\n            var el = json_data[key];\\n            this[key] = Array.isArray(el) ? ko.observableArray(el) : ko.observable(el);\\n        }\\n        \\n        [this[\\\"formatted_val\\\"]=ko.computed(    function(){\\n        return this.formatted_vals()[parseInt(this.index())-(1)];\\n    }\\n,this)]\\n        [this[\\\"changes\\\"].subscribe((function (val){!(this.valueFromJulia[\\\"changes\\\"]) ? (WebIO.setval({\\\"name\\\":\\\"changes\\\",\\\"scope\\\":\\\"8365391695864258504\\\",\\\"id\\\":\\\"646198042768480503\\\",\\\"type\\\":\\\"observable\\\"},val)) : undefined; return this.valueFromJulia[\\\"changes\\\"]=false}),self),this[\\\"index\\\"].subscribe((function (val){!(this.valueFromJulia[\\\"index\\\"]) ? (WebIO.setval({\\\"name\\\":\\\"index\\\",\\\"scope\\\":\\\"8365391695864258504\\\",\\\"id\\\":\\\"1005734267147207532\\\",\\\"type\\\":\\\"observable\\\"},val)) : undefined; return this.valueFromJulia[\\\"index\\\"]=false}),self)]\\n        \\n    }\\n    self.model = new AppViewModel();\\n    self.valueFromJulia = {};\\n    for (var key in json_data) {\\n        self.valueFromJulia[key] = false;\\n    }\\n    ko.applyBindings(self.model, self.dom);\\n}\\n);\\n    (WebIO.importBlock({\\\"data\\\":[{\\\"name\\\":\\\"knockout\\\",\\\"type\\\":\\\"js\\\",\\\"url\\\":\\\"/assetserver/727383f2a47bd31570b7da84eee7b022dd6d7c78-knockout.js\\\"},{\\\"name\\\":\\\"knockout_punches\\\",\\\"type\\\":\\\"js\\\",\\\"url\\\":\\\"/assetserver/382b41b3b1bd9f26f75861d360bad7f8beea211f-knockout_punches.js\\\"}],\\\"type\\\":\\\"async_block\\\"})).then((imports) => handler.apply(this, imports));\\n}\\n\")])], Dict{Symbol, Any}(:className => \"field interact-widget\"))], Dict{Symbol, Any}(:style => Dict(\"display\" => \"flex\", \"flex-direction\" => \"column\"))), WebIO.Node{WebIO.DOM}(WebIO.DOM(:html, :div), Any[WebIO.Node{WebIO.DOM}(WebIO.DOM(:html, :div), Any[WebIO.Scope(WebIO.Node{WebIO.DOM}(WebIO.DOM(:html, :div), Any[], Dict{Symbol, Any}(:id => \"container\")), Dict{String, Tuple{Observables.AbstractObservable, Union{Nothing, Bool}}}(\"value\" => (Observable(\"\\\\;\\\\;\"), nothing)), Set{String}(), nothing, WebIO.Asset[WebIO.Asset(\"js\", nothing, \"/home/dushya/.julia/packages/InteractBase/LJXv3/src/../assets/katex.min.js\"), WebIO.Asset(\"css\", nothing, \"/home/dushya/.julia/packages/InteractBase/LJXv3/src/../assets/katex.min.css\")], Dict{Any, Any}(\"value\" => Any[WebIO.JSString(\"(function (txt){return this.k.render(txt,this.container)})\")]), WebIO.ConnectionPool(Channel{Any}(32), Set{WebIO.AbstractConnection}(), Base.GenericCondition{ReentrantLock}(Base.IntrusiveLinkedList{Task}(Task (runnable) @0x00007fc22f6844c0, Task (runnable) @0x00007fc22f6844c0), ReentrantLock(nothing, 0x00000000, 0x00, Base.GenericCondition{Base.Threads.SpinLock}(Base.IntrusiveLinkedList{Task}(nothing, nothing), Base.Threads.SpinLock(0)), (0, 0, 0)))), WebIO.JSString[WebIO.JSString(\"function () {\\n    var handler = ((function (k){this.k=k; this.container=this.dom.querySelector(\\\"#container\\\"); return k.render(\\\"\\\\\\\\;\\\\\\\\;\\\",this.container)}));\\n    (WebIO.importBlock({\\\"data\\\":[{\\\"name\\\":null,\\\"type\\\":\\\"js\\\",\\\"url\\\":\\\"/assetserver/dd22ed1bf1896c2748f3fe616ce0b838adc895c1-katex.min.js\\\"},{\\\"name\\\":null,\\\"type\\\":\\\"css\\\",\\\"url\\\":\\\"/assetserver/46517a424aa5e6cffc1360d7e0848b601c584ee3-katex.min.css\\\"}],\\\"type\\\":\\\"async_block\\\"})).then((imports) => handler.apply(this, imports));\\n}\\n\")])], Dict{Symbol, Any}(:className => \"interact-widget\")), WebIO.Node{WebIO.DOM}(WebIO.DOM(:html, :div), Any[WebIO.Scope(WebIO.Node{WebIO.DOM}(WebIO.DOM(:html, :button), Any[\"run\"], Dict{Symbol, Any}(:attributes => Dict{Any, Any}(\"data-bind\" => \"click: function (){this.clicks(this.clicks()+1)}, css: {'is-loading' : loading}\"), :className => \"is-medium button is-primary\", :style => Dict{String, Any}())), Dict{String, Tuple{Observables.AbstractObservable, Union{Nothing, Bool}}}(\"loading\" => (Observable(false), nothing), \"clicks\" => (Observable(0), nothing)), Set{String}(), nothing, WebIO.Asset[WebIO.Asset(\"js\", \"knockout\", \"/home/dushya/.julia/packages/Knockout/HReiN/src/../assets/knockout.js\"), WebIO.Asset(\"js\", \"knockout_punches\", \"/home/dushya/.julia/packages/Knockout/HReiN/src/../assets/knockout_punches.js\"), WebIO.Asset(\"js\", nothing, \"/home/dushya/.julia/packages/InteractBase/LJXv3/src/../assets/all.js\"), WebIO.Asset(\"css\", nothing, \"/home/dushya/.julia/packages/InteractBase/LJXv3/src/../assets/style.css\"), WebIO.Asset(\"css\", nothing, \"/home/dushya/.julia/packages/Interact/PENUy/src/../assets/bulma_confined.min.css\")], Dict{Any, Any}(\"loading\" => Any[WebIO.JSString(\"(function (val){return (val!=this.model[\\\"loading\\\"]()) ? (this.valueFromJulia[\\\"loading\\\"]=true, this.model[\\\"loading\\\"](val)) : undefined})\")], \"clicks\" => Any[WebIO.JSString(\"(function (val){return (val!=this.model[\\\"clicks\\\"]()) ? (this.valueFromJulia[\\\"clicks\\\"]=true, this.model[\\\"clicks\\\"](val)) : undefined})\")]), WebIO.ConnectionPool(Channel{Any}(32), Set{WebIO.AbstractConnection}(), Base.GenericCondition{ReentrantLock}(Base.IntrusiveLinkedList{Task}(Task (runnable) @0x00007fc26fc35140, Task (runnable) @0x00007fc26fc35140), ReentrantLock(nothing, 0x00000000, 0x00, Base.GenericCondition{Base.Threads.SpinLock}(Base.IntrusiveLinkedList{Task}(nothing, nothing), Base.Threads.SpinLock(0)), (0, 0, 141733920768)))), WebIO.JSString[WebIO.JSString(\"function () {\\n    var handler = (function (ko, koPunches) {\\n    ko.punches.enableAll();\\n    ko.bindingHandlers.numericValue = {\\n        init: function(element, valueAccessor, allBindings, data, context) {\\n            var stringified = ko.observable(ko.unwrap(valueAccessor()));\\n            stringified.subscribe(function(value) {\\n                var val = parseFloat(value);\\n                if (!isNaN(val)) {\\n                    valueAccessor()(val);\\n                }\\n            });\\n            valueAccessor().subscribe(function(value) {\\n                var str = JSON.stringify(value);\\n                if ((str == \\\"0\\\") && ([\\\"-0\\\", \\\"-0.\\\"].indexOf(stringified()) >= 0))\\n                     return;\\n                 if ([\\\"null\\\", \\\"\\\"].indexOf(str) >= 0)\\n                     return;\\n                stringified(str);\\n            });\\n            ko.applyBindingsToNode(\\n                element,\\n                {\\n                    value: stringified,\\n                    valueUpdate: allBindings.get('valueUpdate'),\\n                },\\n                context,\\n            );\\n        }\\n    };\\n    var json_data = {\\\"loading\\\":WebIO.getval({\\\"name\\\":\\\"loading\\\",\\\"scope\\\":\\\"7465954281565691332\\\",\\\"id\\\":\\\"16838969799742972067\\\",\\\"type\\\":\\\"observable\\\"}),\\\"clicks\\\":WebIO.getval({\\\"name\\\":\\\"clicks\\\",\\\"scope\\\":\\\"7465954281565691332\\\",\\\"id\\\":\\\"113417075404998040\\\",\\\"type\\\":\\\"observable\\\"})};\\n    var self = this;\\n    function AppViewModel() {\\n        for (var key in json_data) {\\n            var el = json_data[key];\\n            this[key] = Array.isArray(el) ? ko.observableArray(el) : ko.observable(el);\\n        }\\n        \\n        \\n        [this[\\\"loading\\\"].subscribe((function (val){!(this.valueFromJulia[\\\"loading\\\"]) ? (WebIO.setval({\\\"name\\\":\\\"loading\\\",\\\"scope\\\":\\\"7465954281565691332\\\",\\\"id\\\":\\\"16838969799742972067\\\",\\\"type\\\":\\\"observable\\\"},val)) : undefined; return this.valueFromJulia[\\\"loading\\\"]=false}),self),this[\\\"clicks\\\"].subscribe((function (val){!(this.valueFromJulia[\\\"clicks\\\"]) ? (WebIO.setval({\\\"name\\\":\\\"clicks\\\",\\\"scope\\\":\\\"7465954281565691332\\\",\\\"id\\\":\\\"113417075404998040\\\",\\\"type\\\":\\\"observable\\\"},val)) : undefined; return this.valueFromJulia[\\\"clicks\\\"]=false}),self)]\\n        \\n    }\\n    self.model = new AppViewModel();\\n    self.valueFromJulia = {};\\n    for (var key in json_data) {\\n        self.valueFromJulia[key] = false;\\n    }\\n    ko.applyBindings(self.model, self.dom);\\n}\\n);\\n    (WebIO.importBlock({\\\"data\\\":[{\\\"name\\\":\\\"knockout\\\",\\\"type\\\":\\\"js\\\",\\\"url\\\":\\\"/assetserver/727383f2a47bd31570b7da84eee7b022dd6d7c78-knockout.js\\\"},{\\\"name\\\":\\\"knockout_punches\\\",\\\"type\\\":\\\"js\\\",\\\"url\\\":\\\"/assetserver/382b41b3b1bd9f26f75861d360bad7f8beea211f-knockout_punches.js\\\"}],\\\"type\\\":\\\"async_block\\\"})).then((imports) => handler.apply(this, imports));\\n}\\n\")])], Dict{Symbol, Any}(:className => \"field interact-widget\")), WebIO.Node{WebIO.DOM}(WebIO.DOM(:html, :div), Any[WebIO.Scope(WebIO.Node{WebIO.DOM}(WebIO.DOM(:html, :div), Any[], Dict{Symbol, Any}(:id => \"container\")), Dict{String, Tuple{Observables.AbstractObservable, Union{Nothing, Bool}}}(\"value\" => (Observable(\"\\\\;\\\\;\"), nothing)), Set{String}(), nothing, WebIO.Asset[WebIO.Asset(\"js\", nothing, \"/home/dushya/.julia/packages/InteractBase/LJXv3/src/../assets/katex.min.js\"), WebIO.Asset(\"css\", nothing, \"/home/dushya/.julia/packages/InteractBase/LJXv3/src/../assets/katex.min.css\")], Dict{Any, Any}(\"value\" => Any[WebIO.JSString(\"(function (txt){return this.k.render(txt,this.container)})\")]), WebIO.ConnectionPool(Channel{Any}(32), Set{WebIO.AbstractConnection}(), Base.GenericCondition{ReentrantLock}(Base.IntrusiveLinkedList{Task}(Task (runnable) @0x00007fc22f6844c0, Task (runnable) @0x00007fc22f6844c0), ReentrantLock(nothing, 0x00000000, 0x00, Base.GenericCondition{Base.Threads.SpinLock}(Base.IntrusiveLinkedList{Task}(nothing, nothing), Base.Threads.SpinLock(0)), (0, 0, 0)))), WebIO.JSString[WebIO.JSString(\"function () {\\n    var handler = ((function (k){this.k=k; this.container=this.dom.querySelector(\\\"#container\\\"); return k.render(\\\"\\\\\\\\;\\\\\\\\;\\\",this.container)}));\\n    (WebIO.importBlock({\\\"data\\\":[{\\\"name\\\":null,\\\"type\\\":\\\"js\\\",\\\"url\\\":\\\"/assetserver/dd22ed1bf1896c2748f3fe616ce0b838adc895c1-katex.min.js\\\"},{\\\"name\\\":null,\\\"type\\\":\\\"css\\\",\\\"url\\\":\\\"/assetserver/46517a424aa5e6cffc1360d7e0848b601c584ee3-katex.min.css\\\"}],\\\"type\\\":\\\"async_block\\\"})).then((imports) => handler.apply(this, imports));\\n}\\n\")])], Dict{Symbol, Any}(:className => \"interact-widget\")), WebIO.Node{WebIO.DOM}(WebIO.DOM(:html, :div), Any[WebIO.Scope(WebIO.Node{WebIO.DOM}(WebIO.DOM(:html, :button), Any[\"stop\"], Dict{Symbol, Any}(:attributes => Dict{Any, Any}(\"data-bind\" => \"click: function (){this.clicks(this.clicks()+1)}, css: {'is-loading' : loading}\"), :className => \"is-medium button is-primary\", :style => Dict{String, Any}())), Dict{String, Tuple{Observables.AbstractObservable, Union{Nothing, Bool}}}(\"loading\" => (Observable(false), nothing), \"clicks\" => (Observable(0), nothing)), Set{String}(), nothing, WebIO.Asset[WebIO.Asset(\"js\", \"knockout\", \"/home/dushya/.julia/packages/Knockout/HReiN/src/../assets/knockout.js\"), WebIO.Asset(\"js\", \"knockout_punches\", \"/home/dushya/.julia/packages/Knockout/HReiN/src/../assets/knockout_punches.js\"), WebIO.Asset(\"js\", nothing, \"/home/dushya/.julia/packages/InteractBase/LJXv3/src/../assets/all.js\"), WebIO.Asset(\"css\", nothing, \"/home/dushya/.julia/packages/InteractBase/LJXv3/src/../assets/style.css\"), WebIO.Asset(\"css\", nothing, \"/home/dushya/.julia/packages/Interact/PENUy/src/../assets/bulma_confined.min.css\")], Dict{Any, Any}(\"loading\" => Any[WebIO.JSString(\"(function (val){return (val!=this.model[\\\"loading\\\"]()) ? (this.valueFromJulia[\\\"loading\\\"]=true, this.model[\\\"loading\\\"](val)) : undefined})\")], \"clicks\" => Any[WebIO.JSString(\"(function (val){return (val!=this.model[\\\"clicks\\\"]()) ? (this.valueFromJulia[\\\"clicks\\\"]=true, this.model[\\\"clicks\\\"](val)) : undefined})\")]), WebIO.ConnectionPool(Channel{Any}(32), Set{WebIO.AbstractConnection}(), Base.GenericCondition{ReentrantLock}(Base.IntrusiveLinkedList{Task}(Task (runnable) @0x00007fc26fc37850, Task (runnable) @0x00007fc26fc37850), ReentrantLock(nothing, 0x00000000, 0x00, Base.GenericCondition{Base.Threads.SpinLock}(Base.IntrusiveLinkedList{Task}(nothing, nothing), Base.Threads.SpinLock(0)), (0, 0, 141733920768)))), WebIO.JSString[WebIO.JSString(\"function () {\\n    var handler = (function (ko, koPunches) {\\n    ko.punches.enableAll();\\n    ko.bindingHandlers.numericValue = {\\n        init: function(element, valueAccessor, allBindings, data, context) {\\n            var stringified = ko.observable(ko.unwrap(valueAccessor()));\\n            stringified.subscribe(function(value) {\\n                var val = parseFloat(value);\\n                if (!isNaN(val)) {\\n                    valueAccessor()(val);\\n                }\\n            });\\n            valueAccessor().subscribe(function(value) {\\n                var str = JSON.stringify(value);\\n                if ((str == \\\"0\\\") && ([\\\"-0\\\", \\\"-0.\\\"].indexOf(stringified()) >= 0))\\n                     return;\\n                 if ([\\\"null\\\", \\\"\\\"].indexOf(str) >= 0)\\n                     return;\\n                stringified(str);\\n            });\\n            ko.applyBindingsToNode(\\n                element,\\n                {\\n                    value: stringified,\\n                    valueUpdate: allBindings.get('valueUpdate'),\\n                },\\n                context,\\n            );\\n        }\\n    };\\n    var json_data = {\\\"loading\\\":WebIO.getval({\\\"name\\\":\\\"loading\\\",\\\"scope\\\":\\\"4674528476941586543\\\",\\\"id\\\":\\\"18440248245409420041\\\",\\\"type\\\":\\\"observable\\\"}),\\\"clicks\\\":WebIO.getval({\\\"name\\\":\\\"clicks\\\",\\\"scope\\\":\\\"4674528476941586543\\\",\\\"id\\\":\\\"9497994898700415176\\\",\\\"type\\\":\\\"observable\\\"})};\\n    var self = this;\\n    function AppViewModel() {\\n        for (var key in json_data) {\\n            var el = json_data[key];\\n            this[key] = Array.isArray(el) ? ko.observableArray(el) : ko.observable(el);\\n        }\\n        \\n        \\n        [this[\\\"loading\\\"].subscribe((function (val){!(this.valueFromJulia[\\\"loading\\\"]) ? (WebIO.setval({\\\"name\\\":\\\"loading\\\",\\\"scope\\\":\\\"4674528476941586543\\\",\\\"id\\\":\\\"18440248245409420041\\\",\\\"type\\\":\\\"observable\\\"},val)) : undefined; return this.valueFromJulia[\\\"loading\\\"]=false}),self),this[\\\"clicks\\\"].subscribe((function (val){!(this.valueFromJulia[\\\"clicks\\\"]) ? (WebIO.setval({\\\"name\\\":\\\"clicks\\\",\\\"scope\\\":\\\"4674528476941586543\\\",\\\"id\\\":\\\"9497994898700415176\\\",\\\"type\\\":\\\"observable\\\"},val)) : undefined; return this.valueFromJulia[\\\"clicks\\\"]=false}),self)]\\n        \\n    }\\n    self.model = new AppViewModel();\\n    self.valueFromJulia = {};\\n    for (var key in json_data) {\\n        self.valueFromJulia[key] = false;\\n    }\\n    ko.applyBindings(self.model, self.dom);\\n}\\n);\\n    (WebIO.importBlock({\\\"data\\\":[{\\\"name\\\":\\\"knockout\\\",\\\"type\\\":\\\"js\\\",\\\"url\\\":\\\"/assetserver/727383f2a47bd31570b7da84eee7b022dd6d7c78-knockout.js\\\"},{\\\"name\\\":\\\"knockout_punches\\\",\\\"type\\\":\\\"js\\\",\\\"url\\\":\\\"/assetserver/382b41b3b1bd9f26f75861d360bad7f8beea211f-knockout_punches.js\\\"}],\\\"type\\\":\\\"async_block\\\"})).then((imports) => handler.apply(this, imports));\\n}\\n\")])], Dict{Symbol, Any}(:className => \"field interact-widget\")), WebIO.Node{WebIO.DOM}(WebIO.DOM(:html, :div), Any[WebIO.Scope(WebIO.Node{WebIO.DOM}(WebIO.DOM(:html, :div), Any[], Dict{Symbol, Any}(:id => \"container\")), Dict{String, Tuple{Observables.AbstractObservable, Union{Nothing, Bool}}}(\"value\" => (Observable(\"\\\\;\\\\;\"), nothing)), Set{String}(), nothing, WebIO.Asset[WebIO.Asset(\"js\", nothing, \"/home/dushya/.julia/packages/InteractBase/LJXv3/src/../assets/katex.min.js\"), WebIO.Asset(\"css\", nothing, \"/home/dushya/.julia/packages/InteractBase/LJXv3/src/../assets/katex.min.css\")], Dict{Any, Any}(\"value\" => Any[WebIO.JSString(\"(function (txt){return this.k.render(txt,this.container)})\")]), WebIO.ConnectionPool(Channel{Any}(32), Set{WebIO.AbstractConnection}(), Base.GenericCondition{ReentrantLock}(Base.IntrusiveLinkedList{Task}(Task (runnable) @0x00007fc22f6844c0, Task (runnable) @0x00007fc22f6844c0), ReentrantLock(nothing, 0x00000000, 0x00, Base.GenericCondition{Base.Threads.SpinLock}(Base.IntrusiveLinkedList{Task}(nothing, nothing), Base.Threads.SpinLock(0)), (0, 0, 0)))), WebIO.JSString[WebIO.JSString(\"function () {\\n    var handler = ((function (k){this.k=k; this.container=this.dom.querySelector(\\\"#container\\\"); return k.render(\\\"\\\\\\\\;\\\\\\\\;\\\",this.container)}));\\n    (WebIO.importBlock({\\\"data\\\":[{\\\"name\\\":null,\\\"type\\\":\\\"js\\\",\\\"url\\\":\\\"/assetserver/dd22ed1bf1896c2748f3fe616ce0b838adc895c1-katex.min.js\\\"},{\\\"name\\\":null,\\\"type\\\":\\\"css\\\",\\\"url\\\":\\\"/assetserver/46517a424aa5e6cffc1360d7e0848b601c584ee3-katex.min.css\\\"}],\\\"type\\\":\\\"async_block\\\"})).then((imports) => handler.apply(this, imports));\\n}\\n\")])], Dict{Symbol, Any}(:className => \"interact-widget\")), WebIO.Node{WebIO.DOM}(WebIO.DOM(:html, :div), Any[WebIO.Scope(WebIO.Node{WebIO.DOM}(WebIO.DOM(:html, :button), Any[\"reset\"], Dict{Symbol, Any}(:attributes => Dict{Any, Any}(\"data-bind\" => \"click: function (){this.clicks(this.clicks()+1)}, css: {'is-loading' : loading}\"), :className => \"is-medium button is-primary\", :style => Dict{String, Any}())), Dict{String, Tuple{Observables.AbstractObservable, Union{Nothing, Bool}}}(\"loading\" => (Observable(false), nothing), \"clicks\" => (Observable(0), nothing)), Set{String}(), nothing, WebIO.Asset[WebIO.Asset(\"js\", \"knockout\", \"/home/dushya/.julia/packages/Knockout/HReiN/src/../assets/knockout.js\"), WebIO.Asset(\"js\", \"knockout_punches\", \"/home/dushya/.julia/packages/Knockout/HReiN/src/../assets/knockout_punches.js\"), WebIO.Asset(\"js\", nothing, \"/home/dushya/.julia/packages/InteractBase/LJXv3/src/../assets/all.js\"), WebIO.Asset(\"css\", nothing, \"/home/dushya/.julia/packages/InteractBase/LJXv3/src/../assets/style.css\"), WebIO.Asset(\"css\", nothing, \"/home/dushya/.julia/packages/Interact/PENUy/src/../assets/bulma_confined.min.css\")], Dict{Any, Any}(\"loading\" => Any[WebIO.JSString(\"(function (val){return (val!=this.model[\\\"loading\\\"]()) ? (this.valueFromJulia[\\\"loading\\\"]=true, this.model[\\\"loading\\\"](val)) : undefined})\")], \"clicks\" => Any[WebIO.JSString(\"(function (val){return (val!=this.model[\\\"clicks\\\"]()) ? (this.valueFromJulia[\\\"clicks\\\"]=true, this.model[\\\"clicks\\\"](val)) : undefined})\")]), WebIO.ConnectionPool(Channel{Any}(32), Set{WebIO.AbstractConnection}(), Base.GenericCondition{ReentrantLock}(Base.IntrusiveLinkedList{Task}(Task (runnable) @0x00007fc26fc9a0e0, Task (runnable) @0x00007fc26fc9a0e0), ReentrantLock(nothing, 0x00000000, 0x00, Base.GenericCondition{Base.Threads.SpinLock}(Base.IntrusiveLinkedList{Task}(nothing, nothing), Base.Threads.SpinLock(0)), (0, 0, 141733920768)))), WebIO.JSString[WebIO.JSString(\"function () {\\n    var handler = (function (ko, koPunches) {\\n    ko.punches.enableAll();\\n    ko.bindingHandlers.numericValue = {\\n        init: function(element, valueAccessor, allBindings, data, context) {\\n            var stringified = ko.observable(ko.unwrap(valueAccessor()));\\n            stringified.subscribe(function(value) {\\n                var val = parseFloat(value);\\n                if (!isNaN(val)) {\\n                    valueAccessor()(val);\\n                }\\n            });\\n            valueAccessor().subscribe(function(value) {\\n                var str = JSON.stringify(value);\\n                if ((str == \\\"0\\\") && ([\\\"-0\\\", \\\"-0.\\\"].indexOf(stringified()) >= 0))\\n                     return;\\n                 if ([\\\"null\\\", \\\"\\\"].indexOf(str) >= 0)\\n                     return;\\n                stringified(str);\\n            });\\n            ko.applyBindingsToNode(\\n                element,\\n                {\\n                    value: stringified,\\n                    valueUpdate: allBindings.get('valueUpdate'),\\n                },\\n                context,\\n            );\\n        }\\n    };\\n    var json_data = {\\\"loading\\\":WebIO.getval({\\\"name\\\":\\\"loading\\\",\\\"scope\\\":\\\"182521876891797808\\\",\\\"id\\\":\\\"15864960831049981033\\\",\\\"type\\\":\\\"observable\\\"}),\\\"clicks\\\":WebIO.getval({\\\"name\\\":\\\"clicks\\\",\\\"scope\\\":\\\"182521876891797808\\\",\\\"id\\\":\\\"994077043001533930\\\",\\\"type\\\":\\\"observable\\\"})};\\n    var self = this;\\n    function AppViewModel() {\\n        for (var key in json_data) {\\n            var el = json_data[key];\\n            this[key] = Array.isArray(el) ? ko.observableArray(el) : ko.observable(el);\\n        }\\n        \\n        \\n        [this[\\\"loading\\\"].subscribe((function (val){!(this.valueFromJulia[\\\"loading\\\"]) ? (WebIO.setval({\\\"name\\\":\\\"loading\\\",\\\"scope\\\":\\\"182521876891797808\\\",\\\"id\\\":\\\"15864960831049981033\\\",\\\"type\\\":\\\"observable\\\"},val)) : undefined; return this.valueFromJulia[\\\"loading\\\"]=false}),self),this[\\\"clicks\\\"].subscribe((function (val){!(this.valueFromJulia[\\\"clicks\\\"]) ? (WebIO.setval({\\\"name\\\":\\\"clicks\\\",\\\"scope\\\":\\\"182521876891797808\\\",\\\"id\\\":\\\"994077043001533930\\\",\\\"type\\\":\\\"observable\\\"},val)) : undefined; return this.valueFromJulia[\\\"clicks\\\"]=false}),self)]\\n        \\n    }\\n    self.model = new AppViewModel();\\n    self.valueFromJulia = {};\\n    for (var key in json_data) {\\n        self.valueFromJulia[key] = false;\\n    }\\n    ko.applyBindings(self.model, self.dom);\\n}\\n);\\n    (WebIO.importBlock({\\\"data\\\":[{\\\"name\\\":\\\"knockout\\\",\\\"type\\\":\\\"js\\\",\\\"url\\\":\\\"/assetserver/727383f2a47bd31570b7da84eee7b022dd6d7c78-knockout.js\\\"},{\\\"name\\\":\\\"knockout_punches\\\",\\\"type\\\":\\\"js\\\",\\\"url\\\":\\\"/assetserver/382b41b3b1bd9f26f75861d360bad7f8beea211f-knockout_punches.js\\\"}],\\\"type\\\":\\\"async_block\\\"})).then((imports) => handler.apply(this, imports));\\n}\\n\")])], Dict{Symbol, Any}(:className => \"field interact-widget\")), WebIO.Node{WebIO.DOM}(WebIO.DOM(:html, :div), Any[WebIO.Scope(WebIO.Node{WebIO.DOM}(WebIO.DOM(:html, :div), Any[], Dict{Symbol, Any}(:id => \"container\")), Dict{String, Tuple{Observables.AbstractObservable, Union{Nothing, Bool}}}(\"value\" => (Observable(\"\\\\;\\\\;\"), nothing)), Set{String}(), nothing, WebIO.Asset[WebIO.Asset(\"js\", nothing, \"/home/dushya/.julia/packages/InteractBase/LJXv3/src/../assets/katex.min.js\"), WebIO.Asset(\"css\", nothing, \"/home/dushya/.julia/packages/InteractBase/LJXv3/src/../assets/katex.min.css\")], Dict{Any, Any}(\"value\" => Any[WebIO.JSString(\"(function (txt){return this.k.render(txt,this.container)})\")]), WebIO.ConnectionPool(Channel{Any}(32), Set{WebIO.AbstractConnection}(), Base.GenericCondition{ReentrantLock}(Base.IntrusiveLinkedList{Task}(Task (runnable) @0x00007fc22f6844c0, Task (runnable) @0x00007fc22f6844c0), ReentrantLock(nothing, 0x00000000, 0x00, Base.GenericCondition{Base.Threads.SpinLock}(Base.IntrusiveLinkedList{Task}(nothing, nothing), Base.Threads.SpinLock(0)), (0, 0, 0)))), WebIO.JSString[WebIO.JSString(\"function () {\\n    var handler = ((function (k){this.k=k; this.container=this.dom.querySelector(\\\"#container\\\"); return k.render(\\\"\\\\\\\\;\\\\\\\\;\\\",this.container)}));\\n    (WebIO.importBlock({\\\"data\\\":[{\\\"name\\\":null,\\\"type\\\":\\\"js\\\",\\\"url\\\":\\\"/assetserver/dd22ed1bf1896c2748f3fe616ce0b838adc895c1-katex.min.js\\\"},{\\\"name\\\":null,\\\"type\\\":\\\"css\\\",\\\"url\\\":\\\"/assetserver/46517a424aa5e6cffc1360d7e0848b601c584ee3-katex.min.css\\\"}],\\\"type\\\":\\\"async_block\\\"})).then((imports) => handler.apply(this, imports));\\n}\\n\")])], Dict{Symbol, Any}(:className => \"interact-widget\")), WebIO.Node{WebIO.DOM}(WebIO.DOM(:html, :div), Any[WebIO.Scope(WebIO.Node{WebIO.DOM}(WebIO.DOM(:html, :button), Any[\"save\"], Dict{Symbol, Any}(:attributes => Dict{Any, Any}(\"data-bind\" => \"click: function (){this.clicks(this.clicks()+1)}, css: {'is-loading' : loading}\"), :className => \"is-medium button is-primary\", :style => Dict{String, Any}())), Dict{String, Tuple{Observables.AbstractObservable, Union{Nothing, Bool}}}(\"loading\" => (Observable(false), nothing), \"clicks\" => (Observable(0), nothing)), Set{String}(), nothing, WebIO.Asset[WebIO.Asset(\"js\", \"knockout\", \"/home/dushya/.julia/packages/Knockout/HReiN/src/../assets/knockout.js\"), WebIO.Asset(\"js\", \"knockout_punches\", \"/home/dushya/.julia/packages/Knockout/HReiN/src/../assets/knockout_punches.js\"), WebIO.Asset(\"js\", nothing, \"/home/dushya/.julia/packages/InteractBase/LJXv3/src/../assets/all.js\"), WebIO.Asset(\"css\", nothing, \"/home/dushya/.julia/packages/InteractBase/LJXv3/src/../assets/style.css\"), WebIO.Asset(\"css\", nothing, \"/home/dushya/.julia/packages/Interact/PENUy/src/../assets/bulma_confined.min.css\")], Dict{Any, Any}(\"loading\" => Any[WebIO.JSString(\"(function (val){return (val!=this.model[\\\"loading\\\"]()) ? (this.valueFromJulia[\\\"loading\\\"]=true, this.model[\\\"loading\\\"](val)) : undefined})\")], \"clicks\" => Any[WebIO.JSString(\"(function (val){return (val!=this.model[\\\"clicks\\\"]()) ? (this.valueFromJulia[\\\"clicks\\\"]=true, this.model[\\\"clicks\\\"](val)) : undefined})\")]), WebIO.ConnectionPool(Channel{Any}(32), Set{WebIO.AbstractConnection}(), Base.GenericCondition{ReentrantLock}(Base.IntrusiveLinkedList{Task}(Task (runnable) @0x00007fc26fcc8970, Task (runnable) @0x00007fc26fcc8970), ReentrantLock(nothing, 0x00000000, 0x00, Base.GenericCondition{Base.Threads.SpinLock}(Base.IntrusiveLinkedList{Task}(nothing, nothing), Base.Threads.SpinLock(0)), (0, 0, 141733920768)))), WebIO.JSString[WebIO.JSString(\"function () {\\n    var handler = (function (ko, koPunches) {\\n    ko.punches.enableAll();\\n    ko.bindingHandlers.numericValue = {\\n        init: function(element, valueAccessor, allBindings, data, context) {\\n            var stringified = ko.observable(ko.unwrap(valueAccessor()));\\n            stringified.subscribe(function(value) {\\n                var val = parseFloat(value);\\n                if (!isNaN(val)) {\\n                    valueAccessor()(val);\\n                }\\n            });\\n            valueAccessor().subscribe(function(value) {\\n                var str = JSON.stringify(value);\\n                if ((str == \\\"0\\\") && ([\\\"-0\\\", \\\"-0.\\\"].indexOf(stringified()) >= 0))\\n                     return;\\n                 if ([\\\"null\\\", \\\"\\\"].indexOf(str) >= 0)\\n                     return;\\n                stringified(str);\\n            });\\n            ko.applyBindingsToNode(\\n                element,\\n                {\\n                    value: stringified,\\n                    valueUpdate: allBindings.get('valueUpdate'),\\n                },\\n                context,\\n            );\\n        }\\n    };\\n    var json_data = {\\\"loading\\\":WebIO.getval({\\\"name\\\":\\\"loading\\\",\\\"scope\\\":\\\"6886497314709404963\\\",\\\"id\\\":\\\"16954657619395586222\\\",\\\"type\\\":\\\"observable\\\"}),\\\"clicks\\\":WebIO.getval({\\\"name\\\":\\\"clicks\\\",\\\"scope\\\":\\\"6886497314709404963\\\",\\\"id\\\":\\\"15271597919889154882\\\",\\\"type\\\":\\\"observable\\\"})};\\n    var self = this;\\n    function AppViewModel() {\\n        for (var key in json_data) {\\n            var el = json_data[key];\\n            this[key] = Array.isArray(el) ? ko.observableArray(el) : ko.observable(el);\\n        }\\n        \\n        \\n        [this[\\\"loading\\\"].subscribe((function (val){!(this.valueFromJulia[\\\"loading\\\"]) ? (WebIO.setval({\\\"name\\\":\\\"loading\\\",\\\"scope\\\":\\\"6886497314709404963\\\",\\\"id\\\":\\\"16954657619395586222\\\",\\\"type\\\":\\\"observable\\\"},val)) : undefined; return this.valueFromJulia[\\\"loading\\\"]=false}),self),this[\\\"clicks\\\"].subscribe((function (val){!(this.valueFromJulia[\\\"clicks\\\"]) ? (WebIO.setval({\\\"name\\\":\\\"clicks\\\",\\\"scope\\\":\\\"6886497314709404963\\\",\\\"id\\\":\\\"15271597919889154882\\\",\\\"type\\\":\\\"observable\\\"},val)) : undefined; return this.valueFromJulia[\\\"clicks\\\"]=false}),self)]\\n        \\n    }\\n    self.model = new AppViewModel();\\n    self.valueFromJulia = {};\\n    for (var key in json_data) {\\n        self.valueFromJulia[key] = false;\\n    }\\n    ko.applyBindings(self.model, self.dom);\\n}\\n);\\n    (WebIO.importBlock({\\\"data\\\":[{\\\"name\\\":\\\"knockout\\\",\\\"type\\\":\\\"js\\\",\\\"url\\\":\\\"/assetserver/727383f2a47bd31570b7da84eee7b022dd6d7c78-knockout.js\\\"},{\\\"name\\\":\\\"knockout_punches\\\",\\\"type\\\":\\\"js\\\",\\\"url\\\":\\\"/assetserver/382b41b3b1bd9f26f75861d360bad7f8beea211f-knockout_punches.js\\\"}],\\\"type\\\":\\\"async_block\\\"})).then((imports) => handler.apply(this, imports));\\n}\\n\")])], Dict{Symbol, Any}(:className => \"field interact-widget\"))], Dict{Symbol, Any}(:style => Dict(\"display\" => \"flex\", \"flex-direction\" => \"row\")))], Dict{Symbol, Any}(:style => Dict(\"display\" => \"flex\", \"flex-direction\" => \"column\"))), WebIO.Node{WebIO.DOM}(WebIO.DOM(:html, :div), Any[WebIO.Scope(WebIO.Node{WebIO.DOM}(WebIO.DOM(:html, :div), Any[], Dict{Symbol, Any}(:id => \"container\")), Dict{String, Tuple{Observables.AbstractObservable, Union{Nothing, Bool}}}(\"value\" => (Observable(\"\\\\;\\\\;\"), nothing)), Set{String}(), nothing, WebIO.Asset[WebIO.Asset(\"js\", nothing, \"/home/dushya/.julia/packages/InteractBase/LJXv3/src/../assets/katex.min.js\"), WebIO.Asset(\"css\", nothing, \"/home/dushya/.julia/packages/InteractBase/LJXv3/src/../assets/katex.min.css\")], Dict{Any, Any}(\"value\" => Any[WebIO.JSString(\"(function (txt){return this.k.render(txt,this.container)})\")]), WebIO.ConnectionPool(Channel{Any}(32), Set{WebIO.AbstractConnection}(), Base.GenericCondition{ReentrantLock}(Base.IntrusiveLinkedList{Task}(Task (runnable) @0x00007fc22f6844c0, Task (runnable) @0x00007fc22f6844c0), ReentrantLock(nothing, 0x00000000, 0x00, Base.GenericCondition{Base.Threads.SpinLock}(Base.IntrusiveLinkedList{Task}(nothing, nothing), Base.Threads.SpinLock(0)), (0, 0, 0)))), WebIO.JSString[WebIO.JSString(\"function () {\\n    var handler = ((function (k){this.k=k; this.container=this.dom.querySelector(\\\"#container\\\"); return k.render(\\\"\\\\\\\\;\\\\\\\\;\\\",this.container)}));\\n    (WebIO.importBlock({\\\"data\\\":[{\\\"name\\\":null,\\\"type\\\":\\\"js\\\",\\\"url\\\":\\\"/assetserver/dd22ed1bf1896c2748f3fe616ce0b838adc895c1-katex.min.js\\\"},{\\\"name\\\":null,\\\"type\\\":\\\"css\\\",\\\"url\\\":\\\"/assetserver/46517a424aa5e6cffc1360d7e0848b601c584ee3-katex.min.css\\\"}],\\\"type\\\":\\\"async_block\\\"})).then((imports) => handler.apply(this, imports));\\n}\\n\")])], Dict{Symbol, Any}(:className => \"interact-widget\")), Observable(Luxor.Drawing(430.0, 430.0, \"\", Cairo.CairoSurfaceBase{UInt32}(Ptr{Nothing} @0x0000000000000000, 430.0, 430.0), Cairo.CairoContext(Ptr{Nothing} @0x0000000005654f20, Cairo.CairoSurfaceBase{UInt32}(Ptr{Nothing} @0x0000000000000000, 430.0, 430.0), Ptr{Nothing} @0x0000000003770190), :png, 0.0, 0.0, 0.0, 1.0, IOBuffer(data=UInt8[...], readable=true, writable=true, seekable=true, append=false, size=22806, maxsize=Inf, ptr=22807, mark=-1), UInt8[0x89, 0x50, 0x4e, 0x47, 0x0d, 0x0a, 0x1a, 0x0a, 0x00, 0x00  …  0x00, 0x00, 0x49, 0x45, 0x4e, 0x44, 0xae, 0x42, 0x60, 0x82], false)), WebIO.Node{WebIO.DOM}(WebIO.DOM(:html, :div), Any[WebIO.Scope(WebIO.Node{WebIO.DOM}(WebIO.DOM(:html, :div), Any[], Dict{Symbol, Any}(:id => \"container\")), Dict{String, Tuple{Observables.AbstractObservable, Union{Nothing, Bool}}}(\"value\" => (Observable(\"\\\\;\\\\;\"), nothing)), Set{String}(), nothing, WebIO.Asset[WebIO.Asset(\"js\", nothing, \"/home/dushya/.julia/packages/InteractBase/LJXv3/src/../assets/katex.min.js\"), WebIO.Asset(\"css\", nothing, \"/home/dushya/.julia/packages/InteractBase/LJXv3/src/../assets/katex.min.css\")], Dict{Any, Any}(\"value\" => Any[WebIO.JSString(\"(function (txt){return this.k.render(txt,this.container)})\")]), WebIO.ConnectionPool(Channel{Any}(32), Set{WebIO.AbstractConnection}(), Base.GenericCondition{ReentrantLock}(Base.IntrusiveLinkedList{Task}(Task (runnable) @0x00007fc22f6844c0, Task (runnable) @0x00007fc22f6844c0), ReentrantLock(nothing, 0x00000000, 0x00, Base.GenericCondition{Base.Threads.SpinLock}(Base.IntrusiveLinkedList{Task}(nothing, nothing), Base.Threads.SpinLock(0)), (0, 0, 0)))), WebIO.JSString[WebIO.JSString(\"function () {\\n    var handler = ((function (k){this.k=k; this.container=this.dom.querySelector(\\\"#container\\\"); return k.render(\\\"\\\\\\\\;\\\\\\\\;\\\",this.container)}));\\n    (WebIO.importBlock({\\\"data\\\":[{\\\"name\\\":null,\\\"type\\\":\\\"js\\\",\\\"url\\\":\\\"/assetserver/dd22ed1bf1896c2748f3fe616ce0b838adc895c1-katex.min.js\\\"},{\\\"name\\\":null,\\\"type\\\":\\\"css\\\",\\\"url\\\":\\\"/assetserver/46517a424aa5e6cffc1360d7e0848b601c584ee3-katex.min.css\\\"}],\\\"type\\\":\\\"async_block\\\"})).then((imports) => handler.apply(this, imports));\\n}\\n\")])], Dict{Symbol, Any}(:className => \"interact-widget\")), WebIO.Node{WebIO.DOM}(WebIO.DOM(:html, :div), Any[], Dict{Symbol, Any}(:style => Dict(\"display\" => \"flex\", \"flex-direction\" => \"column\")))], Dict{Symbol, Any}(:style => Dict(\"display\" => \"flex\", \"flex-direction\" => \"row\")))], Dict{Symbol, Any}(:style => Dict(\"display\" => \"flex\", \"flex-direction\" => \"column\")))"
      ]
     },
     "execution_count": 8,
     "metadata": {
      "application/vnd.webio.node+json": {
       "kernelId": "3c99e793-8d43-4fcc-96c3-624d149d5ed6"
      }
     },
     "output_type": "execute_result"
    }
   ],
   "source": [
    "create_interactive_app(model, initialiser= initialiser!,\n",
    "    step_rule= step_rule!,\n",
    "    model_controls=[(:min_dis, \"slider\", 0.01:0.1:1.0),\n",
    "        (:coh_fac, \"slider\", 0.01:0.01:1.0),\n",
    "        (:sep_fac, \"slider\", 0.01:0.01:1.0),\n",
    "        (:aln_fac, \"slider\", 0.01:0.01:1.0),\n",
    "        (:vis_range, \"slider\", 0.5:0.5:4.0)], frames=400) "
   ]
  },
  {
   "cell_type": "markdown",
   "metadata": {},
   "source": [
    "## Step 5: Fetch Data \n",
    "\n",
    "It is easy to fetch any data recorded during simulation. For example, the data of average velocity of agents at each time step can be obtained as - "
   ]
  },
  {
   "cell_type": "code",
   "execution_count": 9,
   "metadata": {},
   "outputs": [
    {
     "data": {
      "text/html": [
       "<div><div style = \"float: left;\"><span>401×1 DataFrame</span></div><div style = \"float: right;\"><span style = \"font-style: italic;\">376 rows omitted</span></div><div style = \"clear: both;\"></div></div><div class = \"data-frame\" style = \"overflow-x: scroll;\"><table class = \"data-frame\" style = \"margin-bottom: 6px;\"><thead><tr class = \"header\"><th class = \"rowNumber\" style = \"font-weight: bold; text-align: right;\">Row</th><th style = \"text-align: left;\">average velocity</th></tr><tr class = \"subheader headerLastRow\"><th class = \"rowNumber\" style = \"font-weight: bold; text-align: right;\"></th><th title = \"Vect{2, Float64}\" style = \"text-align: left;\">Vect…</th></tr></thead><tbody><tr><td class = \"rowNumber\" style = \"font-weight: bold; text-align: right;\">1</td><td style = \"text-align: left;\">(0.0482368, -0.0381423)\\n</td></tr><tr><td class = \"rowNumber\" style = \"font-weight: bold; text-align: right;\">2</td><td style = \"text-align: left;\">(0.116134, -0.0194501)\\n</td></tr><tr><td class = \"rowNumber\" style = \"font-weight: bold; text-align: right;\">3</td><td style = \"text-align: left;\">(0.172925, -0.00902734)\\n</td></tr><tr><td class = \"rowNumber\" style = \"font-weight: bold; text-align: right;\">4</td><td style = \"text-align: left;\">(0.216148, 0.0117443)\\n</td></tr><tr><td class = \"rowNumber\" style = \"font-weight: bold; text-align: right;\">5</td><td style = \"text-align: left;\">(0.247146, 0.029442)\\n</td></tr><tr><td class = \"rowNumber\" style = \"font-weight: bold; text-align: right;\">6</td><td style = \"text-align: left;\">(0.256993, 0.0281153)\\n</td></tr><tr><td class = \"rowNumber\" style = \"font-weight: bold; text-align: right;\">7</td><td style = \"text-align: left;\">(0.247091, 0.0156045)\\n</td></tr><tr><td class = \"rowNumber\" style = \"font-weight: bold; text-align: right;\">8</td><td style = \"text-align: left;\">(0.210039, -0.0173513)\\n</td></tr><tr><td class = \"rowNumber\" style = \"font-weight: bold; text-align: right;\">9</td><td style = \"text-align: left;\">(0.188033, -0.0403822)\\n</td></tr><tr><td class = \"rowNumber\" style = \"font-weight: bold; text-align: right;\">10</td><td style = \"text-align: left;\">(0.185393, -0.0571997)\\n</td></tr><tr><td class = \"rowNumber\" style = \"font-weight: bold; text-align: right;\">11</td><td style = \"text-align: left;\">(0.16933, -0.0744326)\\n</td></tr><tr><td class = \"rowNumber\" style = \"font-weight: bold; text-align: right;\">12</td><td style = \"text-align: left;\">(0.140324, -0.0839081)\\n</td></tr><tr><td class = \"rowNumber\" style = \"font-weight: bold; text-align: right;\">13</td><td style = \"text-align: left;\">(0.111293, -0.0822444)\\n</td></tr><tr><td style = \"text-align: right;\">&vellip;</td><td style = \"text-align: right;\">&vellip;</td></tr><tr><td class = \"rowNumber\" style = \"font-weight: bold; text-align: right;\">390</td><td style = \"text-align: left;\">(0.0325392, 0.584486)\\n</td></tr><tr><td class = \"rowNumber\" style = \"font-weight: bold; text-align: right;\">391</td><td style = \"text-align: left;\">(0.0427871, 0.613856)\\n</td></tr><tr><td class = \"rowNumber\" style = \"font-weight: bold; text-align: right;\">392</td><td style = \"text-align: left;\">(0.0522009, 0.638034)\\n</td></tr><tr><td class = \"rowNumber\" style = \"font-weight: bold; text-align: right;\">393</td><td style = \"text-align: left;\">(0.112165, 0.650431)\\n</td></tr><tr><td class = \"rowNumber\" style = \"font-weight: bold; text-align: right;\">394</td><td style = \"text-align: left;\">(0.149388, 0.647111)\\n</td></tr><tr><td class = \"rowNumber\" style = \"font-weight: bold; text-align: right;\">395</td><td style = \"text-align: left;\">(0.206187, 0.656168)\\n</td></tr><tr><td class = \"rowNumber\" style = \"font-weight: bold; text-align: right;\">396</td><td style = \"text-align: left;\">(0.273911, 0.663524)\\n</td></tr><tr><td class = \"rowNumber\" style = \"font-weight: bold; text-align: right;\">397</td><td style = \"text-align: left;\">(0.317913, 0.620278)\\n</td></tr><tr><td class = \"rowNumber\" style = \"font-weight: bold; text-align: right;\">398</td><td style = \"text-align: left;\">(0.32596, 0.588913)\\n</td></tr><tr><td class = \"rowNumber\" style = \"font-weight: bold; text-align: right;\">399</td><td style = \"text-align: left;\">(0.279938, 0.539241)\\n</td></tr><tr><td class = \"rowNumber\" style = \"font-weight: bold; text-align: right;\">400</td><td style = \"text-align: left;\">(0.308247, 0.515295)\\n</td></tr><tr><td class = \"rowNumber\" style = \"font-weight: bold; text-align: right;\">401</td><td style = \"text-align: left;\">(0.338918, 0.475005)\\n</td></tr></tbody></table></div>"
      ],
      "text/latex": [
       "\\begin{tabular}{r|c}\n",
       "\t& average velocity\\\\\n",
       "\t\\hline\n",
       "\t& Vect…\\\\\n",
       "\t\\hline\n",
       "\t1 & (0.0482368, -0.0381423)\\textbackslash{}n \\\\\n",
       "\t2 & (0.116134, -0.0194501)\\textbackslash{}n \\\\\n",
       "\t3 & (0.172925, -0.00902734)\\textbackslash{}n \\\\\n",
       "\t4 & (0.216148, 0.0117443)\\textbackslash{}n \\\\\n",
       "\t5 & (0.247146, 0.029442)\\textbackslash{}n \\\\\n",
       "\t6 & (0.256993, 0.0281153)\\textbackslash{}n \\\\\n",
       "\t7 & (0.247091, 0.0156045)\\textbackslash{}n \\\\\n",
       "\t8 & (0.210039, -0.0173513)\\textbackslash{}n \\\\\n",
       "\t9 & (0.188033, -0.0403822)\\textbackslash{}n \\\\\n",
       "\t10 & (0.185393, -0.0571997)\\textbackslash{}n \\\\\n",
       "\t11 & (0.16933, -0.0744326)\\textbackslash{}n \\\\\n",
       "\t12 & (0.140324, -0.0839081)\\textbackslash{}n \\\\\n",
       "\t13 & (0.111293, -0.0822444)\\textbackslash{}n \\\\\n",
       "\t14 & (0.078591, -0.0740067)\\textbackslash{}n \\\\\n",
       "\t15 & (0.0444016, -0.0591065)\\textbackslash{}n \\\\\n",
       "\t16 & (0.00348945, -0.0469791)\\textbackslash{}n \\\\\n",
       "\t17 & (-0.0449073, -0.0250516)\\textbackslash{}n \\\\\n",
       "\t18 & (-0.093161, -0.0210954)\\textbackslash{}n \\\\\n",
       "\t19 & (-0.118908, -0.0518343)\\textbackslash{}n \\\\\n",
       "\t20 & (-0.136681, -0.0743858)\\textbackslash{}n \\\\\n",
       "\t21 & (-0.158668, -0.0960705)\\textbackslash{}n \\\\\n",
       "\t22 & (-0.19585, -0.110633)\\textbackslash{}n \\\\\n",
       "\t23 & (-0.199818, -0.132075)\\textbackslash{}n \\\\\n",
       "\t24 & (-0.211716, -0.117167)\\textbackslash{}n \\\\\n",
       "\t25 & (-0.21884, -0.106364)\\textbackslash{}n \\\\\n",
       "\t26 & (-0.235058, -0.108664)\\textbackslash{}n \\\\\n",
       "\t27 & (-0.244872, -0.118945)\\textbackslash{}n \\\\\n",
       "\t28 & (-0.253986, -0.126042)\\textbackslash{}n \\\\\n",
       "\t29 & (-0.289548, -0.167688)\\textbackslash{}n \\\\\n",
       "\t30 & (-0.331394, -0.287115)\\textbackslash{}n \\\\\n",
       "\t$\\dots$ & $\\dots$ \\\\\n",
       "\\end{tabular}\n"
      ],
      "text/plain": [
       "\u001b[1m401×1 DataFrame\u001b[0m\n",
       "\u001b[1m Row \u001b[0m│\u001b[1m average velocity          \u001b[0m\n",
       "     │\u001b[90m Vect{2, Float64}          \u001b[0m\n",
       "─────┼───────────────────────────\n",
       "   1 │ (0.0482368, -0.0381423)\\n\n",
       "   2 │ (0.116134, -0.0194501)\\n\n",
       "   3 │ (0.172925, -0.00902734)\\n\n",
       "   4 │ (0.216148, 0.0117443)\\n\n",
       "   5 │ (0.247146, 0.029442)\\n\n",
       "   6 │ (0.256993, 0.0281153)\\n\n",
       "   7 │ (0.247091, 0.0156045)\\n\n",
       "   8 │ (0.210039, -0.0173513)\\n\n",
       "   9 │ (0.188033, -0.0403822)\\n\n",
       "  10 │ (0.185393, -0.0571997)\\n\n",
       "  11 │ (0.16933, -0.0744326)\\n\n",
       "  ⋮  │             ⋮\n",
       " 392 │ (0.0522009, 0.638034)\\n\n",
       " 393 │ (0.112165, 0.650431)\\n\n",
       " 394 │ (0.149388, 0.647111)\\n\n",
       " 395 │ (0.206187, 0.656168)\\n\n",
       " 396 │ (0.273911, 0.663524)\\n\n",
       " 397 │ (0.317913, 0.620278)\\n\n",
       " 398 │ (0.32596, 0.588913)\\n\n",
       " 399 │ (0.279938, 0.539241)\\n\n",
       " 400 │ (0.308247, 0.515295)\\n\n",
       " 401 │ (0.338918, 0.475005)\\n\n",
       "\u001b[36m                 380 rows omitted\u001b[0m"
      ]
     },
     "execution_count": 9,
     "metadata": {},
     "output_type": "execute_result"
    }
   ],
   "source": [
    "df = get_agents_avg_props(model, agent -> agent.vel, labels = [\"average velocity\"])"
   ]
  },
  {
   "cell_type": "markdown",
   "metadata": {},
   "source": [
    "Individual agent data recorded during model run can be obtained as "
   ]
  },
  {
   "cell_type": "code",
   "execution_count": 10,
   "metadata": {},
   "outputs": [
    {
     "data": {
      "text/html": [
       "<div><div style = \"float: left;\"><span>401×3 DataFrame</span></div><div style = \"float: right;\"><span style = \"font-style: italic;\">376 rows omitted</span></div><div style = \"clear: both;\"></div></div><div class = \"data-frame\" style = \"overflow-x: scroll;\"><table class = \"data-frame\" style = \"margin-bottom: 6px;\"><thead><tr class = \"header\"><th class = \"rowNumber\" style = \"font-weight: bold; text-align: right;\">Row</th><th style = \"text-align: left;\">orientation</th><th style = \"text-align: left;\">pos</th><th style = \"text-align: left;\">vel</th></tr><tr class = \"subheader headerLastRow\"><th class = \"rowNumber\" style = \"font-weight: bold; text-align: right;\"></th><th title = \"Float64\" style = \"text-align: left;\">Float64</th><th title = \"Vect{2, Float64}\" style = \"text-align: left;\">Vect…</th><th title = \"Vect{2, Float64}\" style = \"text-align: left;\">Vect…</th></tr></thead><tbody><tr><td class = \"rowNumber\" style = \"font-weight: bold; text-align: right;\">1</td><td style = \"text-align: right;\">3.32194</td><td style = \"text-align: left;\">(2.20456, 8.06447)\\n</td><td style = \"text-align: left;\">(0.179368, -0.983782)\\n</td></tr><tr><td class = \"rowNumber\" style = \"font-weight: bold; text-align: right;\">2</td><td style = \"text-align: right;\">2.70357</td><td style = \"text-align: left;\">(2.16214, 7.97391)\\n</td><td style = \"text-align: left;\">(-0.424143, -0.905581)\\n</td></tr><tr><td class = \"rowNumber\" style = \"font-weight: bold; text-align: right;\">3</td><td style = \"text-align: right;\">2.54473</td><td style = \"text-align: left;\">(2.10594, 7.8912)\\n</td><td style = \"text-align: left;\">(-0.562041, -0.827096)\\n</td></tr><tr><td class = \"rowNumber\" style = \"font-weight: bold; text-align: right;\">4</td><td style = \"text-align: right;\">2.48828</td><td style = \"text-align: left;\">(2.04516, 7.8118)\\n</td><td style = \"text-align: left;\">(-0.607816, -0.794063)\\n</td></tr><tr><td class = \"rowNumber\" style = \"font-weight: bold; text-align: right;\">5</td><td style = \"text-align: right;\">2.49517</td><td style = \"text-align: left;\">(1.98492, 7.73197)\\n</td><td style = \"text-align: left;\">(-0.602329, -0.798233)\\n</td></tr><tr><td class = \"rowNumber\" style = \"font-weight: bold; text-align: right;\">6</td><td style = \"text-align: right;\">2.54975</td><td style = \"text-align: left;\">(1.92913, 7.64898)\\n</td><td style = \"text-align: left;\">(-0.557886, -0.829903)\\n</td></tr><tr><td class = \"rowNumber\" style = \"font-weight: bold; text-align: right;\">7</td><td style = \"text-align: right;\">2.63469</td><td style = \"text-align: left;\">(1.88059, 7.56156)\\n</td><td style = \"text-align: left;\">(-0.485465, -0.874243)\\n</td></tr><tr><td class = \"rowNumber\" style = \"font-weight: bold; text-align: right;\">8</td><td style = \"text-align: right;\">2.74559</td><td style = \"text-align: left;\">(1.84201, 7.4693)\\n</td><td style = \"text-align: left;\">(-0.385727, -0.922601)\\n</td></tr><tr><td class = \"rowNumber\" style = \"font-weight: bold; text-align: right;\">9</td><td style = \"text-align: right;\">2.84916</td><td style = \"text-align: left;\">(1.81319, 7.37355)\\n</td><td style = \"text-align: left;\">(-0.288278, -0.957536)\\n</td></tr><tr><td class = \"rowNumber\" style = \"font-weight: bold; text-align: right;\">10</td><td style = \"text-align: right;\">3.08471</td><td style = \"text-align: left;\">(1.8075, 7.27371)\\n</td><td style = \"text-align: left;\">(-0.0568463, -0.998371)\\n</td></tr><tr><td class = \"rowNumber\" style = \"font-weight: bold; text-align: right;\">11</td><td style = \"text-align: right;\">3.1941</td><td style = \"text-align: left;\">(1.81275, 7.17385)\\n</td><td style = \"text-align: left;\">(0.0524808, -0.998611)\\n</td></tr><tr><td class = \"rowNumber\" style = \"font-weight: bold; text-align: right;\">12</td><td style = \"text-align: right;\">3.24023</td><td style = \"text-align: left;\">(1.8226, 7.07434)\\n</td><td style = \"text-align: left;\">(0.0984746, -0.995129)\\n</td></tr><tr><td class = \"rowNumber\" style = \"font-weight: bold; text-align: right;\">13</td><td style = \"text-align: right;\">3.26018</td><td style = \"text-align: left;\">(1.83443, 6.97504)\\n</td><td style = \"text-align: left;\">(0.118311, -0.992966)\\n</td></tr><tr><td style = \"text-align: right;\">&vellip;</td><td style = \"text-align: right;\">&vellip;</td><td style = \"text-align: right;\">&vellip;</td><td style = \"text-align: right;\">&vellip;</td></tr><tr><td class = \"rowNumber\" style = \"font-weight: bold; text-align: right;\">390</td><td style = \"text-align: right;\">5.36299</td><td style = \"text-align: left;\">(5.72755, 5.95281)\\n</td><td style = \"text-align: left;\">(0.795715, 0.605659)\\n</td></tr><tr><td class = \"rowNumber\" style = \"font-weight: bold; text-align: right;\">391</td><td style = \"text-align: right;\">5.36819</td><td style = \"text-align: left;\">(5.8068, 6.01379)\\n</td><td style = \"text-align: left;\">(0.792553, 0.609791)\\n</td></tr><tr><td class = \"rowNumber\" style = \"font-weight: bold; text-align: right;\">392</td><td style = \"text-align: right;\">5.38787</td><td style = \"text-align: left;\">(5.88485, 6.07631)\\n</td><td style = \"text-align: left;\">(0.780403, 0.625265)\\n</td></tr><tr><td class = \"rowNumber\" style = \"font-weight: bold; text-align: right;\">393</td><td style = \"text-align: right;\">5.39396</td><td style = \"text-align: left;\">(5.9625, 6.13931)\\n</td><td style = \"text-align: left;\">(0.77658, 0.630007)\\n</td></tr><tr><td class = \"rowNumber\" style = \"font-weight: bold; text-align: right;\">394</td><td style = \"text-align: right;\">5.37673</td><td style = \"text-align: left;\">(6.04123, 6.20097)\\n</td><td style = \"text-align: left;\">(0.78732, 0.616533)\\n</td></tr><tr><td class = \"rowNumber\" style = \"font-weight: bold; text-align: right;\">395</td><td style = \"text-align: right;\">5.34422</td><td style = \"text-align: left;\">(6.12193, 6.26003)\\n</td><td style = \"text-align: left;\">(0.806943, 0.590616)\\n</td></tr><tr><td class = \"rowNumber\" style = \"font-weight: bold; text-align: right;\">396</td><td style = \"text-align: right;\">5.31642</td><td style = \"text-align: left;\">(6.20423, 6.31683)\\n</td><td style = \"text-align: left;\">(0.823046, 0.567962)\\n</td></tr><tr><td class = \"rowNumber\" style = \"font-weight: bold; text-align: right;\">397</td><td style = \"text-align: right;\">5.3005</td><td style = \"text-align: left;\">(6.28743, 6.3723)\\n</td><td style = \"text-align: left;\">(0.831985, 0.554784)\\n</td></tr><tr><td class = \"rowNumber\" style = \"font-weight: bold; text-align: right;\">398</td><td style = \"text-align: right;\">4.95863</td><td style = \"text-align: left;\">(6.38442, 6.39668)\\n</td><td style = \"text-align: left;\">(0.969828, 0.243759)\\n</td></tr><tr><td class = \"rowNumber\" style = \"font-weight: bold; text-align: right;\">399</td><td style = \"text-align: right;\">4.93787</td><td style = \"text-align: left;\">(6.48188, 6.41904)\\n</td><td style = \"text-align: left;\">(0.974679, 0.223576)\\n</td></tr><tr><td class = \"rowNumber\" style = \"font-weight: bold; text-align: right;\">400</td><td style = \"text-align: right;\">4.80058</td><td style = \"text-align: left;\">(6.58149, 6.42785)\\n</td><td style = \"text-align: left;\">(0.996105, 0.0880779)\\n</td></tr><tr><td class = \"rowNumber\" style = \"font-weight: bold; text-align: right;\">401</td><td style = \"text-align: right;\">4.75836</td><td style = \"text-align: left;\">(6.68139, 6.43244)\\n</td><td style = \"text-align: left;\">(0.998933, 0.0459518)\\n</td></tr></tbody></table></div>"
      ],
      "text/latex": [
       "\\begin{tabular}{r|ccc}\n",
       "\t& orientation & pos & vel\\\\\n",
       "\t\\hline\n",
       "\t& Float64 & Vect… & Vect…\\\\\n",
       "\t\\hline\n",
       "\t1 & 3.32194 & (2.20456, 8.06447)\\textbackslash{}n & (0.179368, -0.983782)\\textbackslash{}n \\\\\n",
       "\t2 & 2.70357 & (2.16214, 7.97391)\\textbackslash{}n & (-0.424143, -0.905581)\\textbackslash{}n \\\\\n",
       "\t3 & 2.54473 & (2.10594, 7.8912)\\textbackslash{}n & (-0.562041, -0.827096)\\textbackslash{}n \\\\\n",
       "\t4 & 2.48828 & (2.04516, 7.8118)\\textbackslash{}n & (-0.607816, -0.794063)\\textbackslash{}n \\\\\n",
       "\t5 & 2.49517 & (1.98492, 7.73197)\\textbackslash{}n & (-0.602329, -0.798233)\\textbackslash{}n \\\\\n",
       "\t6 & 2.54975 & (1.92913, 7.64898)\\textbackslash{}n & (-0.557886, -0.829903)\\textbackslash{}n \\\\\n",
       "\t7 & 2.63469 & (1.88059, 7.56156)\\textbackslash{}n & (-0.485465, -0.874243)\\textbackslash{}n \\\\\n",
       "\t8 & 2.74559 & (1.84201, 7.4693)\\textbackslash{}n & (-0.385727, -0.922601)\\textbackslash{}n \\\\\n",
       "\t9 & 2.84916 & (1.81319, 7.37355)\\textbackslash{}n & (-0.288278, -0.957536)\\textbackslash{}n \\\\\n",
       "\t10 & 3.08471 & (1.8075, 7.27371)\\textbackslash{}n & (-0.0568463, -0.998371)\\textbackslash{}n \\\\\n",
       "\t11 & 3.1941 & (1.81275, 7.17385)\\textbackslash{}n & (0.0524808, -0.998611)\\textbackslash{}n \\\\\n",
       "\t12 & 3.24023 & (1.8226, 7.07434)\\textbackslash{}n & (0.0984746, -0.995129)\\textbackslash{}n \\\\\n",
       "\t13 & 3.26018 & (1.83443, 6.97504)\\textbackslash{}n & (0.118311, -0.992966)\\textbackslash{}n \\\\\n",
       "\t14 & 3.26093 & (1.84633, 6.87575)\\textbackslash{}n & (0.119055, -0.992877)\\textbackslash{}n \\\\\n",
       "\t15 & 3.25161 & (1.85731, 6.77636)\\textbackslash{}n & (0.109795, -0.993944)\\textbackslash{}n \\\\\n",
       "\t16 & 3.23591 & (1.86673, 6.6768)\\textbackslash{}n & (0.0941765, -0.995545)\\textbackslash{}n \\\\\n",
       "\t17 & 3.22314 & (1.87488, 6.57714)\\textbackslash{}n & (0.0814533, -0.996667)\\textbackslash{}n \\\\\n",
       "\t18 & 3.20239 & (1.88095, 6.47732)\\textbackslash{}n & (0.0607576, -0.998142)\\textbackslash{}n \\\\\n",
       "\t19 & 3.19544 & (1.88633, 6.37747)\\textbackslash{}n & (0.0538165, -0.99854)\\textbackslash{}n \\\\\n",
       "\t20 & 3.19654 & (1.89183, 6.27762)\\textbackslash{}n & (0.0549155, -0.998481)\\textbackslash{}n \\\\\n",
       "\t21 & 3.22532 & (1.90019, 6.17797)\\textbackslash{}n & (0.0836291, -0.996487)\\textbackslash{}n \\\\\n",
       "\t22 & 3.26451 & (1.91245, 6.07873)\\textbackslash{}n & (0.122604, -0.992445)\\textbackslash{}n \\\\\n",
       "\t23 & 3.30234 & (1.92845, 5.98002)\\textbackslash{}n & (0.160055, -0.987098)\\textbackslash{}n \\\\\n",
       "\t24 & 3.54267 & (1.9675, 5.88795)\\textbackslash{}n & (0.390406, -0.920632)\\textbackslash{}n \\\\\n",
       "\t25 & 3.69538 & (2.02009, 5.8029)\\textbackslash{}n & (0.525911, -0.850528)\\textbackslash{}n \\\\\n",
       "\t26 & 3.80123 & (2.08137, 5.72388)\\textbackslash{}n & (0.612821, -0.790209)\\textbackslash{}n \\\\\n",
       "\t27 & 3.87707 & (2.14846, 5.64973)\\textbackslash{}n & (0.670937, -0.741501)\\textbackslash{}n \\\\\n",
       "\t28 & 3.91955 & (2.21864, 5.57849)\\textbackslash{}n & (0.701817, -0.712344)\\textbackslash{}n \\\\\n",
       "\t29 & 3.95835 & (2.29154, 5.51004)\\textbackslash{}n & (0.728921, -0.684584)\\textbackslash{}n \\\\\n",
       "\t30 & 3.893 & (2.3598, 5.43696)\\textbackslash{}n & (0.682666, -0.73072)\\textbackslash{}n \\\\\n",
       "\t$\\dots$ & $\\dots$ & $\\dots$ & $\\dots$ \\\\\n",
       "\\end{tabular}\n"
      ],
      "text/plain": [
       "\u001b[1m401×3 DataFrame\u001b[0m\n",
       "\u001b[1m Row \u001b[0m│\u001b[1m orientation \u001b[0m\u001b[1m pos                  \u001b[0m\u001b[1m vel                       \u001b[0m\n",
       "     │\u001b[90m Float64     \u001b[0m\u001b[90m Vect…                \u001b[0m\u001b[90m Vect…                     \u001b[0m\n",
       "─────┼──────────────────────────────────────────────────────────────\n",
       "   1 │     3.32194  (2.20456, 8.06447)\\n  (0.179368, -0.983782)\\n\n",
       "   2 │     2.70357  (2.16214, 7.97391)\\n  (-0.424143, -0.905581)\\n\n",
       "   3 │     2.54473  (2.10594, 7.8912)\\n   (-0.562041, -0.827096)\\n\n",
       "   4 │     2.48828  (2.04516, 7.8118)\\n   (-0.607816, -0.794063)\\n\n",
       "   5 │     2.49517  (1.98492, 7.73197)\\n  (-0.602329, -0.798233)\\n\n",
       "   6 │     2.54975  (1.92913, 7.64898)\\n  (-0.557886, -0.829903)\\n\n",
       "   7 │     2.63469  (1.88059, 7.56156)\\n  (-0.485465, -0.874243)\\n\n",
       "   8 │     2.74559  (1.84201, 7.4693)\\n   (-0.385727, -0.922601)\\n\n",
       "   9 │     2.84916  (1.81319, 7.37355)\\n  (-0.288278, -0.957536)\\n\n",
       "  10 │     3.08471  (1.8075, 7.27371)\\n   (-0.0568463, -0.998371)\\n\n",
       "  11 │     3.1941   (1.81275, 7.17385)\\n  (0.0524808, -0.998611)\\n\n",
       "  ⋮  │      ⋮                ⋮                        ⋮\n",
       " 392 │     5.38787  (5.88485, 6.07631)\\n  (0.780403, 0.625265)\\n\n",
       " 393 │     5.39396  (5.9625, 6.13931)\\n   (0.77658, 0.630007)\\n\n",
       " 394 │     5.37673  (6.04123, 6.20097)\\n  (0.78732, 0.616533)\\n\n",
       " 395 │     5.34422  (6.12193, 6.26003)\\n  (0.806943, 0.590616)\\n\n",
       " 396 │     5.31642  (6.20423, 6.31683)\\n  (0.823046, 0.567962)\\n\n",
       " 397 │     5.3005   (6.28743, 6.3723)\\n   (0.831985, 0.554784)\\n\n",
       " 398 │     4.95863  (6.38442, 6.39668)\\n  (0.969828, 0.243759)\\n\n",
       " 399 │     4.93787  (6.48188, 6.41904)\\n  (0.974679, 0.223576)\\n\n",
       " 400 │     4.80058  (6.58149, 6.42785)\\n  (0.996105, 0.0880779)\\n\n",
       " 401 │     4.75836  (6.68139, 6.43244)\\n  (0.998933, 0.0459518)\\n\n",
       "\u001b[36m                                                    380 rows omitted\u001b[0m"
      ]
     },
     "execution_count": 10,
     "metadata": {},
     "output_type": "execute_result"
    }
   ],
   "source": [
    "df = get_agent_data(model.agents[1], model).record"
   ]
  },
  {
   "cell_type": "code",
   "execution_count": null,
   "metadata": {},
   "outputs": [],
   "source": []
  }
 ],
 "metadata": {
  "@webio": {
   "lastCommId": "128cd9ab8f4c47ee95b15c89765e86e2",
   "lastKernelId": "3c99e793-8d43-4fcc-96c3-624d149d5ed6"
  },
  "kernelspec": {
   "display_name": "Julia 1.9.2",
   "language": "julia",
   "name": "julia-1.9"
  },
  "language_info": {
   "file_extension": ".jl",
   "mimetype": "application/julia",
   "name": "julia",
   "version": "1.9.2"
  }
 },
 "nbformat": 4,
 "nbformat_minor": 4
}
