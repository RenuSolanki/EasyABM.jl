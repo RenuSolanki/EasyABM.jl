{
 "cells": [
  {
   "cell_type": "markdown",
   "metadata": {},
   "source": [
    "# Ramdom Walkers\n",
    "\n",
    "A simple example of random walkers in 2D. "
   ]
  },
  {
   "cell_type": "code",
   "execution_count": 16,
   "metadata": {},
   "outputs": [
    {
     "name": "stderr",
     "output_type": "stream",
     "text": [
      "\u001b[32m\u001b[1m  Activating\u001b[22m\u001b[39m project at `~/Documents/EasyABM`\n"
     ]
    }
   ],
   "source": [
    "using Pkg, Revise\n",
    "Pkg.activate(joinpath(@__DIR__, \"../..\"))\n",
    "using EasyABM"
   ]
  },
  {
   "cell_type": "code",
   "execution_count": 17,
   "metadata": {},
   "outputs": [
    {
     "data": {
      "text/plain": [
       "Agent2D list with 200 agents.\n"
      ]
     },
     "execution_count": 17,
     "metadata": {},
     "output_type": "execute_result"
    }
   ],
   "source": [
    "agents = con_2d_agents(200, pos = Vect(5.0,5.0), color = cl\"red\", shape=:circle, keeps_record_of=Set([:pos]))"
   ]
  },
  {
   "cell_type": "code",
   "execution_count": 18,
   "metadata": {},
   "outputs": [
    {
     "data": {
      "text/plain": [
       "EasyABM SpaceModel2D{EasyABM.StaticType, Float64, EasyABM.NPeriodicType}: In a EasyABM.StaticType model number of agents is fixed.\n"
      ]
     },
     "execution_count": 18,
     "metadata": {},
     "output_type": "execute_result"
    }
   ],
   "source": [
    "model = create_2d_model(agents, agents_type = Static, space_type=NPeriodic, dt=0.2)"
   ]
  },
  {
   "cell_type": "code",
   "execution_count": 19,
   "metadata": {},
   "outputs": [],
   "source": [
    "function initialiser!(model)\n",
    "    colors =  [cl\"red\", cl\"blue\", cl\"green\", cl\"yellow\", cl\"black\"]\n",
    "    for agent in model.agents\n",
    "        agent.color = colors[rand(1:5)]\n",
    "    end    \n",
    "end\n",
    "init_model!(model, initialiser = initialiser!)"
   ]
  },
  {
   "cell_type": "code",
   "execution_count": 20,
   "metadata": {},
   "outputs": [
    {
     "data": {
      "text/plain": [
       "step_rule! (generic function with 1 method)"
      ]
     },
     "execution_count": 20,
     "metadata": {},
     "output_type": "execute_result"
    }
   ],
   "source": [
    "function step_rule!(model)\n",
    "    for agent in model.agents\n",
    "        agent.pos += Vect(0.5-rand(), 0.5-rand())*model.parameters.dt\n",
    "    end\n",
    "end"
   ]
  },
  {
   "cell_type": "code",
   "execution_count": 21,
   "metadata": {},
   "outputs": [],
   "source": [
    "run_model!(model, steps=400, step_rule=step_rule!)"
   ]
  },
  {
   "cell_type": "code",
   "execution_count": 22,
   "metadata": {},
   "outputs": [
    {
     "data": {
      "application/vnd.webio.node+json": {
       "children": [
        {
         "children": [
          {
           "children": [
            {
             "children": [
              {
               "children": [
                {
                 "children": [
                  {
                   "children": [
                    {
                     "children": [
                      "time"
                     ],
                     "instanceArgs": {
                      "namespace": "html",
                      "tag": "label"
                     },
                     "nodeType": "DOM",
                     "props": {
                      "className": "interact ",
                      "style": {
                       "padding": "5px 10px 0px 10px"
                      }
                     },
                     "type": "node"
                    }
                   ],
                   "instanceArgs": {
                    "namespace": "html",
                    "tag": "div"
                   },
                   "nodeType": "DOM",
                   "props": {
                    "className": "interact-flex-row-left"
                   },
                   "type": "node"
                  },
                  {
                   "children": [
                    {
                     "children": [],
                     "instanceArgs": {
                      "namespace": "html",
                      "tag": "input"
                     },
                     "nodeType": "DOM",
                     "props": {
                      "attributes": {
                       "data-bind": "numericValue: index, valueUpdate: 'input', event: {change: function (){this.changes(this.changes()+1)}}",
                       "orient": "horizontal",
                       "type": "range"
                      },
                      "className": "slider slider is-fullwidth",
                      "max": 401,
                      "min": 1,
                      "step": 1,
                      "style": {}
                     },
                     "type": "node"
                    }
                   ],
                   "instanceArgs": {
                    "namespace": "html",
                    "tag": "div"
                   },
                   "nodeType": "DOM",
                   "props": {
                    "className": "interact-flex-row-center"
                   },
                   "type": "node"
                  },
                  {
                   "children": [
                    {
                     "children": [],
                     "instanceArgs": {
                      "namespace": "html",
                      "tag": "p"
                     },
                     "nodeType": "DOM",
                     "props": {
                      "attributes": {
                       "data-bind": "text: formatted_val"
                      }
                     },
                     "type": "node"
                    }
                   ],
                   "instanceArgs": {
                    "namespace": "html",
                    "tag": "div"
                   },
                   "nodeType": "DOM",
                   "props": {
                    "className": "interact-flex-row-right"
                   },
                   "type": "node"
                  }
                 ],
                 "instanceArgs": {
                  "namespace": "html",
                  "tag": "div"
                 },
                 "nodeType": "DOM",
                 "props": {
                  "className": "interact-flex-row interact-widget"
                 },
                 "type": "node"
                }
               ],
               "instanceArgs": {
                "handlers": {
                 "changes": [
                  "(function (val){return (val!=this.model[\"changes\"]()) ? (this.valueFromJulia[\"changes\"]=true, this.model[\"changes\"](val)) : undefined})"
                 ],
                 "index": [
                  "(function (val){return (val!=this.model[\"index\"]()) ? (this.valueFromJulia[\"index\"]=true, this.model[\"index\"](val)) : undefined})"
                 ]
                },
                "id": "17461291064225645339",
                "imports": {
                 "data": [
                  {
                   "name": "knockout",
                   "type": "js",
                   "url": "/assetserver/727383f2a47bd31570b7da84eee7b022dd6d7c78-knockout.js"
                  },
                  {
                   "name": "knockout_punches",
                   "type": "js",
                   "url": "/assetserver/382b41b3b1bd9f26f75861d360bad7f8beea211f-knockout_punches.js"
                  },
                  {
                   "name": null,
                   "type": "js",
                   "url": "/assetserver/5ab20f1060420992a9b82a65b735dee4d81ef413-all.js"
                  },
                  {
                   "name": null,
                   "type": "css",
                   "url": "/assetserver/1cc0ed62837210b80a182cc3676512f895dab686-style.css"
                  },
                  {
                   "name": null,
                   "type": "css",
                   "url": "/assetserver/2eee816f616df3549d7044d45e744fbf8d42bfa1-bulma_confined.min.css"
                  }
                 ],
                 "type": "async_block"
                },
                "mount_callbacks": [
                 "function () {\n    var handler = (function (ko, koPunches) {\n    ko.punches.enableAll();\n    ko.bindingHandlers.numericValue = {\n        init: function(element, valueAccessor, allBindings, data, context) {\n            var stringified = ko.observable(ko.unwrap(valueAccessor()));\n            stringified.subscribe(function(value) {\n                var val = parseFloat(value);\n                if (!isNaN(val)) {\n                    valueAccessor()(val);\n                }\n            });\n            valueAccessor().subscribe(function(value) {\n                var str = JSON.stringify(value);\n                if ((str == \"0\") && ([\"-0\", \"-0.\"].indexOf(stringified()) >= 0))\n                     return;\n                 if ([\"null\", \"\"].indexOf(str) >= 0)\n                     return;\n                stringified(str);\n            });\n            ko.applyBindingsToNode(\n                element,\n                {\n                    value: stringified,\n                    valueUpdate: allBindings.get('valueUpdate'),\n                },\n                context,\n            );\n        }\n    };\n    var json_data = {\"formatted_vals\":[\"1\",\"2\",\"3\",\"4\",\"5\",\"6\",\"7\",\"8\",\"9\",\"10\",\"11\",\"12\",\"13\",\"14\",\"15\",\"16\",\"17\",\"18\",\"19\",\"20\",\"21\",\"22\",\"23\",\"24\",\"25\",\"26\",\"27\",\"28\",\"29\",\"30\",\"31\",\"32\",\"33\",\"34\",\"35\",\"36\",\"37\",\"38\",\"39\",\"40\",\"41\",\"42\",\"43\",\"44\",\"45\",\"46\",\"47\",\"48\",\"49\",\"50\",\"51\",\"52\",\"53\",\"54\",\"55\",\"56\",\"57\",\"58\",\"59\",\"60\",\"61\",\"62\",\"63\",\"64\",\"65\",\"66\",\"67\",\"68\",\"69\",\"70\",\"71\",\"72\",\"73\",\"74\",\"75\",\"76\",\"77\",\"78\",\"79\",\"80\",\"81\",\"82\",\"83\",\"84\",\"85\",\"86\",\"87\",\"88\",\"89\",\"90\",\"91\",\"92\",\"93\",\"94\",\"95\",\"96\",\"97\",\"98\",\"99\",\"100\",\"101\",\"102\",\"103\",\"104\",\"105\",\"106\",\"107\",\"108\",\"109\",\"110\",\"111\",\"112\",\"113\",\"114\",\"115\",\"116\",\"117\",\"118\",\"119\",\"120\",\"121\",\"122\",\"123\",\"124\",\"125\",\"126\",\"127\",\"128\",\"129\",\"130\",\"131\",\"132\",\"133\",\"134\",\"135\",\"136\",\"137\",\"138\",\"139\",\"140\",\"141\",\"142\",\"143\",\"144\",\"145\",\"146\",\"147\",\"148\",\"149\",\"150\",\"151\",\"152\",\"153\",\"154\",\"155\",\"156\",\"157\",\"158\",\"159\",\"160\",\"161\",\"162\",\"163\",\"164\",\"165\",\"166\",\"167\",\"168\",\"169\",\"170\",\"171\",\"172\",\"173\",\"174\",\"175\",\"176\",\"177\",\"178\",\"179\",\"180\",\"181\",\"182\",\"183\",\"184\",\"185\",\"186\",\"187\",\"188\",\"189\",\"190\",\"191\",\"192\",\"193\",\"194\",\"195\",\"196\",\"197\",\"198\",\"199\",\"200\",\"201\",\"202\",\"203\",\"204\",\"205\",\"206\",\"207\",\"208\",\"209\",\"210\",\"211\",\"212\",\"213\",\"214\",\"215\",\"216\",\"217\",\"218\",\"219\",\"220\",\"221\",\"222\",\"223\",\"224\",\"225\",\"226\",\"227\",\"228\",\"229\",\"230\",\"231\",\"232\",\"233\",\"234\",\"235\",\"236\",\"237\",\"238\",\"239\",\"240\",\"241\",\"242\",\"243\",\"244\",\"245\",\"246\",\"247\",\"248\",\"249\",\"250\",\"251\",\"252\",\"253\",\"254\",\"255\",\"256\",\"257\",\"258\",\"259\",\"260\",\"261\",\"262\",\"263\",\"264\",\"265\",\"266\",\"267\",\"268\",\"269\",\"270\",\"271\",\"272\",\"273\",\"274\",\"275\",\"276\",\"277\",\"278\",\"279\",\"280\",\"281\",\"282\",\"283\",\"284\",\"285\",\"286\",\"287\",\"288\",\"289\",\"290\",\"291\",\"292\",\"293\",\"294\",\"295\",\"296\",\"297\",\"298\",\"299\",\"300\",\"301\",\"302\",\"303\",\"304\",\"305\",\"306\",\"307\",\"308\",\"309\",\"310\",\"311\",\"312\",\"313\",\"314\",\"315\",\"316\",\"317\",\"318\",\"319\",\"320\",\"321\",\"322\",\"323\",\"324\",\"325\",\"326\",\"327\",\"328\",\"329\",\"330\",\"331\",\"332\",\"333\",\"334\",\"335\",\"336\",\"337\",\"338\",\"339\",\"340\",\"341\",\"342\",\"343\",\"344\",\"345\",\"346\",\"347\",\"348\",\"349\",\"350\",\"351\",\"352\",\"353\",\"354\",\"355\",\"356\",\"357\",\"358\",\"359\",\"360\",\"361\",\"362\",\"363\",\"364\",\"365\",\"366\",\"367\",\"368\",\"369\",\"370\",\"371\",\"372\",\"373\",\"374\",\"375\",\"376\",\"377\",\"378\",\"379\",\"380\",\"381\",\"382\",\"383\",\"384\",\"385\",\"386\",\"387\",\"388\",\"389\",\"390\",\"391\",\"392\",\"393\",\"394\",\"395\",\"396\",\"397\",\"398\",\"399\",\"400\",\"401\"],\"changes\":WebIO.getval({\"name\":\"changes\",\"scope\":\"17461291064225645339\",\"id\":\"385994962911441059\",\"type\":\"observable\"}),\"index\":WebIO.getval({\"name\":\"index\",\"scope\":\"17461291064225645339\",\"id\":\"15978672516935046322\",\"type\":\"observable\"})};\n    var self = this;\n    function AppViewModel() {\n        for (var key in json_data) {\n            var el = json_data[key];\n            this[key] = Array.isArray(el) ? ko.observableArray(el) : ko.observable(el);\n        }\n        \n        [this[\"formatted_val\"]=ko.computed(    function(){\n        return this.formatted_vals()[parseInt(this.index())-(1)];\n    }\n,this)]\n        [this[\"changes\"].subscribe((function (val){!(this.valueFromJulia[\"changes\"]) ? (WebIO.setval({\"name\":\"changes\",\"scope\":\"17461291064225645339\",\"id\":\"385994962911441059\",\"type\":\"observable\"},val)) : undefined; return this.valueFromJulia[\"changes\"]=false}),self),this[\"index\"].subscribe((function (val){!(this.valueFromJulia[\"index\"]) ? (WebIO.setval({\"name\":\"index\",\"scope\":\"17461291064225645339\",\"id\":\"15978672516935046322\",\"type\":\"observable\"},val)) : undefined; return this.valueFromJulia[\"index\"]=false}),self)]\n        \n    }\n    self.model = new AppViewModel();\n    self.valueFromJulia = {};\n    for (var key in json_data) {\n        self.valueFromJulia[key] = false;\n    }\n    ko.applyBindings(self.model, self.dom);\n}\n);\n    (WebIO.importBlock({\"data\":[{\"name\":\"knockout\",\"type\":\"js\",\"url\":\"/assetserver/727383f2a47bd31570b7da84eee7b022dd6d7c78-knockout.js\"},{\"name\":\"knockout_punches\",\"type\":\"js\",\"url\":\"/assetserver/382b41b3b1bd9f26f75861d360bad7f8beea211f-knockout_punches.js\"}],\"type\":\"async_block\"})).then((imports) => handler.apply(this, imports));\n}\n"
                ],
                "observables": {
                 "changes": {
                  "id": "385994962911441059",
                  "sync": false,
                  "value": 0
                 },
                 "index": {
                  "id": "15978672516935046322",
                  "sync": true,
                  "value": 201
                 }
                },
                "systemjs_options": null
               },
               "nodeType": "Scope",
               "props": {},
               "type": "node"
              }
             ],
             "instanceArgs": {
              "namespace": "html",
              "tag": "div"
             },
             "nodeType": "DOM",
             "props": {
              "className": "field interact-widget"
             },
             "type": "node"
            },
            {
             "children": [
              {
               "children": [
                {
                 "children": [
                  {
                   "children": [
                    {
                     "children": [
                      "scale"
                     ],
                     "instanceArgs": {
                      "namespace": "html",
                      "tag": "label"
                     },
                     "nodeType": "DOM",
                     "props": {
                      "className": "interact ",
                      "style": {
                       "padding": "5px 10px 0px 10px"
                      }
                     },
                     "type": "node"
                    }
                   ],
                   "instanceArgs": {
                    "namespace": "html",
                    "tag": "div"
                   },
                   "nodeType": "DOM",
                   "props": {
                    "className": "interact-flex-row-left"
                   },
                   "type": "node"
                  },
                  {
                   "children": [
                    {
                     "children": [],
                     "instanceArgs": {
                      "namespace": "html",
                      "tag": "input"
                     },
                     "nodeType": "DOM",
                     "props": {
                      "attributes": {
                       "data-bind": "numericValue: index, valueUpdate: 'input', event: {change: function (){this.changes(this.changes()+1)}}",
                       "orient": "horizontal",
                       "type": "range"
                      },
                      "className": "slider slider is-fullwidth",
                      "max": 20,
                      "min": 1,
                      "step": 1,
                      "style": {}
                     },
                     "type": "node"
                    }
                   ],
                   "instanceArgs": {
                    "namespace": "html",
                    "tag": "div"
                   },
                   "nodeType": "DOM",
                   "props": {
                    "className": "interact-flex-row-center"
                   },
                   "type": "node"
                  },
                  {
                   "children": [
                    {
                     "children": [],
                     "instanceArgs": {
                      "namespace": "html",
                      "tag": "p"
                     },
                     "nodeType": "DOM",
                     "props": {
                      "attributes": {
                       "data-bind": "text: formatted_val"
                      }
                     },
                     "type": "node"
                    }
                   ],
                   "instanceArgs": {
                    "namespace": "html",
                    "tag": "div"
                   },
                   "nodeType": "DOM",
                   "props": {
                    "className": "interact-flex-row-right"
                   },
                   "type": "node"
                  }
                 ],
                 "instanceArgs": {
                  "namespace": "html",
                  "tag": "div"
                 },
                 "nodeType": "DOM",
                 "props": {
                  "className": "interact-flex-row interact-widget"
                 },
                 "type": "node"
                }
               ],
               "instanceArgs": {
                "handlers": {
                 "changes": [
                  "(function (val){return (val!=this.model[\"changes\"]()) ? (this.valueFromJulia[\"changes\"]=true, this.model[\"changes\"](val)) : undefined})"
                 ],
                 "index": [
                  "(function (val){return (val!=this.model[\"index\"]()) ? (this.valueFromJulia[\"index\"]=true, this.model[\"index\"](val)) : undefined})"
                 ]
                },
                "id": "7200312873725364964",
                "imports": {
                 "data": [
                  {
                   "name": "knockout",
                   "type": "js",
                   "url": "/assetserver/727383f2a47bd31570b7da84eee7b022dd6d7c78-knockout.js"
                  },
                  {
                   "name": "knockout_punches",
                   "type": "js",
                   "url": "/assetserver/382b41b3b1bd9f26f75861d360bad7f8beea211f-knockout_punches.js"
                  },
                  {
                   "name": null,
                   "type": "js",
                   "url": "/assetserver/5ab20f1060420992a9b82a65b735dee4d81ef413-all.js"
                  },
                  {
                   "name": null,
                   "type": "css",
                   "url": "/assetserver/1cc0ed62837210b80a182cc3676512f895dab686-style.css"
                  },
                  {
                   "name": null,
                   "type": "css",
                   "url": "/assetserver/2eee816f616df3549d7044d45e744fbf8d42bfa1-bulma_confined.min.css"
                  }
                 ],
                 "type": "async_block"
                },
                "mount_callbacks": [
                 "function () {\n    var handler = (function (ko, koPunches) {\n    ko.punches.enableAll();\n    ko.bindingHandlers.numericValue = {\n        init: function(element, valueAccessor, allBindings, data, context) {\n            var stringified = ko.observable(ko.unwrap(valueAccessor()));\n            stringified.subscribe(function(value) {\n                var val = parseFloat(value);\n                if (!isNaN(val)) {\n                    valueAccessor()(val);\n                }\n            });\n            valueAccessor().subscribe(function(value) {\n                var str = JSON.stringify(value);\n                if ((str == \"0\") && ([\"-0\", \"-0.\"].indexOf(stringified()) >= 0))\n                     return;\n                 if ([\"null\", \"\"].indexOf(str) >= 0)\n                     return;\n                stringified(str);\n            });\n            ko.applyBindingsToNode(\n                element,\n                {\n                    value: stringified,\n                    valueUpdate: allBindings.get('valueUpdate'),\n                },\n                context,\n            );\n        }\n    };\n    var json_data = {\"formatted_vals\":[\"0.1\",\"0.2\",\"0.3\",\"0.4\",\"0.5\",\"0.6\",\"0.7\",\"0.8\",\"0.9\",\"1.0\",\"1.1\",\"1.2\",\"1.3\",\"1.4\",\"1.5\",\"1.6\",\"1.7\",\"1.8\",\"1.9\",\"2.0\"],\"changes\":WebIO.getval({\"name\":\"changes\",\"scope\":\"7200312873725364964\",\"id\":\"3948857004471110863\",\"type\":\"observable\"}),\"index\":WebIO.getval({\"name\":\"index\",\"scope\":\"7200312873725364964\",\"id\":\"7052921426553607741\",\"type\":\"observable\"})};\n    var self = this;\n    function AppViewModel() {\n        for (var key in json_data) {\n            var el = json_data[key];\n            this[key] = Array.isArray(el) ? ko.observableArray(el) : ko.observable(el);\n        }\n        \n        [this[\"formatted_val\"]=ko.computed(    function(){\n        return this.formatted_vals()[parseInt(this.index())-(1)];\n    }\n,this)]\n        [this[\"changes\"].subscribe((function (val){!(this.valueFromJulia[\"changes\"]) ? (WebIO.setval({\"name\":\"changes\",\"scope\":\"7200312873725364964\",\"id\":\"3948857004471110863\",\"type\":\"observable\"},val)) : undefined; return this.valueFromJulia[\"changes\"]=false}),self),this[\"index\"].subscribe((function (val){!(this.valueFromJulia[\"index\"]) ? (WebIO.setval({\"name\":\"index\",\"scope\":\"7200312873725364964\",\"id\":\"7052921426553607741\",\"type\":\"observable\"},val)) : undefined; return this.valueFromJulia[\"index\"]=false}),self)]\n        \n    }\n    self.model = new AppViewModel();\n    self.valueFromJulia = {};\n    for (var key in json_data) {\n        self.valueFromJulia[key] = false;\n    }\n    ko.applyBindings(self.model, self.dom);\n}\n);\n    (WebIO.importBlock({\"data\":[{\"name\":\"knockout\",\"type\":\"js\",\"url\":\"/assetserver/727383f2a47bd31570b7da84eee7b022dd6d7c78-knockout.js\"},{\"name\":\"knockout_punches\",\"type\":\"js\",\"url\":\"/assetserver/382b41b3b1bd9f26f75861d360bad7f8beea211f-knockout_punches.js\"}],\"type\":\"async_block\"})).then((imports) => handler.apply(this, imports));\n}\n"
                ],
                "observables": {
                 "changes": {
                  "id": "3948857004471110863",
                  "sync": false,
                  "value": 0
                 },
                 "index": {
                  "id": "7052921426553607741",
                  "sync": true,
                  "value": 10
                 }
                },
                "systemjs_options": null
               },
               "nodeType": "Scope",
               "props": {},
               "type": "node"
              }
             ],
             "instanceArgs": {
              "namespace": "html",
              "tag": "div"
             },
             "nodeType": "DOM",
             "props": {
              "className": "field interact-widget"
             },
             "type": "node"
            },
            {
             "children": [
              {
               "children": [
                {
                 "children": [
                  {
                   "children": [],
                   "instanceArgs": {
                    "namespace": "html",
                    "tag": "div"
                   },
                   "nodeType": "DOM",
                   "props": {
                    "id": "container"
                   },
                   "type": "node"
                  }
                 ],
                 "instanceArgs": {
                  "handlers": {
                   "value": [
                    "(function (txt){return this.k.render(txt,this.container)})"
                   ]
                  },
                  "id": "15224390965771772986",
                  "imports": {
                   "data": [
                    {
                     "name": null,
                     "type": "js",
                     "url": "/assetserver/dd22ed1bf1896c2748f3fe616ce0b838adc895c1-katex.min.js"
                    },
                    {
                     "name": null,
                     "type": "css",
                     "url": "/assetserver/46517a424aa5e6cffc1360d7e0848b601c584ee3-katex.min.css"
                    }
                   ],
                   "type": "async_block"
                  },
                  "mount_callbacks": [
                   "function () {\n    var handler = ((function (k){this.k=k; this.container=this.dom.querySelector(\"#container\"); return k.render(\"\\\\;\\\\;\",this.container)}));\n    (WebIO.importBlock({\"data\":[{\"name\":null,\"type\":\"js\",\"url\":\"/assetserver/dd22ed1bf1896c2748f3fe616ce0b838adc895c1-katex.min.js\"},{\"name\":null,\"type\":\"css\",\"url\":\"/assetserver/46517a424aa5e6cffc1360d7e0848b601c584ee3-katex.min.css\"}],\"type\":\"async_block\"})).then((imports) => handler.apply(this, imports));\n}\n"
                  ],
                  "observables": {
                   "value": {
                    "id": "12640205961540361601",
                    "sync": false,
                    "value": "\\;\\;"
                   }
                  },
                  "systemjs_options": null
                 },
                 "nodeType": "Scope",
                 "props": {},
                 "type": "node"
                }
               ],
               "instanceArgs": {
                "namespace": "html",
                "tag": "div"
               },
               "nodeType": "DOM",
               "props": {
                "className": "interact-widget"
               },
               "type": "node"
              },
              {
               "children": [
                {
                 "children": [
                  {
                   "children": [
                    "run"
                   ],
                   "instanceArgs": {
                    "namespace": "html",
                    "tag": "button"
                   },
                   "nodeType": "DOM",
                   "props": {
                    "attributes": {
                     "data-bind": "click: function (){this.clicks(this.clicks()+1)}, css: {'is-loading' : loading}"
                    },
                    "className": "is-medium button is-primary",
                    "style": {}
                   },
                   "type": "node"
                  }
                 ],
                 "instanceArgs": {
                  "handlers": {
                   "clicks": [
                    "(function (val){return (val!=this.model[\"clicks\"]()) ? (this.valueFromJulia[\"clicks\"]=true, this.model[\"clicks\"](val)) : undefined})"
                   ],
                   "loading": [
                    "(function (val){return (val!=this.model[\"loading\"]()) ? (this.valueFromJulia[\"loading\"]=true, this.model[\"loading\"](val)) : undefined})"
                   ]
                  },
                  "id": "4719980219890852380",
                  "imports": {
                   "data": [
                    {
                     "name": "knockout",
                     "type": "js",
                     "url": "/assetserver/727383f2a47bd31570b7da84eee7b022dd6d7c78-knockout.js"
                    },
                    {
                     "name": "knockout_punches",
                     "type": "js",
                     "url": "/assetserver/382b41b3b1bd9f26f75861d360bad7f8beea211f-knockout_punches.js"
                    },
                    {
                     "name": null,
                     "type": "js",
                     "url": "/assetserver/5ab20f1060420992a9b82a65b735dee4d81ef413-all.js"
                    },
                    {
                     "name": null,
                     "type": "css",
                     "url": "/assetserver/1cc0ed62837210b80a182cc3676512f895dab686-style.css"
                    },
                    {
                     "name": null,
                     "type": "css",
                     "url": "/assetserver/2eee816f616df3549d7044d45e744fbf8d42bfa1-bulma_confined.min.css"
                    }
                   ],
                   "type": "async_block"
                  },
                  "mount_callbacks": [
                   "function () {\n    var handler = (function (ko, koPunches) {\n    ko.punches.enableAll();\n    ko.bindingHandlers.numericValue = {\n        init: function(element, valueAccessor, allBindings, data, context) {\n            var stringified = ko.observable(ko.unwrap(valueAccessor()));\n            stringified.subscribe(function(value) {\n                var val = parseFloat(value);\n                if (!isNaN(val)) {\n                    valueAccessor()(val);\n                }\n            });\n            valueAccessor().subscribe(function(value) {\n                var str = JSON.stringify(value);\n                if ((str == \"0\") && ([\"-0\", \"-0.\"].indexOf(stringified()) >= 0))\n                     return;\n                 if ([\"null\", \"\"].indexOf(str) >= 0)\n                     return;\n                stringified(str);\n            });\n            ko.applyBindingsToNode(\n                element,\n                {\n                    value: stringified,\n                    valueUpdate: allBindings.get('valueUpdate'),\n                },\n                context,\n            );\n        }\n    };\n    var json_data = {\"loading\":WebIO.getval({\"name\":\"loading\",\"scope\":\"4719980219890852380\",\"id\":\"18324155887006857209\",\"type\":\"observable\"}),\"clicks\":WebIO.getval({\"name\":\"clicks\",\"scope\":\"4719980219890852380\",\"id\":\"8899894092830015526\",\"type\":\"observable\"})};\n    var self = this;\n    function AppViewModel() {\n        for (var key in json_data) {\n            var el = json_data[key];\n            this[key] = Array.isArray(el) ? ko.observableArray(el) : ko.observable(el);\n        }\n        \n        \n        [this[\"loading\"].subscribe((function (val){!(this.valueFromJulia[\"loading\"]) ? (WebIO.setval({\"name\":\"loading\",\"scope\":\"4719980219890852380\",\"id\":\"18324155887006857209\",\"type\":\"observable\"},val)) : undefined; return this.valueFromJulia[\"loading\"]=false}),self),this[\"clicks\"].subscribe((function (val){!(this.valueFromJulia[\"clicks\"]) ? (WebIO.setval({\"name\":\"clicks\",\"scope\":\"4719980219890852380\",\"id\":\"8899894092830015526\",\"type\":\"observable\"},val)) : undefined; return this.valueFromJulia[\"clicks\"]=false}),self)]\n        \n    }\n    self.model = new AppViewModel();\n    self.valueFromJulia = {};\n    for (var key in json_data) {\n        self.valueFromJulia[key] = false;\n    }\n    ko.applyBindings(self.model, self.dom);\n}\n);\n    (WebIO.importBlock({\"data\":[{\"name\":\"knockout\",\"type\":\"js\",\"url\":\"/assetserver/727383f2a47bd31570b7da84eee7b022dd6d7c78-knockout.js\"},{\"name\":\"knockout_punches\",\"type\":\"js\",\"url\":\"/assetserver/382b41b3b1bd9f26f75861d360bad7f8beea211f-knockout_punches.js\"}],\"type\":\"async_block\"})).then((imports) => handler.apply(this, imports));\n}\n"
                  ],
                  "observables": {
                   "clicks": {
                    "id": "8899894092830015526",
                    "sync": true,
                    "value": 0
                   },
                   "loading": {
                    "id": "18324155887006857209",
                    "sync": false,
                    "value": false
                   }
                  },
                  "systemjs_options": null
                 },
                 "nodeType": "Scope",
                 "props": {},
                 "type": "node"
                }
               ],
               "instanceArgs": {
                "namespace": "html",
                "tag": "div"
               },
               "nodeType": "DOM",
               "props": {
                "className": "field interact-widget"
               },
               "type": "node"
              },
              {
               "children": [
                {
                 "children": [
                  {
                   "children": [],
                   "instanceArgs": {
                    "namespace": "html",
                    "tag": "div"
                   },
                   "nodeType": "DOM",
                   "props": {
                    "id": "container"
                   },
                   "type": "node"
                  }
                 ],
                 "instanceArgs": {
                  "handlers": {
                   "value": [
                    "(function (txt){return this.k.render(txt,this.container)})"
                   ]
                  },
                  "id": "15224390965771772986",
                  "imports": {
                   "data": [
                    {
                     "name": null,
                     "type": "js",
                     "url": "/assetserver/dd22ed1bf1896c2748f3fe616ce0b838adc895c1-katex.min.js"
                    },
                    {
                     "name": null,
                     "type": "css",
                     "url": "/assetserver/46517a424aa5e6cffc1360d7e0848b601c584ee3-katex.min.css"
                    }
                   ],
                   "type": "async_block"
                  },
                  "mount_callbacks": [
                   "function () {\n    var handler = ((function (k){this.k=k; this.container=this.dom.querySelector(\"#container\"); return k.render(\"\\\\;\\\\;\",this.container)}));\n    (WebIO.importBlock({\"data\":[{\"name\":null,\"type\":\"js\",\"url\":\"/assetserver/dd22ed1bf1896c2748f3fe616ce0b838adc895c1-katex.min.js\"},{\"name\":null,\"type\":\"css\",\"url\":\"/assetserver/46517a424aa5e6cffc1360d7e0848b601c584ee3-katex.min.css\"}],\"type\":\"async_block\"})).then((imports) => handler.apply(this, imports));\n}\n"
                  ],
                  "observables": {
                   "value": {
                    "id": "12640205961540361601",
                    "sync": false,
                    "value": "\\;\\;"
                   }
                  },
                  "systemjs_options": null
                 },
                 "nodeType": "Scope",
                 "props": {},
                 "type": "node"
                }
               ],
               "instanceArgs": {
                "namespace": "html",
                "tag": "div"
               },
               "nodeType": "DOM",
               "props": {
                "className": "interact-widget"
               },
               "type": "node"
              },
              {
               "children": [
                {
                 "children": [
                  {
                   "children": [
                    "stop"
                   ],
                   "instanceArgs": {
                    "namespace": "html",
                    "tag": "button"
                   },
                   "nodeType": "DOM",
                   "props": {
                    "attributes": {
                     "data-bind": "click: function (){this.clicks(this.clicks()+1)}, css: {'is-loading' : loading}"
                    },
                    "className": "is-medium button is-primary",
                    "style": {}
                   },
                   "type": "node"
                  }
                 ],
                 "instanceArgs": {
                  "handlers": {
                   "clicks": [
                    "(function (val){return (val!=this.model[\"clicks\"]()) ? (this.valueFromJulia[\"clicks\"]=true, this.model[\"clicks\"](val)) : undefined})"
                   ],
                   "loading": [
                    "(function (val){return (val!=this.model[\"loading\"]()) ? (this.valueFromJulia[\"loading\"]=true, this.model[\"loading\"](val)) : undefined})"
                   ]
                  },
                  "id": "4517392578153767430",
                  "imports": {
                   "data": [
                    {
                     "name": "knockout",
                     "type": "js",
                     "url": "/assetserver/727383f2a47bd31570b7da84eee7b022dd6d7c78-knockout.js"
                    },
                    {
                     "name": "knockout_punches",
                     "type": "js",
                     "url": "/assetserver/382b41b3b1bd9f26f75861d360bad7f8beea211f-knockout_punches.js"
                    },
                    {
                     "name": null,
                     "type": "js",
                     "url": "/assetserver/5ab20f1060420992a9b82a65b735dee4d81ef413-all.js"
                    },
                    {
                     "name": null,
                     "type": "css",
                     "url": "/assetserver/1cc0ed62837210b80a182cc3676512f895dab686-style.css"
                    },
                    {
                     "name": null,
                     "type": "css",
                     "url": "/assetserver/2eee816f616df3549d7044d45e744fbf8d42bfa1-bulma_confined.min.css"
                    }
                   ],
                   "type": "async_block"
                  },
                  "mount_callbacks": [
                   "function () {\n    var handler = (function (ko, koPunches) {\n    ko.punches.enableAll();\n    ko.bindingHandlers.numericValue = {\n        init: function(element, valueAccessor, allBindings, data, context) {\n            var stringified = ko.observable(ko.unwrap(valueAccessor()));\n            stringified.subscribe(function(value) {\n                var val = parseFloat(value);\n                if (!isNaN(val)) {\n                    valueAccessor()(val);\n                }\n            });\n            valueAccessor().subscribe(function(value) {\n                var str = JSON.stringify(value);\n                if ((str == \"0\") && ([\"-0\", \"-0.\"].indexOf(stringified()) >= 0))\n                     return;\n                 if ([\"null\", \"\"].indexOf(str) >= 0)\n                     return;\n                stringified(str);\n            });\n            ko.applyBindingsToNode(\n                element,\n                {\n                    value: stringified,\n                    valueUpdate: allBindings.get('valueUpdate'),\n                },\n                context,\n            );\n        }\n    };\n    var json_data = {\"loading\":WebIO.getval({\"name\":\"loading\",\"scope\":\"4517392578153767430\",\"id\":\"18446658406716812722\",\"type\":\"observable\"}),\"clicks\":WebIO.getval({\"name\":\"clicks\",\"scope\":\"4517392578153767430\",\"id\":\"10317238558209941690\",\"type\":\"observable\"})};\n    var self = this;\n    function AppViewModel() {\n        for (var key in json_data) {\n            var el = json_data[key];\n            this[key] = Array.isArray(el) ? ko.observableArray(el) : ko.observable(el);\n        }\n        \n        \n        [this[\"loading\"].subscribe((function (val){!(this.valueFromJulia[\"loading\"]) ? (WebIO.setval({\"name\":\"loading\",\"scope\":\"4517392578153767430\",\"id\":\"18446658406716812722\",\"type\":\"observable\"},val)) : undefined; return this.valueFromJulia[\"loading\"]=false}),self),this[\"clicks\"].subscribe((function (val){!(this.valueFromJulia[\"clicks\"]) ? (WebIO.setval({\"name\":\"clicks\",\"scope\":\"4517392578153767430\",\"id\":\"10317238558209941690\",\"type\":\"observable\"},val)) : undefined; return this.valueFromJulia[\"clicks\"]=false}),self)]\n        \n    }\n    self.model = new AppViewModel();\n    self.valueFromJulia = {};\n    for (var key in json_data) {\n        self.valueFromJulia[key] = false;\n    }\n    ko.applyBindings(self.model, self.dom);\n}\n);\n    (WebIO.importBlock({\"data\":[{\"name\":\"knockout\",\"type\":\"js\",\"url\":\"/assetserver/727383f2a47bd31570b7da84eee7b022dd6d7c78-knockout.js\"},{\"name\":\"knockout_punches\",\"type\":\"js\",\"url\":\"/assetserver/382b41b3b1bd9f26f75861d360bad7f8beea211f-knockout_punches.js\"}],\"type\":\"async_block\"})).then((imports) => handler.apply(this, imports));\n}\n"
                  ],
                  "observables": {
                   "clicks": {
                    "id": "10317238558209941690",
                    "sync": true,
                    "value": 0
                   },
                   "loading": {
                    "id": "18446658406716812722",
                    "sync": false,
                    "value": false
                   }
                  },
                  "systemjs_options": null
                 },
                 "nodeType": "Scope",
                 "props": {},
                 "type": "node"
                }
               ],
               "instanceArgs": {
                "namespace": "html",
                "tag": "div"
               },
               "nodeType": "DOM",
               "props": {
                "className": "field interact-widget"
               },
               "type": "node"
              },
              {
               "children": [
                {
                 "children": [
                  {
                   "children": [],
                   "instanceArgs": {
                    "namespace": "html",
                    "tag": "div"
                   },
                   "nodeType": "DOM",
                   "props": {
                    "id": "container"
                   },
                   "type": "node"
                  }
                 ],
                 "instanceArgs": {
                  "handlers": {
                   "value": [
                    "(function (txt){return this.k.render(txt,this.container)})"
                   ]
                  },
                  "id": "15224390965771772986",
                  "imports": {
                   "data": [
                    {
                     "name": null,
                     "type": "js",
                     "url": "/assetserver/dd22ed1bf1896c2748f3fe616ce0b838adc895c1-katex.min.js"
                    },
                    {
                     "name": null,
                     "type": "css",
                     "url": "/assetserver/46517a424aa5e6cffc1360d7e0848b601c584ee3-katex.min.css"
                    }
                   ],
                   "type": "async_block"
                  },
                  "mount_callbacks": [
                   "function () {\n    var handler = ((function (k){this.k=k; this.container=this.dom.querySelector(\"#container\"); return k.render(\"\\\\;\\\\;\",this.container)}));\n    (WebIO.importBlock({\"data\":[{\"name\":null,\"type\":\"js\",\"url\":\"/assetserver/dd22ed1bf1896c2748f3fe616ce0b838adc895c1-katex.min.js\"},{\"name\":null,\"type\":\"css\",\"url\":\"/assetserver/46517a424aa5e6cffc1360d7e0848b601c584ee3-katex.min.css\"}],\"type\":\"async_block\"})).then((imports) => handler.apply(this, imports));\n}\n"
                  ],
                  "observables": {
                   "value": {
                    "id": "12640205961540361601",
                    "sync": false,
                    "value": "\\;\\;"
                   }
                  },
                  "systemjs_options": null
                 },
                 "nodeType": "Scope",
                 "props": {},
                 "type": "node"
                }
               ],
               "instanceArgs": {
                "namespace": "html",
                "tag": "div"
               },
               "nodeType": "DOM",
               "props": {
                "className": "interact-widget"
               },
               "type": "node"
              },
              {
               "children": [
                {
                 "children": [
                  {
                   "children": [
                    "save"
                   ],
                   "instanceArgs": {
                    "namespace": "html",
                    "tag": "button"
                   },
                   "nodeType": "DOM",
                   "props": {
                    "attributes": {
                     "data-bind": "click: function (){this.clicks(this.clicks()+1)}, css: {'is-loading' : loading}"
                    },
                    "className": "is-medium button is-primary",
                    "style": {}
                   },
                   "type": "node"
                  }
                 ],
                 "instanceArgs": {
                  "handlers": {
                   "clicks": [
                    "(function (val){return (val!=this.model[\"clicks\"]()) ? (this.valueFromJulia[\"clicks\"]=true, this.model[\"clicks\"](val)) : undefined})"
                   ],
                   "loading": [
                    "(function (val){return (val!=this.model[\"loading\"]()) ? (this.valueFromJulia[\"loading\"]=true, this.model[\"loading\"](val)) : undefined})"
                   ]
                  },
                  "id": "14556465214414069751",
                  "imports": {
                   "data": [
                    {
                     "name": "knockout",
                     "type": "js",
                     "url": "/assetserver/727383f2a47bd31570b7da84eee7b022dd6d7c78-knockout.js"
                    },
                    {
                     "name": "knockout_punches",
                     "type": "js",
                     "url": "/assetserver/382b41b3b1bd9f26f75861d360bad7f8beea211f-knockout_punches.js"
                    },
                    {
                     "name": null,
                     "type": "js",
                     "url": "/assetserver/5ab20f1060420992a9b82a65b735dee4d81ef413-all.js"
                    },
                    {
                     "name": null,
                     "type": "css",
                     "url": "/assetserver/1cc0ed62837210b80a182cc3676512f895dab686-style.css"
                    },
                    {
                     "name": null,
                     "type": "css",
                     "url": "/assetserver/2eee816f616df3549d7044d45e744fbf8d42bfa1-bulma_confined.min.css"
                    }
                   ],
                   "type": "async_block"
                  },
                  "mount_callbacks": [
                   "function () {\n    var handler = (function (ko, koPunches) {\n    ko.punches.enableAll();\n    ko.bindingHandlers.numericValue = {\n        init: function(element, valueAccessor, allBindings, data, context) {\n            var stringified = ko.observable(ko.unwrap(valueAccessor()));\n            stringified.subscribe(function(value) {\n                var val = parseFloat(value);\n                if (!isNaN(val)) {\n                    valueAccessor()(val);\n                }\n            });\n            valueAccessor().subscribe(function(value) {\n                var str = JSON.stringify(value);\n                if ((str == \"0\") && ([\"-0\", \"-0.\"].indexOf(stringified()) >= 0))\n                     return;\n                 if ([\"null\", \"\"].indexOf(str) >= 0)\n                     return;\n                stringified(str);\n            });\n            ko.applyBindingsToNode(\n                element,\n                {\n                    value: stringified,\n                    valueUpdate: allBindings.get('valueUpdate'),\n                },\n                context,\n            );\n        }\n    };\n    var json_data = {\"loading\":WebIO.getval({\"name\":\"loading\",\"scope\":\"14556465214414069751\",\"id\":\"2251265295740613565\",\"type\":\"observable\"}),\"clicks\":WebIO.getval({\"name\":\"clicks\",\"scope\":\"14556465214414069751\",\"id\":\"4164010971050225644\",\"type\":\"observable\"})};\n    var self = this;\n    function AppViewModel() {\n        for (var key in json_data) {\n            var el = json_data[key];\n            this[key] = Array.isArray(el) ? ko.observableArray(el) : ko.observable(el);\n        }\n        \n        \n        [this[\"loading\"].subscribe((function (val){!(this.valueFromJulia[\"loading\"]) ? (WebIO.setval({\"name\":\"loading\",\"scope\":\"14556465214414069751\",\"id\":\"2251265295740613565\",\"type\":\"observable\"},val)) : undefined; return this.valueFromJulia[\"loading\"]=false}),self),this[\"clicks\"].subscribe((function (val){!(this.valueFromJulia[\"clicks\"]) ? (WebIO.setval({\"name\":\"clicks\",\"scope\":\"14556465214414069751\",\"id\":\"4164010971050225644\",\"type\":\"observable\"},val)) : undefined; return this.valueFromJulia[\"clicks\"]=false}),self)]\n        \n    }\n    self.model = new AppViewModel();\n    self.valueFromJulia = {};\n    for (var key in json_data) {\n        self.valueFromJulia[key] = false;\n    }\n    ko.applyBindings(self.model, self.dom);\n}\n);\n    (WebIO.importBlock({\"data\":[{\"name\":\"knockout\",\"type\":\"js\",\"url\":\"/assetserver/727383f2a47bd31570b7da84eee7b022dd6d7c78-knockout.js\"},{\"name\":\"knockout_punches\",\"type\":\"js\",\"url\":\"/assetserver/382b41b3b1bd9f26f75861d360bad7f8beea211f-knockout_punches.js\"}],\"type\":\"async_block\"})).then((imports) => handler.apply(this, imports));\n}\n"
                  ],
                  "observables": {
                   "clicks": {
                    "id": "4164010971050225644",
                    "sync": true,
                    "value": 0
                   },
                   "loading": {
                    "id": "2251265295740613565",
                    "sync": false,
                    "value": false
                   }
                  },
                  "systemjs_options": null
                 },
                 "nodeType": "Scope",
                 "props": {},
                 "type": "node"
                }
               ],
               "instanceArgs": {
                "namespace": "html",
                "tag": "div"
               },
               "nodeType": "DOM",
               "props": {
                "className": "field interact-widget"
               },
               "type": "node"
              }
             ],
             "instanceArgs": {
              "namespace": "html",
              "tag": "div"
             },
             "nodeType": "DOM",
             "props": {
              "style": {
               "display": "flex",
               "flex-direction": "row"
              }
             },
             "type": "node"
            }
           ],
           "instanceArgs": {
            "namespace": "html",
            "tag": "div"
           },
           "nodeType": "DOM",
           "props": {
            "style": {
             "display": "flex",
             "flex-direction": "column"
            }
           },
           "type": "node"
          },
          {
           "children": [
            {
             "children": [
              {
               "children": [],
               "instanceArgs": {
                "namespace": "html",
                "tag": "div"
               },
               "nodeType": "DOM",
               "props": {
                "id": "container"
               },
               "type": "node"
              }
             ],
             "instanceArgs": {
              "handlers": {
               "value": [
                "(function (txt){return this.k.render(txt,this.container)})"
               ]
              },
              "id": "15224390965771772986",
              "imports": {
               "data": [
                {
                 "name": null,
                 "type": "js",
                 "url": "/assetserver/dd22ed1bf1896c2748f3fe616ce0b838adc895c1-katex.min.js"
                },
                {
                 "name": null,
                 "type": "css",
                 "url": "/assetserver/46517a424aa5e6cffc1360d7e0848b601c584ee3-katex.min.css"
                }
               ],
               "type": "async_block"
              },
              "mount_callbacks": [
               "function () {\n    var handler = ((function (k){this.k=k; this.container=this.dom.querySelector(\"#container\"); return k.render(\"\\\\;\\\\;\",this.container)}));\n    (WebIO.importBlock({\"data\":[{\"name\":null,\"type\":\"js\",\"url\":\"/assetserver/dd22ed1bf1896c2748f3fe616ce0b838adc895c1-katex.min.js\"},{\"name\":null,\"type\":\"css\",\"url\":\"/assetserver/46517a424aa5e6cffc1360d7e0848b601c584ee3-katex.min.css\"}],\"type\":\"async_block\"})).then((imports) => handler.apply(this, imports));\n}\n"
              ],
              "observables": {
               "value": {
                "id": "12640205961540361601",
                "sync": false,
                "value": "\\;\\;"
               }
              },
              "systemjs_options": null
             },
             "nodeType": "Scope",
             "props": {},
             "type": "node"
            }
           ],
           "instanceArgs": {
            "namespace": "html",
            "tag": "div"
           },
           "nodeType": "DOM",
           "props": {
            "className": "interact-widget"
           },
           "type": "node"
          },
          {
           "children": [
            {
             "children": [],
             "instanceArgs": {
              "namespace": "html",
              "tag": "div"
             },
             "nodeType": "DOM",
             "props": {
              "className": "webio-observable",
              "setInnerHtml": "<img src='data:image/png;base64,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'></img>"
             },
             "type": "node"
            }
           ],
           "instanceArgs": {
            "handlers": {
             "obs-output": [
              "function (value, scope) {\n    scope.setInnerHTML(value);\n}\n"
             ]
            },
            "id": "164945320463632772",
            "imports": {
             "data": [],
             "type": "async_block"
            },
            "mount_callbacks": [],
            "observables": {
             "obs-output": {
              "id": "5592035628294128136",
              "sync": false,
              "value": "<img src='data:image/png;base64,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'></img>"
             }
            },
            "systemjs_options": null
           },
           "nodeType": "Scope",
           "props": {},
           "type": "node"
          },
          {
           "children": [
            {
             "children": [
              {
               "children": [],
               "instanceArgs": {
                "namespace": "html",
                "tag": "div"
               },
               "nodeType": "DOM",
               "props": {
                "id": "container"
               },
               "type": "node"
              }
             ],
             "instanceArgs": {
              "handlers": {
               "value": [
                "(function (txt){return this.k.render(txt,this.container)})"
               ]
              },
              "id": "15224390965771772986",
              "imports": {
               "data": [
                {
                 "name": null,
                 "type": "js",
                 "url": "/assetserver/dd22ed1bf1896c2748f3fe616ce0b838adc895c1-katex.min.js"
                },
                {
                 "name": null,
                 "type": "css",
                 "url": "/assetserver/46517a424aa5e6cffc1360d7e0848b601c584ee3-katex.min.css"
                }
               ],
               "type": "async_block"
              },
              "mount_callbacks": [
               "function () {\n    var handler = ((function (k){this.k=k; this.container=this.dom.querySelector(\"#container\"); return k.render(\"\\\\;\\\\;\",this.container)}));\n    (WebIO.importBlock({\"data\":[{\"name\":null,\"type\":\"js\",\"url\":\"/assetserver/dd22ed1bf1896c2748f3fe616ce0b838adc895c1-katex.min.js\"},{\"name\":null,\"type\":\"css\",\"url\":\"/assetserver/46517a424aa5e6cffc1360d7e0848b601c584ee3-katex.min.css\"}],\"type\":\"async_block\"})).then((imports) => handler.apply(this, imports));\n}\n"
              ],
              "observables": {
               "value": {
                "id": "12640205961540361601",
                "sync": false,
                "value": "\\;\\;"
               }
              },
              "systemjs_options": null
             },
             "nodeType": "Scope",
             "props": {},
             "type": "node"
            }
           ],
           "instanceArgs": {
            "namespace": "html",
            "tag": "div"
           },
           "nodeType": "DOM",
           "props": {
            "className": "interact-widget"
           },
           "type": "node"
          },
          {
           "children": [],
           "instanceArgs": {
            "namespace": "html",
            "tag": "div"
           },
           "nodeType": "DOM",
           "props": {
            "style": {
             "display": "flex",
             "flex-direction": "column"
            }
           },
           "type": "node"
          }
         ],
         "instanceArgs": {
          "namespace": "html",
          "tag": "div"
         },
         "nodeType": "DOM",
         "props": {
          "style": {
           "display": "flex",
           "flex-direction": "row"
          }
         },
         "type": "node"
        }
       ],
       "instanceArgs": {
        "namespace": "html",
        "tag": "div"
       },
       "nodeType": "DOM",
       "props": {
        "style": {
         "display": "flex",
         "flex-direction": "column"
        }
       },
       "type": "node"
      },
      "text/html": [
       "<div\n",
       "    class=\"webio-mountpoint\"\n",
       "    data-webio-mountpoint=\"2486232350845209692\"\n",
       ">\n",
       "    <script>\n",
       "    (function(){\n",
       "    // Some integrations (namely, IJulia/Jupyter) use an alternate render pathway than\n",
       "    // just putting the html on the page. If WebIO isn't defined, then it's pretty likely\n",
       "    // that we're in one of those situations and the integration just isn't installed\n",
       "    // correctly.\n",
       "    if (typeof window.WebIO === \"undefined\") {\n",
       "        document\n",
       "            .querySelector('[data-webio-mountpoint=\"2486232350845209692\"]')\n",
       "            .innerHTML = (\n",
       "                '<div style=\"padding: 1em; background-color: #f8d6da; border: 1px solid #f5c6cb; font-weight: bold;\">' +\n",
       "                '<p><strong>WebIO not detected.</strong></p>' +\n",
       "                '<p>Please read ' +\n",
       "                '<a href=\"https://juliagizmos.github.io/WebIO.jl/latest/troubleshooting/not-detected/\" target=\"_blank\">the troubleshooting guide</a> ' +\n",
       "                'for more information on how to resolve this issue.</p>' +\n",
       "                '<p><a href=\"https://juliagizmos.github.io/WebIO.jl/latest/troubleshooting/not-detected/\" target=\"_blank\">https://juliagizmos.github.io/WebIO.jl/latest/troubleshooting/not-detected/</a></p>' +\n",
       "                '</div>'\n",
       "            );\n",
       "        return;\n",
       "    }\n",
       "    WebIO.mount(\n",
       "        document.querySelector('[data-webio-mountpoint=\"2486232350845209692\"]'),\n",
       "        {\"props\":{\"style\":{\"display\":\"flex\",\"flex-direction\":\"column\"}},\"nodeType\":\"DOM\",\"type\":\"node\",\"instanceArgs\":{\"namespace\":\"html\",\"tag\":\"div\"},\"children\":[{\"props\":{\"style\":{\"display\":\"flex\",\"flex-direction\":\"row\"}},\"nodeType\":\"DOM\",\"type\":\"node\",\"instanceArgs\":{\"namespace\":\"html\",\"tag\":\"div\"},\"children\":[{\"props\":{\"style\":{\"display\":\"flex\",\"flex-direction\":\"column\"}},\"nodeType\":\"DOM\",\"type\":\"node\",\"instanceArgs\":{\"namespace\":\"html\",\"tag\":\"div\"},\"children\":[{\"props\":{\"className\":\"field interact-widget\"},\"nodeType\":\"DOM\",\"type\":\"node\",\"instanceArgs\":{\"namespace\":\"html\",\"tag\":\"div\"},\"children\":[{\"props\":{},\"nodeType\":\"Scope\",\"type\":\"node\",\"instanceArgs\":{\"imports\":{\"data\":[{\"name\":\"knockout\",\"type\":\"js\",\"url\":\"\\/assetserver\\/727383f2a47bd31570b7da84eee7b022dd6d7c78-knockout.js\"},{\"name\":\"knockout_punches\",\"type\":\"js\",\"url\":\"\\/assetserver\\/382b41b3b1bd9f26f75861d360bad7f8beea211f-knockout_punches.js\"},{\"name\":null,\"type\":\"js\",\"url\":\"\\/assetserver\\/5ab20f1060420992a9b82a65b735dee4d81ef413-all.js\"},{\"name\":null,\"type\":\"css\",\"url\":\"\\/assetserver\\/1cc0ed62837210b80a182cc3676512f895dab686-style.css\"},{\"name\":null,\"type\":\"css\",\"url\":\"\\/assetserver\\/2eee816f616df3549d7044d45e744fbf8d42bfa1-bulma_confined.min.css\"}],\"type\":\"async_block\"},\"id\":\"17461291064225645339\",\"handlers\":{\"changes\":[\"(function (val){return (val!=this.model[\\\"changes\\\"]()) ? (this.valueFromJulia[\\\"changes\\\"]=true, this.model[\\\"changes\\\"](val)) : undefined})\"],\"index\":[\"(function (val){return (val!=this.model[\\\"index\\\"]()) ? (this.valueFromJulia[\\\"index\\\"]=true, this.model[\\\"index\\\"](val)) : undefined})\"]},\"systemjs_options\":null,\"mount_callbacks\":[\"function () {\\n    var handler = (function (ko, koPunches) {\\n    ko.punches.enableAll();\\n    ko.bindingHandlers.numericValue = {\\n        init: function(element, valueAccessor, allBindings, data, context) {\\n            var stringified = ko.observable(ko.unwrap(valueAccessor()));\\n            stringified.subscribe(function(value) {\\n                var val = parseFloat(value);\\n                if (!isNaN(val)) {\\n                    valueAccessor()(val);\\n                }\\n            });\\n            valueAccessor().subscribe(function(value) {\\n                var str = JSON.stringify(value);\\n                if ((str == \\\"0\\\") && ([\\\"-0\\\", \\\"-0.\\\"].indexOf(stringified()) >= 0))\\n                     return;\\n                 if ([\\\"null\\\", \\\"\\\"].indexOf(str) >= 0)\\n                     return;\\n                stringified(str);\\n            });\\n            ko.applyBindingsToNode(\\n                element,\\n                {\\n                    value: stringified,\\n                    valueUpdate: allBindings.get('valueUpdate'),\\n                },\\n                context,\\n            );\\n        }\\n    };\\n    var json_data = {\\\"formatted_vals\\\":[\\\"1\\\",\\\"2\\\",\\\"3\\\",\\\"4\\\",\\\"5\\\",\\\"6\\\",\\\"7\\\",\\\"8\\\",\\\"9\\\",\\\"10\\\",\\\"11\\\",\\\"12\\\",\\\"13\\\",\\\"14\\\",\\\"15\\\",\\\"16\\\",\\\"17\\\",\\\"18\\\",\\\"19\\\",\\\"20\\\",\\\"21\\\",\\\"22\\\",\\\"23\\\",\\\"24\\\",\\\"25\\\",\\\"26\\\",\\\"27\\\",\\\"28\\\",\\\"29\\\",\\\"30\\\",\\\"31\\\",\\\"32\\\",\\\"33\\\",\\\"34\\\",\\\"35\\\",\\\"36\\\",\\\"37\\\",\\\"38\\\",\\\"39\\\",\\\"40\\\",\\\"41\\\",\\\"42\\\",\\\"43\\\",\\\"44\\\",\\\"45\\\",\\\"46\\\",\\\"47\\\",\\\"48\\\",\\\"49\\\",\\\"50\\\",\\\"51\\\",\\\"52\\\",\\\"53\\\",\\\"54\\\",\\\"55\\\",\\\"56\\\",\\\"57\\\",\\\"58\\\",\\\"59\\\",\\\"60\\\",\\\"61\\\",\\\"62\\\",\\\"63\\\",\\\"64\\\",\\\"65\\\",\\\"66\\\",\\\"67\\\",\\\"68\\\",\\\"69\\\",\\\"70\\\",\\\"71\\\",\\\"72\\\",\\\"73\\\",\\\"74\\\",\\\"75\\\",\\\"76\\\",\\\"77\\\",\\\"78\\\",\\\"79\\\",\\\"80\\\",\\\"81\\\",\\\"82\\\",\\\"83\\\",\\\"84\\\",\\\"85\\\",\\\"86\\\",\\\"87\\\",\\\"88\\\",\\\"89\\\",\\\"90\\\",\\\"91\\\",\\\"92\\\",\\\"93\\\",\\\"94\\\",\\\"95\\\",\\\"96\\\",\\\"97\\\",\\\"98\\\",\\\"99\\\",\\\"100\\\",\\\"101\\\",\\\"102\\\",\\\"103\\\",\\\"104\\\",\\\"105\\\",\\\"106\\\",\\\"107\\\",\\\"108\\\",\\\"109\\\",\\\"110\\\",\\\"111\\\",\\\"112\\\",\\\"113\\\",\\\"114\\\",\\\"115\\\",\\\"116\\\",\\\"117\\\",\\\"118\\\",\\\"119\\\",\\\"120\\\",\\\"121\\\",\\\"122\\\",\\\"123\\\",\\\"124\\\",\\\"125\\\",\\\"126\\\",\\\"127\\\",\\\"128\\\",\\\"129\\\",\\\"130\\\",\\\"131\\\",\\\"132\\\",\\\"133\\\",\\\"134\\\",\\\"135\\\",\\\"136\\\",\\\"137\\\",\\\"138\\\",\\\"139\\\",\\\"140\\\",\\\"141\\\",\\\"142\\\",\\\"143\\\",\\\"144\\\",\\\"145\\\",\\\"146\\\",\\\"147\\\",\\\"148\\\",\\\"149\\\",\\\"150\\\",\\\"151\\\",\\\"152\\\",\\\"153\\\",\\\"154\\\",\\\"155\\\",\\\"156\\\",\\\"157\\\",\\\"158\\\",\\\"159\\\",\\\"160\\\",\\\"161\\\",\\\"162\\\",\\\"163\\\",\\\"164\\\",\\\"165\\\",\\\"166\\\",\\\"167\\\",\\\"168\\\",\\\"169\\\",\\\"170\\\",\\\"171\\\",\\\"172\\\",\\\"173\\\",\\\"174\\\",\\\"175\\\",\\\"176\\\",\\\"177\\\",\\\"178\\\",\\\"179\\\",\\\"180\\\",\\\"181\\\",\\\"182\\\",\\\"183\\\",\\\"184\\\",\\\"185\\\",\\\"186\\\",\\\"187\\\",\\\"188\\\",\\\"189\\\",\\\"190\\\",\\\"191\\\",\\\"192\\\",\\\"193\\\",\\\"194\\\",\\\"195\\\",\\\"196\\\",\\\"197\\\",\\\"198\\\",\\\"199\\\",\\\"200\\\",\\\"201\\\",\\\"202\\\",\\\"203\\\",\\\"204\\\",\\\"205\\\",\\\"206\\\",\\\"207\\\",\\\"208\\\",\\\"209\\\",\\\"210\\\",\\\"211\\\",\\\"212\\\",\\\"213\\\",\\\"214\\\",\\\"215\\\",\\\"216\\\",\\\"217\\\",\\\"218\\\",\\\"219\\\",\\\"220\\\",\\\"221\\\",\\\"222\\\",\\\"223\\\",\\\"224\\\",\\\"225\\\",\\\"226\\\",\\\"227\\\",\\\"228\\\",\\\"229\\\",\\\"230\\\",\\\"231\\\",\\\"232\\\",\\\"233\\\",\\\"234\\\",\\\"235\\\",\\\"236\\\",\\\"237\\\",\\\"238\\\",\\\"239\\\",\\\"240\\\",\\\"241\\\",\\\"242\\\",\\\"243\\\",\\\"244\\\",\\\"245\\\",\\\"246\\\",\\\"247\\\",\\\"248\\\",\\\"249\\\",\\\"250\\\",\\\"251\\\",\\\"252\\\",\\\"253\\\",\\\"254\\\",\\\"255\\\",\\\"256\\\",\\\"257\\\",\\\"258\\\",\\\"259\\\",\\\"260\\\",\\\"261\\\",\\\"262\\\",\\\"263\\\",\\\"264\\\",\\\"265\\\",\\\"266\\\",\\\"267\\\",\\\"268\\\",\\\"269\\\",\\\"270\\\",\\\"271\\\",\\\"272\\\",\\\"273\\\",\\\"274\\\",\\\"275\\\",\\\"276\\\",\\\"277\\\",\\\"278\\\",\\\"279\\\",\\\"280\\\",\\\"281\\\",\\\"282\\\",\\\"283\\\",\\\"284\\\",\\\"285\\\",\\\"286\\\",\\\"287\\\",\\\"288\\\",\\\"289\\\",\\\"290\\\",\\\"291\\\",\\\"292\\\",\\\"293\\\",\\\"294\\\",\\\"295\\\",\\\"296\\\",\\\"297\\\",\\\"298\\\",\\\"299\\\",\\\"300\\\",\\\"301\\\",\\\"302\\\",\\\"303\\\",\\\"304\\\",\\\"305\\\",\\\"306\\\",\\\"307\\\",\\\"308\\\",\\\"309\\\",\\\"310\\\",\\\"311\\\",\\\"312\\\",\\\"313\\\",\\\"314\\\",\\\"315\\\",\\\"316\\\",\\\"317\\\",\\\"318\\\",\\\"319\\\",\\\"320\\\",\\\"321\\\",\\\"322\\\",\\\"323\\\",\\\"324\\\",\\\"325\\\",\\\"326\\\",\\\"327\\\",\\\"328\\\",\\\"329\\\",\\\"330\\\",\\\"331\\\",\\\"332\\\",\\\"333\\\",\\\"334\\\",\\\"335\\\",\\\"336\\\",\\\"337\\\",\\\"338\\\",\\\"339\\\",\\\"340\\\",\\\"341\\\",\\\"342\\\",\\\"343\\\",\\\"344\\\",\\\"345\\\",\\\"346\\\",\\\"347\\\",\\\"348\\\",\\\"349\\\",\\\"350\\\",\\\"351\\\",\\\"352\\\",\\\"353\\\",\\\"354\\\",\\\"355\\\",\\\"356\\\",\\\"357\\\",\\\"358\\\",\\\"359\\\",\\\"360\\\",\\\"361\\\",\\\"362\\\",\\\"363\\\",\\\"364\\\",\\\"365\\\",\\\"366\\\",\\\"367\\\",\\\"368\\\",\\\"369\\\",\\\"370\\\",\\\"371\\\",\\\"372\\\",\\\"373\\\",\\\"374\\\",\\\"375\\\",\\\"376\\\",\\\"377\\\",\\\"378\\\",\\\"379\\\",\\\"380\\\",\\\"381\\\",\\\"382\\\",\\\"383\\\",\\\"384\\\",\\\"385\\\",\\\"386\\\",\\\"387\\\",\\\"388\\\",\\\"389\\\",\\\"390\\\",\\\"391\\\",\\\"392\\\",\\\"393\\\",\\\"394\\\",\\\"395\\\",\\\"396\\\",\\\"397\\\",\\\"398\\\",\\\"399\\\",\\\"400\\\",\\\"401\\\"],\\\"changes\\\":WebIO.getval({\\\"name\\\":\\\"changes\\\",\\\"scope\\\":\\\"17461291064225645339\\\",\\\"id\\\":\\\"385994962911441059\\\",\\\"type\\\":\\\"observable\\\"}),\\\"index\\\":WebIO.getval({\\\"name\\\":\\\"index\\\",\\\"scope\\\":\\\"17461291064225645339\\\",\\\"id\\\":\\\"15978672516935046322\\\",\\\"type\\\":\\\"observable\\\"})};\\n    var self = this;\\n    function AppViewModel() {\\n        for (var key in json_data) {\\n            var el = json_data[key];\\n            this[key] = Array.isArray(el) ? ko.observableArray(el) : ko.observable(el);\\n        }\\n        \\n        [this[\\\"formatted_val\\\"]=ko.computed(    function(){\\n        return this.formatted_vals()[parseInt(this.index())-(1)];\\n    }\\n,this)]\\n        [this[\\\"changes\\\"].subscribe((function (val){!(this.valueFromJulia[\\\"changes\\\"]) ? (WebIO.setval({\\\"name\\\":\\\"changes\\\",\\\"scope\\\":\\\"17461291064225645339\\\",\\\"id\\\":\\\"385994962911441059\\\",\\\"type\\\":\\\"observable\\\"},val)) : undefined; return this.valueFromJulia[\\\"changes\\\"]=false}),self),this[\\\"index\\\"].subscribe((function (val){!(this.valueFromJulia[\\\"index\\\"]) ? (WebIO.setval({\\\"name\\\":\\\"index\\\",\\\"scope\\\":\\\"17461291064225645339\\\",\\\"id\\\":\\\"15978672516935046322\\\",\\\"type\\\":\\\"observable\\\"},val)) : undefined; return this.valueFromJulia[\\\"index\\\"]=false}),self)]\\n        \\n    }\\n    self.model = new AppViewModel();\\n    self.valueFromJulia = {};\\n    for (var key in json_data) {\\n        self.valueFromJulia[key] = false;\\n    }\\n    ko.applyBindings(self.model, self.dom);\\n}\\n);\\n    (WebIO.importBlock({\\\"data\\\":[{\\\"name\\\":\\\"knockout\\\",\\\"type\\\":\\\"js\\\",\\\"url\\\":\\\"\\/assetserver\\/727383f2a47bd31570b7da84eee7b022dd6d7c78-knockout.js\\\"},{\\\"name\\\":\\\"knockout_punches\\\",\\\"type\\\":\\\"js\\\",\\\"url\\\":\\\"\\/assetserver\\/382b41b3b1bd9f26f75861d360bad7f8beea211f-knockout_punches.js\\\"}],\\\"type\\\":\\\"async_block\\\"})).then((imports) => handler.apply(this, imports));\\n}\\n\"],\"observables\":{\"changes\":{\"sync\":false,\"id\":\"385994962911441059\",\"value\":0},\"index\":{\"sync\":true,\"id\":\"15978672516935046322\",\"value\":201}}},\"children\":[{\"props\":{\"className\":\"interact-flex-row interact-widget\"},\"nodeType\":\"DOM\",\"type\":\"node\",\"instanceArgs\":{\"namespace\":\"html\",\"tag\":\"div\"},\"children\":[{\"props\":{\"className\":\"interact-flex-row-left\"},\"nodeType\":\"DOM\",\"type\":\"node\",\"instanceArgs\":{\"namespace\":\"html\",\"tag\":\"div\"},\"children\":[{\"props\":{\"className\":\"interact \",\"style\":{\"padding\":\"5px 10px 0px 10px\"}},\"nodeType\":\"DOM\",\"type\":\"node\",\"instanceArgs\":{\"namespace\":\"html\",\"tag\":\"label\"},\"children\":[\"time\"]}]},{\"props\":{\"className\":\"interact-flex-row-center\"},\"nodeType\":\"DOM\",\"type\":\"node\",\"instanceArgs\":{\"namespace\":\"html\",\"tag\":\"div\"},\"children\":[{\"props\":{\"max\":401,\"min\":1,\"attributes\":{\"type\":\"range\",\"data-bind\":\"numericValue: index, valueUpdate: 'input', event: {change: function (){this.changes(this.changes()+1)}}\",\"orient\":\"horizontal\"},\"step\":1,\"className\":\"slider slider is-fullwidth\",\"style\":{}},\"nodeType\":\"DOM\",\"type\":\"node\",\"instanceArgs\":{\"namespace\":\"html\",\"tag\":\"input\"},\"children\":[]}]},{\"props\":{\"className\":\"interact-flex-row-right\"},\"nodeType\":\"DOM\",\"type\":\"node\",\"instanceArgs\":{\"namespace\":\"html\",\"tag\":\"div\"},\"children\":[{\"props\":{\"attributes\":{\"data-bind\":\"text: formatted_val\"}},\"nodeType\":\"DOM\",\"type\":\"node\",\"instanceArgs\":{\"namespace\":\"html\",\"tag\":\"p\"},\"children\":[]}]}]}]}]},{\"props\":{\"className\":\"field interact-widget\"},\"nodeType\":\"DOM\",\"type\":\"node\",\"instanceArgs\":{\"namespace\":\"html\",\"tag\":\"div\"},\"children\":[{\"props\":{},\"nodeType\":\"Scope\",\"type\":\"node\",\"instanceArgs\":{\"imports\":{\"data\":[{\"name\":\"knockout\",\"type\":\"js\",\"url\":\"\\/assetserver\\/727383f2a47bd31570b7da84eee7b022dd6d7c78-knockout.js\"},{\"name\":\"knockout_punches\",\"type\":\"js\",\"url\":\"\\/assetserver\\/382b41b3b1bd9f26f75861d360bad7f8beea211f-knockout_punches.js\"},{\"name\":null,\"type\":\"js\",\"url\":\"\\/assetserver\\/5ab20f1060420992a9b82a65b735dee4d81ef413-all.js\"},{\"name\":null,\"type\":\"css\",\"url\":\"\\/assetserver\\/1cc0ed62837210b80a182cc3676512f895dab686-style.css\"},{\"name\":null,\"type\":\"css\",\"url\":\"\\/assetserver\\/2eee816f616df3549d7044d45e744fbf8d42bfa1-bulma_confined.min.css\"}],\"type\":\"async_block\"},\"id\":\"7200312873725364964\",\"handlers\":{\"changes\":[\"(function (val){return (val!=this.model[\\\"changes\\\"]()) ? (this.valueFromJulia[\\\"changes\\\"]=true, this.model[\\\"changes\\\"](val)) : undefined})\"],\"index\":[\"(function (val){return (val!=this.model[\\\"index\\\"]()) ? (this.valueFromJulia[\\\"index\\\"]=true, this.model[\\\"index\\\"](val)) : undefined})\"]},\"systemjs_options\":null,\"mount_callbacks\":[\"function () {\\n    var handler = (function (ko, koPunches) {\\n    ko.punches.enableAll();\\n    ko.bindingHandlers.numericValue = {\\n        init: function(element, valueAccessor, allBindings, data, context) {\\n            var stringified = ko.observable(ko.unwrap(valueAccessor()));\\n            stringified.subscribe(function(value) {\\n                var val = parseFloat(value);\\n                if (!isNaN(val)) {\\n                    valueAccessor()(val);\\n                }\\n            });\\n            valueAccessor().subscribe(function(value) {\\n                var str = JSON.stringify(value);\\n                if ((str == \\\"0\\\") && ([\\\"-0\\\", \\\"-0.\\\"].indexOf(stringified()) >= 0))\\n                     return;\\n                 if ([\\\"null\\\", \\\"\\\"].indexOf(str) >= 0)\\n                     return;\\n                stringified(str);\\n            });\\n            ko.applyBindingsToNode(\\n                element,\\n                {\\n                    value: stringified,\\n                    valueUpdate: allBindings.get('valueUpdate'),\\n                },\\n                context,\\n            );\\n        }\\n    };\\n    var json_data = {\\\"formatted_vals\\\":[\\\"0.1\\\",\\\"0.2\\\",\\\"0.3\\\",\\\"0.4\\\",\\\"0.5\\\",\\\"0.6\\\",\\\"0.7\\\",\\\"0.8\\\",\\\"0.9\\\",\\\"1.0\\\",\\\"1.1\\\",\\\"1.2\\\",\\\"1.3\\\",\\\"1.4\\\",\\\"1.5\\\",\\\"1.6\\\",\\\"1.7\\\",\\\"1.8\\\",\\\"1.9\\\",\\\"2.0\\\"],\\\"changes\\\":WebIO.getval({\\\"name\\\":\\\"changes\\\",\\\"scope\\\":\\\"7200312873725364964\\\",\\\"id\\\":\\\"3948857004471110863\\\",\\\"type\\\":\\\"observable\\\"}),\\\"index\\\":WebIO.getval({\\\"name\\\":\\\"index\\\",\\\"scope\\\":\\\"7200312873725364964\\\",\\\"id\\\":\\\"7052921426553607741\\\",\\\"type\\\":\\\"observable\\\"})};\\n    var self = this;\\n    function AppViewModel() {\\n        for (var key in json_data) {\\n            var el = json_data[key];\\n            this[key] = Array.isArray(el) ? ko.observableArray(el) : ko.observable(el);\\n        }\\n        \\n        [this[\\\"formatted_val\\\"]=ko.computed(    function(){\\n        return this.formatted_vals()[parseInt(this.index())-(1)];\\n    }\\n,this)]\\n        [this[\\\"changes\\\"].subscribe((function (val){!(this.valueFromJulia[\\\"changes\\\"]) ? (WebIO.setval({\\\"name\\\":\\\"changes\\\",\\\"scope\\\":\\\"7200312873725364964\\\",\\\"id\\\":\\\"3948857004471110863\\\",\\\"type\\\":\\\"observable\\\"},val)) : undefined; return this.valueFromJulia[\\\"changes\\\"]=false}),self),this[\\\"index\\\"].subscribe((function (val){!(this.valueFromJulia[\\\"index\\\"]) ? (WebIO.setval({\\\"name\\\":\\\"index\\\",\\\"scope\\\":\\\"7200312873725364964\\\",\\\"id\\\":\\\"7052921426553607741\\\",\\\"type\\\":\\\"observable\\\"},val)) : undefined; return this.valueFromJulia[\\\"index\\\"]=false}),self)]\\n        \\n    }\\n    self.model = new AppViewModel();\\n    self.valueFromJulia = {};\\n    for (var key in json_data) {\\n        self.valueFromJulia[key] = false;\\n    }\\n    ko.applyBindings(self.model, self.dom);\\n}\\n);\\n    (WebIO.importBlock({\\\"data\\\":[{\\\"name\\\":\\\"knockout\\\",\\\"type\\\":\\\"js\\\",\\\"url\\\":\\\"\\/assetserver\\/727383f2a47bd31570b7da84eee7b022dd6d7c78-knockout.js\\\"},{\\\"name\\\":\\\"knockout_punches\\\",\\\"type\\\":\\\"js\\\",\\\"url\\\":\\\"\\/assetserver\\/382b41b3b1bd9f26f75861d360bad7f8beea211f-knockout_punches.js\\\"}],\\\"type\\\":\\\"async_block\\\"})).then((imports) => handler.apply(this, imports));\\n}\\n\"],\"observables\":{\"changes\":{\"sync\":false,\"id\":\"3948857004471110863\",\"value\":0},\"index\":{\"sync\":true,\"id\":\"7052921426553607741\",\"value\":10}}},\"children\":[{\"props\":{\"className\":\"interact-flex-row interact-widget\"},\"nodeType\":\"DOM\",\"type\":\"node\",\"instanceArgs\":{\"namespace\":\"html\",\"tag\":\"div\"},\"children\":[{\"props\":{\"className\":\"interact-flex-row-left\"},\"nodeType\":\"DOM\",\"type\":\"node\",\"instanceArgs\":{\"namespace\":\"html\",\"tag\":\"div\"},\"children\":[{\"props\":{\"className\":\"interact \",\"style\":{\"padding\":\"5px 10px 0px 10px\"}},\"nodeType\":\"DOM\",\"type\":\"node\",\"instanceArgs\":{\"namespace\":\"html\",\"tag\":\"label\"},\"children\":[\"scale\"]}]},{\"props\":{\"className\":\"interact-flex-row-center\"},\"nodeType\":\"DOM\",\"type\":\"node\",\"instanceArgs\":{\"namespace\":\"html\",\"tag\":\"div\"},\"children\":[{\"props\":{\"max\":20,\"min\":1,\"attributes\":{\"type\":\"range\",\"data-bind\":\"numericValue: index, valueUpdate: 'input', event: {change: function (){this.changes(this.changes()+1)}}\",\"orient\":\"horizontal\"},\"step\":1,\"className\":\"slider slider is-fullwidth\",\"style\":{}},\"nodeType\":\"DOM\",\"type\":\"node\",\"instanceArgs\":{\"namespace\":\"html\",\"tag\":\"input\"},\"children\":[]}]},{\"props\":{\"className\":\"interact-flex-row-right\"},\"nodeType\":\"DOM\",\"type\":\"node\",\"instanceArgs\":{\"namespace\":\"html\",\"tag\":\"div\"},\"children\":[{\"props\":{\"attributes\":{\"data-bind\":\"text: formatted_val\"}},\"nodeType\":\"DOM\",\"type\":\"node\",\"instanceArgs\":{\"namespace\":\"html\",\"tag\":\"p\"},\"children\":[]}]}]}]}]},{\"props\":{\"style\":{\"display\":\"flex\",\"flex-direction\":\"row\"}},\"nodeType\":\"DOM\",\"type\":\"node\",\"instanceArgs\":{\"namespace\":\"html\",\"tag\":\"div\"},\"children\":[{\"props\":{\"className\":\"interact-widget\"},\"nodeType\":\"DOM\",\"type\":\"node\",\"instanceArgs\":{\"namespace\":\"html\",\"tag\":\"div\"},\"children\":[{\"props\":{},\"nodeType\":\"Scope\",\"type\":\"node\",\"instanceArgs\":{\"imports\":{\"data\":[{\"name\":null,\"type\":\"js\",\"url\":\"\\/assetserver\\/dd22ed1bf1896c2748f3fe616ce0b838adc895c1-katex.min.js\"},{\"name\":null,\"type\":\"css\",\"url\":\"\\/assetserver\\/46517a424aa5e6cffc1360d7e0848b601c584ee3-katex.min.css\"}],\"type\":\"async_block\"},\"id\":\"15224390965771772986\",\"handlers\":{\"value\":[\"(function (txt){return this.k.render(txt,this.container)})\"]},\"systemjs_options\":null,\"mount_callbacks\":[\"function () {\\n    var handler = ((function (k){this.k=k; this.container=this.dom.querySelector(\\\"#container\\\"); return k.render(\\\"\\\\\\\\;\\\\\\\\;\\\",this.container)}));\\n    (WebIO.importBlock({\\\"data\\\":[{\\\"name\\\":null,\\\"type\\\":\\\"js\\\",\\\"url\\\":\\\"\\/assetserver\\/dd22ed1bf1896c2748f3fe616ce0b838adc895c1-katex.min.js\\\"},{\\\"name\\\":null,\\\"type\\\":\\\"css\\\",\\\"url\\\":\\\"\\/assetserver\\/46517a424aa5e6cffc1360d7e0848b601c584ee3-katex.min.css\\\"}],\\\"type\\\":\\\"async_block\\\"})).then((imports) => handler.apply(this, imports));\\n}\\n\"],\"observables\":{\"value\":{\"sync\":false,\"id\":\"12640205961540361601\",\"value\":\"\\\\;\\\\;\"}}},\"children\":[{\"props\":{\"id\":\"container\"},\"nodeType\":\"DOM\",\"type\":\"node\",\"instanceArgs\":{\"namespace\":\"html\",\"tag\":\"div\"},\"children\":[]}]}]},{\"props\":{\"className\":\"field interact-widget\"},\"nodeType\":\"DOM\",\"type\":\"node\",\"instanceArgs\":{\"namespace\":\"html\",\"tag\":\"div\"},\"children\":[{\"props\":{},\"nodeType\":\"Scope\",\"type\":\"node\",\"instanceArgs\":{\"imports\":{\"data\":[{\"name\":\"knockout\",\"type\":\"js\",\"url\":\"\\/assetserver\\/727383f2a47bd31570b7da84eee7b022dd6d7c78-knockout.js\"},{\"name\":\"knockout_punches\",\"type\":\"js\",\"url\":\"\\/assetserver\\/382b41b3b1bd9f26f75861d360bad7f8beea211f-knockout_punches.js\"},{\"name\":null,\"type\":\"js\",\"url\":\"\\/assetserver\\/5ab20f1060420992a9b82a65b735dee4d81ef413-all.js\"},{\"name\":null,\"type\":\"css\",\"url\":\"\\/assetserver\\/1cc0ed62837210b80a182cc3676512f895dab686-style.css\"},{\"name\":null,\"type\":\"css\",\"url\":\"\\/assetserver\\/2eee816f616df3549d7044d45e744fbf8d42bfa1-bulma_confined.min.css\"}],\"type\":\"async_block\"},\"id\":\"4719980219890852380\",\"handlers\":{\"loading\":[\"(function (val){return (val!=this.model[\\\"loading\\\"]()) ? (this.valueFromJulia[\\\"loading\\\"]=true, this.model[\\\"loading\\\"](val)) : undefined})\"],\"clicks\":[\"(function (val){return (val!=this.model[\\\"clicks\\\"]()) ? (this.valueFromJulia[\\\"clicks\\\"]=true, this.model[\\\"clicks\\\"](val)) : undefined})\"]},\"systemjs_options\":null,\"mount_callbacks\":[\"function () {\\n    var handler = (function (ko, koPunches) {\\n    ko.punches.enableAll();\\n    ko.bindingHandlers.numericValue = {\\n        init: function(element, valueAccessor, allBindings, data, context) {\\n            var stringified = ko.observable(ko.unwrap(valueAccessor()));\\n            stringified.subscribe(function(value) {\\n                var val = parseFloat(value);\\n                if (!isNaN(val)) {\\n                    valueAccessor()(val);\\n                }\\n            });\\n            valueAccessor().subscribe(function(value) {\\n                var str = JSON.stringify(value);\\n                if ((str == \\\"0\\\") && ([\\\"-0\\\", \\\"-0.\\\"].indexOf(stringified()) >= 0))\\n                     return;\\n                 if ([\\\"null\\\", \\\"\\\"].indexOf(str) >= 0)\\n                     return;\\n                stringified(str);\\n            });\\n            ko.applyBindingsToNode(\\n                element,\\n                {\\n                    value: stringified,\\n                    valueUpdate: allBindings.get('valueUpdate'),\\n                },\\n                context,\\n            );\\n        }\\n    };\\n    var json_data = {\\\"loading\\\":WebIO.getval({\\\"name\\\":\\\"loading\\\",\\\"scope\\\":\\\"4719980219890852380\\\",\\\"id\\\":\\\"18324155887006857209\\\",\\\"type\\\":\\\"observable\\\"}),\\\"clicks\\\":WebIO.getval({\\\"name\\\":\\\"clicks\\\",\\\"scope\\\":\\\"4719980219890852380\\\",\\\"id\\\":\\\"8899894092830015526\\\",\\\"type\\\":\\\"observable\\\"})};\\n    var self = this;\\n    function AppViewModel() {\\n        for (var key in json_data) {\\n            var el = json_data[key];\\n            this[key] = Array.isArray(el) ? ko.observableArray(el) : ko.observable(el);\\n        }\\n        \\n        \\n        [this[\\\"loading\\\"].subscribe((function (val){!(this.valueFromJulia[\\\"loading\\\"]) ? (WebIO.setval({\\\"name\\\":\\\"loading\\\",\\\"scope\\\":\\\"4719980219890852380\\\",\\\"id\\\":\\\"18324155887006857209\\\",\\\"type\\\":\\\"observable\\\"},val)) : undefined; return this.valueFromJulia[\\\"loading\\\"]=false}),self),this[\\\"clicks\\\"].subscribe((function (val){!(this.valueFromJulia[\\\"clicks\\\"]) ? (WebIO.setval({\\\"name\\\":\\\"clicks\\\",\\\"scope\\\":\\\"4719980219890852380\\\",\\\"id\\\":\\\"8899894092830015526\\\",\\\"type\\\":\\\"observable\\\"},val)) : undefined; return this.valueFromJulia[\\\"clicks\\\"]=false}),self)]\\n        \\n    }\\n    self.model = new AppViewModel();\\n    self.valueFromJulia = {};\\n    for (var key in json_data) {\\n        self.valueFromJulia[key] = false;\\n    }\\n    ko.applyBindings(self.model, self.dom);\\n}\\n);\\n    (WebIO.importBlock({\\\"data\\\":[{\\\"name\\\":\\\"knockout\\\",\\\"type\\\":\\\"js\\\",\\\"url\\\":\\\"\\/assetserver\\/727383f2a47bd31570b7da84eee7b022dd6d7c78-knockout.js\\\"},{\\\"name\\\":\\\"knockout_punches\\\",\\\"type\\\":\\\"js\\\",\\\"url\\\":\\\"\\/assetserver\\/382b41b3b1bd9f26f75861d360bad7f8beea211f-knockout_punches.js\\\"}],\\\"type\\\":\\\"async_block\\\"})).then((imports) => handler.apply(this, imports));\\n}\\n\"],\"observables\":{\"loading\":{\"sync\":false,\"id\":\"18324155887006857209\",\"value\":false},\"clicks\":{\"sync\":true,\"id\":\"8899894092830015526\",\"value\":0}}},\"children\":[{\"props\":{\"attributes\":{\"data-bind\":\"click: function (){this.clicks(this.clicks()+1)}, css: {'is-loading' : loading}\"},\"className\":\"is-medium button is-primary\",\"style\":{}},\"nodeType\":\"DOM\",\"type\":\"node\",\"instanceArgs\":{\"namespace\":\"html\",\"tag\":\"button\"},\"children\":[\"run\"]}]}]},{\"props\":{\"className\":\"interact-widget\"},\"nodeType\":\"DOM\",\"type\":\"node\",\"instanceArgs\":{\"namespace\":\"html\",\"tag\":\"div\"},\"children\":[{\"props\":{},\"nodeType\":\"Scope\",\"type\":\"node\",\"instanceArgs\":{\"imports\":{\"data\":[{\"name\":null,\"type\":\"js\",\"url\":\"\\/assetserver\\/dd22ed1bf1896c2748f3fe616ce0b838adc895c1-katex.min.js\"},{\"name\":null,\"type\":\"css\",\"url\":\"\\/assetserver\\/46517a424aa5e6cffc1360d7e0848b601c584ee3-katex.min.css\"}],\"type\":\"async_block\"},\"id\":\"15224390965771772986\",\"handlers\":{\"value\":[\"(function (txt){return this.k.render(txt,this.container)})\"]},\"systemjs_options\":null,\"mount_callbacks\":[\"function () {\\n    var handler = ((function (k){this.k=k; this.container=this.dom.querySelector(\\\"#container\\\"); return k.render(\\\"\\\\\\\\;\\\\\\\\;\\\",this.container)}));\\n    (WebIO.importBlock({\\\"data\\\":[{\\\"name\\\":null,\\\"type\\\":\\\"js\\\",\\\"url\\\":\\\"\\/assetserver\\/dd22ed1bf1896c2748f3fe616ce0b838adc895c1-katex.min.js\\\"},{\\\"name\\\":null,\\\"type\\\":\\\"css\\\",\\\"url\\\":\\\"\\/assetserver\\/46517a424aa5e6cffc1360d7e0848b601c584ee3-katex.min.css\\\"}],\\\"type\\\":\\\"async_block\\\"})).then((imports) => handler.apply(this, imports));\\n}\\n\"],\"observables\":{\"value\":{\"sync\":false,\"id\":\"12640205961540361601\",\"value\":\"\\\\;\\\\;\"}}},\"children\":[{\"props\":{\"id\":\"container\"},\"nodeType\":\"DOM\",\"type\":\"node\",\"instanceArgs\":{\"namespace\":\"html\",\"tag\":\"div\"},\"children\":[]}]}]},{\"props\":{\"className\":\"field interact-widget\"},\"nodeType\":\"DOM\",\"type\":\"node\",\"instanceArgs\":{\"namespace\":\"html\",\"tag\":\"div\"},\"children\":[{\"props\":{},\"nodeType\":\"Scope\",\"type\":\"node\",\"instanceArgs\":{\"imports\":{\"data\":[{\"name\":\"knockout\",\"type\":\"js\",\"url\":\"\\/assetserver\\/727383f2a47bd31570b7da84eee7b022dd6d7c78-knockout.js\"},{\"name\":\"knockout_punches\",\"type\":\"js\",\"url\":\"\\/assetserver\\/382b41b3b1bd9f26f75861d360bad7f8beea211f-knockout_punches.js\"},{\"name\":null,\"type\":\"js\",\"url\":\"\\/assetserver\\/5ab20f1060420992a9b82a65b735dee4d81ef413-all.js\"},{\"name\":null,\"type\":\"css\",\"url\":\"\\/assetserver\\/1cc0ed62837210b80a182cc3676512f895dab686-style.css\"},{\"name\":null,\"type\":\"css\",\"url\":\"\\/assetserver\\/2eee816f616df3549d7044d45e744fbf8d42bfa1-bulma_confined.min.css\"}],\"type\":\"async_block\"},\"id\":\"4517392578153767430\",\"handlers\":{\"loading\":[\"(function (val){return (val!=this.model[\\\"loading\\\"]()) ? (this.valueFromJulia[\\\"loading\\\"]=true, this.model[\\\"loading\\\"](val)) : undefined})\"],\"clicks\":[\"(function (val){return (val!=this.model[\\\"clicks\\\"]()) ? (this.valueFromJulia[\\\"clicks\\\"]=true, this.model[\\\"clicks\\\"](val)) : undefined})\"]},\"systemjs_options\":null,\"mount_callbacks\":[\"function () {\\n    var handler = (function (ko, koPunches) {\\n    ko.punches.enableAll();\\n    ko.bindingHandlers.numericValue = {\\n        init: function(element, valueAccessor, allBindings, data, context) {\\n            var stringified = ko.observable(ko.unwrap(valueAccessor()));\\n            stringified.subscribe(function(value) {\\n                var val = parseFloat(value);\\n                if (!isNaN(val)) {\\n                    valueAccessor()(val);\\n                }\\n            });\\n            valueAccessor().subscribe(function(value) {\\n                var str = JSON.stringify(value);\\n                if ((str == \\\"0\\\") && ([\\\"-0\\\", \\\"-0.\\\"].indexOf(stringified()) >= 0))\\n                     return;\\n                 if ([\\\"null\\\", \\\"\\\"].indexOf(str) >= 0)\\n                     return;\\n                stringified(str);\\n            });\\n            ko.applyBindingsToNode(\\n                element,\\n                {\\n                    value: stringified,\\n                    valueUpdate: allBindings.get('valueUpdate'),\\n                },\\n                context,\\n            );\\n        }\\n    };\\n    var json_data = {\\\"loading\\\":WebIO.getval({\\\"name\\\":\\\"loading\\\",\\\"scope\\\":\\\"4517392578153767430\\\",\\\"id\\\":\\\"18446658406716812722\\\",\\\"type\\\":\\\"observable\\\"}),\\\"clicks\\\":WebIO.getval({\\\"name\\\":\\\"clicks\\\",\\\"scope\\\":\\\"4517392578153767430\\\",\\\"id\\\":\\\"10317238558209941690\\\",\\\"type\\\":\\\"observable\\\"})};\\n    var self = this;\\n    function AppViewModel() {\\n        for (var key in json_data) {\\n            var el = json_data[key];\\n            this[key] = Array.isArray(el) ? ko.observableArray(el) : ko.observable(el);\\n        }\\n        \\n        \\n        [this[\\\"loading\\\"].subscribe((function (val){!(this.valueFromJulia[\\\"loading\\\"]) ? (WebIO.setval({\\\"name\\\":\\\"loading\\\",\\\"scope\\\":\\\"4517392578153767430\\\",\\\"id\\\":\\\"18446658406716812722\\\",\\\"type\\\":\\\"observable\\\"},val)) : undefined; return this.valueFromJulia[\\\"loading\\\"]=false}),self),this[\\\"clicks\\\"].subscribe((function (val){!(this.valueFromJulia[\\\"clicks\\\"]) ? (WebIO.setval({\\\"name\\\":\\\"clicks\\\",\\\"scope\\\":\\\"4517392578153767430\\\",\\\"id\\\":\\\"10317238558209941690\\\",\\\"type\\\":\\\"observable\\\"},val)) : undefined; return this.valueFromJulia[\\\"clicks\\\"]=false}),self)]\\n        \\n    }\\n    self.model = new AppViewModel();\\n    self.valueFromJulia = {};\\n    for (var key in json_data) {\\n        self.valueFromJulia[key] = false;\\n    }\\n    ko.applyBindings(self.model, self.dom);\\n}\\n);\\n    (WebIO.importBlock({\\\"data\\\":[{\\\"name\\\":\\\"knockout\\\",\\\"type\\\":\\\"js\\\",\\\"url\\\":\\\"\\/assetserver\\/727383f2a47bd31570b7da84eee7b022dd6d7c78-knockout.js\\\"},{\\\"name\\\":\\\"knockout_punches\\\",\\\"type\\\":\\\"js\\\",\\\"url\\\":\\\"\\/assetserver\\/382b41b3b1bd9f26f75861d360bad7f8beea211f-knockout_punches.js\\\"}],\\\"type\\\":\\\"async_block\\\"})).then((imports) => handler.apply(this, imports));\\n}\\n\"],\"observables\":{\"loading\":{\"sync\":false,\"id\":\"18446658406716812722\",\"value\":false},\"clicks\":{\"sync\":true,\"id\":\"10317238558209941690\",\"value\":0}}},\"children\":[{\"props\":{\"attributes\":{\"data-bind\":\"click: function (){this.clicks(this.clicks()+1)}, css: {'is-loading' : loading}\"},\"className\":\"is-medium button is-primary\",\"style\":{}},\"nodeType\":\"DOM\",\"type\":\"node\",\"instanceArgs\":{\"namespace\":\"html\",\"tag\":\"button\"},\"children\":[\"stop\"]}]}]},{\"props\":{\"className\":\"interact-widget\"},\"nodeType\":\"DOM\",\"type\":\"node\",\"instanceArgs\":{\"namespace\":\"html\",\"tag\":\"div\"},\"children\":[{\"props\":{},\"nodeType\":\"Scope\",\"type\":\"node\",\"instanceArgs\":{\"imports\":{\"data\":[{\"name\":null,\"type\":\"js\",\"url\":\"\\/assetserver\\/dd22ed1bf1896c2748f3fe616ce0b838adc895c1-katex.min.js\"},{\"name\":null,\"type\":\"css\",\"url\":\"\\/assetserver\\/46517a424aa5e6cffc1360d7e0848b601c584ee3-katex.min.css\"}],\"type\":\"async_block\"},\"id\":\"15224390965771772986\",\"handlers\":{\"value\":[\"(function (txt){return this.k.render(txt,this.container)})\"]},\"systemjs_options\":null,\"mount_callbacks\":[\"function () {\\n    var handler = ((function (k){this.k=k; this.container=this.dom.querySelector(\\\"#container\\\"); return k.render(\\\"\\\\\\\\;\\\\\\\\;\\\",this.container)}));\\n    (WebIO.importBlock({\\\"data\\\":[{\\\"name\\\":null,\\\"type\\\":\\\"js\\\",\\\"url\\\":\\\"\\/assetserver\\/dd22ed1bf1896c2748f3fe616ce0b838adc895c1-katex.min.js\\\"},{\\\"name\\\":null,\\\"type\\\":\\\"css\\\",\\\"url\\\":\\\"\\/assetserver\\/46517a424aa5e6cffc1360d7e0848b601c584ee3-katex.min.css\\\"}],\\\"type\\\":\\\"async_block\\\"})).then((imports) => handler.apply(this, imports));\\n}\\n\"],\"observables\":{\"value\":{\"sync\":false,\"id\":\"12640205961540361601\",\"value\":\"\\\\;\\\\;\"}}},\"children\":[{\"props\":{\"id\":\"container\"},\"nodeType\":\"DOM\",\"type\":\"node\",\"instanceArgs\":{\"namespace\":\"html\",\"tag\":\"div\"},\"children\":[]}]}]},{\"props\":{\"className\":\"field interact-widget\"},\"nodeType\":\"DOM\",\"type\":\"node\",\"instanceArgs\":{\"namespace\":\"html\",\"tag\":\"div\"},\"children\":[{\"props\":{},\"nodeType\":\"Scope\",\"type\":\"node\",\"instanceArgs\":{\"imports\":{\"data\":[{\"name\":\"knockout\",\"type\":\"js\",\"url\":\"\\/assetserver\\/727383f2a47bd31570b7da84eee7b022dd6d7c78-knockout.js\"},{\"name\":\"knockout_punches\",\"type\":\"js\",\"url\":\"\\/assetserver\\/382b41b3b1bd9f26f75861d360bad7f8beea211f-knockout_punches.js\"},{\"name\":null,\"type\":\"js\",\"url\":\"\\/assetserver\\/5ab20f1060420992a9b82a65b735dee4d81ef413-all.js\"},{\"name\":null,\"type\":\"css\",\"url\":\"\\/assetserver\\/1cc0ed62837210b80a182cc3676512f895dab686-style.css\"},{\"name\":null,\"type\":\"css\",\"url\":\"\\/assetserver\\/2eee816f616df3549d7044d45e744fbf8d42bfa1-bulma_confined.min.css\"}],\"type\":\"async_block\"},\"id\":\"14556465214414069751\",\"handlers\":{\"loading\":[\"(function (val){return (val!=this.model[\\\"loading\\\"]()) ? (this.valueFromJulia[\\\"loading\\\"]=true, this.model[\\\"loading\\\"](val)) : undefined})\"],\"clicks\":[\"(function (val){return (val!=this.model[\\\"clicks\\\"]()) ? (this.valueFromJulia[\\\"clicks\\\"]=true, this.model[\\\"clicks\\\"](val)) : undefined})\"]},\"systemjs_options\":null,\"mount_callbacks\":[\"function () {\\n    var handler = (function (ko, koPunches) {\\n    ko.punches.enableAll();\\n    ko.bindingHandlers.numericValue = {\\n        init: function(element, valueAccessor, allBindings, data, context) {\\n            var stringified = ko.observable(ko.unwrap(valueAccessor()));\\n            stringified.subscribe(function(value) {\\n                var val = parseFloat(value);\\n                if (!isNaN(val)) {\\n                    valueAccessor()(val);\\n                }\\n            });\\n            valueAccessor().subscribe(function(value) {\\n                var str = JSON.stringify(value);\\n                if ((str == \\\"0\\\") && ([\\\"-0\\\", \\\"-0.\\\"].indexOf(stringified()) >= 0))\\n                     return;\\n                 if ([\\\"null\\\", \\\"\\\"].indexOf(str) >= 0)\\n                     return;\\n                stringified(str);\\n            });\\n            ko.applyBindingsToNode(\\n                element,\\n                {\\n                    value: stringified,\\n                    valueUpdate: allBindings.get('valueUpdate'),\\n                },\\n                context,\\n            );\\n        }\\n    };\\n    var json_data = {\\\"loading\\\":WebIO.getval({\\\"name\\\":\\\"loading\\\",\\\"scope\\\":\\\"14556465214414069751\\\",\\\"id\\\":\\\"2251265295740613565\\\",\\\"type\\\":\\\"observable\\\"}),\\\"clicks\\\":WebIO.getval({\\\"name\\\":\\\"clicks\\\",\\\"scope\\\":\\\"14556465214414069751\\\",\\\"id\\\":\\\"4164010971050225644\\\",\\\"type\\\":\\\"observable\\\"})};\\n    var self = this;\\n    function AppViewModel() {\\n        for (var key in json_data) {\\n            var el = json_data[key];\\n            this[key] = Array.isArray(el) ? ko.observableArray(el) : ko.observable(el);\\n        }\\n        \\n        \\n        [this[\\\"loading\\\"].subscribe((function (val){!(this.valueFromJulia[\\\"loading\\\"]) ? (WebIO.setval({\\\"name\\\":\\\"loading\\\",\\\"scope\\\":\\\"14556465214414069751\\\",\\\"id\\\":\\\"2251265295740613565\\\",\\\"type\\\":\\\"observable\\\"},val)) : undefined; return this.valueFromJulia[\\\"loading\\\"]=false}),self),this[\\\"clicks\\\"].subscribe((function (val){!(this.valueFromJulia[\\\"clicks\\\"]) ? (WebIO.setval({\\\"name\\\":\\\"clicks\\\",\\\"scope\\\":\\\"14556465214414069751\\\",\\\"id\\\":\\\"4164010971050225644\\\",\\\"type\\\":\\\"observable\\\"},val)) : undefined; return this.valueFromJulia[\\\"clicks\\\"]=false}),self)]\\n        \\n    }\\n    self.model = new AppViewModel();\\n    self.valueFromJulia = {};\\n    for (var key in json_data) {\\n        self.valueFromJulia[key] = false;\\n    }\\n    ko.applyBindings(self.model, self.dom);\\n}\\n);\\n    (WebIO.importBlock({\\\"data\\\":[{\\\"name\\\":\\\"knockout\\\",\\\"type\\\":\\\"js\\\",\\\"url\\\":\\\"\\/assetserver\\/727383f2a47bd31570b7da84eee7b022dd6d7c78-knockout.js\\\"},{\\\"name\\\":\\\"knockout_punches\\\",\\\"type\\\":\\\"js\\\",\\\"url\\\":\\\"\\/assetserver\\/382b41b3b1bd9f26f75861d360bad7f8beea211f-knockout_punches.js\\\"}],\\\"type\\\":\\\"async_block\\\"})).then((imports) => handler.apply(this, imports));\\n}\\n\"],\"observables\":{\"loading\":{\"sync\":false,\"id\":\"2251265295740613565\",\"value\":false},\"clicks\":{\"sync\":true,\"id\":\"4164010971050225644\",\"value\":0}}},\"children\":[{\"props\":{\"attributes\":{\"data-bind\":\"click: function (){this.clicks(this.clicks()+1)}, css: {'is-loading' : loading}\"},\"className\":\"is-medium button is-primary\",\"style\":{}},\"nodeType\":\"DOM\",\"type\":\"node\",\"instanceArgs\":{\"namespace\":\"html\",\"tag\":\"button\"},\"children\":[\"save\"]}]}]}]}]},{\"props\":{\"className\":\"interact-widget\"},\"nodeType\":\"DOM\",\"type\":\"node\",\"instanceArgs\":{\"namespace\":\"html\",\"tag\":\"div\"},\"children\":[{\"props\":{},\"nodeType\":\"Scope\",\"type\":\"node\",\"instanceArgs\":{\"imports\":{\"data\":[{\"name\":null,\"type\":\"js\",\"url\":\"\\/assetserver\\/dd22ed1bf1896c2748f3fe616ce0b838adc895c1-katex.min.js\"},{\"name\":null,\"type\":\"css\",\"url\":\"\\/assetserver\\/46517a424aa5e6cffc1360d7e0848b601c584ee3-katex.min.css\"}],\"type\":\"async_block\"},\"id\":\"15224390965771772986\",\"handlers\":{\"value\":[\"(function (txt){return this.k.render(txt,this.container)})\"]},\"systemjs_options\":null,\"mount_callbacks\":[\"function () {\\n    var handler = ((function (k){this.k=k; this.container=this.dom.querySelector(\\\"#container\\\"); return k.render(\\\"\\\\\\\\;\\\\\\\\;\\\",this.container)}));\\n    (WebIO.importBlock({\\\"data\\\":[{\\\"name\\\":null,\\\"type\\\":\\\"js\\\",\\\"url\\\":\\\"\\/assetserver\\/dd22ed1bf1896c2748f3fe616ce0b838adc895c1-katex.min.js\\\"},{\\\"name\\\":null,\\\"type\\\":\\\"css\\\",\\\"url\\\":\\\"\\/assetserver\\/46517a424aa5e6cffc1360d7e0848b601c584ee3-katex.min.css\\\"}],\\\"type\\\":\\\"async_block\\\"})).then((imports) => handler.apply(this, imports));\\n}\\n\"],\"observables\":{\"value\":{\"sync\":false,\"id\":\"12640205961540361601\",\"value\":\"\\\\;\\\\;\"}}},\"children\":[{\"props\":{\"id\":\"container\"},\"nodeType\":\"DOM\",\"type\":\"node\",\"instanceArgs\":{\"namespace\":\"html\",\"tag\":\"div\"},\"children\":[]}]}]},{\"props\":{},\"nodeType\":\"Scope\",\"type\":\"node\",\"instanceArgs\":{\"imports\":{\"data\":[],\"type\":\"async_block\"},\"id\":\"15925075517031530532\",\"handlers\":{\"obs-output\":[\"function (value, scope) {\\n    scope.setInnerHTML(value);\\n}\\n\"]},\"systemjs_options\":null,\"mount_callbacks\":[],\"observables\":{\"obs-output\":{\"sync\":false,\"id\":\"3975642668726191286\",\"value\":\"<img src='data:image\\/png;base64,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'><\\/img>\"}}},\"children\":[{\"props\":{\"className\":\"webio-observable\",\"setInnerHtml\":\"<img src='data:image\\/png;base64,iVBORw0KGgoAAAANSUhEUgAAAa4AAAGuCAIAAABHl3XNAAAABmJLR0QA\\/wD\\/AP+gvaeTAAAgAElEQVR4nO3dd3wU1cLG8d+mh15DCU2aKHBpIiAigiJKCwICItaLigUbzQqC3GtDQV6xY0UvVYqgIk0UREBBEJXeS0LoNSHJnvePQEjZMjMpG8Lz\\/cwfZGfOmbOzsw8zOzPnuIwxiIhc2oIC3QARkcBTFIqIKApFRBSFIiIoCkVEUBSKiKAoFBFBUSgigqJQRARFoYgIikIRERSFIiIoCkVEUBSKiKAoFBFBUSgigqJQRARFoYgIikIRERSFIiIoCkVEUBSKiKAoFBFBUSgigqJQRARFoYgIikIRERSFIiIoCkVEUBSKiKAoFBFBUSgigqJQRARFoYgIikIRERSFIiIoCkVEUBSKiKAoFBFBUSgigqJQRARFoYgIikIRERSFIiIoCkVEUBSKiKAoFBFBUSgigqJQRARFoYgIikIRERSFIiIoCkVEUBSKiKAoFBFBUSgigqJQRARFoYgIikIRERSFIiIoCkVEUBSKiKAoFBFBUSgigqJQRARFoYgIikIRERSFIiIoCkVEUBSKiKAoFBFBUSgigqJQRARFoYgIikIRERSFIiIoCkVEUBSKiKAoFBFBUSgigqJQRARFoYgIikIRERSFIiIoCkVEUBSKiKAoFBFBUSgigqJQRARFoYgIikIRERSFIiIoCkVEUBSKiKAoFBFBUSgigqJQRARFoYgIikIRERSFIiIoCkVEUBSKiKAoFBFBUSgigqJQRARFoYgIikIRERSFIiIoCkVEUBSKiKAoFBFBUSgigqJQRARFoYgIikIRERSFIiIoCkVEUBSKiKAoFBFBUSgigqJQRARFoYgIikIRERSFIiIoCkVEUBSKiKAoFBEBQgLdABFLdu9mxgwWLGDnTk6coGxZLruMjh3p0oXixQPdOLn4uYwxgW6DiC+HDjF8OB98QFKSh7klS\\/LMMzzxBKGhed4yKUAUhZKv\\/fknMTFs3+5nsWuvZfp0oqLypE1SECkKJf\\/avp2rr+bgQUsLN2jAsmUULpzLbZICSpdNJJ9KTKRjR6s5CKxdS\\/\\/+udkgKdB0VCj51BtvMGiQ7VJLl9KypbVFjWHVKpYsYd8+EhOJiuKKK7j5Zl2FuTQpCiU\\/cruJjiY21nbBmBhmzvS3UHIyH3\\/MqFHs3p15VlgYvXvz0ktUqWJ73XIxUxRKfrR0Ka1aOSkYGUl8vM9fDPft49ZbWbnSTy0ffUSfPk5aIBcn\\/VYo+dGKFQ4LnjnD2rXeZ+\\/eTbNmfnIwtZa+fRk71mEj5CKkKJT8aN++XCh75gwxMezZY6kWYxg0iHnznLdDLiqKQsmPkpOdl\\/V4JzbA2LGsWWOjopQU+vcnMdF5U+TioSiU\\/KhCBedlo6M9vXrqFK+9ZruuHTv4+GPnTZGLh6JQ8qMGDRwWDA6mbl1PM+bN4+hRJzVOmeKwKXJRURRKftS2LUWLOinYqhWlS3uasXChw6YsXapz5EuBolDyo\\/BwHnjAScHHHvMyI+sthBYlJ7Nzp8OycvFQFEo+9eyzlCljr0irVnTt6mXesWPOm\\/LMM87LykVCUSj5VKlSfP01YWFWly9fnq++wuXyMjs7vdZ8\\/bXz82u5SCgKJT84DTPhebgX7oFnYSqcaNWKSZMsdTZTrRo\\/\\/EClSt6XqFkzWw0cNixbxSXf04N3ElhH4GUYD6ezzAqH++GFP\\/+Mevhhli71XD4oiNtvZ+xYf2fTjh\\/lS7NtG5ddlq0aJB9TFEoA\\/Qq3gu9OF0px9AN21\\/5+ddSURWXmLwretw+3m7AwLruMTp3o25eGDS2sKiXlzBVXHN68uQyEO2vse+\\/x4IPOikr+p7FNJFAWQUdI8LfYYYr04AVunsXNQUE0b578+G0nbn+gZHQhK+swxnzzzTeTJk2aP3\\/+wfN9H1aGW+AusNib1zm6jlyg6ahQAmI7XAWHrS5+AlrAX+f\\/LF+eMWPo3dt3oTVr1vTv33+l984XOsM74OMHxgweeID337e4rFx0dNlEAmKgjRwEisLb6f6MjeX2233f4zJt2rRrr73WRw4C30BTsNoJjkZOKdAUhZL31oLf7lWzuB6uy\\/jKK6\\/wxhsel\\/3555\\/vuOOO06ezXorJLBY6wBYrDahWzcpScpFSFF5CkpMJ8M8hbjfJyTAVHLXjtiyvDB3K6tWZXjty5Ei3bt3Onj1rsdbD0AvcvhdyuWjf3mKFcjFSFBZwR44wfjzt2lGhAmFhhIdTuTK9evG\\/\\/3nvzCpnJSby+ed060Z0NOHhhIezyn4PMaluyPJKSgpDh2Z67b\\/\\/\\/e9B66NDAbAaJvpe4vrrfd61KBc9XTYpsIzhrbd46SUOe\\/lRrlYt3nyTTp38V5WczLJlbN9OXBxFi1KlCq1aWRsNaepUBg\\/OfO11F1S2UDark+Cxj4ZNm6hVK\\/WfSUlJUVFRR+13QtMUvP6s6HKxbBktWtitUy4mRgqiU6dMt24G\\/Ewulxk+3LjdXuuJjTUDBphSpTIXDAsznTub33\\/33oKUFDNokOe1HsEYR5MbE+ypwjffTFvtDz\\/84OyL4IK93jbToEE5+dlIvqQoLIDcbtOzp\\/8cTJv++1\\/P9fzvf6ZoUV8Fg4LME0+YpCRPhZ9+2muxjU6jMNZLhf36pa129OjRjg8LvvdYeffuJjk5Vz4nyU\\/0W2EBNHq0vf5Gn3+eJUsyv\\/j66\\/Tpw4kTvgq63YwdS5Uq3HUXzz7L3LkkpN4xPWcOr77qtdgmG23LwNuF3v370\\/4Z62DA0PN2Z3rgICSE559nyhSCg23XlZTE3r1s3MjJk47bI3kq0FksOSw+3hQvbuOQMHVq2NCkpFyoZPp043LZrgRMsWJmxPCUk3Wa+Fqov9OjwqFeKrzttrSWP\\/fcc46\\/C64vafIbI18gvnKk6d3b\\/POP7a1\\/4oR54w3TsqUJCrrQvMqVzSOPmLVrc+LjldyiKCxoXnvNSYSBWbLkXA3Hj5uoKIeVpE412LKeul5nl8Ecs5+DZzBVvFT4+ONpb\\/\\/tt9\\/2n3ne\\/HiuxmKm2BvmDbfx\\/huqR5995mvDBQWZe+4xx47l3EctOUknyAXNTPs3L6eaNevcP954gwMHstWGrdRoybJ1\\/Mvz7IPwuv1K34ZdXma1bp32z2uuucZ+1QCEQuNz\\/zzO8YEM7EOfs1i7OdEYnnySu+\\/2teHcbj79lBYt2LHDYQslVwU6iyWHRUY6PJRr0+ZcDbVrZ+uQMG2qxvZDZLn2nDqFYhbbOSRcjSnkZTVFipiTJ9PevtvtLu15cBN\\/ioI7c+13m7stbfThw21slzp1zNGjOf\\/BS\\/boqLBAOXqUM2cclk0dSX3rVjY5vqyR0Q6qjeJ5z\\/OSoCdkfk7Ei7+hi6f+DFMNHJi+c1eXy1WyZEl7DU11ArIMkvwZn\\/2P\\/\\/kp+NNPjBxpY0UbNvD44\\/baJrlPUVighGSj07XUy6Q5e\\/b2Dg8fwEsvBvHQCj7x+cibgcnQAvZ4WaBmTQYOTP\\/CsWPHtm\\/f7rC533p47VmeTcT7iHfGMGSI7ecZv\\/iCtWvtFZFcpigsUIoUoUgRh2VTR2H39miKM4mEz6aL19mn4T5oCl9BpsdDTsI0aAm94biX4sWLM2tWpkFCd+3alZKS4rC5niJ0Bzu+4zuvRVavZoXVrm0ucLvV31d+oygsaK6+2mHB5s0BL4MIZ8Mi2vpZYjXcAVFQD9rDLVAfysBtsNx7qerVWbqUK6\\/M9PKhQ4ectzXe88uzme21yGzvs3xzXFByh6KwoPE6+qU\\/MTEAVavmYFsA9ljsGjUJ\\/oIf4HtYj49TUiIjz3VIU69e1pmlSpVy2FDAy+gof13oMzbrPO+zfNu7F\\/sPSkvuUYf+Bc299\\/Kf\\/xAXZ69U69Y0bQpQowa1a+fYlRPgOMWcFw4Opl8\\/Dh1i\\/36KFaNiRdq0oUMHvF8YqVy5ssvltJORKp5f3se+rC+e5nQccdFxuy2PTpq13n2UKOG4tOQsRWFBU6QIo0Zx\\/\\/02ioSF8eabF\\/68\\/XZGjMix9lRgf+aXwqEcFIVY8H06O3o0Tzxha3UlS5a8+uqrV6T7\\/S4oiBYt6NKFK68kKorERPbt46efmD2bPZmuxtzsuc5CXBhHZTWrP+Kj2czey15gfgQ32mpfhnotDc8ieSTQd\\/NIrnjgARs3ur3\\/foay2X\\/aJP302HVvmZ8xWzDbMFsxezHudDcMHsBMwLTwVHLwYGfvfcyYMWm7d\\/v2rF3r+V7F5GQ+\\/PDcxSKA6pDi+U1cb643xhw2h\\/uYPi7jSj\\/rs7ucbpegIJOQkP0PWnKKorBgSkoyQ4f6\\/z6GhJi33vJQ3PEzyFmn+fNvtHQT9TRMmfNlypQxX3xh5+3GG\\/OhMd2MaWzMZSkpDb7\\/PrJ\\/f15\\/3f964+O5\\/noAvvL6JoaZYZvMplqmVtZZ\\/T50ul2aN8+hj1pyhqKwIJsyxVSv7vXLeM01ZsUKr2VffTUH0rB69a1nz4ZafaRkG6ZrbTNypJ2HMU4Z84IxhR3272AwhoQErhni4VGTtGmxWVzT1PQ4q1wsZ0MdbZpXX82JT1hyjHqxLuDOnmXOHGbPZu1a9u8nJIRKlWjRgq5d0z+569mkSTzwgJ9+uvzV0LtXr8l2SlSFlXi4KzsJDGS6RLEXusJvztt3XpyhgQuPl5o60SmU0BnM8Fb2nYd56F2b6ytThi1brPUDLnkl0Fks+VpcnOderK1Md975uaPDtC7nV37KmA+N6WhMeWNcxmBMOWPaG\\/OOMceNOWjc1bNzMJhpesfTmyhiinxpvvT9RsvFsr+8zU0zYUIgP1TxREeF4l\\/q2CZbt\\/Lnn3z2GUeO+C\\/SsePcadN6REQkWFyFgWUwC9bBPlMtJOF0dOjhZiHJXaG+h8WjOBpECee9tGaVBJXJcGAYRNBUpk5n+ld85btsi+UsaovV9\\/rww4wf77idklsCncVykYmNNe3b+zriCQ9PeOGFkSkpQdaPyBYZfPT12tHwV84d\\/fmY+mU8HpxhZiSZpJKmpJUjvebLLRwbulxm6NAMfeRKvqEoFCfmzTMxMaZQoQzf9IoVjzz88Pht2y6znj5uwyuGIH9BE2H4Ivej8FMDBpdx9TQ9t5qtxpgdZof1895ysbzbn6QQL\\/ObNDELFwb6cxOvdIIsrFixYubMmb\\/++mtsbGxKSkq5cuUaNmwYExPTtm3boCBfj2aePs327ezbR0QEFStSvXp9l2u9rVU\\/A69YW9IFX0FvW7XbtI5yCxkaQ0x1qqe+soIVzWluq5IK++n8Da1+psHuUvUTa1OuHPXq0aULTZvicuVCqyVnKAovab\\/\\/\\/vugQYN+\\/PFHj3Pr168\\/evTom266yXJ9JbP0MOPLdLgNrO9\\/kbASPDx4nGPqwD\\/p\\/17L2oY0dFZXN7pNZ7rvZVJS+OUX1q8nNpaICKKjufZaqld3tkLJnkAflkrATJw4MSIiwvfu4XK5hg4dmmLh563Dh8277z7Zo8fUmjU3Fyp0KjLy9Hff3ezjbPSMoar969J9c\\/cc2WXMgvRv6oA5YLeFadOj5lEfm+voUfPMM6ZMGQ8lGzY0U6f6GpxacoOi8BL1yScfW\\/\\/\\/csiQIZmKJyWZH380b79tunc39eubiAgTGno201f6rbce85E7E2wmS2nD24azuf6LYRljDqV\\/p5eby51F4RQzxdvGX7TIlC3rp\\/yNN5qDB3PloxePdIJc8CWSuJjFG9gQS2wEEVUplfzbnIdazk+xNoRRqqlTp\\/bo0QM4coSXX2bChAudvAYHp6SkeBgpuEePaVOn3uatwk4w1\\/La68MsuMxGe7PjKXgj7Y9nefZlXrZbRSSRscQW89Qrz5Qp9O1LUpL\\/SmrW5OefKV\\/e7srFkUBnseSieBP\\/uHm8mCmWdrRxtaGVgTa295OqVaueOXNm3jxTunSGg5ewsMQMf5LYi0mT6LWJWqddkaYQpiamJ+YrTEKG4y\\/rd21XN8Q7OL47gFmI+QLzJWYJ5qj1skWMOZO2DeNMXFFT1O4h4dPmaY+fyKpV9sbhatFCnTbkEUVhgTXXzC1hSqT\\/Zl1jCDWwzOH\\/mvff\\/0lISIYvqsuV4cHd7kzbivdnnqthplz4odDi880Rhn\\/shuAOTCtMcMaawjDtMQu9lzqOmYx5FTMEM+ou88UXZv\\/+1C052oy2lYNVTdUj5kjWTyQlxTRubPtMe\\/TovN1vLlWKwoLpE\\/NJcMYwqJX270EOozAoKCbTt7Ro0eOp\\/wgi5XUGWfpmP4RJ5rjlKBjs4HjQ7aXXr9TpVk9HiBMxWXtVCAoybdqYX35xG3cf08digwubwmvMGo8fyqRJtnMQTKlS6Qc3ldyiKAyk5GSzapWZOdN8\\/LGZM8ds3Jgz1f5sfg4zYWnfplBDh\\/S3MV\\/rMAohKv1XNCLiTNq\\/reZg6hSMqU2RBP+LBhvinF39mOaz4isw+9It\\/DoZOyHMMj3ySHJSwlAz1G+Do030SrPS2+cSE+MkCsFMn54zO4b4oCgMjJ07zQMPeLiXomZN89JL5sQJ5zUnm+QrzZVpVV5n+NtwRfqVOL9tzQUXfhmsXHkX5w6zvnbw\\/W7xi\\/+FrnN8IfiU9yHkU6cmmNOYI5je1hp8880mKWm2mZ1+26afQk3oADMg3sR7+1xSUjI\\/nGN9euAB5\\/uDWKQoDIDXXjMREb52\\/fLlzbx5Div\\/zHyWVtO9hkTDV5mq9zKChzWn0yoqUyYeTChnN1PTwff75af9LzTEcRQazNX+qr8bU9hOmx991BiTbJKXmCWDzKBOplNT07SVaXWHueMD88F+s9\\/35xIX5zAHwbRv73BnEOsUhXnK7Tb33mtp7w8JMR995GQVN5ubU+tob0g2GEN3A8nwIzwLd4LzkYVKpW9h6o2EPZjq7PsdF8X5Xxq9TmOzE4W3Og0eH9OyZY4\\/+n\\/+cb7aq65yvFqxSoN\\/5qkRI\\/jkE0tLJifz4IN8530scs+lSF7MYqA0\\/A+CISWF+R9DNbge\\/gtf2Ho0LpN\\/pf\\/D5TLArd77NPUt6gCDRvtZJluDkIVmp7AXw4Y5Llq2rPPVRmXtylZymka8yztr1\\/LSSzaWT0mhXz82baJwYatF4ohLJBF4DkrCkSPc1pPjC+y31ZNixdp26DCpQoX9xYod37+\\/QlxcublzOzZJ\\/t1xhc\\/9hxXN+LaD1wWyjJVnx97sFPZi8WJiY53d9FyqFMWKcfy4k9Vellc3l1\\/SAn1Yegm5+WYnJ0cvv2xjFevNegyhhm2GD45ROue6LihSJOTAgcxdEB46VCoxIiw7p5xHSnDjfK+zOzs+O07CWjeD9qcPPnC8A\\/Ts6XCdc+c6XqdYpSjMI7GxJshvt3yepiuusLMWE4uhsiHMQKccy0Fg9GgvoVPC\\/lvKOCWFMGwEhU55mBdpOOksChfmTg6CKVzYfP65s31g9mwnKyxf3pw5479yySZFYR75+GPn375t26yuZalZem6gXoe\\/4HkWE0NKipfQuSJnImZvRUZ8SePU52EMGCIMbQxrnEVhTK5FYeqUpX8Ki1q2tL2qTKNUSy7RZZM8snVrrpddwpIbuMFgAEY6X10mMTFMnIjXLlyvypm1VNzHsCB+h0TYDwfhDCzCUWeBS2BWzrTKq9deI93A89Z9+KG9ce7at+ff\\/3awHrFNUZhHDh50XvbAAf\\/L7GZ3D3qkXjNhK6xxvro0xYvz2mt8\\/TVFinhfKCbzCwZWwkcwAv4Dn8EGi+trB+CC8lDaUYMBYqGv48J2DB7Mn3\\/aLXTFFUyeTKFClhZu1IhJkwj20OmP5IJAH5ZeKp5+2vnZ2Hff+a8\\/w0OyE7K3TxSGVvR6JTg+3toFivPnyKfhZajoqco68Amk+HiTRbJxC2HatB1TL5dPjdNPHTs62xlWrzY1avipu08fc+qUs+rFCUVhHhk\\/3vk3bv16P5VvMpuCTNCFEiOykYMfgaHr0eI2AmgWxsXvUNVf3VfDHm9vsnL2QjAFMxFTJg9zEIzLZXbvdrY\\/JCaaMWNM7dqZqwwNNTfdZJYscVarOKf7CvOIjQFCMoqO5sor\\/SzzNV+7cV\\/4+5TDdQEk03xXlaun9eCpN60W6cLCXnSZxGl\\/C66EpvAT1Mw6z9kPCEmwHebAF\\/CHoxqywxi+\\/ZYHHnBQNCyMJ57giSfYsIG\\/\\/2bPHgoXpmJFmjenZMkcb6j4pyjMIzVr0rgxq1fbLtizp\\/+B0n7ipwx\\/Z6Pf4wprb\\/n1obkDJtr4vW3LFnr+4D8HU+2HLvArWfp3PsOROEqWs7xWAzfCYjDWW5oLNmT4IdTtZtUqvvmGzZuJi6NoUaKjaduWm2+mmIcOrQHq1KFOnbxoqfgR6MPSS8jcubbPwIoUMbGx\\/mv+l\\/lXhnLWe8r3YAOYb7+9xfrJabt2ttcxOMtb\\/Ro++cTmSfGSLP2z5v10++3pP9\\/69b1+jsOGZavDIcltuoKcdzp04Pbb7RV54w3KWThQOp3pmOwGKGpvRefVgsuBgwfLWCzw00\\/Mn297Nf+X8aG6jXAvTJxos5br4HXbq3bmGMUn0ftB3u\\/MN9fzY28mvcBLq2hqihYDUlJ4+mk6dvR6SfnkSUaOpHHjTAeRkp8EOosvLadPmxYtrB5wPP641WpbmpaZSz\\/obHd4PbX8yJEvWDw0e9Dhihh\\/vqW\\/QIXzL\\/7wg+0LJpPf52zWDqhzbjpGsecYVQhPT8NgGpSP\\/e47G0\\/UlSljtmzJzT1MnFIU5rXTp80dd\\/j5woSEmDfftFHnv82\\/M9exD3zcDOhZVTjXMXWLFr9YTCLHPQXEwLFgnoPwdC\\/WqMHBgzZycLEh1HDNMn5tlis5uIladfgnZ2utW1cP0uVHisLA+OEH06yZh+9JaKjp3t1s2GCvtplmpocv3XTwd70lnQhYnlY4KChly5YafpMoJYUQpxfeShWllKez+NatOX7cUg7+aUjrBdzlpvWPzOrC6cgcC62N1C7FoVwIWPPqq7mzV0k2aBzkQNqxgwUL2L2bI0eIiqJ2bdq1c3IvRQIJtam9m92ZZ7wFAyHFbwWRMBG6pX+pV6\\/Jkyb19l3s6NFs3PkRAQme59Sty7Rprjp1fO2ZU+HfcCLL66FJ3DqDrjNp9k1UpYSDoSlul6Md\\/BSFm\\/D7Ri53UtifUqXYv5+wsNyoW5wKdBZLzvjUfOr5EOQ7vz3414PfspZsFfTTmT\\/CfB+Xud259X0ODeXhh\\/lrb+Y1JhnmG9pYOfZ69P8ITi419s71dZ0cuY3khdw4HkybHA\\/YILlER4UFhMHcyZ1f8qWHeQnwPkyClVy4ETvEhWlNyj3QFzw85vog779XuD\\/zoKWv9dauzebN2W28V09R6w3qQiU4A\\/tgBRy2WHbEcF58kfDE8l+1Xdf\\/l7LxNlabQER5Yo9hp+MEf+rzZxdmX8E\\/ldhzisLlGpRv8vi1dO5MGasX6yV3BTqLJcecNqc7mU6+jkWOwp\\/wI8yuSWU\\/VwOe4b8GTDjmQ4w7w6HZWcNuw++G7YZHBubATui1w4F7snHgNWDcuX\\/V+afXxBBbRWfTOQcPAJuz\\/CdaeZ4XGmoefdQcOBDofUd02aRgSTEpL5oXgxO9Xztwu\\/j8zvQDLFWrtn3AgHHjxg2YNKnXhAn3vfji8NatfwwOTn6Hhy6Ua4b5FvdZphq6GCLTVRjihvnQz\\/ZYIq3gXdh4fgy9g\\/ArPAfV0i\\/UNhsR1GVW2h+uT+\\/6rYmNooN5Lady8HHGpuCvz94KFczy5YHedy51isKC5uhRE1p9F288xdbqGb5w8WX45B6aXPhZsGnTlQsXtvX4I+D+\\/eXjHo4y6e7X+7MeV632+YXeBK2t5uC93qtJhDFwbjSXcPA3Kp7nKSE8w3h6t3z70P8FZ17K+zDwffgyR3LwFYZaXTQiwvzyS6D3nUuaorCgmZp+MM7y+2m0mha\\/UGk3wckXQsDlHjr0lZSUzGOVZJ6WYypg4Ntb\\/A\\/UiYGz0M9\\/DjZOP5qyl2lN2sWezxyl0PRuGf4OTwjaXH1E42HmLcwwzDjMXMwGTHPPpW\\/l6+znYC8m2StQvrylpywldygKC5pXX\\/X\\/pRs\\/\\/mGrtzHvZHU7Cp+0\\/IVOgc6+crAm7LZW04bUEZsvgwSbKZQcTN31mV\\/dWaVwqUNnzkRkeHduzCTMNaTv4czAQ8HvZDMHIzm9m0q2i\\/XvH+jd59KlKCwoUlLM99+b\\/v13Vmi2m0q7qPwLLd7mkRuZH5Sxy9T+\\/d+1\\/jhHgqG63SQ6Cl7G\\/L3FZe+W5ampxbJ23uB7enG4h1f\\/aECl3dOnd\\/D8TmMxCzCfY77C\\/MS41wdkMwoHMM5JsZAQs3dvoPekS5SisECYN89rpyiwmkbXn+vNypQpE3\\/sWDHrUTjWWRS8lSEBg4Jo2ZI5czD32a7p2tQqPrBc4Kvbcbk9zNhXgaJ\\/Nm1azut4VemmHTuqujxWYnlawnUOS777bqB3pkuUovAi53abV17xO66oG9eLDHfh\\/u9\\/n7EYggcOMG4chXc5+UIXSmHyTMaN4733mD2buLjz1W73dbHC4zQtNQpdMBTO+uyTKzmYEcM852DhkxyK7Ny5qqUhCgzG0L79945zMJjkJOzdvnNhStfrl+QlReFF7oUXrH\\/NnublTZtq+U2BpCRGjaJYMajpOA2Y561+Oze1GDgBEWmHl7VbMrknZyIyL5QYxoyuHn4fTJu6Ta\\/xBykpmBOYbzEfYl7nxPgi2yZetmVjjdOnI7O2848\\/GgSnu9Bka6rAPqebDXPddYHepS5R6sX6YjZnDqNGWV\\/8PzwXtMtNrfN\\/r4PfYC8YqAiNoDFHjtKzJwsWAHC986b9DZ6HMGgNv9uopwjUhnWpf2xaSZ9tRE6gzWKqb6NsPPFl2VmVxW045vPJkDu+HOcmqDt8f+HB5yKcLMLJg5R5j\\/7fNuzQtueihx56t0SJo6lzGzRYe+voQdOetDrCZ9mypm5d148\\/AhSy2qW3J6eyMxqDZEOgs1icSkoyV1xh+6CjPuYM5h1MdQ9z3ZUYXyNdr1n3Oz8qHOLtqPAN28C\\/DAUAACAASURBVJXdfL45JaCsr1sSPU\\/BTZdPeDLzNeJM01GKd2da6dIHP\\/jgfmNwG+5MnfHcKM9n3Bmn6Og9a9YsMsYsXGj69DEVip9yflTYpUugd6xLlKLwojVlisMvWzU\\/C2yCc+NK3eE8Ckd4i8L3bFf2GkyGo2AghaD2YbOtlw4temjudUWtLOrG9QRjwDz00DspKUHT0mZM7km5WB9FC1fZuWZNQ2MGpn0yKSkmuVJVh1tuyJAA7lOXMnXof9GaMcNhwR1+5teC5dAC2OdwDUC0txkW6jxF4a\\/p9iRjejOpM99s5oP9PH6I6kAQ7qln76hfaIWlRkSeGXtd4w4\\/Ze3KywMX5g0Gduabd999aNiwkV3gXPdjFffh9vU1ObWrSqvWS+bMuTDwQlAQwV193l3pQ0yMw4KSTYHOYnGqZk2nR2yWpv0QXQgv\\/dj7nzZ6Oyrs6avcMYo9z0uF8XxL903MW0NDA2eIuLX4J35OXatvve5t2z8gxBFVjGMul3vRojY9DcztQOhZK0VDQpK\\/\\/jrdp7N2rd\\/L+h6mf\\/3LpKQEbI+6tCkKL1qFCuVqFBqYAsx0UrK+txxMxBTzWm4jtS9ng++qg0lOe7B3cUTzy2vMJSwx82K1NzL6KT7q\\/UtYEwfv+nleAtOkyW\\/PHChLsWPWixYpYtavT\\/cB3XOP7bV\\/\\/33AdqdLnqLwohURkdtR6IY6Dcn4rIql6WtvUfgTJtxzoXXUL37u90D\\/0\\/O8lPZHfFixlxvfdEuPe4JuH8DjtzKwDn1uoWR8NbY7e9f\\/UCf1n0++Pshu6euvT\\/cBHT9u6tWzUXjQoIDtS6IozG\\/27jVff23GjTNvvmm+\\/DLjUUYm1arldhQaeAV4316Z4b7vW9yB6ZW50GFKXsY26+tw4Z5I5rGypjVP\\/cnnztQXHma843ddje1gWrX6yUHpn35K9xlt22b1Kv9995nk5FzfvcQ7RWF+MXu2ad7cuFyZvyPVq5s33zQJCVkKdO2aB1H4BxAGP1taOsjwrrVnOcxbmJALRQcy2m7TgkgZy+PpuwJ0V6VRo8vSBu17nUGO33UbFoGpWnWHg9KPPZbxYzp61PTt6+FzTZtKljTvvJNHO5l4pygMvMOHzc03+\\/mC1ahh\\/vgjQyn3xx\\/nQRQeST3SioCJ\\/pf+1GIOpqUhGDhI6Yjz+WV3uoVvj1I87e8OLS\\/0MziB+xy\\/69uYAiYs66+QFqZ69Tx9xr\\/\\/bu6\\/35Qvn2HRRo3MyJHm0KE82cvED0VhgO3bZ2rVsvQdK1LELFx4oeBrI0ZY7O0qO5M7rbd9F\\/TB21lsWcM3tnIwdeqNgU+521nrrqm7bOPw2lMb9DhLqIFDlAoJTkqb+xqDHb\\/r1KNCZ1OJEj4\\/77g4s26d+ecfc\\/JkLu9ZYo+iMJDOnPE8GrK3qVQps3mzMcbs2bOnUKFCth+8sD8dzHTvVTC0hldhGvwIM2EMdKDL2xxz24\\/CPZhI7uVjZ60LDk5OTAwzBjMf05AZdE0\\/9xHedvyuq7PV8TYLCTFud6B3LLFPURhIo0bZ\\/qalXqN87LHHUqPJ5iUN29MqvzemhsC7xDg4JEyd7qQdP\\/hvSNkDtP6ROybSYyotl1Lo3O2OO3ZUTbtNJ+m+kE58k1akBlucveXN2emFAhMdHeCdSpxRFAbMkSOmeHEnX7b5892VKlVKDaIwnB5TWZtG+I3C\\/wPDJ46jcBotWep1\\/S43PSfz87UkZ+ye63QkM2Novnz9+rrpa0t+MDj9ue1Kmjp4yy8y\\/NyqHW2zNm0CvWOJI4rCgPn8c4cB1aPHsUxx1A98PCW7l4qPMzaBcLtrSoYrfOdgr3OLrnMchTvoxnTP66+yk+VeBh9JndyuXolhp9LXdpajzYtXPNfZjrmexXbfcjxlzt3eeP3iYJIrstfboy\\/epjFjAr1jiSOKwoC5I\\/ONcVan0qUTs4ZSEXgQviU8ltIG3Lj2U\\/4bOvXjw0KcAjOGJ+yuaYLvHAwj7Se1g46jMJFnXf\\/xsPIGfxBbzkorGxsOpa9wBR+6+qXN\\/oh\\/W3+\\/blzdWwysVXX+eFf\\/DZeFpd2pc4xis+hyN5+G4uchvEKFzL59gd6xxBFFYcBcc43DKHS5TPr+TNMJh2VgwkjM+qUtxrG\\/uNL6arZBGd9ReNuFpeOzEYW\\/uFpkXnm5WHZVtr5JrjMkpqsz5cagCuxLnRdG4g+0s5SDLp5++Xy8\\/s7\\/euPO0uH2Jmq1x1fv1s8\\/H+i9SpxSFAZMnToOoxCMl55fhvguVYMtu6hspfZYoupf6CfQi3R9Za11HIXbSSGoPusyrH9qD7vb4830dY7ngXTXk0I5+zaPuPF+kzOcKEKfLEMft1zKvgqZl0wmeBCve6ymRQtPd8LLRUJRGDAtWzrMQZfLhIUVy5JMReGw37LliF3M9b4Xiq9+db\\/2u6KiDLwLlcCVeVXR8Baku67wsdMoPDwVA99yy4W6mvzm4XjM31TacDyt2j883KvYlJXfckvWIUeOFuedhyi\\/33O10XvYXNPDnAeyXLpv2NDs3x\\/oXUqyQVEYMH36OIzC8uVNu3btskRhL4vFXbi7MX05zdM\\/tXZualzPTPzUpEw8c6ZzXFxkQgKJifz9N8OH06oVYWHp1laL9KfgXZxG4Z196QZToT9vnatr3ABHW4Wv0qqN5wfaeVyoFIduLTnhsZHFh43gwfdou9BDvzaZpiv\\/4liW3nQSCbuSv1L\\/Cgoy99yjO6YveorCgHF8Bfnee83UqVOzRKHtm2oqsK8zswcWHm3GY2a5zM6PjJlmzGXeYmvvXu65J90KD1yoLNjwl\\/0c3LGDiAu\\/eYaEpz7c5\\/EwzMJ0R1rNf\\/En9frzbj8+7MQ3UcRlWG6yzx4TPU1PeRqEYBZdSpUyffua33+38mnvNWaVMUuN2WZMUm7vWuKAojBgDh82RS11NZ95+uEH43a7mzdvnjEKFzsLVjDHj0cZ86Uxg63k14cfEhoKwB8ZqulgcNuMwl69MqW5i+AnM99CaHlqbjCfYBpmnpNC0M9c2zn1p82GaxycfYcnsLuShznJm7f5+5B3G\\/NUlv9dShhzuzFL82InE8sUhYE0cqTtb3zr1ufKbt++vWzZsulyZK3jKNy27S9jnrYeYZ98Anh40uUlOzk4dmyW41qgjOM3QfU9fhaZx02Rrz3qrPIxT3h6edw4759tijEjjPEwrGi6qZsx6oshv1AUBtLp0+aqq2x8I0uUMBs2XCi+fPnyqKio8ynivAeB06dnG+OydUB3993QIXNNLsMoa8eGY8YQHOwpCkMhxfZRW+rU5Df\\/S12+zuEhZ\\/vvPb18\\/\\/1ePtgEY7pa25I1jdmSJ\\/ua+KEoDLA9e0z16pa+joUKmXnzMhffsWNHmzZtAPjEWQ6WLZtszBV2f+bbt4\\/CReF3D1V2MmzwXnDbWXpkPi\\/OaJ\\/3Lv99Tl1n+F+qyAlnG4nLN3h6uWNHL5\\/q\\/XY25uXGHMnlvUz804h3ARYdzYoV3HCDn8WqVePnn7kpyyjrVatWXbRo0bffftus2RFnDXj66bnwj91SFSrQ6zYYDO7Ms+ZAPegOX8A\\/cAJOwQb4H\\/Q21LmNaZN9Vr2grd3GpLrpBz8LnA3jZBFndRNf1tOr4eGeXp0EH9qpeyM86aRNkrMCncVijDFut5k2zTTxNCpR5crmlVfM6dN+ajh2zJQo4eSAZ9eu++weEqZOs2YBfm\\/rzjj5793hOjrOcXDUFp7A3or+Fyx6PEePCh99NMvncNaY6vY3ZpAx63JnzxKrQnI7asUKl4vu3enenZ07+eUX9u\\/nzBkqVaJePRo3xpXlHuesihXjmWcYOtTeelu4fq0cMsdZmxs3BuA1OINrLH5OMAy85jcKXXAvcxuz7GparrTVmEfGU9HCCMtVd7K+nq2KLxT0oGXLLC8thG32q3fDxzDGfkHJOYHOYskxCQmmRQsbhzrnnkqOc3JIaAxJSQQHQ28y3bfnYVoLN9rZKRvaG3+55mYOl7S07CDPj8z5n958Mstr4eHm6NEsH8IjzjamMTUCsMdIOvqtsOAID+frr6ld29LCkZyZRO8r+Tvrj30WGYP7RfgKorwvtAduhUawwE7Vf8BdQSRZ2jlLH2JWDCWt\\/VLaexIuY6clAISdpfv0LK8++ijFi2d5dUPav4xxxcWVO3KkpLWVbAMPHQ5J3gl0FksOO3zY3HKLn4OcKuy80K3paodHhSP9P\\/EMBv6CBrZ2ydJwN6ynzSLiy\\/iuvP46tla3d4TXY6rtQ8InxmR5LTray\\/BM9ffsiX7xxeGNGq0ODT33ZGJk5Om2bReOGzfgxIkiPjfprrzeVyQdRWFBdOLE7JJ3NeNXF5m7Yq7Mrpd5+jSRF156z0kO\\/mUItt7Ncwp8TtHGZLqV0OUiKiqqR4+NsBbmwnz4C5IvlCx1iNEDOV40a52FT9JkletUhO2T3d2VvHa+4HGqvZEjJTK+FhFhVqzIutWTkszzz38cGXnaW13lysV++und3reqbqkJJJcxJgePMSVf+OIL7roL2Ev0Mlruo2ICERXZV5e\\/GrPaRcZP\\/Bb41vYausIs++364DCNtvHbb0yaxJIl517s3r37jTdOe\\/55Dh3yXCo0\\/GSHNoObNvjoQMXkkGQq76bFcpquIshNPHi8y8W3X5tz4\\/ecynp2m0X5WH68nss3pnupTBmmTaN160xLHj1K9+4sWuS\\/zkceGf\\/WW48HB6dkfLkwnPRfWHJPoLNYckHPnjYOlIJsnyPHmqx92liaqu+sct1147M+ZzJx4sQjR8wrr5hmtQ4FkZJWoAZbBjJ6ExlGR91HhbSj2hlOWoGBO+vA334WavZrxkePg4PNffd57KU6KcnccION9Q8Z8mqWrdop73cTSU9RWBDVrWsvGm7EpNiIwo+cxY+BpBBKHoQKmaIwMjIyLi4ute1nnxm2m0qbqJXhLB5OUehVhlzFqt+4cPvlnY5akQiVgVB4FLZ4WKLI+si772q9omhrU6eOueoq07WrGTPGbN\\/ubXsPG2a7FXPmdMy4VT\\/Jm11DvFEUFkRlytj+aj5nIwqvd5aDqVcRmq6EmKxnJ4888siF9r\\/\\/vgnJ0MfqPG6KZg9ZRmi5Gubab0jm+\\/fqwV3wNAyGvqWp+Xpat7QbN\\/rf2Hv3msKFbW+OOnX+SUoKOb9JqxuTmHu7g1ihKCyIKlWy\\/dV0YZ61dGz4uvHZNX6maSH0h1oQCUBJKFkLmmaNwsjIyJPpuz\\/97be0c873eSCEJDBV2Jlp3L6uUB0O2nmnm6DEhdWGQEe4BmJgICwg45gwEyf639gvveTsfwbzww\\/tjMGYIGO+z719QSxSFBZEzZo5\\/Hb2rWDMv7yF4KZjwTHW6\\/oTrrf1qzUzZszI\\/EY2bvz+\\/mnBrnO\\/Hg7llUwreQOANlgdoDPOw3Cmvm4Qf\\/VV\\/xv76qsdbuxHHnnbGIx5LTd2AbFLt1gXRK1aOSu3J67effc1uueeshMmBK1bR3y86+jRkLi4sseP3zppyrS6Z0tavWo8E1rAj36XKwpXQfXUP9atW5dp9rFytfvO6J5igoCyxD\\/K25kWuBWCYDFcCzv8rWw1NPXQ88RRH0XcFu4\\/\\/\\/NP\\/8t4Kfgv+AgGOywvOSvQWSy54JdfnB2odPayk4SEhJRtvtBqLUsgzEtFHlwG8bAD3uzbd0im9\\/H88+cq\\/TcfHaOYx7Xdeb6iSBjK+dHgM06boR+Z72o875iPN\\/P553629JEjDg8JwdSsqd8H8xHdV1hAtWvHAlsPu7EWGnvoc+u8a6fxc49z\\/94PWyEOikBlqANpZxfxUAcO21pzDMwEQkLOvvxy2MCB57qfMIYqVdizh9cYMpjX0xdIgFg4BMXAQEs4eH6WC5pCI6gIKbAXVsB6r6suCwd8tOzPP6nns\\/uG06cpXNjSm8yqbl3We2+Z5LVAZ7HkjrVrTWSk9UOUs3Ct7x2l5TzOwrtwVZbRQCvAo7AbDDzqbDdckNaWvn1NcrIxxqxZY8AMYFxaI90wCTpCRLqSwdAAnPawdJ+PrVLDWg8JxYs7PCps1y5X9wCxR1FYcE2aZFxWL\\/Y+7Dc0ot+nls8FIuE\\/568U2xZzviGnYM9TT501xkyZYmqy+SyhqTPWQWOfVXg5\\/\\/XtRx9bZfx4S5vZ7xPf3qYXX8zdz19sURQWaHPmmGKef2JLmxLgPkup4bHH5pwSDremv8ulQoXqrVs\\/+hENUhs5F6z0Px2U7kzdgiyDs6SbrrzSnD1raRt\\/8IHDKPzjj1z+9MUO\\/VZY0G3dyrPPMnUqnj7o74KCBrvdf+V9q6xxwW3wAMTAKctF7odE2AcJEA31YGL6zrPOKQ+roJLHSooVY\\/lyrrzS0hoTErj8cnbtsta+8zp14ptv7BWRXKUovDTs2MGsWaxaxZ49uN1UqkTDht+GhXV80t+oGhFQGLx0lJA3QiDZzvJFYROUP\\/\\/nFMgyrlQZmAtXeyxeoQIzZtCsmY01TpmSdUxnXwoVYtUqq1EreSTQh6USME8\\/\\/bSfnaMO\\/CdP9sKc9tD5s9ADUCXjrNKlm7lc2zyesbpcplcvs3evk405eLDV82KXy0yenNOfpWSbbrG+dO3fv9\\/X7Iaw3En\\/XfnBZ3AaTsNtkHrmGhwc3Lp160mTJsXHL\\/\\/jj8uefpoGDShWDKBoUf71L4YM4fffmTSJihWdrPHVV3nlFYL8fZ8iIvjiC3r2dLIKyVU6Qb509evXb8KECZ7nlYXfoAhEQYrnRfK5OWWoOY7NRTl79v\\/KlWtUp06d0qVLZ10sKYnQ0Bxb6aJFDB7M6tWe53bpwquvUqdOjq1OcpBGvLt0VfRx\\/DMKqsBvF2sOAv88QcfbuRwgBbIOTXdODuYg0LYtq1axbBmzZrFuHXv3EhpKpUq0aEHXrtStm5PrkpylKLx0NfN2aaDa+ftr4vOuMTku9sLATx4H7swtQUG0auX4KXAJGEXhReEw7IKDUByqQLkcqfSGG24oWrToiRMnMs\\/ofn6\\/sNDlfb6178KwyAG9\\/i0XCV02yc+S4H24FspCI2gHV0N5aAgvZ38ojIiIiMcff9zDjBuqnvtH5WyuIZD++CPtnz4GJxU5R1GYby2HutAflmXpJGEtPAu1YEY21zF48OAqVTLdbRJDlfNPdlQm9cc2B0qVKpWdhmXf5s0cPdf\\/VrWANkQuDorC\\/GkytIHNPpeJhe7wSnZWU6xYsVmzZhW+0LlKCZhA8WMXlrjNSbXVqlVbs2ZNnz59XC6X\\/6VzR3Iyf\\/+d+s8OgWqDXEQUhfnQMrgbEi0saeAZ8HJDjDUNGzZcsGBBhQqpQy8NgdIcSHdG+RTYP7wbOXJklSpVvvzyy\\/Xr148cObJ169YlSlSH0nAldIWB2Wmwdfv2AdfAZXmzOrm4Bfoeb8nklDGVbA7QHmnM7myude\\/evXfffc+5nram3Jbh+YhP7O1RN954Y0pKStZVvP++CT3Xy0wSeLjFL8fNmoUxi7K5ZeQSoaPC\\/GYc7LFZ5AwMz+ZaK1as+OSTn5zrnmBuxwzz7oFBVuupU6fO5MmTgzw9dfHAA6xeTceOuFwhedOLfYUKPaFNHqxICgA9bZLfXA6b7JeKhHhw2p8yANOn0yO1m+oSR9l+GSUyDvoxBob46RehRbsWcyfPLVmypO8V7d3LjBlnhg1rdOTIRjsNrOOhfxnvihQJiY8\\/EhFhpXMvP7awZSpTv+f73ew+ytHSlK5GtVu4pSc9K3np20YuPoE+LJX0\\/rF5apx+mp3Ndb\\/3Xrqz4qGveOhJ4C+I8dJFak2u+\\/I6t9ttfXUbN270G5rptIIEmIqf\\/mMv6NGjezY3iDHmgDnQz\\/QLNsEeu1YIN+FPmaeOm+PZX5EEnI4K85XZHodLt+Z1G+exnkyeTO\\/e5\\/8ITWJee9os9rBcPMyFLbAfikIVaEPJ6tU2FV9VhjK21rh+\\/fqYmJht27b5W7ADfHX+hm83\\/ApzYTvEQwmIhKmQkL6Ay+VauXLlVVdd5bverWydycxf+XU\\/+1NIiSKqIQ270KUJTYC1rI0hZqe\\/h1XqUnc2s6ufH7dPLlaBzmJJ78NsHBUOzOa6ly3LeMxTJp41DS31O7Un+pXZfzlb6eHDh5944omwMG9D5FWEDyDFXwu+zFTs3nvv9b3eLWbLbeY2l3F5rK+laTndTC9jyljskbqKqRJn4pxtAckndFSYr0yG3v6X8mwEDMvOupOSKFeOI0fSvVT4FO\\/1544vcXnfSRa3Cbrzyz2rzt+N48j+\\/ftnz569YMGCPXv27NhxJDa2HFwOHaC95dFSWsHS1H81atRo6dKlhQoV8rbod3x3O7cf45i3BQAXLoONr0Zb2i5kofXlJd8JdBZLej9n46hwQvZXf999no55mi9nRldOFcrwclIIC9sSMxPM9ddnf80X1Kxpb4SQ89O5jhWvu+66AwcO+Kh\\/hpkRZIKcrMHfNMPMyMkNIXlLR4X5SiKUhSz9I1iyLfv3Eu\\/YQZ06JHq8ubvQaRqspXwsYWfZG83fV3L43L3XP\\/\\/MtX5GDrVq3ToaNHBWNKlUqTrPP\\/\\/ogAEDQkK8djKygQ1NaXoy249ve3QN1yxjWW7ULHlAPdPkK+HQCf5nv2CTHHmmolo1RozAcz\\/\\/pwuxvEXWlx98MMdykJMnV\\/+QgM1rL+eFfvbZn506eT0pTjWYwbmUg0Dq5ZcKZOOXAgkc3WKd3wx39P\\/TyJxa\\/ZAh3HOP1YXbtmXcuOyt7\\/Rp3nuP9u0pWpSiRe8ZXDaBiN9pMoyR0ey1VdORI35ycB3r5jAnG231w437d37PvfolVykK85vL7T+i2y0Hexxwufj4Y1580f8wHfffz3ff4fXarxVffUXt2jz0ED\\/8wMlzB2vhJDZm9QiGb6bWKJ4PJcliZZ7P69P5mq+z0VZL9rHP\\/0KSLykK86H\\/QCfLCzeEz3J29S4Xw4ezejUdOhDs6Ybqli1ZvJgPPshGDrrdDBzIHXew1+uhXyRnnuM\\/82hfkiPelkkvOtrPAnnwQ56ti86Sr+iySf6UDAPB78nnzfA\\/KJF77YiPZ948tm7lwAHKlKFKFdq1I3MPhw688AKjRllc9mda3ciCs\\/jKXZeLnTup7LOv2Su58h\\/+sd5GB77hm042\\/huTfERRmJ\\/Nh6fB4\\/hp1WEU9IaAdQjo3Pz5tG+PnR1vFM+\\/wEs+FmjShN9+81NJDWpsw++TLc65cO1il55KvkgpCvO\\/v+Bb2HZ+bJOq0B6aXpQhCLjdXHUVa9bYKpRARG027fY+wsDHH3PvvX4qaUnLX\\/jF1nptuYqrVrEq9+qXXKWbafK\\/ulCARo386Se7OQhEkHAfH4\\/w0hdZgwbcdZf\\/SupRL1ej8Cmeyr3KJbfpsonkrdmznZWLYZbH10uWZOpUz5d3MulCF2ertqI5zXs7f2hSAk9RKHlr3Tpn5eqxPijzcFdERTFnDrWsddx1EzfVoIaztftWjnJTmOK6SH+yEEBRKHktNtZZuVCSymYco75jR1at4pprrNcQ+kr2RsXyqDrVF7Cg8kU9UqooCiWvhYY6LppIOBAdzf33s2QJc+bYvq2nBz0e4iHryzelaTe6eTvcCyb4Pu5bycp61LPXDsl\\/dNlE8lbFiulHa7ehUKG1\\/5SIiiIiIlvrf4u3TnHqcz73u+S1XDuTmaUpvZrVk5k8j3k72Znaof9lXNaBDrdzex3qZKs1km\\/oZhrJW6NG8cILTgreeCPz5+dUK8Yz\\/gVeOOLlOZZwwh\\/jsVGMCstyX7fB6DfBAkknyJK3unbN64KePMIjW9n6Mi83o1lQum9BHeoMZeg\\/\\/PMar2XNQUA5WFDpqFDyXJcufPONvSIVKrB5M4WzNaSfN8kkxxGXRFJ5ykeQvdNvuWgpCiXPbdjAVVdx6pSNIl98Qd++udYgEZ0gS96rU4fPPsNl+UxzwADloOQ2RaEEQvfuzJ5NsWL+l3zsMcaOzf0GyaVOUSgB0qkTK1bQubPXBerX5\\/vveest\\/73IimSbfisUq\\/bs2bN79+4zZ86UK1euatWqRYoUyZl6\\/\\/yTmTNZvpzdu0lOpnx5GjSgSxdat7b0aLFITlAUih8HDhwYM2bMtGnTtmzZkvZieHh4mzZt+vXr161bN5f1X\\/1E8itFofjy9ttvP\\/vssydOeB2PtHnz5hMnTqxRI1e6ORDJM4pC8cztdvfv3\\/\\/DDz\\/0u2Tp0qVnzZrVsmXLPGiVSC5RFIpnL7zwwijLw4+UKlVqxYoVNWvWzNUmieQeRaF4sGzZslatWtnaN1q2bLl06dLca5JIrtJtCuLB0KFD7f4fuWzZspkzZ+ZSe0Rym6JQMtuwYcOyZU6GDJ4wYUKON0YkbygKJbM5c+Y4K7hgwYIzZ87kbGNE8oaiUDLbuHGjs4IJCQm7du3K2caI5A1FoWR24MABx2VjnQ5dIhJYikLJrGjRoo7LFrPSw4JI\\/qMolMyio6MDUlYkgBSFklmbNm2cFaxfv35UVFTONkYkbygKJbM2bdqULl3aQcHu3bvneGNE8oaiUDILDw9\\/5pln7JYqWbLkgAEDcqM9InlAUSgePPLII40aNbJV5I033ihVqlQutUcktykKxYOIiIiZM2dWrFjR4vJPPPHEvffem6tNEslVikLxrEqVKitXrmzatKnvxVwu1\\/Dhw9988828aZVILlEUilfR0dFLly4dO3Zs2bJlPS7Qrl2733777cUXX1RH1nKxUydd4l9SUtKSJUt+\\/PHH3bt3nzp1qkKFCrVr1+7cuXO1atUC3TSRnKEoFBHRCbKIiKJQRARFoYgIikIRERSFIiIoCkVEUBSKiKAoFBFBUSgigqJQRARFoYgIikIRERSFIiIoCkVEUBSKiKAoFBFBUSgigqJQRARFoYgIikIRERSFIiIoCkVEUBSKiKAoFBFBUSgigqJQRARFoYgIikIRERSFIiIoCkVEUBSKiKAoFBFBUSgigqJQRARFoYgIikIRERSFIiIoCkVEUBSKiKAonkTDBgAAARlJREFUFBFBUSgigqJQRARFoYgIikIRERSFIiIoCkVEUBSKiKAoFBFBUSgigqJQRARFoYgIikIRERSFIiIoCkVEUBSKiKAoFBFBUSgigqJQRARFoYgIikIRERSFIiIoCkVEUBSKiKAoFBFBUSgigqJQRARFoYgIikIRERSFIiIoCkVEUBSKiKAoFBFBUSgigqJQRARFoYgIikIRERSFIiIoCkVEUBSKiKAoFBFBUSgigqJQRARFoYgIikIRERSFIiIoCkVEUBSKiKAoFBFBUSgigqJQRARFoYgIikIRERSFIiIoCkVEUBSKiKAoFBFBUSgigqJQRARFoYgIikIRERSFIiIoCkVEUBSKiKAoFBFBUSgigqJQRAT4fw\\/dXfJoDjosAAAAAElFTkSuQmCC'><\\/img>\"},\"nodeType\":\"DOM\",\"type\":\"node\",\"instanceArgs\":{\"namespace\":\"html\",\"tag\":\"div\"},\"children\":[]}]},{\"props\":{\"className\":\"interact-widget\"},\"nodeType\":\"DOM\",\"type\":\"node\",\"instanceArgs\":{\"namespace\":\"html\",\"tag\":\"div\"},\"children\":[{\"props\":{},\"nodeType\":\"Scope\",\"type\":\"node\",\"instanceArgs\":{\"imports\":{\"data\":[{\"name\":null,\"type\":\"js\",\"url\":\"\\/assetserver\\/dd22ed1bf1896c2748f3fe616ce0b838adc895c1-katex.min.js\"},{\"name\":null,\"type\":\"css\",\"url\":\"\\/assetserver\\/46517a424aa5e6cffc1360d7e0848b601c584ee3-katex.min.css\"}],\"type\":\"async_block\"},\"id\":\"15224390965771772986\",\"handlers\":{\"value\":[\"(function (txt){return this.k.render(txt,this.container)})\"]},\"systemjs_options\":null,\"mount_callbacks\":[\"function () {\\n    var handler = ((function (k){this.k=k; this.container=this.dom.querySelector(\\\"#container\\\"); return k.render(\\\"\\\\\\\\;\\\\\\\\;\\\",this.container)}));\\n    (WebIO.importBlock({\\\"data\\\":[{\\\"name\\\":null,\\\"type\\\":\\\"js\\\",\\\"url\\\":\\\"\\/assetserver\\/dd22ed1bf1896c2748f3fe616ce0b838adc895c1-katex.min.js\\\"},{\\\"name\\\":null,\\\"type\\\":\\\"css\\\",\\\"url\\\":\\\"\\/assetserver\\/46517a424aa5e6cffc1360d7e0848b601c584ee3-katex.min.css\\\"}],\\\"type\\\":\\\"async_block\\\"})).then((imports) => handler.apply(this, imports));\\n}\\n\"],\"observables\":{\"value\":{\"sync\":false,\"id\":\"12640205961540361601\",\"value\":\"\\\\;\\\\;\"}}},\"children\":[{\"props\":{\"id\":\"container\"},\"nodeType\":\"DOM\",\"type\":\"node\",\"instanceArgs\":{\"namespace\":\"html\",\"tag\":\"div\"},\"children\":[]}]}]},{\"props\":{\"style\":{\"display\":\"flex\",\"flex-direction\":\"column\"}},\"nodeType\":\"DOM\",\"type\":\"node\",\"instanceArgs\":{\"namespace\":\"html\",\"tag\":\"div\"},\"children\":[]}]}]},\n",
       "        window,\n",
       "    );\n",
       "    })()\n",
       "    </script>\n",
       "</div>\n"
      ],
      "text/plain": [
       "WebIO.Node{WebIO.DOM}(WebIO.DOM(:html, :div), Any[WebIO.Node{WebIO.DOM}(WebIO.DOM(:html, :div), Any[WebIO.Node{WebIO.DOM}(WebIO.DOM(:html, :div), Any[WebIO.Node{WebIO.DOM}(WebIO.DOM(:html, :div), Any[WebIO.Scope(WebIO.Node{WebIO.DOM}(WebIO.DOM(:html, :div), Any[WebIO.Node{WebIO.DOM}(WebIO.DOM(:html, :div), Any[WebIO.Node{WebIO.DOM}(WebIO.DOM(:html, :label), Any[\"time\"], Dict{Symbol, Any}(:className => \"interact \", :style => Dict{Any, Any}(:padding => \"5px 10px 0px 10px\")))], Dict{Symbol, Any}(:className => \"interact-flex-row-left\")), WebIO.Node{WebIO.DOM}(WebIO.DOM(:html, :div), Any[WebIO.Node{WebIO.DOM}(WebIO.DOM(:html, :input), Any[], Dict{Symbol, Any}(:max => 401, :min => 1, :attributes => Dict{Any, Any}(:type => \"range\", Symbol(\"data-bind\") => \"numericValue: index, valueUpdate: 'input', event: {change: function (){this.changes(this.changes()+1)}}\", \"orient\" => \"horizontal\"), :step => 1, :className => \"slider slider is-fullwidth\", :style => Dict{Any, Any}()))], Dict{Symbol, Any}(:className => \"interact-flex-row-center\")), WebIO.Node{WebIO.DOM}(WebIO.DOM(:html, :div), Any[WebIO.Node{WebIO.DOM}(WebIO.DOM(:html, :p), Any[], Dict{Symbol, Any}(:attributes => Dict(\"data-bind\" => \"text: formatted_val\")))], Dict{Symbol, Any}(:className => \"interact-flex-row-right\"))], Dict{Symbol, Any}(:className => \"interact-flex-row interact-widget\")), Dict{String, Tuple{Observables.AbstractObservable, Union{Nothing, Bool}}}(\"changes\" => (Observable(0), nothing), \"index\" => (Observable(201), nothing)), Set{String}(), nothing, WebIO.Asset[WebIO.Asset(\"js\", \"knockout\", \"/home/dushya/.julia/packages/Knockout/HReiN/src/../assets/knockout.js\"), WebIO.Asset(\"js\", \"knockout_punches\", \"/home/dushya/.julia/packages/Knockout/HReiN/src/../assets/knockout_punches.js\"), WebIO.Asset(\"js\", nothing, \"/home/dushya/.julia/packages/InteractBase/LJXv3/src/../assets/all.js\"), WebIO.Asset(\"css\", nothing, \"/home/dushya/.julia/packages/InteractBase/LJXv3/src/../assets/style.css\"), WebIO.Asset(\"css\", nothing, \"/home/dushya/.julia/packages/Interact/PENUy/src/../assets/bulma_confined.min.css\")], Dict{Any, Any}(\"changes\" => Any[WebIO.JSString(\"(function (val){return (val!=this.model[\\\"changes\\\"]()) ? (this.valueFromJulia[\\\"changes\\\"]=true, this.model[\\\"changes\\\"](val)) : undefined})\")], \"index\" => Any[WebIO.JSString(\"(function (val){return (val!=this.model[\\\"index\\\"]()) ? (this.valueFromJulia[\\\"index\\\"]=true, this.model[\\\"index\\\"](val)) : undefined})\")]), WebIO.ConnectionPool(Channel{Any}(32), Set{WebIO.AbstractConnection}(), Base.GenericCondition{ReentrantLock}(Base.IntrusiveLinkedList{Task}(Task (runnable) @0x00007f121166c7e0, Task (runnable) @0x00007f121166c7e0), ReentrantLock(nothing, 0x00000000, 0x00, Base.GenericCondition{Base.Threads.SpinLock}(Base.IntrusiveLinkedList{Task}(nothing, nothing), Base.Threads.SpinLock(0)), (0, 139716731072624, 139716731072688)))), WebIO.JSString[WebIO.JSString(\"function () {\\n    var handler = (function (ko, koPunches) {\\n    ko.punches.enableAll();\\n    ko.bindingHandlers.numericValue = {\\n        init: function(element, valueAccessor, allBindings, data, context) {\\n            var stringified = ko.observable(ko.unwrap(valueAccessor()));\\n            stringified.subscribe(function(value) {\\n                var val = parseFloat(value);\\n                if (!isNaN(val)) {\\n                    valueAccessor()(val);\\n                }\\n            });\\n            valueAccessor().subscribe(function(value) {\\n                var str = JSON.stringify(value);\\n                if ((str == \\\"0\\\") && ([\\\"-0\\\", \\\"-0.\\\"].indexOf(stringified()) >= 0))\\n                     return;\\n                 if ([\\\"null\\\", \\\"\\\"].indexOf(str) >= 0)\\n                     return;\\n                stringified(str);\\n            });\\n            ko.applyBindingsToNode(\\n                element,\\n                {\\n                    value: stringified,\\n                    valueUpdate: allBindings.get('valueUpdate'),\\n                },\\n                context,\\n            );\\n        }\\n    };\\n    var json_data = {\\\"formatted_vals\\\":[\\\"1\\\",\\\"2\\\",\\\"3\\\",\\\"4\\\",\\\"5\\\",\\\"6\\\",\\\"7\\\",\\\"8\\\",\\\"9\\\",\\\"10\\\",\\\"11\\\",\\\"12\\\",\\\"13\\\",\\\"14\\\",\\\"15\\\",\\\"16\\\",\\\"17\\\",\\\"18\\\",\\\"19\\\",\\\"20\\\",\\\"21\\\",\\\"22\\\",\\\"23\\\",\\\"24\\\",\\\"25\\\",\\\"26\\\",\\\"27\\\",\\\"28\\\",\\\"29\\\",\\\"30\\\",\\\"31\\\",\\\"32\\\",\\\"33\\\",\\\"34\\\",\\\"35\\\",\\\"36\\\",\\\"37\\\",\\\"38\\\",\\\"39\\\",\\\"40\\\",\\\"41\\\",\\\"42\\\",\\\"43\\\",\\\"44\\\",\\\"45\\\",\\\"46\\\",\\\"47\\\",\\\"48\\\",\\\"49\\\",\\\"50\\\",\\\"51\\\",\\\"52\\\",\\\"53\\\",\\\"54\\\",\\\"55\\\",\\\"56\\\",\\\"57\\\",\\\"58\\\",\\\"59\\\",\\\"60\\\",\\\"61\\\",\\\"62\\\",\\\"63\\\",\\\"64\\\",\\\"65\\\",\\\"66\\\",\\\"67\\\",\\\"68\\\",\\\"69\\\",\\\"70\\\",\\\"71\\\",\\\"72\\\",\\\"73\\\",\\\"74\\\",\\\"75\\\",\\\"76\\\",\\\"77\\\",\\\"78\\\",\\\"79\\\",\\\"80\\\",\\\"81\\\",\\\"82\\\",\\\"83\\\",\\\"84\\\",\\\"85\\\",\\\"86\\\",\\\"87\\\",\\\"88\\\",\\\"89\\\",\\\"90\\\",\\\"91\\\",\\\"92\\\",\\\"93\\\",\\\"94\\\",\\\"95\\\",\\\"96\\\",\\\"97\\\",\\\"98\\\",\\\"99\\\",\\\"100\\\",\\\"101\\\",\\\"102\\\",\\\"103\\\",\\\"104\\\",\\\"105\\\",\\\"106\\\",\\\"107\\\",\\\"108\\\",\\\"109\\\",\\\"110\\\",\\\"111\\\",\\\"112\\\",\\\"113\\\",\\\"114\\\",\\\"115\\\",\\\"116\\\",\\\"117\\\",\\\"118\\\",\\\"119\\\",\\\"120\\\",\\\"121\\\",\\\"122\\\",\\\"123\\\",\\\"124\\\",\\\"125\\\",\\\"126\\\",\\\"127\\\",\\\"128\\\",\\\"129\\\",\\\"130\\\",\\\"131\\\",\\\"132\\\",\\\"133\\\",\\\"134\\\",\\\"135\\\",\\\"136\\\",\\\"137\\\",\\\"138\\\",\\\"139\\\",\\\"140\\\",\\\"141\\\",\\\"142\\\",\\\"143\\\",\\\"144\\\",\\\"145\\\",\\\"146\\\",\\\"147\\\",\\\"148\\\",\\\"149\\\",\\\"150\\\",\\\"151\\\",\\\"152\\\",\\\"153\\\",\\\"154\\\",\\\"155\\\",\\\"156\\\",\\\"157\\\",\\\"158\\\",\\\"159\\\",\\\"160\\\",\\\"161\\\",\\\"162\\\",\\\"163\\\",\\\"164\\\",\\\"165\\\",\\\"166\\\",\\\"167\\\",\\\"168\\\",\\\"169\\\",\\\"170\\\",\\\"171\\\",\\\"172\\\",\\\"173\\\",\\\"174\\\",\\\"175\\\",\\\"176\\\",\\\"177\\\",\\\"178\\\",\\\"179\\\",\\\"180\\\",\\\"181\\\",\\\"182\\\",\\\"183\\\",\\\"184\\\",\\\"185\\\",\\\"186\\\",\\\"187\\\",\\\"188\\\",\\\"189\\\",\\\"190\\\",\\\"191\\\",\\\"192\\\",\\\"193\\\",\\\"194\\\",\\\"195\\\",\\\"196\\\",\\\"197\\\",\\\"198\\\",\\\"199\\\",\\\"200\\\",\\\"201\\\",\\\"202\\\",\\\"203\\\",\\\"204\\\",\\\"205\\\",\\\"206\\\",\\\"207\\\",\\\"208\\\",\\\"209\\\",\\\"210\\\",\\\"211\\\",\\\"212\\\",\\\"213\\\",\\\"214\\\",\\\"215\\\",\\\"216\\\",\\\"217\\\",\\\"218\\\",\\\"219\\\",\\\"220\\\",\\\"221\\\",\\\"222\\\",\\\"223\\\",\\\"224\\\",\\\"225\\\",\\\"226\\\",\\\"227\\\",\\\"228\\\",\\\"229\\\",\\\"230\\\",\\\"231\\\",\\\"232\\\",\\\"233\\\",\\\"234\\\",\\\"235\\\",\\\"236\\\",\\\"237\\\",\\\"238\\\",\\\"239\\\",\\\"240\\\",\\\"241\\\",\\\"242\\\",\\\"243\\\",\\\"244\\\",\\\"245\\\",\\\"246\\\",\\\"247\\\",\\\"248\\\",\\\"249\\\",\\\"250\\\",\\\"251\\\",\\\"252\\\",\\\"253\\\",\\\"254\\\",\\\"255\\\",\\\"256\\\",\\\"257\\\",\\\"258\\\",\\\"259\\\",\\\"260\\\",\\\"261\\\",\\\"262\\\",\\\"263\\\",\\\"264\\\",\\\"265\\\",\\\"266\\\",\\\"267\\\",\\\"268\\\",\\\"269\\\",\\\"270\\\",\\\"271\\\",\\\"272\\\",\\\"273\\\",\\\"274\\\",\\\"275\\\",\\\"276\\\",\\\"277\\\",\\\"278\\\",\\\"279\\\",\\\"280\\\",\\\"281\\\",\\\"282\\\",\\\"283\\\",\\\"284\\\",\\\"285\\\",\\\"286\\\",\\\"287\\\",\\\"288\\\",\\\"289\\\",\\\"290\\\",\\\"291\\\",\\\"292\\\",\\\"293\\\",\\\"294\\\",\\\"295\\\",\\\"296\\\",\\\"297\\\",\\\"298\\\",\\\"299\\\",\\\"300\\\",\\\"301\\\",\\\"302\\\",\\\"303\\\",\\\"304\\\",\\\"305\\\",\\\"306\\\",\\\"307\\\",\\\"308\\\",\\\"309\\\",\\\"310\\\",\\\"311\\\",\\\"312\\\",\\\"313\\\",\\\"314\\\",\\\"315\\\",\\\"316\\\",\\\"317\\\",\\\"318\\\",\\\"319\\\",\\\"320\\\",\\\"321\\\",\\\"322\\\",\\\"323\\\",\\\"324\\\",\\\"325\\\",\\\"326\\\",\\\"327\\\",\\\"328\\\",\\\"329\\\",\\\"330\\\",\\\"331\\\",\\\"332\\\",\\\"333\\\",\\\"334\\\",\\\"335\\\",\\\"336\\\",\\\"337\\\",\\\"338\\\",\\\"339\\\",\\\"340\\\",\\\"341\\\",\\\"342\\\",\\\"343\\\",\\\"344\\\",\\\"345\\\",\\\"346\\\",\\\"347\\\",\\\"348\\\",\\\"349\\\",\\\"350\\\",\\\"351\\\",\\\"352\\\",\\\"353\\\",\\\"354\\\",\\\"355\\\",\\\"356\\\",\\\"357\\\",\\\"358\\\",\\\"359\\\",\\\"360\\\",\\\"361\\\",\\\"362\\\",\\\"363\\\",\\\"364\\\",\\\"365\\\",\\\"366\\\",\\\"367\\\",\\\"368\\\",\\\"369\\\",\\\"370\\\",\\\"371\\\",\\\"372\\\",\\\"373\\\",\\\"374\\\",\\\"375\\\",\\\"376\\\",\\\"377\\\",\\\"378\\\",\\\"379\\\",\\\"380\\\",\\\"381\\\",\\\"382\\\",\\\"383\\\",\\\"384\\\",\\\"385\\\",\\\"386\\\",\\\"387\\\",\\\"388\\\",\\\"389\\\",\\\"390\\\",\\\"391\\\",\\\"392\\\",\\\"393\\\",\\\"394\\\",\\\"395\\\",\\\"396\\\",\\\"397\\\",\\\"398\\\",\\\"399\\\",\\\"400\\\",\\\"401\\\"],\\\"changes\\\":WebIO.getval({\\\"name\\\":\\\"changes\\\",\\\"scope\\\":\\\"17461291064225645339\\\",\\\"id\\\":\\\"385994962911441059\\\",\\\"type\\\":\\\"observable\\\"}),\\\"index\\\":WebIO.getval({\\\"name\\\":\\\"index\\\",\\\"scope\\\":\\\"17461291064225645339\\\",\\\"id\\\":\\\"15978672516935046322\\\",\\\"type\\\":\\\"observable\\\"})};\\n    var self = this;\\n    function AppViewModel() {\\n        for (var key in json_data) {\\n            var el = json_data[key];\\n            this[key] = Array.isArray(el) ? ko.observableArray(el) : ko.observable(el);\\n        }\\n        \\n        [this[\\\"formatted_val\\\"]=ko.computed(    function(){\\n        return this.formatted_vals()[parseInt(this.index())-(1)];\\n    }\\n,this)]\\n        [this[\\\"changes\\\"].subscribe((function (val){!(this.valueFromJulia[\\\"changes\\\"]) ? (WebIO.setval({\\\"name\\\":\\\"changes\\\",\\\"scope\\\":\\\"17461291064225645339\\\",\\\"id\\\":\\\"385994962911441059\\\",\\\"type\\\":\\\"observable\\\"},val)) : undefined; return this.valueFromJulia[\\\"changes\\\"]=false}),self),this[\\\"index\\\"].subscribe((function (val){!(this.valueFromJulia[\\\"index\\\"]) ? (WebIO.setval({\\\"name\\\":\\\"index\\\",\\\"scope\\\":\\\"17461291064225645339\\\",\\\"id\\\":\\\"15978672516935046322\\\",\\\"type\\\":\\\"observable\\\"},val)) : undefined; return this.valueFromJulia[\\\"index\\\"]=false}),self)]\\n        \\n    }\\n    self.model = new AppViewModel();\\n    self.valueFromJulia = {};\\n    for (var key in json_data) {\\n        self.valueFromJulia[key] = false;\\n    }\\n    ko.applyBindings(self.model, self.dom);\\n}\\n);\\n    (WebIO.importBlock({\\\"data\\\":[{\\\"name\\\":\\\"knockout\\\",\\\"type\\\":\\\"js\\\",\\\"url\\\":\\\"/assetserver/727383f2a47bd31570b7da84eee7b022dd6d7c78-knockout.js\\\"},{\\\"name\\\":\\\"knockout_punches\\\",\\\"type\\\":\\\"js\\\",\\\"url\\\":\\\"/assetserver/382b41b3b1bd9f26f75861d360bad7f8beea211f-knockout_punches.js\\\"}],\\\"type\\\":\\\"async_block\\\"})).then((imports) => handler.apply(this, imports));\\n}\\n\")])], Dict{Symbol, Any}(:className => \"field interact-widget\")), WebIO.Node{WebIO.DOM}(WebIO.DOM(:html, :div), Any[WebIO.Scope(WebIO.Node{WebIO.DOM}(WebIO.DOM(:html, :div), Any[WebIO.Node{WebIO.DOM}(WebIO.DOM(:html, :div), Any[WebIO.Node{WebIO.DOM}(WebIO.DOM(:html, :label), Any[\"scale\"], Dict{Symbol, Any}(:className => \"interact \", :style => Dict{Any, Any}(:padding => \"5px 10px 0px 10px\")))], Dict{Symbol, Any}(:className => \"interact-flex-row-left\")), WebIO.Node{WebIO.DOM}(WebIO.DOM(:html, :div), Any[WebIO.Node{WebIO.DOM}(WebIO.DOM(:html, :input), Any[], Dict{Symbol, Any}(:max => 20, :min => 1, :attributes => Dict{Any, Any}(:type => \"range\", Symbol(\"data-bind\") => \"numericValue: index, valueUpdate: 'input', event: {change: function (){this.changes(this.changes()+1)}}\", \"orient\" => \"horizontal\"), :step => 1, :className => \"slider slider is-fullwidth\", :style => Dict{Any, Any}()))], Dict{Symbol, Any}(:className => \"interact-flex-row-center\")), WebIO.Node{WebIO.DOM}(WebIO.DOM(:html, :div), Any[WebIO.Node{WebIO.DOM}(WebIO.DOM(:html, :p), Any[], Dict{Symbol, Any}(:attributes => Dict(\"data-bind\" => \"text: formatted_val\")))], Dict{Symbol, Any}(:className => \"interact-flex-row-right\"))], Dict{Symbol, Any}(:className => \"interact-flex-row interact-widget\")), Dict{String, Tuple{Observables.AbstractObservable, Union{Nothing, Bool}}}(\"changes\" => (Observable(0), nothing), \"index\" => (Observable{Any}(10), nothing)), Set{String}(), nothing, WebIO.Asset[WebIO.Asset(\"js\", \"knockout\", \"/home/dushya/.julia/packages/Knockout/HReiN/src/../assets/knockout.js\"), WebIO.Asset(\"js\", \"knockout_punches\", \"/home/dushya/.julia/packages/Knockout/HReiN/src/../assets/knockout_punches.js\"), WebIO.Asset(\"js\", nothing, \"/home/dushya/.julia/packages/InteractBase/LJXv3/src/../assets/all.js\"), WebIO.Asset(\"css\", nothing, \"/home/dushya/.julia/packages/InteractBase/LJXv3/src/../assets/style.css\"), WebIO.Asset(\"css\", nothing, \"/home/dushya/.julia/packages/Interact/PENUy/src/../assets/bulma_confined.min.css\")], Dict{Any, Any}(\"changes\" => Any[WebIO.JSString(\"(function (val){return (val!=this.model[\\\"changes\\\"]()) ? (this.valueFromJulia[\\\"changes\\\"]=true, this.model[\\\"changes\\\"](val)) : undefined})\")], \"index\" => Any[WebIO.JSString(\"(function (val){return (val!=this.model[\\\"index\\\"]()) ? (this.valueFromJulia[\\\"index\\\"]=true, this.model[\\\"index\\\"](val)) : undefined})\")]), WebIO.ConnectionPool(Channel{Any}(32), Set{WebIO.AbstractConnection}(), Base.GenericCondition{ReentrantLock}(Base.IntrusiveLinkedList{Task}(Task (runnable) @0x00007f121166f210, Task (runnable) @0x00007f121166f210), ReentrantLock(nothing, 0x00000000, 0x00, Base.GenericCondition{Base.Threads.SpinLock}(Base.IntrusiveLinkedList{Task}(nothing, nothing), Base.Threads.SpinLock(0)), (0, 0, 87)))), WebIO.JSString[WebIO.JSString(\"function () {\\n    var handler = (function (ko, koPunches) {\\n    ko.punches.enableAll();\\n    ko.bindingHandlers.numericValue = {\\n        init: function(element, valueAccessor, allBindings, data, context) {\\n            var stringified = ko.observable(ko.unwrap(valueAccessor()));\\n            stringified.subscribe(function(value) {\\n                var val = parseFloat(value);\\n                if (!isNaN(val)) {\\n                    valueAccessor()(val);\\n                }\\n            });\\n            valueAccessor().subscribe(function(value) {\\n                var str = JSON.stringify(value);\\n                if ((str == \\\"0\\\") && ([\\\"-0\\\", \\\"-0.\\\"].indexOf(stringified()) >= 0))\\n                     return;\\n                 if ([\\\"null\\\", \\\"\\\"].indexOf(str) >= 0)\\n                     return;\\n                stringified(str);\\n            });\\n            ko.applyBindingsToNode(\\n                element,\\n                {\\n                    value: stringified,\\n                    valueUpdate: allBindings.get('valueUpdate'),\\n                },\\n                context,\\n            );\\n        }\\n    };\\n    var json_data = {\\\"formatted_vals\\\":[\\\"0.1\\\",\\\"0.2\\\",\\\"0.3\\\",\\\"0.4\\\",\\\"0.5\\\",\\\"0.6\\\",\\\"0.7\\\",\\\"0.8\\\",\\\"0.9\\\",\\\"1.0\\\",\\\"1.1\\\",\\\"1.2\\\",\\\"1.3\\\",\\\"1.4\\\",\\\"1.5\\\",\\\"1.6\\\",\\\"1.7\\\",\\\"1.8\\\",\\\"1.9\\\",\\\"2.0\\\"],\\\"changes\\\":WebIO.getval({\\\"name\\\":\\\"changes\\\",\\\"scope\\\":\\\"7200312873725364964\\\",\\\"id\\\":\\\"3948857004471110863\\\",\\\"type\\\":\\\"observable\\\"}),\\\"index\\\":WebIO.getval({\\\"name\\\":\\\"index\\\",\\\"scope\\\":\\\"7200312873725364964\\\",\\\"id\\\":\\\"7052921426553607741\\\",\\\"type\\\":\\\"observable\\\"})};\\n    var self = this;\\n    function AppViewModel() {\\n        for (var key in json_data) {\\n            var el = json_data[key];\\n            this[key] = Array.isArray(el) ? ko.observableArray(el) : ko.observable(el);\\n        }\\n        \\n        [this[\\\"formatted_val\\\"]=ko.computed(    function(){\\n        return this.formatted_vals()[parseInt(this.index())-(1)];\\n    }\\n,this)]\\n        [this[\\\"changes\\\"].subscribe((function (val){!(this.valueFromJulia[\\\"changes\\\"]) ? (WebIO.setval({\\\"name\\\":\\\"changes\\\",\\\"scope\\\":\\\"7200312873725364964\\\",\\\"id\\\":\\\"3948857004471110863\\\",\\\"type\\\":\\\"observable\\\"},val)) : undefined; return this.valueFromJulia[\\\"changes\\\"]=false}),self),this[\\\"index\\\"].subscribe((function (val){!(this.valueFromJulia[\\\"index\\\"]) ? (WebIO.setval({\\\"name\\\":\\\"index\\\",\\\"scope\\\":\\\"7200312873725364964\\\",\\\"id\\\":\\\"7052921426553607741\\\",\\\"type\\\":\\\"observable\\\"},val)) : undefined; return this.valueFromJulia[\\\"index\\\"]=false}),self)]\\n        \\n    }\\n    self.model = new AppViewModel();\\n    self.valueFromJulia = {};\\n    for (var key in json_data) {\\n        self.valueFromJulia[key] = false;\\n    }\\n    ko.applyBindings(self.model, self.dom);\\n}\\n);\\n    (WebIO.importBlock({\\\"data\\\":[{\\\"name\\\":\\\"knockout\\\",\\\"type\\\":\\\"js\\\",\\\"url\\\":\\\"/assetserver/727383f2a47bd31570b7da84eee7b022dd6d7c78-knockout.js\\\"},{\\\"name\\\":\\\"knockout_punches\\\",\\\"type\\\":\\\"js\\\",\\\"url\\\":\\\"/assetserver/382b41b3b1bd9f26f75861d360bad7f8beea211f-knockout_punches.js\\\"}],\\\"type\\\":\\\"async_block\\\"})).then((imports) => handler.apply(this, imports));\\n}\\n\")])], Dict{Symbol, Any}(:className => \"field interact-widget\")), WebIO.Node{WebIO.DOM}(WebIO.DOM(:html, :div), Any[WebIO.Node{WebIO.DOM}(WebIO.DOM(:html, :div), Any[WebIO.Scope(WebIO.Node{WebIO.DOM}(WebIO.DOM(:html, :div), Any[], Dict{Symbol, Any}(:id => \"container\")), Dict{String, Tuple{Observables.AbstractObservable, Union{Nothing, Bool}}}(\"value\" => (Observable(\"\\\\;\\\\;\"), nothing)), Set{String}(), nothing, WebIO.Asset[WebIO.Asset(\"js\", nothing, \"/home/dushya/.julia/packages/InteractBase/LJXv3/src/../assets/katex.min.js\"), WebIO.Asset(\"css\", nothing, \"/home/dushya/.julia/packages/InteractBase/LJXv3/src/../assets/katex.min.css\")], Dict{Any, Any}(\"value\" => Any[WebIO.JSString(\"(function (txt){return this.k.render(txt,this.container)})\")]), WebIO.ConnectionPool(Channel{Any}(32), Set{WebIO.AbstractConnection}(), Base.GenericCondition{ReentrantLock}(Base.IntrusiveLinkedList{Task}(Task (runnable) @0x00007f1212583080, Task (runnable) @0x00007f1212583080), ReentrantLock(nothing, 0x00000000, 0x00, Base.GenericCondition{Base.Threads.SpinLock}(Base.IntrusiveLinkedList{Task}(nothing, nothing), Base.Threads.SpinLock(0)), (0, 139716693010464, 139716693010480)))), WebIO.JSString[WebIO.JSString(\"function () {\\n    var handler = ((function (k){this.k=k; this.container=this.dom.querySelector(\\\"#container\\\"); return k.render(\\\"\\\\\\\\;\\\\\\\\;\\\",this.container)}));\\n    (WebIO.importBlock({\\\"data\\\":[{\\\"name\\\":null,\\\"type\\\":\\\"js\\\",\\\"url\\\":\\\"/assetserver/dd22ed1bf1896c2748f3fe616ce0b838adc895c1-katex.min.js\\\"},{\\\"name\\\":null,\\\"type\\\":\\\"css\\\",\\\"url\\\":\\\"/assetserver/46517a424aa5e6cffc1360d7e0848b601c584ee3-katex.min.css\\\"}],\\\"type\\\":\\\"async_block\\\"})).then((imports) => handler.apply(this, imports));\\n}\\n\")])], Dict{Symbol, Any}(:className => \"interact-widget\")), WebIO.Node{WebIO.DOM}(WebIO.DOM(:html, :div), Any[WebIO.Scope(WebIO.Node{WebIO.DOM}(WebIO.DOM(:html, :button), Any[\"run\"], Dict{Symbol, Any}(:attributes => Dict{Any, Any}(\"data-bind\" => \"click: function (){this.clicks(this.clicks()+1)}, css: {'is-loading' : loading}\"), :className => \"is-medium button is-primary\", :style => Dict{String, Any}())), Dict{String, Tuple{Observables.AbstractObservable, Union{Nothing, Bool}}}(\"loading\" => (Observable(false), nothing), \"clicks\" => (Observable(0), nothing)), Set{String}(), nothing, WebIO.Asset[WebIO.Asset(\"js\", \"knockout\", \"/home/dushya/.julia/packages/Knockout/HReiN/src/../assets/knockout.js\"), WebIO.Asset(\"js\", \"knockout_punches\", \"/home/dushya/.julia/packages/Knockout/HReiN/src/../assets/knockout_punches.js\"), WebIO.Asset(\"js\", nothing, \"/home/dushya/.julia/packages/InteractBase/LJXv3/src/../assets/all.js\"), WebIO.Asset(\"css\", nothing, \"/home/dushya/.julia/packages/InteractBase/LJXv3/src/../assets/style.css\"), WebIO.Asset(\"css\", nothing, \"/home/dushya/.julia/packages/Interact/PENUy/src/../assets/bulma_confined.min.css\")], Dict{Any, Any}(\"loading\" => Any[WebIO.JSString(\"(function (val){return (val!=this.model[\\\"loading\\\"]()) ? (this.valueFromJulia[\\\"loading\\\"]=true, this.model[\\\"loading\\\"](val)) : undefined})\")], \"clicks\" => Any[WebIO.JSString(\"(function (val){return (val!=this.model[\\\"clicks\\\"]()) ? (this.valueFromJulia[\\\"clicks\\\"]=true, this.model[\\\"clicks\\\"](val)) : undefined})\")]), WebIO.ConnectionPool(Channel{Any}(32), Set{WebIO.AbstractConnection}(), Base.GenericCondition{ReentrantLock}(Base.IntrusiveLinkedList{Task}(Task (runnable) @0x00007f12117dddc0, Task (runnable) @0x00007f12117dddc0), ReentrantLock(nothing, 0x00000000, 0x00, Base.GenericCondition{Base.Threads.SpinLock}(Base.IntrusiveLinkedList{Task}(nothing, nothing), Base.Threads.SpinLock(0)), (0, 139716731072624, 139716731072688)))), WebIO.JSString[WebIO.JSString(\"function () {\\n    var handler = (function (ko, koPunches) {\\n    ko.punches.enableAll();\\n    ko.bindingHandlers.numericValue = {\\n        init: function(element, valueAccessor, allBindings, data, context) {\\n            var stringified = ko.observable(ko.unwrap(valueAccessor()));\\n            stringified.subscribe(function(value) {\\n                var val = parseFloat(value);\\n                if (!isNaN(val)) {\\n                    valueAccessor()(val);\\n                }\\n            });\\n            valueAccessor().subscribe(function(value) {\\n                var str = JSON.stringify(value);\\n                if ((str == \\\"0\\\") && ([\\\"-0\\\", \\\"-0.\\\"].indexOf(stringified()) >= 0))\\n                     return;\\n                 if ([\\\"null\\\", \\\"\\\"].indexOf(str) >= 0)\\n                     return;\\n                stringified(str);\\n            });\\n            ko.applyBindingsToNode(\\n                element,\\n                {\\n                    value: stringified,\\n                    valueUpdate: allBindings.get('valueUpdate'),\\n                },\\n                context,\\n            );\\n        }\\n    };\\n    var json_data = {\\\"loading\\\":WebIO.getval({\\\"name\\\":\\\"loading\\\",\\\"scope\\\":\\\"4719980219890852380\\\",\\\"id\\\":\\\"18324155887006857209\\\",\\\"type\\\":\\\"observable\\\"}),\\\"clicks\\\":WebIO.getval({\\\"name\\\":\\\"clicks\\\",\\\"scope\\\":\\\"4719980219890852380\\\",\\\"id\\\":\\\"8899894092830015526\\\",\\\"type\\\":\\\"observable\\\"})};\\n    var self = this;\\n    function AppViewModel() {\\n        for (var key in json_data) {\\n            var el = json_data[key];\\n            this[key] = Array.isArray(el) ? ko.observableArray(el) : ko.observable(el);\\n        }\\n        \\n        \\n        [this[\\\"loading\\\"].subscribe((function (val){!(this.valueFromJulia[\\\"loading\\\"]) ? (WebIO.setval({\\\"name\\\":\\\"loading\\\",\\\"scope\\\":\\\"4719980219890852380\\\",\\\"id\\\":\\\"18324155887006857209\\\",\\\"type\\\":\\\"observable\\\"},val)) : undefined; return this.valueFromJulia[\\\"loading\\\"]=false}),self),this[\\\"clicks\\\"].subscribe((function (val){!(this.valueFromJulia[\\\"clicks\\\"]) ? (WebIO.setval({\\\"name\\\":\\\"clicks\\\",\\\"scope\\\":\\\"4719980219890852380\\\",\\\"id\\\":\\\"8899894092830015526\\\",\\\"type\\\":\\\"observable\\\"},val)) : undefined; return this.valueFromJulia[\\\"clicks\\\"]=false}),self)]\\n        \\n    }\\n    self.model = new AppViewModel();\\n    self.valueFromJulia = {};\\n    for (var key in json_data) {\\n        self.valueFromJulia[key] = false;\\n    }\\n    ko.applyBindings(self.model, self.dom);\\n}\\n);\\n    (WebIO.importBlock({\\\"data\\\":[{\\\"name\\\":\\\"knockout\\\",\\\"type\\\":\\\"js\\\",\\\"url\\\":\\\"/assetserver/727383f2a47bd31570b7da84eee7b022dd6d7c78-knockout.js\\\"},{\\\"name\\\":\\\"knockout_punches\\\",\\\"type\\\":\\\"js\\\",\\\"url\\\":\\\"/assetserver/382b41b3b1bd9f26f75861d360bad7f8beea211f-knockout_punches.js\\\"}],\\\"type\\\":\\\"async_block\\\"})).then((imports) => handler.apply(this, imports));\\n}\\n\")])], Dict{Symbol, Any}(:className => \"field interact-widget\")), WebIO.Node{WebIO.DOM}(WebIO.DOM(:html, :div), Any[WebIO.Scope(WebIO.Node{WebIO.DOM}(WebIO.DOM(:html, :div), Any[], Dict{Symbol, Any}(:id => \"container\")), Dict{String, Tuple{Observables.AbstractObservable, Union{Nothing, Bool}}}(\"value\" => (Observable(\"\\\\;\\\\;\"), nothing)), Set{String}(), nothing, WebIO.Asset[WebIO.Asset(\"js\", nothing, \"/home/dushya/.julia/packages/InteractBase/LJXv3/src/../assets/katex.min.js\"), WebIO.Asset(\"css\", nothing, \"/home/dushya/.julia/packages/InteractBase/LJXv3/src/../assets/katex.min.css\")], Dict{Any, Any}(\"value\" => Any[WebIO.JSString(\"(function (txt){return this.k.render(txt,this.container)})\")]), WebIO.ConnectionPool(Channel{Any}(32), Set{WebIO.AbstractConnection}(), Base.GenericCondition{ReentrantLock}(Base.IntrusiveLinkedList{Task}(Task (runnable) @0x00007f1212583080, Task (runnable) @0x00007f1212583080), ReentrantLock(nothing, 0x00000000, 0x00, Base.GenericCondition{Base.Threads.SpinLock}(Base.IntrusiveLinkedList{Task}(nothing, nothing), Base.Threads.SpinLock(0)), (0, 139716693010464, 139716693010480)))), WebIO.JSString[WebIO.JSString(\"function () {\\n    var handler = ((function (k){this.k=k; this.container=this.dom.querySelector(\\\"#container\\\"); return k.render(\\\"\\\\\\\\;\\\\\\\\;\\\",this.container)}));\\n    (WebIO.importBlock({\\\"data\\\":[{\\\"name\\\":null,\\\"type\\\":\\\"js\\\",\\\"url\\\":\\\"/assetserver/dd22ed1bf1896c2748f3fe616ce0b838adc895c1-katex.min.js\\\"},{\\\"name\\\":null,\\\"type\\\":\\\"css\\\",\\\"url\\\":\\\"/assetserver/46517a424aa5e6cffc1360d7e0848b601c584ee3-katex.min.css\\\"}],\\\"type\\\":\\\"async_block\\\"})).then((imports) => handler.apply(this, imports));\\n}\\n\")])], Dict{Symbol, Any}(:className => \"interact-widget\")), WebIO.Node{WebIO.DOM}(WebIO.DOM(:html, :div), Any[WebIO.Scope(WebIO.Node{WebIO.DOM}(WebIO.DOM(:html, :button), Any[\"stop\"], Dict{Symbol, Any}(:attributes => Dict{Any, Any}(\"data-bind\" => \"click: function (){this.clicks(this.clicks()+1)}, css: {'is-loading' : loading}\"), :className => \"is-medium button is-primary\", :style => Dict{String, Any}())), Dict{String, Tuple{Observables.AbstractObservable, Union{Nothing, Bool}}}(\"loading\" => (Observable(false), nothing), \"clicks\" => (Observable(0), nothing)), Set{String}(), nothing, WebIO.Asset[WebIO.Asset(\"js\", \"knockout\", \"/home/dushya/.julia/packages/Knockout/HReiN/src/../assets/knockout.js\"), WebIO.Asset(\"js\", \"knockout_punches\", \"/home/dushya/.julia/packages/Knockout/HReiN/src/../assets/knockout_punches.js\"), WebIO.Asset(\"js\", nothing, \"/home/dushya/.julia/packages/InteractBase/LJXv3/src/../assets/all.js\"), WebIO.Asset(\"css\", nothing, \"/home/dushya/.julia/packages/InteractBase/LJXv3/src/../assets/style.css\"), WebIO.Asset(\"css\", nothing, \"/home/dushya/.julia/packages/Interact/PENUy/src/../assets/bulma_confined.min.css\")], Dict{Any, Any}(\"loading\" => Any[WebIO.JSString(\"(function (val){return (val!=this.model[\\\"loading\\\"]()) ? (this.valueFromJulia[\\\"loading\\\"]=true, this.model[\\\"loading\\\"](val)) : undefined})\")], \"clicks\" => Any[WebIO.JSString(\"(function (val){return (val!=this.model[\\\"clicks\\\"]()) ? (this.valueFromJulia[\\\"clicks\\\"]=true, this.model[\\\"clicks\\\"](val)) : undefined})\")]), WebIO.ConnectionPool(Channel{Any}(32), Set{WebIO.AbstractConnection}(), Base.GenericCondition{ReentrantLock}(Base.IntrusiveLinkedList{Task}(Task (runnable) @0x00007f1211810c90, Task (runnable) @0x00007f1211810c90), ReentrantLock(nothing, 0x00000000, 0x00, Base.GenericCondition{Base.Threads.SpinLock}(Base.IntrusiveLinkedList{Task}(nothing, nothing), Base.Threads.SpinLock(0)), (1, 139716731086896, 139716731072688)))), WebIO.JSString[WebIO.JSString(\"function () {\\n    var handler = (function (ko, koPunches) {\\n    ko.punches.enableAll();\\n    ko.bindingHandlers.numericValue = {\\n        init: function(element, valueAccessor, allBindings, data, context) {\\n            var stringified = ko.observable(ko.unwrap(valueAccessor()));\\n            stringified.subscribe(function(value) {\\n                var val = parseFloat(value);\\n                if (!isNaN(val)) {\\n                    valueAccessor()(val);\\n                }\\n            });\\n            valueAccessor().subscribe(function(value) {\\n                var str = JSON.stringify(value);\\n                if ((str == \\\"0\\\") && ([\\\"-0\\\", \\\"-0.\\\"].indexOf(stringified()) >= 0))\\n                     return;\\n                 if ([\\\"null\\\", \\\"\\\"].indexOf(str) >= 0)\\n                     return;\\n                stringified(str);\\n            });\\n            ko.applyBindingsToNode(\\n                element,\\n                {\\n                    value: stringified,\\n                    valueUpdate: allBindings.get('valueUpdate'),\\n                },\\n                context,\\n            );\\n        }\\n    };\\n    var json_data = {\\\"loading\\\":WebIO.getval({\\\"name\\\":\\\"loading\\\",\\\"scope\\\":\\\"4517392578153767430\\\",\\\"id\\\":\\\"18446658406716812722\\\",\\\"type\\\":\\\"observable\\\"}),\\\"clicks\\\":WebIO.getval({\\\"name\\\":\\\"clicks\\\",\\\"scope\\\":\\\"4517392578153767430\\\",\\\"id\\\":\\\"10317238558209941690\\\",\\\"type\\\":\\\"observable\\\"})};\\n    var self = this;\\n    function AppViewModel() {\\n        for (var key in json_data) {\\n            var el = json_data[key];\\n            this[key] = Array.isArray(el) ? ko.observableArray(el) : ko.observable(el);\\n        }\\n        \\n        \\n        [this[\\\"loading\\\"].subscribe((function (val){!(this.valueFromJulia[\\\"loading\\\"]) ? (WebIO.setval({\\\"name\\\":\\\"loading\\\",\\\"scope\\\":\\\"4517392578153767430\\\",\\\"id\\\":\\\"18446658406716812722\\\",\\\"type\\\":\\\"observable\\\"},val)) : undefined; return this.valueFromJulia[\\\"loading\\\"]=false}),self),this[\\\"clicks\\\"].subscribe((function (val){!(this.valueFromJulia[\\\"clicks\\\"]) ? (WebIO.setval({\\\"name\\\":\\\"clicks\\\",\\\"scope\\\":\\\"4517392578153767430\\\",\\\"id\\\":\\\"10317238558209941690\\\",\\\"type\\\":\\\"observable\\\"},val)) : undefined; return this.valueFromJulia[\\\"clicks\\\"]=false}),self)]\\n        \\n    }\\n    self.model = new AppViewModel();\\n    self.valueFromJulia = {};\\n    for (var key in json_data) {\\n        self.valueFromJulia[key] = false;\\n    }\\n    ko.applyBindings(self.model, self.dom);\\n}\\n);\\n    (WebIO.importBlock({\\\"data\\\":[{\\\"name\\\":\\\"knockout\\\",\\\"type\\\":\\\"js\\\",\\\"url\\\":\\\"/assetserver/727383f2a47bd31570b7da84eee7b022dd6d7c78-knockout.js\\\"},{\\\"name\\\":\\\"knockout_punches\\\",\\\"type\\\":\\\"js\\\",\\\"url\\\":\\\"/assetserver/382b41b3b1bd9f26f75861d360bad7f8beea211f-knockout_punches.js\\\"}],\\\"type\\\":\\\"async_block\\\"})).then((imports) => handler.apply(this, imports));\\n}\\n\")])], Dict{Symbol, Any}(:className => \"field interact-widget\")), WebIO.Node{WebIO.DOM}(WebIO.DOM(:html, :div), Any[WebIO.Scope(WebIO.Node{WebIO.DOM}(WebIO.DOM(:html, :div), Any[], Dict{Symbol, Any}(:id => \"container\")), Dict{String, Tuple{Observables.AbstractObservable, Union{Nothing, Bool}}}(\"value\" => (Observable(\"\\\\;\\\\;\"), nothing)), Set{String}(), nothing, WebIO.Asset[WebIO.Asset(\"js\", nothing, \"/home/dushya/.julia/packages/InteractBase/LJXv3/src/../assets/katex.min.js\"), WebIO.Asset(\"css\", nothing, \"/home/dushya/.julia/packages/InteractBase/LJXv3/src/../assets/katex.min.css\")], Dict{Any, Any}(\"value\" => Any[WebIO.JSString(\"(function (txt){return this.k.render(txt,this.container)})\")]), WebIO.ConnectionPool(Channel{Any}(32), Set{WebIO.AbstractConnection}(), Base.GenericCondition{ReentrantLock}(Base.IntrusiveLinkedList{Task}(Task (runnable) @0x00007f1212583080, Task (runnable) @0x00007f1212583080), ReentrantLock(nothing, 0x00000000, 0x00, Base.GenericCondition{Base.Threads.SpinLock}(Base.IntrusiveLinkedList{Task}(nothing, nothing), Base.Threads.SpinLock(0)), (0, 139716693010464, 139716693010480)))), WebIO.JSString[WebIO.JSString(\"function () {\\n    var handler = ((function (k){this.k=k; this.container=this.dom.querySelector(\\\"#container\\\"); return k.render(\\\"\\\\\\\\;\\\\\\\\;\\\",this.container)}));\\n    (WebIO.importBlock({\\\"data\\\":[{\\\"name\\\":null,\\\"type\\\":\\\"js\\\",\\\"url\\\":\\\"/assetserver/dd22ed1bf1896c2748f3fe616ce0b838adc895c1-katex.min.js\\\"},{\\\"name\\\":null,\\\"type\\\":\\\"css\\\",\\\"url\\\":\\\"/assetserver/46517a424aa5e6cffc1360d7e0848b601c584ee3-katex.min.css\\\"}],\\\"type\\\":\\\"async_block\\\"})).then((imports) => handler.apply(this, imports));\\n}\\n\")])], Dict{Symbol, Any}(:className => \"interact-widget\")), WebIO.Node{WebIO.DOM}(WebIO.DOM(:html, :div), Any[WebIO.Scope(WebIO.Node{WebIO.DOM}(WebIO.DOM(:html, :button), Any[\"save\"], Dict{Symbol, Any}(:attributes => Dict{Any, Any}(\"data-bind\" => \"click: function (){this.clicks(this.clicks()+1)}, css: {'is-loading' : loading}\"), :className => \"is-medium button is-primary\", :style => Dict{String, Any}())), Dict{String, Tuple{Observables.AbstractObservable, Union{Nothing, Bool}}}(\"loading\" => (Observable(false), nothing), \"clicks\" => (Observable(0), nothing)), Set{String}(), nothing, WebIO.Asset[WebIO.Asset(\"js\", \"knockout\", \"/home/dushya/.julia/packages/Knockout/HReiN/src/../assets/knockout.js\"), WebIO.Asset(\"js\", \"knockout_punches\", \"/home/dushya/.julia/packages/Knockout/HReiN/src/../assets/knockout_punches.js\"), WebIO.Asset(\"js\", nothing, \"/home/dushya/.julia/packages/InteractBase/LJXv3/src/../assets/all.js\"), WebIO.Asset(\"css\", nothing, \"/home/dushya/.julia/packages/InteractBase/LJXv3/src/../assets/style.css\"), WebIO.Asset(\"css\", nothing, \"/home/dushya/.julia/packages/Interact/PENUy/src/../assets/bulma_confined.min.css\")], Dict{Any, Any}(\"loading\" => Any[WebIO.JSString(\"(function (val){return (val!=this.model[\\\"loading\\\"]()) ? (this.valueFromJulia[\\\"loading\\\"]=true, this.model[\\\"loading\\\"](val)) : undefined})\")], \"clicks\" => Any[WebIO.JSString(\"(function (val){return (val!=this.model[\\\"clicks\\\"]()) ? (this.valueFromJulia[\\\"clicks\\\"]=true, this.model[\\\"clicks\\\"](val)) : undefined})\")]), WebIO.ConnectionPool(Channel{Any}(32), Set{WebIO.AbstractConnection}(), Base.GenericCondition{ReentrantLock}(Base.IntrusiveLinkedList{Task}(Task (runnable) @0x00007f12118133a0, Task (runnable) @0x00007f12118133a0), ReentrantLock(nothing, 0x00000000, 0x00, Base.GenericCondition{Base.Threads.SpinLock}(Base.IntrusiveLinkedList{Task}(nothing, nothing), Base.Threads.SpinLock(0)), (8, 139714848987648, 139716690528368)))), WebIO.JSString[WebIO.JSString(\"function () {\\n    var handler = (function (ko, koPunches) {\\n    ko.punches.enableAll();\\n    ko.bindingHandlers.numericValue = {\\n        init: function(element, valueAccessor, allBindings, data, context) {\\n            var stringified = ko.observable(ko.unwrap(valueAccessor()));\\n            stringified.subscribe(function(value) {\\n                var val = parseFloat(value);\\n                if (!isNaN(val)) {\\n                    valueAccessor()(val);\\n                }\\n            });\\n            valueAccessor().subscribe(function(value) {\\n                var str = JSON.stringify(value);\\n                if ((str == \\\"0\\\") && ([\\\"-0\\\", \\\"-0.\\\"].indexOf(stringified()) >= 0))\\n                     return;\\n                 if ([\\\"null\\\", \\\"\\\"].indexOf(str) >= 0)\\n                     return;\\n                stringified(str);\\n            });\\n            ko.applyBindingsToNode(\\n                element,\\n                {\\n                    value: stringified,\\n                    valueUpdate: allBindings.get('valueUpdate'),\\n                },\\n                context,\\n            );\\n        }\\n    };\\n    var json_data = {\\\"loading\\\":WebIO.getval({\\\"name\\\":\\\"loading\\\",\\\"scope\\\":\\\"14556465214414069751\\\",\\\"id\\\":\\\"2251265295740613565\\\",\\\"type\\\":\\\"observable\\\"}),\\\"clicks\\\":WebIO.getval({\\\"name\\\":\\\"clicks\\\",\\\"scope\\\":\\\"14556465214414069751\\\",\\\"id\\\":\\\"4164010971050225644\\\",\\\"type\\\":\\\"observable\\\"})};\\n    var self = this;\\n    function AppViewModel() {\\n        for (var key in json_data) {\\n            var el = json_data[key];\\n            this[key] = Array.isArray(el) ? ko.observableArray(el) : ko.observable(el);\\n        }\\n        \\n        \\n        [this[\\\"loading\\\"].subscribe((function (val){!(this.valueFromJulia[\\\"loading\\\"]) ? (WebIO.setval({\\\"name\\\":\\\"loading\\\",\\\"scope\\\":\\\"14556465214414069751\\\",\\\"id\\\":\\\"2251265295740613565\\\",\\\"type\\\":\\\"observable\\\"},val)) : undefined; return this.valueFromJulia[\\\"loading\\\"]=false}),self),this[\\\"clicks\\\"].subscribe((function (val){!(this.valueFromJulia[\\\"clicks\\\"]) ? (WebIO.setval({\\\"name\\\":\\\"clicks\\\",\\\"scope\\\":\\\"14556465214414069751\\\",\\\"id\\\":\\\"4164010971050225644\\\",\\\"type\\\":\\\"observable\\\"},val)) : undefined; return this.valueFromJulia[\\\"clicks\\\"]=false}),self)]\\n        \\n    }\\n    self.model = new AppViewModel();\\n    self.valueFromJulia = {};\\n    for (var key in json_data) {\\n        self.valueFromJulia[key] = false;\\n    }\\n    ko.applyBindings(self.model, self.dom);\\n}\\n);\\n    (WebIO.importBlock({\\\"data\\\":[{\\\"name\\\":\\\"knockout\\\",\\\"type\\\":\\\"js\\\",\\\"url\\\":\\\"/assetserver/727383f2a47bd31570b7da84eee7b022dd6d7c78-knockout.js\\\"},{\\\"name\\\":\\\"knockout_punches\\\",\\\"type\\\":\\\"js\\\",\\\"url\\\":\\\"/assetserver/382b41b3b1bd9f26f75861d360bad7f8beea211f-knockout_punches.js\\\"}],\\\"type\\\":\\\"async_block\\\"})).then((imports) => handler.apply(this, imports));\\n}\\n\")])], Dict{Symbol, Any}(:className => \"field interact-widget\"))], Dict{Symbol, Any}(:style => Dict(\"display\" => \"flex\", \"flex-direction\" => \"row\")))], Dict{Symbol, Any}(:style => Dict(\"display\" => \"flex\", \"flex-direction\" => \"column\"))), WebIO.Node{WebIO.DOM}(WebIO.DOM(:html, :div), Any[WebIO.Scope(WebIO.Node{WebIO.DOM}(WebIO.DOM(:html, :div), Any[], Dict{Symbol, Any}(:id => \"container\")), Dict{String, Tuple{Observables.AbstractObservable, Union{Nothing, Bool}}}(\"value\" => (Observable(\"\\\\;\\\\;\"), nothing)), Set{String}(), nothing, WebIO.Asset[WebIO.Asset(\"js\", nothing, \"/home/dushya/.julia/packages/InteractBase/LJXv3/src/../assets/katex.min.js\"), WebIO.Asset(\"css\", nothing, \"/home/dushya/.julia/packages/InteractBase/LJXv3/src/../assets/katex.min.css\")], Dict{Any, Any}(\"value\" => Any[WebIO.JSString(\"(function (txt){return this.k.render(txt,this.container)})\")]), WebIO.ConnectionPool(Channel{Any}(32), Set{WebIO.AbstractConnection}(), Base.GenericCondition{ReentrantLock}(Base.IntrusiveLinkedList{Task}(Task (runnable) @0x00007f1212583080, Task (runnable) @0x00007f1212583080), ReentrantLock(nothing, 0x00000000, 0x00, Base.GenericCondition{Base.Threads.SpinLock}(Base.IntrusiveLinkedList{Task}(nothing, nothing), Base.Threads.SpinLock(0)), (0, 139716693010464, 139716693010480)))), WebIO.JSString[WebIO.JSString(\"function () {\\n    var handler = ((function (k){this.k=k; this.container=this.dom.querySelector(\\\"#container\\\"); return k.render(\\\"\\\\\\\\;\\\\\\\\;\\\",this.container)}));\\n    (WebIO.importBlock({\\\"data\\\":[{\\\"name\\\":null,\\\"type\\\":\\\"js\\\",\\\"url\\\":\\\"/assetserver/dd22ed1bf1896c2748f3fe616ce0b838adc895c1-katex.min.js\\\"},{\\\"name\\\":null,\\\"type\\\":\\\"css\\\",\\\"url\\\":\\\"/assetserver/46517a424aa5e6cffc1360d7e0848b601c584ee3-katex.min.css\\\"}],\\\"type\\\":\\\"async_block\\\"})).then((imports) => handler.apply(this, imports));\\n}\\n\")])], Dict{Symbol, Any}(:className => \"interact-widget\")), Observable(Luxor.Drawing(430.0, 430.0, \"\", Cairo.CairoSurfaceBase{UInt32}(Ptr{Nothing} @0x0000000000000000, 430.0, 430.0), Cairo.CairoContext(Ptr{Nothing} @0x000000000432c480, Cairo.CairoSurfaceBase{UInt32}(Ptr{Nothing} @0x0000000000000000, 430.0, 430.0), Ptr{Nothing} @0x00000000048630d0), :png, 0.0, 0.0, 0.0, 1.0, IOBuffer(data=UInt8[...], readable=true, writable=true, seekable=true, append=false, size=16764, maxsize=Inf, ptr=16765, mark=-1), UInt8[0x89, 0x50, 0x4e, 0x47, 0x0d, 0x0a, 0x1a, 0x0a, 0x00, 0x00  …  0x00, 0x00, 0x49, 0x45, 0x4e, 0x44, 0xae, 0x42, 0x60, 0x82], false)), WebIO.Node{WebIO.DOM}(WebIO.DOM(:html, :div), Any[WebIO.Scope(WebIO.Node{WebIO.DOM}(WebIO.DOM(:html, :div), Any[], Dict{Symbol, Any}(:id => \"container\")), Dict{String, Tuple{Observables.AbstractObservable, Union{Nothing, Bool}}}(\"value\" => (Observable(\"\\\\;\\\\;\"), nothing)), Set{String}(), nothing, WebIO.Asset[WebIO.Asset(\"js\", nothing, \"/home/dushya/.julia/packages/InteractBase/LJXv3/src/../assets/katex.min.js\"), WebIO.Asset(\"css\", nothing, \"/home/dushya/.julia/packages/InteractBase/LJXv3/src/../assets/katex.min.css\")], Dict{Any, Any}(\"value\" => Any[WebIO.JSString(\"(function (txt){return this.k.render(txt,this.container)})\")]), WebIO.ConnectionPool(Channel{Any}(32), Set{WebIO.AbstractConnection}(), Base.GenericCondition{ReentrantLock}(Base.IntrusiveLinkedList{Task}(Task (runnable) @0x00007f1212583080, Task (runnable) @0x00007f1212583080), ReentrantLock(nothing, 0x00000000, 0x00, Base.GenericCondition{Base.Threads.SpinLock}(Base.IntrusiveLinkedList{Task}(nothing, nothing), Base.Threads.SpinLock(0)), (0, 139716693010464, 139716693010480)))), WebIO.JSString[WebIO.JSString(\"function () {\\n    var handler = ((function (k){this.k=k; this.container=this.dom.querySelector(\\\"#container\\\"); return k.render(\\\"\\\\\\\\;\\\\\\\\;\\\",this.container)}));\\n    (WebIO.importBlock({\\\"data\\\":[{\\\"name\\\":null,\\\"type\\\":\\\"js\\\",\\\"url\\\":\\\"/assetserver/dd22ed1bf1896c2748f3fe616ce0b838adc895c1-katex.min.js\\\"},{\\\"name\\\":null,\\\"type\\\":\\\"css\\\",\\\"url\\\":\\\"/assetserver/46517a424aa5e6cffc1360d7e0848b601c584ee3-katex.min.css\\\"}],\\\"type\\\":\\\"async_block\\\"})).then((imports) => handler.apply(this, imports));\\n}\\n\")])], Dict{Symbol, Any}(:className => \"interact-widget\")), WebIO.Node{WebIO.DOM}(WebIO.DOM(:html, :div), Any[], Dict{Symbol, Any}(:style => Dict(\"display\" => \"flex\", \"flex-direction\" => \"column\")))], Dict{Symbol, Any}(:style => Dict(\"display\" => \"flex\", \"flex-direction\" => \"row\")))], Dict{Symbol, Any}(:style => Dict(\"display\" => \"flex\", \"flex-direction\" => \"column\")))"
      ]
     },
     "execution_count": 22,
     "metadata": {
      "application/vnd.webio.node+json": {
       "kernelId": "8ce5b37a-c5a5-41bb-800e-c33391f60288"
      }
     },
     "output_type": "execute_result"
    }
   ],
   "source": [
    "animate_sim(model)"
   ]
  },
  {
   "cell_type": "code",
   "execution_count": null,
   "metadata": {},
   "outputs": [],
   "source": []
  }
 ],
 "metadata": {
  "@webio": {
   "lastCommId": "d769ebb32cc04ee98e8c2d6e2cc54551",
   "lastKernelId": "8ce5b37a-c5a5-41bb-800e-c33391f60288"
  },
  "kernelspec": {
   "display_name": "Julia 1.9.2",
   "language": "julia",
   "name": "julia-1.9"
  },
  "language_info": {
   "file_extension": ".jl",
   "mimetype": "application/julia",
   "name": "julia",
   "version": "1.9.2"
  }
 },
 "nbformat": 4,
 "nbformat_minor": 4
}
