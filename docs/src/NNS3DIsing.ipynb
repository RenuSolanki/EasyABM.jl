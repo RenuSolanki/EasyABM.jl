{
 "cells": [
  {
   "cell_type": "markdown",
   "metadata": {},
   "source": [
    "# Ising model on a nearest neighbor random graph\n",
    "This is another example including Ising model where the underlying graph is a random nearest neighbor graph on plane. "
   ]
  },
  {
   "cell_type": "code",
   "execution_count": 1,
   "metadata": {
    "scrolled": true
   },
   "outputs": [
    {
     "name": "stderr",
     "output_type": "stream",
     "text": [
      "\u001b[32m\u001b[1m  Activating\u001b[22m\u001b[39m project at `~/Documents/EasyABM`\n"
     ]
    },
    {
     "data": {
      "application/vnd.webio.node+json": {
       "children": [],
       "instanceArgs": {
        "namespace": "html",
        "tag": "div"
       },
       "nodeType": "DOM",
       "props": {},
       "type": "node"
      },
      "text/html": [
       "<div style=\"padding: 1em; background-color: #f8d6da; border: 1px solid #f5c6cb; font-weight: bold;\">\n",
       "<p>The WebIO Jupyter extension was not detected. See the\n",
       "<a href=\"https://juliagizmos.github.io/WebIO.jl/latest/providers/ijulia/\" target=\"_blank\">\n",
       "    WebIO Jupyter integration documentation\n",
       "</a>\n",
       "for more information.\n",
       "</div>\n"
      ],
      "text/plain": [
       "WebIO._IJuliaInit()"
      ]
     },
     "metadata": {
      "application/vnd.webio.node+json": {
       "kernelId": "ee887205-ec53-45cb-8b2e-aa981d735b89"
      }
     },
     "output_type": "display_data"
    }
   ],
   "source": [
    "using Pkg, Revise\n",
    "Pkg.activate(joinpath(@__DIR__, \"../..\"))\n",
    "using EasyABM"
   ]
  },
  {
   "cell_type": "markdown",
   "metadata": {},
   "source": [
    "## Step 1: Create Model\n",
    "\n",
    "In this model we will work solely with the graph and won't need agents. We initially create an empty graph and then create our model as follows. "
   ]
  },
  {
   "cell_type": "code",
   "execution_count": 2,
   "metadata": {
    "scrolled": true
   },
   "outputs": [
    {
     "data": {
      "text/plain": [
       "SimplePropGraph\n",
       "vertices: Int64[]\n",
       "edges: \n"
      ]
     },
     "execution_count": 2,
     "metadata": {},
     "output_type": "execute_result"
    }
   ],
   "source": [
    "graph = dynamic_simple_graph(0)"
   ]
  },
  {
   "cell_type": "code",
   "execution_count": 3,
   "metadata": {
    "scrolled": false
   },
   "outputs": [
    {
     "data": {
      "text/plain": [
       "EasyABM GraphModel{EasyABM.MortalType, EasyABM.StaticType, EasyABM.SimGType}: In a {EasyABM.MortalType, EasyABM.StaticType} model graph topology can change and agents number is fixed.\n"
      ]
     },
     "execution_count": 3,
     "metadata": {},
     "output_type": "execute_result"
    }
   ],
   "source": [
    "model = create_graph_model(graph, temp = 2.0, coupl = 2.5, nns = 5, vis_space=\"3d\")"
   ]
  },
  {
   "cell_type": "markdown",
   "metadata": {},
   "source": [
    "# Step 2: Initialise the model\n",
    "\n",
    " In the `initialiser!` function we create a list of n = 100 random points in the plane and fill our graph with n nodes and set the position of ith node to the ith random point. We then link each node to its `nns` number of nearest neighbors and randomly set each node's color to either `cl\"black\"` or `cl\"red\"` and set spin value to +1 for `cl\"black\"` nodes and -1 for `cl\"red\"` nodes. In the `init_model!` function, the argument `props_to_record` specifies the nodes properties which we want to record during model run.  "
   ]
  },
  {
   "cell_type": "code",
   "execution_count": 4,
   "metadata": {},
   "outputs": [],
   "source": [
    "using NearestNeighbors"
   ]
  },
  {
   "cell_type": "code",
   "execution_count": 5,
   "metadata": {},
   "outputs": [],
   "source": [
    "const n=100;"
   ]
  },
  {
   "cell_type": "code",
   "execution_count": 6,
   "metadata": {},
   "outputs": [
    {
     "data": {
      "text/plain": [
       "initialiser! (generic function with 1 method)"
      ]
     },
     "execution_count": 6,
     "metadata": {},
     "output_type": "execute_result"
    }
   ],
   "source": [
    "vecs = rand(3, n) .* 10\n",
    "kdtree = KDTree(vecs,leafsize=1)\n",
    "\n",
    "function initialiser!(model)\n",
    "    flush_graph!(model) # deletes all nodes and edges\n",
    "    add_nodes!(n, model, color = cl\"black\", spin =1) # adds n nodes to model's graph with all the nodes having color black and spin 1\n",
    "    for i in 1:n \n",
    "        model.graph.nodesprops[i].pos3 = (vecs[1,i], vecs[2,i], vecs[3,i]) # set positions of nodes in the 2d plane\n",
    "        indices, _ = knn(kdtree, vecs[:,i], model.parameters.nns, true) # indices of nearest neighboring vectors\n",
    "        for j in indices\n",
    "            if j!=i\n",
    "                create_edge!(i,j, model)\n",
    "            end\n",
    "        end\n",
    "        if rand()<0.5\n",
    "            model.graph.nodesprops[i].spin = 1\n",
    "            model.graph.nodesprops[i].color = cl\"black\"\n",
    "        else\n",
    "            model.graph.nodesprops[i].spin = -1\n",
    "            model.graph.nodesprops[i].color = cl\"red\"\n",
    "        end\n",
    "    end\n",
    "end"
   ]
  },
  {
   "cell_type": "code",
   "execution_count": 7,
   "metadata": {},
   "outputs": [],
   "source": [
    "init_model!(model, initialiser= initialiser!, props_to_record = Dict(\"nodes\"=>Set([:color, :spin]))) "
   ]
  },
  {
   "cell_type": "code",
   "execution_count": 8,
   "metadata": {
    "scrolled": true
   },
   "outputs": [
    {
     "name": "stderr",
     "output_type": "stream",
     "text": [
      "\u001b[36m\u001b[1m[ \u001b[22m\u001b[39m\u001b[36m\u001b[1mInfo: \u001b[22m\u001b[39mListening on: 127.0.0.1:8700, thread id: 1\n",
      "\u001b[36m\u001b[1m┌ \u001b[22m\u001b[39m\u001b[36m\u001b[1mInfo: \u001b[22m\u001b[39mMeshCat server started. You can open the visualizer by visiting the following URL in your browser:\n",
      "\u001b[36m\u001b[1m└ \u001b[22m\u001b[39mhttp://127.0.0.1:8700\n"
     ]
    },
    {
     "data": {
      "text/html": [
       "    <div style=\"height: 500px; width: 100%; overflow-x: auto; overflow-y: hidden; resize: both\">\n",
       "    <iframe src=\"http://127.0.0.1:8700\" style=\"width: 100%; height: 100%; border: none\"></iframe>\n",
       "    </div>\n"
      ],
      "text/plain": [
       "MeshCat.DisplayedVisualizer(MeshCat.CoreVisualizer(MeshCat.SceneTrees.SceneNode(nothing, nothing, Dict{String, Vector{UInt8}}(), nothing, Dict{String, MeshCat.SceneTrees.SceneNode}(\"meshcat\" => MeshCat.SceneTrees.SceneNode(nothing, UInt8[0x83, 0xa6, 0x6d, 0x61, 0x74, 0x72, 0x69, 0x78, 0xc7, 0x40  …  0x68, 0xa8, 0x2f, 0x6d, 0x65, 0x73, 0x68, 0x63, 0x61, 0x74], Dict{String, Vector{UInt8}}(), nothing, Dict{String, MeshCat.SceneTrees.SceneNode}(\"nodes\" => MeshCat.SceneTrees.SceneNode(nothing, nothing, Dict{String, Vector{UInt8}}(), nothing, Dict{String, MeshCat.SceneTrees.SceneNode}(\"32\" => MeshCat.SceneTrees.SceneNode(UInt8[0x83, 0xa6, 0x6f, 0x62, 0x6a, 0x65, 0x63, 0x74, 0x84, 0xaa  …  0x74, 0x2f, 0x6e, 0x6f, 0x64, 0x65, 0x73, 0x2f, 0x33, 0x32], UInt8[0x83, 0xa6, 0x6d, 0x61, 0x74, 0x72, 0x69, 0x78, 0xc7, 0x40  …  0x74, 0x2f, 0x6e, 0x6f, 0x64, 0x65, 0x73, 0x2f, 0x33, 0x32], Dict{String, Vector{UInt8}}(), nothing, Dict{String, MeshCat.SceneTrees.SceneNode}()), \"29\" => MeshCat.SceneTrees.SceneNode(UInt8[0x83, 0xa6, 0x6f, 0x62, 0x6a, 0x65, 0x63, 0x74, 0x84, 0xaa  …  0x74, 0x2f, 0x6e, 0x6f, 0x64, 0x65, 0x73, 0x2f, 0x32, 0x39], UInt8[0x83, 0xa6, 0x6d, 0x61, 0x74, 0x72, 0x69, 0x78, 0xc7, 0x40  …  0x74, 0x2f, 0x6e, 0x6f, 0x64, 0x65, 0x73, 0x2f, 0x32, 0x39], Dict{String, Vector{UInt8}}(), nothing, Dict{String, MeshCat.SceneTrees.SceneNode}()), \"1\" => MeshCat.SceneTrees.SceneNode(UInt8[0x83, 0xa6, 0x6f, 0x62, 0x6a, 0x65, 0x63, 0x74, 0x84, 0xaa  …  0x61, 0x74, 0x2f, 0x6e, 0x6f, 0x64, 0x65, 0x73, 0x2f, 0x31], UInt8[0x83, 0xa6, 0x6d, 0x61, 0x74, 0x72, 0x69, 0x78, 0xc7, 0x40  …  0x61, 0x74, 0x2f, 0x6e, 0x6f, 0x64, 0x65, 0x73, 0x2f, 0x31], Dict{String, Vector{UInt8}}(), nothing, Dict{String, MeshCat.SceneTrees.SceneNode}()), \"54\" => MeshCat.SceneTrees.SceneNode(UInt8[0x83, 0xa6, 0x6f, 0x62, 0x6a, 0x65, 0x63, 0x74, 0x84, 0xaa  …  0x74, 0x2f, 0x6e, 0x6f, 0x64, 0x65, 0x73, 0x2f, 0x35, 0x34], UInt8[0x83, 0xa6, 0x6d, 0x61, 0x74, 0x72, 0x69, 0x78, 0xc7, 0x40  …  0x74, 0x2f, 0x6e, 0x6f, 0x64, 0x65, 0x73, 0x2f, 0x35, 0x34], Dict{String, Vector{UInt8}}(), nothing, Dict{String, MeshCat.SceneTrees.SceneNode}()), \"78\" => MeshCat.SceneTrees.SceneNode(UInt8[0x83, 0xa6, 0x6f, 0x62, 0x6a, 0x65, 0x63, 0x74, 0x84, 0xaa  …  0x74, 0x2f, 0x6e, 0x6f, 0x64, 0x65, 0x73, 0x2f, 0x37, 0x38], UInt8[0x83, 0xa6, 0x6d, 0x61, 0x74, 0x72, 0x69, 0x78, 0xc7, 0x40  …  0x74, 0x2f, 0x6e, 0x6f, 0x64, 0x65, 0x73, 0x2f, 0x37, 0x38], Dict{String, Vector{UInt8}}(), nothing, Dict{String, MeshCat.SceneTrees.SceneNode}()), \"81\" => MeshCat.SceneTrees.SceneNode(UInt8[0x83, 0xa6, 0x6f, 0x62, 0x6a, 0x65, 0x63, 0x74, 0x84, 0xaa  …  0x74, 0x2f, 0x6e, 0x6f, 0x64, 0x65, 0x73, 0x2f, 0x38, 0x31], UInt8[0x83, 0xa6, 0x6d, 0x61, 0x74, 0x72, 0x69, 0x78, 0xc7, 0x40  …  0x74, 0x2f, 0x6e, 0x6f, 0x64, 0x65, 0x73, 0x2f, 0x38, 0x31], Dict{String, Vector{UInt8}}(), nothing, Dict{String, MeshCat.SceneTrees.SceneNode}()), \"2\" => MeshCat.SceneTrees.SceneNode(UInt8[0x83, 0xa6, 0x6f, 0x62, 0x6a, 0x65, 0x63, 0x74, 0x84, 0xaa  …  0x61, 0x74, 0x2f, 0x6e, 0x6f, 0x64, 0x65, 0x73, 0x2f, 0x32], UInt8[0x83, 0xa6, 0x6d, 0x61, 0x74, 0x72, 0x69, 0x78, 0xc7, 0x40  …  0x61, 0x74, 0x2f, 0x6e, 0x6f, 0x64, 0x65, 0x73, 0x2f, 0x32], Dict{String, Vector{UInt8}}(), nothing, Dict{String, MeshCat.SceneTrees.SceneNode}()), \"74\" => MeshCat.SceneTrees.SceneNode(UInt8[0x83, 0xa6, 0x6f, 0x62, 0x6a, 0x65, 0x63, 0x74, 0x84, 0xaa  …  0x74, 0x2f, 0x6e, 0x6f, 0x64, 0x65, 0x73, 0x2f, 0x37, 0x34], UInt8[0x83, 0xa6, 0x6d, 0x61, 0x74, 0x72, 0x69, 0x78, 0xc7, 0x40  …  0x74, 0x2f, 0x6e, 0x6f, 0x64, 0x65, 0x73, 0x2f, 0x37, 0x34], Dict{String, Vector{UInt8}}(), nothing, Dict{String, MeshCat.SceneTrees.SceneNode}()), \"41\" => MeshCat.SceneTrees.SceneNode(UInt8[0x83, 0xa6, 0x6f, 0x62, 0x6a, 0x65, 0x63, 0x74, 0x84, 0xaa  …  0x74, 0x2f, 0x6e, 0x6f, 0x64, 0x65, 0x73, 0x2f, 0x34, 0x31], UInt8[0x83, 0xa6, 0x6d, 0x61, 0x74, 0x72, 0x69, 0x78, 0xc7, 0x40  …  0x74, 0x2f, 0x6e, 0x6f, 0x64, 0x65, 0x73, 0x2f, 0x34, 0x31], Dict{String, Vector{UInt8}}(), nothing, Dict{String, MeshCat.SceneTrees.SceneNode}()), \"65\" => MeshCat.SceneTrees.SceneNode(UInt8[0x83, 0xa6, 0x6f, 0x62, 0x6a, 0x65, 0x63, 0x74, 0x84, 0xaa  …  0x74, 0x2f, 0x6e, 0x6f, 0x64, 0x65, 0x73, 0x2f, 0x36, 0x35], UInt8[0x83, 0xa6, 0x6d, 0x61, 0x74, 0x72, 0x69, 0x78, 0xc7, 0x40  …  0x74, 0x2f, 0x6e, 0x6f, 0x64, 0x65, 0x73, 0x2f, 0x36, 0x35], Dict{String, Vector{UInt8}}(), nothing, Dict{String, MeshCat.SceneTrees.SceneNode}())…)), \"bbox_line_segments\" => MeshCat.SceneTrees.SceneNode(nothing, nothing, Dict{String, Vector{UInt8}}(), nothing, Dict{String, MeshCat.SceneTrees.SceneNode}(\"4\" => MeshCat.SceneTrees.SceneNode(UInt8[0x83, 0xa6, 0x6f, 0x62, 0x6a, 0x65, 0x63, 0x74, 0x84, 0xaa  …  0x73, 0x65, 0x67, 0x6d, 0x65, 0x6e, 0x74, 0x73, 0x2f, 0x34], nothing, Dict{String, Vector{UInt8}}(), nothing, Dict{String, MeshCat.SceneTrees.SceneNode}()), \"1\" => MeshCat.SceneTrees.SceneNode(UInt8[0x83, 0xa6, 0x6f, 0x62, 0x6a, 0x65, 0x63, 0x74, 0x84, 0xaa  …  0x73, 0x65, 0x67, 0x6d, 0x65, 0x6e, 0x74, 0x73, 0x2f, 0x31], nothing, Dict{String, Vector{UInt8}}(), nothing, Dict{String, MeshCat.SceneTrees.SceneNode}()), \"12\" => MeshCat.SceneTrees.SceneNode(UInt8[0x83, 0xa6, 0x6f, 0x62, 0x6a, 0x65, 0x63, 0x74, 0x84, 0xaa  …  0x65, 0x67, 0x6d, 0x65, 0x6e, 0x74, 0x73, 0x2f, 0x31, 0x32], nothing, Dict{String, Vector{UInt8}}(), nothing, Dict{String, MeshCat.SceneTrees.SceneNode}()), \"2\" => MeshCat.SceneTrees.SceneNode(UInt8[0x83, 0xa6, 0x6f, 0x62, 0x6a, 0x65, 0x63, 0x74, 0x84, 0xaa  …  0x73, 0x65, 0x67, 0x6d, 0x65, 0x6e, 0x74, 0x73, 0x2f, 0x32], nothing, Dict{String, Vector{UInt8}}(), nothing, Dict{String, MeshCat.SceneTrees.SceneNode}()), \"6\" => MeshCat.SceneTrees.SceneNode(UInt8[0x83, 0xa6, 0x6f, 0x62, 0x6a, 0x65, 0x63, 0x74, 0x84, 0xaa  …  0x73, 0x65, 0x67, 0x6d, 0x65, 0x6e, 0x74, 0x73, 0x2f, 0x36], nothing, Dict{String, Vector{UInt8}}(), nothing, Dict{String, MeshCat.SceneTrees.SceneNode}()), \"11\" => MeshCat.SceneTrees.SceneNode(UInt8[0x83, 0xa6, 0x6f, 0x62, 0x6a, 0x65, 0x63, 0x74, 0x84, 0xaa  …  0x65, 0x67, 0x6d, 0x65, 0x6e, 0x74, 0x73, 0x2f, 0x31, 0x31], nothing, Dict{String, Vector{UInt8}}(), nothing, Dict{String, MeshCat.SceneTrees.SceneNode}()), \"5\" => MeshCat.SceneTrees.SceneNode(UInt8[0x83, 0xa6, 0x6f, 0x62, 0x6a, 0x65, 0x63, 0x74, 0x84, 0xaa  …  0x73, 0x65, 0x67, 0x6d, 0x65, 0x6e, 0x74, 0x73, 0x2f, 0x35], nothing, Dict{String, Vector{UInt8}}(), nothing, Dict{String, MeshCat.SceneTrees.SceneNode}()), \"7\" => MeshCat.SceneTrees.SceneNode(UInt8[0x83, 0xa6, 0x6f, 0x62, 0x6a, 0x65, 0x63, 0x74, 0x84, 0xaa  …  0x73, 0x65, 0x67, 0x6d, 0x65, 0x6e, 0x74, 0x73, 0x2f, 0x37], nothing, Dict{String, Vector{UInt8}}(), nothing, Dict{String, MeshCat.SceneTrees.SceneNode}()), \"8\" => MeshCat.SceneTrees.SceneNode(UInt8[0x83, 0xa6, 0x6f, 0x62, 0x6a, 0x65, 0x63, 0x74, 0x84, 0xaa  …  0x73, 0x65, 0x67, 0x6d, 0x65, 0x6e, 0x74, 0x73, 0x2f, 0x38], nothing, Dict{String, Vector{UInt8}}(), nothing, Dict{String, MeshCat.SceneTrees.SceneNode}()), \"10\" => MeshCat.SceneTrees.SceneNode(UInt8[0x83, 0xa6, 0x6f, 0x62, 0x6a, 0x65, 0x63, 0x74, 0x84, 0xaa  …  0x65, 0x67, 0x6d, 0x65, 0x6e, 0x74, 0x73, 0x2f, 0x31, 0x30], nothing, Dict{String, Vector{UInt8}}(), nothing, Dict{String, MeshCat.SceneTrees.SceneNode}())…)), \"edges\" => MeshCat.SceneTrees.SceneNode(nothing, nothing, Dict{String, Vector{UInt8}}(), nothing, Dict{String, MeshCat.SceneTrees.SceneNode}(\"(38, 70)\" => MeshCat.SceneTrees.SceneNode(UInt8[0x83, 0xa6, 0x6f, 0x62, 0x6a, 0x65, 0x63, 0x74, 0x84, 0xaa  …  0x73, 0x2f, 0x28, 0x33, 0x38, 0x2c, 0x20, 0x37, 0x30, 0x29], UInt8[0x83, 0xa6, 0x6d, 0x61, 0x74, 0x72, 0x69, 0x78, 0xc7, 0x40  …  0x73, 0x2f, 0x28, 0x33, 0x38, 0x2c, 0x20, 0x37, 0x30, 0x29], Dict{String, Vector{UInt8}}(\"scale\" => [0x84, 0xa8, 0x70, 0x72, 0x6f, 0x70, 0x65, 0x72, 0x74, 0x79  …  0x73, 0x2f, 0x28, 0x33, 0x38, 0x2c, 0x20, 0x37, 0x30, 0x29]), nothing, Dict{String, MeshCat.SceneTrees.SceneNode}()), \"(16, 72)\" => MeshCat.SceneTrees.SceneNode(UInt8[0x83, 0xa6, 0x6f, 0x62, 0x6a, 0x65, 0x63, 0x74, 0x84, 0xaa  …  0x73, 0x2f, 0x28, 0x31, 0x36, 0x2c, 0x20, 0x37, 0x32, 0x29], UInt8[0x83, 0xa6, 0x6d, 0x61, 0x74, 0x72, 0x69, 0x78, 0xc7, 0x40  …  0x73, 0x2f, 0x28, 0x31, 0x36, 0x2c, 0x20, 0x37, 0x32, 0x29], Dict{String, Vector{UInt8}}(\"scale\" => [0x84, 0xa8, 0x70, 0x72, 0x6f, 0x70, 0x65, 0x72, 0x74, 0x79  …  0x73, 0x2f, 0x28, 0x31, 0x36, 0x2c, 0x20, 0x37, 0x32, 0x29]), nothing, Dict{String, MeshCat.SceneTrees.SceneNode}()), \"(47, 60)\" => MeshCat.SceneTrees.SceneNode(UInt8[0x83, 0xa6, 0x6f, 0x62, 0x6a, 0x65, 0x63, 0x74, 0x84, 0xaa  …  0x73, 0x2f, 0x28, 0x34, 0x37, 0x2c, 0x20, 0x36, 0x30, 0x29], UInt8[0x83, 0xa6, 0x6d, 0x61, 0x74, 0x72, 0x69, 0x78, 0xc7, 0x40  …  0x73, 0x2f, 0x28, 0x34, 0x37, 0x2c, 0x20, 0x36, 0x30, 0x29], Dict{String, Vector{UInt8}}(\"scale\" => [0x84, 0xa8, 0x70, 0x72, 0x6f, 0x70, 0x65, 0x72, 0x74, 0x79  …  0x73, 0x2f, 0x28, 0x34, 0x37, 0x2c, 0x20, 0x36, 0x30, 0x29]), nothing, Dict{String, MeshCat.SceneTrees.SceneNode}()), \"(66, 94)\" => MeshCat.SceneTrees.SceneNode(UInt8[0x83, 0xa6, 0x6f, 0x62, 0x6a, 0x65, 0x63, 0x74, 0x84, 0xaa  …  0x73, 0x2f, 0x28, 0x36, 0x36, 0x2c, 0x20, 0x39, 0x34, 0x29], UInt8[0x83, 0xa6, 0x6d, 0x61, 0x74, 0x72, 0x69, 0x78, 0xc7, 0x40  …  0x73, 0x2f, 0x28, 0x36, 0x36, 0x2c, 0x20, 0x39, 0x34, 0x29], Dict{String, Vector{UInt8}}(\"scale\" => [0x84, 0xa8, 0x70, 0x72, 0x6f, 0x70, 0x65, 0x72, 0x74, 0x79  …  0x73, 0x2f, 0x28, 0x36, 0x36, 0x2c, 0x20, 0x39, 0x34, 0x29]), nothing, Dict{String, MeshCat.SceneTrees.SceneNode}()), \"(35, 59)\" => MeshCat.SceneTrees.SceneNode(UInt8[0x83, 0xa6, 0x6f, 0x62, 0x6a, 0x65, 0x63, 0x74, 0x84, 0xaa  …  0x73, 0x2f, 0x28, 0x33, 0x35, 0x2c, 0x20, 0x35, 0x39, 0x29], UInt8[0x83, 0xa6, 0x6d, 0x61, 0x74, 0x72, 0x69, 0x78, 0xc7, 0x40  …  0x73, 0x2f, 0x28, 0x33, 0x35, 0x2c, 0x20, 0x35, 0x39, 0x29], Dict{String, Vector{UInt8}}(\"scale\" => [0x84, 0xa8, 0x70, 0x72, 0x6f, 0x70, 0x65, 0x72, 0x74, 0x79  …  0x73, 0x2f, 0x28, 0x33, 0x35, 0x2c, 0x20, 0x35, 0x39, 0x29]), nothing, Dict{String, MeshCat.SceneTrees.SceneNode}()), \"(90, 98)\" => MeshCat.SceneTrees.SceneNode(UInt8[0x83, 0xa6, 0x6f, 0x62, 0x6a, 0x65, 0x63, 0x74, 0x84, 0xaa  …  0x73, 0x2f, 0x28, 0x39, 0x30, 0x2c, 0x20, 0x39, 0x38, 0x29], UInt8[0x83, 0xa6, 0x6d, 0x61, 0x74, 0x72, 0x69, 0x78, 0xc7, 0x40  …  0x73, 0x2f, 0x28, 0x39, 0x30, 0x2c, 0x20, 0x39, 0x38, 0x29], Dict{String, Vector{UInt8}}(\"scale\" => [0x84, 0xa8, 0x70, 0x72, 0x6f, 0x70, 0x65, 0x72, 0x74, 0x79  …  0x73, 0x2f, 0x28, 0x39, 0x30, 0x2c, 0x20, 0x39, 0x38, 0x29]), nothing, Dict{String, MeshCat.SceneTrees.SceneNode}()), \"(61, 90)\" => MeshCat.SceneTrees.SceneNode(UInt8[0x83, 0xa6, 0x6f, 0x62, 0x6a, 0x65, 0x63, 0x74, 0x84, 0xaa  …  0x73, 0x2f, 0x28, 0x36, 0x31, 0x2c, 0x20, 0x39, 0x30, 0x29], UInt8[0x83, 0xa6, 0x6d, 0x61, 0x74, 0x72, 0x69, 0x78, 0xc7, 0x40  …  0x73, 0x2f, 0x28, 0x36, 0x31, 0x2c, 0x20, 0x39, 0x30, 0x29], Dict{String, Vector{UInt8}}(\"scale\" => [0x84, 0xa8, 0x70, 0x72, 0x6f, 0x70, 0x65, 0x72, 0x74, 0x79  …  0x73, 0x2f, 0x28, 0x36, 0x31, 0x2c, 0x20, 0x39, 0x30, 0x29]), nothing, Dict{String, MeshCat.SceneTrees.SceneNode}()), \"(15, 22)\" => MeshCat.SceneTrees.SceneNode(UInt8[0x83, 0xa6, 0x6f, 0x62, 0x6a, 0x65, 0x63, 0x74, 0x84, 0xaa  …  0x73, 0x2f, 0x28, 0x31, 0x35, 0x2c, 0x20, 0x32, 0x32, 0x29], UInt8[0x83, 0xa6, 0x6d, 0x61, 0x74, 0x72, 0x69, 0x78, 0xc7, 0x40  …  0x73, 0x2f, 0x28, 0x31, 0x35, 0x2c, 0x20, 0x32, 0x32, 0x29], Dict{String, Vector{UInt8}}(\"scale\" => [0x84, 0xa8, 0x70, 0x72, 0x6f, 0x70, 0x65, 0x72, 0x74, 0x79  …  0x73, 0x2f, 0x28, 0x31, 0x35, 0x2c, 0x20, 0x32, 0x32, 0x29]), nothing, Dict{String, MeshCat.SceneTrees.SceneNode}()), \"(38, 77)\" => MeshCat.SceneTrees.SceneNode(UInt8[0x83, 0xa6, 0x6f, 0x62, 0x6a, 0x65, 0x63, 0x74, 0x84, 0xaa  …  0x73, 0x2f, 0x28, 0x33, 0x38, 0x2c, 0x20, 0x37, 0x37, 0x29], UInt8[0x83, 0xa6, 0x6d, 0x61, 0x74, 0x72, 0x69, 0x78, 0xc7, 0x40  …  0x73, 0x2f, 0x28, 0x33, 0x38, 0x2c, 0x20, 0x37, 0x37, 0x29], Dict{String, Vector{UInt8}}(\"scale\" => [0x84, 0xa8, 0x70, 0x72, 0x6f, 0x70, 0x65, 0x72, 0x74, 0x79  …  0x73, 0x2f, 0x28, 0x33, 0x38, 0x2c, 0x20, 0x37, 0x37, 0x29]), nothing, Dict{String, MeshCat.SceneTrees.SceneNode}()), \"(14, 35)\" => MeshCat.SceneTrees.SceneNode(UInt8[0x83, 0xa6, 0x6f, 0x62, 0x6a, 0x65, 0x63, 0x74, 0x84, 0xaa  …  0x73, 0x2f, 0x28, 0x31, 0x34, 0x2c, 0x20, 0x33, 0x35, 0x29], UInt8[0x83, 0xa6, 0x6d, 0x61, 0x74, 0x72, 0x69, 0x78, 0xc7, 0x40  …  0x73, 0x2f, 0x28, 0x31, 0x34, 0x2c, 0x20, 0x33, 0x35, 0x29], Dict{String, Vector{UInt8}}(\"scale\" => [0x84, 0xa8, 0x70, 0x72, 0x6f, 0x70, 0x65, 0x72, 0x74, 0x79  …  0x73, 0x2f, 0x28, 0x31, 0x34, 0x2c, 0x20, 0x33, 0x35, 0x29]), nothing, Dict{String, MeshCat.SceneTrees.SceneNode}())…)))), \"Axes\" => MeshCat.SceneTrees.SceneNode(nothing, nothing, Dict{String, Vector{UInt8}}(), nothing, Dict{String, MeshCat.SceneTrees.SceneNode}(\"<object>\" => MeshCat.SceneTrees.SceneNode(UInt8[0x83, 0xa6, 0x6f, 0x62, 0x6a, 0x65, 0x63, 0x74, 0x84, 0xaa  …  0x73, 0x2f, 0x3c, 0x6f, 0x62, 0x6a, 0x65, 0x63, 0x74, 0x3e], UInt8[0x83, 0xa6, 0x6d, 0x61, 0x74, 0x72, 0x69, 0x78, 0xc7, 0x40  …  0x73, 0x2f, 0x3c, 0x6f, 0x62, 0x6a, 0x65, 0x63, 0x74, 0x3e], Dict{String, Vector{UInt8}}(), nothing, Dict{String, MeshCat.SceneTrees.SceneNode}()))))), Set{HTTP.WebSockets.WebSocket}(), ip\"127.0.0.1\", 8700))"
      ]
     },
     "execution_count": 8,
     "metadata": {},
     "output_type": "execute_result"
    }
   ],
   "source": [
    "draw_graph3d(model.graph)"
   ]
  },
  {
   "cell_type": "markdown",
   "metadata": {},
   "source": [
    "## Step 3: Defining the step_rule! and running the model\n",
    "\n",
    "In this step we implement the step logic of the Ising model in the `step_rule!` function and run the model for 100 steps. At each step of the simulation we take 100 Monte Carlo steps, where in each Monte Carlo step a node is selected at random and its spin and color values are flipped if the Ising energy condition is satisfied. "
   ]
  },
  {
   "cell_type": "code",
   "execution_count": 9,
   "metadata": {},
   "outputs": [
    {
     "data": {
      "text/plain": [
       "step_rule! (generic function with 1 method)"
      ]
     },
     "execution_count": 9,
     "metadata": {},
     "output_type": "execute_result"
    }
   ],
   "source": [
    "function step_rule!(model)\n",
    "    for i in 1:100\n",
    "        random_node = rand(1:n)\n",
    "        spin = model.graph.nodesprops[random_node].spin\n",
    "        nbr_nodes = neighbor_nodes(random_node, model)\n",
    "        de = 0.0\n",
    "        for node in nbr_nodes\n",
    "            nbr_spin = model.graph.nodesprops[node].spin\n",
    "            de += spin*nbr_spin\n",
    "        end\n",
    "        de = 2*model.parameters.coupl * de\n",
    "        if (de < 0) || (rand() < exp(-de/model.parameters.temp))\n",
    "            model.graph.nodesprops[random_node].spin = - spin\n",
    "            model.graph.nodesprops[random_node].color = spin == -1 ? cl\"black\" : cl\"red\"\n",
    "        end\n",
    "    end\n",
    "end"
   ]
  },
  {
   "cell_type": "code",
   "execution_count": 10,
   "metadata": {},
   "outputs": [],
   "source": [
    "run_model!(model, steps = 100, step_rule = step_rule!)"
   ]
  },
  {
   "cell_type": "markdown",
   "metadata": {},
   "source": [
    "## Step 4: Visualisation\n",
    "In order to draw the model at a specific frame, say 4th, one can do"
   ]
  },
  {
   "cell_type": "code",
   "execution_count": 17,
   "metadata": {},
   "outputs": [
    {
     "name": "stderr",
     "output_type": "stream",
     "text": [
      "\u001b[36m\u001b[1m[ \u001b[22m\u001b[39m\u001b[36m\u001b[1mInfo: \u001b[22m\u001b[39mListening on: 127.0.0.1:8706, thread id: 1\n",
      "\u001b[36m\u001b[1m┌ \u001b[22m\u001b[39m\u001b[36m\u001b[1mInfo: \u001b[22m\u001b[39mMeshCat server started. You can open the visualizer by visiting the following URL in your browser:\n",
      "\u001b[36m\u001b[1m└ \u001b[22m\u001b[39mhttp://127.0.0.1:8706\n"
     ]
    },
    {
     "data": {
      "text/html": [
       "    <div style=\"height: 500px; width: 100%; overflow-x: auto; overflow-y: hidden; resize: both\">\n",
       "    <iframe src=\"http://127.0.0.1:8706\" style=\"width: 100%; height: 100%; border: none\"></iframe>\n",
       "    </div>\n"
      ],
      "text/plain": [
       "MeshCat.DisplayedVisualizer(MeshCat.CoreVisualizer(MeshCat.SceneTrees.SceneNode(nothing, nothing, Dict{String, Vector{UInt8}}(), nothing, Dict{String, MeshCat.SceneTrees.SceneNode}(\"meshcat\" => MeshCat.SceneTrees.SceneNode(nothing, UInt8[0x83, 0xa6, 0x6d, 0x61, 0x74, 0x72, 0x69, 0x78, 0xc7, 0x40  …  0x68, 0xa8, 0x2f, 0x6d, 0x65, 0x73, 0x68, 0x63, 0x61, 0x74], Dict{String, Vector{UInt8}}(), nothing, Dict{String, MeshCat.SceneTrees.SceneNode}(\"nodes\" => MeshCat.SceneTrees.SceneNode(nothing, nothing, Dict{String, Vector{UInt8}}(), nothing, Dict{String, MeshCat.SceneTrees.SceneNode}(\"32\" => MeshCat.SceneTrees.SceneNode(UInt8[0x83, 0xa6, 0x6f, 0x62, 0x6a, 0x65, 0x63, 0x74, 0x84, 0xaa  …  0x74, 0x2f, 0x6e, 0x6f, 0x64, 0x65, 0x73, 0x2f, 0x33, 0x32], UInt8[0x83, 0xa6, 0x6d, 0x61, 0x74, 0x72, 0x69, 0x78, 0xc7, 0x40  …  0x74, 0x2f, 0x6e, 0x6f, 0x64, 0x65, 0x73, 0x2f, 0x33, 0x32], Dict{String, Vector{UInt8}}(), nothing, Dict{String, MeshCat.SceneTrees.SceneNode}()), \"29\" => MeshCat.SceneTrees.SceneNode(UInt8[0x83, 0xa6, 0x6f, 0x62, 0x6a, 0x65, 0x63, 0x74, 0x84, 0xaa  …  0x74, 0x2f, 0x6e, 0x6f, 0x64, 0x65, 0x73, 0x2f, 0x32, 0x39], UInt8[0x83, 0xa6, 0x6d, 0x61, 0x74, 0x72, 0x69, 0x78, 0xc7, 0x40  …  0x74, 0x2f, 0x6e, 0x6f, 0x64, 0x65, 0x73, 0x2f, 0x32, 0x39], Dict{String, Vector{UInt8}}(), nothing, Dict{String, MeshCat.SceneTrees.SceneNode}()), \"1\" => MeshCat.SceneTrees.SceneNode(UInt8[0x83, 0xa6, 0x6f, 0x62, 0x6a, 0x65, 0x63, 0x74, 0x84, 0xaa  …  0x61, 0x74, 0x2f, 0x6e, 0x6f, 0x64, 0x65, 0x73, 0x2f, 0x31], UInt8[0x83, 0xa6, 0x6d, 0x61, 0x74, 0x72, 0x69, 0x78, 0xc7, 0x40  …  0x61, 0x74, 0x2f, 0x6e, 0x6f, 0x64, 0x65, 0x73, 0x2f, 0x31], Dict{String, Vector{UInt8}}(), nothing, Dict{String, MeshCat.SceneTrees.SceneNode}()), \"54\" => MeshCat.SceneTrees.SceneNode(UInt8[0x83, 0xa6, 0x6f, 0x62, 0x6a, 0x65, 0x63, 0x74, 0x84, 0xaa  …  0x74, 0x2f, 0x6e, 0x6f, 0x64, 0x65, 0x73, 0x2f, 0x35, 0x34], UInt8[0x83, 0xa6, 0x6d, 0x61, 0x74, 0x72, 0x69, 0x78, 0xc7, 0x40  …  0x74, 0x2f, 0x6e, 0x6f, 0x64, 0x65, 0x73, 0x2f, 0x35, 0x34], Dict{String, Vector{UInt8}}(), nothing, Dict{String, MeshCat.SceneTrees.SceneNode}()), \"78\" => MeshCat.SceneTrees.SceneNode(UInt8[0x83, 0xa6, 0x6f, 0x62, 0x6a, 0x65, 0x63, 0x74, 0x84, 0xaa  …  0x74, 0x2f, 0x6e, 0x6f, 0x64, 0x65, 0x73, 0x2f, 0x37, 0x38], UInt8[0x83, 0xa6, 0x6d, 0x61, 0x74, 0x72, 0x69, 0x78, 0xc7, 0x40  …  0x74, 0x2f, 0x6e, 0x6f, 0x64, 0x65, 0x73, 0x2f, 0x37, 0x38], Dict{String, Vector{UInt8}}(), nothing, Dict{String, MeshCat.SceneTrees.SceneNode}()), \"81\" => MeshCat.SceneTrees.SceneNode(UInt8[0x83, 0xa6, 0x6f, 0x62, 0x6a, 0x65, 0x63, 0x74, 0x84, 0xaa  …  0x74, 0x2f, 0x6e, 0x6f, 0x64, 0x65, 0x73, 0x2f, 0x38, 0x31], UInt8[0x83, 0xa6, 0x6d, 0x61, 0x74, 0x72, 0x69, 0x78, 0xc7, 0x40  …  0x74, 0x2f, 0x6e, 0x6f, 0x64, 0x65, 0x73, 0x2f, 0x38, 0x31], Dict{String, Vector{UInt8}}(), nothing, Dict{String, MeshCat.SceneTrees.SceneNode}()), \"2\" => MeshCat.SceneTrees.SceneNode(UInt8[0x83, 0xa6, 0x6f, 0x62, 0x6a, 0x65, 0x63, 0x74, 0x84, 0xaa  …  0x61, 0x74, 0x2f, 0x6e, 0x6f, 0x64, 0x65, 0x73, 0x2f, 0x32], UInt8[0x83, 0xa6, 0x6d, 0x61, 0x74, 0x72, 0x69, 0x78, 0xc7, 0x40  …  0x61, 0x74, 0x2f, 0x6e, 0x6f, 0x64, 0x65, 0x73, 0x2f, 0x32], Dict{String, Vector{UInt8}}(), nothing, Dict{String, MeshCat.SceneTrees.SceneNode}()), \"74\" => MeshCat.SceneTrees.SceneNode(UInt8[0x83, 0xa6, 0x6f, 0x62, 0x6a, 0x65, 0x63, 0x74, 0x84, 0xaa  …  0x74, 0x2f, 0x6e, 0x6f, 0x64, 0x65, 0x73, 0x2f, 0x37, 0x34], UInt8[0x83, 0xa6, 0x6d, 0x61, 0x74, 0x72, 0x69, 0x78, 0xc7, 0x40  …  0x74, 0x2f, 0x6e, 0x6f, 0x64, 0x65, 0x73, 0x2f, 0x37, 0x34], Dict{String, Vector{UInt8}}(), nothing, Dict{String, MeshCat.SceneTrees.SceneNode}()), \"41\" => MeshCat.SceneTrees.SceneNode(UInt8[0x83, 0xa6, 0x6f, 0x62, 0x6a, 0x65, 0x63, 0x74, 0x84, 0xaa  …  0x74, 0x2f, 0x6e, 0x6f, 0x64, 0x65, 0x73, 0x2f, 0x34, 0x31], UInt8[0x83, 0xa6, 0x6d, 0x61, 0x74, 0x72, 0x69, 0x78, 0xc7, 0x40  …  0x74, 0x2f, 0x6e, 0x6f, 0x64, 0x65, 0x73, 0x2f, 0x34, 0x31], Dict{String, Vector{UInt8}}(), nothing, Dict{String, MeshCat.SceneTrees.SceneNode}()), \"65\" => MeshCat.SceneTrees.SceneNode(UInt8[0x83, 0xa6, 0x6f, 0x62, 0x6a, 0x65, 0x63, 0x74, 0x84, 0xaa  …  0x74, 0x2f, 0x6e, 0x6f, 0x64, 0x65, 0x73, 0x2f, 0x36, 0x35], UInt8[0x83, 0xa6, 0x6d, 0x61, 0x74, 0x72, 0x69, 0x78, 0xc7, 0x40  …  0x74, 0x2f, 0x6e, 0x6f, 0x64, 0x65, 0x73, 0x2f, 0x36, 0x35], Dict{String, Vector{UInt8}}(), nothing, Dict{String, MeshCat.SceneTrees.SceneNode}())…)), \"bbox_line_segments\" => MeshCat.SceneTrees.SceneNode(nothing, nothing, Dict{String, Vector{UInt8}}(), nothing, Dict{String, MeshCat.SceneTrees.SceneNode}(\"4\" => MeshCat.SceneTrees.SceneNode(UInt8[0x83, 0xa6, 0x6f, 0x62, 0x6a, 0x65, 0x63, 0x74, 0x84, 0xaa  …  0x73, 0x65, 0x67, 0x6d, 0x65, 0x6e, 0x74, 0x73, 0x2f, 0x34], nothing, Dict{String, Vector{UInt8}}(), nothing, Dict{String, MeshCat.SceneTrees.SceneNode}()), \"1\" => MeshCat.SceneTrees.SceneNode(UInt8[0x83, 0xa6, 0x6f, 0x62, 0x6a, 0x65, 0x63, 0x74, 0x84, 0xaa  …  0x73, 0x65, 0x67, 0x6d, 0x65, 0x6e, 0x74, 0x73, 0x2f, 0x31], nothing, Dict{String, Vector{UInt8}}(), nothing, Dict{String, MeshCat.SceneTrees.SceneNode}()), \"12\" => MeshCat.SceneTrees.SceneNode(UInt8[0x83, 0xa6, 0x6f, 0x62, 0x6a, 0x65, 0x63, 0x74, 0x84, 0xaa  …  0x65, 0x67, 0x6d, 0x65, 0x6e, 0x74, 0x73, 0x2f, 0x31, 0x32], nothing, Dict{String, Vector{UInt8}}(), nothing, Dict{String, MeshCat.SceneTrees.SceneNode}()), \"2\" => MeshCat.SceneTrees.SceneNode(UInt8[0x83, 0xa6, 0x6f, 0x62, 0x6a, 0x65, 0x63, 0x74, 0x84, 0xaa  …  0x73, 0x65, 0x67, 0x6d, 0x65, 0x6e, 0x74, 0x73, 0x2f, 0x32], nothing, Dict{String, Vector{UInt8}}(), nothing, Dict{String, MeshCat.SceneTrees.SceneNode}()), \"6\" => MeshCat.SceneTrees.SceneNode(UInt8[0x83, 0xa6, 0x6f, 0x62, 0x6a, 0x65, 0x63, 0x74, 0x84, 0xaa  …  0x73, 0x65, 0x67, 0x6d, 0x65, 0x6e, 0x74, 0x73, 0x2f, 0x36], nothing, Dict{String, Vector{UInt8}}(), nothing, Dict{String, MeshCat.SceneTrees.SceneNode}()), \"11\" => MeshCat.SceneTrees.SceneNode(UInt8[0x83, 0xa6, 0x6f, 0x62, 0x6a, 0x65, 0x63, 0x74, 0x84, 0xaa  …  0x65, 0x67, 0x6d, 0x65, 0x6e, 0x74, 0x73, 0x2f, 0x31, 0x31], nothing, Dict{String, Vector{UInt8}}(), nothing, Dict{String, MeshCat.SceneTrees.SceneNode}()), \"5\" => MeshCat.SceneTrees.SceneNode(UInt8[0x83, 0xa6, 0x6f, 0x62, 0x6a, 0x65, 0x63, 0x74, 0x84, 0xaa  …  0x73, 0x65, 0x67, 0x6d, 0x65, 0x6e, 0x74, 0x73, 0x2f, 0x35], nothing, Dict{String, Vector{UInt8}}(), nothing, Dict{String, MeshCat.SceneTrees.SceneNode}()), \"7\" => MeshCat.SceneTrees.SceneNode(UInt8[0x83, 0xa6, 0x6f, 0x62, 0x6a, 0x65, 0x63, 0x74, 0x84, 0xaa  …  0x73, 0x65, 0x67, 0x6d, 0x65, 0x6e, 0x74, 0x73, 0x2f, 0x37], nothing, Dict{String, Vector{UInt8}}(), nothing, Dict{String, MeshCat.SceneTrees.SceneNode}()), \"8\" => MeshCat.SceneTrees.SceneNode(UInt8[0x83, 0xa6, 0x6f, 0x62, 0x6a, 0x65, 0x63, 0x74, 0x84, 0xaa  …  0x73, 0x65, 0x67, 0x6d, 0x65, 0x6e, 0x74, 0x73, 0x2f, 0x38], nothing, Dict{String, Vector{UInt8}}(), nothing, Dict{String, MeshCat.SceneTrees.SceneNode}()), \"10\" => MeshCat.SceneTrees.SceneNode(UInt8[0x83, 0xa6, 0x6f, 0x62, 0x6a, 0x65, 0x63, 0x74, 0x84, 0xaa  …  0x65, 0x67, 0x6d, 0x65, 0x6e, 0x74, 0x73, 0x2f, 0x31, 0x30], nothing, Dict{String, Vector{UInt8}}(), nothing, Dict{String, MeshCat.SceneTrees.SceneNode}())…)), \"edges\" => MeshCat.SceneTrees.SceneNode(nothing, nothing, Dict{String, Vector{UInt8}}(), nothing, Dict{String, MeshCat.SceneTrees.SceneNode}(\"(38, 70)\" => MeshCat.SceneTrees.SceneNode(UInt8[0x83, 0xa6, 0x6f, 0x62, 0x6a, 0x65, 0x63, 0x74, 0x84, 0xaa  …  0x73, 0x2f, 0x28, 0x33, 0x38, 0x2c, 0x20, 0x37, 0x30, 0x29], UInt8[0x83, 0xa6, 0x6d, 0x61, 0x74, 0x72, 0x69, 0x78, 0xc7, 0x40  …  0x73, 0x2f, 0x28, 0x33, 0x38, 0x2c, 0x20, 0x37, 0x30, 0x29], Dict{String, Vector{UInt8}}(\"scale\" => [0x84, 0xa8, 0x70, 0x72, 0x6f, 0x70, 0x65, 0x72, 0x74, 0x79  …  0x73, 0x2f, 0x28, 0x33, 0x38, 0x2c, 0x20, 0x37, 0x30, 0x29]), nothing, Dict{String, MeshCat.SceneTrees.SceneNode}()), \"(3, 67)\" => MeshCat.SceneTrees.SceneNode(UInt8[0x83, 0xa6, 0x6f, 0x62, 0x6a, 0x65, 0x63, 0x74, 0x84, 0xaa  …  0x65, 0x73, 0x2f, 0x28, 0x33, 0x2c, 0x20, 0x36, 0x37, 0x29], UInt8[0x83, 0xa6, 0x6d, 0x61, 0x74, 0x72, 0x69, 0x78, 0xc7, 0x40  …  0x65, 0x73, 0x2f, 0x28, 0x33, 0x2c, 0x20, 0x36, 0x37, 0x29], Dict{String, Vector{UInt8}}(\"scale\" => [0x84, 0xa8, 0x70, 0x72, 0x6f, 0x70, 0x65, 0x72, 0x74, 0x79  …  0x65, 0x73, 0x2f, 0x28, 0x33, 0x2c, 0x20, 0x36, 0x37, 0x29]), nothing, Dict{String, MeshCat.SceneTrees.SceneNode}()), \"(16, 72)\" => MeshCat.SceneTrees.SceneNode(UInt8[0x83, 0xa6, 0x6f, 0x62, 0x6a, 0x65, 0x63, 0x74, 0x84, 0xaa  …  0x73, 0x2f, 0x28, 0x31, 0x36, 0x2c, 0x20, 0x37, 0x32, 0x29], UInt8[0x83, 0xa6, 0x6d, 0x61, 0x74, 0x72, 0x69, 0x78, 0xc7, 0x40  …  0x73, 0x2f, 0x28, 0x31, 0x36, 0x2c, 0x20, 0x37, 0x32, 0x29], Dict{String, Vector{UInt8}}(\"scale\" => [0x84, 0xa8, 0x70, 0x72, 0x6f, 0x70, 0x65, 0x72, 0x74, 0x79  …  0x73, 0x2f, 0x28, 0x31, 0x36, 0x2c, 0x20, 0x37, 0x32, 0x29]), nothing, Dict{String, MeshCat.SceneTrees.SceneNode}()), \"(47, 97)\" => MeshCat.SceneTrees.SceneNode(UInt8[0x83, 0xa6, 0x6f, 0x62, 0x6a, 0x65, 0x63, 0x74, 0x84, 0xaa  …  0x73, 0x2f, 0x28, 0x34, 0x37, 0x2c, 0x20, 0x39, 0x37, 0x29], UInt8[0x83, 0xa6, 0x6d, 0x61, 0x74, 0x72, 0x69, 0x78, 0xc7, 0x40  …  0x73, 0x2f, 0x28, 0x34, 0x37, 0x2c, 0x20, 0x39, 0x37, 0x29], Dict{String, Vector{UInt8}}(\"scale\" => [0x84, 0xa8, 0x70, 0x72, 0x6f, 0x70, 0x65, 0x72, 0x74, 0x79  …  0x73, 0x2f, 0x28, 0x34, 0x37, 0x2c, 0x20, 0x39, 0x37, 0x29]), nothing, Dict{String, MeshCat.SceneTrees.SceneNode}()), \"(27, 95)\" => MeshCat.SceneTrees.SceneNode(UInt8[0x83, 0xa6, 0x6f, 0x62, 0x6a, 0x65, 0x63, 0x74, 0x84, 0xaa  …  0x73, 0x2f, 0x28, 0x32, 0x37, 0x2c, 0x20, 0x39, 0x35, 0x29], UInt8[0x83, 0xa6, 0x6d, 0x61, 0x74, 0x72, 0x69, 0x78, 0xc7, 0x40  …  0x73, 0x2f, 0x28, 0x32, 0x37, 0x2c, 0x20, 0x39, 0x35, 0x29], Dict{String, Vector{UInt8}}(\"scale\" => [0x84, 0xa8, 0x70, 0x72, 0x6f, 0x70, 0x65, 0x72, 0x74, 0x79  …  0x73, 0x2f, 0x28, 0x32, 0x37, 0x2c, 0x20, 0x39, 0x35, 0x29]), nothing, Dict{String, MeshCat.SceneTrees.SceneNode}()), \"(47, 60)\" => MeshCat.SceneTrees.SceneNode(UInt8[0x83, 0xa6, 0x6f, 0x62, 0x6a, 0x65, 0x63, 0x74, 0x84, 0xaa  …  0x73, 0x2f, 0x28, 0x34, 0x37, 0x2c, 0x20, 0x36, 0x30, 0x29], UInt8[0x83, 0xa6, 0x6d, 0x61, 0x74, 0x72, 0x69, 0x78, 0xc7, 0x40  …  0x73, 0x2f, 0x28, 0x34, 0x37, 0x2c, 0x20, 0x36, 0x30, 0x29], Dict{String, Vector{UInt8}}(\"scale\" => [0x84, 0xa8, 0x70, 0x72, 0x6f, 0x70, 0x65, 0x72, 0x74, 0x79  …  0x73, 0x2f, 0x28, 0x34, 0x37, 0x2c, 0x20, 0x36, 0x30, 0x29]), nothing, Dict{String, MeshCat.SceneTrees.SceneNode}()), \"(23, 29)\" => MeshCat.SceneTrees.SceneNode(UInt8[0x83, 0xa6, 0x6f, 0x62, 0x6a, 0x65, 0x63, 0x74, 0x84, 0xaa  …  0x73, 0x2f, 0x28, 0x32, 0x33, 0x2c, 0x20, 0x32, 0x39, 0x29], UInt8[0x83, 0xa6, 0x6d, 0x61, 0x74, 0x72, 0x69, 0x78, 0xc7, 0x40  …  0x73, 0x2f, 0x28, 0x32, 0x33, 0x2c, 0x20, 0x32, 0x39, 0x29], Dict{String, Vector{UInt8}}(\"scale\" => [0x84, 0xa8, 0x70, 0x72, 0x6f, 0x70, 0x65, 0x72, 0x74, 0x79  …  0x73, 0x2f, 0x28, 0x32, 0x33, 0x2c, 0x20, 0x32, 0x39, 0x29]), nothing, Dict{String, MeshCat.SceneTrees.SceneNode}()), \"(17, 20)\" => MeshCat.SceneTrees.SceneNode(UInt8[0x83, 0xa6, 0x6f, 0x62, 0x6a, 0x65, 0x63, 0x74, 0x84, 0xaa  …  0x73, 0x2f, 0x28, 0x31, 0x37, 0x2c, 0x20, 0x32, 0x30, 0x29], UInt8[0x83, 0xa6, 0x6d, 0x61, 0x74, 0x72, 0x69, 0x78, 0xc7, 0x40  …  0x73, 0x2f, 0x28, 0x31, 0x37, 0x2c, 0x20, 0x32, 0x30, 0x29], Dict{String, Vector{UInt8}}(\"scale\" => [0x84, 0xa8, 0x70, 0x72, 0x6f, 0x70, 0x65, 0x72, 0x74, 0x79  …  0x73, 0x2f, 0x28, 0x31, 0x37, 0x2c, 0x20, 0x32, 0x30, 0x29]), nothing, Dict{String, MeshCat.SceneTrees.SceneNode}()), \"(66, 94)\" => MeshCat.SceneTrees.SceneNode(UInt8[0x83, 0xa6, 0x6f, 0x62, 0x6a, 0x65, 0x63, 0x74, 0x84, 0xaa  …  0x73, 0x2f, 0x28, 0x36, 0x36, 0x2c, 0x20, 0x39, 0x34, 0x29], UInt8[0x83, 0xa6, 0x6d, 0x61, 0x74, 0x72, 0x69, 0x78, 0xc7, 0x40  …  0x73, 0x2f, 0x28, 0x36, 0x36, 0x2c, 0x20, 0x39, 0x34, 0x29], Dict{String, Vector{UInt8}}(\"scale\" => [0x84, 0xa8, 0x70, 0x72, 0x6f, 0x70, 0x65, 0x72, 0x74, 0x79  …  0x73, 0x2f, 0x28, 0x36, 0x36, 0x2c, 0x20, 0x39, 0x34, 0x29]), nothing, Dict{String, MeshCat.SceneTrees.SceneNode}()), \"(35, 59)\" => MeshCat.SceneTrees.SceneNode(UInt8[0x83, 0xa6, 0x6f, 0x62, 0x6a, 0x65, 0x63, 0x74, 0x84, 0xaa  …  0x73, 0x2f, 0x28, 0x33, 0x35, 0x2c, 0x20, 0x35, 0x39, 0x29], UInt8[0x83, 0xa6, 0x6d, 0x61, 0x74, 0x72, 0x69, 0x78, 0xc7, 0x40  …  0x73, 0x2f, 0x28, 0x33, 0x35, 0x2c, 0x20, 0x35, 0x39, 0x29], Dict{String, Vector{UInt8}}(\"scale\" => [0x84, 0xa8, 0x70, 0x72, 0x6f, 0x70, 0x65, 0x72, 0x74, 0x79  …  0x73, 0x2f, 0x28, 0x33, 0x35, 0x2c, 0x20, 0x35, 0x39, 0x29]), nothing, Dict{String, MeshCat.SceneTrees.SceneNode}())…)))), \"Axes\" => MeshCat.SceneTrees.SceneNode(nothing, nothing, Dict{String, Vector{UInt8}}(), nothing, Dict{String, MeshCat.SceneTrees.SceneNode}(\"<object>\" => MeshCat.SceneTrees.SceneNode(UInt8[0x83, 0xa6, 0x6f, 0x62, 0x6a, 0x65, 0x63, 0x74, 0x84, 0xaa  …  0x73, 0x2f, 0x3c, 0x6f, 0x62, 0x6a, 0x65, 0x63, 0x74, 0x3e], UInt8[0x83, 0xa6, 0x6d, 0x61, 0x74, 0x72, 0x69, 0x78, 0xc7, 0x40  …  0x73, 0x2f, 0x3c, 0x6f, 0x62, 0x6a, 0x65, 0x63, 0x74, 0x3e], Dict{String, Vector{UInt8}}(), nothing, Dict{String, MeshCat.SceneTrees.SceneNode}()))))), Set{HTTP.WebSockets.WebSocket}(), ip\"127.0.0.1\", 8706))"
      ]
     },
     "execution_count": 17,
     "metadata": {},
     "output_type": "execute_result"
    }
   ],
   "source": [
    "draw_frame(model, frame = 4)"
   ]
  },
  {
   "cell_type": "markdown",
   "metadata": {},
   "source": [
    "If one wants to see the animation of the model run, it can be done as "
   ]
  },
  {
   "cell_type": "code",
   "execution_count": 20,
   "metadata": {
    "scrolled": true
   },
   "outputs": [
    {
     "name": "stderr",
     "output_type": "stream",
     "text": [
      "\u001b[36m\u001b[1m[ \u001b[22m\u001b[39m\u001b[36m\u001b[1mInfo: \u001b[22m\u001b[39mListening on: 127.0.0.1:8709, thread id: 1\n",
      "\u001b[36m\u001b[1m┌ \u001b[22m\u001b[39m\u001b[36m\u001b[1mInfo: \u001b[22m\u001b[39mMeshCat server started. You can open the visualizer by visiting the following URL in your browser:\n",
      "\u001b[36m\u001b[1m└ \u001b[22m\u001b[39mhttp://127.0.0.1:8709\n"
     ]
    },
    {
     "data": {
      "application/vnd.webio.node+json": {
       "children": [
        {
         "children": [
          {
           "children": [
            {
             "children": [
              {
               "children": [
                {
                 "children": [
                  {
                   "children": [
                    {
                     "children": [
                      "time"
                     ],
                     "instanceArgs": {
                      "namespace": "html",
                      "tag": "label"
                     },
                     "nodeType": "DOM",
                     "props": {
                      "className": "interact ",
                      "style": {
                       "padding": "5px 10px 0px 10px"
                      }
                     },
                     "type": "node"
                    }
                   ],
                   "instanceArgs": {
                    "namespace": "html",
                    "tag": "div"
                   },
                   "nodeType": "DOM",
                   "props": {
                    "className": "interact-flex-row-left"
                   },
                   "type": "node"
                  },
                  {
                   "children": [
                    {
                     "children": [],
                     "instanceArgs": {
                      "namespace": "html",
                      "tag": "input"
                     },
                     "nodeType": "DOM",
                     "props": {
                      "attributes": {
                       "data-bind": "numericValue: index, valueUpdate: 'input', event: {change: function (){this.changes(this.changes()+1)}}",
                       "orient": "horizontal",
                       "type": "range"
                      },
                      "className": "slider slider is-fullwidth",
                      "max": 101,
                      "min": 1,
                      "step": 1,
                      "style": {}
                     },
                     "type": "node"
                    }
                   ],
                   "instanceArgs": {
                    "namespace": "html",
                    "tag": "div"
                   },
                   "nodeType": "DOM",
                   "props": {
                    "className": "interact-flex-row-center"
                   },
                   "type": "node"
                  },
                  {
                   "children": [
                    {
                     "children": [],
                     "instanceArgs": {
                      "namespace": "html",
                      "tag": "p"
                     },
                     "nodeType": "DOM",
                     "props": {
                      "attributes": {
                       "data-bind": "text: formatted_val"
                      }
                     },
                     "type": "node"
                    }
                   ],
                   "instanceArgs": {
                    "namespace": "html",
                    "tag": "div"
                   },
                   "nodeType": "DOM",
                   "props": {
                    "className": "interact-flex-row-right"
                   },
                   "type": "node"
                  }
                 ],
                 "instanceArgs": {
                  "namespace": "html",
                  "tag": "div"
                 },
                 "nodeType": "DOM",
                 "props": {
                  "className": "interact-flex-row interact-widget"
                 },
                 "type": "node"
                }
               ],
               "instanceArgs": {
                "handlers": {
                 "changes": [
                  "(function (val){return (val!=this.model[\"changes\"]()) ? (this.valueFromJulia[\"changes\"]=true, this.model[\"changes\"](val)) : undefined})"
                 ],
                 "index": [
                  "(function (val){return (val!=this.model[\"index\"]()) ? (this.valueFromJulia[\"index\"]=true, this.model[\"index\"](val)) : undefined})"
                 ]
                },
                "id": "7886551202898632937",
                "imports": {
                 "data": [
                  {
                   "name": "knockout",
                   "type": "js",
                   "url": "/assetserver/727383f2a47bd31570b7da84eee7b022dd6d7c78-knockout.js"
                  },
                  {
                   "name": "knockout_punches",
                   "type": "js",
                   "url": "/assetserver/382b41b3b1bd9f26f75861d360bad7f8beea211f-knockout_punches.js"
                  },
                  {
                   "name": null,
                   "type": "js",
                   "url": "/assetserver/5ab20f1060420992a9b82a65b735dee4d81ef413-all.js"
                  },
                  {
                   "name": null,
                   "type": "css",
                   "url": "/assetserver/1cc0ed62837210b80a182cc3676512f895dab686-style.css"
                  },
                  {
                   "name": null,
                   "type": "css",
                   "url": "/assetserver/2eee816f616df3549d7044d45e744fbf8d42bfa1-bulma_confined.min.css"
                  }
                 ],
                 "type": "async_block"
                },
                "mount_callbacks": [
                 "function () {\n    var handler = (function (ko, koPunches) {\n    ko.punches.enableAll();\n    ko.bindingHandlers.numericValue = {\n        init: function(element, valueAccessor, allBindings, data, context) {\n            var stringified = ko.observable(ko.unwrap(valueAccessor()));\n            stringified.subscribe(function(value) {\n                var val = parseFloat(value);\n                if (!isNaN(val)) {\n                    valueAccessor()(val);\n                }\n            });\n            valueAccessor().subscribe(function(value) {\n                var str = JSON.stringify(value);\n                if ((str == \"0\") && ([\"-0\", \"-0.\"].indexOf(stringified()) >= 0))\n                     return;\n                 if ([\"null\", \"\"].indexOf(str) >= 0)\n                     return;\n                stringified(str);\n            });\n            ko.applyBindingsToNode(\n                element,\n                {\n                    value: stringified,\n                    valueUpdate: allBindings.get('valueUpdate'),\n                },\n                context,\n            );\n        }\n    };\n    var json_data = {\"formatted_vals\":[\"1\",\"2\",\"3\",\"4\",\"5\",\"6\",\"7\",\"8\",\"9\",\"10\",\"11\",\"12\",\"13\",\"14\",\"15\",\"16\",\"17\",\"18\",\"19\",\"20\",\"21\",\"22\",\"23\",\"24\",\"25\",\"26\",\"27\",\"28\",\"29\",\"30\",\"31\",\"32\",\"33\",\"34\",\"35\",\"36\",\"37\",\"38\",\"39\",\"40\",\"41\",\"42\",\"43\",\"44\",\"45\",\"46\",\"47\",\"48\",\"49\",\"50\",\"51\",\"52\",\"53\",\"54\",\"55\",\"56\",\"57\",\"58\",\"59\",\"60\",\"61\",\"62\",\"63\",\"64\",\"65\",\"66\",\"67\",\"68\",\"69\",\"70\",\"71\",\"72\",\"73\",\"74\",\"75\",\"76\",\"77\",\"78\",\"79\",\"80\",\"81\",\"82\",\"83\",\"84\",\"85\",\"86\",\"87\",\"88\",\"89\",\"90\",\"91\",\"92\",\"93\",\"94\",\"95\",\"96\",\"97\",\"98\",\"99\",\"100\",\"101\"],\"changes\":WebIO.getval({\"name\":\"changes\",\"scope\":\"7886551202898632937\",\"id\":\"16354914257684081658\",\"type\":\"observable\"}),\"index\":WebIO.getval({\"name\":\"index\",\"scope\":\"7886551202898632937\",\"id\":\"7389248436327023728\",\"type\":\"observable\"})};\n    var self = this;\n    function AppViewModel() {\n        for (var key in json_data) {\n            var el = json_data[key];\n            this[key] = Array.isArray(el) ? ko.observableArray(el) : ko.observable(el);\n        }\n        \n        [this[\"formatted_val\"]=ko.computed(    function(){\n        return this.formatted_vals()[parseInt(this.index())-(1)];\n    }\n,this)]\n        [this[\"changes\"].subscribe((function (val){!(this.valueFromJulia[\"changes\"]) ? (WebIO.setval({\"name\":\"changes\",\"scope\":\"7886551202898632937\",\"id\":\"16354914257684081658\",\"type\":\"observable\"},val)) : undefined; return this.valueFromJulia[\"changes\"]=false}),self),this[\"index\"].subscribe((function (val){!(this.valueFromJulia[\"index\"]) ? (WebIO.setval({\"name\":\"index\",\"scope\":\"7886551202898632937\",\"id\":\"7389248436327023728\",\"type\":\"observable\"},val)) : undefined; return this.valueFromJulia[\"index\"]=false}),self)]\n        \n    }\n    self.model = new AppViewModel();\n    self.valueFromJulia = {};\n    for (var key in json_data) {\n        self.valueFromJulia[key] = false;\n    }\n    ko.applyBindings(self.model, self.dom);\n}\n);\n    (WebIO.importBlock({\"data\":[{\"name\":\"knockout\",\"type\":\"js\",\"url\":\"/assetserver/727383f2a47bd31570b7da84eee7b022dd6d7c78-knockout.js\"},{\"name\":\"knockout_punches\",\"type\":\"js\",\"url\":\"/assetserver/382b41b3b1bd9f26f75861d360bad7f8beea211f-knockout_punches.js\"}],\"type\":\"async_block\"})).then((imports) => handler.apply(this, imports));\n}\n"
                ],
                "observables": {
                 "changes": {
                  "id": "16354914257684081658",
                  "sync": false,
                  "value": 0
                 },
                 "index": {
                  "id": "7389248436327023728",
                  "sync": true,
                  "value": 51
                 }
                },
                "systemjs_options": null
               },
               "nodeType": "Scope",
               "props": {},
               "type": "node"
              }
             ],
             "instanceArgs": {
              "namespace": "html",
              "tag": "div"
             },
             "nodeType": "DOM",
             "props": {
              "className": "field interact-widget"
             },
             "type": "node"
            },
            {
             "children": [
              {
               "children": [
                {
                 "children": [
                  {
                   "children": [
                    {
                     "children": [
                      "scale"
                     ],
                     "instanceArgs": {
                      "namespace": "html",
                      "tag": "label"
                     },
                     "nodeType": "DOM",
                     "props": {
                      "className": "interact ",
                      "style": {
                       "padding": "5px 10px 0px 10px"
                      }
                     },
                     "type": "node"
                    }
                   ],
                   "instanceArgs": {
                    "namespace": "html",
                    "tag": "div"
                   },
                   "nodeType": "DOM",
                   "props": {
                    "className": "interact-flex-row-left"
                   },
                   "type": "node"
                  },
                  {
                   "children": [
                    {
                     "children": [],
                     "instanceArgs": {
                      "namespace": "html",
                      "tag": "input"
                     },
                     "nodeType": "DOM",
                     "props": {
                      "attributes": {
                       "data-bind": "numericValue: index, valueUpdate: 'input', event: {change: function (){this.changes(this.changes()+1)}}",
                       "orient": "horizontal",
                       "type": "range"
                      },
                      "className": "slider slider is-fullwidth",
                      "max": 20,
                      "min": 1,
                      "step": 1,
                      "style": {}
                     },
                     "type": "node"
                    }
                   ],
                   "instanceArgs": {
                    "namespace": "html",
                    "tag": "div"
                   },
                   "nodeType": "DOM",
                   "props": {
                    "className": "interact-flex-row-center"
                   },
                   "type": "node"
                  },
                  {
                   "children": [
                    {
                     "children": [],
                     "instanceArgs": {
                      "namespace": "html",
                      "tag": "p"
                     },
                     "nodeType": "DOM",
                     "props": {
                      "attributes": {
                       "data-bind": "text: formatted_val"
                      }
                     },
                     "type": "node"
                    }
                   ],
                   "instanceArgs": {
                    "namespace": "html",
                    "tag": "div"
                   },
                   "nodeType": "DOM",
                   "props": {
                    "className": "interact-flex-row-right"
                   },
                   "type": "node"
                  }
                 ],
                 "instanceArgs": {
                  "namespace": "html",
                  "tag": "div"
                 },
                 "nodeType": "DOM",
                 "props": {
                  "className": "interact-flex-row interact-widget"
                 },
                 "type": "node"
                }
               ],
               "instanceArgs": {
                "handlers": {
                 "changes": [
                  "(function (val){return (val!=this.model[\"changes\"]()) ? (this.valueFromJulia[\"changes\"]=true, this.model[\"changes\"](val)) : undefined})"
                 ],
                 "index": [
                  "(function (val){return (val!=this.model[\"index\"]()) ? (this.valueFromJulia[\"index\"]=true, this.model[\"index\"](val)) : undefined})"
                 ]
                },
                "id": "15440117328126892009",
                "imports": {
                 "data": [
                  {
                   "name": "knockout",
                   "type": "js",
                   "url": "/assetserver/727383f2a47bd31570b7da84eee7b022dd6d7c78-knockout.js"
                  },
                  {
                   "name": "knockout_punches",
                   "type": "js",
                   "url": "/assetserver/382b41b3b1bd9f26f75861d360bad7f8beea211f-knockout_punches.js"
                  },
                  {
                   "name": null,
                   "type": "js",
                   "url": "/assetserver/5ab20f1060420992a9b82a65b735dee4d81ef413-all.js"
                  },
                  {
                   "name": null,
                   "type": "css",
                   "url": "/assetserver/1cc0ed62837210b80a182cc3676512f895dab686-style.css"
                  },
                  {
                   "name": null,
                   "type": "css",
                   "url": "/assetserver/2eee816f616df3549d7044d45e744fbf8d42bfa1-bulma_confined.min.css"
                  }
                 ],
                 "type": "async_block"
                },
                "mount_callbacks": [
                 "function () {\n    var handler = (function (ko, koPunches) {\n    ko.punches.enableAll();\n    ko.bindingHandlers.numericValue = {\n        init: function(element, valueAccessor, allBindings, data, context) {\n            var stringified = ko.observable(ko.unwrap(valueAccessor()));\n            stringified.subscribe(function(value) {\n                var val = parseFloat(value);\n                if (!isNaN(val)) {\n                    valueAccessor()(val);\n                }\n            });\n            valueAccessor().subscribe(function(value) {\n                var str = JSON.stringify(value);\n                if ((str == \"0\") && ([\"-0\", \"-0.\"].indexOf(stringified()) >= 0))\n                     return;\n                 if ([\"null\", \"\"].indexOf(str) >= 0)\n                     return;\n                stringified(str);\n            });\n            ko.applyBindingsToNode(\n                element,\n                {\n                    value: stringified,\n                    valueUpdate: allBindings.get('valueUpdate'),\n                },\n                context,\n            );\n        }\n    };\n    var json_data = {\"formatted_vals\":[\"0.1\",\"0.2\",\"0.3\",\"0.4\",\"0.5\",\"0.6\",\"0.7\",\"0.8\",\"0.9\",\"1.0\",\"1.1\",\"1.2\",\"1.3\",\"1.4\",\"1.5\",\"1.6\",\"1.7\",\"1.8\",\"1.9\",\"2.0\"],\"changes\":WebIO.getval({\"name\":\"changes\",\"scope\":\"15440117328126892009\",\"id\":\"17617117404679292052\",\"type\":\"observable\"}),\"index\":WebIO.getval({\"name\":\"index\",\"scope\":\"15440117328126892009\",\"id\":\"14818653520895839042\",\"type\":\"observable\"})};\n    var self = this;\n    function AppViewModel() {\n        for (var key in json_data) {\n            var el = json_data[key];\n            this[key] = Array.isArray(el) ? ko.observableArray(el) : ko.observable(el);\n        }\n        \n        [this[\"formatted_val\"]=ko.computed(    function(){\n        return this.formatted_vals()[parseInt(this.index())-(1)];\n    }\n,this)]\n        [this[\"changes\"].subscribe((function (val){!(this.valueFromJulia[\"changes\"]) ? (WebIO.setval({\"name\":\"changes\",\"scope\":\"15440117328126892009\",\"id\":\"17617117404679292052\",\"type\":\"observable\"},val)) : undefined; return this.valueFromJulia[\"changes\"]=false}),self),this[\"index\"].subscribe((function (val){!(this.valueFromJulia[\"index\"]) ? (WebIO.setval({\"name\":\"index\",\"scope\":\"15440117328126892009\",\"id\":\"14818653520895839042\",\"type\":\"observable\"},val)) : undefined; return this.valueFromJulia[\"index\"]=false}),self)]\n        \n    }\n    self.model = new AppViewModel();\n    self.valueFromJulia = {};\n    for (var key in json_data) {\n        self.valueFromJulia[key] = false;\n    }\n    ko.applyBindings(self.model, self.dom);\n}\n);\n    (WebIO.importBlock({\"data\":[{\"name\":\"knockout\",\"type\":\"js\",\"url\":\"/assetserver/727383f2a47bd31570b7da84eee7b022dd6d7c78-knockout.js\"},{\"name\":\"knockout_punches\",\"type\":\"js\",\"url\":\"/assetserver/382b41b3b1bd9f26f75861d360bad7f8beea211f-knockout_punches.js\"}],\"type\":\"async_block\"})).then((imports) => handler.apply(this, imports));\n}\n"
                ],
                "observables": {
                 "changes": {
                  "id": "17617117404679292052",
                  "sync": false,
                  "value": 0
                 },
                 "index": {
                  "id": "14818653520895839042",
                  "sync": true,
                  "value": 10
                 }
                },
                "systemjs_options": null
               },
               "nodeType": "Scope",
               "props": {},
               "type": "node"
              }
             ],
             "instanceArgs": {
              "namespace": "html",
              "tag": "div"
             },
             "nodeType": "DOM",
             "props": {
              "className": "field interact-widget"
             },
             "type": "node"
            },
            {
             "children": [
              {
               "children": [
                {
                 "children": [
                  {
                   "children": [],
                   "instanceArgs": {
                    "namespace": "html",
                    "tag": "div"
                   },
                   "nodeType": "DOM",
                   "props": {
                    "id": "container"
                   },
                   "type": "node"
                  }
                 ],
                 "instanceArgs": {
                  "handlers": {
                   "value": [
                    "(function (txt){return this.k.render(txt,this.container)})"
                   ]
                  },
                  "id": "14689640961102507446",
                  "imports": {
                   "data": [
                    {
                     "name": null,
                     "type": "js",
                     "url": "/assetserver/dd22ed1bf1896c2748f3fe616ce0b838adc895c1-katex.min.js"
                    },
                    {
                     "name": null,
                     "type": "css",
                     "url": "/assetserver/46517a424aa5e6cffc1360d7e0848b601c584ee3-katex.min.css"
                    }
                   ],
                   "type": "async_block"
                  },
                  "mount_callbacks": [
                   "function () {\n    var handler = ((function (k){this.k=k; this.container=this.dom.querySelector(\"#container\"); return k.render(\"\\\\;\\\\;\",this.container)}));\n    (WebIO.importBlock({\"data\":[{\"name\":null,\"type\":\"js\",\"url\":\"/assetserver/dd22ed1bf1896c2748f3fe616ce0b838adc895c1-katex.min.js\"},{\"name\":null,\"type\":\"css\",\"url\":\"/assetserver/46517a424aa5e6cffc1360d7e0848b601c584ee3-katex.min.css\"}],\"type\":\"async_block\"})).then((imports) => handler.apply(this, imports));\n}\n"
                  ],
                  "observables": {
                   "value": {
                    "id": "5788217598794715116",
                    "sync": false,
                    "value": "\\;\\;"
                   }
                  },
                  "systemjs_options": null
                 },
                 "nodeType": "Scope",
                 "props": {},
                 "type": "node"
                }
               ],
               "instanceArgs": {
                "namespace": "html",
                "tag": "div"
               },
               "nodeType": "DOM",
               "props": {
                "className": "interact-widget"
               },
               "type": "node"
              },
              {
               "children": [
                {
                 "children": [
                  {
                   "children": [
                    "run"
                   ],
                   "instanceArgs": {
                    "namespace": "html",
                    "tag": "button"
                   },
                   "nodeType": "DOM",
                   "props": {
                    "attributes": {
                     "data-bind": "click: function (){this.clicks(this.clicks()+1)}, css: {'is-loading' : loading}"
                    },
                    "className": "is-medium button is-primary",
                    "style": {}
                   },
                   "type": "node"
                  }
                 ],
                 "instanceArgs": {
                  "handlers": {
                   "clicks": [
                    "(function (val){return (val!=this.model[\"clicks\"]()) ? (this.valueFromJulia[\"clicks\"]=true, this.model[\"clicks\"](val)) : undefined})"
                   ],
                   "loading": [
                    "(function (val){return (val!=this.model[\"loading\"]()) ? (this.valueFromJulia[\"loading\"]=true, this.model[\"loading\"](val)) : undefined})"
                   ]
                  },
                  "id": "1419120908629554966",
                  "imports": {
                   "data": [
                    {
                     "name": "knockout",
                     "type": "js",
                     "url": "/assetserver/727383f2a47bd31570b7da84eee7b022dd6d7c78-knockout.js"
                    },
                    {
                     "name": "knockout_punches",
                     "type": "js",
                     "url": "/assetserver/382b41b3b1bd9f26f75861d360bad7f8beea211f-knockout_punches.js"
                    },
                    {
                     "name": null,
                     "type": "js",
                     "url": "/assetserver/5ab20f1060420992a9b82a65b735dee4d81ef413-all.js"
                    },
                    {
                     "name": null,
                     "type": "css",
                     "url": "/assetserver/1cc0ed62837210b80a182cc3676512f895dab686-style.css"
                    },
                    {
                     "name": null,
                     "type": "css",
                     "url": "/assetserver/2eee816f616df3549d7044d45e744fbf8d42bfa1-bulma_confined.min.css"
                    }
                   ],
                   "type": "async_block"
                  },
                  "mount_callbacks": [
                   "function () {\n    var handler = (function (ko, koPunches) {\n    ko.punches.enableAll();\n    ko.bindingHandlers.numericValue = {\n        init: function(element, valueAccessor, allBindings, data, context) {\n            var stringified = ko.observable(ko.unwrap(valueAccessor()));\n            stringified.subscribe(function(value) {\n                var val = parseFloat(value);\n                if (!isNaN(val)) {\n                    valueAccessor()(val);\n                }\n            });\n            valueAccessor().subscribe(function(value) {\n                var str = JSON.stringify(value);\n                if ((str == \"0\") && ([\"-0\", \"-0.\"].indexOf(stringified()) >= 0))\n                     return;\n                 if ([\"null\", \"\"].indexOf(str) >= 0)\n                     return;\n                stringified(str);\n            });\n            ko.applyBindingsToNode(\n                element,\n                {\n                    value: stringified,\n                    valueUpdate: allBindings.get('valueUpdate'),\n                },\n                context,\n            );\n        }\n    };\n    var json_data = {\"loading\":WebIO.getval({\"name\":\"loading\",\"scope\":\"1419120908629554966\",\"id\":\"16262247993939554837\",\"type\":\"observable\"}),\"clicks\":WebIO.getval({\"name\":\"clicks\",\"scope\":\"1419120908629554966\",\"id\":\"6498193483933683476\",\"type\":\"observable\"})};\n    var self = this;\n    function AppViewModel() {\n        for (var key in json_data) {\n            var el = json_data[key];\n            this[key] = Array.isArray(el) ? ko.observableArray(el) : ko.observable(el);\n        }\n        \n        \n        [this[\"loading\"].subscribe((function (val){!(this.valueFromJulia[\"loading\"]) ? (WebIO.setval({\"name\":\"loading\",\"scope\":\"1419120908629554966\",\"id\":\"16262247993939554837\",\"type\":\"observable\"},val)) : undefined; return this.valueFromJulia[\"loading\"]=false}),self),this[\"clicks\"].subscribe((function (val){!(this.valueFromJulia[\"clicks\"]) ? (WebIO.setval({\"name\":\"clicks\",\"scope\":\"1419120908629554966\",\"id\":\"6498193483933683476\",\"type\":\"observable\"},val)) : undefined; return this.valueFromJulia[\"clicks\"]=false}),self)]\n        \n    }\n    self.model = new AppViewModel();\n    self.valueFromJulia = {};\n    for (var key in json_data) {\n        self.valueFromJulia[key] = false;\n    }\n    ko.applyBindings(self.model, self.dom);\n}\n);\n    (WebIO.importBlock({\"data\":[{\"name\":\"knockout\",\"type\":\"js\",\"url\":\"/assetserver/727383f2a47bd31570b7da84eee7b022dd6d7c78-knockout.js\"},{\"name\":\"knockout_punches\",\"type\":\"js\",\"url\":\"/assetserver/382b41b3b1bd9f26f75861d360bad7f8beea211f-knockout_punches.js\"}],\"type\":\"async_block\"})).then((imports) => handler.apply(this, imports));\n}\n"
                  ],
                  "observables": {
                   "clicks": {
                    "id": "6498193483933683476",
                    "sync": true,
                    "value": 0
                   },
                   "loading": {
                    "id": "16262247993939554837",
                    "sync": false,
                    "value": false
                   }
                  },
                  "systemjs_options": null
                 },
                 "nodeType": "Scope",
                 "props": {},
                 "type": "node"
                }
               ],
               "instanceArgs": {
                "namespace": "html",
                "tag": "div"
               },
               "nodeType": "DOM",
               "props": {
                "className": "field interact-widget"
               },
               "type": "node"
              },
              {
               "children": [
                {
                 "children": [
                  {
                   "children": [],
                   "instanceArgs": {
                    "namespace": "html",
                    "tag": "div"
                   },
                   "nodeType": "DOM",
                   "props": {
                    "id": "container"
                   },
                   "type": "node"
                  }
                 ],
                 "instanceArgs": {
                  "handlers": {
                   "value": [
                    "(function (txt){return this.k.render(txt,this.container)})"
                   ]
                  },
                  "id": "14689640961102507446",
                  "imports": {
                   "data": [
                    {
                     "name": null,
                     "type": "js",
                     "url": "/assetserver/dd22ed1bf1896c2748f3fe616ce0b838adc895c1-katex.min.js"
                    },
                    {
                     "name": null,
                     "type": "css",
                     "url": "/assetserver/46517a424aa5e6cffc1360d7e0848b601c584ee3-katex.min.css"
                    }
                   ],
                   "type": "async_block"
                  },
                  "mount_callbacks": [
                   "function () {\n    var handler = ((function (k){this.k=k; this.container=this.dom.querySelector(\"#container\"); return k.render(\"\\\\;\\\\;\",this.container)}));\n    (WebIO.importBlock({\"data\":[{\"name\":null,\"type\":\"js\",\"url\":\"/assetserver/dd22ed1bf1896c2748f3fe616ce0b838adc895c1-katex.min.js\"},{\"name\":null,\"type\":\"css\",\"url\":\"/assetserver/46517a424aa5e6cffc1360d7e0848b601c584ee3-katex.min.css\"}],\"type\":\"async_block\"})).then((imports) => handler.apply(this, imports));\n}\n"
                  ],
                  "observables": {
                   "value": {
                    "id": "5788217598794715116",
                    "sync": false,
                    "value": "\\;\\;"
                   }
                  },
                  "systemjs_options": null
                 },
                 "nodeType": "Scope",
                 "props": {},
                 "type": "node"
                }
               ],
               "instanceArgs": {
                "namespace": "html",
                "tag": "div"
               },
               "nodeType": "DOM",
               "props": {
                "className": "interact-widget"
               },
               "type": "node"
              },
              {
               "children": [
                {
                 "children": [
                  {
                   "children": [
                    "stop"
                   ],
                   "instanceArgs": {
                    "namespace": "html",
                    "tag": "button"
                   },
                   "nodeType": "DOM",
                   "props": {
                    "attributes": {
                     "data-bind": "click: function (){this.clicks(this.clicks()+1)}, css: {'is-loading' : loading}"
                    },
                    "className": "is-medium button is-primary",
                    "style": {}
                   },
                   "type": "node"
                  }
                 ],
                 "instanceArgs": {
                  "handlers": {
                   "clicks": [
                    "(function (val){return (val!=this.model[\"clicks\"]()) ? (this.valueFromJulia[\"clicks\"]=true, this.model[\"clicks\"](val)) : undefined})"
                   ],
                   "loading": [
                    "(function (val){return (val!=this.model[\"loading\"]()) ? (this.valueFromJulia[\"loading\"]=true, this.model[\"loading\"](val)) : undefined})"
                   ]
                  },
                  "id": "5670358026422364210",
                  "imports": {
                   "data": [
                    {
                     "name": "knockout",
                     "type": "js",
                     "url": "/assetserver/727383f2a47bd31570b7da84eee7b022dd6d7c78-knockout.js"
                    },
                    {
                     "name": "knockout_punches",
                     "type": "js",
                     "url": "/assetserver/382b41b3b1bd9f26f75861d360bad7f8beea211f-knockout_punches.js"
                    },
                    {
                     "name": null,
                     "type": "js",
                     "url": "/assetserver/5ab20f1060420992a9b82a65b735dee4d81ef413-all.js"
                    },
                    {
                     "name": null,
                     "type": "css",
                     "url": "/assetserver/1cc0ed62837210b80a182cc3676512f895dab686-style.css"
                    },
                    {
                     "name": null,
                     "type": "css",
                     "url": "/assetserver/2eee816f616df3549d7044d45e744fbf8d42bfa1-bulma_confined.min.css"
                    }
                   ],
                   "type": "async_block"
                  },
                  "mount_callbacks": [
                   "function () {\n    var handler = (function (ko, koPunches) {\n    ko.punches.enableAll();\n    ko.bindingHandlers.numericValue = {\n        init: function(element, valueAccessor, allBindings, data, context) {\n            var stringified = ko.observable(ko.unwrap(valueAccessor()));\n            stringified.subscribe(function(value) {\n                var val = parseFloat(value);\n                if (!isNaN(val)) {\n                    valueAccessor()(val);\n                }\n            });\n            valueAccessor().subscribe(function(value) {\n                var str = JSON.stringify(value);\n                if ((str == \"0\") && ([\"-0\", \"-0.\"].indexOf(stringified()) >= 0))\n                     return;\n                 if ([\"null\", \"\"].indexOf(str) >= 0)\n                     return;\n                stringified(str);\n            });\n            ko.applyBindingsToNode(\n                element,\n                {\n                    value: stringified,\n                    valueUpdate: allBindings.get('valueUpdate'),\n                },\n                context,\n            );\n        }\n    };\n    var json_data = {\"loading\":WebIO.getval({\"name\":\"loading\",\"scope\":\"5670358026422364210\",\"id\":\"7010098190133914251\",\"type\":\"observable\"}),\"clicks\":WebIO.getval({\"name\":\"clicks\",\"scope\":\"5670358026422364210\",\"id\":\"15547464823033805975\",\"type\":\"observable\"})};\n    var self = this;\n    function AppViewModel() {\n        for (var key in json_data) {\n            var el = json_data[key];\n            this[key] = Array.isArray(el) ? ko.observableArray(el) : ko.observable(el);\n        }\n        \n        \n        [this[\"loading\"].subscribe((function (val){!(this.valueFromJulia[\"loading\"]) ? (WebIO.setval({\"name\":\"loading\",\"scope\":\"5670358026422364210\",\"id\":\"7010098190133914251\",\"type\":\"observable\"},val)) : undefined; return this.valueFromJulia[\"loading\"]=false}),self),this[\"clicks\"].subscribe((function (val){!(this.valueFromJulia[\"clicks\"]) ? (WebIO.setval({\"name\":\"clicks\",\"scope\":\"5670358026422364210\",\"id\":\"15547464823033805975\",\"type\":\"observable\"},val)) : undefined; return this.valueFromJulia[\"clicks\"]=false}),self)]\n        \n    }\n    self.model = new AppViewModel();\n    self.valueFromJulia = {};\n    for (var key in json_data) {\n        self.valueFromJulia[key] = false;\n    }\n    ko.applyBindings(self.model, self.dom);\n}\n);\n    (WebIO.importBlock({\"data\":[{\"name\":\"knockout\",\"type\":\"js\",\"url\":\"/assetserver/727383f2a47bd31570b7da84eee7b022dd6d7c78-knockout.js\"},{\"name\":\"knockout_punches\",\"type\":\"js\",\"url\":\"/assetserver/382b41b3b1bd9f26f75861d360bad7f8beea211f-knockout_punches.js\"}],\"type\":\"async_block\"})).then((imports) => handler.apply(this, imports));\n}\n"
                  ],
                  "observables": {
                   "clicks": {
                    "id": "15547464823033805975",
                    "sync": true,
                    "value": 0
                   },
                   "loading": {
                    "id": "7010098190133914251",
                    "sync": false,
                    "value": false
                   }
                  },
                  "systemjs_options": null
                 },
                 "nodeType": "Scope",
                 "props": {},
                 "type": "node"
                }
               ],
               "instanceArgs": {
                "namespace": "html",
                "tag": "div"
               },
               "nodeType": "DOM",
               "props": {
                "className": "field interact-widget"
               },
               "type": "node"
              }
             ],
             "instanceArgs": {
              "namespace": "html",
              "tag": "div"
             },
             "nodeType": "DOM",
             "props": {
              "style": {
               "display": "flex",
               "flex-direction": "row"
              }
             },
             "type": "node"
            }
           ],
           "instanceArgs": {
            "namespace": "html",
            "tag": "div"
           },
           "nodeType": "DOM",
           "props": {
            "style": {
             "display": "flex",
             "flex-direction": "column"
            }
           },
           "type": "node"
          },
          {
           "children": [
            {
             "children": [],
             "instanceArgs": {
              "namespace": "html",
              "tag": "div"
             },
             "nodeType": "DOM",
             "props": {
              "className": "webio-observable",
              "setInnerHtml": "    <div style=\"height: 500px; width: 100%; overflow-x: auto; overflow-y: hidden; resize: both\">\n    <iframe src=\"http://127.0.0.1:8709\" style=\"width: 100%; height: 100%; border: none\"></iframe>\n    </div>\n"
             },
             "type": "node"
            }
           ],
           "instanceArgs": {
            "handlers": {
             "obs-output": [
              "function (value, scope) {\n    scope.setInnerHTML(value);\n}\n"
             ]
            },
            "id": "13237194387336417109",
            "imports": {
             "data": [],
             "type": "async_block"
            },
            "mount_callbacks": [],
            "observables": {
             "obs-output": {
              "id": "8020606503181279606",
              "sync": false,
              "value": "    <div style=\"height: 500px; width: 100%; overflow-x: auto; overflow-y: hidden; resize: both\">\n    <iframe src=\"http://127.0.0.1:8709\" style=\"width: 100%; height: 100%; border: none\"></iframe>\n    </div>\n"
             }
            },
            "systemjs_options": null
           },
           "nodeType": "Scope",
           "props": {},
           "type": "node"
          },
          {
           "children": [
            {
             "children": [
              {
               "children": [],
               "instanceArgs": {
                "namespace": "html",
                "tag": "div"
               },
               "nodeType": "DOM",
               "props": {
                "id": "container"
               },
               "type": "node"
              }
             ],
             "instanceArgs": {
              "handlers": {
               "value": [
                "(function (txt){return this.k.render(txt,this.container)})"
               ]
              },
              "id": "14689640961102507446",
              "imports": {
               "data": [
                {
                 "name": null,
                 "type": "js",
                 "url": "/assetserver/dd22ed1bf1896c2748f3fe616ce0b838adc895c1-katex.min.js"
                },
                {
                 "name": null,
                 "type": "css",
                 "url": "/assetserver/46517a424aa5e6cffc1360d7e0848b601c584ee3-katex.min.css"
                }
               ],
               "type": "async_block"
              },
              "mount_callbacks": [
               "function () {\n    var handler = ((function (k){this.k=k; this.container=this.dom.querySelector(\"#container\"); return k.render(\"\\\\;\\\\;\",this.container)}));\n    (WebIO.importBlock({\"data\":[{\"name\":null,\"type\":\"js\",\"url\":\"/assetserver/dd22ed1bf1896c2748f3fe616ce0b838adc895c1-katex.min.js\"},{\"name\":null,\"type\":\"css\",\"url\":\"/assetserver/46517a424aa5e6cffc1360d7e0848b601c584ee3-katex.min.css\"}],\"type\":\"async_block\"})).then((imports) => handler.apply(this, imports));\n}\n"
              ],
              "observables": {
               "value": {
                "id": "5788217598794715116",
                "sync": false,
                "value": "\\;\\;"
               }
              },
              "systemjs_options": null
             },
             "nodeType": "Scope",
             "props": {},
             "type": "node"
            }
           ],
           "instanceArgs": {
            "namespace": "html",
            "tag": "div"
           },
           "nodeType": "DOM",
           "props": {
            "className": "interact-widget"
           },
           "type": "node"
          },
          {
           "children": [],
           "instanceArgs": {
            "namespace": "html",
            "tag": "div"
           },
           "nodeType": "DOM",
           "props": {
            "style": {
             "display": "flex",
             "flex-direction": "column"
            }
           },
           "type": "node"
          }
         ],
         "instanceArgs": {
          "namespace": "html",
          "tag": "div"
         },
         "nodeType": "DOM",
         "props": {
          "style": {
           "display": "flex",
           "flex-direction": "row"
          }
         },
         "type": "node"
        }
       ],
       "instanceArgs": {
        "namespace": "html",
        "tag": "div"
       },
       "nodeType": "DOM",
       "props": {
        "style": {
         "display": "flex",
         "flex-direction": "column"
        }
       },
       "type": "node"
      },
      "text/html": [
       "<div\n",
       "    class=\"webio-mountpoint\"\n",
       "    data-webio-mountpoint=\"17602898025577937553\"\n",
       ">\n",
       "    <script>\n",
       "    (function(){\n",
       "    // Some integrations (namely, IJulia/Jupyter) use an alternate render pathway than\n",
       "    // just putting the html on the page. If WebIO isn't defined, then it's pretty likely\n",
       "    // that we're in one of those situations and the integration just isn't installed\n",
       "    // correctly.\n",
       "    if (typeof window.WebIO === \"undefined\") {\n",
       "        document\n",
       "            .querySelector('[data-webio-mountpoint=\"17602898025577937553\"]')\n",
       "            .innerHTML = (\n",
       "                '<div style=\"padding: 1em; background-color: #f8d6da; border: 1px solid #f5c6cb; font-weight: bold;\">' +\n",
       "                '<p><strong>WebIO not detected.</strong></p>' +\n",
       "                '<p>Please read ' +\n",
       "                '<a href=\"https://juliagizmos.github.io/WebIO.jl/latest/troubleshooting/not-detected/\" target=\"_blank\">the troubleshooting guide</a> ' +\n",
       "                'for more information on how to resolve this issue.</p>' +\n",
       "                '<p><a href=\"https://juliagizmos.github.io/WebIO.jl/latest/troubleshooting/not-detected/\" target=\"_blank\">https://juliagizmos.github.io/WebIO.jl/latest/troubleshooting/not-detected/</a></p>' +\n",
       "                '</div>'\n",
       "            );\n",
       "        return;\n",
       "    }\n",
       "    WebIO.mount(\n",
       "        document.querySelector('[data-webio-mountpoint=\"17602898025577937553\"]'),\n",
       "        {\"props\":{\"style\":{\"display\":\"flex\",\"flex-direction\":\"column\"}},\"nodeType\":\"DOM\",\"type\":\"node\",\"instanceArgs\":{\"namespace\":\"html\",\"tag\":\"div\"},\"children\":[{\"props\":{\"style\":{\"display\":\"flex\",\"flex-direction\":\"row\"}},\"nodeType\":\"DOM\",\"type\":\"node\",\"instanceArgs\":{\"namespace\":\"html\",\"tag\":\"div\"},\"children\":[{\"props\":{\"style\":{\"display\":\"flex\",\"flex-direction\":\"column\"}},\"nodeType\":\"DOM\",\"type\":\"node\",\"instanceArgs\":{\"namespace\":\"html\",\"tag\":\"div\"},\"children\":[{\"props\":{\"className\":\"field interact-widget\"},\"nodeType\":\"DOM\",\"type\":\"node\",\"instanceArgs\":{\"namespace\":\"html\",\"tag\":\"div\"},\"children\":[{\"props\":{},\"nodeType\":\"Scope\",\"type\":\"node\",\"instanceArgs\":{\"imports\":{\"data\":[{\"name\":\"knockout\",\"type\":\"js\",\"url\":\"\\/assetserver\\/727383f2a47bd31570b7da84eee7b022dd6d7c78-knockout.js\"},{\"name\":\"knockout_punches\",\"type\":\"js\",\"url\":\"\\/assetserver\\/382b41b3b1bd9f26f75861d360bad7f8beea211f-knockout_punches.js\"},{\"name\":null,\"type\":\"js\",\"url\":\"\\/assetserver\\/5ab20f1060420992a9b82a65b735dee4d81ef413-all.js\"},{\"name\":null,\"type\":\"css\",\"url\":\"\\/assetserver\\/1cc0ed62837210b80a182cc3676512f895dab686-style.css\"},{\"name\":null,\"type\":\"css\",\"url\":\"\\/assetserver\\/2eee816f616df3549d7044d45e744fbf8d42bfa1-bulma_confined.min.css\"}],\"type\":\"async_block\"},\"id\":\"7886551202898632937\",\"handlers\":{\"changes\":[\"(function (val){return (val!=this.model[\\\"changes\\\"]()) ? (this.valueFromJulia[\\\"changes\\\"]=true, this.model[\\\"changes\\\"](val)) : undefined})\"],\"index\":[\"(function (val){return (val!=this.model[\\\"index\\\"]()) ? (this.valueFromJulia[\\\"index\\\"]=true, this.model[\\\"index\\\"](val)) : undefined})\"]},\"systemjs_options\":null,\"mount_callbacks\":[\"function () {\\n    var handler = (function (ko, koPunches) {\\n    ko.punches.enableAll();\\n    ko.bindingHandlers.numericValue = {\\n        init: function(element, valueAccessor, allBindings, data, context) {\\n            var stringified = ko.observable(ko.unwrap(valueAccessor()));\\n            stringified.subscribe(function(value) {\\n                var val = parseFloat(value);\\n                if (!isNaN(val)) {\\n                    valueAccessor()(val);\\n                }\\n            });\\n            valueAccessor().subscribe(function(value) {\\n                var str = JSON.stringify(value);\\n                if ((str == \\\"0\\\") && ([\\\"-0\\\", \\\"-0.\\\"].indexOf(stringified()) >= 0))\\n                     return;\\n                 if ([\\\"null\\\", \\\"\\\"].indexOf(str) >= 0)\\n                     return;\\n                stringified(str);\\n            });\\n            ko.applyBindingsToNode(\\n                element,\\n                {\\n                    value: stringified,\\n                    valueUpdate: allBindings.get('valueUpdate'),\\n                },\\n                context,\\n            );\\n        }\\n    };\\n    var json_data = {\\\"formatted_vals\\\":[\\\"1\\\",\\\"2\\\",\\\"3\\\",\\\"4\\\",\\\"5\\\",\\\"6\\\",\\\"7\\\",\\\"8\\\",\\\"9\\\",\\\"10\\\",\\\"11\\\",\\\"12\\\",\\\"13\\\",\\\"14\\\",\\\"15\\\",\\\"16\\\",\\\"17\\\",\\\"18\\\",\\\"19\\\",\\\"20\\\",\\\"21\\\",\\\"22\\\",\\\"23\\\",\\\"24\\\",\\\"25\\\",\\\"26\\\",\\\"27\\\",\\\"28\\\",\\\"29\\\",\\\"30\\\",\\\"31\\\",\\\"32\\\",\\\"33\\\",\\\"34\\\",\\\"35\\\",\\\"36\\\",\\\"37\\\",\\\"38\\\",\\\"39\\\",\\\"40\\\",\\\"41\\\",\\\"42\\\",\\\"43\\\",\\\"44\\\",\\\"45\\\",\\\"46\\\",\\\"47\\\",\\\"48\\\",\\\"49\\\",\\\"50\\\",\\\"51\\\",\\\"52\\\",\\\"53\\\",\\\"54\\\",\\\"55\\\",\\\"56\\\",\\\"57\\\",\\\"58\\\",\\\"59\\\",\\\"60\\\",\\\"61\\\",\\\"62\\\",\\\"63\\\",\\\"64\\\",\\\"65\\\",\\\"66\\\",\\\"67\\\",\\\"68\\\",\\\"69\\\",\\\"70\\\",\\\"71\\\",\\\"72\\\",\\\"73\\\",\\\"74\\\",\\\"75\\\",\\\"76\\\",\\\"77\\\",\\\"78\\\",\\\"79\\\",\\\"80\\\",\\\"81\\\",\\\"82\\\",\\\"83\\\",\\\"84\\\",\\\"85\\\",\\\"86\\\",\\\"87\\\",\\\"88\\\",\\\"89\\\",\\\"90\\\",\\\"91\\\",\\\"92\\\",\\\"93\\\",\\\"94\\\",\\\"95\\\",\\\"96\\\",\\\"97\\\",\\\"98\\\",\\\"99\\\",\\\"100\\\",\\\"101\\\"],\\\"changes\\\":WebIO.getval({\\\"name\\\":\\\"changes\\\",\\\"scope\\\":\\\"7886551202898632937\\\",\\\"id\\\":\\\"16354914257684081658\\\",\\\"type\\\":\\\"observable\\\"}),\\\"index\\\":WebIO.getval({\\\"name\\\":\\\"index\\\",\\\"scope\\\":\\\"7886551202898632937\\\",\\\"id\\\":\\\"7389248436327023728\\\",\\\"type\\\":\\\"observable\\\"})};\\n    var self = this;\\n    function AppViewModel() {\\n        for (var key in json_data) {\\n            var el = json_data[key];\\n            this[key] = Array.isArray(el) ? ko.observableArray(el) : ko.observable(el);\\n        }\\n        \\n        [this[\\\"formatted_val\\\"]=ko.computed(    function(){\\n        return this.formatted_vals()[parseInt(this.index())-(1)];\\n    }\\n,this)]\\n        [this[\\\"changes\\\"].subscribe((function (val){!(this.valueFromJulia[\\\"changes\\\"]) ? (WebIO.setval({\\\"name\\\":\\\"changes\\\",\\\"scope\\\":\\\"7886551202898632937\\\",\\\"id\\\":\\\"16354914257684081658\\\",\\\"type\\\":\\\"observable\\\"},val)) : undefined; return this.valueFromJulia[\\\"changes\\\"]=false}),self),this[\\\"index\\\"].subscribe((function (val){!(this.valueFromJulia[\\\"index\\\"]) ? (WebIO.setval({\\\"name\\\":\\\"index\\\",\\\"scope\\\":\\\"7886551202898632937\\\",\\\"id\\\":\\\"7389248436327023728\\\",\\\"type\\\":\\\"observable\\\"},val)) : undefined; return this.valueFromJulia[\\\"index\\\"]=false}),self)]\\n        \\n    }\\n    self.model = new AppViewModel();\\n    self.valueFromJulia = {};\\n    for (var key in json_data) {\\n        self.valueFromJulia[key] = false;\\n    }\\n    ko.applyBindings(self.model, self.dom);\\n}\\n);\\n    (WebIO.importBlock({\\\"data\\\":[{\\\"name\\\":\\\"knockout\\\",\\\"type\\\":\\\"js\\\",\\\"url\\\":\\\"\\/assetserver\\/727383f2a47bd31570b7da84eee7b022dd6d7c78-knockout.js\\\"},{\\\"name\\\":\\\"knockout_punches\\\",\\\"type\\\":\\\"js\\\",\\\"url\\\":\\\"\\/assetserver\\/382b41b3b1bd9f26f75861d360bad7f8beea211f-knockout_punches.js\\\"}],\\\"type\\\":\\\"async_block\\\"})).then((imports) => handler.apply(this, imports));\\n}\\n\"],\"observables\":{\"changes\":{\"sync\":false,\"id\":\"16354914257684081658\",\"value\":0},\"index\":{\"sync\":true,\"id\":\"7389248436327023728\",\"value\":51}}},\"children\":[{\"props\":{\"className\":\"interact-flex-row interact-widget\"},\"nodeType\":\"DOM\",\"type\":\"node\",\"instanceArgs\":{\"namespace\":\"html\",\"tag\":\"div\"},\"children\":[{\"props\":{\"className\":\"interact-flex-row-left\"},\"nodeType\":\"DOM\",\"type\":\"node\",\"instanceArgs\":{\"namespace\":\"html\",\"tag\":\"div\"},\"children\":[{\"props\":{\"className\":\"interact \",\"style\":{\"padding\":\"5px 10px 0px 10px\"}},\"nodeType\":\"DOM\",\"type\":\"node\",\"instanceArgs\":{\"namespace\":\"html\",\"tag\":\"label\"},\"children\":[\"time\"]}]},{\"props\":{\"className\":\"interact-flex-row-center\"},\"nodeType\":\"DOM\",\"type\":\"node\",\"instanceArgs\":{\"namespace\":\"html\",\"tag\":\"div\"},\"children\":[{\"props\":{\"max\":101,\"min\":1,\"attributes\":{\"type\":\"range\",\"data-bind\":\"numericValue: index, valueUpdate: 'input', event: {change: function (){this.changes(this.changes()+1)}}\",\"orient\":\"horizontal\"},\"step\":1,\"className\":\"slider slider is-fullwidth\",\"style\":{}},\"nodeType\":\"DOM\",\"type\":\"node\",\"instanceArgs\":{\"namespace\":\"html\",\"tag\":\"input\"},\"children\":[]}]},{\"props\":{\"className\":\"interact-flex-row-right\"},\"nodeType\":\"DOM\",\"type\":\"node\",\"instanceArgs\":{\"namespace\":\"html\",\"tag\":\"div\"},\"children\":[{\"props\":{\"attributes\":{\"data-bind\":\"text: formatted_val\"}},\"nodeType\":\"DOM\",\"type\":\"node\",\"instanceArgs\":{\"namespace\":\"html\",\"tag\":\"p\"},\"children\":[]}]}]}]}]},{\"props\":{\"className\":\"field interact-widget\"},\"nodeType\":\"DOM\",\"type\":\"node\",\"instanceArgs\":{\"namespace\":\"html\",\"tag\":\"div\"},\"children\":[{\"props\":{},\"nodeType\":\"Scope\",\"type\":\"node\",\"instanceArgs\":{\"imports\":{\"data\":[{\"name\":\"knockout\",\"type\":\"js\",\"url\":\"\\/assetserver\\/727383f2a47bd31570b7da84eee7b022dd6d7c78-knockout.js\"},{\"name\":\"knockout_punches\",\"type\":\"js\",\"url\":\"\\/assetserver\\/382b41b3b1bd9f26f75861d360bad7f8beea211f-knockout_punches.js\"},{\"name\":null,\"type\":\"js\",\"url\":\"\\/assetserver\\/5ab20f1060420992a9b82a65b735dee4d81ef413-all.js\"},{\"name\":null,\"type\":\"css\",\"url\":\"\\/assetserver\\/1cc0ed62837210b80a182cc3676512f895dab686-style.css\"},{\"name\":null,\"type\":\"css\",\"url\":\"\\/assetserver\\/2eee816f616df3549d7044d45e744fbf8d42bfa1-bulma_confined.min.css\"}],\"type\":\"async_block\"},\"id\":\"15440117328126892009\",\"handlers\":{\"changes\":[\"(function (val){return (val!=this.model[\\\"changes\\\"]()) ? (this.valueFromJulia[\\\"changes\\\"]=true, this.model[\\\"changes\\\"](val)) : undefined})\"],\"index\":[\"(function (val){return (val!=this.model[\\\"index\\\"]()) ? (this.valueFromJulia[\\\"index\\\"]=true, this.model[\\\"index\\\"](val)) : undefined})\"]},\"systemjs_options\":null,\"mount_callbacks\":[\"function () {\\n    var handler = (function (ko, koPunches) {\\n    ko.punches.enableAll();\\n    ko.bindingHandlers.numericValue = {\\n        init: function(element, valueAccessor, allBindings, data, context) {\\n            var stringified = ko.observable(ko.unwrap(valueAccessor()));\\n            stringified.subscribe(function(value) {\\n                var val = parseFloat(value);\\n                if (!isNaN(val)) {\\n                    valueAccessor()(val);\\n                }\\n            });\\n            valueAccessor().subscribe(function(value) {\\n                var str = JSON.stringify(value);\\n                if ((str == \\\"0\\\") && ([\\\"-0\\\", \\\"-0.\\\"].indexOf(stringified()) >= 0))\\n                     return;\\n                 if ([\\\"null\\\", \\\"\\\"].indexOf(str) >= 0)\\n                     return;\\n                stringified(str);\\n            });\\n            ko.applyBindingsToNode(\\n                element,\\n                {\\n                    value: stringified,\\n                    valueUpdate: allBindings.get('valueUpdate'),\\n                },\\n                context,\\n            );\\n        }\\n    };\\n    var json_data = {\\\"formatted_vals\\\":[\\\"0.1\\\",\\\"0.2\\\",\\\"0.3\\\",\\\"0.4\\\",\\\"0.5\\\",\\\"0.6\\\",\\\"0.7\\\",\\\"0.8\\\",\\\"0.9\\\",\\\"1.0\\\",\\\"1.1\\\",\\\"1.2\\\",\\\"1.3\\\",\\\"1.4\\\",\\\"1.5\\\",\\\"1.6\\\",\\\"1.7\\\",\\\"1.8\\\",\\\"1.9\\\",\\\"2.0\\\"],\\\"changes\\\":WebIO.getval({\\\"name\\\":\\\"changes\\\",\\\"scope\\\":\\\"15440117328126892009\\\",\\\"id\\\":\\\"17617117404679292052\\\",\\\"type\\\":\\\"observable\\\"}),\\\"index\\\":WebIO.getval({\\\"name\\\":\\\"index\\\",\\\"scope\\\":\\\"15440117328126892009\\\",\\\"id\\\":\\\"14818653520895839042\\\",\\\"type\\\":\\\"observable\\\"})};\\n    var self = this;\\n    function AppViewModel() {\\n        for (var key in json_data) {\\n            var el = json_data[key];\\n            this[key] = Array.isArray(el) ? ko.observableArray(el) : ko.observable(el);\\n        }\\n        \\n        [this[\\\"formatted_val\\\"]=ko.computed(    function(){\\n        return this.formatted_vals()[parseInt(this.index())-(1)];\\n    }\\n,this)]\\n        [this[\\\"changes\\\"].subscribe((function (val){!(this.valueFromJulia[\\\"changes\\\"]) ? (WebIO.setval({\\\"name\\\":\\\"changes\\\",\\\"scope\\\":\\\"15440117328126892009\\\",\\\"id\\\":\\\"17617117404679292052\\\",\\\"type\\\":\\\"observable\\\"},val)) : undefined; return this.valueFromJulia[\\\"changes\\\"]=false}),self),this[\\\"index\\\"].subscribe((function (val){!(this.valueFromJulia[\\\"index\\\"]) ? (WebIO.setval({\\\"name\\\":\\\"index\\\",\\\"scope\\\":\\\"15440117328126892009\\\",\\\"id\\\":\\\"14818653520895839042\\\",\\\"type\\\":\\\"observable\\\"},val)) : undefined; return this.valueFromJulia[\\\"index\\\"]=false}),self)]\\n        \\n    }\\n    self.model = new AppViewModel();\\n    self.valueFromJulia = {};\\n    for (var key in json_data) {\\n        self.valueFromJulia[key] = false;\\n    }\\n    ko.applyBindings(self.model, self.dom);\\n}\\n);\\n    (WebIO.importBlock({\\\"data\\\":[{\\\"name\\\":\\\"knockout\\\",\\\"type\\\":\\\"js\\\",\\\"url\\\":\\\"\\/assetserver\\/727383f2a47bd31570b7da84eee7b022dd6d7c78-knockout.js\\\"},{\\\"name\\\":\\\"knockout_punches\\\",\\\"type\\\":\\\"js\\\",\\\"url\\\":\\\"\\/assetserver\\/382b41b3b1bd9f26f75861d360bad7f8beea211f-knockout_punches.js\\\"}],\\\"type\\\":\\\"async_block\\\"})).then((imports) => handler.apply(this, imports));\\n}\\n\"],\"observables\":{\"changes\":{\"sync\":false,\"id\":\"17617117404679292052\",\"value\":0},\"index\":{\"sync\":true,\"id\":\"14818653520895839042\",\"value\":10}}},\"children\":[{\"props\":{\"className\":\"interact-flex-row interact-widget\"},\"nodeType\":\"DOM\",\"type\":\"node\",\"instanceArgs\":{\"namespace\":\"html\",\"tag\":\"div\"},\"children\":[{\"props\":{\"className\":\"interact-flex-row-left\"},\"nodeType\":\"DOM\",\"type\":\"node\",\"instanceArgs\":{\"namespace\":\"html\",\"tag\":\"div\"},\"children\":[{\"props\":{\"className\":\"interact \",\"style\":{\"padding\":\"5px 10px 0px 10px\"}},\"nodeType\":\"DOM\",\"type\":\"node\",\"instanceArgs\":{\"namespace\":\"html\",\"tag\":\"label\"},\"children\":[\"scale\"]}]},{\"props\":{\"className\":\"interact-flex-row-center\"},\"nodeType\":\"DOM\",\"type\":\"node\",\"instanceArgs\":{\"namespace\":\"html\",\"tag\":\"div\"},\"children\":[{\"props\":{\"max\":20,\"min\":1,\"attributes\":{\"type\":\"range\",\"data-bind\":\"numericValue: index, valueUpdate: 'input', event: {change: function (){this.changes(this.changes()+1)}}\",\"orient\":\"horizontal\"},\"step\":1,\"className\":\"slider slider is-fullwidth\",\"style\":{}},\"nodeType\":\"DOM\",\"type\":\"node\",\"instanceArgs\":{\"namespace\":\"html\",\"tag\":\"input\"},\"children\":[]}]},{\"props\":{\"className\":\"interact-flex-row-right\"},\"nodeType\":\"DOM\",\"type\":\"node\",\"instanceArgs\":{\"namespace\":\"html\",\"tag\":\"div\"},\"children\":[{\"props\":{\"attributes\":{\"data-bind\":\"text: formatted_val\"}},\"nodeType\":\"DOM\",\"type\":\"node\",\"instanceArgs\":{\"namespace\":\"html\",\"tag\":\"p\"},\"children\":[]}]}]}]}]},{\"props\":{\"style\":{\"display\":\"flex\",\"flex-direction\":\"row\"}},\"nodeType\":\"DOM\",\"type\":\"node\",\"instanceArgs\":{\"namespace\":\"html\",\"tag\":\"div\"},\"children\":[{\"props\":{\"className\":\"interact-widget\"},\"nodeType\":\"DOM\",\"type\":\"node\",\"instanceArgs\":{\"namespace\":\"html\",\"tag\":\"div\"},\"children\":[{\"props\":{},\"nodeType\":\"Scope\",\"type\":\"node\",\"instanceArgs\":{\"imports\":{\"data\":[{\"name\":null,\"type\":\"js\",\"url\":\"\\/assetserver\\/dd22ed1bf1896c2748f3fe616ce0b838adc895c1-katex.min.js\"},{\"name\":null,\"type\":\"css\",\"url\":\"\\/assetserver\\/46517a424aa5e6cffc1360d7e0848b601c584ee3-katex.min.css\"}],\"type\":\"async_block\"},\"id\":\"14689640961102507446\",\"handlers\":{\"value\":[\"(function (txt){return this.k.render(txt,this.container)})\"]},\"systemjs_options\":null,\"mount_callbacks\":[\"function () {\\n    var handler = ((function (k){this.k=k; this.container=this.dom.querySelector(\\\"#container\\\"); return k.render(\\\"\\\\\\\\;\\\\\\\\;\\\",this.container)}));\\n    (WebIO.importBlock({\\\"data\\\":[{\\\"name\\\":null,\\\"type\\\":\\\"js\\\",\\\"url\\\":\\\"\\/assetserver\\/dd22ed1bf1896c2748f3fe616ce0b838adc895c1-katex.min.js\\\"},{\\\"name\\\":null,\\\"type\\\":\\\"css\\\",\\\"url\\\":\\\"\\/assetserver\\/46517a424aa5e6cffc1360d7e0848b601c584ee3-katex.min.css\\\"}],\\\"type\\\":\\\"async_block\\\"})).then((imports) => handler.apply(this, imports));\\n}\\n\"],\"observables\":{\"value\":{\"sync\":false,\"id\":\"5788217598794715116\",\"value\":\"\\\\;\\\\;\"}}},\"children\":[{\"props\":{\"id\":\"container\"},\"nodeType\":\"DOM\",\"type\":\"node\",\"instanceArgs\":{\"namespace\":\"html\",\"tag\":\"div\"},\"children\":[]}]}]},{\"props\":{\"className\":\"field interact-widget\"},\"nodeType\":\"DOM\",\"type\":\"node\",\"instanceArgs\":{\"namespace\":\"html\",\"tag\":\"div\"},\"children\":[{\"props\":{},\"nodeType\":\"Scope\",\"type\":\"node\",\"instanceArgs\":{\"imports\":{\"data\":[{\"name\":\"knockout\",\"type\":\"js\",\"url\":\"\\/assetserver\\/727383f2a47bd31570b7da84eee7b022dd6d7c78-knockout.js\"},{\"name\":\"knockout_punches\",\"type\":\"js\",\"url\":\"\\/assetserver\\/382b41b3b1bd9f26f75861d360bad7f8beea211f-knockout_punches.js\"},{\"name\":null,\"type\":\"js\",\"url\":\"\\/assetserver\\/5ab20f1060420992a9b82a65b735dee4d81ef413-all.js\"},{\"name\":null,\"type\":\"css\",\"url\":\"\\/assetserver\\/1cc0ed62837210b80a182cc3676512f895dab686-style.css\"},{\"name\":null,\"type\":\"css\",\"url\":\"\\/assetserver\\/2eee816f616df3549d7044d45e744fbf8d42bfa1-bulma_confined.min.css\"}],\"type\":\"async_block\"},\"id\":\"1419120908629554966\",\"handlers\":{\"loading\":[\"(function (val){return (val!=this.model[\\\"loading\\\"]()) ? (this.valueFromJulia[\\\"loading\\\"]=true, this.model[\\\"loading\\\"](val)) : undefined})\"],\"clicks\":[\"(function (val){return (val!=this.model[\\\"clicks\\\"]()) ? (this.valueFromJulia[\\\"clicks\\\"]=true, this.model[\\\"clicks\\\"](val)) : undefined})\"]},\"systemjs_options\":null,\"mount_callbacks\":[\"function () {\\n    var handler = (function (ko, koPunches) {\\n    ko.punches.enableAll();\\n    ko.bindingHandlers.numericValue = {\\n        init: function(element, valueAccessor, allBindings, data, context) {\\n            var stringified = ko.observable(ko.unwrap(valueAccessor()));\\n            stringified.subscribe(function(value) {\\n                var val = parseFloat(value);\\n                if (!isNaN(val)) {\\n                    valueAccessor()(val);\\n                }\\n            });\\n            valueAccessor().subscribe(function(value) {\\n                var str = JSON.stringify(value);\\n                if ((str == \\\"0\\\") && ([\\\"-0\\\", \\\"-0.\\\"].indexOf(stringified()) >= 0))\\n                     return;\\n                 if ([\\\"null\\\", \\\"\\\"].indexOf(str) >= 0)\\n                     return;\\n                stringified(str);\\n            });\\n            ko.applyBindingsToNode(\\n                element,\\n                {\\n                    value: stringified,\\n                    valueUpdate: allBindings.get('valueUpdate'),\\n                },\\n                context,\\n            );\\n        }\\n    };\\n    var json_data = {\\\"loading\\\":WebIO.getval({\\\"name\\\":\\\"loading\\\",\\\"scope\\\":\\\"1419120908629554966\\\",\\\"id\\\":\\\"16262247993939554837\\\",\\\"type\\\":\\\"observable\\\"}),\\\"clicks\\\":WebIO.getval({\\\"name\\\":\\\"clicks\\\",\\\"scope\\\":\\\"1419120908629554966\\\",\\\"id\\\":\\\"6498193483933683476\\\",\\\"type\\\":\\\"observable\\\"})};\\n    var self = this;\\n    function AppViewModel() {\\n        for (var key in json_data) {\\n            var el = json_data[key];\\n            this[key] = Array.isArray(el) ? ko.observableArray(el) : ko.observable(el);\\n        }\\n        \\n        \\n        [this[\\\"loading\\\"].subscribe((function (val){!(this.valueFromJulia[\\\"loading\\\"]) ? (WebIO.setval({\\\"name\\\":\\\"loading\\\",\\\"scope\\\":\\\"1419120908629554966\\\",\\\"id\\\":\\\"16262247993939554837\\\",\\\"type\\\":\\\"observable\\\"},val)) : undefined; return this.valueFromJulia[\\\"loading\\\"]=false}),self),this[\\\"clicks\\\"].subscribe((function (val){!(this.valueFromJulia[\\\"clicks\\\"]) ? (WebIO.setval({\\\"name\\\":\\\"clicks\\\",\\\"scope\\\":\\\"1419120908629554966\\\",\\\"id\\\":\\\"6498193483933683476\\\",\\\"type\\\":\\\"observable\\\"},val)) : undefined; return this.valueFromJulia[\\\"clicks\\\"]=false}),self)]\\n        \\n    }\\n    self.model = new AppViewModel();\\n    self.valueFromJulia = {};\\n    for (var key in json_data) {\\n        self.valueFromJulia[key] = false;\\n    }\\n    ko.applyBindings(self.model, self.dom);\\n}\\n);\\n    (WebIO.importBlock({\\\"data\\\":[{\\\"name\\\":\\\"knockout\\\",\\\"type\\\":\\\"js\\\",\\\"url\\\":\\\"\\/assetserver\\/727383f2a47bd31570b7da84eee7b022dd6d7c78-knockout.js\\\"},{\\\"name\\\":\\\"knockout_punches\\\",\\\"type\\\":\\\"js\\\",\\\"url\\\":\\\"\\/assetserver\\/382b41b3b1bd9f26f75861d360bad7f8beea211f-knockout_punches.js\\\"}],\\\"type\\\":\\\"async_block\\\"})).then((imports) => handler.apply(this, imports));\\n}\\n\"],\"observables\":{\"loading\":{\"sync\":false,\"id\":\"16262247993939554837\",\"value\":false},\"clicks\":{\"sync\":true,\"id\":\"6498193483933683476\",\"value\":0}}},\"children\":[{\"props\":{\"attributes\":{\"data-bind\":\"click: function (){this.clicks(this.clicks()+1)}, css: {'is-loading' : loading}\"},\"className\":\"is-medium button is-primary\",\"style\":{}},\"nodeType\":\"DOM\",\"type\":\"node\",\"instanceArgs\":{\"namespace\":\"html\",\"tag\":\"button\"},\"children\":[\"run\"]}]}]},{\"props\":{\"className\":\"interact-widget\"},\"nodeType\":\"DOM\",\"type\":\"node\",\"instanceArgs\":{\"namespace\":\"html\",\"tag\":\"div\"},\"children\":[{\"props\":{},\"nodeType\":\"Scope\",\"type\":\"node\",\"instanceArgs\":{\"imports\":{\"data\":[{\"name\":null,\"type\":\"js\",\"url\":\"\\/assetserver\\/dd22ed1bf1896c2748f3fe616ce0b838adc895c1-katex.min.js\"},{\"name\":null,\"type\":\"css\",\"url\":\"\\/assetserver\\/46517a424aa5e6cffc1360d7e0848b601c584ee3-katex.min.css\"}],\"type\":\"async_block\"},\"id\":\"14689640961102507446\",\"handlers\":{\"value\":[\"(function (txt){return this.k.render(txt,this.container)})\"]},\"systemjs_options\":null,\"mount_callbacks\":[\"function () {\\n    var handler = ((function (k){this.k=k; this.container=this.dom.querySelector(\\\"#container\\\"); return k.render(\\\"\\\\\\\\;\\\\\\\\;\\\",this.container)}));\\n    (WebIO.importBlock({\\\"data\\\":[{\\\"name\\\":null,\\\"type\\\":\\\"js\\\",\\\"url\\\":\\\"\\/assetserver\\/dd22ed1bf1896c2748f3fe616ce0b838adc895c1-katex.min.js\\\"},{\\\"name\\\":null,\\\"type\\\":\\\"css\\\",\\\"url\\\":\\\"\\/assetserver\\/46517a424aa5e6cffc1360d7e0848b601c584ee3-katex.min.css\\\"}],\\\"type\\\":\\\"async_block\\\"})).then((imports) => handler.apply(this, imports));\\n}\\n\"],\"observables\":{\"value\":{\"sync\":false,\"id\":\"5788217598794715116\",\"value\":\"\\\\;\\\\;\"}}},\"children\":[{\"props\":{\"id\":\"container\"},\"nodeType\":\"DOM\",\"type\":\"node\",\"instanceArgs\":{\"namespace\":\"html\",\"tag\":\"div\"},\"children\":[]}]}]},{\"props\":{\"className\":\"field interact-widget\"},\"nodeType\":\"DOM\",\"type\":\"node\",\"instanceArgs\":{\"namespace\":\"html\",\"tag\":\"div\"},\"children\":[{\"props\":{},\"nodeType\":\"Scope\",\"type\":\"node\",\"instanceArgs\":{\"imports\":{\"data\":[{\"name\":\"knockout\",\"type\":\"js\",\"url\":\"\\/assetserver\\/727383f2a47bd31570b7da84eee7b022dd6d7c78-knockout.js\"},{\"name\":\"knockout_punches\",\"type\":\"js\",\"url\":\"\\/assetserver\\/382b41b3b1bd9f26f75861d360bad7f8beea211f-knockout_punches.js\"},{\"name\":null,\"type\":\"js\",\"url\":\"\\/assetserver\\/5ab20f1060420992a9b82a65b735dee4d81ef413-all.js\"},{\"name\":null,\"type\":\"css\",\"url\":\"\\/assetserver\\/1cc0ed62837210b80a182cc3676512f895dab686-style.css\"},{\"name\":null,\"type\":\"css\",\"url\":\"\\/assetserver\\/2eee816f616df3549d7044d45e744fbf8d42bfa1-bulma_confined.min.css\"}],\"type\":\"async_block\"},\"id\":\"5670358026422364210\",\"handlers\":{\"loading\":[\"(function (val){return (val!=this.model[\\\"loading\\\"]()) ? (this.valueFromJulia[\\\"loading\\\"]=true, this.model[\\\"loading\\\"](val)) : undefined})\"],\"clicks\":[\"(function (val){return (val!=this.model[\\\"clicks\\\"]()) ? (this.valueFromJulia[\\\"clicks\\\"]=true, this.model[\\\"clicks\\\"](val)) : undefined})\"]},\"systemjs_options\":null,\"mount_callbacks\":[\"function () {\\n    var handler = (function (ko, koPunches) {\\n    ko.punches.enableAll();\\n    ko.bindingHandlers.numericValue = {\\n        init: function(element, valueAccessor, allBindings, data, context) {\\n            var stringified = ko.observable(ko.unwrap(valueAccessor()));\\n            stringified.subscribe(function(value) {\\n                var val = parseFloat(value);\\n                if (!isNaN(val)) {\\n                    valueAccessor()(val);\\n                }\\n            });\\n            valueAccessor().subscribe(function(value) {\\n                var str = JSON.stringify(value);\\n                if ((str == \\\"0\\\") && ([\\\"-0\\\", \\\"-0.\\\"].indexOf(stringified()) >= 0))\\n                     return;\\n                 if ([\\\"null\\\", \\\"\\\"].indexOf(str) >= 0)\\n                     return;\\n                stringified(str);\\n            });\\n            ko.applyBindingsToNode(\\n                element,\\n                {\\n                    value: stringified,\\n                    valueUpdate: allBindings.get('valueUpdate'),\\n                },\\n                context,\\n            );\\n        }\\n    };\\n    var json_data = {\\\"loading\\\":WebIO.getval({\\\"name\\\":\\\"loading\\\",\\\"scope\\\":\\\"5670358026422364210\\\",\\\"id\\\":\\\"7010098190133914251\\\",\\\"type\\\":\\\"observable\\\"}),\\\"clicks\\\":WebIO.getval({\\\"name\\\":\\\"clicks\\\",\\\"scope\\\":\\\"5670358026422364210\\\",\\\"id\\\":\\\"15547464823033805975\\\",\\\"type\\\":\\\"observable\\\"})};\\n    var self = this;\\n    function AppViewModel() {\\n        for (var key in json_data) {\\n            var el = json_data[key];\\n            this[key] = Array.isArray(el) ? ko.observableArray(el) : ko.observable(el);\\n        }\\n        \\n        \\n        [this[\\\"loading\\\"].subscribe((function (val){!(this.valueFromJulia[\\\"loading\\\"]) ? (WebIO.setval({\\\"name\\\":\\\"loading\\\",\\\"scope\\\":\\\"5670358026422364210\\\",\\\"id\\\":\\\"7010098190133914251\\\",\\\"type\\\":\\\"observable\\\"},val)) : undefined; return this.valueFromJulia[\\\"loading\\\"]=false}),self),this[\\\"clicks\\\"].subscribe((function (val){!(this.valueFromJulia[\\\"clicks\\\"]) ? (WebIO.setval({\\\"name\\\":\\\"clicks\\\",\\\"scope\\\":\\\"5670358026422364210\\\",\\\"id\\\":\\\"15547464823033805975\\\",\\\"type\\\":\\\"observable\\\"},val)) : undefined; return this.valueFromJulia[\\\"clicks\\\"]=false}),self)]\\n        \\n    }\\n    self.model = new AppViewModel();\\n    self.valueFromJulia = {};\\n    for (var key in json_data) {\\n        self.valueFromJulia[key] = false;\\n    }\\n    ko.applyBindings(self.model, self.dom);\\n}\\n);\\n    (WebIO.importBlock({\\\"data\\\":[{\\\"name\\\":\\\"knockout\\\",\\\"type\\\":\\\"js\\\",\\\"url\\\":\\\"\\/assetserver\\/727383f2a47bd31570b7da84eee7b022dd6d7c78-knockout.js\\\"},{\\\"name\\\":\\\"knockout_punches\\\",\\\"type\\\":\\\"js\\\",\\\"url\\\":\\\"\\/assetserver\\/382b41b3b1bd9f26f75861d360bad7f8beea211f-knockout_punches.js\\\"}],\\\"type\\\":\\\"async_block\\\"})).then((imports) => handler.apply(this, imports));\\n}\\n\"],\"observables\":{\"loading\":{\"sync\":false,\"id\":\"7010098190133914251\",\"value\":false},\"clicks\":{\"sync\":true,\"id\":\"15547464823033805975\",\"value\":0}}},\"children\":[{\"props\":{\"attributes\":{\"data-bind\":\"click: function (){this.clicks(this.clicks()+1)}, css: {'is-loading' : loading}\"},\"className\":\"is-medium button is-primary\",\"style\":{}},\"nodeType\":\"DOM\",\"type\":\"node\",\"instanceArgs\":{\"namespace\":\"html\",\"tag\":\"button\"},\"children\":[\"stop\"]}]}]}]}]},{\"props\":{},\"nodeType\":\"Scope\",\"type\":\"node\",\"instanceArgs\":{\"imports\":{\"data\":[],\"type\":\"async_block\"},\"id\":\"13593566518533788576\",\"handlers\":{\"obs-output\":[\"function (value, scope) {\\n    scope.setInnerHTML(value);\\n}\\n\"]},\"systemjs_options\":null,\"mount_callbacks\":[],\"observables\":{\"obs-output\":{\"sync\":false,\"id\":\"6599385896413119021\",\"value\":\"    <div style=\\\"height: 500px; width: 100%; overflow-x: auto; overflow-y: hidden; resize: both\\\">\\n    <iframe src=\\\"http:\\/\\/127.0.0.1:8709\\\" style=\\\"width: 100%; height: 100%; border: none\\\"><\\/iframe>\\n    <\\/div>\\n\"}}},\"children\":[{\"props\":{\"className\":\"webio-observable\",\"setInnerHtml\":\"    <div style=\\\"height: 500px; width: 100%; overflow-x: auto; overflow-y: hidden; resize: both\\\">\\n    <iframe src=\\\"http:\\/\\/127.0.0.1:8709\\\" style=\\\"width: 100%; height: 100%; border: none\\\"><\\/iframe>\\n    <\\/div>\\n\"},\"nodeType\":\"DOM\",\"type\":\"node\",\"instanceArgs\":{\"namespace\":\"html\",\"tag\":\"div\"},\"children\":[]}]},{\"props\":{\"className\":\"interact-widget\"},\"nodeType\":\"DOM\",\"type\":\"node\",\"instanceArgs\":{\"namespace\":\"html\",\"tag\":\"div\"},\"children\":[{\"props\":{},\"nodeType\":\"Scope\",\"type\":\"node\",\"instanceArgs\":{\"imports\":{\"data\":[{\"name\":null,\"type\":\"js\",\"url\":\"\\/assetserver\\/dd22ed1bf1896c2748f3fe616ce0b838adc895c1-katex.min.js\"},{\"name\":null,\"type\":\"css\",\"url\":\"\\/assetserver\\/46517a424aa5e6cffc1360d7e0848b601c584ee3-katex.min.css\"}],\"type\":\"async_block\"},\"id\":\"14689640961102507446\",\"handlers\":{\"value\":[\"(function (txt){return this.k.render(txt,this.container)})\"]},\"systemjs_options\":null,\"mount_callbacks\":[\"function () {\\n    var handler = ((function (k){this.k=k; this.container=this.dom.querySelector(\\\"#container\\\"); return k.render(\\\"\\\\\\\\;\\\\\\\\;\\\",this.container)}));\\n    (WebIO.importBlock({\\\"data\\\":[{\\\"name\\\":null,\\\"type\\\":\\\"js\\\",\\\"url\\\":\\\"\\/assetserver\\/dd22ed1bf1896c2748f3fe616ce0b838adc895c1-katex.min.js\\\"},{\\\"name\\\":null,\\\"type\\\":\\\"css\\\",\\\"url\\\":\\\"\\/assetserver\\/46517a424aa5e6cffc1360d7e0848b601c584ee3-katex.min.css\\\"}],\\\"type\\\":\\\"async_block\\\"})).then((imports) => handler.apply(this, imports));\\n}\\n\"],\"observables\":{\"value\":{\"sync\":false,\"id\":\"5788217598794715116\",\"value\":\"\\\\;\\\\;\"}}},\"children\":[{\"props\":{\"id\":\"container\"},\"nodeType\":\"DOM\",\"type\":\"node\",\"instanceArgs\":{\"namespace\":\"html\",\"tag\":\"div\"},\"children\":[]}]}]},{\"props\":{\"style\":{\"display\":\"flex\",\"flex-direction\":\"column\"}},\"nodeType\":\"DOM\",\"type\":\"node\",\"instanceArgs\":{\"namespace\":\"html\",\"tag\":\"div\"},\"children\":[]}]}]},\n",
       "        window,\n",
       "    );\n",
       "    })()\n",
       "    </script>\n",
       "</div>\n"
      ],
      "text/plain": [
       "WebIO.Node{WebIO.DOM}(WebIO.DOM(:html, :div), Any[WebIO.Node{WebIO.DOM}(WebIO.DOM(:html, :div), Any[WebIO.Node{WebIO.DOM}(WebIO.DOM(:html, :div), Any[WebIO.Node{WebIO.DOM}(WebIO.DOM(:html, :div), Any[WebIO.Scope(WebIO.Node{WebIO.DOM}(WebIO.DOM(:html, :div), Any[WebIO.Node{WebIO.DOM}(WebIO.DOM(:html, :div), Any[WebIO.Node{WebIO.DOM}(WebIO.DOM(:html, :label), Any[\"time\"], Dict{Symbol, Any}(:className => \"interact \", :style => Dict{Any, Any}(:padding => \"5px 10px 0px 10px\")))], Dict{Symbol, Any}(:className => \"interact-flex-row-left\")), WebIO.Node{WebIO.DOM}(WebIO.DOM(:html, :div), Any[WebIO.Node{WebIO.DOM}(WebIO.DOM(:html, :input), Any[], Dict{Symbol, Any}(:max => 101, :min => 1, :attributes => Dict{Any, Any}(:type => \"range\", Symbol(\"data-bind\") => \"numericValue: index, valueUpdate: 'input', event: {change: function (){this.changes(this.changes()+1)}}\", \"orient\" => \"horizontal\"), :step => 1, :className => \"slider slider is-fullwidth\", :style => Dict{Any, Any}()))], Dict{Symbol, Any}(:className => \"interact-flex-row-center\")), WebIO.Node{WebIO.DOM}(WebIO.DOM(:html, :div), Any[WebIO.Node{WebIO.DOM}(WebIO.DOM(:html, :p), Any[], Dict{Symbol, Any}(:attributes => Dict(\"data-bind\" => \"text: formatted_val\")))], Dict{Symbol, Any}(:className => \"interact-flex-row-right\"))], Dict{Symbol, Any}(:className => \"interact-flex-row interact-widget\")), Dict{String, Tuple{Observables.AbstractObservable, Union{Nothing, Bool}}}(\"changes\" => (Observable(0), nothing), \"index\" => (Observable(51), nothing)), Set{String}(), nothing, WebIO.Asset[WebIO.Asset(\"js\", \"knockout\", \"/home/dushya/.julia/packages/Knockout/HReiN/src/../assets/knockout.js\"), WebIO.Asset(\"js\", \"knockout_punches\", \"/home/dushya/.julia/packages/Knockout/HReiN/src/../assets/knockout_punches.js\"), WebIO.Asset(\"js\", nothing, \"/home/dushya/.julia/packages/InteractBase/LJXv3/src/../assets/all.js\"), WebIO.Asset(\"css\", nothing, \"/home/dushya/.julia/packages/InteractBase/LJXv3/src/../assets/style.css\"), WebIO.Asset(\"css\", nothing, \"/home/dushya/.julia/packages/Interact/PENUy/src/../assets/bulma_confined.min.css\")], Dict{Any, Any}(\"changes\" => Any[WebIO.JSString(\"(function (val){return (val!=this.model[\\\"changes\\\"]()) ? (this.valueFromJulia[\\\"changes\\\"]=true, this.model[\\\"changes\\\"](val)) : undefined})\")], \"index\" => Any[WebIO.JSString(\"(function (val){return (val!=this.model[\\\"index\\\"]()) ? (this.valueFromJulia[\\\"index\\\"]=true, this.model[\\\"index\\\"](val)) : undefined})\")]), WebIO.ConnectionPool(Channel{Any}(32), Set{WebIO.AbstractConnection}(), Base.GenericCondition{ReentrantLock}(Base.IntrusiveLinkedList{Task}(Task (runnable) @0x00007f85baed68b0, Task (runnable) @0x00007f85baed68b0), ReentrantLock(nothing, 0x00000000, 0x00, Base.GenericCondition{Base.Threads.SpinLock}(Base.IntrusiveLinkedList{Task}(nothing, nothing), Base.Threads.SpinLock(0)), (2, 140213245164032, 140212383606672)))), WebIO.JSString[WebIO.JSString(\"function () {\\n    var handler = (function (ko, koPunches) {\\n    ko.punches.enableAll();\\n    ko.bindingHandlers.numericValue = {\\n        init: function(element, valueAccessor, allBindings, data, context) {\\n            var stringified = ko.observable(ko.unwrap(valueAccessor()));\\n            stringified.subscribe(function(value) {\\n                var val = parseFloat(value);\\n                if (!isNaN(val)) {\\n                    valueAccessor()(val);\\n                }\\n            });\\n            valueAccessor().subscribe(function(value) {\\n                var str = JSON.stringify(value);\\n                if ((str == \\\"0\\\") && ([\\\"-0\\\", \\\"-0.\\\"].indexOf(stringified()) >= 0))\\n                     return;\\n                 if ([\\\"null\\\", \\\"\\\"].indexOf(str) >= 0)\\n                     return;\\n                stringified(str);\\n            });\\n            ko.applyBindingsToNode(\\n                element,\\n                {\\n                    value: stringified,\\n                    valueUpdate: allBindings.get('valueUpdate'),\\n                },\\n                context,\\n            );\\n        }\\n    };\\n    var json_data = {\\\"formatted_vals\\\":[\\\"1\\\",\\\"2\\\",\\\"3\\\",\\\"4\\\",\\\"5\\\",\\\"6\\\",\\\"7\\\",\\\"8\\\",\\\"9\\\",\\\"10\\\",\\\"11\\\",\\\"12\\\",\\\"13\\\",\\\"14\\\",\\\"15\\\",\\\"16\\\",\\\"17\\\",\\\"18\\\",\\\"19\\\",\\\"20\\\",\\\"21\\\",\\\"22\\\",\\\"23\\\",\\\"24\\\",\\\"25\\\",\\\"26\\\",\\\"27\\\",\\\"28\\\",\\\"29\\\",\\\"30\\\",\\\"31\\\",\\\"32\\\",\\\"33\\\",\\\"34\\\",\\\"35\\\",\\\"36\\\",\\\"37\\\",\\\"38\\\",\\\"39\\\",\\\"40\\\",\\\"41\\\",\\\"42\\\",\\\"43\\\",\\\"44\\\",\\\"45\\\",\\\"46\\\",\\\"47\\\",\\\"48\\\",\\\"49\\\",\\\"50\\\",\\\"51\\\",\\\"52\\\",\\\"53\\\",\\\"54\\\",\\\"55\\\",\\\"56\\\",\\\"57\\\",\\\"58\\\",\\\"59\\\",\\\"60\\\",\\\"61\\\",\\\"62\\\",\\\"63\\\",\\\"64\\\",\\\"65\\\",\\\"66\\\",\\\"67\\\",\\\"68\\\",\\\"69\\\",\\\"70\\\",\\\"71\\\",\\\"72\\\",\\\"73\\\",\\\"74\\\",\\\"75\\\",\\\"76\\\",\\\"77\\\",\\\"78\\\",\\\"79\\\",\\\"80\\\",\\\"81\\\",\\\"82\\\",\\\"83\\\",\\\"84\\\",\\\"85\\\",\\\"86\\\",\\\"87\\\",\\\"88\\\",\\\"89\\\",\\\"90\\\",\\\"91\\\",\\\"92\\\",\\\"93\\\",\\\"94\\\",\\\"95\\\",\\\"96\\\",\\\"97\\\",\\\"98\\\",\\\"99\\\",\\\"100\\\",\\\"101\\\"],\\\"changes\\\":WebIO.getval({\\\"name\\\":\\\"changes\\\",\\\"scope\\\":\\\"7886551202898632937\\\",\\\"id\\\":\\\"16354914257684081658\\\",\\\"type\\\":\\\"observable\\\"}),\\\"index\\\":WebIO.getval({\\\"name\\\":\\\"index\\\",\\\"scope\\\":\\\"7886551202898632937\\\",\\\"id\\\":\\\"7389248436327023728\\\",\\\"type\\\":\\\"observable\\\"})};\\n    var self = this;\\n    function AppViewModel() {\\n        for (var key in json_data) {\\n            var el = json_data[key];\\n            this[key] = Array.isArray(el) ? ko.observableArray(el) : ko.observable(el);\\n        }\\n        \\n        [this[\\\"formatted_val\\\"]=ko.computed(    function(){\\n        return this.formatted_vals()[parseInt(this.index())-(1)];\\n    }\\n,this)]\\n        [this[\\\"changes\\\"].subscribe((function (val){!(this.valueFromJulia[\\\"changes\\\"]) ? (WebIO.setval({\\\"name\\\":\\\"changes\\\",\\\"scope\\\":\\\"7886551202898632937\\\",\\\"id\\\":\\\"16354914257684081658\\\",\\\"type\\\":\\\"observable\\\"},val)) : undefined; return this.valueFromJulia[\\\"changes\\\"]=false}),self),this[\\\"index\\\"].subscribe((function (val){!(this.valueFromJulia[\\\"index\\\"]) ? (WebIO.setval({\\\"name\\\":\\\"index\\\",\\\"scope\\\":\\\"7886551202898632937\\\",\\\"id\\\":\\\"7389248436327023728\\\",\\\"type\\\":\\\"observable\\\"},val)) : undefined; return this.valueFromJulia[\\\"index\\\"]=false}),self)]\\n        \\n    }\\n    self.model = new AppViewModel();\\n    self.valueFromJulia = {};\\n    for (var key in json_data) {\\n        self.valueFromJulia[key] = false;\\n    }\\n    ko.applyBindings(self.model, self.dom);\\n}\\n);\\n    (WebIO.importBlock({\\\"data\\\":[{\\\"name\\\":\\\"knockout\\\",\\\"type\\\":\\\"js\\\",\\\"url\\\":\\\"/assetserver/727383f2a47bd31570b7da84eee7b022dd6d7c78-knockout.js\\\"},{\\\"name\\\":\\\"knockout_punches\\\",\\\"type\\\":\\\"js\\\",\\\"url\\\":\\\"/assetserver/382b41b3b1bd9f26f75861d360bad7f8beea211f-knockout_punches.js\\\"}],\\\"type\\\":\\\"async_block\\\"})).then((imports) => handler.apply(this, imports));\\n}\\n\")])], Dict{Symbol, Any}(:className => \"field interact-widget\")), WebIO.Node{WebIO.DOM}(WebIO.DOM(:html, :div), Any[WebIO.Scope(WebIO.Node{WebIO.DOM}(WebIO.DOM(:html, :div), Any[WebIO.Node{WebIO.DOM}(WebIO.DOM(:html, :div), Any[WebIO.Node{WebIO.DOM}(WebIO.DOM(:html, :label), Any[\"scale\"], Dict{Symbol, Any}(:className => \"interact \", :style => Dict{Any, Any}(:padding => \"5px 10px 0px 10px\")))], Dict{Symbol, Any}(:className => \"interact-flex-row-left\")), WebIO.Node{WebIO.DOM}(WebIO.DOM(:html, :div), Any[WebIO.Node{WebIO.DOM}(WebIO.DOM(:html, :input), Any[], Dict{Symbol, Any}(:max => 20, :min => 1, :attributes => Dict{Any, Any}(:type => \"range\", Symbol(\"data-bind\") => \"numericValue: index, valueUpdate: 'input', event: {change: function (){this.changes(this.changes()+1)}}\", \"orient\" => \"horizontal\"), :step => 1, :className => \"slider slider is-fullwidth\", :style => Dict{Any, Any}()))], Dict{Symbol, Any}(:className => \"interact-flex-row-center\")), WebIO.Node{WebIO.DOM}(WebIO.DOM(:html, :div), Any[WebIO.Node{WebIO.DOM}(WebIO.DOM(:html, :p), Any[], Dict{Symbol, Any}(:attributes => Dict(\"data-bind\" => \"text: formatted_val\")))], Dict{Symbol, Any}(:className => \"interact-flex-row-right\"))], Dict{Symbol, Any}(:className => \"interact-flex-row interact-widget\")), Dict{String, Tuple{Observables.AbstractObservable, Union{Nothing, Bool}}}(\"changes\" => (Observable(0), nothing), \"index\" => (Observable{Any}(10), nothing)), Set{String}(), nothing, WebIO.Asset[WebIO.Asset(\"js\", \"knockout\", \"/home/dushya/.julia/packages/Knockout/HReiN/src/../assets/knockout.js\"), WebIO.Asset(\"js\", \"knockout_punches\", \"/home/dushya/.julia/packages/Knockout/HReiN/src/../assets/knockout_punches.js\"), WebIO.Asset(\"js\", nothing, \"/home/dushya/.julia/packages/InteractBase/LJXv3/src/../assets/all.js\"), WebIO.Asset(\"css\", nothing, \"/home/dushya/.julia/packages/InteractBase/LJXv3/src/../assets/style.css\"), WebIO.Asset(\"css\", nothing, \"/home/dushya/.julia/packages/Interact/PENUy/src/../assets/bulma_confined.min.css\")], Dict{Any, Any}(\"changes\" => Any[WebIO.JSString(\"(function (val){return (val!=this.model[\\\"changes\\\"]()) ? (this.valueFromJulia[\\\"changes\\\"]=true, this.model[\\\"changes\\\"](val)) : undefined})\")], \"index\" => Any[WebIO.JSString(\"(function (val){return (val!=this.model[\\\"index\\\"]()) ? (this.valueFromJulia[\\\"index\\\"]=true, this.model[\\\"index\\\"](val)) : undefined})\")]), WebIO.ConnectionPool(Channel{Any}(32), Set{WebIO.AbstractConnection}(), Base.GenericCondition{ReentrantLock}(Base.IntrusiveLinkedList{Task}(Task (runnable) @0x00007f85bb0bdaa0, Task (runnable) @0x00007f85bb0bdaa0), ReentrantLock(nothing, 0x00000000, 0x00, Base.GenericCondition{Base.Threads.SpinLock}(Base.IntrusiveLinkedList{Task}(nothing, nothing), Base.Threads.SpinLock(0)), (0, 140213245371360, 141733920768)))), WebIO.JSString[WebIO.JSString(\"function () {\\n    var handler = (function (ko, koPunches) {\\n    ko.punches.enableAll();\\n    ko.bindingHandlers.numericValue = {\\n        init: function(element, valueAccessor, allBindings, data, context) {\\n            var stringified = ko.observable(ko.unwrap(valueAccessor()));\\n            stringified.subscribe(function(value) {\\n                var val = parseFloat(value);\\n                if (!isNaN(val)) {\\n                    valueAccessor()(val);\\n                }\\n            });\\n            valueAccessor().subscribe(function(value) {\\n                var str = JSON.stringify(value);\\n                if ((str == \\\"0\\\") && ([\\\"-0\\\", \\\"-0.\\\"].indexOf(stringified()) >= 0))\\n                     return;\\n                 if ([\\\"null\\\", \\\"\\\"].indexOf(str) >= 0)\\n                     return;\\n                stringified(str);\\n            });\\n            ko.applyBindingsToNode(\\n                element,\\n                {\\n                    value: stringified,\\n                    valueUpdate: allBindings.get('valueUpdate'),\\n                },\\n                context,\\n            );\\n        }\\n    };\\n    var json_data = {\\\"formatted_vals\\\":[\\\"0.1\\\",\\\"0.2\\\",\\\"0.3\\\",\\\"0.4\\\",\\\"0.5\\\",\\\"0.6\\\",\\\"0.7\\\",\\\"0.8\\\",\\\"0.9\\\",\\\"1.0\\\",\\\"1.1\\\",\\\"1.2\\\",\\\"1.3\\\",\\\"1.4\\\",\\\"1.5\\\",\\\"1.6\\\",\\\"1.7\\\",\\\"1.8\\\",\\\"1.9\\\",\\\"2.0\\\"],\\\"changes\\\":WebIO.getval({\\\"name\\\":\\\"changes\\\",\\\"scope\\\":\\\"15440117328126892009\\\",\\\"id\\\":\\\"17617117404679292052\\\",\\\"type\\\":\\\"observable\\\"}),\\\"index\\\":WebIO.getval({\\\"name\\\":\\\"index\\\",\\\"scope\\\":\\\"15440117328126892009\\\",\\\"id\\\":\\\"14818653520895839042\\\",\\\"type\\\":\\\"observable\\\"})};\\n    var self = this;\\n    function AppViewModel() {\\n        for (var key in json_data) {\\n            var el = json_data[key];\\n            this[key] = Array.isArray(el) ? ko.observableArray(el) : ko.observable(el);\\n        }\\n        \\n        [this[\\\"formatted_val\\\"]=ko.computed(    function(){\\n        return this.formatted_vals()[parseInt(this.index())-(1)];\\n    }\\n,this)]\\n        [this[\\\"changes\\\"].subscribe((function (val){!(this.valueFromJulia[\\\"changes\\\"]) ? (WebIO.setval({\\\"name\\\":\\\"changes\\\",\\\"scope\\\":\\\"15440117328126892009\\\",\\\"id\\\":\\\"17617117404679292052\\\",\\\"type\\\":\\\"observable\\\"},val)) : undefined; return this.valueFromJulia[\\\"changes\\\"]=false}),self),this[\\\"index\\\"].subscribe((function (val){!(this.valueFromJulia[\\\"index\\\"]) ? (WebIO.setval({\\\"name\\\":\\\"index\\\",\\\"scope\\\":\\\"15440117328126892009\\\",\\\"id\\\":\\\"14818653520895839042\\\",\\\"type\\\":\\\"observable\\\"},val)) : undefined; return this.valueFromJulia[\\\"index\\\"]=false}),self)]\\n        \\n    }\\n    self.model = new AppViewModel();\\n    self.valueFromJulia = {};\\n    for (var key in json_data) {\\n        self.valueFromJulia[key] = false;\\n    }\\n    ko.applyBindings(self.model, self.dom);\\n}\\n);\\n    (WebIO.importBlock({\\\"data\\\":[{\\\"name\\\":\\\"knockout\\\",\\\"type\\\":\\\"js\\\",\\\"url\\\":\\\"/assetserver/727383f2a47bd31570b7da84eee7b022dd6d7c78-knockout.js\\\"},{\\\"name\\\":\\\"knockout_punches\\\",\\\"type\\\":\\\"js\\\",\\\"url\\\":\\\"/assetserver/382b41b3b1bd9f26f75861d360bad7f8beea211f-knockout_punches.js\\\"}],\\\"type\\\":\\\"async_block\\\"})).then((imports) => handler.apply(this, imports));\\n}\\n\")])], Dict{Symbol, Any}(:className => \"field interact-widget\")), WebIO.Node{WebIO.DOM}(WebIO.DOM(:html, :div), Any[WebIO.Node{WebIO.DOM}(WebIO.DOM(:html, :div), Any[WebIO.Scope(WebIO.Node{WebIO.DOM}(WebIO.DOM(:html, :div), Any[], Dict{Symbol, Any}(:id => \"container\")), Dict{String, Tuple{Observables.AbstractObservable, Union{Nothing, Bool}}}(\"value\" => (Observable(\"\\\\;\\\\;\"), nothing)), Set{String}(), nothing, WebIO.Asset[WebIO.Asset(\"js\", nothing, \"/home/dushya/.julia/packages/InteractBase/LJXv3/src/../assets/katex.min.js\"), WebIO.Asset(\"css\", nothing, \"/home/dushya/.julia/packages/InteractBase/LJXv3/src/../assets/katex.min.css\")], Dict{Any, Any}(\"value\" => Any[WebIO.JSString(\"(function (txt){return this.k.render(txt,this.container)})\")]), WebIO.ConnectionPool(Channel{Any}(32), Set{WebIO.AbstractConnection}(), Base.GenericCondition{ReentrantLock}(Base.IntrusiveLinkedList{Task}(Task (runnable) @0x00007f85bb2cd140, Task (runnable) @0x00007f85bb2cd140), ReentrantLock(nothing, 0x00000000, 0x00, Base.GenericCondition{Base.Threads.SpinLock}(Base.IntrusiveLinkedList{Task}(nothing, nothing), Base.Threads.SpinLock(0)), (326, 140212233435904, 140214360081264)))), WebIO.JSString[WebIO.JSString(\"function () {\\n    var handler = ((function (k){this.k=k; this.container=this.dom.querySelector(\\\"#container\\\"); return k.render(\\\"\\\\\\\\;\\\\\\\\;\\\",this.container)}));\\n    (WebIO.importBlock({\\\"data\\\":[{\\\"name\\\":null,\\\"type\\\":\\\"js\\\",\\\"url\\\":\\\"/assetserver/dd22ed1bf1896c2748f3fe616ce0b838adc895c1-katex.min.js\\\"},{\\\"name\\\":null,\\\"type\\\":\\\"css\\\",\\\"url\\\":\\\"/assetserver/46517a424aa5e6cffc1360d7e0848b601c584ee3-katex.min.css\\\"}],\\\"type\\\":\\\"async_block\\\"})).then((imports) => handler.apply(this, imports));\\n}\\n\")])], Dict{Symbol, Any}(:className => \"interact-widget\")), WebIO.Node{WebIO.DOM}(WebIO.DOM(:html, :div), Any[WebIO.Scope(WebIO.Node{WebIO.DOM}(WebIO.DOM(:html, :button), Any[\"run\"], Dict{Symbol, Any}(:attributes => Dict{Any, Any}(\"data-bind\" => \"click: function (){this.clicks(this.clicks()+1)}, css: {'is-loading' : loading}\"), :className => \"is-medium button is-primary\", :style => Dict{String, Any}())), Dict{String, Tuple{Observables.AbstractObservable, Union{Nothing, Bool}}}(\"loading\" => (Observable(false), nothing), \"clicks\" => (Observable(0), nothing)), Set{String}(), nothing, WebIO.Asset[WebIO.Asset(\"js\", \"knockout\", \"/home/dushya/.julia/packages/Knockout/HReiN/src/../assets/knockout.js\"), WebIO.Asset(\"js\", \"knockout_punches\", \"/home/dushya/.julia/packages/Knockout/HReiN/src/../assets/knockout_punches.js\"), WebIO.Asset(\"js\", nothing, \"/home/dushya/.julia/packages/InteractBase/LJXv3/src/../assets/all.js\"), WebIO.Asset(\"css\", nothing, \"/home/dushya/.julia/packages/InteractBase/LJXv3/src/../assets/style.css\"), WebIO.Asset(\"css\", nothing, \"/home/dushya/.julia/packages/Interact/PENUy/src/../assets/bulma_confined.min.css\")], Dict{Any, Any}(\"loading\" => Any[WebIO.JSString(\"(function (val){return (val!=this.model[\\\"loading\\\"]()) ? (this.valueFromJulia[\\\"loading\\\"]=true, this.model[\\\"loading\\\"](val)) : undefined})\")], \"clicks\" => Any[WebIO.JSString(\"(function (val){return (val!=this.model[\\\"clicks\\\"]()) ? (this.valueFromJulia[\\\"clicks\\\"]=true, this.model[\\\"clicks\\\"](val)) : undefined})\")]), WebIO.ConnectionPool(Channel{Any}(32), Set{WebIO.AbstractConnection}(), Base.GenericCondition{ReentrantLock}(Base.IntrusiveLinkedList{Task}(Task (runnable) @0x00007f85bb1fbd00, Task (runnable) @0x00007f85bb1fbd00), ReentrantLock(nothing, 0x00000000, 0x00, Base.GenericCondition{Base.Threads.SpinLock}(Base.IntrusiveLinkedList{Task}(nothing, nothing), Base.Threads.SpinLock(0)), (1, -1, 140214360076608)))), WebIO.JSString[WebIO.JSString(\"function () {\\n    var handler = (function (ko, koPunches) {\\n    ko.punches.enableAll();\\n    ko.bindingHandlers.numericValue = {\\n        init: function(element, valueAccessor, allBindings, data, context) {\\n            var stringified = ko.observable(ko.unwrap(valueAccessor()));\\n            stringified.subscribe(function(value) {\\n                var val = parseFloat(value);\\n                if (!isNaN(val)) {\\n                    valueAccessor()(val);\\n                }\\n            });\\n            valueAccessor().subscribe(function(value) {\\n                var str = JSON.stringify(value);\\n                if ((str == \\\"0\\\") && ([\\\"-0\\\", \\\"-0.\\\"].indexOf(stringified()) >= 0))\\n                     return;\\n                 if ([\\\"null\\\", \\\"\\\"].indexOf(str) >= 0)\\n                     return;\\n                stringified(str);\\n            });\\n            ko.applyBindingsToNode(\\n                element,\\n                {\\n                    value: stringified,\\n                    valueUpdate: allBindings.get('valueUpdate'),\\n                },\\n                context,\\n            );\\n        }\\n    };\\n    var json_data = {\\\"loading\\\":WebIO.getval({\\\"name\\\":\\\"loading\\\",\\\"scope\\\":\\\"1419120908629554966\\\",\\\"id\\\":\\\"16262247993939554837\\\",\\\"type\\\":\\\"observable\\\"}),\\\"clicks\\\":WebIO.getval({\\\"name\\\":\\\"clicks\\\",\\\"scope\\\":\\\"1419120908629554966\\\",\\\"id\\\":\\\"6498193483933683476\\\",\\\"type\\\":\\\"observable\\\"})};\\n    var self = this;\\n    function AppViewModel() {\\n        for (var key in json_data) {\\n            var el = json_data[key];\\n            this[key] = Array.isArray(el) ? ko.observableArray(el) : ko.observable(el);\\n        }\\n        \\n        \\n        [this[\\\"loading\\\"].subscribe((function (val){!(this.valueFromJulia[\\\"loading\\\"]) ? (WebIO.setval({\\\"name\\\":\\\"loading\\\",\\\"scope\\\":\\\"1419120908629554966\\\",\\\"id\\\":\\\"16262247993939554837\\\",\\\"type\\\":\\\"observable\\\"},val)) : undefined; return this.valueFromJulia[\\\"loading\\\"]=false}),self),this[\\\"clicks\\\"].subscribe((function (val){!(this.valueFromJulia[\\\"clicks\\\"]) ? (WebIO.setval({\\\"name\\\":\\\"clicks\\\",\\\"scope\\\":\\\"1419120908629554966\\\",\\\"id\\\":\\\"6498193483933683476\\\",\\\"type\\\":\\\"observable\\\"},val)) : undefined; return this.valueFromJulia[\\\"clicks\\\"]=false}),self)]\\n        \\n    }\\n    self.model = new AppViewModel();\\n    self.valueFromJulia = {};\\n    for (var key in json_data) {\\n        self.valueFromJulia[key] = false;\\n    }\\n    ko.applyBindings(self.model, self.dom);\\n}\\n);\\n    (WebIO.importBlock({\\\"data\\\":[{\\\"name\\\":\\\"knockout\\\",\\\"type\\\":\\\"js\\\",\\\"url\\\":\\\"/assetserver/727383f2a47bd31570b7da84eee7b022dd6d7c78-knockout.js\\\"},{\\\"name\\\":\\\"knockout_punches\\\",\\\"type\\\":\\\"js\\\",\\\"url\\\":\\\"/assetserver/382b41b3b1bd9f26f75861d360bad7f8beea211f-knockout_punches.js\\\"}],\\\"type\\\":\\\"async_block\\\"})).then((imports) => handler.apply(this, imports));\\n}\\n\")])], Dict{Symbol, Any}(:className => \"field interact-widget\")), WebIO.Node{WebIO.DOM}(WebIO.DOM(:html, :div), Any[WebIO.Scope(WebIO.Node{WebIO.DOM}(WebIO.DOM(:html, :div), Any[], Dict{Symbol, Any}(:id => \"container\")), Dict{String, Tuple{Observables.AbstractObservable, Union{Nothing, Bool}}}(\"value\" => (Observable(\"\\\\;\\\\;\"), nothing)), Set{String}(), nothing, WebIO.Asset[WebIO.Asset(\"js\", nothing, \"/home/dushya/.julia/packages/InteractBase/LJXv3/src/../assets/katex.min.js\"), WebIO.Asset(\"css\", nothing, \"/home/dushya/.julia/packages/InteractBase/LJXv3/src/../assets/katex.min.css\")], Dict{Any, Any}(\"value\" => Any[WebIO.JSString(\"(function (txt){return this.k.render(txt,this.container)})\")]), WebIO.ConnectionPool(Channel{Any}(32), Set{WebIO.AbstractConnection}(), Base.GenericCondition{ReentrantLock}(Base.IntrusiveLinkedList{Task}(Task (runnable) @0x00007f85bb2cd140, Task (runnable) @0x00007f85bb2cd140), ReentrantLock(nothing, 0x00000000, 0x00, Base.GenericCondition{Base.Threads.SpinLock}(Base.IntrusiveLinkedList{Task}(nothing, nothing), Base.Threads.SpinLock(0)), (326, 140212233435904, 140214360081264)))), WebIO.JSString[WebIO.JSString(\"function () {\\n    var handler = ((function (k){this.k=k; this.container=this.dom.querySelector(\\\"#container\\\"); return k.render(\\\"\\\\\\\\;\\\\\\\\;\\\",this.container)}));\\n    (WebIO.importBlock({\\\"data\\\":[{\\\"name\\\":null,\\\"type\\\":\\\"js\\\",\\\"url\\\":\\\"/assetserver/dd22ed1bf1896c2748f3fe616ce0b838adc895c1-katex.min.js\\\"},{\\\"name\\\":null,\\\"type\\\":\\\"css\\\",\\\"url\\\":\\\"/assetserver/46517a424aa5e6cffc1360d7e0848b601c584ee3-katex.min.css\\\"}],\\\"type\\\":\\\"async_block\\\"})).then((imports) => handler.apply(this, imports));\\n}\\n\")])], Dict{Symbol, Any}(:className => \"interact-widget\")), WebIO.Node{WebIO.DOM}(WebIO.DOM(:html, :div), Any[WebIO.Scope(WebIO.Node{WebIO.DOM}(WebIO.DOM(:html, :button), Any[\"stop\"], Dict{Symbol, Any}(:attributes => Dict{Any, Any}(\"data-bind\" => \"click: function (){this.clicks(this.clicks()+1)}, css: {'is-loading' : loading}\"), :className => \"is-medium button is-primary\", :style => Dict{String, Any}())), Dict{String, Tuple{Observables.AbstractObservable, Union{Nothing, Bool}}}(\"loading\" => (Observable(false), nothing), \"clicks\" => (Observable(0), nothing)), Set{String}(), nothing, WebIO.Asset[WebIO.Asset(\"js\", \"knockout\", \"/home/dushya/.julia/packages/Knockout/HReiN/src/../assets/knockout.js\"), WebIO.Asset(\"js\", \"knockout_punches\", \"/home/dushya/.julia/packages/Knockout/HReiN/src/../assets/knockout_punches.js\"), WebIO.Asset(\"js\", nothing, \"/home/dushya/.julia/packages/InteractBase/LJXv3/src/../assets/all.js\"), WebIO.Asset(\"css\", nothing, \"/home/dushya/.julia/packages/InteractBase/LJXv3/src/../assets/style.css\"), WebIO.Asset(\"css\", nothing, \"/home/dushya/.julia/packages/Interact/PENUy/src/../assets/bulma_confined.min.css\")], Dict{Any, Any}(\"loading\" => Any[WebIO.JSString(\"(function (val){return (val!=this.model[\\\"loading\\\"]()) ? (this.valueFromJulia[\\\"loading\\\"]=true, this.model[\\\"loading\\\"](val)) : undefined})\")], \"clicks\" => Any[WebIO.JSString(\"(function (val){return (val!=this.model[\\\"clicks\\\"]()) ? (this.valueFromJulia[\\\"clicks\\\"]=true, this.model[\\\"clicks\\\"](val)) : undefined})\")]), WebIO.ConnectionPool(Channel{Any}(32), Set{WebIO.AbstractConnection}(), Base.GenericCondition{ReentrantLock}(Base.IntrusiveLinkedList{Task}(Task (runnable) @0x00007f85bb2468b0, Task (runnable) @0x00007f85bb2468b0), ReentrantLock(nothing, 0x00000000, 0x00, Base.GenericCondition{Base.Threads.SpinLock}(Base.IntrusiveLinkedList{Task}(nothing, nothing), Base.Threads.SpinLock(0)), (0, 140212424025104, 140212209872400)))), WebIO.JSString[WebIO.JSString(\"function () {\\n    var handler = (function (ko, koPunches) {\\n    ko.punches.enableAll();\\n    ko.bindingHandlers.numericValue = {\\n        init: function(element, valueAccessor, allBindings, data, context) {\\n            var stringified = ko.observable(ko.unwrap(valueAccessor()));\\n            stringified.subscribe(function(value) {\\n                var val = parseFloat(value);\\n                if (!isNaN(val)) {\\n                    valueAccessor()(val);\\n                }\\n            });\\n            valueAccessor().subscribe(function(value) {\\n                var str = JSON.stringify(value);\\n                if ((str == \\\"0\\\") && ([\\\"-0\\\", \\\"-0.\\\"].indexOf(stringified()) >= 0))\\n                     return;\\n                 if ([\\\"null\\\", \\\"\\\"].indexOf(str) >= 0)\\n                     return;\\n                stringified(str);\\n            });\\n            ko.applyBindingsToNode(\\n                element,\\n                {\\n                    value: stringified,\\n                    valueUpdate: allBindings.get('valueUpdate'),\\n                },\\n                context,\\n            );\\n        }\\n    };\\n    var json_data = {\\\"loading\\\":WebIO.getval({\\\"name\\\":\\\"loading\\\",\\\"scope\\\":\\\"5670358026422364210\\\",\\\"id\\\":\\\"7010098190133914251\\\",\\\"type\\\":\\\"observable\\\"}),\\\"clicks\\\":WebIO.getval({\\\"name\\\":\\\"clicks\\\",\\\"scope\\\":\\\"5670358026422364210\\\",\\\"id\\\":\\\"15547464823033805975\\\",\\\"type\\\":\\\"observable\\\"})};\\n    var self = this;\\n    function AppViewModel() {\\n        for (var key in json_data) {\\n            var el = json_data[key];\\n            this[key] = Array.isArray(el) ? ko.observableArray(el) : ko.observable(el);\\n        }\\n        \\n        \\n        [this[\\\"loading\\\"].subscribe((function (val){!(this.valueFromJulia[\\\"loading\\\"]) ? (WebIO.setval({\\\"name\\\":\\\"loading\\\",\\\"scope\\\":\\\"5670358026422364210\\\",\\\"id\\\":\\\"7010098190133914251\\\",\\\"type\\\":\\\"observable\\\"},val)) : undefined; return this.valueFromJulia[\\\"loading\\\"]=false}),self),this[\\\"clicks\\\"].subscribe((function (val){!(this.valueFromJulia[\\\"clicks\\\"]) ? (WebIO.setval({\\\"name\\\":\\\"clicks\\\",\\\"scope\\\":\\\"5670358026422364210\\\",\\\"id\\\":\\\"15547464823033805975\\\",\\\"type\\\":\\\"observable\\\"},val)) : undefined; return this.valueFromJulia[\\\"clicks\\\"]=false}),self)]\\n        \\n    }\\n    self.model = new AppViewModel();\\n    self.valueFromJulia = {};\\n    for (var key in json_data) {\\n        self.valueFromJulia[key] = false;\\n    }\\n    ko.applyBindings(self.model, self.dom);\\n}\\n);\\n    (WebIO.importBlock({\\\"data\\\":[{\\\"name\\\":\\\"knockout\\\",\\\"type\\\":\\\"js\\\",\\\"url\\\":\\\"/assetserver/727383f2a47bd31570b7da84eee7b022dd6d7c78-knockout.js\\\"},{\\\"name\\\":\\\"knockout_punches\\\",\\\"type\\\":\\\"js\\\",\\\"url\\\":\\\"/assetserver/382b41b3b1bd9f26f75861d360bad7f8beea211f-knockout_punches.js\\\"}],\\\"type\\\":\\\"async_block\\\"})).then((imports) => handler.apply(this, imports));\\n}\\n\")])], Dict{Symbol, Any}(:className => \"field interact-widget\"))], Dict{Symbol, Any}(:style => Dict(\"display\" => \"flex\", \"flex-direction\" => \"row\")))], Dict{Symbol, Any}(:style => Dict(\"display\" => \"flex\", \"flex-direction\" => \"column\"))), Observable(MeshCat.DisplayedVisualizer(MeshCat.CoreVisualizer(MeshCat.SceneTrees.SceneNode(nothing, nothing, Dict{String, Vector{UInt8}}(), nothing, Dict{String, MeshCat.SceneTrees.SceneNode}(\"meshcat\" => MeshCat.SceneTrees.SceneNode(nothing, UInt8[0x83, 0xa6, 0x6d, 0x61, 0x74, 0x72, 0x69, 0x78, 0xc7, 0x40  …  0x68, 0xa8, 0x2f, 0x6d, 0x65, 0x73, 0x68, 0x63, 0x61, 0x74], Dict{String, Vector{UInt8}}(), nothing, Dict{String, MeshCat.SceneTrees.SceneNode}(\"nodes\" => MeshCat.SceneTrees.SceneNode(nothing, nothing, Dict{String, Vector{UInt8}}(), nothing, Dict{String, MeshCat.SceneTrees.SceneNode}(\"32\" => MeshCat.SceneTrees.SceneNode(nothing, UInt8[0x83, 0xa6, 0x6d, 0x61, 0x74, 0x72, 0x69, 0x78, 0xc7, 0x40  …  0x74, 0x2f, 0x6e, 0x6f, 0x64, 0x65, 0x73, 0x2f, 0x33, 0x32], Dict{String, Vector{UInt8}}(\"scale\" => [0x84, 0xa8, 0x70, 0x72, 0x6f, 0x70, 0x65, 0x72, 0x74, 0x79  …  0x74, 0x2f, 0x6e, 0x6f, 0x64, 0x65, 0x73, 0x2f, 0x33, 0x32]), nothing, Dict{String, MeshCat.SceneTrees.SceneNode}(\"(1.0N0f8, 0.0N0f8, 0.0N0f8, 1.0N0f8)\" => MeshCat.SceneTrees.SceneNode(UInt8[0x83, 0xa6, 0x6f, 0x62, 0x6a, 0x65, 0x63, 0x74, 0x84, 0xaa  …  0x2c, 0x20, 0x31, 0x2e, 0x30, 0x4e, 0x30, 0x66, 0x38, 0x29], nothing, Dict{String, Vector{UInt8}}(\"visible\" => [0x84, 0xa8, 0x70, 0x72, 0x6f, 0x70, 0x65, 0x72, 0x74, 0x79  …  0x2c, 0x20, 0x31, 0x2e, 0x30, 0x4e, 0x30, 0x66, 0x38, 0x29]), nothing, Dict{String, MeshCat.SceneTrees.SceneNode}()), \"(0.0N0f8, 0.0N0f8, 0.0N0f8, 1.0N0f8)\" => MeshCat.SceneTrees.SceneNode(UInt8[0x83, 0xa6, 0x6f, 0x62, 0x6a, 0x65, 0x63, 0x74, 0x84, 0xaa  …  0x2c, 0x20, 0x31, 0x2e, 0x30, 0x4e, 0x30, 0x66, 0x38, 0x29], nothing, Dict{String, Vector{UInt8}}(\"visible\" => [0x84, 0xa8, 0x70, 0x72, 0x6f, 0x70, 0x65, 0x72, 0x74, 0x79  …  0x2c, 0x20, 0x31, 0x2e, 0x30, 0x4e, 0x30, 0x66, 0x38, 0x29]), nothing, Dict{String, MeshCat.SceneTrees.SceneNode}()))), \"29\" => MeshCat.SceneTrees.SceneNode(nothing, UInt8[0x83, 0xa6, 0x6d, 0x61, 0x74, 0x72, 0x69, 0x78, 0xc7, 0x40  …  0x74, 0x2f, 0x6e, 0x6f, 0x64, 0x65, 0x73, 0x2f, 0x32, 0x39], Dict{String, Vector{UInt8}}(\"scale\" => [0x84, 0xa8, 0x70, 0x72, 0x6f, 0x70, 0x65, 0x72, 0x74, 0x79  …  0x74, 0x2f, 0x6e, 0x6f, 0x64, 0x65, 0x73, 0x2f, 0x32, 0x39]), nothing, Dict{String, MeshCat.SceneTrees.SceneNode}(\"(1.0N0f8, 0.0N0f8, 0.0N0f8, 1.0N0f8)\" => MeshCat.SceneTrees.SceneNode(UInt8[0x83, 0xa6, 0x6f, 0x62, 0x6a, 0x65, 0x63, 0x74, 0x84, 0xaa  …  0x2c, 0x20, 0x31, 0x2e, 0x30, 0x4e, 0x30, 0x66, 0x38, 0x29], nothing, Dict{String, Vector{UInt8}}(\"visible\" => [0x84, 0xa8, 0x70, 0x72, 0x6f, 0x70, 0x65, 0x72, 0x74, 0x79  …  0x2c, 0x20, 0x31, 0x2e, 0x30, 0x4e, 0x30, 0x66, 0x38, 0x29]), nothing, Dict{String, MeshCat.SceneTrees.SceneNode}()))), \"1\" => MeshCat.SceneTrees.SceneNode(nothing, UInt8[0x83, 0xa6, 0x6d, 0x61, 0x74, 0x72, 0x69, 0x78, 0xc7, 0x40  …  0x61, 0x74, 0x2f, 0x6e, 0x6f, 0x64, 0x65, 0x73, 0x2f, 0x31], Dict{String, Vector{UInt8}}(\"scale\" => [0x84, 0xa8, 0x70, 0x72, 0x6f, 0x70, 0x65, 0x72, 0x74, 0x79  …  0x61, 0x74, 0x2f, 0x6e, 0x6f, 0x64, 0x65, 0x73, 0x2f, 0x31]), nothing, Dict{String, MeshCat.SceneTrees.SceneNode}(\"(0.0N0f8, 0.0N0f8, 0.0N0f8, 1.0N0f8)\" => MeshCat.SceneTrees.SceneNode(UInt8[0x83, 0xa6, 0x6f, 0x62, 0x6a, 0x65, 0x63, 0x74, 0x84, 0xaa  …  0x2c, 0x20, 0x31, 0x2e, 0x30, 0x4e, 0x30, 0x66, 0x38, 0x29], nothing, Dict{String, Vector{UInt8}}(\"visible\" => [0x84, 0xa8, 0x70, 0x72, 0x6f, 0x70, 0x65, 0x72, 0x74, 0x79  …  0x2c, 0x20, 0x31, 0x2e, 0x30, 0x4e, 0x30, 0x66, 0x38, 0x29]), nothing, Dict{String, MeshCat.SceneTrees.SceneNode}()), \"(1.0N0f8, 0.0N0f8, 0.0N0f8, 1.0N0f8)\" => MeshCat.SceneTrees.SceneNode(UInt8[0x83, 0xa6, 0x6f, 0x62, 0x6a, 0x65, 0x63, 0x74, 0x84, 0xaa  …  0x2c, 0x20, 0x31, 0x2e, 0x30, 0x4e, 0x30, 0x66, 0x38, 0x29], nothing, Dict{String, Vector{UInt8}}(\"visible\" => [0x84, 0xa8, 0x70, 0x72, 0x6f, 0x70, 0x65, 0x72, 0x74, 0x79  …  0x2c, 0x20, 0x31, 0x2e, 0x30, 0x4e, 0x30, 0x66, 0x38, 0x29]), nothing, Dict{String, MeshCat.SceneTrees.SceneNode}()))), \"54\" => MeshCat.SceneTrees.SceneNode(nothing, UInt8[0x83, 0xa6, 0x6d, 0x61, 0x74, 0x72, 0x69, 0x78, 0xc7, 0x40  …  0x74, 0x2f, 0x6e, 0x6f, 0x64, 0x65, 0x73, 0x2f, 0x35, 0x34], Dict{String, Vector{UInt8}}(\"scale\" => [0x84, 0xa8, 0x70, 0x72, 0x6f, 0x70, 0x65, 0x72, 0x74, 0x79  …  0x74, 0x2f, 0x6e, 0x6f, 0x64, 0x65, 0x73, 0x2f, 0x35, 0x34]), nothing, Dict{String, MeshCat.SceneTrees.SceneNode}(\"(0.0N0f8, 0.0N0f8, 0.0N0f8, 1.0N0f8)\" => MeshCat.SceneTrees.SceneNode(UInt8[0x83, 0xa6, 0x6f, 0x62, 0x6a, 0x65, 0x63, 0x74, 0x84, 0xaa  …  0x2c, 0x20, 0x31, 0x2e, 0x30, 0x4e, 0x30, 0x66, 0x38, 0x29], nothing, Dict{String, Vector{UInt8}}(\"visible\" => [0x84, 0xa8, 0x70, 0x72, 0x6f, 0x70, 0x65, 0x72, 0x74, 0x79  …  0x2c, 0x20, 0x31, 0x2e, 0x30, 0x4e, 0x30, 0x66, 0x38, 0x29]), nothing, Dict{String, MeshCat.SceneTrees.SceneNode}()), \"(1.0N0f8, 0.0N0f8, 0.0N0f8, 1.0N0f8)\" => MeshCat.SceneTrees.SceneNode(UInt8[0x83, 0xa6, 0x6f, 0x62, 0x6a, 0x65, 0x63, 0x74, 0x84, 0xaa  …  0x2c, 0x20, 0x31, 0x2e, 0x30, 0x4e, 0x30, 0x66, 0x38, 0x29], nothing, Dict{String, Vector{UInt8}}(\"visible\" => [0x84, 0xa8, 0x70, 0x72, 0x6f, 0x70, 0x65, 0x72, 0x74, 0x79  …  0x2c, 0x20, 0x31, 0x2e, 0x30, 0x4e, 0x30, 0x66, 0x38, 0x29]), nothing, Dict{String, MeshCat.SceneTrees.SceneNode}()))), \"78\" => MeshCat.SceneTrees.SceneNode(nothing, UInt8[0x83, 0xa6, 0x6d, 0x61, 0x74, 0x72, 0x69, 0x78, 0xc7, 0x40  …  0x74, 0x2f, 0x6e, 0x6f, 0x64, 0x65, 0x73, 0x2f, 0x37, 0x38], Dict{String, Vector{UInt8}}(\"scale\" => [0x84, 0xa8, 0x70, 0x72, 0x6f, 0x70, 0x65, 0x72, 0x74, 0x79  …  0x74, 0x2f, 0x6e, 0x6f, 0x64, 0x65, 0x73, 0x2f, 0x37, 0x38]), nothing, Dict{String, MeshCat.SceneTrees.SceneNode}(\"(0.0N0f8, 0.0N0f8, 0.0N0f8, 1.0N0f8)\" => MeshCat.SceneTrees.SceneNode(UInt8[0x83, 0xa6, 0x6f, 0x62, 0x6a, 0x65, 0x63, 0x74, 0x84, 0xaa  …  0x2c, 0x20, 0x31, 0x2e, 0x30, 0x4e, 0x30, 0x66, 0x38, 0x29], nothing, Dict{String, Vector{UInt8}}(\"visible\" => [0x84, 0xa8, 0x70, 0x72, 0x6f, 0x70, 0x65, 0x72, 0x74, 0x79  …  0x2c, 0x20, 0x31, 0x2e, 0x30, 0x4e, 0x30, 0x66, 0x38, 0x29]), nothing, Dict{String, MeshCat.SceneTrees.SceneNode}()))), \"81\" => MeshCat.SceneTrees.SceneNode(nothing, UInt8[0x83, 0xa6, 0x6d, 0x61, 0x74, 0x72, 0x69, 0x78, 0xc7, 0x40  …  0x74, 0x2f, 0x6e, 0x6f, 0x64, 0x65, 0x73, 0x2f, 0x38, 0x31], Dict{String, Vector{UInt8}}(\"scale\" => [0x84, 0xa8, 0x70, 0x72, 0x6f, 0x70, 0x65, 0x72, 0x74, 0x79  …  0x74, 0x2f, 0x6e, 0x6f, 0x64, 0x65, 0x73, 0x2f, 0x38, 0x31]), nothing, Dict{String, MeshCat.SceneTrees.SceneNode}(\"(0.0N0f8, 0.0N0f8, 0.0N0f8, 1.0N0f8)\" => MeshCat.SceneTrees.SceneNode(UInt8[0x83, 0xa6, 0x6f, 0x62, 0x6a, 0x65, 0x63, 0x74, 0x84, 0xaa  …  0x2c, 0x20, 0x31, 0x2e, 0x30, 0x4e, 0x30, 0x66, 0x38, 0x29], nothing, Dict{String, Vector{UInt8}}(\"visible\" => [0x84, 0xa8, 0x70, 0x72, 0x6f, 0x70, 0x65, 0x72, 0x74, 0x79  …  0x2c, 0x20, 0x31, 0x2e, 0x30, 0x4e, 0x30, 0x66, 0x38, 0x29]), nothing, Dict{String, MeshCat.SceneTrees.SceneNode}()), \"(1.0N0f8, 0.0N0f8, 0.0N0f8, 1.0N0f8)\" => MeshCat.SceneTrees.SceneNode(UInt8[0x83, 0xa6, 0x6f, 0x62, 0x6a, 0x65, 0x63, 0x74, 0x84, 0xaa  …  0x2c, 0x20, 0x31, 0x2e, 0x30, 0x4e, 0x30, 0x66, 0x38, 0x29], nothing, Dict{String, Vector{UInt8}}(\"visible\" => [0x84, 0xa8, 0x70, 0x72, 0x6f, 0x70, 0x65, 0x72, 0x74, 0x79  …  0x2c, 0x20, 0x31, 0x2e, 0x30, 0x4e, 0x30, 0x66, 0x38, 0x29]), nothing, Dict{String, MeshCat.SceneTrees.SceneNode}()))), \"2\" => MeshCat.SceneTrees.SceneNode(nothing, UInt8[0x83, 0xa6, 0x6d, 0x61, 0x74, 0x72, 0x69, 0x78, 0xc7, 0x40  …  0x61, 0x74, 0x2f, 0x6e, 0x6f, 0x64, 0x65, 0x73, 0x2f, 0x32], Dict{String, Vector{UInt8}}(\"scale\" => [0x84, 0xa8, 0x70, 0x72, 0x6f, 0x70, 0x65, 0x72, 0x74, 0x79  …  0x61, 0x74, 0x2f, 0x6e, 0x6f, 0x64, 0x65, 0x73, 0x2f, 0x32]), nothing, Dict{String, MeshCat.SceneTrees.SceneNode}(\"(1.0N0f8, 0.0N0f8, 0.0N0f8, 1.0N0f8)\" => MeshCat.SceneTrees.SceneNode(UInt8[0x83, 0xa6, 0x6f, 0x62, 0x6a, 0x65, 0x63, 0x74, 0x84, 0xaa  …  0x2c, 0x20, 0x31, 0x2e, 0x30, 0x4e, 0x30, 0x66, 0x38, 0x29], nothing, Dict{String, Vector{UInt8}}(\"visible\" => [0x84, 0xa8, 0x70, 0x72, 0x6f, 0x70, 0x65, 0x72, 0x74, 0x79  …  0x2c, 0x20, 0x31, 0x2e, 0x30, 0x4e, 0x30, 0x66, 0x38, 0x29]), nothing, Dict{String, MeshCat.SceneTrees.SceneNode}()), \"(0.0N0f8, 0.0N0f8, 0.0N0f8, 1.0N0f8)\" => MeshCat.SceneTrees.SceneNode(UInt8[0x83, 0xa6, 0x6f, 0x62, 0x6a, 0x65, 0x63, 0x74, 0x84, 0xaa  …  0x2c, 0x20, 0x31, 0x2e, 0x30, 0x4e, 0x30, 0x66, 0x38, 0x29], nothing, Dict{String, Vector{UInt8}}(\"visible\" => [0x84, 0xa8, 0x70, 0x72, 0x6f, 0x70, 0x65, 0x72, 0x74, 0x79  …  0x2c, 0x20, 0x31, 0x2e, 0x30, 0x4e, 0x30, 0x66, 0x38, 0x29]), nothing, Dict{String, MeshCat.SceneTrees.SceneNode}()))), \"74\" => MeshCat.SceneTrees.SceneNode(nothing, UInt8[0x83, 0xa6, 0x6d, 0x61, 0x74, 0x72, 0x69, 0x78, 0xc7, 0x40  …  0x74, 0x2f, 0x6e, 0x6f, 0x64, 0x65, 0x73, 0x2f, 0x37, 0x34], Dict{String, Vector{UInt8}}(\"scale\" => [0x84, 0xa8, 0x70, 0x72, 0x6f, 0x70, 0x65, 0x72, 0x74, 0x79  …  0x74, 0x2f, 0x6e, 0x6f, 0x64, 0x65, 0x73, 0x2f, 0x37, 0x34]), nothing, Dict{String, MeshCat.SceneTrees.SceneNode}(\"(1.0N0f8, 0.0N0f8, 0.0N0f8, 1.0N0f8)\" => MeshCat.SceneTrees.SceneNode(UInt8[0x83, 0xa6, 0x6f, 0x62, 0x6a, 0x65, 0x63, 0x74, 0x84, 0xaa  …  0x2c, 0x20, 0x31, 0x2e, 0x30, 0x4e, 0x30, 0x66, 0x38, 0x29], nothing, Dict{String, Vector{UInt8}}(\"visible\" => [0x84, 0xa8, 0x70, 0x72, 0x6f, 0x70, 0x65, 0x72, 0x74, 0x79  …  0x2c, 0x20, 0x31, 0x2e, 0x30, 0x4e, 0x30, 0x66, 0x38, 0x29]), nothing, Dict{String, MeshCat.SceneTrees.SceneNode}()))), \"41\" => MeshCat.SceneTrees.SceneNode(nothing, UInt8[0x83, 0xa6, 0x6d, 0x61, 0x74, 0x72, 0x69, 0x78, 0xc7, 0x40  …  0x74, 0x2f, 0x6e, 0x6f, 0x64, 0x65, 0x73, 0x2f, 0x34, 0x31], Dict{String, Vector{UInt8}}(\"scale\" => [0x84, 0xa8, 0x70, 0x72, 0x6f, 0x70, 0x65, 0x72, 0x74, 0x79  …  0x74, 0x2f, 0x6e, 0x6f, 0x64, 0x65, 0x73, 0x2f, 0x34, 0x31]), nothing, Dict{String, MeshCat.SceneTrees.SceneNode}(\"(1.0N0f8, 0.0N0f8, 0.0N0f8, 1.0N0f8)\" => MeshCat.SceneTrees.SceneNode(UInt8[0x83, 0xa6, 0x6f, 0x62, 0x6a, 0x65, 0x63, 0x74, 0x84, 0xaa  …  0x2c, 0x20, 0x31, 0x2e, 0x30, 0x4e, 0x30, 0x66, 0x38, 0x29], nothing, Dict{String, Vector{UInt8}}(\"visible\" => [0x84, 0xa8, 0x70, 0x72, 0x6f, 0x70, 0x65, 0x72, 0x74, 0x79  …  0x2c, 0x20, 0x31, 0x2e, 0x30, 0x4e, 0x30, 0x66, 0x38, 0x29]), nothing, Dict{String, MeshCat.SceneTrees.SceneNode}()))), \"65\" => MeshCat.SceneTrees.SceneNode(nothing, UInt8[0x83, 0xa6, 0x6d, 0x61, 0x74, 0x72, 0x69, 0x78, 0xc7, 0x40  …  0x74, 0x2f, 0x6e, 0x6f, 0x64, 0x65, 0x73, 0x2f, 0x36, 0x35], Dict{String, Vector{UInt8}}(\"scale\" => [0x84, 0xa8, 0x70, 0x72, 0x6f, 0x70, 0x65, 0x72, 0x74, 0x79  …  0x74, 0x2f, 0x6e, 0x6f, 0x64, 0x65, 0x73, 0x2f, 0x36, 0x35]), nothing, Dict{String, MeshCat.SceneTrees.SceneNode}(\"(0.0N0f8, 0.0N0f8, 0.0N0f8, 1.0N0f8)\" => MeshCat.SceneTrees.SceneNode(UInt8[0x83, 0xa6, 0x6f, 0x62, 0x6a, 0x65, 0x63, 0x74, 0x84, 0xaa  …  0x2c, 0x20, 0x31, 0x2e, 0x30, 0x4e, 0x30, 0x66, 0x38, 0x29], nothing, Dict{String, Vector{UInt8}}(\"visible\" => [0x84, 0xa8, 0x70, 0x72, 0x6f, 0x70, 0x65, 0x72, 0x74, 0x79  …  0x2c, 0x20, 0x31, 0x2e, 0x30, 0x4e, 0x30, 0x66, 0x38, 0x29]), nothing, Dict{String, MeshCat.SceneTrees.SceneNode}()), \"(1.0N0f8, 0.0N0f8, 0.0N0f8, 1.0N0f8)\" => MeshCat.SceneTrees.SceneNode(UInt8[0x83, 0xa6, 0x6f, 0x62, 0x6a, 0x65, 0x63, 0x74, 0x84, 0xaa  …  0x2c, 0x20, 0x31, 0x2e, 0x30, 0x4e, 0x30, 0x66, 0x38, 0x29], nothing, Dict{String, Vector{UInt8}}(\"visible\" => [0x84, 0xa8, 0x70, 0x72, 0x6f, 0x70, 0x65, 0x72, 0x74, 0x79  …  0x2c, 0x20, 0x31, 0x2e, 0x30, 0x4e, 0x30, 0x66, 0x38, 0x29]), nothing, Dict{String, MeshCat.SceneTrees.SceneNode}())))…)), \"bbox_line_segments\" => MeshCat.SceneTrees.SceneNode(nothing, nothing, Dict{String, Vector{UInt8}}(), nothing, Dict{String, MeshCat.SceneTrees.SceneNode}(\"4\" => MeshCat.SceneTrees.SceneNode(UInt8[0x83, 0xa6, 0x6f, 0x62, 0x6a, 0x65, 0x63, 0x74, 0x84, 0xaa  …  0x73, 0x65, 0x67, 0x6d, 0x65, 0x6e, 0x74, 0x73, 0x2f, 0x34], nothing, Dict{String, Vector{UInt8}}(), nothing, Dict{String, MeshCat.SceneTrees.SceneNode}()), \"1\" => MeshCat.SceneTrees.SceneNode(UInt8[0x83, 0xa6, 0x6f, 0x62, 0x6a, 0x65, 0x63, 0x74, 0x84, 0xaa  …  0x73, 0x65, 0x67, 0x6d, 0x65, 0x6e, 0x74, 0x73, 0x2f, 0x31], nothing, Dict{String, Vector{UInt8}}(), nothing, Dict{String, MeshCat.SceneTrees.SceneNode}()), \"12\" => MeshCat.SceneTrees.SceneNode(UInt8[0x83, 0xa6, 0x6f, 0x62, 0x6a, 0x65, 0x63, 0x74, 0x84, 0xaa  …  0x65, 0x67, 0x6d, 0x65, 0x6e, 0x74, 0x73, 0x2f, 0x31, 0x32], nothing, Dict{String, Vector{UInt8}}(), nothing, Dict{String, MeshCat.SceneTrees.SceneNode}()), \"2\" => MeshCat.SceneTrees.SceneNode(UInt8[0x83, 0xa6, 0x6f, 0x62, 0x6a, 0x65, 0x63, 0x74, 0x84, 0xaa  …  0x73, 0x65, 0x67, 0x6d, 0x65, 0x6e, 0x74, 0x73, 0x2f, 0x32], nothing, Dict{String, Vector{UInt8}}(), nothing, Dict{String, MeshCat.SceneTrees.SceneNode}()), \"6\" => MeshCat.SceneTrees.SceneNode(UInt8[0x83, 0xa6, 0x6f, 0x62, 0x6a, 0x65, 0x63, 0x74, 0x84, 0xaa  …  0x73, 0x65, 0x67, 0x6d, 0x65, 0x6e, 0x74, 0x73, 0x2f, 0x36], nothing, Dict{String, Vector{UInt8}}(), nothing, Dict{String, MeshCat.SceneTrees.SceneNode}()), \"11\" => MeshCat.SceneTrees.SceneNode(UInt8[0x83, 0xa6, 0x6f, 0x62, 0x6a, 0x65, 0x63, 0x74, 0x84, 0xaa  …  0x65, 0x67, 0x6d, 0x65, 0x6e, 0x74, 0x73, 0x2f, 0x31, 0x31], nothing, Dict{String, Vector{UInt8}}(), nothing, Dict{String, MeshCat.SceneTrees.SceneNode}()), \"5\" => MeshCat.SceneTrees.SceneNode(UInt8[0x83, 0xa6, 0x6f, 0x62, 0x6a, 0x65, 0x63, 0x74, 0x84, 0xaa  …  0x73, 0x65, 0x67, 0x6d, 0x65, 0x6e, 0x74, 0x73, 0x2f, 0x35], nothing, Dict{String, Vector{UInt8}}(), nothing, Dict{String, MeshCat.SceneTrees.SceneNode}()), \"7\" => MeshCat.SceneTrees.SceneNode(UInt8[0x83, 0xa6, 0x6f, 0x62, 0x6a, 0x65, 0x63, 0x74, 0x84, 0xaa  …  0x73, 0x65, 0x67, 0x6d, 0x65, 0x6e, 0x74, 0x73, 0x2f, 0x37], nothing, Dict{String, Vector{UInt8}}(), nothing, Dict{String, MeshCat.SceneTrees.SceneNode}()), \"8\" => MeshCat.SceneTrees.SceneNode(UInt8[0x83, 0xa6, 0x6f, 0x62, 0x6a, 0x65, 0x63, 0x74, 0x84, 0xaa  …  0x73, 0x65, 0x67, 0x6d, 0x65, 0x6e, 0x74, 0x73, 0x2f, 0x38], nothing, Dict{String, Vector{UInt8}}(), nothing, Dict{String, MeshCat.SceneTrees.SceneNode}()), \"10\" => MeshCat.SceneTrees.SceneNode(UInt8[0x83, 0xa6, 0x6f, 0x62, 0x6a, 0x65, 0x63, 0x74, 0x84, 0xaa  …  0x65, 0x67, 0x6d, 0x65, 0x6e, 0x74, 0x73, 0x2f, 0x31, 0x30], nothing, Dict{String, Vector{UInt8}}(), nothing, Dict{String, MeshCat.SceneTrees.SceneNode}())…)), \"edges\" => MeshCat.SceneTrees.SceneNode(nothing, nothing, Dict{String, Vector{UInt8}}(), nothing, Dict{String, MeshCat.SceneTrees.SceneNode}(\"(38, 70)\" => MeshCat.SceneTrees.SceneNode(nothing, UInt8[0x83, 0xa6, 0x6d, 0x61, 0x74, 0x72, 0x69, 0x78, 0xc7, 0x40  …  0x73, 0x2f, 0x28, 0x33, 0x38, 0x2c, 0x20, 0x37, 0x30, 0x29], Dict{String, Vector{UInt8}}(\"scale\" => [0x84, 0xa8, 0x70, 0x72, 0x6f, 0x70, 0x65, 0x72, 0x74, 0x79  …  0x73, 0x2f, 0x28, 0x33, 0x38, 0x2c, 0x20, 0x37, 0x30, 0x29]), nothing, Dict{String, MeshCat.SceneTrees.SceneNode}(\"(0.0N0f8, 0.0N0f8, 1.0N0f8, 1.0N0f8)\" => MeshCat.SceneTrees.SceneNode(UInt8[0x83, 0xa6, 0x6f, 0x62, 0x6a, 0x65, 0x63, 0x74, 0x84, 0xaa  …  0x2c, 0x20, 0x31, 0x2e, 0x30, 0x4e, 0x30, 0x66, 0x38, 0x29], nothing, Dict{String, Vector{UInt8}}(\"visible\" => [0x84, 0xa8, 0x70, 0x72, 0x6f, 0x70, 0x65, 0x72, 0x74, 0x79  …  0x2c, 0x20, 0x31, 0x2e, 0x30, 0x4e, 0x30, 0x66, 0x38, 0x29]), nothing, Dict{String, MeshCat.SceneTrees.SceneNode}()))), \"(3, 67)\" => MeshCat.SceneTrees.SceneNode(nothing, UInt8[0x83, 0xa6, 0x6d, 0x61, 0x74, 0x72, 0x69, 0x78, 0xc7, 0x40  …  0x65, 0x73, 0x2f, 0x28, 0x33, 0x2c, 0x20, 0x36, 0x37, 0x29], Dict{String, Vector{UInt8}}(\"scale\" => [0x84, 0xa8, 0x70, 0x72, 0x6f, 0x70, 0x65, 0x72, 0x74, 0x79  …  0x65, 0x73, 0x2f, 0x28, 0x33, 0x2c, 0x20, 0x36, 0x37, 0x29]), nothing, Dict{String, MeshCat.SceneTrees.SceneNode}(\"(0.0N0f8, 0.0N0f8, 1.0N0f8, 1.0N0f8)\" => MeshCat.SceneTrees.SceneNode(UInt8[0x83, 0xa6, 0x6f, 0x62, 0x6a, 0x65, 0x63, 0x74, 0x84, 0xaa  …  0x2c, 0x20, 0x31, 0x2e, 0x30, 0x4e, 0x30, 0x66, 0x38, 0x29], nothing, Dict{String, Vector{UInt8}}(\"visible\" => [0x84, 0xa8, 0x70, 0x72, 0x6f, 0x70, 0x65, 0x72, 0x74, 0x79  …  0x2c, 0x20, 0x31, 0x2e, 0x30, 0x4e, 0x30, 0x66, 0x38, 0x29]), nothing, Dict{String, MeshCat.SceneTrees.SceneNode}()))), \"(16, 72)\" => MeshCat.SceneTrees.SceneNode(nothing, UInt8[0x83, 0xa6, 0x6d, 0x61, 0x74, 0x72, 0x69, 0x78, 0xc7, 0x40  …  0x73, 0x2f, 0x28, 0x31, 0x36, 0x2c, 0x20, 0x37, 0x32, 0x29], Dict{String, Vector{UInt8}}(\"scale\" => [0x84, 0xa8, 0x70, 0x72, 0x6f, 0x70, 0x65, 0x72, 0x74, 0x79  …  0x73, 0x2f, 0x28, 0x31, 0x36, 0x2c, 0x20, 0x37, 0x32, 0x29]), nothing, Dict{String, MeshCat.SceneTrees.SceneNode}(\"(0.0N0f8, 0.0N0f8, 1.0N0f8, 1.0N0f8)\" => MeshCat.SceneTrees.SceneNode(UInt8[0x83, 0xa6, 0x6f, 0x62, 0x6a, 0x65, 0x63, 0x74, 0x84, 0xaa  …  0x2c, 0x20, 0x31, 0x2e, 0x30, 0x4e, 0x30, 0x66, 0x38, 0x29], nothing, Dict{String, Vector{UInt8}}(\"visible\" => [0x84, 0xa8, 0x70, 0x72, 0x6f, 0x70, 0x65, 0x72, 0x74, 0x79  …  0x2c, 0x20, 0x31, 0x2e, 0x30, 0x4e, 0x30, 0x66, 0x38, 0x29]), nothing, Dict{String, MeshCat.SceneTrees.SceneNode}()))), \"(47, 97)\" => MeshCat.SceneTrees.SceneNode(nothing, UInt8[0x83, 0xa6, 0x6d, 0x61, 0x74, 0x72, 0x69, 0x78, 0xc7, 0x40  …  0x73, 0x2f, 0x28, 0x34, 0x37, 0x2c, 0x20, 0x39, 0x37, 0x29], Dict{String, Vector{UInt8}}(\"scale\" => [0x84, 0xa8, 0x70, 0x72, 0x6f, 0x70, 0x65, 0x72, 0x74, 0x79  …  0x73, 0x2f, 0x28, 0x34, 0x37, 0x2c, 0x20, 0x39, 0x37, 0x29]), nothing, Dict{String, MeshCat.SceneTrees.SceneNode}(\"(0.0N0f8, 0.0N0f8, 1.0N0f8, 1.0N0f8)\" => MeshCat.SceneTrees.SceneNode(UInt8[0x83, 0xa6, 0x6f, 0x62, 0x6a, 0x65, 0x63, 0x74, 0x84, 0xaa  …  0x2c, 0x20, 0x31, 0x2e, 0x30, 0x4e, 0x30, 0x66, 0x38, 0x29], nothing, Dict{String, Vector{UInt8}}(\"visible\" => [0x84, 0xa8, 0x70, 0x72, 0x6f, 0x70, 0x65, 0x72, 0x74, 0x79  …  0x2c, 0x20, 0x31, 0x2e, 0x30, 0x4e, 0x30, 0x66, 0x38, 0x29]), nothing, Dict{String, MeshCat.SceneTrees.SceneNode}()))), \"(27, 95)\" => MeshCat.SceneTrees.SceneNode(nothing, UInt8[0x83, 0xa6, 0x6d, 0x61, 0x74, 0x72, 0x69, 0x78, 0xc7, 0x40  …  0x73, 0x2f, 0x28, 0x32, 0x37, 0x2c, 0x20, 0x39, 0x35, 0x29], Dict{String, Vector{UInt8}}(\"scale\" => [0x84, 0xa8, 0x70, 0x72, 0x6f, 0x70, 0x65, 0x72, 0x74, 0x79  …  0x73, 0x2f, 0x28, 0x32, 0x37, 0x2c, 0x20, 0x39, 0x35, 0x29]), nothing, Dict{String, MeshCat.SceneTrees.SceneNode}(\"(0.0N0f8, 0.0N0f8, 1.0N0f8, 1.0N0f8)\" => MeshCat.SceneTrees.SceneNode(UInt8[0x83, 0xa6, 0x6f, 0x62, 0x6a, 0x65, 0x63, 0x74, 0x84, 0xaa  …  0x2c, 0x20, 0x31, 0x2e, 0x30, 0x4e, 0x30, 0x66, 0x38, 0x29], nothing, Dict{String, Vector{UInt8}}(\"visible\" => [0x84, 0xa8, 0x70, 0x72, 0x6f, 0x70, 0x65, 0x72, 0x74, 0x79  …  0x2c, 0x20, 0x31, 0x2e, 0x30, 0x4e, 0x30, 0x66, 0x38, 0x29]), nothing, Dict{String, MeshCat.SceneTrees.SceneNode}()))), \"(47, 60)\" => MeshCat.SceneTrees.SceneNode(nothing, UInt8[0x83, 0xa6, 0x6d, 0x61, 0x74, 0x72, 0x69, 0x78, 0xc7, 0x40  …  0x73, 0x2f, 0x28, 0x34, 0x37, 0x2c, 0x20, 0x36, 0x30, 0x29], Dict{String, Vector{UInt8}}(\"scale\" => [0x84, 0xa8, 0x70, 0x72, 0x6f, 0x70, 0x65, 0x72, 0x74, 0x79  …  0x73, 0x2f, 0x28, 0x34, 0x37, 0x2c, 0x20, 0x36, 0x30, 0x29]), nothing, Dict{String, MeshCat.SceneTrees.SceneNode}(\"(0.0N0f8, 0.0N0f8, 1.0N0f8, 1.0N0f8)\" => MeshCat.SceneTrees.SceneNode(UInt8[0x83, 0xa6, 0x6f, 0x62, 0x6a, 0x65, 0x63, 0x74, 0x84, 0xaa  …  0x2c, 0x20, 0x31, 0x2e, 0x30, 0x4e, 0x30, 0x66, 0x38, 0x29], nothing, Dict{String, Vector{UInt8}}(\"visible\" => [0x84, 0xa8, 0x70, 0x72, 0x6f, 0x70, 0x65, 0x72, 0x74, 0x79  …  0x2c, 0x20, 0x31, 0x2e, 0x30, 0x4e, 0x30, 0x66, 0x38, 0x29]), nothing, Dict{String, MeshCat.SceneTrees.SceneNode}()))), \"(23, 29)\" => MeshCat.SceneTrees.SceneNode(nothing, UInt8[0x83, 0xa6, 0x6d, 0x61, 0x74, 0x72, 0x69, 0x78, 0xc7, 0x40  …  0x73, 0x2f, 0x28, 0x32, 0x33, 0x2c, 0x20, 0x32, 0x39, 0x29], Dict{String, Vector{UInt8}}(\"scale\" => [0x84, 0xa8, 0x70, 0x72, 0x6f, 0x70, 0x65, 0x72, 0x74, 0x79  …  0x73, 0x2f, 0x28, 0x32, 0x33, 0x2c, 0x20, 0x32, 0x39, 0x29]), nothing, Dict{String, MeshCat.SceneTrees.SceneNode}(\"(0.0N0f8, 0.0N0f8, 1.0N0f8, 1.0N0f8)\" => MeshCat.SceneTrees.SceneNode(UInt8[0x83, 0xa6, 0x6f, 0x62, 0x6a, 0x65, 0x63, 0x74, 0x84, 0xaa  …  0x2c, 0x20, 0x31, 0x2e, 0x30, 0x4e, 0x30, 0x66, 0x38, 0x29], nothing, Dict{String, Vector{UInt8}}(\"visible\" => [0x84, 0xa8, 0x70, 0x72, 0x6f, 0x70, 0x65, 0x72, 0x74, 0x79  …  0x2c, 0x20, 0x31, 0x2e, 0x30, 0x4e, 0x30, 0x66, 0x38, 0x29]), nothing, Dict{String, MeshCat.SceneTrees.SceneNode}()))), \"(17, 20)\" => MeshCat.SceneTrees.SceneNode(nothing, UInt8[0x83, 0xa6, 0x6d, 0x61, 0x74, 0x72, 0x69, 0x78, 0xc7, 0x40  …  0x73, 0x2f, 0x28, 0x31, 0x37, 0x2c, 0x20, 0x32, 0x30, 0x29], Dict{String, Vector{UInt8}}(\"scale\" => [0x84, 0xa8, 0x70, 0x72, 0x6f, 0x70, 0x65, 0x72, 0x74, 0x79  …  0x73, 0x2f, 0x28, 0x31, 0x37, 0x2c, 0x20, 0x32, 0x30, 0x29]), nothing, Dict{String, MeshCat.SceneTrees.SceneNode}(\"(0.0N0f8, 0.0N0f8, 1.0N0f8, 1.0N0f8)\" => MeshCat.SceneTrees.SceneNode(UInt8[0x83, 0xa6, 0x6f, 0x62, 0x6a, 0x65, 0x63, 0x74, 0x84, 0xaa  …  0x2c, 0x20, 0x31, 0x2e, 0x30, 0x4e, 0x30, 0x66, 0x38, 0x29], nothing, Dict{String, Vector{UInt8}}(\"visible\" => [0x84, 0xa8, 0x70, 0x72, 0x6f, 0x70, 0x65, 0x72, 0x74, 0x79  …  0x2c, 0x20, 0x31, 0x2e, 0x30, 0x4e, 0x30, 0x66, 0x38, 0x29]), nothing, Dict{String, MeshCat.SceneTrees.SceneNode}()))), \"(66, 94)\" => MeshCat.SceneTrees.SceneNode(nothing, UInt8[0x83, 0xa6, 0x6d, 0x61, 0x74, 0x72, 0x69, 0x78, 0xc7, 0x40  …  0x73, 0x2f, 0x28, 0x36, 0x36, 0x2c, 0x20, 0x39, 0x34, 0x29], Dict{String, Vector{UInt8}}(\"scale\" => [0x84, 0xa8, 0x70, 0x72, 0x6f, 0x70, 0x65, 0x72, 0x74, 0x79  …  0x73, 0x2f, 0x28, 0x36, 0x36, 0x2c, 0x20, 0x39, 0x34, 0x29]), nothing, Dict{String, MeshCat.SceneTrees.SceneNode}(\"(0.0N0f8, 0.0N0f8, 1.0N0f8, 1.0N0f8)\" => MeshCat.SceneTrees.SceneNode(UInt8[0x83, 0xa6, 0x6f, 0x62, 0x6a, 0x65, 0x63, 0x74, 0x84, 0xaa  …  0x2c, 0x20, 0x31, 0x2e, 0x30, 0x4e, 0x30, 0x66, 0x38, 0x29], nothing, Dict{String, Vector{UInt8}}(\"visible\" => [0x84, 0xa8, 0x70, 0x72, 0x6f, 0x70, 0x65, 0x72, 0x74, 0x79  …  0x2c, 0x20, 0x31, 0x2e, 0x30, 0x4e, 0x30, 0x66, 0x38, 0x29]), nothing, Dict{String, MeshCat.SceneTrees.SceneNode}()))), \"(35, 59)\" => MeshCat.SceneTrees.SceneNode(nothing, UInt8[0x83, 0xa6, 0x6d, 0x61, 0x74, 0x72, 0x69, 0x78, 0xc7, 0x40  …  0x73, 0x2f, 0x28, 0x33, 0x35, 0x2c, 0x20, 0x35, 0x39, 0x29], Dict{String, Vector{UInt8}}(\"scale\" => [0x84, 0xa8, 0x70, 0x72, 0x6f, 0x70, 0x65, 0x72, 0x74, 0x79  …  0x73, 0x2f, 0x28, 0x33, 0x35, 0x2c, 0x20, 0x35, 0x39, 0x29]), nothing, Dict{String, MeshCat.SceneTrees.SceneNode}(\"(0.0N0f8, 0.0N0f8, 1.0N0f8, 1.0N0f8)\" => MeshCat.SceneTrees.SceneNode(UInt8[0x83, 0xa6, 0x6f, 0x62, 0x6a, 0x65, 0x63, 0x74, 0x84, 0xaa  …  0x2c, 0x20, 0x31, 0x2e, 0x30, 0x4e, 0x30, 0x66, 0x38, 0x29], nothing, Dict{String, Vector{UInt8}}(\"visible\" => [0x84, 0xa8, 0x70, 0x72, 0x6f, 0x70, 0x65, 0x72, 0x74, 0x79  …  0x2c, 0x20, 0x31, 0x2e, 0x30, 0x4e, 0x30, 0x66, 0x38, 0x29]), nothing, Dict{String, MeshCat.SceneTrees.SceneNode}())))…)))), \"Axes\" => MeshCat.SceneTrees.SceneNode(nothing, nothing, Dict{String, Vector{UInt8}}(), nothing, Dict{String, MeshCat.SceneTrees.SceneNode}(\"<object>\" => MeshCat.SceneTrees.SceneNode(UInt8[0x83, 0xa6, 0x6f, 0x62, 0x6a, 0x65, 0x63, 0x74, 0x84, 0xaa  …  0x73, 0x2f, 0x3c, 0x6f, 0x62, 0x6a, 0x65, 0x63, 0x74, 0x3e], UInt8[0x83, 0xa6, 0x6d, 0x61, 0x74, 0x72, 0x69, 0x78, 0xc7, 0x40  …  0x73, 0x2f, 0x3c, 0x6f, 0x62, 0x6a, 0x65, 0x63, 0x74, 0x3e], Dict{String, Vector{UInt8}}(), nothing, Dict{String, MeshCat.SceneTrees.SceneNode}()))))), Set{HTTP.WebSockets.WebSocket}(), ip\"127.0.0.1\", 8709))), WebIO.Node{WebIO.DOM}(WebIO.DOM(:html, :div), Any[WebIO.Scope(WebIO.Node{WebIO.DOM}(WebIO.DOM(:html, :div), Any[], Dict{Symbol, Any}(:id => \"container\")), Dict{String, Tuple{Observables.AbstractObservable, Union{Nothing, Bool}}}(\"value\" => (Observable(\"\\\\;\\\\;\"), nothing)), Set{String}(), nothing, WebIO.Asset[WebIO.Asset(\"js\", nothing, \"/home/dushya/.julia/packages/InteractBase/LJXv3/src/../assets/katex.min.js\"), WebIO.Asset(\"css\", nothing, \"/home/dushya/.julia/packages/InteractBase/LJXv3/src/../assets/katex.min.css\")], Dict{Any, Any}(\"value\" => Any[WebIO.JSString(\"(function (txt){return this.k.render(txt,this.container)})\")]), WebIO.ConnectionPool(Channel{Any}(32), Set{WebIO.AbstractConnection}(), Base.GenericCondition{ReentrantLock}(Base.IntrusiveLinkedList{Task}(Task (runnable) @0x00007f85bb2cd140, Task (runnable) @0x00007f85bb2cd140), ReentrantLock(nothing, 0x00000000, 0x00, Base.GenericCondition{Base.Threads.SpinLock}(Base.IntrusiveLinkedList{Task}(nothing, nothing), Base.Threads.SpinLock(0)), (326, 140212233435904, 140214360081264)))), WebIO.JSString[WebIO.JSString(\"function () {\\n    var handler = ((function (k){this.k=k; this.container=this.dom.querySelector(\\\"#container\\\"); return k.render(\\\"\\\\\\\\;\\\\\\\\;\\\",this.container)}));\\n    (WebIO.importBlock({\\\"data\\\":[{\\\"name\\\":null,\\\"type\\\":\\\"js\\\",\\\"url\\\":\\\"/assetserver/dd22ed1bf1896c2748f3fe616ce0b838adc895c1-katex.min.js\\\"},{\\\"name\\\":null,\\\"type\\\":\\\"css\\\",\\\"url\\\":\\\"/assetserver/46517a424aa5e6cffc1360d7e0848b601c584ee3-katex.min.css\\\"}],\\\"type\\\":\\\"async_block\\\"})).then((imports) => handler.apply(this, imports));\\n}\\n\")])], Dict{Symbol, Any}(:className => \"interact-widget\")), WebIO.Node{WebIO.DOM}(WebIO.DOM(:html, :div), Any[], Dict{Symbol, Any}(:style => Dict(\"display\" => \"flex\", \"flex-direction\" => \"column\")))], Dict{Symbol, Any}(:style => Dict(\"display\" => \"flex\", \"flex-direction\" => \"row\")))], Dict{Symbol, Any}(:style => Dict(\"display\" => \"flex\", \"flex-direction\" => \"column\")))"
      ]
     },
     "execution_count": 20,
     "metadata": {
      "application/vnd.webio.node+json": {
       "kernelId": "ee887205-ec53-45cb-8b2e-aa981d735b89"
      }
     },
     "output_type": "execute_result"
    }
   ],
   "source": [
    "animate_sim(model)"
   ]
  },
  {
   "cell_type": "markdown",
   "metadata": {},
   "source": [
    "After defining the `step_rule!` function we can also choose to create an interactive application (which currently works in Jupyter with WebIO installation) as "
   ]
  },
  {
   "cell_type": "code",
   "execution_count": 24,
   "metadata": {},
   "outputs": [
    {
     "name": "stderr",
     "output_type": "stream",
     "text": [
      "\u001b[36m\u001b[1m[ \u001b[22m\u001b[39m\u001b[36m\u001b[1mInfo: \u001b[22m\u001b[39mListening on: 127.0.0.1:8713, thread id: 1\n",
      "\u001b[36m\u001b[1m┌ \u001b[22m\u001b[39m\u001b[36m\u001b[1mInfo: \u001b[22m\u001b[39mMeshCat server started. You can open the visualizer by visiting the following URL in your browser:\n",
      "\u001b[36m\u001b[1m└ \u001b[22m\u001b[39mhttp://127.0.0.1:8713\n"
     ]
    },
    {
     "data": {
      "application/vnd.webio.node+json": {
       "children": [
        {
         "children": [
          {
           "children": [
            {
             "children": [
              {
               "children": [
                {
                 "children": [
                  {
                   "children": [
                    {
                     "children": [
                      "time"
                     ],
                     "instanceArgs": {
                      "namespace": "html",
                      "tag": "label"
                     },
                     "nodeType": "DOM",
                     "props": {
                      "className": "interact ",
                      "style": {
                       "padding": "5px 10px 0px 10px"
                      }
                     },
                     "type": "node"
                    }
                   ],
                   "instanceArgs": {
                    "namespace": "html",
                    "tag": "div"
                   },
                   "nodeType": "DOM",
                   "props": {
                    "className": "interact-flex-row-left"
                   },
                   "type": "node"
                  },
                  {
                   "children": [
                    {
                     "children": [],
                     "instanceArgs": {
                      "namespace": "html",
                      "tag": "input"
                     },
                     "nodeType": "DOM",
                     "props": {
                      "attributes": {
                       "data-bind": "numericValue: index, valueUpdate: 'input', event: {change: function (){this.changes(this.changes()+1)}}",
                       "orient": "horizontal",
                       "type": "range"
                      },
                      "className": "slider slider is-fullwidth",
                      "max": 100,
                      "min": 1,
                      "step": 1,
                      "style": {}
                     },
                     "type": "node"
                    }
                   ],
                   "instanceArgs": {
                    "namespace": "html",
                    "tag": "div"
                   },
                   "nodeType": "DOM",
                   "props": {
                    "className": "interact-flex-row-center"
                   },
                   "type": "node"
                  },
                  {
                   "children": [
                    {
                     "children": [],
                     "instanceArgs": {
                      "namespace": "html",
                      "tag": "p"
                     },
                     "nodeType": "DOM",
                     "props": {
                      "attributes": {
                       "data-bind": "text: formatted_val"
                      }
                     },
                     "type": "node"
                    }
                   ],
                   "instanceArgs": {
                    "namespace": "html",
                    "tag": "div"
                   },
                   "nodeType": "DOM",
                   "props": {
                    "className": "interact-flex-row-right"
                   },
                   "type": "node"
                  }
                 ],
                 "instanceArgs": {
                  "namespace": "html",
                  "tag": "div"
                 },
                 "nodeType": "DOM",
                 "props": {
                  "className": "interact-flex-row interact-widget"
                 },
                 "type": "node"
                }
               ],
               "instanceArgs": {
                "handlers": {
                 "changes": [
                  "(function (val){return (val!=this.model[\"changes\"]()) ? (this.valueFromJulia[\"changes\"]=true, this.model[\"changes\"](val)) : undefined})"
                 ],
                 "index": [
                  "(function (val){return (val!=this.model[\"index\"]()) ? (this.valueFromJulia[\"index\"]=true, this.model[\"index\"](val)) : undefined})"
                 ]
                },
                "id": "11822933094097252871",
                "imports": {
                 "data": [
                  {
                   "name": "knockout",
                   "type": "js",
                   "url": "/assetserver/727383f2a47bd31570b7da84eee7b022dd6d7c78-knockout.js"
                  },
                  {
                   "name": "knockout_punches",
                   "type": "js",
                   "url": "/assetserver/382b41b3b1bd9f26f75861d360bad7f8beea211f-knockout_punches.js"
                  },
                  {
                   "name": null,
                   "type": "js",
                   "url": "/assetserver/5ab20f1060420992a9b82a65b735dee4d81ef413-all.js"
                  },
                  {
                   "name": null,
                   "type": "css",
                   "url": "/assetserver/1cc0ed62837210b80a182cc3676512f895dab686-style.css"
                  },
                  {
                   "name": null,
                   "type": "css",
                   "url": "/assetserver/2eee816f616df3549d7044d45e744fbf8d42bfa1-bulma_confined.min.css"
                  }
                 ],
                 "type": "async_block"
                },
                "mount_callbacks": [
                 "function () {\n    var handler = (function (ko, koPunches) {\n    ko.punches.enableAll();\n    ko.bindingHandlers.numericValue = {\n        init: function(element, valueAccessor, allBindings, data, context) {\n            var stringified = ko.observable(ko.unwrap(valueAccessor()));\n            stringified.subscribe(function(value) {\n                var val = parseFloat(value);\n                if (!isNaN(val)) {\n                    valueAccessor()(val);\n                }\n            });\n            valueAccessor().subscribe(function(value) {\n                var str = JSON.stringify(value);\n                if ((str == \"0\") && ([\"-0\", \"-0.\"].indexOf(stringified()) >= 0))\n                     return;\n                 if ([\"null\", \"\"].indexOf(str) >= 0)\n                     return;\n                stringified(str);\n            });\n            ko.applyBindingsToNode(\n                element,\n                {\n                    value: stringified,\n                    valueUpdate: allBindings.get('valueUpdate'),\n                },\n                context,\n            );\n        }\n    };\n    var json_data = {\"formatted_vals\":[\"1\",\"2\",\"3\",\"4\",\"5\",\"6\",\"7\",\"8\",\"9\",\"10\",\"11\",\"12\",\"13\",\"14\",\"15\",\"16\",\"17\",\"18\",\"19\",\"20\",\"21\",\"22\",\"23\",\"24\",\"25\",\"26\",\"27\",\"28\",\"29\",\"30\",\"31\",\"32\",\"33\",\"34\",\"35\",\"36\",\"37\",\"38\",\"39\",\"40\",\"41\",\"42\",\"43\",\"44\",\"45\",\"46\",\"47\",\"48\",\"49\",\"50\",\"51\",\"52\",\"53\",\"54\",\"55\",\"56\",\"57\",\"58\",\"59\",\"60\",\"61\",\"62\",\"63\",\"64\",\"65\",\"66\",\"67\",\"68\",\"69\",\"70\",\"71\",\"72\",\"73\",\"74\",\"75\",\"76\",\"77\",\"78\",\"79\",\"80\",\"81\",\"82\",\"83\",\"84\",\"85\",\"86\",\"87\",\"88\",\"89\",\"90\",\"91\",\"92\",\"93\",\"94\",\"95\",\"96\",\"97\",\"98\",\"99\",\"100\"],\"changes\":WebIO.getval({\"name\":\"changes\",\"scope\":\"11822933094097252871\",\"id\":\"17868906210285302630\",\"type\":\"observable\"}),\"index\":WebIO.getval({\"name\":\"index\",\"scope\":\"11822933094097252871\",\"id\":\"16908853493013291242\",\"type\":\"observable\"})};\n    var self = this;\n    function AppViewModel() {\n        for (var key in json_data) {\n            var el = json_data[key];\n            this[key] = Array.isArray(el) ? ko.observableArray(el) : ko.observable(el);\n        }\n        \n        [this[\"formatted_val\"]=ko.computed(    function(){\n        return this.formatted_vals()[parseInt(this.index())-(1)];\n    }\n,this)]\n        [this[\"changes\"].subscribe((function (val){!(this.valueFromJulia[\"changes\"]) ? (WebIO.setval({\"name\":\"changes\",\"scope\":\"11822933094097252871\",\"id\":\"17868906210285302630\",\"type\":\"observable\"},val)) : undefined; return this.valueFromJulia[\"changes\"]=false}),self),this[\"index\"].subscribe((function (val){!(this.valueFromJulia[\"index\"]) ? (WebIO.setval({\"name\":\"index\",\"scope\":\"11822933094097252871\",\"id\":\"16908853493013291242\",\"type\":\"observable\"},val)) : undefined; return this.valueFromJulia[\"index\"]=false}),self)]\n        \n    }\n    self.model = new AppViewModel();\n    self.valueFromJulia = {};\n    for (var key in json_data) {\n        self.valueFromJulia[key] = false;\n    }\n    ko.applyBindings(self.model, self.dom);\n}\n);\n    (WebIO.importBlock({\"data\":[{\"name\":\"knockout\",\"type\":\"js\",\"url\":\"/assetserver/727383f2a47bd31570b7da84eee7b022dd6d7c78-knockout.js\"},{\"name\":\"knockout_punches\",\"type\":\"js\",\"url\":\"/assetserver/382b41b3b1bd9f26f75861d360bad7f8beea211f-knockout_punches.js\"}],\"type\":\"async_block\"})).then((imports) => handler.apply(this, imports));\n}\n"
                ],
                "observables": {
                 "changes": {
                  "id": "17868906210285302630",
                  "sync": false,
                  "value": 0
                 },
                 "index": {
                  "id": "16908853493013291242",
                  "sync": true,
                  "value": 1
                 }
                },
                "systemjs_options": null
               },
               "nodeType": "Scope",
               "props": {},
               "type": "node"
              }
             ],
             "instanceArgs": {
              "namespace": "html",
              "tag": "div"
             },
             "nodeType": "DOM",
             "props": {
              "className": "field interact-widget"
             },
             "type": "node"
            },
            {
             "children": [
              {
               "children": [
                {
                 "children": [
                  {
                   "children": [
                    {
                     "children": [
                      "scale"
                     ],
                     "instanceArgs": {
                      "namespace": "html",
                      "tag": "label"
                     },
                     "nodeType": "DOM",
                     "props": {
                      "className": "interact ",
                      "style": {
                       "padding": "5px 10px 0px 10px"
                      }
                     },
                     "type": "node"
                    }
                   ],
                   "instanceArgs": {
                    "namespace": "html",
                    "tag": "div"
                   },
                   "nodeType": "DOM",
                   "props": {
                    "className": "interact-flex-row-left"
                   },
                   "type": "node"
                  },
                  {
                   "children": [
                    {
                     "children": [],
                     "instanceArgs": {
                      "namespace": "html",
                      "tag": "input"
                     },
                     "nodeType": "DOM",
                     "props": {
                      "attributes": {
                       "data-bind": "numericValue: index, valueUpdate: 'input', event: {change: function (){this.changes(this.changes()+1)}}",
                       "orient": "horizontal",
                       "type": "range"
                      },
                      "className": "slider slider is-fullwidth",
                      "max": 20,
                      "min": 1,
                      "step": 1,
                      "style": {}
                     },
                     "type": "node"
                    }
                   ],
                   "instanceArgs": {
                    "namespace": "html",
                    "tag": "div"
                   },
                   "nodeType": "DOM",
                   "props": {
                    "className": "interact-flex-row-center"
                   },
                   "type": "node"
                  },
                  {
                   "children": [
                    {
                     "children": [],
                     "instanceArgs": {
                      "namespace": "html",
                      "tag": "p"
                     },
                     "nodeType": "DOM",
                     "props": {
                      "attributes": {
                       "data-bind": "text: formatted_val"
                      }
                     },
                     "type": "node"
                    }
                   ],
                   "instanceArgs": {
                    "namespace": "html",
                    "tag": "div"
                   },
                   "nodeType": "DOM",
                   "props": {
                    "className": "interact-flex-row-right"
                   },
                   "type": "node"
                  }
                 ],
                 "instanceArgs": {
                  "namespace": "html",
                  "tag": "div"
                 },
                 "nodeType": "DOM",
                 "props": {
                  "className": "interact-flex-row interact-widget"
                 },
                 "type": "node"
                }
               ],
               "instanceArgs": {
                "handlers": {
                 "changes": [
                  "(function (val){return (val!=this.model[\"changes\"]()) ? (this.valueFromJulia[\"changes\"]=true, this.model[\"changes\"](val)) : undefined})"
                 ],
                 "index": [
                  "(function (val){return (val!=this.model[\"index\"]()) ? (this.valueFromJulia[\"index\"]=true, this.model[\"index\"](val)) : undefined})"
                 ]
                },
                "id": "9897228946341972295",
                "imports": {
                 "data": [
                  {
                   "name": "knockout",
                   "type": "js",
                   "url": "/assetserver/727383f2a47bd31570b7da84eee7b022dd6d7c78-knockout.js"
                  },
                  {
                   "name": "knockout_punches",
                   "type": "js",
                   "url": "/assetserver/382b41b3b1bd9f26f75861d360bad7f8beea211f-knockout_punches.js"
                  },
                  {
                   "name": null,
                   "type": "js",
                   "url": "/assetserver/5ab20f1060420992a9b82a65b735dee4d81ef413-all.js"
                  },
                  {
                   "name": null,
                   "type": "css",
                   "url": "/assetserver/1cc0ed62837210b80a182cc3676512f895dab686-style.css"
                  },
                  {
                   "name": null,
                   "type": "css",
                   "url": "/assetserver/2eee816f616df3549d7044d45e744fbf8d42bfa1-bulma_confined.min.css"
                  }
                 ],
                 "type": "async_block"
                },
                "mount_callbacks": [
                 "function () {\n    var handler = (function (ko, koPunches) {\n    ko.punches.enableAll();\n    ko.bindingHandlers.numericValue = {\n        init: function(element, valueAccessor, allBindings, data, context) {\n            var stringified = ko.observable(ko.unwrap(valueAccessor()));\n            stringified.subscribe(function(value) {\n                var val = parseFloat(value);\n                if (!isNaN(val)) {\n                    valueAccessor()(val);\n                }\n            });\n            valueAccessor().subscribe(function(value) {\n                var str = JSON.stringify(value);\n                if ((str == \"0\") && ([\"-0\", \"-0.\"].indexOf(stringified()) >= 0))\n                     return;\n                 if ([\"null\", \"\"].indexOf(str) >= 0)\n                     return;\n                stringified(str);\n            });\n            ko.applyBindingsToNode(\n                element,\n                {\n                    value: stringified,\n                    valueUpdate: allBindings.get('valueUpdate'),\n                },\n                context,\n            );\n        }\n    };\n    var json_data = {\"formatted_vals\":[\"0.1\",\"0.2\",\"0.3\",\"0.4\",\"0.5\",\"0.6\",\"0.7\",\"0.8\",\"0.9\",\"1.0\",\"1.1\",\"1.2\",\"1.3\",\"1.4\",\"1.5\",\"1.6\",\"1.7\",\"1.8\",\"1.9\",\"2.0\"],\"changes\":WebIO.getval({\"name\":\"changes\",\"scope\":\"9897228946341972295\",\"id\":\"2728492853086494883\",\"type\":\"observable\"}),\"index\":WebIO.getval({\"name\":\"index\",\"scope\":\"9897228946341972295\",\"id\":\"16529521837369451179\",\"type\":\"observable\"})};\n    var self = this;\n    function AppViewModel() {\n        for (var key in json_data) {\n            var el = json_data[key];\n            this[key] = Array.isArray(el) ? ko.observableArray(el) : ko.observable(el);\n        }\n        \n        [this[\"formatted_val\"]=ko.computed(    function(){\n        return this.formatted_vals()[parseInt(this.index())-(1)];\n    }\n,this)]\n        [this[\"changes\"].subscribe((function (val){!(this.valueFromJulia[\"changes\"]) ? (WebIO.setval({\"name\":\"changes\",\"scope\":\"9897228946341972295\",\"id\":\"2728492853086494883\",\"type\":\"observable\"},val)) : undefined; return this.valueFromJulia[\"changes\"]=false}),self),this[\"index\"].subscribe((function (val){!(this.valueFromJulia[\"index\"]) ? (WebIO.setval({\"name\":\"index\",\"scope\":\"9897228946341972295\",\"id\":\"16529521837369451179\",\"type\":\"observable\"},val)) : undefined; return this.valueFromJulia[\"index\"]=false}),self)]\n        \n    }\n    self.model = new AppViewModel();\n    self.valueFromJulia = {};\n    for (var key in json_data) {\n        self.valueFromJulia[key] = false;\n    }\n    ko.applyBindings(self.model, self.dom);\n}\n);\n    (WebIO.importBlock({\"data\":[{\"name\":\"knockout\",\"type\":\"js\",\"url\":\"/assetserver/727383f2a47bd31570b7da84eee7b022dd6d7c78-knockout.js\"},{\"name\":\"knockout_punches\",\"type\":\"js\",\"url\":\"/assetserver/382b41b3b1bd9f26f75861d360bad7f8beea211f-knockout_punches.js\"}],\"type\":\"async_block\"})).then((imports) => handler.apply(this, imports));\n}\n"
                ],
                "observables": {
                 "changes": {
                  "id": "2728492853086494883",
                  "sync": false,
                  "value": 0
                 },
                 "index": {
                  "id": "16529521837369451179",
                  "sync": true,
                  "value": 10
                 }
                },
                "systemjs_options": null
               },
               "nodeType": "Scope",
               "props": {},
               "type": "node"
              }
             ],
             "instanceArgs": {
              "namespace": "html",
              "tag": "div"
             },
             "nodeType": "DOM",
             "props": {
              "className": "field interact-widget"
             },
             "type": "node"
            },
            {
             "children": [],
             "instanceArgs": {
              "namespace": "html",
              "tag": "div"
             },
             "nodeType": "DOM",
             "props": {
              "style": {
               "display": "flex",
               "flex-direction": "column"
              }
             },
             "type": "node"
            },
            {
             "children": [
              {
               "children": [
                {
                 "children": [
                  {
                   "children": [
                    {
                     "children": [
                      {
                       "children": [
                        "temp"
                       ],
                       "instanceArgs": {
                        "namespace": "html",
                        "tag": "label"
                       },
                       "nodeType": "DOM",
                       "props": {
                        "className": "interact ",
                        "style": {
                         "padding": "5px 10px 0px 10px"
                        }
                       },
                       "type": "node"
                      }
                     ],
                     "instanceArgs": {
                      "namespace": "html",
                      "tag": "div"
                     },
                     "nodeType": "DOM",
                     "props": {
                      "className": "interact-flex-row-left"
                     },
                     "type": "node"
                    },
                    {
                     "children": [
                      {
                       "children": [],
                       "instanceArgs": {
                        "namespace": "html",
                        "tag": "input"
                       },
                       "nodeType": "DOM",
                       "props": {
                        "attributes": {
                         "data-bind": "numericValue: index, valueUpdate: 'input', event: {change: function (){this.changes(this.changes()+1)}}",
                         "orient": "horizontal",
                         "type": "range"
                        },
                        "className": "slider slider is-fullwidth",
                        "max": 100,
                        "min": 1,
                        "step": 1,
                        "style": {}
                       },
                       "type": "node"
                      }
                     ],
                     "instanceArgs": {
                      "namespace": "html",
                      "tag": "div"
                     },
                     "nodeType": "DOM",
                     "props": {
                      "className": "interact-flex-row-center"
                     },
                     "type": "node"
                    },
                    {
                     "children": [
                      {
                       "children": [],
                       "instanceArgs": {
                        "namespace": "html",
                        "tag": "p"
                       },
                       "nodeType": "DOM",
                       "props": {
                        "attributes": {
                         "data-bind": "text: formatted_val"
                        }
                       },
                       "type": "node"
                      }
                     ],
                     "instanceArgs": {
                      "namespace": "html",
                      "tag": "div"
                     },
                     "nodeType": "DOM",
                     "props": {
                      "className": "interact-flex-row-right"
                     },
                     "type": "node"
                    }
                   ],
                   "instanceArgs": {
                    "namespace": "html",
                    "tag": "div"
                   },
                   "nodeType": "DOM",
                   "props": {
                    "className": "interact-flex-row interact-widget"
                   },
                   "type": "node"
                  }
                 ],
                 "instanceArgs": {
                  "handlers": {
                   "changes": [
                    "(function (val){return (val!=this.model[\"changes\"]()) ? (this.valueFromJulia[\"changes\"]=true, this.model[\"changes\"](val)) : undefined})"
                   ],
                   "index": [
                    "(function (val){return (val!=this.model[\"index\"]()) ? (this.valueFromJulia[\"index\"]=true, this.model[\"index\"](val)) : undefined})"
                   ]
                  },
                  "id": "3180376975374605909",
                  "imports": {
                   "data": [
                    {
                     "name": "knockout",
                     "type": "js",
                     "url": "/assetserver/727383f2a47bd31570b7da84eee7b022dd6d7c78-knockout.js"
                    },
                    {
                     "name": "knockout_punches",
                     "type": "js",
                     "url": "/assetserver/382b41b3b1bd9f26f75861d360bad7f8beea211f-knockout_punches.js"
                    },
                    {
                     "name": null,
                     "type": "js",
                     "url": "/assetserver/5ab20f1060420992a9b82a65b735dee4d81ef413-all.js"
                    },
                    {
                     "name": null,
                     "type": "css",
                     "url": "/assetserver/1cc0ed62837210b80a182cc3676512f895dab686-style.css"
                    },
                    {
                     "name": null,
                     "type": "css",
                     "url": "/assetserver/2eee816f616df3549d7044d45e744fbf8d42bfa1-bulma_confined.min.css"
                    }
                   ],
                   "type": "async_block"
                  },
                  "mount_callbacks": [
                   "function () {\n    var handler = (function (ko, koPunches) {\n    ko.punches.enableAll();\n    ko.bindingHandlers.numericValue = {\n        init: function(element, valueAccessor, allBindings, data, context) {\n            var stringified = ko.observable(ko.unwrap(valueAccessor()));\n            stringified.subscribe(function(value) {\n                var val = parseFloat(value);\n                if (!isNaN(val)) {\n                    valueAccessor()(val);\n                }\n            });\n            valueAccessor().subscribe(function(value) {\n                var str = JSON.stringify(value);\n                if ((str == \"0\") && ([\"-0\", \"-0.\"].indexOf(stringified()) >= 0))\n                     return;\n                 if ([\"null\", \"\"].indexOf(str) >= 0)\n                     return;\n                stringified(str);\n            });\n            ko.applyBindingsToNode(\n                element,\n                {\n                    value: stringified,\n                    valueUpdate: allBindings.get('valueUpdate'),\n                },\n                context,\n            );\n        }\n    };\n    var json_data = {\"formatted_vals\":[\"0.05\",\"0.1\",\"0.15\",\"0.2\",\"0.25\",\"0.3\",\"0.35\",\"0.4\",\"0.45\",\"0.5\",\"0.55\",\"0.6\",\"0.65\",\"0.7\",\"0.75\",\"0.8\",\"0.85\",\"0.9\",\"0.95\",\"1.0\",\"1.05\",\"1.1\",\"1.15\",\"1.2\",\"1.25\",\"1.3\",\"1.35\",\"1.4\",\"1.45\",\"1.5\",\"1.55\",\"1.6\",\"1.65\",\"1.7\",\"1.75\",\"1.8\",\"1.85\",\"1.9\",\"1.95\",\"2.0\",\"2.05\",\"2.1\",\"2.15\",\"2.2\",\"2.25\",\"2.3\",\"2.35\",\"2.4\",\"2.45\",\"2.5\",\"2.55\",\"2.6\",\"2.65\",\"2.7\",\"2.75\",\"2.8\",\"2.85\",\"2.9\",\"2.95\",\"3.0\",\"3.05\",\"3.1\",\"3.15\",\"3.2\",\"3.25\",\"3.3\",\"3.35\",\"3.4\",\"3.45\",\"3.5\",\"3.55\",\"3.6\",\"3.65\",\"3.7\",\"3.75\",\"3.8\",\"3.85\",\"3.9\",\"3.95\",\"4.0\",\"4.05\",\"4.1\",\"4.15\",\"4.2\",\"4.25\",\"4.3\",\"4.35\",\"4.4\",\"4.45\",\"4.5\",\"4.55\",\"4.6\",\"4.65\",\"4.7\",\"4.75\",\"4.8\",\"4.85\",\"4.9\",\"4.95\",\"5.0\"],\"changes\":WebIO.getval({\"name\":\"changes\",\"scope\":\"3180376975374605909\",\"id\":\"14325297755493801112\",\"type\":\"observable\"}),\"index\":WebIO.getval({\"name\":\"index\",\"scope\":\"3180376975374605909\",\"id\":\"464041726838731977\",\"type\":\"observable\"})};\n    var self = this;\n    function AppViewModel() {\n        for (var key in json_data) {\n            var el = json_data[key];\n            this[key] = Array.isArray(el) ? ko.observableArray(el) : ko.observable(el);\n        }\n        \n        [this[\"formatted_val\"]=ko.computed(    function(){\n        return this.formatted_vals()[parseInt(this.index())-(1)];\n    }\n,this)]\n        [this[\"changes\"].subscribe((function (val){!(this.valueFromJulia[\"changes\"]) ? (WebIO.setval({\"name\":\"changes\",\"scope\":\"3180376975374605909\",\"id\":\"14325297755493801112\",\"type\":\"observable\"},val)) : undefined; return this.valueFromJulia[\"changes\"]=false}),self),this[\"index\"].subscribe((function (val){!(this.valueFromJulia[\"index\"]) ? (WebIO.setval({\"name\":\"index\",\"scope\":\"3180376975374605909\",\"id\":\"464041726838731977\",\"type\":\"observable\"},val)) : undefined; return this.valueFromJulia[\"index\"]=false}),self)]\n        \n    }\n    self.model = new AppViewModel();\n    self.valueFromJulia = {};\n    for (var key in json_data) {\n        self.valueFromJulia[key] = false;\n    }\n    ko.applyBindings(self.model, self.dom);\n}\n);\n    (WebIO.importBlock({\"data\":[{\"name\":\"knockout\",\"type\":\"js\",\"url\":\"/assetserver/727383f2a47bd31570b7da84eee7b022dd6d7c78-knockout.js\"},{\"name\":\"knockout_punches\",\"type\":\"js\",\"url\":\"/assetserver/382b41b3b1bd9f26f75861d360bad7f8beea211f-knockout_punches.js\"}],\"type\":\"async_block\"})).then((imports) => handler.apply(this, imports));\n}\n"
                  ],
                  "observables": {
                   "changes": {
                    "id": "14325297755493801112",
                    "sync": false,
                    "value": 0
                   },
                   "index": {
                    "id": "464041726838731977",
                    "sync": true,
                    "value": 50
                   }
                  },
                  "systemjs_options": null
                 },
                 "nodeType": "Scope",
                 "props": {},
                 "type": "node"
                }
               ],
               "instanceArgs": {
                "namespace": "html",
                "tag": "div"
               },
               "nodeType": "DOM",
               "props": {
                "className": "field interact-widget"
               },
               "type": "node"
              },
              {
               "children": [
                {
                 "children": [
                  {
                   "children": [
                    {
                     "children": [
                      {
                       "children": [
                        "coupl"
                       ],
                       "instanceArgs": {
                        "namespace": "html",
                        "tag": "label"
                       },
                       "nodeType": "DOM",
                       "props": {
                        "className": "interact ",
                        "style": {
                         "padding": "5px 10px 0px 10px"
                        }
                       },
                       "type": "node"
                      }
                     ],
                     "instanceArgs": {
                      "namespace": "html",
                      "tag": "div"
                     },
                     "nodeType": "DOM",
                     "props": {
                      "className": "interact-flex-row-left"
                     },
                     "type": "node"
                    },
                    {
                     "children": [
                      {
                       "children": [],
                       "instanceArgs": {
                        "namespace": "html",
                        "tag": "input"
                       },
                       "nodeType": "DOM",
                       "props": {
                        "attributes": {
                         "data-bind": "numericValue: index, valueUpdate: 'input', event: {change: function (){this.changes(this.changes()+1)}}",
                         "orient": "horizontal",
                         "type": "range"
                        },
                        "className": "slider slider is-fullwidth",
                        "max": 50,
                        "min": 1,
                        "step": 1,
                        "style": {}
                       },
                       "type": "node"
                      }
                     ],
                     "instanceArgs": {
                      "namespace": "html",
                      "tag": "div"
                     },
                     "nodeType": "DOM",
                     "props": {
                      "className": "interact-flex-row-center"
                     },
                     "type": "node"
                    },
                    {
                     "children": [
                      {
                       "children": [],
                       "instanceArgs": {
                        "namespace": "html",
                        "tag": "p"
                       },
                       "nodeType": "DOM",
                       "props": {
                        "attributes": {
                         "data-bind": "text: formatted_val"
                        }
                       },
                       "type": "node"
                      }
                     ],
                     "instanceArgs": {
                      "namespace": "html",
                      "tag": "div"
                     },
                     "nodeType": "DOM",
                     "props": {
                      "className": "interact-flex-row-right"
                     },
                     "type": "node"
                    }
                   ],
                   "instanceArgs": {
                    "namespace": "html",
                    "tag": "div"
                   },
                   "nodeType": "DOM",
                   "props": {
                    "className": "interact-flex-row interact-widget"
                   },
                   "type": "node"
                  }
                 ],
                 "instanceArgs": {
                  "handlers": {
                   "changes": [
                    "(function (val){return (val!=this.model[\"changes\"]()) ? (this.valueFromJulia[\"changes\"]=true, this.model[\"changes\"](val)) : undefined})"
                   ],
                   "index": [
                    "(function (val){return (val!=this.model[\"index\"]()) ? (this.valueFromJulia[\"index\"]=true, this.model[\"index\"](val)) : undefined})"
                   ]
                  },
                  "id": "6872677155061805055",
                  "imports": {
                   "data": [
                    {
                     "name": "knockout",
                     "type": "js",
                     "url": "/assetserver/727383f2a47bd31570b7da84eee7b022dd6d7c78-knockout.js"
                    },
                    {
                     "name": "knockout_punches",
                     "type": "js",
                     "url": "/assetserver/382b41b3b1bd9f26f75861d360bad7f8beea211f-knockout_punches.js"
                    },
                    {
                     "name": null,
                     "type": "js",
                     "url": "/assetserver/5ab20f1060420992a9b82a65b735dee4d81ef413-all.js"
                    },
                    {
                     "name": null,
                     "type": "css",
                     "url": "/assetserver/1cc0ed62837210b80a182cc3676512f895dab686-style.css"
                    },
                    {
                     "name": null,
                     "type": "css",
                     "url": "/assetserver/2eee816f616df3549d7044d45e744fbf8d42bfa1-bulma_confined.min.css"
                    }
                   ],
                   "type": "async_block"
                  },
                  "mount_callbacks": [
                   "function () {\n    var handler = (function (ko, koPunches) {\n    ko.punches.enableAll();\n    ko.bindingHandlers.numericValue = {\n        init: function(element, valueAccessor, allBindings, data, context) {\n            var stringified = ko.observable(ko.unwrap(valueAccessor()));\n            stringified.subscribe(function(value) {\n                var val = parseFloat(value);\n                if (!isNaN(val)) {\n                    valueAccessor()(val);\n                }\n            });\n            valueAccessor().subscribe(function(value) {\n                var str = JSON.stringify(value);\n                if ((str == \"0\") && ([\"-0\", \"-0.\"].indexOf(stringified()) >= 0))\n                     return;\n                 if ([\"null\", \"\"].indexOf(str) >= 0)\n                     return;\n                stringified(str);\n            });\n            ko.applyBindingsToNode(\n                element,\n                {\n                    value: stringified,\n                    valueUpdate: allBindings.get('valueUpdate'),\n                },\n                context,\n            );\n        }\n    };\n    var json_data = {\"formatted_vals\":[\"0.01\",\"0.11\",\"0.21\",\"0.31\",\"0.41\",\"0.51\",\"0.61\",\"0.71\",\"0.81\",\"0.91\",\"1.01\",\"1.11\",\"1.21\",\"1.31\",\"1.41\",\"1.51\",\"1.61\",\"1.71\",\"1.81\",\"1.91\",\"2.01\",\"2.11\",\"2.21\",\"2.31\",\"2.41\",\"2.51\",\"2.61\",\"2.71\",\"2.81\",\"2.91\",\"3.01\",\"3.11\",\"3.21\",\"3.31\",\"3.41\",\"3.51\",\"3.61\",\"3.71\",\"3.81\",\"3.91\",\"4.01\",\"4.11\",\"4.21\",\"4.31\",\"4.41\",\"4.51\",\"4.61\",\"4.71\",\"4.81\",\"4.91\"],\"changes\":WebIO.getval({\"name\":\"changes\",\"scope\":\"6872677155061805055\",\"id\":\"6061240820364470359\",\"type\":\"observable\"}),\"index\":WebIO.getval({\"name\":\"index\",\"scope\":\"6872677155061805055\",\"id\":\"813481191759172300\",\"type\":\"observable\"})};\n    var self = this;\n    function AppViewModel() {\n        for (var key in json_data) {\n            var el = json_data[key];\n            this[key] = Array.isArray(el) ? ko.observableArray(el) : ko.observable(el);\n        }\n        \n        [this[\"formatted_val\"]=ko.computed(    function(){\n        return this.formatted_vals()[parseInt(this.index())-(1)];\n    }\n,this)]\n        [this[\"changes\"].subscribe((function (val){!(this.valueFromJulia[\"changes\"]) ? (WebIO.setval({\"name\":\"changes\",\"scope\":\"6872677155061805055\",\"id\":\"6061240820364470359\",\"type\":\"observable\"},val)) : undefined; return this.valueFromJulia[\"changes\"]=false}),self),this[\"index\"].subscribe((function (val){!(this.valueFromJulia[\"index\"]) ? (WebIO.setval({\"name\":\"index\",\"scope\":\"6872677155061805055\",\"id\":\"813481191759172300\",\"type\":\"observable\"},val)) : undefined; return this.valueFromJulia[\"index\"]=false}),self)]\n        \n    }\n    self.model = new AppViewModel();\n    self.valueFromJulia = {};\n    for (var key in json_data) {\n        self.valueFromJulia[key] = false;\n    }\n    ko.applyBindings(self.model, self.dom);\n}\n);\n    (WebIO.importBlock({\"data\":[{\"name\":\"knockout\",\"type\":\"js\",\"url\":\"/assetserver/727383f2a47bd31570b7da84eee7b022dd6d7c78-knockout.js\"},{\"name\":\"knockout_punches\",\"type\":\"js\",\"url\":\"/assetserver/382b41b3b1bd9f26f75861d360bad7f8beea211f-knockout_punches.js\"}],\"type\":\"async_block\"})).then((imports) => handler.apply(this, imports));\n}\n"
                  ],
                  "observables": {
                   "changes": {
                    "id": "6061240820364470359",
                    "sync": false,
                    "value": 0
                   },
                   "index": {
                    "id": "813481191759172300",
                    "sync": true,
                    "value": 25
                   }
                  },
                  "systemjs_options": null
                 },
                 "nodeType": "Scope",
                 "props": {},
                 "type": "node"
                }
               ],
               "instanceArgs": {
                "namespace": "html",
                "tag": "div"
               },
               "nodeType": "DOM",
               "props": {
                "className": "field interact-widget"
               },
               "type": "node"
              },
              {
               "children": [
                {
                 "children": [
                  {
                   "children": [
                    {
                     "children": [
                      {
                       "children": [
                        "nns"
                       ],
                       "instanceArgs": {
                        "namespace": "html",
                        "tag": "label"
                       },
                       "nodeType": "DOM",
                       "props": {
                        "className": "interact ",
                        "style": {
                         "padding": "5px 10px 0px 10px"
                        }
                       },
                       "type": "node"
                      }
                     ],
                     "instanceArgs": {
                      "namespace": "html",
                      "tag": "div"
                     },
                     "nodeType": "DOM",
                     "props": {
                      "className": "interact-flex-row-left"
                     },
                     "type": "node"
                    },
                    {
                     "children": [
                      {
                       "children": [],
                       "instanceArgs": {
                        "namespace": "html",
                        "tag": "input"
                       },
                       "nodeType": "DOM",
                       "props": {
                        "attributes": {
                         "data-bind": "numericValue: index, valueUpdate: 'input', event: {change: function (){this.changes(this.changes()+1)}}",
                         "orient": "horizontal",
                         "type": "range"
                        },
                        "className": "slider slider is-fullwidth",
                        "max": 10,
                        "min": 2,
                        "step": 1,
                        "style": {}
                       },
                       "type": "node"
                      }
                     ],
                     "instanceArgs": {
                      "namespace": "html",
                      "tag": "div"
                     },
                     "nodeType": "DOM",
                     "props": {
                      "className": "interact-flex-row-center"
                     },
                     "type": "node"
                    },
                    {
                     "children": [
                      {
                       "children": [],
                       "instanceArgs": {
                        "namespace": "html",
                        "tag": "p"
                       },
                       "nodeType": "DOM",
                       "props": {
                        "attributes": {
                         "data-bind": "text: formatted_val"
                        }
                       },
                       "type": "node"
                      }
                     ],
                     "instanceArgs": {
                      "namespace": "html",
                      "tag": "div"
                     },
                     "nodeType": "DOM",
                     "props": {
                      "className": "interact-flex-row-right"
                     },
                     "type": "node"
                    }
                   ],
                   "instanceArgs": {
                    "namespace": "html",
                    "tag": "div"
                   },
                   "nodeType": "DOM",
                   "props": {
                    "className": "interact-flex-row interact-widget"
                   },
                   "type": "node"
                  }
                 ],
                 "instanceArgs": {
                  "handlers": {
                   "changes": [
                    "(function (val){return (val!=this.model[\"changes\"]()) ? (this.valueFromJulia[\"changes\"]=true, this.model[\"changes\"](val)) : undefined})"
                   ],
                   "index": [
                    "(function (val){return (val!=this.model[\"index\"]()) ? (this.valueFromJulia[\"index\"]=true, this.model[\"index\"](val)) : undefined})"
                   ]
                  },
                  "id": "13364835313379736087",
                  "imports": {
                   "data": [
                    {
                     "name": "knockout",
                     "type": "js",
                     "url": "/assetserver/727383f2a47bd31570b7da84eee7b022dd6d7c78-knockout.js"
                    },
                    {
                     "name": "knockout_punches",
                     "type": "js",
                     "url": "/assetserver/382b41b3b1bd9f26f75861d360bad7f8beea211f-knockout_punches.js"
                    },
                    {
                     "name": null,
                     "type": "js",
                     "url": "/assetserver/5ab20f1060420992a9b82a65b735dee4d81ef413-all.js"
                    },
                    {
                     "name": null,
                     "type": "css",
                     "url": "/assetserver/1cc0ed62837210b80a182cc3676512f895dab686-style.css"
                    },
                    {
                     "name": null,
                     "type": "css",
                     "url": "/assetserver/2eee816f616df3549d7044d45e744fbf8d42bfa1-bulma_confined.min.css"
                    }
                   ],
                   "type": "async_block"
                  },
                  "mount_callbacks": [
                   "function () {\n    var handler = (function (ko, koPunches) {\n    ko.punches.enableAll();\n    ko.bindingHandlers.numericValue = {\n        init: function(element, valueAccessor, allBindings, data, context) {\n            var stringified = ko.observable(ko.unwrap(valueAccessor()));\n            stringified.subscribe(function(value) {\n                var val = parseFloat(value);\n                if (!isNaN(val)) {\n                    valueAccessor()(val);\n                }\n            });\n            valueAccessor().subscribe(function(value) {\n                var str = JSON.stringify(value);\n                if ((str == \"0\") && ([\"-0\", \"-0.\"].indexOf(stringified()) >= 0))\n                     return;\n                 if ([\"null\", \"\"].indexOf(str) >= 0)\n                     return;\n                stringified(str);\n            });\n            ko.applyBindingsToNode(\n                element,\n                {\n                    value: stringified,\n                    valueUpdate: allBindings.get('valueUpdate'),\n                },\n                context,\n            );\n        }\n    };\n    var json_data = {\"formatted_vals\":[\"2\",\"3\",\"4\",\"5\",\"6\",\"7\",\"8\",\"9\",\"10\"],\"changes\":WebIO.getval({\"name\":\"changes\",\"scope\":\"13364835313379736087\",\"id\":\"10767878161191930165\",\"type\":\"observable\"}),\"index\":WebIO.getval({\"name\":\"index\",\"scope\":\"13364835313379736087\",\"id\":\"7071435300860286001\",\"type\":\"observable\"})};\n    var self = this;\n    function AppViewModel() {\n        for (var key in json_data) {\n            var el = json_data[key];\n            this[key] = Array.isArray(el) ? ko.observableArray(el) : ko.observable(el);\n        }\n        \n        [this[\"formatted_val\"]=ko.computed(    function(){\n        return this.formatted_vals()[parseInt(this.index())-(2)];\n    }\n,this)]\n        [this[\"changes\"].subscribe((function (val){!(this.valueFromJulia[\"changes\"]) ? (WebIO.setval({\"name\":\"changes\",\"scope\":\"13364835313379736087\",\"id\":\"10767878161191930165\",\"type\":\"observable\"},val)) : undefined; return this.valueFromJulia[\"changes\"]=false}),self),this[\"index\"].subscribe((function (val){!(this.valueFromJulia[\"index\"]) ? (WebIO.setval({\"name\":\"index\",\"scope\":\"13364835313379736087\",\"id\":\"7071435300860286001\",\"type\":\"observable\"},val)) : undefined; return this.valueFromJulia[\"index\"]=false}),self)]\n        \n    }\n    self.model = new AppViewModel();\n    self.valueFromJulia = {};\n    for (var key in json_data) {\n        self.valueFromJulia[key] = false;\n    }\n    ko.applyBindings(self.model, self.dom);\n}\n);\n    (WebIO.importBlock({\"data\":[{\"name\":\"knockout\",\"type\":\"js\",\"url\":\"/assetserver/727383f2a47bd31570b7da84eee7b022dd6d7c78-knockout.js\"},{\"name\":\"knockout_punches\",\"type\":\"js\",\"url\":\"/assetserver/382b41b3b1bd9f26f75861d360bad7f8beea211f-knockout_punches.js\"}],\"type\":\"async_block\"})).then((imports) => handler.apply(this, imports));\n}\n"
                  ],
                  "observables": {
                   "changes": {
                    "id": "10767878161191930165",
                    "sync": false,
                    "value": 0
                   },
                   "index": {
                    "id": "7071435300860286001",
                    "sync": true,
                    "value": 6
                   }
                  },
                  "systemjs_options": null
                 },
                 "nodeType": "Scope",
                 "props": {},
                 "type": "node"
                }
               ],
               "instanceArgs": {
                "namespace": "html",
                "tag": "div"
               },
               "nodeType": "DOM",
               "props": {
                "className": "field interact-widget"
               },
               "type": "node"
              }
             ],
             "instanceArgs": {
              "namespace": "html",
              "tag": "div"
             },
             "nodeType": "DOM",
             "props": {
              "style": {
               "display": "flex",
               "flex-direction": "column"
              }
             },
             "type": "node"
            },
            {
             "children": [
              {
               "children": [
                {
                 "children": [
                  {
                   "children": [],
                   "instanceArgs": {
                    "namespace": "html",
                    "tag": "div"
                   },
                   "nodeType": "DOM",
                   "props": {
                    "id": "container"
                   },
                   "type": "node"
                  }
                 ],
                 "instanceArgs": {
                  "handlers": {
                   "value": [
                    "(function (txt){return this.k.render(txt,this.container)})"
                   ]
                  },
                  "id": "12272390942255348691",
                  "imports": {
                   "data": [
                    {
                     "name": null,
                     "type": "js",
                     "url": "/assetserver/dd22ed1bf1896c2748f3fe616ce0b838adc895c1-katex.min.js"
                    },
                    {
                     "name": null,
                     "type": "css",
                     "url": "/assetserver/46517a424aa5e6cffc1360d7e0848b601c584ee3-katex.min.css"
                    }
                   ],
                   "type": "async_block"
                  },
                  "mount_callbacks": [
                   "function () {\n    var handler = ((function (k){this.k=k; this.container=this.dom.querySelector(\"#container\"); return k.render(\"\\\\;\\\\;\",this.container)}));\n    (WebIO.importBlock({\"data\":[{\"name\":null,\"type\":\"js\",\"url\":\"/assetserver/dd22ed1bf1896c2748f3fe616ce0b838adc895c1-katex.min.js\"},{\"name\":null,\"type\":\"css\",\"url\":\"/assetserver/46517a424aa5e6cffc1360d7e0848b601c584ee3-katex.min.css\"}],\"type\":\"async_block\"})).then((imports) => handler.apply(this, imports));\n}\n"
                  ],
                  "observables": {
                   "value": {
                    "id": "4133770151944270428",
                    "sync": false,
                    "value": "\\;\\;"
                   }
                  },
                  "systemjs_options": null
                 },
                 "nodeType": "Scope",
                 "props": {},
                 "type": "node"
                }
               ],
               "instanceArgs": {
                "namespace": "html",
                "tag": "div"
               },
               "nodeType": "DOM",
               "props": {
                "className": "interact-widget"
               },
               "type": "node"
              },
              {
               "children": [
                {
                 "children": [
                  {
                   "children": [
                    "run"
                   ],
                   "instanceArgs": {
                    "namespace": "html",
                    "tag": "button"
                   },
                   "nodeType": "DOM",
                   "props": {
                    "attributes": {
                     "data-bind": "click: function (){this.clicks(this.clicks()+1)}, css: {'is-loading' : loading}"
                    },
                    "className": "is-medium button is-primary",
                    "style": {}
                   },
                   "type": "node"
                  }
                 ],
                 "instanceArgs": {
                  "handlers": {
                   "clicks": [
                    "(function (val){return (val!=this.model[\"clicks\"]()) ? (this.valueFromJulia[\"clicks\"]=true, this.model[\"clicks\"](val)) : undefined})"
                   ],
                   "loading": [
                    "(function (val){return (val!=this.model[\"loading\"]()) ? (this.valueFromJulia[\"loading\"]=true, this.model[\"loading\"](val)) : undefined})"
                   ]
                  },
                  "id": "8562404827970474334",
                  "imports": {
                   "data": [
                    {
                     "name": "knockout",
                     "type": "js",
                     "url": "/assetserver/727383f2a47bd31570b7da84eee7b022dd6d7c78-knockout.js"
                    },
                    {
                     "name": "knockout_punches",
                     "type": "js",
                     "url": "/assetserver/382b41b3b1bd9f26f75861d360bad7f8beea211f-knockout_punches.js"
                    },
                    {
                     "name": null,
                     "type": "js",
                     "url": "/assetserver/5ab20f1060420992a9b82a65b735dee4d81ef413-all.js"
                    },
                    {
                     "name": null,
                     "type": "css",
                     "url": "/assetserver/1cc0ed62837210b80a182cc3676512f895dab686-style.css"
                    },
                    {
                     "name": null,
                     "type": "css",
                     "url": "/assetserver/2eee816f616df3549d7044d45e744fbf8d42bfa1-bulma_confined.min.css"
                    }
                   ],
                   "type": "async_block"
                  },
                  "mount_callbacks": [
                   "function () {\n    var handler = (function (ko, koPunches) {\n    ko.punches.enableAll();\n    ko.bindingHandlers.numericValue = {\n        init: function(element, valueAccessor, allBindings, data, context) {\n            var stringified = ko.observable(ko.unwrap(valueAccessor()));\n            stringified.subscribe(function(value) {\n                var val = parseFloat(value);\n                if (!isNaN(val)) {\n                    valueAccessor()(val);\n                }\n            });\n            valueAccessor().subscribe(function(value) {\n                var str = JSON.stringify(value);\n                if ((str == \"0\") && ([\"-0\", \"-0.\"].indexOf(stringified()) >= 0))\n                     return;\n                 if ([\"null\", \"\"].indexOf(str) >= 0)\n                     return;\n                stringified(str);\n            });\n            ko.applyBindingsToNode(\n                element,\n                {\n                    value: stringified,\n                    valueUpdate: allBindings.get('valueUpdate'),\n                },\n                context,\n            );\n        }\n    };\n    var json_data = {\"loading\":WebIO.getval({\"name\":\"loading\",\"scope\":\"8562404827970474334\",\"id\":\"17530502079846009979\",\"type\":\"observable\"}),\"clicks\":WebIO.getval({\"name\":\"clicks\",\"scope\":\"8562404827970474334\",\"id\":\"15133735711216908603\",\"type\":\"observable\"})};\n    var self = this;\n    function AppViewModel() {\n        for (var key in json_data) {\n            var el = json_data[key];\n            this[key] = Array.isArray(el) ? ko.observableArray(el) : ko.observable(el);\n        }\n        \n        \n        [this[\"loading\"].subscribe((function (val){!(this.valueFromJulia[\"loading\"]) ? (WebIO.setval({\"name\":\"loading\",\"scope\":\"8562404827970474334\",\"id\":\"17530502079846009979\",\"type\":\"observable\"},val)) : undefined; return this.valueFromJulia[\"loading\"]=false}),self),this[\"clicks\"].subscribe((function (val){!(this.valueFromJulia[\"clicks\"]) ? (WebIO.setval({\"name\":\"clicks\",\"scope\":\"8562404827970474334\",\"id\":\"15133735711216908603\",\"type\":\"observable\"},val)) : undefined; return this.valueFromJulia[\"clicks\"]=false}),self)]\n        \n    }\n    self.model = new AppViewModel();\n    self.valueFromJulia = {};\n    for (var key in json_data) {\n        self.valueFromJulia[key] = false;\n    }\n    ko.applyBindings(self.model, self.dom);\n}\n);\n    (WebIO.importBlock({\"data\":[{\"name\":\"knockout\",\"type\":\"js\",\"url\":\"/assetserver/727383f2a47bd31570b7da84eee7b022dd6d7c78-knockout.js\"},{\"name\":\"knockout_punches\",\"type\":\"js\",\"url\":\"/assetserver/382b41b3b1bd9f26f75861d360bad7f8beea211f-knockout_punches.js\"}],\"type\":\"async_block\"})).then((imports) => handler.apply(this, imports));\n}\n"
                  ],
                  "observables": {
                   "clicks": {
                    "id": "15133735711216908603",
                    "sync": true,
                    "value": 0
                   },
                   "loading": {
                    "id": "17530502079846009979",
                    "sync": false,
                    "value": false
                   }
                  },
                  "systemjs_options": null
                 },
                 "nodeType": "Scope",
                 "props": {},
                 "type": "node"
                }
               ],
               "instanceArgs": {
                "namespace": "html",
                "tag": "div"
               },
               "nodeType": "DOM",
               "props": {
                "className": "field interact-widget"
               },
               "type": "node"
              },
              {
               "children": [
                {
                 "children": [
                  {
                   "children": [],
                   "instanceArgs": {
                    "namespace": "html",
                    "tag": "div"
                   },
                   "nodeType": "DOM",
                   "props": {
                    "id": "container"
                   },
                   "type": "node"
                  }
                 ],
                 "instanceArgs": {
                  "handlers": {
                   "value": [
                    "(function (txt){return this.k.render(txt,this.container)})"
                   ]
                  },
                  "id": "12272390942255348691",
                  "imports": {
                   "data": [
                    {
                     "name": null,
                     "type": "js",
                     "url": "/assetserver/dd22ed1bf1896c2748f3fe616ce0b838adc895c1-katex.min.js"
                    },
                    {
                     "name": null,
                     "type": "css",
                     "url": "/assetserver/46517a424aa5e6cffc1360d7e0848b601c584ee3-katex.min.css"
                    }
                   ],
                   "type": "async_block"
                  },
                  "mount_callbacks": [
                   "function () {\n    var handler = ((function (k){this.k=k; this.container=this.dom.querySelector(\"#container\"); return k.render(\"\\\\;\\\\;\",this.container)}));\n    (WebIO.importBlock({\"data\":[{\"name\":null,\"type\":\"js\",\"url\":\"/assetserver/dd22ed1bf1896c2748f3fe616ce0b838adc895c1-katex.min.js\"},{\"name\":null,\"type\":\"css\",\"url\":\"/assetserver/46517a424aa5e6cffc1360d7e0848b601c584ee3-katex.min.css\"}],\"type\":\"async_block\"})).then((imports) => handler.apply(this, imports));\n}\n"
                  ],
                  "observables": {
                   "value": {
                    "id": "4133770151944270428",
                    "sync": false,
                    "value": "\\;\\;"
                   }
                  },
                  "systemjs_options": null
                 },
                 "nodeType": "Scope",
                 "props": {},
                 "type": "node"
                }
               ],
               "instanceArgs": {
                "namespace": "html",
                "tag": "div"
               },
               "nodeType": "DOM",
               "props": {
                "className": "interact-widget"
               },
               "type": "node"
              },
              {
               "children": [
                {
                 "children": [
                  {
                   "children": [
                    "stop"
                   ],
                   "instanceArgs": {
                    "namespace": "html",
                    "tag": "button"
                   },
                   "nodeType": "DOM",
                   "props": {
                    "attributes": {
                     "data-bind": "click: function (){this.clicks(this.clicks()+1)}, css: {'is-loading' : loading}"
                    },
                    "className": "is-medium button is-primary",
                    "style": {}
                   },
                   "type": "node"
                  }
                 ],
                 "instanceArgs": {
                  "handlers": {
                   "clicks": [
                    "(function (val){return (val!=this.model[\"clicks\"]()) ? (this.valueFromJulia[\"clicks\"]=true, this.model[\"clicks\"](val)) : undefined})"
                   ],
                   "loading": [
                    "(function (val){return (val!=this.model[\"loading\"]()) ? (this.valueFromJulia[\"loading\"]=true, this.model[\"loading\"](val)) : undefined})"
                   ]
                  },
                  "id": "8483664382894895853",
                  "imports": {
                   "data": [
                    {
                     "name": "knockout",
                     "type": "js",
                     "url": "/assetserver/727383f2a47bd31570b7da84eee7b022dd6d7c78-knockout.js"
                    },
                    {
                     "name": "knockout_punches",
                     "type": "js",
                     "url": "/assetserver/382b41b3b1bd9f26f75861d360bad7f8beea211f-knockout_punches.js"
                    },
                    {
                     "name": null,
                     "type": "js",
                     "url": "/assetserver/5ab20f1060420992a9b82a65b735dee4d81ef413-all.js"
                    },
                    {
                     "name": null,
                     "type": "css",
                     "url": "/assetserver/1cc0ed62837210b80a182cc3676512f895dab686-style.css"
                    },
                    {
                     "name": null,
                     "type": "css",
                     "url": "/assetserver/2eee816f616df3549d7044d45e744fbf8d42bfa1-bulma_confined.min.css"
                    }
                   ],
                   "type": "async_block"
                  },
                  "mount_callbacks": [
                   "function () {\n    var handler = (function (ko, koPunches) {\n    ko.punches.enableAll();\n    ko.bindingHandlers.numericValue = {\n        init: function(element, valueAccessor, allBindings, data, context) {\n            var stringified = ko.observable(ko.unwrap(valueAccessor()));\n            stringified.subscribe(function(value) {\n                var val = parseFloat(value);\n                if (!isNaN(val)) {\n                    valueAccessor()(val);\n                }\n            });\n            valueAccessor().subscribe(function(value) {\n                var str = JSON.stringify(value);\n                if ((str == \"0\") && ([\"-0\", \"-0.\"].indexOf(stringified()) >= 0))\n                     return;\n                 if ([\"null\", \"\"].indexOf(str) >= 0)\n                     return;\n                stringified(str);\n            });\n            ko.applyBindingsToNode(\n                element,\n                {\n                    value: stringified,\n                    valueUpdate: allBindings.get('valueUpdate'),\n                },\n                context,\n            );\n        }\n    };\n    var json_data = {\"loading\":WebIO.getval({\"name\":\"loading\",\"scope\":\"8483664382894895853\",\"id\":\"10453519465320085994\",\"type\":\"observable\"}),\"clicks\":WebIO.getval({\"name\":\"clicks\",\"scope\":\"8483664382894895853\",\"id\":\"12194346341855073246\",\"type\":\"observable\"})};\n    var self = this;\n    function AppViewModel() {\n        for (var key in json_data) {\n            var el = json_data[key];\n            this[key] = Array.isArray(el) ? ko.observableArray(el) : ko.observable(el);\n        }\n        \n        \n        [this[\"loading\"].subscribe((function (val){!(this.valueFromJulia[\"loading\"]) ? (WebIO.setval({\"name\":\"loading\",\"scope\":\"8483664382894895853\",\"id\":\"10453519465320085994\",\"type\":\"observable\"},val)) : undefined; return this.valueFromJulia[\"loading\"]=false}),self),this[\"clicks\"].subscribe((function (val){!(this.valueFromJulia[\"clicks\"]) ? (WebIO.setval({\"name\":\"clicks\",\"scope\":\"8483664382894895853\",\"id\":\"12194346341855073246\",\"type\":\"observable\"},val)) : undefined; return this.valueFromJulia[\"clicks\"]=false}),self)]\n        \n    }\n    self.model = new AppViewModel();\n    self.valueFromJulia = {};\n    for (var key in json_data) {\n        self.valueFromJulia[key] = false;\n    }\n    ko.applyBindings(self.model, self.dom);\n}\n);\n    (WebIO.importBlock({\"data\":[{\"name\":\"knockout\",\"type\":\"js\",\"url\":\"/assetserver/727383f2a47bd31570b7da84eee7b022dd6d7c78-knockout.js\"},{\"name\":\"knockout_punches\",\"type\":\"js\",\"url\":\"/assetserver/382b41b3b1bd9f26f75861d360bad7f8beea211f-knockout_punches.js\"}],\"type\":\"async_block\"})).then((imports) => handler.apply(this, imports));\n}\n"
                  ],
                  "observables": {
                   "clicks": {
                    "id": "12194346341855073246",
                    "sync": true,
                    "value": 0
                   },
                   "loading": {
                    "id": "10453519465320085994",
                    "sync": false,
                    "value": false
                   }
                  },
                  "systemjs_options": null
                 },
                 "nodeType": "Scope",
                 "props": {},
                 "type": "node"
                }
               ],
               "instanceArgs": {
                "namespace": "html",
                "tag": "div"
               },
               "nodeType": "DOM",
               "props": {
                "className": "field interact-widget"
               },
               "type": "node"
              },
              {
               "children": [
                {
                 "children": [
                  {
                   "children": [],
                   "instanceArgs": {
                    "namespace": "html",
                    "tag": "div"
                   },
                   "nodeType": "DOM",
                   "props": {
                    "id": "container"
                   },
                   "type": "node"
                  }
                 ],
                 "instanceArgs": {
                  "handlers": {
                   "value": [
                    "(function (txt){return this.k.render(txt,this.container)})"
                   ]
                  },
                  "id": "12272390942255348691",
                  "imports": {
                   "data": [
                    {
                     "name": null,
                     "type": "js",
                     "url": "/assetserver/dd22ed1bf1896c2748f3fe616ce0b838adc895c1-katex.min.js"
                    },
                    {
                     "name": null,
                     "type": "css",
                     "url": "/assetserver/46517a424aa5e6cffc1360d7e0848b601c584ee3-katex.min.css"
                    }
                   ],
                   "type": "async_block"
                  },
                  "mount_callbacks": [
                   "function () {\n    var handler = ((function (k){this.k=k; this.container=this.dom.querySelector(\"#container\"); return k.render(\"\\\\;\\\\;\",this.container)}));\n    (WebIO.importBlock({\"data\":[{\"name\":null,\"type\":\"js\",\"url\":\"/assetserver/dd22ed1bf1896c2748f3fe616ce0b838adc895c1-katex.min.js\"},{\"name\":null,\"type\":\"css\",\"url\":\"/assetserver/46517a424aa5e6cffc1360d7e0848b601c584ee3-katex.min.css\"}],\"type\":\"async_block\"})).then((imports) => handler.apply(this, imports));\n}\n"
                  ],
                  "observables": {
                   "value": {
                    "id": "4133770151944270428",
                    "sync": false,
                    "value": "\\;\\;"
                   }
                  },
                  "systemjs_options": null
                 },
                 "nodeType": "Scope",
                 "props": {},
                 "type": "node"
                }
               ],
               "instanceArgs": {
                "namespace": "html",
                "tag": "div"
               },
               "nodeType": "DOM",
               "props": {
                "className": "interact-widget"
               },
               "type": "node"
              },
              {
               "children": [
                {
                 "children": [
                  {
                   "children": [
                    "reset"
                   ],
                   "instanceArgs": {
                    "namespace": "html",
                    "tag": "button"
                   },
                   "nodeType": "DOM",
                   "props": {
                    "attributes": {
                     "data-bind": "click: function (){this.clicks(this.clicks()+1)}, css: {'is-loading' : loading}"
                    },
                    "className": "is-medium button is-primary",
                    "style": {}
                   },
                   "type": "node"
                  }
                 ],
                 "instanceArgs": {
                  "handlers": {
                   "clicks": [
                    "(function (val){return (val!=this.model[\"clicks\"]()) ? (this.valueFromJulia[\"clicks\"]=true, this.model[\"clicks\"](val)) : undefined})"
                   ],
                   "loading": [
                    "(function (val){return (val!=this.model[\"loading\"]()) ? (this.valueFromJulia[\"loading\"]=true, this.model[\"loading\"](val)) : undefined})"
                   ]
                  },
                  "id": "9299783535453842784",
                  "imports": {
                   "data": [
                    {
                     "name": "knockout",
                     "type": "js",
                     "url": "/assetserver/727383f2a47bd31570b7da84eee7b022dd6d7c78-knockout.js"
                    },
                    {
                     "name": "knockout_punches",
                     "type": "js",
                     "url": "/assetserver/382b41b3b1bd9f26f75861d360bad7f8beea211f-knockout_punches.js"
                    },
                    {
                     "name": null,
                     "type": "js",
                     "url": "/assetserver/5ab20f1060420992a9b82a65b735dee4d81ef413-all.js"
                    },
                    {
                     "name": null,
                     "type": "css",
                     "url": "/assetserver/1cc0ed62837210b80a182cc3676512f895dab686-style.css"
                    },
                    {
                     "name": null,
                     "type": "css",
                     "url": "/assetserver/2eee816f616df3549d7044d45e744fbf8d42bfa1-bulma_confined.min.css"
                    }
                   ],
                   "type": "async_block"
                  },
                  "mount_callbacks": [
                   "function () {\n    var handler = (function (ko, koPunches) {\n    ko.punches.enableAll();\n    ko.bindingHandlers.numericValue = {\n        init: function(element, valueAccessor, allBindings, data, context) {\n            var stringified = ko.observable(ko.unwrap(valueAccessor()));\n            stringified.subscribe(function(value) {\n                var val = parseFloat(value);\n                if (!isNaN(val)) {\n                    valueAccessor()(val);\n                }\n            });\n            valueAccessor().subscribe(function(value) {\n                var str = JSON.stringify(value);\n                if ((str == \"0\") && ([\"-0\", \"-0.\"].indexOf(stringified()) >= 0))\n                     return;\n                 if ([\"null\", \"\"].indexOf(str) >= 0)\n                     return;\n                stringified(str);\n            });\n            ko.applyBindingsToNode(\n                element,\n                {\n                    value: stringified,\n                    valueUpdate: allBindings.get('valueUpdate'),\n                },\n                context,\n            );\n        }\n    };\n    var json_data = {\"loading\":WebIO.getval({\"name\":\"loading\",\"scope\":\"9299783535453842784\",\"id\":\"4013943859339580237\",\"type\":\"observable\"}),\"clicks\":WebIO.getval({\"name\":\"clicks\",\"scope\":\"9299783535453842784\",\"id\":\"2937837388901186673\",\"type\":\"observable\"})};\n    var self = this;\n    function AppViewModel() {\n        for (var key in json_data) {\n            var el = json_data[key];\n            this[key] = Array.isArray(el) ? ko.observableArray(el) : ko.observable(el);\n        }\n        \n        \n        [this[\"loading\"].subscribe((function (val){!(this.valueFromJulia[\"loading\"]) ? (WebIO.setval({\"name\":\"loading\",\"scope\":\"9299783535453842784\",\"id\":\"4013943859339580237\",\"type\":\"observable\"},val)) : undefined; return this.valueFromJulia[\"loading\"]=false}),self),this[\"clicks\"].subscribe((function (val){!(this.valueFromJulia[\"clicks\"]) ? (WebIO.setval({\"name\":\"clicks\",\"scope\":\"9299783535453842784\",\"id\":\"2937837388901186673\",\"type\":\"observable\"},val)) : undefined; return this.valueFromJulia[\"clicks\"]=false}),self)]\n        \n    }\n    self.model = new AppViewModel();\n    self.valueFromJulia = {};\n    for (var key in json_data) {\n        self.valueFromJulia[key] = false;\n    }\n    ko.applyBindings(self.model, self.dom);\n}\n);\n    (WebIO.importBlock({\"data\":[{\"name\":\"knockout\",\"type\":\"js\",\"url\":\"/assetserver/727383f2a47bd31570b7da84eee7b022dd6d7c78-knockout.js\"},{\"name\":\"knockout_punches\",\"type\":\"js\",\"url\":\"/assetserver/382b41b3b1bd9f26f75861d360bad7f8beea211f-knockout_punches.js\"}],\"type\":\"async_block\"})).then((imports) => handler.apply(this, imports));\n}\n"
                  ],
                  "observables": {
                   "clicks": {
                    "id": "2937837388901186673",
                    "sync": true,
                    "value": 0
                   },
                   "loading": {
                    "id": "4013943859339580237",
                    "sync": false,
                    "value": false
                   }
                  },
                  "systemjs_options": null
                 },
                 "nodeType": "Scope",
                 "props": {},
                 "type": "node"
                }
               ],
               "instanceArgs": {
                "namespace": "html",
                "tag": "div"
               },
               "nodeType": "DOM",
               "props": {
                "className": "field interact-widget"
               },
               "type": "node"
              }
             ],
             "instanceArgs": {
              "namespace": "html",
              "tag": "div"
             },
             "nodeType": "DOM",
             "props": {
              "style": {
               "display": "flex",
               "flex-direction": "row"
              }
             },
             "type": "node"
            }
           ],
           "instanceArgs": {
            "namespace": "html",
            "tag": "div"
           },
           "nodeType": "DOM",
           "props": {
            "style": {
             "display": "flex",
             "flex-direction": "column"
            }
           },
           "type": "node"
          },
          {
           "children": [
            {
             "children": [],
             "instanceArgs": {
              "namespace": "html",
              "tag": "div"
             },
             "nodeType": "DOM",
             "props": {
              "className": "webio-observable",
              "setInnerHtml": "    <div style=\"height: 500px; width: 100%; overflow-x: auto; overflow-y: hidden; resize: both\">\n    <iframe src=\"http://127.0.0.1:8713\" style=\"width: 100%; height: 100%; border: none\"></iframe>\n    </div>\n"
             },
             "type": "node"
            }
           ],
           "instanceArgs": {
            "handlers": {
             "obs-output": [
              "function (value, scope) {\n    scope.setInnerHTML(value);\n}\n"
             ]
            },
            "id": "4387314433233001991",
            "imports": {
             "data": [],
             "type": "async_block"
            },
            "mount_callbacks": [],
            "observables": {
             "obs-output": {
              "id": "6563939696645472950",
              "sync": false,
              "value": "    <div style=\"height: 500px; width: 100%; overflow-x: auto; overflow-y: hidden; resize: both\">\n    <iframe src=\"http://127.0.0.1:8713\" style=\"width: 100%; height: 100%; border: none\"></iframe>\n    </div>\n"
             }
            },
            "systemjs_options": null
           },
           "nodeType": "Scope",
           "props": {},
           "type": "node"
          },
          {
           "children": [
            {
             "children": [
              {
               "children": [],
               "instanceArgs": {
                "namespace": "html",
                "tag": "div"
               },
               "nodeType": "DOM",
               "props": {
                "id": "container"
               },
               "type": "node"
              }
             ],
             "instanceArgs": {
              "handlers": {
               "value": [
                "(function (txt){return this.k.render(txt,this.container)})"
               ]
              },
              "id": "12272390942255348691",
              "imports": {
               "data": [
                {
                 "name": null,
                 "type": "js",
                 "url": "/assetserver/dd22ed1bf1896c2748f3fe616ce0b838adc895c1-katex.min.js"
                },
                {
                 "name": null,
                 "type": "css",
                 "url": "/assetserver/46517a424aa5e6cffc1360d7e0848b601c584ee3-katex.min.css"
                }
               ],
               "type": "async_block"
              },
              "mount_callbacks": [
               "function () {\n    var handler = ((function (k){this.k=k; this.container=this.dom.querySelector(\"#container\"); return k.render(\"\\\\;\\\\;\",this.container)}));\n    (WebIO.importBlock({\"data\":[{\"name\":null,\"type\":\"js\",\"url\":\"/assetserver/dd22ed1bf1896c2748f3fe616ce0b838adc895c1-katex.min.js\"},{\"name\":null,\"type\":\"css\",\"url\":\"/assetserver/46517a424aa5e6cffc1360d7e0848b601c584ee3-katex.min.css\"}],\"type\":\"async_block\"})).then((imports) => handler.apply(this, imports));\n}\n"
              ],
              "observables": {
               "value": {
                "id": "4133770151944270428",
                "sync": false,
                "value": "\\;\\;"
               }
              },
              "systemjs_options": null
             },
             "nodeType": "Scope",
             "props": {},
             "type": "node"
            }
           ],
           "instanceArgs": {
            "namespace": "html",
            "tag": "div"
           },
           "nodeType": "DOM",
           "props": {
            "className": "interact-widget"
           },
           "type": "node"
          },
          {
           "children": [
            {
             "children": [
              {
               "children": [],
               "instanceArgs": {
                "namespace": "html",
                "tag": "div"
               },
               "nodeType": "DOM",
               "props": {
                "className": "webio-observable",
                "setInnerHtml": "<img src=\"data:image/png;base64,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\" />"
               },
               "type": "node"
              }
             ],
             "instanceArgs": {
              "handlers": {
               "obs-output": [
                "function (value, scope) {\n    scope.setInnerHTML(value);\n}\n"
               ]
              },
              "id": "9555127323660786169",
              "imports": {
               "data": [],
               "type": "async_block"
              },
              "mount_callbacks": [],
              "observables": {
               "obs-output": {
                "id": "4210111621620451059",
                "sync": false,
                "value": "<img src=\"data:image/png;base64,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\" />"
               }
              },
              "systemjs_options": null
             },
             "nodeType": "Scope",
             "props": {},
             "type": "node"
            }
           ],
           "instanceArgs": {
            "namespace": "html",
            "tag": "div"
           },
           "nodeType": "DOM",
           "props": {
            "style": {
             "display": "flex",
             "flex-direction": "column"
            }
           },
           "type": "node"
          }
         ],
         "instanceArgs": {
          "namespace": "html",
          "tag": "div"
         },
         "nodeType": "DOM",
         "props": {
          "style": {
           "display": "flex",
           "flex-direction": "row"
          }
         },
         "type": "node"
        }
       ],
       "instanceArgs": {
        "namespace": "html",
        "tag": "div"
       },
       "nodeType": "DOM",
       "props": {
        "style": {
         "display": "flex",
         "flex-direction": "column"
        }
       },
       "type": "node"
      },
      "text/html": [
       "<div\n",
       "    class=\"webio-mountpoint\"\n",
       "    data-webio-mountpoint=\"16596472874294809580\"\n",
       ">\n",
       "    <script>\n",
       "    (function(){\n",
       "    // Some integrations (namely, IJulia/Jupyter) use an alternate render pathway than\n",
       "    // just putting the html on the page. If WebIO isn't defined, then it's pretty likely\n",
       "    // that we're in one of those situations and the integration just isn't installed\n",
       "    // correctly.\n",
       "    if (typeof window.WebIO === \"undefined\") {\n",
       "        document\n",
       "            .querySelector('[data-webio-mountpoint=\"16596472874294809580\"]')\n",
       "            .innerHTML = (\n",
       "                '<div style=\"padding: 1em; background-color: #f8d6da; border: 1px solid #f5c6cb; font-weight: bold;\">' +\n",
       "                '<p><strong>WebIO not detected.</strong></p>' +\n",
       "                '<p>Please read ' +\n",
       "                '<a href=\"https://juliagizmos.github.io/WebIO.jl/latest/troubleshooting/not-detected/\" target=\"_blank\">the troubleshooting guide</a> ' +\n",
       "                'for more information on how to resolve this issue.</p>' +\n",
       "                '<p><a href=\"https://juliagizmos.github.io/WebIO.jl/latest/troubleshooting/not-detected/\" target=\"_blank\">https://juliagizmos.github.io/WebIO.jl/latest/troubleshooting/not-detected/</a></p>' +\n",
       "                '</div>'\n",
       "            );\n",
       "        return;\n",
       "    }\n",
       "    WebIO.mount(\n",
       "        document.querySelector('[data-webio-mountpoint=\"16596472874294809580\"]'),\n",
       "        {\"props\":{\"style\":{\"display\":\"flex\",\"flex-direction\":\"column\"}},\"nodeType\":\"DOM\",\"type\":\"node\",\"instanceArgs\":{\"namespace\":\"html\",\"tag\":\"div\"},\"children\":[{\"props\":{\"style\":{\"display\":\"flex\",\"flex-direction\":\"row\"}},\"nodeType\":\"DOM\",\"type\":\"node\",\"instanceArgs\":{\"namespace\":\"html\",\"tag\":\"div\"},\"children\":[{\"props\":{\"style\":{\"display\":\"flex\",\"flex-direction\":\"column\"}},\"nodeType\":\"DOM\",\"type\":\"node\",\"instanceArgs\":{\"namespace\":\"html\",\"tag\":\"div\"},\"children\":[{\"props\":{\"className\":\"field interact-widget\"},\"nodeType\":\"DOM\",\"type\":\"node\",\"instanceArgs\":{\"namespace\":\"html\",\"tag\":\"div\"},\"children\":[{\"props\":{},\"nodeType\":\"Scope\",\"type\":\"node\",\"instanceArgs\":{\"imports\":{\"data\":[{\"name\":\"knockout\",\"type\":\"js\",\"url\":\"\\/assetserver\\/727383f2a47bd31570b7da84eee7b022dd6d7c78-knockout.js\"},{\"name\":\"knockout_punches\",\"type\":\"js\",\"url\":\"\\/assetserver\\/382b41b3b1bd9f26f75861d360bad7f8beea211f-knockout_punches.js\"},{\"name\":null,\"type\":\"js\",\"url\":\"\\/assetserver\\/5ab20f1060420992a9b82a65b735dee4d81ef413-all.js\"},{\"name\":null,\"type\":\"css\",\"url\":\"\\/assetserver\\/1cc0ed62837210b80a182cc3676512f895dab686-style.css\"},{\"name\":null,\"type\":\"css\",\"url\":\"\\/assetserver\\/2eee816f616df3549d7044d45e744fbf8d42bfa1-bulma_confined.min.css\"}],\"type\":\"async_block\"},\"id\":\"11822933094097252871\",\"handlers\":{\"changes\":[\"(function (val){return (val!=this.model[\\\"changes\\\"]()) ? (this.valueFromJulia[\\\"changes\\\"]=true, this.model[\\\"changes\\\"](val)) : undefined})\"],\"index\":[\"(function (val){return (val!=this.model[\\\"index\\\"]()) ? (this.valueFromJulia[\\\"index\\\"]=true, this.model[\\\"index\\\"](val)) : undefined})\"]},\"systemjs_options\":null,\"mount_callbacks\":[\"function () {\\n    var handler = (function (ko, koPunches) {\\n    ko.punches.enableAll();\\n    ko.bindingHandlers.numericValue = {\\n        init: function(element, valueAccessor, allBindings, data, context) {\\n            var stringified = ko.observable(ko.unwrap(valueAccessor()));\\n            stringified.subscribe(function(value) {\\n                var val = parseFloat(value);\\n                if (!isNaN(val)) {\\n                    valueAccessor()(val);\\n                }\\n            });\\n            valueAccessor().subscribe(function(value) {\\n                var str = JSON.stringify(value);\\n                if ((str == \\\"0\\\") && ([\\\"-0\\\", \\\"-0.\\\"].indexOf(stringified()) >= 0))\\n                     return;\\n                 if ([\\\"null\\\", \\\"\\\"].indexOf(str) >= 0)\\n                     return;\\n                stringified(str);\\n            });\\n            ko.applyBindingsToNode(\\n                element,\\n                {\\n                    value: stringified,\\n                    valueUpdate: allBindings.get('valueUpdate'),\\n                },\\n                context,\\n            );\\n        }\\n    };\\n    var json_data = {\\\"formatted_vals\\\":[\\\"1\\\",\\\"2\\\",\\\"3\\\",\\\"4\\\",\\\"5\\\",\\\"6\\\",\\\"7\\\",\\\"8\\\",\\\"9\\\",\\\"10\\\",\\\"11\\\",\\\"12\\\",\\\"13\\\",\\\"14\\\",\\\"15\\\",\\\"16\\\",\\\"17\\\",\\\"18\\\",\\\"19\\\",\\\"20\\\",\\\"21\\\",\\\"22\\\",\\\"23\\\",\\\"24\\\",\\\"25\\\",\\\"26\\\",\\\"27\\\",\\\"28\\\",\\\"29\\\",\\\"30\\\",\\\"31\\\",\\\"32\\\",\\\"33\\\",\\\"34\\\",\\\"35\\\",\\\"36\\\",\\\"37\\\",\\\"38\\\",\\\"39\\\",\\\"40\\\",\\\"41\\\",\\\"42\\\",\\\"43\\\",\\\"44\\\",\\\"45\\\",\\\"46\\\",\\\"47\\\",\\\"48\\\",\\\"49\\\",\\\"50\\\",\\\"51\\\",\\\"52\\\",\\\"53\\\",\\\"54\\\",\\\"55\\\",\\\"56\\\",\\\"57\\\",\\\"58\\\",\\\"59\\\",\\\"60\\\",\\\"61\\\",\\\"62\\\",\\\"63\\\",\\\"64\\\",\\\"65\\\",\\\"66\\\",\\\"67\\\",\\\"68\\\",\\\"69\\\",\\\"70\\\",\\\"71\\\",\\\"72\\\",\\\"73\\\",\\\"74\\\",\\\"75\\\",\\\"76\\\",\\\"77\\\",\\\"78\\\",\\\"79\\\",\\\"80\\\",\\\"81\\\",\\\"82\\\",\\\"83\\\",\\\"84\\\",\\\"85\\\",\\\"86\\\",\\\"87\\\",\\\"88\\\",\\\"89\\\",\\\"90\\\",\\\"91\\\",\\\"92\\\",\\\"93\\\",\\\"94\\\",\\\"95\\\",\\\"96\\\",\\\"97\\\",\\\"98\\\",\\\"99\\\",\\\"100\\\"],\\\"changes\\\":WebIO.getval({\\\"name\\\":\\\"changes\\\",\\\"scope\\\":\\\"11822933094097252871\\\",\\\"id\\\":\\\"17868906210285302630\\\",\\\"type\\\":\\\"observable\\\"}),\\\"index\\\":WebIO.getval({\\\"name\\\":\\\"index\\\",\\\"scope\\\":\\\"11822933094097252871\\\",\\\"id\\\":\\\"16908853493013291242\\\",\\\"type\\\":\\\"observable\\\"})};\\n    var self = this;\\n    function AppViewModel() {\\n        for (var key in json_data) {\\n            var el = json_data[key];\\n            this[key] = Array.isArray(el) ? ko.observableArray(el) : ko.observable(el);\\n        }\\n        \\n        [this[\\\"formatted_val\\\"]=ko.computed(    function(){\\n        return this.formatted_vals()[parseInt(this.index())-(1)];\\n    }\\n,this)]\\n        [this[\\\"changes\\\"].subscribe((function (val){!(this.valueFromJulia[\\\"changes\\\"]) ? (WebIO.setval({\\\"name\\\":\\\"changes\\\",\\\"scope\\\":\\\"11822933094097252871\\\",\\\"id\\\":\\\"17868906210285302630\\\",\\\"type\\\":\\\"observable\\\"},val)) : undefined; return this.valueFromJulia[\\\"changes\\\"]=false}),self),this[\\\"index\\\"].subscribe((function (val){!(this.valueFromJulia[\\\"index\\\"]) ? (WebIO.setval({\\\"name\\\":\\\"index\\\",\\\"scope\\\":\\\"11822933094097252871\\\",\\\"id\\\":\\\"16908853493013291242\\\",\\\"type\\\":\\\"observable\\\"},val)) : undefined; return this.valueFromJulia[\\\"index\\\"]=false}),self)]\\n        \\n    }\\n    self.model = new AppViewModel();\\n    self.valueFromJulia = {};\\n    for (var key in json_data) {\\n        self.valueFromJulia[key] = false;\\n    }\\n    ko.applyBindings(self.model, self.dom);\\n}\\n);\\n    (WebIO.importBlock({\\\"data\\\":[{\\\"name\\\":\\\"knockout\\\",\\\"type\\\":\\\"js\\\",\\\"url\\\":\\\"\\/assetserver\\/727383f2a47bd31570b7da84eee7b022dd6d7c78-knockout.js\\\"},{\\\"name\\\":\\\"knockout_punches\\\",\\\"type\\\":\\\"js\\\",\\\"url\\\":\\\"\\/assetserver\\/382b41b3b1bd9f26f75861d360bad7f8beea211f-knockout_punches.js\\\"}],\\\"type\\\":\\\"async_block\\\"})).then((imports) => handler.apply(this, imports));\\n}\\n\"],\"observables\":{\"changes\":{\"sync\":false,\"id\":\"17868906210285302630\",\"value\":0},\"index\":{\"sync\":true,\"id\":\"16908853493013291242\",\"value\":1}}},\"children\":[{\"props\":{\"className\":\"interact-flex-row interact-widget\"},\"nodeType\":\"DOM\",\"type\":\"node\",\"instanceArgs\":{\"namespace\":\"html\",\"tag\":\"div\"},\"children\":[{\"props\":{\"className\":\"interact-flex-row-left\"},\"nodeType\":\"DOM\",\"type\":\"node\",\"instanceArgs\":{\"namespace\":\"html\",\"tag\":\"div\"},\"children\":[{\"props\":{\"className\":\"interact \",\"style\":{\"padding\":\"5px 10px 0px 10px\"}},\"nodeType\":\"DOM\",\"type\":\"node\",\"instanceArgs\":{\"namespace\":\"html\",\"tag\":\"label\"},\"children\":[\"time\"]}]},{\"props\":{\"className\":\"interact-flex-row-center\"},\"nodeType\":\"DOM\",\"type\":\"node\",\"instanceArgs\":{\"namespace\":\"html\",\"tag\":\"div\"},\"children\":[{\"props\":{\"max\":100,\"min\":1,\"attributes\":{\"type\":\"range\",\"data-bind\":\"numericValue: index, valueUpdate: 'input', event: {change: function (){this.changes(this.changes()+1)}}\",\"orient\":\"horizontal\"},\"step\":1,\"className\":\"slider slider is-fullwidth\",\"style\":{}},\"nodeType\":\"DOM\",\"type\":\"node\",\"instanceArgs\":{\"namespace\":\"html\",\"tag\":\"input\"},\"children\":[]}]},{\"props\":{\"className\":\"interact-flex-row-right\"},\"nodeType\":\"DOM\",\"type\":\"node\",\"instanceArgs\":{\"namespace\":\"html\",\"tag\":\"div\"},\"children\":[{\"props\":{\"attributes\":{\"data-bind\":\"text: formatted_val\"}},\"nodeType\":\"DOM\",\"type\":\"node\",\"instanceArgs\":{\"namespace\":\"html\",\"tag\":\"p\"},\"children\":[]}]}]}]}]},{\"props\":{\"className\":\"field interact-widget\"},\"nodeType\":\"DOM\",\"type\":\"node\",\"instanceArgs\":{\"namespace\":\"html\",\"tag\":\"div\"},\"children\":[{\"props\":{},\"nodeType\":\"Scope\",\"type\":\"node\",\"instanceArgs\":{\"imports\":{\"data\":[{\"name\":\"knockout\",\"type\":\"js\",\"url\":\"\\/assetserver\\/727383f2a47bd31570b7da84eee7b022dd6d7c78-knockout.js\"},{\"name\":\"knockout_punches\",\"type\":\"js\",\"url\":\"\\/assetserver\\/382b41b3b1bd9f26f75861d360bad7f8beea211f-knockout_punches.js\"},{\"name\":null,\"type\":\"js\",\"url\":\"\\/assetserver\\/5ab20f1060420992a9b82a65b735dee4d81ef413-all.js\"},{\"name\":null,\"type\":\"css\",\"url\":\"\\/assetserver\\/1cc0ed62837210b80a182cc3676512f895dab686-style.css\"},{\"name\":null,\"type\":\"css\",\"url\":\"\\/assetserver\\/2eee816f616df3549d7044d45e744fbf8d42bfa1-bulma_confined.min.css\"}],\"type\":\"async_block\"},\"id\":\"9897228946341972295\",\"handlers\":{\"changes\":[\"(function (val){return (val!=this.model[\\\"changes\\\"]()) ? (this.valueFromJulia[\\\"changes\\\"]=true, this.model[\\\"changes\\\"](val)) : undefined})\"],\"index\":[\"(function (val){return (val!=this.model[\\\"index\\\"]()) ? (this.valueFromJulia[\\\"index\\\"]=true, this.model[\\\"index\\\"](val)) : undefined})\"]},\"systemjs_options\":null,\"mount_callbacks\":[\"function () {\\n    var handler = (function (ko, koPunches) {\\n    ko.punches.enableAll();\\n    ko.bindingHandlers.numericValue = {\\n        init: function(element, valueAccessor, allBindings, data, context) {\\n            var stringified = ko.observable(ko.unwrap(valueAccessor()));\\n            stringified.subscribe(function(value) {\\n                var val = parseFloat(value);\\n                if (!isNaN(val)) {\\n                    valueAccessor()(val);\\n                }\\n            });\\n            valueAccessor().subscribe(function(value) {\\n                var str = JSON.stringify(value);\\n                if ((str == \\\"0\\\") && ([\\\"-0\\\", \\\"-0.\\\"].indexOf(stringified()) >= 0))\\n                     return;\\n                 if ([\\\"null\\\", \\\"\\\"].indexOf(str) >= 0)\\n                     return;\\n                stringified(str);\\n            });\\n            ko.applyBindingsToNode(\\n                element,\\n                {\\n                    value: stringified,\\n                    valueUpdate: allBindings.get('valueUpdate'),\\n                },\\n                context,\\n            );\\n        }\\n    };\\n    var json_data = {\\\"formatted_vals\\\":[\\\"0.1\\\",\\\"0.2\\\",\\\"0.3\\\",\\\"0.4\\\",\\\"0.5\\\",\\\"0.6\\\",\\\"0.7\\\",\\\"0.8\\\",\\\"0.9\\\",\\\"1.0\\\",\\\"1.1\\\",\\\"1.2\\\",\\\"1.3\\\",\\\"1.4\\\",\\\"1.5\\\",\\\"1.6\\\",\\\"1.7\\\",\\\"1.8\\\",\\\"1.9\\\",\\\"2.0\\\"],\\\"changes\\\":WebIO.getval({\\\"name\\\":\\\"changes\\\",\\\"scope\\\":\\\"9897228946341972295\\\",\\\"id\\\":\\\"2728492853086494883\\\",\\\"type\\\":\\\"observable\\\"}),\\\"index\\\":WebIO.getval({\\\"name\\\":\\\"index\\\",\\\"scope\\\":\\\"9897228946341972295\\\",\\\"id\\\":\\\"16529521837369451179\\\",\\\"type\\\":\\\"observable\\\"})};\\n    var self = this;\\n    function AppViewModel() {\\n        for (var key in json_data) {\\n            var el = json_data[key];\\n            this[key] = Array.isArray(el) ? ko.observableArray(el) : ko.observable(el);\\n        }\\n        \\n        [this[\\\"formatted_val\\\"]=ko.computed(    function(){\\n        return this.formatted_vals()[parseInt(this.index())-(1)];\\n    }\\n,this)]\\n        [this[\\\"changes\\\"].subscribe((function (val){!(this.valueFromJulia[\\\"changes\\\"]) ? (WebIO.setval({\\\"name\\\":\\\"changes\\\",\\\"scope\\\":\\\"9897228946341972295\\\",\\\"id\\\":\\\"2728492853086494883\\\",\\\"type\\\":\\\"observable\\\"},val)) : undefined; return this.valueFromJulia[\\\"changes\\\"]=false}),self),this[\\\"index\\\"].subscribe((function (val){!(this.valueFromJulia[\\\"index\\\"]) ? (WebIO.setval({\\\"name\\\":\\\"index\\\",\\\"scope\\\":\\\"9897228946341972295\\\",\\\"id\\\":\\\"16529521837369451179\\\",\\\"type\\\":\\\"observable\\\"},val)) : undefined; return this.valueFromJulia[\\\"index\\\"]=false}),self)]\\n        \\n    }\\n    self.model = new AppViewModel();\\n    self.valueFromJulia = {};\\n    for (var key in json_data) {\\n        self.valueFromJulia[key] = false;\\n    }\\n    ko.applyBindings(self.model, self.dom);\\n}\\n);\\n    (WebIO.importBlock({\\\"data\\\":[{\\\"name\\\":\\\"knockout\\\",\\\"type\\\":\\\"js\\\",\\\"url\\\":\\\"\\/assetserver\\/727383f2a47bd31570b7da84eee7b022dd6d7c78-knockout.js\\\"},{\\\"name\\\":\\\"knockout_punches\\\",\\\"type\\\":\\\"js\\\",\\\"url\\\":\\\"\\/assetserver\\/382b41b3b1bd9f26f75861d360bad7f8beea211f-knockout_punches.js\\\"}],\\\"type\\\":\\\"async_block\\\"})).then((imports) => handler.apply(this, imports));\\n}\\n\"],\"observables\":{\"changes\":{\"sync\":false,\"id\":\"2728492853086494883\",\"value\":0},\"index\":{\"sync\":true,\"id\":\"16529521837369451179\",\"value\":10}}},\"children\":[{\"props\":{\"className\":\"interact-flex-row interact-widget\"},\"nodeType\":\"DOM\",\"type\":\"node\",\"instanceArgs\":{\"namespace\":\"html\",\"tag\":\"div\"},\"children\":[{\"props\":{\"className\":\"interact-flex-row-left\"},\"nodeType\":\"DOM\",\"type\":\"node\",\"instanceArgs\":{\"namespace\":\"html\",\"tag\":\"div\"},\"children\":[{\"props\":{\"className\":\"interact \",\"style\":{\"padding\":\"5px 10px 0px 10px\"}},\"nodeType\":\"DOM\",\"type\":\"node\",\"instanceArgs\":{\"namespace\":\"html\",\"tag\":\"label\"},\"children\":[\"scale\"]}]},{\"props\":{\"className\":\"interact-flex-row-center\"},\"nodeType\":\"DOM\",\"type\":\"node\",\"instanceArgs\":{\"namespace\":\"html\",\"tag\":\"div\"},\"children\":[{\"props\":{\"max\":20,\"min\":1,\"attributes\":{\"type\":\"range\",\"data-bind\":\"numericValue: index, valueUpdate: 'input', event: {change: function (){this.changes(this.changes()+1)}}\",\"orient\":\"horizontal\"},\"step\":1,\"className\":\"slider slider is-fullwidth\",\"style\":{}},\"nodeType\":\"DOM\",\"type\":\"node\",\"instanceArgs\":{\"namespace\":\"html\",\"tag\":\"input\"},\"children\":[]}]},{\"props\":{\"className\":\"interact-flex-row-right\"},\"nodeType\":\"DOM\",\"type\":\"node\",\"instanceArgs\":{\"namespace\":\"html\",\"tag\":\"div\"},\"children\":[{\"props\":{\"attributes\":{\"data-bind\":\"text: formatted_val\"}},\"nodeType\":\"DOM\",\"type\":\"node\",\"instanceArgs\":{\"namespace\":\"html\",\"tag\":\"p\"},\"children\":[]}]}]}]}]},{\"props\":{\"style\":{\"display\":\"flex\",\"flex-direction\":\"column\"}},\"nodeType\":\"DOM\",\"type\":\"node\",\"instanceArgs\":{\"namespace\":\"html\",\"tag\":\"div\"},\"children\":[]},{\"props\":{\"style\":{\"display\":\"flex\",\"flex-direction\":\"column\"}},\"nodeType\":\"DOM\",\"type\":\"node\",\"instanceArgs\":{\"namespace\":\"html\",\"tag\":\"div\"},\"children\":[{\"props\":{\"className\":\"field interact-widget\"},\"nodeType\":\"DOM\",\"type\":\"node\",\"instanceArgs\":{\"namespace\":\"html\",\"tag\":\"div\"},\"children\":[{\"props\":{},\"nodeType\":\"Scope\",\"type\":\"node\",\"instanceArgs\":{\"imports\":{\"data\":[{\"name\":\"knockout\",\"type\":\"js\",\"url\":\"\\/assetserver\\/727383f2a47bd31570b7da84eee7b022dd6d7c78-knockout.js\"},{\"name\":\"knockout_punches\",\"type\":\"js\",\"url\":\"\\/assetserver\\/382b41b3b1bd9f26f75861d360bad7f8beea211f-knockout_punches.js\"},{\"name\":null,\"type\":\"js\",\"url\":\"\\/assetserver\\/5ab20f1060420992a9b82a65b735dee4d81ef413-all.js\"},{\"name\":null,\"type\":\"css\",\"url\":\"\\/assetserver\\/1cc0ed62837210b80a182cc3676512f895dab686-style.css\"},{\"name\":null,\"type\":\"css\",\"url\":\"\\/assetserver\\/2eee816f616df3549d7044d45e744fbf8d42bfa1-bulma_confined.min.css\"}],\"type\":\"async_block\"},\"id\":\"3180376975374605909\",\"handlers\":{\"changes\":[\"(function (val){return (val!=this.model[\\\"changes\\\"]()) ? (this.valueFromJulia[\\\"changes\\\"]=true, this.model[\\\"changes\\\"](val)) : undefined})\"],\"index\":[\"(function (val){return (val!=this.model[\\\"index\\\"]()) ? (this.valueFromJulia[\\\"index\\\"]=true, this.model[\\\"index\\\"](val)) : undefined})\"]},\"systemjs_options\":null,\"mount_callbacks\":[\"function () {\\n    var handler = (function (ko, koPunches) {\\n    ko.punches.enableAll();\\n    ko.bindingHandlers.numericValue = {\\n        init: function(element, valueAccessor, allBindings, data, context) {\\n            var stringified = ko.observable(ko.unwrap(valueAccessor()));\\n            stringified.subscribe(function(value) {\\n                var val = parseFloat(value);\\n                if (!isNaN(val)) {\\n                    valueAccessor()(val);\\n                }\\n            });\\n            valueAccessor().subscribe(function(value) {\\n                var str = JSON.stringify(value);\\n                if ((str == \\\"0\\\") && ([\\\"-0\\\", \\\"-0.\\\"].indexOf(stringified()) >= 0))\\n                     return;\\n                 if ([\\\"null\\\", \\\"\\\"].indexOf(str) >= 0)\\n                     return;\\n                stringified(str);\\n            });\\n            ko.applyBindingsToNode(\\n                element,\\n                {\\n                    value: stringified,\\n                    valueUpdate: allBindings.get('valueUpdate'),\\n                },\\n                context,\\n            );\\n        }\\n    };\\n    var json_data = {\\\"formatted_vals\\\":[\\\"0.05\\\",\\\"0.1\\\",\\\"0.15\\\",\\\"0.2\\\",\\\"0.25\\\",\\\"0.3\\\",\\\"0.35\\\",\\\"0.4\\\",\\\"0.45\\\",\\\"0.5\\\",\\\"0.55\\\",\\\"0.6\\\",\\\"0.65\\\",\\\"0.7\\\",\\\"0.75\\\",\\\"0.8\\\",\\\"0.85\\\",\\\"0.9\\\",\\\"0.95\\\",\\\"1.0\\\",\\\"1.05\\\",\\\"1.1\\\",\\\"1.15\\\",\\\"1.2\\\",\\\"1.25\\\",\\\"1.3\\\",\\\"1.35\\\",\\\"1.4\\\",\\\"1.45\\\",\\\"1.5\\\",\\\"1.55\\\",\\\"1.6\\\",\\\"1.65\\\",\\\"1.7\\\",\\\"1.75\\\",\\\"1.8\\\",\\\"1.85\\\",\\\"1.9\\\",\\\"1.95\\\",\\\"2.0\\\",\\\"2.05\\\",\\\"2.1\\\",\\\"2.15\\\",\\\"2.2\\\",\\\"2.25\\\",\\\"2.3\\\",\\\"2.35\\\",\\\"2.4\\\",\\\"2.45\\\",\\\"2.5\\\",\\\"2.55\\\",\\\"2.6\\\",\\\"2.65\\\",\\\"2.7\\\",\\\"2.75\\\",\\\"2.8\\\",\\\"2.85\\\",\\\"2.9\\\",\\\"2.95\\\",\\\"3.0\\\",\\\"3.05\\\",\\\"3.1\\\",\\\"3.15\\\",\\\"3.2\\\",\\\"3.25\\\",\\\"3.3\\\",\\\"3.35\\\",\\\"3.4\\\",\\\"3.45\\\",\\\"3.5\\\",\\\"3.55\\\",\\\"3.6\\\",\\\"3.65\\\",\\\"3.7\\\",\\\"3.75\\\",\\\"3.8\\\",\\\"3.85\\\",\\\"3.9\\\",\\\"3.95\\\",\\\"4.0\\\",\\\"4.05\\\",\\\"4.1\\\",\\\"4.15\\\",\\\"4.2\\\",\\\"4.25\\\",\\\"4.3\\\",\\\"4.35\\\",\\\"4.4\\\",\\\"4.45\\\",\\\"4.5\\\",\\\"4.55\\\",\\\"4.6\\\",\\\"4.65\\\",\\\"4.7\\\",\\\"4.75\\\",\\\"4.8\\\",\\\"4.85\\\",\\\"4.9\\\",\\\"4.95\\\",\\\"5.0\\\"],\\\"changes\\\":WebIO.getval({\\\"name\\\":\\\"changes\\\",\\\"scope\\\":\\\"3180376975374605909\\\",\\\"id\\\":\\\"14325297755493801112\\\",\\\"type\\\":\\\"observable\\\"}),\\\"index\\\":WebIO.getval({\\\"name\\\":\\\"index\\\",\\\"scope\\\":\\\"3180376975374605909\\\",\\\"id\\\":\\\"464041726838731977\\\",\\\"type\\\":\\\"observable\\\"})};\\n    var self = this;\\n    function AppViewModel() {\\n        for (var key in json_data) {\\n            var el = json_data[key];\\n            this[key] = Array.isArray(el) ? ko.observableArray(el) : ko.observable(el);\\n        }\\n        \\n        [this[\\\"formatted_val\\\"]=ko.computed(    function(){\\n        return this.formatted_vals()[parseInt(this.index())-(1)];\\n    }\\n,this)]\\n        [this[\\\"changes\\\"].subscribe((function (val){!(this.valueFromJulia[\\\"changes\\\"]) ? (WebIO.setval({\\\"name\\\":\\\"changes\\\",\\\"scope\\\":\\\"3180376975374605909\\\",\\\"id\\\":\\\"14325297755493801112\\\",\\\"type\\\":\\\"observable\\\"},val)) : undefined; return this.valueFromJulia[\\\"changes\\\"]=false}),self),this[\\\"index\\\"].subscribe((function (val){!(this.valueFromJulia[\\\"index\\\"]) ? (WebIO.setval({\\\"name\\\":\\\"index\\\",\\\"scope\\\":\\\"3180376975374605909\\\",\\\"id\\\":\\\"464041726838731977\\\",\\\"type\\\":\\\"observable\\\"},val)) : undefined; return this.valueFromJulia[\\\"index\\\"]=false}),self)]\\n        \\n    }\\n    self.model = new AppViewModel();\\n    self.valueFromJulia = {};\\n    for (var key in json_data) {\\n        self.valueFromJulia[key] = false;\\n    }\\n    ko.applyBindings(self.model, self.dom);\\n}\\n);\\n    (WebIO.importBlock({\\\"data\\\":[{\\\"name\\\":\\\"knockout\\\",\\\"type\\\":\\\"js\\\",\\\"url\\\":\\\"\\/assetserver\\/727383f2a47bd31570b7da84eee7b022dd6d7c78-knockout.js\\\"},{\\\"name\\\":\\\"knockout_punches\\\",\\\"type\\\":\\\"js\\\",\\\"url\\\":\\\"\\/assetserver\\/382b41b3b1bd9f26f75861d360bad7f8beea211f-knockout_punches.js\\\"}],\\\"type\\\":\\\"async_block\\\"})).then((imports) => handler.apply(this, imports));\\n}\\n\"],\"observables\":{\"changes\":{\"sync\":false,\"id\":\"14325297755493801112\",\"value\":0},\"index\":{\"sync\":true,\"id\":\"464041726838731977\",\"value\":50}}},\"children\":[{\"props\":{\"className\":\"interact-flex-row interact-widget\"},\"nodeType\":\"DOM\",\"type\":\"node\",\"instanceArgs\":{\"namespace\":\"html\",\"tag\":\"div\"},\"children\":[{\"props\":{\"className\":\"interact-flex-row-left\"},\"nodeType\":\"DOM\",\"type\":\"node\",\"instanceArgs\":{\"namespace\":\"html\",\"tag\":\"div\"},\"children\":[{\"props\":{\"className\":\"interact \",\"style\":{\"padding\":\"5px 10px 0px 10px\"}},\"nodeType\":\"DOM\",\"type\":\"node\",\"instanceArgs\":{\"namespace\":\"html\",\"tag\":\"label\"},\"children\":[\"temp\"]}]},{\"props\":{\"className\":\"interact-flex-row-center\"},\"nodeType\":\"DOM\",\"type\":\"node\",\"instanceArgs\":{\"namespace\":\"html\",\"tag\":\"div\"},\"children\":[{\"props\":{\"max\":100,\"min\":1,\"attributes\":{\"type\":\"range\",\"data-bind\":\"numericValue: index, valueUpdate: 'input', event: {change: function (){this.changes(this.changes()+1)}}\",\"orient\":\"horizontal\"},\"step\":1,\"className\":\"slider slider is-fullwidth\",\"style\":{}},\"nodeType\":\"DOM\",\"type\":\"node\",\"instanceArgs\":{\"namespace\":\"html\",\"tag\":\"input\"},\"children\":[]}]},{\"props\":{\"className\":\"interact-flex-row-right\"},\"nodeType\":\"DOM\",\"type\":\"node\",\"instanceArgs\":{\"namespace\":\"html\",\"tag\":\"div\"},\"children\":[{\"props\":{\"attributes\":{\"data-bind\":\"text: formatted_val\"}},\"nodeType\":\"DOM\",\"type\":\"node\",\"instanceArgs\":{\"namespace\":\"html\",\"tag\":\"p\"},\"children\":[]}]}]}]}]},{\"props\":{\"className\":\"field interact-widget\"},\"nodeType\":\"DOM\",\"type\":\"node\",\"instanceArgs\":{\"namespace\":\"html\",\"tag\":\"div\"},\"children\":[{\"props\":{},\"nodeType\":\"Scope\",\"type\":\"node\",\"instanceArgs\":{\"imports\":{\"data\":[{\"name\":\"knockout\",\"type\":\"js\",\"url\":\"\\/assetserver\\/727383f2a47bd31570b7da84eee7b022dd6d7c78-knockout.js\"},{\"name\":\"knockout_punches\",\"type\":\"js\",\"url\":\"\\/assetserver\\/382b41b3b1bd9f26f75861d360bad7f8beea211f-knockout_punches.js\"},{\"name\":null,\"type\":\"js\",\"url\":\"\\/assetserver\\/5ab20f1060420992a9b82a65b735dee4d81ef413-all.js\"},{\"name\":null,\"type\":\"css\",\"url\":\"\\/assetserver\\/1cc0ed62837210b80a182cc3676512f895dab686-style.css\"},{\"name\":null,\"type\":\"css\",\"url\":\"\\/assetserver\\/2eee816f616df3549d7044d45e744fbf8d42bfa1-bulma_confined.min.css\"}],\"type\":\"async_block\"},\"id\":\"6872677155061805055\",\"handlers\":{\"changes\":[\"(function (val){return (val!=this.model[\\\"changes\\\"]()) ? (this.valueFromJulia[\\\"changes\\\"]=true, this.model[\\\"changes\\\"](val)) : undefined})\"],\"index\":[\"(function (val){return (val!=this.model[\\\"index\\\"]()) ? (this.valueFromJulia[\\\"index\\\"]=true, this.model[\\\"index\\\"](val)) : undefined})\"]},\"systemjs_options\":null,\"mount_callbacks\":[\"function () {\\n    var handler = (function (ko, koPunches) {\\n    ko.punches.enableAll();\\n    ko.bindingHandlers.numericValue = {\\n        init: function(element, valueAccessor, allBindings, data, context) {\\n            var stringified = ko.observable(ko.unwrap(valueAccessor()));\\n            stringified.subscribe(function(value) {\\n                var val = parseFloat(value);\\n                if (!isNaN(val)) {\\n                    valueAccessor()(val);\\n                }\\n            });\\n            valueAccessor().subscribe(function(value) {\\n                var str = JSON.stringify(value);\\n                if ((str == \\\"0\\\") && ([\\\"-0\\\", \\\"-0.\\\"].indexOf(stringified()) >= 0))\\n                     return;\\n                 if ([\\\"null\\\", \\\"\\\"].indexOf(str) >= 0)\\n                     return;\\n                stringified(str);\\n            });\\n            ko.applyBindingsToNode(\\n                element,\\n                {\\n                    value: stringified,\\n                    valueUpdate: allBindings.get('valueUpdate'),\\n                },\\n                context,\\n            );\\n        }\\n    };\\n    var json_data = {\\\"formatted_vals\\\":[\\\"0.01\\\",\\\"0.11\\\",\\\"0.21\\\",\\\"0.31\\\",\\\"0.41\\\",\\\"0.51\\\",\\\"0.61\\\",\\\"0.71\\\",\\\"0.81\\\",\\\"0.91\\\",\\\"1.01\\\",\\\"1.11\\\",\\\"1.21\\\",\\\"1.31\\\",\\\"1.41\\\",\\\"1.51\\\",\\\"1.61\\\",\\\"1.71\\\",\\\"1.81\\\",\\\"1.91\\\",\\\"2.01\\\",\\\"2.11\\\",\\\"2.21\\\",\\\"2.31\\\",\\\"2.41\\\",\\\"2.51\\\",\\\"2.61\\\",\\\"2.71\\\",\\\"2.81\\\",\\\"2.91\\\",\\\"3.01\\\",\\\"3.11\\\",\\\"3.21\\\",\\\"3.31\\\",\\\"3.41\\\",\\\"3.51\\\",\\\"3.61\\\",\\\"3.71\\\",\\\"3.81\\\",\\\"3.91\\\",\\\"4.01\\\",\\\"4.11\\\",\\\"4.21\\\",\\\"4.31\\\",\\\"4.41\\\",\\\"4.51\\\",\\\"4.61\\\",\\\"4.71\\\",\\\"4.81\\\",\\\"4.91\\\"],\\\"changes\\\":WebIO.getval({\\\"name\\\":\\\"changes\\\",\\\"scope\\\":\\\"6872677155061805055\\\",\\\"id\\\":\\\"6061240820364470359\\\",\\\"type\\\":\\\"observable\\\"}),\\\"index\\\":WebIO.getval({\\\"name\\\":\\\"index\\\",\\\"scope\\\":\\\"6872677155061805055\\\",\\\"id\\\":\\\"813481191759172300\\\",\\\"type\\\":\\\"observable\\\"})};\\n    var self = this;\\n    function AppViewModel() {\\n        for (var key in json_data) {\\n            var el = json_data[key];\\n            this[key] = Array.isArray(el) ? ko.observableArray(el) : ko.observable(el);\\n        }\\n        \\n        [this[\\\"formatted_val\\\"]=ko.computed(    function(){\\n        return this.formatted_vals()[parseInt(this.index())-(1)];\\n    }\\n,this)]\\n        [this[\\\"changes\\\"].subscribe((function (val){!(this.valueFromJulia[\\\"changes\\\"]) ? (WebIO.setval({\\\"name\\\":\\\"changes\\\",\\\"scope\\\":\\\"6872677155061805055\\\",\\\"id\\\":\\\"6061240820364470359\\\",\\\"type\\\":\\\"observable\\\"},val)) : undefined; return this.valueFromJulia[\\\"changes\\\"]=false}),self),this[\\\"index\\\"].subscribe((function (val){!(this.valueFromJulia[\\\"index\\\"]) ? (WebIO.setval({\\\"name\\\":\\\"index\\\",\\\"scope\\\":\\\"6872677155061805055\\\",\\\"id\\\":\\\"813481191759172300\\\",\\\"type\\\":\\\"observable\\\"},val)) : undefined; return this.valueFromJulia[\\\"index\\\"]=false}),self)]\\n        \\n    }\\n    self.model = new AppViewModel();\\n    self.valueFromJulia = {};\\n    for (var key in json_data) {\\n        self.valueFromJulia[key] = false;\\n    }\\n    ko.applyBindings(self.model, self.dom);\\n}\\n);\\n    (WebIO.importBlock({\\\"data\\\":[{\\\"name\\\":\\\"knockout\\\",\\\"type\\\":\\\"js\\\",\\\"url\\\":\\\"\\/assetserver\\/727383f2a47bd31570b7da84eee7b022dd6d7c78-knockout.js\\\"},{\\\"name\\\":\\\"knockout_punches\\\",\\\"type\\\":\\\"js\\\",\\\"url\\\":\\\"\\/assetserver\\/382b41b3b1bd9f26f75861d360bad7f8beea211f-knockout_punches.js\\\"}],\\\"type\\\":\\\"async_block\\\"})).then((imports) => handler.apply(this, imports));\\n}\\n\"],\"observables\":{\"changes\":{\"sync\":false,\"id\":\"6061240820364470359\",\"value\":0},\"index\":{\"sync\":true,\"id\":\"813481191759172300\",\"value\":25}}},\"children\":[{\"props\":{\"className\":\"interact-flex-row interact-widget\"},\"nodeType\":\"DOM\",\"type\":\"node\",\"instanceArgs\":{\"namespace\":\"html\",\"tag\":\"div\"},\"children\":[{\"props\":{\"className\":\"interact-flex-row-left\"},\"nodeType\":\"DOM\",\"type\":\"node\",\"instanceArgs\":{\"namespace\":\"html\",\"tag\":\"div\"},\"children\":[{\"props\":{\"className\":\"interact \",\"style\":{\"padding\":\"5px 10px 0px 10px\"}},\"nodeType\":\"DOM\",\"type\":\"node\",\"instanceArgs\":{\"namespace\":\"html\",\"tag\":\"label\"},\"children\":[\"coupl\"]}]},{\"props\":{\"className\":\"interact-flex-row-center\"},\"nodeType\":\"DOM\",\"type\":\"node\",\"instanceArgs\":{\"namespace\":\"html\",\"tag\":\"div\"},\"children\":[{\"props\":{\"max\":50,\"min\":1,\"attributes\":{\"type\":\"range\",\"data-bind\":\"numericValue: index, valueUpdate: 'input', event: {change: function (){this.changes(this.changes()+1)}}\",\"orient\":\"horizontal\"},\"step\":1,\"className\":\"slider slider is-fullwidth\",\"style\":{}},\"nodeType\":\"DOM\",\"type\":\"node\",\"instanceArgs\":{\"namespace\":\"html\",\"tag\":\"input\"},\"children\":[]}]},{\"props\":{\"className\":\"interact-flex-row-right\"},\"nodeType\":\"DOM\",\"type\":\"node\",\"instanceArgs\":{\"namespace\":\"html\",\"tag\":\"div\"},\"children\":[{\"props\":{\"attributes\":{\"data-bind\":\"text: formatted_val\"}},\"nodeType\":\"DOM\",\"type\":\"node\",\"instanceArgs\":{\"namespace\":\"html\",\"tag\":\"p\"},\"children\":[]}]}]}]}]},{\"props\":{\"className\":\"field interact-widget\"},\"nodeType\":\"DOM\",\"type\":\"node\",\"instanceArgs\":{\"namespace\":\"html\",\"tag\":\"div\"},\"children\":[{\"props\":{},\"nodeType\":\"Scope\",\"type\":\"node\",\"instanceArgs\":{\"imports\":{\"data\":[{\"name\":\"knockout\",\"type\":\"js\",\"url\":\"\\/assetserver\\/727383f2a47bd31570b7da84eee7b022dd6d7c78-knockout.js\"},{\"name\":\"knockout_punches\",\"type\":\"js\",\"url\":\"\\/assetserver\\/382b41b3b1bd9f26f75861d360bad7f8beea211f-knockout_punches.js\"},{\"name\":null,\"type\":\"js\",\"url\":\"\\/assetserver\\/5ab20f1060420992a9b82a65b735dee4d81ef413-all.js\"},{\"name\":null,\"type\":\"css\",\"url\":\"\\/assetserver\\/1cc0ed62837210b80a182cc3676512f895dab686-style.css\"},{\"name\":null,\"type\":\"css\",\"url\":\"\\/assetserver\\/2eee816f616df3549d7044d45e744fbf8d42bfa1-bulma_confined.min.css\"}],\"type\":\"async_block\"},\"id\":\"13364835313379736087\",\"handlers\":{\"changes\":[\"(function (val){return (val!=this.model[\\\"changes\\\"]()) ? (this.valueFromJulia[\\\"changes\\\"]=true, this.model[\\\"changes\\\"](val)) : undefined})\"],\"index\":[\"(function (val){return (val!=this.model[\\\"index\\\"]()) ? (this.valueFromJulia[\\\"index\\\"]=true, this.model[\\\"index\\\"](val)) : undefined})\"]},\"systemjs_options\":null,\"mount_callbacks\":[\"function () {\\n    var handler = (function (ko, koPunches) {\\n    ko.punches.enableAll();\\n    ko.bindingHandlers.numericValue = {\\n        init: function(element, valueAccessor, allBindings, data, context) {\\n            var stringified = ko.observable(ko.unwrap(valueAccessor()));\\n            stringified.subscribe(function(value) {\\n                var val = parseFloat(value);\\n                if (!isNaN(val)) {\\n                    valueAccessor()(val);\\n                }\\n            });\\n            valueAccessor().subscribe(function(value) {\\n                var str = JSON.stringify(value);\\n                if ((str == \\\"0\\\") && ([\\\"-0\\\", \\\"-0.\\\"].indexOf(stringified()) >= 0))\\n                     return;\\n                 if ([\\\"null\\\", \\\"\\\"].indexOf(str) >= 0)\\n                     return;\\n                stringified(str);\\n            });\\n            ko.applyBindingsToNode(\\n                element,\\n                {\\n                    value: stringified,\\n                    valueUpdate: allBindings.get('valueUpdate'),\\n                },\\n                context,\\n            );\\n        }\\n    };\\n    var json_data = {\\\"formatted_vals\\\":[\\\"2\\\",\\\"3\\\",\\\"4\\\",\\\"5\\\",\\\"6\\\",\\\"7\\\",\\\"8\\\",\\\"9\\\",\\\"10\\\"],\\\"changes\\\":WebIO.getval({\\\"name\\\":\\\"changes\\\",\\\"scope\\\":\\\"13364835313379736087\\\",\\\"id\\\":\\\"10767878161191930165\\\",\\\"type\\\":\\\"observable\\\"}),\\\"index\\\":WebIO.getval({\\\"name\\\":\\\"index\\\",\\\"scope\\\":\\\"13364835313379736087\\\",\\\"id\\\":\\\"7071435300860286001\\\",\\\"type\\\":\\\"observable\\\"})};\\n    var self = this;\\n    function AppViewModel() {\\n        for (var key in json_data) {\\n            var el = json_data[key];\\n            this[key] = Array.isArray(el) ? ko.observableArray(el) : ko.observable(el);\\n        }\\n        \\n        [this[\\\"formatted_val\\\"]=ko.computed(    function(){\\n        return this.formatted_vals()[parseInt(this.index())-(2)];\\n    }\\n,this)]\\n        [this[\\\"changes\\\"].subscribe((function (val){!(this.valueFromJulia[\\\"changes\\\"]) ? (WebIO.setval({\\\"name\\\":\\\"changes\\\",\\\"scope\\\":\\\"13364835313379736087\\\",\\\"id\\\":\\\"10767878161191930165\\\",\\\"type\\\":\\\"observable\\\"},val)) : undefined; return this.valueFromJulia[\\\"changes\\\"]=false}),self),this[\\\"index\\\"].subscribe((function (val){!(this.valueFromJulia[\\\"index\\\"]) ? (WebIO.setval({\\\"name\\\":\\\"index\\\",\\\"scope\\\":\\\"13364835313379736087\\\",\\\"id\\\":\\\"7071435300860286001\\\",\\\"type\\\":\\\"observable\\\"},val)) : undefined; return this.valueFromJulia[\\\"index\\\"]=false}),self)]\\n        \\n    }\\n    self.model = new AppViewModel();\\n    self.valueFromJulia = {};\\n    for (var key in json_data) {\\n        self.valueFromJulia[key] = false;\\n    }\\n    ko.applyBindings(self.model, self.dom);\\n}\\n);\\n    (WebIO.importBlock({\\\"data\\\":[{\\\"name\\\":\\\"knockout\\\",\\\"type\\\":\\\"js\\\",\\\"url\\\":\\\"\\/assetserver\\/727383f2a47bd31570b7da84eee7b022dd6d7c78-knockout.js\\\"},{\\\"name\\\":\\\"knockout_punches\\\",\\\"type\\\":\\\"js\\\",\\\"url\\\":\\\"\\/assetserver\\/382b41b3b1bd9f26f75861d360bad7f8beea211f-knockout_punches.js\\\"}],\\\"type\\\":\\\"async_block\\\"})).then((imports) => handler.apply(this, imports));\\n}\\n\"],\"observables\":{\"changes\":{\"sync\":false,\"id\":\"10767878161191930165\",\"value\":0},\"index\":{\"sync\":true,\"id\":\"7071435300860286001\",\"value\":6}}},\"children\":[{\"props\":{\"className\":\"interact-flex-row interact-widget\"},\"nodeType\":\"DOM\",\"type\":\"node\",\"instanceArgs\":{\"namespace\":\"html\",\"tag\":\"div\"},\"children\":[{\"props\":{\"className\":\"interact-flex-row-left\"},\"nodeType\":\"DOM\",\"type\":\"node\",\"instanceArgs\":{\"namespace\":\"html\",\"tag\":\"div\"},\"children\":[{\"props\":{\"className\":\"interact \",\"style\":{\"padding\":\"5px 10px 0px 10px\"}},\"nodeType\":\"DOM\",\"type\":\"node\",\"instanceArgs\":{\"namespace\":\"html\",\"tag\":\"label\"},\"children\":[\"nns\"]}]},{\"props\":{\"className\":\"interact-flex-row-center\"},\"nodeType\":\"DOM\",\"type\":\"node\",\"instanceArgs\":{\"namespace\":\"html\",\"tag\":\"div\"},\"children\":[{\"props\":{\"max\":10,\"min\":2,\"attributes\":{\"type\":\"range\",\"data-bind\":\"numericValue: index, valueUpdate: 'input', event: {change: function (){this.changes(this.changes()+1)}}\",\"orient\":\"horizontal\"},\"step\":1,\"className\":\"slider slider is-fullwidth\",\"style\":{}},\"nodeType\":\"DOM\",\"type\":\"node\",\"instanceArgs\":{\"namespace\":\"html\",\"tag\":\"input\"},\"children\":[]}]},{\"props\":{\"className\":\"interact-flex-row-right\"},\"nodeType\":\"DOM\",\"type\":\"node\",\"instanceArgs\":{\"namespace\":\"html\",\"tag\":\"div\"},\"children\":[{\"props\":{\"attributes\":{\"data-bind\":\"text: formatted_val\"}},\"nodeType\":\"DOM\",\"type\":\"node\",\"instanceArgs\":{\"namespace\":\"html\",\"tag\":\"p\"},\"children\":[]}]}]}]}]}]},{\"props\":{\"style\":{\"display\":\"flex\",\"flex-direction\":\"row\"}},\"nodeType\":\"DOM\",\"type\":\"node\",\"instanceArgs\":{\"namespace\":\"html\",\"tag\":\"div\"},\"children\":[{\"props\":{\"className\":\"interact-widget\"},\"nodeType\":\"DOM\",\"type\":\"node\",\"instanceArgs\":{\"namespace\":\"html\",\"tag\":\"div\"},\"children\":[{\"props\":{},\"nodeType\":\"Scope\",\"type\":\"node\",\"instanceArgs\":{\"imports\":{\"data\":[{\"name\":null,\"type\":\"js\",\"url\":\"\\/assetserver\\/dd22ed1bf1896c2748f3fe616ce0b838adc895c1-katex.min.js\"},{\"name\":null,\"type\":\"css\",\"url\":\"\\/assetserver\\/46517a424aa5e6cffc1360d7e0848b601c584ee3-katex.min.css\"}],\"type\":\"async_block\"},\"id\":\"12272390942255348691\",\"handlers\":{\"value\":[\"(function (txt){return this.k.render(txt,this.container)})\"]},\"systemjs_options\":null,\"mount_callbacks\":[\"function () {\\n    var handler = ((function (k){this.k=k; this.container=this.dom.querySelector(\\\"#container\\\"); return k.render(\\\"\\\\\\\\;\\\\\\\\;\\\",this.container)}));\\n    (WebIO.importBlock({\\\"data\\\":[{\\\"name\\\":null,\\\"type\\\":\\\"js\\\",\\\"url\\\":\\\"\\/assetserver\\/dd22ed1bf1896c2748f3fe616ce0b838adc895c1-katex.min.js\\\"},{\\\"name\\\":null,\\\"type\\\":\\\"css\\\",\\\"url\\\":\\\"\\/assetserver\\/46517a424aa5e6cffc1360d7e0848b601c584ee3-katex.min.css\\\"}],\\\"type\\\":\\\"async_block\\\"})).then((imports) => handler.apply(this, imports));\\n}\\n\"],\"observables\":{\"value\":{\"sync\":false,\"id\":\"4133770151944270428\",\"value\":\"\\\\;\\\\;\"}}},\"children\":[{\"props\":{\"id\":\"container\"},\"nodeType\":\"DOM\",\"type\":\"node\",\"instanceArgs\":{\"namespace\":\"html\",\"tag\":\"div\"},\"children\":[]}]}]},{\"props\":{\"className\":\"field interact-widget\"},\"nodeType\":\"DOM\",\"type\":\"node\",\"instanceArgs\":{\"namespace\":\"html\",\"tag\":\"div\"},\"children\":[{\"props\":{},\"nodeType\":\"Scope\",\"type\":\"node\",\"instanceArgs\":{\"imports\":{\"data\":[{\"name\":\"knockout\",\"type\":\"js\",\"url\":\"\\/assetserver\\/727383f2a47bd31570b7da84eee7b022dd6d7c78-knockout.js\"},{\"name\":\"knockout_punches\",\"type\":\"js\",\"url\":\"\\/assetserver\\/382b41b3b1bd9f26f75861d360bad7f8beea211f-knockout_punches.js\"},{\"name\":null,\"type\":\"js\",\"url\":\"\\/assetserver\\/5ab20f1060420992a9b82a65b735dee4d81ef413-all.js\"},{\"name\":null,\"type\":\"css\",\"url\":\"\\/assetserver\\/1cc0ed62837210b80a182cc3676512f895dab686-style.css\"},{\"name\":null,\"type\":\"css\",\"url\":\"\\/assetserver\\/2eee816f616df3549d7044d45e744fbf8d42bfa1-bulma_confined.min.css\"}],\"type\":\"async_block\"},\"id\":\"8562404827970474334\",\"handlers\":{\"loading\":[\"(function (val){return (val!=this.model[\\\"loading\\\"]()) ? (this.valueFromJulia[\\\"loading\\\"]=true, this.model[\\\"loading\\\"](val)) : undefined})\"],\"clicks\":[\"(function (val){return (val!=this.model[\\\"clicks\\\"]()) ? (this.valueFromJulia[\\\"clicks\\\"]=true, this.model[\\\"clicks\\\"](val)) : undefined})\"]},\"systemjs_options\":null,\"mount_callbacks\":[\"function () {\\n    var handler = (function (ko, koPunches) {\\n    ko.punches.enableAll();\\n    ko.bindingHandlers.numericValue = {\\n        init: function(element, valueAccessor, allBindings, data, context) {\\n            var stringified = ko.observable(ko.unwrap(valueAccessor()));\\n            stringified.subscribe(function(value) {\\n                var val = parseFloat(value);\\n                if (!isNaN(val)) {\\n                    valueAccessor()(val);\\n                }\\n            });\\n            valueAccessor().subscribe(function(value) {\\n                var str = JSON.stringify(value);\\n                if ((str == \\\"0\\\") && ([\\\"-0\\\", \\\"-0.\\\"].indexOf(stringified()) >= 0))\\n                     return;\\n                 if ([\\\"null\\\", \\\"\\\"].indexOf(str) >= 0)\\n                     return;\\n                stringified(str);\\n            });\\n            ko.applyBindingsToNode(\\n                element,\\n                {\\n                    value: stringified,\\n                    valueUpdate: allBindings.get('valueUpdate'),\\n                },\\n                context,\\n            );\\n        }\\n    };\\n    var json_data = {\\\"loading\\\":WebIO.getval({\\\"name\\\":\\\"loading\\\",\\\"scope\\\":\\\"8562404827970474334\\\",\\\"id\\\":\\\"17530502079846009979\\\",\\\"type\\\":\\\"observable\\\"}),\\\"clicks\\\":WebIO.getval({\\\"name\\\":\\\"clicks\\\",\\\"scope\\\":\\\"8562404827970474334\\\",\\\"id\\\":\\\"15133735711216908603\\\",\\\"type\\\":\\\"observable\\\"})};\\n    var self = this;\\n    function AppViewModel() {\\n        for (var key in json_data) {\\n            var el = json_data[key];\\n            this[key] = Array.isArray(el) ? ko.observableArray(el) : ko.observable(el);\\n        }\\n        \\n        \\n        [this[\\\"loading\\\"].subscribe((function (val){!(this.valueFromJulia[\\\"loading\\\"]) ? (WebIO.setval({\\\"name\\\":\\\"loading\\\",\\\"scope\\\":\\\"8562404827970474334\\\",\\\"id\\\":\\\"17530502079846009979\\\",\\\"type\\\":\\\"observable\\\"},val)) : undefined; return this.valueFromJulia[\\\"loading\\\"]=false}),self),this[\\\"clicks\\\"].subscribe((function (val){!(this.valueFromJulia[\\\"clicks\\\"]) ? (WebIO.setval({\\\"name\\\":\\\"clicks\\\",\\\"scope\\\":\\\"8562404827970474334\\\",\\\"id\\\":\\\"15133735711216908603\\\",\\\"type\\\":\\\"observable\\\"},val)) : undefined; return this.valueFromJulia[\\\"clicks\\\"]=false}),self)]\\n        \\n    }\\n    self.model = new AppViewModel();\\n    self.valueFromJulia = {};\\n    for (var key in json_data) {\\n        self.valueFromJulia[key] = false;\\n    }\\n    ko.applyBindings(self.model, self.dom);\\n}\\n);\\n    (WebIO.importBlock({\\\"data\\\":[{\\\"name\\\":\\\"knockout\\\",\\\"type\\\":\\\"js\\\",\\\"url\\\":\\\"\\/assetserver\\/727383f2a47bd31570b7da84eee7b022dd6d7c78-knockout.js\\\"},{\\\"name\\\":\\\"knockout_punches\\\",\\\"type\\\":\\\"js\\\",\\\"url\\\":\\\"\\/assetserver\\/382b41b3b1bd9f26f75861d360bad7f8beea211f-knockout_punches.js\\\"}],\\\"type\\\":\\\"async_block\\\"})).then((imports) => handler.apply(this, imports));\\n}\\n\"],\"observables\":{\"loading\":{\"sync\":false,\"id\":\"17530502079846009979\",\"value\":false},\"clicks\":{\"sync\":true,\"id\":\"15133735711216908603\",\"value\":0}}},\"children\":[{\"props\":{\"attributes\":{\"data-bind\":\"click: function (){this.clicks(this.clicks()+1)}, css: {'is-loading' : loading}\"},\"className\":\"is-medium button is-primary\",\"style\":{}},\"nodeType\":\"DOM\",\"type\":\"node\",\"instanceArgs\":{\"namespace\":\"html\",\"tag\":\"button\"},\"children\":[\"run\"]}]}]},{\"props\":{\"className\":\"interact-widget\"},\"nodeType\":\"DOM\",\"type\":\"node\",\"instanceArgs\":{\"namespace\":\"html\",\"tag\":\"div\"},\"children\":[{\"props\":{},\"nodeType\":\"Scope\",\"type\":\"node\",\"instanceArgs\":{\"imports\":{\"data\":[{\"name\":null,\"type\":\"js\",\"url\":\"\\/assetserver\\/dd22ed1bf1896c2748f3fe616ce0b838adc895c1-katex.min.js\"},{\"name\":null,\"type\":\"css\",\"url\":\"\\/assetserver\\/46517a424aa5e6cffc1360d7e0848b601c584ee3-katex.min.css\"}],\"type\":\"async_block\"},\"id\":\"12272390942255348691\",\"handlers\":{\"value\":[\"(function (txt){return this.k.render(txt,this.container)})\"]},\"systemjs_options\":null,\"mount_callbacks\":[\"function () {\\n    var handler = ((function (k){this.k=k; this.container=this.dom.querySelector(\\\"#container\\\"); return k.render(\\\"\\\\\\\\;\\\\\\\\;\\\",this.container)}));\\n    (WebIO.importBlock({\\\"data\\\":[{\\\"name\\\":null,\\\"type\\\":\\\"js\\\",\\\"url\\\":\\\"\\/assetserver\\/dd22ed1bf1896c2748f3fe616ce0b838adc895c1-katex.min.js\\\"},{\\\"name\\\":null,\\\"type\\\":\\\"css\\\",\\\"url\\\":\\\"\\/assetserver\\/46517a424aa5e6cffc1360d7e0848b601c584ee3-katex.min.css\\\"}],\\\"type\\\":\\\"async_block\\\"})).then((imports) => handler.apply(this, imports));\\n}\\n\"],\"observables\":{\"value\":{\"sync\":false,\"id\":\"4133770151944270428\",\"value\":\"\\\\;\\\\;\"}}},\"children\":[{\"props\":{\"id\":\"container\"},\"nodeType\":\"DOM\",\"type\":\"node\",\"instanceArgs\":{\"namespace\":\"html\",\"tag\":\"div\"},\"children\":[]}]}]},{\"props\":{\"className\":\"field interact-widget\"},\"nodeType\":\"DOM\",\"type\":\"node\",\"instanceArgs\":{\"namespace\":\"html\",\"tag\":\"div\"},\"children\":[{\"props\":{},\"nodeType\":\"Scope\",\"type\":\"node\",\"instanceArgs\":{\"imports\":{\"data\":[{\"name\":\"knockout\",\"type\":\"js\",\"url\":\"\\/assetserver\\/727383f2a47bd31570b7da84eee7b022dd6d7c78-knockout.js\"},{\"name\":\"knockout_punches\",\"type\":\"js\",\"url\":\"\\/assetserver\\/382b41b3b1bd9f26f75861d360bad7f8beea211f-knockout_punches.js\"},{\"name\":null,\"type\":\"js\",\"url\":\"\\/assetserver\\/5ab20f1060420992a9b82a65b735dee4d81ef413-all.js\"},{\"name\":null,\"type\":\"css\",\"url\":\"\\/assetserver\\/1cc0ed62837210b80a182cc3676512f895dab686-style.css\"},{\"name\":null,\"type\":\"css\",\"url\":\"\\/assetserver\\/2eee816f616df3549d7044d45e744fbf8d42bfa1-bulma_confined.min.css\"}],\"type\":\"async_block\"},\"id\":\"8483664382894895853\",\"handlers\":{\"loading\":[\"(function (val){return (val!=this.model[\\\"loading\\\"]()) ? (this.valueFromJulia[\\\"loading\\\"]=true, this.model[\\\"loading\\\"](val)) : undefined})\"],\"clicks\":[\"(function (val){return (val!=this.model[\\\"clicks\\\"]()) ? (this.valueFromJulia[\\\"clicks\\\"]=true, this.model[\\\"clicks\\\"](val)) : undefined})\"]},\"systemjs_options\":null,\"mount_callbacks\":[\"function () {\\n    var handler = (function (ko, koPunches) {\\n    ko.punches.enableAll();\\n    ko.bindingHandlers.numericValue = {\\n        init: function(element, valueAccessor, allBindings, data, context) {\\n            var stringified = ko.observable(ko.unwrap(valueAccessor()));\\n            stringified.subscribe(function(value) {\\n                var val = parseFloat(value);\\n                if (!isNaN(val)) {\\n                    valueAccessor()(val);\\n                }\\n            });\\n            valueAccessor().subscribe(function(value) {\\n                var str = JSON.stringify(value);\\n                if ((str == \\\"0\\\") && ([\\\"-0\\\", \\\"-0.\\\"].indexOf(stringified()) >= 0))\\n                     return;\\n                 if ([\\\"null\\\", \\\"\\\"].indexOf(str) >= 0)\\n                     return;\\n                stringified(str);\\n            });\\n            ko.applyBindingsToNode(\\n                element,\\n                {\\n                    value: stringified,\\n                    valueUpdate: allBindings.get('valueUpdate'),\\n                },\\n                context,\\n            );\\n        }\\n    };\\n    var json_data = {\\\"loading\\\":WebIO.getval({\\\"name\\\":\\\"loading\\\",\\\"scope\\\":\\\"8483664382894895853\\\",\\\"id\\\":\\\"10453519465320085994\\\",\\\"type\\\":\\\"observable\\\"}),\\\"clicks\\\":WebIO.getval({\\\"name\\\":\\\"clicks\\\",\\\"scope\\\":\\\"8483664382894895853\\\",\\\"id\\\":\\\"12194346341855073246\\\",\\\"type\\\":\\\"observable\\\"})};\\n    var self = this;\\n    function AppViewModel() {\\n        for (var key in json_data) {\\n            var el = json_data[key];\\n            this[key] = Array.isArray(el) ? ko.observableArray(el) : ko.observable(el);\\n        }\\n        \\n        \\n        [this[\\\"loading\\\"].subscribe((function (val){!(this.valueFromJulia[\\\"loading\\\"]) ? (WebIO.setval({\\\"name\\\":\\\"loading\\\",\\\"scope\\\":\\\"8483664382894895853\\\",\\\"id\\\":\\\"10453519465320085994\\\",\\\"type\\\":\\\"observable\\\"},val)) : undefined; return this.valueFromJulia[\\\"loading\\\"]=false}),self),this[\\\"clicks\\\"].subscribe((function (val){!(this.valueFromJulia[\\\"clicks\\\"]) ? (WebIO.setval({\\\"name\\\":\\\"clicks\\\",\\\"scope\\\":\\\"8483664382894895853\\\",\\\"id\\\":\\\"12194346341855073246\\\",\\\"type\\\":\\\"observable\\\"},val)) : undefined; return this.valueFromJulia[\\\"clicks\\\"]=false}),self)]\\n        \\n    }\\n    self.model = new AppViewModel();\\n    self.valueFromJulia = {};\\n    for (var key in json_data) {\\n        self.valueFromJulia[key] = false;\\n    }\\n    ko.applyBindings(self.model, self.dom);\\n}\\n);\\n    (WebIO.importBlock({\\\"data\\\":[{\\\"name\\\":\\\"knockout\\\",\\\"type\\\":\\\"js\\\",\\\"url\\\":\\\"\\/assetserver\\/727383f2a47bd31570b7da84eee7b022dd6d7c78-knockout.js\\\"},{\\\"name\\\":\\\"knockout_punches\\\",\\\"type\\\":\\\"js\\\",\\\"url\\\":\\\"\\/assetserver\\/382b41b3b1bd9f26f75861d360bad7f8beea211f-knockout_punches.js\\\"}],\\\"type\\\":\\\"async_block\\\"})).then((imports) => handler.apply(this, imports));\\n}\\n\"],\"observables\":{\"loading\":{\"sync\":false,\"id\":\"10453519465320085994\",\"value\":false},\"clicks\":{\"sync\":true,\"id\":\"12194346341855073246\",\"value\":0}}},\"children\":[{\"props\":{\"attributes\":{\"data-bind\":\"click: function (){this.clicks(this.clicks()+1)}, css: {'is-loading' : loading}\"},\"className\":\"is-medium button is-primary\",\"style\":{}},\"nodeType\":\"DOM\",\"type\":\"node\",\"instanceArgs\":{\"namespace\":\"html\",\"tag\":\"button\"},\"children\":[\"stop\"]}]}]},{\"props\":{\"className\":\"interact-widget\"},\"nodeType\":\"DOM\",\"type\":\"node\",\"instanceArgs\":{\"namespace\":\"html\",\"tag\":\"div\"},\"children\":[{\"props\":{},\"nodeType\":\"Scope\",\"type\":\"node\",\"instanceArgs\":{\"imports\":{\"data\":[{\"name\":null,\"type\":\"js\",\"url\":\"\\/assetserver\\/dd22ed1bf1896c2748f3fe616ce0b838adc895c1-katex.min.js\"},{\"name\":null,\"type\":\"css\",\"url\":\"\\/assetserver\\/46517a424aa5e6cffc1360d7e0848b601c584ee3-katex.min.css\"}],\"type\":\"async_block\"},\"id\":\"12272390942255348691\",\"handlers\":{\"value\":[\"(function (txt){return this.k.render(txt,this.container)})\"]},\"systemjs_options\":null,\"mount_callbacks\":[\"function () {\\n    var handler = ((function (k){this.k=k; this.container=this.dom.querySelector(\\\"#container\\\"); return k.render(\\\"\\\\\\\\;\\\\\\\\;\\\",this.container)}));\\n    (WebIO.importBlock({\\\"data\\\":[{\\\"name\\\":null,\\\"type\\\":\\\"js\\\",\\\"url\\\":\\\"\\/assetserver\\/dd22ed1bf1896c2748f3fe616ce0b838adc895c1-katex.min.js\\\"},{\\\"name\\\":null,\\\"type\\\":\\\"css\\\",\\\"url\\\":\\\"\\/assetserver\\/46517a424aa5e6cffc1360d7e0848b601c584ee3-katex.min.css\\\"}],\\\"type\\\":\\\"async_block\\\"})).then((imports) => handler.apply(this, imports));\\n}\\n\"],\"observables\":{\"value\":{\"sync\":false,\"id\":\"4133770151944270428\",\"value\":\"\\\\;\\\\;\"}}},\"children\":[{\"props\":{\"id\":\"container\"},\"nodeType\":\"DOM\",\"type\":\"node\",\"instanceArgs\":{\"namespace\":\"html\",\"tag\":\"div\"},\"children\":[]}]}]},{\"props\":{\"className\":\"field interact-widget\"},\"nodeType\":\"DOM\",\"type\":\"node\",\"instanceArgs\":{\"namespace\":\"html\",\"tag\":\"div\"},\"children\":[{\"props\":{},\"nodeType\":\"Scope\",\"type\":\"node\",\"instanceArgs\":{\"imports\":{\"data\":[{\"name\":\"knockout\",\"type\":\"js\",\"url\":\"\\/assetserver\\/727383f2a47bd31570b7da84eee7b022dd6d7c78-knockout.js\"},{\"name\":\"knockout_punches\",\"type\":\"js\",\"url\":\"\\/assetserver\\/382b41b3b1bd9f26f75861d360bad7f8beea211f-knockout_punches.js\"},{\"name\":null,\"type\":\"js\",\"url\":\"\\/assetserver\\/5ab20f1060420992a9b82a65b735dee4d81ef413-all.js\"},{\"name\":null,\"type\":\"css\",\"url\":\"\\/assetserver\\/1cc0ed62837210b80a182cc3676512f895dab686-style.css\"},{\"name\":null,\"type\":\"css\",\"url\":\"\\/assetserver\\/2eee816f616df3549d7044d45e744fbf8d42bfa1-bulma_confined.min.css\"}],\"type\":\"async_block\"},\"id\":\"9299783535453842784\",\"handlers\":{\"loading\":[\"(function (val){return (val!=this.model[\\\"loading\\\"]()) ? (this.valueFromJulia[\\\"loading\\\"]=true, this.model[\\\"loading\\\"](val)) : undefined})\"],\"clicks\":[\"(function (val){return (val!=this.model[\\\"clicks\\\"]()) ? (this.valueFromJulia[\\\"clicks\\\"]=true, this.model[\\\"clicks\\\"](val)) : undefined})\"]},\"systemjs_options\":null,\"mount_callbacks\":[\"function () {\\n    var handler = (function (ko, koPunches) {\\n    ko.punches.enableAll();\\n    ko.bindingHandlers.numericValue = {\\n        init: function(element, valueAccessor, allBindings, data, context) {\\n            var stringified = ko.observable(ko.unwrap(valueAccessor()));\\n            stringified.subscribe(function(value) {\\n                var val = parseFloat(value);\\n                if (!isNaN(val)) {\\n                    valueAccessor()(val);\\n                }\\n            });\\n            valueAccessor().subscribe(function(value) {\\n                var str = JSON.stringify(value);\\n                if ((str == \\\"0\\\") && ([\\\"-0\\\", \\\"-0.\\\"].indexOf(stringified()) >= 0))\\n                     return;\\n                 if ([\\\"null\\\", \\\"\\\"].indexOf(str) >= 0)\\n                     return;\\n                stringified(str);\\n            });\\n            ko.applyBindingsToNode(\\n                element,\\n                {\\n                    value: stringified,\\n                    valueUpdate: allBindings.get('valueUpdate'),\\n                },\\n                context,\\n            );\\n        }\\n    };\\n    var json_data = {\\\"loading\\\":WebIO.getval({\\\"name\\\":\\\"loading\\\",\\\"scope\\\":\\\"9299783535453842784\\\",\\\"id\\\":\\\"4013943859339580237\\\",\\\"type\\\":\\\"observable\\\"}),\\\"clicks\\\":WebIO.getval({\\\"name\\\":\\\"clicks\\\",\\\"scope\\\":\\\"9299783535453842784\\\",\\\"id\\\":\\\"2937837388901186673\\\",\\\"type\\\":\\\"observable\\\"})};\\n    var self = this;\\n    function AppViewModel() {\\n        for (var key in json_data) {\\n            var el = json_data[key];\\n            this[key] = Array.isArray(el) ? ko.observableArray(el) : ko.observable(el);\\n        }\\n        \\n        \\n        [this[\\\"loading\\\"].subscribe((function (val){!(this.valueFromJulia[\\\"loading\\\"]) ? (WebIO.setval({\\\"name\\\":\\\"loading\\\",\\\"scope\\\":\\\"9299783535453842784\\\",\\\"id\\\":\\\"4013943859339580237\\\",\\\"type\\\":\\\"observable\\\"},val)) : undefined; return this.valueFromJulia[\\\"loading\\\"]=false}),self),this[\\\"clicks\\\"].subscribe((function (val){!(this.valueFromJulia[\\\"clicks\\\"]) ? (WebIO.setval({\\\"name\\\":\\\"clicks\\\",\\\"scope\\\":\\\"9299783535453842784\\\",\\\"id\\\":\\\"2937837388901186673\\\",\\\"type\\\":\\\"observable\\\"},val)) : undefined; return this.valueFromJulia[\\\"clicks\\\"]=false}),self)]\\n        \\n    }\\n    self.model = new AppViewModel();\\n    self.valueFromJulia = {};\\n    for (var key in json_data) {\\n        self.valueFromJulia[key] = false;\\n    }\\n    ko.applyBindings(self.model, self.dom);\\n}\\n);\\n    (WebIO.importBlock({\\\"data\\\":[{\\\"name\\\":\\\"knockout\\\",\\\"type\\\":\\\"js\\\",\\\"url\\\":\\\"\\/assetserver\\/727383f2a47bd31570b7da84eee7b022dd6d7c78-knockout.js\\\"},{\\\"name\\\":\\\"knockout_punches\\\",\\\"type\\\":\\\"js\\\",\\\"url\\\":\\\"\\/assetserver\\/382b41b3b1bd9f26f75861d360bad7f8beea211f-knockout_punches.js\\\"}],\\\"type\\\":\\\"async_block\\\"})).then((imports) => handler.apply(this, imports));\\n}\\n\"],\"observables\":{\"loading\":{\"sync\":false,\"id\":\"4013943859339580237\",\"value\":false},\"clicks\":{\"sync\":true,\"id\":\"2937837388901186673\",\"value\":0}}},\"children\":[{\"props\":{\"attributes\":{\"data-bind\":\"click: function (){this.clicks(this.clicks()+1)}, css: {'is-loading' : loading}\"},\"className\":\"is-medium button is-primary\",\"style\":{}},\"nodeType\":\"DOM\",\"type\":\"node\",\"instanceArgs\":{\"namespace\":\"html\",\"tag\":\"button\"},\"children\":[\"reset\"]}]}]}]}]},{\"props\":{},\"nodeType\":\"Scope\",\"type\":\"node\",\"instanceArgs\":{\"imports\":{\"data\":[],\"type\":\"async_block\"},\"id\":\"12191066687803975186\",\"handlers\":{\"obs-output\":[\"function (value, scope) {\\n    scope.setInnerHTML(value);\\n}\\n\"]},\"systemjs_options\":null,\"mount_callbacks\":[],\"observables\":{\"obs-output\":{\"sync\":false,\"id\":\"15369642084238790834\",\"value\":\"    <div style=\\\"height: 500px; width: 100%; overflow-x: auto; overflow-y: hidden; resize: both\\\">\\n    <iframe src=\\\"http:\\/\\/127.0.0.1:8713\\\" style=\\\"width: 100%; height: 100%; border: none\\\"><\\/iframe>\\n    <\\/div>\\n\"}}},\"children\":[{\"props\":{\"className\":\"webio-observable\",\"setInnerHtml\":\"    <div style=\\\"height: 500px; width: 100%; overflow-x: auto; overflow-y: hidden; resize: both\\\">\\n    <iframe src=\\\"http:\\/\\/127.0.0.1:8713\\\" style=\\\"width: 100%; height: 100%; border: none\\\"><\\/iframe>\\n    <\\/div>\\n\"},\"nodeType\":\"DOM\",\"type\":\"node\",\"instanceArgs\":{\"namespace\":\"html\",\"tag\":\"div\"},\"children\":[]}]},{\"props\":{\"className\":\"interact-widget\"},\"nodeType\":\"DOM\",\"type\":\"node\",\"instanceArgs\":{\"namespace\":\"html\",\"tag\":\"div\"},\"children\":[{\"props\":{},\"nodeType\":\"Scope\",\"type\":\"node\",\"instanceArgs\":{\"imports\":{\"data\":[{\"name\":null,\"type\":\"js\",\"url\":\"\\/assetserver\\/dd22ed1bf1896c2748f3fe616ce0b838adc895c1-katex.min.js\"},{\"name\":null,\"type\":\"css\",\"url\":\"\\/assetserver\\/46517a424aa5e6cffc1360d7e0848b601c584ee3-katex.min.css\"}],\"type\":\"async_block\"},\"id\":\"12272390942255348691\",\"handlers\":{\"value\":[\"(function (txt){return this.k.render(txt,this.container)})\"]},\"systemjs_options\":null,\"mount_callbacks\":[\"function () {\\n    var handler = ((function (k){this.k=k; this.container=this.dom.querySelector(\\\"#container\\\"); return k.render(\\\"\\\\\\\\;\\\\\\\\;\\\",this.container)}));\\n    (WebIO.importBlock({\\\"data\\\":[{\\\"name\\\":null,\\\"type\\\":\\\"js\\\",\\\"url\\\":\\\"\\/assetserver\\/dd22ed1bf1896c2748f3fe616ce0b838adc895c1-katex.min.js\\\"},{\\\"name\\\":null,\\\"type\\\":\\\"css\\\",\\\"url\\\":\\\"\\/assetserver\\/46517a424aa5e6cffc1360d7e0848b601c584ee3-katex.min.css\\\"}],\\\"type\\\":\\\"async_block\\\"})).then((imports) => handler.apply(this, imports));\\n}\\n\"],\"observables\":{\"value\":{\"sync\":false,\"id\":\"4133770151944270428\",\"value\":\"\\\\;\\\\;\"}}},\"children\":[{\"props\":{\"id\":\"container\"},\"nodeType\":\"DOM\",\"type\":\"node\",\"instanceArgs\":{\"namespace\":\"html\",\"tag\":\"div\"},\"children\":[]}]}]},{\"props\":{\"style\":{\"display\":\"flex\",\"flex-direction\":\"column\"}},\"nodeType\":\"DOM\",\"type\":\"node\",\"instanceArgs\":{\"namespace\":\"html\",\"tag\":\"div\"},\"children\":[{\"props\":{},\"nodeType\":\"Scope\",\"type\":\"node\",\"instanceArgs\":{\"imports\":{\"data\":[],\"type\":\"async_block\"},\"id\":\"1546549773020982023\",\"handlers\":{\"obs-output\":[\"function (value, scope) {\\n    scope.setInnerHTML(value);\\n}\\n\"]},\"systemjs_options\":null,\"mount_callbacks\":[],\"observables\":{\"obs-output\":{\"sync\":false,\"id\":\"10381997880335181538\",\"value\":\"<img src=\\\"data:image\\/png;base64,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\\\" \\/>\"}}},\"children\":[{\"props\":{\"className\":\"webio-observable\",\"setInnerHtml\":\"<img src=\\\"data:image\\/png;base64,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\\\" \\/>\"},\"nodeType\":\"DOM\",\"type\":\"node\",\"instanceArgs\":{\"namespace\":\"html\",\"tag\":\"div\"},\"children\":[]}]}]}]}]},\n",
       "        window,\n",
       "    );\n",
       "    })()\n",
       "    </script>\n",
       "</div>\n"
      ],
      "text/plain": [
       "WebIO.Node{WebIO.DOM}(WebIO.DOM(:html, :div), Any[WebIO.Node{WebIO.DOM}(WebIO.DOM(:html, :div), Any[WebIO.Node{WebIO.DOM}(WebIO.DOM(:html, :div), Any[WebIO.Node{WebIO.DOM}(WebIO.DOM(:html, :div), Any[WebIO.Scope(WebIO.Node{WebIO.DOM}(WebIO.DOM(:html, :div), Any[WebIO.Node{WebIO.DOM}(WebIO.DOM(:html, :div), Any[WebIO.Node{WebIO.DOM}(WebIO.DOM(:html, :label), Any[\"time\"], Dict{Symbol, Any}(:className => \"interact \", :style => Dict{Any, Any}(:padding => \"5px 10px 0px 10px\")))], Dict{Symbol, Any}(:className => \"interact-flex-row-left\")), WebIO.Node{WebIO.DOM}(WebIO.DOM(:html, :div), Any[WebIO.Node{WebIO.DOM}(WebIO.DOM(:html, :input), Any[], Dict{Symbol, Any}(:max => 100, :min => 1, :attributes => Dict{Any, Any}(:type => \"range\", Symbol(\"data-bind\") => \"numericValue: index, valueUpdate: 'input', event: {change: function (){this.changes(this.changes()+1)}}\", \"orient\" => \"horizontal\"), :step => 1, :className => \"slider slider is-fullwidth\", :style => Dict{Any, Any}()))], Dict{Symbol, Any}(:className => \"interact-flex-row-center\")), WebIO.Node{WebIO.DOM}(WebIO.DOM(:html, :div), Any[WebIO.Node{WebIO.DOM}(WebIO.DOM(:html, :p), Any[], Dict{Symbol, Any}(:attributes => Dict(\"data-bind\" => \"text: formatted_val\")))], Dict{Symbol, Any}(:className => \"interact-flex-row-right\"))], Dict{Symbol, Any}(:className => \"interact-flex-row interact-widget\")), Dict{String, Tuple{Observables.AbstractObservable, Union{Nothing, Bool}}}(\"changes\" => (Observable(0), nothing), \"index\" => (Observable(1), nothing)), Set{String}(), nothing, WebIO.Asset[WebIO.Asset(\"js\", \"knockout\", \"/home/dushya/.julia/packages/Knockout/HReiN/src/../assets/knockout.js\"), WebIO.Asset(\"js\", \"knockout_punches\", \"/home/dushya/.julia/packages/Knockout/HReiN/src/../assets/knockout_punches.js\"), WebIO.Asset(\"js\", nothing, \"/home/dushya/.julia/packages/InteractBase/LJXv3/src/../assets/all.js\"), WebIO.Asset(\"css\", nothing, \"/home/dushya/.julia/packages/InteractBase/LJXv3/src/../assets/style.css\"), WebIO.Asset(\"css\", nothing, \"/home/dushya/.julia/packages/Interact/PENUy/src/../assets/bulma_confined.min.css\")], Dict{Any, Any}(\"changes\" => Any[WebIO.JSString(\"(function (val){return (val!=this.model[\\\"changes\\\"]()) ? (this.valueFromJulia[\\\"changes\\\"]=true, this.model[\\\"changes\\\"](val)) : undefined})\")], \"index\" => Any[WebIO.JSString(\"(function (val){return (val!=this.model[\\\"index\\\"]()) ? (this.valueFromJulia[\\\"index\\\"]=true, this.model[\\\"index\\\"](val)) : undefined})\")]), WebIO.ConnectionPool(Channel{Any}(32), Set{WebIO.AbstractConnection}(), Base.GenericCondition{ReentrantLock}(Base.IntrusiveLinkedList{Task}(Task (runnable) @0x00007f862f1fce20, Task (runnable) @0x00007f862f1fce20), ReentrantLock(nothing, 0x00000000, 0x00, Base.GenericCondition{Base.Threads.SpinLock}(Base.IntrusiveLinkedList{Task}(nothing, nothing), Base.Threads.SpinLock(0)), (0, 0, 141733920768)))), WebIO.JSString[WebIO.JSString(\"function () {\\n    var handler = (function (ko, koPunches) {\\n    ko.punches.enableAll();\\n    ko.bindingHandlers.numericValue = {\\n        init: function(element, valueAccessor, allBindings, data, context) {\\n            var stringified = ko.observable(ko.unwrap(valueAccessor()));\\n            stringified.subscribe(function(value) {\\n                var val = parseFloat(value);\\n                if (!isNaN(val)) {\\n                    valueAccessor()(val);\\n                }\\n            });\\n            valueAccessor().subscribe(function(value) {\\n                var str = JSON.stringify(value);\\n                if ((str == \\\"0\\\") && ([\\\"-0\\\", \\\"-0.\\\"].indexOf(stringified()) >= 0))\\n                     return;\\n                 if ([\\\"null\\\", \\\"\\\"].indexOf(str) >= 0)\\n                     return;\\n                stringified(str);\\n            });\\n            ko.applyBindingsToNode(\\n                element,\\n                {\\n                    value: stringified,\\n                    valueUpdate: allBindings.get('valueUpdate'),\\n                },\\n                context,\\n            );\\n        }\\n    };\\n    var json_data = {\\\"formatted_vals\\\":[\\\"1\\\",\\\"2\\\",\\\"3\\\",\\\"4\\\",\\\"5\\\",\\\"6\\\",\\\"7\\\",\\\"8\\\",\\\"9\\\",\\\"10\\\",\\\"11\\\",\\\"12\\\",\\\"13\\\",\\\"14\\\",\\\"15\\\",\\\"16\\\",\\\"17\\\",\\\"18\\\",\\\"19\\\",\\\"20\\\",\\\"21\\\",\\\"22\\\",\\\"23\\\",\\\"24\\\",\\\"25\\\",\\\"26\\\",\\\"27\\\",\\\"28\\\",\\\"29\\\",\\\"30\\\",\\\"31\\\",\\\"32\\\",\\\"33\\\",\\\"34\\\",\\\"35\\\",\\\"36\\\",\\\"37\\\",\\\"38\\\",\\\"39\\\",\\\"40\\\",\\\"41\\\",\\\"42\\\",\\\"43\\\",\\\"44\\\",\\\"45\\\",\\\"46\\\",\\\"47\\\",\\\"48\\\",\\\"49\\\",\\\"50\\\",\\\"51\\\",\\\"52\\\",\\\"53\\\",\\\"54\\\",\\\"55\\\",\\\"56\\\",\\\"57\\\",\\\"58\\\",\\\"59\\\",\\\"60\\\",\\\"61\\\",\\\"62\\\",\\\"63\\\",\\\"64\\\",\\\"65\\\",\\\"66\\\",\\\"67\\\",\\\"68\\\",\\\"69\\\",\\\"70\\\",\\\"71\\\",\\\"72\\\",\\\"73\\\",\\\"74\\\",\\\"75\\\",\\\"76\\\",\\\"77\\\",\\\"78\\\",\\\"79\\\",\\\"80\\\",\\\"81\\\",\\\"82\\\",\\\"83\\\",\\\"84\\\",\\\"85\\\",\\\"86\\\",\\\"87\\\",\\\"88\\\",\\\"89\\\",\\\"90\\\",\\\"91\\\",\\\"92\\\",\\\"93\\\",\\\"94\\\",\\\"95\\\",\\\"96\\\",\\\"97\\\",\\\"98\\\",\\\"99\\\",\\\"100\\\"],\\\"changes\\\":WebIO.getval({\\\"name\\\":\\\"changes\\\",\\\"scope\\\":\\\"11822933094097252871\\\",\\\"id\\\":\\\"17868906210285302630\\\",\\\"type\\\":\\\"observable\\\"}),\\\"index\\\":WebIO.getval({\\\"name\\\":\\\"index\\\",\\\"scope\\\":\\\"11822933094097252871\\\",\\\"id\\\":\\\"16908853493013291242\\\",\\\"type\\\":\\\"observable\\\"})};\\n    var self = this;\\n    function AppViewModel() {\\n        for (var key in json_data) {\\n            var el = json_data[key];\\n            this[key] = Array.isArray(el) ? ko.observableArray(el) : ko.observable(el);\\n        }\\n        \\n        [this[\\\"formatted_val\\\"]=ko.computed(    function(){\\n        return this.formatted_vals()[parseInt(this.index())-(1)];\\n    }\\n,this)]\\n        [this[\\\"changes\\\"].subscribe((function (val){!(this.valueFromJulia[\\\"changes\\\"]) ? (WebIO.setval({\\\"name\\\":\\\"changes\\\",\\\"scope\\\":\\\"11822933094097252871\\\",\\\"id\\\":\\\"17868906210285302630\\\",\\\"type\\\":\\\"observable\\\"},val)) : undefined; return this.valueFromJulia[\\\"changes\\\"]=false}),self),this[\\\"index\\\"].subscribe((function (val){!(this.valueFromJulia[\\\"index\\\"]) ? (WebIO.setval({\\\"name\\\":\\\"index\\\",\\\"scope\\\":\\\"11822933094097252871\\\",\\\"id\\\":\\\"16908853493013291242\\\",\\\"type\\\":\\\"observable\\\"},val)) : undefined; return this.valueFromJulia[\\\"index\\\"]=false}),self)]\\n        \\n    }\\n    self.model = new AppViewModel();\\n    self.valueFromJulia = {};\\n    for (var key in json_data) {\\n        self.valueFromJulia[key] = false;\\n    }\\n    ko.applyBindings(self.model, self.dom);\\n}\\n);\\n    (WebIO.importBlock({\\\"data\\\":[{\\\"name\\\":\\\"knockout\\\",\\\"type\\\":\\\"js\\\",\\\"url\\\":\\\"/assetserver/727383f2a47bd31570b7da84eee7b022dd6d7c78-knockout.js\\\"},{\\\"name\\\":\\\"knockout_punches\\\",\\\"type\\\":\\\"js\\\",\\\"url\\\":\\\"/assetserver/382b41b3b1bd9f26f75861d360bad7f8beea211f-knockout_punches.js\\\"}],\\\"type\\\":\\\"async_block\\\"})).then((imports) => handler.apply(this, imports));\\n}\\n\")])], Dict{Symbol, Any}(:className => \"field interact-widget\")), WebIO.Node{WebIO.DOM}(WebIO.DOM(:html, :div), Any[WebIO.Scope(WebIO.Node{WebIO.DOM}(WebIO.DOM(:html, :div), Any[WebIO.Node{WebIO.DOM}(WebIO.DOM(:html, :div), Any[WebIO.Node{WebIO.DOM}(WebIO.DOM(:html, :label), Any[\"scale\"], Dict{Symbol, Any}(:className => \"interact \", :style => Dict{Any, Any}(:padding => \"5px 10px 0px 10px\")))], Dict{Symbol, Any}(:className => \"interact-flex-row-left\")), WebIO.Node{WebIO.DOM}(WebIO.DOM(:html, :div), Any[WebIO.Node{WebIO.DOM}(WebIO.DOM(:html, :input), Any[], Dict{Symbol, Any}(:max => 20, :min => 1, :attributes => Dict{Any, Any}(:type => \"range\", Symbol(\"data-bind\") => \"numericValue: index, valueUpdate: 'input', event: {change: function (){this.changes(this.changes()+1)}}\", \"orient\" => \"horizontal\"), :step => 1, :className => \"slider slider is-fullwidth\", :style => Dict{Any, Any}()))], Dict{Symbol, Any}(:className => \"interact-flex-row-center\")), WebIO.Node{WebIO.DOM}(WebIO.DOM(:html, :div), Any[WebIO.Node{WebIO.DOM}(WebIO.DOM(:html, :p), Any[], Dict{Symbol, Any}(:attributes => Dict(\"data-bind\" => \"text: formatted_val\")))], Dict{Symbol, Any}(:className => \"interact-flex-row-right\"))], Dict{Symbol, Any}(:className => \"interact-flex-row interact-widget\")), Dict{String, Tuple{Observables.AbstractObservable, Union{Nothing, Bool}}}(\"changes\" => (Observable(0), nothing), \"index\" => (Observable{Any}(10), nothing)), Set{String}(), nothing, WebIO.Asset[WebIO.Asset(\"js\", \"knockout\", \"/home/dushya/.julia/packages/Knockout/HReiN/src/../assets/knockout.js\"), WebIO.Asset(\"js\", \"knockout_punches\", \"/home/dushya/.julia/packages/Knockout/HReiN/src/../assets/knockout_punches.js\"), WebIO.Asset(\"js\", nothing, \"/home/dushya/.julia/packages/InteractBase/LJXv3/src/../assets/all.js\"), WebIO.Asset(\"css\", nothing, \"/home/dushya/.julia/packages/InteractBase/LJXv3/src/../assets/style.css\"), WebIO.Asset(\"css\", nothing, \"/home/dushya/.julia/packages/Interact/PENUy/src/../assets/bulma_confined.min.css\")], Dict{Any, Any}(\"changes\" => Any[WebIO.JSString(\"(function (val){return (val!=this.model[\\\"changes\\\"]()) ? (this.valueFromJulia[\\\"changes\\\"]=true, this.model[\\\"changes\\\"](val)) : undefined})\")], \"index\" => Any[WebIO.JSString(\"(function (val){return (val!=this.model[\\\"index\\\"]()) ? (this.valueFromJulia[\\\"index\\\"]=true, this.model[\\\"index\\\"](val)) : undefined})\")]), WebIO.ConnectionPool(Channel{Any}(32), Set{WebIO.AbstractConnection}(), Base.GenericCondition{ReentrantLock}(Base.IntrusiveLinkedList{Task}(Task (runnable) @0x00007f862fb347e0, Task (runnable) @0x00007f862fb347e0), ReentrantLock(nothing, 0x00000000, 0x00, Base.GenericCondition{Base.Threads.SpinLock}(Base.IntrusiveLinkedList{Task}(nothing, nothing), Base.Threads.SpinLock(0)), (8, 140214139599808, 21474836483)))), WebIO.JSString[WebIO.JSString(\"function () {\\n    var handler = (function (ko, koPunches) {\\n    ko.punches.enableAll();\\n    ko.bindingHandlers.numericValue = {\\n        init: function(element, valueAccessor, allBindings, data, context) {\\n            var stringified = ko.observable(ko.unwrap(valueAccessor()));\\n            stringified.subscribe(function(value) {\\n                var val = parseFloat(value);\\n                if (!isNaN(val)) {\\n                    valueAccessor()(val);\\n                }\\n            });\\n            valueAccessor().subscribe(function(value) {\\n                var str = JSON.stringify(value);\\n                if ((str == \\\"0\\\") && ([\\\"-0\\\", \\\"-0.\\\"].indexOf(stringified()) >= 0))\\n                     return;\\n                 if ([\\\"null\\\", \\\"\\\"].indexOf(str) >= 0)\\n                     return;\\n                stringified(str);\\n            });\\n            ko.applyBindingsToNode(\\n                element,\\n                {\\n                    value: stringified,\\n                    valueUpdate: allBindings.get('valueUpdate'),\\n                },\\n                context,\\n            );\\n        }\\n    };\\n    var json_data = {\\\"formatted_vals\\\":[\\\"0.1\\\",\\\"0.2\\\",\\\"0.3\\\",\\\"0.4\\\",\\\"0.5\\\",\\\"0.6\\\",\\\"0.7\\\",\\\"0.8\\\",\\\"0.9\\\",\\\"1.0\\\",\\\"1.1\\\",\\\"1.2\\\",\\\"1.3\\\",\\\"1.4\\\",\\\"1.5\\\",\\\"1.6\\\",\\\"1.7\\\",\\\"1.8\\\",\\\"1.9\\\",\\\"2.0\\\"],\\\"changes\\\":WebIO.getval({\\\"name\\\":\\\"changes\\\",\\\"scope\\\":\\\"9897228946341972295\\\",\\\"id\\\":\\\"2728492853086494883\\\",\\\"type\\\":\\\"observable\\\"}),\\\"index\\\":WebIO.getval({\\\"name\\\":\\\"index\\\",\\\"scope\\\":\\\"9897228946341972295\\\",\\\"id\\\":\\\"16529521837369451179\\\",\\\"type\\\":\\\"observable\\\"})};\\n    var self = this;\\n    function AppViewModel() {\\n        for (var key in json_data) {\\n            var el = json_data[key];\\n            this[key] = Array.isArray(el) ? ko.observableArray(el) : ko.observable(el);\\n        }\\n        \\n        [this[\\\"formatted_val\\\"]=ko.computed(    function(){\\n        return this.formatted_vals()[parseInt(this.index())-(1)];\\n    }\\n,this)]\\n        [this[\\\"changes\\\"].subscribe((function (val){!(this.valueFromJulia[\\\"changes\\\"]) ? (WebIO.setval({\\\"name\\\":\\\"changes\\\",\\\"scope\\\":\\\"9897228946341972295\\\",\\\"id\\\":\\\"2728492853086494883\\\",\\\"type\\\":\\\"observable\\\"},val)) : undefined; return this.valueFromJulia[\\\"changes\\\"]=false}),self),this[\\\"index\\\"].subscribe((function (val){!(this.valueFromJulia[\\\"index\\\"]) ? (WebIO.setval({\\\"name\\\":\\\"index\\\",\\\"scope\\\":\\\"9897228946341972295\\\",\\\"id\\\":\\\"16529521837369451179\\\",\\\"type\\\":\\\"observable\\\"},val)) : undefined; return this.valueFromJulia[\\\"index\\\"]=false}),self)]\\n        \\n    }\\n    self.model = new AppViewModel();\\n    self.valueFromJulia = {};\\n    for (var key in json_data) {\\n        self.valueFromJulia[key] = false;\\n    }\\n    ko.applyBindings(self.model, self.dom);\\n}\\n);\\n    (WebIO.importBlock({\\\"data\\\":[{\\\"name\\\":\\\"knockout\\\",\\\"type\\\":\\\"js\\\",\\\"url\\\":\\\"/assetserver/727383f2a47bd31570b7da84eee7b022dd6d7c78-knockout.js\\\"},{\\\"name\\\":\\\"knockout_punches\\\",\\\"type\\\":\\\"js\\\",\\\"url\\\":\\\"/assetserver/382b41b3b1bd9f26f75861d360bad7f8beea211f-knockout_punches.js\\\"}],\\\"type\\\":\\\"async_block\\\"})).then((imports) => handler.apply(this, imports));\\n}\\n\")])], Dict{Symbol, Any}(:className => \"field interact-widget\")), WebIO.Node{WebIO.DOM}(WebIO.DOM(:html, :div), Any[], Dict{Symbol, Any}(:style => Dict(\"display\" => \"flex\", \"flex-direction\" => \"column\"))), WebIO.Node{WebIO.DOM}(WebIO.DOM(:html, :div), Any[WebIO.Node{WebIO.DOM}(WebIO.DOM(:html, :div), Any[WebIO.Scope(WebIO.Node{WebIO.DOM}(WebIO.DOM(:html, :div), Any[WebIO.Node{WebIO.DOM}(WebIO.DOM(:html, :div), Any[WebIO.Node{WebIO.DOM}(WebIO.DOM(:html, :label), Any[\"temp\"], Dict{Symbol, Any}(:className => \"interact \", :style => Dict{Any, Any}(:padding => \"5px 10px 0px 10px\")))], Dict{Symbol, Any}(:className => \"interact-flex-row-left\")), WebIO.Node{WebIO.DOM}(WebIO.DOM(:html, :div), Any[WebIO.Node{WebIO.DOM}(WebIO.DOM(:html, :input), Any[], Dict{Symbol, Any}(:max => 100, :min => 1, :attributes => Dict{Any, Any}(:type => \"range\", Symbol(\"data-bind\") => \"numericValue: index, valueUpdate: 'input', event: {change: function (){this.changes(this.changes()+1)}}\", \"orient\" => \"horizontal\"), :step => 1, :className => \"slider slider is-fullwidth\", :style => Dict{Any, Any}()))], Dict{Symbol, Any}(:className => \"interact-flex-row-center\")), WebIO.Node{WebIO.DOM}(WebIO.DOM(:html, :div), Any[WebIO.Node{WebIO.DOM}(WebIO.DOM(:html, :p), Any[], Dict{Symbol, Any}(:attributes => Dict(\"data-bind\" => \"text: formatted_val\")))], Dict{Symbol, Any}(:className => \"interact-flex-row-right\"))], Dict{Symbol, Any}(:className => \"interact-flex-row interact-widget\")), Dict{String, Tuple{Observables.AbstractObservable, Union{Nothing, Bool}}}(\"changes\" => (Observable(0), nothing), \"index\" => (Observable{Any}(50), nothing)), Set{String}(), nothing, WebIO.Asset[WebIO.Asset(\"js\", \"knockout\", \"/home/dushya/.julia/packages/Knockout/HReiN/src/../assets/knockout.js\"), WebIO.Asset(\"js\", \"knockout_punches\", \"/home/dushya/.julia/packages/Knockout/HReiN/src/../assets/knockout_punches.js\"), WebIO.Asset(\"js\", nothing, \"/home/dushya/.julia/packages/InteractBase/LJXv3/src/../assets/all.js\"), WebIO.Asset(\"css\", nothing, \"/home/dushya/.julia/packages/InteractBase/LJXv3/src/../assets/style.css\"), WebIO.Asset(\"css\", nothing, \"/home/dushya/.julia/packages/Interact/PENUy/src/../assets/bulma_confined.min.css\")], Dict{Any, Any}(\"changes\" => Any[WebIO.JSString(\"(function (val){return (val!=this.model[\\\"changes\\\"]()) ? (this.valueFromJulia[\\\"changes\\\"]=true, this.model[\\\"changes\\\"](val)) : undefined})\")], \"index\" => Any[WebIO.JSString(\"(function (val){return (val!=this.model[\\\"index\\\"]()) ? (this.valueFromJulia[\\\"index\\\"]=true, this.model[\\\"index\\\"](val)) : undefined})\")]), WebIO.ConnectionPool(Channel{Any}(32), Set{WebIO.AbstractConnection}(), Base.GenericCondition{ReentrantLock}(Base.IntrusiveLinkedList{Task}(Task (runnable) @0x00007f862fbac650, Task (runnable) @0x00007f862fbac650), ReentrantLock(nothing, 0x00000000, 0x00, Base.GenericCondition{Base.Threads.SpinLock}(Base.IntrusiveLinkedList{Task}(nothing, nothing), Base.Threads.SpinLock(0)), (2, 140214214934208, 140212367635536)))), WebIO.JSString[WebIO.JSString(\"function () {\\n    var handler = (function (ko, koPunches) {\\n    ko.punches.enableAll();\\n    ko.bindingHandlers.numericValue = {\\n        init: function(element, valueAccessor, allBindings, data, context) {\\n            var stringified = ko.observable(ko.unwrap(valueAccessor()));\\n            stringified.subscribe(function(value) {\\n                var val = parseFloat(value);\\n                if (!isNaN(val)) {\\n                    valueAccessor()(val);\\n                }\\n            });\\n            valueAccessor().subscribe(function(value) {\\n                var str = JSON.stringify(value);\\n                if ((str == \\\"0\\\") && ([\\\"-0\\\", \\\"-0.\\\"].indexOf(stringified()) >= 0))\\n                     return;\\n                 if ([\\\"null\\\", \\\"\\\"].indexOf(str) >= 0)\\n                     return;\\n                stringified(str);\\n            });\\n            ko.applyBindingsToNode(\\n                element,\\n                {\\n                    value: stringified,\\n                    valueUpdate: allBindings.get('valueUpdate'),\\n                },\\n                context,\\n            );\\n        }\\n    };\\n    var json_data = {\\\"formatted_vals\\\":[\\\"0.05\\\",\\\"0.1\\\",\\\"0.15\\\",\\\"0.2\\\",\\\"0.25\\\",\\\"0.3\\\",\\\"0.35\\\",\\\"0.4\\\",\\\"0.45\\\",\\\"0.5\\\",\\\"0.55\\\",\\\"0.6\\\",\\\"0.65\\\",\\\"0.7\\\",\\\"0.75\\\",\\\"0.8\\\",\\\"0.85\\\",\\\"0.9\\\",\\\"0.95\\\",\\\"1.0\\\",\\\"1.05\\\",\\\"1.1\\\",\\\"1.15\\\",\\\"1.2\\\",\\\"1.25\\\",\\\"1.3\\\",\\\"1.35\\\",\\\"1.4\\\",\\\"1.45\\\",\\\"1.5\\\",\\\"1.55\\\",\\\"1.6\\\",\\\"1.65\\\",\\\"1.7\\\",\\\"1.75\\\",\\\"1.8\\\",\\\"1.85\\\",\\\"1.9\\\",\\\"1.95\\\",\\\"2.0\\\",\\\"2.05\\\",\\\"2.1\\\",\\\"2.15\\\",\\\"2.2\\\",\\\"2.25\\\",\\\"2.3\\\",\\\"2.35\\\",\\\"2.4\\\",\\\"2.45\\\",\\\"2.5\\\",\\\"2.55\\\",\\\"2.6\\\",\\\"2.65\\\",\\\"2.7\\\",\\\"2.75\\\",\\\"2.8\\\",\\\"2.85\\\",\\\"2.9\\\",\\\"2.95\\\",\\\"3.0\\\",\\\"3.05\\\",\\\"3.1\\\",\\\"3.15\\\",\\\"3.2\\\",\\\"3.25\\\",\\\"3.3\\\",\\\"3.35\\\",\\\"3.4\\\",\\\"3.45\\\",\\\"3.5\\\",\\\"3.55\\\",\\\"3.6\\\",\\\"3.65\\\",\\\"3.7\\\",\\\"3.75\\\",\\\"3.8\\\",\\\"3.85\\\",\\\"3.9\\\",\\\"3.95\\\",\\\"4.0\\\",\\\"4.05\\\",\\\"4.1\\\",\\\"4.15\\\",\\\"4.2\\\",\\\"4.25\\\",\\\"4.3\\\",\\\"4.35\\\",\\\"4.4\\\",\\\"4.45\\\",\\\"4.5\\\",\\\"4.55\\\",\\\"4.6\\\",\\\"4.65\\\",\\\"4.7\\\",\\\"4.75\\\",\\\"4.8\\\",\\\"4.85\\\",\\\"4.9\\\",\\\"4.95\\\",\\\"5.0\\\"],\\\"changes\\\":WebIO.getval({\\\"name\\\":\\\"changes\\\",\\\"scope\\\":\\\"3180376975374605909\\\",\\\"id\\\":\\\"14325297755493801112\\\",\\\"type\\\":\\\"observable\\\"}),\\\"index\\\":WebIO.getval({\\\"name\\\":\\\"index\\\",\\\"scope\\\":\\\"3180376975374605909\\\",\\\"id\\\":\\\"464041726838731977\\\",\\\"type\\\":\\\"observable\\\"})};\\n    var self = this;\\n    function AppViewModel() {\\n        for (var key in json_data) {\\n            var el = json_data[key];\\n            this[key] = Array.isArray(el) ? ko.observableArray(el) : ko.observable(el);\\n        }\\n        \\n        [this[\\\"formatted_val\\\"]=ko.computed(    function(){\\n        return this.formatted_vals()[parseInt(this.index())-(1)];\\n    }\\n,this)]\\n        [this[\\\"changes\\\"].subscribe((function (val){!(this.valueFromJulia[\\\"changes\\\"]) ? (WebIO.setval({\\\"name\\\":\\\"changes\\\",\\\"scope\\\":\\\"3180376975374605909\\\",\\\"id\\\":\\\"14325297755493801112\\\",\\\"type\\\":\\\"observable\\\"},val)) : undefined; return this.valueFromJulia[\\\"changes\\\"]=false}),self),this[\\\"index\\\"].subscribe((function (val){!(this.valueFromJulia[\\\"index\\\"]) ? (WebIO.setval({\\\"name\\\":\\\"index\\\",\\\"scope\\\":\\\"3180376975374605909\\\",\\\"id\\\":\\\"464041726838731977\\\",\\\"type\\\":\\\"observable\\\"},val)) : undefined; return this.valueFromJulia[\\\"index\\\"]=false}),self)]\\n        \\n    }\\n    self.model = new AppViewModel();\\n    self.valueFromJulia = {};\\n    for (var key in json_data) {\\n        self.valueFromJulia[key] = false;\\n    }\\n    ko.applyBindings(self.model, self.dom);\\n}\\n);\\n    (WebIO.importBlock({\\\"data\\\":[{\\\"name\\\":\\\"knockout\\\",\\\"type\\\":\\\"js\\\",\\\"url\\\":\\\"/assetserver/727383f2a47bd31570b7da84eee7b022dd6d7c78-knockout.js\\\"},{\\\"name\\\":\\\"knockout_punches\\\",\\\"type\\\":\\\"js\\\",\\\"url\\\":\\\"/assetserver/382b41b3b1bd9f26f75861d360bad7f8beea211f-knockout_punches.js\\\"}],\\\"type\\\":\\\"async_block\\\"})).then((imports) => handler.apply(this, imports));\\n}\\n\")])], Dict{Symbol, Any}(:className => \"field interact-widget\")), WebIO.Node{WebIO.DOM}(WebIO.DOM(:html, :div), Any[WebIO.Scope(WebIO.Node{WebIO.DOM}(WebIO.DOM(:html, :div), Any[WebIO.Node{WebIO.DOM}(WebIO.DOM(:html, :div), Any[WebIO.Node{WebIO.DOM}(WebIO.DOM(:html, :label), Any[\"coupl\"], Dict{Symbol, Any}(:className => \"interact \", :style => Dict{Any, Any}(:padding => \"5px 10px 0px 10px\")))], Dict{Symbol, Any}(:className => \"interact-flex-row-left\")), WebIO.Node{WebIO.DOM}(WebIO.DOM(:html, :div), Any[WebIO.Node{WebIO.DOM}(WebIO.DOM(:html, :input), Any[], Dict{Symbol, Any}(:max => 50, :min => 1, :attributes => Dict{Any, Any}(:type => \"range\", Symbol(\"data-bind\") => \"numericValue: index, valueUpdate: 'input', event: {change: function (){this.changes(this.changes()+1)}}\", \"orient\" => \"horizontal\"), :step => 1, :className => \"slider slider is-fullwidth\", :style => Dict{Any, Any}()))], Dict{Symbol, Any}(:className => \"interact-flex-row-center\")), WebIO.Node{WebIO.DOM}(WebIO.DOM(:html, :div), Any[WebIO.Node{WebIO.DOM}(WebIO.DOM(:html, :p), Any[], Dict{Symbol, Any}(:attributes => Dict(\"data-bind\" => \"text: formatted_val\")))], Dict{Symbol, Any}(:className => \"interact-flex-row-right\"))], Dict{Symbol, Any}(:className => \"interact-flex-row interact-widget\")), Dict{String, Tuple{Observables.AbstractObservable, Union{Nothing, Bool}}}(\"changes\" => (Observable(0), nothing), \"index\" => (Observable{Any}(25), nothing)), Set{String}(), nothing, WebIO.Asset[WebIO.Asset(\"js\", \"knockout\", \"/home/dushya/.julia/packages/Knockout/HReiN/src/../assets/knockout.js\"), WebIO.Asset(\"js\", \"knockout_punches\", \"/home/dushya/.julia/packages/Knockout/HReiN/src/../assets/knockout_punches.js\"), WebIO.Asset(\"js\", nothing, \"/home/dushya/.julia/packages/InteractBase/LJXv3/src/../assets/all.js\"), WebIO.Asset(\"css\", nothing, \"/home/dushya/.julia/packages/InteractBase/LJXv3/src/../assets/style.css\"), WebIO.Asset(\"css\", nothing, \"/home/dushya/.julia/packages/Interact/PENUy/src/../assets/bulma_confined.min.css\")], Dict{Any, Any}(\"changes\" => Any[WebIO.JSString(\"(function (val){return (val!=this.model[\\\"changes\\\"]()) ? (this.valueFromJulia[\\\"changes\\\"]=true, this.model[\\\"changes\\\"](val)) : undefined})\")], \"index\" => Any[WebIO.JSString(\"(function (val){return (val!=this.model[\\\"index\\\"]()) ? (this.valueFromJulia[\\\"index\\\"]=true, this.model[\\\"index\\\"](val)) : undefined})\")]), WebIO.ConnectionPool(Channel{Any}(32), Set{WebIO.AbstractConnection}(), Base.GenericCondition{ReentrantLock}(Base.IntrusiveLinkedList{Task}(Task (runnable) @0x00007f862fd21c30, Task (runnable) @0x00007f862fd21c30), ReentrantLock(nothing, 0x00000000, 0x00, Base.GenericCondition{Base.Threads.SpinLock}(Base.IntrusiveLinkedList{Task}(nothing, nothing), Base.Threads.SpinLock(0)), (8, 140214360076928, 140213249718832)))), WebIO.JSString[WebIO.JSString(\"function () {\\n    var handler = (function (ko, koPunches) {\\n    ko.punches.enableAll();\\n    ko.bindingHandlers.numericValue = {\\n        init: function(element, valueAccessor, allBindings, data, context) {\\n            var stringified = ko.observable(ko.unwrap(valueAccessor()));\\n            stringified.subscribe(function(value) {\\n                var val = parseFloat(value);\\n                if (!isNaN(val)) {\\n                    valueAccessor()(val);\\n                }\\n            });\\n            valueAccessor().subscribe(function(value) {\\n                var str = JSON.stringify(value);\\n                if ((str == \\\"0\\\") && ([\\\"-0\\\", \\\"-0.\\\"].indexOf(stringified()) >= 0))\\n                     return;\\n                 if ([\\\"null\\\", \\\"\\\"].indexOf(str) >= 0)\\n                     return;\\n                stringified(str);\\n            });\\n            ko.applyBindingsToNode(\\n                element,\\n                {\\n                    value: stringified,\\n                    valueUpdate: allBindings.get('valueUpdate'),\\n                },\\n                context,\\n            );\\n        }\\n    };\\n    var json_data = {\\\"formatted_vals\\\":[\\\"0.01\\\",\\\"0.11\\\",\\\"0.21\\\",\\\"0.31\\\",\\\"0.41\\\",\\\"0.51\\\",\\\"0.61\\\",\\\"0.71\\\",\\\"0.81\\\",\\\"0.91\\\",\\\"1.01\\\",\\\"1.11\\\",\\\"1.21\\\",\\\"1.31\\\",\\\"1.41\\\",\\\"1.51\\\",\\\"1.61\\\",\\\"1.71\\\",\\\"1.81\\\",\\\"1.91\\\",\\\"2.01\\\",\\\"2.11\\\",\\\"2.21\\\",\\\"2.31\\\",\\\"2.41\\\",\\\"2.51\\\",\\\"2.61\\\",\\\"2.71\\\",\\\"2.81\\\",\\\"2.91\\\",\\\"3.01\\\",\\\"3.11\\\",\\\"3.21\\\",\\\"3.31\\\",\\\"3.41\\\",\\\"3.51\\\",\\\"3.61\\\",\\\"3.71\\\",\\\"3.81\\\",\\\"3.91\\\",\\\"4.01\\\",\\\"4.11\\\",\\\"4.21\\\",\\\"4.31\\\",\\\"4.41\\\",\\\"4.51\\\",\\\"4.61\\\",\\\"4.71\\\",\\\"4.81\\\",\\\"4.91\\\"],\\\"changes\\\":WebIO.getval({\\\"name\\\":\\\"changes\\\",\\\"scope\\\":\\\"6872677155061805055\\\",\\\"id\\\":\\\"6061240820364470359\\\",\\\"type\\\":\\\"observable\\\"}),\\\"index\\\":WebIO.getval({\\\"name\\\":\\\"index\\\",\\\"scope\\\":\\\"6872677155061805055\\\",\\\"id\\\":\\\"813481191759172300\\\",\\\"type\\\":\\\"observable\\\"})};\\n    var self = this;\\n    function AppViewModel() {\\n        for (var key in json_data) {\\n            var el = json_data[key];\\n            this[key] = Array.isArray(el) ? ko.observableArray(el) : ko.observable(el);\\n        }\\n        \\n        [this[\\\"formatted_val\\\"]=ko.computed(    function(){\\n        return this.formatted_vals()[parseInt(this.index())-(1)];\\n    }\\n,this)]\\n        [this[\\\"changes\\\"].subscribe((function (val){!(this.valueFromJulia[\\\"changes\\\"]) ? (WebIO.setval({\\\"name\\\":\\\"changes\\\",\\\"scope\\\":\\\"6872677155061805055\\\",\\\"id\\\":\\\"6061240820364470359\\\",\\\"type\\\":\\\"observable\\\"},val)) : undefined; return this.valueFromJulia[\\\"changes\\\"]=false}),self),this[\\\"index\\\"].subscribe((function (val){!(this.valueFromJulia[\\\"index\\\"]) ? (WebIO.setval({\\\"name\\\":\\\"index\\\",\\\"scope\\\":\\\"6872677155061805055\\\",\\\"id\\\":\\\"813481191759172300\\\",\\\"type\\\":\\\"observable\\\"},val)) : undefined; return this.valueFromJulia[\\\"index\\\"]=false}),self)]\\n        \\n    }\\n    self.model = new AppViewModel();\\n    self.valueFromJulia = {};\\n    for (var key in json_data) {\\n        self.valueFromJulia[key] = false;\\n    }\\n    ko.applyBindings(self.model, self.dom);\\n}\\n);\\n    (WebIO.importBlock({\\\"data\\\":[{\\\"name\\\":\\\"knockout\\\",\\\"type\\\":\\\"js\\\",\\\"url\\\":\\\"/assetserver/727383f2a47bd31570b7da84eee7b022dd6d7c78-knockout.js\\\"},{\\\"name\\\":\\\"knockout_punches\\\",\\\"type\\\":\\\"js\\\",\\\"url\\\":\\\"/assetserver/382b41b3b1bd9f26f75861d360bad7f8beea211f-knockout_punches.js\\\"}],\\\"type\\\":\\\"async_block\\\"})).then((imports) => handler.apply(this, imports));\\n}\\n\")])], Dict{Symbol, Any}(:className => \"field interact-widget\")), WebIO.Node{WebIO.DOM}(WebIO.DOM(:html, :div), Any[WebIO.Scope(WebIO.Node{WebIO.DOM}(WebIO.DOM(:html, :div), Any[WebIO.Node{WebIO.DOM}(WebIO.DOM(:html, :div), Any[WebIO.Node{WebIO.DOM}(WebIO.DOM(:html, :label), Any[\"nns\"], Dict{Symbol, Any}(:className => \"interact \", :style => Dict{Any, Any}(:padding => \"5px 10px 0px 10px\")))], Dict{Symbol, Any}(:className => \"interact-flex-row-left\")), WebIO.Node{WebIO.DOM}(WebIO.DOM(:html, :div), Any[WebIO.Node{WebIO.DOM}(WebIO.DOM(:html, :input), Any[], Dict{Symbol, Any}(:max => 10, :min => 2, :attributes => Dict{Any, Any}(:type => \"range\", Symbol(\"data-bind\") => \"numericValue: index, valueUpdate: 'input', event: {change: function (){this.changes(this.changes()+1)}}\", \"orient\" => \"horizontal\"), :step => 1, :className => \"slider slider is-fullwidth\", :style => Dict{Any, Any}()))], Dict{Symbol, Any}(:className => \"interact-flex-row-center\")), WebIO.Node{WebIO.DOM}(WebIO.DOM(:html, :div), Any[WebIO.Node{WebIO.DOM}(WebIO.DOM(:html, :p), Any[], Dict{Symbol, Any}(:attributes => Dict(\"data-bind\" => \"text: formatted_val\")))], Dict{Symbol, Any}(:className => \"interact-flex-row-right\"))], Dict{Symbol, Any}(:className => \"interact-flex-row interact-widget\")), Dict{String, Tuple{Observables.AbstractObservable, Union{Nothing, Bool}}}(\"changes\" => (Observable(0), nothing), \"index\" => (Observable(6), nothing)), Set{String}(), nothing, WebIO.Asset[WebIO.Asset(\"js\", \"knockout\", \"/home/dushya/.julia/packages/Knockout/HReiN/src/../assets/knockout.js\"), WebIO.Asset(\"js\", \"knockout_punches\", \"/home/dushya/.julia/packages/Knockout/HReiN/src/../assets/knockout_punches.js\"), WebIO.Asset(\"js\", nothing, \"/home/dushya/.julia/packages/InteractBase/LJXv3/src/../assets/all.js\"), WebIO.Asset(\"css\", nothing, \"/home/dushya/.julia/packages/InteractBase/LJXv3/src/../assets/style.css\"), WebIO.Asset(\"css\", nothing, \"/home/dushya/.julia/packages/Interact/PENUy/src/../assets/bulma_confined.min.css\")], Dict{Any, Any}(\"changes\" => Any[WebIO.JSString(\"(function (val){return (val!=this.model[\\\"changes\\\"]()) ? (this.valueFromJulia[\\\"changes\\\"]=true, this.model[\\\"changes\\\"](val)) : undefined})\")], \"index\" => Any[WebIO.JSString(\"(function (val){return (val!=this.model[\\\"index\\\"]()) ? (this.valueFromJulia[\\\"index\\\"]=true, this.model[\\\"index\\\"](val)) : undefined})\")]), WebIO.ConnectionPool(Channel{Any}(32), Set{WebIO.AbstractConnection}(), Base.GenericCondition{ReentrantLock}(Base.IntrusiveLinkedList{Task}(Task (runnable) @0x00007f862fdacfb0, Task (runnable) @0x00007f862fdacfb0), ReentrantLock(nothing, 0x00000000, 0x00, Base.GenericCondition{Base.Threads.SpinLock}(Base.IntrusiveLinkedList{Task}(nothing, nothing), Base.Threads.SpinLock(0)), (8, 140213250139664, 0)))), WebIO.JSString[WebIO.JSString(\"function () {\\n    var handler = (function (ko, koPunches) {\\n    ko.punches.enableAll();\\n    ko.bindingHandlers.numericValue = {\\n        init: function(element, valueAccessor, allBindings, data, context) {\\n            var stringified = ko.observable(ko.unwrap(valueAccessor()));\\n            stringified.subscribe(function(value) {\\n                var val = parseFloat(value);\\n                if (!isNaN(val)) {\\n                    valueAccessor()(val);\\n                }\\n            });\\n            valueAccessor().subscribe(function(value) {\\n                var str = JSON.stringify(value);\\n                if ((str == \\\"0\\\") && ([\\\"-0\\\", \\\"-0.\\\"].indexOf(stringified()) >= 0))\\n                     return;\\n                 if ([\\\"null\\\", \\\"\\\"].indexOf(str) >= 0)\\n                     return;\\n                stringified(str);\\n            });\\n            ko.applyBindingsToNode(\\n                element,\\n                {\\n                    value: stringified,\\n                    valueUpdate: allBindings.get('valueUpdate'),\\n                },\\n                context,\\n            );\\n        }\\n    };\\n    var json_data = {\\\"formatted_vals\\\":[\\\"2\\\",\\\"3\\\",\\\"4\\\",\\\"5\\\",\\\"6\\\",\\\"7\\\",\\\"8\\\",\\\"9\\\",\\\"10\\\"],\\\"changes\\\":WebIO.getval({\\\"name\\\":\\\"changes\\\",\\\"scope\\\":\\\"13364835313379736087\\\",\\\"id\\\":\\\"10767878161191930165\\\",\\\"type\\\":\\\"observable\\\"}),\\\"index\\\":WebIO.getval({\\\"name\\\":\\\"index\\\",\\\"scope\\\":\\\"13364835313379736087\\\",\\\"id\\\":\\\"7071435300860286001\\\",\\\"type\\\":\\\"observable\\\"})};\\n    var self = this;\\n    function AppViewModel() {\\n        for (var key in json_data) {\\n            var el = json_data[key];\\n            this[key] = Array.isArray(el) ? ko.observableArray(el) : ko.observable(el);\\n        }\\n        \\n        [this[\\\"formatted_val\\\"]=ko.computed(    function(){\\n        return this.formatted_vals()[parseInt(this.index())-(2)];\\n    }\\n,this)]\\n        [this[\\\"changes\\\"].subscribe((function (val){!(this.valueFromJulia[\\\"changes\\\"]) ? (WebIO.setval({\\\"name\\\":\\\"changes\\\",\\\"scope\\\":\\\"13364835313379736087\\\",\\\"id\\\":\\\"10767878161191930165\\\",\\\"type\\\":\\\"observable\\\"},val)) : undefined; return this.valueFromJulia[\\\"changes\\\"]=false}),self),this[\\\"index\\\"].subscribe((function (val){!(this.valueFromJulia[\\\"index\\\"]) ? (WebIO.setval({\\\"name\\\":\\\"index\\\",\\\"scope\\\":\\\"13364835313379736087\\\",\\\"id\\\":\\\"7071435300860286001\\\",\\\"type\\\":\\\"observable\\\"},val)) : undefined; return this.valueFromJulia[\\\"index\\\"]=false}),self)]\\n        \\n    }\\n    self.model = new AppViewModel();\\n    self.valueFromJulia = {};\\n    for (var key in json_data) {\\n        self.valueFromJulia[key] = false;\\n    }\\n    ko.applyBindings(self.model, self.dom);\\n}\\n);\\n    (WebIO.importBlock({\\\"data\\\":[{\\\"name\\\":\\\"knockout\\\",\\\"type\\\":\\\"js\\\",\\\"url\\\":\\\"/assetserver/727383f2a47bd31570b7da84eee7b022dd6d7c78-knockout.js\\\"},{\\\"name\\\":\\\"knockout_punches\\\",\\\"type\\\":\\\"js\\\",\\\"url\\\":\\\"/assetserver/382b41b3b1bd9f26f75861d360bad7f8beea211f-knockout_punches.js\\\"}],\\\"type\\\":\\\"async_block\\\"})).then((imports) => handler.apply(this, imports));\\n}\\n\")])], Dict{Symbol, Any}(:className => \"field interact-widget\"))], Dict{Symbol, Any}(:style => Dict(\"display\" => \"flex\", \"flex-direction\" => \"column\"))), WebIO.Node{WebIO.DOM}(WebIO.DOM(:html, :div), Any[WebIO.Node{WebIO.DOM}(WebIO.DOM(:html, :div), Any[WebIO.Scope(WebIO.Node{WebIO.DOM}(WebIO.DOM(:html, :div), Any[], Dict{Symbol, Any}(:id => \"container\")), Dict{String, Tuple{Observables.AbstractObservable, Union{Nothing, Bool}}}(\"value\" => (Observable(\"\\\\;\\\\;\"), nothing)), Set{String}(), nothing, WebIO.Asset[WebIO.Asset(\"js\", nothing, \"/home/dushya/.julia/packages/InteractBase/LJXv3/src/../assets/katex.min.js\"), WebIO.Asset(\"css\", nothing, \"/home/dushya/.julia/packages/InteractBase/LJXv3/src/../assets/katex.min.css\")], Dict{Any, Any}(\"value\" => Any[WebIO.JSString(\"(function (txt){return this.k.render(txt,this.container)})\")]), WebIO.ConnectionPool(Channel{Any}(32), Set{WebIO.AbstractConnection}(), Base.GenericCondition{ReentrantLock}(Base.IntrusiveLinkedList{Task}(Task (runnable) @0x00007f85b194a8b0, Task (runnable) @0x00007f85b194a8b0), ReentrantLock(nothing, 0x00000000, 0x00, Base.GenericCondition{Base.Threads.SpinLock}(Base.IntrusiveLinkedList{Task}(nothing, nothing), Base.Threads.SpinLock(0)), (1, 140214360094768, 0)))), WebIO.JSString[WebIO.JSString(\"function () {\\n    var handler = ((function (k){this.k=k; this.container=this.dom.querySelector(\\\"#container\\\"); return k.render(\\\"\\\\\\\\;\\\\\\\\;\\\",this.container)}));\\n    (WebIO.importBlock({\\\"data\\\":[{\\\"name\\\":null,\\\"type\\\":\\\"js\\\",\\\"url\\\":\\\"/assetserver/dd22ed1bf1896c2748f3fe616ce0b838adc895c1-katex.min.js\\\"},{\\\"name\\\":null,\\\"type\\\":\\\"css\\\",\\\"url\\\":\\\"/assetserver/46517a424aa5e6cffc1360d7e0848b601c584ee3-katex.min.css\\\"}],\\\"type\\\":\\\"async_block\\\"})).then((imports) => handler.apply(this, imports));\\n}\\n\")])], Dict{Symbol, Any}(:className => \"interact-widget\")), WebIO.Node{WebIO.DOM}(WebIO.DOM(:html, :div), Any[WebIO.Scope(WebIO.Node{WebIO.DOM}(WebIO.DOM(:html, :button), Any[\"run\"], Dict{Symbol, Any}(:attributes => Dict{Any, Any}(\"data-bind\" => \"click: function (){this.clicks(this.clicks()+1)}, css: {'is-loading' : loading}\"), :className => \"is-medium button is-primary\", :style => Dict{String, Any}())), Dict{String, Tuple{Observables.AbstractObservable, Union{Nothing, Bool}}}(\"loading\" => (Observable(false), nothing), \"clicks\" => (Observable(0), nothing)), Set{String}(), nothing, WebIO.Asset[WebIO.Asset(\"js\", \"knockout\", \"/home/dushya/.julia/packages/Knockout/HReiN/src/../assets/knockout.js\"), WebIO.Asset(\"js\", \"knockout_punches\", \"/home/dushya/.julia/packages/Knockout/HReiN/src/../assets/knockout_punches.js\"), WebIO.Asset(\"js\", nothing, \"/home/dushya/.julia/packages/InteractBase/LJXv3/src/../assets/all.js\"), WebIO.Asset(\"css\", nothing, \"/home/dushya/.julia/packages/InteractBase/LJXv3/src/../assets/style.css\"), WebIO.Asset(\"css\", nothing, \"/home/dushya/.julia/packages/Interact/PENUy/src/../assets/bulma_confined.min.css\")], Dict{Any, Any}(\"loading\" => Any[WebIO.JSString(\"(function (val){return (val!=this.model[\\\"loading\\\"]()) ? (this.valueFromJulia[\\\"loading\\\"]=true, this.model[\\\"loading\\\"](val)) : undefined})\")], \"clicks\" => Any[WebIO.JSString(\"(function (val){return (val!=this.model[\\\"clicks\\\"]()) ? (this.valueFromJulia[\\\"clicks\\\"]=true, this.model[\\\"clicks\\\"](val)) : undefined})\")]), WebIO.ConnectionPool(Channel{Any}(32), Set{WebIO.AbstractConnection}(), Base.GenericCondition{ReentrantLock}(Base.IntrusiveLinkedList{Task}(Task (runnable) @0x00007f862fdaf9e0, Task (runnable) @0x00007f862fdaf9e0), ReentrantLock(nothing, 0x00000000, 0x00, Base.GenericCondition{Base.Threads.SpinLock}(Base.IntrusiveLinkedList{Task}(nothing, nothing), Base.Threads.SpinLock(0)), (2, 140214360109088, 140214360079920)))), WebIO.JSString[WebIO.JSString(\"function () {\\n    var handler = (function (ko, koPunches) {\\n    ko.punches.enableAll();\\n    ko.bindingHandlers.numericValue = {\\n        init: function(element, valueAccessor, allBindings, data, context) {\\n            var stringified = ko.observable(ko.unwrap(valueAccessor()));\\n            stringified.subscribe(function(value) {\\n                var val = parseFloat(value);\\n                if (!isNaN(val)) {\\n                    valueAccessor()(val);\\n                }\\n            });\\n            valueAccessor().subscribe(function(value) {\\n                var str = JSON.stringify(value);\\n                if ((str == \\\"0\\\") && ([\\\"-0\\\", \\\"-0.\\\"].indexOf(stringified()) >= 0))\\n                     return;\\n                 if ([\\\"null\\\", \\\"\\\"].indexOf(str) >= 0)\\n                     return;\\n                stringified(str);\\n            });\\n            ko.applyBindingsToNode(\\n                element,\\n                {\\n                    value: stringified,\\n                    valueUpdate: allBindings.get('valueUpdate'),\\n                },\\n                context,\\n            );\\n        }\\n    };\\n    var json_data = {\\\"loading\\\":WebIO.getval({\\\"name\\\":\\\"loading\\\",\\\"scope\\\":\\\"8562404827970474334\\\",\\\"id\\\":\\\"17530502079846009979\\\",\\\"type\\\":\\\"observable\\\"}),\\\"clicks\\\":WebIO.getval({\\\"name\\\":\\\"clicks\\\",\\\"scope\\\":\\\"8562404827970474334\\\",\\\"id\\\":\\\"15133735711216908603\\\",\\\"type\\\":\\\"observable\\\"})};\\n    var self = this;\\n    function AppViewModel() {\\n        for (var key in json_data) {\\n            var el = json_data[key];\\n            this[key] = Array.isArray(el) ? ko.observableArray(el) : ko.observable(el);\\n        }\\n        \\n        \\n        [this[\\\"loading\\\"].subscribe((function (val){!(this.valueFromJulia[\\\"loading\\\"]) ? (WebIO.setval({\\\"name\\\":\\\"loading\\\",\\\"scope\\\":\\\"8562404827970474334\\\",\\\"id\\\":\\\"17530502079846009979\\\",\\\"type\\\":\\\"observable\\\"},val)) : undefined; return this.valueFromJulia[\\\"loading\\\"]=false}),self),this[\\\"clicks\\\"].subscribe((function (val){!(this.valueFromJulia[\\\"clicks\\\"]) ? (WebIO.setval({\\\"name\\\":\\\"clicks\\\",\\\"scope\\\":\\\"8562404827970474334\\\",\\\"id\\\":\\\"15133735711216908603\\\",\\\"type\\\":\\\"observable\\\"},val)) : undefined; return this.valueFromJulia[\\\"clicks\\\"]=false}),self)]\\n        \\n    }\\n    self.model = new AppViewModel();\\n    self.valueFromJulia = {};\\n    for (var key in json_data) {\\n        self.valueFromJulia[key] = false;\\n    }\\n    ko.applyBindings(self.model, self.dom);\\n}\\n);\\n    (WebIO.importBlock({\\\"data\\\":[{\\\"name\\\":\\\"knockout\\\",\\\"type\\\":\\\"js\\\",\\\"url\\\":\\\"/assetserver/727383f2a47bd31570b7da84eee7b022dd6d7c78-knockout.js\\\"},{\\\"name\\\":\\\"knockout_punches\\\",\\\"type\\\":\\\"js\\\",\\\"url\\\":\\\"/assetserver/382b41b3b1bd9f26f75861d360bad7f8beea211f-knockout_punches.js\\\"}],\\\"type\\\":\\\"async_block\\\"})).then((imports) => handler.apply(this, imports));\\n}\\n\")])], Dict{Symbol, Any}(:className => \"field interact-widget\")), WebIO.Node{WebIO.DOM}(WebIO.DOM(:html, :div), Any[WebIO.Scope(WebIO.Node{WebIO.DOM}(WebIO.DOM(:html, :div), Any[], Dict{Symbol, Any}(:id => \"container\")), Dict{String, Tuple{Observables.AbstractObservable, Union{Nothing, Bool}}}(\"value\" => (Observable(\"\\\\;\\\\;\"), nothing)), Set{String}(), nothing, WebIO.Asset[WebIO.Asset(\"js\", nothing, \"/home/dushya/.julia/packages/InteractBase/LJXv3/src/../assets/katex.min.js\"), WebIO.Asset(\"css\", nothing, \"/home/dushya/.julia/packages/InteractBase/LJXv3/src/../assets/katex.min.css\")], Dict{Any, Any}(\"value\" => Any[WebIO.JSString(\"(function (txt){return this.k.render(txt,this.container)})\")]), WebIO.ConnectionPool(Channel{Any}(32), Set{WebIO.AbstractConnection}(), Base.GenericCondition{ReentrantLock}(Base.IntrusiveLinkedList{Task}(Task (runnable) @0x00007f85b194a8b0, Task (runnable) @0x00007f85b194a8b0), ReentrantLock(nothing, 0x00000000, 0x00, Base.GenericCondition{Base.Threads.SpinLock}(Base.IntrusiveLinkedList{Task}(nothing, nothing), Base.Threads.SpinLock(0)), (1, 140214360094768, 0)))), WebIO.JSString[WebIO.JSString(\"function () {\\n    var handler = ((function (k){this.k=k; this.container=this.dom.querySelector(\\\"#container\\\"); return k.render(\\\"\\\\\\\\;\\\\\\\\;\\\",this.container)}));\\n    (WebIO.importBlock({\\\"data\\\":[{\\\"name\\\":null,\\\"type\\\":\\\"js\\\",\\\"url\\\":\\\"/assetserver/dd22ed1bf1896c2748f3fe616ce0b838adc895c1-katex.min.js\\\"},{\\\"name\\\":null,\\\"type\\\":\\\"css\\\",\\\"url\\\":\\\"/assetserver/46517a424aa5e6cffc1360d7e0848b601c584ee3-katex.min.css\\\"}],\\\"type\\\":\\\"async_block\\\"})).then((imports) => handler.apply(this, imports));\\n}\\n\")])], Dict{Symbol, Any}(:className => \"interact-widget\")), WebIO.Node{WebIO.DOM}(WebIO.DOM(:html, :div), Any[WebIO.Scope(WebIO.Node{WebIO.DOM}(WebIO.DOM(:html, :button), Any[\"stop\"], Dict{Symbol, Any}(:attributes => Dict{Any, Any}(\"data-bind\" => \"click: function (){this.clicks(this.clicks()+1)}, css: {'is-loading' : loading}\"), :className => \"is-medium button is-primary\", :style => Dict{String, Any}())), Dict{String, Tuple{Observables.AbstractObservable, Union{Nothing, Bool}}}(\"loading\" => (Observable(false), nothing), \"clicks\" => (Observable(0), nothing)), Set{String}(), nothing, WebIO.Asset[WebIO.Asset(\"js\", \"knockout\", \"/home/dushya/.julia/packages/Knockout/HReiN/src/../assets/knockout.js\"), WebIO.Asset(\"js\", \"knockout_punches\", \"/home/dushya/.julia/packages/Knockout/HReiN/src/../assets/knockout_punches.js\"), WebIO.Asset(\"js\", nothing, \"/home/dushya/.julia/packages/InteractBase/LJXv3/src/../assets/all.js\"), WebIO.Asset(\"css\", nothing, \"/home/dushya/.julia/packages/InteractBase/LJXv3/src/../assets/style.css\"), WebIO.Asset(\"css\", nothing, \"/home/dushya/.julia/packages/Interact/PENUy/src/../assets/bulma_confined.min.css\")], Dict{Any, Any}(\"loading\" => Any[WebIO.JSString(\"(function (val){return (val!=this.model[\\\"loading\\\"]()) ? (this.valueFromJulia[\\\"loading\\\"]=true, this.model[\\\"loading\\\"](val)) : undefined})\")], \"clicks\" => Any[WebIO.JSString(\"(function (val){return (val!=this.model[\\\"clicks\\\"]()) ? (this.valueFromJulia[\\\"clicks\\\"]=true, this.model[\\\"clicks\\\"](val)) : undefined})\")]), WebIO.ConnectionPool(Channel{Any}(32), Set{WebIO.AbstractConnection}(), Base.GenericCondition{ReentrantLock}(Base.IntrusiveLinkedList{Task}(Task (runnable) @0x00007f862ff00e20, Task (runnable) @0x00007f862ff00e20), ReentrantLock(nothing, 0x00000000, 0x00, Base.GenericCondition{Base.Threads.SpinLock}(Base.IntrusiveLinkedList{Task}(nothing, nothing), Base.Threads.SpinLock(0)), (8, 0, 139775415681024)))), WebIO.JSString[WebIO.JSString(\"function () {\\n    var handler = (function (ko, koPunches) {\\n    ko.punches.enableAll();\\n    ko.bindingHandlers.numericValue = {\\n        init: function(element, valueAccessor, allBindings, data, context) {\\n            var stringified = ko.observable(ko.unwrap(valueAccessor()));\\n            stringified.subscribe(function(value) {\\n                var val = parseFloat(value);\\n                if (!isNaN(val)) {\\n                    valueAccessor()(val);\\n                }\\n            });\\n            valueAccessor().subscribe(function(value) {\\n                var str = JSON.stringify(value);\\n                if ((str == \\\"0\\\") && ([\\\"-0\\\", \\\"-0.\\\"].indexOf(stringified()) >= 0))\\n                     return;\\n                 if ([\\\"null\\\", \\\"\\\"].indexOf(str) >= 0)\\n                     return;\\n                stringified(str);\\n            });\\n            ko.applyBindingsToNode(\\n                element,\\n                {\\n                    value: stringified,\\n                    valueUpdate: allBindings.get('valueUpdate'),\\n                },\\n                context,\\n            );\\n        }\\n    };\\n    var json_data = {\\\"loading\\\":WebIO.getval({\\\"name\\\":\\\"loading\\\",\\\"scope\\\":\\\"8483664382894895853\\\",\\\"id\\\":\\\"10453519465320085994\\\",\\\"type\\\":\\\"observable\\\"}),\\\"clicks\\\":WebIO.getval({\\\"name\\\":\\\"clicks\\\",\\\"scope\\\":\\\"8483664382894895853\\\",\\\"id\\\":\\\"12194346341855073246\\\",\\\"type\\\":\\\"observable\\\"})};\\n    var self = this;\\n    function AppViewModel() {\\n        for (var key in json_data) {\\n            var el = json_data[key];\\n            this[key] = Array.isArray(el) ? ko.observableArray(el) : ko.observable(el);\\n        }\\n        \\n        \\n        [this[\\\"loading\\\"].subscribe((function (val){!(this.valueFromJulia[\\\"loading\\\"]) ? (WebIO.setval({\\\"name\\\":\\\"loading\\\",\\\"scope\\\":\\\"8483664382894895853\\\",\\\"id\\\":\\\"10453519465320085994\\\",\\\"type\\\":\\\"observable\\\"},val)) : undefined; return this.valueFromJulia[\\\"loading\\\"]=false}),self),this[\\\"clicks\\\"].subscribe((function (val){!(this.valueFromJulia[\\\"clicks\\\"]) ? (WebIO.setval({\\\"name\\\":\\\"clicks\\\",\\\"scope\\\":\\\"8483664382894895853\\\",\\\"id\\\":\\\"12194346341855073246\\\",\\\"type\\\":\\\"observable\\\"},val)) : undefined; return this.valueFromJulia[\\\"clicks\\\"]=false}),self)]\\n        \\n    }\\n    self.model = new AppViewModel();\\n    self.valueFromJulia = {};\\n    for (var key in json_data) {\\n        self.valueFromJulia[key] = false;\\n    }\\n    ko.applyBindings(self.model, self.dom);\\n}\\n);\\n    (WebIO.importBlock({\\\"data\\\":[{\\\"name\\\":\\\"knockout\\\",\\\"type\\\":\\\"js\\\",\\\"url\\\":\\\"/assetserver/727383f2a47bd31570b7da84eee7b022dd6d7c78-knockout.js\\\"},{\\\"name\\\":\\\"knockout_punches\\\",\\\"type\\\":\\\"js\\\",\\\"url\\\":\\\"/assetserver/382b41b3b1bd9f26f75861d360bad7f8beea211f-knockout_punches.js\\\"}],\\\"type\\\":\\\"async_block\\\"})).then((imports) => handler.apply(this, imports));\\n}\\n\")])], Dict{Symbol, Any}(:className => \"field interact-widget\")), WebIO.Node{WebIO.DOM}(WebIO.DOM(:html, :div), Any[WebIO.Scope(WebIO.Node{WebIO.DOM}(WebIO.DOM(:html, :div), Any[], Dict{Symbol, Any}(:id => \"container\")), Dict{String, Tuple{Observables.AbstractObservable, Union{Nothing, Bool}}}(\"value\" => (Observable(\"\\\\;\\\\;\"), nothing)), Set{String}(), nothing, WebIO.Asset[WebIO.Asset(\"js\", nothing, \"/home/dushya/.julia/packages/InteractBase/LJXv3/src/../assets/katex.min.js\"), WebIO.Asset(\"css\", nothing, \"/home/dushya/.julia/packages/InteractBase/LJXv3/src/../assets/katex.min.css\")], Dict{Any, Any}(\"value\" => Any[WebIO.JSString(\"(function (txt){return this.k.render(txt,this.container)})\")]), WebIO.ConnectionPool(Channel{Any}(32), Set{WebIO.AbstractConnection}(), Base.GenericCondition{ReentrantLock}(Base.IntrusiveLinkedList{Task}(Task (runnable) @0x00007f85b194a8b0, Task (runnable) @0x00007f85b194a8b0), ReentrantLock(nothing, 0x00000000, 0x00, Base.GenericCondition{Base.Threads.SpinLock}(Base.IntrusiveLinkedList{Task}(nothing, nothing), Base.Threads.SpinLock(0)), (1, 140214360094768, 0)))), WebIO.JSString[WebIO.JSString(\"function () {\\n    var handler = ((function (k){this.k=k; this.container=this.dom.querySelector(\\\"#container\\\"); return k.render(\\\"\\\\\\\\;\\\\\\\\;\\\",this.container)}));\\n    (WebIO.importBlock({\\\"data\\\":[{\\\"name\\\":null,\\\"type\\\":\\\"js\\\",\\\"url\\\":\\\"/assetserver/dd22ed1bf1896c2748f3fe616ce0b838adc895c1-katex.min.js\\\"},{\\\"name\\\":null,\\\"type\\\":\\\"css\\\",\\\"url\\\":\\\"/assetserver/46517a424aa5e6cffc1360d7e0848b601c584ee3-katex.min.css\\\"}],\\\"type\\\":\\\"async_block\\\"})).then((imports) => handler.apply(this, imports));\\n}\\n\")])], Dict{Symbol, Any}(:className => \"interact-widget\")), WebIO.Node{WebIO.DOM}(WebIO.DOM(:html, :div), Any[WebIO.Scope(WebIO.Node{WebIO.DOM}(WebIO.DOM(:html, :button), Any[\"reset\"], Dict{Symbol, Any}(:attributes => Dict{Any, Any}(\"data-bind\" => \"click: function (){this.clicks(this.clicks()+1)}, css: {'is-loading' : loading}\"), :className => \"is-medium button is-primary\", :style => Dict{String, Any}())), Dict{String, Tuple{Observables.AbstractObservable, Union{Nothing, Bool}}}(\"loading\" => (Observable(false), nothing), \"clicks\" => (Observable(0), nothing)), Set{String}(), nothing, WebIO.Asset[WebIO.Asset(\"js\", \"knockout\", \"/home/dushya/.julia/packages/Knockout/HReiN/src/../assets/knockout.js\"), WebIO.Asset(\"js\", \"knockout_punches\", \"/home/dushya/.julia/packages/Knockout/HReiN/src/../assets/knockout_punches.js\"), WebIO.Asset(\"js\", nothing, \"/home/dushya/.julia/packages/InteractBase/LJXv3/src/../assets/all.js\"), WebIO.Asset(\"css\", nothing, \"/home/dushya/.julia/packages/InteractBase/LJXv3/src/../assets/style.css\"), WebIO.Asset(\"css\", nothing, \"/home/dushya/.julia/packages/Interact/PENUy/src/../assets/bulma_confined.min.css\")], Dict{Any, Any}(\"loading\" => Any[WebIO.JSString(\"(function (val){return (val!=this.model[\\\"loading\\\"]()) ? (this.valueFromJulia[\\\"loading\\\"]=true, this.model[\\\"loading\\\"](val)) : undefined})\")], \"clicks\" => Any[WebIO.JSString(\"(function (val){return (val!=this.model[\\\"clicks\\\"]()) ? (this.valueFromJulia[\\\"clicks\\\"]=true, this.model[\\\"clicks\\\"](val)) : undefined})\")]), WebIO.ConnectionPool(Channel{Any}(32), Set{WebIO.AbstractConnection}(), Base.GenericCondition{ReentrantLock}(Base.IntrusiveLinkedList{Task}(Task (runnable) @0x00007f863006a720, Task (runnable) @0x00007f863006a720), ReentrantLock(nothing, 0x00000000, 0x00, Base.GenericCondition{Base.Threads.SpinLock}(Base.IntrusiveLinkedList{Task}(nothing, nothing), Base.Threads.SpinLock(0)), (2, 140214360103344, 140212368229824)))), WebIO.JSString[WebIO.JSString(\"function () {\\n    var handler = (function (ko, koPunches) {\\n    ko.punches.enableAll();\\n    ko.bindingHandlers.numericValue = {\\n        init: function(element, valueAccessor, allBindings, data, context) {\\n            var stringified = ko.observable(ko.unwrap(valueAccessor()));\\n            stringified.subscribe(function(value) {\\n                var val = parseFloat(value);\\n                if (!isNaN(val)) {\\n                    valueAccessor()(val);\\n                }\\n            });\\n            valueAccessor().subscribe(function(value) {\\n                var str = JSON.stringify(value);\\n                if ((str == \\\"0\\\") && ([\\\"-0\\\", \\\"-0.\\\"].indexOf(stringified()) >= 0))\\n                     return;\\n                 if ([\\\"null\\\", \\\"\\\"].indexOf(str) >= 0)\\n                     return;\\n                stringified(str);\\n            });\\n            ko.applyBindingsToNode(\\n                element,\\n                {\\n                    value: stringified,\\n                    valueUpdate: allBindings.get('valueUpdate'),\\n                },\\n                context,\\n            );\\n        }\\n    };\\n    var json_data = {\\\"loading\\\":WebIO.getval({\\\"name\\\":\\\"loading\\\",\\\"scope\\\":\\\"9299783535453842784\\\",\\\"id\\\":\\\"4013943859339580237\\\",\\\"type\\\":\\\"observable\\\"}),\\\"clicks\\\":WebIO.getval({\\\"name\\\":\\\"clicks\\\",\\\"scope\\\":\\\"9299783535453842784\\\",\\\"id\\\":\\\"2937837388901186673\\\",\\\"type\\\":\\\"observable\\\"})};\\n    var self = this;\\n    function AppViewModel() {\\n        for (var key in json_data) {\\n            var el = json_data[key];\\n            this[key] = Array.isArray(el) ? ko.observableArray(el) : ko.observable(el);\\n        }\\n        \\n        \\n        [this[\\\"loading\\\"].subscribe((function (val){!(this.valueFromJulia[\\\"loading\\\"]) ? (WebIO.setval({\\\"name\\\":\\\"loading\\\",\\\"scope\\\":\\\"9299783535453842784\\\",\\\"id\\\":\\\"4013943859339580237\\\",\\\"type\\\":\\\"observable\\\"},val)) : undefined; return this.valueFromJulia[\\\"loading\\\"]=false}),self),this[\\\"clicks\\\"].subscribe((function (val){!(this.valueFromJulia[\\\"clicks\\\"]) ? (WebIO.setval({\\\"name\\\":\\\"clicks\\\",\\\"scope\\\":\\\"9299783535453842784\\\",\\\"id\\\":\\\"2937837388901186673\\\",\\\"type\\\":\\\"observable\\\"},val)) : undefined; return this.valueFromJulia[\\\"clicks\\\"]=false}),self)]\\n        \\n    }\\n    self.model = new AppViewModel();\\n    self.valueFromJulia = {};\\n    for (var key in json_data) {\\n        self.valueFromJulia[key] = false;\\n    }\\n    ko.applyBindings(self.model, self.dom);\\n}\\n);\\n    (WebIO.importBlock({\\\"data\\\":[{\\\"name\\\":\\\"knockout\\\",\\\"type\\\":\\\"js\\\",\\\"url\\\":\\\"/assetserver/727383f2a47bd31570b7da84eee7b022dd6d7c78-knockout.js\\\"},{\\\"name\\\":\\\"knockout_punches\\\",\\\"type\\\":\\\"js\\\",\\\"url\\\":\\\"/assetserver/382b41b3b1bd9f26f75861d360bad7f8beea211f-knockout_punches.js\\\"}],\\\"type\\\":\\\"async_block\\\"})).then((imports) => handler.apply(this, imports));\\n}\\n\")])], Dict{Symbol, Any}(:className => \"field interact-widget\"))], Dict{Symbol, Any}(:style => Dict(\"display\" => \"flex\", \"flex-direction\" => \"row\")))], Dict{Symbol, Any}(:style => Dict(\"display\" => \"flex\", \"flex-direction\" => \"column\"))), Observable(MeshCat.DisplayedVisualizer(MeshCat.CoreVisualizer(MeshCat.SceneTrees.SceneNode(nothing, nothing, Dict{String, Vector{UInt8}}(), nothing, Dict{String, MeshCat.SceneTrees.SceneNode}(\"meshcat\" => MeshCat.SceneTrees.SceneNode(nothing, UInt8[0x83, 0xa6, 0x6d, 0x61, 0x74, 0x72, 0x69, 0x78, 0xc7, 0x40  …  0x68, 0xa8, 0x2f, 0x6d, 0x65, 0x73, 0x68, 0x63, 0x61, 0x74], Dict{String, Vector{UInt8}}(), nothing, Dict{String, MeshCat.SceneTrees.SceneNode}(\"nodes\" => MeshCat.SceneTrees.SceneNode(nothing, nothing, Dict{String, Vector{UInt8}}(), nothing, Dict{String, MeshCat.SceneTrees.SceneNode}(\"32\" => MeshCat.SceneTrees.SceneNode(nothing, UInt8[0x83, 0xa6, 0x6d, 0x61, 0x74, 0x72, 0x69, 0x78, 0xc7, 0x40  …  0x74, 0x2f, 0x6e, 0x6f, 0x64, 0x65, 0x73, 0x2f, 0x33, 0x32], Dict{String, Vector{UInt8}}(\"scale\" => [0x84, 0xa8, 0x70, 0x72, 0x6f, 0x70, 0x65, 0x72, 0x74, 0x79  …  0x74, 0x2f, 0x6e, 0x6f, 0x64, 0x65, 0x73, 0x2f, 0x33, 0x32]), nothing, Dict{String, MeshCat.SceneTrees.SceneNode}(\"(0.0N0f8, 0.0N0f8, 0.0N0f8, 1.0N0f8)\" => MeshCat.SceneTrees.SceneNode(UInt8[0x83, 0xa6, 0x6f, 0x62, 0x6a, 0x65, 0x63, 0x74, 0x84, 0xaa  …  0x2c, 0x20, 0x31, 0x2e, 0x30, 0x4e, 0x30, 0x66, 0x38, 0x29], nothing, Dict{String, Vector{UInt8}}(\"visible\" => [0x84, 0xa8, 0x70, 0x72, 0x6f, 0x70, 0x65, 0x72, 0x74, 0x79  …  0x2c, 0x20, 0x31, 0x2e, 0x30, 0x4e, 0x30, 0x66, 0x38, 0x29]), nothing, Dict{String, MeshCat.SceneTrees.SceneNode}()), \"(1.0N0f8, 0.0N0f8, 0.0N0f8, 1.0N0f8)\" => MeshCat.SceneTrees.SceneNode(UInt8[0x83, 0xa6, 0x6f, 0x62, 0x6a, 0x65, 0x63, 0x74, 0x84, 0xaa  …  0x2c, 0x20, 0x31, 0x2e, 0x30, 0x4e, 0x30, 0x66, 0x38, 0x29], nothing, Dict{String, Vector{UInt8}}(\"visible\" => [0x84, 0xa8, 0x70, 0x72, 0x6f, 0x70, 0x65, 0x72, 0x74, 0x79  …  0x2c, 0x20, 0x31, 0x2e, 0x30, 0x4e, 0x30, 0x66, 0x38, 0x29]), nothing, Dict{String, MeshCat.SceneTrees.SceneNode}()))), \"29\" => MeshCat.SceneTrees.SceneNode(nothing, UInt8[0x83, 0xa6, 0x6d, 0x61, 0x74, 0x72, 0x69, 0x78, 0xc7, 0x40  …  0x74, 0x2f, 0x6e, 0x6f, 0x64, 0x65, 0x73, 0x2f, 0x32, 0x39], Dict{String, Vector{UInt8}}(\"scale\" => [0x84, 0xa8, 0x70, 0x72, 0x6f, 0x70, 0x65, 0x72, 0x74, 0x79  …  0x74, 0x2f, 0x6e, 0x6f, 0x64, 0x65, 0x73, 0x2f, 0x32, 0x39]), nothing, Dict{String, MeshCat.SceneTrees.SceneNode}(\"(1.0N0f8, 0.0N0f8, 0.0N0f8, 1.0N0f8)\" => MeshCat.SceneTrees.SceneNode(UInt8[0x83, 0xa6, 0x6f, 0x62, 0x6a, 0x65, 0x63, 0x74, 0x84, 0xaa  …  0x2c, 0x20, 0x31, 0x2e, 0x30, 0x4e, 0x30, 0x66, 0x38, 0x29], nothing, Dict{String, Vector{UInt8}}(\"visible\" => [0x84, 0xa8, 0x70, 0x72, 0x6f, 0x70, 0x65, 0x72, 0x74, 0x79  …  0x2c, 0x20, 0x31, 0x2e, 0x30, 0x4e, 0x30, 0x66, 0x38, 0x29]), nothing, Dict{String, MeshCat.SceneTrees.SceneNode}()), \"(0.0N0f8, 0.0N0f8, 0.0N0f8, 1.0N0f8)\" => MeshCat.SceneTrees.SceneNode(UInt8[0x83, 0xa6, 0x6f, 0x62, 0x6a, 0x65, 0x63, 0x74, 0x84, 0xaa  …  0x2c, 0x20, 0x31, 0x2e, 0x30, 0x4e, 0x30, 0x66, 0x38, 0x29], nothing, Dict{String, Vector{UInt8}}(\"visible\" => [0x84, 0xa8, 0x70, 0x72, 0x6f, 0x70, 0x65, 0x72, 0x74, 0x79  …  0x2c, 0x20, 0x31, 0x2e, 0x30, 0x4e, 0x30, 0x66, 0x38, 0x29]), nothing, Dict{String, MeshCat.SceneTrees.SceneNode}()))), \"1\" => MeshCat.SceneTrees.SceneNode(nothing, UInt8[0x83, 0xa6, 0x6d, 0x61, 0x74, 0x72, 0x69, 0x78, 0xc7, 0x40  …  0x61, 0x74, 0x2f, 0x6e, 0x6f, 0x64, 0x65, 0x73, 0x2f, 0x31], Dict{String, Vector{UInt8}}(\"scale\" => [0x84, 0xa8, 0x70, 0x72, 0x6f, 0x70, 0x65, 0x72, 0x74, 0x79  …  0x61, 0x74, 0x2f, 0x6e, 0x6f, 0x64, 0x65, 0x73, 0x2f, 0x31]), nothing, Dict{String, MeshCat.SceneTrees.SceneNode}(\"(1.0N0f8, 0.0N0f8, 0.0N0f8, 1.0N0f8)\" => MeshCat.SceneTrees.SceneNode(UInt8[0x83, 0xa6, 0x6f, 0x62, 0x6a, 0x65, 0x63, 0x74, 0x84, 0xaa  …  0x2c, 0x20, 0x31, 0x2e, 0x30, 0x4e, 0x30, 0x66, 0x38, 0x29], nothing, Dict{String, Vector{UInt8}}(\"visible\" => [0x84, 0xa8, 0x70, 0x72, 0x6f, 0x70, 0x65, 0x72, 0x74, 0x79  …  0x2c, 0x20, 0x31, 0x2e, 0x30, 0x4e, 0x30, 0x66, 0x38, 0x29]), nothing, Dict{String, MeshCat.SceneTrees.SceneNode}()))), \"54\" => MeshCat.SceneTrees.SceneNode(nothing, UInt8[0x83, 0xa6, 0x6d, 0x61, 0x74, 0x72, 0x69, 0x78, 0xc7, 0x40  …  0x74, 0x2f, 0x6e, 0x6f, 0x64, 0x65, 0x73, 0x2f, 0x35, 0x34], Dict{String, Vector{UInt8}}(\"scale\" => [0x84, 0xa8, 0x70, 0x72, 0x6f, 0x70, 0x65, 0x72, 0x74, 0x79  …  0x74, 0x2f, 0x6e, 0x6f, 0x64, 0x65, 0x73, 0x2f, 0x35, 0x34]), nothing, Dict{String, MeshCat.SceneTrees.SceneNode}(\"(1.0N0f8, 0.0N0f8, 0.0N0f8, 1.0N0f8)\" => MeshCat.SceneTrees.SceneNode(UInt8[0x83, 0xa6, 0x6f, 0x62, 0x6a, 0x65, 0x63, 0x74, 0x84, 0xaa  …  0x2c, 0x20, 0x31, 0x2e, 0x30, 0x4e, 0x30, 0x66, 0x38, 0x29], nothing, Dict{String, Vector{UInt8}}(\"visible\" => [0x84, 0xa8, 0x70, 0x72, 0x6f, 0x70, 0x65, 0x72, 0x74, 0x79  …  0x2c, 0x20, 0x31, 0x2e, 0x30, 0x4e, 0x30, 0x66, 0x38, 0x29]), nothing, Dict{String, MeshCat.SceneTrees.SceneNode}()), \"(0.0N0f8, 0.0N0f8, 0.0N0f8, 1.0N0f8)\" => MeshCat.SceneTrees.SceneNode(UInt8[0x83, 0xa6, 0x6f, 0x62, 0x6a, 0x65, 0x63, 0x74, 0x84, 0xaa  …  0x2c, 0x20, 0x31, 0x2e, 0x30, 0x4e, 0x30, 0x66, 0x38, 0x29], nothing, Dict{String, Vector{UInt8}}(\"visible\" => [0x84, 0xa8, 0x70, 0x72, 0x6f, 0x70, 0x65, 0x72, 0x74, 0x79  …  0x2c, 0x20, 0x31, 0x2e, 0x30, 0x4e, 0x30, 0x66, 0x38, 0x29]), nothing, Dict{String, MeshCat.SceneTrees.SceneNode}()))), \"78\" => MeshCat.SceneTrees.SceneNode(nothing, UInt8[0x83, 0xa6, 0x6d, 0x61, 0x74, 0x72, 0x69, 0x78, 0xc7, 0x40  …  0x74, 0x2f, 0x6e, 0x6f, 0x64, 0x65, 0x73, 0x2f, 0x37, 0x38], Dict{String, Vector{UInt8}}(\"scale\" => [0x84, 0xa8, 0x70, 0x72, 0x6f, 0x70, 0x65, 0x72, 0x74, 0x79  …  0x74, 0x2f, 0x6e, 0x6f, 0x64, 0x65, 0x73, 0x2f, 0x37, 0x38]), nothing, Dict{String, MeshCat.SceneTrees.SceneNode}(\"(1.0N0f8, 0.0N0f8, 0.0N0f8, 1.0N0f8)\" => MeshCat.SceneTrees.SceneNode(UInt8[0x83, 0xa6, 0x6f, 0x62, 0x6a, 0x65, 0x63, 0x74, 0x84, 0xaa  …  0x2c, 0x20, 0x31, 0x2e, 0x30, 0x4e, 0x30, 0x66, 0x38, 0x29], nothing, Dict{String, Vector{UInt8}}(\"visible\" => [0x84, 0xa8, 0x70, 0x72, 0x6f, 0x70, 0x65, 0x72, 0x74, 0x79  …  0x2c, 0x20, 0x31, 0x2e, 0x30, 0x4e, 0x30, 0x66, 0x38, 0x29]), nothing, Dict{String, MeshCat.SceneTrees.SceneNode}()))), \"81\" => MeshCat.SceneTrees.SceneNode(nothing, UInt8[0x83, 0xa6, 0x6d, 0x61, 0x74, 0x72, 0x69, 0x78, 0xc7, 0x40  …  0x74, 0x2f, 0x6e, 0x6f, 0x64, 0x65, 0x73, 0x2f, 0x38, 0x31], Dict{String, Vector{UInt8}}(\"scale\" => [0x84, 0xa8, 0x70, 0x72, 0x6f, 0x70, 0x65, 0x72, 0x74, 0x79  …  0x74, 0x2f, 0x6e, 0x6f, 0x64, 0x65, 0x73, 0x2f, 0x38, 0x31]), nothing, Dict{String, MeshCat.SceneTrees.SceneNode}(\"(0.0N0f8, 0.0N0f8, 0.0N0f8, 1.0N0f8)\" => MeshCat.SceneTrees.SceneNode(UInt8[0x83, 0xa6, 0x6f, 0x62, 0x6a, 0x65, 0x63, 0x74, 0x84, 0xaa  …  0x2c, 0x20, 0x31, 0x2e, 0x30, 0x4e, 0x30, 0x66, 0x38, 0x29], nothing, Dict{String, Vector{UInt8}}(\"visible\" => [0x84, 0xa8, 0x70, 0x72, 0x6f, 0x70, 0x65, 0x72, 0x74, 0x79  …  0x2c, 0x20, 0x31, 0x2e, 0x30, 0x4e, 0x30, 0x66, 0x38, 0x29]), nothing, Dict{String, MeshCat.SceneTrees.SceneNode}()), \"(1.0N0f8, 0.0N0f8, 0.0N0f8, 1.0N0f8)\" => MeshCat.SceneTrees.SceneNode(UInt8[0x83, 0xa6, 0x6f, 0x62, 0x6a, 0x65, 0x63, 0x74, 0x84, 0xaa  …  0x2c, 0x20, 0x31, 0x2e, 0x30, 0x4e, 0x30, 0x66, 0x38, 0x29], nothing, Dict{String, Vector{UInt8}}(\"visible\" => [0x84, 0xa8, 0x70, 0x72, 0x6f, 0x70, 0x65, 0x72, 0x74, 0x79  …  0x2c, 0x20, 0x31, 0x2e, 0x30, 0x4e, 0x30, 0x66, 0x38, 0x29]), nothing, Dict{String, MeshCat.SceneTrees.SceneNode}()))), \"2\" => MeshCat.SceneTrees.SceneNode(nothing, UInt8[0x83, 0xa6, 0x6d, 0x61, 0x74, 0x72, 0x69, 0x78, 0xc7, 0x40  …  0x61, 0x74, 0x2f, 0x6e, 0x6f, 0x64, 0x65, 0x73, 0x2f, 0x32], Dict{String, Vector{UInt8}}(\"scale\" => [0x84, 0xa8, 0x70, 0x72, 0x6f, 0x70, 0x65, 0x72, 0x74, 0x79  …  0x61, 0x74, 0x2f, 0x6e, 0x6f, 0x64, 0x65, 0x73, 0x2f, 0x32]), nothing, Dict{String, MeshCat.SceneTrees.SceneNode}(\"(1.0N0f8, 0.0N0f8, 0.0N0f8, 1.0N0f8)\" => MeshCat.SceneTrees.SceneNode(UInt8[0x83, 0xa6, 0x6f, 0x62, 0x6a, 0x65, 0x63, 0x74, 0x84, 0xaa  …  0x2c, 0x20, 0x31, 0x2e, 0x30, 0x4e, 0x30, 0x66, 0x38, 0x29], nothing, Dict{String, Vector{UInt8}}(\"visible\" => [0x84, 0xa8, 0x70, 0x72, 0x6f, 0x70, 0x65, 0x72, 0x74, 0x79  …  0x2c, 0x20, 0x31, 0x2e, 0x30, 0x4e, 0x30, 0x66, 0x38, 0x29]), nothing, Dict{String, MeshCat.SceneTrees.SceneNode}()), \"(0.0N0f8, 0.0N0f8, 0.0N0f8, 1.0N0f8)\" => MeshCat.SceneTrees.SceneNode(UInt8[0x83, 0xa6, 0x6f, 0x62, 0x6a, 0x65, 0x63, 0x74, 0x84, 0xaa  …  0x2c, 0x20, 0x31, 0x2e, 0x30, 0x4e, 0x30, 0x66, 0x38, 0x29], nothing, Dict{String, Vector{UInt8}}(\"visible\" => [0x84, 0xa8, 0x70, 0x72, 0x6f, 0x70, 0x65, 0x72, 0x74, 0x79  …  0x2c, 0x20, 0x31, 0x2e, 0x30, 0x4e, 0x30, 0x66, 0x38, 0x29]), nothing, Dict{String, MeshCat.SceneTrees.SceneNode}()))), \"74\" => MeshCat.SceneTrees.SceneNode(nothing, UInt8[0x83, 0xa6, 0x6d, 0x61, 0x74, 0x72, 0x69, 0x78, 0xc7, 0x40  …  0x74, 0x2f, 0x6e, 0x6f, 0x64, 0x65, 0x73, 0x2f, 0x37, 0x34], Dict{String, Vector{UInt8}}(\"scale\" => [0x84, 0xa8, 0x70, 0x72, 0x6f, 0x70, 0x65, 0x72, 0x74, 0x79  …  0x74, 0x2f, 0x6e, 0x6f, 0x64, 0x65, 0x73, 0x2f, 0x37, 0x34]), nothing, Dict{String, MeshCat.SceneTrees.SceneNode}(\"(0.0N0f8, 0.0N0f8, 0.0N0f8, 1.0N0f8)\" => MeshCat.SceneTrees.SceneNode(UInt8[0x83, 0xa6, 0x6f, 0x62, 0x6a, 0x65, 0x63, 0x74, 0x84, 0xaa  …  0x2c, 0x20, 0x31, 0x2e, 0x30, 0x4e, 0x30, 0x66, 0x38, 0x29], nothing, Dict{String, Vector{UInt8}}(\"visible\" => [0x84, 0xa8, 0x70, 0x72, 0x6f, 0x70, 0x65, 0x72, 0x74, 0x79  …  0x2c, 0x20, 0x31, 0x2e, 0x30, 0x4e, 0x30, 0x66, 0x38, 0x29]), nothing, Dict{String, MeshCat.SceneTrees.SceneNode}()), \"(1.0N0f8, 0.0N0f8, 0.0N0f8, 1.0N0f8)\" => MeshCat.SceneTrees.SceneNode(UInt8[0x83, 0xa6, 0x6f, 0x62, 0x6a, 0x65, 0x63, 0x74, 0x84, 0xaa  …  0x2c, 0x20, 0x31, 0x2e, 0x30, 0x4e, 0x30, 0x66, 0x38, 0x29], nothing, Dict{String, Vector{UInt8}}(\"visible\" => [0x84, 0xa8, 0x70, 0x72, 0x6f, 0x70, 0x65, 0x72, 0x74, 0x79  …  0x2c, 0x20, 0x31, 0x2e, 0x30, 0x4e, 0x30, 0x66, 0x38, 0x29]), nothing, Dict{String, MeshCat.SceneTrees.SceneNode}()))), \"41\" => MeshCat.SceneTrees.SceneNode(nothing, UInt8[0x83, 0xa6, 0x6d, 0x61, 0x74, 0x72, 0x69, 0x78, 0xc7, 0x40  …  0x74, 0x2f, 0x6e, 0x6f, 0x64, 0x65, 0x73, 0x2f, 0x34, 0x31], Dict{String, Vector{UInt8}}(\"scale\" => [0x84, 0xa8, 0x70, 0x72, 0x6f, 0x70, 0x65, 0x72, 0x74, 0x79  …  0x74, 0x2f, 0x6e, 0x6f, 0x64, 0x65, 0x73, 0x2f, 0x34, 0x31]), nothing, Dict{String, MeshCat.SceneTrees.SceneNode}(\"(0.0N0f8, 0.0N0f8, 0.0N0f8, 1.0N0f8)\" => MeshCat.SceneTrees.SceneNode(UInt8[0x83, 0xa6, 0x6f, 0x62, 0x6a, 0x65, 0x63, 0x74, 0x84, 0xaa  …  0x2c, 0x20, 0x31, 0x2e, 0x30, 0x4e, 0x30, 0x66, 0x38, 0x29], nothing, Dict{String, Vector{UInt8}}(\"visible\" => [0x84, 0xa8, 0x70, 0x72, 0x6f, 0x70, 0x65, 0x72, 0x74, 0x79  …  0x2c, 0x20, 0x31, 0x2e, 0x30, 0x4e, 0x30, 0x66, 0x38, 0x29]), nothing, Dict{String, MeshCat.SceneTrees.SceneNode}()), \"(1.0N0f8, 0.0N0f8, 0.0N0f8, 1.0N0f8)\" => MeshCat.SceneTrees.SceneNode(UInt8[0x83, 0xa6, 0x6f, 0x62, 0x6a, 0x65, 0x63, 0x74, 0x84, 0xaa  …  0x2c, 0x20, 0x31, 0x2e, 0x30, 0x4e, 0x30, 0x66, 0x38, 0x29], nothing, Dict{String, Vector{UInt8}}(\"visible\" => [0x84, 0xa8, 0x70, 0x72, 0x6f, 0x70, 0x65, 0x72, 0x74, 0x79  …  0x2c, 0x20, 0x31, 0x2e, 0x30, 0x4e, 0x30, 0x66, 0x38, 0x29]), nothing, Dict{String, MeshCat.SceneTrees.SceneNode}()))), \"65\" => MeshCat.SceneTrees.SceneNode(nothing, UInt8[0x83, 0xa6, 0x6d, 0x61, 0x74, 0x72, 0x69, 0x78, 0xc7, 0x40  …  0x74, 0x2f, 0x6e, 0x6f, 0x64, 0x65, 0x73, 0x2f, 0x36, 0x35], Dict{String, Vector{UInt8}}(\"scale\" => [0x84, 0xa8, 0x70, 0x72, 0x6f, 0x70, 0x65, 0x72, 0x74, 0x79  …  0x74, 0x2f, 0x6e, 0x6f, 0x64, 0x65, 0x73, 0x2f, 0x36, 0x35]), nothing, Dict{String, MeshCat.SceneTrees.SceneNode}(\"(1.0N0f8, 0.0N0f8, 0.0N0f8, 1.0N0f8)\" => MeshCat.SceneTrees.SceneNode(UInt8[0x83, 0xa6, 0x6f, 0x62, 0x6a, 0x65, 0x63, 0x74, 0x84, 0xaa  …  0x2c, 0x20, 0x31, 0x2e, 0x30, 0x4e, 0x30, 0x66, 0x38, 0x29], nothing, Dict{String, Vector{UInt8}}(\"visible\" => [0x84, 0xa8, 0x70, 0x72, 0x6f, 0x70, 0x65, 0x72, 0x74, 0x79  …  0x2c, 0x20, 0x31, 0x2e, 0x30, 0x4e, 0x30, 0x66, 0x38, 0x29]), nothing, Dict{String, MeshCat.SceneTrees.SceneNode}()), \"(0.0N0f8, 0.0N0f8, 0.0N0f8, 1.0N0f8)\" => MeshCat.SceneTrees.SceneNode(UInt8[0x83, 0xa6, 0x6f, 0x62, 0x6a, 0x65, 0x63, 0x74, 0x84, 0xaa  …  0x2c, 0x20, 0x31, 0x2e, 0x30, 0x4e, 0x30, 0x66, 0x38, 0x29], nothing, Dict{String, Vector{UInt8}}(\"visible\" => [0x84, 0xa8, 0x70, 0x72, 0x6f, 0x70, 0x65, 0x72, 0x74, 0x79  …  0x2c, 0x20, 0x31, 0x2e, 0x30, 0x4e, 0x30, 0x66, 0x38, 0x29]), nothing, Dict{String, MeshCat.SceneTrees.SceneNode}())))…)), \"bbox_line_segments\" => MeshCat.SceneTrees.SceneNode(nothing, nothing, Dict{String, Vector{UInt8}}(), nothing, Dict{String, MeshCat.SceneTrees.SceneNode}(\"4\" => MeshCat.SceneTrees.SceneNode(UInt8[0x83, 0xa6, 0x6f, 0x62, 0x6a, 0x65, 0x63, 0x74, 0x84, 0xaa  …  0x73, 0x65, 0x67, 0x6d, 0x65, 0x6e, 0x74, 0x73, 0x2f, 0x34], nothing, Dict{String, Vector{UInt8}}(), nothing, Dict{String, MeshCat.SceneTrees.SceneNode}()), \"1\" => MeshCat.SceneTrees.SceneNode(UInt8[0x83, 0xa6, 0x6f, 0x62, 0x6a, 0x65, 0x63, 0x74, 0x84, 0xaa  …  0x73, 0x65, 0x67, 0x6d, 0x65, 0x6e, 0x74, 0x73, 0x2f, 0x31], nothing, Dict{String, Vector{UInt8}}(), nothing, Dict{String, MeshCat.SceneTrees.SceneNode}()), \"12\" => MeshCat.SceneTrees.SceneNode(UInt8[0x83, 0xa6, 0x6f, 0x62, 0x6a, 0x65, 0x63, 0x74, 0x84, 0xaa  …  0x65, 0x67, 0x6d, 0x65, 0x6e, 0x74, 0x73, 0x2f, 0x31, 0x32], nothing, Dict{String, Vector{UInt8}}(), nothing, Dict{String, MeshCat.SceneTrees.SceneNode}()), \"2\" => MeshCat.SceneTrees.SceneNode(UInt8[0x83, 0xa6, 0x6f, 0x62, 0x6a, 0x65, 0x63, 0x74, 0x84, 0xaa  …  0x73, 0x65, 0x67, 0x6d, 0x65, 0x6e, 0x74, 0x73, 0x2f, 0x32], nothing, Dict{String, Vector{UInt8}}(), nothing, Dict{String, MeshCat.SceneTrees.SceneNode}()), \"6\" => MeshCat.SceneTrees.SceneNode(UInt8[0x83, 0xa6, 0x6f, 0x62, 0x6a, 0x65, 0x63, 0x74, 0x84, 0xaa  …  0x73, 0x65, 0x67, 0x6d, 0x65, 0x6e, 0x74, 0x73, 0x2f, 0x36], nothing, Dict{String, Vector{UInt8}}(), nothing, Dict{String, MeshCat.SceneTrees.SceneNode}()), \"11\" => MeshCat.SceneTrees.SceneNode(UInt8[0x83, 0xa6, 0x6f, 0x62, 0x6a, 0x65, 0x63, 0x74, 0x84, 0xaa  …  0x65, 0x67, 0x6d, 0x65, 0x6e, 0x74, 0x73, 0x2f, 0x31, 0x31], nothing, Dict{String, Vector{UInt8}}(), nothing, Dict{String, MeshCat.SceneTrees.SceneNode}()), \"5\" => MeshCat.SceneTrees.SceneNode(UInt8[0x83, 0xa6, 0x6f, 0x62, 0x6a, 0x65, 0x63, 0x74, 0x84, 0xaa  …  0x73, 0x65, 0x67, 0x6d, 0x65, 0x6e, 0x74, 0x73, 0x2f, 0x35], nothing, Dict{String, Vector{UInt8}}(), nothing, Dict{String, MeshCat.SceneTrees.SceneNode}()), \"7\" => MeshCat.SceneTrees.SceneNode(UInt8[0x83, 0xa6, 0x6f, 0x62, 0x6a, 0x65, 0x63, 0x74, 0x84, 0xaa  …  0x73, 0x65, 0x67, 0x6d, 0x65, 0x6e, 0x74, 0x73, 0x2f, 0x37], nothing, Dict{String, Vector{UInt8}}(), nothing, Dict{String, MeshCat.SceneTrees.SceneNode}()), \"8\" => MeshCat.SceneTrees.SceneNode(UInt8[0x83, 0xa6, 0x6f, 0x62, 0x6a, 0x65, 0x63, 0x74, 0x84, 0xaa  …  0x73, 0x65, 0x67, 0x6d, 0x65, 0x6e, 0x74, 0x73, 0x2f, 0x38], nothing, Dict{String, Vector{UInt8}}(), nothing, Dict{String, MeshCat.SceneTrees.SceneNode}()), \"10\" => MeshCat.SceneTrees.SceneNode(UInt8[0x83, 0xa6, 0x6f, 0x62, 0x6a, 0x65, 0x63, 0x74, 0x84, 0xaa  …  0x65, 0x67, 0x6d, 0x65, 0x6e, 0x74, 0x73, 0x2f, 0x31, 0x30], nothing, Dict{String, Vector{UInt8}}(), nothing, Dict{String, MeshCat.SceneTrees.SceneNode}())…)), \"edges\" => MeshCat.SceneTrees.SceneNode(nothing, nothing, Dict{String, Vector{UInt8}}(), nothing, Dict{String, MeshCat.SceneTrees.SceneNode}(\"(38, 70)\" => MeshCat.SceneTrees.SceneNode(nothing, UInt8[0x83, 0xa6, 0x6d, 0x61, 0x74, 0x72, 0x69, 0x78, 0xc7, 0x40  …  0x73, 0x2f, 0x28, 0x33, 0x38, 0x2c, 0x20, 0x37, 0x30, 0x29], Dict{String, Vector{UInt8}}(\"scale\" => [0x84, 0xa8, 0x70, 0x72, 0x6f, 0x70, 0x65, 0x72, 0x74, 0x79  …  0x73, 0x2f, 0x28, 0x33, 0x38, 0x2c, 0x20, 0x37, 0x30, 0x29]), nothing, Dict{String, MeshCat.SceneTrees.SceneNode}(\"(0.0N0f8, 0.0N0f8, 1.0N0f8, 1.0N0f8)\" => MeshCat.SceneTrees.SceneNode(UInt8[0x83, 0xa6, 0x6f, 0x62, 0x6a, 0x65, 0x63, 0x74, 0x84, 0xaa  …  0x2c, 0x20, 0x31, 0x2e, 0x30, 0x4e, 0x30, 0x66, 0x38, 0x29], nothing, Dict{String, Vector{UInt8}}(\"visible\" => [0x84, 0xa8, 0x70, 0x72, 0x6f, 0x70, 0x65, 0x72, 0x74, 0x79  …  0x2c, 0x20, 0x31, 0x2e, 0x30, 0x4e, 0x30, 0x66, 0x38, 0x29]), nothing, Dict{String, MeshCat.SceneTrees.SceneNode}()))), \"(3, 67)\" => MeshCat.SceneTrees.SceneNode(nothing, UInt8[0x83, 0xa6, 0x6d, 0x61, 0x74, 0x72, 0x69, 0x78, 0xc7, 0x40  …  0x65, 0x73, 0x2f, 0x28, 0x33, 0x2c, 0x20, 0x36, 0x37, 0x29], Dict{String, Vector{UInt8}}(\"scale\" => [0x84, 0xa8, 0x70, 0x72, 0x6f, 0x70, 0x65, 0x72, 0x74, 0x79  …  0x65, 0x73, 0x2f, 0x28, 0x33, 0x2c, 0x20, 0x36, 0x37, 0x29]), nothing, Dict{String, MeshCat.SceneTrees.SceneNode}(\"(0.0N0f8, 0.0N0f8, 1.0N0f8, 1.0N0f8)\" => MeshCat.SceneTrees.SceneNode(UInt8[0x83, 0xa6, 0x6f, 0x62, 0x6a, 0x65, 0x63, 0x74, 0x84, 0xaa  …  0x2c, 0x20, 0x31, 0x2e, 0x30, 0x4e, 0x30, 0x66, 0x38, 0x29], nothing, Dict{String, Vector{UInt8}}(\"visible\" => [0x84, 0xa8, 0x70, 0x72, 0x6f, 0x70, 0x65, 0x72, 0x74, 0x79  …  0x2c, 0x20, 0x31, 0x2e, 0x30, 0x4e, 0x30, 0x66, 0x38, 0x29]), nothing, Dict{String, MeshCat.SceneTrees.SceneNode}()))), \"(16, 72)\" => MeshCat.SceneTrees.SceneNode(nothing, UInt8[0x83, 0xa6, 0x6d, 0x61, 0x74, 0x72, 0x69, 0x78, 0xc7, 0x40  …  0x73, 0x2f, 0x28, 0x31, 0x36, 0x2c, 0x20, 0x37, 0x32, 0x29], Dict{String, Vector{UInt8}}(\"scale\" => [0x84, 0xa8, 0x70, 0x72, 0x6f, 0x70, 0x65, 0x72, 0x74, 0x79  …  0x73, 0x2f, 0x28, 0x31, 0x36, 0x2c, 0x20, 0x37, 0x32, 0x29]), nothing, Dict{String, MeshCat.SceneTrees.SceneNode}(\"(0.0N0f8, 0.0N0f8, 1.0N0f8, 1.0N0f8)\" => MeshCat.SceneTrees.SceneNode(UInt8[0x83, 0xa6, 0x6f, 0x62, 0x6a, 0x65, 0x63, 0x74, 0x84, 0xaa  …  0x2c, 0x20, 0x31, 0x2e, 0x30, 0x4e, 0x30, 0x66, 0x38, 0x29], nothing, Dict{String, Vector{UInt8}}(\"visible\" => [0x84, 0xa8, 0x70, 0x72, 0x6f, 0x70, 0x65, 0x72, 0x74, 0x79  …  0x2c, 0x20, 0x31, 0x2e, 0x30, 0x4e, 0x30, 0x66, 0x38, 0x29]), nothing, Dict{String, MeshCat.SceneTrees.SceneNode}()))), \"(47, 97)\" => MeshCat.SceneTrees.SceneNode(nothing, UInt8[0x83, 0xa6, 0x6d, 0x61, 0x74, 0x72, 0x69, 0x78, 0xc7, 0x40  …  0x73, 0x2f, 0x28, 0x34, 0x37, 0x2c, 0x20, 0x39, 0x37, 0x29], Dict{String, Vector{UInt8}}(\"scale\" => [0x84, 0xa8, 0x70, 0x72, 0x6f, 0x70, 0x65, 0x72, 0x74, 0x79  …  0x73, 0x2f, 0x28, 0x34, 0x37, 0x2c, 0x20, 0x39, 0x37, 0x29]), nothing, Dict{String, MeshCat.SceneTrees.SceneNode}(\"(0.0N0f8, 0.0N0f8, 1.0N0f8, 1.0N0f8)\" => MeshCat.SceneTrees.SceneNode(UInt8[0x83, 0xa6, 0x6f, 0x62, 0x6a, 0x65, 0x63, 0x74, 0x84, 0xaa  …  0x2c, 0x20, 0x31, 0x2e, 0x30, 0x4e, 0x30, 0x66, 0x38, 0x29], nothing, Dict{String, Vector{UInt8}}(\"visible\" => [0x84, 0xa8, 0x70, 0x72, 0x6f, 0x70, 0x65, 0x72, 0x74, 0x79  …  0x2c, 0x20, 0x31, 0x2e, 0x30, 0x4e, 0x30, 0x66, 0x38, 0x29]), nothing, Dict{String, MeshCat.SceneTrees.SceneNode}()))), \"(27, 95)\" => MeshCat.SceneTrees.SceneNode(nothing, UInt8[0x83, 0xa6, 0x6d, 0x61, 0x74, 0x72, 0x69, 0x78, 0xc7, 0x40  …  0x73, 0x2f, 0x28, 0x32, 0x37, 0x2c, 0x20, 0x39, 0x35, 0x29], Dict{String, Vector{UInt8}}(\"scale\" => [0x84, 0xa8, 0x70, 0x72, 0x6f, 0x70, 0x65, 0x72, 0x74, 0x79  …  0x73, 0x2f, 0x28, 0x32, 0x37, 0x2c, 0x20, 0x39, 0x35, 0x29]), nothing, Dict{String, MeshCat.SceneTrees.SceneNode}(\"(0.0N0f8, 0.0N0f8, 1.0N0f8, 1.0N0f8)\" => MeshCat.SceneTrees.SceneNode(UInt8[0x83, 0xa6, 0x6f, 0x62, 0x6a, 0x65, 0x63, 0x74, 0x84, 0xaa  …  0x2c, 0x20, 0x31, 0x2e, 0x30, 0x4e, 0x30, 0x66, 0x38, 0x29], nothing, Dict{String, Vector{UInt8}}(\"visible\" => [0x84, 0xa8, 0x70, 0x72, 0x6f, 0x70, 0x65, 0x72, 0x74, 0x79  …  0x2c, 0x20, 0x31, 0x2e, 0x30, 0x4e, 0x30, 0x66, 0x38, 0x29]), nothing, Dict{String, MeshCat.SceneTrees.SceneNode}()))), \"(47, 60)\" => MeshCat.SceneTrees.SceneNode(nothing, UInt8[0x83, 0xa6, 0x6d, 0x61, 0x74, 0x72, 0x69, 0x78, 0xc7, 0x40  …  0x73, 0x2f, 0x28, 0x34, 0x37, 0x2c, 0x20, 0x36, 0x30, 0x29], Dict{String, Vector{UInt8}}(\"scale\" => [0x84, 0xa8, 0x70, 0x72, 0x6f, 0x70, 0x65, 0x72, 0x74, 0x79  …  0x73, 0x2f, 0x28, 0x34, 0x37, 0x2c, 0x20, 0x36, 0x30, 0x29]), nothing, Dict{String, MeshCat.SceneTrees.SceneNode}(\"(0.0N0f8, 0.0N0f8, 1.0N0f8, 1.0N0f8)\" => MeshCat.SceneTrees.SceneNode(UInt8[0x83, 0xa6, 0x6f, 0x62, 0x6a, 0x65, 0x63, 0x74, 0x84, 0xaa  …  0x2c, 0x20, 0x31, 0x2e, 0x30, 0x4e, 0x30, 0x66, 0x38, 0x29], nothing, Dict{String, Vector{UInt8}}(\"visible\" => [0x84, 0xa8, 0x70, 0x72, 0x6f, 0x70, 0x65, 0x72, 0x74, 0x79  …  0x2c, 0x20, 0x31, 0x2e, 0x30, 0x4e, 0x30, 0x66, 0x38, 0x29]), nothing, Dict{String, MeshCat.SceneTrees.SceneNode}()))), \"(23, 29)\" => MeshCat.SceneTrees.SceneNode(nothing, UInt8[0x83, 0xa6, 0x6d, 0x61, 0x74, 0x72, 0x69, 0x78, 0xc7, 0x40  …  0x73, 0x2f, 0x28, 0x32, 0x33, 0x2c, 0x20, 0x32, 0x39, 0x29], Dict{String, Vector{UInt8}}(\"scale\" => [0x84, 0xa8, 0x70, 0x72, 0x6f, 0x70, 0x65, 0x72, 0x74, 0x79  …  0x73, 0x2f, 0x28, 0x32, 0x33, 0x2c, 0x20, 0x32, 0x39, 0x29]), nothing, Dict{String, MeshCat.SceneTrees.SceneNode}(\"(0.0N0f8, 0.0N0f8, 1.0N0f8, 1.0N0f8)\" => MeshCat.SceneTrees.SceneNode(UInt8[0x83, 0xa6, 0x6f, 0x62, 0x6a, 0x65, 0x63, 0x74, 0x84, 0xaa  …  0x2c, 0x20, 0x31, 0x2e, 0x30, 0x4e, 0x30, 0x66, 0x38, 0x29], nothing, Dict{String, Vector{UInt8}}(\"visible\" => [0x84, 0xa8, 0x70, 0x72, 0x6f, 0x70, 0x65, 0x72, 0x74, 0x79  …  0x2c, 0x20, 0x31, 0x2e, 0x30, 0x4e, 0x30, 0x66, 0x38, 0x29]), nothing, Dict{String, MeshCat.SceneTrees.SceneNode}()))), \"(17, 20)\" => MeshCat.SceneTrees.SceneNode(nothing, UInt8[0x83, 0xa6, 0x6d, 0x61, 0x74, 0x72, 0x69, 0x78, 0xc7, 0x40  …  0x73, 0x2f, 0x28, 0x31, 0x37, 0x2c, 0x20, 0x32, 0x30, 0x29], Dict{String, Vector{UInt8}}(\"scale\" => [0x84, 0xa8, 0x70, 0x72, 0x6f, 0x70, 0x65, 0x72, 0x74, 0x79  …  0x73, 0x2f, 0x28, 0x31, 0x37, 0x2c, 0x20, 0x32, 0x30, 0x29]), nothing, Dict{String, MeshCat.SceneTrees.SceneNode}(\"(0.0N0f8, 0.0N0f8, 1.0N0f8, 1.0N0f8)\" => MeshCat.SceneTrees.SceneNode(UInt8[0x83, 0xa6, 0x6f, 0x62, 0x6a, 0x65, 0x63, 0x74, 0x84, 0xaa  …  0x2c, 0x20, 0x31, 0x2e, 0x30, 0x4e, 0x30, 0x66, 0x38, 0x29], nothing, Dict{String, Vector{UInt8}}(\"visible\" => [0x84, 0xa8, 0x70, 0x72, 0x6f, 0x70, 0x65, 0x72, 0x74, 0x79  …  0x2c, 0x20, 0x31, 0x2e, 0x30, 0x4e, 0x30, 0x66, 0x38, 0x29]), nothing, Dict{String, MeshCat.SceneTrees.SceneNode}()))), \"(66, 94)\" => MeshCat.SceneTrees.SceneNode(nothing, UInt8[0x83, 0xa6, 0x6d, 0x61, 0x74, 0x72, 0x69, 0x78, 0xc7, 0x40  …  0x73, 0x2f, 0x28, 0x36, 0x36, 0x2c, 0x20, 0x39, 0x34, 0x29], Dict{String, Vector{UInt8}}(\"scale\" => [0x84, 0xa8, 0x70, 0x72, 0x6f, 0x70, 0x65, 0x72, 0x74, 0x79  …  0x73, 0x2f, 0x28, 0x36, 0x36, 0x2c, 0x20, 0x39, 0x34, 0x29]), nothing, Dict{String, MeshCat.SceneTrees.SceneNode}(\"(0.0N0f8, 0.0N0f8, 1.0N0f8, 1.0N0f8)\" => MeshCat.SceneTrees.SceneNode(UInt8[0x83, 0xa6, 0x6f, 0x62, 0x6a, 0x65, 0x63, 0x74, 0x84, 0xaa  …  0x2c, 0x20, 0x31, 0x2e, 0x30, 0x4e, 0x30, 0x66, 0x38, 0x29], nothing, Dict{String, Vector{UInt8}}(\"visible\" => [0x84, 0xa8, 0x70, 0x72, 0x6f, 0x70, 0x65, 0x72, 0x74, 0x79  …  0x2c, 0x20, 0x31, 0x2e, 0x30, 0x4e, 0x30, 0x66, 0x38, 0x29]), nothing, Dict{String, MeshCat.SceneTrees.SceneNode}()))), \"(35, 59)\" => MeshCat.SceneTrees.SceneNode(nothing, UInt8[0x83, 0xa6, 0x6d, 0x61, 0x74, 0x72, 0x69, 0x78, 0xc7, 0x40  …  0x73, 0x2f, 0x28, 0x33, 0x35, 0x2c, 0x20, 0x35, 0x39, 0x29], Dict{String, Vector{UInt8}}(\"scale\" => [0x84, 0xa8, 0x70, 0x72, 0x6f, 0x70, 0x65, 0x72, 0x74, 0x79  …  0x73, 0x2f, 0x28, 0x33, 0x35, 0x2c, 0x20, 0x35, 0x39, 0x29]), nothing, Dict{String, MeshCat.SceneTrees.SceneNode}(\"(0.0N0f8, 0.0N0f8, 1.0N0f8, 1.0N0f8)\" => MeshCat.SceneTrees.SceneNode(UInt8[0x83, 0xa6, 0x6f, 0x62, 0x6a, 0x65, 0x63, 0x74, 0x84, 0xaa  …  0x2c, 0x20, 0x31, 0x2e, 0x30, 0x4e, 0x30, 0x66, 0x38, 0x29], nothing, Dict{String, Vector{UInt8}}(\"visible\" => [0x84, 0xa8, 0x70, 0x72, 0x6f, 0x70, 0x65, 0x72, 0x74, 0x79  …  0x2c, 0x20, 0x31, 0x2e, 0x30, 0x4e, 0x30, 0x66, 0x38, 0x29]), nothing, Dict{String, MeshCat.SceneTrees.SceneNode}())))…)))), \"Axes\" => MeshCat.SceneTrees.SceneNode(nothing, nothing, Dict{String, Vector{UInt8}}(), nothing, Dict{String, MeshCat.SceneTrees.SceneNode}(\"<object>\" => MeshCat.SceneTrees.SceneNode(UInt8[0x83, 0xa6, 0x6f, 0x62, 0x6a, 0x65, 0x63, 0x74, 0x84, 0xaa  …  0x73, 0x2f, 0x3c, 0x6f, 0x62, 0x6a, 0x65, 0x63, 0x74, 0x3e], UInt8[0x83, 0xa6, 0x6d, 0x61, 0x74, 0x72, 0x69, 0x78, 0xc7, 0x40  …  0x73, 0x2f, 0x3c, 0x6f, 0x62, 0x6a, 0x65, 0x63, 0x74, 0x3e], Dict{String, Vector{UInt8}}(), nothing, Dict{String, MeshCat.SceneTrees.SceneNode}()))))), Set{HTTP.WebSockets.WebSocket}(), ip\"127.0.0.1\", 8713))), WebIO.Node{WebIO.DOM}(WebIO.DOM(:html, :div), Any[WebIO.Scope(WebIO.Node{WebIO.DOM}(WebIO.DOM(:html, :div), Any[], Dict{Symbol, Any}(:id => \"container\")), Dict{String, Tuple{Observables.AbstractObservable, Union{Nothing, Bool}}}(\"value\" => (Observable(\"\\\\;\\\\;\"), nothing)), Set{String}(), nothing, WebIO.Asset[WebIO.Asset(\"js\", nothing, \"/home/dushya/.julia/packages/InteractBase/LJXv3/src/../assets/katex.min.js\"), WebIO.Asset(\"css\", nothing, \"/home/dushya/.julia/packages/InteractBase/LJXv3/src/../assets/katex.min.css\")], Dict{Any, Any}(\"value\" => Any[WebIO.JSString(\"(function (txt){return this.k.render(txt,this.container)})\")]), WebIO.ConnectionPool(Channel{Any}(32), Set{WebIO.AbstractConnection}(), Base.GenericCondition{ReentrantLock}(Base.IntrusiveLinkedList{Task}(Task (runnable) @0x00007f85b194a8b0, Task (runnable) @0x00007f85b194a8b0), ReentrantLock(nothing, 0x00000000, 0x00, Base.GenericCondition{Base.Threads.SpinLock}(Base.IntrusiveLinkedList{Task}(nothing, nothing), Base.Threads.SpinLock(0)), (1, 140214360094768, 0)))), WebIO.JSString[WebIO.JSString(\"function () {\\n    var handler = ((function (k){this.k=k; this.container=this.dom.querySelector(\\\"#container\\\"); return k.render(\\\"\\\\\\\\;\\\\\\\\;\\\",this.container)}));\\n    (WebIO.importBlock({\\\"data\\\":[{\\\"name\\\":null,\\\"type\\\":\\\"js\\\",\\\"url\\\":\\\"/assetserver/dd22ed1bf1896c2748f3fe616ce0b838adc895c1-katex.min.js\\\"},{\\\"name\\\":null,\\\"type\\\":\\\"css\\\",\\\"url\\\":\\\"/assetserver/46517a424aa5e6cffc1360d7e0848b601c584ee3-katex.min.css\\\"}],\\\"type\\\":\\\"async_block\\\"})).then((imports) => handler.apply(this, imports));\\n}\\n\")])], Dict{Symbol, Any}(:className => \"interact-widget\")), WebIO.Node{WebIO.DOM}(WebIO.DOM(:html, :div), Any[Observable(Plot{Plots.GRBackend() n=1})], Dict{Symbol, Any}(:style => Dict(\"display\" => \"flex\", \"flex-direction\" => \"column\")))], Dict{Symbol, Any}(:style => Dict(\"display\" => \"flex\", \"flex-direction\" => \"row\")))], Dict{Symbol, Any}(:style => Dict(\"display\" => \"flex\", \"flex-direction\" => \"column\")))"
      ]
     },
     "execution_count": 24,
     "metadata": {
      "application/vnd.webio.node+json": {
       "kernelId": "ee887205-ec53-45cb-8b2e-aa981d735b89"
      }
     },
     "output_type": "execute_result"
    }
   ],
   "source": [
    "create_interactive_app(model, initialiser= initialiser!,\n",
    "    props_to_record = Dict(\"nodes\"=>Set([:color, :spin])),\n",
    "    step_rule= step_rule!,\n",
    "    model_controls=[(:temp, \"slider\", 0.05:0.05:5.0), \n",
    "        (:coupl, \"slider\", 0.01:0.1:5.0),\n",
    "        (:nns, \"slider\", 2:10)],\n",
    "    node_plots = Dict(\"magnetisation\"=> x -> x.spin),\n",
    "    frames=100) "
   ]
  },
  {
   "cell_type": "markdown",
   "metadata": {},
   "source": [
    "##### Step 4: Fetch Data \n",
    "\n",
    "In this step we fetch the data of average spin of nodes (also called magnetisation) and plot the result as follows."
   ]
  },
  {
   "cell_type": "code",
   "execution_count": 14,
   "metadata": {},
   "outputs": [
    {
     "data": {
      "image/png": "[encoded data removed]",
      "image/svg+xml": [
       "<?xml version=\"1.0\" encoding=\"utf-8\"?>\n",
       "<svg xmlns=\"http://www.w3.org/2000/svg\" xmlns:xlink=\"http://www.w3.org/1999/xlink\" width=\"600\" height=\"400\" viewBox=\"0 0 2400 1600\">\n",
       "<defs>\n",
       "  <clipPath id=\"clip930\">\n",
       "    <rect x=\"0\" y=\"0\" width=\"2400\" height=\"1600\"/>\n",
       "  </clipPath>\n",
       "</defs>\n",
       "<path clip-path=\"url(#clip930)\" d=\"M0 1600 L2400 1600 L2400 0 L0 0  Z\" fill=\"#ffffff\" fill-rule=\"evenodd\" fill-opacity=\"1\"/>\n",
       "<defs>\n",
       "  <clipPath id=\"clip931\">\n",
       "    <rect x=\"480\" y=\"0\" width=\"1681\" height=\"1600\"/>\n",
       "  </clipPath>\n",
       "</defs>\n",
       "<path clip-path=\"url(#clip930)\" d=\"M194.422 1423.18 L2352.76 1423.18 L2352.76 47.2441 L194.422 47.2441  Z\" fill=\"#ffffff\" fill-rule=\"evenodd\" fill-opacity=\"1\"/>\n",
       "<defs>\n",
       "  <clipPath id=\"clip932\">\n",
       "    <rect x=\"194\" y=\"47\" width=\"2159\" height=\"1377\"/>\n",
       "  </clipPath>\n",
       "</defs>\n",
       "<polyline clip-path=\"url(#clip932)\" style=\"stroke:#000000; stroke-linecap:round; stroke-linejoin:round; stroke-width:2; stroke-opacity:0.1; fill:none\" points=\"235.145,1423.18 235.145,47.2441 \"/>\n",
       "<polyline clip-path=\"url(#clip932)\" style=\"stroke:#000000; stroke-linecap:round; stroke-linejoin:round; stroke-width:2; stroke-opacity:0.1; fill:none\" points=\"744.186,1423.18 744.186,47.2441 \"/>\n",
       "<polyline clip-path=\"url(#clip932)\" style=\"stroke:#000000; stroke-linecap:round; stroke-linejoin:round; stroke-width:2; stroke-opacity:0.1; fill:none\" points=\"1253.23,1423.18 1253.23,47.2441 \"/>\n",
       "<polyline clip-path=\"url(#clip932)\" style=\"stroke:#000000; stroke-linecap:round; stroke-linejoin:round; stroke-width:2; stroke-opacity:0.1; fill:none\" points=\"1762.27,1423.18 1762.27,47.2441 \"/>\n",
       "<polyline clip-path=\"url(#clip932)\" style=\"stroke:#000000; stroke-linecap:round; stroke-linejoin:round; stroke-width:2; stroke-opacity:0.1; fill:none\" points=\"2271.31,1423.18 2271.31,47.2441 \"/>\n",
       "<polyline clip-path=\"url(#clip930)\" style=\"stroke:#000000; stroke-linecap:round; stroke-linejoin:round; stroke-width:4; stroke-opacity:1; fill:none\" points=\"194.422,1423.18 2352.76,1423.18 \"/>\n",
       "<polyline clip-path=\"url(#clip930)\" style=\"stroke:#000000; stroke-linecap:round; stroke-linejoin:round; stroke-width:4; stroke-opacity:1; fill:none\" points=\"235.145,1423.18 235.145,1404.28 \"/>\n",
       "<polyline clip-path=\"url(#clip930)\" style=\"stroke:#000000; stroke-linecap:round; stroke-linejoin:round; stroke-width:4; stroke-opacity:1; fill:none\" points=\"744.186,1423.18 744.186,1404.28 \"/>\n",
       "<polyline clip-path=\"url(#clip930)\" style=\"stroke:#000000; stroke-linecap:round; stroke-linejoin:round; stroke-width:4; stroke-opacity:1; fill:none\" points=\"1253.23,1423.18 1253.23,1404.28 \"/>\n",
       "<polyline clip-path=\"url(#clip930)\" style=\"stroke:#000000; stroke-linecap:round; stroke-linejoin:round; stroke-width:4; stroke-opacity:1; fill:none\" points=\"1762.27,1423.18 1762.27,1404.28 \"/>\n",
       "<polyline clip-path=\"url(#clip930)\" style=\"stroke:#000000; stroke-linecap:round; stroke-linejoin:round; stroke-width:4; stroke-opacity:1; fill:none\" points=\"2271.31,1423.18 2271.31,1404.28 \"/>\n",
       "<path clip-path=\"url(#clip930)\" d=\"M235.145 1454.1 Q231.534 1454.1 229.706 1457.66 Q227.9 1461.2 227.9 1468.33 Q227.9 1475.44 229.706 1479.01 Q231.534 1482.55 235.145 1482.55 Q238.78 1482.55 240.585 1479.01 Q242.414 1475.44 242.414 1468.33 Q242.414 1461.2 240.585 1457.66 Q238.78 1454.1 235.145 1454.1 M235.145 1450.39 Q240.956 1450.39 244.011 1455 Q247.09 1459.58 247.09 1468.33 Q247.09 1477.06 244.011 1481.67 Q240.956 1486.25 235.145 1486.25 Q229.335 1486.25 226.257 1481.67 Q223.201 1477.06 223.201 1468.33 Q223.201 1459.58 226.257 1455 Q229.335 1450.39 235.145 1450.39 Z\" fill=\"#000000\" fill-rule=\"nonzero\" fill-opacity=\"1\" /><path clip-path=\"url(#clip930)\" d=\"M723.457 1481.64 L739.777 1481.64 L739.777 1485.58 L717.832 1485.58 L717.832 1481.64 Q720.494 1478.89 725.078 1474.26 Q729.684 1469.61 730.865 1468.27 Q733.11 1465.74 733.99 1464.01 Q734.892 1462.25 734.892 1460.56 Q734.892 1457.8 732.948 1456.07 Q731.027 1454.33 727.925 1454.33 Q725.726 1454.33 723.272 1455.09 Q720.842 1455.86 718.064 1457.41 L718.064 1452.69 Q720.888 1451.55 723.342 1450.97 Q725.795 1450.39 727.832 1450.39 Q733.203 1450.39 736.397 1453.08 Q739.591 1455.77 739.591 1460.26 Q739.591 1462.39 738.781 1464.31 Q737.994 1466.2 735.888 1468.8 Q735.309 1469.47 732.207 1472.69 Q729.105 1475.88 723.457 1481.64 Z\" fill=\"#000000\" fill-rule=\"nonzero\" fill-opacity=\"1\" /><path clip-path=\"url(#clip930)\" d=\"M749.638 1451.02 L767.994 1451.02 L767.994 1454.96 L753.92 1454.96 L753.92 1463.43 Q754.939 1463.08 755.957 1462.92 Q756.976 1462.73 757.994 1462.73 Q763.781 1462.73 767.161 1465.9 Q770.54 1469.08 770.54 1474.49 Q770.54 1480.07 767.068 1483.17 Q763.596 1486.25 757.277 1486.25 Q755.101 1486.25 752.832 1485.88 Q750.587 1485.51 748.179 1484.77 L748.179 1480.07 Q750.263 1481.2 752.485 1481.76 Q754.707 1482.32 757.184 1482.32 Q761.189 1482.32 763.527 1480.21 Q765.865 1478.1 765.865 1474.49 Q765.865 1470.88 763.527 1468.77 Q761.189 1466.67 757.184 1466.67 Q755.309 1466.67 753.434 1467.08 Q751.582 1467.5 749.638 1468.38 L749.638 1451.02 Z\" fill=\"#000000\" fill-rule=\"nonzero\" fill-opacity=\"1\" /><path clip-path=\"url(#clip930)\" d=\"M1227.93 1451.02 L1246.28 1451.02 L1246.28 1454.96 L1232.21 1454.96 L1232.21 1463.43 Q1233.23 1463.08 1234.25 1462.92 Q1235.26 1462.73 1236.28 1462.73 Q1242.07 1462.73 1245.45 1465.9 Q1248.83 1469.08 1248.83 1474.49 Q1248.83 1480.07 1245.36 1483.17 Q1241.88 1486.25 1235.57 1486.25 Q1233.39 1486.25 1231.12 1485.88 Q1228.88 1485.51 1226.47 1484.77 L1226.47 1480.07 Q1228.55 1481.2 1230.77 1481.76 Q1233 1482.32 1235.47 1482.32 Q1239.48 1482.32 1241.82 1480.21 Q1244.15 1478.1 1244.15 1474.49 Q1244.15 1470.88 1241.82 1468.77 Q1239.48 1466.67 1235.47 1466.67 Q1233.6 1466.67 1231.72 1467.08 Q1229.87 1467.5 1227.93 1468.38 L1227.93 1451.02 Z\" fill=\"#000000\" fill-rule=\"nonzero\" fill-opacity=\"1\" /><path clip-path=\"url(#clip930)\" d=\"M1268.04 1454.1 Q1264.43 1454.1 1262.6 1457.66 Q1260.8 1461.2 1260.8 1468.33 Q1260.8 1475.44 1262.6 1479.01 Q1264.43 1482.55 1268.04 1482.55 Q1271.68 1482.55 1273.48 1479.01 Q1275.31 1475.44 1275.31 1468.33 Q1275.31 1461.2 1273.48 1457.66 Q1271.68 1454.1 1268.04 1454.1 M1268.04 1450.39 Q1273.85 1450.39 1276.91 1455 Q1279.99 1459.58 1279.99 1468.33 Q1279.99 1477.06 1276.91 1481.67 Q1273.85 1486.25 1268.04 1486.25 Q1262.23 1486.25 1259.15 1481.67 Q1256.1 1477.06 1256.1 1468.33 Q1256.1 1459.58 1259.15 1455 Q1262.23 1450.39 1268.04 1450.39 Z\" fill=\"#000000\" fill-rule=\"nonzero\" fill-opacity=\"1\" /><path clip-path=\"url(#clip930)\" d=\"M1736.12 1451.02 L1758.34 1451.02 L1758.34 1453.01 L1745.8 1485.58 L1740.91 1485.58 L1752.72 1454.96 L1736.12 1454.96 L1736.12 1451.02 Z\" fill=\"#000000\" fill-rule=\"nonzero\" fill-opacity=\"1\" /><path clip-path=\"url(#clip930)\" d=\"M1767.51 1451.02 L1785.87 1451.02 L1785.87 1454.96 L1771.79 1454.96 L1771.79 1463.43 Q1772.81 1463.08 1773.83 1462.92 Q1774.85 1462.73 1775.87 1462.73 Q1781.65 1462.73 1785.03 1465.9 Q1788.41 1469.08 1788.41 1474.49 Q1788.41 1480.07 1784.94 1483.17 Q1781.47 1486.25 1775.15 1486.25 Q1772.97 1486.25 1770.71 1485.88 Q1768.46 1485.51 1766.05 1484.77 L1766.05 1480.07 Q1768.14 1481.2 1770.36 1481.76 Q1772.58 1482.32 1775.06 1482.32 Q1779.06 1482.32 1781.4 1480.21 Q1783.74 1478.1 1783.74 1474.49 Q1783.74 1470.88 1781.4 1468.77 Q1779.06 1466.67 1775.06 1466.67 Q1773.18 1466.67 1771.31 1467.08 Q1769.46 1467.5 1767.51 1468.38 L1767.51 1451.02 Z\" fill=\"#000000\" fill-rule=\"nonzero\" fill-opacity=\"1\" /><path clip-path=\"url(#clip930)\" d=\"M2230.92 1481.64 L2238.55 1481.64 L2238.55 1455.28 L2230.24 1456.95 L2230.24 1452.69 L2238.51 1451.02 L2243.18 1451.02 L2243.18 1481.64 L2250.82 1481.64 L2250.82 1485.58 L2230.92 1485.58 L2230.92 1481.64 Z\" fill=\"#000000\" fill-rule=\"nonzero\" fill-opacity=\"1\" /><path clip-path=\"url(#clip930)\" d=\"M2270.27 1454.1 Q2266.66 1454.1 2264.83 1457.66 Q2263.02 1461.2 2263.02 1468.33 Q2263.02 1475.44 2264.83 1479.01 Q2266.66 1482.55 2270.27 1482.55 Q2273.9 1482.55 2275.71 1479.01 Q2277.54 1475.44 2277.54 1468.33 Q2277.54 1461.2 2275.71 1457.66 Q2273.9 1454.1 2270.27 1454.1 M2270.27 1450.39 Q2276.08 1450.39 2279.13 1455 Q2282.21 1459.58 2282.21 1468.33 Q2282.21 1477.06 2279.13 1481.67 Q2276.08 1486.25 2270.27 1486.25 Q2264.46 1486.25 2261.38 1481.67 Q2258.32 1477.06 2258.32 1468.33 Q2258.32 1459.58 2261.38 1455 Q2264.46 1450.39 2270.27 1450.39 Z\" fill=\"#000000\" fill-rule=\"nonzero\" fill-opacity=\"1\" /><path clip-path=\"url(#clip930)\" d=\"M2300.43 1454.1 Q2296.82 1454.1 2294.99 1457.66 Q2293.18 1461.2 2293.18 1468.33 Q2293.18 1475.44 2294.99 1479.01 Q2296.82 1482.55 2300.43 1482.55 Q2304.06 1482.55 2305.87 1479.01 Q2307.7 1475.44 2307.7 1468.33 Q2307.7 1461.2 2305.87 1457.66 Q2304.06 1454.1 2300.43 1454.1 M2300.43 1450.39 Q2306.24 1450.39 2309.3 1455 Q2312.37 1459.58 2312.37 1468.33 Q2312.37 1477.06 2309.3 1481.67 Q2306.24 1486.25 2300.43 1486.25 Q2294.62 1486.25 2291.54 1481.67 Q2288.49 1477.06 2288.49 1468.33 Q2288.49 1459.58 2291.54 1455 Q2294.62 1450.39 2300.43 1450.39 Z\" fill=\"#000000\" fill-rule=\"nonzero\" fill-opacity=\"1\" /><path clip-path=\"url(#clip930)\" d=\"M1210.63 1522.27 L1210.63 1532.4 L1222.7 1532.4 L1222.7 1536.95 L1210.63 1536.95 L1210.63 1556.3 Q1210.63 1560.66 1211.81 1561.9 Q1213.02 1563.14 1216.68 1563.14 L1222.7 1563.14 L1222.7 1568.04 L1216.68 1568.04 Q1209.9 1568.04 1207.32 1565.53 Q1204.74 1562.98 1204.74 1556.3 L1204.74 1536.95 L1200.45 1536.95 L1200.45 1532.4 L1204.74 1532.4 L1204.74 1522.27 L1210.63 1522.27 Z\" fill=\"#000000\" fill-rule=\"nonzero\" fill-opacity=\"1\" /><path clip-path=\"url(#clip930)\" d=\"M1230.4 1532.4 L1236.25 1532.4 L1236.25 1568.04 L1230.4 1568.04 L1230.4 1532.4 M1230.4 1518.52 L1236.25 1518.52 L1236.25 1525.93 L1230.4 1525.93 L1230.4 1518.52 Z\" fill=\"#000000\" fill-rule=\"nonzero\" fill-opacity=\"1\" /><path clip-path=\"url(#clip930)\" d=\"M1274.16 1533.76 L1274.16 1539.24 Q1271.68 1537.87 1269.16 1537.2 Q1266.68 1536.5 1264.14 1536.5 Q1258.44 1536.5 1255.29 1540.13 Q1252.14 1543.73 1252.14 1550.25 Q1252.14 1556.78 1255.29 1560.4 Q1258.44 1564 1264.14 1564 Q1266.68 1564 1269.16 1563.33 Q1271.68 1562.63 1274.16 1561.26 L1274.16 1566.68 Q1271.71 1567.82 1269.07 1568.39 Q1266.46 1568.97 1263.5 1568.97 Q1255.45 1568.97 1250.7 1563.91 Q1245.96 1558.85 1245.96 1550.25 Q1245.96 1541.53 1250.74 1536.53 Q1255.54 1531.54 1263.88 1531.54 Q1266.59 1531.54 1269.16 1532.11 Q1271.74 1532.65 1274.16 1533.76 Z\" fill=\"#000000\" fill-rule=\"nonzero\" fill-opacity=\"1\" /><path clip-path=\"url(#clip930)\" d=\"M1284.12 1518.52 L1290.01 1518.52 L1290.01 1547.77 L1307.49 1532.4 L1314.97 1532.4 L1296.06 1549.07 L1315.76 1568.04 L1308.12 1568.04 L1290.01 1550.63 L1290.01 1568.04 L1284.12 1568.04 L1284.12 1518.52 Z\" fill=\"#000000\" fill-rule=\"nonzero\" fill-opacity=\"1\" /><path clip-path=\"url(#clip930)\" d=\"M1344.82 1533.45 L1344.82 1538.98 Q1342.34 1537.71 1339.67 1537.07 Q1336.99 1536.44 1334.13 1536.44 Q1329.77 1536.44 1327.57 1537.77 Q1325.41 1539.11 1325.41 1541.79 Q1325.41 1543.82 1326.97 1545 Q1328.53 1546.15 1333.24 1547.2 L1335.24 1547.64 Q1341.48 1548.98 1344.09 1551.43 Q1346.73 1553.85 1346.73 1558.21 Q1346.73 1563.17 1342.78 1566.07 Q1338.87 1568.97 1331.99 1568.97 Q1329.13 1568.97 1326.01 1568.39 Q1322.92 1567.85 1319.49 1566.74 L1319.49 1560.69 Q1322.73 1562.38 1325.88 1563.24 Q1329.03 1564.07 1332.12 1564.07 Q1336.26 1564.07 1338.49 1562.66 Q1340.72 1561.23 1340.72 1558.65 Q1340.72 1556.27 1339.09 1554.99 Q1337.5 1553.72 1332.06 1552.54 L1330.02 1552.07 Q1324.58 1550.92 1322.16 1548.56 Q1319.74 1546.18 1319.74 1542.04 Q1319.74 1537.01 1323.31 1534.27 Q1326.87 1531.54 1333.43 1531.54 Q1336.67 1531.54 1339.54 1532.01 Q1342.4 1532.49 1344.82 1533.45 Z\" fill=\"#000000\" fill-rule=\"nonzero\" fill-opacity=\"1\" /><polyline clip-path=\"url(#clip932)\" style=\"stroke:#000000; stroke-linecap:round; stroke-linejoin:round; stroke-width:2; stroke-opacity:0.1; fill:none\" points=\"194.422,1411 2352.76,1411 \"/>\n",
       "<polyline clip-path=\"url(#clip932)\" style=\"stroke:#000000; stroke-linecap:round; stroke-linejoin:round; stroke-width:2; stroke-opacity:0.1; fill:none\" points=\"194.422,1216.18 2352.76,1216.18 \"/>\n",
       "<polyline clip-path=\"url(#clip932)\" style=\"stroke:#000000; stroke-linecap:round; stroke-linejoin:round; stroke-width:2; stroke-opacity:0.1; fill:none\" points=\"194.422,1021.35 2352.76,1021.35 \"/>\n",
       "<polyline clip-path=\"url(#clip932)\" style=\"stroke:#000000; stroke-linecap:round; stroke-linejoin:round; stroke-width:2; stroke-opacity:0.1; fill:none\" points=\"194.422,826.524 2352.76,826.524 \"/>\n",
       "<polyline clip-path=\"url(#clip932)\" style=\"stroke:#000000; stroke-linecap:round; stroke-linejoin:round; stroke-width:2; stroke-opacity:0.1; fill:none\" points=\"194.422,631.698 2352.76,631.698 \"/>\n",
       "<polyline clip-path=\"url(#clip932)\" style=\"stroke:#000000; stroke-linecap:round; stroke-linejoin:round; stroke-width:2; stroke-opacity:0.1; fill:none\" points=\"194.422,436.872 2352.76,436.872 \"/>\n",
       "<polyline clip-path=\"url(#clip932)\" style=\"stroke:#000000; stroke-linecap:round; stroke-linejoin:round; stroke-width:2; stroke-opacity:0.1; fill:none\" points=\"194.422,242.046 2352.76,242.046 \"/>\n",
       "<polyline clip-path=\"url(#clip930)\" style=\"stroke:#000000; stroke-linecap:round; stroke-linejoin:round; stroke-width:4; stroke-opacity:1; fill:none\" points=\"194.422,1423.18 194.422,47.2441 \"/>\n",
       "<polyline clip-path=\"url(#clip930)\" style=\"stroke:#000000; stroke-linecap:round; stroke-linejoin:round; stroke-width:4; stroke-opacity:1; fill:none\" points=\"194.422,1411 213.32,1411 \"/>\n",
       "<polyline clip-path=\"url(#clip930)\" style=\"stroke:#000000; stroke-linecap:round; stroke-linejoin:round; stroke-width:4; stroke-opacity:1; fill:none\" points=\"194.422,1216.18 213.32,1216.18 \"/>\n",
       "<polyline clip-path=\"url(#clip930)\" style=\"stroke:#000000; stroke-linecap:round; stroke-linejoin:round; stroke-width:4; stroke-opacity:1; fill:none\" points=\"194.422,1021.35 213.32,1021.35 \"/>\n",
       "<polyline clip-path=\"url(#clip930)\" style=\"stroke:#000000; stroke-linecap:round; stroke-linejoin:round; stroke-width:4; stroke-opacity:1; fill:none\" points=\"194.422,826.524 213.32,826.524 \"/>\n",
       "<polyline clip-path=\"url(#clip930)\" style=\"stroke:#000000; stroke-linecap:round; stroke-linejoin:round; stroke-width:4; stroke-opacity:1; fill:none\" points=\"194.422,631.698 213.32,631.698 \"/>\n",
       "<polyline clip-path=\"url(#clip930)\" style=\"stroke:#000000; stroke-linecap:round; stroke-linejoin:round; stroke-width:4; stroke-opacity:1; fill:none\" points=\"194.422,436.872 213.32,436.872 \"/>\n",
       "<polyline clip-path=\"url(#clip930)\" style=\"stroke:#000000; stroke-linecap:round; stroke-linejoin:round; stroke-width:4; stroke-opacity:1; fill:none\" points=\"194.422,242.046 213.32,242.046 \"/>\n",
       "<path clip-path=\"url(#clip930)\" d=\"M52.381 1411.45 L82.0568 1411.45 L82.0568 1415.39 L52.381 1415.39 L52.381 1411.45 Z\" fill=\"#000000\" fill-rule=\"nonzero\" fill-opacity=\"1\" /><path clip-path=\"url(#clip930)\" d=\"M102.149 1396.8 Q98.5382 1396.8 96.7095 1400.37 Q94.9039 1403.91 94.9039 1411.04 Q94.9039 1418.14 96.7095 1421.71 Q98.5382 1425.25 102.149 1425.25 Q105.783 1425.25 107.589 1421.71 Q109.418 1418.14 109.418 1411.04 Q109.418 1403.91 107.589 1400.37 Q105.783 1396.8 102.149 1396.8 M102.149 1393.1 Q107.959 1393.1 111.015 1397.7 Q114.094 1402.29 114.094 1411.04 Q114.094 1419.76 111.015 1424.37 Q107.959 1428.95 102.149 1428.95 Q96.3391 1428.95 93.2604 1424.37 Q90.2049 1419.76 90.2049 1411.04 Q90.2049 1402.29 93.2604 1397.7 Q96.3391 1393.1 102.149 1393.1 Z\" fill=\"#000000\" fill-rule=\"nonzero\" fill-opacity=\"1\" /><path clip-path=\"url(#clip930)\" d=\"M122.311 1422.4 L127.195 1422.4 L127.195 1428.28 L122.311 1428.28 L122.311 1422.4 Z\" fill=\"#000000\" fill-rule=\"nonzero\" fill-opacity=\"1\" /><path clip-path=\"url(#clip930)\" d=\"M136.2 1393.72 L158.422 1393.72 L158.422 1395.71 L145.876 1428.28 L140.992 1428.28 L152.797 1397.66 L136.2 1397.66 L136.2 1393.72 Z\" fill=\"#000000\" fill-rule=\"nonzero\" fill-opacity=\"1\" /><path clip-path=\"url(#clip930)\" d=\"M51.3162 1216.63 L80.992 1216.63 L80.992 1220.56 L51.3162 1220.56 L51.3162 1216.63 Z\" fill=\"#000000\" fill-rule=\"nonzero\" fill-opacity=\"1\" /><path clip-path=\"url(#clip930)\" d=\"M101.084 1201.98 Q97.4734 1201.98 95.6447 1205.54 Q93.8391 1209.08 93.8391 1216.21 Q93.8391 1223.32 95.6447 1226.88 Q97.4734 1230.42 101.084 1230.42 Q104.719 1230.42 106.524 1226.88 Q108.353 1223.32 108.353 1216.21 Q108.353 1209.08 106.524 1205.54 Q104.719 1201.98 101.084 1201.98 M101.084 1198.27 Q106.895 1198.27 109.95 1202.88 Q113.029 1207.46 113.029 1216.21 Q113.029 1224.94 109.95 1229.54 Q106.895 1234.13 101.084 1234.13 Q95.2743 1234.13 92.1956 1229.54 Q89.1401 1224.94 89.1401 1216.21 Q89.1401 1207.46 92.1956 1202.88 Q95.2743 1198.27 101.084 1198.27 Z\" fill=\"#000000\" fill-rule=\"nonzero\" fill-opacity=\"1\" /><path clip-path=\"url(#clip930)\" d=\"M121.246 1227.58 L126.131 1227.58 L126.131 1233.46 L121.246 1233.46 L121.246 1227.58 Z\" fill=\"#000000\" fill-rule=\"nonzero\" fill-opacity=\"1\" /><path clip-path=\"url(#clip930)\" d=\"M146.894 1214.31 Q143.746 1214.31 141.894 1216.47 Q140.066 1218.62 140.066 1222.37 Q140.066 1226.1 141.894 1228.27 Q143.746 1230.42 146.894 1230.42 Q150.043 1230.42 151.871 1228.27 Q153.723 1226.1 153.723 1222.37 Q153.723 1218.62 151.871 1216.47 Q150.043 1214.31 146.894 1214.31 M156.177 1199.66 L156.177 1203.92 Q154.417 1203.09 152.612 1202.65 Q150.83 1202.21 149.07 1202.21 Q144.441 1202.21 141.987 1205.33 Q139.556 1208.46 139.209 1214.78 Q140.575 1212.76 142.635 1211.7 Q144.695 1210.61 147.172 1210.61 Q152.38 1210.61 155.39 1213.78 Q158.422 1216.93 158.422 1222.37 Q158.422 1227.69 155.274 1230.91 Q152.126 1234.13 146.894 1234.13 Q140.899 1234.13 137.728 1229.54 Q134.556 1224.94 134.556 1216.21 Q134.556 1208.02 138.445 1203.16 Q142.334 1198.27 148.885 1198.27 Q150.644 1198.27 152.427 1198.62 Q154.232 1198.97 156.177 1199.66 Z\" fill=\"#000000\" fill-rule=\"nonzero\" fill-opacity=\"1\" /><path clip-path=\"url(#clip930)\" d=\"M52.4736 1021.8 L82.1494 1021.8 L82.1494 1025.74 L52.4736 1025.74 L52.4736 1021.8 Z\" fill=\"#000000\" fill-rule=\"nonzero\" fill-opacity=\"1\" /><path clip-path=\"url(#clip930)\" d=\"M102.242 1007.15 Q98.6308 1007.15 96.8021 1010.71 Q94.9965 1014.26 94.9965 1021.39 Q94.9965 1028.49 96.8021 1032.06 Q98.6308 1035.6 102.242 1035.6 Q105.876 1035.6 107.682 1032.06 Q109.51 1028.49 109.51 1021.39 Q109.51 1014.26 107.682 1010.71 Q105.876 1007.15 102.242 1007.15 M102.242 1003.45 Q108.052 1003.45 111.108 1008.05 Q114.186 1012.64 114.186 1021.39 Q114.186 1030.11 111.108 1034.72 Q108.052 1039.3 102.242 1039.3 Q96.4317 1039.3 93.353 1034.72 Q90.2975 1030.11 90.2975 1021.39 Q90.2975 1012.64 93.353 1008.05 Q96.4317 1003.45 102.242 1003.45 Z\" fill=\"#000000\" fill-rule=\"nonzero\" fill-opacity=\"1\" /><path clip-path=\"url(#clip930)\" d=\"M122.404 1032.75 L127.288 1032.75 L127.288 1038.63 L122.404 1038.63 L122.404 1032.75 Z\" fill=\"#000000\" fill-rule=\"nonzero\" fill-opacity=\"1\" /><path clip-path=\"url(#clip930)\" d=\"M137.519 1004.07 L155.876 1004.07 L155.876 1008.01 L141.802 1008.01 L141.802 1016.48 Q142.82 1016.13 143.839 1015.97 Q144.857 1015.78 145.876 1015.78 Q151.663 1015.78 155.042 1018.95 Q158.422 1022.13 158.422 1027.54 Q158.422 1033.12 154.95 1036.22 Q151.478 1039.3 145.158 1039.3 Q142.982 1039.3 140.714 1038.93 Q138.469 1038.56 136.061 1037.82 L136.061 1033.12 Q138.144 1034.26 140.367 1034.81 Q142.589 1035.37 145.066 1035.37 Q149.07 1035.37 151.408 1033.26 Q153.746 1031.15 153.746 1027.54 Q153.746 1023.93 151.408 1021.82 Q149.07 1019.72 145.066 1019.72 Q143.191 1019.72 141.316 1020.14 Q139.464 1020.55 137.519 1021.43 L137.519 1004.07 Z\" fill=\"#000000\" fill-rule=\"nonzero\" fill-opacity=\"1\" /><path clip-path=\"url(#clip930)\" d=\"M50.9921 826.976 L80.6679 826.976 L80.6679 830.911 L50.9921 830.911 L50.9921 826.976 Z\" fill=\"#000000\" fill-rule=\"nonzero\" fill-opacity=\"1\" /><path clip-path=\"url(#clip930)\" d=\"M100.76 812.323 Q97.1493 812.323 95.3206 815.888 Q93.515 819.43 93.515 826.559 Q93.515 833.666 95.3206 837.23 Q97.1493 840.772 100.76 840.772 Q104.395 840.772 106.2 837.23 Q108.029 833.666 108.029 826.559 Q108.029 819.43 106.2 815.888 Q104.395 812.323 100.76 812.323 M100.76 808.619 Q106.571 808.619 109.626 813.226 Q112.705 817.809 112.705 826.559 Q112.705 835.286 109.626 839.892 Q106.571 844.476 100.76 844.476 Q94.9502 844.476 91.8715 839.892 Q88.816 835.286 88.816 826.559 Q88.816 817.809 91.8715 813.226 Q94.9502 808.619 100.76 808.619 Z\" fill=\"#000000\" fill-rule=\"nonzero\" fill-opacity=\"1\" /><path clip-path=\"url(#clip930)\" d=\"M120.922 837.925 L125.807 837.925 L125.807 843.804 L120.922 843.804 L120.922 837.925 Z\" fill=\"#000000\" fill-rule=\"nonzero\" fill-opacity=\"1\" /><path clip-path=\"url(#clip930)\" d=\"M148.839 813.318 L137.033 831.767 L148.839 831.767 L148.839 813.318 M147.612 809.244 L153.492 809.244 L153.492 831.767 L158.422 831.767 L158.422 835.656 L153.492 835.656 L153.492 843.804 L148.839 843.804 L148.839 835.656 L133.237 835.656 L133.237 831.142 L147.612 809.244 Z\" fill=\"#000000\" fill-rule=\"nonzero\" fill-opacity=\"1\" /><path clip-path=\"url(#clip930)\" d=\"M52.1264 632.15 L81.8021 632.15 L81.8021 636.085 L52.1264 636.085 L52.1264 632.15 Z\" fill=\"#000000\" fill-rule=\"nonzero\" fill-opacity=\"1\" /><path clip-path=\"url(#clip930)\" d=\"M101.895 617.497 Q98.2835 617.497 96.4548 621.062 Q94.6493 624.604 94.6493 631.733 Q94.6493 638.84 96.4548 642.404 Q98.2835 645.946 101.895 645.946 Q105.529 645.946 107.334 642.404 Q109.163 638.84 109.163 631.733 Q109.163 624.604 107.334 621.062 Q105.529 617.497 101.895 617.497 M101.895 613.793 Q107.705 613.793 110.76 618.4 Q113.839 622.983 113.839 631.733 Q113.839 640.46 110.76 645.066 Q107.705 649.65 101.895 649.65 Q96.0845 649.65 93.0058 645.066 Q89.9503 640.46 89.9503 631.733 Q89.9503 622.983 93.0058 618.4 Q96.0845 613.793 101.895 613.793 Z\" fill=\"#000000\" fill-rule=\"nonzero\" fill-opacity=\"1\" /><path clip-path=\"url(#clip930)\" d=\"M122.057 643.099 L126.941 643.099 L126.941 648.978 L122.057 648.978 L122.057 643.099 Z\" fill=\"#000000\" fill-rule=\"nonzero\" fill-opacity=\"1\" /><path clip-path=\"url(#clip930)\" d=\"M151.293 630.344 Q154.649 631.062 156.524 633.33 Q158.422 635.599 158.422 638.932 Q158.422 644.048 154.904 646.849 Q151.385 649.65 144.904 649.65 Q142.728 649.65 140.413 649.21 Q138.121 648.793 135.668 647.937 L135.668 643.423 Q137.612 644.557 139.927 645.136 Q142.242 645.715 144.765 645.715 Q149.163 645.715 151.455 643.978 Q153.769 642.242 153.769 638.932 Q153.769 635.877 151.617 634.164 Q149.487 632.428 145.668 632.428 L141.64 632.428 L141.64 628.585 L145.853 628.585 Q149.302 628.585 151.13 627.219 Q152.959 625.83 152.959 623.238 Q152.959 620.576 151.061 619.164 Q149.186 617.729 145.668 617.729 Q143.746 617.729 141.547 618.145 Q139.348 618.562 136.709 619.442 L136.709 615.275 Q139.371 614.534 141.686 614.164 Q144.024 613.793 146.084 613.793 Q151.408 613.793 154.51 616.224 Q157.612 618.631 157.612 622.752 Q157.612 625.622 155.968 627.613 Q154.325 629.58 151.293 630.344 Z\" fill=\"#000000\" fill-rule=\"nonzero\" fill-opacity=\"1\" /><path clip-path=\"url(#clip930)\" d=\"M53.0754 437.324 L82.7512 437.324 L82.7512 441.259 L53.0754 441.259 L53.0754 437.324 Z\" fill=\"#000000\" fill-rule=\"nonzero\" fill-opacity=\"1\" /><path clip-path=\"url(#clip930)\" d=\"M102.844 422.671 Q99.2326 422.671 97.4039 426.236 Q95.5984 429.778 95.5984 436.907 Q95.5984 444.014 97.4039 447.578 Q99.2326 451.12 102.844 451.12 Q106.478 451.12 108.283 447.578 Q110.112 444.014 110.112 436.907 Q110.112 429.778 108.283 426.236 Q106.478 422.671 102.844 422.671 M102.844 418.967 Q108.654 418.967 111.709 423.574 Q114.788 428.157 114.788 436.907 Q114.788 445.634 111.709 450.24 Q108.654 454.824 102.844 454.824 Q97.0335 454.824 93.9549 450.24 Q90.8993 445.634 90.8993 436.907 Q90.8993 428.157 93.9549 423.574 Q97.0335 418.967 102.844 418.967 Z\" fill=\"#000000\" fill-rule=\"nonzero\" fill-opacity=\"1\" /><path clip-path=\"url(#clip930)\" d=\"M123.006 448.273 L127.89 448.273 L127.89 454.152 L123.006 454.152 L123.006 448.273 Z\" fill=\"#000000\" fill-rule=\"nonzero\" fill-opacity=\"1\" /><path clip-path=\"url(#clip930)\" d=\"M142.103 450.217 L158.422 450.217 L158.422 454.152 L136.478 454.152 L136.478 450.217 Q139.14 447.463 143.723 442.833 Q148.33 438.18 149.51 436.838 Q151.755 434.315 152.635 432.578 Q153.538 430.819 153.538 429.129 Q153.538 426.375 151.593 424.639 Q149.672 422.903 146.57 422.903 Q144.371 422.903 141.918 423.666 Q139.487 424.43 136.709 425.981 L136.709 421.259 Q139.533 420.125 141.987 419.546 Q144.441 418.967 146.478 418.967 Q151.848 418.967 155.042 421.653 Q158.237 424.338 158.237 428.828 Q158.237 430.958 157.427 432.879 Q156.64 434.778 154.533 437.37 Q153.955 438.041 150.853 441.259 Q147.751 444.453 142.103 450.217 Z\" fill=\"#000000\" fill-rule=\"nonzero\" fill-opacity=\"1\" /><path clip-path=\"url(#clip930)\" d=\"M52.7051 242.498 L82.3808 242.498 L82.3808 246.433 L52.7051 246.433 L52.7051 242.498 Z\" fill=\"#000000\" fill-rule=\"nonzero\" fill-opacity=\"1\" /><path clip-path=\"url(#clip930)\" d=\"M102.473 227.845 Q98.8622 227.845 97.0335 231.41 Q95.228 234.952 95.228 242.081 Q95.228 249.188 97.0335 252.752 Q98.8622 256.294 102.473 256.294 Q106.108 256.294 107.913 252.752 Q109.742 249.188 109.742 242.081 Q109.742 234.952 107.913 231.41 Q106.108 227.845 102.473 227.845 M102.473 224.141 Q108.283 224.141 111.339 228.748 Q114.418 233.331 114.418 242.081 Q114.418 250.808 111.339 255.414 Q108.283 259.998 102.473 259.998 Q96.6632 259.998 93.5845 255.414 Q90.529 250.808 90.529 242.081 Q90.529 233.331 93.5845 228.748 Q96.6632 224.141 102.473 224.141 Z\" fill=\"#000000\" fill-rule=\"nonzero\" fill-opacity=\"1\" /><path clip-path=\"url(#clip930)\" d=\"M122.635 253.447 L127.519 253.447 L127.519 259.326 L122.635 259.326 L122.635 253.447 Z\" fill=\"#000000\" fill-rule=\"nonzero\" fill-opacity=\"1\" /><path clip-path=\"url(#clip930)\" d=\"M138.515 255.391 L146.154 255.391 L146.154 229.026 L137.844 230.692 L137.844 226.433 L146.107 224.766 L150.783 224.766 L150.783 255.391 L158.422 255.391 L158.422 259.326 L138.515 259.326 L138.515 255.391 Z\" fill=\"#000000\" fill-rule=\"nonzero\" fill-opacity=\"1\" /><polyline clip-path=\"url(#clip932)\" style=\"stroke:#009af9; stroke-linecap:round; stroke-linejoin:round; stroke-width:4; stroke-opacity:1; fill:none\" points=\"255.507,86.1857 275.869,125.541 296.23,203.864 316.592,438.439 336.954,401.819 357.315,518.349 377.677,597.444 398.039,676.166 418.4,599.023 438.762,481.356 459.123,558.109 479.485,714.738 499.847,638.374 520.208,637.61 540.57,598.637 560.932,520.317 581.293,714.36 601.655,833.196 622.017,873.349 642.378,912.716 662.74,991.04 683.101,1069.75 703.463,1031.58 723.825,1070.16 744.186,1070.54 764.548,1148.48 784.91,1188.22 805.271,1149.66 825.633,1188.24 845.995,1188.62 866.356,1188.63 886.718,1149.66 907.079,1110.31 927.441,1109.91 947.803,1148.87 968.164,1266.16 988.526,1150.44 1008.89,1188.24 1029.25,1188.62 1049.61,1149.66 1069.97,1188.24 1090.33,1266.55 1110.7,1267.33 1131.06,1384.24 1151.42,1307.48 1171.78,1306.71 1192.14,1267.74 1212.5,1228.38 1232.87,1227.99 1253.23,1344.88 1273.59,1307.08 1293.95,1306.71 1314.31,1306.7 1334.67,1267.74 1355.04,1267.35 1375.4,1267.34 1395.76,1306.31 1416.12,1306.7 1436.48,1306.7 1456.84,1189.81 1477.21,1305.53 1497.57,1228.76 1517.93,1266.96 1538.29,1189.41 1558.65,1149.67 1579.01,1188.24 1599.38,1227.59 1619.74,1227.98 1640.1,1189.02 1660.46,1188.63 1680.82,1188.63 1701.18,1149.66 1721.55,1149.27 1741.91,1266.16 1762.27,1150.44 1782.63,1149.28 1802.99,1188.23 1823.35,1188.62 1843.71,1227.59 1864.08,1150.05 1884.44,1149.27 1904.8,1188.23 1925.16,1188.62 1945.52,1149.66 1965.88,1110.31 1986.25,1148.88 2006.61,1149.26 2026.97,1188.23 2047.33,1110.69 2067.69,1148.88 2088.05,1149.26 2108.42,1188.23 2128.78,1149.66 2149.14,1188.24 2169.5,1149.66 2189.86,1188.24 2210.22,1227.59 2230.59,1189.01 2250.95,1149.66 2271.31,1188.24 2291.67,1149.66 \"/>\n",
       "<path clip-path=\"url(#clip930)\" d=\"M1732.46 196.789 L2280.81 196.789 L2280.81 93.1086 L1732.46 93.1086  Z\" fill=\"#ffffff\" fill-rule=\"evenodd\" fill-opacity=\"1\"/>\n",
       "<polyline clip-path=\"url(#clip930)\" style=\"stroke:#000000; stroke-linecap:round; stroke-linejoin:round; stroke-width:4; stroke-opacity:1; fill:none\" points=\"1732.46,196.789 2280.81,196.789 2280.81,93.1086 1732.46,93.1086 1732.46,196.789 \"/>\n",
       "<polyline clip-path=\"url(#clip930)\" style=\"stroke:#009af9; stroke-linecap:round; stroke-linejoin:round; stroke-width:4; stroke-opacity:1; fill:none\" points=\"1756.44,144.949 1900.33,144.949 \"/>\n",
       "<path clip-path=\"url(#clip930)\" d=\"M1944.66 141.28 Q1946.25 138.409 1948.48 137.044 Q1950.7 135.678 1953.71 135.678 Q1957.76 135.678 1959.96 138.525 Q1962.16 141.349 1962.16 146.581 L1962.16 162.229 L1957.87 162.229 L1957.87 146.719 Q1957.87 142.993 1956.55 141.187 Q1955.23 139.382 1952.53 139.382 Q1949.22 139.382 1947.29 141.581 Q1945.37 143.78 1945.37 147.576 L1945.37 162.229 L1941.09 162.229 L1941.09 146.719 Q1941.09 142.969 1939.77 141.187 Q1938.45 139.382 1935.7 139.382 Q1932.43 139.382 1930.51 141.604 Q1928.59 143.803 1928.59 147.576 L1928.59 162.229 L1924.31 162.229 L1924.31 136.303 L1928.59 136.303 L1928.59 140.331 Q1930.05 137.946 1932.09 136.812 Q1934.12 135.678 1936.92 135.678 Q1939.75 135.678 1941.72 137.113 Q1943.71 138.548 1944.66 141.28 Z\" fill=\"#000000\" fill-rule=\"nonzero\" fill-opacity=\"1\" /><path clip-path=\"url(#clip930)\" d=\"M1982.43 149.196 Q1977.27 149.196 1975.28 150.377 Q1973.29 151.557 1973.29 154.405 Q1973.29 156.673 1974.77 158.016 Q1976.28 159.335 1978.85 159.335 Q1982.39 159.335 1984.52 156.835 Q1986.67 154.312 1986.67 150.145 L1986.67 149.196 L1982.43 149.196 M1990.93 147.437 L1990.93 162.229 L1986.67 162.229 L1986.67 158.293 Q1985.21 160.655 1983.04 161.789 Q1980.86 162.9 1977.71 162.9 Q1973.73 162.9 1971.37 160.678 Q1969.03 158.432 1969.03 154.682 Q1969.03 150.307 1971.95 148.085 Q1974.89 145.863 1980.7 145.863 L1986.67 145.863 L1986.67 145.446 Q1986.67 142.507 1984.72 140.909 Q1982.8 139.289 1979.31 139.289 Q1977.09 139.289 1974.98 139.821 Q1972.87 140.354 1970.93 141.419 L1970.93 137.483 Q1973.27 136.581 1975.47 136.141 Q1977.66 135.678 1979.75 135.678 Q1985.37 135.678 1988.15 138.594 Q1990.93 141.511 1990.93 147.437 Z\" fill=\"#000000\" fill-rule=\"nonzero\" fill-opacity=\"1\" /><path clip-path=\"url(#clip930)\" d=\"M2016.76 148.965 Q2016.76 144.335 2014.84 141.789 Q2012.94 139.243 2009.49 139.243 Q2006.07 139.243 2004.15 141.789 Q2002.25 144.335 2002.25 148.965 Q2002.25 153.571 2004.15 156.118 Q2006.07 158.664 2009.49 158.664 Q2012.94 158.664 2014.84 156.118 Q2016.76 153.571 2016.76 148.965 M2021.02 159.011 Q2021.02 165.631 2018.08 168.849 Q2015.14 172.09 2009.08 172.09 Q2006.83 172.09 2004.84 171.742 Q2002.85 171.418 2000.97 170.724 L2000.97 166.58 Q2002.85 167.599 2004.68 168.085 Q2006.51 168.571 2008.41 168.571 Q2012.6 168.571 2014.68 166.372 Q2016.76 164.196 2016.76 159.775 L2016.76 157.668 Q2015.44 159.96 2013.38 161.094 Q2011.32 162.229 2008.45 162.229 Q2003.68 162.229 2000.77 158.594 Q1997.85 154.96 1997.85 148.965 Q1997.85 142.946 2000.77 139.312 Q2003.68 135.678 2008.45 135.678 Q2011.32 135.678 2013.38 136.812 Q2015.44 137.946 2016.76 140.238 L2016.76 136.303 L2021.02 136.303 L2021.02 159.011 Z\" fill=\"#000000\" fill-rule=\"nonzero\" fill-opacity=\"1\" /><path clip-path=\"url(#clip930)\" d=\"M2051.34 146.581 L2051.34 162.229 L2047.09 162.229 L2047.09 146.719 Q2047.09 143.039 2045.65 141.21 Q2044.22 139.382 2041.35 139.382 Q2037.9 139.382 2035.91 141.581 Q2033.91 143.78 2033.91 147.576 L2033.91 162.229 L2029.63 162.229 L2029.63 136.303 L2033.91 136.303 L2033.91 140.331 Q2035.44 137.993 2037.5 136.835 Q2039.59 135.678 2042.29 135.678 Q2046.76 135.678 2049.05 138.456 Q2051.34 141.21 2051.34 146.581 Z\" fill=\"#000000\" fill-rule=\"nonzero\" fill-opacity=\"1\" /><path clip-path=\"url(#clip930)\" d=\"M2082.02 148.201 L2082.02 150.284 L2062.43 150.284 Q2062.71 154.682 2065.07 156.997 Q2067.46 159.289 2071.69 159.289 Q2074.15 159.289 2076.44 158.687 Q2078.75 158.085 2081.02 156.881 L2081.02 160.909 Q2078.73 161.881 2076.32 162.391 Q2073.91 162.9 2071.44 162.9 Q2065.23 162.9 2061.6 159.289 Q2057.99 155.678 2057.99 149.52 Q2057.99 143.155 2061.41 139.428 Q2064.86 135.678 2070.7 135.678 Q2075.93 135.678 2078.96 139.057 Q2082.02 142.414 2082.02 148.201 M2077.76 146.951 Q2077.71 143.456 2075.79 141.372 Q2073.89 139.289 2070.74 139.289 Q2067.18 139.289 2065.03 141.303 Q2062.9 143.317 2062.57 146.974 L2077.76 146.951 Z\" fill=\"#000000\" fill-rule=\"nonzero\" fill-opacity=\"1\" /><path clip-path=\"url(#clip930)\" d=\"M2093.22 128.942 L2093.22 136.303 L2101.99 136.303 L2101.99 139.613 L2093.22 139.613 L2093.22 153.687 Q2093.22 156.858 2094.08 157.761 Q2094.96 158.664 2097.62 158.664 L2101.99 158.664 L2101.99 162.229 L2097.62 162.229 Q2092.69 162.229 2090.81 160.4 Q2088.94 158.548 2088.94 153.687 L2088.94 139.613 L2085.81 139.613 L2085.81 136.303 L2088.94 136.303 L2088.94 128.942 L2093.22 128.942 Z\" fill=\"#000000\" fill-rule=\"nonzero\" fill-opacity=\"1\" /><path clip-path=\"url(#clip930)\" d=\"M2107.59 136.303 L2111.85 136.303 L2111.85 162.229 L2107.59 162.229 L2107.59 136.303 M2107.59 126.21 L2111.85 126.21 L2111.85 131.604 L2107.59 131.604 L2107.59 126.21 Z\" fill=\"#000000\" fill-rule=\"nonzero\" fill-opacity=\"1\" /><path clip-path=\"url(#clip930)\" d=\"M2137.29 137.067 L2137.29 141.094 Q2135.49 140.169 2133.54 139.706 Q2131.6 139.243 2129.52 139.243 Q2126.34 139.243 2124.75 140.215 Q2123.17 141.187 2123.17 143.131 Q2123.17 144.613 2124.31 145.469 Q2125.44 146.303 2128.87 147.067 L2130.33 147.391 Q2134.86 148.363 2136.76 150.145 Q2138.68 151.905 2138.68 155.076 Q2138.68 158.687 2135.81 160.793 Q2132.96 162.9 2127.96 162.9 Q2125.88 162.9 2123.61 162.483 Q2121.37 162.09 2118.87 161.28 L2118.87 156.881 Q2121.23 158.108 2123.52 158.733 Q2125.81 159.335 2128.06 159.335 Q2131.07 159.335 2132.69 158.317 Q2134.31 157.275 2134.31 155.4 Q2134.31 153.664 2133.13 152.738 Q2131.97 151.812 2128.01 150.956 L2126.53 150.608 Q2122.57 149.775 2120.81 148.062 Q2119.05 146.326 2119.05 143.317 Q2119.05 139.659 2121.65 137.669 Q2124.24 135.678 2129.01 135.678 Q2131.37 135.678 2133.45 136.025 Q2135.53 136.372 2137.29 137.067 Z\" fill=\"#000000\" fill-rule=\"nonzero\" fill-opacity=\"1\" /><path clip-path=\"url(#clip930)\" d=\"M2157.25 149.196 Q2152.09 149.196 2150.09 150.377 Q2148.1 151.557 2148.1 154.405 Q2148.1 156.673 2149.59 158.016 Q2151.09 159.335 2153.66 159.335 Q2157.2 159.335 2159.33 156.835 Q2161.48 154.312 2161.48 150.145 L2161.48 149.196 L2157.25 149.196 M2165.74 147.437 L2165.74 162.229 L2161.48 162.229 L2161.48 158.293 Q2160.02 160.655 2157.85 161.789 Q2155.67 162.9 2152.52 162.9 Q2148.54 162.9 2146.18 160.678 Q2143.84 158.432 2143.84 154.682 Q2143.84 150.307 2146.76 148.085 Q2149.7 145.863 2155.51 145.863 L2161.48 145.863 L2161.48 145.446 Q2161.48 142.507 2159.54 140.909 Q2157.62 139.289 2154.12 139.289 Q2151.9 139.289 2149.79 139.821 Q2147.69 140.354 2145.74 141.419 L2145.74 137.483 Q2148.08 136.581 2150.28 136.141 Q2152.48 135.678 2154.56 135.678 Q2160.19 135.678 2162.96 138.594 Q2165.74 141.511 2165.74 147.437 Z\" fill=\"#000000\" fill-rule=\"nonzero\" fill-opacity=\"1\" /><path clip-path=\"url(#clip930)\" d=\"M2178.73 128.942 L2178.73 136.303 L2187.5 136.303 L2187.5 139.613 L2178.73 139.613 L2178.73 153.687 Q2178.73 156.858 2179.59 157.761 Q2180.46 158.664 2183.13 158.664 L2187.5 158.664 L2187.5 162.229 L2183.13 162.229 Q2178.2 162.229 2176.32 160.4 Q2174.45 158.548 2174.45 153.687 L2174.45 139.613 L2171.32 139.613 L2171.32 136.303 L2174.45 136.303 L2174.45 128.942 L2178.73 128.942 Z\" fill=\"#000000\" fill-rule=\"nonzero\" fill-opacity=\"1\" /><path clip-path=\"url(#clip930)\" d=\"M2193.1 136.303 L2197.36 136.303 L2197.36 162.229 L2193.1 162.229 L2193.1 136.303 M2193.1 126.21 L2197.36 126.21 L2197.36 131.604 L2193.1 131.604 L2193.1 126.21 Z\" fill=\"#000000\" fill-rule=\"nonzero\" fill-opacity=\"1\" /><path clip-path=\"url(#clip930)\" d=\"M2216.32 139.289 Q2212.9 139.289 2210.9 141.974 Q2208.91 144.636 2208.91 149.289 Q2208.91 153.942 2210.88 156.627 Q2212.87 159.289 2216.32 159.289 Q2219.72 159.289 2221.71 156.604 Q2223.71 153.918 2223.71 149.289 Q2223.71 144.682 2221.71 141.997 Q2219.72 139.289 2216.32 139.289 M2216.32 135.678 Q2221.88 135.678 2225.05 139.289 Q2228.22 142.9 2228.22 149.289 Q2228.22 155.655 2225.05 159.289 Q2221.88 162.9 2216.32 162.9 Q2210.74 162.9 2207.57 159.289 Q2204.42 155.655 2204.42 149.289 Q2204.42 142.9 2207.57 139.289 Q2210.74 135.678 2216.32 135.678 Z\" fill=\"#000000\" fill-rule=\"nonzero\" fill-opacity=\"1\" /><path clip-path=\"url(#clip930)\" d=\"M2256.83 146.581 L2256.83 162.229 L2252.57 162.229 L2252.57 146.719 Q2252.57 143.039 2251.14 141.21 Q2249.7 139.382 2246.83 139.382 Q2243.38 139.382 2241.39 141.581 Q2239.4 143.78 2239.4 147.576 L2239.4 162.229 L2235.12 162.229 L2235.12 136.303 L2239.4 136.303 L2239.4 140.331 Q2240.93 137.993 2242.99 136.835 Q2245.07 135.678 2247.78 135.678 Q2252.25 135.678 2254.54 138.456 Q2256.83 141.21 2256.83 146.581 Z\" fill=\"#000000\" fill-rule=\"nonzero\" fill-opacity=\"1\" /></svg>\n"
      ],
      "text/html": [
       "<img src=\"data:image/png;base64,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\" />"
      ]
     },
     "metadata": {},
     "output_type": "display_data"
    },
    {
     "data": {
      "text/html": [
       "<div><div style = \"float: left;\"><span>101×1 DataFrame</span></div><div style = \"float: right;\"><span style = \"font-style: italic;\">76 rows omitted</span></div><div style = \"clear: both;\"></div></div><div class = \"data-frame\" style = \"overflow-x: scroll;\"><table class = \"data-frame\" style = \"margin-bottom: 6px;\"><thead><tr class = \"header\"><th class = \"rowNumber\" style = \"font-weight: bold; text-align: right;\">Row</th><th style = \"text-align: left;\">magnetisation</th></tr><tr class = \"subheader headerLastRow\"><th class = \"rowNumber\" style = \"font-weight: bold; text-align: right;\"></th><th title = \"Float64\" style = \"text-align: left;\">Float64</th></tr></thead><tbody><tr><td class = \"rowNumber\" style = \"font-weight: bold; text-align: right;\">1</td><td style = \"text-align: right;\">-0.02</td></tr><tr><td class = \"rowNumber\" style = \"font-weight: bold; text-align: right;\">2</td><td style = \"text-align: right;\">-0.0402</td></tr><tr><td class = \"rowNumber\" style = \"font-weight: bold; text-align: right;\">3</td><td style = \"text-align: right;\">-0.080402</td></tr><tr><td class = \"rowNumber\" style = \"font-weight: bold; text-align: right;\">4</td><td style = \"text-align: right;\">-0.200804</td></tr><tr><td class = \"rowNumber\" style = \"font-weight: bold; text-align: right;\">5</td><td style = \"text-align: right;\">-0.182008</td></tr><tr><td class = \"rowNumber\" style = \"font-weight: bold; text-align: right;\">6</td><td style = \"text-align: right;\">-0.24182</td></tr><tr><td class = \"rowNumber\" style = \"font-weight: bold; text-align: right;\">7</td><td style = \"text-align: right;\">-0.282418</td></tr><tr><td class = \"rowNumber\" style = \"font-weight: bold; text-align: right;\">8</td><td style = \"text-align: right;\">-0.322824</td></tr><tr><td class = \"rowNumber\" style = \"font-weight: bold; text-align: right;\">9</td><td style = \"text-align: right;\">-0.283228</td></tr><tr><td class = \"rowNumber\" style = \"font-weight: bold; text-align: right;\">10</td><td style = \"text-align: right;\">-0.222832</td></tr><tr><td class = \"rowNumber\" style = \"font-weight: bold; text-align: right;\">11</td><td style = \"text-align: right;\">-0.262228</td></tr><tr><td class = \"rowNumber\" style = \"font-weight: bold; text-align: right;\">12</td><td style = \"text-align: right;\">-0.342622</td></tr><tr><td class = \"rowNumber\" style = \"font-weight: bold; text-align: right;\">13</td><td style = \"text-align: right;\">-0.303426</td></tr><tr><td style = \"text-align: right;\">&vellip;</td><td style = \"text-align: right;\">&vellip;</td></tr><tr><td class = \"rowNumber\" style = \"font-weight: bold; text-align: right;\">90</td><td style = \"text-align: right;\">-0.565459</td></tr><tr><td class = \"rowNumber\" style = \"font-weight: bold; text-align: right;\">91</td><td style = \"text-align: right;\">-0.565655</td></tr><tr><td class = \"rowNumber\" style = \"font-weight: bold; text-align: right;\">92</td><td style = \"text-align: right;\">-0.585657</td></tr><tr><td class = \"rowNumber\" style = \"font-weight: bold; text-align: right;\">93</td><td style = \"text-align: right;\">-0.565857</td></tr><tr><td class = \"rowNumber\" style = \"font-weight: bold; text-align: right;\">94</td><td style = \"text-align: right;\">-0.585659</td></tr><tr><td class = \"rowNumber\" style = \"font-weight: bold; text-align: right;\">95</td><td style = \"text-align: right;\">-0.565857</td></tr><tr><td class = \"rowNumber\" style = \"font-weight: bold; text-align: right;\">96</td><td style = \"text-align: right;\">-0.585659</td></tr><tr><td class = \"rowNumber\" style = \"font-weight: bold; text-align: right;\">97</td><td style = \"text-align: right;\">-0.605857</td></tr><tr><td class = \"rowNumber\" style = \"font-weight: bold; text-align: right;\">98</td><td style = \"text-align: right;\">-0.586059</td></tr><tr><td class = \"rowNumber\" style = \"font-weight: bold; text-align: right;\">99</td><td style = \"text-align: right;\">-0.565861</td></tr><tr><td class = \"rowNumber\" style = \"font-weight: bold; text-align: right;\">100</td><td style = \"text-align: right;\">-0.585659</td></tr><tr><td class = \"rowNumber\" style = \"font-weight: bold; text-align: right;\">101</td><td style = \"text-align: right;\">-0.565857</td></tr></tbody></table></div>"
      ],
      "text/latex": [
       "\\begin{tabular}{r|c}\n",
       "\t& magnetisation\\\\\n",
       "\t\\hline\n",
       "\t& Float64\\\\\n",
       "\t\\hline\n",
       "\t1 & -0.02 \\\\\n",
       "\t2 & -0.0402 \\\\\n",
       "\t3 & -0.080402 \\\\\n",
       "\t4 & -0.200804 \\\\\n",
       "\t5 & -0.182008 \\\\\n",
       "\t6 & -0.24182 \\\\\n",
       "\t7 & -0.282418 \\\\\n",
       "\t8 & -0.322824 \\\\\n",
       "\t9 & -0.283228 \\\\\n",
       "\t10 & -0.222832 \\\\\n",
       "\t11 & -0.262228 \\\\\n",
       "\t12 & -0.342622 \\\\\n",
       "\t13 & -0.303426 \\\\\n",
       "\t14 & -0.303034 \\\\\n",
       "\t15 & -0.28303 \\\\\n",
       "\t16 & -0.24283 \\\\\n",
       "\t17 & -0.342428 \\\\\n",
       "\t18 & -0.403424 \\\\\n",
       "\t19 & -0.424034 \\\\\n",
       "\t20 & -0.44424 \\\\\n",
       "\t21 & -0.484442 \\\\\n",
       "\t22 & -0.524844 \\\\\n",
       "\t23 & -0.505248 \\\\\n",
       "\t24 & -0.525052 \\\\\n",
       "\t25 & -0.525251 \\\\\n",
       "\t26 & -0.565253 \\\\\n",
       "\t27 & -0.585653 \\\\\n",
       "\t28 & -0.565857 \\\\\n",
       "\t29 & -0.585659 \\\\\n",
       "\t30 & -0.585857 \\\\\n",
       "\t$\\dots$ & $\\dots$ \\\\\n",
       "\\end{tabular}\n"
      ],
      "text/plain": [
       "\u001b[1m101×1 DataFrame\u001b[0m\n",
       "\u001b[1m Row \u001b[0m│\u001b[1m magnetisation \u001b[0m\n",
       "     │\u001b[90m Float64       \u001b[0m\n",
       "─────┼───────────────\n",
       "   1 │     -0.02\n",
       "   2 │     -0.0402\n",
       "   3 │     -0.080402\n",
       "   4 │     -0.200804\n",
       "   5 │     -0.182008\n",
       "   6 │     -0.24182\n",
       "   7 │     -0.282418\n",
       "   8 │     -0.322824\n",
       "   9 │     -0.283228\n",
       "  10 │     -0.222832\n",
       "  11 │     -0.262228\n",
       "  ⋮  │       ⋮\n",
       "  92 │     -0.585657\n",
       "  93 │     -0.565857\n",
       "  94 │     -0.585659\n",
       "  95 │     -0.565857\n",
       "  96 │     -0.585659\n",
       "  97 │     -0.605857\n",
       "  98 │     -0.586059\n",
       "  99 │     -0.565861\n",
       " 100 │     -0.585659\n",
       " 101 │     -0.565857\n",
       "\u001b[36m      80 rows omitted\u001b[0m"
      ]
     },
     "execution_count": 14,
     "metadata": {},
     "output_type": "execute_result"
    }
   ],
   "source": [
    "df = get_nodes_avg_props(model, node -> node.spin, labels=[\"magnetisation\"], plot_result = true)"
   ]
  },
  {
   "cell_type": "code",
   "execution_count": null,
   "metadata": {},
   "outputs": [],
   "source": []
  }
 ],
 "metadata": {
  "@webio": {
   "lastCommId": "8ef776701ba84d348b6045cf11c4c9e9",
   "lastKernelId": "ee887205-ec53-45cb-8b2e-aa981d735b89"
  },
  "kernelspec": {
   "display_name": "Julia 1.9.2",
   "language": "julia",
   "name": "julia-1.9"
  },
  "language_info": {
   "file_extension": ".jl",
   "mimetype": "application/julia",
   "name": "julia",
   "version": "1.9.2"
  }
 },
 "nbformat": 4,
 "nbformat_minor": 4
}
